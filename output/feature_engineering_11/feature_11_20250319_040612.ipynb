{
 "cells": [
  {
   "cell_type": "code",
   "execution_count": 1,
   "id": "3a562816",
   "metadata": {
    "execution": {
     "iopub.execute_input": "2025-03-18T19:06:14.545687Z",
     "iopub.status.busy": "2025-03-18T19:06:14.545687Z",
     "iopub.status.idle": "2025-03-18T19:06:14.552338Z",
     "shell.execute_reply": "2025-03-18T19:06:14.551491Z"
    },
    "papermill": {
     "duration": 0.014087,
     "end_time": "2025-03-18T19:06:14.552338",
     "exception": false,
     "start_time": "2025-03-18T19:06:14.538251",
     "status": "completed"
    },
    "tags": [
     "parameters"
    ]
   },
   "outputs": [],
   "source": [
    "# Parameters\n",
    "EXP_NUM = \"default\"       # papermillで上書き可能\n",
    "PREDICT_YEAR = None       # papermillで上書きされなければYAMLから取得する"
   ]
  },
  {
   "cell_type": "code",
   "execution_count": 2,
   "id": "1a2933f9",
   "metadata": {
    "execution": {
     "iopub.execute_input": "2025-03-18T19:06:14.552338Z",
     "iopub.status.busy": "2025-03-18T19:06:14.552338Z",
     "iopub.status.idle": "2025-03-18T19:06:14.571690Z",
     "shell.execute_reply": "2025-03-18T19:06:14.570680Z"
    },
    "papermill": {
     "duration": 0.021451,
     "end_time": "2025-03-18T19:06:14.573789",
     "exception": false,
     "start_time": "2025-03-18T19:06:14.552338",
     "status": "completed"
    },
    "tags": [
     "injected-parameters"
    ]
   },
   "outputs": [],
   "source": [
    "# Parameters\n",
    "EXP_NUM = \"feature_11\"\n",
    "PREDICT_YEAR = 2019\n"
   ]
  },
  {
   "cell_type": "markdown",
   "id": "3b7505c9",
   "metadata": {
    "papermill": {
     "duration": 0.0,
     "end_time": "2025-03-18T19:06:14.575788",
     "exception": false,
     "start_time": "2025-03-18T19:06:14.575788",
     "status": "completed"
    },
    "tags": []
   },
   "source": [
    "# 2023 1st place solution\n",
    "[kaggle notebook](https://www.kaggle.com/code/rustyb/paris-madness-2023#Load-the-data!)"
   ]
  },
  {
   "cell_type": "markdown",
   "id": "e116d4eb",
   "metadata": {
    "papermill": {
     "duration": 0.0,
     "end_time": "2025-03-18T19:06:14.588701",
     "exception": false,
     "start_time": "2025-03-18T19:06:14.588701",
     "status": "completed"
    },
    "tags": []
   },
   "source": [
    "# コードの流れ\n",
    "1. hydraからハイパラ取得し、パスなどを設定\n",
    "\n",
    "    regular&tourney Detaile Result, Seedを使用し、tourneyを目的変数としてモデルを予測していく\n",
    "\n",
    "    regular_data->season_statistics->\n",
    "\n",
    "    以下の前処理をする\n",
    "\n",
    "2. データ２倍にかさまし\n",
    "3. regularに対して特徴量の追加\n",
    "    各チームごとに加えるもの\n",
    "   - EFFG: フィールドゴール成功率\n",
    "   - EFFG3: フィールドゴール3p成功率\n",
    "   - DARE: フィールドゴールにおける3P率\n",
    "   - \"win\"を目的変数とする(Team, Season)のロジスティック回帰した各係数\n",
    "    対戦カードごとに加える特徴量\n",
    "    - PointDiff: ポイント差\n",
    "    - win: 1 if PointDiff>0 else 0\n",
    "4. (Team, Season)ごとに特徴量season_statixtics追加\n",
    "    - win_ratio_14d\n",
    "    - box score mean\n",
    "    - quality\n",
    "    - seed\n",
    "5. season_average.enabled=trueなら直近３シーズンの加重平均の処理加える\n",
    "6. tourneyをteamID, Season, score(y)のみ取り出してこれに対してseason_statisticsの結合と特徴量微調整\n",
    "   - seed->seeddiff\n",
    "   - fillna()\n",
    "\n",
    "7. モデル構築\n",
    "8. KFOLD->OOF予測->spline曲線求めてlogloss算出\n",
    "    - KFOLDによる交差検証（CV）\n",
    "        repeat_cv 回のループで、各反復ごとにKFold（folds_splits個）によりデータを分割し、XGBoostのCVを実行しています。\n",
    "        各foldでの結果（例えば、訓練MAE、検証MAEの平均値や標準偏差）がcv_resultとして得られ、それをxgb_cvリストに格納します。\n",
    "        この段階で重要なのは、各反復での検証用MAEの平均値 (test-mae-mean) の最小値と、そのときのブーストラウンド数です。\n",
    "        それらは後で、最適なイテレーション数 (iteration_counts) として計算され、val_mae にも格納されます。\n",
    "    - OOF予測の流れ\n",
    "\n",
    "        各反復ごとに、新たなKFoldを用いてデータを分割。\n",
    "        各foldごとに、学習データでモデルを訓練し、検証データに対して予測を実施。\n",
    "        すべてのfold分の予測結果を1つの予測配列にまとめ、最後に -30～30 の範囲にクリップしています。\n",
    "        重要な結果\n",
    "\n",
    "        OOF予測結果（oof_preds）自体は後段で別途評価指標に使用できるほか、各反復ごとの予測精度や誤差を算出する際の基礎データ\n",
    "9.  提出フェーズ\n",
    "    - 最適paramで全データ使って訓練\n",
    "    - 提出試合の予測"
   ]
  },
  {
   "cell_type": "markdown",
   "id": "24db6cb6",
   "metadata": {
    "papermill": {
     "duration": 0.01747,
     "end_time": "2025-03-18T19:06:14.606171",
     "exception": false,
     "start_time": "2025-03-18T19:06:14.588701",
     "status": "completed"
    },
    "tags": []
   },
   "source": [
    "memo\n",
    "\n",
    "欠損値が発生していいのか検討して保管について考える\n",
    "seedがかけているのはregularに対してseedを与えているから大丈夫。最終的なtourneyには欠損０で追加できているから問題ない"
   ]
  },
  {
   "cell_type": "code",
   "execution_count": 3,
   "id": "f2343686",
   "metadata": {
    "execution": {
     "iopub.execute_input": "2025-03-18T19:06:14.619950Z",
     "iopub.status.busy": "2025-03-18T19:06:14.619950Z",
     "iopub.status.idle": "2025-03-18T19:06:17.242836Z",
     "shell.execute_reply": "2025-03-18T19:06:17.242836Z"
    },
    "papermill": {
     "duration": 2.636665,
     "end_time": "2025-03-18T19:06:17.242836",
     "exception": false,
     "start_time": "2025-03-18T19:06:14.606171",
     "status": "completed"
    },
    "tags": []
   },
   "outputs": [
    {
     "name": "stderr",
     "output_type": "stream",
     "text": [
      "C:\\Users\\81809\\anaconda3\\envs\\deep_learning_pytorch\\Lib\\site-packages\\tqdm\\auto.py:21: TqdmWarning: IProgress not found. Please update jupyter and ipywidgets. See https://ipywidgets.readthedocs.io/en/stable/user_install.html\n",
      "  from .autonotebook import tqdm as notebook_tqdm\n"
     ]
    },
    {
     "name": "stdout",
     "output_type": "stream",
     "text": [
      "feature_11\n",
      "Omega conf is below\n",
      "dir:\n",
      "  input_dir: ../input\n",
      "  output_dir: ../output\n",
      "  src_path: ../src\n",
      "  conf_path: ../conf\n",
      "exp:\n",
      "  name: feature_engineering_11\n",
      "  print_name: 'best model (3/18): extract feature '\n",
      "  tournament:\n",
      "    use_start_season: 1985\n",
      "    target_season: 2019\n",
      "  features:\n",
      "    cal_mean_boxscore:\n",
      "      T1_Score: true\n",
      "      T2_Score: true\n",
      "      PointDiff: true\n",
      "      T1_FGA: true\n",
      "      T2_FGA: true\n",
      "      T1_FGA3: false\n",
      "      T2_FGA3: false\n",
      "      T1_FGM: true\n",
      "      T2_FGM: true\n",
      "      T1_FGM3: false\n",
      "      T2_FGM3: false\n",
      "      T1_FTM: false\n",
      "      T2_FTM: false\n",
      "      T1_FTA: false\n",
      "      T2_FTA: false\n",
      "      T1_EFFG: false\n",
      "      T2_EFFG: false\n",
      "      T1_EFFG3: false\n",
      "      T2_EFFG3: false\n",
      "      T1_EFG_SUM: true\n",
      "      T2_EFG_SUM: true\n",
      "      T1_TO_RATIO: true\n",
      "      T2_TO_RATIO: true\n",
      "      T1_OR: true\n",
      "      T2_OR: true\n",
      "      T1_DR: true\n",
      "      T2_DR: true\n",
      "      T1_REB_RATE: true\n",
      "      T2_REB_RATE: true\n",
      "      T1_FT_RATE: true\n",
      "      T2_FT_RATE: true\n",
      "      T1_RATING: false\n",
      "      T2_RATING: false\n",
      "      T1_POSS_RATE: true\n",
      "      T2_POSS_RATE: true\n",
      "      T1_Ast: true\n",
      "      T2_Ast: true\n",
      "      T1_TO: true\n",
      "      T2_TO: true\n",
      "      T1_Stl: true\n",
      "      T2_Stl: true\n",
      "      T1_Blk: true\n",
      "      T2_Blk: true\n",
      "      T1_PF: true\n",
      "      T2_PF: true\n",
      "      T1_DARE: false\n",
      "      T2_DARE: false\n",
      "      T1_TOQUETOQUE: false\n",
      "      T2_TOQUETOQUE: false\n",
      "    rank_diff: true\n",
      "    T1_FGAdiff: false\n",
      "    T2_FFGAdiff: false\n",
      "    start_quality_season: 2003\n",
      "    dropfeatures:\n",
      "    - T1_TOmean\n",
      "    - T2_TOmean\n",
      "    - T1_opponent_POSS_RATEmean\n",
      "    - T2_opponent_POSS_RATEmean\n",
      "    - T1_opponent_Astmean\n",
      "    - T2_opponent_Astmean\n",
      "    - T1_opponent_FT_RATEmean\n",
      "    - T2_opponent_FT_RATEmean\n",
      "    - T1_opponent_Stlmean\n",
      "    - T2_opponent_Stlmean\n",
      "    - T1_ORmean\n",
      "    - T2_ORmean\n",
      "    - T1_opponent_ORmean\n",
      "    - T2_opponent_ORmean\n",
      "    season_average:\n",
      "      enabled: false\n",
      "      past_years: 3\n",
      "      weights:\n",
      "      - 1\n",
      "      - 2\n",
      "      - 3\n",
      "    fillna:\n",
      "      quality: 'nan'\n",
      "  model:\n",
      "    repeat_cv: 10\n",
      "    optuna_enabled: false\n",
      "    test_reverse: false\n",
      "    xgb_model:\n",
      "      param:\n",
      "        eval_metric: rmse\n",
      "        booster: gbtree\n",
      "        eta: 0.02\n",
      "        subsample: 0.35\n",
      "        colsample_bytree: 0.7\n",
      "        num_parallel_tree: 10\n",
      "        min_child_weight: 40\n",
      "        gamma: 10\n",
      "        max_depth: 3\n",
      "      obj: cauchyoj\n",
      "      num_boost_round: 3000\n",
      "      folds_splits: 5\n",
      "      early_stopping_rounds: 25\n",
      "      optuna:\n",
      "        max_depth:\n",
      "        - 3\n",
      "        - 7\n",
      "        eta:\n",
      "        - 0.001\n",
      "        - 0.03\n",
      "        subsample:\n",
      "        - 0.2\n",
      "        - 0.5\n",
      "        colsample_bytree:\n",
      "        - 0.5\n",
      "        - 1.0\n",
      "        num_parallel_tree:\n",
      "        - 7\n",
      "        - 12\n",
      "        min_child_weight:\n",
      "        - 30\n",
      "        - 50\n",
      "        reg_alpha:\n",
      "        - 0.0\n",
      "        - 1.0\n",
      "        reg_lambda:\n",
      "        - 0.0\n",
      "        - 1.0\n",
      "        gamma:\n",
      "        - 0\n",
      "        - 10\n",
      "        n_trials: 1000\n",
      "        timeout: 28800\n",
      "        n_jobs: -1\n",
      "        n_warmup_steps: 3\n",
      "    spline: logistic\n",
      "  hand_labeling: null\n",
      "\n"
     ]
    }
   ],
   "source": [
    "\n",
    "import os\n",
    "import sys\n",
    "from pathlib import Path\n",
    "import collections\n",
    "from datetime import datetime\n",
    "import shutil\n",
    "import yaml\n",
    "from tqdm import tqdm\n",
    "import time\n",
    "import optuna\n",
    "from loguru import logger\n",
    "import collections\n",
    "\n",
    "from hydra import initialize, initialize_config_module, initialize_config_dir, compose\n",
    "from omegaconf import OmegaConf\n",
    "\n",
    "import numpy as np\n",
    "import pandas as pd\n",
    "import matplotlib.pyplot as plt\n",
    "import seaborn as sns\n",
    "from scipy.interpolate import UnivariateSpline\n",
    "\n",
    "import xgboost as xgb\n",
    "from xgboost import XGBRegressor\n",
    "from sklearn.model_selection import KFold\n",
    "from sklearn.calibration import calibration_curve\n",
    "from sklearn.metrics import log_loss,mean_squared_error, mean_absolute_error, roc_auc_score, average_precision_score\n",
    "from sklearn.metrics import make_scorer\n",
    "from sklearn.model_selection import cross_val_score, KFold\n",
    "from sklearn.linear_model import LogisticRegression\n",
    "from sklearn.preprocessing import OneHotEncoder\n",
    "from sklearn.isotonic import IsotonicRegression\n",
    "\n",
    "import statsmodels.api as sm\n",
    "\n",
    "START_TIME = time.time()\n",
    "\n",
    "\n",
    "#####\n",
    "#EXP_NUM = \"test\"\n",
    "#####\n",
    "print(EXP_NUM)\n",
    "\n",
    "# hydraの初期設定と指定ハイパラの取得\n",
    "sys.path.append(os.path.abspath(\"/workspace\"))\n",
    "sys.path.append(\"C:\\\\Users\\\\81809\\\\Documents\\\\ALL_CODE\\\\kaggle\\\\March Machine Learning Mania 2025\")\n",
    "with initialize_config_module(version_base=None, config_module=\"conf\"):\n",
    "    cfg = compose(\n",
    "        config_name=\"base.yaml\",\n",
    "        overrides=[\n",
    "            f\"+exp={EXP_NUM}\" #defaultexp001->exp002のオーバーライド\n",
    "        ],\n",
    "    )\n",
    "    \n",
    "    OmegaConf.resolve(cfg)\n",
    "    print(\"Omega conf is below\")\n",
    "    print(OmegaConf.to_yaml(cfg))\n"
   ]
  },
  {
   "cell_type": "code",
   "execution_count": 4,
   "id": "29ba3525",
   "metadata": {
    "execution": {
     "iopub.execute_input": "2025-03-18T19:06:17.256246Z",
     "iopub.status.busy": "2025-03-18T19:06:17.256246Z",
     "iopub.status.idle": "2025-03-18T19:06:17.276725Z",
     "shell.execute_reply": "2025-03-18T19:06:17.276725Z"
    },
    "papermill": {
     "duration": 0.026288,
     "end_time": "2025-03-18T19:06:17.276725",
     "exception": false,
     "start_time": "2025-03-18T19:06:17.250437",
     "status": "completed"
    },
    "tags": []
   },
   "outputs": [
    {
     "name": "stdout",
     "output_type": "stream",
     "text": [
      "2019\n",
      "########\n",
      "output dir name: feature_engineering_11\n",
      "Run on 2025-03-19 04:06:17.261474\n",
      "best model (3/18): extract feature \n",
      "########\n"
     ]
    }
   ],
   "source": [
    "if PREDICT_YEAR is None:\n",
    "    PREDICT_YEAR = cfg.exp.tournament.target_season\n",
    "print(PREDICT_YEAR)\n",
    "name = f\"{cfg.exp.name}\"\n",
    "now = str(datetime.now())\n",
    "print(\"########\")\n",
    "print(f\"output dir name: {name}\")\n",
    "print(f\"Run on {now}\")\n",
    "print(cfg.exp.print_name)\n",
    "print(\"########\")\n",
    "\n",
    "BASE_DIR = os.path.abspath(os.path.join(os.getcwd(), \"..\"))\n",
    "CONF_PATH = os.path.join(BASE_DIR, \"conf\")\n",
    "INPUT_PATH = os.path.join(BASE_DIR, \"input\")\n",
    "EXP_PATH = os.path.join(CONF_PATH, \"exp\", f\"{EXP_NUM}.yaml\")\n",
    "OUTPUT_PATH = os.path.join(BASE_DIR, \"output\", name)\n",
    "SRC_PATH = cfg.dir.src_path\n",
    "sys.path.append(SRC_PATH)\n",
    "\n",
    "os.makedirs(OUTPUT_PATH, exist_ok=True)  \n",
    "with open(EXP_PATH, \"r\", encoding=\"utf-8\") as f:\n",
    "    config = yaml.safe_load(f)\n",
    "shutil.copyfile(EXP_PATH, os.path.join(OUTPUT_PATH, f\"{EXP_NUM}.yaml\"))\n",
    "\n",
    "\n",
    "y_season = cfg.exp.tournament.target_season\n",
    "FEATURES = cfg.exp.features\n",
    "MODEL = cfg.exp.model\n",
    "results = [\"\", f\"-----{PREDICT_YEAR}-----\", now ,name, cfg.exp.print_name,\"\"]"
   ]
  },
  {
   "cell_type": "code",
   "execution_count": 5,
   "id": "89a0d467",
   "metadata": {
    "execution": {
     "iopub.execute_input": "2025-03-18T19:06:17.295607Z",
     "iopub.status.busy": "2025-03-18T19:06:17.293599Z",
     "iopub.status.idle": "2025-03-18T19:06:18.852706Z",
     "shell.execute_reply": "2025-03-18T19:06:18.852706Z"
    },
    "papermill": {
     "duration": 1.571441,
     "end_time": "2025-03-18T19:06:18.852706",
     "exception": false,
     "start_time": "2025-03-18T19:06:17.281265",
     "status": "completed"
    },
    "tags": []
   },
   "outputs": [],
   "source": [
    "tourney_results = pd.concat([\n",
    "    pd.read_csv(os.path.join(INPUT_PATH,\"MNCAATourneyDetailedResults.csv\")),\n",
    "    pd.read_csv(os.path.join(INPUT_PATH,\"WNCAATourneyDetailedResults.csv\")),\n",
    "], ignore_index=True)\n",
    "\n",
    "seeds = pd.concat([\n",
    "    pd.read_csv(os.path.join(INPUT_PATH,\"MNCAATourneySeeds.csv\")),\n",
    "    pd.read_csv(os.path.join(INPUT_PATH,\"WNCAATourneySeeds.csv\")),\n",
    "], ignore_index=True)\n",
    "\n",
    "regular_results = pd.concat([\n",
    "    pd.read_csv(os.path.join(INPUT_PATH, \"MRegularSeasonDetailedResults.csv\")),\n",
    "    pd.read_csv(os.path.join(INPUT_PATH,\"WRegularSeasonDetailedResults.csv\")),\n",
    "], ignore_index=True)\n",
    "\n",
    "ordinal_rank = pd.read_csv(os.path.join(INPUT_PATH, \"MMasseyOrdinals.csv\"))\n",
    "\n",
    "# 1試合情報からWin,Lose反転させてデータ数２倍にかさまし and WLoc -> location(0 or -1 or 1)\n",
    "def prepare_data(df1):\n",
    "    df = df1.copy()\n",
    "    ### add new box score\n",
    "    #type1: normal EFG\n",
    "    df['WEFFG'] = df['WFGM'] / df['WFGA']\n",
    "    df['LEFFG'] = df['LFGM'] / df['LFGA']\n",
    "    #type2: 1stfeature EFG\n",
    "    df['WEFFG3'] = np.where(df['WFGA3'] == 0, 0, df['WFGM3'] / df['WFGA3'])\n",
    "    df['LEFFG3'] = np.where(df['LFGA3'] == 0, 0, df['LFGM3'] / df['LFGA3'])\n",
    "    df['WDARE'] = df['WFGM3'] / df['WFGM']\n",
    "    df['LDARE'] = df['LFGM3'] / df['LFGM']\n",
    "    df['WTOQUETOQUE'] = df['WAst'] / df['WFGM']\n",
    "    df['LTOQUETOQUE'] = df['LAst'] / df['LFGM']\n",
    "    #type3: OFF/DEF FGE\n",
    "    df[\"WEFG_SUM\"] = (df[\"WFGM\"]+0.5*df[\"WFGM3\"])/df[\"WFGA\"]\n",
    "    df[\"LEFG_SUM\"] = (df[\"LFGM\"]+0.5*df[\"LFGM3\"])/df[\"LFGA\"]\n",
    "\n",
    "    #POSS RATE\n",
    "    df[\"WPOSS\"] = df[\"WFGA\"] + 0.44*df[\"WFTA\"] - df[\"WOR\"] + df[\"WTO\"]\n",
    "    df[\"LPOSS\"] = df[\"LFGA\"] + 0.44*df[\"LFTA\"] - df[\"LOR\"] + df[\"LTO\"]\n",
    "    df[\"WPOSS_RATE\"] = df[\"WPOSS\"]/(df[\"WPOSS\"]+df[\"LPOSS\"])\n",
    "    df[\"LPOSS_RATE\"] = df[\"LPOSS\"]/(df[\"WPOSS\"]+df[\"LPOSS\"])\n",
    "    \n",
    "    #TO Ratio \n",
    "    df[\"WTO_RATIO\"] = df[\"WTO\"]/(df[\"WFGA\"]+0.44*df[\"WFTA\"]+df[\"WTO\"])#POSS RATEと違ってOR入っていない\n",
    "    df[\"LTO_RATIO\"] = df[\"LTO\"]/(df[\"LFGA\"]+0.44*df[\"LFTA\"]+df[\"LTO\"])\n",
    "    \n",
    "    # REB%\n",
    "    df[\"WREB_RATE\"] = df[\"WOR\"]/(df[\"WOR\"]+df[\"LDR\"])\n",
    "    df[\"LREB_RATE\"] = df[\"LOR\"]/(df[\"LOR\"]+df[\"WDR\"])\n",
    "    \n",
    "    #FT %\n",
    "    df[\"WFT_RATE\"] = df[\"WFTA\"]/df[\"WFGA\"]\n",
    "    df[\"LFT_RATE\"] = df[\"LFTA\"]/df[\"LFGA\"]\n",
    "    \n",
    "    #rating\n",
    "    df[\"WRATING\"] = df[\"WScore\"]/df[\"WPOSS\"]\n",
    "    df[\"LRATING\"] = df[\"LScore\"]/df[\"LPOSS\"]\n",
    "    \n",
    "        \n",
    "    #0除算補完\n",
    "    print(df.info())\n",
    "        \n",
    "    #かさましに伴う反転カラム\n",
    "    dfswap = df.copy()\n",
    "    # Home, Away変換して反転\n",
    "    dfswap.loc[df['WLoc'] == 'H', 'WLoc'] = 'A'\n",
    "    dfswap.loc[df['WLoc'] == 'A', 'WLoc'] = 'H'\n",
    "    df.columns.values[6] = 'location'\n",
    "    dfswap.columns.values[6] = 'location'    \n",
    "    #反転\n",
    "    df.columns = [x.replace('W','T1_').replace('L','T2_') for x in list(df.columns)]\n",
    "    dfswap.columns = [x.replace('L','T1_').replace('W','T2_') for x in list(dfswap.columns)]\n",
    "    output = pd.concat([df, dfswap]).reset_index(drop=True)\n",
    "    \n",
    "    \n",
    "    #add new feature\n",
    "    #locationを数値に変換\n",
    "    output.loc[output.location=='N','location'] = '0'\n",
    "    output.loc[output.location=='H','location'] = '1'\n",
    "    output.loc[output.location=='A','location'] = '-1'\n",
    "    output.location = output.location.astype(int)\n",
    "    \n",
    "    #add PointDiff&win\n",
    "    output['PointDiff'] = output['T1_Score'] - output['T2_Score']\n",
    "    output[\"win\"] = np.where(output['PointDiff']>0,1,0)\n",
    "    \n",
    "    \n",
    "    print(f\"feature cols after prepare()\")\n",
    "    print(output.columns)\n",
    "    return output\n",
    "\n"
   ]
  },
  {
   "cell_type": "code",
   "execution_count": 6,
   "id": "159f37eb",
   "metadata": {
    "execution": {
     "iopub.execute_input": "2025-03-18T19:06:18.868110Z",
     "iopub.status.busy": "2025-03-18T19:06:18.868110Z",
     "iopub.status.idle": "2025-03-18T19:06:18.924841Z",
     "shell.execute_reply": "2025-03-18T19:06:18.924841Z"
    },
    "papermill": {
     "duration": 0.07424,
     "end_time": "2025-03-18T19:06:18.926946",
     "exception": false,
     "start_time": "2025-03-18T19:06:18.852706",
     "status": "completed"
    },
    "tags": []
   },
   "outputs": [
    {
     "name": "stdout",
     "output_type": "stream",
     "text": [
      "各カラムの異常値の個数を表示します。\n",
      "\n"
     ]
    }
   ],
   "source": [
    "import numpy as np\n",
    "\n",
    "# 異常値のチェック\n",
    "def check_abnormal_values(df):\n",
    "    print(\"各カラムの異常値の個数を表示します。\\n\")\n",
    "\n",
    "    for col in df.columns:\n",
    "        nan_count = df[col].isna().sum()  # NaN の数\n",
    "        inf_count = (df[col] == np.inf).sum()  # inf の数\n",
    "        neg_inf_count = (df[col] == -np.inf).sum()  # -inf の数\n",
    "\n",
    "        if nan_count > 0 or inf_count > 0 or neg_inf_count > 0:\n",
    "            print(f\"Column: {col}\")\n",
    "            print(f\"  NaN    : {nan_count}\")\n",
    "            print(f\"  Inf    : {inf_count}\")\n",
    "            print(f\"  -Inf   : {neg_inf_count}\")\n",
    "            print(\"-\" * 30)\n",
    "\n",
    "# 関数を実行\n",
    "check_abnormal_values(regular_results)\n"
   ]
  },
  {
   "cell_type": "code",
   "execution_count": 7,
   "id": "24e57ef9",
   "metadata": {
    "execution": {
     "iopub.execute_input": "2025-03-18T19:06:18.936851Z",
     "iopub.status.busy": "2025-03-18T19:06:18.936851Z",
     "iopub.status.idle": "2025-03-18T19:06:19.372765Z",
     "shell.execute_reply": "2025-03-18T19:06:19.372765Z"
    },
    "papermill": {
     "duration": 0.44082,
     "end_time": "2025-03-18T19:06:19.372765",
     "exception": false,
     "start_time": "2025-03-18T19:06:18.931945",
     "status": "completed"
    },
    "tags": []
   },
   "outputs": [
    {
     "name": "stdout",
     "output_type": "stream",
     "text": [
      "<class 'pandas.core.frame.DataFrame'>\n",
      "Index: 139193 entries, 0 to 170570\n",
      "Data columns (total 56 columns):\n",
      " #   Column       Non-Null Count   Dtype  \n",
      "---  ------       --------------   -----  \n",
      " 0   Season       139193 non-null  int64  \n",
      " 1   DayNum       139193 non-null  int64  \n",
      " 2   WTeamID      139193 non-null  int64  \n",
      " 3   WScore       139193 non-null  int64  \n",
      " 4   LTeamID      139193 non-null  int64  \n",
      " 5   LScore       139193 non-null  int64  \n",
      " 6   WLoc         139193 non-null  object \n",
      " 7   NumOT        139193 non-null  int64  \n",
      " 8   WFGM         139193 non-null  int64  \n",
      " 9   WFGA         139193 non-null  int64  \n",
      " 10  WFGM3        139193 non-null  int64  \n",
      " 11  WFGA3        139193 non-null  int64  \n",
      " 12  WFTM         139193 non-null  int64  \n",
      " 13  WFTA         139193 non-null  int64  \n",
      " 14  WOR          139193 non-null  int64  \n",
      " 15  WDR          139193 non-null  int64  \n",
      " 16  WAst         139193 non-null  int64  \n",
      " 17  WTO          139193 non-null  int64  \n",
      " 18  WStl         139193 non-null  int64  \n",
      " 19  WBlk         139193 non-null  int64  \n",
      " 20  WPF          139193 non-null  int64  \n",
      " 21  LFGM         139193 non-null  int64  \n",
      " 22  LFGA         139193 non-null  int64  \n",
      " 23  LFGM3        139193 non-null  int64  \n",
      " 24  LFGA3        139193 non-null  int64  \n",
      " 25  LFTM         139193 non-null  int64  \n",
      " 26  LFTA         139193 non-null  int64  \n",
      " 27  LOR          139193 non-null  int64  \n",
      " 28  LDR          139193 non-null  int64  \n",
      " 29  LAst         139193 non-null  int64  \n",
      " 30  LTO          139193 non-null  int64  \n",
      " 31  LStl         139193 non-null  int64  \n",
      " 32  LBlk         139193 non-null  int64  \n",
      " 33  LPF          139193 non-null  int64  \n",
      " 34  WEFFG        139193 non-null  float64\n",
      " 35  LEFFG        139193 non-null  float64\n",
      " 36  WEFFG3       139193 non-null  float64\n",
      " 37  LEFFG3       139193 non-null  float64\n",
      " 38  WDARE        139193 non-null  float64\n",
      " 39  LDARE        139193 non-null  float64\n",
      " 40  WTOQUETOQUE  139193 non-null  float64\n",
      " 41  LTOQUETOQUE  139193 non-null  float64\n",
      " 42  WEFG_SUM     139193 non-null  float64\n",
      " 43  LEFG_SUM     139193 non-null  float64\n",
      " 44  WPOSS        139193 non-null  float64\n",
      " 45  LPOSS        139193 non-null  float64\n",
      " 46  WPOSS_RATE   139193 non-null  float64\n",
      " 47  LPOSS_RATE   139193 non-null  float64\n",
      " 48  WTO_RATIO    139193 non-null  float64\n",
      " 49  LTO_RATIO    139193 non-null  float64\n",
      " 50  WREB_RATE    139193 non-null  float64\n",
      " 51  LREB_RATE    139193 non-null  float64\n",
      " 52  WFT_RATE     139193 non-null  float64\n",
      " 53  LFT_RATE     139193 non-null  float64\n",
      " 54  WRATING      139193 non-null  float64\n",
      " 55  LRATING      139193 non-null  float64\n",
      "dtypes: float64(22), int64(33), object(1)\n",
      "memory usage: 60.5+ MB\n",
      "None\n"
     ]
    },
    {
     "name": "stdout",
     "output_type": "stream",
     "text": [
      "feature cols after prepare()\n",
      "Index(['Season', 'DayNum', 'T1_TeamID', 'T1_Score', 'T2_TeamID', 'T2_Score',\n",
      "       'location', 'NumOT', 'T1_FGM', 'T1_FGA', 'T1_FGM3', 'T1_FGA3', 'T1_FTM',\n",
      "       'T1_FTA', 'T1_OR', 'T1_DR', 'T1_Ast', 'T1_TO', 'T1_Stl', 'T1_Blk',\n",
      "       'T1_PF', 'T2_FGM', 'T2_FGA', 'T2_FGM3', 'T2_FGA3', 'T2_FTM', 'T2_FTA',\n",
      "       'T2_OR', 'T2_DR', 'T2_Ast', 'T2_TO', 'T2_Stl', 'T2_Blk', 'T2_PF',\n",
      "       'T1_EFFG', 'T2_EFFG', 'T1_EFFG3', 'T2_EFFG3', 'T1_DARE', 'T2_DARE',\n",
      "       'T1_TOQUETOQUE', 'T2_TOQUETOQUE', 'T1_EFG_SUM', 'T2_EFG_SUM', 'T1_POSS',\n",
      "       'T2_POSS', 'T1_POSS_RATE', 'T2_POSS_RATE', 'T1_TO_RATIO', 'T2_TO_RATIO',\n",
      "       'T1_REB_RATE', 'T2_REB_RATE', 'T1_FT_RATE', 'T2_FT_RATE', 'T1_RATING',\n",
      "       'T2_RATING', 'PointDiff', 'win'],\n",
      "      dtype='object')\n",
      "<class 'pandas.core.frame.DataFrame'>\n",
      "RangeIndex: 278386 entries, 0 to 278385\n",
      "Data columns (total 58 columns):\n",
      " #   Column         Non-Null Count   Dtype  \n",
      "---  ------         --------------   -----  \n",
      " 0   Season         278386 non-null  int64  \n",
      " 1   DayNum         278386 non-null  int64  \n",
      " 2   T1_TeamID      278386 non-null  int64  \n",
      " 3   T1_Score       278386 non-null  int64  \n",
      " 4   T2_TeamID      278386 non-null  int64  \n",
      " 5   T2_Score       278386 non-null  int64  \n",
      " 6   location       278386 non-null  int32  \n",
      " 7   NumOT          278386 non-null  int64  \n",
      " 8   T1_FGM         278386 non-null  int64  \n",
      " 9   T1_FGA         278386 non-null  int64  \n",
      " 10  T1_FGM3        278386 non-null  int64  \n",
      " 11  T1_FGA3        278386 non-null  int64  \n",
      " 12  T1_FTM         278386 non-null  int64  \n",
      " 13  T1_FTA         278386 non-null  int64  \n",
      " 14  T1_OR          278386 non-null  int64  \n",
      " 15  T1_DR          278386 non-null  int64  \n",
      " 16  T1_Ast         278386 non-null  int64  \n",
      " 17  T1_TO          278386 non-null  int64  \n",
      " 18  T1_Stl         278386 non-null  int64  \n",
      " 19  T1_Blk         278386 non-null  int64  \n",
      " 20  T1_PF          278386 non-null  int64  \n",
      " 21  T2_FGM         278386 non-null  int64  \n",
      " 22  T2_FGA         278386 non-null  int64  \n",
      " 23  T2_FGM3        278386 non-null  int64  \n",
      " 24  T2_FGA3        278386 non-null  int64  \n",
      " 25  T2_FTM         278386 non-null  int64  \n",
      " 26  T2_FTA         278386 non-null  int64  \n",
      " 27  T2_OR          278386 non-null  int64  \n",
      " 28  T2_DR          278386 non-null  int64  \n",
      " 29  T2_Ast         278386 non-null  int64  \n",
      " 30  T2_TO          278386 non-null  int64  \n",
      " 31  T2_Stl         278386 non-null  int64  \n",
      " 32  T2_Blk         278386 non-null  int64  \n",
      " 33  T2_PF          278386 non-null  int64  \n",
      " 34  T1_EFFG        278386 non-null  float64\n",
      " 35  T2_EFFG        278386 non-null  float64\n",
      " 36  T1_EFFG3       278386 non-null  float64\n",
      " 37  T2_EFFG3       278386 non-null  float64\n",
      " 38  T1_DARE        278386 non-null  float64\n",
      " 39  T2_DARE        278386 non-null  float64\n",
      " 40  T1_TOQUETOQUE  278386 non-null  float64\n",
      " 41  T2_TOQUETOQUE  278386 non-null  float64\n",
      " 42  T1_EFG_SUM     278386 non-null  float64\n",
      " 43  T2_EFG_SUM     278386 non-null  float64\n",
      " 44  T1_POSS        278386 non-null  float64\n",
      " 45  T2_POSS        278386 non-null  float64\n",
      " 46  T1_POSS_RATE   278386 non-null  float64\n",
      " 47  T2_POSS_RATE   278386 non-null  float64\n",
      " 48  T1_TO_RATIO    278386 non-null  float64\n",
      " 49  T2_TO_RATIO    278386 non-null  float64\n",
      " 50  T1_REB_RATE    278386 non-null  float64\n",
      " 51  T2_REB_RATE    278386 non-null  float64\n",
      " 52  T1_FT_RATE     278386 non-null  float64\n",
      " 53  T2_FT_RATE     278386 non-null  float64\n",
      " 54  T1_RATING      278386 non-null  float64\n",
      " 55  T2_RATING      278386 non-null  float64\n",
      " 56  PointDiff      278386 non-null  int64  \n",
      " 57  win            278386 non-null  int32  \n",
      "dtypes: float64(22), int32(2), int64(34)\n",
      "memory usage: 121.1 MB\n"
     ]
    },
    {
     "data": {
      "text/html": [
       "<div>\n",
       "<style scoped>\n",
       "    .dataframe tbody tr th:only-of-type {\n",
       "        vertical-align: middle;\n",
       "    }\n",
       "\n",
       "    .dataframe tbody tr th {\n",
       "        vertical-align: top;\n",
       "    }\n",
       "\n",
       "    .dataframe thead th {\n",
       "        text-align: right;\n",
       "    }\n",
       "</style>\n",
       "<table border=\"1\" class=\"dataframe\">\n",
       "  <thead>\n",
       "    <tr style=\"text-align: right;\">\n",
       "      <th></th>\n",
       "      <th>Season</th>\n",
       "      <th>DayNum</th>\n",
       "      <th>T1_TeamID</th>\n",
       "      <th>T1_Score</th>\n",
       "      <th>T2_TeamID</th>\n",
       "      <th>T2_Score</th>\n",
       "      <th>location</th>\n",
       "      <th>NumOT</th>\n",
       "      <th>T1_FGM</th>\n",
       "      <th>T1_FGA</th>\n",
       "      <th>...</th>\n",
       "      <th>T1_TO_RATIO</th>\n",
       "      <th>T2_TO_RATIO</th>\n",
       "      <th>T1_REB_RATE</th>\n",
       "      <th>T2_REB_RATE</th>\n",
       "      <th>T1_FT_RATE</th>\n",
       "      <th>T2_FT_RATE</th>\n",
       "      <th>T1_RATING</th>\n",
       "      <th>T2_RATING</th>\n",
       "      <th>PointDiff</th>\n",
       "      <th>win</th>\n",
       "    </tr>\n",
       "  </thead>\n",
       "  <tbody>\n",
       "    <tr>\n",
       "      <th>0</th>\n",
       "      <td>2003</td>\n",
       "      <td>10</td>\n",
       "      <td>1104</td>\n",
       "      <td>68</td>\n",
       "      <td>1328</td>\n",
       "      <td>62</td>\n",
       "      <td>0</td>\n",
       "      <td>0</td>\n",
       "      <td>27</td>\n",
       "      <td>58</td>\n",
       "      <td>...</td>\n",
       "      <td>0.258659</td>\n",
       "      <td>0.223104</td>\n",
       "      <td>0.388889</td>\n",
       "      <td>0.294118</td>\n",
       "      <td>0.310345</td>\n",
       "      <td>0.415094</td>\n",
       "      <td>0.907635</td>\n",
       "      <td>0.877193</td>\n",
       "      <td>6</td>\n",
       "      <td>1</td>\n",
       "    </tr>\n",
       "    <tr>\n",
       "      <th>1</th>\n",
       "      <td>2003</td>\n",
       "      <td>10</td>\n",
       "      <td>1272</td>\n",
       "      <td>70</td>\n",
       "      <td>1393</td>\n",
       "      <td>63</td>\n",
       "      <td>0</td>\n",
       "      <td>0</td>\n",
       "      <td>26</td>\n",
       "      <td>62</td>\n",
       "      <td>...</td>\n",
       "      <td>0.155950</td>\n",
       "      <td>0.136674</td>\n",
       "      <td>0.375000</td>\n",
       "      <td>0.416667</td>\n",
       "      <td>0.306452</td>\n",
       "      <td>0.298507</td>\n",
       "      <td>1.023991</td>\n",
       "      <td>0.929204</td>\n",
       "      <td>7</td>\n",
       "      <td>1</td>\n",
       "    </tr>\n",
       "    <tr>\n",
       "      <th>2</th>\n",
       "      <td>2003</td>\n",
       "      <td>11</td>\n",
       "      <td>1266</td>\n",
       "      <td>73</td>\n",
       "      <td>1437</td>\n",
       "      <td>61</td>\n",
       "      <td>0</td>\n",
       "      <td>0</td>\n",
       "      <td>24</td>\n",
       "      <td>58</td>\n",
       "      <td>...</td>\n",
       "      <td>0.123824</td>\n",
       "      <td>0.126156</td>\n",
       "      <td>0.435897</td>\n",
       "      <td>0.543860</td>\n",
       "      <td>0.500000</td>\n",
       "      <td>0.315068</td>\n",
       "      <td>1.144918</td>\n",
       "      <td>0.951341</td>\n",
       "      <td>12</td>\n",
       "      <td>1</td>\n",
       "    </tr>\n",
       "    <tr>\n",
       "      <th>3</th>\n",
       "      <td>2003</td>\n",
       "      <td>11</td>\n",
       "      <td>1296</td>\n",
       "      <td>56</td>\n",
       "      <td>1457</td>\n",
       "      <td>50</td>\n",
       "      <td>0</td>\n",
       "      <td>0</td>\n",
       "      <td>18</td>\n",
       "      <td>38</td>\n",
       "      <td>...</td>\n",
       "      <td>0.188561</td>\n",
       "      <td>0.254692</td>\n",
       "      <td>0.230769</td>\n",
       "      <td>0.472222</td>\n",
       "      <td>0.815789</td>\n",
       "      <td>0.306122</td>\n",
       "      <td>0.971548</td>\n",
       "      <td>0.868056</td>\n",
       "      <td>6</td>\n",
       "      <td>1</td>\n",
       "    </tr>\n",
       "    <tr>\n",
       "      <th>4</th>\n",
       "      <td>2003</td>\n",
       "      <td>11</td>\n",
       "      <td>1400</td>\n",
       "      <td>77</td>\n",
       "      <td>1208</td>\n",
       "      <td>71</td>\n",
       "      <td>0</td>\n",
       "      <td>0</td>\n",
       "      <td>30</td>\n",
       "      <td>61</td>\n",
       "      <td>...</td>\n",
       "      <td>0.173439</td>\n",
       "      <td>0.119218</td>\n",
       "      <td>0.531250</td>\n",
       "      <td>0.488372</td>\n",
       "      <td>0.213115</td>\n",
       "      <td>0.435484</td>\n",
       "      <td>1.208412</td>\n",
       "      <td>1.129135</td>\n",
       "      <td>6</td>\n",
       "      <td>1</td>\n",
       "    </tr>\n",
       "  </tbody>\n",
       "</table>\n",
       "<p>5 rows × 58 columns</p>\n",
       "</div>"
      ],
      "text/plain": [
       "   Season  DayNum  T1_TeamID  T1_Score  T2_TeamID  T2_Score  location  NumOT  \\\n",
       "0    2003      10       1104        68       1328        62         0      0   \n",
       "1    2003      10       1272        70       1393        63         0      0   \n",
       "2    2003      11       1266        73       1437        61         0      0   \n",
       "3    2003      11       1296        56       1457        50         0      0   \n",
       "4    2003      11       1400        77       1208        71         0      0   \n",
       "\n",
       "   T1_FGM  T1_FGA  ...  T1_TO_RATIO  T2_TO_RATIO  T1_REB_RATE  T2_REB_RATE  \\\n",
       "0      27      58  ...     0.258659     0.223104     0.388889     0.294118   \n",
       "1      26      62  ...     0.155950     0.136674     0.375000     0.416667   \n",
       "2      24      58  ...     0.123824     0.126156     0.435897     0.543860   \n",
       "3      18      38  ...     0.188561     0.254692     0.230769     0.472222   \n",
       "4      30      61  ...     0.173439     0.119218     0.531250     0.488372   \n",
       "\n",
       "   T1_FT_RATE  T2_FT_RATE  T1_RATING  T2_RATING  PointDiff  win  \n",
       "0    0.310345    0.415094   0.907635   0.877193          6    1  \n",
       "1    0.306452    0.298507   1.023991   0.929204          7    1  \n",
       "2    0.500000    0.315068   1.144918   0.951341         12    1  \n",
       "3    0.815789    0.306122   0.971548   0.868056          6    1  \n",
       "4    0.213115    0.435484   1.208412   1.129135          6    1  \n",
       "\n",
       "[5 rows x 58 columns]"
      ]
     },
     "metadata": {},
     "output_type": "display_data"
    },
    {
     "data": {
      "text/plain": [
       "None"
      ]
     },
     "metadata": {},
     "output_type": "display_data"
    }
   ],
   "source": [
    "#予測する年以降の情報はフィルタリング\n",
    "USE_START_YEAR = cfg.exp.tournament.use_start_season\n",
    "notexist = tourney_results[tourney_results[\"Season\"] == PREDICT_YEAR]\n",
    "tourney_results = tourney_results[(tourney_results[\"Season\"] >= USE_START_YEAR) & (tourney_results[\"Season\"] < PREDICT_YEAR)]\n",
    "seeds = seeds[(seeds[\"Season\"] >= USE_START_YEAR) & (seeds[\"Season\"] <= PREDICT_YEAR)]\n",
    "regular_results = regular_results[(regular_results[\"Season\"] >= USE_START_YEAR) & (regular_results[\"Season\"] <= PREDICT_YEAR)]\n",
    "\n",
    "regular_data = prepare_data(regular_results)\n",
    "display(regular_data.head(), regular_data.info())"
   ]
  },
  {
   "cell_type": "code",
   "execution_count": 8,
   "id": "44c9b2b9",
   "metadata": {
    "execution": {
     "iopub.execute_input": "2025-03-18T19:06:19.388292Z",
     "iopub.status.busy": "2025-03-18T19:06:19.388292Z",
     "iopub.status.idle": "2025-03-18T19:06:19.400988Z",
     "shell.execute_reply": "2025-03-18T19:06:19.400988Z"
    },
    "papermill": {
     "duration": 0.029273,
     "end_time": "2025-03-18T19:06:19.402038",
     "exception": false,
     "start_time": "2025-03-18T19:06:19.372765",
     "status": "completed"
    },
    "tags": []
   },
   "outputs": [],
   "source": [
    "#使用特徴量(boxscore_cols)を取得してそれに対して(\"Season\", 'T1_TeamID')でまとめた特徴量の追加\n",
    "#### 1. win_ration_14d ####\n",
    "def add_win_ratio_14d(df):\n",
    "    df_filtered = df[df['DayNum'] > 118].copy()\n",
    "    df_filtered['Win'] = (df_filtered['PointDiff'] > 0).astype(int)\n",
    "    \n",
    "    win_ratio_t1 = df_filtered.groupby(['Season', 'T1_TeamID'])['Win'].mean().reset_index()\n",
    "    win_ratio_t1.rename(columns={'Win': 'T1_win_ratio_14d'}, inplace=True)\n",
    "    \n",
    "    win_ratio_t2 = df_filtered.groupby(['Season', 'T2_TeamID'])['Win'].mean().reset_index()\n",
    "    win_ratio_t2.rename(columns={'Win': 'T2_win_ratio_14d'}, inplace=True)\n",
    "    \n",
    "    df = df.merge(win_ratio_t1, on=['Season', 'T1_TeamID'], how='left')\n",
    "    df = df.merge(win_ratio_t2, on=['Season', 'T2_TeamID'], how='left')\n",
    "    \n",
    "    return df\n",
    "\n",
    "##### 2. add mean of boxscore ####\n",
    "def make_col_avg(df, boxscore, group = [\"Season\", \"T1_TeamID\"], func= [np.mean]):\n",
    "    df_stat = df.groupby(group)[boxscore].agg(func)\n",
    "    df_stat.columns = [''.join(col).strip() for col in df_stat.columns.values]\n",
    "    df_stat = df_stat.reset_index()\n",
    "\n",
    "    win_ratio_cols = ['T1_win_ratio_14d'] #ここマージの関係からT2_win_ratio_14dを外したけど大丈夫か考える\n",
    "    df_win_ratio = df[group + win_ratio_cols].drop_duplicates()\n",
    "    df_stat = df_stat.merge(df_win_ratio, on=group, how='left')\n",
    "    \n",
    "    return df_stat\n",
    "\n",
    "#### 3. add team quality ####\n",
    "# 3.0 ロジスティックを行うためのregular_season_effectsデータフレームの作成\n",
    "def make_regular_season_effects(df):\n",
    "    regular_season_effects = df[['Season', 'T1_TeamID', 'T2_TeamID', 'PointDiff']].copy()\n",
    "    regular_season_effects['win'] = np.where(regular_season_effects['PointDiff'] > 0, 1, 0)\n",
    "    return regular_season_effects\n",
    "\n",
    "# 3.1\n",
    "#各シーズンごとの総当たりに対するロジスティック回帰を行う\n",
    "#目的変数はfeatureenginneringから作成したPointDiffの正負に依存するWinとする.\n",
    "#新たな特徴量\"quarity\"をseasonごとの戦績をもとにロジスティックの回帰係数として導入している\n",
    "def team_quality(season,df):\n",
    "    season_data = df[df[\"Season\"] == season]\n",
    "    X = season_data[['T1_TeamID', 'T2_TeamID']]\n",
    "    y = season_data['win']\n",
    "    print(X.shape, y.shape)\n",
    "    encoder = OneHotEncoder(sparse_output=False) #多重共線性防止, 密行列指定\n",
    "    X_encoded = encoder.fit_transform(X)\n",
    "    \n",
    "    model = LogisticRegression(fit_intercept=False)\n",
    "    model.fit(X_encoded, y)\n",
    "    team_ids = encoder.get_feature_names_out(['T1_TeamID', 'T2_TeamID'])\n",
    "\n",
    "    \n",
    "    #quarity: (チーム数)*2(ID, 回帰係数)\n",
    "    quality = pd.DataFrame({\n",
    "        'TeamID': team_ids,\n",
    "        'quality': model.coef_.flatten() #T1_TeamID_1112,,,の形でチーム数分の回帰係数が入る\n",
    "    })\n",
    "\n",
    "    # 値をint 1112 のように整形\n",
    "    quality = quality[quality['TeamID'].str.contains('T1_TeamID')]\n",
    "    quality['TeamID'] = quality['TeamID'].str.replace('T1_TeamID_', '', regex=True).astype(int)\n",
    "    quality['Season'] = season\n",
    "\n",
    "    #display(quality.head())\n",
    "    print(f\"fin make {season}'s team quarity\")\n",
    "    return quality\n",
    "\n",
    "# 4. add seed\n",
    "def add_seed(df, seeds):\n",
    "    temp = seeds.copy()\n",
    "    temp['Seed'] = temp['Seed'].apply(lambda x: int(x[1:3]))\n",
    "    temp.columns = ['Season','T1_seed','T1_TeamID']\n",
    "    df = pd.merge(df, temp, on=[\"Season\", \"T1_TeamID\"], how=\"left\")\n",
    "    return df \n",
    "\n",
    "# 5. add Ordinal rank\n",
    "def add_ordinalrank(df, ordinal):\n",
    "    df_rank = ordinal.groupby([\"Season\", \"TeamID\"])[\"OrdinalRank\"].agg(np.mean).reset_index()\n",
    "    df_rank.head()\n",
    "    ranks = df_rank.rename(columns={'TeamID': 'T1_TeamID', 'OrdinalRank': 'T1_OrdinalRank'})\n",
    "    df = pd.merge(df,ranks,on = [\"Season\",\"T1_TeamID\"],how = \"left\")\n",
    "    return df\n",
    "\n",
    "# main \n",
    "def make_season_statistics(df, boxscore, seeds, func = [np.mean]):\n",
    "    # 1. Win Ratio の計算と追加\n",
    "    add_win = add_win_ratio_14d(df)\n",
    "    print(\"after add win ratio\")\n",
    "    print(add_win.columns)  \n",
    "    \n",
    "    #2. \n",
    "    add_mean = make_col_avg(add_win, boxscore)\n",
    "    print(\"after mean of boxscore\")\n",
    "    print(add_mean.columns)\n",
    "    \n",
    "    #3. \n",
    "    global PREDICT_YEAR, USE_START_YEAR\n",
    "    start_season = max(FEATURES.start_quality_season, USE_START_YEAR)\n",
    "    print(f\"use season for quality feature is: {start_season}\")\n",
    "    regular_season_effects = make_regular_season_effects(df)\n",
    "    glm_season = [i for i in range(start_season, PREDICT_YEAR+1)]\n",
    "\n",
    "    if 2020 in glm_season:\n",
    "        glm_season.remove(2020)\n",
    "    glm_quality = pd.concat([team_quality(season, regular_season_effects) for season in glm_season]).reset_index(drop=True)\n",
    "    # add glm quality \n",
    "    glm_quality_T1 = glm_quality.rename(columns={'TeamID': 'T1_TeamID', 'quality': 'T1_quality'})\n",
    "    add_glm = add_mean.merge(glm_quality_T1, on=['Season', 'T1_TeamID'], how='left')\n",
    "\n",
    "    print(\"add glm quality\")\n",
    "    print(add_glm.columns)\n",
    "    \n",
    "    #4. \n",
    "    add_seeds = add_seed(add_glm, seeds)\n",
    "    print(\"add seeds (final form)\")\n",
    "    print(add_seeds.columns)\n",
    "    \n",
    "    #5. \n",
    "    add_rank = add_ordinalrank(add_seeds, ordinal_rank)\n",
    "    print(\"add ordinal rank\")\n",
    "    print(add_rank.columns)  \n",
    "    return add_rank"
   ]
  },
  {
   "cell_type": "code",
   "execution_count": 9,
   "id": "932e4d43",
   "metadata": {
    "execution": {
     "iopub.execute_input": "2025-03-18T19:06:19.404968Z",
     "iopub.status.busy": "2025-03-18T19:06:19.404968Z",
     "iopub.status.idle": "2025-03-18T19:06:22.250108Z",
     "shell.execute_reply": "2025-03-18T19:06:22.250108Z"
    },
    "papermill": {
     "duration": 2.847148,
     "end_time": "2025-03-18T19:06:22.252116",
     "exception": false,
     "start_time": "2025-03-18T19:06:19.404968",
     "status": "completed"
    },
    "tags": []
   },
   "outputs": [
    {
     "name": "stdout",
     "output_type": "stream",
     "text": [
      "use boxscore col is\n",
      "['T1_Score', 'T2_Score', 'PointDiff', 'T1_FGA', 'T2_FGA', 'T1_FGM', 'T2_FGM', 'T1_EFG_SUM', 'T2_EFG_SUM', 'T1_TO_RATIO', 'T2_TO_RATIO', 'T1_OR', 'T2_OR', 'T1_DR', 'T2_DR', 'T1_REB_RATE', 'T2_REB_RATE', 'T1_FT_RATE', 'T2_FT_RATE', 'T1_POSS_RATE', 'T2_POSS_RATE', 'T1_Ast', 'T2_Ast', 'T1_TO', 'T2_TO', 'T1_Stl', 'T2_Stl', 'T1_Blk', 'T2_Blk', 'T1_PF', 'T2_PF']\n"
     ]
    },
    {
     "name": "stdout",
     "output_type": "stream",
     "text": [
      "after add win ratio\n",
      "Index(['Season', 'DayNum', 'T1_TeamID', 'T1_Score', 'T2_TeamID', 'T2_Score',\n",
      "       'location', 'NumOT', 'T1_FGM', 'T1_FGA', 'T1_FGM3', 'T1_FGA3', 'T1_FTM',\n",
      "       'T1_FTA', 'T1_OR', 'T1_DR', 'T1_Ast', 'T1_TO', 'T1_Stl', 'T1_Blk',\n",
      "       'T1_PF', 'T2_FGM', 'T2_FGA', 'T2_FGM3', 'T2_FGA3', 'T2_FTM', 'T2_FTA',\n",
      "       'T2_OR', 'T2_DR', 'T2_Ast', 'T2_TO', 'T2_Stl', 'T2_Blk', 'T2_PF',\n",
      "       'T1_EFFG', 'T2_EFFG', 'T1_EFFG3', 'T2_EFFG3', 'T1_DARE', 'T2_DARE',\n",
      "       'T1_TOQUETOQUE', 'T2_TOQUETOQUE', 'T1_EFG_SUM', 'T2_EFG_SUM', 'T1_POSS',\n",
      "       'T2_POSS', 'T1_POSS_RATE', 'T2_POSS_RATE', 'T1_TO_RATIO', 'T2_TO_RATIO',\n",
      "       'T1_REB_RATE', 'T2_REB_RATE', 'T1_FT_RATE', 'T2_FT_RATE', 'T1_RATING',\n",
      "       'T2_RATING', 'PointDiff', 'win', 'T1_win_ratio_14d',\n",
      "       'T2_win_ratio_14d'],\n",
      "      dtype='object')\n"
     ]
    },
    {
     "name": "stdout",
     "output_type": "stream",
     "text": [
      "after mean of boxscore\n",
      "Index(['Season', 'T1_TeamID', 'T1_Scoremean', 'T2_Scoremean', 'PointDiffmean',\n",
      "       'T1_FGAmean', 'T2_FGAmean', 'T1_FGMmean', 'T2_FGMmean',\n",
      "       'T1_EFG_SUMmean', 'T2_EFG_SUMmean', 'T1_TO_RATIOmean',\n",
      "       'T2_TO_RATIOmean', 'T1_ORmean', 'T2_ORmean', 'T1_DRmean', 'T2_DRmean',\n",
      "       'T1_REB_RATEmean', 'T2_REB_RATEmean', 'T1_FT_RATEmean',\n",
      "       'T2_FT_RATEmean', 'T1_POSS_RATEmean', 'T2_POSS_RATEmean', 'T1_Astmean',\n",
      "       'T2_Astmean', 'T1_TOmean', 'T2_TOmean', 'T1_Stlmean', 'T2_Stlmean',\n",
      "       'T1_Blkmean', 'T2_Blkmean', 'T1_PFmean', 'T2_PFmean',\n",
      "       'T1_win_ratio_14d'],\n",
      "      dtype='object')\n",
      "use season for quality feature is: 2003\n",
      "(9232, 2) (9232,)\n",
      "fin make 2003's team quarity\n",
      "(9142, 2) (9142,)\n",
      "fin make 2004's team quarity\n"
     ]
    },
    {
     "name": "stderr",
     "output_type": "stream",
     "text": [
      "C:\\Users\\81809\\AppData\\Local\\Temp\\ipykernel_27864\\386782032.py:20: FutureWarning: The provided callable <function mean at 0x000001BB7C866520> is currently using SeriesGroupBy.mean. In a future version of pandas, the provided callable will be used directly. To keep current behavior pass the string \"mean\" instead.\n",
      "  df_stat = df.groupby(group)[boxscore].agg(func)\n"
     ]
    },
    {
     "name": "stdout",
     "output_type": "stream",
     "text": [
      "(9350, 2) (9350,)\n",
      "fin make 2005's team quarity\n",
      "(9514, 2) (9514,)\n"
     ]
    },
    {
     "name": "stdout",
     "output_type": "stream",
     "text": [
      "fin make 2006's team quarity\n",
      "(10086, 2) (10086,)\n",
      "fin make 2007's team quarity\n",
      "(10326, 2) (10326,)\n",
      "fin make 2008's team quarity\n",
      "(10498, 2) (10498,)\n"
     ]
    },
    {
     "name": "stdout",
     "output_type": "stream",
     "text": [
      "fin make 2009's team quarity\n",
      "(20600, 2) (20600,)\n"
     ]
    },
    {
     "name": "stdout",
     "output_type": "stream",
     "text": [
      "fin make 2010's team quarity\n",
      "(20660, 2) (20660,)\n"
     ]
    },
    {
     "name": "stdout",
     "output_type": "stream",
     "text": [
      "fin make 2011's team quarity\n",
      "(20606, 2) (20606,)\n"
     ]
    },
    {
     "name": "stdout",
     "output_type": "stream",
     "text": [
      "fin make 2012's team quarity\n",
      "(21008, 2) (21008,)\n"
     ]
    },
    {
     "name": "stdout",
     "output_type": "stream",
     "text": [
      "fin make 2013's team quarity\n",
      "(21228, 2) (21228,)\n",
      "fin make 2014's team quarity\n",
      "(21136, 2) (21136,)\n"
     ]
    },
    {
     "name": "stdout",
     "output_type": "stream",
     "text": [
      "fin make 2015's team quarity\n",
      "(21156, 2) (21156,)\n",
      "fin make 2016's team quarity\n",
      "(21210, 2) (21210,)\n"
     ]
    },
    {
     "name": "stdout",
     "output_type": "stream",
     "text": [
      "fin make 2017's team quarity\n",
      "(21228, 2) (21228,)\n"
     ]
    },
    {
     "name": "stdout",
     "output_type": "stream",
     "text": [
      "fin make 2018's team quarity\n",
      "(21406, 2) (21406,)\n",
      "fin make 2019's team quarity\n",
      "add glm quality\n",
      "Index(['Season', 'T1_TeamID', 'T1_Scoremean', 'T2_Scoremean', 'PointDiffmean',\n",
      "       'T1_FGAmean', 'T2_FGAmean', 'T1_FGMmean', 'T2_FGMmean',\n",
      "       'T1_EFG_SUMmean', 'T2_EFG_SUMmean', 'T1_TO_RATIOmean',\n",
      "       'T2_TO_RATIOmean', 'T1_ORmean', 'T2_ORmean', 'T1_DRmean', 'T2_DRmean',\n",
      "       'T1_REB_RATEmean', 'T2_REB_RATEmean', 'T1_FT_RATEmean',\n",
      "       'T2_FT_RATEmean', 'T1_POSS_RATEmean', 'T2_POSS_RATEmean', 'T1_Astmean',\n",
      "       'T2_Astmean', 'T1_TOmean', 'T2_TOmean', 'T1_Stlmean', 'T2_Stlmean',\n",
      "       'T1_Blkmean', 'T2_Blkmean', 'T1_PFmean', 'T2_PFmean',\n",
      "       'T1_win_ratio_14d', 'T1_quality'],\n",
      "      dtype='object')\n",
      "add seeds (final form)\n",
      "Index(['Season', 'T1_TeamID', 'T1_Scoremean', 'T2_Scoremean', 'PointDiffmean',\n",
      "       'T1_FGAmean', 'T2_FGAmean', 'T1_FGMmean', 'T2_FGMmean',\n",
      "       'T1_EFG_SUMmean', 'T2_EFG_SUMmean', 'T1_TO_RATIOmean',\n",
      "       'T2_TO_RATIOmean', 'T1_ORmean', 'T2_ORmean', 'T1_DRmean', 'T2_DRmean',\n",
      "       'T1_REB_RATEmean', 'T2_REB_RATEmean', 'T1_FT_RATEmean',\n",
      "       'T2_FT_RATEmean', 'T1_POSS_RATEmean', 'T2_POSS_RATEmean', 'T1_Astmean',\n",
      "       'T2_Astmean', 'T1_TOmean', 'T2_TOmean', 'T1_Stlmean', 'T2_Stlmean',\n",
      "       'T1_Blkmean', 'T2_Blkmean', 'T1_PFmean', 'T2_PFmean',\n",
      "       'T1_win_ratio_14d', 'T1_quality', 'T1_seed'],\n",
      "      dtype='object')\n"
     ]
    },
    {
     "name": "stderr",
     "output_type": "stream",
     "text": [
      "C:\\Users\\81809\\AppData\\Local\\Temp\\ipykernel_27864\\386782032.py:79: FutureWarning: The provided callable <function mean at 0x000001BB7C866520> is currently using SeriesGroupBy.mean. In a future version of pandas, the provided callable will be used directly. To keep current behavior pass the string \"mean\" instead.\n",
      "  df_rank = ordinal.groupby([\"Season\", \"TeamID\"])[\"OrdinalRank\"].agg(np.mean).reset_index()\n"
     ]
    },
    {
     "name": "stdout",
     "output_type": "stream",
     "text": [
      "add ordinal rank\n",
      "Index(['Season', 'T1_TeamID', 'T1_Scoremean', 'T2_Scoremean', 'PointDiffmean',\n",
      "       'T1_FGAmean', 'T2_FGAmean', 'T1_FGMmean', 'T2_FGMmean',\n",
      "       'T1_EFG_SUMmean', 'T2_EFG_SUMmean', 'T1_TO_RATIOmean',\n",
      "       'T2_TO_RATIOmean', 'T1_ORmean', 'T2_ORmean', 'T1_DRmean', 'T2_DRmean',\n",
      "       'T1_REB_RATEmean', 'T2_REB_RATEmean', 'T1_FT_RATEmean',\n",
      "       'T2_FT_RATEmean', 'T1_POSS_RATEmean', 'T2_POSS_RATEmean', 'T1_Astmean',\n",
      "       'T2_Astmean', 'T1_TOmean', 'T2_TOmean', 'T1_Stlmean', 'T2_Stlmean',\n",
      "       'T1_Blkmean', 'T2_Blkmean', 'T1_PFmean', 'T2_PFmean',\n",
      "       'T1_win_ratio_14d', 'T1_quality', 'T1_seed', 'T1_OrdinalRank'],\n",
      "      dtype='object')\n"
     ]
    },
    {
     "data": {
      "text/html": [
       "<div>\n",
       "<style scoped>\n",
       "    .dataframe tbody tr th:only-of-type {\n",
       "        vertical-align: middle;\n",
       "    }\n",
       "\n",
       "    .dataframe tbody tr th {\n",
       "        vertical-align: top;\n",
       "    }\n",
       "\n",
       "    .dataframe thead th {\n",
       "        text-align: right;\n",
       "    }\n",
       "</style>\n",
       "<table border=\"1\" class=\"dataframe\">\n",
       "  <thead>\n",
       "    <tr style=\"text-align: right;\">\n",
       "      <th></th>\n",
       "      <th>Season</th>\n",
       "      <th>T1_TeamID</th>\n",
       "      <th>T1_Scoremean</th>\n",
       "      <th>T2_Scoremean</th>\n",
       "      <th>PointDiffmean</th>\n",
       "      <th>T1_FGAmean</th>\n",
       "      <th>T2_FGAmean</th>\n",
       "      <th>T1_FGMmean</th>\n",
       "      <th>T2_FGMmean</th>\n",
       "      <th>T1_EFG_SUMmean</th>\n",
       "      <th>...</th>\n",
       "      <th>T1_Stlmean</th>\n",
       "      <th>T2_Stlmean</th>\n",
       "      <th>T1_Blkmean</th>\n",
       "      <th>T2_Blkmean</th>\n",
       "      <th>T1_PFmean</th>\n",
       "      <th>T2_PFmean</th>\n",
       "      <th>T1_win_ratio_14d</th>\n",
       "      <th>T1_quality</th>\n",
       "      <th>T1_seed</th>\n",
       "      <th>T1_OrdinalRank</th>\n",
       "    </tr>\n",
       "  </thead>\n",
       "  <tbody>\n",
       "    <tr>\n",
       "      <th>9298</th>\n",
       "      <td>2019</td>\n",
       "      <td>3462</td>\n",
       "      <td>60.862069</td>\n",
       "      <td>66.482759</td>\n",
       "      <td>-5.620690</td>\n",
       "      <td>57.517241</td>\n",
       "      <td>59.758621</td>\n",
       "      <td>21.896552</td>\n",
       "      <td>24.448276</td>\n",
       "      <td>0.448019</td>\n",
       "      <td>...</td>\n",
       "      <td>7.586207</td>\n",
       "      <td>7.758621</td>\n",
       "      <td>2.586207</td>\n",
       "      <td>3.172414</td>\n",
       "      <td>15.241379</td>\n",
       "      <td>15.172414</td>\n",
       "      <td>0.0</td>\n",
       "      <td>-0.296941</td>\n",
       "      <td>NaN</td>\n",
       "      <td>NaN</td>\n",
       "    </tr>\n",
       "    <tr>\n",
       "      <th>9299</th>\n",
       "      <td>2019</td>\n",
       "      <td>3463</td>\n",
       "      <td>63.344828</td>\n",
       "      <td>61.551724</td>\n",
       "      <td>1.793103</td>\n",
       "      <td>60.517241</td>\n",
       "      <td>60.379310</td>\n",
       "      <td>23.724138</td>\n",
       "      <td>21.965517</td>\n",
       "      <td>0.438814</td>\n",
       "      <td>...</td>\n",
       "      <td>5.172414</td>\n",
       "      <td>8.344828</td>\n",
       "      <td>3.586207</td>\n",
       "      <td>2.517241</td>\n",
       "      <td>16.448276</td>\n",
       "      <td>17.551724</td>\n",
       "      <td>0.0</td>\n",
       "      <td>0.134368</td>\n",
       "      <td>NaN</td>\n",
       "      <td>NaN</td>\n",
       "    </tr>\n",
       "    <tr>\n",
       "      <th>9300</th>\n",
       "      <td>2019</td>\n",
       "      <td>3464</td>\n",
       "      <td>68.137931</td>\n",
       "      <td>58.000000</td>\n",
       "      <td>10.137931</td>\n",
       "      <td>55.758621</td>\n",
       "      <td>58.655172</td>\n",
       "      <td>23.241379</td>\n",
       "      <td>21.862069</td>\n",
       "      <td>0.494845</td>\n",
       "      <td>...</td>\n",
       "      <td>4.344828</td>\n",
       "      <td>7.448276</td>\n",
       "      <td>3.482759</td>\n",
       "      <td>3.482759</td>\n",
       "      <td>13.862069</td>\n",
       "      <td>17.896552</td>\n",
       "      <td>0.5</td>\n",
       "      <td>0.638405</td>\n",
       "      <td>NaN</td>\n",
       "      <td>NaN</td>\n",
       "    </tr>\n",
       "    <tr>\n",
       "      <th>9301</th>\n",
       "      <td>2019</td>\n",
       "      <td>3465</td>\n",
       "      <td>76.200000</td>\n",
       "      <td>69.840000</td>\n",
       "      <td>6.360000</td>\n",
       "      <td>67.520000</td>\n",
       "      <td>69.200000</td>\n",
       "      <td>28.560000</td>\n",
       "      <td>26.600000</td>\n",
       "      <td>0.493625</td>\n",
       "      <td>...</td>\n",
       "      <td>7.280000</td>\n",
       "      <td>7.920000</td>\n",
       "      <td>3.160000</td>\n",
       "      <td>3.160000</td>\n",
       "      <td>15.520000</td>\n",
       "      <td>15.440000</td>\n",
       "      <td>0.5</td>\n",
       "      <td>-0.182555</td>\n",
       "      <td>NaN</td>\n",
       "      <td>NaN</td>\n",
       "    </tr>\n",
       "    <tr>\n",
       "      <th>9302</th>\n",
       "      <td>2019</td>\n",
       "      <td>3466</td>\n",
       "      <td>69.521739</td>\n",
       "      <td>63.217391</td>\n",
       "      <td>6.304348</td>\n",
       "      <td>58.434783</td>\n",
       "      <td>58.260870</td>\n",
       "      <td>24.869565</td>\n",
       "      <td>23.913043</td>\n",
       "      <td>0.478102</td>\n",
       "      <td>...</td>\n",
       "      <td>8.478261</td>\n",
       "      <td>8.478261</td>\n",
       "      <td>3.695652</td>\n",
       "      <td>3.217391</td>\n",
       "      <td>17.478261</td>\n",
       "      <td>19.173913</td>\n",
       "      <td>0.0</td>\n",
       "      <td>0.107970</td>\n",
       "      <td>NaN</td>\n",
       "      <td>NaN</td>\n",
       "    </tr>\n",
       "  </tbody>\n",
       "</table>\n",
       "<p>5 rows × 37 columns</p>\n",
       "</div>"
      ],
      "text/plain": [
       "      Season  T1_TeamID  T1_Scoremean  T2_Scoremean  PointDiffmean  \\\n",
       "9298    2019       3462     60.862069     66.482759      -5.620690   \n",
       "9299    2019       3463     63.344828     61.551724       1.793103   \n",
       "9300    2019       3464     68.137931     58.000000      10.137931   \n",
       "9301    2019       3465     76.200000     69.840000       6.360000   \n",
       "9302    2019       3466     69.521739     63.217391       6.304348   \n",
       "\n",
       "      T1_FGAmean  T2_FGAmean  T1_FGMmean  T2_FGMmean  T1_EFG_SUMmean  ...  \\\n",
       "9298   57.517241   59.758621   21.896552   24.448276        0.448019  ...   \n",
       "9299   60.517241   60.379310   23.724138   21.965517        0.438814  ...   \n",
       "9300   55.758621   58.655172   23.241379   21.862069        0.494845  ...   \n",
       "9301   67.520000   69.200000   28.560000   26.600000        0.493625  ...   \n",
       "9302   58.434783   58.260870   24.869565   23.913043        0.478102  ...   \n",
       "\n",
       "      T1_Stlmean  T2_Stlmean  T1_Blkmean  T2_Blkmean  T1_PFmean  T2_PFmean  \\\n",
       "9298    7.586207    7.758621    2.586207    3.172414  15.241379  15.172414   \n",
       "9299    5.172414    8.344828    3.586207    2.517241  16.448276  17.551724   \n",
       "9300    4.344828    7.448276    3.482759    3.482759  13.862069  17.896552   \n",
       "9301    7.280000    7.920000    3.160000    3.160000  15.520000  15.440000   \n",
       "9302    8.478261    8.478261    3.695652    3.217391  17.478261  19.173913   \n",
       "\n",
       "      T1_win_ratio_14d  T1_quality  T1_seed  T1_OrdinalRank  \n",
       "9298               0.0   -0.296941      NaN             NaN  \n",
       "9299               0.0    0.134368      NaN             NaN  \n",
       "9300               0.5    0.638405      NaN             NaN  \n",
       "9301               0.5   -0.182555      NaN             NaN  \n",
       "9302               0.0    0.107970      NaN             NaN  \n",
       "\n",
       "[5 rows x 37 columns]"
      ]
     },
     "execution_count": 9,
     "metadata": {},
     "output_type": "execute_result"
    }
   ],
   "source": [
    "features = FEATURES.cal_mean_boxscore\n",
    "boxscore_cols = [col for col, use in features.items() if use]\n",
    "print(\"use boxscore col is\")\n",
    "print(boxscore_cols)\n",
    "\n",
    "season_statistics = make_season_statistics(regular_data, boxscore_cols, seeds, func = [np.mean])\n",
    "season_statistics.tail()"
   ]
  },
  {
   "cell_type": "code",
   "execution_count": 10,
   "id": "aed7edbb",
   "metadata": {
    "execution": {
     "iopub.execute_input": "2025-03-18T19:06:22.267922Z",
     "iopub.status.busy": "2025-03-18T19:06:22.267922Z",
     "iopub.status.idle": "2025-03-18T19:06:22.277623Z",
     "shell.execute_reply": "2025-03-18T19:06:22.277623Z"
    },
    "papermill": {
     "duration": 0.017472,
     "end_time": "2025-03-18T19:06:22.277623",
     "exception": false,
     "start_time": "2025-03-18T19:06:22.260151",
     "status": "completed"
    },
    "tags": []
   },
   "outputs": [
    {
     "name": "stdout",
     "output_type": "stream",
     "text": [
      "<class 'pandas.core.frame.DataFrame'>\n",
      "RangeIndex: 9303 entries, 0 to 9302\n",
      "Data columns (total 37 columns):\n",
      " #   Column            Non-Null Count  Dtype  \n",
      "---  ------            --------------  -----  \n",
      " 0   Season            9303 non-null   int64  \n",
      " 1   T1_TeamID         9303 non-null   int64  \n",
      " 2   T1_Scoremean      9303 non-null   float64\n",
      " 3   T2_Scoremean      9303 non-null   float64\n",
      " 4   PointDiffmean     9303 non-null   float64\n",
      " 5   T1_FGAmean        9303 non-null   float64\n",
      " 6   T2_FGAmean        9303 non-null   float64\n",
      " 7   T1_FGMmean        9303 non-null   float64\n",
      " 8   T2_FGMmean        9303 non-null   float64\n",
      " 9   T1_EFG_SUMmean    9303 non-null   float64\n",
      " 10  T2_EFG_SUMmean    9303 non-null   float64\n",
      " 11  T1_TO_RATIOmean   9303 non-null   float64\n",
      " 12  T2_TO_RATIOmean   9303 non-null   float64\n",
      " 13  T1_ORmean         9303 non-null   float64\n",
      " 14  T2_ORmean         9303 non-null   float64\n",
      " 15  T1_DRmean         9303 non-null   float64\n",
      " 16  T2_DRmean         9303 non-null   float64\n",
      " 17  T1_REB_RATEmean   9303 non-null   float64\n",
      " 18  T2_REB_RATEmean   9303 non-null   float64\n",
      " 19  T1_FT_RATEmean    9303 non-null   float64\n",
      " 20  T2_FT_RATEmean    9303 non-null   float64\n",
      " 21  T1_POSS_RATEmean  9303 non-null   float64\n",
      " 22  T2_POSS_RATEmean  9303 non-null   float64\n",
      " 23  T1_Astmean        9303 non-null   float64\n",
      " 24  T2_Astmean        9303 non-null   float64\n",
      " 25  T1_TOmean         9303 non-null   float64\n",
      " 26  T2_TOmean         9303 non-null   float64\n",
      " 27  T1_Stlmean        9303 non-null   float64\n",
      " 28  T2_Stlmean        9303 non-null   float64\n",
      " 29  T1_Blkmean        9303 non-null   float64\n",
      " 30  T2_Blkmean        9303 non-null   float64\n",
      " 31  T1_PFmean         9303 non-null   float64\n",
      " 32  T2_PFmean         9303 non-null   float64\n",
      " 33  T1_win_ratio_14d  9000 non-null   float64\n",
      " 34  T1_quality        9303 non-null   float64\n",
      " 35  T1_seed           1772 non-null   float64\n",
      " 36  T1_OrdinalRank    5834 non-null   float64\n",
      "dtypes: float64(35), int64(2)\n",
      "memory usage: 2.6 MB\n"
     ]
    }
   ],
   "source": [
    "season_statistics.info()"
   ]
  },
  {
   "cell_type": "code",
   "execution_count": 11,
   "id": "4916132c",
   "metadata": {
    "execution": {
     "iopub.execute_input": "2025-03-18T19:06:22.295190Z",
     "iopub.status.busy": "2025-03-18T19:06:22.295190Z",
     "iopub.status.idle": "2025-03-18T19:06:22.322204Z",
     "shell.execute_reply": "2025-03-18T19:06:22.321697Z"
    },
    "papermill": {
     "duration": 0.036704,
     "end_time": "2025-03-18T19:06:22.323214",
     "exception": false,
     "start_time": "2025-03-18T19:06:22.286510",
     "status": "completed"
    },
    "tags": []
   },
   "outputs": [],
   "source": [
    "####ボックスscoreの平均に対して、過去３年の加重平均を取るときの処理 ####\n",
    "def get_mean_of_3_season(val_2ps, val_1ps, val_0ps, \n",
    "                         weight_2, weight_1, weight_0, \n",
    "                         degree_weight=1.0\n",
    "                         ):\n",
    "    weight_2 = weight_2**degree_weight\n",
    "    weight_1 = weight_1**degree_weight\n",
    "    weight_0 = weight_0**degree_weight\n",
    "    if val_2ps == 0  and val_1ps == 0:\n",
    "        return val_0ps\n",
    "    elif val_2ps == 0:\n",
    "        return (val_1ps*weight_2 + val_0ps*weight_1)/(weight_2 + weight_1)\n",
    "    else:\n",
    "        sum_of_values = val_2ps*weight_2 + val_1ps*weight_1 + val_0ps*weight_0\n",
    "        return sum_of_values/(weight_2 + weight_1 + weight_0)\n",
    "\n",
    "def get_3_feature(df_team, feature):\n",
    "    value_2_seasons_ago = 0\n",
    "    value_1_season_ago = 0\n",
    "    value_0_season_ago = 0\n",
    "    for _, val in df_team.iterrows():\n",
    "        value_2_seasons_ago = value_1_season_ago\n",
    "        value_1_season_ago = value_0_season_ago\n",
    "        value_0_season_ago = val[feature]\n",
    "    return value_2_seasons_ago, value_1_season_ago, value_0_season_ago\n",
    "\n",
    "def write_mean_of_3_seasons(df, features, weight, degree_weight=1.0):\n",
    "    \"\"\"\n",
    "    val_0ps - current season value\n",
    "    weight_0 - current season weight\n",
    "    val_1ps - last season value\n",
    "    val_2ps - the value of the season before last\n",
    "    \"\"\"\n",
    "    weight_2=weight[0]\n",
    "    weight_1=weight[1]\n",
    "    weight_0=weight[2]\n",
    "    df_copy = df.copy()\n",
    "    suffix = \"_mn3s\"\n",
    "    \n",
    "    for ft in features:\n",
    "        df_copy[ft + suffix] = 0\n",
    "    for idx, val in tqdm(df_copy.iterrows(), total=len(df_copy)):\n",
    "        team = val.T1_TeamID\n",
    "        season = val.Season\n",
    "        df_team = df_copy[(df_copy.T1_TeamID == team)&\n",
    "                          (df_copy.Season <= season)&\n",
    "                          (df_copy.Season > season-3)]\n",
    "        for ft in features:\n",
    "            val_2ps, val_1ps, val_0ps = get_3_feature(df_team, ft)\n",
    "            ft_mean_3 = get_mean_of_3_season(val_2ps, val_1ps, val_0ps, weight_2, weight_1, weight_0, degree_weight=degree_weight)\n",
    "            df_copy.loc[idx, ft + suffix] = ft_mean_3\n",
    "    return df_copy"
   ]
  },
  {
   "cell_type": "code",
   "execution_count": 12,
   "id": "5a52762f",
   "metadata": {
    "execution": {
     "iopub.execute_input": "2025-03-18T19:06:22.338907Z",
     "iopub.status.busy": "2025-03-18T19:06:22.338907Z",
     "iopub.status.idle": "2025-03-18T19:06:22.363755Z",
     "shell.execute_reply": "2025-03-18T19:06:22.363755Z"
    },
    "papermill": {
     "duration": 0.036032,
     "end_time": "2025-03-18T19:06:22.365764",
     "exception": false,
     "start_time": "2025-03-18T19:06:22.329732",
     "status": "completed"
    },
    "tags": []
   },
   "outputs": [
    {
     "name": "stdout",
     "output_type": "stream",
     "text": [
      "#####\n",
      "skip 3 season verage\n",
      "#####\n"
     ]
    },
    {
     "data": {
      "text/html": [
       "<div>\n",
       "<style scoped>\n",
       "    .dataframe tbody tr th:only-of-type {\n",
       "        vertical-align: middle;\n",
       "    }\n",
       "\n",
       "    .dataframe tbody tr th {\n",
       "        vertical-align: top;\n",
       "    }\n",
       "\n",
       "    .dataframe thead th {\n",
       "        text-align: right;\n",
       "    }\n",
       "</style>\n",
       "<table border=\"1\" class=\"dataframe\">\n",
       "  <thead>\n",
       "    <tr style=\"text-align: right;\">\n",
       "      <th></th>\n",
       "      <th>Season</th>\n",
       "      <th>T1_TeamID</th>\n",
       "      <th>T1_Scoremean</th>\n",
       "      <th>T1_opponent_Scoremean</th>\n",
       "      <th>T1_PointDiffmean</th>\n",
       "      <th>T1_FGAmean</th>\n",
       "      <th>T1_opponent_FGAmean</th>\n",
       "      <th>T1_FGMmean</th>\n",
       "      <th>T1_opponent_FGMmean</th>\n",
       "      <th>T1_EFG_SUMmean</th>\n",
       "      <th>...</th>\n",
       "      <th>T1_Stlmean</th>\n",
       "      <th>T1_opponent_Stlmean</th>\n",
       "      <th>T1_Blkmean</th>\n",
       "      <th>T1_opponent_Blkmean</th>\n",
       "      <th>T1_PFmean</th>\n",
       "      <th>T1_opponent_PFmean</th>\n",
       "      <th>T1_win_ratio_14d</th>\n",
       "      <th>T1_quality</th>\n",
       "      <th>T1_seed</th>\n",
       "      <th>T1_OrdinalRank</th>\n",
       "    </tr>\n",
       "  </thead>\n",
       "  <tbody>\n",
       "    <tr>\n",
       "      <th>0</th>\n",
       "      <td>2003</td>\n",
       "      <td>1102</td>\n",
       "      <td>57.250000</td>\n",
       "      <td>57.000000</td>\n",
       "      <td>0.25000</td>\n",
       "      <td>39.785714</td>\n",
       "      <td>42.428571</td>\n",
       "      <td>19.142857</td>\n",
       "      <td>19.285714</td>\n",
       "      <td>0.584407</td>\n",
       "      <td>...</td>\n",
       "      <td>5.964286</td>\n",
       "      <td>5.428571</td>\n",
       "      <td>1.785714</td>\n",
       "      <td>1.571429</td>\n",
       "      <td>18.750000</td>\n",
       "      <td>18.357143</td>\n",
       "      <td>0.333333</td>\n",
       "      <td>-0.070776</td>\n",
       "      <td>NaN</td>\n",
       "      <td>144.2875</td>\n",
       "    </tr>\n",
       "    <tr>\n",
       "      <th>1</th>\n",
       "      <td>2003</td>\n",
       "      <td>1103</td>\n",
       "      <td>78.777778</td>\n",
       "      <td>78.148148</td>\n",
       "      <td>0.62963</td>\n",
       "      <td>55.851852</td>\n",
       "      <td>57.000000</td>\n",
       "      <td>27.148148</td>\n",
       "      <td>27.777778</td>\n",
       "      <td>0.536564</td>\n",
       "      <td>...</td>\n",
       "      <td>7.259259</td>\n",
       "      <td>6.407407</td>\n",
       "      <td>2.333333</td>\n",
       "      <td>2.851852</td>\n",
       "      <td>19.851852</td>\n",
       "      <td>22.444444</td>\n",
       "      <td>0.333333</td>\n",
       "      <td>-0.116192</td>\n",
       "      <td>NaN</td>\n",
       "      <td>182.2050</td>\n",
       "    </tr>\n",
       "  </tbody>\n",
       "</table>\n",
       "<p>2 rows × 37 columns</p>\n",
       "</div>"
      ],
      "text/plain": [
       "   Season  T1_TeamID  T1_Scoremean  T1_opponent_Scoremean  T1_PointDiffmean  \\\n",
       "0    2003       1102     57.250000              57.000000           0.25000   \n",
       "1    2003       1103     78.777778              78.148148           0.62963   \n",
       "\n",
       "   T1_FGAmean  T1_opponent_FGAmean  T1_FGMmean  T1_opponent_FGMmean  \\\n",
       "0   39.785714            42.428571   19.142857            19.285714   \n",
       "1   55.851852            57.000000   27.148148            27.777778   \n",
       "\n",
       "   T1_EFG_SUMmean  ...  T1_Stlmean  T1_opponent_Stlmean  T1_Blkmean  \\\n",
       "0        0.584407  ...    5.964286             5.428571    1.785714   \n",
       "1        0.536564  ...    7.259259             6.407407    2.333333   \n",
       "\n",
       "   T1_opponent_Blkmean  T1_PFmean  T1_opponent_PFmean  T1_win_ratio_14d  \\\n",
       "0             1.571429  18.750000           18.357143          0.333333   \n",
       "1             2.851852  19.851852           22.444444          0.333333   \n",
       "\n",
       "   T1_quality  T1_seed  T1_OrdinalRank  \n",
       "0   -0.070776      NaN        144.2875  \n",
       "1   -0.116192      NaN        182.2050  \n",
       "\n",
       "[2 rows x 37 columns]"
      ]
     },
     "metadata": {},
     "output_type": "display_data"
    },
    {
     "data": {
      "text/html": [
       "<div>\n",
       "<style scoped>\n",
       "    .dataframe tbody tr th:only-of-type {\n",
       "        vertical-align: middle;\n",
       "    }\n",
       "\n",
       "    .dataframe tbody tr th {\n",
       "        vertical-align: top;\n",
       "    }\n",
       "\n",
       "    .dataframe thead th {\n",
       "        text-align: right;\n",
       "    }\n",
       "</style>\n",
       "<table border=\"1\" class=\"dataframe\">\n",
       "  <thead>\n",
       "    <tr style=\"text-align: right;\">\n",
       "      <th></th>\n",
       "      <th>Season</th>\n",
       "      <th>T2_TeamID</th>\n",
       "      <th>T2_Scoremean</th>\n",
       "      <th>T2_opponent_Scoremean</th>\n",
       "      <th>T2_PointDiffmean</th>\n",
       "      <th>T2_FGAmean</th>\n",
       "      <th>T2_opponent_FGAmean</th>\n",
       "      <th>T2_FGMmean</th>\n",
       "      <th>T2_opponent_FGMmean</th>\n",
       "      <th>T2_EFG_SUMmean</th>\n",
       "      <th>...</th>\n",
       "      <th>T2_Stlmean</th>\n",
       "      <th>T2_opponent_Stlmean</th>\n",
       "      <th>T2_Blkmean</th>\n",
       "      <th>T2_opponent_Blkmean</th>\n",
       "      <th>T2_PFmean</th>\n",
       "      <th>T2_opponent_PFmean</th>\n",
       "      <th>T2_win_ratio_14d</th>\n",
       "      <th>T2_quality</th>\n",
       "      <th>T2_seed</th>\n",
       "      <th>T2_OrdinalRank</th>\n",
       "    </tr>\n",
       "  </thead>\n",
       "  <tbody>\n",
       "    <tr>\n",
       "      <th>9301</th>\n",
       "      <td>2019</td>\n",
       "      <td>3465</td>\n",
       "      <td>76.200000</td>\n",
       "      <td>69.840000</td>\n",
       "      <td>6.360000</td>\n",
       "      <td>67.520000</td>\n",
       "      <td>69.20000</td>\n",
       "      <td>28.560000</td>\n",
       "      <td>26.600000</td>\n",
       "      <td>0.493625</td>\n",
       "      <td>...</td>\n",
       "      <td>7.280000</td>\n",
       "      <td>7.920000</td>\n",
       "      <td>3.160000</td>\n",
       "      <td>3.160000</td>\n",
       "      <td>15.520000</td>\n",
       "      <td>15.440000</td>\n",
       "      <td>0.5</td>\n",
       "      <td>-0.182555</td>\n",
       "      <td>NaN</td>\n",
       "      <td>NaN</td>\n",
       "    </tr>\n",
       "    <tr>\n",
       "      <th>9302</th>\n",
       "      <td>2019</td>\n",
       "      <td>3466</td>\n",
       "      <td>69.521739</td>\n",
       "      <td>63.217391</td>\n",
       "      <td>6.304348</td>\n",
       "      <td>58.434783</td>\n",
       "      <td>58.26087</td>\n",
       "      <td>24.869565</td>\n",
       "      <td>23.913043</td>\n",
       "      <td>0.478102</td>\n",
       "      <td>...</td>\n",
       "      <td>8.478261</td>\n",
       "      <td>8.478261</td>\n",
       "      <td>3.695652</td>\n",
       "      <td>3.217391</td>\n",
       "      <td>17.478261</td>\n",
       "      <td>19.173913</td>\n",
       "      <td>0.0</td>\n",
       "      <td>0.107970</td>\n",
       "      <td>NaN</td>\n",
       "      <td>NaN</td>\n",
       "    </tr>\n",
       "  </tbody>\n",
       "</table>\n",
       "<p>2 rows × 37 columns</p>\n",
       "</div>"
      ],
      "text/plain": [
       "      Season  T2_TeamID  T2_Scoremean  T2_opponent_Scoremean  \\\n",
       "9301    2019       3465     76.200000              69.840000   \n",
       "9302    2019       3466     69.521739              63.217391   \n",
       "\n",
       "      T2_PointDiffmean  T2_FGAmean  T2_opponent_FGAmean  T2_FGMmean  \\\n",
       "9301          6.360000   67.520000             69.20000   28.560000   \n",
       "9302          6.304348   58.434783             58.26087   24.869565   \n",
       "\n",
       "      T2_opponent_FGMmean  T2_EFG_SUMmean  ...  T2_Stlmean  \\\n",
       "9301            26.600000        0.493625  ...    7.280000   \n",
       "9302            23.913043        0.478102  ...    8.478261   \n",
       "\n",
       "      T2_opponent_Stlmean  T2_Blkmean  T2_opponent_Blkmean  T2_PFmean  \\\n",
       "9301             7.920000    3.160000             3.160000  15.520000   \n",
       "9302             8.478261    3.695652             3.217391  17.478261   \n",
       "\n",
       "      T2_opponent_PFmean  T2_win_ratio_14d  T2_quality  T2_seed  \\\n",
       "9301           15.440000               0.5   -0.182555      NaN   \n",
       "9302           19.173913               0.0    0.107970      NaN   \n",
       "\n",
       "      T2_OrdinalRank  \n",
       "9301             NaN  \n",
       "9302             NaN  \n",
       "\n",
       "[2 rows x 37 columns]"
      ]
     },
     "metadata": {},
     "output_type": "display_data"
    }
   ],
   "source": [
    "flag_3season_avg = FEATURES.season_average.enabled\n",
    "\n",
    "#trueのときの処理理解してfalseと一致させる\n",
    "if flag_3season_avg:\n",
    "    print(\"#####\")\n",
    "    print(\"use 3 season average\")\n",
    "    print(\"#####\")\n",
    "    weight = FEATURES.season_average.weights\n",
    "    years = FEATURES.season_average.past_years\n",
    "    assert years==len(weight)\n",
    "    \n",
    "    features_for_calc = [\"T1_Scoremean\", \"T1_FGAmean\",  \"T1_FGA3mean\"]\n",
    "    season_statistics_with_3_seas = write_mean_of_3_seasons(\n",
    "        season_statistics, features_for_calc, weight, degree_weight=1.0\n",
    "    )\n",
    "    \n",
    "    season_statistics_T1 = season_statistics_with_3_seas.copy()\n",
    "    season_statistics_T2 = season_statistics_with_3_seas.copy()\n",
    "    \n",
    "else:\n",
    "    print(\"#####\")\n",
    "    print(\"skip 3 season verage\")\n",
    "    print(\"#####\")\n",
    "    season_statistics_T1 = season_statistics.copy()\n",
    "    season_statistics_T2 = season_statistics.copy()\n",
    "\n",
    "season_statistics_T1.columns = [\"T1_\" + x.replace(\"T1_\",\"\").replace(\"T2_\",\"opponent_\") for x in list(season_statistics_T1.columns)]\n",
    "season_statistics_T2.columns = [\"T2_\" + x.replace(\"T1_\",\"\").replace(\"T2_\",\"opponent_\") for x in list(season_statistics_T2.columns)]\n",
    "season_statistics_T1.columns.values[0] = \"Season\"\n",
    "season_statistics_T2.columns.values[0] = \"Season\"\n",
    "\n",
    "\n",
    "season_statistics_T2.rename(columns = {\n",
    "    \"T1_TeamID\": \"T2_TeamID\"\n",
    "}, inplace=True)\n",
    "display(season_statistics_T1.head(2), season_statistics_T2.tail(2))"
   ]
  },
  {
   "cell_type": "markdown",
   "id": "f3cbd886",
   "metadata": {
    "papermill": {
     "duration": 0.008032,
     "end_time": "2025-03-18T19:06:22.380834",
     "exception": false,
     "start_time": "2025-03-18T19:06:22.372802",
     "status": "completed"
    },
    "tags": []
   },
   "source": [
    "# Toureney dataの処理\n",
    "1. pointdiff, pointが目的変数となるのでそれはyに分離\n",
    "2. seasonstatisticを結合したものをXとして作る"
   ]
  },
  {
   "cell_type": "code",
   "execution_count": 13,
   "id": "70bdd628",
   "metadata": {
    "execution": {
     "iopub.execute_input": "2025-03-18T19:06:22.397081Z",
     "iopub.status.busy": "2025-03-18T19:06:22.397081Z",
     "iopub.status.idle": "2025-03-18T19:06:22.403846Z",
     "shell.execute_reply": "2025-03-18T19:06:22.403159Z"
    },
    "papermill": {
     "duration": 0.016524,
     "end_time": "2025-03-18T19:06:22.404681",
     "exception": false,
     "start_time": "2025-03-18T19:06:22.388157",
     "status": "completed"
    },
    "tags": []
   },
   "outputs": [],
   "source": [
    "\n",
    "def process_tourney(df1, mode=\"tourney\"):\n",
    "    #Season, teamid ->X, team_score->y\n",
    "    df = df1.copy()\n",
    "    if mode==\"tourney\":\n",
    "        df = prepare_data(df) \n",
    "        y = df[\"T1_Score\"]-df[\"T2_Score\"]\n",
    "    X = df[['Season', 'T1_TeamID', 'T2_TeamID']]\n",
    "    X = pd.merge(X, season_statistics_T1, on = ['Season', 'T1_TeamID'], how = 'left')\n",
    "    X = pd.merge(X, season_statistics_T2, on = ['Season', 'T2_TeamID'], how = 'left')\n",
    "    \n",
    "    #seed->seed diff\n",
    "    X[\"seed_diff\"] = X[\"T1_seed\"] - X[\"T2_seed\"]\n",
    "    #rank->rank diff\n",
    "    X[\"rank_diff\"] = X[\"T1_OrdinalRank\"] - X[\"T2_OrdinalRank\"]\n",
    "    #quality->quality diff\n",
    "    X[\"quality_diff\"] = X[\"T1_quality\"] - X[\"T2_quality\"]\n",
    "    #win_ratio_14d -> win_raio_14d_diff\n",
    "    X[\"win_ratio_14d_diff\"] = X[\"T1_win_ratio_14d\"] - X[\"T2_win_ratio_14d\"]\n",
    "    #tourney_data.drop(columns=[\"T1_seed\", \"T2_seed\"], inplace=True)\n",
    "\n",
    "    X = X.drop(columns=[\"T1_seed\", \"T2_seed\", \"T1_OrdinalRank\", \"T2_OrdinalRank\", \n",
    "                        \"T1_quality\", \"T2_quality\", \"T1_win_ratio_14d\", \"T2_win_ratio_14d\"\n",
    "                        ])\n",
    "    \n",
    "    if FEATURES.T1_FGAdiff: \n",
    "        X[\"T1_FGA_diff\"] = X[\"T1_FGAmean\"] - X[\"T1_opponent_FGAmean\"]\n",
    "        X[\"T2_FGA_diff\"] = X[\"T2_FGAmean\"] - X[\"T2_opponent_FGAmean\"]\n",
    "        X = X.drop(columns=[\"T1_FGAmean\", \"T2_FGAmean\", \"T1_opponent_FGAmean\", \"T2_opponent_FGAmean\"])\n",
    "        \n",
    "    # if rank_diff is False, drop.\n",
    "    IS_RANKDIFF = FEATURES.rank_diff\n",
    "    if not IS_RANKDIFF:\n",
    "        X = X.drop(columns=[\"rank_diff\"])\n",
    "        print(\"drop rank_diff\")\n",
    "    \n",
    "    # if fillna is true-> run fillna()\n",
    "    FILLNA = FEATURES.fillna.quality\n",
    "    if FILLNA==\"nan\":\n",
    "        print(f\"no fillna, use nan\")\n",
    "        X[\"quality_diff\"] = X[\"quality_diff\"].fillna(np.nan)\n",
    "    else:\n",
    "        print(f\"fillna quality feature for {FILLNA}\")\n",
    "        X[\"quality_diff\"] = X[\"quality_diff\"].fillna(FILLNA)\n",
    "\n",
    "        \n",
    "    return X, y if mode==\"tourney\" else X"
   ]
  },
  {
   "cell_type": "code",
   "execution_count": 14,
   "id": "5bc24ab2",
   "metadata": {
    "execution": {
     "iopub.execute_input": "2025-03-18T19:06:22.421894Z",
     "iopub.status.busy": "2025-03-18T19:06:22.421894Z",
     "iopub.status.idle": "2025-03-18T19:06:22.468416Z",
     "shell.execute_reply": "2025-03-18T19:06:22.468416Z"
    },
    "papermill": {
     "duration": 0.057697,
     "end_time": "2025-03-18T19:06:22.470423",
     "exception": false,
     "start_time": "2025-03-18T19:06:22.412726",
     "status": "completed"
    },
    "tags": []
   },
   "outputs": [
    {
     "name": "stdout",
     "output_type": "stream",
     "text": [
      "<class 'pandas.core.frame.DataFrame'>\n",
      "Index: 1615 entries, 0 to 1948\n",
      "Data columns (total 56 columns):\n",
      " #   Column       Non-Null Count  Dtype  \n",
      "---  ------       --------------  -----  \n",
      " 0   Season       1615 non-null   int64  \n",
      " 1   DayNum       1615 non-null   int64  \n",
      " 2   WTeamID      1615 non-null   int64  \n",
      " 3   WScore       1615 non-null   int64  \n",
      " 4   LTeamID      1615 non-null   int64  \n",
      " 5   LScore       1615 non-null   int64  \n",
      " 6   WLoc         1615 non-null   object \n",
      " 7   NumOT        1615 non-null   int64  \n",
      " 8   WFGM         1615 non-null   int64  \n",
      " 9   WFGA         1615 non-null   int64  \n",
      " 10  WFGM3        1615 non-null   int64  \n",
      " 11  WFGA3        1615 non-null   int64  \n",
      " 12  WFTM         1615 non-null   int64  \n",
      " 13  WFTA         1615 non-null   int64  \n",
      " 14  WOR          1615 non-null   int64  \n",
      " 15  WDR          1615 non-null   int64  \n",
      " 16  WAst         1615 non-null   int64  \n",
      " 17  WTO          1615 non-null   int64  \n",
      " 18  WStl         1615 non-null   int64  \n",
      " 19  WBlk         1615 non-null   int64  \n",
      " 20  WPF          1615 non-null   int64  \n",
      " 21  LFGM         1615 non-null   int64  \n",
      " 22  LFGA         1615 non-null   int64  \n",
      " 23  LFGM3        1615 non-null   int64  \n",
      " 24  LFGA3        1615 non-null   int64  \n",
      " 25  LFTM         1615 non-null   int64  \n",
      " 26  LFTA         1615 non-null   int64  \n",
      " 27  LOR          1615 non-null   int64  \n",
      " 28  LDR          1615 non-null   int64  \n",
      " 29  LAst         1615 non-null   int64  \n",
      " 30  LTO          1615 non-null   int64  \n",
      " 31  LStl         1615 non-null   int64  \n",
      " 32  LBlk         1615 non-null   int64  \n",
      " 33  LPF          1615 non-null   int64  \n",
      " 34  WEFFG        1615 non-null   float64\n",
      " 35  LEFFG        1615 non-null   float64\n",
      " 36  WEFFG3       1615 non-null   float64\n",
      " 37  LEFFG3       1615 non-null   float64\n",
      " 38  WDARE        1615 non-null   float64\n",
      " 39  LDARE        1615 non-null   float64\n",
      " 40  WTOQUETOQUE  1615 non-null   float64\n",
      " 41  LTOQUETOQUE  1615 non-null   float64\n",
      " 42  WEFG_SUM     1615 non-null   float64\n",
      " 43  LEFG_SUM     1615 non-null   float64\n",
      " 44  WPOSS        1615 non-null   float64\n",
      " 45  LPOSS        1615 non-null   float64\n",
      " 46  WPOSS_RATE   1615 non-null   float64\n",
      " 47  LPOSS_RATE   1615 non-null   float64\n",
      " 48  WTO_RATIO    1615 non-null   float64\n",
      " 49  LTO_RATIO    1615 non-null   float64\n",
      " 50  WREB_RATE    1615 non-null   float64\n",
      " 51  LREB_RATE    1615 non-null   float64\n",
      " 52  WFT_RATE     1615 non-null   float64\n",
      " 53  LFT_RATE     1615 non-null   float64\n",
      " 54  WRATING      1615 non-null   float64\n",
      " 55  LRATING      1615 non-null   float64\n",
      "dtypes: float64(22), int64(33), object(1)\n",
      "memory usage: 719.2+ KB\n",
      "None\n"
     ]
    },
    {
     "name": "stdout",
     "output_type": "stream",
     "text": [
      "feature cols after prepare()\n",
      "Index(['Season', 'DayNum', 'T1_TeamID', 'T1_Score', 'T2_TeamID', 'T2_Score',\n",
      "       'location', 'NumOT', 'T1_FGM', 'T1_FGA', 'T1_FGM3', 'T1_FGA3', 'T1_FTM',\n",
      "       'T1_FTA', 'T1_OR', 'T1_DR', 'T1_Ast', 'T1_TO', 'T1_Stl', 'T1_Blk',\n",
      "       'T1_PF', 'T2_FGM', 'T2_FGA', 'T2_FGM3', 'T2_FGA3', 'T2_FTM', 'T2_FTA',\n",
      "       'T2_OR', 'T2_DR', 'T2_Ast', 'T2_TO', 'T2_Stl', 'T2_Blk', 'T2_PF',\n",
      "       'T1_EFFG', 'T2_EFFG', 'T1_EFFG3', 'T2_EFFG3', 'T1_DARE', 'T2_DARE',\n",
      "       'T1_TOQUETOQUE', 'T2_TOQUETOQUE', 'T1_EFG_SUM', 'T2_EFG_SUM', 'T1_POSS',\n",
      "       'T2_POSS', 'T1_POSS_RATE', 'T2_POSS_RATE', 'T1_TO_RATIO', 'T2_TO_RATIO',\n",
      "       'T1_REB_RATE', 'T2_REB_RATE', 'T1_FT_RATE', 'T2_FT_RATE', 'T1_RATING',\n",
      "       'T2_RATING', 'PointDiff', 'win'],\n",
      "      dtype='object')\n"
     ]
    },
    {
     "name": "stdout",
     "output_type": "stream",
     "text": [
      "no fillna, use nan\n"
     ]
    }
   ],
   "source": [
    "X, y = process_tourney(tourney_results)"
   ]
  },
  {
   "cell_type": "code",
   "execution_count": 15,
   "id": "1d5501eb",
   "metadata": {
    "execution": {
     "iopub.execute_input": "2025-03-18T19:06:22.490148Z",
     "iopub.status.busy": "2025-03-18T19:06:22.490148Z",
     "iopub.status.idle": "2025-03-18T19:06:22.497415Z",
     "shell.execute_reply": "2025-03-18T19:06:22.497415Z"
    },
    "papermill": {
     "duration": 0.018321,
     "end_time": "2025-03-18T19:06:22.499425",
     "exception": false,
     "start_time": "2025-03-18T19:06:22.481104",
     "status": "completed"
    },
    "tags": []
   },
   "outputs": [
    {
     "name": "stdout",
     "output_type": "stream",
     "text": [
      "drop col list: ['T1_TOmean', 'T2_TOmean', 'T1_opponent_POSS_RATEmean', 'T2_opponent_POSS_RATEmean', 'T1_opponent_Astmean', 'T2_opponent_Astmean', 'T1_opponent_FT_RATEmean', 'T2_opponent_FT_RATEmean', 'T1_opponent_Stlmean', 'T2_opponent_Stlmean', 'T1_ORmean', 'T2_ORmean', 'T1_opponent_ORmean', 'T2_opponent_ORmean']\n"
     ]
    }
   ],
   "source": [
    "#opponentなど明示的に特徴量選出に基づいて落とす\n",
    "def drop_columns(df, cols):\n",
    "    if not cols: return df\n",
    "    existing_cols = [col for col in cols if col in df.columns]\n",
    "    print(f\"drop col list: {existing_cols}\")\n",
    "    return df.drop(columns=existing_cols)\n",
    "\n",
    "drop_col = FEATURES.dropfeatures\n",
    "X = drop_columns(X, drop_col)"
   ]
  },
  {
   "cell_type": "code",
   "execution_count": 16,
   "id": "8931df74",
   "metadata": {
    "execution": {
     "iopub.execute_input": "2025-03-18T19:06:22.520227Z",
     "iopub.status.busy": "2025-03-18T19:06:22.520227Z",
     "iopub.status.idle": "2025-03-18T19:06:22.525487Z",
     "shell.execute_reply": "2025-03-18T19:06:22.525487Z"
    },
    "papermill": {
     "duration": 0.016461,
     "end_time": "2025-03-18T19:06:22.527030",
     "exception": false,
     "start_time": "2025-03-18T19:06:22.510569",
     "status": "completed"
    },
    "tags": []
   },
   "outputs": [
    {
     "name": "stdout",
     "output_type": "stream",
     "text": [
      "最終的な X の特徴量\n",
      "Index(['Season', 'T1_TeamID', 'T2_TeamID', 'T1_Scoremean',\n",
      "       'T1_opponent_Scoremean', 'T1_PointDiffmean', 'T1_FGAmean',\n",
      "       'T1_opponent_FGAmean', 'T1_FGMmean', 'T1_opponent_FGMmean',\n",
      "       'T1_EFG_SUMmean', 'T1_opponent_EFG_SUMmean', 'T1_TO_RATIOmean',\n",
      "       'T1_opponent_TO_RATIOmean', 'T1_DRmean', 'T1_opponent_DRmean',\n",
      "       'T1_REB_RATEmean', 'T1_opponent_REB_RATEmean', 'T1_FT_RATEmean',\n",
      "       'T1_POSS_RATEmean', 'T1_Astmean', 'T1_opponent_TOmean', 'T1_Stlmean',\n",
      "       'T1_Blkmean', 'T1_opponent_Blkmean', 'T1_PFmean', 'T1_opponent_PFmean',\n",
      "       'T2_Scoremean', 'T2_opponent_Scoremean', 'T2_PointDiffmean',\n",
      "       'T2_FGAmean', 'T2_opponent_FGAmean', 'T2_FGMmean',\n",
      "       'T2_opponent_FGMmean', 'T2_EFG_SUMmean', 'T2_opponent_EFG_SUMmean',\n",
      "       'T2_TO_RATIOmean', 'T2_opponent_TO_RATIOmean', 'T2_DRmean',\n",
      "       'T2_opponent_DRmean', 'T2_REB_RATEmean', 'T2_opponent_REB_RATEmean',\n",
      "       'T2_FT_RATEmean', 'T2_POSS_RATEmean', 'T2_Astmean',\n",
      "       'T2_opponent_TOmean', 'T2_Stlmean', 'T2_Blkmean', 'T2_opponent_Blkmean',\n",
      "       'T2_PFmean', 'T2_opponent_PFmean', 'seed_diff', 'rank_diff',\n",
      "       'quality_diff', 'win_ratio_14d_diff'],\n",
      "      dtype='object')\n"
     ]
    }
   ],
   "source": [
    "print(\"最終的な X の特徴量\")\n",
    "print(X.columns)"
   ]
  },
  {
   "cell_type": "code",
   "execution_count": 17,
   "id": "f0b2d1b6",
   "metadata": {
    "execution": {
     "iopub.execute_input": "2025-03-18T19:06:22.546127Z",
     "iopub.status.busy": "2025-03-18T19:06:22.546127Z",
     "iopub.status.idle": "2025-03-18T19:06:22.555178Z",
     "shell.execute_reply": "2025-03-18T19:06:22.555178Z"
    },
    "papermill": {
     "duration": 0.020134,
     "end_time": "2025-03-18T19:06:22.557250",
     "exception": false,
     "start_time": "2025-03-18T19:06:22.537116",
     "status": "completed"
    },
    "tags": []
   },
   "outputs": [
    {
     "name": "stdout",
     "output_type": "stream",
     "text": [
      "<class 'pandas.core.frame.DataFrame'>\n",
      "RangeIndex: 3230 entries, 0 to 3229\n",
      "Data columns (total 55 columns):\n",
      " #   Column                    Non-Null Count  Dtype  \n",
      "---  ------                    --------------  -----  \n",
      " 0   Season                    3230 non-null   int64  \n",
      " 1   T1_TeamID                 3230 non-null   int64  \n",
      " 2   T2_TeamID                 3230 non-null   int64  \n",
      " 3   T1_Scoremean              3230 non-null   float64\n",
      " 4   T1_opponent_Scoremean     3230 non-null   float64\n",
      " 5   T1_PointDiffmean          3230 non-null   float64\n",
      " 6   T1_FGAmean                3230 non-null   float64\n",
      " 7   T1_opponent_FGAmean       3230 non-null   float64\n",
      " 8   T1_FGMmean                3230 non-null   float64\n",
      " 9   T1_opponent_FGMmean       3230 non-null   float64\n",
      " 10  T1_EFG_SUMmean            3230 non-null   float64\n",
      " 11  T1_opponent_EFG_SUMmean   3230 non-null   float64\n",
      " 12  T1_TO_RATIOmean           3230 non-null   float64\n",
      " 13  T1_opponent_TO_RATIOmean  3230 non-null   float64\n",
      " 14  T1_DRmean                 3230 non-null   float64\n",
      " 15  T1_opponent_DRmean        3230 non-null   float64\n",
      " 16  T1_REB_RATEmean           3230 non-null   float64\n",
      " 17  T1_opponent_REB_RATEmean  3230 non-null   float64\n",
      " 18  T1_FT_RATEmean            3230 non-null   float64\n",
      " 19  T1_POSS_RATEmean          3230 non-null   float64\n",
      " 20  T1_Astmean                3230 non-null   float64\n",
      " 21  T1_opponent_TOmean        3230 non-null   float64\n",
      " 22  T1_Stlmean                3230 non-null   float64\n",
      " 23  T1_Blkmean                3230 non-null   float64\n",
      " 24  T1_opponent_Blkmean       3230 non-null   float64\n",
      " 25  T1_PFmean                 3230 non-null   float64\n",
      " 26  T1_opponent_PFmean        3230 non-null   float64\n",
      " 27  T2_Scoremean              3230 non-null   float64\n",
      " 28  T2_opponent_Scoremean     3230 non-null   float64\n",
      " 29  T2_PointDiffmean          3230 non-null   float64\n",
      " 30  T2_FGAmean                3230 non-null   float64\n",
      " 31  T2_opponent_FGAmean       3230 non-null   float64\n",
      " 32  T2_FGMmean                3230 non-null   float64\n",
      " 33  T2_opponent_FGMmean       3230 non-null   float64\n",
      " 34  T2_EFG_SUMmean            3230 non-null   float64\n",
      " 35  T2_opponent_EFG_SUMmean   3230 non-null   float64\n",
      " 36  T2_TO_RATIOmean           3230 non-null   float64\n",
      " 37  T2_opponent_TO_RATIOmean  3230 non-null   float64\n",
      " 38  T2_DRmean                 3230 non-null   float64\n",
      " 39  T2_opponent_DRmean        3230 non-null   float64\n",
      " 40  T2_REB_RATEmean           3230 non-null   float64\n",
      " 41  T2_opponent_REB_RATEmean  3230 non-null   float64\n",
      " 42  T2_FT_RATEmean            3230 non-null   float64\n",
      " 43  T2_POSS_RATEmean          3230 non-null   float64\n",
      " 44  T2_Astmean                3230 non-null   float64\n",
      " 45  T2_opponent_TOmean        3230 non-null   float64\n",
      " 46  T2_Stlmean                3230 non-null   float64\n",
      " 47  T2_Blkmean                3230 non-null   float64\n",
      " 48  T2_opponent_Blkmean       3230 non-null   float64\n",
      " 49  T2_PFmean                 3230 non-null   float64\n",
      " 50  T2_opponent_PFmean        3230 non-null   float64\n",
      " 51  seed_diff                 3230 non-null   float64\n",
      " 52  rank_diff                 2096 non-null   float64\n",
      " 53  quality_diff              3230 non-null   float64\n",
      " 54  win_ratio_14d_diff        3230 non-null   float64\n",
      "dtypes: float64(52), int64(3)\n",
      "memory usage: 1.4 MB\n"
     ]
    }
   ],
   "source": [
    "X.info()"
   ]
  },
  {
   "cell_type": "markdown",
   "id": "41977ba2",
   "metadata": {
    "papermill": {
     "duration": 0.002954,
     "end_time": "2025-03-18T19:06:22.569197",
     "exception": false,
     "start_time": "2025-03-18T19:06:22.566243",
     "status": "completed"
    },
    "tags": []
   },
   "source": [
    "# build models"
   ]
  },
  {
   "cell_type": "code",
   "execution_count": 18,
   "id": "87a2c19a",
   "metadata": {
    "execution": {
     "iopub.execute_input": "2025-03-18T19:06:22.585193Z",
     "iopub.status.busy": "2025-03-18T19:06:22.585193Z",
     "iopub.status.idle": "2025-03-18T19:06:22.609049Z",
     "shell.execute_reply": "2025-03-18T19:06:22.609049Z"
    },
    "papermill": {
     "duration": 0.041856,
     "end_time": "2025-03-18T19:06:22.611053",
     "exception": false,
     "start_time": "2025-03-18T19:06:22.569197",
     "status": "completed"
    },
    "tags": []
   },
   "outputs": [],
   "source": [
    "\n",
    "val_mae = []\n",
    "iteration_counts = []\n",
    "xgb_cv = []\n",
    "dtrain = xgb.DMatrix(X, label=y)\n",
    "\n",
    "repeat_cv = MODEL.repeat_cv\n",
    "param = dict(MODEL.xgb_model.param)\n",
    "num_boost_round = MODEL.xgb_model.num_boost_round\n",
    "folds_splits = MODEL.xgb_model.folds_splits\n",
    "early_stopping_rounds = MODEL.xgb_model.early_stopping_rounds\n",
    "\n",
    "# コーシー損失関数\n",
    "def cauchyobj(preds, dtrain):\n",
    "    labels = dtrain.get_label()\n",
    "    c = 5000\n",
    "    x = preds - labels    \n",
    "    grad = x / (x**2/c**2 + 1)\n",
    "    hess = -c**2 * (x**2 - c**2) / (x**2 + c**2)**2\n",
    "    return grad, hess"
   ]
  },
  {
   "cell_type": "code",
   "execution_count": 19,
   "id": "f4a0c1fa",
   "metadata": {
    "execution": {
     "iopub.execute_input": "2025-03-18T19:06:22.638053Z",
     "iopub.status.busy": "2025-03-18T19:06:22.635804Z",
     "iopub.status.idle": "2025-03-18T19:06:22.652500Z",
     "shell.execute_reply": "2025-03-18T19:06:22.652500Z"
    },
    "papermill": {
     "duration": 0.032479,
     "end_time": "2025-03-18T19:06:22.655312",
     "exception": false,
     "start_time": "2025-03-18T19:06:22.622833",
     "status": "completed"
    },
    "tags": []
   },
   "outputs": [],
   "source": [
    "#########################################\n",
    "# 1. Optunaあり：ハイパーパラメータ最適化 #\n",
    "#########################################\n",
    "def run_optuna_optimization(param, optuna_conf):\n",
    "    def objective(trial):  \n",
    "        logger.info(f\"Trial {trial.number} 開始\")\n",
    "        \n",
    "        current_param = param.copy()  \n",
    "        max_depth_range = optuna_conf.max_depth        \n",
    "        eta_range = optuna_conf.eta\n",
    "        subsample_range = optuna_conf.subsample          \n",
    "        colsample_bytree_range = optuna_conf.colsample_bytree\n",
    "        num_parallel_tree_range = optuna_conf.num_parallel_tree \n",
    "        min_child_weight_range = optuna_conf.min_child_weight \n",
    "        reg_alpha_range = optuna_conf.reg_alpha         \n",
    "        reg_lambda_range = optuna_conf.reg_lambda    \n",
    "        reg_gamma_range = optuna_conf.gamma  \n",
    "\n",
    "        current_param[\"max_depth\"] = trial.suggest_int(\"max_depth\", max_depth_range[0], max_depth_range[1])\n",
    "        current_param[\"eta\"] = trial.suggest_float(\"eta\", eta_range[0], eta_range[1], log=True)\n",
    "        current_param[\"subsample\"] = trial.suggest_float(\"subsample\", subsample_range[0], subsample_range[1])\n",
    "        current_param[\"colsample_bytree\"] = trial.suggest_float(\"colsample_bytree\", colsample_bytree_range[0], colsample_bytree_range[1])\n",
    "        current_param[\"num_parallel_tree\"] = trial.suggest_int(\"num_parallel_tree\", num_parallel_tree_range[0], num_parallel_tree_range[1])\n",
    "        current_param[\"min_child_weight\"] = trial.suggest_int(\"min_child_weight\", min_child_weight_range[0], min_child_weight_range[1])\n",
    "        current_param[\"reg_alpha\"] = trial.suggest_float(\"reg_alpha\", reg_alpha_range[0], reg_alpha_range[1])\n",
    "        current_param[\"reg_lambda\"] = trial.suggest_float(\"reg_lambda\", reg_lambda_range[0], reg_lambda_range[1])\n",
    "        current_param[\"gamma\"] = trial.suggest_float(\"gamma\", reg_gamma_range[0], reg_gamma_range[1])\n",
    "        \n",
    "        if current_param.get(\"eval_metric\", \"mae\") == \"rmse\":\n",
    "            score_name = \"test-rmse-mean\"\n",
    "        elif current_param.get(\"eval_metric\", \"mae\") == \"mae\":\n",
    "            score_name = \"test-mae-mean\"\n",
    "        elif  current_param.get(\"eval_metric\", \"mae\") == \"logloss\":\n",
    "            score_name = \"test-logloss-mean\"\n",
    "        \n",
    "        print(current_param)  \n",
    "        cv_scores = []\n",
    "        for i in range(repeat_cv):\n",
    "            cv_result = xgb.cv(\n",
    "                params=current_param,\n",
    "                dtrain=dtrain,\n",
    "                obj=cauchyobj,\n",
    "                num_boost_round=num_boost_round,\n",
    "                folds=KFold(n_splits=folds_splits, shuffle=True, random_state=i),\n",
    "                early_stopping_rounds=early_stopping_rounds,\n",
    "                verbose_eval=False\n",
    "            )\n",
    "            fold_score = np.min(cv_result[score_name].values)\n",
    "            cv_scores.append(fold_score)\n",
    "        mean_score = np.mean(cv_scores)\n",
    "        logger.info(f\"Trial {trial.number} 終了: スコア {mean_score}\")\n",
    "        \n",
    "        return mean_score\n",
    "\n",
    "    logger.info(\"Optuna最適化開始\")\n",
    "    N_WARMUP_STEPS = optuna_conf.n_warmup_steps\n",
    "    TIMEOUT = optuna_conf.timeout\n",
    "    N_JOBS = optuna_conf.n_jobs\n",
    "    N_TRIALS = optuna_conf.n_trials\n",
    "    \n",
    "    sampler = optuna.samplers.TPESampler(seed=42)\n",
    "    pruner = optuna.pruners.MedianPruner(n_warmup_steps=N_WARMUP_STEPS)\n",
    "\n",
    "    study = optuna.create_study(direction=\"minimize\", sampler=sampler, pruner=pruner)\n",
    "    study.optimize(objective, n_trials=N_TRIALS, timeout=TIMEOUT, n_jobs=N_JOBS)\n",
    "\n",
    "    best_trial = study.best_trial\n",
    "    logger.info(\"Best trial:\")\n",
    "    logger.info(f\"  Value: {best_trial.value}\")\n",
    "    \n",
    "    for key, value in best_trial.params.items():\n",
    "        print(f\"    {key}: {value}\")\n",
    "    param.update(best_trial.params)\n",
    "\n",
    "    logger.info(\"Optuna最適化終了\")\n",
    "    return param"
   ]
  },
  {
   "cell_type": "code",
   "execution_count": 20,
   "id": "35cc1ec6",
   "metadata": {
    "execution": {
     "iopub.execute_input": "2025-03-18T19:06:22.683565Z",
     "iopub.status.busy": "2025-03-18T19:06:22.682565Z",
     "iopub.status.idle": "2025-03-18T19:06:22.690105Z",
     "shell.execute_reply": "2025-03-18T19:06:22.690105Z"
    },
    "papermill": {
     "duration": 0.023539,
     "end_time": "2025-03-18T19:06:22.692185",
     "exception": false,
     "start_time": "2025-03-18T19:06:22.668646",
     "status": "completed"
    },
    "tags": []
   },
   "outputs": [
    {
     "name": "stdout",
     "output_type": "stream",
     "text": [
      "not use Optuna, use xgb_model.param\n",
      "param: {'eval_metric': 'rmse', 'booster': 'gbtree', 'eta': 0.02, 'subsample': 0.35, 'colsample_bytree': 0.7, 'num_parallel_tree': 10, 'min_child_weight': 40, 'gamma': 10, 'max_depth': 3}\n",
      "repeat_cv: 10\n",
      "num_boost_round: 3000\n",
      "folds_splits: 5\n",
      "early_stopping_rounds: 25\n"
     ]
    }
   ],
   "source": [
    "IS_OPTUNA = MODEL.optuna_enabled\n",
    "if IS_OPTUNA:\n",
    "    print(\"Optuna use mode\") \n",
    "    optuna_conf = MODEL.xgb_model.optuna\n",
    "    logger.add(os.path.join(OUTPUT_PATH, \"results.log\"), format=\"{time:YYYY-MM-DD at HH:mm:ss} - {level} - {message}\", level=\"INFO\")\n",
    "    param = run_optuna_optimization(param, optuna_conf)\n",
    "    print(\"param updated by optuna\")\n",
    "    results+= [\"param set after optuna is below\", f\"{param}\", \"\"]\n",
    "else:    \n",
    "    print(\"not use Optuna, use xgb_model.param\")\n",
    "\n",
    "\n",
    "\n",
    "print(\"param:\", param)\n",
    "print(\"repeat_cv:\", repeat_cv)\n",
    "print(\"num_boost_round:\", num_boost_round)\n",
    "print(\"folds_splits:\", folds_splits)\n",
    "print(\"early_stopping_rounds:\", early_stopping_rounds)"
   ]
  },
  {
   "cell_type": "code",
   "execution_count": 21,
   "id": "a9b2c59e",
   "metadata": {
    "execution": {
     "iopub.execute_input": "2025-03-18T19:06:22.716282Z",
     "iopub.status.busy": "2025-03-18T19:06:22.716282Z",
     "iopub.status.idle": "2025-03-18T19:10:14.550095Z",
     "shell.execute_reply": "2025-03-18T19:10:14.550095Z"
    },
    "papermill": {
     "duration": 231.845036,
     "end_time": "2025-03-18T19:10:14.550095",
     "exception": false,
     "start_time": "2025-03-18T19:06:22.705059",
     "status": "completed"
    },
    "tags": []
   },
   "outputs": [
    {
     "name": "stderr",
     "output_type": "stream",
     "text": [
      "\r",
      "  0%|                                                                                                                                                                                                                                      | 0/10 [00:00<?, ?it/s]"
     ]
    },
    {
     "name": "stdout",
     "output_type": "stream",
     "text": [
      "[0]\ttrain-rmse:17.08923+0.03225\ttest-rmse:17.09312+0.13419\n"
     ]
    },
    {
     "name": "stdout",
     "output_type": "stream",
     "text": [
      "[50]\ttrain-rmse:13.07792+0.04542\ttest-rmse:13.28078+0.18123\n"
     ]
    },
    {
     "name": "stdout",
     "output_type": "stream",
     "text": [
      "[100]\ttrain-rmse:11.98566+0.04491\ttest-rmse:12.35779+0.18958\n"
     ]
    },
    {
     "name": "stdout",
     "output_type": "stream",
     "text": [
      "[150]\ttrain-rmse:11.57119+0.04410\ttest-rmse:12.09695+0.18117\n"
     ]
    },
    {
     "name": "stdout",
     "output_type": "stream",
     "text": [
      "[200]\ttrain-rmse:11.31475+0.04305\ttest-rmse:11.98503+0.17893\n"
     ]
    },
    {
     "name": "stdout",
     "output_type": "stream",
     "text": [
      "[250]\ttrain-rmse:11.11796+0.04149\ttest-rmse:11.92993+0.17668\n"
     ]
    },
    {
     "name": "stdout",
     "output_type": "stream",
     "text": [
      "[300]\ttrain-rmse:10.94830+0.04106\ttest-rmse:11.89758+0.17495\n"
     ]
    },
    {
     "name": "stdout",
     "output_type": "stream",
     "text": [
      "[350]\ttrain-rmse:10.79828+0.04141\ttest-rmse:11.88112+0.17148\n"
     ]
    },
    {
     "name": "stdout",
     "output_type": "stream",
     "text": [
      "[400]\ttrain-rmse:10.66049+0.03886\ttest-rmse:11.87332+0.16869\n"
     ]
    },
    {
     "name": "stdout",
     "output_type": "stream",
     "text": [
      "[450]\ttrain-rmse:10.53232+0.03862\ttest-rmse:11.86852+0.16555\n"
     ]
    },
    {
     "name": "stdout",
     "output_type": "stream",
     "text": [
      "[481]\ttrain-rmse:10.45598+0.03950\ttest-rmse:11.86816+0.16638\n"
     ]
    },
    {
     "name": "stderr",
     "output_type": "stream",
     "text": [
      "\r",
      " 10%|██████████████████████▏                                                                                                                                                                                                       | 1/10 [00:19<02:53, 19.27s/it]"
     ]
    },
    {
     "name": "stdout",
     "output_type": "stream",
     "text": [
      "[0]\ttrain-rmse:17.08740+0.15486\ttest-rmse:17.08016+0.62740\n"
     ]
    },
    {
     "name": "stdout",
     "output_type": "stream",
     "text": [
      "[50]\ttrain-rmse:13.07767+0.10509\ttest-rmse:13.26067+0.50722\n"
     ]
    },
    {
     "name": "stdout",
     "output_type": "stream",
     "text": [
      "[100]\ttrain-rmse:11.99018+0.09870\ttest-rmse:12.34227+0.44233\n"
     ]
    },
    {
     "name": "stdout",
     "output_type": "stream",
     "text": [
      "[150]\ttrain-rmse:11.57131+0.09650\ttest-rmse:12.06702+0.41862\n"
     ]
    },
    {
     "name": "stdout",
     "output_type": "stream",
     "text": [
      "[200]\ttrain-rmse:11.31534+0.09553\ttest-rmse:11.95617+0.41039\n"
     ]
    },
    {
     "name": "stdout",
     "output_type": "stream",
     "text": [
      "[250]\ttrain-rmse:11.11763+0.09340\ttest-rmse:11.89868+0.40483\n"
     ]
    },
    {
     "name": "stdout",
     "output_type": "stream",
     "text": [
      "[300]\ttrain-rmse:10.94763+0.09313\ttest-rmse:11.86786+0.40242\n"
     ]
    },
    {
     "name": "stdout",
     "output_type": "stream",
     "text": [
      "[350]\ttrain-rmse:10.79905+0.09440\ttest-rmse:11.85164+0.40206\n"
     ]
    },
    {
     "name": "stdout",
     "output_type": "stream",
     "text": [
      "[400]\ttrain-rmse:10.66211+0.09652\ttest-rmse:11.83856+0.39848\n"
     ]
    },
    {
     "name": "stdout",
     "output_type": "stream",
     "text": [
      "[450]\ttrain-rmse:10.53278+0.09703\ttest-rmse:11.83337+0.39415\n"
     ]
    },
    {
     "name": "stdout",
     "output_type": "stream",
     "text": [
      "[466]\ttrain-rmse:10.49372+0.09663\ttest-rmse:11.83566+0.39502\n"
     ]
    },
    {
     "name": "stderr",
     "output_type": "stream",
     "text": [
      "\r",
      " 20%|████████████████████████████████████████████▍                                                                                                                                                                                 | 2/10 [00:38<02:34, 19.32s/it]"
     ]
    },
    {
     "name": "stdout",
     "output_type": "stream",
     "text": [
      "[0]\ttrain-rmse:17.08886+0.11977\ttest-rmse:17.08415+0.49301\n"
     ]
    },
    {
     "name": "stdout",
     "output_type": "stream",
     "text": [
      "[50]\ttrain-rmse:13.08221+0.07525\ttest-rmse:13.25218+0.36351\n"
     ]
    },
    {
     "name": "stdout",
     "output_type": "stream",
     "text": [
      "[100]\ttrain-rmse:11.98956+0.06475\ttest-rmse:12.31928+0.31076\n"
     ]
    },
    {
     "name": "stdout",
     "output_type": "stream",
     "text": [
      "[150]\ttrain-rmse:11.57592+0.06162\ttest-rmse:12.04517+0.29492\n"
     ]
    },
    {
     "name": "stdout",
     "output_type": "stream",
     "text": [
      "[200]\ttrain-rmse:11.32117+0.06208\ttest-rmse:11.93214+0.28850\n"
     ]
    },
    {
     "name": "stdout",
     "output_type": "stream",
     "text": [
      "[250]\ttrain-rmse:11.12477+0.05981\ttest-rmse:11.87705+0.28315\n"
     ]
    },
    {
     "name": "stdout",
     "output_type": "stream",
     "text": [
      "[300]\ttrain-rmse:10.95550+0.05859\ttest-rmse:11.84384+0.28076\n"
     ]
    },
    {
     "name": "stdout",
     "output_type": "stream",
     "text": [
      "[350]\ttrain-rmse:10.80617+0.05799\ttest-rmse:11.82363+0.27676\n"
     ]
    },
    {
     "name": "stdout",
     "output_type": "stream",
     "text": [
      "[400]\ttrain-rmse:10.66909+0.05826\ttest-rmse:11.81471+0.27172\n"
     ]
    },
    {
     "name": "stdout",
     "output_type": "stream",
     "text": [
      "[450]\ttrain-rmse:10.54153+0.05812\ttest-rmse:11.80966+0.26767\n"
     ]
    },
    {
     "name": "stdout",
     "output_type": "stream",
     "text": [
      "[500]\ttrain-rmse:10.41868+0.05564\ttest-rmse:11.80804+0.26323\n"
     ]
    },
    {
     "name": "stdout",
     "output_type": "stream",
     "text": [
      "[542]\ttrain-rmse:10.32041+0.05713\ttest-rmse:11.80764+0.26042\n"
     ]
    },
    {
     "name": "stderr",
     "output_type": "stream",
     "text": [
      "\r",
      " 30%|██████████████████████████████████████████████████████████████████▌                                                                                                                                                           | 3/10 [01:02<02:31, 21.58s/it]"
     ]
    },
    {
     "name": "stdout",
     "output_type": "stream",
     "text": [
      "[0]\ttrain-rmse:17.08807+0.07509\ttest-rmse:17.08840+0.30660\n"
     ]
    },
    {
     "name": "stdout",
     "output_type": "stream",
     "text": [
      "[50]\ttrain-rmse:13.08163+0.04661\ttest-rmse:13.25516+0.29806\n"
     ]
    },
    {
     "name": "stdout",
     "output_type": "stream",
     "text": [
      "[100]\ttrain-rmse:11.99156+0.05045\ttest-rmse:12.32248+0.24600\n"
     ]
    },
    {
     "name": "stdout",
     "output_type": "stream",
     "text": [
      "[150]\ttrain-rmse:11.57695+0.05378\ttest-rmse:12.04880+0.22401\n"
     ]
    },
    {
     "name": "stdout",
     "output_type": "stream",
     "text": [
      "[200]\ttrain-rmse:11.32016+0.05748\ttest-rmse:11.93397+0.21787\n"
     ]
    },
    {
     "name": "stdout",
     "output_type": "stream",
     "text": [
      "[250]\ttrain-rmse:11.12627+0.05893\ttest-rmse:11.87365+0.21850\n"
     ]
    },
    {
     "name": "stdout",
     "output_type": "stream",
     "text": [
      "[300]\ttrain-rmse:10.95645+0.05882\ttest-rmse:11.84254+0.22425\n"
     ]
    },
    {
     "name": "stdout",
     "output_type": "stream",
     "text": [
      "[350]\ttrain-rmse:10.80663+0.06102\ttest-rmse:11.82312+0.22872\n"
     ]
    },
    {
     "name": "stdout",
     "output_type": "stream",
     "text": [
      "[400]\ttrain-rmse:10.67165+0.06434\ttest-rmse:11.81321+0.23116\n"
     ]
    },
    {
     "name": "stdout",
     "output_type": "stream",
     "text": [
      "[450]\ttrain-rmse:10.54366+0.06404\ttest-rmse:11.80373+0.23312\n"
     ]
    },
    {
     "name": "stdout",
     "output_type": "stream",
     "text": [
      "[500]\ttrain-rmse:10.42211+0.06470\ttest-rmse:11.80079+0.23989\n"
     ]
    },
    {
     "name": "stdout",
     "output_type": "stream",
     "text": [
      "[547]\ttrain-rmse:10.31302+0.06718\ttest-rmse:11.79910+0.24252\n"
     ]
    },
    {
     "name": "stderr",
     "output_type": "stream",
     "text": [
      "\r",
      " 40%|████████████████████████████████████████████████████████████████████████████████████████▊                                                                                                                                     | 4/10 [01:27<02:17, 22.87s/it]"
     ]
    },
    {
     "name": "stdout",
     "output_type": "stream",
     "text": [
      "[0]\ttrain-rmse:17.08682+0.08383\ttest-rmse:17.08681+0.33572\n"
     ]
    },
    {
     "name": "stdout",
     "output_type": "stream",
     "text": [
      "[50]\ttrain-rmse:13.07878+0.10269\ttest-rmse:13.26546+0.47883\n"
     ]
    },
    {
     "name": "stdout",
     "output_type": "stream",
     "text": [
      "[100]\ttrain-rmse:11.98771+0.09999\ttest-rmse:12.33691+0.47081\n"
     ]
    },
    {
     "name": "stdout",
     "output_type": "stream",
     "text": [
      "[150]\ttrain-rmse:11.57480+0.09883\ttest-rmse:12.06534+0.44927\n"
     ]
    },
    {
     "name": "stdout",
     "output_type": "stream",
     "text": [
      "[200]\ttrain-rmse:11.31902+0.09668\ttest-rmse:11.95106+0.43815\n"
     ]
    },
    {
     "name": "stdout",
     "output_type": "stream",
     "text": [
      "[250]\ttrain-rmse:11.12264+0.09443\ttest-rmse:11.89147+0.42551\n"
     ]
    },
    {
     "name": "stdout",
     "output_type": "stream",
     "text": [
      "[300]\ttrain-rmse:10.95462+0.09387\ttest-rmse:11.85654+0.41463\n"
     ]
    },
    {
     "name": "stdout",
     "output_type": "stream",
     "text": [
      "[350]\ttrain-rmse:10.80420+0.09103\ttest-rmse:11.83656+0.40759\n"
     ]
    },
    {
     "name": "stdout",
     "output_type": "stream",
     "text": [
      "[400]\ttrain-rmse:10.66859+0.09002\ttest-rmse:11.82669+0.40312\n"
     ]
    },
    {
     "name": "stdout",
     "output_type": "stream",
     "text": [
      "[450]\ttrain-rmse:10.54016+0.09050\ttest-rmse:11.82002+0.39970\n"
     ]
    },
    {
     "name": "stdout",
     "output_type": "stream",
     "text": [
      "[486]\ttrain-rmse:10.45369+0.08995\ttest-rmse:11.82021+0.39768\n"
     ]
    },
    {
     "name": "stderr",
     "output_type": "stream",
     "text": [
      "\r",
      " 50%|███████████████████████████████████████████████████████████████████████████████████████████████████████████████                                                                                                               | 5/10 [01:51<01:55, 23.05s/it]"
     ]
    },
    {
     "name": "stdout",
     "output_type": "stream",
     "text": [
      "[0]\ttrain-rmse:17.08792+0.07274\ttest-rmse:17.08864+0.29820\n"
     ]
    },
    {
     "name": "stdout",
     "output_type": "stream",
     "text": [
      "[50]\ttrain-rmse:13.08046+0.06455\ttest-rmse:13.25294+0.25795\n"
     ]
    },
    {
     "name": "stdout",
     "output_type": "stream",
     "text": [
      "[100]\ttrain-rmse:11.98894+0.06807\ttest-rmse:12.31337+0.27069\n"
     ]
    },
    {
     "name": "stdout",
     "output_type": "stream",
     "text": [
      "[150]\ttrain-rmse:11.57700+0.06587\ttest-rmse:12.03949+0.27133\n"
     ]
    },
    {
     "name": "stdout",
     "output_type": "stream",
     "text": [
      "[200]\ttrain-rmse:11.32070+0.06441\ttest-rmse:11.92203+0.26878\n"
     ]
    },
    {
     "name": "stdout",
     "output_type": "stream",
     "text": [
      "[250]\ttrain-rmse:11.12423+0.06403\ttest-rmse:11.86579+0.26596\n"
     ]
    },
    {
     "name": "stdout",
     "output_type": "stream",
     "text": [
      "[300]\ttrain-rmse:10.95592+0.06583\ttest-rmse:11.83157+0.26089\n"
     ]
    },
    {
     "name": "stdout",
     "output_type": "stream",
     "text": [
      "[350]\ttrain-rmse:10.80598+0.06828\ttest-rmse:11.81235+0.25637\n"
     ]
    },
    {
     "name": "stdout",
     "output_type": "stream",
     "text": [
      "[400]\ttrain-rmse:10.66754+0.06977\ttest-rmse:11.79890+0.25656\n"
     ]
    },
    {
     "name": "stdout",
     "output_type": "stream",
     "text": [
      "[450]\ttrain-rmse:10.54017+0.07191\ttest-rmse:11.79306+0.25285\n"
     ]
    },
    {
     "name": "stdout",
     "output_type": "stream",
     "text": [
      "[496]\ttrain-rmse:10.42905+0.07317\ttest-rmse:11.79028+0.25077\n"
     ]
    },
    {
     "name": "stderr",
     "output_type": "stream",
     "text": [
      "\r",
      " 60%|█████████████████████████████████████████████████████████████████████████████████████████████████████████████████████████████████████▏                                                                                        | 6/10 [02:14<01:32, 23.07s/it]"
     ]
    },
    {
     "name": "stdout",
     "output_type": "stream",
     "text": [
      "[0]\ttrain-rmse:17.08887+0.09963\ttest-rmse:17.08813+0.40317\n"
     ]
    },
    {
     "name": "stdout",
     "output_type": "stream",
     "text": [
      "[50]\ttrain-rmse:13.08139+0.02134\ttest-rmse:13.27747+0.17098\n"
     ]
    },
    {
     "name": "stdout",
     "output_type": "stream",
     "text": [
      "[100]\ttrain-rmse:11.98575+0.01525\ttest-rmse:12.34298+0.10368\n"
     ]
    },
    {
     "name": "stdout",
     "output_type": "stream",
     "text": [
      "[150]\ttrain-rmse:11.57060+0.02714\ttest-rmse:12.07453+0.11265\n"
     ]
    },
    {
     "name": "stdout",
     "output_type": "stream",
     "text": [
      "[200]\ttrain-rmse:11.31483+0.03075\ttest-rmse:11.95655+0.13064\n"
     ]
    },
    {
     "name": "stdout",
     "output_type": "stream",
     "text": [
      "[250]\ttrain-rmse:11.11779+0.03349\ttest-rmse:11.89688+0.14057\n"
     ]
    },
    {
     "name": "stdout",
     "output_type": "stream",
     "text": [
      "[300]\ttrain-rmse:10.95120+0.03387\ttest-rmse:11.86377+0.14553\n"
     ]
    },
    {
     "name": "stdout",
     "output_type": "stream",
     "text": [
      "[350]\ttrain-rmse:10.80336+0.03453\ttest-rmse:11.84464+0.14727\n"
     ]
    },
    {
     "name": "stdout",
     "output_type": "stream",
     "text": [
      "[400]\ttrain-rmse:10.66777+0.03379\ttest-rmse:11.83286+0.14816\n"
     ]
    },
    {
     "name": "stdout",
     "output_type": "stream",
     "text": [
      "[450]\ttrain-rmse:10.54068+0.03478\ttest-rmse:11.82935+0.15124\n"
     ]
    },
    {
     "name": "stdout",
     "output_type": "stream",
     "text": [
      "[490]\ttrain-rmse:10.44313+0.03485\ttest-rmse:11.83035+0.15347\n"
     ]
    },
    {
     "name": "stderr",
     "output_type": "stream",
     "text": [
      "\r",
      " 70%|███████████████████████████████████████████████████████████████████████████████████████████████████████████████████████████████████████████████████████████▍                                                                  | 7/10 [02:36<01:08, 22.84s/it]"
     ]
    },
    {
     "name": "stdout",
     "output_type": "stream",
     "text": [
      "[0]\ttrain-rmse:17.08680+0.20669\ttest-rmse:17.07199+0.81315\n"
     ]
    },
    {
     "name": "stdout",
     "output_type": "stream",
     "text": [
      "[50]\ttrain-rmse:13.07572+0.11892\ttest-rmse:13.26123+0.68484\n"
     ]
    },
    {
     "name": "stdout",
     "output_type": "stream",
     "text": [
      "[100]\ttrain-rmse:11.98238+0.10236\ttest-rmse:12.34076+0.56201\n"
     ]
    },
    {
     "name": "stdout",
     "output_type": "stream",
     "text": [
      "[150]\ttrain-rmse:11.56458+0.09592\ttest-rmse:12.08431+0.50440\n"
     ]
    },
    {
     "name": "stdout",
     "output_type": "stream",
     "text": [
      "[200]\ttrain-rmse:11.30738+0.09418\ttest-rmse:11.98184+0.47444\n"
     ]
    },
    {
     "name": "stdout",
     "output_type": "stream",
     "text": [
      "[250]\ttrain-rmse:11.10994+0.09447\ttest-rmse:11.93127+0.45218\n"
     ]
    },
    {
     "name": "stdout",
     "output_type": "stream",
     "text": [
      "[300]\ttrain-rmse:10.93998+0.09397\ttest-rmse:11.90445+0.44227\n"
     ]
    },
    {
     "name": "stdout",
     "output_type": "stream",
     "text": [
      "[350]\ttrain-rmse:10.79047+0.09402\ttest-rmse:11.88772+0.43364\n"
     ]
    },
    {
     "name": "stdout",
     "output_type": "stream",
     "text": [
      "[400]\ttrain-rmse:10.65166+0.09417\ttest-rmse:11.88377+0.43015\n"
     ]
    },
    {
     "name": "stdout",
     "output_type": "stream",
     "text": [
      "[450]\ttrain-rmse:10.52274+0.09533\ttest-rmse:11.88246+0.42743\n"
     ]
    },
    {
     "name": "stdout",
     "output_type": "stream",
     "text": [
      "[468]\ttrain-rmse:10.47893+0.09532\ttest-rmse:11.88210+0.42652\n"
     ]
    },
    {
     "name": "stderr",
     "output_type": "stream",
     "text": [
      "\r",
      " 80%|█████████████████████████████████████████████████████████████████████████████████████████████████████████████████████████████████████████████████████████████████████████████████▌                                            | 8/10 [02:58<00:44, 22.42s/it]"
     ]
    },
    {
     "name": "stdout",
     "output_type": "stream",
     "text": [
      "[0]\ttrain-rmse:17.08786+0.19971\ttest-rmse:17.07241+0.83848\n"
     ]
    },
    {
     "name": "stdout",
     "output_type": "stream",
     "text": [
      "[50]\ttrain-rmse:13.07658+0.11569\ttest-rmse:13.27400+0.68551\n"
     ]
    },
    {
     "name": "stdout",
     "output_type": "stream",
     "text": [
      "[100]\ttrain-rmse:11.98240+0.08710\ttest-rmse:12.36267+0.52579\n"
     ]
    },
    {
     "name": "stdout",
     "output_type": "stream",
     "text": [
      "[150]\ttrain-rmse:11.56435+0.07577\ttest-rmse:12.10001+0.43546\n"
     ]
    },
    {
     "name": "stdout",
     "output_type": "stream",
     "text": [
      "[200]\ttrain-rmse:11.31014+0.07144\ttest-rmse:11.98963+0.38003\n"
     ]
    },
    {
     "name": "stdout",
     "output_type": "stream",
     "text": [
      "[250]\ttrain-rmse:11.11529+0.07042\ttest-rmse:11.93436+0.34965\n"
     ]
    },
    {
     "name": "stdout",
     "output_type": "stream",
     "text": [
      "[300]\ttrain-rmse:10.94789+0.07052\ttest-rmse:11.90355+0.33048\n"
     ]
    },
    {
     "name": "stdout",
     "output_type": "stream",
     "text": [
      "[350]\ttrain-rmse:10.79824+0.07119\ttest-rmse:11.88209+0.31863\n"
     ]
    },
    {
     "name": "stdout",
     "output_type": "stream",
     "text": [
      "[400]\ttrain-rmse:10.66150+0.07342\ttest-rmse:11.86871+0.31272\n"
     ]
    },
    {
     "name": "stdout",
     "output_type": "stream",
     "text": [
      "[450]\ttrain-rmse:10.53275+0.07282\ttest-rmse:11.86248+0.30423\n"
     ]
    },
    {
     "name": "stdout",
     "output_type": "stream",
     "text": [
      "[500]\ttrain-rmse:10.41077+0.07372\ttest-rmse:11.85942+0.30158\n"
     ]
    },
    {
     "name": "stdout",
     "output_type": "stream",
     "text": [
      "[550]\ttrain-rmse:10.29516+0.07520\ttest-rmse:11.85723+0.29802\n"
     ]
    },
    {
     "name": "stdout",
     "output_type": "stream",
     "text": [
      "[566]\ttrain-rmse:10.25918+0.07589\ttest-rmse:11.85809+0.29680\n"
     ]
    },
    {
     "name": "stderr",
     "output_type": "stream",
     "text": [
      "\r",
      " 90%|███████████████████████████████████████████████████████████████████████████████████████████████████████████████████████████████████████████████████████████████████████████████████████████████████████▊                      | 9/10 [03:23<00:23, 23.42s/it]"
     ]
    },
    {
     "name": "stdout",
     "output_type": "stream",
     "text": [
      "[0]\ttrain-rmse:17.08863+0.13562\ttest-rmse:17.08352+0.55151\n"
     ]
    },
    {
     "name": "stdout",
     "output_type": "stream",
     "text": [
      "[50]\ttrain-rmse:13.07964+0.08875\ttest-rmse:13.25644+0.49523\n"
     ]
    },
    {
     "name": "stdout",
     "output_type": "stream",
     "text": [
      "[100]\ttrain-rmse:11.98422+0.08029\ttest-rmse:12.33038+0.41803\n"
     ]
    },
    {
     "name": "stdout",
     "output_type": "stream",
     "text": [
      "[150]\ttrain-rmse:11.57056+0.08030\ttest-rmse:12.06214+0.38281\n"
     ]
    },
    {
     "name": "stdout",
     "output_type": "stream",
     "text": [
      "[200]\ttrain-rmse:11.31705+0.07871\ttest-rmse:11.95080+0.36835\n"
     ]
    },
    {
     "name": "stdout",
     "output_type": "stream",
     "text": [
      "[250]\ttrain-rmse:11.12390+0.07554\ttest-rmse:11.89038+0.35879\n"
     ]
    },
    {
     "name": "stdout",
     "output_type": "stream",
     "text": [
      "[300]\ttrain-rmse:10.95720+0.07571\ttest-rmse:11.85770+0.34834\n"
     ]
    },
    {
     "name": "stdout",
     "output_type": "stream",
     "text": [
      "[350]\ttrain-rmse:10.80841+0.07419\ttest-rmse:11.83787+0.34236\n"
     ]
    },
    {
     "name": "stdout",
     "output_type": "stream",
     "text": [
      "[400]\ttrain-rmse:10.67236+0.07212\ttest-rmse:11.82326+0.33357\n"
     ]
    },
    {
     "name": "stdout",
     "output_type": "stream",
     "text": [
      "[450]\ttrain-rmse:10.54457+0.07192\ttest-rmse:11.81727+0.32828\n"
     ]
    },
    {
     "name": "stdout",
     "output_type": "stream",
     "text": [
      "[500]\ttrain-rmse:10.42344+0.07381\ttest-rmse:11.81160+0.32318\n"
     ]
    },
    {
     "name": "stdout",
     "output_type": "stream",
     "text": [
      "[550]\ttrain-rmse:10.30875+0.07409\ttest-rmse:11.80624+0.31838\n"
     ]
    },
    {
     "name": "stdout",
     "output_type": "stream",
     "text": [
      "[599]\ttrain-rmse:10.19986+0.07480\ttest-rmse:11.81019+0.31642\n"
     ]
    },
    {
     "name": "stderr",
     "output_type": "stream",
     "text": [
      "\r",
      "100%|█████████████████████████████████████████████████████████████████████████████████████████████████████████████████████████████████████████████████████████████████████████████████████████████████████████████████████████████| 10/10 [03:51<00:00, 24.81s/it]"
     ]
    },
    {
     "name": "stderr",
     "output_type": "stream",
     "text": [
      "\r",
      "100%|█████████████████████████████████████████████████████████████████████████████████████████████████████████████████████████████████████████████████████████████████████████████████████████████████████████████████████████████| 10/10 [03:51<00:00, 23.16s/it]"
     ]
    },
    {
     "name": "stderr",
     "output_type": "stream",
     "text": [
      "\n"
     ]
    }
   ],
   "source": [
    "if param.get(\"eval_metric\", \"mae\") == \"rmse\":\n",
    "    score_key = \"test-rmse-mean\"\n",
    "    ylabel = \"Test RMSE Mean\"\n",
    "    title = \"Learning Curve: Test RMSE vs Boosting Rounds\"\n",
    "elif param.get(\"eval_metric\", \"mae\") == \"mae\":\n",
    "    score_key = \"test-mae-mean\"\n",
    "    ylabel = \"Test MAE Mean\"\n",
    "    title = \"Learning Curve: Test MAE vs Boosting Rounds\"\n",
    "elif param.get(\"eval_metric\", \"mae\") == \"logloss\":\n",
    "    score_key = \"test-logloss-mean\"\n",
    "    ylabel = \"Test Logloss Mean\"\n",
    "    title = \"Learning Curve: Test Logloss vs Boosting Rounds\"\n",
    "\n",
    "\n",
    "for i in tqdm(range(repeat_cv), leave=True, dynamic_ncols=True): \n",
    "    cv_result = xgb.cv(\n",
    "        params=param,\n",
    "        dtrain=dtrain,\n",
    "        obj=cauchyobj,\n",
    "        num_boost_round=num_boost_round,\n",
    "        folds=KFold(n_splits=folds_splits, shuffle=True, random_state=i),\n",
    "        early_stopping_rounds=early_stopping_rounds,\n",
    "        verbose_eval=50\n",
    "    )\n",
    "    \"\"\"\n",
    "    train-mae-mean: 各fold における訓練データの MAE の平均値。\n",
    "    train-mae-std: 訓練データの MAE の標準偏差。\n",
    "    test-mae-mean: 各fold における検証データの MAE の平均値。\n",
    "    test-mae-std: 検証データの MAE の標準偏差。\n",
    "    \"\"\"\n",
    "    xgb_cv.append(cv_result)\n",
    "    \n",
    "\n",
    "\n",
    "\n",
    "# 各 repeater ごとの最適ブーストラウンド数と検証MAE\n",
    "iteration_counts = [np.argmin(cv[score_key].values) for cv in xgb_cv]\n",
    "val_mae = [np.min(cv[score_key].values) for cv in xgb_cv]\n",
    "\n",
    "mean_iteration = np.mean(iteration_counts)\n",
    "mean_val_mae = np.mean(val_mae)\n",
    "min_val_mae = np.min(val_mae)\n",
    "results.append(f\"mean_iteration: {mean_iteration}\")\n",
    "results.append(f\"mean_val_{param['eval_metric']}: {mean_val_mae}\")\n",
    "results.append(f\"min_val_{param['eval_metric']}: {min_val_mae}\")\n",
    "results.append(\"\")\n",
    "\n",
    "###\n",
    "plt.figure(figsize=(10, 6))\n",
    "for i, cv_result in enumerate(xgb_cv):\n",
    "    rounds = np.arange(len(cv_result[score_key]))\n",
    "    plt.plot(rounds, cv_result[score_key], label=f\"CV repeater {i+1}\")\n",
    "    \n",
    "plt.xlabel(\"Boosting Round\")\n",
    "plt.ylabel(ylabel)\n",
    "plt.title(title)\n",
    "plt.legend()\n",
    "plt.grid(True)\n",
    "\n",
    "plt.savefig(os.path.join(OUTPUT_PATH, f\"learning_curve_{PREDICT_YEAR}.png\"))\n",
    "plt.close()\n",
    "###\n"
   ]
  },
  {
   "cell_type": "code",
   "execution_count": 22,
   "id": "72dc5ee4",
   "metadata": {
    "execution": {
     "iopub.execute_input": "2025-03-18T19:10:14.611095Z",
     "iopub.status.busy": "2025-03-18T19:10:14.610037Z",
     "iopub.status.idle": "2025-03-18T19:10:14.615816Z",
     "shell.execute_reply": "2025-03-18T19:10:14.615469Z"
    },
    "papermill": {
     "duration": 0.058688,
     "end_time": "2025-03-18T19:10:14.616851",
     "exception": false,
     "start_time": "2025-03-18T19:10:14.558163",
     "status": "completed"
    },
    "tags": []
   },
   "outputs": [
    {
     "name": "stdout",
     "output_type": "stream",
     "text": [
      "最適ブーストラウンド数: [457, 441, 517, 523, 461, 471, 465, 444, 541, 574]\n",
      "test-rmse-mean: [11.867600702950591, 11.832852248264103, 11.80551386799036, 11.797528808895496, 11.81915914214839, 11.789793634921608, 11.827965845872294, 11.880657611118838, 11.856144770082118, 11.806113443314544]\n"
     ]
    }
   ],
   "source": [
    "print(\"最適ブーストラウンド数:\", iteration_counts)\n",
    "print(f\"{score_key}:\", val_mae)\n",
    "results.append(f\"最適ブーストラウンド: {iteration_counts}\")\n",
    "results.append(f\"{score_key}: {val_mae}\")\n",
    "results.append(\"\")"
   ]
  },
  {
   "cell_type": "code",
   "execution_count": 23,
   "id": "6f1a56a5",
   "metadata": {
    "execution": {
     "iopub.execute_input": "2025-03-18T19:10:14.637503Z",
     "iopub.status.busy": "2025-03-18T19:10:14.637503Z",
     "iopub.status.idle": "2025-03-18T19:13:36.984626Z",
     "shell.execute_reply": "2025-03-18T19:13:36.984626Z"
    },
    "papermill": {
     "duration": 202.38041,
     "end_time": "2025-03-18T19:13:37.009916",
     "exception": false,
     "start_time": "2025-03-18T19:10:14.629506",
     "status": "completed"
    },
    "tags": []
   },
   "outputs": [
    {
     "name": "stderr",
     "output_type": "stream",
     "text": [
      "\r",
      "  0%|                                                                                                                                                                                                                                      | 0/10 [00:00<?, ?it/s]"
     ]
    },
    {
     "name": "stderr",
     "output_type": "stream",
     "text": [
      "C:\\Users\\81809\\AppData\\Local\\Temp\\ipykernel_27864\\3386215446.py:18: FutureWarning: Setting an item of incompatible dtype is deprecated and will raise an error in a future version of pandas. Value '[ 2.06891117e+01  5.32458603e-01  1.76865673e+01  6.84575081e+00\n",
      " -5.69424105e+00 -1.28288734e+00  7.61096239e+00  7.85467196e+00\n",
      "  2.35985909e+01  2.25791550e+00  1.11627893e+01  6.78355598e+00\n",
      "  7.03987551e+00  7.42914534e+00 -4.05845690e+00  2.12564354e+01\n",
      " -2.26903868e+00  7.01703691e+00  9.68399811e+00  2.71975183e+00\n",
      "  3.55405545e+00  3.63674164e+00 -5.08937418e-01 -7.51384377e-01\n",
      "  6.23771572e+00  6.61590910e+00  3.17599773e+00  1.68566036e+01\n",
      "  3.89230037e+00 -6.05753374e+00 -3.16670203e+00  5.25232840e+00\n",
      "  1.63127929e-01  1.99833965e+01  8.09894848e+00 -6.51337719e+00\n",
      " -2.13154840e+00  7.96589899e+00  5.95958471e+00  4.68122721e+00\n",
      "  4.97755051e-01  8.83276272e+00 -4.12633085e+00  1.41129303e+01\n",
      "  3.27398300e+00  5.13096714e+00 -1.17423058e+01  2.87652016e+00\n",
      "  1.54217310e+01 -6.97385848e-01  2.15730190e+01 -1.48140454e+00\n",
      "  5.00912714e+00  4.80691719e+00 -3.47868609e+00  7.22633982e+00\n",
      "  1.79668736e+00  5.64705753e+00  1.49845648e+00  9.83683681e+00\n",
      " -4.99551487e+00 -6.60451055e-01  1.21078336e+00  2.29909363e+01\n",
      " -1.52888966e+00  8.32734394e+00  2.60224319e+00 -5.53199959e+00\n",
      "  1.13425484e+01 -2.62355804e+00  4.91838789e+00  2.41493092e+01\n",
      " -5.75933838e+00 -2.48789096e+00  3.10173178e+00  5.32076406e+00\n",
      " -2.97469091e+00  5.75348997e+00  1.63934898e+01  2.00441322e+01\n",
      "  2.64682508e+00 -4.78422976e+00  1.75781000e+00 -6.85335040e-01\n",
      "  8.61938000e-01  3.45866251e+00  1.62582207e+00 -1.03261385e+01\n",
      " -3.14052343e+00 -2.77016878e+00  8.74873161e+00  6.55687332e+00\n",
      "  3.77924585e+00  1.46467924e+00 -3.65495753e+00  1.81925163e+01\n",
      "  1.43610787e+00  5.47855043e+00  2.08810463e+01 -1.62105274e+00\n",
      " -4.47776461e+00  1.53017616e+01  1.88232613e+01  1.23649893e+01\n",
      "  4.08159733e+00 -5.78171349e+00 -9.27642047e-01  1.22477779e+01\n",
      "  5.68090725e+00 -4.34688854e+00  1.12070894e+00 -4.98386383e+00\n",
      "  6.39289713e+00 -5.60920095e+00 -1.52480097e+01  4.65048838e+00\n",
      "  1.47464573e-01  9.98014867e-01  3.23098493e+00  3.47775126e+00\n",
      "  2.85178304e+00  1.34925973e+00  1.02818050e+01  1.04435463e+01\n",
      "  7.09390879e+00  6.19421625e+00  1.17213821e+01 -2.01801491e+00\n",
      " -1.85293984e+00  2.46672368e+00  1.90170174e+01 -2.45414543e+00\n",
      "  1.16511431e+01 -1.35721598e+01 -7.01938581e+00  1.43903770e+01\n",
      "  3.18011045e+00  7.97860384e+00  7.81858635e+00 -1.53816450e+00\n",
      "  1.41750646e+00 -3.61653185e+00  7.81009817e+00  5.25009727e+00\n",
      "  2.44583678e+00 -1.30372179e+00  1.06145887e+01  7.94334829e-01\n",
      "  6.57149506e+00 -1.36590445e+00  2.08560562e+00  1.06508112e+00\n",
      "  2.02315464e+01  1.64049816e+01  9.59712410e+00  5.04795790e+00\n",
      "  4.86950731e+00  2.82105494e+00 -7.27607191e-01  1.01606560e+00\n",
      "  7.26816416e-01 -4.04574051e-02  1.00010271e+01  1.34675465e+01\n",
      " -1.61705685e+00  3.18073583e+00 -5.13396621e-01  3.42903137e+00\n",
      "  1.97180140e+00  3.34203267e+00  7.32234383e+00  1.78813744e+00\n",
      " -2.44867992e+00 -1.79134429e-01  5.87301636e+00  1.18862772e+00\n",
      "  1.83040981e+01  2.77252388e+00  6.39486170e+00  3.28376698e+00\n",
      " -2.35715890e+00  3.87352467e+00  8.65811729e+00 -7.75457239e+00\n",
      "  3.91905475e+00  2.08339596e+01  1.13695402e+01 -2.07582578e-01\n",
      "  1.78635311e+00  6.41058064e+00  3.18059158e+00  1.44131975e+01\n",
      " -4.02840257e-01  3.19400787e+00  7.72238207e+00  5.58568048e+00\n",
      "  3.02994490e+00  9.85781288e+00  1.48524551e+01  1.13843441e+01\n",
      "  2.09024429e+00 -2.29825878e+01  5.56102371e+00  4.21038008e+00\n",
      "  6.57775784e+00  4.59066868e+00  4.84986401e+00  4.27784681e+00\n",
      "  4.86151171e+00  1.70503271e+00  1.85438595e+01  1.02962341e+01\n",
      "  2.94449883e+01  4.15500565e+01  2.65461426e+01  2.39827156e+01\n",
      "  2.00600529e+01  2.26250648e+01  9.01154900e+00  3.92186940e-01\n",
      "  1.31110849e+01  5.73385382e+00 -5.14967203e+00  4.76535416e+00\n",
      "  1.93073063e+01  2.45390739e+01  8.61520290e+00  2.19652767e+01\n",
      "  1.21288166e+01  9.05382156e+00  7.48962164e+00  9.89751816e+00\n",
      " -3.53971338e+00  3.34966583e+01  1.46694860e+01  4.14075565e+00\n",
      "  3.54776306e+01  3.89799929e+00 -3.35489297e+00  2.15544415e+01\n",
      "  2.18723965e+00  1.32440386e+01  1.50942421e+01  5.29016256e+00\n",
      "  2.99700093e+00  1.14130020e+01  1.95776691e+01  3.54163933e+01\n",
      "  1.36967249e+01 -1.43498290e+00 -1.33755350e+00  1.92851186e+00\n",
      " -1.42036572e+01  6.48160791e+00  1.46782112e+01 -6.81623220e-01\n",
      "  2.21570320e+01  4.39819145e+01 -5.34168625e+00  9.01726127e-01\n",
      "  1.54686947e+01  2.88030624e+00 -5.29303026e+00  8.35115337e+00\n",
      "  2.66934662e+01  1.22823391e+01  8.23776054e+00  4.65125561e+00\n",
      " -2.59482932e+00  3.08361745e+00  2.87452030e+01  9.72478771e+00\n",
      "  1.64301128e+01  1.43359337e+01 -9.24547100e+00  1.39128075e+01\n",
      "  1.10876055e+01  3.31948328e+00 -4.51290464e+00  3.63497615e+00\n",
      "  2.18312049e+00  2.79922199e+00  3.78621674e+01  1.35269146e+01\n",
      "  3.45817451e+01  3.44487000e+01 -1.28150654e+00  2.95443821e+01\n",
      " -1.31918705e+00 -2.27945089e+00  6.97467470e+00  1.32613192e+01\n",
      "  1.31118908e+01  1.34940128e+01  9.07223892e+00  4.05597353e+00\n",
      "  1.18302011e+01 -3.06955719e+00  1.12579165e+01 -3.86205316e+00\n",
      "  1.83918648e+01  2.59477329e+01  1.16126604e+01 -6.41910613e-01\n",
      " -1.14963937e+00  1.20943975e+00  8.22367001e+00 -2.10530319e+01\n",
      " -1.11847172e+01 -9.42737007e+00  1.97071934e+00  5.05530500e+00\n",
      "  8.38461113e+00  9.61352348e+00  3.09650211e+01  1.59816027e+01\n",
      "  4.00227022e+00  3.75196686e+01 -2.14180088e+00  1.04491358e+01\n",
      "  5.03947544e+00  2.71554422e+00  3.91244411e+00  2.12159944e+00\n",
      "  1.42844343e+00  5.11006021e+00 -4.28898525e+00  7.18829107e+00\n",
      " -3.30277622e-01  7.43886614e+00 -5.16915941e+00  2.00820541e+01\n",
      "  1.26698608e+01 -1.14378672e+01  2.20885773e+01 -7.31141376e+00\n",
      "  1.60172418e-01  9.13930798e+00 -3.58371925e+00 -1.20106821e+01\n",
      " -2.47369361e+00 -2.23040295e+01 -1.79436626e+01 -8.49441624e+00\n",
      " -4.36200428e+00  4.04205084e+00 -5.46882820e+00  1.77949274e+00\n",
      " -3.71146822e+00 -4.31021595e+00 -5.89950752e+00  5.61425686e+00\n",
      " -7.31368256e+00 -3.54722166e+00 -1.91696625e+01  2.09415102e+00\n",
      "  4.27706337e+00 -6.08121252e+00 -3.81281447e+00  2.21195817e+00\n",
      "  6.24850321e+00 -3.90682125e+00 -6.89338875e+00 -3.56241441e+00\n",
      " -1.30707085e+00 -1.64403379e+00 -2.26814823e+01 -8.69286433e-02\n",
      "  1.97864032e+00 -6.39370728e+00 -7.43926573e+00 -5.58136129e+00\n",
      " -8.13026714e+00 -7.25703287e+00 -2.34616375e+00 -5.89438009e+00\n",
      "  8.23246658e-01 -6.23135948e+00  6.13751471e-01  1.88996756e+00\n",
      " -1.00951605e+01 -7.05576706e+00 -5.35277128e+00 -3.26846457e+00\n",
      " -9.81247902e+00 -4.30043316e+00 -1.60089359e+01 -2.52788544e+01\n",
      " -3.85784483e+00 -1.82866917e+01 -1.81236923e+00 -6.80162477e+00\n",
      " -3.17264891e+00 -2.69202375e+00 -7.81899071e+00  1.67204719e-02\n",
      " -6.95426798e+00 -2.50626297e+01  3.39697909e+00 -2.13079338e+01\n",
      " -6.34229946e+00 -1.11742439e+01  4.60932970e+00  3.52095127e+00\n",
      " -9.05648136e+00  3.03832150e+00 -4.82890701e+00 -5.10788918e+00\n",
      " -4.30979776e+00 -6.05195332e+00 -9.84167480e+00 -1.86009455e+00\n",
      "  3.91224718e+00  9.28212181e-02 -1.13544121e+01 -6.06440878e+00\n",
      "  2.39322972e+00  2.51276588e+00  1.32395625e+00 -6.62005424e+00\n",
      " -2.98930359e+00  6.28545761e+00 -1.12750340e+01  2.43857884e+00\n",
      " -1.03162661e+01 -3.23032141e+00 -8.86708927e+00 -4.55412245e+00\n",
      " -1.98049402e+00 -1.18398829e+01 -3.31576967e+00 -2.15936737e+01\n",
      " -1.54484491e+01 -2.02175498e+00 -1.16533792e+00 -2.19536805e+00\n",
      " -2.45304918e+00 -2.59354210e+00 -2.11235285e-01  1.68493879e+00\n",
      " -1.18569911e+00 -3.02729435e+01 -4.32173014e+00 -8.73706818e+00\n",
      " -8.40166759e+00  1.23803425e+00  1.63868189e+00 -6.45952892e+00\n",
      " -1.48652339e+00  1.78574336e+00 -5.63373744e-01 -8.58373928e+00\n",
      "  1.51545966e+00  6.77878332e+00 -3.45000386e-01 -7.89304447e+00\n",
      " -6.91558659e-01 -1.49324932e+01 -1.20770521e+01 -2.46444845e+00\n",
      " -1.95732248e+00 -2.60023618e+00 -2.67179537e+00 -6.71634626e+00\n",
      " -1.59361677e+01 -9.37238598e+00 -2.63799477e+00  2.96707249e+00\n",
      " -8.54536343e+00 -2.29914589e+01 -3.55475813e-01 -3.29752469e+00\n",
      " -4.35031176e+00  3.35801411e+00  8.65030384e+00 -1.58533022e-01\n",
      "  5.80082595e-01  2.58868575e+00  1.57537484e+00 -1.33020506e+01\n",
      " -8.59454060e+00 -1.76132030e+01 -4.55118704e+00 -4.06451797e+00\n",
      "  9.69466925e-01 -1.06116915e+01  1.95084226e+00 -1.79575956e+00\n",
      " -2.50825958e+01 -2.57534447e+01 -1.71085358e+01 -4.38675070e+00\n",
      " -3.70609760e+00 -4.49365520e+00  1.24720700e-01 -9.03208637e+00\n",
      " -7.72055244e+00 -1.54402828e+00 -2.81630683e+00  3.00325489e+00\n",
      " -1.60676632e+01 -1.55478346e+00  3.49492240e+00 -5.69660568e+00\n",
      "  8.17717743e+00 -6.58938599e+00  5.83518887e+00 -7.05243969e+00\n",
      " -1.67501278e+01 -1.51334105e+01 -3.31758046e+00  6.81782246e+00\n",
      " -9.52499580e+00 -3.46641040e+00 -2.57540911e-01  2.82311749e+00\n",
      " -1.55469503e+01  9.97983143e-02 -1.76509037e+01 -2.23428416e+00\n",
      " -6.02784824e+00 -4.54512882e+00 -3.35349560e+00 -1.89680636e+00\n",
      " -1.47529440e+01  1.36451989e-01  4.34305000e+00  4.23458004e+00\n",
      " -1.06005726e+01  4.11250323e-01 -1.80156147e+00 -5.80363464e+00\n",
      " -3.94124079e+00 -4.30621099e+00 -2.95501113e+00  4.86217165e+00\n",
      " -1.94820061e+01 -3.59016304e+01 -2.89782143e+00 -4.95577955e+00\n",
      " -4.94960356e+00  3.49264383e+00 -1.16928234e+01 -2.84209461e+01\n",
      " -6.50100183e+00  4.50719690e+00  2.23413301e+00 -3.48255959e+01\n",
      " -3.80776558e+01  1.40835595e+00 -3.97849894e+00 -2.61327419e+01\n",
      "  6.62092543e+00 -2.40294285e+01 -2.84303641e+00 -1.07359135e+00\n",
      " -9.78370380e+00 -2.91938896e+01 -2.56722718e-01 -1.63247147e+01\n",
      " -1.79566116e+01 -5.63279915e+00 -2.76820183e+00  4.14550257e+00\n",
      " -3.96370811e+01  8.76096785e-01 -5.21447277e+00 -1.26708298e+01\n",
      "  7.96531105e+00  1.57599187e+00  6.27010107e+00 -1.04091854e+01\n",
      " -3.40007782e+00 -1.74389133e+01 -8.92470551e+00 -7.74272919e+00\n",
      " -2.58682418e+00  2.73510408e+00  5.85151768e+00 -3.08319988e+01\n",
      " -1.16894302e+01 -2.87339520e+00  1.15780067e+01 -3.15172615e+01\n",
      " -4.33638811e+00 -8.37882042e+00 -1.36803055e+00  4.22986555e+00\n",
      " -2.82116628e+00 -3.21253419e+00  6.95712280e+00  3.10184073e+00\n",
      " -1.34795589e+01 -1.00056534e+01 -3.45415535e+01 -6.33115816e+00\n",
      " -2.36404743e+01 -2.84528065e+01 -8.44032383e+00 -1.60561218e+01\n",
      " -1.27164526e+01 -3.26052117e+00 -3.80737419e+01 -3.01533432e+01\n",
      " -1.43252316e+01 -4.79823637e+00 -5.59952688e+00 -3.28383598e+01\n",
      " -8.73202610e+00  8.95520878e+00 -1.08423719e+01 -3.11726332e+00\n",
      " -7.48919725e+00 -1.18264380e+01 -8.47095203e+00 -2.54451885e+01\n",
      " -2.76124249e+01  3.70960832e+00 -4.87155628e+00 -7.96797943e+00\n",
      " -2.44380150e+01 -3.49010229e+00 -2.77426891e+01  1.08347206e+01\n",
      " -1.83113396e+00  8.19609642e+00  2.70858908e+00 -2.63788548e+01\n",
      " -4.26505756e+00 -3.04791431e+01 -1.59157381e+01 -8.90207767e+00\n",
      "  1.27093017e+00  4.14559937e+00 -2.62396755e+01  5.34994841e+00\n",
      " -1.31148043e+01 -1.77296317e+00 -3.47664299e+01 -1.29251280e+01\n",
      "  1.62465553e+01  4.64318848e+00 -1.45540047e+01 -1.45337276e+01\n",
      " -5.12659407e+00  7.78572559e+00]' has dtype incompatible with int64, please explicitly cast to a compatible dtype first.\n",
      "  preds[val_index] = model.predict(dval_i)\n"
     ]
    },
    {
     "name": "stderr",
     "output_type": "stream",
     "text": [
      "\r",
      " 10%|██████████████████████▏                                                                                                                                                                                                       | 1/10 [00:19<02:51, 19.08s/it]"
     ]
    },
    {
     "name": "stderr",
     "output_type": "stream",
     "text": [
      "C:\\Users\\81809\\AppData\\Local\\Temp\\ipykernel_27864\\3386215446.py:18: FutureWarning: Setting an item of incompatible dtype is deprecated and will raise an error in a future version of pandas. Value '[-7.75495768e+00  1.27943552e+00  1.55600805e+01 -2.78133452e-01\n",
      "  7.25039387e+00  5.15835190e+00  2.14582844e+01 -1.88371706e+00\n",
      "  1.29694290e+01  6.63171864e+00 -3.61484909e+00 -5.59783792e+00\n",
      "  5.78536606e+00  8.58070278e+00 -2.79586244e+00  2.34980888e+01\n",
      "  7.53834367e-01  2.69604492e+00  1.06301498e+01  9.07803154e+00\n",
      "  8.36927032e+00  4.62446308e+00  6.87862492e+00  4.01279449e+00\n",
      " -6.56535721e+00  2.56348777e+00  7.94075108e+00 -1.99044132e+00\n",
      "  2.49912357e+01  1.61075573e+01  1.25786724e+01  4.35303402e+00\n",
      "  6.63437462e+00 -2.71556425e+00  6.30030060e+00  5.96280527e+00\n",
      " -4.15198994e+00  6.65276706e-01  8.43708992e+00  2.26250896e+01\n",
      "  1.23255320e+01  1.08765116e+01  1.82877636e+01  8.14832497e+00\n",
      "  1.68916359e+01  7.52046728e+00  7.23270845e+00  5.31490326e+00\n",
      " -1.49347559e-01  6.39048433e+00  1.11569166e+00 -7.88359582e-01\n",
      "  1.76780784e+00  6.54618502e+00  8.66426945e+00  2.49624405e+01\n",
      "  7.25148726e+00 -3.71861964e-01  9.80271053e+00  9.25102806e+00\n",
      "  5.87822294e+00  7.06041479e+00 -1.56628358e+00 -3.38735437e+00\n",
      " -8.82613540e-01  2.86037326e+00 -1.59633982e+00  1.16935599e+00\n",
      "  1.96810112e+01  1.17377567e+01  6.99907780e-01  2.84478378e+01\n",
      "  1.37042542e+01  4.09468603e+00  1.97217064e+01 -8.08997917e+00\n",
      "  6.06109524e+00  5.80118799e+00  3.51889229e+00  3.98566651e+00\n",
      "  3.13120425e-01 -2.47356489e-01  1.76721344e+01  7.75945759e+00\n",
      " -2.22074819e+00 -1.06536512e+01  4.67906713e+00  9.22664642e+00\n",
      "  2.78129244e+00  1.51173949e+00  2.07307911e+00 -5.04144335e+00\n",
      " -3.35696840e+00  1.83392181e+01 -2.41961479e+00 -2.34769797e+00\n",
      " -2.12654257e+00  1.37961512e+01  1.07341261e+01  1.50237427e+01\n",
      "  3.88143873e+00 -5.93482924e+00  1.24806147e+01  8.13676453e+00\n",
      "  1.17818365e+01  2.12975574e+00  9.59589005e+00 -1.20168245e+00\n",
      "  1.76380997e+01 -2.39622617e+00  2.10613518e+01 -2.74226451e+00\n",
      "  1.35023487e+00  1.38029385e+01  1.92819424e+01 -3.15404272e+00\n",
      "  2.63017273e+00 -3.87387419e+00 -9.13652420e+00 -6.41958857e+00\n",
      "  2.14472008e+00  1.27894878e+00  9.99398232e-01 -1.22892559e+00\n",
      " -2.53897572e+00  4.92207408e-02 -5.37241459e+00  6.87649250e+00\n",
      "  2.78541613e+00  3.01152802e+01  7.23954105e+00  2.73565044e+01\n",
      "  5.33766603e+00 -1.03364861e+00  1.00131350e+01 -7.47345114e+00\n",
      " -5.26236057e+00  1.40090001e+00 -6.93488026e+00 -6.25634789e-01\n",
      "  6.36368656e+00 -8.26083839e-01  2.25291290e+01  1.64909058e+01\n",
      "  3.57870030e+00  2.06091523e-01 -5.82116902e-01  8.61664295e-01\n",
      "  6.75778240e-02  7.95391917e-01 -2.75578070e+00 -2.46431977e-01\n",
      "  2.90610933e+00 -6.56871891e+00 -1.27640593e+00  3.77061009e+00\n",
      "  2.13013134e+01  3.93692076e-01  3.46794629e+00  6.84058332e+00\n",
      " -7.41547394e+00  3.19437528e+00 -1.11107564e+00 -4.23835468e+00\n",
      " -4.05246639e+00  3.60679299e-01  3.05126667e+01  1.50986207e+00\n",
      "  6.78021097e+00 -3.92687631e+00  4.06390250e-01  1.21088572e+01\n",
      "  2.04151211e+01  9.83514881e+00  4.21408987e+00 -8.91897917e-01\n",
      "  1.23222218e+01 -5.90175486e+00 -1.79023457e+01 -5.48859596e+00\n",
      "  4.55639744e+00  7.60011864e+00 -2.50020432e+00  8.03438950e+00\n",
      "  2.10629311e+01  9.99256611e+00  1.36966276e+00  2.34285717e+01\n",
      " -8.88559818e-01  8.98445034e+00  2.43260937e+01 -1.98789465e+00\n",
      " -1.14449704e+00  4.57023764e+00  1.94008982e+00  5.40835142e+00\n",
      " -4.63358974e+00  2.16807270e+00 -7.62494183e+00  1.40765035e+00\n",
      "  3.40855622e+00 -2.54347777e+00  2.19103947e+01 -4.19397682e-01\n",
      "  1.57030506e+01  1.69946442e+01  1.78517895e+01 -3.56331491e+00\n",
      "  2.06601086e+01  2.65359139e+00 -9.98457909e+00 -1.09368649e+01\n",
      "  1.08027096e+01  2.68574500e+00 -4.19989496e-01 -3.11169744e+00\n",
      "  5.32852840e+00  4.74686527e+00  4.28810024e+00  2.02213745e+01\n",
      " -3.09763193e+00  1.90962529e+00  5.60389614e+00  2.02522106e+01\n",
      " -3.46207666e+00  1.80918956e+00  1.90051384e+01  2.81237202e+01\n",
      " -8.73958015e+00 -3.35902357e+00  7.88517618e+00  2.74089661e+01\n",
      "  3.72489357e+01 -8.77554655e-01  5.54765129e+00  2.01726551e+01\n",
      "  7.28890467e+00  2.30793800e+01 -6.56636286e+00 -6.88664007e+00\n",
      "  7.01365805e+00  9.26207447e+00  6.88953447e+00 -7.87812471e+00\n",
      "  2.25864048e+01  5.07159114e-01 -5.09063959e+00  1.25694675e+01\n",
      "  9.10638809e-01  1.76689529e+00  1.34909239e+01 -1.23812799e+01\n",
      "  1.61257248e+01  2.03150902e+01  7.10601449e-01  8.28674221e+00\n",
      "  1.02157269e+01  8.94907475e+00  3.41531448e+01  2.15334473e+01\n",
      "  5.04308796e+00 -8.24120235e+00  3.33896217e+01  1.43059673e+01\n",
      "  3.18413734e+00  7.14772558e+00  2.12429962e+01  4.60413857e+01\n",
      "  2.09889126e+01 -6.06500006e+00  3.19703197e+01  1.26977701e+01\n",
      "  3.59212036e+01  1.18555374e+01  2.36249876e+00  4.11533880e+00\n",
      "  1.14643869e+01  7.72110605e+00  4.60602188e+00  2.51253624e+01\n",
      "  2.89278107e+01  8.08686924e+00  7.88757515e+00  2.86528182e+00\n",
      "  2.77225399e+01 -4.29530382e+00  1.09478893e+01  2.63880005e+01\n",
      " -1.58647215e+00  1.82089925e+00 -1.38041034e-01  1.40986509e+01\n",
      "  3.05283966e+01  2.94500875e+00  1.86731606e+01  8.91344166e+00\n",
      "  2.64243183e+01 -7.99736917e-01 -6.25075102e+00  2.56636786e+00\n",
      "  6.91689873e+00  1.11309338e+01  2.89089108e+00  4.58771896e+00\n",
      " -1.16388330e+01  1.86900640e+00 -1.78433549e+00 -7.14967203e+00\n",
      " -2.12806559e+00  2.31696033e+00 -1.09080625e+00  3.96168022e+01\n",
      "  2.57208805e+01  6.79574251e+00  6.41972589e+00 -4.98979187e+00\n",
      "  6.33809900e+00  2.15848007e+01 -5.57185698e+00  1.93629341e+01\n",
      "  1.21623373e+00 -1.17270956e+01 -1.25663157e+01  2.84669952e+01\n",
      "  4.57153940e+00  5.76295519e+00  1.20168629e+01 -1.04190617e+01\n",
      "  4.83692026e+00 -1.66531963e+01 -2.32084904e+01  3.30314898e+00\n",
      " -1.06312668e+00 -7.12102711e-01 -8.32997513e+00  4.62598610e+00\n",
      " -6.92593908e+00  4.28828096e+00 -6.68183184e+00 -6.77261734e+00\n",
      " -2.86713213e-01  8.71090031e+00  1.24263549e+00  2.55146933e+00\n",
      " -2.21916199e+01 -2.54379425e+01 -2.13828583e+01 -6.46879625e+00\n",
      " -1.62371480e+00 -8.04578722e-01 -8.08868122e+00 -3.60286140e+00\n",
      " -1.97923040e+00 -2.67541409e+00 -1.58043432e+00  1.20034432e-02\n",
      "  4.89044905e+00 -6.65037441e+00  4.18600678e-01 -9.44082642e+00\n",
      " -7.89829397e+00 -1.92108841e+01 -1.45364676e+01  2.04611850e+00\n",
      "  3.64601183e+00  8.18202305e+00 -1.50146189e+01  3.11129189e+00\n",
      "  7.16824961e+00 -1.28376603e+00 -2.78947783e+00  1.08478320e+00\n",
      "  7.18518019e+00 -5.75109720e+00  5.83777308e-01 -7.78737259e+00\n",
      " -1.83933067e+00 -2.22207317e+01 -5.29760981e+00  1.54543447e+00\n",
      "  4.55820894e+00  3.90641475e+00 -8.55843067e+00 -7.55494022e+00\n",
      "  1.88571918e+00  2.91226506e+00  4.29576695e-01 -5.82585001e+00\n",
      " -1.31241274e+01 -6.11329508e+00 -8.55736256e+00  2.30010605e+00\n",
      " -7.55404282e+00 -6.54376316e+00 -6.87367773e+00 -2.16084266e+00\n",
      "  1.06766665e+00 -1.19838209e+01 -2.93277016e+01  1.52650619e+00\n",
      " -3.87985063e+00 -2.45843849e+01 -2.80684114e+00 -3.31145358e+00\n",
      " -1.26594877e+01  5.53669512e-01 -2.51226997e+01 -2.09677048e+01\n",
      "  1.23628545e+00 -5.35842061e-01 -2.98709393e-01  2.19388366e+00\n",
      " -6.90348816e+00  1.46866808e+01 -2.92850018e+01  3.64137030e+00\n",
      " -1.57939367e+01 -3.83682561e+00 -1.54291320e+00  5.00170898e+00\n",
      " -1.19384937e+01 -4.16024828e+00  1.64781392e+00 -1.81707829e-01\n",
      " -5.82051516e-01  1.90797782e+00 -2.66423917e+00 -2.39725137e+00\n",
      "  6.27175474e+00 -3.60170221e+00  1.02035427e+01  6.02385902e+00\n",
      "  4.32013941e+00  1.48881283e+01  1.34894013e-01  3.11584401e+00\n",
      "  1.94919801e+00 -3.04011154e+01 -7.09541035e+00 -6.88686800e+00\n",
      "  1.91295516e+00  2.99975276e+00 -2.83695579e+00  2.04489216e-01\n",
      " -4.91376495e+00 -9.89092064e+00 -1.23115920e-01  2.73733854e+00\n",
      " -3.73303175e+00 -1.25858440e+01 -2.71024084e+00 -3.06110120e+00\n",
      " -7.33433819e+00 -1.66167984e+01 -2.95808458e+00  7.18899822e+00\n",
      " -1.06759512e+00  1.72865665e+00 -9.87767220e+00  5.13578749e+00\n",
      "  6.17225027e+00  5.43678701e-01 -7.76676607e+00  2.87065196e+00\n",
      " -2.22960453e+01 -5.06838512e+00 -4.06597519e+00 -2.28967896e+01\n",
      " -1.08720646e+01 -1.66784978e+00 -2.64022493e+00  5.13298869e-01\n",
      "  4.03693295e+00 -2.19795895e+01 -2.27147255e+01 -4.42673874e+00\n",
      " -6.37185049e+00 -3.43752050e+00 -2.65222883e+00 -4.46481657e+00\n",
      " -3.48740768e+00  4.16035891e+00  5.08163393e-01 -2.27524853e+01\n",
      "  3.04672575e+00 -5.72499931e-01 -3.40960741e+00  5.86807072e-01\n",
      " -1.27403095e-01 -2.02250881e+01 -2.08859100e+01 -4.66618872e+00\n",
      " -1.14922993e-01 -1.25117693e+01 -3.53821182e+00  2.50860906e+00\n",
      " -9.64110196e-01  1.57277977e+00 -1.80261210e-01 -5.74878550e+00\n",
      " -1.40421140e+00 -5.67466974e+00 -2.68628430e+00 -3.93671489e+00\n",
      " -3.73630738e+00 -2.40693212e+00 -1.44736581e-02 -1.74582946e+00\n",
      "  3.17574096e+00  4.75639772e+00 -8.86979294e+00 -3.49428821e+00\n",
      " -2.28198128e+01 -5.29598475e+00 -1.76534214e+01 -2.13348236e+01\n",
      "  5.88871431e+00  6.53703117e+00 -7.96231604e+00 -6.44606447e+00\n",
      "  4.82599449e+00 -1.09379940e+01 -2.22433233e+00 -2.19364479e-01\n",
      " -1.54475069e+01 -5.73493671e+00  2.35974455e+00 -9.99839592e+00\n",
      " -2.36118755e+01  4.36265850e+00  2.61207175e+00  4.93783712e-01\n",
      "  3.40688705e-01 -6.01936531e+00 -3.29901934e+00 -2.98053417e+01\n",
      " -4.36446609e+01 -2.84557056e+01 -2.54467125e+01 -2.45185995e+00\n",
      " -6.87672424e+00 -1.78727169e+01 -2.42575097e+00 -1.12255538e+00\n",
      " -1.98647404e+01 -4.61458969e+00 -1.67357578e+01 -2.63912163e+01\n",
      " -1.30793893e+00 -3.39985442e+00 -1.51675291e+01 -2.79408455e+01\n",
      "  3.97889447e+00 -6.20537138e+00  5.62566471e+00 -1.17294893e+01\n",
      " -1.78242569e+01 -2.99295902e+01 -1.05165739e+01 -1.67414439e+00\n",
      " -1.30842438e+01  7.70172291e-03 -6.78679562e+00  4.86017370e+00\n",
      " -7.47739172e+00 -3.07026749e+01 -1.09799709e+01 -1.54775257e+01\n",
      " -3.39964409e+01 -4.82862902e+00  2.16989398e+00 -2.20851154e+01\n",
      " -1.44577932e+01 -1.00289707e+01 -4.10934639e+00 -8.77388287e+00\n",
      "  7.31258488e+00 -1.73255503e+00  1.39351904e+00 -3.23969727e+01\n",
      " -2.89547348e+01 -4.22139740e+01  4.48568821e+00 -1.17099082e+00\n",
      " -1.52348938e+01 -1.85652554e+00 -9.68219090e+00 -1.49376984e+01\n",
      " -4.15227509e+00 -1.07903652e+01 -6.71069241e+00 -1.04373384e+00\n",
      " -3.81856799e+00 -1.03022614e+01 -2.21596298e+01  3.93782926e+00\n",
      " -3.34665604e+01 -7.74529886e+00  1.01008177e+01 -3.00796680e+01\n",
      "  6.22705460e+00 -1.67513447e+01 -7.71991634e+00 -3.17125301e+01\n",
      " -2.51809387e+01 -5.43463516e+00  1.83551991e+00 -1.29312201e+01\n",
      "  3.22275066e+00 -3.08994460e+00 -1.43534555e+01 -3.46815968e+00\n",
      " -4.84011561e-01  9.40573752e-01 -1.81743126e+01 -8.04119301e+00\n",
      " -2.11993923e+01  1.73894584e-01 -1.03905115e+01 -5.19173193e+00\n",
      " -6.47987843e+00  1.68822873e+00 -1.19893723e+01 -1.77464943e+01\n",
      " -1.94258869e+00 -1.68212128e+01 -5.73931265e+00 -2.11100626e+00\n",
      " -8.07867241e+00 -2.63800468e+01 -6.51593161e+00  2.27050362e+01\n",
      "  1.35259104e+01 -6.15803146e+00 -3.78989601e+01 -1.02729645e+01\n",
      " -2.39497929e+01 -6.74116373e+00 -2.44359360e+01  5.01623821e+00\n",
      " -1.83728333e+01 -9.08644485e+00 -1.23371019e+01 -1.18740101e+01\n",
      " -1.06453180e+01 -3.85619497e+00]' has dtype incompatible with int64, please explicitly cast to a compatible dtype first.\n",
      "  preds[val_index] = model.predict(dval_i)\n"
     ]
    },
    {
     "name": "stderr",
     "output_type": "stream",
     "text": [
      "\r",
      " 20%|████████████████████████████████████████████▍                                                                                                                                                                                 | 2/10 [00:36<02:26, 18.35s/it]"
     ]
    },
    {
     "name": "stderr",
     "output_type": "stream",
     "text": [
      "C:\\Users\\81809\\AppData\\Local\\Temp\\ipykernel_27864\\3386215446.py:18: FutureWarning: Setting an item of incompatible dtype is deprecated and will raise an error in a future version of pandas. Value '[ 9.39892828e-01 -5.41189337e+00 -6.57818174e+00 -6.19087696e-01\n",
      "  7.63482809e+00 -1.55507255e+00  6.23264694e+00  8.26005745e+00\n",
      "  3.26922894e+00 -1.05729914e+00 -4.08489513e+00  2.64189034e+01\n",
      "  2.15216465e+01 -9.36942220e-01  2.29234962e+01  2.55529766e+01\n",
      "  5.77381229e+00  9.67356110e+00  6.93016052e+00 -9.21156502e+00\n",
      "  5.30718088e+00  6.34528589e+00  8.80544376e+00  6.60896254e+00\n",
      "  1.78849423e+00  4.29618931e+00  7.87330627e+00  1.63631177e+00\n",
      " -6.59674454e+00 -4.72482634e+00 -4.52190667e-01  9.16107464e+00\n",
      "  1.03491564e+01  2.18929911e+00  2.47768211e+01 -1.37352204e+00\n",
      "  3.18510318e+00  2.91100578e+01  3.44656777e+00  5.56371307e+00\n",
      "  4.37786245e+00 -7.44155550e+00  5.38569260e+00 -2.43013911e-03\n",
      "  2.58967876e+00  7.18939829e+00 -3.97437954e+00 -6.28265047e+00\n",
      "  7.41700315e+00 -9.92810822e+00  5.41298294e+00  5.96388912e+00\n",
      "  5.95398283e+00 -1.57065773e+00  8.58292961e+00 -4.78868335e-01\n",
      "  4.27450228e+00  1.82083530e+01  5.90951347e+00 -1.11268401e+00\n",
      "  2.18701744e+01 -3.67592549e+00  1.95653331e+00  2.62351494e+01\n",
      "  6.77055025e+00  7.20693350e+00  6.63053274e+00  2.16699362e+00\n",
      "  3.31708360e+00  2.99721146e+00 -1.75834727e+00  2.41781921e+01\n",
      "  8.81368065e+00  1.55498594e-01  4.60150480e+00  1.50961504e+01\n",
      "  2.74774313e+00  1.80435104e+01 -7.55672598e+00  1.96548212e+00\n",
      "  5.10555172e+00  6.94439745e+00 -4.39432669e+00  1.76875412e-01\n",
      "  1.46268263e+01 -5.41650724e+00  2.74528503e+01  1.71606869e-01\n",
      " -1.02780914e+00  1.44049845e+01  5.98349190e+00  2.34852982e+01\n",
      "  3.48428220e-01 -6.76545620e+00  1.06177969e+01  8.46672726e+00\n",
      "  3.59811115e+00 -2.48043633e+00  1.88607001e+00  4.75471020e+00\n",
      "  2.20237637e+00  1.96538353e+01 -3.90558958e+00  8.05931091e+00\n",
      "  1.99163017e+01  7.92268395e-01  2.36994572e+01  5.15141249e+00\n",
      "  4.79701567e+00 -3.24783516e+00  9.22896671e+00 -5.48659849e+00\n",
      " -8.84990394e-01  7.55784214e-01 -5.87571263e-01 -7.00717306e+00\n",
      " -1.67791676e-02  6.03007793e+00 -6.97012186e-01  6.71529818e+00\n",
      "  2.58284206e+01  3.66446257e+00  1.10367689e+01 -1.81825614e+00\n",
      "  1.13197255e+00 -5.73541737e+00 -1.88381052e+00  2.18677282e+00\n",
      " -4.93631780e-01  1.33767462e+00 -1.51962194e+01  1.14609509e+01\n",
      "  1.11039000e+01  2.14856148e+01 -5.39884520e+00 -4.49373066e-01\n",
      "  7.07537699e+00 -6.02648401e+00  7.49339461e-01 -2.90165854e+00\n",
      "  1.60694206e+00  1.69058609e+01  1.17293653e+01  2.18686771e+00\n",
      "  2.15444779e+00 -1.22510993e+00  4.28204203e+00 -6.83630466e+00\n",
      "  3.44543290e+00  1.35089970e+01 -1.97352374e+00  2.87224174e+00\n",
      " -1.10840726e+00  2.26803017e+01  2.98165250e+00  2.30365753e+00\n",
      "  3.01771450e+01  3.59927320e+00  2.82108307e+00  8.66196632e+00\n",
      "  1.20599997e+00  9.17250538e+00 -2.29258776e+00  3.18027234e+00\n",
      "  4.01006317e+00  5.98120642e+00  1.26080313e+01  2.67619305e+01\n",
      "  4.69761181e+00  6.53215170e+00 -3.57272887e+00  7.13719893e+00\n",
      "  2.94315648e+00  3.73418140e+00  1.71026146e+00  2.33863468e+01\n",
      " -1.32736593e-01  5.27108908e+00 -8.45780373e+00  3.10099530e+00\n",
      " -5.93062639e+00 -8.48209023e-01 -9.79888344e+00  7.26619768e+00\n",
      "  7.86177588e+00  3.72817588e+00 -3.02698302e+00  2.61346149e+00\n",
      " -3.75694305e-01 -6.32366037e+00  3.82451916e+00  3.11799812e+01\n",
      "  2.99834480e+01  4.44717293e+01  2.99609947e+01  1.85762463e+01\n",
      " -3.67099071e+00  3.07086873e+00 -3.21632147e-01  1.36858292e+01\n",
      "  9.32481480e+00 -1.19808598e+01  6.39299250e+00  2.55254126e+00\n",
      "  9.40482712e+00  2.83110695e+01  7.97223330e-01  3.97191010e+01\n",
      "  8.54597473e+00 -1.07962246e+01  1.68554211e+01  1.06419582e+01\n",
      "  1.34787369e+01  1.65085449e+01  2.69602070e+01  1.66546898e+01\n",
      "  4.81913424e+00  3.68164754e+00  3.61469879e+01 -4.02805805e+00\n",
      "  1.28272476e+01  9.56211948e+00  2.51617374e+01  1.57373877e+01\n",
      "  1.95916309e+01  1.19147234e+01  1.65902328e+00 -5.40192890e+00\n",
      "  2.15843029e+01 -6.62127209e+00 -1.06087303e+00  2.91831989e+01\n",
      " -2.09496951e+00  1.26806335e+01  6.67918146e-01  9.49938583e+00\n",
      " -7.70471621e+00  2.71267681e+01  9.34005165e+00 -2.26990814e+01\n",
      "  3.23086624e+01  1.50580826e+01 -2.05757689e+00 -6.20065451e+00\n",
      "  4.09369802e+00  2.97654772e+00  1.47319908e+01  1.40137930e+01\n",
      "  2.17487907e+00  6.55797863e+00  4.11721230e+00  9.07717323e+00\n",
      "  3.90546036e+01  6.22409201e+00 -3.68870521e+00 -1.83517206e+00\n",
      "  8.15608311e+00  1.30042629e+01  3.66333675e+00  2.43464985e+01\n",
      "  2.94634705e+01 -6.40826321e+00  7.99089050e+00  7.68021584e+00\n",
      "  3.02712555e+01 -9.08609009e+00  3.91642451e+00  2.55897045e+00\n",
      "  1.23848505e+01  1.02718580e+00 -6.60529184e+00 -2.75377178e+00\n",
      "  3.67014351e+01  3.21831322e+01  1.43998079e+01  2.44474196e+00\n",
      " -1.86651373e+00  9.33358479e+00  1.88369827e+01  3.22587051e+01\n",
      " -3.95268321e+00 -1.12267637e+01 -1.01724758e+01  2.94485664e+01\n",
      " -8.27539825e+00  7.83101130e+00  2.38794193e+01  9.59574890e+00\n",
      "  2.67506943e+01  3.01965733e+01  8.06344604e+00  2.56004035e-01\n",
      " -2.43209572e+01  3.79357839e+00 -1.18434191e+00  6.27067137e+00\n",
      "  1.62812595e+01 -4.90131712e+00  3.88413391e+01  8.50804520e+00\n",
      "  2.21684113e+01  2.61152363e+01  1.28092747e+01  1.54175835e+01\n",
      " -1.08743227e+00  9.73988342e+00  5.06376565e-01 -3.82468247e+00\n",
      "  2.90403199e+00 -9.89220333e+00 -2.28870144e+01 -7.27160454e+00\n",
      " -1.71411476e+01 -1.81495667e+01 -7.38062668e+00  3.61936903e+00\n",
      "  5.53652048e+00 -6.66543770e+00 -8.48050404e+00  2.87680793e+00\n",
      " -7.71312571e+00 -5.44110060e+00 -5.84969282e+00 -1.39636087e+00\n",
      " -5.13956165e+00 -2.10807095e+01  1.01335716e+01 -4.55115557e+00\n",
      " -3.93733406e+00 -6.82095718e+00  5.37721694e-01 -8.68074322e+00\n",
      " -7.06658411e+00 -7.32449675e+00 -2.41728711e+00 -1.06282425e+00\n",
      " -4.96933079e+00 -1.62800026e+01  1.32013237e+00 -1.96363602e+01\n",
      "  1.25201731e+01 -8.06553078e+00 -1.14806433e+01 -3.67303157e+00\n",
      " -1.51472902e+01 -5.71361732e+00  7.45274830e+00 -4.85957623e+00\n",
      "  2.76058054e+00 -5.82087326e+00 -2.43764782e+00 -7.56147480e+00\n",
      " -8.61635971e+00 -1.92602372e+00 -2.75139618e+00  6.43587494e+00\n",
      "  3.45416522e+00 -1.52267094e+01 -7.40867996e+00  2.10071445e+00\n",
      " -1.05612593e+01 -1.47798738e+01 -2.91952157e+00 -5.07660580e+00\n",
      "  4.34244967e+00 -6.86113000e-01 -2.00884080e+00 -3.45947385e+00\n",
      " -2.61852016e+01 -1.07019997e+01  2.72821069e+00 -8.50699618e-02\n",
      " -1.45771456e+01  1.24049485e+00  1.08571661e+00 -3.39174271e+00\n",
      "  2.04591489e+00 -1.68935955e+00 -7.48679352e+00 -3.91243744e+00\n",
      " -1.76513508e-01 -1.78132629e+01 -2.63867927e+00 -8.21262658e-01\n",
      " -3.76845431e+00 -1.81586189e+01 -5.55774498e+00 -1.82383001e+00\n",
      " -1.22812462e+01 -5.82937050e+00 -5.85645080e-01  5.43691099e-01\n",
      " -2.35542946e+01 -2.05725479e+00  3.48133135e+00  5.48928738e+00\n",
      " -2.67806864e+00 -2.26527004e+01  4.39529896e+00 -7.22221899e+00\n",
      " -1.13615017e+01 -4.29093838e+00 -1.15953503e+01 -3.64673018e-01\n",
      "  3.02479315e+00  3.85923505e+00 -1.79053932e-01 -3.57315779e+00\n",
      "  2.08983469e+00 -2.25042060e-01  2.37081742e+00  2.10576367e+00\n",
      " -1.52980394e+01 -1.02954769e+01 -6.54051208e+00  7.22890854e+00\n",
      "  8.44204128e-01 -1.11619890e+00 -2.11823416e+00 -1.22666941e+01\n",
      "  1.93067074e+00 -2.21378498e+01  3.62954068e+00 -6.26244164e+00\n",
      " -1.71578240e+00 -2.47940469e+00  2.72477007e+00  8.94149971e+00\n",
      " -1.22137511e+00 -7.47137737e+00 -1.60911369e+00  1.58585777e+01\n",
      "  1.26549378e-01 -2.88493996e+01 -8.13185501e+00 -7.74003983e+00\n",
      "  1.85336554e+00 -1.83254566e+01  8.84419918e+00 -8.60067427e-01\n",
      " -1.22720156e+01 -1.09727879e+01 -2.91414809e+00 -2.41029477e+00\n",
      " -2.16707249e+01  1.51015759e+01 -3.51955462e+00  1.50563049e+00\n",
      " -1.28056412e+01  1.15781364e+01  3.78148341e+00 -1.66047955e+01\n",
      "  6.28831089e-01 -1.08518877e+01 -6.09439754e+00 -5.73826027e+00\n",
      "  3.01396251e+00 -3.12032437e+00 -2.10224075e+01 -4.52030706e+00\n",
      " -2.19320259e+01 -4.50195694e+00 -4.94799662e+00 -4.18675900e+00\n",
      " -9.50441837e-01  2.46339202e+00  5.52325286e-02 -7.71345568e+00\n",
      " -8.48730328e-04 -4.32469702e+00 -9.73535347e+00 -2.82595801e+00\n",
      "  1.10686374e+00 -9.55882740e+00 -1.05781108e-01 -5.87138700e+00\n",
      " -3.68607664e+00  1.23962769e-02  1.67622280e+00  2.48297143e+00\n",
      "  4.07471776e-01 -2.34245796e+01 -8.07337666e+00  5.28734255e+00\n",
      "  3.86026096e+00 -2.36744475e+00 -1.81171818e+01 -2.27861428e+00\n",
      " -4.98479939e+00 -7.73443460e+00  1.98372793e+00  1.39678359e-01\n",
      " -2.00836315e+01 -7.30321932e+00 -1.73768330e+00 -1.48246489e+01\n",
      " -2.11671562e+01 -2.48504658e+01 -2.02610626e+01  1.54311705e+00\n",
      " -3.48728108e+00  5.32370758e+00 -4.81863832e+00 -2.38669157e+00\n",
      "  7.08342218e+00  1.53768945e+00  5.02843142e-01 -3.93220210e+00\n",
      " -2.24156818e+01 -7.98073530e+00  2.78788304e+00  6.29476488e-01\n",
      " -1.76511478e+00 -3.52215266e+00  3.57413125e+00 -2.39015043e-01\n",
      "  1.67286623e+00  7.05866766e+00  3.15388846e+00 -9.39139652e+00\n",
      " -3.64312291e+00 -1.44188240e-01 -1.15967941e+01 -2.81876869e+01\n",
      " -1.49341936e+01  5.41018963e+00 -2.38071108e+00  4.90026683e-01\n",
      " -1.77923851e+01 -1.37526102e+01  2.59688735e+00 -2.68059769e+01\n",
      "  1.25667679e+00 -2.23781872e+01 -2.33443718e+01 -8.63889408e+00\n",
      " -3.64611855e+01 -1.41543789e+01 -3.47877731e+01 -2.09158726e+01\n",
      " -6.52226353e+00  2.29908371e+00  1.13322535e+01  7.01789999e+00\n",
      " -3.24296188e+01 -2.54256630e+01 -1.09305820e+01 -3.13785133e+01\n",
      "  1.63730412e+01 -6.77727032e+00 -2.47714176e+01 -5.96084404e+00\n",
      " -5.84459066e+00 -1.34415770e+01  4.99847841e+00 -1.27595377e+01\n",
      " -3.02833920e+01 -1.66139930e-01 -3.76208878e+00 -2.09151764e+01\n",
      " -1.04183731e+01 -2.76610489e+01 -1.18662882e+01 -1.99237595e+01\n",
      "  1.39511948e+01 -1.51104879e+01 -3.24796562e+01 -7.75699234e+00\n",
      " -4.58529186e+00 -7.23835611e+00  6.04473925e+00 -2.27623034e+00\n",
      " -7.89445686e+00 -2.86928825e+01  2.17272252e-01 -1.19208841e+01\n",
      " -4.10403137e+01 -1.36200273e+00 -1.54062901e+01 -1.88193119e+00\n",
      "  3.18509793e+00 -1.70715065e+01  4.86542082e+00 -3.21644287e+01\n",
      "  5.82793188e+00 -1.98129582e+00 -1.32365255e+01 -3.91673756e+00\n",
      " -1.27506037e+01 -6.39081287e+00 -2.12427020e+00 -2.15722771e+01\n",
      " -1.05908155e+01 -4.92169714e+00  2.97936988e+00  9.15145111e+00\n",
      " -8.79506683e+00 -6.19206190e+00 -2.30913296e+01  3.87692904e+00\n",
      "  8.34432697e+00  2.50134110e+00 -6.13616467e+00 -6.72642994e+00\n",
      "  9.69419956e+00  2.88014829e-01 -1.00872698e+01 -4.59358406e+01\n",
      "  3.30378556e+00 -2.95094700e+01  5.87095118e+00 -1.27923574e+01\n",
      " -2.87558041e+01 -3.77578640e+00 -9.51751900e+00  1.12584486e+01\n",
      " -1.27294979e+01 -1.96674442e+01 -8.50145721e+00 -2.48697815e+01\n",
      " -3.02483025e+01 -7.57686663e+00 -3.38098741e+00  1.17838562e+00\n",
      " -2.87179699e+01 -1.99408112e+01 -2.28008327e+01 -1.99946702e+00\n",
      " -5.62730932e+00 -4.12267160e+00 -1.02652950e+01 -6.83075428e+00\n",
      " -3.36067104e+00  7.66586113e+00 -2.89235821e+01  1.20041714e+01\n",
      " -7.68444967e+00 -5.47803545e+00  3.38319206e+00 -3.84043274e+01\n",
      " -6.18647242e+00 -2.29041004e+01 -2.06629395e+00  3.68657279e+00\n",
      " -1.52054043e+01 -4.06129742e+00]' has dtype incompatible with int64, please explicitly cast to a compatible dtype first.\n",
      "  preds[val_index] = model.predict(dval_i)\n"
     ]
    },
    {
     "name": "stderr",
     "output_type": "stream",
     "text": [
      "\r",
      " 30%|██████████████████████████████████████████████████████████████████▌                                                                                                                                                           | 3/10 [00:59<02:22, 20.37s/it]"
     ]
    },
    {
     "name": "stderr",
     "output_type": "stream",
     "text": [
      "C:\\Users\\81809\\AppData\\Local\\Temp\\ipykernel_27864\\3386215446.py:18: FutureWarning: Setting an item of incompatible dtype is deprecated and will raise an error in a future version of pandas. Value '[ 1.82759929e+00 -7.93433666e+00  5.49181128e+00  1.47675791e+01\n",
      "  2.18624287e+01  8.53747272e+00  4.73888969e+00 -2.66165328e+00\n",
      "  2.37209654e+00  1.19348598e+00 -2.53284240e+00 -2.81931210e+00\n",
      "  4.60694134e-01 -1.51248312e+00 -4.31177235e+00  2.08844757e+01\n",
      " -2.20624542e+00 -1.56577861e+00  2.16245728e+01  1.17443728e+00\n",
      "  5.94380045e+00  3.07388425e+00  7.95741081e-01  5.62873983e+00\n",
      " -4.31356096e+00  8.27694130e+00  1.75652187e-02 -3.59452152e+00\n",
      "  2.90215635e+00  4.93966436e+00  7.54603326e-01  1.58827314e+01\n",
      "  3.89158654e+00  3.56560230e+00 -4.42089945e-01  7.83428764e+00\n",
      "  8.70345235e-01  1.76913681e+01  2.42226553e+00 -6.86817503e+00\n",
      "  7.02523184e+00 -4.64648426e-01  8.06338024e+00  4.70467567e+00\n",
      " -6.35714245e+00  6.38408089e+00  3.10879254e+00 -8.43218040e+00\n",
      " -1.78411210e+00 -1.99589264e+00  2.08410187e+01  9.81807411e-01\n",
      "  8.32674146e-01 -2.19228220e+00  7.43645144e+00  1.29473817e+00\n",
      " -2.34822845e+00 -7.08119392e-01  2.26974506e+01  1.28903971e+01\n",
      " -3.49977708e+00 -3.03700358e-01  2.53511543e+01 -2.44477439e+00\n",
      "  2.68563938e+00 -1.04692769e+00  6.80289865e-01  9.75161612e-01\n",
      " -2.09902596e+00 -1.49968281e-01  2.20128078e+01 -2.38072705e+00\n",
      "  7.38269997e+00  7.14209938e+00  8.57125401e-01 -2.46523881e+00\n",
      "  4.19050026e+00 -1.55949235e+00  2.16664195e+00 -9.87673855e+00\n",
      "  1.66369381e+01  3.51976466e+00  7.70081711e+00  1.08587666e+01\n",
      " -2.51760840e+00  4.40593815e+00  3.87151098e+00 -2.80036092e+00\n",
      "  2.57110519e+01  1.30037079e+01 -1.03903446e+01 -5.36594915e+00\n",
      "  1.73233509e+01 -2.78233266e+00 -1.45796275e+00  5.03349495e+00\n",
      " -9.72463369e-01  1.10110769e+01  4.77550983e+00 -2.26492095e+00\n",
      " -3.96996593e+00  3.54161382e+00  2.18781490e+01  1.56151457e+01\n",
      " -1.47687588e+01 -2.46383712e-01 -3.37757945e+00  1.05741854e+01\n",
      " -1.45776093e+00  4.07772160e+00  7.72729540e+00  6.74886703e+00\n",
      "  1.62121105e+01  5.22879696e+00  1.34476113e+00  3.00405169e+00\n",
      " -2.42906070e+00  1.37746592e+01  1.79930706e+01  5.31523561e+00\n",
      "  6.37234640e+00  9.93812180e+00 -2.27077031e+00  6.82287502e+00\n",
      " -6.33504248e+00  1.48900819e+00  1.13046618e+01 -6.76392126e+00\n",
      "  7.19469070e+00  7.16698122e+00  4.15204000e+00  9.41841793e+00\n",
      "  9.53816509e+00  1.82796726e+01  1.30491810e+01  8.94877625e+00\n",
      "  2.16775626e-01 -3.82256389e+00  7.20030642e+00 -3.60131359e+00\n",
      " -4.03246212e+00  2.24113770e+01  9.41762733e+00 -1.93823755e+00\n",
      " -2.95151138e+00  6.03815699e+00  6.00264740e+00 -6.83675632e-02\n",
      "  6.27664232e+00 -1.83147573e+00  2.33913097e+01  4.71030951e+00\n",
      "  1.59129591e+01 -1.01267490e+01 -4.56376171e+00 -4.51454014e-01\n",
      " -7.25214958e+00  1.29357767e+00  2.06644702e+00  7.06537580e+00\n",
      "  5.87931490e+00 -1.19506731e+01  8.95934105e-01  1.59418368e+00\n",
      "  5.01799011e+00  3.98715234e+00  9.80257607e+00  3.44806314e+00\n",
      "  2.53376746e+00 -2.14373469e+00  4.47967434e+00 -6.49930763e+00\n",
      " -1.57916470e+01 -3.65995646e+00  6.41115129e-01  1.80094337e+01\n",
      "  3.17501664e+00 -1.72235274e+00  6.31149817e+00  3.83870292e+00\n",
      " -1.30106306e+00 -6.34523392e-01 -3.48616004e+00 -4.61834145e+00\n",
      "  2.59611130e+01  2.52536321e+00  2.23896255e+01 -5.75097942e+00\n",
      "  3.53269172e+00  5.23539495e+00 -4.11861372e+00 -2.98085499e+00\n",
      "  7.52310455e-01  7.97033978e+00  1.40687647e+01  8.55763137e-01\n",
      "  1.10240296e-01  1.69374638e+01 -2.28602390e+01 -2.35642552e+00\n",
      " -1.03755245e+01  1.26423731e+01  2.72467422e+00 -3.23365140e+00\n",
      "  2.57807970e+00  3.84878469e+00  2.35465407e+00  3.54382420e+00\n",
      "  9.20193386e+00  9.69558239e+00  2.14569736e+00  3.01726608e+01\n",
      "  3.01302509e+01  3.32065129e+00  9.33506298e+00 -1.61261773e+00\n",
      "  3.65675087e+01  1.96268022e+00  1.60563030e+01  1.17939377e+01\n",
      " -3.51500773e+00 -1.74332047e+00  2.00460958e+00  3.67343140e+01\n",
      "  1.26767359e+01  2.53409500e+01  3.60911598e+01  6.78335285e+00\n",
      " -3.30313176e-01  7.68380594e+00 -9.18932343e+00  6.00343132e+00\n",
      "  3.69610047e+00  2.80042953e+01  1.06279125e+01  1.77795563e+01\n",
      "  6.49080098e-01 -6.59888792e+00  1.53747809e+00 -1.46380053e+01\n",
      "  3.61636734e+01  1.16038513e+01 -4.32279974e-01  2.09569168e+00\n",
      "  2.59274063e+01  1.97193050e+01  2.07348213e+01  5.59507179e+00\n",
      " -2.08547735e+00 -4.18566751e+00  1.89687233e+01  1.41805277e+01\n",
      "  2.98916245e+01  4.09969950e+00  7.57155180e+00  2.31082478e+01\n",
      "  3.54640579e+00 -1.42679958e+01  1.15931263e+01 -1.94791806e+00\n",
      "  2.87961411e+00 -4.53214216e+00  2.37195435e+01 -3.46328902e+00\n",
      "  2.95158634e+01  1.28292818e+01  3.99846196e+00  3.84395885e+00\n",
      "  1.36566794e+00  1.07103252e+01  3.44119644e+01  1.48541269e+01\n",
      "  5.09136629e+00  1.40579758e+01  3.45918159e+01  5.35410523e-01\n",
      "  6.56172848e+00 -8.17360973e+00  2.61012125e+00 -1.73571122e+00\n",
      "  1.33927393e+01  1.41399097e+01  2.19467258e+01 -2.21948314e+00\n",
      " -1.27391596e+01 -7.77113914e+00  1.78220046e+00 -7.30291462e+00\n",
      "  2.22963619e+00  2.17511463e+01  6.17818022e+00 -1.25138264e+01\n",
      "  3.37837195e+00  7.41665459e+00 -2.60713071e-01  3.51261735e+00\n",
      "  2.02113495e+01 -7.42844391e+00 -1.27246094e+01  3.85859032e+01\n",
      "  7.04835176e+00 -5.29096746e+00  3.05906696e+01  1.18319759e+01\n",
      "  2.20779305e+01  1.41180258e+01  4.09467030e+00 -3.17206693e+00\n",
      " -1.32538891e+01  1.42876580e-01 -6.06398869e+00 -1.21504736e+01\n",
      " -3.26043415e+00 -1.22539530e+01 -1.56644278e+01 -9.06916714e+00\n",
      " -7.51106405e+00 -7.72738314e+00 -6.63766527e+00 -5.38689089e+00\n",
      "  5.02745295e+00 -6.03107691e+00  3.17407513e+00  2.44939423e+00\n",
      "  1.96389878e+00 -2.33960342e+01 -1.29237473e-01 -1.35327158e+01\n",
      " -2.17008781e+01 -1.28770006e+00 -6.06729603e+00 -1.40382612e+00\n",
      "  5.26922035e+00  4.09897947e+00 -1.03601015e+00 -7.56390095e+00\n",
      " -8.77496243e+00  1.21613002e+00 -5.79236937e+00  1.95601225e+00\n",
      "  5.60448408e-01 -7.07250357e-01 -4.53067398e+00 -2.68734570e+01\n",
      " -9.81871700e+00 -5.99895811e+00 -1.62985191e+01 -2.72043300e+00\n",
      " -6.13767862e+00 -1.93797207e+01 -7.27087402e+00  3.41690511e-01\n",
      " -5.82067204e+00  6.75087404e+00 -1.88201160e+01  8.73181629e+00\n",
      " -5.78252220e+00 -2.53250771e+01 -6.41917229e+00 -8.46044242e-01\n",
      " -5.39465523e+00 -9.12092686e+00 -5.32260847e+00 -4.27793360e+00\n",
      "  2.37392497e+00 -1.19005518e+01  3.31188202e+00 -1.43956175e+01\n",
      "  1.53147006e+00 -6.00082111e+00 -4.70966625e+00 -2.67694068e+00\n",
      " -2.23026295e+01 -8.63234901e+00 -4.86065769e+00 -8.58728886e+00\n",
      " -6.89177847e+00  9.67703938e-01  2.13544622e-01 -1.60529213e+01\n",
      " -2.64375439e+01 -2.56437826e+00 -1.17207718e+00 -1.84291756e+00\n",
      " -1.75947609e+01 -6.29762411e-01 -4.69765043e+00 -1.77304113e+00\n",
      "  9.35412586e-01 -2.57685204e+01 -1.92837887e+01  1.93223310e+00\n",
      " -1.14969416e+01  2.64969993e+00 -6.21512842e+00 -2.66468072e+00\n",
      " -5.65052462e+00 -1.13573771e+01 -5.20824957e+00 -5.09368849e+00\n",
      " -2.39444714e+01  1.48663445e+01  4.64396763e+00 -2.71227875e+01\n",
      " -1.57710409e+01 -1.62539768e+01 -1.78479958e+01 -6.68555069e+00\n",
      " -3.30440545e+00 -4.11758661e+00  8.84195709e+00 -4.66121006e+00\n",
      " -8.54216099e+00 -3.96493125e+00  4.73868906e-01  2.76133084e+00\n",
      " -5.51156700e-03 -1.29726028e+00 -1.55206757e+01  1.88994730e+00\n",
      "  4.57719326e-01  5.00333977e+00 -1.88135414e+01 -1.10940475e+01\n",
      " -2.75132728e+00 -4.86850548e+00  2.57203293e+00 -1.06486416e+01\n",
      " -1.18966570e+01 -2.73431849e+00 -2.25209936e-01 -4.56917614e-01\n",
      " -1.27917379e-01 -5.54179382e+00  6.28964186e-01 -2.70173978e-02\n",
      " -4.18946362e+00 -5.09744310e+00 -9.04591084e+00 -9.78552151e+00\n",
      " -5.76105547e+00 -3.93541098e+00  3.92233968e-01 -6.56272840e+00\n",
      "  1.02850509e+00 -1.79558682e+00 -2.21135693e+01  1.56978738e+00\n",
      "  3.33348751e+00 -1.71677513e+01 -2.87679386e+00 -1.84470534e+00\n",
      "  3.11548543e+00 -2.46703744e+00 -5.09461069e+00 -5.64804888e+00\n",
      " -3.28873563e+00  3.77566075e+00  2.28349948e+00 -2.19419994e+01\n",
      " -9.39140022e-02 -4.48071861e+00 -3.87406063e+00  1.05650604e+00\n",
      " -3.70276952e+00 -2.60213065e+00  3.97364998e+00 -2.77852035e+00\n",
      " -1.58053102e+01 -2.52927303e+00 -5.50382996e+00  8.34064856e-02\n",
      " -4.12497377e+00 -1.26117001e+01 -5.63133669e+00 -6.93240738e+00\n",
      " -2.19259739e+00 -4.58085203e+00 -1.30570154e+01 -2.27219219e+01\n",
      " -1.40628309e+01 -2.39082489e+01  5.45998716e+00 -2.68019104e+00\n",
      "  1.28713341e+01  4.89781046e+00  4.29235888e+00 -1.15757217e+01\n",
      " -5.46788549e+00  3.87869501e+00 -3.58513165e+00  4.96536779e+00\n",
      " -2.15216579e+01  5.87334692e-01 -4.86830997e+00 -1.79840736e+01\n",
      " -4.28135252e+00  2.05153084e+00 -3.97241637e-02 -1.61388958e+00\n",
      " -6.60172081e+00  6.81495285e+00 -1.14506645e+01 -4.26721239e+00\n",
      " -1.43305502e+01 -6.69779778e+00 -2.24502444e+00 -2.52253838e+01\n",
      " -1.55301399e+01  2.85195351e+00  1.15884757e+00 -4.17525768e+00\n",
      "  1.07727995e+01 -4.64127827e+00 -1.60041218e+01 -4.65965128e+00\n",
      "  3.34971094e+00 -5.71633196e+00 -3.60526991e+00 -8.81633759e+00\n",
      " -1.10714855e+01 -3.36772537e+01  2.62757993e+00 -2.56075573e+01\n",
      " -1.20119247e+01  5.85508919e+00 -1.85793724e+01 -1.45582371e+01\n",
      "  2.91994810e+00 -9.91061783e+00  2.57770896e+00 -2.68646870e+01\n",
      " -2.91285133e+01  3.87759972e+00 -3.39099922e+01 -2.69149075e+01\n",
      " -1.32888756e+01 -8.29405785e+00 -4.24618149e+00 -2.61661015e+01\n",
      " -2.04619932e+00 -1.37388887e+01  5.95134068e+00 -1.09598923e+00\n",
      " -4.31965208e+00 -5.54947615e-01 -4.30769119e+01 -1.22483456e+00\n",
      " -3.04520535e+00  7.18744707e+00 -2.09116402e+01 -2.47148743e+01\n",
      " -2.75028152e+01 -1.21057272e+01  1.41401470e+00 -9.34594917e+00\n",
      "  5.68667829e-01 -1.56912315e+00 -7.97329187e+00 -2.58764992e+01\n",
      "  4.39036101e-01 -7.52270174e+00 -5.39308041e-02 -1.65510616e+01\n",
      " -9.44764996e+00 -6.15236044e+00 -3.36604714e+00 -1.29691973e+01\n",
      " -1.39379311e+01 -3.07813110e+01 -2.74219751e+00 -5.03609467e+00\n",
      " -3.14456348e+01 -3.62501945e+01 -3.84791412e+01 -8.11772346e+00\n",
      " -8.90628910e+00 -2.92238827e+01 -6.75975084e+00 -1.86896763e+01\n",
      "  2.37914395e+00 -1.60347252e+01 -1.10233555e+01  1.07431326e+01\n",
      "  3.11123276e+00  2.32945967e+00 -4.71839333e+00 -5.82368422e+00\n",
      " -1.13745928e+01 -1.84288293e-01 -1.31801882e+01 -3.60504937e+00\n",
      "  3.62235069e+00  4.39149189e+00 -7.13467216e+00  2.93579578e-01\n",
      " -6.82719994e+00 -1.55323420e+01 -1.80058975e+01 -3.70935202e+00\n",
      "  9.26896191e+00 -6.90083599e+00 -3.02426767e+00 -1.14461689e+01\n",
      " -1.14417486e+01  2.72415948e+00 -1.75845356e+01 -2.50531197e+01\n",
      "  2.89661574e+00 -3.74046278e+00  1.09806371e+00 -1.96159515e+01\n",
      " -5.25714016e+00 -4.94837952e+00 -2.20284882e+01 -3.86169815e+00\n",
      "  9.99191761e+00 -2.60577232e-01 -6.50569677e+00  7.03672171e+00\n",
      " -8.21350861e+00 -2.45941372e+01 -7.30007648e-01 -2.86705132e+01\n",
      " -1.50418167e+01  5.08487511e+00 -1.71486950e+01 -5.85708618e+00\n",
      " -6.17107630e+00  8.33255291e+00 -1.84199409e+01 -3.03852730e+01\n",
      " -3.86705399e+01 -9.97567272e+00 -7.36468458e+00 -3.68768616e+01\n",
      " -2.97692776e+01 -3.75589228e+00 -2.01497974e+01  6.17293739e+00\n",
      "  9.00671387e+00 -3.51986618e+01 -2.95422912e+00 -2.87085762e+01\n",
      " -1.56040354e+01 -2.31392040e+01]' has dtype incompatible with int64, please explicitly cast to a compatible dtype first.\n",
      "  preds[val_index] = model.predict(dval_i)\n"
     ]
    },
    {
     "name": "stderr",
     "output_type": "stream",
     "text": [
      "\r",
      " 40%|████████████████████████████████████████████████████████████████████████████████████████▊                                                                                                                                     | 4/10 [01:20<02:04, 20.68s/it]"
     ]
    },
    {
     "name": "stderr",
     "output_type": "stream",
     "text": [
      "C:\\Users\\81809\\AppData\\Local\\Temp\\ipykernel_27864\\3386215446.py:18: FutureWarning: Setting an item of incompatible dtype is deprecated and will raise an error in a future version of pandas. Value '[-9.46784115e+00  7.61658652e-03  2.14701748e+01  1.12546091e+01\n",
      "  2.16124115e+01  1.76466484e+01 -1.12453115e+00  6.39909458e+00\n",
      "  9.05557442e+00  7.35164165e+00  7.66540909e+00 -3.85078645e+00\n",
      " -4.18427944e+00  2.41433930e+00  2.45830669e+01  2.24396400e+01\n",
      " -1.32371330e+00  6.23669052e+00 -9.52739835e-01  3.61462331e+00\n",
      "  1.12518997e+01  1.39776230e+00  1.92846470e+01  2.06883297e+01\n",
      "  2.23848987e+00 -5.77972031e+00  8.57490003e-01  1.60230935e+00\n",
      "  7.12357950e+00 -5.48721981e+00  6.46117353e+00 -5.43657959e-01\n",
      "  1.86237793e+01 -1.45564497e+00 -7.65975952e+00  2.95218277e+00\n",
      "  1.73413715e+01 -5.95016909e+00  1.17978060e+00 -3.01715088e+00\n",
      "  2.86313605e+00  7.74532127e+00 -5.04803753e+00 -7.94714212e+00\n",
      " -2.49566793e+00  7.90929937e+00  6.25670004e+00  1.42518644e+01\n",
      "  6.94629717e+00  7.12245703e+00  5.87886286e+00 -5.03793907e+00\n",
      " -2.88462996e+00  5.90388584e+00 -1.21737928e+01  4.91199780e+00\n",
      "  8.19050312e+00  2.29774189e+01  2.14598026e+01  4.90265512e+00\n",
      "  5.41841841e+00  2.48436451e+00  4.17927551e+00 -2.02064061e+00\n",
      "  6.58899784e+00  5.83095074e+00 -1.19798732e+00  2.24783874e+00\n",
      "  3.38150358e+00  2.05300713e+00 -1.90283298e+00  2.36153769e+00\n",
      " -1.86522985e+00  4.50681877e+00  3.75310540e-01  2.74399929e+01\n",
      "  8.27248192e+00 -2.33091998e+00 -6.32352734e+00 -1.69282794e+00\n",
      "  1.13636446e+01  2.02335262e+00 -2.81880164e+00  2.74669552e+00\n",
      "  9.57732105e+00  1.70000136e+00  1.25336609e+01  1.70896983e+00\n",
      "  2.32298965e+01  1.10157223e+01 -1.05058126e+01 -5.98896170e+00\n",
      "  2.24428024e+01 -4.41453075e+00  7.57730913e+00  1.20740004e+01\n",
      "  3.58999538e+00  1.15264053e+01 -6.22454107e-01 -2.37136436e+00\n",
      " -7.95572162e-01  1.15031786e+01  2.33901367e+01 -8.52971172e+00\n",
      " -6.04001665e+00  1.26893969e+01 -2.20090890e+00  4.92714500e+00\n",
      "  3.05891609e+00  3.21818447e+00 -7.75984621e+00 -1.55831885e+00\n",
      "  6.36404335e-01  5.32746649e+00  1.01632512e+00  2.39386320e+00\n",
      " -1.10848122e+01  5.98366356e+00 -2.27406621e+00  4.29407537e-01\n",
      " -3.21520209e+00  7.08654213e+00  4.93840551e+00 -2.87379265e+00\n",
      "  3.35435295e+00  1.95864213e+00  7.32805920e+00  6.40370131e+00\n",
      "  1.38364029e+01  3.36807656e+00 -1.87325726e+01 -1.05332088e+00\n",
      "  2.35782290e+00  2.52843946e-01  7.79125071e+00 -3.80105686e+00\n",
      "  4.07481492e-01  4.63889980e+00  2.89737453e+01  1.18130550e+01\n",
      " -1.99842501e+00  1.65513649e+01  2.21352787e+01 -3.56001353e+00\n",
      " -7.37819099e+00  1.50410614e+01 -1.15318879e-01  8.44064617e+00\n",
      "  1.42965698e+00  6.40140724e+00  5.69731617e+00 -3.35890818e+00\n",
      "  1.46574678e+01  3.39748335e+00  1.80214977e+00  1.46216977e+00\n",
      "  6.85209036e+00  2.10295162e+01  2.99411416e+00 -1.02053919e+01\n",
      "  3.14925289e+00 -7.75856876e+00 -3.62663567e-01  3.33546209e+00\n",
      " -3.93441010e+00  5.26281977e+00  3.75914305e-01  7.78928936e-01\n",
      "  2.98367071e+00  9.98661327e+00 -8.16077232e-01  7.71159363e+00\n",
      "  9.98556042e+00 -7.01074648e+00  4.08423328e+00  2.51852107e+00\n",
      "  2.95268416e-01  5.94463587e+00  4.98254871e+00  2.87965512e+00\n",
      " -2.38278270e+00  6.79148912e+00 -2.39821744e+00 -4.56371212e+00\n",
      " -5.17929363e+00  1.24918823e+01  3.60640883e+00  6.35565662e+00\n",
      " -2.21113276e+00 -2.23168278e+00  2.68596020e+01  5.56288147e+00\n",
      "  2.49334621e+01 -3.74007940e-01 -8.23424339e+00  1.44472837e+01\n",
      "  1.16011982e+01  4.45214891e+00 -2.26683412e-02 -4.65388489e+00\n",
      "  9.90004444e+00  1.66346321e+01 -2.92763901e+00 -3.02043295e+00\n",
      "  5.02260494e+00  5.60794306e+00 -9.84026718e+00  4.10791302e+00\n",
      " -5.50802040e+00 -7.40241146e+00 -1.46961033e+00  1.76983905e+00\n",
      "  1.19709654e+01  1.33510141e+01 -7.12244463e+00  2.72102680e+01\n",
      "  8.95344925e+00  9.67918015e+00  5.37359667e+00  1.21689396e+01\n",
      " -3.99717855e+00  3.41286049e+01 -1.15386820e+00  1.78634434e+01\n",
      " -1.66056359e+00  2.56066818e+01  2.33491592e+01 -5.52027225e+00\n",
      " -5.47449732e+00  1.00122681e+01  1.32857018e+01  1.78248539e+01\n",
      " -7.05134964e+00 -4.15001440e+00 -3.34670401e+00  1.78649306e+00\n",
      "  7.17109084e-01  1.88227978e+01  3.64719887e+01 -4.04028118e-01\n",
      "  1.96136725e+00  8.65060139e+00 -4.32296067e-01  2.04263821e+01\n",
      "  1.46585913e+01  2.06887646e+01  1.87866707e+01  1.62901001e+01\n",
      "  7.68195295e+00  1.29010534e+00  8.06465816e+00  2.40843353e+01\n",
      "  4.21926022e+00  3.87623239e+00  2.59684219e+01  6.80688572e+00\n",
      " -8.30319118e+00  2.56297817e+01  1.56870785e+01  2.10373135e+01\n",
      " -8.41027200e-01  2.73450685e+00  2.41811371e+01  9.60523796e+00\n",
      "  1.75874062e+01  2.37058353e+00 -1.04553862e+01  1.53001010e-01\n",
      "  5.18101335e-01  2.98972416e+01  1.15787859e+01  1.58108311e+01\n",
      " -7.77260971e+00  1.32515354e+01  3.67757797e+01  1.20425777e+01\n",
      "  6.06561327e+00  1.40239058e+01 -4.39464951e+00  3.53093338e+01\n",
      "  4.83391106e-01 -1.73731625e+00  4.14088440e+01  9.23219776e+00\n",
      "  4.60330105e+00 -8.17365170e+00  4.81064606e+00  3.66548233e+01\n",
      "  4.36384630e+00  2.94236445e+00  7.80926272e-02  1.71814346e+01\n",
      "  1.39739571e+01  2.80605297e+01  1.27159262e+01 -2.78513265e+00\n",
      " -3.06115127e+00  1.24885626e+01  2.04849052e+01 -2.34390616e+00\n",
      "  5.07934237e+00  9.99960804e+00  3.77473402e+00  2.88843842e+01\n",
      "  1.70086441e+01  5.26780033e+00  1.37764654e+01  3.92959404e+00\n",
      "  1.37233391e+01  4.56560278e+00  7.04037523e+00 -4.71985197e+00\n",
      " -4.03541946e+00  9.13861847e+00  1.34249182e+01  4.09069252e+00\n",
      "  1.49878187e+01  2.91859007e+00  3.47071111e-01  2.58269501e+00\n",
      " -9.86696541e-01 -3.47179127e+00  1.62227070e+00 -8.74525166e+00\n",
      " -8.13148689e+00 -4.45452356e+00 -1.89657192e+01 -9.85443115e+00\n",
      " -1.21149540e+00  2.92350936e+00 -7.00539589e+00 -7.18143749e+00\n",
      " -8.13449860e+00 -3.93788075e+00 -2.40367579e+00 -6.10131359e+00\n",
      " -2.11389446e+01 -4.43541908e+00 -2.67939949e+00 -8.48095512e+00\n",
      " -1.01379919e+01 -7.86781216e+00  1.72991085e+00 -5.30742264e+00\n",
      " -3.58899641e+00 -1.45216680e+00  7.68387079e+00 -7.93793106e+00\n",
      " -6.92022383e-01  3.41402698e+00 -2.77407503e+00 -1.40178804e+01\n",
      " -1.17107754e+01 -1.67456436e+00  2.86676019e-01  1.11746025e+00\n",
      " -2.12415266e+00 -4.37864780e+00  3.34512305e+00 -5.91457653e+00\n",
      " -8.66751289e+00  3.74533963e+00 -8.81548786e+00 -2.70502949e+00\n",
      " -1.28003883e+01  2.41098499e+00 -6.37855816e+00 -1.31527960e+00\n",
      " -7.58941841e+00 -6.25820446e+00  4.70491314e+00  3.91454959e+00\n",
      " -7.95026398e+00 -3.67813659e+00 -5.36888027e+00 -5.08206558e+00\n",
      " -2.39490566e+01 -1.42742577e+01  1.30156815e+00 -7.21546650e+00\n",
      " -3.18867302e+00 -6.24680138e+00 -1.01017790e+01 -7.15724421e+00\n",
      " -2.64374137e+00  1.51558721e+00 -2.36074552e-01 -1.84618473e+01\n",
      " -2.41857891e+01 -7.22614908e+00  2.34865546e+00  1.60319221e+00\n",
      "  7.35227060e+00 -1.94973450e+01 -4.98192692e+00  1.28588164e+00\n",
      " -8.88264465e+00 -1.39098492e+01  4.32657719e+00 -1.98546352e+01\n",
      " -2.69526333e-01 -3.49169493e-01 -1.42572756e+01  2.13232732e+00\n",
      " -1.81336613e+01 -9.73932266e-01  8.60873985e+00 -9.11639214e+00\n",
      "  3.56076837e+00 -9.88739395e+00 -1.06894245e+01 -5.37542582e+00\n",
      " -5.28268385e+00 -5.90557957e+00  1.74169219e+00 -5.40111256e+00\n",
      " -2.83890700e+00 -2.41753464e+01  3.18137360e+00  1.58792105e+01\n",
      "  1.98048019e+00 -1.05004139e+01 -1.01201496e+01 -5.34585428e+00\n",
      "  1.19975328e+00  1.92813158e+00 -8.91500950e+00 -4.17799139e+00\n",
      " -4.40798521e+00 -6.24544561e-01  5.95661104e-01 -1.50155795e+00\n",
      "  2.49436355e+00 -3.11672544e+00 -7.25707436e+00  1.07813287e+00\n",
      "  5.26386976e+00 -4.30128622e+00  1.72182530e-01 -6.57152605e+00\n",
      " -2.38421726e+00 -8.87323570e+00  3.86296606e+00  2.05849628e+01\n",
      " -2.16153545e+01 -5.50467062e+00 -4.41511059e+00 -3.27519202e+00\n",
      " -2.00121727e+01 -3.74263906e+00  1.70143723e+00 -1.74314442e+01\n",
      "  5.79950380e+00 -3.93498123e-01 -1.54092383e+00 -9.58088112e+00\n",
      "  5.29536438e+00 -4.88141441e+00 -5.85264301e+00  2.23192883e+00\n",
      "  4.46564734e-01 -3.55969167e+00 -8.02785778e+00  1.12898961e-01\n",
      "  6.77002192e+00 -1.20450211e+01 -1.44129682e+00 -1.67972832e+01\n",
      " -2.61581469e+00 -3.53088641e+00 -6.30721951e+00  8.45724964e+00\n",
      "  5.87503338e+00 -3.87476826e+00 -2.96966338e+00  6.95829248e+00\n",
      "  2.68035322e-01  1.75941944e+00  4.61625957e+00 -2.58414698e+00\n",
      " -2.08934326e+01 -1.26934757e+01 -3.12821031e+00  5.79630494e-01\n",
      "  1.19103127e+01 -1.16969013e+00 -8.78088713e-01 -8.67978859e+00\n",
      " -3.29771018e+00 -6.75859356e+00 -4.01724529e+00 -2.53335142e+00\n",
      " -7.29485226e+00  1.32662666e+00 -1.31182632e+01 -2.09170189e+01\n",
      " -7.43729973e+00 -4.63911963e+00 -1.17649860e+01 -1.98613586e+01\n",
      " -3.51056981e+00 -4.04129839e+00  2.57554173e+00  8.68868446e+00\n",
      " -2.64622231e+01 -3.04585814e+00 -1.91821146e+00 -1.47153568e+01\n",
      " -7.17239261e-01 -2.17972355e+01 -2.09838772e+01  4.08941686e-01\n",
      " -7.06721544e+00 -5.72985172e+00 -4.56986618e+00 -6.91861287e-02\n",
      " -8.07076168e+00 -3.76083970e+00 -4.98295307e+00 -6.61679745e+00\n",
      "  5.20191193e-01  1.18595791e+01  2.30667839e+01 -4.97892809e+00\n",
      "  3.89448094e+00  4.13568687e+00 -5.03418922e+00 -5.05704117e+00\n",
      " -3.95006514e+00 -3.00727615e+01 -5.35308218e+00 -2.51592636e+01\n",
      " -2.91824017e+01 -4.01378822e+00 -3.54691315e+01  1.25829887e+01\n",
      " -1.27953987e+01 -1.45825367e+01  9.35571575e+00 -6.28617811e+00\n",
      " -8.78760147e+00 -2.95337296e+01 -2.54564934e+01 -2.50530739e+01\n",
      " -3.31683469e+00 -3.61599083e+01 -2.53299999e+01 -8.18439007e+00\n",
      " -3.36278677e+00 -2.24350986e+01 -2.83148365e+01 -1.47577143e+01\n",
      " -1.94030933e+01 -1.14318771e+01 -2.19774818e+01 -3.49752655e+01\n",
      " -3.91254544e-01 -3.12443495e+00 -6.66937256e+00 -4.22076988e+00\n",
      " -4.37216721e+01  5.69369698e+00 -1.67985954e+01 -1.00761909e+01\n",
      " -1.20946856e+01 -8.30002800e-02  2.50837040e+00 -2.52491832e+00\n",
      " -1.37776041e+01 -1.15215368e+01  1.25568876e+01  2.27007179e+01\n",
      " -3.65894604e+00  5.22497416e-01 -1.88210793e+01 -1.24129648e+01\n",
      " -2.85696793e+01 -2.88603344e+01  3.69887066e+00 -1.70521202e+01\n",
      "  7.69348049e+00  1.09115877e+01 -3.00297832e+01 -1.45345640e+01\n",
      " -3.03684521e+01 -3.26121330e+01 -1.10393906e+01 -4.10938644e+00\n",
      " -3.58976936e+01 -4.58504677e+00 -3.52733307e+01  1.24975710e+01\n",
      " -1.11411467e+01 -2.31520443e+01 -2.75453854e+01 -6.62441397e+00\n",
      " -7.40973234e-01 -6.23951769e+00 -1.27553396e+01 -5.35281539e-01\n",
      " -2.95271759e+01 -1.28465281e+01 -2.42255249e+01  3.35442448e+00\n",
      " -7.60546350e+00  3.41422224e+00 -3.42617607e+00 -3.01474037e+01\n",
      " -7.95629859e-01 -2.10949063e+00 -8.53137207e+00 -1.48623047e+01\n",
      "  1.28308821e+00 -5.30215073e+00 -8.70028496e+00 -2.75219512e+00\n",
      " -4.04151011e+00 -2.37975864e+01 -2.93373127e+01 -2.83745689e+01\n",
      " -1.70925503e+01 -4.83641338e+00 -2.79044342e+01 -2.08217506e+01\n",
      " -6.26656961e+00  1.20176010e+01 -6.45899963e+00 -1.08786488e+01\n",
      " -1.34184284e+01 -6.21271706e+00  1.31614089e+00  8.17507172e+00\n",
      " -3.86678619e+01  3.14556384e+00 -2.40018291e+01  3.80281925e+00\n",
      " -1.19329052e+01  4.80881900e-01 -1.16116810e+01 -2.12569332e+00\n",
      " -1.88700771e+00  1.85388832e+01 -8.28324795e+00 -1.86753521e+01\n",
      " -3.57398510e+00 -3.13598561e+00]' has dtype incompatible with int64, please explicitly cast to a compatible dtype first.\n",
      "  preds[val_index] = model.predict(dval_i)\n"
     ]
    },
    {
     "name": "stderr",
     "output_type": "stream",
     "text": [
      "\r",
      " 50%|███████████████████████████████████████████████████████████████████████████████████████████████████████████████                                                                                                               | 5/10 [01:39<01:40, 20.04s/it]"
     ]
    },
    {
     "name": "stderr",
     "output_type": "stream",
     "text": [
      "C:\\Users\\81809\\AppData\\Local\\Temp\\ipykernel_27864\\3386215446.py:18: FutureWarning: Setting an item of incompatible dtype is deprecated and will raise an error in a future version of pandas. Value '[  2.6343668    0.65607977  14.348662     4.028653    -5.5876513\n",
      "  -0.47149664  19.365181     7.205028     9.953781     7.4441056\n",
      "   2.0281014    5.4839044    6.629948    24.141409     3.234821\n",
      "  21.462276    22.96153     -9.445875     2.2905493    1.2881532\n",
      "   0.40830338  -3.353443    26.141644    29.098051    11.445061\n",
      "   3.5931878   -3.5624611    8.100881     4.327515    -0.77362543\n",
      "  -2.5512304    5.4330697    2.5611322    5.2023907   16.451277\n",
      "   2.5561194    0.21959354  20.103897    -2.8625278    4.783408\n",
      "   2.0792034   -3.9566855   -1.5431786    7.3525305   -6.06733\n",
      "  -8.3508215   17.520094     5.288842    22.948526     6.736012\n",
      "   1.769745     5.3659368   -1.8076444   -2.260647     1.9762794\n",
      "  12.4827175   13.551602     6.3952317    1.6461805    3.86437\n",
      "   3.0552921    4.601698     5.310335     7.1501017   -1.1383119\n",
      "  -1.6026827   16.70353      7.5511913   11.578604    28.062714\n",
      "   3.9200363   25.937195    -9.4481      11.628248    10.923837\n",
      "   1.0602677    4.037443    26.56027      8.200385    22.291185\n",
      "  -0.84216833   8.906624     8.094988    -1.9822972    3.1724021\n",
      "  12.494304     3.022826    10.936198    -1.7680689   -1.0491282\n",
      "  25.817017    -3.6420841   -3.0931048   -3.692183    26.272133\n",
      "  -0.27612928  17.0553       0.5665394   12.259615     1.1265063\n",
      "  -3.2789257    3.6465356    1.3138194   15.287572    13.260452\n",
      "  20.66734     -5.076807     7.9920664   -3.486997     8.64966\n",
      "  10.736503     4.655225   -14.676749    -3.2312486   -2.6857257\n",
      "  10.637688    -0.4118395   29.739628    14.130027     4.8840127\n",
      "   9.471996     8.470393    16.54353      0.48847508  11.57401\n",
      "   3.8097978   -1.183737     7.932718    -1.2618666    2.6021438\n",
      "   3.4495606    4.0261693    0.7289137    7.9398093  -11.83305\n",
      "  -0.90799457  -2.8062887   -5.4296856    6.154944     2.6699772\n",
      "  -1.8368825   16.452047    12.748241    -5.7246046   18.411541\n",
      "  17.49835     23.639648     3.6748724    5.550863     4.80737\n",
      "  -1.572019     6.445384     3.6760678   12.806357    -1.469239\n",
      "   2.2452943    0.45905054  -3.8791103    4.4878497   20.55608\n",
      "   6.324845     5.436428     1.3442452    8.179458     0.8292781\n",
      "  -0.048341     4.61045      6.5076585   11.355908    -5.380738\n",
      "  22.081007     3.1400056   12.709194     7.8070116    6.9401526\n",
      "  -2.2172823    1.8502964   10.918896     4.7504234   24.538673\n",
      "   6.7394953   10.183078    10.124471     3.2184255   25.288109\n",
      "   6.0131984    6.0261636    5.7770586    4.767187     9.329032\n",
      "  10.210761     9.150946     6.890894    -2.0466413   16.979267\n",
      "  -1.5729414    3.5279026   -0.9491909    4.6625543   11.612089\n",
      "  33.211315    -2.1399164   42.587933    -1.9753768   14.669904\n",
      "  -0.7194226    2.9855022   -6.486388     8.706762     2.4692879\n",
      "  13.715488     5.2847767   -7.4945607   -1.8987732   22.633955\n",
      "  23.689459     8.985128     1.5454892   33.578243    35.90015\n",
      "   4.8980985   20.00728      9.063831    13.992683    17.187077\n",
      "  -6.544481    12.802489     7.272636    -4.736738    -2.6469212\n",
      "   2.3497977   -7.1606493   10.301882     3.104104    18.323011\n",
      "  35.30434      1.5910146   32.417103     1.4903895   -0.10344215\n",
      "  -0.06897125   5.9277496    5.2860827    1.7852703   -5.71443\n",
      "   0.8057079   15.977736     3.7151759   10.017766    14.226634\n",
      "  33.10584      4.341284    -5.9462852   15.268924    21.35249\n",
      "  11.190896     7.4196076    7.589433     3.1830754    2.7850904\n",
      "  44.079792    -3.746338    24.742119    -3.1700037   -4.906743\n",
      "  15.547936    32.36171      5.9427805   13.191529    10.39297\n",
      "  -1.9858888    8.230544    15.620248    32.623905     1.033084\n",
      "   3.122014     6.301888    -2.1121364    8.794716     4.424856\n",
      "  45.642086    -3.2603536   -2.4280303   -1.2846665   29.831154\n",
      "  -5.8608675   26.012014    21.268658     4.3941984  -12.440564\n",
      "  11.070424    20.297344     8.100685     0.8033243    6.497254\n",
      "  35.95542     -3.8233135   11.651316     5.1715155   15.855974\n",
      "   2.9679859    5.8172646    4.3535123  -10.347162    -8.248851\n",
      "   0.9819109   -9.47087     -1.3400294    7.7229385    9.184237\n",
      "  30.050667    14.452294    21.714872     6.055571     0.34010947\n",
      "  19.605143     4.076155     8.003938    21.96718     14.507619\n",
      "  20.221275    -0.21680295  -5.070003    -1.3661257  -20.464844\n",
      "  -7.4337387  -10.8775425   -0.36509404  -6.459199     2.6330504\n",
      "  -6.368966    -6.081452     7.2541265    3.2233484    4.658513\n",
      "  -2.9960701    2.3372724   -5.954274    -2.9357164   -0.8766987\n",
      " -19.448544    -3.4920962   -4.223076    -2.4431984   -1.2850615\n",
      "  -3.564123    -3.6076741    1.3882893   -9.888188   -18.791378\n",
      " -27.215456    -3.0456054   -9.216646    -4.6061916   -8.593893\n",
      "  -0.20391005  -0.05861635  -4.270709   -10.324613    -1.4742545\n",
      " -10.072778    -7.408137     0.7321578   -5.8976064   -5.347136\n",
      " -14.058531   -21.226128    -6.1480503   -2.8268545   -1.7378882\n",
      "  -5.7525845    4.465635     3.1702218   -7.9340606    0.63412946\n",
      "  -1.7372884  -13.971449    -5.8175454   -0.12790795 -14.695041\n",
      "  -6.4313965    4.5252337   -7.2161317   -8.983258    -5.626392\n",
      "   4.336039     1.3639075   -6.7294874   -9.443482     8.13495\n",
      " -16.54688    -11.823547    -0.6283226   -4.6881166   -0.81817394\n",
      " -12.367175   -18.070042     2.4122727    6.444897    -6.5397577\n",
      "   4.279971   -17.773191   -10.804739    -5.9243174   -3.2789917\n",
      "  -5.330001    -1.3588634  -11.833585    -8.833246    -3.370145\n",
      " -14.6850815  -10.93776     -3.011683   -10.4944725   -0.7131756\n",
      "  -1.2819684   -3.7445893  -11.781092   -18.998852     3.1772723\n",
      " -23.33701    -12.265925    -5.336369    -2.0728393   -5.881593\n",
      "  -1.8406872  -13.123034     4.505669     6.1131415   -0.36301386\n",
      "  -1.1386732   -6.510064    -4.16514     -6.4245176    8.8814335\n",
      " -21.311794    -3.020277    -6.1171227   -1.3323095    0.28344154\n",
      "  -9.034953   -11.749785     3.1188824   -4.823772    -3.7587595\n",
      "  -3.8463264   15.917913    -3.1495914    2.9169223   14.034351\n",
      " -15.567366     4.042615   -15.751002     3.1474123   -8.433851\n",
      "  -5.077467     0.56650114  -1.016197    -2.6504695   -4.493653\n",
      " -20.037804   -10.876523    -8.461747   -21.74077      7.879796\n",
      "  -1.053015     5.067125     4.6774645  -22.157928    -2.1039815\n",
      "  -6.934838    10.792329    -0.6255511  -17.108414     1.1281039\n",
      "  -4.3457174  -17.977165    -0.4263715   -0.7490769   -4.0955224\n",
      "  -0.07469621 -10.072245     2.4301133    0.35139054   0.7301045\n",
      "   5.4737215  -14.125595     4.8247423   -3.395989    -3.598492\n",
      "  -7.3350396    3.0202749  -26.908699    -3.584539    -9.6251745\n",
      "   3.7331352   -3.7074158    6.477677     0.9477852    3.3939178\n",
      "  -3.6336262   -5.210952     4.5033813   -9.392444    -6.3049874\n",
      "   8.275276     2.2240033    4.245028    -0.10516127 -17.029224\n",
      "  -2.9048002   -8.026254    -3.0313342   -0.908326    -4.0201387\n",
      "  -3.294185    -1.472343     2.243383    24.228933   -19.472345\n",
      "  -5.813704    -3.8488603  -17.047522    -4.9677734   10.288068\n",
      "  -3.447986     0.93695194  -3.374113    -9.414796   -10.18892\n",
      "  -6.820715    -2.9160945  -11.059572    -9.794764    -6.959175\n",
      "   4.6919928  -13.762608    -4.4650187  -16.628382   -10.045084\n",
      " -25.186197     4.134686    -9.923182    -3.5277984    0.21601713\n",
      "  -9.813993   -28.44219    -33.065544    13.651684    -7.408637\n",
      "  -0.21400711  -1.4571103   -4.981284   -24.480377   -22.75919\n",
      "  -6.133143    -8.462219     4.330534   -19.37861    -16.374334\n",
      "  -6.2820725   -5.205661   -22.50501    -11.644348     5.9653687\n",
      "   5.643197     0.98115015  -4.697317   -27.493803   -10.266526\n",
      " -16.83893     20.859278   -16.5947       5.8644614  -15.055176\n",
      " -11.812819   -34.994305    -6.852793    -1.972707    -2.5851982\n",
      "  -0.42009336  -6.7337112   -7.256868   -15.79383    -16.93241\n",
      " -31.098444     1.8578308  -16.32073    -33.47358     -7.662595\n",
      " -26.791985   -15.976949     8.200131   -13.938657   -19.879921\n",
      " -13.6045475   -4.5120654  -13.847211    -9.957552   -33.44813\n",
      "   1.0439467   -6.404268    -3.4305627   -0.72680885 -29.301739\n",
      " -26.896032   -26.17081     -5.0060368  -48.333378     1.7964234\n",
      " -37.433792    -2.5506303    4.507101   -10.370806     7.8693357\n",
      "   8.221712    -8.038219   -31.75119      0.76047957 -37.135014\n",
      "   3.0834076   -3.9859045  -10.30902    -16.595608   -22.799114\n",
      " -31.952421    13.254376    -1.727225    -1.877189   -27.978281\n",
      "  -5.476766   -18.761684   -28.544262    -2.0921705    1.0650469\n",
      "  -7.129132    -5.999882    -7.8500824    2.3119504   -8.219896\n",
      " -38.40694     -7.2440553  -11.987671    -5.8421965  -10.704136\n",
      " -18.838194  ]' has dtype incompatible with int64, please explicitly cast to a compatible dtype first.\n",
      "  preds[val_index] = model.predict(dval_i)\n"
     ]
    },
    {
     "name": "stderr",
     "output_type": "stream",
     "text": [
      "\r",
      " 60%|█████████████████████████████████████████████████████████████████████████████████████████████████████████████████████████████████████▏                                                                                        | 6/10 [01:58<01:18, 19.75s/it]"
     ]
    },
    {
     "name": "stderr",
     "output_type": "stream",
     "text": [
      "C:\\Users\\81809\\AppData\\Local\\Temp\\ipykernel_27864\\3386215446.py:18: FutureWarning: Setting an item of incompatible dtype is deprecated and will raise an error in a future version of pandas. Value '[ 4.65496397e+00  1.28955402e+01 -6.11445236e+00  9.89451122e+00\n",
      "  4.06331873e+00  2.36791172e+01  6.48532963e+00  1.77763057e+00\n",
      "  6.04996300e+00  5.51922560e+00  2.01987720e+00  1.70641673e+00\n",
      "  4.33372766e-01  6.76424932e+00 -3.85025263e-01  2.10643616e+01\n",
      "  2.15022545e+01 -8.62980938e+00  5.89159060e+00 -2.50042081e-01\n",
      "  5.49024200e+00  8.02511454e-01 -4.31512547e+00  6.17891073e+00\n",
      "  8.41807842e+00  1.70201206e+01 -8.46278548e-01  2.81626530e+01\n",
      "  8.88174725e+00 -3.29883218e+00  4.21748495e+00  9.23690987e+00\n",
      "  1.41633425e+01  9.29481983e+00  7.03332615e+00  1.46328437e+00\n",
      "  1.61807556e+01  1.21380222e+00  1.51910532e+00  1.48088884e+00\n",
      " -6.14549339e-01  1.69448853e+00  7.43917131e+00  1.72804987e+00\n",
      "  6.65686274e+00  1.73740788e+01  1.46682997e+01  1.65520787e+00\n",
      " -2.44352269e+00 -1.38772058e+00  5.92319202e+00 -1.51474702e+00\n",
      "  1.36190338e+01 -2.54984736e+00 -4.65722442e-01  1.02571516e+01\n",
      "  2.39376202e+01  2.50396309e+01  1.03470111e+00  5.87302208e+00\n",
      "  9.03048420e+00 -4.67558575e+00  8.81206417e+00  1.77473509e+00\n",
      "  5.45378447e-01 -2.74636006e+00  1.83353920e+01  5.23305559e+00\n",
      "  1.39636440e+01  1.77685947e+01 -6.59049177e+00  5.30110776e-01\n",
      "  5.98853588e+00  1.72304478e+01 -3.00596786e+00  1.77822094e+01\n",
      "  1.07848158e+01  1.20159206e+01  3.01846862e+00 -5.38882494e-01\n",
      "  7.77168417e+00  2.14747906e+00  1.56295214e+01  1.06686430e+01\n",
      " -4.57013035e+00 -1.33241177e-01 -4.05951738e-01 -3.89543462e+00\n",
      "  4.32650328e+00  1.58421507e+01 -1.09165680e+00 -4.10914326e+00\n",
      "  2.39509125e+01  4.16610003e+00  1.36458597e+01 -1.04231405e+01\n",
      "  1.30786180e+01  2.96011925e+00  1.33850060e+01 -8.09592628e+00\n",
      "  4.44573355e+00  9.74769402e+00 -3.69285464e+00  5.03053479e-02\n",
      "  1.35000963e+01  1.77499115e+00 -5.16794777e+00  1.69516253e+00\n",
      " -3.24077463e+00  1.63338935e+00 -1.13014743e-01  6.77253008e+00\n",
      "  8.58016300e+00  2.56514301e+01 -3.28121710e+00 -7.93524933e+00\n",
      " -4.16480064e+00  4.59751606e+00 -1.62244999e+00  2.63061190e+00\n",
      "  8.07812881e+00  1.15907364e+01 -1.16745877e+00  3.85430312e+00\n",
      "  4.91549635e+00  2.69953513e+00  7.16756153e+00  1.61317997e+01\n",
      " -1.44607413e+00 -2.40703201e+00  6.51963854e+00  3.11767757e-01\n",
      "  8.01469564e-01  1.68711722e+00  3.20240307e+00  1.18580208e+01\n",
      "  2.70228505e+00  6.12534332e+00  5.32839060e-01 -9.38373852e+00\n",
      "  2.10906391e+01  3.00426394e-01  3.74141169e+00  7.84540319e+00\n",
      "  1.60557785e+01 -4.26768589e+00 -9.12404507e-02  1.26187706e+01\n",
      "  1.24503078e+01 -2.03874755e+00 -4.88651931e-01  4.06967497e+00\n",
      "  1.80511260e+00 -6.29579115e+00  9.33188915e+00  1.28077726e+01\n",
      "  4.28353691e+00  1.54661071e+00 -3.28807735e+00 -3.03057647e+00\n",
      "  5.02563524e+00  5.01890945e+00  2.32314606e+01  2.10720372e+00\n",
      "  5.00110817e+00  1.56676903e-01  3.15230548e-01  1.89042511e+01\n",
      "  2.98230553e+00 -4.56640601e-01  6.11035776e+00  3.98456502e+00\n",
      "  8.53392601e+00  8.16101170e+00  2.67713964e-02  3.86606717e+00\n",
      "  2.45480251e+00  2.40001545e+01  6.75184488e+00 -5.01390839e+00\n",
      "  8.36853027e+00  2.11088791e-01  6.34593534e+00  9.43573189e+00\n",
      "  2.34550247e+01  1.94089756e+01  4.01386690e+00  2.20825405e+01\n",
      "  1.64623737e+01  2.99366498e+00  5.20553350e+00 -2.26151323e+00\n",
      "  1.00142736e+01  1.57758274e+01  6.39383972e-01  3.57487221e+01\n",
      "  1.47799263e+01 -6.98066330e+00  6.59805584e+00 -4.26724577e+00\n",
      "  1.32716370e+01  8.96760178e+00  3.70781975e+01  6.96140289e+00\n",
      " -1.83452860e-01  2.39487782e+01  6.48881674e+00  8.08430004e+00\n",
      " -1.98636785e-01 -3.21100640e+00  1.02702408e+01  7.05010271e+00\n",
      " -1.00790787e+01  3.11722207e+00  2.59421349e+01  3.57937789e+00\n",
      " -5.93177369e-03  1.17100871e+00  9.26785088e+00  1.70414174e+00\n",
      " -9.40830803e+00  1.14882612e+01  2.59281731e+01  5.12733316e+00\n",
      "  1.57291484e+00  2.03913574e+01  1.45340862e+01  9.19985008e+00\n",
      "  4.95698881e+00 -7.30417299e+00  4.32500572e+01  1.71710455e+00\n",
      "  9.11433887e+00  2.33530827e+01  1.50059443e+01  3.05997219e+01\n",
      " -9.04494375e-02  8.17501354e+00  7.02412176e+00  3.54482307e+01\n",
      "  3.58149605e+01  6.14240599e+00  4.45309973e+00  1.76682663e+01\n",
      "  8.18207741e-01  1.59793937e+00  2.96550312e+01 -2.67974281e+00\n",
      " -1.71480194e-01  8.79294586e+00  1.91012096e+01  1.20861053e+01\n",
      "  1.74291401e+01  1.49135275e+01  1.20899391e+01 -5.38940477e+00\n",
      "  1.21135864e+01  1.35392606e+00  3.35049915e+00  1.49305525e+01\n",
      "  1.06209574e+01 -4.71958590e+00  4.14495201e+01  3.51272011e+01\n",
      " -1.00409002e+01  7.84656382e+00  1.29317725e+00  1.33234282e+01\n",
      "  1.31993256e+01  3.02959309e+01  1.71934052e+01  4.58198013e+01\n",
      "  7.26073444e-01  2.90245781e+01  2.22830467e+01  6.09243107e+00\n",
      "  2.37054691e+01  4.20778513e+00 -9.45472050e+00  5.34662819e+00\n",
      " -6.94856977e+00  1.90591202e+01  6.65271378e+00  3.87340546e+00\n",
      "  2.68873787e+01  3.61473885e+01  6.52896583e-01  6.82721090e+00\n",
      "  1.90859814e+01  2.12849674e+01  1.88068390e+01  5.84848404e+00\n",
      "  6.06088543e+00  1.99038827e+00 -6.60202980e+00 -1.29538798e+00\n",
      "  2.51420937e+01  3.78379011e+00  2.93273087e+01  2.18267155e+00\n",
      " -1.13001382e+00  2.29029026e+01 -3.07497168e+00  2.26408882e+01\n",
      "  2.72771358e+01  4.48020935e+00  9.75001335e+00  1.20095024e+01\n",
      " -5.05721235e+00 -1.36659307e+01 -1.02256546e+01 -9.52754307e+00\n",
      " -5.06713009e+00 -1.12737103e+01 -6.41659212e+00  9.39391851e-01\n",
      " -6.41387701e+00 -6.99439287e+00 -7.45946360e+00  4.58256817e+00\n",
      "  3.92451406e+00 -1.28764706e+01 -2.08132915e+01 -2.02100735e+01\n",
      " -6.74034023e+00  7.23054790e+00 -5.21262455e+00 -1.13165510e+00\n",
      " -6.64339161e+00  5.05899954e+00  2.13161087e+00  2.06466198e+00\n",
      " -8.05127430e+00 -2.32675476e+01 -1.67770386e+01 -1.10635414e+01\n",
      " -4.76951742e+00 -6.75657749e+00 -1.22913551e+00  6.88296700e+00\n",
      "  7.02683830e+00 -3.68484706e-01  3.65106344e+00 -7.06837130e+00\n",
      " -5.60796976e+00 -8.73217106e+00 -9.88254261e+00  2.92477798e+00\n",
      "  5.09883547e+00  6.28070259e+00 -2.21676559e+01  1.00682507e+01\n",
      " -3.26178342e-01 -1.55771570e+01 -2.44858780e+01 -1.27968669e+00\n",
      " -4.42838383e+00 -7.46085596e+00  1.62821853e+00 -1.61636686e+00\n",
      " -2.91300869e+00 -2.91909266e+00  1.03689635e+00 -6.24323463e+00\n",
      " -4.76202875e-01 -2.72343998e+01  1.16375721e+00 -1.51850758e+01\n",
      " -2.39780846e+01 -1.67650986e+01 -9.58913028e-01  3.40574265e+00\n",
      " -1.26674595e+01 -4.64436626e+00 -3.11041331e+00 -3.80894089e+00\n",
      " -4.92575550e+00 -5.27189350e+00  2.52972078e+00 -5.99457884e+00\n",
      " -9.59324062e-01 -1.52831125e+01  3.84821862e-01 -5.87866592e+00\n",
      " -7.16252995e+00  4.01022148e+00 -3.17569876e+00  1.46274662e+01\n",
      " -4.82051134e+00  3.46355724e+00  6.39968634e-01 -8.37991810e+00\n",
      " -1.66660321e+00  1.00781918e+01  5.45218039e+00  2.10253620e+00\n",
      "  8.01438236e+00 -4.42843533e+00 -4.02864408e+00  2.27146482e+00\n",
      " -2.16953874e+00 -3.55515623e+00  3.27459073e+00 -2.43480186e+01\n",
      " -1.80272522e+01 -2.19209790e+00 -4.46249771e+00 -2.53970838e+00\n",
      " -7.31956339e+00  4.51008320e+00  4.92966604e+00  1.67513275e+00\n",
      "  3.10294414e+00  2.79148960e+00 -1.02823820e+01  9.29792106e-01\n",
      " -2.08408031e+01 -4.94992018e+00 -1.22578564e+01 -6.85885954e+00\n",
      " -2.50689125e+00  4.48652411e+00 -2.98320236e+01 -9.29327488e+00\n",
      "  1.22325125e+01 -1.56318235e+01  5.71165085e+00 -1.47611399e+01\n",
      "  5.30804729e+00 -2.57874417e+00  2.24480510e+00 -4.81696606e+00\n",
      " -5.54451609e+00 -2.75026107e+00 -5.19692183e+00 -1.19630270e+01\n",
      " -1.23332329e+01 -6.72138557e-02 -1.27116747e+01  1.50261700e+00\n",
      " -2.29292369e+00 -2.09602070e+01 -4.63453388e+00 -9.14542103e+00\n",
      " -3.68264008e+00 -1.05610533e+01 -2.06648903e+01  2.28839421e+00\n",
      " -3.67505741e+00  2.16576055e-01 -3.70051765e+00 -5.33210850e+00\n",
      " -2.99093461e+00 -3.87519264e+00  6.36793256e-01  1.72114067e+01\n",
      "  4.54343587e-01 -3.77405572e+00 -2.01261539e+01 -1.01198721e+01\n",
      " -2.53185368e+00 -3.57559395e+00 -9.83626461e+00 -6.16510820e+00\n",
      " -7.38570166e+00 -3.84003568e+00 -2.19386482e+01  5.88655949e+00\n",
      "  5.92390680e+00 -1.85198188e+00  6.05267572e+00 -1.16613877e+00\n",
      " -6.30068922e+00 -2.68275547e+00 -1.95740557e+00 -4.97108555e+00\n",
      "  1.58069503e+00 -5.65746576e-02  6.13238287e+00 -2.85239196e+00\n",
      "  1.76797330e+00  3.69910908e+00 -1.05088639e+00  1.21260941e+00\n",
      " -3.08461070e+00 -2.34577827e+01 -1.65035648e+01 -2.95998812e+00\n",
      " -2.32816982e+01 -1.64060667e-01 -1.23016691e+01 -4.76223993e+00\n",
      "  4.28937483e+00 -4.70018816e+00 -7.33264351e+00 -1.28646679e+01\n",
      " -8.69212437e+00 -1.81735963e-01 -1.67740345e+01 -1.01162815e+00\n",
      " -4.05716801e+00 -5.01475859e+00 -5.09484100e+00  8.27022076e+00\n",
      "  4.68912458e+00 -3.66735125e+00 -3.82112098e+00 -1.16555130e+00\n",
      " -2.91625843e+01 -4.17142372e+01  1.21494842e+00 -2.40894675e+00\n",
      " -5.23736143e+00  4.47177458e+00 -2.02319789e+00 -4.94572878e+00\n",
      " -3.38397789e+01 -4.20328426e+00 -1.28131342e+01  4.41062593e+00\n",
      "  1.03721981e+01 -9.74277878e+00 -1.48598843e+01 -7.45695734e+00\n",
      " -2.91074753e+00 -2.72156773e+01 -3.30166206e+01 -2.56387997e+01\n",
      " -3.65370979e+01 -1.40152445e+01 -1.68974228e+01 -3.40503502e+01\n",
      " -2.84325886e+01  9.46893406e+00 -2.01055527e+01 -7.38872099e+00\n",
      " -3.97974104e-01  3.37592816e+00 -3.92954040e+00  6.98596334e+00\n",
      " -8.66911352e-01 -3.05444584e+01 -1.23299484e+01  8.14957678e-01\n",
      "  4.33362722e+00 -1.96002698e+00  1.03716397e+00 -1.57246649e+00\n",
      " -2.93021069e+01 -1.57352877e+00 -6.06694365e+00 -4.79688072e+00\n",
      " -1.59255962e+01 -6.56948709e+00  3.80934358e+00  7.24944830e+00\n",
      " -6.44601440e+00 -2.33352432e+01 -1.44593315e+01 -1.31183329e+01\n",
      " -1.46621430e+00 -1.22867441e+01  1.68292189e+00 -3.17462659e+00\n",
      " -1.10756025e+01 -3.46747131e+01 -6.29274845e+00  1.01473880e+00\n",
      "  5.29486561e+00 -1.85795078e+01 -3.66186094e+00 -2.58564701e+01\n",
      " -2.34849339e+01 -2.84602127e+01 -7.06114769e+00 -1.18412447e+01\n",
      " -1.55017650e+00 -1.33649564e+00 -2.52771068e+00 -2.85488949e+01\n",
      " -1.16373158e+01  3.90271688e+00 -1.14101610e+01 -3.45758400e+01\n",
      " -1.14535820e+00 -1.26439161e+01 -5.75103641e-01 -2.60586681e+01\n",
      " -7.65329361e+00  2.44945765e-01 -3.24612975e+00 -6.45652771e+00\n",
      " -9.38696671e+00 -3.39423523e+01  9.81012821e-01 -2.84240494e+01\n",
      "  9.87740636e-01 -1.18609676e+01 -2.40370502e+01 -2.91357803e+01\n",
      " -1.90424213e+01 -6.02833128e+00 -2.25741696e+00 -1.33149424e+01\n",
      " -1.77153530e+01 -2.63690681e+01  1.82276320e+00 -4.49857750e+01\n",
      " -2.99614582e+01 -1.24457369e+01 -3.29395218e+01 -2.51578903e+00\n",
      " -2.13735809e+01  1.02920141e+01 -1.26739254e+01 -9.40644932e+00\n",
      "  6.29719973e+00 -1.69388771e+01 -9.73860681e-01 -6.98760939e+00\n",
      " -8.48233104e-01  1.52511239e+00 -1.94148910e+00 -2.98281116e+01\n",
      " -5.41483784e+00 -9.87236214e+00 -1.31353579e+01 -3.81548691e+00\n",
      "  2.36760750e+01 -3.27192521e+00 -3.34635239e+01 -3.04737453e+01\n",
      " -4.49670172e+00  2.55271363e+00 -3.89115868e+01  2.10884857e+00\n",
      " -3.68662186e+01 -2.32419987e+01 -1.89244061e+01 -1.28627853e+01\n",
      " -1.38984385e+01 -1.83206196e+01 -9.67571449e+00 -1.75864258e+01\n",
      " -3.07286906e+00  1.82604706e+00]' has dtype incompatible with int64, please explicitly cast to a compatible dtype first.\n",
      "  preds[val_index] = model.predict(dval_i)\n"
     ]
    },
    {
     "name": "stderr",
     "output_type": "stream",
     "text": [
      "\r",
      " 70%|███████████████████████████████████████████████████████████████████████████████████████████████████████████████████████████████████████████████████████████▍                                                                  | 7/10 [02:17<00:58, 19.49s/it]"
     ]
    },
    {
     "name": "stderr",
     "output_type": "stream",
     "text": [
      "C:\\Users\\81809\\AppData\\Local\\Temp\\ipykernel_27864\\3386215446.py:18: FutureWarning: Setting an item of incompatible dtype is deprecated and will raise an error in a future version of pandas. Value '[ 1.06427526e+00 -4.85731459e+00  2.92079496e+00  1.82207298e+00\n",
      "  1.75707588e+01  1.14692605e+00 -3.15933451e-02  9.71293163e+00\n",
      " -4.06533861e+00  3.89913511e+00 -2.68286753e+00  6.96665049e+00\n",
      "  3.98202562e+00  1.70063078e+00  6.81571198e+00  7.66463804e+00\n",
      " -7.41820383e+00 -4.71751070e+00  4.42464685e+00  9.12966728e+00\n",
      "  8.81243199e-02 -8.95132422e-01  2.42730308e+00  2.89386921e+01\n",
      "  1.08638144e+01  1.17887878e+00 -6.55450726e+00  1.82623272e+01\n",
      " -1.12648979e-01  4.84704113e+00  1.04821718e+00 -3.59458899e+00\n",
      "  6.99119902e+00 -1.85865831e+00  8.98581696e+00  9.13392639e+00\n",
      "  7.69967413e+00 -9.42702484e+00  7.09545898e+00  1.60044885e+00\n",
      " -1.86807537e+00  5.12492752e+00  1.67573910e+01  1.09146509e+01\n",
      "  2.24638596e+01 -4.52875137e-01 -3.33189696e-01  1.42712622e+01\n",
      "  6.34074259e+00  1.78428268e+00  9.01496696e+00  4.36850548e+00\n",
      " -4.38048220e+00 -1.50468683e+00  6.06417036e+00 -2.32597566e+00\n",
      "  1.35451353e+00  7.23105240e+00  5.94866896e+00  3.91008377e+00\n",
      "  1.17070446e+01  1.05643530e+01 -3.71785021e+00 -3.53699827e+00\n",
      "  3.32975388e+00  2.54437757e+00 -1.38713336e+00  1.49737751e+00\n",
      "  1.91348457e+01  8.19345474e+00  6.09948921e+00  1.79283257e+01\n",
      "  7.68594170e+00 -9.42798674e-01 -2.60888100e+00 -5.79413271e+00\n",
      "  9.23416615e+00  7.16852093e+00  1.02597857e+01  1.15643740e+00\n",
      "  3.68981099e+00  8.03616905e+00  6.13400841e+00  1.24519215e+01\n",
      "  3.89089012e+00  1.05294394e+00  5.02596188e+00  3.03059006e+00\n",
      "  2.22394962e+01  1.51400490e+01  7.46690929e-01  8.79966831e+00\n",
      " -1.12049837e+01  3.73458862e+00  5.55368233e+00  9.87583160e-01\n",
      "  1.18996370e+00  1.00719147e+01 -2.79573894e+00  2.08819695e+01\n",
      "  6.30648911e-01 -1.81538033e+00 -1.52234280e+00  1.74993026e+00\n",
      "  1.81437802e+00  7.19654512e+00 -6.23932838e+00  1.23752346e+01\n",
      " -2.32271910e+00  9.64422897e-02 -5.97224379e+00 -2.10130382e+00\n",
      "  6.45114899e+00 -3.14515543e+00 -2.09566760e+00  8.26656628e+00\n",
      " -5.80306959e+00  1.50626540e+00 -2.50112534e+00 -2.86156130e+00\n",
      "  6.79720736e+00  1.27822666e+01 -3.47842002e+00 -5.24187803e-01\n",
      "  4.06147718e+00 -4.47722864e+00  3.50861382e+00  7.18533802e+00\n",
      "  9.12804343e-03  1.62310791e+01  1.48920670e+01  4.49597263e+00\n",
      " -4.75266838e+00 -6.61410713e+00 -1.85250151e+00  2.12826586e+00\n",
      "  6.04789448e+00 -5.63043785e+00  3.90827632e+00  1.28039074e+01\n",
      " -1.63016176e+00 -2.95077896e+00  7.42314875e-01  6.98109508e-01\n",
      "  5.85920954e+00 -6.34573126e+00  9.22202587e+00  1.55779648e+01\n",
      "  1.44136095e+01  1.07212830e+01  1.89200878e+00  1.16047029e+01\n",
      "  9.39599276e-01  1.02388263e-01  9.21605968e+00  2.21472988e+01\n",
      " -5.97996712e-01 -9.09748936e+00  2.91003609e+00  5.68399334e+00\n",
      "  3.45568752e+00 -7.13447869e-01  2.04297566e+00  1.06991596e+01\n",
      " -3.83446479e+00  1.36465514e+00 -1.68595848e+01  1.69897633e+01\n",
      " -4.20423889e+00  2.27900295e+01  2.78310299e+00  8.17240953e-01\n",
      "  8.94117451e+00  5.53801346e+00  1.16944427e+01  3.55151629e+00\n",
      "  4.16737032e+00  2.53334332e+00  2.69993925e+00  2.09952340e-01\n",
      "  3.72082758e+00 -1.76624835e+00  4.65848875e+00 -4.80424404e+00\n",
      "  2.20710106e+01  2.19266109e+01  7.31310919e-02  2.16176319e+00\n",
      " -6.64761400e+00  5.94623756e+00  4.52521038e+00 -3.78675151e+00\n",
      "  4.05904055e+00  6.95293856e+00  9.64955807e+00  2.92763567e+00\n",
      "  2.19421635e+01 -3.44981766e+00  1.01026974e+01  2.56762981e+01\n",
      " -3.35964608e+00 -6.07212961e-01 -4.20949554e+00 -1.86568117e+00\n",
      " -3.81102633e+00  2.33893561e+00  5.78865147e+00 -2.70196533e+00\n",
      "  1.58903666e+01 -3.41079116e+00 -2.10115814e+00  8.67697656e-01\n",
      "  1.89011421e+01  3.55834818e+00  4.44227934e+00  1.18707390e+01\n",
      "  2.19067502e+00 -2.08414292e+00  4.41252232e+00  2.01692333e+01\n",
      "  3.03067493e+01 -1.03757775e+00  2.59672432e+01  3.88595963e+00\n",
      "  3.88936067e+00  1.92586269e+01  6.05341673e+00  1.84270963e-02\n",
      "  2.11402588e+01 -1.00586395e+01 -1.03458271e+01 -4.50951672e+00\n",
      "  6.00714302e+00 -4.46041059e+00  3.51722488e+01  1.58912592e+01\n",
      "  2.03898582e+01  4.57057858e+00  2.01664181e+01  6.51720333e+00\n",
      "  6.34301996e+00 -3.49536753e+00  3.20172005e+01  1.26184311e+01\n",
      "  2.98010044e+01  6.76547945e-01 -8.24479908e-02  2.86838608e+01\n",
      "  1.22575083e+01  2.45575008e+01  1.85328751e+01  1.51933088e+01\n",
      "  1.98087234e+01  5.71086645e+00  1.29125338e+01  1.52815604e+00\n",
      "  1.61433582e+01 -7.20483589e+00  7.99145889e+00 -1.61440980e+00\n",
      "  1.74415743e+00  1.13716173e+01 -4.76238346e+00  2.33867016e+01\n",
      "  2.77929611e+01  8.01912117e+00  1.51294127e+01  7.58629322e+00\n",
      "  6.84058964e-02  1.39150963e+01  3.50837088e+00  1.76785507e+01\n",
      "  1.65988505e+00  1.62630768e+01  1.36053848e+01 -8.85396153e-02\n",
      " -9.68148994e+00  6.47713423e+00  1.92513866e+01 -1.08854179e+01\n",
      "  9.16631317e+00  2.37722969e+00  2.94105873e+01  3.99306744e-01\n",
      " -9.11705875e+00  7.42842817e+00 -8.68455029e+00  3.67219234e+00\n",
      "  2.94247293e+00  7.99841225e-01  3.04487610e+01  1.90777874e+01\n",
      "  2.64827709e+01  4.88154554e+00  4.80220451e+01  1.21369200e+01\n",
      "  3.65664330e+01  1.50177727e+01  1.44451153e+00  4.79327822e+00\n",
      "  2.11566811e+01  8.06940460e+00  1.24387999e+01 -8.67731571e+00\n",
      " -9.80591583e+00  8.31060696e+00  2.07048464e+00  3.10465221e+01\n",
      "  1.57679439e-01 -2.48109147e-01 -3.02347946e+00  1.89323509e+00\n",
      " -1.87641919e+00  1.64054890e+01  5.48892498e+00  8.85691738e+00\n",
      "  3.09115467e+01 -9.85384369e+00  8.27294540e+00  1.32958803e+01\n",
      "  8.09104919e+00  2.04607792e+01 -9.08212852e+00  2.93749790e+01\n",
      " -1.53325109e+01  4.00099449e+01 -6.26506281e+00  3.11910725e+01\n",
      "  7.08999825e+00  1.93222752e+01  2.03890991e+01  8.17207694e-01\n",
      " -1.30359297e+01  2.52051544e+01  9.70869446e+00  1.14654465e+01\n",
      "  6.89481783e+00  1.85625210e+01  3.37023425e+00 -1.09930811e+01\n",
      "  8.82419348e-01  2.58379674e+00 -1.14032726e+01 -6.03594017e+00\n",
      " -2.38538408e+00 -8.47841263e+00 -7.77196360e+00 -5.33941793e+00\n",
      " -7.81082726e+00 -6.76272202e+00 -7.28860426e+00 -2.13604221e+01\n",
      "  9.71618176e+00 -7.41446543e+00 -2.56065822e+00 -6.12443638e+00\n",
      " -3.30789059e-01 -2.95934963e+00 -4.92125177e+00 -2.25324973e-01\n",
      " -1.73568070e-01 -5.87067270e+00 -9.68332100e+00 -2.38472099e+01\n",
      " -3.44798088e+00  1.64249790e+00 -4.87967634e+00 -2.71373520e+01\n",
      " -5.33340693e+00 -5.92018938e+00  3.75943518e+00 -2.18307018e+00\n",
      " -1.01085606e+01 -6.17037043e-02 -9.58780479e+00 -6.69288778e+00\n",
      "  5.43037128e+00  1.61359739e+00  3.72424603e-01 -4.33324337e+00\n",
      " -6.97374868e+00 -9.28344440e+00 -9.05478382e+00 -1.34702492e+01\n",
      " -4.86631298e+00  1.55771315e+00 -1.37462533e+00 -1.26570940e+00\n",
      " -6.15884829e+00 -8.94740295e+00 -1.15984602e+01  2.60124803e+00\n",
      " -1.03305721e+01 -4.90974045e+00 -6.25767946e+00 -3.77775168e+00\n",
      "  1.53223443e+00 -8.44945335e+00 -6.55366230e+00 -2.36036110e+01\n",
      " -7.26034403e+00 -7.77211189e+00  1.47378278e+00 -1.35524549e+01\n",
      " -2.56126385e+01  6.59075499e-01 -2.45796776e+00  1.06754026e+01\n",
      " -1.79872055e+01 -1.14869213e+01 -9.54334319e-01 -1.82902603e+01\n",
      " -4.38190269e+00 -6.14182532e-01  4.70469999e+00 -1.15145416e+01\n",
      " -7.21341085e+00  1.09368238e+01 -1.55146828e+01 -1.61502552e+01\n",
      " -4.33810711e+00  4.62527704e+00 -6.53060055e+00  1.79952800e+00\n",
      " -9.14197063e+00 -5.45418024e+00 -1.43750229e+01  6.23111057e+00\n",
      "  8.73483849e+00 -4.04632044e+00  1.70552564e+00 -1.34055448e+00\n",
      " -1.58538270e+00 -1.29224501e+01  1.21187344e+01 -2.11287079e+01\n",
      " -5.82908630e+00 -1.82513690e+00 -2.26331787e+01 -1.80648232e+01\n",
      " -1.13765774e+01 -2.22488475e+00 -9.46581066e-01  1.08715665e+00\n",
      "  1.39746189e+01  6.67831802e+00 -1.08774137e+00 -6.30072641e+00\n",
      " -3.89612913e+00  1.71580777e-01  9.34059906e+00  1.70956459e+01\n",
      "  5.05322838e+00 -9.58952999e+00 -6.07235146e+00 -4.02883911e+00\n",
      "  1.35982728e+00  2.13572860e+00 -2.12295876e+01  6.71134806e+00\n",
      " -7.50174463e-01 -1.40908611e+00 -1.41953483e-01 -1.32293892e+01\n",
      " -1.97600257e+00  5.66474867e+00 -1.76157036e+01 -1.58538160e+01\n",
      " -2.23127155e+01 -1.00118790e+01 -1.12304096e+01  1.02856255e+01\n",
      " -2.25209351e+01 -2.50667262e+00 -1.63776755e-01  6.54172182e+00\n",
      " -4.70074701e+00  4.51963568e+00  8.61963868e-01  9.57706451e-01\n",
      " -3.35173726e+00 -8.43303204e+00 -9.77170229e-01 -1.82922668e+01\n",
      " -5.78797674e+00 -3.91571259e+00 -4.48628616e+00 -2.39141536e+00\n",
      "  5.27343845e+00 -5.29741001e+00  1.43338040e-01 -6.43089819e+00\n",
      " -2.25052953e+00 -1.11661077e+00 -1.74930179e+00 -3.53165174e+00\n",
      "  3.54545712e+00 -2.38533230e+01  1.67038288e+01  3.60314894e+00\n",
      "  1.21121025e+01 -3.73927212e+00  2.95738506e+00 -4.18818045e+00\n",
      " -2.59667039e+00 -1.05444326e+01  3.36052275e+00 -1.79471135e+00\n",
      " -2.69889984e+01 -6.79135180e+00 -7.04308629e-01 -1.09852636e+00\n",
      " -2.83489299e+00 -5.83744907e+00 -1.67178326e+01 -5.33173513e+00\n",
      " -7.24701500e+00 -8.87325382e+00 -7.92449474e+00 -2.07853484e+00\n",
      " -3.69843912e+00  7.95415354e+00 -6.67205334e+00  8.89696693e+00\n",
      " -3.69089127e+00 -5.73282623e+00 -3.00517635e+01 -1.92281628e+01\n",
      " -9.47002029e+00 -5.32284307e+00 -4.15781116e+00 -2.74611168e+01\n",
      " -1.07610893e+01 -2.75246983e+01 -1.35569201e+01 -2.28651381e+00\n",
      " -3.01908207e+00 -9.41136837e+00 -3.48563995e+01 -1.80591226e+00\n",
      " -1.24323635e+01 -8.41237259e+00  1.75076377e+00 -9.99905396e+00\n",
      " -6.34076118e+00 -6.40410471e+00 -1.27094336e+01 -1.37133856e+01\n",
      " -3.24980507e+01 -2.66118736e+01 -3.61863747e+01 -7.43685126e-01\n",
      "  1.80047715e+00 -1.89721642e+01 -2.52615108e+01 -2.85306149e+01\n",
      "  6.32097197e+00  9.35245514e+00 -5.24524212e-01 -7.67312145e+00\n",
      " -3.91834183e+01 -1.67243898e-01 -2.94730873e+01 -3.27632713e+01\n",
      " -1.36760426e+01 -3.03414040e+01 -1.35327339e+00 -1.56117525e+01\n",
      " -7.92703104e+00 -4.19304619e+01  5.92736864e+00 -6.33443415e-01\n",
      " -2.18371601e+01 -1.95084724e+01 -4.70251620e-01 -6.99096060e+00\n",
      " -1.93057423e+01 -3.42469406e+01 -3.18870792e+01 -5.03958797e+00\n",
      "  2.62390423e+00  9.66864967e+00 -2.53526440e+01 -9.94036770e+00\n",
      " -1.35206556e+01 -3.61149406e+00 -2.00432281e+01 -1.18729038e+01\n",
      " -4.26417389e+01  4.92754030e+00 -8.07847738e-01 -1.24888098e+00\n",
      " -1.92704258e+01  7.17544937e+00 -3.29082870e+00 -5.96535492e+00\n",
      " -7.40818357e+00  5.18141222e+00 -3.54034843e+01 -6.00406313e+00\n",
      "  8.81167793e+00 -8.31850433e+00  7.75145531e+00 -1.49584599e+01\n",
      "  3.43519425e+00 -6.14527369e+00 -1.11429071e+01 -1.53832512e+01\n",
      " -1.02935200e+01 -2.60421696e+01 -1.31088486e+01  3.15588593e+00\n",
      "  2.06062198e+00  2.55190563e+00  6.06013489e+00 -1.97100792e+01\n",
      " -6.81165695e+00 -1.02520323e+01  4.96270323e+00  7.64467192e+00\n",
      " -2.75061588e+01  7.76444376e-02 -2.41887474e+01 -3.00859489e+01\n",
      "  2.13780284e+00 -1.35120308e+00  7.35770988e+00 -7.66335726e+00\n",
      " -1.16969557e+01 -1.54308081e+01 -2.28907909e+01  1.01929493e+01\n",
      " -2.35781097e+00 -9.35573387e+00 -3.61317110e+00 -2.53003845e+01\n",
      " -3.59413223e+01 -3.59843826e+01 -1.77948322e+01  6.32457495e+00\n",
      " -1.52308655e+01 -1.60433273e+01  1.35972586e+01 -2.43990383e+01\n",
      " -1.79172287e+01 -2.57407594e+00]' has dtype incompatible with int64, please explicitly cast to a compatible dtype first.\n",
      "  preds[val_index] = model.predict(dval_i)\n"
     ]
    },
    {
     "name": "stderr",
     "output_type": "stream",
     "text": [
      "\r",
      " 80%|█████████████████████████████████████████████████████████████████████████████████████████████████████████████████████████████████████████████████████████████████████████████████▌                                            | 8/10 [02:35<00:38, 19.02s/it]"
     ]
    },
    {
     "name": "stderr",
     "output_type": "stream",
     "text": [
      "C:\\Users\\81809\\AppData\\Local\\Temp\\ipykernel_27864\\3386215446.py:18: FutureWarning: Setting an item of incompatible dtype is deprecated and will raise an error in a future version of pandas. Value '[ 7.64217234e+00 -6.03676987e+00  1.05687475e+01  7.73197937e+00\n",
      "  6.60548735e+00  6.83768272e+00  5.44963884e+00  1.90220714e+00\n",
      " -1.81144290e-02  3.28785324e+00 -3.04869604e+00  3.06211090e+00\n",
      " -6.07522726e-01  2.07416840e+01  2.09359312e+00  1.31487932e+01\n",
      "  4.00766087e+00  3.75157619e+00  7.07502937e+00  3.12659860e+00\n",
      "  6.37981606e+00  3.72993898e+00  1.01531296e+01 -1.55011761e+00\n",
      "  6.85294628e+00  4.15157652e+00  1.00777845e+01  6.32645178e+00\n",
      "  2.18002295e+00  2.55228977e+01  4.95056391e+00 -8.41147518e+00\n",
      "  3.79741478e+00  1.53197794e+01  8.83840466e+00 -6.28992176e+00\n",
      "  5.04414082e+00  1.55274999e+00 -4.82107997e-01 -7.64425802e+00\n",
      " -3.32628298e+00  1.03848734e+01  2.53335047e+00  6.63189411e+00\n",
      "  2.13995686e+01  9.79405403e+00  6.10909462e+00  2.70713922e-02\n",
      " -2.30489588e+00  2.32869506e+00  5.07904100e+00  4.12212133e+00\n",
      "  1.06500340e+00  1.62067318e+01  3.67673850e+00  1.03987885e+01\n",
      "  2.29276237e+01  8.69321251e+00 -3.78827453e+00  7.14319468e+00\n",
      "  3.33078384e+00  2.98966312e+00  3.86619043e+00  9.09497142e-01\n",
      "  7.73992920e+00  1.01113358e+01  3.71397591e+00  3.83135748e+00\n",
      "  1.48827505e+01  2.53591766e+01 -3.89792919e+00  6.11094666e+00\n",
      "  1.15771925e+00  1.03772106e+01  2.40959930e+00  4.67134953e-01\n",
      "  2.28313389e+01  8.09938526e+00  1.21874380e+01  2.88262868e+00\n",
      "  1.62708054e+01 -2.51164365e+00  9.91131401e+00  8.20270920e+00\n",
      "  3.05963635e+00 -6.75465524e-01 -9.43063676e-01  7.08309507e+00\n",
      "  2.28349447e+00  7.75370550e+00  1.75465984e+01 -5.34219265e+00\n",
      "  1.80845916e-01  3.48791194e+00 -6.86392927e+00 -2.71974492e+00\n",
      " -3.29557586e+00 -7.25197697e+00  8.81028920e-02  3.38891983e-01\n",
      "  2.51977324e+00  2.66131133e-01 -1.03881035e+01  2.89014792e+00\n",
      " -2.56916523e+00  8.78364086e-01  2.22781849e+01 -5.43717480e+00\n",
      "  1.36188116e+01  1.39832363e+01  6.75425720e+00 -1.97688699e+00\n",
      "  9.60285473e+00 -9.60734367e+00 -1.21289015e+00 -3.12615943e+00\n",
      "  4.25880289e+00 -8.66251659e+00  2.71481466e+00 -1.40414989e+00\n",
      "  8.90357018e+00  8.68559551e+00 -3.65007186e+00  1.22475290e+01\n",
      "  6.75722885e+00  7.54789495e+00  2.07801380e+01 -7.26852417e+00\n",
      "  1.51611700e+01  9.63936901e+00 -2.79583025e+00  6.31235981e+00\n",
      "  5.24106264e+00  1.05172205e+00  1.67824581e-01 -4.24727917e-01\n",
      "  1.21289473e+01  1.23442125e+01 -6.36305475e+00  1.10104609e+01\n",
      "  2.48951578e+00  9.48909283e+00  2.08540516e+01  3.16413522e+00\n",
      "  1.24477184e+00  1.32725120e+00 -1.35915741e-01  8.78792584e-01\n",
      "  3.75009465e+00  6.30585861e+00  3.13380480e+00  1.16169796e+01\n",
      " -1.36387503e+00 -3.39635825e+00  2.23301816e+00 -1.17152958e+01\n",
      "  2.94081306e+01  1.49351597e+01 -2.18497849e+00  1.78735867e+01\n",
      "  1.21344795e+01  3.37439466e+00  9.93248367e+00  5.76274097e-01\n",
      "  1.27158153e+00 -9.26132500e-01 -3.88953042e+00  3.29814887e+00\n",
      " -1.49226534e+00  1.19439113e+00 -7.60805964e-01 -9.62533653e-01\n",
      "  9.29487884e-01 -1.45877981e+00  3.78643322e+00  1.93762932e+01\n",
      "  6.83399439e+00  1.39415712e+01 -6.41693735e+00  2.00539207e+01\n",
      " -2.33815765e+00  3.32819605e+00  4.60473204e+00  1.27214408e+00\n",
      "  7.47643137e+00 -8.01211929e+00  1.89851341e+01  3.50410700e+00\n",
      "  6.60655546e+00 -1.26073241e+00  9.61084461e+00  1.50527563e+01\n",
      "  2.13012619e+01 -2.66491628e+00  2.07219720e+00  5.21596014e-01\n",
      "  5.25634623e+00  5.15399122e+00  4.34219503e+00 -5.59386396e+00\n",
      "  8.39807701e+00  8.44520664e+00  9.34665585e+00  2.38475056e+01\n",
      "  4.33508253e+00  3.03706717e+00  2.21361804e+00  4.86242008e+00\n",
      "  6.12753344e+00 -9.73327458e-01  1.16700497e+01  5.97835350e+00\n",
      "  1.92100296e+01  8.23696613e+00  3.55246234e+00 -1.17151892e+00\n",
      "  3.78154755e+01 -1.00075407e+01  5.13148165e+00 -1.01631384e+01\n",
      " -6.45440674e+00  1.27120857e+01  4.88486499e-01  4.20179129e+00\n",
      "  7.59698725e+00 -9.91448581e-01  2.54125118e+01  5.97392035e+00\n",
      "  8.71704865e+00  2.47319241e+01  5.27121782e+00  2.02710934e+01\n",
      " -7.24842596e+00  2.95411167e+01  3.09703522e+01  1.04497564e+00\n",
      " -1.54470015e+01  1.60530651e+00  2.27942157e+00  5.85519171e+00\n",
      "  8.02937889e+00  1.78720436e+01  6.87632322e+00  1.59888668e+01\n",
      "  2.93772812e+01  1.13119011e+01  3.63400917e+01 -2.13352871e+00\n",
      "  9.86135769e+00  9.23325121e-01  1.75223122e+01  1.27849865e+01\n",
      "  2.68842125e+01 -4.99016953e+00  2.48062820e+01  1.34272118e+01\n",
      "  9.80629635e+00  3.24112816e+01  1.06977310e+01  2.68735409e+01\n",
      "  3.14158320e+00  6.22689629e+00  2.66697731e+01  1.59181786e+00\n",
      "  5.99674892e+00  7.31505394e+00  1.03083029e+01 -5.59225368e+00\n",
      "  1.39912319e+01  4.28690186e+01  8.16960907e+00 -9.97210407e+00\n",
      "  9.85093689e+00 -2.94145060e+00 -8.97477341e+00  3.27432919e+00\n",
      " -4.62177229e+00  1.10043221e+01  4.21601868e+00  6.01898766e+00\n",
      " -1.92903316e+00  3.66984596e+01  1.44997053e+01  3.04447479e+01\n",
      "  2.19988441e+01  2.69202423e+00  9.14511013e+00  1.69263954e+01\n",
      "  5.12118816e+00 -7.59053087e+00  2.03138123e+01  6.36525297e+00\n",
      "  2.96754098e+00  2.28274536e+01  9.48426247e+00  3.23764458e+01\n",
      "  8.14250755e+00  3.05529938e+01  3.52919888e+00 -1.00596342e+01\n",
      "  4.91342449e+00  3.87329912e+00  7.32500267e+00  6.34617186e+00\n",
      " -1.16925659e+01  1.53947687e+01  2.82919693e+01 -2.78932166e+00\n",
      "  3.96598282e+01  9.37984657e+00  2.55328217e+01  3.74558640e+01\n",
      " -5.83079195e+00  3.79037895e+01  5.23836994e+00  1.30770588e+01\n",
      "  3.05032969e+00  3.16336632e+00  1.14480553e+01  2.56949883e+01\n",
      "  1.13784418e+01 -1.72056484e+00 -2.16720619e+01 -5.66593170e+00\n",
      "  3.91062140e+00 -1.35444098e+01 -2.35857468e+01 -8.02869511e+00\n",
      " -3.21786141e+00 -8.31333351e+00 -5.44000769e+00 -2.72674632e+00\n",
      " -2.08093777e+01 -3.26986694e+00 -2.56047497e+01 -4.48400116e+00\n",
      " -8.15614033e+00 -5.29855907e-01 -7.11206722e+00 -3.09555650e+00\n",
      " -7.39083815e+00 -9.50517750e+00  6.15236425e+00 -1.31472838e+00\n",
      "  6.62108374e+00  4.84629297e+00 -8.07928848e+00 -4.74972630e+00\n",
      "  2.43049398e-01 -2.52943363e+01  8.97916079e-01  4.61127937e-01\n",
      " -2.83571548e+01  1.25042915e+00  1.22984705e+01 -7.35039091e+00\n",
      "  7.53223896e+00 -9.00470066e+00 -5.44394922e+00 -5.58350086e+00\n",
      " -6.20441151e+00  3.64783049e+00  2.30938673e+00 -9.88341808e-01\n",
      " -9.96264076e+00 -2.20384979e+01 -8.94595909e+00 -1.36834412e+01\n",
      "  6.30606365e+00 -3.03347445e+00  2.33142424e+00  8.20186853e-01\n",
      " -1.66229057e+01 -6.01043987e+00 -2.36134090e+01 -1.54074168e+00\n",
      "  1.78210676e+00 -8.00021362e+00 -5.55620432e+00  2.97561383e+00\n",
      " -2.46024876e+01 -1.11469984e+01 -1.40921507e+01 -1.23276174e+00\n",
      " -4.69256341e-01  1.65683639e+00  1.51095605e+00 -1.15020359e+00\n",
      " -3.33481455e+00  8.78118575e-01 -2.49884653e+00 -4.33372164e+00\n",
      " -7.10478497e+00 -1.97280407e+01  5.74966383e+00  2.49234486e+00\n",
      " -8.81108463e-01 -3.82845354e+00 -2.99184203e+00 -7.23710537e+00\n",
      " -1.70585785e+01 -3.39900672e-01  5.45202971e-01 -7.46379495e-01\n",
      "  2.42632031e+00 -8.80958271e+00 -2.42962799e+01 -1.71244049e+01\n",
      " -9.11479664e+00 -1.05895309e+01 -8.26639557e+00 -3.13600039e+00\n",
      " -5.83097506e+00 -3.54452109e+00 -5.84753895e+00 -1.86390171e+01\n",
      "  1.89481962e+00  4.03068781e+00  1.43009777e+01 -2.42743626e-01\n",
      "  3.99275970e+00  4.50591236e-01 -2.34830532e+01  3.18821013e-01\n",
      " -1.39280281e+01 -1.63034880e+00  8.47683430e+00  2.81498575e+00\n",
      " -5.60573769e+00  4.92623627e-01 -1.62072086e+01 -1.13209212e+00\n",
      " -7.28609991e+00  1.74511766e+00 -1.44624386e+01 -1.78126068e+01\n",
      " -3.25504231e+00  4.92529869e+00 -2.87282062e+00  8.03867054e+00\n",
      " -7.67053747e+00 -2.26905608e+00 -1.06327438e+01  6.12457800e+00\n",
      " -6.20421791e+00  5.74305296e+00 -2.74753819e+01 -5.09754705e+00\n",
      " -9.55631065e+00 -1.92883301e+01  4.36682892e+00 -7.21448660e+00\n",
      "  3.97092128e+00 -1.30697088e+01 -1.99451981e+01  4.47682917e-01\n",
      " -1.47001672e+00 -2.97018766e-01 -9.41565895e+00 -5.18643618e+00\n",
      " -1.30350332e+01  2.21719313e+00 -2.57424188e+00 -2.05931735e+00\n",
      " -8.11950397e+00  1.92232478e+00 -1.29557121e+00 -1.11206017e+01\n",
      " -5.19353724e+00 -3.88838005e+00 -1.25438366e+01  9.85428238e+00\n",
      " -2.20694294e+01 -6.16002798e+00 -3.84262681e+00 -4.87686336e-01\n",
      "  5.80430126e+00 -4.07907248e+00 -3.52297330e+00 -4.84703112e+00\n",
      "  4.64556170e+00 -1.07763433e+00  3.70444274e+00  1.68958139e+00\n",
      "  4.42218351e+00 -3.29227066e+00  1.26107836e+00  3.83951604e-01\n",
      "  9.77406502e+00  9.31810558e-01 -1.39489851e+01  2.92713714e+00\n",
      " -4.03512526e+00 -2.22635136e+01  1.14475918e+01 -2.22813010e-01\n",
      " -1.40033388e+00 -5.35943222e+00  1.41478762e-01 -1.29617186e+01\n",
      " -2.34905243e+00  2.78200507e+00 -2.60865822e+01  5.46381283e+00\n",
      "  4.21501637e+00  1.10642385e+01 -5.33912599e-01 -7.89907694e+00\n",
      " -1.13569748e+00 -1.03432388e+01 -5.17439508e+00 -4.87402105e+00\n",
      " -1.56030588e+01 -7.28923845e+00  1.25631917e+00  5.58573151e+00\n",
      " -5.69828558e+00  2.60921240e-01 -5.71655178e+00 -3.23242092e+00\n",
      " -1.58084650e+01  3.60146809e+00 -7.77116013e+00 -3.43226433e+00\n",
      " -2.30797310e+01 -1.21401463e+01 -1.09399736e+00  8.46666431e+00\n",
      "  6.50266027e+00 -5.33868885e+00 -1.88177776e+01 -2.76044512e+00\n",
      " -1.25381794e+01 -3.06457348e+01 -3.39817085e+01 -2.81425362e+01\n",
      " -5.45256901e+00 -1.95823879e+01 -2.20622425e+01  5.15592992e-01\n",
      " -9.10602093e+00 -5.74531174e+00 -2.01526523e+00  8.01051807e+00\n",
      " -9.86863300e-02 -6.27385855e+00  2.13338375e-01 -3.19828510e+00\n",
      " -1.14280415e+00 -3.72606201e+01 -3.05899792e+01 -2.57595959e+01\n",
      " -4.39901495e+00 -2.28063126e+01 -7.55282354e+00 -5.91318321e+00\n",
      " -6.99346447e+00 -4.99855661e+00  7.24821508e-01 -1.93822823e+01\n",
      " -4.45952339e+01 -2.75466228e+00 -2.17957649e+01 -1.88782501e+01\n",
      " -1.33213844e+01 -1.15821724e+01 -3.14986458e+01  3.20244461e-01\n",
      " -3.22938499e+01 -7.50950050e+00 -2.23783817e+01 -2.89343071e+01\n",
      "  1.25447392e+00 -5.93241024e+00 -2.10264416e+01  5.23807764e+00\n",
      " -9.41838360e+00  2.46705103e+00 -3.03925362e+01 -1.71103840e+01\n",
      " -1.04981213e+01 -1.69431381e+01 -7.27701759e+00 -3.76976466e+00\n",
      "  4.11683750e+00 -6.07693481e+00  8.18300664e-01 -2.51363111e+00\n",
      " -2.18422437e+00 -2.32169018e+01 -9.89067841e+00  3.34854037e-01\n",
      " -1.85438671e+01 -2.23822045e+00 -1.23058596e+01  3.39092588e+00\n",
      " -3.48346214e+01  5.84908426e-01  8.60402775e+00  6.46600866e+00\n",
      " -2.90303516e+01  7.09005892e-01 -1.78176597e-01  1.29717104e-02\n",
      "  5.76588678e+00 -2.14096546e+00 -1.55427990e+01 -2.42791023e+01\n",
      " -1.68538356e+00 -9.72823906e+00  1.08286705e+01  1.22176349e+00\n",
      "  5.33795166e+00 -1.05419006e+01 -2.54406013e+01 -8.15680313e+00\n",
      " -3.60482597e+01 -3.06882992e+01  4.08318615e+00 -1.48655787e+01\n",
      " -2.37286224e+01 -4.99926710e+00 -6.03660488e+00  1.79487133e+00\n",
      "  1.15076542e+01  3.88126183e+00 -2.75222468e+00 -2.99045486e+01\n",
      " -1.58073444e+01 -8.66174316e+00 -3.92311645e+00  7.64945447e-01\n",
      "  1.00691614e+01  3.07322598e+00 -1.14245772e+00 -2.36878033e+01\n",
      "  6.67242622e+00 -1.91357098e+01 -1.11972952e+01 -3.54517913e+00\n",
      " -9.55125093e-01  1.32312355e+01 -3.04274254e+01 -9.16533661e+00\n",
      " -2.55852757e+01 -8.57750797e+00]' has dtype incompatible with int64, please explicitly cast to a compatible dtype first.\n",
      "  preds[val_index] = model.predict(dval_i)\n"
     ]
    },
    {
     "name": "stderr",
     "output_type": "stream",
     "text": [
      "\r",
      " 90%|███████████████████████████████████████████████████████████████████████████████████████████████████████████████████████████████████████████████████████████████████████████████████████████████████████▊                      | 9/10 [02:58<00:20, 20.29s/it]"
     ]
    },
    {
     "name": "stderr",
     "output_type": "stream",
     "text": [
      "C:\\Users\\81809\\AppData\\Local\\Temp\\ipykernel_27864\\3386215446.py:18: FutureWarning: Setting an item of incompatible dtype is deprecated and will raise an error in a future version of pandas. Value '[ 4.00857306e+00 -5.94887400e+00  2.13800716e+01  2.14608312e+00\n",
      "  4.50175047e+00 -5.12678337e+00  4.60226917e+00  2.92335892e+00\n",
      " -8.12458420e+00  1.11047447e+00 -3.29424834e+00  1.82263317e+01\n",
      "  2.71699944e+01 -2.34099913e+00  2.04121990e+01  1.86999357e+00\n",
      "  8.56080723e+00  2.48676610e+00  1.79197490e+00  2.37223935e+00\n",
      " -1.25085115e+00  1.15018129e+00 -2.26579770e-01  5.11424065e+00\n",
      "  4.68447828e+00  9.83784580e+00 -1.71418428e-01  1.00762072e+01\n",
      "  2.63056588e+00  2.15425148e+01 -2.86262703e+00 -3.55217981e+00\n",
      "  5.16427469e+00  2.24704575e-02  3.28338528e+00 -1.00803161e+00\n",
      " -3.83862615e+00  8.19769669e+00  1.06591485e-01  5.92210770e-01\n",
      "  1.86945477e+01 -5.13031006e+00  2.58824897e+00 -8.09425259e+00\n",
      " -1.25298440e+00 -1.11316271e+01  1.67879047e+01  1.42728539e+01\n",
      "  5.22637367e+00  1.12175179e+00 -2.38578415e+00  6.41701174e+00\n",
      " -4.11254406e+00  4.63099957e+00  1.35126722e+00 -1.44416010e+00\n",
      "  8.83860648e-01 -4.01781750e+00  9.79527950e+00  2.43869934e+01\n",
      "  1.44607763e+01  5.22441244e+00  5.90621901e+00  1.50706911e+01\n",
      " -3.23701239e+00  3.43602586e+00 -4.15851784e+00 -2.38659525e+00\n",
      "  4.09165764e+00  5.16789818e+00 -5.26278257e-01  1.79398994e+01\n",
      "  7.91570282e+00  4.57777071e+00 -2.27867079e+00  3.65325594e+00\n",
      " -1.57004941e+00  5.59509754e+00  2.43841820e+01  2.30956268e+00\n",
      " -3.65630245e+00 -2.96516466e+00  2.40145206e+00  4.15125751e+00\n",
      "  2.57792354e+00  1.04494071e+00  1.28107500e+01  2.61925564e+01\n",
      "  6.84638691e+00  1.45641689e+01 -1.18202581e+01  1.70130312e+00\n",
      "  2.31249142e+01  4.15038872e+00  4.38301897e+00  1.24761057e+01\n",
      " -8.91275346e-01  6.27970791e+00  5.59546804e+00  1.47144222e+00\n",
      "  1.55351715e+01  8.89472294e+00  1.46730890e+01  2.56758070e+00\n",
      "  1.26900349e+01 -1.14594040e+01 -7.22033787e+00  9.90592575e+00\n",
      "  8.62851715e+00  1.65818071e+00  3.73445988e+00 -2.44692707e+00\n",
      "  4.99728489e+00  7.46705532e-02  1.91335716e+01  4.84625912e+00\n",
      "  2.02494774e+01  4.77587605e+00  2.47639370e+00 -1.52709904e+01\n",
      "  6.18802834e+00 -1.92647970e+00 -1.89593470e+00 -5.98429298e+00\n",
      "  3.11938405e+00  2.54610043e+01  4.01628256e+00  4.71419764e+00\n",
      " -5.93217564e+00  1.36236191e+01  3.20123816e+00 -1.12697613e+00\n",
      " -7.23498106e-01  3.94238186e+00  9.86482334e+00  2.31312919e+00\n",
      "  7.18877125e+00 -1.76448643e+00  1.49253092e+01 -2.08336543e-02\n",
      "  1.59484947e+00 -5.98054349e-01  2.99261999e+00 -3.02465987e+00\n",
      " -5.62440395e+00  9.31368947e-01  9.44400847e-01  1.33732235e+00\n",
      "  2.24940987e+01  1.43476887e+01  3.15397835e+00  2.68929219e+00\n",
      " -9.49526215e+00  2.12555103e+01  3.49725676e+00  3.84851718e+00\n",
      " -5.11820602e+00  1.37749851e+00  2.90451026e+00  5.19239807e+00\n",
      " -8.81739712e+00  1.44069290e+01 -5.28478813e+00  8.35319233e+00\n",
      "  2.98619194e+01 -3.47589278e+00  4.39863253e+00  3.94751954e+00\n",
      "  1.60903013e+00 -5.01721287e+00  4.20461464e+00  6.84851360e+00\n",
      " -4.00029898e+00 -4.52776194e+00  5.13412809e+00  2.01099472e+01\n",
      " -4.83730030e+00 -3.67754608e-01  1.96826210e+01  3.07954764e+00\n",
      " -4.04974031e+00  1.11773491e+01  4.01690197e+00  5.87920094e+00\n",
      "  6.16879654e+00  1.62281930e-01  2.83654118e+00 -3.19844913e+00\n",
      "  7.39401340e+00 -7.07908440e+00 -6.86354578e-01  5.32165051e+00\n",
      " -4.53173101e-01  3.67172337e+00 -5.04761003e-02  1.00858088e+01\n",
      "  1.98566475e+01  3.19895935e+00  2.37785206e+01 -2.58035207e+00\n",
      "  2.14203402e-01 -9.14802477e-02  4.62807655e+00 -1.29228961e+00\n",
      "  3.93923450e+00  1.25000029e+01  5.61066771e+00  1.05651493e+01\n",
      "  2.14341125e+01  6.23065174e-01  3.32763982e+00 -1.32303074e-01\n",
      "  6.18766129e-01  1.56237850e+01  5.09407949e+00  4.38599300e+00\n",
      "  5.14949083e+00  3.65945101e+00 -3.01890731e-01  4.23002958e+00\n",
      "  3.50445366e+00  1.99504220e+00  2.05070305e+01  1.09142494e+01\n",
      "  2.63016963e+00  1.40261841e+01  3.86670542e+00  2.51174831e+01\n",
      " -1.29837275e+00  4.10391569e-01  7.02171659e+00  1.06771364e+01\n",
      " -1.13100863e+01 -1.05239975e+00  1.18104906e+01  6.85989332e+00\n",
      "  3.21590004e+01  2.75745525e+01  5.65361929e+00  1.86630650e+01\n",
      "  2.67119846e+01  1.27967720e+01  7.67440319e+00 -1.75911105e+00\n",
      " -7.96752262e+00 -8.79779625e+00 -7.54482651e+00  2.56457787e+01\n",
      " -2.50439525e+00  4.97490549e+00  4.09584618e+01  8.03616238e+00\n",
      "  2.62339973e+00  1.97400570e+01  1.25345783e+01 -9.38083470e-01\n",
      " -3.14099622e+00 -1.44797630e+01  1.39822578e+01  1.60005264e+01\n",
      "  1.33337116e+01  6.71612883e+00  1.00343685e+01  3.51591339e+01\n",
      " -8.06332302e+00  2.23494434e+01 -2.39612713e+01  7.93604565e+00\n",
      "  9.82275963e+00  3.02260208e+01  1.85459232e+01  2.89208317e+01\n",
      "  1.22684155e+01  2.53379135e+01  4.53078127e+00  8.22221851e+00\n",
      "  1.32447100e+01  3.38646545e+01  3.41235390e+01  4.32791337e-02\n",
      "  1.01169310e+01  7.91683674e+00 -1.34754920e+00  1.59359303e+01\n",
      "  1.78169060e+01  8.71880531e+00  3.46279640e+01  8.19021702e+00\n",
      " -4.95990086e+00  3.45156819e-01  8.57038081e-01 -3.49324632e+00\n",
      "  9.48182106e+00  1.67136917e+01  7.37002993e+00 -8.73219585e+00\n",
      "  1.93915195e+01  7.91167784e+00  6.29708004e+00  2.45005913e+01\n",
      "  1.00462017e+01  3.15574894e+01  3.04138680e+01  2.24694774e-01\n",
      "  3.68543243e+01 -9.60804045e-01  1.26358480e+01  1.68966961e+01\n",
      "  2.61921005e+01  2.99310589e+01 -2.37340012e+01  3.88279152e+01\n",
      "  7.44203520e+00  4.08734035e+00  2.36674862e+01 -1.66812003e-01\n",
      "  1.90867634e+01  1.66969471e+01  1.71093261e+00  3.52482581e+00\n",
      "  1.49243374e+01 -1.67556400e+01  1.52603111e+01  5.47821856e+00\n",
      " -1.63666649e+01 -5.40085077e+00 -4.97607660e+00 -1.91600075e+01\n",
      "  3.22584987e+00 -2.22242680e+01 -2.24014139e+00 -7.62949085e+00\n",
      " -6.93185949e+00 -7.41065884e+00 -7.06302738e+00 -4.96271849e+00\n",
      "  1.76829755e-01 -1.08350933e+00 -2.17625141e+01 -2.40745983e+01\n",
      " -3.71607804e+00 -4.45125490e-01 -4.75634480e+00 -5.10882092e+00\n",
      " -4.69042730e+00  1.06594772e+01 -6.82442045e+00 -1.15779507e+00\n",
      "  1.63749528e+00 -8.16355038e+00 -1.38472872e+01  4.47537756e+00\n",
      " -1.20943699e+01 -1.41445189e+01 -6.68579340e-01 -7.55641842e+00\n",
      " -1.78791542e+01  6.36915350e+00  4.07886648e+00 -4.18581533e+00\n",
      " -3.47759604e+00  4.83058023e+00 -6.91312933e+00 -1.03341360e+01\n",
      " -5.27080822e+00 -8.64587688e+00 -7.36320019e-01 -1.05989542e+01\n",
      "  6.86521006e+00 -2.05265446e+01  2.13587117e+00 -5.79345465e+00\n",
      " -1.66034279e+01 -2.41813545e+01 -9.13642120e+00 -7.77330542e+00\n",
      " -4.49397898e+00  2.48798418e+00  1.77050364e+00 -2.70179882e+01\n",
      "  1.86038888e+00 -2.54420204e+01  8.60336483e-01 -2.54720287e+01\n",
      " -1.95813990e+00 -5.77048874e+00 -1.13735399e+01 -7.19872046e+00\n",
      " -7.58261490e+00 -1.73202980e+00 -3.75561786e+00 -7.82915354e+00\n",
      " -4.76020336e+00 -2.31573558e+00 -8.26557636e+00 -7.89205694e+00\n",
      " -1.25219946e+01 -1.55760460e+01  3.89092731e+00 -4.83324718e+00\n",
      " -2.17625976e+00 -4.44492054e+00 -5.48827124e+00  1.69934586e-01\n",
      "  9.67760801e-01 -1.95695724e+01 -5.94810307e-01 -1.16633272e+01\n",
      " -8.32491684e+00  7.28084862e-01 -3.76161313e+00 -1.02014284e+01\n",
      "  4.77249336e+00  3.01283455e+00 -6.69019556e+00 -1.24598956e+00\n",
      " -2.58231316e+01  3.01904726e+00 -2.05359840e+01  2.96229911e+00\n",
      " -2.80137119e+01 -8.88659191e+00 -1.60908184e+01 -6.14004135e+00\n",
      " -1.81756802e+01 -2.34936261e+00  2.53673673e+00 -5.38268042e+00\n",
      "  2.82862186e+00 -1.57321560e+00 -2.02209902e+00 -7.22351909e-01\n",
      " -1.19860029e+00 -1.00720024e+00  6.18129826e+00 -5.18739557e+00\n",
      " -1.05825319e+01 -7.05024815e+00  6.15971375e+00  2.80020189e+00\n",
      " -6.50683546e+00 -6.15532923e+00 -4.69306278e+00  1.92959099e+01\n",
      "  1.69564712e+00 -1.44821608e+00 -1.23738937e+01 -4.45645475e+00\n",
      "  4.32024145e+00 -3.59395003e+00 -1.01908169e+01 -5.36190891e+00\n",
      "  3.48547983e+00 -2.21388950e+01 -7.25540829e+00 -1.24532795e+01\n",
      " -5.39551210e+00 -3.87604046e+00 -2.26250668e+01  1.81512654e-01\n",
      " -8.92783070e+00 -8.75089359e+00 -6.01301241e+00  1.55509627e+00\n",
      " -1.19207182e+01 -1.98283285e-01 -6.57435989e+00 -3.27252579e+00\n",
      "  1.79550159e+00  2.46159363e+00  5.71899557e+00 -4.44598675e+00\n",
      " -6.70357037e+00 -1.75247726e+01 -1.51984143e+00 -2.53298068e+00\n",
      " -1.86411631e+00  7.74024248e+00  2.13829994e+00  5.92066288e+00\n",
      "  2.33035278e+00 -2.46184969e+00  1.11665401e+01 -8.84676218e-01\n",
      " -6.28839970e-01 -4.14170361e+00  4.97199327e-01 -3.18319988e+00\n",
      " -4.15897226e+00 -3.70243716e+00 -2.67825723e+00  2.92248726e-01\n",
      " -8.61837864e+00 -1.61536324e+00 -6.61807156e+00  2.19768214e+00\n",
      " -3.82373548e+00  1.94529212e+00 -2.42593880e+01 -7.75610030e-01\n",
      "  3.27241182e+00 -5.64353085e+00 -9.53765392e+00 -3.62577415e+00\n",
      " -4.68389177e+00  1.20877288e-01 -5.16784954e+00  9.17039096e-01\n",
      " -6.65047264e+00  2.40947032e+00  3.99364066e+00 -2.03726368e+01\n",
      " -1.04156027e+01 -2.81318665e+01 -4.03453827e-01 -4.88428783e+00\n",
      " -3.12918377e+00 -2.41910648e+01 -8.18708801e+00 -8.48368168e+00\n",
      " -1.98798122e+01  7.02000237e+00  8.16672039e+00  4.19218242e-02\n",
      " -2.54597276e-01  5.94410849e+00 -1.18035192e+01  2.45426464e+00\n",
      " -1.89285290e+00 -9.89123917e+00 -1.04462461e+01 -5.44013858e-01\n",
      " -2.31784172e+01 -2.11004009e+01 -1.75104065e+01 -5.30764723e+00\n",
      " -4.49905348e+00  5.56829453e+00 -1.25913877e+01 -1.92510033e+01\n",
      " -3.18801327e+01 -2.66569633e+01 -7.13527727e+00 -3.78172398e+00\n",
      "  4.40660906e+00 -7.18112803e+00 -2.20114632e+01  7.52396822e+00\n",
      " -2.91283035e+01  2.44648635e-01 -2.50643959e+01 -4.35758209e+00\n",
      " -3.85979042e+01 -1.24379396e+01  4.97118044e+00 -4.10458450e+01\n",
      "  2.24381852e+00  5.71812272e-01 -3.64538360e+00 -2.37495842e+01\n",
      " -3.45715022e+00 -2.64380341e+01  7.82734442e+00 -2.90356102e+01\n",
      " -4.03855085e+00 -2.71014524e+00 -3.40112839e+01 -2.52192974e+01\n",
      " -5.24207020e+00  3.10714126e-01 -9.55420780e+00 -6.73902273e+00\n",
      " -2.07999020e+01  5.90242052e+00 -7.53014278e+00  2.24937367e+00\n",
      " -1.37311354e+01 -1.00436318e+00 -1.48976612e+00  2.45358610e+00\n",
      "  1.51651824e+00 -2.55665255e+00 -1.57091379e+01  1.01058364e+00\n",
      " -2.67387795e+00 -1.18967562e+01 -1.65488358e+01 -1.13778963e+01\n",
      "  6.98088264e+00 -7.78541327e+00 -2.63388004e+01  8.60219669e+00\n",
      " -7.42877007e+00 -1.23819923e+01  2.76495266e+00 -1.12627840e+01\n",
      " -1.35319281e+01 -3.74370270e+01 -8.64195538e+00 -2.35948200e+01\n",
      " -1.40477018e+01 -1.38079262e+00 -1.78306162e+00  4.52247953e+00\n",
      " -2.97339764e+01 -1.30338936e+01 -6.77472019e+00 -2.69838047e+01\n",
      " -5.13372154e+01  3.80928373e+00  1.02496886e+00 -1.98755188e+01\n",
      " -1.35939932e+00 -9.63395596e+00 -3.57445946e+01 -3.59101653e+00\n",
      "  1.71095219e+01  6.76175785e+00 -1.16622105e+01 -1.06854229e+01\n",
      " -2.99878521e+01 -2.77419300e+01  5.46273994e+00 -1.08644409e+01\n",
      "  2.02797389e+00  7.42147923e+00 -1.98764782e+01 -6.73653889e+00\n",
      "  7.68759072e-01 -8.53064060e+00 -2.66294460e+01 -2.91867046e+01\n",
      " -9.52269077e+00  6.20836067e+00  3.10315418e+00 -9.71962166e+00\n",
      "  1.91767371e+00 -9.40041447e+00 -2.25883980e+01 -1.50156431e+01\n",
      " -1.20233116e+01 -1.92881644e+00 -2.64700108e+01 -2.72502995e+01\n",
      " -2.09904060e+01 -6.08970761e-01]' has dtype incompatible with int64, please explicitly cast to a compatible dtype first.\n",
      "  preds[val_index] = model.predict(dval_i)\n"
     ]
    },
    {
     "name": "stderr",
     "output_type": "stream",
     "text": [
      "\r",
      "100%|█████████████████████████████████████████████████████████████████████████████████████████████████████████████████████████████████████████████████████████████████████████████████████████████████████████████████████████████| 10/10 [03:22<00:00, 21.23s/it]"
     ]
    },
    {
     "name": "stderr",
     "output_type": "stream",
     "text": [
      "\r",
      "100%|█████████████████████████████████████████████████████████████████████████████████████████████████████████████████████████████████████████████████████████████████████████████████████████████████████████████████████████████| 10/10 [03:22<00:00, 20.23s/it]"
     ]
    },
    {
     "name": "stdout",
     "output_type": "stream",
     "text": [
      "OOF predictions complete\n"
     ]
    },
    {
     "name": "stderr",
     "output_type": "stream",
     "text": [
      "\n"
     ]
    }
   ],
   "source": [
    "# OOF予測\n",
    "oof_preds = []\n",
    "for i in tqdm(range(repeat_cv), leave=True, dynamic_ncols=True):\n",
    "    # 初期はターゲットの値で初期化（後で上書き）\n",
    "    preds = y.copy()\n",
    "    # 各 repeater 毎に独自の KFold を用いる（random_state = i）\n",
    "    kfold = KFold(n_splits=folds_splits, shuffle=True, random_state=i)    \n",
    "    for train_index, val_index in kfold.split(X, y):\n",
    "        dtrain_i = xgb.DMatrix(X.iloc[train_index], label=y.iloc[train_index])\n",
    "        dval_i   = xgb.DMatrix(X.iloc[val_index], label=y.iloc[val_index])\n",
    "\n",
    "        model = xgb.train(\n",
    "            params=param,\n",
    "            dtrain=dtrain_i,\n",
    "            num_boost_round=iteration_counts[i],\n",
    "            verbose_eval=50\n",
    "        )\n",
    "        preds[val_index] = model.predict(dval_i)\n",
    "    # 予測値を -30 ～ 30 にクリップ\n",
    "    oof_preds.append(np.clip(preds, -30, 30))\n",
    "\n",
    "print(\"OOF predictions complete\")"
   ]
  },
  {
   "cell_type": "code",
   "execution_count": 24,
   "id": "e6edcd0d",
   "metadata": {
    "execution": {
     "iopub.execute_input": "2025-03-18T19:13:37.066834Z",
     "iopub.status.busy": "2025-03-18T19:13:37.065835Z",
     "iopub.status.idle": "2025-03-18T19:13:37.179357Z",
     "shell.execute_reply": "2025-03-18T19:13:37.179357Z"
    },
    "papermill": {
     "duration": 0.141634,
     "end_time": "2025-03-18T19:13:37.179357",
     "exception": false,
     "start_time": "2025-03-18T19:13:37.037723",
     "status": "completed"
    },
    "tags": []
   },
   "outputs": [
    {
     "data": {
      "text/plain": [
       "<Axes: >"
      ]
     },
     "execution_count": 24,
     "metadata": {},
     "output_type": "execute_result"
    },
    {
     "data": {
      "image/png": "[encoded data removed]",
      "text/plain": [
       "<Figure size 640x480 with 1 Axes>"
      ]
     },
     "metadata": {},
     "output_type": "display_data"
    }
   ],
   "source": [
    "oof_preds[0].hist()"
   ]
  },
  {
   "cell_type": "code",
   "execution_count": 25,
   "id": "72e2e562",
   "metadata": {
    "execution": {
     "iopub.execute_input": "2025-03-18T19:13:37.215918Z",
     "iopub.status.busy": "2025-03-18T19:13:37.214910Z",
     "iopub.status.idle": "2025-03-18T19:13:37.241185Z",
     "shell.execute_reply": "2025-03-18T19:13:37.241185Z"
    },
    "papermill": {
     "duration": 0.054389,
     "end_time": "2025-03-18T19:13:37.241185",
     "exception": false,
     "start_time": "2025-03-18T19:13:37.186796",
     "status": "completed"
    },
    "tags": []
   },
   "outputs": [],
   "source": [
    "### simple spline, seed(1, 16)~(4, 13)は強制的にfiltaring,  \n",
    "### seed値に対応して予測スコアも同じ大小関係なら1or0に変換の3モデル\n",
    "def cal_logloss(pred_vals, y, i):\n",
    "    y_binary = np.where(y > 0, 1, 0)\n",
    "    loss = log_loss(y_binary, pred_vals)\n",
    "    print(f\"logloss of cvsplit {i}: {loss:.4f}\")\n",
    "\n",
    "\n",
    "    results.append(f\"Normal Spline - logloss of cvsplit {i}: {loss:.4f}\")\n",
    "    return loss\n",
    "\n",
    "#simple spline\n",
    "def make_normal_spline(df, y, repeat_cv):\n",
    "    spline_model1 = []\n",
    "    logloss_normal = []\n",
    "    \n",
    "    for i in range(repeat_cv):\n",
    "        dat = list(zip(df[i], np.where(y>0, 1, 0)))\n",
    "        dat = sorted(dat, key=lambda x:x[0])\n",
    "        datdict = {}\n",
    "        for k in range(len(dat)):\n",
    "            datdict[dat[k][0]] = dat[k][1]\n",
    "        \n",
    "        spline_model1.append(UnivariateSpline(list(datdict.keys()), list(datdict.values())))\n",
    "        spline_fit = spline_model1[i](df[i])\n",
    "        \n",
    "        loss = cal_logloss(spline_fit, y, i)    \n",
    "        logloss_normal.append(loss)\n",
    "\n",
    "    plot_df = pd.DataFrame({\n",
    "        \"pred\": df[0],\n",
    "        \"label\": np.where(y>0,1,0),\n",
    "        \"spline\": spline_model1[0](df[0])\n",
    "    })\n",
    "    plot_df[\"pred_int\"] = plot_df[\"pred\"].astype(int)\n",
    "    plot_df = plot_df.groupby('pred_int')[['spline','label']].mean().reset_index()\n",
    "    \n",
    "    plt.figure(figsize=(8, 5))\n",
    "    plt.plot(plot_df.pred_int, plot_df.label, marker='o', linestyle='-', label=\"True Label\")\n",
    "    plt.plot(plot_df.pred_int, plot_df.spline, marker='x', linestyle='--', label=\"Spline Approximation\")\n",
    "    plt.xlabel(\"Predicted Value (Integer)\")\n",
    "    plt.ylabel(\"Mean Value\")\n",
    "    plt.title(\"Normal Spline Fit Comparison\")\n",
    "    plt.legend()\n",
    "    plt.grid(True)\n",
    "    plt.savefig(os.path.join(OUTPUT_PATH, f\"normal_spline_fit_{PREDICT_YEAR}.png\"))\n",
    "    plt.close()\n",
    "    \n",
    "    \n",
    "    # 例として平均loglossもresultsに記録\n",
    "    avg_logloss = np.mean(logloss_normal) \n",
    "    results.append(f\"Average Normal Spline logloss: {avg_logloss:.4f}\" if avg_logloss is not None else \"No logloss computed\")\n",
    "    \n",
    "    return spline_model1\n",
    "            \n",
    "            \n",
    "#seed(1, 16)~(4, 13)は強制的にseed通りの結果にフィルタリング\n",
    "def make_seed1to4_chenge(df, y, repeat_cv):\n",
    "    spline_model2 = []\n",
    "    spline_fits = []\n",
    "    for i in range(repeat_cv):\n",
    "        dat = list(zip(df[i], np.where(y>0, 1, 0)))\n",
    "        dat = sorted(dat, key=lambda x:x[0])\n",
    "        datdict = {}\n",
    "        for k in range(len(dat)):\n",
    "            datdict[dat[k][0]] = dat[k][1]\n",
    "        \n",
    "        spline_model2.append(UnivariateSpline(list(datdict.keys()), list(datdict.values())))\n",
    "        spline_fit = spline_model2[i](df[i]) \n",
    "        \n",
    "        #add\n",
    "        spline_fit[(X.T1_seed==1) & (X.T2_seed==16)] = 1.0\n",
    "        spline_fit[(X.T1_seed==2) & (X.T2_seed==15)] = 0.9\n",
    "        spline_fit[(X.T1_seed==3) & (X.T2_seed==14)] = 0.8\n",
    "        spline_fit[(X.T1_seed==4) & (X.T2_seed==13)] = 0.7\n",
    "        spline_fit[(X.T1_seed==16) & (X.T2_seed==1)] = 0.0\n",
    "        spline_fit[(X.T1_seed==15) & (X.T2_seed==2)] = 0.1\n",
    "        spline_fit[(X.T1_seed==14) & (X.T2_seed==3)] = 0.2\n",
    "        spline_fit[(X.T1_seed==13) & (X.T2_seed==4)] = 0.3\n",
    "\n",
    "    \n",
    "        cal_logloss(spline_fit, y, i)   \n",
    "                \n",
    "        spline_fits.append(spline_fit)\n",
    "        cal_logloss(spline_fit, y, i)   \n",
    "                \n",
    "    \n",
    "    plot_df = pd.DataFrame({\n",
    "        \"pred\": df[0],\n",
    "        \"label\": np.where(y > 0, 1, 0),\n",
    "        \"spline\": spline_fits[0]  # 変更後の値を利用\n",
    "    })\n",
    "    plot_df[\"pred_int\"] = plot_df[\"pred\"].astype(int)\n",
    "    plot_df = plot_df.groupby(\"pred_int\")[[\"spline\", \"label\"]].mean().reset_index()\n",
    "\n",
    "    plt.figure()\n",
    "    plt.plot(plot_df.pred_int, plot_df.label, label=\"label\")\n",
    "    plt.plot(plot_df.pred_int, plot_df.spline, label=\"spline\")\n",
    "    plt.legend()\n",
    "    plt.show()\n",
    "    \n",
    "    return spline_model2\n",
    "    \n",
    "    \n",
    "#完全に値変換するのではなくてseed値に対応して予測スコアも同じ大小関係なら1or0に変換\n",
    "def make_seed1to4_base_on_score(df, y, repeat_cv):\n",
    "    spline_model3 = []\n",
    "    spline_fits = []\n",
    "\n",
    "    for i in range(repeat_cv):\n",
    "        dat = list(zip(df[i], np.where(y>0, 1, 0)))\n",
    "        dat = sorted(dat, key=lambda x:x[0])\n",
    "        datdict = {}\n",
    "        for k in range(len(dat)):\n",
    "            datdict[dat[k][0]] = dat[k][1]\n",
    "        \n",
    "        spline_model3.append(UnivariateSpline(list(datdict.keys()), list(datdict.values())))\n",
    "        spline_fit = spline_model3[i](df[i]) \n",
    "        \n",
    "        #add\n",
    "        spline_fit[(X.T1_seed==1) & (X.T2_seed==16) & (X.T1_Score > X.T2_Score)] = 1.0\n",
    "        spline_fit[(X.T1_seed==2) & (X.T2_seed==15) & (X.T1_Score > X.T2_Score)] = 1.0\n",
    "        spline_fit[(X.T1_seed==3) & (X.T2_seed==14) & (X.T1_Score > X.T2_Score)] = 1.0\n",
    "        spline_fit[(X.T1_seed==4) & (X.T2_seed==13) & (X.T1_Score > X.T2_Score)] = 1.0\n",
    "        spline_fit[(X.T1_seed==16) & (X.T2_seed==1) & (X.T1_Score < X.T2_Score)] = 0.0\n",
    "        spline_fit[(X.T1_seed==15) & (X.T2_seed==2) & (X.T1_Score < X.T2_Score)] = 0.0\n",
    "        spline_fit[(X.T1_seed==14) & (X.T2_seed==3) & (X.T1_Score < X.T2_Score)] = 0.0\n",
    "        spline_fit[(X.T1_seed==13) & (X.T2_seed==4) & (X.T1_Score < X.T2_Score)] = 0.0\n",
    "\n",
    "        spline_fits.append(spline_fit)\n",
    "        cal_logloss(spline_fit, y, i)   \n",
    "    \n",
    "    \n",
    "    plot_df = pd.DataFrame({\n",
    "        \"pred\": df[0],\n",
    "        \"label\": np.where(y > 0, 1, 0),\n",
    "        \"spline\": spline_fits[0]  # 変更後の値を利用\n",
    "    })\n",
    "    plot_df[\"pred_int\"] = plot_df[\"pred\"].astype(int)\n",
    "    plot_df = plot_df.groupby(\"pred_int\")[[\"spline\", \"label\"]].mean().reset_index()\n",
    "\n",
    "    plt.figure()\n",
    "    plt.plot(plot_df.pred_int, plot_df.label, label=\"label\")\n",
    "    plt.plot(plot_df.pred_int, plot_df.spline, label=\"spline\")\n",
    "    plt.legend()\n",
    "    plt.show()\n",
    "    return spline_model3\n",
    "\n",
    "\n",
    "\n",
    "# Platt Scalingを用いた補正曲線生成の関数 (ロジスティック回帰)\n",
    "def make_platt_scaling(df, y, repeat_cv):\n",
    "    platt_models = []\n",
    "    logloss_platt = []\n",
    "    \n",
    "    for i in range(repeat_cv):\n",
    "        X_train = np.array(df[i]).reshape(-1, 1)\n",
    "        y_binary = np.where(y > 0, 1, 0)\n",
    "        \n",
    "        model = LogisticRegression(random_state=42, solver='lbfgs')\n",
    "        model.fit(X_train, y_binary)\n",
    "        platt_models.append(model)\n",
    "        \n",
    "\n",
    "        platt_fit = model.predict_proba(X_train)[:, 1]\n",
    "        loss = cal_logloss(platt_fit, y, i)\n",
    "        logloss_platt.append(loss)\n",
    "    \n",
    "    \n",
    "    ###\n",
    "    plot_df = pd.DataFrame({\n",
    "        \"pred\": df[0],\n",
    "        \"label\": np.where(y > 0, 1, 0),\n",
    "        \"platt\": platt_models[0].predict_proba(np.array(df[0]).reshape(-1, 1))[:, 1]\n",
    "    })\n",
    "    plot_df[\"pred_int\"] = plot_df[\"pred\"].astype(int)\n",
    "    plot_df = plot_df.groupby(\"pred_int\")[[\"platt\", \"label\"]].mean().reset_index()\n",
    "    \n",
    "    plt.figure(figsize=(8, 5))\n",
    "    plt.plot(plot_df.pred_int, plot_df.label, marker='o', linestyle='-', label=\"True Label\")\n",
    "    plt.plot(plot_df.pred_int, plot_df.platt, marker='x', linestyle='--', label=\"Platt Scaling\")\n",
    "    plt.xlabel(\"Predicted Value (Integer)\")\n",
    "    plt.ylabel(\"Mean Value\")\n",
    "    plt.title(\"Platt Scaling Calibration Curve\")\n",
    "    plt.legend()\n",
    "    plt.grid(True)\n",
    "    plt.savefig(os.path.join(OUTPUT_PATH, f\"platt_scaling_fit_{PREDICT_YEAR}.png\"))\n",
    "    plt.close()\n",
    "    \n",
    "    avg_logloss = np.mean(logloss_platt)\n",
    "    results.append(f\"Average Platt Scaling logloss: {avg_logloss:.4f}\" if avg_logloss is not None else \"No logloss computed\")\n",
    "    \n",
    "    return platt_models\n",
    "\n",
    "def make_isotonic_regression(df, y, repeat_cv):\n",
    "    \"\"\" Isotonic Regression を用いた補正曲線生成 \"\"\"\n",
    "    isotonic_models = []\n",
    "    logloss_isotonic = []\n",
    "    \n",
    "    for i in range(repeat_cv):\n",
    "        X_train = np.array(df[i]).reshape(-1, 1)\n",
    "        y_binary = np.where(y > 0, 1, 0)\n",
    "        \n",
    "        model = IsotonicRegression(out_of_bounds=\"clip\")\n",
    "        model.fit(X_train.ravel(), y_binary)\n",
    "        isotonic_models.append(model)\n",
    "        \n",
    "        isotonic_fit = model.predict(X_train.ravel())\n",
    "        loss = cal_logloss(isotonic_fit, y, i)\n",
    "        logloss_isotonic.append(loss)\n",
    "    \n",
    "    plot_df = pd.DataFrame({\n",
    "        \"pred\": df[0],\n",
    "        \"label\": np.where(y > 0, 1, 0),\n",
    "        \"isotonic\": isotonic_models[0].predict(np.array(df[0]).reshape(-1, 1))\n",
    "    })\n",
    "    plot_df[\"pred_int\"] = plot_df[\"pred\"].astype(int)\n",
    "    plot_df = plot_df.groupby(\"pred_int\")[[\"isotonic\", \"label\"]].mean().reset_index()\n",
    "    \n",
    "    plt.figure(figsize=(8, 5))\n",
    "    plt.plot(plot_df.pred_int, plot_df.label, marker='o', linestyle='-', label=\"True Label\")\n",
    "    plt.plot(plot_df.pred_int, plot_df.isotonic, marker='x', linestyle='--', label=\"Isotonic Regression\")\n",
    "    plt.xlabel(\"Predicted Value (Integer)\")\n",
    "    plt.ylabel(\"Mean Value\")\n",
    "    plt.title(\"Isotonic Regression Calibration Curve\")\n",
    "    plt.legend()\n",
    "    plt.grid(True)\n",
    "    plt.savefig(os.path.join(OUTPUT_PATH, f\"isotonic_regression_fit_{PREDICT_YEAR}.png\"))\n",
    "    plt.close()\n",
    "    \n",
    "    avg_logloss = np.mean(logloss_isotonic)\n",
    "    results.append(f\"Average Isotonic Regression logloss: {avg_logloss:.4f}\" if avg_logloss is not None else \"No logloss computed\")\n",
    "    \n",
    "    return isotonic_models\n",
    "\n"
   ]
  },
  {
   "cell_type": "code",
   "execution_count": 26,
   "id": "eaa6c8db",
   "metadata": {
    "execution": {
     "iopub.execute_input": "2025-03-18T19:13:37.280071Z",
     "iopub.status.busy": "2025-03-18T19:13:37.279069Z",
     "iopub.status.idle": "2025-03-18T19:13:37.283939Z",
     "shell.execute_reply": "2025-03-18T19:13:37.283939Z"
    },
    "papermill": {
     "duration": 0.024847,
     "end_time": "2025-03-18T19:13:37.284944",
     "exception": false,
     "start_time": "2025-03-18T19:13:37.260097",
     "status": "completed"
    },
    "tags": []
   },
   "outputs": [],
   "source": [
    "# キャリブレーションカーブの描画関数\n",
    "def plot_calibration_curve(y_true, y_pred_proba, method, save_path):\n",
    "    \"\"\" キャリブレーションカーブをプロットし保存 \"\"\"\n",
    "    y_binary = np.where(y_true > 0, 1, 0) \n",
    "    prob_true, prob_pred = calibration_curve(y_binary, y_pred_proba, n_bins=10)\n",
    "    \n",
    "    plt.figure(figsize=(6,6))\n",
    "    plt.plot(prob_pred, prob_true, marker=\"o\", label=f\"{method} Calibration\")\n",
    "    plt.plot([0, 1], [0, 1], linestyle=\"--\", label=\"Perfect Calibration\")\n",
    "    plt.xlabel(\"Predicted Probability\")\n",
    "    plt.ylabel(\"Actual Probability\")\n",
    "    plt.legend()\n",
    "    plt.title(f\"{method} Calibration Curve\")\n",
    "    plt.grid()\n",
    "    plt.savefig(save_path)\n",
    "    plt.close()\n",
    "\n"
   ]
  },
  {
   "cell_type": "code",
   "execution_count": 27,
   "id": "9b820de7",
   "metadata": {
    "execution": {
     "iopub.execute_input": "2025-03-18T19:13:37.305967Z",
     "iopub.status.busy": "2025-03-18T19:13:37.305967Z",
     "iopub.status.idle": "2025-03-18T19:13:37.513043Z",
     "shell.execute_reply": "2025-03-18T19:13:37.513043Z"
    },
    "papermill": {
     "duration": 0.225245,
     "end_time": "2025-03-18T19:13:37.515189",
     "exception": false,
     "start_time": "2025-03-18T19:13:37.289944",
     "status": "completed"
    },
    "tags": []
   },
   "outputs": [
    {
     "name": "stdout",
     "output_type": "stream",
     "text": [
      "logloss of cvsplit 0: 0.5087\n",
      "logloss of cvsplit 1: 0.5059\n",
      "logloss of cvsplit 2: 0.5053\n",
      "logloss of cvsplit 3: 0.5031\n",
      "logloss of cvsplit 4: 0.5059\n",
      "logloss of cvsplit 5: 0.5046\n",
      "logloss of cvsplit 6: 0.5058\n",
      "logloss of cvsplit 7: 0.5087\n",
      "logloss of cvsplit 8: 0.5060\n",
      "logloss of cvsplit 9: 0.5050\n"
     ]
    }
   ],
   "source": [
    "# キャリブレーション手法の選択\n",
    "spline = MODEL.spline\n",
    "if spline == \"spline_normal\":\n",
    "    spline_model = make_normal_spline(oof_preds, y, repeat_cv)\n",
    "    calibrated_preds = spline_model[0](oof_preds[0])\n",
    "    plot_calibration_curve(y, calibrated_preds, \"Spline Normal\", os.path.join(OUTPUT_PATH, f\"spline_normal_calibration_{PREDICT_YEAR}.png\"))\n",
    "    \n",
    "elif spline == \"logistic\":\n",
    "    spline_model = make_platt_scaling(oof_preds, y, repeat_cv)\n",
    "    calibrated_preds = spline_model[0].predict_proba(np.array(oof_preds[0]).reshape(-1, 1))[:, 1]\n",
    "    plot_calibration_curve(y, calibrated_preds, \"Platt Scaling\", os.path.join(OUTPUT_PATH, f\"platt_scaling_calibration_{PREDICT_YEAR}.png\"))\n",
    "    \n",
    "elif spline == \"isotonic\":\n",
    "    spline_model = make_isotonic_regression(oof_preds, y, repeat_cv)\n",
    "    calibrated_preds = spline_model[0].predict(np.array(oof_preds[0]).reshape(-1, 1))\n",
    "    plot_calibration_curve(y, calibrated_preds, \"Isotonic Regression\", os.path.join(OUTPUT_PATH, f\"isotonic_regression_calibration_{PREDICT_YEAR}.png\"))"
   ]
  },
  {
   "cell_type": "markdown",
   "id": "7f9cc125",
   "metadata": {
    "papermill": {
     "duration": 0.01577,
     "end_time": "2025-03-18T19:13:37.544988",
     "exception": false,
     "start_time": "2025-03-18T19:13:37.529218",
     "status": "completed"
    },
    "tags": []
   },
   "source": [
    "# submmit\n",
    "\n",
    "同じfeature engineeringする.\n",
    "\n",
    "個々の扱うも考える。2025は最終提出用の関数を用意する、その他2024以前は過去コンペでの提出形式に合わせる、でも年度によって提出形式が変わるからとりあえず2023でやる"
   ]
  },
  {
   "cell_type": "code",
   "execution_count": 28,
   "id": "11a938ba",
   "metadata": {
    "execution": {
     "iopub.execute_input": "2025-03-18T19:13:37.562444Z",
     "iopub.status.busy": "2025-03-18T19:13:37.562444Z",
     "iopub.status.idle": "2025-03-18T19:13:37.584237Z",
     "shell.execute_reply": "2025-03-18T19:13:37.583727Z"
    },
    "papermill": {
     "duration": 0.026493,
     "end_time": "2025-03-18T19:13:37.585248",
     "exception": false,
     "start_time": "2025-03-18T19:13:37.558755",
     "status": "completed"
    },
    "tags": []
   },
   "outputs": [
    {
     "data": {
      "text/plain": [
       "'if PREDICT_YEAR==2022:\\n    sub = pd.read_csv(os.path.join(INPUT_PATH, \"SampleSubmission2022M.csv\"))\\n    sub[\\'Season\\'] = sub[\\'ID\\'].apply(lambda x: int(x.split(\\'_\\')[0]))\\n    sub[\"T1_TeamID\"] = sub[\\'ID\\'].apply(lambda x: int(x.split(\\'_\\')[1]))\\n    sub[\"T2_TeamID\"] = sub[\\'ID\\'].apply(lambda x: int(x.split(\\'_\\')[2]))\\n    sub_X, a = process_tourney(sub, mode = \"sub\")\\n    dtest = xgb.DMatrix(sub_X)\\nelif PREDICT_YEAR==2023:\\n    sub = pd.read_csv(os.path.join(INPUT_PATH, \"SampleSubmission2023.csv\"))\\n    sub[\\'Season\\'] = sub[\\'ID\\'].apply(lambda x: int(x.split(\\'_\\')[0]))\\n    sub[\"T1_TeamID\"] = sub[\\'ID\\'].apply(lambda x: int(x.split(\\'_\\')[1]))\\n    sub[\"T2_TeamID\"] = sub[\\'ID\\'].apply(lambda x: int(x.split(\\'_\\')[2]))\\n    sub_X, a = process_tourney(sub, mode = \"sub\")\\n    dtest = xgb.DMatrix(sub_X)\\nelif PREDICT_YEAR==2024:\\n    sub = pd.read_csv(os.path.join(INPUT_PATH, \"SampleSubmission2024.csv\"))\\n    sub[\\'Season\\'] = sub[\\'ID\\'].apply(lambda x: int(x.split(\\'_\\')[0]))\\n    sub[\"T1_TeamID\"] = sub[\\'ID\\'].apply(lambda x: int(x.split(\\'_\\')[1]))\\n    sub[\"T2_TeamID\"] = sub[\\'ID\\'].apply(lambda x: int(x.split(\\'_\\')[2]))\\n    sub_X, a = process_tourney(sub, mode = \"sub\")\\n    dtest = xgb.DMatrix(sub_X)\\nelif PREDICT_YEAR==2025:\\n    sub = pd.read_csv(os.path.join(INPUT_PATH, \"SampleSubmissionStage2.csv\"))\\n    sub[\\'Season\\'] = sub[\\'ID\\'].apply(lambda x: int(x.split(\\'_\\')[0]))\\n    sub[\"T1_TeamID\"] = sub[\\'ID\\'].apply(lambda x: int(x.split(\\'_\\')[1]))\\n    sub[\"T2_TeamID\"] = sub[\\'ID\\'].apply(lambda x: int(x.split(\\'_\\')[2]))   \\n    sub_X, a = process_tourney(sub, mode = \"sub\")\\n    dtest = xgb.DMatrix(sub_X)'"
      ]
     },
     "execution_count": 28,
     "metadata": {},
     "output_type": "execute_result"
    }
   ],
   "source": [
    "\"\"\"if PREDICT_YEAR==2022:\n",
    "    sub = pd.read_csv(os.path.join(INPUT_PATH, \"SampleSubmission2022M.csv\"))\n",
    "    sub['Season'] = sub['ID'].apply(lambda x: int(x.split('_')[0]))\n",
    "    sub[\"T1_TeamID\"] = sub['ID'].apply(lambda x: int(x.split('_')[1]))\n",
    "    sub[\"T2_TeamID\"] = sub['ID'].apply(lambda x: int(x.split('_')[2]))\n",
    "    sub_X, a = process_tourney(sub, mode = \"sub\")\n",
    "    dtest = xgb.DMatrix(sub_X)\n",
    "elif PREDICT_YEAR==2023:\n",
    "    sub = pd.read_csv(os.path.join(INPUT_PATH, \"SampleSubmission2023.csv\"))\n",
    "    sub['Season'] = sub['ID'].apply(lambda x: int(x.split('_')[0]))\n",
    "    sub[\"T1_TeamID\"] = sub['ID'].apply(lambda x: int(x.split('_')[1]))\n",
    "    sub[\"T2_TeamID\"] = sub['ID'].apply(lambda x: int(x.split('_')[2]))\n",
    "    sub_X, a = process_tourney(sub, mode = \"sub\")\n",
    "    dtest = xgb.DMatrix(sub_X)\n",
    "elif PREDICT_YEAR==2024:\n",
    "    sub = pd.read_csv(os.path.join(INPUT_PATH, \"SampleSubmission2024.csv\"))\n",
    "    sub['Season'] = sub['ID'].apply(lambda x: int(x.split('_')[0]))\n",
    "    sub[\"T1_TeamID\"] = sub['ID'].apply(lambda x: int(x.split('_')[1]))\n",
    "    sub[\"T2_TeamID\"] = sub['ID'].apply(lambda x: int(x.split('_')[2]))\n",
    "    sub_X, a = process_tourney(sub, mode = \"sub\")\n",
    "    dtest = xgb.DMatrix(sub_X)\n",
    "elif PREDICT_YEAR==2025:\n",
    "    sub = pd.read_csv(os.path.join(INPUT_PATH, \"SampleSubmissionStage2.csv\"))\n",
    "    sub['Season'] = sub['ID'].apply(lambda x: int(x.split('_')[0]))\n",
    "    sub[\"T1_TeamID\"] = sub['ID'].apply(lambda x: int(x.split('_')[1]))\n",
    "    sub[\"T2_TeamID\"] = sub['ID'].apply(lambda x: int(x.split('_')[2]))   \n",
    "    sub_X, a = process_tourney(sub, mode = \"sub\")\n",
    "    dtest = xgb.DMatrix(sub_X)\"\"\"\n",
    "    "
   ]
  },
  {
   "cell_type": "code",
   "execution_count": 29,
   "id": "a82dc265",
   "metadata": {
    "execution": {
     "iopub.execute_input": "2025-03-18T19:13:37.619341Z",
     "iopub.status.busy": "2025-03-18T19:13:37.619341Z",
     "iopub.status.idle": "2025-03-18T19:13:37.642055Z",
     "shell.execute_reply": "2025-03-18T19:13:37.642055Z"
    },
    "papermill": {
     "duration": 0.051906,
     "end_time": "2025-03-18T19:13:37.642055",
     "exception": false,
     "start_time": "2025-03-18T19:13:37.590149",
     "status": "completed"
    },
    "tags": []
   },
   "outputs": [
    {
     "name": "stdout",
     "output_type": "stream",
     "text": [
      "no fillna, use nan\n",
      "drop col list: ['T1_TOmean', 'T2_TOmean', 'T1_opponent_POSS_RATEmean', 'T2_opponent_POSS_RATEmean', 'T1_opponent_Astmean', 'T2_opponent_Astmean', 'T1_opponent_FT_RATEmean', 'T2_opponent_FT_RATEmean', 'T1_opponent_Stlmean', 'T2_opponent_Stlmean', 'T1_ORmean', 'T2_ORmean', 'T1_opponent_ORmean', 'T2_opponent_ORmean']\n"
     ]
    }
   ],
   "source": [
    "if PREDICT_YEAR==2025:\n",
    "    sub = pd.read_csv(os.path.join(INPUT_PATH, \"SampleSubmissionStage2.csv\"))\n",
    "    sub['Season'] = sub['ID'].apply(lambda x: int(x.split('_')[0]))\n",
    "    sub[\"T1_TeamID\"] = sub['ID'].apply(lambda x: int(x.split('_')[1]))\n",
    "    sub[\"T2_TeamID\"] = sub['ID'].apply(lambda x: int(x.split('_')[2]))   \n",
    "    sub_X, a = process_tourney(sub, mode = \"sub\")\n",
    "    sub_X = drop_columns(sub_X, drop_col)\n",
    "    dtest = xgb.DMatrix(sub_X)\n",
    "    print(sub_X.head())\n",
    "    \n",
    "else:\n",
    "    sub = notexist.copy()\n",
    "    sub = sub.rename(columns={\"WTeamID\": \"T1_TeamID\", \"LTeamID\": \"T2_TeamID\"})\n",
    "    sub = sub[[\"Season\", \"T1_TeamID\", \"T2_TeamID\"]]\n",
    "    temp = sub.copy()\n",
    "    temp = temp.rename(columns={\"T1_TeamID\": \"T2_TeamID\", \"T2_TeamID\": \"T1_TeamID\"})\n",
    "    sub = pd.concat([sub, temp]).reset_index()\n",
    "    sub_X, a = process_tourney(sub, mode=\"sub\")\n",
    "    sub_X = drop_columns(sub_X, drop_col)\n",
    "    dtest = xgb.DMatrix(sub_X)"
   ]
  },
  {
   "cell_type": "code",
   "execution_count": 30,
   "id": "9286fc77",
   "metadata": {
    "execution": {
     "iopub.execute_input": "2025-03-18T19:13:37.695617Z",
     "iopub.status.busy": "2025-03-18T19:13:37.694617Z",
     "iopub.status.idle": "2025-03-18T19:14:32.310657Z",
     "shell.execute_reply": "2025-03-18T19:14:32.309535Z"
    },
    "papermill": {
     "duration": 54.645711,
     "end_time": "2025-03-18T19:14:32.312558",
     "exception": false,
     "start_time": "2025-03-18T19:13:37.666847",
     "status": "completed"
    },
    "tags": []
   },
   "outputs": [
    {
     "name": "stderr",
     "output_type": "stream",
     "text": [
      "\r",
      "  0%|                                                                                                                                                                                                                                      | 0/10 [00:00<?, ?it/s]"
     ]
    },
    {
     "name": "stderr",
     "output_type": "stream",
     "text": [
      "\r",
      " 10%|██████████████████████▏                                                                                                                                                                                                       | 1/10 [00:04<00:41,  4.57s/it]"
     ]
    },
    {
     "name": "stderr",
     "output_type": "stream",
     "text": [
      "\r",
      " 20%|████████████████████████████████████████████▍                                                                                                                                                                                 | 2/10 [00:08<00:34,  4.35s/it]"
     ]
    },
    {
     "name": "stderr",
     "output_type": "stream",
     "text": [
      "\r",
      " 30%|██████████████████████████████████████████████████████████████████▌                                                                                                                                                           | 3/10 [00:13<00:32,  4.60s/it]"
     ]
    },
    {
     "name": "stderr",
     "output_type": "stream",
     "text": [
      "\r",
      " 40%|████████████████████████████████████████████████████████████████████████████████████████▊                                                                                                                                     | 4/10 [00:18<00:28,  4.77s/it]"
     ]
    },
    {
     "name": "stderr",
     "output_type": "stream",
     "text": [
      "\r",
      " 50%|███████████████████████████████████████████████████████████████████████████████████████████████████████████████                                                                                                               | 5/10 [00:23<00:23,  4.62s/it]"
     ]
    },
    {
     "name": "stderr",
     "output_type": "stream",
     "text": [
      "\r",
      " 60%|█████████████████████████████████████████████████████████████████████████████████████████████████████████████████████████████████████▏                                                                                        | 6/10 [00:27<00:18,  4.62s/it]"
     ]
    },
    {
     "name": "stderr",
     "output_type": "stream",
     "text": [
      "\r",
      " 70%|███████████████████████████████████████████████████████████████████████████████████████████████████████████████████████████████████████████████████████████▍                                                                  | 7/10 [00:33<00:15,  5.10s/it]"
     ]
    },
    {
     "name": "stderr",
     "output_type": "stream",
     "text": [
      "\r",
      " 80%|█████████████████████████████████████████████████████████████████████████████████████████████████████████████████████████████████████████████████████████████████████████████████▌                                            | 8/10 [00:38<00:10,  5.01s/it]"
     ]
    },
    {
     "name": "stderr",
     "output_type": "stream",
     "text": [
      "\r",
      " 90%|███████████████████████████████████████████████████████████████████████████████████████████████████████████████████████████████████████████████████████████████████████████████████████████████████████▊                      | 9/10 [00:45<00:05,  5.46s/it]"
     ]
    },
    {
     "name": "stderr",
     "output_type": "stream",
     "text": [
      "\r",
      "100%|█████████████████████████████████████████████████████████████████████████████████████████████████████████████████████████████████████████████████████████████████████████████████████████████████████████████████████████████| 10/10 [00:54<00:00,  6.74s/it]"
     ]
    },
    {
     "name": "stderr",
     "output_type": "stream",
     "text": [
      "\r",
      "100%|█████████████████████████████████████████████████████████████████████████████████████████████████████████████████████████████████████████████████████████████████████████████████████████████████████████████████████████████| 10/10 [00:54<00:00,  5.46s/it]"
     ]
    },
    {
     "name": "stderr",
     "output_type": "stream",
     "text": [
      "\n"
     ]
    }
   ],
   "source": [
    "sub_models = []\n",
    "#sokutionではカスタム関数の指定、早期停止の言及がここではなかった。検討する\n",
    "for i in tqdm(range(repeat_cv), leave=True, dynamic_ncols=True):\n",
    "    sub_models.append(\n",
    "        xgb.train(\n",
    "          params = param,\n",
    "          dtrain = dtrain,\n",
    "          obj=cauchyobj,\n",
    "          num_boost_round = int(iteration_counts[i] * 1.05),\n",
    "          #early_stopping_rounds=early_stopping_rounds, #これ指定してない、指定するのかあと、指定するとしても少し遅くさせるとか\n",
    "          verbose_eval = 50\n",
    "        )\n",
    "    )"
   ]
  },
  {
   "cell_type": "markdown",
   "id": "97870a32",
   "metadata": {
    "papermill": {
     "duration": 0.037504,
     "end_time": "2025-03-18T19:14:32.388703",
     "exception": false,
     "start_time": "2025-03-18T19:14:32.351199",
     "status": "completed"
    },
    "tags": []
   },
   "source": [
    "各特徴量の寄与度を算出"
   ]
  },
  {
   "cell_type": "code",
   "execution_count": 31,
   "id": "5f1db066",
   "metadata": {
    "execution": {
     "iopub.execute_input": "2025-03-18T19:14:32.462232Z",
     "iopub.status.busy": "2025-03-18T19:14:32.462232Z",
     "iopub.status.idle": "2025-03-18T19:14:33.844033Z",
     "shell.execute_reply": "2025-03-18T19:14:33.842002Z"
    },
    "papermill": {
     "duration": 1.42004,
     "end_time": "2025-03-18T19:14:33.845808",
     "exception": false,
     "start_time": "2025-03-18T19:14:32.425768",
     "status": "completed"
    },
    "tags": []
   },
   "outputs": [
    {
     "data": {
      "image/png": "[encoded data removed]",
      "text/plain": [
       "<Figure size 1000x600 with 1 Axes>"
      ]
     },
     "metadata": {},
     "output_type": "display_data"
    }
   ],
   "source": [
    "feature_importances = collections.defaultdict(list)\n",
    "for model in sub_models:\n",
    "    importance = model.get_score(importance_type='gain')\n",
    "    for feat, score in importance.items():\n",
    "        feature_importances[feat].append(score)\n",
    "\n",
    "avg_importance = {feat: sum(scores) / len(scores) for feat, scores in feature_importances.items()}\n",
    "fi_df = pd.DataFrame(list(avg_importance.items()), columns=['Feature', 'Avg_Gain'])\n",
    "fi_df.sort_values(by='Avg_Gain', ascending=False, inplace=True)\n",
    "results.append(\"\")\n",
    "fi_log = \"-----Feature Importance (Average Gain)-----\\n\"\n",
    "for feat, score in fi_df.values:\n",
    "    fi_log += f\"{feat}: {score:.4f}\\n\"\n",
    "results.append(fi_log)\n",
    "results.append(\"\")\n",
    "\n",
    "plt.figure(figsize=(10, 6))\n",
    "plt.bar(fi_df['Feature'], fi_df['Avg_Gain'])\n",
    "plt.xlabel('Feature')\n",
    "plt.ylabel('Average Gain')\n",
    "plt.title('Feature Importance (Average Gain)')\n",
    "plt.xticks(rotation=45)\n",
    "plt.tight_layout() \n",
    "\n",
    "plt.savefig(os.path.join(OUTPUT_PATH, f\"feature_importance_{PREDICT_YEAR}.png\"))\n",
    "plt.show()"
   ]
  },
  {
   "cell_type": "code",
   "execution_count": 32,
   "id": "14cfede2",
   "metadata": {
    "execution": {
     "iopub.execute_input": "2025-03-18T19:14:33.945369Z",
     "iopub.status.busy": "2025-03-18T19:14:33.945369Z",
     "iopub.status.idle": "2025-03-18T19:14:34.045927Z",
     "shell.execute_reply": "2025-03-18T19:14:34.045387Z"
    },
    "papermill": {
     "duration": 0.156284,
     "end_time": "2025-03-18T19:14:34.045927",
     "exception": false,
     "start_time": "2025-03-18T19:14:33.889643",
     "status": "completed"
    },
    "tags": []
   },
   "outputs": [
    {
     "name": "stderr",
     "output_type": "stream",
     "text": [
      "\r",
      "  0%|                                                                                                                                                                                                                                      | 0/10 [00:00<?, ?it/s]"
     ]
    },
    {
     "name": "stderr",
     "output_type": "stream",
     "text": [
      "\r",
      "100%|████████████████████████████████████████████████████████████████████████████████████████████████████████████████████████████████████████████████████████████████████████████████████████████████████████████████████████████| 10/10 [00:00<00:00, 122.82it/s]"
     ]
    },
    {
     "name": "stderr",
     "output_type": "stream",
     "text": [
      "\n"
     ]
    }
   ],
   "source": [
    "sub_preds = []\n",
    "for i in tqdm(range(repeat_cv)):\n",
    "    if spline == \"spline_normal\":\n",
    "        sub_preds.append(np.clip(spline_model[i](np.clip(sub_models[i].predict(dtest), -30, 30)), 0.025, 0.975))\n",
    "    \n",
    "    elif spline == \"logistic\":\n",
    "        X_input = np.clip(sub_models[i].predict(dtest), -30, 30).reshape(-1, 1)\n",
    "        platt_pred = spline_model[i].predict_proba(X_input)[:, 1]\n",
    "        sub_preds.append(np.clip(platt_pred, 0.025, 0.975))\n",
    "\n",
    "    elif spline == \"isotonic\":\n",
    "        X_input = np.clip(sub_models[i].predict(dtest), -30, 30).reshape(-1, 1)\n",
    "        iso_pred = spline_model[i].predict(X_input)  # Isotonic Regression の適用\n",
    "        sub_preds.append(np.clip(iso_pred, 0.025, 0.975))\n",
    "\n",
    "sub[\"Pred\"] = np.mean(np.vstack(sub_preds), axis=0)"
   ]
  },
  {
   "cell_type": "code",
   "execution_count": 33,
   "id": "dd3d582e",
   "metadata": {
    "execution": {
     "iopub.execute_input": "2025-03-18T19:14:34.129102Z",
     "iopub.status.busy": "2025-03-18T19:14:34.129102Z",
     "iopub.status.idle": "2025-03-18T19:14:34.145543Z",
     "shell.execute_reply": "2025-03-18T19:14:34.144419Z"
    },
    "papermill": {
     "duration": 0.057419,
     "end_time": "2025-03-18T19:14:34.146335",
     "exception": false,
     "start_time": "2025-03-18T19:14:34.088916",
     "status": "completed"
    },
    "tags": []
   },
   "outputs": [
    {
     "name": "stdout",
     "output_type": "stream",
     "text": [
      "skip data flip\n"
     ]
    }
   ],
   "source": [
    "# 予測時にテストデータID反転させて予測して平均取る\n",
    "# dtestの用意とsub_predsの算出を同じようにやる\n",
    "# sub[\"Pred\"]を反転させたやつとの平均取ったやつにする\n",
    "TEST_REVERSE = MODEL.test_reverse\n",
    "\n",
    "if TEST_REVERSE:\n",
    "    print(\"----- data flip -----\") \n",
    "    sub_reverse = notexist.copy()\n",
    "    sub_reverse = sub_reverse.rename(columns={\"WTeamID\": \"T2_TeamID\", \"LTeamID\": \"T1_TeamID\"})#reverse!!\n",
    "    temp_reverse = sub_reverse.copy()\n",
    "    temp = temp.rename(columns={\"T1_TeamID\": \"T2_TeamID\", \"T2_TeamID\": \"T1_TeamID\"})\n",
    "    sub_reverse = pd.concat([sub_reverse, temp_reverse]).reset_index()\n",
    "    sub_reverse_X, a = process_tourney(sub_reverse, mode=\"sub\")\n",
    "    sub_reverse_X = drop_columns(sub_reverse_X, drop_col)\n",
    "    dtest_reverse = xgb.DMatrix(sub_reverse_X)\n",
    "    \n",
    "    sub_preds_reverse = []\n",
    "    for i in tqdm(range(repeat_cv)):\n",
    "        if spline == \"spline_normal\":\n",
    "            sub_preds_reverse.append(np.clip(spline_model[i](np.clip(sub_models[i].predict(dtest_reverse), -30, 30)), 0.025, 0.975))\n",
    "        \n",
    "        elif spline == \"logistic\":\n",
    "            X_input = np.clip(sub_models[i].predict(dtest_reverse), -30, 30).reshape(-1, 1)\n",
    "            platt_pred = spline_model[i].predict_proba(X_input)[:, 1]\n",
    "            sub_preds_reverse.append(np.clip(platt_pred, 0.025, 0.975))\n",
    "\n",
    "        elif spline == \"isotonic\":\n",
    "            X_input = np.clip(sub_models[i].predict(dtest_reverse), -30, 30).reshape(-1, 1)\n",
    "            iso_pred = spline_model[i].predict(X_input)  # Isotonic Regression の適用\n",
    "            sub_preds_reverse.append(np.clip(iso_pred, 0.025, 0.975))\n",
    "\n",
    "    sub_reverse[\"Pred\"] = np.mean(np.vstack(sub_preds_reverse), axis=0)\n",
    "    \n",
    " \n",
    "    #sub[\"Pred\"]を (sub[\"Pred\"] + (1-sub_reverse[\"Pred\"]))/2に塗り替える(平均取る)\n",
    "    sub[\"Pred\"] = (sub[\"Pred\"] + (1-sub_reverse[\"Pred\"]))/2\n",
    "\n",
    "\n",
    "else:\n",
    "    print(\"skip data flip\")"
   ]
  },
  {
   "cell_type": "code",
   "execution_count": 34,
   "id": "c7b56e97",
   "metadata": {
    "execution": {
     "iopub.execute_input": "2025-03-18T19:14:34.260544Z",
     "iopub.status.busy": "2025-03-18T19:14:34.259543Z",
     "iopub.status.idle": "2025-03-18T19:14:34.273407Z",
     "shell.execute_reply": "2025-03-18T19:14:34.271795Z"
    },
    "papermill": {
     "duration": 0.085679,
     "end_time": "2025-03-18T19:14:34.277477",
     "exception": false,
     "start_time": "2025-03-18T19:14:34.191798",
     "status": "completed"
    },
    "tags": []
   },
   "outputs": [],
   "source": [
    "# teams:64team, targetを受け取って、そのtarget teamの試合可能性のある全63試合を抽出する関数\n",
    "def extract_target_team_records(submission_df, teams, target_team):\n",
    "    if target_team not in teams:\n",
    "        raise ValueError(f\"target_team {target_team} は teams 内に存在しません\")\n",
    "\n",
    "    remaining_teams = [t for t in teams if t != target_team]\n",
    "    \n",
    "    records = []\n",
    "    for other_team in remaining_teams:\n",
    "        lower = min(target_team, other_team)\n",
    "        higher = max(target_team, other_team)\n",
    "        row = submission_df[(submission_df['T1_TeamID'] == lower) & (submission_df['T2_TeamID'] == higher)]\n",
    "        if row.empty:\n",
    "            print(f\"Warning: 対戦 {lower} vs {higher} に対応するレコードが見つかりませんでした\")\n",
    "        else:\n",
    "            records.append(row)\n",
    "    \n",
    "    if records:\n",
    "        final_records = pd.concat(records, ignore_index=True)\n",
    "    else:\n",
    "        final_records = pd.DataFrame()\n",
    "    \n",
    "    if len(final_records) != 63:\n",
    "        print(f\"Warning: 期待される63件ではなく、{len(final_records)}件のレコードが抽出されました。\")\n",
    "    \n",
    "    return final_records\n"
   ]
  },
  {
   "cell_type": "code",
   "execution_count": 35,
   "id": "58b0a165",
   "metadata": {
    "execution": {
     "iopub.execute_input": "2025-03-18T19:14:34.382370Z",
     "iopub.status.busy": "2025-03-18T19:14:34.381854Z",
     "iopub.status.idle": "2025-03-18T19:14:34.394450Z",
     "shell.execute_reply": "2025-03-18T19:14:34.393442Z"
    },
    "papermill": {
     "duration": 0.068005,
     "end_time": "2025-03-18T19:14:34.396781",
     "exception": false,
     "start_time": "2025-03-18T19:14:34.328776",
     "status": "completed"
    },
    "tags": []
   },
   "outputs": [],
   "source": [
    "tourney_teams_2023 = [\n",
    "    1395, 1113,   # TCU1395, アリゾナ・ステイト1113\n",
    "    1231, 1245,   # インディアナ1231, ケント・ステイト1245\n",
    "    1243, 1286,   # カンザス・ステイト1243, モンタナ・ステイト1286\n",
    "    1272, 1194,   # メンフィス1272, ﾌﾛﾘﾀﾞ･ｱﾄﾗﾝﾃｨｯｸ1194\n",
    "    1211, 1213,   # ゴンザガ1211, グランド・キャニオン1213\n",
    "    1274, 1179,   # マイアミ（フロリダ）1274, ドレイク1179\n",
    "    1243, 1286,   # ケンタッキー1243, プロビデンス1286\n",
    "    1345, 1192,   # パデュー1345, ﾌｪｱﾘｰ･ﾃﾞｨｷﾝｿﾝ1192\n",
    "    1163, 1233,   # コネチカット1163, アイオナ1233\n",
    "    1166, 1301,   # クレイトン1166, ﾉｰｽｶﾛﾗｲﾅ･ｽﾃｲﾄ1301\n",
    "    1235, 1338,   # アイオワ・ステイト1235, ピッツバーグ1338\n",
    "    1266, 1436,   # マーケット1266, バーモント1436\n",
    "    1388, 1433,   # ｾﾝﾄﾒｱﾘｰｽﾞ（ｶﾘﾌｫﾙﾆｱ）1388, VCU1433\n",
    "    1124, 1364,   # ベイラー1124, UCサンタバーバラ1364\n",
    "    1462, 1244,   # ザビエル1462, ケネソー・ステイト1244\n",
    "    1277, 1425,   # ミシガン・ステイト1277, USC トロージャンズ1425\n",
    "\n",
    "    1417, 1421,   # UCLA1417, UNC アシュビル1421\n",
    "    1401, 1336,   # テキサス A＆M1401, ﾍﾟﾝｼﾞﾙﾍﾞﾆｱ･ｽﾃｲﾄ1336\n",
    "    1397, 1418,   # テネシー1397, ﾙｲｼﾞｱﾅ･ﾗﾌｧｲｴｯﾄ1418\n",
    "    1222, 1297,   # ヒューストン1222, ノーザンケンタッキー1297\n",
    "    1321, 1129,   # ノースウェスタン1321, ボイシ・ステイト1129\n",
    "    1400, 1159,   # テキサス1400, コルゲート1159\n",
    "    1181, 1331,   # デューク1181, オーラル・ロバーツ1331\n",
    "    1234, 1120,   # アイオワ1234, オーバーン1120\n",
    "    1116, 1228,   # アーカンソー1116, イリノイ1228\n",
    "    1112, 1343,   # アリゾナ1112, プリンストン1343\n",
    "    1361, 1158,   # ｻﾝﾃﾞｴｺﾞ･ｽﾃｲﾄ1361, チャールストン1158\n",
    "    1104, 1394,   # アラバマ1104, テキサス A＆M CC1394\n",
    "    1242, 1224,   # カンザス1242, ハワード1224\n",
    "    1281, 1429,   # ミズーリ1281, ユタ・ステイト1429\n",
    "    1438, 1202,   # バージニア1438, ファーマン1202\n",
    "    1268, 1452    # メリーランド1268, ウェストバージニア1452\n",
    "]\n",
    "\n",
    "#Connecticut_vs = extract_target_team_records(sub, tourney_teams_2023, 1163 )"
   ]
  },
  {
   "cell_type": "code",
   "execution_count": 36,
   "id": "3be83d65",
   "metadata": {
    "execution": {
     "iopub.execute_input": "2025-03-18T19:14:34.510481Z",
     "iopub.status.busy": "2025-03-18T19:14:34.510481Z",
     "iopub.status.idle": "2025-03-18T19:14:34.520120Z",
     "shell.execute_reply": "2025-03-18T19:14:34.519603Z"
    },
    "papermill": {
     "duration": 0.069761,
     "end_time": "2025-03-18T19:14:34.523526",
     "exception": false,
     "start_time": "2025-03-18T19:14:34.453765",
     "status": "completed"
    },
    "tags": []
   },
   "outputs": [],
   "source": [
    "#handlabelingを行う関数\n",
    "def make_handlabeling(df, season, T1, T2, labeling_pred, tourney_teams):\n",
    "    if T1 not in tourney_teams or T2 not in tourney_teams: \n",
    "        print(f\"トーナメント対象チームに属していません\")\n",
    "        return \n",
    "    \n",
    "    if T1>T2: \n",
    "        T1, T2 = T2, T1\n",
    "        print(f\"{T1}, {T2}ID逆だけど大丈夫？？\")\n",
    "    id = f\"{season}_{T1}_{T2}\"\n",
    "\n",
    "    print(f\"before: {df[df['ID']==id]}\")\n",
    "    df.loc[df[\"ID\"] == id, \"Pred\"] = labeling_pred\n",
    "    print(f\"after: {df[df['ID']==id]}\")\n",
    "    \n",
    "    results.append(f\"-----handolabeling-----\")\n",
    "    results.append(f\"before:  {df[df['ID']==id]} -----> after: {df[df['ID']==id]}\")\n",
    "    results.appedn(\"\")\n",
    "    return df"
   ]
  },
  {
   "cell_type": "code",
   "execution_count": 37,
   "id": "db9a55d9",
   "metadata": {
    "execution": {
     "iopub.execute_input": "2025-03-18T19:14:34.644934Z",
     "iopub.status.busy": "2025-03-18T19:14:34.643934Z",
     "iopub.status.idle": "2025-03-18T19:14:34.654083Z",
     "shell.execute_reply": "2025-03-18T19:14:34.652963Z"
    },
    "papermill": {
     "duration": 0.076061,
     "end_time": "2025-03-18T19:14:34.658163",
     "exception": false,
     "start_time": "2025-03-18T19:14:34.582102",
     "status": "completed"
    },
    "tags": []
   },
   "outputs": [],
   "source": [
    "labeling = cfg.exp.hand_labeling\n",
    "if labeling is not None:\n",
    "    for i in range(len(labeling)):\n",
    "        T1 = labeling[i][0]\n",
    "        T2 = labeling[i][1]\n",
    "        labeling_pred = labeling[i][2]\n",
    "        \n",
    "        print(f\"{T1} vs {T2} result labeling {labeling_pred}\")\n",
    "        \n",
    "        sub = make_handlabeling(sub, PREDICT_YEAR, T1, T2, labeling_pred, tourney_teams_2023)"
   ]
  },
  {
   "cell_type": "code",
   "execution_count": 38,
   "id": "1d2ea179",
   "metadata": {
    "execution": {
     "iopub.execute_input": "2025-03-18T19:14:34.783957Z",
     "iopub.status.busy": "2025-03-18T19:14:34.782885Z",
     "iopub.status.idle": "2025-03-18T19:14:35.361466Z",
     "shell.execute_reply": "2025-03-18T19:14:35.361466Z"
    },
    "papermill": {
     "duration": 0.64208,
     "end_time": "2025-03-18T19:14:35.361466",
     "exception": false,
     "start_time": "2025-03-18T19:14:34.719386",
     "status": "completed"
    },
    "tags": []
   },
   "outputs": [
    {
     "name": "stdout",
     "output_type": "stream",
     "text": [
      "Tournament matchups only - Pred Mean: 0.5007430546112771\n"
     ]
    },
    {
     "data": {
      "image/png": "[encoded data removed]",
      "text/plain": [
       "<Figure size 640x480 with 1 Axes>"
      ]
     },
     "metadata": {},
     "output_type": "display_data"
    }
   ],
   "source": [
    "if PREDICT_YEAR<=2024:\n",
    "    tourney_filtered = notexist[notexist[\"Season\"] == PREDICT_YEAR].copy()\n",
    "    a = tourney_filtered.rename(columns={'WTeamID': 'T1_TeamID', 'LTeamID': 'T2_TeamID'})\n",
    "    b = tourney_filtered.rename(columns={'WTeamID': 'T2_TeamID', 'LTeamID': 'T1_TeamID'})\n",
    "    ab = pd.concat([a, b]).reset_index(drop=True) \n",
    "    filtered_sub = sub.merge(ab[['Season', 'T1_TeamID', 'T2_TeamID']], \n",
    "                            on=['Season', 'T1_TeamID', 'T2_TeamID'], \n",
    "                            how='inner')\n",
    "\n",
    "    filtered_sub[\"Pred\"].astype(int)\n",
    "    pred_mean = filtered_sub[\"Pred\"].mean()\n",
    "    print(\"Tournament matchups only - Pred Mean:\", pred_mean)\n",
    "\n",
    "    filtered_sub[\"Pred\"].hist(bins=50)\n",
    "    results+=[\"\", f\"Tournament matchups only - Pred Mean:, {pred_mean}\", \"\"]\n",
    "    plt.figure(figsize=(8, 6))\n",
    "    filtered_sub[\"Pred\"].hist(bins=50)\n",
    "    plt.title(\"Prediction Histogram\")\n",
    "    plt.xlabel(\"Pred\")\n",
    "    plt.ylabel(\"Frequency\")\n",
    "    plt.grid(True)\n",
    "\n",
    "    # 画像として保存\n",
    "    plt.savefig(os.path.join(OUTPUT_PATH, f\"Prediction_Histgram_filtered_{PREDICT_YEAR}.png\"))\n",
    "    plt.close()"
   ]
  },
  {
   "cell_type": "markdown",
   "id": "6d6dad1f",
   "metadata": {
    "papermill": {
     "duration": 0.067271,
     "end_time": "2025-03-18T19:14:35.473791",
     "exception": false,
     "start_time": "2025-03-18T19:14:35.406520",
     "status": "completed"
    },
    "tags": []
   },
   "source": [
    "# スコア算出、まとめ、\n",
    "ここまでで提出ファイル作成。ここからは過去年度のシミュレーションに対してBrier scoreやその他指標の算出"
   ]
  },
  {
   "cell_type": "code",
   "execution_count": 39,
   "id": "3331ccc8",
   "metadata": {
    "execution": {
     "iopub.execute_input": "2025-03-18T19:14:35.595280Z",
     "iopub.status.busy": "2025-03-18T19:14:35.595280Z",
     "iopub.status.idle": "2025-03-18T19:14:36.285889Z",
     "shell.execute_reply": "2025-03-18T19:14:36.285889Z"
    },
    "papermill": {
     "duration": 0.753268,
     "end_time": "2025-03-18T19:14:36.289870",
     "exception": false,
     "start_time": "2025-03-18T19:14:35.536602",
     "status": "completed"
    },
    "tags": []
   },
   "outputs": [
    {
     "data": {
      "image/png": "[encoded data removed]",
      "text/plain": [
       "<Figure size 640x480 with 1 Axes>"
      ]
     },
     "metadata": {},
     "output_type": "display_data"
    }
   ],
   "source": [
    "sub[\"Pred\"].hist()\n",
    "results+=[\"\", f\"Pred mean: {sub['Pred'].mean()}\", \"\"]\n",
    "\n",
    "plt.figure(figsize=(8, 6))\n",
    "sub[\"Pred\"].hist(bins=50)\n",
    "plt.title(\"Prediction Histogram\")\n",
    "plt.xlabel(\"Pred\")\n",
    "plt.ylabel(\"Frequency\")\n",
    "plt.grid(True)\n",
    "\n",
    "# 画像として保存\n",
    "plt.savefig(os.path.join(OUTPUT_PATH, f\"Prediction_Histgram_{PREDICT_YEAR}.png\"))\n",
    "plt.close()"
   ]
  },
  {
   "cell_type": "markdown",
   "id": "6e0bcf5a",
   "metadata": {
    "papermill": {
     "duration": 0.067065,
     "end_time": "2025-03-18T19:14:36.406951",
     "exception": false,
     "start_time": "2025-03-18T19:14:36.339886",
     "status": "completed"
    },
    "tags": []
   },
   "source": [
    "存在するはずのない予測年度のトーナメント結果をもとに(Pred, label)を取り出し、以下を行う。\n",
    "\n",
    "- 各評価指標の計算\n",
    "- キャリブレーション可視化\n",
    "- AUC可視化"
   ]
  },
  {
   "cell_type": "code",
   "execution_count": 40,
   "id": "80686d89",
   "metadata": {
    "execution": {
     "iopub.execute_input": "2025-03-18T19:14:36.523358Z",
     "iopub.status.busy": "2025-03-18T19:14:36.523358Z",
     "iopub.status.idle": "2025-03-18T19:14:36.554760Z",
     "shell.execute_reply": "2025-03-18T19:14:36.552641Z"
    },
    "papermill": {
     "duration": 0.100617,
     "end_time": "2025-03-18T19:14:36.557024",
     "exception": false,
     "start_time": "2025-03-18T19:14:36.456407",
     "status": "completed"
    },
    "tags": []
   },
   "outputs": [],
   "source": [
    "def extract_labels_and_preds(sub, tourney):\n",
    "    \"\"\" 試合データから予測値 (Pred) と正解ラベル (label) を抽出する \"\"\"\n",
    "    label_data = tourney[[\"WTeamID\", \"LTeamID\", \"WScore\", \"LScore\"]]\n",
    "    label_data = label_data.rename(columns={\"WTeamID\": \"T1_TeamID\", \"LTeamID\": \"T2_TeamID\", \"WScore\": \"T1_Score\", \"LScore\": \"T2_Score\"})\n",
    "    temp = label_data.copy()\n",
    "    temp = temp.rename(columns={\"T1_TeamID\": \"T2_TeamID\", \"T2_TeamID\": \"T1_TeamID\", \"T1_Score\": \"T2_Score\", \"T2_Score\": \"T1_Score\"})\n",
    "    label_data = pd.concat([label_data, temp]).reset_index(drop=True)\n",
    "    \n",
    "    label_data = pd.merge(label_data, sub, on=[\"T1_TeamID\", \"T2_TeamID\"], how=\"left\")\n",
    "    label_data[\"label\"] = np.where(label_data[\"T1_Score\"] - label_data[\"T2_Score\"] > 0, 1, 0)\n",
    "    label_data = label_data.dropna(subset=[\"Pred\"])  # 欠損値を削除\n",
    "    print(label_data.info())\n",
    "    print(label_data[\"Season\"].unique())\n",
    "    return label_data[[\"label\", \"Pred\"]]\n",
    "\n",
    "def calculate_metrics(label_data):\n",
    "    print(label_data.info())\n",
    "    \"\"\" 各評価指標を計算 \"\"\"\n",
    "    brier_score = round(mean_squared_error(label_data[\"label\"], label_data[\"Pred\"]), 5)  # Brier Score (MSEと同じ)\n",
    "    rmse_score = round(mean_squared_error(label_data[\"label\"], label_data[\"Pred\"], squared=False), 5)  # RMSE\n",
    "    logloss_score = round(log_loss(label_data[\"label\"], label_data[\"Pred\"]), 5)  # Log Loss\n",
    "    mae_score = round(mean_absolute_error(label_data[\"label\"], label_data[\"Pred\"]), 5)  # MAE\n",
    "    \n",
    "    return {\n",
    "        \"Brier Score\": brier_score,\n",
    "        \"RMSE\": rmse_score,\n",
    "        \"Log Loss\": logloss_score,\n",
    "        \"MAE\": mae_score\n",
    "    }\n",
    "\n",
    "def plot_calibration_curve(label_data, n_bins=10):\n",
    "    \"\"\" キャリブレーションカーブをプロット \"\"\"\n",
    "    prob_true, prob_pred = calibration_curve(label_data[\"label\"], label_data[\"Pred\"], n_bins=n_bins)\n",
    "    \n",
    "    plt.figure(figsize=(6,6))\n",
    "    plt.plot(prob_pred, prob_true, marker=\"o\", label=\"Model Calibration\")\n",
    "    plt.plot([0, 1], [0, 1], linestyle=\"--\", label=\"Perfect Calibration\")\n",
    "    plt.xlabel(\"Predicted Probability\")\n",
    "    plt.ylabel(\"Actual Probability\")\n",
    "    plt.legend()\n",
    "    plt.title(\"Calibration Curve\")\n",
    "    plt.show()\n",
    "\n",
    "def calculate_auc_metrics(label_data):\n",
    "    global results\n",
    "    \"\"\" AUC-ROCとAUC-PRを計算 \"\"\"\n",
    "    auc_roc = roc_auc_score(label_data[\"label\"], label_data[\"Pred\"])\n",
    "    auc_pr = average_precision_score(label_data[\"label\"], label_data[\"Pred\"])\n",
    "    \n",
    "    print(f\"AUC-ROC: {auc_roc:.4f}\")\n",
    "    print(f\"AUC-PR: {auc_pr:.4f}\")\n",
    "    results += [\"---- AUC -----\", f\"AUC-ROC: {auc_roc:.4f}\", f\"AUC-PR: {auc_pr:.4f}\"]\n",
    "    "
   ]
  },
  {
   "cell_type": "code",
   "execution_count": 41,
   "id": "c2f7f4a3",
   "metadata": {
    "execution": {
     "iopub.execute_input": "2025-03-18T19:14:36.656554Z",
     "iopub.status.busy": "2025-03-18T19:14:36.656554Z",
     "iopub.status.idle": "2025-03-18T19:14:37.007458Z",
     "shell.execute_reply": "2025-03-18T19:14:37.006439Z"
    },
    "papermill": {
     "duration": 0.406544,
     "end_time": "2025-03-18T19:14:37.012981",
     "exception": false,
     "start_time": "2025-03-18T19:14:36.606437",
     "status": "completed"
    },
    "tags": []
   },
   "outputs": [
    {
     "name": "stdout",
     "output_type": "stream",
     "text": [
      "<class 'pandas.core.frame.DataFrame'>\n",
      "RangeIndex: 260 entries, 0 to 259\n",
      "Data columns (total 8 columns):\n",
      " #   Column     Non-Null Count  Dtype  \n",
      "---  ------     --------------  -----  \n",
      " 0   T1_TeamID  260 non-null    int64  \n",
      " 1   T2_TeamID  260 non-null    int64  \n",
      " 2   T1_Score   260 non-null    int64  \n",
      " 3   T2_Score   260 non-null    int64  \n",
      " 4   index      260 non-null    int64  \n",
      " 5   Season     260 non-null    int64  \n",
      " 6   Pred       260 non-null    float64\n",
      " 7   label      260 non-null    int32  \n",
      "dtypes: float64(1), int32(1), int64(6)\n",
      "memory usage: 15.4 KB\n",
      "None\n",
      "[2019]\n",
      "<class 'pandas.core.frame.DataFrame'>\n",
      "RangeIndex: 260 entries, 0 to 259\n",
      "Data columns (total 2 columns):\n",
      " #   Column  Non-Null Count  Dtype  \n",
      "---  ------  --------------  -----  \n",
      " 0   label   260 non-null    int32  \n",
      " 1   Pred    260 non-null    float64\n",
      "dtypes: float64(1), int32(1)\n",
      "memory usage: 3.2 KB\n",
      "None\n"
     ]
    },
    {
     "name": "stderr",
     "output_type": "stream",
     "text": [
      "C:\\Users\\81809\\anaconda3\\envs\\deep_learning_pytorch\\Lib\\site-packages\\sklearn\\metrics\\_regression.py:492: FutureWarning: 'squared' is deprecated in version 1.4 and will be removed in 1.6. To calculate the root mean squared error, use the function'root_mean_squared_error'.\n",
      "  warnings.warn(\n"
     ]
    },
    {
     "data": {
      "image/png": "[encoded data removed]",
      "text/plain": [
       "<Figure size 600x600 with 1 Axes>"
      ]
     },
     "metadata": {},
     "output_type": "display_data"
    },
    {
     "name": "stdout",
     "output_type": "stream",
     "text": [
      "AUC-ROC: 0.8562\n",
      "AUC-PR: 0.8680\n",
      "MAE: 0.31535\n",
      "\n",
      "---- AUC -----\n",
      "AUC-ROC: 0.8562\n",
      "AUC-PR: 0.8680\n"
     ]
    }
   ],
   "source": [
    "if PREDICT_YEAR<=2024:\n",
    "    if PREDICT_YEAR == 2022:\n",
    "        notexist_MAN = notexist[notexist[\"WTeamID\"].astype(str).str.startswith(\"1\")]\n",
    "        notexist_WOMAN = notexist[notexist[\"WTeamID\"].astype(str).str.startswith(\"3\")]\n",
    "        label_data = extract_labels_and_preds(sub, notexist) ######\n",
    "    else:\n",
    "        label_data = extract_labels_and_preds(sub, notexist)\n",
    "\n",
    "    # 評価指標の計算\n",
    "    score = calculate_metrics(label_data)\n",
    "    results += [\"\",\"-----eval metrics-----\",\n",
    "                f\"Brier Score: {score['Brier Score']}\", \n",
    "                f\"RMSE: {score['RMSE']}\", \n",
    "                f\"Log Loss: {score['Log Loss']}\", \n",
    "                f\"MAE: {score['MAE']}\", \"\"]\n",
    "\n",
    "    # キャリブレーションの確認\n",
    "    plot_calibration_curve(label_data)\n",
    "\n",
    "    # AUCの評価\n",
    "    calculate_auc_metrics(label_data)\n",
    "\n",
    "    for temp in range(-5, 0):\n",
    "        print(results[temp])"
   ]
  },
  {
   "cell_type": "code",
   "execution_count": 42,
   "id": "41426fa2",
   "metadata": {
    "execution": {
     "iopub.execute_input": "2025-03-18T19:14:37.143229Z",
     "iopub.status.busy": "2025-03-18T19:14:37.142233Z",
     "iopub.status.idle": "2025-03-18T19:14:37.166877Z",
     "shell.execute_reply": "2025-03-18T19:14:37.166877Z"
    },
    "papermill": {
     "duration": 0.092702,
     "end_time": "2025-03-18T19:14:37.172483",
     "exception": false,
     "start_time": "2025-03-18T19:14:37.079781",
     "status": "completed"
    },
    "tags": []
   },
   "outputs": [
    {
     "name": "stdout",
     "output_type": "stream",
     "text": [
      "   index  Season  T1_TeamID  T2_TeamID      Pred\n",
      "0   1048    2019       1125       1396  0.594910\n",
      "1   1049    2019       1192       1341  0.545459\n",
      "2   1050    2019       1113       1385  0.469199\n",
      "3   1051    2019       1295       1300  0.467995\n",
      "4   1052    2019       1120       1308  0.683580\n"
     ]
    }
   ],
   "source": [
    "if PREDICT_YEAR==2025:\n",
    "    print(sub.head())\n",
    "    csv_path = os.path.join(OUTPUT_PATH, f\"{name}_{PREDICT_YEAR}.csv\")\n",
    "    sub[[\"ID\", \"Pred\"]].to_csv(csv_path, index=False)\n",
    "else:\n",
    "    print(sub.head())\n",
    "    csv_path = os.path.join(OUTPUT_PATH, f\"{name}_{PREDICT_YEAR}.csv\")\n",
    "    sub[[\"Season\", \"T1_TeamID\", \"T2_TeamID\", \"Pred\"]].to_csv(csv_path, index=False)"
   ]
  },
  {
   "cell_type": "code",
   "execution_count": 43,
   "id": "c4ca1c3d",
   "metadata": {
    "execution": {
     "iopub.execute_input": "2025-03-18T19:14:37.273635Z",
     "iopub.status.busy": "2025-03-18T19:14:37.273635Z",
     "iopub.status.idle": "2025-03-18T19:14:37.297596Z",
     "shell.execute_reply": "2025-03-18T19:14:37.297596Z"
    },
    "papermill": {
     "duration": 0.074086,
     "end_time": "2025-03-18T19:14:37.297596",
     "exception": false,
     "start_time": "2025-03-18T19:14:37.223510",
     "status": "completed"
    },
    "tags": []
   },
   "outputs": [
    {
     "name": "stdout",
     "output_type": "stream",
     "text": [
      "実行時間： 500.3秒\n"
     ]
    }
   ],
   "source": [
    "END_TIME = time.time()\n",
    "ELAPSED_TIME = END_TIME - START_TIME\n",
    "print(f\"実行時間： {ELAPSED_TIME:.1f}秒\")\n",
    "results.append(f\"実行時間： {ELAPSED_TIME:.1f}秒\")\n",
    "\n",
    "with open(os.path.join(OUTPUT_PATH, \"result.txt\"), \"a\", encoding=\"utf-8\") as f:\n",
    "    for line in results:\n",
    "        f.write(line + \"\\n\")"
   ]
  },
  {
   "cell_type": "code",
   "execution_count": 44,
   "id": "26d10977",
   "metadata": {
    "execution": {
     "iopub.execute_input": "2025-03-18T19:14:37.439965Z",
     "iopub.status.busy": "2025-03-18T19:14:37.439965Z",
     "iopub.status.idle": "2025-03-18T19:14:37.446057Z",
     "shell.execute_reply": "2025-03-18T19:14:37.446057Z"
    },
    "papermill": {
     "duration": 0.073802,
     "end_time": "2025-03-18T19:14:37.446057",
     "exception": false,
     "start_time": "2025-03-18T19:14:37.372255",
     "status": "completed"
    },
    "tags": []
   },
   "outputs": [],
   "source": [
    "logger.remove()"
   ]
  }
 ],
 "metadata": {
  "kernelspec": {
   "display_name": "deep_learning_pytorch",
   "language": "python",
   "name": "python3"
  },
  "language_info": {
   "codemirror_mode": {
    "name": "ipython",
    "version": 3
   },
   "file_extension": ".py",
   "mimetype": "text/x-python",
   "name": "python",
   "nbconvert_exporter": "python",
   "pygments_lexer": "ipython3",
   "version": "3.11.9"
  },
  "papermill": {
   "default_parameters": {},
   "duration": 505.933737,
   "end_time": "2025-03-18T19:14:38.706007",
   "environment_variables": {},
   "exception": null,
   "input_path": "c:\\Users\\81809\\Documents\\ALL_CODE\\kaggle\\March Machine Learning Mania 2025\\notebook\\1stplace_solution_2023.ipynb",
   "output_path": "feature_11_20250319_040612.ipynb",
   "parameters": {
    "EXP_NUM": "feature_11",
    "PREDICT_YEAR": 2019
   },
   "start_time": "2025-03-18T19:06:12.772270",
   "version": "2.6.0"
  }
 },
 "nbformat": 4,
 "nbformat_minor": 5
}