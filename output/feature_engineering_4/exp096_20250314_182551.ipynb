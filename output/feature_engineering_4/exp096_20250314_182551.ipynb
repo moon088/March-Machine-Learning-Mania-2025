{
 "cells": [
  {
   "cell_type": "code",
   "execution_count": 1,
   "id": "df71e2c4",
   "metadata": {
    "execution": {
     "iopub.execute_input": "2025-03-14T09:25:53.133939Z",
     "iopub.status.busy": "2025-03-14T09:25:53.133939Z",
     "iopub.status.idle": "2025-03-14T09:25:53.141353Z",
     "shell.execute_reply": "2025-03-14T09:25:53.141353Z"
    },
    "papermill": {
     "duration": 0.017628,
     "end_time": "2025-03-14T09:25:53.144369",
     "exception": false,
     "start_time": "2025-03-14T09:25:53.126741",
     "status": "completed"
    },
    "tags": [
     "parameters"
    ]
   },
   "outputs": [],
   "source": [
    "# Parameters\n",
    "EXP_NUM = \"default\""
   ]
  },
  {
   "cell_type": "code",
   "execution_count": 2,
   "id": "0f0bdb50",
   "metadata": {
    "execution": {
     "iopub.execute_input": "2025-03-14T09:25:53.144784Z",
     "iopub.status.busy": "2025-03-14T09:25:53.144784Z",
     "iopub.status.idle": "2025-03-14T09:25:53.162037Z",
     "shell.execute_reply": "2025-03-14T09:25:53.162037Z"
    },
    "papermill": {
     "duration": 0.019811,
     "end_time": "2025-03-14T09:25:53.164595",
     "exception": false,
     "start_time": "2025-03-14T09:25:53.144784",
     "status": "completed"
    },
    "tags": [
     "injected-parameters"
    ]
   },
   "outputs": [],
   "source": [
    "# Parameters\n",
    "EXP_NUM = \"exp096\"\n"
   ]
  },
  {
   "cell_type": "markdown",
   "id": "28ba9399",
   "metadata": {
    "papermill": {
     "duration": 0.0,
     "end_time": "2025-03-14T09:25:53.167968",
     "exception": false,
     "start_time": "2025-03-14T09:25:53.167968",
     "status": "completed"
    },
    "tags": []
   },
   "source": [
    "# 2023 1st place solution\n",
    "[kaggle notebook](https://www.kaggle.com/code/rustyb/paris-madness-2023#Load-the-data!)"
   ]
  },
  {
   "cell_type": "markdown",
   "id": "f1f235b5",
   "metadata": {
    "papermill": {
     "duration": 0.0,
     "end_time": "2025-03-14T09:25:53.179808",
     "exception": false,
     "start_time": "2025-03-14T09:25:53.179808",
     "status": "completed"
    },
    "tags": []
   },
   "source": [
    "# コードの流れ\n",
    "1. hydraからハイパラ取得し、パスなどを設定\n",
    "\n",
    "    regular&tourney Detaile Result, Seedを使用し、tourneyを目的変数としてモデルを予測していく\n",
    "\n",
    "    regular_data->season_statistics->\n",
    "\n",
    "    以下の前処理をする\n",
    "\n",
    "2. データ２倍にかさまし\n",
    "3. regularに対して特徴量の追加\n",
    "    各チームごとに加えるもの\n",
    "   - EFFG: フィールドゴール成功率\n",
    "   - EFFG3: フィールドゴール3p成功率\n",
    "   - DARE: フィールドゴールにおける3P率\n",
    "   - \"win\"を目的変数とする(Team, Season)のロジスティック回帰した各係数\n",
    "    対戦カードごとに加える特徴量\n",
    "    - PointDiff: ポイント差\n",
    "    - win: 1 if PointDiff>0 else 0\n",
    "4. (Team, Season)ごとに特徴量season_statixtics追加\n",
    "    - win_ratio_14d\n",
    "    - box score mean\n",
    "    - quality\n",
    "    - seed\n",
    "5. season_average.enabled=trueなら直近３シーズンの加重平均の処理加える\n",
    "6. tourneyをteamID, Season, score(y)のみ取り出してこれに対してseason_statisticsの結合と特徴量微調整\n",
    "   - seed->seeddiff\n",
    "   - fillna()\n",
    "\n",
    "7. モデル構築\n",
    "8. KFOLD->OOF予測->spline曲線求めてlogloss算出\n",
    "    - KFOLDによる交差検証（CV）\n",
    "        repeat_cv 回のループで、各反復ごとにKFold（folds_splits個）によりデータを分割し、XGBoostのCVを実行しています。\n",
    "        各foldでの結果（例えば、訓練MAE、検証MAEの平均値や標準偏差）がcv_resultとして得られ、それをxgb_cvリストに格納します。\n",
    "        この段階で重要なのは、各反復での検証用MAEの平均値 (test-mae-mean) の最小値と、そのときのブーストラウンド数です。\n",
    "        それらは後で、最適なイテレーション数 (iteration_counts) として計算され、val_mae にも格納されます。\n",
    "    - OOF予測の流れ\n",
    "\n",
    "        各反復ごとに、新たなKFoldを用いてデータを分割。\n",
    "        各foldごとに、学習データでモデルを訓練し、検証データに対して予測を実施。\n",
    "        すべてのfold分の予測結果を1つの予測配列にまとめ、最後に -30～30 の範囲にクリップしています。\n",
    "        重要な結果\n",
    "\n",
    "        OOF予測結果（oof_preds）自体は後段で別途評価指標に使用できるほか、各反復ごとの予測精度や誤差を算出する際の基礎データ\n",
    "9.  提出フェーズ\n",
    "    - 最適paramで全データ使って訓練\n",
    "    - 提出試合の予測"
   ]
  },
  {
   "cell_type": "markdown",
   "id": "7b13270c",
   "metadata": {
    "papermill": {
     "duration": 0.016748,
     "end_time": "2025-03-14T09:25:53.196556",
     "exception": false,
     "start_time": "2025-03-14T09:25:53.179808",
     "status": "completed"
    },
    "tags": []
   },
   "source": [
    "memo\n",
    "\n",
    "欠損値が発生していいのか検討して保管について考える\n",
    "seedがかけているのはregularに対してseedを与えているから大丈夫。最終的なtourneyには欠損０で追加できているから問題ない"
   ]
  },
  {
   "cell_type": "code",
   "execution_count": 3,
   "id": "4605d327",
   "metadata": {
    "execution": {
     "iopub.execute_input": "2025-03-14T09:25:53.196556Z",
     "iopub.status.busy": "2025-03-14T09:25:53.196556Z",
     "iopub.status.idle": "2025-03-14T09:25:55.379926Z",
     "shell.execute_reply": "2025-03-14T09:25:55.379926Z"
    },
    "papermill": {
     "duration": 2.18337,
     "end_time": "2025-03-14T09:25:55.379926",
     "exception": false,
     "start_time": "2025-03-14T09:25:53.196556",
     "status": "completed"
    },
    "tags": []
   },
   "outputs": [
    {
     "name": "stderr",
     "output_type": "stream",
     "text": [
      "C:\\Users\\81809\\anaconda3\\envs\\deep_learning_pytorch\\Lib\\site-packages\\tqdm\\auto.py:21: TqdmWarning: IProgress not found. Please update jupyter and ipywidgets. See https://ipywidgets.readthedocs.io/en/stable/user_install.html\n",
      "  from .autonotebook import tqdm as notebook_tqdm\n"
     ]
    },
    {
     "name": "stdout",
     "output_type": "stream",
     "text": [
      "exp096\n",
      "Omega conf is below\n",
      "dir:\n",
      "  input_dir: ../input\n",
      "  output_dir: ../output\n",
      "  src_path: ../src\n",
      "  conf_path: ../conf\n",
      "exp:\n",
      "  name: feature_engineering_4\n",
      "  print_name: delete season\n",
      "  tournament:\n",
      "    use_start_season: 1985\n",
      "    target_season: 2019\n",
      "  features:\n",
      "    cal_mean_boxscore:\n",
      "      T1_Score: true\n",
      "      T2_Score: true\n",
      "      PointDiff: true\n",
      "      T1_FGM: true\n",
      "      T2_FGM: true\n",
      "      T1_FGA: true\n",
      "      T2_FGA: true\n",
      "      T1_FGM3: false\n",
      "      T2_FGM3: false\n",
      "      T1_FGA3: false\n",
      "      T2_FGA3: false\n",
      "      T1_FTM: false\n",
      "      T2_FTM: false\n",
      "      T1_FTA: false\n",
      "      T2_FTA: false\n",
      "      T1_EFFG: false\n",
      "      T2_EFFG: false\n",
      "      T1_EFFG3: false\n",
      "      T2_EFFG3: false\n",
      "      T1_EFG_SUM: true\n",
      "      T2_EFG_SUM: true\n",
      "      T1_TO_RATIO: true\n",
      "      T2_TO_RATIO: true\n",
      "      T1_OR: true\n",
      "      T2_OR: true\n",
      "      T1_DR: true\n",
      "      T2_DR: true\n",
      "      T1_REB_RATE: true\n",
      "      T2_REB_RATE: true\n",
      "      T1_FT_RATE: true\n",
      "      T2_FT_RATE: true\n",
      "      T1_RATING: false\n",
      "      T2_RATING: false\n",
      "      T1_POSS_RATE: true\n",
      "      T2_POSS_RATE: true\n",
      "      T1_Ast: true\n",
      "      T2_Ast: true\n",
      "      T1_TO: true\n",
      "      T2_TO: true\n",
      "      T1_Stl: true\n",
      "      T2_Stl: true\n",
      "      T1_Blk: true\n",
      "      T2_Blk: true\n",
      "      T1_PF: true\n",
      "      T2_PF: true\n",
      "      T1_DARE: false\n",
      "      T2_DARE: false\n",
      "      T1_TOQUETOQUE: false\n",
      "      T2_TOQUETOQUE: false\n",
      "    rank_diff: true\n",
      "    start_quality_season: 2003\n",
      "    dropfeatures:\n",
      "    - T1_TOmean\n",
      "    - T2_TOmean\n",
      "    - T1_opponent_POSS_RATEmean\n",
      "    - T2_opponent_POSS_RATEmean\n",
      "    - T1_opponent_Astmean\n",
      "    - T2_opponent_Astmean\n",
      "    - T1_opponent_FT_RATEmean\n",
      "    - T2_opponent_FT_RATEmean\n",
      "    - T1_opponent_Stlmean\n",
      "    - T2_opponent_Stlmean\n",
      "    - T1_ORmean\n",
      "    - T2_ORmean\n",
      "    - T1_opponent_ORmean\n",
      "    - T2_opponent_ORmean\n",
      "    - Season\n",
      "    season_average:\n",
      "      enabled: false\n",
      "      past_years: 3\n",
      "      weights:\n",
      "      - 1\n",
      "      - 2\n",
      "      - 3\n",
      "    fillna:\n",
      "      quality: 'nan'\n",
      "  model:\n",
      "    repeat_cv: 10\n",
      "    optuna_enabled: false\n",
      "    test_reverse: false\n",
      "    xgb_model:\n",
      "      param:\n",
      "        eval_metric: rmse\n",
      "        booster: gbtree\n",
      "        eta: 0.02\n",
      "        subsample: 0.35\n",
      "        colsample_bytree: 0.7\n",
      "        num_parallel_tree: 10\n",
      "        min_child_weight: 40\n",
      "        gamma: 10\n",
      "        max_depth: 3\n",
      "      obj: cauchyoj\n",
      "      num_boost_round: 3000\n",
      "      folds_splits: 5\n",
      "      early_stopping_rounds: 25\n",
      "      optuna:\n",
      "        max_depth:\n",
      "        - 3\n",
      "        - 7\n",
      "        eta:\n",
      "        - 0.001\n",
      "        - 0.03\n",
      "        subsample:\n",
      "        - 0.2\n",
      "        - 0.5\n",
      "        colsample_bytree:\n",
      "        - 0.5\n",
      "        - 1.0\n",
      "        num_parallel_tree:\n",
      "        - 7\n",
      "        - 12\n",
      "        min_child_weight:\n",
      "        - 30\n",
      "        - 50\n",
      "        reg_alpha:\n",
      "        - 0.0\n",
      "        - 1.0\n",
      "        reg_lambda:\n",
      "        - 0.0\n",
      "        - 1.0\n",
      "        gamma:\n",
      "        - 0\n",
      "        - 10\n",
      "        n_trials: 1000\n",
      "        timeout: 28800\n",
      "        n_jobs: -1\n",
      "        n_warmup_steps: 3\n",
      "    spline: logistic\n",
      "  hand_labeling: null\n",
      "\n"
     ]
    }
   ],
   "source": [
    "\n",
    "import os\n",
    "import sys\n",
    "from pathlib import Path\n",
    "import collections\n",
    "from datetime import datetime\n",
    "import shutil\n",
    "import yaml\n",
    "from tqdm import tqdm\n",
    "import time\n",
    "import optuna\n",
    "from loguru import logger\n",
    "import collections\n",
    "\n",
    "from hydra import initialize, initialize_config_module, initialize_config_dir, compose\n",
    "from omegaconf import OmegaConf\n",
    "\n",
    "import numpy as np\n",
    "import pandas as pd\n",
    "import matplotlib.pyplot as plt\n",
    "import seaborn as sns\n",
    "from scipy.interpolate import UnivariateSpline\n",
    "\n",
    "import xgboost as xgb\n",
    "from xgboost import XGBRegressor\n",
    "from sklearn.model_selection import KFold\n",
    "from sklearn.calibration import calibration_curve\n",
    "from sklearn.metrics import log_loss,mean_squared_error, mean_absolute_error, roc_auc_score, average_precision_score\n",
    "from sklearn.metrics import make_scorer\n",
    "from sklearn.model_selection import cross_val_score, KFold\n",
    "from sklearn.linear_model import LogisticRegression\n",
    "from sklearn.preprocessing import OneHotEncoder\n",
    "from sklearn.isotonic import IsotonicRegression\n",
    "\n",
    "import statsmodels.api as sm\n",
    "\n",
    "START_TIME = time.time()\n",
    "\n",
    "\n",
    "#####\n",
    "#EXP_NUM = \"test\"\n",
    "#####\n",
    "print(EXP_NUM)\n",
    "\n",
    "# hydraの初期設定と指定ハイパラの取得\n",
    "sys.path.append(os.path.abspath(\"/workspace\"))\n",
    "sys.path.append(\"C:\\\\Users\\\\81809\\\\Documents\\\\ALL_CODE\\\\kaggle\\\\March Machine Learning Mania 2025\")\n",
    "with initialize_config_module(version_base=None, config_module=\"conf\"):\n",
    "    cfg = compose(\n",
    "        config_name=\"base.yaml\",\n",
    "        overrides=[\n",
    "            f\"+exp={EXP_NUM}\" #defaultexp001->exp002のオーバーライド\n",
    "        ],\n",
    "    )\n",
    "    \n",
    "    OmegaConf.resolve(cfg)\n",
    "    print(\"Omega conf is below\")\n",
    "    print(OmegaConf.to_yaml(cfg))\n"
   ]
  },
  {
   "cell_type": "code",
   "execution_count": 4,
   "id": "91c05f05",
   "metadata": {
    "execution": {
     "iopub.execute_input": "2025-03-14T09:25:55.386064Z",
     "iopub.status.busy": "2025-03-14T09:25:55.386064Z",
     "iopub.status.idle": "2025-03-14T09:25:55.408609Z",
     "shell.execute_reply": "2025-03-14T09:25:55.408609Z"
    },
    "papermill": {
     "duration": 0.0253,
     "end_time": "2025-03-14T09:25:55.411364",
     "exception": false,
     "start_time": "2025-03-14T09:25:55.386064",
     "status": "completed"
    },
    "tags": []
   },
   "outputs": [
    {
     "name": "stdout",
     "output_type": "stream",
     "text": [
      "########\n",
      "output dir name: feature_engineering_4\n",
      "Run on 2025-03-14 18:25:55.386064\n",
      "delete season\n",
      "########\n"
     ]
    }
   ],
   "source": [
    "PREDICT_YEAR = cfg.exp.tournament.target_season\n",
    "name = f\"{cfg.exp.name}\"\n",
    "now = str(datetime.now())\n",
    "print(\"########\")\n",
    "print(f\"output dir name: {name}\")\n",
    "print(f\"Run on {now}\")\n",
    "print(cfg.exp.print_name)\n",
    "print(\"########\")\n",
    "\n",
    "BASE_DIR = os.path.abspath(os.path.join(os.getcwd(), \"..\"))\n",
    "CONF_PATH = os.path.join(BASE_DIR, \"conf\")\n",
    "INPUT_PATH = os.path.join(BASE_DIR, \"input\")\n",
    "EXP_PATH = os.path.join(CONF_PATH, \"exp\", f\"{EXP_NUM}.yaml\")\n",
    "OUTPUT_PATH = os.path.join(BASE_DIR, \"output\", name)\n",
    "SRC_PATH = cfg.dir.src_path\n",
    "sys.path.append(SRC_PATH)\n",
    "\n",
    "os.makedirs(OUTPUT_PATH, exist_ok=True)  \n",
    "with open(EXP_PATH, \"r\", encoding=\"utf-8\") as f:\n",
    "    config = yaml.safe_load(f)\n",
    "shutil.copyfile(EXP_PATH, os.path.join(OUTPUT_PATH, f\"{EXP_NUM}.yaml\"))\n",
    "\n",
    "\n",
    "y_season = cfg.exp.tournament.target_season\n",
    "FEATURES = cfg.exp.features\n",
    "MODEL = cfg.exp.model\n",
    "results = [\"\", f\"-----{PREDICT_YEAR}-----\", now ,name, cfg.exp.print_name,\"\"]"
   ]
  },
  {
   "cell_type": "code",
   "execution_count": 5,
   "id": "23d24915",
   "metadata": {
    "execution": {
     "iopub.execute_input": "2025-03-14T09:25:55.412489Z",
     "iopub.status.busy": "2025-03-14T09:25:55.412489Z",
     "iopub.status.idle": "2025-03-14T09:25:56.864153Z",
     "shell.execute_reply": "2025-03-14T09:25:56.864153Z"
    },
    "papermill": {
     "duration": 1.451664,
     "end_time": "2025-03-14T09:25:56.864153",
     "exception": false,
     "start_time": "2025-03-14T09:25:55.412489",
     "status": "completed"
    },
    "tags": []
   },
   "outputs": [],
   "source": [
    "tourney_results = pd.concat([\n",
    "    pd.read_csv(os.path.join(INPUT_PATH,\"MNCAATourneyDetailedResults.csv\")),\n",
    "    pd.read_csv(os.path.join(INPUT_PATH,\"WNCAATourneyDetailedResults.csv\")),\n",
    "], ignore_index=True)\n",
    "\n",
    "seeds = pd.concat([\n",
    "    pd.read_csv(os.path.join(INPUT_PATH,\"MNCAATourneySeeds.csv\")),\n",
    "    pd.read_csv(os.path.join(INPUT_PATH,\"WNCAATourneySeeds.csv\")),\n",
    "], ignore_index=True)\n",
    "\n",
    "regular_results = pd.concat([\n",
    "    pd.read_csv(os.path.join(INPUT_PATH, \"MRegularSeasonDetailedResults.csv\")),\n",
    "    pd.read_csv(os.path.join(INPUT_PATH,\"WRegularSeasonDetailedResults.csv\")),\n",
    "], ignore_index=True)\n",
    "\n",
    "ordinal_rank = pd.read_csv(os.path.join(INPUT_PATH, \"MMasseyOrdinals.csv\"))\n",
    "\n",
    "# 1試合情報からWin,Lose反転させてデータ数２倍にかさまし and WLoc -> location(0 or -1 or 1)\n",
    "def prepare_data(df1):\n",
    "    df = df1.copy()\n",
    "    ### add new box score\n",
    "    #type1: normal EFG\n",
    "    df['WEFFG'] = df['WFGM'] / df['WFGA']\n",
    "    df['LEFFG'] = df['LFGM'] / df['LFGA']\n",
    "    #type2: 1stfeature EFG\n",
    "    df['WEFFG3'] = np.where(df['WFGA3'] == 0, 0, df['WFGM3'] / df['WFGA3'])\n",
    "    df['LEFFG3'] = np.where(df['LFGA3'] == 0, 0, df['LFGM3'] / df['LFGA3'])\n",
    "    df['WDARE'] = df['WFGM3'] / df['WFGM']\n",
    "    df['LDARE'] = df['LFGM3'] / df['LFGM']\n",
    "    df['WTOQUETOQUE'] = df['WAst'] / df['WFGM']\n",
    "    df['LTOQUETOQUE'] = df['LAst'] / df['LFGM']\n",
    "    #type3: OFF/DEF FGE\n",
    "    df[\"WEFG_SUM\"] = (df[\"WFGM\"]+0.5*df[\"WFGM3\"])/df[\"WFGA\"]\n",
    "    df[\"LEFG_SUM\"] = (df[\"LFGM\"]+0.5*df[\"LFGM3\"])/df[\"LFGA\"]\n",
    "\n",
    "    #POSS RATE\n",
    "    df[\"WPOSS\"] = df[\"WFGA\"] + 0.44*df[\"WFTA\"] - df[\"WOR\"] + df[\"WTO\"]\n",
    "    df[\"LPOSS\"] = df[\"LFGA\"] + 0.44*df[\"LFTA\"] - df[\"LOR\"] + df[\"LTO\"]\n",
    "    df[\"WPOSS_RATE\"] = df[\"WPOSS\"]/(df[\"WPOSS\"]+df[\"LPOSS\"])\n",
    "    df[\"LPOSS_RATE\"] = df[\"LPOSS\"]/(df[\"WPOSS\"]+df[\"LPOSS\"])\n",
    "    \n",
    "    #TO Ratio \n",
    "    df[\"WTO_RATIO\"] = df[\"WTO\"]/(df[\"WFGA\"]+0.44*df[\"WFTA\"]+df[\"WTO\"])#POSS RATEと違ってOR入っていない\n",
    "    df[\"LTO_RATIO\"] = df[\"LTO\"]/(df[\"LFGA\"]+0.44*df[\"LFTA\"]+df[\"LTO\"])\n",
    "    \n",
    "    # REB%\n",
    "    df[\"WREB_RATE\"] = df[\"WOR\"]/(df[\"WOR\"]+df[\"LDR\"])\n",
    "    df[\"LREB_RATE\"] = df[\"LOR\"]/(df[\"LOR\"]+df[\"WDR\"])\n",
    "    \n",
    "    #FT %\n",
    "    df[\"WFT_RATE\"] = df[\"WFTA\"]/df[\"WFGA\"]\n",
    "    df[\"LFT_RATE\"] = df[\"LFTA\"]/df[\"LFGA\"]\n",
    "    \n",
    "    #rating\n",
    "    df[\"WRATING\"] = df[\"WScore\"]/df[\"WPOSS\"]\n",
    "    df[\"LRATING\"] = df[\"LScore\"]/df[\"LPOSS\"]\n",
    "        \n",
    "    #0除算補完\n",
    "    print(df.info())\n",
    "        \n",
    "    #かさましに伴う反転カラム\n",
    "    dfswap = df.copy()\n",
    "    # Home, Away変換して反転\n",
    "    dfswap.loc[df['WLoc'] == 'H', 'WLoc'] = 'A'\n",
    "    dfswap.loc[df['WLoc'] == 'A', 'WLoc'] = 'H'\n",
    "    df.columns.values[6] = 'location'\n",
    "    dfswap.columns.values[6] = 'location'    \n",
    "    #反転\n",
    "    df.columns = [x.replace('W','T1_').replace('L','T2_') for x in list(df.columns)]\n",
    "    dfswap.columns = [x.replace('L','T1_').replace('W','T2_') for x in list(dfswap.columns)]\n",
    "    output = pd.concat([df, dfswap]).reset_index(drop=True)\n",
    "    \n",
    "    \n",
    "    #add new feature\n",
    "    #locationを数値に変換\n",
    "    output.loc[output.location=='N','location'] = '0'\n",
    "    output.loc[output.location=='H','location'] = '1'\n",
    "    output.loc[output.location=='A','location'] = '-1'\n",
    "    output.location = output.location.astype(int)\n",
    "    \n",
    "    #add PointDiff&win\n",
    "    output['PointDiff'] = output['T1_Score'] - output['T2_Score']\n",
    "    output[\"win\"] = np.where(output['PointDiff']>0,1,0)\n",
    "    \n",
    "    \n",
    "    print(f\"feature cols after prepare()\")\n",
    "    print(output.columns)\n",
    "    return output\n",
    "\n"
   ]
  },
  {
   "cell_type": "code",
   "execution_count": 6,
   "id": "2381a4b9",
   "metadata": {
    "execution": {
     "iopub.execute_input": "2025-03-14T09:25:56.883606Z",
     "iopub.status.busy": "2025-03-14T09:25:56.883606Z",
     "iopub.status.idle": "2025-03-14T09:25:56.938093Z",
     "shell.execute_reply": "2025-03-14T09:25:56.938093Z"
    },
    "papermill": {
     "duration": 0.07394,
     "end_time": "2025-03-14T09:25:56.938093",
     "exception": false,
     "start_time": "2025-03-14T09:25:56.864153",
     "status": "completed"
    },
    "tags": []
   },
   "outputs": [
    {
     "name": "stdout",
     "output_type": "stream",
     "text": [
      "各カラムの異常値の個数を表示します。\n",
      "\n"
     ]
    }
   ],
   "source": [
    "import numpy as np\n",
    "\n",
    "# 異常値のチェック\n",
    "def check_abnormal_values(df):\n",
    "    print(\"各カラムの異常値の個数を表示します。\\n\")\n",
    "\n",
    "    for col in df.columns:\n",
    "        nan_count = df[col].isna().sum()  # NaN の数\n",
    "        inf_count = (df[col] == np.inf).sum()  # inf の数\n",
    "        neg_inf_count = (df[col] == -np.inf).sum()  # -inf の数\n",
    "\n",
    "        if nan_count > 0 or inf_count > 0 or neg_inf_count > 0:\n",
    "            print(f\"Column: {col}\")\n",
    "            print(f\"  NaN    : {nan_count}\")\n",
    "            print(f\"  Inf    : {inf_count}\")\n",
    "            print(f\"  -Inf   : {neg_inf_count}\")\n",
    "            print(\"-\" * 30)\n",
    "\n",
    "# 関数を実行\n",
    "check_abnormal_values(regular_results)\n"
   ]
  },
  {
   "cell_type": "code",
   "execution_count": 7,
   "id": "f68736aa",
   "metadata": {
    "execution": {
     "iopub.execute_input": "2025-03-14T09:25:56.944951Z",
     "iopub.status.busy": "2025-03-14T09:25:56.944951Z",
     "iopub.status.idle": "2025-03-14T09:25:57.339470Z",
     "shell.execute_reply": "2025-03-14T09:25:57.339470Z"
    },
    "papermill": {
     "duration": 0.394519,
     "end_time": "2025-03-14T09:25:57.339470",
     "exception": false,
     "start_time": "2025-03-14T09:25:56.944951",
     "status": "completed"
    },
    "tags": []
   },
   "outputs": [
    {
     "name": "stdout",
     "output_type": "stream",
     "text": [
      "<class 'pandas.core.frame.DataFrame'>\n",
      "Index: 139193 entries, 0 to 170137\n",
      "Data columns (total 56 columns):\n",
      " #   Column       Non-Null Count   Dtype  \n",
      "---  ------       --------------   -----  \n",
      " 0   Season       139193 non-null  int64  \n",
      " 1   DayNum       139193 non-null  int64  \n",
      " 2   WTeamID      139193 non-null  int64  \n",
      " 3   WScore       139193 non-null  int64  \n",
      " 4   LTeamID      139193 non-null  int64  \n",
      " 5   LScore       139193 non-null  int64  \n",
      " 6   WLoc         139193 non-null  object \n",
      " 7   NumOT        139193 non-null  int64  \n",
      " 8   WFGM         139193 non-null  int64  \n",
      " 9   WFGA         139193 non-null  int64  \n",
      " 10  WFGM3        139193 non-null  int64  \n",
      " 11  WFGA3        139193 non-null  int64  \n",
      " 12  WFTM         139193 non-null  int64  \n",
      " 13  WFTA         139193 non-null  int64  \n",
      " 14  WOR          139193 non-null  int64  \n",
      " 15  WDR          139193 non-null  int64  \n",
      " 16  WAst         139193 non-null  int64  \n",
      " 17  WTO          139193 non-null  int64  \n",
      " 18  WStl         139193 non-null  int64  \n",
      " 19  WBlk         139193 non-null  int64  \n",
      " 20  WPF          139193 non-null  int64  \n",
      " 21  LFGM         139193 non-null  int64  \n",
      " 22  LFGA         139193 non-null  int64  \n",
      " 23  LFGM3        139193 non-null  int64  \n",
      " 24  LFGA3        139193 non-null  int64  \n",
      " 25  LFTM         139193 non-null  int64  \n",
      " 26  LFTA         139193 non-null  int64  \n",
      " 27  LOR          139193 non-null  int64  \n",
      " 28  LDR          139193 non-null  int64  \n",
      " 29  LAst         139193 non-null  int64  \n",
      " 30  LTO          139193 non-null  int64  \n",
      " 31  LStl         139193 non-null  int64  \n",
      " 32  LBlk         139193 non-null  int64  \n",
      " 33  LPF          139193 non-null  int64  \n",
      " 34  WEFFG        139193 non-null  float64\n",
      " 35  LEFFG        139193 non-null  float64\n",
      " 36  WEFFG3       139193 non-null  float64\n",
      " 37  LEFFG3       139193 non-null  float64\n",
      " 38  WDARE        139193 non-null  float64\n",
      " 39  LDARE        139193 non-null  float64\n",
      " 40  WTOQUETOQUE  139193 non-null  float64\n",
      " 41  LTOQUETOQUE  139193 non-null  float64\n",
      " 42  WEFG_SUM     139193 non-null  float64\n",
      " 43  LEFG_SUM     139193 non-null  float64\n",
      " 44  WPOSS        139193 non-null  float64\n",
      " 45  LPOSS        139193 non-null  float64\n",
      " 46  WPOSS_RATE   139193 non-null  float64\n",
      " 47  LPOSS_RATE   139193 non-null  float64\n",
      " 48  WTO_RATIO    139193 non-null  float64\n",
      " 49  LTO_RATIO    139193 non-null  float64\n",
      " 50  WREB_RATE    139193 non-null  float64\n",
      " 51  LREB_RATE    139193 non-null  float64\n",
      " 52  WFT_RATE     139193 non-null  float64\n",
      " 53  LFT_RATE     139193 non-null  float64\n",
      " 54  WRATING      139193 non-null  float64\n",
      " 55  LRATING      139193 non-null  float64\n",
      "dtypes: float64(22), int64(33), object(1)\n",
      "memory usage: 60.5+ MB\n",
      "None\n"
     ]
    },
    {
     "name": "stdout",
     "output_type": "stream",
     "text": [
      "feature cols after prepare()\n",
      "Index(['Season', 'DayNum', 'T1_TeamID', 'T1_Score', 'T2_TeamID', 'T2_Score',\n",
      "       'location', 'NumOT', 'T1_FGM', 'T1_FGA', 'T1_FGM3', 'T1_FGA3', 'T1_FTM',\n",
      "       'T1_FTA', 'T1_OR', 'T1_DR', 'T1_Ast', 'T1_TO', 'T1_Stl', 'T1_Blk',\n",
      "       'T1_PF', 'T2_FGM', 'T2_FGA', 'T2_FGM3', 'T2_FGA3', 'T2_FTM', 'T2_FTA',\n",
      "       'T2_OR', 'T2_DR', 'T2_Ast', 'T2_TO', 'T2_Stl', 'T2_Blk', 'T2_PF',\n",
      "       'T1_EFFG', 'T2_EFFG', 'T1_EFFG3', 'T2_EFFG3', 'T1_DARE', 'T2_DARE',\n",
      "       'T1_TOQUETOQUE', 'T2_TOQUETOQUE', 'T1_EFG_SUM', 'T2_EFG_SUM', 'T1_POSS',\n",
      "       'T2_POSS', 'T1_POSS_RATE', 'T2_POSS_RATE', 'T1_TO_RATIO', 'T2_TO_RATIO',\n",
      "       'T1_REB_RATE', 'T2_REB_RATE', 'T1_FT_RATE', 'T2_FT_RATE', 'T1_RATING',\n",
      "       'T2_RATING', 'PointDiff', 'win'],\n",
      "      dtype='object')\n",
      "<class 'pandas.core.frame.DataFrame'>\n",
      "RangeIndex: 278386 entries, 0 to 278385\n",
      "Data columns (total 58 columns):\n",
      " #   Column         Non-Null Count   Dtype  \n",
      "---  ------         --------------   -----  \n",
      " 0   Season         278386 non-null  int64  \n",
      " 1   DayNum         278386 non-null  int64  \n",
      " 2   T1_TeamID      278386 non-null  int64  \n",
      " 3   T1_Score       278386 non-null  int64  \n",
      " 4   T2_TeamID      278386 non-null  int64  \n",
      " 5   T2_Score       278386 non-null  int64  \n",
      " 6   location       278386 non-null  int32  \n",
      " 7   NumOT          278386 non-null  int64  \n",
      " 8   T1_FGM         278386 non-null  int64  \n",
      " 9   T1_FGA         278386 non-null  int64  \n",
      " 10  T1_FGM3        278386 non-null  int64  \n",
      " 11  T1_FGA3        278386 non-null  int64  \n",
      " 12  T1_FTM         278386 non-null  int64  \n",
      " 13  T1_FTA         278386 non-null  int64  \n",
      " 14  T1_OR          278386 non-null  int64  \n",
      " 15  T1_DR          278386 non-null  int64  \n",
      " 16  T1_Ast         278386 non-null  int64  \n",
      " 17  T1_TO          278386 non-null  int64  \n",
      " 18  T1_Stl         278386 non-null  int64  \n",
      " 19  T1_Blk         278386 non-null  int64  \n",
      " 20  T1_PF          278386 non-null  int64  \n",
      " 21  T2_FGM         278386 non-null  int64  \n",
      " 22  T2_FGA         278386 non-null  int64  \n",
      " 23  T2_FGM3        278386 non-null  int64  \n",
      " 24  T2_FGA3        278386 non-null  int64  \n",
      " 25  T2_FTM         278386 non-null  int64  \n",
      " 26  T2_FTA         278386 non-null  int64  \n",
      " 27  T2_OR          278386 non-null  int64  \n",
      " 28  T2_DR          278386 non-null  int64  \n",
      " 29  T2_Ast         278386 non-null  int64  \n",
      " 30  T2_TO          278386 non-null  int64  \n",
      " 31  T2_Stl         278386 non-null  int64  \n",
      " 32  T2_Blk         278386 non-null  int64  \n",
      " 33  T2_PF          278386 non-null  int64  \n",
      " 34  T1_EFFG        278386 non-null  float64\n",
      " 35  T2_EFFG        278386 non-null  float64\n",
      " 36  T1_EFFG3       278386 non-null  float64\n",
      " 37  T2_EFFG3       278386 non-null  float64\n",
      " 38  T1_DARE        278386 non-null  float64\n",
      " 39  T2_DARE        278386 non-null  float64\n",
      " 40  T1_TOQUETOQUE  278386 non-null  float64\n",
      " 41  T2_TOQUETOQUE  278386 non-null  float64\n",
      " 42  T1_EFG_SUM     278386 non-null  float64\n",
      " 43  T2_EFG_SUM     278386 non-null  float64\n",
      " 44  T1_POSS        278386 non-null  float64\n",
      " 45  T2_POSS        278386 non-null  float64\n",
      " 46  T1_POSS_RATE   278386 non-null  float64\n",
      " 47  T2_POSS_RATE   278386 non-null  float64\n",
      " 48  T1_TO_RATIO    278386 non-null  float64\n",
      " 49  T2_TO_RATIO    278386 non-null  float64\n",
      " 50  T1_REB_RATE    278386 non-null  float64\n",
      " 51  T2_REB_RATE    278386 non-null  float64\n",
      " 52  T1_FT_RATE     278386 non-null  float64\n",
      " 53  T2_FT_RATE     278386 non-null  float64\n",
      " 54  T1_RATING      278386 non-null  float64\n",
      " 55  T2_RATING      278386 non-null  float64\n",
      " 56  PointDiff      278386 non-null  int64  \n",
      " 57  win            278386 non-null  int32  \n",
      "dtypes: float64(22), int32(2), int64(34)\n",
      "memory usage: 121.1 MB\n"
     ]
    },
    {
     "data": {
      "text/html": [
       "<div>\n",
       "<style scoped>\n",
       "    .dataframe tbody tr th:only-of-type {\n",
       "        vertical-align: middle;\n",
       "    }\n",
       "\n",
       "    .dataframe tbody tr th {\n",
       "        vertical-align: top;\n",
       "    }\n",
       "\n",
       "    .dataframe thead th {\n",
       "        text-align: right;\n",
       "    }\n",
       "</style>\n",
       "<table border=\"1\" class=\"dataframe\">\n",
       "  <thead>\n",
       "    <tr style=\"text-align: right;\">\n",
       "      <th></th>\n",
       "      <th>Season</th>\n",
       "      <th>DayNum</th>\n",
       "      <th>T1_TeamID</th>\n",
       "      <th>T1_Score</th>\n",
       "      <th>T2_TeamID</th>\n",
       "      <th>T2_Score</th>\n",
       "      <th>location</th>\n",
       "      <th>NumOT</th>\n",
       "      <th>T1_FGM</th>\n",
       "      <th>T1_FGA</th>\n",
       "      <th>...</th>\n",
       "      <th>T1_TO_RATIO</th>\n",
       "      <th>T2_TO_RATIO</th>\n",
       "      <th>T1_REB_RATE</th>\n",
       "      <th>T2_REB_RATE</th>\n",
       "      <th>T1_FT_RATE</th>\n",
       "      <th>T2_FT_RATE</th>\n",
       "      <th>T1_RATING</th>\n",
       "      <th>T2_RATING</th>\n",
       "      <th>PointDiff</th>\n",
       "      <th>win</th>\n",
       "    </tr>\n",
       "  </thead>\n",
       "  <tbody>\n",
       "    <tr>\n",
       "      <th>0</th>\n",
       "      <td>2003</td>\n",
       "      <td>10</td>\n",
       "      <td>1104</td>\n",
       "      <td>68</td>\n",
       "      <td>1328</td>\n",
       "      <td>62</td>\n",
       "      <td>0</td>\n",
       "      <td>0</td>\n",
       "      <td>27</td>\n",
       "      <td>58</td>\n",
       "      <td>...</td>\n",
       "      <td>0.258659</td>\n",
       "      <td>0.223104</td>\n",
       "      <td>0.388889</td>\n",
       "      <td>0.294118</td>\n",
       "      <td>0.310345</td>\n",
       "      <td>0.415094</td>\n",
       "      <td>0.907635</td>\n",
       "      <td>0.877193</td>\n",
       "      <td>6</td>\n",
       "      <td>1</td>\n",
       "    </tr>\n",
       "    <tr>\n",
       "      <th>1</th>\n",
       "      <td>2003</td>\n",
       "      <td>10</td>\n",
       "      <td>1272</td>\n",
       "      <td>70</td>\n",
       "      <td>1393</td>\n",
       "      <td>63</td>\n",
       "      <td>0</td>\n",
       "      <td>0</td>\n",
       "      <td>26</td>\n",
       "      <td>62</td>\n",
       "      <td>...</td>\n",
       "      <td>0.155950</td>\n",
       "      <td>0.136674</td>\n",
       "      <td>0.375000</td>\n",
       "      <td>0.416667</td>\n",
       "      <td>0.306452</td>\n",
       "      <td>0.298507</td>\n",
       "      <td>1.023991</td>\n",
       "      <td>0.929204</td>\n",
       "      <td>7</td>\n",
       "      <td>1</td>\n",
       "    </tr>\n",
       "    <tr>\n",
       "      <th>2</th>\n",
       "      <td>2003</td>\n",
       "      <td>11</td>\n",
       "      <td>1266</td>\n",
       "      <td>73</td>\n",
       "      <td>1437</td>\n",
       "      <td>61</td>\n",
       "      <td>0</td>\n",
       "      <td>0</td>\n",
       "      <td>24</td>\n",
       "      <td>58</td>\n",
       "      <td>...</td>\n",
       "      <td>0.123824</td>\n",
       "      <td>0.126156</td>\n",
       "      <td>0.435897</td>\n",
       "      <td>0.543860</td>\n",
       "      <td>0.500000</td>\n",
       "      <td>0.315068</td>\n",
       "      <td>1.144918</td>\n",
       "      <td>0.951341</td>\n",
       "      <td>12</td>\n",
       "      <td>1</td>\n",
       "    </tr>\n",
       "    <tr>\n",
       "      <th>3</th>\n",
       "      <td>2003</td>\n",
       "      <td>11</td>\n",
       "      <td>1296</td>\n",
       "      <td>56</td>\n",
       "      <td>1457</td>\n",
       "      <td>50</td>\n",
       "      <td>0</td>\n",
       "      <td>0</td>\n",
       "      <td>18</td>\n",
       "      <td>38</td>\n",
       "      <td>...</td>\n",
       "      <td>0.188561</td>\n",
       "      <td>0.254692</td>\n",
       "      <td>0.230769</td>\n",
       "      <td>0.472222</td>\n",
       "      <td>0.815789</td>\n",
       "      <td>0.306122</td>\n",
       "      <td>0.971548</td>\n",
       "      <td>0.868056</td>\n",
       "      <td>6</td>\n",
       "      <td>1</td>\n",
       "    </tr>\n",
       "    <tr>\n",
       "      <th>4</th>\n",
       "      <td>2003</td>\n",
       "      <td>11</td>\n",
       "      <td>1400</td>\n",
       "      <td>77</td>\n",
       "      <td>1208</td>\n",
       "      <td>71</td>\n",
       "      <td>0</td>\n",
       "      <td>0</td>\n",
       "      <td>30</td>\n",
       "      <td>61</td>\n",
       "      <td>...</td>\n",
       "      <td>0.173439</td>\n",
       "      <td>0.119218</td>\n",
       "      <td>0.531250</td>\n",
       "      <td>0.488372</td>\n",
       "      <td>0.213115</td>\n",
       "      <td>0.435484</td>\n",
       "      <td>1.208412</td>\n",
       "      <td>1.129135</td>\n",
       "      <td>6</td>\n",
       "      <td>1</td>\n",
       "    </tr>\n",
       "  </tbody>\n",
       "</table>\n",
       "<p>5 rows × 58 columns</p>\n",
       "</div>"
      ],
      "text/plain": [
       "   Season  DayNum  T1_TeamID  T1_Score  T2_TeamID  T2_Score  location  NumOT  \\\n",
       "0    2003      10       1104        68       1328        62         0      0   \n",
       "1    2003      10       1272        70       1393        63         0      0   \n",
       "2    2003      11       1266        73       1437        61         0      0   \n",
       "3    2003      11       1296        56       1457        50         0      0   \n",
       "4    2003      11       1400        77       1208        71         0      0   \n",
       "\n",
       "   T1_FGM  T1_FGA  ...  T1_TO_RATIO  T2_TO_RATIO  T1_REB_RATE  T2_REB_RATE  \\\n",
       "0      27      58  ...     0.258659     0.223104     0.388889     0.294118   \n",
       "1      26      62  ...     0.155950     0.136674     0.375000     0.416667   \n",
       "2      24      58  ...     0.123824     0.126156     0.435897     0.543860   \n",
       "3      18      38  ...     0.188561     0.254692     0.230769     0.472222   \n",
       "4      30      61  ...     0.173439     0.119218     0.531250     0.488372   \n",
       "\n",
       "   T1_FT_RATE  T2_FT_RATE  T1_RATING  T2_RATING  PointDiff  win  \n",
       "0    0.310345    0.415094   0.907635   0.877193          6    1  \n",
       "1    0.306452    0.298507   1.023991   0.929204          7    1  \n",
       "2    0.500000    0.315068   1.144918   0.951341         12    1  \n",
       "3    0.815789    0.306122   0.971548   0.868056          6    1  \n",
       "4    0.213115    0.435484   1.208412   1.129135          6    1  \n",
       "\n",
       "[5 rows x 58 columns]"
      ]
     },
     "metadata": {},
     "output_type": "display_data"
    },
    {
     "data": {
      "text/plain": [
       "None"
      ]
     },
     "metadata": {},
     "output_type": "display_data"
    }
   ],
   "source": [
    "#予測する年以降の情報はフィルタリング\n",
    "USE_START_YEAR = cfg.exp.tournament.use_start_season\n",
    "notexist = tourney_results[tourney_results[\"Season\"] == PREDICT_YEAR]\n",
    "tourney_results = tourney_results[(tourney_results[\"Season\"] >= USE_START_YEAR) & (tourney_results[\"Season\"] < PREDICT_YEAR)]\n",
    "seeds = seeds[(seeds[\"Season\"] >= USE_START_YEAR) & (seeds[\"Season\"] <= PREDICT_YEAR)]\n",
    "regular_results = regular_results[(regular_results[\"Season\"] >= USE_START_YEAR) & (regular_results[\"Season\"] <= PREDICT_YEAR)]\n",
    "\n",
    "regular_data = prepare_data(regular_results)\n",
    "display(regular_data.head(), regular_data.info())"
   ]
  },
  {
   "cell_type": "code",
   "execution_count": 8,
   "id": "ccae4c98",
   "metadata": {
    "execution": {
     "iopub.execute_input": "2025-03-14T09:25:57.354592Z",
     "iopub.status.busy": "2025-03-14T09:25:57.354592Z",
     "iopub.status.idle": "2025-03-14T09:25:57.368062Z",
     "shell.execute_reply": "2025-03-14T09:25:57.368062Z"
    },
    "papermill": {
     "duration": 0.020469,
     "end_time": "2025-03-14T09:25:57.368062",
     "exception": false,
     "start_time": "2025-03-14T09:25:57.347593",
     "status": "completed"
    },
    "tags": []
   },
   "outputs": [],
   "source": [
    "#使用特徴量(boxscore_cols)を取得してそれに対して(\"Season\", 'T1_TeamID')でまとめた特徴量の追加\n",
    "#### 1. win_ration_14d ####\n",
    "def add_win_ratio_14d(df):\n",
    "    df_filtered = df[df['DayNum'] > 118].copy()\n",
    "    df_filtered['Win'] = (df_filtered['PointDiff'] > 0).astype(int)\n",
    "    \n",
    "    win_ratio_t1 = df_filtered.groupby(['Season', 'T1_TeamID'])['Win'].mean().reset_index()\n",
    "    win_ratio_t1.rename(columns={'Win': 'T1_win_ratio_14d'}, inplace=True)\n",
    "    \n",
    "    win_ratio_t2 = df_filtered.groupby(['Season', 'T2_TeamID'])['Win'].mean().reset_index()\n",
    "    win_ratio_t2.rename(columns={'Win': 'T2_win_ratio_14d'}, inplace=True)\n",
    "    \n",
    "    df = df.merge(win_ratio_t1, on=['Season', 'T1_TeamID'], how='left')\n",
    "    df = df.merge(win_ratio_t2, on=['Season', 'T2_TeamID'], how='left')\n",
    "    \n",
    "    return df\n",
    "\n",
    "##### 2. add mean of boxscore ####\n",
    "def make_col_avg(df, boxscore, group = [\"Season\", \"T1_TeamID\"], func= [np.mean]):\n",
    "    df_stat = df.groupby(group)[boxscore].agg(func)\n",
    "    df_stat.columns = [''.join(col).strip() for col in df_stat.columns.values]\n",
    "    df_stat = df_stat.reset_index()\n",
    "\n",
    "    win_ratio_cols = ['T1_win_ratio_14d'] #ここマージの関係からT2_win_ratio_14dを外したけど大丈夫か考える\n",
    "    df_win_ratio = df[group + win_ratio_cols].drop_duplicates()\n",
    "    df_stat = df_stat.merge(df_win_ratio, on=group, how='left')\n",
    "    \n",
    "    return df_stat\n",
    "\n",
    "#### 3. add team quality ####\n",
    "# 3.0 ロジスティックを行うためのregular_season_effectsデータフレームの作成\n",
    "def make_regular_season_effects(df):\n",
    "    regular_season_effects = df[['Season', 'T1_TeamID', 'T2_TeamID', 'PointDiff']].copy()\n",
    "    regular_season_effects['win'] = np.where(regular_season_effects['PointDiff'] > 0, 1, 0)\n",
    "    return regular_season_effects\n",
    "\n",
    "# 3.1\n",
    "#各シーズンごとの総当たりに対するロジスティック回帰を行う\n",
    "#目的変数はfeatureenginneringから作成したPointDiffの正負に依存するWinとする.\n",
    "#新たな特徴量\"quarity\"をseasonごとの戦績をもとにロジスティックの回帰係数として導入している\n",
    "def team_quality(season,df):\n",
    "    season_data = df[df[\"Season\"] == season]\n",
    "    X = season_data[['T1_TeamID', 'T2_TeamID']]\n",
    "    y = season_data['win']\n",
    "    print(X.shape, y.shape)\n",
    "    encoder = OneHotEncoder(sparse_output=False) #多重共線性防止, 密行列指定\n",
    "    X_encoded = encoder.fit_transform(X)\n",
    "    \n",
    "    model = LogisticRegression(fit_intercept=False)\n",
    "    model.fit(X_encoded, y)\n",
    "    team_ids = encoder.get_feature_names_out(['T1_TeamID', 'T2_TeamID'])\n",
    "\n",
    "    \n",
    "    #quarity: (チーム数)*2(ID, 回帰係数)\n",
    "    quality = pd.DataFrame({\n",
    "        'TeamID': team_ids,\n",
    "        'quality': model.coef_.flatten() #T1_TeamID_1112,,,の形でチーム数分の回帰係数が入る\n",
    "    })\n",
    "\n",
    "    # 値をint 1112 のように整形\n",
    "    quality = quality[quality['TeamID'].str.contains('T1_TeamID')]\n",
    "    quality['TeamID'] = quality['TeamID'].str.replace('T1_TeamID_', '', regex=True).astype(int)\n",
    "    quality['Season'] = season\n",
    "\n",
    "    #display(quality.head())\n",
    "    print(f\"fin make {season}'s team quarity\")\n",
    "    return quality\n",
    "\n",
    "# 4. add seed\n",
    "def add_seed(df, seeds):\n",
    "    temp = seeds.copy()\n",
    "    temp['Seed'] = temp['Seed'].apply(lambda x: int(x[1:3]))\n",
    "    temp.columns = ['Season','T1_seed','T1_TeamID']\n",
    "    df = pd.merge(df, temp, on=[\"Season\", \"T1_TeamID\"], how=\"left\")\n",
    "    return df \n",
    "\n",
    "# 5. add Ordinal rank\n",
    "def add_ordinalrank(df, ordinal):\n",
    "    df_rank = ordinal.groupby([\"Season\", \"TeamID\"])[\"OrdinalRank\"].agg(np.mean).reset_index()\n",
    "    df_rank.head()\n",
    "    ranks = df_rank.rename(columns={'TeamID': 'T1_TeamID', 'OrdinalRank': 'T1_OrdinalRank'})\n",
    "    df = pd.merge(df,ranks,on = [\"Season\",\"T1_TeamID\"],how = \"left\")\n",
    "    return df\n",
    "\n",
    "# main \n",
    "def make_season_statistics(df, boxscore, seeds, func = [np.mean]):\n",
    "    # 1. Win Ratio の計算と追加\n",
    "    add_win = add_win_ratio_14d(df)\n",
    "    print(\"after add win ratio\")\n",
    "    print(add_win.columns)  \n",
    "    \n",
    "    #2. \n",
    "    add_mean = make_col_avg(add_win, boxscore)\n",
    "    print(\"after mean of boxscore\")\n",
    "    print(add_mean.columns)\n",
    "    \n",
    "    #3. \n",
    "    global PREDICT_YEAR, USE_START_YEAR\n",
    "    start_season = max(FEATURES.start_quality_season, USE_START_YEAR)\n",
    "    print(f\"use season for quality feature is: {start_season}\")\n",
    "    regular_season_effects = make_regular_season_effects(df)\n",
    "    glm_season = [i for i in range(start_season, PREDICT_YEAR+1)]\n",
    "\n",
    "    if 2020 in glm_season:\n",
    "        glm_season.remove(2020)\n",
    "    glm_quality = pd.concat([team_quality(season, regular_season_effects) for season in glm_season]).reset_index(drop=True)\n",
    "    # add glm quality \n",
    "    glm_quality_T1 = glm_quality.rename(columns={'TeamID': 'T1_TeamID', 'quality': 'T1_quality'})\n",
    "    add_glm = add_mean.merge(glm_quality_T1, on=['Season', 'T1_TeamID'], how='left')\n",
    "\n",
    "    print(\"add glm quality\")\n",
    "    print(add_glm.columns)\n",
    "    \n",
    "    #4. \n",
    "    add_seeds = add_seed(add_glm, seeds)\n",
    "    print(\"add seeds (final form)\")\n",
    "    print(add_seeds.columns)\n",
    "    \n",
    "    #5. \n",
    "    add_rank = add_ordinalrank(add_seeds, ordinal_rank)\n",
    "    print(\"add ordinal rank\")\n",
    "    print(add_rank.columns)  \n",
    "    return add_rank"
   ]
  },
  {
   "cell_type": "code",
   "execution_count": 9,
   "id": "85740a6f",
   "metadata": {
    "execution": {
     "iopub.execute_input": "2025-03-14T09:25:57.379404Z",
     "iopub.status.busy": "2025-03-14T09:25:57.379404Z",
     "iopub.status.idle": "2025-03-14T09:26:00.234869Z",
     "shell.execute_reply": "2025-03-14T09:26:00.234869Z"
    },
    "papermill": {
     "duration": 2.868814,
     "end_time": "2025-03-14T09:26:00.236876",
     "exception": false,
     "start_time": "2025-03-14T09:25:57.368062",
     "status": "completed"
    },
    "tags": []
   },
   "outputs": [
    {
     "name": "stdout",
     "output_type": "stream",
     "text": [
      "use boxscore col is\n",
      "['T1_Score', 'T2_Score', 'PointDiff', 'T1_FGM', 'T2_FGM', 'T1_FGA', 'T2_FGA', 'T1_EFG_SUM', 'T2_EFG_SUM', 'T1_TO_RATIO', 'T2_TO_RATIO', 'T1_OR', 'T2_OR', 'T1_DR', 'T2_DR', 'T1_REB_RATE', 'T2_REB_RATE', 'T1_FT_RATE', 'T2_FT_RATE', 'T1_POSS_RATE', 'T2_POSS_RATE', 'T1_Ast', 'T2_Ast', 'T1_TO', 'T2_TO', 'T1_Stl', 'T2_Stl', 'T1_Blk', 'T2_Blk', 'T1_PF', 'T2_PF']\n"
     ]
    },
    {
     "name": "stdout",
     "output_type": "stream",
     "text": [
      "after add win ratio\n",
      "Index(['Season', 'DayNum', 'T1_TeamID', 'T1_Score', 'T2_TeamID', 'T2_Score',\n",
      "       'location', 'NumOT', 'T1_FGM', 'T1_FGA', 'T1_FGM3', 'T1_FGA3', 'T1_FTM',\n",
      "       'T1_FTA', 'T1_OR', 'T1_DR', 'T1_Ast', 'T1_TO', 'T1_Stl', 'T1_Blk',\n",
      "       'T1_PF', 'T2_FGM', 'T2_FGA', 'T2_FGM3', 'T2_FGA3', 'T2_FTM', 'T2_FTA',\n",
      "       'T2_OR', 'T2_DR', 'T2_Ast', 'T2_TO', 'T2_Stl', 'T2_Blk', 'T2_PF',\n",
      "       'T1_EFFG', 'T2_EFFG', 'T1_EFFG3', 'T2_EFFG3', 'T1_DARE', 'T2_DARE',\n",
      "       'T1_TOQUETOQUE', 'T2_TOQUETOQUE', 'T1_EFG_SUM', 'T2_EFG_SUM', 'T1_POSS',\n",
      "       'T2_POSS', 'T1_POSS_RATE', 'T2_POSS_RATE', 'T1_TO_RATIO', 'T2_TO_RATIO',\n",
      "       'T1_REB_RATE', 'T2_REB_RATE', 'T1_FT_RATE', 'T2_FT_RATE', 'T1_RATING',\n",
      "       'T2_RATING', 'PointDiff', 'win', 'T1_win_ratio_14d',\n",
      "       'T2_win_ratio_14d'],\n",
      "      dtype='object')\n"
     ]
    },
    {
     "name": "stdout",
     "output_type": "stream",
     "text": [
      "after mean of boxscore\n",
      "Index(['Season', 'T1_TeamID', 'T1_Scoremean', 'T2_Scoremean', 'PointDiffmean',\n",
      "       'T1_FGMmean', 'T2_FGMmean', 'T1_FGAmean', 'T2_FGAmean',\n",
      "       'T1_EFG_SUMmean', 'T2_EFG_SUMmean', 'T1_TO_RATIOmean',\n",
      "       'T2_TO_RATIOmean', 'T1_ORmean', 'T2_ORmean', 'T1_DRmean', 'T2_DRmean',\n",
      "       'T1_REB_RATEmean', 'T2_REB_RATEmean', 'T1_FT_RATEmean',\n",
      "       'T2_FT_RATEmean', 'T1_POSS_RATEmean', 'T2_POSS_RATEmean', 'T1_Astmean',\n",
      "       'T2_Astmean', 'T1_TOmean', 'T2_TOmean', 'T1_Stlmean', 'T2_Stlmean',\n",
      "       'T1_Blkmean', 'T2_Blkmean', 'T1_PFmean', 'T2_PFmean',\n",
      "       'T1_win_ratio_14d'],\n",
      "      dtype='object')\n",
      "use season for quality feature is: 2003\n",
      "(9232, 2) (9232,)\n",
      "fin make 2003's team quarity\n",
      "(9142, 2) (9142,)\n",
      "fin make 2004's team quarity\n",
      "(9350, 2) (9350,)\n"
     ]
    },
    {
     "name": "stderr",
     "output_type": "stream",
     "text": [
      "C:\\Users\\81809\\AppData\\Local\\Temp\\ipykernel_8504\\386782032.py:20: FutureWarning: The provided callable <function mean at 0x000001BBF55C6520> is currently using SeriesGroupBy.mean. In a future version of pandas, the provided callable will be used directly. To keep current behavior pass the string \"mean\" instead.\n",
      "  df_stat = df.groupby(group)[boxscore].agg(func)\n"
     ]
    },
    {
     "name": "stdout",
     "output_type": "stream",
     "text": [
      "fin make 2005's team quarity\n",
      "(9514, 2) (9514,)\n"
     ]
    },
    {
     "name": "stdout",
     "output_type": "stream",
     "text": [
      "fin make 2006's team quarity\n",
      "(10086, 2) (10086,)\n",
      "fin make 2007's team quarity\n",
      "(10326, 2) (10326,)\n",
      "fin make 2008's team quarity\n",
      "(10498, 2) (10498,)\n",
      "fin make 2009's team quarity\n",
      "(20600, 2) (20600,)\n"
     ]
    },
    {
     "name": "stdout",
     "output_type": "stream",
     "text": [
      "fin make 2010's team quarity\n",
      "(20660, 2) (20660,)\n",
      "fin make 2011's team quarity\n",
      "(20606, 2) (20606,)\n"
     ]
    },
    {
     "name": "stdout",
     "output_type": "stream",
     "text": [
      "fin make 2012's team quarity\n",
      "(21008, 2) (21008,)\n"
     ]
    },
    {
     "name": "stdout",
     "output_type": "stream",
     "text": [
      "fin make 2013's team quarity\n",
      "(21228, 2) (21228,)\n",
      "fin make 2014's team quarity\n",
      "(21136, 2) (21136,)\n"
     ]
    },
    {
     "name": "stdout",
     "output_type": "stream",
     "text": [
      "fin make 2015's team quarity\n",
      "(21156, 2) (21156,)\n",
      "fin make 2016's team quarity\n",
      "(21210, 2) (21210,)\n"
     ]
    },
    {
     "name": "stdout",
     "output_type": "stream",
     "text": [
      "fin make 2017's team quarity\n",
      "(21228, 2) (21228,)\n"
     ]
    },
    {
     "name": "stdout",
     "output_type": "stream",
     "text": [
      "fin make 2018's team quarity\n",
      "(21406, 2) (21406,)\n",
      "fin make 2019's team quarity\n",
      "add glm quality\n",
      "Index(['Season', 'T1_TeamID', 'T1_Scoremean', 'T2_Scoremean', 'PointDiffmean',\n",
      "       'T1_FGMmean', 'T2_FGMmean', 'T1_FGAmean', 'T2_FGAmean',\n",
      "       'T1_EFG_SUMmean', 'T2_EFG_SUMmean', 'T1_TO_RATIOmean',\n",
      "       'T2_TO_RATIOmean', 'T1_ORmean', 'T2_ORmean', 'T1_DRmean', 'T2_DRmean',\n",
      "       'T1_REB_RATEmean', 'T2_REB_RATEmean', 'T1_FT_RATEmean',\n",
      "       'T2_FT_RATEmean', 'T1_POSS_RATEmean', 'T2_POSS_RATEmean', 'T1_Astmean',\n",
      "       'T2_Astmean', 'T1_TOmean', 'T2_TOmean', 'T1_Stlmean', 'T2_Stlmean',\n",
      "       'T1_Blkmean', 'T2_Blkmean', 'T1_PFmean', 'T2_PFmean',\n",
      "       'T1_win_ratio_14d', 'T1_quality'],\n",
      "      dtype='object')\n",
      "add seeds (final form)\n",
      "Index(['Season', 'T1_TeamID', 'T1_Scoremean', 'T2_Scoremean', 'PointDiffmean',\n",
      "       'T1_FGMmean', 'T2_FGMmean', 'T1_FGAmean', 'T2_FGAmean',\n",
      "       'T1_EFG_SUMmean', 'T2_EFG_SUMmean', 'T1_TO_RATIOmean',\n",
      "       'T2_TO_RATIOmean', 'T1_ORmean', 'T2_ORmean', 'T1_DRmean', 'T2_DRmean',\n",
      "       'T1_REB_RATEmean', 'T2_REB_RATEmean', 'T1_FT_RATEmean',\n",
      "       'T2_FT_RATEmean', 'T1_POSS_RATEmean', 'T2_POSS_RATEmean', 'T1_Astmean',\n",
      "       'T2_Astmean', 'T1_TOmean', 'T2_TOmean', 'T1_Stlmean', 'T2_Stlmean',\n",
      "       'T1_Blkmean', 'T2_Blkmean', 'T1_PFmean', 'T2_PFmean',\n",
      "       'T1_win_ratio_14d', 'T1_quality', 'T1_seed'],\n",
      "      dtype='object')\n"
     ]
    },
    {
     "name": "stderr",
     "output_type": "stream",
     "text": [
      "C:\\Users\\81809\\AppData\\Local\\Temp\\ipykernel_8504\\386782032.py:79: FutureWarning: The provided callable <function mean at 0x000001BBF55C6520> is currently using SeriesGroupBy.mean. In a future version of pandas, the provided callable will be used directly. To keep current behavior pass the string \"mean\" instead.\n",
      "  df_rank = ordinal.groupby([\"Season\", \"TeamID\"])[\"OrdinalRank\"].agg(np.mean).reset_index()\n"
     ]
    },
    {
     "name": "stdout",
     "output_type": "stream",
     "text": [
      "add ordinal rank\n",
      "Index(['Season', 'T1_TeamID', 'T1_Scoremean', 'T2_Scoremean', 'PointDiffmean',\n",
      "       'T1_FGMmean', 'T2_FGMmean', 'T1_FGAmean', 'T2_FGAmean',\n",
      "       'T1_EFG_SUMmean', 'T2_EFG_SUMmean', 'T1_TO_RATIOmean',\n",
      "       'T2_TO_RATIOmean', 'T1_ORmean', 'T2_ORmean', 'T1_DRmean', 'T2_DRmean',\n",
      "       'T1_REB_RATEmean', 'T2_REB_RATEmean', 'T1_FT_RATEmean',\n",
      "       'T2_FT_RATEmean', 'T1_POSS_RATEmean', 'T2_POSS_RATEmean', 'T1_Astmean',\n",
      "       'T2_Astmean', 'T1_TOmean', 'T2_TOmean', 'T1_Stlmean', 'T2_Stlmean',\n",
      "       'T1_Blkmean', 'T2_Blkmean', 'T1_PFmean', 'T2_PFmean',\n",
      "       'T1_win_ratio_14d', 'T1_quality', 'T1_seed', 'T1_OrdinalRank'],\n",
      "      dtype='object')\n"
     ]
    },
    {
     "data": {
      "text/html": [
       "<div>\n",
       "<style scoped>\n",
       "    .dataframe tbody tr th:only-of-type {\n",
       "        vertical-align: middle;\n",
       "    }\n",
       "\n",
       "    .dataframe tbody tr th {\n",
       "        vertical-align: top;\n",
       "    }\n",
       "\n",
       "    .dataframe thead th {\n",
       "        text-align: right;\n",
       "    }\n",
       "</style>\n",
       "<table border=\"1\" class=\"dataframe\">\n",
       "  <thead>\n",
       "    <tr style=\"text-align: right;\">\n",
       "      <th></th>\n",
       "      <th>Season</th>\n",
       "      <th>T1_TeamID</th>\n",
       "      <th>T1_Scoremean</th>\n",
       "      <th>T2_Scoremean</th>\n",
       "      <th>PointDiffmean</th>\n",
       "      <th>T1_FGMmean</th>\n",
       "      <th>T2_FGMmean</th>\n",
       "      <th>T1_FGAmean</th>\n",
       "      <th>T2_FGAmean</th>\n",
       "      <th>T1_EFG_SUMmean</th>\n",
       "      <th>...</th>\n",
       "      <th>T1_Stlmean</th>\n",
       "      <th>T2_Stlmean</th>\n",
       "      <th>T1_Blkmean</th>\n",
       "      <th>T2_Blkmean</th>\n",
       "      <th>T1_PFmean</th>\n",
       "      <th>T2_PFmean</th>\n",
       "      <th>T1_win_ratio_14d</th>\n",
       "      <th>T1_quality</th>\n",
       "      <th>T1_seed</th>\n",
       "      <th>T1_OrdinalRank</th>\n",
       "    </tr>\n",
       "  </thead>\n",
       "  <tbody>\n",
       "    <tr>\n",
       "      <th>9298</th>\n",
       "      <td>2019</td>\n",
       "      <td>3462</td>\n",
       "      <td>60.862069</td>\n",
       "      <td>66.482759</td>\n",
       "      <td>-5.620690</td>\n",
       "      <td>21.896552</td>\n",
       "      <td>24.448276</td>\n",
       "      <td>57.517241</td>\n",
       "      <td>59.758621</td>\n",
       "      <td>0.448019</td>\n",
       "      <td>...</td>\n",
       "      <td>7.586207</td>\n",
       "      <td>7.758621</td>\n",
       "      <td>2.586207</td>\n",
       "      <td>3.172414</td>\n",
       "      <td>15.241379</td>\n",
       "      <td>15.172414</td>\n",
       "      <td>0.0</td>\n",
       "      <td>-0.296941</td>\n",
       "      <td>NaN</td>\n",
       "      <td>NaN</td>\n",
       "    </tr>\n",
       "    <tr>\n",
       "      <th>9299</th>\n",
       "      <td>2019</td>\n",
       "      <td>3463</td>\n",
       "      <td>63.344828</td>\n",
       "      <td>61.551724</td>\n",
       "      <td>1.793103</td>\n",
       "      <td>23.724138</td>\n",
       "      <td>21.965517</td>\n",
       "      <td>60.517241</td>\n",
       "      <td>60.379310</td>\n",
       "      <td>0.438814</td>\n",
       "      <td>...</td>\n",
       "      <td>5.172414</td>\n",
       "      <td>8.344828</td>\n",
       "      <td>3.586207</td>\n",
       "      <td>2.517241</td>\n",
       "      <td>16.448276</td>\n",
       "      <td>17.551724</td>\n",
       "      <td>0.0</td>\n",
       "      <td>0.134368</td>\n",
       "      <td>NaN</td>\n",
       "      <td>NaN</td>\n",
       "    </tr>\n",
       "    <tr>\n",
       "      <th>9300</th>\n",
       "      <td>2019</td>\n",
       "      <td>3464</td>\n",
       "      <td>68.137931</td>\n",
       "      <td>58.000000</td>\n",
       "      <td>10.137931</td>\n",
       "      <td>23.241379</td>\n",
       "      <td>21.862069</td>\n",
       "      <td>55.758621</td>\n",
       "      <td>58.655172</td>\n",
       "      <td>0.494845</td>\n",
       "      <td>...</td>\n",
       "      <td>4.344828</td>\n",
       "      <td>7.448276</td>\n",
       "      <td>3.482759</td>\n",
       "      <td>3.482759</td>\n",
       "      <td>13.862069</td>\n",
       "      <td>17.896552</td>\n",
       "      <td>0.5</td>\n",
       "      <td>0.638405</td>\n",
       "      <td>NaN</td>\n",
       "      <td>NaN</td>\n",
       "    </tr>\n",
       "    <tr>\n",
       "      <th>9301</th>\n",
       "      <td>2019</td>\n",
       "      <td>3465</td>\n",
       "      <td>76.200000</td>\n",
       "      <td>69.840000</td>\n",
       "      <td>6.360000</td>\n",
       "      <td>28.560000</td>\n",
       "      <td>26.600000</td>\n",
       "      <td>67.520000</td>\n",
       "      <td>69.200000</td>\n",
       "      <td>0.493625</td>\n",
       "      <td>...</td>\n",
       "      <td>7.280000</td>\n",
       "      <td>7.920000</td>\n",
       "      <td>3.160000</td>\n",
       "      <td>3.160000</td>\n",
       "      <td>15.520000</td>\n",
       "      <td>15.440000</td>\n",
       "      <td>0.5</td>\n",
       "      <td>-0.182555</td>\n",
       "      <td>NaN</td>\n",
       "      <td>NaN</td>\n",
       "    </tr>\n",
       "    <tr>\n",
       "      <th>9302</th>\n",
       "      <td>2019</td>\n",
       "      <td>3466</td>\n",
       "      <td>69.521739</td>\n",
       "      <td>63.217391</td>\n",
       "      <td>6.304348</td>\n",
       "      <td>24.869565</td>\n",
       "      <td>23.913043</td>\n",
       "      <td>58.434783</td>\n",
       "      <td>58.260870</td>\n",
       "      <td>0.478102</td>\n",
       "      <td>...</td>\n",
       "      <td>8.478261</td>\n",
       "      <td>8.478261</td>\n",
       "      <td>3.695652</td>\n",
       "      <td>3.217391</td>\n",
       "      <td>17.478261</td>\n",
       "      <td>19.173913</td>\n",
       "      <td>0.0</td>\n",
       "      <td>0.107970</td>\n",
       "      <td>NaN</td>\n",
       "      <td>NaN</td>\n",
       "    </tr>\n",
       "  </tbody>\n",
       "</table>\n",
       "<p>5 rows × 37 columns</p>\n",
       "</div>"
      ],
      "text/plain": [
       "      Season  T1_TeamID  T1_Scoremean  T2_Scoremean  PointDiffmean  \\\n",
       "9298    2019       3462     60.862069     66.482759      -5.620690   \n",
       "9299    2019       3463     63.344828     61.551724       1.793103   \n",
       "9300    2019       3464     68.137931     58.000000      10.137931   \n",
       "9301    2019       3465     76.200000     69.840000       6.360000   \n",
       "9302    2019       3466     69.521739     63.217391       6.304348   \n",
       "\n",
       "      T1_FGMmean  T2_FGMmean  T1_FGAmean  T2_FGAmean  T1_EFG_SUMmean  ...  \\\n",
       "9298   21.896552   24.448276   57.517241   59.758621        0.448019  ...   \n",
       "9299   23.724138   21.965517   60.517241   60.379310        0.438814  ...   \n",
       "9300   23.241379   21.862069   55.758621   58.655172        0.494845  ...   \n",
       "9301   28.560000   26.600000   67.520000   69.200000        0.493625  ...   \n",
       "9302   24.869565   23.913043   58.434783   58.260870        0.478102  ...   \n",
       "\n",
       "      T1_Stlmean  T2_Stlmean  T1_Blkmean  T2_Blkmean  T1_PFmean  T2_PFmean  \\\n",
       "9298    7.586207    7.758621    2.586207    3.172414  15.241379  15.172414   \n",
       "9299    5.172414    8.344828    3.586207    2.517241  16.448276  17.551724   \n",
       "9300    4.344828    7.448276    3.482759    3.482759  13.862069  17.896552   \n",
       "9301    7.280000    7.920000    3.160000    3.160000  15.520000  15.440000   \n",
       "9302    8.478261    8.478261    3.695652    3.217391  17.478261  19.173913   \n",
       "\n",
       "      T1_win_ratio_14d  T1_quality  T1_seed  T1_OrdinalRank  \n",
       "9298               0.0   -0.296941      NaN             NaN  \n",
       "9299               0.0    0.134368      NaN             NaN  \n",
       "9300               0.5    0.638405      NaN             NaN  \n",
       "9301               0.5   -0.182555      NaN             NaN  \n",
       "9302               0.0    0.107970      NaN             NaN  \n",
       "\n",
       "[5 rows x 37 columns]"
      ]
     },
     "execution_count": 9,
     "metadata": {},
     "output_type": "execute_result"
    }
   ],
   "source": [
    "features = FEATURES.cal_mean_boxscore\n",
    "boxscore_cols = [col for col, use in features.items() if use]\n",
    "print(\"use boxscore col is\")\n",
    "print(boxscore_cols)\n",
    "\n",
    "season_statistics = make_season_statistics(regular_data, boxscore_cols, seeds, func = [np.mean])\n",
    "season_statistics.tail()"
   ]
  },
  {
   "cell_type": "code",
   "execution_count": 10,
   "id": "c2947130",
   "metadata": {
    "execution": {
     "iopub.execute_input": "2025-03-14T09:26:00.252676Z",
     "iopub.status.busy": "2025-03-14T09:26:00.252676Z",
     "iopub.status.idle": "2025-03-14T09:26:00.263273Z",
     "shell.execute_reply": "2025-03-14T09:26:00.261769Z"
    },
    "papermill": {
     "duration": 0.019409,
     "end_time": "2025-03-14T09:26:00.264058",
     "exception": false,
     "start_time": "2025-03-14T09:26:00.244649",
     "status": "completed"
    },
    "tags": []
   },
   "outputs": [
    {
     "name": "stdout",
     "output_type": "stream",
     "text": [
      "<class 'pandas.core.frame.DataFrame'>\n",
      "RangeIndex: 9303 entries, 0 to 9302\n",
      "Data columns (total 37 columns):\n",
      " #   Column            Non-Null Count  Dtype  \n",
      "---  ------            --------------  -----  \n",
      " 0   Season            9303 non-null   int64  \n",
      " 1   T1_TeamID         9303 non-null   int64  \n",
      " 2   T1_Scoremean      9303 non-null   float64\n",
      " 3   T2_Scoremean      9303 non-null   float64\n",
      " 4   PointDiffmean     9303 non-null   float64\n",
      " 5   T1_FGMmean        9303 non-null   float64\n",
      " 6   T2_FGMmean        9303 non-null   float64\n",
      " 7   T1_FGAmean        9303 non-null   float64\n",
      " 8   T2_FGAmean        9303 non-null   float64\n",
      " 9   T1_EFG_SUMmean    9303 non-null   float64\n",
      " 10  T2_EFG_SUMmean    9303 non-null   float64\n",
      " 11  T1_TO_RATIOmean   9303 non-null   float64\n",
      " 12  T2_TO_RATIOmean   9303 non-null   float64\n",
      " 13  T1_ORmean         9303 non-null   float64\n",
      " 14  T2_ORmean         9303 non-null   float64\n",
      " 15  T1_DRmean         9303 non-null   float64\n",
      " 16  T2_DRmean         9303 non-null   float64\n",
      " 17  T1_REB_RATEmean   9303 non-null   float64\n",
      " 18  T2_REB_RATEmean   9303 non-null   float64\n",
      " 19  T1_FT_RATEmean    9303 non-null   float64\n",
      " 20  T2_FT_RATEmean    9303 non-null   float64\n",
      " 21  T1_POSS_RATEmean  9303 non-null   float64\n",
      " 22  T2_POSS_RATEmean  9303 non-null   float64\n",
      " 23  T1_Astmean        9303 non-null   float64\n",
      " 24  T2_Astmean        9303 non-null   float64\n",
      " 25  T1_TOmean         9303 non-null   float64\n",
      " 26  T2_TOmean         9303 non-null   float64\n",
      " 27  T1_Stlmean        9303 non-null   float64\n",
      " 28  T2_Stlmean        9303 non-null   float64\n",
      " 29  T1_Blkmean        9303 non-null   float64\n",
      " 30  T2_Blkmean        9303 non-null   float64\n",
      " 31  T1_PFmean         9303 non-null   float64\n",
      " 32  T2_PFmean         9303 non-null   float64\n",
      " 33  T1_win_ratio_14d  9000 non-null   float64\n",
      " 34  T1_quality        9303 non-null   float64\n",
      " 35  T1_seed           1772 non-null   float64\n",
      " 36  T1_OrdinalRank    5834 non-null   float64\n",
      "dtypes: float64(35), int64(2)\n",
      "memory usage: 2.6 MB\n"
     ]
    }
   ],
   "source": [
    "season_statistics.info()"
   ]
  },
  {
   "cell_type": "code",
   "execution_count": 11,
   "id": "b7a15f46",
   "metadata": {
    "execution": {
     "iopub.execute_input": "2025-03-14T09:26:00.287869Z",
     "iopub.status.busy": "2025-03-14T09:26:00.287869Z",
     "iopub.status.idle": "2025-03-14T09:26:00.315431Z",
     "shell.execute_reply": "2025-03-14T09:26:00.315431Z"
    },
    "papermill": {
     "duration": 0.04333,
     "end_time": "2025-03-14T09:26:00.317438",
     "exception": false,
     "start_time": "2025-03-14T09:26:00.274108",
     "status": "completed"
    },
    "tags": []
   },
   "outputs": [],
   "source": [
    "####ボックスscoreの平均に対して、過去３年の加重平均を取るときの処理 ####\n",
    "def get_mean_of_3_season(val_2ps, val_1ps, val_0ps, \n",
    "                         weight_2, weight_1, weight_0, \n",
    "                         degree_weight=1.0\n",
    "                         ):\n",
    "    weight_2 = weight_2**degree_weight\n",
    "    weight_1 = weight_1**degree_weight\n",
    "    weight_0 = weight_0**degree_weight\n",
    "    if val_2ps == 0  and val_1ps == 0:\n",
    "        return val_0ps\n",
    "    elif val_2ps == 0:\n",
    "        return (val_1ps*weight_2 + val_0ps*weight_1)/(weight_2 + weight_1)\n",
    "    else:\n",
    "        sum_of_values = val_2ps*weight_2 + val_1ps*weight_1 + val_0ps*weight_0\n",
    "        return sum_of_values/(weight_2 + weight_1 + weight_0)\n",
    "\n",
    "def get_3_feature(df_team, feature):\n",
    "    value_2_seasons_ago = 0\n",
    "    value_1_season_ago = 0\n",
    "    value_0_season_ago = 0\n",
    "    for _, val in df_team.iterrows():\n",
    "        value_2_seasons_ago = value_1_season_ago\n",
    "        value_1_season_ago = value_0_season_ago\n",
    "        value_0_season_ago = val[feature]\n",
    "    return value_2_seasons_ago, value_1_season_ago, value_0_season_ago\n",
    "\n",
    "def write_mean_of_3_seasons(df, features, weight, degree_weight=1.0):\n",
    "    \"\"\"\n",
    "    val_0ps - current season value\n",
    "    weight_0 - current season weight\n",
    "    val_1ps - last season value\n",
    "    val_2ps - the value of the season before last\n",
    "    \"\"\"\n",
    "    weight_2=weight[0]\n",
    "    weight_1=weight[1]\n",
    "    weight_0=weight[2]\n",
    "    df_copy = df.copy()\n",
    "    suffix = \"_mn3s\"\n",
    "    \n",
    "    for ft in features:\n",
    "        df_copy[ft + suffix] = 0\n",
    "    for idx, val in tqdm(df_copy.iterrows(), total=len(df_copy)):\n",
    "        team = val.T1_TeamID\n",
    "        season = val.Season\n",
    "        df_team = df_copy[(df_copy.T1_TeamID == team)&\n",
    "                          (df_copy.Season <= season)&\n",
    "                          (df_copy.Season > season-3)]\n",
    "        for ft in features:\n",
    "            val_2ps, val_1ps, val_0ps = get_3_feature(df_team, ft)\n",
    "            ft_mean_3 = get_mean_of_3_season(val_2ps, val_1ps, val_0ps, weight_2, weight_1, weight_0, degree_weight=degree_weight)\n",
    "            df_copy.loc[idx, ft + suffix] = ft_mean_3\n",
    "    return df_copy"
   ]
  },
  {
   "cell_type": "code",
   "execution_count": 12,
   "id": "38c873b8",
   "metadata": {
    "execution": {
     "iopub.execute_input": "2025-03-14T09:26:00.333002Z",
     "iopub.status.busy": "2025-03-14T09:26:00.333002Z",
     "iopub.status.idle": "2025-03-14T09:26:00.360901Z",
     "shell.execute_reply": "2025-03-14T09:26:00.360901Z"
    },
    "papermill": {
     "duration": 0.039451,
     "end_time": "2025-03-14T09:26:00.362909",
     "exception": false,
     "start_time": "2025-03-14T09:26:00.323458",
     "status": "completed"
    },
    "tags": []
   },
   "outputs": [
    {
     "name": "stdout",
     "output_type": "stream",
     "text": [
      "#####\n",
      "skip 3 season verage\n",
      "#####\n"
     ]
    },
    {
     "data": {
      "text/html": [
       "<div>\n",
       "<style scoped>\n",
       "    .dataframe tbody tr th:only-of-type {\n",
       "        vertical-align: middle;\n",
       "    }\n",
       "\n",
       "    .dataframe tbody tr th {\n",
       "        vertical-align: top;\n",
       "    }\n",
       "\n",
       "    .dataframe thead th {\n",
       "        text-align: right;\n",
       "    }\n",
       "</style>\n",
       "<table border=\"1\" class=\"dataframe\">\n",
       "  <thead>\n",
       "    <tr style=\"text-align: right;\">\n",
       "      <th></th>\n",
       "      <th>Season</th>\n",
       "      <th>T1_TeamID</th>\n",
       "      <th>T1_Scoremean</th>\n",
       "      <th>T1_opponent_Scoremean</th>\n",
       "      <th>T1_PointDiffmean</th>\n",
       "      <th>T1_FGMmean</th>\n",
       "      <th>T1_opponent_FGMmean</th>\n",
       "      <th>T1_FGAmean</th>\n",
       "      <th>T1_opponent_FGAmean</th>\n",
       "      <th>T1_EFG_SUMmean</th>\n",
       "      <th>...</th>\n",
       "      <th>T1_Stlmean</th>\n",
       "      <th>T1_opponent_Stlmean</th>\n",
       "      <th>T1_Blkmean</th>\n",
       "      <th>T1_opponent_Blkmean</th>\n",
       "      <th>T1_PFmean</th>\n",
       "      <th>T1_opponent_PFmean</th>\n",
       "      <th>T1_win_ratio_14d</th>\n",
       "      <th>T1_quality</th>\n",
       "      <th>T1_seed</th>\n",
       "      <th>T1_OrdinalRank</th>\n",
       "    </tr>\n",
       "  </thead>\n",
       "  <tbody>\n",
       "    <tr>\n",
       "      <th>0</th>\n",
       "      <td>2003</td>\n",
       "      <td>1102</td>\n",
       "      <td>57.250000</td>\n",
       "      <td>57.000000</td>\n",
       "      <td>0.25000</td>\n",
       "      <td>19.142857</td>\n",
       "      <td>19.285714</td>\n",
       "      <td>39.785714</td>\n",
       "      <td>42.428571</td>\n",
       "      <td>0.584407</td>\n",
       "      <td>...</td>\n",
       "      <td>5.964286</td>\n",
       "      <td>5.428571</td>\n",
       "      <td>1.785714</td>\n",
       "      <td>1.571429</td>\n",
       "      <td>18.750000</td>\n",
       "      <td>18.357143</td>\n",
       "      <td>0.333333</td>\n",
       "      <td>-0.070776</td>\n",
       "      <td>NaN</td>\n",
       "      <td>144.2875</td>\n",
       "    </tr>\n",
       "    <tr>\n",
       "      <th>1</th>\n",
       "      <td>2003</td>\n",
       "      <td>1103</td>\n",
       "      <td>78.777778</td>\n",
       "      <td>78.148148</td>\n",
       "      <td>0.62963</td>\n",
       "      <td>27.148148</td>\n",
       "      <td>27.777778</td>\n",
       "      <td>55.851852</td>\n",
       "      <td>57.000000</td>\n",
       "      <td>0.536564</td>\n",
       "      <td>...</td>\n",
       "      <td>7.259259</td>\n",
       "      <td>6.407407</td>\n",
       "      <td>2.333333</td>\n",
       "      <td>2.851852</td>\n",
       "      <td>19.851852</td>\n",
       "      <td>22.444444</td>\n",
       "      <td>0.333333</td>\n",
       "      <td>-0.116192</td>\n",
       "      <td>NaN</td>\n",
       "      <td>182.2050</td>\n",
       "    </tr>\n",
       "  </tbody>\n",
       "</table>\n",
       "<p>2 rows × 37 columns</p>\n",
       "</div>"
      ],
      "text/plain": [
       "   Season  T1_TeamID  T1_Scoremean  T1_opponent_Scoremean  T1_PointDiffmean  \\\n",
       "0    2003       1102     57.250000              57.000000           0.25000   \n",
       "1    2003       1103     78.777778              78.148148           0.62963   \n",
       "\n",
       "   T1_FGMmean  T1_opponent_FGMmean  T1_FGAmean  T1_opponent_FGAmean  \\\n",
       "0   19.142857            19.285714   39.785714            42.428571   \n",
       "1   27.148148            27.777778   55.851852            57.000000   \n",
       "\n",
       "   T1_EFG_SUMmean  ...  T1_Stlmean  T1_opponent_Stlmean  T1_Blkmean  \\\n",
       "0        0.584407  ...    5.964286             5.428571    1.785714   \n",
       "1        0.536564  ...    7.259259             6.407407    2.333333   \n",
       "\n",
       "   T1_opponent_Blkmean  T1_PFmean  T1_opponent_PFmean  T1_win_ratio_14d  \\\n",
       "0             1.571429  18.750000           18.357143          0.333333   \n",
       "1             2.851852  19.851852           22.444444          0.333333   \n",
       "\n",
       "   T1_quality  T1_seed  T1_OrdinalRank  \n",
       "0   -0.070776      NaN        144.2875  \n",
       "1   -0.116192      NaN        182.2050  \n",
       "\n",
       "[2 rows x 37 columns]"
      ]
     },
     "metadata": {},
     "output_type": "display_data"
    },
    {
     "data": {
      "text/html": [
       "<div>\n",
       "<style scoped>\n",
       "    .dataframe tbody tr th:only-of-type {\n",
       "        vertical-align: middle;\n",
       "    }\n",
       "\n",
       "    .dataframe tbody tr th {\n",
       "        vertical-align: top;\n",
       "    }\n",
       "\n",
       "    .dataframe thead th {\n",
       "        text-align: right;\n",
       "    }\n",
       "</style>\n",
       "<table border=\"1\" class=\"dataframe\">\n",
       "  <thead>\n",
       "    <tr style=\"text-align: right;\">\n",
       "      <th></th>\n",
       "      <th>Season</th>\n",
       "      <th>T2_TeamID</th>\n",
       "      <th>T2_Scoremean</th>\n",
       "      <th>T2_opponent_Scoremean</th>\n",
       "      <th>T2_PointDiffmean</th>\n",
       "      <th>T2_FGMmean</th>\n",
       "      <th>T2_opponent_FGMmean</th>\n",
       "      <th>T2_FGAmean</th>\n",
       "      <th>T2_opponent_FGAmean</th>\n",
       "      <th>T2_EFG_SUMmean</th>\n",
       "      <th>...</th>\n",
       "      <th>T2_Stlmean</th>\n",
       "      <th>T2_opponent_Stlmean</th>\n",
       "      <th>T2_Blkmean</th>\n",
       "      <th>T2_opponent_Blkmean</th>\n",
       "      <th>T2_PFmean</th>\n",
       "      <th>T2_opponent_PFmean</th>\n",
       "      <th>T2_win_ratio_14d</th>\n",
       "      <th>T2_quality</th>\n",
       "      <th>T2_seed</th>\n",
       "      <th>T2_OrdinalRank</th>\n",
       "    </tr>\n",
       "  </thead>\n",
       "  <tbody>\n",
       "    <tr>\n",
       "      <th>9301</th>\n",
       "      <td>2019</td>\n",
       "      <td>3465</td>\n",
       "      <td>76.200000</td>\n",
       "      <td>69.840000</td>\n",
       "      <td>6.360000</td>\n",
       "      <td>28.560000</td>\n",
       "      <td>26.600000</td>\n",
       "      <td>67.520000</td>\n",
       "      <td>69.20000</td>\n",
       "      <td>0.493625</td>\n",
       "      <td>...</td>\n",
       "      <td>7.280000</td>\n",
       "      <td>7.920000</td>\n",
       "      <td>3.160000</td>\n",
       "      <td>3.160000</td>\n",
       "      <td>15.520000</td>\n",
       "      <td>15.440000</td>\n",
       "      <td>0.5</td>\n",
       "      <td>-0.182555</td>\n",
       "      <td>NaN</td>\n",
       "      <td>NaN</td>\n",
       "    </tr>\n",
       "    <tr>\n",
       "      <th>9302</th>\n",
       "      <td>2019</td>\n",
       "      <td>3466</td>\n",
       "      <td>69.521739</td>\n",
       "      <td>63.217391</td>\n",
       "      <td>6.304348</td>\n",
       "      <td>24.869565</td>\n",
       "      <td>23.913043</td>\n",
       "      <td>58.434783</td>\n",
       "      <td>58.26087</td>\n",
       "      <td>0.478102</td>\n",
       "      <td>...</td>\n",
       "      <td>8.478261</td>\n",
       "      <td>8.478261</td>\n",
       "      <td>3.695652</td>\n",
       "      <td>3.217391</td>\n",
       "      <td>17.478261</td>\n",
       "      <td>19.173913</td>\n",
       "      <td>0.0</td>\n",
       "      <td>0.107970</td>\n",
       "      <td>NaN</td>\n",
       "      <td>NaN</td>\n",
       "    </tr>\n",
       "  </tbody>\n",
       "</table>\n",
       "<p>2 rows × 37 columns</p>\n",
       "</div>"
      ],
      "text/plain": [
       "      Season  T2_TeamID  T2_Scoremean  T2_opponent_Scoremean  \\\n",
       "9301    2019       3465     76.200000              69.840000   \n",
       "9302    2019       3466     69.521739              63.217391   \n",
       "\n",
       "      T2_PointDiffmean  T2_FGMmean  T2_opponent_FGMmean  T2_FGAmean  \\\n",
       "9301          6.360000   28.560000            26.600000   67.520000   \n",
       "9302          6.304348   24.869565            23.913043   58.434783   \n",
       "\n",
       "      T2_opponent_FGAmean  T2_EFG_SUMmean  ...  T2_Stlmean  \\\n",
       "9301             69.20000        0.493625  ...    7.280000   \n",
       "9302             58.26087        0.478102  ...    8.478261   \n",
       "\n",
       "      T2_opponent_Stlmean  T2_Blkmean  T2_opponent_Blkmean  T2_PFmean  \\\n",
       "9301             7.920000    3.160000             3.160000  15.520000   \n",
       "9302             8.478261    3.695652             3.217391  17.478261   \n",
       "\n",
       "      T2_opponent_PFmean  T2_win_ratio_14d  T2_quality  T2_seed  \\\n",
       "9301           15.440000               0.5   -0.182555      NaN   \n",
       "9302           19.173913               0.0    0.107970      NaN   \n",
       "\n",
       "      T2_OrdinalRank  \n",
       "9301             NaN  \n",
       "9302             NaN  \n",
       "\n",
       "[2 rows x 37 columns]"
      ]
     },
     "metadata": {},
     "output_type": "display_data"
    }
   ],
   "source": [
    "flag_3season_avg = FEATURES.season_average.enabled\n",
    "\n",
    "#trueのときの処理理解してfalseと一致させる\n",
    "if flag_3season_avg:\n",
    "    print(\"#####\")\n",
    "    print(\"use 3 season average\")\n",
    "    print(\"#####\")\n",
    "    weight = FEATURES.season_average.weights\n",
    "    years = FEATURES.season_average.past_years\n",
    "    assert years==len(weight)\n",
    "    \n",
    "    features_for_calc = [\"T1_Scoremean\", \"T1_FGAmean\",  \"T1_FGA3mean\"]\n",
    "    season_statistics_with_3_seas = write_mean_of_3_seasons(\n",
    "        season_statistics, features_for_calc, weight, degree_weight=1.0\n",
    "    )\n",
    "    \n",
    "    season_statistics_T1 = season_statistics_with_3_seas.copy()\n",
    "    season_statistics_T2 = season_statistics_with_3_seas.copy()\n",
    "    \n",
    "else:\n",
    "    print(\"#####\")\n",
    "    print(\"skip 3 season verage\")\n",
    "    print(\"#####\")\n",
    "    season_statistics_T1 = season_statistics.copy()\n",
    "    season_statistics_T2 = season_statistics.copy()\n",
    "\n",
    "season_statistics_T1.columns = [\"T1_\" + x.replace(\"T1_\",\"\").replace(\"T2_\",\"opponent_\") for x in list(season_statistics_T1.columns)]\n",
    "season_statistics_T2.columns = [\"T2_\" + x.replace(\"T1_\",\"\").replace(\"T2_\",\"opponent_\") for x in list(season_statistics_T2.columns)]\n",
    "season_statistics_T1.columns.values[0] = \"Season\"\n",
    "season_statistics_T2.columns.values[0] = \"Season\"\n",
    "\n",
    "\n",
    "season_statistics_T2.rename(columns = {\n",
    "    \"T1_TeamID\": \"T2_TeamID\"\n",
    "}, inplace=True)\n",
    "display(season_statistics_T1.head(2), season_statistics_T2.tail(2))"
   ]
  },
  {
   "cell_type": "markdown",
   "id": "54ba901a",
   "metadata": {
    "papermill": {
     "duration": 0.005768,
     "end_time": "2025-03-14T09:26:00.376708",
     "exception": false,
     "start_time": "2025-03-14T09:26:00.370940",
     "status": "completed"
    },
    "tags": []
   },
   "source": [
    "# Toureney dataの処理\n",
    "1. pointdiff, pointが目的変数となるのでそれはyに分離\n",
    "2. seasonstatisticを結合したものをXとして作る"
   ]
  },
  {
   "cell_type": "code",
   "execution_count": 13,
   "id": "ccd7b778",
   "metadata": {
    "execution": {
     "iopub.execute_input": "2025-03-14T09:26:00.396017Z",
     "iopub.status.busy": "2025-03-14T09:26:00.395020Z",
     "iopub.status.idle": "2025-03-14T09:26:00.402533Z",
     "shell.execute_reply": "2025-03-14T09:26:00.402533Z"
    },
    "papermill": {
     "duration": 0.019791,
     "end_time": "2025-03-14T09:26:00.404540",
     "exception": false,
     "start_time": "2025-03-14T09:26:00.384749",
     "status": "completed"
    },
    "tags": []
   },
   "outputs": [],
   "source": [
    "\n",
    "def process_tourney(df1, mode=\"tourney\"):\n",
    "    #Season, teamid ->X, team_score->y\n",
    "    df = df1.copy()\n",
    "    if mode==\"tourney\":\n",
    "        df = prepare_data(df) \n",
    "        y = df[\"T1_Score\"]-df[\"T2_Score\"]\n",
    "    X = df[['Season', 'T1_TeamID', 'T2_TeamID']]\n",
    "    X = pd.merge(X, season_statistics_T1, on = ['Season', 'T1_TeamID'], how = 'left')\n",
    "    X = pd.merge(X, season_statistics_T2, on = ['Season', 'T2_TeamID'], how = 'left')\n",
    "    \n",
    "    #seed->seed diff\n",
    "    X[\"seed_diff\"] = X[\"T1_seed\"] - X[\"T2_seed\"]\n",
    "    #rank->rank diff\n",
    "    X[\"rank_diff\"] = X[\"T1_OrdinalRank\"] - X[\"T2_OrdinalRank\"]\n",
    "    #quality->quality diff\n",
    "    X[\"quality_diff\"] = X[\"T1_quality\"] - X[\"T2_quality\"]\n",
    "    #win_ratio_14d -> win_raio_14d_diff\n",
    "    X[\"win_ratio_14d_diff\"] = X[\"T1_win_ratio_14d\"] - X[\"T2_win_ratio_14d\"]\n",
    "    #tourney_data.drop(columns=[\"T1_seed\", \"T2_seed\"], inplace=True)\n",
    "\n",
    "    X = X.drop(columns=[\"T1_seed\", \"T2_seed\", \"T1_OrdinalRank\", \"T2_OrdinalRank\", \n",
    "                        \"T1_quality\", \"T2_quality\", \"T1_win_ratio_14d\", \"T2_win_ratio_14d\"\n",
    "                        ])\n",
    "\n",
    "    # if rank_diff is False, drop.\n",
    "    IS_RANKDIFF = FEATURES.rank_diff\n",
    "    if not IS_RANKDIFF:\n",
    "        X = X.drop(columns=[\"rank_diff\"])\n",
    "        print(\"drop rank_diff\")\n",
    "    \n",
    "    # if fillna is true-> run fillna()\n",
    "    FILLNA = FEATURES.fillna.quality\n",
    "    if FILLNA==\"nan\":\n",
    "        print(f\"no fillna, use nan\")\n",
    "        X[\"quality_diff\"] = X[\"quality_diff\"].fillna(np.nan)\n",
    "    else:\n",
    "        print(f\"fillna quality feature for {FILLNA}\")\n",
    "        X[\"quality_diff\"] = X[\"quality_diff\"].fillna(FILLNA)\n",
    "\n",
    "        \n",
    "    return X, y if mode==\"tourney\" else X"
   ]
  },
  {
   "cell_type": "code",
   "execution_count": 14,
   "id": "46313d02",
   "metadata": {
    "execution": {
     "iopub.execute_input": "2025-03-14T09:26:00.421707Z",
     "iopub.status.busy": "2025-03-14T09:26:00.421707Z",
     "iopub.status.idle": "2025-03-14T09:26:00.452238Z",
     "shell.execute_reply": "2025-03-14T09:26:00.452238Z"
    },
    "papermill": {
     "duration": 0.042052,
     "end_time": "2025-03-14T09:26:00.454247",
     "exception": false,
     "start_time": "2025-03-14T09:26:00.412195",
     "status": "completed"
    },
    "tags": []
   },
   "outputs": [
    {
     "name": "stdout",
     "output_type": "stream",
     "text": [
      "<class 'pandas.core.frame.DataFrame'>\n",
      "Index: 1615 entries, 0 to 1948\n",
      "Data columns (total 56 columns):\n",
      " #   Column       Non-Null Count  Dtype  \n",
      "---  ------       --------------  -----  \n",
      " 0   Season       1615 non-null   int64  \n",
      " 1   DayNum       1615 non-null   int64  \n",
      " 2   WTeamID      1615 non-null   int64  \n",
      " 3   WScore       1615 non-null   int64  \n",
      " 4   LTeamID      1615 non-null   int64  \n",
      " 5   LScore       1615 non-null   int64  \n",
      " 6   WLoc         1615 non-null   object \n",
      " 7   NumOT        1615 non-null   int64  \n",
      " 8   WFGM         1615 non-null   int64  \n",
      " 9   WFGA         1615 non-null   int64  \n",
      " 10  WFGM3        1615 non-null   int64  \n",
      " 11  WFGA3        1615 non-null   int64  \n",
      " 12  WFTM         1615 non-null   int64  \n",
      " 13  WFTA         1615 non-null   int64  \n",
      " 14  WOR          1615 non-null   int64  \n",
      " 15  WDR          1615 non-null   int64  \n",
      " 16  WAst         1615 non-null   int64  \n",
      " 17  WTO          1615 non-null   int64  \n",
      " 18  WStl         1615 non-null   int64  \n",
      " 19  WBlk         1615 non-null   int64  \n",
      " 20  WPF          1615 non-null   int64  \n",
      " 21  LFGM         1615 non-null   int64  \n",
      " 22  LFGA         1615 non-null   int64  \n",
      " 23  LFGM3        1615 non-null   int64  \n",
      " 24  LFGA3        1615 non-null   int64  \n",
      " 25  LFTM         1615 non-null   int64  \n",
      " 26  LFTA         1615 non-null   int64  \n",
      " 27  LOR          1615 non-null   int64  \n",
      " 28  LDR          1615 non-null   int64  \n",
      " 29  LAst         1615 non-null   int64  \n",
      " 30  LTO          1615 non-null   int64  \n",
      " 31  LStl         1615 non-null   int64  \n",
      " 32  LBlk         1615 non-null   int64  \n",
      " 33  LPF          1615 non-null   int64  \n",
      " 34  WEFFG        1615 non-null   float64\n",
      " 35  LEFFG        1615 non-null   float64\n",
      " 36  WEFFG3       1615 non-null   float64\n",
      " 37  LEFFG3       1615 non-null   float64\n",
      " 38  WDARE        1615 non-null   float64\n",
      " 39  LDARE        1615 non-null   float64\n",
      " 40  WTOQUETOQUE  1615 non-null   float64\n",
      " 41  LTOQUETOQUE  1615 non-null   float64\n",
      " 42  WEFG_SUM     1615 non-null   float64\n",
      " 43  LEFG_SUM     1615 non-null   float64\n",
      " 44  WPOSS        1615 non-null   float64\n",
      " 45  LPOSS        1615 non-null   float64\n",
      " 46  WPOSS_RATE   1615 non-null   float64\n",
      " 47  LPOSS_RATE   1615 non-null   float64\n",
      " 48  WTO_RATIO    1615 non-null   float64\n",
      " 49  LTO_RATIO    1615 non-null   float64\n",
      " 50  WREB_RATE    1615 non-null   float64\n",
      " 51  LREB_RATE    1615 non-null   float64\n",
      " 52  WFT_RATE     1615 non-null   float64\n",
      " 53  LFT_RATE     1615 non-null   float64\n",
      " 54  WRATING      1615 non-null   float64\n",
      " 55  LRATING      1615 non-null   float64\n",
      "dtypes: float64(22), int64(33), object(1)\n",
      "memory usage: 719.2+ KB\n",
      "None\n",
      "feature cols after prepare()\n",
      "Index(['Season', 'DayNum', 'T1_TeamID', 'T1_Score', 'T2_TeamID', 'T2_Score',\n",
      "       'location', 'NumOT', 'T1_FGM', 'T1_FGA', 'T1_FGM3', 'T1_FGA3', 'T1_FTM',\n",
      "       'T1_FTA', 'T1_OR', 'T1_DR', 'T1_Ast', 'T1_TO', 'T1_Stl', 'T1_Blk',\n",
      "       'T1_PF', 'T2_FGM', 'T2_FGA', 'T2_FGM3', 'T2_FGA3', 'T2_FTM', 'T2_FTA',\n",
      "       'T2_OR', 'T2_DR', 'T2_Ast', 'T2_TO', 'T2_Stl', 'T2_Blk', 'T2_PF',\n",
      "       'T1_EFFG', 'T2_EFFG', 'T1_EFFG3', 'T2_EFFG3', 'T1_DARE', 'T2_DARE',\n",
      "       'T1_TOQUETOQUE', 'T2_TOQUETOQUE', 'T1_EFG_SUM', 'T2_EFG_SUM', 'T1_POSS',\n",
      "       'T2_POSS', 'T1_POSS_RATE', 'T2_POSS_RATE', 'T1_TO_RATIO', 'T2_TO_RATIO',\n",
      "       'T1_REB_RATE', 'T2_REB_RATE', 'T1_FT_RATE', 'T2_FT_RATE', 'T1_RATING',\n",
      "       'T2_RATING', 'PointDiff', 'win'],\n",
      "      dtype='object')\n",
      "no fillna, use nan\n"
     ]
    }
   ],
   "source": [
    "X, y = process_tourney(tourney_results)"
   ]
  },
  {
   "cell_type": "code",
   "execution_count": 15,
   "id": "5465804e",
   "metadata": {
    "execution": {
     "iopub.execute_input": "2025-03-14T09:26:00.472321Z",
     "iopub.status.busy": "2025-03-14T09:26:00.470313Z",
     "iopub.status.idle": "2025-03-14T09:26:00.477248Z",
     "shell.execute_reply": "2025-03-14T09:26:00.477248Z"
    },
    "papermill": {
     "duration": 0.01697,
     "end_time": "2025-03-14T09:26:00.479253",
     "exception": false,
     "start_time": "2025-03-14T09:26:00.462283",
     "status": "completed"
    },
    "tags": []
   },
   "outputs": [
    {
     "name": "stdout",
     "output_type": "stream",
     "text": [
      "drop col list: ['T1_TOmean', 'T2_TOmean', 'T1_opponent_POSS_RATEmean', 'T2_opponent_POSS_RATEmean', 'T1_opponent_Astmean', 'T2_opponent_Astmean', 'T1_opponent_FT_RATEmean', 'T2_opponent_FT_RATEmean', 'T1_opponent_Stlmean', 'T2_opponent_Stlmean', 'T1_ORmean', 'T2_ORmean', 'T1_opponent_ORmean', 'T2_opponent_ORmean', 'Season']\n"
     ]
    }
   ],
   "source": [
    "#opponentなど明示的に特徴量選出に基づいて落とす\n",
    "def drop_columns(df, cols):\n",
    "    if not cols: return df\n",
    "    existing_cols = [col for col in cols if col in df.columns]\n",
    "    print(f\"drop col list: {existing_cols}\")\n",
    "    return df.drop(columns=existing_cols)\n",
    "\n",
    "drop_col = FEATURES.dropfeatures\n",
    "X = drop_columns(X, drop_col)"
   ]
  },
  {
   "cell_type": "code",
   "execution_count": 16,
   "id": "21d9ae20",
   "metadata": {
    "execution": {
     "iopub.execute_input": "2025-03-14T09:26:00.497312Z",
     "iopub.status.busy": "2025-03-14T09:26:00.497312Z",
     "iopub.status.idle": "2025-03-14T09:26:00.501736Z",
     "shell.execute_reply": "2025-03-14T09:26:00.501736Z"
    },
    "papermill": {
     "duration": 0.014455,
     "end_time": "2025-03-14T09:26:00.501736",
     "exception": false,
     "start_time": "2025-03-14T09:26:00.487281",
     "status": "completed"
    },
    "tags": []
   },
   "outputs": [
    {
     "name": "stdout",
     "output_type": "stream",
     "text": [
      "最終的な X の特徴量\n",
      "Index(['T1_TeamID', 'T2_TeamID', 'T1_Scoremean', 'T1_opponent_Scoremean',\n",
      "       'T1_PointDiffmean', 'T1_FGMmean', 'T1_opponent_FGMmean', 'T1_FGAmean',\n",
      "       'T1_opponent_FGAmean', 'T1_EFG_SUMmean', 'T1_opponent_EFG_SUMmean',\n",
      "       'T1_TO_RATIOmean', 'T1_opponent_TO_RATIOmean', 'T1_DRmean',\n",
      "       'T1_opponent_DRmean', 'T1_REB_RATEmean', 'T1_opponent_REB_RATEmean',\n",
      "       'T1_FT_RATEmean', 'T1_POSS_RATEmean', 'T1_Astmean',\n",
      "       'T1_opponent_TOmean', 'T1_Stlmean', 'T1_Blkmean', 'T1_opponent_Blkmean',\n",
      "       'T1_PFmean', 'T1_opponent_PFmean', 'T2_Scoremean',\n",
      "       'T2_opponent_Scoremean', 'T2_PointDiffmean', 'T2_FGMmean',\n",
      "       'T2_opponent_FGMmean', 'T2_FGAmean', 'T2_opponent_FGAmean',\n",
      "       'T2_EFG_SUMmean', 'T2_opponent_EFG_SUMmean', 'T2_TO_RATIOmean',\n",
      "       'T2_opponent_TO_RATIOmean', 'T2_DRmean', 'T2_opponent_DRmean',\n",
      "       'T2_REB_RATEmean', 'T2_opponent_REB_RATEmean', 'T2_FT_RATEmean',\n",
      "       'T2_POSS_RATEmean', 'T2_Astmean', 'T2_opponent_TOmean', 'T2_Stlmean',\n",
      "       'T2_Blkmean', 'T2_opponent_Blkmean', 'T2_PFmean', 'T2_opponent_PFmean',\n",
      "       'seed_diff', 'rank_diff', 'quality_diff', 'win_ratio_14d_diff'],\n",
      "      dtype='object')\n"
     ]
    }
   ],
   "source": [
    "print(\"最終的な X の特徴量\")\n",
    "print(X.columns)"
   ]
  },
  {
   "cell_type": "code",
   "execution_count": 17,
   "id": "d6316c91",
   "metadata": {
    "execution": {
     "iopub.execute_input": "2025-03-14T09:26:00.521672Z",
     "iopub.status.busy": "2025-03-14T09:26:00.521672Z",
     "iopub.status.idle": "2025-03-14T09:26:00.530151Z",
     "shell.execute_reply": "2025-03-14T09:26:00.530151Z"
    },
    "papermill": {
     "duration": 0.020038,
     "end_time": "2025-03-14T09:26:00.532162",
     "exception": false,
     "start_time": "2025-03-14T09:26:00.512124",
     "status": "completed"
    },
    "tags": []
   },
   "outputs": [
    {
     "name": "stdout",
     "output_type": "stream",
     "text": [
      "<class 'pandas.core.frame.DataFrame'>\n",
      "RangeIndex: 3230 entries, 0 to 3229\n",
      "Data columns (total 54 columns):\n",
      " #   Column                    Non-Null Count  Dtype  \n",
      "---  ------                    --------------  -----  \n",
      " 0   T1_TeamID                 3230 non-null   int64  \n",
      " 1   T2_TeamID                 3230 non-null   int64  \n",
      " 2   T1_Scoremean              3230 non-null   float64\n",
      " 3   T1_opponent_Scoremean     3230 non-null   float64\n",
      " 4   T1_PointDiffmean          3230 non-null   float64\n",
      " 5   T1_FGMmean                3230 non-null   float64\n",
      " 6   T1_opponent_FGMmean       3230 non-null   float64\n",
      " 7   T1_FGAmean                3230 non-null   float64\n",
      " 8   T1_opponent_FGAmean       3230 non-null   float64\n",
      " 9   T1_EFG_SUMmean            3230 non-null   float64\n",
      " 10  T1_opponent_EFG_SUMmean   3230 non-null   float64\n",
      " 11  T1_TO_RATIOmean           3230 non-null   float64\n",
      " 12  T1_opponent_TO_RATIOmean  3230 non-null   float64\n",
      " 13  T1_DRmean                 3230 non-null   float64\n",
      " 14  T1_opponent_DRmean        3230 non-null   float64\n",
      " 15  T1_REB_RATEmean           3230 non-null   float64\n",
      " 16  T1_opponent_REB_RATEmean  3230 non-null   float64\n",
      " 17  T1_FT_RATEmean            3230 non-null   float64\n",
      " 18  T1_POSS_RATEmean          3230 non-null   float64\n",
      " 19  T1_Astmean                3230 non-null   float64\n",
      " 20  T1_opponent_TOmean        3230 non-null   float64\n",
      " 21  T1_Stlmean                3230 non-null   float64\n",
      " 22  T1_Blkmean                3230 non-null   float64\n",
      " 23  T1_opponent_Blkmean       3230 non-null   float64\n",
      " 24  T1_PFmean                 3230 non-null   float64\n",
      " 25  T1_opponent_PFmean        3230 non-null   float64\n",
      " 26  T2_Scoremean              3230 non-null   float64\n",
      " 27  T2_opponent_Scoremean     3230 non-null   float64\n",
      " 28  T2_PointDiffmean          3230 non-null   float64\n",
      " 29  T2_FGMmean                3230 non-null   float64\n",
      " 30  T2_opponent_FGMmean       3230 non-null   float64\n",
      " 31  T2_FGAmean                3230 non-null   float64\n",
      " 32  T2_opponent_FGAmean       3230 non-null   float64\n",
      " 33  T2_EFG_SUMmean            3230 non-null   float64\n",
      " 34  T2_opponent_EFG_SUMmean   3230 non-null   float64\n",
      " 35  T2_TO_RATIOmean           3230 non-null   float64\n",
      " 36  T2_opponent_TO_RATIOmean  3230 non-null   float64\n",
      " 37  T2_DRmean                 3230 non-null   float64\n",
      " 38  T2_opponent_DRmean        3230 non-null   float64\n",
      " 39  T2_REB_RATEmean           3230 non-null   float64\n",
      " 40  T2_opponent_REB_RATEmean  3230 non-null   float64\n",
      " 41  T2_FT_RATEmean            3230 non-null   float64\n",
      " 42  T2_POSS_RATEmean          3230 non-null   float64\n",
      " 43  T2_Astmean                3230 non-null   float64\n",
      " 44  T2_opponent_TOmean        3230 non-null   float64\n",
      " 45  T2_Stlmean                3230 non-null   float64\n",
      " 46  T2_Blkmean                3230 non-null   float64\n",
      " 47  T2_opponent_Blkmean       3230 non-null   float64\n",
      " 48  T2_PFmean                 3230 non-null   float64\n",
      " 49  T2_opponent_PFmean        3230 non-null   float64\n",
      " 50  seed_diff                 3230 non-null   float64\n",
      " 51  rank_diff                 2096 non-null   float64\n",
      " 52  quality_diff              3230 non-null   float64\n",
      " 53  win_ratio_14d_diff        3230 non-null   float64\n",
      "dtypes: float64(52), int64(2)\n",
      "memory usage: 1.3 MB\n"
     ]
    }
   ],
   "source": [
    "X.info()"
   ]
  },
  {
   "cell_type": "markdown",
   "id": "60ec7023",
   "metadata": {
    "papermill": {
     "duration": 0.010281,
     "end_time": "2025-03-14T09:26:00.554957",
     "exception": false,
     "start_time": "2025-03-14T09:26:00.544676",
     "status": "completed"
    },
    "tags": []
   },
   "source": [
    "# build models"
   ]
  },
  {
   "cell_type": "code",
   "execution_count": 18,
   "id": "8a7f2ca9",
   "metadata": {
    "execution": {
     "iopub.execute_input": "2025-03-14T09:26:00.561945Z",
     "iopub.status.busy": "2025-03-14T09:26:00.561945Z",
     "iopub.status.idle": "2025-03-14T09:26:00.591562Z",
     "shell.execute_reply": "2025-03-14T09:26:00.591562Z"
    },
    "papermill": {
     "duration": 0.031362,
     "end_time": "2025-03-14T09:26:00.593307",
     "exception": false,
     "start_time": "2025-03-14T09:26:00.561945",
     "status": "completed"
    },
    "tags": []
   },
   "outputs": [],
   "source": [
    "\n",
    "val_mae = []\n",
    "iteration_counts = []\n",
    "xgb_cv = []\n",
    "dtrain = xgb.DMatrix(X, label=y)\n",
    "\n",
    "repeat_cv = MODEL.repeat_cv\n",
    "param = dict(MODEL.xgb_model.param)\n",
    "num_boost_round = MODEL.xgb_model.num_boost_round\n",
    "folds_splits = MODEL.xgb_model.folds_splits\n",
    "early_stopping_rounds = MODEL.xgb_model.early_stopping_rounds\n",
    "\n",
    "# コーシー損失関数\n",
    "def cauchyobj(preds, dtrain):\n",
    "    labels = dtrain.get_label()\n",
    "    c = 5000\n",
    "    x = preds - labels    \n",
    "    grad = x / (x**2/c**2 + 1)\n",
    "    hess = -c**2 * (x**2 - c**2) / (x**2 + c**2)**2\n",
    "    return grad, hess"
   ]
  },
  {
   "cell_type": "code",
   "execution_count": 19,
   "id": "6e3efab4",
   "metadata": {
    "execution": {
     "iopub.execute_input": "2025-03-14T09:26:00.616926Z",
     "iopub.status.busy": "2025-03-14T09:26:00.616926Z",
     "iopub.status.idle": "2025-03-14T09:26:00.632874Z",
     "shell.execute_reply": "2025-03-14T09:26:00.632874Z"
    },
    "papermill": {
     "duration": 0.030709,
     "end_time": "2025-03-14T09:26:00.634879",
     "exception": false,
     "start_time": "2025-03-14T09:26:00.604170",
     "status": "completed"
    },
    "tags": []
   },
   "outputs": [],
   "source": [
    "#########################################\n",
    "# 1. Optunaあり：ハイパーパラメータ最適化 #\n",
    "#########################################\n",
    "def run_optuna_optimization(param, optuna_conf):\n",
    "    def objective(trial):  \n",
    "        logger.info(f\"Trial {trial.number} 開始\")\n",
    "        \n",
    "        current_param = param.copy()  \n",
    "        max_depth_range = optuna_conf.max_depth        \n",
    "        eta_range = optuna_conf.eta\n",
    "        subsample_range = optuna_conf.subsample          \n",
    "        colsample_bytree_range = optuna_conf.colsample_bytree\n",
    "        num_parallel_tree_range = optuna_conf.num_parallel_tree \n",
    "        min_child_weight_range = optuna_conf.min_child_weight \n",
    "        reg_alpha_range = optuna_conf.reg_alpha         \n",
    "        reg_lambda_range = optuna_conf.reg_lambda    \n",
    "        reg_gamma_range = optuna_conf.gamma  \n",
    "\n",
    "        current_param[\"max_depth\"] = trial.suggest_int(\"max_depth\", max_depth_range[0], max_depth_range[1])\n",
    "        current_param[\"eta\"] = trial.suggest_float(\"eta\", eta_range[0], eta_range[1], log=True)\n",
    "        current_param[\"subsample\"] = trial.suggest_float(\"subsample\", subsample_range[0], subsample_range[1])\n",
    "        current_param[\"colsample_bytree\"] = trial.suggest_float(\"colsample_bytree\", colsample_bytree_range[0], colsample_bytree_range[1])\n",
    "        current_param[\"num_parallel_tree\"] = trial.suggest_int(\"num_parallel_tree\", num_parallel_tree_range[0], num_parallel_tree_range[1])\n",
    "        current_param[\"min_child_weight\"] = trial.suggest_int(\"min_child_weight\", min_child_weight_range[0], min_child_weight_range[1])\n",
    "        current_param[\"reg_alpha\"] = trial.suggest_float(\"reg_alpha\", reg_alpha_range[0], reg_alpha_range[1])\n",
    "        current_param[\"reg_lambda\"] = trial.suggest_float(\"reg_lambda\", reg_lambda_range[0], reg_lambda_range[1])\n",
    "        current_param[\"gamma\"] = trial.suggest_float(\"gamma\", reg_gamma_range[0], reg_gamma_range[1])\n",
    "        \n",
    "        if current_param.get(\"eval_metric\", \"mae\") == \"rmse\":\n",
    "            score_name = \"test-rmse-mean\"\n",
    "        elif current_param.get(\"eval_metric\", \"mae\") == \"mae\":\n",
    "            score_name = \"test-mae-mean\"\n",
    "        elif  current_param.get(\"eval_metric\", \"mae\") == \"logloss\":\n",
    "            score_name = \"test-logloss-mean\"\n",
    "        \n",
    "        print(current_param)  \n",
    "        cv_scores = []\n",
    "        for i in range(repeat_cv):\n",
    "            cv_result = xgb.cv(\n",
    "                params=current_param,\n",
    "                dtrain=dtrain,\n",
    "                obj=cauchyobj,\n",
    "                num_boost_round=num_boost_round,\n",
    "                folds=KFold(n_splits=folds_splits, shuffle=True, random_state=i),\n",
    "                early_stopping_rounds=early_stopping_rounds,\n",
    "                verbose_eval=False\n",
    "            )\n",
    "            fold_score = np.min(cv_result[score_name].values)\n",
    "            cv_scores.append(fold_score)\n",
    "        mean_score = np.mean(cv_scores)\n",
    "        logger.info(f\"Trial {trial.number} 終了: スコア {mean_score}\")\n",
    "        \n",
    "        return mean_score\n",
    "\n",
    "    logger.info(\"Optuna最適化開始\")\n",
    "    N_WARMUP_STEPS = optuna_conf.n_warmup_steps\n",
    "    TIMEOUT = optuna_conf.timeout\n",
    "    N_JOBS = optuna_conf.n_jobs\n",
    "    N_TRIALS = optuna_conf.n_trials\n",
    "    \n",
    "    sampler = optuna.samplers.TPESampler(seed=42)\n",
    "    pruner = optuna.pruners.MedianPruner(n_warmup_steps=N_WARMUP_STEPS)\n",
    "\n",
    "    study = optuna.create_study(direction=\"minimize\", sampler=sampler, pruner=pruner)\n",
    "    study.optimize(objective, n_trials=N_TRIALS, timeout=TIMEOUT, n_jobs=N_JOBS)\n",
    "\n",
    "    best_trial = study.best_trial\n",
    "    logger.info(\"Best trial:\")\n",
    "    logger.info(f\"  Value: {best_trial.value}\")\n",
    "    \n",
    "    for key, value in best_trial.params.items():\n",
    "        print(f\"    {key}: {value}\")\n",
    "    param.update(best_trial.params)\n",
    "\n",
    "    logger.info(\"Optuna最適化終了\")\n",
    "    return param"
   ]
  },
  {
   "cell_type": "code",
   "execution_count": 20,
   "id": "7e15690d",
   "metadata": {
    "execution": {
     "iopub.execute_input": "2025-03-14T09:26:00.660305Z",
     "iopub.status.busy": "2025-03-14T09:26:00.659306Z",
     "iopub.status.idle": "2025-03-14T09:26:00.665645Z",
     "shell.execute_reply": "2025-03-14T09:26:00.665645Z"
    },
    "papermill": {
     "duration": 0.020611,
     "end_time": "2025-03-14T09:26:00.666914",
     "exception": false,
     "start_time": "2025-03-14T09:26:00.646303",
     "status": "completed"
    },
    "tags": []
   },
   "outputs": [
    {
     "name": "stdout",
     "output_type": "stream",
     "text": [
      "not use Optuna, use xgb_model.param\n",
      "param: {'eval_metric': 'rmse', 'booster': 'gbtree', 'eta': 0.02, 'subsample': 0.35, 'colsample_bytree': 0.7, 'num_parallel_tree': 10, 'min_child_weight': 40, 'gamma': 10, 'max_depth': 3}\n",
      "repeat_cv: 10\n",
      "num_boost_round: 3000\n",
      "folds_splits: 5\n",
      "early_stopping_rounds: 25\n"
     ]
    }
   ],
   "source": [
    "IS_OPTUNA = MODEL.optuna_enabled\n",
    "if IS_OPTUNA:\n",
    "    print(\"Optuna use mode\") \n",
    "    optuna_conf = MODEL.xgb_model.optuna\n",
    "    logger.add(os.path.join(OUTPUT_PATH, \"results.log\"), format=\"{time:YYYY-MM-DD at HH:mm:ss} - {level} - {message}\", level=\"INFO\")\n",
    "    param = run_optuna_optimization(param, optuna_conf)\n",
    "    print(\"param updated by optuna\")\n",
    "    results+= [\"param set after optuna is below\", f\"{param}\", \"\"]\n",
    "else:    \n",
    "    print(\"not use Optuna, use xgb_model.param\")\n",
    "\n",
    "\n",
    "\n",
    "print(\"param:\", param)\n",
    "print(\"repeat_cv:\", repeat_cv)\n",
    "print(\"num_boost_round:\", num_boost_round)\n",
    "print(\"folds_splits:\", folds_splits)\n",
    "print(\"early_stopping_rounds:\", early_stopping_rounds)"
   ]
  },
  {
   "cell_type": "code",
   "execution_count": 21,
   "id": "da387416",
   "metadata": {
    "execution": {
     "iopub.execute_input": "2025-03-14T09:26:00.686991Z",
     "iopub.status.busy": "2025-03-14T09:26:00.686991Z",
     "iopub.status.idle": "2025-03-14T09:29:54.282071Z",
     "shell.execute_reply": "2025-03-14T09:29:54.282071Z"
    },
    "papermill": {
     "duration": 233.60415,
     "end_time": "2025-03-14T09:29:54.282071",
     "exception": false,
     "start_time": "2025-03-14T09:26:00.677921",
     "status": "completed"
    },
    "tags": []
   },
   "outputs": [
    {
     "name": "stderr",
     "output_type": "stream",
     "text": [
      "\r",
      "  0%|                                                                                                                                                            | 0/10 [00:00<?, ?it/s]"
     ]
    },
    {
     "name": "stdout",
     "output_type": "stream",
     "text": [
      "[0]\ttrain-rmse:17.09701+0.03178\ttest-rmse:17.09987+0.13412\n"
     ]
    },
    {
     "name": "stdout",
     "output_type": "stream",
     "text": [
      "[50]\ttrain-rmse:13.09105+0.05135\ttest-rmse:13.29433+0.17573\n"
     ]
    },
    {
     "name": "stdout",
     "output_type": "stream",
     "text": [
      "[100]\ttrain-rmse:11.98673+0.04623\ttest-rmse:12.36102+0.18958\n"
     ]
    },
    {
     "name": "stdout",
     "output_type": "stream",
     "text": [
      "[150]\ttrain-rmse:11.56866+0.04595\ttest-rmse:12.09498+0.18051\n"
     ]
    },
    {
     "name": "stdout",
     "output_type": "stream",
     "text": [
      "[200]\ttrain-rmse:11.31139+0.04462\ttest-rmse:11.98665+0.18006\n"
     ]
    },
    {
     "name": "stdout",
     "output_type": "stream",
     "text": [
      "[250]\ttrain-rmse:11.11598+0.04302\ttest-rmse:11.92654+0.17930\n"
     ]
    },
    {
     "name": "stdout",
     "output_type": "stream",
     "text": [
      "[300]\ttrain-rmse:10.94648+0.04269\ttest-rmse:11.89099+0.17988\n"
     ]
    },
    {
     "name": "stdout",
     "output_type": "stream",
     "text": [
      "[350]\ttrain-rmse:10.79496+0.04153\ttest-rmse:11.87250+0.17420\n"
     ]
    },
    {
     "name": "stdout",
     "output_type": "stream",
     "text": [
      "[400]\ttrain-rmse:10.65843+0.04146\ttest-rmse:11.86141+0.17488\n"
     ]
    },
    {
     "name": "stdout",
     "output_type": "stream",
     "text": [
      "[450]\ttrain-rmse:10.52877+0.04190\ttest-rmse:11.85729+0.17383\n"
     ]
    },
    {
     "name": "stdout",
     "output_type": "stream",
     "text": [
      "[479]\ttrain-rmse:10.45793+0.04133\ttest-rmse:11.85630+0.17490\n"
     ]
    },
    {
     "name": "stderr",
     "output_type": "stream",
     "text": [
      "\r",
      " 10%|██████████████▊                                                                                                                                     | 1/10 [00:18<02:45, 18.39s/it]"
     ]
    },
    {
     "name": "stdout",
     "output_type": "stream",
     "text": [
      "[0]\ttrain-rmse:17.09558+0.15609\ttest-rmse:17.08890+0.62624\n"
     ]
    },
    {
     "name": "stdout",
     "output_type": "stream",
     "text": [
      "[50]\ttrain-rmse:13.08888+0.10443\ttest-rmse:13.27733+0.50667\n"
     ]
    },
    {
     "name": "stdout",
     "output_type": "stream",
     "text": [
      "[100]\ttrain-rmse:11.98615+0.10032\ttest-rmse:12.34007+0.43659\n"
     ]
    },
    {
     "name": "stdout",
     "output_type": "stream",
     "text": [
      "[150]\ttrain-rmse:11.56845+0.10099\ttest-rmse:12.06376+0.41084\n"
     ]
    },
    {
     "name": "stdout",
     "output_type": "stream",
     "text": [
      "[200]\ttrain-rmse:11.31120+0.09983\ttest-rmse:11.95218+0.40313\n"
     ]
    },
    {
     "name": "stdout",
     "output_type": "stream",
     "text": [
      "[250]\ttrain-rmse:11.11444+0.09828\ttest-rmse:11.89340+0.39742\n"
     ]
    },
    {
     "name": "stdout",
     "output_type": "stream",
     "text": [
      "[300]\ttrain-rmse:10.94644+0.09908\ttest-rmse:11.86072+0.39443\n"
     ]
    },
    {
     "name": "stdout",
     "output_type": "stream",
     "text": [
      "[350]\ttrain-rmse:10.79615+0.09925\ttest-rmse:11.84203+0.39231\n"
     ]
    },
    {
     "name": "stdout",
     "output_type": "stream",
     "text": [
      "[400]\ttrain-rmse:10.66023+0.09958\ttest-rmse:11.82951+0.38899\n"
     ]
    },
    {
     "name": "stdout",
     "output_type": "stream",
     "text": [
      "[450]\ttrain-rmse:10.53148+0.09992\ttest-rmse:11.82252+0.38858\n"
     ]
    },
    {
     "name": "stdout",
     "output_type": "stream",
     "text": [
      "[485]\ttrain-rmse:10.44588+0.09886\ttest-rmse:11.82207+0.39307\n"
     ]
    },
    {
     "name": "stderr",
     "output_type": "stream",
     "text": [
      "\r",
      " 20%|█████████████████████████████▌                                                                                                                      | 2/10 [00:38<02:33, 19.23s/it]"
     ]
    },
    {
     "name": "stdout",
     "output_type": "stream",
     "text": [
      "[0]\ttrain-rmse:17.09640+0.11920\ttest-rmse:17.09240+0.49363\n"
     ]
    },
    {
     "name": "stdout",
     "output_type": "stream",
     "text": [
      "[50]\ttrain-rmse:13.09158+0.07627\ttest-rmse:13.26836+0.35847\n"
     ]
    },
    {
     "name": "stdout",
     "output_type": "stream",
     "text": [
      "[100]\ttrain-rmse:11.98730+0.06528\ttest-rmse:12.32343+0.31083\n"
     ]
    },
    {
     "name": "stdout",
     "output_type": "stream",
     "text": [
      "[150]\ttrain-rmse:11.56960+0.06350\ttest-rmse:12.05049+0.29650\n"
     ]
    },
    {
     "name": "stdout",
     "output_type": "stream",
     "text": [
      "[200]\ttrain-rmse:11.31506+0.06276\ttest-rmse:11.93204+0.28934\n"
     ]
    },
    {
     "name": "stdout",
     "output_type": "stream",
     "text": [
      "[250]\ttrain-rmse:11.11922+0.06116\ttest-rmse:11.87234+0.28813\n"
     ]
    },
    {
     "name": "stdout",
     "output_type": "stream",
     "text": [
      "[300]\ttrain-rmse:10.95068+0.05955\ttest-rmse:11.84133+0.28188\n"
     ]
    },
    {
     "name": "stdout",
     "output_type": "stream",
     "text": [
      "[350]\ttrain-rmse:10.80159+0.06217\ttest-rmse:11.82233+0.27842\n"
     ]
    },
    {
     "name": "stdout",
     "output_type": "stream",
     "text": [
      "[400]\ttrain-rmse:10.66373+0.06117\ttest-rmse:11.81149+0.27583\n"
     ]
    },
    {
     "name": "stdout",
     "output_type": "stream",
     "text": [
      "[450]\ttrain-rmse:10.53611+0.06265\ttest-rmse:11.80520+0.27021\n"
     ]
    },
    {
     "name": "stdout",
     "output_type": "stream",
     "text": [
      "[500]\ttrain-rmse:10.41437+0.06138\ttest-rmse:11.80332+0.26507\n"
     ]
    },
    {
     "name": "stdout",
     "output_type": "stream",
     "text": [
      "[516]\ttrain-rmse:10.37667+0.06131\ttest-rmse:11.80307+0.26432\n"
     ]
    },
    {
     "name": "stderr",
     "output_type": "stream",
     "text": [
      "\r",
      " 30%|████████████████████████████████████████████▍                                                                                                       | 3/10 [00:59<02:21, 20.20s/it]"
     ]
    },
    {
     "name": "stdout",
     "output_type": "stream",
     "text": [
      "[0]\ttrain-rmse:17.09697+0.07518\ttest-rmse:17.09721+0.30689\n"
     ]
    },
    {
     "name": "stdout",
     "output_type": "stream",
     "text": [
      "[50]\ttrain-rmse:13.09421+0.04931\ttest-rmse:13.26880+0.30137\n"
     ]
    },
    {
     "name": "stdout",
     "output_type": "stream",
     "text": [
      "[100]\ttrain-rmse:11.99289+0.04984\ttest-rmse:12.32349+0.25104\n"
     ]
    },
    {
     "name": "stdout",
     "output_type": "stream",
     "text": [
      "[150]\ttrain-rmse:11.57651+0.05552\ttest-rmse:12.04854+0.22771\n"
     ]
    },
    {
     "name": "stdout",
     "output_type": "stream",
     "text": [
      "[200]\ttrain-rmse:11.31839+0.05734\ttest-rmse:11.93321+0.22145\n"
     ]
    },
    {
     "name": "stdout",
     "output_type": "stream",
     "text": [
      "[250]\ttrain-rmse:11.12409+0.05923\ttest-rmse:11.87324+0.21919\n"
     ]
    },
    {
     "name": "stdout",
     "output_type": "stream",
     "text": [
      "[300]\ttrain-rmse:10.95711+0.06033\ttest-rmse:11.84143+0.22096\n"
     ]
    },
    {
     "name": "stdout",
     "output_type": "stream",
     "text": [
      "[350]\ttrain-rmse:10.80835+0.06355\ttest-rmse:11.81969+0.22261\n"
     ]
    },
    {
     "name": "stdout",
     "output_type": "stream",
     "text": [
      "[400]\ttrain-rmse:10.67250+0.06671\ttest-rmse:11.80753+0.22940\n"
     ]
    },
    {
     "name": "stdout",
     "output_type": "stream",
     "text": [
      "[450]\ttrain-rmse:10.54436+0.06818\ttest-rmse:11.80293+0.23115\n"
     ]
    },
    {
     "name": "stdout",
     "output_type": "stream",
     "text": [
      "[500]\ttrain-rmse:10.42398+0.06830\ttest-rmse:11.79857+0.23815\n"
     ]
    },
    {
     "name": "stdout",
     "output_type": "stream",
     "text": [
      "[550]\ttrain-rmse:10.30778+0.07208\ttest-rmse:11.79610+0.24117\n"
     ]
    },
    {
     "name": "stdout",
     "output_type": "stream",
     "text": [
      "[597]\ttrain-rmse:10.20520+0.07277\ttest-rmse:11.79485+0.24549\n"
     ]
    },
    {
     "name": "stderr",
     "output_type": "stream",
     "text": [
      "\r",
      " 40%|███████████████████████████████████████████████████████████▏                                                                                        | 4/10 [01:24<02:12, 22.07s/it]"
     ]
    },
    {
     "name": "stdout",
     "output_type": "stream",
     "text": [
      "[0]\ttrain-rmse:17.09571+0.08301\ttest-rmse:17.09672+0.33703\n"
     ]
    },
    {
     "name": "stdout",
     "output_type": "stream",
     "text": [
      "[50]\ttrain-rmse:13.09410+0.10302\ttest-rmse:13.27946+0.48086\n"
     ]
    },
    {
     "name": "stdout",
     "output_type": "stream",
     "text": [
      "[100]\ttrain-rmse:11.98649+0.10094\ttest-rmse:12.33639+0.46862\n"
     ]
    },
    {
     "name": "stdout",
     "output_type": "stream",
     "text": [
      "[150]\ttrain-rmse:11.56998+0.10074\ttest-rmse:12.06382+0.44939\n"
     ]
    },
    {
     "name": "stdout",
     "output_type": "stream",
     "text": [
      "[200]\ttrain-rmse:11.31619+0.09928\ttest-rmse:11.94719+0.43658\n"
     ]
    },
    {
     "name": "stdout",
     "output_type": "stream",
     "text": [
      "[250]\ttrain-rmse:11.12160+0.09766\ttest-rmse:11.88983+0.42643\n"
     ]
    },
    {
     "name": "stdout",
     "output_type": "stream",
     "text": [
      "[300]\ttrain-rmse:10.95490+0.09714\ttest-rmse:11.85213+0.41857\n"
     ]
    },
    {
     "name": "stdout",
     "output_type": "stream",
     "text": [
      "[350]\ttrain-rmse:10.80623+0.09740\ttest-rmse:11.83083+0.41151\n"
     ]
    },
    {
     "name": "stdout",
     "output_type": "stream",
     "text": [
      "[400]\ttrain-rmse:10.67005+0.09669\ttest-rmse:11.81948+0.40565\n"
     ]
    },
    {
     "name": "stdout",
     "output_type": "stream",
     "text": [
      "[450]\ttrain-rmse:10.54146+0.09701\ttest-rmse:11.81140+0.40156\n"
     ]
    },
    {
     "name": "stdout",
     "output_type": "stream",
     "text": [
      "[500]\ttrain-rmse:10.42151+0.09613\ttest-rmse:11.80814+0.39823\n"
     ]
    },
    {
     "name": "stdout",
     "output_type": "stream",
     "text": [
      "[545]\ttrain-rmse:10.31879+0.09746\ttest-rmse:11.80760+0.39557\n"
     ]
    },
    {
     "name": "stderr",
     "output_type": "stream",
     "text": [
      "\r",
      " 50%|██████████████████████████████████████████████████████████████████████████                                                                          | 5/10 [01:47<01:52, 22.43s/it]"
     ]
    },
    {
     "name": "stdout",
     "output_type": "stream",
     "text": [
      "[0]\ttrain-rmse:17.09577+0.07370\ttest-rmse:17.09780+0.29903\n"
     ]
    },
    {
     "name": "stdout",
     "output_type": "stream",
     "text": [
      "[50]\ttrain-rmse:13.09531+0.06491\ttest-rmse:13.27030+0.25578\n"
     ]
    },
    {
     "name": "stdout",
     "output_type": "stream",
     "text": [
      "[100]\ttrain-rmse:11.99037+0.06777\ttest-rmse:12.31935+0.26278\n"
     ]
    },
    {
     "name": "stdout",
     "output_type": "stream",
     "text": [
      "[150]\ttrain-rmse:11.57374+0.06562\ttest-rmse:12.04010+0.26439\n"
     ]
    },
    {
     "name": "stdout",
     "output_type": "stream",
     "text": [
      "[200]\ttrain-rmse:11.31704+0.06484\ttest-rmse:11.92216+0.25990\n"
     ]
    },
    {
     "name": "stdout",
     "output_type": "stream",
     "text": [
      "[250]\ttrain-rmse:11.11943+0.06403\ttest-rmse:11.86472+0.25917\n"
     ]
    },
    {
     "name": "stdout",
     "output_type": "stream",
     "text": [
      "[300]\ttrain-rmse:10.95192+0.06558\ttest-rmse:11.83332+0.25403\n"
     ]
    },
    {
     "name": "stdout",
     "output_type": "stream",
     "text": [
      "[350]\ttrain-rmse:10.80197+0.06829\ttest-rmse:11.81107+0.25255\n"
     ]
    },
    {
     "name": "stdout",
     "output_type": "stream",
     "text": [
      "[400]\ttrain-rmse:10.66466+0.06982\ttest-rmse:11.80133+0.25133\n"
     ]
    },
    {
     "name": "stdout",
     "output_type": "stream",
     "text": [
      "[450]\ttrain-rmse:10.53717+0.07169\ttest-rmse:11.79512+0.25154\n"
     ]
    },
    {
     "name": "stdout",
     "output_type": "stream",
     "text": [
      "[500]\ttrain-rmse:10.41664+0.07318\ttest-rmse:11.79250+0.25018\n"
     ]
    },
    {
     "name": "stdout",
     "output_type": "stream",
     "text": [
      "[550]\ttrain-rmse:10.30185+0.07321\ttest-rmse:11.78793+0.25212\n"
     ]
    },
    {
     "name": "stdout",
     "output_type": "stream",
     "text": [
      "[598]\ttrain-rmse:10.19770+0.07449\ttest-rmse:11.78785+0.25519\n"
     ]
    },
    {
     "name": "stderr",
     "output_type": "stream",
     "text": [
      "\r",
      " 60%|████████████████████████████████████████████████████████████████████████████████████████▊                                                           | 6/10 [02:14<01:35, 23.82s/it]"
     ]
    },
    {
     "name": "stdout",
     "output_type": "stream",
     "text": [
      "[0]\ttrain-rmse:17.09681+0.10060\ttest-rmse:17.09615+0.40077\n"
     ]
    },
    {
     "name": "stdout",
     "output_type": "stream",
     "text": [
      "[50]\ttrain-rmse:13.09642+0.02137\ttest-rmse:13.29052+0.16981\n"
     ]
    },
    {
     "name": "stdout",
     "output_type": "stream",
     "text": [
      "[100]\ttrain-rmse:11.98635+0.01750\ttest-rmse:12.34253+0.10292\n"
     ]
    },
    {
     "name": "stdout",
     "output_type": "stream",
     "text": [
      "[150]\ttrain-rmse:11.56728+0.02673\ttest-rmse:12.07008+0.11691\n"
     ]
    },
    {
     "name": "stdout",
     "output_type": "stream",
     "text": [
      "[200]\ttrain-rmse:11.31304+0.02876\ttest-rmse:11.95791+0.13733\n"
     ]
    },
    {
     "name": "stdout",
     "output_type": "stream",
     "text": [
      "[250]\ttrain-rmse:11.11742+0.03210\ttest-rmse:11.89477+0.15003\n"
     ]
    },
    {
     "name": "stdout",
     "output_type": "stream",
     "text": [
      "[300]\ttrain-rmse:10.95118+0.03150\ttest-rmse:11.85940+0.15521\n"
     ]
    },
    {
     "name": "stdout",
     "output_type": "stream",
     "text": [
      "[350]\ttrain-rmse:10.80292+0.03180\ttest-rmse:11.84001+0.15698\n"
     ]
    },
    {
     "name": "stdout",
     "output_type": "stream",
     "text": [
      "[400]\ttrain-rmse:10.66714+0.03228\ttest-rmse:11.82742+0.15929\n"
     ]
    },
    {
     "name": "stdout",
     "output_type": "stream",
     "text": [
      "[450]\ttrain-rmse:10.53924+0.03212\ttest-rmse:11.82031+0.16298\n"
     ]
    },
    {
     "name": "stdout",
     "output_type": "stream",
     "text": [
      "[500]\ttrain-rmse:10.41754+0.03402\ttest-rmse:11.81725+0.16530\n"
     ]
    },
    {
     "name": "stdout",
     "output_type": "stream",
     "text": [
      "[540]\ttrain-rmse:10.32416+0.03400\ttest-rmse:11.81689+0.16286\n"
     ]
    },
    {
     "name": "stderr",
     "output_type": "stream",
     "text": [
      "\r",
      " 70%|███████████████████████████████████████████████████████████████████████████████████████████████████████▌                                            | 7/10 [02:38<01:11, 23.86s/it]"
     ]
    },
    {
     "name": "stdout",
     "output_type": "stream",
     "text": [
      "[0]\ttrain-rmse:17.09499+0.20732\ttest-rmse:17.08058+0.81201\n"
     ]
    },
    {
     "name": "stdout",
     "output_type": "stream",
     "text": [
      "[50]\ttrain-rmse:13.08769+0.11963\ttest-rmse:13.27449+0.69300\n"
     ]
    },
    {
     "name": "stdout",
     "output_type": "stream",
     "text": [
      "[100]\ttrain-rmse:11.98090+0.09921\ttest-rmse:12.34761+0.56869\n"
     ]
    },
    {
     "name": "stdout",
     "output_type": "stream",
     "text": [
      "[150]\ttrain-rmse:11.55998+0.09665\ttest-rmse:12.08804+0.51579\n"
     ]
    },
    {
     "name": "stdout",
     "output_type": "stream",
     "text": [
      "[200]\ttrain-rmse:11.30159+0.09529\ttest-rmse:11.98118+0.48695\n"
     ]
    },
    {
     "name": "stdout",
     "output_type": "stream",
     "text": [
      "[250]\ttrain-rmse:11.10763+0.09685\ttest-rmse:11.93107+0.46484\n"
     ]
    },
    {
     "name": "stdout",
     "output_type": "stream",
     "text": [
      "[300]\ttrain-rmse:10.93736+0.09716\ttest-rmse:11.90763+0.45170\n"
     ]
    },
    {
     "name": "stdout",
     "output_type": "stream",
     "text": [
      "[350]\ttrain-rmse:10.78715+0.09904\ttest-rmse:11.89271+0.44227\n"
     ]
    },
    {
     "name": "stdout",
     "output_type": "stream",
     "text": [
      "[400]\ttrain-rmse:10.64782+0.09983\ttest-rmse:11.88469+0.43738\n"
     ]
    },
    {
     "name": "stdout",
     "output_type": "stream",
     "text": [
      "[445]\ttrain-rmse:10.53268+0.10163\ttest-rmse:11.88371+0.43433\n"
     ]
    },
    {
     "name": "stderr",
     "output_type": "stream",
     "text": [
      "\r",
      " 80%|██████████████████████████████████████████████████████████████████████████████████████████████████████████████████████▍                             | 8/10 [03:02<00:48, 24.11s/it]"
     ]
    },
    {
     "name": "stdout",
     "output_type": "stream",
     "text": [
      "[0]\ttrain-rmse:17.09566+0.19980\ttest-rmse:17.08059+0.83823\n"
     ]
    },
    {
     "name": "stdout",
     "output_type": "stream",
     "text": [
      "[50]\ttrain-rmse:13.08925+0.11493\ttest-rmse:13.28272+0.68613\n"
     ]
    },
    {
     "name": "stdout",
     "output_type": "stream",
     "text": [
      "[100]\ttrain-rmse:11.98181+0.08738\ttest-rmse:12.35771+0.52371\n"
     ]
    },
    {
     "name": "stdout",
     "output_type": "stream",
     "text": [
      "[150]\ttrain-rmse:11.56290+0.07505\ttest-rmse:12.09090+0.43133\n"
     ]
    },
    {
     "name": "stdout",
     "output_type": "stream",
     "text": [
      "[200]\ttrain-rmse:11.30862+0.07115\ttest-rmse:11.97922+0.37889\n"
     ]
    },
    {
     "name": "stdout",
     "output_type": "stream",
     "text": [
      "[250]\ttrain-rmse:11.11247+0.07019\ttest-rmse:11.92226+0.34402\n"
     ]
    },
    {
     "name": "stdout",
     "output_type": "stream",
     "text": [
      "[300]\ttrain-rmse:10.94686+0.07196\ttest-rmse:11.89057+0.32582\n"
     ]
    },
    {
     "name": "stdout",
     "output_type": "stream",
     "text": [
      "[350]\ttrain-rmse:10.79634+0.07196\ttest-rmse:11.87017+0.31576\n"
     ]
    },
    {
     "name": "stdout",
     "output_type": "stream",
     "text": [
      "[400]\ttrain-rmse:10.66039+0.07457\ttest-rmse:11.85692+0.31111\n"
     ]
    },
    {
     "name": "stdout",
     "output_type": "stream",
     "text": [
      "[450]\ttrain-rmse:10.53096+0.07485\ttest-rmse:11.84791+0.30402\n"
     ]
    },
    {
     "name": "stdout",
     "output_type": "stream",
     "text": [
      "[500]\ttrain-rmse:10.41047+0.07707\ttest-rmse:11.84131+0.30074\n"
     ]
    },
    {
     "name": "stdout",
     "output_type": "stream",
     "text": [
      "[539]\ttrain-rmse:10.32042+0.07687\ttest-rmse:11.84261+0.29724\n"
     ]
    },
    {
     "name": "stderr",
     "output_type": "stream",
     "text": [
      "\r",
      " 90%|█████████████████████████████████████████████████████████████████████████████████████████████████████████████████████████████████████▏              | 9/10 [03:26<00:24, 24.15s/it]"
     ]
    },
    {
     "name": "stdout",
     "output_type": "stream",
     "text": [
      "[0]\ttrain-rmse:17.09709+0.13549\ttest-rmse:17.09221+0.55146\n"
     ]
    },
    {
     "name": "stdout",
     "output_type": "stream",
     "text": [
      "[50]\ttrain-rmse:13.09123+0.08895\ttest-rmse:13.27298+0.49636\n"
     ]
    },
    {
     "name": "stdout",
     "output_type": "stream",
     "text": [
      "[100]\ttrain-rmse:11.98870+0.08064\ttest-rmse:12.33515+0.41405\n"
     ]
    },
    {
     "name": "stdout",
     "output_type": "stream",
     "text": [
      "[150]\ttrain-rmse:11.57303+0.08407\ttest-rmse:12.06709+0.38128\n"
     ]
    },
    {
     "name": "stdout",
     "output_type": "stream",
     "text": [
      "[200]\ttrain-rmse:11.31784+0.08144\ttest-rmse:11.95030+0.36810\n"
     ]
    },
    {
     "name": "stdout",
     "output_type": "stream",
     "text": [
      "[250]\ttrain-rmse:11.12329+0.08034\ttest-rmse:11.88946+0.35667\n"
     ]
    },
    {
     "name": "stdout",
     "output_type": "stream",
     "text": [
      "[300]\ttrain-rmse:10.95708+0.08105\ttest-rmse:11.85522+0.35108\n"
     ]
    },
    {
     "name": "stdout",
     "output_type": "stream",
     "text": [
      "[350]\ttrain-rmse:10.80932+0.07889\ttest-rmse:11.83758+0.34531\n"
     ]
    },
    {
     "name": "stdout",
     "output_type": "stream",
     "text": [
      "[400]\ttrain-rmse:10.67321+0.07726\ttest-rmse:11.82495+0.33729\n"
     ]
    },
    {
     "name": "stdout",
     "output_type": "stream",
     "text": [
      "[450]\ttrain-rmse:10.54494+0.07949\ttest-rmse:11.81781+0.33399\n"
     ]
    },
    {
     "name": "stdout",
     "output_type": "stream",
     "text": [
      "[500]\ttrain-rmse:10.42464+0.07896\ttest-rmse:11.81405+0.32784\n"
     ]
    },
    {
     "name": "stdout",
     "output_type": "stream",
     "text": [
      "[550]\ttrain-rmse:10.30927+0.07836\ttest-rmse:11.80995+0.32173\n"
     ]
    },
    {
     "name": "stdout",
     "output_type": "stream",
     "text": [
      "[599]\ttrain-rmse:10.20159+0.07879\ttest-rmse:11.80990+0.32070\n"
     ]
    },
    {
     "name": "stderr",
     "output_type": "stream",
     "text": [
      "\r",
      "100%|███████████████████████████████████████████████████████████████████████████████████████████████████████████████████████████████████████████████████| 10/10 [03:53<00:00, 24.87s/it]"
     ]
    },
    {
     "name": "stderr",
     "output_type": "stream",
     "text": [
      "\r",
      "100%|███████████████████████████████████████████████████████████████████████████████████████████████████████████████████████████████████████████████████| 10/10 [03:53<00:00, 23.34s/it]"
     ]
    },
    {
     "name": "stderr",
     "output_type": "stream",
     "text": [
      "\n"
     ]
    }
   ],
   "source": [
    "if param.get(\"eval_metric\", \"mae\") == \"rmse\":\n",
    "    score_key = \"test-rmse-mean\"\n",
    "    ylabel = \"Test RMSE Mean\"\n",
    "    title = \"Learning Curve: Test RMSE vs Boosting Rounds\"\n",
    "elif param.get(\"eval_metric\", \"mae\") == \"mae\":\n",
    "    score_key = \"test-mae-mean\"\n",
    "    ylabel = \"Test MAE Mean\"\n",
    "    title = \"Learning Curve: Test MAE vs Boosting Rounds\"\n",
    "elif param.get(\"eval_metric\", \"mae\") == \"logloss\":\n",
    "    score_key = \"test-logloss-mean\"\n",
    "    ylabel = \"Test Logloss Mean\"\n",
    "    title = \"Learning Curve: Test Logloss vs Boosting Rounds\"\n",
    "\n",
    "\n",
    "for i in tqdm(range(repeat_cv), leave=True, dynamic_ncols=True): \n",
    "    cv_result = xgb.cv(\n",
    "        params=param,\n",
    "        dtrain=dtrain,\n",
    "        obj=cauchyobj,\n",
    "        num_boost_round=num_boost_round,\n",
    "        folds=KFold(n_splits=folds_splits, shuffle=True, random_state=i),\n",
    "        early_stopping_rounds=early_stopping_rounds,\n",
    "        verbose_eval=50\n",
    "    )\n",
    "    \"\"\"\n",
    "    train-mae-mean: 各fold における訓練データの MAE の平均値。\n",
    "    train-mae-std: 訓練データの MAE の標準偏差。\n",
    "    test-mae-mean: 各fold における検証データの MAE の平均値。\n",
    "    test-mae-std: 検証データの MAE の標準偏差。\n",
    "    \"\"\"\n",
    "    xgb_cv.append(cv_result)\n",
    "    \n",
    "\n",
    "\n",
    "\n",
    "# 各 repeater ごとの最適ブーストラウンド数と検証MAE\n",
    "iteration_counts = [np.argmin(cv[score_key].values) for cv in xgb_cv]\n",
    "val_mae = [np.min(cv[score_key].values) for cv in xgb_cv]\n",
    "\n",
    "mean_iteration = np.mean(iteration_counts)\n",
    "mean_val_mae = np.mean(val_mae)\n",
    "min_val_mae = np.min(val_mae)\n",
    "results.append(f\"mean_iteration: {mean_iteration}\")\n",
    "results.append(f\"mean_val_{param['eval_metric']}: {mean_val_mae}\")\n",
    "results.append(f\"min_val_{param['eval_metric']}: {min_val_mae}\")\n",
    "results.append(\"\")\n",
    "\n",
    "###\n",
    "plt.figure(figsize=(10, 6))\n",
    "for i, cv_result in enumerate(xgb_cv):\n",
    "    rounds = np.arange(len(cv_result[score_key]))\n",
    "    plt.plot(rounds, cv_result[score_key], label=f\"CV repeater {i+1}\")\n",
    "    \n",
    "plt.xlabel(\"Boosting Round\")\n",
    "plt.ylabel(ylabel)\n",
    "plt.title(title)\n",
    "plt.legend()\n",
    "plt.grid(True)\n",
    "\n",
    "plt.savefig(os.path.join(OUTPUT_PATH, f\"learning_curve_{PREDICT_YEAR}.png\"))\n",
    "plt.close()\n",
    "###\n"
   ]
  },
  {
   "cell_type": "code",
   "execution_count": 22,
   "id": "305ff569",
   "metadata": {
    "execution": {
     "iopub.execute_input": "2025-03-14T09:29:54.311573Z",
     "iopub.status.busy": "2025-03-14T09:29:54.311573Z",
     "iopub.status.idle": "2025-03-14T09:29:54.317892Z",
     "shell.execute_reply": "2025-03-14T09:29:54.317892Z"
    },
    "papermill": {
     "duration": 0.031543,
     "end_time": "2025-03-14T09:29:54.317892",
     "exception": false,
     "start_time": "2025-03-14T09:29:54.286349",
     "status": "completed"
    },
    "tags": []
   },
   "outputs": [
    {
     "name": "stdout",
     "output_type": "stream",
     "text": [
      "最適ブーストラウンド数: [455, 460, 492, 573, 521, 574, 516, 421, 514, 575]\n",
      "test-rmse-mean: [11.856140869213776, 11.821668790377164, 11.802915182970196, 11.791786728862732, 11.806482022203232, 11.787226943661391, 11.81554572986337, 11.882044409587863, 11.840412422314662, 11.808547391042774]\n"
     ]
    }
   ],
   "source": [
    "print(\"最適ブーストラウンド数:\", iteration_counts)\n",
    "print(f\"{score_key}:\", val_mae)\n",
    "results.append(f\"最適ブーストラウンド: {iteration_counts}\")\n",
    "results.append(f\"{score_key}: {val_mae}\")\n",
    "results.append(\"\")"
   ]
  },
  {
   "cell_type": "code",
   "execution_count": 23,
   "id": "b9494aef",
   "metadata": {
    "execution": {
     "iopub.execute_input": "2025-03-14T09:29:54.344828Z",
     "iopub.status.busy": "2025-03-14T09:29:54.344828Z",
     "iopub.status.idle": "2025-03-14T09:33:19.195646Z",
     "shell.execute_reply": "2025-03-14T09:33:19.195646Z"
    },
    "papermill": {
     "duration": 204.890292,
     "end_time": "2025-03-14T09:33:19.222495",
     "exception": false,
     "start_time": "2025-03-14T09:29:54.332203",
     "status": "completed"
    },
    "tags": []
   },
   "outputs": [
    {
     "name": "stderr",
     "output_type": "stream",
     "text": [
      "\r",
      "  0%|                                                                                                                                                            | 0/10 [00:00<?, ?it/s]"
     ]
    },
    {
     "name": "stderr",
     "output_type": "stream",
     "text": [
      "C:\\Users\\81809\\AppData\\Local\\Temp\\ipykernel_8504\\3386215446.py:18: FutureWarning: Setting an item of incompatible dtype is deprecated and will raise an error in a future version of pandas. Value '[ 20.935715     0.64134747  16.734589     6.8855968   -5.6185436\n",
      "  -1.2961326    7.3247476    7.64661     24.002602     2.323464\n",
      "  11.140344     7.034614     7.027162     7.5234756   -4.35444\n",
      "  21.365816    -1.9091345    6.804009     9.465763     2.2511835\n",
      "   3.3430052    3.5779748   -0.5277956   -0.94944024   5.7619395\n",
      "   6.3089533    3.1836104   16.717825     4.1956315   -6.4647937\n",
      "  -3.5189605    5.090701     0.19093601  20.350683     8.327266\n",
      "  -6.7865434   -2.0077322    7.5868683    5.5518503    4.8729267\n",
      "   0.9658265    8.926731    -4.216959    14.332117     3.6433938\n",
      "   5.022259   -11.422055     2.8104734   15.481629    -0.6734806\n",
      "  21.567266    -2.144273     5.5245347    5.1160226   -3.5526912\n",
      "   7.485058     1.601335     5.842658     1.1888968    9.93713\n",
      "  -5.0776253   -0.60346055   1.0861881   23.259424    -1.7133161\n",
      "   7.917062     2.7310326   -5.3514967   11.872931    -2.5136623\n",
      "   4.8193      24.347754    -5.58664     -2.640911     2.858448\n",
      "   5.660009    -3.040663     6.066238    16.981344    20.706778\n",
      "   2.567514    -4.607246     1.4841462   -1.1409487    0.78287816\n",
      "   3.399525     1.7799766  -10.466272    -2.7471504   -2.4774592\n",
      "   8.801133     6.674502     3.589232     0.9027087   -3.1379066\n",
      "  18.159071     1.3637856    5.844672    21.001741    -1.6326349\n",
      "  -4.3387403   15.142861    18.779697    12.631753     4.429735\n",
      "  -5.453258    -0.75557995  11.9748335    5.56888     -3.7010713\n",
      "   0.7332503   -5.414986     6.707873    -5.946415   -14.480857\n",
      "   4.5641317    0.19398622   0.6779952    3.3077114    3.5983598\n",
      "   3.1046884    1.4892774   10.742773    10.028733     7.5347805\n",
      "   5.832409    12.217167    -2.0886173   -1.9240687    3.3807766\n",
      "  19.223095    -2.40751     12.054938   -13.297762    -6.7637815\n",
      "  13.893428     3.093126     7.8972716    8.298202    -1.9469591\n",
      "   0.9944407   -3.7398038    8.162388     4.7670274    2.5198972\n",
      "  -0.9857522   10.603736     1.0458227    6.6913104   -1.4615877\n",
      "   1.9541011    1.2572713   19.868141    16.077398     9.852118\n",
      "   4.7752156    5.0234737    2.8702378   -0.44367802   0.67782646\n",
      "   1.1348388    0.14079806  10.029927    13.203596    -1.6539305\n",
      "   2.9661505   -0.35177475   3.3047009    1.704342     3.5374258\n",
      "   6.605429     1.7849976   -2.1879475   -0.43915427   5.7641435\n",
      "   1.1653773   18.420998     2.8716047    7.202998     3.4366138\n",
      "  -1.7900151    3.6127293    8.728048    -7.3359427    4.3296275\n",
      "  20.945967    11.279273    -0.050986     1.526121     6.5370946\n",
      "   3.1687968   14.707412    -0.50747114   3.7622278    7.531547\n",
      "   5.6303506    3.3347979    9.681293    14.9358425   11.263397\n",
      "   2.1738603  -23.316862     5.7054286    4.2265787    6.9387655\n",
      "   4.925297     5.006291     4.5025377    5.173802     1.6751196\n",
      "  19.470953    10.236003    29.700724    42.485943    26.977251\n",
      "  24.328232    20.367044    23.464922     8.920173     0.265465\n",
      "  13.874892     5.4559493   -5.2660065    4.800683    19.331825\n",
      "  24.849852     8.687683    22.465189    12.409724     9.408203\n",
      "   7.875224    10.074341    -2.813538    33.601707    15.451503\n",
      "   4.2316484   35.58686      4.512354    -3.1026418   21.137844\n",
      "   2.442102    12.97157     15.506202     5.7169333    3.1565084\n",
      "  11.09602     19.220234    34.98667     14.0314665   -1.0754932\n",
      "  -1.4707363    1.791372   -14.325721     6.5151305   14.504073\n",
      "  -0.44793087  21.784044    43.95144     -5.944525     0.9176316\n",
      "  15.248652     2.9722455   -5.302164     8.496927    26.691292\n",
      "  11.142322     8.066032     4.6497293   -3.0150392    2.9629867\n",
      "  29.056171     9.888205    16.886572    14.68801     -9.813292\n",
      "  14.115501    10.992103     3.6426394   -4.926912     4.1803975\n",
      "   2.4038494    2.7117271   37.90179     13.590778    34.955822\n",
      "  34.68941     -1.403917    29.532673    -0.69281554  -2.0369484\n",
      "   7.263364    13.133501    13.372395    13.984559     8.888848\n",
      "   4.137273    11.585272    -3.557456    11.474215    -3.971199\n",
      "  19.002996    27.039856    11.494336    -0.4093685   -1.2308807\n",
      "   1.2292658    8.343666   -20.948814   -10.899783    -9.960526\n",
      "   2.0298543    4.8889747    8.688633     9.478248    32.413006\n",
      "  16.562767     4.3719234   38.22088     -1.7067744   10.751182\n",
      "   5.5349183    2.82141      3.3175297    1.7822803    1.5761311\n",
      "   5.213904    -4.981335     7.020177    -0.7384278    7.6119323\n",
      "  -5.3484745   19.480091    13.088832   -11.93584     21.769485\n",
      "  -7.519958     0.30066755   9.2885275   -4.4019256  -12.343287\n",
      "  -2.6132011  -22.987198   -17.723019    -8.945477    -4.880854\n",
      "   3.6170392   -5.695964     1.5190338   -4.237999    -4.2959065\n",
      "  -5.9517817    5.821995    -7.1632376   -3.7523084  -18.897482\n",
      "   1.8171558    4.062194    -6.1234217   -4.1410995    2.5794961\n",
      "   6.5507917   -3.7203376   -7.1698895   -3.1408534   -1.6342813\n",
      "  -1.2662481  -22.821758    -0.2904746    1.9012914   -6.3509307\n",
      "  -6.8229384   -5.7071238   -8.428746    -7.223304    -2.6559277\n",
      "  -5.8118496    0.914854    -6.1597214    0.59245074   1.9284368\n",
      " -10.683967    -7.2203326   -5.9659553   -2.8525486   -9.246644\n",
      "  -4.159114   -15.684319   -25.655403    -3.8770838  -18.28719\n",
      "  -1.7690599   -7.0530186   -2.9551475   -2.4886806   -8.069313\n",
      "   0.18237436  -7.0821114  -25.568066     2.908415   -21.4822\n",
      "  -6.7094746  -11.475253     4.5302362    3.4870448   -8.679545\n",
      "   3.2265217   -4.773364    -5.650141    -3.9935367   -5.9603095\n",
      "  -9.49101     -1.5380133    4.107051     0.629355   -11.703448\n",
      "  -6.004413     2.7974005    2.369535     1.0490935   -6.3502903\n",
      "  -2.7850506    6.1340427  -11.49181      3.2612472  -10.345633\n",
      "  -3.3981476   -9.044698    -4.522394    -2.0152671  -11.872503\n",
      "  -3.1063635  -22.084637   -15.16134     -2.086631    -1.0913752\n",
      "  -2.236306    -2.450058    -2.0207047   -0.15119366   1.7106683\n",
      "  -1.1617544  -30.476002    -4.56542     -8.904895    -8.525099\n",
      "   1.4231688    1.6827738   -6.5633154   -1.3166872    1.9081515\n",
      "   0.07309638  -8.477198     1.5851182    6.834835     0.08765969\n",
      "  -7.5269027   -0.79873353 -14.486561   -12.722976    -2.807269\n",
      "  -1.938765    -2.1663349   -2.3114882   -6.5377336  -16.024698\n",
      "  -9.090599    -2.3184955    3.20071     -8.519791   -23.15937\n",
      "  -0.84664893  -2.6561873   -4.132414     3.0841596    8.526578\n",
      "  -0.3462455    0.9141912    2.6553726    1.7336577  -13.410288\n",
      "  -8.4776     -16.696028    -4.3409595   -3.9468694    1.2139171\n",
      " -10.152239     1.9669591   -1.3650877  -25.399311   -25.53753\n",
      " -16.960918    -4.6452584   -3.6883912   -4.471722     0.4478646\n",
      "  -8.209033    -7.857287    -1.6141659   -2.646389     2.6903164\n",
      " -16.041237    -1.8004813    3.6660845   -6.1383266    8.194591\n",
      "  -6.784784     5.036672    -7.077866   -16.928114   -15.438569\n",
      "  -3.5201735    6.465339    -9.630276    -3.1909025   -0.16711153\n",
      "   2.7740867  -15.175198     0.42414692 -17.44964     -2.2033756\n",
      "  -5.8210254   -4.667277    -3.9086628   -1.5996795  -15.040873\n",
      "   0.49627155   4.4175014    4.1284866  -10.540976     0.7414857\n",
      "  -1.3278389   -6.678318    -4.0786633   -4.5168467   -2.8663561\n",
      "   4.4182854  -20.245962   -35.709354    -3.1200624   -4.9595537\n",
      "  -5.526253     3.8555014  -11.956526   -28.168472    -6.0959544\n",
      "   3.80385      2.450251   -34.08907    -38.314377     1.1946838\n",
      "  -3.8462126  -26.001745     7.1619143  -24.354553    -2.881219\n",
      "  -1.5285047   -9.764511   -29.427912    -0.56018585 -15.6699915\n",
      " -18.362404    -5.6116533   -3.0289378    3.9786217  -39.57134\n",
      "   0.9328113   -5.868605   -13.337481     7.9363804    1.6195344\n",
      "   6.476597   -10.620965    -3.5775278  -17.406216    -8.944833\n",
      "  -7.860087    -2.7647161    2.41907      5.559199   -30.359236\n",
      " -11.430463    -2.8091705   11.994759   -31.797808    -4.234623\n",
      "  -8.86987     -1.8118258    4.6070395   -2.7783198   -3.365195\n",
      "   6.9459987    3.078011   -13.0240555  -10.608526   -34.642384\n",
      "  -5.8944807  -23.33613    -27.998873    -8.269427   -15.573314\n",
      " -12.8566265   -3.1840034  -38.18482    -30.295113   -14.122533\n",
      "  -4.4727573   -6.596955   -32.894924    -8.492927     9.693314\n",
      " -11.162367    -3.0084214   -7.946055   -11.697856    -8.130126\n",
      " -25.193436   -28.380262     3.902068    -4.266938    -8.182365\n",
      " -23.719551    -3.4067774  -27.09879     11.258976    -1.725745\n",
      "   8.26304      2.7541282  -25.929901    -4.16847    -30.395456\n",
      " -15.212633    -8.721007     0.9037705    3.887135   -25.517973\n",
      "   5.291705   -13.233605    -1.8246418  -34.713726   -12.163505\n",
      "  16.846064     4.736146   -13.940734   -15.064433    -5.26796\n",
      "   7.809793  ]' has dtype incompatible with int64, please explicitly cast to a compatible dtype first.\n",
      "  preds[val_index] = model.predict(dval_i)\n"
     ]
    },
    {
     "name": "stderr",
     "output_type": "stream",
     "text": [
      "\r",
      " 10%|██████████████▊                                                                                                                                     | 1/10 [00:18<02:47, 18.61s/it]"
     ]
    },
    {
     "name": "stderr",
     "output_type": "stream",
     "text": [
      "C:\\Users\\81809\\AppData\\Local\\Temp\\ipykernel_8504\\3386215446.py:18: FutureWarning: Setting an item of incompatible dtype is deprecated and will raise an error in a future version of pandas. Value '[-8.00725269e+00  1.55320287e+00  1.54033747e+01 -2.00241014e-01\n",
      "  7.06732559e+00  5.43065739e+00  2.17355003e+01 -1.68726778e+00\n",
      "  1.32333202e+01  6.66532946e+00 -3.39519525e+00 -5.89584398e+00\n",
      "  5.87907076e+00  8.34605217e+00 -2.89535046e+00  2.32616940e+01\n",
      "  8.05909157e-01  2.61138177e+00  1.07104807e+01  9.47273636e+00\n",
      "  8.27318382e+00  4.29617310e+00  6.41652584e+00  3.88432717e+00\n",
      " -6.78955841e+00  2.49443245e+00  8.03188705e+00 -1.83423853e+00\n",
      "  2.49526539e+01  1.66920967e+01  1.28082561e+01  3.99156380e+00\n",
      "  6.69091940e+00 -2.69611692e+00  6.11463833e+00  6.21526289e+00\n",
      " -3.81431770e+00  3.07986498e-01  8.71128178e+00  2.20016155e+01\n",
      "  1.21665668e+01  1.11518669e+01  1.79614735e+01  8.07664299e+00\n",
      "  1.64190102e+01  7.98264122e+00  7.47577238e+00  5.45794773e+00\n",
      " -2.12500066e-01  6.78338957e+00  7.67391503e-01 -7.47169137e-01\n",
      "  2.06470013e+00  6.70240974e+00  8.65259552e+00  2.52767677e+01\n",
      "  7.34559631e+00 -4.89859104e-01  1.00018454e+01  9.22191048e+00\n",
      "  6.36333561e+00  6.97451115e+00 -1.87891245e+00 -3.60639524e+00\n",
      " -1.45155060e+00  2.63724804e+00 -1.68777037e+00  1.48897493e+00\n",
      "  1.92667637e+01  1.20653400e+01  6.34619296e-01  2.83221645e+01\n",
      "  1.37949476e+01  3.88839269e+00  1.93220997e+01 -7.62103748e+00\n",
      "  6.51183414e+00  6.12899923e+00  3.45470023e+00  3.66222763e+00\n",
      "  4.65351194e-01 -3.08814719e-02  1.71555939e+01  7.60999918e+00\n",
      " -2.38194013e+00 -1.01114483e+01  4.17283916e+00  8.62470150e+00\n",
      "  2.88719344e+00  1.55812287e+00  2.11053920e+00 -5.03864765e+00\n",
      " -3.37933302e+00  1.82882118e+01 -3.08304381e+00 -2.06232905e+00\n",
      " -2.25895810e+00  1.36410122e+01  1.06701050e+01  1.54809237e+01\n",
      "  3.83022857e+00 -6.19534254e+00  1.27406216e+01  8.58384132e+00\n",
      "  1.16495113e+01  2.37392473e+00  9.55203724e+00 -9.80119169e-01\n",
      "  1.79828606e+01 -2.39070845e+00  2.14209862e+01 -2.65466094e+00\n",
      "  1.01738513e+00  1.43420839e+01  1.90414658e+01 -3.03305078e+00\n",
      "  2.25893116e+00 -3.71186399e+00 -9.24051571e+00 -6.42499352e+00\n",
      "  2.41007400e+00  1.15050077e+00  5.94482720e-01 -1.82224500e+00\n",
      " -2.59125543e+00  1.31121919e-01 -5.63709974e+00  6.79555941e+00\n",
      "  2.93598533e+00  2.96699047e+01  7.24019670e+00  2.70651970e+01\n",
      "  5.09809399e+00 -7.22423911e-01  1.03444462e+01 -7.58114815e+00\n",
      " -5.52763987e+00  9.85992074e-01 -6.82911015e+00 -4.55191821e-01\n",
      "  6.44785213e+00 -1.17401099e+00  2.25323658e+01  1.59852648e+01\n",
      "  3.79299617e+00  2.95149237e-01 -1.07360697e+00  6.82189822e-01\n",
      " -2.31825501e-01  7.98782110e-01 -3.06538963e+00 -5.34667730e-01\n",
      "  2.66961265e+00 -6.37032270e+00 -1.21631920e+00  3.51819992e+00\n",
      "  2.12455807e+01  7.83922851e-01  2.90213466e+00  6.67388153e+00\n",
      " -7.98544264e+00  3.02346349e+00 -1.06837225e+00 -4.86240196e+00\n",
      " -4.03428364e+00  5.07313967e-01  3.04949226e+01  1.76717222e+00\n",
      "  6.87119579e+00 -3.66840172e+00  1.20320544e-01  1.18752489e+01\n",
      "  2.04410629e+01  9.95336342e+00  3.85603070e+00 -7.10560977e-01\n",
      "  1.23672218e+01 -5.33157539e+00 -1.91080055e+01 -5.40282583e+00\n",
      "  4.98419476e+00  7.15513086e+00 -2.84075427e+00  8.05697250e+00\n",
      "  2.11121502e+01  9.91955280e+00  1.13521779e+00  2.43323917e+01\n",
      " -7.08043039e-01  9.05045319e+00  2.44176292e+01 -1.66726696e+00\n",
      " -1.49750245e+00  4.28891373e+00  1.80228746e+00  5.48693419e+00\n",
      " -4.94101810e+00  2.28349733e+00 -7.23173189e+00  1.65636027e+00\n",
      "  3.56822300e+00 -2.51711559e+00  2.18866444e+01 -4.08455014e-01\n",
      "  1.61199360e+01  1.70458088e+01  1.78971291e+01 -3.23417950e+00\n",
      "  2.03750477e+01  2.86533785e+00 -9.61830521e+00 -1.06054840e+01\n",
      "  1.09671078e+01  2.18038154e+00 -4.19534773e-01 -3.60849595e+00\n",
      "  5.40587807e+00  4.60951233e+00  4.00287294e+00  2.05966835e+01\n",
      " -2.74828529e+00  1.93070638e+00  5.53477812e+00  2.04184399e+01\n",
      " -3.14881158e+00  1.96277905e+00  1.92392979e+01  2.83285236e+01\n",
      " -8.34235859e+00 -3.40544820e+00  8.17584801e+00  2.72463894e+01\n",
      "  3.79435387e+01 -1.30300355e+00  5.02600765e+00  2.04650764e+01\n",
      "  7.51931620e+00  2.29363213e+01 -7.06464481e+00 -6.13902903e+00\n",
      "  6.72459936e+00  9.40630245e+00  6.66370869e+00 -6.94235420e+00\n",
      "  2.28931580e+01  3.97967875e-01 -5.26480675e+00  1.23014832e+01\n",
      "  1.09709990e+00  1.64806116e+00  1.28783970e+01 -1.23846941e+01\n",
      "  1.58793955e+01  1.96631718e+01  4.89690065e-01  7.90581560e+00\n",
      "  1.06847954e+01  9.24401283e+00  3.42133446e+01  2.15481834e+01\n",
      "  4.60542154e+00 -8.64805126e+00  3.40054626e+01  1.39000149e+01\n",
      "  3.06166506e+00  7.20533895e+00  2.15491314e+01  4.60536499e+01\n",
      "  2.09601173e+01 -6.66679478e+00  3.20033989e+01  1.22151537e+01\n",
      "  3.59162865e+01  1.21754246e+01  2.47692394e+00  4.51749754e+00\n",
      "  1.18474274e+01  7.72910023e+00  4.52097511e+00  2.45615120e+01\n",
      "  2.87077904e+01  8.37612152e+00  7.81019735e+00  3.42921710e+00\n",
      "  2.80112324e+01 -3.95740342e+00  1.13103456e+01  2.54400120e+01\n",
      " -2.06817365e+00  2.11317945e+00  3.71662788e-02  1.38797121e+01\n",
      "  3.03956280e+01  3.18657947e+00  1.75529556e+01  9.35529137e+00\n",
      "  2.61204586e+01 -8.36738765e-01 -5.20567083e+00  2.85322070e+00\n",
      "  7.12594652e+00  1.11555176e+01  2.65857697e+00  4.45507002e+00\n",
      " -1.22916689e+01  1.80028498e+00 -2.14343190e+00 -7.06906796e+00\n",
      " -2.50370240e+00  2.69616103e+00 -1.03660595e+00  3.93687325e+01\n",
      "  2.58409691e+01  7.21489859e+00  7.05855417e+00 -5.29933310e+00\n",
      "  6.90518713e+00  2.21465912e+01 -4.88957310e+00  1.93663139e+01\n",
      "  2.40755200e+00 -1.14730206e+01 -1.21922264e+01  2.84827919e+01\n",
      "  4.75779295e+00  5.87186861e+00  1.21481037e+01 -9.87822342e+00\n",
      "  4.79513979e+00 -1.63045235e+01 -2.34019299e+01  3.28962493e+00\n",
      " -1.15106165e+00 -5.42490780e-01 -8.65028191e+00  3.94322538e+00\n",
      " -6.97021103e+00  4.46002722e+00 -6.77115011e+00 -6.23535442e+00\n",
      " -2.14939773e-01  8.69028282e+00  1.42525852e+00  3.00099134e+00\n",
      " -2.25390167e+01 -2.55199471e+01 -2.19209499e+01 -6.23100185e+00\n",
      " -1.64867032e+00 -6.67825103e-01 -7.84127951e+00 -3.42125773e+00\n",
      " -2.12318230e+00 -2.60615659e+00 -1.17885661e+00 -1.71957329e-01\n",
      "  5.23439932e+00 -6.49191284e+00  4.17362988e-01 -9.43690491e+00\n",
      " -7.84680223e+00 -1.95079365e+01 -1.41743803e+01  1.96301222e+00\n",
      "  3.63108945e+00  8.29421806e+00 -1.55509119e+01  3.51521254e+00\n",
      "  7.61978149e+00 -1.61040092e+00 -2.17514539e+00  1.03670621e+00\n",
      "  6.84527493e+00 -5.90828133e+00  2.94858068e-01 -7.65617704e+00\n",
      " -1.47238696e+00 -2.26031704e+01 -5.47872782e+00  1.18092537e+00\n",
      "  4.57951975e+00  3.40864658e+00 -8.36748791e+00 -8.39885139e+00\n",
      "  1.75606728e+00  2.81399488e+00  5.18871807e-02 -6.06705475e+00\n",
      " -1.32954035e+01 -6.00263405e+00 -8.38902855e+00  2.54251552e+00\n",
      " -7.99879885e+00 -6.36810112e+00 -6.77809715e+00 -2.85762286e+00\n",
      "  1.08229995e+00 -1.22334480e+01 -2.91200943e+01  1.39720953e+00\n",
      " -3.77530766e+00 -2.45742397e+01 -2.76721263e+00 -3.38870239e+00\n",
      " -1.25596333e+01  6.30366445e-01 -2.52354317e+01 -2.15025463e+01\n",
      "  1.14230275e+00 -6.11405909e-01 -1.01143420e-01  2.24970198e+00\n",
      " -6.96121740e+00  1.48999481e+01 -2.96537018e+01  3.57518768e+00\n",
      " -1.60959225e+01 -3.67258024e+00 -1.88805151e+00  4.83038568e+00\n",
      " -1.20237770e+01 -4.57375431e+00  1.69707799e+00  2.44815961e-01\n",
      " -6.74222827e-01  1.64308393e+00 -2.94214082e+00 -2.09097171e+00\n",
      "  6.12549019e+00 -4.05220222e+00  9.95783424e+00  6.35695934e+00\n",
      "  4.57966042e+00  1.48397512e+01  2.69166589e-01  3.39004564e+00\n",
      "  1.75777018e+00 -3.06411266e+01 -7.18368483e+00 -7.25706244e+00\n",
      "  1.87455547e+00  2.89259243e+00 -2.99626017e+00 -1.33809093e-02\n",
      " -4.76140642e+00 -1.01352482e+01  1.21508930e-02  2.28101182e+00\n",
      " -3.85965991e+00 -1.22996292e+01 -2.71467781e+00 -3.08548808e+00\n",
      " -7.86408663e+00 -1.73191891e+01 -3.54294825e+00  6.89868164e+00\n",
      " -1.36111557e+00  1.90359080e+00 -9.97976494e+00  5.35352325e+00\n",
      "  5.93713427e+00  6.89580262e-01 -7.83324289e+00  2.80049181e+00\n",
      " -2.26191692e+01 -4.84275103e+00 -4.12412739e+00 -2.28917065e+01\n",
      " -1.07385483e+01 -1.37199926e+00 -3.20204592e+00  2.87827492e-01\n",
      "  3.89362240e+00 -2.23972740e+01 -2.25520382e+01 -4.34297323e+00\n",
      " -6.62167215e+00 -3.44246840e+00 -2.09945989e+00 -4.40211439e+00\n",
      " -3.70331168e+00  3.86327600e+00  9.85641539e-01 -2.24985981e+01\n",
      "  3.18466353e+00 -3.97420913e-01 -3.88781238e+00  9.00803387e-01\n",
      " -4.28306520e-01 -2.00198040e+01 -2.11708660e+01 -3.99092245e+00\n",
      " -9.52986240e-01 -1.18356743e+01 -3.71433473e+00  2.85116529e+00\n",
      " -1.13316214e+00  1.58131754e+00 -2.76170909e-01 -5.15512800e+00\n",
      " -1.34541059e+00 -5.62904930e+00 -2.11014414e+00 -4.01010370e+00\n",
      " -3.61321211e+00 -3.01700854e+00 -4.42768782e-01 -1.64413404e+00\n",
      "  3.34123230e+00  5.27612305e+00 -8.50702000e+00 -3.82788587e+00\n",
      " -2.27589207e+01 -5.06956863e+00 -1.71469574e+01 -2.16771431e+01\n",
      "  5.89552069e+00  6.64153957e+00 -7.66860437e+00 -5.81937170e+00\n",
      "  4.74651289e+00 -1.15129795e+01 -1.99594498e+00 -3.41392718e-02\n",
      " -1.64160824e+01 -5.82729959e+00  2.31182361e+00 -9.35384560e+00\n",
      " -2.35382214e+01  4.28511715e+00  2.79282451e+00  4.84726846e-01\n",
      "  6.59864306e-01 -5.72196960e+00 -2.60198998e+00 -2.98075809e+01\n",
      " -4.43544159e+01 -2.90597115e+01 -2.55156384e+01 -2.17787218e+00\n",
      " -6.97950125e+00 -1.78403969e+01 -2.65740037e+00 -1.45520771e+00\n",
      " -1.97938595e+01 -5.18062973e+00 -1.66574726e+01 -2.61837139e+01\n",
      " -1.82894623e+00 -3.58910489e+00 -1.46559668e+01 -2.77608490e+01\n",
      "  4.31632376e+00 -6.30951118e+00  5.97111893e+00 -1.16969280e+01\n",
      " -1.76588497e+01 -3.04460449e+01 -1.04208517e+01 -1.68782389e+00\n",
      " -1.33654289e+01 -2.66643763e-01 -7.56367588e+00  4.63490772e+00\n",
      " -7.41137838e+00 -3.09096375e+01 -1.09236832e+01 -1.58918104e+01\n",
      " -3.37898293e+01 -5.20787430e+00  2.08703780e+00 -2.22520237e+01\n",
      " -1.39562035e+01 -1.03667307e+01 -4.63168859e+00 -8.63024902e+00\n",
      "  7.26788568e+00 -1.46623719e+00  1.91556799e+00 -3.23274193e+01\n",
      " -2.86939182e+01 -4.24023628e+01  4.46873426e+00 -1.12096798e+00\n",
      " -1.46555204e+01 -1.12423718e+00 -9.21159363e+00 -1.51022463e+01\n",
      " -3.85423660e+00 -9.97163200e+00 -6.64084101e+00 -4.84721512e-01\n",
      " -3.50837874e+00 -1.06816816e+01 -2.23744373e+01  4.00446701e+00\n",
      " -3.37547951e+01 -7.48759460e+00  1.03579617e+01 -3.02485695e+01\n",
      "  6.30139923e+00 -1.65515823e+01 -8.07821083e+00 -3.19661503e+01\n",
      " -2.50639114e+01 -5.61023092e+00  2.38200736e+00 -1.23612843e+01\n",
      "  3.16506767e+00 -3.31127286e+00 -1.37977066e+01 -3.80895567e+00\n",
      " -6.67126060e-01  1.22546065e+00 -1.76205711e+01 -8.10452461e+00\n",
      " -2.03859100e+01  5.06603301e-01 -1.08461685e+01 -4.54417038e+00\n",
      " -5.92500877e+00  1.29406798e+00 -1.13451223e+01 -1.72844658e+01\n",
      " -1.89780366e+00 -1.64463310e+01 -5.57652569e+00 -2.23441982e+00\n",
      " -8.06015396e+00 -2.62396145e+01 -6.35195589e+00  2.29994831e+01\n",
      "  1.42166929e+01 -6.39108038e+00 -3.81926041e+01 -9.09195328e+00\n",
      " -2.39579067e+01 -6.36988354e+00 -2.41777573e+01  4.87659788e+00\n",
      " -1.87190647e+01 -8.66367054e+00 -1.22129459e+01 -1.23112507e+01\n",
      " -1.08876448e+01 -3.97812843e+00]' has dtype incompatible with int64, please explicitly cast to a compatible dtype first.\n",
      "  preds[val_index] = model.predict(dval_i)\n"
     ]
    },
    {
     "name": "stderr",
     "output_type": "stream",
     "text": [
      "\r",
      " 20%|█████████████████████████████▌                                                                                                                      | 2/10 [00:36<02:27, 18.45s/it]"
     ]
    },
    {
     "name": "stderr",
     "output_type": "stream",
     "text": [
      "C:\\Users\\81809\\AppData\\Local\\Temp\\ipykernel_8504\\3386215446.py:18: FutureWarning: Setting an item of incompatible dtype is deprecated and will raise an error in a future version of pandas. Value '[ 1.19802284e+00 -5.43503809e+00 -6.04383183e+00 -5.26322186e-01\n",
      "  7.94455814e+00 -1.49618709e+00  5.77619267e+00  8.15610504e+00\n",
      "  3.18105078e+00 -8.52079809e-01 -3.80492735e+00  2.60784111e+01\n",
      "  2.16862679e+01 -7.36816883e-01  2.32908936e+01  2.52208633e+01\n",
      "  5.78146505e+00  9.99954700e+00  7.17120552e+00 -9.18497086e+00\n",
      "  5.47958994e+00  6.50662184e+00  9.41188240e+00  6.63155460e+00\n",
      "  2.45077300e+00  4.37858009e+00  7.54408789e+00  1.74928057e+00\n",
      " -6.36873388e+00 -4.98962069e+00 -3.32575083e-01  9.58559799e+00\n",
      "  1.03552170e+01  2.35766602e+00  2.45970268e+01 -1.31591582e+00\n",
      "  3.37493873e+00  2.90979557e+01  3.21119905e+00  5.26883078e+00\n",
      "  4.41802692e+00 -7.70749903e+00  5.42596340e+00 -4.78373796e-01\n",
      "  2.15977931e+00  7.13271999e+00 -4.33928776e+00 -6.15665817e+00\n",
      "  6.97524548e+00 -9.26067924e+00  5.26670408e+00  5.83212471e+00\n",
      "  5.87616539e+00 -2.04256916e+00  8.49466610e+00 -7.52049446e-01\n",
      "  4.68847513e+00  1.79678783e+01  5.96134281e+00 -9.14372027e-01\n",
      "  2.18932571e+01 -3.21909690e+00  2.14452100e+00  2.58614120e+01\n",
      "  6.97812605e+00  7.50327969e+00  6.60711336e+00  1.51116276e+00\n",
      "  3.46464443e+00  2.92501307e+00 -1.73229909e+00  2.37968445e+01\n",
      "  8.29632568e+00  9.72066075e-02  4.12424183e+00  1.54063816e+01\n",
      "  2.37470365e+00  1.81047249e+01 -8.07828522e+00  1.66234446e+00\n",
      "  5.31574535e+00  6.56729889e+00 -5.00560474e+00  2.52572030e-01\n",
      "  1.47683239e+01 -4.86652231e+00  2.72220402e+01  1.14151850e-01\n",
      " -1.15659440e+00  1.42552805e+01  5.94031525e+00  2.34631729e+01\n",
      "  1.91789400e-02 -6.39517546e+00  1.09677820e+01  8.71259880e+00\n",
      "  3.31170034e+00 -2.79344726e+00  1.80384362e+00  4.37946272e+00\n",
      "  1.83649707e+00  1.98783646e+01 -3.86560488e+00  8.26954269e+00\n",
      "  1.98467617e+01  1.01526868e+00  2.31161652e+01  5.32441521e+00\n",
      "  4.86089659e+00 -3.56289268e+00  8.90695667e+00 -5.49398375e+00\n",
      " -9.97049749e-01  5.97514868e-01 -7.98201799e-01 -6.88414764e+00\n",
      "  2.25045066e-03  5.67876291e+00 -7.37269938e-01  6.36669683e+00\n",
      "  2.52851963e+01  3.21753550e+00  1.06687679e+01 -1.83954084e+00\n",
      "  1.23955739e+00 -5.60546350e+00 -2.20024061e+00  2.35657001e+00\n",
      " -3.99880499e-01  1.25245333e+00 -1.44916039e+01  1.13726511e+01\n",
      "  1.11518698e+01  2.11732483e+01 -5.76717424e+00 -6.47773981e-01\n",
      "  6.94479942e+00 -5.79500532e+00  9.49101269e-01 -3.15272903e+00\n",
      "  1.35323131e+00  1.74337044e+01  1.18705139e+01  2.17089081e+00\n",
      "  2.32130098e+00 -1.44666684e+00  4.04074240e+00 -6.44001150e+00\n",
      "  3.36601615e+00  1.39975166e+01 -1.83451164e+00  2.69628787e+00\n",
      " -9.79003787e-01  2.24505920e+01  2.76982188e+00  2.26994801e+00\n",
      "  3.02415428e+01  3.58469844e+00  3.51425266e+00  8.37629795e+00\n",
      "  6.23434007e-01  9.33985806e+00 -2.28813314e+00  2.86541033e+00\n",
      "  4.26476574e+00  5.85413456e+00  1.26968575e+01  2.62937984e+01\n",
      "  4.68152761e+00  6.50608349e+00 -3.12964058e+00  7.63458872e+00\n",
      "  3.18700075e+00  3.88183475e+00  2.14251781e+00  2.36801605e+01\n",
      "  3.84964049e-01  5.46090651e+00 -7.79352903e+00  3.11467361e+00\n",
      " -5.83258724e+00 -1.07465816e+00 -9.48713303e+00  6.84666586e+00\n",
      "  7.85113811e+00  3.91558218e+00 -2.65900421e+00  2.44984245e+00\n",
      "  1.78596601e-01 -5.68402433e+00  3.69518566e+00  3.10716915e+01\n",
      "  3.03141003e+01  4.44035950e+01  2.91876774e+01  1.91894226e+01\n",
      " -2.80451131e+00  2.97415328e+00  4.16725934e-01  1.31938257e+01\n",
      "  9.62224293e+00 -1.17040825e+01  6.53083181e+00  2.59229684e+00\n",
      "  9.02869797e+00  2.84902096e+01  6.96485102e-01  3.96643829e+01\n",
      "  9.12741280e+00 -1.11880426e+01  1.70130844e+01  1.10382032e+01\n",
      "  1.33781290e+01  1.58714352e+01  2.69728355e+01  1.65750065e+01\n",
      "  4.81202030e+00  3.62021232e+00  3.64218941e+01 -3.67423081e+00\n",
      "  1.27704525e+01  1.06266155e+01  2.53682823e+01  1.61476860e+01\n",
      "  1.96118641e+01  1.21415901e+01  2.37010336e+00 -5.65703821e+00\n",
      "  2.12372131e+01 -6.67260599e+00 -1.54214299e+00  2.89516983e+01\n",
      " -2.01628637e+00  1.27206097e+01  9.81213510e-01  1.02453384e+01\n",
      " -7.37264681e+00  2.70116367e+01  9.31103611e+00 -2.28428192e+01\n",
      "  3.23252029e+01  1.52898808e+01 -2.20965695e+00 -6.03394890e+00\n",
      "  3.95558381e+00  3.72905040e+00  1.54621334e+01  1.48389330e+01\n",
      "  2.09118199e+00  6.91510153e+00  4.55148649e+00  9.67244530e+00\n",
      "  3.88079872e+01  6.60035229e+00 -3.22974706e+00 -1.65019298e+00\n",
      "  8.00106525e+00  1.29365826e+01  3.90893579e+00  2.46664696e+01\n",
      "  2.98124714e+01 -6.53547096e+00  8.63771725e+00  7.40019035e+00\n",
      "  3.06359234e+01 -8.36138153e+00  4.52769279e+00  3.20519924e+00\n",
      "  1.26850252e+01  1.54484808e+00 -6.85317039e+00 -2.93753028e+00\n",
      "  3.65792503e+01  3.18493996e+01  1.46583719e+01  2.48733854e+00\n",
      " -1.44004071e+00  9.43082809e+00  1.90392170e+01  3.14403133e+01\n",
      " -4.14070654e+00 -1.10969448e+01 -9.28790951e+00  2.92904987e+01\n",
      " -7.86997271e+00  7.52224159e+00  2.45580406e+01  9.56063557e+00\n",
      "  2.68452110e+01  2.92255497e+01  7.91826344e+00  7.65971839e-01\n",
      " -2.45831299e+01  4.02022409e+00 -1.32839155e+00  5.96229839e+00\n",
      "  1.64328423e+01 -5.66699839e+00  3.82429161e+01  7.96837711e+00\n",
      "  2.19273109e+01  2.63919659e+01  1.24690285e+01  1.48881817e+01\n",
      " -5.23875475e-01  9.68895721e+00  2.72360835e-02 -3.81055832e+00\n",
      "  2.61911345e+00 -9.77918530e+00 -2.26420918e+01 -6.82729721e+00\n",
      " -1.73349323e+01 -1.80909462e+01 -6.89509153e+00  4.13153601e+00\n",
      "  5.82603264e+00 -6.17493629e+00 -8.17730713e+00  2.54225016e+00\n",
      " -7.37871456e+00 -5.61559486e+00 -6.54084539e+00 -1.69107854e+00\n",
      " -5.30137014e+00 -2.04924393e+01  9.92985344e+00 -4.40707254e+00\n",
      " -3.88835955e+00 -7.36258507e+00 -4.82785590e-02 -9.24530888e+00\n",
      " -7.32500315e+00 -7.20017433e+00 -2.13336658e+00 -1.17183220e+00\n",
      " -5.08829498e+00 -1.59704447e+01  1.60624123e+00 -1.93382130e+01\n",
      "  1.23867617e+01 -7.31211138e+00 -1.17538815e+01 -3.39487386e+00\n",
      " -1.48582869e+01 -5.87397766e+00  7.85990286e+00 -4.77141619e+00\n",
      "  2.89191914e+00 -6.74655867e+00 -2.98817325e+00 -7.65632772e+00\n",
      " -8.54255581e+00 -2.13607407e+00 -2.52050304e+00  6.66930437e+00\n",
      "  3.07460642e+00 -1.49249334e+01 -7.37933016e+00  2.15541434e+00\n",
      " -1.05260448e+01 -1.47564583e+01 -2.76085162e+00 -4.88705969e+00\n",
      "  4.78829145e+00 -4.75263327e-01 -2.10907483e+00 -3.34122252e+00\n",
      " -2.61202011e+01 -1.07387323e+01  3.42389655e+00 -3.13256145e-01\n",
      " -1.48151674e+01  1.42534721e+00  1.50701237e+00 -3.36456084e+00\n",
      "  2.54801393e+00 -1.83214247e+00 -7.27716064e+00 -4.54155397e+00\n",
      " -2.01307938e-01 -1.76996250e+01 -2.43018937e+00 -5.83842695e-01\n",
      " -3.81597686e+00 -1.77122993e+01 -5.58404922e+00 -1.43496752e+00\n",
      " -1.20010462e+01 -5.52418804e+00 -3.73199016e-01  4.63998854e-01\n",
      " -2.36759548e+01 -2.59797955e+00  4.18971539e+00  5.44011497e+00\n",
      " -2.63671756e+00 -2.22696705e+01  4.52533674e+00 -7.77167892e+00\n",
      " -1.19734907e+01 -4.43436718e+00 -1.10444613e+01  6.92636240e-03\n",
      "  3.17731667e+00  4.22406673e+00 -1.88725829e-01 -3.46510553e+00\n",
      "  1.66548717e+00 -3.29120547e-01  2.36809111e+00  2.15396619e+00\n",
      " -1.48279572e+01 -9.87995243e+00 -6.97923565e+00  7.85046196e+00\n",
      "  1.13412404e+00 -1.42208278e+00 -2.43709302e+00 -1.24008141e+01\n",
      "  1.95815611e+00 -2.24792309e+01  3.91143346e+00 -6.02688789e+00\n",
      " -2.36388850e+00 -2.42370629e+00  3.22011018e+00  8.83233547e+00\n",
      " -7.16502607e-01 -7.28896141e+00 -1.58781970e+00  1.54814997e+01\n",
      " -4.68941070e-02 -2.88478832e+01 -7.69260168e+00 -8.16247845e+00\n",
      "  1.62908053e+00 -1.78368092e+01  8.56609440e+00 -1.06942928e+00\n",
      " -1.20966187e+01 -1.07795353e+01 -2.94026184e+00 -2.09115815e+00\n",
      " -2.14368534e+01  1.55719175e+01 -3.27604032e+00  1.53444827e+00\n",
      " -1.27856197e+01  1.18997984e+01  4.19936371e+00 -1.64311676e+01\n",
      "  3.28477442e-01 -1.01238470e+01 -6.61466885e+00 -5.92005491e+00\n",
      "  3.07873487e+00 -3.19969583e+00 -2.11394711e+01 -4.10564184e+00\n",
      " -2.14223576e+01 -4.77971840e+00 -4.67028713e+00 -4.31785727e+00\n",
      " -9.63117480e-01  2.40460134e+00  3.72854948e-01 -7.56063032e+00\n",
      " -1.60010934e-01 -4.67040730e+00 -9.44911861e+00 -2.64247465e+00\n",
      "  7.90565252e-01 -9.56713104e+00 -2.74297297e-01 -5.60537386e+00\n",
      " -3.59045053e+00  4.66891080e-02  1.75751090e+00  2.26071334e+00\n",
      "  4.64771509e-01 -2.30026703e+01 -8.06517506e+00  5.39601755e+00\n",
      "  3.91932869e+00 -2.20769238e+00 -1.76831436e+01 -2.11577511e+00\n",
      " -4.47549534e+00 -7.86823606e+00  1.83907199e+00  2.05831062e-02\n",
      " -1.96768456e+01 -7.12075615e+00 -2.39878464e+00 -1.46047363e+01\n",
      " -2.16071453e+01 -2.50138073e+01 -1.97817039e+01  1.14104462e+00\n",
      " -3.78353953e+00  5.39627457e+00 -4.93236065e+00 -2.77920341e+00\n",
      "  7.00286198e+00  2.12758732e+00  1.15854251e+00 -3.39011741e+00\n",
      " -2.25864277e+01 -8.66385174e+00  2.77086020e+00  8.93312156e-01\n",
      " -1.62316871e+00 -3.57205939e+00  3.85182595e+00 -3.93661052e-01\n",
      "  2.40098429e+00  7.55721474e+00  3.08854175e+00 -9.30064678e+00\n",
      " -3.09365559e+00  3.47131610e-01 -1.18591461e+01 -2.79485188e+01\n",
      " -1.38440561e+01  4.83303356e+00 -1.59697104e+00  5.31195343e-01\n",
      " -1.70240059e+01 -1.34714861e+01  2.79109788e+00 -2.60494900e+01\n",
      "  1.95731258e+00 -2.16302795e+01 -2.31520443e+01 -8.11148548e+00\n",
      " -3.58372002e+01 -1.40465631e+01 -3.48812447e+01 -2.02881908e+01\n",
      " -6.63139820e+00  2.52870893e+00  1.18472128e+01  6.71752501e+00\n",
      " -3.16589661e+01 -2.50389175e+01 -1.10317345e+01 -3.17068520e+01\n",
      "  1.67075806e+01 -6.26429176e+00 -2.49005527e+01 -6.72657776e+00\n",
      " -5.86374187e+00 -1.39797964e+01  4.79926968e+00 -1.29217367e+01\n",
      " -3.02382393e+01  5.96009269e-02 -3.87621403e+00 -2.08610973e+01\n",
      " -1.03816328e+01 -2.68387127e+01 -1.14434385e+01 -1.95874538e+01\n",
      "  1.40027962e+01 -1.52001305e+01 -3.25387955e+01 -7.67501974e+00\n",
      " -4.15190649e+00 -6.65482950e+00  6.68755913e+00 -2.10805106e+00\n",
      " -8.39218903e+00 -2.93556576e+01 -3.73203345e-02 -1.27053738e+01\n",
      " -4.14070816e+01 -1.42452681e+00 -1.49358530e+01 -1.49561620e+00\n",
      "  3.43596935e+00 -1.69582367e+01  5.39769936e+00 -3.24382133e+01\n",
      "  6.47566032e+00 -1.63382649e+00 -1.29535007e+01 -4.61325312e+00\n",
      " -1.19697399e+01 -6.88777065e+00 -2.18975472e+00 -2.10310059e+01\n",
      " -1.00414753e+01 -4.73525286e+00  3.26165795e+00  9.24390221e+00\n",
      " -8.73687077e+00 -6.29522848e+00 -2.28116474e+01  3.84624839e+00\n",
      "  8.27716351e+00  2.36070800e+00 -5.45952225e+00 -6.45420027e+00\n",
      "  9.85204220e+00 -3.05656325e-02 -1.03293695e+01 -4.59435310e+01\n",
      "  3.82751513e+00 -2.94459934e+01  5.96368265e+00 -1.29572525e+01\n",
      " -2.75242214e+01 -3.84468365e+00 -9.11664867e+00  1.12585688e+01\n",
      " -1.30837288e+01 -1.96100025e+01 -8.81704140e+00 -2.53116112e+01\n",
      " -3.02956600e+01 -7.53708887e+00 -3.64559388e+00  1.08786857e+00\n",
      " -2.87896805e+01 -1.92109776e+01 -2.24629574e+01 -1.96192420e+00\n",
      " -5.71819496e+00 -3.79325581e+00 -1.04939556e+01 -6.95878744e+00\n",
      " -3.20282125e+00  8.11220837e+00 -2.94793625e+01  1.29843035e+01\n",
      " -7.50735474e+00 -5.47001791e+00  3.13380408e+00 -3.90987663e+01\n",
      " -6.38002777e+00 -2.40283871e+01 -2.18193388e+00  3.91134715e+00\n",
      " -1.51439104e+01 -4.65726995e+00]' has dtype incompatible with int64, please explicitly cast to a compatible dtype first.\n",
      "  preds[val_index] = model.predict(dval_i)\n"
     ]
    },
    {
     "name": "stderr",
     "output_type": "stream",
     "text": [
      "\r",
      " 30%|████████████████████████████████████████████▍                                                                                                       | 3/10 [00:56<02:12, 18.92s/it]"
     ]
    },
    {
     "name": "stderr",
     "output_type": "stream",
     "text": [
      "C:\\Users\\81809\\AppData\\Local\\Temp\\ipykernel_8504\\3386215446.py:18: FutureWarning: Setting an item of incompatible dtype is deprecated and will raise an error in a future version of pandas. Value '[ 2.16920042e+00 -8.65240479e+00  5.48475218e+00  1.54703493e+01\n",
      "  2.21095810e+01  8.26965904e+00  4.47393131e+00 -2.71060467e+00\n",
      "  2.12405992e+00  1.36582661e+00 -2.83724236e+00 -2.97435832e+00\n",
      "  6.83847904e-01 -1.88045084e+00 -4.64893246e+00  2.05444183e+01\n",
      " -2.41798472e+00 -1.51540482e+00  2.12463455e+01  9.47413325e-01\n",
      "  6.32451344e+00  3.22472739e+00  8.44971836e-01  5.14066792e+00\n",
      " -4.09842634e+00  8.68269348e+00 -1.27033249e-01 -3.36711431e+00\n",
      "  2.87542462e+00  4.84196901e+00  5.28469801e-01  1.60804920e+01\n",
      "  4.28216648e+00  3.97804809e+00  8.67631659e-02  7.79911423e+00\n",
      "  7.08444476e-01  1.74279881e+01  2.95161915e+00 -7.44914341e+00\n",
      "  6.50090981e+00 -3.73855144e-01  8.20363522e+00  4.44711208e+00\n",
      " -6.26569223e+00  6.38088608e+00  2.63544726e+00 -8.39413071e+00\n",
      " -1.57178271e+00 -2.01046848e+00  2.09409466e+01  2.99608290e-01\n",
      "  5.06381989e-01 -2.22596288e+00  7.68558788e+00  1.80912197e+00\n",
      " -2.29701877e+00 -8.74912202e-01  2.23337955e+01  1.25804672e+01\n",
      " -3.20025444e+00  7.35995770e-02  2.46006107e+01 -2.37176728e+00\n",
      "  2.38582921e+00 -1.14365244e+00  8.23835492e-01  9.84201610e-01\n",
      " -2.67260218e+00 -1.68757036e-01  2.17981396e+01 -1.98199213e+00\n",
      "  7.10061169e+00  7.46372461e+00  6.53016567e-01 -2.43005061e+00\n",
      "  4.53450918e+00 -1.73892343e+00  2.20848680e+00 -9.98493958e+00\n",
      "  1.72311459e+01  3.77904773e+00  7.89729548e+00  1.14276276e+01\n",
      " -2.12310886e+00  4.67765141e+00  3.69823098e+00 -2.51272941e+00\n",
      "  2.59585838e+01  1.29519882e+01 -1.06183243e+01 -5.81884432e+00\n",
      "  1.73131084e+01 -3.05822611e+00 -1.73362911e+00  5.02506495e+00\n",
      " -6.64794147e-01  1.14705477e+01  5.23063087e+00 -2.30250955e+00\n",
      " -4.12879610e+00  3.53284860e+00  2.16889591e+01  1.55004873e+01\n",
      " -1.50944242e+01 -4.44435477e-01 -3.55925465e+00  1.11275148e+01\n",
      " -2.12459850e+00  4.70300055e+00  7.58991814e+00  7.38527632e+00\n",
      "  1.53518181e+01  5.49929905e+00  1.48823082e+00  2.75518870e+00\n",
      " -2.89946866e+00  1.41622524e+01  1.81139774e+01  5.33910370e+00\n",
      "  6.17809296e+00  1.01492500e+01 -2.28936696e+00  6.56262589e+00\n",
      " -6.18036270e+00  1.91147661e+00  1.10531864e+01 -6.28953123e+00\n",
      "  7.42623615e+00  7.24841309e+00  4.44395065e+00  9.00079250e+00\n",
      "  9.42288399e+00  1.84803905e+01  1.26845407e+01  8.78689003e+00\n",
      "  3.45037669e-01 -4.25309134e+00  6.93410778e+00 -3.70454574e+00\n",
      " -4.35532236e+00  2.18869781e+01  9.59737301e+00 -2.03293586e+00\n",
      " -2.90580487e+00  6.58307648e+00  5.40331602e+00 -7.95986950e-02\n",
      "  6.25148439e+00 -1.68676686e+00  2.35498505e+01  5.24881220e+00\n",
      "  1.54438334e+01 -9.82384396e+00 -4.25340223e+00 -6.04694247e-01\n",
      " -7.38936901e+00  1.61958933e+00  2.36373973e+00  6.97957802e+00\n",
      "  5.71391201e+00 -1.16874599e+01  5.97658753e-01  1.66792428e+00\n",
      "  4.90150785e+00  3.91869926e+00  8.77781105e+00  3.32627559e+00\n",
      "  2.76346350e+00 -2.23534966e+00  4.07242012e+00 -6.86483717e+00\n",
      " -1.61317768e+01 -3.90368271e+00  6.94579422e-01  1.74240150e+01\n",
      "  3.04992270e+00 -2.24432087e+00  6.07560301e+00  3.72597432e+00\n",
      " -1.67879832e+00 -8.74778867e-01 -3.81730604e+00 -4.69943380e+00\n",
      "  2.56116428e+01  2.35754991e+00  2.26262226e+01 -6.25318336e+00\n",
      "  3.38168454e+00  5.25707245e+00 -3.90768099e+00 -2.96063757e+00\n",
      "  3.34068269e-01  8.44393444e+00  1.44772120e+01  1.32499683e+00\n",
      "  3.32199670e-02  1.65800533e+01 -2.19787426e+01 -2.03974819e+00\n",
      " -1.12414112e+01  1.34446030e+01  2.96574736e+00 -3.42790842e+00\n",
      "  2.71231842e+00  3.74558425e+00  2.69344592e+00  3.61285925e+00\n",
      "  9.32422066e+00  9.38621616e+00  1.96299171e+00  3.09656811e+01\n",
      "  3.05084572e+01  3.58306193e+00  9.62518692e+00 -2.27577782e+00\n",
      "  3.66066246e+01  1.99872375e+00  1.57696009e+01  1.13695402e+01\n",
      " -3.97594357e+00 -2.12128544e+00  1.75557733e+00  3.72940483e+01\n",
      "  1.25966110e+01  2.53604469e+01  3.69857063e+01  6.54637480e+00\n",
      " -6.39837444e-01  7.86788893e+00 -9.41601753e+00  6.05164814e+00\n",
      "  3.76842904e+00  2.83337860e+01  1.07574072e+01  1.76326103e+01\n",
      "  1.32157639e-01 -6.72174978e+00  1.73474205e+00 -1.45895205e+01\n",
      "  3.69218330e+01  1.17719994e+01 -3.48212034e-01  1.68933427e+00\n",
      "  2.61023293e+01  1.93724537e+01  2.10582333e+01  5.37677622e+00\n",
      " -1.94927096e+00 -4.87872744e+00  1.95381126e+01  1.40753183e+01\n",
      "  3.02600498e+01  4.13541746e+00  7.80576324e+00  2.28195324e+01\n",
      "  3.90038896e+00 -1.39755392e+01  1.14494019e+01 -2.30748868e+00\n",
      "  2.93684196e+00 -5.33635998e+00  2.39641781e+01 -2.99025941e+00\n",
      "  2.98884315e+01  1.29413719e+01  3.45658898e+00  4.35296249e+00\n",
      "  1.47344410e+00  1.09163361e+01  3.57793312e+01  1.52658710e+01\n",
      "  5.75266600e+00  1.40450706e+01  3.46221161e+01  5.37165105e-01\n",
      "  6.75310898e+00 -8.67812920e+00  2.28465390e+00 -1.85962415e+00\n",
      "  1.30618458e+01  1.39823875e+01  2.23249531e+01 -2.55663538e+00\n",
      " -1.26042252e+01 -8.18342972e+00  1.74862194e+00 -6.27515793e+00\n",
      "  2.70222616e+00  2.17328281e+01  5.70336246e+00 -1.21263189e+01\n",
      "  3.55488706e+00  8.03061390e+00 -1.00980081e-01  4.13647985e+00\n",
      "  2.05555687e+01 -7.55130720e+00 -1.30652981e+01  3.88033295e+01\n",
      "  6.87070370e+00 -5.15751171e+00  3.00231228e+01  1.19862871e+01\n",
      "  2.21777096e+01  1.44405451e+01  4.02373934e+00 -3.61222601e+00\n",
      " -1.33349352e+01  5.35360575e-01 -6.27215576e+00 -1.20698013e+01\n",
      " -3.62692761e+00 -1.25980215e+01 -1.64125175e+01 -9.60208702e+00\n",
      " -7.59999323e+00 -8.29023838e+00 -6.82344961e+00 -6.43032646e+00\n",
      "  4.50505590e+00 -6.81215429e+00  3.15688968e+00  2.41507912e+00\n",
      "  1.91670203e+00 -2.28923912e+01 -1.34326532e-01 -1.42216291e+01\n",
      " -2.11566925e+01 -1.36222529e+00 -6.28144217e+00 -1.64582336e+00\n",
      "  5.11118650e+00  3.87454224e+00 -8.35888386e-01 -7.84626245e+00\n",
      " -9.31402588e+00  1.18691885e+00 -5.68859053e+00  2.09132791e+00\n",
      "  5.31132400e-01 -6.44745052e-01 -5.37424088e+00 -2.67668324e+01\n",
      " -1.00159388e+01 -5.54119587e+00 -1.56656971e+01 -2.52135253e+00\n",
      " -6.43599510e+00 -1.83653908e+01 -7.64123821e+00  2.42838874e-01\n",
      " -5.31102228e+00  6.53421259e+00 -1.91481915e+01  8.37300968e+00\n",
      " -5.71411657e+00 -2.52277317e+01 -6.92410946e+00 -1.00485039e+00\n",
      " -4.92712402e+00 -9.28497982e+00 -5.52905273e+00 -3.98563600e+00\n",
      "  2.66412234e+00 -1.23795938e+01  3.36582685e+00 -1.47972269e+01\n",
      "  1.36376500e+00 -6.19696331e+00 -5.07865953e+00 -2.73109818e+00\n",
      " -2.23339043e+01 -9.00067902e+00 -4.77202320e+00 -8.96621704e+00\n",
      " -6.99099684e+00  7.91767836e-01  4.16182935e-01 -1.68558712e+01\n",
      " -2.70791340e+01 -2.79670262e+00 -1.20413995e+00 -1.09200656e+00\n",
      " -1.72398911e+01 -4.31931615e-01 -5.15321159e+00 -1.33538413e+00\n",
      "  1.13909924e+00 -2.53750210e+01 -1.93461189e+01  1.72259510e+00\n",
      " -1.18705158e+01  2.67181396e+00 -6.36609697e+00 -2.63885856e+00\n",
      " -5.51762724e+00 -1.16263742e+01 -5.52497292e+00 -5.00513554e+00\n",
      " -2.38880711e+01  1.47427549e+01  5.00591612e+00 -2.70043564e+01\n",
      " -1.58448887e+01 -1.62918377e+01 -1.78938808e+01 -6.62137651e+00\n",
      " -3.64928913e+00 -4.10600901e+00  8.82026196e+00 -4.66904974e+00\n",
      " -8.61420918e+00 -4.25361061e+00  5.98883688e-01  2.99009180e+00\n",
      " -2.46686146e-01 -9.39143896e-01 -1.47342424e+01  2.27028584e+00\n",
      "  1.50739118e-01  5.16334534e+00 -1.93064613e+01 -1.16794014e+01\n",
      " -2.26544833e+00 -4.85765886e+00  2.60925913e+00 -1.10560846e+01\n",
      " -1.21613646e+01 -2.87303805e+00 -4.60783213e-01 -3.35111886e-01\n",
      "  1.73108190e-01 -5.48274612e+00  3.10120106e-01  1.61732331e-01\n",
      " -4.78779602e+00 -5.84438229e+00 -9.63113022e+00 -9.74702835e+00\n",
      " -5.90085363e+00 -3.81018376e+00  1.55937374e-01 -6.59078836e+00\n",
      "  5.67735612e-01 -2.07931042e+00 -2.23897152e+01  1.34269798e+00\n",
      "  3.39335656e+00 -1.75353642e+01 -2.65694928e+00 -2.15315747e+00\n",
      "  2.96733165e+00 -1.64925587e+00 -4.88669395e+00 -5.77319765e+00\n",
      " -2.63239455e+00  3.79386640e+00  2.23325324e+00 -2.22705307e+01\n",
      "  4.37238991e-01 -4.68728638e+00 -3.78007627e+00  1.13745880e+00\n",
      " -3.61503553e+00 -2.82683730e+00  4.01109791e+00 -3.03874350e+00\n",
      " -1.55318861e+01 -2.44371223e+00 -5.77258062e+00  4.66404893e-02\n",
      " -4.48049545e+00 -1.18077021e+01 -6.10809898e+00 -6.51010895e+00\n",
      " -2.51333857e+00 -5.10567713e+00 -1.31601353e+01 -2.25644569e+01\n",
      " -1.42456894e+01 -2.41378593e+01  5.57865334e+00 -2.77287984e+00\n",
      "  1.30777769e+01  4.74534702e+00  4.36413574e+00 -1.17681370e+01\n",
      " -5.75121641e+00  3.51167917e+00 -3.94942784e+00  5.19815063e+00\n",
      " -2.13892307e+01  5.81672192e-01 -3.98715711e+00 -1.74009190e+01\n",
      " -4.52824974e+00  1.77868807e+00 -3.07705104e-01 -1.50397193e+00\n",
      " -6.65101242e+00  6.53330421e+00 -1.20923500e+01 -4.08587551e+00\n",
      " -1.40190458e+01 -6.55323172e+00 -1.75734639e+00 -2.56474838e+01\n",
      " -1.53876677e+01  3.00323915e+00  1.07822669e+00 -4.04090548e+00\n",
      "  1.13861589e+01 -4.40724373e+00 -1.60578613e+01 -4.84450483e+00\n",
      "  3.35088325e+00 -6.74106264e+00 -3.33964109e+00 -8.66979599e+00\n",
      " -1.13666973e+01 -3.38678093e+01  2.82293129e+00 -2.49230328e+01\n",
      " -1.28971701e+01  6.07619524e+00 -1.92687836e+01 -1.40601187e+01\n",
      "  2.12163162e+00 -1.01224089e+01  1.87121141e+00 -2.64141331e+01\n",
      " -2.85824165e+01  3.69358277e+00 -3.49039955e+01 -2.67608871e+01\n",
      " -1.36305265e+01 -8.12616444e+00 -4.73419619e+00 -2.63107224e+01\n",
      " -2.15702009e+00 -1.36326990e+01  4.67424107e+00 -1.36581874e+00\n",
      " -4.03991365e+00 -7.70891368e-01 -4.39098282e+01 -1.37192380e+00\n",
      " -3.47860026e+00  6.68728924e+00 -2.13276730e+01 -2.46572533e+01\n",
      " -2.81640511e+01 -1.16471987e+01  1.61175478e+00 -9.28528786e+00\n",
      "  6.54652417e-01 -1.81197035e+00 -8.49759197e+00 -2.55139122e+01\n",
      "  8.88571322e-01 -7.65974665e+00 -5.69186747e-01 -1.60215988e+01\n",
      " -9.53778172e+00 -6.59780931e+00 -3.58778691e+00 -1.31978998e+01\n",
      " -1.41130857e+01 -3.17162724e+01 -2.74875617e+00 -4.70700407e+00\n",
      " -3.12268124e+01 -3.72161522e+01 -3.87419510e+01 -8.36158657e+00\n",
      " -8.94744778e+00 -2.85899582e+01 -6.63821363e+00 -1.94674492e+01\n",
      "  2.53856397e+00 -1.68458538e+01 -1.16114559e+01  1.17610636e+01\n",
      "  2.78102732e+00  2.24698853e+00 -4.74788666e+00 -5.41419125e+00\n",
      " -1.20441246e+01  5.02961338e-01 -1.24120846e+01 -3.33109975e+00\n",
      "  3.79221892e+00  4.51370859e+00 -7.08734608e+00  2.66384184e-01\n",
      " -6.83228397e+00 -1.48247662e+01 -1.78499680e+01 -3.43539405e+00\n",
      "  9.51930046e+00 -6.68148088e+00 -2.62057209e+00 -1.21135445e+01\n",
      " -1.17196283e+01  2.48553014e+00 -1.76399345e+01 -2.57251263e+01\n",
      "  2.78077078e+00 -4.27958536e+00  3.35652769e-01 -2.00688095e+01\n",
      " -5.25708532e+00 -4.91865253e+00 -2.16221161e+01 -3.90807843e+00\n",
      "  1.07211924e+01  4.27912295e-01 -6.57965994e+00  7.41740513e+00\n",
      " -7.84816122e+00 -2.49000702e+01 -7.11138070e-01 -2.86836338e+01\n",
      " -1.49393082e+01  4.64003229e+00 -1.69457264e+01 -5.54116392e+00\n",
      " -5.97586107e+00  8.02923679e+00 -1.81444111e+01 -2.98845062e+01\n",
      " -3.94105110e+01 -9.79689217e+00 -7.16805696e+00 -3.73901901e+01\n",
      " -2.96198330e+01 -3.76318622e+00 -2.05483685e+01  6.09487486e+00\n",
      "  9.32705116e+00 -3.54088669e+01 -2.81280327e+00 -2.84048615e+01\n",
      " -1.58317327e+01 -2.31140385e+01]' has dtype incompatible with int64, please explicitly cast to a compatible dtype first.\n",
      "  preds[val_index] = model.predict(dval_i)\n"
     ]
    },
    {
     "name": "stderr",
     "output_type": "stream",
     "text": [
      "\r",
      " 40%|███████████████████████████████████████████████████████████▏                                                                                        | 4/10 [01:20<02:06, 21.13s/it]"
     ]
    },
    {
     "name": "stderr",
     "output_type": "stream",
     "text": [
      "C:\\Users\\81809\\AppData\\Local\\Temp\\ipykernel_8504\\3386215446.py:18: FutureWarning: Setting an item of incompatible dtype is deprecated and will raise an error in a future version of pandas. Value '[-9.55093765e+00 -1.96472630e-01  2.16490650e+01  1.16752548e+01\n",
      "  2.18108273e+01  1.76777706e+01 -1.15105498e+00  6.34056568e+00\n",
      "  9.13519764e+00  7.60322714e+00  7.77283430e+00 -3.85205221e+00\n",
      " -4.13438749e+00  2.42174816e+00  2.44033756e+01  2.26329155e+01\n",
      " -1.35246301e+00  6.41671038e+00 -1.27930188e+00  3.75523639e+00\n",
      "  1.06526394e+01  1.94274211e+00  1.91694756e+01  2.07770691e+01\n",
      "  2.52656150e+00 -5.79613113e+00  1.41390967e+00  1.59240735e+00\n",
      "  7.09076023e+00 -5.44713545e+00  6.67666340e+00 -1.13670611e+00\n",
      "  1.87070904e+01 -1.31473446e+00 -7.59702587e+00  3.04057813e+00\n",
      "  1.80182476e+01 -6.10398579e+00  1.11660469e+00 -3.12881374e+00\n",
      "  2.31971097e+00  7.83092690e+00 -4.66655731e+00 -7.84389400e+00\n",
      " -2.60577631e+00  8.48452282e+00  6.06342316e+00  1.46668549e+01\n",
      "  6.64870691e+00  7.96405458e+00  5.51681805e+00 -4.82916021e+00\n",
      " -3.59948373e+00  6.16680384e+00 -1.24313593e+01  5.52828455e+00\n",
      "  8.20246792e+00  2.28301239e+01  2.17310677e+01  4.71226358e+00\n",
      "  4.99628448e+00  2.15126586e+00  3.99956417e+00 -2.03389287e+00\n",
      "  6.58571863e+00  5.99391317e+00 -1.80987847e+00  2.61899376e+00\n",
      "  2.93737888e+00  2.13329673e+00 -1.78369260e+00  2.54011273e+00\n",
      " -2.37356901e+00  4.79240990e+00  6.37274384e-01  2.73998814e+01\n",
      "  8.73046684e+00 -2.59566998e+00 -6.48355770e+00 -1.74097455e+00\n",
      "  1.18761206e+01  2.32490826e+00 -2.82415628e+00  2.79788256e+00\n",
      "  9.08515549e+00  1.75059140e+00  1.32724018e+01  1.43801105e+00\n",
      "  2.29434986e+01  1.09738712e+01 -1.05778904e+01 -6.18312693e+00\n",
      "  2.29805355e+01 -5.37685871e+00  7.76292706e+00  1.23535690e+01\n",
      "  3.51838827e+00  1.20409260e+01 -1.12456501e+00 -2.46408916e+00\n",
      " -1.02811337e+00  1.15598602e+01  2.40617981e+01 -8.34441376e+00\n",
      " -5.89738417e+00  1.28768024e+01 -2.45318079e+00  5.21535301e+00\n",
      "  2.94243288e+00  2.88441420e+00 -7.87718678e+00 -1.65590024e+00\n",
      "  6.23615265e-01  5.09176826e+00  1.33430398e+00  2.57895565e+00\n",
      " -1.07880287e+01  6.16864491e+00 -2.18587852e+00  5.77125371e-01\n",
      " -3.08997297e+00  7.02306223e+00  4.39685583e+00 -2.99349427e+00\n",
      "  3.58962083e+00  2.10098386e+00  7.55358076e+00  6.43092871e+00\n",
      "  1.39394674e+01  3.77681684e+00 -1.97035027e+01 -1.17827582e+00\n",
      "  3.20225525e+00 -5.61475873e-01  7.72733498e+00 -4.20227432e+00\n",
      "  8.50998402e-01  4.48058033e+00  2.88988514e+01  1.25938787e+01\n",
      " -2.11863208e+00  1.63886681e+01  2.14493465e+01 -3.48262620e+00\n",
      " -7.17108917e+00  1.48678284e+01 -1.46030441e-01  8.34618568e+00\n",
      "  1.45103145e+00  6.27465820e+00  5.70366144e+00 -3.66635132e+00\n",
      "  1.49472980e+01  3.61399508e+00  1.93593585e+00  1.94852853e+00\n",
      "  7.62892008e+00  2.05319939e+01  2.60544419e+00 -1.02434225e+01\n",
      "  3.39691091e+00 -7.98484135e+00 -4.46177840e-01  3.54767084e+00\n",
      " -3.52706909e+00  4.90368795e+00  4.72769022e-01  8.46120000e-01\n",
      "  2.89296198e+00  9.90894985e+00 -8.65359008e-01  8.03519917e+00\n",
      "  9.96385956e+00 -7.12978315e+00  3.80216718e+00  3.17765284e+00\n",
      "  1.51273012e-02  5.98819351e+00  5.03644657e+00  2.84352660e+00\n",
      " -2.34922862e+00  6.27032518e+00 -2.17293954e+00 -4.83058739e+00\n",
      " -5.13235378e+00  1.26870337e+01  3.07116985e+00  6.46064854e+00\n",
      " -2.04898143e+00 -1.84183252e+00  2.69122849e+01  5.29458714e+00\n",
      "  2.46903954e+01 -5.95135868e-01 -8.40372181e+00  1.41109610e+01\n",
      "  1.18073883e+01  4.17053223e+00 -1.36679143e-01 -5.08609438e+00\n",
      "  1.00958033e+01  1.66785164e+01 -3.04465723e+00 -2.70414615e+00\n",
      "  4.93915272e+00  5.55732584e+00 -1.03019352e+01  5.03115034e+00\n",
      " -5.67698717e+00 -7.32577467e+00 -1.61464036e+00  1.52184844e+00\n",
      "  1.19485302e+01  1.29207439e+01 -6.47040367e+00  2.67819824e+01\n",
      "  8.64717865e+00  1.02818613e+01  5.35421085e+00  1.23064165e+01\n",
      " -4.76018810e+00  3.42384071e+01 -1.44258440e+00  1.77773590e+01\n",
      " -2.53771925e+00  2.60424709e+01  2.38805122e+01 -5.12166500e+00\n",
      " -5.57520580e+00  1.03158207e+01  1.35010920e+01  1.78358459e+01\n",
      " -7.69595385e+00 -4.29161072e+00 -3.34780455e+00  1.95841396e+00\n",
      "  1.01527500e+00  1.89083786e+01  3.66659508e+01 -3.80554646e-01\n",
      "  2.03351164e+00  8.88151646e+00 -1.43745244e+00  1.96811142e+01\n",
      "  1.50889559e+01  2.05918083e+01  1.97054348e+01  1.57200108e+01\n",
      "  7.79028130e+00  1.27815604e+00  8.01642704e+00  2.35415974e+01\n",
      "  4.11518860e+00  4.16464281e+00  2.60988293e+01  7.17280865e+00\n",
      " -7.91785717e+00  2.53903332e+01  1.53493681e+01  2.10198555e+01\n",
      " -1.02622259e+00  2.55759883e+00  2.49601364e+01  9.51634121e+00\n",
      "  1.80219650e+01  1.55810094e+00 -1.06912518e+01 -3.15858871e-01\n",
      "  1.53516138e+00  3.01361847e+01  1.14008598e+01  1.61531029e+01\n",
      " -7.53031731e+00  1.32122116e+01  3.67584724e+01  1.13556738e+01\n",
      "  5.63111115e+00  1.53644333e+01 -4.08129120e+00  3.55660286e+01\n",
      "  4.17059273e-01 -1.99417973e+00  4.16692238e+01  9.33561230e+00\n",
      "  5.27587605e+00 -8.00192261e+00  5.02348661e+00  3.73946037e+01\n",
      "  4.18775129e+00  3.17702985e+00 -3.32769215e-01  1.72525139e+01\n",
      "  1.43678179e+01  2.84795055e+01  1.31973209e+01 -3.19189715e+00\n",
      " -3.26918030e+00  1.27479849e+01  2.11360435e+01 -2.76150537e+00\n",
      "  5.20438576e+00  1.00556335e+01  3.39444804e+00  2.88526382e+01\n",
      "  1.66123123e+01  4.98235273e+00  1.33866653e+01  3.74637890e+00\n",
      "  1.40824957e+01  5.06721115e+00  6.75836039e+00 -3.64257503e+00\n",
      " -4.45749235e+00  9.17795849e+00  1.37513590e+01  4.97562122e+00\n",
      "  1.47334681e+01  2.44098353e+00  1.32687733e-01  2.55396509e+00\n",
      " -7.95730829e-01 -3.74034643e+00  1.99079645e+00 -8.92478275e+00\n",
      " -8.26693726e+00 -5.02091694e+00 -1.90955620e+01 -1.01627998e+01\n",
      " -8.57214510e-01  2.56095243e+00 -6.95103502e+00 -7.01682091e+00\n",
      " -8.96412182e+00 -3.80550647e+00 -2.41344500e+00 -6.51187801e+00\n",
      " -2.06032372e+01 -4.51297760e+00 -2.99678683e+00 -8.75301456e+00\n",
      " -1.01050262e+01 -8.02733898e+00  1.52167583e+00 -4.73774290e+00\n",
      " -3.34715581e+00 -9.76960421e-01  7.68633270e+00 -7.79744911e+00\n",
      " -6.96994424e-01  3.71342468e+00 -2.82383037e+00 -1.38644409e+01\n",
      " -1.23802567e+01 -1.25133133e+00  1.95715755e-01  1.21861243e+00\n",
      " -2.56955028e+00 -4.12847614e+00  3.65744901e+00 -5.71105814e+00\n",
      " -7.95622826e+00  4.36499882e+00 -9.22109795e+00 -2.47519708e+00\n",
      " -1.30311346e+01  2.77968287e+00 -6.25455427e+00 -1.39505017e+00\n",
      " -7.62936974e+00 -7.19288158e+00  4.56426048e+00  3.85257649e+00\n",
      " -8.41935444e+00 -3.73733425e+00 -5.87661695e+00 -5.38124752e+00\n",
      " -2.41441269e+01 -1.49806147e+01  5.24752200e-01 -7.39298248e+00\n",
      " -3.46748996e+00 -6.64605665e+00 -1.00840445e+01 -6.78154039e+00\n",
      " -2.43487859e+00  1.14996326e+00 -2.10244298e-01 -1.92450218e+01\n",
      " -2.41873951e+01 -7.49193621e+00  2.35002875e+00  1.83787680e+00\n",
      "  6.84830713e+00 -1.95857601e+01 -5.05761147e+00  1.01884127e+00\n",
      " -8.67377663e+00 -1.40888109e+01  4.54921055e+00 -1.93544636e+01\n",
      " -3.86317253e-01 -4.41309512e-02 -1.44031620e+01  2.14762235e+00\n",
      " -1.78349342e+01 -8.24246049e-01  8.61278725e+00 -8.72588062e+00\n",
      "  3.14470053e+00 -9.62791824e+00 -1.03677349e+01 -5.22427034e+00\n",
      " -5.41492939e+00 -5.83787489e+00  1.87955511e+00 -5.75811625e+00\n",
      " -1.83416057e+00 -2.41628246e+01  2.92327952e+00  1.65517483e+01\n",
      "  1.76744258e+00 -1.06372108e+01 -1.01407728e+01 -5.20550966e+00\n",
      "  1.06846488e+00  1.97508681e+00 -8.54165840e+00 -4.65656853e+00\n",
      " -4.22288990e+00 -4.43946600e-01  7.72835016e-01 -1.68066895e+00\n",
      "  2.42359281e+00 -3.36785412e+00 -7.22722197e+00  8.73733282e-01\n",
      "  5.54509068e+00 -4.53733206e+00 -4.24086392e-01 -7.03536510e+00\n",
      " -2.60017633e+00 -8.95373154e+00  3.41474915e+00  2.07590637e+01\n",
      " -2.09259033e+01 -5.45873356e+00 -3.86176467e+00 -3.03564143e+00\n",
      " -1.95162754e+01 -4.03425217e+00  1.69509184e+00 -1.73477116e+01\n",
      "  5.44179583e+00 -2.84203589e-01 -1.73945236e+00 -9.73572540e+00\n",
      "  4.85388851e+00 -5.06660080e+00 -5.05463791e+00  2.59747815e+00\n",
      "  8.88034329e-02 -3.29529619e+00 -7.75393629e+00 -1.55293748e-01\n",
      "  6.47200203e+00 -1.20838289e+01 -1.30347097e+00 -1.69685917e+01\n",
      " -2.54518986e+00 -4.38073206e+00 -6.20327711e+00  8.70183563e+00\n",
      "  6.63141251e+00 -3.88339949e+00 -2.63997102e+00  6.63756657e+00\n",
      " -2.64096931e-02  2.24060321e+00  4.57372856e+00 -2.91023231e+00\n",
      " -2.14251652e+01 -1.22498846e+01 -3.22975469e+00  8.96135867e-01\n",
      "  1.17476501e+01 -1.06168187e+00 -7.17780292e-01 -8.75483799e+00\n",
      " -2.84317398e+00 -6.30257034e+00 -4.02534914e+00 -2.57411528e+00\n",
      " -7.73218727e+00  1.06692779e+00 -1.30464268e+01 -2.12645245e+01\n",
      " -7.35860157e+00 -4.39529276e+00 -1.11146441e+01 -1.95539951e+01\n",
      " -2.76830173e+00 -4.43958569e+00  2.07492089e+00  8.79246330e+00\n",
      " -2.63024406e+01 -3.07540536e+00 -2.18173742e+00 -1.54198828e+01\n",
      " -3.38586658e-01 -2.14617081e+01 -2.13521385e+01  7.43998408e-01\n",
      " -7.28708839e+00 -6.03280687e+00 -4.91232824e+00  4.12032306e-02\n",
      " -8.05242920e+00 -4.15533638e+00 -5.33968067e+00 -6.62732124e+00\n",
      "  5.05492389e-01  1.20557384e+01  2.24173088e+01 -4.78969097e+00\n",
      "  3.54910946e+00  4.19894266e+00 -5.81437731e+00 -5.14650488e+00\n",
      " -4.26302671e+00 -3.01868458e+01 -5.46639109e+00 -2.46087379e+01\n",
      " -2.91001759e+01 -4.41909933e+00 -3.53420601e+01  1.20273514e+01\n",
      " -1.18188591e+01 -1.50646935e+01  9.20304012e+00 -6.29412794e+00\n",
      " -9.05031586e+00 -2.94706383e+01 -2.54230309e+01 -2.44945145e+01\n",
      " -3.66579771e+00 -3.63295441e+01 -2.44734535e+01 -8.20135498e+00\n",
      " -2.89390779e+00 -2.16876850e+01 -2.80958595e+01 -1.48878441e+01\n",
      " -1.96237659e+01 -1.18839111e+01 -2.27448483e+01 -3.48652306e+01\n",
      "  3.84348966e-02 -2.64445662e+00 -6.29614592e+00 -5.21639013e+00\n",
      " -4.50827446e+01  5.29405165e+00 -1.80935307e+01 -1.01860800e+01\n",
      " -1.17314110e+01 -2.68227190e-01  2.37445951e+00 -2.47925067e+00\n",
      " -1.33358135e+01 -1.10064182e+01  1.31352882e+01  2.25888481e+01\n",
      " -3.83274674e+00  2.52486944e-01 -1.99850616e+01 -1.20129175e+01\n",
      " -2.84817371e+01 -2.96372528e+01  3.63267112e+00 -1.71702652e+01\n",
      "  7.89244318e+00  1.12889795e+01 -2.98757801e+01 -1.42014332e+01\n",
      " -3.03059959e+01 -3.33665428e+01 -1.20411081e+01 -4.49798775e+00\n",
      " -3.58342819e+01 -4.87073565e+00 -3.53233681e+01  1.23237295e+01\n",
      " -1.12920551e+01 -2.32785149e+01 -2.71368294e+01 -6.18985319e+00\n",
      " -2.85702586e-01 -6.72701788e+00 -1.42961864e+01 -9.92196083e-01\n",
      " -2.91230869e+01 -1.28057775e+01 -2.46589317e+01  3.67881632e+00\n",
      " -7.64902544e+00  3.93947411e+00 -3.18459582e+00 -3.00376949e+01\n",
      " -6.64759636e-01 -1.69122195e+00 -8.15098858e+00 -1.46693058e+01\n",
      "  2.48181343e+00 -5.51735830e+00 -8.95740032e+00 -3.47203422e+00\n",
      " -4.24958420e+00 -2.38889732e+01 -2.94143848e+01 -2.83766537e+01\n",
      " -1.71799335e+01 -4.87104750e+00 -2.82224541e+01 -2.07032433e+01\n",
      " -6.17950439e+00  1.24470091e+01 -5.73588610e+00 -1.08032923e+01\n",
      " -1.37800589e+01 -6.28166485e+00  1.11079097e+00  8.78483009e+00\n",
      " -3.88686600e+01  2.62558436e+00 -2.44836216e+01  3.64652109e+00\n",
      " -1.12622938e+01  6.44949436e-01 -1.13228102e+01 -2.98237801e+00\n",
      " -2.07817411e+00  1.89149952e+01 -8.29124451e+00 -1.92569733e+01\n",
      " -3.34611440e+00 -3.09292030e+00]' has dtype incompatible with int64, please explicitly cast to a compatible dtype first.\n",
      "  preds[val_index] = model.predict(dval_i)\n"
     ]
    },
    {
     "name": "stderr",
     "output_type": "stream",
     "text": [
      "\r",
      " 50%|██████████████████████████████████████████████████████████████████████████                                                                          | 5/10 [01:41<01:45, 21.00s/it]"
     ]
    },
    {
     "name": "stderr",
     "output_type": "stream",
     "text": [
      "C:\\Users\\81809\\AppData\\Local\\Temp\\ipykernel_8504\\3386215446.py:18: FutureWarning: Setting an item of incompatible dtype is deprecated and will raise an error in a future version of pandas. Value '[ 3.02729893e+00  8.93268287e-01  1.45914764e+01  3.51987767e+00\n",
      " -5.77851486e+00 -9.81824815e-01  2.00374336e+01  7.26103735e+00\n",
      "  9.82642841e+00  7.20261908e+00  1.95895767e+00  5.68994379e+00\n",
      "  6.52623892e+00  2.43162937e+01  2.20578003e+00  2.08913975e+01\n",
      "  2.25259514e+01 -9.41744423e+00  1.47874486e+00  1.69085062e+00\n",
      " -2.00709358e-01 -3.74522758e+00  2.57409534e+01  2.83928757e+01\n",
      "  1.15654430e+01  3.74105811e+00 -3.88994265e+00  9.00607014e+00\n",
      "  4.07697582e+00 -9.31647062e-01 -2.52748895e+00  5.56152058e+00\n",
      "  2.32652211e+00  4.83971691e+00  1.60543938e+01  2.92215610e+00\n",
      " -1.07289150e-01  1.97521572e+01 -3.21510983e+00  4.26621628e+00\n",
      "  1.48294795e+00 -4.30223560e+00 -1.47570109e+00  7.09913874e+00\n",
      " -5.48702145e+00 -8.58462811e+00  1.72629814e+01  5.51427794e+00\n",
      "  2.31047573e+01  6.52943802e+00  1.60046411e+00  5.06444263e+00\n",
      " -1.54044664e+00 -1.95585585e+00  1.65403616e+00  1.27778416e+01\n",
      "  1.39729691e+01  6.08775616e+00  1.87676501e+00  3.88782120e+00\n",
      "  2.74353814e+00  4.68825006e+00  4.91937113e+00  6.80044794e+00\n",
      " -1.11647487e+00 -1.99539518e+00  1.73683891e+01  7.12039137e+00\n",
      "  1.17905989e+01  2.78469849e+01  3.62531757e+00  2.69488754e+01\n",
      " -9.42603779e+00  1.15727081e+01  1.11053858e+01  3.64868790e-01\n",
      "  4.40668869e+00  2.70920105e+01  7.91510820e+00  2.16473980e+01\n",
      " -1.36527145e+00  8.88438034e+00  8.34807396e+00 -1.97185135e+00\n",
      "  2.94835949e+00  1.24434147e+01  2.23912764e+00  1.04156666e+01\n",
      " -1.65227818e+00 -8.21274698e-01  2.55060024e+01 -3.38768315e+00\n",
      " -3.54132175e+00 -3.42216945e+00  2.68278255e+01 -2.14708805e-01\n",
      "  1.73866272e+01  5.23549557e-01  1.27236176e+01  1.09647071e+00\n",
      " -3.00810814e+00  3.79826260e+00  6.64860249e-01  1.59324512e+01\n",
      "  1.44243927e+01  2.11793041e+01 -5.52369833e+00  8.15665817e+00\n",
      " -3.32237101e+00  8.69484425e+00  1.04581699e+01  4.64684725e+00\n",
      " -1.36676273e+01 -3.63243151e+00 -2.41162896e+00  1.08685598e+01\n",
      " -1.80097431e-01  3.04206467e+01  1.43026762e+01  5.18307304e+00\n",
      "  9.59780788e+00  8.90392971e+00  1.68453999e+01  1.03236842e+00\n",
      "  1.17565861e+01  3.54736638e+00 -1.64718771e+00  8.21554279e+00\n",
      " -1.32212949e+00  2.64067054e+00  3.91404223e+00  4.25788784e+00\n",
      "  9.02818322e-01  8.04990292e+00 -1.13280249e+01 -1.31649244e+00\n",
      " -3.23135495e+00 -5.12806749e+00  6.40898085e+00  2.55002785e+00\n",
      " -2.33950543e+00  1.65291786e+01  1.28500538e+01 -6.04060316e+00\n",
      "  1.80004082e+01  1.77166424e+01  2.39471779e+01  3.50149751e+00\n",
      "  4.89716864e+00  4.36160803e+00 -1.61858237e+00  6.62536621e+00\n",
      "  4.04456854e+00  1.33286734e+01 -1.00751531e+00  2.25932765e+00\n",
      "  3.38995337e-01 -3.77847242e+00  4.71625233e+00  2.08612041e+01\n",
      "  6.73800039e+00  4.90571785e+00  1.25853634e+00  8.18339062e+00\n",
      "  1.07150829e+00  9.75396205e-03  4.60038137e+00  6.17039108e+00\n",
      "  1.13127165e+01 -5.40450907e+00  2.12430878e+01  2.91280413e+00\n",
      "  1.33885612e+01  7.52522564e+00  6.89021206e+00 -2.14752078e+00\n",
      "  2.29212952e+00  1.11118069e+01  3.91400743e+00  2.50704727e+01\n",
      "  7.22538853e+00  1.01625109e+01  9.94103527e+00  3.33167291e+00\n",
      "  2.47821636e+01  6.06632185e+00  5.46650887e+00  6.61971331e+00\n",
      "  4.85685682e+00  9.28682137e+00  9.97867393e+00  8.93695164e+00\n",
      "  6.67564344e+00 -2.50000858e+00  1.70960941e+01 -1.78548515e+00\n",
      "  3.19993043e+00 -7.79801071e-01  5.40609121e+00  1.18527193e+01\n",
      "  3.34701195e+01 -2.39596701e+00  4.42748718e+01 -1.48847127e+00\n",
      "  1.56855116e+01 -3.27020437e-01  3.41465807e+00 -6.99111032e+00\n",
      "  8.82894421e+00  3.33378100e+00  1.36828442e+01  5.38718081e+00\n",
      " -7.19020605e+00 -1.55747843e+00  2.30537224e+01  2.33589916e+01\n",
      "  9.69230270e+00  1.16016448e+00  3.37542953e+01  3.66730499e+01\n",
      "  6.13824797e+00  2.08102837e+01  9.11309052e+00  1.39777842e+01\n",
      "  1.66924610e+01 -6.39076281e+00  1.31581078e+01  7.55168200e+00\n",
      " -4.24246788e+00 -1.96662045e+00  2.20136118e+00 -6.58913565e+00\n",
      "  1.00449991e+01  3.29610968e+00  1.87064228e+01  3.59586296e+01\n",
      "  1.84202468e+00  3.24614906e+01  1.73655629e+00  3.13967854e-01\n",
      " -6.69051647e-01  5.09622335e+00  4.13215446e+00  1.97444046e+00\n",
      " -6.69899368e+00  1.60630369e+00  1.58508835e+01  3.58816028e+00\n",
      "  9.95666122e+00  1.34723940e+01  3.38951187e+01  4.87939358e+00\n",
      " -5.59842348e+00  1.46797876e+01  2.23788166e+01  1.13957195e+01\n",
      "  8.99477959e+00  7.53007746e+00  3.37927771e+00  2.63907123e+00\n",
      "  4.47939949e+01 -3.58931065e+00  2.46281605e+01 -3.71645236e+00\n",
      " -4.03569841e+00  1.54137545e+01  3.20781860e+01  6.97635221e+00\n",
      "  1.32449379e+01  9.94588280e+00 -2.50226307e+00  8.42882347e+00\n",
      "  1.58004522e+01  3.33773041e+01  1.02592230e+00  3.23663354e+00\n",
      "  6.51948357e+00 -2.59343410e+00  8.92026901e+00  5.30256939e+00\n",
      "  4.71381721e+01 -3.82965422e+00 -1.93388748e+00 -1.18007505e+00\n",
      "  2.96999035e+01 -6.37949038e+00  2.44923611e+01  2.03208523e+01\n",
      "  4.06594753e+00 -1.36168489e+01  1.00903463e+01  2.14107494e+01\n",
      "  7.80063677e+00  1.05050623e+00  7.19751358e+00  3.68716850e+01\n",
      " -3.15176249e+00  1.09112539e+01  5.48684931e+00  1.59140854e+01\n",
      "  2.60079098e+00  5.98824358e+00  3.89671350e+00 -9.25983715e+00\n",
      " -8.28539276e+00  1.02401698e+00 -1.04326649e+01 -2.10939002e+00\n",
      "  7.79351044e+00  9.59462261e+00  3.03244038e+01  1.35654249e+01\n",
      "  2.22289371e+01  5.86467552e+00 -1.70392647e-01  1.89704552e+01\n",
      "  4.20891666e+00  8.17137814e+00  2.20779305e+01  1.48391161e+01\n",
      "  2.06181507e+01 -6.10982962e-02 -5.36109018e+00 -1.95865881e+00\n",
      " -2.06068668e+01 -7.89103651e+00 -1.20645552e+01  2.83324689e-01\n",
      " -6.66782331e+00  1.86730754e+00 -6.38386393e+00 -6.46722269e+00\n",
      "  7.98260832e+00  2.78521276e+00  4.54760790e+00 -2.30327630e+00\n",
      "  2.03458571e+00 -6.35800171e+00 -2.44410801e+00 -8.16616058e-01\n",
      " -1.97650585e+01 -3.42984629e+00 -4.26892948e+00 -2.62892389e+00\n",
      " -1.16108537e+00 -3.31380010e+00 -3.12326336e+00  9.06982124e-01\n",
      " -9.47065353e+00 -1.85459576e+01 -2.76101303e+01 -2.86484170e+00\n",
      " -9.60242462e+00 -4.59573984e+00 -8.73641205e+00 -4.57637817e-01\n",
      "  9.23043638e-02 -4.29580927e+00 -1.00393610e+01 -1.40112412e+00\n",
      " -1.03823223e+01 -7.68836784e+00  5.74594200e-01 -5.07071877e+00\n",
      " -5.51239204e+00 -1.42899761e+01 -2.13314342e+01 -5.94911528e+00\n",
      " -2.82077980e+00 -1.10712457e+00 -5.22314787e+00  4.37387848e+00\n",
      "  3.87546945e+00 -7.88800383e+00  4.38851267e-01 -1.77897596e+00\n",
      " -1.40113964e+01 -5.61128187e+00 -2.80286282e-01 -1.51887455e+01\n",
      " -6.35134697e+00  4.18172598e+00 -7.21708441e+00 -9.52330208e+00\n",
      " -5.54349279e+00  3.57680082e+00  1.15428555e+00 -6.83813763e+00\n",
      " -9.79739761e+00  8.02746391e+00 -1.65207863e+01 -1.15208836e+01\n",
      " -4.51302886e-01 -4.81206465e+00 -1.32050908e+00 -1.21610479e+01\n",
      " -1.75585728e+01  2.46735477e+00  6.27008915e+00 -6.76617527e+00\n",
      "  4.55928326e+00 -1.71221523e+01 -1.04506750e+01 -6.15607882e+00\n",
      " -3.86004376e+00 -6.03513765e+00 -6.56550050e-01 -1.22678871e+01\n",
      " -8.46077061e+00 -3.86462975e+00 -1.35733538e+01 -1.04937668e+01\n",
      " -3.04205227e+00 -1.01100569e+01 -3.02086473e-01 -1.29160476e+00\n",
      " -4.01471710e+00 -1.23222876e+01 -1.87639675e+01  3.43736863e+00\n",
      " -2.29916420e+01 -1.23384075e+01 -4.84046507e+00 -1.83785224e+00\n",
      " -6.02718115e+00 -2.04545498e+00 -1.22886333e+01  4.70710850e+00\n",
      "  5.96262741e+00 -1.56138584e-01 -1.10156000e+00 -6.65143633e+00\n",
      " -4.33869219e+00 -6.52712011e+00  9.33289337e+00 -2.13797054e+01\n",
      " -3.50619102e+00 -5.86188936e+00 -1.06109846e+00  4.07285661e-01\n",
      " -8.59919930e+00 -1.14468298e+01  3.11362386e+00 -5.05504036e+00\n",
      " -4.64507675e+00 -4.07244253e+00  1.56880560e+01 -2.48854375e+00\n",
      "  2.83243275e+00  1.44394321e+01 -1.57676306e+01  3.89622712e+00\n",
      " -1.51049938e+01  3.09002709e+00 -9.08346081e+00 -5.14812565e+00\n",
      "  7.43655622e-01 -1.64710057e+00 -3.28825188e+00 -4.43660021e+00\n",
      " -2.02133408e+01 -1.06862364e+01 -8.47814274e+00 -2.14392586e+01\n",
      "  7.62077808e+00 -1.36257195e+00  4.98033762e+00  4.03450203e+00\n",
      " -2.27385159e+01 -2.91333842e+00 -6.97162056e+00  1.09794455e+01\n",
      " -4.99225557e-01 -1.70186234e+01  1.55099475e+00 -4.48819590e+00\n",
      " -1.77266407e+01  5.02668917e-02 -6.84256613e-01 -4.01260042e+00\n",
      " -2.16885686e-01 -9.90828037e+00  1.95828521e+00  4.84286249e-01\n",
      "  3.58641371e-02  5.34167814e+00 -1.37920303e+01  4.42791557e+00\n",
      " -3.39200449e+00 -3.99845648e+00 -7.44213200e+00  2.94359112e+00\n",
      " -2.66407204e+01 -3.01700020e+00 -9.43540668e+00  3.03757429e+00\n",
      " -3.68466711e+00  6.97960711e+00  1.36503518e-01  3.46605635e+00\n",
      " -3.95428371e+00 -5.10447550e+00  3.74063969e+00 -9.33849239e+00\n",
      " -5.57751465e+00  8.20180607e+00  2.63974786e+00  4.59544468e+00\n",
      " -4.05742109e-01 -1.67677441e+01 -2.54826045e+00 -8.23047161e+00\n",
      " -3.43266702e+00 -1.06209755e+00 -4.44621897e+00 -3.92104626e+00\n",
      " -1.43773627e+00  2.32319188e+00  2.36348095e+01 -1.94657993e+01\n",
      " -5.69326830e+00 -4.08764124e+00 -1.69483471e+01 -4.56453085e+00\n",
      "  1.08340654e+01 -3.51311111e+00  9.66419518e-01 -3.80723882e+00\n",
      " -9.98923588e+00 -9.99322987e+00 -7.40311241e+00 -3.07646656e+00\n",
      " -1.05400963e+01 -1.03181105e+01 -6.30149412e+00  4.93048286e+00\n",
      " -1.39111843e+01 -5.80557442e+00 -1.71150894e+01 -9.42784786e+00\n",
      " -2.45354099e+01  4.24542570e+00 -9.14341831e+00 -3.74207497e+00\n",
      "  8.06283951e-02 -1.00678091e+01 -2.90647449e+01 -3.32520332e+01\n",
      "  1.39871149e+01 -7.15547371e+00 -4.63836581e-01 -2.11732769e+00\n",
      " -5.25664234e+00 -2.46089516e+01 -2.22669029e+01 -5.56215620e+00\n",
      " -9.17524147e+00  4.98686075e+00 -1.90389004e+01 -1.68967705e+01\n",
      " -6.73385715e+00 -5.83793592e+00 -2.29256973e+01 -1.20743456e+01\n",
      "  5.18884754e+00  5.48283482e+00  1.48536491e+00 -5.31399965e+00\n",
      " -2.62875729e+01 -1.02171745e+01 -1.57871437e+01  2.02419052e+01\n",
      " -1.77556171e+01  5.71898079e+00 -1.53952036e+01 -1.20868177e+01\n",
      " -3.54090462e+01 -7.52486801e+00 -3.19120002e+00 -3.12318110e+00\n",
      " -7.84877717e-01 -7.22232437e+00 -6.31351328e+00 -1.52795668e+01\n",
      " -1.57867432e+01 -3.09307423e+01  1.99924433e+00 -1.51547079e+01\n",
      " -3.35400276e+01 -7.17185068e+00 -2.68522358e+01 -1.63879051e+01\n",
      "  8.38617134e+00 -1.41774998e+01 -1.93937244e+01 -1.32476425e+01\n",
      " -4.56783104e+00 -1.44539261e+01 -1.02972727e+01 -3.36728134e+01\n",
      "  1.65629292e+00 -6.29401302e+00 -4.08446026e+00 -3.76522183e-01\n",
      " -3.02750854e+01 -2.66679916e+01 -2.58954983e+01 -5.81065512e+00\n",
      " -4.95824051e+01  6.81159437e-01 -3.84840469e+01 -2.50583506e+00\n",
      "  3.96361184e+00 -1.03424263e+01  7.58824301e+00  7.00437498e+00\n",
      " -8.18980694e+00 -3.19920750e+01  5.08176923e-01 -3.75192337e+01\n",
      "  2.45124912e+00 -3.76284552e+00 -1.06781883e+01 -1.71886349e+01\n",
      " -2.26193695e+01 -3.17346954e+01  1.26769619e+01 -1.90699124e+00\n",
      " -1.97600937e+00 -2.71184635e+01 -6.12417936e+00 -1.91377506e+01\n",
      " -2.74185772e+01 -1.64967263e+00  1.08203256e+00 -7.00363111e+00\n",
      " -5.99609423e+00 -7.75423336e+00  1.77589393e+00 -9.03022385e+00\n",
      " -3.81795425e+01 -7.01463270e+00 -1.24240007e+01 -5.23532200e+00\n",
      " -1.07947512e+01 -1.86424618e+01]' has dtype incompatible with int64, please explicitly cast to a compatible dtype first.\n",
      "  preds[val_index] = model.predict(dval_i)\n"
     ]
    },
    {
     "name": "stderr",
     "output_type": "stream",
     "text": [
      "\r",
      " 60%|████████████████████████████████████████████████████████████████████████████████████████▊                                                           | 6/10 [02:04<01:26, 21.55s/it]"
     ]
    },
    {
     "name": "stderr",
     "output_type": "stream",
     "text": [
      "C:\\Users\\81809\\AppData\\Local\\Temp\\ipykernel_8504\\3386215446.py:18: FutureWarning: Setting an item of incompatible dtype is deprecated and will raise an error in a future version of pandas. Value '[ 4.41869640e+00  1.28593626e+01 -5.66621304e+00  9.74604893e+00\n",
      "  4.51446009e+00  2.34314213e+01  6.65623760e+00  1.72003293e+00\n",
      "  5.93671179e+00  5.71243048e+00  1.80457437e+00  1.19242418e+00\n",
      "  3.33065063e-01  6.83815622e+00 -5.50603867e-01  2.05916939e+01\n",
      "  2.09773579e+01 -8.80132484e+00  6.04840040e+00 -5.46674311e-01\n",
      "  5.63177872e+00  2.00527191e-01 -4.52391386e+00  5.98152733e+00\n",
      "  8.26090145e+00  1.63633461e+01 -6.54105484e-01  2.78468399e+01\n",
      "  8.70665359e+00 -3.79242253e+00  4.70934916e+00  9.91905689e+00\n",
      "  1.43046103e+01  9.52236366e+00  6.53040218e+00  9.89966631e-01\n",
      "  1.60653496e+01  1.08424437e+00  1.27471840e+00  1.13365459e+00\n",
      " -3.26491684e-01  1.71649134e+00  7.21843004e+00  1.64884472e+00\n",
      "  6.94506550e+00  1.70613480e+01  1.55566540e+01  1.78285766e+00\n",
      " -2.05072856e+00 -1.71134150e+00  6.52126217e+00 -1.63308907e+00\n",
      "  1.33953733e+01 -2.41669583e+00 -5.85136414e-01  1.06167507e+01\n",
      "  2.39100208e+01  2.51095085e+01  1.46278930e+00  6.23643637e+00\n",
      "  8.76199341e+00 -4.79432583e+00  8.44475651e+00  2.21134067e+00\n",
      "  7.34807074e-01 -2.59295654e+00  1.89441586e+01  5.11695528e+00\n",
      "  1.46223240e+01  1.80882244e+01 -5.91125488e+00  6.31368220e-01\n",
      "  5.72118235e+00  1.70170937e+01 -2.60007238e+00  1.79544983e+01\n",
      "  1.11261511e+01  1.24557028e+01  3.34948635e+00 -1.33541033e-01\n",
      "  7.77964735e+00  2.50897455e+00  1.58363628e+01  1.07916269e+01\n",
      " -4.28443050e+00  3.35160196e-01 -4.72232044e-01 -4.79568195e+00\n",
      "  4.13918829e+00  1.51443825e+01 -1.10236824e+00 -4.56736469e+00\n",
      "  2.37875957e+01  4.48817682e+00  1.33720894e+01 -1.02096500e+01\n",
      "  1.36018934e+01  3.21491146e+00  1.28549070e+01 -8.48844147e+00\n",
      "  4.24647570e+00  9.52190971e+00 -3.80328369e+00 -2.43613288e-01\n",
      "  1.35898933e+01  1.70071113e+00 -4.78803253e+00  2.15317321e+00\n",
      " -3.41557240e+00  1.83868074e+00 -1.90811992e-01  6.17851734e+00\n",
      "  8.35106564e+00  2.54410973e+01 -3.39893150e+00 -7.83777809e+00\n",
      " -4.52589560e+00  4.39111948e+00 -1.42485046e+00  2.66502571e+00\n",
      "  7.98307133e+00  1.17880239e+01 -1.38818073e+00  3.63688517e+00\n",
      "  4.42988014e+00  2.39431739e+00  7.11648846e+00  1.65281601e+01\n",
      " -1.53694534e+00 -2.25417757e+00  6.41148090e+00  2.13056907e-01\n",
      "  1.30880117e+00  1.66006351e+00  2.86111808e+00  1.13953066e+01\n",
      "  2.56115174e+00  5.51593924e+00  5.98020256e-01 -9.42800045e+00\n",
      "  2.10388298e+01  3.19734842e-01  3.92573190e+00  7.49081278e+00\n",
      "  1.54433327e+01 -3.89134049e+00  1.91828057e-01  1.25648603e+01\n",
      "  1.29161806e+01 -2.81655049e+00 -3.60340089e-01  3.93467355e+00\n",
      "  1.96621001e+00 -6.35925293e+00  9.46476173e+00  1.17936563e+01\n",
      "  4.54705286e+00  1.97305620e+00 -3.12318039e+00 -2.61084628e+00\n",
      "  4.70572186e+00  5.34731388e+00  2.36111126e+01  2.71862745e+00\n",
      "  5.17169333e+00  2.61585206e-01  5.99824905e-01  1.86339169e+01\n",
      "  2.96781445e+00 -3.04902881e-01  6.48349190e+00  3.86520529e+00\n",
      "  8.81815338e+00  7.89351082e+00 -4.17943224e-02  4.28021908e+00\n",
      "  2.74684858e+00  2.48113251e+01  6.81640530e+00 -5.03872871e+00\n",
      "  8.65431595e+00  1.04663834e-01  6.50160408e+00  9.58345032e+00\n",
      "  2.30118885e+01  1.89847984e+01  4.21212673e+00  2.19469490e+01\n",
      "  1.68002434e+01  3.04185820e+00  4.99109602e+00 -2.41751647e+00\n",
      "  1.04108963e+01  1.58281651e+01  5.83244443e-01  3.62499466e+01\n",
      "  1.47687664e+01 -6.05524588e+00  6.43614578e+00 -4.62902260e+00\n",
      "  1.39564362e+01  9.30908012e+00  3.77108269e+01  6.75670576e+00\n",
      "  2.17156127e-01  2.42801380e+01  6.89543581e+00  8.47601223e+00\n",
      " -1.59416765e-01 -3.13754225e+00  9.60653019e+00  7.34365797e+00\n",
      " -1.02212801e+01  3.42787051e+00  2.60731487e+01  3.25687861e+00\n",
      " -4.07399982e-01  1.65791059e+00  9.02832508e+00  1.72706819e+00\n",
      " -9.81157684e+00  1.06054974e+01  2.61171951e+01  5.27179718e+00\n",
      "  1.51539874e+00  2.05461102e+01  1.49116564e+01  8.50973988e+00\n",
      "  5.47850800e+00 -7.47861290e+00  4.38197517e+01  2.00737596e+00\n",
      "  8.59082794e+00  2.37452259e+01  1.52014418e+01  3.14570961e+01\n",
      " -4.45858650e-02  8.90611649e+00  6.71944618e+00  3.61278419e+01\n",
      "  3.59896507e+01  6.14347982e+00  4.54601192e+00  1.71408997e+01\n",
      "  8.91197383e-01  1.63913941e+00  2.94856567e+01 -2.15201974e+00\n",
      "  1.09144047e-01  8.88390541e+00  1.87393970e+01  1.23854218e+01\n",
      "  1.70227146e+01  1.48822241e+01  1.22425280e+01 -5.49541473e+00\n",
      "  1.25679970e+01  1.14352667e+00  3.26174378e+00  1.50632219e+01\n",
      "  1.18466949e+01 -4.87086725e+00  4.12738762e+01  3.57780838e+01\n",
      " -9.95902920e+00  8.49222088e+00  1.72607350e+00  1.31721954e+01\n",
      "  1.34237003e+01  2.94960480e+01  1.78653336e+01  4.65573273e+01\n",
      "  1.10367894e+00  2.94197903e+01  2.17271824e+01  6.52402449e+00\n",
      "  2.37633305e+01  3.82722902e+00 -9.22834778e+00  5.46377659e+00\n",
      " -6.90143490e+00  1.93840446e+01  6.70202065e+00  3.87685704e+00\n",
      "  2.78514805e+01  3.64803581e+01  1.08058631e+00  6.83057880e+00\n",
      "  1.90420074e+01  2.10594673e+01  1.84660854e+01  6.30427027e+00\n",
      "  5.52816439e+00  1.76964414e+00 -7.21472740e+00 -8.34248066e-01\n",
      "  2.53353157e+01  4.18681669e+00  2.98772202e+01  2.36015463e+00\n",
      " -2.70146519e-01  2.35517235e+01 -3.12760615e+00  2.30873623e+01\n",
      "  2.70710640e+01  5.13948822e+00  1.00131397e+01  1.19957714e+01\n",
      " -4.25308847e+00 -1.40796604e+01 -9.91658211e+00 -9.89804077e+00\n",
      " -4.83674383e+00 -1.15822439e+01 -6.13062859e+00  1.13553035e+00\n",
      " -6.29338121e+00 -6.89241362e+00 -7.40329266e+00  3.80663705e+00\n",
      "  4.12364435e+00 -1.34010849e+01 -2.12474918e+01 -2.04797688e+01\n",
      " -6.65157413e+00  7.76609802e+00 -5.57034683e+00 -1.64007723e+00\n",
      " -6.33073282e+00  5.11717606e+00  1.54733264e+00  2.03031850e+00\n",
      " -8.29666615e+00 -2.33630219e+01 -1.65239220e+01 -1.03308573e+01\n",
      " -4.71847010e+00 -6.36111879e+00 -9.78144825e-01  6.76543951e+00\n",
      "  7.23610735e+00  1.22485682e-01  3.68915391e+00 -7.31117439e+00\n",
      " -5.86093140e+00 -8.72891045e+00 -1.05039873e+01  2.91344547e+00\n",
      "  5.16776943e+00  6.49424553e+00 -2.19829750e+01  1.02761459e+01\n",
      " -4.58107859e-01 -1.51619940e+01 -2.44723167e+01 -1.18601823e+00\n",
      " -4.02787590e+00 -7.32988596e+00  1.29305458e+00 -1.34497249e+00\n",
      " -2.60683012e+00 -2.61260104e+00  1.39179063e+00 -5.74364281e+00\n",
      " -4.04649734e-01 -2.75222301e+01  1.46219361e+00 -1.61467285e+01\n",
      " -2.39989204e+01 -1.72300739e+01 -1.11878622e+00  3.25619173e+00\n",
      " -1.24251251e+01 -5.25786591e+00 -3.53037000e+00 -4.02556896e+00\n",
      " -4.92457628e+00 -5.35175467e+00  3.12065339e+00 -6.22977352e+00\n",
      " -6.73452556e-01 -1.51114120e+01  5.13176858e-01 -6.12395096e+00\n",
      " -7.70569181e+00  4.11998558e+00 -3.49120879e+00  1.55205116e+01\n",
      " -4.93587780e+00  3.24319053e+00  5.25334418e-01 -8.98058891e+00\n",
      " -1.87389195e+00  1.02662201e+01  5.44843578e+00  1.72584510e+00\n",
      "  7.49276018e+00 -4.33972692e+00 -4.41190910e+00  2.30567431e+00\n",
      " -2.19943166e+00 -3.39557695e+00  3.93586087e+00 -2.45176964e+01\n",
      " -1.82414818e+01 -2.42989016e+00 -4.38909721e+00 -2.00687456e+00\n",
      " -7.19681454e+00  4.35391283e+00  4.86315346e+00  1.56299174e+00\n",
      "  2.99199224e+00  3.24159265e+00 -1.02928867e+01  1.01306939e+00\n",
      " -2.05065365e+01 -4.69813395e+00 -1.23097601e+01 -7.20865726e+00\n",
      " -2.41649055e+00  4.27819061e+00 -3.02747707e+01 -9.21110725e+00\n",
      "  1.22932310e+01 -1.60238762e+01  5.53904724e+00 -1.50382290e+01\n",
      "  5.36142826e+00 -2.71125460e+00  1.68283093e+00 -4.60704517e+00\n",
      " -5.27898693e+00 -2.37649274e+00 -4.93451738e+00 -1.22866011e+01\n",
      " -1.22952719e+01 -4.45445508e-01 -1.26325741e+01  1.55048585e+00\n",
      " -1.93539882e+00 -2.12407455e+01 -4.06532001e+00 -9.04997063e+00\n",
      " -3.83972287e+00 -1.04665737e+01 -2.07210102e+01  1.81807923e+00\n",
      " -4.06518888e+00  1.11661625e+00 -3.24951434e+00 -5.46048594e+00\n",
      " -3.01465845e+00 -3.93538475e+00  9.18352604e-01  1.73113041e+01\n",
      "  3.56619149e-01 -3.34861016e+00 -1.91937523e+01 -1.02384911e+01\n",
      " -2.60050154e+00 -3.67910838e+00 -9.85431099e+00 -6.41872644e+00\n",
      " -7.51659870e+00 -3.99913263e+00 -2.15887661e+01  5.65499306e+00\n",
      "  5.82244444e+00 -1.56166708e+00  6.03947306e+00 -8.93789828e-01\n",
      " -5.25768471e+00 -2.74236894e+00 -2.39360118e+00 -4.27469254e+00\n",
      "  2.08347726e+00 -1.10973343e-01  6.03985453e+00 -2.81260896e+00\n",
      "  1.85341609e+00  4.16558313e+00 -1.04566586e+00  1.65661311e+00\n",
      " -3.18831277e+00 -2.35117016e+01 -1.55898981e+01 -3.43608475e+00\n",
      " -2.29982853e+01  4.62835804e-02 -1.24365664e+01 -5.26044607e+00\n",
      "  4.54852247e+00 -4.66498899e+00 -7.11104202e+00 -1.28276062e+01\n",
      " -8.84071541e+00  3.72182846e-01 -1.70227432e+01 -9.76169348e-01\n",
      " -4.41966629e+00 -4.36154938e+00 -5.43665028e+00  8.34919071e+00\n",
      "  4.87679911e+00 -3.85549712e+00 -3.70793462e+00 -5.74783862e-01\n",
      " -2.90168724e+01 -4.26272392e+01  5.72128713e-01 -2.31791210e+00\n",
      " -5.49567127e+00  5.02608109e+00 -2.46667957e+00 -5.01085424e+00\n",
      " -3.41876640e+01 -3.91320729e+00 -1.18329105e+01  4.30574703e+00\n",
      "  1.04357958e+01 -1.00263834e+01 -1.47999268e+01 -7.23068476e+00\n",
      " -2.80845928e+00 -2.65181732e+01 -3.31528473e+01 -2.52391968e+01\n",
      " -3.76517220e+01 -1.45194912e+01 -1.69667721e+01 -3.48070335e+01\n",
      " -2.82766495e+01  9.07517242e+00 -1.99360390e+01 -7.96983528e+00\n",
      " -1.47490516e-01  2.89310718e+00 -3.97975445e+00  6.71391296e+00\n",
      " -6.20371282e-01 -3.09278584e+01 -1.28287668e+01  1.32699287e+00\n",
      "  4.71231031e+00 -1.69340217e+00  5.57644069e-01 -1.35460818e+00\n",
      " -2.87720356e+01 -9.71320808e-01 -6.33628273e+00 -4.77488089e+00\n",
      " -1.61119556e+01 -6.93261576e+00  4.49987030e+00  6.93910646e+00\n",
      " -6.76786757e+00 -2.31404228e+01 -1.45067081e+01 -1.35851717e+01\n",
      " -1.29937863e+00 -1.24471912e+01  1.02529693e+00 -3.91311932e+00\n",
      " -1.12437105e+01 -3.54947052e+01 -6.67254829e+00  9.15626466e-01\n",
      "  5.21306610e+00 -1.77072582e+01 -3.26916885e+00 -2.56490688e+01\n",
      " -2.36454487e+01 -2.85259628e+01 -7.62219715e+00 -1.12537889e+01\n",
      " -1.90559030e+00 -1.64999247e+00 -3.13815355e+00 -2.87023849e+01\n",
      " -1.22132769e+01  4.18419170e+00 -1.13771400e+01 -3.46657448e+01\n",
      " -1.07796693e+00 -1.23715773e+01 -1.02120459e+00 -2.65082054e+01\n",
      " -8.16512680e+00  3.84007186e-01 -3.03857398e+00 -6.78412628e+00\n",
      " -9.69389534e+00 -3.33461189e+01  8.16733241e-01 -2.74658489e+01\n",
      "  1.68515265e+00 -1.20469790e+01 -2.29851837e+01 -2.96260681e+01\n",
      " -1.82245235e+01 -5.77133417e+00 -1.70363176e+00 -1.36524277e+01\n",
      " -1.85033150e+01 -2.57482185e+01  1.83137286e+00 -4.55581055e+01\n",
      " -2.99178886e+01 -1.24334450e+01 -3.37848663e+01 -2.73687792e+00\n",
      " -2.11296082e+01  1.05583677e+01 -1.19253550e+01 -9.97858620e+00\n",
      "  5.88093805e+00 -1.82906513e+01 -5.85126221e-01 -6.75286484e+00\n",
      " -3.03810388e-01  2.04783463e+00 -1.43666124e+00 -2.95536766e+01\n",
      " -5.81656361e+00 -9.92426968e+00 -1.29167662e+01 -3.51396036e+00\n",
      "  2.39438324e+01 -3.35178447e+00 -3.39553070e+01 -2.98952389e+01\n",
      " -3.62073135e+00  2.00337744e+00 -3.96876869e+01  2.42416930e+00\n",
      " -3.67751198e+01 -2.30249062e+01 -1.87809887e+01 -1.28212261e+01\n",
      " -1.36560745e+01 -1.83324490e+01 -9.61635399e+00 -1.74179325e+01\n",
      " -3.51282430e+00  1.38252330e+00]' has dtype incompatible with int64, please explicitly cast to a compatible dtype first.\n",
      "  preds[val_index] = model.predict(dval_i)\n"
     ]
    },
    {
     "name": "stderr",
     "output_type": "stream",
     "text": [
      "\r",
      " 70%|███████████████████████████████████████████████████████████████████████████████████████████████████████▌                                            | 7/10 [02:24<01:03, 21.24s/it]"
     ]
    },
    {
     "name": "stderr",
     "output_type": "stream",
     "text": [
      "C:\\Users\\81809\\AppData\\Local\\Temp\\ipykernel_8504\\3386215446.py:18: FutureWarning: Setting an item of incompatible dtype is deprecated and will raise an error in a future version of pandas. Value '[ 9.60880220e-01 -4.61411715e+00  2.85918188e+00  1.88356912e+00\n",
      "  1.75653801e+01  1.30283439e+00 -1.83100313e-01  9.48161602e+00\n",
      " -4.28786659e+00  3.94950461e+00 -2.67311049e+00  6.28637218e+00\n",
      "  4.08866501e+00  1.78458738e+00  6.35094690e+00  7.65524578e+00\n",
      " -7.42136097e+00 -4.83044624e+00  4.56316757e+00  9.32065964e+00\n",
      "  1.19556308e-01 -6.04981780e-01  2.33191252e+00  2.87541409e+01\n",
      "  1.09892359e+01  1.89767921e+00 -6.58792257e+00  1.76816101e+01\n",
      " -3.18355292e-01  4.86027908e+00  1.58139157e+00 -3.17276835e+00\n",
      "  6.79923868e+00 -1.69024205e+00  8.87208748e+00  9.62396812e+00\n",
      "  7.74155045e+00 -9.04100704e+00  7.37149000e+00  1.82080269e+00\n",
      " -1.83445525e+00  5.01942587e+00  1.66913052e+01  1.12691898e+01\n",
      "  2.23106499e+01 -7.27594495e-01  3.42185050e-02  1.39976196e+01\n",
      "  6.89265347e+00  1.47620356e+00  8.85710239e+00  4.35243082e+00\n",
      " -4.74883747e+00 -1.09054542e+00  6.36479473e+00 -2.30722594e+00\n",
      "  1.57886231e+00  7.37379837e+00  5.81076002e+00  3.77901506e+00\n",
      "  1.17633095e+01  1.03140564e+01 -3.88697648e+00 -3.19533801e+00\n",
      "  3.26880383e+00  2.79266405e+00 -1.47478127e+00  1.89461243e+00\n",
      "  1.87928562e+01  8.19921780e+00  5.57987785e+00  1.82468433e+01\n",
      "  7.30294752e+00 -1.03402340e+00 -2.87891865e+00 -5.54564142e+00\n",
      "  8.98664951e+00  7.69684839e+00  1.02975607e+01  1.03893483e+00\n",
      "  3.54588246e+00  7.61755943e+00  6.36916208e+00  1.28931961e+01\n",
      "  4.14479589e+00  7.26603746e-01  4.78321362e+00  3.42170668e+00\n",
      "  2.15871677e+01  1.47478714e+01  6.57702088e-01  8.54812622e+00\n",
      " -1.10415840e+01  3.81204462e+00  5.68144846e+00  5.78481734e-01\n",
      "  8.95030975e-01  9.56328487e+00 -2.92936611e+00  2.09078293e+01\n",
      "  8.24347436e-01 -1.35579634e+00 -1.52868843e+00  2.25878739e+00\n",
      "  1.59005141e+00  7.72618341e+00 -6.16357994e+00  1.33325777e+01\n",
      " -2.10039949e+00 -2.78031617e-01 -5.89076281e+00 -2.19862294e+00\n",
      "  6.22323656e+00 -3.39023399e+00 -2.00879931e+00  8.12418747e+00\n",
      " -5.74647141e+00  1.20909846e+00 -2.64985609e+00 -3.00881076e+00\n",
      "  6.93310499e+00  1.23796930e+01 -3.46834302e+00 -5.95070183e-01\n",
      "  4.17947912e+00 -4.35037661e+00  3.41109681e+00  7.31503534e+00\n",
      " -2.13910535e-01  1.62143555e+01  1.51931229e+01  3.87421441e+00\n",
      " -5.02122879e+00 -6.66312885e+00 -1.75699592e+00  2.36330795e+00\n",
      "  5.72517204e+00 -5.61337090e+00  3.35503626e+00  1.28506498e+01\n",
      " -1.20318735e+00 -2.82453251e+00  7.07545996e-01  6.57539845e-01\n",
      "  5.60248566e+00 -6.13495207e+00  9.06030560e+00  1.53160200e+01\n",
      "  1.46784601e+01  1.02521486e+01  1.45766652e+00  1.20339575e+01\n",
      "  1.11421549e+00 -9.43561718e-02  9.49949551e+00  2.20895424e+01\n",
      " -9.76742506e-01 -8.56788731e+00  3.06756330e+00  5.88989782e+00\n",
      "  3.34717894e+00 -4.01775569e-01  1.50163102e+00  1.06858482e+01\n",
      " -4.26610279e+00  1.58535933e+00 -1.69076061e+01  1.74054356e+01\n",
      " -4.07689667e+00  2.27903805e+01  2.59180355e+00  1.03062701e+00\n",
      "  9.58950806e+00  5.91275406e+00  1.17649698e+01  3.10592556e+00\n",
      "  4.52993107e+00  2.73674250e+00  2.62748528e+00  5.25966644e-01\n",
      "  3.86914539e+00 -1.85194719e+00  4.58019543e+00 -4.58388376e+00\n",
      "  2.17323780e+01  2.19297428e+01  7.70265609e-02  2.11232376e+00\n",
      " -6.65347195e+00  5.82618666e+00  4.74334192e+00 -3.66667962e+00\n",
      "  4.66646051e+00  6.89168024e+00  9.60234737e+00  3.02021885e+00\n",
      "  2.14391861e+01 -3.55447173e+00  1.05209799e+01  2.49998856e+01\n",
      " -3.58455992e+00 -8.69132519e-01 -4.23806286e+00 -1.58976328e+00\n",
      " -3.97117400e+00  2.14490390e+00  5.52471447e+00 -2.42679048e+00\n",
      "  1.58906317e+01 -3.71846890e+00 -1.82401621e+00  5.37154973e-01\n",
      "  1.89025898e+01  3.42548108e+00  3.48258400e+00  1.15704260e+01\n",
      "  2.13412046e+00 -2.01042199e+00  4.70717907e+00  2.08310242e+01\n",
      "  2.99012909e+01 -1.20386243e+00  2.65356636e+01  3.77539039e+00\n",
      "  4.13714600e+00  1.90673504e+01  6.27124643e+00  3.70653450e-01\n",
      "  2.06452885e+01 -9.97714615e+00 -1.00870399e+01 -4.63836956e+00\n",
      "  5.90631819e+00 -4.29204512e+00  3.49411850e+01  1.51940556e+01\n",
      "  2.00897617e+01  4.84534454e+00  1.99863167e+01  6.83177328e+00\n",
      "  6.10520029e+00 -3.70093513e+00  3.25830154e+01  1.25666656e+01\n",
      "  2.92268276e+01  8.94204795e-01 -2.87720691e-02  2.82957420e+01\n",
      "  1.23672667e+01  2.50221157e+01  1.82447701e+01  1.54461393e+01\n",
      "  1.92131443e+01  6.37942553e+00  1.30887728e+01  1.67987978e+00\n",
      "  1.61483345e+01 -7.64165545e+00  8.33182907e+00 -1.76433396e+00\n",
      "  1.88017714e+00  1.05742283e+01 -4.41246510e+00  2.29958191e+01\n",
      "  2.72068310e+01  7.84374332e+00  1.56415348e+01  7.47177076e+00\n",
      " -4.94024545e-01  1.31220856e+01  3.54695344e+00  1.72795944e+01\n",
      "  1.18834221e+00  1.65780525e+01  1.36687880e+01 -5.88153750e-02\n",
      " -9.50627804e+00  6.40180588e+00  1.94754543e+01 -1.15217848e+01\n",
      "  9.28929138e+00  2.50306726e+00  2.81672859e+01  7.52109945e-01\n",
      " -9.24459362e+00  7.19783449e+00 -8.58575821e+00  3.90187597e+00\n",
      "  2.79160810e+00  6.69464886e-01  2.99360409e+01  1.89039040e+01\n",
      "  2.68463497e+01  4.45502615e+00  4.79039917e+01  1.23746510e+01\n",
      "  3.71590157e+01  1.48015547e+01  1.30778885e+00  4.93126631e+00\n",
      "  2.07791519e+01  8.09884453e+00  1.24918509e+01 -8.12700272e+00\n",
      " -9.29525661e+00  8.58397770e+00  2.02211690e+00  3.18093090e+01\n",
      "  3.57921213e-01 -4.20319200e-01 -3.02495646e+00  1.91184652e+00\n",
      " -1.51709247e+00  1.64443016e+01  6.08803272e+00  8.29166126e+00\n",
      "  3.08043671e+01 -9.57748985e+00  8.12570953e+00  1.31252365e+01\n",
      "  8.58259296e+00  2.07398815e+01 -8.98965836e+00  2.87979145e+01\n",
      " -1.49991055e+01  3.97434120e+01 -7.46871662e+00  3.15948009e+01\n",
      "  6.72113800e+00  1.87106895e+01  1.99978256e+01  1.25381029e+00\n",
      " -1.29596415e+01  2.49648170e+01  9.97643852e+00  1.16044664e+01\n",
      "  6.99898005e+00  1.84810505e+01  3.30256414e+00 -1.06639061e+01\n",
      "  7.21733630e-01  2.66331196e+00 -1.11127777e+01 -6.41059446e+00\n",
      " -2.77342105e+00 -8.34545612e+00 -7.73274374e+00 -5.14670467e+00\n",
      " -7.70235014e+00 -6.43629026e+00 -7.28264380e+00 -2.10644302e+01\n",
      "  9.83752251e+00 -7.08075762e+00 -2.56894255e+00 -6.04576588e+00\n",
      " -4.21156019e-01 -3.06329393e+00 -5.16211939e+00 -1.40243515e-01\n",
      " -8.45841840e-02 -5.47723866e+00 -9.42914486e+00 -2.35409393e+01\n",
      " -3.69421744e+00  1.74206233e+00 -4.87666082e+00 -2.75163326e+01\n",
      " -5.26120234e+00 -6.03960657e+00  3.51453876e+00 -2.42438817e+00\n",
      " -1.07154999e+01 -5.41652441e-01 -9.84173489e+00 -7.08896971e+00\n",
      "  4.89046192e+00  1.12865281e+00  4.61826682e-01 -3.92802668e+00\n",
      " -6.47496414e+00 -8.86238575e+00 -8.89574623e+00 -1.34637079e+01\n",
      " -4.57347631e+00  1.96678317e+00 -1.45300686e+00 -1.65514338e+00\n",
      " -5.97058058e+00 -9.26464939e+00 -1.19688911e+01  2.80960107e+00\n",
      " -1.01863728e+01 -4.97505188e+00 -6.14596939e+00 -3.76132226e+00\n",
      "  1.07723045e+00 -8.17174244e+00 -6.96691942e+00 -2.34905243e+01\n",
      " -7.74045897e+00 -8.04235363e+00  1.23685086e+00 -1.41286354e+01\n",
      " -2.50949345e+01  4.44134355e-01 -2.16666937e+00  9.90223694e+00\n",
      " -1.78628178e+01 -1.19306431e+01 -1.46689916e+00 -1.80969410e+01\n",
      " -4.39582682e+00 -5.51433802e-01  4.99201012e+00 -1.17394037e+01\n",
      " -7.08842659e+00  1.07974567e+01 -1.59122286e+01 -1.64276848e+01\n",
      " -4.38790941e+00  5.01481295e+00 -6.68527031e+00  2.22702312e+00\n",
      " -9.47636795e+00 -5.69866800e+00 -1.38460045e+01  5.98799944e+00\n",
      "  8.36365795e+00 -4.39932203e+00  1.62451422e+00 -1.71094632e+00\n",
      " -1.66773307e+00 -1.29015703e+01  1.22393684e+01 -2.10270634e+01\n",
      " -5.92115927e+00 -1.91325188e+00 -2.24311466e+01 -1.78343887e+01\n",
      " -1.12351437e+01 -2.31730580e+00 -1.11279309e+00  1.28134382e+00\n",
      "  1.43060045e+01  6.06952763e+00 -9.89055037e-01 -6.21329594e+00\n",
      " -3.84347558e+00  5.98816872e-01  9.70044899e+00  1.70570583e+01\n",
      "  4.81723881e+00 -9.50122166e+00 -5.71556234e+00 -3.97448373e+00\n",
      "  1.49561346e+00  2.34159493e+00 -2.09147778e+01  6.24904156e+00\n",
      " -3.88013005e-01 -1.58908355e+00  3.32622617e-01 -1.35391264e+01\n",
      " -1.63659632e+00  5.38983154e+00 -1.73106594e+01 -1.54285517e+01\n",
      " -2.21132050e+01 -1.02359333e+01 -1.13834095e+01  1.01047497e+01\n",
      " -2.27015724e+01 -2.72172642e+00 -4.89239901e-01  6.66813993e+00\n",
      " -4.55222702e+00  4.70326376e+00  6.88355982e-01  6.31556928e-01\n",
      " -3.22105074e+00 -8.64276123e+00 -1.30311823e+00 -1.84463272e+01\n",
      " -5.89102793e+00 -3.99903512e+00 -4.86161375e+00 -2.32361555e+00\n",
      "  5.51584339e+00 -5.36171913e+00  4.86351490e-01 -6.64618301e+00\n",
      " -2.22305679e+00 -8.04702044e-01 -1.41313255e+00 -3.97819042e+00\n",
      "  3.70130491e+00 -2.38712349e+01  1.69168148e+01  3.66524816e+00\n",
      "  1.17894106e+01 -3.54636431e+00  3.71403217e+00 -4.45044756e+00\n",
      " -2.63308811e+00 -1.09042835e+01  3.27115726e+00 -1.74989963e+00\n",
      " -2.61682091e+01 -6.83783436e+00 -3.90452117e-01 -9.61421192e-01\n",
      " -2.54934430e+00 -5.45344400e+00 -1.67365818e+01 -5.14332438e+00\n",
      " -7.04857397e+00 -8.98337650e+00 -8.10469913e+00 -2.47517014e+00\n",
      " -4.04759550e+00  7.92804813e+00 -6.73144627e+00  9.53546143e+00\n",
      " -4.15766478e+00 -6.06293011e+00 -3.09197788e+01 -1.90173721e+01\n",
      " -9.46579647e+00 -5.51847649e+00 -3.70646071e+00 -2.83139477e+01\n",
      " -1.10203352e+01 -2.74799881e+01 -1.39903793e+01 -2.47668839e+00\n",
      " -3.18960810e+00 -9.81638050e+00 -3.49520302e+01 -1.89868712e+00\n",
      " -1.28862305e+01 -8.00107670e+00  1.89931583e+00 -9.64957714e+00\n",
      " -5.98340321e+00 -6.40058088e+00 -1.22752199e+01 -1.36529493e+01\n",
      " -3.28133507e+01 -2.69958744e+01 -3.67226830e+01 -8.40181887e-01\n",
      "  1.57021952e+00 -1.88562965e+01 -2.52813911e+01 -2.89581852e+01\n",
      "  5.93594027e+00  9.08672142e+00 -9.45162833e-01 -7.67810869e+00\n",
      " -3.89045639e+01 -5.97649872e-01 -2.94594517e+01 -3.22988548e+01\n",
      " -1.40901947e+01 -3.08868523e+01 -1.18987489e+00 -1.56767645e+01\n",
      " -8.22992992e+00 -4.22847862e+01  6.85077906e+00 -1.15575576e+00\n",
      " -2.21441002e+01 -1.99828682e+01 -2.76812047e-01 -6.64074707e+00\n",
      " -1.97640533e+01 -3.39999504e+01 -3.17362137e+01 -5.20718527e+00\n",
      "  2.75493240e+00  1.01354580e+01 -2.57949562e+01 -1.00822964e+01\n",
      " -1.40155306e+01 -3.93609786e+00 -2.05681667e+01 -1.24181261e+01\n",
      " -4.26739159e+01  4.55758762e+00 -8.77055407e-01 -1.02233040e+00\n",
      " -1.95638714e+01  7.53625393e+00 -3.38272929e+00 -5.84410858e+00\n",
      " -7.31437683e+00  5.65658760e+00 -3.53126068e+01 -5.98661947e+00\n",
      "  8.38830662e+00 -8.34518719e+00  7.86247063e+00 -1.50808229e+01\n",
      "  3.22980595e+00 -6.38069391e+00 -1.15527210e+01 -1.58000631e+01\n",
      " -1.11180353e+01 -2.66909370e+01 -1.27417555e+01  3.13785172e+00\n",
      "  1.66462946e+00  2.87158680e+00  6.65865993e+00 -1.97020626e+01\n",
      " -7.01070690e+00 -9.80627918e+00  5.00064182e+00  7.50777578e+00\n",
      " -2.70244274e+01 -1.45338863e-01 -2.47946033e+01 -2.99100647e+01\n",
      "  2.63203216e+00 -1.01720309e+00  7.43437290e+00 -7.14239073e+00\n",
      " -1.11983871e+01 -1.60263042e+01 -2.28986950e+01  1.03528776e+01\n",
      " -2.01214600e+00 -9.65587139e+00 -3.37489438e+00 -2.50396767e+01\n",
      " -3.58381729e+01 -3.52409821e+01 -1.74509125e+01  6.21635437e+00\n",
      " -1.52443800e+01 -1.59732952e+01  1.30152664e+01 -2.35604801e+01\n",
      " -1.77729263e+01 -1.81650043e+00]' has dtype incompatible with int64, please explicitly cast to a compatible dtype first.\n",
      "  preds[val_index] = model.predict(dval_i)\n"
     ]
    },
    {
     "name": "stderr",
     "output_type": "stream",
     "text": [
      "\r",
      " 80%|██████████████████████████████████████████████████████████████████████████████████████████████████████████████████████▍                             | 8/10 [02:41<00:39, 19.86s/it]"
     ]
    },
    {
     "name": "stderr",
     "output_type": "stream",
     "text": [
      "C:\\Users\\81809\\AppData\\Local\\Temp\\ipykernel_8504\\3386215446.py:18: FutureWarning: Setting an item of incompatible dtype is deprecated and will raise an error in a future version of pandas. Value '[ 8.13473606e+00 -6.03331184e+00  1.09921684e+01  7.85584593e+00\n",
      "  6.97583532e+00  6.88088894e+00  5.77946758e+00  1.77169919e+00\n",
      " -3.94485414e-01  2.91007328e+00 -3.29683924e+00  2.26639438e+00\n",
      " -9.99102533e-01  2.01649227e+01  2.75448084e+00  1.31692657e+01\n",
      "  3.81628299e+00  3.86602163e+00  6.61848402e+00  2.57744026e+00\n",
      "  6.10834360e+00  3.97083259e+00  9.66470242e+00 -1.58146262e+00\n",
      "  6.77172518e+00  4.31086254e+00  1.01004219e+01  6.28059387e+00\n",
      "  2.06202865e+00  2.54182930e+01  4.83151007e+00 -8.43274307e+00\n",
      "  3.87880492e+00  1.52441263e+01  8.36202049e+00 -6.41256046e+00\n",
      "  4.69790554e+00  1.71645272e+00 -7.94295490e-01 -7.92962122e+00\n",
      " -3.37904906e+00  1.04128475e+01  2.89432645e+00  6.89003181e+00\n",
      "  2.11429977e+01  9.32628822e+00  5.82737875e+00  7.79893324e-02\n",
      " -2.26850605e+00  2.25111842e+00  4.94698906e+00  3.99945450e+00\n",
      "  9.98062015e-01  1.58610754e+01  4.15966034e+00  1.00246286e+01\n",
      "  2.24623718e+01  8.38685799e+00 -3.77456594e+00  6.87669802e+00\n",
      "  3.70846486e+00  2.95313096e+00  3.71564293e+00  1.26918912e+00\n",
      "  7.35690928e+00  1.01626539e+01  3.80184674e+00  3.54377484e+00\n",
      "  1.44812317e+01  2.51551323e+01 -3.23756266e+00  6.18397713e+00\n",
      "  1.11342061e+00  1.01084137e+01  2.65241265e+00 -2.30396148e-02\n",
      "  2.29176998e+01  7.30390549e+00  1.27848969e+01  2.87156153e+00\n",
      "  1.57317295e+01 -2.16185570e+00  1.00491104e+01  8.05786324e+00\n",
      "  3.33826423e+00 -9.13098097e-01 -9.92016852e-01  7.08065748e+00\n",
      "  1.87196124e+00  7.48471546e+00  1.73857670e+01 -5.21311617e+00\n",
      "  4.35130894e-01  3.52820253e+00 -6.71003819e+00 -2.74445200e+00\n",
      " -2.94774795e+00 -7.38274956e+00  1.52450353e-01  1.99532405e-01\n",
      "  2.07615256e+00  7.76875839e-02 -1.04539547e+01  2.88436007e+00\n",
      " -2.60654688e+00  1.16553426e+00  2.26104126e+01 -5.06918621e+00\n",
      "  1.37092714e+01  1.40002079e+01  6.84499645e+00 -1.93424428e+00\n",
      "  9.77882290e+00 -9.55753422e+00 -1.53771102e+00 -3.30823493e+00\n",
      "  4.19050550e+00 -8.60185814e+00  2.70105672e+00 -1.37406349e+00\n",
      "  8.36913967e+00  8.68749428e+00 -3.65245986e+00  1.21875887e+01\n",
      "  6.63503027e+00  7.07337523e+00  2.11860943e+01 -7.36430454e+00\n",
      "  1.48445730e+01  9.14833069e+00 -2.75816607e+00  6.72699881e+00\n",
      "  5.31116676e+00  1.08811200e+00  2.36356467e-01 -2.22728193e-01\n",
      "  1.20609179e+01  1.20246944e+01 -6.37529612e+00  1.11503563e+01\n",
      "  2.25659537e+00  9.52490044e+00  2.08068867e+01  3.34367919e+00\n",
      "  9.75510240e-01  1.03165233e+00 -1.20862328e-01  1.45904338e+00\n",
      "  4.21365499e+00  6.12363529e+00  2.75392079e+00  1.16247330e+01\n",
      " -1.56830108e+00 -3.77532887e+00  2.07141495e+00 -1.18259983e+01\n",
      "  2.93454762e+01  1.50495558e+01 -2.00087142e+00  1.76391907e+01\n",
      "  1.20613470e+01  3.13530064e+00  1.01908216e+01  1.05808103e+00\n",
      "  1.26062715e+00 -1.02652478e+00 -3.92636228e+00  3.33717680e+00\n",
      " -1.84690368e+00  1.59993577e+00 -6.15198135e-01 -1.45356059e+00\n",
      "  1.13637733e+00 -1.43488467e+00  4.08830023e+00  1.92076359e+01\n",
      "  6.92601538e+00  1.38682222e+01 -5.96229982e+00  2.00003567e+01\n",
      " -2.14367676e+00  3.46634769e+00  4.47883320e+00  8.00481141e-01\n",
      "  7.64547014e+00 -7.98870420e+00  1.87394428e+01  3.89794588e+00\n",
      "  6.43311310e+00 -9.69894588e-01  9.12081528e+00  1.46624870e+01\n",
      "  2.08025341e+01 -2.85457206e+00  2.35593224e+00  5.78661323e-01\n",
      "  5.58812141e+00  5.17741346e+00  4.03433800e+00 -4.92697096e+00\n",
      "  7.92438316e+00  8.63098907e+00  9.49833393e+00  2.34862442e+01\n",
      "  4.32453871e+00  2.43031144e+00  2.59078264e+00  5.13725853e+00\n",
      "  5.54954338e+00 -1.11496043e+00  1.07010098e+01  6.06265211e+00\n",
      "  1.91331711e+01  8.11575031e+00  3.50144601e+00 -5.61395168e-01\n",
      "  3.77985649e+01 -9.74533939e+00  4.92361069e+00 -1.05326405e+01\n",
      " -6.81114769e+00  1.33509769e+01  1.48343548e-01  3.62771368e+00\n",
      "  8.19349289e+00 -1.33029997e+00  2.54655342e+01  5.65170288e+00\n",
      "  9.05848217e+00  2.42823067e+01  4.74754000e+00  2.03525372e+01\n",
      " -8.06454849e+00  2.92355900e+01  3.09308777e+01  9.93843019e-01\n",
      " -1.52258892e+01  1.86966324e+00  1.63489318e+00  6.29783440e+00\n",
      "  8.37337780e+00  1.79963875e+01  7.04934645e+00  1.52856998e+01\n",
      "  3.01588459e+01  1.09852238e+01  3.55975151e+01 -1.98437488e+00\n",
      "  1.02277861e+01  3.11602563e-01  1.73878613e+01  1.28166056e+01\n",
      "  2.66980095e+01 -4.69556808e+00  2.50343895e+01  1.30472937e+01\n",
      "  1.02316446e+01  3.26521225e+01  1.08429070e+01  2.76584320e+01\n",
      "  2.53208399e+00  6.11605930e+00  2.62224407e+01  1.59703612e+00\n",
      "  5.89788151e+00  8.39695549e+00  1.00318289e+01 -5.77090645e+00\n",
      "  1.42662401e+01  4.24680099e+01  8.23570251e+00 -1.09505558e+01\n",
      "  9.74995708e+00 -2.51843953e+00 -9.26285458e+00  3.70181346e+00\n",
      " -4.39164543e+00  1.16326656e+01  4.32122803e+00  6.26452160e+00\n",
      " -2.11434579e+00  3.68317375e+01  1.40399675e+01  3.02620029e+01\n",
      "  2.22803059e+01  2.64279652e+00  9.04041004e+00  1.65645905e+01\n",
      "  5.59181070e+00 -7.34309292e+00  2.04461670e+01  6.25492382e+00\n",
      "  2.56052160e+00  2.27139435e+01  9.53683090e+00  3.17736206e+01\n",
      "  8.27451038e+00  2.99902477e+01  3.82697892e+00 -9.79644871e+00\n",
      "  5.07939768e+00  3.91534281e+00  6.50028944e+00  6.00179958e+00\n",
      " -1.18015280e+01  1.60478878e+01  2.80390701e+01 -2.65809941e+00\n",
      "  3.96402855e+01  9.92569160e+00  2.54500751e+01  3.73395538e+01\n",
      " -5.77909613e+00  3.81357422e+01  4.46712255e+00  1.31912889e+01\n",
      "  2.91648364e+00  3.31077218e+00  1.14852791e+01  2.55327206e+01\n",
      "  1.12343559e+01 -1.91110253e+00 -2.15538750e+01 -5.56774998e+00\n",
      "  3.84599543e+00 -1.37149115e+01 -2.40594444e+01 -7.73483419e+00\n",
      " -3.26043582e+00 -8.52242756e+00 -5.57513809e+00 -3.08252501e+00\n",
      " -2.09161491e+01 -3.03968501e+00 -2.58732357e+01 -4.39078045e+00\n",
      " -7.96058035e+00 -7.34514594e-01 -7.10175610e+00 -2.50626540e+00\n",
      " -7.43857431e+00 -9.55412388e+00  6.17188740e+00 -1.90949333e+00\n",
      "  6.62998867e+00  5.00007296e+00 -7.82853460e+00 -4.77369452e+00\n",
      "  7.14326739e-01 -2.52366219e+01  7.94931710e-01  3.29370886e-01\n",
      " -2.90469704e+01  1.26669717e+00  1.27615366e+01 -7.73369122e+00\n",
      "  7.46576929e+00 -8.83920288e+00 -5.31264067e+00 -5.68759012e+00\n",
      " -6.21049595e+00  3.47192836e+00  2.21281481e+00 -9.08108950e-01\n",
      " -9.68728733e+00 -2.20845184e+01 -8.53032303e+00 -1.37827444e+01\n",
      "  6.12012577e+00 -3.23527050e+00  2.45126724e+00  8.75538647e-01\n",
      " -1.65964222e+01 -6.05524254e+00 -2.37494068e+01 -1.35360062e+00\n",
      "  2.26264143e+00 -7.82642984e+00 -5.00442648e+00  3.17520547e+00\n",
      " -2.48711452e+01 -1.12435789e+01 -1.37157173e+01 -1.19027221e+00\n",
      " -5.31239927e-01  1.45712841e+00  1.73894322e+00 -1.46189523e+00\n",
      " -3.22264504e+00  7.74625719e-01 -3.17507863e+00 -4.24664307e+00\n",
      " -7.27788210e+00 -1.96216049e+01  5.57643700e+00  2.86223793e+00\n",
      " -1.05651569e+00 -3.58256340e+00 -3.10421157e+00 -7.12615490e+00\n",
      " -1.75143356e+01  2.77365357e-01  1.46176472e-01 -5.93367517e-01\n",
      "  2.06203794e+00 -9.07470703e+00 -2.47033310e+01 -1.67878151e+01\n",
      " -9.25919342e+00 -1.13249006e+01 -8.46717644e+00 -3.16309500e+00\n",
      " -5.91105318e+00 -3.65805936e+00 -5.69378567e+00 -1.92283897e+01\n",
      "  1.90269387e+00  3.44520068e+00  1.48132257e+01 -2.92636603e-01\n",
      "  3.63875556e+00  5.59945524e-01 -2.36651993e+01 -5.70506044e-02\n",
      " -1.36173744e+01 -1.95363319e+00  8.05008888e+00  2.48708892e+00\n",
      " -5.57016277e+00  4.32256728e-01 -1.64602356e+01 -1.14278209e+00\n",
      " -7.33824253e+00  1.76455641e+00 -1.42180729e+01 -1.74477520e+01\n",
      " -3.25055766e+00  4.66632652e+00 -3.53433299e+00  7.82955313e+00\n",
      " -7.24322033e+00 -2.04538870e+00 -1.10114489e+01  5.69629002e+00\n",
      " -5.62606382e+00  5.26239157e+00 -2.72770042e+01 -4.69430923e+00\n",
      " -8.98210239e+00 -1.93819618e+01  4.28776169e+00 -7.27695799e+00\n",
      "  3.78507757e+00 -1.32766447e+01 -2.02996445e+01  6.38889372e-01\n",
      " -1.55659902e+00 -2.63735741e-01 -9.64495659e+00 -5.03758526e+00\n",
      " -1.32786169e+01  2.28087139e+00 -2.39683294e+00 -1.46331263e+00\n",
      " -8.20403290e+00  2.25997472e+00 -1.34735060e+00 -1.07884007e+01\n",
      " -4.75264692e+00 -3.86213303e+00 -1.19415588e+01  9.66170692e+00\n",
      " -2.20365868e+01 -6.07961464e+00 -4.25520992e+00 -4.74201649e-01\n",
      "  5.73141384e+00 -3.84862852e+00 -3.51553345e+00 -4.61606312e+00\n",
      "  4.42838383e+00 -7.71361411e-01  3.66677189e+00  1.37560940e+00\n",
      "  4.07661724e+00 -3.20693898e+00  1.33385241e+00  4.10339922e-01\n",
      "  9.86063385e+00  1.09839797e+00 -1.37446098e+01  3.06839776e+00\n",
      " -3.90354371e+00 -2.25320263e+01  1.12361259e+01 -2.12075427e-01\n",
      " -1.46649051e+00 -5.23797560e+00  5.11680245e-01 -1.31902323e+01\n",
      " -2.44712734e+00  3.22823977e+00 -2.61012897e+01  5.27730513e+00\n",
      "  4.03269100e+00  1.08644323e+01 -1.75993040e-01 -7.61154795e+00\n",
      " -1.25351286e+00 -1.03884974e+01 -4.96126318e+00 -4.57009935e+00\n",
      " -1.52252064e+01 -7.08735657e+00  1.54508746e+00  5.41641235e+00\n",
      " -5.33333731e+00  2.36241117e-01 -5.50841713e+00 -3.56062508e+00\n",
      " -1.55021839e+01  3.33063555e+00 -7.39178085e+00 -3.53475046e+00\n",
      " -2.27621670e+01 -1.21052465e+01 -8.73311698e-01  8.36576748e+00\n",
      "  6.88216877e+00 -5.56940222e+00 -1.92037868e+01 -2.78279066e+00\n",
      " -1.17310257e+01 -3.02300167e+01 -3.36526527e+01 -2.74678745e+01\n",
      " -5.18361950e+00 -1.98624268e+01 -2.24397011e+01  4.70734894e-01\n",
      " -8.62476730e+00 -5.79424047e+00 -2.51314473e+00  8.57847118e+00\n",
      " -3.09701443e-01 -6.62873602e+00  5.60024381e-01 -3.20718122e+00\n",
      " -1.49934852e+00 -3.74568214e+01 -3.07841301e+01 -2.59458561e+01\n",
      " -4.08902168e+00 -2.29990044e+01 -7.89945698e+00 -6.24772263e+00\n",
      " -7.61709690e+00 -4.41772509e+00  1.06716180e+00 -1.98152924e+01\n",
      " -4.42299042e+01 -2.12219214e+00 -2.17824650e+01 -1.83949394e+01\n",
      " -1.38561592e+01 -1.20466805e+01 -3.12566376e+01  8.16024482e-01\n",
      " -3.12724972e+01 -7.91304016e+00 -2.32018852e+01 -2.90349598e+01\n",
      "  1.62838459e+00 -5.72067356e+00 -2.10861969e+01  5.56511784e+00\n",
      " -9.39342976e+00  3.21700764e+00 -3.01239815e+01 -1.70451794e+01\n",
      " -1.05290470e+01 -1.71196041e+01 -7.21943140e+00 -3.44550109e+00\n",
      "  4.35754251e+00 -6.10476542e+00  4.15205210e-01 -3.00193834e+00\n",
      " -1.51922143e+00 -2.30047188e+01 -9.75755882e+00 -3.03424120e-01\n",
      " -1.93588104e+01 -1.78768516e+00 -1.25961189e+01  3.15673661e+00\n",
      " -3.46466446e+01 -3.25586200e-01  8.34959793e+00  6.33566570e+00\n",
      " -2.95190964e+01  8.26133609e-01 -2.36412525e-01  1.73863366e-01\n",
      "  5.52731276e+00 -2.10626221e+00 -1.54505844e+01 -2.57734642e+01\n",
      " -1.52387643e+00 -1.02492580e+01  1.11713581e+01  1.27874184e+00\n",
      "  5.24629641e+00 -1.04632549e+01 -2.54427986e+01 -7.49399328e+00\n",
      " -3.61780777e+01 -3.00324249e+01  4.20900106e+00 -1.44736900e+01\n",
      " -2.35771942e+01 -4.90746880e+00 -6.53969336e+00  4.40300345e-01\n",
      "  1.16399803e+01  2.85047174e+00 -3.11233521e+00 -2.91259041e+01\n",
      " -1.53735256e+01 -8.46136570e+00 -4.44034481e+00  1.22281718e+00\n",
      "  9.65359116e+00  2.79333544e+00 -1.18487823e+00 -2.33886890e+01\n",
      "  6.35376692e+00 -1.93486633e+01 -1.17829914e+01 -3.15081882e+00\n",
      " -7.23175287e-01  1.35239906e+01 -3.02119503e+01 -9.11631966e+00\n",
      " -2.54983730e+01 -8.52926540e+00]' has dtype incompatible with int64, please explicitly cast to a compatible dtype first.\n",
      "  preds[val_index] = model.predict(dval_i)\n"
     ]
    },
    {
     "name": "stderr",
     "output_type": "stream",
     "text": [
      "\r",
      " 90%|█████████████████████████████████████████████████████████████████████████████████████████████████████████████████████████████████████▏              | 9/10 [03:02<00:20, 20.04s/it]"
     ]
    },
    {
     "name": "stderr",
     "output_type": "stream",
     "text": [
      "C:\\Users\\81809\\AppData\\Local\\Temp\\ipykernel_8504\\3386215446.py:18: FutureWarning: Setting an item of incompatible dtype is deprecated and will raise an error in a future version of pandas. Value '[ 3.63108420e+00 -5.84100723e+00  2.16371975e+01  1.83891428e+00\n",
      "  4.79249907e+00 -5.79794216e+00  4.48612213e+00  2.83946705e+00\n",
      " -8.07493019e+00  1.16956067e+00 -2.99501443e+00  1.82415962e+01\n",
      "  2.71265717e+01 -2.26173401e+00  2.09267120e+01  1.79412794e+00\n",
      "  8.29940796e+00  2.40839267e+00  9.71627474e-01  2.83242464e+00\n",
      " -9.73541319e-01  1.32551622e+00  8.07735994e-02  4.91120148e+00\n",
      "  5.07427740e+00  9.18635178e+00 -8.02373365e-02  1.00176477e+01\n",
      "  2.94399214e+00  2.16254845e+01 -2.64770818e+00 -3.47793913e+00\n",
      "  5.08794022e+00  3.84589672e-01  3.51842952e+00 -1.13895786e+00\n",
      " -3.77813601e+00  8.69083786e+00  3.02260935e-01  5.17377555e-01\n",
      "  1.87229710e+01 -5.54126453e+00  2.05491567e+00 -7.42053843e+00\n",
      " -1.51671183e+00 -1.07202015e+01  1.64734135e+01  1.48545895e+01\n",
      "  5.31903648e+00  1.60286880e+00 -2.68639183e+00  6.07003784e+00\n",
      " -4.10741043e+00  5.14934015e+00  1.43884611e+00 -1.33630145e+00\n",
      "  1.41667295e+00 -3.74623466e+00  1.00538588e+01  2.42355442e+01\n",
      "  1.50928183e+01  5.32157135e+00  5.39274454e+00  1.55835209e+01\n",
      " -2.75016403e+00  3.27377176e+00 -4.13073778e+00 -2.38349128e+00\n",
      "  4.17694664e+00  4.88322878e+00 -5.50969541e-01  1.83785439e+01\n",
      "  7.82911396e+00  4.68930864e+00 -2.25792885e+00  3.68241382e+00\n",
      " -1.36037159e+00  5.78781509e+00  2.47006493e+01  1.99566770e+00\n",
      " -3.05441737e+00 -2.87663054e+00  2.05214238e+00  4.38313055e+00\n",
      "  2.82260656e+00  1.41362548e+00  1.26004000e+01  2.56688843e+01\n",
      "  6.92224884e+00  1.47090187e+01 -1.19705811e+01  1.40895832e+00\n",
      "  2.33135300e+01  4.53555441e+00  4.29374170e+00  1.20590878e+01\n",
      " -8.60142529e-01  6.05374861e+00  5.33784151e+00  1.71998143e+00\n",
      "  1.53667822e+01  9.46301079e+00  1.56972561e+01  2.29415131e+00\n",
      "  1.20496473e+01 -1.09852486e+01 -6.72033739e+00  9.76177311e+00\n",
      "  8.65345955e+00  1.87303948e+00  3.41626239e+00 -2.38260317e+00\n",
      "  4.96963549e+00 -1.76540852e-01  1.94886456e+01  5.06122351e+00\n",
      "  2.06385098e+01  4.53832817e+00  2.44147944e+00 -1.47023659e+01\n",
      "  5.71554184e+00 -2.23406339e+00 -2.13520432e+00 -6.15339470e+00\n",
      "  3.19875956e+00  2.51839237e+01  3.85452557e+00  5.08942652e+00\n",
      " -5.77099609e+00  1.32520771e+01  3.19660115e+00 -3.54385823e-01\n",
      " -1.10369885e+00  4.08512068e+00  9.47100163e+00  2.06785965e+00\n",
      "  6.53751278e+00 -1.71479547e+00  1.48019686e+01  7.69033283e-03\n",
      "  1.68483865e+00 -8.77764463e-01  2.81383991e+00 -3.19653583e+00\n",
      " -5.61604166e+00  9.13522661e-01  7.02284575e-01  1.38315165e+00\n",
      "  2.25097466e+01  1.47390060e+01  3.18906665e+00  2.23961496e+00\n",
      " -9.44370461e+00  2.13263264e+01  3.63958240e+00  3.49896502e+00\n",
      " -5.30252552e+00  1.23828721e+00  2.96303177e+00  5.11926270e+00\n",
      " -9.03561783e+00  1.39092188e+01 -5.75377274e+00  7.80149460e+00\n",
      "  2.94989624e+01 -3.68860841e+00  4.17494154e+00  3.92518163e+00\n",
      "  1.20051157e+00 -4.82461405e+00  4.32554674e+00  7.27578163e+00\n",
      " -4.45155573e+00 -4.30886173e+00  5.26112700e+00  2.04303989e+01\n",
      " -5.28506041e+00 -7.10205317e-01  1.98285828e+01  3.38666010e+00\n",
      " -3.72211647e+00  1.14077168e+01  4.13250208e+00  5.93368196e+00\n",
      "  6.11931944e+00 -1.16317600e-01  2.65499306e+00 -3.18836808e+00\n",
      "  7.86745834e+00 -6.88121176e+00 -8.06315124e-01  5.19239330e+00\n",
      " -2.32069731e-01  3.59809995e+00 -2.48936653e-01  1.03465986e+01\n",
      "  1.98985844e+01  3.54429603e+00  2.39002686e+01 -2.70137620e+00\n",
      "  3.79284412e-01 -5.92275620e-01  4.13357592e+00 -9.88532543e-01\n",
      "  3.88775039e+00  1.30620279e+01  5.72387218e+00  1.09093084e+01\n",
      "  2.14781075e+01  4.53278013e-02  3.20282698e+00 -4.63796735e-01\n",
      "  1.06658205e-01  1.58450985e+01  4.78620911e+00  4.52861834e+00\n",
      "  5.43209887e+00  4.07633448e+00 -8.94106999e-02  3.95721745e+00\n",
      "  3.42061377e+00  2.22401261e+00  2.06547832e+01  1.05101433e+01\n",
      "  2.32865357e+00  1.40213079e+01  4.35312796e+00  2.47673035e+01\n",
      " -9.49679494e-01  5.22416174e-01  7.03348017e+00  1.04563761e+01\n",
      " -1.22313461e+01 -1.44544518e+00  1.19732075e+01  7.29484940e+00\n",
      "  3.24901161e+01  2.69117031e+01  5.53227663e+00  1.88822021e+01\n",
      "  2.67120380e+01  1.33001270e+01  7.18401480e+00 -2.13900471e+00\n",
      " -7.90955305e+00 -8.59583473e+00 -7.72980309e+00  2.63610020e+01\n",
      " -2.10054064e+00  5.09396935e+00  4.08713913e+01  8.65474129e+00\n",
      "  2.53162265e+00  1.95686913e+01  1.27989950e+01 -7.55103350e-01\n",
      " -2.76432419e+00 -1.49477091e+01  1.48357010e+01  1.62356396e+01\n",
      "  1.36653786e+01  6.38350916e+00  9.31553364e+00  3.51664085e+01\n",
      " -8.07887268e+00  2.28922119e+01 -2.43922729e+01  8.26360035e+00\n",
      "  8.93278408e+00  3.02987881e+01  1.85515099e+01  2.84798088e+01\n",
      "  1.20878305e+01  2.53221264e+01  4.22959042e+00  8.06963444e+00\n",
      "  1.33951712e+01  3.43474159e+01  3.39728394e+01 -2.16136083e-01\n",
      "  9.63647938e+00  7.77902031e+00 -1.18994880e+00  1.55618496e+01\n",
      "  1.78018227e+01  8.55006218e+00  3.45110359e+01  7.91503525e+00\n",
      " -4.39970779e+00  5.16783655e-01  7.87003815e-01 -3.56307173e+00\n",
      "  9.65495586e+00  1.70557957e+01  6.80237722e+00 -8.99685955e+00\n",
      "  1.93772831e+01  8.24093437e+00  6.40266418e+00  2.49192581e+01\n",
      "  1.05378742e+01  3.15873375e+01  3.01009502e+01  4.69984412e-01\n",
      "  3.74986916e+01 -1.47138584e+00  1.22403345e+01  1.70068245e+01\n",
      "  2.61637363e+01  3.06200371e+01 -2.35146008e+01  3.87890320e+01\n",
      "  7.82643986e+00  3.67907381e+00  2.38568306e+01  7.95860365e-02\n",
      "  1.85889530e+01  1.64757462e+01  1.34484208e+00  3.34720492e+00\n",
      "  1.50425911e+01 -1.72792301e+01  1.52829628e+01  5.51846457e+00\n",
      " -1.61466389e+01 -5.30292130e+00 -5.08785295e+00 -1.92018204e+01\n",
      "  2.88217354e+00 -2.28294067e+01 -2.19859004e+00 -7.08562613e+00\n",
      " -7.00616074e+00 -7.65050268e+00 -6.37722683e+00 -5.00448942e+00\n",
      "  3.26960981e-01 -1.20751822e+00 -2.17749271e+01 -2.43096943e+01\n",
      " -4.05605268e+00 -4.95185792e-01 -4.88560104e+00 -5.39175987e+00\n",
      " -5.28442335e+00  1.07777061e+01 -6.57038546e+00 -5.08650064e-01\n",
      "  2.11660957e+00 -7.80725098e+00 -1.39839420e+01  4.51752043e+00\n",
      " -1.13447828e+01 -1.39608660e+01 -5.29733241e-01 -7.61581612e+00\n",
      " -1.72664204e+01  6.06784058e+00  4.09819603e+00 -4.26351738e+00\n",
      " -3.34505010e+00  4.68031979e+00 -6.75682306e+00 -9.88641357e+00\n",
      " -4.64603519e+00 -7.98933744e+00 -4.22651708e-01 -1.05595446e+01\n",
      "  6.97763348e+00 -2.08190536e+01  2.13377595e+00 -5.80711365e+00\n",
      " -1.65080853e+01 -2.43080025e+01 -8.88766575e+00 -7.68131256e+00\n",
      " -4.50680017e+00  2.58434343e+00  2.01577520e+00 -2.66967106e+01\n",
      "  2.14707017e+00 -2.54740181e+01  1.01835620e+00 -2.50374889e+01\n",
      " -2.15505147e+00 -6.27658319e+00 -1.10378428e+01 -6.81574917e+00\n",
      " -7.52696991e+00 -1.54691827e+00 -3.78107786e+00 -7.31589127e+00\n",
      " -4.86745167e+00 -2.29843187e+00 -8.40133190e+00 -7.81130600e+00\n",
      " -1.21916990e+01 -1.56538239e+01  4.02384567e+00 -5.54915571e+00\n",
      " -1.68936145e+00 -3.99542236e+00 -5.26431751e+00 -7.49662280e-01\n",
      "  9.18868065e-01 -1.93648357e+01 -7.61356890e-01 -1.09433527e+01\n",
      " -8.00396824e+00  5.59580624e-01 -3.66873932e+00 -1.07981539e+01\n",
      "  4.51947498e+00  3.13471270e+00 -6.88664675e+00 -1.80830610e+00\n",
      " -2.56928272e+01  3.17903709e+00 -2.07643318e+01  3.30398130e+00\n",
      " -2.88301601e+01 -8.86353302e+00 -1.59334526e+01 -6.40583754e+00\n",
      " -1.85859661e+01 -2.20831203e+00  2.51516795e+00 -4.67706537e+00\n",
      "  2.75030231e+00 -1.84075224e+00 -2.27908611e+00 -1.07677603e+00\n",
      " -1.42472935e+00 -1.64995158e+00  6.18667841e+00 -5.35292196e+00\n",
      " -1.03519182e+01 -7.20030212e+00  5.72038841e+00  2.88570046e+00\n",
      " -6.40365410e+00 -6.02103662e+00 -4.67583418e+00  1.93143349e+01\n",
      "  1.20723867e+00 -1.34033632e+00 -1.23791733e+01 -4.10106754e+00\n",
      "  4.00926924e+00 -3.80546713e+00 -1.03928146e+01 -5.49229717e+00\n",
      "  4.16488409e+00 -2.16279163e+01 -7.48767042e+00 -1.29187574e+01\n",
      " -5.48011637e+00 -4.11095476e+00 -2.25932598e+01 -2.03720368e-02\n",
      " -8.42352486e+00 -9.19008636e+00 -5.94920206e+00  1.13993108e+00\n",
      " -1.25166893e+01 -3.72389942e-01 -6.89734411e+00 -3.26111388e+00\n",
      "  1.44026506e+00  2.53638887e+00  5.56897211e+00 -4.35420752e+00\n",
      " -6.62239456e+00 -1.73690033e+01 -1.61311972e+00 -2.99805975e+00\n",
      " -2.23723483e+00  7.61875153e+00  1.88324237e+00  5.71412706e+00\n",
      "  2.38275242e+00 -2.49600649e+00  1.14693909e+01 -9.39903855e-01\n",
      " -6.50718391e-01 -4.09491825e+00  1.97679013e-01 -2.56174159e+00\n",
      " -3.83402896e+00 -3.86573029e+00 -2.89501953e+00  2.06196345e-02\n",
      " -8.38308620e+00 -1.38100183e+00 -6.42460155e+00  2.05235457e+00\n",
      " -4.53960848e+00  1.83748817e+00 -2.48924046e+01 -9.70881283e-01\n",
      "  3.21629024e+00 -5.59561443e+00 -9.64465809e+00 -3.28969026e+00\n",
      " -4.36556578e+00  3.73580843e-01 -5.08396578e+00  8.91947746e-01\n",
      " -6.94560242e+00  2.13945961e+00  4.10944939e+00 -2.04790020e+01\n",
      " -1.07856455e+01 -2.78093414e+01 -4.24699932e-01 -5.13678741e+00\n",
      " -2.83478737e+00 -2.42253437e+01 -8.32242775e+00 -8.51533508e+00\n",
      " -1.99385185e+01  6.86731577e+00  8.10315609e+00 -2.05871195e-01\n",
      "  1.93888232e-01  6.15671349e+00 -1.18714314e+01  2.13368559e+00\n",
      " -1.80181050e+00 -9.84652042e+00 -9.93274498e+00 -4.95973319e-01\n",
      " -2.30231495e+01 -2.05623455e+01 -1.73450317e+01 -5.10745716e+00\n",
      " -4.23817921e+00  6.02324200e+00 -1.23765106e+01 -1.89505959e+01\n",
      " -3.20580292e+01 -2.64838028e+01 -7.41576767e+00 -3.66555071e+00\n",
      "  4.50672722e+00 -7.14779854e+00 -2.16404495e+01  7.22149324e+00\n",
      " -2.87438297e+01  1.01289499e+00 -2.50465202e+01 -3.38211489e+00\n",
      " -3.86613655e+01 -1.26486368e+01  5.44154549e+00 -4.03221626e+01\n",
      "  2.81916881e+00  2.05869868e-01 -3.86594129e+00 -2.37602882e+01\n",
      " -3.41301250e+00 -2.63773727e+01  7.72454739e+00 -2.81401882e+01\n",
      " -4.48289728e+00 -2.24123740e+00 -3.47175484e+01 -2.51878719e+01\n",
      " -5.19117069e+00 -4.84813809e-01 -8.80515671e+00 -6.73604774e+00\n",
      " -2.10258656e+01  6.03218699e+00 -7.21884394e+00  2.44389939e+00\n",
      " -1.37999783e+01  1.47913555e-02 -9.75861430e-01  1.94619131e+00\n",
      "  1.10039878e+00 -2.36900401e+00 -1.59641228e+01  1.18275976e+00\n",
      " -3.01331496e+00 -1.21176538e+01 -1.72093258e+01 -1.14761429e+01\n",
      "  6.26070309e+00 -8.26791382e+00 -2.63442135e+01  7.43897057e+00\n",
      " -7.40552235e+00 -1.20695400e+01  2.66858220e+00 -1.14840727e+01\n",
      " -1.39138222e+01 -3.75839920e+01 -8.71514606e+00 -2.35819836e+01\n",
      " -1.47310390e+01 -1.70460749e+00 -2.61005330e+00  4.01087332e+00\n",
      " -2.97080650e+01 -1.33808088e+01 -7.11561966e+00 -2.68119164e+01\n",
      " -5.11264153e+01  3.38119984e+00  1.03806639e+00 -2.04315205e+01\n",
      " -1.83584058e+00 -9.36567783e+00 -3.55563698e+01 -3.78575301e+00\n",
      "  1.72493172e+01  6.56660795e+00 -1.21208906e+01 -1.04646034e+01\n",
      " -2.97367249e+01 -2.78235626e+01  6.01491547e+00 -1.07276831e+01\n",
      "  2.01996851e+00  7.35789967e+00 -1.95971699e+01 -6.76700163e+00\n",
      "  5.02283812e-01 -9.27745724e+00 -2.62613525e+01 -2.98738594e+01\n",
      " -8.75438404e+00  6.14929104e+00  3.26509452e+00 -9.64722347e+00\n",
      "  2.01360822e+00 -8.96987629e+00 -2.28897953e+01 -1.49481153e+01\n",
      " -1.20255365e+01 -2.03013396e+00 -2.64113331e+01 -2.68114605e+01\n",
      " -2.04010887e+01 -6.48031354e-01]' has dtype incompatible with int64, please explicitly cast to a compatible dtype first.\n",
      "  preds[val_index] = model.predict(dval_i)\n"
     ]
    },
    {
     "name": "stderr",
     "output_type": "stream",
     "text": [
      "\r",
      "100%|███████████████████████████████████████████████████████████████████████████████████████████████████████████████████████████████████████████████████| 10/10 [03:24<00:00, 20.82s/it]"
     ]
    },
    {
     "name": "stderr",
     "output_type": "stream",
     "text": [
      "\r",
      "100%|███████████████████████████████████████████████████████████████████████████████████████████████████████████████████████████████████████████████████| 10/10 [03:24<00:00, 20.48s/it]"
     ]
    },
    {
     "name": "stdout",
     "output_type": "stream",
     "text": [
      "OOF predictions complete\n"
     ]
    },
    {
     "name": "stderr",
     "output_type": "stream",
     "text": [
      "\n"
     ]
    }
   ],
   "source": [
    "# OOF予測\n",
    "oof_preds = []\n",
    "for i in tqdm(range(repeat_cv), leave=True, dynamic_ncols=True):\n",
    "    # 初期はターゲットの値で初期化（後で上書き）\n",
    "    preds = y.copy()\n",
    "    # 各 repeater 毎に独自の KFold を用いる（random_state = i）\n",
    "    kfold = KFold(n_splits=folds_splits, shuffle=True, random_state=i)    \n",
    "    for train_index, val_index in kfold.split(X, y):\n",
    "        dtrain_i = xgb.DMatrix(X.iloc[train_index], label=y.iloc[train_index])\n",
    "        dval_i   = xgb.DMatrix(X.iloc[val_index], label=y.iloc[val_index])\n",
    "\n",
    "        model = xgb.train(\n",
    "            params=param,\n",
    "            dtrain=dtrain_i,\n",
    "            num_boost_round=iteration_counts[i],\n",
    "            verbose_eval=50\n",
    "        )\n",
    "        preds[val_index] = model.predict(dval_i)\n",
    "    # 予測値を -30 ～ 30 にクリップ\n",
    "    oof_preds.append(np.clip(preds, -30, 30))\n",
    "\n",
    "print(\"OOF predictions complete\")"
   ]
  },
  {
   "cell_type": "code",
   "execution_count": 24,
   "id": "c62b139f",
   "metadata": {
    "execution": {
     "iopub.execute_input": "2025-03-14T09:33:19.274623Z",
     "iopub.status.busy": "2025-03-14T09:33:19.272480Z",
     "iopub.status.idle": "2025-03-14T09:33:19.379604Z",
     "shell.execute_reply": "2025-03-14T09:33:19.379604Z"
    },
    "papermill": {
     "duration": 0.133211,
     "end_time": "2025-03-14T09:33:19.379604",
     "exception": false,
     "start_time": "2025-03-14T09:33:19.246393",
     "status": "completed"
    },
    "tags": []
   },
   "outputs": [
    {
     "data": {
      "text/plain": [
       "<Axes: >"
      ]
     },
     "execution_count": 24,
     "metadata": {},
     "output_type": "execute_result"
    },
    {
     "data": {
      "image/png": "[encoded data removed]",
      "text/plain": [
       "<Figure size 640x480 with 1 Axes>"
      ]
     },
     "metadata": {},
     "output_type": "display_data"
    }
   ],
   "source": [
    "oof_preds[0].hist()"
   ]
  },
  {
   "cell_type": "code",
   "execution_count": 25,
   "id": "efb148d8",
   "metadata": {
    "execution": {
     "iopub.execute_input": "2025-03-14T09:33:19.414592Z",
     "iopub.status.busy": "2025-03-14T09:33:19.413575Z",
     "iopub.status.idle": "2025-03-14T09:33:19.439035Z",
     "shell.execute_reply": "2025-03-14T09:33:19.439035Z"
    },
    "papermill": {
     "duration": 0.048858,
     "end_time": "2025-03-14T09:33:19.439035",
     "exception": false,
     "start_time": "2025-03-14T09:33:19.390177",
     "status": "completed"
    },
    "tags": []
   },
   "outputs": [],
   "source": [
    "### simple spline, seed(1, 16)~(4, 13)は強制的にfiltaring,  \n",
    "### seed値に対応して予測スコアも同じ大小関係なら1or0に変換の3モデル\n",
    "def cal_logloss(pred_vals, y, i):\n",
    "    y_binary = np.where(y > 0, 1, 0)\n",
    "    loss = log_loss(y_binary, pred_vals)\n",
    "    print(f\"logloss of cvsplit {i}: {loss:.4f}\")\n",
    "\n",
    "\n",
    "    results.append(f\"Normal Spline - logloss of cvsplit {i}: {loss:.4f}\")\n",
    "    return loss\n",
    "\n",
    "#simple spline\n",
    "def make_normal_spline(df, y, repeat_cv):\n",
    "    spline_model1 = []\n",
    "    logloss_normal = []\n",
    "    \n",
    "    for i in range(repeat_cv):\n",
    "        dat = list(zip(df[i], np.where(y>0, 1, 0)))\n",
    "        dat = sorted(dat, key=lambda x:x[0])\n",
    "        datdict = {}\n",
    "        for k in range(len(dat)):\n",
    "            datdict[dat[k][0]] = dat[k][1]\n",
    "        \n",
    "        spline_model1.append(UnivariateSpline(list(datdict.keys()), list(datdict.values())))\n",
    "        spline_fit = spline_model1[i](df[i])\n",
    "        \n",
    "        loss = cal_logloss(spline_fit, y, i)    \n",
    "        logloss_normal.append(loss)\n",
    "\n",
    "    plot_df = pd.DataFrame({\n",
    "        \"pred\": df[0],\n",
    "        \"label\": np.where(y>0,1,0),\n",
    "        \"spline\": spline_model1[0](df[0])\n",
    "    })\n",
    "    plot_df[\"pred_int\"] = plot_df[\"pred\"].astype(int)\n",
    "    plot_df = plot_df.groupby('pred_int')[['spline','label']].mean().reset_index()\n",
    "    \n",
    "    plt.figure(figsize=(8, 5))\n",
    "    plt.plot(plot_df.pred_int, plot_df.label, marker='o', linestyle='-', label=\"True Label\")\n",
    "    plt.plot(plot_df.pred_int, plot_df.spline, marker='x', linestyle='--', label=\"Spline Approximation\")\n",
    "    plt.xlabel(\"Predicted Value (Integer)\")\n",
    "    plt.ylabel(\"Mean Value\")\n",
    "    plt.title(\"Normal Spline Fit Comparison\")\n",
    "    plt.legend()\n",
    "    plt.grid(True)\n",
    "    plt.savefig(os.path.join(OUTPUT_PATH, f\"normal_spline_fit_{PREDICT_YEAR}.png\"))\n",
    "    plt.close()\n",
    "    \n",
    "    \n",
    "    # 例として平均loglossもresultsに記録\n",
    "    avg_logloss = np.mean(logloss_normal) \n",
    "    results.append(f\"Average Normal Spline logloss: {avg_logloss:.4f}\" if avg_logloss is not None else \"No logloss computed\")\n",
    "    \n",
    "    return spline_model1\n",
    "            \n",
    "            \n",
    "#seed(1, 16)~(4, 13)は強制的にseed通りの結果にフィルタリング\n",
    "def make_seed1to4_chenge(df, y, repeat_cv):\n",
    "    spline_model2 = []\n",
    "    spline_fits = []\n",
    "    for i in range(repeat_cv):\n",
    "        dat = list(zip(df[i], np.where(y>0, 1, 0)))\n",
    "        dat = sorted(dat, key=lambda x:x[0])\n",
    "        datdict = {}\n",
    "        for k in range(len(dat)):\n",
    "            datdict[dat[k][0]] = dat[k][1]\n",
    "        \n",
    "        spline_model2.append(UnivariateSpline(list(datdict.keys()), list(datdict.values())))\n",
    "        spline_fit = spline_model2[i](df[i]) \n",
    "        \n",
    "        #add\n",
    "        spline_fit[(X.T1_seed==1) & (X.T2_seed==16)] = 1.0\n",
    "        spline_fit[(X.T1_seed==2) & (X.T2_seed==15)] = 0.9\n",
    "        spline_fit[(X.T1_seed==3) & (X.T2_seed==14)] = 0.8\n",
    "        spline_fit[(X.T1_seed==4) & (X.T2_seed==13)] = 0.7\n",
    "        spline_fit[(X.T1_seed==16) & (X.T2_seed==1)] = 0.0\n",
    "        spline_fit[(X.T1_seed==15) & (X.T2_seed==2)] = 0.1\n",
    "        spline_fit[(X.T1_seed==14) & (X.T2_seed==3)] = 0.2\n",
    "        spline_fit[(X.T1_seed==13) & (X.T2_seed==4)] = 0.3\n",
    "\n",
    "    \n",
    "        cal_logloss(spline_fit, y, i)   \n",
    "                \n",
    "        spline_fits.append(spline_fit)\n",
    "        cal_logloss(spline_fit, y, i)   \n",
    "                \n",
    "    \n",
    "    plot_df = pd.DataFrame({\n",
    "        \"pred\": df[0],\n",
    "        \"label\": np.where(y > 0, 1, 0),\n",
    "        \"spline\": spline_fits[0]  # 変更後の値を利用\n",
    "    })\n",
    "    plot_df[\"pred_int\"] = plot_df[\"pred\"].astype(int)\n",
    "    plot_df = plot_df.groupby(\"pred_int\")[[\"spline\", \"label\"]].mean().reset_index()\n",
    "\n",
    "    plt.figure()\n",
    "    plt.plot(plot_df.pred_int, plot_df.label, label=\"label\")\n",
    "    plt.plot(plot_df.pred_int, plot_df.spline, label=\"spline\")\n",
    "    plt.legend()\n",
    "    plt.show()\n",
    "    \n",
    "    return spline_model2\n",
    "    \n",
    "    \n",
    "#完全に値変換するのではなくてseed値に対応して予測スコアも同じ大小関係なら1or0に変換\n",
    "def make_seed1to4_base_on_score(df, y, repeat_cv):\n",
    "    spline_model3 = []\n",
    "    spline_fits = []\n",
    "\n",
    "    for i in range(repeat_cv):\n",
    "        dat = list(zip(df[i], np.where(y>0, 1, 0)))\n",
    "        dat = sorted(dat, key=lambda x:x[0])\n",
    "        datdict = {}\n",
    "        for k in range(len(dat)):\n",
    "            datdict[dat[k][0]] = dat[k][1]\n",
    "        \n",
    "        spline_model3.append(UnivariateSpline(list(datdict.keys()), list(datdict.values())))\n",
    "        spline_fit = spline_model3[i](df[i]) \n",
    "        \n",
    "        #add\n",
    "        spline_fit[(X.T1_seed==1) & (X.T2_seed==16) & (X.T1_Score > X.T2_Score)] = 1.0\n",
    "        spline_fit[(X.T1_seed==2) & (X.T2_seed==15) & (X.T1_Score > X.T2_Score)] = 1.0\n",
    "        spline_fit[(X.T1_seed==3) & (X.T2_seed==14) & (X.T1_Score > X.T2_Score)] = 1.0\n",
    "        spline_fit[(X.T1_seed==4) & (X.T2_seed==13) & (X.T1_Score > X.T2_Score)] = 1.0\n",
    "        spline_fit[(X.T1_seed==16) & (X.T2_seed==1) & (X.T1_Score < X.T2_Score)] = 0.0\n",
    "        spline_fit[(X.T1_seed==15) & (X.T2_seed==2) & (X.T1_Score < X.T2_Score)] = 0.0\n",
    "        spline_fit[(X.T1_seed==14) & (X.T2_seed==3) & (X.T1_Score < X.T2_Score)] = 0.0\n",
    "        spline_fit[(X.T1_seed==13) & (X.T2_seed==4) & (X.T1_Score < X.T2_Score)] = 0.0\n",
    "\n",
    "        spline_fits.append(spline_fit)\n",
    "        cal_logloss(spline_fit, y, i)   \n",
    "    \n",
    "    \n",
    "    plot_df = pd.DataFrame({\n",
    "        \"pred\": df[0],\n",
    "        \"label\": np.where(y > 0, 1, 0),\n",
    "        \"spline\": spline_fits[0]  # 変更後の値を利用\n",
    "    })\n",
    "    plot_df[\"pred_int\"] = plot_df[\"pred\"].astype(int)\n",
    "    plot_df = plot_df.groupby(\"pred_int\")[[\"spline\", \"label\"]].mean().reset_index()\n",
    "\n",
    "    plt.figure()\n",
    "    plt.plot(plot_df.pred_int, plot_df.label, label=\"label\")\n",
    "    plt.plot(plot_df.pred_int, plot_df.spline, label=\"spline\")\n",
    "    plt.legend()\n",
    "    plt.show()\n",
    "    return spline_model3\n",
    "\n",
    "\n",
    "\n",
    "# Platt Scalingを用いた補正曲線生成の関数 (ロジスティック回帰)\n",
    "def make_platt_scaling(df, y, repeat_cv):\n",
    "    platt_models = []\n",
    "    logloss_platt = []\n",
    "    \n",
    "    for i in range(repeat_cv):\n",
    "        X_train = np.array(df[i]).reshape(-1, 1)\n",
    "        y_binary = np.where(y > 0, 1, 0)\n",
    "        \n",
    "        model = LogisticRegression(random_state=42, solver='lbfgs')\n",
    "        model.fit(X_train, y_binary)\n",
    "        platt_models.append(model)\n",
    "        \n",
    "\n",
    "        platt_fit = model.predict_proba(X_train)[:, 1]\n",
    "        loss = cal_logloss(platt_fit, y, i)\n",
    "        logloss_platt.append(loss)\n",
    "    \n",
    "    \n",
    "    ###\n",
    "    plot_df = pd.DataFrame({\n",
    "        \"pred\": df[0],\n",
    "        \"label\": np.where(y > 0, 1, 0),\n",
    "        \"platt\": platt_models[0].predict_proba(np.array(df[0]).reshape(-1, 1))[:, 1]\n",
    "    })\n",
    "    plot_df[\"pred_int\"] = plot_df[\"pred\"].astype(int)\n",
    "    plot_df = plot_df.groupby(\"pred_int\")[[\"platt\", \"label\"]].mean().reset_index()\n",
    "    \n",
    "    plt.figure(figsize=(8, 5))\n",
    "    plt.plot(plot_df.pred_int, plot_df.label, marker='o', linestyle='-', label=\"True Label\")\n",
    "    plt.plot(plot_df.pred_int, plot_df.platt, marker='x', linestyle='--', label=\"Platt Scaling\")\n",
    "    plt.xlabel(\"Predicted Value (Integer)\")\n",
    "    plt.ylabel(\"Mean Value\")\n",
    "    plt.title(\"Platt Scaling Calibration Curve\")\n",
    "    plt.legend()\n",
    "    plt.grid(True)\n",
    "    plt.savefig(os.path.join(OUTPUT_PATH, f\"platt_scaling_fit_{PREDICT_YEAR}.png\"))\n",
    "    plt.close()\n",
    "    \n",
    "    avg_logloss = np.mean(logloss_platt)\n",
    "    results.append(f\"Average Platt Scaling logloss: {avg_logloss:.4f}\" if avg_logloss is not None else \"No logloss computed\")\n",
    "    \n",
    "    return platt_models\n",
    "\n",
    "def make_isotonic_regression(df, y, repeat_cv):\n",
    "    \"\"\" Isotonic Regression を用いた補正曲線生成 \"\"\"\n",
    "    isotonic_models = []\n",
    "    logloss_isotonic = []\n",
    "    \n",
    "    for i in range(repeat_cv):\n",
    "        X_train = np.array(df[i]).reshape(-1, 1)\n",
    "        y_binary = np.where(y > 0, 1, 0)\n",
    "        \n",
    "        model = IsotonicRegression(out_of_bounds=\"clip\")\n",
    "        model.fit(X_train.ravel(), y_binary)\n",
    "        isotonic_models.append(model)\n",
    "        \n",
    "        isotonic_fit = model.predict(X_train.ravel())\n",
    "        loss = cal_logloss(isotonic_fit, y, i)\n",
    "        logloss_isotonic.append(loss)\n",
    "    \n",
    "    plot_df = pd.DataFrame({\n",
    "        \"pred\": df[0],\n",
    "        \"label\": np.where(y > 0, 1, 0),\n",
    "        \"isotonic\": isotonic_models[0].predict(np.array(df[0]).reshape(-1, 1))\n",
    "    })\n",
    "    plot_df[\"pred_int\"] = plot_df[\"pred\"].astype(int)\n",
    "    plot_df = plot_df.groupby(\"pred_int\")[[\"isotonic\", \"label\"]].mean().reset_index()\n",
    "    \n",
    "    plt.figure(figsize=(8, 5))\n",
    "    plt.plot(plot_df.pred_int, plot_df.label, marker='o', linestyle='-', label=\"True Label\")\n",
    "    plt.plot(plot_df.pred_int, plot_df.isotonic, marker='x', linestyle='--', label=\"Isotonic Regression\")\n",
    "    plt.xlabel(\"Predicted Value (Integer)\")\n",
    "    plt.ylabel(\"Mean Value\")\n",
    "    plt.title(\"Isotonic Regression Calibration Curve\")\n",
    "    plt.legend()\n",
    "    plt.grid(True)\n",
    "    plt.savefig(os.path.join(OUTPUT_PATH, f\"isotonic_regression_fit_{PREDICT_YEAR}.png\"))\n",
    "    plt.close()\n",
    "    \n",
    "    avg_logloss = np.mean(logloss_isotonic)\n",
    "    results.append(f\"Average Isotonic Regression logloss: {avg_logloss:.4f}\" if avg_logloss is not None else \"No logloss computed\")\n",
    "    \n",
    "    return isotonic_models\n",
    "\n"
   ]
  },
  {
   "cell_type": "code",
   "execution_count": 26,
   "id": "c5aaf167",
   "metadata": {
    "execution": {
     "iopub.execute_input": "2025-03-14T09:33:19.472325Z",
     "iopub.status.busy": "2025-03-14T09:33:19.472325Z",
     "iopub.status.idle": "2025-03-14T09:33:19.477760Z",
     "shell.execute_reply": "2025-03-14T09:33:19.477760Z"
    },
    "papermill": {
     "duration": 0.035314,
     "end_time": "2025-03-14T09:33:19.478776",
     "exception": false,
     "start_time": "2025-03-14T09:33:19.443462",
     "status": "completed"
    },
    "tags": []
   },
   "outputs": [],
   "source": [
    "# キャリブレーションカーブの描画関数\n",
    "def plot_calibration_curve(y_true, y_pred_proba, method, save_path):\n",
    "    \"\"\" キャリブレーションカーブをプロットし保存 \"\"\"\n",
    "    y_binary = np.where(y_true > 0, 1, 0) \n",
    "    prob_true, prob_pred = calibration_curve(y_binary, y_pred_proba, n_bins=10)\n",
    "    \n",
    "    plt.figure(figsize=(6,6))\n",
    "    plt.plot(prob_pred, prob_true, marker=\"o\", label=f\"{method} Calibration\")\n",
    "    plt.plot([0, 1], [0, 1], linestyle=\"--\", label=\"Perfect Calibration\")\n",
    "    plt.xlabel(\"Predicted Probability\")\n",
    "    plt.ylabel(\"Actual Probability\")\n",
    "    plt.legend()\n",
    "    plt.title(f\"{method} Calibration Curve\")\n",
    "    plt.grid()\n",
    "    plt.savefig(save_path)\n",
    "    plt.close()\n",
    "\n"
   ]
  },
  {
   "cell_type": "code",
   "execution_count": 27,
   "id": "f7f6ab26",
   "metadata": {
    "execution": {
     "iopub.execute_input": "2025-03-14T09:33:19.510559Z",
     "iopub.status.busy": "2025-03-14T09:33:19.509569Z",
     "iopub.status.idle": "2025-03-14T09:33:19.704981Z",
     "shell.execute_reply": "2025-03-14T09:33:19.703990Z"
    },
    "papermill": {
     "duration": 0.211094,
     "end_time": "2025-03-14T09:33:19.704981",
     "exception": false,
     "start_time": "2025-03-14T09:33:19.493887",
     "status": "completed"
    },
    "tags": []
   },
   "outputs": [
    {
     "name": "stdout",
     "output_type": "stream",
     "text": [
      "logloss of cvsplit 0: 0.5084\n",
      "logloss of cvsplit 1: 0.5057\n",
      "logloss of cvsplit 2: 0.5056\n",
      "logloss of cvsplit 3: 0.5032\n",
      "logloss of cvsplit 4: 0.5060\n",
      "logloss of cvsplit 5: 0.5044\n",
      "logloss of cvsplit 6: 0.5058\n",
      "logloss of cvsplit 7: 0.5083\n",
      "logloss of cvsplit 8: 0.5063\n",
      "logloss of cvsplit 9: 0.5042\n"
     ]
    }
   ],
   "source": [
    "# キャリブレーション手法の選択\n",
    "spline = MODEL.spline\n",
    "if spline == \"spline_normal\":\n",
    "    spline_model = make_normal_spline(oof_preds, y, repeat_cv)\n",
    "    calibrated_preds = spline_model[0](oof_preds[0])\n",
    "    plot_calibration_curve(y, calibrated_preds, \"Spline Normal\", os.path.join(OUTPUT_PATH, f\"spline_normal_calibration_{PREDICT_YEAR}.png\"))\n",
    "    \n",
    "elif spline == \"logistic\":\n",
    "    spline_model = make_platt_scaling(oof_preds, y, repeat_cv)\n",
    "    calibrated_preds = spline_model[0].predict_proba(np.array(oof_preds[0]).reshape(-1, 1))[:, 1]\n",
    "    plot_calibration_curve(y, calibrated_preds, \"Platt Scaling\", os.path.join(OUTPUT_PATH, f\"platt_scaling_calibration_{PREDICT_YEAR}.png\"))\n",
    "    \n",
    "elif spline == \"isotonic\":\n",
    "    spline_model = make_isotonic_regression(oof_preds, y, repeat_cv)\n",
    "    calibrated_preds = spline_model[0].predict(np.array(oof_preds[0]).reshape(-1, 1))\n",
    "    plot_calibration_curve(y, calibrated_preds, \"Isotonic Regression\", os.path.join(OUTPUT_PATH, f\"isotonic_regression_calibration_{PREDICT_YEAR}.png\"))"
   ]
  },
  {
   "cell_type": "markdown",
   "id": "722ed93f",
   "metadata": {
    "papermill": {
     "duration": 0.0,
     "end_time": "2025-03-14T09:33:19.719377",
     "exception": false,
     "start_time": "2025-03-14T09:33:19.719377",
     "status": "completed"
    },
    "tags": []
   },
   "source": [
    "# submmit\n",
    "\n",
    "同じfeature engineeringする.\n",
    "\n",
    "個々の扱うも考える。2025は最終提出用の関数を用意する、その他2024以前は過去コンペでの提出形式に合わせる、でも年度によって提出形式が変わるからとりあえず2023でやる"
   ]
  },
  {
   "cell_type": "code",
   "execution_count": 28,
   "id": "506f7e2f",
   "metadata": {
    "execution": {
     "iopub.execute_input": "2025-03-14T09:33:19.792463Z",
     "iopub.status.busy": "2025-03-14T09:33:19.792463Z",
     "iopub.status.idle": "2025-03-14T09:33:19.797619Z",
     "shell.execute_reply": "2025-03-14T09:33:19.797619Z"
    },
    "papermill": {
     "duration": 0.030132,
     "end_time": "2025-03-14T09:33:19.797619",
     "exception": false,
     "start_time": "2025-03-14T09:33:19.767487",
     "status": "completed"
    },
    "tags": []
   },
   "outputs": [
    {
     "data": {
      "text/plain": [
       "'if PREDICT_YEAR==2022:\\n    sub = pd.read_csv(os.path.join(INPUT_PATH, \"SampleSubmission2022M.csv\"))\\n    sub[\\'Season\\'] = sub[\\'ID\\'].apply(lambda x: int(x.split(\\'_\\')[0]))\\n    sub[\"T1_TeamID\"] = sub[\\'ID\\'].apply(lambda x: int(x.split(\\'_\\')[1]))\\n    sub[\"T2_TeamID\"] = sub[\\'ID\\'].apply(lambda x: int(x.split(\\'_\\')[2]))\\n    sub_X, a = process_tourney(sub, mode = \"sub\")\\n    dtest = xgb.DMatrix(sub_X)\\nelif PREDICT_YEAR==2023:\\n    sub = pd.read_csv(os.path.join(INPUT_PATH, \"SampleSubmission2023.csv\"))\\n    sub[\\'Season\\'] = sub[\\'ID\\'].apply(lambda x: int(x.split(\\'_\\')[0]))\\n    sub[\"T1_TeamID\"] = sub[\\'ID\\'].apply(lambda x: int(x.split(\\'_\\')[1]))\\n    sub[\"T2_TeamID\"] = sub[\\'ID\\'].apply(lambda x: int(x.split(\\'_\\')[2]))\\n    sub_X, a = process_tourney(sub, mode = \"sub\")\\n    dtest = xgb.DMatrix(sub_X)\\nelif PREDICT_YEAR==2024:\\n    sub = pd.read_csv(os.path.join(INPUT_PATH, \"SampleSubmission2024.csv\"))\\n    sub[\\'Season\\'] = sub[\\'ID\\'].apply(lambda x: int(x.split(\\'_\\')[0]))\\n    sub[\"T1_TeamID\"] = sub[\\'ID\\'].apply(lambda x: int(x.split(\\'_\\')[1]))\\n    sub[\"T2_TeamID\"] = sub[\\'ID\\'].apply(lambda x: int(x.split(\\'_\\')[2]))\\n    sub_X, a = process_tourney(sub, mode = \"sub\")\\n    dtest = xgb.DMatrix(sub_X)\\nelif PREDICT_YEAR==2025:\\n    sub = pd.read_csv(os.path.join(INPUT_PATH, \"SampleSubmissionStage2.csv\"))\\n    sub[\\'Season\\'] = sub[\\'ID\\'].apply(lambda x: int(x.split(\\'_\\')[0]))\\n    sub[\"T1_TeamID\"] = sub[\\'ID\\'].apply(lambda x: int(x.split(\\'_\\')[1]))\\n    sub[\"T2_TeamID\"] = sub[\\'ID\\'].apply(lambda x: int(x.split(\\'_\\')[2]))   \\n    sub_X, a = process_tourney(sub, mode = \"sub\")\\n    dtest = xgb.DMatrix(sub_X)'"
      ]
     },
     "execution_count": 28,
     "metadata": {},
     "output_type": "execute_result"
    }
   ],
   "source": [
    "\"\"\"if PREDICT_YEAR==2022:\n",
    "    sub = pd.read_csv(os.path.join(INPUT_PATH, \"SampleSubmission2022M.csv\"))\n",
    "    sub['Season'] = sub['ID'].apply(lambda x: int(x.split('_')[0]))\n",
    "    sub[\"T1_TeamID\"] = sub['ID'].apply(lambda x: int(x.split('_')[1]))\n",
    "    sub[\"T2_TeamID\"] = sub['ID'].apply(lambda x: int(x.split('_')[2]))\n",
    "    sub_X, a = process_tourney(sub, mode = \"sub\")\n",
    "    dtest = xgb.DMatrix(sub_X)\n",
    "elif PREDICT_YEAR==2023:\n",
    "    sub = pd.read_csv(os.path.join(INPUT_PATH, \"SampleSubmission2023.csv\"))\n",
    "    sub['Season'] = sub['ID'].apply(lambda x: int(x.split('_')[0]))\n",
    "    sub[\"T1_TeamID\"] = sub['ID'].apply(lambda x: int(x.split('_')[1]))\n",
    "    sub[\"T2_TeamID\"] = sub['ID'].apply(lambda x: int(x.split('_')[2]))\n",
    "    sub_X, a = process_tourney(sub, mode = \"sub\")\n",
    "    dtest = xgb.DMatrix(sub_X)\n",
    "elif PREDICT_YEAR==2024:\n",
    "    sub = pd.read_csv(os.path.join(INPUT_PATH, \"SampleSubmission2024.csv\"))\n",
    "    sub['Season'] = sub['ID'].apply(lambda x: int(x.split('_')[0]))\n",
    "    sub[\"T1_TeamID\"] = sub['ID'].apply(lambda x: int(x.split('_')[1]))\n",
    "    sub[\"T2_TeamID\"] = sub['ID'].apply(lambda x: int(x.split('_')[2]))\n",
    "    sub_X, a = process_tourney(sub, mode = \"sub\")\n",
    "    dtest = xgb.DMatrix(sub_X)\n",
    "elif PREDICT_YEAR==2025:\n",
    "    sub = pd.read_csv(os.path.join(INPUT_PATH, \"SampleSubmissionStage2.csv\"))\n",
    "    sub['Season'] = sub['ID'].apply(lambda x: int(x.split('_')[0]))\n",
    "    sub[\"T1_TeamID\"] = sub['ID'].apply(lambda x: int(x.split('_')[1]))\n",
    "    sub[\"T2_TeamID\"] = sub['ID'].apply(lambda x: int(x.split('_')[2]))   \n",
    "    sub_X, a = process_tourney(sub, mode = \"sub\")\n",
    "    dtest = xgb.DMatrix(sub_X)\"\"\"\n",
    "    "
   ]
  },
  {
   "cell_type": "code",
   "execution_count": 29,
   "id": "49aee3e2",
   "metadata": {
    "execution": {
     "iopub.execute_input": "2025-03-14T09:33:19.832329Z",
     "iopub.status.busy": "2025-03-14T09:33:19.831344Z",
     "iopub.status.idle": "2025-03-14T09:33:19.852476Z",
     "shell.execute_reply": "2025-03-14T09:33:19.852476Z"
    },
    "papermill": {
     "duration": 0.03901,
     "end_time": "2025-03-14T09:33:19.854480",
     "exception": false,
     "start_time": "2025-03-14T09:33:19.815470",
     "status": "completed"
    },
    "tags": []
   },
   "outputs": [
    {
     "name": "stdout",
     "output_type": "stream",
     "text": [
      "no fillna, use nan\n",
      "drop col list: ['T1_TOmean', 'T2_TOmean', 'T1_opponent_POSS_RATEmean', 'T2_opponent_POSS_RATEmean', 'T1_opponent_Astmean', 'T2_opponent_Astmean', 'T1_opponent_FT_RATEmean', 'T2_opponent_FT_RATEmean', 'T1_opponent_Stlmean', 'T2_opponent_Stlmean', 'T1_ORmean', 'T2_ORmean', 'T1_opponent_ORmean', 'T2_opponent_ORmean', 'Season']\n"
     ]
    }
   ],
   "source": [
    "sub = notexist.copy()\n",
    "sub = sub.rename(columns={\"WTeamID\": \"T1_TeamID\", \"LTeamID\": \"T2_TeamID\"})\n",
    "sub = sub[[\"Season\", \"T1_TeamID\", \"T2_TeamID\"]]\n",
    "temp = sub.copy()\n",
    "temp = temp.rename(columns={\"T1_TeamID\": \"T2_TeamID\", \"T2_TeamID\": \"T1_TeamID\"})\n",
    "sub = pd.concat([sub, temp]).reset_index()\n",
    "sub_X, a = process_tourney(sub, mode=\"sub\")\n",
    "sub_X = drop_columns(sub_X, drop_col)\n",
    "dtest = xgb.DMatrix(sub_X)"
   ]
  },
  {
   "cell_type": "code",
   "execution_count": 30,
   "id": "fd4c488b",
   "metadata": {
    "execution": {
     "iopub.execute_input": "2025-03-14T09:33:19.900392Z",
     "iopub.status.busy": "2025-03-14T09:33:19.900392Z",
     "iopub.status.idle": "2025-03-14T09:34:08.397087Z",
     "shell.execute_reply": "2025-03-14T09:34:08.397087Z"
    },
    "papermill": {
     "duration": 48.523427,
     "end_time": "2025-03-14T09:34:08.399091",
     "exception": false,
     "start_time": "2025-03-14T09:33:19.875664",
     "status": "completed"
    },
    "tags": []
   },
   "outputs": [
    {
     "name": "stderr",
     "output_type": "stream",
     "text": [
      "\r",
      "  0%|                                                                                                                                                            | 0/10 [00:00<?, ?it/s]"
     ]
    },
    {
     "name": "stderr",
     "output_type": "stream",
     "text": [
      "\r",
      " 10%|██████████████▊                                                                                                                                     | 1/10 [00:04<00:38,  4.31s/it]"
     ]
    },
    {
     "name": "stderr",
     "output_type": "stream",
     "text": [
      "\r",
      " 20%|█████████████████████████████▌                                                                                                                      | 2/10 [00:08<00:34,  4.27s/it]"
     ]
    },
    {
     "name": "stderr",
     "output_type": "stream",
     "text": [
      "\r",
      " 30%|████████████████████████████████████████████▍                                                                                                       | 3/10 [00:13<00:31,  4.45s/it]"
     ]
    },
    {
     "name": "stderr",
     "output_type": "stream",
     "text": [
      "\r",
      " 40%|███████████████████████████████████████████████████████████▏                                                                                        | 4/10 [00:18<00:28,  4.80s/it]"
     ]
    },
    {
     "name": "stderr",
     "output_type": "stream",
     "text": [
      "\r",
      " 50%|██████████████████████████████████████████████████████████████████████████                                                                          | 5/10 [00:23<00:24,  4.83s/it]"
     ]
    },
    {
     "name": "stderr",
     "output_type": "stream",
     "text": [
      "\r",
      " 60%|████████████████████████████████████████████████████████████████████████████████████████▊                                                           | 6/10 [00:28<00:19,  4.97s/it]"
     ]
    },
    {
     "name": "stderr",
     "output_type": "stream",
     "text": [
      "\r",
      " 70%|███████████████████████████████████████████████████████████████████████████████████████████████████████▌                                            | 7/10 [00:33<00:14,  4.93s/it]"
     ]
    },
    {
     "name": "stderr",
     "output_type": "stream",
     "text": [
      "\r",
      " 80%|██████████████████████████████████████████████████████████████████████████████████████████████████████████████████████▍                             | 8/10 [00:38<00:09,  4.86s/it]"
     ]
    },
    {
     "name": "stderr",
     "output_type": "stream",
     "text": [
      "\r",
      " 90%|█████████████████████████████████████████████████████████████████████████████████████████████████████████████████████████████████████▏              | 9/10 [00:43<00:04,  4.88s/it]"
     ]
    },
    {
     "name": "stderr",
     "output_type": "stream",
     "text": [
      "\r",
      "100%|███████████████████████████████████████████████████████████████████████████████████████████████████████████████████████████████████████████████████| 10/10 [00:48<00:00,  5.02s/it]"
     ]
    },
    {
     "name": "stderr",
     "output_type": "stream",
     "text": [
      "\r",
      "100%|███████████████████████████████████████████████████████████████████████████████████████████████████████████████████████████████████████████████████| 10/10 [00:48<00:00,  4.85s/it]"
     ]
    },
    {
     "name": "stderr",
     "output_type": "stream",
     "text": [
      "\n"
     ]
    }
   ],
   "source": [
    "sub_models = []\n",
    "#sokutionではカスタム関数の指定、早期停止の言及がここではなかった。検討する\n",
    "for i in tqdm(range(repeat_cv), leave=True, dynamic_ncols=True):\n",
    "    sub_models.append(\n",
    "        xgb.train(\n",
    "          params = param,\n",
    "          dtrain = dtrain,\n",
    "          obj=cauchyobj,\n",
    "          num_boost_round = int(iteration_counts[i] * 1.05),\n",
    "          #early_stopping_rounds=early_stopping_rounds, #これ指定してない、指定するのかあと、指定するとしても少し遅くさせるとか\n",
    "          verbose_eval = 50\n",
    "        )\n",
    "    )"
   ]
  },
  {
   "cell_type": "markdown",
   "id": "41ca6a69",
   "metadata": {
    "papermill": {
     "duration": 0.028833,
     "end_time": "2025-03-14T09:34:08.451458",
     "exception": false,
     "start_time": "2025-03-14T09:34:08.422625",
     "status": "completed"
    },
    "tags": []
   },
   "source": [
    "各特徴量の寄与度を算出"
   ]
  },
  {
   "cell_type": "code",
   "execution_count": 31,
   "id": "9ed89bba",
   "metadata": {
    "execution": {
     "iopub.execute_input": "2025-03-14T09:34:08.492826Z",
     "iopub.status.busy": "2025-03-14T09:34:08.492826Z",
     "iopub.status.idle": "2025-03-14T09:34:08.946470Z",
     "shell.execute_reply": "2025-03-14T09:34:08.946470Z"
    },
    "papermill": {
     "duration": 0.466669,
     "end_time": "2025-03-14T09:34:08.946470",
     "exception": false,
     "start_time": "2025-03-14T09:34:08.479801",
     "status": "completed"
    },
    "tags": []
   },
   "outputs": [
    {
     "data": {
      "image/png": "[encoded data removed]",
      "text/plain": [
       "<Figure size 1000x600 with 1 Axes>"
      ]
     },
     "metadata": {},
     "output_type": "display_data"
    }
   ],
   "source": [
    "feature_importances = collections.defaultdict(list)\n",
    "for model in sub_models:\n",
    "    importance = model.get_score(importance_type='gain')\n",
    "    for feat, score in importance.items():\n",
    "        feature_importances[feat].append(score)\n",
    "\n",
    "avg_importance = {feat: sum(scores) / len(scores) for feat, scores in feature_importances.items()}\n",
    "fi_df = pd.DataFrame(list(avg_importance.items()), columns=['Feature', 'Avg_Gain'])\n",
    "fi_df.sort_values(by='Avg_Gain', ascending=False, inplace=True)\n",
    "results.append(\"\")\n",
    "fi_log = \"-----Feature Importance (Average Gain)-----\\n\"\n",
    "for feat, score in fi_df.values:\n",
    "    fi_log += f\"{feat}: {score:.4f}\\n\"\n",
    "results.append(fi_log)\n",
    "results.append(\"\")\n",
    "\n",
    "plt.figure(figsize=(10, 6))\n",
    "plt.bar(fi_df['Feature'], fi_df['Avg_Gain'])\n",
    "plt.xlabel('Feature')\n",
    "plt.ylabel('Average Gain')\n",
    "plt.title('Feature Importance (Average Gain)')\n",
    "plt.xticks(rotation=45)\n",
    "plt.tight_layout() \n",
    "\n",
    "plt.savefig(os.path.join(OUTPUT_PATH, f\"feature_importance_{PREDICT_YEAR}.png\"))\n",
    "plt.show()"
   ]
  },
  {
   "cell_type": "code",
   "execution_count": 32,
   "id": "83b0ce0b",
   "metadata": {
    "execution": {
     "iopub.execute_input": "2025-03-14T09:34:08.985310Z",
     "iopub.status.busy": "2025-03-14T09:34:08.984247Z",
     "iopub.status.idle": "2025-03-14T09:34:09.046646Z",
     "shell.execute_reply": "2025-03-14T09:34:09.046646Z"
    },
    "papermill": {
     "duration": 0.090845,
     "end_time": "2025-03-14T09:34:09.048651",
     "exception": false,
     "start_time": "2025-03-14T09:34:08.957806",
     "status": "completed"
    },
    "tags": []
   },
   "outputs": [
    {
     "name": "stderr",
     "output_type": "stream",
     "text": [
      "\r",
      "  0%|                                                                                                                                                            | 0/10 [00:00<?, ?it/s]"
     ]
    },
    {
     "name": "stderr",
     "output_type": "stream",
     "text": [
      "\r",
      "100%|██████████████████████████████████████████████████████████████████████████████████████████████████████████████████████████████████████████████████| 10/10 [00:00<00:00, 184.59it/s]"
     ]
    },
    {
     "name": "stderr",
     "output_type": "stream",
     "text": [
      "\n"
     ]
    }
   ],
   "source": [
    "sub_preds = []\n",
    "for i in tqdm(range(repeat_cv)):\n",
    "    if spline == \"spline_normal\":\n",
    "        sub_preds.append(np.clip(spline_model[i](np.clip(sub_models[i].predict(dtest), -30, 30)), 0.025, 0.975))\n",
    "    \n",
    "    elif spline == \"logistic\":\n",
    "        X_input = np.clip(sub_models[i].predict(dtest), -30, 30).reshape(-1, 1)\n",
    "        platt_pred = spline_model[i].predict_proba(X_input)[:, 1]\n",
    "        sub_preds.append(np.clip(platt_pred, 0.025, 0.975))\n",
    "\n",
    "    elif spline == \"isotonic\":\n",
    "        X_input = np.clip(sub_models[i].predict(dtest), -30, 30).reshape(-1, 1)\n",
    "        iso_pred = spline_model[i].predict(X_input)  # Isotonic Regression の適用\n",
    "        sub_preds.append(np.clip(iso_pred, 0.025, 0.975))\n",
    "\n",
    "sub[\"Pred\"] = np.mean(np.vstack(sub_preds), axis=0)"
   ]
  },
  {
   "cell_type": "code",
   "execution_count": 33,
   "id": "4d80eddf",
   "metadata": {
    "execution": {
     "iopub.execute_input": "2025-03-14T09:34:09.099154Z",
     "iopub.status.busy": "2025-03-14T09:34:09.097150Z",
     "iopub.status.idle": "2025-03-14T09:34:09.107266Z",
     "shell.execute_reply": "2025-03-14T09:34:09.107266Z"
    },
    "papermill": {
     "duration": 0.035242,
     "end_time": "2025-03-14T09:34:09.109012",
     "exception": false,
     "start_time": "2025-03-14T09:34:09.073770",
     "status": "completed"
    },
    "tags": []
   },
   "outputs": [
    {
     "name": "stdout",
     "output_type": "stream",
     "text": [
      "skip data flip\n"
     ]
    }
   ],
   "source": [
    "# 予測時にテストデータID反転させて予測して平均取る\n",
    "# dtestの用意とsub_predsの算出を同じようにやる\n",
    "# sub[\"Pred\"]を反転させたやつとの平均取ったやつにする\n",
    "TEST_REVERSE = MODEL.test_reverse\n",
    "\n",
    "if TEST_REVERSE:\n",
    "    print(\"----- data flip -----\") \n",
    "    sub_reverse = notexist.copy()\n",
    "    sub_reverse = sub_reverse.rename(columns={\"WTeamID\": \"T2_TeamID\", \"LTeamID\": \"T1_TeamID\"})#reverse!!\n",
    "    temp_reverse = sub_reverse.copy()\n",
    "    temp = temp.rename(columns={\"T1_TeamID\": \"T2_TeamID\", \"T2_TeamID\": \"T1_TeamID\"})\n",
    "    sub_reverse = pd.concat([sub_reverse, temp_reverse]).reset_index()\n",
    "    sub_reverse_X, a = process_tourney(sub_reverse, mode=\"sub\")\n",
    "    sub_reverse_X = drop_columns(sub_reverse_X, drop_col)\n",
    "    dtest_reverse = xgb.DMatrix(sub_reverse_X)\n",
    "    \n",
    "    sub_preds_reverse = []\n",
    "    for i in tqdm(range(repeat_cv)):\n",
    "        if spline == \"spline_normal\":\n",
    "            sub_preds_reverse.append(np.clip(spline_model[i](np.clip(sub_models[i].predict(dtest_reverse), -30, 30)), 0.025, 0.975))\n",
    "        \n",
    "        elif spline == \"logistic\":\n",
    "            X_input = np.clip(sub_models[i].predict(dtest_reverse), -30, 30).reshape(-1, 1)\n",
    "            platt_pred = spline_model[i].predict_proba(X_input)[:, 1]\n",
    "            sub_preds_reverse.append(np.clip(platt_pred, 0.025, 0.975))\n",
    "\n",
    "        elif spline == \"isotonic\":\n",
    "            X_input = np.clip(sub_models[i].predict(dtest_reverse), -30, 30).reshape(-1, 1)\n",
    "            iso_pred = spline_model[i].predict(X_input)  # Isotonic Regression の適用\n",
    "            sub_preds_reverse.append(np.clip(iso_pred, 0.025, 0.975))\n",
    "\n",
    "    sub_reverse[\"Pred\"] = np.mean(np.vstack(sub_preds_reverse), axis=0)\n",
    "    \n",
    " \n",
    "    #sub[\"Pred\"]を (sub[\"Pred\"] + (1-sub_reverse[\"Pred\"]))/2に塗り替える(平均取る)\n",
    "    sub[\"Pred\"] = (sub[\"Pred\"] + (1-sub_reverse[\"Pred\"]))/2\n",
    "\n",
    "\n",
    "else:\n",
    "    print(\"skip data flip\")"
   ]
  },
  {
   "cell_type": "code",
   "execution_count": 34,
   "id": "428d7a9d",
   "metadata": {
    "execution": {
     "iopub.execute_input": "2025-03-14T09:34:09.157647Z",
     "iopub.status.busy": "2025-03-14T09:34:09.157109Z",
     "iopub.status.idle": "2025-03-14T09:34:09.162913Z",
     "shell.execute_reply": "2025-03-14T09:34:09.162913Z"
    },
    "papermill": {
     "duration": 0.027496,
     "end_time": "2025-03-14T09:34:09.162913",
     "exception": false,
     "start_time": "2025-03-14T09:34:09.135417",
     "status": "completed"
    },
    "tags": []
   },
   "outputs": [],
   "source": [
    "# teams:64team, targetを受け取って、そのtarget teamの試合可能性のある全63試合を抽出する関数\n",
    "def extract_target_team_records(submission_df, teams, target_team):\n",
    "    if target_team not in teams:\n",
    "        raise ValueError(f\"target_team {target_team} は teams 内に存在しません\")\n",
    "\n",
    "    remaining_teams = [t for t in teams if t != target_team]\n",
    "    \n",
    "    records = []\n",
    "    for other_team in remaining_teams:\n",
    "        lower = min(target_team, other_team)\n",
    "        higher = max(target_team, other_team)\n",
    "        row = submission_df[(submission_df['T1_TeamID'] == lower) & (submission_df['T2_TeamID'] == higher)]\n",
    "        if row.empty:\n",
    "            print(f\"Warning: 対戦 {lower} vs {higher} に対応するレコードが見つかりませんでした\")\n",
    "        else:\n",
    "            records.append(row)\n",
    "    \n",
    "    if records:\n",
    "        final_records = pd.concat(records, ignore_index=True)\n",
    "    else:\n",
    "        final_records = pd.DataFrame()\n",
    "    \n",
    "    if len(final_records) != 63:\n",
    "        print(f\"Warning: 期待される63件ではなく、{len(final_records)}件のレコードが抽出されました。\")\n",
    "    \n",
    "    return final_records\n"
   ]
  },
  {
   "cell_type": "code",
   "execution_count": 35,
   "id": "d4ce17ab",
   "metadata": {
    "execution": {
     "iopub.execute_input": "2025-03-14T09:34:09.202603Z",
     "iopub.status.busy": "2025-03-14T09:34:09.202603Z",
     "iopub.status.idle": "2025-03-14T09:34:09.208352Z",
     "shell.execute_reply": "2025-03-14T09:34:09.207796Z"
    },
    "papermill": {
     "duration": 0.025924,
     "end_time": "2025-03-14T09:34:09.209497",
     "exception": false,
     "start_time": "2025-03-14T09:34:09.183573",
     "status": "completed"
    },
    "tags": []
   },
   "outputs": [],
   "source": [
    "tourney_teams_2023 = [\n",
    "    1395, 1113,   # TCU1395, アリゾナ・ステイト1113\n",
    "    1231, 1245,   # インディアナ1231, ケント・ステイト1245\n",
    "    1243, 1286,   # カンザス・ステイト1243, モンタナ・ステイト1286\n",
    "    1272, 1194,   # メンフィス1272, ﾌﾛﾘﾀﾞ･ｱﾄﾗﾝﾃｨｯｸ1194\n",
    "    1211, 1213,   # ゴンザガ1211, グランド・キャニオン1213\n",
    "    1274, 1179,   # マイアミ（フロリダ）1274, ドレイク1179\n",
    "    1243, 1286,   # ケンタッキー1243, プロビデンス1286\n",
    "    1345, 1192,   # パデュー1345, ﾌｪｱﾘｰ･ﾃﾞｨｷﾝｿﾝ1192\n",
    "    1163, 1233,   # コネチカット1163, アイオナ1233\n",
    "    1166, 1301,   # クレイトン1166, ﾉｰｽｶﾛﾗｲﾅ･ｽﾃｲﾄ1301\n",
    "    1235, 1338,   # アイオワ・ステイト1235, ピッツバーグ1338\n",
    "    1266, 1436,   # マーケット1266, バーモント1436\n",
    "    1388, 1433,   # ｾﾝﾄﾒｱﾘｰｽﾞ（ｶﾘﾌｫﾙﾆｱ）1388, VCU1433\n",
    "    1124, 1364,   # ベイラー1124, UCサンタバーバラ1364\n",
    "    1462, 1244,   # ザビエル1462, ケネソー・ステイト1244\n",
    "    1277, 1425,   # ミシガン・ステイト1277, USC トロージャンズ1425\n",
    "\n",
    "    1417, 1421,   # UCLA1417, UNC アシュビル1421\n",
    "    1401, 1336,   # テキサス A＆M1401, ﾍﾟﾝｼﾞﾙﾍﾞﾆｱ･ｽﾃｲﾄ1336\n",
    "    1397, 1418,   # テネシー1397, ﾙｲｼﾞｱﾅ･ﾗﾌｧｲｴｯﾄ1418\n",
    "    1222, 1297,   # ヒューストン1222, ノーザンケンタッキー1297\n",
    "    1321, 1129,   # ノースウェスタン1321, ボイシ・ステイト1129\n",
    "    1400, 1159,   # テキサス1400, コルゲート1159\n",
    "    1181, 1331,   # デューク1181, オーラル・ロバーツ1331\n",
    "    1234, 1120,   # アイオワ1234, オーバーン1120\n",
    "    1116, 1228,   # アーカンソー1116, イリノイ1228\n",
    "    1112, 1343,   # アリゾナ1112, プリンストン1343\n",
    "    1361, 1158,   # ｻﾝﾃﾞｴｺﾞ･ｽﾃｲﾄ1361, チャールストン1158\n",
    "    1104, 1394,   # アラバマ1104, テキサス A＆M CC1394\n",
    "    1242, 1224,   # カンザス1242, ハワード1224\n",
    "    1281, 1429,   # ミズーリ1281, ユタ・ステイト1429\n",
    "    1438, 1202,   # バージニア1438, ファーマン1202\n",
    "    1268, 1452    # メリーランド1268, ウェストバージニア1452\n",
    "]\n",
    "\n",
    "#Connecticut_vs = extract_target_team_records(sub, tourney_teams_2023, 1163 )"
   ]
  },
  {
   "cell_type": "code",
   "execution_count": 36,
   "id": "009cbacc",
   "metadata": {
    "execution": {
     "iopub.execute_input": "2025-03-14T09:34:09.241660Z",
     "iopub.status.busy": "2025-03-14T09:34:09.241660Z",
     "iopub.status.idle": "2025-03-14T09:34:09.251052Z",
     "shell.execute_reply": "2025-03-14T09:34:09.251052Z"
    },
    "papermill": {
     "duration": 0.025637,
     "end_time": "2025-03-14T09:34:09.251052",
     "exception": false,
     "start_time": "2025-03-14T09:34:09.225415",
     "status": "completed"
    },
    "tags": []
   },
   "outputs": [],
   "source": [
    "#handlabelingを行う関数\n",
    "def make_handlabeling(df, season, T1, T2, labeling_pred, tourney_teams):\n",
    "    if T1 not in tourney_teams or T2 not in tourney_teams: \n",
    "        print(f\"トーナメント対象チームに属していません\")\n",
    "        return \n",
    "    \n",
    "    if T1>T2: \n",
    "        T1, T2 = T2, T1\n",
    "        print(f\"{T1}, {T2}ID逆だけど大丈夫？？\")\n",
    "    id = f\"{season}_{T1}_{T2}\"\n",
    "\n",
    "    print(f\"before: {df[df['ID']==id]}\")\n",
    "    df.loc[df[\"ID\"] == id, \"Pred\"] = labeling_pred\n",
    "    print(f\"after: {df[df['ID']==id]}\")\n",
    "    \n",
    "    results.append(f\"-----handolabeling-----\")\n",
    "    results.append(f\"before:  {df[df['ID']==id]} -----> after: {df[df['ID']==id]}\")\n",
    "    results.appedn(\"\")\n",
    "    return df"
   ]
  },
  {
   "cell_type": "code",
   "execution_count": 37,
   "id": "ab4a505e",
   "metadata": {
    "execution": {
     "iopub.execute_input": "2025-03-14T09:34:09.289648Z",
     "iopub.status.busy": "2025-03-14T09:34:09.274989Z",
     "iopub.status.idle": "2025-03-14T09:34:09.295241Z",
     "shell.execute_reply": "2025-03-14T09:34:09.295241Z"
    },
    "papermill": {
     "duration": 0.039501,
     "end_time": "2025-03-14T09:34:09.297311",
     "exception": false,
     "start_time": "2025-03-14T09:34:09.257810",
     "status": "completed"
    },
    "tags": []
   },
   "outputs": [],
   "source": [
    "labeling = cfg.exp.hand_labeling\n",
    "if labeling is not None:\n",
    "    for i in range(len(labeling)):\n",
    "        T1 = labeling[i][0]\n",
    "        T2 = labeling[i][1]\n",
    "        labeling_pred = labeling[i][2]\n",
    "        \n",
    "        print(f\"{T1} vs {T2} result labeling {labeling_pred}\")\n",
    "        \n",
    "        sub = make_handlabeling(sub, PREDICT_YEAR, T1, T2, labeling_pred, tourney_teams_2023)"
   ]
  },
  {
   "cell_type": "code",
   "execution_count": 38,
   "id": "576be006",
   "metadata": {
    "execution": {
     "iopub.execute_input": "2025-03-14T09:34:09.326540Z",
     "iopub.status.busy": "2025-03-14T09:34:09.326540Z",
     "iopub.status.idle": "2025-03-14T09:34:09.602306Z",
     "shell.execute_reply": "2025-03-14T09:34:09.602306Z"
    },
    "papermill": {
     "duration": 0.293047,
     "end_time": "2025-03-14T09:34:09.602306",
     "exception": false,
     "start_time": "2025-03-14T09:34:09.309259",
     "status": "completed"
    },
    "tags": []
   },
   "outputs": [
    {
     "name": "stdout",
     "output_type": "stream",
     "text": [
      "Tournament matchups only - Pred Mean: 0.4989217679614812\n"
     ]
    },
    {
     "data": {
      "image/png": "[encoded data removed]",
      "text/plain": [
       "<Figure size 640x480 with 1 Axes>"
      ]
     },
     "metadata": {},
     "output_type": "display_data"
    }
   ],
   "source": [
    "tourney_filtered = notexist[notexist[\"Season\"] == PREDICT_YEAR].copy()\n",
    "a = tourney_filtered.rename(columns={'WTeamID': 'T1_TeamID', 'LTeamID': 'T2_TeamID'})\n",
    "b = tourney_filtered.rename(columns={'WTeamID': 'T2_TeamID', 'LTeamID': 'T1_TeamID'})\n",
    "ab = pd.concat([a, b]).reset_index(drop=True) \n",
    "filtered_sub = sub.merge(ab[['Season', 'T1_TeamID', 'T2_TeamID']], \n",
    "                         on=['Season', 'T1_TeamID', 'T2_TeamID'], \n",
    "                         how='inner')\n",
    "\n",
    "filtered_sub[\"Pred\"].astype(int)\n",
    "pred_mean = filtered_sub[\"Pred\"].mean()\n",
    "print(\"Tournament matchups only - Pred Mean:\", pred_mean)\n",
    "\n",
    "filtered_sub[\"Pred\"].hist(bins=50)\n",
    "results+=[\"\", f\"Tournament matchups only - Pred Mean:, {pred_mean}\", \"\"]\n",
    "plt.figure(figsize=(8, 6))\n",
    "filtered_sub[\"Pred\"].hist(bins=50)\n",
    "plt.title(\"Prediction Histogram\")\n",
    "plt.xlabel(\"Pred\")\n",
    "plt.ylabel(\"Frequency\")\n",
    "plt.grid(True)\n",
    "\n",
    "# 画像として保存\n",
    "plt.savefig(os.path.join(OUTPUT_PATH, f\"Prediction_Histgram_filtered_{PREDICT_YEAR}.png\"))\n",
    "plt.close()"
   ]
  },
  {
   "cell_type": "markdown",
   "id": "27655573",
   "metadata": {
    "papermill": {
     "duration": 0.026776,
     "end_time": "2025-03-14T09:34:09.642342",
     "exception": false,
     "start_time": "2025-03-14T09:34:09.615566",
     "status": "completed"
    },
    "tags": []
   },
   "source": [
    "# スコア算出、まとめ、\n",
    "ここまでで提出ファイル作成。ここからは過去年度のシミュレーションに対してBrier scoreやその他指標の算出"
   ]
  },
  {
   "cell_type": "code",
   "execution_count": 39,
   "id": "455e0054",
   "metadata": {
    "execution": {
     "iopub.execute_input": "2025-03-14T09:34:09.688833Z",
     "iopub.status.busy": "2025-03-14T09:34:09.688833Z",
     "iopub.status.idle": "2025-03-14T09:34:09.863739Z",
     "shell.execute_reply": "2025-03-14T09:34:09.863739Z"
    },
    "papermill": {
     "duration": 0.196493,
     "end_time": "2025-03-14T09:34:09.863739",
     "exception": false,
     "start_time": "2025-03-14T09:34:09.667246",
     "status": "completed"
    },
    "tags": []
   },
   "outputs": [
    {
     "data": {
      "image/png": "[encoded data removed]",
      "text/plain": [
       "<Figure size 640x480 with 1 Axes>"
      ]
     },
     "metadata": {},
     "output_type": "display_data"
    }
   ],
   "source": [
    "sub[\"Pred\"].hist()\n",
    "results+=[\"\", f\"Pred mean: {sub['Pred'].mean()}\", \"\"]\n",
    "\n",
    "plt.figure(figsize=(8, 6))\n",
    "sub[\"Pred\"].hist(bins=50)\n",
    "plt.title(\"Prediction Histogram\")\n",
    "plt.xlabel(\"Pred\")\n",
    "plt.ylabel(\"Frequency\")\n",
    "plt.grid(True)\n",
    "\n",
    "# 画像として保存\n",
    "plt.savefig(os.path.join(OUTPUT_PATH, f\"Prediction_Histgram_{PREDICT_YEAR}.png\"))\n",
    "plt.close()"
   ]
  },
  {
   "cell_type": "markdown",
   "id": "d8787f46",
   "metadata": {
    "papermill": {
     "duration": 0.015927,
     "end_time": "2025-03-14T09:34:09.890232",
     "exception": false,
     "start_time": "2025-03-14T09:34:09.874305",
     "status": "completed"
    },
    "tags": []
   },
   "source": [
    "存在するはずのない予測年度のトーナメント結果をもとに(Pred, label)を取り出し、以下を行う。\n",
    "\n",
    "- 各評価指標の計算\n",
    "- キャリブレーション可視化\n",
    "- AUC可視化"
   ]
  },
  {
   "cell_type": "code",
   "execution_count": 40,
   "id": "a3f60bee",
   "metadata": {
    "execution": {
     "iopub.execute_input": "2025-03-14T09:34:09.943319Z",
     "iopub.status.busy": "2025-03-14T09:34:09.943319Z",
     "iopub.status.idle": "2025-03-14T09:34:09.952170Z",
     "shell.execute_reply": "2025-03-14T09:34:09.952170Z"
    },
    "papermill": {
     "duration": 0.02852,
     "end_time": "2025-03-14T09:34:09.952170",
     "exception": false,
     "start_time": "2025-03-14T09:34:09.923650",
     "status": "completed"
    },
    "tags": []
   },
   "outputs": [],
   "source": [
    "def extract_labels_and_preds(sub, tourney):\n",
    "    \"\"\" 試合データから予測値 (Pred) と正解ラベル (label) を抽出する \"\"\"\n",
    "    label_data = tourney[[\"WTeamID\", \"LTeamID\", \"WScore\", \"LScore\"]]\n",
    "    label_data = label_data.rename(columns={\"WTeamID\": \"T1_TeamID\", \"LTeamID\": \"T2_TeamID\", \"WScore\": \"T1_Score\", \"LScore\": \"T2_Score\"})\n",
    "    temp = label_data.copy()\n",
    "    temp = temp.rename(columns={\"T1_TeamID\": \"T2_TeamID\", \"T2_TeamID\": \"T1_TeamID\", \"T1_Score\": \"T2_Score\", \"T2_Score\": \"T1_Score\"})\n",
    "    label_data = pd.concat([label_data, temp]).reset_index(drop=True)\n",
    "    \n",
    "    label_data = pd.merge(label_data, sub, on=[\"T1_TeamID\", \"T2_TeamID\"], how=\"left\")\n",
    "    label_data[\"label\"] = np.where(label_data[\"T1_Score\"] - label_data[\"T2_Score\"] > 0, 1, 0)\n",
    "    label_data = label_data.dropna(subset=[\"Pred\"])  # 欠損値を削除\n",
    "    \n",
    "    return label_data[[\"label\", \"Pred\"]]\n",
    "\n",
    "def calculate_metrics(label_data):\n",
    "    \"\"\" 各評価指標を計算 \"\"\"\n",
    "    brier_score = round(mean_squared_error(label_data[\"label\"], label_data[\"Pred\"]), 5)  # Brier Score (MSEと同じ)\n",
    "    rmse_score = round(mean_squared_error(label_data[\"label\"], label_data[\"Pred\"], squared=False), 5)  # RMSE\n",
    "    logloss_score = round(log_loss(label_data[\"label\"], label_data[\"Pred\"]), 5)  # Log Loss\n",
    "    mae_score = round(mean_absolute_error(label_data[\"label\"], label_data[\"Pred\"]), 5)  # MAE\n",
    "    \n",
    "    return {\n",
    "        \"Brier Score\": brier_score,\n",
    "        \"RMSE\": rmse_score,\n",
    "        \"Log Loss\": logloss_score,\n",
    "        \"MAE\": mae_score\n",
    "    }\n",
    "\n",
    "def plot_calibration_curve(label_data, n_bins=10):\n",
    "    \"\"\" キャリブレーションカーブをプロット \"\"\"\n",
    "    prob_true, prob_pred = calibration_curve(label_data[\"label\"], label_data[\"Pred\"], n_bins=n_bins)\n",
    "    \n",
    "    plt.figure(figsize=(6,6))\n",
    "    plt.plot(prob_pred, prob_true, marker=\"o\", label=\"Model Calibration\")\n",
    "    plt.plot([0, 1], [0, 1], linestyle=\"--\", label=\"Perfect Calibration\")\n",
    "    plt.xlabel(\"Predicted Probability\")\n",
    "    plt.ylabel(\"Actual Probability\")\n",
    "    plt.legend()\n",
    "    plt.title(\"Calibration Curve\")\n",
    "    plt.show()\n",
    "\n",
    "def calculate_auc_metrics(label_data):\n",
    "    global results\n",
    "    \"\"\" AUC-ROCとAUC-PRを計算 \"\"\"\n",
    "    auc_roc = roc_auc_score(label_data[\"label\"], label_data[\"Pred\"])\n",
    "    auc_pr = average_precision_score(label_data[\"label\"], label_data[\"Pred\"])\n",
    "    \n",
    "    print(f\"AUC-ROC: {auc_roc:.4f}\")\n",
    "    print(f\"AUC-PR: {auc_pr:.4f}\")\n",
    "    results += [\"---- AUC -----\", f\"AUC-ROC: {auc_roc:.4f}\", f\"AUC-PR: {auc_pr:.4f}\"]\n",
    "    "
   ]
  },
  {
   "cell_type": "code",
   "execution_count": 41,
   "id": "76b23ee1",
   "metadata": {
    "execution": {
     "iopub.execute_input": "2025-03-14T09:34:09.992363Z",
     "iopub.status.busy": "2025-03-14T09:34:09.992363Z",
     "iopub.status.idle": "2025-03-14T09:34:10.082073Z",
     "shell.execute_reply": "2025-03-14T09:34:10.082073Z"
    },
    "papermill": {
     "duration": 0.109065,
     "end_time": "2025-03-14T09:34:10.082073",
     "exception": false,
     "start_time": "2025-03-14T09:34:09.973008",
     "status": "completed"
    },
    "tags": []
   },
   "outputs": [
    {
     "name": "stderr",
     "output_type": "stream",
     "text": [
      "C:\\Users\\81809\\anaconda3\\envs\\deep_learning_pytorch\\Lib\\site-packages\\sklearn\\metrics\\_regression.py:492: FutureWarning: 'squared' is deprecated in version 1.4 and will be removed in 1.6. To calculate the root mean squared error, use the function'root_mean_squared_error'.\n",
      "  warnings.warn(\n"
     ]
    },
    {
     "data": {
      "image/png": "[encoded data removed]",
      "text/plain": [
       "<Figure size 600x600 with 1 Axes>"
      ]
     },
     "metadata": {},
     "output_type": "display_data"
    },
    {
     "name": "stdout",
     "output_type": "stream",
     "text": [
      "AUC-ROC: 0.8558\n",
      "AUC-PR: 0.8681\n",
      "MAE: 0.31479\n",
      "\n",
      "---- AUC -----\n",
      "AUC-ROC: 0.8558\n",
      "AUC-PR: 0.8681\n"
     ]
    }
   ],
   "source": [
    "if PREDICT_YEAR == 2022:\n",
    "    notexist_MAN = notexist[notexist[\"WTeamID\"].astype(str).str.startswith(\"1\")]\n",
    "    notexist_WOMAN = notexist[notexist[\"WTeamID\"].astype(str).str.startswith(\"3\")]\n",
    "    label_data = extract_labels_and_preds(sub, notexist) ######\n",
    "else:\n",
    "    label_data = extract_labels_and_preds(sub, notexist)\n",
    "\n",
    "# 評価指標の計算\n",
    "score = calculate_metrics(label_data)\n",
    "results += [\"\",\"-----eval metrics-----\",\n",
    "            f\"Brier Score: {score['Brier Score']}\", \n",
    "            f\"RMSE: {score['RMSE']}\", \n",
    "            f\"Log Loss: {score['Log Loss']}\", \n",
    "            f\"MAE: {score['MAE']}\", \"\"]\n",
    "\n",
    "# キャリブレーションの確認\n",
    "plot_calibration_curve(label_data)\n",
    "\n",
    "# AUCの評価\n",
    "calculate_auc_metrics(label_data)\n",
    "\n",
    "for temp in range(-5, 0):\n",
    "    print(results[temp])"
   ]
  },
  {
   "cell_type": "code",
   "execution_count": 42,
   "id": "bbc75bea",
   "metadata": {
    "execution": {
     "iopub.execute_input": "2025-03-14T09:34:10.127559Z",
     "iopub.status.busy": "2025-03-14T09:34:10.127559Z",
     "iopub.status.idle": "2025-03-14T09:34:10.133796Z",
     "shell.execute_reply": "2025-03-14T09:34:10.133796Z"
    },
    "papermill": {
     "duration": 0.029719,
     "end_time": "2025-03-14T09:34:10.133796",
     "exception": false,
     "start_time": "2025-03-14T09:34:10.104077",
     "status": "completed"
    },
    "tags": []
   },
   "outputs": [
    {
     "data": {
      "text/plain": [
       "'if PREDICT_YEAR!=2025:\\n    predict_year_label =notexist[[\"WTeamID\", \"LTeamID\", \"WScore\", \"LScore\"]].copy()\\n    predict_year_label.loc[:, \"Win\"] = np.where(predict_year_label[\"WScore\"] - predict_year_label[\"LScore\"] > 0, 1, 0)\\n    predict_year_label = predict_year_label[[\"WTeamID\", \"LTeamID\", \"Win\"]]\\n   \\n    predict_year_label.columns = [\"T1_TeamID\", \"T2_TeamID\", \"Win\"]\\n\\n    predict_year_label = pd.merge(predict_year_label, sub, on=[\"T1_TeamID\", \"T2_TeamID\"], how=\"left\")\\n    brier_score = np.mean((predict_year_label[\"Pred\"] - predict_year_label[\"Win\"])**2)\\n\\n    print(\"Brier Score:\", brier_score)\\n    results+=[f\"Brier Score: {brier_score}\", \"\"]\\n    predict_year_label.info()\\n'"
      ]
     },
     "execution_count": 42,
     "metadata": {},
     "output_type": "execute_result"
    }
   ],
   "source": [
    "\"\"\"if PREDICT_YEAR!=2025:\n",
    "    predict_year_label =notexist[[\"WTeamID\", \"LTeamID\", \"WScore\", \"LScore\"]].copy()\n",
    "    predict_year_label.loc[:, \"Win\"] = np.where(predict_year_label[\"WScore\"] - predict_year_label[\"LScore\"] > 0, 1, 0)\n",
    "    predict_year_label = predict_year_label[[\"WTeamID\", \"LTeamID\", \"Win\"]]\n",
    "   \n",
    "    predict_year_label.columns = [\"T1_TeamID\", \"T2_TeamID\", \"Win\"]\n",
    "\n",
    "    predict_year_label = pd.merge(predict_year_label, sub, on=[\"T1_TeamID\", \"T2_TeamID\"], how=\"left\")\n",
    "    brier_score = np.mean((predict_year_label[\"Pred\"] - predict_year_label[\"Win\"])**2)\n",
    "\n",
    "    print(\"Brier Score:\", brier_score)\n",
    "    results+=[f\"Brier Score: {brier_score}\", \"\"]\n",
    "    predict_year_label.info()\n",
    "\"\"\""
   ]
  },
  {
   "cell_type": "code",
   "execution_count": 43,
   "id": "2093328e",
   "metadata": {
    "execution": {
     "iopub.execute_input": "2025-03-14T09:34:10.176437Z",
     "iopub.status.busy": "2025-03-14T09:34:10.176437Z",
     "iopub.status.idle": "2025-03-14T09:34:10.181616Z",
     "shell.execute_reply": "2025-03-14T09:34:10.181616Z"
    },
    "papermill": {
     "duration": 0.026216,
     "end_time": "2025-03-14T09:34:10.181616",
     "exception": false,
     "start_time": "2025-03-14T09:34:10.155400",
     "status": "completed"
    },
    "tags": []
   },
   "outputs": [
    {
     "name": "stdout",
     "output_type": "stream",
     "text": [
      "実行時間： 495.0秒\n"
     ]
    }
   ],
   "source": [
    "END_TIME = time.time()\n",
    "ELAPSED_TIME = END_TIME - START_TIME\n",
    "print(f\"実行時間： {ELAPSED_TIME:.1f}秒\")\n",
    "results.append(f\"実行時間： {ELAPSED_TIME:.1f}秒\")\n",
    "\n",
    "with open(os.path.join(OUTPUT_PATH, \"result.txt\"), \"a\", encoding=\"utf-8\") as f:\n",
    "    for line in results:\n",
    "        f.write(line + \"\\n\")"
   ]
  },
  {
   "cell_type": "code",
   "execution_count": 44,
   "id": "016eef53",
   "metadata": {
    "execution": {
     "iopub.execute_input": "2025-03-14T09:34:10.208547Z",
     "iopub.status.busy": "2025-03-14T09:34:10.208547Z",
     "iopub.status.idle": "2025-03-14T09:34:10.225627Z",
     "shell.execute_reply": "2025-03-14T09:34:10.225627Z"
    },
    "papermill": {
     "duration": 0.033144,
     "end_time": "2025-03-14T09:34:10.225627",
     "exception": false,
     "start_time": "2025-03-14T09:34:10.192483",
     "status": "completed"
    },
    "tags": []
   },
   "outputs": [],
   "source": [
    "logger.remove()"
   ]
  }
 ],
 "metadata": {
  "kernelspec": {
   "display_name": "deep_learning_pytorch",
   "language": "python",
   "name": "python3"
  },
  "language_info": {
   "codemirror_mode": {
    "name": "ipython",
    "version": 3
   },
   "file_extension": ".py",
   "mimetype": "text/x-python",
   "name": "python",
   "nbconvert_exporter": "python",
   "pygments_lexer": "ipython3",
   "version": "3.11.9"
  },
  "papermill": {
   "default_parameters": {},
   "duration": 498.992304,
   "end_time": "2025-03-14T09:34:10.826940",
   "environment_variables": {},
   "exception": null,
   "input_path": "c:\\Users\\81809\\Documents\\ALL_CODE\\kaggle\\March Machine Learning Mania 2025\\notebook\\1stplace_solution_2023.ipynb",
   "output_path": "exp096_20250314_182551.ipynb",
   "parameters": {
    "EXP_NUM": "exp096"
   },
   "start_time": "2025-03-14T09:25:51.834636",
   "version": "2.6.0"
  }
 },
 "nbformat": 4,
 "nbformat_minor": 5
}