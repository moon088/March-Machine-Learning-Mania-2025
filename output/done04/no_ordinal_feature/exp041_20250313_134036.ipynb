{
 "cells": [
  {
   "cell_type": "code",
   "execution_count": 1,
   "id": "cdfdec16",
   "metadata": {
    "execution": {
     "iopub.execute_input": "2025-03-13T04:40:37.818959Z",
     "iopub.status.busy": "2025-03-13T04:40:37.811557Z",
     "iopub.status.idle": "2025-03-13T04:40:37.825645Z",
     "shell.execute_reply": "2025-03-13T04:40:37.825645Z"
    },
    "papermill": {
     "duration": 0.017594,
     "end_time": "2025-03-13T04:40:37.828054",
     "exception": false,
     "start_time": "2025-03-13T04:40:37.810460",
     "status": "completed"
    },
    "tags": [
     "parameters"
    ]
   },
   "outputs": [],
   "source": [
    "# Parameters\n",
    "EXP_NUM = \"default\""
   ]
  },
  {
   "cell_type": "code",
   "execution_count": 2,
   "id": "b1b11f7b",
   "metadata": {
    "execution": {
     "iopub.execute_input": "2025-03-13T04:40:37.829903Z",
     "iopub.status.busy": "2025-03-13T04:40:37.829903Z",
     "iopub.status.idle": "2025-03-13T04:40:37.847116Z",
     "shell.execute_reply": "2025-03-13T04:40:37.845270Z"
    },
    "papermill": {
     "duration": 0.019213,
     "end_time": "2025-03-13T04:40:37.849116",
     "exception": false,
     "start_time": "2025-03-13T04:40:37.829903",
     "status": "completed"
    },
    "tags": [
     "injected-parameters"
    ]
   },
   "outputs": [],
   "source": [
    "# Parameters\n",
    "EXP_NUM = \"exp041\"\n"
   ]
  },
  {
   "cell_type": "markdown",
   "id": "8dbe7196",
   "metadata": {
    "papermill": {
     "duration": 0.012277,
     "end_time": "2025-03-13T04:40:37.863392",
     "exception": false,
     "start_time": "2025-03-13T04:40:37.851115",
     "status": "completed"
    },
    "tags": []
   },
   "source": [
    "# 2023 1st place solution\n",
    "[kaggle notebook](https://www.kaggle.com/code/rustyb/paris-madness-2023#Load-the-data!)"
   ]
  },
  {
   "cell_type": "markdown",
   "id": "db6eaef2",
   "metadata": {
    "papermill": {
     "duration": 0.015351,
     "end_time": "2025-03-13T04:40:37.881582",
     "exception": false,
     "start_time": "2025-03-13T04:40:37.866231",
     "status": "completed"
    },
    "tags": []
   },
   "source": [
    "# コードの流れ\n",
    "1. hydraからハイパラ取得し、パスなどを設定\n",
    "\n",
    "    regular&tourney Detaile Result, Seedを使用し、tourneyを目的変数としてモデルを予測していく\n",
    "\n",
    "    regular_data->season_statistics->\n",
    "\n",
    "    以下の前処理をする\n",
    "\n",
    "2. データ２倍にかさまし\n",
    "3. regularに対して特徴量の追加\n",
    "    各チームごとに加えるもの\n",
    "   - EFFG: フィールドゴール成功率\n",
    "   - EFFG3: フィールドゴール3p成功率\n",
    "   - DARE: フィールドゴールにおける3P率\n",
    "   - \"win\"を目的変数とする(Team, Season)のロジスティック回帰した各係数\n",
    "    対戦カードごとに加える特徴量\n",
    "    - PointDiff: ポイント差\n",
    "    - win: 1 if PointDiff>0 else 0\n",
    "4. (Team, Season)ごとに特徴量season_statixtics追加\n",
    "    - win_ratio_14d\n",
    "    - box score mean\n",
    "    - quality\n",
    "    - seed\n",
    "5. season_average.enabled=trueなら直近３シーズンの加重平均の処理加える\n",
    "6. tourneyをteamID, Season, score(y)のみ取り出してこれに対してseason_statisticsの結合と特徴量微調整\n",
    "   - seed->seeddiff\n",
    "   - fillna()\n",
    "\n",
    "7. モデル構築\n",
    "8. KFOLD->OOF予測->spline曲線求めてlogloss算出\n",
    "    - KFOLDによる交差検証（CV）\n",
    "        repeat_cv 回のループで、各反復ごとにKFold（folds_splits個）によりデータを分割し、XGBoostのCVを実行しています。\n",
    "        各foldでの結果（例えば、訓練MAE、検証MAEの平均値や標準偏差）がcv_resultとして得られ、それをxgb_cvリストに格納します。\n",
    "        この段階で重要なのは、各反復での検証用MAEの平均値 (test-mae-mean) の最小値と、そのときのブーストラウンド数です。\n",
    "        それらは後で、最適なイテレーション数 (iteration_counts) として計算され、val_mae にも格納されます。\n",
    "    - OOF予測の流れ\n",
    "\n",
    "        各反復ごとに、新たなKFoldを用いてデータを分割。\n",
    "        各foldごとに、学習データでモデルを訓練し、検証データに対して予測を実施。\n",
    "        すべてのfold分の予測結果を1つの予測配列にまとめ、最後に -30～30 の範囲にクリップしています。\n",
    "        重要な結果\n",
    "\n",
    "        OOF予測結果（oof_preds）自体は後段で別途評価指標に使用できるほか、各反復ごとの予測精度や誤差を算出する際の基礎データ\n",
    "9.  提出フェーズ\n",
    "    - 最適paramで全データ使って訓練\n",
    "    - 提出試合の予測"
   ]
  },
  {
   "cell_type": "markdown",
   "id": "23cf3eba",
   "metadata": {
    "papermill": {
     "duration": 0.012015,
     "end_time": "2025-03-13T04:40:37.895294",
     "exception": false,
     "start_time": "2025-03-13T04:40:37.883279",
     "status": "completed"
    },
    "tags": []
   },
   "source": [
    "memo\n",
    "\n",
    "欠損値が発生していいのか検討して保管について考える\n",
    "seedがかけているのはregularに対してseedを与えているから大丈夫。最終的なtourneyには欠損０で追加できているから問題ない"
   ]
  },
  {
   "cell_type": "code",
   "execution_count": 3,
   "id": "6a65530b",
   "metadata": {
    "execution": {
     "iopub.execute_input": "2025-03-13T04:40:37.910694Z",
     "iopub.status.busy": "2025-03-13T04:40:37.910694Z",
     "iopub.status.idle": "2025-03-13T04:40:40.210138Z",
     "shell.execute_reply": "2025-03-13T04:40:40.210138Z"
    },
    "papermill": {
     "duration": 2.314844,
     "end_time": "2025-03-13T04:40:40.210138",
     "exception": false,
     "start_time": "2025-03-13T04:40:37.895294",
     "status": "completed"
    },
    "tags": []
   },
   "outputs": [
    {
     "name": "stderr",
     "output_type": "stream",
     "text": [
      "C:\\Users\\81809\\anaconda3\\envs\\deep_learning_pytorch\\Lib\\site-packages\\tqdm\\auto.py:21: TqdmWarning: IProgress not found. Please update jupyter and ipywidgets. See https://ipywidgets.readthedocs.io/en/stable/user_install.html\n",
      "  from .autonotebook import tqdm as notebook_tqdm\n"
     ]
    },
    {
     "name": "stdout",
     "output_type": "stream",
     "text": [
      "exp041\n",
      "Omega conf is below\n",
      "dir:\n",
      "  input_dir: ../input\n",
      "  output_dir: ../output\n",
      "  src_path: ../src\n",
      "  conf_path: ../conf\n",
      "exp:\n",
      "  name: no_ordinal_feature\n",
      "  print_name: base & no rank diff feature\n",
      "  tournament:\n",
      "    use_start_season: 1985\n",
      "    target_season: 2019\n",
      "  features:\n",
      "    cal_mean_boxscore:\n",
      "      T1_Score: true\n",
      "      T2_Score: true\n",
      "      PointDiff: true\n",
      "      T1_FGM: true\n",
      "      T2_FGM: true\n",
      "      T1_FGA: true\n",
      "      T2_FGA: true\n",
      "      T1_FGM3: true\n",
      "      T2_FGM3: true\n",
      "      T1_FGA3: true\n",
      "      T2_FGA3: true\n",
      "      T1_FTM: true\n",
      "      T2_FTM: true\n",
      "      T1_FTA: true\n",
      "      T2_FTA: true\n",
      "      T1_EFFG: false\n",
      "      T2_EFFG: false\n",
      "      T1_EFFG3: false\n",
      "      T2_EFFG3: false\n",
      "      T1_EFG_SUM: true\n",
      "      T2_EFG_SUM: true\n",
      "      T1_TO_RATIO: true\n",
      "      T2_TO_RATIO: true\n",
      "      T1_OR: true\n",
      "      T2_OR: true\n",
      "      T1_DR: true\n",
      "      T2_DR: true\n",
      "      T1_REB_RATE: true\n",
      "      T2_REB_RATE: true\n",
      "      T1_FT_RATE: true\n",
      "      T2_FT_RATE: true\n",
      "      T1_RATING: false\n",
      "      T2_RATING: false\n",
      "      T1_POSS_RATE: true\n",
      "      T2_POSS_RATE: true\n",
      "      T1_Ast: true\n",
      "      T2_Ast: true\n",
      "      T1_TO: true\n",
      "      T2_TO: true\n",
      "      T1_Stl: true\n",
      "      T2_Stl: true\n",
      "      T1_Blk: true\n",
      "      T2_Blk: true\n",
      "      T1_PF: true\n",
      "      T2_PF: true\n",
      "      T1_DARE: false\n",
      "      T2_DARE: false\n",
      "      T1_TOQUETOQUE: false\n",
      "      T2_TOQUETOQUE: false\n",
      "    rank_diff: false\n",
      "    start_quality_season: 2003\n",
      "    season_average:\n",
      "      enabled: false\n",
      "      past_years: 3\n",
      "      weights:\n",
      "      - 1\n",
      "      - 2\n",
      "      - 3\n",
      "    fillna:\n",
      "      quality: 'nan'\n",
      "  model:\n",
      "    repeat_cv: 10\n",
      "    optuna_enabled: false\n",
      "    xgb_model:\n",
      "      param:\n",
      "        eval_metric: rmse\n",
      "        booster: gbtree\n",
      "        eta: 0.02\n",
      "        subsample: 0.35\n",
      "        colsample_bytree: 0.7\n",
      "        num_parallel_tree: 10\n",
      "        min_child_weight: 40\n",
      "        gamma: 10\n",
      "        max_depth: 3\n",
      "      obj: cauchyoj\n",
      "      num_boost_round: 3000\n",
      "      folds_splits: 5\n",
      "      early_stopping_rounds: 25\n",
      "      optuna:\n",
      "        max_depth:\n",
      "        - 3\n",
      "        - 7\n",
      "        eta:\n",
      "        - 0.001\n",
      "        - 0.03\n",
      "        subsample:\n",
      "        - 0.2\n",
      "        - 0.5\n",
      "        colsample_bytree:\n",
      "        - 0.5\n",
      "        - 1.0\n",
      "        num_parallel_tree:\n",
      "        - 7\n",
      "        - 12\n",
      "        min_child_weight:\n",
      "        - 30\n",
      "        - 50\n",
      "        reg_alpha:\n",
      "        - 0.0\n",
      "        - 1.0\n",
      "        reg_lambda:\n",
      "        - 0.0\n",
      "        - 1.0\n",
      "        gamma:\n",
      "        - 0\n",
      "        - 10\n",
      "        n_trials: 1000\n",
      "        timeout: 28800\n",
      "        n_jobs: -1\n",
      "        n_warmup_steps: 3\n",
      "    spline: logistic\n",
      "  hand_labeling: null\n",
      "\n"
     ]
    }
   ],
   "source": [
    "\n",
    "import os\n",
    "import sys\n",
    "from pathlib import Path\n",
    "import collections\n",
    "from datetime import datetime\n",
    "import shutil\n",
    "import yaml\n",
    "from tqdm import tqdm\n",
    "import time\n",
    "import optuna\n",
    "from loguru import logger\n",
    "import collections\n",
    "\n",
    "from hydra import initialize, initialize_config_module, initialize_config_dir, compose\n",
    "from omegaconf import OmegaConf\n",
    "\n",
    "import numpy as np\n",
    "import pandas as pd\n",
    "import matplotlib.pyplot as plt\n",
    "import seaborn as sns\n",
    "from scipy.interpolate import UnivariateSpline\n",
    "\n",
    "import xgboost as xgb\n",
    "from xgboost import XGBRegressor\n",
    "from sklearn.model_selection import KFold\n",
    "from sklearn.calibration import calibration_curve\n",
    "from sklearn.metrics import log_loss,mean_squared_error, mean_absolute_error, roc_auc_score, average_precision_score\n",
    "from sklearn.metrics import make_scorer\n",
    "from sklearn.model_selection import cross_val_score, KFold\n",
    "from sklearn.linear_model import LogisticRegression\n",
    "from sklearn.preprocessing import OneHotEncoder\n",
    "from sklearn.isotonic import IsotonicRegression\n",
    "\n",
    "import statsmodels.api as sm\n",
    "\n",
    "START_TIME = time.time()\n",
    "\n",
    "\n",
    "#####\n",
    "#EXP_NUM = \"test\"\n",
    "#####\n",
    "print(EXP_NUM)\n",
    "\n",
    "# hydraの初期設定と指定ハイパラの取得\n",
    "sys.path.append(os.path.abspath(\"/workspace\"))\n",
    "sys.path.append(\"C:\\\\Users\\\\81809\\\\Documents\\\\ALL_CODE\\\\kaggle\\\\March Machine Learning Mania 2025\")\n",
    "with initialize_config_module(version_base=None, config_module=\"conf\"):\n",
    "    cfg = compose(\n",
    "        config_name=\"base.yaml\",\n",
    "        overrides=[\n",
    "            f\"+exp={EXP_NUM}\" #defaultexp001->exp002のオーバーライド\n",
    "        ],\n",
    "    )\n",
    "    \n",
    "    OmegaConf.resolve(cfg)\n",
    "    print(\"Omega conf is below\")\n",
    "    print(OmegaConf.to_yaml(cfg))\n"
   ]
  },
  {
   "cell_type": "code",
   "execution_count": 4,
   "id": "c892ea0a",
   "metadata": {
    "execution": {
     "iopub.execute_input": "2025-03-13T04:40:40.223904Z",
     "iopub.status.busy": "2025-03-13T04:40:40.223904Z",
     "iopub.status.idle": "2025-03-13T04:40:40.241864Z",
     "shell.execute_reply": "2025-03-13T04:40:40.241864Z"
    },
    "papermill": {
     "duration": 0.031726,
     "end_time": "2025-03-13T04:40:40.241864",
     "exception": false,
     "start_time": "2025-03-13T04:40:40.210138",
     "status": "completed"
    },
    "tags": []
   },
   "outputs": [
    {
     "name": "stdout",
     "output_type": "stream",
     "text": [
      "########\n",
      "output dir name: no_ordinal_feature\n",
      "Run on 2025-03-13 13:40:40.227193\n",
      "base & no rank diff feature\n",
      "########\n"
     ]
    }
   ],
   "source": [
    "PREDICT_YEAR = cfg.exp.tournament.target_season\n",
    "name = f\"{cfg.exp.name}\"\n",
    "now = str(datetime.now())\n",
    "print(\"########\")\n",
    "print(f\"output dir name: {name}\")\n",
    "print(f\"Run on {now}\")\n",
    "print(cfg.exp.print_name)\n",
    "print(\"########\")\n",
    "\n",
    "BASE_DIR = os.path.abspath(os.path.join(os.getcwd(), \"..\"))\n",
    "CONF_PATH = os.path.join(BASE_DIR, \"conf\")\n",
    "INPUT_PATH = os.path.join(BASE_DIR, \"input\")\n",
    "EXP_PATH = os.path.join(CONF_PATH, \"exp\", f\"{EXP_NUM}.yaml\")\n",
    "OUTPUT_PATH = os.path.join(BASE_DIR, \"output\", name)\n",
    "SRC_PATH = cfg.dir.src_path\n",
    "sys.path.append(SRC_PATH)\n",
    "\n",
    "os.makedirs(OUTPUT_PATH, exist_ok=True)  \n",
    "with open(EXP_PATH, \"r\", encoding=\"utf-8\") as f:\n",
    "    config = yaml.safe_load(f)\n",
    "shutil.copyfile(EXP_PATH, os.path.join(OUTPUT_PATH, f\"{EXP_NUM}.yaml\"))\n",
    "\n",
    "\n",
    "y_season = cfg.exp.tournament.target_season\n",
    "FEATURES = cfg.exp.features\n",
    "MODEL = cfg.exp.model\n",
    "results = [\"\", f\"-----{PREDICT_YEAR}-----\", now ,name, cfg.exp.print_name,\"\"]"
   ]
  },
  {
   "cell_type": "code",
   "execution_count": 5,
   "id": "8da4d750",
   "metadata": {
    "execution": {
     "iopub.execute_input": "2025-03-13T04:40:40.247129Z",
     "iopub.status.busy": "2025-03-13T04:40:40.247129Z",
     "iopub.status.idle": "2025-03-13T04:40:41.735876Z",
     "shell.execute_reply": "2025-03-13T04:40:41.735876Z"
    },
    "papermill": {
     "duration": 1.488747,
     "end_time": "2025-03-13T04:40:41.735876",
     "exception": false,
     "start_time": "2025-03-13T04:40:40.247129",
     "status": "completed"
    },
    "tags": []
   },
   "outputs": [],
   "source": [
    "tourney_results = pd.concat([\n",
    "    pd.read_csv(os.path.join(INPUT_PATH,\"MNCAATourneyDetailedResults.csv\")),\n",
    "    pd.read_csv(os.path.join(INPUT_PATH,\"WNCAATourneyDetailedResults.csv\")),\n",
    "], ignore_index=True)\n",
    "\n",
    "seeds = pd.concat([\n",
    "    pd.read_csv(os.path.join(INPUT_PATH,\"MNCAATourneySeeds.csv\")),\n",
    "    pd.read_csv(os.path.join(INPUT_PATH,\"WNCAATourneySeeds.csv\")),\n",
    "], ignore_index=True)\n",
    "\n",
    "regular_results = pd.concat([\n",
    "    pd.read_csv(os.path.join(INPUT_PATH, \"MRegularSeasonDetailedResults.csv\")),\n",
    "    pd.read_csv(os.path.join(INPUT_PATH,\"WRegularSeasonDetailedResults.csv\")),\n",
    "], ignore_index=True)\n",
    "\n",
    "ordinal_rank = pd.read_csv(os.path.join(INPUT_PATH, \"MMasseyOrdinals.csv\"))\n",
    "\n",
    "# 1試合情報からWin,Lose反転させてデータ数２倍にかさまし and WLoc -> location(0 or -1 or 1)\n",
    "def prepare_data(df1):\n",
    "    df = df1.copy()\n",
    "    ### add new box score\n",
    "    #type1: normal EFG\n",
    "    df['WEFFG'] = df['WFGM'] / df['WFGA']\n",
    "    df['LEFFG'] = df['LFGM'] / df['LFGA']\n",
    "    #type2: 1stfeature EFG\n",
    "    df['WEFFG3'] = np.where(df['WFGA3'] == 0, 0, df['WFGM3'] / df['WFGA3'])\n",
    "    df['LEFFG3'] = np.where(df['LFGA3'] == 0, 0, df['LFGM3'] / df['LFGA3'])\n",
    "    df['WDARE'] = df['WFGM3'] / df['WFGM']\n",
    "    df['LDARE'] = df['LFGM3'] / df['LFGM']\n",
    "    df['WTOQUETOQUE'] = df['WAst'] / df['WFGM']\n",
    "    df['LTOQUETOQUE'] = df['LAst'] / df['LFGM']\n",
    "    #type3: OFF/DEF FGE\n",
    "    df[\"WEFG_SUM\"] = (df[\"WFGM\"]+0.5*df[\"WFGM3\"])/df[\"WFGA\"]\n",
    "    df[\"LEFG_SUM\"] = (df[\"LFGM\"]+0.5*df[\"LFGM3\"])/df[\"LFGA\"]\n",
    "\n",
    "    #POSS RATE\n",
    "    df[\"WPOSS\"] = df[\"WFGA\"] + 0.44*df[\"WFTA\"] - df[\"WOR\"] + df[\"WTO\"]\n",
    "    df[\"LPOSS\"] = df[\"LFGA\"] + 0.44*df[\"LFTA\"] - df[\"LOR\"] + df[\"LTO\"]\n",
    "    df[\"WPOSS_RATE\"] = df[\"WPOSS\"]/(df[\"WPOSS\"]+df[\"LPOSS\"])\n",
    "    df[\"LPOSS_RATE\"] = df[\"LPOSS\"]/(df[\"WPOSS\"]+df[\"LPOSS\"])\n",
    "    \n",
    "    #TO Ratio \n",
    "    df[\"WTO_RATIO\"] = df[\"WTO\"]/(df[\"WFGA\"]+0.44*df[\"WFTA\"]+df[\"WTO\"])#POSS RATEと違ってOR入っていない\n",
    "    df[\"LTO_RATIO\"] = df[\"LTO\"]/(df[\"LFGA\"]+0.44*df[\"LFTA\"]+df[\"LTO\"])\n",
    "    \n",
    "    # REB%\n",
    "    df[\"WREB_RATE\"] = df[\"WOR\"]/(df[\"WOR\"]+df[\"LDR\"])\n",
    "    df[\"LREB_RATE\"] = df[\"LOR\"]/(df[\"LOR\"]+df[\"WDR\"])\n",
    "    \n",
    "    #FT %\n",
    "    df[\"WFT_RATE\"] = df[\"WFTA\"]/df[\"WFGA\"]\n",
    "    df[\"LFT_RATE\"] = df[\"LFTA\"]/df[\"LFGA\"]\n",
    "    \n",
    "    #rating\n",
    "    df[\"WRATING\"] = df[\"WScore\"]/df[\"WPOSS\"]\n",
    "    df[\"LRATING\"] = df[\"LScore\"]/df[\"LPOSS\"]\n",
    "        \n",
    "    #0除算補完\n",
    "    print(df.info())\n",
    "        \n",
    "    #かさましに伴う反転カラム\n",
    "    dfswap = df.copy()\n",
    "    # Home, Away変換して反転\n",
    "    dfswap.loc[df['WLoc'] == 'H', 'WLoc'] = 'A'\n",
    "    dfswap.loc[df['WLoc'] == 'A', 'WLoc'] = 'H'\n",
    "    df.columns.values[6] = 'location'\n",
    "    dfswap.columns.values[6] = 'location'    \n",
    "    #反転\n",
    "    df.columns = [x.replace('W','T1_').replace('L','T2_') for x in list(df.columns)]\n",
    "    dfswap.columns = [x.replace('L','T1_').replace('W','T2_') for x in list(dfswap.columns)]\n",
    "    output = pd.concat([df, dfswap]).reset_index(drop=True)\n",
    "    \n",
    "    \n",
    "    #add new feature\n",
    "    #locationを数値に変換\n",
    "    output.loc[output.location=='N','location'] = '0'\n",
    "    output.loc[output.location=='H','location'] = '1'\n",
    "    output.loc[output.location=='A','location'] = '-1'\n",
    "    output.location = output.location.astype(int)\n",
    "    \n",
    "    #add PointDiff&win\n",
    "    output['PointDiff'] = output['T1_Score'] - output['T2_Score']\n",
    "    output[\"win\"] = np.where(output['PointDiff']>0,1,0)\n",
    "    \n",
    "    \n",
    "    print(f\"feature cols after prepare()\")\n",
    "    print(output.columns)\n",
    "    return output\n",
    "\n"
   ]
  },
  {
   "cell_type": "code",
   "execution_count": 6,
   "id": "93615bd9",
   "metadata": {
    "execution": {
     "iopub.execute_input": "2025-03-13T04:40:41.744428Z",
     "iopub.status.busy": "2025-03-13T04:40:41.744428Z",
     "iopub.status.idle": "2025-03-13T04:40:41.813036Z",
     "shell.execute_reply": "2025-03-13T04:40:41.813036Z"
    },
    "papermill": {
     "duration": 0.069622,
     "end_time": "2025-03-13T04:40:41.814050",
     "exception": false,
     "start_time": "2025-03-13T04:40:41.744428",
     "status": "completed"
    },
    "tags": []
   },
   "outputs": [
    {
     "name": "stdout",
     "output_type": "stream",
     "text": [
      "各カラムの異常値の個数を表示します。\n",
      "\n"
     ]
    }
   ],
   "source": [
    "import numpy as np\n",
    "\n",
    "# 異常値のチェック\n",
    "def check_abnormal_values(df):\n",
    "    print(\"各カラムの異常値の個数を表示します。\\n\")\n",
    "\n",
    "    for col in df.columns:\n",
    "        nan_count = df[col].isna().sum()  # NaN の数\n",
    "        inf_count = (df[col] == np.inf).sum()  # inf の数\n",
    "        neg_inf_count = (df[col] == -np.inf).sum()  # -inf の数\n",
    "\n",
    "        if nan_count > 0 or inf_count > 0 or neg_inf_count > 0:\n",
    "            print(f\"Column: {col}\")\n",
    "            print(f\"  NaN    : {nan_count}\")\n",
    "            print(f\"  Inf    : {inf_count}\")\n",
    "            print(f\"  -Inf   : {neg_inf_count}\")\n",
    "            print(\"-\" * 30)\n",
    "\n",
    "# 関数を実行\n",
    "check_abnormal_values(regular_results)\n"
   ]
  },
  {
   "cell_type": "code",
   "execution_count": 7,
   "id": "40c62226",
   "metadata": {
    "execution": {
     "iopub.execute_input": "2025-03-13T04:40:41.826307Z",
     "iopub.status.busy": "2025-03-13T04:40:41.826307Z",
     "iopub.status.idle": "2025-03-13T04:40:42.207916Z",
     "shell.execute_reply": "2025-03-13T04:40:42.207916Z"
    },
    "papermill": {
     "duration": 0.388716,
     "end_time": "2025-03-13T04:40:42.209049",
     "exception": false,
     "start_time": "2025-03-13T04:40:41.820333",
     "status": "completed"
    },
    "tags": []
   },
   "outputs": [
    {
     "name": "stdout",
     "output_type": "stream",
     "text": [
      "<class 'pandas.core.frame.DataFrame'>\n",
      "Index: 139193 entries, 0 to 170137\n",
      "Data columns (total 56 columns):\n",
      " #   Column       Non-Null Count   Dtype  \n",
      "---  ------       --------------   -----  \n",
      " 0   Season       139193 non-null  int64  \n",
      " 1   DayNum       139193 non-null  int64  \n",
      " 2   WTeamID      139193 non-null  int64  \n",
      " 3   WScore       139193 non-null  int64  \n",
      " 4   LTeamID      139193 non-null  int64  \n",
      " 5   LScore       139193 non-null  int64  \n",
      " 6   WLoc         139193 non-null  object \n",
      " 7   NumOT        139193 non-null  int64  \n",
      " 8   WFGM         139193 non-null  int64  \n",
      " 9   WFGA         139193 non-null  int64  \n",
      " 10  WFGM3        139193 non-null  int64  \n",
      " 11  WFGA3        139193 non-null  int64  \n",
      " 12  WFTM         139193 non-null  int64  \n",
      " 13  WFTA         139193 non-null  int64  \n",
      " 14  WOR          139193 non-null  int64  \n",
      " 15  WDR          139193 non-null  int64  \n",
      " 16  WAst         139193 non-null  int64  \n",
      " 17  WTO          139193 non-null  int64  \n",
      " 18  WStl         139193 non-null  int64  \n",
      " 19  WBlk         139193 non-null  int64  \n",
      " 20  WPF          139193 non-null  int64  \n",
      " 21  LFGM         139193 non-null  int64  \n",
      " 22  LFGA         139193 non-null  int64  \n",
      " 23  LFGM3        139193 non-null  int64  \n",
      " 24  LFGA3        139193 non-null  int64  \n",
      " 25  LFTM         139193 non-null  int64  \n",
      " 26  LFTA         139193 non-null  int64  \n",
      " 27  LOR          139193 non-null  int64  \n",
      " 28  LDR          139193 non-null  int64  \n",
      " 29  LAst         139193 non-null  int64  \n",
      " 30  LTO          139193 non-null  int64  \n",
      " 31  LStl         139193 non-null  int64  \n",
      " 32  LBlk         139193 non-null  int64  \n",
      " 33  LPF          139193 non-null  int64  \n",
      " 34  WEFFG        139193 non-null  float64\n",
      " 35  LEFFG        139193 non-null  float64\n",
      " 36  WEFFG3       139193 non-null  float64\n",
      " 37  LEFFG3       139193 non-null  float64\n",
      " 38  WDARE        139193 non-null  float64\n",
      " 39  LDARE        139193 non-null  float64\n",
      " 40  WTOQUETOQUE  139193 non-null  float64\n",
      " 41  LTOQUETOQUE  139193 non-null  float64\n",
      " 42  WEFG_SUM     139193 non-null  float64\n",
      " 43  LEFG_SUM     139193 non-null  float64\n",
      " 44  WPOSS        139193 non-null  float64\n",
      " 45  LPOSS        139193 non-null  float64\n",
      " 46  WPOSS_RATE   139193 non-null  float64\n",
      " 47  LPOSS_RATE   139193 non-null  float64\n",
      " 48  WTO_RATIO    139193 non-null  float64\n",
      " 49  LTO_RATIO    139193 non-null  float64\n",
      " 50  WREB_RATE    139193 non-null  float64\n",
      " 51  LREB_RATE    139193 non-null  float64\n",
      " 52  WFT_RATE     139193 non-null  float64\n",
      " 53  LFT_RATE     139193 non-null  float64\n",
      " 54  WRATING      139193 non-null  float64\n",
      " 55  LRATING      139193 non-null  float64\n",
      "dtypes: float64(22), int64(33), object(1)\n",
      "memory usage: 60.5+ MB\n",
      "None\n"
     ]
    },
    {
     "name": "stdout",
     "output_type": "stream",
     "text": [
      "feature cols after prepare()\n",
      "Index(['Season', 'DayNum', 'T1_TeamID', 'T1_Score', 'T2_TeamID', 'T2_Score',\n",
      "       'location', 'NumOT', 'T1_FGM', 'T1_FGA', 'T1_FGM3', 'T1_FGA3', 'T1_FTM',\n",
      "       'T1_FTA', 'T1_OR', 'T1_DR', 'T1_Ast', 'T1_TO', 'T1_Stl', 'T1_Blk',\n",
      "       'T1_PF', 'T2_FGM', 'T2_FGA', 'T2_FGM3', 'T2_FGA3', 'T2_FTM', 'T2_FTA',\n",
      "       'T2_OR', 'T2_DR', 'T2_Ast', 'T2_TO', 'T2_Stl', 'T2_Blk', 'T2_PF',\n",
      "       'T1_EFFG', 'T2_EFFG', 'T1_EFFG3', 'T2_EFFG3', 'T1_DARE', 'T2_DARE',\n",
      "       'T1_TOQUETOQUE', 'T2_TOQUETOQUE', 'T1_EFG_SUM', 'T2_EFG_SUM', 'T1_POSS',\n",
      "       'T2_POSS', 'T1_POSS_RATE', 'T2_POSS_RATE', 'T1_TO_RATIO', 'T2_TO_RATIO',\n",
      "       'T1_REB_RATE', 'T2_REB_RATE', 'T1_FT_RATE', 'T2_FT_RATE', 'T1_RATING',\n",
      "       'T2_RATING', 'PointDiff', 'win'],\n",
      "      dtype='object')\n",
      "<class 'pandas.core.frame.DataFrame'>\n",
      "RangeIndex: 278386 entries, 0 to 278385\n",
      "Data columns (total 58 columns):\n",
      " #   Column         Non-Null Count   Dtype  \n",
      "---  ------         --------------   -----  \n",
      " 0   Season         278386 non-null  int64  \n",
      " 1   DayNum         278386 non-null  int64  \n",
      " 2   T1_TeamID      278386 non-null  int64  \n",
      " 3   T1_Score       278386 non-null  int64  \n",
      " 4   T2_TeamID      278386 non-null  int64  \n",
      " 5   T2_Score       278386 non-null  int64  \n",
      " 6   location       278386 non-null  int32  \n",
      " 7   NumOT          278386 non-null  int64  \n",
      " 8   T1_FGM         278386 non-null  int64  \n",
      " 9   T1_FGA         278386 non-null  int64  \n",
      " 10  T1_FGM3        278386 non-null  int64  \n",
      " 11  T1_FGA3        278386 non-null  int64  \n",
      " 12  T1_FTM         278386 non-null  int64  \n",
      " 13  T1_FTA         278386 non-null  int64  \n",
      " 14  T1_OR          278386 non-null  int64  \n",
      " 15  T1_DR          278386 non-null  int64  \n",
      " 16  T1_Ast         278386 non-null  int64  \n",
      " 17  T1_TO          278386 non-null  int64  \n",
      " 18  T1_Stl         278386 non-null  int64  \n",
      " 19  T1_Blk         278386 non-null  int64  \n",
      " 20  T1_PF          278386 non-null  int64  \n",
      " 21  T2_FGM         278386 non-null  int64  \n",
      " 22  T2_FGA         278386 non-null  int64  \n",
      " 23  T2_FGM3        278386 non-null  int64  \n",
      " 24  T2_FGA3        278386 non-null  int64  \n",
      " 25  T2_FTM         278386 non-null  int64  \n",
      " 26  T2_FTA         278386 non-null  int64  \n",
      " 27  T2_OR          278386 non-null  int64  \n",
      " 28  T2_DR          278386 non-null  int64  \n",
      " 29  T2_Ast         278386 non-null  int64  \n",
      " 30  T2_TO          278386 non-null  int64  \n",
      " 31  T2_Stl         278386 non-null  int64  \n",
      " 32  T2_Blk         278386 non-null  int64  \n",
      " 33  T2_PF          278386 non-null  int64  \n",
      " 34  T1_EFFG        278386 non-null  float64\n",
      " 35  T2_EFFG        278386 non-null  float64\n",
      " 36  T1_EFFG3       278386 non-null  float64\n",
      " 37  T2_EFFG3       278386 non-null  float64\n",
      " 38  T1_DARE        278386 non-null  float64\n",
      " 39  T2_DARE        278386 non-null  float64\n",
      " 40  T1_TOQUETOQUE  278386 non-null  float64\n",
      " 41  T2_TOQUETOQUE  278386 non-null  float64\n",
      " 42  T1_EFG_SUM     278386 non-null  float64\n",
      " 43  T2_EFG_SUM     278386 non-null  float64\n",
      " 44  T1_POSS        278386 non-null  float64\n",
      " 45  T2_POSS        278386 non-null  float64\n",
      " 46  T1_POSS_RATE   278386 non-null  float64\n",
      " 47  T2_POSS_RATE   278386 non-null  float64\n",
      " 48  T1_TO_RATIO    278386 non-null  float64\n",
      " 49  T2_TO_RATIO    278386 non-null  float64\n",
      " 50  T1_REB_RATE    278386 non-null  float64\n",
      " 51  T2_REB_RATE    278386 non-null  float64\n",
      " 52  T1_FT_RATE     278386 non-null  float64\n",
      " 53  T2_FT_RATE     278386 non-null  float64\n",
      " 54  T1_RATING      278386 non-null  float64\n",
      " 55  T2_RATING      278386 non-null  float64\n",
      " 56  PointDiff      278386 non-null  int64  \n",
      " 57  win            278386 non-null  int32  \n",
      "dtypes: float64(22), int32(2), int64(34)\n",
      "memory usage: 121.1 MB\n"
     ]
    },
    {
     "data": {
      "text/html": [
       "<div>\n",
       "<style scoped>\n",
       "    .dataframe tbody tr th:only-of-type {\n",
       "        vertical-align: middle;\n",
       "    }\n",
       "\n",
       "    .dataframe tbody tr th {\n",
       "        vertical-align: top;\n",
       "    }\n",
       "\n",
       "    .dataframe thead th {\n",
       "        text-align: right;\n",
       "    }\n",
       "</style>\n",
       "<table border=\"1\" class=\"dataframe\">\n",
       "  <thead>\n",
       "    <tr style=\"text-align: right;\">\n",
       "      <th></th>\n",
       "      <th>Season</th>\n",
       "      <th>DayNum</th>\n",
       "      <th>T1_TeamID</th>\n",
       "      <th>T1_Score</th>\n",
       "      <th>T2_TeamID</th>\n",
       "      <th>T2_Score</th>\n",
       "      <th>location</th>\n",
       "      <th>NumOT</th>\n",
       "      <th>T1_FGM</th>\n",
       "      <th>T1_FGA</th>\n",
       "      <th>...</th>\n",
       "      <th>T1_TO_RATIO</th>\n",
       "      <th>T2_TO_RATIO</th>\n",
       "      <th>T1_REB_RATE</th>\n",
       "      <th>T2_REB_RATE</th>\n",
       "      <th>T1_FT_RATE</th>\n",
       "      <th>T2_FT_RATE</th>\n",
       "      <th>T1_RATING</th>\n",
       "      <th>T2_RATING</th>\n",
       "      <th>PointDiff</th>\n",
       "      <th>win</th>\n",
       "    </tr>\n",
       "  </thead>\n",
       "  <tbody>\n",
       "    <tr>\n",
       "      <th>0</th>\n",
       "      <td>2003</td>\n",
       "      <td>10</td>\n",
       "      <td>1104</td>\n",
       "      <td>68</td>\n",
       "      <td>1328</td>\n",
       "      <td>62</td>\n",
       "      <td>0</td>\n",
       "      <td>0</td>\n",
       "      <td>27</td>\n",
       "      <td>58</td>\n",
       "      <td>...</td>\n",
       "      <td>0.258659</td>\n",
       "      <td>0.223104</td>\n",
       "      <td>0.388889</td>\n",
       "      <td>0.294118</td>\n",
       "      <td>0.310345</td>\n",
       "      <td>0.415094</td>\n",
       "      <td>0.907635</td>\n",
       "      <td>0.877193</td>\n",
       "      <td>6</td>\n",
       "      <td>1</td>\n",
       "    </tr>\n",
       "    <tr>\n",
       "      <th>1</th>\n",
       "      <td>2003</td>\n",
       "      <td>10</td>\n",
       "      <td>1272</td>\n",
       "      <td>70</td>\n",
       "      <td>1393</td>\n",
       "      <td>63</td>\n",
       "      <td>0</td>\n",
       "      <td>0</td>\n",
       "      <td>26</td>\n",
       "      <td>62</td>\n",
       "      <td>...</td>\n",
       "      <td>0.155950</td>\n",
       "      <td>0.136674</td>\n",
       "      <td>0.375000</td>\n",
       "      <td>0.416667</td>\n",
       "      <td>0.306452</td>\n",
       "      <td>0.298507</td>\n",
       "      <td>1.023991</td>\n",
       "      <td>0.929204</td>\n",
       "      <td>7</td>\n",
       "      <td>1</td>\n",
       "    </tr>\n",
       "    <tr>\n",
       "      <th>2</th>\n",
       "      <td>2003</td>\n",
       "      <td>11</td>\n",
       "      <td>1266</td>\n",
       "      <td>73</td>\n",
       "      <td>1437</td>\n",
       "      <td>61</td>\n",
       "      <td>0</td>\n",
       "      <td>0</td>\n",
       "      <td>24</td>\n",
       "      <td>58</td>\n",
       "      <td>...</td>\n",
       "      <td>0.123824</td>\n",
       "      <td>0.126156</td>\n",
       "      <td>0.435897</td>\n",
       "      <td>0.543860</td>\n",
       "      <td>0.500000</td>\n",
       "      <td>0.315068</td>\n",
       "      <td>1.144918</td>\n",
       "      <td>0.951341</td>\n",
       "      <td>12</td>\n",
       "      <td>1</td>\n",
       "    </tr>\n",
       "    <tr>\n",
       "      <th>3</th>\n",
       "      <td>2003</td>\n",
       "      <td>11</td>\n",
       "      <td>1296</td>\n",
       "      <td>56</td>\n",
       "      <td>1457</td>\n",
       "      <td>50</td>\n",
       "      <td>0</td>\n",
       "      <td>0</td>\n",
       "      <td>18</td>\n",
       "      <td>38</td>\n",
       "      <td>...</td>\n",
       "      <td>0.188561</td>\n",
       "      <td>0.254692</td>\n",
       "      <td>0.230769</td>\n",
       "      <td>0.472222</td>\n",
       "      <td>0.815789</td>\n",
       "      <td>0.306122</td>\n",
       "      <td>0.971548</td>\n",
       "      <td>0.868056</td>\n",
       "      <td>6</td>\n",
       "      <td>1</td>\n",
       "    </tr>\n",
       "    <tr>\n",
       "      <th>4</th>\n",
       "      <td>2003</td>\n",
       "      <td>11</td>\n",
       "      <td>1400</td>\n",
       "      <td>77</td>\n",
       "      <td>1208</td>\n",
       "      <td>71</td>\n",
       "      <td>0</td>\n",
       "      <td>0</td>\n",
       "      <td>30</td>\n",
       "      <td>61</td>\n",
       "      <td>...</td>\n",
       "      <td>0.173439</td>\n",
       "      <td>0.119218</td>\n",
       "      <td>0.531250</td>\n",
       "      <td>0.488372</td>\n",
       "      <td>0.213115</td>\n",
       "      <td>0.435484</td>\n",
       "      <td>1.208412</td>\n",
       "      <td>1.129135</td>\n",
       "      <td>6</td>\n",
       "      <td>1</td>\n",
       "    </tr>\n",
       "  </tbody>\n",
       "</table>\n",
       "<p>5 rows × 58 columns</p>\n",
       "</div>"
      ],
      "text/plain": [
       "   Season  DayNum  T1_TeamID  T1_Score  T2_TeamID  T2_Score  location  NumOT  \\\n",
       "0    2003      10       1104        68       1328        62         0      0   \n",
       "1    2003      10       1272        70       1393        63         0      0   \n",
       "2    2003      11       1266        73       1437        61         0      0   \n",
       "3    2003      11       1296        56       1457        50         0      0   \n",
       "4    2003      11       1400        77       1208        71         0      0   \n",
       "\n",
       "   T1_FGM  T1_FGA  ...  T1_TO_RATIO  T2_TO_RATIO  T1_REB_RATE  T2_REB_RATE  \\\n",
       "0      27      58  ...     0.258659     0.223104     0.388889     0.294118   \n",
       "1      26      62  ...     0.155950     0.136674     0.375000     0.416667   \n",
       "2      24      58  ...     0.123824     0.126156     0.435897     0.543860   \n",
       "3      18      38  ...     0.188561     0.254692     0.230769     0.472222   \n",
       "4      30      61  ...     0.173439     0.119218     0.531250     0.488372   \n",
       "\n",
       "   T1_FT_RATE  T2_FT_RATE  T1_RATING  T2_RATING  PointDiff  win  \n",
       "0    0.310345    0.415094   0.907635   0.877193          6    1  \n",
       "1    0.306452    0.298507   1.023991   0.929204          7    1  \n",
       "2    0.500000    0.315068   1.144918   0.951341         12    1  \n",
       "3    0.815789    0.306122   0.971548   0.868056          6    1  \n",
       "4    0.213115    0.435484   1.208412   1.129135          6    1  \n",
       "\n",
       "[5 rows x 58 columns]"
      ]
     },
     "metadata": {},
     "output_type": "display_data"
    },
    {
     "data": {
      "text/plain": [
       "None"
      ]
     },
     "metadata": {},
     "output_type": "display_data"
    }
   ],
   "source": [
    "#予測する年以降の情報はフィルタリング\n",
    "USE_START_YEAR = cfg.exp.tournament.use_start_season\n",
    "notexist = tourney_results[tourney_results[\"Season\"] == PREDICT_YEAR]\n",
    "tourney_results = tourney_results[(tourney_results[\"Season\"] >= USE_START_YEAR) & (tourney_results[\"Season\"] < PREDICT_YEAR)]\n",
    "seeds = seeds[(seeds[\"Season\"] >= USE_START_YEAR) & (seeds[\"Season\"] <= PREDICT_YEAR)]\n",
    "regular_results = regular_results[(regular_results[\"Season\"] >= USE_START_YEAR) & (regular_results[\"Season\"] <= PREDICT_YEAR)]\n",
    "\n",
    "regular_data = prepare_data(regular_results)\n",
    "display(regular_data.head(), regular_data.info())"
   ]
  },
  {
   "cell_type": "code",
   "execution_count": 8,
   "id": "2adfb539",
   "metadata": {
    "execution": {
     "iopub.execute_input": "2025-03-13T04:40:42.209049Z",
     "iopub.status.busy": "2025-03-13T04:40:42.209049Z",
     "iopub.status.idle": "2025-03-13T04:40:42.243169Z",
     "shell.execute_reply": "2025-03-13T04:40:42.243169Z"
    },
    "papermill": {
     "duration": 0.036598,
     "end_time": "2025-03-13T04:40:42.245647",
     "exception": false,
     "start_time": "2025-03-13T04:40:42.209049",
     "status": "completed"
    },
    "tags": []
   },
   "outputs": [],
   "source": [
    "#使用特徴量(boxscore_cols)を取得してそれに対して(\"Season\", 'T1_TeamID')でまとめた特徴量の追加\n",
    "#### 1. win_ration_14d ####\n",
    "def add_win_ratio_14d(df):\n",
    "    df_filtered = df[df['DayNum'] > 118].copy()\n",
    "    df_filtered['Win'] = (df_filtered['PointDiff'] > 0).astype(int)\n",
    "    \n",
    "    win_ratio_t1 = df_filtered.groupby(['Season', 'T1_TeamID'])['Win'].mean().reset_index()\n",
    "    win_ratio_t1.rename(columns={'Win': 'T1_win_ratio_14d'}, inplace=True)\n",
    "    \n",
    "    win_ratio_t2 = df_filtered.groupby(['Season', 'T2_TeamID'])['Win'].mean().reset_index()\n",
    "    win_ratio_t2.rename(columns={'Win': 'T2_win_ratio_14d'}, inplace=True)\n",
    "    \n",
    "    df = df.merge(win_ratio_t1, on=['Season', 'T1_TeamID'], how='left')\n",
    "    df = df.merge(win_ratio_t2, on=['Season', 'T2_TeamID'], how='left')\n",
    "    \n",
    "    return df\n",
    "\n",
    "##### 2. add mean of boxscore ####\n",
    "def make_col_avg(df, boxscore, group = [\"Season\", \"T1_TeamID\"], func= [np.mean]):\n",
    "    df_stat = df.groupby(group)[boxscore].agg(func)\n",
    "    df_stat.columns = [''.join(col).strip() for col in df_stat.columns.values]\n",
    "    df_stat = df_stat.reset_index()\n",
    "\n",
    "    win_ratio_cols = ['T1_win_ratio_14d'] #ここマージの関係からT2_win_ratio_14dを外したけど大丈夫か考える\n",
    "    df_win_ratio = df[group + win_ratio_cols].drop_duplicates()\n",
    "    df_stat = df_stat.merge(df_win_ratio, on=group, how='left')\n",
    "    \n",
    "    return df_stat\n",
    "\n",
    "#### 3. add team quality ####\n",
    "# 3.0 ロジスティックを行うためのregular_season_effectsデータフレームの作成\n",
    "def make_regular_season_effects(df):\n",
    "    regular_season_effects = df[['Season', 'T1_TeamID', 'T2_TeamID', 'PointDiff']].copy()\n",
    "    regular_season_effects['win'] = np.where(regular_season_effects['PointDiff'] > 0, 1, 0)\n",
    "    return regular_season_effects\n",
    "\n",
    "# 3.1\n",
    "#各シーズンごとの総当たりに対するロジスティック回帰を行う\n",
    "#目的変数はfeatureenginneringから作成したPointDiffの正負に依存するWinとする.\n",
    "#新たな特徴量\"quarity\"をseasonごとの戦績をもとにロジスティックの回帰係数として導入している\n",
    "def team_quality(season,df):\n",
    "    season_data = df[df[\"Season\"] == season]\n",
    "    X = season_data[['T1_TeamID', 'T2_TeamID']]\n",
    "    y = season_data['win']\n",
    "    print(X.shape, y.shape)\n",
    "    encoder = OneHotEncoder(sparse_output=False) #多重共線性防止, 密行列指定\n",
    "    X_encoded = encoder.fit_transform(X)\n",
    "    \n",
    "    model = LogisticRegression(fit_intercept=False)\n",
    "    model.fit(X_encoded, y)\n",
    "    team_ids = encoder.get_feature_names_out(['T1_TeamID', 'T2_TeamID'])\n",
    "\n",
    "    \n",
    "    #quarity: (チーム数)*2(ID, 回帰係数)\n",
    "    quality = pd.DataFrame({\n",
    "        'TeamID': team_ids,\n",
    "        'quality': model.coef_.flatten() #T1_TeamID_1112,,,の形でチーム数分の回帰係数が入る\n",
    "    })\n",
    "\n",
    "    # 値をint 1112 のように整形\n",
    "    quality = quality[quality['TeamID'].str.contains('T1_TeamID')]\n",
    "    quality['TeamID'] = quality['TeamID'].str.replace('T1_TeamID_', '', regex=True).astype(int)\n",
    "    quality['Season'] = season\n",
    "\n",
    "    #display(quality.head())\n",
    "    print(f\"fin make {season}'s team quarity\")\n",
    "    return quality\n",
    "\n",
    "# 4. add seed\n",
    "def add_seed(df, seeds):\n",
    "    temp = seeds.copy()\n",
    "    temp['Seed'] = temp['Seed'].apply(lambda x: int(x[1:3]))\n",
    "    temp.columns = ['Season','T1_seed','T1_TeamID']\n",
    "    df = pd.merge(df, temp, on=[\"Season\", \"T1_TeamID\"], how=\"left\")\n",
    "    return df \n",
    "\n",
    "# 5. add Ordinal rank\n",
    "def add_ordinalrank(df, ordinal):\n",
    "    df_rank = ordinal.groupby([\"Season\", \"TeamID\"])[\"OrdinalRank\"].agg(np.mean).reset_index()\n",
    "    df_rank.head()\n",
    "    ranks = df_rank.rename(columns={'TeamID': 'T1_TeamID', 'OrdinalRank': 'T1_OrdinalRank'})\n",
    "    df = pd.merge(df,ranks,on = [\"Season\",\"T1_TeamID\"],how = \"left\")\n",
    "    return df\n",
    "\n",
    "# main \n",
    "def make_season_statistics(df, boxscore, seeds, func = [np.mean]):\n",
    "    # 1. Win Ratio の計算と追加\n",
    "    add_win = add_win_ratio_14d(df)\n",
    "    print(\"after add win ratio\")\n",
    "    print(add_win.columns)  \n",
    "    \n",
    "    #2. \n",
    "    add_mean = make_col_avg(add_win, boxscore)\n",
    "    print(\"after mean of boxscore\")\n",
    "    print(add_mean.columns)\n",
    "    \n",
    "    #3. \n",
    "    global PREDICT_YEAR, USE_START_YEAR\n",
    "    start_season = max(FEATURES.start_quality_season, USE_START_YEAR)\n",
    "    print(f\"use season for quality feature is: {start_season}\")\n",
    "    regular_season_effects = make_regular_season_effects(df)\n",
    "    glm_season = [i for i in range(start_season, PREDICT_YEAR+1)]\n",
    "\n",
    "    if 2020 in glm_season:\n",
    "        glm_season.remove(2020)\n",
    "    glm_quality = pd.concat([team_quality(season, regular_season_effects) for season in glm_season]).reset_index(drop=True)\n",
    "    # add glm quality \n",
    "    glm_quality_T1 = glm_quality.rename(columns={'TeamID': 'T1_TeamID', 'quality': 'T1_quality'})\n",
    "    add_glm = add_mean.merge(glm_quality_T1, on=['Season', 'T1_TeamID'], how='left')\n",
    "\n",
    "    print(\"add glm quality\")\n",
    "    print(add_glm.columns)\n",
    "    \n",
    "    #4. \n",
    "    add_seeds = add_seed(add_glm, seeds)\n",
    "    print(\"add seeds (final form)\")\n",
    "    print(add_seeds.columns)\n",
    "    \n",
    "    #5. \n",
    "    add_rank = add_ordinalrank(add_seeds, ordinal_rank)\n",
    "    print(\"add ordinal rank\")\n",
    "    print(add_rank.columns)  \n",
    "    return add_rank"
   ]
  },
  {
   "cell_type": "code",
   "execution_count": 9,
   "id": "e846ee7f",
   "metadata": {
    "execution": {
     "iopub.execute_input": "2025-03-13T04:40:42.259914Z",
     "iopub.status.busy": "2025-03-13T04:40:42.258901Z",
     "iopub.status.idle": "2025-03-13T04:40:45.181234Z",
     "shell.execute_reply": "2025-03-13T04:40:45.180669Z"
    },
    "papermill": {
     "duration": 2.929334,
     "end_time": "2025-03-13T04:40:45.182248",
     "exception": false,
     "start_time": "2025-03-13T04:40:42.252914",
     "status": "completed"
    },
    "tags": []
   },
   "outputs": [
    {
     "name": "stdout",
     "output_type": "stream",
     "text": [
      "use boxscore col is\n",
      "['T1_Score', 'T2_Score', 'PointDiff', 'T1_FGM', 'T2_FGM', 'T1_FGA', 'T2_FGA', 'T1_FGM3', 'T2_FGM3', 'T1_FGA3', 'T2_FGA3', 'T1_FTM', 'T2_FTM', 'T1_FTA', 'T2_FTA', 'T1_EFG_SUM', 'T2_EFG_SUM', 'T1_TO_RATIO', 'T2_TO_RATIO', 'T1_OR', 'T2_OR', 'T1_DR', 'T2_DR', 'T1_REB_RATE', 'T2_REB_RATE', 'T1_FT_RATE', 'T2_FT_RATE', 'T1_POSS_RATE', 'T2_POSS_RATE', 'T1_Ast', 'T2_Ast', 'T1_TO', 'T2_TO', 'T1_Stl', 'T2_Stl', 'T1_Blk', 'T2_Blk', 'T1_PF', 'T2_PF']\n"
     ]
    },
    {
     "name": "stdout",
     "output_type": "stream",
     "text": [
      "after add win ratio\n",
      "Index(['Season', 'DayNum', 'T1_TeamID', 'T1_Score', 'T2_TeamID', 'T2_Score',\n",
      "       'location', 'NumOT', 'T1_FGM', 'T1_FGA', 'T1_FGM3', 'T1_FGA3', 'T1_FTM',\n",
      "       'T1_FTA', 'T1_OR', 'T1_DR', 'T1_Ast', 'T1_TO', 'T1_Stl', 'T1_Blk',\n",
      "       'T1_PF', 'T2_FGM', 'T2_FGA', 'T2_FGM3', 'T2_FGA3', 'T2_FTM', 'T2_FTA',\n",
      "       'T2_OR', 'T2_DR', 'T2_Ast', 'T2_TO', 'T2_Stl', 'T2_Blk', 'T2_PF',\n",
      "       'T1_EFFG', 'T2_EFFG', 'T1_EFFG3', 'T2_EFFG3', 'T1_DARE', 'T2_DARE',\n",
      "       'T1_TOQUETOQUE', 'T2_TOQUETOQUE', 'T1_EFG_SUM', 'T2_EFG_SUM', 'T1_POSS',\n",
      "       'T2_POSS', 'T1_POSS_RATE', 'T2_POSS_RATE', 'T1_TO_RATIO', 'T2_TO_RATIO',\n",
      "       'T1_REB_RATE', 'T2_REB_RATE', 'T1_FT_RATE', 'T2_FT_RATE', 'T1_RATING',\n",
      "       'T2_RATING', 'PointDiff', 'win', 'T1_win_ratio_14d',\n",
      "       'T2_win_ratio_14d'],\n",
      "      dtype='object')\n"
     ]
    },
    {
     "name": "stdout",
     "output_type": "stream",
     "text": [
      "after mean of boxscore\n",
      "Index(['Season', 'T1_TeamID', 'T1_Scoremean', 'T2_Scoremean', 'PointDiffmean',\n",
      "       'T1_FGMmean', 'T2_FGMmean', 'T1_FGAmean', 'T2_FGAmean', 'T1_FGM3mean',\n",
      "       'T2_FGM3mean', 'T1_FGA3mean', 'T2_FGA3mean', 'T1_FTMmean', 'T2_FTMmean',\n",
      "       'T1_FTAmean', 'T2_FTAmean', 'T1_EFG_SUMmean', 'T2_EFG_SUMmean',\n",
      "       'T1_TO_RATIOmean', 'T2_TO_RATIOmean', 'T1_ORmean', 'T2_ORmean',\n",
      "       'T1_DRmean', 'T2_DRmean', 'T1_REB_RATEmean', 'T2_REB_RATEmean',\n",
      "       'T1_FT_RATEmean', 'T2_FT_RATEmean', 'T1_POSS_RATEmean',\n",
      "       'T2_POSS_RATEmean', 'T1_Astmean', 'T2_Astmean', 'T1_TOmean',\n",
      "       'T2_TOmean', 'T1_Stlmean', 'T2_Stlmean', 'T1_Blkmean', 'T2_Blkmean',\n",
      "       'T1_PFmean', 'T2_PFmean', 'T1_win_ratio_14d'],\n",
      "      dtype='object')\n",
      "use season for quality feature is: 2003\n",
      "(9232, 2) (9232,)\n",
      "fin make 2003's team quarity\n",
      "(9142, 2) (9142,)\n"
     ]
    },
    {
     "name": "stderr",
     "output_type": "stream",
     "text": [
      "C:\\Users\\81809\\AppData\\Local\\Temp\\ipykernel_23700\\386782032.py:20: FutureWarning: The provided callable <function mean at 0x000002A375FC6520> is currently using SeriesGroupBy.mean. In a future version of pandas, the provided callable will be used directly. To keep current behavior pass the string \"mean\" instead.\n",
      "  df_stat = df.groupby(group)[boxscore].agg(func)\n"
     ]
    },
    {
     "name": "stdout",
     "output_type": "stream",
     "text": [
      "fin make 2004's team quarity\n",
      "(9350, 2) (9350,)\n",
      "fin make 2005's team quarity\n",
      "(9514, 2) (9514,)\n",
      "fin make 2006's team quarity\n",
      "(10086, 2) (10086,)\n"
     ]
    },
    {
     "name": "stdout",
     "output_type": "stream",
     "text": [
      "fin make 2007's team quarity\n",
      "(10326, 2) (10326,)\n"
     ]
    },
    {
     "name": "stdout",
     "output_type": "stream",
     "text": [
      "fin make 2008's team quarity\n",
      "(10498, 2) (10498,)\n",
      "fin make 2009's team quarity\n",
      "(20600, 2) (20600,)\n"
     ]
    },
    {
     "name": "stdout",
     "output_type": "stream",
     "text": [
      "fin make 2010's team quarity\n",
      "(20660, 2) (20660,)\n",
      "fin make 2011's team quarity\n",
      "(20606, 2) (20606,)\n"
     ]
    },
    {
     "name": "stdout",
     "output_type": "stream",
     "text": [
      "fin make 2012's team quarity\n",
      "(21008, 2) (21008,)\n"
     ]
    },
    {
     "name": "stdout",
     "output_type": "stream",
     "text": [
      "fin make 2013's team quarity\n",
      "(21228, 2) (21228,)\n",
      "fin make 2014's team quarity\n",
      "(21136, 2) (21136,)\n"
     ]
    },
    {
     "name": "stdout",
     "output_type": "stream",
     "text": [
      "fin make 2015's team quarity\n",
      "(21156, 2) (21156,)\n",
      "fin make 2016's team quarity\n",
      "(21210, 2) (21210,)\n"
     ]
    },
    {
     "name": "stdout",
     "output_type": "stream",
     "text": [
      "fin make 2017's team quarity\n",
      "(21228, 2) (21228,)\n"
     ]
    },
    {
     "name": "stdout",
     "output_type": "stream",
     "text": [
      "fin make 2018's team quarity\n",
      "(21406, 2) (21406,)\n",
      "fin make 2019's team quarity\n",
      "add glm quality\n",
      "Index(['Season', 'T1_TeamID', 'T1_Scoremean', 'T2_Scoremean', 'PointDiffmean',\n",
      "       'T1_FGMmean', 'T2_FGMmean', 'T1_FGAmean', 'T2_FGAmean', 'T1_FGM3mean',\n",
      "       'T2_FGM3mean', 'T1_FGA3mean', 'T2_FGA3mean', 'T1_FTMmean', 'T2_FTMmean',\n",
      "       'T1_FTAmean', 'T2_FTAmean', 'T1_EFG_SUMmean', 'T2_EFG_SUMmean',\n",
      "       'T1_TO_RATIOmean', 'T2_TO_RATIOmean', 'T1_ORmean', 'T2_ORmean',\n",
      "       'T1_DRmean', 'T2_DRmean', 'T1_REB_RATEmean', 'T2_REB_RATEmean',\n",
      "       'T1_FT_RATEmean', 'T2_FT_RATEmean', 'T1_POSS_RATEmean',\n",
      "       'T2_POSS_RATEmean', 'T1_Astmean', 'T2_Astmean', 'T1_TOmean',\n",
      "       'T2_TOmean', 'T1_Stlmean', 'T2_Stlmean', 'T1_Blkmean', 'T2_Blkmean',\n",
      "       'T1_PFmean', 'T2_PFmean', 'T1_win_ratio_14d', 'T1_quality'],\n",
      "      dtype='object')\n",
      "add seeds (final form)\n",
      "Index(['Season', 'T1_TeamID', 'T1_Scoremean', 'T2_Scoremean', 'PointDiffmean',\n",
      "       'T1_FGMmean', 'T2_FGMmean', 'T1_FGAmean', 'T2_FGAmean', 'T1_FGM3mean',\n",
      "       'T2_FGM3mean', 'T1_FGA3mean', 'T2_FGA3mean', 'T1_FTMmean', 'T2_FTMmean',\n",
      "       'T1_FTAmean', 'T2_FTAmean', 'T1_EFG_SUMmean', 'T2_EFG_SUMmean',\n",
      "       'T1_TO_RATIOmean', 'T2_TO_RATIOmean', 'T1_ORmean', 'T2_ORmean',\n",
      "       'T1_DRmean', 'T2_DRmean', 'T1_REB_RATEmean', 'T2_REB_RATEmean',\n",
      "       'T1_FT_RATEmean', 'T2_FT_RATEmean', 'T1_POSS_RATEmean',\n",
      "       'T2_POSS_RATEmean', 'T1_Astmean', 'T2_Astmean', 'T1_TOmean',\n",
      "       'T2_TOmean', 'T1_Stlmean', 'T2_Stlmean', 'T1_Blkmean', 'T2_Blkmean',\n",
      "       'T1_PFmean', 'T2_PFmean', 'T1_win_ratio_14d', 'T1_quality', 'T1_seed'],\n",
      "      dtype='object')\n"
     ]
    },
    {
     "name": "stderr",
     "output_type": "stream",
     "text": [
      "C:\\Users\\81809\\AppData\\Local\\Temp\\ipykernel_23700\\386782032.py:79: FutureWarning: The provided callable <function mean at 0x000002A375FC6520> is currently using SeriesGroupBy.mean. In a future version of pandas, the provided callable will be used directly. To keep current behavior pass the string \"mean\" instead.\n",
      "  df_rank = ordinal.groupby([\"Season\", \"TeamID\"])[\"OrdinalRank\"].agg(np.mean).reset_index()\n"
     ]
    },
    {
     "name": "stdout",
     "output_type": "stream",
     "text": [
      "add ordinal rank\n",
      "Index(['Season', 'T1_TeamID', 'T1_Scoremean', 'T2_Scoremean', 'PointDiffmean',\n",
      "       'T1_FGMmean', 'T2_FGMmean', 'T1_FGAmean', 'T2_FGAmean', 'T1_FGM3mean',\n",
      "       'T2_FGM3mean', 'T1_FGA3mean', 'T2_FGA3mean', 'T1_FTMmean', 'T2_FTMmean',\n",
      "       'T1_FTAmean', 'T2_FTAmean', 'T1_EFG_SUMmean', 'T2_EFG_SUMmean',\n",
      "       'T1_TO_RATIOmean', 'T2_TO_RATIOmean', 'T1_ORmean', 'T2_ORmean',\n",
      "       'T1_DRmean', 'T2_DRmean', 'T1_REB_RATEmean', 'T2_REB_RATEmean',\n",
      "       'T1_FT_RATEmean', 'T2_FT_RATEmean', 'T1_POSS_RATEmean',\n",
      "       'T2_POSS_RATEmean', 'T1_Astmean', 'T2_Astmean', 'T1_TOmean',\n",
      "       'T2_TOmean', 'T1_Stlmean', 'T2_Stlmean', 'T1_Blkmean', 'T2_Blkmean',\n",
      "       'T1_PFmean', 'T2_PFmean', 'T1_win_ratio_14d', 'T1_quality', 'T1_seed',\n",
      "       'T1_OrdinalRank'],\n",
      "      dtype='object')\n"
     ]
    },
    {
     "data": {
      "text/html": [
       "<div>\n",
       "<style scoped>\n",
       "    .dataframe tbody tr th:only-of-type {\n",
       "        vertical-align: middle;\n",
       "    }\n",
       "\n",
       "    .dataframe tbody tr th {\n",
       "        vertical-align: top;\n",
       "    }\n",
       "\n",
       "    .dataframe thead th {\n",
       "        text-align: right;\n",
       "    }\n",
       "</style>\n",
       "<table border=\"1\" class=\"dataframe\">\n",
       "  <thead>\n",
       "    <tr style=\"text-align: right;\">\n",
       "      <th></th>\n",
       "      <th>Season</th>\n",
       "      <th>T1_TeamID</th>\n",
       "      <th>T1_Scoremean</th>\n",
       "      <th>T2_Scoremean</th>\n",
       "      <th>PointDiffmean</th>\n",
       "      <th>T1_FGMmean</th>\n",
       "      <th>T2_FGMmean</th>\n",
       "      <th>T1_FGAmean</th>\n",
       "      <th>T2_FGAmean</th>\n",
       "      <th>T1_FGM3mean</th>\n",
       "      <th>...</th>\n",
       "      <th>T1_Stlmean</th>\n",
       "      <th>T2_Stlmean</th>\n",
       "      <th>T1_Blkmean</th>\n",
       "      <th>T2_Blkmean</th>\n",
       "      <th>T1_PFmean</th>\n",
       "      <th>T2_PFmean</th>\n",
       "      <th>T1_win_ratio_14d</th>\n",
       "      <th>T1_quality</th>\n",
       "      <th>T1_seed</th>\n",
       "      <th>T1_OrdinalRank</th>\n",
       "    </tr>\n",
       "  </thead>\n",
       "  <tbody>\n",
       "    <tr>\n",
       "      <th>9298</th>\n",
       "      <td>2019</td>\n",
       "      <td>3462</td>\n",
       "      <td>60.862069</td>\n",
       "      <td>66.482759</td>\n",
       "      <td>-5.620690</td>\n",
       "      <td>21.896552</td>\n",
       "      <td>24.448276</td>\n",
       "      <td>57.517241</td>\n",
       "      <td>59.758621</td>\n",
       "      <td>7.862069</td>\n",
       "      <td>...</td>\n",
       "      <td>7.586207</td>\n",
       "      <td>7.758621</td>\n",
       "      <td>2.586207</td>\n",
       "      <td>3.172414</td>\n",
       "      <td>15.241379</td>\n",
       "      <td>15.172414</td>\n",
       "      <td>0.0</td>\n",
       "      <td>-0.296941</td>\n",
       "      <td>NaN</td>\n",
       "      <td>NaN</td>\n",
       "    </tr>\n",
       "    <tr>\n",
       "      <th>9299</th>\n",
       "      <td>2019</td>\n",
       "      <td>3463</td>\n",
       "      <td>63.344828</td>\n",
       "      <td>61.551724</td>\n",
       "      <td>1.793103</td>\n",
       "      <td>23.724138</td>\n",
       "      <td>21.965517</td>\n",
       "      <td>60.517241</td>\n",
       "      <td>60.379310</td>\n",
       "      <td>5.551724</td>\n",
       "      <td>...</td>\n",
       "      <td>5.172414</td>\n",
       "      <td>8.344828</td>\n",
       "      <td>3.586207</td>\n",
       "      <td>2.517241</td>\n",
       "      <td>16.448276</td>\n",
       "      <td>17.551724</td>\n",
       "      <td>0.0</td>\n",
       "      <td>0.134368</td>\n",
       "      <td>NaN</td>\n",
       "      <td>NaN</td>\n",
       "    </tr>\n",
       "    <tr>\n",
       "      <th>9300</th>\n",
       "      <td>2019</td>\n",
       "      <td>3464</td>\n",
       "      <td>68.137931</td>\n",
       "      <td>58.000000</td>\n",
       "      <td>10.137931</td>\n",
       "      <td>23.241379</td>\n",
       "      <td>21.862069</td>\n",
       "      <td>55.758621</td>\n",
       "      <td>58.655172</td>\n",
       "      <td>8.620690</td>\n",
       "      <td>...</td>\n",
       "      <td>4.344828</td>\n",
       "      <td>7.448276</td>\n",
       "      <td>3.482759</td>\n",
       "      <td>3.482759</td>\n",
       "      <td>13.862069</td>\n",
       "      <td>17.896552</td>\n",
       "      <td>0.5</td>\n",
       "      <td>0.638405</td>\n",
       "      <td>NaN</td>\n",
       "      <td>NaN</td>\n",
       "    </tr>\n",
       "    <tr>\n",
       "      <th>9301</th>\n",
       "      <td>2019</td>\n",
       "      <td>3465</td>\n",
       "      <td>76.200000</td>\n",
       "      <td>69.840000</td>\n",
       "      <td>6.360000</td>\n",
       "      <td>28.560000</td>\n",
       "      <td>26.600000</td>\n",
       "      <td>67.520000</td>\n",
       "      <td>69.200000</td>\n",
       "      <td>9.160000</td>\n",
       "      <td>...</td>\n",
       "      <td>7.280000</td>\n",
       "      <td>7.920000</td>\n",
       "      <td>3.160000</td>\n",
       "      <td>3.160000</td>\n",
       "      <td>15.520000</td>\n",
       "      <td>15.440000</td>\n",
       "      <td>0.5</td>\n",
       "      <td>-0.182555</td>\n",
       "      <td>NaN</td>\n",
       "      <td>NaN</td>\n",
       "    </tr>\n",
       "    <tr>\n",
       "      <th>9302</th>\n",
       "      <td>2019</td>\n",
       "      <td>3466</td>\n",
       "      <td>69.521739</td>\n",
       "      <td>63.217391</td>\n",
       "      <td>6.304348</td>\n",
       "      <td>24.869565</td>\n",
       "      <td>23.913043</td>\n",
       "      <td>58.434783</td>\n",
       "      <td>58.260870</td>\n",
       "      <td>6.217391</td>\n",
       "      <td>...</td>\n",
       "      <td>8.478261</td>\n",
       "      <td>8.478261</td>\n",
       "      <td>3.695652</td>\n",
       "      <td>3.217391</td>\n",
       "      <td>17.478261</td>\n",
       "      <td>19.173913</td>\n",
       "      <td>0.0</td>\n",
       "      <td>0.107970</td>\n",
       "      <td>NaN</td>\n",
       "      <td>NaN</td>\n",
       "    </tr>\n",
       "  </tbody>\n",
       "</table>\n",
       "<p>5 rows × 45 columns</p>\n",
       "</div>"
      ],
      "text/plain": [
       "      Season  T1_TeamID  T1_Scoremean  T2_Scoremean  PointDiffmean  \\\n",
       "9298    2019       3462     60.862069     66.482759      -5.620690   \n",
       "9299    2019       3463     63.344828     61.551724       1.793103   \n",
       "9300    2019       3464     68.137931     58.000000      10.137931   \n",
       "9301    2019       3465     76.200000     69.840000       6.360000   \n",
       "9302    2019       3466     69.521739     63.217391       6.304348   \n",
       "\n",
       "      T1_FGMmean  T2_FGMmean  T1_FGAmean  T2_FGAmean  T1_FGM3mean  ...  \\\n",
       "9298   21.896552   24.448276   57.517241   59.758621     7.862069  ...   \n",
       "9299   23.724138   21.965517   60.517241   60.379310     5.551724  ...   \n",
       "9300   23.241379   21.862069   55.758621   58.655172     8.620690  ...   \n",
       "9301   28.560000   26.600000   67.520000   69.200000     9.160000  ...   \n",
       "9302   24.869565   23.913043   58.434783   58.260870     6.217391  ...   \n",
       "\n",
       "      T1_Stlmean  T2_Stlmean  T1_Blkmean  T2_Blkmean  T1_PFmean  T2_PFmean  \\\n",
       "9298    7.586207    7.758621    2.586207    3.172414  15.241379  15.172414   \n",
       "9299    5.172414    8.344828    3.586207    2.517241  16.448276  17.551724   \n",
       "9300    4.344828    7.448276    3.482759    3.482759  13.862069  17.896552   \n",
       "9301    7.280000    7.920000    3.160000    3.160000  15.520000  15.440000   \n",
       "9302    8.478261    8.478261    3.695652    3.217391  17.478261  19.173913   \n",
       "\n",
       "      T1_win_ratio_14d  T1_quality  T1_seed  T1_OrdinalRank  \n",
       "9298               0.0   -0.296941      NaN             NaN  \n",
       "9299               0.0    0.134368      NaN             NaN  \n",
       "9300               0.5    0.638405      NaN             NaN  \n",
       "9301               0.5   -0.182555      NaN             NaN  \n",
       "9302               0.0    0.107970      NaN             NaN  \n",
       "\n",
       "[5 rows x 45 columns]"
      ]
     },
     "execution_count": 9,
     "metadata": {},
     "output_type": "execute_result"
    }
   ],
   "source": [
    "features = FEATURES.cal_mean_boxscore\n",
    "boxscore_cols = [col for col, use in features.items() if use]\n",
    "print(\"use boxscore col is\")\n",
    "print(boxscore_cols)\n",
    "\n",
    "season_statistics = make_season_statistics(regular_data, boxscore_cols, seeds, func = [np.mean])\n",
    "season_statistics.tail()"
   ]
  },
  {
   "cell_type": "code",
   "execution_count": 10,
   "id": "fbdc30a4",
   "metadata": {
    "execution": {
     "iopub.execute_input": "2025-03-13T04:40:45.198149Z",
     "iopub.status.busy": "2025-03-13T04:40:45.197142Z",
     "iopub.status.idle": "2025-03-13T04:40:45.204770Z",
     "shell.execute_reply": "2025-03-13T04:40:45.204770Z"
    },
    "papermill": {
     "duration": 0.017616,
     "end_time": "2025-03-13T04:40:45.206907",
     "exception": false,
     "start_time": "2025-03-13T04:40:45.189291",
     "status": "completed"
    },
    "tags": []
   },
   "outputs": [
    {
     "name": "stdout",
     "output_type": "stream",
     "text": [
      "<class 'pandas.core.frame.DataFrame'>\n",
      "RangeIndex: 9303 entries, 0 to 9302\n",
      "Data columns (total 45 columns):\n",
      " #   Column            Non-Null Count  Dtype  \n",
      "---  ------            --------------  -----  \n",
      " 0   Season            9303 non-null   int64  \n",
      " 1   T1_TeamID         9303 non-null   int64  \n",
      " 2   T1_Scoremean      9303 non-null   float64\n",
      " 3   T2_Scoremean      9303 non-null   float64\n",
      " 4   PointDiffmean     9303 non-null   float64\n",
      " 5   T1_FGMmean        9303 non-null   float64\n",
      " 6   T2_FGMmean        9303 non-null   float64\n",
      " 7   T1_FGAmean        9303 non-null   float64\n",
      " 8   T2_FGAmean        9303 non-null   float64\n",
      " 9   T1_FGM3mean       9303 non-null   float64\n",
      " 10  T2_FGM3mean       9303 non-null   float64\n",
      " 11  T1_FGA3mean       9303 non-null   float64\n",
      " 12  T2_FGA3mean       9303 non-null   float64\n",
      " 13  T1_FTMmean        9303 non-null   float64\n",
      " 14  T2_FTMmean        9303 non-null   float64\n",
      " 15  T1_FTAmean        9303 non-null   float64\n",
      " 16  T2_FTAmean        9303 non-null   float64\n",
      " 17  T1_EFG_SUMmean    9303 non-null   float64\n",
      " 18  T2_EFG_SUMmean    9303 non-null   float64\n",
      " 19  T1_TO_RATIOmean   9303 non-null   float64\n",
      " 20  T2_TO_RATIOmean   9303 non-null   float64\n",
      " 21  T1_ORmean         9303 non-null   float64\n",
      " 22  T2_ORmean         9303 non-null   float64\n",
      " 23  T1_DRmean         9303 non-null   float64\n",
      " 24  T2_DRmean         9303 non-null   float64\n",
      " 25  T1_REB_RATEmean   9303 non-null   float64\n",
      " 26  T2_REB_RATEmean   9303 non-null   float64\n",
      " 27  T1_FT_RATEmean    9303 non-null   float64\n",
      " 28  T2_FT_RATEmean    9303 non-null   float64\n",
      " 29  T1_POSS_RATEmean  9303 non-null   float64\n",
      " 30  T2_POSS_RATEmean  9303 non-null   float64\n",
      " 31  T1_Astmean        9303 non-null   float64\n",
      " 32  T2_Astmean        9303 non-null   float64\n",
      " 33  T1_TOmean         9303 non-null   float64\n",
      " 34  T2_TOmean         9303 non-null   float64\n",
      " 35  T1_Stlmean        9303 non-null   float64\n",
      " 36  T2_Stlmean        9303 non-null   float64\n",
      " 37  T1_Blkmean        9303 non-null   float64\n",
      " 38  T2_Blkmean        9303 non-null   float64\n",
      " 39  T1_PFmean         9303 non-null   float64\n",
      " 40  T2_PFmean         9303 non-null   float64\n",
      " 41  T1_win_ratio_14d  9000 non-null   float64\n",
      " 42  T1_quality        9303 non-null   float64\n",
      " 43  T1_seed           1772 non-null   float64\n",
      " 44  T1_OrdinalRank    5834 non-null   float64\n",
      "dtypes: float64(43), int64(2)\n",
      "memory usage: 3.2 MB\n"
     ]
    }
   ],
   "source": [
    "season_statistics.info()"
   ]
  },
  {
   "cell_type": "code",
   "execution_count": 11,
   "id": "d98e45c3",
   "metadata": {
    "execution": {
     "iopub.execute_input": "2025-03-13T04:40:45.215947Z",
     "iopub.status.busy": "2025-03-13T04:40:45.215947Z",
     "iopub.status.idle": "2025-03-13T04:40:45.259977Z",
     "shell.execute_reply": "2025-03-13T04:40:45.259460Z"
    },
    "papermill": {
     "duration": 0.04604,
     "end_time": "2025-03-13T04:40:45.261987",
     "exception": false,
     "start_time": "2025-03-13T04:40:45.215947",
     "status": "completed"
    },
    "tags": []
   },
   "outputs": [],
   "source": [
    "####ボックスscoreの平均に対して、過去３年の加重平均を取るときの処理 ####\n",
    "def get_mean_of_3_season(val_2ps, val_1ps, val_0ps, \n",
    "                         weight_2, weight_1, weight_0, \n",
    "                         degree_weight=1.0\n",
    "                         ):\n",
    "    weight_2 = weight_2**degree_weight\n",
    "    weight_1 = weight_1**degree_weight\n",
    "    weight_0 = weight_0**degree_weight\n",
    "    if val_2ps == 0  and val_1ps == 0:\n",
    "        return val_0ps\n",
    "    elif val_2ps == 0:\n",
    "        return (val_1ps*weight_2 + val_0ps*weight_1)/(weight_2 + weight_1)\n",
    "    else:\n",
    "        sum_of_values = val_2ps*weight_2 + val_1ps*weight_1 + val_0ps*weight_0\n",
    "        return sum_of_values/(weight_2 + weight_1 + weight_0)\n",
    "\n",
    "def get_3_feature(df_team, feature):\n",
    "    value_2_seasons_ago = 0\n",
    "    value_1_season_ago = 0\n",
    "    value_0_season_ago = 0\n",
    "    for _, val in df_team.iterrows():\n",
    "        value_2_seasons_ago = value_1_season_ago\n",
    "        value_1_season_ago = value_0_season_ago\n",
    "        value_0_season_ago = val[feature]\n",
    "    return value_2_seasons_ago, value_1_season_ago, value_0_season_ago\n",
    "\n",
    "def write_mean_of_3_seasons(df, features, weight, degree_weight=1.0):\n",
    "    \"\"\"\n",
    "    val_0ps - current season value\n",
    "    weight_0 - current season weight\n",
    "    val_1ps - last season value\n",
    "    val_2ps - the value of the season before last\n",
    "    \"\"\"\n",
    "    weight_2=weight[0]\n",
    "    weight_1=weight[1]\n",
    "    weight_0=weight[2]\n",
    "    df_copy = df.copy()\n",
    "    suffix = \"_mn3s\"\n",
    "    \n",
    "    for ft in features:\n",
    "        df_copy[ft + suffix] = 0\n",
    "    for idx, val in tqdm(df_copy.iterrows(), total=len(df_copy)):\n",
    "        team = val.T1_TeamID\n",
    "        season = val.Season\n",
    "        df_team = df_copy[(df_copy.T1_TeamID == team)&\n",
    "                          (df_copy.Season <= season)&\n",
    "                          (df_copy.Season > season-3)]\n",
    "        for ft in features:\n",
    "            val_2ps, val_1ps, val_0ps = get_3_feature(df_team, ft)\n",
    "            ft_mean_3 = get_mean_of_3_season(val_2ps, val_1ps, val_0ps, weight_2, weight_1, weight_0, degree_weight=degree_weight)\n",
    "            df_copy.loc[idx, ft + suffix] = ft_mean_3\n",
    "    return df_copy"
   ]
  },
  {
   "cell_type": "code",
   "execution_count": 12,
   "id": "c9ce96a8",
   "metadata": {
    "execution": {
     "iopub.execute_input": "2025-03-13T04:40:45.275984Z",
     "iopub.status.busy": "2025-03-13T04:40:45.275984Z",
     "iopub.status.idle": "2025-03-13T04:40:45.302580Z",
     "shell.execute_reply": "2025-03-13T04:40:45.302580Z"
    },
    "papermill": {
     "duration": 0.034484,
     "end_time": "2025-03-13T04:40:45.302580",
     "exception": false,
     "start_time": "2025-03-13T04:40:45.268096",
     "status": "completed"
    },
    "tags": []
   },
   "outputs": [
    {
     "name": "stdout",
     "output_type": "stream",
     "text": [
      "#####\n",
      "skip 3 season verage\n",
      "#####\n"
     ]
    },
    {
     "data": {
      "text/html": [
       "<div>\n",
       "<style scoped>\n",
       "    .dataframe tbody tr th:only-of-type {\n",
       "        vertical-align: middle;\n",
       "    }\n",
       "\n",
       "    .dataframe tbody tr th {\n",
       "        vertical-align: top;\n",
       "    }\n",
       "\n",
       "    .dataframe thead th {\n",
       "        text-align: right;\n",
       "    }\n",
       "</style>\n",
       "<table border=\"1\" class=\"dataframe\">\n",
       "  <thead>\n",
       "    <tr style=\"text-align: right;\">\n",
       "      <th></th>\n",
       "      <th>Season</th>\n",
       "      <th>T1_TeamID</th>\n",
       "      <th>T1_Scoremean</th>\n",
       "      <th>T1_opponent_Scoremean</th>\n",
       "      <th>T1_PointDiffmean</th>\n",
       "      <th>T1_FGMmean</th>\n",
       "      <th>T1_opponent_FGMmean</th>\n",
       "      <th>T1_FGAmean</th>\n",
       "      <th>T1_opponent_FGAmean</th>\n",
       "      <th>T1_FGM3mean</th>\n",
       "      <th>...</th>\n",
       "      <th>T1_Stlmean</th>\n",
       "      <th>T1_opponent_Stlmean</th>\n",
       "      <th>T1_Blkmean</th>\n",
       "      <th>T1_opponent_Blkmean</th>\n",
       "      <th>T1_PFmean</th>\n",
       "      <th>T1_opponent_PFmean</th>\n",
       "      <th>T1_win_ratio_14d</th>\n",
       "      <th>T1_quality</th>\n",
       "      <th>T1_seed</th>\n",
       "      <th>T1_OrdinalRank</th>\n",
       "    </tr>\n",
       "  </thead>\n",
       "  <tbody>\n",
       "    <tr>\n",
       "      <th>0</th>\n",
       "      <td>2003</td>\n",
       "      <td>1102</td>\n",
       "      <td>57.250000</td>\n",
       "      <td>57.000000</td>\n",
       "      <td>0.25000</td>\n",
       "      <td>19.142857</td>\n",
       "      <td>19.285714</td>\n",
       "      <td>39.785714</td>\n",
       "      <td>42.428571</td>\n",
       "      <td>7.821429</td>\n",
       "      <td>...</td>\n",
       "      <td>5.964286</td>\n",
       "      <td>5.428571</td>\n",
       "      <td>1.785714</td>\n",
       "      <td>1.571429</td>\n",
       "      <td>18.750000</td>\n",
       "      <td>18.357143</td>\n",
       "      <td>0.333333</td>\n",
       "      <td>-0.070776</td>\n",
       "      <td>NaN</td>\n",
       "      <td>144.2875</td>\n",
       "    </tr>\n",
       "    <tr>\n",
       "      <th>1</th>\n",
       "      <td>2003</td>\n",
       "      <td>1103</td>\n",
       "      <td>78.777778</td>\n",
       "      <td>78.148148</td>\n",
       "      <td>0.62963</td>\n",
       "      <td>27.148148</td>\n",
       "      <td>27.777778</td>\n",
       "      <td>55.851852</td>\n",
       "      <td>57.000000</td>\n",
       "      <td>5.444444</td>\n",
       "      <td>...</td>\n",
       "      <td>7.259259</td>\n",
       "      <td>6.407407</td>\n",
       "      <td>2.333333</td>\n",
       "      <td>2.851852</td>\n",
       "      <td>19.851852</td>\n",
       "      <td>22.444444</td>\n",
       "      <td>0.333333</td>\n",
       "      <td>-0.116192</td>\n",
       "      <td>NaN</td>\n",
       "      <td>182.2050</td>\n",
       "    </tr>\n",
       "  </tbody>\n",
       "</table>\n",
       "<p>2 rows × 45 columns</p>\n",
       "</div>"
      ],
      "text/plain": [
       "   Season  T1_TeamID  T1_Scoremean  T1_opponent_Scoremean  T1_PointDiffmean  \\\n",
       "0    2003       1102     57.250000              57.000000           0.25000   \n",
       "1    2003       1103     78.777778              78.148148           0.62963   \n",
       "\n",
       "   T1_FGMmean  T1_opponent_FGMmean  T1_FGAmean  T1_opponent_FGAmean  \\\n",
       "0   19.142857            19.285714   39.785714            42.428571   \n",
       "1   27.148148            27.777778   55.851852            57.000000   \n",
       "\n",
       "   T1_FGM3mean  ...  T1_Stlmean  T1_opponent_Stlmean  T1_Blkmean  \\\n",
       "0     7.821429  ...    5.964286             5.428571    1.785714   \n",
       "1     5.444444  ...    7.259259             6.407407    2.333333   \n",
       "\n",
       "   T1_opponent_Blkmean  T1_PFmean  T1_opponent_PFmean  T1_win_ratio_14d  \\\n",
       "0             1.571429  18.750000           18.357143          0.333333   \n",
       "1             2.851852  19.851852           22.444444          0.333333   \n",
       "\n",
       "   T1_quality  T1_seed  T1_OrdinalRank  \n",
       "0   -0.070776      NaN        144.2875  \n",
       "1   -0.116192      NaN        182.2050  \n",
       "\n",
       "[2 rows x 45 columns]"
      ]
     },
     "metadata": {},
     "output_type": "display_data"
    },
    {
     "data": {
      "text/html": [
       "<div>\n",
       "<style scoped>\n",
       "    .dataframe tbody tr th:only-of-type {\n",
       "        vertical-align: middle;\n",
       "    }\n",
       "\n",
       "    .dataframe tbody tr th {\n",
       "        vertical-align: top;\n",
       "    }\n",
       "\n",
       "    .dataframe thead th {\n",
       "        text-align: right;\n",
       "    }\n",
       "</style>\n",
       "<table border=\"1\" class=\"dataframe\">\n",
       "  <thead>\n",
       "    <tr style=\"text-align: right;\">\n",
       "      <th></th>\n",
       "      <th>Season</th>\n",
       "      <th>T2_TeamID</th>\n",
       "      <th>T2_Scoremean</th>\n",
       "      <th>T2_opponent_Scoremean</th>\n",
       "      <th>T2_PointDiffmean</th>\n",
       "      <th>T2_FGMmean</th>\n",
       "      <th>T2_opponent_FGMmean</th>\n",
       "      <th>T2_FGAmean</th>\n",
       "      <th>T2_opponent_FGAmean</th>\n",
       "      <th>T2_FGM3mean</th>\n",
       "      <th>...</th>\n",
       "      <th>T2_Stlmean</th>\n",
       "      <th>T2_opponent_Stlmean</th>\n",
       "      <th>T2_Blkmean</th>\n",
       "      <th>T2_opponent_Blkmean</th>\n",
       "      <th>T2_PFmean</th>\n",
       "      <th>T2_opponent_PFmean</th>\n",
       "      <th>T2_win_ratio_14d</th>\n",
       "      <th>T2_quality</th>\n",
       "      <th>T2_seed</th>\n",
       "      <th>T2_OrdinalRank</th>\n",
       "    </tr>\n",
       "  </thead>\n",
       "  <tbody>\n",
       "    <tr>\n",
       "      <th>9301</th>\n",
       "      <td>2019</td>\n",
       "      <td>3465</td>\n",
       "      <td>76.200000</td>\n",
       "      <td>69.840000</td>\n",
       "      <td>6.360000</td>\n",
       "      <td>28.560000</td>\n",
       "      <td>26.600000</td>\n",
       "      <td>67.520000</td>\n",
       "      <td>69.20000</td>\n",
       "      <td>9.160000</td>\n",
       "      <td>...</td>\n",
       "      <td>7.280000</td>\n",
       "      <td>7.920000</td>\n",
       "      <td>3.160000</td>\n",
       "      <td>3.160000</td>\n",
       "      <td>15.520000</td>\n",
       "      <td>15.440000</td>\n",
       "      <td>0.5</td>\n",
       "      <td>-0.182555</td>\n",
       "      <td>NaN</td>\n",
       "      <td>NaN</td>\n",
       "    </tr>\n",
       "    <tr>\n",
       "      <th>9302</th>\n",
       "      <td>2019</td>\n",
       "      <td>3466</td>\n",
       "      <td>69.521739</td>\n",
       "      <td>63.217391</td>\n",
       "      <td>6.304348</td>\n",
       "      <td>24.869565</td>\n",
       "      <td>23.913043</td>\n",
       "      <td>58.434783</td>\n",
       "      <td>58.26087</td>\n",
       "      <td>6.217391</td>\n",
       "      <td>...</td>\n",
       "      <td>8.478261</td>\n",
       "      <td>8.478261</td>\n",
       "      <td>3.695652</td>\n",
       "      <td>3.217391</td>\n",
       "      <td>17.478261</td>\n",
       "      <td>19.173913</td>\n",
       "      <td>0.0</td>\n",
       "      <td>0.107970</td>\n",
       "      <td>NaN</td>\n",
       "      <td>NaN</td>\n",
       "    </tr>\n",
       "  </tbody>\n",
       "</table>\n",
       "<p>2 rows × 45 columns</p>\n",
       "</div>"
      ],
      "text/plain": [
       "      Season  T2_TeamID  T2_Scoremean  T2_opponent_Scoremean  \\\n",
       "9301    2019       3465     76.200000              69.840000   \n",
       "9302    2019       3466     69.521739              63.217391   \n",
       "\n",
       "      T2_PointDiffmean  T2_FGMmean  T2_opponent_FGMmean  T2_FGAmean  \\\n",
       "9301          6.360000   28.560000            26.600000   67.520000   \n",
       "9302          6.304348   24.869565            23.913043   58.434783   \n",
       "\n",
       "      T2_opponent_FGAmean  T2_FGM3mean  ...  T2_Stlmean  T2_opponent_Stlmean  \\\n",
       "9301             69.20000     9.160000  ...    7.280000             7.920000   \n",
       "9302             58.26087     6.217391  ...    8.478261             8.478261   \n",
       "\n",
       "      T2_Blkmean  T2_opponent_Blkmean  T2_PFmean  T2_opponent_PFmean  \\\n",
       "9301    3.160000             3.160000  15.520000           15.440000   \n",
       "9302    3.695652             3.217391  17.478261           19.173913   \n",
       "\n",
       "      T2_win_ratio_14d  T2_quality  T2_seed  T2_OrdinalRank  \n",
       "9301               0.5   -0.182555      NaN             NaN  \n",
       "9302               0.0    0.107970      NaN             NaN  \n",
       "\n",
       "[2 rows x 45 columns]"
      ]
     },
     "metadata": {},
     "output_type": "display_data"
    }
   ],
   "source": [
    "flag_3season_avg = FEATURES.season_average.enabled\n",
    "\n",
    "#trueのときの処理理解してfalseと一致させる\n",
    "if flag_3season_avg:\n",
    "    print(\"#####\")\n",
    "    print(\"use 3 season average\")\n",
    "    print(\"#####\")\n",
    "    weight = FEATURES.season_average.weights\n",
    "    years = FEATURES.season_average.past_years\n",
    "    assert years==len(weight)\n",
    "    \n",
    "    features_for_calc = [\"T1_Scoremean\", \"T1_FGAmean\",  \"T1_FGA3mean\"]\n",
    "    season_statistics_with_3_seas = write_mean_of_3_seasons(\n",
    "        season_statistics, features_for_calc, weight, degree_weight=1.0\n",
    "    )\n",
    "    \n",
    "    season_statistics_T1 = season_statistics_with_3_seas.copy()\n",
    "    season_statistics_T2 = season_statistics_with_3_seas.copy()\n",
    "    \n",
    "else:\n",
    "    print(\"#####\")\n",
    "    print(\"skip 3 season verage\")\n",
    "    print(\"#####\")\n",
    "    season_statistics_T1 = season_statistics.copy()\n",
    "    season_statistics_T2 = season_statistics.copy()\n",
    "\n",
    "season_statistics_T1.columns = [\"T1_\" + x.replace(\"T1_\",\"\").replace(\"T2_\",\"opponent_\") for x in list(season_statistics_T1.columns)]\n",
    "season_statistics_T2.columns = [\"T2_\" + x.replace(\"T1_\",\"\").replace(\"T2_\",\"opponent_\") for x in list(season_statistics_T2.columns)]\n",
    "season_statistics_T1.columns.values[0] = \"Season\"\n",
    "season_statistics_T2.columns.values[0] = \"Season\"\n",
    "\n",
    "\n",
    "season_statistics_T2.rename(columns = {\n",
    "    \"T1_TeamID\": \"T2_TeamID\"\n",
    "}, inplace=True)\n",
    "display(season_statistics_T1.head(2), season_statistics_T2.tail(2))"
   ]
  },
  {
   "cell_type": "markdown",
   "id": "c3b90833",
   "metadata": {
    "papermill": {
     "duration": 0.010556,
     "end_time": "2025-03-13T04:40:45.313136",
     "exception": false,
     "start_time": "2025-03-13T04:40:45.302580",
     "status": "completed"
    },
    "tags": []
   },
   "source": [
    "# Toureney dataの処理\n",
    "1. pointdiff, pointが目的変数となるのでそれはyに分離\n",
    "2. seasonstatisticを結合したものをXとして作る"
   ]
  },
  {
   "cell_type": "code",
   "execution_count": 13,
   "id": "5c29a246",
   "metadata": {
    "execution": {
     "iopub.execute_input": "2025-03-13T04:40:45.344366Z",
     "iopub.status.busy": "2025-03-13T04:40:45.344366Z",
     "iopub.status.idle": "2025-03-13T04:40:45.353402Z",
     "shell.execute_reply": "2025-03-13T04:40:45.353402Z"
    },
    "papermill": {
     "duration": 0.042297,
     "end_time": "2025-03-13T04:40:45.355433",
     "exception": false,
     "start_time": "2025-03-13T04:40:45.313136",
     "status": "completed"
    },
    "tags": []
   },
   "outputs": [],
   "source": [
    "\n",
    "def process_tourney(df1, mode=\"tourney\"):\n",
    "    #Season, teamid ->X, team_score->y\n",
    "    df = df1.copy()\n",
    "    if mode==\"tourney\":\n",
    "        df = prepare_data(df) \n",
    "        y = df[\"T1_Score\"]-df[\"T2_Score\"]\n",
    "    X = df[['Season', 'T1_TeamID', 'T2_TeamID']]\n",
    "    X = pd.merge(X, season_statistics_T1, on = ['Season', 'T1_TeamID'], how = 'left')\n",
    "    X = pd.merge(X, season_statistics_T2, on = ['Season', 'T2_TeamID'], how = 'left')\n",
    "    \n",
    "    #seed->seed diff\n",
    "    X[\"seed_diff\"] = X[\"T1_seed\"] - X[\"T2_seed\"]\n",
    "    #rank->rank diff\n",
    "    X[\"rank_diff\"] = X[\"T1_OrdinalRank\"] - X[\"T2_OrdinalRank\"]\n",
    "    #quality->quality diff\n",
    "    X[\"quality_diff\"] = X[\"T1_quality\"] - X[\"T2_quality\"]\n",
    "    #win_ratio_14d -> win_raio_14d_diff\n",
    "    X[\"win_ratio_14d_diff\"] = X[\"T1_win_ratio_14d\"] - X[\"T2_win_ratio_14d\"]\n",
    "    #tourney_data.drop(columns=[\"T1_seed\", \"T2_seed\"], inplace=True)\n",
    "\n",
    "    X = X.drop(columns=[\"T1_seed\", \"T2_seed\", \"T1_OrdinalRank\", \"T2_OrdinalRank\", \n",
    "                        \"T1_quality\", \"T2_quality\", \"T1_win_ratio_14d\", \"T2_win_ratio_14d\"\n",
    "                        ])\n",
    "\n",
    "    # if rank_diff is False, drop.\n",
    "    IS_RANKDIFF = FEATURES.rank_diff\n",
    "    if not IS_RANKDIFF:\n",
    "        X = X.drop(columns=[\"rank_diff\"])\n",
    "        print(\"drop rank_diff\")\n",
    "    \n",
    "    # if fillna is true-> run fillna()\n",
    "    FILLNA = FEATURES.fillna.quality\n",
    "    if FILLNA==\"nan\":\n",
    "        print(f\"no fillna, use nan\")\n",
    "        X[\"quality_diff\"] = X[\"quality_diff\"].fillna(np.nan)\n",
    "    else:\n",
    "        print(f\"fillna quality feature for {FILLNA}\")\n",
    "        X[\"quality_diff\"] = X[\"quality_diff\"].fillna(FILLNA)\n",
    "\n",
    "        \n",
    "    return X, y if mode==\"tourney\" else X"
   ]
  },
  {
   "cell_type": "code",
   "execution_count": 14,
   "id": "386a614e",
   "metadata": {
    "execution": {
     "iopub.execute_input": "2025-03-13T04:40:45.371430Z",
     "iopub.status.busy": "2025-03-13T04:40:45.371430Z",
     "iopub.status.idle": "2025-03-13T04:40:45.404962Z",
     "shell.execute_reply": "2025-03-13T04:40:45.404962Z"
    },
    "papermill": {
     "duration": 0.042531,
     "end_time": "2025-03-13T04:40:45.404962",
     "exception": false,
     "start_time": "2025-03-13T04:40:45.362431",
     "status": "completed"
    },
    "tags": []
   },
   "outputs": [
    {
     "name": "stdout",
     "output_type": "stream",
     "text": [
      "<class 'pandas.core.frame.DataFrame'>\n",
      "Index: 1615 entries, 0 to 1948\n",
      "Data columns (total 56 columns):\n",
      " #   Column       Non-Null Count  Dtype  \n",
      "---  ------       --------------  -----  \n",
      " 0   Season       1615 non-null   int64  \n",
      " 1   DayNum       1615 non-null   int64  \n",
      " 2   WTeamID      1615 non-null   int64  \n",
      " 3   WScore       1615 non-null   int64  \n",
      " 4   LTeamID      1615 non-null   int64  \n",
      " 5   LScore       1615 non-null   int64  \n",
      " 6   WLoc         1615 non-null   object \n",
      " 7   NumOT        1615 non-null   int64  \n",
      " 8   WFGM         1615 non-null   int64  \n",
      " 9   WFGA         1615 non-null   int64  \n",
      " 10  WFGM3        1615 non-null   int64  \n",
      " 11  WFGA3        1615 non-null   int64  \n",
      " 12  WFTM         1615 non-null   int64  \n",
      " 13  WFTA         1615 non-null   int64  \n",
      " 14  WOR          1615 non-null   int64  \n",
      " 15  WDR          1615 non-null   int64  \n",
      " 16  WAst         1615 non-null   int64  \n",
      " 17  WTO          1615 non-null   int64  \n",
      " 18  WStl         1615 non-null   int64  \n",
      " 19  WBlk         1615 non-null   int64  \n",
      " 20  WPF          1615 non-null   int64  \n",
      " 21  LFGM         1615 non-null   int64  \n",
      " 22  LFGA         1615 non-null   int64  \n",
      " 23  LFGM3        1615 non-null   int64  \n",
      " 24  LFGA3        1615 non-null   int64  \n",
      " 25  LFTM         1615 non-null   int64  \n",
      " 26  LFTA         1615 non-null   int64  \n",
      " 27  LOR          1615 non-null   int64  \n",
      " 28  LDR          1615 non-null   int64  \n",
      " 29  LAst         1615 non-null   int64  \n",
      " 30  LTO          1615 non-null   int64  \n",
      " 31  LStl         1615 non-null   int64  \n",
      " 32  LBlk         1615 non-null   int64  \n",
      " 33  LPF          1615 non-null   int64  \n",
      " 34  WEFFG        1615 non-null   float64\n",
      " 35  LEFFG        1615 non-null   float64\n",
      " 36  WEFFG3       1615 non-null   float64\n",
      " 37  LEFFG3       1615 non-null   float64\n",
      " 38  WDARE        1615 non-null   float64\n",
      " 39  LDARE        1615 non-null   float64\n",
      " 40  WTOQUETOQUE  1615 non-null   float64\n",
      " 41  LTOQUETOQUE  1615 non-null   float64\n",
      " 42  WEFG_SUM     1615 non-null   float64\n",
      " 43  LEFG_SUM     1615 non-null   float64\n",
      " 44  WPOSS        1615 non-null   float64\n",
      " 45  LPOSS        1615 non-null   float64\n",
      " 46  WPOSS_RATE   1615 non-null   float64\n",
      " 47  LPOSS_RATE   1615 non-null   float64\n",
      " 48  WTO_RATIO    1615 non-null   float64\n",
      " 49  LTO_RATIO    1615 non-null   float64\n",
      " 50  WREB_RATE    1615 non-null   float64\n",
      " 51  LREB_RATE    1615 non-null   float64\n",
      " 52  WFT_RATE     1615 non-null   float64\n",
      " 53  LFT_RATE     1615 non-null   float64\n",
      " 54  WRATING      1615 non-null   float64\n",
      " 55  LRATING      1615 non-null   float64\n",
      "dtypes: float64(22), int64(33), object(1)\n",
      "memory usage: 719.2+ KB\n",
      "None\n",
      "feature cols after prepare()\n",
      "Index(['Season', 'DayNum', 'T1_TeamID', 'T1_Score', 'T2_TeamID', 'T2_Score',\n",
      "       'location', 'NumOT', 'T1_FGM', 'T1_FGA', 'T1_FGM3', 'T1_FGA3', 'T1_FTM',\n",
      "       'T1_FTA', 'T1_OR', 'T1_DR', 'T1_Ast', 'T1_TO', 'T1_Stl', 'T1_Blk',\n",
      "       'T1_PF', 'T2_FGM', 'T2_FGA', 'T2_FGM3', 'T2_FGA3', 'T2_FTM', 'T2_FTA',\n",
      "       'T2_OR', 'T2_DR', 'T2_Ast', 'T2_TO', 'T2_Stl', 'T2_Blk', 'T2_PF',\n",
      "       'T1_EFFG', 'T2_EFFG', 'T1_EFFG3', 'T2_EFFG3', 'T1_DARE', 'T2_DARE',\n",
      "       'T1_TOQUETOQUE', 'T2_TOQUETOQUE', 'T1_EFG_SUM', 'T2_EFG_SUM', 'T1_POSS',\n",
      "       'T2_POSS', 'T1_POSS_RATE', 'T2_POSS_RATE', 'T1_TO_RATIO', 'T2_TO_RATIO',\n",
      "       'T1_REB_RATE', 'T2_REB_RATE', 'T1_FT_RATE', 'T2_FT_RATE', 'T1_RATING',\n",
      "       'T2_RATING', 'PointDiff', 'win'],\n",
      "      dtype='object')\n",
      "drop rank_diff\n",
      "no fillna, use nan\n"
     ]
    }
   ],
   "source": [
    "X, y = process_tourney(tourney_results)"
   ]
  },
  {
   "cell_type": "code",
   "execution_count": 15,
   "id": "da39f5e6",
   "metadata": {
    "execution": {
     "iopub.execute_input": "2025-03-13T04:40:45.413151Z",
     "iopub.status.busy": "2025-03-13T04:40:45.413151Z",
     "iopub.status.idle": "2025-03-13T04:40:45.431562Z",
     "shell.execute_reply": "2025-03-13T04:40:45.431562Z"
    },
    "papermill": {
     "duration": 0.025427,
     "end_time": "2025-03-13T04:40:45.438578",
     "exception": false,
     "start_time": "2025-03-13T04:40:45.413151",
     "status": "completed"
    },
    "tags": []
   },
   "outputs": [
    {
     "name": "stdout",
     "output_type": "stream",
     "text": [
      "最終的な X の特徴量\n",
      "Index(['Season', 'T1_TeamID', 'T2_TeamID', 'T1_Scoremean',\n",
      "       'T1_opponent_Scoremean', 'T1_PointDiffmean', 'T1_FGMmean',\n",
      "       'T1_opponent_FGMmean', 'T1_FGAmean', 'T1_opponent_FGAmean',\n",
      "       'T1_FGM3mean', 'T1_opponent_FGM3mean', 'T1_FGA3mean',\n",
      "       'T1_opponent_FGA3mean', 'T1_FTMmean', 'T1_opponent_FTMmean',\n",
      "       'T1_FTAmean', 'T1_opponent_FTAmean', 'T1_EFG_SUMmean',\n",
      "       'T1_opponent_EFG_SUMmean', 'T1_TO_RATIOmean',\n",
      "       'T1_opponent_TO_RATIOmean', 'T1_ORmean', 'T1_opponent_ORmean',\n",
      "       'T1_DRmean', 'T1_opponent_DRmean', 'T1_REB_RATEmean',\n",
      "       'T1_opponent_REB_RATEmean', 'T1_FT_RATEmean', 'T1_opponent_FT_RATEmean',\n",
      "       'T1_POSS_RATEmean', 'T1_opponent_POSS_RATEmean', 'T1_Astmean',\n",
      "       'T1_opponent_Astmean', 'T1_TOmean', 'T1_opponent_TOmean', 'T1_Stlmean',\n",
      "       'T1_opponent_Stlmean', 'T1_Blkmean', 'T1_opponent_Blkmean', 'T1_PFmean',\n",
      "       'T1_opponent_PFmean', 'T2_Scoremean', 'T2_opponent_Scoremean',\n",
      "       'T2_PointDiffmean', 'T2_FGMmean', 'T2_opponent_FGMmean', 'T2_FGAmean',\n",
      "       'T2_opponent_FGAmean', 'T2_FGM3mean', 'T2_opponent_FGM3mean',\n",
      "       'T2_FGA3mean', 'T2_opponent_FGA3mean', 'T2_FTMmean',\n",
      "       'T2_opponent_FTMmean', 'T2_FTAmean', 'T2_opponent_FTAmean',\n",
      "       'T2_EFG_SUMmean', 'T2_opponent_EFG_SUMmean', 'T2_TO_RATIOmean',\n",
      "       'T2_opponent_TO_RATIOmean', 'T2_ORmean', 'T2_opponent_ORmean',\n",
      "       'T2_DRmean', 'T2_opponent_DRmean', 'T2_REB_RATEmean',\n",
      "       'T2_opponent_REB_RATEmean', 'T2_FT_RATEmean', 'T2_opponent_FT_RATEmean',\n",
      "       'T2_POSS_RATEmean', 'T2_opponent_POSS_RATEmean', 'T2_Astmean',\n",
      "       'T2_opponent_Astmean', 'T2_TOmean', 'T2_opponent_TOmean', 'T2_Stlmean',\n",
      "       'T2_opponent_Stlmean', 'T2_Blkmean', 'T2_opponent_Blkmean', 'T2_PFmean',\n",
      "       'T2_opponent_PFmean', 'seed_diff', 'quality_diff',\n",
      "       'win_ratio_14d_diff'],\n",
      "      dtype='object')\n"
     ]
    }
   ],
   "source": [
    "print(\"最終的な X の特徴量\")\n",
    "print(X.columns)"
   ]
  },
  {
   "cell_type": "code",
   "execution_count": 16,
   "id": "5e762826",
   "metadata": {
    "execution": {
     "iopub.execute_input": "2025-03-13T04:40:45.464570Z",
     "iopub.status.busy": "2025-03-13T04:40:45.464570Z",
     "iopub.status.idle": "2025-03-13T04:40:45.472694Z",
     "shell.execute_reply": "2025-03-13T04:40:45.472694Z"
    },
    "papermill": {
     "duration": 0.019734,
     "end_time": "2025-03-13T04:40:45.474304",
     "exception": false,
     "start_time": "2025-03-13T04:40:45.454570",
     "status": "completed"
    },
    "tags": []
   },
   "outputs": [
    {
     "name": "stdout",
     "output_type": "stream",
     "text": [
      "<class 'pandas.core.frame.DataFrame'>\n",
      "RangeIndex: 3230 entries, 0 to 3229\n",
      "Data columns (total 84 columns):\n",
      " #   Column                     Non-Null Count  Dtype  \n",
      "---  ------                     --------------  -----  \n",
      " 0   Season                     3230 non-null   int64  \n",
      " 1   T1_TeamID                  3230 non-null   int64  \n",
      " 2   T2_TeamID                  3230 non-null   int64  \n",
      " 3   T1_Scoremean               3230 non-null   float64\n",
      " 4   T1_opponent_Scoremean      3230 non-null   float64\n",
      " 5   T1_PointDiffmean           3230 non-null   float64\n",
      " 6   T1_FGMmean                 3230 non-null   float64\n",
      " 7   T1_opponent_FGMmean        3230 non-null   float64\n",
      " 8   T1_FGAmean                 3230 non-null   float64\n",
      " 9   T1_opponent_FGAmean        3230 non-null   float64\n",
      " 10  T1_FGM3mean                3230 non-null   float64\n",
      " 11  T1_opponent_FGM3mean       3230 non-null   float64\n",
      " 12  T1_FGA3mean                3230 non-null   float64\n",
      " 13  T1_opponent_FGA3mean       3230 non-null   float64\n",
      " 14  T1_FTMmean                 3230 non-null   float64\n",
      " 15  T1_opponent_FTMmean        3230 non-null   float64\n",
      " 16  T1_FTAmean                 3230 non-null   float64\n",
      " 17  T1_opponent_FTAmean        3230 non-null   float64\n",
      " 18  T1_EFG_SUMmean             3230 non-null   float64\n",
      " 19  T1_opponent_EFG_SUMmean    3230 non-null   float64\n",
      " 20  T1_TO_RATIOmean            3230 non-null   float64\n",
      " 21  T1_opponent_TO_RATIOmean   3230 non-null   float64\n",
      " 22  T1_ORmean                  3230 non-null   float64\n",
      " 23  T1_opponent_ORmean         3230 non-null   float64\n",
      " 24  T1_DRmean                  3230 non-null   float64\n",
      " 25  T1_opponent_DRmean         3230 non-null   float64\n",
      " 26  T1_REB_RATEmean            3230 non-null   float64\n",
      " 27  T1_opponent_REB_RATEmean   3230 non-null   float64\n",
      " 28  T1_FT_RATEmean             3230 non-null   float64\n",
      " 29  T1_opponent_FT_RATEmean    3230 non-null   float64\n",
      " 30  T1_POSS_RATEmean           3230 non-null   float64\n",
      " 31  T1_opponent_POSS_RATEmean  3230 non-null   float64\n",
      " 32  T1_Astmean                 3230 non-null   float64\n",
      " 33  T1_opponent_Astmean        3230 non-null   float64\n",
      " 34  T1_TOmean                  3230 non-null   float64\n",
      " 35  T1_opponent_TOmean         3230 non-null   float64\n",
      " 36  T1_Stlmean                 3230 non-null   float64\n",
      " 37  T1_opponent_Stlmean        3230 non-null   float64\n",
      " 38  T1_Blkmean                 3230 non-null   float64\n",
      " 39  T1_opponent_Blkmean        3230 non-null   float64\n",
      " 40  T1_PFmean                  3230 non-null   float64\n",
      " 41  T1_opponent_PFmean         3230 non-null   float64\n",
      " 42  T2_Scoremean               3230 non-null   float64\n",
      " 43  T2_opponent_Scoremean      3230 non-null   float64\n",
      " 44  T2_PointDiffmean           3230 non-null   float64\n",
      " 45  T2_FGMmean                 3230 non-null   float64\n",
      " 46  T2_opponent_FGMmean        3230 non-null   float64\n",
      " 47  T2_FGAmean                 3230 non-null   float64\n",
      " 48  T2_opponent_FGAmean        3230 non-null   float64\n",
      " 49  T2_FGM3mean                3230 non-null   float64\n",
      " 50  T2_opponent_FGM3mean       3230 non-null   float64\n",
      " 51  T2_FGA3mean                3230 non-null   float64\n",
      " 52  T2_opponent_FGA3mean       3230 non-null   float64\n",
      " 53  T2_FTMmean                 3230 non-null   float64\n",
      " 54  T2_opponent_FTMmean        3230 non-null   float64\n",
      " 55  T2_FTAmean                 3230 non-null   float64\n",
      " 56  T2_opponent_FTAmean        3230 non-null   float64\n",
      " 57  T2_EFG_SUMmean             3230 non-null   float64\n",
      " 58  T2_opponent_EFG_SUMmean    3230 non-null   float64\n",
      " 59  T2_TO_RATIOmean            3230 non-null   float64\n",
      " 60  T2_opponent_TO_RATIOmean   3230 non-null   float64\n",
      " 61  T2_ORmean                  3230 non-null   float64\n",
      " 62  T2_opponent_ORmean         3230 non-null   float64\n",
      " 63  T2_DRmean                  3230 non-null   float64\n",
      " 64  T2_opponent_DRmean         3230 non-null   float64\n",
      " 65  T2_REB_RATEmean            3230 non-null   float64\n",
      " 66  T2_opponent_REB_RATEmean   3230 non-null   float64\n",
      " 67  T2_FT_RATEmean             3230 non-null   float64\n",
      " 68  T2_opponent_FT_RATEmean    3230 non-null   float64\n",
      " 69  T2_POSS_RATEmean           3230 non-null   float64\n",
      " 70  T2_opponent_POSS_RATEmean  3230 non-null   float64\n",
      " 71  T2_Astmean                 3230 non-null   float64\n",
      " 72  T2_opponent_Astmean        3230 non-null   float64\n",
      " 73  T2_TOmean                  3230 non-null   float64\n",
      " 74  T2_opponent_TOmean         3230 non-null   float64\n",
      " 75  T2_Stlmean                 3230 non-null   float64\n",
      " 76  T2_opponent_Stlmean        3230 non-null   float64\n",
      " 77  T2_Blkmean                 3230 non-null   float64\n",
      " 78  T2_opponent_Blkmean        3230 non-null   float64\n",
      " 79  T2_PFmean                  3230 non-null   float64\n",
      " 80  T2_opponent_PFmean         3230 non-null   float64\n",
      " 81  seed_diff                  3230 non-null   float64\n",
      " 82  quality_diff               3230 non-null   float64\n",
      " 83  win_ratio_14d_diff         3230 non-null   float64\n",
      "dtypes: float64(81), int64(3)\n",
      "memory usage: 2.1 MB\n"
     ]
    }
   ],
   "source": [
    "X.info()"
   ]
  },
  {
   "cell_type": "markdown",
   "id": "83df79af",
   "metadata": {
    "papermill": {
     "duration": 0.008001,
     "end_time": "2025-03-13T04:40:45.490178",
     "exception": false,
     "start_time": "2025-03-13T04:40:45.482177",
     "status": "completed"
    },
    "tags": []
   },
   "source": [
    "# build models"
   ]
  },
  {
   "cell_type": "code",
   "execution_count": 17,
   "id": "85e94672",
   "metadata": {
    "execution": {
     "iopub.execute_input": "2025-03-13T04:40:45.506179Z",
     "iopub.status.busy": "2025-03-13T04:40:45.506179Z",
     "iopub.status.idle": "2025-03-13T04:40:45.526155Z",
     "shell.execute_reply": "2025-03-13T04:40:45.526155Z"
    },
    "papermill": {
     "duration": 0.030992,
     "end_time": "2025-03-13T04:40:45.528170",
     "exception": false,
     "start_time": "2025-03-13T04:40:45.497178",
     "status": "completed"
    },
    "tags": []
   },
   "outputs": [],
   "source": [
    "\n",
    "val_mae = []\n",
    "iteration_counts = []\n",
    "xgb_cv = []\n",
    "dtrain = xgb.DMatrix(X, label=y)\n",
    "\n",
    "repeat_cv = MODEL.repeat_cv\n",
    "param = dict(MODEL.xgb_model.param)\n",
    "num_boost_round = MODEL.xgb_model.num_boost_round\n",
    "folds_splits = MODEL.xgb_model.folds_splits\n",
    "early_stopping_rounds = MODEL.xgb_model.early_stopping_rounds\n",
    "\n",
    "# コーシー損失関数\n",
    "def cauchyobj(preds, dtrain):\n",
    "    labels = dtrain.get_label()\n",
    "    c = 5000\n",
    "    x = preds - labels    \n",
    "    grad = x / (x**2/c**2 + 1)\n",
    "    hess = -c**2 * (x**2 - c**2) / (x**2 + c**2)**2\n",
    "    return grad, hess"
   ]
  },
  {
   "cell_type": "code",
   "execution_count": 18,
   "id": "54efb985",
   "metadata": {
    "execution": {
     "iopub.execute_input": "2025-03-13T04:40:45.550872Z",
     "iopub.status.busy": "2025-03-13T04:40:45.550872Z",
     "iopub.status.idle": "2025-03-13T04:40:45.563719Z",
     "shell.execute_reply": "2025-03-13T04:40:45.563213Z"
    },
    "papermill": {
     "duration": 0.031709,
     "end_time": "2025-03-13T04:40:45.570742",
     "exception": false,
     "start_time": "2025-03-13T04:40:45.539033",
     "status": "completed"
    },
    "tags": []
   },
   "outputs": [],
   "source": [
    "#########################################\n",
    "# 1. Optunaあり：ハイパーパラメータ最適化 #\n",
    "#########################################\n",
    "def run_optuna_optimization(param, optuna_conf):\n",
    "    def objective(trial):  \n",
    "        logger.info(f\"Trial {trial.number} 開始\")\n",
    "        \n",
    "        current_param = param.copy()  \n",
    "        max_depth_range = optuna_conf.max_depth        \n",
    "        eta_range = optuna_conf.eta\n",
    "        subsample_range = optuna_conf.subsample          \n",
    "        colsample_bytree_range = optuna_conf.colsample_bytree\n",
    "        num_parallel_tree_range = optuna_conf.num_parallel_tree \n",
    "        min_child_weight_range = optuna_conf.min_child_weight \n",
    "        reg_alpha_range = optuna_conf.reg_alpha         \n",
    "        reg_lambda_range = optuna_conf.reg_lambda    \n",
    "        reg_gamma_range = optuna_conf.gamma  \n",
    "\n",
    "        current_param[\"max_depth\"] = trial.suggest_int(\"max_depth\", max_depth_range[0], max_depth_range[1])\n",
    "        current_param[\"eta\"] = trial.suggest_float(\"eta\", eta_range[0], eta_range[1], log=True)\n",
    "        current_param[\"subsample\"] = trial.suggest_float(\"subsample\", subsample_range[0], subsample_range[1])\n",
    "        current_param[\"colsample_bytree\"] = trial.suggest_float(\"colsample_bytree\", colsample_bytree_range[0], colsample_bytree_range[1])\n",
    "        current_param[\"num_parallel_tree\"] = trial.suggest_int(\"num_parallel_tree\", num_parallel_tree_range[0], num_parallel_tree_range[1])\n",
    "        current_param[\"min_child_weight\"] = trial.suggest_int(\"min_child_weight\", min_child_weight_range[0], min_child_weight_range[1])\n",
    "        current_param[\"reg_alpha\"] = trial.suggest_float(\"reg_alpha\", reg_alpha_range[0], reg_alpha_range[1])\n",
    "        current_param[\"reg_lambda\"] = trial.suggest_float(\"reg_lambda\", reg_lambda_range[0], reg_lambda_range[1])\n",
    "        current_param[\"gamma\"] = trial.suggest_float(\"gamma\", reg_gamma_range[0], reg_gamma_range[1])\n",
    "        \n",
    "        if current_param.get(\"eval_metric\", \"mae\") == \"rmse\":\n",
    "            score_name = \"test-rmse-mean\"\n",
    "        elif current_param.get(\"eval_metric\", \"mae\") == \"mae\":\n",
    "            score_name = \"test-mae-mean\"\n",
    "        elif  current_param.get(\"eval_metric\", \"mae\") == \"logloss\":\n",
    "            score_name = \"test-logloss-mean\"\n",
    "        \n",
    "        print(current_param)  \n",
    "        cv_scores = []\n",
    "        for i in range(repeat_cv):\n",
    "            cv_result = xgb.cv(\n",
    "                params=current_param,\n",
    "                dtrain=dtrain,\n",
    "                obj=cauchyobj,\n",
    "                num_boost_round=num_boost_round,\n",
    "                folds=KFold(n_splits=folds_splits, shuffle=True, random_state=i),\n",
    "                early_stopping_rounds=early_stopping_rounds,\n",
    "                verbose_eval=False\n",
    "            )\n",
    "            fold_score = np.min(cv_result[score_name].values)\n",
    "            cv_scores.append(fold_score)\n",
    "        mean_score = np.mean(cv_scores)\n",
    "        logger.info(f\"Trial {trial.number} 終了: スコア {mean_score}\")\n",
    "        \n",
    "        return mean_score\n",
    "\n",
    "    logger.info(\"Optuna最適化開始\")\n",
    "    N_WARMUP_STEPS = optuna_conf.n_warmup_steps\n",
    "    TIMEOUT = optuna_conf.timeout\n",
    "    N_JOBS = optuna_conf.n_jobs\n",
    "    N_TRIALS = optuna_conf.n_trials\n",
    "    \n",
    "    sampler = optuna.samplers.TPESampler(seed=42)\n",
    "    pruner = optuna.pruners.MedianPruner(n_warmup_steps=N_WARMUP_STEPS)\n",
    "\n",
    "    study = optuna.create_study(direction=\"minimize\", sampler=sampler, pruner=pruner)\n",
    "    study.optimize(objective, n_trials=N_TRIALS, timeout=TIMEOUT, n_jobs=N_JOBS)\n",
    "\n",
    "    best_trial = study.best_trial\n",
    "    logger.info(\"Best trial:\")\n",
    "    logger.info(f\"  Value: {best_trial.value}\")\n",
    "    \n",
    "    for key, value in best_trial.params.items():\n",
    "        print(f\"    {key}: {value}\")\n",
    "    param.update(best_trial.params)\n",
    "\n",
    "    logger.info(\"Optuna最適化終了\")\n",
    "    return param"
   ]
  },
  {
   "cell_type": "code",
   "execution_count": 19,
   "id": "f8264084",
   "metadata": {
    "execution": {
     "iopub.execute_input": "2025-03-13T04:40:45.596119Z",
     "iopub.status.busy": "2025-03-13T04:40:45.596119Z",
     "iopub.status.idle": "2025-03-13T04:40:45.601146Z",
     "shell.execute_reply": "2025-03-13T04:40:45.601146Z"
    },
    "papermill": {
     "duration": 0.018512,
     "end_time": "2025-03-13T04:40:45.602153",
     "exception": false,
     "start_time": "2025-03-13T04:40:45.583641",
     "status": "completed"
    },
    "tags": []
   },
   "outputs": [
    {
     "name": "stdout",
     "output_type": "stream",
     "text": [
      "not use Optuna, use xgb_model.param\n",
      "param: {'eval_metric': 'rmse', 'booster': 'gbtree', 'eta': 0.02, 'subsample': 0.35, 'colsample_bytree': 0.7, 'num_parallel_tree': 10, 'min_child_weight': 40, 'gamma': 10, 'max_depth': 3}\n",
      "repeat_cv: 10\n",
      "num_boost_round: 3000\n",
      "folds_splits: 5\n",
      "early_stopping_rounds: 25\n"
     ]
    }
   ],
   "source": [
    "IS_OPTUNA = MODEL.optuna_enabled\n",
    "if IS_OPTUNA:\n",
    "    print(\"Optuna use mode\") \n",
    "    optuna_conf = MODEL.xgb_model.optuna\n",
    "    logger.add(os.path.join(OUTPUT_PATH, \"results.log\"), format=\"{time:YYYY-MM-DD at HH:mm:ss} - {level} - {message}\", level=\"INFO\")\n",
    "    param = run_optuna_optimization(param, optuna_conf)\n",
    "    print(\"param updated by optuna\")\n",
    "    results+= [\"param set after optuna is below\", f\"{param}\", \"\"]\n",
    "else:    \n",
    "    print(\"not use Optuna, use xgb_model.param\")\n",
    "\n",
    "\n",
    "\n",
    "print(\"param:\", param)\n",
    "print(\"repeat_cv:\", repeat_cv)\n",
    "print(\"num_boost_round:\", num_boost_round)\n",
    "print(\"folds_splits:\", folds_splits)\n",
    "print(\"early_stopping_rounds:\", early_stopping_rounds)"
   ]
  },
  {
   "cell_type": "code",
   "execution_count": 20,
   "id": "5d285998",
   "metadata": {
    "execution": {
     "iopub.execute_input": "2025-03-13T04:40:45.624158Z",
     "iopub.status.busy": "2025-03-13T04:40:45.624158Z",
     "iopub.status.idle": "2025-03-13T04:46:31.252593Z",
     "shell.execute_reply": "2025-03-13T04:46:31.251478Z"
    },
    "papermill": {
     "duration": 345.642528,
     "end_time": "2025-03-13T04:46:31.255683",
     "exception": false,
     "start_time": "2025-03-13T04:40:45.613155",
     "status": "completed"
    },
    "tags": []
   },
   "outputs": [
    {
     "name": "stderr",
     "output_type": "stream",
     "text": [
      "\r",
      "  0%|                                                                                                                                                                                                                                                                       | 0/10 [00:00<?, ?it/s]"
     ]
    },
    {
     "name": "stdout",
     "output_type": "stream",
     "text": [
      "[0]\ttrain-rmse:17.09546+0.03219\ttest-rmse:17.09976+0.13411\n"
     ]
    },
    {
     "name": "stdout",
     "output_type": "stream",
     "text": [
      "[50]\ttrain-rmse:13.09885+0.04685\ttest-rmse:13.31146+0.18296\n"
     ]
    },
    {
     "name": "stdout",
     "output_type": "stream",
     "text": [
      "[100]\ttrain-rmse:12.00958+0.04640\ttest-rmse:12.39305+0.19432\n"
     ]
    },
    {
     "name": "stdout",
     "output_type": "stream",
     "text": [
      "[150]\ttrain-rmse:11.58071+0.04642\ttest-rmse:12.12242+0.19050\n"
     ]
    },
    {
     "name": "stdout",
     "output_type": "stream",
     "text": [
      "[200]\ttrain-rmse:11.31181+0.04630\ttest-rmse:12.01275+0.19530\n"
     ]
    },
    {
     "name": "stdout",
     "output_type": "stream",
     "text": [
      "[250]\ttrain-rmse:11.10192+0.04569\ttest-rmse:11.95282+0.19832\n"
     ]
    },
    {
     "name": "stdout",
     "output_type": "stream",
     "text": [
      "[300]\ttrain-rmse:10.91979+0.04707\ttest-rmse:11.91754+0.19909\n"
     ]
    },
    {
     "name": "stdout",
     "output_type": "stream",
     "text": [
      "[350]\ttrain-rmse:10.75588+0.04820\ttest-rmse:11.89795+0.19978\n"
     ]
    },
    {
     "name": "stdout",
     "output_type": "stream",
     "text": [
      "[400]\ttrain-rmse:10.60548+0.04937\ttest-rmse:11.88726+0.20205\n"
     ]
    },
    {
     "name": "stdout",
     "output_type": "stream",
     "text": [
      "[450]\ttrain-rmse:10.46401+0.05005\ttest-rmse:11.88392+0.20442\n"
     ]
    },
    {
     "name": "stdout",
     "output_type": "stream",
     "text": [
      "[500]\ttrain-rmse:10.32942+0.05011\ttest-rmse:11.88270+0.20833\n"
     ]
    },
    {
     "name": "stdout",
     "output_type": "stream",
     "text": [
      "[514]\ttrain-rmse:10.29370+0.05024\ttest-rmse:11.88272+0.20943\n"
     ]
    },
    {
     "name": "stderr",
     "output_type": "stream",
     "text": [
      "\r",
      " 10%|█████████████████████████▌                                                                                                                                                                                                                                     | 1/10 [00:27<04:06, 27.39s/it]"
     ]
    },
    {
     "name": "stdout",
     "output_type": "stream",
     "text": [
      "[0]\ttrain-rmse:17.09364+0.15490\ttest-rmse:17.08684+0.62721\n"
     ]
    },
    {
     "name": "stdout",
     "output_type": "stream",
     "text": [
      "[50]\ttrain-rmse:13.09476+0.10650\ttest-rmse:13.28383+0.50970\n"
     ]
    },
    {
     "name": "stdout",
     "output_type": "stream",
     "text": [
      "[100]\ttrain-rmse:12.01123+0.10170\ttest-rmse:12.38009+0.44303\n"
     ]
    },
    {
     "name": "stdout",
     "output_type": "stream",
     "text": [
      "[150]\ttrain-rmse:11.58419+0.10172\ttest-rmse:12.10802+0.41977\n"
     ]
    },
    {
     "name": "stdout",
     "output_type": "stream",
     "text": [
      "[200]\ttrain-rmse:11.31746+0.10063\ttest-rmse:11.99905+0.41547\n"
     ]
    },
    {
     "name": "stdout",
     "output_type": "stream",
     "text": [
      "[250]\ttrain-rmse:11.10777+0.10126\ttest-rmse:11.94403+0.40789\n"
     ]
    },
    {
     "name": "stdout",
     "output_type": "stream",
     "text": [
      "[300]\ttrain-rmse:10.92510+0.10053\ttest-rmse:11.91410+0.40618\n"
     ]
    },
    {
     "name": "stdout",
     "output_type": "stream",
     "text": [
      "[350]\ttrain-rmse:10.76221+0.09936\ttest-rmse:11.89762+0.40547\n"
     ]
    },
    {
     "name": "stdout",
     "output_type": "stream",
     "text": [
      "[400]\ttrain-rmse:10.61242+0.09881\ttest-rmse:11.88381+0.40431\n"
     ]
    },
    {
     "name": "stdout",
     "output_type": "stream",
     "text": [
      "[450]\ttrain-rmse:10.47099+0.09963\ttest-rmse:11.87909+0.40112\n"
     ]
    },
    {
     "name": "stdout",
     "output_type": "stream",
     "text": [
      "[500]\ttrain-rmse:10.33786+0.09956\ttest-rmse:11.87721+0.40042\n"
     ]
    },
    {
     "name": "stdout",
     "output_type": "stream",
     "text": [
      "[550]\ttrain-rmse:10.21055+0.09807\ttest-rmse:11.87657+0.39502\n"
     ]
    },
    {
     "name": "stdout",
     "output_type": "stream",
     "text": [
      "[559]\ttrain-rmse:10.18766+0.09852\ttest-rmse:11.87719+0.39509\n"
     ]
    },
    {
     "name": "stderr",
     "output_type": "stream",
     "text": [
      "\r",
      " 20%|███████████████████████████████████████████████████                                                                                                                                                                                                            | 2/10 [01:02<04:14, 31.83s/it]"
     ]
    },
    {
     "name": "stdout",
     "output_type": "stream",
     "text": [
      "[0]\ttrain-rmse:17.09587+0.11904\ttest-rmse:17.09125+0.49374\n"
     ]
    },
    {
     "name": "stdout",
     "output_type": "stream",
     "text": [
      "[50]\ttrain-rmse:13.10372+0.07027\ttest-rmse:13.28471+0.37196\n"
     ]
    },
    {
     "name": "stdout",
     "output_type": "stream",
     "text": [
      "[100]\ttrain-rmse:12.01361+0.06234\ttest-rmse:12.36344+0.31902\n"
     ]
    },
    {
     "name": "stdout",
     "output_type": "stream",
     "text": [
      "[150]\ttrain-rmse:11.58762+0.06337\ttest-rmse:12.08498+0.30429\n"
     ]
    },
    {
     "name": "stdout",
     "output_type": "stream",
     "text": [
      "[200]\ttrain-rmse:11.32017+0.06462\ttest-rmse:11.97114+0.29847\n"
     ]
    },
    {
     "name": "stdout",
     "output_type": "stream",
     "text": [
      "[250]\ttrain-rmse:11.10860+0.06334\ttest-rmse:11.90936+0.29644\n"
     ]
    },
    {
     "name": "stdout",
     "output_type": "stream",
     "text": [
      "[300]\ttrain-rmse:10.92476+0.06184\ttest-rmse:11.87569+0.29577\n"
     ]
    },
    {
     "name": "stdout",
     "output_type": "stream",
     "text": [
      "[350]\ttrain-rmse:10.76183+0.06165\ttest-rmse:11.85313+0.29425\n"
     ]
    },
    {
     "name": "stdout",
     "output_type": "stream",
     "text": [
      "[400]\ttrain-rmse:10.61158+0.06390\ttest-rmse:11.84047+0.29050\n"
     ]
    },
    {
     "name": "stdout",
     "output_type": "stream",
     "text": [
      "[450]\ttrain-rmse:10.46946+0.06340\ttest-rmse:11.83611+0.28784\n"
     ]
    },
    {
     "name": "stdout",
     "output_type": "stream",
     "text": [
      "[486]\ttrain-rmse:10.37253+0.06311\ttest-rmse:11.83680+0.28678\n"
     ]
    },
    {
     "name": "stderr",
     "output_type": "stream",
     "text": [
      "\r",
      " 30%|████████████████████████████████████████████████████████████████████████████▌                                                                                                                                                                                  | 3/10 [01:33<03:39, 31.37s/it]"
     ]
    },
    {
     "name": "stdout",
     "output_type": "stream",
     "text": [
      "[0]\ttrain-rmse:17.09466+0.07482\ttest-rmse:17.09536+0.30639\n"
     ]
    },
    {
     "name": "stdout",
     "output_type": "stream",
     "text": [
      "[50]\ttrain-rmse:13.09914+0.04795\ttest-rmse:13.27951+0.29232\n"
     ]
    },
    {
     "name": "stdout",
     "output_type": "stream",
     "text": [
      "[100]\ttrain-rmse:12.01140+0.05100\ttest-rmse:12.36024+0.24470\n"
     ]
    },
    {
     "name": "stdout",
     "output_type": "stream",
     "text": [
      "[150]\ttrain-rmse:11.58478+0.05433\ttest-rmse:12.08812+0.22508\n"
     ]
    },
    {
     "name": "stdout",
     "output_type": "stream",
     "text": [
      "[200]\ttrain-rmse:11.31661+0.05990\ttest-rmse:11.97678+0.21937\n"
     ]
    },
    {
     "name": "stdout",
     "output_type": "stream",
     "text": [
      "[250]\ttrain-rmse:11.10603+0.06344\ttest-rmse:11.91514+0.21800\n"
     ]
    },
    {
     "name": "stdout",
     "output_type": "stream",
     "text": [
      "[300]\ttrain-rmse:10.92501+0.06410\ttest-rmse:11.88208+0.22292\n"
     ]
    },
    {
     "name": "stdout",
     "output_type": "stream",
     "text": [
      "[350]\ttrain-rmse:10.76062+0.06728\ttest-rmse:11.86241+0.22954\n"
     ]
    },
    {
     "name": "stdout",
     "output_type": "stream",
     "text": [
      "[400]\ttrain-rmse:10.61144+0.07011\ttest-rmse:11.85020+0.23579\n"
     ]
    },
    {
     "name": "stdout",
     "output_type": "stream",
     "text": [
      "[450]\ttrain-rmse:10.47097+0.07198\ttest-rmse:11.84160+0.24381\n"
     ]
    },
    {
     "name": "stdout",
     "output_type": "stream",
     "text": [
      "[500]\ttrain-rmse:10.33751+0.07298\ttest-rmse:11.83843+0.24975\n"
     ]
    },
    {
     "name": "stdout",
     "output_type": "stream",
     "text": [
      "[550]\ttrain-rmse:10.21067+0.07476\ttest-rmse:11.83431+0.25430\n"
     ]
    },
    {
     "name": "stdout",
     "output_type": "stream",
     "text": [
      "[595]\ttrain-rmse:10.10243+0.07539\ttest-rmse:11.83419+0.25786\n"
     ]
    },
    {
     "name": "stderr",
     "output_type": "stream",
     "text": [
      "\r",
      " 40%|██████████████████████████████████████████████████████████████████████████████████████████████████████                                                                                                                                                         | 4/10 [02:11<03:25, 34.23s/it]"
     ]
    },
    {
     "name": "stdout",
     "output_type": "stream",
     "text": [
      "[0]\ttrain-rmse:17.09320+0.08395\ttest-rmse:17.09373+0.33624\n"
     ]
    },
    {
     "name": "stdout",
     "output_type": "stream",
     "text": [
      "[50]\ttrain-rmse:13.09776+0.10043\ttest-rmse:13.28924+0.48456\n"
     ]
    },
    {
     "name": "stdout",
     "output_type": "stream",
     "text": [
      "[100]\ttrain-rmse:12.00771+0.10083\ttest-rmse:12.37800+0.47364\n"
     ]
    },
    {
     "name": "stdout",
     "output_type": "stream",
     "text": [
      "[150]\ttrain-rmse:11.58206+0.09934\ttest-rmse:12.10847+0.45679\n"
     ]
    },
    {
     "name": "stdout",
     "output_type": "stream",
     "text": [
      "[200]\ttrain-rmse:11.31514+0.09769\ttest-rmse:11.99486+0.44550\n"
     ]
    },
    {
     "name": "stdout",
     "output_type": "stream",
     "text": [
      "[250]\ttrain-rmse:11.10674+0.09611\ttest-rmse:11.93591+0.44052\n"
     ]
    },
    {
     "name": "stdout",
     "output_type": "stream",
     "text": [
      "[300]\ttrain-rmse:10.92637+0.09511\ttest-rmse:11.90025+0.43332\n"
     ]
    },
    {
     "name": "stdout",
     "output_type": "stream",
     "text": [
      "[350]\ttrain-rmse:10.76231+0.09393\ttest-rmse:11.87953+0.42399\n"
     ]
    },
    {
     "name": "stdout",
     "output_type": "stream",
     "text": [
      "[400]\ttrain-rmse:10.61380+0.09499\ttest-rmse:11.86629+0.41754\n"
     ]
    },
    {
     "name": "stdout",
     "output_type": "stream",
     "text": [
      "[450]\ttrain-rmse:10.47340+0.09717\ttest-rmse:11.85719+0.41323\n"
     ]
    },
    {
     "name": "stdout",
     "output_type": "stream",
     "text": [
      "[500]\ttrain-rmse:10.34141+0.09628\ttest-rmse:11.85031+0.40942\n"
     ]
    },
    {
     "name": "stdout",
     "output_type": "stream",
     "text": [
      "[550]\ttrain-rmse:10.21663+0.09639\ttest-rmse:11.84943+0.40455\n"
     ]
    },
    {
     "name": "stdout",
     "output_type": "stream",
     "text": [
      "[562]\ttrain-rmse:10.18635+0.09535\ttest-rmse:11.84941+0.40431\n"
     ]
    },
    {
     "name": "stderr",
     "output_type": "stream",
     "text": [
      "\r",
      " 50%|███████████████████████████████████████████████████████████████████████████████████████████████████████████████████████████████▌                                                                                                                               | 5/10 [02:47<02:54, 34.85s/it]"
     ]
    },
    {
     "name": "stdout",
     "output_type": "stream",
     "text": [
      "[0]\ttrain-rmse:17.09403+0.07349\ttest-rmse:17.09552+0.29787\n"
     ]
    },
    {
     "name": "stdout",
     "output_type": "stream",
     "text": [
      "[50]\ttrain-rmse:13.09916+0.06832\ttest-rmse:13.28177+0.26153\n"
     ]
    },
    {
     "name": "stdout",
     "output_type": "stream",
     "text": [
      "[100]\ttrain-rmse:12.01306+0.07344\ttest-rmse:12.36020+0.27252\n"
     ]
    },
    {
     "name": "stdout",
     "output_type": "stream",
     "text": [
      "[150]\ttrain-rmse:11.58800+0.07275\ttest-rmse:12.08773+0.27039\n"
     ]
    },
    {
     "name": "stdout",
     "output_type": "stream",
     "text": [
      "[200]\ttrain-rmse:11.31897+0.07174\ttest-rmse:11.97187+0.26708\n"
     ]
    },
    {
     "name": "stdout",
     "output_type": "stream",
     "text": [
      "[250]\ttrain-rmse:11.10880+0.07047\ttest-rmse:11.91174+0.26586\n"
     ]
    },
    {
     "name": "stdout",
     "output_type": "stream",
     "text": [
      "[300]\ttrain-rmse:10.92836+0.07144\ttest-rmse:11.87421+0.26717\n"
     ]
    },
    {
     "name": "stdout",
     "output_type": "stream",
     "text": [
      "[350]\ttrain-rmse:10.76696+0.07252\ttest-rmse:11.85243+0.26890\n"
     ]
    },
    {
     "name": "stdout",
     "output_type": "stream",
     "text": [
      "[400]\ttrain-rmse:10.61779+0.07466\ttest-rmse:11.83689+0.26956\n"
     ]
    },
    {
     "name": "stdout",
     "output_type": "stream",
     "text": [
      "[450]\ttrain-rmse:10.47714+0.07448\ttest-rmse:11.82927+0.26548\n"
     ]
    },
    {
     "name": "stdout",
     "output_type": "stream",
     "text": [
      "[499]\ttrain-rmse:10.34699+0.07448\ttest-rmse:11.82611+0.26442\n"
     ]
    },
    {
     "name": "stderr",
     "output_type": "stream",
     "text": [
      "\r",
      " 60%|█████████████████████████████████████████████████████████████████████████████████████████████████████████████████████████████████████████████████████████                                                                                                      | 6/10 [03:19<02:15, 33.83s/it]"
     ]
    },
    {
     "name": "stdout",
     "output_type": "stream",
     "text": [
      "[0]\ttrain-rmse:17.09510+0.09996\ttest-rmse:17.09491+0.40110\n"
     ]
    },
    {
     "name": "stdout",
     "output_type": "stream",
     "text": [
      "[50]\ttrain-rmse:13.10269+0.01996\ttest-rmse:13.30542+0.16837\n"
     ]
    },
    {
     "name": "stdout",
     "output_type": "stream",
     "text": [
      "[100]\ttrain-rmse:12.01156+0.01650\ttest-rmse:12.38162+0.10127\n"
     ]
    },
    {
     "name": "stdout",
     "output_type": "stream",
     "text": [
      "[150]\ttrain-rmse:11.58467+0.02634\ttest-rmse:12.10664+0.11164\n"
     ]
    },
    {
     "name": "stdout",
     "output_type": "stream",
     "text": [
      "[200]\ttrain-rmse:11.31726+0.03113\ttest-rmse:11.99189+0.12698\n"
     ]
    },
    {
     "name": "stdout",
     "output_type": "stream",
     "text": [
      "[250]\ttrain-rmse:11.10737+0.03330\ttest-rmse:11.92937+0.14023\n"
     ]
    },
    {
     "name": "stdout",
     "output_type": "stream",
     "text": [
      "[300]\ttrain-rmse:10.92911+0.03419\ttest-rmse:11.89330+0.14580\n"
     ]
    },
    {
     "name": "stdout",
     "output_type": "stream",
     "text": [
      "[350]\ttrain-rmse:10.76553+0.03339\ttest-rmse:11.87288+0.15073\n"
     ]
    },
    {
     "name": "stdout",
     "output_type": "stream",
     "text": [
      "[400]\ttrain-rmse:10.61805+0.03226\ttest-rmse:11.85816+0.15771\n"
     ]
    },
    {
     "name": "stdout",
     "output_type": "stream",
     "text": [
      "[450]\ttrain-rmse:10.47907+0.03088\ttest-rmse:11.85091+0.16113\n"
     ]
    },
    {
     "name": "stdout",
     "output_type": "stream",
     "text": [
      "[500]\ttrain-rmse:10.34582+0.03145\ttest-rmse:11.84595+0.16441\n"
     ]
    },
    {
     "name": "stdout",
     "output_type": "stream",
     "text": [
      "[550]\ttrain-rmse:10.21988+0.03018\ttest-rmse:11.84254+0.16710\n"
     ]
    },
    {
     "name": "stdout",
     "output_type": "stream",
     "text": [
      "[571]\ttrain-rmse:10.16922+0.03043\ttest-rmse:11.84298+0.16787\n"
     ]
    },
    {
     "name": "stderr",
     "output_type": "stream",
     "text": [
      "\r",
      " 70%|██████████████████████████████████████████████████████████████████████████████████████████████████████████████████████████████████████████████████████████████████████████████████▌                                                                            | 7/10 [03:56<01:44, 34.68s/it]"
     ]
    },
    {
     "name": "stdout",
     "output_type": "stream",
     "text": [
      "[0]\ttrain-rmse:17.09281+0.20700\ttest-rmse:17.07799+0.81348\n"
     ]
    },
    {
     "name": "stdout",
     "output_type": "stream",
     "text": [
      "[50]\ttrain-rmse:13.09251+0.12009\ttest-rmse:13.28062+0.69320\n"
     ]
    },
    {
     "name": "stdout",
     "output_type": "stream",
     "text": [
      "[100]\ttrain-rmse:12.00557+0.10197\ttest-rmse:12.37891+0.57057\n"
     ]
    },
    {
     "name": "stdout",
     "output_type": "stream",
     "text": [
      "[150]\ttrain-rmse:11.57771+0.09704\ttest-rmse:12.12106+0.51562\n"
     ]
    },
    {
     "name": "stdout",
     "output_type": "stream",
     "text": [
      "[200]\ttrain-rmse:11.30739+0.09552\ttest-rmse:12.01618+0.48708\n"
     ]
    },
    {
     "name": "stdout",
     "output_type": "stream",
     "text": [
      "[250]\ttrain-rmse:11.09656+0.09634\ttest-rmse:11.96254+0.46346\n"
     ]
    },
    {
     "name": "stdout",
     "output_type": "stream",
     "text": [
      "[300]\ttrain-rmse:10.91337+0.09464\ttest-rmse:11.93192+0.45269\n"
     ]
    },
    {
     "name": "stdout",
     "output_type": "stream",
     "text": [
      "[350]\ttrain-rmse:10.75002+0.09594\ttest-rmse:11.91643+0.44404\n"
     ]
    },
    {
     "name": "stdout",
     "output_type": "stream",
     "text": [
      "[400]\ttrain-rmse:10.60090+0.09403\ttest-rmse:11.91202+0.43767\n"
     ]
    },
    {
     "name": "stdout",
     "output_type": "stream",
     "text": [
      "[450]\ttrain-rmse:10.46079+0.09412\ttest-rmse:11.90666+0.43369\n"
     ]
    },
    {
     "name": "stdout",
     "output_type": "stream",
     "text": [
      "[500]\ttrain-rmse:10.32804+0.09632\ttest-rmse:11.90198+0.43248\n"
     ]
    },
    {
     "name": "stdout",
     "output_type": "stream",
     "text": [
      "[523]\ttrain-rmse:10.27012+0.09512\ttest-rmse:11.90319+0.43016\n"
     ]
    },
    {
     "name": "stderr",
     "output_type": "stream",
     "text": [
      "\r",
      " 80%|████████████████████████████████████████████████████████████████████████████████████████████████████████████████████████████████████████████████████████████████████████████████████████████████████████████                                                   | 8/10 [04:29<01:08, 34.32s/it]"
     ]
    },
    {
     "name": "stdout",
     "output_type": "stream",
     "text": [
      "[0]\ttrain-rmse:17.09397+0.20031\ttest-rmse:17.07887+0.83882\n"
     ]
    },
    {
     "name": "stdout",
     "output_type": "stream",
     "text": [
      "[50]\ttrain-rmse:13.09515+0.11583\ttest-rmse:13.29604+0.69648\n"
     ]
    },
    {
     "name": "stdout",
     "output_type": "stream",
     "text": [
      "[100]\ttrain-rmse:12.00494+0.08819\ttest-rmse:12.39961+0.53874\n"
     ]
    },
    {
     "name": "stdout",
     "output_type": "stream",
     "text": [
      "[150]\ttrain-rmse:11.57663+0.07779\ttest-rmse:12.13894+0.44635\n"
     ]
    },
    {
     "name": "stdout",
     "output_type": "stream",
     "text": [
      "[200]\ttrain-rmse:11.30958+0.07439\ttest-rmse:12.03196+0.39630\n"
     ]
    },
    {
     "name": "stdout",
     "output_type": "stream",
     "text": [
      "[250]\ttrain-rmse:11.09993+0.07012\ttest-rmse:11.97763+0.36708\n"
     ]
    },
    {
     "name": "stdout",
     "output_type": "stream",
     "text": [
      "[300]\ttrain-rmse:10.91943+0.07111\ttest-rmse:11.94565+0.34982\n"
     ]
    },
    {
     "name": "stdout",
     "output_type": "stream",
     "text": [
      "[350]\ttrain-rmse:10.75445+0.06988\ttest-rmse:11.92517+0.34016\n"
     ]
    },
    {
     "name": "stdout",
     "output_type": "stream",
     "text": [
      "[400]\ttrain-rmse:10.60445+0.07072\ttest-rmse:11.90992+0.33585\n"
     ]
    },
    {
     "name": "stdout",
     "output_type": "stream",
     "text": [
      "[450]\ttrain-rmse:10.46402+0.07001\ttest-rmse:11.90028+0.32546\n"
     ]
    },
    {
     "name": "stdout",
     "output_type": "stream",
     "text": [
      "[500]\ttrain-rmse:10.33132+0.06928\ttest-rmse:11.89471+0.32281\n"
     ]
    },
    {
     "name": "stdout",
     "output_type": "stream",
     "text": [
      "[547]\ttrain-rmse:10.21581+0.07010\ttest-rmse:11.89347+0.32484\n"
     ]
    },
    {
     "name": "stderr",
     "output_type": "stream",
     "text": [
      "\r",
      " 90%|█████████████████████████████████████████████████████████████████████████████████████████████████████████████████████████████████████████████████████████████████████████████████████████████████████████████████████████████████████▌                         | 9/10 [05:05<00:34, 34.84s/it]"
     ]
    },
    {
     "name": "stdout",
     "output_type": "stream",
     "text": [
      "[0]\ttrain-rmse:17.09461+0.13559\ttest-rmse:17.09053+0.55164\n"
     ]
    },
    {
     "name": "stdout",
     "output_type": "stream",
     "text": [
      "[50]\ttrain-rmse:13.10206+0.08883\ttest-rmse:13.28981+0.48856\n"
     ]
    },
    {
     "name": "stdout",
     "output_type": "stream",
     "text": [
      "[100]\ttrain-rmse:12.01363+0.08019\ttest-rmse:12.37347+0.41039\n"
     ]
    },
    {
     "name": "stdout",
     "output_type": "stream",
     "text": [
      "[150]\ttrain-rmse:11.58944+0.08081\ttest-rmse:12.10387+0.37728\n"
     ]
    },
    {
     "name": "stdout",
     "output_type": "stream",
     "text": [
      "[200]\ttrain-rmse:11.32132+0.08271\ttest-rmse:11.99414+0.36678\n"
     ]
    },
    {
     "name": "stdout",
     "output_type": "stream",
     "text": [
      "[250]\ttrain-rmse:11.10976+0.07987\ttest-rmse:11.93692+0.35653\n"
     ]
    },
    {
     "name": "stdout",
     "output_type": "stream",
     "text": [
      "[300]\ttrain-rmse:10.92974+0.08009\ttest-rmse:11.90064+0.34933\n"
     ]
    },
    {
     "name": "stdout",
     "output_type": "stream",
     "text": [
      "[350]\ttrain-rmse:10.76756+0.07886\ttest-rmse:11.88102+0.34567\n"
     ]
    },
    {
     "name": "stdout",
     "output_type": "stream",
     "text": [
      "[400]\ttrain-rmse:10.62013+0.07859\ttest-rmse:11.86500+0.33951\n"
     ]
    },
    {
     "name": "stdout",
     "output_type": "stream",
     "text": [
      "[450]\ttrain-rmse:10.47792+0.07774\ttest-rmse:11.85490+0.33380\n"
     ]
    },
    {
     "name": "stdout",
     "output_type": "stream",
     "text": [
      "[500]\ttrain-rmse:10.34543+0.07886\ttest-rmse:11.84831+0.33137\n"
     ]
    },
    {
     "name": "stdout",
     "output_type": "stream",
     "text": [
      "[550]\ttrain-rmse:10.21860+0.07973\ttest-rmse:11.84580+0.32962\n"
     ]
    },
    {
     "name": "stderr",
     "output_type": "stream",
     "text": [
      "\r",
      "100%|██████████████████████████████████████████████████████████████████████████████████████████████████████████████████████████████████████████████████████████████████████████████████████████████████████████████████████████████████████████████████████████████| 10/10 [05:45<00:00, 36.39s/it]"
     ]
    },
    {
     "name": "stderr",
     "output_type": "stream",
     "text": [
      "\r",
      "100%|██████████████████████████████████████████████████████████████████████████████████████████████████████████████████████████████████████████████████████████████████████████████████████████████████████████████████████████████████████████████████████████████| 10/10 [05:45<00:00, 34.54s/it]"
     ]
    },
    {
     "name": "stderr",
     "output_type": "stream",
     "text": [
      "\n"
     ]
    }
   ],
   "source": [
    "if param.get(\"eval_metric\", \"mae\") == \"rmse\":\n",
    "    score_key = \"test-rmse-mean\"\n",
    "    ylabel = \"Test RMSE Mean\"\n",
    "    title = \"Learning Curve: Test RMSE vs Boosting Rounds\"\n",
    "elif param.get(\"eval_metric\", \"mae\") == \"mae\":\n",
    "    score_key = \"test-mae-mean\"\n",
    "    ylabel = \"Test MAE Mean\"\n",
    "    title = \"Learning Curve: Test MAE vs Boosting Rounds\"\n",
    "elif param.get(\"eval_metric\", \"mae\") == \"logloss\":\n",
    "    score_key = \"test-logloss-mean\"\n",
    "    ylabel = \"Test Logloss Mean\"\n",
    "    title = \"Learning Curve: Test Logloss vs Boosting Rounds\"\n",
    "\n",
    "\n",
    "for i in tqdm(range(repeat_cv), leave=True, dynamic_ncols=True): \n",
    "    cv_result = xgb.cv(\n",
    "        params=param,\n",
    "        dtrain=dtrain,\n",
    "        obj=cauchyobj,\n",
    "        num_boost_round=num_boost_round,\n",
    "        folds=KFold(n_splits=folds_splits, shuffle=True, random_state=i),\n",
    "        early_stopping_rounds=early_stopping_rounds,\n",
    "        verbose_eval=50\n",
    "    )\n",
    "    \"\"\"\n",
    "    train-mae-mean: 各fold における訓練データの MAE の平均値。\n",
    "    train-mae-std: 訓練データの MAE の標準偏差。\n",
    "    test-mae-mean: 各fold における検証データの MAE の平均値。\n",
    "    test-mae-std: 検証データの MAE の標準偏差。\n",
    "    \"\"\"\n",
    "    xgb_cv.append(cv_result)\n",
    "    \n",
    "\n",
    "\n",
    "\n",
    "# 各 repeater ごとの最適ブーストラウンド数と検証MAE\n",
    "iteration_counts = [np.argmin(cv[score_key].values) for cv in xgb_cv]\n",
    "val_mae = [np.min(cv[score_key].values) for cv in xgb_cv]\n",
    "\n",
    "mean_iteration = np.mean(iteration_counts)\n",
    "mean_val_mae = np.mean(val_mae)\n",
    "min_val_mae = np.min(val_mae)\n",
    "results.append(f\"mean_iteration: {mean_iteration}\")\n",
    "results.append(f\"mean_val_{param['eval_metric']}: {mean_val_mae}\")\n",
    "results.append(f\"min_val_{param['eval_metric']}: {min_val_mae}\")\n",
    "results.append(\"\")\n",
    "\n",
    "###\n",
    "plt.figure(figsize=(10, 6))\n",
    "for i, cv_result in enumerate(xgb_cv):\n",
    "    rounds = np.arange(len(cv_result[score_key]))\n",
    "    plt.plot(rounds, cv_result[score_key], label=f\"CV repeater {i+1}\")\n",
    "    \n",
    "plt.xlabel(\"Boosting Round\")\n",
    "plt.ylabel(ylabel)\n",
    "plt.title(title)\n",
    "plt.legend()\n",
    "plt.grid(True)\n",
    "\n",
    "plt.savefig(os.path.join(OUTPUT_PATH, f\"learning_curve_{PREDICT_YEAR}.png\"))\n",
    "plt.close()\n",
    "###\n"
   ]
  },
  {
   "cell_type": "code",
   "execution_count": 21,
   "id": "efaf135d",
   "metadata": {
    "execution": {
     "iopub.execute_input": "2025-03-13T04:46:31.302762Z",
     "iopub.status.busy": "2025-03-13T04:46:31.302762Z",
     "iopub.status.idle": "2025-03-13T04:46:31.307689Z",
     "shell.execute_reply": "2025-03-13T04:46:31.307689Z"
    },
    "papermill": {
     "duration": 0.031581,
     "end_time": "2025-03-13T04:46:31.309699",
     "exception": false,
     "start_time": "2025-03-13T04:46:31.278118",
     "status": "completed"
    },
    "tags": []
   },
   "outputs": [
    {
     "name": "stdout",
     "output_type": "stream",
     "text": [
      "最適ブーストラウンド数: [490, 534, 461, 571, 538, 475, 546, 499, 523, 526]\n",
      "test-rmse-mean: [11.881994491131742, 11.874353959358587, 11.835713120894182, 11.833742309358968, 11.849077108499998, 11.824746487459768, 11.841775919455339, 11.901934759263854, 11.891491226782179, 11.845697282276046]\n"
     ]
    }
   ],
   "source": [
    "print(\"最適ブーストラウンド数:\", iteration_counts)\n",
    "print(f\"{score_key}:\", val_mae)\n",
    "results.append(f\"最適ブーストラウンド: {iteration_counts}\")\n",
    "results.append(f\"{score_key}: {val_mae}\")\n",
    "results.append(\"\")"
   ]
  },
  {
   "cell_type": "code",
   "execution_count": 22,
   "id": "01eafc34",
   "metadata": {
    "execution": {
     "iopub.execute_input": "2025-03-13T04:46:31.362461Z",
     "iopub.status.busy": "2025-03-13T04:46:31.362461Z",
     "iopub.status.idle": "2025-03-13T04:51:37.120255Z",
     "shell.execute_reply": "2025-03-13T04:51:37.119829Z"
    },
    "papermill": {
     "duration": 305.810186,
     "end_time": "2025-03-13T04:51:37.146700",
     "exception": false,
     "start_time": "2025-03-13T04:46:31.336514",
     "status": "completed"
    },
    "tags": []
   },
   "outputs": [
    {
     "name": "stderr",
     "output_type": "stream",
     "text": [
      "\r",
      "  0%|                                                                                                                                                                                                                                                                       | 0/10 [00:00<?, ?it/s]"
     ]
    },
    {
     "name": "stderr",
     "output_type": "stream",
     "text": [
      "C:\\Users\\81809\\AppData\\Local\\Temp\\ipykernel_23700\\3386215446.py:18: FutureWarning: Setting an item of incompatible dtype is deprecated and will raise an error in a future version of pandas. Value '[ 2.04219551e+01 -2.90171117e-01  2.01318111e+01  7.04101849e+00\n",
      " -7.65558290e+00 -1.32300663e+00  7.11093616e+00  7.50539589e+00\n",
      "  2.42162876e+01  1.72216547e+00  1.00694790e+01  6.33703995e+00\n",
      "  6.67744637e+00  6.69261742e+00 -3.51286578e+00  2.13018074e+01\n",
      " -1.94795525e+00  8.15174103e+00  9.56071949e+00  1.52798736e+00\n",
      "  2.31692791e+00  2.57848954e+00 -1.49805963e+00 -1.23644602e+00\n",
      "  5.89898634e+00  6.31585789e+00  3.68949819e+00  1.68643131e+01\n",
      "  3.01611137e+00 -5.31478357e+00 -2.43569160e+00  5.10496855e+00\n",
      "  5.85520685e-01  1.95168209e+01  7.67347527e+00 -7.31061220e+00\n",
      " -2.95379019e+00  7.88794565e+00  7.34001637e+00  4.51599741e+00\n",
      "  2.43873045e-01  8.91104031e+00 -4.24245119e+00  1.49014769e+01\n",
      "  3.45525384e+00  4.65081072e+00 -1.13215685e+01  1.91565752e+00\n",
      "  1.42337332e+01 -3.44673961e-01  2.19068089e+01 -1.00574827e+00\n",
      "  5.20035744e+00  5.59160185e+00 -2.42656374e+00  7.59821892e+00\n",
      "  1.56071031e+00  6.17648363e+00  1.71004593e+00  8.61515999e+00\n",
      " -5.50692463e+00 -9.99958754e-01  1.44727007e-01  2.30343285e+01\n",
      " -1.45570564e+00  8.57475853e+00  3.32801890e+00 -5.86212826e+00\n",
      "  1.12305584e+01 -2.82871938e+00  4.68158865e+00  2.35745964e+01\n",
      " -5.68228531e+00 -1.82123792e+00  2.79113293e+00  5.42603111e+00\n",
      " -3.55869770e+00  5.18107367e+00  1.55708075e+01  1.98215523e+01\n",
      "  2.56542444e+00 -4.65102720e+00  2.14784241e+00 -1.04871714e+00\n",
      "  1.14454567e+00  2.88481140e+00  1.23917246e+00 -1.08476906e+01\n",
      " -2.58006334e+00 -3.55700231e+00  8.07907772e+00  6.50906515e+00\n",
      "  3.65510035e+00  8.52677822e-01 -3.74324441e+00  1.82403374e+01\n",
      "  1.31032932e+00  5.84821320e+00  2.20050640e+01 -1.49261951e+00\n",
      " -4.41459465e+00  1.52713432e+01  1.90046482e+01  1.09839687e+01\n",
      "  4.76254797e+00 -6.10496664e+00 -6.78735316e-01  1.26763840e+01\n",
      "  6.14591217e+00 -5.12731886e+00  4.56165314e-01 -6.46434450e+00\n",
      "  8.03996849e+00 -5.91010475e+00 -1.57003660e+01  4.21803951e+00\n",
      "  5.17370999e-01  2.13756323e+00  4.50918818e+00  4.82048225e+00\n",
      "  1.83247304e+00  5.41141868e-01  1.02477989e+01  1.11919680e+01\n",
      "  6.15835953e+00  6.14536953e+00  1.34736414e+01 -3.53003263e+00\n",
      " -1.82191992e+00  1.80906522e+00  1.95082779e+01 -2.03902602e+00\n",
      "  1.11638746e+01 -1.34712362e+01 -7.92870522e+00  1.51697865e+01\n",
      "  3.86670613e+00  8.28281116e+00  8.91603947e+00 -2.33537817e+00\n",
      "  7.21043944e-01 -3.06709170e+00  7.56546974e+00  6.18766212e+00\n",
      "  2.17868567e+00 -1.30440474e+00  1.17061539e+01  4.02291507e-01\n",
      "  7.03407526e+00 -1.60447311e+00  2.65723944e+00  1.52581131e+00\n",
      "  1.98962650e+01  1.66043091e+01  1.00592203e+01  3.23790407e+00\n",
      "  4.99550867e+00  3.15428638e+00 -6.39157414e-01  3.25132519e-01\n",
      "  1.45638740e+00 -1.32021260e+00  8.91057968e+00  1.51077957e+01\n",
      " -2.11264706e+00  2.86459255e+00  4.12743501e-02  3.42772675e+00\n",
      "  1.83875346e+00  4.97930908e+00  8.18385601e+00  2.06950378e+00\n",
      " -1.80568695e+00 -1.34997278e-01  5.56964874e+00  1.29096997e+00\n",
      "  1.89326859e+01  3.13107538e+00  4.68191862e+00  2.67973471e+00\n",
      " -1.83100259e+00  3.06476998e+00  8.99309158e+00 -7.64265728e+00\n",
      "  3.88114071e+00  2.02017765e+01  1.15085506e+01 -9.27255750e-01\n",
      "  2.28927922e+00  7.34358025e+00  2.87591290e+00  1.54033041e+01\n",
      " -4.95493174e-01  3.41165257e+00  5.59404087e+00  4.46200895e+00\n",
      "  2.65028906e+00  9.28163910e+00  1.55450554e+01  1.10931950e+01\n",
      "  2.47132516e+00 -2.21202641e+01  5.56175566e+00  3.08308768e+00\n",
      "  4.80759192e+00  5.79732800e+00  4.25671577e+00  5.10592842e+00\n",
      "  4.80931520e+00  2.84194422e+00  1.92232952e+01  8.44783592e+00\n",
      "  2.94237728e+01  4.22456131e+01  2.63111877e+01  2.51921692e+01\n",
      "  2.16998558e+01  2.48023357e+01  9.37698174e+00  1.39280283e+00\n",
      "  1.30394621e+01  5.39187670e+00 -5.50739479e+00  5.97280073e+00\n",
      "  2.00589142e+01  2.35384312e+01  8.73687840e+00  2.19705563e+01\n",
      "  1.12353907e+01  8.34346008e+00  6.84751701e+00  1.02025261e+01\n",
      " -2.99827504e+00  3.57128983e+01  1.35587444e+01  5.21882677e+00\n",
      "  3.50177193e+01  4.99645948e+00 -3.21735692e+00  2.17073212e+01\n",
      "  1.87822306e+00  1.22890930e+01  1.48453798e+01  4.90322304e+00\n",
      "  3.48483300e+00  1.03835707e+01  1.91652489e+01  3.53043327e+01\n",
      "  1.34930878e+01 -8.33825827e-01 -1.92246151e+00  2.46384215e+00\n",
      " -1.59640980e+01  6.05861568e+00  1.48296881e+01 -1.48294735e+00\n",
      "  2.08442631e+01  4.45618362e+01 -5.41362000e+00  1.32153940e+00\n",
      "  1.39158669e+01  2.96120954e+00 -4.98302412e+00  7.74589825e+00\n",
      "  2.77325706e+01  1.05816383e+01  8.77584457e+00  5.82188511e+00\n",
      " -2.63463306e+00  3.61707759e+00  2.84654179e+01  1.06081409e+01\n",
      "  1.60979061e+01  1.38093376e+01 -8.84874630e+00  1.43888187e+01\n",
      "  1.09068680e+01  3.79774380e+00 -5.23824263e+00  2.84585524e+00\n",
      "  3.55985928e+00  2.62182283e+00  3.81781845e+01  1.20368271e+01\n",
      "  3.57260818e+01  3.54325676e+01 -2.94099391e-01  3.06739616e+01\n",
      "  4.31432188e-01 -7.28098571e-01  5.44036150e+00  1.36550989e+01\n",
      "  1.40781422e+01  1.33461266e+01  9.52282810e+00  5.18807220e+00\n",
      "  1.17898340e+01 -1.21987998e+00  1.21203680e+01 -4.18712854e+00\n",
      "  1.77850075e+01  2.46848946e+01  1.15124178e+01 -5.84157586e-01\n",
      "  1.06296480e+00  7.79704511e-01  7.83599377e+00 -2.01946468e+01\n",
      " -1.06168509e+01 -1.13253441e+01  8.09605658e-01  4.08262825e+00\n",
      "  8.72642422e+00  8.08537674e+00  3.26942787e+01  1.56928654e+01\n",
      "  3.53697991e+00  3.65326691e+01 -6.09630883e-01  9.97220898e+00\n",
      "  5.12455988e+00  2.10569143e+00  2.99117756e+00  1.69233501e+00\n",
      "  8.23225260e-01  4.38787699e+00 -6.06431103e+00  6.50195026e+00\n",
      "  1.16888332e+00  6.98304892e+00 -5.28804922e+00  1.84770527e+01\n",
      "  1.16999769e+01 -1.18458633e+01  2.12416573e+01 -7.83628130e+00\n",
      "  1.39986980e+00  8.20937538e+00 -4.92906618e+00 -1.36602497e+01\n",
      " -1.85247850e+00 -2.29443474e+01 -1.81228275e+01 -9.60598183e+00\n",
      " -5.52501202e+00  6.44222689e+00 -4.39093685e+00  1.02776277e+00\n",
      " -3.27635050e+00 -4.57447338e+00 -4.33960676e+00  7.03905821e+00\n",
      " -7.85607529e+00 -3.98444653e+00 -1.94167156e+01  1.97101772e+00\n",
      "  4.01252985e+00 -6.04052830e+00 -4.78502893e+00  1.28352511e+00\n",
      "  7.32753944e+00 -4.48513603e+00 -6.92119074e+00 -3.59030247e+00\n",
      " -8.27839792e-01 -1.33731699e+00 -2.14791946e+01 -1.43522346e+00\n",
      "  2.91079521e+00 -5.36582756e+00 -8.74755001e+00 -6.45459175e+00\n",
      " -8.75728130e+00 -9.25906563e+00 -2.49745369e+00 -5.46108341e+00\n",
      "  4.78346109e-01 -5.37523365e+00 -9.59168851e-01  1.66653812e+00\n",
      " -1.03251534e+01 -7.76061440e+00 -5.98618221e+00 -3.02720141e+00\n",
      " -9.22607613e+00 -4.94103003e+00 -1.70927963e+01 -2.64571857e+01\n",
      " -3.95381093e+00 -1.87530899e+01 -1.00743115e+00 -7.26093197e+00\n",
      " -2.57933974e+00 -1.97032118e+00 -8.34733772e+00 -4.14598078e-01\n",
      " -7.25931692e+00 -2.55141010e+01  4.17668056e+00 -2.14353580e+01\n",
      " -5.90363455e+00 -1.13254347e+01  4.76219034e+00  3.21065593e+00\n",
      " -1.01979208e+01  3.00691652e+00 -4.27399063e+00 -6.33427811e+00\n",
      " -4.87937307e+00 -5.88446236e+00 -1.17248840e+01 -1.16560161e+00\n",
      "  3.43213248e+00  1.45354164e+00 -1.12817249e+01 -6.39990807e+00\n",
      "  1.85980487e+00  2.47330070e+00  1.13983643e+00 -5.07822800e+00\n",
      " -3.04140162e+00  5.88613224e+00 -1.10861998e+01  2.25224805e+00\n",
      " -9.39288712e+00 -4.23062181e+00 -8.81012344e+00 -3.96104407e+00\n",
      " -3.15572119e+00 -1.23311462e+01 -3.26681423e+00 -2.08377361e+01\n",
      " -1.49215021e+01 -2.14068699e+00 -6.10230148e-01 -3.71964359e+00\n",
      " -2.97569370e+00 -1.25878239e+00 -6.50177479e-01  1.74999905e+00\n",
      " -1.42341197e+00 -3.05479031e+01 -4.67151690e+00 -8.75815201e+00\n",
      " -9.11678696e+00  5.31872094e-01  1.29749727e+00 -6.25250864e+00\n",
      " -7.25602865e-01  1.25694335e+00  5.80351233e-01 -9.33803177e+00\n",
      "  1.48690283e+00  6.33220720e+00  2.05308333e-01 -7.49747801e+00\n",
      " -9.28152502e-01 -1.49270735e+01 -1.28771448e+01 -1.81326389e+00\n",
      " -1.39618170e+00 -1.62268424e+00 -1.94617224e+00 -6.93207216e+00\n",
      " -1.61388512e+01 -8.87424660e+00 -1.99284720e+00  3.87872028e+00\n",
      " -7.80637074e+00 -2.32134285e+01 -9.33498263e-01 -3.37826586e+00\n",
      " -4.32377958e+00  3.98654032e+00  9.06915665e+00  8.91763642e-02\n",
      "  1.89109266e+00  3.17804646e+00  3.04696798e+00 -1.41354647e+01\n",
      " -7.71157789e+00 -1.75731831e+01 -2.73321581e+00 -4.59343672e+00\n",
      "  1.32171953e+00 -1.07995348e+01  3.24804330e+00 -3.23975533e-01\n",
      " -2.40266476e+01 -2.27901917e+01 -1.57513151e+01 -4.63810968e+00\n",
      " -3.90479875e+00 -4.59534883e+00  2.16188574e+00 -6.69031715e+00\n",
      " -8.21781254e+00 -7.32295573e-01 -3.04836273e+00  3.13841224e+00\n",
      " -1.52637568e+01 -2.32223487e+00  4.28825140e+00 -5.09535456e+00\n",
      "  8.21598911e+00 -6.93984365e+00  4.87395239e+00 -7.21883440e+00\n",
      " -1.69936390e+01 -1.52757845e+01 -2.27449417e+00  5.86166811e+00\n",
      " -8.87255859e+00 -2.22397327e+00 -8.31237018e-01  3.77141833e+00\n",
      " -1.48887787e+01 -8.98547173e-01 -1.64551907e+01 -1.64472067e+00\n",
      " -5.13578320e+00 -5.18264866e+00 -3.91455746e+00 -9.01155114e-01\n",
      " -1.56203957e+01  1.03203797e+00  3.97942519e+00  4.36186981e+00\n",
      " -1.19839411e+01  5.69932222e-01 -2.58289933e+00 -7.54778147e+00\n",
      " -4.26584101e+00 -5.76783466e+00 -1.96342242e+00  5.04765415e+00\n",
      " -2.06676579e+01 -3.63604927e+01 -4.39625263e+00 -4.13875389e+00\n",
      " -5.35186625e+00  2.93822765e+00 -1.11577072e+01 -2.73565941e+01\n",
      " -5.88180542e+00  4.26498032e+00  1.01444542e+00 -3.43723221e+01\n",
      " -3.98639526e+01  1.40756536e+00 -4.83709335e+00 -2.70062160e+01\n",
      "  6.42011881e+00 -2.29339886e+01 -2.18667126e+00 -1.14026761e+00\n",
      " -8.50174999e+00 -3.04044933e+01 -1.74166250e+00 -1.61197796e+01\n",
      " -1.66975555e+01 -6.04643440e+00 -1.19580281e+00  3.64409471e+00\n",
      " -4.07600517e+01  8.38595331e-01 -4.59485435e+00 -1.23008041e+01\n",
      "  8.83510303e+00  2.03378463e+00  6.52321625e+00 -9.72042942e+00\n",
      " -3.34761190e+00 -1.54545088e+01 -8.60519505e+00 -7.43403912e+00\n",
      " -2.72755551e+00  3.34518623e+00  5.12396336e+00 -2.89658756e+01\n",
      " -1.16708546e+01 -2.31067133e+00  1.03278742e+01 -3.19118729e+01\n",
      " -3.50894570e+00 -9.60071373e+00 -1.14904249e+00  5.39463282e+00\n",
      " -2.67320251e+00 -3.86921859e+00  6.17753077e+00  2.94480467e+00\n",
      " -1.23042974e+01 -8.90328503e+00 -3.48888855e+01 -5.93553257e+00\n",
      " -2.52564754e+01 -2.85175858e+01 -5.95577574e+00 -1.58784513e+01\n",
      " -1.23313942e+01 -2.79808354e+00 -3.94382401e+01 -3.23343048e+01\n",
      " -1.30681524e+01 -5.20399094e+00 -5.80281305e+00 -3.29721718e+01\n",
      " -7.26304817e+00  8.83707142e+00 -1.19502878e+01 -1.61219597e+00\n",
      " -7.73785686e+00 -1.21444263e+01 -7.16289616e+00 -2.58834953e+01\n",
      " -2.87507420e+01  3.55413699e+00 -5.29418612e+00 -6.93755436e+00\n",
      " -2.24574356e+01 -2.45931697e+00 -2.78967113e+01  1.08614826e+01\n",
      " -5.82623243e-01  8.69888973e+00  2.45002222e+00 -2.61221466e+01\n",
      " -4.36282206e+00 -3.01844883e+01 -1.54351482e+01 -8.70577145e+00\n",
      "  9.87452030e-01  4.57505465e+00 -2.66143303e+01  4.78830719e+00\n",
      " -1.22787533e+01 -1.70639563e+00 -3.34329643e+01 -1.15297089e+01\n",
      "  1.59047909e+01  5.70269203e+00 -1.36966476e+01 -1.30680275e+01\n",
      " -4.45173645e+00  8.92416191e+00]' has dtype incompatible with int64, please explicitly cast to a compatible dtype first.\n",
      "  preds[val_index] = model.predict(dval_i)\n"
     ]
    },
    {
     "name": "stderr",
     "output_type": "stream",
     "text": [
      "\r",
      " 10%|█████████████████████████▌                                                                                                                                                                                                                                     | 1/10 [00:29<04:28, 29.84s/it]"
     ]
    },
    {
     "name": "stderr",
     "output_type": "stream",
     "text": [
      "C:\\Users\\81809\\AppData\\Local\\Temp\\ipykernel_23700\\3386215446.py:18: FutureWarning: Setting an item of incompatible dtype is deprecated and will raise an error in a future version of pandas. Value '[ -7.9150352    1.6423277   16.494509    -0.6457965    7.1161113\n",
      "   5.2554297   20.420904    -2.4693174   13.956516     7.01494\n",
      "  -4.0670905   -4.961095     6.697398     8.345274    -1.9792994\n",
      "  22.657576     1.2497612    3.2380884   11.664143     8.442771\n",
      "   7.921654     4.980112     6.9058423    3.812563    -7.350147\n",
      "   2.3467617    7.7284923   -3.367043    23.981455    16.74546\n",
      "  13.380442     3.8480525    6.165486    -1.4640286    5.280195\n",
      "   6.0107417   -4.608841     0.45623735   9.233523    21.29082\n",
      "  13.55908     11.595413    17.682436     8.696236    18.449945\n",
      "   9.776438     6.711905     4.453385    -0.6416622    6.106698\n",
      "  -0.6976169   -1.1933135    1.9207968    5.2817626    8.055575\n",
      "  25.92131      6.4277186    0.15131629   8.950758    10.141729\n",
      "   6.191735     6.7419252   -2.299485    -3.0468755   -1.9055644\n",
      "   2.6110685   -2.083108     2.5047565   19.539581    11.497366\n",
      "   0.5409553   27.925695    13.833713     4.056144    19.451294\n",
      "  -7.9984984    6.7341084    6.479728     2.6172755    3.482571\n",
      "   1.0393269   -0.6481877   18.53107      7.8893294   -2.5370643\n",
      " -12.175408     5.010398    10.313785     4.0398135    1.5610423\n",
      "   3.3324902   -4.6698737   -3.9732425   18.291153    -1.9291381\n",
      "  -2.833086    -3.0467167   14.257115     9.837294    15.022425\n",
      "   4.4385896   -7.199269    12.033011     8.150588    12.109717\n",
      "   3.3593352    8.595014    -1.4607081   18.470407    -2.30335\n",
      "  22.834698    -3.0865273    2.270236    15.161197    18.971006\n",
      "  -1.9708991    2.0820642   -4.2455306   -9.678533    -5.971943\n",
      "   2.145519     1.0583162    0.54385483  -1.3242338   -1.9402488\n",
      "   0.31989965  -5.9280777    6.487239     2.5968277   29.519045\n",
      "   7.074873    28.203657     6.339534    -1.2245574   10.529109\n",
      "  -7.1412225   -6.599045     0.2931928   -6.263958    -1.4026791\n",
      "   7.0660543   -1.7587029   22.359055    16.934502     4.8831234\n",
      "   0.84900844  -1.3605993    0.17677559  -0.98002875   0.47327408\n",
      "  -2.235966    -0.62461895   2.5420904   -7.3337336   -1.485704\n",
      "   3.826006    22.02296      0.49955294   4.062115     6.924584\n",
      "  -7.647806     4.3035226   -1.5241237   -4.565432    -4.4857717\n",
      "   0.11493576  29.63712      2.5099661    7.087022    -4.6890926\n",
      "  -0.07023501  12.864512    19.80622      9.944368     4.1377344\n",
      "  -0.2683581   10.900447    -4.768584   -19.038609    -4.9818783\n",
      "   5.349326     6.6334524   -2.5440323    8.331652    21.035961\n",
      "   9.655177     2.365122    23.846773    -1.4307649    9.938986\n",
      "  24.818106    -2.6740358   -1.3472245    4.3521595    0.61628294\n",
      "   5.5834327   -4.9056764    1.8022594   -7.2487016    1.6107037\n",
      "   2.759194    -2.692648    22.294323    -0.55135393  15.197282\n",
      "  16.51047     18.440222    -4.2426777   19.184618     1.7128277\n",
      "  -9.552642   -11.438784    10.874359     1.9052547   -0.64272994\n",
      "  -3.3786457    5.3941455    6.4412313    4.1958814   19.976625\n",
      "  -2.4565172    2.8254457    6.537407    21.359285    -3.7506866\n",
      "   3.6984622   19.031792    26.758451    -7.256408    -2.8006482\n",
      "   7.064859    27.861412    39.06258     -0.6567675    5.8874893\n",
      "  20.172157     7.076729    23.495958    -5.032478    -5.0883684\n",
      "   4.5562034   10.428828     6.4668884   -7.0841255   21.814283\n",
      "   0.21856949  -6.067768    11.176826     1.5311931    0.42368537\n",
      "  14.149537   -14.251247    17.265806    18.670586     2.0115566\n",
      "   7.85672     10.898897     8.80956     34.677704    21.167927\n",
      "   4.3090696   -9.007995    33.615326    15.375802     2.5899563\n",
      "   8.977751    21.81216     47.920464    20.849651    -6.9529066\n",
      "  31.5951      13.077662    36.553352    12.545074     3.0913887\n",
      "   3.9695544   11.068934     8.180062     4.838485    25.432283\n",
      "  28.917837     7.240954     8.173007     4.049462    28.027805\n",
      "  -3.7394466   12.520099    25.137619    -1.2786961    2.7353613\n",
      "   2.0836759   14.029395    33.21236      3.230827    18.62237\n",
      "   9.169512    25.644903    -2.1850543   -7.2450633    2.585055\n",
      "   6.470442    10.635004     3.241391     4.3312035  -12.5199175\n",
      "   1.6778681   -2.806715    -7.61694     -1.4252391    2.3743873\n",
      "  -0.39352596  39.73726     24.982225     7.8487515    7.7254744\n",
      "  -6.572867     6.7263126   21.57434     -5.36027     17.444334\n",
      "   2.6056087  -11.665715   -12.061226    27.502525     3.5169523\n",
      "   4.336715    12.742718   -12.149826     5.987668   -18.13758\n",
      " -22.641684     4.0834236   -1.1499969    0.6714651   -8.211791\n",
      "   3.849573    -6.765572     3.575097    -6.644842    -6.408729\n",
      "  -1.0539443    8.645165     0.5688667    4.2111726  -20.999414\n",
      " -24.660013   -21.259415    -5.4569874   -2.3941824   -1.6141157\n",
      "  -8.441177    -2.8110988   -1.7339817   -3.1597838   -3.8276553\n",
      "   0.37570685   5.106299    -5.506658     0.23819181 -11.225136\n",
      "  -7.0563283  -20.823196   -13.888029     2.4030015    3.6100557\n",
      "   7.6181164  -15.806584     2.7267513    8.203387    -1.2889407\n",
      "  -2.185733     1.1886884    6.9730964   -5.620194    -0.06353839\n",
      "  -7.3012824   -0.3699989  -21.256464    -7.049206     2.7717323\n",
      "   5.647825     4.250519    -8.458041    -9.505785     1.8542142\n",
      "   2.538375    -0.2803273   -5.6526227  -13.581125    -5.2334194\n",
      "  -8.976057     2.7288551   -8.715016    -6.0446916   -5.4599333\n",
      "  -4.1930394    0.49570337 -11.9126835  -29.042492     0.45410103\n",
      "  -5.173833   -24.88782     -3.1727114   -4.751396   -12.642571\n",
      "   0.89433783 -25.160965   -20.239515     0.83944064  -0.878376\n",
      "   0.48270047   2.0316718   -6.2642746   13.72046    -28.35812\n",
      "   3.5158632  -15.625585    -4.3703833   -2.3475628    5.4716907\n",
      " -11.138299    -3.328282     1.67412      0.7977734   -1.6775702\n",
      "   1.1839714   -3.2549753   -1.4179335    6.6383896   -4.2953115\n",
      "  10.605316     6.639309     5.712481    15.541024     0.6469263\n",
      "   2.2990413    0.67735934 -30.307365    -7.422472    -6.6930113\n",
      "   2.5225506    3.0698268   -2.4578454    0.42327976  -6.020162\n",
      " -11.292205     1.6864629    2.0061252   -2.9640982  -13.964175\n",
      "  -1.9888406   -2.2288873   -7.186579   -18.16517     -4.303553\n",
      "   7.5988507   -1.7278953    2.050293   -10.547761     4.0513334\n",
      "   5.121582     0.8107967   -7.7811594    2.3706222  -22.451344\n",
      "  -3.6422453   -3.8819666  -23.372976   -10.546087    -1.8123946\n",
      "  -2.347258     1.6350632    4.6075144  -22.552017   -22.762121\n",
      "  -5.3974924   -6.645519    -4.1609554   -1.9441421   -5.042658\n",
      "  -4.023737     3.5041018    1.8127197  -22.531359     2.9339123\n",
      "  -1.2282718   -2.8756757    0.5702758   -1.7234049  -18.639986\n",
      " -21.103468    -4.8878465   -0.28231263 -11.943685    -3.0635774\n",
      "   2.62419     -1.2318265    2.7547293   -0.71391636  -4.877566\n",
      "  -1.2633754   -5.4442644   -1.4033307   -3.2236447   -2.905024\n",
      "  -3.4655921   -0.3480916   -1.7490051    2.3071647    6.185779\n",
      "  -7.8967767   -3.3501737  -23.241299    -3.9521737  -16.008078\n",
      " -20.58049      5.2635612    6.7186346   -7.6127453   -6.3365006\n",
      "   4.299017   -11.962645    -1.1230979    0.09552417 -15.764064\n",
      "  -4.532052     3.085354   -10.427614   -22.895468     4.2914424\n",
      "   2.530411     1.685495     0.5176784   -4.136566    -1.6835196\n",
      " -30.5595     -44.54986    -28.529287   -25.747427    -2.198959\n",
      "  -8.815695   -17.710733    -3.6771717   -1.2983488  -19.548332\n",
      "  -6.187143   -17.246408   -23.853989    -0.25667274  -4.8485656\n",
      " -13.950284   -28.024801     3.6358795   -6.7611194    4.8400617\n",
      " -11.128043   -18.32396    -29.544027   -11.110424    -1.2482904\n",
      " -13.802156     0.8355224   -6.770757     5.1391435   -7.025139\n",
      " -31.766857   -11.165528   -14.36495    -35.75875     -5.3364058\n",
      "   1.6610014  -23.555145   -11.362385   -10.396831    -4.167626\n",
      " -10.6325035    7.9669485   -1.613723     2.469191   -31.526003\n",
      " -29.541254   -44.428143     3.5478456   -2.5157108  -13.788762\n",
      "  -0.39100862 -10.394762   -15.439062    -3.399882   -10.113858\n",
      "  -6.7363486   -1.3937272   -4.0931263   -9.436193   -22.40498\n",
      "   3.609211   -33.835365    -8.366145     9.878602   -30.332695\n",
      "   6.344353   -14.731459    -8.45179    -32.449028   -25.95669\n",
      "  -4.4333982    2.7520688  -11.818852     2.5328689   -3.8183541\n",
      " -13.773621    -3.4180717   -1.5989662    1.6882081  -17.559912\n",
      "  -8.895412   -21.337648     1.647351    -9.765245    -5.577418\n",
      "  -5.3026357    2.6420949  -11.980086   -17.616552    -1.7959363\n",
      " -17.823025    -5.7357745   -1.2044806   -8.095047   -26.268002\n",
      "  -5.823845    22.556566    14.048253    -5.947805   -40.03748\n",
      " -11.226063   -24.773413    -6.134234   -25.795153     4.589603\n",
      " -16.48145     -7.766693   -11.673976   -12.050164   -10.843734\n",
      "  -3.6041512 ]' has dtype incompatible with int64, please explicitly cast to a compatible dtype first.\n",
      "  preds[val_index] = model.predict(dval_i)\n"
     ]
    },
    {
     "name": "stderr",
     "output_type": "stream",
     "text": [
      "\r",
      " 20%|███████████████████████████████████████████████████                                                                                                                                                                                                            | 2/10 [01:02<04:09, 31.22s/it]"
     ]
    },
    {
     "name": "stderr",
     "output_type": "stream",
     "text": [
      "C:\\Users\\81809\\AppData\\Local\\Temp\\ipykernel_23700\\3386215446.py:18: FutureWarning: Setting an item of incompatible dtype is deprecated and will raise an error in a future version of pandas. Value '[ 1.43317068e+00 -6.61574841e+00 -5.46728039e+00 -1.87181994e-01\n",
      "  7.49131918e+00 -2.44355702e+00  5.91008806e+00  7.77912045e+00\n",
      "  2.29757023e+00 -1.22407210e+00 -5.07286263e+00  2.42868614e+01\n",
      "  2.17866631e+01 -5.15290685e-02  2.22258568e+01  2.46883411e+01\n",
      "  4.44508362e+00  1.04177217e+01  6.85930920e+00 -9.21429539e+00\n",
      "  4.10811472e+00  5.30164576e+00  9.28129578e+00  7.59139204e+00\n",
      "  2.48883557e+00  4.77294827e+00  7.33359432e+00  4.05464172e+00\n",
      " -6.86665916e+00 -5.13633633e+00  3.62404406e-01  1.07695980e+01\n",
      "  1.01296310e+01  2.89087415e+00  2.40216656e+01 -5.37937462e-01\n",
      "  4.61203098e+00  2.90868263e+01  3.88633776e+00  5.29406738e+00\n",
      "  4.25467539e+00 -6.08339453e+00  4.89455032e+00  4.47008491e-01\n",
      "  1.93069077e+00  6.45707273e+00 -3.72481418e+00 -5.23539114e+00\n",
      "  6.51568604e+00 -1.00718460e+01  4.93415785e+00  5.82939577e+00\n",
      "  5.36603403e+00 -3.17339540e+00  9.96939087e+00  4.56891388e-01\n",
      "  4.36318445e+00  1.78286324e+01  5.19458580e+00 -5.84475577e-01\n",
      "  2.14854908e+01 -3.16508222e+00  2.21699715e+00  2.72722740e+01\n",
      "  6.18319511e+00  7.43007994e+00  6.87729836e+00  1.44899547e+00\n",
      "  4.13317871e+00  2.64768791e+00 -4.53773469e-01  2.39710903e+01\n",
      "  8.56839657e+00  1.07668555e+00  5.95815182e+00  1.63105946e+01\n",
      "  3.36727643e+00  1.66436577e+01 -7.62768507e+00  1.98305237e+00\n",
      "  4.94961548e+00  6.54554558e+00 -4.71725798e+00  4.79582191e-01\n",
      "  1.57919378e+01 -4.65775442e+00  2.63450127e+01 -1.88031006e+00\n",
      " -2.64473438e-01  1.43976679e+01  5.28812599e+00  2.27514992e+01\n",
      "  5.12214243e-01 -7.12139034e+00  1.00361805e+01  8.33723736e+00\n",
      "  4.17315388e+00 -2.29075313e+00  1.45079172e+00  4.56452370e+00\n",
      "  2.41490507e+00  2.08361797e+01 -3.06913543e+00  8.41044426e+00\n",
      "  1.93806915e+01  1.57971430e+00  2.24474125e+01  5.95572090e+00\n",
      "  4.26759052e+00 -2.90400553e+00  9.06712627e+00 -5.75633764e+00\n",
      " -9.10329819e-01  7.35607624e-01 -1.73945498e+00 -7.41374540e+00\n",
      "  6.38019219e-02  6.00429249e+00  8.68965864e-01  6.94967461e+00\n",
      "  2.53975983e+01  4.32719231e+00  1.00829029e+01 -1.92995775e+00\n",
      "  9.53719735e-01 -5.20700788e+00 -1.16674173e+00  1.51258361e+00\n",
      " -2.60070980e-01  9.96220767e-01 -1.64093399e+01  1.04402466e+01\n",
      "  1.08204746e+01  2.19538460e+01 -6.29645395e+00 -1.68414816e-01\n",
      "  7.37988615e+00 -4.82744789e+00  1.03159487e+00 -2.58378506e+00\n",
      "  1.42029667e+00  1.80092793e+01  1.18610859e+01  2.83587861e+00\n",
      "  1.41940355e+00 -1.61992908e+00  5.35325098e+00 -7.45542955e+00\n",
      "  2.67835784e+00  1.41504173e+01 -3.10895610e+00  2.65688896e+00\n",
      " -2.44900298e+00  2.19657993e+01  3.20849776e+00  1.97945952e+00\n",
      "  2.80113926e+01  4.28215647e+00  4.82340050e+00  8.96045113e+00\n",
      "  3.05311143e-01  1.04430370e+01 -1.84151709e+00  3.28529453e+00\n",
      "  4.58131695e+00  5.49795961e+00  1.06909695e+01  2.52346745e+01\n",
      "  4.40665579e+00  6.75829220e+00 -3.25362897e+00  7.58023930e+00\n",
      "  2.12942219e+00  2.53751826e+00  2.42046714e+00  2.33887043e+01\n",
      " -4.25812662e-01  5.05413628e+00 -7.99345016e+00  3.01277828e+00\n",
      " -4.98004007e+00 -1.85895860e+00 -9.62099361e+00  7.16828299e+00\n",
      "  5.18162775e+00  3.28946447e+00 -2.80861998e+00  2.59777808e+00\n",
      " -1.50099623e+00 -6.14497042e+00  4.54403448e+00  3.11729336e+01\n",
      "  2.93756485e+01  4.35358009e+01  2.88385525e+01  1.96352348e+01\n",
      " -3.71320486e+00  4.13003349e+00  1.56657028e+00  1.28509045e+01\n",
      "  1.21249743e+01 -1.25068216e+01  5.10362864e+00  1.05006957e+00\n",
      "  8.91491413e+00  2.77469730e+01  2.16560030e+00  4.02172890e+01\n",
      "  9.20506382e+00 -1.13456869e+01  1.60087471e+01  9.95216942e+00\n",
      "  1.34084387e+01  1.77055225e+01  2.58289185e+01  1.61472969e+01\n",
      "  4.45314837e+00  3.03276181e+00  3.53982887e+01 -4.31891918e+00\n",
      "  1.26835718e+01  1.07759533e+01  2.42204914e+01  1.61637421e+01\n",
      "  1.84151630e+01  1.12933817e+01  1.64202833e+00 -5.67745256e+00\n",
      "  2.06649494e+01 -7.15400839e+00 -1.04170561e+00  2.92556400e+01\n",
      " -2.32690215e+00  1.23147097e+01 -2.56422687e+00  8.98101711e+00\n",
      " -8.65487099e+00  2.68194504e+01  9.30197620e+00 -2.28509598e+01\n",
      "  3.27201691e+01  1.45742760e+01 -2.55175018e+00 -6.90446281e+00\n",
      "  4.13917160e+00  4.06977606e+00  1.38651276e+01  1.39949694e+01\n",
      "  2.42418075e+00  6.85371733e+00  5.77407122e+00  8.32641125e+00\n",
      "  3.83606033e+01  6.56688166e+00 -3.39368701e+00 -1.93655327e-01\n",
      "  9.12391376e+00  1.29024391e+01  4.58526802e+00  2.54980659e+01\n",
      "  2.89037399e+01 -7.91903782e+00  7.50439072e+00  5.01520586e+00\n",
      "  2.98825245e+01 -8.26688480e+00  4.43060780e+00  2.74970484e+00\n",
      "  1.20026827e+01  1.88506651e+00 -4.93574619e+00 -3.14317393e+00\n",
      "  3.74281921e+01  3.27500839e+01  1.36809540e+01  2.28574538e+00\n",
      " -1.45622778e+00  9.74083996e+00  1.93883305e+01  3.02325611e+01\n",
      " -4.21445513e+00 -1.06230841e+01 -8.66915226e+00  2.87030735e+01\n",
      " -9.03584480e+00  6.63323641e+00  2.19101315e+01  7.54761028e+00\n",
      "  2.50644512e+01  2.90708332e+01  8.65675449e+00  5.64039528e-01\n",
      " -2.49160252e+01  3.91230130e+00 -1.64436251e-01  4.50456429e+00\n",
      "  1.52384815e+01 -6.23184586e+00  3.89654198e+01  7.53911591e+00\n",
      "  2.07683372e+01  2.42817593e+01  1.11015186e+01  1.37388363e+01\n",
      " -1.29526484e+00  9.21595097e+00  6.81842387e-01 -5.32075214e+00\n",
      "  2.89332771e+00 -9.40766048e+00 -2.13305912e+01 -6.63044310e+00\n",
      " -1.69536972e+01 -1.84352989e+01 -7.29084015e+00  5.04216385e+00\n",
      "  5.75799417e+00 -6.47671795e+00 -7.35572243e+00  2.93700528e+00\n",
      " -6.04005480e+00 -3.69570780e+00 -5.36778927e+00 -1.89828551e+00\n",
      " -5.29916763e+00 -1.93516388e+01  9.26130581e+00 -2.59847546e+00\n",
      " -3.21462584e+00 -6.21844673e+00 -5.44923961e-01 -8.52383232e+00\n",
      " -6.45564556e+00 -7.49250555e+00 -2.09678268e+00 -2.30451420e-01\n",
      " -4.81335068e+00 -1.48403883e+01  3.73765755e+00 -2.01270180e+01\n",
      "  1.27446928e+01 -8.56090355e+00 -1.15638781e+01 -3.63539171e+00\n",
      " -1.64372787e+01 -5.29208755e+00  7.23864031e+00 -4.93191767e+00\n",
      "  1.91141307e+00 -6.50114059e+00 -2.80016017e+00 -7.41264105e+00\n",
      " -8.97295666e+00 -1.56665683e+00 -2.12538433e+00  7.11620855e+00\n",
      "  3.76679945e+00 -1.69921074e+01 -7.33063269e+00  2.78270745e+00\n",
      " -1.03402405e+01 -1.61256294e+01 -3.28337812e+00 -4.52735138e+00\n",
      "  3.98412657e+00 -2.38934875e-01 -2.64799690e+00 -4.63804817e+00\n",
      " -2.53657913e+01 -1.03103380e+01  2.69807076e+00  1.76894143e-02\n",
      " -1.57309837e+01  1.85514188e+00  9.40890551e-01 -2.90450573e+00\n",
      "  3.30079222e+00 -1.40425670e+00 -7.65783310e+00 -5.61414814e+00\n",
      "  6.24002516e-01 -1.71968784e+01 -7.75028765e-01 -8.09540033e-01\n",
      " -4.05129766e+00 -1.85906410e+01 -5.52655125e+00 -1.50469363e+00\n",
      " -1.19823265e+01 -5.04798794e+00 -8.25085416e-02  9.39868093e-01\n",
      " -2.23890209e+01 -2.12162709e+00  4.77432251e+00  4.75342894e+00\n",
      " -2.44595814e+00 -2.22148170e+01  5.02103376e+00 -8.36126328e+00\n",
      " -1.23936300e+01 -5.79298735e+00 -1.15107260e+01  2.31373325e-01\n",
      "  1.80367374e+00  3.84495974e+00 -3.80934596e-01 -3.42571926e+00\n",
      "  2.76189113e+00  9.06024635e-01  2.04214549e+00  2.17089128e+00\n",
      " -1.46844816e+01 -1.06833382e+01 -5.46339893e+00  6.51045227e+00\n",
      "  9.27976131e-01 -9.27369475e-01 -2.65244317e+00 -1.13289366e+01\n",
      "  1.56208956e+00 -2.11070404e+01  3.37322903e+00 -6.94665861e+00\n",
      " -1.48721826e+00 -2.46948504e+00  2.62798548e+00  8.82564354e+00\n",
      " -1.24576771e+00 -8.66269493e+00 -8.31209898e-01  1.68848114e+01\n",
      "  3.16916823e-01 -2.83775005e+01 -6.80259085e+00 -6.78620195e+00\n",
      "  8.52812827e-01 -1.82586117e+01  8.77339172e+00 -6.16330653e-02\n",
      " -1.17087955e+01 -1.21300793e+01 -3.26633215e+00 -2.14182973e+00\n",
      " -2.03772297e+01  1.62789440e+01 -2.47255278e+00  1.04619038e+00\n",
      " -1.10415688e+01  1.14993181e+01  3.06342101e+00 -1.58738537e+01\n",
      "  6.46903276e-01 -1.08196487e+01 -7.37133646e+00 -5.78084135e+00\n",
      "  3.07755327e+00 -3.67238212e+00 -2.10729313e+01 -3.33005810e+00\n",
      " -2.11879158e+01 -4.62037563e+00 -5.30610895e+00 -3.72299314e+00\n",
      " -2.03839326e+00  2.33869767e+00  1.38527918e+00 -7.06172419e+00\n",
      " -3.71698648e-01 -2.71823859e+00 -1.07392254e+01 -1.72946501e+00\n",
      "  9.36446548e-01 -1.02312193e+01 -3.54555964e-01 -5.40700674e+00\n",
      " -4.10677147e+00  4.23264563e-01  1.45505071e+00  3.40451217e+00\n",
      " -3.15345153e-02 -2.23543091e+01 -9.06967068e+00  5.24376869e+00\n",
      "  2.92418289e+00 -2.63341403e+00 -1.65906467e+01 -1.35366714e+00\n",
      " -4.48960781e+00 -8.11753273e+00  1.18767726e+00 -2.43970558e-01\n",
      " -1.96971645e+01 -7.61180305e+00 -2.61286330e+00 -1.38188353e+01\n",
      " -2.14935818e+01 -2.49253063e+01 -1.97068043e+01  2.50123930e+00\n",
      " -3.58504701e+00  4.47289324e+00 -6.92923403e+00 -2.47063017e+00\n",
      "  7.11071301e+00  1.95089495e+00  1.18692279e+00 -2.74520111e+00\n",
      " -2.32207279e+01 -7.53037882e+00  3.09253979e+00  1.37157667e+00\n",
      " -1.56945097e+00 -3.01765704e+00  4.18106413e+00  4.39931214e-01\n",
      "  2.72241664e+00  8.18351746e+00  2.75137448e+00 -9.40238190e+00\n",
      " -2.65910220e+00  3.16242248e-01 -1.13595352e+01 -2.75521030e+01\n",
      " -1.38226614e+01  5.34395742e+00 -6.07515395e-01  4.65907991e-01\n",
      " -1.77301197e+01 -1.60058002e+01  1.08821011e+00 -2.53620167e+01\n",
      "  1.22601330e+00 -2.15434418e+01 -2.28033733e+01 -7.34782219e+00\n",
      " -3.64126244e+01 -1.30020790e+01 -3.25567436e+01 -2.04408474e+01\n",
      " -5.79508114e+00  2.58154607e+00  1.21951084e+01  6.14031506e+00\n",
      " -2.98346882e+01 -2.42423553e+01 -1.12855740e+01 -3.19611664e+01\n",
      "  1.81387749e+01 -5.52653122e+00 -2.32757740e+01 -7.02288437e+00\n",
      " -5.14267445e+00 -1.31254559e+01  4.67833710e+00 -1.56387558e+01\n",
      " -2.90672569e+01 -3.08302492e-01 -3.43898821e+00 -2.10261021e+01\n",
      " -9.84690666e+00 -2.83357086e+01 -1.30139198e+01 -2.04150410e+01\n",
      "  1.18425655e+01 -1.38177414e+01 -3.39548416e+01 -7.56053209e+00\n",
      " -5.12436867e+00 -7.92250252e+00  6.62241840e+00 -2.25609708e+00\n",
      " -8.39672661e+00 -2.77417393e+01  1.19696426e+00 -1.35766058e+01\n",
      " -4.22648048e+01 -1.91493177e+00 -1.37080898e+01  3.14320534e-01\n",
      "  3.92890406e+00 -1.67783356e+01  6.13312340e+00 -3.30880852e+01\n",
      "  6.82819176e+00 -1.41718304e+00 -1.40551119e+01 -4.82529306e+00\n",
      " -1.12640705e+01 -6.04495192e+00 -1.62106514e+00 -2.07697105e+01\n",
      " -1.05770836e+01 -3.91002631e+00  2.29433680e+00  9.63870049e+00\n",
      " -7.40490007e+00 -9.22834301e+00 -2.49203377e+01  2.42445660e+00\n",
      "  9.38500977e+00  2.51145482e+00 -6.09510803e+00 -4.97340155e+00\n",
      "  9.60163021e+00 -6.23927653e-01 -1.12332430e+01 -4.50978699e+01\n",
      "  2.81607008e+00 -3.07074280e+01  6.00889587e+00 -1.28923674e+01\n",
      " -3.01363029e+01 -3.24520707e+00 -1.01540089e+01  1.22070694e+01\n",
      " -1.44669094e+01 -1.96218147e+01 -9.00827789e+00 -2.31136017e+01\n",
      " -3.11848869e+01 -6.50423574e+00 -3.71421671e+00  1.85563505e+00\n",
      " -2.86580811e+01 -2.00744228e+01 -2.26386452e+01 -1.51083195e+00\n",
      " -6.70957184e+00 -4.41691542e+00 -1.16001472e+01 -6.82365942e+00\n",
      " -1.80698347e+00  7.79144096e+00 -2.89496517e+01  1.27006445e+01\n",
      " -8.48348141e+00 -4.93448067e+00  2.13626480e+00 -3.93275948e+01\n",
      " -5.64706230e+00 -2.22530289e+01 -2.69435310e+00  4.28370333e+00\n",
      " -1.43541412e+01 -3.74405527e+00]' has dtype incompatible with int64, please explicitly cast to a compatible dtype first.\n",
      "  preds[val_index] = model.predict(dval_i)\n"
     ]
    },
    {
     "name": "stderr",
     "output_type": "stream",
     "text": [
      "\r",
      " 30%|████████████████████████████████████████████████████████████████████████████▌                                                                                                                                                                                  | 3/10 [01:29<03:28, 29.73s/it]"
     ]
    },
    {
     "name": "stderr",
     "output_type": "stream",
     "text": [
      "C:\\Users\\81809\\AppData\\Local\\Temp\\ipykernel_23700\\3386215446.py:18: FutureWarning: Setting an item of incompatible dtype is deprecated and will raise an error in a future version of pandas. Value '[ 7.16460228e-01 -8.00078583e+00  5.69462967e+00  1.59540377e+01\n",
      "  2.13905773e+01  7.89176750e+00  3.18373919e+00 -3.52977157e+00\n",
      "  9.53369498e-01 -5.83919138e-02 -3.18253732e+00 -3.90363002e+00\n",
      "  2.25829005e+00 -1.65803516e+00 -3.92182016e+00  2.05446663e+01\n",
      " -1.90257812e+00 -1.07695103e+00  1.82523518e+01  1.58033741e+00\n",
      "  7.05980301e+00  3.83995771e+00 -2.49368310e-01  4.97344923e+00\n",
      " -2.80746579e+00  8.16100025e+00 -8.14687550e-01 -4.86122036e+00\n",
      "  2.37866616e+00  6.79622650e+00  1.03272641e+00  1.57300329e+01\n",
      "  3.97649956e+00  4.05388212e+00  4.91646498e-01  7.71910095e+00\n",
      "  6.85203433e-01  1.72829075e+01  2.84193373e+00 -6.08309364e+00\n",
      "  7.16159439e+00  6.14968121e-01  9.05802917e+00  5.49316120e+00\n",
      " -6.39386272e+00  6.60364008e+00  2.92757940e+00 -9.27014637e+00\n",
      " -3.06584239e+00 -1.31401253e+00  2.10521564e+01  5.85159957e-01\n",
      "  6.79690480e-01 -2.65028262e+00  8.48990059e+00  2.16795921e+00\n",
      " -2.60408902e+00 -1.11747932e+00  2.25134621e+01  1.32523556e+01\n",
      " -2.08838439e+00 -3.91804516e-01  2.59247799e+01 -2.77762818e+00\n",
      "  2.95336819e+00 -1.78839540e+00  1.62951219e+00  9.89089787e-01\n",
      " -1.77567053e+00  2.57227093e-01  2.07077236e+01 -2.43617463e+00\n",
      "  6.80114794e+00  7.64895487e+00 -1.23436026e-01 -2.05787587e+00\n",
      "  5.83768797e+00 -1.09318554e+00  2.67651463e+00 -9.98818207e+00\n",
      "  1.58992310e+01  4.22130394e+00  8.08768845e+00  1.20321360e+01\n",
      " -2.49039769e+00  3.81354570e+00  4.21877623e+00 -3.35035348e+00\n",
      "  2.51416893e+01  1.19679394e+01 -1.23033943e+01 -5.36841345e+00\n",
      "  1.91451988e+01 -2.53010178e+00 -2.22843075e+00  5.36924219e+00\n",
      "  1.60887569e-01  1.33354816e+01  5.43187761e+00 -3.79705477e+00\n",
      " -4.21137667e+00  2.53348470e+00  2.24848366e+01  1.60942745e+01\n",
      " -1.36455917e+01 -8.42565373e-02 -4.00678015e+00  9.84774780e+00\n",
      " -7.75890648e-01  4.35307980e+00  7.68056107e+00  7.52978802e+00\n",
      "  1.62370071e+01  4.65927601e+00  2.36179852e+00  2.72809911e+00\n",
      " -2.32429457e+00  1.46638784e+01  1.75375900e+01  6.23795700e+00\n",
      "  5.88955832e+00  9.84978008e+00 -2.58773923e+00  7.30788517e+00\n",
      " -5.51982212e+00  1.23001492e+00  1.10668106e+01 -7.73137999e+00\n",
      "  6.57454300e+00  7.19305611e+00  5.58515930e+00  8.88586330e+00\n",
      "  9.07249260e+00  1.79162464e+01  1.36678953e+01  9.72478962e+00\n",
      " -2.66376346e-01 -5.35896206e+00  7.02288532e+00 -3.42721915e+00\n",
      " -4.84254694e+00  2.20436935e+01  9.96677494e+00 -1.57748663e+00\n",
      " -4.03293085e+00  7.07083225e+00  5.76770926e+00 -7.76857972e-01\n",
      "  5.92582655e+00 -9.09783304e-01  2.34232235e+01  4.99181509e+00\n",
      "  1.47172565e+01 -9.53699112e+00 -4.24925089e+00 -8.15816402e-01\n",
      " -6.92007828e+00  2.40113521e+00  2.65723610e+00  8.05371284e+00\n",
      "  6.60503674e+00 -1.20757284e+01  1.02497363e+00  1.14367437e+00\n",
      "  3.57517576e+00  4.53761673e+00  1.08749132e+01  3.64622498e+00\n",
      "  2.32252622e+00 -6.34330630e-01  3.51122332e+00 -6.08861637e+00\n",
      " -1.58070354e+01 -3.88249683e+00  1.27654755e+00  1.77977715e+01\n",
      "  2.84889483e+00 -1.92542350e+00  5.38237238e+00  3.40444422e+00\n",
      " -1.11629713e+00 -8.46341848e-01 -3.02036285e+00 -5.25832081e+00\n",
      "  2.53885403e+01  3.48186684e+00  2.19989376e+01 -4.92225170e+00\n",
      "  3.77413082e+00  4.13738108e+00 -3.48839617e+00 -3.14179444e+00\n",
      "  8.12214494e-01  5.74069786e+00  1.40843296e+01  1.07949328e+00\n",
      "  9.94656324e-01  1.69151878e+01 -2.07467594e+01 -2.13267183e+00\n",
      " -1.01750889e+01  1.22439690e+01  3.87836909e+00 -2.92927623e+00\n",
      "  3.55987191e+00  4.07414198e+00  1.40408409e+00  3.18457508e+00\n",
      "  9.49125862e+00  9.23998547e+00  1.79358852e+00  3.22610703e+01\n",
      "  3.01031895e+01  2.21087074e+00  9.33019733e+00 -2.35763907e+00\n",
      "  3.65645485e+01  3.81597042e+00  1.61191349e+01  1.27049627e+01\n",
      " -3.53580475e+00 -1.96774471e+00  2.62102723e+00  3.68027992e+01\n",
      "  1.23132162e+01  2.51006222e+01  3.71607285e+01  6.82456112e+00\n",
      "  5.75734794e-01  7.42602730e+00 -9.67510891e+00  6.11425877e+00\n",
      "  2.59543824e+00  2.68939514e+01  9.53856182e+00  1.82060986e+01\n",
      " -2.59912014e-01 -6.74002171e+00  3.13624334e+00 -1.53057394e+01\n",
      "  3.64459305e+01  1.06934471e+01  9.98352468e-01  1.68105519e+00\n",
      "  2.52291985e+01  2.02626686e+01  2.01361656e+01  5.03957891e+00\n",
      " -2.21111941e+00 -3.98970652e+00  1.87797222e+01  1.46571131e+01\n",
      "  2.98274860e+01  4.22127342e+00  6.56925201e+00  2.32434368e+01\n",
      "  4.13320065e+00 -1.24435844e+01  1.13907270e+01 -2.18038368e+00\n",
      "  3.02319789e+00 -4.22390509e+00  2.39793415e+01 -3.37469769e+00\n",
      "  2.98462296e+01  1.23677330e+01  3.60231185e+00  4.65493774e+00\n",
      "  5.83633363e-01  9.31133938e+00  3.56493301e+01  1.28033075e+01\n",
      "  5.67436743e+00  1.56223707e+01  3.43048782e+01  9.86993670e-01\n",
      "  5.44643593e+00 -9.20393276e+00  4.11592674e+00 -4.42696190e+00\n",
      "  1.36132841e+01  1.30002823e+01  2.20712166e+01 -2.72283030e+00\n",
      " -1.18251476e+01 -7.81089640e+00  1.82563420e-02 -8.72268867e+00\n",
      "  8.74328017e-01  2.20062656e+01  5.41859865e+00 -1.28262005e+01\n",
      "  3.50824857e+00  8.10022545e+00 -1.24995947e-01  3.51426458e+00\n",
      "  2.07514877e+01 -7.78738546e+00 -1.35474377e+01  3.92588844e+01\n",
      "  6.49307299e+00 -4.01386881e+00  2.93331795e+01  1.08356924e+01\n",
      "  2.09760914e+01  1.26189928e+01  5.25421429e+00 -4.18241596e+00\n",
      " -1.33521070e+01  9.85586882e-01 -5.95963526e+00 -1.08317404e+01\n",
      " -3.96668792e+00 -1.27268476e+01 -1.73539658e+01 -8.90422440e+00\n",
      " -7.32795382e+00 -7.18136311e+00 -7.43102217e+00 -6.44054556e+00\n",
      "  3.56076193e+00 -7.08858919e+00  2.73545289e+00  1.98180354e+00\n",
      "  1.48896527e+00 -2.23651924e+01 -1.43029761e+00 -1.27949514e+01\n",
      " -2.20159779e+01 -1.32105458e+00 -6.25436306e+00 -7.85390079e-01\n",
      "  5.79407454e+00  3.95432186e+00 -8.69581282e-01 -7.79923868e+00\n",
      " -8.68629551e+00  2.38890052e+00 -5.39720011e+00  1.32055342e+00\n",
      " -5.00198066e-01  9.94759321e-01 -4.69087029e+00 -2.63739510e+01\n",
      " -9.90816593e+00 -6.34669781e+00 -1.59551983e+01 -3.98529840e+00\n",
      " -6.04735470e+00 -1.82241726e+01 -6.99109602e+00  1.33577213e-01\n",
      " -4.99542665e+00  7.35085297e+00 -1.93026733e+01  9.52882290e+00\n",
      " -4.77723455e+00 -2.46826038e+01 -6.37355375e+00 -5.58627009e-01\n",
      " -6.30485106e+00 -8.56814384e+00 -5.78156042e+00 -3.19688773e+00\n",
      "  2.97807050e+00 -1.22524900e+01  3.06755376e+00 -1.56007862e+01\n",
      "  5.34342349e-01 -5.36695814e+00 -5.21305847e+00 -2.56425595e+00\n",
      " -2.24861965e+01 -8.90498161e+00 -4.74795485e+00 -8.78049946e+00\n",
      " -7.21614790e+00 -1.08305655e-01 -6.79242909e-01 -1.65496044e+01\n",
      " -2.81173363e+01 -3.33700132e+00 -9.66803849e-01 -1.16717982e+00\n",
      " -1.88520927e+01 -1.15046084e+00 -4.42242479e+00 -2.02449799e+00\n",
      "  1.54802358e+00 -2.52350426e+01 -1.96659946e+01  2.63158965e+00\n",
      " -1.10728722e+01  2.86584496e+00 -5.89948034e+00 -2.67966080e+00\n",
      " -6.56840563e+00 -1.15381432e+01 -4.68201160e+00 -4.90585947e+00\n",
      " -2.43102493e+01  1.43300276e+01  4.66859579e+00 -2.67693863e+01\n",
      " -1.61960487e+01 -1.58423443e+01 -1.82473011e+01 -6.27349281e+00\n",
      " -3.17803669e+00 -5.51201391e+00  8.40946484e+00 -4.86196899e+00\n",
      " -8.15490913e+00 -3.34250212e+00  6.88116729e-01  3.05064964e+00\n",
      " -8.91404510e-01 -5.37232280e-01 -1.57430754e+01  1.19055855e+00\n",
      "  1.10835440e-01  5.03770876e+00 -1.83832569e+01 -9.62707901e+00\n",
      " -2.73893237e+00 -4.89544392e+00  2.72009802e+00 -9.25135612e+00\n",
      " -1.28105259e+01 -2.12455010e+00 -6.61146402e-01  1.02050602e-01\n",
      "  4.83053982e-01 -4.73369741e+00  9.24718201e-01 -4.78299975e-01\n",
      " -5.73770571e+00 -6.79970789e+00 -9.51553249e+00 -1.01050425e+01\n",
      " -6.94781780e+00 -4.89851284e+00  2.76872486e-01 -7.66535759e+00\n",
      "  6.87308073e-01 -8.41318607e-01 -2.12313251e+01  1.67381215e+00\n",
      "  3.20028687e+00 -1.70730476e+01 -1.22565162e+00 -1.67175925e+00\n",
      "  2.39905858e+00 -7.44496167e-01 -3.67546940e+00 -5.39336920e+00\n",
      " -2.81463671e+00  4.51628590e+00  3.33731389e+00 -2.22689857e+01\n",
      "  1.54014871e-01 -4.70096874e+00 -3.59082174e+00  1.50751770e+00\n",
      " -2.90205383e+00 -3.44028234e+00  1.89645696e+00 -3.64185524e+00\n",
      " -1.56340370e+01 -1.80531895e+00 -6.39430714e+00 -4.73815054e-01\n",
      " -3.44888496e+00 -1.29312916e+01 -5.80626631e+00 -7.47922850e+00\n",
      " -2.64634752e+00 -4.89151239e+00 -1.16332541e+01 -2.20810928e+01\n",
      " -1.29513178e+01 -2.16789989e+01  4.69547224e+00 -2.09571052e+00\n",
      "  1.18751736e+01  3.81783366e+00  4.92890406e+00 -1.12158279e+01\n",
      " -5.96926498e+00  3.61124468e+00 -3.80504084e+00  5.28678179e+00\n",
      " -2.06628151e+01  1.05724216e+00 -4.30714464e+00 -1.60063934e+01\n",
      " -5.98551893e+00  3.11340714e+00 -5.78537211e-02 -1.96133542e+00\n",
      " -7.43500042e+00  7.73370743e+00 -1.20475159e+01 -4.14627838e+00\n",
      " -1.42012758e+01 -4.90875244e+00 -1.93408990e+00 -2.64794731e+01\n",
      " -1.53169794e+01  3.08521795e+00  1.35561895e+00 -3.37313151e+00\n",
      "  1.05245819e+01 -4.09838009e+00 -1.63248062e+01 -5.08111954e+00\n",
      "  2.66920328e+00 -7.97347212e+00 -4.01870060e+00 -8.31320286e+00\n",
      " -1.00848503e+01 -3.45623665e+01  1.99267566e+00 -2.59574051e+01\n",
      " -1.26616211e+01  5.56145382e+00 -1.95426559e+01 -1.52626944e+01\n",
      "  1.10891020e+00 -1.08749599e+01  1.30649853e+00 -2.51518822e+01\n",
      " -2.95311203e+01  3.15568542e+00 -3.55589027e+01 -2.75932579e+01\n",
      " -1.29868994e+01 -9.25950241e+00 -4.67641640e+00 -2.61539421e+01\n",
      " -1.63926196e+00 -1.23498096e+01  4.41506052e+00 -2.20094547e-01\n",
      " -2.71191955e+00 -3.42483073e-02 -4.40869980e+01 -1.80485535e+00\n",
      " -3.26789832e+00  6.38687468e+00 -2.07117901e+01 -2.36243191e+01\n",
      " -2.58902092e+01 -1.07461243e+01  1.31954956e+00 -1.04703074e+01\n",
      "  1.52901280e+00  4.21341121e-01 -7.93277693e+00 -2.43194485e+01\n",
      "  6.71296101e-03 -7.59196377e+00 -2.72393227e-01 -1.78768921e+01\n",
      " -8.79560661e+00 -6.58614969e+00 -2.21108651e+00 -1.20072231e+01\n",
      " -1.60924168e+01 -3.19166031e+01 -4.15599442e+00 -3.75121856e+00\n",
      " -3.07493286e+01 -3.57201042e+01 -3.96599312e+01 -6.87366199e+00\n",
      " -8.98263454e+00 -2.87327271e+01 -6.36809683e+00 -1.92432175e+01\n",
      "  2.92069578e+00 -1.40456324e+01 -1.11835546e+01  1.06158905e+01\n",
      "  3.18746948e+00  1.80519485e+00 -4.07492208e+00 -5.69520712e+00\n",
      " -1.26617622e+01 -6.65225327e-01 -1.18573761e+01 -2.87307382e+00\n",
      "  3.11747241e+00  4.14645004e+00 -7.07069540e+00 -4.02397215e-01\n",
      " -8.90631104e+00 -1.52202206e+01 -1.75786457e+01 -4.16864300e+00\n",
      "  9.50129414e+00 -7.63849831e+00 -2.19388270e+00 -1.21351452e+01\n",
      " -1.19951105e+01  2.66307449e+00 -1.67359505e+01 -2.56462860e+01\n",
      "  4.58776855e+00 -3.42439032e+00  8.06861520e-01 -2.10306568e+01\n",
      " -4.94567490e+00 -4.62285137e+00 -2.19110718e+01 -2.86672711e+00\n",
      "  9.65014458e+00  2.44205713e+00 -7.85915852e+00  9.01363087e+00\n",
      " -6.86253881e+00 -2.38818073e+01 -2.30500400e-01 -2.85473614e+01\n",
      " -1.53498411e+01  4.39637232e+00 -1.69072342e+01 -5.08962202e+00\n",
      " -5.68547964e+00  8.68530369e+00 -1.83819771e+01 -3.02291565e+01\n",
      " -4.06559067e+01 -9.82475853e+00 -6.93042755e+00 -3.69969711e+01\n",
      " -3.05244255e+01 -3.31718540e+00 -2.04006119e+01  5.00174046e+00\n",
      "  8.86321354e+00 -3.40765762e+01 -2.68132734e+00 -2.82563496e+01\n",
      " -1.55073032e+01 -2.34864864e+01]' has dtype incompatible with int64, please explicitly cast to a compatible dtype first.\n",
      "  preds[val_index] = model.predict(dval_i)\n"
     ]
    },
    {
     "name": "stderr",
     "output_type": "stream",
     "text": [
      "\r",
      " 40%|██████████████████████████████████████████████████████████████████████████████████████████████████████                                                                                                                                                         | 4/10 [02:03<03:08, 31.35s/it]"
     ]
    },
    {
     "name": "stderr",
     "output_type": "stream",
     "text": [
      "C:\\Users\\81809\\AppData\\Local\\Temp\\ipykernel_23700\\3386215446.py:18: FutureWarning: Setting an item of incompatible dtype is deprecated and will raise an error in a future version of pandas. Value '[-9.93328571e+00 -3.91009867e-01  2.03781681e+01  1.23113136e+01\n",
      "  2.24755783e+01  1.93939915e+01 -1.85457695e+00  6.21847248e+00\n",
      "  1.11531687e+01  7.31266022e+00  8.61947060e+00 -2.99296117e+00\n",
      " -3.50621653e+00  2.21686721e+00  2.41515160e+01  2.29898949e+01\n",
      " -1.74749589e+00  4.89856720e+00 -4.76609707e-01  4.87513971e+00\n",
      "  1.07189016e+01  2.15840769e+00  1.98285408e+01  2.11623421e+01\n",
      "  2.55482078e+00 -6.59908104e+00  6.12908483e-01  1.72515285e+00\n",
      "  5.65584087e+00 -4.36278534e+00  7.11535883e+00 -1.12980282e+00\n",
      "  2.03038940e+01 -9.98096108e-01 -6.70130205e+00  2.69116902e+00\n",
      "  1.78283730e+01 -4.69359064e+00  8.34388554e-01 -1.46756637e+00\n",
      "  2.78721333e+00  7.58354330e+00 -4.43995667e+00 -8.39536858e+00\n",
      " -1.30590415e+00  7.43728828e+00  5.70717049e+00  1.55078993e+01\n",
      "  8.15224838e+00  7.58132935e+00  7.29526949e+00 -5.02021217e+00\n",
      " -2.78134370e+00  5.22337723e+00 -1.16356859e+01  3.56279039e+00\n",
      "  7.31796694e+00  2.34396725e+01  2.14544163e+01  4.84164524e+00\n",
      "  4.61925507e+00  9.83034492e-01  3.88571334e+00 -2.01488137e+00\n",
      "  7.14868593e+00  5.93448400e+00 -1.63850188e+00  2.41516089e+00\n",
      "  3.57956576e+00  2.63796306e+00 -2.48030519e+00  2.82131982e+00\n",
      " -2.92554021e+00  5.38237000e+00 -1.44694641e-01  2.68071003e+01\n",
      "  7.75451994e+00 -2.05294871e+00 -6.85795879e+00 -1.32007921e+00\n",
      "  1.18169966e+01  3.10039073e-01 -2.06644487e+00  3.67737579e+00\n",
      "  9.33995533e+00  2.37811327e+00  1.33747988e+01  2.17578959e+00\n",
      "  2.31807194e+01  1.06114616e+01 -1.12256641e+01 -6.01372862e+00\n",
      "  2.36106167e+01 -4.97177219e+00  8.24311924e+00  1.20355358e+01\n",
      "  4.73685360e+00  1.25271301e+01 -1.32018268e+00 -1.10410082e+00\n",
      " -1.29832029e+00  1.08938799e+01  2.28244438e+01 -8.76733685e+00\n",
      " -6.49100780e+00  1.27085819e+01 -2.24251914e+00  6.37718010e+00\n",
      "  2.67000079e+00  3.62252235e+00 -7.20796108e+00 -2.48813653e+00\n",
      "  4.94747281e-01  5.37182808e+00  1.81741619e+00  3.21524882e+00\n",
      " -1.11839933e+01  6.56253958e+00 -1.33989310e+00  1.26027560e+00\n",
      " -2.49748564e+00  7.65618801e+00  5.38184643e+00 -3.22401571e+00\n",
      "  4.01554632e+00  1.00264204e+00  7.11985302e+00  5.99939823e+00\n",
      "  1.56289377e+01  4.56888485e+00 -1.94269524e+01 -2.07407808e+00\n",
      "  1.89503682e+00 -1.34687865e+00  8.63069916e+00 -2.63745117e+00\n",
      "  2.19850242e-02  4.52506447e+00  2.82732697e+01  1.15008249e+01\n",
      " -2.12490463e+00  1.68141556e+01  2.25638027e+01 -2.91742897e+00\n",
      " -7.60628128e+00  1.52823277e+01 -1.66224152e-01  9.32875252e+00\n",
      "  1.51813424e+00  6.10314703e+00  5.38713741e+00 -3.40972924e+00\n",
      "  1.48106108e+01  4.43526125e+00  3.09826517e+00  1.81797826e+00\n",
      "  7.30983400e+00  2.04078751e+01  2.87260222e+00 -1.07549839e+01\n",
      "  3.20566392e+00 -7.90025902e+00 -1.04335654e+00  2.99367023e+00\n",
      " -3.65465593e+00  5.97743845e+00  1.13263822e+00  5.02709866e-01\n",
      "  4.20318127e+00  9.63037205e+00 -6.99664593e-01  6.78856802e+00\n",
      "  1.14884796e+01 -5.80308628e+00  4.30980635e+00  1.71297097e+00\n",
      " -2.74375975e-01  5.38678980e+00  5.78922272e+00  1.23906660e+00\n",
      " -3.07391000e+00  5.93057871e+00 -3.09128213e+00 -4.38487387e+00\n",
      " -4.75773621e+00  1.25419731e+01  2.91417050e+00  5.71334076e+00\n",
      " -2.91163111e+00 -2.46398377e+00  2.57952633e+01  4.01350594e+00\n",
      "  2.48007946e+01 -2.19167739e-01 -9.15498066e+00  1.50699053e+01\n",
      "  1.24040051e+01  4.24861336e+00  2.24515319e-01 -5.26063108e+00\n",
      "  9.50876522e+00  1.66630974e+01 -2.68210220e+00 -3.35768580e+00\n",
      "  5.37049770e+00  5.84856367e+00 -9.87953949e+00  4.09072781e+00\n",
      " -6.63552856e+00 -6.58667326e+00 -7.83309042e-01  3.04627657e+00\n",
      "  1.06126375e+01  1.35973263e+01 -8.15845585e+00  2.55060329e+01\n",
      "  9.15942669e+00  9.01619339e+00  4.68958378e+00  1.27869987e+01\n",
      " -3.51696038e+00  3.46298256e+01 -1.99433887e+00  1.78257561e+01\n",
      " -1.44018888e+00  2.57264233e+01  2.34731121e+01 -4.51088715e+00\n",
      " -6.24546576e+00  9.28614902e+00  1.35239849e+01  1.66701946e+01\n",
      " -7.11807919e+00 -4.80778122e+00 -4.05096340e+00  1.77107525e+00\n",
      "  1.79483676e+00  1.72749214e+01  3.65905113e+01  9.20031667e-01\n",
      "  2.05878186e+00  7.54316902e+00 -1.02019000e+00  2.05350227e+01\n",
      "  1.51727638e+01  2.02266541e+01  1.85017262e+01  1.53656244e+01\n",
      "  8.31764030e+00  4.75953221e-01  8.54867554e+00  2.32094841e+01\n",
      "  3.96105194e+00  4.46555758e+00  2.74342461e+01  5.32455778e+00\n",
      " -8.95607758e+00  2.50295219e+01  1.43646145e+01  2.26224575e+01\n",
      "  1.39960349e-01  2.45319915e+00  2.49684582e+01  9.35357475e+00\n",
      "  1.54527168e+01  1.69975936e+00 -1.07624702e+01  1.67421186e+00\n",
      "  6.06855512e-01  2.96243591e+01  1.11371412e+01  1.49375191e+01\n",
      " -8.00099277e+00  1.27718410e+01  3.58765945e+01  1.20728474e+01\n",
      "  5.90320110e+00  1.37572947e+01 -3.53941226e+00  3.58459091e+01\n",
      "  1.71518028e+00 -2.60055637e+00  4.22841415e+01  9.79536438e+00\n",
      "  5.58614206e+00 -7.57130957e+00  6.92699289e+00  3.75223045e+01\n",
      "  4.51408672e+00  3.36261272e+00 -1.33949995e+00  1.72186317e+01\n",
      "  1.40783052e+01  2.87818718e+01  1.37625332e+01 -2.19282508e+00\n",
      " -3.88119507e+00  1.16269970e+01  2.09599648e+01 -2.70331097e+00\n",
      "  6.69318056e+00  9.34994984e+00  3.86233115e+00  2.91692200e+01\n",
      "  1.73678780e+01  4.25798464e+00  1.25100222e+01  3.49362683e+00\n",
      "  1.22906446e+01  5.76984835e+00  6.82961655e+00 -4.94906712e+00\n",
      " -4.12860203e+00  8.62880611e+00  1.24338808e+01  7.52705526e+00\n",
      "  1.49800444e+01  2.36493206e+00 -9.06875879e-02  3.57340527e+00\n",
      " -1.35179627e+00 -3.72358799e+00  1.78661692e+00 -8.84899426e+00\n",
      " -7.90913200e+00 -4.06744576e+00 -2.00137615e+01 -1.03946161e+01\n",
      " -1.85680485e+00  3.68221664e+00 -6.38361883e+00 -7.56541681e+00\n",
      " -7.49615860e+00 -4.36328602e+00 -3.58256245e+00 -5.04834652e+00\n",
      " -1.96655083e+01 -3.80989361e+00 -2.70972514e+00 -7.06539536e+00\n",
      " -9.71886063e+00 -7.18348169e+00  8.61562014e-01 -4.74082136e+00\n",
      " -3.75110054e+00 -3.18691421e+00  9.44587517e+00 -7.47470522e+00\n",
      "  8.14480364e-01  5.73107004e+00 -2.29573679e+00 -1.37037210e+01\n",
      " -1.35554094e+01  1.13694310e-01 -2.33297329e-02  9.58437800e-01\n",
      " -2.34516859e+00 -4.17049074e+00  1.01409340e+00 -5.57116318e+00\n",
      " -8.48217678e+00  3.58128738e+00 -7.92770004e+00 -1.58403599e+00\n",
      " -1.31125803e+01  3.83466840e+00 -6.08910561e+00 -9.64976072e-01\n",
      " -7.81288624e+00 -5.32955456e+00  5.13752317e+00  3.63534689e+00\n",
      " -8.82498741e+00 -3.42900300e+00 -5.23397779e+00 -4.30663109e+00\n",
      " -2.41959934e+01 -1.52268915e+01  8.43760133e-01 -7.39280510e+00\n",
      " -3.22191978e+00 -7.42284489e+00 -1.13197241e+01 -6.15679264e+00\n",
      " -3.35328937e+00  1.85141420e+00 -2.31335312e-01 -1.87787533e+01\n",
      " -2.46571388e+01 -7.68036556e+00  1.48515165e+00  3.91157687e-01\n",
      "  7.15555334e+00 -1.91279545e+01 -5.02032614e+00  4.71299529e-01\n",
      " -9.06027508e+00 -1.48525505e+01  4.46343851e+00 -2.14995213e+01\n",
      " -1.03914416e+00 -3.94208670e-01 -1.43892355e+01  2.39963508e+00\n",
      " -1.95655651e+01 -1.44634187e+00  1.03179226e+01 -8.72972488e+00\n",
      "  4.07958412e+00 -8.99044418e+00 -1.04456539e+01 -5.60386467e+00\n",
      " -5.35409641e+00 -5.28522635e+00  1.80825758e+00 -5.88714981e+00\n",
      " -2.85501647e+00 -2.32977695e+01  1.92085814e+00  1.58505764e+01\n",
      "  1.88504970e+00 -1.06897955e+01 -9.67099285e+00 -4.73744535e+00\n",
      "  1.21573067e+00  2.40898633e+00 -9.61124039e+00 -4.73578691e+00\n",
      " -4.00501585e+00 -4.74935919e-01  8.22065175e-01 -1.89289129e+00\n",
      "  2.50262904e+00 -2.66299295e+00 -8.16112328e+00  1.24080992e+00\n",
      "  5.51565599e+00 -4.95367527e+00 -1.70317478e-02 -5.76327229e+00\n",
      " -1.43242741e+00 -8.31589031e+00  3.59584379e+00  2.07320709e+01\n",
      " -2.17605076e+01 -6.57342434e+00 -3.92399883e+00 -1.87467825e+00\n",
      " -1.97072296e+01 -3.67976117e+00  2.18430734e+00 -1.79054146e+01\n",
      "  5.70323610e+00  1.24500179e+00 -4.70952660e-01 -9.95502758e+00\n",
      "  4.96451187e+00 -5.34803677e+00 -5.93274927e+00  2.18725872e+00\n",
      "  5.51198125e-01 -3.97862267e+00 -7.80371952e+00  6.23490572e-01\n",
      "  6.86530399e+00 -1.17102118e+01 -1.66471970e+00 -1.68795719e+01\n",
      " -2.64011621e+00 -4.13699007e+00 -6.33419323e+00  9.73579407e+00\n",
      "  6.85107660e+00 -3.41014171e+00 -2.32217097e+00  7.57111454e+00\n",
      " -9.80036497e-01  2.46624589e+00  2.97190094e+00 -2.98876786e+00\n",
      " -2.09855328e+01 -1.29183159e+01 -4.30719233e+00 -2.75945187e-01\n",
      "  1.24428215e+01 -1.38192022e+00 -9.41358984e-01 -8.54632092e+00\n",
      " -3.23101687e+00 -7.01285982e+00 -3.71099496e+00 -3.34700823e+00\n",
      " -7.27519178e+00  5.25077283e-01 -1.23376551e+01 -2.01757927e+01\n",
      " -8.56871033e+00 -4.57972574e+00 -1.08143864e+01 -1.84299088e+01\n",
      " -2.59523225e+00 -4.76536989e+00  2.57495737e+00  8.19852638e+00\n",
      " -2.50687847e+01 -3.31187510e+00 -2.38372278e+00 -1.42378044e+01\n",
      " -6.41466379e-01 -2.08721561e+01 -2.10399723e+01  1.84672415e+00\n",
      " -7.31956959e+00 -7.42190981e+00 -5.18137503e+00  6.95843548e-02\n",
      " -7.13650084e+00 -4.28657436e+00 -3.99314404e+00 -6.90837526e+00\n",
      "  1.68300733e-01  1.18579311e+01  2.16299667e+01 -5.98693132e+00\n",
      "  3.60421443e+00  4.33073807e+00 -5.96912050e+00 -5.49621916e+00\n",
      " -4.12121677e+00 -3.07455578e+01 -7.34951162e+00 -2.47070045e+01\n",
      " -2.94545250e+01 -4.72163248e+00 -3.60861435e+01  1.44853811e+01\n",
      " -1.13043108e+01 -1.52573376e+01  8.68726540e+00 -5.08412552e+00\n",
      " -1.12988434e+01 -2.97875748e+01 -2.53188648e+01 -2.34898796e+01\n",
      " -4.47041035e+00 -3.48123436e+01 -2.55017357e+01 -7.12771511e+00\n",
      " -3.60885835e+00 -2.15246677e+01 -2.87877407e+01 -1.52595701e+01\n",
      " -2.00308723e+01 -1.11697130e+01 -2.29813614e+01 -3.53657990e+01\n",
      "  4.97938067e-01 -2.87341952e+00 -5.79677773e+00 -3.42010522e+00\n",
      " -4.62975311e+01  5.73151445e+00 -1.75696182e+01 -1.05696545e+01\n",
      " -1.28421326e+01  2.09875536e+00  3.87848783e+00 -3.12372589e+00\n",
      " -1.07172518e+01 -1.16625042e+01  1.19599390e+01  2.32408371e+01\n",
      " -1.93785667e+00 -3.31039041e-01 -1.78656712e+01 -1.31062040e+01\n",
      " -2.97268639e+01 -2.92513390e+01  4.42325544e+00 -1.68160095e+01\n",
      "  7.66576767e+00  1.07299118e+01 -3.02232704e+01 -1.63233795e+01\n",
      " -3.14225998e+01 -3.36722221e+01 -1.13430901e+01 -5.04058504e+00\n",
      " -3.53231926e+01 -4.69202662e+00 -3.48188133e+01  1.26683130e+01\n",
      " -9.65510273e+00 -2.48023548e+01 -2.62577667e+01 -5.35430527e+00\n",
      " -9.44709003e-01 -7.48426962e+00 -1.39882488e+01 -1.26802802e+00\n",
      " -3.01748447e+01 -1.09459152e+01 -2.42258205e+01  4.87445402e+00\n",
      " -8.10188293e+00  3.91017365e+00 -4.06430292e+00 -3.29281693e+01\n",
      " -8.39763999e-01 -1.76106083e+00 -6.55344820e+00 -1.40570936e+01\n",
      "  3.64525509e+00 -7.03452969e+00 -9.83897209e+00 -8.04308712e-01\n",
      " -3.26849532e+00 -2.39195919e+01 -2.87066422e+01 -2.71163731e+01\n",
      " -1.62459126e+01 -4.47667980e+00 -2.76293163e+01 -2.03190765e+01\n",
      " -6.04453135e+00  1.15540037e+01 -5.59273958e+00 -1.02788506e+01\n",
      " -1.18010921e+01 -6.21668196e+00  2.60863209e+00  1.00148077e+01\n",
      " -3.89021645e+01  2.06613016e+00 -2.43512630e+01  3.71755791e+00\n",
      " -1.11959076e+01 -3.05194706e-01 -1.05709343e+01 -1.92373908e+00\n",
      " -1.31890714e+00  1.77594948e+01 -8.63266468e+00 -1.98517132e+01\n",
      " -3.02444100e+00 -2.20918012e+00]' has dtype incompatible with int64, please explicitly cast to a compatible dtype first.\n",
      "  preds[val_index] = model.predict(dval_i)\n"
     ]
    },
    {
     "name": "stderr",
     "output_type": "stream",
     "text": [
      "\r",
      " 50%|███████████████████████████████████████████████████████████████████████████████████████████████████████████████████████████████▌                                                                                                                               | 5/10 [02:35<02:36, 31.33s/it]"
     ]
    },
    {
     "name": "stderr",
     "output_type": "stream",
     "text": [
      "C:\\Users\\81809\\AppData\\Local\\Temp\\ipykernel_23700\\3386215446.py:18: FutureWarning: Setting an item of incompatible dtype is deprecated and will raise an error in a future version of pandas. Value '[ 5.77463269e-01  1.15964091e+00  1.56413908e+01  2.99723697e+00\n",
      " -6.24949312e+00 -4.94769037e-01  1.98758049e+01  8.96252060e+00\n",
      "  1.03667698e+01  5.60918236e+00  2.36211586e+00  6.18584394e+00\n",
      "  6.23573732e+00  2.39803734e+01  2.35464311e+00  2.04790897e+01\n",
      "  2.10060863e+01 -9.89931393e+00  2.12739563e+00  2.84766555e-01\n",
      " -1.20470673e-03 -3.21077585e+00  2.46273212e+01  2.74025002e+01\n",
      "  1.09487295e+01  3.32171416e+00 -2.85963631e+00  7.85361576e+00\n",
      "  5.01122999e+00 -2.92378187e-01 -1.66570461e+00  5.41671515e+00\n",
      "  2.71080041e+00  3.76610255e+00  1.64006367e+01  1.72182751e+00\n",
      "  6.17352091e-02  2.02683372e+01 -2.00461841e+00  5.35721493e+00\n",
      "  1.46118784e+00 -4.58173990e+00 -1.17579925e+00  8.33649635e+00\n",
      " -5.73698950e+00 -8.79322815e+00  1.78937950e+01  4.48350191e+00\n",
      "  2.15240059e+01  7.32874966e+00  2.14195251e+00  5.72988701e+00\n",
      " -2.06345463e+00 -1.93405330e+00  1.68798292e+00  1.18820696e+01\n",
      "  1.42302856e+01  5.70844793e+00  3.04737926e+00  3.25552416e+00\n",
      "  2.93114305e+00  5.84177780e+00  6.48583698e+00  6.54866505e+00\n",
      " -1.79717767e+00 -9.07975256e-01  1.69078178e+01  7.39354610e+00\n",
      "  1.10904789e+01  2.71986160e+01  3.80427051e+00  2.54801865e+01\n",
      " -8.97146034e+00  1.13423185e+01  1.05214233e+01  1.41802418e+00\n",
      "  3.04161286e+00  2.56999550e+01  7.53814173e+00  2.21046906e+01\n",
      " -3.41531843e-01  1.08098888e+01  8.33113766e+00 -6.00262165e-01\n",
      "  2.99377537e+00  1.15134392e+01  3.65288329e+00  1.23835135e+01\n",
      " -2.37866163e+00 -1.80112660e+00  2.44277916e+01 -3.55287600e+00\n",
      " -2.82694554e+00 -2.81891227e+00  2.58830929e+01 -8.94947827e-01\n",
      "  1.81960411e+01  4.75737095e-01  1.14855471e+01  2.16578364e+00\n",
      " -3.60962987e+00  4.32726860e+00  7.08919644e-01  1.69282055e+01\n",
      "  1.29027128e+01  2.16596146e+01 -4.26627064e+00  8.23183060e+00\n",
      " -2.20257092e+00  8.74791622e+00  1.12039862e+01  4.97192383e+00\n",
      " -1.50154676e+01 -4.03387260e+00 -3.38825107e+00  1.02074080e+01\n",
      "  6.81034625e-01  2.97077122e+01  1.51599970e+01  6.67257309e+00\n",
      "  9.06337547e+00  7.61186743e+00  1.66144657e+01 -3.52193229e-02\n",
      "  1.23641195e+01  3.83498216e+00 -1.36189389e+00  8.32482719e+00\n",
      " -2.85001302e+00  2.40915394e+00  3.18681479e+00  3.21991849e+00\n",
      "  5.70196696e-02  6.86977482e+00 -1.19816351e+01 -7.40006447e-01\n",
      " -2.82807159e+00 -5.28384447e+00  5.45608091e+00  1.07183957e+00\n",
      " -1.78921056e+00  1.66866722e+01  1.31811829e+01 -5.81632710e+00\n",
      "  1.93989849e+01  1.67609634e+01  2.24680367e+01  3.97680902e+00\n",
      "  6.26978350e+00  4.81372881e+00 -1.93480694e+00  7.06189251e+00\n",
      "  2.87526917e+00  1.32625818e+01 -2.37981486e+00  2.36635590e+00\n",
      "  3.61525059e-01 -3.98633385e+00  3.71505499e+00  2.07504139e+01\n",
      "  5.75636292e+00  4.98434782e+00  1.98667884e+00  8.85296440e+00\n",
      "  6.96067736e-02 -1.81937620e-01  4.25603914e+00  5.57274103e+00\n",
      "  1.23352089e+01 -4.49852419e+00  2.03898296e+01  3.32950187e+00\n",
      "  1.30731268e+01  6.44216776e+00  6.42812204e+00 -2.95513988e+00\n",
      "  1.99882090e+00  9.18058205e+00  5.69237852e+00  2.41308250e+01\n",
      "  7.32596540e+00  1.00693588e+01  9.69467640e+00  4.39216566e+00\n",
      "  2.44234867e+01  6.09608603e+00  6.39836264e+00  6.11260414e+00\n",
      "  4.22787046e+00  8.55270100e+00  1.07228365e+01  8.67612362e+00\n",
      "  5.75756693e+00 -2.30772066e+00  1.68612537e+01 -1.33964217e+00\n",
      "  3.34431648e+00 -1.16389191e+00  4.64389420e+00  1.02292690e+01\n",
      "  3.40275040e+01 -2.25540447e+00  4.26757469e+01 -2.56866646e+00\n",
      "  1.44508572e+01 -4.07109737e-01  3.91100025e+00 -6.63087702e+00\n",
      "  9.20615482e+00  4.53712368e+00  1.35811768e+01  6.90551281e+00\n",
      " -7.90114450e+00 -2.36612439e+00  2.18060265e+01  2.15220203e+01\n",
      "  7.86159849e+00 -5.03002882e-01  3.48948746e+01  3.66986275e+01\n",
      "  6.51352453e+00  1.84541016e+01  8.38455009e+00  1.29609289e+01\n",
      "  1.63575172e+01 -5.65402031e+00  1.25215912e+01  7.91428947e+00\n",
      " -4.92272139e+00 -3.87181950e+00  1.85614848e+00 -6.30589247e+00\n",
      "  9.07891083e+00  3.19774485e+00  1.71555767e+01  3.44895020e+01\n",
      "  8.19233179e-01  3.12690029e+01 -7.03943253e-01 -3.64679158e-01\n",
      "  1.29272267e-01  6.58838892e+00  4.73038769e+00  1.38797534e+00\n",
      " -7.72403336e+00 -1.34855270e-01  1.62230225e+01  3.27487135e+00\n",
      "  8.93968201e+00  1.30219011e+01  3.31020432e+01  3.99957013e+00\n",
      " -5.67481661e+00  1.40280943e+01  2.25918751e+01  1.16067324e+01\n",
      "  8.55819511e+00  6.24785471e+00  3.29715371e+00  2.47836256e+00\n",
      "  4.41173592e+01 -4.08725309e+00  2.42756557e+01 -3.34256840e+00\n",
      " -5.85232735e+00  1.55748005e+01  3.27379265e+01  5.29705524e+00\n",
      "  1.16750231e+01  1.02753267e+01 -2.36769295e+00  7.57608366e+00\n",
      "  1.55053873e+01  3.21524696e+01  1.17683303e+00  1.93241251e+00\n",
      "  5.25334978e+00 -2.78341579e+00  8.89782619e+00  4.23878193e+00\n",
      "  4.62981262e+01 -2.75327063e+00 -2.37479019e+00 -1.05651987e+00\n",
      "  3.07771931e+01 -5.13660431e+00  2.52508183e+01  2.11842785e+01\n",
      "  2.58287024e+00 -1.25926876e+01  1.11704340e+01  2.01861362e+01\n",
      "  8.31689835e+00 -1.05740154e+00  5.93575621e+00  3.55597343e+01\n",
      " -3.86305332e+00  1.09688692e+01  5.14666271e+00  1.43786049e+01\n",
      "  3.07978606e+00  5.42899275e+00  4.22691774e+00 -1.10261860e+01\n",
      " -8.11183739e+00  3.69178653e-02 -9.63912106e+00 -9.52004313e-01\n",
      "  8.04914665e+00  9.50079155e+00  2.92414036e+01  1.44096050e+01\n",
      "  2.11746788e+01  5.78621864e+00  1.93539166e+00  1.92072392e+01\n",
      "  5.27179480e+00  6.59230042e+00  2.10318356e+01  1.33708200e+01\n",
      "  2.07708073e+01 -1.15848529e+00 -5.67164850e+00 -2.26865053e+00\n",
      " -1.92628212e+01 -6.39598894e+00 -1.23045702e+01 -1.14366579e+00\n",
      " -5.96616459e+00  2.79246736e+00 -6.42729425e+00 -6.35427380e+00\n",
      "  6.85200977e+00  4.42613029e+00  3.07824969e+00 -2.37393856e+00\n",
      "  1.36360335e+00 -5.48454189e+00 -2.50552225e+00 -2.03007174e+00\n",
      " -2.02261124e+01 -3.03324986e+00 -4.47096729e+00 -1.45440507e+00\n",
      " -1.27643394e+00 -2.93662333e+00 -2.48304677e+00 -2.85042197e-01\n",
      " -1.04916983e+01 -1.98849487e+01 -2.77723122e+01 -2.88709116e+00\n",
      " -8.28786850e+00 -5.29000235e+00 -8.25029945e+00 -4.90761101e-01\n",
      "  3.29041123e-01 -4.43991804e+00 -9.55831528e+00 -7.40177631e-01\n",
      " -9.97816944e+00 -6.23858643e+00  7.67813921e-01 -5.51557398e+00\n",
      " -4.62335730e+00 -1.56033506e+01 -2.09300957e+01 -5.96302128e+00\n",
      " -1.86320603e+00 -1.81565058e+00 -6.61643505e+00  4.94682741e+00\n",
      "  3.49033141e+00 -7.22427034e+00  1.47209272e-01 -2.00278449e+00\n",
      " -1.47305050e+01 -6.30077553e+00 -1.13531530e+00 -1.47483568e+01\n",
      " -7.08923340e+00  3.07216930e+00 -7.94107199e+00 -1.03285532e+01\n",
      " -4.90255451e+00  4.69636440e+00  1.66742051e+00 -6.23356342e+00\n",
      " -8.60626030e+00  8.64722061e+00 -1.56979628e+01 -1.18526602e+01\n",
      " -1.50088096e+00 -3.59707260e+00 -8.63897502e-01 -1.30022039e+01\n",
      " -1.88604603e+01  2.31663394e+00  5.74950981e+00 -7.64392567e+00\n",
      "  4.17715693e+00 -1.84981251e+01 -1.20095625e+01 -5.89969778e+00\n",
      " -3.33111596e+00 -4.26797771e+00 -1.19091463e+00 -1.24826164e+01\n",
      " -8.61420441e+00 -2.84243083e+00 -1.46797142e+01 -1.01391296e+01\n",
      " -2.96463799e+00 -1.03042974e+01 -9.95271981e-01 -2.29193282e+00\n",
      " -3.69806814e+00 -1.13152285e+01 -1.95716820e+01  2.56862664e+00\n",
      " -2.24553642e+01 -1.22488356e+01 -5.61770868e+00 -1.87014401e+00\n",
      " -4.91441536e+00 -1.85020769e+00 -1.32352161e+01  4.89182711e+00\n",
      "  5.74483967e+00  1.68932438e-01 -1.15852499e+00 -5.76423073e+00\n",
      " -2.67476702e+00 -6.52468348e+00  8.74394035e+00 -2.31806087e+01\n",
      " -1.98114741e+00 -6.74732733e+00 -1.20809710e+00  1.09893441e+00\n",
      " -8.58924770e+00 -1.34400206e+01  2.57025003e+00 -4.53773594e+00\n",
      " -3.88437486e+00 -3.92151904e+00  1.72395058e+01 -2.26493335e+00\n",
      "  2.55365849e+00  1.35453844e+01 -1.68836479e+01  3.56520247e+00\n",
      " -1.55155210e+01  2.96544027e+00 -8.26931095e+00 -4.12409210e+00\n",
      "  4.89673167e-01 -7.44256198e-01 -2.17275810e+00 -3.38437510e+00\n",
      " -1.94742069e+01 -1.04230766e+01 -7.46875143e+00 -2.20617733e+01\n",
      "  7.51852798e+00 -9.71365154e-01  4.86354208e+00  2.05719042e+00\n",
      " -2.15764122e+01 -2.80797386e+00 -6.53124952e+00  1.08518543e+01\n",
      " -1.15121639e+00 -1.80604858e+01  5.39916813e-01 -4.61938238e+00\n",
      " -1.77771931e+01 -2.76007533e-01 -1.21862185e+00 -2.87227559e+00\n",
      "  1.24167740e-01 -1.02680426e+01  1.99876130e+00  8.65061164e-01\n",
      "  5.35159886e-01  5.25655794e+00 -1.29886017e+01  5.28603935e+00\n",
      " -2.25121355e+00 -4.13636637e+00 -8.51181412e+00  3.02711296e+00\n",
      " -2.54200497e+01 -3.60492420e+00 -8.94434643e+00  4.35091734e+00\n",
      " -3.52122545e+00  7.08167553e+00  3.24675381e-01  2.66482615e+00\n",
      " -4.43376684e+00 -4.70097113e+00  2.85858250e+00 -9.82663727e+00\n",
      " -5.48257732e+00  8.18770981e+00  1.97866118e+00  4.04595184e+00\n",
      " -7.49383867e-02 -1.66987514e+01 -2.84879827e+00 -6.31444120e+00\n",
      " -3.24611616e+00 -1.79605043e+00 -3.09356976e+00 -3.21959734e+00\n",
      " -1.45012522e+00  2.47257900e+00  2.34490356e+01 -1.88299065e+01\n",
      " -5.90642023e+00 -3.86347079e+00 -1.72232704e+01 -3.65770936e+00\n",
      "  9.56045818e+00 -3.58091807e+00  1.04796314e+00 -3.86310363e+00\n",
      " -8.98411274e+00 -9.28704357e+00 -7.81103182e+00 -4.25099993e+00\n",
      " -1.13871698e+01 -9.59977341e+00 -6.46912718e+00  4.23941517e+00\n",
      " -1.32052584e+01 -5.26834583e+00 -1.72522659e+01 -9.66614246e+00\n",
      " -2.53504620e+01  3.69759464e+00 -1.16379032e+01 -3.13583732e+00\n",
      " -6.93729281e-01 -9.20458984e+00 -2.92496548e+01 -3.34640045e+01\n",
      "  1.38144655e+01 -8.16091824e+00  1.22690535e+00 -1.66929162e+00\n",
      " -5.42757893e+00 -2.32662449e+01 -2.43911724e+01 -7.22175312e+00\n",
      " -8.61867046e+00  4.40051746e+00 -1.94454861e+01 -1.47695141e+01\n",
      " -6.33008432e+00 -5.19946337e+00 -2.32871475e+01 -1.18818979e+01\n",
      "  6.99298382e+00  5.30507898e+00  1.21225560e+00 -4.70645618e+00\n",
      " -2.74934483e+01 -1.07806311e+01 -1.56393280e+01  2.15693398e+01\n",
      " -1.74724159e+01  5.86663342e+00 -1.32778893e+01 -1.34824829e+01\n",
      " -3.48451080e+01 -6.77951336e+00 -2.63319659e+00 -1.55932331e+00\n",
      " -2.18215895e+00 -6.25930595e+00 -6.95604324e+00 -1.60008717e+01\n",
      " -1.45988579e+01 -3.09897366e+01  1.25014949e+00 -1.57695169e+01\n",
      " -3.40925255e+01 -6.12793159e+00 -2.72405224e+01 -1.59792194e+01\n",
      "  8.55032921e+00 -1.24614029e+01 -1.98415833e+01 -1.35073862e+01\n",
      " -4.32348728e+00 -1.31360636e+01 -1.04980125e+01 -3.24361191e+01\n",
      "  1.20847595e+00 -5.69480801e+00 -3.60153627e+00 -5.89873910e-01\n",
      " -2.82962856e+01 -2.54160442e+01 -2.66806602e+01 -6.06648493e+00\n",
      " -4.82061768e+01  1.62635112e+00 -3.78349190e+01 -2.37512398e+00\n",
      "  3.07049584e+00 -9.77117538e+00  8.56060028e+00  7.55561495e+00\n",
      " -6.85767651e+00 -3.29392624e+01  1.35164320e+00 -3.76061096e+01\n",
      "  3.30338764e+00 -3.48930073e+00 -9.69317150e+00 -1.62515221e+01\n",
      " -2.24120541e+01 -3.28561211e+01  1.27548819e+01 -1.31418371e+00\n",
      " -1.70539320e+00 -2.73934555e+01 -5.30209208e+00 -1.78901234e+01\n",
      " -2.95279617e+01 -1.95736682e+00  1.80085331e-01 -6.88798428e+00\n",
      " -6.56179142e+00 -8.30303955e+00  3.18652391e+00 -1.01270504e+01\n",
      " -3.78976898e+01 -6.21057606e+00 -1.15291452e+01 -4.88628531e+00\n",
      " -1.09922562e+01 -2.08690853e+01]' has dtype incompatible with int64, please explicitly cast to a compatible dtype first.\n",
      "  preds[val_index] = model.predict(dval_i)\n"
     ]
    },
    {
     "name": "stderr",
     "output_type": "stream",
     "text": [
      "\r",
      " 60%|█████████████████████████████████████████████████████████████████████████████████████████████████████████████████████████████████████████████████████████                                                                                                      | 6/10 [03:03<02:00, 30.16s/it]"
     ]
    },
    {
     "name": "stderr",
     "output_type": "stream",
     "text": [
      "C:\\Users\\81809\\AppData\\Local\\Temp\\ipykernel_23700\\3386215446.py:18: FutureWarning: Setting an item of incompatible dtype is deprecated and will raise an error in a future version of pandas. Value '[  5.1931047   13.091359    -6.856381     9.827796     3.5126932\n",
      "  24.004444     7.210089     1.2674763    6.835933     5.9326744\n",
      "   2.7687278    3.0136096    2.4189193    6.742286     0.6496284\n",
      "  21.093834    22.39819     -8.924578     5.7545176   -0.2084297\n",
      "   7.162191     2.7891896   -4.3579397    5.22696      7.7695737\n",
      "  16.750845    -0.90615225  28.516182     9.47874     -3.0090163\n",
      "   4.3466654   10.352361    14.687565     9.63253      5.925183\n",
      "   1.5118556   16.062258     1.1174226    1.2981509    1.9825758\n",
      "   0.8409865    0.89098734   7.262673     1.6464714    6.3127813\n",
      "  18.61623     16.02736      1.6999143   -2.492877    -2.6595407\n",
      "   5.6056623   -1.011328    13.993564    -1.6156298   -0.3769477\n",
      "   9.867792    24.46664     23.707561     0.9005586    4.3860216\n",
      "   9.58001     -2.6016715    8.1386385    3.0461805    1.5990316\n",
      "  -3.4797854   18.053204     4.496467    14.921543    17.198128\n",
      "  -6.53097      0.13252413   6.3513227   17.868893    -1.8558873\n",
      "  18.654863    11.221496    11.720844     3.69975     -0.49322903\n",
      "   6.5276475    1.1959095   16.19087     12.365802    -4.7445393\n",
      "  -0.4984218    0.5136096   -4.9790483    4.607194    16.922817\n",
      "  -1.3454113   -3.9228191   23.913881     4.4187646   13.906826\n",
      " -10.770928    12.19646      3.944985    12.782506    -7.802761\n",
      "   5.4772406    9.078287    -3.3689187    0.53217363  13.134908\n",
      "   2.6069522   -5.074929     1.3827676   -4.383809     1.3299906\n",
      "  -0.6019216    6.3221316    7.9088726   25.42721     -2.6952972\n",
      "  -7.2341113   -4.718816     5.5216246   -1.2000716    1.9884627\n",
      "   8.304645    12.800715    -2.3709183    4.036706     6.13453\n",
      "   1.9135159    6.5409      17.634497    -2.1074405   -2.289942\n",
      "   5.372748     0.9773288    0.9198454    0.5796596    3.7735937\n",
      "  12.986508     3.1867127    5.951647    -0.06622639  -9.0620365\n",
      "  20.898169     0.9144987    4.564939     8.824768    17.388424\n",
      "  -5.3409753   -0.17846532  12.937276    11.463891    -2.2987578\n",
      "   0.72804946   4.6397343    1.830282    -5.3512526   10.560098\n",
      "  12.87545      4.592961     2.1411188   -1.6881958   -3.834166\n",
      "   5.34464      4.343782    19.98156      3.2440195    4.336303\n",
      "   0.89343685   0.9726373   17.310259     2.8749745   -0.9011599\n",
      "   4.2933955    3.9201682    7.7092137    7.1767592   -2.2464292\n",
      "   3.815872     3.6452522   23.07594      7.18526     -4.6652946\n",
      "   6.5760946    0.42870316   4.878389     9.567027    23.191004\n",
      "  18.39416      3.4232583   20.969038    17.126614     3.4295638\n",
      "   4.198114    -2.5941176   11.748552    16.112122     1.0921656\n",
      "  36.80688     14.364139    -7.9812717    5.791062    -3.7094934\n",
      "  14.066017    11.4353075   39.41286      8.077685    -0.8727332\n",
      "  23.973898     5.3907175    9.295612     0.6629963   -3.1377726\n",
      "   9.485274     7.335564   -11.512222     2.3078551   25.779865\n",
      "   3.720856     0.23611967  -1.1641065   11.576378    -0.05070214\n",
      "  -8.311168    11.096831    24.975035     6.1128674    2.1373556\n",
      "  22.642435    14.84597      9.593029     5.4573455   -7.3161855\n",
      "  44.3197       2.392319     9.093544    24.305502    13.95935\n",
      "  32.246773    -3.0329409    8.160633     6.423283    35.08378\n",
      "  36.99025      6.2911983    5.266731    15.149535     1.5922667\n",
      "   1.7414088   31.095472    -1.9492735   -0.04788061   7.595296\n",
      "  18.915424    11.607599    16.085833    14.316953    12.5015135\n",
      "  -5.40575     12.298716     1.4577317    3.7345726   15.37274\n",
      "  10.975094    -3.9203336   41.704082    35.80293    -10.154795\n",
      "   7.1944203    1.1515932   12.70243     12.195819    31.23446\n",
      "  17.043179    45.538548     0.20407894  31.045336    22.358335\n",
      "   6.3704295   23.113235     2.9241102   -8.8874       5.74703\n",
      "  -5.5375752   19.849058     7.6056647    2.9717526   27.253513\n",
      "  36.121227     0.17251629   6.315013    19.94201     20.539326\n",
      "  19.319931     6.1558824    5.24252      1.2136574   -6.9252596\n",
      "  -0.928733    24.466806     3.9733613   29.959522     1.9932667\n",
      "  -1.7239777   23.272753    -2.989596    20.759361    25.501451\n",
      "   3.660714     8.69711     10.461597    -4.9990196  -13.76443\n",
      " -10.708568    -9.926287    -4.596529   -11.689102    -6.188191\n",
      "   2.2338135   -6.2648144   -7.61148     -5.990292     2.9605246\n",
      "   3.5422251  -12.972094   -21.693285   -21.640387    -6.5784903\n",
      "   6.9819117   -5.7810864   -1.1123081   -5.4703894    4.2174706\n",
      "  -0.05638028   3.4417994   -7.583216   -22.138546   -17.972914\n",
      " -10.163858    -5.035078    -6.2201247   -1.3856055    5.5754313\n",
      "   7.483938    -0.7483551    3.2952433   -6.942318    -5.2755494\n",
      "  -9.292047    -9.234735     2.6869214    5.0304646    7.8044915\n",
      " -22.780647    11.312406    -0.38459083 -15.946317   -24.562056\n",
      "  -2.5701323   -2.9384015   -7.4077096    2.2196739   -1.3412302\n",
      "  -3.1395118   -2.794292     2.282695    -6.2198515   -0.2973032\n",
      " -27.13461      1.1116105  -15.546767   -23.164585   -17.422726\n",
      "   0.4296615    2.4549701  -12.106423    -5.735086    -3.5187836\n",
      "  -3.9404542   -3.8715153   -5.2890573    2.9425645   -7.2411227\n",
      "  -0.7914029  -15.583214     1.0355071   -5.423628    -8.507284\n",
      "   4.394561    -2.4443948   14.082146    -4.8393846    3.675863\n",
      "   1.0198555   -8.574432    -1.5620836   10.445612     6.469264\n",
      "   1.4924049    7.1514893   -4.7877603   -4.1483817    2.5130224\n",
      "  -3.348733    -3.353131     3.4208658  -23.724993   -17.798498\n",
      "  -2.5277572   -5.0767603   -2.730086    -8.78313      5.0601163\n",
      "   6.4463215    1.0629659    2.9679577    1.9039946  -10.155108\n",
      "   0.6281906  -22.261366    -5.496359   -11.749015    -6.5316467\n",
      "  -2.1004887    4.8349047  -29.114944    -9.298268    11.800493\n",
      " -17.323973     5.864938   -15.733142     5.603687    -2.3522663\n",
      "   3.101134    -3.8972476   -6.9239573   -2.0150518   -4.088758\n",
      " -12.993218   -13.294967     0.84519523 -13.11079      1.4637034\n",
      "  -1.3963611  -20.931269    -4.6402698   -8.867165    -3.8301098\n",
      "  -9.734265   -20.753914     2.8228095   -3.0429976    1.4952441\n",
      "  -4.0453053   -6.5579123   -3.022714    -3.9155867    1.1971567\n",
      "  17.350634     1.3592042   -3.9877644  -20.784943   -11.897777\n",
      "  -2.2377825   -3.9501836  -10.198346    -7.014005    -8.395214\n",
      "  -3.9060552  -21.21556      6.3000946    4.831622    -1.7393199\n",
      "   6.6963687    0.22749987  -4.298837    -2.8579104   -2.3170981\n",
      "  -4.830282     2.2831197   -1.2282906    4.504933    -2.838766\n",
      "   1.358332     4.487105    -1.6734248    2.7134016   -2.2911115\n",
      " -23.53311    -15.1873      -3.8224425  -23.401604     0.8834626\n",
      " -12.728062    -5.8341236    4.8569803   -4.6937327   -6.2452407\n",
      " -12.455664    -8.544542    -0.6176304  -16.616516    -1.3130295\n",
      "  -5.899392    -5.6882305   -4.6734037    7.4468455    5.220715\n",
      "  -4.562206    -3.6306412   -1.8270566  -28.375368   -42.263195\n",
      "   2.7632525   -1.5830672   -6.435768     5.401585    -3.2065182\n",
      "  -4.377519   -34.671093    -4.415874   -13.445072     3.52283\n",
      "  11.406931   -10.251362   -14.794416    -5.973499    -3.4425704\n",
      " -26.430431   -33.585693   -25.612968   -38.672043   -13.617894\n",
      " -17.652498   -33.499794   -29.306738     8.160206   -19.14947\n",
      "  -7.7341814   -1.5506842    4.115736    -3.5494473    4.795771\n",
      "  -1.8676685  -29.489168   -11.654858     0.13184464   5.6002812\n",
      "  -2.4756336    2.5697694   -1.7117692  -30.079937    -1.4476322\n",
      "  -5.286062    -3.1453197  -16.435436    -7.6328464    4.174363\n",
      "   7.739509    -5.5239563  -23.352608   -13.380779   -14.408828\n",
      "  -2.4539115  -12.313161     2.826926    -3.4631107  -10.326181\n",
      " -37.055027    -4.774593     1.0513191    5.5227175  -16.992708\n",
      "  -4.4808383  -26.0746     -24.921642   -27.439306    -5.9591084\n",
      " -11.312612    -1.2023698   -1.7870106   -1.5249163  -27.886442\n",
      " -11.093608     4.486645   -11.149712   -35.258503    -0.70170224\n",
      " -12.058411    -1.0215062  -27.248491    -7.371841     0.44557026\n",
      "  -2.7691784   -5.8923454   -7.919234   -34.863636     1.681428\n",
      " -28.308338     0.29612532 -10.677314   -24.783453   -28.332916\n",
      " -17.379189    -2.9666312   -1.3662748  -13.859687   -17.574982\n",
      " -24.612707     1.1964966  -45.62553    -31.917356   -12.5641365\n",
      " -33.382748    -2.529987   -21.399239    10.695637   -13.723973\n",
      " -10.773925     4.7068844  -19.285875     0.4332333   -6.3078456\n",
      "   0.278042     1.145381    -1.8920969  -29.41408     -4.5069904\n",
      "  -9.493507   -11.219053    -3.4517305   23.070581    -2.5326796\n",
      " -33.682446   -29.992256    -3.5502725    1.7456083  -40.16311\n",
      "   1.0579499  -37.941486   -21.401804   -16.939674   -13.348931\n",
      " -13.805622   -17.95956    -10.258659   -18.13653     -2.5770562\n",
      "   2.1127048 ]' has dtype incompatible with int64, please explicitly cast to a compatible dtype first.\n",
      "  preds[val_index] = model.predict(dval_i)\n"
     ]
    },
    {
     "name": "stderr",
     "output_type": "stream",
     "text": [
      "\r",
      " 70%|██████████████████████████████████████████████████████████████████████████████████████████████████████████████████████████████████████████████████████████████████████████████████▌                                                                            | 7/10 [03:35<01:32, 30.76s/it]"
     ]
    },
    {
     "name": "stderr",
     "output_type": "stream",
     "text": [
      "C:\\Users\\81809\\AppData\\Local\\Temp\\ipykernel_23700\\3386215446.py:18: FutureWarning: Setting an item of incompatible dtype is deprecated and will raise an error in a future version of pandas. Value '[ 5.11997521e-01 -4.97609663e+00  1.74539447e+00  1.97870779e+00\n",
      "  1.85684109e+01  4.86302167e-01 -1.15998936e+00  1.11946602e+01\n",
      " -3.61572790e+00  3.63953543e+00 -2.29433370e+00  5.76180029e+00\n",
      "  4.10280275e+00  2.34287024e+00  5.48526096e+00  7.30129957e+00\n",
      " -7.94000626e+00 -5.89387465e+00  3.60531068e+00  8.60449696e+00\n",
      " -4.35313404e-01 -3.79875004e-01  2.53626156e+00  2.91971664e+01\n",
      "  1.07139750e+01  1.63010752e+00 -4.69855547e+00  1.92795582e+01\n",
      " -7.46710479e-01  5.24091530e+00  7.45459378e-01 -3.88714862e+00\n",
      "  6.75180578e+00 -1.73487771e+00  9.52639198e+00  9.89506245e+00\n",
      "  6.60214186e+00 -1.00974722e+01  8.97453785e+00  1.54413950e+00\n",
      " -8.18845093e-01  4.65033817e+00  1.58627005e+01  1.05209579e+01\n",
      "  2.35098782e+01 -1.21270847e+00  3.52661490e-01  1.46830063e+01\n",
      "  5.96254778e+00  3.58642745e+00  8.77562332e+00  5.81772661e+00\n",
      " -3.72826695e+00 -2.43369770e+00  7.16769218e+00 -2.37230849e+00\n",
      "  2.41135550e+00  6.66024303e+00  6.41108894e+00  3.44271922e+00\n",
      "  1.20374527e+01  1.09100065e+01 -3.47928190e+00 -3.51896453e+00\n",
      "  4.59231377e+00  2.89536738e+00 -1.73205435e+00  8.13806057e-01\n",
      "  1.99680519e+01  8.61349392e+00  5.58067513e+00  1.80135078e+01\n",
      "  8.65573788e+00 -4.10029650e-01 -2.75397468e+00 -6.09691620e+00\n",
      "  8.06936073e+00  6.41894674e+00  1.12063541e+01  7.82474995e-01\n",
      "  4.03654146e+00  8.46392059e+00  7.45837975e+00  1.28015289e+01\n",
      "  4.98596144e+00  2.47527051e+00  4.07132483e+00  3.93394876e+00\n",
      "  2.21010151e+01  1.52275953e+01 -8.50848675e-01  8.70175838e+00\n",
      " -1.15995245e+01  4.36698627e+00  5.82647514e+00  2.08223686e-02\n",
      "  5.08330047e-01  1.03676395e+01 -2.31954384e+00  2.01281376e+01\n",
      "  4.31478173e-01 -1.25769150e+00 -4.23338085e-01  2.42048645e+00\n",
      "  2.22332835e+00  8.43095970e+00 -7.03126574e+00  1.33247976e+01\n",
      " -3.43669438e+00 -2.13306427e-01 -6.63890266e+00 -1.35097873e+00\n",
      "  6.61859226e+00 -3.03565788e+00 -1.29077590e+00  7.72008467e+00\n",
      " -6.12799597e+00  6.11870527e-01 -1.72333705e+00 -4.23981571e+00\n",
      "  7.50922537e+00  1.39939165e+01 -2.72904158e+00 -6.71008468e-01\n",
      "  4.25467682e+00 -6.07385635e+00  3.77052426e+00  5.94403172e+00\n",
      " -1.58257216e-01  1.58759594e+01  1.71229134e+01  4.94559956e+00\n",
      " -4.23315334e+00 -6.90550995e+00 -1.91171563e+00  1.53172052e+00\n",
      "  5.41876984e+00 -5.10346746e+00  3.81591654e+00  1.33311901e+01\n",
      " -1.41867292e+00 -2.83128619e+00 -1.28974393e-01 -5.37648499e-02\n",
      "  5.78996801e+00 -6.53042650e+00  9.95433807e+00  1.55328512e+01\n",
      "  1.56647110e+01  9.33842182e+00  1.98646843e+00  1.07813225e+01\n",
      "  5.84580660e-01  4.59995978e-02  8.50647640e+00  2.24433937e+01\n",
      " -8.55085492e-01 -8.53780746e+00  4.52709770e+00  6.61911821e+00\n",
      "  4.19834518e+00  1.87359706e-01  1.62223041e+00  1.10624256e+01\n",
      " -2.75847840e+00  1.83528721e+00 -1.61727142e+01  1.75770931e+01\n",
      " -4.40552282e+00  2.25595608e+01  1.76929641e+00  5.81880212e-01\n",
      "  1.06911869e+01  6.37106133e+00  1.27756805e+01  3.81795549e+00\n",
      "  5.59088135e+00  2.92270660e+00  4.03181171e+00 -5.05536869e-02\n",
      "  4.59389591e+00 -1.86259365e+00  4.80016708e+00 -4.74662066e+00\n",
      "  2.08524170e+01  1.95165749e+01  1.12930667e+00  1.66516709e+00\n",
      " -6.64100170e+00  4.80692148e+00  5.29293919e+00 -3.99583435e+00\n",
      "  4.43034601e+00  7.03369331e+00  9.52809525e+00  3.80535579e+00\n",
      "  2.10280914e+01 -3.57335663e+00  9.33736515e+00  2.49223213e+01\n",
      " -4.64367819e+00 -4.71592546e-01 -3.71535420e+00 -2.06650448e+00\n",
      " -3.44247055e+00  2.61146402e+00  4.31172228e+00 -2.34287143e+00\n",
      "  1.58354368e+01 -3.74518490e+00 -2.09827733e+00  1.04107308e+00\n",
      "  1.77922192e+01  4.22282171e+00  4.22328997e+00  1.12804537e+01\n",
      "  2.26936054e+00 -2.04271388e+00  4.26336479e+00  1.99933472e+01\n",
      "  3.07409248e+01 -2.34556460e+00  2.68114529e+01  5.00274324e+00\n",
      "  2.77055931e+00  2.06694241e+01  4.78381586e+00 -1.23448811e-01\n",
      "  2.15334225e+01 -9.90214443e+00 -1.05611229e+01 -3.71449089e+00\n",
      "  6.07833385e+00 -4.57451963e+00  3.58812790e+01  1.66289062e+01\n",
      "  1.86201057e+01  3.56590939e+00  1.75526810e+01  5.19685650e+00\n",
      "  6.49548340e+00 -4.31849575e+00  3.00817242e+01  1.17271194e+01\n",
      "  2.90315628e+01  1.85331273e+00 -1.68650174e+00  2.81219921e+01\n",
      "  1.08564758e+01  2.34993687e+01  1.96063576e+01  1.46782770e+01\n",
      "  1.86692562e+01  3.80201888e+00  1.25286665e+01  1.16806042e+00\n",
      "  1.82904110e+01 -7.77325153e+00  7.72540045e+00 -3.49956107e+00\n",
      "  1.05408859e+00  1.14344110e+01 -5.04074430e+00  2.41980572e+01\n",
      "  2.76276760e+01  8.60011482e+00  1.53790684e+01  9.56290150e+00\n",
      "  1.76397502e-01  1.38125095e+01  4.61138678e+00  1.65173302e+01\n",
      "  1.10693812e+00  1.43291655e+01  1.37401762e+01 -6.78152561e-01\n",
      " -9.86006165e+00  6.55955791e+00  1.98444557e+01 -1.13127909e+01\n",
      "  7.47600555e+00  2.64366865e+00  2.71774101e+01  1.16656959e+00\n",
      " -8.96073532e+00  5.42627954e+00 -9.93069172e+00  4.72272205e+00\n",
      "  1.33445394e+00 -4.02428992e-02  3.08258762e+01  1.85024376e+01\n",
      "  2.61593475e+01  4.39248037e+00  4.91861420e+01  1.21844606e+01\n",
      "  3.75231285e+01  1.44035912e+01  7.28444636e-01  4.49562979e+00\n",
      "  2.00984440e+01  6.61770010e+00  1.29969282e+01 -7.04261541e+00\n",
      " -8.19178581e+00  8.08076954e+00  9.13087368e-01  3.16381149e+01\n",
      " -1.65852249e+00 -2.11004496e+00 -3.16685438e+00  1.44450796e+00\n",
      " -5.36106110e-01  1.50051222e+01  4.70832253e+00  7.74605942e+00\n",
      "  3.04785652e+01 -9.72978783e+00  8.27258682e+00  1.14763336e+01\n",
      "  8.34853649e+00  2.08759670e+01 -8.90956879e+00  2.74911861e+01\n",
      " -1.51697512e+01  4.06282616e+01 -7.30135012e+00  3.11991444e+01\n",
      "  5.39281273e+00  1.91310139e+01  1.77438164e+01  1.55592108e+00\n",
      " -1.29888153e+01  2.47358284e+01  8.64265633e+00  1.10371447e+01\n",
      "  6.08410025e+00  1.85285587e+01  4.48532867e+00 -1.09926958e+01\n",
      "  6.78569376e-01  3.55775380e+00 -1.23063974e+01 -5.42244673e+00\n",
      " -8.85397732e-01 -7.80883598e+00 -6.46859789e+00 -4.14472818e+00\n",
      " -8.25664043e+00 -6.84064722e+00 -8.75411034e+00 -2.17366333e+01\n",
      "  9.87187862e+00 -6.66208696e+00 -2.10104752e+00 -5.26796246e+00\n",
      " -2.09010288e-01 -2.40260124e+00 -4.62133551e+00 -9.72451806e-01\n",
      "  3.49922568e-01 -5.61397743e+00 -9.73449039e+00 -2.24758587e+01\n",
      " -4.05269384e+00  1.47530127e+00 -5.24280310e+00 -2.55290661e+01\n",
      " -5.11396933e+00 -7.35437441e+00  3.88627863e+00 -1.28475654e+00\n",
      " -9.26927376e+00 -1.81839705e+00 -9.99496651e+00 -7.01984930e+00\n",
      "  5.86154175e+00 -2.11724177e-01  2.75539935e-01 -3.72442055e+00\n",
      " -6.83258343e+00 -8.58502197e+00 -9.94088078e+00 -1.47472429e+01\n",
      " -4.20987177e+00  1.94746697e+00 -9.79782283e-01 -1.29389381e+00\n",
      " -5.04273415e+00 -8.58570957e+00 -1.16962013e+01  2.38814569e+00\n",
      " -1.03859053e+01 -5.63842392e+00 -5.88275957e+00 -3.43615699e+00\n",
      "  2.07218456e+00 -9.46794033e+00 -6.15751028e+00 -2.38111401e+01\n",
      " -7.76759815e+00 -8.13989735e+00  5.99507689e-01 -1.38030396e+01\n",
      " -2.61840897e+01 -2.27482647e-01 -2.75410056e+00  9.38324833e+00\n",
      " -1.80278835e+01 -1.16608763e+01 -7.22776353e-01 -1.97647209e+01\n",
      " -3.66306591e+00 -4.74259615e-01  3.55231023e+00 -1.19767046e+01\n",
      " -8.45983315e+00  1.15606117e+01 -1.60834045e+01 -1.80702477e+01\n",
      " -4.80452824e+00  4.12380981e+00 -5.51906109e+00  2.73280191e+00\n",
      " -9.16062450e+00 -5.67135954e+00 -1.61929607e+01  7.18463850e+00\n",
      "  8.35756016e+00 -4.12918091e+00  1.72189200e+00 -3.55754972e-01\n",
      " -1.88713384e+00 -1.36273518e+01  1.24843283e+01 -1.97072659e+01\n",
      " -5.39582491e+00 -1.57056344e+00 -2.14977112e+01 -1.70217285e+01\n",
      " -1.08842907e+01 -2.23213577e+00 -1.44015038e+00  1.91172719e+00\n",
      "  1.43652411e+01  6.78222275e+00 -1.02354181e+00 -7.20499182e+00\n",
      " -4.65133286e+00  1.11289099e-01  9.53408623e+00  1.71313591e+01\n",
      "  6.30412245e+00 -1.05471401e+01 -6.65457106e+00 -4.67952538e+00\n",
      "  1.25382435e+00  2.29079318e+00 -2.07963696e+01  7.88251972e+00\n",
      " -1.86509177e-01 -1.29814827e+00  4.42979634e-01 -1.30714159e+01\n",
      " -1.46492112e+00  6.15912867e+00 -1.76243095e+01 -1.60311089e+01\n",
      " -2.22928925e+01 -9.52734756e+00 -9.56437683e+00  1.04616766e+01\n",
      " -2.28251495e+01 -2.34082484e+00 -9.41455066e-01  7.08455467e+00\n",
      " -5.40050077e+00  4.14535856e+00  1.75414896e+00  3.58353674e-01\n",
      " -3.88444448e+00 -8.27265739e+00 -2.87401652e+00 -1.89407978e+01\n",
      " -4.94515371e+00 -3.90985942e+00 -5.05427456e+00 -1.69592226e+00\n",
      "  4.28289318e+00 -5.96143579e+00  9.54477966e-01 -7.29286432e+00\n",
      " -2.90780568e+00 -7.70965695e-01 -1.47332668e+00 -3.60688090e+00\n",
      "  4.28452587e+00 -2.17497826e+01  1.61057606e+01  3.30589390e+00\n",
      "  1.16485205e+01 -3.65016413e+00  3.40434170e+00 -3.58326912e+00\n",
      " -3.44688177e+00 -1.10902634e+01  3.96362329e+00 -1.69204974e+00\n",
      " -2.49318390e+01 -7.40275097e+00 -2.16623679e-01 -5.86167753e-01\n",
      " -2.51617312e+00 -5.78998804e+00 -1.68567905e+01 -5.29528189e+00\n",
      " -6.26783514e+00 -1.04433651e+01 -8.98790836e+00 -2.55051780e+00\n",
      " -3.36733675e+00  7.92201138e+00 -6.33647490e+00  8.82687855e+00\n",
      " -4.72990227e+00 -5.38744688e+00 -3.08298073e+01 -1.97253876e+01\n",
      " -9.29048443e+00 -7.20611429e+00 -3.06623030e+00 -2.77227497e+01\n",
      " -1.18280869e+01 -2.70085659e+01 -1.27973595e+01 -3.12012815e+00\n",
      " -3.17803144e+00 -9.96983910e+00 -3.56378288e+01 -2.79180074e+00\n",
      " -1.29982595e+01 -8.07128334e+00  1.37934911e+00 -9.08108044e+00\n",
      " -5.94748020e+00 -5.02876568e+00 -1.31119137e+01 -1.24674206e+01\n",
      " -3.29621811e+01 -2.72326527e+01 -3.87481194e+01 -1.09992158e+00\n",
      "  2.56158781e+00 -1.74241238e+01 -2.52795010e+01 -2.86349754e+01\n",
      "  5.20297527e+00  8.08592033e+00  1.56191790e+00 -6.39116287e+00\n",
      " -4.01486511e+01 -8.82450640e-01 -3.06345539e+01 -3.33912430e+01\n",
      " -1.36006908e+01 -3.16310921e+01 -1.72599614e+00 -1.66490231e+01\n",
      " -7.55479097e+00 -4.34260330e+01  6.29493332e+00 -1.09569955e+00\n",
      " -2.13998394e+01 -2.06978321e+01 -9.58649278e-01 -5.83571577e+00\n",
      " -1.94085846e+01 -3.38080444e+01 -3.33401566e+01 -3.97376394e+00\n",
      "  2.62602878e+00  9.95987892e+00 -2.50944862e+01 -1.07579336e+01\n",
      " -1.43641834e+01 -3.62693977e+00 -2.08104076e+01 -1.15461817e+01\n",
      " -4.41147041e+01  4.19802427e+00 -2.43222713e+00 -3.53831887e-01\n",
      " -1.94845123e+01  7.01430655e+00 -1.70489061e+00 -4.67728853e+00\n",
      " -7.85743713e+00  5.77940989e+00 -3.56790237e+01 -5.93212986e+00\n",
      "  8.13997269e+00 -9.38152027e+00  9.36367702e+00 -1.39806929e+01\n",
      "  3.21431684e+00 -4.28092241e+00 -1.14402838e+01 -1.50794640e+01\n",
      " -1.08567057e+01 -2.73097572e+01 -1.43283100e+01  3.12284398e+00\n",
      "  2.07190442e+00  2.79020953e+00  6.23866463e+00 -2.01761589e+01\n",
      " -7.39628220e+00 -8.93645000e+00  3.98006463e+00  6.79619932e+00\n",
      " -2.65086422e+01  1.32488203e+00 -2.24997749e+01 -3.09223785e+01\n",
      "  2.84859276e+00 -3.39962803e-02  8.64679241e+00 -8.61569881e+00\n",
      " -1.11813316e+01 -1.43706970e+01 -2.27631397e+01  1.12439919e+01\n",
      " -2.18629241e+00 -1.09071579e+01 -3.65400910e+00 -2.52280788e+01\n",
      " -3.83436279e+01 -3.69801712e+01 -1.71275692e+01  6.10388851e+00\n",
      " -1.45474453e+01 -1.49138145e+01  1.17818041e+01 -2.40590897e+01\n",
      " -1.92014351e+01 -2.17517757e+00]' has dtype incompatible with int64, please explicitly cast to a compatible dtype first.\n",
      "  preds[val_index] = model.predict(dval_i)\n"
     ]
    },
    {
     "name": "stderr",
     "output_type": "stream",
     "text": [
      "\r",
      " 80%|████████████████████████████████████████████████████████████████████████████████████████████████████████████████████████████████████████████████████████████████████████████████████████████████████████████                                                   | 8/10 [04:04<01:00, 30.34s/it]"
     ]
    },
    {
     "name": "stderr",
     "output_type": "stream",
     "text": [
      "C:\\Users\\81809\\AppData\\Local\\Temp\\ipykernel_23700\\3386215446.py:18: FutureWarning: Setting an item of incompatible dtype is deprecated and will raise an error in a future version of pandas. Value '[  8.39306     -7.782496    10.2542515    8.27758      7.2355237\n",
      "   7.0914965    4.9607224    2.3415458   -1.2234293    3.1264048\n",
      "  -3.3045664    1.0667787   -0.40418476  19.92604      2.4796658\n",
      "  12.754973     4.704627     3.403164     7.213802     2.9840615\n",
      "   5.994469     3.4676604    9.676677    -1.4331454    8.216021\n",
      "   4.2174606   11.097636     6.634086     1.692662    25.084991\n",
      "   4.4410186   -7.6618314    4.4767027   16.475735     8.815202\n",
      "  -6.599609     4.06214      2.1787896   -0.30506483  -7.1671576\n",
      "  -3.3554873   10.027924     2.4489667    7.46653     20.943317\n",
      "  11.493111     6.60966     -0.5728856   -2.9023209    2.6891134\n",
      "   5.0187826    3.6990561    0.060146    15.090811     4.4552298\n",
      "  10.483868    21.548563     9.218019    -2.3662522    7.8837395\n",
      "   3.110742     2.8880298    4.4899373    1.4268597    6.6839375\n",
      "  10.01415      4.8351865    3.9967492   15.0064335   25.610235\n",
      "  -4.1577168    6.793755     1.2657022   10.422347     2.5900986\n",
      "   0.5820969   22.243523     7.659184    11.944472     1.314947\n",
      "  16.760006    -2.1156666    9.855115     8.306617     3.3539274\n",
      "  -0.9300677   -0.30874586   6.8658886    2.3123724    6.2304554\n",
      "  17.230635    -5.1778502    0.61836594   3.7021565   -7.4313054\n",
      "  -2.561679    -3.8014636   -7.0526094   -1.2393256    0.72888017\n",
      "   3.2373838    1.0791008  -10.775042     2.391383    -2.9957197\n",
      "   1.1685437   21.072449    -5.3758583   13.867247    13.892818\n",
      "   7.235819    -1.9923828    8.254728   -10.113323    -1.5681227\n",
      "  -3.7483985    4.851299    -8.647694     1.9913307   -1.1729689\n",
      "   7.5036006    9.809707    -2.8396904   12.509427     6.456098\n",
      "   6.8460064   21.600298    -8.365023    16.674623    10.039487\n",
      "  -2.358429     4.9500704    5.958137     1.0422974   -0.8171415\n",
      "  -1.2549931   12.5695715   12.868998    -6.3608656   10.160315\n",
      "   3.256969    10.28854     20.113083     3.3897848    1.0215502\n",
      "   1.0526594   -1.4225662    1.8900944    5.0086575    6.7270794\n",
      "   2.3624518   12.295003    -2.2701066   -1.642831     2.178691\n",
      " -11.80157     27.918219    16.085543    -2.597709    18.959194\n",
      "  12.750664     4.2445393   10.61468      0.78161573   0.64039356\n",
      "  -0.93753827  -3.7519786    3.9726193   -1.2956835    2.6532822\n",
      "  -1.2783642   -0.38762102   2.0828433   -0.587436     3.513172\n",
      "  18.876429     6.7320466   13.050446    -6.5821705   18.967516\n",
      "  -1.6690546    3.3886232    4.965207     1.7137473    8.828717\n",
      "  -7.0894322   19.277752     1.8436972    6.9501143   -2.3962376\n",
      "   8.9727545   13.307077    19.867884    -4.6660957    2.2632997\n",
      "   0.27988714   5.300324     4.7737384    3.8859246   -5.4571652\n",
      "   6.337245     8.179843     9.4392395   23.356146     4.048283\n",
      "   2.3603387    2.4497662    5.156805     6.979446    -1.9849688\n",
      "  12.828412     6.2628846   20.050655     8.685956     3.6323042\n",
      "  -1.643471    37.697174   -10.968973     5.7571936  -10.158027\n",
      "  -6.134995    11.435133    -0.2653614    4.3971014    6.863388\n",
      "   0.2212383   25.934057     6.148947     9.029487    25.90553\n",
      "   4.9383087   19.91323     -6.836348    28.685617    31.023045\n",
      "   0.7786716  -14.151231     0.56743723   2.2200463    6.597729\n",
      "   7.8050203   17.680412     6.4514093   17.61531     28.96057\n",
      "   9.7810755   37.29943     -0.9859187   10.114228     0.8721955\n",
      "  16.157223    13.326559    26.900581    -4.06532     23.893166\n",
      "  12.105181    10.732543    32.625717    10.55825     26.754131\n",
      "   3.2501192    5.658314    27.044691     1.1648403    6.4516554\n",
      "   7.787306     9.707187    -4.878775    12.068737    41.451748\n",
      "   9.840524    -9.021877     7.665767    -1.19688     -9.816057\n",
      "   4.064786    -3.384844     9.141875     4.166164     7.1552715\n",
      "  -2.7984853   37.2066      13.433819    31.87176     22.485323\n",
      "   2.9284449    8.372279    15.611506     5.2057033   -7.4339576\n",
      "  21.196762     6.041238     0.58835304  22.060366     9.210107\n",
      "  31.524426     7.2349615   29.348686     2.9647062   -9.927377\n",
      "   4.61018      3.6278172    5.516453     6.654738   -12.909406\n",
      "  13.779358    28.61226     -1.8647443   39.577923     9.147129\n",
      "  24.682459    37.0894      -5.655197    38.84528      5.192337\n",
      "  11.000789     5.614223     1.7631079   10.144592    25.281939\n",
      "  11.7673235   -1.2100651  -20.323977    -5.3282204    2.8939912\n",
      " -13.466103   -23.237066    -7.1842537   -3.7888274   -8.017811\n",
      "  -5.0353336   -2.6893628  -20.261711    -2.6512387  -24.515612\n",
      "  -3.9723933   -7.4442453   -1.355342    -7.5924406   -3.0722952\n",
      "  -6.2355156   -8.980629     6.347236    -2.937695     7.4697948\n",
      "   4.1831584   -7.830985    -5.091683    -0.34444872 -24.672653\n",
      "   0.4564108    1.5195601  -28.499565     0.9111647   12.536103\n",
      "  -7.987327     6.2510295   -9.52579     -5.981569    -6.5995016\n",
      "  -6.3385653    4.0885906    1.992781    -1.2049724  -10.025674\n",
      " -20.507626    -9.086047   -13.786044     6.280733    -2.489259\n",
      "   1.5084102   -0.21924667 -17.9995      -4.5430675  -23.186983\n",
      "  -1.6925186    2.812981    -6.3260407   -4.4779863    2.3857667\n",
      " -24.609728   -11.021384   -15.530689    -3.0288703   -0.91543883\n",
      "   2.283353     1.5407302   -1.6395192   -3.100255     0.7145264\n",
      "  -3.5121937   -4.4810114   -7.5938845  -20.0781       5.6251173\n",
      "   2.308522    -1.1447706   -4.9789243   -2.9824038   -7.5375338\n",
      " -18.662477    -0.57269067   0.45787174  -1.5565499    2.671082\n",
      "  -7.3268285  -25.355091   -17.395233    -8.477348   -11.574397\n",
      "  -8.497601    -3.622503    -5.8684464   -3.5868046   -5.5120845\n",
      " -18.069561     2.0011091    3.3936117   13.499756    -0.5978698\n",
      "   3.3802385    1.7464756  -23.651232     0.7369958  -14.1572275\n",
      "  -2.0568986    7.648098     2.495808    -5.3287992    1.0308813\n",
      " -16.702168    -1.6295367   -8.269308     1.6627457  -15.003224\n",
      " -16.502577    -4.258299     5.518548    -3.6747072    7.9248815\n",
      "  -7.286623    -1.5115219  -11.163349     5.671726    -5.1519384\n",
      "   5.694037   -26.841095    -5.9826384   -9.778527   -18.476421\n",
      "   3.6802225   -7.8098483    3.9013069  -12.17753    -19.715021\n",
      "   0.09248737  -1.3893427    0.64517313  -9.596334    -4.7931294\n",
      " -14.187344     2.4496143   -2.6120641   -1.4929072   -7.9257703\n",
      "   2.5406165   -1.56846    -12.119336    -3.7728245   -4.6692057\n",
      " -11.297141     8.758192   -21.663216    -5.828132    -5.4867153\n",
      "  -0.5666666    6.442219    -3.6012163   -4.268849    -6.463595\n",
      "   3.5731359   -0.80555356   3.902274     2.1322925    2.4568968\n",
      "  -3.280689     2.382991     0.23968591  10.781231     0.81015855\n",
      " -14.850958     3.411958    -2.7630754  -22.330353    11.8143425\n",
      "  -0.18292879  -0.65280265  -3.8442857    0.90480465 -13.967834\n",
      "  -1.8369862    4.0040507  -25.789555     4.7868433    3.8866475\n",
      "  10.834832    -0.6952086   -7.6003046   -0.89587986 -11.062801\n",
      "  -4.775965    -2.818771   -15.373545    -7.929282     2.001568\n",
      "   5.688934    -7.287938    -0.541666    -6.1295176   -3.891587\n",
      " -16.278381     2.7246442   -6.679355    -3.7990563  -24.312803\n",
      " -10.791194    -1.6630733    8.365903     7.1013503   -5.783525\n",
      " -18.800722    -2.5881178  -10.109197   -31.944187   -35.208897\n",
      " -28.14026     -5.882679   -20.752966   -21.211658     0.3388167\n",
      "  -7.705894    -5.601892    -2.6749437    8.332373     0.30183965\n",
      "  -7.3212833    0.1899607   -4.01384     -1.7049911  -36.805878\n",
      " -31.331114   -26.256828    -4.7197113  -22.36028     -5.543915\n",
      "  -5.407424    -7.8898106   -4.2649946    1.5764688  -19.191336\n",
      " -44.80028     -1.5153948  -21.938904   -18.569752   -12.08661\n",
      " -11.529983   -31.011986     0.7348545  -30.483126    -6.196873\n",
      " -23.008432   -29.707918     1.1895556   -6.7076225  -21.185726\n",
      "   4.7098722   -9.50025      3.2963715  -31.593699   -15.650376\n",
      " -10.56859    -16.950006    -7.8298745   -3.4150229    4.3489184\n",
      "  -5.387124     0.35984492  -2.9623039   -1.4958808  -23.012342\n",
      "  -9.160956     0.40246707 -19.45505     -1.8552072  -11.266487\n",
      "   3.2069635  -34.381413     0.6035873    8.364431     5.049226\n",
      " -29.292099     0.91751176   2.0668623    0.71595967   4.297311\n",
      "  -3.632557   -14.175178   -24.533012    -2.426297   -10.0362425\n",
      "  10.6598015    2.8934116    3.8824663  -11.222689   -24.047377\n",
      "  -6.7160845  -36.66696    -29.750637     4.8288717  -14.166111\n",
      " -23.24213     -3.5885682   -6.502543     1.0521944   10.294603\n",
      "   3.3370192   -2.9641876  -29.113205   -15.108707    -7.4033136\n",
      "  -3.2079484    2.3919911    8.282316     3.370903    -2.5413356\n",
      " -22.81276      6.27965    -17.87448    -10.178716    -3.101845\n",
      "  -0.35951066  14.135489   -29.674519    -8.387215   -24.508831\n",
      "  -7.379717  ]' has dtype incompatible with int64, please explicitly cast to a compatible dtype first.\n",
      "  preds[val_index] = model.predict(dval_i)\n"
     ]
    },
    {
     "name": "stderr",
     "output_type": "stream",
     "text": [
      "\r",
      " 90%|█████████████████████████████████████████████████████████████████████████████████████████████████████████████████████████████████████████████████████████████████████████████████████████████████████████████████████████████████████▌                         | 9/10 [04:34<00:30, 30.40s/it]"
     ]
    },
    {
     "name": "stderr",
     "output_type": "stream",
     "text": [
      "C:\\Users\\81809\\AppData\\Local\\Temp\\ipykernel_23700\\3386215446.py:18: FutureWarning: Setting an item of incompatible dtype is deprecated and will raise an error in a future version of pandas. Value '[ 4.57293701e+00 -5.71906614e+00  2.16908188e+01  1.85966742e+00\n",
      "  6.23571968e+00 -4.49797773e+00  4.47643042e+00  3.46688366e+00\n",
      " -7.80614281e+00  3.73526931e-01 -2.71116066e+00  1.72644005e+01\n",
      "  2.57342796e+01 -1.03129244e+00  2.00196209e+01  2.31510425e+00\n",
      "  7.40144539e+00  2.44205928e+00  4.42841142e-01  2.29425788e+00\n",
      " -1.15466452e+00  1.90212429e+00  2.99545002e+00  4.70874166e+00\n",
      "  4.73210526e+00  8.80349064e+00 -8.29940259e-01  1.09249229e+01\n",
      "  2.49362278e+00  2.19434891e+01 -3.23910427e+00 -4.02115011e+00\n",
      "  5.18301058e+00  3.82357866e-01  2.57873821e+00 -1.36864328e+00\n",
      " -2.03471899e+00  7.69170618e+00  4.67300355e-01  9.18690622e-01\n",
      "  1.83833790e+01 -4.10642242e+00  2.37627888e+00 -8.83267498e+00\n",
      " -2.35700417e+00 -1.26757011e+01  1.82383766e+01  1.52786961e+01\n",
      "  5.14270782e+00  5.25178075e-01 -3.66112900e+00  6.22215891e+00\n",
      " -3.94363093e+00  4.06653214e+00  1.86703950e-01 -1.95598650e+00\n",
      "  1.33496594e+00 -3.10380149e+00  1.01918716e+01  2.47188854e+01\n",
      "  1.52223997e+01  5.30418682e+00  4.85384750e+00  1.60327301e+01\n",
      " -2.40095949e+00  3.08457899e+00 -3.11196303e+00 -2.50184536e+00\n",
      "  3.76570749e+00  4.46750927e+00  4.78034373e-03  1.81429119e+01\n",
      "  7.06234694e+00  5.57257605e+00 -2.91571331e+00  4.22490311e+00\n",
      " -1.40340352e+00  5.22427320e+00  2.36154289e+01  1.32489204e+00\n",
      " -3.02114391e+00 -3.20613360e+00  1.72439849e+00  4.86620760e+00\n",
      "  2.49740624e+00  1.62452996e+00  1.13068924e+01  2.48236370e+01\n",
      "  5.91080666e+00  1.28133898e+01 -1.28426428e+01  1.57837915e+00\n",
      "  2.28915424e+01  4.34211922e+00  5.02257299e+00  1.22168846e+01\n",
      " -1.42778802e+00  6.09977102e+00  4.72562408e+00  2.50015664e+00\n",
      "  1.53377943e+01  9.65004730e+00  1.47184992e+01  1.95366347e+00\n",
      "  1.27056494e+01 -1.15369263e+01 -6.36693525e+00  9.35703182e+00\n",
      "  8.03577614e+00  1.96702611e+00  3.47868395e+00 -2.68010068e+00\n",
      "  3.79372120e+00  2.69457966e-01  1.99123135e+01  3.99563718e+00\n",
      "  2.02635155e+01  5.46375608e+00  1.92789400e+00 -1.55033474e+01\n",
      "  5.71627378e+00 -2.29618645e+00 -3.07899547e+00 -6.59306860e+00\n",
      "  2.63690114e+00  2.55427017e+01  5.01123619e+00  5.89742470e+00\n",
      " -6.67534256e+00  1.40806456e+01  2.43121314e+00 -3.36671501e-01\n",
      " -1.08833623e+00  3.84098363e+00  8.94029522e+00  1.77462780e+00\n",
      "  7.81841755e+00 -1.44303679e+00  1.51124744e+01 -9.14387584e-01\n",
      "  1.72288048e+00 -8.54329765e-01  2.22855401e+00 -2.63101339e+00\n",
      " -5.25240898e+00 -8.18319321e-01 -8.99924338e-01  7.31784225e-01\n",
      "  2.17370052e+01  1.54043722e+01  2.96787500e+00  2.07948089e+00\n",
      " -9.70798016e+00  2.10406914e+01  5.82547140e+00  3.83105397e+00\n",
      " -5.79901743e+00  1.07157385e+00  3.43118954e+00  4.96238804e+00\n",
      " -9.44813538e+00  1.44028254e+01 -3.43766522e+00  7.87298441e+00\n",
      "  2.82872105e+01 -3.35202074e+00  3.32340145e+00  5.05863142e+00\n",
      "  1.01073110e+00 -4.55361795e+00  4.73498869e+00  7.71833134e+00\n",
      " -3.42743754e+00 -4.20727205e+00  4.48688030e+00  1.94475651e+01\n",
      " -3.94613862e+00 -4.20381963e-01  1.99707737e+01  2.79081154e+00\n",
      " -3.91658092e+00  1.17390480e+01  3.44753742e+00  6.06853580e+00\n",
      "  6.68934679e+00 -3.32897991e-01  2.91396976e+00 -3.87091494e+00\n",
      "  8.30394077e+00 -6.34032297e+00 -9.60209250e-01  5.28870726e+00\n",
      "  1.36701810e+00  3.34406066e+00 -1.30962360e+00  9.63856411e+00\n",
      "  1.93572330e+01  3.87966561e+00  2.33015385e+01 -3.20969319e+00\n",
      "  1.34218514e+00 -4.00571913e-01  4.28386974e+00 -8.88224840e-01\n",
      "  3.06495094e+00  1.27915640e+01  4.52783442e+00  1.03172102e+01\n",
      "  2.22907963e+01  1.89045787e-01  2.66859150e+00 -7.87869215e-01\n",
      "  6.54864132e-01  1.67108154e+01  3.73813987e+00  5.02454042e+00\n",
      "  4.12257767e+00  1.69052374e+00 -6.16391242e-01  4.32198143e+00\n",
      "  4.17704821e+00  2.55824161e+00  2.05028439e+01  9.49078369e+00\n",
      "  2.11140585e+00  1.35374222e+01  4.71278811e+00  2.55056667e+01\n",
      " -5.17549455e-01  4.06530440e-01  7.58659267e+00  1.06210804e+01\n",
      " -1.16869669e+01 -7.50530362e-01  1.22205629e+01  6.02841711e+00\n",
      "  3.29085655e+01  2.73141766e+01  6.42587471e+00  1.85342808e+01\n",
      "  2.56777573e+01  1.18580341e+01  6.76297665e+00 -2.65636325e+00\n",
      " -7.67154741e+00 -8.57172012e+00 -6.31757069e+00  2.49970150e+01\n",
      " -2.60373664e+00  3.68578935e+00  4.06513786e+01  7.15991402e+00\n",
      "  2.23170900e+00  1.89842415e+01  1.29718056e+01 -1.69794206e-02\n",
      " -2.06972456e+00 -1.58020506e+01  1.32712364e+01  1.65090218e+01\n",
      "  1.45791988e+01  5.66262388e+00  9.31052780e+00  3.57571144e+01\n",
      " -8.57373524e+00  2.42035370e+01 -2.54474411e+01  8.67153358e+00\n",
      "  8.53260231e+00  2.94606266e+01  1.65548840e+01  2.74397640e+01\n",
      "  1.15177345e+01  2.42887630e+01  4.69338417e+00  6.97918844e+00\n",
      "  1.22941303e+01  3.40321579e+01  3.36070328e+01  3.53071243e-01\n",
      "  8.23262978e+00  1.01179514e+01 -9.12742540e-02  1.53438501e+01\n",
      "  1.64923725e+01  8.28432083e+00  3.39344749e+01  7.38296747e+00\n",
      " -2.69885278e+00 -5.17912865e-01  9.59084570e-01 -3.48551154e+00\n",
      "  7.52839899e+00  1.66036377e+01  5.64137220e+00 -1.03171663e+01\n",
      "  1.89041271e+01  8.49085045e+00  5.61448908e+00  2.34764252e+01\n",
      "  8.82372570e+00  3.23179855e+01  3.04724483e+01 -6.15252435e-01\n",
      "  3.67626076e+01 -1.72466981e+00  1.13689985e+01  1.83657055e+01\n",
      "  2.50700474e+01  3.09687195e+01 -2.37036686e+01  3.77178230e+01\n",
      "  7.67294455e+00  3.98354816e+00  2.33637695e+01  2.47493520e-01\n",
      "  1.85482292e+01  1.68410110e+01  1.22466743e+00  2.32732892e+00\n",
      "  1.47231846e+01 -1.63602352e+01  1.51940699e+01  5.56803894e+00\n",
      " -1.61095715e+01 -3.83649898e+00 -3.74685502e+00 -2.01498928e+01\n",
      "  3.00085878e+00 -2.27176170e+01 -3.84462714e-01 -8.94142437e+00\n",
      " -6.91383266e+00 -7.73777771e+00 -6.35391760e+00 -5.28115177e+00\n",
      " -7.28622615e-01 -3.47651094e-01 -2.04616852e+01 -2.25588760e+01\n",
      " -4.55753946e+00 -1.27539527e+00 -4.74463415e+00 -5.34615612e+00\n",
      " -3.80751967e+00  1.10310812e+01 -6.52594423e+00 -3.59380984e+00\n",
      "  7.09876835e-01 -7.38621569e+00 -1.39541454e+01  4.32732534e+00\n",
      " -1.28489275e+01 -1.52155752e+01  2.82670051e-01 -6.93024683e+00\n",
      " -1.85954056e+01  5.45195198e+00  2.32702494e+00 -3.42324615e+00\n",
      " -3.84357500e+00  4.85401154e+00 -8.14797115e+00 -9.40609264e+00\n",
      " -6.43791914e+00 -7.62902975e+00 -4.91587073e-01 -1.05602436e+01\n",
      "  6.55920649e+00 -2.13959141e+01  2.44890761e+00 -5.07972813e+00\n",
      " -1.71924934e+01 -2.34420719e+01 -9.38064480e+00 -8.32823563e+00\n",
      " -4.03707647e+00  1.12922931e+00  2.31506872e+00 -2.59515457e+01\n",
      "  2.50902820e+00 -2.66881294e+01  4.81917143e-01 -2.44187412e+01\n",
      " -3.63339567e+00 -6.33431530e+00 -1.02852793e+01 -8.64268112e+00\n",
      " -6.49050283e+00 -1.40879738e+00 -3.83086967e+00 -6.48415375e+00\n",
      " -4.31055355e+00 -2.72396922e+00 -8.93943501e+00 -7.26396751e+00\n",
      " -1.17493410e+01 -1.75653286e+01  3.51110435e+00 -4.95849276e+00\n",
      " -1.67859948e+00 -4.19095802e+00 -4.71095800e+00 -1.41928375e+00\n",
      "  1.20496237e+00 -2.01005898e+01 -1.89017713e+00 -1.20234833e+01\n",
      " -8.01297283e+00  9.40836787e-01 -4.42810774e+00 -1.24837303e+01\n",
      "  4.20927954e+00  3.61397696e+00 -5.77422905e+00 -2.21374369e+00\n",
      " -2.46316185e+01  3.54596281e+00 -1.94304199e+01  3.05267882e+00\n",
      " -2.73764000e+01 -9.00907898e+00 -1.61977978e+01 -5.53366852e+00\n",
      " -1.95787678e+01 -3.23012519e+00  2.93877244e+00 -4.67512751e+00\n",
      "  2.78949022e+00 -1.01062834e+00 -2.13795066e+00 -1.04097152e+00\n",
      " -1.38129675e+00 -1.58326900e+00  6.93095970e+00 -5.56447077e+00\n",
      " -1.02030840e+01 -8.42457962e+00  6.02152634e+00  2.22579288e+00\n",
      " -6.46345329e+00 -6.88086367e+00 -5.41100025e+00  1.85309105e+01\n",
      "  2.19355583e+00  1.99168608e-01 -1.34687614e+01 -5.23858643e+00\n",
      "  5.03260040e+00 -3.68736172e+00 -9.71422195e+00 -5.35675001e+00\n",
      "  5.20569468e+00 -2.18090305e+01 -8.66718864e+00 -1.26019583e+01\n",
      " -5.35173178e+00 -4.04273701e+00 -2.28668880e+01  6.45651281e-01\n",
      " -8.66707516e+00 -9.12724876e+00 -4.78036833e+00  7.83479869e-01\n",
      " -1.26968298e+01  2.33972520e-01 -6.66642761e+00 -3.93766475e+00\n",
      "  7.14499533e-01  2.42387486e+00  5.92669058e+00 -4.45591736e+00\n",
      " -6.09895325e+00 -1.72203846e+01 -2.79590368e+00 -2.88141251e+00\n",
      " -1.92770278e+00  8.89691734e+00  2.46541524e+00  6.02129078e+00\n",
      "  2.69991255e+00 -2.83968115e+00  1.11963034e+01 -8.51324677e-01\n",
      " -8.84863555e-01 -4.46257401e+00 -7.96035051e-01 -3.56321716e+00\n",
      " -3.57969213e+00 -4.44077253e+00 -2.01431870e+00  1.07129312e+00\n",
      " -1.03783007e+01 -2.02174377e+00 -6.03172016e+00  3.36519337e+00\n",
      " -3.51648569e+00  2.22669291e+00 -2.19921532e+01 -2.09496856e+00\n",
      "  2.36338735e+00 -6.65483522e+00 -9.81725407e+00 -3.30535316e+00\n",
      " -3.76137328e+00 -2.88138211e-01 -4.68789864e+00  3.52917343e-01\n",
      " -7.82327843e+00  2.56385756e+00  3.47849321e+00 -1.96859684e+01\n",
      " -9.50466156e+00 -2.64678726e+01  7.83743337e-02 -3.51644778e+00\n",
      " -3.67277074e+00 -2.38814812e+01 -8.11704731e+00 -8.07428646e+00\n",
      " -1.84554081e+01  5.94714212e+00  7.46172190e+00 -2.13286847e-01\n",
      " -5.26359916e-01  6.70135021e+00 -1.20553045e+01  3.31734037e+00\n",
      " -2.89475226e+00 -9.25921440e+00 -1.10958529e+01 -2.73184061e-01\n",
      " -2.24741249e+01 -2.22592659e+01 -1.80256481e+01 -5.12191772e+00\n",
      " -4.31304789e+00  5.80116510e+00 -1.41872854e+01 -1.77036991e+01\n",
      " -3.23798370e+01 -2.77115402e+01 -7.72976780e+00 -2.48604608e+00\n",
      "  3.93993855e+00 -7.46848059e+00 -2.24508514e+01  7.51482487e+00\n",
      " -2.74572220e+01  9.13007319e-01 -2.40985184e+01 -5.45893478e+00\n",
      " -3.75313072e+01 -1.28008642e+01  5.00615358e+00 -4.09873734e+01\n",
      "  1.80777192e+00 -1.69080392e-01 -4.95132113e+00 -2.19715652e+01\n",
      " -2.39365482e+00 -2.66641579e+01  7.41296816e+00 -2.84960213e+01\n",
      " -4.27613163e+00 -3.43958902e+00 -3.48858299e+01 -2.42972431e+01\n",
      " -4.92943907e+00  3.46597910e-01 -8.56227398e+00 -6.47789145e+00\n",
      " -2.04294872e+01  6.28605556e+00 -6.74684000e+00  1.91650450e+00\n",
      " -1.54656448e+01 -1.40771270e+00 -2.92935300e+00  3.20377612e+00\n",
      "  1.37335169e+00 -2.82008290e+00 -1.44058514e+01  8.65458190e-01\n",
      " -2.60830617e+00 -1.14786549e+01 -1.53252258e+01 -1.13660965e+01\n",
      "  7.09320450e+00 -7.78924274e+00 -2.58837032e+01  7.87620401e+00\n",
      " -8.17144680e+00 -1.12043009e+01  2.67572093e+00 -1.00706320e+01\n",
      " -1.43052177e+01 -3.76735916e+01 -9.19901276e+00 -2.51796284e+01\n",
      " -1.39314232e+01 -1.17815959e+00 -2.90527558e+00  2.15321445e+00\n",
      " -3.10723171e+01 -1.00561419e+01 -6.02361488e+00 -2.67423763e+01\n",
      " -5.06423950e+01  3.52550268e+00  1.03098881e+00 -2.10274792e+01\n",
      " -1.89532495e+00 -9.39216328e+00 -3.42120972e+01 -3.45450401e+00\n",
      "  1.77869835e+01  5.61416817e+00 -1.28557711e+01 -1.11279621e+01\n",
      " -2.90181484e+01 -2.80902882e+01  6.83508587e+00 -1.12265816e+01\n",
      "  1.13542032e+00  8.47497177e+00 -2.10236187e+01 -5.61413908e+00\n",
      "  4.87262219e-01 -8.71884632e+00 -2.62813740e+01 -2.99301491e+01\n",
      " -8.36851501e+00  6.33342791e+00  2.93782330e+00 -9.50829697e+00\n",
      "  1.36291957e+00 -8.77690792e+00 -2.22163410e+01 -1.53470716e+01\n",
      " -1.07518692e+01 -9.82732475e-01 -2.54461384e+01 -2.64207211e+01\n",
      " -2.11513157e+01 -1.05392361e+00]' has dtype incompatible with int64, please explicitly cast to a compatible dtype first.\n",
      "  preds[val_index] = model.predict(dval_i)\n"
     ]
    },
    {
     "name": "stderr",
     "output_type": "stream",
     "text": [
      "\r",
      "100%|██████████████████████████████████████████████████████████████████████████████████████████████████████████████████████████████████████████████████████████████████████████████████████████████████████████████████████████████████████████████████████████████| 10/10 [05:05<00:00, 30.51s/it]"
     ]
    },
    {
     "name": "stderr",
     "output_type": "stream",
     "text": [
      "\r",
      "100%|██████████████████████████████████████████████████████████████████████████████████████████████████████████████████████████████████████████████████████████████████████████████████████████████████████████████████████████████████████████████████████████████| 10/10 [05:05<00:00, 30.57s/it]"
     ]
    },
    {
     "name": "stdout",
     "output_type": "stream",
     "text": [
      "OOF predictions complete\n"
     ]
    },
    {
     "name": "stderr",
     "output_type": "stream",
     "text": [
      "\n"
     ]
    }
   ],
   "source": [
    "# OOF予測\n",
    "oof_preds = []\n",
    "for i in tqdm(range(repeat_cv), leave=True, dynamic_ncols=True):\n",
    "    # 初期はターゲットの値で初期化（後で上書き）\n",
    "    preds = y.copy()\n",
    "    # 各 repeater 毎に独自の KFold を用いる（random_state = i）\n",
    "    kfold = KFold(n_splits=folds_splits, shuffle=True, random_state=i)    \n",
    "    for train_index, val_index in kfold.split(X, y):\n",
    "        dtrain_i = xgb.DMatrix(X.iloc[train_index], label=y.iloc[train_index])\n",
    "        dval_i   = xgb.DMatrix(X.iloc[val_index], label=y.iloc[val_index])\n",
    "\n",
    "        model = xgb.train(\n",
    "            params=param,\n",
    "            dtrain=dtrain_i,\n",
    "            num_boost_round=iteration_counts[i],\n",
    "            verbose_eval=50\n",
    "        )\n",
    "        preds[val_index] = model.predict(dval_i)\n",
    "    # 予測値を -30 ～ 30 にクリップ\n",
    "    oof_preds.append(np.clip(preds, -30, 30))\n",
    "\n",
    "print(\"OOF predictions complete\")"
   ]
  },
  {
   "cell_type": "code",
   "execution_count": 23,
   "id": "64fc4b2b",
   "metadata": {
    "execution": {
     "iopub.execute_input": "2025-03-13T04:51:37.205567Z",
     "iopub.status.busy": "2025-03-13T04:51:37.204566Z",
     "iopub.status.idle": "2025-03-13T04:51:37.330256Z",
     "shell.execute_reply": "2025-03-13T04:51:37.330256Z"
    },
    "papermill": {
     "duration": 0.158717,
     "end_time": "2025-03-13T04:51:37.331295",
     "exception": false,
     "start_time": "2025-03-13T04:51:37.172578",
     "status": "completed"
    },
    "tags": []
   },
   "outputs": [
    {
     "data": {
      "text/plain": [
       "<Axes: >"
      ]
     },
     "execution_count": 23,
     "metadata": {},
     "output_type": "execute_result"
    },
    {
     "data": {
      "image/png": "[encoded data removed]",
      "text/plain": [
       "<Figure size 640x480 with 1 Axes>"
      ]
     },
     "metadata": {},
     "output_type": "display_data"
    }
   ],
   "source": [
    "oof_preds[0].hist()"
   ]
  },
  {
   "cell_type": "code",
   "execution_count": 24,
   "id": "b6a7ae64",
   "metadata": {
    "execution": {
     "iopub.execute_input": "2025-03-13T04:51:37.371495Z",
     "iopub.status.busy": "2025-03-13T04:51:37.371495Z",
     "iopub.status.idle": "2025-03-13T04:51:37.400803Z",
     "shell.execute_reply": "2025-03-13T04:51:37.400803Z"
    },
    "papermill": {
     "duration": 0.052693,
     "end_time": "2025-03-13T04:51:37.401840",
     "exception": false,
     "start_time": "2025-03-13T04:51:37.349147",
     "status": "completed"
    },
    "tags": []
   },
   "outputs": [],
   "source": [
    "### simple spline, seed(1, 16)~(4, 13)は強制的にfiltaring,  \n",
    "### seed値に対応して予測スコアも同じ大小関係なら1or0に変換の3モデル\n",
    "def cal_logloss(pred_vals, y, i):\n",
    "    y_binary = np.where(y > 0, 1, 0)\n",
    "    loss = log_loss(y_binary, pred_vals)\n",
    "    print(f\"logloss of cvsplit {i}: {loss:.4f}\")\n",
    "\n",
    "\n",
    "    results.append(f\"Normal Spline - logloss of cvsplit {i}: {loss:.4f}\")\n",
    "    return loss\n",
    "\n",
    "#simple spline\n",
    "def make_normal_spline(df, y, repeat_cv):\n",
    "    spline_model1 = []\n",
    "    logloss_normal = []\n",
    "    \n",
    "    for i in range(repeat_cv):\n",
    "        dat = list(zip(df[i], np.where(y>0, 1, 0)))\n",
    "        dat = sorted(dat, key=lambda x:x[0])\n",
    "        datdict = {}\n",
    "        for k in range(len(dat)):\n",
    "            datdict[dat[k][0]] = dat[k][1]\n",
    "        \n",
    "        spline_model1.append(UnivariateSpline(list(datdict.keys()), list(datdict.values())))\n",
    "        spline_fit = spline_model1[i](df[i])\n",
    "        \n",
    "        loss = cal_logloss(spline_fit, y, i)    \n",
    "        logloss_normal.append(loss)\n",
    "\n",
    "    plot_df = pd.DataFrame({\n",
    "        \"pred\": df[0],\n",
    "        \"label\": np.where(y>0,1,0),\n",
    "        \"spline\": spline_model1[0](df[0])\n",
    "    })\n",
    "    plot_df[\"pred_int\"] = plot_df[\"pred\"].astype(int)\n",
    "    plot_df = plot_df.groupby('pred_int')[['spline','label']].mean().reset_index()\n",
    "    \n",
    "    plt.figure(figsize=(8, 5))\n",
    "    plt.plot(plot_df.pred_int, plot_df.label, marker='o', linestyle='-', label=\"True Label\")\n",
    "    plt.plot(plot_df.pred_int, plot_df.spline, marker='x', linestyle='--', label=\"Spline Approximation\")\n",
    "    plt.xlabel(\"Predicted Value (Integer)\")\n",
    "    plt.ylabel(\"Mean Value\")\n",
    "    plt.title(\"Normal Spline Fit Comparison\")\n",
    "    plt.legend()\n",
    "    plt.grid(True)\n",
    "    plt.savefig(os.path.join(OUTPUT_PATH, f\"normal_spline_fit_{PREDICT_YEAR}.png\"))\n",
    "    plt.close()\n",
    "    \n",
    "    \n",
    "    # 例として平均loglossもresultsに記録\n",
    "    avg_logloss = np.mean(logloss_normal) \n",
    "    results.append(f\"Average Normal Spline logloss: {avg_logloss:.4f}\" if avg_logloss is not None else \"No logloss computed\")\n",
    "    \n",
    "    return spline_model1\n",
    "            \n",
    "            \n",
    "#seed(1, 16)~(4, 13)は強制的にseed通りの結果にフィルタリング\n",
    "def make_seed1to4_chenge(df, y, repeat_cv):\n",
    "    spline_model2 = []\n",
    "    spline_fits = []\n",
    "    for i in range(repeat_cv):\n",
    "        dat = list(zip(df[i], np.where(y>0, 1, 0)))\n",
    "        dat = sorted(dat, key=lambda x:x[0])\n",
    "        datdict = {}\n",
    "        for k in range(len(dat)):\n",
    "            datdict[dat[k][0]] = dat[k][1]\n",
    "        \n",
    "        spline_model2.append(UnivariateSpline(list(datdict.keys()), list(datdict.values())))\n",
    "        spline_fit = spline_model2[i](df[i]) \n",
    "        \n",
    "        #add\n",
    "        spline_fit[(X.T1_seed==1) & (X.T2_seed==16)] = 1.0\n",
    "        spline_fit[(X.T1_seed==2) & (X.T2_seed==15)] = 0.9\n",
    "        spline_fit[(X.T1_seed==3) & (X.T2_seed==14)] = 0.8\n",
    "        spline_fit[(X.T1_seed==4) & (X.T2_seed==13)] = 0.7\n",
    "        spline_fit[(X.T1_seed==16) & (X.T2_seed==1)] = 0.0\n",
    "        spline_fit[(X.T1_seed==15) & (X.T2_seed==2)] = 0.1\n",
    "        spline_fit[(X.T1_seed==14) & (X.T2_seed==3)] = 0.2\n",
    "        spline_fit[(X.T1_seed==13) & (X.T2_seed==4)] = 0.3\n",
    "\n",
    "    \n",
    "        cal_logloss(spline_fit, y, i)   \n",
    "                \n",
    "        spline_fits.append(spline_fit)\n",
    "        cal_logloss(spline_fit, y, i)   \n",
    "                \n",
    "    \n",
    "    plot_df = pd.DataFrame({\n",
    "        \"pred\": df[0],\n",
    "        \"label\": np.where(y > 0, 1, 0),\n",
    "        \"spline\": spline_fits[0]  # 変更後の値を利用\n",
    "    })\n",
    "    plot_df[\"pred_int\"] = plot_df[\"pred\"].astype(int)\n",
    "    plot_df = plot_df.groupby(\"pred_int\")[[\"spline\", \"label\"]].mean().reset_index()\n",
    "\n",
    "    plt.figure()\n",
    "    plt.plot(plot_df.pred_int, plot_df.label, label=\"label\")\n",
    "    plt.plot(plot_df.pred_int, plot_df.spline, label=\"spline\")\n",
    "    plt.legend()\n",
    "    plt.show()\n",
    "    \n",
    "    return spline_model2\n",
    "    \n",
    "    \n",
    "#完全に値変換するのではなくてseed値に対応して予測スコアも同じ大小関係なら1or0に変換\n",
    "def make_seed1to4_base_on_score(df, y, repeat_cv):\n",
    "    spline_model3 = []\n",
    "    spline_fits = []\n",
    "\n",
    "    for i in range(repeat_cv):\n",
    "        dat = list(zip(df[i], np.where(y>0, 1, 0)))\n",
    "        dat = sorted(dat, key=lambda x:x[0])\n",
    "        datdict = {}\n",
    "        for k in range(len(dat)):\n",
    "            datdict[dat[k][0]] = dat[k][1]\n",
    "        \n",
    "        spline_model3.append(UnivariateSpline(list(datdict.keys()), list(datdict.values())))\n",
    "        spline_fit = spline_model3[i](df[i]) \n",
    "        \n",
    "        #add\n",
    "        spline_fit[(X.T1_seed==1) & (X.T2_seed==16) & (X.T1_Score > X.T2_Score)] = 1.0\n",
    "        spline_fit[(X.T1_seed==2) & (X.T2_seed==15) & (X.T1_Score > X.T2_Score)] = 1.0\n",
    "        spline_fit[(X.T1_seed==3) & (X.T2_seed==14) & (X.T1_Score > X.T2_Score)] = 1.0\n",
    "        spline_fit[(X.T1_seed==4) & (X.T2_seed==13) & (X.T1_Score > X.T2_Score)] = 1.0\n",
    "        spline_fit[(X.T1_seed==16) & (X.T2_seed==1) & (X.T1_Score < X.T2_Score)] = 0.0\n",
    "        spline_fit[(X.T1_seed==15) & (X.T2_seed==2) & (X.T1_Score < X.T2_Score)] = 0.0\n",
    "        spline_fit[(X.T1_seed==14) & (X.T2_seed==3) & (X.T1_Score < X.T2_Score)] = 0.0\n",
    "        spline_fit[(X.T1_seed==13) & (X.T2_seed==4) & (X.T1_Score < X.T2_Score)] = 0.0\n",
    "\n",
    "        spline_fits.append(spline_fit)\n",
    "        cal_logloss(spline_fit, y, i)   \n",
    "    \n",
    "    \n",
    "    plot_df = pd.DataFrame({\n",
    "        \"pred\": df[0],\n",
    "        \"label\": np.where(y > 0, 1, 0),\n",
    "        \"spline\": spline_fits[0]  # 変更後の値を利用\n",
    "    })\n",
    "    plot_df[\"pred_int\"] = plot_df[\"pred\"].astype(int)\n",
    "    plot_df = plot_df.groupby(\"pred_int\")[[\"spline\", \"label\"]].mean().reset_index()\n",
    "\n",
    "    plt.figure()\n",
    "    plt.plot(plot_df.pred_int, plot_df.label, label=\"label\")\n",
    "    plt.plot(plot_df.pred_int, plot_df.spline, label=\"spline\")\n",
    "    plt.legend()\n",
    "    plt.show()\n",
    "    return spline_model3\n",
    "\n",
    "\n",
    "\n",
    "# Platt Scalingを用いた補正曲線生成の関数 (ロジスティック回帰)\n",
    "def make_platt_scaling(df, y, repeat_cv):\n",
    "    platt_models = []\n",
    "    logloss_platt = []\n",
    "    \n",
    "    for i in range(repeat_cv):\n",
    "        X_train = np.array(df[i]).reshape(-1, 1)\n",
    "        y_binary = np.where(y > 0, 1, 0)\n",
    "        \n",
    "        model = LogisticRegression(random_state=42, solver='lbfgs')\n",
    "        model.fit(X_train, y_binary)\n",
    "        platt_models.append(model)\n",
    "        \n",
    "\n",
    "        platt_fit = model.predict_proba(X_train)[:, 1]\n",
    "        loss = cal_logloss(platt_fit, y, i)\n",
    "        logloss_platt.append(loss)\n",
    "    \n",
    "    \n",
    "    ###\n",
    "    plot_df = pd.DataFrame({\n",
    "        \"pred\": df[0],\n",
    "        \"label\": np.where(y > 0, 1, 0),\n",
    "        \"platt\": platt_models[0].predict_proba(np.array(df[0]).reshape(-1, 1))[:, 1]\n",
    "    })\n",
    "    plot_df[\"pred_int\"] = plot_df[\"pred\"].astype(int)\n",
    "    plot_df = plot_df.groupby(\"pred_int\")[[\"platt\", \"label\"]].mean().reset_index()\n",
    "    \n",
    "    plt.figure(figsize=(8, 5))\n",
    "    plt.plot(plot_df.pred_int, plot_df.label, marker='o', linestyle='-', label=\"True Label\")\n",
    "    plt.plot(plot_df.pred_int, plot_df.platt, marker='x', linestyle='--', label=\"Platt Scaling\")\n",
    "    plt.xlabel(\"Predicted Value (Integer)\")\n",
    "    plt.ylabel(\"Mean Value\")\n",
    "    plt.title(\"Platt Scaling Calibration Curve\")\n",
    "    plt.legend()\n",
    "    plt.grid(True)\n",
    "    plt.savefig(os.path.join(OUTPUT_PATH, f\"platt_scaling_fit_{PREDICT_YEAR}.png\"))\n",
    "    plt.close()\n",
    "    \n",
    "    avg_logloss = np.mean(logloss_platt)\n",
    "    results.append(f\"Average Platt Scaling logloss: {avg_logloss:.4f}\" if avg_logloss is not None else \"No logloss computed\")\n",
    "    \n",
    "    return platt_models\n",
    "\n",
    "def make_isotonic_regression(df, y, repeat_cv):\n",
    "    \"\"\" Isotonic Regression を用いた補正曲線生成 \"\"\"\n",
    "    isotonic_models = []\n",
    "    logloss_isotonic = []\n",
    "    \n",
    "    for i in range(repeat_cv):\n",
    "        X_train = np.array(df[i]).reshape(-1, 1)\n",
    "        y_binary = np.where(y > 0, 1, 0)\n",
    "        \n",
    "        model = IsotonicRegression(out_of_bounds=\"clip\")\n",
    "        model.fit(X_train.ravel(), y_binary)\n",
    "        isotonic_models.append(model)\n",
    "        \n",
    "        isotonic_fit = model.predict(X_train.ravel())\n",
    "        loss = cal_logloss(isotonic_fit, y, i)\n",
    "        logloss_isotonic.append(loss)\n",
    "    \n",
    "    plot_df = pd.DataFrame({\n",
    "        \"pred\": df[0],\n",
    "        \"label\": np.where(y > 0, 1, 0),\n",
    "        \"isotonic\": isotonic_models[0].predict(np.array(df[0]).reshape(-1, 1))\n",
    "    })\n",
    "    plot_df[\"pred_int\"] = plot_df[\"pred\"].astype(int)\n",
    "    plot_df = plot_df.groupby(\"pred_int\")[[\"isotonic\", \"label\"]].mean().reset_index()\n",
    "    \n",
    "    plt.figure(figsize=(8, 5))\n",
    "    plt.plot(plot_df.pred_int, plot_df.label, marker='o', linestyle='-', label=\"True Label\")\n",
    "    plt.plot(plot_df.pred_int, plot_df.isotonic, marker='x', linestyle='--', label=\"Isotonic Regression\")\n",
    "    plt.xlabel(\"Predicted Value (Integer)\")\n",
    "    plt.ylabel(\"Mean Value\")\n",
    "    plt.title(\"Isotonic Regression Calibration Curve\")\n",
    "    plt.legend()\n",
    "    plt.grid(True)\n",
    "    plt.savefig(os.path.join(OUTPUT_PATH, f\"isotonic_regression_fit_{PREDICT_YEAR}.png\"))\n",
    "    plt.close()\n",
    "    \n",
    "    avg_logloss = np.mean(logloss_isotonic)\n",
    "    results.append(f\"Average Isotonic Regression logloss: {avg_logloss:.4f}\" if avg_logloss is not None else \"No logloss computed\")\n",
    "    \n",
    "    return isotonic_models\n",
    "\n"
   ]
  },
  {
   "cell_type": "code",
   "execution_count": 25,
   "id": "84e30466",
   "metadata": {
    "execution": {
     "iopub.execute_input": "2025-03-13T04:51:37.438706Z",
     "iopub.status.busy": "2025-03-13T04:51:37.437663Z",
     "iopub.status.idle": "2025-03-13T04:51:37.443261Z",
     "shell.execute_reply": "2025-03-13T04:51:37.443261Z"
    },
    "papermill": {
     "duration": 0.029571,
     "end_time": "2025-03-13T04:51:37.445412",
     "exception": false,
     "start_time": "2025-03-13T04:51:37.415841",
     "status": "completed"
    },
    "tags": []
   },
   "outputs": [],
   "source": [
    "# キャリブレーションカーブの描画関数\n",
    "def plot_calibration_curve(y_true, y_pred_proba, method, save_path):\n",
    "    \"\"\" キャリブレーションカーブをプロットし保存 \"\"\"\n",
    "    y_binary = np.where(y_true > 0, 1, 0) \n",
    "    prob_true, prob_pred = calibration_curve(y_binary, y_pred_proba, n_bins=10)\n",
    "    \n",
    "    plt.figure(figsize=(6,6))\n",
    "    plt.plot(prob_pred, prob_true, marker=\"o\", label=f\"{method} Calibration\")\n",
    "    plt.plot([0, 1], [0, 1], linestyle=\"--\", label=\"Perfect Calibration\")\n",
    "    plt.xlabel(\"Predicted Probability\")\n",
    "    plt.ylabel(\"Actual Probability\")\n",
    "    plt.legend()\n",
    "    plt.title(f\"{method} Calibration Curve\")\n",
    "    plt.grid()\n",
    "    plt.savefig(save_path)\n",
    "    plt.close()\n",
    "\n"
   ]
  },
  {
   "cell_type": "code",
   "execution_count": 26,
   "id": "a6ae0d6c",
   "metadata": {
    "execution": {
     "iopub.execute_input": "2025-03-13T04:51:37.492301Z",
     "iopub.status.busy": "2025-03-13T04:51:37.492301Z",
     "iopub.status.idle": "2025-03-13T04:51:37.700345Z",
     "shell.execute_reply": "2025-03-13T04:51:37.700078Z"
    },
    "papermill": {
     "duration": 0.233334,
     "end_time": "2025-03-13T04:51:37.701014",
     "exception": false,
     "start_time": "2025-03-13T04:51:37.467680",
     "status": "completed"
    },
    "tags": []
   },
   "outputs": [
    {
     "name": "stdout",
     "output_type": "stream",
     "text": [
      "logloss of cvsplit 0: 0.5111\n",
      "logloss of cvsplit 1: 0.5096\n",
      "logloss of cvsplit 2: 0.5072\n",
      "logloss of cvsplit 3: 0.5053\n",
      "logloss of cvsplit 4: 0.5081\n",
      "logloss of cvsplit 5: 0.5067\n",
      "logloss of cvsplit 6: 0.5079\n",
      "logloss of cvsplit 7: 0.5108\n",
      "logloss of cvsplit 8: 0.5096\n",
      "logloss of cvsplit 9: 0.5074\n"
     ]
    }
   ],
   "source": [
    "# キャリブレーション手法の選択\n",
    "spline = MODEL.spline\n",
    "if spline == \"spline_normal\":\n",
    "    spline_model = make_normal_spline(oof_preds, y, repeat_cv)\n",
    "    calibrated_preds = spline_model[0](oof_preds[0])\n",
    "    plot_calibration_curve(y, calibrated_preds, \"Spline Normal\", os.path.join(OUTPUT_PATH, f\"spline_normal_calibration_{PREDICT_YEAR}.png\"))\n",
    "    \n",
    "elif spline == \"logistic\":\n",
    "    spline_model = make_platt_scaling(oof_preds, y, repeat_cv)\n",
    "    calibrated_preds = spline_model[0].predict_proba(np.array(oof_preds[0]).reshape(-1, 1))[:, 1]\n",
    "    plot_calibration_curve(y, calibrated_preds, \"Platt Scaling\", os.path.join(OUTPUT_PATH, f\"platt_scaling_calibration_{PREDICT_YEAR}.png\"))\n",
    "    \n",
    "elif spline == \"isotonic\":\n",
    "    spline_model = make_isotonic_regression(oof_preds, y, repeat_cv)\n",
    "    calibrated_preds = spline_model[0].predict(np.array(oof_preds[0]).reshape(-1, 1))\n",
    "    plot_calibration_curve(y, calibrated_preds, \"Isotonic Regression\", os.path.join(OUTPUT_PATH, f\"isotonic_regression_calibration_{PREDICT_YEAR}.png\"))"
   ]
  },
  {
   "cell_type": "markdown",
   "id": "d09e1921",
   "metadata": {
    "papermill": {
     "duration": 0.016123,
     "end_time": "2025-03-13T04:51:37.735339",
     "exception": false,
     "start_time": "2025-03-13T04:51:37.719216",
     "status": "completed"
    },
    "tags": []
   },
   "source": [
    "# submmit\n",
    "\n",
    "同じfeature engineeringする.\n",
    "\n",
    "個々の扱うも考える。2025は最終提出用の関数を用意する、その他2024以前は過去コンペでの提出形式に合わせる、でも年度によって提出形式が変わるからとりあえず2023でやる"
   ]
  },
  {
   "cell_type": "code",
   "execution_count": 27,
   "id": "eca86216",
   "metadata": {
    "execution": {
     "iopub.execute_input": "2025-03-13T04:51:37.769936Z",
     "iopub.status.busy": "2025-03-13T04:51:37.769936Z",
     "iopub.status.idle": "2025-03-13T04:51:37.783031Z",
     "shell.execute_reply": "2025-03-13T04:51:37.783031Z"
    },
    "papermill": {
     "duration": 0.035469,
     "end_time": "2025-03-13T04:51:37.786051",
     "exception": false,
     "start_time": "2025-03-13T04:51:37.750582",
     "status": "completed"
    },
    "tags": []
   },
   "outputs": [
    {
     "data": {
      "text/plain": [
       "'if PREDICT_YEAR==2022:\\n    sub = pd.read_csv(os.path.join(INPUT_PATH, \"SampleSubmission2022M.csv\"))\\n    sub[\\'Season\\'] = sub[\\'ID\\'].apply(lambda x: int(x.split(\\'_\\')[0]))\\n    sub[\"T1_TeamID\"] = sub[\\'ID\\'].apply(lambda x: int(x.split(\\'_\\')[1]))\\n    sub[\"T2_TeamID\"] = sub[\\'ID\\'].apply(lambda x: int(x.split(\\'_\\')[2]))\\n    sub_X, a = process_tourney(sub, mode = \"sub\")\\n    dtest = xgb.DMatrix(sub_X)\\nelif PREDICT_YEAR==2023:\\n    sub = pd.read_csv(os.path.join(INPUT_PATH, \"SampleSubmission2023.csv\"))\\n    sub[\\'Season\\'] = sub[\\'ID\\'].apply(lambda x: int(x.split(\\'_\\')[0]))\\n    sub[\"T1_TeamID\"] = sub[\\'ID\\'].apply(lambda x: int(x.split(\\'_\\')[1]))\\n    sub[\"T2_TeamID\"] = sub[\\'ID\\'].apply(lambda x: int(x.split(\\'_\\')[2]))\\n    sub_X, a = process_tourney(sub, mode = \"sub\")\\n    dtest = xgb.DMatrix(sub_X)\\nelif PREDICT_YEAR==2024:\\n    sub = pd.read_csv(os.path.join(INPUT_PATH, \"SampleSubmission2024.csv\"))\\n    sub[\\'Season\\'] = sub[\\'ID\\'].apply(lambda x: int(x.split(\\'_\\')[0]))\\n    sub[\"T1_TeamID\"] = sub[\\'ID\\'].apply(lambda x: int(x.split(\\'_\\')[1]))\\n    sub[\"T2_TeamID\"] = sub[\\'ID\\'].apply(lambda x: int(x.split(\\'_\\')[2]))\\n    sub_X, a = process_tourney(sub, mode = \"sub\")\\n    dtest = xgb.DMatrix(sub_X)\\nelif PREDICT_YEAR==2025:\\n    sub = pd.read_csv(os.path.join(INPUT_PATH, \"SampleSubmissionStage2.csv\"))\\n    sub[\\'Season\\'] = sub[\\'ID\\'].apply(lambda x: int(x.split(\\'_\\')[0]))\\n    sub[\"T1_TeamID\"] = sub[\\'ID\\'].apply(lambda x: int(x.split(\\'_\\')[1]))\\n    sub[\"T2_TeamID\"] = sub[\\'ID\\'].apply(lambda x: int(x.split(\\'_\\')[2]))   \\n    sub_X, a = process_tourney(sub, mode = \"sub\")\\n    dtest = xgb.DMatrix(sub_X)'"
      ]
     },
     "execution_count": 27,
     "metadata": {},
     "output_type": "execute_result"
    }
   ],
   "source": [
    "\"\"\"if PREDICT_YEAR==2022:\n",
    "    sub = pd.read_csv(os.path.join(INPUT_PATH, \"SampleSubmission2022M.csv\"))\n",
    "    sub['Season'] = sub['ID'].apply(lambda x: int(x.split('_')[0]))\n",
    "    sub[\"T1_TeamID\"] = sub['ID'].apply(lambda x: int(x.split('_')[1]))\n",
    "    sub[\"T2_TeamID\"] = sub['ID'].apply(lambda x: int(x.split('_')[2]))\n",
    "    sub_X, a = process_tourney(sub, mode = \"sub\")\n",
    "    dtest = xgb.DMatrix(sub_X)\n",
    "elif PREDICT_YEAR==2023:\n",
    "    sub = pd.read_csv(os.path.join(INPUT_PATH, \"SampleSubmission2023.csv\"))\n",
    "    sub['Season'] = sub['ID'].apply(lambda x: int(x.split('_')[0]))\n",
    "    sub[\"T1_TeamID\"] = sub['ID'].apply(lambda x: int(x.split('_')[1]))\n",
    "    sub[\"T2_TeamID\"] = sub['ID'].apply(lambda x: int(x.split('_')[2]))\n",
    "    sub_X, a = process_tourney(sub, mode = \"sub\")\n",
    "    dtest = xgb.DMatrix(sub_X)\n",
    "elif PREDICT_YEAR==2024:\n",
    "    sub = pd.read_csv(os.path.join(INPUT_PATH, \"SampleSubmission2024.csv\"))\n",
    "    sub['Season'] = sub['ID'].apply(lambda x: int(x.split('_')[0]))\n",
    "    sub[\"T1_TeamID\"] = sub['ID'].apply(lambda x: int(x.split('_')[1]))\n",
    "    sub[\"T2_TeamID\"] = sub['ID'].apply(lambda x: int(x.split('_')[2]))\n",
    "    sub_X, a = process_tourney(sub, mode = \"sub\")\n",
    "    dtest = xgb.DMatrix(sub_X)\n",
    "elif PREDICT_YEAR==2025:\n",
    "    sub = pd.read_csv(os.path.join(INPUT_PATH, \"SampleSubmissionStage2.csv\"))\n",
    "    sub['Season'] = sub['ID'].apply(lambda x: int(x.split('_')[0]))\n",
    "    sub[\"T1_TeamID\"] = sub['ID'].apply(lambda x: int(x.split('_')[1]))\n",
    "    sub[\"T2_TeamID\"] = sub['ID'].apply(lambda x: int(x.split('_')[2]))   \n",
    "    sub_X, a = process_tourney(sub, mode = \"sub\")\n",
    "    dtest = xgb.DMatrix(sub_X)\"\"\"\n",
    "    "
   ]
  },
  {
   "cell_type": "code",
   "execution_count": 28,
   "id": "1dfc04e6",
   "metadata": {
    "execution": {
     "iopub.execute_input": "2025-03-13T04:51:37.816392Z",
     "iopub.status.busy": "2025-03-13T04:51:37.816392Z",
     "iopub.status.idle": "2025-03-13T04:51:37.839541Z",
     "shell.execute_reply": "2025-03-13T04:51:37.839541Z"
    },
    "papermill": {
     "duration": 0.040509,
     "end_time": "2025-03-13T04:51:37.840546",
     "exception": false,
     "start_time": "2025-03-13T04:51:37.800037",
     "status": "completed"
    },
    "tags": []
   },
   "outputs": [
    {
     "name": "stdout",
     "output_type": "stream",
     "text": [
      "drop rank_diff\n",
      "no fillna, use nan\n"
     ]
    }
   ],
   "source": [
    "sub = notexist.copy()\n",
    "sub = sub.rename(columns={\"WTeamID\": \"T1_TeamID\", \"LTeamID\": \"T2_TeamID\"})\n",
    "sub = sub[[\"Season\", \"T1_TeamID\", \"T2_TeamID\"]]\n",
    "temp = sub.copy()\n",
    "temp = temp.rename(columns={\"T1_TeamID\": \"T2_TeamID\", \"T2_TeamID\": \"T1_TeamID\"})\n",
    "sub = pd.concat([sub, temp]).reset_index()\n",
    "sub_X, a = process_tourney(sub, mode=\"sub\")\n",
    "dtest = xgb.DMatrix(sub_X)"
   ]
  },
  {
   "cell_type": "code",
   "execution_count": 29,
   "id": "03c340af",
   "metadata": {
    "execution": {
     "iopub.execute_input": "2025-03-13T04:51:37.892350Z",
     "iopub.status.busy": "2025-03-13T04:51:37.891351Z",
     "iopub.status.idle": "2025-03-13T04:52:49.333976Z",
     "shell.execute_reply": "2025-03-13T04:52:49.333976Z"
    },
    "papermill": {
     "duration": 71.499548,
     "end_time": "2025-03-13T04:52:49.363484",
     "exception": false,
     "start_time": "2025-03-13T04:51:37.863936",
     "status": "completed"
    },
    "tags": []
   },
   "outputs": [
    {
     "name": "stderr",
     "output_type": "stream",
     "text": [
      "\r",
      "  0%|                                                                                                                                                                                                                                                                       | 0/10 [00:00<?, ?it/s]"
     ]
    },
    {
     "name": "stderr",
     "output_type": "stream",
     "text": [
      "\r",
      " 10%|█████████████████████████▌                                                                                                                                                                                                                                     | 1/10 [00:06<01:00,  6.68s/it]"
     ]
    },
    {
     "name": "stderr",
     "output_type": "stream",
     "text": [
      "\r",
      " 20%|███████████████████████████████████████████████████                                                                                                                                                                                                            | 2/10 [00:14<00:57,  7.19s/it]"
     ]
    },
    {
     "name": "stderr",
     "output_type": "stream",
     "text": [
      "\r",
      " 30%|████████████████████████████████████████████████████████████████████████████▌                                                                                                                                                                                  | 3/10 [00:20<00:47,  6.79s/it]"
     ]
    },
    {
     "name": "stderr",
     "output_type": "stream",
     "text": [
      "\r",
      " 40%|██████████████████████████████████████████████████████████████████████████████████████████████████████                                                                                                                                                         | 4/10 [00:28<00:43,  7.19s/it]"
     ]
    },
    {
     "name": "stderr",
     "output_type": "stream",
     "text": [
      "\r",
      " 50%|███████████████████████████████████████████████████████████████████████████████████████████████████████████████████████████████▌                                                                                                                               | 5/10 [00:35<00:36,  7.24s/it]"
     ]
    },
    {
     "name": "stderr",
     "output_type": "stream",
     "text": [
      "\r",
      " 60%|█████████████████████████████████████████████████████████████████████████████████████████████████████████████████████████████████████████████████████████                                                                                                      | 6/10 [00:42<00:28,  7.03s/it]"
     ]
    },
    {
     "name": "stderr",
     "output_type": "stream",
     "text": [
      "\r",
      " 70%|██████████████████████████████████████████████████████████████████████████████████████████████████████████████████████████████████████████████████████████████████████████████████▌                                                                            | 7/10 [00:49<00:21,  7.19s/it]"
     ]
    },
    {
     "name": "stderr",
     "output_type": "stream",
     "text": [
      "\r",
      " 80%|████████████████████████████████████████████████████████████████████████████████████████████████████████████████████████████████████████████████████████████████████████████████████████████████████████████                                                   | 8/10 [00:56<00:14,  7.06s/it]"
     ]
    },
    {
     "name": "stderr",
     "output_type": "stream",
     "text": [
      "\r",
      " 90%|█████████████████████████████████████████████████████████████████████████████████████████████████████████████████████████████████████████████████████████████████████████████████████████████████████████████████████████████████████▌                         | 9/10 [01:04<00:07,  7.21s/it]"
     ]
    },
    {
     "name": "stderr",
     "output_type": "stream",
     "text": [
      "\r",
      "100%|██████████████████████████████████████████████████████████████████████████████████████████████████████████████████████████████████████████████████████████████████████████████████████████████████████████████████████████████████████████████████████████████| 10/10 [01:11<00:00,  7.24s/it]"
     ]
    },
    {
     "name": "stderr",
     "output_type": "stream",
     "text": [
      "\r",
      "100%|██████████████████████████████████████████████████████████████████████████████████████████████████████████████████████████████████████████████████████████████████████████████████████████████████████████████████████████████████████████████████████████████| 10/10 [01:11<00:00,  7.14s/it]"
     ]
    },
    {
     "name": "stderr",
     "output_type": "stream",
     "text": [
      "\n"
     ]
    }
   ],
   "source": [
    "sub_models = []\n",
    "#sokutionではカスタム関数の指定、早期停止の言及がここではなかった。検討する\n",
    "for i in tqdm(range(repeat_cv), leave=True, dynamic_ncols=True):\n",
    "    sub_models.append(\n",
    "        xgb.train(\n",
    "          params = param,\n",
    "          dtrain = dtrain,\n",
    "          obj=cauchyobj,\n",
    "          num_boost_round = int(iteration_counts[i] * 1.05),\n",
    "          #early_stopping_rounds=early_stopping_rounds, #これ指定してない、指定するのかあと、指定するとしても少し遅くさせるとか\n",
    "          verbose_eval = 50\n",
    "        )\n",
    "    )"
   ]
  },
  {
   "cell_type": "markdown",
   "id": "e6bb87bf",
   "metadata": {
    "papermill": {
     "duration": 0.027525,
     "end_time": "2025-03-13T04:52:49.423284",
     "exception": false,
     "start_time": "2025-03-13T04:52:49.395759",
     "status": "completed"
    },
    "tags": []
   },
   "source": [
    "各特徴量の寄与度を算出"
   ]
  },
  {
   "cell_type": "code",
   "execution_count": 30,
   "id": "d472cd85",
   "metadata": {
    "execution": {
     "iopub.execute_input": "2025-03-13T04:52:49.471481Z",
     "iopub.status.busy": "2025-03-13T04:52:49.470489Z",
     "iopub.status.idle": "2025-03-13T04:52:50.192973Z",
     "shell.execute_reply": "2025-03-13T04:52:50.192973Z"
    },
    "papermill": {
     "duration": 0.744975,
     "end_time": "2025-03-13T04:52:50.194470",
     "exception": false,
     "start_time": "2025-03-13T04:52:49.449495",
     "status": "completed"
    },
    "tags": []
   },
   "outputs": [
    {
     "data": {
      "image/png": "[encoded data removed]",
      "text/plain": [
       "<Figure size 1000x600 with 1 Axes>"
      ]
     },
     "metadata": {},
     "output_type": "display_data"
    }
   ],
   "source": [
    "feature_importances = collections.defaultdict(list)\n",
    "for model in sub_models:\n",
    "    importance = model.get_score(importance_type='gain')\n",
    "    for feat, score in importance.items():\n",
    "        feature_importances[feat].append(score)\n",
    "\n",
    "avg_importance = {feat: sum(scores) / len(scores) for feat, scores in feature_importances.items()}\n",
    "fi_df = pd.DataFrame(list(avg_importance.items()), columns=['Feature', 'Avg_Gain'])\n",
    "fi_df.sort_values(by='Avg_Gain', ascending=False, inplace=True)\n",
    "results.append(\"\")\n",
    "fi_log = \"-----Feature Importance (Average Gain)-----\\n\"\n",
    "for feat, score in fi_df.values:\n",
    "    fi_log += f\"{feat}: {score:.4f}\\n\"\n",
    "results.append(fi_log)\n",
    "results.append(\"\")\n",
    "\n",
    "plt.figure(figsize=(10, 6))\n",
    "plt.bar(fi_df['Feature'], fi_df['Avg_Gain'])\n",
    "plt.xlabel('Feature')\n",
    "plt.ylabel('Average Gain')\n",
    "plt.title('Feature Importance (Average Gain)')\n",
    "plt.xticks(rotation=45)\n",
    "plt.tight_layout() \n",
    "\n",
    "plt.savefig(os.path.join(OUTPUT_PATH, f\"feature_importance_{PREDICT_YEAR}.png\"))\n",
    "plt.show()"
   ]
  },
  {
   "cell_type": "code",
   "execution_count": 31,
   "id": "dff00d69",
   "metadata": {
    "execution": {
     "iopub.execute_input": "2025-03-13T04:52:50.240991Z",
     "iopub.status.busy": "2025-03-13T04:52:50.240991Z",
     "iopub.status.idle": "2025-03-13T04:52:50.300083Z",
     "shell.execute_reply": "2025-03-13T04:52:50.300083Z"
    },
    "papermill": {
     "duration": 0.086199,
     "end_time": "2025-03-13T04:52:50.301090",
     "exception": false,
     "start_time": "2025-03-13T04:52:50.214891",
     "status": "completed"
    },
    "tags": []
   },
   "outputs": [
    {
     "name": "stderr",
     "output_type": "stream",
     "text": [
      "\r",
      "  0%|                                                                                                                                                                                                                                                                       | 0/10 [00:00<?, ?it/s]"
     ]
    },
    {
     "name": "stderr",
     "output_type": "stream",
     "text": [
      "\r",
      "100%|█████████████████████████████████████████████████████████████████████████████████████████████████████████████████████████████████████████████████████████████████████████████████████████████████████████████████████████████████████████████████████████████| 10/10 [00:00<00:00, 204.17it/s]"
     ]
    },
    {
     "name": "stderr",
     "output_type": "stream",
     "text": [
      "\n"
     ]
    }
   ],
   "source": [
    "sub_preds = []\n",
    "for i in tqdm(range(repeat_cv)):\n",
    "    if spline == \"spline_normal\":\n",
    "        sub_preds.append(np.clip(spline_model[i](np.clip(sub_models[i].predict(dtest), -30, 30)), 0.025, 0.975))\n",
    "    \n",
    "    elif spline == \"logistic\":\n",
    "        X_input = np.clip(sub_models[i].predict(dtest), -30, 30).reshape(-1, 1)\n",
    "        platt_pred = spline_model[i].predict_proba(X_input)[:, 1]\n",
    "        sub_preds.append(np.clip(platt_pred, 0.025, 0.975))\n",
    "\n",
    "    elif spline == \"isotonic\":\n",
    "        X_input = np.clip(sub_models[i].predict(dtest), -30, 30).reshape(-1, 1)\n",
    "        iso_pred = spline_model[i].predict(X_input)  # Isotonic Regression の適用\n",
    "        sub_preds.append(np.clip(iso_pred, 0.025, 0.975))\n",
    "\n",
    "sub[\"Pred\"] = np.mean(np.vstack(sub_preds), axis=0)"
   ]
  },
  {
   "cell_type": "code",
   "execution_count": 32,
   "id": "6478e243",
   "metadata": {
    "execution": {
     "iopub.execute_input": "2025-03-13T04:52:50.353413Z",
     "iopub.status.busy": "2025-03-13T04:52:50.352414Z",
     "iopub.status.idle": "2025-03-13T04:52:50.359500Z",
     "shell.execute_reply": "2025-03-13T04:52:50.359500Z"
    },
    "papermill": {
     "duration": 0.034683,
     "end_time": "2025-03-13T04:52:50.360773",
     "exception": false,
     "start_time": "2025-03-13T04:52:50.326090",
     "status": "completed"
    },
    "tags": []
   },
   "outputs": [],
   "source": [
    "# teams:64team, targetを受け取って、そのtarget teamの試合可能性のある全63試合を抽出する関数\n",
    "def extract_target_team_records(submission_df, teams, target_team):\n",
    "    if target_team not in teams:\n",
    "        raise ValueError(f\"target_team {target_team} は teams 内に存在しません\")\n",
    "\n",
    "    remaining_teams = [t for t in teams if t != target_team]\n",
    "    \n",
    "    records = []\n",
    "    for other_team in remaining_teams:\n",
    "        lower = min(target_team, other_team)\n",
    "        higher = max(target_team, other_team)\n",
    "        row = submission_df[(submission_df['T1_TeamID'] == lower) & (submission_df['T2_TeamID'] == higher)]\n",
    "        if row.empty:\n",
    "            print(f\"Warning: 対戦 {lower} vs {higher} に対応するレコードが見つかりませんでした\")\n",
    "        else:\n",
    "            records.append(row)\n",
    "    \n",
    "    if records:\n",
    "        final_records = pd.concat(records, ignore_index=True)\n",
    "    else:\n",
    "        final_records = pd.DataFrame()\n",
    "    \n",
    "    if len(final_records) != 63:\n",
    "        print(f\"Warning: 期待される63件ではなく、{len(final_records)}件のレコードが抽出されました。\")\n",
    "    \n",
    "    return final_records\n"
   ]
  },
  {
   "cell_type": "code",
   "execution_count": 33,
   "id": "60cb951c",
   "metadata": {
    "execution": {
     "iopub.execute_input": "2025-03-13T04:52:50.421355Z",
     "iopub.status.busy": "2025-03-13T04:52:50.420353Z",
     "iopub.status.idle": "2025-03-13T04:52:50.429761Z",
     "shell.execute_reply": "2025-03-13T04:52:50.427752Z"
    },
    "papermill": {
     "duration": 0.043722,
     "end_time": "2025-03-13T04:52:50.430760",
     "exception": false,
     "start_time": "2025-03-13T04:52:50.387038",
     "status": "completed"
    },
    "tags": []
   },
   "outputs": [],
   "source": [
    "tourney_teams_2023 = [\n",
    "    1395, 1113,   # TCU1395, アリゾナ・ステイト1113\n",
    "    1231, 1245,   # インディアナ1231, ケント・ステイト1245\n",
    "    1243, 1286,   # カンザス・ステイト1243, モンタナ・ステイト1286\n",
    "    1272, 1194,   # メンフィス1272, ﾌﾛﾘﾀﾞ･ｱﾄﾗﾝﾃｨｯｸ1194\n",
    "    1211, 1213,   # ゴンザガ1211, グランド・キャニオン1213\n",
    "    1274, 1179,   # マイアミ（フロリダ）1274, ドレイク1179\n",
    "    1243, 1286,   # ケンタッキー1243, プロビデンス1286\n",
    "    1345, 1192,   # パデュー1345, ﾌｪｱﾘｰ･ﾃﾞｨｷﾝｿﾝ1192\n",
    "    1163, 1233,   # コネチカット1163, アイオナ1233\n",
    "    1166, 1301,   # クレイトン1166, ﾉｰｽｶﾛﾗｲﾅ･ｽﾃｲﾄ1301\n",
    "    1235, 1338,   # アイオワ・ステイト1235, ピッツバーグ1338\n",
    "    1266, 1436,   # マーケット1266, バーモント1436\n",
    "    1388, 1433,   # ｾﾝﾄﾒｱﾘｰｽﾞ（ｶﾘﾌｫﾙﾆｱ）1388, VCU1433\n",
    "    1124, 1364,   # ベイラー1124, UCサンタバーバラ1364\n",
    "    1462, 1244,   # ザビエル1462, ケネソー・ステイト1244\n",
    "    1277, 1425,   # ミシガン・ステイト1277, USC トロージャンズ1425\n",
    "\n",
    "    1417, 1421,   # UCLA1417, UNC アシュビル1421\n",
    "    1401, 1336,   # テキサス A＆M1401, ﾍﾟﾝｼﾞﾙﾍﾞﾆｱ･ｽﾃｲﾄ1336\n",
    "    1397, 1418,   # テネシー1397, ﾙｲｼﾞｱﾅ･ﾗﾌｧｲｴｯﾄ1418\n",
    "    1222, 1297,   # ヒューストン1222, ノーザンケンタッキー1297\n",
    "    1321, 1129,   # ノースウェスタン1321, ボイシ・ステイト1129\n",
    "    1400, 1159,   # テキサス1400, コルゲート1159\n",
    "    1181, 1331,   # デューク1181, オーラル・ロバーツ1331\n",
    "    1234, 1120,   # アイオワ1234, オーバーン1120\n",
    "    1116, 1228,   # アーカンソー1116, イリノイ1228\n",
    "    1112, 1343,   # アリゾナ1112, プリンストン1343\n",
    "    1361, 1158,   # ｻﾝﾃﾞｴｺﾞ･ｽﾃｲﾄ1361, チャールストン1158\n",
    "    1104, 1394,   # アラバマ1104, テキサス A＆M CC1394\n",
    "    1242, 1224,   # カンザス1242, ハワード1224\n",
    "    1281, 1429,   # ミズーリ1281, ユタ・ステイト1429\n",
    "    1438, 1202,   # バージニア1438, ファーマン1202\n",
    "    1268, 1452    # メリーランド1268, ウェストバージニア1452\n",
    "]\n",
    "\n",
    "#Connecticut_vs = extract_target_team_records(sub, tourney_teams_2023, 1163 )"
   ]
  },
  {
   "cell_type": "code",
   "execution_count": 34,
   "id": "497e8b57",
   "metadata": {
    "execution": {
     "iopub.execute_input": "2025-03-13T04:52:50.478617Z",
     "iopub.status.busy": "2025-03-13T04:52:50.478617Z",
     "iopub.status.idle": "2025-03-13T04:52:50.484623Z",
     "shell.execute_reply": "2025-03-13T04:52:50.484623Z"
    },
    "papermill": {
     "duration": 0.033055,
     "end_time": "2025-03-13T04:52:50.486805",
     "exception": false,
     "start_time": "2025-03-13T04:52:50.453750",
     "status": "completed"
    },
    "tags": []
   },
   "outputs": [],
   "source": [
    "#handlabelingを行う関数\n",
    "def make_handlabeling(df, season, T1, T2, labeling_pred, tourney_teams):\n",
    "    if T1 not in tourney_teams or T2 not in tourney_teams: \n",
    "        print(f\"トーナメント対象チームに属していません\")\n",
    "        return \n",
    "    \n",
    "    if T1>T2: \n",
    "        T1, T2 = T2, T1\n",
    "        print(f\"{T1}, {T2}ID逆だけど大丈夫？？\")\n",
    "    id = f\"{season}_{T1}_{T2}\"\n",
    "\n",
    "    print(f\"before: {df[df['ID']==id]}\")\n",
    "    df.loc[df[\"ID\"] == id, \"Pred\"] = labeling_pred\n",
    "    print(f\"after: {df[df['ID']==id]}\")\n",
    "    \n",
    "    results.append(f\"-----handolabeling-----\")\n",
    "    results.append(f\"before:  {df[df['ID']==id]} -----> after: {df[df['ID']==id]}\")\n",
    "    results.appedn(\"\")\n",
    "    return df"
   ]
  },
  {
   "cell_type": "code",
   "execution_count": 35,
   "id": "965bfc49",
   "metadata": {
    "execution": {
     "iopub.execute_input": "2025-03-13T04:52:50.554369Z",
     "iopub.status.busy": "2025-03-13T04:52:50.553351Z",
     "iopub.status.idle": "2025-03-13T04:52:50.558172Z",
     "shell.execute_reply": "2025-03-13T04:52:50.558172Z"
    },
    "papermill": {
     "duration": 0.046041,
     "end_time": "2025-03-13T04:52:50.560389",
     "exception": false,
     "start_time": "2025-03-13T04:52:50.514348",
     "status": "completed"
    },
    "tags": []
   },
   "outputs": [],
   "source": [
    "labeling = cfg.exp.hand_labeling\n",
    "if labeling is not None:\n",
    "    for i in range(len(labeling)):\n",
    "        T1 = labeling[i][0]\n",
    "        T2 = labeling[i][1]\n",
    "        labeling_pred = labeling[i][2]\n",
    "        \n",
    "        print(f\"{T1} vs {T2} result labeling {labeling_pred}\")\n",
    "        \n",
    "        sub = make_handlabeling(sub, PREDICT_YEAR, T1, T2, labeling_pred, tourney_teams_2023)"
   ]
  },
  {
   "cell_type": "code",
   "execution_count": 36,
   "id": "ad4d5b45",
   "metadata": {
    "execution": {
     "iopub.execute_input": "2025-03-13T04:52:50.610992Z",
     "iopub.status.busy": "2025-03-13T04:52:50.610029Z",
     "iopub.status.idle": "2025-03-13T04:52:50.896080Z",
     "shell.execute_reply": "2025-03-13T04:52:50.896080Z"
    },
    "papermill": {
     "duration": 0.310778,
     "end_time": "2025-03-13T04:52:50.898183",
     "exception": false,
     "start_time": "2025-03-13T04:52:50.587405",
     "status": "completed"
    },
    "tags": []
   },
   "outputs": [
    {
     "name": "stdout",
     "output_type": "stream",
     "text": [
      "Tournament matchups only - Pred Mean: 0.5000441903587076\n"
     ]
    },
    {
     "data": {
      "image/png": "[encoded data removed]",
      "text/plain": [
       "<Figure size 640x480 with 1 Axes>"
      ]
     },
     "metadata": {},
     "output_type": "display_data"
    }
   ],
   "source": [
    "tourney_filtered = notexist[notexist[\"Season\"] == PREDICT_YEAR].copy()\n",
    "a = tourney_filtered.rename(columns={'WTeamID': 'T1_TeamID', 'LTeamID': 'T2_TeamID'})\n",
    "b = tourney_filtered.rename(columns={'WTeamID': 'T2_TeamID', 'LTeamID': 'T1_TeamID'})\n",
    "ab = pd.concat([a, b]).reset_index(drop=True) \n",
    "filtered_sub = sub.merge(ab[['Season', 'T1_TeamID', 'T2_TeamID']], \n",
    "                         on=['Season', 'T1_TeamID', 'T2_TeamID'], \n",
    "                         how='inner')\n",
    "\n",
    "filtered_sub[\"Pred\"].astype(int)\n",
    "pred_mean = filtered_sub[\"Pred\"].mean()\n",
    "print(\"Tournament matchups only - Pred Mean:\", pred_mean)\n",
    "\n",
    "filtered_sub[\"Pred\"].hist(bins=50)\n",
    "results+=[\"\", f\"Tournament matchups only - Pred Mean:, {pred_mean}\", \"\"]\n",
    "plt.figure(figsize=(8, 6))\n",
    "filtered_sub[\"Pred\"].hist(bins=50)\n",
    "plt.title(\"Prediction Histogram\")\n",
    "plt.xlabel(\"Pred\")\n",
    "plt.ylabel(\"Frequency\")\n",
    "plt.grid(True)\n",
    "\n",
    "# 画像として保存\n",
    "plt.savefig(os.path.join(OUTPUT_PATH, f\"Prediction_Histgram_filtered_{PREDICT_YEAR}.png\"))\n",
    "plt.close()"
   ]
  },
  {
   "cell_type": "markdown",
   "id": "7d5f4f5b",
   "metadata": {
    "papermill": {
     "duration": 0.021956,
     "end_time": "2025-03-13T04:52:50.938845",
     "exception": false,
     "start_time": "2025-03-13T04:52:50.916889",
     "status": "completed"
    },
    "tags": []
   },
   "source": [
    "# スコア算出、まとめ、\n",
    "ここまでで提出ファイル作成。ここからは過去年度のシミュレーションに対してBrier scoreやその他指標の算出"
   ]
  },
  {
   "cell_type": "code",
   "execution_count": 37,
   "id": "70390e3a",
   "metadata": {
    "execution": {
     "iopub.execute_input": "2025-03-13T04:52:51.005424Z",
     "iopub.status.busy": "2025-03-13T04:52:51.005424Z",
     "iopub.status.idle": "2025-03-13T04:52:51.207157Z",
     "shell.execute_reply": "2025-03-13T04:52:51.207157Z"
    },
    "papermill": {
     "duration": 0.237688,
     "end_time": "2025-03-13T04:52:51.210076",
     "exception": false,
     "start_time": "2025-03-13T04:52:50.972388",
     "status": "completed"
    },
    "tags": []
   },
   "outputs": [
    {
     "data": {
      "image/png": "[encoded data removed]",
      "text/plain": [
       "<Figure size 640x480 with 1 Axes>"
      ]
     },
     "metadata": {},
     "output_type": "display_data"
    }
   ],
   "source": [
    "sub[\"Pred\"].hist()\n",
    "results+=[\"\", f\"Pred mean: {sub['Pred'].mean()}\", \"\"]\n",
    "\n",
    "plt.figure(figsize=(8, 6))\n",
    "sub[\"Pred\"].hist(bins=50)\n",
    "plt.title(\"Prediction Histogram\")\n",
    "plt.xlabel(\"Pred\")\n",
    "plt.ylabel(\"Frequency\")\n",
    "plt.grid(True)\n",
    "\n",
    "# 画像として保存\n",
    "plt.savefig(os.path.join(OUTPUT_PATH, f\"Prediction_Histgram_{PREDICT_YEAR}.png\"))\n",
    "plt.close()"
   ]
  },
  {
   "cell_type": "markdown",
   "id": "fd9113f1",
   "metadata": {
    "papermill": {
     "duration": 0.018001,
     "end_time": "2025-03-13T04:52:51.246359",
     "exception": false,
     "start_time": "2025-03-13T04:52:51.228358",
     "status": "completed"
    },
    "tags": []
   },
   "source": [
    "存在するはずのない予測年度のトーナメント結果をもとに(Pred, label)を取り出し、以下を行う。\n",
    "\n",
    "- 各評価指標の計算\n",
    "- キャリブレーション可視化\n",
    "- AUC可視化"
   ]
  },
  {
   "cell_type": "code",
   "execution_count": 38,
   "id": "dff408d9",
   "metadata": {
    "execution": {
     "iopub.execute_input": "2025-03-13T04:52:51.310337Z",
     "iopub.status.busy": "2025-03-13T04:52:51.309247Z",
     "iopub.status.idle": "2025-03-13T04:52:51.321646Z",
     "shell.execute_reply": "2025-03-13T04:52:51.321646Z"
    },
    "papermill": {
     "duration": 0.050452,
     "end_time": "2025-03-13T04:52:51.323752",
     "exception": false,
     "start_time": "2025-03-13T04:52:51.273300",
     "status": "completed"
    },
    "tags": []
   },
   "outputs": [],
   "source": [
    "def extract_labels_and_preds(sub, tourney):\n",
    "    \"\"\" 試合データから予測値 (Pred) と正解ラベル (label) を抽出する \"\"\"\n",
    "    label_data = tourney[[\"WTeamID\", \"LTeamID\", \"WScore\", \"LScore\"]]\n",
    "    label_data = label_data.rename(columns={\"WTeamID\": \"T1_TeamID\", \"LTeamID\": \"T2_TeamID\", \"WScore\": \"T1_Score\", \"LScore\": \"T2_Score\"})\n",
    "    temp = label_data.copy()\n",
    "    temp = temp.rename(columns={\"T1_TeamID\": \"T2_TeamID\", \"T2_TeamID\": \"T1_TeamID\", \"T1_Score\": \"T2_Score\", \"T2_Score\": \"T1_Score\"})\n",
    "    label_data = pd.concat([label_data, temp]).reset_index(drop=True)\n",
    "    \n",
    "    label_data = pd.merge(label_data, sub, on=[\"T1_TeamID\", \"T2_TeamID\"], how=\"left\")\n",
    "    label_data[\"label\"] = np.where(label_data[\"T1_Score\"] - label_data[\"T2_Score\"] > 0, 1, 0)\n",
    "    label_data = label_data.dropna(subset=[\"Pred\"])  # 欠損値を削除\n",
    "    \n",
    "    return label_data[[\"label\", \"Pred\"]]\n",
    "\n",
    "def calculate_metrics(label_data):\n",
    "    \"\"\" 各評価指標を計算 \"\"\"\n",
    "    brier_score = round(mean_squared_error(label_data[\"label\"], label_data[\"Pred\"]), 5)  # Brier Score (MSEと同じ)\n",
    "    rmse_score = round(mean_squared_error(label_data[\"label\"], label_data[\"Pred\"], squared=False), 5)  # RMSE\n",
    "    logloss_score = round(log_loss(label_data[\"label\"], label_data[\"Pred\"]), 5)  # Log Loss\n",
    "    mae_score = round(mean_absolute_error(label_data[\"label\"], label_data[\"Pred\"]), 5)  # MAE\n",
    "    \n",
    "    return {\n",
    "        \"Brier Score\": brier_score,\n",
    "        \"RMSE\": rmse_score,\n",
    "        \"Log Loss\": logloss_score,\n",
    "        \"MAE\": mae_score\n",
    "    }\n",
    "\n",
    "def plot_calibration_curve(label_data, n_bins=10):\n",
    "    \"\"\" キャリブレーションカーブをプロット \"\"\"\n",
    "    prob_true, prob_pred = calibration_curve(label_data[\"label\"], label_data[\"Pred\"], n_bins=n_bins)\n",
    "    \n",
    "    plt.figure(figsize=(6,6))\n",
    "    plt.plot(prob_pred, prob_true, marker=\"o\", label=\"Model Calibration\")\n",
    "    plt.plot([0, 1], [0, 1], linestyle=\"--\", label=\"Perfect Calibration\")\n",
    "    plt.xlabel(\"Predicted Probability\")\n",
    "    plt.ylabel(\"Actual Probability\")\n",
    "    plt.legend()\n",
    "    plt.title(\"Calibration Curve\")\n",
    "    plt.show()\n",
    "\n",
    "def calculate_auc_metrics(label_data):\n",
    "    global results\n",
    "    \"\"\" AUC-ROCとAUC-PRを計算 \"\"\"\n",
    "    auc_roc = roc_auc_score(label_data[\"label\"], label_data[\"Pred\"])\n",
    "    auc_pr = average_precision_score(label_data[\"label\"], label_data[\"Pred\"])\n",
    "    \n",
    "    print(f\"AUC-ROC: {auc_roc:.4f}\")\n",
    "    print(f\"AUC-PR: {auc_pr:.4f}\")\n",
    "    results += [\"---- AUC -----\", f\"AUC-ROC: {auc_roc:.4f}\", f\"AUC-PR: {auc_pr:.4f}\"]\n",
    "    "
   ]
  },
  {
   "cell_type": "code",
   "execution_count": 39,
   "id": "cb839a3c",
   "metadata": {
    "execution": {
     "iopub.execute_input": "2025-03-13T04:52:51.373783Z",
     "iopub.status.busy": "2025-03-13T04:52:51.372783Z",
     "iopub.status.idle": "2025-03-13T04:52:51.484726Z",
     "shell.execute_reply": "2025-03-13T04:52:51.484726Z"
    },
    "papermill": {
     "duration": 0.138975,
     "end_time": "2025-03-13T04:52:51.486757",
     "exception": false,
     "start_time": "2025-03-13T04:52:51.347782",
     "status": "completed"
    },
    "tags": []
   },
   "outputs": [
    {
     "name": "stderr",
     "output_type": "stream",
     "text": [
      "C:\\Users\\81809\\anaconda3\\envs\\deep_learning_pytorch\\Lib\\site-packages\\sklearn\\metrics\\_regression.py:492: FutureWarning: 'squared' is deprecated in version 1.4 and will be removed in 1.6. To calculate the root mean squared error, use the function'root_mean_squared_error'.\n",
      "  warnings.warn(\n"
     ]
    },
    {
     "data": {
      "image/png": "[encoded data removed]",
      "text/plain": [
       "<Figure size 600x600 with 1 Axes>"
      ]
     },
     "metadata": {},
     "output_type": "display_data"
    },
    {
     "name": "stdout",
     "output_type": "stream",
     "text": [
      "AUC-ROC: 0.8502\n",
      "AUC-PR: 0.8618\n",
      "MAE: 0.31939\n",
      "\n",
      "---- AUC -----\n",
      "AUC-ROC: 0.8502\n",
      "AUC-PR: 0.8618\n"
     ]
    }
   ],
   "source": [
    "if PREDICT_YEAR == 2022:\n",
    "    notexist_MAN = notexist[notexist[\"WTeamID\"].astype(str).str.startswith(\"1\")]\n",
    "    notexist_WOMAN = notexist[notexist[\"WTeamID\"].astype(str).str.startswith(\"3\")]\n",
    "    label_data = extract_labels_and_preds(sub, notexist) ######\n",
    "else:\n",
    "    label_data = extract_labels_and_preds(sub, notexist)\n",
    "\n",
    "# 評価指標の計算\n",
    "score = calculate_metrics(label_data)\n",
    "results += [\"\",\"-----eval metrics-----\",\n",
    "            f\"Brier Score: {score['Brier Score']}\", \n",
    "            f\"RMSE: {score['RMSE']}\", \n",
    "            f\"Log Loss: {score['Log Loss']}\", \n",
    "            f\"MAE: {score['MAE']}\", \"\"]\n",
    "\n",
    "# キャリブレーションの確認\n",
    "plot_calibration_curve(label_data)\n",
    "\n",
    "# AUCの評価\n",
    "calculate_auc_metrics(label_data)\n",
    "\n",
    "for temp in range(-5, 0):\n",
    "    print(results[temp])"
   ]
  },
  {
   "cell_type": "code",
   "execution_count": 40,
   "id": "a83bde07",
   "metadata": {
    "execution": {
     "iopub.execute_input": "2025-03-13T04:52:51.529584Z",
     "iopub.status.busy": "2025-03-13T04:52:51.528826Z",
     "iopub.status.idle": "2025-03-13T04:52:51.533628Z",
     "shell.execute_reply": "2025-03-13T04:52:51.533628Z"
    },
    "papermill": {
     "duration": 0.02697,
     "end_time": "2025-03-13T04:52:51.534727",
     "exception": false,
     "start_time": "2025-03-13T04:52:51.507757",
     "status": "completed"
    },
    "tags": []
   },
   "outputs": [
    {
     "data": {
      "text/plain": [
       "'if PREDICT_YEAR!=2025:\\n    predict_year_label =notexist[[\"WTeamID\", \"LTeamID\", \"WScore\", \"LScore\"]].copy()\\n    predict_year_label.loc[:, \"Win\"] = np.where(predict_year_label[\"WScore\"] - predict_year_label[\"LScore\"] > 0, 1, 0)\\n    predict_year_label = predict_year_label[[\"WTeamID\", \"LTeamID\", \"Win\"]]\\n   \\n    predict_year_label.columns = [\"T1_TeamID\", \"T2_TeamID\", \"Win\"]\\n\\n    predict_year_label = pd.merge(predict_year_label, sub, on=[\"T1_TeamID\", \"T2_TeamID\"], how=\"left\")\\n    brier_score = np.mean((predict_year_label[\"Pred\"] - predict_year_label[\"Win\"])**2)\\n\\n    print(\"Brier Score:\", brier_score)\\n    results+=[f\"Brier Score: {brier_score}\", \"\"]\\n    predict_year_label.info()\\n'"
      ]
     },
     "execution_count": 40,
     "metadata": {},
     "output_type": "execute_result"
    }
   ],
   "source": [
    "\"\"\"if PREDICT_YEAR!=2025:\n",
    "    predict_year_label =notexist[[\"WTeamID\", \"LTeamID\", \"WScore\", \"LScore\"]].copy()\n",
    "    predict_year_label.loc[:, \"Win\"] = np.where(predict_year_label[\"WScore\"] - predict_year_label[\"LScore\"] > 0, 1, 0)\n",
    "    predict_year_label = predict_year_label[[\"WTeamID\", \"LTeamID\", \"Win\"]]\n",
    "   \n",
    "    predict_year_label.columns = [\"T1_TeamID\", \"T2_TeamID\", \"Win\"]\n",
    "\n",
    "    predict_year_label = pd.merge(predict_year_label, sub, on=[\"T1_TeamID\", \"T2_TeamID\"], how=\"left\")\n",
    "    brier_score = np.mean((predict_year_label[\"Pred\"] - predict_year_label[\"Win\"])**2)\n",
    "\n",
    "    print(\"Brier Score:\", brier_score)\n",
    "    results+=[f\"Brier Score: {brier_score}\", \"\"]\n",
    "    predict_year_label.info()\n",
    "\"\"\""
   ]
  },
  {
   "cell_type": "code",
   "execution_count": 41,
   "id": "523962a4",
   "metadata": {
    "execution": {
     "iopub.execute_input": "2025-03-13T04:52:51.578944Z",
     "iopub.status.busy": "2025-03-13T04:52:51.577946Z",
     "iopub.status.idle": "2025-03-13T04:52:51.590154Z",
     "shell.execute_reply": "2025-03-13T04:52:51.590154Z"
    },
    "papermill": {
     "duration": 0.037763,
     "end_time": "2025-03-13T04:52:51.592257",
     "exception": false,
     "start_time": "2025-03-13T04:52:51.554494",
     "status": "completed"
    },
    "tags": []
   },
   "outputs": [
    {
     "name": "stdout",
     "output_type": "stream",
     "text": [
      "実行時間： 731.5秒\n"
     ]
    }
   ],
   "source": [
    "END_TIME = time.time()\n",
    "ELAPSED_TIME = END_TIME - START_TIME\n",
    "print(f\"実行時間： {ELAPSED_TIME:.1f}秒\")\n",
    "results.append(f\"実行時間： {ELAPSED_TIME:.1f}秒\")\n",
    "\n",
    "with open(os.path.join(OUTPUT_PATH, \"result.txt\"), \"a\", encoding=\"utf-8\") as f:\n",
    "    for line in results:\n",
    "        f.write(line + \"\\n\")"
   ]
  },
  {
   "cell_type": "code",
   "execution_count": 42,
   "id": "9f2c7229",
   "metadata": {
    "execution": {
     "iopub.execute_input": "2025-03-13T04:52:51.636030Z",
     "iopub.status.busy": "2025-03-13T04:52:51.636030Z",
     "iopub.status.idle": "2025-03-13T04:52:51.639272Z",
     "shell.execute_reply": "2025-03-13T04:52:51.639272Z"
    },
    "papermill": {
     "duration": 0.025266,
     "end_time": "2025-03-13T04:52:51.640291",
     "exception": false,
     "start_time": "2025-03-13T04:52:51.615025",
     "status": "completed"
    },
    "tags": []
   },
   "outputs": [],
   "source": [
    "logger.remove()"
   ]
  }
 ],
 "metadata": {
  "kernelspec": {
   "display_name": "deep_learning_pytorch",
   "language": "python",
   "name": "python3"
  },
  "language_info": {
   "codemirror_mode": {
    "name": "ipython",
    "version": 3
   },
   "file_extension": ".py",
   "mimetype": "text/x-python",
   "name": "python",
   "nbconvert_exporter": "python",
   "pygments_lexer": "ipython3",
   "version": "3.11.9"
  },
  "papermill": {
   "default_parameters": {},
   "duration": 735.828218,
   "end_time": "2025-03-13T04:52:52.341971",
   "environment_variables": {},
   "exception": null,
   "input_path": "c:\\Users\\81809\\Documents\\ALL_CODE\\kaggle\\March Machine Learning Mania 2025\\notebook\\1stplace_solution_2023.ipynb",
   "output_path": "exp041_20250313_134036.ipynb",
   "parameters": {
    "EXP_NUM": "exp041"
   },
   "start_time": "2025-03-13T04:40:36.513753",
   "version": "2.6.0"
  }
 },
 "nbformat": 4,
 "nbformat_minor": 5
}