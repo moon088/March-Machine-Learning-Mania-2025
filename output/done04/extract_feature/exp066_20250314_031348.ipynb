{
 "cells": [
  {
   "cell_type": "code",
   "execution_count": 1,
   "id": "2809bcc2",
   "metadata": {
    "execution": {
     "iopub.execute_input": "2025-03-13T18:13:49.692103Z",
     "iopub.status.busy": "2025-03-13T18:13:49.692103Z",
     "iopub.status.idle": "2025-03-13T18:13:49.720863Z",
     "shell.execute_reply": "2025-03-13T18:13:49.719824Z"
    },
    "papermill": {
     "duration": 0.02876,
     "end_time": "2025-03-13T18:13:49.720863",
     "exception": false,
     "start_time": "2025-03-13T18:13:49.692103",
     "status": "completed"
    },
    "tags": [
     "parameters"
    ]
   },
   "outputs": [],
   "source": [
    "# Parameters\n",
    "EXP_NUM = \"default\""
   ]
  },
  {
   "cell_type": "code",
   "execution_count": 2,
   "id": "e326c98e",
   "metadata": {
    "execution": {
     "iopub.execute_input": "2025-03-13T18:13:49.735654Z",
     "iopub.status.busy": "2025-03-13T18:13:49.735654Z",
     "iopub.status.idle": "2025-03-13T18:13:49.744165Z",
     "shell.execute_reply": "2025-03-13T18:13:49.744165Z"
    },
    "papermill": {
     "duration": 0.015509,
     "end_time": "2025-03-13T18:13:49.744165",
     "exception": false,
     "start_time": "2025-03-13T18:13:49.728656",
     "status": "completed"
    },
    "tags": [
     "injected-parameters"
    ]
   },
   "outputs": [],
   "source": [
    "# Parameters\n",
    "EXP_NUM = \"exp066\"\n"
   ]
  },
  {
   "cell_type": "markdown",
   "id": "ea299696",
   "metadata": {
    "papermill": {
     "duration": 0.00723,
     "end_time": "2025-03-13T18:13:49.759733",
     "exception": false,
     "start_time": "2025-03-13T18:13:49.752503",
     "status": "completed"
    },
    "tags": []
   },
   "source": [
    "# 2023 1st place solution\n",
    "[kaggle notebook](https://www.kaggle.com/code/rustyb/paris-madness-2023#Load-the-data!)"
   ]
  },
  {
   "cell_type": "markdown",
   "id": "c84cd598",
   "metadata": {
    "papermill": {
     "duration": 0.006029,
     "end_time": "2025-03-13T18:13:49.772797",
     "exception": false,
     "start_time": "2025-03-13T18:13:49.766768",
     "status": "completed"
    },
    "tags": []
   },
   "source": [
    "# コードの流れ\n",
    "1. hydraからハイパラ取得し、パスなどを設定\n",
    "\n",
    "    regular&tourney Detaile Result, Seedを使用し、tourneyを目的変数としてモデルを予測していく\n",
    "\n",
    "    regular_data->season_statistics->\n",
    "\n",
    "    以下の前処理をする\n",
    "\n",
    "2. データ２倍にかさまし\n",
    "3. regularに対して特徴量の追加\n",
    "    各チームごとに加えるもの\n",
    "   - EFFG: フィールドゴール成功率\n",
    "   - EFFG3: フィールドゴール3p成功率\n",
    "   - DARE: フィールドゴールにおける3P率\n",
    "   - \"win\"を目的変数とする(Team, Season)のロジスティック回帰した各係数\n",
    "    対戦カードごとに加える特徴量\n",
    "    - PointDiff: ポイント差\n",
    "    - win: 1 if PointDiff>0 else 0\n",
    "4. (Team, Season)ごとに特徴量season_statixtics追加\n",
    "    - win_ratio_14d\n",
    "    - box score mean\n",
    "    - quality\n",
    "    - seed\n",
    "5. season_average.enabled=trueなら直近３シーズンの加重平均の処理加える\n",
    "6. tourneyをteamID, Season, score(y)のみ取り出してこれに対してseason_statisticsの結合と特徴量微調整\n",
    "   - seed->seeddiff\n",
    "   - fillna()\n",
    "\n",
    "7. モデル構築\n",
    "8. KFOLD->OOF予測->spline曲線求めてlogloss算出\n",
    "    - KFOLDによる交差検証（CV）\n",
    "        repeat_cv 回のループで、各反復ごとにKFold（folds_splits個）によりデータを分割し、XGBoostのCVを実行しています。\n",
    "        各foldでの結果（例えば、訓練MAE、検証MAEの平均値や標準偏差）がcv_resultとして得られ、それをxgb_cvリストに格納します。\n",
    "        この段階で重要なのは、各反復での検証用MAEの平均値 (test-mae-mean) の最小値と、そのときのブーストラウンド数です。\n",
    "        それらは後で、最適なイテレーション数 (iteration_counts) として計算され、val_mae にも格納されます。\n",
    "    - OOF予測の流れ\n",
    "\n",
    "        各反復ごとに、新たなKFoldを用いてデータを分割。\n",
    "        各foldごとに、学習データでモデルを訓練し、検証データに対して予測を実施。\n",
    "        すべてのfold分の予測結果を1つの予測配列にまとめ、最後に -30～30 の範囲にクリップしています。\n",
    "        重要な結果\n",
    "\n",
    "        OOF予測結果（oof_preds）自体は後段で別途評価指標に使用できるほか、各反復ごとの予測精度や誤差を算出する際の基礎データ\n",
    "9.  提出フェーズ\n",
    "    - 最適paramで全データ使って訓練\n",
    "    - 提出試合の予測"
   ]
  },
  {
   "cell_type": "markdown",
   "id": "b26a6b7c",
   "metadata": {
    "papermill": {
     "duration": 0.010994,
     "end_time": "2025-03-13T18:13:49.796125",
     "exception": false,
     "start_time": "2025-03-13T18:13:49.785131",
     "status": "completed"
    },
    "tags": []
   },
   "source": [
    "memo\n",
    "\n",
    "欠損値が発生していいのか検討して保管について考える\n",
    "seedがかけているのはregularに対してseedを与えているから大丈夫。最終的なtourneyには欠損０で追加できているから問題ない"
   ]
  },
  {
   "cell_type": "code",
   "execution_count": 3,
   "id": "ea0f161d",
   "metadata": {
    "execution": {
     "iopub.execute_input": "2025-03-13T18:13:49.815801Z",
     "iopub.status.busy": "2025-03-13T18:13:49.815801Z",
     "iopub.status.idle": "2025-03-13T18:13:52.214423Z",
     "shell.execute_reply": "2025-03-13T18:13:52.214423Z"
    },
    "papermill": {
     "duration": 2.406415,
     "end_time": "2025-03-13T18:13:52.214423",
     "exception": false,
     "start_time": "2025-03-13T18:13:49.808008",
     "status": "completed"
    },
    "tags": []
   },
   "outputs": [
    {
     "name": "stderr",
     "output_type": "stream",
     "text": [
      "C:\\Users\\81809\\anaconda3\\envs\\deep_learning_pytorch\\Lib\\site-packages\\tqdm\\auto.py:21: TqdmWarning: IProgress not found. Please update jupyter and ipywidgets. See https://ipywidgets.readthedocs.io/en/stable/user_install.html\n",
      "  from .autonotebook import tqdm as notebook_tqdm\n"
     ]
    },
    {
     "name": "stdout",
     "output_type": "stream",
     "text": [
      "exp066\n",
      "Omega conf is below\n",
      "dir:\n",
      "  input_dir: ../input\n",
      "  output_dir: ../output\n",
      "  src_path: ../src\n",
      "  conf_path: ../conf\n",
      "exp:\n",
      "  name: extract_feature\n",
      "  print_name: extraxt feature\n",
      "  tournament:\n",
      "    use_start_season: 1985\n",
      "    target_season: 2019\n",
      "  features:\n",
      "    cal_mean_boxscore:\n",
      "      T1_Score: true\n",
      "      T2_Score: true\n",
      "      PointDiff: true\n",
      "      T1_FGM: true\n",
      "      T2_FGM: true\n",
      "      T1_FGA: true\n",
      "      T2_FGA: true\n",
      "      T1_FGM3: false\n",
      "      T2_FGM3: false\n",
      "      T1_FGA3: false\n",
      "      T2_FGA3: false\n",
      "      T1_FTM: false\n",
      "      T2_FTM: false\n",
      "      T1_FTA: false\n",
      "      T2_FTA: false\n",
      "      T1_EFFG: false\n",
      "      T2_EFFG: false\n",
      "      T1_EFFG3: false\n",
      "      T2_EFFG3: false\n",
      "      T1_EFG_SUM: true\n",
      "      T2_EFG_SUM: true\n",
      "      T1_TO_RATIO: true\n",
      "      T2_TO_RATIO: true\n",
      "      T1_OR: true\n",
      "      T2_OR: true\n",
      "      T1_DR: true\n",
      "      T2_DR: true\n",
      "      T1_REB_RATE: true\n",
      "      T2_REB_RATE: true\n",
      "      T1_FT_RATE: true\n",
      "      T2_FT_RATE: true\n",
      "      T1_RATING: false\n",
      "      T2_RATING: false\n",
      "      T1_POSS_RATE: false\n",
      "      T2_POSS_RATE: false\n",
      "      T1_Ast: true\n",
      "      T2_Ast: true\n",
      "      T1_TO: true\n",
      "      T2_TO: true\n",
      "      T1_Stl: true\n",
      "      T2_Stl: true\n",
      "      T1_Blk: true\n",
      "      T2_Blk: true\n",
      "      T1_PF: true\n",
      "      T2_PF: true\n",
      "      T1_DARE: false\n",
      "      T2_DARE: false\n",
      "      T1_TOQUETOQUE: false\n",
      "      T2_TOQUETOQUE: false\n",
      "    rank_diff: true\n",
      "    start_quality_season: 2003\n",
      "    dropfeatures:\n",
      "    - T1_opponent_Blkmean\n",
      "    - T2_opponent_Blkmean\n",
      "    - T1_TOmean\n",
      "    - T2_TOmean\n",
      "    - T1_opponent_POSS_RATEmean\n",
      "    - T2_opponent_POSS_RATEmean\n",
      "    - T1_opponent_Astmean\n",
      "    - T2_opponent_Astmean\n",
      "    - T1_opponent_FT_RATEmean\n",
      "    - T2_opponent_FT_RATEmean\n",
      "    season_average:\n",
      "      enabled: false\n",
      "      past_years: 3\n",
      "      weights:\n",
      "      - 1\n",
      "      - 2\n",
      "      - 3\n",
      "    fillna:\n",
      "      quality: 'nan'\n",
      "  model:\n",
      "    repeat_cv: 10\n",
      "    optuna_enabled: false\n",
      "    test_reverse: false\n",
      "    xgb_model:\n",
      "      param:\n",
      "        eval_metric: rmse\n",
      "        booster: gbtree\n",
      "        eta: 0.02\n",
      "        subsample: 0.35\n",
      "        colsample_bytree: 0.7\n",
      "        num_parallel_tree: 10\n",
      "        min_child_weight: 40\n",
      "        gamma: 10\n",
      "        max_depth: 3\n",
      "      obj: cauchyoj\n",
      "      num_boost_round: 3000\n",
      "      folds_splits: 5\n",
      "      early_stopping_rounds: 25\n",
      "      optuna:\n",
      "        max_depth:\n",
      "        - 3\n",
      "        - 7\n",
      "        eta:\n",
      "        - 0.001\n",
      "        - 0.03\n",
      "        subsample:\n",
      "        - 0.2\n",
      "        - 0.5\n",
      "        colsample_bytree:\n",
      "        - 0.5\n",
      "        - 1.0\n",
      "        num_parallel_tree:\n",
      "        - 7\n",
      "        - 12\n",
      "        min_child_weight:\n",
      "        - 30\n",
      "        - 50\n",
      "        reg_alpha:\n",
      "        - 0.0\n",
      "        - 1.0\n",
      "        reg_lambda:\n",
      "        - 0.0\n",
      "        - 1.0\n",
      "        gamma:\n",
      "        - 0\n",
      "        - 10\n",
      "        n_trials: 1000\n",
      "        timeout: 28800\n",
      "        n_jobs: -1\n",
      "        n_warmup_steps: 3\n",
      "    spline: logistic\n",
      "  hand_labeling: null\n",
      "\n"
     ]
    }
   ],
   "source": [
    "\n",
    "import os\n",
    "import sys\n",
    "from pathlib import Path\n",
    "import collections\n",
    "from datetime import datetime\n",
    "import shutil\n",
    "import yaml\n",
    "from tqdm import tqdm\n",
    "import time\n",
    "import optuna\n",
    "from loguru import logger\n",
    "import collections\n",
    "\n",
    "from hydra import initialize, initialize_config_module, initialize_config_dir, compose\n",
    "from omegaconf import OmegaConf\n",
    "\n",
    "import numpy as np\n",
    "import pandas as pd\n",
    "import matplotlib.pyplot as plt\n",
    "import seaborn as sns\n",
    "from scipy.interpolate import UnivariateSpline\n",
    "\n",
    "import xgboost as xgb\n",
    "from xgboost import XGBRegressor\n",
    "from sklearn.model_selection import KFold\n",
    "from sklearn.calibration import calibration_curve\n",
    "from sklearn.metrics import log_loss,mean_squared_error, mean_absolute_error, roc_auc_score, average_precision_score\n",
    "from sklearn.metrics import make_scorer\n",
    "from sklearn.model_selection import cross_val_score, KFold\n",
    "from sklearn.linear_model import LogisticRegression\n",
    "from sklearn.preprocessing import OneHotEncoder\n",
    "from sklearn.isotonic import IsotonicRegression\n",
    "\n",
    "import statsmodels.api as sm\n",
    "\n",
    "START_TIME = time.time()\n",
    "\n",
    "\n",
    "#####\n",
    "#EXP_NUM = \"test\"\n",
    "#####\n",
    "print(EXP_NUM)\n",
    "\n",
    "# hydraの初期設定と指定ハイパラの取得\n",
    "sys.path.append(os.path.abspath(\"/workspace\"))\n",
    "sys.path.append(\"C:\\\\Users\\\\81809\\\\Documents\\\\ALL_CODE\\\\kaggle\\\\March Machine Learning Mania 2025\")\n",
    "with initialize_config_module(version_base=None, config_module=\"conf\"):\n",
    "    cfg = compose(\n",
    "        config_name=\"base.yaml\",\n",
    "        overrides=[\n",
    "            f\"+exp={EXP_NUM}\" #defaultexp001->exp002のオーバーライド\n",
    "        ],\n",
    "    )\n",
    "    \n",
    "    OmegaConf.resolve(cfg)\n",
    "    print(\"Omega conf is below\")\n",
    "    print(OmegaConf.to_yaml(cfg))\n"
   ]
  },
  {
   "cell_type": "code",
   "execution_count": 4,
   "id": "d527e411",
   "metadata": {
    "execution": {
     "iopub.execute_input": "2025-03-13T18:13:52.219430Z",
     "iopub.status.busy": "2025-03-13T18:13:52.219430Z",
     "iopub.status.idle": "2025-03-13T18:13:52.245066Z",
     "shell.execute_reply": "2025-03-13T18:13:52.245066Z"
    },
    "papermill": {
     "duration": 0.025636,
     "end_time": "2025-03-13T18:13:52.245066",
     "exception": false,
     "start_time": "2025-03-13T18:13:52.219430",
     "status": "completed"
    },
    "tags": []
   },
   "outputs": [
    {
     "name": "stdout",
     "output_type": "stream",
     "text": [
      "########\n",
      "output dir name: extract_feature\n",
      "Run on 2025-03-14 03:13:52.219430\n",
      "extraxt feature\n",
      "########\n"
     ]
    }
   ],
   "source": [
    "PREDICT_YEAR = cfg.exp.tournament.target_season\n",
    "name = f\"{cfg.exp.name}\"\n",
    "now = str(datetime.now())\n",
    "print(\"########\")\n",
    "print(f\"output dir name: {name}\")\n",
    "print(f\"Run on {now}\")\n",
    "print(cfg.exp.print_name)\n",
    "print(\"########\")\n",
    "\n",
    "BASE_DIR = os.path.abspath(os.path.join(os.getcwd(), \"..\"))\n",
    "CONF_PATH = os.path.join(BASE_DIR, \"conf\")\n",
    "INPUT_PATH = os.path.join(BASE_DIR, \"input\")\n",
    "EXP_PATH = os.path.join(CONF_PATH, \"exp\", f\"{EXP_NUM}.yaml\")\n",
    "OUTPUT_PATH = os.path.join(BASE_DIR, \"output\", name)\n",
    "SRC_PATH = cfg.dir.src_path\n",
    "sys.path.append(SRC_PATH)\n",
    "\n",
    "os.makedirs(OUTPUT_PATH, exist_ok=True)  \n",
    "with open(EXP_PATH, \"r\", encoding=\"utf-8\") as f:\n",
    "    config = yaml.safe_load(f)\n",
    "shutil.copyfile(EXP_PATH, os.path.join(OUTPUT_PATH, f\"{EXP_NUM}.yaml\"))\n",
    "\n",
    "\n",
    "y_season = cfg.exp.tournament.target_season\n",
    "FEATURES = cfg.exp.features\n",
    "MODEL = cfg.exp.model\n",
    "results = [\"\", f\"-----{PREDICT_YEAR}-----\", now ,name, cfg.exp.print_name,\"\"]"
   ]
  },
  {
   "cell_type": "code",
   "execution_count": 5,
   "id": "1a2c9a74",
   "metadata": {
    "execution": {
     "iopub.execute_input": "2025-03-13T18:13:52.259784Z",
     "iopub.status.busy": "2025-03-13T18:13:52.259784Z",
     "iopub.status.idle": "2025-03-13T18:13:53.810446Z",
     "shell.execute_reply": "2025-03-13T18:13:53.810446Z"
    },
    "papermill": {
     "duration": 1.567392,
     "end_time": "2025-03-13T18:13:53.812458",
     "exception": false,
     "start_time": "2025-03-13T18:13:52.245066",
     "status": "completed"
    },
    "tags": []
   },
   "outputs": [],
   "source": [
    "tourney_results = pd.concat([\n",
    "    pd.read_csv(os.path.join(INPUT_PATH,\"MNCAATourneyDetailedResults.csv\")),\n",
    "    pd.read_csv(os.path.join(INPUT_PATH,\"WNCAATourneyDetailedResults.csv\")),\n",
    "], ignore_index=True)\n",
    "\n",
    "seeds = pd.concat([\n",
    "    pd.read_csv(os.path.join(INPUT_PATH,\"MNCAATourneySeeds.csv\")),\n",
    "    pd.read_csv(os.path.join(INPUT_PATH,\"WNCAATourneySeeds.csv\")),\n",
    "], ignore_index=True)\n",
    "\n",
    "regular_results = pd.concat([\n",
    "    pd.read_csv(os.path.join(INPUT_PATH, \"MRegularSeasonDetailedResults.csv\")),\n",
    "    pd.read_csv(os.path.join(INPUT_PATH,\"WRegularSeasonDetailedResults.csv\")),\n",
    "], ignore_index=True)\n",
    "\n",
    "ordinal_rank = pd.read_csv(os.path.join(INPUT_PATH, \"MMasseyOrdinals.csv\"))\n",
    "\n",
    "# 1試合情報からWin,Lose反転させてデータ数２倍にかさまし and WLoc -> location(0 or -1 or 1)\n",
    "def prepare_data(df1):\n",
    "    df = df1.copy()\n",
    "    ### add new box score\n",
    "    #type1: normal EFG\n",
    "    df['WEFFG'] = df['WFGM'] / df['WFGA']\n",
    "    df['LEFFG'] = df['LFGM'] / df['LFGA']\n",
    "    #type2: 1stfeature EFG\n",
    "    df['WEFFG3'] = np.where(df['WFGA3'] == 0, 0, df['WFGM3'] / df['WFGA3'])\n",
    "    df['LEFFG3'] = np.where(df['LFGA3'] == 0, 0, df['LFGM3'] / df['LFGA3'])\n",
    "    df['WDARE'] = df['WFGM3'] / df['WFGM']\n",
    "    df['LDARE'] = df['LFGM3'] / df['LFGM']\n",
    "    df['WTOQUETOQUE'] = df['WAst'] / df['WFGM']\n",
    "    df['LTOQUETOQUE'] = df['LAst'] / df['LFGM']\n",
    "    #type3: OFF/DEF FGE\n",
    "    df[\"WEFG_SUM\"] = (df[\"WFGM\"]+0.5*df[\"WFGM3\"])/df[\"WFGA\"]\n",
    "    df[\"LEFG_SUM\"] = (df[\"LFGM\"]+0.5*df[\"LFGM3\"])/df[\"LFGA\"]\n",
    "\n",
    "    #POSS RATE\n",
    "    df[\"WPOSS\"] = df[\"WFGA\"] + 0.44*df[\"WFTA\"] - df[\"WOR\"] + df[\"WTO\"]\n",
    "    df[\"LPOSS\"] = df[\"LFGA\"] + 0.44*df[\"LFTA\"] - df[\"LOR\"] + df[\"LTO\"]\n",
    "    df[\"WPOSS_RATE\"] = df[\"WPOSS\"]/(df[\"WPOSS\"]+df[\"LPOSS\"])\n",
    "    df[\"LPOSS_RATE\"] = df[\"LPOSS\"]/(df[\"WPOSS\"]+df[\"LPOSS\"])\n",
    "    \n",
    "    #TO Ratio \n",
    "    df[\"WTO_RATIO\"] = df[\"WTO\"]/(df[\"WFGA\"]+0.44*df[\"WFTA\"]+df[\"WTO\"])#POSS RATEと違ってOR入っていない\n",
    "    df[\"LTO_RATIO\"] = df[\"LTO\"]/(df[\"LFGA\"]+0.44*df[\"LFTA\"]+df[\"LTO\"])\n",
    "    \n",
    "    # REB%\n",
    "    df[\"WREB_RATE\"] = df[\"WOR\"]/(df[\"WOR\"]+df[\"LDR\"])\n",
    "    df[\"LREB_RATE\"] = df[\"LOR\"]/(df[\"LOR\"]+df[\"WDR\"])\n",
    "    \n",
    "    #FT %\n",
    "    df[\"WFT_RATE\"] = df[\"WFTA\"]/df[\"WFGA\"]\n",
    "    df[\"LFT_RATE\"] = df[\"LFTA\"]/df[\"LFGA\"]\n",
    "    \n",
    "    #rating\n",
    "    df[\"WRATING\"] = df[\"WScore\"]/df[\"WPOSS\"]\n",
    "    df[\"LRATING\"] = df[\"LScore\"]/df[\"LPOSS\"]\n",
    "        \n",
    "    #0除算補完\n",
    "    print(df.info())\n",
    "        \n",
    "    #かさましに伴う反転カラム\n",
    "    dfswap = df.copy()\n",
    "    # Home, Away変換して反転\n",
    "    dfswap.loc[df['WLoc'] == 'H', 'WLoc'] = 'A'\n",
    "    dfswap.loc[df['WLoc'] == 'A', 'WLoc'] = 'H'\n",
    "    df.columns.values[6] = 'location'\n",
    "    dfswap.columns.values[6] = 'location'    \n",
    "    #反転\n",
    "    df.columns = [x.replace('W','T1_').replace('L','T2_') for x in list(df.columns)]\n",
    "    dfswap.columns = [x.replace('L','T1_').replace('W','T2_') for x in list(dfswap.columns)]\n",
    "    output = pd.concat([df, dfswap]).reset_index(drop=True)\n",
    "    \n",
    "    \n",
    "    #add new feature\n",
    "    #locationを数値に変換\n",
    "    output.loc[output.location=='N','location'] = '0'\n",
    "    output.loc[output.location=='H','location'] = '1'\n",
    "    output.loc[output.location=='A','location'] = '-1'\n",
    "    output.location = output.location.astype(int)\n",
    "    \n",
    "    #add PointDiff&win\n",
    "    output['PointDiff'] = output['T1_Score'] - output['T2_Score']\n",
    "    output[\"win\"] = np.where(output['PointDiff']>0,1,0)\n",
    "    \n",
    "    \n",
    "    print(f\"feature cols after prepare()\")\n",
    "    print(output.columns)\n",
    "    return output\n",
    "\n"
   ]
  },
  {
   "cell_type": "code",
   "execution_count": 6,
   "id": "16ee722c",
   "metadata": {
    "execution": {
     "iopub.execute_input": "2025-03-13T18:13:53.828567Z",
     "iopub.status.busy": "2025-03-13T18:13:53.828567Z",
     "iopub.status.idle": "2025-03-13T18:13:53.888380Z",
     "shell.execute_reply": "2025-03-13T18:13:53.888380Z"
    },
    "papermill": {
     "duration": 0.067857,
     "end_time": "2025-03-13T18:13:53.888380",
     "exception": false,
     "start_time": "2025-03-13T18:13:53.820523",
     "status": "completed"
    },
    "tags": []
   },
   "outputs": [
    {
     "name": "stdout",
     "output_type": "stream",
     "text": [
      "各カラムの異常値の個数を表示します。\n",
      "\n"
     ]
    }
   ],
   "source": [
    "import numpy as np\n",
    "\n",
    "# 異常値のチェック\n",
    "def check_abnormal_values(df):\n",
    "    print(\"各カラムの異常値の個数を表示します。\\n\")\n",
    "\n",
    "    for col in df.columns:\n",
    "        nan_count = df[col].isna().sum()  # NaN の数\n",
    "        inf_count = (df[col] == np.inf).sum()  # inf の数\n",
    "        neg_inf_count = (df[col] == -np.inf).sum()  # -inf の数\n",
    "\n",
    "        if nan_count > 0 or inf_count > 0 or neg_inf_count > 0:\n",
    "            print(f\"Column: {col}\")\n",
    "            print(f\"  NaN    : {nan_count}\")\n",
    "            print(f\"  Inf    : {inf_count}\")\n",
    "            print(f\"  -Inf   : {neg_inf_count}\")\n",
    "            print(\"-\" * 30)\n",
    "\n",
    "# 関数を実行\n",
    "check_abnormal_values(regular_results)\n"
   ]
  },
  {
   "cell_type": "code",
   "execution_count": 7,
   "id": "178dec81",
   "metadata": {
    "execution": {
     "iopub.execute_input": "2025-03-13T18:13:53.905564Z",
     "iopub.status.busy": "2025-03-13T18:13:53.903552Z",
     "iopub.status.idle": "2025-03-13T18:13:54.293052Z",
     "shell.execute_reply": "2025-03-13T18:13:54.293052Z"
    },
    "papermill": {
     "duration": 0.395541,
     "end_time": "2025-03-13T18:13:54.293052",
     "exception": false,
     "start_time": "2025-03-13T18:13:53.897511",
     "status": "completed"
    },
    "tags": []
   },
   "outputs": [
    {
     "name": "stdout",
     "output_type": "stream",
     "text": [
      "<class 'pandas.core.frame.DataFrame'>\n",
      "Index: 139193 entries, 0 to 170137\n",
      "Data columns (total 56 columns):\n",
      " #   Column       Non-Null Count   Dtype  \n",
      "---  ------       --------------   -----  \n",
      " 0   Season       139193 non-null  int64  \n",
      " 1   DayNum       139193 non-null  int64  \n",
      " 2   WTeamID      139193 non-null  int64  \n",
      " 3   WScore       139193 non-null  int64  \n",
      " 4   LTeamID      139193 non-null  int64  \n",
      " 5   LScore       139193 non-null  int64  \n",
      " 6   WLoc         139193 non-null  object \n",
      " 7   NumOT        139193 non-null  int64  \n",
      " 8   WFGM         139193 non-null  int64  \n",
      " 9   WFGA         139193 non-null  int64  \n",
      " 10  WFGM3        139193 non-null  int64  \n",
      " 11  WFGA3        139193 non-null  int64  \n",
      " 12  WFTM         139193 non-null  int64  \n",
      " 13  WFTA         139193 non-null  int64  \n",
      " 14  WOR          139193 non-null  int64  \n",
      " 15  WDR          139193 non-null  int64  \n",
      " 16  WAst         139193 non-null  int64  \n",
      " 17  WTO          139193 non-null  int64  \n",
      " 18  WStl         139193 non-null  int64  \n",
      " 19  WBlk         139193 non-null  int64  \n",
      " 20  WPF          139193 non-null  int64  \n",
      " 21  LFGM         139193 non-null  int64  \n",
      " 22  LFGA         139193 non-null  int64  \n",
      " 23  LFGM3        139193 non-null  int64  \n",
      " 24  LFGA3        139193 non-null  int64  \n",
      " 25  LFTM         139193 non-null  int64  \n",
      " 26  LFTA         139193 non-null  int64  \n",
      " 27  LOR          139193 non-null  int64  \n",
      " 28  LDR          139193 non-null  int64  \n",
      " 29  LAst         139193 non-null  int64  \n",
      " 30  LTO          139193 non-null  int64  \n",
      " 31  LStl         139193 non-null  int64  \n",
      " 32  LBlk         139193 non-null  int64  \n",
      " 33  LPF          139193 non-null  int64  \n",
      " 34  WEFFG        139193 non-null  float64\n",
      " 35  LEFFG        139193 non-null  float64\n",
      " 36  WEFFG3       139193 non-null  float64\n",
      " 37  LEFFG3       139193 non-null  float64\n",
      " 38  WDARE        139193 non-null  float64\n",
      " 39  LDARE        139193 non-null  float64\n",
      " 40  WTOQUETOQUE  139193 non-null  float64\n",
      " 41  LTOQUETOQUE  139193 non-null  float64\n",
      " 42  WEFG_SUM     139193 non-null  float64\n",
      " 43  LEFG_SUM     139193 non-null  float64\n",
      " 44  WPOSS        139193 non-null  float64\n",
      " 45  LPOSS        139193 non-null  float64\n",
      " 46  WPOSS_RATE   139193 non-null  float64\n",
      " 47  LPOSS_RATE   139193 non-null  float64\n",
      " 48  WTO_RATIO    139193 non-null  float64\n",
      " 49  LTO_RATIO    139193 non-null  float64\n",
      " 50  WREB_RATE    139193 non-null  float64\n",
      " 51  LREB_RATE    139193 non-null  float64\n",
      " 52  WFT_RATE     139193 non-null  float64\n",
      " 53  LFT_RATE     139193 non-null  float64\n",
      " 54  WRATING      139193 non-null  float64\n",
      " 55  LRATING      139193 non-null  float64\n",
      "dtypes: float64(22), int64(33), object(1)\n",
      "memory usage: 60.5+ MB\n",
      "None\n"
     ]
    },
    {
     "name": "stdout",
     "output_type": "stream",
     "text": [
      "feature cols after prepare()\n",
      "Index(['Season', 'DayNum', 'T1_TeamID', 'T1_Score', 'T2_TeamID', 'T2_Score',\n",
      "       'location', 'NumOT', 'T1_FGM', 'T1_FGA', 'T1_FGM3', 'T1_FGA3', 'T1_FTM',\n",
      "       'T1_FTA', 'T1_OR', 'T1_DR', 'T1_Ast', 'T1_TO', 'T1_Stl', 'T1_Blk',\n",
      "       'T1_PF', 'T2_FGM', 'T2_FGA', 'T2_FGM3', 'T2_FGA3', 'T2_FTM', 'T2_FTA',\n",
      "       'T2_OR', 'T2_DR', 'T2_Ast', 'T2_TO', 'T2_Stl', 'T2_Blk', 'T2_PF',\n",
      "       'T1_EFFG', 'T2_EFFG', 'T1_EFFG3', 'T2_EFFG3', 'T1_DARE', 'T2_DARE',\n",
      "       'T1_TOQUETOQUE', 'T2_TOQUETOQUE', 'T1_EFG_SUM', 'T2_EFG_SUM', 'T1_POSS',\n",
      "       'T2_POSS', 'T1_POSS_RATE', 'T2_POSS_RATE', 'T1_TO_RATIO', 'T2_TO_RATIO',\n",
      "       'T1_REB_RATE', 'T2_REB_RATE', 'T1_FT_RATE', 'T2_FT_RATE', 'T1_RATING',\n",
      "       'T2_RATING', 'PointDiff', 'win'],\n",
      "      dtype='object')\n",
      "<class 'pandas.core.frame.DataFrame'>\n",
      "RangeIndex: 278386 entries, 0 to 278385\n",
      "Data columns (total 58 columns):\n",
      " #   Column         Non-Null Count   Dtype  \n",
      "---  ------         --------------   -----  \n",
      " 0   Season         278386 non-null  int64  \n",
      " 1   DayNum         278386 non-null  int64  \n",
      " 2   T1_TeamID      278386 non-null  int64  \n",
      " 3   T1_Score       278386 non-null  int64  \n",
      " 4   T2_TeamID      278386 non-null  int64  \n",
      " 5   T2_Score       278386 non-null  int64  \n",
      " 6   location       278386 non-null  int32  \n",
      " 7   NumOT          278386 non-null  int64  \n",
      " 8   T1_FGM         278386 non-null  int64  \n",
      " 9   T1_FGA         278386 non-null  int64  \n",
      " 10  T1_FGM3        278386 non-null  int64  \n",
      " 11  T1_FGA3        278386 non-null  int64  \n",
      " 12  T1_FTM         278386 non-null  int64  \n",
      " 13  T1_FTA         278386 non-null  int64  \n",
      " 14  T1_OR          278386 non-null  int64  \n",
      " 15  T1_DR          278386 non-null  int64  \n",
      " 16  T1_Ast         278386 non-null  int64  \n",
      " 17  T1_TO          278386 non-null  int64  \n",
      " 18  T1_Stl         278386 non-null  int64  \n",
      " 19  T1_Blk         278386 non-null  int64  \n",
      " 20  T1_PF          278386 non-null  int64  \n",
      " 21  T2_FGM         278386 non-null  int64  \n",
      " 22  T2_FGA         278386 non-null  int64  \n",
      " 23  T2_FGM3        278386 non-null  int64  \n",
      " 24  T2_FGA3        278386 non-null  int64  \n",
      " 25  T2_FTM         278386 non-null  int64  \n",
      " 26  T2_FTA         278386 non-null  int64  \n",
      " 27  T2_OR          278386 non-null  int64  \n",
      " 28  T2_DR          278386 non-null  int64  \n",
      " 29  T2_Ast         278386 non-null  int64  \n",
      " 30  T2_TO          278386 non-null  int64  \n",
      " 31  T2_Stl         278386 non-null  int64  \n",
      " 32  T2_Blk         278386 non-null  int64  \n",
      " 33  T2_PF          278386 non-null  int64  \n",
      " 34  T1_EFFG        278386 non-null  float64\n",
      " 35  T2_EFFG        278386 non-null  float64\n",
      " 36  T1_EFFG3       278386 non-null  float64\n",
      " 37  T2_EFFG3       278386 non-null  float64\n",
      " 38  T1_DARE        278386 non-null  float64\n",
      " 39  T2_DARE        278386 non-null  float64\n",
      " 40  T1_TOQUETOQUE  278386 non-null  float64\n",
      " 41  T2_TOQUETOQUE  278386 non-null  float64\n",
      " 42  T1_EFG_SUM     278386 non-null  float64\n",
      " 43  T2_EFG_SUM     278386 non-null  float64\n",
      " 44  T1_POSS        278386 non-null  float64\n",
      " 45  T2_POSS        278386 non-null  float64\n",
      " 46  T1_POSS_RATE   278386 non-null  float64\n",
      " 47  T2_POSS_RATE   278386 non-null  float64\n",
      " 48  T1_TO_RATIO    278386 non-null  float64\n",
      " 49  T2_TO_RATIO    278386 non-null  float64\n",
      " 50  T1_REB_RATE    278386 non-null  float64\n",
      " 51  T2_REB_RATE    278386 non-null  float64\n",
      " 52  T1_FT_RATE     278386 non-null  float64\n",
      " 53  T2_FT_RATE     278386 non-null  float64\n",
      " 54  T1_RATING      278386 non-null  float64\n",
      " 55  T2_RATING      278386 non-null  float64\n",
      " 56  PointDiff      278386 non-null  int64  \n",
      " 57  win            278386 non-null  int32  \n",
      "dtypes: float64(22), int32(2), int64(34)\n",
      "memory usage: 121.1 MB\n"
     ]
    },
    {
     "data": {
      "text/html": [
       "<div>\n",
       "<style scoped>\n",
       "    .dataframe tbody tr th:only-of-type {\n",
       "        vertical-align: middle;\n",
       "    }\n",
       "\n",
       "    .dataframe tbody tr th {\n",
       "        vertical-align: top;\n",
       "    }\n",
       "\n",
       "    .dataframe thead th {\n",
       "        text-align: right;\n",
       "    }\n",
       "</style>\n",
       "<table border=\"1\" class=\"dataframe\">\n",
       "  <thead>\n",
       "    <tr style=\"text-align: right;\">\n",
       "      <th></th>\n",
       "      <th>Season</th>\n",
       "      <th>DayNum</th>\n",
       "      <th>T1_TeamID</th>\n",
       "      <th>T1_Score</th>\n",
       "      <th>T2_TeamID</th>\n",
       "      <th>T2_Score</th>\n",
       "      <th>location</th>\n",
       "      <th>NumOT</th>\n",
       "      <th>T1_FGM</th>\n",
       "      <th>T1_FGA</th>\n",
       "      <th>...</th>\n",
       "      <th>T1_TO_RATIO</th>\n",
       "      <th>T2_TO_RATIO</th>\n",
       "      <th>T1_REB_RATE</th>\n",
       "      <th>T2_REB_RATE</th>\n",
       "      <th>T1_FT_RATE</th>\n",
       "      <th>T2_FT_RATE</th>\n",
       "      <th>T1_RATING</th>\n",
       "      <th>T2_RATING</th>\n",
       "      <th>PointDiff</th>\n",
       "      <th>win</th>\n",
       "    </tr>\n",
       "  </thead>\n",
       "  <tbody>\n",
       "    <tr>\n",
       "      <th>0</th>\n",
       "      <td>2003</td>\n",
       "      <td>10</td>\n",
       "      <td>1104</td>\n",
       "      <td>68</td>\n",
       "      <td>1328</td>\n",
       "      <td>62</td>\n",
       "      <td>0</td>\n",
       "      <td>0</td>\n",
       "      <td>27</td>\n",
       "      <td>58</td>\n",
       "      <td>...</td>\n",
       "      <td>0.258659</td>\n",
       "      <td>0.223104</td>\n",
       "      <td>0.388889</td>\n",
       "      <td>0.294118</td>\n",
       "      <td>0.310345</td>\n",
       "      <td>0.415094</td>\n",
       "      <td>0.907635</td>\n",
       "      <td>0.877193</td>\n",
       "      <td>6</td>\n",
       "      <td>1</td>\n",
       "    </tr>\n",
       "    <tr>\n",
       "      <th>1</th>\n",
       "      <td>2003</td>\n",
       "      <td>10</td>\n",
       "      <td>1272</td>\n",
       "      <td>70</td>\n",
       "      <td>1393</td>\n",
       "      <td>63</td>\n",
       "      <td>0</td>\n",
       "      <td>0</td>\n",
       "      <td>26</td>\n",
       "      <td>62</td>\n",
       "      <td>...</td>\n",
       "      <td>0.155950</td>\n",
       "      <td>0.136674</td>\n",
       "      <td>0.375000</td>\n",
       "      <td>0.416667</td>\n",
       "      <td>0.306452</td>\n",
       "      <td>0.298507</td>\n",
       "      <td>1.023991</td>\n",
       "      <td>0.929204</td>\n",
       "      <td>7</td>\n",
       "      <td>1</td>\n",
       "    </tr>\n",
       "    <tr>\n",
       "      <th>2</th>\n",
       "      <td>2003</td>\n",
       "      <td>11</td>\n",
       "      <td>1266</td>\n",
       "      <td>73</td>\n",
       "      <td>1437</td>\n",
       "      <td>61</td>\n",
       "      <td>0</td>\n",
       "      <td>0</td>\n",
       "      <td>24</td>\n",
       "      <td>58</td>\n",
       "      <td>...</td>\n",
       "      <td>0.123824</td>\n",
       "      <td>0.126156</td>\n",
       "      <td>0.435897</td>\n",
       "      <td>0.543860</td>\n",
       "      <td>0.500000</td>\n",
       "      <td>0.315068</td>\n",
       "      <td>1.144918</td>\n",
       "      <td>0.951341</td>\n",
       "      <td>12</td>\n",
       "      <td>1</td>\n",
       "    </tr>\n",
       "    <tr>\n",
       "      <th>3</th>\n",
       "      <td>2003</td>\n",
       "      <td>11</td>\n",
       "      <td>1296</td>\n",
       "      <td>56</td>\n",
       "      <td>1457</td>\n",
       "      <td>50</td>\n",
       "      <td>0</td>\n",
       "      <td>0</td>\n",
       "      <td>18</td>\n",
       "      <td>38</td>\n",
       "      <td>...</td>\n",
       "      <td>0.188561</td>\n",
       "      <td>0.254692</td>\n",
       "      <td>0.230769</td>\n",
       "      <td>0.472222</td>\n",
       "      <td>0.815789</td>\n",
       "      <td>0.306122</td>\n",
       "      <td>0.971548</td>\n",
       "      <td>0.868056</td>\n",
       "      <td>6</td>\n",
       "      <td>1</td>\n",
       "    </tr>\n",
       "    <tr>\n",
       "      <th>4</th>\n",
       "      <td>2003</td>\n",
       "      <td>11</td>\n",
       "      <td>1400</td>\n",
       "      <td>77</td>\n",
       "      <td>1208</td>\n",
       "      <td>71</td>\n",
       "      <td>0</td>\n",
       "      <td>0</td>\n",
       "      <td>30</td>\n",
       "      <td>61</td>\n",
       "      <td>...</td>\n",
       "      <td>0.173439</td>\n",
       "      <td>0.119218</td>\n",
       "      <td>0.531250</td>\n",
       "      <td>0.488372</td>\n",
       "      <td>0.213115</td>\n",
       "      <td>0.435484</td>\n",
       "      <td>1.208412</td>\n",
       "      <td>1.129135</td>\n",
       "      <td>6</td>\n",
       "      <td>1</td>\n",
       "    </tr>\n",
       "  </tbody>\n",
       "</table>\n",
       "<p>5 rows × 58 columns</p>\n",
       "</div>"
      ],
      "text/plain": [
       "   Season  DayNum  T1_TeamID  T1_Score  T2_TeamID  T2_Score  location  NumOT  \\\n",
       "0    2003      10       1104        68       1328        62         0      0   \n",
       "1    2003      10       1272        70       1393        63         0      0   \n",
       "2    2003      11       1266        73       1437        61         0      0   \n",
       "3    2003      11       1296        56       1457        50         0      0   \n",
       "4    2003      11       1400        77       1208        71         0      0   \n",
       "\n",
       "   T1_FGM  T1_FGA  ...  T1_TO_RATIO  T2_TO_RATIO  T1_REB_RATE  T2_REB_RATE  \\\n",
       "0      27      58  ...     0.258659     0.223104     0.388889     0.294118   \n",
       "1      26      62  ...     0.155950     0.136674     0.375000     0.416667   \n",
       "2      24      58  ...     0.123824     0.126156     0.435897     0.543860   \n",
       "3      18      38  ...     0.188561     0.254692     0.230769     0.472222   \n",
       "4      30      61  ...     0.173439     0.119218     0.531250     0.488372   \n",
       "\n",
       "   T1_FT_RATE  T2_FT_RATE  T1_RATING  T2_RATING  PointDiff  win  \n",
       "0    0.310345    0.415094   0.907635   0.877193          6    1  \n",
       "1    0.306452    0.298507   1.023991   0.929204          7    1  \n",
       "2    0.500000    0.315068   1.144918   0.951341         12    1  \n",
       "3    0.815789    0.306122   0.971548   0.868056          6    1  \n",
       "4    0.213115    0.435484   1.208412   1.129135          6    1  \n",
       "\n",
       "[5 rows x 58 columns]"
      ]
     },
     "metadata": {},
     "output_type": "display_data"
    },
    {
     "data": {
      "text/plain": [
       "None"
      ]
     },
     "metadata": {},
     "output_type": "display_data"
    }
   ],
   "source": [
    "#予測する年以降の情報はフィルタリング\n",
    "USE_START_YEAR = cfg.exp.tournament.use_start_season\n",
    "notexist = tourney_results[tourney_results[\"Season\"] == PREDICT_YEAR]\n",
    "tourney_results = tourney_results[(tourney_results[\"Season\"] >= USE_START_YEAR) & (tourney_results[\"Season\"] < PREDICT_YEAR)]\n",
    "seeds = seeds[(seeds[\"Season\"] >= USE_START_YEAR) & (seeds[\"Season\"] <= PREDICT_YEAR)]\n",
    "regular_results = regular_results[(regular_results[\"Season\"] >= USE_START_YEAR) & (regular_results[\"Season\"] <= PREDICT_YEAR)]\n",
    "\n",
    "regular_data = prepare_data(regular_results)\n",
    "display(regular_data.head(), regular_data.info())"
   ]
  },
  {
   "cell_type": "code",
   "execution_count": 8,
   "id": "324c4654",
   "metadata": {
    "execution": {
     "iopub.execute_input": "2025-03-13T18:13:54.308232Z",
     "iopub.status.busy": "2025-03-13T18:13:54.308232Z",
     "iopub.status.idle": "2025-03-13T18:13:54.326041Z",
     "shell.execute_reply": "2025-03-13T18:13:54.324582Z"
    },
    "papermill": {
     "duration": 0.029243,
     "end_time": "2025-03-13T18:13:54.327370",
     "exception": false,
     "start_time": "2025-03-13T18:13:54.298127",
     "status": "completed"
    },
    "tags": []
   },
   "outputs": [],
   "source": [
    "#使用特徴量(boxscore_cols)を取得してそれに対して(\"Season\", 'T1_TeamID')でまとめた特徴量の追加\n",
    "#### 1. win_ration_14d ####\n",
    "def add_win_ratio_14d(df):\n",
    "    df_filtered = df[df['DayNum'] > 118].copy()\n",
    "    df_filtered['Win'] = (df_filtered['PointDiff'] > 0).astype(int)\n",
    "    \n",
    "    win_ratio_t1 = df_filtered.groupby(['Season', 'T1_TeamID'])['Win'].mean().reset_index()\n",
    "    win_ratio_t1.rename(columns={'Win': 'T1_win_ratio_14d'}, inplace=True)\n",
    "    \n",
    "    win_ratio_t2 = df_filtered.groupby(['Season', 'T2_TeamID'])['Win'].mean().reset_index()\n",
    "    win_ratio_t2.rename(columns={'Win': 'T2_win_ratio_14d'}, inplace=True)\n",
    "    \n",
    "    df = df.merge(win_ratio_t1, on=['Season', 'T1_TeamID'], how='left')\n",
    "    df = df.merge(win_ratio_t2, on=['Season', 'T2_TeamID'], how='left')\n",
    "    \n",
    "    return df\n",
    "\n",
    "##### 2. add mean of boxscore ####\n",
    "def make_col_avg(df, boxscore, group = [\"Season\", \"T1_TeamID\"], func= [np.mean]):\n",
    "    df_stat = df.groupby(group)[boxscore].agg(func)\n",
    "    df_stat.columns = [''.join(col).strip() for col in df_stat.columns.values]\n",
    "    df_stat = df_stat.reset_index()\n",
    "\n",
    "    win_ratio_cols = ['T1_win_ratio_14d'] #ここマージの関係からT2_win_ratio_14dを外したけど大丈夫か考える\n",
    "    df_win_ratio = df[group + win_ratio_cols].drop_duplicates()\n",
    "    df_stat = df_stat.merge(df_win_ratio, on=group, how='left')\n",
    "    \n",
    "    return df_stat\n",
    "\n",
    "#### 3. add team quality ####\n",
    "# 3.0 ロジスティックを行うためのregular_season_effectsデータフレームの作成\n",
    "def make_regular_season_effects(df):\n",
    "    regular_season_effects = df[['Season', 'T1_TeamID', 'T2_TeamID', 'PointDiff']].copy()\n",
    "    regular_season_effects['win'] = np.where(regular_season_effects['PointDiff'] > 0, 1, 0)\n",
    "    return regular_season_effects\n",
    "\n",
    "# 3.1\n",
    "#各シーズンごとの総当たりに対するロジスティック回帰を行う\n",
    "#目的変数はfeatureenginneringから作成したPointDiffの正負に依存するWinとする.\n",
    "#新たな特徴量\"quarity\"をseasonごとの戦績をもとにロジスティックの回帰係数として導入している\n",
    "def team_quality(season,df):\n",
    "    season_data = df[df[\"Season\"] == season]\n",
    "    X = season_data[['T1_TeamID', 'T2_TeamID']]\n",
    "    y = season_data['win']\n",
    "    print(X.shape, y.shape)\n",
    "    encoder = OneHotEncoder(sparse_output=False) #多重共線性防止, 密行列指定\n",
    "    X_encoded = encoder.fit_transform(X)\n",
    "    \n",
    "    model = LogisticRegression(fit_intercept=False)\n",
    "    model.fit(X_encoded, y)\n",
    "    team_ids = encoder.get_feature_names_out(['T1_TeamID', 'T2_TeamID'])\n",
    "\n",
    "    \n",
    "    #quarity: (チーム数)*2(ID, 回帰係数)\n",
    "    quality = pd.DataFrame({\n",
    "        'TeamID': team_ids,\n",
    "        'quality': model.coef_.flatten() #T1_TeamID_1112,,,の形でチーム数分の回帰係数が入る\n",
    "    })\n",
    "\n",
    "    # 値をint 1112 のように整形\n",
    "    quality = quality[quality['TeamID'].str.contains('T1_TeamID')]\n",
    "    quality['TeamID'] = quality['TeamID'].str.replace('T1_TeamID_', '', regex=True).astype(int)\n",
    "    quality['Season'] = season\n",
    "\n",
    "    #display(quality.head())\n",
    "    print(f\"fin make {season}'s team quarity\")\n",
    "    return quality\n",
    "\n",
    "# 4. add seed\n",
    "def add_seed(df, seeds):\n",
    "    temp = seeds.copy()\n",
    "    temp['Seed'] = temp['Seed'].apply(lambda x: int(x[1:3]))\n",
    "    temp.columns = ['Season','T1_seed','T1_TeamID']\n",
    "    df = pd.merge(df, temp, on=[\"Season\", \"T1_TeamID\"], how=\"left\")\n",
    "    return df \n",
    "\n",
    "# 5. add Ordinal rank\n",
    "def add_ordinalrank(df, ordinal):\n",
    "    df_rank = ordinal.groupby([\"Season\", \"TeamID\"])[\"OrdinalRank\"].agg(np.mean).reset_index()\n",
    "    df_rank.head()\n",
    "    ranks = df_rank.rename(columns={'TeamID': 'T1_TeamID', 'OrdinalRank': 'T1_OrdinalRank'})\n",
    "    df = pd.merge(df,ranks,on = [\"Season\",\"T1_TeamID\"],how = \"left\")\n",
    "    return df\n",
    "\n",
    "# main \n",
    "def make_season_statistics(df, boxscore, seeds, func = [np.mean]):\n",
    "    # 1. Win Ratio の計算と追加\n",
    "    add_win = add_win_ratio_14d(df)\n",
    "    print(\"after add win ratio\")\n",
    "    print(add_win.columns)  \n",
    "    \n",
    "    #2. \n",
    "    add_mean = make_col_avg(add_win, boxscore)\n",
    "    print(\"after mean of boxscore\")\n",
    "    print(add_mean.columns)\n",
    "    \n",
    "    #3. \n",
    "    global PREDICT_YEAR, USE_START_YEAR\n",
    "    start_season = max(FEATURES.start_quality_season, USE_START_YEAR)\n",
    "    print(f\"use season for quality feature is: {start_season}\")\n",
    "    regular_season_effects = make_regular_season_effects(df)\n",
    "    glm_season = [i for i in range(start_season, PREDICT_YEAR+1)]\n",
    "\n",
    "    if 2020 in glm_season:\n",
    "        glm_season.remove(2020)\n",
    "    glm_quality = pd.concat([team_quality(season, regular_season_effects) for season in glm_season]).reset_index(drop=True)\n",
    "    # add glm quality \n",
    "    glm_quality_T1 = glm_quality.rename(columns={'TeamID': 'T1_TeamID', 'quality': 'T1_quality'})\n",
    "    add_glm = add_mean.merge(glm_quality_T1, on=['Season', 'T1_TeamID'], how='left')\n",
    "\n",
    "    print(\"add glm quality\")\n",
    "    print(add_glm.columns)\n",
    "    \n",
    "    #4. \n",
    "    add_seeds = add_seed(add_glm, seeds)\n",
    "    print(\"add seeds (final form)\")\n",
    "    print(add_seeds.columns)\n",
    "    \n",
    "    #5. \n",
    "    add_rank = add_ordinalrank(add_seeds, ordinal_rank)\n",
    "    print(\"add ordinal rank\")\n",
    "    print(add_rank.columns)  \n",
    "    return add_rank"
   ]
  },
  {
   "cell_type": "code",
   "execution_count": 9,
   "id": "a5dc1abc",
   "metadata": {
    "execution": {
     "iopub.execute_input": "2025-03-13T18:13:54.342936Z",
     "iopub.status.busy": "2025-03-13T18:13:54.342936Z",
     "iopub.status.idle": "2025-03-13T18:13:57.152541Z",
     "shell.execute_reply": "2025-03-13T18:13:57.152541Z"
    },
    "papermill": {
     "duration": 2.825171,
     "end_time": "2025-03-13T18:13:57.152541",
     "exception": false,
     "start_time": "2025-03-13T18:13:54.327370",
     "status": "completed"
    },
    "tags": []
   },
   "outputs": [
    {
     "name": "stdout",
     "output_type": "stream",
     "text": [
      "use boxscore col is\n",
      "['T1_Score', 'T2_Score', 'PointDiff', 'T1_FGM', 'T2_FGM', 'T1_FGA', 'T2_FGA', 'T1_EFG_SUM', 'T2_EFG_SUM', 'T1_TO_RATIO', 'T2_TO_RATIO', 'T1_OR', 'T2_OR', 'T1_DR', 'T2_DR', 'T1_REB_RATE', 'T2_REB_RATE', 'T1_FT_RATE', 'T2_FT_RATE', 'T1_Ast', 'T2_Ast', 'T1_TO', 'T2_TO', 'T1_Stl', 'T2_Stl', 'T1_Blk', 'T2_Blk', 'T1_PF', 'T2_PF']\n"
     ]
    },
    {
     "name": "stdout",
     "output_type": "stream",
     "text": [
      "after add win ratio\n",
      "Index(['Season', 'DayNum', 'T1_TeamID', 'T1_Score', 'T2_TeamID', 'T2_Score',\n",
      "       'location', 'NumOT', 'T1_FGM', 'T1_FGA', 'T1_FGM3', 'T1_FGA3', 'T1_FTM',\n",
      "       'T1_FTA', 'T1_OR', 'T1_DR', 'T1_Ast', 'T1_TO', 'T1_Stl', 'T1_Blk',\n",
      "       'T1_PF', 'T2_FGM', 'T2_FGA', 'T2_FGM3', 'T2_FGA3', 'T2_FTM', 'T2_FTA',\n",
      "       'T2_OR', 'T2_DR', 'T2_Ast', 'T2_TO', 'T2_Stl', 'T2_Blk', 'T2_PF',\n",
      "       'T1_EFFG', 'T2_EFFG', 'T1_EFFG3', 'T2_EFFG3', 'T1_DARE', 'T2_DARE',\n",
      "       'T1_TOQUETOQUE', 'T2_TOQUETOQUE', 'T1_EFG_SUM', 'T2_EFG_SUM', 'T1_POSS',\n",
      "       'T2_POSS', 'T1_POSS_RATE', 'T2_POSS_RATE', 'T1_TO_RATIO', 'T2_TO_RATIO',\n",
      "       'T1_REB_RATE', 'T2_REB_RATE', 'T1_FT_RATE', 'T2_FT_RATE', 'T1_RATING',\n",
      "       'T2_RATING', 'PointDiff', 'win', 'T1_win_ratio_14d',\n",
      "       'T2_win_ratio_14d'],\n",
      "      dtype='object')\n"
     ]
    },
    {
     "name": "stdout",
     "output_type": "stream",
     "text": [
      "after mean of boxscore\n",
      "Index(['Season', 'T1_TeamID', 'T1_Scoremean', 'T2_Scoremean', 'PointDiffmean',\n",
      "       'T1_FGMmean', 'T2_FGMmean', 'T1_FGAmean', 'T2_FGAmean',\n",
      "       'T1_EFG_SUMmean', 'T2_EFG_SUMmean', 'T1_TO_RATIOmean',\n",
      "       'T2_TO_RATIOmean', 'T1_ORmean', 'T2_ORmean', 'T1_DRmean', 'T2_DRmean',\n",
      "       'T1_REB_RATEmean', 'T2_REB_RATEmean', 'T1_FT_RATEmean',\n",
      "       'T2_FT_RATEmean', 'T1_Astmean', 'T2_Astmean', 'T1_TOmean', 'T2_TOmean',\n",
      "       'T1_Stlmean', 'T2_Stlmean', 'T1_Blkmean', 'T2_Blkmean', 'T1_PFmean',\n",
      "       'T2_PFmean', 'T1_win_ratio_14d'],\n",
      "      dtype='object')\n",
      "use season for quality feature is: 2003\n",
      "(9232, 2) (9232,)\n",
      "fin make 2003's team quarity\n",
      "(9142, 2) (9142,)\n"
     ]
    },
    {
     "name": "stderr",
     "output_type": "stream",
     "text": [
      "C:\\Users\\81809\\AppData\\Local\\Temp\\ipykernel_14576\\386782032.py:20: FutureWarning: The provided callable <function mean at 0x000002AD25C2A520> is currently using SeriesGroupBy.mean. In a future version of pandas, the provided callable will be used directly. To keep current behavior pass the string \"mean\" instead.\n",
      "  df_stat = df.groupby(group)[boxscore].agg(func)\n"
     ]
    },
    {
     "name": "stdout",
     "output_type": "stream",
     "text": [
      "fin make 2004's team quarity\n",
      "(9350, 2) (9350,)\n",
      "fin make 2005's team quarity\n",
      "(9514, 2) (9514,)\n"
     ]
    },
    {
     "name": "stdout",
     "output_type": "stream",
     "text": [
      "fin make 2006's team quarity\n",
      "(10086, 2) (10086,)\n",
      "fin make 2007's team quarity\n",
      "(10326, 2) (10326,)\n",
      "fin make 2008's team quarity\n",
      "(10498, 2) (10498,)\n"
     ]
    },
    {
     "name": "stdout",
     "output_type": "stream",
     "text": [
      "fin make 2009's team quarity\n",
      "(20600, 2) (20600,)\n"
     ]
    },
    {
     "name": "stdout",
     "output_type": "stream",
     "text": [
      "fin make 2010's team quarity\n",
      "(20660, 2) (20660,)\n"
     ]
    },
    {
     "name": "stdout",
     "output_type": "stream",
     "text": [
      "fin make 2011's team quarity\n",
      "(20606, 2) (20606,)\n"
     ]
    },
    {
     "name": "stdout",
     "output_type": "stream",
     "text": [
      "fin make 2012's team quarity\n",
      "(21008, 2) (21008,)\n"
     ]
    },
    {
     "name": "stdout",
     "output_type": "stream",
     "text": [
      "fin make 2013's team quarity\n",
      "(21228, 2) (21228,)\n",
      "fin make 2014's team quarity\n",
      "(21136, 2) (21136,)\n"
     ]
    },
    {
     "name": "stdout",
     "output_type": "stream",
     "text": [
      "fin make 2015's team quarity\n",
      "(21156, 2) (21156,)\n",
      "fin make 2016's team quarity\n",
      "(21210, 2) (21210,)\n"
     ]
    },
    {
     "name": "stdout",
     "output_type": "stream",
     "text": [
      "fin make 2017's team quarity\n",
      "(21228, 2) (21228,)\n"
     ]
    },
    {
     "name": "stdout",
     "output_type": "stream",
     "text": [
      "fin make 2018's team quarity\n",
      "(21406, 2) (21406,)\n",
      "fin make 2019's team quarity\n",
      "add glm quality\n",
      "Index(['Season', 'T1_TeamID', 'T1_Scoremean', 'T2_Scoremean', 'PointDiffmean',\n",
      "       'T1_FGMmean', 'T2_FGMmean', 'T1_FGAmean', 'T2_FGAmean',\n",
      "       'T1_EFG_SUMmean', 'T2_EFG_SUMmean', 'T1_TO_RATIOmean',\n",
      "       'T2_TO_RATIOmean', 'T1_ORmean', 'T2_ORmean', 'T1_DRmean', 'T2_DRmean',\n",
      "       'T1_REB_RATEmean', 'T2_REB_RATEmean', 'T1_FT_RATEmean',\n",
      "       'T2_FT_RATEmean', 'T1_Astmean', 'T2_Astmean', 'T1_TOmean', 'T2_TOmean',\n",
      "       'T1_Stlmean', 'T2_Stlmean', 'T1_Blkmean', 'T2_Blkmean', 'T1_PFmean',\n",
      "       'T2_PFmean', 'T1_win_ratio_14d', 'T1_quality'],\n",
      "      dtype='object')\n",
      "add seeds (final form)\n",
      "Index(['Season', 'T1_TeamID', 'T1_Scoremean', 'T2_Scoremean', 'PointDiffmean',\n",
      "       'T1_FGMmean', 'T2_FGMmean', 'T1_FGAmean', 'T2_FGAmean',\n",
      "       'T1_EFG_SUMmean', 'T2_EFG_SUMmean', 'T1_TO_RATIOmean',\n",
      "       'T2_TO_RATIOmean', 'T1_ORmean', 'T2_ORmean', 'T1_DRmean', 'T2_DRmean',\n",
      "       'T1_REB_RATEmean', 'T2_REB_RATEmean', 'T1_FT_RATEmean',\n",
      "       'T2_FT_RATEmean', 'T1_Astmean', 'T2_Astmean', 'T1_TOmean', 'T2_TOmean',\n",
      "       'T1_Stlmean', 'T2_Stlmean', 'T1_Blkmean', 'T2_Blkmean', 'T1_PFmean',\n",
      "       'T2_PFmean', 'T1_win_ratio_14d', 'T1_quality', 'T1_seed'],\n",
      "      dtype='object')\n"
     ]
    },
    {
     "name": "stderr",
     "output_type": "stream",
     "text": [
      "C:\\Users\\81809\\AppData\\Local\\Temp\\ipykernel_14576\\386782032.py:79: FutureWarning: The provided callable <function mean at 0x000002AD25C2A520> is currently using SeriesGroupBy.mean. In a future version of pandas, the provided callable will be used directly. To keep current behavior pass the string \"mean\" instead.\n",
      "  df_rank = ordinal.groupby([\"Season\", \"TeamID\"])[\"OrdinalRank\"].agg(np.mean).reset_index()\n"
     ]
    },
    {
     "name": "stdout",
     "output_type": "stream",
     "text": [
      "add ordinal rank\n",
      "Index(['Season', 'T1_TeamID', 'T1_Scoremean', 'T2_Scoremean', 'PointDiffmean',\n",
      "       'T1_FGMmean', 'T2_FGMmean', 'T1_FGAmean', 'T2_FGAmean',\n",
      "       'T1_EFG_SUMmean', 'T2_EFG_SUMmean', 'T1_TO_RATIOmean',\n",
      "       'T2_TO_RATIOmean', 'T1_ORmean', 'T2_ORmean', 'T1_DRmean', 'T2_DRmean',\n",
      "       'T1_REB_RATEmean', 'T2_REB_RATEmean', 'T1_FT_RATEmean',\n",
      "       'T2_FT_RATEmean', 'T1_Astmean', 'T2_Astmean', 'T1_TOmean', 'T2_TOmean',\n",
      "       'T1_Stlmean', 'T2_Stlmean', 'T1_Blkmean', 'T2_Blkmean', 'T1_PFmean',\n",
      "       'T2_PFmean', 'T1_win_ratio_14d', 'T1_quality', 'T1_seed',\n",
      "       'T1_OrdinalRank'],\n",
      "      dtype='object')\n"
     ]
    },
    {
     "data": {
      "text/html": [
       "<div>\n",
       "<style scoped>\n",
       "    .dataframe tbody tr th:only-of-type {\n",
       "        vertical-align: middle;\n",
       "    }\n",
       "\n",
       "    .dataframe tbody tr th {\n",
       "        vertical-align: top;\n",
       "    }\n",
       "\n",
       "    .dataframe thead th {\n",
       "        text-align: right;\n",
       "    }\n",
       "</style>\n",
       "<table border=\"1\" class=\"dataframe\">\n",
       "  <thead>\n",
       "    <tr style=\"text-align: right;\">\n",
       "      <th></th>\n",
       "      <th>Season</th>\n",
       "      <th>T1_TeamID</th>\n",
       "      <th>T1_Scoremean</th>\n",
       "      <th>T2_Scoremean</th>\n",
       "      <th>PointDiffmean</th>\n",
       "      <th>T1_FGMmean</th>\n",
       "      <th>T2_FGMmean</th>\n",
       "      <th>T1_FGAmean</th>\n",
       "      <th>T2_FGAmean</th>\n",
       "      <th>T1_EFG_SUMmean</th>\n",
       "      <th>...</th>\n",
       "      <th>T1_Stlmean</th>\n",
       "      <th>T2_Stlmean</th>\n",
       "      <th>T1_Blkmean</th>\n",
       "      <th>T2_Blkmean</th>\n",
       "      <th>T1_PFmean</th>\n",
       "      <th>T2_PFmean</th>\n",
       "      <th>T1_win_ratio_14d</th>\n",
       "      <th>T1_quality</th>\n",
       "      <th>T1_seed</th>\n",
       "      <th>T1_OrdinalRank</th>\n",
       "    </tr>\n",
       "  </thead>\n",
       "  <tbody>\n",
       "    <tr>\n",
       "      <th>9298</th>\n",
       "      <td>2019</td>\n",
       "      <td>3462</td>\n",
       "      <td>60.862069</td>\n",
       "      <td>66.482759</td>\n",
       "      <td>-5.620690</td>\n",
       "      <td>21.896552</td>\n",
       "      <td>24.448276</td>\n",
       "      <td>57.517241</td>\n",
       "      <td>59.758621</td>\n",
       "      <td>0.448019</td>\n",
       "      <td>...</td>\n",
       "      <td>7.586207</td>\n",
       "      <td>7.758621</td>\n",
       "      <td>2.586207</td>\n",
       "      <td>3.172414</td>\n",
       "      <td>15.241379</td>\n",
       "      <td>15.172414</td>\n",
       "      <td>0.0</td>\n",
       "      <td>-0.296941</td>\n",
       "      <td>NaN</td>\n",
       "      <td>NaN</td>\n",
       "    </tr>\n",
       "    <tr>\n",
       "      <th>9299</th>\n",
       "      <td>2019</td>\n",
       "      <td>3463</td>\n",
       "      <td>63.344828</td>\n",
       "      <td>61.551724</td>\n",
       "      <td>1.793103</td>\n",
       "      <td>23.724138</td>\n",
       "      <td>21.965517</td>\n",
       "      <td>60.517241</td>\n",
       "      <td>60.379310</td>\n",
       "      <td>0.438814</td>\n",
       "      <td>...</td>\n",
       "      <td>5.172414</td>\n",
       "      <td>8.344828</td>\n",
       "      <td>3.586207</td>\n",
       "      <td>2.517241</td>\n",
       "      <td>16.448276</td>\n",
       "      <td>17.551724</td>\n",
       "      <td>0.0</td>\n",
       "      <td>0.134368</td>\n",
       "      <td>NaN</td>\n",
       "      <td>NaN</td>\n",
       "    </tr>\n",
       "    <tr>\n",
       "      <th>9300</th>\n",
       "      <td>2019</td>\n",
       "      <td>3464</td>\n",
       "      <td>68.137931</td>\n",
       "      <td>58.000000</td>\n",
       "      <td>10.137931</td>\n",
       "      <td>23.241379</td>\n",
       "      <td>21.862069</td>\n",
       "      <td>55.758621</td>\n",
       "      <td>58.655172</td>\n",
       "      <td>0.494845</td>\n",
       "      <td>...</td>\n",
       "      <td>4.344828</td>\n",
       "      <td>7.448276</td>\n",
       "      <td>3.482759</td>\n",
       "      <td>3.482759</td>\n",
       "      <td>13.862069</td>\n",
       "      <td>17.896552</td>\n",
       "      <td>0.5</td>\n",
       "      <td>0.638405</td>\n",
       "      <td>NaN</td>\n",
       "      <td>NaN</td>\n",
       "    </tr>\n",
       "    <tr>\n",
       "      <th>9301</th>\n",
       "      <td>2019</td>\n",
       "      <td>3465</td>\n",
       "      <td>76.200000</td>\n",
       "      <td>69.840000</td>\n",
       "      <td>6.360000</td>\n",
       "      <td>28.560000</td>\n",
       "      <td>26.600000</td>\n",
       "      <td>67.520000</td>\n",
       "      <td>69.200000</td>\n",
       "      <td>0.493625</td>\n",
       "      <td>...</td>\n",
       "      <td>7.280000</td>\n",
       "      <td>7.920000</td>\n",
       "      <td>3.160000</td>\n",
       "      <td>3.160000</td>\n",
       "      <td>15.520000</td>\n",
       "      <td>15.440000</td>\n",
       "      <td>0.5</td>\n",
       "      <td>-0.182555</td>\n",
       "      <td>NaN</td>\n",
       "      <td>NaN</td>\n",
       "    </tr>\n",
       "    <tr>\n",
       "      <th>9302</th>\n",
       "      <td>2019</td>\n",
       "      <td>3466</td>\n",
       "      <td>69.521739</td>\n",
       "      <td>63.217391</td>\n",
       "      <td>6.304348</td>\n",
       "      <td>24.869565</td>\n",
       "      <td>23.913043</td>\n",
       "      <td>58.434783</td>\n",
       "      <td>58.260870</td>\n",
       "      <td>0.478102</td>\n",
       "      <td>...</td>\n",
       "      <td>8.478261</td>\n",
       "      <td>8.478261</td>\n",
       "      <td>3.695652</td>\n",
       "      <td>3.217391</td>\n",
       "      <td>17.478261</td>\n",
       "      <td>19.173913</td>\n",
       "      <td>0.0</td>\n",
       "      <td>0.107970</td>\n",
       "      <td>NaN</td>\n",
       "      <td>NaN</td>\n",
       "    </tr>\n",
       "  </tbody>\n",
       "</table>\n",
       "<p>5 rows × 35 columns</p>\n",
       "</div>"
      ],
      "text/plain": [
       "      Season  T1_TeamID  T1_Scoremean  T2_Scoremean  PointDiffmean  \\\n",
       "9298    2019       3462     60.862069     66.482759      -5.620690   \n",
       "9299    2019       3463     63.344828     61.551724       1.793103   \n",
       "9300    2019       3464     68.137931     58.000000      10.137931   \n",
       "9301    2019       3465     76.200000     69.840000       6.360000   \n",
       "9302    2019       3466     69.521739     63.217391       6.304348   \n",
       "\n",
       "      T1_FGMmean  T2_FGMmean  T1_FGAmean  T2_FGAmean  T1_EFG_SUMmean  ...  \\\n",
       "9298   21.896552   24.448276   57.517241   59.758621        0.448019  ...   \n",
       "9299   23.724138   21.965517   60.517241   60.379310        0.438814  ...   \n",
       "9300   23.241379   21.862069   55.758621   58.655172        0.494845  ...   \n",
       "9301   28.560000   26.600000   67.520000   69.200000        0.493625  ...   \n",
       "9302   24.869565   23.913043   58.434783   58.260870        0.478102  ...   \n",
       "\n",
       "      T1_Stlmean  T2_Stlmean  T1_Blkmean  T2_Blkmean  T1_PFmean  T2_PFmean  \\\n",
       "9298    7.586207    7.758621    2.586207    3.172414  15.241379  15.172414   \n",
       "9299    5.172414    8.344828    3.586207    2.517241  16.448276  17.551724   \n",
       "9300    4.344828    7.448276    3.482759    3.482759  13.862069  17.896552   \n",
       "9301    7.280000    7.920000    3.160000    3.160000  15.520000  15.440000   \n",
       "9302    8.478261    8.478261    3.695652    3.217391  17.478261  19.173913   \n",
       "\n",
       "      T1_win_ratio_14d  T1_quality  T1_seed  T1_OrdinalRank  \n",
       "9298               0.0   -0.296941      NaN             NaN  \n",
       "9299               0.0    0.134368      NaN             NaN  \n",
       "9300               0.5    0.638405      NaN             NaN  \n",
       "9301               0.5   -0.182555      NaN             NaN  \n",
       "9302               0.0    0.107970      NaN             NaN  \n",
       "\n",
       "[5 rows x 35 columns]"
      ]
     },
     "execution_count": 9,
     "metadata": {},
     "output_type": "execute_result"
    }
   ],
   "source": [
    "features = FEATURES.cal_mean_boxscore\n",
    "boxscore_cols = [col for col, use in features.items() if use]\n",
    "print(\"use boxscore col is\")\n",
    "print(boxscore_cols)\n",
    "\n",
    "season_statistics = make_season_statistics(regular_data, boxscore_cols, seeds, func = [np.mean])\n",
    "season_statistics.tail()"
   ]
  },
  {
   "cell_type": "code",
   "execution_count": 10,
   "id": "3313a779",
   "metadata": {
    "execution": {
     "iopub.execute_input": "2025-03-13T18:13:57.160745Z",
     "iopub.status.busy": "2025-03-13T18:13:57.160745Z",
     "iopub.status.idle": "2025-03-13T18:13:57.177685Z",
     "shell.execute_reply": "2025-03-13T18:13:57.177685Z"
    },
    "papermill": {
     "duration": 0.017972,
     "end_time": "2025-03-13T18:13:57.178717",
     "exception": false,
     "start_time": "2025-03-13T18:13:57.160745",
     "status": "completed"
    },
    "tags": []
   },
   "outputs": [
    {
     "name": "stdout",
     "output_type": "stream",
     "text": [
      "<class 'pandas.core.frame.DataFrame'>\n",
      "RangeIndex: 9303 entries, 0 to 9302\n",
      "Data columns (total 35 columns):\n",
      " #   Column            Non-Null Count  Dtype  \n",
      "---  ------            --------------  -----  \n",
      " 0   Season            9303 non-null   int64  \n",
      " 1   T1_TeamID         9303 non-null   int64  \n",
      " 2   T1_Scoremean      9303 non-null   float64\n",
      " 3   T2_Scoremean      9303 non-null   float64\n",
      " 4   PointDiffmean     9303 non-null   float64\n",
      " 5   T1_FGMmean        9303 non-null   float64\n",
      " 6   T2_FGMmean        9303 non-null   float64\n",
      " 7   T1_FGAmean        9303 non-null   float64\n",
      " 8   T2_FGAmean        9303 non-null   float64\n",
      " 9   T1_EFG_SUMmean    9303 non-null   float64\n",
      " 10  T2_EFG_SUMmean    9303 non-null   float64\n",
      " 11  T1_TO_RATIOmean   9303 non-null   float64\n",
      " 12  T2_TO_RATIOmean   9303 non-null   float64\n",
      " 13  T1_ORmean         9303 non-null   float64\n",
      " 14  T2_ORmean         9303 non-null   float64\n",
      " 15  T1_DRmean         9303 non-null   float64\n",
      " 16  T2_DRmean         9303 non-null   float64\n",
      " 17  T1_REB_RATEmean   9303 non-null   float64\n",
      " 18  T2_REB_RATEmean   9303 non-null   float64\n",
      " 19  T1_FT_RATEmean    9303 non-null   float64\n",
      " 20  T2_FT_RATEmean    9303 non-null   float64\n",
      " 21  T1_Astmean        9303 non-null   float64\n",
      " 22  T2_Astmean        9303 non-null   float64\n",
      " 23  T1_TOmean         9303 non-null   float64\n",
      " 24  T2_TOmean         9303 non-null   float64\n",
      " 25  T1_Stlmean        9303 non-null   float64\n",
      " 26  T2_Stlmean        9303 non-null   float64\n",
      " 27  T1_Blkmean        9303 non-null   float64\n",
      " 28  T2_Blkmean        9303 non-null   float64\n",
      " 29  T1_PFmean         9303 non-null   float64\n",
      " 30  T2_PFmean         9303 non-null   float64\n",
      " 31  T1_win_ratio_14d  9000 non-null   float64\n",
      " 32  T1_quality        9303 non-null   float64\n",
      " 33  T1_seed           1772 non-null   float64\n",
      " 34  T1_OrdinalRank    5834 non-null   float64\n",
      "dtypes: float64(33), int64(2)\n",
      "memory usage: 2.5 MB\n"
     ]
    }
   ],
   "source": [
    "season_statistics.info()"
   ]
  },
  {
   "cell_type": "code",
   "execution_count": 11,
   "id": "c35e9cdf",
   "metadata": {
    "execution": {
     "iopub.execute_input": "2025-03-13T18:13:57.193201Z",
     "iopub.status.busy": "2025-03-13T18:13:57.193201Z",
     "iopub.status.idle": "2025-03-13T18:13:57.220256Z",
     "shell.execute_reply": "2025-03-13T18:13:57.220256Z"
    },
    "papermill": {
     "duration": 0.037416,
     "end_time": "2025-03-13T18:13:57.220256",
     "exception": false,
     "start_time": "2025-03-13T18:13:57.182840",
     "status": "completed"
    },
    "tags": []
   },
   "outputs": [],
   "source": [
    "####ボックスscoreの平均に対して、過去３年の加重平均を取るときの処理 ####\n",
    "def get_mean_of_3_season(val_2ps, val_1ps, val_0ps, \n",
    "                         weight_2, weight_1, weight_0, \n",
    "                         degree_weight=1.0\n",
    "                         ):\n",
    "    weight_2 = weight_2**degree_weight\n",
    "    weight_1 = weight_1**degree_weight\n",
    "    weight_0 = weight_0**degree_weight\n",
    "    if val_2ps == 0  and val_1ps == 0:\n",
    "        return val_0ps\n",
    "    elif val_2ps == 0:\n",
    "        return (val_1ps*weight_2 + val_0ps*weight_1)/(weight_2 + weight_1)\n",
    "    else:\n",
    "        sum_of_values = val_2ps*weight_2 + val_1ps*weight_1 + val_0ps*weight_0\n",
    "        return sum_of_values/(weight_2 + weight_1 + weight_0)\n",
    "\n",
    "def get_3_feature(df_team, feature):\n",
    "    value_2_seasons_ago = 0\n",
    "    value_1_season_ago = 0\n",
    "    value_0_season_ago = 0\n",
    "    for _, val in df_team.iterrows():\n",
    "        value_2_seasons_ago = value_1_season_ago\n",
    "        value_1_season_ago = value_0_season_ago\n",
    "        value_0_season_ago = val[feature]\n",
    "    return value_2_seasons_ago, value_1_season_ago, value_0_season_ago\n",
    "\n",
    "def write_mean_of_3_seasons(df, features, weight, degree_weight=1.0):\n",
    "    \"\"\"\n",
    "    val_0ps - current season value\n",
    "    weight_0 - current season weight\n",
    "    val_1ps - last season value\n",
    "    val_2ps - the value of the season before last\n",
    "    \"\"\"\n",
    "    weight_2=weight[0]\n",
    "    weight_1=weight[1]\n",
    "    weight_0=weight[2]\n",
    "    df_copy = df.copy()\n",
    "    suffix = \"_mn3s\"\n",
    "    \n",
    "    for ft in features:\n",
    "        df_copy[ft + suffix] = 0\n",
    "    for idx, val in tqdm(df_copy.iterrows(), total=len(df_copy)):\n",
    "        team = val.T1_TeamID\n",
    "        season = val.Season\n",
    "        df_team = df_copy[(df_copy.T1_TeamID == team)&\n",
    "                          (df_copy.Season <= season)&\n",
    "                          (df_copy.Season > season-3)]\n",
    "        for ft in features:\n",
    "            val_2ps, val_1ps, val_0ps = get_3_feature(df_team, ft)\n",
    "            ft_mean_3 = get_mean_of_3_season(val_2ps, val_1ps, val_0ps, weight_2, weight_1, weight_0, degree_weight=degree_weight)\n",
    "            df_copy.loc[idx, ft + suffix] = ft_mean_3\n",
    "    return df_copy"
   ]
  },
  {
   "cell_type": "code",
   "execution_count": 12,
   "id": "3f3512a1",
   "metadata": {
    "execution": {
     "iopub.execute_input": "2025-03-13T18:13:57.225676Z",
     "iopub.status.busy": "2025-03-13T18:13:57.225676Z",
     "iopub.status.idle": "2025-03-13T18:13:57.265876Z",
     "shell.execute_reply": "2025-03-13T18:13:57.265876Z"
    },
    "papermill": {
     "duration": 0.0402,
     "end_time": "2025-03-13T18:13:57.265876",
     "exception": false,
     "start_time": "2025-03-13T18:13:57.225676",
     "status": "completed"
    },
    "tags": []
   },
   "outputs": [
    {
     "name": "stdout",
     "output_type": "stream",
     "text": [
      "#####\n",
      "skip 3 season verage\n",
      "#####\n"
     ]
    },
    {
     "data": {
      "text/html": [
       "<div>\n",
       "<style scoped>\n",
       "    .dataframe tbody tr th:only-of-type {\n",
       "        vertical-align: middle;\n",
       "    }\n",
       "\n",
       "    .dataframe tbody tr th {\n",
       "        vertical-align: top;\n",
       "    }\n",
       "\n",
       "    .dataframe thead th {\n",
       "        text-align: right;\n",
       "    }\n",
       "</style>\n",
       "<table border=\"1\" class=\"dataframe\">\n",
       "  <thead>\n",
       "    <tr style=\"text-align: right;\">\n",
       "      <th></th>\n",
       "      <th>Season</th>\n",
       "      <th>T1_TeamID</th>\n",
       "      <th>T1_Scoremean</th>\n",
       "      <th>T1_opponent_Scoremean</th>\n",
       "      <th>T1_PointDiffmean</th>\n",
       "      <th>T1_FGMmean</th>\n",
       "      <th>T1_opponent_FGMmean</th>\n",
       "      <th>T1_FGAmean</th>\n",
       "      <th>T1_opponent_FGAmean</th>\n",
       "      <th>T1_EFG_SUMmean</th>\n",
       "      <th>...</th>\n",
       "      <th>T1_Stlmean</th>\n",
       "      <th>T1_opponent_Stlmean</th>\n",
       "      <th>T1_Blkmean</th>\n",
       "      <th>T1_opponent_Blkmean</th>\n",
       "      <th>T1_PFmean</th>\n",
       "      <th>T1_opponent_PFmean</th>\n",
       "      <th>T1_win_ratio_14d</th>\n",
       "      <th>T1_quality</th>\n",
       "      <th>T1_seed</th>\n",
       "      <th>T1_OrdinalRank</th>\n",
       "    </tr>\n",
       "  </thead>\n",
       "  <tbody>\n",
       "    <tr>\n",
       "      <th>0</th>\n",
       "      <td>2003</td>\n",
       "      <td>1102</td>\n",
       "      <td>57.250000</td>\n",
       "      <td>57.000000</td>\n",
       "      <td>0.25000</td>\n",
       "      <td>19.142857</td>\n",
       "      <td>19.285714</td>\n",
       "      <td>39.785714</td>\n",
       "      <td>42.428571</td>\n",
       "      <td>0.584407</td>\n",
       "      <td>...</td>\n",
       "      <td>5.964286</td>\n",
       "      <td>5.428571</td>\n",
       "      <td>1.785714</td>\n",
       "      <td>1.571429</td>\n",
       "      <td>18.750000</td>\n",
       "      <td>18.357143</td>\n",
       "      <td>0.333333</td>\n",
       "      <td>-0.070776</td>\n",
       "      <td>NaN</td>\n",
       "      <td>144.2875</td>\n",
       "    </tr>\n",
       "    <tr>\n",
       "      <th>1</th>\n",
       "      <td>2003</td>\n",
       "      <td>1103</td>\n",
       "      <td>78.777778</td>\n",
       "      <td>78.148148</td>\n",
       "      <td>0.62963</td>\n",
       "      <td>27.148148</td>\n",
       "      <td>27.777778</td>\n",
       "      <td>55.851852</td>\n",
       "      <td>57.000000</td>\n",
       "      <td>0.536564</td>\n",
       "      <td>...</td>\n",
       "      <td>7.259259</td>\n",
       "      <td>6.407407</td>\n",
       "      <td>2.333333</td>\n",
       "      <td>2.851852</td>\n",
       "      <td>19.851852</td>\n",
       "      <td>22.444444</td>\n",
       "      <td>0.333333</td>\n",
       "      <td>-0.116192</td>\n",
       "      <td>NaN</td>\n",
       "      <td>182.2050</td>\n",
       "    </tr>\n",
       "  </tbody>\n",
       "</table>\n",
       "<p>2 rows × 35 columns</p>\n",
       "</div>"
      ],
      "text/plain": [
       "   Season  T1_TeamID  T1_Scoremean  T1_opponent_Scoremean  T1_PointDiffmean  \\\n",
       "0    2003       1102     57.250000              57.000000           0.25000   \n",
       "1    2003       1103     78.777778              78.148148           0.62963   \n",
       "\n",
       "   T1_FGMmean  T1_opponent_FGMmean  T1_FGAmean  T1_opponent_FGAmean  \\\n",
       "0   19.142857            19.285714   39.785714            42.428571   \n",
       "1   27.148148            27.777778   55.851852            57.000000   \n",
       "\n",
       "   T1_EFG_SUMmean  ...  T1_Stlmean  T1_opponent_Stlmean  T1_Blkmean  \\\n",
       "0        0.584407  ...    5.964286             5.428571    1.785714   \n",
       "1        0.536564  ...    7.259259             6.407407    2.333333   \n",
       "\n",
       "   T1_opponent_Blkmean  T1_PFmean  T1_opponent_PFmean  T1_win_ratio_14d  \\\n",
       "0             1.571429  18.750000           18.357143          0.333333   \n",
       "1             2.851852  19.851852           22.444444          0.333333   \n",
       "\n",
       "   T1_quality  T1_seed  T1_OrdinalRank  \n",
       "0   -0.070776      NaN        144.2875  \n",
       "1   -0.116192      NaN        182.2050  \n",
       "\n",
       "[2 rows x 35 columns]"
      ]
     },
     "metadata": {},
     "output_type": "display_data"
    },
    {
     "data": {
      "text/html": [
       "<div>\n",
       "<style scoped>\n",
       "    .dataframe tbody tr th:only-of-type {\n",
       "        vertical-align: middle;\n",
       "    }\n",
       "\n",
       "    .dataframe tbody tr th {\n",
       "        vertical-align: top;\n",
       "    }\n",
       "\n",
       "    .dataframe thead th {\n",
       "        text-align: right;\n",
       "    }\n",
       "</style>\n",
       "<table border=\"1\" class=\"dataframe\">\n",
       "  <thead>\n",
       "    <tr style=\"text-align: right;\">\n",
       "      <th></th>\n",
       "      <th>Season</th>\n",
       "      <th>T2_TeamID</th>\n",
       "      <th>T2_Scoremean</th>\n",
       "      <th>T2_opponent_Scoremean</th>\n",
       "      <th>T2_PointDiffmean</th>\n",
       "      <th>T2_FGMmean</th>\n",
       "      <th>T2_opponent_FGMmean</th>\n",
       "      <th>T2_FGAmean</th>\n",
       "      <th>T2_opponent_FGAmean</th>\n",
       "      <th>T2_EFG_SUMmean</th>\n",
       "      <th>...</th>\n",
       "      <th>T2_Stlmean</th>\n",
       "      <th>T2_opponent_Stlmean</th>\n",
       "      <th>T2_Blkmean</th>\n",
       "      <th>T2_opponent_Blkmean</th>\n",
       "      <th>T2_PFmean</th>\n",
       "      <th>T2_opponent_PFmean</th>\n",
       "      <th>T2_win_ratio_14d</th>\n",
       "      <th>T2_quality</th>\n",
       "      <th>T2_seed</th>\n",
       "      <th>T2_OrdinalRank</th>\n",
       "    </tr>\n",
       "  </thead>\n",
       "  <tbody>\n",
       "    <tr>\n",
       "      <th>9301</th>\n",
       "      <td>2019</td>\n",
       "      <td>3465</td>\n",
       "      <td>76.200000</td>\n",
       "      <td>69.840000</td>\n",
       "      <td>6.360000</td>\n",
       "      <td>28.560000</td>\n",
       "      <td>26.600000</td>\n",
       "      <td>67.520000</td>\n",
       "      <td>69.20000</td>\n",
       "      <td>0.493625</td>\n",
       "      <td>...</td>\n",
       "      <td>7.280000</td>\n",
       "      <td>7.920000</td>\n",
       "      <td>3.160000</td>\n",
       "      <td>3.160000</td>\n",
       "      <td>15.520000</td>\n",
       "      <td>15.440000</td>\n",
       "      <td>0.5</td>\n",
       "      <td>-0.182555</td>\n",
       "      <td>NaN</td>\n",
       "      <td>NaN</td>\n",
       "    </tr>\n",
       "    <tr>\n",
       "      <th>9302</th>\n",
       "      <td>2019</td>\n",
       "      <td>3466</td>\n",
       "      <td>69.521739</td>\n",
       "      <td>63.217391</td>\n",
       "      <td>6.304348</td>\n",
       "      <td>24.869565</td>\n",
       "      <td>23.913043</td>\n",
       "      <td>58.434783</td>\n",
       "      <td>58.26087</td>\n",
       "      <td>0.478102</td>\n",
       "      <td>...</td>\n",
       "      <td>8.478261</td>\n",
       "      <td>8.478261</td>\n",
       "      <td>3.695652</td>\n",
       "      <td>3.217391</td>\n",
       "      <td>17.478261</td>\n",
       "      <td>19.173913</td>\n",
       "      <td>0.0</td>\n",
       "      <td>0.107970</td>\n",
       "      <td>NaN</td>\n",
       "      <td>NaN</td>\n",
       "    </tr>\n",
       "  </tbody>\n",
       "</table>\n",
       "<p>2 rows × 35 columns</p>\n",
       "</div>"
      ],
      "text/plain": [
       "      Season  T2_TeamID  T2_Scoremean  T2_opponent_Scoremean  \\\n",
       "9301    2019       3465     76.200000              69.840000   \n",
       "9302    2019       3466     69.521739              63.217391   \n",
       "\n",
       "      T2_PointDiffmean  T2_FGMmean  T2_opponent_FGMmean  T2_FGAmean  \\\n",
       "9301          6.360000   28.560000            26.600000   67.520000   \n",
       "9302          6.304348   24.869565            23.913043   58.434783   \n",
       "\n",
       "      T2_opponent_FGAmean  T2_EFG_SUMmean  ...  T2_Stlmean  \\\n",
       "9301             69.20000        0.493625  ...    7.280000   \n",
       "9302             58.26087        0.478102  ...    8.478261   \n",
       "\n",
       "      T2_opponent_Stlmean  T2_Blkmean  T2_opponent_Blkmean  T2_PFmean  \\\n",
       "9301             7.920000    3.160000             3.160000  15.520000   \n",
       "9302             8.478261    3.695652             3.217391  17.478261   \n",
       "\n",
       "      T2_opponent_PFmean  T2_win_ratio_14d  T2_quality  T2_seed  \\\n",
       "9301           15.440000               0.5   -0.182555      NaN   \n",
       "9302           19.173913               0.0    0.107970      NaN   \n",
       "\n",
       "      T2_OrdinalRank  \n",
       "9301             NaN  \n",
       "9302             NaN  \n",
       "\n",
       "[2 rows x 35 columns]"
      ]
     },
     "metadata": {},
     "output_type": "display_data"
    }
   ],
   "source": [
    "flag_3season_avg = FEATURES.season_average.enabled\n",
    "\n",
    "#trueのときの処理理解してfalseと一致させる\n",
    "if flag_3season_avg:\n",
    "    print(\"#####\")\n",
    "    print(\"use 3 season average\")\n",
    "    print(\"#####\")\n",
    "    weight = FEATURES.season_average.weights\n",
    "    years = FEATURES.season_average.past_years\n",
    "    assert years==len(weight)\n",
    "    \n",
    "    features_for_calc = [\"T1_Scoremean\", \"T1_FGAmean\",  \"T1_FGA3mean\"]\n",
    "    season_statistics_with_3_seas = write_mean_of_3_seasons(\n",
    "        season_statistics, features_for_calc, weight, degree_weight=1.0\n",
    "    )\n",
    "    \n",
    "    season_statistics_T1 = season_statistics_with_3_seas.copy()\n",
    "    season_statistics_T2 = season_statistics_with_3_seas.copy()\n",
    "    \n",
    "else:\n",
    "    print(\"#####\")\n",
    "    print(\"skip 3 season verage\")\n",
    "    print(\"#####\")\n",
    "    season_statistics_T1 = season_statistics.copy()\n",
    "    season_statistics_T2 = season_statistics.copy()\n",
    "\n",
    "season_statistics_T1.columns = [\"T1_\" + x.replace(\"T1_\",\"\").replace(\"T2_\",\"opponent_\") for x in list(season_statistics_T1.columns)]\n",
    "season_statistics_T2.columns = [\"T2_\" + x.replace(\"T1_\",\"\").replace(\"T2_\",\"opponent_\") for x in list(season_statistics_T2.columns)]\n",
    "season_statistics_T1.columns.values[0] = \"Season\"\n",
    "season_statistics_T2.columns.values[0] = \"Season\"\n",
    "\n",
    "\n",
    "season_statistics_T2.rename(columns = {\n",
    "    \"T1_TeamID\": \"T2_TeamID\"\n",
    "}, inplace=True)\n",
    "display(season_statistics_T1.head(2), season_statistics_T2.tail(2))"
   ]
  },
  {
   "cell_type": "markdown",
   "id": "eff2f7a7",
   "metadata": {
    "papermill": {
     "duration": 0.0,
     "end_time": "2025-03-13T18:13:57.273428",
     "exception": false,
     "start_time": "2025-03-13T18:13:57.273428",
     "status": "completed"
    },
    "tags": []
   },
   "source": [
    "# Toureney dataの処理\n",
    "1. pointdiff, pointが目的変数となるのでそれはyに分離\n",
    "2. seasonstatisticを結合したものをXとして作る"
   ]
  },
  {
   "cell_type": "code",
   "execution_count": 13,
   "id": "4e26e1b7",
   "metadata": {
    "execution": {
     "iopub.execute_input": "2025-03-13T18:13:57.296725Z",
     "iopub.status.busy": "2025-03-13T18:13:57.296725Z",
     "iopub.status.idle": "2025-03-13T18:13:57.304263Z",
     "shell.execute_reply": "2025-03-13T18:13:57.304263Z"
    },
    "papermill": {
     "duration": 0.014788,
     "end_time": "2025-03-13T18:13:57.304263",
     "exception": false,
     "start_time": "2025-03-13T18:13:57.289475",
     "status": "completed"
    },
    "tags": []
   },
   "outputs": [],
   "source": [
    "\n",
    "def process_tourney(df1, mode=\"tourney\"):\n",
    "    #Season, teamid ->X, team_score->y\n",
    "    df = df1.copy()\n",
    "    if mode==\"tourney\":\n",
    "        df = prepare_data(df) \n",
    "        y = df[\"T1_Score\"]-df[\"T2_Score\"]\n",
    "    X = df[['Season', 'T1_TeamID', 'T2_TeamID']]\n",
    "    X = pd.merge(X, season_statistics_T1, on = ['Season', 'T1_TeamID'], how = 'left')\n",
    "    X = pd.merge(X, season_statistics_T2, on = ['Season', 'T2_TeamID'], how = 'left')\n",
    "    \n",
    "    #seed->seed diff\n",
    "    X[\"seed_diff\"] = X[\"T1_seed\"] - X[\"T2_seed\"]\n",
    "    #rank->rank diff\n",
    "    X[\"rank_diff\"] = X[\"T1_OrdinalRank\"] - X[\"T2_OrdinalRank\"]\n",
    "    #quality->quality diff\n",
    "    X[\"quality_diff\"] = X[\"T1_quality\"] - X[\"T2_quality\"]\n",
    "    #win_ratio_14d -> win_raio_14d_diff\n",
    "    X[\"win_ratio_14d_diff\"] = X[\"T1_win_ratio_14d\"] - X[\"T2_win_ratio_14d\"]\n",
    "    #tourney_data.drop(columns=[\"T1_seed\", \"T2_seed\"], inplace=True)\n",
    "\n",
    "    X = X.drop(columns=[\"T1_seed\", \"T2_seed\", \"T1_OrdinalRank\", \"T2_OrdinalRank\", \n",
    "                        \"T1_quality\", \"T2_quality\", \"T1_win_ratio_14d\", \"T2_win_ratio_14d\"\n",
    "                        ])\n",
    "\n",
    "    # if rank_diff is False, drop.\n",
    "    IS_RANKDIFF = FEATURES.rank_diff\n",
    "    if not IS_RANKDIFF:\n",
    "        X = X.drop(columns=[\"rank_diff\"])\n",
    "        print(\"drop rank_diff\")\n",
    "    \n",
    "    # if fillna is true-> run fillna()\n",
    "    FILLNA = FEATURES.fillna.quality\n",
    "    if FILLNA==\"nan\":\n",
    "        print(f\"no fillna, use nan\")\n",
    "        X[\"quality_diff\"] = X[\"quality_diff\"].fillna(np.nan)\n",
    "    else:\n",
    "        print(f\"fillna quality feature for {FILLNA}\")\n",
    "        X[\"quality_diff\"] = X[\"quality_diff\"].fillna(FILLNA)\n",
    "\n",
    "        \n",
    "    return X, y if mode==\"tourney\" else X"
   ]
  },
  {
   "cell_type": "code",
   "execution_count": 14,
   "id": "41ca8273",
   "metadata": {
    "execution": {
     "iopub.execute_input": "2025-03-13T18:13:57.309888Z",
     "iopub.status.busy": "2025-03-13T18:13:57.309888Z",
     "iopub.status.idle": "2025-03-13T18:13:57.372099Z",
     "shell.execute_reply": "2025-03-13T18:13:57.372099Z"
    },
    "papermill": {
     "duration": 0.062211,
     "end_time": "2025-03-13T18:13:57.372099",
     "exception": false,
     "start_time": "2025-03-13T18:13:57.309888",
     "status": "completed"
    },
    "tags": []
   },
   "outputs": [
    {
     "name": "stdout",
     "output_type": "stream",
     "text": [
      "<class 'pandas.core.frame.DataFrame'>\n",
      "Index: 1615 entries, 0 to 1948\n",
      "Data columns (total 56 columns):\n",
      " #   Column       Non-Null Count  Dtype  \n",
      "---  ------       --------------  -----  \n",
      " 0   Season       1615 non-null   int64  \n",
      " 1   DayNum       1615 non-null   int64  \n",
      " 2   WTeamID      1615 non-null   int64  \n",
      " 3   WScore       1615 non-null   int64  \n",
      " 4   LTeamID      1615 non-null   int64  \n",
      " 5   LScore       1615 non-null   int64  \n",
      " 6   WLoc         1615 non-null   object \n",
      " 7   NumOT        1615 non-null   int64  \n",
      " 8   WFGM         1615 non-null   int64  \n",
      " 9   WFGA         1615 non-null   int64  \n",
      " 10  WFGM3        1615 non-null   int64  \n",
      " 11  WFGA3        1615 non-null   int64  \n",
      " 12  WFTM         1615 non-null   int64  \n",
      " 13  WFTA         1615 non-null   int64  \n",
      " 14  WOR          1615 non-null   int64  \n",
      " 15  WDR          1615 non-null   int64  \n",
      " 16  WAst         1615 non-null   int64  \n",
      " 17  WTO          1615 non-null   int64  \n",
      " 18  WStl         1615 non-null   int64  \n",
      " 19  WBlk         1615 non-null   int64  \n",
      " 20  WPF          1615 non-null   int64  \n",
      " 21  LFGM         1615 non-null   int64  \n",
      " 22  LFGA         1615 non-null   int64  \n",
      " 23  LFGM3        1615 non-null   int64  \n",
      " 24  LFGA3        1615 non-null   int64  \n",
      " 25  LFTM         1615 non-null   int64  \n",
      " 26  LFTA         1615 non-null   int64  \n",
      " 27  LOR          1615 non-null   int64  \n",
      " 28  LDR          1615 non-null   int64  \n",
      " 29  LAst         1615 non-null   int64  \n",
      " 30  LTO          1615 non-null   int64  \n",
      " 31  LStl         1615 non-null   int64  \n",
      " 32  LBlk         1615 non-null   int64  \n",
      " 33  LPF          1615 non-null   int64  \n",
      " 34  WEFFG        1615 non-null   float64\n",
      " 35  LEFFG        1615 non-null   float64\n",
      " 36  WEFFG3       1615 non-null   float64\n",
      " 37  LEFFG3       1615 non-null   float64\n",
      " 38  WDARE        1615 non-null   float64\n",
      " 39  LDARE        1615 non-null   float64\n",
      " 40  WTOQUETOQUE  1615 non-null   float64\n",
      " 41  LTOQUETOQUE  1615 non-null   float64\n",
      " 42  WEFG_SUM     1615 non-null   float64\n",
      " 43  LEFG_SUM     1615 non-null   float64\n",
      " 44  WPOSS        1615 non-null   float64\n",
      " 45  LPOSS        1615 non-null   float64\n",
      " 46  WPOSS_RATE   1615 non-null   float64\n",
      " 47  LPOSS_RATE   1615 non-null   float64\n",
      " 48  WTO_RATIO    1615 non-null   float64\n",
      " 49  LTO_RATIO    1615 non-null   float64\n",
      " 50  WREB_RATE    1615 non-null   float64\n",
      " 51  LREB_RATE    1615 non-null   float64\n",
      " 52  WFT_RATE     1615 non-null   float64\n",
      " 53  LFT_RATE     1615 non-null   float64\n",
      " 54  WRATING      1615 non-null   float64\n",
      " 55  LRATING      1615 non-null   float64\n",
      "dtypes: float64(22), int64(33), object(1)\n",
      "memory usage: 719.2+ KB\n",
      "None\n"
     ]
    },
    {
     "name": "stdout",
     "output_type": "stream",
     "text": [
      "feature cols after prepare()\n",
      "Index(['Season', 'DayNum', 'T1_TeamID', 'T1_Score', 'T2_TeamID', 'T2_Score',\n",
      "       'location', 'NumOT', 'T1_FGM', 'T1_FGA', 'T1_FGM3', 'T1_FGA3', 'T1_FTM',\n",
      "       'T1_FTA', 'T1_OR', 'T1_DR', 'T1_Ast', 'T1_TO', 'T1_Stl', 'T1_Blk',\n",
      "       'T1_PF', 'T2_FGM', 'T2_FGA', 'T2_FGM3', 'T2_FGA3', 'T2_FTM', 'T2_FTA',\n",
      "       'T2_OR', 'T2_DR', 'T2_Ast', 'T2_TO', 'T2_Stl', 'T2_Blk', 'T2_PF',\n",
      "       'T1_EFFG', 'T2_EFFG', 'T1_EFFG3', 'T2_EFFG3', 'T1_DARE', 'T2_DARE',\n",
      "       'T1_TOQUETOQUE', 'T2_TOQUETOQUE', 'T1_EFG_SUM', 'T2_EFG_SUM', 'T1_POSS',\n",
      "       'T2_POSS', 'T1_POSS_RATE', 'T2_POSS_RATE', 'T1_TO_RATIO', 'T2_TO_RATIO',\n",
      "       'T1_REB_RATE', 'T2_REB_RATE', 'T1_FT_RATE', 'T2_FT_RATE', 'T1_RATING',\n",
      "       'T2_RATING', 'PointDiff', 'win'],\n",
      "      dtype='object')\n"
     ]
    },
    {
     "name": "stdout",
     "output_type": "stream",
     "text": [
      "no fillna, use nan\n"
     ]
    }
   ],
   "source": [
    "X, y = process_tourney(tourney_results)"
   ]
  },
  {
   "cell_type": "code",
   "execution_count": 15,
   "id": "36447737",
   "metadata": {
    "execution": {
     "iopub.execute_input": "2025-03-13T18:13:57.375638Z",
     "iopub.status.busy": "2025-03-13T18:13:57.375638Z",
     "iopub.status.idle": "2025-03-13T18:13:57.397261Z",
     "shell.execute_reply": "2025-03-13T18:13:57.397261Z"
    },
    "papermill": {
     "duration": 0.022639,
     "end_time": "2025-03-13T18:13:57.398277",
     "exception": false,
     "start_time": "2025-03-13T18:13:57.375638",
     "status": "completed"
    },
    "tags": []
   },
   "outputs": [
    {
     "name": "stdout",
     "output_type": "stream",
     "text": [
      "drop col list: ['T1_opponent_Blkmean', 'T2_opponent_Blkmean', 'T1_TOmean', 'T2_TOmean', 'T1_opponent_Astmean', 'T2_opponent_Astmean', 'T1_opponent_FT_RATEmean', 'T2_opponent_FT_RATEmean']\n"
     ]
    }
   ],
   "source": [
    "#opponentなど明示的に特徴量選出に基づいて落とす\n",
    "def drop_columns(df, cols):\n",
    "    if not cols: return df\n",
    "    existing_cols = [col for col in cols if col in df.columns]\n",
    "    print(f\"drop col list: {existing_cols}\")\n",
    "    return df.drop(columns=existing_cols)\n",
    "\n",
    "drop_col = FEATURES.dropfeatures\n",
    "X = drop_columns(X, drop_col)"
   ]
  },
  {
   "cell_type": "code",
   "execution_count": 16,
   "id": "9f4c31f8",
   "metadata": {
    "execution": {
     "iopub.execute_input": "2025-03-13T18:13:57.410287Z",
     "iopub.status.busy": "2025-03-13T18:13:57.410287Z",
     "iopub.status.idle": "2025-03-13T18:13:57.418293Z",
     "shell.execute_reply": "2025-03-13T18:13:57.418293Z"
    },
    "papermill": {
     "duration": 0.01545,
     "end_time": "2025-03-13T18:13:57.418293",
     "exception": false,
     "start_time": "2025-03-13T18:13:57.402843",
     "status": "completed"
    },
    "tags": []
   },
   "outputs": [
    {
     "name": "stdout",
     "output_type": "stream",
     "text": [
      "最終的な X の特徴量\n",
      "Index(['Season', 'T1_TeamID', 'T2_TeamID', 'T1_Scoremean',\n",
      "       'T1_opponent_Scoremean', 'T1_PointDiffmean', 'T1_FGMmean',\n",
      "       'T1_opponent_FGMmean', 'T1_FGAmean', 'T1_opponent_FGAmean',\n",
      "       'T1_EFG_SUMmean', 'T1_opponent_EFG_SUMmean', 'T1_TO_RATIOmean',\n",
      "       'T1_opponent_TO_RATIOmean', 'T1_ORmean', 'T1_opponent_ORmean',\n",
      "       'T1_DRmean', 'T1_opponent_DRmean', 'T1_REB_RATEmean',\n",
      "       'T1_opponent_REB_RATEmean', 'T1_FT_RATEmean', 'T1_Astmean',\n",
      "       'T1_opponent_TOmean', 'T1_Stlmean', 'T1_opponent_Stlmean', 'T1_Blkmean',\n",
      "       'T1_PFmean', 'T1_opponent_PFmean', 'T2_Scoremean',\n",
      "       'T2_opponent_Scoremean', 'T2_PointDiffmean', 'T2_FGMmean',\n",
      "       'T2_opponent_FGMmean', 'T2_FGAmean', 'T2_opponent_FGAmean',\n",
      "       'T2_EFG_SUMmean', 'T2_opponent_EFG_SUMmean', 'T2_TO_RATIOmean',\n",
      "       'T2_opponent_TO_RATIOmean', 'T2_ORmean', 'T2_opponent_ORmean',\n",
      "       'T2_DRmean', 'T2_opponent_DRmean', 'T2_REB_RATEmean',\n",
      "       'T2_opponent_REB_RATEmean', 'T2_FT_RATEmean', 'T2_Astmean',\n",
      "       'T2_opponent_TOmean', 'T2_Stlmean', 'T2_opponent_Stlmean', 'T2_Blkmean',\n",
      "       'T2_PFmean', 'T2_opponent_PFmean', 'seed_diff', 'rank_diff',\n",
      "       'quality_diff', 'win_ratio_14d_diff'],\n",
      "      dtype='object')\n"
     ]
    }
   ],
   "source": [
    "print(\"最終的な X の特徴量\")\n",
    "print(X.columns)"
   ]
  },
  {
   "cell_type": "code",
   "execution_count": 17,
   "id": "338c0aae",
   "metadata": {
    "execution": {
     "iopub.execute_input": "2025-03-13T18:13:57.426478Z",
     "iopub.status.busy": "2025-03-13T18:13:57.426478Z",
     "iopub.status.idle": "2025-03-13T18:13:57.444924Z",
     "shell.execute_reply": "2025-03-13T18:13:57.444924Z"
    },
    "papermill": {
     "duration": 0.018446,
     "end_time": "2025-03-13T18:13:57.444924",
     "exception": false,
     "start_time": "2025-03-13T18:13:57.426478",
     "status": "completed"
    },
    "tags": []
   },
   "outputs": [
    {
     "name": "stdout",
     "output_type": "stream",
     "text": [
      "<class 'pandas.core.frame.DataFrame'>\n",
      "RangeIndex: 3230 entries, 0 to 3229\n",
      "Data columns (total 57 columns):\n",
      " #   Column                    Non-Null Count  Dtype  \n",
      "---  ------                    --------------  -----  \n",
      " 0   Season                    3230 non-null   int64  \n",
      " 1   T1_TeamID                 3230 non-null   int64  \n",
      " 2   T2_TeamID                 3230 non-null   int64  \n",
      " 3   T1_Scoremean              3230 non-null   float64\n",
      " 4   T1_opponent_Scoremean     3230 non-null   float64\n",
      " 5   T1_PointDiffmean          3230 non-null   float64\n",
      " 6   T1_FGMmean                3230 non-null   float64\n",
      " 7   T1_opponent_FGMmean       3230 non-null   float64\n",
      " 8   T1_FGAmean                3230 non-null   float64\n",
      " 9   T1_opponent_FGAmean       3230 non-null   float64\n",
      " 10  T1_EFG_SUMmean            3230 non-null   float64\n",
      " 11  T1_opponent_EFG_SUMmean   3230 non-null   float64\n",
      " 12  T1_TO_RATIOmean           3230 non-null   float64\n",
      " 13  T1_opponent_TO_RATIOmean  3230 non-null   float64\n",
      " 14  T1_ORmean                 3230 non-null   float64\n",
      " 15  T1_opponent_ORmean        3230 non-null   float64\n",
      " 16  T1_DRmean                 3230 non-null   float64\n",
      " 17  T1_opponent_DRmean        3230 non-null   float64\n",
      " 18  T1_REB_RATEmean           3230 non-null   float64\n",
      " 19  T1_opponent_REB_RATEmean  3230 non-null   float64\n",
      " 20  T1_FT_RATEmean            3230 non-null   float64\n",
      " 21  T1_Astmean                3230 non-null   float64\n",
      " 22  T1_opponent_TOmean        3230 non-null   float64\n",
      " 23  T1_Stlmean                3230 non-null   float64\n",
      " 24  T1_opponent_Stlmean       3230 non-null   float64\n",
      " 25  T1_Blkmean                3230 non-null   float64\n",
      " 26  T1_PFmean                 3230 non-null   float64\n",
      " 27  T1_opponent_PFmean        3230 non-null   float64\n",
      " 28  T2_Scoremean              3230 non-null   float64\n",
      " 29  T2_opponent_Scoremean     3230 non-null   float64\n",
      " 30  T2_PointDiffmean          3230 non-null   float64\n",
      " 31  T2_FGMmean                3230 non-null   float64\n",
      " 32  T2_opponent_FGMmean       3230 non-null   float64\n",
      " 33  T2_FGAmean                3230 non-null   float64\n",
      " 34  T2_opponent_FGAmean       3230 non-null   float64\n",
      " 35  T2_EFG_SUMmean            3230 non-null   float64\n",
      " 36  T2_opponent_EFG_SUMmean   3230 non-null   float64\n",
      " 37  T2_TO_RATIOmean           3230 non-null   float64\n",
      " 38  T2_opponent_TO_RATIOmean  3230 non-null   float64\n",
      " 39  T2_ORmean                 3230 non-null   float64\n",
      " 40  T2_opponent_ORmean        3230 non-null   float64\n",
      " 41  T2_DRmean                 3230 non-null   float64\n",
      " 42  T2_opponent_DRmean        3230 non-null   float64\n",
      " 43  T2_REB_RATEmean           3230 non-null   float64\n",
      " 44  T2_opponent_REB_RATEmean  3230 non-null   float64\n",
      " 45  T2_FT_RATEmean            3230 non-null   float64\n",
      " 46  T2_Astmean                3230 non-null   float64\n",
      " 47  T2_opponent_TOmean        3230 non-null   float64\n",
      " 48  T2_Stlmean                3230 non-null   float64\n",
      " 49  T2_opponent_Stlmean       3230 non-null   float64\n",
      " 50  T2_Blkmean                3230 non-null   float64\n",
      " 51  T2_PFmean                 3230 non-null   float64\n",
      " 52  T2_opponent_PFmean        3230 non-null   float64\n",
      " 53  seed_diff                 3230 non-null   float64\n",
      " 54  rank_diff                 2096 non-null   float64\n",
      " 55  quality_diff              3230 non-null   float64\n",
      " 56  win_ratio_14d_diff        3230 non-null   float64\n",
      "dtypes: float64(54), int64(3)\n",
      "memory usage: 1.4 MB\n"
     ]
    }
   ],
   "source": [
    "X.info()"
   ]
  },
  {
   "cell_type": "markdown",
   "id": "483fd4cd",
   "metadata": {
    "papermill": {
     "duration": 0.013797,
     "end_time": "2025-03-13T18:13:57.458721",
     "exception": false,
     "start_time": "2025-03-13T18:13:57.444924",
     "status": "completed"
    },
    "tags": []
   },
   "source": [
    "# build models"
   ]
  },
  {
   "cell_type": "code",
   "execution_count": 18,
   "id": "7b3be871",
   "metadata": {
    "execution": {
     "iopub.execute_input": "2025-03-13T18:13:57.474520Z",
     "iopub.status.busy": "2025-03-13T18:13:57.474520Z",
     "iopub.status.idle": "2025-03-13T18:13:57.495007Z",
     "shell.execute_reply": "2025-03-13T18:13:57.495007Z"
    },
    "papermill": {
     "duration": 0.038301,
     "end_time": "2025-03-13T18:13:57.497022",
     "exception": false,
     "start_time": "2025-03-13T18:13:57.458721",
     "status": "completed"
    },
    "tags": []
   },
   "outputs": [],
   "source": [
    "\n",
    "val_mae = []\n",
    "iteration_counts = []\n",
    "xgb_cv = []\n",
    "dtrain = xgb.DMatrix(X, label=y)\n",
    "\n",
    "repeat_cv = MODEL.repeat_cv\n",
    "param = dict(MODEL.xgb_model.param)\n",
    "num_boost_round = MODEL.xgb_model.num_boost_round\n",
    "folds_splits = MODEL.xgb_model.folds_splits\n",
    "early_stopping_rounds = MODEL.xgb_model.early_stopping_rounds\n",
    "\n",
    "# コーシー損失関数\n",
    "def cauchyobj(preds, dtrain):\n",
    "    labels = dtrain.get_label()\n",
    "    c = 5000\n",
    "    x = preds - labels    \n",
    "    grad = x / (x**2/c**2 + 1)\n",
    "    hess = -c**2 * (x**2 - c**2) / (x**2 + c**2)**2\n",
    "    return grad, hess"
   ]
  },
  {
   "cell_type": "code",
   "execution_count": 19,
   "id": "9fd68fdb",
   "metadata": {
    "execution": {
     "iopub.execute_input": "2025-03-13T18:13:57.520666Z",
     "iopub.status.busy": "2025-03-13T18:13:57.518661Z",
     "iopub.status.idle": "2025-03-13T18:13:57.532608Z",
     "shell.execute_reply": "2025-03-13T18:13:57.532608Z"
    },
    "papermill": {
     "duration": 0.025562,
     "end_time": "2025-03-13T18:13:57.532608",
     "exception": false,
     "start_time": "2025-03-13T18:13:57.507046",
     "status": "completed"
    },
    "tags": []
   },
   "outputs": [],
   "source": [
    "#########################################\n",
    "# 1. Optunaあり：ハイパーパラメータ最適化 #\n",
    "#########################################\n",
    "def run_optuna_optimization(param, optuna_conf):\n",
    "    def objective(trial):  \n",
    "        logger.info(f\"Trial {trial.number} 開始\")\n",
    "        \n",
    "        current_param = param.copy()  \n",
    "        max_depth_range = optuna_conf.max_depth        \n",
    "        eta_range = optuna_conf.eta\n",
    "        subsample_range = optuna_conf.subsample          \n",
    "        colsample_bytree_range = optuna_conf.colsample_bytree\n",
    "        num_parallel_tree_range = optuna_conf.num_parallel_tree \n",
    "        min_child_weight_range = optuna_conf.min_child_weight \n",
    "        reg_alpha_range = optuna_conf.reg_alpha         \n",
    "        reg_lambda_range = optuna_conf.reg_lambda    \n",
    "        reg_gamma_range = optuna_conf.gamma  \n",
    "\n",
    "        current_param[\"max_depth\"] = trial.suggest_int(\"max_depth\", max_depth_range[0], max_depth_range[1])\n",
    "        current_param[\"eta\"] = trial.suggest_float(\"eta\", eta_range[0], eta_range[1], log=True)\n",
    "        current_param[\"subsample\"] = trial.suggest_float(\"subsample\", subsample_range[0], subsample_range[1])\n",
    "        current_param[\"colsample_bytree\"] = trial.suggest_float(\"colsample_bytree\", colsample_bytree_range[0], colsample_bytree_range[1])\n",
    "        current_param[\"num_parallel_tree\"] = trial.suggest_int(\"num_parallel_tree\", num_parallel_tree_range[0], num_parallel_tree_range[1])\n",
    "        current_param[\"min_child_weight\"] = trial.suggest_int(\"min_child_weight\", min_child_weight_range[0], min_child_weight_range[1])\n",
    "        current_param[\"reg_alpha\"] = trial.suggest_float(\"reg_alpha\", reg_alpha_range[0], reg_alpha_range[1])\n",
    "        current_param[\"reg_lambda\"] = trial.suggest_float(\"reg_lambda\", reg_lambda_range[0], reg_lambda_range[1])\n",
    "        current_param[\"gamma\"] = trial.suggest_float(\"gamma\", reg_gamma_range[0], reg_gamma_range[1])\n",
    "        \n",
    "        if current_param.get(\"eval_metric\", \"mae\") == \"rmse\":\n",
    "            score_name = \"test-rmse-mean\"\n",
    "        elif current_param.get(\"eval_metric\", \"mae\") == \"mae\":\n",
    "            score_name = \"test-mae-mean\"\n",
    "        elif  current_param.get(\"eval_metric\", \"mae\") == \"logloss\":\n",
    "            score_name = \"test-logloss-mean\"\n",
    "        \n",
    "        print(current_param)  \n",
    "        cv_scores = []\n",
    "        for i in range(repeat_cv):\n",
    "            cv_result = xgb.cv(\n",
    "                params=current_param,\n",
    "                dtrain=dtrain,\n",
    "                obj=cauchyobj,\n",
    "                num_boost_round=num_boost_round,\n",
    "                folds=KFold(n_splits=folds_splits, shuffle=True, random_state=i),\n",
    "                early_stopping_rounds=early_stopping_rounds,\n",
    "                verbose_eval=False\n",
    "            )\n",
    "            fold_score = np.min(cv_result[score_name].values)\n",
    "            cv_scores.append(fold_score)\n",
    "        mean_score = np.mean(cv_scores)\n",
    "        logger.info(f\"Trial {trial.number} 終了: スコア {mean_score}\")\n",
    "        \n",
    "        return mean_score\n",
    "\n",
    "    logger.info(\"Optuna最適化開始\")\n",
    "    N_WARMUP_STEPS = optuna_conf.n_warmup_steps\n",
    "    TIMEOUT = optuna_conf.timeout\n",
    "    N_JOBS = optuna_conf.n_jobs\n",
    "    N_TRIALS = optuna_conf.n_trials\n",
    "    \n",
    "    sampler = optuna.samplers.TPESampler(seed=42)\n",
    "    pruner = optuna.pruners.MedianPruner(n_warmup_steps=N_WARMUP_STEPS)\n",
    "\n",
    "    study = optuna.create_study(direction=\"minimize\", sampler=sampler, pruner=pruner)\n",
    "    study.optimize(objective, n_trials=N_TRIALS, timeout=TIMEOUT, n_jobs=N_JOBS)\n",
    "\n",
    "    best_trial = study.best_trial\n",
    "    logger.info(\"Best trial:\")\n",
    "    logger.info(f\"  Value: {best_trial.value}\")\n",
    "    \n",
    "    for key, value in best_trial.params.items():\n",
    "        print(f\"    {key}: {value}\")\n",
    "    param.update(best_trial.params)\n",
    "\n",
    "    logger.info(\"Optuna最適化終了\")\n",
    "    return param"
   ]
  },
  {
   "cell_type": "code",
   "execution_count": 20,
   "id": "21f97369",
   "metadata": {
    "execution": {
     "iopub.execute_input": "2025-03-13T18:13:57.554880Z",
     "iopub.status.busy": "2025-03-13T18:13:57.554880Z",
     "iopub.status.idle": "2025-03-13T18:13:57.563829Z",
     "shell.execute_reply": "2025-03-13T18:13:57.563829Z"
    },
    "papermill": {
     "duration": 0.018966,
     "end_time": "2025-03-13T18:13:57.563829",
     "exception": false,
     "start_time": "2025-03-13T18:13:57.544863",
     "status": "completed"
    },
    "tags": []
   },
   "outputs": [
    {
     "name": "stdout",
     "output_type": "stream",
     "text": [
      "not use Optuna, use xgb_model.param\n",
      "param: {'eval_metric': 'rmse', 'booster': 'gbtree', 'eta': 0.02, 'subsample': 0.35, 'colsample_bytree': 0.7, 'num_parallel_tree': 10, 'min_child_weight': 40, 'gamma': 10, 'max_depth': 3}\n",
      "repeat_cv: 10\n",
      "num_boost_round: 3000\n",
      "folds_splits: 5\n",
      "early_stopping_rounds: 25\n"
     ]
    }
   ],
   "source": [
    "IS_OPTUNA = MODEL.optuna_enabled\n",
    "if IS_OPTUNA:\n",
    "    print(\"Optuna use mode\") \n",
    "    optuna_conf = MODEL.xgb_model.optuna\n",
    "    logger.add(os.path.join(OUTPUT_PATH, \"results.log\"), format=\"{time:YYYY-MM-DD at HH:mm:ss} - {level} - {message}\", level=\"INFO\")\n",
    "    param = run_optuna_optimization(param, optuna_conf)\n",
    "    print(\"param updated by optuna\")\n",
    "    results+= [\"param set after optuna is below\", f\"{param}\", \"\"]\n",
    "else:    \n",
    "    print(\"not use Optuna, use xgb_model.param\")\n",
    "\n",
    "\n",
    "\n",
    "print(\"param:\", param)\n",
    "print(\"repeat_cv:\", repeat_cv)\n",
    "print(\"num_boost_round:\", num_boost_round)\n",
    "print(\"folds_splits:\", folds_splits)\n",
    "print(\"early_stopping_rounds:\", early_stopping_rounds)"
   ]
  },
  {
   "cell_type": "code",
   "execution_count": 21,
   "id": "d025f912",
   "metadata": {
    "execution": {
     "iopub.execute_input": "2025-03-13T18:13:57.587891Z",
     "iopub.status.busy": "2025-03-13T18:13:57.587891Z",
     "iopub.status.idle": "2025-03-13T18:18:09.593906Z",
     "shell.execute_reply": "2025-03-13T18:18:09.593906Z"
    },
    "papermill": {
     "duration": 252.018045,
     "end_time": "2025-03-13T18:18:09.593906",
     "exception": false,
     "start_time": "2025-03-13T18:13:57.575861",
     "status": "completed"
    },
    "tags": []
   },
   "outputs": [
    {
     "name": "stderr",
     "output_type": "stream",
     "text": [
      "\r",
      "  0%|                                                                                                                                                            | 0/10 [00:00<?, ?it/s]"
     ]
    },
    {
     "name": "stdout",
     "output_type": "stream",
     "text": [
      "[0]\ttrain-rmse:17.10046+0.03244\ttest-rmse:17.10418+0.13414\n"
     ]
    },
    {
     "name": "stdout",
     "output_type": "stream",
     "text": [
      "[50]\ttrain-rmse:13.07651+0.05099\ttest-rmse:13.27940+0.17709\n"
     ]
    },
    {
     "name": "stdout",
     "output_type": "stream",
     "text": [
      "[100]\ttrain-rmse:11.98565+0.04885\ttest-rmse:12.35907+0.18566\n"
     ]
    },
    {
     "name": "stdout",
     "output_type": "stream",
     "text": [
      "[150]\ttrain-rmse:11.56588+0.04526\ttest-rmse:12.09220+0.18006\n"
     ]
    },
    {
     "name": "stdout",
     "output_type": "stream",
     "text": [
      "[200]\ttrain-rmse:11.30757+0.04545\ttest-rmse:11.97775+0.18247\n"
     ]
    },
    {
     "name": "stdout",
     "output_type": "stream",
     "text": [
      "[250]\ttrain-rmse:11.11045+0.04447\ttest-rmse:11.92075+0.18095\n"
     ]
    },
    {
     "name": "stdout",
     "output_type": "stream",
     "text": [
      "[300]\ttrain-rmse:10.94526+0.04391\ttest-rmse:11.88707+0.18103\n"
     ]
    },
    {
     "name": "stdout",
     "output_type": "stream",
     "text": [
      "[350]\ttrain-rmse:10.79541+0.04270\ttest-rmse:11.87124+0.18085\n"
     ]
    },
    {
     "name": "stdout",
     "output_type": "stream",
     "text": [
      "[400]\ttrain-rmse:10.65853+0.04254\ttest-rmse:11.85717+0.18014\n"
     ]
    },
    {
     "name": "stdout",
     "output_type": "stream",
     "text": [
      "[450]\ttrain-rmse:10.53135+0.04197\ttest-rmse:11.85357+0.17856\n"
     ]
    },
    {
     "name": "stdout",
     "output_type": "stream",
     "text": [
      "[500]\ttrain-rmse:10.41033+0.04104\ttest-rmse:11.85119+0.18060\n"
     ]
    },
    {
     "name": "stdout",
     "output_type": "stream",
     "text": [
      "[515]\ttrain-rmse:10.37538+0.04047\ttest-rmse:11.85216+0.18147\n"
     ]
    },
    {
     "name": "stderr",
     "output_type": "stream",
     "text": [
      "\r",
      " 10%|██████████████▊                                                                                                                                     | 1/10 [00:21<03:16, 21.79s/it]"
     ]
    },
    {
     "name": "stdout",
     "output_type": "stream",
     "text": [
      "[0]\ttrain-rmse:17.09874+0.15441\ttest-rmse:17.09245+0.62877\n"
     ]
    },
    {
     "name": "stdout",
     "output_type": "stream",
     "text": [
      "[50]\ttrain-rmse:13.07654+0.10459\ttest-rmse:13.26429+0.50510\n"
     ]
    },
    {
     "name": "stdout",
     "output_type": "stream",
     "text": [
      "[100]\ttrain-rmse:11.99105+0.10162\ttest-rmse:12.34677+0.44063\n"
     ]
    },
    {
     "name": "stdout",
     "output_type": "stream",
     "text": [
      "[150]\ttrain-rmse:11.57099+0.10204\ttest-rmse:12.07098+0.41585\n"
     ]
    },
    {
     "name": "stdout",
     "output_type": "stream",
     "text": [
      "[200]\ttrain-rmse:11.31392+0.10140\ttest-rmse:11.95462+0.40847\n"
     ]
    },
    {
     "name": "stdout",
     "output_type": "stream",
     "text": [
      "[250]\ttrain-rmse:11.11697+0.10083\ttest-rmse:11.89370+0.40321\n"
     ]
    },
    {
     "name": "stdout",
     "output_type": "stream",
     "text": [
      "[300]\ttrain-rmse:10.94991+0.10025\ttest-rmse:11.86185+0.40071\n"
     ]
    },
    {
     "name": "stdout",
     "output_type": "stream",
     "text": [
      "[350]\ttrain-rmse:10.80309+0.09969\ttest-rmse:11.84683+0.40120\n"
     ]
    },
    {
     "name": "stdout",
     "output_type": "stream",
     "text": [
      "[400]\ttrain-rmse:10.66660+0.10019\ttest-rmse:11.83276+0.39860\n"
     ]
    },
    {
     "name": "stdout",
     "output_type": "stream",
     "text": [
      "[450]\ttrain-rmse:10.54057+0.10001\ttest-rmse:11.82491+0.39711\n"
     ]
    },
    {
     "name": "stdout",
     "output_type": "stream",
     "text": [
      "[500]\ttrain-rmse:10.42089+0.10012\ttest-rmse:11.82152+0.39652\n"
     ]
    },
    {
     "name": "stdout",
     "output_type": "stream",
     "text": [
      "[550]\ttrain-rmse:10.30868+0.09918\ttest-rmse:11.81884+0.39071\n"
     ]
    },
    {
     "name": "stdout",
     "output_type": "stream",
     "text": [
      "[588]\ttrain-rmse:10.22454+0.09768\ttest-rmse:11.81977+0.39207\n"
     ]
    },
    {
     "name": "stderr",
     "output_type": "stream",
     "text": [
      "\r",
      " 20%|█████████████████████████████▌                                                                                                                      | 2/10 [00:47<03:13, 24.19s/it]"
     ]
    },
    {
     "name": "stdout",
     "output_type": "stream",
     "text": [
      "[0]\ttrain-rmse:17.10098+0.11902\ttest-rmse:17.09784+0.49275\n"
     ]
    },
    {
     "name": "stdout",
     "output_type": "stream",
     "text": [
      "[50]\ttrain-rmse:13.08116+0.07303\ttest-rmse:13.24925+0.35905\n"
     ]
    },
    {
     "name": "stdout",
     "output_type": "stream",
     "text": [
      "[100]\ttrain-rmse:11.99398+0.06393\ttest-rmse:12.32291+0.31081\n"
     ]
    },
    {
     "name": "stdout",
     "output_type": "stream",
     "text": [
      "[150]\ttrain-rmse:11.57401+0.06393\ttest-rmse:12.04544+0.29732\n"
     ]
    },
    {
     "name": "stdout",
     "output_type": "stream",
     "text": [
      "[200]\ttrain-rmse:11.31584+0.06499\ttest-rmse:11.92943+0.29456\n"
     ]
    },
    {
     "name": "stdout",
     "output_type": "stream",
     "text": [
      "[250]\ttrain-rmse:11.11727+0.06312\ttest-rmse:11.86941+0.29291\n"
     ]
    },
    {
     "name": "stdout",
     "output_type": "stream",
     "text": [
      "[300]\ttrain-rmse:10.94928+0.06204\ttest-rmse:11.83656+0.28689\n"
     ]
    },
    {
     "name": "stdout",
     "output_type": "stream",
     "text": [
      "[350]\ttrain-rmse:10.80212+0.06344\ttest-rmse:11.81753+0.28334\n"
     ]
    },
    {
     "name": "stdout",
     "output_type": "stream",
     "text": [
      "[400]\ttrain-rmse:10.66687+0.06290\ttest-rmse:11.80919+0.28127\n"
     ]
    },
    {
     "name": "stdout",
     "output_type": "stream",
     "text": [
      "[450]\ttrain-rmse:10.54022+0.06306\ttest-rmse:11.80322+0.27729\n"
     ]
    },
    {
     "name": "stdout",
     "output_type": "stream",
     "text": [
      "[500]\ttrain-rmse:10.42081+0.06274\ttest-rmse:11.80087+0.27295\n"
     ]
    },
    {
     "name": "stdout",
     "output_type": "stream",
     "text": [
      "[517]\ttrain-rmse:10.38103+0.06388\ttest-rmse:11.80098+0.27292\n"
     ]
    },
    {
     "name": "stderr",
     "output_type": "stream",
     "text": [
      "\r",
      " 30%|████████████████████████████████████████████▍                                                                                                       | 3/10 [01:11<02:48, 24.04s/it]"
     ]
    },
    {
     "name": "stdout",
     "output_type": "stream",
     "text": [
      "[0]\ttrain-rmse:17.09935+0.07574\ttest-rmse:17.10038+0.30584\n"
     ]
    },
    {
     "name": "stdout",
     "output_type": "stream",
     "text": [
      "[50]\ttrain-rmse:13.07621+0.04756\ttest-rmse:13.24653+0.29562\n"
     ]
    },
    {
     "name": "stdout",
     "output_type": "stream",
     "text": [
      "[100]\ttrain-rmse:11.99317+0.05315\ttest-rmse:12.32039+0.24409\n"
     ]
    },
    {
     "name": "stdout",
     "output_type": "stream",
     "text": [
      "[150]\ttrain-rmse:11.57456+0.05838\ttest-rmse:12.04094+0.22185\n"
     ]
    },
    {
     "name": "stdout",
     "output_type": "stream",
     "text": [
      "[200]\ttrain-rmse:11.31652+0.06052\ttest-rmse:11.92470+0.21773\n"
     ]
    },
    {
     "name": "stdout",
     "output_type": "stream",
     "text": [
      "[250]\ttrain-rmse:11.12122+0.06215\ttest-rmse:11.86241+0.22324\n"
     ]
    },
    {
     "name": "stdout",
     "output_type": "stream",
     "text": [
      "[300]\ttrain-rmse:10.95482+0.06402\ttest-rmse:11.82835+0.22851\n"
     ]
    },
    {
     "name": "stdout",
     "output_type": "stream",
     "text": [
      "[350]\ttrain-rmse:10.80668+0.06611\ttest-rmse:11.81172+0.23544\n"
     ]
    },
    {
     "name": "stdout",
     "output_type": "stream",
     "text": [
      "[400]\ttrain-rmse:10.67180+0.06826\ttest-rmse:11.80122+0.24182\n"
     ]
    },
    {
     "name": "stdout",
     "output_type": "stream",
     "text": [
      "[450]\ttrain-rmse:10.54499+0.06833\ttest-rmse:11.79409+0.24678\n"
     ]
    },
    {
     "name": "stdout",
     "output_type": "stream",
     "text": [
      "[500]\ttrain-rmse:10.42634+0.06985\ttest-rmse:11.79069+0.25154\n"
     ]
    },
    {
     "name": "stdout",
     "output_type": "stream",
     "text": [
      "[550]\ttrain-rmse:10.31178+0.07109\ttest-rmse:11.78832+0.25647\n"
     ]
    },
    {
     "name": "stdout",
     "output_type": "stream",
     "text": [
      "[600]\ttrain-rmse:10.20455+0.07249\ttest-rmse:11.78758+0.25821\n"
     ]
    },
    {
     "name": "stdout",
     "output_type": "stream",
     "text": [
      "[619]\ttrain-rmse:10.16479+0.07119\ttest-rmse:11.78827+0.26215\n"
     ]
    },
    {
     "name": "stderr",
     "output_type": "stream",
     "text": [
      "\r",
      " 40%|███████████████████████████████████████████████████████████▏                                                                                        | 4/10 [01:40<02:35, 25.98s/it]"
     ]
    },
    {
     "name": "stdout",
     "output_type": "stream",
     "text": [
      "[0]\ttrain-rmse:17.09792+0.08437\ttest-rmse:17.09929+0.33618\n"
     ]
    },
    {
     "name": "stdout",
     "output_type": "stream",
     "text": [
      "[50]\ttrain-rmse:13.07832+0.10187\ttest-rmse:13.26620+0.47729\n"
     ]
    },
    {
     "name": "stdout",
     "output_type": "stream",
     "text": [
      "[100]\ttrain-rmse:11.98867+0.09917\ttest-rmse:12.34012+0.46778\n"
     ]
    },
    {
     "name": "stdout",
     "output_type": "stream",
     "text": [
      "[150]\ttrain-rmse:11.57384+0.09957\ttest-rmse:12.06784+0.45083\n"
     ]
    },
    {
     "name": "stdout",
     "output_type": "stream",
     "text": [
      "[200]\ttrain-rmse:11.31727+0.09813\ttest-rmse:11.95343+0.43875\n"
     ]
    },
    {
     "name": "stdout",
     "output_type": "stream",
     "text": [
      "[250]\ttrain-rmse:11.11892+0.09827\ttest-rmse:11.89354+0.42816\n"
     ]
    },
    {
     "name": "stdout",
     "output_type": "stream",
     "text": [
      "[300]\ttrain-rmse:10.95474+0.09593\ttest-rmse:11.86072+0.41700\n"
     ]
    },
    {
     "name": "stdout",
     "output_type": "stream",
     "text": [
      "[350]\ttrain-rmse:10.80511+0.09482\ttest-rmse:11.83862+0.40888\n"
     ]
    },
    {
     "name": "stdout",
     "output_type": "stream",
     "text": [
      "[400]\ttrain-rmse:10.67000+0.09559\ttest-rmse:11.82666+0.40069\n"
     ]
    },
    {
     "name": "stdout",
     "output_type": "stream",
     "text": [
      "[450]\ttrain-rmse:10.54471+0.09666\ttest-rmse:11.82231+0.39826\n"
     ]
    },
    {
     "name": "stdout",
     "output_type": "stream",
     "text": [
      "[500]\ttrain-rmse:10.42669+0.09614\ttest-rmse:11.82007+0.39242\n"
     ]
    },
    {
     "name": "stdout",
     "output_type": "stream",
     "text": [
      "[525]\ttrain-rmse:10.36974+0.09521\ttest-rmse:11.82137+0.39277\n"
     ]
    },
    {
     "name": "stderr",
     "output_type": "stream",
     "text": [
      "\r",
      " 50%|██████████████████████████████████████████████████████████████████████████                                                                          | 5/10 [02:06<02:09, 25.83s/it]"
     ]
    },
    {
     "name": "stdout",
     "output_type": "stream",
     "text": [
      "[0]\ttrain-rmse:17.09852+0.07251\ttest-rmse:17.10008+0.29763\n"
     ]
    },
    {
     "name": "stdout",
     "output_type": "stream",
     "text": [
      "[50]\ttrain-rmse:13.07690+0.06371\ttest-rmse:13.25384+0.25539\n"
     ]
    },
    {
     "name": "stdout",
     "output_type": "stream",
     "text": [
      "[100]\ttrain-rmse:11.98942+0.06884\ttest-rmse:12.31792+0.26352\n"
     ]
    },
    {
     "name": "stdout",
     "output_type": "stream",
     "text": [
      "[150]\ttrain-rmse:11.57349+0.06764\ttest-rmse:12.04061+0.26051\n"
     ]
    },
    {
     "name": "stdout",
     "output_type": "stream",
     "text": [
      "[200]\ttrain-rmse:11.31537+0.06269\ttest-rmse:11.92331+0.25667\n"
     ]
    },
    {
     "name": "stdout",
     "output_type": "stream",
     "text": [
      "[250]\ttrain-rmse:11.11867+0.06058\ttest-rmse:11.86281+0.25661\n"
     ]
    },
    {
     "name": "stdout",
     "output_type": "stream",
     "text": [
      "[300]\ttrain-rmse:10.95192+0.06105\ttest-rmse:11.82939+0.25155\n"
     ]
    },
    {
     "name": "stdout",
     "output_type": "stream",
     "text": [
      "[350]\ttrain-rmse:10.80401+0.06281\ttest-rmse:11.81026+0.24944\n"
     ]
    },
    {
     "name": "stdout",
     "output_type": "stream",
     "text": [
      "[400]\ttrain-rmse:10.66743+0.06573\ttest-rmse:11.79571+0.24755\n"
     ]
    },
    {
     "name": "stdout",
     "output_type": "stream",
     "text": [
      "[450]\ttrain-rmse:10.54074+0.06514\ttest-rmse:11.78893+0.24601\n"
     ]
    },
    {
     "name": "stdout",
     "output_type": "stream",
     "text": [
      "[500]\ttrain-rmse:10.42079+0.06672\ttest-rmse:11.78722+0.24366\n"
     ]
    },
    {
     "name": "stdout",
     "output_type": "stream",
     "text": [
      "[511]\ttrain-rmse:10.39462+0.06670\ttest-rmse:11.78749+0.24271\n"
     ]
    },
    {
     "name": "stderr",
     "output_type": "stream",
     "text": [
      "\r",
      " 60%|████████████████████████████████████████████████████████████████████████████████████████▊                                                           | 6/10 [02:30<01:41, 25.32s/it]"
     ]
    },
    {
     "name": "stdout",
     "output_type": "stream",
     "text": [
      "[0]\ttrain-rmse:17.10042+0.10062\ttest-rmse:17.09944+0.40101\n"
     ]
    },
    {
     "name": "stdout",
     "output_type": "stream",
     "text": [
      "[50]\ttrain-rmse:13.07670+0.01828\ttest-rmse:13.27249+0.16907\n"
     ]
    },
    {
     "name": "stdout",
     "output_type": "stream",
     "text": [
      "[100]\ttrain-rmse:11.98663+0.01583\ttest-rmse:12.34526+0.10595\n"
     ]
    },
    {
     "name": "stdout",
     "output_type": "stream",
     "text": [
      "[150]\ttrain-rmse:11.57123+0.02857\ttest-rmse:12.07272+0.11722\n"
     ]
    },
    {
     "name": "stdout",
     "output_type": "stream",
     "text": [
      "[200]\ttrain-rmse:11.31280+0.03382\ttest-rmse:11.95427+0.13452\n"
     ]
    },
    {
     "name": "stdout",
     "output_type": "stream",
     "text": [
      "[250]\ttrain-rmse:11.11540+0.03609\ttest-rmse:11.89283+0.14651\n"
     ]
    },
    {
     "name": "stdout",
     "output_type": "stream",
     "text": [
      "[300]\ttrain-rmse:10.95024+0.03832\ttest-rmse:11.85707+0.15190\n"
     ]
    },
    {
     "name": "stdout",
     "output_type": "stream",
     "text": [
      "[350]\ttrain-rmse:10.80328+0.03795\ttest-rmse:11.83541+0.15704\n"
     ]
    },
    {
     "name": "stdout",
     "output_type": "stream",
     "text": [
      "[400]\ttrain-rmse:10.66893+0.03760\ttest-rmse:11.82146+0.15940\n"
     ]
    },
    {
     "name": "stdout",
     "output_type": "stream",
     "text": [
      "[450]\ttrain-rmse:10.54410+0.03679\ttest-rmse:11.81224+0.16355\n"
     ]
    },
    {
     "name": "stdout",
     "output_type": "stream",
     "text": [
      "[500]\ttrain-rmse:10.42350+0.03472\ttest-rmse:11.80780+0.16539\n"
     ]
    },
    {
     "name": "stdout",
     "output_type": "stream",
     "text": [
      "[547]\ttrain-rmse:10.31728+0.03351\ttest-rmse:11.80827+0.16633\n"
     ]
    },
    {
     "name": "stderr",
     "output_type": "stream",
     "text": [
      "\r",
      " 70%|███████████████████████████████████████████████████████████████████████████████████████████████████████▌                                            | 7/10 [02:56<01:16, 25.62s/it]"
     ]
    },
    {
     "name": "stdout",
     "output_type": "stream",
     "text": [
      "[0]\ttrain-rmse:17.09774+0.20726\ttest-rmse:17.08394+0.81243\n"
     ]
    },
    {
     "name": "stdout",
     "output_type": "stream",
     "text": [
      "[50]\ttrain-rmse:13.07446+0.11967\ttest-rmse:13.25701+0.68353\n"
     ]
    },
    {
     "name": "stdout",
     "output_type": "stream",
     "text": [
      "[100]\ttrain-rmse:11.98228+0.09906\ttest-rmse:12.34621+0.56635\n"
     ]
    },
    {
     "name": "stdout",
     "output_type": "stream",
     "text": [
      "[150]\ttrain-rmse:11.56270+0.09591\ttest-rmse:12.08672+0.50999\n"
     ]
    },
    {
     "name": "stdout",
     "output_type": "stream",
     "text": [
      "[200]\ttrain-rmse:11.30124+0.09393\ttest-rmse:11.97894+0.47941\n"
     ]
    },
    {
     "name": "stdout",
     "output_type": "stream",
     "text": [
      "[250]\ttrain-rmse:11.10245+0.09584\ttest-rmse:11.92442+0.45926\n"
     ]
    },
    {
     "name": "stdout",
     "output_type": "stream",
     "text": [
      "[300]\ttrain-rmse:10.93457+0.09513\ttest-rmse:11.89814+0.44879\n"
     ]
    },
    {
     "name": "stdout",
     "output_type": "stream",
     "text": [
      "[350]\ttrain-rmse:10.78715+0.09598\ttest-rmse:11.88129+0.43883\n"
     ]
    },
    {
     "name": "stdout",
     "output_type": "stream",
     "text": [
      "[400]\ttrain-rmse:10.65250+0.09578\ttest-rmse:11.87445+0.43368\n"
     ]
    },
    {
     "name": "stdout",
     "output_type": "stream",
     "text": [
      "[450]\ttrain-rmse:10.52640+0.09488\ttest-rmse:11.87261+0.42775\n"
     ]
    },
    {
     "name": "stdout",
     "output_type": "stream",
     "text": [
      "[500]\ttrain-rmse:10.40687+0.09469\ttest-rmse:11.87111+0.42632\n"
     ]
    },
    {
     "name": "stdout",
     "output_type": "stream",
     "text": [
      "[506]\ttrain-rmse:10.39281+0.09492\ttest-rmse:11.87150+0.42550\n"
     ]
    },
    {
     "name": "stderr",
     "output_type": "stream",
     "text": [
      "\r",
      " 80%|██████████████████████████████████████████████████████████████████████████████████████████████████████████████████████▍                             | 8/10 [03:20<00:50, 25.02s/it]"
     ]
    },
    {
     "name": "stdout",
     "output_type": "stream",
     "text": [
      "[0]\ttrain-rmse:17.09850+0.19996\ttest-rmse:17.08404+0.83785\n"
     ]
    },
    {
     "name": "stdout",
     "output_type": "stream",
     "text": [
      "[50]\ttrain-rmse:13.07115+0.11612\ttest-rmse:13.26351+0.68788\n"
     ]
    },
    {
     "name": "stdout",
     "output_type": "stream",
     "text": [
      "[100]\ttrain-rmse:11.98231+0.08793\ttest-rmse:12.35955+0.53061\n"
     ]
    },
    {
     "name": "stdout",
     "output_type": "stream",
     "text": [
      "[150]\ttrain-rmse:11.56124+0.07880\ttest-rmse:12.09514+0.43705\n"
     ]
    },
    {
     "name": "stdout",
     "output_type": "stream",
     "text": [
      "[200]\ttrain-rmse:11.30665+0.07278\ttest-rmse:11.98535+0.38626\n"
     ]
    },
    {
     "name": "stdout",
     "output_type": "stream",
     "text": [
      "[250]\ttrain-rmse:11.10990+0.07027\ttest-rmse:11.92560+0.35495\n"
     ]
    },
    {
     "name": "stdout",
     "output_type": "stream",
     "text": [
      "[300]\ttrain-rmse:10.94419+0.07101\ttest-rmse:11.89496+0.33833\n"
     ]
    },
    {
     "name": "stdout",
     "output_type": "stream",
     "text": [
      "[350]\ttrain-rmse:10.79596+0.07168\ttest-rmse:11.87706+0.32415\n"
     ]
    },
    {
     "name": "stdout",
     "output_type": "stream",
     "text": [
      "[400]\ttrain-rmse:10.66031+0.07190\ttest-rmse:11.86508+0.31450\n"
     ]
    },
    {
     "name": "stdout",
     "output_type": "stream",
     "text": [
      "[450]\ttrain-rmse:10.53545+0.07116\ttest-rmse:11.85839+0.30665\n"
     ]
    },
    {
     "name": "stdout",
     "output_type": "stream",
     "text": [
      "[500]\ttrain-rmse:10.41706+0.07229\ttest-rmse:11.85352+0.30055\n"
     ]
    },
    {
     "name": "stdout",
     "output_type": "stream",
     "text": [
      "[527]\ttrain-rmse:10.35535+0.07339\ttest-rmse:11.85399+0.29943\n"
     ]
    },
    {
     "name": "stderr",
     "output_type": "stream",
     "text": [
      "\r",
      " 90%|█████████████████████████████████████████████████████████████████████████████████████████████████████████████████████████████████████▏              | 9/10 [03:44<00:24, 24.69s/it]"
     ]
    },
    {
     "name": "stdout",
     "output_type": "stream",
     "text": [
      "[0]\ttrain-rmse:17.10028+0.13575\ttest-rmse:17.09553+0.55144\n"
     ]
    },
    {
     "name": "stdout",
     "output_type": "stream",
     "text": [
      "[50]\ttrain-rmse:13.07896+0.09186\ttest-rmse:13.25842+0.49224\n"
     ]
    },
    {
     "name": "stdout",
     "output_type": "stream",
     "text": [
      "[100]\ttrain-rmse:11.98883+0.08402\ttest-rmse:12.32929+0.40664\n"
     ]
    },
    {
     "name": "stdout",
     "output_type": "stream",
     "text": [
      "[150]\ttrain-rmse:11.57344+0.08396\ttest-rmse:12.06075+0.37346\n"
     ]
    },
    {
     "name": "stdout",
     "output_type": "stream",
     "text": [
      "[200]\ttrain-rmse:11.31761+0.08330\ttest-rmse:11.94454+0.36058\n"
     ]
    },
    {
     "name": "stdout",
     "output_type": "stream",
     "text": [
      "[250]\ttrain-rmse:11.12067+0.08114\ttest-rmse:11.88195+0.35398\n"
     ]
    },
    {
     "name": "stdout",
     "output_type": "stream",
     "text": [
      "[300]\ttrain-rmse:10.95654+0.08204\ttest-rmse:11.84662+0.34984\n"
     ]
    },
    {
     "name": "stdout",
     "output_type": "stream",
     "text": [
      "[350]\ttrain-rmse:10.80783+0.08145\ttest-rmse:11.82521+0.34921\n"
     ]
    },
    {
     "name": "stdout",
     "output_type": "stream",
     "text": [
      "[400]\ttrain-rmse:10.67351+0.08091\ttest-rmse:11.81416+0.34114\n"
     ]
    },
    {
     "name": "stdout",
     "output_type": "stream",
     "text": [
      "[450]\ttrain-rmse:10.54749+0.08214\ttest-rmse:11.80465+0.33497\n"
     ]
    },
    {
     "name": "stdout",
     "output_type": "stream",
     "text": [
      "[500]\ttrain-rmse:10.42809+0.08165\ttest-rmse:11.80146+0.33244\n"
     ]
    },
    {
     "name": "stdout",
     "output_type": "stream",
     "text": [
      "[550]\ttrain-rmse:10.31412+0.08165\ttest-rmse:11.79776+0.32876\n"
     ]
    },
    {
     "name": "stdout",
     "output_type": "stream",
     "text": [
      "[600]\ttrain-rmse:10.20573+0.08198\ttest-rmse:11.79988+0.32731\n"
     ]
    },
    {
     "name": "stdout",
     "output_type": "stream",
     "text": [
      "[601]\ttrain-rmse:10.20340+0.08198\ttest-rmse:11.80010+0.32753\n"
     ]
    },
    {
     "name": "stderr",
     "output_type": "stream",
     "text": [
      "\r",
      "100%|███████████████████████████████████████████████████████████████████████████████████████████████████████████████████████████████████████████████████| 10/10 [04:11<00:00, 25.56s/it]"
     ]
    },
    {
     "name": "stderr",
     "output_type": "stream",
     "text": [
      "\r",
      "100%|███████████████████████████████████████████████████████████████████████████████████████████████████████████████████████████████████████████████████| 10/10 [04:11<00:00, 25.18s/it]"
     ]
    },
    {
     "name": "stderr",
     "output_type": "stream",
     "text": [
      "\n"
     ]
    }
   ],
   "source": [
    "if param.get(\"eval_metric\", \"mae\") == \"rmse\":\n",
    "    score_key = \"test-rmse-mean\"\n",
    "    ylabel = \"Test RMSE Mean\"\n",
    "    title = \"Learning Curve: Test RMSE vs Boosting Rounds\"\n",
    "elif param.get(\"eval_metric\", \"mae\") == \"mae\":\n",
    "    score_key = \"test-mae-mean\"\n",
    "    ylabel = \"Test MAE Mean\"\n",
    "    title = \"Learning Curve: Test MAE vs Boosting Rounds\"\n",
    "elif param.get(\"eval_metric\", \"mae\") == \"logloss\":\n",
    "    score_key = \"test-logloss-mean\"\n",
    "    ylabel = \"Test Logloss Mean\"\n",
    "    title = \"Learning Curve: Test Logloss vs Boosting Rounds\"\n",
    "\n",
    "\n",
    "for i in tqdm(range(repeat_cv), leave=True, dynamic_ncols=True): \n",
    "    cv_result = xgb.cv(\n",
    "        params=param,\n",
    "        dtrain=dtrain,\n",
    "        obj=cauchyobj,\n",
    "        num_boost_round=num_boost_round,\n",
    "        folds=KFold(n_splits=folds_splits, shuffle=True, random_state=i),\n",
    "        early_stopping_rounds=early_stopping_rounds,\n",
    "        verbose_eval=50\n",
    "    )\n",
    "    \"\"\"\n",
    "    train-mae-mean: 各fold における訓練データの MAE の平均値。\n",
    "    train-mae-std: 訓練データの MAE の標準偏差。\n",
    "    test-mae-mean: 各fold における検証データの MAE の平均値。\n",
    "    test-mae-std: 検証データの MAE の標準偏差。\n",
    "    \"\"\"\n",
    "    xgb_cv.append(cv_result)\n",
    "    \n",
    "\n",
    "\n",
    "\n",
    "# 各 repeater ごとの最適ブーストラウンド数と検証MAE\n",
    "iteration_counts = [np.argmin(cv[score_key].values) for cv in xgb_cv]\n",
    "val_mae = [np.min(cv[score_key].values) for cv in xgb_cv]\n",
    "\n",
    "mean_iteration = np.mean(iteration_counts)\n",
    "mean_val_mae = np.mean(val_mae)\n",
    "min_val_mae = np.min(val_mae)\n",
    "results.append(f\"mean_iteration: {mean_iteration}\")\n",
    "results.append(f\"mean_val_{param['eval_metric']}: {mean_val_mae}\")\n",
    "results.append(f\"min_val_{param['eval_metric']}: {min_val_mae}\")\n",
    "results.append(\"\")\n",
    "\n",
    "###\n",
    "plt.figure(figsize=(10, 6))\n",
    "for i, cv_result in enumerate(xgb_cv):\n",
    "    rounds = np.arange(len(cv_result[score_key]))\n",
    "    plt.plot(rounds, cv_result[score_key], label=f\"CV repeater {i+1}\")\n",
    "    \n",
    "plt.xlabel(\"Boosting Round\")\n",
    "plt.ylabel(ylabel)\n",
    "plt.title(title)\n",
    "plt.legend()\n",
    "plt.grid(True)\n",
    "\n",
    "plt.savefig(os.path.join(OUTPUT_PATH, f\"learning_curve_{PREDICT_YEAR}.png\"))\n",
    "plt.close()\n",
    "###\n"
   ]
  },
  {
   "cell_type": "code",
   "execution_count": 22,
   "id": "d2d7abb2",
   "metadata": {
    "execution": {
     "iopub.execute_input": "2025-03-13T18:18:09.623641Z",
     "iopub.status.busy": "2025-03-13T18:18:09.621970Z",
     "iopub.status.idle": "2025-03-13T18:18:09.627912Z",
     "shell.execute_reply": "2025-03-13T18:18:09.627912Z"
    },
    "papermill": {
     "duration": 0.028915,
     "end_time": "2025-03-13T18:18:09.627912",
     "exception": false,
     "start_time": "2025-03-13T18:18:09.598997",
     "status": "completed"
    },
    "tags": []
   },
   "outputs": [
    {
     "name": "stdout",
     "output_type": "stream",
     "text": [
      "最適ブーストラウンド数: [490, 564, 493, 595, 501, 487, 522, 482, 503, 577]\n",
      "test-rmse-mean: [11.850392648273505, 11.817313559713027, 11.800283844240926, 11.78664487557486, 11.82001625388791, 11.787181365904868, 11.806088022219237, 11.869339007873966, 11.852617345075387, 11.797205159769687]\n"
     ]
    }
   ],
   "source": [
    "print(\"最適ブーストラウンド数:\", iteration_counts)\n",
    "print(f\"{score_key}:\", val_mae)\n",
    "results.append(f\"最適ブーストラウンド: {iteration_counts}\")\n",
    "results.append(f\"{score_key}: {val_mae}\")\n",
    "results.append(\"\")"
   ]
  },
  {
   "cell_type": "code",
   "execution_count": 23,
   "id": "5b88dc8d",
   "metadata": {
    "execution": {
     "iopub.execute_input": "2025-03-13T18:18:09.641794Z",
     "iopub.status.busy": "2025-03-13T18:18:09.641794Z",
     "iopub.status.idle": "2025-03-13T18:21:48.043029Z",
     "shell.execute_reply": "2025-03-13T18:21:48.043029Z"
    },
    "papermill": {
     "duration": 218.42831,
     "end_time": "2025-03-13T18:21:48.070104",
     "exception": false,
     "start_time": "2025-03-13T18:18:09.641794",
     "status": "completed"
    },
    "tags": []
   },
   "outputs": [
    {
     "name": "stderr",
     "output_type": "stream",
     "text": [
      "\r",
      "  0%|                                                                                                                                                            | 0/10 [00:00<?, ?it/s]"
     ]
    },
    {
     "name": "stderr",
     "output_type": "stream",
     "text": [
      "C:\\Users\\81809\\AppData\\Local\\Temp\\ipykernel_14576\\3386215446.py:18: FutureWarning: Setting an item of incompatible dtype is deprecated and will raise an error in a future version of pandas. Value '[ 2.15308266e+01  1.31829047e+00  1.68018608e+01  6.44525003e+00\n",
      " -6.44809198e+00 -6.36889517e-01  7.71360254e+00  7.23503399e+00\n",
      "  2.44745502e+01  3.34779763e+00  1.02493839e+01  6.68664646e+00\n",
      "  6.76735258e+00  7.95173931e+00 -3.80736804e+00  2.17462730e+01\n",
      " -1.93199849e+00  6.58981180e+00  8.35624504e+00  2.65980363e+00\n",
      "  2.74532056e+00  2.45362043e+00 -8.94047558e-01 -1.33491302e+00\n",
      "  3.87621665e+00  6.95395517e+00  1.75798845e+00  1.61925125e+01\n",
      "  4.08729744e+00 -6.83591604e+00 -1.99756920e+00  5.61893940e+00\n",
      " -5.87042630e-01  2.07620792e+01  8.97636986e+00 -7.00756407e+00\n",
      " -3.59323621e+00  6.44101906e+00  6.84763479e+00  5.06639576e+00\n",
      "  1.13146687e+00  8.17915535e+00 -5.33096313e+00  1.39824438e+01\n",
      "  3.10888624e+00  5.45721197e+00 -1.13273268e+01  3.29316187e+00\n",
      "  1.47220068e+01 -8.35961759e-01  2.18547440e+01 -3.30058843e-01\n",
      "  5.54016924e+00  4.99610615e+00 -4.51620913e+00  7.81713915e+00\n",
      "  1.31651902e+00  5.10373068e+00  1.74373722e+00  9.18639660e+00\n",
      " -5.64436913e+00 -1.69639027e+00  9.16753709e-01  2.32849789e+01\n",
      " -1.06472707e+00  8.34365940e+00  3.71897626e+00 -4.75044680e+00\n",
      "  1.16769648e+01 -2.35325766e+00  4.36953163e+00  2.44156094e+01\n",
      " -5.99304819e+00 -2.41909218e+00  2.10851097e+00  5.96232748e+00\n",
      " -2.62361979e+00  6.32996368e+00  1.64443321e+01  2.02114964e+01\n",
      "  3.25221038e+00 -6.13460636e+00  6.83730066e-01 -1.26280415e+00\n",
      "  3.14567715e-01  2.96190143e+00  7.62383938e-01 -1.06904316e+01\n",
      " -4.08014059e+00 -1.86407256e+00  8.24855518e+00  6.31673908e+00\n",
      "  3.59126115e+00  9.96178031e-01 -2.33770156e+00  1.84525356e+01\n",
      "  2.37607956e+00  5.72074890e+00  2.21666546e+01 -2.25232720e+00\n",
      " -3.60877299e+00  1.31795893e+01  1.81722088e+01  1.05061340e+01\n",
      "  4.95180082e+00 -5.24968290e+00 -1.07370782e+00  1.23994045e+01\n",
      "  6.02459383e+00 -4.94640589e+00  1.29028308e+00 -4.56847048e+00\n",
      "  6.64180756e+00 -5.92595100e+00 -1.55223074e+01  4.25765753e+00\n",
      "  1.99991032e-01 -2.28449613e-01  3.53250337e+00  3.05164790e+00\n",
      "  1.77767324e+00  2.64433950e-01  1.08935022e+01  1.06595316e+01\n",
      "  6.04842091e+00  6.07943058e+00  1.19011211e+01 -2.97054958e+00\n",
      " -2.88345051e+00  2.65873313e+00  1.99202728e+01 -2.55069971e+00\n",
      "  1.12967434e+01 -1.33332443e+01 -6.50074720e+00  1.38990736e+01\n",
      "  3.21505642e+00  8.20087528e+00  9.16277790e+00 -1.91227627e+00\n",
      "  1.17347383e+00 -2.55865312e+00  7.35274506e+00  5.40809822e+00\n",
      "  2.44271851e+00 -7.58666277e-01  1.02725048e+01  5.67327738e-01\n",
      "  7.12814569e+00 -1.59012115e+00  2.72186208e+00  1.47238445e+00\n",
      "  2.06948700e+01  1.67984276e+01  9.18717384e+00  3.54641271e+00\n",
      "  4.29997349e+00  2.77369428e+00 -8.79348695e-01  6.68052673e-01\n",
      "  1.36283946e+00 -6.54412985e-01  9.09029961e+00  1.34706736e+01\n",
      " -2.06363463e+00  3.06728530e+00 -3.86089832e-01  3.46324825e+00\n",
      "  2.31075668e+00  4.83215094e+00  8.13848782e+00  1.28001332e+00\n",
      " -2.43084979e+00 -1.84318535e-02  5.97429323e+00  1.26125896e+00\n",
      "  1.66312733e+01  4.38654900e+00  6.18117523e+00  3.06796408e+00\n",
      " -2.12157774e+00  3.68441939e+00  9.88226986e+00 -7.91002226e+00\n",
      "  3.56268620e+00  1.99391994e+01  1.19116764e+01 -2.28029549e-01\n",
      "  2.28247046e+00  7.13643789e+00  2.75070715e+00  1.43274546e+01\n",
      " -1.71382403e+00  3.62443924e+00  7.13114548e+00  4.34019852e+00\n",
      "  4.41883802e+00  8.48737621e+00  1.53177023e+01  1.07960129e+01\n",
      "  3.38131380e+00 -2.40145283e+01  6.02283239e+00  3.33828807e+00\n",
      "  6.92496777e+00  4.48069811e+00  4.43753529e+00  4.76333427e+00\n",
      "  5.71050739e+00  3.36695385e+00  2.10165863e+01  9.58752918e+00\n",
      "  2.81028748e+01  4.20503120e+01  2.63013973e+01  2.46048183e+01\n",
      "  2.06191063e+01  2.44885445e+01  9.10265541e+00 -4.85495657e-01\n",
      "  1.23600988e+01  4.30116272e+00 -6.31573009e+00  5.72897959e+00\n",
      "  2.05387974e+01  2.57065964e+01  9.49790478e+00  2.25323086e+01\n",
      "  1.23958969e+01  9.43428516e+00  7.44965696e+00  1.07717171e+01\n",
      " -3.70240855e+00  3.43266296e+01  1.36569929e+01  3.93256831e+00\n",
      "  3.45851250e+01  5.51933479e+00 -3.23901224e+00  2.11626015e+01\n",
      "  1.11750448e+00  1.26968985e+01  1.44291363e+01  5.27368355e+00\n",
      "  3.38084483e+00  9.63701725e+00  1.93070545e+01  3.42304115e+01\n",
      "  1.38667393e+01 -3.08993496e-02 -2.99960876e+00  1.80302799e+00\n",
      " -1.51485300e+01  5.81531763e+00  1.54391623e+01 -9.93981361e-01\n",
      "  2.15060501e+01  4.67763748e+01 -3.95988679e+00  6.05107009e-01\n",
      "  1.37471447e+01  2.19811893e+00 -5.48374033e+00  7.87483358e+00\n",
      "  2.63474216e+01  1.07715549e+01  9.20206547e+00  5.93175125e+00\n",
      " -2.54465365e+00  2.94078422e+00  2.95597858e+01  9.20274258e+00\n",
      "  1.67800980e+01  1.38646946e+01 -1.00373516e+01  1.39216852e+01\n",
      "  1.17671928e+01  3.61379695e+00 -6.76735878e+00  4.58417368e+00\n",
      "  3.91816807e+00  3.93954015e+00  3.80960159e+01  1.31800241e+01\n",
      "  3.40236969e+01  3.52267418e+01  4.67173755e-01  2.99329109e+01\n",
      " -3.12895417e-01 -4.47130829e-01  5.81605291e+00  1.34498682e+01\n",
      "  1.44645357e+01  1.43723526e+01  8.16992950e+00  5.18327188e+00\n",
      "  1.26038046e+01 -1.17865133e+00  1.09403725e+01 -3.39230132e+00\n",
      "  1.97064266e+01  2.58312149e+01  1.19139633e+01 -5.23269236e-01\n",
      " -8.87694538e-01  1.51667809e+00  7.77786255e+00 -2.12838402e+01\n",
      " -1.10819492e+01 -9.77920341e+00  1.02856243e+00  4.63438368e+00\n",
      "  9.21461010e+00  9.13273335e+00  3.28411942e+01  1.70946236e+01\n",
      "  4.65083170e+00  3.88161049e+01 -8.53287399e-01  1.17057829e+01\n",
      "  4.46535110e+00  3.16415834e+00  2.57667351e+00  2.67271090e+00\n",
      "  1.73723793e+00  4.99637508e+00 -4.72281885e+00  8.35368156e+00\n",
      "  6.85217321e-01  7.65974665e+00 -5.66458893e+00  1.90559540e+01\n",
      "  1.18744841e+01 -1.31071081e+01  2.21688614e+01 -7.46717405e+00\n",
      "  2.23913264e+00  8.29954720e+00 -2.58536983e+00 -1.28640146e+01\n",
      " -2.19186783e+00 -2.20435410e+01 -1.83875008e+01 -8.79072094e+00\n",
      " -4.77835655e+00  3.98412156e+00 -4.63865376e+00  1.10461605e+00\n",
      " -3.37952256e+00 -3.88922334e+00 -3.99246907e+00  6.35116673e+00\n",
      " -7.40772152e+00 -1.96931612e+00 -1.87734089e+01  1.75369000e+00\n",
      "  3.56023073e+00 -5.66210175e+00 -4.07922411e+00  2.94941401e+00\n",
      "  5.69567871e+00 -4.80135775e+00 -6.07435608e+00 -3.45006084e+00\n",
      " -6.49631679e-01 -1.18786192e+00 -2.19102364e+01 -7.66464949e-01\n",
      "  3.82093215e+00 -6.05930424e+00 -7.37696028e+00 -6.33661413e+00\n",
      " -8.23068810e+00 -8.75798225e+00 -2.97942138e+00 -5.71392012e+00\n",
      "  1.88379705e+00 -5.62314844e+00  1.10253580e-01  1.68931401e+00\n",
      " -1.08003216e+01 -8.35614491e+00 -5.04963064e+00 -2.71380305e+00\n",
      " -1.00076237e+01 -5.03991842e+00 -1.59229431e+01 -2.55123482e+01\n",
      " -3.63917494e+00 -1.90377083e+01 -2.77874517e+00 -7.42892599e+00\n",
      " -2.42045331e+00 -2.63217950e+00 -7.72383070e+00  6.78173527e-02\n",
      " -6.26954079e+00 -2.58593121e+01  3.88278794e+00 -2.15063477e+01\n",
      " -6.42618513e+00 -1.14876003e+01  3.85524869e+00  3.66339660e+00\n",
      " -9.19946480e+00  1.74239552e+00 -4.07163334e+00 -7.04499006e+00\n",
      " -3.98223782e+00 -5.49499273e+00 -9.36387730e+00 -1.21110237e+00\n",
      "  4.03191185e+00  5.19114077e-01 -1.23335552e+01 -4.81554794e+00\n",
      "  1.44052744e+00  2.01538491e+00  2.22498560e+00 -6.62391663e+00\n",
      " -4.36942339e+00  5.34512377e+00 -1.20966587e+01  3.11947393e+00\n",
      " -9.84069824e+00 -4.76731110e+00 -9.41857052e+00 -5.50223446e+00\n",
      " -2.35268140e+00 -1.11622238e+01 -3.38580132e+00 -2.18996658e+01\n",
      " -1.42242403e+01 -2.94649005e+00 -4.43610400e-01 -2.91413474e+00\n",
      " -2.07018185e+00 -1.62847066e+00  2.64137715e-01  2.21854615e+00\n",
      " -2.10532403e+00 -3.07324238e+01 -4.41054869e+00 -1.01682377e+01\n",
      " -8.43561459e+00  2.26359439e+00  1.16831374e+00 -6.39979887e+00\n",
      " -7.62494385e-01  5.83977342e-01  6.58672750e-01 -9.05848789e+00\n",
      "  1.78223360e+00  6.41610384e+00 -8.87928426e-01 -7.69431925e+00\n",
      " -5.61974585e-01 -1.52376375e+01 -1.19683743e+01 -2.63153291e+00\n",
      " -1.55252457e+00 -1.35259688e+00 -2.83032680e+00 -6.26008940e+00\n",
      " -1.64582748e+01 -8.74351788e+00 -2.33623648e+00  3.96987295e+00\n",
      " -8.33789158e+00 -2.44193573e+01 -1.35122776e+00 -3.24399900e+00\n",
      " -4.31972647e+00  3.03432703e+00  9.15580368e+00 -5.96809268e-01\n",
      "  1.25622630e+00  1.79198194e+00  3.00559330e+00 -1.36258097e+01\n",
      " -7.91486597e+00 -1.79752846e+01 -4.47817945e+00 -4.73751497e+00\n",
      "  1.59794259e+00 -1.05043497e+01  1.90096056e+00 -8.06783319e-01\n",
      " -2.49839554e+01 -2.53137493e+01 -1.65100555e+01 -4.02790117e+00\n",
      " -3.05396962e+00 -4.83075380e+00 -4.03833181e-01 -8.14067745e+00\n",
      " -7.97278500e+00 -1.36253607e+00 -2.07181978e+00  2.66995406e+00\n",
      " -1.61997795e+01 -2.51986170e+00  3.26203465e+00 -6.29004049e+00\n",
      "  9.00931644e+00 -7.24414539e+00  4.23531675e+00 -6.80819607e+00\n",
      " -1.68829231e+01 -1.47857122e+01 -2.25025010e+00  7.28789854e+00\n",
      " -8.99997711e+00 -2.24079490e+00 -8.26614976e-01  1.99985075e+00\n",
      " -1.56869707e+01  2.38492012e-01 -1.71323490e+01 -2.24990416e+00\n",
      " -5.68567610e+00 -5.34270430e+00 -2.37518311e+00 -1.56658375e+00\n",
      " -1.52589445e+01  1.05235028e+00  4.16621590e+00  3.59090281e+00\n",
      " -1.09700384e+01  1.96572387e+00 -3.21992064e+00 -5.29034662e+00\n",
      " -3.45999861e+00 -5.25840330e+00 -2.17707753e+00  4.31853008e+00\n",
      " -2.06366253e+01 -3.58171349e+01 -2.73782754e+00 -4.49584246e+00\n",
      " -5.04964924e+00  2.16150999e+00 -1.12641602e+01 -2.86535912e+01\n",
      " -6.63356972e+00  4.62240505e+00  1.76985300e+00 -3.45161057e+01\n",
      " -3.84458694e+01  2.85978222e+00 -5.21708155e+00 -2.60766087e+01\n",
      "  7.05259991e+00 -2.15699615e+01 -2.79592443e+00 -1.48219228e+00\n",
      " -9.57823086e+00 -2.94293365e+01 -1.51424634e+00 -1.66550331e+01\n",
      " -1.93347588e+01 -6.75347281e+00 -1.02877867e+00  4.84689903e+00\n",
      " -3.99325523e+01  1.79145604e-01 -5.19370174e+00 -1.33360243e+01\n",
      "  8.34470940e+00  2.74968910e+00  7.34768534e+00 -9.17533875e+00\n",
      " -3.81057763e+00 -1.66553955e+01 -8.32079697e+00 -6.60630751e+00\n",
      " -3.00155854e+00  3.23359013e+00  5.38355207e+00 -3.11666012e+01\n",
      " -1.17765951e+01 -3.39035010e+00  1.16857347e+01 -3.14075661e+01\n",
      " -3.11159658e+00 -9.78833199e+00 -1.38124013e+00  6.14950800e+00\n",
      " -3.87989187e+00 -3.65209961e+00  6.54461098e+00  1.57657504e+00\n",
      " -1.27789354e+01 -9.83376312e+00 -3.58489151e+01 -5.48232222e+00\n",
      " -2.30851707e+01 -2.92638760e+01 -7.15218353e+00 -1.50653772e+01\n",
      " -1.37315445e+01 -4.76958704e+00 -3.86663284e+01 -3.06337624e+01\n",
      " -1.32372007e+01 -4.50374222e+00 -5.65198994e+00 -3.34073601e+01\n",
      " -8.12749672e+00  9.08324146e+00 -1.09229813e+01 -2.01523614e+00\n",
      " -7.76626492e+00 -1.30388536e+01 -7.39267683e+00 -2.65836334e+01\n",
      " -2.95134087e+01  2.78961945e+00 -5.74336910e+00 -7.24236155e+00\n",
      " -2.49834576e+01 -3.85200119e+00 -2.70987988e+01  9.70146179e+00\n",
      " -1.53674817e+00  7.96980762e+00  2.44823742e+00 -2.62682133e+01\n",
      " -3.20721674e+00 -3.19723759e+01 -1.65535831e+01 -9.19468784e+00\n",
      "  1.47536099e-01  4.60286522e+00 -2.56965771e+01  5.49197245e+00\n",
      " -1.40004778e+01 -1.70546269e+00 -3.35405083e+01 -1.21688995e+01\n",
      "  1.64163685e+01  4.12471581e+00 -1.39879208e+01 -1.45786438e+01\n",
      " -4.86697197e+00  8.41516304e+00]' has dtype incompatible with int64, please explicitly cast to a compatible dtype first.\n",
      "  preds[val_index] = model.predict(dval_i)\n"
     ]
    },
    {
     "name": "stderr",
     "output_type": "stream",
     "text": [
      "\r",
      " 10%|██████████████▊                                                                                                                                     | 1/10 [00:20<03:03, 20.38s/it]"
     ]
    },
    {
     "name": "stderr",
     "output_type": "stream",
     "text": [
      "C:\\Users\\81809\\AppData\\Local\\Temp\\ipykernel_14576\\3386215446.py:18: FutureWarning: Setting an item of incompatible dtype is deprecated and will raise an error in a future version of pandas. Value '[-8.13169098e+00  2.88901091e+00  1.60787830e+01 -2.73860723e-01\n",
      "  6.60066032e+00  6.85339451e+00  2.27916813e+01 -9.68814552e-01\n",
      "  1.38190165e+01  7.66609430e+00 -1.65715086e+00 -5.78088331e+00\n",
      "  5.73844528e+00  8.17689133e+00 -3.38287520e+00  2.36044273e+01\n",
      " -6.64265230e-02  2.60644031e+00  1.10361309e+01  8.78373337e+00\n",
      "  7.64291382e+00  5.90156603e+00  6.45350170e+00  3.13645959e+00\n",
      " -7.22024965e+00  2.51898956e+00  8.11396217e+00 -3.18900013e+00\n",
      "  2.39172325e+01  1.71365814e+01  1.15204439e+01  4.50400925e+00\n",
      "  7.33455896e+00 -3.36088133e+00  6.21431398e+00  5.74540997e+00\n",
      " -2.54319382e+00 -4.01293725e-01  8.69473648e+00  2.24103985e+01\n",
      "  1.26202173e+01  1.15227489e+01  1.94899349e+01  7.55931473e+00\n",
      "  1.68708553e+01  8.52747726e+00  7.71094990e+00  5.61698532e+00\n",
      " -1.87602925e+00  7.00803471e+00  1.06571782e+00 -2.00151086e+00\n",
      "  1.77689588e+00  7.18515968e+00  7.71153450e+00  2.60371933e+01\n",
      "  7.43525982e+00  6.99365318e-01  9.20739269e+00  9.72419071e+00\n",
      "  7.04689789e+00  5.92555428e+00 -1.15161288e+00 -3.03032517e+00\n",
      " -1.00119197e+00  2.75082016e+00 -5.69076538e-01  1.87732327e+00\n",
      "  2.00995979e+01  1.27057590e+01  1.45658851e+00  2.89449825e+01\n",
      "  1.36025171e+01  4.24543095e+00  2.01340656e+01 -8.03562546e+00\n",
      "  5.97775507e+00  6.37189722e+00  4.26539421e+00  4.41911030e+00\n",
      " -4.06858414e-01 -8.48700851e-03  1.90021935e+01  6.94186354e+00\n",
      " -2.86914372e+00 -1.10676794e+01  5.09072351e+00  8.47218990e+00\n",
      "  2.24765611e+00  1.56935537e+00  5.44922352e+00 -4.73625565e+00\n",
      " -4.10826015e+00  1.88239536e+01 -2.89221239e+00 -1.72144663e+00\n",
      " -1.27118349e+00  1.36203127e+01  1.12608376e+01  1.46964245e+01\n",
      "  5.24751616e+00 -5.65784597e+00  1.33928127e+01  8.17961407e+00\n",
      "  1.18893890e+01  3.08336830e+00  9.09156132e+00 -8.24635983e-01\n",
      "  1.80713902e+01 -2.08720136e+00  2.10438251e+01 -2.94937205e+00\n",
      "  1.04896438e+00  1.55594702e+01  1.84352207e+01 -1.82591629e+00\n",
      "  3.11137748e+00 -2.78846145e+00 -9.48477173e+00 -5.67133570e+00\n",
      "  2.06205821e+00  7.20567942e-01  9.25909638e-01 -1.00204337e+00\n",
      " -3.45953727e+00 -3.08969051e-01 -6.01395369e+00  6.48587847e+00\n",
      "  2.19894075e+00  3.09506187e+01  7.22841167e+00  2.68807983e+01\n",
      "  5.80138636e+00 -1.50823581e+00  9.19120216e+00 -8.45454884e+00\n",
      " -6.07254362e+00  1.07285428e+00 -7.07325792e+00 -7.73992062e-01\n",
      "  7.46880293e+00 -2.14251661e+00  2.29089336e+01  1.56473303e+01\n",
      "  4.35887814e+00  1.17516682e-01 -8.74366224e-01  1.07270718e+00\n",
      "  5.58286548e-01  1.53450894e+00 -3.87234068e+00 -6.86753690e-01\n",
      "  2.12126160e+00 -5.89185143e+00 -2.32712492e-01  4.85014248e+00\n",
      "  2.23499088e+01  5.74552059e-01  4.27102661e+00  7.47745514e+00\n",
      " -7.07516098e+00  3.58633113e+00 -7.54620433e-01 -4.07718086e+00\n",
      " -4.52801037e+00  7.89332986e-01  3.09682121e+01  2.81122208e+00\n",
      "  6.73782349e+00 -2.69460177e+00 -2.16524348e-01  1.16836281e+01\n",
      "  1.99993858e+01  1.10224237e+01  4.59641504e+00 -9.70736980e-01\n",
      "  1.27081356e+01 -6.14567614e+00 -1.87807446e+01 -4.97562647e+00\n",
      "  5.23649931e+00  6.91334486e+00 -2.15228128e+00  8.77577114e+00\n",
      "  2.01142426e+01  9.33659363e+00  3.81968707e-01  2.36305275e+01\n",
      " -2.78516114e-01  1.01920748e+01  2.52524166e+01 -2.48375297e+00\n",
      " -2.00063586e+00  5.58668137e+00  8.36314142e-01  4.72272825e+00\n",
      " -4.44773245e+00  2.52115512e+00 -7.97080040e+00  1.84638453e+00\n",
      "  3.80375314e+00 -3.96264172e+00  2.24303150e+01 -4.84960705e-01\n",
      "  1.60801277e+01  1.66711006e+01  1.83426170e+01 -2.90081549e+00\n",
      "  2.03216248e+01  2.67319036e+00 -1.03939638e+01 -1.02318668e+01\n",
      "  1.04182196e+01  8.11727643e-01 -1.19667685e+00 -4.90284920e+00\n",
      "  5.70600462e+00  5.18544579e+00  4.88241863e+00  2.19049034e+01\n",
      " -5.37191629e-01  1.58607543e+00  6.33266592e+00  2.09002247e+01\n",
      " -2.56709695e+00  1.39983881e+00  1.90395927e+01  2.86726398e+01\n",
      " -7.88194942e+00 -1.39097059e+00  8.10768890e+00  2.74652729e+01\n",
      "  3.76253242e+01 -1.50164127e+00  6.19507408e+00  1.96387939e+01\n",
      "  7.20548487e+00  2.14981518e+01 -6.90461588e+00 -5.88121939e+00\n",
      "  5.97892618e+00  9.63801575e+00  6.91445398e+00 -6.63995790e+00\n",
      "  2.37774067e+01  5.11969149e-01 -6.99497461e+00  1.14326105e+01\n",
      "  2.88597918e+00  1.92518795e+00  1.39025593e+01 -1.14847012e+01\n",
      "  1.67952347e+01  1.91195736e+01  4.75779295e-01  7.76487303e+00\n",
      "  1.07051115e+01  8.71938133e+00  3.41390305e+01  2.13794422e+01\n",
      "  5.27565384e+00 -8.46603012e+00  3.30989647e+01  1.40702505e+01\n",
      "  3.70299983e+00  1.03679886e+01  2.19425774e+01  4.84919319e+01\n",
      "  2.08890228e+01 -6.57311440e+00  3.22451782e+01  1.09730654e+01\n",
      "  3.70810432e+01  1.27077560e+01  3.69877744e+00  3.85151792e+00\n",
      "  1.21347151e+01  8.50317478e+00  5.32432270e+00  2.43210907e+01\n",
      "  3.01255741e+01  7.45965052e+00  7.94515705e+00  3.54113221e+00\n",
      "  2.85553246e+01 -2.82333302e+00  1.19328928e+01  2.71098709e+01\n",
      " -1.35838926e+00  8.21185172e-01  1.20065920e-01  1.30643950e+01\n",
      "  3.16864185e+01  3.53966689e+00  1.78318958e+01  8.85068035e+00\n",
      "  2.68312035e+01 -9.54253674e-01 -5.30476141e+00  3.15347981e+00\n",
      "  7.03579092e+00  1.19950686e+01  3.52275348e+00  2.02722383e+00\n",
      " -1.16225500e+01  2.52078462e+00 -2.51984859e+00 -7.94872904e+00\n",
      " -2.98886919e+00  2.17406178e+00 -1.30687821e+00  4.04632492e+01\n",
      "  2.57240772e+01  7.70595598e+00  8.76711941e+00 -4.62049437e+00\n",
      "  7.48529625e+00  2.23790951e+01 -5.23186684e+00  1.76000290e+01\n",
      "  2.64362216e+00 -1.18856688e+01 -1.25507250e+01  2.77870483e+01\n",
      "  4.09164047e+00  5.21822405e+00  1.16817265e+01 -1.22651138e+01\n",
      "  5.69398403e+00 -1.73123264e+01 -2.25175972e+01  3.60155988e+00\n",
      " -2.80427170e+00  1.02428049e-01 -7.86744070e+00  4.09176445e+00\n",
      " -6.37312126e+00  3.26963067e+00 -6.75916576e+00 -5.32639885e+00\n",
      " -3.49675566e-01  8.41512203e+00  1.43406546e+00  3.06101489e+00\n",
      " -2.10833435e+01 -2.50618057e+01 -2.19286785e+01 -4.48598385e+00\n",
      " -1.07632232e+00 -5.83746850e-01 -8.56036186e+00 -2.60134721e+00\n",
      " -7.73162246e-01 -2.49462962e+00 -1.42769206e+00  9.13903564e-02\n",
      "  5.55367899e+00 -5.51134205e+00 -4.35448050e-01 -1.10169315e+01\n",
      " -7.43711090e+00 -1.85204830e+01 -1.47509651e+01  2.06324625e+00\n",
      "  2.69675207e+00  7.09228802e+00 -1.51732368e+01  3.35456324e+00\n",
      "  6.93803787e+00 -6.35729134e-01 -2.50628376e+00  6.05390370e-01\n",
      "  7.84707928e+00 -6.21313810e+00  5.23460329e-01 -9.01002216e+00\n",
      " -4.22716081e-01 -2.12973480e+01 -4.95839643e+00  3.15295672e+00\n",
      "  4.74596119e+00  4.12314844e+00 -7.81791925e+00 -9.26367092e+00\n",
      "  2.53893757e+00  3.47264910e+00  4.39313948e-01 -6.39058924e+00\n",
      " -1.27570906e+01 -4.47360420e+00 -8.63947678e+00  1.78885162e+00\n",
      " -8.02048016e+00 -5.85747719e+00 -7.32729101e+00 -3.39497614e+00\n",
      "  2.51268506e-01 -1.28490276e+01 -3.03039169e+01  7.09025800e-01\n",
      " -4.71168089e+00 -2.51800365e+01 -2.82885242e+00 -4.19531107e+00\n",
      " -1.29534054e+01  6.53898597e-01 -2.63388577e+01 -2.11730633e+01\n",
      "  1.68116808e+00 -2.00000811e+00  1.77213991e+00  2.32826900e+00\n",
      " -5.36971188e+00  1.50144920e+01 -2.92096367e+01  4.42886162e+00\n",
      " -1.60320568e+01 -3.81808686e+00 -1.44402122e+00  4.05133057e+00\n",
      " -1.10584497e+01 -5.19001961e+00  1.91489840e+00  1.04466510e+00\n",
      " -1.52727950e+00  5.55860817e-01 -2.85636854e+00 -2.13783836e+00\n",
      "  4.64266396e+00 -4.19586182e+00  9.73843575e+00  6.58481121e+00\n",
      "  4.56046915e+00  1.50121469e+01 -2.70739645e-01  1.86810923e+00\n",
      "  2.96538019e+00 -3.16425533e+01 -5.58812141e+00 -6.93024015e+00\n",
      "  2.17529035e+00  2.98731375e+00 -2.23493052e+00  1.58691835e+00\n",
      " -6.09363794e+00 -1.08593082e+01  2.89014518e-01  2.10098791e+00\n",
      " -4.72519684e+00 -1.26363945e+01 -2.01378155e+00 -1.34311271e+00\n",
      " -7.32253599e+00 -1.70251255e+01 -3.96158099e+00  6.94296598e+00\n",
      " -3.26147348e-01  2.15022922e+00 -9.77330589e+00  4.71430206e+00\n",
      "  5.75174522e+00  1.20981380e-01 -6.86212397e+00  2.61387825e+00\n",
      " -2.33076096e+01 -3.67841935e+00 -3.86159205e+00 -2.34703236e+01\n",
      " -1.00754490e+01 -6.44085765e-01 -2.42446113e+00  1.61249650e+00\n",
      "  2.19471812e+00 -2.12121162e+01 -2.34312210e+01 -4.18120050e+00\n",
      " -5.99468184e+00 -4.15516710e+00 -2.25960779e+00 -3.90285826e+00\n",
      " -4.46503448e+00  3.47506976e+00  1.22438216e+00 -2.34770374e+01\n",
      "  2.52884650e+00  3.18285584e-01 -4.09226751e+00  5.60317226e-02\n",
      " -5.64884543e-01 -1.93133526e+01 -1.94781570e+01 -5.18211937e+00\n",
      " -2.65003562e-01 -1.10581818e+01 -3.86610293e+00  3.03981638e+00\n",
      " -4.97633874e-01  3.83747727e-01 -1.87004492e-01 -5.29527664e+00\n",
      " -1.57735085e+00 -5.35703278e+00 -2.56876636e+00 -3.05899382e+00\n",
      " -3.00824523e+00 -3.15304327e+00  1.18479088e-01 -3.02377534e+00\n",
      "  2.40963244e+00  6.19211960e+00 -7.96563435e+00 -4.17586088e+00\n",
      " -2.24735279e+01 -3.97437382e+00 -1.70597000e+01 -2.14657669e+01\n",
      "  6.71753788e+00  6.66413355e+00 -8.06641579e+00 -7.05791140e+00\n",
      "  3.71062827e+00 -1.05889702e+01 -2.42718530e+00 -3.84334296e-01\n",
      " -1.62989388e+01 -6.53269815e+00  3.43756342e+00 -9.90110779e+00\n",
      " -2.39046307e+01  4.06500340e+00  2.23494768e+00  1.05843496e+00\n",
      "  1.70970953e+00 -6.09337234e+00 -3.38898373e+00 -2.90628719e+01\n",
      " -4.49767799e+01 -2.75663605e+01 -2.56157341e+01 -2.00585008e+00\n",
      " -7.62168694e+00 -1.83807316e+01 -4.24863195e+00 -1.15490055e+00\n",
      " -1.84083824e+01 -4.36302233e+00 -1.70259800e+01 -2.64892197e+01\n",
      " -1.26345646e+00 -3.89870191e+00 -1.45925198e+01 -2.73312225e+01\n",
      "  4.67042875e+00 -4.90241861e+00  5.39494705e+00 -1.04001274e+01\n",
      " -1.79488068e+01 -3.00945816e+01 -1.00116920e+01 -1.38661587e+00\n",
      " -1.41592760e+01 -3.27235669e-01 -7.37359667e+00  6.19423056e+00\n",
      " -6.72281313e+00 -3.13391685e+01 -1.01848564e+01 -1.54096022e+01\n",
      " -3.42318611e+01 -4.10534239e+00  2.49401760e+00 -2.31831169e+01\n",
      " -1.34544144e+01 -1.01002913e+01 -3.60965347e+00 -1.08390160e+01\n",
      "  7.63067722e+00 -1.85704291e+00  7.12436438e-01 -3.22327919e+01\n",
      " -2.90852852e+01 -4.40712166e+01  5.33946514e+00 -1.46140373e+00\n",
      " -1.45140114e+01 -1.77028561e+00 -9.14780331e+00 -1.54655733e+01\n",
      " -4.86871099e+00 -1.07468786e+01 -5.39513779e+00 -2.24780154e+00\n",
      " -4.38477278e+00 -9.42197704e+00 -2.12760277e+01  3.82476521e+00\n",
      " -3.39574356e+01 -8.19297600e+00  1.00782204e+01 -3.13448582e+01\n",
      "  6.01475716e+00 -1.67822876e+01 -7.73009205e+00 -3.23726654e+01\n",
      " -2.73169861e+01 -7.03413820e+00  3.21030259e+00 -1.34407625e+01\n",
      "  2.41494131e+00 -2.06051397e+00 -1.44265661e+01 -4.59539604e+00\n",
      " -1.05265951e+00  1.97884262e+00 -1.75211582e+01 -7.75817251e+00\n",
      " -1.97369442e+01  7.66005337e-01 -1.04344282e+01 -5.65719700e+00\n",
      " -8.24577141e+00  2.47720793e-01 -1.40254116e+01 -1.84224072e+01\n",
      " -3.25572324e+00 -1.74706974e+01 -4.96662569e+00 -2.64409208e+00\n",
      " -7.93283415e+00 -2.59551849e+01 -8.69740295e+00  2.30178127e+01\n",
      "  1.30070753e+01 -6.30589867e+00 -4.03924713e+01 -1.20853567e+01\n",
      " -2.44898281e+01 -6.73167133e+00 -2.53159714e+01  4.95821714e+00\n",
      " -1.79204826e+01 -9.73786926e+00 -1.24820223e+01 -1.26949778e+01\n",
      " -1.05357695e+01 -4.11025429e+00]' has dtype incompatible with int64, please explicitly cast to a compatible dtype first.\n",
      "  preds[val_index] = model.predict(dval_i)\n"
     ]
    },
    {
     "name": "stderr",
     "output_type": "stream",
     "text": [
      "\r",
      " 20%|█████████████████████████████▌                                                                                                                      | 2/10 [00:44<03:00, 22.60s/it]"
     ]
    },
    {
     "name": "stderr",
     "output_type": "stream",
     "text": [
      "C:\\Users\\81809\\AppData\\Local\\Temp\\ipykernel_14576\\3386215446.py:18: FutureWarning: Setting an item of incompatible dtype is deprecated and will raise an error in a future version of pandas. Value '[ 1.79314196e+00 -5.42766333e+00 -5.92640829e+00  2.12554961e-01\n",
      "  7.83714247e+00 -1.50777483e+00  5.09230137e+00  7.84188652e+00\n",
      "  2.82130265e+00 -1.09855974e+00 -4.73783302e+00  2.56797314e+01\n",
      "  2.29025135e+01 -9.38293636e-01  2.29885674e+01  2.55569515e+01\n",
      "  4.93241978e+00  9.83103752e+00  6.98515368e+00 -9.60455322e+00\n",
      "  4.60141087e+00  5.55399084e+00  8.58981705e+00  6.61586618e+00\n",
      "  2.59373879e+00  4.01481962e+00  7.78596592e+00  2.30333471e+00\n",
      " -6.47554874e+00 -5.20837545e+00  2.32759401e-01  1.01626368e+01\n",
      "  1.06597738e+01  2.85430765e+00  2.43058891e+01 -1.68151677e+00\n",
      "  1.80454004e+00  2.96481400e+01  3.59425211e+00  5.77302599e+00\n",
      "  3.79175878e+00 -6.95784903e+00  5.50821114e+00 -5.34454167e-01\n",
      "  2.07303095e+00  6.14420414e+00 -3.54719234e+00 -6.21998644e+00\n",
      "  6.38502407e+00 -9.09422874e+00  5.25255489e+00  6.04036474e+00\n",
      "  5.04357243e+00 -2.38762856e+00  9.59281445e+00 -2.45757457e-02\n",
      "  4.68668985e+00  1.81080933e+01  6.28475046e+00 -7.69475639e-01\n",
      "  2.20172939e+01 -3.08623457e+00  5.08362710e-01  2.71153755e+01\n",
      "  6.54783583e+00  6.94887972e+00  5.90335608e+00  7.63096929e-01\n",
      "  2.94668984e+00  2.97139144e+00 -1.63302231e+00  2.46246681e+01\n",
      "  7.53694057e+00  8.21577907e-01  5.24096012e+00  1.51039848e+01\n",
      "  3.48327041e+00  1.80223770e+01 -7.02391386e+00  2.39046741e+00\n",
      "  5.29988337e+00  6.65177536e+00 -4.23066378e+00  1.28357215e-02\n",
      "  1.44255075e+01 -5.88158321e+00  2.76721840e+01 -5.68717301e-01\n",
      " -1.22813666e+00  1.42960701e+01  6.12876129e+00  2.25315628e+01\n",
      "  4.05913830e-01 -6.68600321e+00  9.65699482e+00  8.49170494e+00\n",
      "  3.63880110e+00 -3.02493858e+00  2.04992604e+00  5.29187155e+00\n",
      "  2.32030487e+00  1.97643070e+01 -3.68631983e+00  7.74291134e+00\n",
      "  1.96811008e+01  1.50752687e+00  2.39050961e+01  5.27185106e+00\n",
      "  4.12389278e+00 -3.53317213e+00  8.97076797e+00 -4.81834316e+00\n",
      " -1.11580002e+00  3.10788095e-01 -6.94416463e-01 -7.05641699e+00\n",
      "  1.41194832e+00  5.40608644e+00 -1.03222060e+00  6.93777895e+00\n",
      "  2.42623100e+01  3.66470408e+00  1.10670872e+01 -1.79174531e+00\n",
      "  7.74670780e-01 -5.24583340e+00 -2.01961207e+00  2.18434954e+00\n",
      " -7.39697874e-01  1.10935330e+00 -1.48569593e+01  1.10543919e+01\n",
      "  1.08149099e+01  2.22989826e+01 -6.38308620e+00 -8.49973738e-01\n",
      "  7.41989994e+00 -6.51640797e+00  1.81777155e+00 -4.03463411e+00\n",
      "  1.27328563e+00  1.73561649e+01  1.16892738e+01  1.14469469e+00\n",
      "  1.96317816e+00 -1.23750126e+00  4.74321461e+00 -6.90159750e+00\n",
      "  3.07787251e+00  1.21190014e+01 -2.83304787e+00  2.44973922e+00\n",
      " -1.43606126e+00  2.29182568e+01  2.98057961e+00  1.36213803e+00\n",
      "  2.97518196e+01  4.04259682e+00  2.83257341e+00  8.53861427e+00\n",
      "  1.12315500e+00  9.49434185e+00 -2.63741350e+00  2.79606366e+00\n",
      "  3.88678670e+00  5.68420792e+00  1.26365652e+01  2.68374176e+01\n",
      "  4.87367296e+00  5.82103348e+00 -4.04250622e+00  8.63176060e+00\n",
      "  2.57458591e+00  2.63995099e+00  2.30276513e+00  2.26665058e+01\n",
      " -1.84490204e-01  5.33090496e+00 -8.13496017e+00  3.80537367e+00\n",
      " -4.86236620e+00 -9.51842248e-01 -9.61676693e+00  7.39596176e+00\n",
      "  6.84398079e+00  2.94777584e+00 -2.38393211e+00  1.71609151e+00\n",
      " -2.60790437e-01 -5.14030457e+00  2.66652107e+00  3.03813305e+01\n",
      "  2.98805218e+01  4.38114395e+01  2.84714127e+01  1.85560741e+01\n",
      " -3.01029134e+00  4.87548876e+00  5.22587359e-01  1.26258926e+01\n",
      "  1.12560558e+01 -1.13153543e+01  6.56200504e+00  1.21535170e+00\n",
      "  1.02161865e+01  2.80631752e+01  1.00837088e+00  3.96285248e+01\n",
      "  8.73949432e+00 -1.04847660e+01  1.82101574e+01  1.08029175e+01\n",
      "  1.30368614e+01  1.58168755e+01  2.66295071e+01  1.80546398e+01\n",
      "  5.23922396e+00  3.12248468e+00  3.55220413e+01 -5.63471508e+00\n",
      "  1.24652452e+01  1.01872015e+01  2.54914150e+01  1.63788090e+01\n",
      "  2.01810093e+01  1.16675797e+01  2.46995044e+00 -5.46608400e+00\n",
      "  2.02995567e+01 -6.26111794e+00 -1.96300936e+00  2.88457355e+01\n",
      " -2.59687781e+00  1.28864727e+01  1.47668377e-01  9.45643902e+00\n",
      " -7.84583950e+00  2.65275478e+01  1.04272947e+01 -2.27766705e+01\n",
      "  3.15176601e+01  1.46632318e+01 -2.78003144e+00 -6.19943762e+00\n",
      "  1.91033566e+00  3.32478333e+00  1.50468626e+01  1.46402597e+01\n",
      "  2.37032938e+00  6.06559896e+00  5.90336323e+00  8.84004974e+00\n",
      "  3.91819420e+01  7.32514715e+00 -3.19509864e+00  1.14256218e-01\n",
      "  9.30541039e+00  1.33251486e+01  3.87007833e+00  2.39928608e+01\n",
      "  3.13680019e+01 -7.73424768e+00  8.18004227e+00  6.57880402e+00\n",
      "  3.00756168e+01 -8.09813595e+00  3.98484707e+00  3.02241111e+00\n",
      "  1.29305668e+01  1.77170980e+00 -4.74388933e+00 -2.05905962e+00\n",
      "  3.71712151e+01  3.20418625e+01  1.46779013e+01  2.20962214e+00\n",
      " -1.89258504e+00  1.01197805e+01  1.90827465e+01  3.11760807e+01\n",
      " -4.93667507e+00 -1.04272938e+01 -9.94080448e+00  2.90224533e+01\n",
      " -7.31782579e+00  7.66602898e+00  2.32505722e+01  8.87124443e+00\n",
      "  2.73054943e+01  2.97936153e+01  9.13697147e+00  1.01159680e+00\n",
      " -2.46766243e+01  4.11266470e+00 -3.20420235e-01  4.76015711e+00\n",
      "  1.55924416e+01 -5.27996159e+00  3.99613075e+01  7.25018835e+00\n",
      "  2.17297668e+01  2.54044113e+01  1.23788900e+01  1.51128998e+01\n",
      " -2.29415923e-01  9.08822632e+00 -1.02398205e+00 -3.31124806e+00\n",
      "  2.08711505e+00 -9.68738747e+00 -2.20912437e+01 -6.96502686e+00\n",
      " -1.71465073e+01 -1.88874588e+01 -7.21932983e+00  4.72908401e+00\n",
      "  5.83828259e+00 -5.89119625e+00 -7.89078569e+00  2.26863122e+00\n",
      " -6.30202246e+00 -4.69710684e+00 -5.75045156e+00 -7.18088388e-01\n",
      " -5.34250689e+00 -2.04249973e+01  1.01769228e+01 -2.71010733e+00\n",
      " -4.30112696e+00 -6.77024460e+00  7.64136136e-01 -8.03971958e+00\n",
      " -6.42587519e+00 -7.06270313e+00 -2.10914183e+00 -5.93995273e-01\n",
      " -4.59839773e+00 -1.63499069e+01  2.25752401e+00 -2.01158485e+01\n",
      "  1.26880655e+01 -7.95265484e+00 -1.14403610e+01 -3.40582871e+00\n",
      " -1.53749504e+01 -6.09849882e+00  8.26921654e+00 -5.45175266e+00\n",
      "  2.13007164e+00 -5.76709795e+00 -2.75393176e+00 -6.73577070e+00\n",
      " -8.81745434e+00 -2.53778243e+00 -2.24704766e+00  6.65732384e+00\n",
      "  4.34788990e+00 -1.54208918e+01 -7.51626301e+00  3.27337313e+00\n",
      " -1.03226423e+01 -1.54104156e+01 -2.80126739e+00 -5.09934807e+00\n",
      "  4.57832575e+00 -3.12308013e-01 -2.69754553e+00 -3.67653775e+00\n",
      " -2.56022129e+01 -1.10007915e+01  2.48179913e+00 -1.90376341e-01\n",
      " -1.50031128e+01  1.16936684e+00  8.02229226e-01 -3.68784642e+00\n",
      "  1.99817407e+00 -1.13598454e+00 -7.74971819e+00 -4.25242186e+00\n",
      " -7.09212780e-01 -1.81895466e+01 -2.97752190e+00 -1.63146996e+00\n",
      " -4.36718988e+00 -1.81524124e+01 -5.38202953e+00 -1.51723599e+00\n",
      " -1.15627632e+01 -5.16871119e+00 -5.36011875e-01  5.32049716e-01\n",
      " -2.41230469e+01 -1.83764875e+00  3.43999958e+00  5.57670116e+00\n",
      " -3.47474051e+00 -2.16707535e+01  2.91228580e+00 -7.62378407e+00\n",
      " -1.21888218e+01 -5.31579685e+00 -1.17304783e+01 -1.41600043e-01\n",
      "  3.42042661e+00  4.06223297e+00 -2.38781702e-02 -3.59139228e+00\n",
      "  2.39989018e+00  7.23741174e-01  1.91751730e+00  2.38707519e+00\n",
      " -1.48779001e+01 -1.01623783e+01 -6.93819904e+00  7.24160004e+00\n",
      "  9.55959201e-01 -9.27420735e-01 -1.73239255e+00 -1.16004210e+01\n",
      "  1.93584311e+00 -2.23435516e+01  3.15876532e+00 -6.51745796e+00\n",
      " -1.27082479e+00 -2.64660382e+00  3.10548019e+00  8.24813271e+00\n",
      " -1.20987928e+00 -7.45720339e+00 -1.65399837e+00  1.58959160e+01\n",
      "  1.95522666e-01 -2.89185753e+01 -7.09881020e+00 -7.00496483e+00\n",
      "  1.38304496e+00 -1.74100113e+01  9.43186283e+00 -6.68034852e-02\n",
      " -1.23542871e+01 -1.13441782e+01 -3.07291818e+00 -2.19982910e+00\n",
      " -2.19520531e+01  1.51590748e+01 -2.62190175e+00  1.55331135e+00\n",
      " -1.26880217e+01  1.15890980e+01  3.45046687e+00 -1.62932129e+01\n",
      "  7.01693594e-01 -1.02070789e+01 -6.81226397e+00 -6.59550858e+00\n",
      "  2.22354436e+00 -3.48073697e+00 -2.10025578e+01 -4.86089563e+00\n",
      " -2.16023293e+01 -4.50149727e+00 -5.51257229e+00 -4.00575638e+00\n",
      " -1.63748503e+00  2.53916192e+00  1.47367477e-01 -7.38512707e+00\n",
      " -2.95846343e-01 -4.33569479e+00 -9.73358917e+00 -2.78326011e+00\n",
      "  1.22005558e+00 -9.81035328e+00 -2.88876176e-01 -4.68386936e+00\n",
      " -3.62282515e+00  1.14390123e+00  1.92488968e+00  2.77216935e+00\n",
      "  9.25361738e-02 -2.35669498e+01 -7.06033516e+00  4.48327255e+00\n",
      "  3.81900382e+00 -1.83235168e+00 -1.74810448e+01 -1.60837233e+00\n",
      " -4.56454897e+00 -8.61532784e+00  1.30186510e+00 -3.80898118e-02\n",
      " -1.91892605e+01 -7.34266996e+00 -3.00125670e+00 -1.46843042e+01\n",
      " -2.18521671e+01 -2.54414806e+01 -1.96694126e+01  1.55694103e+00\n",
      " -3.06449914e+00  4.10052872e+00 -5.24126244e+00 -2.06746793e+00\n",
      "  7.38959789e+00  2.27712321e+00  1.18558133e+00 -4.43207550e+00\n",
      " -2.23168182e+01 -7.77845001e+00  3.19211864e+00  1.34437466e+00\n",
      " -1.53439593e+00 -3.53669262e+00  4.00156450e+00  8.66276026e-03\n",
      "  2.56110978e+00  7.50771809e+00  2.79150558e+00 -1.01084652e+01\n",
      " -3.09436941e+00 -5.61638698e-02 -1.19646435e+01 -2.78391342e+01\n",
      " -1.46655006e+01  4.23485184e+00 -6.66654408e-02 -7.77930439e-01\n",
      " -1.78866653e+01 -1.55200043e+01  2.15862131e+00 -2.63343601e+01\n",
      "  8.42120647e-02 -2.18422737e+01 -2.20622749e+01 -7.95080709e+00\n",
      " -3.61009369e+01 -1.27930117e+01 -3.38734665e+01 -2.07528973e+01\n",
      " -6.28758955e+00  1.75132799e+00  1.21984119e+01  5.11011076e+00\n",
      " -3.09889221e+01 -2.43302631e+01 -1.13877897e+01 -3.18211231e+01\n",
      "  1.62840557e+01 -7.14438629e+00 -2.52075825e+01 -5.64040518e+00\n",
      " -6.66129303e+00 -1.31282835e+01  5.78978682e+00 -1.39617882e+01\n",
      " -2.91818542e+01 -5.72994113e-01 -3.71479201e+00 -2.19780617e+01\n",
      " -9.43292427e+00 -2.74470520e+01 -1.27842302e+01 -1.98900127e+01\n",
      "  1.38264847e+01 -1.45099754e+01 -3.22037163e+01 -7.82531881e+00\n",
      " -5.20821667e+00 -8.36823750e+00  5.88823175e+00 -2.46257997e+00\n",
      " -8.99442959e+00 -2.95262222e+01  1.48058712e-01 -1.32402239e+01\n",
      " -4.18311043e+01 -6.72746778e-01 -1.44721889e+01 -3.68350953e-01\n",
      "  4.44417667e+00 -1.66604271e+01  5.40304089e+00 -3.22787209e+01\n",
      "  7.74673557e+00 -1.46987808e+00 -1.40810604e+01 -4.08862972e+00\n",
      " -1.14009428e+01 -5.42706823e+00 -2.49629164e+00 -2.06118641e+01\n",
      " -1.21319437e+01 -3.29207921e+00  2.41026211e+00  1.01597328e+01\n",
      " -8.73937893e+00 -7.79944849e+00 -2.35623016e+01  3.42810512e+00\n",
      "  8.45392513e+00  2.88175058e+00 -5.64118958e+00 -5.41383028e+00\n",
      "  9.68208790e+00  3.36022466e-01 -1.04696684e+01 -4.55576553e+01\n",
      "  2.63170695e+00 -3.01568985e+01  5.71181154e+00 -1.27105970e+01\n",
      " -2.82535458e+01 -3.78162313e+00 -1.01045246e+01  1.29852982e+01\n",
      " -1.39366255e+01 -1.74458141e+01 -8.84951019e+00 -2.33970127e+01\n",
      " -3.08680954e+01 -8.44315624e+00 -3.90056205e+00  1.84731746e+00\n",
      " -2.71154671e+01 -2.02881393e+01 -2.25907192e+01 -3.00488734e+00\n",
      " -6.07699299e+00 -4.95461512e+00 -1.05358467e+01 -7.05271387e+00\n",
      " -3.73670101e+00  8.34395599e+00 -2.79738979e+01  1.17503700e+01\n",
      " -8.51597786e+00 -6.22054863e+00  4.26812744e+00 -3.95220909e+01\n",
      " -6.01060438e+00 -2.27826080e+01 -3.11352396e+00  3.67113876e+00\n",
      " -1.51508389e+01 -3.64435124e+00]' has dtype incompatible with int64, please explicitly cast to a compatible dtype first.\n",
      "  preds[val_index] = model.predict(dval_i)\n"
     ]
    },
    {
     "name": "stderr",
     "output_type": "stream",
     "text": [
      "\r",
      " 30%|████████████████████████████████████████████▍                                                                                                       | 3/10 [01:04<02:30, 21.54s/it]"
     ]
    },
    {
     "name": "stderr",
     "output_type": "stream",
     "text": [
      "C:\\Users\\81809\\AppData\\Local\\Temp\\ipykernel_14576\\3386215446.py:18: FutureWarning: Setting an item of incompatible dtype is deprecated and will raise an error in a future version of pandas. Value '[ 8.32462370e-01 -8.27265930e+00  4.48555374e+00  1.52356691e+01\n",
      "  2.13562260e+01  9.66839218e+00  3.47461128e+00 -2.86521244e+00\n",
      "  3.55476427e+00  3.38334031e-02 -4.10813808e+00 -1.69961202e+00\n",
      "  2.31729135e-01 -1.99769235e+00 -4.87031507e+00  2.11242771e+01\n",
      " -2.47921968e+00 -2.16778827e+00  2.14331570e+01  1.04370558e+00\n",
      "  7.29198790e+00  2.57405066e+00 -7.05658793e-02  4.70789051e+00\n",
      " -4.40695572e+00  8.29648876e+00 -8.34118545e-01 -4.44346380e+00\n",
      "  3.46309066e+00  4.64524317e+00  1.74765229e-01  1.58189068e+01\n",
      "  4.71574593e+00  4.11671114e+00 -7.39197373e-01  8.06798172e+00\n",
      "  6.65154815e-01  1.66207581e+01  1.85888648e+00 -8.05341053e+00\n",
      "  6.22611809e+00 -1.26201904e+00  8.79094887e+00  5.03343201e+00\n",
      " -6.56800985e+00  6.04493189e+00  3.18202114e+00 -8.06025600e+00\n",
      " -3.04892111e+00 -2.11993551e+00  2.06806145e+01 -9.54615831e-01\n",
      "  1.49939156e+00 -2.13414431e+00  7.26457787e+00  2.21265078e+00\n",
      " -1.82650161e+00 -9.80282962e-01  2.21728992e+01  1.27397976e+01\n",
      " -2.39125133e+00 -1.87059510e+00  2.61463203e+01 -1.63634729e+00\n",
      "  2.64588404e+00 -8.42370868e-01  8.39851022e-01  6.25791132e-01\n",
      " -2.31966925e+00  2.61419356e-01  2.23224449e+01 -2.94284344e+00\n",
      "  6.88727427e+00  7.07899714e+00  1.14450252e+00 -1.81651747e+00\n",
      "  5.10576105e+00 -1.05643070e+00  1.86652553e+00 -9.85281658e+00\n",
      "  1.83707886e+01  4.18910122e+00  7.24248743e+00  1.03602943e+01\n",
      " -1.42191243e+00  3.95320225e+00  3.08196664e+00 -3.09728289e+00\n",
      "  2.54952888e+01  1.26227226e+01 -1.11634779e+01 -5.52735090e+00\n",
      "  1.72820816e+01 -3.17046428e+00 -1.11565006e+00  6.25099182e+00\n",
      " -9.66907024e-01  1.06516428e+01  6.00456333e+00 -2.40347314e+00\n",
      " -4.18252754e+00  4.11675835e+00  2.29683990e+01  1.53383799e+01\n",
      " -1.49039078e+01 -1.47926331e-01 -3.51204371e+00  1.12422142e+01\n",
      " -2.24149728e+00  5.56852102e+00  8.35797977e+00  8.13351154e+00\n",
      "  1.55033569e+01  4.59659100e+00  1.98608971e+00  1.46849537e+00\n",
      " -2.32872891e+00  1.59669762e+01  1.71444492e+01  5.25546408e+00\n",
      "  4.93521023e+00  9.78587246e+00 -1.66978157e+00  7.13032198e+00\n",
      " -5.73992252e+00  1.44426334e+00  1.10532770e+01 -7.09973907e+00\n",
      "  6.87977839e+00  4.80347729e+00  4.93203259e+00  9.21660900e+00\n",
      "  9.51346397e+00  1.76011276e+01  1.27541771e+01  9.88623905e+00\n",
      "  3.46007824e-01 -5.29773760e+00  6.55842781e+00 -2.60657835e+00\n",
      " -4.51393890e+00  2.22271805e+01  8.46916580e+00 -1.69507730e+00\n",
      " -3.43880582e+00  6.76471758e+00  5.57144117e+00  2.34214082e-01\n",
      "  6.99567795e+00 -1.39731562e+00  2.35099201e+01  4.82677937e+00\n",
      "  1.57916651e+01 -1.02836580e+01 -4.84616470e+00 -1.02358615e+00\n",
      " -6.40514469e+00  1.69052112e+00  2.55035973e+00  7.27149582e+00\n",
      "  4.51059580e+00 -1.15623560e+01  1.21690774e+00  1.50414252e+00\n",
      "  3.62397933e+00  4.58097887e+00  8.82149982e+00  4.32988930e+00\n",
      "  1.50029147e+00 -2.07838798e+00  4.34638834e+00 -5.53620863e+00\n",
      " -1.54851208e+01 -4.16815424e+00  7.22171485e-01  1.64101925e+01\n",
      "  3.26611876e+00 -2.39259601e+00  6.68999004e+00  3.50223374e+00\n",
      " -1.11024141e+00 -5.25946081e-01 -3.10201240e+00 -4.71625280e+00\n",
      "  2.67232246e+01  1.24118173e+00  2.20536556e+01 -6.18270350e+00\n",
      "  3.64638448e+00  5.93251705e+00 -4.13335419e+00 -3.63049769e+00\n",
      " -1.11869955e+00  7.07061052e+00  1.41108313e+01  1.10265887e+00\n",
      " -1.96855068e-01  1.78500824e+01 -2.28273201e+01 -2.61778736e+00\n",
      " -1.08625431e+01  1.28170967e+01  1.09309757e+00 -4.36024904e+00\n",
      "  1.88698292e+00  3.58797288e+00  2.85615683e+00  3.97776103e+00\n",
      "  9.13899040e+00  9.29682827e+00  3.22503066e+00  3.00945148e+01\n",
      "  3.05612545e+01  2.01712036e+00  9.30734444e+00 -2.83850837e+00\n",
      "  3.69500580e+01  2.20789123e+00  1.67002125e+01  1.19151087e+01\n",
      " -3.47434449e+00 -2.07655287e+00  2.48595095e+00  3.58551598e+01\n",
      "  1.19070807e+01  2.45522652e+01  3.64517021e+01  7.24440956e+00\n",
      " -1.18823636e+00  8.29503155e+00 -1.08547478e+01  6.64855862e+00\n",
      "  4.14661694e+00  2.70765285e+01  9.31868458e+00  1.72512608e+01\n",
      " -5.97429633e-01 -8.32203484e+00  3.46411920e+00 -1.62883701e+01\n",
      "  3.79954109e+01  1.18675938e+01 -5.19609392e-01  9.38865423e-01\n",
      "  2.67239513e+01  1.93864098e+01  2.08869839e+01  4.86021900e+00\n",
      " -1.47483027e+00 -5.31477976e+00  1.92827816e+01  1.50928097e+01\n",
      "  2.92278614e+01  3.56279778e+00  6.74445677e+00  2.33903809e+01\n",
      "  4.79133511e+00 -1.41114388e+01  1.17357998e+01 -2.51977324e+00\n",
      "  2.91888142e+00 -5.17925692e+00  2.34799900e+01 -3.56709456e+00\n",
      "  3.08012657e+01  1.29099836e+01  2.66312218e+00  4.74450588e+00\n",
      "  3.75575453e-01  1.12979832e+01  3.46117134e+01  1.45866032e+01\n",
      "  5.17315817e+00  1.53683910e+01  3.45235825e+01  1.59816933e+00\n",
      "  6.25907230e+00 -8.54245090e+00  4.04496098e+00 -2.30129600e+00\n",
      "  1.33353262e+01  1.45417442e+01  2.25245667e+01 -3.09682369e+00\n",
      " -1.26220798e+01 -8.35905743e+00  2.54668474e+00 -6.41951084e+00\n",
      "  9.03217375e-01  2.20612526e+01  5.97359037e+00 -1.14399185e+01\n",
      "  4.47565937e+00  8.79050541e+00 -1.80217996e-01  4.66482067e+00\n",
      "  2.00153561e+01 -7.78024292e+00 -1.23080835e+01  3.93591805e+01\n",
      "  6.19895840e+00 -4.46388006e+00  2.96391678e+01  1.26692038e+01\n",
      "  2.26331863e+01  1.40285711e+01  4.36273861e+00 -2.88177848e+00\n",
      " -1.41364317e+01  4.98427719e-01 -6.33806133e+00 -1.26589193e+01\n",
      " -3.30933189e+00 -1.25075102e+01 -1.65808773e+01 -9.71766186e+00\n",
      " -7.30178070e+00 -7.87692261e+00 -6.61607552e+00 -6.07704592e+00\n",
      "  3.80118155e+00 -5.57373428e+00  4.19365168e+00  1.81253672e+00\n",
      "  2.06515622e+00 -2.34762249e+01  5.29176295e-01 -1.28329525e+01\n",
      " -2.23301907e+01 -1.08664513e+00 -5.70175171e+00 -1.30692112e+00\n",
      "  5.84320831e+00  5.01261425e+00 -1.08974659e+00 -7.78353024e+00\n",
      " -8.62718868e+00  1.53236461e+00 -5.14738274e+00  1.91378522e+00\n",
      "  4.49275315e-01  4.13911611e-01 -4.04279995e+00 -2.61507759e+01\n",
      " -1.11023455e+01 -6.49083281e+00 -1.62548866e+01 -3.20408106e+00\n",
      " -6.69051790e+00 -1.89738750e+01 -6.50559330e+00  1.12516060e-01\n",
      " -5.93652582e+00  6.25111532e+00 -2.03320293e+01  8.57450294e+00\n",
      " -4.39400673e+00 -2.57193241e+01 -7.03272581e+00 -1.52505660e+00\n",
      " -5.43363428e+00 -8.41804504e+00 -5.14278030e+00 -3.17307544e+00\n",
      "  1.87465096e+00 -1.18754282e+01  2.41682315e+00 -1.48598661e+01\n",
      "  5.47101915e-01 -5.71759748e+00 -4.95320368e+00 -2.27968597e+00\n",
      " -2.26452236e+01 -8.69943714e+00 -3.89986157e+00 -7.74963331e+00\n",
      " -5.79603291e+00 -7.02877566e-02 -4.56288427e-01 -1.64162540e+01\n",
      " -2.67652187e+01 -2.73230934e+00 -1.02109253e+00 -1.80276799e+00\n",
      " -1.81287289e+01 -8.51636589e-01 -5.86762857e+00 -2.52274466e+00\n",
      "  3.73293281e-01 -2.78355408e+01 -1.92329369e+01  2.03810477e+00\n",
      " -1.21998940e+01  2.14652300e+00 -7.35286951e+00 -3.36920714e+00\n",
      " -6.69363832e+00 -1.16327400e+01 -5.43352938e+00 -4.38063955e+00\n",
      " -2.43510094e+01  1.52967014e+01  5.87011671e+00 -2.69777622e+01\n",
      " -1.58405600e+01 -1.65309486e+01 -1.85621185e+01 -6.99821520e+00\n",
      " -3.01113820e+00 -4.72463322e+00  9.19913483e+00 -4.29287958e+00\n",
      " -8.41306305e+00 -5.12561989e+00  5.15689552e-01  3.78155971e+00\n",
      " -1.25531745e+00 -7.62233555e-01 -1.49971199e+01  1.86143804e+00\n",
      "  6.18269265e-01  4.65306902e+00 -1.82124290e+01 -1.00621920e+01\n",
      " -2.59426951e+00 -5.92064285e+00  3.26757622e+00 -1.07294235e+01\n",
      " -1.22577362e+01 -2.03964615e+00 -4.63798523e-01 -5.97286046e-01\n",
      " -6.09745622e-01 -5.00838375e+00 -2.08614394e-01 -1.54328477e+00\n",
      " -4.58869314e+00 -5.34068871e+00 -8.94960403e+00 -9.83566666e+00\n",
      " -6.26522923e+00 -4.29528093e+00  8.01758468e-01 -7.45775795e+00\n",
      " -5.70796430e-02 -1.39923525e+00 -2.33486195e+01  1.64723110e+00\n",
      "  2.57591105e+00 -1.83932228e+01 -2.25706697e+00 -1.02591312e+00\n",
      "  2.07812810e+00 -1.87213290e+00 -3.93262720e+00 -5.89705229e+00\n",
      " -3.44861770e+00  3.25572300e+00  2.51285982e+00 -2.16604195e+01\n",
      " -2.15578020e-01 -4.43463802e+00 -4.58335447e+00  1.27531743e+00\n",
      " -3.23859906e+00 -3.26435542e+00  3.39043856e+00 -2.97761583e+00\n",
      " -1.56140699e+01 -2.98907995e+00 -5.34283781e+00 -8.25830877e-01\n",
      " -3.81833768e+00 -1.25133200e+01 -5.40941381e+00 -6.91407299e+00\n",
      " -2.75564051e+00 -4.98832321e+00 -1.33230467e+01 -2.20879345e+01\n",
      " -1.38604231e+01 -2.28558502e+01  4.67837524e+00 -1.94558632e+00\n",
      "  1.21113434e+01  3.51093078e+00  3.72726107e+00 -1.14456367e+01\n",
      " -6.23630142e+00  3.70741534e+00 -3.91984081e+00  5.70177126e+00\n",
      " -2.10942574e+01 -6.20410219e-03 -3.20890450e+00 -1.72612400e+01\n",
      " -4.57076216e+00  1.51314759e+00  3.27867828e-02 -1.54792821e+00\n",
      " -7.64195108e+00  6.84222317e+00 -1.15779905e+01 -4.67458725e+00\n",
      " -1.50303936e+01 -6.86530018e+00 -3.62445164e+00 -2.52758904e+01\n",
      " -1.55087786e+01  3.85642409e+00  1.08382559e+00 -3.69572234e+00\n",
      "  1.02152309e+01 -5.50164557e+00 -1.71698017e+01 -4.78277826e+00\n",
      "  3.86205125e+00 -6.58716059e+00 -4.19535398e+00 -1.01062031e+01\n",
      " -1.12525988e+01 -3.35549507e+01  1.19802701e+00 -2.63605881e+01\n",
      " -1.28886766e+01  6.02005720e+00 -2.00264378e+01 -1.52603140e+01\n",
      "  1.50757599e+00 -1.01189775e+01  2.71030712e+00 -2.55251083e+01\n",
      " -2.96191273e+01  4.23570013e+00 -3.41638794e+01 -2.79185696e+01\n",
      " -1.34529572e+01 -8.19774246e+00 -6.28710032e+00 -2.69292088e+01\n",
      " -1.52035201e+00 -1.30204725e+01  4.39682150e+00 -5.86775616e-02\n",
      " -3.52927303e+00 -1.17941618e+00 -4.44909096e+01 -1.04326451e+00\n",
      " -3.21778941e+00  6.26363325e+00 -2.22304821e+01 -2.30988922e+01\n",
      " -2.77673874e+01 -1.25933027e+01  1.16423881e+00 -9.60880947e+00\n",
      "  1.82042491e+00 -1.19776285e+00 -8.35680866e+00 -2.64279556e+01\n",
      " -5.89645505e-01 -8.16190720e+00  1.57078847e-01 -1.54187784e+01\n",
      " -9.62157917e+00 -5.85638428e+00 -1.63784838e+00 -1.32461195e+01\n",
      " -1.55584536e+01 -3.15485802e+01 -4.45493317e+00 -4.82283783e+00\n",
      " -3.07573242e+01 -3.69058456e+01 -3.87426262e+01 -8.27997684e+00\n",
      " -8.22141171e+00 -2.76230736e+01 -6.72181654e+00 -1.88643780e+01\n",
      "  2.15231395e+00 -1.53680077e+01 -1.19890776e+01  1.12278585e+01\n",
      "  3.21280718e+00  1.86413038e+00 -4.28776360e+00 -6.82412958e+00\n",
      " -1.22143059e+01 -1.29373777e+00 -1.15650558e+01 -3.70049000e+00\n",
      "  2.92568517e+00  4.27166271e+00 -6.15537214e+00  8.55692923e-02\n",
      " -7.93384647e+00 -1.46375389e+01 -1.87584953e+01 -5.20342398e+00\n",
      "  8.86587334e+00 -7.20565653e+00 -2.86642766e+00 -1.23187847e+01\n",
      " -1.20942755e+01  3.21907091e+00 -1.78165417e+01 -2.63681278e+01\n",
      "  2.45684886e+00 -4.75673342e+00  1.42305255e-01 -2.01811790e+01\n",
      " -5.08933163e+00 -4.69430447e+00 -2.15788307e+01 -4.60966682e+00\n",
      "  1.05331154e+01  1.01547694e+00 -6.37861776e+00  7.00807476e+00\n",
      " -7.15720510e+00 -2.45956078e+01 -1.23557377e+00 -2.81709309e+01\n",
      " -1.50303841e+01  4.38270044e+00 -1.71129589e+01 -5.44858885e+00\n",
      " -5.32155514e+00  7.58957148e+00 -1.76589222e+01 -3.00008564e+01\n",
      " -4.08419991e+01 -1.03677979e+01 -7.33006001e+00 -3.77163811e+01\n",
      " -2.92567158e+01 -3.97729707e+00 -1.98483582e+01  6.85761118e+00\n",
      "  9.46630383e+00 -3.42342072e+01 -3.24460459e+00 -2.87235718e+01\n",
      " -1.65596275e+01 -2.37161884e+01]' has dtype incompatible with int64, please explicitly cast to a compatible dtype first.\n",
      "  preds[val_index] = model.predict(dval_i)\n"
     ]
    },
    {
     "name": "stderr",
     "output_type": "stream",
     "text": [
      "\r",
      " 40%|███████████████████████████████████████████████████████████▏                                                                                        | 4/10 [01:29<02:15, 22.66s/it]"
     ]
    },
    {
     "name": "stderr",
     "output_type": "stream",
     "text": [
      "C:\\Users\\81809\\AppData\\Local\\Temp\\ipykernel_14576\\3386215446.py:18: FutureWarning: Setting an item of incompatible dtype is deprecated and will raise an error in a future version of pandas. Value '[-9.3102980e+00 -1.5817028e-01  2.2509495e+01  1.1870740e+01\n",
      "  2.2247318e+01  1.8879372e+01 -1.2809869e+00  6.5317874e+00\n",
      "  1.0016827e+01  7.6109743e+00  8.4606123e+00 -2.7043319e+00\n",
      " -4.9661441e+00  1.9545175e+00  2.4253780e+01  2.3111427e+01\n",
      " -1.7928480e+00  5.3418274e+00 -1.1425841e+00  4.0305347e+00\n",
      "  1.0535911e+01  2.1351581e+00  2.0094282e+01  2.1121685e+01\n",
      "  3.0782506e+00 -5.9948602e+00  7.5260675e-01  1.3233542e+00\n",
      "  6.8179526e+00 -5.6982307e+00  7.2933307e+00 -9.0403795e-01\n",
      "  1.8859180e+01 -1.4441462e+00 -6.8405194e+00  3.3954885e+00\n",
      "  1.7293713e+01 -5.1805291e+00  1.5549189e+00 -1.6482849e+00\n",
      "  2.9950402e+00  8.1506691e+00 -4.6196318e+00 -8.3495264e+00\n",
      " -3.4319947e+00  7.4574547e+00  5.6463890e+00  1.3997823e+01\n",
      "  6.9205360e+00  7.9652061e+00  6.0343032e+00 -5.1975517e+00\n",
      " -3.6655467e+00  5.3807907e+00 -1.1368863e+01  5.2592707e+00\n",
      "  7.1120338e+00  2.3175055e+01  2.2255260e+01  5.3117237e+00\n",
      "  3.6264999e+00  2.7597480e+00  4.2016234e+00 -1.9573141e+00\n",
      "  7.7887459e+00  5.7269888e+00 -3.1119168e-01  3.1182544e+00\n",
      "  3.4484689e+00  1.9733132e+00 -1.9292060e+00  3.2564099e+00\n",
      " -3.5626636e+00  4.4008961e+00  3.4331369e-01  2.7398497e+01\n",
      "  9.5341730e+00 -1.4810342e+00 -5.7889285e+00 -1.4456406e+00\n",
      "  1.1875482e+01  2.2613831e+00 -2.3459797e+00  3.5959866e+00\n",
      "  8.3090267e+00  1.8571522e+00  1.2622926e+01  1.4826773e+00\n",
      "  2.4839323e+01  1.1123128e+01 -1.1704442e+01 -5.9967804e+00\n",
      "  2.2207289e+01 -3.4280341e+00  8.6162682e+00  1.3368918e+01\n",
      "  3.8727834e+00  1.2120695e+01 -1.3892481e+00 -2.2728984e+00\n",
      " -1.0811570e+00  1.2815206e+01  2.2387529e+01 -9.3408279e+00\n",
      " -5.5311322e+00  1.3335913e+01  8.2060602e-03  5.7806473e+00\n",
      "  2.9819853e+00  3.9102943e+00 -8.3448677e+00 -1.6523367e+00\n",
      " -7.8111517e-01  5.5328131e+00  1.4754388e+00  2.3055887e+00\n",
      " -1.0770481e+01  6.0273190e+00 -2.0958688e+00  1.3918109e-01\n",
      " -2.3224390e+00  7.0749106e+00  5.2228842e+00 -2.8439503e+00\n",
      "  3.6300092e+00  7.2585976e-01  6.8291526e+00  6.9354367e+00\n",
      "  1.5646570e+01  3.0753958e+00 -1.9173557e+01 -5.9853745e-01\n",
      "  2.8903642e+00  4.4613633e-01  7.7455792e+00 -2.3873594e+00\n",
      " -1.1317921e-01  3.8352404e+00  2.8442011e+01  1.1651066e+01\n",
      " -2.4151328e+00  1.6761229e+01  2.2663321e+01 -3.1054494e+00\n",
      " -7.1332231e+00  1.4683419e+01 -5.2032578e-01  7.9290280e+00\n",
      "  1.4732895e+00  6.5291977e+00  5.5091863e+00 -2.6957653e+00\n",
      "  1.5431432e+01  3.5456140e+00  2.3400354e+00  1.4137633e+00\n",
      "  6.1846862e+00  2.0852301e+01  2.5698156e+00 -1.0761652e+01\n",
      "  3.2384822e+00 -7.8867893e+00 -1.3053635e+00  3.6066570e+00\n",
      " -3.2775822e+00  5.2388582e+00  4.7082403e-01  1.4832391e-01\n",
      "  3.9174705e+00  1.1341211e+01 -3.1938815e-01  7.0746379e+00\n",
      "  9.7925291e+00 -6.1435905e+00  4.2997804e+00  2.0090806e+00\n",
      " -8.2184005e-01  5.4670062e+00  4.7708983e+00  2.1389604e+00\n",
      " -2.8236003e+00  5.6161838e+00 -2.1504943e+00 -3.7968700e+00\n",
      " -4.2725320e+00  1.2375669e+01  3.8650048e+00  6.4141545e+00\n",
      " -2.2312403e+00 -2.5671351e+00  2.7158216e+01  4.6242471e+00\n",
      "  2.3581738e+01 -1.6059543e-01 -7.9376507e+00  1.4558903e+01\n",
      "  1.0858602e+01  3.4964063e+00 -1.5046643e-01 -4.6869125e+00\n",
      "  9.2953568e+00  1.6563717e+01 -3.4102092e+00 -2.1972265e+00\n",
      "  5.4706407e+00  4.1817975e+00 -1.0379327e+01  3.6260645e+00\n",
      " -5.4618764e+00 -7.9284101e+00 -9.7549105e-01  2.5987289e+00\n",
      "  1.1356636e+01  1.4442731e+01 -8.1344147e+00  2.7622044e+01\n",
      "  9.3076429e+00  1.0054427e+01  4.7091327e+00  1.1808163e+01\n",
      " -5.0306215e+00  3.3320744e+01 -2.5790548e+00  1.6822369e+01\n",
      " -2.7274508e+00  2.6206659e+01  2.3260313e+01 -5.7333941e+00\n",
      " -7.2384377e+00  1.0372603e+01  1.3375965e+01  1.8428431e+01\n",
      " -6.9491596e+00 -4.1513996e+00 -3.0984230e+00  6.8438393e-01\n",
      "  6.5468901e-01  1.6708807e+01  3.5292324e+01 -1.1951544e-02\n",
      "  2.2091053e+00  8.5137644e+00  1.7221914e-01  2.1493872e+01\n",
      "  1.4603069e+01  2.1760685e+01  2.0322863e+01  1.5925319e+01\n",
      "  8.0289717e+00  4.0959987e-01  8.1962767e+00  2.2940044e+01\n",
      "  4.7526450e+00  3.8566067e+00  2.6830307e+01  7.4687104e+00\n",
      " -9.4134579e+00  2.4973589e+01  1.5362045e+01  2.2115906e+01\n",
      " -1.0333364e-02  2.2275279e+00  2.4678928e+01  1.1084436e+01\n",
      "  1.7023104e+01  2.3548918e+00 -1.0430821e+01 -1.4529525e-01\n",
      "  7.8435332e-01  3.2173870e+01  1.2059929e+01  1.4428404e+01\n",
      " -7.9747787e+00  1.3464356e+01  3.6516872e+01  1.2080255e+01\n",
      "  5.7767658e+00  1.4154248e+01 -3.2281795e+00  3.5023418e+01\n",
      "  1.9762294e+00 -1.4251134e+00  4.1813770e+01  1.0002831e+01\n",
      "  5.3753748e+00 -7.8268323e+00  6.7540536e+00  3.6571312e+01\n",
      "  3.1190777e+00  4.7021241e+00  5.0999284e-01  1.7326710e+01\n",
      "  1.4766516e+01  2.8986965e+01  1.3636804e+01 -3.3978126e+00\n",
      " -4.1405044e+00  1.2028183e+01  2.0244032e+01 -3.3946946e+00\n",
      "  5.6279778e+00  9.4402266e+00  3.9719005e+00  2.8922071e+01\n",
      "  1.6154181e+01  5.3965492e+00  1.3679902e+01  4.4242916e+00\n",
      "  1.3331256e+01  4.5282440e+00  6.6717963e+00 -4.0249357e+00\n",
      " -4.4655089e+00  9.1606474e+00  1.2865268e+01  4.8063030e+00\n",
      "  1.4510292e+01  2.6265547e+00 -1.5866965e-01  2.9938729e+00\n",
      " -2.0300994e+00 -3.2943671e+00  1.5710694e+00 -9.3292866e+00\n",
      " -7.7559133e+00 -3.5544739e+00 -2.0376842e+01 -1.0583427e+01\n",
      " -1.7265632e+00  3.6521845e+00 -6.8418069e+00 -6.4999118e+00\n",
      " -7.8306594e+00 -4.5211358e+00 -2.0735121e+00 -5.8442988e+00\n",
      " -2.1305124e+01 -5.1102290e+00 -3.0757382e+00 -8.0119686e+00\n",
      " -9.3746157e+00 -6.8154707e+00  6.7772645e-01 -4.7685094e+00\n",
      " -3.3286476e+00 -2.3916407e+00  8.6735888e+00 -7.2575879e+00\n",
      "  4.6070728e-01  5.0281882e+00 -3.0096464e+00 -1.3381206e+01\n",
      " -1.1633992e+01 -4.9957058e-01  1.2060215e+00  1.7599028e+00\n",
      " -1.8398076e+00 -4.4306970e+00  2.1222763e+00 -4.6210022e+00\n",
      " -8.4187412e+00  4.0521612e+00 -1.0045838e+01 -1.8363851e+00\n",
      " -1.2212937e+01  3.3435519e+00 -6.6157832e+00 -1.4734794e+00\n",
      " -7.9715538e+00 -6.6506853e+00  4.7066317e+00  4.1982360e+00\n",
      " -7.9800887e+00 -4.3095436e+00 -5.9122162e+00 -5.7422185e+00\n",
      " -2.5066195e+01 -1.4660459e+01  1.5254903e-01 -7.2670655e+00\n",
      " -3.2889810e+00 -7.0270333e+00 -1.0058113e+01 -6.8816891e+00\n",
      " -2.4306726e+00  9.1656888e-01 -9.8109432e-02 -1.9032436e+01\n",
      " -2.4196993e+01 -7.5454040e+00  1.1612595e+00  1.0663432e+00\n",
      "  7.2383318e+00 -2.0165625e+01 -5.6560473e+00  8.4478235e-01\n",
      " -7.9655113e+00 -1.3993178e+01  3.5002666e+00 -2.0403776e+01\n",
      " -1.2011086e+00 -1.0404402e+00 -1.4192045e+01  1.8091755e+00\n",
      " -1.9531893e+01 -9.3163145e-01  8.9837542e+00 -8.6768913e+00\n",
      "  2.7417309e+00 -8.9461994e+00 -1.1268877e+01 -5.0362344e+00\n",
      " -5.8691721e+00 -5.2463336e+00  1.7005683e+00 -4.6306014e+00\n",
      " -2.5162532e+00 -2.4245502e+01  1.9022217e+00  1.6768715e+01\n",
      "  1.7089828e+00 -1.0924297e+01 -9.5125256e+00 -6.3374200e+00\n",
      " -8.1611818e-01  9.7659343e-01 -8.8698006e+00 -5.5285063e+00\n",
      " -3.4091697e+00  7.6043463e-01  1.0531286e+00 -2.2275450e+00\n",
      "  2.5035355e+00 -2.1931252e+00 -7.4595919e+00  7.4994224e-01\n",
      "  4.6256952e+00 -4.7456899e+00  1.4630838e-01 -6.3456788e+00\n",
      " -1.9509485e+00 -8.4295311e+00  3.3797450e+00  2.0495352e+01\n",
      " -2.2014502e+01 -5.7599649e+00 -3.8374014e+00 -2.5848765e+00\n",
      " -2.0548166e+01 -2.6588874e+00  1.7128595e+00 -1.7178526e+01\n",
      "  5.2667060e+00 -6.2218674e-02 -9.0336823e-01 -9.9152279e+00\n",
      "  5.5642695e+00 -4.7200570e+00 -5.8169260e+00  1.4327891e+00\n",
      "  9.5524901e-01 -3.6469343e+00 -7.9878678e+00  4.7747299e-01\n",
      "  6.0710969e+00 -1.2227714e+01 -1.5912225e+00 -1.5798696e+01\n",
      " -2.8417084e+00 -4.3750730e+00 -6.9137812e+00  9.5195293e+00\n",
      "  6.2331781e+00 -3.6370647e+00 -3.2759492e+00  6.9417481e+00\n",
      "  3.9791599e-01  2.7397830e+00  3.7512670e+00 -3.0763724e+00\n",
      " -2.1071999e+01 -1.2628218e+01 -3.4303818e+00 -2.7442220e-01\n",
      "  1.1987672e+01 -1.5117300e+00 -1.0265802e+00 -8.5041142e+00\n",
      " -3.6159451e+00 -7.0088401e+00 -5.0221524e+00 -2.1408126e+00\n",
      " -6.4635258e+00  1.7153134e+00 -1.2582457e+01 -2.0619164e+01\n",
      " -6.9585381e+00 -4.9021201e+00 -1.1362913e+01 -1.9242769e+01\n",
      " -1.8840514e+00 -4.5739017e+00  2.5388398e+00  8.6369724e+00\n",
      " -2.6937136e+01 -3.5351729e+00 -1.2194936e+00 -1.4525984e+01\n",
      " -1.0759416e+00 -2.2104994e+01 -2.0461533e+01  4.5252505e-01\n",
      " -7.1416683e+00 -5.2140980e+00 -4.0765166e+00 -2.9614168e-01\n",
      " -7.4233756e+00 -2.9505255e+00 -5.6171989e+00 -6.0595093e+00\n",
      "  3.1100720e-01  1.1264570e+01  2.3007883e+01 -5.4600577e+00\n",
      "  4.1114631e+00  4.1370215e+00 -4.1489854e+00 -4.5078340e+00\n",
      " -4.0237265e+00 -2.9876053e+01 -5.3044891e+00 -2.4251968e+01\n",
      " -2.9494881e+01 -4.4380708e+00 -3.6148689e+01  1.3741167e+01\n",
      " -1.2134961e+01 -1.5468393e+01  8.3059149e+00 -6.4829240e+00\n",
      " -1.0137382e+01 -3.0032576e+01 -2.5529446e+01 -2.3243181e+01\n",
      " -3.5855377e+00 -3.4974464e+01 -2.5632185e+01 -7.8186393e+00\n",
      " -3.3756776e+00 -2.1725222e+01 -2.7866720e+01 -1.5050978e+01\n",
      " -1.9596123e+01 -1.0864369e+01 -2.3180803e+01 -3.6034943e+01\n",
      "  1.0341903e+00 -3.0812149e+00 -6.3871198e+00 -3.8953378e+00\n",
      " -4.6291283e+01  3.8244777e+00 -1.6843925e+01 -9.7235260e+00\n",
      " -1.2527359e+01  2.2794241e-01  2.6219566e+00 -3.4536109e+00\n",
      " -1.2499247e+01 -1.1822007e+01  1.2846396e+01  2.3013563e+01\n",
      " -4.2123566e+00 -7.6650745e-01 -1.9066109e+01 -1.1914652e+01\n",
      " -2.8796951e+01 -2.8736578e+01  4.9729924e+00 -1.7982620e+01\n",
      "  7.9163189e+00  1.0589634e+01 -3.0614672e+01 -1.4279281e+01\n",
      " -3.1391819e+01 -3.3588451e+01 -1.2484996e+01 -4.4065228e+00\n",
      " -3.5309685e+01 -4.2049012e+00 -3.5541824e+01  1.2751257e+01\n",
      " -1.1226411e+01 -2.3443945e+01 -2.7186302e+01 -4.6984520e+00\n",
      " -1.0756637e+00 -7.6956267e+00 -1.4829038e+01 -3.6405516e-01\n",
      " -3.0531605e+01 -1.2660241e+01 -2.4997366e+01  2.9808609e+00\n",
      " -8.3586006e+00  4.1214013e+00 -1.8534931e+00 -2.9923681e+01\n",
      " -7.7180946e-01 -7.0895261e-01 -8.2626228e+00 -1.5498885e+01\n",
      "  2.2438002e+00 -6.1635337e+00 -9.0351410e+00 -2.2250767e+00\n",
      " -4.3443308e+00 -2.2530609e+01 -2.8969614e+01 -2.8190168e+01\n",
      " -1.7444420e+01 -5.2206573e+00 -2.6074022e+01 -2.1464191e+01\n",
      " -5.8023477e+00  1.1968037e+01 -6.5221968e+00 -1.0564328e+01\n",
      " -1.4119717e+01 -5.7498341e+00  3.1833917e-01  8.7851181e+00\n",
      " -3.8678604e+01  2.5231018e+00 -2.4214951e+01  3.9446855e+00\n",
      " -1.1510689e+01  1.7078860e-01 -1.1926904e+01 -1.4810107e+00\n",
      " -3.0043449e+00  1.9361811e+01 -8.9544621e+00 -2.0249039e+01\n",
      " -4.2961664e+00 -3.4733164e+00]' has dtype incompatible with int64, please explicitly cast to a compatible dtype first.\n",
      "  preds[val_index] = model.predict(dval_i)\n"
     ]
    },
    {
     "name": "stderr",
     "output_type": "stream",
     "text": [
      "\r",
      " 50%|██████████████████████████████████████████████████████████████████████████                                                                          | 5/10 [01:50<01:50, 22.10s/it]"
     ]
    },
    {
     "name": "stderr",
     "output_type": "stream",
     "text": [
      "C:\\Users\\81809\\AppData\\Local\\Temp\\ipykernel_14576\\3386215446.py:18: FutureWarning: Setting an item of incompatible dtype is deprecated and will raise an error in a future version of pandas. Value '[ 5.49947560e-01  2.16153598e+00  1.50009470e+01  3.83152962e+00\n",
      " -5.24012184e+00 -7.24258721e-01  1.90620346e+01  8.57448959e+00\n",
      "  1.10905466e+01  6.28029346e+00  2.09330010e+00  4.80074215e+00\n",
      "  6.44765043e+00  2.35967026e+01  1.76488614e+00  2.15214691e+01\n",
      "  2.25009270e+01 -1.04258089e+01  2.19735813e+00  6.71684027e-01\n",
      " -4.45942134e-02 -4.41428137e+00  2.48162403e+01  2.88358536e+01\n",
      "  1.10577555e+01  3.38519788e+00 -3.22047496e+00  9.17382145e+00\n",
      "  4.24202776e+00 -9.78359640e-01 -3.39990592e+00  6.09162235e+00\n",
      "  3.14579058e+00  4.73076296e+00  1.54598856e+01  1.56843793e+00\n",
      "  1.63111195e-01  1.93304710e+01 -1.84743917e+00  4.40197325e+00\n",
      "  1.75839651e+00 -3.65704560e+00 -1.96719158e+00  7.82762623e+00\n",
      " -5.65134811e+00 -8.01994991e+00  1.74312935e+01  4.78762579e+00\n",
      "  2.33501053e+01  7.30644035e+00  2.30153728e+00  5.73722839e+00\n",
      " -1.96592450e+00 -2.56457281e+00  1.22826505e+00  1.18639336e+01\n",
      "  1.36727304e+01  5.33852339e+00  1.98958206e+00  3.84035039e+00\n",
      "  2.23488593e+00  4.66071415e+00  6.32360458e+00  5.15220594e+00\n",
      " -6.16999030e-01 -1.53423572e+00  1.69278717e+01  7.07520866e+00\n",
      "  1.21817951e+01  2.72283707e+01  4.22072506e+00  2.54902439e+01\n",
      " -9.56915474e+00  1.19834852e+01  1.13960381e+01  3.97440225e-01\n",
      "  4.27967787e+00  2.70224419e+01  7.60312796e+00  2.27188053e+01\n",
      " -1.03588700e+00  9.28428459e+00  8.46748829e+00 -2.30054879e+00\n",
      "  2.92060590e+00  1.19299908e+01  2.52249742e+00  1.07598619e+01\n",
      " -1.71032047e+00 -1.69315553e+00  2.55916691e+01 -4.35678482e+00\n",
      " -3.01631379e+00 -2.06964493e+00  2.68061123e+01  4.39328671e-01\n",
      "  1.89783001e+01  3.07927400e-01  1.24290514e+01  2.72532129e+00\n",
      " -2.64555097e+00  3.99328351e+00  1.00346994e+00  1.56715927e+01\n",
      "  1.38177366e+01  2.00769882e+01 -4.44099569e+00  7.31409550e+00\n",
      " -2.47821903e+00  9.35003567e+00  1.10179996e+01  4.59570885e+00\n",
      " -1.50293026e+01 -3.20473075e+00 -2.74346447e+00  9.92151165e+00\n",
      " -1.33466637e+00  2.97284164e+01  1.48355350e+01  5.21509504e+00\n",
      "  9.09870815e+00  8.82935715e+00  1.79088039e+01  2.95476049e-01\n",
      "  1.27255945e+01  3.76891375e+00 -5.97724795e-01  8.72758675e+00\n",
      " -1.82649028e+00  2.74457240e+00  3.52354550e+00  3.69004130e+00\n",
      "  5.70281625e-01  7.77654600e+00 -1.17327671e+01 -1.13685691e+00\n",
      " -2.15438509e+00 -5.53480959e+00  5.85417175e+00  2.20569205e+00\n",
      " -1.96496487e+00  1.69814663e+01  1.25838385e+01 -5.62953758e+00\n",
      "  1.92964897e+01  1.78837070e+01  2.30772133e+01  4.53392887e+00\n",
      "  6.04177570e+00  4.57934189e+00 -9.42576766e-01  6.12386751e+00\n",
      "  4.02269220e+00  1.22143269e+01 -1.66076732e+00  2.27922893e+00\n",
      "  4.21223968e-01 -3.70363736e+00  3.84120846e+00  2.12606621e+01\n",
      "  5.81563997e+00  6.13493729e+00  1.61734140e+00  8.18071079e+00\n",
      "  6.12718582e-01 -1.56470537e-01  5.23280859e+00  5.48826265e+00\n",
      "  1.01566067e+01 -5.95906544e+00  2.18266582e+01  3.87919450e+00\n",
      "  1.24532461e+01  8.37727451e+00  6.55176973e+00 -2.45066929e+00\n",
      "  2.37649536e+00  1.13014822e+01  4.15116119e+00  2.36254826e+01\n",
      "  6.79418468e+00  1.00913076e+01  1.01089306e+01  3.73338652e+00\n",
      "  2.45994720e+01  6.67520285e+00  5.76197624e+00  6.08331251e+00\n",
      "  5.04550314e+00  8.67603588e+00  1.00498457e+01  9.28059769e+00\n",
      "  7.54952574e+00 -2.29542804e+00  1.73343048e+01 -1.17598510e+00\n",
      "  2.17916250e+00 -1.27066445e+00  4.36676884e+00  1.10086250e+01\n",
      "  3.34683838e+01 -1.50178647e+00  4.30917816e+01 -3.27469444e+00\n",
      "  1.46747274e+01 -5.85726559e-01  2.57118177e+00 -5.88538551e+00\n",
      "  8.46252251e+00  2.77228785e+00  1.34779615e+01  6.17335749e+00\n",
      " -7.20047045e+00 -1.73160839e+00  2.22275085e+01  2.25691490e+01\n",
      "  8.81009865e+00 -3.19197506e-01  3.43261528e+01  3.57812576e+01\n",
      "  5.30218363e+00  1.93284912e+01  9.08343887e+00  1.33675585e+01\n",
      "  1.68483829e+01 -6.53302193e+00  1.22976513e+01  8.11348915e+00\n",
      " -4.74077797e+00 -2.05723715e+00  2.41098881e+00 -6.44074059e+00\n",
      "  9.31804752e+00  4.33426332e+00  1.64910774e+01  3.39466019e+01\n",
      "  5.22719085e-01  3.21175079e+01  7.85083711e-01 -1.11142051e+00\n",
      " -1.36904597e-01  5.40964222e+00  5.02877331e+00  1.14355159e+00\n",
      " -5.62645006e+00 -1.08184941e-01  1.56320705e+01  4.87651539e+00\n",
      "  9.86382008e+00  1.38064518e+01  3.27168541e+01  3.53108978e+00\n",
      " -6.16908979e+00  1.38142748e+01  2.22849312e+01  1.15713367e+01\n",
      "  9.57911587e+00  7.51268530e+00  3.39389277e+00  1.05750751e+00\n",
      "  4.47203293e+01 -4.23264933e+00  2.41761589e+01 -3.37229967e+00\n",
      " -4.40864563e+00  1.59096928e+01  3.19095840e+01  6.64854097e+00\n",
      "  1.21538668e+01  1.08821192e+01 -2.68903303e+00  7.18691063e+00\n",
      "  1.58782482e+01  3.21157494e+01  1.27472711e+00  3.69604039e+00\n",
      "  6.38889837e+00 -2.32174087e+00  8.33570862e+00  5.32772684e+00\n",
      "  4.67088089e+01 -3.83524489e+00 -2.25183535e+00 -1.86205292e+00\n",
      "  3.02418232e+01 -6.08982134e+00  2.54869728e+01  2.04419804e+01\n",
      "  4.48989773e+00 -1.27237329e+01  1.04438334e+01  2.06277847e+01\n",
      "  8.60314941e+00  1.39791775e+00  7.13768053e+00  3.60873222e+01\n",
      " -3.67749405e+00  1.18114586e+01  5.30960703e+00  1.55665903e+01\n",
      "  3.89672470e+00  5.88803244e+00  4.81345081e+00 -9.49147606e+00\n",
      " -7.13181067e+00  1.20624185e+00 -9.98512745e+00 -1.02815807e+00\n",
      "  7.98420095e+00  1.13230476e+01  3.03023758e+01  1.51402311e+01\n",
      "  2.13935299e+01  5.61709595e+00  1.95472026e+00  2.01259880e+01\n",
      "  4.42038059e+00  8.20273495e+00  2.15046520e+01  1.48172035e+01\n",
      "  2.09169102e+01 -1.85028648e+00 -5.59112024e+00 -1.57035279e+00\n",
      " -2.19622116e+01 -6.55318022e+00 -1.16593962e+01 -1.41298485e+00\n",
      " -6.05091095e+00  1.76089513e+00 -5.41788387e+00 -5.72128439e+00\n",
      "  6.80330133e+00  3.44318056e+00  5.25634241e+00 -1.83126497e+00\n",
      "  2.45870709e+00 -5.40355921e+00 -3.05081654e+00 -8.77073824e-01\n",
      " -2.03673992e+01 -2.98569179e+00 -5.40658188e+00 -2.06219411e+00\n",
      " -1.29557705e+00 -2.52961159e+00 -2.56642628e+00  4.28675413e-01\n",
      " -1.03668013e+01 -1.78762665e+01 -2.80151081e+01 -3.02990222e+00\n",
      " -9.64754677e+00 -4.17507553e+00 -8.82112122e+00 -1.00786841e+00\n",
      "  2.31879801e-01 -4.79906559e+00 -9.31643677e+00 -1.34601784e+00\n",
      " -9.03398323e+00 -7.35517931e+00  1.72470903e+00 -4.69632673e+00\n",
      " -4.71388674e+00 -1.44829483e+01 -2.15272045e+01 -6.22587729e+00\n",
      " -1.70493424e+00 -2.09083843e+00 -5.79109716e+00  4.29659271e+00\n",
      "  2.80239487e+00 -6.54499722e+00  5.56915224e-01 -2.91619086e+00\n",
      " -1.37265434e+01 -5.00362682e+00 -7.08759487e-01 -1.44743919e+01\n",
      " -6.64054632e+00  5.01731968e+00 -6.42337847e+00 -8.60625458e+00\n",
      " -5.62274551e+00  4.31621408e+00  6.46651983e-01 -6.24208260e+00\n",
      " -9.50376129e+00  8.62779713e+00 -1.65798149e+01 -1.21153336e+01\n",
      " -3.41392815e-01 -5.42140150e+00 -1.53422701e+00 -1.21977348e+01\n",
      " -1.89682522e+01  2.12600660e+00  6.40200281e+00 -7.18942928e+00\n",
      "  4.47528505e+00 -1.82162151e+01 -1.04769707e+01 -5.49069357e+00\n",
      " -2.98141909e+00 -5.01698065e+00 -1.83721936e+00 -1.22034712e+01\n",
      " -8.38627338e+00 -2.98657370e+00 -1.46302166e+01 -1.05250540e+01\n",
      " -3.10200381e+00 -9.74366093e+00 -1.39320886e+00 -1.61116922e+00\n",
      " -3.47604299e+00 -1.12079210e+01 -1.81202259e+01  3.14963102e+00\n",
      " -2.47887211e+01 -1.20880508e+01 -5.06840944e+00 -1.47580898e+00\n",
      " -4.82877827e+00 -1.19231617e+00 -1.36055489e+01  4.18167400e+00\n",
      "  5.59564018e+00 -4.55268204e-01 -6.25162303e-01 -5.43900156e+00\n",
      " -3.07978201e+00 -6.88097429e+00  1.00632095e+01 -2.16858177e+01\n",
      " -2.60125518e+00 -6.67178202e+00 -1.10353720e+00 -4.36414719e-01\n",
      " -8.54368973e+00 -1.18935308e+01  2.52660704e+00 -4.88658905e+00\n",
      " -3.98612714e+00 -3.19566011e+00  1.57934341e+01 -2.10053587e+00\n",
      "  2.53203821e+00  1.37614107e+01 -1.57381525e+01  3.35266495e+00\n",
      " -1.62445583e+01  2.40641236e+00 -8.40979195e+00 -4.48689318e+00\n",
      " -1.26134947e-01 -1.53007925e+00 -2.72535133e+00 -3.57789969e+00\n",
      " -2.01101913e+01 -1.00243330e+01 -8.18973255e+00 -2.30331955e+01\n",
      "  7.66630650e+00 -1.19230413e+00  4.79774714e+00  3.89155674e+00\n",
      " -2.29336739e+01 -2.73497319e+00 -6.97410202e+00  1.04361639e+01\n",
      " -5.70799887e-01 -1.84089890e+01  1.23814094e+00 -5.53074694e+00\n",
      " -1.84604969e+01 -2.98295587e-01 -5.96328199e-01 -4.06189489e+00\n",
      "  3.66713405e-01 -9.94028759e+00  2.39436936e+00  9.95186448e-01\n",
      "  1.04654765e+00  4.89696980e+00 -1.28744411e+01  4.39168549e+00\n",
      " -2.72331977e+00 -3.62832093e+00 -8.59631157e+00  3.46263146e+00\n",
      " -2.75711842e+01 -2.78641653e+00 -9.58071423e+00  3.29632568e+00\n",
      " -3.65956116e+00  5.51436329e+00 -2.05214873e-01  2.84023762e+00\n",
      " -3.93459177e+00 -5.01975584e+00  3.47157598e+00 -8.97690964e+00\n",
      " -5.65283728e+00  8.30595207e+00  9.37451541e-01  5.20192385e+00\n",
      "  5.00754774e-01 -1.63961334e+01 -3.16782379e+00 -7.45383501e+00\n",
      " -4.06070948e+00 -1.45627058e+00 -3.62623572e+00 -3.09964252e+00\n",
      " -2.08174968e+00  2.69523311e+00  2.42599449e+01 -1.96700115e+01\n",
      " -4.64234829e+00 -3.43166327e+00 -1.64288254e+01 -5.19573784e+00\n",
      "  1.00990543e+01 -3.28112459e+00  1.47687650e+00 -2.82442260e+00\n",
      " -9.26928043e+00 -1.07806244e+01 -6.60526562e+00 -3.37371087e+00\n",
      " -1.12164068e+01 -9.65803242e+00 -6.95482874e+00  5.22648096e+00\n",
      " -1.33238688e+01 -4.15077066e+00 -1.75415840e+01 -9.85338688e+00\n",
      " -2.44410305e+01  4.79097319e+00 -1.02981405e+01 -4.13013554e+00\n",
      "  4.16066796e-01 -8.84916973e+00 -2.82816086e+01 -3.26746445e+01\n",
      "  1.41401291e+01 -7.64427137e+00  9.75741327e-01 -1.69981921e+00\n",
      " -4.82048750e+00 -2.38958530e+01 -2.31182632e+01 -5.92119455e+00\n",
      " -8.99206734e+00  5.25519085e+00 -1.92609005e+01 -1.57321129e+01\n",
      " -6.97099018e+00 -4.77224493e+00 -2.24567623e+01 -1.20046110e+01\n",
      "  5.65466595e+00  6.19905758e+00  1.08675845e-01 -5.35383463e+00\n",
      " -2.60407963e+01 -1.08792992e+01 -1.58018513e+01  2.08537903e+01\n",
      " -1.71584187e+01  6.10304785e+00 -1.43462267e+01 -1.23618727e+01\n",
      " -3.46735039e+01 -7.47374249e+00 -2.45927906e+00 -1.01528144e+00\n",
      " -1.58775854e+00 -7.90996456e+00 -7.05763149e+00 -1.64725018e+01\n",
      " -1.54695816e+01 -3.06637058e+01  1.85606480e+00 -1.52509069e+01\n",
      " -3.41225929e+01 -6.72310925e+00 -2.68074589e+01 -1.61029911e+01\n",
      "  8.44580364e+00 -1.22880945e+01 -1.96619911e+01 -1.49902077e+01\n",
      " -4.22057343e+00 -1.35458155e+01 -1.09876184e+01 -3.33267670e+01\n",
      "  7.19833612e-01 -5.01237488e+00 -2.78193974e+00 -6.95779085e-01\n",
      " -2.92813282e+01 -2.72546463e+01 -2.70200672e+01 -5.10740280e+00\n",
      " -4.78007584e+01  1.74420261e+00 -3.80249825e+01 -1.81325507e+00\n",
      "  4.35115767e+00 -1.02999573e+01  8.34401035e+00  8.40166092e+00\n",
      " -7.19041729e+00 -3.24463959e+01  1.63935423e+00 -3.76383476e+01\n",
      "  3.02399230e+00 -4.44394302e+00 -1.11904478e+01 -1.69384193e+01\n",
      " -2.26343937e+01 -3.17690983e+01  1.29045696e+01 -2.15658355e+00\n",
      " -1.52857494e+00 -2.64465694e+01 -5.65723610e+00 -1.86154919e+01\n",
      " -2.84497509e+01 -2.42515278e+00  9.06980515e-01 -7.49220514e+00\n",
      " -6.99528408e+00 -8.68805408e+00  1.47630990e+00 -8.93253422e+00\n",
      " -3.94656982e+01 -7.36625814e+00 -1.21622019e+01 -5.45140409e+00\n",
      " -1.07500210e+01 -1.99574795e+01]' has dtype incompatible with int64, please explicitly cast to a compatible dtype first.\n",
      "  preds[val_index] = model.predict(dval_i)\n"
     ]
    },
    {
     "name": "stderr",
     "output_type": "stream",
     "text": [
      "\r",
      " 60%|████████████████████████████████████████████████████████████████████████████████████████▊                                                           | 6/10 [02:10<01:25, 21.39s/it]"
     ]
    },
    {
     "name": "stderr",
     "output_type": "stream",
     "text": [
      "C:\\Users\\81809\\AppData\\Local\\Temp\\ipykernel_14576\\3386215446.py:18: FutureWarning: Setting an item of incompatible dtype is deprecated and will raise an error in a future version of pandas. Value '[ 4.27214479e+00  1.38136206e+01 -5.56906462e+00  1.05202465e+01\n",
      "  4.25361729e+00  2.54161491e+01  7.84304905e+00  1.20308244e+00\n",
      "  5.45665789e+00  4.55175352e+00  1.98747301e+00  1.14075089e+00\n",
      "  8.33245873e-01  6.86041212e+00 -6.06495798e-01  2.11107445e+01\n",
      "  2.15275803e+01 -8.97030830e+00  5.90960741e+00 -1.22148049e+00\n",
      "  6.11735868e+00  1.24791980e+00 -5.12528992e+00  5.07141495e+00\n",
      "  7.57983541e+00  1.75157204e+01 -1.66197479e+00  2.92185745e+01\n",
      "  9.24086857e+00 -2.93701839e+00  4.27699947e+00  1.03868351e+01\n",
      "  1.44876957e+01  1.04206429e+01  6.36440659e+00  1.79267156e+00\n",
      "  1.57657232e+01  1.28139627e+00  1.51770520e+00  1.63457942e+00\n",
      "  1.86244007e-02  3.53992909e-01  8.06730080e+00  1.47771025e+00\n",
      "  6.20661640e+00  1.73762016e+01  1.38486176e+01  2.64961219e+00\n",
      " -3.11374164e+00 -1.38486326e+00  6.11953163e+00 -1.39591587e+00\n",
      "  1.29977989e+01 -2.21573114e+00 -2.02469325e+00  1.11684570e+01\n",
      "  2.48738670e+01  2.52739315e+01 -3.57426375e-01  6.38446283e+00\n",
      "  9.14369488e+00 -5.46006203e+00  8.86931229e+00  2.78532147e+00\n",
      "  8.67302239e-01 -2.73099780e+00  1.88718719e+01  5.39075136e+00\n",
      "  1.45549154e+01  1.91271877e+01 -6.47959900e+00  1.57713711e+00\n",
      "  6.37872458e+00  1.74072704e+01 -2.11710882e+00  1.81013927e+01\n",
      "  1.03480062e+01  1.23032646e+01  5.14177561e+00 -7.47554481e-01\n",
      "  7.26482153e+00  2.12234473e+00  1.57285643e+01  1.06697340e+01\n",
      " -2.92331004e+00 -5.65157712e-01 -7.51431406e-01 -4.36398697e+00\n",
      "  2.93503571e+00  1.51604834e+01 -1.66423166e+00 -4.21173954e+00\n",
      "  2.33534126e+01  5.93167448e+00  1.40912733e+01 -1.01964006e+01\n",
      "  1.35836344e+01  4.22275352e+00  1.22207317e+01 -8.12595463e+00\n",
      "  4.17453098e+00  9.55706406e+00 -3.40712452e+00  4.24149245e-01\n",
      "  1.24706030e+01  2.93064737e+00 -4.77607441e+00  1.87414134e+00\n",
      " -3.33419275e+00  1.13576913e+00  2.34027803e-01  5.96328831e+00\n",
      "  7.99989796e+00  2.57835541e+01 -3.12519670e+00 -8.87074375e+00\n",
      " -4.61657190e+00  5.71532774e+00 -1.03043270e+00  3.30119538e+00\n",
      "  7.60573483e+00  1.20619154e+01 -1.65714753e+00  3.86776996e+00\n",
      "  5.89482498e+00  1.54794776e+00  6.63086176e+00  1.70050793e+01\n",
      " -2.17952228e+00 -1.29981124e+00  6.08096695e+00  1.92699015e-01\n",
      "  7.41058409e-01  1.34512699e+00  4.07981920e+00  1.24934635e+01\n",
      "  3.13557363e+00  6.70868635e+00  7.93840945e-01 -9.56114197e+00\n",
      "  2.17800884e+01 -4.16066796e-02  3.88403440e+00  8.48374176e+00\n",
      "  1.61792755e+01 -3.74542999e+00 -3.40937108e-01  1.24040833e+01\n",
      "  1.30996275e+01 -1.71089721e+00 -1.31841302e-01  5.46444178e+00\n",
      "  2.94483948e+00 -5.65030098e+00  9.31026459e+00  1.25968904e+01\n",
      "  4.33987236e+00  8.07564497e-01 -3.06074643e+00 -2.62574673e+00\n",
      "  5.31056213e+00  5.40789747e+00  2.25660076e+01  2.58595896e+00\n",
      "  4.70748091e+00  9.56431329e-01  1.25974178e+00  1.68255138e+01\n",
      "  4.20100689e+00 -1.14076459e+00  6.00484705e+00  3.32593489e+00\n",
      "  7.70601225e+00  7.40830135e+00 -1.43662781e-01  3.53315067e+00\n",
      "  2.03916502e+00  2.38095150e+01  6.98200893e+00 -4.67626524e+00\n",
      "  7.94048691e+00  9.50739324e-01  6.35744143e+00  9.35825634e+00\n",
      "  2.39686508e+01  1.86706829e+01  4.41988039e+00  2.12493725e+01\n",
      "  1.65351143e+01  2.28066397e+00  5.13074923e+00 -3.20312595e+00\n",
      "  1.05802202e+01  1.55474663e+01  1.37640834e-01  3.69683495e+01\n",
      "  1.60790253e+01 -8.21346474e+00  5.79498911e+00 -4.39052248e+00\n",
      "  1.38756065e+01  1.15303593e+01  3.69457817e+01  7.07775402e+00\n",
      " -5.61663985e-01  2.33487320e+01  5.97805977e+00  8.28137779e+00\n",
      " -1.14183378e+00 -2.58274412e+00  9.06431389e+00  7.85250092e+00\n",
      " -1.10356407e+01  3.40693903e+00  2.46839790e+01  4.18520594e+00\n",
      " -4.72883075e-01  2.84088179e-02  9.17691135e+00  4.24582243e-01\n",
      " -7.89610958e+00  1.17095060e+01  2.60097313e+01  3.76949501e+00\n",
      "  1.67803133e+00  2.13350620e+01  1.52086563e+01  8.66005516e+00\n",
      "  5.83879900e+00 -8.25099182e+00  4.54019814e+01  1.06946051e+00\n",
      "  9.18937206e+00  2.24290962e+01  1.48360186e+01  3.06208210e+01\n",
      "  1.07331902e-01  7.92008972e+00  7.20452547e+00  3.61760902e+01\n",
      "  3.47360382e+01  7.26067638e+00  5.20146370e+00  1.69671516e+01\n",
      "  1.58948243e+00  2.08388352e+00  2.94589958e+01 -2.29183984e+00\n",
      " -2.02108715e-02  1.01953907e+01  1.99884720e+01  1.16558580e+01\n",
      "  1.66179714e+01  1.40569782e+01  1.23909178e+01 -5.86402655e+00\n",
      "  1.29352331e+01  2.21399117e+00  4.42893076e+00  1.54955368e+01\n",
      "  9.89659214e+00 -4.01703644e+00  4.12016182e+01  3.65693283e+01\n",
      " -1.01266251e+01  8.80330276e+00  2.88251925e+00  1.31219959e+01\n",
      "  1.13233271e+01  3.06609325e+01  1.79102688e+01  4.58627586e+01\n",
      "  2.42871687e-01  2.95118141e+01  2.14767876e+01  7.01250362e+00\n",
      "  2.37707710e+01  4.21656036e+00 -9.40262508e+00  4.98864889e+00\n",
      " -6.86863995e+00  1.84640884e+01  7.96996689e+00  3.84323692e+00\n",
      "  2.76615582e+01  3.56413574e+01 -3.22163790e-01  7.28316832e+00\n",
      "  1.84869003e+01  2.22187386e+01  1.92887592e+01  5.04137039e+00\n",
      "  6.03446007e+00  2.90611482e+00 -6.56998730e+00 -5.45075297e-01\n",
      "  2.50271549e+01  3.08186841e+00  3.09448757e+01  2.76839519e+00\n",
      " -7.00676441e-01  2.27176304e+01 -4.12351847e+00  2.24743214e+01\n",
      "  2.72509480e+01  5.52005816e+00  1.03498440e+01  1.27467775e+01\n",
      " -4.11629677e+00 -1.41698408e+01 -1.13080606e+01 -9.01772022e+00\n",
      " -4.67875671e+00 -1.13318539e+01 -6.11463833e+00  1.73031008e+00\n",
      " -6.35175085e+00 -7.22513533e+00 -7.33573580e+00  3.55649948e+00\n",
      "  5.05777168e+00 -1.20064564e+01 -2.14505234e+01 -2.15382786e+01\n",
      " -6.69849491e+00  7.62162399e+00 -5.03951645e+00 -6.87166750e-01\n",
      " -6.32096434e+00  4.80439997e+00  1.04100287e+00  2.60343719e+00\n",
      " -6.97393560e+00 -2.20025635e+01 -1.76130104e+01 -1.00744190e+01\n",
      " -5.16577387e+00 -7.32457590e+00 -1.70667195e+00  5.89598513e+00\n",
      "  7.51083899e+00 -4.63949949e-01  3.15065670e+00 -6.94115591e+00\n",
      " -4.32451296e+00 -9.37927055e+00 -1.08229723e+01  2.95414329e+00\n",
      "  6.10134315e+00  7.15850306e+00 -2.21532555e+01  1.06937695e+01\n",
      "  5.09851098e-01 -1.50386391e+01 -2.50648098e+01 -1.01949561e+00\n",
      " -4.62194777e+00 -7.17924976e+00  8.73651028e-01 -1.73294199e+00\n",
      " -3.05293560e+00 -3.49803734e+00  1.30512536e+00 -5.47341919e+00\n",
      " -3.53940874e-01 -2.77762165e+01  1.01956809e+00 -1.62203197e+01\n",
      " -2.31334705e+01 -1.84389591e+01 -1.64712632e+00  3.05011034e+00\n",
      " -1.18201838e+01 -5.21038723e+00 -3.77493525e+00 -4.71980190e+00\n",
      " -3.26822257e+00 -4.44368267e+00  2.78524709e+00 -6.56224918e+00\n",
      " -1.61486053e+00 -1.61513290e+01  1.11719519e-01 -6.42393732e+00\n",
      " -7.91279125e+00  3.51137209e+00 -2.83064747e+00  1.50976210e+01\n",
      " -5.37552595e+00  2.14841962e+00  1.36438608e+00 -9.32685661e+00\n",
      " -1.43828869e+00  1.09844170e+01  4.82004118e+00 -3.19512725e-01\n",
      "  7.49037886e+00 -4.93581963e+00 -5.29660463e+00  2.36752582e+00\n",
      " -2.11179638e+00 -2.82091498e+00  3.04261374e+00 -2.39139709e+01\n",
      " -1.81526623e+01 -3.06117296e+00 -5.18786144e+00 -2.85161304e+00\n",
      " -7.59603548e+00  5.39932108e+00  4.91454029e+00  2.35960340e+00\n",
      "  2.99698877e+00  2.59170961e+00 -1.00723858e+01  8.57108951e-01\n",
      " -2.17513065e+01 -5.42850304e+00 -1.27997150e+01 -6.67359638e+00\n",
      " -2.94481778e+00  4.89905643e+00 -2.97019157e+01 -9.16494942e+00\n",
      "  1.18005610e+01 -1.63080368e+01  5.54114342e+00 -1.48210144e+01\n",
      "  5.81531382e+00 -1.78143585e+00  2.57346082e+00 -5.38009882e+00\n",
      " -5.80743599e+00 -2.42603946e+00 -6.18065548e+00 -1.26612501e+01\n",
      " -1.21701841e+01  4.74992424e-01 -1.23013897e+01  1.53671443e+00\n",
      " -1.67670131e+00 -2.17707024e+01 -4.99453688e+00 -8.37402725e+00\n",
      " -4.52710009e+00 -1.08359108e+01 -2.11888905e+01  2.66089511e+00\n",
      " -4.17402840e+00  3.18618685e-01 -3.30227375e+00 -5.52834082e+00\n",
      " -3.36377645e+00 -3.22985530e+00  7.36440599e-01  1.69339237e+01\n",
      "  6.07450008e-01 -3.15409780e+00 -2.05979004e+01 -1.07438660e+01\n",
      " -3.30447531e+00 -3.72186780e+00 -9.06081867e+00 -7.31027985e+00\n",
      " -7.73586607e+00 -3.75010800e+00 -2.09296894e+01  5.38454866e+00\n",
      "  3.87801504e+00 -2.42683148e+00  5.38278866e+00 -2.19815463e-01\n",
      " -5.02496195e+00 -1.53967631e+00 -1.58757782e+00 -5.37485170e+00\n",
      "  2.24099398e+00 -1.21942258e+00  6.34681273e+00 -2.44901824e+00\n",
      "  1.90079242e-01  4.56610727e+00 -1.03310251e+00  1.26629269e+00\n",
      " -3.54984498e+00 -2.21004486e+01 -1.52768469e+01 -3.38134146e+00\n",
      " -2.31119137e+01  1.28604546e-01 -1.27774954e+01 -5.87754107e+00\n",
      "  5.61482620e+00 -3.22426438e+00 -7.42442751e+00 -1.21511478e+01\n",
      " -8.65588093e+00 -1.30265391e+00 -1.70273361e+01 -4.41953689e-01\n",
      " -5.01847744e+00 -4.26368380e+00 -4.64210033e+00  8.85706711e+00\n",
      "  5.41280603e+00 -4.59026527e+00 -4.63993883e+00 -2.12967873e+00\n",
      " -2.87621784e+01 -4.21851082e+01  1.87987697e+00 -1.52279544e+00\n",
      " -5.15531397e+00  5.04085541e+00 -3.52998924e+00 -4.90749025e+00\n",
      " -3.49473343e+01 -3.70658326e+00 -1.37478952e+01  4.85281897e+00\n",
      "  9.54211807e+00 -1.02653322e+01 -1.47331305e+01 -7.22065735e+00\n",
      " -3.44156003e+00 -2.66819687e+01 -3.32217751e+01 -2.50859699e+01\n",
      " -3.72703171e+01 -1.42125530e+01 -1.74077816e+01 -3.32772369e+01\n",
      " -2.84338036e+01  8.12172127e+00 -1.99606075e+01 -7.64686775e+00\n",
      "  1.26333404e-02  3.31100225e+00 -4.54639387e+00  5.09020376e+00\n",
      " -9.93061662e-01 -3.05515404e+01 -1.29286394e+01  4.84341532e-01\n",
      "  5.18291664e+00 -2.50988245e+00  2.03477025e+00 -1.18003321e+00\n",
      " -2.93110180e+01 -1.86460710e+00 -6.19417286e+00 -4.34308195e+00\n",
      " -1.69616985e+01 -5.90045929e+00  4.44349575e+00  7.28520393e+00\n",
      " -6.19425678e+00 -2.22614861e+01 -1.42975559e+01 -1.41695108e+01\n",
      " -2.31033993e+00 -1.25208120e+01  1.43328893e+00 -3.89933205e+00\n",
      " -1.11480808e+01 -3.52757225e+01 -5.51539421e+00  1.23715007e+00\n",
      "  5.81835651e+00 -1.61047878e+01 -3.94272852e+00 -2.47759991e+01\n",
      " -2.33510380e+01 -2.94572849e+01 -6.85154581e+00 -1.22713795e+01\n",
      " -2.41285539e+00 -1.91670275e+00 -2.32773995e+00 -3.07605801e+01\n",
      " -1.25578747e+01  4.35574865e+00 -1.15616798e+01 -3.44663086e+01\n",
      " -6.56399608e-01 -1.24074612e+01 -1.94298780e+00 -2.65396423e+01\n",
      " -8.21094036e+00 -2.37116113e-01 -3.24530888e+00 -6.25077724e+00\n",
      " -9.00971127e+00 -3.42019539e+01  1.07502580e+00 -2.78327885e+01\n",
      "  1.25964069e+00 -1.20165329e+01 -2.30684757e+01 -2.97240391e+01\n",
      " -1.93160858e+01 -4.82115412e+00 -2.15509200e+00 -1.40046110e+01\n",
      " -1.88147125e+01 -2.51411819e+01  4.62179214e-01 -4.60737038e+01\n",
      " -3.01965408e+01 -1.30427675e+01 -3.36685371e+01 -3.22438121e+00\n",
      " -2.09082870e+01  1.10916080e+01 -1.25625811e+01 -9.20059586e+00\n",
      "  5.60951567e+00 -1.74892750e+01 -4.96513844e-01 -6.75044203e+00\n",
      "  1.66046321e-01  1.73353195e+00 -2.67482519e+00 -2.98888073e+01\n",
      " -5.12909412e+00 -9.67024326e+00 -1.23417034e+01 -4.56598473e+00\n",
      "  2.35965309e+01 -3.08108044e+00 -3.37542381e+01 -3.02960148e+01\n",
      " -3.93130159e+00  4.32846928e+00 -4.02361526e+01  1.58239067e+00\n",
      " -3.83164558e+01 -2.29558392e+01 -1.87725983e+01 -1.34378090e+01\n",
      " -1.32542524e+01 -1.87272587e+01 -9.78063583e+00 -1.82723293e+01\n",
      " -3.10301542e+00  1.87317705e+00]' has dtype incompatible with int64, please explicitly cast to a compatible dtype first.\n",
      "  preds[val_index] = model.predict(dval_i)\n"
     ]
    },
    {
     "name": "stderr",
     "output_type": "stream",
     "text": [
      "\r",
      " 70%|███████████████████████████████████████████████████████████████████████████████████████████████████████▌                                            | 7/10 [02:31<01:04, 21.38s/it]"
     ]
    },
    {
     "name": "stderr",
     "output_type": "stream",
     "text": [
      "C:\\Users\\81809\\AppData\\Local\\Temp\\ipykernel_14576\\3386215446.py:18: FutureWarning: Setting an item of incompatible dtype is deprecated and will raise an error in a future version of pandas. Value '[ 1.21346407e-01 -4.66129732e+00  3.47455168e+00  1.56477273e+00\n",
      "  1.76658783e+01  1.25915289e+00 -1.22095501e+00  1.04672260e+01\n",
      " -3.22810221e+00  3.79614353e+00 -2.17644215e+00  6.09268427e+00\n",
      "  3.50443172e+00  1.79102361e+00  6.54971933e+00  6.98653746e+00\n",
      " -8.25230789e+00 -5.11058903e+00  3.54132628e+00  8.87551403e+00\n",
      " -5.13019860e-01 -1.05559123e+00  2.51448822e+00  2.97690105e+01\n",
      "  1.09432802e+01  2.05846691e+00 -5.07146835e+00  1.82258167e+01\n",
      " -3.98248762e-01  5.10459375e+00  1.85570514e+00 -2.54500937e+00\n",
      "  6.32376432e+00 -1.71782172e+00  9.45604610e+00  1.00298758e+01\n",
      "  7.89430618e+00 -8.75087452e+00  7.92145014e+00  5.50739706e-01\n",
      "  2.60107201e-02  5.46542501e+00  1.69812298e+01  1.06848955e+01\n",
      "  2.30112629e+01 -2.06872344e+00  7.24162042e-01  1.43426685e+01\n",
      "  5.47937298e+00  1.96498299e+00  9.27760887e+00  4.93768644e+00\n",
      " -5.46091557e+00 -1.89893496e+00  5.81353378e+00 -1.99873412e+00\n",
      "  1.35638285e+00  7.22821379e+00  5.10513449e+00  4.19541979e+00\n",
      "  1.10463934e+01  1.11808643e+01 -3.31623673e+00 -3.61332965e+00\n",
      "  3.77299571e+00  2.42447400e+00 -1.24268043e+00  8.49416435e-01\n",
      "  1.95664082e+01  7.87062740e+00  5.21335316e+00  1.84109726e+01\n",
      "  7.49997139e+00 -1.48157525e+00 -1.89573419e+00 -4.80925846e+00\n",
      "  8.61865330e+00  7.10406923e+00  1.12360859e+01  8.96648526e-01\n",
      "  3.75058317e+00  6.96453428e+00  6.85193872e+00  1.26738796e+01\n",
      "  4.67845917e+00  3.03735256e+00  4.67539787e+00  3.05109835e+00\n",
      "  2.20551968e+01  1.51326723e+01  5.83949506e-01  8.03574467e+00\n",
      " -1.12896528e+01  3.90835190e+00  6.12277508e+00  4.47607964e-01\n",
      "  5.67161739e-02  1.00538740e+01 -2.04182863e+00  2.11484165e+01\n",
      "  4.35461029e-02 -1.84936750e+00 -1.10058403e+00  2.10273147e+00\n",
      "  1.35969436e+00  8.06705952e+00 -7.00789499e+00  1.23443947e+01\n",
      " -2.00964189e+00 -6.49882317e-01 -6.72880411e+00 -3.00022626e+00\n",
      "  6.90412092e+00 -2.83581495e+00 -2.10357761e+00  8.59313583e+00\n",
      " -6.38616419e+00  2.80024916e-01 -1.63250625e+00 -3.82380605e+00\n",
      "  7.77524137e+00  1.28833847e+01 -2.47668815e+00 -8.90178502e-01\n",
      "  3.22415614e+00 -5.15510988e+00  2.78606606e+00  7.01269865e+00\n",
      " -7.75458455e-01  1.64520588e+01  1.50715046e+01  4.74144697e+00\n",
      " -4.16087914e+00 -6.63040876e+00 -2.16410065e+00  2.52342200e+00\n",
      "  5.38948536e+00 -5.36327982e+00  3.19764996e+00  1.21540689e+01\n",
      " -1.62411892e+00 -3.49940801e+00 -2.63686508e-01  6.34766042e-01\n",
      "  5.56128645e+00 -6.36625099e+00  9.13830757e+00  1.69516582e+01\n",
      "  1.44472666e+01  1.00589266e+01  1.35345078e+00  1.21688395e+01\n",
      "  7.13151693e-01  2.55027324e-01  1.01547537e+01  2.24959297e+01\n",
      " -4.45123106e-01 -8.85515881e+00  3.67151880e+00  6.68850136e+00\n",
      "  3.91832399e+00 -9.34465647e-01  2.50681281e+00  9.80621719e+00\n",
      " -3.80177808e+00  1.67293763e+00 -1.64852219e+01  1.75982513e+01\n",
      " -4.62228203e+00  2.21082821e+01  2.98375344e+00  9.07559395e-01\n",
      "  9.53601646e+00  6.62356472e+00  1.16547699e+01  3.50526381e+00\n",
      "  4.90598011e+00  2.03885746e+00  2.49910617e+00 -1.04317173e-01\n",
      "  4.41461277e+00 -1.42006683e+00  5.08290720e+00 -4.69380188e+00\n",
      "  2.11858559e+01  2.14080009e+01  6.29153132e-01  2.91186428e+00\n",
      " -6.10683870e+00  5.89857388e+00  5.52824068e+00 -3.71086574e+00\n",
      "  4.27693605e+00  7.12659550e+00  9.54806137e+00  2.72843933e+00\n",
      "  2.09593430e+01 -2.88587809e+00  1.00753460e+01  2.57699184e+01\n",
      " -3.72550154e+00 -1.27163768e+00 -3.06717563e+00 -2.06552839e+00\n",
      " -4.41535282e+00  2.38582611e+00  4.83704519e+00 -2.05635881e+00\n",
      "  1.60602016e+01 -4.05359697e+00 -2.26118803e+00  4.20658469e-01\n",
      "  1.82081699e+01  2.92699933e+00  3.86448860e+00  1.10354433e+01\n",
      "  1.90172684e+00 -1.86597455e+00  4.91765833e+00  2.09660053e+01\n",
      "  2.88151417e+01 -2.22143793e+00  2.59795990e+01  3.53662682e+00\n",
      "  2.83704066e+00  2.02216854e+01  5.10982132e+00 -9.41462159e-01\n",
      "  2.08339825e+01 -9.15052032e+00 -1.03333559e+01 -2.77871799e+00\n",
      "  5.93009138e+00 -5.12775755e+00  3.53480988e+01  1.59161692e+01\n",
      "  1.95880604e+01  3.45098782e+00  1.98678665e+01  6.46390438e+00\n",
      "  6.26362848e+00 -3.60089040e+00  3.12999249e+01  1.30296297e+01\n",
      "  2.88077755e+01  2.69745040e+00 -1.40070617e+00  2.81398716e+01\n",
      "  1.24057646e+01  2.46947670e+01  1.96582642e+01  1.41526299e+01\n",
      "  1.99834290e+01  4.99288511e+00  1.28320236e+01  1.28084254e+00\n",
      "  1.64736519e+01 -7.88228607e+00  8.61798096e+00 -9.58509207e-01\n",
      "  1.52895248e+00  1.16017962e+01 -5.06732035e+00  2.48333302e+01\n",
      "  2.80383396e+01  8.57510948e+00  1.48370752e+01  9.54967403e+00\n",
      "  3.91174048e-01  1.39204197e+01  4.18140173e+00  1.71377296e+01\n",
      "  9.38749671e-01  1.60060940e+01  1.44327345e+01 -4.11497712e-01\n",
      " -8.58185863e+00  5.75188351e+00  1.95328178e+01 -1.15845528e+01\n",
      "  8.84441566e+00  2.64974809e+00  2.95902138e+01  8.75909448e-01\n",
      " -9.50308895e+00  5.99361897e+00 -9.43214130e+00  4.90293360e+00\n",
      "  2.24612308e+00 -9.09913052e-03  3.11900234e+01  1.90307636e+01\n",
      "  2.69868851e+01  5.03439617e+00  4.96323357e+01  1.25806799e+01\n",
      "  3.75635071e+01  1.50183582e+01  1.35313284e+00  5.14257717e+00\n",
      "  2.02966022e+01  7.12111998e+00  1.25248423e+01 -8.24329567e+00\n",
      " -8.48468590e+00  8.35888577e+00  2.04900789e+00  3.19771137e+01\n",
      "  4.02294487e-01 -1.27812290e+00 -2.26592422e+00  5.08441269e-01\n",
      " -5.40189981e-01  1.55801535e+01  4.78331614e+00  7.22824574e+00\n",
      "  3.03613300e+01 -9.21236229e+00  8.49938297e+00  1.32350788e+01\n",
      "  7.43093872e+00  2.07432785e+01 -9.44536400e+00  2.84442406e+01\n",
      " -1.48991337e+01  4.20933037e+01 -5.85671425e+00  3.05999985e+01\n",
      "  6.01378918e+00  2.02631931e+01  2.00435982e+01  2.17908955e+00\n",
      " -1.32586021e+01  2.53062725e+01  1.02337618e+01  1.17909336e+01\n",
      "  6.33051300e+00  1.79840527e+01  3.67834926e+00 -1.16379089e+01\n",
      "  6.52525127e-01  2.96503687e+00 -1.05523148e+01 -5.75877428e+00\n",
      " -1.15267837e+00 -8.09177208e+00 -5.90447044e+00 -4.46442080e+00\n",
      " -8.57210732e+00 -6.69880915e+00 -8.27230453e+00 -2.11296597e+01\n",
      "  1.04149036e+01 -6.80665970e+00 -1.67004526e+00 -5.82234287e+00\n",
      " -1.41357854e-01 -2.34013319e+00 -3.98451090e+00 -4.31445569e-01\n",
      " -1.93405882e-01 -5.90191412e+00 -1.01554346e+01 -2.32317810e+01\n",
      " -3.73572898e+00  1.22481978e+00 -5.62924099e+00 -2.57128696e+01\n",
      " -5.28332186e+00 -6.16353369e+00  4.29639387e+00 -1.74722099e+00\n",
      " -9.22954178e+00 -4.05370235e-01 -9.53876686e+00 -7.82017183e+00\n",
      "  5.79743624e+00  1.30101001e+00  1.29132497e+00 -2.45469737e+00\n",
      " -6.63670921e+00 -7.67825937e+00 -1.03835249e+01 -1.30228424e+01\n",
      " -4.09519243e+00  1.90396500e+00 -1.02801895e+00 -2.18943524e+00\n",
      " -6.05362511e+00 -7.46327162e+00 -1.18693733e+01  2.34645391e+00\n",
      " -1.05739689e+01 -5.30166006e+00 -5.66444063e+00 -3.47682548e+00\n",
      "  1.25234485e+00 -8.23339462e+00 -7.27716351e+00 -2.37742844e+01\n",
      " -7.74566841e+00 -7.25964069e+00  1.02445793e+00 -1.43762360e+01\n",
      " -2.52770805e+01  6.80810288e-02 -1.93682766e+00  1.03782644e+01\n",
      " -1.88719997e+01 -1.18847284e+01 -1.10828102e+00 -1.86015110e+01\n",
      " -3.61423826e+00  2.49652997e-01  5.00339985e+00 -1.18038826e+01\n",
      " -7.49984932e+00  1.13726091e+01 -1.61415081e+01 -1.73914051e+01\n",
      " -4.48244524e+00  4.31550884e+00 -5.68441391e+00  1.89016604e+00\n",
      " -1.00688190e+01 -5.74639606e+00 -1.60201206e+01  6.63438416e+00\n",
      "  9.01861286e+00 -4.46541548e+00  1.84150636e+00 -1.55570936e+00\n",
      " -1.85449684e+00 -1.26288271e+01  1.23568392e+01 -2.12698078e+01\n",
      " -5.42382669e+00 -5.31680763e-01 -2.29170895e+01 -1.79605999e+01\n",
      " -1.06414461e+01 -2.09055519e+00 -1.85479045e+00  1.10427868e+00\n",
      "  1.38932924e+01  6.13282013e+00 -1.65558958e+00 -7.04031038e+00\n",
      " -3.93579149e+00  6.16438270e-01  1.03660984e+01  1.68160210e+01\n",
      "  5.34040260e+00 -1.02913961e+01 -6.04034758e+00 -4.14471912e+00\n",
      "  1.62440729e+00  1.42253041e+00 -2.13459606e+01  6.05392742e+00\n",
      "  8.77008960e-02 -1.00721526e+00 -7.71294981e-02 -1.40453081e+01\n",
      " -1.74649310e+00  5.88849831e+00 -1.76254139e+01 -1.58146448e+01\n",
      " -2.26494598e+01 -1.00565939e+01 -1.12717686e+01  1.05837784e+01\n",
      " -2.29877567e+01 -3.45281577e+00 -3.62869501e-02  6.50691319e+00\n",
      " -4.81822348e+00  4.15826082e+00  8.52736473e-01  3.41118366e-01\n",
      " -3.06281066e+00 -7.98891115e+00 -1.72774363e+00 -1.78802376e+01\n",
      " -5.85478640e+00 -2.73074841e+00 -4.52226257e+00 -2.82821918e+00\n",
      "  4.88903761e+00 -5.90951872e+00  8.49469662e-01 -7.33730221e+00\n",
      " -2.06723499e+00 -7.90182412e-01 -1.24158001e+00 -3.98940468e+00\n",
      "  4.27313662e+00 -2.35462303e+01  1.66547661e+01  3.22101998e+00\n",
      "  1.15315857e+01 -4.15926552e+00  4.03657532e+00 -3.93833661e+00\n",
      " -2.69147158e+00 -1.06359806e+01  4.00491762e+00 -1.81872773e+00\n",
      " -2.68310032e+01 -6.76536894e+00  7.22391233e-02 -1.48438978e+00\n",
      " -2.78565407e+00 -6.39555264e+00 -1.64417095e+01 -5.49481344e+00\n",
      " -6.64215517e+00 -8.40850163e+00 -8.19979954e+00 -1.49930501e+00\n",
      " -2.92331791e+00  7.92539978e+00 -5.87461138e+00  8.41434765e+00\n",
      " -4.10879230e+00 -6.43806934e+00 -2.97476768e+01 -1.99223366e+01\n",
      " -9.41892529e+00 -5.53159904e+00 -3.72295928e+00 -2.77611732e+01\n",
      " -9.96601963e+00 -2.70399685e+01 -1.29255648e+01 -1.97044837e+00\n",
      " -1.80027282e+00 -9.04107952e+00 -3.51561661e+01 -1.13076711e+00\n",
      " -1.39400787e+01 -8.95670033e+00  2.32105255e+00 -9.77137470e+00\n",
      " -6.00435495e+00 -6.37221241e+00 -1.32720757e+01 -1.34421682e+01\n",
      " -3.18497429e+01 -2.72525120e+01 -3.68996582e+01 -6.89058721e-01\n",
      "  1.85057902e+00 -1.80748348e+01 -2.42449837e+01 -2.78999233e+01\n",
      "  5.59566069e+00  9.18506527e+00  8.41535270e-01 -6.91630602e+00\n",
      " -4.01731796e+01  9.80495334e-01 -2.95254574e+01 -3.27850685e+01\n",
      " -1.47388725e+01 -3.07369671e+01 -1.47395146e+00 -1.60091591e+01\n",
      " -7.44804955e+00 -4.39174309e+01  5.59925413e+00 -2.86729425e-01\n",
      " -2.03784637e+01 -1.93177624e+01 -7.59754539e-01 -5.80725813e+00\n",
      " -1.89979248e+01 -3.35363998e+01 -3.29484406e+01 -4.25857067e+00\n",
      "  3.37955952e+00  1.08213291e+01 -2.45843029e+01 -1.12951794e+01\n",
      " -1.47234602e+01 -4.19452143e+00 -2.12257843e+01 -1.20702066e+01\n",
      " -4.39708977e+01  5.39619255e+00 -8.49459529e-01 -1.00383890e+00\n",
      " -1.97840347e+01  8.08733368e+00 -1.81319010e+00 -6.00447178e+00\n",
      " -7.18131638e+00  5.43659830e+00 -3.55776749e+01 -6.53868055e+00\n",
      "  8.97115803e+00 -9.39096546e+00  8.72745228e+00 -1.54427309e+01\n",
      "  3.51042843e+00 -5.08123827e+00 -1.22455244e+01 -1.63233624e+01\n",
      " -9.98113060e+00 -2.83675022e+01 -1.47883997e+01  3.57727885e+00\n",
      "  2.61528230e+00  2.48624086e+00  6.39795303e+00 -1.94938087e+01\n",
      " -7.12098312e+00 -9.25852394e+00  4.89956760e+00  7.58370781e+00\n",
      " -2.78339787e+01  2.74256021e-01 -2.47707329e+01 -2.99936028e+01\n",
      "  2.26675296e+00  3.16175632e-02  7.52032280e+00 -8.65945530e+00\n",
      " -1.24968100e+01 -1.55016241e+01 -2.29226894e+01  1.03632336e+01\n",
      " -3.59442210e+00 -9.68220520e+00 -3.85696125e+00 -2.56007576e+01\n",
      " -3.77602234e+01 -3.77157211e+01 -1.80387936e+01  6.38760996e+00\n",
      " -1.60500393e+01 -1.61627598e+01  1.26678524e+01 -2.45774117e+01\n",
      " -1.92488461e+01 -2.79454350e+00]' has dtype incompatible with int64, please explicitly cast to a compatible dtype first.\n",
      "  preds[val_index] = model.predict(dval_i)\n"
     ]
    },
    {
     "name": "stderr",
     "output_type": "stream",
     "text": [
      "\r",
      " 80%|██████████████████████████████████████████████████████████████████████████████████████████████████████████████████████▍                             | 8/10 [02:52<00:42, 21.05s/it]"
     ]
    },
    {
     "name": "stderr",
     "output_type": "stream",
     "text": [
      "C:\\Users\\81809\\AppData\\Local\\Temp\\ipykernel_14576\\3386215446.py:18: FutureWarning: Setting an item of incompatible dtype is deprecated and will raise an error in a future version of pandas. Value '[ 6.94677973e+00 -5.64492035e+00  1.11956663e+01  8.63382816e+00\n",
      "  6.11620760e+00  5.92662954e+00  5.58090973e+00  1.52899420e+00\n",
      " -1.02894449e+00  2.84482622e+00 -3.28078055e+00  2.20298171e+00\n",
      " -8.27705264e-01  2.12584419e+01  2.22404456e+00  1.24429884e+01\n",
      "  4.60383987e+00  4.03867579e+00  7.05503511e+00  2.26093578e+00\n",
      "  6.11085033e+00  3.11102414e+00  1.03582230e+01 -2.23700929e+00\n",
      "  7.51625299e+00  2.96917439e+00  1.01069412e+01  6.26407099e+00\n",
      "  1.48235154e+00  2.57983513e+01  4.83427286e+00 -7.52202177e+00\n",
      "  5.33176279e+00  1.55620041e+01  8.73012257e+00 -6.34716129e+00\n",
      "  5.88200140e+00  2.01380634e+00 -4.66013014e-01 -8.28631973e+00\n",
      " -1.60875380e+00  1.04272051e+01  2.34396791e+00  7.44257545e+00\n",
      "  2.17221317e+01  9.48223400e+00  6.51638889e+00 -4.94382173e-01\n",
      " -3.31893682e+00  2.60042119e+00  4.70584440e+00  3.45016956e+00\n",
      "  9.08041358e-01  1.61968002e+01  3.39162397e+00  1.12144442e+01\n",
      "  2.30546074e+01  8.79366970e+00 -4.84336853e+00  8.03449917e+00\n",
      "  2.85735893e+00  3.19206190e+00  4.30986977e+00  1.86701477e+00\n",
      "  7.29827642e+00  1.03800488e+01  4.73762321e+00  4.62084055e+00\n",
      "  1.43231125e+01  2.52558823e+01 -2.97962475e+00  5.99038982e+00\n",
      "  1.68314219e+00  9.37106705e+00  1.99046493e+00  2.47836038e-01\n",
      "  2.39154835e+01  7.71526480e+00  1.22004356e+01  2.37334704e+00\n",
      "  1.63995857e+01 -1.13272488e+00  1.05964603e+01  8.89706230e+00\n",
      "  3.41135073e+00 -8.96035790e-01 -8.05766702e-01  6.44715357e+00\n",
      "  3.10242987e+00  6.49400473e+00  1.79961319e+01 -3.87815118e+00\n",
      " -1.05658257e-02  4.67105675e+00 -5.57048178e+00 -3.31465220e+00\n",
      " -2.39483809e+00 -7.43363762e+00 -2.94246703e-01  9.23547819e-02\n",
      "  2.70106888e+00  5.15242279e-01 -1.01571016e+01  1.85806954e+00\n",
      " -2.85344625e+00  6.26910388e-01  2.21885319e+01 -4.70596886e+00\n",
      "  1.42373381e+01  1.28777342e+01  6.12234163e+00 -2.64454079e+00\n",
      "  9.25688744e+00 -9.62101364e+00 -1.41731572e+00 -3.47703171e+00\n",
      "  4.99931526e+00 -9.69535923e+00  1.69782376e+00 -1.69613647e+00\n",
      "  8.30632877e+00  8.96689606e+00 -1.88381350e+00  1.09506226e+01\n",
      "  5.87717819e+00  7.00144911e+00  2.11702595e+01 -6.92260885e+00\n",
      "  1.45431499e+01  9.56860828e+00 -2.69316077e+00  5.38275242e+00\n",
      "  6.24711943e+00  5.39016485e-01 -6.92499220e-01  6.70559630e-02\n",
      "  1.30759993e+01  1.17409601e+01 -5.60681343e+00  1.09645119e+01\n",
      "  2.27540970e+00  8.95031738e+00  2.06570072e+01  3.72850776e+00\n",
      "  1.09755123e+00  9.73256469e-01 -9.31718886e-01  2.31164765e+00\n",
      "  4.86778927e+00  6.80235863e+00  2.59956980e+00  1.12260113e+01\n",
      " -2.47416973e+00 -2.57152081e+00  1.83765471e+00 -1.07001200e+01\n",
      "  2.87866707e+01  1.48834305e+01 -2.07184243e+00  1.86435928e+01\n",
      "  1.22348042e+01  3.56949186e+00  1.16807003e+01  9.96700883e-01\n",
      "  4.11655456e-01 -9.24037099e-01 -3.14906812e+00  2.43152428e+00\n",
      " -1.34439623e+00  1.24748921e+00 -1.37402213e+00 -1.09453273e+00\n",
      "  1.24620521e+00 -1.48849285e+00  3.72868299e+00  1.90680275e+01\n",
      "  5.07058859e+00  1.42894592e+01 -5.20719957e+00  1.97361832e+01\n",
      " -1.78063583e+00  3.44675970e+00  4.71894407e+00  1.22836757e+00\n",
      "  8.73555374e+00 -7.33365917e+00  1.77618999e+01  2.30234361e+00\n",
      "  6.70622873e+00 -1.64030111e+00  9.79171371e+00  1.48219404e+01\n",
      "  2.02575397e+01 -3.54372072e+00  1.93319786e+00  7.63037384e-01\n",
      "  6.43246555e+00  5.48082733e+00  3.53442621e+00 -4.88253164e+00\n",
      "  7.47702980e+00  8.68779945e+00  9.09184456e+00  2.38891258e+01\n",
      "  4.49443436e+00  2.35627508e+00  2.45212984e+00  5.66671944e+00\n",
      "  5.88399172e+00 -9.51168895e-01  1.12956171e+01  6.54792261e+00\n",
      "  2.09631424e+01  9.74507618e+00  2.95869756e+00 -1.22029924e+00\n",
      "  3.76483536e+01 -1.07688599e+01  5.88290405e+00 -9.66158295e+00\n",
      " -6.23645926e+00  1.21859217e+01  1.59653664e-01  4.50332546e+00\n",
      "  7.54933453e+00 -1.22634232e+00  2.64513168e+01  6.82762909e+00\n",
      "  8.26259422e+00  2.51174545e+01  5.02753544e+00  2.00021095e+01\n",
      " -6.93033171e+00  2.93892059e+01  3.11478863e+01  1.09994566e+00\n",
      " -1.57320766e+01  1.19518542e+00  2.44338441e+00  6.24017286e+00\n",
      "  7.01590824e+00  1.73373661e+01  6.86171770e+00  1.64991016e+01\n",
      "  2.97304058e+01  1.11337557e+01  3.52507095e+01 -1.52701592e+00\n",
      "  9.77637386e+00  4.78825241e-01  1.67196159e+01  1.28025331e+01\n",
      "  2.66915016e+01 -4.57623720e+00  2.52607193e+01  1.30520391e+01\n",
      "  9.93413067e+00  3.28439102e+01  1.07485094e+01  2.67402401e+01\n",
      "  3.24617314e+00  5.79560661e+00  2.65126953e+01  2.10224175e+00\n",
      "  6.35928392e+00  7.94669914e+00  9.42283249e+00 -4.80301094e+00\n",
      "  1.45426407e+01  4.16335487e+01  9.30770111e+00 -1.06556168e+01\n",
      "  9.89307690e+00 -1.70133042e+00 -9.78451157e+00  2.90192795e+00\n",
      " -3.43600249e+00  1.05997915e+01  4.13702250e+00  6.34465790e+00\n",
      " -2.84170127e+00  3.74606934e+01  1.40009890e+01  3.03840790e+01\n",
      "  2.20177841e+01  2.57034707e+00  9.46894360e+00  1.61681576e+01\n",
      "  5.57134962e+00 -7.16424322e+00  1.97882843e+01  6.00824451e+00\n",
      "  2.22668934e+00  2.18093739e+01  8.78510380e+00  3.21351967e+01\n",
      "  8.96689606e+00  3.01649418e+01  3.62707281e+00 -9.34333134e+00\n",
      "  4.75041819e+00  3.02036023e+00  5.99904919e+00  5.98430490e+00\n",
      " -1.06746159e+01  1.47301712e+01  2.75978584e+01 -2.12227082e+00\n",
      "  3.96041451e+01  1.05107317e+01  2.55701714e+01  3.77187843e+01\n",
      " -5.79180574e+00  3.86643562e+01  5.06068230e+00  1.23250113e+01\n",
      "  3.02869081e+00  3.08079410e+00  1.20019093e+01  2.59242134e+01\n",
      "  1.09677715e+01  8.50534290e-02 -2.25923462e+01 -6.44800329e+00\n",
      "  3.21266985e+00 -1.28410053e+01 -2.27280960e+01 -7.40592670e+00\n",
      " -3.04477382e+00 -8.34968662e+00 -3.90116739e+00 -2.29154277e+00\n",
      " -2.04651184e+01 -2.62280464e+00 -2.52287445e+01 -3.70101190e+00\n",
      " -6.87447929e+00 -6.43799245e-01 -7.22021723e+00 -2.91773939e+00\n",
      " -7.36557341e+00 -8.92386627e+00  6.61843061e+00 -2.08277392e+00\n",
      "  6.73514223e+00  5.38824892e+00 -7.58133221e+00 -4.19364166e+00\n",
      "  3.74761224e-01 -2.37202644e+01  7.42026210e-01  9.38816369e-01\n",
      " -2.96647511e+01  1.10055637e+00  1.27088881e+01 -8.31742382e+00\n",
      "  6.59361267e+00 -9.85045147e+00 -6.18169498e+00 -4.97144175e+00\n",
      " -5.47895908e+00  2.36448860e+00  3.17481542e+00 -8.41233194e-01\n",
      " -9.45934010e+00 -2.08916702e+01 -9.28748512e+00 -1.30525122e+01\n",
      "  6.63649988e+00 -2.76133275e+00  3.13623667e+00  8.64507616e-01\n",
      " -1.66453247e+01 -5.20246935e+00 -2.39078522e+01 -2.07057858e+00\n",
      "  3.16782761e+00 -7.34543800e+00 -3.95785618e+00  2.93999338e+00\n",
      " -2.44368153e+01 -1.14227514e+01 -1.46493540e+01 -2.28788447e+00\n",
      " -5.95844924e-01  8.61821830e-01  1.36545992e+00 -1.23566771e+00\n",
      " -3.48344493e+00  9.41885114e-01 -3.17006326e+00 -4.99791813e+00\n",
      " -7.00022650e+00 -2.07063026e+01  4.34676123e+00  1.52111483e+00\n",
      " -1.27913594e+00 -4.12406778e+00 -3.78002501e+00 -6.64067554e+00\n",
      " -1.80044022e+01 -9.92373943e-01  1.24493897e+00 -1.24771781e-01\n",
      "  2.47544622e+00 -7.25351858e+00 -2.42830982e+01 -1.74149342e+01\n",
      " -8.24830818e+00 -1.12060633e+01 -8.72023296e+00 -3.39889073e+00\n",
      " -5.41764212e+00 -3.76524258e+00 -4.47841072e+00 -1.86579056e+01\n",
      "  1.08644032e+00  3.69166923e+00  1.49133272e+01 -2.93419138e-02\n",
      "  4.59399033e+00  1.17894852e+00 -2.34160385e+01 -1.95893854e-01\n",
      " -1.43387222e+01 -1.94474876e+00  8.84899235e+00  2.46587086e+00\n",
      " -6.04825592e+00  4.48412746e-01 -1.62793446e+01 -2.10093331e+00\n",
      " -7.01856613e+00  1.70616603e+00 -1.30855284e+01 -1.72205963e+01\n",
      " -3.94528151e+00  4.92456436e+00 -3.12596011e+00  7.61360836e+00\n",
      " -6.94595194e+00 -2.17855334e+00 -1.03565855e+01  5.06675529e+00\n",
      " -5.49599791e+00  6.13043737e+00 -2.63193970e+01 -5.07717133e+00\n",
      " -8.87906456e+00 -1.84108734e+01  5.05116463e+00 -7.40248537e+00\n",
      "  2.81512189e+00 -1.18268251e+01 -1.99938660e+01  1.41839373e+00\n",
      " -1.87699187e+00 -2.43835434e-01 -9.24310780e+00 -4.37953854e+00\n",
      " -1.35611219e+01  3.65032268e+00 -2.89995193e+00 -1.76173520e+00\n",
      " -6.60765791e+00  2.64997745e+00 -1.06659746e+00 -1.07519407e+01\n",
      " -4.56057119e+00 -4.82963467e+00 -1.16445942e+01  9.89760113e+00\n",
      " -2.14409332e+01 -5.09507513e+00 -4.34154272e+00 -5.57449982e-02\n",
      "  5.44992781e+00 -3.80360293e+00 -3.89963198e+00 -5.40352917e+00\n",
      "  4.07875681e+00 -4.77807403e-01  3.61023998e+00  1.94360673e+00\n",
      "  3.54104328e+00 -3.39679646e+00  1.04596376e+00  1.64753497e-01\n",
      "  9.94635105e+00  1.31414700e+00 -1.38723373e+01  2.70320916e+00\n",
      " -3.32292676e+00 -2.21898556e+01  1.11013393e+01 -7.41991341e-01\n",
      " -5.88291228e-01 -3.78844094e+00  1.38739169e+00 -1.25289297e+01\n",
      " -4.41274256e-01  4.78637218e+00 -2.65894775e+01  6.01579142e+00\n",
      "  3.55170202e+00  1.07412109e+01 -5.40419698e-01 -7.03561735e+00\n",
      " -1.63169420e+00 -1.10587158e+01 -4.89580345e+00 -2.93242073e+00\n",
      " -1.57439356e+01 -7.61721134e+00  1.76259005e+00  5.70976782e+00\n",
      " -5.58287048e+00 -5.52645028e-01 -5.64233351e+00 -3.68048215e+00\n",
      " -1.56318798e+01  4.66018820e+00 -6.61903286e+00 -4.45807505e+00\n",
      " -2.31454659e+01 -1.12749567e+01 -1.06852019e+00  8.41614246e+00\n",
      "  8.13861179e+00 -5.76568079e+00 -1.92104340e+01 -3.55526400e+00\n",
      " -1.15803518e+01 -2.96396694e+01 -3.37859383e+01 -2.76970158e+01\n",
      " -4.97718000e+00 -2.01707478e+01 -2.15397110e+01  1.42235327e+00\n",
      " -8.37276745e+00 -5.79846144e+00 -2.52421713e+00  8.06919861e+00\n",
      "  4.59851325e-01 -6.30315542e+00 -1.95805684e-01 -2.81500936e+00\n",
      " -1.66399932e+00 -3.64723625e+01 -3.10894222e+01 -2.64768562e+01\n",
      " -4.28810167e+00 -2.32142658e+01 -7.59081125e+00 -6.02086830e+00\n",
      " -6.98198605e+00 -3.48992085e+00  9.42973375e-01 -1.93913250e+01\n",
      " -4.60365143e+01 -8.36435735e-01 -2.15159588e+01 -1.78651581e+01\n",
      " -1.38924417e+01 -1.20126562e+01 -3.01848583e+01  1.54666734e+00\n",
      " -3.32517929e+01 -7.14635897e+00 -2.36590309e+01 -2.86563091e+01\n",
      "  7.04062462e-01 -6.86916494e+00 -2.16875896e+01  4.91635370e+00\n",
      " -1.06507711e+01  1.97671735e+00 -3.08333130e+01 -1.66695004e+01\n",
      " -1.08209333e+01 -1.73459930e+01 -8.32878494e+00 -4.26171064e+00\n",
      "  4.72755623e+00 -6.30041552e+00 -4.51667994e-01 -3.20000386e+00\n",
      " -2.22431755e+00 -2.29749508e+01 -1.02688532e+01 -9.56429243e-01\n",
      " -1.94664211e+01 -2.07695842e+00 -1.28620291e+01  3.90368009e+00\n",
      " -3.39150352e+01 -1.21302092e+00  8.04443550e+00  4.80829000e+00\n",
      " -2.99094009e+01  1.16702855e+00  7.90414572e-01  8.41362000e-01\n",
      "  5.54164743e+00 -1.95906317e+00 -1.53399239e+01 -2.56283150e+01\n",
      " -9.83103931e-01 -1.00709591e+01  1.10299988e+01  1.33450043e+00\n",
      "  4.65306997e+00 -1.11298923e+01 -2.55654697e+01 -8.21640968e+00\n",
      " -3.57397842e+01 -2.90462646e+01  3.51032591e+00 -1.47383251e+01\n",
      " -2.40334358e+01 -3.97716451e+00 -6.31155252e+00  8.54995787e-01\n",
      "  1.14402246e+01  2.99780798e+00 -3.13641739e+00 -2.94384766e+01\n",
      " -1.68373966e+01 -8.37259388e+00 -4.08673573e+00  6.90949187e-02\n",
      "  8.13849068e+00  3.74154878e+00 -3.04604244e+00 -2.45784969e+01\n",
      "  7.11444950e+00 -1.95691261e+01 -1.20468225e+01 -3.57912397e+00\n",
      "  6.13644779e-01  1.38316374e+01 -2.96573772e+01 -9.87311649e+00\n",
      " -2.59271393e+01 -7.62168550e+00]' has dtype incompatible with int64, please explicitly cast to a compatible dtype first.\n",
      "  preds[val_index] = model.predict(dval_i)\n"
     ]
    },
    {
     "name": "stderr",
     "output_type": "stream",
     "text": [
      "\r",
      " 90%|█████████████████████████████████████████████████████████████████████████████████████████████████████████████████████████████████████▏              | 9/10 [03:13<00:21, 21.05s/it]"
     ]
    },
    {
     "name": "stderr",
     "output_type": "stream",
     "text": [
      "C:\\Users\\81809\\AppData\\Local\\Temp\\ipykernel_14576\\3386215446.py:18: FutureWarning: Setting an item of incompatible dtype is deprecated and will raise an error in a future version of pandas. Value '[ 2.13587761e+00 -4.76652718e+00  2.12511578e+01  1.63967896e+00\n",
      "  4.87306499e+00 -4.27087307e+00  3.46365595e+00  2.60454226e+00\n",
      " -6.86002779e+00  8.35116327e-01 -3.51579809e+00  1.76458054e+01\n",
      "  2.51940174e+01 -2.44192171e+00  2.10134659e+01  1.24751365e+00\n",
      "  8.06377411e+00  3.01644969e+00  1.28623199e+00  1.24384272e+00\n",
      "  1.40046626e-01  2.36801958e+00  1.63293779e+00  3.94333458e+00\n",
      "  3.23107386e+00  8.96831131e+00 -6.84428334e-01  1.09436302e+01\n",
      "  3.57691622e+00  2.06409454e+01 -3.41966867e+00 -3.35073233e+00\n",
      "  4.50457954e+00  1.10506907e-01  2.32289219e+00 -1.44197071e+00\n",
      " -2.10251474e+00  7.74293566e+00 -7.36509442e-01 -7.61079967e-01\n",
      "  1.88909016e+01 -4.58328438e+00  2.36683631e+00 -8.37276840e+00\n",
      " -3.00821328e+00 -1.17272673e+01  1.70607853e+01  1.30886993e+01\n",
      "  6.04609632e+00 -3.39457542e-01 -3.14662480e+00  5.40839577e+00\n",
      " -3.70884395e+00  4.91310883e+00  1.67942572e+00 -2.90396929e+00\n",
      "  7.52770364e-01 -3.02144337e+00  1.02881374e+01  2.48484364e+01\n",
      "  1.43909740e+01  5.68849754e+00  5.16410971e+00  1.56781330e+01\n",
      " -2.30833387e+00  2.58820701e+00 -5.51612663e+00 -7.87642241e-01\n",
      "  4.51389837e+00  4.65648651e+00 -3.39651018e-01  1.87167873e+01\n",
      "  8.91910648e+00  5.77354193e+00 -1.74832463e+00  4.11627913e+00\n",
      " -3.34575921e-01  6.29467058e+00  2.38343105e+01  2.30445147e+00\n",
      " -2.30401158e+00 -2.02648234e+00  3.12519145e+00  4.54143906e+00\n",
      "  2.32298899e+00  1.28513670e+00  1.20309763e+01  2.41954517e+01\n",
      "  6.59427547e+00  1.33747616e+01 -1.15296488e+01  2.90822101e+00\n",
      "  2.18774490e+01  3.38268495e+00  5.55677080e+00  1.28989630e+01\n",
      " -1.40144050e+00  5.55230618e+00  5.54450512e+00  1.34188414e+00\n",
      "  1.51097536e+01  1.01264439e+01  1.41704254e+01  1.10327077e+00\n",
      "  1.33600101e+01 -1.18077145e+01 -5.88737774e+00  9.94480705e+00\n",
      "  8.49311733e+00  1.94779694e+00  5.00585604e+00 -2.08277345e+00\n",
      "  4.08790541e+00  1.24477136e+00  1.92238522e+01  4.52381086e+00\n",
      "  2.09117470e+01  5.88504696e+00  2.32625604e+00 -1.48990622e+01\n",
      "  5.01047802e+00 -1.65888274e+00 -1.71301115e+00 -6.68128872e+00\n",
      "  2.05043507e+00  2.51471958e+01  4.57960224e+00  4.08502960e+00\n",
      " -6.59502411e+00  1.40563183e+01  2.13167524e+00  6.14370227e-01\n",
      "  2.61623226e-02  4.47977781e+00  9.08706665e+00  1.55944443e+00\n",
      "  7.56745958e+00 -1.13633728e+00  1.44359903e+01 -4.12717223e-01\n",
      "  1.43551016e+00 -4.83653396e-01  1.56827164e+00 -1.71261430e+00\n",
      " -5.76748466e+00 -3.93404812e-01  1.13474965e-01  1.30101764e+00\n",
      "  2.23081169e+01  1.58768682e+01  3.90809917e+00  2.16569400e+00\n",
      " -9.95805168e+00  2.09167690e+01  4.89258003e+00  4.11743259e+00\n",
      " -5.60764599e+00  1.09135079e+00  3.35413241e+00  5.09281540e+00\n",
      " -9.37311172e+00  1.36521196e+01 -3.68779016e+00  8.18551922e+00\n",
      "  2.92632599e+01 -3.65859938e+00  5.14362001e+00  4.18395615e+00\n",
      "  1.09343171e+00 -3.97731304e+00  5.19312143e+00  4.96208811e+00\n",
      " -4.23690557e+00 -3.38074899e+00  5.46957064e+00  1.99573364e+01\n",
      " -4.23608637e+00  8.63664091e-01  1.77707691e+01  2.61478639e+00\n",
      " -4.17608976e+00  1.07111311e+01  3.21330523e+00  6.08927107e+00\n",
      "  6.30487394e+00 -5.61731637e-01  3.32183719e+00 -4.22653818e+00\n",
      "  1.00056467e+01 -6.70130587e+00 -1.15913260e+00  4.93495512e+00\n",
      "  7.24765539e-01  2.78870487e+00 -3.56736690e-01  1.05775290e+01\n",
      "  1.97318897e+01  3.00696349e+00  2.39061012e+01 -1.38964772e+00\n",
      "  3.80463749e-01 -1.16383767e+00  3.72225642e+00 -1.56262207e+00\n",
      "  4.53851175e+00  1.31096115e+01  5.93160248e+00  9.81233215e+00\n",
      "  2.15714684e+01  4.47862715e-01  3.09552312e+00 -4.62133735e-01\n",
      "  6.19177222e-02  1.62460518e+01  6.56539488e+00  5.26017046e+00\n",
      "  4.39557219e+00  4.16620779e+00 -1.68433511e+00  3.52579260e+00\n",
      "  3.21034050e+00  2.78377342e+00  2.13382263e+01  9.49629593e+00\n",
      "  1.73366725e+00  1.41540956e+01  4.28111029e+00  2.58142509e+01\n",
      " -1.16953897e+00 -9.72786427e-01  7.41207933e+00  1.15642242e+01\n",
      " -1.05614138e+01 -8.50915253e-01  1.21989679e+01  7.39670420e+00\n",
      "  3.15454922e+01  2.74993877e+01  6.98173618e+00  1.95400982e+01\n",
      "  2.49309139e+01  1.24546432e+01  7.32736921e+00 -1.99963272e+00\n",
      " -8.43613815e+00 -7.36808586e+00 -7.42872572e+00  2.66203575e+01\n",
      " -1.75632262e+00  5.05283594e+00  4.15362778e+01  6.44581938e+00\n",
      "  2.66795158e+00  1.85292549e+01  1.26559725e+01  1.11502206e+00\n",
      " -1.88638830e+00 -1.47055988e+01  1.44413319e+01  1.66813049e+01\n",
      "  1.23962803e+01  7.61040545e+00  9.46916485e+00  3.51206627e+01\n",
      " -8.44967937e+00  2.40482101e+01 -2.54525681e+01  1.09976559e+01\n",
      "  1.02747660e+01  3.18579540e+01  1.81253929e+01  3.09118576e+01\n",
      "  1.23588390e+01  2.48621712e+01  5.19095278e+00  8.80910397e+00\n",
      "  1.29945841e+01  3.28477287e+01  3.44638443e+01 -5.56409478e-01\n",
      "  9.82929993e+00  9.09530067e+00  4.87334281e-01  1.62088928e+01\n",
      "  1.81661396e+01  7.79546928e+00  3.51815453e+01  6.19850731e+00\n",
      " -3.35187030e+00 -1.40121564e-01  1.12117939e-01 -4.67473793e+00\n",
      "  9.41394901e+00  1.68252487e+01  5.73237848e+00 -8.87370014e+00\n",
      "  1.94880791e+01  7.99313736e+00  6.50083017e+00  2.39311829e+01\n",
      "  9.62738800e+00  3.22644119e+01  3.07208099e+01  2.04166368e-01\n",
      "  3.76213226e+01 -1.49211073e+00  1.31547403e+01  1.78154926e+01\n",
      "  2.49259777e+01  3.10822392e+01 -2.42171574e+01  3.95843697e+01\n",
      "  1.00811234e+01  4.67951107e+00  2.35492954e+01  1.26685810e+00\n",
      "  2.01611538e+01  1.83865299e+01  1.76029181e+00  2.94850469e+00\n",
      "  1.53903456e+01 -1.75934925e+01  1.62129421e+01  5.58535480e+00\n",
      " -1.59128456e+01 -5.77967644e+00 -3.74008584e+00 -2.05990658e+01\n",
      "  2.37770128e+00 -2.36181202e+01 -3.27092910e+00 -7.59816885e+00\n",
      " -7.09234762e+00 -7.58179379e+00 -7.21204281e+00 -4.75287104e+00\n",
      "  5.39477110e-01 -2.05338907e+00 -2.19354267e+01 -2.43195648e+01\n",
      " -4.63766956e+00  7.19778001e-01 -5.73870564e+00 -5.56322289e+00\n",
      " -4.56119013e+00  1.11283817e+01 -5.82987213e+00 -7.03279078e-01\n",
      "  8.39297950e-01 -5.91754961e+00 -1.45010147e+01  2.72397089e+00\n",
      " -1.16317034e+01 -1.51267767e+01 -7.38820434e-01 -8.22732639e+00\n",
      " -1.82766685e+01  6.67776680e+00  1.29715562e+00 -3.43397737e+00\n",
      " -3.48837113e+00  3.32925272e+00 -7.71412945e+00 -1.11192207e+01\n",
      " -5.66772556e+00 -9.20670605e+00 -1.43694595e-01 -1.06510191e+01\n",
      "  7.27063942e+00 -2.20403175e+01  3.31456065e+00 -5.01425886e+00\n",
      " -1.54405661e+01 -2.41498985e+01 -8.92531967e+00 -6.56527472e+00\n",
      " -5.02730703e+00  2.90807748e+00  2.59857988e+00 -2.61523876e+01\n",
      "  8.62288713e-01 -2.59951000e+01  3.46835971e-01 -2.50487709e+01\n",
      " -2.20826530e+00 -6.32137585e+00 -1.06270943e+01 -7.18320227e+00\n",
      " -7.04228926e+00 -1.68531442e+00 -4.11822081e+00 -7.06262541e+00\n",
      " -5.94351435e+00 -2.82235336e+00 -7.34341145e+00 -6.86765385e+00\n",
      " -1.27925377e+01 -1.58796158e+01  3.62556863e+00 -5.90649605e+00\n",
      " -2.20381904e+00 -3.92432213e+00 -4.87930536e+00 -2.90921718e-01\n",
      "  9.85691190e-01 -2.07184296e+01 -1.03972125e+00 -1.15778465e+01\n",
      " -8.04526138e+00  4.67421412e-01 -4.09069586e+00 -1.05131416e+01\n",
      "  4.73099709e+00  2.90753651e+00 -5.82433462e+00 -2.20813131e+00\n",
      " -2.62113972e+01  2.22302938e+00 -2.02719746e+01  2.59818220e+00\n",
      " -2.76611576e+01 -1.03727045e+01 -1.58810282e+01 -6.02435541e+00\n",
      " -1.94979935e+01 -2.85384130e+00  1.34289718e+00 -6.43357563e+00\n",
      "  2.80883455e+00 -8.37067246e-01 -2.42955875e+00 -1.14090323e+00\n",
      " -1.98486114e+00 -2.38636136e+00  5.40346622e+00 -5.57820177e+00\n",
      " -1.03602400e+01 -7.01898861e+00  5.75426388e+00  3.19114280e+00\n",
      " -5.45106125e+00 -6.52019787e+00 -4.81114054e+00  1.92437077e+01\n",
      "  2.02331138e+00 -6.76949680e-01 -1.36555147e+01 -4.53040600e+00\n",
      "  5.04815912e+00 -3.87621355e+00 -1.00162010e+01 -4.93397617e+00\n",
      "  4.67966032e+00 -2.24718933e+01 -7.63804102e+00 -1.16701794e+01\n",
      " -5.62381220e+00 -4.46001816e+00 -2.38721390e+01  2.46356025e-01\n",
      " -7.80341196e+00 -8.80738068e+00 -5.99407673e+00 -2.79721409e-01\n",
      " -1.18255091e+01 -2.94201702e-01 -7.57255411e+00 -4.02546597e+00\n",
      "  1.28849161e+00  3.06310701e+00  5.87531376e+00 -4.27291775e+00\n",
      " -4.87062073e+00 -1.78604240e+01 -2.19027829e+00 -4.74434614e+00\n",
      " -1.21707320e+00  8.32768154e+00  2.93251967e+00  5.47083712e+00\n",
      "  2.68551588e+00 -2.39245915e+00  1.06509666e+01 -1.40123010e+00\n",
      " -1.00378072e+00 -4.35353279e+00 -1.29134342e-01 -2.62676311e+00\n",
      " -3.95245576e+00 -4.10188293e+00 -2.69355369e+00  7.97579288e-01\n",
      " -8.54321671e+00 -1.53454840e+00 -5.68887377e+00  2.27196169e+00\n",
      " -4.00402212e+00  9.54482377e-01 -2.32407227e+01 -1.85886323e+00\n",
      "  1.79430163e+00 -4.86905336e+00 -9.46100140e+00 -2.69826078e+00\n",
      " -3.99904895e+00 -8.88788998e-02 -5.14065742e+00  1.24313366e+00\n",
      " -7.89358950e+00  3.16507936e+00  3.10613370e+00 -2.03973103e+01\n",
      " -1.07546682e+01 -2.81500320e+01  1.41435266e-01 -2.97671986e+00\n",
      " -1.82820880e+00 -2.18016796e+01 -8.65355873e+00 -8.22976112e+00\n",
      " -1.93958683e+01  7.61712360e+00  7.57234526e+00 -1.34922659e+00\n",
      " -5.63322961e-01  4.35460663e+00 -1.04323759e+01  2.13648343e+00\n",
      " -2.61602831e+00 -8.83417225e+00 -9.69252777e+00 -6.39894083e-02\n",
      " -2.35181713e+01 -1.93224258e+01 -1.79315529e+01 -5.73380136e+00\n",
      " -3.20134997e+00  6.70537949e+00 -1.30370502e+01 -1.93722095e+01\n",
      " -3.01129951e+01 -2.70468483e+01 -7.20454884e+00 -1.61603129e+00\n",
      "  3.97808790e+00 -7.81678152e+00 -2.12077293e+01  6.74088573e+00\n",
      " -2.82328205e+01 -7.29514956e-01 -2.34062004e+01 -4.85700035e+00\n",
      " -3.69613152e+01 -1.22411003e+01  6.20354986e+00 -4.02292709e+01\n",
      "  2.98249865e+00  6.63472235e-01 -3.94924355e+00 -2.21207237e+01\n",
      " -3.80643034e+00 -2.60052147e+01  7.86215639e+00 -2.88698654e+01\n",
      " -4.70156240e+00 -1.79547787e+00 -3.42593422e+01 -2.54916325e+01\n",
      " -5.95145607e+00  2.97904134e-01 -9.04855633e+00 -5.79255152e+00\n",
      " -2.14508057e+01  4.21105194e+00 -6.89304924e+00  3.08938932e+00\n",
      " -1.51228485e+01 -1.82733810e+00 -9.71095800e-01  3.44251037e+00\n",
      "  1.02323747e+00 -2.86306024e+00 -1.49163704e+01  9.80039716e-01\n",
      " -3.05502772e+00 -1.10885601e+01 -1.57093315e+01 -1.18148212e+01\n",
      "  6.59552145e+00 -6.92735100e+00 -2.59260311e+01  7.97000837e+00\n",
      " -7.92888021e+00 -1.02565346e+01  1.91139734e+00 -1.19658155e+01\n",
      " -1.52341738e+01 -3.75209541e+01 -1.02845459e+01 -2.20742073e+01\n",
      " -1.39361877e+01 -1.96945894e+00 -2.01555610e+00  2.75963569e+00\n",
      " -3.12985382e+01 -1.25671549e+01 -6.35570240e+00 -2.75162773e+01\n",
      " -5.16361198e+01  4.17844057e+00  1.11823916e+00 -2.09376755e+01\n",
      " -1.27254689e+00 -9.43377876e+00 -3.41635475e+01 -3.89947534e+00\n",
      "  1.87487869e+01  6.74757433e+00 -1.18051023e+01 -9.83391666e+00\n",
      " -3.03334980e+01 -2.75833321e+01  5.78378963e+00 -1.12289867e+01\n",
      "  1.81361282e+00  7.44383001e+00 -2.04671021e+01 -5.64338732e+00\n",
      "  1.31682730e+00 -9.68452263e+00 -2.66663570e+01 -3.02896442e+01\n",
      " -8.93924904e+00  6.40778255e+00  4.15377140e+00 -1.03309679e+01\n",
      "  1.38153958e+00 -8.73290157e+00 -2.44237785e+01 -1.64211464e+01\n",
      " -1.18397675e+01 -2.23906612e+00 -2.63176517e+01 -2.80618095e+01\n",
      " -2.08079891e+01 -4.35371190e-01]' has dtype incompatible with int64, please explicitly cast to a compatible dtype first.\n",
      "  preds[val_index] = model.predict(dval_i)\n"
     ]
    },
    {
     "name": "stderr",
     "output_type": "stream",
     "text": [
      "\r",
      "100%|███████████████████████████████████████████████████████████████████████████████████████████████████████████████████████████████████████████████████| 10/10 [03:38<00:00, 22.37s/it]"
     ]
    },
    {
     "name": "stderr",
     "output_type": "stream",
     "text": [
      "\r",
      "100%|███████████████████████████████████████████████████████████████████████████████████████████████████████████████████████████████████████████████████| 10/10 [03:38<00:00, 21.84s/it]"
     ]
    },
    {
     "name": "stdout",
     "output_type": "stream",
     "text": [
      "OOF predictions complete\n"
     ]
    },
    {
     "name": "stderr",
     "output_type": "stream",
     "text": [
      "\n"
     ]
    }
   ],
   "source": [
    "# OOF予測\n",
    "oof_preds = []\n",
    "for i in tqdm(range(repeat_cv), leave=True, dynamic_ncols=True):\n",
    "    # 初期はターゲットの値で初期化（後で上書き）\n",
    "    preds = y.copy()\n",
    "    # 各 repeater 毎に独自の KFold を用いる（random_state = i）\n",
    "    kfold = KFold(n_splits=folds_splits, shuffle=True, random_state=i)    \n",
    "    for train_index, val_index in kfold.split(X, y):\n",
    "        dtrain_i = xgb.DMatrix(X.iloc[train_index], label=y.iloc[train_index])\n",
    "        dval_i   = xgb.DMatrix(X.iloc[val_index], label=y.iloc[val_index])\n",
    "\n",
    "        model = xgb.train(\n",
    "            params=param,\n",
    "            dtrain=dtrain_i,\n",
    "            num_boost_round=iteration_counts[i],\n",
    "            verbose_eval=50\n",
    "        )\n",
    "        preds[val_index] = model.predict(dval_i)\n",
    "    # 予測値を -30 ～ 30 にクリップ\n",
    "    oof_preds.append(np.clip(preds, -30, 30))\n",
    "\n",
    "print(\"OOF predictions complete\")"
   ]
  },
  {
   "cell_type": "code",
   "execution_count": 24,
   "id": "c0e8b6c6",
   "metadata": {
    "execution": {
     "iopub.execute_input": "2025-03-13T18:21:48.129157Z",
     "iopub.status.busy": "2025-03-13T18:21:48.127150Z",
     "iopub.status.idle": "2025-03-13T18:21:48.249846Z",
     "shell.execute_reply": "2025-03-13T18:21:48.249846Z"
    },
    "papermill": {
     "duration": 0.154583,
     "end_time": "2025-03-13T18:21:48.250851",
     "exception": false,
     "start_time": "2025-03-13T18:21:48.096268",
     "status": "completed"
    },
    "tags": []
   },
   "outputs": [
    {
     "data": {
      "text/plain": [
       "<Axes: >"
      ]
     },
     "execution_count": 24,
     "metadata": {},
     "output_type": "execute_result"
    },
    {
     "data": {
      "image/png": "[encoded data removed]",
      "text/plain": [
       "<Figure size 640x480 with 1 Axes>"
      ]
     },
     "metadata": {},
     "output_type": "display_data"
    }
   ],
   "source": [
    "oof_preds[0].hist()"
   ]
  },
  {
   "cell_type": "code",
   "execution_count": 25,
   "id": "079eb89c",
   "metadata": {
    "execution": {
     "iopub.execute_input": "2025-03-13T18:21:48.288399Z",
     "iopub.status.busy": "2025-03-13T18:21:48.287399Z",
     "iopub.status.idle": "2025-03-13T18:21:48.312898Z",
     "shell.execute_reply": "2025-03-13T18:21:48.312898Z"
    },
    "papermill": {
     "duration": 0.046069,
     "end_time": "2025-03-13T18:21:48.312898",
     "exception": false,
     "start_time": "2025-03-13T18:21:48.266829",
     "status": "completed"
    },
    "tags": []
   },
   "outputs": [],
   "source": [
    "### simple spline, seed(1, 16)~(4, 13)は強制的にfiltaring,  \n",
    "### seed値に対応して予測スコアも同じ大小関係なら1or0に変換の3モデル\n",
    "def cal_logloss(pred_vals, y, i):\n",
    "    y_binary = np.where(y > 0, 1, 0)\n",
    "    loss = log_loss(y_binary, pred_vals)\n",
    "    print(f\"logloss of cvsplit {i}: {loss:.4f}\")\n",
    "\n",
    "\n",
    "    results.append(f\"Normal Spline - logloss of cvsplit {i}: {loss:.4f}\")\n",
    "    return loss\n",
    "\n",
    "#simple spline\n",
    "def make_normal_spline(df, y, repeat_cv):\n",
    "    spline_model1 = []\n",
    "    logloss_normal = []\n",
    "    \n",
    "    for i in range(repeat_cv):\n",
    "        dat = list(zip(df[i], np.where(y>0, 1, 0)))\n",
    "        dat = sorted(dat, key=lambda x:x[0])\n",
    "        datdict = {}\n",
    "        for k in range(len(dat)):\n",
    "            datdict[dat[k][0]] = dat[k][1]\n",
    "        \n",
    "        spline_model1.append(UnivariateSpline(list(datdict.keys()), list(datdict.values())))\n",
    "        spline_fit = spline_model1[i](df[i])\n",
    "        \n",
    "        loss = cal_logloss(spline_fit, y, i)    \n",
    "        logloss_normal.append(loss)\n",
    "\n",
    "    plot_df = pd.DataFrame({\n",
    "        \"pred\": df[0],\n",
    "        \"label\": np.where(y>0,1,0),\n",
    "        \"spline\": spline_model1[0](df[0])\n",
    "    })\n",
    "    plot_df[\"pred_int\"] = plot_df[\"pred\"].astype(int)\n",
    "    plot_df = plot_df.groupby('pred_int')[['spline','label']].mean().reset_index()\n",
    "    \n",
    "    plt.figure(figsize=(8, 5))\n",
    "    plt.plot(plot_df.pred_int, plot_df.label, marker='o', linestyle='-', label=\"True Label\")\n",
    "    plt.plot(plot_df.pred_int, plot_df.spline, marker='x', linestyle='--', label=\"Spline Approximation\")\n",
    "    plt.xlabel(\"Predicted Value (Integer)\")\n",
    "    plt.ylabel(\"Mean Value\")\n",
    "    plt.title(\"Normal Spline Fit Comparison\")\n",
    "    plt.legend()\n",
    "    plt.grid(True)\n",
    "    plt.savefig(os.path.join(OUTPUT_PATH, f\"normal_spline_fit_{PREDICT_YEAR}.png\"))\n",
    "    plt.close()\n",
    "    \n",
    "    \n",
    "    # 例として平均loglossもresultsに記録\n",
    "    avg_logloss = np.mean(logloss_normal) \n",
    "    results.append(f\"Average Normal Spline logloss: {avg_logloss:.4f}\" if avg_logloss is not None else \"No logloss computed\")\n",
    "    \n",
    "    return spline_model1\n",
    "            \n",
    "            \n",
    "#seed(1, 16)~(4, 13)は強制的にseed通りの結果にフィルタリング\n",
    "def make_seed1to4_chenge(df, y, repeat_cv):\n",
    "    spline_model2 = []\n",
    "    spline_fits = []\n",
    "    for i in range(repeat_cv):\n",
    "        dat = list(zip(df[i], np.where(y>0, 1, 0)))\n",
    "        dat = sorted(dat, key=lambda x:x[0])\n",
    "        datdict = {}\n",
    "        for k in range(len(dat)):\n",
    "            datdict[dat[k][0]] = dat[k][1]\n",
    "        \n",
    "        spline_model2.append(UnivariateSpline(list(datdict.keys()), list(datdict.values())))\n",
    "        spline_fit = spline_model2[i](df[i]) \n",
    "        \n",
    "        #add\n",
    "        spline_fit[(X.T1_seed==1) & (X.T2_seed==16)] = 1.0\n",
    "        spline_fit[(X.T1_seed==2) & (X.T2_seed==15)] = 0.9\n",
    "        spline_fit[(X.T1_seed==3) & (X.T2_seed==14)] = 0.8\n",
    "        spline_fit[(X.T1_seed==4) & (X.T2_seed==13)] = 0.7\n",
    "        spline_fit[(X.T1_seed==16) & (X.T2_seed==1)] = 0.0\n",
    "        spline_fit[(X.T1_seed==15) & (X.T2_seed==2)] = 0.1\n",
    "        spline_fit[(X.T1_seed==14) & (X.T2_seed==3)] = 0.2\n",
    "        spline_fit[(X.T1_seed==13) & (X.T2_seed==4)] = 0.3\n",
    "\n",
    "    \n",
    "        cal_logloss(spline_fit, y, i)   \n",
    "                \n",
    "        spline_fits.append(spline_fit)\n",
    "        cal_logloss(spline_fit, y, i)   \n",
    "                \n",
    "    \n",
    "    plot_df = pd.DataFrame({\n",
    "        \"pred\": df[0],\n",
    "        \"label\": np.where(y > 0, 1, 0),\n",
    "        \"spline\": spline_fits[0]  # 変更後の値を利用\n",
    "    })\n",
    "    plot_df[\"pred_int\"] = plot_df[\"pred\"].astype(int)\n",
    "    plot_df = plot_df.groupby(\"pred_int\")[[\"spline\", \"label\"]].mean().reset_index()\n",
    "\n",
    "    plt.figure()\n",
    "    plt.plot(plot_df.pred_int, plot_df.label, label=\"label\")\n",
    "    plt.plot(plot_df.pred_int, plot_df.spline, label=\"spline\")\n",
    "    plt.legend()\n",
    "    plt.show()\n",
    "    \n",
    "    return spline_model2\n",
    "    \n",
    "    \n",
    "#完全に値変換するのではなくてseed値に対応して予測スコアも同じ大小関係なら1or0に変換\n",
    "def make_seed1to4_base_on_score(df, y, repeat_cv):\n",
    "    spline_model3 = []\n",
    "    spline_fits = []\n",
    "\n",
    "    for i in range(repeat_cv):\n",
    "        dat = list(zip(df[i], np.where(y>0, 1, 0)))\n",
    "        dat = sorted(dat, key=lambda x:x[0])\n",
    "        datdict = {}\n",
    "        for k in range(len(dat)):\n",
    "            datdict[dat[k][0]] = dat[k][1]\n",
    "        \n",
    "        spline_model3.append(UnivariateSpline(list(datdict.keys()), list(datdict.values())))\n",
    "        spline_fit = spline_model3[i](df[i]) \n",
    "        \n",
    "        #add\n",
    "        spline_fit[(X.T1_seed==1) & (X.T2_seed==16) & (X.T1_Score > X.T2_Score)] = 1.0\n",
    "        spline_fit[(X.T1_seed==2) & (X.T2_seed==15) & (X.T1_Score > X.T2_Score)] = 1.0\n",
    "        spline_fit[(X.T1_seed==3) & (X.T2_seed==14) & (X.T1_Score > X.T2_Score)] = 1.0\n",
    "        spline_fit[(X.T1_seed==4) & (X.T2_seed==13) & (X.T1_Score > X.T2_Score)] = 1.0\n",
    "        spline_fit[(X.T1_seed==16) & (X.T2_seed==1) & (X.T1_Score < X.T2_Score)] = 0.0\n",
    "        spline_fit[(X.T1_seed==15) & (X.T2_seed==2) & (X.T1_Score < X.T2_Score)] = 0.0\n",
    "        spline_fit[(X.T1_seed==14) & (X.T2_seed==3) & (X.T1_Score < X.T2_Score)] = 0.0\n",
    "        spline_fit[(X.T1_seed==13) & (X.T2_seed==4) & (X.T1_Score < X.T2_Score)] = 0.0\n",
    "\n",
    "        spline_fits.append(spline_fit)\n",
    "        cal_logloss(spline_fit, y, i)   \n",
    "    \n",
    "    \n",
    "    plot_df = pd.DataFrame({\n",
    "        \"pred\": df[0],\n",
    "        \"label\": np.where(y > 0, 1, 0),\n",
    "        \"spline\": spline_fits[0]  # 変更後の値を利用\n",
    "    })\n",
    "    plot_df[\"pred_int\"] = plot_df[\"pred\"].astype(int)\n",
    "    plot_df = plot_df.groupby(\"pred_int\")[[\"spline\", \"label\"]].mean().reset_index()\n",
    "\n",
    "    plt.figure()\n",
    "    plt.plot(plot_df.pred_int, plot_df.label, label=\"label\")\n",
    "    plt.plot(plot_df.pred_int, plot_df.spline, label=\"spline\")\n",
    "    plt.legend()\n",
    "    plt.show()\n",
    "    return spline_model3\n",
    "\n",
    "\n",
    "\n",
    "# Platt Scalingを用いた補正曲線生成の関数 (ロジスティック回帰)\n",
    "def make_platt_scaling(df, y, repeat_cv):\n",
    "    platt_models = []\n",
    "    logloss_platt = []\n",
    "    \n",
    "    for i in range(repeat_cv):\n",
    "        X_train = np.array(df[i]).reshape(-1, 1)\n",
    "        y_binary = np.where(y > 0, 1, 0)\n",
    "        \n",
    "        model = LogisticRegression(random_state=42, solver='lbfgs')\n",
    "        model.fit(X_train, y_binary)\n",
    "        platt_models.append(model)\n",
    "        \n",
    "\n",
    "        platt_fit = model.predict_proba(X_train)[:, 1]\n",
    "        loss = cal_logloss(platt_fit, y, i)\n",
    "        logloss_platt.append(loss)\n",
    "    \n",
    "    \n",
    "    ###\n",
    "    plot_df = pd.DataFrame({\n",
    "        \"pred\": df[0],\n",
    "        \"label\": np.where(y > 0, 1, 0),\n",
    "        \"platt\": platt_models[0].predict_proba(np.array(df[0]).reshape(-1, 1))[:, 1]\n",
    "    })\n",
    "    plot_df[\"pred_int\"] = plot_df[\"pred\"].astype(int)\n",
    "    plot_df = plot_df.groupby(\"pred_int\")[[\"platt\", \"label\"]].mean().reset_index()\n",
    "    \n",
    "    plt.figure(figsize=(8, 5))\n",
    "    plt.plot(plot_df.pred_int, plot_df.label, marker='o', linestyle='-', label=\"True Label\")\n",
    "    plt.plot(plot_df.pred_int, plot_df.platt, marker='x', linestyle='--', label=\"Platt Scaling\")\n",
    "    plt.xlabel(\"Predicted Value (Integer)\")\n",
    "    plt.ylabel(\"Mean Value\")\n",
    "    plt.title(\"Platt Scaling Calibration Curve\")\n",
    "    plt.legend()\n",
    "    plt.grid(True)\n",
    "    plt.savefig(os.path.join(OUTPUT_PATH, f\"platt_scaling_fit_{PREDICT_YEAR}.png\"))\n",
    "    plt.close()\n",
    "    \n",
    "    avg_logloss = np.mean(logloss_platt)\n",
    "    results.append(f\"Average Platt Scaling logloss: {avg_logloss:.4f}\" if avg_logloss is not None else \"No logloss computed\")\n",
    "    \n",
    "    return platt_models\n",
    "\n",
    "def make_isotonic_regression(df, y, repeat_cv):\n",
    "    \"\"\" Isotonic Regression を用いた補正曲線生成 \"\"\"\n",
    "    isotonic_models = []\n",
    "    logloss_isotonic = []\n",
    "    \n",
    "    for i in range(repeat_cv):\n",
    "        X_train = np.array(df[i]).reshape(-1, 1)\n",
    "        y_binary = np.where(y > 0, 1, 0)\n",
    "        \n",
    "        model = IsotonicRegression(out_of_bounds=\"clip\")\n",
    "        model.fit(X_train.ravel(), y_binary)\n",
    "        isotonic_models.append(model)\n",
    "        \n",
    "        isotonic_fit = model.predict(X_train.ravel())\n",
    "        loss = cal_logloss(isotonic_fit, y, i)\n",
    "        logloss_isotonic.append(loss)\n",
    "    \n",
    "    plot_df = pd.DataFrame({\n",
    "        \"pred\": df[0],\n",
    "        \"label\": np.where(y > 0, 1, 0),\n",
    "        \"isotonic\": isotonic_models[0].predict(np.array(df[0]).reshape(-1, 1))\n",
    "    })\n",
    "    plot_df[\"pred_int\"] = plot_df[\"pred\"].astype(int)\n",
    "    plot_df = plot_df.groupby(\"pred_int\")[[\"isotonic\", \"label\"]].mean().reset_index()\n",
    "    \n",
    "    plt.figure(figsize=(8, 5))\n",
    "    plt.plot(plot_df.pred_int, plot_df.label, marker='o', linestyle='-', label=\"True Label\")\n",
    "    plt.plot(plot_df.pred_int, plot_df.isotonic, marker='x', linestyle='--', label=\"Isotonic Regression\")\n",
    "    plt.xlabel(\"Predicted Value (Integer)\")\n",
    "    plt.ylabel(\"Mean Value\")\n",
    "    plt.title(\"Isotonic Regression Calibration Curve\")\n",
    "    plt.legend()\n",
    "    plt.grid(True)\n",
    "    plt.savefig(os.path.join(OUTPUT_PATH, f\"isotonic_regression_fit_{PREDICT_YEAR}.png\"))\n",
    "    plt.close()\n",
    "    \n",
    "    avg_logloss = np.mean(logloss_isotonic)\n",
    "    results.append(f\"Average Isotonic Regression logloss: {avg_logloss:.4f}\" if avg_logloss is not None else \"No logloss computed\")\n",
    "    \n",
    "    return isotonic_models\n",
    "\n"
   ]
  },
  {
   "cell_type": "code",
   "execution_count": 26,
   "id": "a3e3b232",
   "metadata": {
    "execution": {
     "iopub.execute_input": "2025-03-13T18:21:48.339205Z",
     "iopub.status.busy": "2025-03-13T18:21:48.339205Z",
     "iopub.status.idle": "2025-03-13T18:21:48.351299Z",
     "shell.execute_reply": "2025-03-13T18:21:48.351299Z"
    },
    "papermill": {
     "duration": 0.023637,
     "end_time": "2025-03-13T18:21:48.351299",
     "exception": false,
     "start_time": "2025-03-13T18:21:48.327662",
     "status": "completed"
    },
    "tags": []
   },
   "outputs": [],
   "source": [
    "# キャリブレーションカーブの描画関数\n",
    "def plot_calibration_curve(y_true, y_pred_proba, method, save_path):\n",
    "    \"\"\" キャリブレーションカーブをプロットし保存 \"\"\"\n",
    "    y_binary = np.where(y_true > 0, 1, 0) \n",
    "    prob_true, prob_pred = calibration_curve(y_binary, y_pred_proba, n_bins=10)\n",
    "    \n",
    "    plt.figure(figsize=(6,6))\n",
    "    plt.plot(prob_pred, prob_true, marker=\"o\", label=f\"{method} Calibration\")\n",
    "    plt.plot([0, 1], [0, 1], linestyle=\"--\", label=\"Perfect Calibration\")\n",
    "    plt.xlabel(\"Predicted Probability\")\n",
    "    plt.ylabel(\"Actual Probability\")\n",
    "    plt.legend()\n",
    "    plt.title(f\"{method} Calibration Curve\")\n",
    "    plt.grid()\n",
    "    plt.savefig(save_path)\n",
    "    plt.close()\n",
    "\n"
   ]
  },
  {
   "cell_type": "code",
   "execution_count": 27,
   "id": "7e399ac2",
   "metadata": {
    "execution": {
     "iopub.execute_input": "2025-03-13T18:21:48.371470Z",
     "iopub.status.busy": "2025-03-13T18:21:48.371470Z",
     "iopub.status.idle": "2025-03-13T18:21:48.567204Z",
     "shell.execute_reply": "2025-03-13T18:21:48.567204Z"
    },
    "papermill": {
     "duration": 0.211792,
     "end_time": "2025-03-13T18:21:48.567204",
     "exception": false,
     "start_time": "2025-03-13T18:21:48.355412",
     "status": "completed"
    },
    "tags": []
   },
   "outputs": [
    {
     "name": "stdout",
     "output_type": "stream",
     "text": [
      "logloss of cvsplit 0: 0.5091\n",
      "logloss of cvsplit 1: 0.5056\n",
      "logloss of cvsplit 2: 0.5057\n",
      "logloss of cvsplit 3: 0.5040\n",
      "logloss of cvsplit 4: 0.5063\n",
      "logloss of cvsplit 5: 0.5049\n",
      "logloss of cvsplit 6: 0.5052\n",
      "logloss of cvsplit 7: 0.5088\n",
      "logloss of cvsplit 8: 0.5064\n",
      "logloss of cvsplit 9: 0.5047\n"
     ]
    }
   ],
   "source": [
    "# キャリブレーション手法の選択\n",
    "spline = MODEL.spline\n",
    "if spline == \"spline_normal\":\n",
    "    spline_model = make_normal_spline(oof_preds, y, repeat_cv)\n",
    "    calibrated_preds = spline_model[0](oof_preds[0])\n",
    "    plot_calibration_curve(y, calibrated_preds, \"Spline Normal\", os.path.join(OUTPUT_PATH, f\"spline_normal_calibration_{PREDICT_YEAR}.png\"))\n",
    "    \n",
    "elif spline == \"logistic\":\n",
    "    spline_model = make_platt_scaling(oof_preds, y, repeat_cv)\n",
    "    calibrated_preds = spline_model[0].predict_proba(np.array(oof_preds[0]).reshape(-1, 1))[:, 1]\n",
    "    plot_calibration_curve(y, calibrated_preds, \"Platt Scaling\", os.path.join(OUTPUT_PATH, f\"platt_scaling_calibration_{PREDICT_YEAR}.png\"))\n",
    "    \n",
    "elif spline == \"isotonic\":\n",
    "    spline_model = make_isotonic_regression(oof_preds, y, repeat_cv)\n",
    "    calibrated_preds = spline_model[0].predict(np.array(oof_preds[0]).reshape(-1, 1))\n",
    "    plot_calibration_curve(y, calibrated_preds, \"Isotonic Regression\", os.path.join(OUTPUT_PATH, f\"isotonic_regression_calibration_{PREDICT_YEAR}.png\"))"
   ]
  },
  {
   "cell_type": "markdown",
   "id": "01467494",
   "metadata": {
    "papermill": {
     "duration": 0.015875,
     "end_time": "2025-03-13T18:21:48.588022",
     "exception": false,
     "start_time": "2025-03-13T18:21:48.572147",
     "status": "completed"
    },
    "tags": []
   },
   "source": [
    "# submmit\n",
    "\n",
    "同じfeature engineeringする.\n",
    "\n",
    "個々の扱うも考える。2025は最終提出用の関数を用意する、その他2024以前は過去コンペでの提出形式に合わせる、でも年度によって提出形式が変わるからとりあえず2023でやる"
   ]
  },
  {
   "cell_type": "code",
   "execution_count": 28,
   "id": "178f9924",
   "metadata": {
    "execution": {
     "iopub.execute_input": "2025-03-13T18:21:48.627545Z",
     "iopub.status.busy": "2025-03-13T18:21:48.627545Z",
     "iopub.status.idle": "2025-03-13T18:21:48.636751Z",
     "shell.execute_reply": "2025-03-13T18:21:48.636751Z"
    },
    "papermill": {
     "duration": 0.026544,
     "end_time": "2025-03-13T18:21:48.636751",
     "exception": false,
     "start_time": "2025-03-13T18:21:48.610207",
     "status": "completed"
    },
    "tags": []
   },
   "outputs": [
    {
     "data": {
      "text/plain": [
       "'if PREDICT_YEAR==2022:\\n    sub = pd.read_csv(os.path.join(INPUT_PATH, \"SampleSubmission2022M.csv\"))\\n    sub[\\'Season\\'] = sub[\\'ID\\'].apply(lambda x: int(x.split(\\'_\\')[0]))\\n    sub[\"T1_TeamID\"] = sub[\\'ID\\'].apply(lambda x: int(x.split(\\'_\\')[1]))\\n    sub[\"T2_TeamID\"] = sub[\\'ID\\'].apply(lambda x: int(x.split(\\'_\\')[2]))\\n    sub_X, a = process_tourney(sub, mode = \"sub\")\\n    dtest = xgb.DMatrix(sub_X)\\nelif PREDICT_YEAR==2023:\\n    sub = pd.read_csv(os.path.join(INPUT_PATH, \"SampleSubmission2023.csv\"))\\n    sub[\\'Season\\'] = sub[\\'ID\\'].apply(lambda x: int(x.split(\\'_\\')[0]))\\n    sub[\"T1_TeamID\"] = sub[\\'ID\\'].apply(lambda x: int(x.split(\\'_\\')[1]))\\n    sub[\"T2_TeamID\"] = sub[\\'ID\\'].apply(lambda x: int(x.split(\\'_\\')[2]))\\n    sub_X, a = process_tourney(sub, mode = \"sub\")\\n    dtest = xgb.DMatrix(sub_X)\\nelif PREDICT_YEAR==2024:\\n    sub = pd.read_csv(os.path.join(INPUT_PATH, \"SampleSubmission2024.csv\"))\\n    sub[\\'Season\\'] = sub[\\'ID\\'].apply(lambda x: int(x.split(\\'_\\')[0]))\\n    sub[\"T1_TeamID\"] = sub[\\'ID\\'].apply(lambda x: int(x.split(\\'_\\')[1]))\\n    sub[\"T2_TeamID\"] = sub[\\'ID\\'].apply(lambda x: int(x.split(\\'_\\')[2]))\\n    sub_X, a = process_tourney(sub, mode = \"sub\")\\n    dtest = xgb.DMatrix(sub_X)\\nelif PREDICT_YEAR==2025:\\n    sub = pd.read_csv(os.path.join(INPUT_PATH, \"SampleSubmissionStage2.csv\"))\\n    sub[\\'Season\\'] = sub[\\'ID\\'].apply(lambda x: int(x.split(\\'_\\')[0]))\\n    sub[\"T1_TeamID\"] = sub[\\'ID\\'].apply(lambda x: int(x.split(\\'_\\')[1]))\\n    sub[\"T2_TeamID\"] = sub[\\'ID\\'].apply(lambda x: int(x.split(\\'_\\')[2]))   \\n    sub_X, a = process_tourney(sub, mode = \"sub\")\\n    dtest = xgb.DMatrix(sub_X)'"
      ]
     },
     "execution_count": 28,
     "metadata": {},
     "output_type": "execute_result"
    }
   ],
   "source": [
    "\"\"\"if PREDICT_YEAR==2022:\n",
    "    sub = pd.read_csv(os.path.join(INPUT_PATH, \"SampleSubmission2022M.csv\"))\n",
    "    sub['Season'] = sub['ID'].apply(lambda x: int(x.split('_')[0]))\n",
    "    sub[\"T1_TeamID\"] = sub['ID'].apply(lambda x: int(x.split('_')[1]))\n",
    "    sub[\"T2_TeamID\"] = sub['ID'].apply(lambda x: int(x.split('_')[2]))\n",
    "    sub_X, a = process_tourney(sub, mode = \"sub\")\n",
    "    dtest = xgb.DMatrix(sub_X)\n",
    "elif PREDICT_YEAR==2023:\n",
    "    sub = pd.read_csv(os.path.join(INPUT_PATH, \"SampleSubmission2023.csv\"))\n",
    "    sub['Season'] = sub['ID'].apply(lambda x: int(x.split('_')[0]))\n",
    "    sub[\"T1_TeamID\"] = sub['ID'].apply(lambda x: int(x.split('_')[1]))\n",
    "    sub[\"T2_TeamID\"] = sub['ID'].apply(lambda x: int(x.split('_')[2]))\n",
    "    sub_X, a = process_tourney(sub, mode = \"sub\")\n",
    "    dtest = xgb.DMatrix(sub_X)\n",
    "elif PREDICT_YEAR==2024:\n",
    "    sub = pd.read_csv(os.path.join(INPUT_PATH, \"SampleSubmission2024.csv\"))\n",
    "    sub['Season'] = sub['ID'].apply(lambda x: int(x.split('_')[0]))\n",
    "    sub[\"T1_TeamID\"] = sub['ID'].apply(lambda x: int(x.split('_')[1]))\n",
    "    sub[\"T2_TeamID\"] = sub['ID'].apply(lambda x: int(x.split('_')[2]))\n",
    "    sub_X, a = process_tourney(sub, mode = \"sub\")\n",
    "    dtest = xgb.DMatrix(sub_X)\n",
    "elif PREDICT_YEAR==2025:\n",
    "    sub = pd.read_csv(os.path.join(INPUT_PATH, \"SampleSubmissionStage2.csv\"))\n",
    "    sub['Season'] = sub['ID'].apply(lambda x: int(x.split('_')[0]))\n",
    "    sub[\"T1_TeamID\"] = sub['ID'].apply(lambda x: int(x.split('_')[1]))\n",
    "    sub[\"T2_TeamID\"] = sub['ID'].apply(lambda x: int(x.split('_')[2]))   \n",
    "    sub_X, a = process_tourney(sub, mode = \"sub\")\n",
    "    dtest = xgb.DMatrix(sub_X)\"\"\"\n",
    "    "
   ]
  },
  {
   "cell_type": "code",
   "execution_count": 29,
   "id": "3e6fa0f3",
   "metadata": {
    "execution": {
     "iopub.execute_input": "2025-03-13T18:21:48.671917Z",
     "iopub.status.busy": "2025-03-13T18:21:48.655728Z",
     "iopub.status.idle": "2025-03-13T18:21:48.695520Z",
     "shell.execute_reply": "2025-03-13T18:21:48.695520Z"
    },
    "papermill": {
     "duration": 0.055721,
     "end_time": "2025-03-13T18:21:48.695520",
     "exception": false,
     "start_time": "2025-03-13T18:21:48.639799",
     "status": "completed"
    },
    "tags": []
   },
   "outputs": [
    {
     "name": "stdout",
     "output_type": "stream",
     "text": [
      "no fillna, use nan\n",
      "drop col list: ['T1_opponent_Blkmean', 'T2_opponent_Blkmean', 'T1_TOmean', 'T2_TOmean', 'T1_opponent_Astmean', 'T2_opponent_Astmean', 'T1_opponent_FT_RATEmean', 'T2_opponent_FT_RATEmean']\n"
     ]
    }
   ],
   "source": [
    "sub = notexist.copy()\n",
    "sub = sub.rename(columns={\"WTeamID\": \"T1_TeamID\", \"LTeamID\": \"T2_TeamID\"})\n",
    "sub = sub[[\"Season\", \"T1_TeamID\", \"T2_TeamID\"]]\n",
    "temp = sub.copy()\n",
    "temp = temp.rename(columns={\"T1_TeamID\": \"T2_TeamID\", \"T2_TeamID\": \"T1_TeamID\"})\n",
    "sub = pd.concat([sub, temp]).reset_index()\n",
    "sub_X, a = process_tourney(sub, mode=\"sub\")\n",
    "sub_X = drop_columns(sub_X, drop_col)\n",
    "dtest = xgb.DMatrix(sub_X)"
   ]
  },
  {
   "cell_type": "code",
   "execution_count": 30,
   "id": "4469acb0",
   "metadata": {
    "execution": {
     "iopub.execute_input": "2025-03-13T18:21:48.746764Z",
     "iopub.status.busy": "2025-03-13T18:21:48.745767Z",
     "iopub.status.idle": "2025-03-13T18:22:40.912907Z",
     "shell.execute_reply": "2025-03-13T18:22:40.912907Z"
    },
    "papermill": {
     "duration": 52.193687,
     "end_time": "2025-03-13T18:22:40.912907",
     "exception": false,
     "start_time": "2025-03-13T18:21:48.719220",
     "status": "completed"
    },
    "tags": []
   },
   "outputs": [
    {
     "name": "stderr",
     "output_type": "stream",
     "text": [
      "\r",
      "  0%|                                                                                                                                                            | 0/10 [00:00<?, ?it/s]"
     ]
    },
    {
     "name": "stderr",
     "output_type": "stream",
     "text": [
      "\r",
      " 10%|██████████████▊                                                                                                                                     | 1/10 [00:05<00:49,  5.45s/it]"
     ]
    },
    {
     "name": "stderr",
     "output_type": "stream",
     "text": [
      "\r",
      " 20%|█████████████████████████████▌                                                                                                                      | 2/10 [00:11<00:44,  5.59s/it]"
     ]
    },
    {
     "name": "stderr",
     "output_type": "stream",
     "text": [
      "\r",
      " 30%|████████████████████████████████████████████▍                                                                                                       | 3/10 [00:16<00:37,  5.32s/it]"
     ]
    },
    {
     "name": "stderr",
     "output_type": "stream",
     "text": [
      "\r",
      " 40%|███████████████████████████████████████████████████████████▏                                                                                        | 4/10 [00:21<00:33,  5.51s/it]"
     ]
    },
    {
     "name": "stderr",
     "output_type": "stream",
     "text": [
      "\r",
      " 50%|██████████████████████████████████████████████████████████████████████████                                                                          | 5/10 [00:26<00:26,  5.27s/it]"
     ]
    },
    {
     "name": "stderr",
     "output_type": "stream",
     "text": [
      "\r",
      " 60%|████████████████████████████████████████████████████████████████████████████████████████▊                                                           | 6/10 [00:31<00:20,  5.09s/it]"
     ]
    },
    {
     "name": "stderr",
     "output_type": "stream",
     "text": [
      "\r",
      " 70%|███████████████████████████████████████████████████████████████████████████████████████████████████████▌                                            | 7/10 [00:36<00:15,  5.14s/it]"
     ]
    },
    {
     "name": "stderr",
     "output_type": "stream",
     "text": [
      "\r",
      " 80%|██████████████████████████████████████████████████████████████████████████████████████████████████████████████████████▍                             | 8/10 [00:41<00:10,  5.00s/it]"
     ]
    },
    {
     "name": "stderr",
     "output_type": "stream",
     "text": [
      "\r",
      " 90%|█████████████████████████████████████████████████████████████████████████████████████████████████████████████████████████████████████▏              | 9/10 [00:46<00:05,  5.00s/it]"
     ]
    },
    {
     "name": "stderr",
     "output_type": "stream",
     "text": [
      "\r",
      "100%|███████████████████████████████████████████████████████████████████████████████████████████████████████████████████████████████████████████████████| 10/10 [00:52<00:00,  5.21s/it]"
     ]
    },
    {
     "name": "stderr",
     "output_type": "stream",
     "text": [
      "\r",
      "100%|███████████████████████████████████████████████████████████████████████████████████████████████████████████████████████████████████████████████████| 10/10 [00:52<00:00,  5.22s/it]"
     ]
    },
    {
     "name": "stderr",
     "output_type": "stream",
     "text": [
      "\n"
     ]
    }
   ],
   "source": [
    "sub_models = []\n",
    "#sokutionではカスタム関数の指定、早期停止の言及がここではなかった。検討する\n",
    "for i in tqdm(range(repeat_cv), leave=True, dynamic_ncols=True):\n",
    "    sub_models.append(\n",
    "        xgb.train(\n",
    "          params = param,\n",
    "          dtrain = dtrain,\n",
    "          obj=cauchyobj,\n",
    "          num_boost_round = int(iteration_counts[i] * 1.05),\n",
    "          #early_stopping_rounds=early_stopping_rounds, #これ指定してない、指定するのかあと、指定するとしても少し遅くさせるとか\n",
    "          verbose_eval = 50\n",
    "        )\n",
    "    )"
   ]
  },
  {
   "cell_type": "markdown",
   "id": "33ce0a32",
   "metadata": {
    "papermill": {
     "duration": 0.030972,
     "end_time": "2025-03-13T18:22:40.972312",
     "exception": false,
     "start_time": "2025-03-13T18:22:40.941340",
     "status": "completed"
    },
    "tags": []
   },
   "source": [
    "各特徴量の寄与度を算出"
   ]
  },
  {
   "cell_type": "code",
   "execution_count": 31,
   "id": "e3c7e8f4",
   "metadata": {
    "execution": {
     "iopub.execute_input": "2025-03-13T18:22:41.022756Z",
     "iopub.status.busy": "2025-03-13T18:22:41.022756Z",
     "iopub.status.idle": "2025-03-13T18:22:41.467315Z",
     "shell.execute_reply": "2025-03-13T18:22:41.467315Z"
    },
    "papermill": {
     "duration": 0.477202,
     "end_time": "2025-03-13T18:22:41.467315",
     "exception": false,
     "start_time": "2025-03-13T18:22:40.990113",
     "status": "completed"
    },
    "tags": []
   },
   "outputs": [
    {
     "data": {
      "image/png": "[encoded data removed]",
      "text/plain": [
       "<Figure size 1000x600 with 1 Axes>"
      ]
     },
     "metadata": {},
     "output_type": "display_data"
    }
   ],
   "source": [
    "feature_importances = collections.defaultdict(list)\n",
    "for model in sub_models:\n",
    "    importance = model.get_score(importance_type='gain')\n",
    "    for feat, score in importance.items():\n",
    "        feature_importances[feat].append(score)\n",
    "\n",
    "avg_importance = {feat: sum(scores) / len(scores) for feat, scores in feature_importances.items()}\n",
    "fi_df = pd.DataFrame(list(avg_importance.items()), columns=['Feature', 'Avg_Gain'])\n",
    "fi_df.sort_values(by='Avg_Gain', ascending=False, inplace=True)\n",
    "results.append(\"\")\n",
    "fi_log = \"-----Feature Importance (Average Gain)-----\\n\"\n",
    "for feat, score in fi_df.values:\n",
    "    fi_log += f\"{feat}: {score:.4f}\\n\"\n",
    "results.append(fi_log)\n",
    "results.append(\"\")\n",
    "\n",
    "plt.figure(figsize=(10, 6))\n",
    "plt.bar(fi_df['Feature'], fi_df['Avg_Gain'])\n",
    "plt.xlabel('Feature')\n",
    "plt.ylabel('Average Gain')\n",
    "plt.title('Feature Importance (Average Gain)')\n",
    "plt.xticks(rotation=45)\n",
    "plt.tight_layout() \n",
    "\n",
    "plt.savefig(os.path.join(OUTPUT_PATH, f\"feature_importance_{PREDICT_YEAR}.png\"))\n",
    "plt.show()"
   ]
  },
  {
   "cell_type": "code",
   "execution_count": 32,
   "id": "5e9b62af",
   "metadata": {
    "execution": {
     "iopub.execute_input": "2025-03-13T18:22:41.500760Z",
     "iopub.status.busy": "2025-03-13T18:22:41.500760Z",
     "iopub.status.idle": "2025-03-13T18:22:41.570117Z",
     "shell.execute_reply": "2025-03-13T18:22:41.570117Z"
    },
    "papermill": {
     "duration": 0.09284,
     "end_time": "2025-03-13T18:22:41.571137",
     "exception": false,
     "start_time": "2025-03-13T18:22:41.478297",
     "status": "completed"
    },
    "tags": []
   },
   "outputs": [
    {
     "name": "stderr",
     "output_type": "stream",
     "text": [
      "\r",
      "  0%|                                                                                                                                                            | 0/10 [00:00<?, ?it/s]"
     ]
    },
    {
     "name": "stderr",
     "output_type": "stream",
     "text": [
      "\r",
      "100%|██████████████████████████████████████████████████████████████████████████████████████████████████████████████████████████████████████████████████| 10/10 [00:00<00:00, 172.13it/s]"
     ]
    },
    {
     "name": "stderr",
     "output_type": "stream",
     "text": [
      "\n"
     ]
    }
   ],
   "source": [
    "sub_preds = []\n",
    "for i in tqdm(range(repeat_cv)):\n",
    "    if spline == \"spline_normal\":\n",
    "        sub_preds.append(np.clip(spline_model[i](np.clip(sub_models[i].predict(dtest), -30, 30)), 0.025, 0.975))\n",
    "    \n",
    "    elif spline == \"logistic\":\n",
    "        X_input = np.clip(sub_models[i].predict(dtest), -30, 30).reshape(-1, 1)\n",
    "        platt_pred = spline_model[i].predict_proba(X_input)[:, 1]\n",
    "        sub_preds.append(np.clip(platt_pred, 0.025, 0.975))\n",
    "\n",
    "    elif spline == \"isotonic\":\n",
    "        X_input = np.clip(sub_models[i].predict(dtest), -30, 30).reshape(-1, 1)\n",
    "        iso_pred = spline_model[i].predict(X_input)  # Isotonic Regression の適用\n",
    "        sub_preds.append(np.clip(iso_pred, 0.025, 0.975))\n",
    "\n",
    "sub[\"Pred\"] = np.mean(np.vstack(sub_preds), axis=0)"
   ]
  },
  {
   "cell_type": "code",
   "execution_count": 33,
   "id": "ce19a043",
   "metadata": {
    "execution": {
     "iopub.execute_input": "2025-03-13T18:22:41.630320Z",
     "iopub.status.busy": "2025-03-13T18:22:41.630320Z",
     "iopub.status.idle": "2025-03-13T18:22:41.640747Z",
     "shell.execute_reply": "2025-03-13T18:22:41.640747Z"
    },
    "papermill": {
     "duration": 0.044045,
     "end_time": "2025-03-13T18:22:41.642753",
     "exception": false,
     "start_time": "2025-03-13T18:22:41.598708",
     "status": "completed"
    },
    "tags": []
   },
   "outputs": [
    {
     "name": "stdout",
     "output_type": "stream",
     "text": [
      "skip data flip\n"
     ]
    }
   ],
   "source": [
    "# 予測時にテストデータID反転させて予測して平均取る\n",
    "# dtestの用意とsub_predsの算出を同じようにやる\n",
    "# sub[\"Pred\"]を反転させたやつとの平均取ったやつにする\n",
    "TEST_REVERSE = MODEL.test_reverse\n",
    "\n",
    "if TEST_REVERSE:\n",
    "    print(\"----- data flip -----\") \n",
    "    sub_reverse = notexist.copy()\n",
    "    sub_reverse = sub_reverse.rename(columns={\"WTeamID\": \"T2_TeamID\", \"LTeamID\": \"T1_TeamID\"})#reverse!!\n",
    "    temp_reverse = sub_reverse.copy()\n",
    "    temp = temp.rename(columns={\"T1_TeamID\": \"T2_TeamID\", \"T2_TeamID\": \"T1_TeamID\"})\n",
    "    sub_reverse = pd.concat([sub_reverse, temp_reverse]).reset_index()\n",
    "    sub_reverse_X, a = process_tourney(sub_reverse, mode=\"sub\")\n",
    "    sub_reverse_X = drop_columns(sub_reverse_X, drop_col)\n",
    "    dtest_reverse = xgb.DMatrix(sub_reverse_X)\n",
    "    \n",
    "    sub_preds_reverse = []\n",
    "    for i in tqdm(range(repeat_cv)):\n",
    "        if spline == \"spline_normal\":\n",
    "            sub_preds_reverse.append(np.clip(spline_model[i](np.clip(sub_models[i].predict(dtest_reverse), -30, 30)), 0.025, 0.975))\n",
    "        \n",
    "        elif spline == \"logistic\":\n",
    "            X_input = np.clip(sub_models[i].predict(dtest_reverse), -30, 30).reshape(-1, 1)\n",
    "            platt_pred = spline_model[i].predict_proba(X_input)[:, 1]\n",
    "            sub_preds_reverse.append(np.clip(platt_pred, 0.025, 0.975))\n",
    "\n",
    "        elif spline == \"isotonic\":\n",
    "            X_input = np.clip(sub_models[i].predict(dtest_reverse), -30, 30).reshape(-1, 1)\n",
    "            iso_pred = spline_model[i].predict(X_input)  # Isotonic Regression の適用\n",
    "            sub_preds_reverse.append(np.clip(iso_pred, 0.025, 0.975))\n",
    "\n",
    "    sub_reverse[\"Pred\"] = np.mean(np.vstack(sub_preds_reverse), axis=0)\n",
    "    \n",
    " \n",
    "    #sub[\"Pred\"]を (sub[\"Pred\"] + (1-sub_reverse[\"Pred\"]))/2に塗り替える(平均取る)\n",
    "    sub[\"Pred\"] = (sub[\"Pred\"] + (1-sub_reverse[\"Pred\"]))/2\n",
    "\n",
    "\n",
    "else:\n",
    "    print(\"skip data flip\")"
   ]
  },
  {
   "cell_type": "code",
   "execution_count": 34,
   "id": "371c8fe9",
   "metadata": {
    "execution": {
     "iopub.execute_input": "2025-03-13T18:22:41.691427Z",
     "iopub.status.busy": "2025-03-13T18:22:41.691427Z",
     "iopub.status.idle": "2025-03-13T18:22:41.695845Z",
     "shell.execute_reply": "2025-03-13T18:22:41.695845Z"
    },
    "papermill": {
     "duration": 0.025771,
     "end_time": "2025-03-13T18:22:41.695845",
     "exception": false,
     "start_time": "2025-03-13T18:22:41.670074",
     "status": "completed"
    },
    "tags": []
   },
   "outputs": [],
   "source": [
    "# teams:64team, targetを受け取って、そのtarget teamの試合可能性のある全63試合を抽出する関数\n",
    "def extract_target_team_records(submission_df, teams, target_team):\n",
    "    if target_team not in teams:\n",
    "        raise ValueError(f\"target_team {target_team} は teams 内に存在しません\")\n",
    "\n",
    "    remaining_teams = [t for t in teams if t != target_team]\n",
    "    \n",
    "    records = []\n",
    "    for other_team in remaining_teams:\n",
    "        lower = min(target_team, other_team)\n",
    "        higher = max(target_team, other_team)\n",
    "        row = submission_df[(submission_df['T1_TeamID'] == lower) & (submission_df['T2_TeamID'] == higher)]\n",
    "        if row.empty:\n",
    "            print(f\"Warning: 対戦 {lower} vs {higher} に対応するレコードが見つかりませんでした\")\n",
    "        else:\n",
    "            records.append(row)\n",
    "    \n",
    "    if records:\n",
    "        final_records = pd.concat(records, ignore_index=True)\n",
    "    else:\n",
    "        final_records = pd.DataFrame()\n",
    "    \n",
    "    if len(final_records) != 63:\n",
    "        print(f\"Warning: 期待される63件ではなく、{len(final_records)}件のレコードが抽出されました。\")\n",
    "    \n",
    "    return final_records\n"
   ]
  },
  {
   "cell_type": "code",
   "execution_count": 35,
   "id": "a4e525b8",
   "metadata": {
    "execution": {
     "iopub.execute_input": "2025-03-13T18:22:41.737906Z",
     "iopub.status.busy": "2025-03-13T18:22:41.737906Z",
     "iopub.status.idle": "2025-03-13T18:22:41.745709Z",
     "shell.execute_reply": "2025-03-13T18:22:41.745709Z"
    },
    "papermill": {
     "duration": 0.03902,
     "end_time": "2025-03-13T18:22:41.745709",
     "exception": false,
     "start_time": "2025-03-13T18:22:41.706689",
     "status": "completed"
    },
    "tags": []
   },
   "outputs": [],
   "source": [
    "tourney_teams_2023 = [\n",
    "    1395, 1113,   # TCU1395, アリゾナ・ステイト1113\n",
    "    1231, 1245,   # インディアナ1231, ケント・ステイト1245\n",
    "    1243, 1286,   # カンザス・ステイト1243, モンタナ・ステイト1286\n",
    "    1272, 1194,   # メンフィス1272, ﾌﾛﾘﾀﾞ･ｱﾄﾗﾝﾃｨｯｸ1194\n",
    "    1211, 1213,   # ゴンザガ1211, グランド・キャニオン1213\n",
    "    1274, 1179,   # マイアミ（フロリダ）1274, ドレイク1179\n",
    "    1243, 1286,   # ケンタッキー1243, プロビデンス1286\n",
    "    1345, 1192,   # パデュー1345, ﾌｪｱﾘｰ･ﾃﾞｨｷﾝｿﾝ1192\n",
    "    1163, 1233,   # コネチカット1163, アイオナ1233\n",
    "    1166, 1301,   # クレイトン1166, ﾉｰｽｶﾛﾗｲﾅ･ｽﾃｲﾄ1301\n",
    "    1235, 1338,   # アイオワ・ステイト1235, ピッツバーグ1338\n",
    "    1266, 1436,   # マーケット1266, バーモント1436\n",
    "    1388, 1433,   # ｾﾝﾄﾒｱﾘｰｽﾞ（ｶﾘﾌｫﾙﾆｱ）1388, VCU1433\n",
    "    1124, 1364,   # ベイラー1124, UCサンタバーバラ1364\n",
    "    1462, 1244,   # ザビエル1462, ケネソー・ステイト1244\n",
    "    1277, 1425,   # ミシガン・ステイト1277, USC トロージャンズ1425\n",
    "\n",
    "    1417, 1421,   # UCLA1417, UNC アシュビル1421\n",
    "    1401, 1336,   # テキサス A＆M1401, ﾍﾟﾝｼﾞﾙﾍﾞﾆｱ･ｽﾃｲﾄ1336\n",
    "    1397, 1418,   # テネシー1397, ﾙｲｼﾞｱﾅ･ﾗﾌｧｲｴｯﾄ1418\n",
    "    1222, 1297,   # ヒューストン1222, ノーザンケンタッキー1297\n",
    "    1321, 1129,   # ノースウェスタン1321, ボイシ・ステイト1129\n",
    "    1400, 1159,   # テキサス1400, コルゲート1159\n",
    "    1181, 1331,   # デューク1181, オーラル・ロバーツ1331\n",
    "    1234, 1120,   # アイオワ1234, オーバーン1120\n",
    "    1116, 1228,   # アーカンソー1116, イリノイ1228\n",
    "    1112, 1343,   # アリゾナ1112, プリンストン1343\n",
    "    1361, 1158,   # ｻﾝﾃﾞｴｺﾞ･ｽﾃｲﾄ1361, チャールストン1158\n",
    "    1104, 1394,   # アラバマ1104, テキサス A＆M CC1394\n",
    "    1242, 1224,   # カンザス1242, ハワード1224\n",
    "    1281, 1429,   # ミズーリ1281, ユタ・ステイト1429\n",
    "    1438, 1202,   # バージニア1438, ファーマン1202\n",
    "    1268, 1452    # メリーランド1268, ウェストバージニア1452\n",
    "]\n",
    "\n",
    "#Connecticut_vs = extract_target_team_records(sub, tourney_teams_2023, 1163 )"
   ]
  },
  {
   "cell_type": "code",
   "execution_count": 36,
   "id": "f5d9893e",
   "metadata": {
    "execution": {
     "iopub.execute_input": "2025-03-13T18:22:41.785494Z",
     "iopub.status.busy": "2025-03-13T18:22:41.785494Z",
     "iopub.status.idle": "2025-03-13T18:22:41.790742Z",
     "shell.execute_reply": "2025-03-13T18:22:41.790742Z"
    },
    "papermill": {
     "duration": 0.029131,
     "end_time": "2025-03-13T18:22:41.790742",
     "exception": false,
     "start_time": "2025-03-13T18:22:41.761611",
     "status": "completed"
    },
    "tags": []
   },
   "outputs": [],
   "source": [
    "#handlabelingを行う関数\n",
    "def make_handlabeling(df, season, T1, T2, labeling_pred, tourney_teams):\n",
    "    if T1 not in tourney_teams or T2 not in tourney_teams: \n",
    "        print(f\"トーナメント対象チームに属していません\")\n",
    "        return \n",
    "    \n",
    "    if T1>T2: \n",
    "        T1, T2 = T2, T1\n",
    "        print(f\"{T1}, {T2}ID逆だけど大丈夫？？\")\n",
    "    id = f\"{season}_{T1}_{T2}\"\n",
    "\n",
    "    print(f\"before: {df[df['ID']==id]}\")\n",
    "    df.loc[df[\"ID\"] == id, \"Pred\"] = labeling_pred\n",
    "    print(f\"after: {df[df['ID']==id]}\")\n",
    "    \n",
    "    results.append(f\"-----handolabeling-----\")\n",
    "    results.append(f\"before:  {df[df['ID']==id]} -----> after: {df[df['ID']==id]}\")\n",
    "    results.appedn(\"\")\n",
    "    return df"
   ]
  },
  {
   "cell_type": "code",
   "execution_count": 37,
   "id": "6cd17ae8",
   "metadata": {
    "execution": {
     "iopub.execute_input": "2025-03-13T18:22:41.824929Z",
     "iopub.status.busy": "2025-03-13T18:22:41.824929Z",
     "iopub.status.idle": "2025-03-13T18:22:41.833617Z",
     "shell.execute_reply": "2025-03-13T18:22:41.833617Z"
    },
    "papermill": {
     "duration": 0.031985,
     "end_time": "2025-03-13T18:22:41.833617",
     "exception": false,
     "start_time": "2025-03-13T18:22:41.801632",
     "status": "completed"
    },
    "tags": []
   },
   "outputs": [],
   "source": [
    "labeling = cfg.exp.hand_labeling\n",
    "if labeling is not None:\n",
    "    for i in range(len(labeling)):\n",
    "        T1 = labeling[i][0]\n",
    "        T2 = labeling[i][1]\n",
    "        labeling_pred = labeling[i][2]\n",
    "        \n",
    "        print(f\"{T1} vs {T2} result labeling {labeling_pred}\")\n",
    "        \n",
    "        sub = make_handlabeling(sub, PREDICT_YEAR, T1, T2, labeling_pred, tourney_teams_2023)"
   ]
  },
  {
   "cell_type": "code",
   "execution_count": 38,
   "id": "c70a8c17",
   "metadata": {
    "execution": {
     "iopub.execute_input": "2025-03-13T18:22:41.871508Z",
     "iopub.status.busy": "2025-03-13T18:22:41.871508Z",
     "iopub.status.idle": "2025-03-13T18:22:42.128889Z",
     "shell.execute_reply": "2025-03-13T18:22:42.128889Z"
    },
    "papermill": {
     "duration": 0.288199,
     "end_time": "2025-03-13T18:22:42.128889",
     "exception": false,
     "start_time": "2025-03-13T18:22:41.840690",
     "status": "completed"
    },
    "tags": []
   },
   "outputs": [
    {
     "name": "stdout",
     "output_type": "stream",
     "text": [
      "Tournament matchups only - Pred Mean: 0.49941366055724074\n"
     ]
    },
    {
     "data": {
      "image/png": "[encoded data removed]",
      "text/plain": [
       "<Figure size 640x480 with 1 Axes>"
      ]
     },
     "metadata": {},
     "output_type": "display_data"
    }
   ],
   "source": [
    "tourney_filtered = notexist[notexist[\"Season\"] == PREDICT_YEAR].copy()\n",
    "a = tourney_filtered.rename(columns={'WTeamID': 'T1_TeamID', 'LTeamID': 'T2_TeamID'})\n",
    "b = tourney_filtered.rename(columns={'WTeamID': 'T2_TeamID', 'LTeamID': 'T1_TeamID'})\n",
    "ab = pd.concat([a, b]).reset_index(drop=True) \n",
    "filtered_sub = sub.merge(ab[['Season', 'T1_TeamID', 'T2_TeamID']], \n",
    "                         on=['Season', 'T1_TeamID', 'T2_TeamID'], \n",
    "                         how='inner')\n",
    "\n",
    "filtered_sub[\"Pred\"].astype(int)\n",
    "pred_mean = filtered_sub[\"Pred\"].mean()\n",
    "print(\"Tournament matchups only - Pred Mean:\", pred_mean)\n",
    "\n",
    "filtered_sub[\"Pred\"].hist(bins=50)\n",
    "results+=[\"\", f\"Tournament matchups only - Pred Mean:, {pred_mean}\", \"\"]\n",
    "plt.figure(figsize=(8, 6))\n",
    "filtered_sub[\"Pred\"].hist(bins=50)\n",
    "plt.title(\"Prediction Histogram\")\n",
    "plt.xlabel(\"Pred\")\n",
    "plt.ylabel(\"Frequency\")\n",
    "plt.grid(True)\n",
    "\n",
    "# 画像として保存\n",
    "plt.savefig(os.path.join(OUTPUT_PATH, f\"Prediction_Histgram_filtered_{PREDICT_YEAR}.png\"))\n",
    "plt.close()"
   ]
  },
  {
   "cell_type": "markdown",
   "id": "6c2e62e0",
   "metadata": {
    "papermill": {
     "duration": 0.015921,
     "end_time": "2025-03-13T18:22:42.151813",
     "exception": false,
     "start_time": "2025-03-13T18:22:42.135892",
     "status": "completed"
    },
    "tags": []
   },
   "source": [
    "# スコア算出、まとめ、\n",
    "ここまでで提出ファイル作成。ここからは過去年度のシミュレーションに対してBrier scoreやその他指標の算出"
   ]
  },
  {
   "cell_type": "code",
   "execution_count": 39,
   "id": "a30e68b4",
   "metadata": {
    "execution": {
     "iopub.execute_input": "2025-03-13T18:22:42.190985Z",
     "iopub.status.busy": "2025-03-13T18:22:42.190985Z",
     "iopub.status.idle": "2025-03-13T18:22:42.366616Z",
     "shell.execute_reply": "2025-03-13T18:22:42.366616Z"
    },
    "papermill": {
     "duration": 0.192248,
     "end_time": "2025-03-13T18:22:42.366616",
     "exception": false,
     "start_time": "2025-03-13T18:22:42.174368",
     "status": "completed"
    },
    "tags": []
   },
   "outputs": [
    {
     "data": {
      "image/png": "[encoded data removed]",
      "text/plain": [
       "<Figure size 640x480 with 1 Axes>"
      ]
     },
     "metadata": {},
     "output_type": "display_data"
    }
   ],
   "source": [
    "sub[\"Pred\"].hist()\n",
    "results+=[\"\", f\"Pred mean: {sub['Pred'].mean()}\", \"\"]\n",
    "\n",
    "plt.figure(figsize=(8, 6))\n",
    "sub[\"Pred\"].hist(bins=50)\n",
    "plt.title(\"Prediction Histogram\")\n",
    "plt.xlabel(\"Pred\")\n",
    "plt.ylabel(\"Frequency\")\n",
    "plt.grid(True)\n",
    "\n",
    "# 画像として保存\n",
    "plt.savefig(os.path.join(OUTPUT_PATH, f\"Prediction_Histgram_{PREDICT_YEAR}.png\"))\n",
    "plt.close()"
   ]
  },
  {
   "cell_type": "markdown",
   "id": "7237c5b0",
   "metadata": {
    "papermill": {
     "duration": 0.022212,
     "end_time": "2025-03-13T18:22:42.403321",
     "exception": false,
     "start_time": "2025-03-13T18:22:42.381109",
     "status": "completed"
    },
    "tags": []
   },
   "source": [
    "存在するはずのない予測年度のトーナメント結果をもとに(Pred, label)を取り出し、以下を行う。\n",
    "\n",
    "- 各評価指標の計算\n",
    "- キャリブレーション可視化\n",
    "- AUC可視化"
   ]
  },
  {
   "cell_type": "code",
   "execution_count": 40,
   "id": "db92a0a0",
   "metadata": {
    "execution": {
     "iopub.execute_input": "2025-03-13T18:22:42.439727Z",
     "iopub.status.busy": "2025-03-13T18:22:42.439727Z",
     "iopub.status.idle": "2025-03-13T18:22:42.449447Z",
     "shell.execute_reply": "2025-03-13T18:22:42.449447Z"
    },
    "papermill": {
     "duration": 0.041314,
     "end_time": "2025-03-13T18:22:42.449447",
     "exception": false,
     "start_time": "2025-03-13T18:22:42.408133",
     "status": "completed"
    },
    "tags": []
   },
   "outputs": [],
   "source": [
    "def extract_labels_and_preds(sub, tourney):\n",
    "    \"\"\" 試合データから予測値 (Pred) と正解ラベル (label) を抽出する \"\"\"\n",
    "    label_data = tourney[[\"WTeamID\", \"LTeamID\", \"WScore\", \"LScore\"]]\n",
    "    label_data = label_data.rename(columns={\"WTeamID\": \"T1_TeamID\", \"LTeamID\": \"T2_TeamID\", \"WScore\": \"T1_Score\", \"LScore\": \"T2_Score\"})\n",
    "    temp = label_data.copy()\n",
    "    temp = temp.rename(columns={\"T1_TeamID\": \"T2_TeamID\", \"T2_TeamID\": \"T1_TeamID\", \"T1_Score\": \"T2_Score\", \"T2_Score\": \"T1_Score\"})\n",
    "    label_data = pd.concat([label_data, temp]).reset_index(drop=True)\n",
    "    \n",
    "    label_data = pd.merge(label_data, sub, on=[\"T1_TeamID\", \"T2_TeamID\"], how=\"left\")\n",
    "    label_data[\"label\"] = np.where(label_data[\"T1_Score\"] - label_data[\"T2_Score\"] > 0, 1, 0)\n",
    "    label_data = label_data.dropna(subset=[\"Pred\"])  # 欠損値を削除\n",
    "    \n",
    "    return label_data[[\"label\", \"Pred\"]]\n",
    "\n",
    "def calculate_metrics(label_data):\n",
    "    \"\"\" 各評価指標を計算 \"\"\"\n",
    "    brier_score = round(mean_squared_error(label_data[\"label\"], label_data[\"Pred\"]), 5)  # Brier Score (MSEと同じ)\n",
    "    rmse_score = round(mean_squared_error(label_data[\"label\"], label_data[\"Pred\"], squared=False), 5)  # RMSE\n",
    "    logloss_score = round(log_loss(label_data[\"label\"], label_data[\"Pred\"]), 5)  # Log Loss\n",
    "    mae_score = round(mean_absolute_error(label_data[\"label\"], label_data[\"Pred\"]), 5)  # MAE\n",
    "    \n",
    "    return {\n",
    "        \"Brier Score\": brier_score,\n",
    "        \"RMSE\": rmse_score,\n",
    "        \"Log Loss\": logloss_score,\n",
    "        \"MAE\": mae_score\n",
    "    }\n",
    "\n",
    "def plot_calibration_curve(label_data, n_bins=10):\n",
    "    \"\"\" キャリブレーションカーブをプロット \"\"\"\n",
    "    prob_true, prob_pred = calibration_curve(label_data[\"label\"], label_data[\"Pred\"], n_bins=n_bins)\n",
    "    \n",
    "    plt.figure(figsize=(6,6))\n",
    "    plt.plot(prob_pred, prob_true, marker=\"o\", label=\"Model Calibration\")\n",
    "    plt.plot([0, 1], [0, 1], linestyle=\"--\", label=\"Perfect Calibration\")\n",
    "    plt.xlabel(\"Predicted Probability\")\n",
    "    plt.ylabel(\"Actual Probability\")\n",
    "    plt.legend()\n",
    "    plt.title(\"Calibration Curve\")\n",
    "    plt.show()\n",
    "\n",
    "def calculate_auc_metrics(label_data):\n",
    "    global results\n",
    "    \"\"\" AUC-ROCとAUC-PRを計算 \"\"\"\n",
    "    auc_roc = roc_auc_score(label_data[\"label\"], label_data[\"Pred\"])\n",
    "    auc_pr = average_precision_score(label_data[\"label\"], label_data[\"Pred\"])\n",
    "    \n",
    "    print(f\"AUC-ROC: {auc_roc:.4f}\")\n",
    "    print(f\"AUC-PR: {auc_pr:.4f}\")\n",
    "    results += [\"---- AUC -----\", f\"AUC-ROC: {auc_roc:.4f}\", f\"AUC-PR: {auc_pr:.4f}\"]\n",
    "    "
   ]
  },
  {
   "cell_type": "code",
   "execution_count": 41,
   "id": "064ab01f",
   "metadata": {
    "execution": {
     "iopub.execute_input": "2025-03-13T18:22:42.487097Z",
     "iopub.status.busy": "2025-03-13T18:22:42.487097Z",
     "iopub.status.idle": "2025-03-13T18:22:42.576723Z",
     "shell.execute_reply": "2025-03-13T18:22:42.576723Z"
    },
    "papermill": {
     "duration": 0.121121,
     "end_time": "2025-03-13T18:22:42.576723",
     "exception": false,
     "start_time": "2025-03-13T18:22:42.455602",
     "status": "completed"
    },
    "tags": []
   },
   "outputs": [
    {
     "name": "stderr",
     "output_type": "stream",
     "text": [
      "C:\\Users\\81809\\anaconda3\\envs\\deep_learning_pytorch\\Lib\\site-packages\\sklearn\\metrics\\_regression.py:492: FutureWarning: 'squared' is deprecated in version 1.4 and will be removed in 1.6. To calculate the root mean squared error, use the function'root_mean_squared_error'.\n",
      "  warnings.warn(\n"
     ]
    },
    {
     "data": {
      "image/png": "[encoded data removed]",
      "text/plain": [
       "<Figure size 600x600 with 1 Axes>"
      ]
     },
     "metadata": {},
     "output_type": "display_data"
    },
    {
     "name": "stdout",
     "output_type": "stream",
     "text": [
      "AUC-ROC: 0.8542\n",
      "AUC-PR: 0.8669\n",
      "MAE: 0.31554\n",
      "\n",
      "---- AUC -----\n",
      "AUC-ROC: 0.8542\n",
      "AUC-PR: 0.8669\n"
     ]
    }
   ],
   "source": [
    "if PREDICT_YEAR == 2022:\n",
    "    notexist_MAN = notexist[notexist[\"WTeamID\"].astype(str).str.startswith(\"1\")]\n",
    "    notexist_WOMAN = notexist[notexist[\"WTeamID\"].astype(str).str.startswith(\"3\")]\n",
    "    label_data = extract_labels_and_preds(sub, notexist) ######\n",
    "else:\n",
    "    label_data = extract_labels_and_preds(sub, notexist)\n",
    "\n",
    "# 評価指標の計算\n",
    "score = calculate_metrics(label_data)\n",
    "results += [\"\",\"-----eval metrics-----\",\n",
    "            f\"Brier Score: {score['Brier Score']}\", \n",
    "            f\"RMSE: {score['RMSE']}\", \n",
    "            f\"Log Loss: {score['Log Loss']}\", \n",
    "            f\"MAE: {score['MAE']}\", \"\"]\n",
    "\n",
    "# キャリブレーションの確認\n",
    "plot_calibration_curve(label_data)\n",
    "\n",
    "# AUCの評価\n",
    "calculate_auc_metrics(label_data)\n",
    "\n",
    "for temp in range(-5, 0):\n",
    "    print(results[temp])"
   ]
  },
  {
   "cell_type": "code",
   "execution_count": 42,
   "id": "0768e6f8",
   "metadata": {
    "execution": {
     "iopub.execute_input": "2025-03-13T18:22:42.612819Z",
     "iopub.status.busy": "2025-03-13T18:22:42.612819Z",
     "iopub.status.idle": "2025-03-13T18:22:42.624466Z",
     "shell.execute_reply": "2025-03-13T18:22:42.623119Z"
    },
    "papermill": {
     "duration": 0.041878,
     "end_time": "2025-03-13T18:22:42.624767",
     "exception": false,
     "start_time": "2025-03-13T18:22:42.582889",
     "status": "completed"
    },
    "tags": []
   },
   "outputs": [
    {
     "data": {
      "text/plain": [
       "'if PREDICT_YEAR!=2025:\\n    predict_year_label =notexist[[\"WTeamID\", \"LTeamID\", \"WScore\", \"LScore\"]].copy()\\n    predict_year_label.loc[:, \"Win\"] = np.where(predict_year_label[\"WScore\"] - predict_year_label[\"LScore\"] > 0, 1, 0)\\n    predict_year_label = predict_year_label[[\"WTeamID\", \"LTeamID\", \"Win\"]]\\n   \\n    predict_year_label.columns = [\"T1_TeamID\", \"T2_TeamID\", \"Win\"]\\n\\n    predict_year_label = pd.merge(predict_year_label, sub, on=[\"T1_TeamID\", \"T2_TeamID\"], how=\"left\")\\n    brier_score = np.mean((predict_year_label[\"Pred\"] - predict_year_label[\"Win\"])**2)\\n\\n    print(\"Brier Score:\", brier_score)\\n    results+=[f\"Brier Score: {brier_score}\", \"\"]\\n    predict_year_label.info()\\n'"
      ]
     },
     "execution_count": 42,
     "metadata": {},
     "output_type": "execute_result"
    }
   ],
   "source": [
    "\"\"\"if PREDICT_YEAR!=2025:\n",
    "    predict_year_label =notexist[[\"WTeamID\", \"LTeamID\", \"WScore\", \"LScore\"]].copy()\n",
    "    predict_year_label.loc[:, \"Win\"] = np.where(predict_year_label[\"WScore\"] - predict_year_label[\"LScore\"] > 0, 1, 0)\n",
    "    predict_year_label = predict_year_label[[\"WTeamID\", \"LTeamID\", \"Win\"]]\n",
    "   \n",
    "    predict_year_label.columns = [\"T1_TeamID\", \"T2_TeamID\", \"Win\"]\n",
    "\n",
    "    predict_year_label = pd.merge(predict_year_label, sub, on=[\"T1_TeamID\", \"T2_TeamID\"], how=\"left\")\n",
    "    brier_score = np.mean((predict_year_label[\"Pred\"] - predict_year_label[\"Win\"])**2)\n",
    "\n",
    "    print(\"Brier Score:\", brier_score)\n",
    "    results+=[f\"Brier Score: {brier_score}\", \"\"]\n",
    "    predict_year_label.info()\n",
    "\"\"\""
   ]
  },
  {
   "cell_type": "code",
   "execution_count": 43,
   "id": "3084f614",
   "metadata": {
    "execution": {
     "iopub.execute_input": "2025-03-13T18:22:42.656515Z",
     "iopub.status.busy": "2025-03-13T18:22:42.656515Z",
     "iopub.status.idle": "2025-03-13T18:22:42.669666Z",
     "shell.execute_reply": "2025-03-13T18:22:42.669666Z"
    },
    "papermill": {
     "duration": 0.029059,
     "end_time": "2025-03-13T18:22:42.669666",
     "exception": false,
     "start_time": "2025-03-13T18:22:42.640607",
     "status": "completed"
    },
    "tags": []
   },
   "outputs": [
    {
     "name": "stdout",
     "output_type": "stream",
     "text": [
      "実行時間： 530.6秒\n"
     ]
    }
   ],
   "source": [
    "END_TIME = time.time()\n",
    "ELAPSED_TIME = END_TIME - START_TIME\n",
    "print(f\"実行時間： {ELAPSED_TIME:.1f}秒\")\n",
    "results.append(f\"実行時間： {ELAPSED_TIME:.1f}秒\")\n",
    "\n",
    "with open(os.path.join(OUTPUT_PATH, \"result.txt\"), \"a\", encoding=\"utf-8\") as f:\n",
    "    for line in results:\n",
    "        f.write(line + \"\\n\")"
   ]
  },
  {
   "cell_type": "code",
   "execution_count": 44,
   "id": "82799cf7",
   "metadata": {
    "execution": {
     "iopub.execute_input": "2025-03-13T18:22:42.710589Z",
     "iopub.status.busy": "2025-03-13T18:22:42.710589Z",
     "iopub.status.idle": "2025-03-13T18:22:42.716740Z",
     "shell.execute_reply": "2025-03-13T18:22:42.716740Z"
    },
    "papermill": {
     "duration": 0.028444,
     "end_time": "2025-03-13T18:22:42.716740",
     "exception": false,
     "start_time": "2025-03-13T18:22:42.688296",
     "status": "completed"
    },
    "tags": []
   },
   "outputs": [],
   "source": [
    "logger.remove()"
   ]
  }
 ],
 "metadata": {
  "kernelspec": {
   "display_name": "deep_learning_pytorch",
   "language": "python",
   "name": "python3"
  },
  "language_info": {
   "codemirror_mode": {
    "name": "ipython",
    "version": 3
   },
   "file_extension": ".py",
   "mimetype": "text/x-python",
   "name": "python",
   "nbconvert_exporter": "python",
   "pygments_lexer": "ipython3",
   "version": "3.11.9"
  },
  "papermill": {
   "default_parameters": {},
   "duration": 534.907024,
   "end_time": "2025-03-13T18:22:43.282210",
   "environment_variables": {},
   "exception": null,
   "input_path": "c:\\Users\\81809\\Documents\\ALL_CODE\\kaggle\\March Machine Learning Mania 2025\\notebook\\1stplace_solution_2023.ipynb",
   "output_path": "exp066_20250314_031348.ipynb",
   "parameters": {
    "EXP_NUM": "exp066"
   },
   "start_time": "2025-03-13T18:13:48.375186",
   "version": "2.6.0"
  }
 },
 "nbformat": 4,
 "nbformat_minor": 5
}