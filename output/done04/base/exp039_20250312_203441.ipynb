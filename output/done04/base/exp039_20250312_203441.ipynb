{
 "cells": [
  {
   "cell_type": "code",
   "execution_count": 1,
   "id": "09510ee3",
   "metadata": {
    "execution": {
     "iopub.execute_input": "2025-03-12T11:34:43.008937Z",
     "iopub.status.busy": "2025-03-12T11:34:43.008937Z",
     "iopub.status.idle": "2025-03-12T11:34:43.017709Z",
     "shell.execute_reply": "2025-03-12T11:34:43.017709Z"
    },
    "papermill": {
     "duration": 0.017627,
     "end_time": "2025-03-12T11:34:43.020741",
     "exception": false,
     "start_time": "2025-03-12T11:34:43.003114",
     "status": "completed"
    },
    "tags": [
     "parameters"
    ]
   },
   "outputs": [],
   "source": [
    "# Parameters\n",
    "EXP_NUM = \"default\""
   ]
  },
  {
   "cell_type": "code",
   "execution_count": 2,
   "id": "b8f99456",
   "metadata": {
    "execution": {
     "iopub.execute_input": "2025-03-12T11:34:43.037365Z",
     "iopub.status.busy": "2025-03-12T11:34:43.036494Z",
     "iopub.status.idle": "2025-03-12T11:34:43.040409Z",
     "shell.execute_reply": "2025-03-12T11:34:43.040409Z"
    },
    "papermill": {
     "duration": 0.016731,
     "end_time": "2025-03-12T11:34:43.042228",
     "exception": false,
     "start_time": "2025-03-12T11:34:43.025497",
     "status": "completed"
    },
    "tags": [
     "injected-parameters"
    ]
   },
   "outputs": [],
   "source": [
    "# Parameters\n",
    "EXP_NUM = \"exp039\"\n"
   ]
  },
  {
   "cell_type": "markdown",
   "id": "8980b9e0",
   "metadata": {
    "papermill": {
     "duration": 0.0,
     "end_time": "2025-03-12T11:34:43.042906",
     "exception": false,
     "start_time": "2025-03-12T11:34:43.042906",
     "status": "completed"
    },
    "tags": []
   },
   "source": [
    "# 2023 1st place solution\n",
    "[kaggle notebook](https://www.kaggle.com/code/rustyb/paris-madness-2023#Load-the-data!)"
   ]
  },
  {
   "cell_type": "markdown",
   "id": "7ceed6c9",
   "metadata": {
    "papermill": {
     "duration": 0.0,
     "end_time": "2025-03-12T11:34:43.057298",
     "exception": false,
     "start_time": "2025-03-12T11:34:43.057298",
     "status": "completed"
    },
    "tags": []
   },
   "source": [
    "# コードの流れ\n",
    "1. hydraからハイパラ取得し、パスなどを設定\n",
    "\n",
    "    regular&tourney Detaile Result, Seedを使用し、tourneyを目的変数としてモデルを予測していく\n",
    "\n",
    "    regular_data->season_statistics->\n",
    "\n",
    "    以下の前処理をする\n",
    "\n",
    "2. データ２倍にかさまし\n",
    "3. regularに対して特徴量の追加\n",
    "    各チームごとに加えるもの\n",
    "   - EFFG: フィールドゴール成功率\n",
    "   - EFFG3: フィールドゴール3p成功率\n",
    "   - DARE: フィールドゴールにおける3P率\n",
    "   - \"win\"を目的変数とする(Team, Season)のロジスティック回帰した各係数\n",
    "    対戦カードごとに加える特徴量\n",
    "    - PointDiff: ポイント差\n",
    "    - win: 1 if PointDiff>0 else 0\n",
    "4. (Team, Season)ごとに特徴量season_statixtics追加\n",
    "    - win_ratio_14d\n",
    "    - box score mean\n",
    "    - quality\n",
    "    - seed\n",
    "5. season_average.enabled=trueなら直近３シーズンの加重平均の処理加える\n",
    "6. tourneyをteamID, Season, score(y)のみ取り出してこれに対してseason_statisticsの結合と特徴量微調整\n",
    "   - seed->seeddiff\n",
    "   - fillna()\n",
    "\n",
    "7. モデル構築\n",
    "8. KFOLD->OOF予測->spline曲線求めてlogloss算出\n",
    "    - KFOLDによる交差検証（CV）\n",
    "        repeat_cv 回のループで、各反復ごとにKFold（folds_splits個）によりデータを分割し、XGBoostのCVを実行しています。\n",
    "        各foldでの結果（例えば、訓練MAE、検証MAEの平均値や標準偏差）がcv_resultとして得られ、それをxgb_cvリストに格納します。\n",
    "        この段階で重要なのは、各反復での検証用MAEの平均値 (test-mae-mean) の最小値と、そのときのブーストラウンド数です。\n",
    "        それらは後で、最適なイテレーション数 (iteration_counts) として計算され、val_mae にも格納されます。\n",
    "    - OOF予測の流れ\n",
    "\n",
    "        各反復ごとに、新たなKFoldを用いてデータを分割。\n",
    "        各foldごとに、学習データでモデルを訓練し、検証データに対して予測を実施。\n",
    "        すべてのfold分の予測結果を1つの予測配列にまとめ、最後に -30～30 の範囲にクリップしています。\n",
    "        重要な結果\n",
    "\n",
    "        OOF予測結果（oof_preds）自体は後段で別途評価指標に使用できるほか、各反復ごとの予測精度や誤差を算出する際の基礎データ\n",
    "9.  提出フェーズ\n",
    "    - 最適paramで全データ使って訓練\n",
    "    - 提出試合の予測"
   ]
  },
  {
   "cell_type": "markdown",
   "id": "e7566b01",
   "metadata": {
    "papermill": {
     "duration": 0.015186,
     "end_time": "2025-03-12T11:34:43.072484",
     "exception": false,
     "start_time": "2025-03-12T11:34:43.057298",
     "status": "completed"
    },
    "tags": []
   },
   "source": [
    "memo\n",
    "\n",
    "欠損値が発生していいのか検討して保管について考える\n",
    "seedがかけているのはregularに対してseedを与えているから大丈夫。最終的なtourneyには欠損０で追加できているから問題ない"
   ]
  },
  {
   "cell_type": "code",
   "execution_count": 3,
   "id": "52fb9b99",
   "metadata": {
    "execution": {
     "iopub.execute_input": "2025-03-12T11:34:43.072484Z",
     "iopub.status.busy": "2025-03-12T11:34:43.072484Z",
     "iopub.status.idle": "2025-03-12T11:34:43.090929Z",
     "shell.execute_reply": "2025-03-12T11:34:43.090929Z"
    },
    "papermill": {
     "duration": 0.018445,
     "end_time": "2025-03-12T11:34:43.090929",
     "exception": false,
     "start_time": "2025-03-12T11:34:43.072484",
     "status": "completed"
    },
    "tags": []
   },
   "outputs": [
    {
     "name": "stdout",
     "output_type": "stream",
     "text": [
      "Current working directory: c:\\Users\\81809\\Documents\\ALL_CODE\\kaggle\\March Machine Learning Mania 2025\\notebook\n",
      "これ出力されてんの？\n"
     ]
    }
   ],
   "source": [
    "import os\n",
    "print(\"Current working directory:\", os.getcwd())\n",
    "print(\"これ出力されてんの？\")"
   ]
  },
  {
   "cell_type": "code",
   "execution_count": 4,
   "id": "21ce267b",
   "metadata": {
    "execution": {
     "iopub.execute_input": "2025-03-12T11:34:43.104611Z",
     "iopub.status.busy": "2025-03-12T11:34:43.104144Z",
     "iopub.status.idle": "2025-03-12T11:34:45.166409Z",
     "shell.execute_reply": "2025-03-12T11:34:45.166409Z"
    },
    "papermill": {
     "duration": 2.07548,
     "end_time": "2025-03-12T11:34:45.166409",
     "exception": false,
     "start_time": "2025-03-12T11:34:43.090929",
     "status": "completed"
    },
    "tags": []
   },
   "outputs": [
    {
     "name": "stderr",
     "output_type": "stream",
     "text": [
      "C:\\Users\\81809\\anaconda3\\envs\\deep_learning_pytorch\\Lib\\site-packages\\tqdm\\auto.py:21: TqdmWarning: IProgress not found. Please update jupyter and ipywidgets. See https://ipywidgets.readthedocs.io/en/stable/user_install.html\n",
      "  from .autonotebook import tqdm as notebook_tqdm\n"
     ]
    },
    {
     "name": "stdout",
     "output_type": "stream",
     "text": [
      "exp039\n",
      "Omega conf is below\n",
      "dir:\n",
      "  input_dir: ../input\n",
      "  output_dir: ../output\n",
      "  src_path: ../src\n",
      "  conf_path: ../conf\n",
      "exp:\n",
      "  name: mae_metrics\n",
      "  print_name: base change mae metrics\n",
      "  tournament:\n",
      "    use_start_season: 1985\n",
      "    target_season: 2021\n",
      "  features:\n",
      "    cal_mean_boxscore:\n",
      "      T1_Score: true\n",
      "      T2_Score: true\n",
      "      PointDiff: true\n",
      "      T1_FGM: true\n",
      "      T2_FGM: true\n",
      "      T1_FGA: true\n",
      "      T2_FGA: true\n",
      "      T1_FGM3: true\n",
      "      T2_FGM3: true\n",
      "      T1_FGA3: true\n",
      "      T2_FGA3: true\n",
      "      T1_FTM: true\n",
      "      T2_FTM: true\n",
      "      T1_FTA: true\n",
      "      T2_FTA: true\n",
      "      T1_EFFG: false\n",
      "      T2_EFFG: false\n",
      "      T1_EFFG3: false\n",
      "      T2_EFFG3: false\n",
      "      T1_EFG_SUM: true\n",
      "      T2_EFG_SUM: true\n",
      "      T1_TO_RATIO: true\n",
      "      T2_TO_RATIO: true\n",
      "      T1_OR: true\n",
      "      T2_OR: true\n",
      "      T1_DR: true\n",
      "      T2_DR: true\n",
      "      T1_REB_RATE: true\n",
      "      T2_REB_RATE: true\n",
      "      T1_FT_RATE: true\n",
      "      T2_FT_RATE: true\n",
      "      T1_RATING: false\n",
      "      T2_RATING: false\n",
      "      T1_POSS_RATE: true\n",
      "      T2_POSS_RATE: true\n",
      "      T1_Ast: true\n",
      "      T2_Ast: true\n",
      "      T1_TO: true\n",
      "      T2_TO: true\n",
      "      T1_Stl: true\n",
      "      T2_Stl: true\n",
      "      T1_Blk: true\n",
      "      T2_Blk: true\n",
      "      T1_PF: true\n",
      "      T2_PF: true\n",
      "      T1_DARE: false\n",
      "      T2_DARE: false\n",
      "      T1_TOQUETOQUE: false\n",
      "      T2_TOQUETOQUE: false\n",
      "    rank_diff: true\n",
      "    start_quality_season: 2003\n",
      "    season_average:\n",
      "      enabled: false\n",
      "      past_years: 3\n",
      "      weights:\n",
      "      - 1\n",
      "      - 2\n",
      "      - 3\n",
      "    fillna:\n",
      "      quality: 'nan'\n",
      "  model:\n",
      "    repeat_cv: 10\n",
      "    optuna_enabled: false\n",
      "    xgb_model:\n",
      "      param:\n",
      "        eval_metric: rmse\n",
      "        booster: gbtree\n",
      "        eta: 0.02\n",
      "        subsample: 0.35\n",
      "        colsample_bytree: 0.7\n",
      "        num_parallel_tree: 10\n",
      "        min_child_weight: 40\n",
      "        gamma: 10\n",
      "        max_depth: 3\n",
      "      obj: cauchyoj\n",
      "      num_boost_round: 3000\n",
      "      folds_splits: 5\n",
      "      early_stopping_rounds: 25\n",
      "      optuna:\n",
      "        max_depth:\n",
      "        - 3\n",
      "        - 7\n",
      "        eta:\n",
      "        - 0.001\n",
      "        - 0.03\n",
      "        subsample:\n",
      "        - 0.2\n",
      "        - 0.5\n",
      "        colsample_bytree:\n",
      "        - 0.5\n",
      "        - 1.0\n",
      "        num_parallel_tree:\n",
      "        - 7\n",
      "        - 12\n",
      "        min_child_weight:\n",
      "        - 30\n",
      "        - 50\n",
      "        reg_alpha:\n",
      "        - 0.0\n",
      "        - 1.0\n",
      "        reg_lambda:\n",
      "        - 0.0\n",
      "        - 1.0\n",
      "        gamma:\n",
      "        - 0\n",
      "        - 10\n",
      "        n_trials: 1000\n",
      "        timeout: 28800\n",
      "        n_jobs: -1\n",
      "        n_warmup_steps: 3\n",
      "    spline: logistic\n",
      "  hand_labeling: null\n",
      "\n"
     ]
    }
   ],
   "source": [
    "\n",
    "import os\n",
    "import sys\n",
    "from pathlib import Path\n",
    "import collections\n",
    "from datetime import datetime\n",
    "import shutil\n",
    "import yaml\n",
    "from tqdm import tqdm\n",
    "import time\n",
    "import optuna\n",
    "from loguru import logger\n",
    "import collections\n",
    "\n",
    "from hydra import initialize, initialize_config_module, initialize_config_dir, compose\n",
    "from omegaconf import OmegaConf\n",
    "\n",
    "import numpy as np\n",
    "import pandas as pd\n",
    "import matplotlib.pyplot as plt\n",
    "import seaborn as sns\n",
    "from scipy.interpolate import UnivariateSpline\n",
    "\n",
    "import xgboost as xgb\n",
    "from xgboost import XGBRegressor\n",
    "from sklearn.model_selection import KFold\n",
    "from sklearn.calibration import calibration_curve\n",
    "from sklearn.metrics import log_loss,mean_squared_error, mean_absolute_error, roc_auc_score, average_precision_score\n",
    "from sklearn.metrics import make_scorer\n",
    "from sklearn.model_selection import cross_val_score, KFold\n",
    "from sklearn.linear_model import LogisticRegression\n",
    "from sklearn.preprocessing import OneHotEncoder\n",
    "from sklearn.isotonic import IsotonicRegression\n",
    "\n",
    "import statsmodels.api as sm\n",
    "\n",
    "START_TIME = time.time()\n",
    "\n",
    "\n",
    "#####\n",
    "#EXP_NUM = \"exp030\"\n",
    "#####\n",
    "print(EXP_NUM)\n",
    "\n",
    "# hydraの初期設定と指定ハイパラの取得\n",
    "sys.path.append(os.path.abspath(\"/workspace\"))\n",
    "sys.path.append(\"C:\\\\Users\\\\81809\\\\Documents\\\\ALL_CODE\\\\kaggle\\\\March Machine Learning Mania 2025\")\n",
    "with initialize_config_module(version_base=None, config_module=\"conf\"):\n",
    "    cfg = compose(\n",
    "        config_name=\"base.yaml\",\n",
    "        overrides=[\n",
    "            f\"+exp={EXP_NUM}\" #defaultexp001->exp002のオーバーライド\n",
    "        ],\n",
    "    )\n",
    "    \n",
    "    OmegaConf.resolve(cfg)\n",
    "    print(\"Omega conf is below\")\n",
    "    print(OmegaConf.to_yaml(cfg))\n"
   ]
  },
  {
   "cell_type": "code",
   "execution_count": 5,
   "id": "36a98bc2",
   "metadata": {
    "execution": {
     "iopub.execute_input": "2025-03-12T11:34:45.171392Z",
     "iopub.status.busy": "2025-03-12T11:34:45.171392Z",
     "iopub.status.idle": "2025-03-12T11:34:45.195107Z",
     "shell.execute_reply": "2025-03-12T11:34:45.195107Z"
    },
    "papermill": {
     "duration": 0.023715,
     "end_time": "2025-03-12T11:34:45.195107",
     "exception": false,
     "start_time": "2025-03-12T11:34:45.171392",
     "status": "completed"
    },
    "tags": []
   },
   "outputs": [
    {
     "name": "stdout",
     "output_type": "stream",
     "text": [
      "########\n",
      "output dir name: mae_metrics\n",
      "Run on 2025-03-12 20:34:45.171392\n",
      "base change mae metrics\n",
      "########\n"
     ]
    }
   ],
   "source": [
    "PREDICT_YEAR = cfg.exp.tournament.target_season\n",
    "name = f\"{cfg.exp.name}\"\n",
    "now = str(datetime.now())\n",
    "print(\"########\")\n",
    "print(f\"output dir name: {name}\")\n",
    "print(f\"Run on {now}\")\n",
    "print(cfg.exp.print_name)\n",
    "print(\"########\")\n",
    "\n",
    "BASE_DIR = os.path.abspath(os.path.join(os.getcwd(), \"..\"))\n",
    "CONF_PATH = os.path.join(BASE_DIR, \"conf\")\n",
    "INPUT_PATH = os.path.join(BASE_DIR, \"input\")\n",
    "EXP_PATH = os.path.join(CONF_PATH, \"exp\", f\"{EXP_NUM}.yaml\")\n",
    "OUTPUT_PATH = os.path.join(BASE_DIR, \"output\", name)\n",
    "SRC_PATH = cfg.dir.src_path\n",
    "sys.path.append(SRC_PATH)\n",
    "\n",
    "os.makedirs(OUTPUT_PATH, exist_ok=True)  \n",
    "with open(EXP_PATH, \"r\", encoding=\"utf-8\") as f:\n",
    "    config = yaml.safe_load(f)\n",
    "shutil.copyfile(EXP_PATH, os.path.join(OUTPUT_PATH, f\"{EXP_NUM}.yaml\"))\n",
    "\n",
    "\n",
    "y_season = cfg.exp.tournament.target_season\n",
    "FEATURES = cfg.exp.features\n",
    "MODEL = cfg.exp.model\n",
    "results = [f\"-----{PREDICT_YEAR}-----\", now ,name, cfg.exp.print_name,\"\"]"
   ]
  },
  {
   "cell_type": "code",
   "execution_count": 6,
   "id": "3ee98d64",
   "metadata": {
    "execution": {
     "iopub.execute_input": "2025-03-12T11:34:45.206163Z",
     "iopub.status.busy": "2025-03-12T11:34:45.206163Z",
     "iopub.status.idle": "2025-03-12T11:34:46.571983Z",
     "shell.execute_reply": "2025-03-12T11:34:46.571983Z"
    },
    "papermill": {
     "duration": 1.376876,
     "end_time": "2025-03-12T11:34:46.571983",
     "exception": false,
     "start_time": "2025-03-12T11:34:45.195107",
     "status": "completed"
    },
    "tags": []
   },
   "outputs": [],
   "source": [
    "tourney_results = pd.concat([\n",
    "    pd.read_csv(os.path.join(INPUT_PATH,\"MNCAATourneyDetailedResults.csv\")),\n",
    "    pd.read_csv(os.path.join(INPUT_PATH,\"WNCAATourneyDetailedResults.csv\")),\n",
    "], ignore_index=True)\n",
    "\n",
    "seeds = pd.concat([\n",
    "    pd.read_csv(os.path.join(INPUT_PATH,\"MNCAATourneySeeds.csv\")),\n",
    "    pd.read_csv(os.path.join(INPUT_PATH,\"WNCAATourneySeeds.csv\")),\n",
    "], ignore_index=True)\n",
    "\n",
    "regular_results = pd.concat([\n",
    "    pd.read_csv(os.path.join(INPUT_PATH, \"MRegularSeasonDetailedResults.csv\")),\n",
    "    pd.read_csv(os.path.join(INPUT_PATH,\"WRegularSeasonDetailedResults.csv\")),\n",
    "], ignore_index=True)\n",
    "\n",
    "ordinal_rank = pd.read_csv(os.path.join(INPUT_PATH, \"MMasseyOrdinals.csv\"))\n",
    "\n",
    "# 1試合情報からWin,Lose反転させてデータ数２倍にかさまし and WLoc -> location(0 or -1 or 1)\n",
    "def prepare_data(df1):\n",
    "    df = df1.copy()\n",
    "    ### add new box score\n",
    "    #type1: normal EFG\n",
    "    df['WEFFG'] = df['WFGM'] / df['WFGA']\n",
    "    df['LEFFG'] = df['LFGM'] / df['LFGA']\n",
    "    #type2: 1stfeature EFG\n",
    "    df['WEFFG3'] = np.where(df['WFGA3'] == 0, 0, df['WFGM3'] / df['WFGA3'])\n",
    "    df['LEFFG3'] = np.where(df['LFGA3'] == 0, 0, df['LFGM3'] / df['LFGA3'])\n",
    "    df['WDARE'] = df['WFGM3'] / df['WFGM']\n",
    "    df['LDARE'] = df['LFGM3'] / df['LFGM']\n",
    "    df['WTOQUETOQUE'] = df['WAst'] / df['WFGM']\n",
    "    df['LTOQUETOQUE'] = df['LAst'] / df['LFGM']\n",
    "    #type3: OFF/DEF FGE\n",
    "    df[\"WEFG_SUM\"] = (df[\"WFGM\"]+0.5*df[\"WFGM3\"])/df[\"WFGA\"]\n",
    "    df[\"LEFG_SUM\"] = (df[\"LFGM\"]+0.5*df[\"LFGM3\"])/df[\"LFGA\"]\n",
    "\n",
    "    #POSS RATE\n",
    "    df[\"WPOSS\"] = df[\"WFGA\"] + 0.44*df[\"WFTA\"] - df[\"WOR\"] + df[\"WTO\"]\n",
    "    df[\"LPOSS\"] = df[\"LFGA\"] + 0.44*df[\"LFTA\"] - df[\"LOR\"] + df[\"LTO\"]\n",
    "    df[\"WPOSS_RATE\"] = df[\"WPOSS\"]/(df[\"WPOSS\"]+df[\"LPOSS\"])\n",
    "    df[\"LPOSS_RATE\"] = df[\"LPOSS\"]/(df[\"WPOSS\"]+df[\"LPOSS\"])\n",
    "    \n",
    "    #TO Ratio \n",
    "    df[\"WTO_RATIO\"] = df[\"WTO\"]/(df[\"WFGA\"]+0.44*df[\"WFTA\"]+df[\"WTO\"])#POSS RATEと違ってOR入っていない\n",
    "    df[\"LTO_RATIO\"] = df[\"LTO\"]/(df[\"LFGA\"]+0.44*df[\"LFTA\"]+df[\"LTO\"])\n",
    "    \n",
    "    # REB%\n",
    "    df[\"WREB_RATE\"] = df[\"WOR\"]/(df[\"WOR\"]+df[\"LDR\"])\n",
    "    df[\"LREB_RATE\"] = df[\"LOR\"]/(df[\"LOR\"]+df[\"WDR\"])\n",
    "    \n",
    "    #FT %\n",
    "    df[\"WFT_RATE\"] = df[\"WFTA\"]/df[\"WFGA\"]\n",
    "    df[\"LFT_RATE\"] = df[\"LFTA\"]/df[\"LFGA\"]\n",
    "    \n",
    "    #rating\n",
    "    df[\"WRATING\"] = df[\"WScore\"]/df[\"WPOSS\"]\n",
    "    df[\"LRATING\"] = df[\"LScore\"]/df[\"LPOSS\"]\n",
    "        \n",
    "    #0除算補完\n",
    "    print(df.info())\n",
    "        \n",
    "    #かさましに伴う反転カラム\n",
    "    dfswap = df.copy()\n",
    "    # Home, Away変換して反転\n",
    "    dfswap.loc[df['WLoc'] == 'H', 'WLoc'] = 'A'\n",
    "    dfswap.loc[df['WLoc'] == 'A', 'WLoc'] = 'H'\n",
    "    df.columns.values[6] = 'location'\n",
    "    dfswap.columns.values[6] = 'location'    \n",
    "    #反転\n",
    "    df.columns = [x.replace('W','T1_').replace('L','T2_') for x in list(df.columns)]\n",
    "    dfswap.columns = [x.replace('L','T1_').replace('W','T2_') for x in list(dfswap.columns)]\n",
    "    output = pd.concat([df, dfswap]).reset_index(drop=True)\n",
    "    \n",
    "    \n",
    "    #add new feature\n",
    "    #locationを数値に変換\n",
    "    output.loc[output.location=='N','location'] = '0'\n",
    "    output.loc[output.location=='H','location'] = '1'\n",
    "    output.loc[output.location=='A','location'] = '-1'\n",
    "    output.location = output.location.astype(int)\n",
    "    \n",
    "    #add PointDiff&win\n",
    "    output['PointDiff'] = output['T1_Score'] - output['T2_Score']\n",
    "    output[\"win\"] = np.where(output['PointDiff']>0,1,0)\n",
    "    \n",
    "    \n",
    "    print(f\"feature cols after prepare()\")\n",
    "    print(output.columns)\n",
    "    return output\n",
    "\n"
   ]
  },
  {
   "cell_type": "code",
   "execution_count": 7,
   "id": "f196690e",
   "metadata": {
    "execution": {
     "iopub.execute_input": "2025-03-12T11:34:46.614247Z",
     "iopub.status.busy": "2025-03-12T11:34:46.614247Z",
     "iopub.status.idle": "2025-03-12T11:34:46.666492Z",
     "shell.execute_reply": "2025-03-12T11:34:46.666492Z"
    },
    "papermill": {
     "duration": 0.084281,
     "end_time": "2025-03-12T11:34:46.666492",
     "exception": false,
     "start_time": "2025-03-12T11:34:46.582211",
     "status": "completed"
    },
    "tags": []
   },
   "outputs": [
    {
     "name": "stdout",
     "output_type": "stream",
     "text": [
      "各カラムの異常値の個数を表示します。\n",
      "\n"
     ]
    }
   ],
   "source": [
    "import numpy as np\n",
    "\n",
    "# 異常値のチェック\n",
    "def check_abnormal_values(df):\n",
    "    print(\"各カラムの異常値の個数を表示します。\\n\")\n",
    "\n",
    "    for col in df.columns:\n",
    "        nan_count = df[col].isna().sum()  # NaN の数\n",
    "        inf_count = (df[col] == np.inf).sum()  # inf の数\n",
    "        neg_inf_count = (df[col] == -np.inf).sum()  # -inf の数\n",
    "\n",
    "        if nan_count > 0 or inf_count > 0 or neg_inf_count > 0:\n",
    "            print(f\"Column: {col}\")\n",
    "            print(f\"  NaN    : {nan_count}\")\n",
    "            print(f\"  Inf    : {inf_count}\")\n",
    "            print(f\"  -Inf   : {neg_inf_count}\")\n",
    "            print(\"-\" * 30)\n",
    "\n",
    "# 関数を実行\n",
    "check_abnormal_values(regular_results)\n"
   ]
  },
  {
   "cell_type": "code",
   "execution_count": 8,
   "id": "5616e813",
   "metadata": {
    "execution": {
     "iopub.execute_input": "2025-03-12T11:34:46.671148Z",
     "iopub.status.busy": "2025-03-12T11:34:46.671148Z",
     "iopub.status.idle": "2025-03-12T11:34:47.059086Z",
     "shell.execute_reply": "2025-03-12T11:34:47.059086Z"
    },
    "papermill": {
     "duration": 0.387938,
     "end_time": "2025-03-12T11:34:47.059086",
     "exception": false,
     "start_time": "2025-03-12T11:34:46.671148",
     "status": "completed"
    },
    "tags": []
   },
   "outputs": [
    {
     "name": "stdout",
     "output_type": "stream",
     "text": [
      "<class 'pandas.core.frame.DataFrame'>\n",
      "Index: 157103 entries, 0 to 178864\n",
      "Data columns (total 56 columns):\n",
      " #   Column       Non-Null Count   Dtype  \n",
      "---  ------       --------------   -----  \n",
      " 0   Season       157103 non-null  int64  \n",
      " 1   DayNum       157103 non-null  int64  \n",
      " 2   WTeamID      157103 non-null  int64  \n",
      " 3   WScore       157103 non-null  int64  \n",
      " 4   LTeamID      157103 non-null  int64  \n",
      " 5   LScore       157103 non-null  int64  \n",
      " 6   WLoc         157103 non-null  object \n",
      " 7   NumOT        157103 non-null  int64  \n",
      " 8   WFGM         157103 non-null  int64  \n",
      " 9   WFGA         157103 non-null  int64  \n",
      " 10  WFGM3        157103 non-null  int64  \n",
      " 11  WFGA3        157103 non-null  int64  \n",
      " 12  WFTM         157103 non-null  int64  \n",
      " 13  WFTA         157103 non-null  int64  \n",
      " 14  WOR          157103 non-null  int64  \n",
      " 15  WDR          157103 non-null  int64  \n",
      " 16  WAst         157103 non-null  int64  \n",
      " 17  WTO          157103 non-null  int64  \n",
      " 18  WStl         157103 non-null  int64  \n",
      " 19  WBlk         157103 non-null  int64  \n",
      " 20  WPF          157103 non-null  int64  \n",
      " 21  LFGM         157103 non-null  int64  \n",
      " 22  LFGA         157103 non-null  int64  \n",
      " 23  LFGM3        157103 non-null  int64  \n",
      " 24  LFGA3        157103 non-null  int64  \n",
      " 25  LFTM         157103 non-null  int64  \n",
      " 26  LFTA         157103 non-null  int64  \n",
      " 27  LOR          157103 non-null  int64  \n",
      " 28  LDR          157103 non-null  int64  \n",
      " 29  LAst         157103 non-null  int64  \n",
      " 30  LTO          157103 non-null  int64  \n",
      " 31  LStl         157103 non-null  int64  \n",
      " 32  LBlk         157103 non-null  int64  \n",
      " 33  LPF          157103 non-null  int64  \n",
      " 34  WEFFG        157103 non-null  float64\n",
      " 35  LEFFG        157103 non-null  float64\n",
      " 36  WEFFG3       157103 non-null  float64\n",
      " 37  LEFFG3       157103 non-null  float64\n",
      " 38  WDARE        157103 non-null  float64\n",
      " 39  LDARE        157103 non-null  float64\n",
      " 40  WTOQUETOQUE  157103 non-null  float64\n",
      " 41  LTOQUETOQUE  157103 non-null  float64\n",
      " 42  WEFG_SUM     157103 non-null  float64\n",
      " 43  LEFG_SUM     157103 non-null  float64\n",
      " 44  WPOSS        157103 non-null  float64\n",
      " 45  LPOSS        157103 non-null  float64\n",
      " 46  WPOSS_RATE   157103 non-null  float64\n",
      " 47  LPOSS_RATE   157103 non-null  float64\n",
      " 48  WTO_RATIO    157103 non-null  float64\n",
      " 49  LTO_RATIO    157103 non-null  float64\n",
      " 50  WREB_RATE    157103 non-null  float64\n",
      " 51  LREB_RATE    157103 non-null  float64\n",
      " 52  WFT_RATE     157103 non-null  float64\n",
      " 53  LFT_RATE     157103 non-null  float64\n",
      " 54  WRATING      157103 non-null  float64\n",
      " 55  LRATING      157103 non-null  float64\n",
      "dtypes: float64(22), int64(33), object(1)\n",
      "memory usage: 68.3+ MB\n",
      "None\n"
     ]
    },
    {
     "name": "stdout",
     "output_type": "stream",
     "text": [
      "feature cols after prepare()\n",
      "Index(['Season', 'DayNum', 'T1_TeamID', 'T1_Score', 'T2_TeamID', 'T2_Score',\n",
      "       'location', 'NumOT', 'T1_FGM', 'T1_FGA', 'T1_FGM3', 'T1_FGA3', 'T1_FTM',\n",
      "       'T1_FTA', 'T1_OR', 'T1_DR', 'T1_Ast', 'T1_TO', 'T1_Stl', 'T1_Blk',\n",
      "       'T1_PF', 'T2_FGM', 'T2_FGA', 'T2_FGM3', 'T2_FGA3', 'T2_FTM', 'T2_FTA',\n",
      "       'T2_OR', 'T2_DR', 'T2_Ast', 'T2_TO', 'T2_Stl', 'T2_Blk', 'T2_PF',\n",
      "       'T1_EFFG', 'T2_EFFG', 'T1_EFFG3', 'T2_EFFG3', 'T1_DARE', 'T2_DARE',\n",
      "       'T1_TOQUETOQUE', 'T2_TOQUETOQUE', 'T1_EFG_SUM', 'T2_EFG_SUM', 'T1_POSS',\n",
      "       'T2_POSS', 'T1_POSS_RATE', 'T2_POSS_RATE', 'T1_TO_RATIO', 'T2_TO_RATIO',\n",
      "       'T1_REB_RATE', 'T2_REB_RATE', 'T1_FT_RATE', 'T2_FT_RATE', 'T1_RATING',\n",
      "       'T2_RATING', 'PointDiff', 'win'],\n",
      "      dtype='object')\n",
      "<class 'pandas.core.frame.DataFrame'>\n",
      "RangeIndex: 314206 entries, 0 to 314205\n",
      "Data columns (total 58 columns):\n",
      " #   Column         Non-Null Count   Dtype  \n",
      "---  ------         --------------   -----  \n",
      " 0   Season         314206 non-null  int64  \n",
      " 1   DayNum         314206 non-null  int64  \n",
      " 2   T1_TeamID      314206 non-null  int64  \n",
      " 3   T1_Score       314206 non-null  int64  \n",
      " 4   T2_TeamID      314206 non-null  int64  \n",
      " 5   T2_Score       314206 non-null  int64  \n",
      " 6   location       314206 non-null  int32  \n",
      " 7   NumOT          314206 non-null  int64  \n",
      " 8   T1_FGM         314206 non-null  int64  \n",
      " 9   T1_FGA         314206 non-null  int64  \n",
      " 10  T1_FGM3        314206 non-null  int64  \n",
      " 11  T1_FGA3        314206 non-null  int64  \n",
      " 12  T1_FTM         314206 non-null  int64  \n",
      " 13  T1_FTA         314206 non-null  int64  \n",
      " 14  T1_OR          314206 non-null  int64  \n",
      " 15  T1_DR          314206 non-null  int64  \n",
      " 16  T1_Ast         314206 non-null  int64  \n",
      " 17  T1_TO          314206 non-null  int64  \n",
      " 18  T1_Stl         314206 non-null  int64  \n",
      " 19  T1_Blk         314206 non-null  int64  \n",
      " 20  T1_PF          314206 non-null  int64  \n",
      " 21  T2_FGM         314206 non-null  int64  \n",
      " 22  T2_FGA         314206 non-null  int64  \n",
      " 23  T2_FGM3        314206 non-null  int64  \n",
      " 24  T2_FGA3        314206 non-null  int64  \n",
      " 25  T2_FTM         314206 non-null  int64  \n",
      " 26  T2_FTA         314206 non-null  int64  \n",
      " 27  T2_OR          314206 non-null  int64  \n",
      " 28  T2_DR          314206 non-null  int64  \n",
      " 29  T2_Ast         314206 non-null  int64  \n",
      " 30  T2_TO          314206 non-null  int64  \n",
      " 31  T2_Stl         314206 non-null  int64  \n",
      " 32  T2_Blk         314206 non-null  int64  \n",
      " 33  T2_PF          314206 non-null  int64  \n",
      " 34  T1_EFFG        314206 non-null  float64\n",
      " 35  T2_EFFG        314206 non-null  float64\n",
      " 36  T1_EFFG3       314206 non-null  float64\n",
      " 37  T2_EFFG3       314206 non-null  float64\n",
      " 38  T1_DARE        314206 non-null  float64\n",
      " 39  T2_DARE        314206 non-null  float64\n",
      " 40  T1_TOQUETOQUE  314206 non-null  float64\n",
      " 41  T2_TOQUETOQUE  314206 non-null  float64\n",
      " 42  T1_EFG_SUM     314206 non-null  float64\n",
      " 43  T2_EFG_SUM     314206 non-null  float64\n",
      " 44  T1_POSS        314206 non-null  float64\n",
      " 45  T2_POSS        314206 non-null  float64\n",
      " 46  T1_POSS_RATE   314206 non-null  float64\n",
      " 47  T2_POSS_RATE   314206 non-null  float64\n",
      " 48  T1_TO_RATIO    314206 non-null  float64\n",
      " 49  T2_TO_RATIO    314206 non-null  float64\n",
      " 50  T1_REB_RATE    314206 non-null  float64\n",
      " 51  T2_REB_RATE    314206 non-null  float64\n",
      " 52  T1_FT_RATE     314206 non-null  float64\n",
      " 53  T2_FT_RATE     314206 non-null  float64\n",
      " 54  T1_RATING      314206 non-null  float64\n",
      " 55  T2_RATING      314206 non-null  float64\n",
      " 56  PointDiff      314206 non-null  int64  \n",
      " 57  win            314206 non-null  int32  \n",
      "dtypes: float64(22), int32(2), int64(34)\n",
      "memory usage: 136.6 MB\n"
     ]
    },
    {
     "data": {
      "text/html": [
       "<div>\n",
       "<style scoped>\n",
       "    .dataframe tbody tr th:only-of-type {\n",
       "        vertical-align: middle;\n",
       "    }\n",
       "\n",
       "    .dataframe tbody tr th {\n",
       "        vertical-align: top;\n",
       "    }\n",
       "\n",
       "    .dataframe thead th {\n",
       "        text-align: right;\n",
       "    }\n",
       "</style>\n",
       "<table border=\"1\" class=\"dataframe\">\n",
       "  <thead>\n",
       "    <tr style=\"text-align: right;\">\n",
       "      <th></th>\n",
       "      <th>Season</th>\n",
       "      <th>DayNum</th>\n",
       "      <th>T1_TeamID</th>\n",
       "      <th>T1_Score</th>\n",
       "      <th>T2_TeamID</th>\n",
       "      <th>T2_Score</th>\n",
       "      <th>location</th>\n",
       "      <th>NumOT</th>\n",
       "      <th>T1_FGM</th>\n",
       "      <th>T1_FGA</th>\n",
       "      <th>...</th>\n",
       "      <th>T1_TO_RATIO</th>\n",
       "      <th>T2_TO_RATIO</th>\n",
       "      <th>T1_REB_RATE</th>\n",
       "      <th>T2_REB_RATE</th>\n",
       "      <th>T1_FT_RATE</th>\n",
       "      <th>T2_FT_RATE</th>\n",
       "      <th>T1_RATING</th>\n",
       "      <th>T2_RATING</th>\n",
       "      <th>PointDiff</th>\n",
       "      <th>win</th>\n",
       "    </tr>\n",
       "  </thead>\n",
       "  <tbody>\n",
       "    <tr>\n",
       "      <th>0</th>\n",
       "      <td>2003</td>\n",
       "      <td>10</td>\n",
       "      <td>1104</td>\n",
       "      <td>68</td>\n",
       "      <td>1328</td>\n",
       "      <td>62</td>\n",
       "      <td>0</td>\n",
       "      <td>0</td>\n",
       "      <td>27</td>\n",
       "      <td>58</td>\n",
       "      <td>...</td>\n",
       "      <td>0.258659</td>\n",
       "      <td>0.223104</td>\n",
       "      <td>0.388889</td>\n",
       "      <td>0.294118</td>\n",
       "      <td>0.310345</td>\n",
       "      <td>0.415094</td>\n",
       "      <td>0.907635</td>\n",
       "      <td>0.877193</td>\n",
       "      <td>6</td>\n",
       "      <td>1</td>\n",
       "    </tr>\n",
       "    <tr>\n",
       "      <th>1</th>\n",
       "      <td>2003</td>\n",
       "      <td>10</td>\n",
       "      <td>1272</td>\n",
       "      <td>70</td>\n",
       "      <td>1393</td>\n",
       "      <td>63</td>\n",
       "      <td>0</td>\n",
       "      <td>0</td>\n",
       "      <td>26</td>\n",
       "      <td>62</td>\n",
       "      <td>...</td>\n",
       "      <td>0.155950</td>\n",
       "      <td>0.136674</td>\n",
       "      <td>0.375000</td>\n",
       "      <td>0.416667</td>\n",
       "      <td>0.306452</td>\n",
       "      <td>0.298507</td>\n",
       "      <td>1.023991</td>\n",
       "      <td>0.929204</td>\n",
       "      <td>7</td>\n",
       "      <td>1</td>\n",
       "    </tr>\n",
       "    <tr>\n",
       "      <th>2</th>\n",
       "      <td>2003</td>\n",
       "      <td>11</td>\n",
       "      <td>1266</td>\n",
       "      <td>73</td>\n",
       "      <td>1437</td>\n",
       "      <td>61</td>\n",
       "      <td>0</td>\n",
       "      <td>0</td>\n",
       "      <td>24</td>\n",
       "      <td>58</td>\n",
       "      <td>...</td>\n",
       "      <td>0.123824</td>\n",
       "      <td>0.126156</td>\n",
       "      <td>0.435897</td>\n",
       "      <td>0.543860</td>\n",
       "      <td>0.500000</td>\n",
       "      <td>0.315068</td>\n",
       "      <td>1.144918</td>\n",
       "      <td>0.951341</td>\n",
       "      <td>12</td>\n",
       "      <td>1</td>\n",
       "    </tr>\n",
       "    <tr>\n",
       "      <th>3</th>\n",
       "      <td>2003</td>\n",
       "      <td>11</td>\n",
       "      <td>1296</td>\n",
       "      <td>56</td>\n",
       "      <td>1457</td>\n",
       "      <td>50</td>\n",
       "      <td>0</td>\n",
       "      <td>0</td>\n",
       "      <td>18</td>\n",
       "      <td>38</td>\n",
       "      <td>...</td>\n",
       "      <td>0.188561</td>\n",
       "      <td>0.254692</td>\n",
       "      <td>0.230769</td>\n",
       "      <td>0.472222</td>\n",
       "      <td>0.815789</td>\n",
       "      <td>0.306122</td>\n",
       "      <td>0.971548</td>\n",
       "      <td>0.868056</td>\n",
       "      <td>6</td>\n",
       "      <td>1</td>\n",
       "    </tr>\n",
       "    <tr>\n",
       "      <th>4</th>\n",
       "      <td>2003</td>\n",
       "      <td>11</td>\n",
       "      <td>1400</td>\n",
       "      <td>77</td>\n",
       "      <td>1208</td>\n",
       "      <td>71</td>\n",
       "      <td>0</td>\n",
       "      <td>0</td>\n",
       "      <td>30</td>\n",
       "      <td>61</td>\n",
       "      <td>...</td>\n",
       "      <td>0.173439</td>\n",
       "      <td>0.119218</td>\n",
       "      <td>0.531250</td>\n",
       "      <td>0.488372</td>\n",
       "      <td>0.213115</td>\n",
       "      <td>0.435484</td>\n",
       "      <td>1.208412</td>\n",
       "      <td>1.129135</td>\n",
       "      <td>6</td>\n",
       "      <td>1</td>\n",
       "    </tr>\n",
       "  </tbody>\n",
       "</table>\n",
       "<p>5 rows × 58 columns</p>\n",
       "</div>"
      ],
      "text/plain": [
       "   Season  DayNum  T1_TeamID  T1_Score  T2_TeamID  T2_Score  location  NumOT  \\\n",
       "0    2003      10       1104        68       1328        62         0      0   \n",
       "1    2003      10       1272        70       1393        63         0      0   \n",
       "2    2003      11       1266        73       1437        61         0      0   \n",
       "3    2003      11       1296        56       1457        50         0      0   \n",
       "4    2003      11       1400        77       1208        71         0      0   \n",
       "\n",
       "   T1_FGM  T1_FGA  ...  T1_TO_RATIO  T2_TO_RATIO  T1_REB_RATE  T2_REB_RATE  \\\n",
       "0      27      58  ...     0.258659     0.223104     0.388889     0.294118   \n",
       "1      26      62  ...     0.155950     0.136674     0.375000     0.416667   \n",
       "2      24      58  ...     0.123824     0.126156     0.435897     0.543860   \n",
       "3      18      38  ...     0.188561     0.254692     0.230769     0.472222   \n",
       "4      30      61  ...     0.173439     0.119218     0.531250     0.488372   \n",
       "\n",
       "   T1_FT_RATE  T2_FT_RATE  T1_RATING  T2_RATING  PointDiff  win  \n",
       "0    0.310345    0.415094   0.907635   0.877193          6    1  \n",
       "1    0.306452    0.298507   1.023991   0.929204          7    1  \n",
       "2    0.500000    0.315068   1.144918   0.951341         12    1  \n",
       "3    0.815789    0.306122   0.971548   0.868056          6    1  \n",
       "4    0.213115    0.435484   1.208412   1.129135          6    1  \n",
       "\n",
       "[5 rows x 58 columns]"
      ]
     },
     "metadata": {},
     "output_type": "display_data"
    },
    {
     "data": {
      "text/plain": [
       "None"
      ]
     },
     "metadata": {},
     "output_type": "display_data"
    }
   ],
   "source": [
    "#予測する年以降の情報はフィルタリング\n",
    "USE_START_YEAR = cfg.exp.tournament.use_start_season\n",
    "notexist = tourney_results[tourney_results[\"Season\"] == PREDICT_YEAR]\n",
    "tourney_results = tourney_results[(tourney_results[\"Season\"] >= USE_START_YEAR) & (tourney_results[\"Season\"] < PREDICT_YEAR)]\n",
    "seeds = seeds[(seeds[\"Season\"] >= USE_START_YEAR) & (seeds[\"Season\"] <= PREDICT_YEAR)]\n",
    "regular_results = regular_results[(regular_results[\"Season\"] >= USE_START_YEAR) & (regular_results[\"Season\"] <= PREDICT_YEAR)]\n",
    "\n",
    "regular_data = prepare_data(regular_results)\n",
    "display(regular_data.head(), regular_data.info())"
   ]
  },
  {
   "cell_type": "code",
   "execution_count": 9,
   "id": "d93b4b3f",
   "metadata": {
    "execution": {
     "iopub.execute_input": "2025-03-12T11:34:47.071126Z",
     "iopub.status.busy": "2025-03-12T11:34:47.071126Z",
     "iopub.status.idle": "2025-03-12T11:34:47.085944Z",
     "shell.execute_reply": "2025-03-12T11:34:47.085426Z"
    },
    "papermill": {
     "duration": 0.027908,
     "end_time": "2025-03-12T11:34:47.086994",
     "exception": false,
     "start_time": "2025-03-12T11:34:47.059086",
     "status": "completed"
    },
    "tags": []
   },
   "outputs": [],
   "source": [
    "#使用特徴量(boxscore_cols)を取得してそれに対して(\"Season\", 'T1_TeamID')でまとめた特徴量の追加\n",
    "#### 1. win_ration_14d ####\n",
    "def add_win_ratio_14d(df):\n",
    "    df_filtered = df[df['DayNum'] > 118].copy()\n",
    "    df_filtered['Win'] = (df_filtered['PointDiff'] > 0).astype(int)\n",
    "    \n",
    "    win_ratio_t1 = df_filtered.groupby(['Season', 'T1_TeamID'])['Win'].mean().reset_index()\n",
    "    win_ratio_t1.rename(columns={'Win': 'T1_win_ratio_14d'}, inplace=True)\n",
    "    \n",
    "    win_ratio_t2 = df_filtered.groupby(['Season', 'T2_TeamID'])['Win'].mean().reset_index()\n",
    "    win_ratio_t2.rename(columns={'Win': 'T2_win_ratio_14d'}, inplace=True)\n",
    "    \n",
    "    df = df.merge(win_ratio_t1, on=['Season', 'T1_TeamID'], how='left')\n",
    "    df = df.merge(win_ratio_t2, on=['Season', 'T2_TeamID'], how='left')\n",
    "    \n",
    "    return df\n",
    "\n",
    "##### 2. add mean of boxscore ####\n",
    "def make_col_avg(df, boxscore, group = [\"Season\", \"T1_TeamID\"], func= [np.mean]):\n",
    "    df_stat = df.groupby(group)[boxscore].agg(func)\n",
    "    df_stat.columns = [''.join(col).strip() for col in df_stat.columns.values]\n",
    "    df_stat = df_stat.reset_index()\n",
    "\n",
    "    win_ratio_cols = ['T1_win_ratio_14d'] #ここマージの関係からT2_win_ratio_14dを外したけど大丈夫か考える\n",
    "    df_win_ratio = df[group + win_ratio_cols].drop_duplicates()\n",
    "    df_stat = df_stat.merge(df_win_ratio, on=group, how='left')\n",
    "    \n",
    "    return df_stat\n",
    "\n",
    "#### 3. add team quality ####\n",
    "# 3.0 ロジスティックを行うためのregular_season_effectsデータフレームの作成\n",
    "def make_regular_season_effects(df):\n",
    "    regular_season_effects = df[['Season', 'T1_TeamID', 'T2_TeamID', 'PointDiff']].copy()\n",
    "    regular_season_effects['win'] = np.where(regular_season_effects['PointDiff'] > 0, 1, 0)\n",
    "    return regular_season_effects\n",
    "\n",
    "# 3.1\n",
    "#各シーズンごとの総当たりに対するロジスティック回帰を行う\n",
    "#目的変数はfeatureenginneringから作成したPointDiffの正負に依存するWinとする.\n",
    "#新たな特徴量\"quarity\"をseasonごとの戦績をもとにロジスティックの回帰係数として導入している\n",
    "def team_quality(season,df):\n",
    "    season_data = df[df[\"Season\"] == season]\n",
    "    X = season_data[['T1_TeamID', 'T2_TeamID']]\n",
    "    y = season_data['win']\n",
    "    print(X.shape, y.shape)\n",
    "    encoder = OneHotEncoder(sparse_output=False) #多重共線性防止, 密行列指定\n",
    "    X_encoded = encoder.fit_transform(X)\n",
    "    \n",
    "    model = LogisticRegression(fit_intercept=False)\n",
    "    model.fit(X_encoded, y)\n",
    "    team_ids = encoder.get_feature_names_out(['T1_TeamID', 'T2_TeamID'])\n",
    "\n",
    "    \n",
    "    #quarity: (チーム数)*2(ID, 回帰係数)\n",
    "    quality = pd.DataFrame({\n",
    "        'TeamID': team_ids,\n",
    "        'quality': model.coef_.flatten() #T1_TeamID_1112,,,の形でチーム数分の回帰係数が入る\n",
    "    })\n",
    "\n",
    "    # 値をint 1112 のように整形\n",
    "    quality = quality[quality['TeamID'].str.contains('T1_TeamID')]\n",
    "    quality['TeamID'] = quality['TeamID'].str.replace('T1_TeamID_', '', regex=True).astype(int)\n",
    "    quality['Season'] = season\n",
    "\n",
    "    #display(quality.head())\n",
    "    print(f\"fin make {season}'s team quarity\")\n",
    "    return quality\n",
    "\n",
    "# 4. add seed\n",
    "def add_seed(df, seeds):\n",
    "    temp = seeds.copy()\n",
    "    temp['Seed'] = temp['Seed'].apply(lambda x: int(x[1:3]))\n",
    "    temp.columns = ['Season','T1_seed','T1_TeamID']\n",
    "    df = pd.merge(df, temp, on=[\"Season\", \"T1_TeamID\"], how=\"left\")\n",
    "    return df \n",
    "\n",
    "# 5. add Ordinal rank\n",
    "def add_ordinalrank(df, ordinal):\n",
    "    df_rank = ordinal.groupby([\"Season\", \"TeamID\"])[\"OrdinalRank\"].agg(np.mean).reset_index()\n",
    "    df_rank.head()\n",
    "    ranks = df_rank.rename(columns={'TeamID': 'T1_TeamID', 'OrdinalRank': 'T1_OrdinalRank'})\n",
    "    df = pd.merge(df,ranks,on = [\"Season\",\"T1_TeamID\"],how = \"left\")\n",
    "    return df\n",
    "\n",
    "# main \n",
    "def make_season_statistics(df, boxscore, seeds, func = [np.mean]):\n",
    "    # 1. Win Ratio の計算と追加\n",
    "    add_win = add_win_ratio_14d(df)\n",
    "    print(\"after add win ratio\")\n",
    "    print(add_win.columns)  \n",
    "    \n",
    "    #2. \n",
    "    add_mean = make_col_avg(add_win, boxscore)\n",
    "    print(\"after mean of boxscore\")\n",
    "    print(add_mean.columns)\n",
    "    \n",
    "    #3. \n",
    "    global PREDICT_YEAR, USE_START_YEAR\n",
    "    start_season = max(FEATURES.start_quality_season, USE_START_YEAR)\n",
    "    print(f\"use season for quality feature is: {start_season}\")\n",
    "    regular_season_effects = make_regular_season_effects(df)\n",
    "    glm_season = [i for i in range(start_season, PREDICT_YEAR+1)]\n",
    "    glm_season.remove(2020)\n",
    "    glm_quality = pd.concat([team_quality(season, regular_season_effects) for season in glm_season]).reset_index(drop=True)\n",
    "    # add glm quality \n",
    "    glm_quality_T1 = glm_quality.rename(columns={'TeamID': 'T1_TeamID', 'quality': 'T1_quality'})\n",
    "    add_glm = add_mean.merge(glm_quality_T1, on=['Season', 'T1_TeamID'], how='left')\n",
    "\n",
    "    print(\"add glm quality\")\n",
    "    print(add_glm.columns)\n",
    "    \n",
    "    #4. \n",
    "    add_seeds = add_seed(add_glm, seeds)\n",
    "    print(\"add seeds (final form)\")\n",
    "    print(add_seeds.columns)\n",
    "    \n",
    "    #5. \n",
    "    add_rank = add_ordinalrank(add_seeds, ordinal_rank)\n",
    "    print(\"add ordinal rank\")\n",
    "    print(add_rank.columns)  \n",
    "    return add_rank"
   ]
  },
  {
   "cell_type": "code",
   "execution_count": 10,
   "id": "92fc5a52",
   "metadata": {
    "execution": {
     "iopub.execute_input": "2025-03-12T11:34:47.091791Z",
     "iopub.status.busy": "2025-03-12T11:34:47.091791Z",
     "iopub.status.idle": "2025-03-12T11:34:49.885030Z",
     "shell.execute_reply": "2025-03-12T11:34:49.885030Z"
    },
    "papermill": {
     "duration": 2.793239,
     "end_time": "2025-03-12T11:34:49.885030",
     "exception": false,
     "start_time": "2025-03-12T11:34:47.091791",
     "status": "completed"
    },
    "tags": []
   },
   "outputs": [
    {
     "name": "stdout",
     "output_type": "stream",
     "text": [
      "use boxscore col is\n",
      "['T1_Score', 'T2_Score', 'PointDiff', 'T1_FGM', 'T2_FGM', 'T1_FGA', 'T2_FGA', 'T1_FGM3', 'T2_FGM3', 'T1_FGA3', 'T2_FGA3', 'T1_FTM', 'T2_FTM', 'T1_FTA', 'T2_FTA', 'T1_EFG_SUM', 'T2_EFG_SUM', 'T1_TO_RATIO', 'T2_TO_RATIO', 'T1_OR', 'T2_OR', 'T1_DR', 'T2_DR', 'T1_REB_RATE', 'T2_REB_RATE', 'T1_FT_RATE', 'T2_FT_RATE', 'T1_POSS_RATE', 'T2_POSS_RATE', 'T1_Ast', 'T2_Ast', 'T1_TO', 'T2_TO', 'T1_Stl', 'T2_Stl', 'T1_Blk', 'T2_Blk', 'T1_PF', 'T2_PF']\n"
     ]
    },
    {
     "name": "stdout",
     "output_type": "stream",
     "text": [
      "after add win ratio\n",
      "Index(['Season', 'DayNum', 'T1_TeamID', 'T1_Score', 'T2_TeamID', 'T2_Score',\n",
      "       'location', 'NumOT', 'T1_FGM', 'T1_FGA', 'T1_FGM3', 'T1_FGA3', 'T1_FTM',\n",
      "       'T1_FTA', 'T1_OR', 'T1_DR', 'T1_Ast', 'T1_TO', 'T1_Stl', 'T1_Blk',\n",
      "       'T1_PF', 'T2_FGM', 'T2_FGA', 'T2_FGM3', 'T2_FGA3', 'T2_FTM', 'T2_FTA',\n",
      "       'T2_OR', 'T2_DR', 'T2_Ast', 'T2_TO', 'T2_Stl', 'T2_Blk', 'T2_PF',\n",
      "       'T1_EFFG', 'T2_EFFG', 'T1_EFFG3', 'T2_EFFG3', 'T1_DARE', 'T2_DARE',\n",
      "       'T1_TOQUETOQUE', 'T2_TOQUETOQUE', 'T1_EFG_SUM', 'T2_EFG_SUM', 'T1_POSS',\n",
      "       'T2_POSS', 'T1_POSS_RATE', 'T2_POSS_RATE', 'T1_TO_RATIO', 'T2_TO_RATIO',\n",
      "       'T1_REB_RATE', 'T2_REB_RATE', 'T1_FT_RATE', 'T2_FT_RATE', 'T1_RATING',\n",
      "       'T2_RATING', 'PointDiff', 'win', 'T1_win_ratio_14d',\n",
      "       'T2_win_ratio_14d'],\n",
      "      dtype='object')\n"
     ]
    },
    {
     "name": "stdout",
     "output_type": "stream",
     "text": [
      "after mean of boxscore\n",
      "Index(['Season', 'T1_TeamID', 'T1_Scoremean', 'T2_Scoremean', 'PointDiffmean',\n",
      "       'T1_FGMmean', 'T2_FGMmean', 'T1_FGAmean', 'T2_FGAmean', 'T1_FGM3mean',\n",
      "       'T2_FGM3mean', 'T1_FGA3mean', 'T2_FGA3mean', 'T1_FTMmean', 'T2_FTMmean',\n",
      "       'T1_FTAmean', 'T2_FTAmean', 'T1_EFG_SUMmean', 'T2_EFG_SUMmean',\n",
      "       'T1_TO_RATIOmean', 'T2_TO_RATIOmean', 'T1_ORmean', 'T2_ORmean',\n",
      "       'T1_DRmean', 'T2_DRmean', 'T1_REB_RATEmean', 'T2_REB_RATEmean',\n",
      "       'T1_FT_RATEmean', 'T2_FT_RATEmean', 'T1_POSS_RATEmean',\n",
      "       'T2_POSS_RATEmean', 'T1_Astmean', 'T2_Astmean', 'T1_TOmean',\n",
      "       'T2_TOmean', 'T1_Stlmean', 'T2_Stlmean', 'T1_Blkmean', 'T2_Blkmean',\n",
      "       'T1_PFmean', 'T2_PFmean', 'T1_win_ratio_14d'],\n",
      "      dtype='object')\n",
      "use season for quality feature is: 2003\n",
      "(9232, 2) (9232,)\n",
      "fin make 2003's team quarity\n",
      "(9142, 2) (9142,)\n"
     ]
    },
    {
     "name": "stderr",
     "output_type": "stream",
     "text": [
      "C:\\Users\\81809\\AppData\\Local\\Temp\\ipykernel_15008\\830681465.py:20: FutureWarning: The provided callable <function mean at 0x000001BEE2BD65C0> is currently using SeriesGroupBy.mean. In a future version of pandas, the provided callable will be used directly. To keep current behavior pass the string \"mean\" instead.\n",
      "  df_stat = df.groupby(group)[boxscore].agg(func)\n"
     ]
    },
    {
     "name": "stdout",
     "output_type": "stream",
     "text": [
      "fin make 2004's team quarity\n",
      "(9350, 2) (9350,)\n",
      "fin make 2005's team quarity\n",
      "(9514, 2) (9514,)\n",
      "fin make 2006's team quarity\n",
      "(10086, 2) (10086,)\n"
     ]
    },
    {
     "name": "stdout",
     "output_type": "stream",
     "text": [
      "fin make 2007's team quarity\n",
      "(10326, 2) (10326,)\n",
      "fin make 2008's team quarity\n",
      "(10498, 2) (10498,)\n"
     ]
    },
    {
     "name": "stdout",
     "output_type": "stream",
     "text": [
      "fin make 2009's team quarity\n",
      "(20600, 2) (20600,)\n"
     ]
    },
    {
     "name": "stdout",
     "output_type": "stream",
     "text": [
      "fin make 2010's team quarity\n",
      "(20660, 2) (20660,)\n"
     ]
    },
    {
     "name": "stdout",
     "output_type": "stream",
     "text": [
      "fin make 2011's team quarity\n",
      "(20606, 2) (20606,)\n"
     ]
    },
    {
     "name": "stdout",
     "output_type": "stream",
     "text": [
      "fin make 2012's team quarity\n",
      "(21008, 2) (21008,)\n"
     ]
    },
    {
     "name": "stdout",
     "output_type": "stream",
     "text": [
      "fin make 2013's team quarity\n",
      "(21228, 2) (21228,)\n",
      "fin make 2014's team quarity\n",
      "(21136, 2) (21136,)\n"
     ]
    },
    {
     "name": "stdout",
     "output_type": "stream",
     "text": [
      "fin make 2015's team quarity\n",
      "(21156, 2) (21156,)\n",
      "fin make 2016's team quarity\n",
      "(21210, 2) (21210,)\n"
     ]
    },
    {
     "name": "stdout",
     "output_type": "stream",
     "text": [
      "fin make 2017's team quarity\n",
      "(21228, 2) (21228,)\n"
     ]
    },
    {
     "name": "stdout",
     "output_type": "stream",
     "text": [
      "fin make 2018's team quarity\n",
      "(21406, 2) (21406,)\n",
      "fin make 2019's team quarity\n",
      "(14822, 2) (14822,)\n"
     ]
    },
    {
     "name": "stdout",
     "output_type": "stream",
     "text": [
      "fin make 2021's team quarity\n",
      "add glm quality\n",
      "Index(['Season', 'T1_TeamID', 'T1_Scoremean', 'T2_Scoremean', 'PointDiffmean',\n",
      "       'T1_FGMmean', 'T2_FGMmean', 'T1_FGAmean', 'T2_FGAmean', 'T1_FGM3mean',\n",
      "       'T2_FGM3mean', 'T1_FGA3mean', 'T2_FGA3mean', 'T1_FTMmean', 'T2_FTMmean',\n",
      "       'T1_FTAmean', 'T2_FTAmean', 'T1_EFG_SUMmean', 'T2_EFG_SUMmean',\n",
      "       'T1_TO_RATIOmean', 'T2_TO_RATIOmean', 'T1_ORmean', 'T2_ORmean',\n",
      "       'T1_DRmean', 'T2_DRmean', 'T1_REB_RATEmean', 'T2_REB_RATEmean',\n",
      "       'T1_FT_RATEmean', 'T2_FT_RATEmean', 'T1_POSS_RATEmean',\n",
      "       'T2_POSS_RATEmean', 'T1_Astmean', 'T2_Astmean', 'T1_TOmean',\n",
      "       'T2_TOmean', 'T1_Stlmean', 'T2_Stlmean', 'T1_Blkmean', 'T2_Blkmean',\n",
      "       'T1_PFmean', 'T2_PFmean', 'T1_win_ratio_14d', 'T1_quality'],\n",
      "      dtype='object')\n",
      "add seeds (final form)\n",
      "Index(['Season', 'T1_TeamID', 'T1_Scoremean', 'T2_Scoremean', 'PointDiffmean',\n",
      "       'T1_FGMmean', 'T2_FGMmean', 'T1_FGAmean', 'T2_FGAmean', 'T1_FGM3mean',\n",
      "       'T2_FGM3mean', 'T1_FGA3mean', 'T2_FGA3mean', 'T1_FTMmean', 'T2_FTMmean',\n",
      "       'T1_FTAmean', 'T2_FTAmean', 'T1_EFG_SUMmean', 'T2_EFG_SUMmean',\n",
      "       'T1_TO_RATIOmean', 'T2_TO_RATIOmean', 'T1_ORmean', 'T2_ORmean',\n",
      "       'T1_DRmean', 'T2_DRmean', 'T1_REB_RATEmean', 'T2_REB_RATEmean',\n",
      "       'T1_FT_RATEmean', 'T2_FT_RATEmean', 'T1_POSS_RATEmean',\n",
      "       'T2_POSS_RATEmean', 'T1_Astmean', 'T2_Astmean', 'T1_TOmean',\n",
      "       'T2_TOmean', 'T1_Stlmean', 'T2_Stlmean', 'T1_Blkmean', 'T2_Blkmean',\n",
      "       'T1_PFmean', 'T2_PFmean', 'T1_win_ratio_14d', 'T1_quality', 'T1_seed'],\n",
      "      dtype='object')\n"
     ]
    },
    {
     "name": "stderr",
     "output_type": "stream",
     "text": [
      "C:\\Users\\81809\\AppData\\Local\\Temp\\ipykernel_15008\\830681465.py:79: FutureWarning: The provided callable <function mean at 0x000001BEE2BD65C0> is currently using SeriesGroupBy.mean. In a future version of pandas, the provided callable will be used directly. To keep current behavior pass the string \"mean\" instead.\n",
      "  df_rank = ordinal.groupby([\"Season\", \"TeamID\"])[\"OrdinalRank\"].agg(np.mean).reset_index()\n"
     ]
    },
    {
     "name": "stdout",
     "output_type": "stream",
     "text": [
      "add ordinal rank\n",
      "Index(['Season', 'T1_TeamID', 'T1_Scoremean', 'T2_Scoremean', 'PointDiffmean',\n",
      "       'T1_FGMmean', 'T2_FGMmean', 'T1_FGAmean', 'T2_FGAmean', 'T1_FGM3mean',\n",
      "       'T2_FGM3mean', 'T1_FGA3mean', 'T2_FGA3mean', 'T1_FTMmean', 'T2_FTMmean',\n",
      "       'T1_FTAmean', 'T2_FTAmean', 'T1_EFG_SUMmean', 'T2_EFG_SUMmean',\n",
      "       'T1_TO_RATIOmean', 'T2_TO_RATIOmean', 'T1_ORmean', 'T2_ORmean',\n",
      "       'T1_DRmean', 'T2_DRmean', 'T1_REB_RATEmean', 'T2_REB_RATEmean',\n",
      "       'T1_FT_RATEmean', 'T2_FT_RATEmean', 'T1_POSS_RATEmean',\n",
      "       'T2_POSS_RATEmean', 'T1_Astmean', 'T2_Astmean', 'T1_TOmean',\n",
      "       'T2_TOmean', 'T1_Stlmean', 'T2_Stlmean', 'T1_Blkmean', 'T2_Blkmean',\n",
      "       'T1_PFmean', 'T2_PFmean', 'T1_win_ratio_14d', 'T1_quality', 'T1_seed',\n",
      "       'T1_OrdinalRank'],\n",
      "      dtype='object')\n"
     ]
    },
    {
     "data": {
      "text/html": [
       "<div>\n",
       "<style scoped>\n",
       "    .dataframe tbody tr th:only-of-type {\n",
       "        vertical-align: middle;\n",
       "    }\n",
       "\n",
       "    .dataframe tbody tr th {\n",
       "        vertical-align: top;\n",
       "    }\n",
       "\n",
       "    .dataframe thead th {\n",
       "        text-align: right;\n",
       "    }\n",
       "</style>\n",
       "<table border=\"1\" class=\"dataframe\">\n",
       "  <thead>\n",
       "    <tr style=\"text-align: right;\">\n",
       "      <th></th>\n",
       "      <th>Season</th>\n",
       "      <th>T1_TeamID</th>\n",
       "      <th>T1_Scoremean</th>\n",
       "      <th>T2_Scoremean</th>\n",
       "      <th>PointDiffmean</th>\n",
       "      <th>T1_FGMmean</th>\n",
       "      <th>T2_FGMmean</th>\n",
       "      <th>T1_FGAmean</th>\n",
       "      <th>T2_FGAmean</th>\n",
       "      <th>T1_FGM3mean</th>\n",
       "      <th>...</th>\n",
       "      <th>T1_Stlmean</th>\n",
       "      <th>T2_Stlmean</th>\n",
       "      <th>T1_Blkmean</th>\n",
       "      <th>T2_Blkmean</th>\n",
       "      <th>T1_PFmean</th>\n",
       "      <th>T2_PFmean</th>\n",
       "      <th>T1_win_ratio_14d</th>\n",
       "      <th>T1_quality</th>\n",
       "      <th>T1_seed</th>\n",
       "      <th>T1_OrdinalRank</th>\n",
       "    </tr>\n",
       "  </thead>\n",
       "  <tbody>\n",
       "    <tr>\n",
       "      <th>10692</th>\n",
       "      <td>2021</td>\n",
       "      <td>3467</td>\n",
       "      <td>64.666667</td>\n",
       "      <td>67.333333</td>\n",
       "      <td>-2.666667</td>\n",
       "      <td>23.400000</td>\n",
       "      <td>24.466667</td>\n",
       "      <td>59.066667</td>\n",
       "      <td>59.600000</td>\n",
       "      <td>7.866667</td>\n",
       "      <td>...</td>\n",
       "      <td>9.066667</td>\n",
       "      <td>9.400000</td>\n",
       "      <td>1.800000</td>\n",
       "      <td>4.000000</td>\n",
       "      <td>17.800000</td>\n",
       "      <td>14.666667</td>\n",
       "      <td>1.00</td>\n",
       "      <td>-0.507544</td>\n",
       "      <td>NaN</td>\n",
       "      <td>NaN</td>\n",
       "    </tr>\n",
       "    <tr>\n",
       "      <th>10693</th>\n",
       "      <td>2021</td>\n",
       "      <td>3468</td>\n",
       "      <td>62.772727</td>\n",
       "      <td>77.181818</td>\n",
       "      <td>-14.409091</td>\n",
       "      <td>21.909091</td>\n",
       "      <td>28.772727</td>\n",
       "      <td>60.454545</td>\n",
       "      <td>60.181818</td>\n",
       "      <td>5.409091</td>\n",
       "      <td>...</td>\n",
       "      <td>7.409091</td>\n",
       "      <td>8.727273</td>\n",
       "      <td>2.181818</td>\n",
       "      <td>4.363636</td>\n",
       "      <td>17.727273</td>\n",
       "      <td>18.681818</td>\n",
       "      <td>0.00</td>\n",
       "      <td>-1.258597</td>\n",
       "      <td>NaN</td>\n",
       "      <td>NaN</td>\n",
       "    </tr>\n",
       "    <tr>\n",
       "      <th>10694</th>\n",
       "      <td>2021</td>\n",
       "      <td>3469</td>\n",
       "      <td>48.500000</td>\n",
       "      <td>71.500000</td>\n",
       "      <td>-23.000000</td>\n",
       "      <td>17.000000</td>\n",
       "      <td>25.500000</td>\n",
       "      <td>55.500000</td>\n",
       "      <td>61.500000</td>\n",
       "      <td>5.000000</td>\n",
       "      <td>...</td>\n",
       "      <td>3.000000</td>\n",
       "      <td>11.500000</td>\n",
       "      <td>4.500000</td>\n",
       "      <td>2.500000</td>\n",
       "      <td>20.000000</td>\n",
       "      <td>14.000000</td>\n",
       "      <td>NaN</td>\n",
       "      <td>-0.439471</td>\n",
       "      <td>NaN</td>\n",
       "      <td>NaN</td>\n",
       "    </tr>\n",
       "    <tr>\n",
       "      <th>10695</th>\n",
       "      <td>2021</td>\n",
       "      <td>3470</td>\n",
       "      <td>58.571429</td>\n",
       "      <td>67.000000</td>\n",
       "      <td>-8.428571</td>\n",
       "      <td>18.428571</td>\n",
       "      <td>25.000000</td>\n",
       "      <td>54.333333</td>\n",
       "      <td>59.333333</td>\n",
       "      <td>5.047619</td>\n",
       "      <td>...</td>\n",
       "      <td>7.047619</td>\n",
       "      <td>7.380952</td>\n",
       "      <td>2.666667</td>\n",
       "      <td>2.666667</td>\n",
       "      <td>14.761905</td>\n",
       "      <td>21.714286</td>\n",
       "      <td>0.25</td>\n",
       "      <td>-1.180630</td>\n",
       "      <td>NaN</td>\n",
       "      <td>NaN</td>\n",
       "    </tr>\n",
       "    <tr>\n",
       "      <th>10696</th>\n",
       "      <td>2021</td>\n",
       "      <td>3471</td>\n",
       "      <td>61.066667</td>\n",
       "      <td>66.666667</td>\n",
       "      <td>-5.600000</td>\n",
       "      <td>21.400000</td>\n",
       "      <td>24.733333</td>\n",
       "      <td>59.066667</td>\n",
       "      <td>59.266667</td>\n",
       "      <td>8.933333</td>\n",
       "      <td>...</td>\n",
       "      <td>5.600000</td>\n",
       "      <td>8.066667</td>\n",
       "      <td>2.066667</td>\n",
       "      <td>3.133333</td>\n",
       "      <td>15.333333</td>\n",
       "      <td>14.800000</td>\n",
       "      <td>0.50</td>\n",
       "      <td>-0.411866</td>\n",
       "      <td>NaN</td>\n",
       "      <td>NaN</td>\n",
       "    </tr>\n",
       "  </tbody>\n",
       "</table>\n",
       "<p>5 rows × 45 columns</p>\n",
       "</div>"
      ],
      "text/plain": [
       "       Season  T1_TeamID  T1_Scoremean  T2_Scoremean  PointDiffmean  \\\n",
       "10692    2021       3467     64.666667     67.333333      -2.666667   \n",
       "10693    2021       3468     62.772727     77.181818     -14.409091   \n",
       "10694    2021       3469     48.500000     71.500000     -23.000000   \n",
       "10695    2021       3470     58.571429     67.000000      -8.428571   \n",
       "10696    2021       3471     61.066667     66.666667      -5.600000   \n",
       "\n",
       "       T1_FGMmean  T2_FGMmean  T1_FGAmean  T2_FGAmean  T1_FGM3mean  ...  \\\n",
       "10692   23.400000   24.466667   59.066667   59.600000     7.866667  ...   \n",
       "10693   21.909091   28.772727   60.454545   60.181818     5.409091  ...   \n",
       "10694   17.000000   25.500000   55.500000   61.500000     5.000000  ...   \n",
       "10695   18.428571   25.000000   54.333333   59.333333     5.047619  ...   \n",
       "10696   21.400000   24.733333   59.066667   59.266667     8.933333  ...   \n",
       "\n",
       "       T1_Stlmean  T2_Stlmean  T1_Blkmean  T2_Blkmean  T1_PFmean  T2_PFmean  \\\n",
       "10692    9.066667    9.400000    1.800000    4.000000  17.800000  14.666667   \n",
       "10693    7.409091    8.727273    2.181818    4.363636  17.727273  18.681818   \n",
       "10694    3.000000   11.500000    4.500000    2.500000  20.000000  14.000000   \n",
       "10695    7.047619    7.380952    2.666667    2.666667  14.761905  21.714286   \n",
       "10696    5.600000    8.066667    2.066667    3.133333  15.333333  14.800000   \n",
       "\n",
       "       T1_win_ratio_14d  T1_quality  T1_seed  T1_OrdinalRank  \n",
       "10692              1.00   -0.507544      NaN             NaN  \n",
       "10693              0.00   -1.258597      NaN             NaN  \n",
       "10694               NaN   -0.439471      NaN             NaN  \n",
       "10695              0.25   -1.180630      NaN             NaN  \n",
       "10696              0.50   -0.411866      NaN             NaN  \n",
       "\n",
       "[5 rows x 45 columns]"
      ]
     },
     "execution_count": 10,
     "metadata": {},
     "output_type": "execute_result"
    }
   ],
   "source": [
    "features = FEATURES.cal_mean_boxscore\n",
    "boxscore_cols = [col for col, use in features.items() if use]\n",
    "print(\"use boxscore col is\")\n",
    "print(boxscore_cols)\n",
    "\n",
    "season_statistics = make_season_statistics(regular_data, boxscore_cols, seeds, func = [np.mean])\n",
    "season_statistics.tail()"
   ]
  },
  {
   "cell_type": "code",
   "execution_count": 11,
   "id": "7c6ca410",
   "metadata": {
    "execution": {
     "iopub.execute_input": "2025-03-12T11:34:49.891679Z",
     "iopub.status.busy": "2025-03-12T11:34:49.891679Z",
     "iopub.status.idle": "2025-03-12T11:34:49.908931Z",
     "shell.execute_reply": "2025-03-12T11:34:49.908308Z"
    },
    "papermill": {
     "duration": 0.01881,
     "end_time": "2025-03-12T11:34:49.910489",
     "exception": false,
     "start_time": "2025-03-12T11:34:49.891679",
     "status": "completed"
    },
    "tags": []
   },
   "outputs": [
    {
     "name": "stdout",
     "output_type": "stream",
     "text": [
      "<class 'pandas.core.frame.DataFrame'>\n",
      "RangeIndex: 10697 entries, 0 to 10696\n",
      "Data columns (total 45 columns):\n",
      " #   Column            Non-Null Count  Dtype  \n",
      "---  ------            --------------  -----  \n",
      " 0   Season            10697 non-null  int64  \n",
      " 1   T1_TeamID         10697 non-null  int64  \n",
      " 2   T1_Scoremean      10697 non-null  float64\n",
      " 3   T2_Scoremean      10697 non-null  float64\n",
      " 4   PointDiffmean     10697 non-null  float64\n",
      " 5   T1_FGMmean        10697 non-null  float64\n",
      " 6   T2_FGMmean        10697 non-null  float64\n",
      " 7   T1_FGAmean        10697 non-null  float64\n",
      " 8   T2_FGAmean        10697 non-null  float64\n",
      " 9   T1_FGM3mean       10697 non-null  float64\n",
      " 10  T2_FGM3mean       10697 non-null  float64\n",
      " 11  T1_FGA3mean       10697 non-null  float64\n",
      " 12  T2_FGA3mean       10697 non-null  float64\n",
      " 13  T1_FTMmean        10697 non-null  float64\n",
      " 14  T2_FTMmean        10697 non-null  float64\n",
      " 15  T1_FTAmean        10697 non-null  float64\n",
      " 16  T2_FTAmean        10697 non-null  float64\n",
      " 17  T1_EFG_SUMmean    10697 non-null  float64\n",
      " 18  T2_EFG_SUMmean    10697 non-null  float64\n",
      " 19  T1_TO_RATIOmean   10697 non-null  float64\n",
      " 20  T2_TO_RATIOmean   10697 non-null  float64\n",
      " 21  T1_ORmean         10697 non-null  float64\n",
      " 22  T2_ORmean         10697 non-null  float64\n",
      " 23  T1_DRmean         10697 non-null  float64\n",
      " 24  T2_DRmean         10697 non-null  float64\n",
      " 25  T1_REB_RATEmean   10697 non-null  float64\n",
      " 26  T2_REB_RATEmean   10697 non-null  float64\n",
      " 27  T1_FT_RATEmean    10697 non-null  float64\n",
      " 28  T2_FT_RATEmean    10697 non-null  float64\n",
      " 29  T1_POSS_RATEmean  10697 non-null  float64\n",
      " 30  T2_POSS_RATEmean  10697 non-null  float64\n",
      " 31  T1_Astmean        10697 non-null  float64\n",
      " 32  T2_Astmean        10697 non-null  float64\n",
      " 33  T1_TOmean         10697 non-null  float64\n",
      " 34  T2_TOmean         10697 non-null  float64\n",
      " 35  T1_Stlmean        10697 non-null  float64\n",
      " 36  T2_Stlmean        10697 non-null  float64\n",
      " 37  T1_Blkmean        10697 non-null  float64\n",
      " 38  T2_Blkmean        10697 non-null  float64\n",
      " 39  T1_PFmean         10697 non-null  float64\n",
      " 40  T2_PFmean         10697 non-null  float64\n",
      " 41  T1_win_ratio_14d  10312 non-null  float64\n",
      " 42  T1_quality        9993 non-null   float64\n",
      " 43  T1_seed           1904 non-null   float64\n",
      " 44  T1_OrdinalRank    6534 non-null   float64\n",
      "dtypes: float64(43), int64(2)\n",
      "memory usage: 3.7 MB\n"
     ]
    }
   ],
   "source": [
    "season_statistics.info()"
   ]
  },
  {
   "cell_type": "code",
   "execution_count": 12,
   "id": "cd76df62",
   "metadata": {
    "execution": {
     "iopub.execute_input": "2025-03-12T11:34:49.922220Z",
     "iopub.status.busy": "2025-03-12T11:34:49.922220Z",
     "iopub.status.idle": "2025-03-12T11:34:49.969848Z",
     "shell.execute_reply": "2025-03-12T11:34:49.968784Z"
    },
    "papermill": {
     "duration": 0.055952,
     "end_time": "2025-03-12T11:34:49.970829",
     "exception": false,
     "start_time": "2025-03-12T11:34:49.914877",
     "status": "completed"
    },
    "tags": []
   },
   "outputs": [],
   "source": [
    "####ボックスscoreの平均に対して、過去３年の加重平均を取るときの処理 ####\n",
    "def get_mean_of_3_season(val_2ps, val_1ps, val_0ps, \n",
    "                         weight_2, weight_1, weight_0, \n",
    "                         degree_weight=1.0\n",
    "                         ):\n",
    "    weight_2 = weight_2**degree_weight\n",
    "    weight_1 = weight_1**degree_weight\n",
    "    weight_0 = weight_0**degree_weight\n",
    "    if val_2ps == 0  and val_1ps == 0:\n",
    "        return val_0ps\n",
    "    elif val_2ps == 0:\n",
    "        return (val_1ps*weight_2 + val_0ps*weight_1)/(weight_2 + weight_1)\n",
    "    else:\n",
    "        sum_of_values = val_2ps*weight_2 + val_1ps*weight_1 + val_0ps*weight_0\n",
    "        return sum_of_values/(weight_2 + weight_1 + weight_0)\n",
    "\n",
    "def get_3_feature(df_team, feature):\n",
    "    value_2_seasons_ago = 0\n",
    "    value_1_season_ago = 0\n",
    "    value_0_season_ago = 0\n",
    "    for _, val in df_team.iterrows():\n",
    "        value_2_seasons_ago = value_1_season_ago\n",
    "        value_1_season_ago = value_0_season_ago\n",
    "        value_0_season_ago = val[feature]\n",
    "    return value_2_seasons_ago, value_1_season_ago, value_0_season_ago\n",
    "\n",
    "def write_mean_of_3_seasons(df, features, weight, degree_weight=1.0):\n",
    "    \"\"\"\n",
    "    val_0ps - current season value\n",
    "    weight_0 - current season weight\n",
    "    val_1ps - last season value\n",
    "    val_2ps - the value of the season before last\n",
    "    \"\"\"\n",
    "    weight_2=weight[0]\n",
    "    weight_1=weight[1]\n",
    "    weight_0=weight[2]\n",
    "    df_copy = df.copy()\n",
    "    suffix = \"_mn3s\"\n",
    "    \n",
    "    for ft in features:\n",
    "        df_copy[ft + suffix] = 0\n",
    "    for idx, val in tqdm(df_copy.iterrows(), total=len(df_copy)):\n",
    "        team = val.T1_TeamID\n",
    "        season = val.Season\n",
    "        df_team = df_copy[(df_copy.T1_TeamID == team)&\n",
    "                          (df_copy.Season <= season)&\n",
    "                          (df_copy.Season > season-3)]\n",
    "        for ft in features:\n",
    "            val_2ps, val_1ps, val_0ps = get_3_feature(df_team, ft)\n",
    "            ft_mean_3 = get_mean_of_3_season(val_2ps, val_1ps, val_0ps, weight_2, weight_1, weight_0, degree_weight=degree_weight)\n",
    "            df_copy.loc[idx, ft + suffix] = ft_mean_3\n",
    "    return df_copy"
   ]
  },
  {
   "cell_type": "code",
   "execution_count": 13,
   "id": "9d27e622",
   "metadata": {
    "execution": {
     "iopub.execute_input": "2025-03-12T11:34:49.971922Z",
     "iopub.status.busy": "2025-03-12T11:34:49.971922Z",
     "iopub.status.idle": "2025-03-12T11:34:50.010850Z",
     "shell.execute_reply": "2025-03-12T11:34:50.010850Z"
    },
    "papermill": {
     "duration": 0.038928,
     "end_time": "2025-03-12T11:34:50.010850",
     "exception": false,
     "start_time": "2025-03-12T11:34:49.971922",
     "status": "completed"
    },
    "tags": []
   },
   "outputs": [
    {
     "name": "stdout",
     "output_type": "stream",
     "text": [
      "#####\n",
      "skip 3 season verage\n",
      "#####\n"
     ]
    },
    {
     "data": {
      "text/html": [
       "<div>\n",
       "<style scoped>\n",
       "    .dataframe tbody tr th:only-of-type {\n",
       "        vertical-align: middle;\n",
       "    }\n",
       "\n",
       "    .dataframe tbody tr th {\n",
       "        vertical-align: top;\n",
       "    }\n",
       "\n",
       "    .dataframe thead th {\n",
       "        text-align: right;\n",
       "    }\n",
       "</style>\n",
       "<table border=\"1\" class=\"dataframe\">\n",
       "  <thead>\n",
       "    <tr style=\"text-align: right;\">\n",
       "      <th></th>\n",
       "      <th>Season</th>\n",
       "      <th>T1_TeamID</th>\n",
       "      <th>T1_Scoremean</th>\n",
       "      <th>T1_opponent_Scoremean</th>\n",
       "      <th>T1_PointDiffmean</th>\n",
       "      <th>T1_FGMmean</th>\n",
       "      <th>T1_opponent_FGMmean</th>\n",
       "      <th>T1_FGAmean</th>\n",
       "      <th>T1_opponent_FGAmean</th>\n",
       "      <th>T1_FGM3mean</th>\n",
       "      <th>...</th>\n",
       "      <th>T1_Stlmean</th>\n",
       "      <th>T1_opponent_Stlmean</th>\n",
       "      <th>T1_Blkmean</th>\n",
       "      <th>T1_opponent_Blkmean</th>\n",
       "      <th>T1_PFmean</th>\n",
       "      <th>T1_opponent_PFmean</th>\n",
       "      <th>T1_win_ratio_14d</th>\n",
       "      <th>T1_quality</th>\n",
       "      <th>T1_seed</th>\n",
       "      <th>T1_OrdinalRank</th>\n",
       "    </tr>\n",
       "  </thead>\n",
       "  <tbody>\n",
       "    <tr>\n",
       "      <th>0</th>\n",
       "      <td>2003</td>\n",
       "      <td>1102</td>\n",
       "      <td>57.250000</td>\n",
       "      <td>57.000000</td>\n",
       "      <td>0.25000</td>\n",
       "      <td>19.142857</td>\n",
       "      <td>19.285714</td>\n",
       "      <td>39.785714</td>\n",
       "      <td>42.428571</td>\n",
       "      <td>7.821429</td>\n",
       "      <td>...</td>\n",
       "      <td>5.964286</td>\n",
       "      <td>5.428571</td>\n",
       "      <td>1.785714</td>\n",
       "      <td>1.571429</td>\n",
       "      <td>18.750000</td>\n",
       "      <td>18.357143</td>\n",
       "      <td>0.333333</td>\n",
       "      <td>-0.070776</td>\n",
       "      <td>NaN</td>\n",
       "      <td>144.2875</td>\n",
       "    </tr>\n",
       "    <tr>\n",
       "      <th>1</th>\n",
       "      <td>2003</td>\n",
       "      <td>1103</td>\n",
       "      <td>78.777778</td>\n",
       "      <td>78.148148</td>\n",
       "      <td>0.62963</td>\n",
       "      <td>27.148148</td>\n",
       "      <td>27.777778</td>\n",
       "      <td>55.851852</td>\n",
       "      <td>57.000000</td>\n",
       "      <td>5.444444</td>\n",
       "      <td>...</td>\n",
       "      <td>7.259259</td>\n",
       "      <td>6.407407</td>\n",
       "      <td>2.333333</td>\n",
       "      <td>2.851852</td>\n",
       "      <td>19.851852</td>\n",
       "      <td>22.444444</td>\n",
       "      <td>0.333333</td>\n",
       "      <td>-0.116192</td>\n",
       "      <td>NaN</td>\n",
       "      <td>182.2050</td>\n",
       "    </tr>\n",
       "  </tbody>\n",
       "</table>\n",
       "<p>2 rows × 45 columns</p>\n",
       "</div>"
      ],
      "text/plain": [
       "   Season  T1_TeamID  T1_Scoremean  T1_opponent_Scoremean  T1_PointDiffmean  \\\n",
       "0    2003       1102     57.250000              57.000000           0.25000   \n",
       "1    2003       1103     78.777778              78.148148           0.62963   \n",
       "\n",
       "   T1_FGMmean  T1_opponent_FGMmean  T1_FGAmean  T1_opponent_FGAmean  \\\n",
       "0   19.142857            19.285714   39.785714            42.428571   \n",
       "1   27.148148            27.777778   55.851852            57.000000   \n",
       "\n",
       "   T1_FGM3mean  ...  T1_Stlmean  T1_opponent_Stlmean  T1_Blkmean  \\\n",
       "0     7.821429  ...    5.964286             5.428571    1.785714   \n",
       "1     5.444444  ...    7.259259             6.407407    2.333333   \n",
       "\n",
       "   T1_opponent_Blkmean  T1_PFmean  T1_opponent_PFmean  T1_win_ratio_14d  \\\n",
       "0             1.571429  18.750000           18.357143          0.333333   \n",
       "1             2.851852  19.851852           22.444444          0.333333   \n",
       "\n",
       "   T1_quality  T1_seed  T1_OrdinalRank  \n",
       "0   -0.070776      NaN        144.2875  \n",
       "1   -0.116192      NaN        182.2050  \n",
       "\n",
       "[2 rows x 45 columns]"
      ]
     },
     "metadata": {},
     "output_type": "display_data"
    },
    {
     "data": {
      "text/html": [
       "<div>\n",
       "<style scoped>\n",
       "    .dataframe tbody tr th:only-of-type {\n",
       "        vertical-align: middle;\n",
       "    }\n",
       "\n",
       "    .dataframe tbody tr th {\n",
       "        vertical-align: top;\n",
       "    }\n",
       "\n",
       "    .dataframe thead th {\n",
       "        text-align: right;\n",
       "    }\n",
       "</style>\n",
       "<table border=\"1\" class=\"dataframe\">\n",
       "  <thead>\n",
       "    <tr style=\"text-align: right;\">\n",
       "      <th></th>\n",
       "      <th>Season</th>\n",
       "      <th>T2_TeamID</th>\n",
       "      <th>T2_Scoremean</th>\n",
       "      <th>T2_opponent_Scoremean</th>\n",
       "      <th>T2_PointDiffmean</th>\n",
       "      <th>T2_FGMmean</th>\n",
       "      <th>T2_opponent_FGMmean</th>\n",
       "      <th>T2_FGAmean</th>\n",
       "      <th>T2_opponent_FGAmean</th>\n",
       "      <th>T2_FGM3mean</th>\n",
       "      <th>...</th>\n",
       "      <th>T2_Stlmean</th>\n",
       "      <th>T2_opponent_Stlmean</th>\n",
       "      <th>T2_Blkmean</th>\n",
       "      <th>T2_opponent_Blkmean</th>\n",
       "      <th>T2_PFmean</th>\n",
       "      <th>T2_opponent_PFmean</th>\n",
       "      <th>T2_win_ratio_14d</th>\n",
       "      <th>T2_quality</th>\n",
       "      <th>T2_seed</th>\n",
       "      <th>T2_OrdinalRank</th>\n",
       "    </tr>\n",
       "  </thead>\n",
       "  <tbody>\n",
       "    <tr>\n",
       "      <th>10695</th>\n",
       "      <td>2021</td>\n",
       "      <td>3470</td>\n",
       "      <td>58.571429</td>\n",
       "      <td>67.000000</td>\n",
       "      <td>-8.428571</td>\n",
       "      <td>18.428571</td>\n",
       "      <td>25.000000</td>\n",
       "      <td>54.333333</td>\n",
       "      <td>59.333333</td>\n",
       "      <td>5.047619</td>\n",
       "      <td>...</td>\n",
       "      <td>7.047619</td>\n",
       "      <td>7.380952</td>\n",
       "      <td>2.666667</td>\n",
       "      <td>2.666667</td>\n",
       "      <td>14.761905</td>\n",
       "      <td>21.714286</td>\n",
       "      <td>0.25</td>\n",
       "      <td>-1.180630</td>\n",
       "      <td>NaN</td>\n",
       "      <td>NaN</td>\n",
       "    </tr>\n",
       "    <tr>\n",
       "      <th>10696</th>\n",
       "      <td>2021</td>\n",
       "      <td>3471</td>\n",
       "      <td>61.066667</td>\n",
       "      <td>66.666667</td>\n",
       "      <td>-5.600000</td>\n",
       "      <td>21.400000</td>\n",
       "      <td>24.733333</td>\n",
       "      <td>59.066667</td>\n",
       "      <td>59.266667</td>\n",
       "      <td>8.933333</td>\n",
       "      <td>...</td>\n",
       "      <td>5.600000</td>\n",
       "      <td>8.066667</td>\n",
       "      <td>2.066667</td>\n",
       "      <td>3.133333</td>\n",
       "      <td>15.333333</td>\n",
       "      <td>14.800000</td>\n",
       "      <td>0.50</td>\n",
       "      <td>-0.411866</td>\n",
       "      <td>NaN</td>\n",
       "      <td>NaN</td>\n",
       "    </tr>\n",
       "  </tbody>\n",
       "</table>\n",
       "<p>2 rows × 45 columns</p>\n",
       "</div>"
      ],
      "text/plain": [
       "       Season  T2_TeamID  T2_Scoremean  T2_opponent_Scoremean  \\\n",
       "10695    2021       3470     58.571429              67.000000   \n",
       "10696    2021       3471     61.066667              66.666667   \n",
       "\n",
       "       T2_PointDiffmean  T2_FGMmean  T2_opponent_FGMmean  T2_FGAmean  \\\n",
       "10695         -8.428571   18.428571            25.000000   54.333333   \n",
       "10696         -5.600000   21.400000            24.733333   59.066667   \n",
       "\n",
       "       T2_opponent_FGAmean  T2_FGM3mean  ...  T2_Stlmean  T2_opponent_Stlmean  \\\n",
       "10695            59.333333     5.047619  ...    7.047619             7.380952   \n",
       "10696            59.266667     8.933333  ...    5.600000             8.066667   \n",
       "\n",
       "       T2_Blkmean  T2_opponent_Blkmean  T2_PFmean  T2_opponent_PFmean  \\\n",
       "10695    2.666667             2.666667  14.761905           21.714286   \n",
       "10696    2.066667             3.133333  15.333333           14.800000   \n",
       "\n",
       "       T2_win_ratio_14d  T2_quality  T2_seed  T2_OrdinalRank  \n",
       "10695              0.25   -1.180630      NaN             NaN  \n",
       "10696              0.50   -0.411866      NaN             NaN  \n",
       "\n",
       "[2 rows x 45 columns]"
      ]
     },
     "metadata": {},
     "output_type": "display_data"
    }
   ],
   "source": [
    "flag_3season_avg = FEATURES.season_average.enabled\n",
    "\n",
    "#trueのときの処理理解してfalseと一致させる\n",
    "if flag_3season_avg:\n",
    "    print(\"#####\")\n",
    "    print(\"use 3 season average\")\n",
    "    print(\"#####\")\n",
    "    weight = FEATURES.season_average.weights\n",
    "    years = FEATURES.season_average.past_years\n",
    "    assert years==len(weight)\n",
    "    \n",
    "    features_for_calc = [\"T1_Scoremean\", \"T1_FGAmean\",  \"T1_FGA3mean\"]\n",
    "    season_statistics_with_3_seas = write_mean_of_3_seasons(\n",
    "        season_statistics, features_for_calc, weight, degree_weight=1.0\n",
    "    )\n",
    "    \n",
    "    season_statistics_T1 = season_statistics_with_3_seas.copy()\n",
    "    season_statistics_T2 = season_statistics_with_3_seas.copy()\n",
    "    \n",
    "else:\n",
    "    print(\"#####\")\n",
    "    print(\"skip 3 season verage\")\n",
    "    print(\"#####\")\n",
    "    season_statistics_T1 = season_statistics.copy()\n",
    "    season_statistics_T2 = season_statistics.copy()\n",
    "\n",
    "season_statistics_T1.columns = [\"T1_\" + x.replace(\"T1_\",\"\").replace(\"T2_\",\"opponent_\") for x in list(season_statistics_T1.columns)]\n",
    "season_statistics_T2.columns = [\"T2_\" + x.replace(\"T1_\",\"\").replace(\"T2_\",\"opponent_\") for x in list(season_statistics_T2.columns)]\n",
    "season_statistics_T1.columns.values[0] = \"Season\"\n",
    "season_statistics_T2.columns.values[0] = \"Season\"\n",
    "\n",
    "\n",
    "season_statistics_T2.rename(columns = {\n",
    "    \"T1_TeamID\": \"T2_TeamID\"\n",
    "}, inplace=True)\n",
    "display(season_statistics_T1.head(2), season_statistics_T2.tail(2))"
   ]
  },
  {
   "cell_type": "markdown",
   "id": "5aadeca3",
   "metadata": {
    "papermill": {
     "duration": 0.0,
     "end_time": "2025-03-12T11:34:50.022575",
     "exception": false,
     "start_time": "2025-03-12T11:34:50.022575",
     "status": "completed"
    },
    "tags": []
   },
   "source": [
    "# Toureney dataの処理\n",
    "1. pointdiff, pointが目的変数となるのでそれはyに分離\n",
    "2. seasonstatisticを結合したものをXとして作る"
   ]
  },
  {
   "cell_type": "code",
   "execution_count": 14,
   "id": "339a7f96",
   "metadata": {
    "execution": {
     "iopub.execute_input": "2025-03-12T11:34:50.046906Z",
     "iopub.status.busy": "2025-03-12T11:34:50.046906Z",
     "iopub.status.idle": "2025-03-12T11:34:50.053003Z",
     "shell.execute_reply": "2025-03-12T11:34:50.053003Z"
    },
    "papermill": {
     "duration": 0.017028,
     "end_time": "2025-03-12T11:34:50.055018",
     "exception": false,
     "start_time": "2025-03-12T11:34:50.037990",
     "status": "completed"
    },
    "tags": []
   },
   "outputs": [],
   "source": [
    "\n",
    "def process_tourney(df1, mode=\"tourney\"):\n",
    "    #Season, teamid ->X, team_score->y\n",
    "    df = df1.copy()\n",
    "    if mode==\"tourney\":\n",
    "        df = prepare_data(df) \n",
    "        y = df[\"T1_Score\"]-df[\"T2_Score\"]\n",
    "    X = df[['Season', 'T1_TeamID', 'T2_TeamID']]\n",
    "    X = pd.merge(X, season_statistics_T1, on = ['Season', 'T1_TeamID'], how = 'left')\n",
    "    X = pd.merge(X, season_statistics_T2, on = ['Season', 'T2_TeamID'], how = 'left')\n",
    "    \n",
    "    #seed->seed diff\n",
    "    X[\"seed_diff\"] = X[\"T1_seed\"] - X[\"T2_seed\"]\n",
    "    #rank->rank diff\n",
    "    X[\"rank_diff\"] = X[\"T1_OrdinalRank\"] - X[\"T2_OrdinalRank\"]\n",
    "    #quality->quality diff\n",
    "    X[\"quality_diff\"] = X[\"T1_quality\"] - X[\"T2_quality\"]\n",
    "    #win_ratio_14d -> win_raio_14d_diff\n",
    "    X[\"win_ratio_14d_diff\"] = X[\"T1_win_ratio_14d\"] - X[\"T2_win_ratio_14d\"]\n",
    "    #tourney_data.drop(columns=[\"T1_seed\", \"T2_seed\"], inplace=True)\n",
    "\n",
    "    X = X.drop(columns=[\"T1_seed\", \"T2_seed\", \"T1_OrdinalRank\", \"T2_OrdinalRank\", \n",
    "                        \"T1_quality\", \"T2_quality\", \"T1_win_ratio_14d\", \"T2_win_ratio_14d\"\n",
    "                        ])\n",
    "\n",
    "\n",
    "    # if fillna is true-> run fillna()\n",
    "    FILLNA = FEATURES.fillna.quality\n",
    "    if FILLNA==\"nan\":\n",
    "        print(f\"no fillna, use nan\")\n",
    "        X[\"quality_diff\"] = X[\"quality_diff\"].fillna(np.nan)\n",
    "    else:\n",
    "        print(f\"fillna quality feature for {FILLNA}\")\n",
    "        X[\"quality_diff\"] = X[\"quality_diff\"].fillna(FILLNA)\n",
    "\n",
    "        \n",
    "    return X, y if mode==\"tourney\" else X"
   ]
  },
  {
   "cell_type": "code",
   "execution_count": 15,
   "id": "4b8d3e48",
   "metadata": {
    "execution": {
     "iopub.execute_input": "2025-03-12T11:34:50.070840Z",
     "iopub.status.busy": "2025-03-12T11:34:50.070840Z",
     "iopub.status.idle": "2025-03-12T11:34:50.125286Z",
     "shell.execute_reply": "2025-03-12T11:34:50.125286Z"
    },
    "papermill": {
     "duration": 0.068695,
     "end_time": "2025-03-12T11:34:50.125286",
     "exception": false,
     "start_time": "2025-03-12T11:34:50.056591",
     "status": "completed"
    },
    "tags": []
   },
   "outputs": [
    {
     "name": "stdout",
     "output_type": "stream",
     "text": [
      "<class 'pandas.core.frame.DataFrame'>\n",
      "Index: 1745 entries, 0 to 2011\n",
      "Data columns (total 56 columns):\n",
      " #   Column       Non-Null Count  Dtype  \n",
      "---  ------       --------------  -----  \n",
      " 0   Season       1745 non-null   int64  \n",
      " 1   DayNum       1745 non-null   int64  \n",
      " 2   WTeamID      1745 non-null   int64  \n",
      " 3   WScore       1745 non-null   int64  \n",
      " 4   LTeamID      1745 non-null   int64  \n",
      " 5   LScore       1745 non-null   int64  \n",
      " 6   WLoc         1745 non-null   object \n",
      " 7   NumOT        1745 non-null   int64  \n",
      " 8   WFGM         1745 non-null   int64  \n",
      " 9   WFGA         1745 non-null   int64  \n",
      " 10  WFGM3        1745 non-null   int64  \n",
      " 11  WFGA3        1745 non-null   int64  \n",
      " 12  WFTM         1745 non-null   int64  \n",
      " 13  WFTA         1745 non-null   int64  \n",
      " 14  WOR          1745 non-null   int64  \n",
      " 15  WDR          1745 non-null   int64  \n",
      " 16  WAst         1745 non-null   int64  \n",
      " 17  WTO          1745 non-null   int64  \n",
      " 18  WStl         1745 non-null   int64  \n",
      " 19  WBlk         1745 non-null   int64  \n",
      " 20  WPF          1745 non-null   int64  \n",
      " 21  LFGM         1745 non-null   int64  \n",
      " 22  LFGA         1745 non-null   int64  \n",
      " 23  LFGM3        1745 non-null   int64  \n",
      " 24  LFGA3        1745 non-null   int64  \n",
      " 25  LFTM         1745 non-null   int64  \n",
      " 26  LFTA         1745 non-null   int64  \n",
      " 27  LOR          1745 non-null   int64  \n",
      " 28  LDR          1745 non-null   int64  \n",
      " 29  LAst         1745 non-null   int64  \n",
      " 30  LTO          1745 non-null   int64  \n",
      " 31  LStl         1745 non-null   int64  \n",
      " 32  LBlk         1745 non-null   int64  \n",
      " 33  LPF          1745 non-null   int64  \n",
      " 34  WEFFG        1745 non-null   float64\n",
      " 35  LEFFG        1745 non-null   float64\n",
      " 36  WEFFG3       1745 non-null   float64\n",
      " 37  LEFFG3       1745 non-null   float64\n",
      " 38  WDARE        1745 non-null   float64\n",
      " 39  LDARE        1745 non-null   float64\n",
      " 40  WTOQUETOQUE  1745 non-null   float64\n",
      " 41  LTOQUETOQUE  1745 non-null   float64\n",
      " 42  WEFG_SUM     1745 non-null   float64\n",
      " 43  LEFG_SUM     1745 non-null   float64\n",
      " 44  WPOSS        1745 non-null   float64\n",
      " 45  LPOSS        1745 non-null   float64\n",
      " 46  WPOSS_RATE   1745 non-null   float64\n",
      " 47  LPOSS_RATE   1745 non-null   float64\n",
      " 48  WTO_RATIO    1745 non-null   float64\n",
      " 49  LTO_RATIO    1745 non-null   float64\n",
      " 50  WREB_RATE    1745 non-null   float64\n",
      " 51  LREB_RATE    1745 non-null   float64\n",
      " 52  WFT_RATE     1745 non-null   float64\n",
      " 53  LFT_RATE     1745 non-null   float64\n",
      " 54  WRATING      1745 non-null   float64\n",
      " 55  LRATING      1745 non-null   float64\n",
      "dtypes: float64(22), int64(33), object(1)\n",
      "memory usage: 777.1+ KB\n"
     ]
    },
    {
     "name": "stdout",
     "output_type": "stream",
     "text": [
      "None\n",
      "feature cols after prepare()\n",
      "Index(['Season', 'DayNum', 'T1_TeamID', 'T1_Score', 'T2_TeamID', 'T2_Score',\n",
      "       'location', 'NumOT', 'T1_FGM', 'T1_FGA', 'T1_FGM3', 'T1_FGA3', 'T1_FTM',\n",
      "       'T1_FTA', 'T1_OR', 'T1_DR', 'T1_Ast', 'T1_TO', 'T1_Stl', 'T1_Blk',\n",
      "       'T1_PF', 'T2_FGM', 'T2_FGA', 'T2_FGM3', 'T2_FGA3', 'T2_FTM', 'T2_FTA',\n",
      "       'T2_OR', 'T2_DR', 'T2_Ast', 'T2_TO', 'T2_Stl', 'T2_Blk', 'T2_PF',\n",
      "       'T1_EFFG', 'T2_EFFG', 'T1_EFFG3', 'T2_EFFG3', 'T1_DARE', 'T2_DARE',\n",
      "       'T1_TOQUETOQUE', 'T2_TOQUETOQUE', 'T1_EFG_SUM', 'T2_EFG_SUM', 'T1_POSS',\n",
      "       'T2_POSS', 'T1_POSS_RATE', 'T2_POSS_RATE', 'T1_TO_RATIO', 'T2_TO_RATIO',\n",
      "       'T1_REB_RATE', 'T2_REB_RATE', 'T1_FT_RATE', 'T2_FT_RATE', 'T1_RATING',\n",
      "       'T2_RATING', 'PointDiff', 'win'],\n",
      "      dtype='object')\n",
      "no fillna, use nan\n"
     ]
    }
   ],
   "source": [
    "X, y = process_tourney(tourney_results)"
   ]
  },
  {
   "cell_type": "code",
   "execution_count": 16,
   "id": "db4804e4",
   "metadata": {
    "execution": {
     "iopub.execute_input": "2025-03-12T11:34:50.141880Z",
     "iopub.status.busy": "2025-03-12T11:34:50.141880Z",
     "iopub.status.idle": "2025-03-12T11:34:50.146625Z",
     "shell.execute_reply": "2025-03-12T11:34:50.146625Z"
    },
    "papermill": {
     "duration": 0.012504,
     "end_time": "2025-03-12T11:34:50.146625",
     "exception": false,
     "start_time": "2025-03-12T11:34:50.134121",
     "status": "completed"
    },
    "tags": []
   },
   "outputs": [
    {
     "name": "stdout",
     "output_type": "stream",
     "text": [
      "最終的な X の特徴量\n",
      "Index(['Season', 'T1_TeamID', 'T2_TeamID', 'T1_Scoremean',\n",
      "       'T1_opponent_Scoremean', 'T1_PointDiffmean', 'T1_FGMmean',\n",
      "       'T1_opponent_FGMmean', 'T1_FGAmean', 'T1_opponent_FGAmean',\n",
      "       'T1_FGM3mean', 'T1_opponent_FGM3mean', 'T1_FGA3mean',\n",
      "       'T1_opponent_FGA3mean', 'T1_FTMmean', 'T1_opponent_FTMmean',\n",
      "       'T1_FTAmean', 'T1_opponent_FTAmean', 'T1_EFG_SUMmean',\n",
      "       'T1_opponent_EFG_SUMmean', 'T1_TO_RATIOmean',\n",
      "       'T1_opponent_TO_RATIOmean', 'T1_ORmean', 'T1_opponent_ORmean',\n",
      "       'T1_DRmean', 'T1_opponent_DRmean', 'T1_REB_RATEmean',\n",
      "       'T1_opponent_REB_RATEmean', 'T1_FT_RATEmean', 'T1_opponent_FT_RATEmean',\n",
      "       'T1_POSS_RATEmean', 'T1_opponent_POSS_RATEmean', 'T1_Astmean',\n",
      "       'T1_opponent_Astmean', 'T1_TOmean', 'T1_opponent_TOmean', 'T1_Stlmean',\n",
      "       'T1_opponent_Stlmean', 'T1_Blkmean', 'T1_opponent_Blkmean', 'T1_PFmean',\n",
      "       'T1_opponent_PFmean', 'T2_Scoremean', 'T2_opponent_Scoremean',\n",
      "       'T2_PointDiffmean', 'T2_FGMmean', 'T2_opponent_FGMmean', 'T2_FGAmean',\n",
      "       'T2_opponent_FGAmean', 'T2_FGM3mean', 'T2_opponent_FGM3mean',\n",
      "       'T2_FGA3mean', 'T2_opponent_FGA3mean', 'T2_FTMmean',\n",
      "       'T2_opponent_FTMmean', 'T2_FTAmean', 'T2_opponent_FTAmean',\n",
      "       'T2_EFG_SUMmean', 'T2_opponent_EFG_SUMmean', 'T2_TO_RATIOmean',\n",
      "       'T2_opponent_TO_RATIOmean', 'T2_ORmean', 'T2_opponent_ORmean',\n",
      "       'T2_DRmean', 'T2_opponent_DRmean', 'T2_REB_RATEmean',\n",
      "       'T2_opponent_REB_RATEmean', 'T2_FT_RATEmean', 'T2_opponent_FT_RATEmean',\n",
      "       'T2_POSS_RATEmean', 'T2_opponent_POSS_RATEmean', 'T2_Astmean',\n",
      "       'T2_opponent_Astmean', 'T2_TOmean', 'T2_opponent_TOmean', 'T2_Stlmean',\n",
      "       'T2_opponent_Stlmean', 'T2_Blkmean', 'T2_opponent_Blkmean', 'T2_PFmean',\n",
      "       'T2_opponent_PFmean', 'seed_diff', 'rank_diff', 'quality_diff',\n",
      "       'win_ratio_14d_diff'],\n",
      "      dtype='object')\n"
     ]
    }
   ],
   "source": [
    "print(\"最終的な X の特徴量\")\n",
    "print(X.columns)"
   ]
  },
  {
   "cell_type": "code",
   "execution_count": 17,
   "id": "5dc2de85",
   "metadata": {
    "execution": {
     "iopub.execute_input": "2025-03-12T11:34:50.157607Z",
     "iopub.status.busy": "2025-03-12T11:34:50.157607Z",
     "iopub.status.idle": "2025-03-12T11:34:50.176187Z",
     "shell.execute_reply": "2025-03-12T11:34:50.176187Z"
    },
    "papermill": {
     "duration": 0.019965,
     "end_time": "2025-03-12T11:34:50.177572",
     "exception": false,
     "start_time": "2025-03-12T11:34:50.157607",
     "status": "completed"
    },
    "tags": []
   },
   "outputs": [
    {
     "name": "stdout",
     "output_type": "stream",
     "text": [
      "<class 'pandas.core.frame.DataFrame'>\n",
      "RangeIndex: 3490 entries, 0 to 3489\n",
      "Data columns (total 85 columns):\n",
      " #   Column                     Non-Null Count  Dtype  \n",
      "---  ------                     --------------  -----  \n",
      " 0   Season                     3490 non-null   int64  \n",
      " 1   T1_TeamID                  3490 non-null   int64  \n",
      " 2   T2_TeamID                  3490 non-null   int64  \n",
      " 3   T1_Scoremean               3490 non-null   float64\n",
      " 4   T1_opponent_Scoremean      3490 non-null   float64\n",
      " 5   T1_PointDiffmean           3490 non-null   float64\n",
      " 6   T1_FGMmean                 3490 non-null   float64\n",
      " 7   T1_opponent_FGMmean        3490 non-null   float64\n",
      " 8   T1_FGAmean                 3490 non-null   float64\n",
      " 9   T1_opponent_FGAmean        3490 non-null   float64\n",
      " 10  T1_FGM3mean                3490 non-null   float64\n",
      " 11  T1_opponent_FGM3mean       3490 non-null   float64\n",
      " 12  T1_FGA3mean                3490 non-null   float64\n",
      " 13  T1_opponent_FGA3mean       3490 non-null   float64\n",
      " 14  T1_FTMmean                 3490 non-null   float64\n",
      " 15  T1_opponent_FTMmean        3490 non-null   float64\n",
      " 16  T1_FTAmean                 3490 non-null   float64\n",
      " 17  T1_opponent_FTAmean        3490 non-null   float64\n",
      " 18  T1_EFG_SUMmean             3490 non-null   float64\n",
      " 19  T1_opponent_EFG_SUMmean    3490 non-null   float64\n",
      " 20  T1_TO_RATIOmean            3490 non-null   float64\n",
      " 21  T1_opponent_TO_RATIOmean   3490 non-null   float64\n",
      " 22  T1_ORmean                  3490 non-null   float64\n",
      " 23  T1_opponent_ORmean         3490 non-null   float64\n",
      " 24  T1_DRmean                  3490 non-null   float64\n",
      " 25  T1_opponent_DRmean         3490 non-null   float64\n",
      " 26  T1_REB_RATEmean            3490 non-null   float64\n",
      " 27  T1_opponent_REB_RATEmean   3490 non-null   float64\n",
      " 28  T1_FT_RATEmean             3490 non-null   float64\n",
      " 29  T1_opponent_FT_RATEmean    3490 non-null   float64\n",
      " 30  T1_POSS_RATEmean           3490 non-null   float64\n",
      " 31  T1_opponent_POSS_RATEmean  3490 non-null   float64\n",
      " 32  T1_Astmean                 3490 non-null   float64\n",
      " 33  T1_opponent_Astmean        3490 non-null   float64\n",
      " 34  T1_TOmean                  3490 non-null   float64\n",
      " 35  T1_opponent_TOmean         3490 non-null   float64\n",
      " 36  T1_Stlmean                 3490 non-null   float64\n",
      " 37  T1_opponent_Stlmean        3490 non-null   float64\n",
      " 38  T1_Blkmean                 3490 non-null   float64\n",
      " 39  T1_opponent_Blkmean        3490 non-null   float64\n",
      " 40  T1_PFmean                  3490 non-null   float64\n",
      " 41  T1_opponent_PFmean         3490 non-null   float64\n",
      " 42  T2_Scoremean               3490 non-null   float64\n",
      " 43  T2_opponent_Scoremean      3490 non-null   float64\n",
      " 44  T2_PointDiffmean           3490 non-null   float64\n",
      " 45  T2_FGMmean                 3490 non-null   float64\n",
      " 46  T2_opponent_FGMmean        3490 non-null   float64\n",
      " 47  T2_FGAmean                 3490 non-null   float64\n",
      " 48  T2_opponent_FGAmean        3490 non-null   float64\n",
      " 49  T2_FGM3mean                3490 non-null   float64\n",
      " 50  T2_opponent_FGM3mean       3490 non-null   float64\n",
      " 51  T2_FGA3mean                3490 non-null   float64\n",
      " 52  T2_opponent_FGA3mean       3490 non-null   float64\n",
      " 53  T2_FTMmean                 3490 non-null   float64\n",
      " 54  T2_opponent_FTMmean        3490 non-null   float64\n",
      " 55  T2_FTAmean                 3490 non-null   float64\n",
      " 56  T2_opponent_FTAmean        3490 non-null   float64\n",
      " 57  T2_EFG_SUMmean             3490 non-null   float64\n",
      " 58  T2_opponent_EFG_SUMmean    3490 non-null   float64\n",
      " 59  T2_TO_RATIOmean            3490 non-null   float64\n",
      " 60  T2_opponent_TO_RATIOmean   3490 non-null   float64\n",
      " 61  T2_ORmean                  3490 non-null   float64\n",
      " 62  T2_opponent_ORmean         3490 non-null   float64\n",
      " 63  T2_DRmean                  3490 non-null   float64\n",
      " 64  T2_opponent_DRmean         3490 non-null   float64\n",
      " 65  T2_REB_RATEmean            3490 non-null   float64\n",
      " 66  T2_opponent_REB_RATEmean   3490 non-null   float64\n",
      " 67  T2_FT_RATEmean             3490 non-null   float64\n",
      " 68  T2_opponent_FT_RATEmean    3490 non-null   float64\n",
      " 69  T2_POSS_RATEmean           3490 non-null   float64\n",
      " 70  T2_opponent_POSS_RATEmean  3490 non-null   float64\n",
      " 71  T2_Astmean                 3490 non-null   float64\n",
      " 72  T2_opponent_Astmean        3490 non-null   float64\n",
      " 73  T2_TOmean                  3490 non-null   float64\n",
      " 74  T2_opponent_TOmean         3490 non-null   float64\n",
      " 75  T2_Stlmean                 3490 non-null   float64\n",
      " 76  T2_opponent_Stlmean        3490 non-null   float64\n",
      " 77  T2_Blkmean                 3490 non-null   float64\n",
      " 78  T2_opponent_Blkmean        3490 non-null   float64\n",
      " 79  T2_PFmean                  3490 non-null   float64\n",
      " 80  T2_opponent_PFmean         3490 non-null   float64\n",
      " 81  seed_diff                  3490 non-null   float64\n",
      " 82  rank_diff                  2230 non-null   float64\n",
      " 83  quality_diff               3490 non-null   float64\n",
      " 84  win_ratio_14d_diff         3490 non-null   float64\n",
      "dtypes: float64(82), int64(3)\n",
      "memory usage: 2.3 MB\n"
     ]
    }
   ],
   "source": [
    "X.info()"
   ]
  },
  {
   "cell_type": "markdown",
   "id": "5fc23390",
   "metadata": {
    "papermill": {
     "duration": 0.008151,
     "end_time": "2025-03-12T11:34:50.193697",
     "exception": false,
     "start_time": "2025-03-12T11:34:50.185546",
     "status": "completed"
    },
    "tags": []
   },
   "source": [
    "# build models"
   ]
  },
  {
   "cell_type": "code",
   "execution_count": 18,
   "id": "f8182810",
   "metadata": {
    "execution": {
     "iopub.execute_input": "2025-03-12T11:34:50.211312Z",
     "iopub.status.busy": "2025-03-12T11:34:50.211312Z",
     "iopub.status.idle": "2025-03-12T11:34:50.230700Z",
     "shell.execute_reply": "2025-03-12T11:34:50.230700Z"
    },
    "papermill": {
     "duration": 0.028958,
     "end_time": "2025-03-12T11:34:50.230700",
     "exception": false,
     "start_time": "2025-03-12T11:34:50.201742",
     "status": "completed"
    },
    "tags": []
   },
   "outputs": [],
   "source": [
    "\n",
    "val_mae = []\n",
    "iteration_counts = []\n",
    "xgb_cv = []\n",
    "dtrain = xgb.DMatrix(X, label=y)\n",
    "\n",
    "repeat_cv = MODEL.repeat_cv\n",
    "param = dict(MODEL.xgb_model.param)\n",
    "num_boost_round = MODEL.xgb_model.num_boost_round\n",
    "folds_splits = MODEL.xgb_model.folds_splits\n",
    "early_stopping_rounds = MODEL.xgb_model.early_stopping_rounds\n",
    "\n",
    "# コーシー損失関数\n",
    "def cauchyobj(preds, dtrain):\n",
    "    labels = dtrain.get_label()\n",
    "    c = 5000\n",
    "    x = preds - labels    \n",
    "    grad = x / (x**2/c**2 + 1)\n",
    "    hess = -c**2 * (x**2 - c**2) / (x**2 + c**2)**2\n",
    "    return grad, hess"
   ]
  },
  {
   "cell_type": "code",
   "execution_count": 19,
   "id": "46a07a44",
   "metadata": {
    "execution": {
     "iopub.execute_input": "2025-03-12T11:34:50.257844Z",
     "iopub.status.busy": "2025-03-12T11:34:50.256844Z",
     "iopub.status.idle": "2025-03-12T11:34:50.269737Z",
     "shell.execute_reply": "2025-03-12T11:34:50.269737Z"
    },
    "papermill": {
     "duration": 0.028907,
     "end_time": "2025-03-12T11:34:50.272171",
     "exception": false,
     "start_time": "2025-03-12T11:34:50.243264",
     "status": "completed"
    },
    "tags": []
   },
   "outputs": [],
   "source": [
    "#########################################\n",
    "# 1. Optunaあり：ハイパーパラメータ最適化 #\n",
    "#########################################\n",
    "def run_optuna_optimization(param, optuna_conf):\n",
    "    def objective(trial):  \n",
    "        logger.info(f\"Trial {trial.number} 開始\")\n",
    "        \n",
    "        current_param = param.copy()  \n",
    "        max_depth_range = optuna_conf.max_depth        \n",
    "        eta_range = optuna_conf.eta\n",
    "        subsample_range = optuna_conf.subsample          \n",
    "        colsample_bytree_range = optuna_conf.colsample_bytree\n",
    "        num_parallel_tree_range = optuna_conf.num_parallel_tree \n",
    "        min_child_weight_range = optuna_conf.min_child_weight \n",
    "        reg_alpha_range = optuna_conf.reg_alpha         \n",
    "        reg_lambda_range = optuna_conf.reg_lambda    \n",
    "        reg_gamma_range = optuna_conf.gamma  \n",
    "\n",
    "        current_param[\"max_depth\"] = trial.suggest_int(\"max_depth\", max_depth_range[0], max_depth_range[1])\n",
    "        current_param[\"eta\"] = trial.suggest_float(\"eta\", eta_range[0], eta_range[1], log=True)\n",
    "        current_param[\"subsample\"] = trial.suggest_float(\"subsample\", subsample_range[0], subsample_range[1])\n",
    "        current_param[\"colsample_bytree\"] = trial.suggest_float(\"colsample_bytree\", colsample_bytree_range[0], colsample_bytree_range[1])\n",
    "        current_param[\"num_parallel_tree\"] = trial.suggest_int(\"num_parallel_tree\", num_parallel_tree_range[0], num_parallel_tree_range[1])\n",
    "        current_param[\"min_child_weight\"] = trial.suggest_int(\"min_child_weight\", min_child_weight_range[0], min_child_weight_range[1])\n",
    "        current_param[\"reg_alpha\"] = trial.suggest_float(\"reg_alpha\", reg_alpha_range[0], reg_alpha_range[1])\n",
    "        current_param[\"reg_lambda\"] = trial.suggest_float(\"reg_lambda\", reg_lambda_range[0], reg_lambda_range[1])\n",
    "        current_param[\"gamma\"] = trial.suggest_float(\"gamma\", reg_gamma_range[0], reg_gamma_range[1])\n",
    "        \n",
    "        if current_param.get(\"eval_metric\", \"mae\") == \"rmse\":\n",
    "            score_name = \"test-rmse-mean\"\n",
    "        elif current_param.get(\"eval_metric\", \"mae\") == \"mae\":\n",
    "            score_name = \"test-mae-mean\"\n",
    "        elif  current_param.get(\"eval_metric\", \"mae\") == \"logloss\":\n",
    "            score_name = \"test-logloss-mean\"\n",
    "        \n",
    "        print(current_param)  \n",
    "        cv_scores = []\n",
    "        for i in range(repeat_cv):\n",
    "            cv_result = xgb.cv(\n",
    "                params=current_param,\n",
    "                dtrain=dtrain,\n",
    "                obj=cauchyobj,\n",
    "                num_boost_round=num_boost_round,\n",
    "                folds=KFold(n_splits=folds_splits, shuffle=True, random_state=i),\n",
    "                early_stopping_rounds=early_stopping_rounds,\n",
    "                verbose_eval=False\n",
    "            )\n",
    "            fold_score = np.min(cv_result[score_name].values)\n",
    "            cv_scores.append(fold_score)\n",
    "        mean_score = np.mean(cv_scores)\n",
    "        logger.info(f\"Trial {trial.number} 終了: スコア {mean_score}\")\n",
    "        \n",
    "        return mean_score\n",
    "\n",
    "    logger.info(\"Optuna最適化開始\")\n",
    "    N_WARMUP_STEPS = optuna_conf.n_warmup_steps\n",
    "    TIMEOUT = optuna_conf.timeout\n",
    "    N_JOBS = optuna_conf.n_jobs\n",
    "    N_TRIALS = optuna_conf.n_trials\n",
    "    \n",
    "    sampler = optuna.samplers.TPESampler(seed=42)\n",
    "    pruner = optuna.pruners.MedianPruner(n_warmup_steps=N_WARMUP_STEPS)\n",
    "\n",
    "    study = optuna.create_study(direction=\"minimize\", sampler=sampler, pruner=pruner)\n",
    "    study.optimize(objective, n_trials=N_TRIALS, timeout=TIMEOUT, n_jobs=N_JOBS)\n",
    "\n",
    "    best_trial = study.best_trial\n",
    "    logger.info(\"Best trial:\")\n",
    "    logger.info(f\"  Value: {best_trial.value}\")\n",
    "    \n",
    "    for key, value in best_trial.params.items():\n",
    "        print(f\"    {key}: {value}\")\n",
    "    param.update(best_trial.params)\n",
    "\n",
    "    logger.info(\"Optuna最適化終了\")\n",
    "    return param"
   ]
  },
  {
   "cell_type": "code",
   "execution_count": 20,
   "id": "f2f7b61e",
   "metadata": {
    "execution": {
     "iopub.execute_input": "2025-03-12T11:34:50.295741Z",
     "iopub.status.busy": "2025-03-12T11:34:50.295741Z",
     "iopub.status.idle": "2025-03-12T11:34:50.301064Z",
     "shell.execute_reply": "2025-03-12T11:34:50.301064Z"
    },
    "papermill": {
     "duration": 0.018866,
     "end_time": "2025-03-12T11:34:50.301064",
     "exception": false,
     "start_time": "2025-03-12T11:34:50.282198",
     "status": "completed"
    },
    "tags": []
   },
   "outputs": [
    {
     "name": "stdout",
     "output_type": "stream",
     "text": [
      "not use Optuna, use xgb_model.param\n",
      "param: {'eval_metric': 'rmse', 'booster': 'gbtree', 'eta': 0.02, 'subsample': 0.35, 'colsample_bytree': 0.7, 'num_parallel_tree': 10, 'min_child_weight': 40, 'gamma': 10, 'max_depth': 3}\n",
      "repeat_cv: 10\n",
      "num_boost_round: 3000\n",
      "folds_splits: 5\n",
      "early_stopping_rounds: 25\n"
     ]
    }
   ],
   "source": [
    "IS_OPTUNA = MODEL.optuna_enabled\n",
    "if IS_OPTUNA:\n",
    "    print(\"Optuna use mode\") \n",
    "    optuna_conf = MODEL.xgb_model.optuna\n",
    "    logger.add(os.path.join(OUTPUT_PATH, \"results.log\"), format=\"{time:YYYY-MM-DD at HH:mm:ss} - {level} - {message}\", level=\"INFO\")\n",
    "    param = run_optuna_optimization(param, optuna_conf)\n",
    "    print(\"param updated by optuna\")\n",
    "    results+= [\"param set after optuna is below\", f\"{param}\", \"\"]\n",
    "else:    \n",
    "    print(\"not use Optuna, use xgb_model.param\")\n",
    "\n",
    "\n",
    "\n",
    "print(\"param:\", param)\n",
    "print(\"repeat_cv:\", repeat_cv)\n",
    "print(\"num_boost_round:\", num_boost_round)\n",
    "print(\"folds_splits:\", folds_splits)\n",
    "print(\"early_stopping_rounds:\", early_stopping_rounds)"
   ]
  },
  {
   "cell_type": "code",
   "execution_count": 21,
   "id": "dcd34303",
   "metadata": {
    "execution": {
     "iopub.execute_input": "2025-03-12T11:34:50.325266Z",
     "iopub.status.busy": "2025-03-12T11:34:50.325266Z",
     "iopub.status.idle": "2025-03-12T11:40:21.024679Z",
     "shell.execute_reply": "2025-03-12T11:40:21.024679Z"
    },
    "papermill": {
     "duration": 330.713578,
     "end_time": "2025-03-12T11:40:21.026545",
     "exception": false,
     "start_time": "2025-03-12T11:34:50.312967",
     "status": "completed"
    },
    "tags": []
   },
   "outputs": [
    {
     "name": "stderr",
     "output_type": "stream",
     "text": [
      "\r",
      "  0%|                                                                                                                                                            | 0/10 [00:00<?, ?it/s]"
     ]
    },
    {
     "name": "stdout",
     "output_type": "stream",
     "text": [
      "[0]\ttrain-rmse:17.18044+0.17841\ttest-rmse:17.17061+0.71040\n"
     ]
    },
    {
     "name": "stdout",
     "output_type": "stream",
     "text": [
      "[50]\ttrain-rmse:13.06652+0.08117\ttest-rmse:13.25467+0.53222\n"
     ]
    },
    {
     "name": "stdout",
     "output_type": "stream",
     "text": [
      "[100]\ttrain-rmse:11.95368+0.06774\ttest-rmse:12.30487+0.41949\n"
     ]
    },
    {
     "name": "stdout",
     "output_type": "stream",
     "text": [
      "[150]\ttrain-rmse:11.53177+0.06641\ttest-rmse:12.03379+0.37386\n"
     ]
    },
    {
     "name": "stdout",
     "output_type": "stream",
     "text": [
      "[200]\ttrain-rmse:11.27477+0.06147\ttest-rmse:11.92460+0.35663\n"
     ]
    },
    {
     "name": "stdout",
     "output_type": "stream",
     "text": [
      "[250]\ttrain-rmse:11.07518+0.05894\ttest-rmse:11.86972+0.34761\n"
     ]
    },
    {
     "name": "stdout",
     "output_type": "stream",
     "text": [
      "[300]\ttrain-rmse:10.90186+0.05818\ttest-rmse:11.84015+0.34215\n"
     ]
    },
    {
     "name": "stdout",
     "output_type": "stream",
     "text": [
      "[350]\ttrain-rmse:10.74640+0.05545\ttest-rmse:11.81880+0.33576\n"
     ]
    },
    {
     "name": "stdout",
     "output_type": "stream",
     "text": [
      "[400]\ttrain-rmse:10.60260+0.05170\ttest-rmse:11.80726+0.32734\n"
     ]
    },
    {
     "name": "stdout",
     "output_type": "stream",
     "text": [
      "[450]\ttrain-rmse:10.46896+0.04927\ttest-rmse:11.80173+0.32471\n"
     ]
    },
    {
     "name": "stdout",
     "output_type": "stream",
     "text": [
      "[500]\ttrain-rmse:10.34258+0.04865\ttest-rmse:11.79773+0.31784\n"
     ]
    },
    {
     "name": "stdout",
     "output_type": "stream",
     "text": [
      "[531]\ttrain-rmse:10.26728+0.04799\ttest-rmse:11.79811+0.31612\n"
     ]
    },
    {
     "name": "stderr",
     "output_type": "stream",
     "text": [
      "\r",
      " 10%|██████████████▊                                                                                                                                     | 1/10 [00:29<04:25, 29.48s/it]"
     ]
    },
    {
     "name": "stdout",
     "output_type": "stream",
     "text": [
      "[0]\ttrain-rmse:17.17985+0.07364\ttest-rmse:17.18216+0.30067\n"
     ]
    },
    {
     "name": "stdout",
     "output_type": "stream",
     "text": [
      "[50]\ttrain-rmse:13.06575+0.09141\ttest-rmse:13.27160+0.41435\n"
     ]
    },
    {
     "name": "stdout",
     "output_type": "stream",
     "text": [
      "[100]\ttrain-rmse:11.94346+0.09050\ttest-rmse:12.32805+0.40912\n"
     ]
    },
    {
     "name": "stdout",
     "output_type": "stream",
     "text": [
      "[150]\ttrain-rmse:11.52106+0.08568\ttest-rmse:12.06811+0.38607\n"
     ]
    },
    {
     "name": "stdout",
     "output_type": "stream",
     "text": [
      "[200]\ttrain-rmse:11.26284+0.08014\ttest-rmse:11.96312+0.36796\n"
     ]
    },
    {
     "name": "stdout",
     "output_type": "stream",
     "text": [
      "[250]\ttrain-rmse:11.06108+0.07747\ttest-rmse:11.91242+0.35412\n"
     ]
    },
    {
     "name": "stdout",
     "output_type": "stream",
     "text": [
      "[300]\ttrain-rmse:10.88734+0.07275\ttest-rmse:11.88289+0.34360\n"
     ]
    },
    {
     "name": "stdout",
     "output_type": "stream",
     "text": [
      "[350]\ttrain-rmse:10.73128+0.06833\ttest-rmse:11.86129+0.33059\n"
     ]
    },
    {
     "name": "stdout",
     "output_type": "stream",
     "text": [
      "[400]\ttrain-rmse:10.58883+0.06468\ttest-rmse:11.85368+0.32252\n"
     ]
    },
    {
     "name": "stdout",
     "output_type": "stream",
     "text": [
      "[450]\ttrain-rmse:10.45633+0.06346\ttest-rmse:11.84489+0.31763\n"
     ]
    },
    {
     "name": "stdout",
     "output_type": "stream",
     "text": [
      "[500]\ttrain-rmse:10.33057+0.06192\ttest-rmse:11.84017+0.30908\n"
     ]
    },
    {
     "name": "stdout",
     "output_type": "stream",
     "text": [
      "[538]\ttrain-rmse:10.23838+0.06172\ttest-rmse:11.84254+0.30667\n"
     ]
    },
    {
     "name": "stderr",
     "output_type": "stream",
     "text": [
      "\r",
      " 20%|█████████████████████████████▌                                                                                                                      | 2/10 [01:01<04:06, 30.76s/it]"
     ]
    },
    {
     "name": "stdout",
     "output_type": "stream",
     "text": [
      "[0]\ttrain-rmse:17.18122+0.10031\ttest-rmse:17.18126+0.40792\n"
     ]
    },
    {
     "name": "stdout",
     "output_type": "stream",
     "text": [
      "[50]\ttrain-rmse:13.06588+0.07451\ttest-rmse:13.26793+0.39111\n"
     ]
    },
    {
     "name": "stdout",
     "output_type": "stream",
     "text": [
      "[100]\ttrain-rmse:11.95113+0.07194\ttest-rmse:12.31690+0.33037\n"
     ]
    },
    {
     "name": "stdout",
     "output_type": "stream",
     "text": [
      "[150]\ttrain-rmse:11.53082+0.06640\ttest-rmse:12.04591+0.28947\n"
     ]
    },
    {
     "name": "stdout",
     "output_type": "stream",
     "text": [
      "[200]\ttrain-rmse:11.27254+0.06262\ttest-rmse:11.93506+0.26041\n"
     ]
    },
    {
     "name": "stdout",
     "output_type": "stream",
     "text": [
      "[250]\ttrain-rmse:11.07088+0.06128\ttest-rmse:11.87934+0.23786\n"
     ]
    },
    {
     "name": "stdout",
     "output_type": "stream",
     "text": [
      "[300]\ttrain-rmse:10.89720+0.05931\ttest-rmse:11.84725+0.22603\n"
     ]
    },
    {
     "name": "stdout",
     "output_type": "stream",
     "text": [
      "[350]\ttrain-rmse:10.74270+0.06034\ttest-rmse:11.82492+0.21663\n"
     ]
    },
    {
     "name": "stdout",
     "output_type": "stream",
     "text": [
      "[400]\ttrain-rmse:10.60052+0.06039\ttest-rmse:11.81079+0.20836\n"
     ]
    },
    {
     "name": "stdout",
     "output_type": "stream",
     "text": [
      "[450]\ttrain-rmse:10.46638+0.06047\ttest-rmse:11.80699+0.20097\n"
     ]
    },
    {
     "name": "stdout",
     "output_type": "stream",
     "text": [
      "[500]\ttrain-rmse:10.33900+0.06141\ttest-rmse:11.80187+0.19516\n"
     ]
    },
    {
     "name": "stdout",
     "output_type": "stream",
     "text": [
      "[543]\ttrain-rmse:10.23464+0.06324\ttest-rmse:11.80180+0.19049\n"
     ]
    },
    {
     "name": "stderr",
     "output_type": "stream",
     "text": [
      "\r",
      " 30%|████████████████████████████████████████████▍                                                                                                       | 3/10 [01:34<03:43, 31.91s/it]"
     ]
    },
    {
     "name": "stdout",
     "output_type": "stream",
     "text": [
      "[0]\ttrain-rmse:17.17963+0.18575\ttest-rmse:17.16784+0.75587\n"
     ]
    },
    {
     "name": "stdout",
     "output_type": "stream",
     "text": [
      "[50]\ttrain-rmse:13.06823+0.12151\ttest-rmse:13.24188+0.63050\n"
     ]
    },
    {
     "name": "stdout",
     "output_type": "stream",
     "text": [
      "[100]\ttrain-rmse:11.94976+0.09920\ttest-rmse:12.28349+0.54057\n"
     ]
    },
    {
     "name": "stdout",
     "output_type": "stream",
     "text": [
      "[150]\ttrain-rmse:11.52657+0.09324\ttest-rmse:12.00903+0.49686\n"
     ]
    },
    {
     "name": "stdout",
     "output_type": "stream",
     "text": [
      "[200]\ttrain-rmse:11.27034+0.08991\ttest-rmse:11.89912+0.47462\n"
     ]
    },
    {
     "name": "stdout",
     "output_type": "stream",
     "text": [
      "[250]\ttrain-rmse:11.06821+0.08734\ttest-rmse:11.84449+0.45903\n"
     ]
    },
    {
     "name": "stdout",
     "output_type": "stream",
     "text": [
      "[300]\ttrain-rmse:10.89576+0.08476\ttest-rmse:11.81744+0.45100\n"
     ]
    },
    {
     "name": "stdout",
     "output_type": "stream",
     "text": [
      "[350]\ttrain-rmse:10.74011+0.08240\ttest-rmse:11.80427+0.44466\n"
     ]
    },
    {
     "name": "stdout",
     "output_type": "stream",
     "text": [
      "[400]\ttrain-rmse:10.59734+0.08062\ttest-rmse:11.79497+0.44202\n"
     ]
    },
    {
     "name": "stdout",
     "output_type": "stream",
     "text": [
      "[450]\ttrain-rmse:10.46222+0.07934\ttest-rmse:11.78767+0.43477\n"
     ]
    },
    {
     "name": "stdout",
     "output_type": "stream",
     "text": [
      "[477]\ttrain-rmse:10.39328+0.07942\ttest-rmse:11.78942+0.43452\n"
     ]
    },
    {
     "name": "stderr",
     "output_type": "stream",
     "text": [
      "\r",
      " 40%|███████████████████████████████████████████████████████████▏                                                                                        | 4/10 [02:04<03:06, 31.00s/it]"
     ]
    },
    {
     "name": "stdout",
     "output_type": "stream",
     "text": [
      "[0]\ttrain-rmse:17.17870+0.17780\ttest-rmse:17.16862+0.72493\n"
     ]
    },
    {
     "name": "stdout",
     "output_type": "stream",
     "text": [
      "[50]\ttrain-rmse:13.05979+0.07467\ttest-rmse:13.24915+0.45400\n"
     ]
    },
    {
     "name": "stdout",
     "output_type": "stream",
     "text": [
      "[100]\ttrain-rmse:11.94518+0.06728\ttest-rmse:12.29215+0.33616\n"
     ]
    },
    {
     "name": "stdout",
     "output_type": "stream",
     "text": [
      "[150]\ttrain-rmse:11.52466+0.06844\ttest-rmse:12.01335+0.30131\n"
     ]
    },
    {
     "name": "stdout",
     "output_type": "stream",
     "text": [
      "[200]\ttrain-rmse:11.27068+0.06701\ttest-rmse:11.90589+0.29168\n"
     ]
    },
    {
     "name": "stdout",
     "output_type": "stream",
     "text": [
      "[250]\ttrain-rmse:11.07150+0.06699\ttest-rmse:11.85121+0.28708\n"
     ]
    },
    {
     "name": "stdout",
     "output_type": "stream",
     "text": [
      "[300]\ttrain-rmse:10.89853+0.06489\ttest-rmse:11.81679+0.28725\n"
     ]
    },
    {
     "name": "stdout",
     "output_type": "stream",
     "text": [
      "[350]\ttrain-rmse:10.74248+0.06636\ttest-rmse:11.80216+0.28465\n"
     ]
    },
    {
     "name": "stdout",
     "output_type": "stream",
     "text": [
      "[400]\ttrain-rmse:10.59934+0.06646\ttest-rmse:11.78921+0.28533\n"
     ]
    },
    {
     "name": "stdout",
     "output_type": "stream",
     "text": [
      "[450]\ttrain-rmse:10.46667+0.06607\ttest-rmse:11.78293+0.28343\n"
     ]
    },
    {
     "name": "stdout",
     "output_type": "stream",
     "text": [
      "[500]\ttrain-rmse:10.33973+0.06639\ttest-rmse:11.77751+0.28269\n"
     ]
    },
    {
     "name": "stdout",
     "output_type": "stream",
     "text": [
      "[529]\ttrain-rmse:10.26927+0.06595\ttest-rmse:11.77735+0.28359\n"
     ]
    },
    {
     "name": "stderr",
     "output_type": "stream",
     "text": [
      "\r",
      " 50%|██████████████████████████████████████████████████████████████████████████                                                                          | 5/10 [02:38<02:40, 32.18s/it]"
     ]
    },
    {
     "name": "stdout",
     "output_type": "stream",
     "text": [
      "[0]\ttrain-rmse:17.18165+0.08730\ttest-rmse:17.18280+0.35336\n"
     ]
    },
    {
     "name": "stdout",
     "output_type": "stream",
     "text": [
      "[50]\ttrain-rmse:13.06802+0.07694\ttest-rmse:13.25211+0.28415\n"
     ]
    },
    {
     "name": "stdout",
     "output_type": "stream",
     "text": [
      "[100]\ttrain-rmse:11.95548+0.08384\ttest-rmse:12.29918+0.30119\n"
     ]
    },
    {
     "name": "stdout",
     "output_type": "stream",
     "text": [
      "[150]\ttrain-rmse:11.53258+0.08076\ttest-rmse:12.02897+0.31666\n"
     ]
    },
    {
     "name": "stdout",
     "output_type": "stream",
     "text": [
      "[200]\ttrain-rmse:11.27369+0.07872\ttest-rmse:11.92008+0.32426\n"
     ]
    },
    {
     "name": "stdout",
     "output_type": "stream",
     "text": [
      "[250]\ttrain-rmse:11.07455+0.07813\ttest-rmse:11.87103+0.32941\n"
     ]
    },
    {
     "name": "stdout",
     "output_type": "stream",
     "text": [
      "[300]\ttrain-rmse:10.89984+0.07444\ttest-rmse:11.83878+0.33634\n"
     ]
    },
    {
     "name": "stdout",
     "output_type": "stream",
     "text": [
      "[350]\ttrain-rmse:10.74516+0.07053\ttest-rmse:11.82167+0.33907\n"
     ]
    },
    {
     "name": "stdout",
     "output_type": "stream",
     "text": [
      "[400]\ttrain-rmse:10.59929+0.06602\ttest-rmse:11.81353+0.33831\n"
     ]
    },
    {
     "name": "stdout",
     "output_type": "stream",
     "text": [
      "[446]\ttrain-rmse:10.47601+0.06134\ttest-rmse:11.81172+0.33665\n"
     ]
    },
    {
     "name": "stderr",
     "output_type": "stream",
     "text": [
      "\r",
      " 60%|████████████████████████████████████████████████████████████████████████████████████████▊                                                           | 6/10 [03:07<02:04, 31.01s/it]"
     ]
    },
    {
     "name": "stdout",
     "output_type": "stream",
     "text": [
      "[0]\ttrain-rmse:17.18066+0.09624\ttest-rmse:17.18032+0.38151\n"
     ]
    },
    {
     "name": "stdout",
     "output_type": "stream",
     "text": [
      "[50]\ttrain-rmse:13.06325+0.04884\ttest-rmse:13.25165+0.25106\n"
     ]
    },
    {
     "name": "stdout",
     "output_type": "stream",
     "text": [
      "[100]\ttrain-rmse:11.94966+0.04649\ttest-rmse:12.29881+0.20983\n"
     ]
    },
    {
     "name": "stdout",
     "output_type": "stream",
     "text": [
      "[150]\ttrain-rmse:11.52997+0.04104\ttest-rmse:12.02337+0.19978\n"
     ]
    },
    {
     "name": "stdout",
     "output_type": "stream",
     "text": [
      "[200]\ttrain-rmse:11.27517+0.03758\ttest-rmse:11.91300+0.19446\n"
     ]
    },
    {
     "name": "stdout",
     "output_type": "stream",
     "text": [
      "[250]\ttrain-rmse:11.07459+0.03359\ttest-rmse:11.85311+0.18910\n"
     ]
    },
    {
     "name": "stdout",
     "output_type": "stream",
     "text": [
      "[300]\ttrain-rmse:10.90218+0.03025\ttest-rmse:11.81749+0.18647\n"
     ]
    },
    {
     "name": "stdout",
     "output_type": "stream",
     "text": [
      "[350]\ttrain-rmse:10.74697+0.02790\ttest-rmse:11.79491+0.18602\n"
     ]
    },
    {
     "name": "stdout",
     "output_type": "stream",
     "text": [
      "[400]\ttrain-rmse:10.60422+0.02570\ttest-rmse:11.78082+0.18141\n"
     ]
    },
    {
     "name": "stdout",
     "output_type": "stream",
     "text": [
      "[450]\ttrain-rmse:10.46969+0.02593\ttest-rmse:11.77245+0.17645\n"
     ]
    },
    {
     "name": "stdout",
     "output_type": "stream",
     "text": [
      "[500]\ttrain-rmse:10.34299+0.02617\ttest-rmse:11.76763+0.17212\n"
     ]
    },
    {
     "name": "stdout",
     "output_type": "stream",
     "text": [
      "[550]\ttrain-rmse:10.22204+0.02580\ttest-rmse:11.76425+0.16832\n"
     ]
    },
    {
     "name": "stdout",
     "output_type": "stream",
     "text": [
      "[600]\ttrain-rmse:10.10581+0.02471\ttest-rmse:11.76634+0.16635\n"
     ]
    },
    {
     "name": "stdout",
     "output_type": "stream",
     "text": [
      "[605]\ttrain-rmse:10.09456+0.02463\ttest-rmse:11.76650+0.16611\n"
     ]
    },
    {
     "name": "stderr",
     "output_type": "stream",
     "text": [
      "\r",
      " 70%|███████████████████████████████████████████████████████████████████████████████████████████████████████▌                                            | 7/10 [03:45<01:40, 33.56s/it]"
     ]
    },
    {
     "name": "stdout",
     "output_type": "stream",
     "text": [
      "[0]\ttrain-rmse:17.18147+0.06415\ttest-rmse:17.18435+0.25839\n"
     ]
    },
    {
     "name": "stdout",
     "output_type": "stream",
     "text": [
      "[50]\ttrain-rmse:13.06131+0.04289\ttest-rmse:13.25818+0.22711\n"
     ]
    },
    {
     "name": "stdout",
     "output_type": "stream",
     "text": [
      "[100]\ttrain-rmse:11.94628+0.04265\ttest-rmse:12.30330+0.20055\n"
     ]
    },
    {
     "name": "stdout",
     "output_type": "stream",
     "text": [
      "[150]\ttrain-rmse:11.52478+0.04054\ttest-rmse:12.02992+0.19260\n"
     ]
    },
    {
     "name": "stdout",
     "output_type": "stream",
     "text": [
      "[200]\ttrain-rmse:11.26988+0.03591\ttest-rmse:11.92235+0.19112\n"
     ]
    },
    {
     "name": "stdout",
     "output_type": "stream",
     "text": [
      "[250]\ttrain-rmse:11.06865+0.03549\ttest-rmse:11.86454+0.19080\n"
     ]
    },
    {
     "name": "stdout",
     "output_type": "stream",
     "text": [
      "[300]\ttrain-rmse:10.89651+0.03770\ttest-rmse:11.83634+0.18828\n"
     ]
    },
    {
     "name": "stdout",
     "output_type": "stream",
     "text": [
      "[350]\ttrain-rmse:10.74217+0.03999\ttest-rmse:11.81545+0.18760\n"
     ]
    },
    {
     "name": "stdout",
     "output_type": "stream",
     "text": [
      "[400]\ttrain-rmse:10.60051+0.04167\ttest-rmse:11.80286+0.18757\n"
     ]
    },
    {
     "name": "stdout",
     "output_type": "stream",
     "text": [
      "[450]\ttrain-rmse:10.46527+0.04270\ttest-rmse:11.79657+0.18490\n"
     ]
    },
    {
     "name": "stdout",
     "output_type": "stream",
     "text": [
      "[500]\ttrain-rmse:10.33891+0.04469\ttest-rmse:11.79201+0.18397\n"
     ]
    },
    {
     "name": "stdout",
     "output_type": "stream",
     "text": [
      "[550]\ttrain-rmse:10.21786+0.04508\ttest-rmse:11.78863+0.18569\n"
     ]
    },
    {
     "name": "stdout",
     "output_type": "stream",
     "text": [
      "[571]\ttrain-rmse:10.16879+0.04529\ttest-rmse:11.78841+0.18634\n"
     ]
    },
    {
     "name": "stderr",
     "output_type": "stream",
     "text": [
      "\r",
      " 80%|██████████████████████████████████████████████████████████████████████████████████████████████████████████████████████▍                             | 8/10 [04:22<01:09, 34.62s/it]"
     ]
    },
    {
     "name": "stdout",
     "output_type": "stream",
     "text": [
      "[0]\ttrain-rmse:17.18041+0.08641\ttest-rmse:17.18083+0.33915\n"
     ]
    },
    {
     "name": "stdout",
     "output_type": "stream",
     "text": [
      "[50]\ttrain-rmse:13.06615+0.08582\ttest-rmse:13.25387+0.38698\n"
     ]
    },
    {
     "name": "stdout",
     "output_type": "stream",
     "text": [
      "[100]\ttrain-rmse:11.95317+0.09277\ttest-rmse:12.30289+0.37587\n"
     ]
    },
    {
     "name": "stdout",
     "output_type": "stream",
     "text": [
      "[150]\ttrain-rmse:11.53253+0.09307\ttest-rmse:12.03109+0.36828\n"
     ]
    },
    {
     "name": "stdout",
     "output_type": "stream",
     "text": [
      "[200]\ttrain-rmse:11.27523+0.09202\ttest-rmse:11.91939+0.36761\n"
     ]
    },
    {
     "name": "stdout",
     "output_type": "stream",
     "text": [
      "[250]\ttrain-rmse:11.07437+0.09196\ttest-rmse:11.86091+0.36132\n"
     ]
    },
    {
     "name": "stdout",
     "output_type": "stream",
     "text": [
      "[300]\ttrain-rmse:10.90269+0.09107\ttest-rmse:11.82887+0.35606\n"
     ]
    },
    {
     "name": "stdout",
     "output_type": "stream",
     "text": [
      "[350]\ttrain-rmse:10.74877+0.08950\ttest-rmse:11.80864+0.35566\n"
     ]
    },
    {
     "name": "stdout",
     "output_type": "stream",
     "text": [
      "[400]\ttrain-rmse:10.60649+0.09083\ttest-rmse:11.79674+0.35714\n"
     ]
    },
    {
     "name": "stdout",
     "output_type": "stream",
     "text": [
      "[450]\ttrain-rmse:10.47273+0.09022\ttest-rmse:11.79079+0.35494\n"
     ]
    },
    {
     "name": "stdout",
     "output_type": "stream",
     "text": [
      "[500]\ttrain-rmse:10.34805+0.08801\ttest-rmse:11.78404+0.35260\n"
     ]
    },
    {
     "name": "stdout",
     "output_type": "stream",
     "text": [
      "[550]\ttrain-rmse:10.22759+0.08629\ttest-rmse:11.78239+0.35263\n"
     ]
    },
    {
     "name": "stdout",
     "output_type": "stream",
     "text": [
      "[554]\ttrain-rmse:10.21773+0.08620\ttest-rmse:11.78220+0.35302\n"
     ]
    },
    {
     "name": "stderr",
     "output_type": "stream",
     "text": [
      "\r",
      " 90%|█████████████████████████████████████████████████████████████████████████████████████████████████████████████████████████████████████▏              | 9/10 [04:58<00:34, 34.91s/it]"
     ]
    },
    {
     "name": "stdout",
     "output_type": "stream",
     "text": [
      "[0]\ttrain-rmse:17.17765+0.27110\ttest-rmse:17.15176+1.04498\n"
     ]
    },
    {
     "name": "stdout",
     "output_type": "stream",
     "text": [
      "[50]\ttrain-rmse:13.06558+0.10582\ttest-rmse:13.25297+0.74353\n"
     ]
    },
    {
     "name": "stdout",
     "output_type": "stream",
     "text": [
      "[100]\ttrain-rmse:11.94722+0.06446\ttest-rmse:12.31402+0.51993\n"
     ]
    },
    {
     "name": "stdout",
     "output_type": "stream",
     "text": [
      "[150]\ttrain-rmse:11.52581+0.05315\ttest-rmse:12.04495+0.40646\n"
     ]
    },
    {
     "name": "stdout",
     "output_type": "stream",
     "text": [
      "[200]\ttrain-rmse:11.26948+0.04915\ttest-rmse:11.94363+0.34937\n"
     ]
    },
    {
     "name": "stdout",
     "output_type": "stream",
     "text": [
      "[250]\ttrain-rmse:11.06847+0.04824\ttest-rmse:11.89006+0.31524\n"
     ]
    },
    {
     "name": "stdout",
     "output_type": "stream",
     "text": [
      "[300]\ttrain-rmse:10.89546+0.04807\ttest-rmse:11.86193+0.29082\n"
     ]
    },
    {
     "name": "stdout",
     "output_type": "stream",
     "text": [
      "[350]\ttrain-rmse:10.74140+0.04755\ttest-rmse:11.84371+0.27329\n"
     ]
    },
    {
     "name": "stdout",
     "output_type": "stream",
     "text": [
      "[400]\ttrain-rmse:10.59755+0.04774\ttest-rmse:11.83604+0.26412\n"
     ]
    },
    {
     "name": "stdout",
     "output_type": "stream",
     "text": [
      "[450]\ttrain-rmse:10.46202+0.04727\ttest-rmse:11.82963+0.25640\n"
     ]
    },
    {
     "name": "stdout",
     "output_type": "stream",
     "text": [
      "[500]\ttrain-rmse:10.33572+0.04619\ttest-rmse:11.82943+0.24959\n"
     ]
    },
    {
     "name": "stdout",
     "output_type": "stream",
     "text": [
      "[501]\ttrain-rmse:10.33321+0.04638\ttest-rmse:11.82927+0.24954\n"
     ]
    },
    {
     "name": "stderr",
     "output_type": "stream",
     "text": [
      "\r",
      "100%|███████████████████████████████████████████████████████████████████████████████████████████████████████████████████████████████████████████████████| 10/10 [05:30<00:00, 34.08s/it]"
     ]
    },
    {
     "name": "stderr",
     "output_type": "stream",
     "text": [
      "\r",
      "100%|███████████████████████████████████████████████████████████████████████████████████████████████████████████████████████████████████████████████████| 10/10 [05:30<00:00, 33.05s/it]"
     ]
    },
    {
     "name": "stderr",
     "output_type": "stream",
     "text": [
      "\n"
     ]
    }
   ],
   "source": [
    "if param.get(\"eval_metric\", \"mae\") == \"rmse\":\n",
    "    score_key = \"test-rmse-mean\"\n",
    "    ylabel = \"Test RMSE Mean\"\n",
    "    title = \"Learning Curve: Test RMSE vs Boosting Rounds\"\n",
    "elif param.get(\"eval_metric\", \"mae\") == \"mae\":\n",
    "    score_key = \"test-mae-mean\"\n",
    "    ylabel = \"Test MAE Mean\"\n",
    "    title = \"Learning Curve: Test MAE vs Boosting Rounds\"\n",
    "elif param.get(\"eval_metric\", \"mae\") == \"logloss\":\n",
    "    score_key = \"test-logloss-mean\"\n",
    "    ylabel = \"Test Logloss Mean\"\n",
    "    title = \"Learning Curve: Test Logloss vs Boosting Rounds\"\n",
    "\n",
    "\n",
    "for i in tqdm(range(repeat_cv), leave=True, dynamic_ncols=True): \n",
    "    cv_result = xgb.cv(\n",
    "        params=param,\n",
    "        dtrain=dtrain,\n",
    "        obj=cauchyobj,\n",
    "        num_boost_round=num_boost_round,\n",
    "        folds=KFold(n_splits=folds_splits, shuffle=True, random_state=i),\n",
    "        early_stopping_rounds=early_stopping_rounds,\n",
    "        verbose_eval=50\n",
    "    )\n",
    "    \"\"\"\n",
    "    train-mae-mean: 各fold における訓練データの MAE の平均値。\n",
    "    train-mae-std: 訓練データの MAE の標準偏差。\n",
    "    test-mae-mean: 各fold における検証データの MAE の平均値。\n",
    "    test-mae-std: 検証データの MAE の標準偏差。\n",
    "    \"\"\"\n",
    "    xgb_cv.append(cv_result)\n",
    "    \n",
    "\n",
    "\n",
    "\n",
    "# 各 repeater ごとの最適ブーストラウンド数と検証MAE\n",
    "iteration_counts = [np.argmin(cv[score_key].values) for cv in xgb_cv]\n",
    "val_mae = [np.min(cv[score_key].values) for cv in xgb_cv]\n",
    "\n",
    "mean_iteration = np.mean(iteration_counts)\n",
    "mean_val_mae = np.mean(val_mae)\n",
    "min_val_mae = np.min(val_mae)\n",
    "results.append(f\"mean_iteration: {mean_iteration}\")\n",
    "results.append(f\"mean_val_{param['eval_metric']}: {mean_val_mae}\")\n",
    "results.append(f\"min_val_{param['eval_metric']}: {min_val_mae}\")\n",
    "results.append(\"\")\n",
    "\n",
    "###\n",
    "plt.figure(figsize=(10, 6))\n",
    "for i, cv_result in enumerate(xgb_cv):\n",
    "    rounds = np.arange(len(cv_result[score_key]))\n",
    "    plt.plot(rounds, cv_result[score_key], label=f\"CV repeater {i+1}\")\n",
    "    \n",
    "plt.xlabel(\"Boosting Round\")\n",
    "plt.ylabel(ylabel)\n",
    "plt.title(title)\n",
    "plt.legend()\n",
    "plt.grid(True)\n",
    "\n",
    "plt.savefig(os.path.join(OUTPUT_PATH, f\"learning_curve_{PREDICT_YEAR}.png\"))\n",
    "plt.close()\n",
    "###\n"
   ]
  },
  {
   "cell_type": "code",
   "execution_count": 22,
   "id": "1cf3f544",
   "metadata": {
    "execution": {
     "iopub.execute_input": "2025-03-12T11:40:21.042206Z",
     "iopub.status.busy": "2025-03-12T11:40:21.042206Z",
     "iopub.status.idle": "2025-03-12T11:40:21.057995Z",
     "shell.execute_reply": "2025-03-12T11:40:21.057995Z"
    },
    "papermill": {
     "duration": 0.034927,
     "end_time": "2025-03-12T11:40:21.061472",
     "exception": false,
     "start_time": "2025-03-12T11:40:21.026545",
     "status": "completed"
    },
    "tags": []
   },
   "outputs": [
    {
     "name": "stdout",
     "output_type": "stream",
     "text": [
      "最適ブーストラウンド数: [507, 513, 519, 452, 505, 421, 581, 547, 530, 476]\n",
      "test-rmse-mean: [11.797023169075711, 11.839204063299913, 11.799956783320798, 11.787423883179198, 11.777127506349181, 11.811428305926764, 11.763277739592379, 11.787722033020493, 11.781796517169866, 11.827469432284177]\n"
     ]
    }
   ],
   "source": [
    "print(\"最適ブーストラウンド数:\", iteration_counts)\n",
    "print(f\"{score_key}:\", val_mae)\n",
    "results.append(f\"最適ブーストラウンド: {iteration_counts}\")\n",
    "results.append(f\"{score_key}: {val_mae}\")\n",
    "results.append(\"\")"
   ]
  },
  {
   "cell_type": "code",
   "execution_count": 23,
   "id": "06bbff04",
   "metadata": {
    "execution": {
     "iopub.execute_input": "2025-03-12T11:40:21.090162Z",
     "iopub.status.busy": "2025-03-12T11:40:21.090162Z",
     "iopub.status.idle": "2025-03-12T11:45:18.110237Z",
     "shell.execute_reply": "2025-03-12T11:45:18.110237Z"
    },
    "papermill": {
     "duration": 297.041388,
     "end_time": "2025-03-12T11:45:18.112241",
     "exception": false,
     "start_time": "2025-03-12T11:40:21.070853",
     "status": "completed"
    },
    "tags": []
   },
   "outputs": [
    {
     "name": "stderr",
     "output_type": "stream",
     "text": [
      "\r",
      "  0%|                                                                                                                                                            | 0/10 [00:00<?, ?it/s]"
     ]
    },
    {
     "name": "stderr",
     "output_type": "stream",
     "text": [
      "C:\\Users\\81809\\AppData\\Local\\Temp\\ipykernel_15008\\3386215446.py:18: FutureWarning: Setting an item of incompatible dtype is deprecated and will raise an error in a future version of pandas. Value '[ 1.93397045e+01 -4.73912811e+00  4.07188356e-01  6.70849895e+00\n",
      " -7.32891941e+00 -2.00010419e+00  7.99825525e+00  8.52853680e+00\n",
      "  5.60247183e-01  9.73725224e+00  6.72081137e+00 -4.91975117e+00\n",
      "  7.02441883e+00  3.29036164e+00 -4.62200832e+00 -1.74803555e+00\n",
      "  4.76740074e+00  9.15852547e+00  2.32056785e+00  2.69921994e+00\n",
      "  4.76811743e+00  3.28215528e+00 -1.73840359e-01  2.06101646e+01\n",
      "  5.76858425e+00  7.88146448e+00 -1.57758510e+00  1.46913710e+01\n",
      "  6.82824612e+00  4.61504030e+00  1.78526103e+00  4.37382877e-01\n",
      " -5.46327877e+00 -2.80475354e+00  1.02925453e+01  5.75337267e+00\n",
      "  5.37419200e-01  1.59299791e+00  1.96242371e+01  9.24787331e+00\n",
      " -7.80390501e+00 -4.12432766e+00 -2.82604957e+00  6.94915676e+00\n",
      " -1.22025023e+01  8.21287537e+00  2.12010241e+00  6.10873079e+00\n",
      "  8.21002388e+00  4.76506615e+00 -1.28252859e+01  4.30979156e+00\n",
      " -1.70001769e+00  2.25379314e+01 -2.28870201e+00  5.12866068e+00\n",
      "  6.45174551e+00 -2.47052097e+00  8.22693920e+00  2.58205533e+00\n",
      " -1.59287381e+00  5.78781557e+00  2.43041801e+00  2.78046918e+00\n",
      "  9.95240307e+00 -6.25821781e+00 -1.45705748e+00  2.38586636e+01\n",
      "  6.44316375e-01  9.13875961e+00  4.12424278e+00 -7.40830517e+00\n",
      " -6.94412804e+00 -2.42661524e+00 -1.83904386e+00  4.15354204e+00\n",
      "  5.03403902e+00  6.33744180e-01  2.63967972e+01 -6.02574158e+00\n",
      "  3.25929189e+00  9.37800503e+00  1.68551579e+01 -5.45491982e+00\n",
      "  4.68886995e+00  6.07646179e+00 -2.44329500e+00 -1.94213414e+00\n",
      "  2.38506718e+01  1.60771255e+01  3.59233260e+00 -4.61410189e+00\n",
      "  6.00732118e-02  2.54105911e+01 -3.58604848e-01  1.76203728e+00\n",
      "  4.44573879e+00  5.19042015e+00  2.66379690e+00 -1.03535872e+01\n",
      " -3.05422783e+00 -3.20421600e+00  9.53458023e+00  5.29305029e+00\n",
      "  2.05002236e+00  1.56160583e+01  2.02419796e+01 -3.77009273e+00\n",
      "  2.00097065e+01  5.84884644e+00  2.04901199e+01 -2.55138707e+00\n",
      " -3.63612032e+00  1.51167889e+01  1.72901669e+01  1.19421558e+01\n",
      " -3.02813864e+00 -7.13717127e+00  1.21328187e+00 -3.80940437e+00\n",
      "  1.25002995e+01  8.14936161e+00 -6.30081511e+00 -2.06801081e+00\n",
      " -1.73397332e-01 -4.24992037e+00  8.07891846e+00 -6.95844698e+00\n",
      " -1.48731890e+01 -1.49571657e+00  5.77564907e+00 -2.95409012e+00\n",
      " -1.88817418e+00 -1.73037004e+00  2.85775013e+01  5.52985620e+00\n",
      "  5.03273249e+00  1.66722417e+00  1.06247940e+01  1.09110394e+01\n",
      "  9.16595554e+00  6.81485033e+00  1.32421684e+01 -1.93208826e+00\n",
      " -1.09029841e+00  1.34948611e+00  2.08749123e+01 -1.79120219e+00\n",
      "  1.18410616e+01 -1.16852112e+01  4.63705826e+00  3.83171582e+00\n",
      "  8.46049595e+00  8.53239059e+00 -2.34133434e+00  9.55365241e-01\n",
      " -2.69199085e+00  7.77455616e+00  8.09010124e+00  1.78165591e+00\n",
      "  1.23706257e+00  8.10981941e+00  4.91098690e+00  2.83161235e+00\n",
      " -2.72978574e-01  2.22401581e+01  3.12471437e+00  5.95153999e+00\n",
      "  2.14634571e+01 -2.53800988e+00  3.78059459e+00 -5.48570752e-01\n",
      " -1.59185100e+00  2.40537241e-01  8.26616669e+00  1.44980116e+01\n",
      " -9.41431522e-01  1.73528900e+01  4.28752089e+00  2.22196198e+00\n",
      "  8.53081322e+00  9.41594064e-01 -6.07816935e-01  3.20748377e+00\n",
      " -4.90213060e+00  6.49730444e+00  2.16651936e+01  1.98013287e+01\n",
      "  1.61561413e+01  6.02126932e+00 -2.77261329e+00  2.83136225e+00\n",
      "  3.82513857e+00 -6.34723902e+00 -1.25838494e+00  1.32245576e+00\n",
      "  5.67294717e-01  8.21507454e+00  2.04104500e+01  2.13221493e+01\n",
      "  3.85580707e+00  1.28970385e+01  5.77394819e+00  5.42396212e+00\n",
      " -4.44849205e+00  1.18231220e+01 -2.19966888e+00  3.57947063e+00\n",
      "  3.77442408e+00 -4.48853910e-01  9.21670628e+00  1.87951927e+01\n",
      "  1.03754091e+01  9.79294491e+00  6.63418472e-01  1.98069859e+01\n",
      "  2.30585694e+00  1.64691079e+00  6.84821606e+00  5.48665571e+00\n",
      "  1.14640970e+01  3.93094373e+00  4.33688116e+00 -4.05156046e-01\n",
      "  6.04867172e+00  5.68801537e-02  7.55116940e+00  1.28198500e+01\n",
      "  1.69131641e+01  1.32457056e+01  8.17119122e+00  1.21558094e+01\n",
      "  9.71870708e+00  1.44673359e+00  1.66767192e+00 -3.38412821e-01\n",
      "  2.33849907e+00  6.08995438e+00  2.55089211e+00  3.10622616e+01\n",
      "  3.31656456e+01 -1.04822006e+01 -7.33235598e+00 -1.24349475e+00\n",
      "  2.17933393e+00  1.06237688e+01  8.07700157e-01  8.11383724e+00\n",
      " -5.34975624e+00  4.04219818e+01  1.72885208e+01 -9.98430103e-02\n",
      "  1.54869413e+00  2.72427788e+01  2.94450092e+00  5.21097422e+00\n",
      "  1.52120752e+01  2.77873802e+00  1.38927937e+01  8.59573364e+00\n",
      "  1.30788479e+01  1.12022076e+01  1.58447676e+01  5.84217501e+00\n",
      "  1.43794823e+01  1.15967655e+01  6.47769976e+00  8.88684559e+00\n",
      " -1.16941767e+01  8.27699089e+00 -2.34090805e+01  1.99633086e+00\n",
      "  2.52175503e+01 -2.68665695e+00  4.24620008e+00  9.83034611e+00\n",
      " -2.14298725e+00  7.18342876e+00  1.36330688e+00  2.85086250e+01\n",
      "  3.70329022e+00  6.76963949e+00  1.62139702e+01  1.10980835e+01\n",
      "  3.70171213e+00  4.10600805e+00  1.51489096e+01  3.64961624e+01\n",
      "  6.53953218e+00  9.93048191e+00  4.28424168e+00  1.01392574e+01\n",
      "  1.72393951e+01  1.06266880e+00  1.27590275e+01  3.26481285e+01\n",
      "  1.39837980e+00  1.38629055e+01 -1.66480207e+00  1.53049278e+01\n",
      "  1.99531765e+01  2.55017877e+00  3.19677486e+01  1.94957237e+01\n",
      "  3.37956848e+01 -1.77481403e+01 -9.34350967e-01  6.65432882e+00\n",
      "  5.57220793e+00  8.24342060e+00  2.86822662e+01  3.68849754e+01\n",
      " -1.66063511e+00  3.75987768e+00  2.24850330e+01  7.12825871e+00\n",
      "  1.81937230e+00  1.47791586e+01 -6.30874932e-01  2.84981632e+01\n",
      "  3.49464760e+01  6.89480209e+00  3.80734673e+01 -2.11119843e+00\n",
      "  7.26306534e+00  2.39568729e+01  1.80936031e+01  2.28011780e+01\n",
      "  2.49829350e+01 -7.19599104e+00  1.06325130e+01  6.33116102e+00\n",
      "  4.04772806e+00  4.02144890e+01  9.93446827e+00  9.24531937e+00\n",
      "  1.80955148e+00  3.59976053e+00  1.89425850e+01 -6.07648230e+00\n",
      "  6.95302546e-01 -3.69946748e-01 -3.94426703e+00 -2.00476963e-02\n",
      " -1.69516411e+01 -1.11104994e+01  3.97492313e+00 -7.39566231e+00\n",
      " -7.11931753e+00 -1.78649368e+01 -2.59807453e+01 -1.85253596e+00\n",
      " -6.65772390e+00  1.87061691e+00  4.31552744e+00 -7.86318064e+00\n",
      " -5.07958937e+00  4.35311413e+00 -1.95508862e+01 -6.71515048e-01\n",
      " -4.57179928e+00 -6.57007694e+00 -9.21775532e+00 -1.96657860e+00\n",
      " -6.53165293e+00 -1.55945897e+00  6.28050518e+00 -5.91584778e+00\n",
      " -1.20636921e+01  2.38827753e+00 -4.43941212e+00 -1.50096407e+01\n",
      " -1.18242273e+01 -4.75170374e+00 -6.06922030e-01  3.65559268e+00\n",
      "  1.43003285e+00 -7.57051373e+00 -9.63679790e+00  3.64900923e+00\n",
      "  3.90515375e+00 -2.25928707e+01  1.11629210e+01  2.68577051e+00\n",
      " -9.05061245e+00  2.78485966e+00 -9.05073071e+00 -4.03911972e+00\n",
      "  2.00707364e+00  1.02470052e+00 -1.81529655e+01 -4.64901352e+00\n",
      " -2.22503319e+01 -8.09781361e+00 -3.57279825e+00 -5.28934574e+00\n",
      " -9.77340317e+00  4.10526133e+00 -5.66125011e+00 -2.91645360e+00\n",
      " -5.16133690e+00 -2.11319757e+00  1.55650544e+00 -3.59718776e+00\n",
      " -1.23925142e+01 -4.60242510e+00  7.65157282e-01 -1.68070374e+01\n",
      " -1.05358572e+01  3.79377747e+00 -1.92076647e+00  5.00371838e+00\n",
      "  8.99854839e-01 -3.21489954e+00 -6.83406496e+00 -1.17481680e+01\n",
      "  8.51133537e+00  3.42398834e+00 -9.82740307e+00 -6.67197895e+00\n",
      "  2.62388992e+00 -5.71296453e+00  2.75099134e+00 -5.08278322e+00\n",
      " -1.64967098e+01 -7.75427461e-01 -1.54447250e+01  3.65172434e+00\n",
      "  2.96755147e+00  1.71064687e+00 -9.83354187e+00 -1.49556713e+01\n",
      " -4.08124733e+00  5.05817032e+00 -9.90767479e+00 -3.67175746e+00\n",
      "  2.42133307e+00 -4.14524937e+00 -2.65645742e+00 -8.61049175e+00\n",
      " -2.34837685e+01 -2.09941883e+01 -2.38786983e+00 -1.95745220e+01\n",
      "  1.18063736e+00  5.37702143e-01 -1.76210194e+01  6.10539722e+00\n",
      " -3.35680366e+00  8.99411583e+00 -8.84183121e+00 -5.99372673e+00\n",
      " -1.45212317e+00 -7.18606472e+00  1.94149053e+00  5.37924099e+00\n",
      " -6.92610931e+00  1.31980634e+00 -6.92001820e+00 -4.34906530e+00\n",
      " -1.13349380e+01  6.00836754e+00 -9.96104717e+00  1.51265550e+00\n",
      " -8.29370689e+00 -2.81961679e+00 -8.38666821e+00 -7.86669922e+00\n",
      " -5.01748466e+00 -1.15752850e+01 -7.72996044e+00 -1.70814629e+01\n",
      "  2.12767053e+00  2.90869665e+00 -9.29583931e+00 -1.39435320e+01\n",
      "  2.31004477e+00  3.98242325e-01  1.47532761e+00  5.85113287e+00\n",
      " -1.24829950e+01 -1.08054161e+01 -2.99416518e+00 -8.91389656e+00\n",
      " -2.75309062e+00 -3.07194948e+00 -5.22884369e+00  7.44267225e+00\n",
      "  2.66586870e-01 -1.17798710e+01  6.04565096e+00 -2.21368623e+00\n",
      "  2.83184838e+00 -3.90712118e+00 -3.48077130e+00 -1.85482807e+01\n",
      " -1.25238428e+01 -7.07861233e+00 -1.14266911e+01 -6.56842422e+00\n",
      " -3.94747329e+00 -3.89025903e+00  6.47482204e+00 -4.47172546e+00\n",
      " -4.37129354e+00 -1.71495640e+00  4.48121834e+00 -2.02209353e+00\n",
      "  4.00342178e+00 -1.16548719e+01 -5.79848433e+00 -2.52629299e+01\n",
      "  3.44121528e+00 -4.27331734e+00 -7.00490189e+00 -2.23227531e-01\n",
      " -1.65222406e+00 -1.92762527e+01  5.50197601e+00 -1.23380690e+01\n",
      " -9.22263920e-01  4.11697960e+00 -2.50840688e+00  6.19326448e+00\n",
      " -2.20086727e+01 -9.04291534e+00 -1.86032927e+00 -5.33701086e+00\n",
      " -1.21436958e+01  5.07432699e-01  7.20434952e+00 -5.07291269e+00\n",
      " -9.34340668e+00 -6.83316422e+00  4.42914438e+00 -1.49630156e+01\n",
      "  3.94558001e+00 -2.15275311e+00 -1.39613018e+01 -4.53419065e+00\n",
      " -2.44950867e+00  1.52099979e+00 -6.26638293e-01  2.34363995e+01\n",
      " -4.50857115e+00 -4.87456703e+00  9.54004574e+00  6.80375338e+00\n",
      " -1.05355339e+01  3.74156952e+00  1.37924635e+00 -9.89373922e-01\n",
      " -5.20001650e+00 -2.21029043e+00 -4.58392650e-01 -7.79969645e+00\n",
      " -2.84855995e+01 -1.71032581e+01 -1.08466063e+01  8.68280315e+00\n",
      "  5.12883472e+00  4.27060890e+00 -1.60261154e+00 -6.78739643e+00\n",
      " -1.91158271e+00 -2.30762935e+00 -5.03744888e+00 -9.37411022e+00\n",
      "  1.98338187e+00  6.74836874e+00 -8.52632713e+00  1.45604336e+00\n",
      " -3.32573814e+01 -2.71833630e+01 -4.62351646e+01 -2.66470470e+01\n",
      " -1.61964626e+01 -1.92142320e+00 -4.12733555e+00  1.20717354e+01\n",
      " -8.06577206e+00 -2.41501961e+01 -2.37338753e+01 -1.49064474e+01\n",
      " -5.10351276e+00 -7.45352697e+00 -4.39136744e+00 -2.02469453e-01\n",
      " -4.02489891e+01 -2.32995915e+00 -1.65338898e+01 -1.04441223e+01\n",
      " -2.53881569e+01 -1.79820461e+01 -9.17642212e+00 -8.64490128e+00\n",
      "  3.74986625e+00  1.00385380e+01 -1.18715990e+00 -2.90034723e+00\n",
      "  4.57198352e-01 -2.47434444e+01  7.58263350e+00 -1.99946232e+01\n",
      " -2.39809494e+01 -5.30632925e+00 -6.81770802e+00  3.75716591e+00\n",
      " -2.35284863e+01 -1.30897007e+01 -1.38159456e+01 -2.93781147e+01\n",
      "  3.42650342e+00 -6.92088699e+00 -1.88148365e+01 -3.63945007e+01\n",
      "  3.00826216e+00  5.97782516e+00 -4.72568989e+00 -2.59982281e+01\n",
      " -1.38266964e+01  2.30159969e+01 -2.31103516e+00 -2.30237999e+01\n",
      " -5.16764402e+00 -1.21405573e+01 -1.31546106e+01 -4.76436806e+00\n",
      " -1.50491488e+00 -3.63375168e+01  9.05818105e-01 -1.02941341e+01\n",
      " -5.49789906e+00 -1.25878410e+01  4.81861544e+00  3.49536633e+00\n",
      " -4.54172516e+01  9.81450856e-01 -7.95584857e-01 -2.87950535e+01\n",
      " -4.01310349e+00 -5.44531202e+00 -1.75478458e+01 -1.27202930e+01\n",
      " -3.20946999e+01 -1.05648623e+01 -6.58511043e-01 -3.32791901e+01\n",
      " -1.63471127e+01  3.06911492e+00 -6.38929176e+00 -2.02170467e+01\n",
      " -3.19533138e+01 -5.10903645e+00 -3.38409119e+01 -2.52407002e+00\n",
      " -2.06330395e+01  1.01010571e+01  7.07138395e+00  1.10787191e+01\n",
      " -2.16508331e+01 -1.54440606e+00  7.62502861e+00 -2.35838246e+00\n",
      "  1.51503074e+00 -6.29679060e+00 -1.93040600e+01 -3.87195444e+00\n",
      "  1.35055742e+01 -6.33588266e+00 -5.00266886e+00  5.99491549e+00\n",
      " -4.27727242e+01  9.27169895e+00 -3.80361023e+01 -4.19889069e+00\n",
      " -2.30036983e+01 -2.56332054e+01 -1.98613586e+01  1.32368517e+01\n",
      " -2.99560928e+01 -2.25448394e+00  1.66537991e+01 -2.44817085e+01\n",
      " -1.70410805e+01 -7.76530600e+00 -2.10531998e+01 -5.96227694e+00\n",
      " -4.74349308e+00 -2.52653432e+00 -1.59096050e+01 -2.13881340e+01\n",
      " -4.40114174e+01 -3.82384586e+00  3.61676717e+00  4.38077497e+00\n",
      " -2.35276928e+01 -2.44241810e+01]' has dtype incompatible with int64, please explicitly cast to a compatible dtype first.\n",
      "  preds[val_index] = model.predict(dval_i)\n"
     ]
    },
    {
     "name": "stderr",
     "output_type": "stream",
     "text": [
      "\r",
      " 10%|██████████████▊                                                                                                                                     | 1/10 [00:30<04:32, 30.30s/it]"
     ]
    },
    {
     "name": "stderr",
     "output_type": "stream",
     "text": [
      "C:\\Users\\81809\\AppData\\Local\\Temp\\ipykernel_15008\\3386215446.py:18: FutureWarning: Setting an item of incompatible dtype is deprecated and will raise an error in a future version of pandas. Value '[-1.08513479e+01  1.17731333e+00  1.62284451e+01 -2.16563320e+00\n",
      "  5.64881134e+00  3.50174952e+00  2.11588612e+01  1.36169786e+01\n",
      "  1.13357401e+01  7.23100996e+00 -3.64128256e+00 -5.19757605e+00\n",
      "  5.81489849e+00 -1.91965616e+00  2.10031586e+01  2.50895095e+00\n",
      "  9.51011562e+00  3.76696563e+00  2.69962692e+00  9.23682117e+00\n",
      "  6.87979650e+00  3.70126486e+00  7.47054577e+00 -8.64462566e+00\n",
      "  1.45875716e+00  7.17792368e+00 -5.39714146e+00  2.48058186e+01\n",
      "  1.47766209e+01 -9.28383648e-01  3.06395864e+00  6.92849112e+00\n",
      " -2.33549619e+00  4.28141737e+00 -4.65932465e+00  7.54653072e+00\n",
      " -6.64798856e-01  2.06030865e+01  1.37477055e+01  1.04118052e+01\n",
      "  1.89003391e+01 -1.17596645e+01  1.70554848e+01  7.97962999e+00\n",
      "  4.53397751e+00  2.20296502e+00  5.56376171e+00 -9.42425132e-01\n",
      "  5.55682373e+00 -3.49165112e-01 -1.73279166e+00  8.36793900e+00\n",
      "  2.49699039e+01  2.52274990e+01  4.49230862e+00  6.72127819e+00\n",
      " -8.32445547e-02  8.41651344e+00  6.16754627e+00  5.32398844e+00\n",
      " -2.97987771e+00  9.73675609e-01 -1.51516807e+00  4.17080784e+00\n",
      "  1.97977734e+01  1.15798655e+01  7.36653388e-01  2.79926033e+01\n",
      "  1.37629452e+01  2.65496135e+00  1.91851864e+01 -7.00938797e+00\n",
      "  1.40504627e+01  5.89831161e+00  2.82058620e+00  3.11903429e+00\n",
      "  1.19053662e+00 -1.77337691e-01  1.75492039e+01  8.80654716e+00\n",
      " -2.14088225e+00  6.38371468e+00 -4.58312941e+00 -1.10003223e+01\n",
      "  1.75760138e+00  9.53916264e+00  9.38000679e+00 -3.00682020e+00\n",
      "  5.07432842e+00  2.71283436e+00 -4.37877703e+00  1.66901474e+01\n",
      " -3.50309110e+00  1.68404350e+01 -3.58394122e+00  1.70871143e+01\n",
      "  3.28548121e+00 -6.03392935e+00  1.08885632e+01  7.50840616e+00\n",
      "  8.67440701e+00  3.52074099e+00 -5.84378242e-01  1.76024723e+01\n",
      " -3.75319099e+00 -3.21967793e+00  1.04972672e+00  1.54310074e+01\n",
      "  1.50016994e+01  1.79224815e+01 -3.07340264e+00  2.35197926e+00\n",
      "  6.96452761e+00  8.57282543e+00 -5.22070217e+00 -9.86286163e+00\n",
      " -7.59370613e+00 -7.29767847e+00  1.42644882e+00  6.02771640e-01\n",
      " -3.48469448e+00 -6.42900050e-01  5.41480684e+00  1.97974765e+00\n",
      "  5.26338339e+00  2.78062725e+01  5.68766403e+00 -7.54348099e-01\n",
      " -8.80939102e+00 -5.65582705e+00  1.23620734e-01  4.64882642e-01\n",
      "  1.97526053e-01 -1.20209587e+00 -4.58302641e+00  8.48944378e+00\n",
      "  4.46994019e+00 -1.97189138e-03  2.20230160e+01  5.33166933e+00\n",
      " -1.27041292e+00 -4.03361291e-01 -8.34689200e-01 -2.03140646e-01\n",
      "  2.21660519e+01 -1.51133466e+00  2.66218615e+00 -7.04660296e-01\n",
      "  3.20689726e+00  5.65508175e+00 -7.32557106e+00  5.38127327e+00\n",
      " -5.37685931e-01 -3.49512672e+00 -5.81763124e+00  5.03359735e-01\n",
      "  2.25843601e+01  2.99970646e+01  8.27510834e+00 -5.11146212e+00\n",
      "  3.57915664e+00 -8.23978335e-02  1.78959637e+01  1.35009241e+01\n",
      "  5.92310476e+00  1.93978996e+01  6.20122480e+00  4.48350573e+00\n",
      "  3.09481716e+00 -2.02433169e-01 -2.90440035e+00  5.09872103e+00\n",
      " -2.75293398e+00  1.18734379e+01 -4.63994169e+00 -1.73433971e+01\n",
      "  2.49224496e+00  2.38056469e+01  2.06567631e+01  3.84897447e+00\n",
      "  6.38885641e+00  2.47965240e+00  3.04192114e+00 -3.94829273e-01\n",
      " -2.46209240e+00  9.78975868e+00  3.05289960e+00  3.66893888e+00\n",
      "  2.52698269e+01  7.57430887e+00 -2.38460922e+00  8.81537628e+00\n",
      "  2.45890865e+01  4.48367214e+00 -8.26351833e+00  5.54086971e+00\n",
      "  2.92498827e+00  4.23370361e+00 -4.24450493e+00 -2.07998443e+00\n",
      " -7.22411728e+00 -3.76130700e+00  9.29665184e+00 -1.33003509e+00\n",
      "  2.70057940e+00  1.84311066e+01 -2.20709991e+00  4.35418606e+00\n",
      " -4.52327585e+00 -9.05773544e+00  1.36365499e+01  2.67079139e+00\n",
      "  2.21752071e+00 -7.93074667e-01  4.44436884e+00 -6.09950840e-01\n",
      "  4.19991016e+00  3.79085970e+00  3.24064970e-01 -2.15256619e+00\n",
      "  1.28543272e+01 -9.97712898e+00  1.60677834e+01  1.27794180e+01\n",
      " -1.93414664e+00  1.17966328e+01  2.22345495e+00  3.73088861e+00\n",
      "  9.07696533e+00  5.28487396e+00  7.73767173e-01  3.18287048e+01\n",
      "  1.70264870e-01  4.59813156e+01  1.60707512e+01  2.69762373e+00\n",
      "  5.09830189e+00  4.63558578e+00  1.98031082e+01  5.29122877e+00\n",
      "  1.22548914e+01  7.39448738e+00 -5.46273804e+00  1.49392309e+01\n",
      "  2.61670704e+01 -1.36566229e+01  8.89116192e+00  2.52515965e+01\n",
      "  3.90746727e+01  3.95879631e+01  4.23798895e+00  1.94440308e+01\n",
      " -2.75135851e+00  2.36107845e+01 -6.09334707e+00  1.80859966e+01\n",
      "  9.75153923e+00 -6.16466427e+00 -1.49837008e+01 -2.85938048e+00\n",
      "  2.98211098e+01 -7.20268965e-01 -1.25388203e+01  1.32347803e+01\n",
      "  2.55777702e+01  3.15660133e+01  1.39344120e+01  8.01958847e+00\n",
      "  4.51975403e+01  2.28893166e+01  1.32371330e+01 -1.91434598e+00\n",
      "  2.79015303e+00  7.37136078e+00  1.96981602e+01 -8.29244900e+00\n",
      "  2.72237892e+01  2.31824074e+01 -2.59821033e+01  6.34691954e+00\n",
      "  9.11178875e+00 -2.53879881e+00  6.75765610e+00  1.78748488e+00\n",
      "  3.04379158e+01 -8.46652222e+00  2.22662201e+01 -7.12726057e-01\n",
      "  1.37873449e+01 -7.45365047e+00  3.04751167e+01 -1.12778209e-01\n",
      "  8.48655987e+00  7.28353834e+00 -6.36797142e+00  3.57340584e+01\n",
      "  1.16416864e+01 -1.02833757e+01 -1.15843642e+00  6.98143625e+00\n",
      "  1.80905666e+01  2.11198187e+00  1.54114656e+01 -5.76418877e+00\n",
      "  6.02147055e+00  2.90214825e+01 -3.95239687e+00  1.86739266e+00\n",
      "  4.75964546e+01 -2.52309585e+00  3.60910034e+00  4.41919422e+00\n",
      "  3.25733900e+00 -1.05548410e+01  3.11430817e+01  6.59809399e+00\n",
      "  3.62761736e+00  2.61078091e+01  5.95898211e-01  1.02031059e+01\n",
      "  8.22448134e-01  9.64587703e-02  5.58289194e+00  6.97501898e+00\n",
      "  8.02663088e-01 -2.51461906e+01 -8.96624660e+00  1.75864010e+01\n",
      " -5.59682655e+00 -2.49839067e+00  2.17954159e+01 -2.42188168e+00\n",
      "  1.41784124e+01 -1.14491291e+01  3.08072414e+01 -2.14889946e+01\n",
      " -4.79216433e+00  1.45308952e+01  1.46508408e+01  8.78030205e+00\n",
      "  1.72404461e+01  3.32414322e+01  9.52992725e+00  1.23783503e+01\n",
      "  1.35368710e+01  4.12275772e+01  2.45768108e+01  2.27726984e+00\n",
      " -2.82554245e+00 -9.68816757e+00 -2.21919537e+00  2.34632263e+01\n",
      "  2.11480751e+01  2.37663879e+01 -1.60599017e+00  1.71112614e+01\n",
      "  8.81968021e+00 -1.25157487e+00 -1.57039957e+01 -1.19970951e+01\n",
      "  6.78265476e+00 -6.00906324e+00  1.49238670e+00 -1.22158737e+01\n",
      " -7.46766853e+00 -9.60890484e+00 -7.38870525e+00  9.74379718e-01\n",
      " -4.61360455e+00 -1.44757223e+00  1.11337566e+00 -2.20277004e+01\n",
      " -4.25742054e+00 -1.33069258e+01 -1.86169338e+00 -1.97366962e+01\n",
      " -4.62267160e+00 -5.32346964e+00  4.61775064e+00 -2.86042857e+00\n",
      " -4.21332550e+00  1.67029992e-01 -6.80907965e+00 -1.37755575e+01\n",
      "  5.94705164e-01 -1.33883924e+01 -9.30243778e+00 -1.22718124e+01\n",
      " -4.23209620e+00 -2.42511272e+01 -4.90890646e+00  3.22374034e+00\n",
      " -1.34767609e+01 -1.08362532e+01 -5.20445395e+00 -6.19284201e+00\n",
      "  6.44731939e-01 -1.92201805e+01 -6.15433979e+00 -2.16540933e+00\n",
      " -2.20751762e+01  2.70752311e+00  1.06444321e+01  3.34902978e+00\n",
      " -1.53122711e+01 -5.08029795e+00  2.98101974e+00  1.88600993e+00\n",
      "  5.05613923e-01 -4.93360472e+00 -1.98520145e+01 -2.24026642e+01\n",
      "  3.79169881e-01 -2.42565422e+01 -2.26551399e+01 -6.79189539e+00\n",
      " -4.97527933e+00 -5.19884920e+00 -3.64756608e+00 -3.77106428e+00\n",
      "  3.42883253e+00 -2.14950538e+00 -8.54917622e+00  1.00096488e+00\n",
      "  2.64510250e+00 -4.35588598e+00 -8.35382462e+00 -2.83011227e+01\n",
      "  6.31004047e+00 -1.42489252e+01 -8.29508972e+00  1.88029659e+00\n",
      " -1.90833664e+01 -6.52873945e+00 -7.95435619e+00 -1.45104980e+01\n",
      " -1.48893070e+01 -2.26081390e+01 -8.91588497e+00 -6.51530981e+00\n",
      "  3.55913711e+00  2.39830518e+00 -9.59097099e+00 -1.09143133e+01\n",
      " -3.70923233e+00 -8.88461494e+00 -7.24924517e+00 -5.13152981e+00\n",
      " -1.25139294e+01 -2.48706508e+00  3.91885519e+00 -1.16237450e+01\n",
      "  3.41453338e+00 -1.77292085e+00 -5.22861910e+00 -1.38629847e+01\n",
      " -4.77743912e+00 -5.22426653e+00  6.23056769e-01 -4.59326887e+00\n",
      " -5.14547729e+00 -2.13432331e+01 -2.46678429e+01 -1.88978329e+01\n",
      " -3.43050933e+00  3.58454347e+00  9.17130053e-01 -1.09933443e+01\n",
      "  2.50668621e+00 -1.71091938e+01  1.86289463e+01 -2.07316113e+01\n",
      "  9.69589293e-01  5.02062702e+00 -1.26839743e+01  1.39053094e+00\n",
      "  5.09138060e+00 -3.74036551e+00 -9.49916649e+00 -7.84747505e+00\n",
      " -1.35880175e+01  4.52801466e-01 -4.72645617e+00 -3.19602275e+00\n",
      " -3.92204881e+00 -3.43485810e-02 -1.38810263e+01 -7.88361835e+00\n",
      " -4.02190179e-01 -1.79411106e+01 -4.07988596e+00 -2.15013847e+01\n",
      "  2.47391462e+00 -6.09402370e+00  1.37710357e+00 -1.04616404e+01\n",
      "  3.61383653e+00 -1.17268734e+01 -1.51490521e+00 -8.31879520e+00\n",
      " -4.14671719e-01  2.68708277e+00 -1.13399725e+01 -3.48840380e+00\n",
      " -9.70037556e+00 -3.46895051e+00  3.23189712e+00 -1.96824777e+00\n",
      " -5.12349486e-01  2.23448110e+00 -2.04158249e+01 -6.44987822e+00\n",
      "  1.00624228e+01 -2.95230217e+01 -1.35702429e+01 -1.78601265e+01\n",
      "  3.74540734e+00 -5.47903967e+00 -1.76393642e+01  7.68262625e-01\n",
      " -3.08423233e+00  2.55291390e+00 -1.67517459e+00 -1.05395484e+00\n",
      " -2.41102390e+01 -2.04007816e+01 -5.54140472e+00 -6.57307768e+00\n",
      " -1.60321636e+01 -2.59769988e+00  1.06086206e+00 -4.45793533e+00\n",
      "  2.89232489e-02 -7.22471952e+00 -3.10803628e+00 -9.94048691e+00\n",
      " -8.35155487e+00 -2.16814861e+01 -1.18876316e-01  5.10409641e+00\n",
      " -1.14461288e+01 -8.65248966e+00 -5.51050615e+00  1.98668563e+00\n",
      " -1.69622631e+01 -3.90736413e+00 -3.29565310e+00 -9.37105656e+00\n",
      " -2.10595341e+01  1.31373949e+01 -2.05288258e+01  1.83810616e+00\n",
      " -5.04865551e+00  3.92009425e+00 -5.12849760e+00  7.07648182e+00\n",
      "  5.63535309e+00 -5.73633337e+00 -1.95235329e+01 -1.31894798e+01\n",
      " -2.56295624e+01 -1.56583223e+01  5.89787388e+00 -2.01743450e+01\n",
      " -1.24103270e+01 -1.20504255e+01 -5.16430759e+00  3.86113453e+00\n",
      " -1.40573227e+00 -2.04426789e+00 -1.70822601e+01 -8.42122459e+00\n",
      "  1.10985839e+00 -3.30010109e+01 -3.24458580e+01 -2.86709843e+01\n",
      " -2.82351804e+00 -7.45039701e-01 -1.23926611e+01  1.25327997e+01\n",
      " -1.70984306e+01 -4.45676756e+00 -1.53425283e+01  1.29785979e+00\n",
      " -1.47179289e+01 -9.71785736e+00 -4.23000450e+01 -1.23278713e+01\n",
      " -2.64046135e+01 -2.09467297e+01 -1.30854998e+01  7.32361984e+00\n",
      " -5.13250494e+00 -4.29601212e+01 -1.84378490e+01 -1.38743973e+01\n",
      " -4.99699926e+00 -1.93850470e+00 -9.33862495e+00 -1.48322570e+00\n",
      " -2.01520252e+01 -1.94569170e+00 -1.72577991e+01 -1.02202044e+01\n",
      "  2.02585697e+00 -1.69687328e+01 -4.48661308e+01  3.70999098e+00\n",
      " -1.42071133e+01 -1.54482489e+01 -2.31899691e+00 -7.97677946e+00\n",
      "  8.39675963e-01  5.83591604e+00 -8.19350243e+00 -2.35682507e+01\n",
      " -1.77281475e+01 -2.46437240e+00 -2.20486999e+00 -4.67692261e+01\n",
      " -4.71815437e-01  7.34368229e+00 -1.54281034e+01  6.44077253e+00\n",
      " -3.38017311e+01 -3.26507950e+00 -1.21550493e+01  6.47252893e+00\n",
      " -6.56260681e+00 -4.48094320e+00 -1.24934225e+01 -3.60009613e+01\n",
      " -1.06171675e+01 -1.89066429e+01 -3.02661972e+01  8.73757935e+00\n",
      " -2.36675568e+01 -2.97940845e+01  2.35826612e+00 -4.90529203e+00\n",
      " -4.46203995e+00 -5.30772209e+00 -1.55339746e+01 -1.09636497e+01\n",
      " -6.81956673e+00 -3.40677214e+00  7.40943611e-01 -1.24645262e+01\n",
      " -1.04074764e+01 -1.61131020e+01 -2.60677109e+01 -2.57327900e+01\n",
      " -7.29669428e+00  2.92111897e+00 -5.14212914e+01  6.65233254e-01\n",
      " -1.97751598e+01 -4.00748711e+01 -3.34849586e+01  5.52679443e+00\n",
      " -2.14130173e+01  1.05352840e+01  1.14471130e+01 -5.21227551e+00\n",
      " -5.81088829e+00 -3.22945747e+01 -2.78425598e+01  1.32147121e+00\n",
      " -2.45489941e+01 -2.33706093e+01 -3.28192749e+01 -8.25107753e-01\n",
      " -1.35491095e+01  1.19968224e+01 -2.54051018e+00 -9.09841824e+00\n",
      " -7.93926811e+00 -8.02975941e+00 -2.30013371e+01 -4.42887259e+00\n",
      " -3.47521678e-02 -5.47022676e+00  3.55332613e+00 -1.93064556e+01\n",
      " -2.60494080e+01 -8.20978642e+00 -1.15552254e+01  7.31803846e+00\n",
      " -2.69041729e+00 -6.13656855e+00  3.30548954e+00 -3.07504101e+01\n",
      " -2.90842915e+01 -7.00910854e+00 -2.69019756e+01  5.83460379e+00\n",
      " -1.11775255e+01 -7.82064915e+00]' has dtype incompatible with int64, please explicitly cast to a compatible dtype first.\n",
      "  preds[val_index] = model.predict(dval_i)\n"
     ]
    },
    {
     "name": "stderr",
     "output_type": "stream",
     "text": [
      "\r",
      " 20%|█████████████████████████████▌                                                                                                                      | 2/10 [01:00<04:01, 30.17s/it]"
     ]
    },
    {
     "name": "stderr",
     "output_type": "stream",
     "text": [
      "C:\\Users\\81809\\AppData\\Local\\Temp\\ipykernel_15008\\3386215446.py:18: FutureWarning: Setting an item of incompatible dtype is deprecated and will raise an error in a future version of pandas. Value '[ 1.60038561e-01  3.82367134e+00 -6.31828499e+00 -4.78134012e+00\n",
      "  8.23806524e-02  7.88691998e+00 -2.11844087e+00  8.07963467e+00\n",
      "  7.86427689e+00  1.72799706e+00 -7.39623070e-01 -3.86955214e+00\n",
      "  2.70168018e+01  2.20291042e+01  5.65100861e+00 -1.05680227e+00\n",
      "  2.45767632e+01  2.50063992e+01  6.75618029e+00  1.00730095e+01\n",
      "  7.01953220e+00 -9.61731625e+00  5.90700579e+00  6.62426949e+00\n",
      "  9.24840641e+00  7.27473259e+00  6.01853466e+00  7.47876453e+00\n",
      " -6.29074478e+00 -4.88608170e+00  8.28585720e+00  7.17054009e-01\n",
      "  5.19008684e+00  1.05575514e+01  2.65430593e+00  2.43568649e+01\n",
      " -1.35256302e+00  2.84711685e+01  4.59032440e+00  5.56309938e+00\n",
      "  4.15109110e+00 -7.88207960e+00  5.58404636e+00  7.68598843e+00\n",
      "  8.70275497e+00  6.38190389e-01 -3.25059032e+00 -5.09963703e+00\n",
      "  7.41533709e+00 -1.18970051e+01  5.13146496e+00  1.50644004e+00\n",
      "  6.82358885e+00  6.57350254e+00 -1.77788317e+00  8.44363785e+00\n",
      " -9.47094500e-01  2.94559240e+00  1.76796703e+01  4.69566870e+00\n",
      "  2.20848141e+01  2.72631049e-01  4.80154276e+00  6.81389093e+00\n",
      "  6.63163614e+00  1.03668222e+01  2.12635112e+00  2.31815386e+00\n",
      "  3.49237657e+00 -5.73956192e-01  2.26708126e+01  7.54876077e-01\n",
      "  5.44725943e+00  1.67172813e+01  4.57939816e+00  1.63018475e+01\n",
      " -9.11637783e+00  1.77291214e+00  4.95695257e+00 -2.13688985e-01\n",
      "  1.28946714e+01  6.01602221e+00  9.40230548e-01  3.93074274e+00\n",
      "  2.71927881e+00  1.41275644e+01 -3.79701495e+00 -6.51641190e-01\n",
      " -4.50657636e-01  1.47556705e+01  5.16554737e+00  2.10967560e+01\n",
      "  9.41042721e-01 -7.97889280e+00  8.47870064e+00  9.44589901e+00\n",
      "  4.11538219e+00 -1.41469860e+00  2.36991978e+00  4.31080437e+00\n",
      " -1.12808965e-01  1.99631557e+01 -3.04136968e+00  9.41095638e+00\n",
      "  1.90103168e+01  7.12272644e-01  2.26034622e+01  5.60686874e+00\n",
      "  5.29704523e+00 -2.30472517e+00  1.00021687e+01 -7.03349018e+00\n",
      " -1.33334267e+00  2.14807630e-01 -2.36771369e+00  3.01743168e-02\n",
      " -6.47995281e+00  5.81357670e+00 -3.63818347e-01  6.68443871e+00\n",
      "  6.80577803e+00  2.55638714e+01  3.59305024e+00  5.01990652e+00\n",
      " -2.10065842e+00  1.71917641e+00  2.24686956e+00 -4.70343620e-01\n",
      "  9.51850414e-01 -8.55388105e-01  7.59209275e-01 -1.61098862e+01\n",
      "  1.33992119e+01  1.25327654e+01  2.31528835e+01 -3.95533538e+00\n",
      " -2.19352230e-01  8.88076019e+00 -6.45200157e+00  4.06498766e+00\n",
      "  8.94634128e-01 -1.69459260e+00  1.59959459e+01  1.55903645e+01\n",
      "  2.26621361e+01  2.54033709e+00 -5.30757666e+00 -1.27263403e+00\n",
      "  5.60254335e+00 -7.30726528e+00  2.68336606e+00  4.21160507e+00\n",
      "  1.20067196e+01 -1.08340859e+00  2.31422348e+01  4.21833611e+00\n",
      "  1.81379044e+00  8.15240383e+00  3.05899525e+01  2.18682410e-03\n",
      " -1.87532425e-01  6.04565763e+00  9.56202507e+00  1.95744693e+00\n",
      "  2.38608290e-02 -1.01399815e+00 -2.03830099e+00  5.22321081e+00\n",
      " -1.24315119e+00  4.53326076e-01  3.72916722e+00  1.11664295e+01\n",
      " -2.15599418e+00 -5.81841803e+00  6.83307934e+00  2.21378174e+01\n",
      "  1.77934952e+01  6.07590294e+00  2.82229900e+00 -5.44457912e-01\n",
      "  7.62781239e+00  3.08460999e+00  9.80178452e+00  6.32249546e+00\n",
      "  3.71167541e+00  2.35482140e+01  4.36371040e+00  1.87791526e+00\n",
      "  2.17256966e+01 -7.73772621e+00  1.34005272e+00  6.89079571e+00\n",
      " -8.90106487e+00  6.05722380e+00  2.12789845e+00 -9.98851490e+00\n",
      "  4.99750471e+00  7.63982153e+00 -1.83004355e+00 -6.20316267e+00\n",
      " -4.44521761e+00  1.02548332e+01 -1.41351378e+00  2.88211370e+00\n",
      " -1.34854662e+00 -9.61310577e+00 -4.96806479e+00 -2.04086494e+00\n",
      "  2.84809704e+01  1.29996023e+01 -4.65135384e+00  1.59560375e+01\n",
      " -1.60562158e+00  9.65401232e-01  5.96237540e-01 -3.14037609e+00\n",
      "  2.39683747e+00  1.93166313e+01  7.06099319e+00  3.66022778e+00\n",
      "  3.07855338e-01  3.34936943e+01  3.01112823e+01  1.16236925e+01\n",
      "  6.73907101e-02  3.22529984e+00  1.16920061e+01 -9.71568871e+00\n",
      "  6.23287249e+00  1.72653599e+01 -3.30992103e+00 -1.56408823e+00\n",
      "  1.49386387e+01  7.92908859e+00  1.11023540e+01  3.77279015e+01\n",
      "  6.28385401e+00  9.79496384e+00 -7.32380533e+00  4.53727770e+00\n",
      "  2.81981812e+01  8.74006271e+00  1.80017395e+01 -3.92238712e+00\n",
      " -1.49187145e+01  8.64412975e+00 -1.22512043e-01  4.18885291e-01\n",
      "  1.93476641e+00  1.06674410e-01  2.26379051e+01  7.28809977e+00\n",
      "  1.77399802e+00  8.98685932e+00  1.38325787e+00  1.10005007e+01\n",
      "  1.46453705e+01  1.79011879e+01  8.16584778e+00  2.51380157e+01\n",
      " -2.53149772e+00  2.88930416e+01  2.62762260e+00  4.82932205e+01\n",
      "  3.04688244e+01 -3.20555258e+00  1.12789774e+01  3.33447418e+01\n",
      "  1.74715252e+01  3.92443013e+00  1.13939657e+01  3.64118271e+01\n",
      "  3.98257256e+01  7.70672417e+00  3.24264488e+01  1.67031145e+00\n",
      "  1.10439491e+01  8.09718513e+00  7.84314251e+00  1.04828386e+01\n",
      "  3.02213955e+01  1.90943217e+00  2.64090614e+01 -5.21514368e+00\n",
      "  3.36159897e+00 -1.22698772e+00  2.49607849e+01  9.46260548e+00\n",
      " -4.69883776e+00  2.87664452e+01  2.31102333e+01  6.13666439e+00\n",
      "  2.81933117e+01  4.80999917e-01 -6.22155571e+00  6.56302977e+00\n",
      "  1.92034206e+01  9.74821746e-01  3.08400536e+01  4.31127663e+01\n",
      "  1.11005116e+01  7.17216587e+00  2.51516228e+01  2.16302567e+01\n",
      " -2.52617645e+00 -1.25794115e+01  3.29670639e+01 -3.09095287e+00\n",
      "  9.97492218e+00 -6.10462284e+00  3.73213463e+01  3.26353111e+01\n",
      "  3.19276619e+01  1.19448423e+00  9.27963161e+00  6.74090576e+00\n",
      "  5.96894407e+00  3.10816250e+01  2.99119091e+00  8.32393551e+00\n",
      "  1.98764420e+01  1.93759747e+01  3.09070158e+00  2.27970910e+00\n",
      " -1.55286970e+01  5.35276222e+00 -1.18258018e+01 -9.90584183e+00\n",
      " -2.73701167e+00  2.39856887e+00 -8.12469292e+00  4.00079775e+00\n",
      " -7.63970852e+00 -5.44973183e+00  4.55459309e+00 -4.20113420e+00\n",
      " -3.77281260e+00 -1.89620423e+00 -5.68936634e+00  1.17223990e+00\n",
      " -2.04885578e+01 -1.00117559e+01 -2.22430038e+01 -4.59988737e+00\n",
      " -4.30358791e+00 -2.60518932e+00 -6.97096348e+00 -2.57306600e+00\n",
      "  6.14972687e+00 -7.16239274e-01  4.90665817e+00 -9.15917575e-01\n",
      " -2.37112522e+01 -1.39656582e+01 -2.74566860e+01 -1.10902061e+01\n",
      " -1.55621119e+01 -3.91403341e+00  5.91296387e+00 -2.75607419e+00\n",
      " -6.06136465e+00 -5.27895117e+00 -8.55083466e+00 -6.08642578e+00\n",
      "  6.33935213e-01 -9.33774090e+00 -1.09747112e+00 -1.79191303e+01\n",
      " -4.06772947e+00 -8.70891035e-01  2.94629741e+00 -6.43382406e+00\n",
      "  2.40117407e+00  3.16170526e+00  3.72264624e+00 -2.60155606e+00\n",
      "  1.21019042e+00 -2.97854710e+00 -1.44034634e+01 -2.16255856e+01\n",
      " -1.18491440e+01  1.04141903e+00  1.53565478e+00 -3.20616674e+00\n",
      "  1.94418144e+00 -1.03504219e+01 -7.70764351e+00 -3.26534152e+00\n",
      "  8.87686431e-01 -5.74318123e+00 -1.78866792e+00 -9.33733463e+00\n",
      " -5.23048115e+00 -1.97882974e+00 -2.03303671e+00 -1.24675064e+01\n",
      " -1.34017467e+01 -5.24839163e-01  3.27760935e+00 -1.37218685e+01\n",
      " -3.26762366e+00 -4.45148516e+00 -1.30325146e+01 -1.04454756e+00\n",
      " -9.21613693e-01 -1.75245991e+01 -1.87506735e+00  4.91451836e+00\n",
      " -1.76855431e+01  5.92657185e+00 -9.82120800e+00 -2.15019059e+00\n",
      " -2.19833965e+01 -8.20368671e+00 -9.77374649e+00 -8.07141209e+00\n",
      " -9.11341381e+00  2.66948432e-01 -4.90971279e+00 -5.04723263e+00\n",
      " -2.94091558e+00 -1.29635038e+01 -1.72325230e+01 -3.17455602e+00\n",
      "  2.61524105e+00 -1.25111876e+01  7.65080214e-01 -9.95054150e+00\n",
      " -4.56758404e+00 -1.77074852e+01 -9.81236994e-01 -3.90777993e+00\n",
      " -1.76237559e+00  1.02154083e+01  3.16527247e+00  9.05013859e-01\n",
      " -3.96444845e+00 -7.38294935e+00 -9.77548122e+00  7.09068328e-02\n",
      " -1.52572918e+00 -4.13798168e-03  1.26147709e+01 -2.55748653e+00\n",
      "  1.19283354e+00 -2.69902229e+01 -1.75942459e+01 -2.95499372e+00\n",
      " -3.72523814e-01 -4.30358791e+00  3.45183086e+00  1.16947389e+00\n",
      " -1.16466169e+01 -7.28396177e+00  1.04855359e+00 -2.11955571e+00\n",
      " -7.95599651e+00  1.84082527e+01  4.93711710e+00  4.14630622e-01\n",
      "  1.11365950e+00 -1.45961351e+01 -1.45269215e+00 -2.16184497e+00\n",
      "  3.21050614e-01  9.51524138e-01 -1.23833113e+01  6.60708904e-01\n",
      "  4.06878424e+00  1.24876661e+01 -1.93616619e+01 -1.63469162e+01\n",
      "  3.51981592e+00  1.60678577e+00 -8.32459259e+00  6.47447014e+00\n",
      "  3.40515226e-01 -1.84264994e+00 -3.45985103e+00  3.35941648e+00\n",
      " -8.33583260e+00 -2.66019535e+00 -2.73786485e-01  2.28514218e+00\n",
      " -1.70892239e+01 -1.63801498e+01 -4.26334190e+00 -3.52750397e+00\n",
      " -1.09314501e+00  1.72826731e+00  1.62936366e+00  5.44469786e+00\n",
      "  1.36094356e+00 -2.28691998e+01 -8.29411507e+00  1.02617302e+01\n",
      " -3.08683434e+01  3.34001732e+00 -2.29149342e+01 -2.28563738e+00\n",
      " -5.52715540e+00  6.11140203e+00 -2.75377321e+00 -8.46537495e+00\n",
      " -2.99670053e+00 -5.52416563e-01  4.58710098e+00 -1.21003044e+00\n",
      " -5.44982481e+00 -1.67055631e+00 -1.81013429e+00 -1.23910322e+01\n",
      " -2.24561768e+01 -1.33320343e+00 -1.20264444e+01 -3.17205596e+00\n",
      " -8.97479534e+00 -3.15048528e+00  7.49400258e-01 -2.31311128e-01\n",
      "  2.15092468e+00 -1.39355886e+00 -2.28601131e+01 -2.16042757e+00\n",
      " -2.19744186e+01 -7.44621754e+00 -4.59996462e+00 -5.30879855e-01\n",
      "  2.73688579e+00 -4.99809790e+00  4.35420179e+00 -1.73755531e+01\n",
      " -5.28896093e-01 -1.41611958e+01  1.10633409e+00 -1.45452201e+00\n",
      " -1.66462059e+01 -1.87754345e+01 -2.16307059e-01 -6.48127270e+00\n",
      " -6.16052485e+00  7.26960516e+00  2.42046380e+00 -5.24200630e+00\n",
      " -1.31383600e+01 -2.60273895e+01 -2.30937405e+01 -1.42895632e+01\n",
      " -7.11965132e+00  2.40117741e+00  3.78708220e+00  6.11475348e-01\n",
      " -2.12222028e+00 -3.28955841e+01 -1.02762442e+01 -1.98189945e+01\n",
      " -1.16995029e+01 -3.18140240e+01 -3.41028671e+01 -2.90690155e+01\n",
      " -2.69672050e+01 -2.95756435e+01 -2.76282811e+00 -2.13722515e+01\n",
      " -3.50837631e+01 -3.85886121e+00  1.39051628e+01 -1.71738281e+01\n",
      " -8.08379650e+00 -2.21977749e+01 -1.39770441e+01 -4.84001446e+00\n",
      " -2.73094521e+01 -4.01118774e+01 -7.48865247e-01 -3.40451813e+01\n",
      " -2.03223495e+01 -1.42335825e+01  4.25134563e+00  7.05809593e+00\n",
      " -4.01213455e+00 -1.86177778e+00  5.48094082e+00 -8.48024368e+00\n",
      "  1.30990133e+01 -1.76341295e+00 -3.14790082e+00 -3.67964439e+01\n",
      " -2.73256397e+01  5.94790125e+00  1.04160082e+00 -1.45825243e+01\n",
      "  9.12861252e+00 -4.35236168e+00 -1.82376137e+01  1.32950020e+00\n",
      " -5.22601557e+00  5.39898205e+00 -1.97249374e+01 -4.54617844e+01\n",
      "  7.08647394e+00  9.05590916e+00 -1.78070908e+01 -2.16894112e+01\n",
      " -3.07804699e+01 -6.58694172e+00  9.52890778e+00  5.18950558e+00\n",
      " -2.58432312e+01  2.41973305e+01 -1.28077149e+00 -7.89235449e+00\n",
      " -2.14413719e+01  3.34676623e+00  1.34260452e+00 -2.80829067e+01\n",
      " -3.05783997e+01 -5.00340700e+00 -1.59989452e+01  2.88718045e-01\n",
      "  5.10907793e+00  1.78644383e+00 -3.31916595e+00 -1.29039025e+00\n",
      " -2.56056252e+01 -1.18093138e+01 -4.89753294e+00  7.44276810e+00\n",
      " -6.65838432e+00  5.65171146e+00 -3.71753960e+01 -2.39601879e+01\n",
      " -3.40122490e+01 -3.07162976e+00 -5.71996307e+00 -2.70086741e+00\n",
      " -1.38898363e+01  1.02401180e+01 -4.01550674e+00 -2.86653404e+01\n",
      " -1.14463053e+01 -1.03415737e+01 -9.73600864e+00 -1.61616364e+01\n",
      " -7.09685612e+00 -2.84914684e+01  9.05332327e-01 -2.96765757e+00\n",
      " -2.06514072e+01 -1.24821484e+00 -1.98724508e+00  3.08025146e+00\n",
      " -1.56878424e+00 -4.65965652e+00  1.02834187e+01  7.37068415e+00\n",
      " -4.93589973e+00 -6.40660906e+00 -5.62083673e+00 -1.40905790e+01\n",
      " -3.62881813e+01  1.48440003e+00 -2.43569870e+01 -1.56376085e+01\n",
      "  1.59764588e+00  1.43969116e+01 -2.61022892e+01 -8.19309294e-01\n",
      "  9.60353470e+00 -3.63287697e+01 -2.96730080e+01 -5.85477114e+00\n",
      " -2.84929142e+01 -9.66073322e+00  5.06195688e+00  5.88711071e+00\n",
      " -7.01303339e+00 -2.10457878e+01 -1.98439560e+01  1.09702711e+01\n",
      " -7.47854757e+00  6.92176962e+00 -4.30572844e+00  9.69174504e-01\n",
      "  8.25767612e+00 -8.24937820e+00 -1.57765341e+00 -1.44426641e+01\n",
      " -7.91918468e+00 -6.53866577e+00 -3.73159456e+00 -1.48810101e+00\n",
      " -2.97243824e+01  1.06367979e+01 -2.06363049e+01 -2.40320244e+01\n",
      "  3.13416982e+00 -2.06482353e+01]' has dtype incompatible with int64, please explicitly cast to a compatible dtype first.\n",
      "  preds[val_index] = model.predict(dval_i)\n"
     ]
    },
    {
     "name": "stderr",
     "output_type": "stream",
     "text": [
      "\r",
      " 30%|████████████████████████████████████████████▍                                                                                                       | 3/10 [01:30<03:32, 30.36s/it]"
     ]
    },
    {
     "name": "stderr",
     "output_type": "stream",
     "text": [
      "C:\\Users\\81809\\AppData\\Local\\Temp\\ipykernel_15008\\3386215446.py:18: FutureWarning: Setting an item of incompatible dtype is deprecated and will raise an error in a future version of pandas. Value '[-1.57864881e+00 -8.86130905e+00  1.46651897e+01  2.25982838e+01\n",
      "  7.77333689e+00  3.45500898e+00 -2.14669251e+00  8.00071597e-01\n",
      " -4.50980234e+00  1.26876342e+00 -7.30170918e+00 -1.26006222e+00\n",
      "  2.14830227e+01 -2.59933877e+00 -8.27564061e-01  2.43243389e+01\n",
      "  9.24064815e-01  3.68805957e+00 -4.15545654e+00 -5.50827980e-01\n",
      " -4.71948624e+00  5.22536516e+00  9.09971523e+00 -7.47204483e-01\n",
      "  4.21443176e+00  3.93916678e+00 -2.18204165e+00 -5.60472012e+00\n",
      "  2.26692319e+00  1.38960896e+01  1.14130175e+00  4.95002413e+00\n",
      "  8.11096287e+00  1.84403396e+00  9.23490334e+00  2.70281887e+00\n",
      "  5.70337057e+00 -6.78126764e+00  4.54136276e+00  3.36539793e+00\n",
      " -7.99351978e+00 -2.77972031e+00  1.92864585e+00  2.05815907e+01\n",
      "  1.52147589e+01  2.65332294e+00  7.93927670e-01 -1.50310528e+00\n",
      " -2.02516723e+00  9.07515621e+00  4.48849154e+00  1.46155381e+00\n",
      " -1.97714150e+00  4.45072985e+00  1.27952547e+01 -2.22297907e+00\n",
      "  2.44610958e+01  4.03352404e+00 -1.88341224e+00  9.68201995e-01\n",
      "  2.28861642e+00 -1.09412682e+00  3.11103630e+00  2.24138927e+01\n",
      " -3.17000818e+00  8.42655849e+00  6.02010822e+00  8.11945617e-01\n",
      "  3.74955535e-02  4.54411697e+00 -2.19581556e+00  3.69924808e+00\n",
      " -9.64233971e+00  1.88065357e+01  7.35444212e+00  1.24222231e+01\n",
      " -2.98583293e+00  5.29427814e+00  1.93841600e+00 -2.54818988e+00\n",
      "  2.71204967e+01  1.11052475e+01 -9.33181286e+00 -4.35280371e+00\n",
      "  2.06487322e+00  1.63973083e+01 -1.69128573e+00  4.61288929e+00\n",
      "  1.50407627e-01  1.23409748e+01  2.59198236e+00 -3.04637861e+00\n",
      "  2.82631350e+00  2.14005623e+01 -1.50291853e+01 -2.30980802e+00\n",
      "  1.05943975e+01  3.85317993e+00  7.42596483e+00  7.75961161e+00\n",
      " -2.07385087e+00  4.39996052e+00  1.58997269e+01  4.88956642e+00\n",
      "  1.21526408e+00  2.80001521e+00  2.21992664e+01 -1.93987763e+00\n",
      "  1.38621216e+01  1.72457523e+01  6.91546583e+00  6.63494730e+00\n",
      "  9.50923443e+00  8.67312813e+00 -4.80434704e+00  7.09447205e-01\n",
      " -2.21292615e+00 -4.70749044e+00  2.09283328e+00  5.71565962e+00\n",
      "  3.28024483e+00  9.40728569e+00 -1.58034408e+00  1.26252642e+01\n",
      " -2.21889925e+00  5.48418617e+00  7.75539732e+00  1.19974136e+00\n",
      " -4.78034830e+00  9.13062000e+00 -2.30109429e+00  2.95503676e-01\n",
      "  2.28425407e+01  8.63402367e+00  2.37864571e+01  6.64614964e+00\n",
      "  7.53605223e+00  2.52950025e+00  7.63457012e+00 -1.12261426e+00\n",
      "  8.16599178e+00 -2.62254834e+00  2.28582058e+01  3.53535414e+00\n",
      " -1.14372072e+01 -1.35459626e+00  1.00404203e+00 -3.96106791e+00\n",
      "  1.23893871e+01  8.10823536e+00 -1.11637526e+01  2.68385619e-01\n",
      "  9.40911007e+00  4.60275316e+00  5.57761335e+00 -2.65451670e+00\n",
      " -1.75692514e-01  8.03869888e-02  1.24761715e+01 -6.24379635e+00\n",
      "  5.72314405e+00 -1.53144951e+01 -3.27029037e+00  5.74105322e-01\n",
      "  1.93405800e+01  3.01262522e+00  1.87986934e+00  8.50415993e+00\n",
      "  4.22102976e+00 -1.02748644e+00  1.17116785e+01 -1.64836764e-01\n",
      "  3.66217256e+00 -3.00406528e+00  2.64668617e+01 -9.36655104e-01\n",
      "  3.70426118e-01  2.17891140e+01 -3.75013280e+00  6.85352564e+00\n",
      "  4.36642551e+00  1.99342811e+00 -5.10384464e+00 -4.49098396e+00\n",
      "  2.75673723e+00  2.35297413e+01  1.53837700e+01  1.55954492e+00\n",
      "  3.83633542e+00  1.30349150e+01 -1.41223419e+00  1.18951521e+01\n",
      " -1.48662663e+00  4.16255379e+00  4.90788841e+00  2.31124759e+00\n",
      "  5.34432507e+00 -3.32140732e+00  1.17932673e+01  1.36316910e+01\n",
      "  2.89663773e+01 -3.66422033e+00 -1.95474505e+00  2.31940556e+00\n",
      "  8.52994633e+00  1.32841034e+01  2.96630478e+00  6.14749575e+00\n",
      "  1.06201220e+00  2.06023550e+00 -4.98153687e+00  3.04994335e+01\n",
      "  7.12568712e+00  7.16230965e+00  2.88403816e+01 -2.31348467e+00\n",
      "  8.77441823e-01  3.55580597e+01  5.68250084e+00 -1.19079008e+01\n",
      "  2.68112888e+01  9.74326134e+00 -5.53789568e+00 -2.56952691e+00\n",
      " -5.86992264e-01  8.05239868e+00  6.74204922e+00  3.36764221e+01\n",
      "  2.50273838e+01  1.48818026e+01  4.07333946e+00  1.87285175e+01\n",
      "  3.29036331e+01  4.89477968e+00  2.89803963e+01  9.01844215e+00\n",
      "  2.42348289e+01  1.64100609e+01  1.36375227e+01  1.69367237e+01\n",
      "  9.17528439e+00  1.65535891e+00  2.89985771e+01  1.20621405e+01\n",
      "  1.40760355e+01  2.53929195e+01  3.09242415e+00  3.13952484e+01\n",
      "  2.36515117e+00  1.72189293e+01  7.30143595e+00  5.94840384e+00\n",
      "  4.16170168e+00  2.28756356e+00  2.99533081e+01  2.95453415e+01\n",
      " -4.48504925e+00 -1.29816198e+01  2.89687500e+01  3.35999632e+00\n",
      "  1.58958378e+01 -7.27809250e-01  2.82607880e+01  2.62351394e+00\n",
      "  1.53703251e+01  3.54284935e+01  2.92144012e+01  2.38821487e+01\n",
      "  1.17363539e+01 -5.27592802e+00  2.88545251e+00  2.97701397e+01\n",
      "  1.23567457e+01  6.52331972e+00  3.45503926e+00  3.58355293e+01\n",
      "  2.36638393e+01  1.03127909e+00  5.85495853e+00  3.46327171e+01\n",
      "  6.09521389e+00  2.16134701e+01 -1.07326431e+01  9.27664375e+00\n",
      "  1.26355686e+01  1.48025045e+01  3.29813118e+01  3.22323265e+01\n",
      "  5.80867863e+00  2.60162563e+01  2.79608994e+01  2.79278679e+01\n",
      " -2.90937567e+00  1.12417917e+01 -1.89640164e+00 -1.51715803e+00\n",
      " -8.72072792e+00  2.22846642e+01 -1.96222477e+01 -6.38066530e+00\n",
      "  1.43422976e+01 -1.58589768e+00  2.34605598e+00 -2.08512902e+00\n",
      "  5.91485357e+00 -1.15224953e+01  1.41165218e+01  4.33395445e-01\n",
      "  8.81768513e+00  2.71024036e+01  3.90515280e+00  6.32885170e+00\n",
      "  1.58171530e+01 -5.05136681e+00  4.65443850e+00 -3.25773787e+00\n",
      "  7.96335602e+00  2.01301079e+01  1.67250137e+01 -1.17016306e+01\n",
      "  2.67154942e+01  1.49029179e+01  1.03828001e+01 -1.13952303e+01\n",
      "  8.75012970e+00  3.09486198e+01  1.40279830e+00  2.38211765e+01\n",
      "  2.37130657e-01  2.17176018e+01  1.78922329e+01  8.67514801e+00\n",
      "  2.73498702e+00 -2.10180588e+01  9.15234470e+00 -5.89415503e+00\n",
      " -8.57127285e+00 -2.00115852e+01 -9.46097088e+00 -7.26973152e+00\n",
      "  2.49107170e+00 -5.87089062e+00 -5.86306477e+00  5.11704159e+00\n",
      " -6.94282389e+00 -7.58359861e+00 -4.28950882e+00  3.65671587e+00\n",
      " -1.42451966e+00 -3.27635378e-01 -5.36926699e+00  8.46470177e-01\n",
      " -2.08364367e+00 -2.17405224e+01 -2.50955868e+01 -1.24763165e+01\n",
      " -2.17876186e+01 -2.55363941e+00 -1.91771543e+00 -2.50980473e+00\n",
      " -5.84046268e+00  3.08877558e-01 -7.78765249e+00 -8.78661919e+00\n",
      " -2.02233486e+01  1.56889319e+00 -7.58088398e+00  1.36992836e+00\n",
      " -7.87669373e+00  1.51043689e+00 -6.40304089e+00 -6.32383966e+00\n",
      "  1.03945374e+00 -1.20958385e+01  6.20619392e+00 -1.06618249e+00\n",
      " -2.19728451e+01 -4.47249699e+00 -5.60755062e+00 -6.16214657e+00\n",
      " -5.93546486e+00 -3.78478956e+00  9.36095238e-01 -4.36171818e+00\n",
      " -3.80034280e+00 -3.52966332e+00 -1.85282383e+01 -2.58789997e+01\n",
      "  5.56418955e-01 -2.58567905e+01 -1.55969276e+01 -7.16849327e+00\n",
      "  5.92985868e-01 -1.28534257e+00 -3.13690543e+00 -8.51421642e+00\n",
      "  1.34801126e+00 -1.54144621e+01  6.30843163e+00  7.03636456e+00\n",
      "  3.46203470e+00 -4.45989370e+00 -2.04457741e+01 -9.15569210e+00\n",
      " -6.00895822e-01 -4.07893229e+00 -1.38573551e+01  2.02598667e+00\n",
      " -2.23937855e+01 -9.42476559e+00 -2.12021408e+01 -2.50909114e+00\n",
      " -1.84529610e+01  2.57504511e+00  2.60901928e+00 -1.10738049e+01\n",
      " -1.47135198e+00 -4.73874187e+00 -1.13235006e+01 -5.81123304e+00\n",
      " -1.38200359e+01 -1.77872238e+01 -1.57542200e+01 -2.65875244e+01\n",
      " -9.72748280e+00 -1.87516384e+01  2.17050958e+00 -7.75652826e-01\n",
      "  1.86484516e+00 -2.26232672e+00  1.06342344e+01 -5.08804846e+00\n",
      " -8.32908332e-01  7.66265035e-01  3.62750649e+00  2.08203506e+00\n",
      " -2.40267372e+01  3.16205239e+00 -2.70610118e+00 -2.00148630e+00\n",
      " -2.68279016e-01 -7.29314804e+00  5.14513540e+00  3.00634885e+00\n",
      " -9.16587412e-01  1.34438157e+00 -1.77148283e+00 -1.46362410e+01\n",
      " -2.42303391e+01  4.69105053e+00 -9.19438362e+00  1.15061438e+00\n",
      " -8.67143059e+00 -1.90933704e+00 -8.06846333e+00 -5.31517506e+00\n",
      " -1.36987054e+00 -8.54745865e+00 -4.96333742e+00 -8.15699959e+00\n",
      " -2.66530824e+00 -1.16787224e+01 -4.06681871e+00  2.76736927e+00\n",
      "  1.51547277e+00  1.30679569e+01 -1.98580570e+01  7.88580704e+00\n",
      " -3.70318103e+00 -6.48546553e+00  1.28397787e+00 -5.69875717e+00\n",
      " -2.43768787e+00 -2.76125121e+00  3.40167642e+00 -1.32450542e+01\n",
      "  3.81107301e-01 -1.12630749e+00 -9.99682999e+00 -3.76755643e+00\n",
      " -3.88500810e+00 -1.26648474e+01  6.67633915e+00 -4.27768850e+00\n",
      " -3.63483524e+00  4.40067148e+00  2.68580532e+00 -1.77196562e+00\n",
      " -8.19648647e+00  1.71100438e-01  5.48873806e+00 -3.92515063e+00\n",
      " -2.00060654e+01 -4.81509304e+00 -1.91480007e+01  1.05956936e+01\n",
      "  7.05029821e+00  2.39220524e+00 -1.19347465e+00 -3.69808221e+00\n",
      " -1.51026335e+01 -2.19956284e+01 -1.43065166e+00 -4.40371799e+00\n",
      " -5.02955914e+00 -5.85919905e+00 -3.54563928e+00 -3.18734789e+00\n",
      " -4.69892788e+00 -1.11983597e+00 -3.27627480e-01 -2.70331364e+01\n",
      " -5.89567661e+00 -2.29967861e+01 -6.63073635e+00 -1.00097551e+01\n",
      " -2.14634399e+01 -2.23383827e+01 -1.68032110e+00  4.38037813e-01\n",
      " -1.58406763e+01 -8.04975510e+00 -4.27086926e+00 -5.28664064e+00\n",
      "  3.14754224e+00 -1.75837574e+01 -4.29016066e+00 -1.32143641e+00\n",
      "  2.73752260e+00 -1.86829591e+00 -9.17274380e+00 -1.49605970e+01\n",
      "  4.63984680e+00 -6.55679226e+00 -1.66829813e+00  1.36839688e-01\n",
      " -3.17208266e+00  4.70752954e+00  4.86762953e+00  1.48309612e+00\n",
      "  2.13685751e+00  2.23519588e+00 -4.47410202e+00 -3.27189732e+00\n",
      " -6.30079365e+00 -9.36969376e+00 -2.60832577e+01  3.26452112e+00\n",
      "  3.06010270e+00 -1.66022472e+01  8.65040493e+00 -2.07618923e+01\n",
      " -1.33005924e+01 -2.16583562e+00 -5.27906132e+00 -1.15493655e+00\n",
      " -1.22207422e+01 -1.86359596e+01 -1.70873809e+00 -8.48523331e+00\n",
      " -4.63355684e+00 -4.35831947e+01  6.28444791e-01  5.75071001e+00\n",
      " -1.95368423e+01  2.63325500e+00 -3.45082741e+01 -3.30762267e+00\n",
      "  1.28530426e+01 -1.06452436e+01 -1.08244076e+01  9.48105621e+00\n",
      " -9.63250923e+00 -2.75108013e+01  1.82063568e+00 -1.20275583e+01\n",
      "  1.17676139e+00 -2.52582188e+01 -6.46149349e+00  1.98903954e+00\n",
      " -1.75966702e+01 -2.38956909e+01  1.08784428e+01  6.52222824e+00\n",
      " -1.72948990e+01  4.87864256e+00  1.21506090e+01 -5.07176733e+00\n",
      " -3.92544250e+01 -2.03177118e+00 -2.30433178e+01 -1.25646477e+01\n",
      " -2.69869003e+01 -3.31209869e+01 -2.72169933e+01 -1.16352129e+01\n",
      " -1.94518313e-01 -2.34180737e+01 -3.16865540e+01  1.58736067e+01\n",
      " -2.17216167e+01 -4.66339540e+00 -2.06499386e+01 -4.51605911e+01\n",
      "  2.83929139e-01 -8.60586739e+00 -9.71026802e+00 -3.50697250e+01\n",
      "  8.83088207e+00 -4.61045504e+00 -2.72120571e+01 -2.54167080e+01\n",
      " -1.76431503e+01  2.49932690e+01 -1.03847706e+00  2.43748522e+00\n",
      " -1.53541336e+01 -3.48981705e+01 -3.20913386e+00 -4.46861496e+01\n",
      " -4.39439583e+00  4.32300186e+00  6.29855776e+00 -3.23893166e+01\n",
      " -1.01329851e+01 -9.68660891e-01 -3.54859772e+01 -1.44050484e+01\n",
      " -1.25482302e+01 -7.02588749e+00  2.76866770e+00 -4.28709106e+01\n",
      "  4.23908263e-01  1.18209333e+01 -7.44558525e+00  3.47122610e-01\n",
      "  5.74345112e-01 -1.57596865e+01  7.92236233e+00 -1.34931622e+01\n",
      " -2.78197975e+01 -9.65066624e+00 -2.04434147e+01 -3.74937210e+01\n",
      " -2.90454006e+00 -1.26571970e+01 -2.04491282e+00 -1.95891647e+01\n",
      " -3.22599831e+01 -2.22250557e+01  7.18674564e+00 -1.28238153e+01\n",
      "  9.26977694e-01 -1.84349136e+01 -2.01086617e+01 -2.52652931e+01\n",
      " -3.03719020e+00 -2.77287979e+01 -3.47184372e+00  2.03963375e+00\n",
      " -9.87306595e+00  1.01765537e+00 -1.88688507e+01 -6.20549297e+00\n",
      " -1.92350235e+01 -2.96766605e+01  1.39227104e+01 -7.68777895e+00\n",
      " -1.12622523e+00 -2.50267744e+00  1.18519056e+00  6.79625452e-01\n",
      "  1.56874955e+00 -7.42314291e+00 -3.01819916e+01 -7.74516392e+00\n",
      " -5.49793005e+00 -2.24152241e+01 -3.72691193e+01 -1.71692222e-01\n",
      "  1.22580023e+01 -1.54030380e+01  1.02578573e+01 -4.91336727e+00\n",
      "  6.60839176e+00 -4.67044497e+00 -1.39231849e+00 -1.02999992e+01\n",
      " -2.75137329e+00 -1.38668375e+01  2.85006499e+00 -2.14050694e+01\n",
      "  4.43953991e+00 -2.74626195e-01 -2.45804596e+01 -2.39016266e+01\n",
      " -2.17494698e+01  3.38798285e+00]' has dtype incompatible with int64, please explicitly cast to a compatible dtype first.\n",
      "  preds[val_index] = model.predict(dval_i)\n"
     ]
    },
    {
     "name": "stderr",
     "output_type": "stream",
     "text": [
      "\r",
      " 40%|███████████████████████████████████████████████████████████▏                                                                                        | 4/10 [01:57<02:53, 28.88s/it]"
     ]
    },
    {
     "name": "stderr",
     "output_type": "stream",
     "text": [
      "C:\\Users\\81809\\AppData\\Local\\Temp\\ipykernel_15008\\3386215446.py:18: FutureWarning: Setting an item of incompatible dtype is deprecated and will raise an error in a future version of pandas. Value '[-4.58154011e+00  2.15960770e+01  1.83578167e+01  1.01447392e+01\n",
      "  6.95643425e+00  5.56920958e+00 -3.42290688e+00 -2.55626488e+00\n",
      "  1.91381133e+00  2.66121578e+01 -5.74403226e-01  3.83595371e+00\n",
      "  1.28897305e+01  1.43934727e+00  2.10679207e+01  9.46229839e+00\n",
      "  3.71424031e+00  1.22743618e+00 -3.98572087e-01  6.91268730e+00\n",
      " -3.66778708e+00  5.38552380e+00  2.99882960e+00  2.87410593e+00\n",
      " -1.45870042e+00  1.69502296e+01 -1.12643528e+00  4.42399788e+00\n",
      " -7.64316320e+00  3.52988815e+00  1.33492527e+01  4.51628494e+00\n",
      " -5.99341059e+00  2.98493695e+00 -2.60677671e+00  3.31415439e+00\n",
      "  7.39704180e+00  9.39245605e+00 -4.09732008e+00 -8.30451584e+00\n",
      " -6.97018206e-01  6.42639923e+00  1.53581276e+01  7.35057497e+00\n",
      "  6.42979956e+00  7.65868616e+00 -7.13767481e+00 -2.09893060e+00\n",
      "  4.35841703e+00 -1.07967167e+01 -9.86245155e-01  6.40721321e+00\n",
      "  2.31447411e+01  2.58267231e+01  5.24867487e+00  6.90273285e+00\n",
      "  2.61797237e+00  3.51335287e+00 -7.77539313e-01  5.90007067e+00\n",
      "  7.57542133e+00 -1.17413950e+00  1.20281124e+00  2.76435781e+00\n",
      "  1.59081030e+00 -1.43947220e+00  1.77872169e+00 -1.95988405e+00\n",
      "  6.67012644e+00  8.76818359e-01  2.70777302e+01  7.79064465e+00\n",
      " -7.87200212e-01  5.96299934e+00 -6.54757595e+00 -1.28862917e-01\n",
      "  9.86983299e+00  9.04123247e-01  1.26608782e+01  2.08410001e+00\n",
      "  1.21338339e+01  1.79821503e+00  2.38159466e+01  1.29221668e+01\n",
      " -5.51450968e+00  1.71928101e+01 -5.39077938e-01  1.13220139e+01\n",
      "  6.64454222e+00  2.39522982e+00  1.24143429e+01 -3.32491708e+00\n",
      "  4.55209732e+00 -8.59591186e-01 -1.26618111e+00 -2.41999149e+00\n",
      "  2.06801167e+01  6.52841687e-01 -9.70014000e+00  1.29840155e+01\n",
      " -2.27209941e-01  2.06924582e+00  4.23388481e+00 -8.88551617e+00\n",
      " -2.94244957e+00  4.70541477e+00  2.16300488e+00  5.37229633e+00\n",
      "  9.64598298e-01 -1.97875309e+00  7.32896996e+00  2.78194356e+00\n",
      "  4.45747423e+00  1.48560569e-01  6.85310841e+00  1.55410814e+01\n",
      "  2.40402298e+01  4.80743694e+00 -1.88857708e+01 -9.73009288e-01\n",
      "  2.62630486e+00  1.52410924e+00  8.40010738e+00  1.26727140e+00\n",
      "  5.26938438e+00  1.13750544e+01 -2.08186460e+00  1.74407120e+01\n",
      "  2.37331562e+01 -3.77682519e+00 -4.34295028e-01  1.90769064e+00\n",
      "  7.59237909e+00  1.56646109e+01 -2.69981289e+00  4.61553621e+00\n",
      "  2.18064523e+00  1.32976806e+00  7.41481972e+00  2.17212181e+01\n",
      "  3.71335602e+00  1.10559788e+01  1.07239752e+01  3.24915028e+00\n",
      "  1.15642900e+01 -1.02441711e+01 -8.96063900e+00  7.06622410e+00\n",
      "  7.71333635e-01 -1.55162883e+00  3.12180018e+00 -3.93952084e+00\n",
      " -1.87144184e+00  4.53237009e+00 -1.10512104e+01  5.03288448e-01\n",
      "  1.11605721e+01 -6.56092823e-01  6.76731157e+00  5.70005608e+00\n",
      "  1.64638436e+00 -5.81654692e+00  1.87431538e+00  7.52014065e+00\n",
      " -1.40761924e+00  3.43366718e+00 -3.62198734e+00  4.86913252e+00\n",
      "  4.48973179e+00  2.42843132e+01 -1.11998761e+00  1.08071852e+01\n",
      " -5.14935160e+00 -1.19510565e+01 -5.43167591e+00  2.26398301e+00\n",
      "  1.15928783e+01  4.01558256e+00  6.30485725e+00  5.28865814e+00\n",
      " -2.41449380e+00 -2.07718325e+00  2.17205143e+01  9.89266205e+00\n",
      "  2.38283424e+01  4.91745186e+00  2.45597497e-01  8.65405941e+00\n",
      " -7.22006893e+00  1.95566058e+00  3.20451927e+00  4.51655006e+00\n",
      " -4.50041234e-01 -5.12612915e+00  3.39107466e+00  8.10195732e+00\n",
      " -3.35110283e+00  1.85695112e+00  1.22370405e+01 -1.22225463e+00\n",
      "  2.20670395e+01  5.16233110e+00  5.89741611e+00  3.40125394e+00\n",
      " -6.70133829e+00 -7.11345911e+00 -1.22063851e+00  8.26067162e+00\n",
      "  5.00347900e+00  2.87431002e+00  3.51364517e+00  2.75798035e+01\n",
      "  1.14366598e+01 -1.76796043e+00  6.39330673e+00  1.32856584e+00\n",
      "  1.11306798e+00  6.14488721e-01 -7.03779554e+00  1.36376834e+00\n",
      " -1.91878426e+00  2.02437139e+00  2.14715981e+00  2.61515117e+00\n",
      "  7.67951775e+00  2.85466695e+00  3.70735264e+00  5.52098227e+00\n",
      "  2.13967667e+01  1.30115881e+01  4.76820660e+00 -3.19733739e+00\n",
      "  2.79144306e+01  8.70091915e+00 -5.62809229e+00 -7.51467466e-01\n",
      "  9.19197083e+00  1.39307833e+01  6.57002497e+00  2.75120697e+01\n",
      "  2.50481606e+01  3.62138939e+01  2.91492009e+00  1.70034237e+01\n",
      "  2.01070499e+01  2.55299358e+01 -2.37856770e+00  2.71295948e+01\n",
      " -6.27291679e+00 -5.07681274e+00  7.51378345e+00  2.03844109e+01\n",
      "  2.38873863e+01  2.58359337e+01  9.93325806e+00  1.55296469e+01\n",
      "  4.03434801e+00 -1.60734406e+01  6.95989311e-01  7.44147730e+00\n",
      "  1.24876699e+01  1.40904493e+01  6.43048334e+00 -5.95416689e+00\n",
      "  2.05441494e+01  1.46193666e+01  7.19464207e+00  4.44181919e+00\n",
      "  1.40406685e+01  1.98038399e+00  1.05168438e+01  4.31469488e+00\n",
      "  3.32251930e+01  6.12229156e+00  4.72769642e+00 -6.38552999e+00\n",
      "  1.50102596e+01 -2.72809868e+01  6.60034084e+00 -2.30238366e+00\n",
      "  8.79562473e+00  2.78431644e+01  7.01346922e+00  1.06773100e+01\n",
      "  2.90412292e+01  3.31793118e+00  2.78840714e+01  1.95277882e+01\n",
      "  2.59957314e-01  3.12153435e+01  3.57835680e-01  1.42991295e+01\n",
      "  3.37109070e+01  1.12138872e+01 -7.98132658e+00  1.13227119e+01\n",
      "  7.64982319e+00 -7.78831100e+00  2.67701015e+01  1.20434437e+01\n",
      "  3.73062744e+01  5.51980877e+00  6.95355129e+00  3.61388168e+01\n",
      "  9.10222411e-01  2.30418530e+01  4.45040464e+00  3.44042206e+01\n",
      "  3.50657129e+00  1.40805883e+01 -1.89613724e+00  3.48827858e+01\n",
      "  1.45432396e+01  3.30550346e+01  6.96665812e+00  2.06528950e+00\n",
      " -4.45567656e+00 -7.19032001e+00  9.30152321e+00 -8.13255787e+00\n",
      "  6.52367353e+00  3.90156975e+01 -7.73788071e+00  2.38393879e+01\n",
      " -8.19831993e-03  6.52689123e+00  5.86645889e+00  4.04715919e+01\n",
      "  1.04893131e+01  1.57268734e+01  6.39290142e+00 -4.51464987e+00\n",
      "  4.13805046e+01 -1.06950293e+01  9.02539349e+00  6.36322975e+00\n",
      "  2.64115124e+01  2.35825157e+01  1.21729059e+01 -9.03034306e+00\n",
      " -5.40292168e+00  1.22943935e+01  1.33374109e+01  8.01021671e+00\n",
      "  3.29640312e+01  1.86179771e+01  5.98073196e+00  3.03765221e+01\n",
      "  7.08757305e+00  4.27216387e+00 -7.34076071e+00  9.61000174e-02\n",
      " -6.21310997e+00 -1.72059650e+01 -2.36465015e+01 -3.43483686e+00\n",
      "  8.24340224e-01  3.29878473e+00  3.81378293e+00  2.54810953e+00\n",
      " -6.35268867e-01 -5.45137739e+00  1.30183244e+00  3.18551493e+00\n",
      " -3.08711553e+00 -5.50401926e+00 -1.23630886e+01 -2.10852575e+00\n",
      " -3.58288860e+00 -6.58628988e+00 -3.71472430e+00 -2.54813805e+01\n",
      " -2.10442963e+01 -2.77045345e+01 -1.84909165e+00 -8.66009998e+00\n",
      " -3.04036021e+00 -6.55691528e+00  1.18412828e+00 -5.03156376e+00\n",
      " -1.81034145e+01 -4.48479080e+00  2.89309716e+00 -1.98882046e+01\n",
      " -8.93260765e+00 -2.92974114e+00  2.10001469e+00  2.48658419e+00\n",
      "  1.17440071e+01 -1.74748764e+01 -6.69457722e+00  2.67530632e+00\n",
      " -6.30558395e+00 -9.63140965e+00 -5.91047812e+00 -2.84174204e+00\n",
      " -3.22057223e+00  1.81105971e+00  1.18632019e+00  6.98065683e-02\n",
      " -2.57957497e+01 -2.18663311e+01 -1.18353558e+01 -1.04668260e+00\n",
      " -2.33994427e+01  2.81869322e-01 -7.25156164e+00 -4.40725327e+00\n",
      " -4.36174679e+00  3.68195677e+00  2.59204984e+00 -2.07651734e+00\n",
      "  1.88989580e+00 -1.87170696e+00 -2.11796045e+00  2.64408278e+00\n",
      " -6.30505705e+00 -1.48137674e+01  6.24446297e+00 -1.58622589e+01\n",
      " -6.75969839e+00 -2.89870238e+00  1.13620472e+00 -9.18558598e+00\n",
      " -3.96192217e+00 -1.96790314e+00 -1.92400131e+01 -3.48527670e+00\n",
      " -8.67830276e+00 -1.06615410e+01 -7.26430714e-01 -8.60014343e+00\n",
      " -6.64395237e+00 -5.52986383e+00 -2.11399364e+00 -5.04874277e+00\n",
      "  8.56387913e-01 -2.40621166e+01  1.58249664e+01  3.62769294e+00\n",
      " -2.85808525e+01 -1.30625477e+01 -3.87341523e+00 -9.28887463e+00\n",
      "  5.01226330e+00  2.72271872e+00 -3.12410140e+00  9.75529432e-01\n",
      "  1.52066755e+00 -3.67820215e+00 -2.51513457e+00 -2.12562599e+01\n",
      "  1.97168672e+00 -1.59243286e+00 -4.33687210e+00 -4.24965191e+00\n",
      " -7.66873884e+00  6.72362185e+00  3.18051839e+00 -1.15569811e+01\n",
      "  5.35704136e+00 -6.95320845e+00 -8.47948742e+00 -1.79435539e+01\n",
      " -2.03944511e+01  5.85307693e+00 -4.58443046e-01 -1.05244579e+01\n",
      "  1.18663823e-02 -1.74535781e-01  4.23687315e+00 -3.00962124e+01\n",
      " -9.15839577e+00  1.60737133e+00 -4.57474995e+00 -3.54739100e-01\n",
      " -1.69055271e+01  5.54173803e+00 -5.49927902e+00  5.39861977e-01\n",
      "  3.14693117e+00 -3.14535236e+00  1.95710170e+00 -2.42906070e+00\n",
      " -1.11554241e+00 -2.10793190e+01  6.29475832e+00 -1.29014091e+01\n",
      " -1.08887606e+01 -5.59586525e+00 -1.99874516e+01 -1.62752934e+01\n",
      " -1.51017237e+00 -1.09228945e+01 -4.34988976e-01 -4.55283833e+00\n",
      " -6.92386103e+00 -4.02214861e+00 -2.45491147e+00  4.12583923e+00\n",
      "  3.38705158e+00 -4.70901203e+00 -4.53055620e+00  1.13669987e+01\n",
      "  1.53120575e+01  4.51592779e+00 -1.24225216e+01 -1.87597980e+01\n",
      " -4.92030811e+00 -4.10615253e+00 -2.28846192e+00 -2.61884308e+00\n",
      " -1.20008898e+00  8.12493324e-01 -6.38106966e+00  4.26399183e+00\n",
      " -4.84286451e+00  1.56483288e+01 -2.73471642e+00 -3.72426939e+00\n",
      " -4.80748987e+00 -3.32886934e+00 -3.47553611e+00  3.55749249e+00\n",
      " -9.13756847e+00 -1.14609604e+01 -9.34868827e-02 -2.97310615e+00\n",
      "  4.68318653e+00 -2.12850437e+01 -6.38929844e+00 -3.91724849e+00\n",
      " -1.41273851e+01 -8.13998318e+00  3.11855040e-02 -2.16576118e+01\n",
      "  1.95627940e+00 -1.34607410e+01 -5.69011831e+00 -7.29110765e+00\n",
      " -5.58623314e+00 -4.82292032e+00 -3.19269562e+00 -2.57150116e+01\n",
      "  4.51191902e+00 -2.02421379e+01  5.51590681e-01  1.28066769e+01\n",
      " -6.50093317e+00 -5.84091711e+00  4.21336460e+00  2.41402045e-01\n",
      "  2.61468196e+00 -4.68886662e+00  2.25466943e+00 -3.22433501e-01\n",
      " -6.98600626e+00 -4.31274772e-01 -8.19743538e+00 -2.89625015e+01\n",
      " -2.44633245e+00 -1.17478724e+01  3.47841740e+00 -6.12511444e+00\n",
      " -2.96628742e+01 -1.09702415e+01 -7.83456993e+00 -1.24744368e+01\n",
      " -1.44816532e+01 -8.23919678e+00 -1.94685135e+01 -1.23628855e+01\n",
      "  5.40819740e+00 -3.78006210e+01  7.55615532e-01  1.30381041e+01\n",
      "  2.93543005e+00 -2.43993130e+01 -6.93719006e+00 -6.83370209e+00\n",
      " -3.85240707e+01 -4.02100067e+01 -7.02218580e+00 -4.54161692e+00\n",
      "  3.50081611e+00 -2.81759148e+01 -1.56533985e+01  5.19222975e+00\n",
      "  2.80997300e+00 -4.33614044e+01  3.96526873e-01 -2.03483849e+01\n",
      " -2.55934486e+01 -1.03746767e+01 -3.39358020e+00 -5.00840843e-01\n",
      " -4.45028067e+00 -1.41374998e+01 -1.91423073e+01 -1.32253275e+01\n",
      " -1.54385233e+01  1.31229293e+00 -1.35554304e+01 -6.73680925e+00\n",
      " -2.16342449e+00 -1.32806263e+01 -8.62132430e-01 -3.51160240e+01\n",
      " -1.30464449e+01 -3.69788361e+00 -2.94254665e+01 -2.02283525e+00\n",
      " -1.95681047e+00 -1.66391850e+01 -1.26358881e+01 -7.19551325e-01\n",
      " -4.85053635e+01  7.39094496e+00 -3.74880886e+00 -1.30995436e+01\n",
      "  4.95706511e+00 -1.43375225e+01  6.06896591e+00  9.70291710e+00\n",
      " -1.28317804e+01 -2.47410202e+00 -1.56090784e+00 -3.76372604e+01\n",
      "  7.25611210e+00 -2.64360065e+01 -5.26161909e+00 -4.79676056e+00\n",
      " -2.08987713e+01 -3.58909492e+01 -4.57409859e+01 -3.80303345e+01\n",
      " -5.34670770e-01  1.20982838e+01 -7.45808029e+00 -4.00011396e+00\n",
      " -5.89164639e+00  1.36529553e+00 -1.23023701e+01 -2.64524388e+00\n",
      "  8.43345451e+00 -8.04251480e+00 -2.87350597e+01 -3.46107750e+01\n",
      " -2.58622913e+01 -6.49729967e+00  2.38479233e+00  2.66171551e+00\n",
      " -2.01544495e+01  1.58590531e+00 -2.06096578e+00 -3.01970882e+01\n",
      " -1.92427864e+01  1.05207939e+01 -1.98951950e+01 -8.85229969e+00\n",
      " -1.18622684e+01  9.66969490e+00 -1.97390709e+01 -2.31022968e+01\n",
      "  7.13169992e-01 -2.44767952e+01 -1.42229719e+01 -6.54766440e-01\n",
      " -2.87076149e+01 -2.14287758e+01 -7.65422821e+00  9.24007034e+00\n",
      " -4.23322868e+00  1.70071411e+00 -1.63217297e+01 -1.23895750e+01\n",
      " -4.24596834e+00 -2.49860744e+01  5.29377699e+00 -1.45578785e+01\n",
      " -1.00106239e+01 -1.87890205e+01  7.85938787e+00  3.83038616e+00\n",
      " -3.09476547e+01 -1.65637856e+01 -7.08782864e+00 -8.31419659e+00\n",
      " -1.99510326e+01 -2.42362385e+01 -1.84840355e+01  7.77382183e+00\n",
      " -2.87988453e+01 -2.64576397e+01 -9.08229291e-01 -2.58742619e+00\n",
      " -9.55079651e+00 -8.41303635e+00]' has dtype incompatible with int64, please explicitly cast to a compatible dtype first.\n",
      "  preds[val_index] = model.predict(dval_i)\n"
     ]
    },
    {
     "name": "stderr",
     "output_type": "stream",
     "text": [
      "\r",
      " 50%|██████████████████████████████████████████████████████████████████████████                                                                          | 5/10 [02:27<02:25, 29.17s/it]"
     ]
    },
    {
     "name": "stderr",
     "output_type": "stream",
     "text": [
      "C:\\Users\\81809\\AppData\\Local\\Temp\\ipykernel_15008\\3386215446.py:18: FutureWarning: Setting an item of incompatible dtype is deprecated and will raise an error in a future version of pandas. Value '[-2.57402629e-01  1.61117625e+00  1.66199322e+01  1.67355518e+01\n",
      "  2.64849567e+00 -1.69222331e+00  2.47798443e+01  1.95089710e+00\n",
      "  2.41110477e+01  3.45301318e+00  4.93361902e+00  2.13879185e+01\n",
      "  6.02929449e+00  8.90458822e-01 -9.12964058e+00  5.91266775e+00\n",
      "  1.11197686e+00  2.07445219e-01 -4.11719561e+00 -2.97651458e+00\n",
      "  2.71500921e+00  2.52588348e+01  2.76775475e+01  1.41278639e+01\n",
      "  8.06282806e+00  3.20891762e+00 -2.34175706e+00  7.43110132e+00\n",
      "  4.54441166e+00 -9.71609235e-01 -1.89575422e+00  4.11902475e+00\n",
      "  2.25672197e+00  4.72489738e+00  1.45136328e+01  1.00357127e+00\n",
      "  1.80305920e+01  5.84746075e+00  2.17971373e+00 -8.26174319e-02\n",
      "  8.24009991e+00 -5.14449215e+00 -1.00889549e+01  1.57858105e+01\n",
      "  5.98647118e+00  6.33633327e+00  1.04914904e+00  5.07968950e+00\n",
      " -1.47790658e+00 -2.89230514e+00  8.50535011e+00  1.38748512e+01\n",
      "  3.60247540e+00  1.63670387e+01 -6.11605942e-01  6.45460892e+00\n",
      "  2.35604048e+00  3.49158525e+00  5.65425253e+00  6.60759115e+00\n",
      "  4.65130901e+00 -9.15295303e-01  9.93875885e+00 -9.74845469e-01\n",
      " -1.22901678e+00  1.76809425e+01  7.71464634e+00  1.14856997e+01\n",
      "  3.59873533e+00 -8.13832951e+00  1.15303984e+01  1.06618824e+01\n",
      "  4.61684322e+00  1.25950170e+00  4.13476324e+00  2.41767635e+01\n",
      "  8.87530136e+00  2.39011822e+01 -9.56497312e-01  7.98711681e+00\n",
      "  8.49998569e+00  2.94592440e-01  3.79151726e+00  6.26565075e+00\n",
      "  1.27424059e+01  4.57170105e+00 -1.92807531e+00  4.75201797e+00\n",
      "  1.83116131e+01 -3.59374928e+00 -3.37414980e+00 -2.59546232e+00\n",
      "  2.64342709e+01 -9.46311772e-01  1.92273521e+01  7.94411242e-01\n",
      "  3.70485377e+00  2.17290854e+00  1.65513000e+01 -2.91380835e+00\n",
      "  8.44691944e+00  1.82723370e+01 -4.19059515e+00  1.09127264e+01\n",
      "  1.10631762e+01 -6.76165104e+00 -5.37115526e+00  7.32708693e+00\n",
      " -1.65248814e+01 -1.80975950e+00 -2.80353451e+00  2.88640785e+01\n",
      "  1.68778572e+01  4.33038139e+00  1.02681036e+01  8.77962685e+00\n",
      "  1.84852066e+01  1.14520395e+00  9.76102638e+00  5.38050222e+00\n",
      " -3.82925689e-01  7.14001513e+00 -1.58465147e+00  3.75264764e+00\n",
      "  4.11102581e+00  4.00770140e+00 -5.36811233e-01  2.97103157e+01\n",
      "  1.68116970e+01 -1.25634222e+01 -7.29909658e+00  1.66647186e+01\n",
      " -1.49414515e+00  4.35912085e+00  6.80537641e-01  6.19190454e+00\n",
      " -2.44798470e+00  1.52732553e+01  1.26832962e+01 -8.31688404e-01\n",
      " -5.77117586e+00  1.86477604e+01  1.58170471e+01  2.32090054e+01\n",
      "  3.47652888e+00  1.19265728e+01  5.52788019e+00 -4.35499144e+00\n",
      "  5.06935453e+00  6.27662849e+00 -3.71070409e+00  5.84783697e+00\n",
      "  3.05651808e+00  9.70005751e-01  7.96557739e-02  1.54749022e+01\n",
      " -1.62803936e+01  3.79472899e+00  4.13865614e+00  6.16908455e+00\n",
      "  9.87770438e-01  1.19830151e+01  4.02030516e+00  6.71589041e+00\n",
      "  2.67332363e+00 -2.56341457e+00  1.76368284e+00  1.43456506e-03\n",
      " -1.31957769e+00  4.99828243e+00  5.18474245e+00  9.43235683e+00\n",
      " -4.49079418e+00  4.95787621e+00  1.75030861e+01  5.58698034e+00\n",
      "  1.08421879e+01  7.85887194e+00  2.42064171e+01  2.22310295e+01\n",
      "  2.07685165e+01  2.47233868e+01  1.33564796e+01  5.03664207e+00\n",
      " -6.85667098e-02  5.52415180e+00  5.02419901e+00  3.63761163e+00\n",
      "  3.99226165e+00  9.74735737e+00  3.52420688e+00  9.67121887e+00\n",
      "  2.34131050e+01  7.33299112e+00  2.56015134e+00 -9.75102663e-01\n",
      "  5.37055206e+00  3.00929475e+00 -2.77582455e+00  2.73748231e+00\n",
      " -4.63397413e-01  5.24730301e+00  2.84764576e+01  8.89103222e+00\n",
      "  1.18326359e+01  2.04973698e+01 -1.11852837e+00  1.22531118e+01\n",
      "  1.33314943e+00  7.13372469e+00 -6.98904848e+00 -3.83672309e+00\n",
      "  2.62169342e+01  2.29569187e+01  7.07605934e+00  1.21594534e+01\n",
      "  2.01471233e+00  9.30265617e+00  1.14548969e+01 -1.50864482e+00\n",
      " -5.38594961e+00  5.51327181e+00 -2.89088815e-01  3.88384247e+00\n",
      " -1.30837047e+00 -3.87369561e+00  2.13738608e+00  4.89033604e+00\n",
      "  5.53395450e-01  7.58903086e-01  3.41803436e+01  4.08126450e+00\n",
      " -5.87041759e+00  1.76409588e+01  2.49511833e+01  2.20896988e+01\n",
      "  6.98707247e+00  3.41604843e+01  2.71444111e+01  3.42102394e+01\n",
      "  1.67041798e+01  2.07320805e+01 -5.66925430e+00  7.95915425e-01\n",
      "  1.37697935e+01  8.58107853e+00 -1.64735651e+00  9.54812622e+00\n",
      "  2.46804123e+01  3.62432137e+01  3.30328255e+01  1.14536457e+01\n",
      "  1.53759689e+01  2.51365685e+00  1.46056747e+00  1.59933538e+01\n",
      " -2.30826569e+00  1.57202873e+01  8.27554417e+00 -3.51221204e+00\n",
      "  2.25230904e+01  1.77860832e+01  4.02276039e+01 -1.83245790e+00\n",
      " -3.40059543e+00  4.28908396e+00 -2.94117808e+00 -6.24483442e+00\n",
      "  3.57448292e+00 -8.14284325e+00  1.11448231e+01  2.32188034e+01\n",
      "  2.76006927e+01 -4.11672497e+00  3.31336451e+00  1.40957842e+01\n",
      "  2.37074280e+00  8.47608376e+00  4.53650665e+00  7.03806305e+00\n",
      "  1.09542866e+01  1.32257557e+01  2.24686203e+01  1.98689723e+00\n",
      "  4.14718933e+01 -7.54897118e-01  2.96607780e+00  2.49206972e+00\n",
      "  1.45582266e+01  9.75602818e+00  3.03998733e+00  5.26083612e+00\n",
      "  4.70317459e+01 -2.35943961e+00  1.95438156e+01  3.10815773e+01\n",
      "  2.10655546e+00 -5.21244574e+00  1.23347263e+01  1.92790813e+01\n",
      "  4.30644178e+00  5.37989664e+00  4.56207323e+00  2.74890823e+01\n",
      " -1.94762242e+00  4.37009856e-02 -8.40067577e+00  1.49807549e+01\n",
      "  6.48122501e+00  1.36808825e+00  9.85407829e+00  2.89811211e+01\n",
      "  2.08209610e+00  7.81898308e+00 -8.14610004e+00  2.77257252e+01\n",
      " -8.03992271e+00 -7.62462735e-01  1.56252813e+01  1.34323416e+01\n",
      " -7.14095688e+00  9.38586617e+00  2.97776852e+01  3.99828606e+01\n",
      "  3.02547741e+01  2.52943182e+00  1.62850513e+01  4.01909790e+01\n",
      "  7.86101007e+00  1.64640617e+01 -1.10256851e+00  2.19321442e+01\n",
      "  3.35481334e+00  5.67518997e+00  1.69376409e+00 -1.87543070e+00\n",
      "  2.23053098e+00 -8.69415951e+00 -6.75701475e+00 -1.01687300e+00\n",
      "  4.12878466e+00 -2.96190357e+00  6.15356302e+00  2.22155881e+00\n",
      " -2.17803497e+01 -6.20800591e+00 -2.34095001e+01 -8.78674090e-01\n",
      " -7.88486099e+00 -5.85669279e+00 -4.63248920e+00 -5.46941471e+00\n",
      " -1.04006612e+00  4.07223892e+00 -1.07668276e+01 -1.37861156e+01\n",
      " -2.79882469e+01 -2.06790237e+01 -4.35755444e+00  6.02335930e+00\n",
      " -7.27746439e+00  2.42538810e+00 -9.04483604e+00 -9.87740803e+00\n",
      " -2.21205730e+01 -2.19734840e+01  2.16676593e+00 -5.79451323e+00\n",
      " -2.30479527e+01 -7.62260532e+00 -6.40634203e+00 -7.22367239e+00\n",
      "  1.40841663e+00 -1.53319912e+01 -3.30881214e+00  2.64322686e+00\n",
      "  1.09067698e+01 -3.78149557e+00 -2.24836993e+00 -9.11018562e+00\n",
      " -2.56918359e+00 -1.39155006e+01 -5.65952730e+00 -4.34335661e+00\n",
      " -2.71087766e+00 -5.53292418e+00 -1.09921017e+01 -7.72283125e+00\n",
      " -1.21218081e+01 -1.53482656e+01 -3.75384450e+00  8.42151833e+00\n",
      " -7.70385563e-01 -1.80960064e+01 -1.47494097e+01 -4.24818039e+00\n",
      "  3.47438622e+00 -2.58769951e+01 -1.96109581e+01 -1.91481018e+00\n",
      "  2.76522565e+00  3.69119215e+00 -2.29551105e+01  1.12649024e+00\n",
      " -4.28572536e-01 -9.08314323e+00  8.72474253e-01 -2.29343724e+00\n",
      " -4.66231251e+00  4.52131414e+00 -4.05744219e+00 -2.30419183e+00\n",
      "  1.92585862e+00 -1.43176246e+00  1.72692752e+00 -6.41338968e+00\n",
      " -2.15438485e+00 -1.00184631e+01 -4.12764311e+00 -1.19587505e+00\n",
      "  3.02684927e+00 -3.81236672e+00 -1.04296303e+00 -1.31816471e+00\n",
      " -1.70848095e+00 -1.65940323e+01 -4.08154154e+00 -8.12958813e+00\n",
      " -5.24795103e+00 -4.76709604e-01  1.08046901e+00  2.34047055e+00\n",
      " -1.91935873e+00 -2.89830160e+00 -8.66109562e+00 -7.05438852e-01\n",
      "  6.11493349e+00 -6.79911423e+00  5.57412672e+00 -3.37697124e+00\n",
      " -3.09453011e+01  3.70345807e+00  7.35715210e-01 -7.98657036e+00\n",
      " -2.31796722e+01  6.94115639e+00 -1.19481220e+01 -6.16580069e-01\n",
      "  4.70514059e+00 -3.28713107e+00 -7.12211180e+00  1.85471070e+00\n",
      "  3.95962209e-01 -1.09787245e+01  2.50017047e+00 -1.58207359e+01\n",
      " -1.64666998e+00  2.76522708e+00 -8.14178848e+00  2.81475997e+00\n",
      "  3.43885636e+00 -8.16601813e-01 -2.31226778e+00  5.88817739e+00\n",
      " -1.86386337e+01  1.55542994e+00 -1.03565941e+01 -4.34772062e+00\n",
      " -1.18227978e+01 -2.20988808e+01 -2.43488216e+01 -6.00591469e+00\n",
      " -2.00176072e+00 -4.79596043e+00 -1.64691734e+00 -4.78964663e+00\n",
      "  4.88420677e+00  1.64093745e+00 -5.50679207e+00  1.42888794e+01\n",
      " -1.97970581e+01 -1.00187197e+01 -3.38806772e+00 -9.90869331e+00\n",
      " -1.90911827e+01 -9.25736713e+00 -1.95835819e+01 -1.90691242e+01\n",
      " -8.62167716e-01 -2.87508941e+00 -1.40190637e+00  1.34344637e+00\n",
      "  4.11512470e+00 -2.68330116e+01 -2.45600357e+01 -5.79850388e+00\n",
      "  1.71690540e+01  1.09358339e+01 -2.02467823e+00 -2.02264290e+01\n",
      " -3.04523754e+00 -1.10747671e+01 -7.51857853e+00 -3.42058206e+00\n",
      " -2.94375324e+00 -2.39111018e+00  2.14269090e+00 -2.31088047e+01\n",
      " -1.34939880e+01 -9.56114388e+00  1.64750278e+00  5.63250923e+00\n",
      " -4.73740005e+00 -2.49562645e+00  8.52194190e-01 -6.55788720e-01\n",
      " -1.57108593e+01 -1.59493315e+00 -8.79897213e+00 -4.45768690e+00\n",
      " -1.02153578e+01 -1.84969540e+01  1.91893446e+00  5.07632971e+00\n",
      " -4.05941391e+00  6.40147626e-01  2.32428598e+00 -1.11566567e+00\n",
      "  1.54531315e-01 -9.02328849e-01 -2.75598145e+01 -7.89680862e+00\n",
      " -2.08135128e+01  2.83506203e+00 -2.75385971e+01  2.78385186e+00\n",
      " -1.61062489e+01  6.76823556e-01 -1.17372096e+00 -6.53741693e+00\n",
      " -7.80247784e+00 -8.30356777e-01 -3.49934268e+00 -1.28560877e+01\n",
      "  9.36502934e+00  4.18381310e+00 -3.80366015e+00 -1.01472063e+01\n",
      " -3.31728401e+01 -3.83900619e+00 -3.55519066e+01  1.97002935e+00\n",
      " -3.00467415e+01  3.17842674e+00 -2.11881866e+01 -2.58587666e+01\n",
      " -3.83371592e+00 -7.40868759e+00 -3.28360684e-02 -3.41120005e-01\n",
      "  9.19579220e+00  3.27749252e+00  6.00571394e-01 -9.31275487e-01\n",
      " -4.67925167e+00 -1.06341772e+01 -3.12728710e+01 -2.91507645e+01\n",
      " -1.28745441e+01 -1.93712635e+01 -1.34244013e+01 -6.85786867e+00\n",
      " -2.83769321e+01 -2.75089226e+01 -2.22742634e+01 -2.48494205e+01\n",
      " -4.71147537e+00 -3.00384159e+01 -1.61646385e+01  1.12069139e+01\n",
      "  2.38450885e+00 -1.98682773e+00 -2.93684654e+01 -1.79318041e-01\n",
      " -6.36604965e-01 -8.80100536e+00 -5.06764472e-01 -4.56817865e+00\n",
      " -5.21080637e+00 -2.32228279e+01 -1.87458057e+01  1.00138187e+00\n",
      " -1.46783047e+01 -6.23875713e+00  6.12338638e+00  6.59749937e+00\n",
      " -1.65503120e+01  7.99513435e+00 -3.40710402e+00 -1.33444643e+00\n",
      " -1.30931559e+01 -4.30773659e+01 -1.09374180e+01 -5.09508181e+00\n",
      " -3.87895775e+00 -7.33558178e+00 -2.73855419e+01 -1.53422594e+01\n",
      " -1.91211128e+01 -1.95694065e+00  1.01420927e+00 -6.91181993e+00\n",
      " -2.17057972e+01  7.27458334e+00 -2.58601904e+00 -2.18388844e+00\n",
      " -4.62354279e+01  5.33296251e+00 -8.58002186e+00  6.32562590e+00\n",
      " -3.21399460e+01 -1.68036823e+01 -6.40632153e+00 -1.12706127e+01\n",
      " -1.55175638e+00 -5.97980857e-01 -1.83549798e+00 -9.41289043e+00\n",
      "  1.89625287e+00 -3.73804512e+01 -3.19960289e+01 -1.25719652e+01\n",
      " -2.14342490e-01 -2.67817664e+00 -6.44465446e+00 -1.62247868e+01\n",
      " -1.24755402e+01 -1.42702150e+01 -9.72055149e+00 -7.23486125e-01\n",
      " -3.52120328e+00 -1.28837671e+01 -1.40466899e-01 -4.76846743e+00\n",
      " -2.75200634e+01 -2.11894536e+00 -1.11272945e+01 -1.89930210e+01\n",
      " -3.92742729e+01 -1.38153160e+00 -3.74693179e+00 -3.13147144e+01\n",
      " -4.88715935e+00  9.00269318e+00 -6.08336210e+00  1.86976719e+01\n",
      " -5.21541595e+00 -2.96934166e+01 -1.53217020e+01 -2.13812542e+00\n",
      " -6.07490826e+00 -5.01164579e+00 -8.61644596e-02 -3.73615479e+00\n",
      " -3.05876560e+01  6.73130035e+00 -3.61116791e+01 -8.63945484e+00\n",
      " -2.06840439e+01 -5.55027628e+00 -4.12388763e+01 -1.44322109e+01\n",
      " -1.08391666e+00 -1.62085664e+00 -5.66479445e+00 -2.88433208e+01\n",
      " -1.88791049e+00 -6.92292404e+00 -1.13946390e+01  1.92978401e+01\n",
      "  5.70269537e+00 -1.22875605e+01 -2.85646462e+00  1.27031889e+01\n",
      "  2.13299537e+00  1.25546575e+00 -8.07721996e+00 -1.17021427e+01\n",
      " -3.52490959e+01 -1.62029362e+00 -4.18245544e+01 -2.34594173e+01\n",
      " -1.63203597e+00  6.31945753e+00 -1.23941956e+01 -1.26750064e+00\n",
      " -1.93929977e+01  4.66507912e+00]' has dtype incompatible with int64, please explicitly cast to a compatible dtype first.\n",
      "  preds[val_index] = model.predict(dval_i)\n"
     ]
    },
    {
     "name": "stderr",
     "output_type": "stream",
     "text": [
      "\r",
      " 60%|████████████████████████████████████████████████████████████████████████████████████████▊                                                           | 6/10 [02:51<01:50, 27.58s/it]"
     ]
    },
    {
     "name": "stderr",
     "output_type": "stream",
     "text": [
      "C:\\Users\\81809\\AppData\\Local\\Temp\\ipykernel_15008\\3386215446.py:18: FutureWarning: Setting an item of incompatible dtype is deprecated and will raise an error in a future version of pandas. Value '[ 4.75624752e+00  1.22621384e+01 -7.71312714e+00  9.10912037e+00\n",
      "  4.27415800e+00  2.52588100e+01  6.70854282e+00 -3.61126757e+00\n",
      "  1.64068055e+00  6.29910278e+00  5.09658289e+00  3.12237549e+00\n",
      "  2.09699368e+00 -1.08748460e+00  5.48592329e+00  2.45502663e+00\n",
      "  1.65476704e+00  1.90454845e+01  2.31072617e+01 -1.13230438e+01\n",
      "  6.72219419e+00 -1.56549364e-01  3.13892365e+00  4.68653297e+00\n",
      "  2.33264232e+00 -6.73975372e+00  3.57478452e+00  4.13333029e-01\n",
      "  7.88279009e+00  1.44790859e+01 -1.78253484e+00  5.03756094e+00\n",
      "  2.77233505e+01  8.11853027e+00  2.69104233e+01  2.56674957e+00\n",
      "  1.11482992e+01  1.44052658e+01  8.51488686e+00  2.88774061e+00\n",
      "  2.59973669e+00  1.20591211e+01  1.52327704e+00  1.35223699e+00\n",
      " -1.41459632e+00  1.74199164e-01  7.96284389e+00  3.93256760e+00\n",
      "  3.17744422e+00  7.62164116e+00  1.35892308e+00 -1.80653036e+00\n",
      " -4.46186304e+00 -2.21121240e+00  4.30548716e+00 -9.15717185e-01\n",
      "  1.33066196e+01 -2.57596231e+00  3.48870218e-01  9.96368027e+00\n",
      "  2.58681355e+01  2.27693539e+01 -9.84011233e-01  5.50684595e+00\n",
      " -3.58032775e+00  6.81936932e+00  1.99717546e+00  1.85859680e+00\n",
      "  1.43449676e+00 -2.43087411e+00  1.31921072e+01  1.79912071e+01\n",
      " -7.04983139e+00  2.34395981e+00  6.22696400e+00  1.41057062e+00\n",
      "  1.80491600e+01 -4.12833643e+00  1.67905025e+01  1.15926800e+01\n",
      "  8.64430130e-01  8.13351250e+00  1.51513910e+00 -2.89168286e+00\n",
      "  1.78038430e+00 -3.60813236e+00  1.25558071e+01 -5.50728273e+00\n",
      " -1.20634067e+00 -4.72781181e+00  6.20668745e+00  2.67281723e+01\n",
      "  1.42634239e+01 -3.23596865e-01  5.61993122e-01  2.02337284e+01\n",
      "  1.21069756e+01 -1.05599670e+01  1.25123777e+01 -4.07037640e+00\n",
      "  4.58618975e+00  9.93178844e+00 -7.89376211e+00  5.29531193e+00\n",
      "  1.00056772e+01  1.98792204e-01 -3.81281567e+00  6.77167252e-02\n",
      "  5.90955400e+00  1.84530487e+01  1.16262350e+01 -6.16216040e+00\n",
      "  1.98078811e-01  1.42513537e+00  8.95109272e+00 -4.95886183e+00\n",
      "  1.33178627e+00 -5.46243286e+00  8.06779480e+00 -1.56501317e+00\n",
      "  6.37691164e+00  7.99624547e-02  2.67178974e+01 -3.50197506e+00\n",
      " -8.11531639e+00 -1.84625340e+01 -4.83163452e+00 -4.97508574e+00\n",
      "  9.27891254e+00  5.47111094e-01  2.63136744e+00  8.00936413e+00\n",
      "  1.39886503e+01 -2.11919546e+00  5.16100216e+00  5.59225941e+00\n",
      "  2.39471364e+00  5.03949356e+00  1.92080669e+01 -1.86570480e-01\n",
      " -7.37537289e+00  9.88995969e-01  2.48428273e+00  5.53269958e+00\n",
      "  1.26898689e+01  4.81840992e+00  1.11570683e+01  1.74253035e+00\n",
      "  5.37171888e+00  8.06421340e-01  3.00452924e+00 -9.29188788e-01\n",
      "  2.29068089e+01  5.06370366e-01 -3.21997050e-03  1.11699972e+01\n",
      "  1.09927692e+01  2.13208389e+00  5.20158815e+00 -5.90141821e+00\n",
      "  1.02606516e+01  3.71295118e+00  1.04507313e+01  7.92731810e+00\n",
      " -2.47783542e+00  7.36735392e+00  4.73627615e+00  2.00287704e+01\n",
      " -6.74744463e+00  6.11711359e+00  2.88006854e+00 -4.09911346e+00\n",
      "  7.76041865e-01  2.38228989e+00  1.60350227e+01 -1.25229883e+00\n",
      "  1.06395645e+01  4.43314600e+00  3.42674136e+00  7.57167721e+00\n",
      " -4.71384786e-02  8.64200115e+00  2.12334270e+01  1.33888998e+01\n",
      " -5.84324121e+00 -4.39041424e+00  6.50006628e+00 -4.05340290e+00\n",
      "  2.87282610e+00  7.06945610e+00  1.05812712e+01  9.14563656e+00\n",
      "  2.47894096e+01  1.69631786e+01  4.91880846e+00  2.33723278e+01\n",
      "  2.66684556e+00  1.41165190e+01 -1.56570196e-01  3.81606984e+00\n",
      " -3.43976188e+00  2.74002528e+00  7.42116642e+00 -1.41541517e+00\n",
      "  6.47804785e+00  4.77731657e+00  1.14076605e+01  7.13803434e+00\n",
      "  2.01939750e+00  1.96626186e+01  1.62645359e+01  2.64665279e+01\n",
      "  2.83723497e+00 -7.58048058e+00  1.72108288e+01 -2.11739683e+00\n",
      "  1.19364595e+01  1.21496763e+01 -3.12281227e+00  2.33254642e+01\n",
      "  1.31224327e+01  7.64635086e+00  3.17007732e+01  6.57240486e+00\n",
      "  3.09988365e+01  8.57736683e+00  2.50722456e+00  1.38469973e+01\n",
      " -4.76823235e+00  3.03973732e+01 -8.07746601e+00 -6.47785473e+00\n",
      " -1.11085784e+00  1.40705228e+00  1.63369045e+01  1.21420460e+01\n",
      "  1.99428236e+00  1.06008615e+01  6.06867075e-01  1.44267807e+01\n",
      "  1.55951762e+00  7.92115831e+00  2.73703213e+01 -7.30548620e+00\n",
      "  3.23456917e+01 -1.77328720e+01  1.12567501e+01 -2.32772160e+00\n",
      "  8.13087749e+00 -1.26649356e+00  2.59827518e+00  3.34001732e+01\n",
      "  3.75488853e+01 -3.00112557e+00 -5.79563618e+00  9.64218044e+00\n",
      "  8.28699875e+00  4.55943298e+00  3.10131016e+01  6.99961424e+00\n",
      "  1.08864486e+00  1.12130141e+00  2.90953827e+01  3.02049875e+00\n",
      "  6.43119860e+00  2.77948723e+01  1.34916568e+00  2.13971443e+01\n",
      " -5.53185511e+00  2.89221978e+00  1.41222715e+01  7.72510242e+00\n",
      "  2.01734047e+01  1.43815022e+01  2.26716671e+01  2.81461263e+00\n",
      " -8.88093853e+00  6.57415056e+00  5.29693937e+00  3.77057958e+00\n",
      "  5.44964790e-01 -7.98551702e+00  2.53183937e+00  1.09304724e+01\n",
      "  1.10226383e+01  6.69971561e+00  3.49027863e+01  3.49728889e+01\n",
      "  1.27579184e+01 -2.22928357e+00 -2.91608930e-01 -9.73678112e+00\n",
      "  8.80672932e+00  2.44010949e+00  2.94022026e+01 -1.57838178e+00\n",
      "  1.96806164e+01 -1.05659342e+01  1.88854866e+01  2.60900993e+01\n",
      "  3.32046356e+01  1.15828502e+00 -8.55915833e+00  1.69026356e+01\n",
      "  5.23997164e+00  1.36791265e+00  1.58150280e+00  8.39691257e+00\n",
      "  3.87536716e+00 -6.49498415e+00 -4.47423697e+00  4.29253006e+01\n",
      "  7.77606392e+00  2.31754608e+01 -4.96838140e+00  2.62572136e+01\n",
      "  1.51118898e+01  1.16533680e+01  3.57599258e+00 -5.50278902e+00\n",
      "  3.63465309e+01  6.33509350e+00  1.23261595e+01  4.42195892e+00\n",
      "  5.94535160e+00  3.23203278e+01  2.66665955e+01  6.68927655e-02\n",
      "  9.35253048e+00 -9.90398452e-02  9.37687683e+00 -5.60966539e+00\n",
      " -8.11796761e+00 -5.82340527e+00  2.06699848e+00 -2.33148708e+01\n",
      " -8.25552559e+00 -1.09103003e+01  3.88482690e-01 -1.10983477e+01\n",
      "  3.81759548e+00 -1.60123780e-01 -6.35250473e+00 -2.71652699e+00\n",
      " -2.26496124e+01 -1.32745476e+01 -5.87943649e+00 -2.00746822e+01\n",
      " -1.99644203e+01 -1.79128802e+00  4.83726501e-01 -3.79668474e+00\n",
      " -3.45397592e+00 -8.80084693e-01 -5.74614334e+00 -4.16463196e-01\n",
      " -3.79219234e-01 -1.63784428e+01 -3.82801270e+00 -2.59972935e+01\n",
      " -3.68165946e+00  6.63822031e+00 -4.33107233e+00 -1.61830378e+00\n",
      "  5.08730316e+00 -1.35977530e+00 -5.60568428e+00 -3.27303219e+00\n",
      " -2.00655079e+01  1.48511851e+00 -7.68990850e+00 -1.53014421e+00\n",
      " -8.48380566e+00 -1.10143013e+01 -5.57685661e+00  1.70567691e+00\n",
      " -4.56073731e-01 -4.15490961e+00 -7.30245638e+00 -1.31521082e+01\n",
      " -2.34642754e+01 -2.14971924e+00 -7.02425575e+00 -6.39617872e+00\n",
      "  2.17600083e+00  2.16278458e+00  1.83504415e+00 -5.43552113e+00\n",
      " -6.40225935e+00 -1.03831663e+01 -4.09659481e+00 -1.43460493e+01\n",
      " -1.53210487e+01 -1.57775793e+01  6.64159203e+00  1.13398707e+00\n",
      " -4.70281750e-01  3.02485752e+00  1.46663412e-01 -9.47148609e+00\n",
      " -1.31644039e+01 -8.14023685e+00 -3.35690558e-01  1.11045039e+00\n",
      " -9.66575336e+00 -7.56882524e+00 -5.43978024e+00 -7.39863873e-01\n",
      "  5.23727655e-01 -3.17749763e+00 -1.11998549e+01  3.58669829e+00\n",
      " -1.34820824e+01  1.47258139e+01 -1.09307945e+00  2.82355094e+00\n",
      "  4.77081203e+00 -1.24567270e+01 -1.25213547e+01  2.20180273e+00\n",
      " -2.98528504e+00 -1.09607903e-02 -3.75440031e-01 -1.96320591e+01\n",
      "  3.20680046e+00 -2.10415897e+01 -2.58765564e+01  7.69394827e+00\n",
      " -1.21595693e+00 -1.21712046e+01  1.02633727e+00 -5.90669012e+00\n",
      " -1.82349086e+00  2.86675640e-04 -2.99777584e+01 -6.99664068e+00\n",
      " -4.72172403e+00  1.79506264e+01  5.93539000e+00 -1.04303131e+01\n",
      " -1.59200840e+01 -5.40098858e+00  3.50727296e+00 -2.14670873e+00\n",
      " -8.16141415e+00 -1.88863897e+00 -3.92340636e+00 -8.76885033e+00\n",
      " -2.43516159e+00 -1.07106323e+01 -5.98000336e+00 -5.43964291e+00\n",
      "  3.67647862e+00 -1.81006145e+01  3.72987437e+00 -5.18231106e+00\n",
      " -1.65159740e+01 -2.52559805e+00  3.61763120e+00  2.54725552e+00\n",
      "  2.74180198e+00  5.57041883e-01 -1.11300259e+01 -4.90211916e+00\n",
      " -3.73056269e+00 -2.29819355e+01 -8.88832951e+00 -2.42445397e+00\n",
      "  1.14645548e+01  4.73255825e+00 -9.34497261e+00 -5.08072853e+00\n",
      " -8.31024721e-02  9.48184109e+00  1.75911307e+00 -2.11024914e+01\n",
      "  1.18979750e+01  1.69318676e-01  3.28075385e+00 -1.83214321e+01\n",
      " -1.57918572e+00 -1.87025738e+01  1.08438025e+01 -3.29671955e+00\n",
      " -1.10172291e+01  5.19603872e+00 -7.78387499e+00  2.27904963e+00\n",
      " -4.87476873e+00 -4.46881390e+00  5.29668140e+00 -2.37108922e+00\n",
      " -2.91348815e-01 -6.17516184e+00  3.19656777e+00  4.86748934e-01\n",
      " -9.05990982e+00  6.97865629e+00  5.78610849e+00 -1.93342090e+00\n",
      " -3.43377924e+00  1.02464676e+00  2.89524508e+00 -3.37899208e+00\n",
      " -2.59413981e+00 -2.68919635e+00 -2.45914822e+01 -1.47605925e+01\n",
      " -2.02802181e+01 -2.15364857e+01  1.27765834e+00 -5.56582737e+00\n",
      "  4.70082998e+00  7.65229940e+00  1.86748135e+00 -1.33304214e+01\n",
      " -5.02075076e-01  6.45025682e+00 -2.57885361e+01 -3.30016971e+00\n",
      " -5.41951370e+00  4.97277737e+00 -2.50131035e+00 -1.05433416e+01\n",
      " -9.27814102e+00 -2.23127518e+01 -3.75284696e+00  2.33940525e+01\n",
      "  1.04581614e+01 -5.37178946e+00  3.37331963e+00 -1.01938903e+00\n",
      " -2.45861292e+00  4.78968477e+00 -2.61100235e+01 -1.85758293e-01\n",
      "  2.27083111e+00 -1.60453644e+01  9.10435581e+00  1.50305462e+00\n",
      " -2.79768157e+00 -5.76672125e+00 -5.09809971e+00 -4.02058220e+00\n",
      " -1.19488144e+01 -1.97015798e+00  2.82113504e+00  3.23466301e+00\n",
      "  8.79159546e+00  5.37859619e-01  6.28406096e+00 -2.79434252e+00\n",
      " -1.06185789e+01 -2.56422615e+00 -4.51846275e+01 -2.72460213e+01\n",
      " -2.36190567e+01  1.01334083e+00 -1.77943373e+00 -2.54256935e+01\n",
      " -7.93021345e+00 -2.44074059e+01 -1.37189817e+01 -1.48677111e+01\n",
      " -4.33161736e+00 -8.60581017e+00 -8.15657425e+00 -3.88181567e-01\n",
      " -5.58897066e+00 -4.30636263e+00 -3.70084038e+01 -4.92264700e+00\n",
      " -1.74985564e+00 -2.60726280e+01 -1.58728099e+00 -1.35577364e+01\n",
      "  9.03368092e+00 -1.47388868e+01 -9.62566471e+00 -1.54444304e+01\n",
      "  9.42101836e-01 -1.01886940e+01 -2.69077988e+01 -6.08842969e-01\n",
      " -3.07873611e+01 -1.67268884e+00  1.38082685e+01 -7.57141399e+00\n",
      "  9.33498859e-01 -2.55744743e+01 -1.57689409e+01 -5.33817625e+00\n",
      " -1.82969666e+01 -8.50541973e+00 -2.07170010e+00 -6.85149336e+00\n",
      " -1.96361313e+01  6.85529375e+00 -1.55404835e+01 -6.90157843e+00\n",
      " -3.04293561e+00 -2.23275795e+01 -1.83093567e+01 -1.22978716e+01\n",
      " -1.42079229e+01 -3.11582832e+01  1.10086262e+00 -6.41586351e+00\n",
      " -1.82909927e+01 -4.65391731e+00 -1.49585714e+01 -5.56751347e+00\n",
      " -2.29280243e+01  1.07234163e+01 -2.98525124e+01 -1.58968935e+01\n",
      "  2.87822413e+00 -3.19680614e+01 -1.26634340e+01 -2.13541174e+00\n",
      " -2.94868088e+01 -2.82241058e+01  1.05403891e+01  1.37191641e+00\n",
      " -1.32924414e+01 -2.35129857e+00 -2.27647839e+01 -1.22547722e+01\n",
      " -5.90270662e+00 -3.16826916e+00 -1.27691774e+01  9.70025444e+00\n",
      " -2.94381070e+00 -1.83874416e+01 -8.74830151e+00 -4.48647404e+00\n",
      "  1.01828718e+01 -7.23573416e-02 -3.22244072e+01 -2.52896805e+01\n",
      "  6.77677929e-01  8.08924484e+00 -1.25781631e+00 -2.46558833e+00\n",
      "  8.67314243e+00 -5.80026245e+00 -2.12866936e+01 -1.37307758e+01\n",
      "  4.86861992e+00  8.94705486e+00 -8.75782204e+00 -2.05905724e+01\n",
      " -4.76090288e+00 -8.16806889e+00 -9.24703789e+00 -3.25418205e+01\n",
      " -2.97377930e+01 -4.50624037e+00 -2.85446091e+01 -3.55778694e+01\n",
      "  3.47491920e-01  9.02171075e-01 -1.17316055e+01 -2.24072342e+01\n",
      " -2.72700043e+01 -7.43825006e+00  1.32067785e+01 -1.62123013e+00\n",
      "  1.17706404e+01  1.69310415e+00 -2.91263027e+01 -6.57278824e+00\n",
      " -3.86169357e+01 -3.90150414e+01 -5.62751353e-01 -2.21380768e+01\n",
      " -1.92184429e+01 -2.63924122e+01 -1.88098888e+01  4.68752527e+00\n",
      " -7.27679157e+00 -1.68035393e+01 -7.52617407e+00 -3.84779739e+01\n",
      " -2.85640278e+01 -1.14886260e+00 -3.84125023e+01 -6.99455309e+00\n",
      " -4.56371498e+00 -2.12812576e+01  1.63554966e+00  1.25540268e+00\n",
      " -1.16808786e+01 -1.73098361e+00  7.15873051e+00 -1.61602364e+01\n",
      " -8.85801220e+00 -4.73356366e-01]' has dtype incompatible with int64, please explicitly cast to a compatible dtype first.\n",
      "  preds[val_index] = model.predict(dval_i)\n"
     ]
    },
    {
     "name": "stderr",
     "output_type": "stream",
     "text": [
      "\r",
      " 70%|███████████████████████████████████████████████████████████████████████████████████████████████████████▌                                            | 7/10 [03:26<01:29, 29.91s/it]"
     ]
    },
    {
     "name": "stderr",
     "output_type": "stream",
     "text": [
      "C:\\Users\\81809\\AppData\\Local\\Temp\\ipykernel_15008\\3386215446.py:18: FutureWarning: Setting an item of incompatible dtype is deprecated and will raise an error in a future version of pandas. Value '[-6.14789724e+00  8.19295025e+00  3.84000659e+00  3.54728031e+00\n",
      "  2.10118914e+00  1.49252405e-02  9.90986919e+00  2.09016180e+00\n",
      "  1.46518782e-01 -1.51879728e+00  2.18807640e+01  5.60305309e+00\n",
      "  9.87085044e-01  6.36136436e+00  5.90709496e+00 -6.87450743e+00\n",
      " -7.44735336e+00  3.81889844e+00  9.22823906e+00  7.62768507e-01\n",
      " -1.09461874e-01  2.33531570e+00  1.96019192e+01  3.01324825e+01\n",
      "  1.11741819e+01 -3.73223805e+00  1.60471859e+01 -5.34821153e-01\n",
      "  3.39388728e+00  1.35885000e+00 -4.76841259e+00  7.08632755e+00\n",
      "  1.00142765e+01  9.88966274e+00  1.04923177e+00  8.88099003e+00\n",
      "  5.36844778e+00  8.20495892e+00  1.92531276e+00  5.26857710e+00\n",
      " -3.76962095e-01  1.58112574e+01  1.18516674e+01  2.39975185e+01\n",
      "  1.33162630e+00  1.55710411e+01  6.45110846e+00  2.91450000e+00\n",
      " -3.04967499e+00  6.21645164e+00 -1.08915162e+00  3.40845513e+00\n",
      "  7.83431530e+00  1.34369125e+01  2.92143893e+00  9.35339451e+00\n",
      " -3.34697104e+00 -3.92790699e+00  3.06706190e+00 -3.87852073e-01\n",
      "  1.27010012e+00  8.10916138e+00  7.10299730e+00  3.77493167e+00\n",
      "  1.63375912e+01  7.66785765e+00  4.19122428e-01 -2.25532913e+00\n",
      " -6.30320835e+00  7.77638721e+00  7.33592892e+00  9.65319538e+00\n",
      "  1.65949404e+00  3.62083197e+00  8.14200306e+00  1.31351404e+01\n",
      "  5.64225340e+00  3.38500762e+00 -3.86592484e+00  6.57773304e+00\n",
      " -1.41317046e+00 -4.63758588e-01  1.36733446e+01  4.20956278e+00\n",
      "  2.51019931e+00  1.41545315e+01  8.82668781e+00  7.47241402e+00\n",
      " -9.45718384e+00  4.69575167e+00  4.75109577e+00  9.81657314e+00\n",
      "  3.96880007e+00  4.24600077e+00 -7.84505248e-01  1.08996248e+00\n",
      "  3.44500613e+00  8.21161175e+00 -1.04046450e+01  2.07284031e+01\n",
      "  5.00313616e+00  8.60185444e-01 -7.71238804e-01 -2.88646054e+00\n",
      "  4.09279680e+00  7.42519426e+00 -6.55578423e+00 -3.98979592e+00\n",
      "  1.07556381e+01 -6.88292980e+00 -1.50006211e+00  6.56446171e+00\n",
      " -5.07407606e-01 -5.91645861e+00  3.80941510e-01  7.16514826e+00\n",
      "  5.57008123e+00 -4.05999088e+00  4.36382666e-02  9.03785992e+00\n",
      " -5.28923512e+00  1.75742126e+00 -1.58663881e+00 -5.02108431e+00\n",
      "  6.77665615e+00  1.22376432e+01 -2.01318073e+00  4.11937141e+00\n",
      " -4.12152910e+00  2.79155827e+00  6.06526423e+00  5.65191889e+00\n",
      " -2.53372103e-01  1.60880947e+01  3.33959532e+00 -3.30470300e+00\n",
      " -4.77979928e-01  1.25352287e+00 -3.08392930e+00 -6.48558283e+00\n",
      "  4.37579441e+00 -4.26502913e-01  2.11636591e+00 -7.62533307e-01\n",
      " -3.33321285e+00  6.96217442e+00 -3.53576779e+00 -7.68463612e+00\n",
      "  1.01441307e+01  1.64100990e+01  3.47538948e+00  2.27060652e+00\n",
      "  4.82009411e+00  6.56216204e-01  2.75486261e-01  1.75613356e+00\n",
      "  9.81662369e+00  5.03178406e+00  6.09517336e+00 -8.90317154e+00\n",
      "  4.65660477e+00 -5.54277325e+00 -9.57534027e+00 -1.56573315e+01\n",
      "  1.83474979e+01 -3.93332434e+00  2.25901737e+01  2.00281925e+01\n",
      "  2.96625042e+00  4.64437342e+00  9.87734127e+00  1.19525385e+01\n",
      "  7.82122183e+00  1.33642006e+00 -3.21497774e+00  4.51479292e+00\n",
      "  1.34146884e-01 -3.59053445e+00  2.24276619e+01  5.45943737e+00\n",
      "  1.70903945e+00 -5.57434320e+00  1.10306387e+01  2.66904616e+00\n",
      "  4.86043119e+00  5.15593719e+00 -2.78783321e+00  6.11508656e+00\n",
      "  1.07894545e+01  3.32800198e+00  2.45298576e+01 -1.42320979e+00\n",
      "  1.84748058e+01 -4.30002403e+00  4.76333427e+00  4.29208469e+00\n",
      " -1.24385774e+00  1.68145504e+01  2.78376627e+00  1.91010380e+01\n",
      "  4.63412666e+00  2.14732361e+01  1.31791067e+01 -1.29731357e+00\n",
      "  6.56683350e+00  4.41997319e-01  3.75321865e-01 -3.38604426e+00\n",
      "  1.30950193e+01  1.89771767e+01  7.74948263e+00  1.30666580e+01\n",
      "  1.07019043e+01  1.78383560e+01  2.28367424e+00 -2.74072337e+00\n",
      " -4.49917555e+00  1.91494560e+01  4.84431553e+00  8.25479221e+00\n",
      " -7.17401981e-01  2.67964554e+01  2.53307819e+01  1.31271835e-02\n",
      "  2.15610352e+01  1.39431801e+01 -6.87325525e+00 -2.58282924e+00\n",
      "  4.07046051e+01  2.06055317e+01  2.82836475e+01  2.46454372e+01\n",
      " -8.06585884e+00 -6.98468351e+00  1.80601616e+01  8.81949139e+00\n",
      "  8.71165752e+00 -9.01618862e+00  2.36295700e+00  1.20792055e+01\n",
      "  3.75632782e+01 -1.56591606e+00  8.35378265e+00  1.79176402e+00\n",
      "  2.89331412e+00  6.88786888e+00  1.58275070e+01  2.28025889e+00\n",
      "  4.69977913e+01 -7.22349644e+00  5.66687870e+00  2.98853636e-01\n",
      "  2.38893557e+00  1.04415941e+01  3.72329330e+01  4.01870012e+00\n",
      "  1.27447844e+01  9.97249699e+00  3.87809491e+00  7.71813202e+00\n",
      "  1.69462433e+01  1.49765215e+01  2.52982092e+00  3.04122601e+01\n",
      "  3.05265846e+01  2.28630009e+01  2.37030048e+01  1.32660122e+01\n",
      "  8.67792320e+00  1.75590477e+01  1.24130917e+01  2.52534533e+00\n",
      "  3.52010651e+01  1.82299685e+00  8.85431957e+00 -9.12443733e+00\n",
      "  3.93226700e+01  7.67900801e+00  2.10634842e+01  2.53027010e+00\n",
      "  8.74881744e+00  8.62448311e+00 -2.50854158e+00  1.44420309e+01\n",
      " -1.74505925e+00  8.53512669e+00 -1.07908001e+01  5.25428104e+00\n",
      "  1.64350452e+01 -2.19117737e+00  1.50240028e+00  3.78250084e+01\n",
      " -8.17003846e-01  2.12402573e+01  4.00125027e+00  2.04491634e+01\n",
      "  1.28764000e+01  1.85697699e+00 -1.00546398e+01 -8.32797623e+00\n",
      " -1.00623531e+01  1.31768894e+01  8.57949257e+00  2.17053432e+01\n",
      "  1.33947581e-01  3.91901040e+00  7.50076294e+00  9.95293617e+00\n",
      "  2.91386013e+01  6.11424065e+00  3.45595479e+00  2.90695572e+01\n",
      "  3.57690549e+00  4.36692200e+01  2.75932961e+01  3.50956917e+00\n",
      "  8.78082561e+00  3.84144058e+01  2.78345823e+00  6.36022663e+00\n",
      "  4.06417770e+01  2.20946865e+01  1.25619354e+01  5.56872892e+00\n",
      "  7.16068125e+00  1.86260242e+01  1.06596518e+01  3.19430027e+01\n",
      "  8.27893925e+00  1.72886429e+01 -2.27265501e+00  2.40177975e+01\n",
      "  3.06531029e+01 -1.04691005e+00 -6.48225129e-01 -2.52585745e+00\n",
      " -6.83738041e+00  2.12788887e+01  1.40879250e+01  7.69648886e+00\n",
      "  9.71427739e-01  1.03385448e+01 -2.14061756e+01 -1.09537106e+01\n",
      " -1.18257914e+01 -8.32545757e+00 -4.50110769e+00 -2.30167637e+01\n",
      " -1.91739788e+01 -8.21950817e+00  4.27439976e+00 -5.37855911e+00\n",
      " -7.47586727e+00 -5.52611303e+00 -3.09879231e+00  1.24728191e+00\n",
      " -1.81006163e-01 -2.07324848e+01 -4.71513557e+00 -8.04455161e-01\n",
      " -6.49969959e+00  7.20671272e+00 -1.58764541e+00  4.04081106e-01\n",
      " -4.04409647e+00  5.06767178e+00 -1.51644146e+00 -1.73671093e+01\n",
      " -4.03158808e+00 -4.88281727e+00 -4.39595842e+00  6.54989862e+00\n",
      " -5.86186647e+00 -4.87951183e+00  1.39779210e+00 -4.77758312e+00\n",
      " -2.09956598e+00  3.42470527e+00 -9.06326473e-01 -8.12264061e+00\n",
      " -1.09743986e+01  7.31033945e+00 -3.73522925e+00 -2.21288815e+01\n",
      " -4.70101786e+00 -2.22383518e+01  1.53978837e+00  2.80588341e+00\n",
      " -8.65423107e+00  2.56035113e+00 -7.07230377e+00 -6.03061390e+00\n",
      " -2.09447098e+00 -1.72743187e+01 -4.50548649e+00  2.19907212e+00\n",
      " -2.31216698e+01 -2.40308809e+00 -9.02051163e+00 -4.41213131e+00\n",
      " -7.30699396e+00 -2.83046889e+00 -7.13061571e+00 -2.03965473e+00\n",
      " -2.96314359e+00  9.17411745e-01 -3.32394886e+00 -2.90311933e+00\n",
      "  3.77403331e+00 -7.96494007e+00 -9.73477459e+00 -1.49731197e+01\n",
      "  1.00958834e+01 -1.17859211e+01 -4.85654056e-01 -5.07631063e+00\n",
      " -2.28817606e+00  2.74824834e+00 -2.48096542e+01  6.79339409e-01\n",
      " -1.90998974e+01  3.19690180e+00 -6.73923826e+00  3.83213401e+00\n",
      " -2.23102016e+01  2.21976733e+00  1.03727531e+00 -8.11841965e+00\n",
      " -8.42503738e+00 -2.73889279e+00 -7.71747017e+00 -1.32309115e+00\n",
      " -1.25026032e-01 -7.78546238e+00 -1.29267378e+01 -3.59476328e+00\n",
      " -1.09562082e+01 -1.11479912e+01  1.16569722e+00  1.59444857e+00\n",
      " -9.91016769e+00 -4.71630633e-01 -7.29650927e+00  5.37003949e-03\n",
      "  6.20531511e+00  7.42633343e+00 -3.65461278e+00  2.55283862e-01\n",
      " -2.10127378e+00  2.39416385e+00 -2.18901577e+01 -4.74229908e+00\n",
      " -1.78135026e+00  1.78266191e+00 -6.44270611e+00 -2.54429483e+00\n",
      " -1.31896467e+01  5.85776186e+00  4.74773693e+00  3.58816862e+00\n",
      "  6.62301922e+00 -5.61554003e+00 -5.91700554e+00  2.48442554e+00\n",
      " -1.06539278e+01 -6.41211891e+00 -5.92229414e+00 -5.36140394e+00\n",
      " -9.38179493e+00 -2.19916973e+01  5.08844519e+00  4.17028546e-01\n",
      " -6.41426897e+00  4.02969551e+00  1.79941535e+00 -5.46132898e+00\n",
      "  4.71987247e-01 -2.75914878e-01 -5.24332476e+00 -3.11716819e+00\n",
      "  3.96069574e+00 -8.06035900e+00 -1.00275106e+01 -1.18226109e+01\n",
      "  1.29197705e+00 -2.35784149e+01  6.03365993e+00 -5.57143259e+00\n",
      "  8.67718995e-01  4.14274025e+00 -5.29501699e-02 -1.20789356e+01\n",
      " -4.56373644e+00 -4.66116905e+00 -6.23535538e+00 -1.72454014e+01\n",
      " -1.28552141e+01 -2.38394413e+01 -9.66011047e+00 -4.74559498e+00\n",
      "  2.60984111e+00  6.37789297e+00 -1.72966421e+00  3.18263078e+00\n",
      " -2.82878280e+00  8.45100760e-01  6.67179942e-01 -4.62810183e+00\n",
      " -1.21128428e+00  1.06586714e+01  1.96306080e-01 -2.57179141e-01\n",
      " -2.01341534e+01 -5.23877668e+00 -1.81809151e+00 -1.02069778e+01\n",
      " -5.52385449e-01 -8.00881982e-01 -5.98766947e+00 -5.11809015e+00\n",
      "  3.52651328e-01 -9.81852245e+00  2.80186296e+00  2.89995265e+00\n",
      " -4.75039625e+00 -2.16698017e+01 -4.73910904e+00 -5.62932551e-01\n",
      " -6.63468456e+00 -1.12991924e+01 -1.60562682e+00 -3.68148136e+00\n",
      " -4.42071581e+00  2.68568063e+00 -3.07731199e+00  8.46685708e-01\n",
      " -1.11554086e+00 -6.77330923e+00 -2.64676332e+00 -3.49479628e+00\n",
      " -8.49839687e+00 -1.97251625e+01 -2.16540413e+01 -4.63354826e+00\n",
      " -1.08157241e+00 -2.46870890e-01  5.10145426e+00 -5.59417057e+00\n",
      "  2.20039487e+00  6.69848299e+00 -1.59628010e+00 -3.60675406e+00\n",
      "  1.30942650e+01  3.95874763e+00 -5.39412832e+00  9.28506672e-01\n",
      " -7.44548082e+00 -1.55337512e+00  4.06987220e-01 -1.40670443e+01\n",
      "  2.07650065e+00 -2.15515289e+01 -6.97845316e+00 -1.34766645e+01\n",
      "  5.39257336e+00 -6.10171080e-01  9.81206226e+00 -1.47941124e+00\n",
      " -1.00350800e+01 -1.66062295e+00 -3.34684448e+01 -9.58546638e+00\n",
      " -6.51823902e+00 -3.42251807e-01 -2.56941204e+01 -2.54193325e+01\n",
      " -1.43296652e+01 -1.06222796e+00 -2.60242629e+00 -7.85973978e+00\n",
      "  2.39421153e+00 -4.70903254e+00 -1.16267385e+01 -2.71033363e+01\n",
      " -2.27462635e+01  6.06095362e+00 -1.22556200e+01 -1.34390516e+01\n",
      " -7.97465897e+00 -7.96765709e+00  3.40579486e+00  1.06209440e+01\n",
      " -1.91862822e+00 -2.17003574e+01  5.33128381e-01  6.29011869e+00\n",
      " -3.45706482e+01 -4.86074114e+00  1.34406447e+00 -2.23322906e+01\n",
      " -2.01864281e+01 -1.39928741e+01 -5.80042601e+00  5.43907118e+00\n",
      " -3.63127530e-01 -1.12246428e+01 -1.77709446e+01 -3.07706051e+01\n",
      " -1.33018064e+00 -1.43869810e+01 -4.57609415e+00 -4.22156620e+00\n",
      "  3.56954956e+00  6.28628635e+00 -6.83957458e-01 -8.79133511e+00\n",
      "  4.10711336e+00 -1.20810328e+01 -3.37254524e+01 -2.83194618e+01\n",
      " -1.01325500e+00 -1.86815376e+01 -8.19547939e+00 -8.32397842e+00\n",
      " -6.76120090e+00  5.92035198e+00 -5.90949154e+00 -1.22935591e+01\n",
      " -9.73541451e+00 -2.08433008e+00 -2.42535706e+01 -1.17390311e+00\n",
      " -5.66604328e+00  8.79721832e+00 -4.56182051e+00 -1.99092426e+01\n",
      " -6.36616647e-01 -7.68251562e+00  2.56762002e-02 -2.14272518e+01\n",
      "  2.55376554e+00 -6.54036617e+00 -6.64896059e+00 -8.90360069e+00\n",
      " -3.78307891e+00 -1.29979191e+01 -8.49898052e+00 -8.58072567e+00\n",
      " -1.80792713e+00 -1.21223593e+01 -3.24056778e+01  4.41527271e+00\n",
      " -2.68799858e+01 -2.69199429e+01 -1.17532158e+01 -1.90119762e+01\n",
      " -3.51191025e+01 -1.87423778e+00 -1.07642050e+01  9.19406033e+00\n",
      " -5.17029762e+00 -1.22443647e+01  2.49655008e+00 -8.47327042e+00\n",
      " -2.59645252e+01 -6.18404770e+00 -4.00682831e+01  1.17921150e+00\n",
      " -3.69053497e+01 -1.69086810e-02 -1.48537893e+01 -2.15495415e+01\n",
      "  5.33712327e-01 -1.90052433e+01  9.67146969e+00 -9.61982346e+00\n",
      " -3.11779284e+00  1.07071457e+01  1.06029618e+00 -1.52777719e+01\n",
      "  1.94851673e+00 -2.05077324e+01 -1.22887003e+00 -2.19688702e+01\n",
      " -4.62708139e+00 -1.27258091e+01  1.32290373e+01 -5.64914894e+00\n",
      " -4.34453917e+00 -1.10743876e+01 -2.29181409e+00 -8.40033913e+00\n",
      " -1.99196739e+01 -3.36558747e+00 -2.15182896e+01 -2.01619453e+01\n",
      " -1.11000376e+01 -9.17313576e-01]' has dtype incompatible with int64, please explicitly cast to a compatible dtype first.\n",
      "  preds[val_index] = model.predict(dval_i)\n"
     ]
    },
    {
     "name": "stderr",
     "output_type": "stream",
     "text": [
      "\r",
      " 80%|██████████████████████████████████████████████████████████████████████████████████████████████████████████████████████▍                             | 8/10 [03:58<01:00, 30.50s/it]"
     ]
    },
    {
     "name": "stderr",
     "output_type": "stream",
     "text": [
      "C:\\Users\\81809\\AppData\\Local\\Temp\\ipykernel_15008\\3386215446.py:18: FutureWarning: Setting an item of incompatible dtype is deprecated and will raise an error in a future version of pandas. Value '[-1.01237702e+00 -7.37315750e+00  8.15758324e+00  1.38356340e+00\n",
      "  7.06211758e+00  4.62854099e+00  6.18305445e+00  6.80960274e+00\n",
      " -3.79776931e+00 -3.21267438e+00 -2.25105762e+00  3.88206172e+00\n",
      "  5.35577126e-02  2.06372242e+01  2.50857663e+00  1.09371309e+01\n",
      "  4.15648460e+00  2.20991611e+01  2.79649568e+00  2.72188592e+00\n",
      "  5.24004412e+00  2.75948620e+00  1.65448084e-01  1.12892513e+01\n",
      " -1.72452688e+00  1.22616730e+01  5.76305866e+00  2.19589329e+00\n",
      "  2.58447208e+01  4.16029406e+00 -7.62573147e+00  1.48879156e+01\n",
      " -7.71080828e+00  4.72796726e+00  1.96771622e+00  6.35375559e-01\n",
      " -5.21943235e+00 -2.05618358e+00  1.65656209e+00  1.31275105e+00\n",
      "  6.99979830e+00  2.02330647e+01  2.18683987e+01  8.29641628e+00\n",
      " -1.63696992e+00 -3.48702598e+00 -1.22601676e+00  5.56053925e+00\n",
      "  5.02783918e+00 -6.31082118e-01  1.83262336e+00  1.70990372e+01\n",
      "  4.76140928e+00  1.04216442e+01  2.22944927e+01  8.76733398e+00\n",
      "  2.92494297e+00  1.25842118e+00  3.24569058e+00  4.76789959e-02\n",
      "  4.76552820e+00  8.34912014e+00  1.23523273e+01  1.46186485e+01\n",
      "  2.54342995e+01  8.14728737e+00  1.35552561e+00  1.86755526e+00\n",
      "  8.84084320e+00  2.03291869e+00  2.94926953e+00  2.31762505e+01\n",
      "  6.83297300e+00  1.12081738e+01  2.51782870e+00 -1.11028515e-01\n",
      "  9.62164307e+00  1.25087404e+01  7.12757254e+00  4.22851467e+00\n",
      "  2.03276612e-02  5.87667799e+00  2.17207050e+00 -3.39228964e+00\n",
      "  4.62311649e+00  2.24624043e+01  1.79089851e+01 -2.65703058e+00\n",
      "  1.59571190e+01  1.60059318e-01  4.17437077e+00 -5.80156374e+00\n",
      " -3.57764745e+00 -4.43682098e+00 -7.73202038e+00  4.28679132e+00\n",
      " -1.85781062e+00  4.73842084e-01  1.76285672e+00 -1.19303885e+01\n",
      "  2.61344624e+00 -2.55475020e+00  1.37646109e-01 -4.57532358e+00\n",
      "  1.34665775e+01  1.28626890e+01  5.23784399e+00  1.37904310e+00\n",
      "  5.69303894e+00 -3.67934942e+00  9.79972649e+00 -1.10504313e+01\n",
      " -1.44541836e+00  1.30469251e+00  7.61552620e+00 -4.02182865e+00\n",
      "  3.86957741e+00 -9.68328094e+00  8.71664619e+00  4.25303757e-01\n",
      "  7.41907284e-02  7.95178270e+00  9.63446140e+00 -3.21662188e+00\n",
      "  1.12389383e+01  5.72566557e+00  4.97226620e+00 -7.81174946e+00\n",
      "  1.41614113e+01 -3.71905470e+00  1.01771097e+01  4.78421640e+00\n",
      "  7.08257484e+00  3.39398921e-01 -4.20555055e-01  1.42408237e+01\n",
      "  1.15584583e+01  3.28189230e+00 -6.35837364e+00  1.13261995e+01\n",
      "  1.70612030e+01  2.20207272e+01  4.64559317e+00  9.66926670e+00\n",
      "  1.27178097e+00  2.16659317e+01  5.49832630e+00 -3.76665860e-01\n",
      "  4.17122841e+00  3.62353444e+00  1.26845207e+01 -2.13510084e+00\n",
      " -6.12422705e-01  2.29319811e+00 -1.07387028e+01 -4.05124092e+00\n",
      "  1.20337534e+01  4.64872503e+00  9.74013329e+00  1.84430847e+01\n",
      "  4.35379058e-01  2.03132302e-01 -1.76366007e+00  5.99481392e+00\n",
      " -2.95640635e+00  1.37232971e+00  2.46514106e+00 -9.90346730e-01\n",
      "  5.24313784e+00  1.97344551e+01  5.04975796e+00  1.32024975e+01\n",
      " -7.19247007e+00  2.06514759e+01 -1.19477987e+01  1.67357864e+01\n",
      " -1.17704070e+00  7.00923824e+00  5.59633589e+00  3.42375851e+00\n",
      "  9.49826121e-01  8.05903912e+00 -6.62135506e+00  2.11429882e+01\n",
      "  6.14601755e+00  7.92441463e+00  1.36932554e+01  1.85938549e+01\n",
      "  2.33072510e+01 -2.11754107e+00  4.13955355e+00  4.56860447e+00\n",
      " -3.85611987e+00  3.81314802e+00 -1.03603256e+00  7.34500313e+00\n",
      "  7.47274303e+00  2.13189564e+01  1.71897831e+01  1.39823520e+00\n",
      " -1.21568708e+01  1.76701832e+01  5.44092369e+00  5.65297174e+00\n",
      " -2.62428641e-01 -6.69936323e+00 -1.92279208e+00  1.94089508e+00\n",
      "  9.53290653e+00  4.01515436e+00  2.65384884e+01 -2.43412662e+00\n",
      "  2.40346642e+01  1.26939125e+01  5.00274563e+00  1.91908538e+00\n",
      " -1.85431683e+00 -2.24144006e+00  1.86420383e+01 -1.60379744e+00\n",
      "  2.83452559e+00 -2.75298059e-01  2.19464912e+01  3.85562286e+01\n",
      "  1.65530796e+01 -1.19623966e+01  1.50887918e+01  3.58320122e+01\n",
      "  2.80138245e+01  3.20303392e+00  6.14982891e+00  2.80229416e+01\n",
      "  6.06863117e+00  2.04534836e+01  4.89008379e+00  3.03095798e+01\n",
      "  5.98471546e+00  2.06303196e+01 -6.22092152e+00 -5.19447660e+00\n",
      " -2.53440559e-01  2.29393506e+00  2.11309834e+01  3.47608948e+01\n",
      "  1.02781200e+01 -2.44777513e+00  1.15530443e+00  1.54780884e+01\n",
      "  2.57853012e+01  1.60982835e+00  1.32895327e+01 -9.96665537e-01\n",
      " -6.11396122e+00  1.59026585e+01  1.97556996e+00  5.45127583e+00\n",
      "  5.86299956e-01  2.32495346e+01  1.88824978e+01 -2.12171960e+00\n",
      "  6.25463438e+00  1.46122828e+01 -3.76852083e+00  2.75939121e+01\n",
      "  1.44045429e+01 -2.52191887e+01  3.19469109e+01  1.58814001e+00\n",
      "  2.36244512e+00  2.55328751e+00 -9.77722931e+00  8.51743984e+00\n",
      "  1.44825630e+01  1.96603703e+00 -1.85251236e+00  8.73063183e+00\n",
      "  1.07352085e+01  3.38693047e+01  9.06374931e+00  2.85335040e+00\n",
      "  1.13939419e+01  1.29516478e+01  3.76978278e+00  4.00329399e+01\n",
      "  5.55463839e+00  3.35908852e+01  1.46200657e+01  9.39240396e-01\n",
      "  2.01546917e+01  1.50684700e+01  7.96096087e-01  6.62159204e+00\n",
      "  3.05283737e+01  5.50103962e-01  3.45854282e+00  5.07556343e+00\n",
      "  1.82518044e+01  9.33525467e+00 -3.98416519e-01  3.18268299e+00\n",
      "  8.05336666e+00  3.84794159e+01  3.24517288e+01  1.56540241e+01\n",
      "  1.57633710e+00  1.90395880e+00  3.30933070e+00 -8.25730324e+00\n",
      " -1.14843979e+01  1.83803120e+01  2.11274605e+01  2.62372704e+01\n",
      "  4.17054329e+01  1.34748781e+00  3.99756956e+00  4.85016966e+00\n",
      "  2.31232853e+01  2.14876709e+01  6.06951761e+00  1.48116760e+01\n",
      "  2.96809769e+00 -7.03847742e+00 -3.96685064e-01  1.82139301e+00\n",
      "  2.70053482e+01 -5.38480330e+00  3.06109285e+00  4.09523582e+01\n",
      " -8.79114342e+00  2.83317795e+01 -4.19187737e+00  1.94086075e+00\n",
      " -8.02086830e+00  4.58432198e+00  8.40841866e+00  1.50281219e+01\n",
      "  9.94926167e+00  1.89497643e+01 -5.81235218e+00  4.46797276e+00\n",
      "  3.14073563e+01  8.80477238e+00  2.22916102e+00  1.98580551e+01\n",
      " -2.56993461e+00  4.33773193e+01  6.40560055e+00  5.67034149e+00\n",
      "  2.46382542e+01  1.69343796e+01  2.66846538e+00 -1.16980112e+00\n",
      "  2.99940624e+01  6.17408657e+00  7.26429844e+00  1.27754288e+01\n",
      "  8.56609404e-01  2.32895393e+01  2.01295319e+01  2.11439848e+00\n",
      "  1.65829718e+00 -1.12931919e+01  8.26638889e+00 -2.28237724e+01\n",
      " -7.99098587e+00 -6.56215477e+00  3.71076441e+00 -6.51517200e+00\n",
      "  3.70998836e+00 -6.43726254e+00  1.76608860e+00 -1.26214190e+01\n",
      " -6.64578724e+00 -4.22976685e+00 -5.76024532e+00 -7.74525404e+00\n",
      " -4.63382435e+00 -3.27789593e+00 -4.71653366e+00  4.46968174e+00\n",
      " -4.84376907e+00 -3.51008105e+00  8.79031479e-01 -1.80628359e+00\n",
      " -3.82506800e+00 -1.51351728e+01  3.01342177e+00 -2.14872227e+01\n",
      " -2.73637352e+01 -3.53639054e+00  8.85996461e-01  2.06382275e+00\n",
      " -5.02287531e+00 -1.00028741e+00 -2.08662472e+01 -9.84560108e+00\n",
      " -5.13550425e+00 -5.66962624e+00 -7.74628687e+00 -2.12783027e+00\n",
      " -6.20580626e+00  4.44396305e+00 -7.91429138e+00 -7.19603634e+00\n",
      "  3.14844704e+00 -1.34565840e+01 -1.09234619e+01 -2.35813713e+01\n",
      " -5.82923508e+00 -4.46927214e+00 -6.90839100e+00 -3.16152048e+00\n",
      "  5.13908243e+00  7.73492217e-01 -2.40185809e+00 -9.84857798e-01\n",
      " -6.47235441e+00 -8.65569019e+00 -7.10848141e+00 -1.32990541e+01\n",
      "  7.56026924e-01 -1.01782370e+01  2.57589817e+00 -1.23521767e+01\n",
      " -3.42448044e+00  7.90464759e-01 -1.39170399e+01 -2.43360806e+00\n",
      " -3.64190292e+00 -1.38755560e+01  9.89822686e-01 -2.34833622e+01\n",
      " -2.66361294e+01 -7.41382241e-01 -6.63215876e+00  5.41328812e+00\n",
      " -1.66103134e+01  2.34198976e+00 -1.07634840e+01 -6.72430086e+00\n",
      " -5.66564512e+00 -4.27439594e+00 -1.27007399e+01 -2.74762177e+00\n",
      " -1.59650707e+00  2.28716278e+00 -2.69014511e+01 -2.31269016e+01\n",
      " -1.49392586e+01  3.73161960e+00  1.94465303e+00  2.11564732e+00\n",
      " -2.79682803e+00  6.89064217e+00 -1.06994343e+00 -1.94288421e+00\n",
      " -5.02595425e+00  6.74289107e-01  4.72192138e-01 -2.17710838e+01\n",
      " -2.04021692e+00 -2.25715961e+01 -2.64203548e+01  2.74333286e+00\n",
      " -2.50111938e+00 -1.04844408e+01  5.13026571e+00  1.42034044e+01\n",
      " -5.33924627e+00  2.45008826e+00 -2.18329892e-01  3.84755164e-01\n",
      "  1.24953949e+00 -3.18850632e+01 -3.84654498e+00 -8.23269844e+00\n",
      " -4.71126032e+00 -8.67655277e+00 -1.78747559e+01  2.33862925e+00\n",
      "  7.82911479e-01 -2.51725078e+00 -1.33330050e+01 -5.17414331e+00\n",
      "  3.74693632e+00 -9.76574230e+00 -6.75012112e+00 -4.47720718e+00\n",
      " -3.22861671e+01 -1.98016739e+00 -1.22253685e+01  3.01467133e+00\n",
      "  2.82621145e+00 -4.24858749e-01  4.47570086e+00  5.17853796e-01\n",
      "  1.41799092e+00 -4.92185736e+00 -2.47945538e+01 -4.76153946e+00\n",
      " -2.22177863e+00  1.36071265e+00 -4.35195112e+00 -3.53048563e+00\n",
      " -4.06641722e+00 -1.63574949e-01  8.75822842e-01  2.91617966e+00\n",
      " -4.67450428e+00 -9.85258102e-01 -8.24945164e+00  1.08663750e+01\n",
      " -8.63034821e+00  9.80062783e-01  4.30010986e+00 -2.37447605e+01\n",
      " -1.94730034e+01 -2.69083738e+00 -1.12720203e+01 -1.17721081e+00\n",
      " -8.29882431e+00 -6.22167540e+00  1.06396494e+01  9.78078961e-01\n",
      " -3.55684972e+00 -4.08098745e+00 -1.37564230e+01  1.03324091e+00\n",
      " -2.75334573e+00 -5.91811848e+00 -4.99753952e+00 -4.36386503e-02\n",
      " -3.40117663e-01  1.78000331e-01  2.60464883e+00 -3.64933515e+00\n",
      " -2.60162125e+01 -1.39504838e+00 -6.34747314e+00 -3.58652878e+00\n",
      "  1.53042495e+00 -1.25712380e-01  2.52323389e+00  6.61783123e+00\n",
      "  4.17737532e+00 -2.31750565e+01 -8.25981045e+00 -9.66627693e+00\n",
      " -5.31584167e+00 -2.82510185e+00 -2.12973928e+00 -2.57041287e+00\n",
      " -6.52941751e+00 -2.03245735e+01  5.75544214e+00 -2.32764473e+01\n",
      " -4.41374922e+00  6.67950487e+00 -4.31536484e+00 -6.11490726e+00\n",
      " -3.87373042e+00 -1.38275642e+01  1.26779759e+00 -2.83576846e-01\n",
      " -1.00184765e+01 -4.75128317e+00 -1.14580345e+01  3.76974463e-01\n",
      " -1.65380058e+01  8.42458665e-01 -6.38223028e+00 -1.18762798e+01\n",
      " -1.23042269e+01 -1.65027256e+01 -1.26123905e+01 -1.12486629e+01\n",
      "  4.61669779e+00  3.52923609e-02 -1.24627123e+01 -8.21494579e-01\n",
      "  2.33269811e-01  1.54489636e+00  4.99481726e+00  1.57895613e+00\n",
      "  1.84203267e+00 -2.24238930e+01 -1.22614222e+01 -4.20131760e+01\n",
      " -1.49948463e+01  1.70371175e+00 -1.43965788e+01 -2.02184658e+01\n",
      " -2.93674088e+01 -9.57822704e+00 -3.97089100e+00 -3.03222256e+01\n",
      "  9.12209225e+00 -5.79417849e+00 -1.28674049e+01  5.52782118e-01\n",
      " -1.94535816e+00 -3.48111677e+00 -4.40972748e+01 -2.60937634e+01\n",
      " -1.77662525e+01  1.54789186e+00 -2.40198970e-01 -9.98661041e+00\n",
      " -1.25764549e+00  7.11265877e-02 -2.38993492e+01  1.69731522e+00\n",
      " -2.03967857e+01 -3.78855705e+00 -4.77488976e+01  6.02655363e+00\n",
      " -2.05646801e+01 -3.71749802e+01 -2.54506378e+01 -7.64597416e+00\n",
      " -1.06484985e+01 -1.75194206e+01  2.36399212e+01 -8.88859987e-01\n",
      " -9.40393257e+00  4.57019711e+00 -1.64929581e+00 -3.56215286e+00\n",
      " -2.27187614e+01 -9.25787258e+00 -3.16642723e+01  1.55301964e+00\n",
      " -3.41140709e+01 -1.18600283e+01 -4.72497368e+00 -1.48396244e+01\n",
      " -7.81219721e+00 -9.88179970e+00 -2.14286823e+01 -6.32228994e+00\n",
      " -4.65844810e-01  9.27172124e-01  2.28187054e-01 -3.56902194e+00\n",
      " -4.76467514e+00 -1.02896595e+00 -1.54208126e+01 -1.24356270e+01\n",
      " -1.06491985e+01 -5.16705322e+00 -5.83498096e+00 -1.08940268e+01\n",
      "  1.30910814e+00 -1.45581961e+00 -3.46135406e+01 -1.20029278e+01\n",
      "  1.11310482e+01 -5.87544107e+00  4.85746908e+00  7.60789824e+00\n",
      " -3.48765314e-01 -5.60557461e+00 -2.13456249e+01 -2.80509739e+01\n",
      " -4.19978523e+00 -1.52464790e+01 -2.15811710e+01 -3.28354073e+01\n",
      "  9.87909412e+00 -7.74842310e+00 -9.20403957e+00  2.57342491e+01\n",
      "  7.35105228e+00 -4.30277214e+01 -2.67619381e+01 -8.11631680e+00\n",
      " -2.85143890e+01 -9.27319527e+00 -3.74499702e+00  8.30841637e+00\n",
      " -1.16487989e+01  1.92704468e+01 -2.78936844e+01 -1.03310175e+01\n",
      " -1.41837463e+01 -5.22816753e+00  9.65539277e-01 -1.09019632e+01\n",
      " -1.38325703e+00 -4.20050430e+01 -7.89585495e+00 -2.44926090e+01\n",
      " -6.48168421e+00 -1.63737278e+01  1.08419647e+01 -9.34017539e-01\n",
      " -2.82607975e+01 -7.84376097e+00]' has dtype incompatible with int64, please explicitly cast to a compatible dtype first.\n",
      "  preds[val_index] = model.predict(dval_i)\n"
     ]
    },
    {
     "name": "stderr",
     "output_type": "stream",
     "text": [
      "\r",
      " 90%|█████████████████████████████████████████████████████████████████████████████████████████████████████████████████████████████████████▏              | 9/10 [04:29<00:30, 30.61s/it]"
     ]
    },
    {
     "name": "stderr",
     "output_type": "stream",
     "text": [
      "C:\\Users\\81809\\AppData\\Local\\Temp\\ipykernel_15008\\3386215446.py:18: FutureWarning: Setting an item of incompatible dtype is deprecated and will raise an error in a future version of pandas. Value '[ 3.19382811e+00  1.56897774e+01 -4.33959675e+00  1.38971939e+01\n",
      "  2.18183460e+01  1.04216111e+00  4.20472908e+00 -5.71721792e+00\n",
      "  3.00136375e+00 -7.73889208e+00 -1.34282160e+00  1.84969769e+01\n",
      "  2.56373444e+01  3.82197827e-01  1.28683710e+00  8.87783766e-01\n",
      "  1.96058738e+00  8.22045612e+00  1.97651076e+00  1.16247106e+00\n",
      "  2.10967684e+00  2.83775592e+00  2.47917700e+00  4.23559046e+00\n",
      "  3.18267345e+00  5.48388958e-01  7.45483971e+00 -3.51022720e+00\n",
      "  9.69427681e+00 -1.61254537e+00 -3.22450876e+00  4.83921003e+00\n",
      " -1.60898656e-01  2.66004429e+01  1.48236294e+01  6.38055205e-02\n",
      "  8.26230228e-01 -2.03626251e+00 -3.39037919e+00  7.20011330e+00\n",
      "  8.88281918e+00 -7.16852129e-01  2.19644117e+00 -4.51268673e+00\n",
      "  7.97047377e-01 -9.35363388e+00  3.74400353e+00  1.79654350e+01\n",
      "  7.09416389e+00 -7.33392715e+00  6.99196959e+00 -3.67454028e+00\n",
      "  6.43799973e+00 -2.64613599e-01 -5.99540055e-01  2.50973153e+00\n",
      " -3.72091389e+00  1.00994577e+01  2.41182938e+01  1.49501410e+01\n",
      "  7.26969862e+00  1.86283827e+00  3.71165919e+00  1.64267139e+01\n",
      "  3.59534311e+00 -1.47654569e+00  2.68135357e+00  5.06611061e+00\n",
      "  5.86989260e+00  1.93372440e+01  5.67153454e+00  1.49116302e+00\n",
      "  8.40060806e+00  4.24440050e+00 -4.95635659e-01  6.01684189e+00\n",
      "  2.45271969e+01  8.81353736e-01 -3.31994081e+00  2.23114109e+00\n",
      "  3.14138842e+00 -2.18421435e+00  7.90780306e+00  2.31549644e+00\n",
      "  1.95884740e+00  1.10332842e+01  2.67333164e+01  7.86085415e+00\n",
      "  1.22032967e+01 -1.06404991e+01 -5.53506184e+00  2.77366471e+00\n",
      "  2.15234089e+01 -3.10455227e+00  3.86057401e+00  5.53123999e+00\n",
      "  1.26533127e+01  2.83467114e-01  4.59881878e+00 -5.30809975e+00\n",
      "  2.32393932e+00  1.31696081e+01 -9.74711704e+00 -6.47806501e+00\n",
      "  1.03284483e+01  8.16942692e+00  1.41161847e+00  2.82095933e+00\n",
      " -2.74343491e+00  4.15090513e+00 -7.20790088e-01 -9.43795919e-01\n",
      "  2.04604015e+01  1.49887800e+01  1.83923187e+01  5.13770056e+00\n",
      "  9.36606109e-01 -1.47374392e+01  5.43630838e+00 -1.77164841e+00\n",
      " -1.67045796e+00  9.21075535e+00 -6.19356346e+00 -1.62701327e-02\n",
      "  2.42451572e+01  6.39266014e+00  3.54636836e+00 -7.94295120e+00\n",
      "  5.75492024e-01 -2.74024338e-01  3.31948251e-01  3.59041977e+00\n",
      "  6.18995953e+00  3.37510854e-01  6.82659006e+00 -2.79690838e+00\n",
      "  1.02765274e+01  1.51796961e+01  3.32679033e-01  1.55986536e+00\n",
      "  1.36197853e+00 -3.33096027e+00 -6.21978951e+00 -1.01179786e-01\n",
      " -2.17474103e+00 -1.62249589e+00  8.69444191e-01  1.51556463e+01\n",
      "  1.10252695e+01  3.24425411e+00 -1.18157644e+01  6.32793427e+00\n",
      "  5.18659687e+00  5.39035511e+00 -6.82360506e+00  8.31453204e-01\n",
      "  4.52552986e+00  2.98303914e+00 -8.53987312e+00  1.31380785e+00\n",
      "  4.34650278e+00 -4.07792807e+00  2.66387320e+00  4.41182041e+00\n",
      " -6.16854048e+00 -2.06331062e+00  1.58336055e+00 -2.24925756e+00\n",
      "  2.33711720e+01  9.29327869e+00 -4.60937595e+00 -6.41651154e+00\n",
      "  5.66808414e+00 -1.82930527e+01 -2.56128836e+00  2.20661850e+01\n",
      " -3.00054979e+00  1.87851543e+01  1.62691128e+00  1.09397373e+01\n",
      "  4.97732115e+00  8.23275852e+00  4.36865282e+00  3.70412207e+00\n",
      " -2.51276875e+00  1.34200260e-01  8.01241684e+00  3.23485684e+00\n",
      "  9.83309460e+00  2.11100178e+01  3.90587902e+00 -4.93523932e+00\n",
      " -4.16146231e+00 -8.93583298e-02  1.44275265e+01 -5.10364592e-01\n",
      "  4.97716475e+00  8.48781407e-01  1.58019629e+01  6.00438499e+00\n",
      "  8.94821072e+00  1.03620968e+01  2.16896324e+01 -1.89449087e-01\n",
      " -2.04377723e+00  1.45003223e+00  1.68251762e+01 -2.28946266e+01\n",
      "  5.74672270e+00  4.31814909e+00  6.35606861e+00 -4.60882902e+00\n",
      "  3.67039299e+00  4.25856781e+00 -3.36114335e+00 -1.52018344e+00\n",
      "  3.99770641e+00  4.81145954e+00  5.71897924e-01  1.26361275e+00\n",
      " -3.28993917e+00  1.12090235e+01  2.70647192e+00  1.94653759e+01\n",
      "  2.59929104e+01 -1.49873388e+00  8.12039748e-02  9.95693970e+00\n",
      "  9.17741179e-01 -3.28854012e+00  1.06805458e+01  1.80201054e+01\n",
      "  5.94612789e+00  1.93671017e+01  2.62317562e+00  4.87499332e+00\n",
      "  3.24075842e+00  9.94845963e+00  4.52869301e+01  2.68356857e+01\n",
      " -5.11598682e+00  2.13111000e+01 -2.12709808e+00  4.61362696e+00\n",
      "  1.48656139e+01  2.14799480e+01 -8.07918358e+00 -2.83320236e+00\n",
      "  7.81127644e+00 -2.53124642e+00  3.55253906e+01  2.77341385e+01\n",
      "  1.46598279e-01  3.51423302e+01  1.40441952e+01  4.77135181e+00\n",
      "  2.06138592e+01 -5.08271170e+00 -5.71165228e+00  1.92805157e+01\n",
      "  8.87827778e+00  1.84508419e+00  4.05799561e+01  1.18695199e+00\n",
      "  2.50445518e+01 -1.26242876e+01  3.43251686e+01  5.03080748e-02\n",
      "  2.06665444e+00  1.68706417e+01  4.79173326e+00  1.52215986e+01\n",
      " -5.34799099e+00 -5.18968701e-01  1.41041603e+01  1.25360985e+01\n",
      "  1.56836390e-01  1.40447187e+01 -2.61023521e+00  7.98886395e+00\n",
      "  7.33208084e+00  4.64847755e+00  2.92430992e+01  2.36002655e+01\n",
      " -5.42651081e+00  1.55172558e+01  5.93490899e-01 -5.13971758e+00\n",
      " -9.12454700e+00 -1.32309759e+00  1.07159576e+01  3.17404175e+00\n",
      " -5.33292627e+00  1.54465294e+01 -4.53810167e+00  2.33695354e+01\n",
      " -4.64674520e+00  1.99443769e+00  2.96132679e+01  1.28904190e+01\n",
      "  1.51555395e+00 -8.51425648e+00  1.95633900e+00  1.01588259e+01\n",
      "  2.87928295e+01 -7.32195377e-01 -8.79831123e+00 -1.33432543e+00\n",
      "  6.83021641e+00  6.00957155e+00  3.22633743e+00  1.76553879e+01\n",
      "  9.13191509e+00  1.05066452e+01 -3.57135862e-01  2.90001087e+01\n",
      "  1.04704962e+01 -3.63244605e+00  4.86772881e+01  3.06705880e+00\n",
      " -4.45790768e+00  3.65390930e+01 -5.03437042e+00  3.26520576e+01\n",
      "  1.24879622e+00  4.76442480e+00 -2.14116979e+00  2.38016834e+01\n",
      "  7.43687534e+00  1.13571529e+01  2.12848072e+01  6.51999950e+00\n",
      "  2.37970219e+01  3.46648788e+01  6.18430042e+00  1.50134289e+00\n",
      "  2.92706928e+01 -2.56503983e+01 -7.24678338e-01  2.77764645e+01\n",
      "  1.00700006e+01  2.13115749e+01  3.86656876e+01  2.29253101e+01\n",
      "  2.54693341e+00  1.46961088e+01  1.80696678e+01 -5.53251982e+00\n",
      "  8.40233707e+00  2.14923573e+01  2.98272266e+01  7.87900257e+00\n",
      "  1.66785965e+01  4.74318218e+00 -2.16826653e+00  2.49515419e+01\n",
      "  2.95728569e+01  4.82531935e-01 -7.31204033e+00  1.61325681e+00\n",
      "  7.20884514e+00  4.30345917e+00  1.01023989e+01 -4.45275784e+00\n",
      "  1.11386585e+00 -1.65209713e+01 -2.15953331e+01 -1.11138926e+01\n",
      "  2.76135230e+00 -1.18235855e+01 -4.00838852e+00 -2.48972683e+01\n",
      "  5.18871212e+00 -6.80332327e+00 -5.11766720e+00  3.87447095e+00\n",
      " -4.48621225e+00  3.24224234e+00 -7.16273022e+00 -3.31042981e+00\n",
      "  2.93545318e+00 -1.49111347e+01 -9.12411213e+00 -1.60217419e+01\n",
      " -8.72640800e+00 -4.51736879e+00  5.03336430e+00  3.36234832e+00\n",
      " -7.21020746e+00 -9.82203197e+00 -4.16757345e+00 -6.66965389e+00\n",
      " -4.34179878e+00 -5.34790659e+00 -8.51177120e+00  4.35757446e+00\n",
      " -4.38929272e+00  2.36054325e+00 -5.82188892e+00  7.38202393e-01\n",
      "  4.48456764e+00  1.04291830e+01 -4.55393410e+00 -2.15544319e+01\n",
      " -2.27920990e+01  2.05812788e+00 -1.96277905e+00  2.24685073e+00\n",
      "  4.84706640e+00 -9.23994637e+00 -4.16344881e+00 -4.66298866e+00\n",
      "  2.74810338e+00 -1.93775864e+01  2.91183543e+00 -1.09269543e+01\n",
      " -1.42051773e+01  9.53852367e+00 -4.10239840e+00 -3.65550280e+00\n",
      " -5.19758224e+00  3.40529656e+00 -9.99171162e+00 -1.78704906e+00\n",
      " -7.85738325e+00 -4.92103338e+00 -9.05542731e-01 -2.50894499e+00\n",
      " -2.80998707e+01 -1.78209400e+01  6.16714048e+00 -8.01805592e+00\n",
      "  4.87683535e+00 -2.35495300e+01 -7.75117922e+00 -1.83429492e+00\n",
      " -1.77359943e+01  2.02469540e+00 -1.62441311e+01 -1.01776524e+01\n",
      " -1.60494385e+01 -8.41849804e+00 -5.01876736e+00 -4.44736671e+00\n",
      " -5.14169550e+00 -3.45535278e+00 -2.10401478e+01 -2.55047631e+00\n",
      " -7.27993584e+00 -3.43052173e+00  3.06409335e+00 -1.43022299e+01\n",
      "  2.62299967e+00 -3.25092959e+00 -5.97897530e+00  5.17791653e+00\n",
      " -7.84621763e+00 -1.98346162e+00  1.46037996e+00  5.85120010e+00\n",
      " -2.53102322e+01  6.14088118e-01 -1.75547981e+01  5.64754677e+00\n",
      " -8.89918613e+00 -2.56905270e+00 -1.13048983e+01 -5.44865799e+00\n",
      "  1.88521370e-01 -5.31105661e+00  5.70364475e+00 -9.36421871e+00\n",
      " -5.57905674e-01 -9.49284935e+00  4.54607189e-01 -7.01569796e+00\n",
      " -2.09915185e+00 -3.72344637e+00  2.19790131e-01 -8.01986885e+00\n",
      "  1.07795775e+00  1.23649130e+01  4.56770563e+00  5.61031580e+00\n",
      " -4.89722776e+00 -6.80565119e+00 -1.48167181e+00  2.43785477e+00\n",
      " -7.49180019e-01 -4.83022690e+00 -1.51652336e+00 -6.27012873e+00\n",
      " -2.03079281e+01 -1.44797230e+01 -3.17503667e+00 -3.34745646e+00\n",
      "  6.59024715e+00 -2.68169022e+00 -6.46846056e+00 -1.29034966e-01\n",
      "  2.20673537e+00 -1.01531420e+01  8.61833394e-01  4.14748812e+00\n",
      " -1.32312021e+01 -1.18548031e+01 -3.25215292e+00  1.17399740e+01\n",
      " -4.67750835e+00 -1.37658224e+01  4.28355694e-01 -9.45236206e+00\n",
      "  2.76995063e+00 -2.92447776e-01 -5.05369091e+00 -1.51130228e+01\n",
      "  4.31014633e+00 -5.30313396e+00  5.72040081e-01 -1.77172165e+01\n",
      " -3.29104257e+00  5.91738939e+00 -3.42457104e+00 -7.95402813e+00\n",
      " -7.63544559e-01  2.39026442e-01  1.90301073e+00  7.86857080e+00\n",
      " -1.44836748e+00  4.39613152e+00 -2.32095089e+01 -2.66958065e+01\n",
      " -1.59854040e+01 -2.15590477e+01  9.68663752e-01  3.39073807e-01\n",
      " -4.43847561e+00 -1.37594843e+01 -4.95325994e+00 -1.19223995e+01\n",
      " -5.27325392e-01 -7.45285559e+00 -1.50769100e+01  2.43645644e+00\n",
      " -4.93724918e+00  2.75236511e+00 -8.06152344e+00 -3.30806279e+00\n",
      " -1.79634171e+01 -1.71979923e+01  1.82888854e+00 -5.34749031e+00\n",
      "  5.97505045e+00 -1.45856905e+01  1.49667001e+00 -1.54430838e-03\n",
      " -1.55491552e+01 -1.85839539e+01  3.00505471e+00 -2.95113640e+01\n",
      " -1.40158739e+01  6.01852322e+00  8.85793805e-01 -6.45665789e+00\n",
      " -1.11179914e+01  7.62055254e+00 -1.81143837e+01 -1.77699680e+01\n",
      " -5.60891819e+00 -6.15467727e-01  2.51283932e+00 -2.67040329e+01\n",
      " -6.86776209e+00  2.57783079e+00 -4.54551792e+00 -8.05884933e+00\n",
      " -3.81486034e+00 -1.18984308e+01 -3.70968018e+01  1.35486898e+01\n",
      " -5.25225306e+00  9.02484417e+00 -6.37442732e+00 -1.58602543e+01\n",
      " -1.48734636e+01 -1.48030615e+01 -9.72365475e+00 -8.01245117e+00\n",
      " -6.15667343e+00 -2.65903492e+01 -8.04693794e+00 -1.76093376e+00\n",
      " -1.48670359e+01  3.59727359e+00 -1.90395145e+01 -1.10761356e+00\n",
      " -2.12548809e+01 -2.57324257e+01  6.58791399e+00 -2.24226036e+01\n",
      " -2.74252939e+00 -3.16701584e+01 -1.25096846e+01 -3.54738846e+01\n",
      " -1.19447565e+00  9.41542912e+00  1.68080444e+01 -2.57137508e+01\n",
      " -1.57345266e+01 -1.55104761e+01 -1.21316900e+01 -7.08883238e+00\n",
      " -8.53650951e+00 -3.39856071e+01 -3.65278206e+01  3.52803826e+00\n",
      " -2.67268772e+01  6.50457203e-01 -1.03988962e+01 -3.09158363e+01\n",
      " -6.33862162e+00  5.18549621e-01 -2.93682671e+01 -1.06537342e+00\n",
      " -2.27236614e+01 -1.51338511e+01  5.05810618e-01 -1.44843416e+01\n",
      " -1.16447954e+01 -6.32435656e+00 -8.47554564e-01  5.40283632e+00\n",
      " -1.28020267e+01 -2.83890795e-02 -3.73200488e+00 -2.25445347e+01\n",
      "  4.90988207e+00 -4.47599754e+01 -1.03559589e+01 -3.34418726e+00\n",
      " -1.23658743e+01 -3.75986552e+00 -1.03232396e+00 -1.57382154e+01\n",
      " -5.94738197e+00 -5.16932774e+00 -1.54636269e+01 -5.04469633e+00\n",
      " -2.34804115e+01 -4.96011276e+01  1.79069653e-01 -1.92788620e+01\n",
      " -3.41962314e+00 -9.73653030e+00  2.02576294e+01 -8.15155029e+00\n",
      " -7.94113636e+00 -3.32691460e+01 -3.31233635e+01 -2.80423775e+01\n",
      "  1.51682913e+00 -2.95058632e+01  4.16264009e+00 -4.93439531e+00\n",
      " -5.32187653e+00 -2.05613041e+01 -4.86544085e+00 -5.88126564e+00\n",
      "  1.62851028e+01  9.36295414e+00 -8.89422417e+00  2.65940762e+01\n",
      " -3.08672285e+00 -3.34897957e+01 -3.25482330e+01 -4.83595181e+00\n",
      "  3.76018333e+00  1.04788742e+01 -2.59111862e+01  1.81943512e+00\n",
      " -1.89970913e+01 -3.11431179e+01 -3.37136412e+00 -2.03364906e+01\n",
      " -1.35061893e+01 -4.02099943e+00  1.43041916e+01  7.24579811e+00\n",
      " -1.85772438e+01 -3.06986828e+01 -1.10894766e+01 -7.97127628e+00\n",
      " -1.62955875e+01 -2.44360294e+01 -1.72100258e+01  5.00765419e+00\n",
      "  2.11078584e-01 -2.69566631e+01]' has dtype incompatible with int64, please explicitly cast to a compatible dtype first.\n",
      "  preds[val_index] = model.predict(dval_i)\n"
     ]
    },
    {
     "name": "stderr",
     "output_type": "stream",
     "text": [
      "\r",
      "100%|███████████████████████████████████████████████████████████████████████████████████████████████████████████████████████████████████████████████████| 10/10 [04:57<00:00, 29.79s/it]"
     ]
    },
    {
     "name": "stderr",
     "output_type": "stream",
     "text": [
      "\r",
      "100%|███████████████████████████████████████████████████████████████████████████████████████████████████████████████████████████████████████████████████| 10/10 [04:57<00:00, 29.70s/it]"
     ]
    },
    {
     "name": "stdout",
     "output_type": "stream",
     "text": [
      "OOF predictions complete\n"
     ]
    },
    {
     "name": "stderr",
     "output_type": "stream",
     "text": [
      "\n"
     ]
    }
   ],
   "source": [
    "# OOF予測\n",
    "oof_preds = []\n",
    "for i in tqdm(range(repeat_cv), leave=True, dynamic_ncols=True):\n",
    "    # 初期はターゲットの値で初期化（後で上書き）\n",
    "    preds = y.copy()\n",
    "    # 各 repeater 毎に独自の KFold を用いる（random_state = i）\n",
    "    kfold = KFold(n_splits=folds_splits, shuffle=True, random_state=i)    \n",
    "    for train_index, val_index in kfold.split(X, y):\n",
    "        dtrain_i = xgb.DMatrix(X.iloc[train_index], label=y.iloc[train_index])\n",
    "        dval_i   = xgb.DMatrix(X.iloc[val_index], label=y.iloc[val_index])\n",
    "\n",
    "        model = xgb.train(\n",
    "            params=param,\n",
    "            dtrain=dtrain_i,\n",
    "            num_boost_round=iteration_counts[i],\n",
    "            verbose_eval=50\n",
    "        )\n",
    "        preds[val_index] = model.predict(dval_i)\n",
    "    # 予測値を -30 ～ 30 にクリップ\n",
    "    oof_preds.append(np.clip(preds, -30, 30))\n",
    "\n",
    "print(\"OOF predictions complete\")"
   ]
  },
  {
   "cell_type": "code",
   "execution_count": 24,
   "id": "5733803a",
   "metadata": {
    "execution": {
     "iopub.execute_input": "2025-03-12T11:45:18.162412Z",
     "iopub.status.busy": "2025-03-12T11:45:18.162412Z",
     "iopub.status.idle": "2025-03-12T11:45:18.270577Z",
     "shell.execute_reply": "2025-03-12T11:45:18.270577Z"
    },
    "papermill": {
     "duration": 0.134291,
     "end_time": "2025-03-12T11:45:18.270577",
     "exception": false,
     "start_time": "2025-03-12T11:45:18.136286",
     "status": "completed"
    },
    "tags": []
   },
   "outputs": [
    {
     "data": {
      "text/plain": [
       "<Axes: >"
      ]
     },
     "execution_count": 24,
     "metadata": {},
     "output_type": "execute_result"
    },
    {
     "data": {
      "image/png": "[encoded data removed]",
      "text/plain": [
       "<Figure size 640x480 with 1 Axes>"
      ]
     },
     "metadata": {},
     "output_type": "display_data"
    }
   ],
   "source": [
    "oof_preds[0].hist()"
   ]
  },
  {
   "cell_type": "code",
   "execution_count": 25,
   "id": "40531958",
   "metadata": {
    "execution": {
     "iopub.execute_input": "2025-03-12T11:45:18.307228Z",
     "iopub.status.busy": "2025-03-12T11:45:18.306223Z",
     "iopub.status.idle": "2025-03-12T11:45:18.331655Z",
     "shell.execute_reply": "2025-03-12T11:45:18.331655Z"
    },
    "papermill": {
     "duration": 0.047956,
     "end_time": "2025-03-12T11:45:18.331655",
     "exception": false,
     "start_time": "2025-03-12T11:45:18.283699",
     "status": "completed"
    },
    "tags": []
   },
   "outputs": [],
   "source": [
    "### simple spline, seed(1, 16)~(4, 13)は強制的にfiltaring,  \n",
    "### seed値に対応して予測スコアも同じ大小関係なら1or0に変換の3モデル\n",
    "def cal_logloss(pred_vals, y, i):\n",
    "    y_binary = np.where(y > 0, 1, 0)\n",
    "    loss = log_loss(y_binary, pred_vals)\n",
    "    print(f\"logloss of cvsplit {i}: {loss:.4f}\")\n",
    "\n",
    "\n",
    "    results.append(f\"Normal Spline - logloss of cvsplit {i}: {loss:.4f}\")\n",
    "    return loss\n",
    "\n",
    "#simple spline\n",
    "def make_normal_spline(df, y, repeat_cv):\n",
    "    spline_model1 = []\n",
    "    logloss_normal = []\n",
    "    \n",
    "    for i in range(repeat_cv):\n",
    "        dat = list(zip(df[i], np.where(y>0, 1, 0)))\n",
    "        dat = sorted(dat, key=lambda x:x[0])\n",
    "        datdict = {}\n",
    "        for k in range(len(dat)):\n",
    "            datdict[dat[k][0]] = dat[k][1]\n",
    "        \n",
    "        spline_model1.append(UnivariateSpline(list(datdict.keys()), list(datdict.values())))\n",
    "        spline_fit = spline_model1[i](df[i])\n",
    "        \n",
    "        loss = cal_logloss(spline_fit, y, i)    \n",
    "        logloss_normal.append(loss)\n",
    "\n",
    "    plot_df = pd.DataFrame({\n",
    "        \"pred\": df[0],\n",
    "        \"label\": np.where(y>0,1,0),\n",
    "        \"spline\": spline_model1[0](df[0])\n",
    "    })\n",
    "    plot_df[\"pred_int\"] = plot_df[\"pred\"].astype(int)\n",
    "    plot_df = plot_df.groupby('pred_int')[['spline','label']].mean().reset_index()\n",
    "    \n",
    "    plt.figure(figsize=(8, 5))\n",
    "    plt.plot(plot_df.pred_int, plot_df.label, marker='o', linestyle='-', label=\"True Label\")\n",
    "    plt.plot(plot_df.pred_int, plot_df.spline, marker='x', linestyle='--', label=\"Spline Approximation\")\n",
    "    plt.xlabel(\"Predicted Value (Integer)\")\n",
    "    plt.ylabel(\"Mean Value\")\n",
    "    plt.title(\"Normal Spline Fit Comparison\")\n",
    "    plt.legend()\n",
    "    plt.grid(True)\n",
    "    plt.savefig(os.path.join(OUTPUT_PATH, f\"normal_spline_fit_{PREDICT_YEAR}.png\"))\n",
    "    plt.close()\n",
    "    \n",
    "    \n",
    "    # 例として平均loglossもresultsに記録\n",
    "    avg_logloss = np.mean(logloss_normal) \n",
    "    results.append(f\"Average Normal Spline logloss: {avg_logloss:.4f}\" if avg_logloss is not None else \"No logloss computed\")\n",
    "    \n",
    "    return spline_model1\n",
    "            \n",
    "            \n",
    "#seed(1, 16)~(4, 13)は強制的にseed通りの結果にフィルタリング\n",
    "def make_seed1to4_chenge(df, y, repeat_cv):\n",
    "    spline_model2 = []\n",
    "    spline_fits = []\n",
    "    for i in range(repeat_cv):\n",
    "        dat = list(zip(df[i], np.where(y>0, 1, 0)))\n",
    "        dat = sorted(dat, key=lambda x:x[0])\n",
    "        datdict = {}\n",
    "        for k in range(len(dat)):\n",
    "            datdict[dat[k][0]] = dat[k][1]\n",
    "        \n",
    "        spline_model2.append(UnivariateSpline(list(datdict.keys()), list(datdict.values())))\n",
    "        spline_fit = spline_model2[i](df[i]) \n",
    "        \n",
    "        #add\n",
    "        spline_fit[(X.T1_seed==1) & (X.T2_seed==16)] = 1.0\n",
    "        spline_fit[(X.T1_seed==2) & (X.T2_seed==15)] = 0.9\n",
    "        spline_fit[(X.T1_seed==3) & (X.T2_seed==14)] = 0.8\n",
    "        spline_fit[(X.T1_seed==4) & (X.T2_seed==13)] = 0.7\n",
    "        spline_fit[(X.T1_seed==16) & (X.T2_seed==1)] = 0.0\n",
    "        spline_fit[(X.T1_seed==15) & (X.T2_seed==2)] = 0.1\n",
    "        spline_fit[(X.T1_seed==14) & (X.T2_seed==3)] = 0.2\n",
    "        spline_fit[(X.T1_seed==13) & (X.T2_seed==4)] = 0.3\n",
    "\n",
    "    \n",
    "        cal_logloss(spline_fit, y, i)   \n",
    "                \n",
    "        spline_fits.append(spline_fit)\n",
    "        cal_logloss(spline_fit, y, i)   \n",
    "                \n",
    "    \n",
    "    plot_df = pd.DataFrame({\n",
    "        \"pred\": df[0],\n",
    "        \"label\": np.where(y > 0, 1, 0),\n",
    "        \"spline\": spline_fits[0]  # 変更後の値を利用\n",
    "    })\n",
    "    plot_df[\"pred_int\"] = plot_df[\"pred\"].astype(int)\n",
    "    plot_df = plot_df.groupby(\"pred_int\")[[\"spline\", \"label\"]].mean().reset_index()\n",
    "\n",
    "    plt.figure()\n",
    "    plt.plot(plot_df.pred_int, plot_df.label, label=\"label\")\n",
    "    plt.plot(plot_df.pred_int, plot_df.spline, label=\"spline\")\n",
    "    plt.legend()\n",
    "    plt.show()\n",
    "    \n",
    "    return spline_model2\n",
    "    \n",
    "    \n",
    "#完全に値変換するのではなくてseed値に対応して予測スコアも同じ大小関係なら1or0に変換\n",
    "def make_seed1to4_base_on_score(df, y, repeat_cv):\n",
    "    spline_model3 = []\n",
    "    spline_fits = []\n",
    "\n",
    "    for i in range(repeat_cv):\n",
    "        dat = list(zip(df[i], np.where(y>0, 1, 0)))\n",
    "        dat = sorted(dat, key=lambda x:x[0])\n",
    "        datdict = {}\n",
    "        for k in range(len(dat)):\n",
    "            datdict[dat[k][0]] = dat[k][1]\n",
    "        \n",
    "        spline_model3.append(UnivariateSpline(list(datdict.keys()), list(datdict.values())))\n",
    "        spline_fit = spline_model3[i](df[i]) \n",
    "        \n",
    "        #add\n",
    "        spline_fit[(X.T1_seed==1) & (X.T2_seed==16) & (X.T1_Score > X.T2_Score)] = 1.0\n",
    "        spline_fit[(X.T1_seed==2) & (X.T2_seed==15) & (X.T1_Score > X.T2_Score)] = 1.0\n",
    "        spline_fit[(X.T1_seed==3) & (X.T2_seed==14) & (X.T1_Score > X.T2_Score)] = 1.0\n",
    "        spline_fit[(X.T1_seed==4) & (X.T2_seed==13) & (X.T1_Score > X.T2_Score)] = 1.0\n",
    "        spline_fit[(X.T1_seed==16) & (X.T2_seed==1) & (X.T1_Score < X.T2_Score)] = 0.0\n",
    "        spline_fit[(X.T1_seed==15) & (X.T2_seed==2) & (X.T1_Score < X.T2_Score)] = 0.0\n",
    "        spline_fit[(X.T1_seed==14) & (X.T2_seed==3) & (X.T1_Score < X.T2_Score)] = 0.0\n",
    "        spline_fit[(X.T1_seed==13) & (X.T2_seed==4) & (X.T1_Score < X.T2_Score)] = 0.0\n",
    "\n",
    "        spline_fits.append(spline_fit)\n",
    "        cal_logloss(spline_fit, y, i)   \n",
    "    \n",
    "    \n",
    "    plot_df = pd.DataFrame({\n",
    "        \"pred\": df[0],\n",
    "        \"label\": np.where(y > 0, 1, 0),\n",
    "        \"spline\": spline_fits[0]  # 変更後の値を利用\n",
    "    })\n",
    "    plot_df[\"pred_int\"] = plot_df[\"pred\"].astype(int)\n",
    "    plot_df = plot_df.groupby(\"pred_int\")[[\"spline\", \"label\"]].mean().reset_index()\n",
    "\n",
    "    plt.figure()\n",
    "    plt.plot(plot_df.pred_int, plot_df.label, label=\"label\")\n",
    "    plt.plot(plot_df.pred_int, plot_df.spline, label=\"spline\")\n",
    "    plt.legend()\n",
    "    plt.show()\n",
    "    return spline_model3\n",
    "\n",
    "\n",
    "\n",
    "# Platt Scalingを用いた補正曲線生成の関数 (ロジスティック回帰)\n",
    "def make_platt_scaling(df, y, repeat_cv):\n",
    "    platt_models = []\n",
    "    logloss_platt = []\n",
    "    \n",
    "    for i in range(repeat_cv):\n",
    "        X_train = np.array(df[i]).reshape(-1, 1)\n",
    "        y_binary = np.where(y > 0, 1, 0)\n",
    "        \n",
    "        model = LogisticRegression(random_state=42, solver='lbfgs')\n",
    "        model.fit(X_train, y_binary)\n",
    "        platt_models.append(model)\n",
    "        \n",
    "\n",
    "        platt_fit = model.predict_proba(X_train)[:, 1]\n",
    "        loss = cal_logloss(platt_fit, y, i)\n",
    "        logloss_platt.append(loss)\n",
    "    \n",
    "    \n",
    "    ###\n",
    "    plot_df = pd.DataFrame({\n",
    "        \"pred\": df[0],\n",
    "        \"label\": np.where(y > 0, 1, 0),\n",
    "        \"platt\": platt_models[0].predict_proba(np.array(df[0]).reshape(-1, 1))[:, 1]\n",
    "    })\n",
    "    plot_df[\"pred_int\"] = plot_df[\"pred\"].astype(int)\n",
    "    plot_df = plot_df.groupby(\"pred_int\")[[\"platt\", \"label\"]].mean().reset_index()\n",
    "    \n",
    "    plt.figure(figsize=(8, 5))\n",
    "    plt.plot(plot_df.pred_int, plot_df.label, marker='o', linestyle='-', label=\"True Label\")\n",
    "    plt.plot(plot_df.pred_int, plot_df.platt, marker='x', linestyle='--', label=\"Platt Scaling\")\n",
    "    plt.xlabel(\"Predicted Value (Integer)\")\n",
    "    plt.ylabel(\"Mean Value\")\n",
    "    plt.title(\"Platt Scaling Calibration Curve\")\n",
    "    plt.legend()\n",
    "    plt.grid(True)\n",
    "    plt.savefig(os.path.join(OUTPUT_PATH, f\"platt_scaling_fit_{PREDICT_YEAR}.png\"))\n",
    "    plt.close()\n",
    "    \n",
    "    avg_logloss = np.mean(logloss_platt)\n",
    "    results.append(f\"Average Platt Scaling logloss: {avg_logloss:.4f}\" if avg_logloss is not None else \"No logloss computed\")\n",
    "    \n",
    "    return platt_models\n",
    "\n",
    "def make_isotonic_regression(df, y, repeat_cv):\n",
    "    \"\"\" Isotonic Regression を用いた補正曲線生成 \"\"\"\n",
    "    isotonic_models = []\n",
    "    logloss_isotonic = []\n",
    "    \n",
    "    for i in range(repeat_cv):\n",
    "        X_train = np.array(df[i]).reshape(-1, 1)\n",
    "        y_binary = np.where(y > 0, 1, 0)\n",
    "        \n",
    "        model = IsotonicRegression(out_of_bounds=\"clip\")\n",
    "        model.fit(X_train.ravel(), y_binary)\n",
    "        isotonic_models.append(model)\n",
    "        \n",
    "        isotonic_fit = model.predict(X_train.ravel())\n",
    "        loss = cal_logloss(isotonic_fit, y, i)\n",
    "        logloss_isotonic.append(loss)\n",
    "    \n",
    "    plot_df = pd.DataFrame({\n",
    "        \"pred\": df[0],\n",
    "        \"label\": np.where(y > 0, 1, 0),\n",
    "        \"isotonic\": isotonic_models[0].predict(np.array(df[0]).reshape(-1, 1))\n",
    "    })\n",
    "    plot_df[\"pred_int\"] = plot_df[\"pred\"].astype(int)\n",
    "    plot_df = plot_df.groupby(\"pred_int\")[[\"isotonic\", \"label\"]].mean().reset_index()\n",
    "    \n",
    "    plt.figure(figsize=(8, 5))\n",
    "    plt.plot(plot_df.pred_int, plot_df.label, marker='o', linestyle='-', label=\"True Label\")\n",
    "    plt.plot(plot_df.pred_int, plot_df.isotonic, marker='x', linestyle='--', label=\"Isotonic Regression\")\n",
    "    plt.xlabel(\"Predicted Value (Integer)\")\n",
    "    plt.ylabel(\"Mean Value\")\n",
    "    plt.title(\"Isotonic Regression Calibration Curve\")\n",
    "    plt.legend()\n",
    "    plt.grid(True)\n",
    "    plt.savefig(os.path.join(OUTPUT_PATH, f\"isotonic_regression_fit_{PREDICT_YEAR}.png\"))\n",
    "    plt.close()\n",
    "    \n",
    "    avg_logloss = np.mean(logloss_isotonic)\n",
    "    results.append(f\"Average Isotonic Regression logloss: {avg_logloss:.4f}\" if avg_logloss is not None else \"No logloss computed\")\n",
    "    \n",
    "    return isotonic_models\n",
    "\n"
   ]
  },
  {
   "cell_type": "code",
   "execution_count": 26,
   "id": "e4e7ecec",
   "metadata": {
    "execution": {
     "iopub.execute_input": "2025-03-12T11:45:18.366196Z",
     "iopub.status.busy": "2025-03-12T11:45:18.365134Z",
     "iopub.status.idle": "2025-03-12T11:45:18.370952Z",
     "shell.execute_reply": "2025-03-12T11:45:18.370644Z"
    },
    "papermill": {
     "duration": 0.036655,
     "end_time": "2025-03-12T11:45:18.371959",
     "exception": false,
     "start_time": "2025-03-12T11:45:18.335304",
     "status": "completed"
    },
    "tags": []
   },
   "outputs": [],
   "source": [
    "# キャリブレーションカーブの描画関数\n",
    "def plot_calibration_curve(y_true, y_pred_proba, method, save_path):\n",
    "    \"\"\" キャリブレーションカーブをプロットし保存 \"\"\"\n",
    "    y_binary = np.where(y_true > 0, 1, 0) \n",
    "    prob_true, prob_pred = calibration_curve(y_binary, y_pred_proba, n_bins=10)\n",
    "    \n",
    "    plt.figure(figsize=(6,6))\n",
    "    plt.plot(prob_pred, prob_true, marker=\"o\", label=f\"{method} Calibration\")\n",
    "    plt.plot([0, 1], [0, 1], linestyle=\"--\", label=\"Perfect Calibration\")\n",
    "    plt.xlabel(\"Predicted Probability\")\n",
    "    plt.ylabel(\"Actual Probability\")\n",
    "    plt.legend()\n",
    "    plt.title(f\"{method} Calibration Curve\")\n",
    "    plt.grid()\n",
    "    plt.savefig(save_path)\n",
    "    plt.close()\n",
    "\n"
   ]
  },
  {
   "cell_type": "code",
   "execution_count": 27,
   "id": "a2fdb056",
   "metadata": {
    "execution": {
     "iopub.execute_input": "2025-03-12T11:45:18.405506Z",
     "iopub.status.busy": "2025-03-12T11:45:18.404920Z",
     "iopub.status.idle": "2025-03-12T11:45:18.601603Z",
     "shell.execute_reply": "2025-03-12T11:45:18.601603Z"
    },
    "papermill": {
     "duration": 0.215541,
     "end_time": "2025-03-12T11:45:18.601603",
     "exception": false,
     "start_time": "2025-03-12T11:45:18.386062",
     "status": "completed"
    },
    "tags": []
   },
   "outputs": [
    {
     "name": "stdout",
     "output_type": "stream",
     "text": [
      "logloss of cvsplit 0: 0.5049\n",
      "logloss of cvsplit 1: 0.5062\n",
      "logloss of cvsplit 2: 0.5038\n",
      "logloss of cvsplit 3: 0.5033\n",
      "logloss of cvsplit 4: 0.5049\n",
      "logloss of cvsplit 5: 0.5029\n",
      "logloss of cvsplit 6: 0.5024\n",
      "logloss of cvsplit 7: 0.5038\n",
      "logloss of cvsplit 8: 0.5029\n",
      "logloss of cvsplit 9: 0.5051\n"
     ]
    }
   ],
   "source": [
    "# キャリブレーション手法の選択\n",
    "spline = MODEL.spline\n",
    "if spline == \"spline_normal\":\n",
    "    spline_model = make_normal_spline(oof_preds, y, repeat_cv)\n",
    "    calibrated_preds = spline_model[0](oof_preds[0])\n",
    "    plot_calibration_curve(y, calibrated_preds, \"Spline Normal\", os.path.join(OUTPUT_PATH, f\"spline_normal_calibration_{PREDICT_YEAR}.png\"))\n",
    "    \n",
    "elif spline == \"logistic\":\n",
    "    spline_model = make_platt_scaling(oof_preds, y, repeat_cv)\n",
    "    calibrated_preds = spline_model[0].predict_proba(np.array(oof_preds[0]).reshape(-1, 1))[:, 1]\n",
    "    plot_calibration_curve(y, calibrated_preds, \"Platt Scaling\", os.path.join(OUTPUT_PATH, f\"platt_scaling_calibration_{PREDICT_YEAR}.png\"))\n",
    "    \n",
    "elif spline == \"isotonic\":\n",
    "    spline_model = make_isotonic_regression(oof_preds, y, repeat_cv)\n",
    "    calibrated_preds = spline_model[0].predict(np.array(oof_preds[0]).reshape(-1, 1))\n",
    "    plot_calibration_curve(y, calibrated_preds, \"Isotonic Regression\", os.path.join(OUTPUT_PATH, f\"isotonic_regression_calibration_{PREDICT_YEAR}.png\"))"
   ]
  },
  {
   "cell_type": "markdown",
   "id": "17de3d65",
   "metadata": {
    "papermill": {
     "duration": 0.015795,
     "end_time": "2025-03-12T11:45:18.627658",
     "exception": false,
     "start_time": "2025-03-12T11:45:18.611863",
     "status": "completed"
    },
    "tags": []
   },
   "source": [
    "# submmit\n",
    "\n",
    "同じfeature engineeringする.\n",
    "\n",
    "個々の扱うも考える。2025は最終提出用の関数を用意する、その他2024以前は過去コンペでの提出形式に合わせる、でも年度によって提出形式が変わるからとりあえず2023でやる"
   ]
  },
  {
   "cell_type": "code",
   "execution_count": 28,
   "id": "6100976f",
   "metadata": {
    "execution": {
     "iopub.execute_input": "2025-03-12T11:45:18.670105Z",
     "iopub.status.busy": "2025-03-12T11:45:18.670105Z",
     "iopub.status.idle": "2025-03-12T11:45:18.676801Z",
     "shell.execute_reply": "2025-03-12T11:45:18.676801Z"
    },
    "papermill": {
     "duration": 0.033067,
     "end_time": "2025-03-12T11:45:18.676801",
     "exception": false,
     "start_time": "2025-03-12T11:45:18.643734",
     "status": "completed"
    },
    "tags": []
   },
   "outputs": [
    {
     "data": {
      "text/plain": [
       "'if PREDICT_YEAR==2022:\\n    sub = pd.read_csv(os.path.join(INPUT_PATH, \"SampleSubmission2022M.csv\"))\\n    sub[\\'Season\\'] = sub[\\'ID\\'].apply(lambda x: int(x.split(\\'_\\')[0]))\\n    sub[\"T1_TeamID\"] = sub[\\'ID\\'].apply(lambda x: int(x.split(\\'_\\')[1]))\\n    sub[\"T2_TeamID\"] = sub[\\'ID\\'].apply(lambda x: int(x.split(\\'_\\')[2]))\\n    sub_X, a = process_tourney(sub, mode = \"sub\")\\n    dtest = xgb.DMatrix(sub_X)\\nelif PREDICT_YEAR==2023:\\n    sub = pd.read_csv(os.path.join(INPUT_PATH, \"SampleSubmission2023.csv\"))\\n    sub[\\'Season\\'] = sub[\\'ID\\'].apply(lambda x: int(x.split(\\'_\\')[0]))\\n    sub[\"T1_TeamID\"] = sub[\\'ID\\'].apply(lambda x: int(x.split(\\'_\\')[1]))\\n    sub[\"T2_TeamID\"] = sub[\\'ID\\'].apply(lambda x: int(x.split(\\'_\\')[2]))\\n    sub_X, a = process_tourney(sub, mode = \"sub\")\\n    dtest = xgb.DMatrix(sub_X)\\nelif PREDICT_YEAR==2024:\\n    sub = pd.read_csv(os.path.join(INPUT_PATH, \"SampleSubmission2024.csv\"))\\n    sub[\\'Season\\'] = sub[\\'ID\\'].apply(lambda x: int(x.split(\\'_\\')[0]))\\n    sub[\"T1_TeamID\"] = sub[\\'ID\\'].apply(lambda x: int(x.split(\\'_\\')[1]))\\n    sub[\"T2_TeamID\"] = sub[\\'ID\\'].apply(lambda x: int(x.split(\\'_\\')[2]))\\n    sub_X, a = process_tourney(sub, mode = \"sub\")\\n    dtest = xgb.DMatrix(sub_X)\\nelif PREDICT_YEAR==2025:\\n    sub = pd.read_csv(os.path.join(INPUT_PATH, \"SampleSubmissionStage2.csv\"))\\n    sub[\\'Season\\'] = sub[\\'ID\\'].apply(lambda x: int(x.split(\\'_\\')[0]))\\n    sub[\"T1_TeamID\"] = sub[\\'ID\\'].apply(lambda x: int(x.split(\\'_\\')[1]))\\n    sub[\"T2_TeamID\"] = sub[\\'ID\\'].apply(lambda x: int(x.split(\\'_\\')[2]))   \\n    sub_X, a = process_tourney(sub, mode = \"sub\")\\n    dtest = xgb.DMatrix(sub_X)'"
      ]
     },
     "execution_count": 28,
     "metadata": {},
     "output_type": "execute_result"
    }
   ],
   "source": [
    "\"\"\"if PREDICT_YEAR==2022:\n",
    "    sub = pd.read_csv(os.path.join(INPUT_PATH, \"SampleSubmission2022M.csv\"))\n",
    "    sub['Season'] = sub['ID'].apply(lambda x: int(x.split('_')[0]))\n",
    "    sub[\"T1_TeamID\"] = sub['ID'].apply(lambda x: int(x.split('_')[1]))\n",
    "    sub[\"T2_TeamID\"] = sub['ID'].apply(lambda x: int(x.split('_')[2]))\n",
    "    sub_X, a = process_tourney(sub, mode = \"sub\")\n",
    "    dtest = xgb.DMatrix(sub_X)\n",
    "elif PREDICT_YEAR==2023:\n",
    "    sub = pd.read_csv(os.path.join(INPUT_PATH, \"SampleSubmission2023.csv\"))\n",
    "    sub['Season'] = sub['ID'].apply(lambda x: int(x.split('_')[0]))\n",
    "    sub[\"T1_TeamID\"] = sub['ID'].apply(lambda x: int(x.split('_')[1]))\n",
    "    sub[\"T2_TeamID\"] = sub['ID'].apply(lambda x: int(x.split('_')[2]))\n",
    "    sub_X, a = process_tourney(sub, mode = \"sub\")\n",
    "    dtest = xgb.DMatrix(sub_X)\n",
    "elif PREDICT_YEAR==2024:\n",
    "    sub = pd.read_csv(os.path.join(INPUT_PATH, \"SampleSubmission2024.csv\"))\n",
    "    sub['Season'] = sub['ID'].apply(lambda x: int(x.split('_')[0]))\n",
    "    sub[\"T1_TeamID\"] = sub['ID'].apply(lambda x: int(x.split('_')[1]))\n",
    "    sub[\"T2_TeamID\"] = sub['ID'].apply(lambda x: int(x.split('_')[2]))\n",
    "    sub_X, a = process_tourney(sub, mode = \"sub\")\n",
    "    dtest = xgb.DMatrix(sub_X)\n",
    "elif PREDICT_YEAR==2025:\n",
    "    sub = pd.read_csv(os.path.join(INPUT_PATH, \"SampleSubmissionStage2.csv\"))\n",
    "    sub['Season'] = sub['ID'].apply(lambda x: int(x.split('_')[0]))\n",
    "    sub[\"T1_TeamID\"] = sub['ID'].apply(lambda x: int(x.split('_')[1]))\n",
    "    sub[\"T2_TeamID\"] = sub['ID'].apply(lambda x: int(x.split('_')[2]))   \n",
    "    sub_X, a = process_tourney(sub, mode = \"sub\")\n",
    "    dtest = xgb.DMatrix(sub_X)\"\"\"\n",
    "    "
   ]
  },
  {
   "cell_type": "code",
   "execution_count": 29,
   "id": "5f8f3401",
   "metadata": {
    "execution": {
     "iopub.execute_input": "2025-03-12T11:45:18.711504Z",
     "iopub.status.busy": "2025-03-12T11:45:18.710500Z",
     "iopub.status.idle": "2025-03-12T11:45:18.736873Z",
     "shell.execute_reply": "2025-03-12T11:45:18.736873Z"
    },
    "papermill": {
     "duration": 0.044696,
     "end_time": "2025-03-12T11:45:18.739041",
     "exception": false,
     "start_time": "2025-03-12T11:45:18.694345",
     "status": "completed"
    },
    "tags": []
   },
   "outputs": [
    {
     "name": "stdout",
     "output_type": "stream",
     "text": [
      "no fillna, use nan\n"
     ]
    }
   ],
   "source": [
    "sub = notexist.copy()\n",
    "sub = sub.rename(columns={\"WTeamID\": \"T1_TeamID\", \"LTeamID\": \"T2_TeamID\"})\n",
    "sub = sub[[\"Season\", \"T1_TeamID\", \"T2_TeamID\"]]\n",
    "temp = sub.copy()\n",
    "temp = temp.rename(columns={\"T1_TeamID\": \"T2_TeamID\", \"T2_TeamID\": \"T1_TeamID\"})\n",
    "sub = pd.concat([sub, temp]).reset_index()\n",
    "sub_X, a = process_tourney(sub, mode=\"sub\")\n",
    "dtest = xgb.DMatrix(sub_X)"
   ]
  },
  {
   "cell_type": "code",
   "execution_count": 30,
   "id": "a5f0666b",
   "metadata": {
    "execution": {
     "iopub.execute_input": "2025-03-12T11:45:18.794516Z",
     "iopub.status.busy": "2025-03-12T11:45:18.794516Z",
     "iopub.status.idle": "2025-03-12T11:46:29.389273Z",
     "shell.execute_reply": "2025-03-12T11:46:29.389273Z"
    },
    "papermill": {
     "duration": 70.651537,
     "end_time": "2025-03-12T11:46:29.416338",
     "exception": false,
     "start_time": "2025-03-12T11:45:18.764801",
     "status": "completed"
    },
    "tags": []
   },
   "outputs": [
    {
     "name": "stderr",
     "output_type": "stream",
     "text": [
      "\r",
      "  0%|                                                                                                                                                            | 0/10 [00:00<?, ?it/s]"
     ]
    },
    {
     "name": "stderr",
     "output_type": "stream",
     "text": [
      "\r",
      " 10%|██████████████▊                                                                                                                                     | 1/10 [00:07<01:03,  7.08s/it]"
     ]
    },
    {
     "name": "stderr",
     "output_type": "stream",
     "text": [
      "\r",
      " 20%|█████████████████████████████▌                                                                                                                      | 2/10 [00:14<00:56,  7.06s/it]"
     ]
    },
    {
     "name": "stderr",
     "output_type": "stream",
     "text": [
      "\r",
      " 30%|████████████████████████████████████████████▍                                                                                                       | 3/10 [00:21<00:49,  7.12s/it]"
     ]
    },
    {
     "name": "stderr",
     "output_type": "stream",
     "text": [
      "\r",
      " 40%|███████████████████████████████████████████████████████████▏                                                                                        | 4/10 [00:27<00:40,  6.76s/it]"
     ]
    },
    {
     "name": "stderr",
     "output_type": "stream",
     "text": [
      "\r",
      " 50%|██████████████████████████████████████████████████████████████████████████                                                                          | 5/10 [00:34<00:34,  6.83s/it]"
     ]
    },
    {
     "name": "stderr",
     "output_type": "stream",
     "text": [
      "\r",
      " 60%|████████████████████████████████████████████████████████████████████████████████████████▊                                                           | 6/10 [00:40<00:26,  6.56s/it]"
     ]
    },
    {
     "name": "stderr",
     "output_type": "stream",
     "text": [
      "\r",
      " 70%|███████████████████████████████████████████████████████████████████████████████████████████████████████▌                                            | 7/10 [00:48<00:21,  7.01s/it]"
     ]
    },
    {
     "name": "stderr",
     "output_type": "stream",
     "text": [
      "\r",
      " 80%|██████████████████████████████████████████████████████████████████████████████████████████████████████████████████████▍                             | 8/10 [00:56<00:14,  7.20s/it]"
     ]
    },
    {
     "name": "stderr",
     "output_type": "stream",
     "text": [
      "\r",
      " 90%|█████████████████████████████████████████████████████████████████████████████████████████████████████████████████████████████████████▏              | 9/10 [01:03<00:07,  7.22s/it]"
     ]
    },
    {
     "name": "stderr",
     "output_type": "stream",
     "text": [
      "\r",
      "100%|███████████████████████████████████████████████████████████████████████████████████████████████████████████████████████████████████████████████████| 10/10 [01:10<00:00,  7.23s/it]"
     ]
    },
    {
     "name": "stderr",
     "output_type": "stream",
     "text": [
      "\r",
      "100%|███████████████████████████████████████████████████████████████████████████████████████████████████████████████████████████████████████████████████| 10/10 [01:10<00:00,  7.06s/it]"
     ]
    },
    {
     "name": "stderr",
     "output_type": "stream",
     "text": [
      "\n"
     ]
    }
   ],
   "source": [
    "sub_models = []\n",
    "#sokutionではカスタム関数の指定、早期停止の言及がここではなかった。検討する\n",
    "for i in tqdm(range(repeat_cv), leave=True, dynamic_ncols=True):\n",
    "    sub_models.append(\n",
    "        xgb.train(\n",
    "          params = param,\n",
    "          dtrain = dtrain,\n",
    "          obj=cauchyobj,\n",
    "          num_boost_round = int(iteration_counts[i] * 1.05),\n",
    "          #early_stopping_rounds=early_stopping_rounds, #これ指定してない、指定するのかあと、指定するとしても少し遅くさせるとか\n",
    "          verbose_eval = 50\n",
    "        )\n",
    "    )"
   ]
  },
  {
   "cell_type": "markdown",
   "id": "11c1ca60",
   "metadata": {
    "papermill": {
     "duration": 0.024709,
     "end_time": "2025-03-12T11:46:29.468599",
     "exception": false,
     "start_time": "2025-03-12T11:46:29.443890",
     "status": "completed"
    },
    "tags": []
   },
   "source": [
    "各特徴量の寄与度を算出"
   ]
  },
  {
   "cell_type": "code",
   "execution_count": 31,
   "id": "17f7b60d",
   "metadata": {
    "execution": {
     "iopub.execute_input": "2025-03-12T11:46:29.518179Z",
     "iopub.status.busy": "2025-03-12T11:46:29.518179Z",
     "iopub.status.idle": "2025-03-12T11:46:30.141563Z",
     "shell.execute_reply": "2025-03-12T11:46:30.140558Z"
    },
    "papermill": {
     "duration": 0.645042,
     "end_time": "2025-03-12T11:46:30.141563",
     "exception": false,
     "start_time": "2025-03-12T11:46:29.496521",
     "status": "completed"
    },
    "tags": []
   },
   "outputs": [
    {
     "data": {
      "image/png": "[encoded data removed]",
      "text/plain": [
       "<Figure size 1000x600 with 1 Axes>"
      ]
     },
     "metadata": {},
     "output_type": "display_data"
    }
   ],
   "source": [
    "feature_importances = collections.defaultdict(list)\n",
    "for model in sub_models:\n",
    "    importance = model.get_score(importance_type='gain')\n",
    "    for feat, score in importance.items():\n",
    "        feature_importances[feat].append(score)\n",
    "\n",
    "avg_importance = {feat: sum(scores) / len(scores) for feat, scores in feature_importances.items()}\n",
    "fi_df = pd.DataFrame(list(avg_importance.items()), columns=['Feature', 'Avg_Gain'])\n",
    "fi_df.sort_values(by='Avg_Gain', ascending=False, inplace=True)\n",
    "results.append(\"\")\n",
    "fi_log = \"-----Feature Importance (Average Gain)-----\\n\"\n",
    "for feat, score in fi_df.values:\n",
    "    fi_log += f\"{feat}: {score:.4f}\\n\"\n",
    "results.append(fi_log)\n",
    "results.append(\"\")\n",
    "\n",
    "plt.figure(figsize=(10, 6))\n",
    "plt.bar(fi_df['Feature'], fi_df['Avg_Gain'])\n",
    "plt.xlabel('Feature')\n",
    "plt.ylabel('Average Gain')\n",
    "plt.title('Feature Importance (Average Gain)')\n",
    "plt.xticks(rotation=45)\n",
    "plt.tight_layout() \n",
    "\n",
    "plt.savefig(os.path.join(OUTPUT_PATH, f\"feature_importance_{PREDICT_YEAR}.png\"))\n",
    "plt.show()"
   ]
  },
  {
   "cell_type": "code",
   "execution_count": 32,
   "id": "62596c54",
   "metadata": {
    "execution": {
     "iopub.execute_input": "2025-03-12T11:46:30.179421Z",
     "iopub.status.busy": "2025-03-12T11:46:30.179421Z",
     "iopub.status.idle": "2025-03-12T11:46:30.246625Z",
     "shell.execute_reply": "2025-03-12T11:46:30.246625Z"
    },
    "papermill": {
     "duration": 0.091284,
     "end_time": "2025-03-12T11:46:30.248632",
     "exception": false,
     "start_time": "2025-03-12T11:46:30.157348",
     "status": "completed"
    },
    "tags": []
   },
   "outputs": [
    {
     "name": "stderr",
     "output_type": "stream",
     "text": [
      "\r",
      "  0%|                                                                                                                                                            | 0/10 [00:00<?, ?it/s]"
     ]
    },
    {
     "name": "stderr",
     "output_type": "stream",
     "text": [
      "\r",
      "100%|██████████████████████████████████████████████████████████████████████████████████████████████████████████████████████████████████████████████████| 10/10 [00:00<00:00, 173.46it/s]"
     ]
    },
    {
     "name": "stderr",
     "output_type": "stream",
     "text": [
      "\n"
     ]
    }
   ],
   "source": [
    "sub_preds = []\n",
    "for i in tqdm(range(repeat_cv)):\n",
    "    if spline == \"spline_normal\":\n",
    "        sub_preds.append(np.clip(spline_model[i](np.clip(sub_models[i].predict(dtest), -30, 30)), 0.025, 0.975))\n",
    "    \n",
    "    elif spline == \"logistic\":\n",
    "        X_input = np.clip(sub_models[i].predict(dtest), -30, 30).reshape(-1, 1)\n",
    "        platt_pred = spline_model[i].predict_proba(X_input)[:, 1]\n",
    "        sub_preds.append(np.clip(platt_pred, 0.025, 0.975))\n",
    "\n",
    "    elif spline == \"isotonic\":\n",
    "        X_input = np.clip(sub_models[i].predict(dtest), -30, 30).reshape(-1, 1)\n",
    "        iso_pred = spline_model[i].predict(X_input)  # Isotonic Regression の適用\n",
    "        sub_preds.append(np.clip(iso_pred, 0.025, 0.975))\n",
    "\n",
    "sub[\"Pred\"] = np.mean(np.vstack(sub_preds), axis=0)"
   ]
  },
  {
   "cell_type": "code",
   "execution_count": 33,
   "id": "3b94fd84",
   "metadata": {
    "execution": {
     "iopub.execute_input": "2025-03-12T11:46:30.310485Z",
     "iopub.status.busy": "2025-03-12T11:46:30.310485Z",
     "iopub.status.idle": "2025-03-12T11:46:30.317639Z",
     "shell.execute_reply": "2025-03-12T11:46:30.317639Z"
    },
    "papermill": {
     "duration": 0.041544,
     "end_time": "2025-03-12T11:46:30.319157",
     "exception": false,
     "start_time": "2025-03-12T11:46:30.277613",
     "status": "completed"
    },
    "tags": []
   },
   "outputs": [],
   "source": [
    "# teams:64team, targetを受け取って、そのtarget teamの試合可能性のある全63試合を抽出する関数\n",
    "def extract_target_team_records(submission_df, teams, target_team):\n",
    "    if target_team not in teams:\n",
    "        raise ValueError(f\"target_team {target_team} は teams 内に存在しません\")\n",
    "\n",
    "    remaining_teams = [t for t in teams if t != target_team]\n",
    "    \n",
    "    records = []\n",
    "    for other_team in remaining_teams:\n",
    "        lower = min(target_team, other_team)\n",
    "        higher = max(target_team, other_team)\n",
    "        row = submission_df[(submission_df['T1_TeamID'] == lower) & (submission_df['T2_TeamID'] == higher)]\n",
    "        if row.empty:\n",
    "            print(f\"Warning: 対戦 {lower} vs {higher} に対応するレコードが見つかりませんでした\")\n",
    "        else:\n",
    "            records.append(row)\n",
    "    \n",
    "    if records:\n",
    "        final_records = pd.concat(records, ignore_index=True)\n",
    "    else:\n",
    "        final_records = pd.DataFrame()\n",
    "    \n",
    "    if len(final_records) != 63:\n",
    "        print(f\"Warning: 期待される63件ではなく、{len(final_records)}件のレコードが抽出されました。\")\n",
    "    \n",
    "    return final_records\n"
   ]
  },
  {
   "cell_type": "code",
   "execution_count": 34,
   "id": "c5eba6fb",
   "metadata": {
    "execution": {
     "iopub.execute_input": "2025-03-12T11:46:30.368983Z",
     "iopub.status.busy": "2025-03-12T11:46:30.368983Z",
     "iopub.status.idle": "2025-03-12T11:46:30.377729Z",
     "shell.execute_reply": "2025-03-12T11:46:30.377729Z"
    },
    "papermill": {
     "duration": 0.031827,
     "end_time": "2025-03-12T11:46:30.377729",
     "exception": false,
     "start_time": "2025-03-12T11:46:30.345902",
     "status": "completed"
    },
    "tags": []
   },
   "outputs": [],
   "source": [
    "tourney_teams_2023 = [\n",
    "    1395, 1113,   # TCU1395, アリゾナ・ステイト1113\n",
    "    1231, 1245,   # インディアナ1231, ケント・ステイト1245\n",
    "    1243, 1286,   # カンザス・ステイト1243, モンタナ・ステイト1286\n",
    "    1272, 1194,   # メンフィス1272, ﾌﾛﾘﾀﾞ･ｱﾄﾗﾝﾃｨｯｸ1194\n",
    "    1211, 1213,   # ゴンザガ1211, グランド・キャニオン1213\n",
    "    1274, 1179,   # マイアミ（フロリダ）1274, ドレイク1179\n",
    "    1243, 1286,   # ケンタッキー1243, プロビデンス1286\n",
    "    1345, 1192,   # パデュー1345, ﾌｪｱﾘｰ･ﾃﾞｨｷﾝｿﾝ1192\n",
    "    1163, 1233,   # コネチカット1163, アイオナ1233\n",
    "    1166, 1301,   # クレイトン1166, ﾉｰｽｶﾛﾗｲﾅ･ｽﾃｲﾄ1301\n",
    "    1235, 1338,   # アイオワ・ステイト1235, ピッツバーグ1338\n",
    "    1266, 1436,   # マーケット1266, バーモント1436\n",
    "    1388, 1433,   # ｾﾝﾄﾒｱﾘｰｽﾞ（ｶﾘﾌｫﾙﾆｱ）1388, VCU1433\n",
    "    1124, 1364,   # ベイラー1124, UCサンタバーバラ1364\n",
    "    1462, 1244,   # ザビエル1462, ケネソー・ステイト1244\n",
    "    1277, 1425,   # ミシガン・ステイト1277, USC トロージャンズ1425\n",
    "\n",
    "    1417, 1421,   # UCLA1417, UNC アシュビル1421\n",
    "    1401, 1336,   # テキサス A＆M1401, ﾍﾟﾝｼﾞﾙﾍﾞﾆｱ･ｽﾃｲﾄ1336\n",
    "    1397, 1418,   # テネシー1397, ﾙｲｼﾞｱﾅ･ﾗﾌｧｲｴｯﾄ1418\n",
    "    1222, 1297,   # ヒューストン1222, ノーザンケンタッキー1297\n",
    "    1321, 1129,   # ノースウェスタン1321, ボイシ・ステイト1129\n",
    "    1400, 1159,   # テキサス1400, コルゲート1159\n",
    "    1181, 1331,   # デューク1181, オーラル・ロバーツ1331\n",
    "    1234, 1120,   # アイオワ1234, オーバーン1120\n",
    "    1116, 1228,   # アーカンソー1116, イリノイ1228\n",
    "    1112, 1343,   # アリゾナ1112, プリンストン1343\n",
    "    1361, 1158,   # ｻﾝﾃﾞｴｺﾞ･ｽﾃｲﾄ1361, チャールストン1158\n",
    "    1104, 1394,   # アラバマ1104, テキサス A＆M CC1394\n",
    "    1242, 1224,   # カンザス1242, ハワード1224\n",
    "    1281, 1429,   # ミズーリ1281, ユタ・ステイト1429\n",
    "    1438, 1202,   # バージニア1438, ファーマン1202\n",
    "    1268, 1452    # メリーランド1268, ウェストバージニア1452\n",
    "]\n",
    "\n",
    "#Connecticut_vs = extract_target_team_records(sub, tourney_teams_2023, 1163 )"
   ]
  },
  {
   "cell_type": "code",
   "execution_count": 35,
   "id": "190832d5",
   "metadata": {
    "execution": {
     "iopub.execute_input": "2025-03-12T11:46:30.419818Z",
     "iopub.status.busy": "2025-03-12T11:46:30.419818Z",
     "iopub.status.idle": "2025-03-12T11:46:30.425018Z",
     "shell.execute_reply": "2025-03-12T11:46:30.425018Z"
    },
    "papermill": {
     "duration": 0.02501,
     "end_time": "2025-03-12T11:46:30.425018",
     "exception": false,
     "start_time": "2025-03-12T11:46:30.400008",
     "status": "completed"
    },
    "tags": []
   },
   "outputs": [],
   "source": [
    "#handlabelingを行う関数\n",
    "def make_handlabeling(df, season, T1, T2, labeling_pred, tourney_teams):\n",
    "    if T1 not in tourney_teams or T2 not in tourney_teams: \n",
    "        print(f\"トーナメント対象チームに属していません\")\n",
    "        return \n",
    "    \n",
    "    if T1>T2: \n",
    "        T1, T2 = T2, T1\n",
    "        print(f\"{T1}, {T2}ID逆だけど大丈夫？？\")\n",
    "    id = f\"{season}_{T1}_{T2}\"\n",
    "\n",
    "    print(f\"before: {df[df['ID']==id]}\")\n",
    "    df.loc[df[\"ID\"] == id, \"Pred\"] = labeling_pred\n",
    "    print(f\"after: {df[df['ID']==id]}\")\n",
    "    \n",
    "    results.append(f\"-----handolabeling-----\")\n",
    "    results.append(f\"before:  {df[df['ID']==id]} -----> after: {df[df['ID']==id]}\")\n",
    "    results.appedn(\"\")\n",
    "    return df"
   ]
  },
  {
   "cell_type": "code",
   "execution_count": 36,
   "id": "d9984b33",
   "metadata": {
    "execution": {
     "iopub.execute_input": "2025-03-12T11:46:30.466081Z",
     "iopub.status.busy": "2025-03-12T11:46:30.466081Z",
     "iopub.status.idle": "2025-03-12T11:46:30.472351Z",
     "shell.execute_reply": "2025-03-12T11:46:30.472351Z"
    },
    "papermill": {
     "duration": 0.038277,
     "end_time": "2025-03-12T11:46:30.472351",
     "exception": false,
     "start_time": "2025-03-12T11:46:30.434074",
     "status": "completed"
    },
    "tags": []
   },
   "outputs": [],
   "source": [
    "labeling = cfg.exp.hand_labeling\n",
    "if labeling is not None:\n",
    "    for i in range(len(labeling)):\n",
    "        T1 = labeling[i][0]\n",
    "        T2 = labeling[i][1]\n",
    "        labeling_pred = labeling[i][2]\n",
    "        \n",
    "        print(f\"{T1} vs {T2} result labeling {labeling_pred}\")\n",
    "        \n",
    "        sub = make_handlabeling(sub, PREDICT_YEAR, T1, T2, labeling_pred, tourney_teams_2023)"
   ]
  },
  {
   "cell_type": "code",
   "execution_count": 37,
   "id": "774ba51b",
   "metadata": {
    "execution": {
     "iopub.execute_input": "2025-03-12T11:46:30.519418Z",
     "iopub.status.busy": "2025-03-12T11:46:30.519418Z",
     "iopub.status.idle": "2025-03-12T11:46:30.812415Z",
     "shell.execute_reply": "2025-03-12T11:46:30.812415Z"
    },
    "papermill": {
     "duration": 0.314973,
     "end_time": "2025-03-12T11:46:30.812415",
     "exception": false,
     "start_time": "2025-03-12T11:46:30.497442",
     "status": "completed"
    },
    "tags": []
   },
   "outputs": [
    {
     "name": "stdout",
     "output_type": "stream",
     "text": [
      "Tournament matchups only - Pred Mean: 0.5001242023025901\n"
     ]
    },
    {
     "data": {
      "image/png": "[encoded data removed]",
      "text/plain": [
       "<Figure size 640x480 with 1 Axes>"
      ]
     },
     "metadata": {},
     "output_type": "display_data"
    }
   ],
   "source": [
    "tourney_filtered = notexist[notexist[\"Season\"] == PREDICT_YEAR].copy()\n",
    "a = tourney_filtered.rename(columns={'WTeamID': 'T1_TeamID', 'LTeamID': 'T2_TeamID'})\n",
    "b = tourney_filtered.rename(columns={'WTeamID': 'T2_TeamID', 'LTeamID': 'T1_TeamID'})\n",
    "ab = pd.concat([a, b]).reset_index(drop=True) \n",
    "filtered_sub = sub.merge(ab[['Season', 'T1_TeamID', 'T2_TeamID']], \n",
    "                         on=['Season', 'T1_TeamID', 'T2_TeamID'], \n",
    "                         how='inner')\n",
    "\n",
    "filtered_sub[\"Pred\"].astype(int)\n",
    "pred_mean = filtered_sub[\"Pred\"].mean()\n",
    "print(\"Tournament matchups only - Pred Mean:\", pred_mean)\n",
    "\n",
    "filtered_sub[\"Pred\"].hist(bins=50)\n",
    "results+=[\"\", f\"Tournament matchups only - Pred Mean:, {pred_mean}\", \"\"]\n",
    "plt.figure(figsize=(8, 6))\n",
    "filtered_sub[\"Pred\"].hist(bins=50)\n",
    "plt.title(\"Prediction Histogram\")\n",
    "plt.xlabel(\"Pred\")\n",
    "plt.ylabel(\"Frequency\")\n",
    "plt.grid(True)\n",
    "\n",
    "# 画像として保存\n",
    "plt.savefig(os.path.join(OUTPUT_PATH, f\"Prediction_Histgram_filtered_{PREDICT_YEAR}.png\"))\n",
    "plt.close()"
   ]
  },
  {
   "cell_type": "markdown",
   "id": "e329ea43",
   "metadata": {
    "papermill": {
     "duration": 0.016012,
     "end_time": "2025-03-12T11:46:30.847981",
     "exception": false,
     "start_time": "2025-03-12T11:46:30.831969",
     "status": "completed"
    },
    "tags": []
   },
   "source": [
    "# スコア算出、まとめ、\n",
    "ここまでで提出ファイル作成。ここからは過去年度のシミュレーションに対してBrier scoreやその他指標の算出"
   ]
  },
  {
   "cell_type": "code",
   "execution_count": 38,
   "id": "51c05af8",
   "metadata": {
    "execution": {
     "iopub.execute_input": "2025-03-12T11:46:30.889412Z",
     "iopub.status.busy": "2025-03-12T11:46:30.889412Z",
     "iopub.status.idle": "2025-03-12T11:46:31.063534Z",
     "shell.execute_reply": "2025-03-12T11:46:31.063534Z"
    },
    "papermill": {
     "duration": 0.201555,
     "end_time": "2025-03-12T11:46:31.065548",
     "exception": false,
     "start_time": "2025-03-12T11:46:30.863993",
     "status": "completed"
    },
    "tags": []
   },
   "outputs": [
    {
     "data": {
      "image/png": "[encoded data removed]",
      "text/plain": [
       "<Figure size 640x480 with 1 Axes>"
      ]
     },
     "metadata": {},
     "output_type": "display_data"
    }
   ],
   "source": [
    "sub[\"Pred\"].hist()\n",
    "results+=[\"\", f\"Pred mean: {sub['Pred'].mean()}\", \"\"]\n",
    "\n",
    "plt.figure(figsize=(8, 6))\n",
    "sub[\"Pred\"].hist(bins=50)\n",
    "plt.title(\"Prediction Histogram\")\n",
    "plt.xlabel(\"Pred\")\n",
    "plt.ylabel(\"Frequency\")\n",
    "plt.grid(True)\n",
    "\n",
    "# 画像として保存\n",
    "plt.savefig(os.path.join(OUTPUT_PATH, f\"Prediction_Histgram_{PREDICT_YEAR}.png\"))\n",
    "plt.close()"
   ]
  },
  {
   "cell_type": "markdown",
   "id": "6e1d7a89",
   "metadata": {
    "papermill": {
     "duration": 0.015796,
     "end_time": "2025-03-12T11:46:31.100736",
     "exception": false,
     "start_time": "2025-03-12T11:46:31.084940",
     "status": "completed"
    },
    "tags": []
   },
   "source": [
    "存在するはずのない予測年度のトーナメント結果をもとに(Pred, label)を取り出し、以下を行う。\n",
    "\n",
    "- 各評価指標の計算\n",
    "- キャリブレーション可視化\n",
    "- AUC可視化"
   ]
  },
  {
   "cell_type": "code",
   "execution_count": 39,
   "id": "6482f212",
   "metadata": {
    "execution": {
     "iopub.execute_input": "2025-03-12T11:46:31.150965Z",
     "iopub.status.busy": "2025-03-12T11:46:31.150965Z",
     "iopub.status.idle": "2025-03-12T11:46:31.161204Z",
     "shell.execute_reply": "2025-03-12T11:46:31.161204Z"
    },
    "papermill": {
     "duration": 0.041233,
     "end_time": "2025-03-12T11:46:31.161204",
     "exception": false,
     "start_time": "2025-03-12T11:46:31.119971",
     "status": "completed"
    },
    "tags": []
   },
   "outputs": [],
   "source": [
    "def extract_labels_and_preds(sub, tourney):\n",
    "    \"\"\" 試合データから予測値 (Pred) と正解ラベル (label) を抽出する \"\"\"\n",
    "    label_data = tourney[[\"WTeamID\", \"LTeamID\", \"WScore\", \"LScore\"]]\n",
    "    label_data = label_data.rename(columns={\"WTeamID\": \"T1_TeamID\", \"LTeamID\": \"T2_TeamID\", \"WScore\": \"T1_Score\", \"LScore\": \"T2_Score\"})\n",
    "    temp = label_data.copy()\n",
    "    temp = temp.rename(columns={\"T1_TeamID\": \"T2_TeamID\", \"T2_TeamID\": \"T1_TeamID\", \"T1_Score\": \"T2_Score\", \"T2_Score\": \"T1_Score\"})\n",
    "    label_data = pd.concat([label_data, temp]).reset_index(drop=True)\n",
    "    \n",
    "    label_data = pd.merge(label_data, sub, on=[\"T1_TeamID\", \"T2_TeamID\"], how=\"left\")\n",
    "    label_data[\"label\"] = np.where(label_data[\"T1_Score\"] - label_data[\"T2_Score\"] > 0, 1, 0)\n",
    "    label_data = label_data.dropna(subset=[\"Pred\"])  # 欠損値を削除\n",
    "    \n",
    "    return label_data[[\"label\", \"Pred\"]]\n",
    "\n",
    "def calculate_metrics(label_data):\n",
    "    \"\"\" 各評価指標を計算 \"\"\"\n",
    "    brier_score = round(mean_squared_error(label_data[\"label\"], label_data[\"Pred\"]), 4)  # Brier Score (MSEと同じ)\n",
    "    rmse_score = round(mean_squared_error(label_data[\"label\"], label_data[\"Pred\"], squared=False), 4)  # RMSE\n",
    "    logloss_score = round(log_loss(label_data[\"label\"], label_data[\"Pred\"]), 4)  # Log Loss\n",
    "    mae_score = round(mean_absolute_error(label_data[\"label\"], label_data[\"Pred\"]), 4)  # MAE\n",
    "    \n",
    "    return {\n",
    "        \"Brier Score\": brier_score,\n",
    "        \"RMSE\": rmse_score,\n",
    "        \"Log Loss\": logloss_score,\n",
    "        \"MAE\": mae_score\n",
    "    }\n",
    "\n",
    "def plot_calibration_curve(label_data, n_bins=10):\n",
    "    \"\"\" キャリブレーションカーブをプロット \"\"\"\n",
    "    prob_true, prob_pred = calibration_curve(label_data[\"label\"], label_data[\"Pred\"], n_bins=n_bins)\n",
    "    \n",
    "    plt.figure(figsize=(6,6))\n",
    "    plt.plot(prob_pred, prob_true, marker=\"o\", label=\"Model Calibration\")\n",
    "    plt.plot([0, 1], [0, 1], linestyle=\"--\", label=\"Perfect Calibration\")\n",
    "    plt.xlabel(\"Predicted Probability\")\n",
    "    plt.ylabel(\"Actual Probability\")\n",
    "    plt.legend()\n",
    "    plt.title(\"Calibration Curve\")\n",
    "    plt.show()\n",
    "\n",
    "def calculate_auc_metrics(label_data):\n",
    "    global results\n",
    "    \"\"\" AUC-ROCとAUC-PRを計算 \"\"\"\n",
    "    auc_roc = roc_auc_score(label_data[\"label\"], label_data[\"Pred\"])\n",
    "    auc_pr = average_precision_score(label_data[\"label\"], label_data[\"Pred\"])\n",
    "    \n",
    "    print(f\"AUC-ROC: {auc_roc:.4f}\")\n",
    "    print(f\"AUC-PR: {auc_pr:.4f}\")\n",
    "    results += [\"---- AUC -----\", f\"AUC-ROC: {auc_roc:.4f}\", f\"AUC-PR: {auc_pr:.4f}\"]\n",
    "    "
   ]
  },
  {
   "cell_type": "code",
   "execution_count": 40,
   "id": "a6cdadd8",
   "metadata": {
    "execution": {
     "iopub.execute_input": "2025-03-12T11:46:31.206623Z",
     "iopub.status.busy": "2025-03-12T11:46:31.206623Z",
     "iopub.status.idle": "2025-03-12T11:46:31.324609Z",
     "shell.execute_reply": "2025-03-12T11:46:31.324609Z"
    },
    "papermill": {
     "duration": 0.140066,
     "end_time": "2025-03-12T11:46:31.324609",
     "exception": false,
     "start_time": "2025-03-12T11:46:31.184543",
     "status": "completed"
    },
    "tags": []
   },
   "outputs": [
    {
     "name": "stderr",
     "output_type": "stream",
     "text": [
      "C:\\Users\\81809\\anaconda3\\envs\\deep_learning_pytorch\\Lib\\site-packages\\sklearn\\metrics\\_regression.py:492: FutureWarning: 'squared' is deprecated in version 1.4 and will be removed in 1.6. To calculate the root mean squared error, use the function'root_mean_squared_error'.\n",
      "  warnings.warn(\n"
     ]
    },
    {
     "data": {
      "image/png": "[encoded data removed]",
      "text/plain": [
       "<Figure size 600x600 with 1 Axes>"
      ]
     },
     "metadata": {},
     "output_type": "display_data"
    },
    {
     "name": "stdout",
     "output_type": "stream",
     "text": [
      "AUC-ROC: 0.7950\n",
      "AUC-PR: 0.8046\n",
      "MAE: 0.3449\n",
      "\n",
      "---- AUC -----\n",
      "AUC-ROC: 0.7950\n",
      "AUC-PR: 0.8046\n"
     ]
    }
   ],
   "source": [
    "if PREDICT_YEAR == 2022:\n",
    "    notexist_MAN = notexist[notexist[\"WTeamID\"].astype(str).str.startswith(\"1\")]\n",
    "    notexist_WOMAN = notexist[notexist[\"WTeamID\"].astype(str).str.startswith(\"3\")]\n",
    "    label_data = extract_labels_and_preds(sub, notexist) ######\n",
    "else:\n",
    "    label_data = extract_labels_and_preds(sub, notexist)\n",
    "\n",
    "# 評価指標の計算\n",
    "score = calculate_metrics(label_data)\n",
    "results += [\"\",\"-----eval metrics-----\",\n",
    "            f\"Brier Score: {score['Brier Score']}\", \n",
    "            f\"RMSE: {score['RMSE']}\", \n",
    "            f\"Log Loss: {score['Log Loss']}\", \n",
    "            f\"MAE: {score['MAE']}\", \"\"]\n",
    "\n",
    "# キャリブレーションの確認\n",
    "plot_calibration_curve(label_data)\n",
    "\n",
    "# AUCの評価\n",
    "calculate_auc_metrics(label_data)\n",
    "\n",
    "for temp in range(-5, 0):\n",
    "    print(results[temp])"
   ]
  },
  {
   "cell_type": "code",
   "execution_count": 41,
   "id": "a8871be6",
   "metadata": {
    "execution": {
     "iopub.execute_input": "2025-03-12T11:46:31.371326Z",
     "iopub.status.busy": "2025-03-12T11:46:31.371326Z",
     "iopub.status.idle": "2025-03-12T11:46:31.377875Z",
     "shell.execute_reply": "2025-03-12T11:46:31.377875Z"
    },
    "papermill": {
     "duration": 0.02907,
     "end_time": "2025-03-12T11:46:31.377875",
     "exception": false,
     "start_time": "2025-03-12T11:46:31.348805",
     "status": "completed"
    },
    "tags": []
   },
   "outputs": [
    {
     "data": {
      "text/plain": [
       "'if PREDICT_YEAR!=2025:\\n    predict_year_label =notexist[[\"WTeamID\", \"LTeamID\", \"WScore\", \"LScore\"]].copy()\\n    predict_year_label.loc[:, \"Win\"] = np.where(predict_year_label[\"WScore\"] - predict_year_label[\"LScore\"] > 0, 1, 0)\\n    predict_year_label = predict_year_label[[\"WTeamID\", \"LTeamID\", \"Win\"]]\\n   \\n    predict_year_label.columns = [\"T1_TeamID\", \"T2_TeamID\", \"Win\"]\\n\\n    predict_year_label = pd.merge(predict_year_label, sub, on=[\"T1_TeamID\", \"T2_TeamID\"], how=\"left\")\\n    brier_score = np.mean((predict_year_label[\"Pred\"] - predict_year_label[\"Win\"])**2)\\n\\n    print(\"Brier Score:\", brier_score)\\n    results+=[f\"Brier Score: {brier_score}\", \"\"]\\n    predict_year_label.info()\\n'"
      ]
     },
     "execution_count": 41,
     "metadata": {},
     "output_type": "execute_result"
    }
   ],
   "source": [
    "\"\"\"if PREDICT_YEAR!=2025:\n",
    "    predict_year_label =notexist[[\"WTeamID\", \"LTeamID\", \"WScore\", \"LScore\"]].copy()\n",
    "    predict_year_label.loc[:, \"Win\"] = np.where(predict_year_label[\"WScore\"] - predict_year_label[\"LScore\"] > 0, 1, 0)\n",
    "    predict_year_label = predict_year_label[[\"WTeamID\", \"LTeamID\", \"Win\"]]\n",
    "   \n",
    "    predict_year_label.columns = [\"T1_TeamID\", \"T2_TeamID\", \"Win\"]\n",
    "\n",
    "    predict_year_label = pd.merge(predict_year_label, sub, on=[\"T1_TeamID\", \"T2_TeamID\"], how=\"left\")\n",
    "    brier_score = np.mean((predict_year_label[\"Pred\"] - predict_year_label[\"Win\"])**2)\n",
    "\n",
    "    print(\"Brier Score:\", brier_score)\n",
    "    results+=[f\"Brier Score: {brier_score}\", \"\"]\n",
    "    predict_year_label.info()\n",
    "\"\"\""
   ]
  },
  {
   "cell_type": "code",
   "execution_count": 42,
   "id": "fd1a9d8e",
   "metadata": {
    "execution": {
     "iopub.execute_input": "2025-03-12T11:46:31.422564Z",
     "iopub.status.busy": "2025-03-12T11:46:31.422564Z",
     "iopub.status.idle": "2025-03-12T11:46:31.428075Z",
     "shell.execute_reply": "2025-03-12T11:46:31.427565Z"
    },
    "papermill": {
     "duration": 0.029162,
     "end_time": "2025-03-12T11:46:31.429085",
     "exception": false,
     "start_time": "2025-03-12T11:46:31.399923",
     "status": "completed"
    },
    "tags": []
   },
   "outputs": [
    {
     "name": "stdout",
     "output_type": "stream",
     "text": [
      "実行時間： 706.4秒\n"
     ]
    }
   ],
   "source": [
    "END_TIME = time.time()\n",
    "ELAPSED_TIME = END_TIME - START_TIME\n",
    "print(f\"実行時間： {ELAPSED_TIME:.1f}秒\")\n",
    "results.append(f\"実行時間： {ELAPSED_TIME:.1f}秒\")\n",
    "\n",
    "with open(os.path.join(OUTPUT_PATH, \"result.txt\"), \"a\", encoding=\"utf-8\") as f:\n",
    "    for line in results:\n",
    "        f.write(line + \"\\n\")"
   ]
  },
  {
   "cell_type": "code",
   "execution_count": 43,
   "id": "eb43ce9d",
   "metadata": {
    "execution": {
     "iopub.execute_input": "2025-03-12T11:46:31.466566Z",
     "iopub.status.busy": "2025-03-12T11:46:31.466566Z",
     "iopub.status.idle": "2025-03-12T11:46:31.474768Z",
     "shell.execute_reply": "2025-03-12T11:46:31.474768Z"
    },
    "papermill": {
     "duration": 0.039686,
     "end_time": "2025-03-12T11:46:31.474768",
     "exception": false,
     "start_time": "2025-03-12T11:46:31.435082",
     "status": "completed"
    },
    "tags": []
   },
   "outputs": [],
   "source": [
    "logger.remove()"
   ]
  }
 ],
 "metadata": {
  "kernelspec": {
   "display_name": "deep_learning_pytorch",
   "language": "python",
   "name": "python3"
  },
  "language_info": {
   "codemirror_mode": {
    "name": "ipython",
    "version": 3
   },
   "file_extension": ".py",
   "mimetype": "text/x-python",
   "name": "python",
   "nbconvert_exporter": "python",
   "pygments_lexer": "ipython3",
   "version": "3.11.9"
  },
  "papermill": {
   "default_parameters": {},
   "duration": 710.461581,
   "end_time": "2025-03-12T11:46:32.170582",
   "environment_variables": {},
   "exception": null,
   "input_path": "c:\\Users\\81809\\Documents\\ALL_CODE\\kaggle\\March Machine Learning Mania 2025\\notebook\\1stplace_solution_2023.ipynb",
   "output_path": "exp039_20250312_203441.ipynb",
   "parameters": {
    "EXP_NUM": "exp039"
   },
   "start_time": "2025-03-12T11:34:41.709001",
   "version": "2.6.0"
  }
 },
 "nbformat": 4,
 "nbformat_minor": 5
}