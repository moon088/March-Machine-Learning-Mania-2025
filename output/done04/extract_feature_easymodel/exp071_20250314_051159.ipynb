{
 "cells": [
  {
   "cell_type": "code",
   "execution_count": 1,
   "id": "a2277039",
   "metadata": {
    "execution": {
     "iopub.execute_input": "2025-03-13T20:12:00.460981Z",
     "iopub.status.busy": "2025-03-13T20:12:00.460981Z",
     "iopub.status.idle": "2025-03-13T20:12:00.468833Z",
     "shell.execute_reply": "2025-03-13T20:12:00.468833Z"
    },
    "papermill": {
     "duration": 0.014257,
     "end_time": "2025-03-13T20:12:00.468833",
     "exception": false,
     "start_time": "2025-03-13T20:12:00.454576",
     "status": "completed"
    },
    "tags": [
     "parameters"
    ]
   },
   "outputs": [],
   "source": [
    "# Parameters\n",
    "EXP_NUM = \"default\""
   ]
  },
  {
   "cell_type": "code",
   "execution_count": 2,
   "id": "ebae8233",
   "metadata": {
    "execution": {
     "iopub.execute_input": "2025-03-13T20:12:00.485794Z",
     "iopub.status.busy": "2025-03-13T20:12:00.485794Z",
     "iopub.status.idle": "2025-03-13T20:12:00.492925Z",
     "shell.execute_reply": "2025-03-13T20:12:00.491915Z"
    },
    "papermill": {
     "duration": 0.016841,
     "end_time": "2025-03-13T20:12:00.493896",
     "exception": false,
     "start_time": "2025-03-13T20:12:00.477055",
     "status": "completed"
    },
    "tags": [
     "injected-parameters"
    ]
   },
   "outputs": [],
   "source": [
    "# Parameters\n",
    "EXP_NUM = \"exp071\"\n"
   ]
  },
  {
   "cell_type": "markdown",
   "id": "a103d4c4",
   "metadata": {
    "papermill": {
     "duration": 0.014812,
     "end_time": "2025-03-13T20:12:00.513491",
     "exception": false,
     "start_time": "2025-03-13T20:12:00.498679",
     "status": "completed"
    },
    "tags": []
   },
   "source": [
    "# 2023 1st place solution\n",
    "[kaggle notebook](https://www.kaggle.com/code/rustyb/paris-madness-2023#Load-the-data!)"
   ]
  },
  {
   "cell_type": "markdown",
   "id": "175b380e",
   "metadata": {
    "papermill": {
     "duration": 0.008332,
     "end_time": "2025-03-13T20:12:00.530930",
     "exception": false,
     "start_time": "2025-03-13T20:12:00.522598",
     "status": "completed"
    },
    "tags": []
   },
   "source": [
    "# コードの流れ\n",
    "1. hydraからハイパラ取得し、パスなどを設定\n",
    "\n",
    "    regular&tourney Detaile Result, Seedを使用し、tourneyを目的変数としてモデルを予測していく\n",
    "\n",
    "    regular_data->season_statistics->\n",
    "\n",
    "    以下の前処理をする\n",
    "\n",
    "2. データ２倍にかさまし\n",
    "3. regularに対して特徴量の追加\n",
    "    各チームごとに加えるもの\n",
    "   - EFFG: フィールドゴール成功率\n",
    "   - EFFG3: フィールドゴール3p成功率\n",
    "   - DARE: フィールドゴールにおける3P率\n",
    "   - \"win\"を目的変数とする(Team, Season)のロジスティック回帰した各係数\n",
    "    対戦カードごとに加える特徴量\n",
    "    - PointDiff: ポイント差\n",
    "    - win: 1 if PointDiff>0 else 0\n",
    "4. (Team, Season)ごとに特徴量season_statixtics追加\n",
    "    - win_ratio_14d\n",
    "    - box score mean\n",
    "    - quality\n",
    "    - seed\n",
    "5. season_average.enabled=trueなら直近３シーズンの加重平均の処理加える\n",
    "6. tourneyをteamID, Season, score(y)のみ取り出してこれに対してseason_statisticsの結合と特徴量微調整\n",
    "   - seed->seeddiff\n",
    "   - fillna()\n",
    "\n",
    "7. モデル構築\n",
    "8. KFOLD->OOF予測->spline曲線求めてlogloss算出\n",
    "    - KFOLDによる交差検証（CV）\n",
    "        repeat_cv 回のループで、各反復ごとにKFold（folds_splits個）によりデータを分割し、XGBoostのCVを実行しています。\n",
    "        各foldでの結果（例えば、訓練MAE、検証MAEの平均値や標準偏差）がcv_resultとして得られ、それをxgb_cvリストに格納します。\n",
    "        この段階で重要なのは、各反復での検証用MAEの平均値 (test-mae-mean) の最小値と、そのときのブーストラウンド数です。\n",
    "        それらは後で、最適なイテレーション数 (iteration_counts) として計算され、val_mae にも格納されます。\n",
    "    - OOF予測の流れ\n",
    "\n",
    "        各反復ごとに、新たなKFoldを用いてデータを分割。\n",
    "        各foldごとに、学習データでモデルを訓練し、検証データに対して予測を実施。\n",
    "        すべてのfold分の予測結果を1つの予測配列にまとめ、最後に -30～30 の範囲にクリップしています。\n",
    "        重要な結果\n",
    "\n",
    "        OOF予測結果（oof_preds）自体は後段で別途評価指標に使用できるほか、各反復ごとの予測精度や誤差を算出する際の基礎データ\n",
    "9.  提出フェーズ\n",
    "    - 最適paramで全データ使って訓練\n",
    "    - 提出試合の予測"
   ]
  },
  {
   "cell_type": "markdown",
   "id": "03547faf",
   "metadata": {
    "papermill": {
     "duration": 0.007987,
     "end_time": "2025-03-13T20:12:00.544919",
     "exception": false,
     "start_time": "2025-03-13T20:12:00.536932",
     "status": "completed"
    },
    "tags": []
   },
   "source": [
    "memo\n",
    "\n",
    "欠損値が発生していいのか検討して保管について考える\n",
    "seedがかけているのはregularに対してseedを与えているから大丈夫。最終的なtourneyには欠損０で追加できているから問題ない"
   ]
  },
  {
   "cell_type": "code",
   "execution_count": 3,
   "id": "e011f645",
   "metadata": {
    "execution": {
     "iopub.execute_input": "2025-03-13T20:12:00.560841Z",
     "iopub.status.busy": "2025-03-13T20:12:00.560841Z",
     "iopub.status.idle": "2025-03-13T20:12:02.680469Z",
     "shell.execute_reply": "2025-03-13T20:12:02.680469Z"
    },
    "papermill": {
     "duration": 2.126087,
     "end_time": "2025-03-13T20:12:02.680469",
     "exception": false,
     "start_time": "2025-03-13T20:12:00.554382",
     "status": "completed"
    },
    "tags": []
   },
   "outputs": [
    {
     "name": "stderr",
     "output_type": "stream",
     "text": [
      "C:\\Users\\81809\\anaconda3\\envs\\deep_learning_pytorch\\Lib\\site-packages\\tqdm\\auto.py:21: TqdmWarning: IProgress not found. Please update jupyter and ipywidgets. See https://ipywidgets.readthedocs.io/en/stable/user_install.html\n",
      "  from .autonotebook import tqdm as notebook_tqdm\n"
     ]
    },
    {
     "name": "stdout",
     "output_type": "stream",
     "text": [
      "exp071\n",
      "Omega conf is below\n",
      "dir:\n",
      "  input_dir: ../input\n",
      "  output_dir: ../output\n",
      "  src_path: ../src\n",
      "  conf_path: ../conf\n",
      "exp:\n",
      "  name: extract_feature_easymodel\n",
      "  print_name: extraxt feature & easier model hyperparam(datasubsample:0.35->0.4, eta0.03->0.04,\n",
      "    min_child_weight->50 )\n",
      "  tournament:\n",
      "    use_start_season: 1985\n",
      "    target_season: 2019\n",
      "  features:\n",
      "    cal_mean_boxscore:\n",
      "      T1_Score: true\n",
      "      T2_Score: true\n",
      "      PointDiff: true\n",
      "      T1_FGM: true\n",
      "      T2_FGM: true\n",
      "      T1_FGA: true\n",
      "      T2_FGA: true\n",
      "      T1_FGM3: false\n",
      "      T2_FGM3: false\n",
      "      T1_FGA3: false\n",
      "      T2_FGA3: false\n",
      "      T1_FTM: false\n",
      "      T2_FTM: false\n",
      "      T1_FTA: false\n",
      "      T2_FTA: false\n",
      "      T1_EFFG: false\n",
      "      T2_EFFG: false\n",
      "      T1_EFFG3: false\n",
      "      T2_EFFG3: false\n",
      "      T1_EFG_SUM: true\n",
      "      T2_EFG_SUM: true\n",
      "      T1_TO_RATIO: true\n",
      "      T2_TO_RATIO: true\n",
      "      T1_OR: true\n",
      "      T2_OR: true\n",
      "      T1_DR: true\n",
      "      T2_DR: true\n",
      "      T1_REB_RATE: true\n",
      "      T2_REB_RATE: true\n",
      "      T1_FT_RATE: true\n",
      "      T2_FT_RATE: true\n",
      "      T1_RATING: false\n",
      "      T2_RATING: false\n",
      "      T1_POSS_RATE: false\n",
      "      T2_POSS_RATE: false\n",
      "      T1_Ast: true\n",
      "      T2_Ast: true\n",
      "      T1_TO: true\n",
      "      T2_TO: true\n",
      "      T1_Stl: true\n",
      "      T2_Stl: true\n",
      "      T1_Blk: true\n",
      "      T2_Blk: true\n",
      "      T1_PF: true\n",
      "      T2_PF: true\n",
      "      T1_DARE: false\n",
      "      T2_DARE: false\n",
      "      T1_TOQUETOQUE: false\n",
      "      T2_TOQUETOQUE: false\n",
      "    rank_diff: true\n",
      "    start_quality_season: 2003\n",
      "    dropfeatures:\n",
      "    - T1_opponent_Blkmean\n",
      "    - T2_opponent_Blkmean\n",
      "    - T1_TOmean\n",
      "    - T2_TOmean\n",
      "    - T1_opponent_POSS_RATEmean\n",
      "    - T2_opponent_POSS_RATEmean\n",
      "    - T1_opponent_Astmean\n",
      "    - T2_opponent_Astmean\n",
      "    - T1_opponent_FT_RATEmean\n",
      "    - T2_opponent_FT_RATEmean\n",
      "    season_average:\n",
      "      enabled: false\n",
      "      past_years: 3\n",
      "      weights:\n",
      "      - 1\n",
      "      - 2\n",
      "      - 3\n",
      "    fillna:\n",
      "      quality: 'nan'\n",
      "  model:\n",
      "    repeat_cv: 10\n",
      "    optuna_enabled: false\n",
      "    test_reverse: false\n",
      "    xgb_model:\n",
      "      param:\n",
      "        eval_metric: rmse\n",
      "        booster: gbtree\n",
      "        eta: 0.03\n",
      "        subsample: 0.4\n",
      "        colsample_bytree: 0.7\n",
      "        num_parallel_tree: 10\n",
      "        min_child_weight: 50\n",
      "        gamma: 10\n",
      "        max_depth: 3\n",
      "      obj: cauchyoj\n",
      "      num_boost_round: 3000\n",
      "      folds_splits: 5\n",
      "      early_stopping_rounds: 25\n",
      "      optuna:\n",
      "        max_depth:\n",
      "        - 3\n",
      "        - 7\n",
      "        eta:\n",
      "        - 0.001\n",
      "        - 0.03\n",
      "        subsample:\n",
      "        - 0.2\n",
      "        - 0.5\n",
      "        colsample_bytree:\n",
      "        - 0.5\n",
      "        - 1.0\n",
      "        num_parallel_tree:\n",
      "        - 7\n",
      "        - 12\n",
      "        min_child_weight:\n",
      "        - 30\n",
      "        - 50\n",
      "        reg_alpha:\n",
      "        - 0.0\n",
      "        - 1.0\n",
      "        reg_lambda:\n",
      "        - 0.0\n",
      "        - 1.0\n",
      "        gamma:\n",
      "        - 0\n",
      "        - 10\n",
      "        n_trials: 1000\n",
      "        timeout: 28800\n",
      "        n_jobs: -1\n",
      "        n_warmup_steps: 3\n",
      "    spline: logistic\n",
      "  hand_labeling: null\n",
      "\n"
     ]
    }
   ],
   "source": [
    "\n",
    "import os\n",
    "import sys\n",
    "from pathlib import Path\n",
    "import collections\n",
    "from datetime import datetime\n",
    "import shutil\n",
    "import yaml\n",
    "from tqdm import tqdm\n",
    "import time\n",
    "import optuna\n",
    "from loguru import logger\n",
    "import collections\n",
    "\n",
    "from hydra import initialize, initialize_config_module, initialize_config_dir, compose\n",
    "from omegaconf import OmegaConf\n",
    "\n",
    "import numpy as np\n",
    "import pandas as pd\n",
    "import matplotlib.pyplot as plt\n",
    "import seaborn as sns\n",
    "from scipy.interpolate import UnivariateSpline\n",
    "\n",
    "import xgboost as xgb\n",
    "from xgboost import XGBRegressor\n",
    "from sklearn.model_selection import KFold\n",
    "from sklearn.calibration import calibration_curve\n",
    "from sklearn.metrics import log_loss,mean_squared_error, mean_absolute_error, roc_auc_score, average_precision_score\n",
    "from sklearn.metrics import make_scorer\n",
    "from sklearn.model_selection import cross_val_score, KFold\n",
    "from sklearn.linear_model import LogisticRegression\n",
    "from sklearn.preprocessing import OneHotEncoder\n",
    "from sklearn.isotonic import IsotonicRegression\n",
    "\n",
    "import statsmodels.api as sm\n",
    "\n",
    "START_TIME = time.time()\n",
    "\n",
    "\n",
    "#####\n",
    "#EXP_NUM = \"test\"\n",
    "#####\n",
    "print(EXP_NUM)\n",
    "\n",
    "# hydraの初期設定と指定ハイパラの取得\n",
    "sys.path.append(os.path.abspath(\"/workspace\"))\n",
    "sys.path.append(\"C:\\\\Users\\\\81809\\\\Documents\\\\ALL_CODE\\\\kaggle\\\\March Machine Learning Mania 2025\")\n",
    "with initialize_config_module(version_base=None, config_module=\"conf\"):\n",
    "    cfg = compose(\n",
    "        config_name=\"base.yaml\",\n",
    "        overrides=[\n",
    "            f\"+exp={EXP_NUM}\" #defaultexp001->exp002のオーバーライド\n",
    "        ],\n",
    "    )\n",
    "    \n",
    "    OmegaConf.resolve(cfg)\n",
    "    print(\"Omega conf is below\")\n",
    "    print(OmegaConf.to_yaml(cfg))\n"
   ]
  },
  {
   "cell_type": "code",
   "execution_count": 4,
   "id": "ed46aa89",
   "metadata": {
    "execution": {
     "iopub.execute_input": "2025-03-13T20:12:02.687948Z",
     "iopub.status.busy": "2025-03-13T20:12:02.687948Z",
     "iopub.status.idle": "2025-03-13T20:12:02.709809Z",
     "shell.execute_reply": "2025-03-13T20:12:02.708793Z"
    },
    "papermill": {
     "duration": 0.023873,
     "end_time": "2025-03-13T20:12:02.711821",
     "exception": false,
     "start_time": "2025-03-13T20:12:02.687948",
     "status": "completed"
    },
    "tags": []
   },
   "outputs": [
    {
     "name": "stdout",
     "output_type": "stream",
     "text": [
      "########\n",
      "output dir name: extract_feature_easymodel\n",
      "Run on 2025-03-14 05:12:02.687948\n",
      "extraxt feature & easier model hyperparam(datasubsample:0.35->0.4, eta0.03->0.04, min_child_weight->50 )\n",
      "########\n"
     ]
    }
   ],
   "source": [
    "PREDICT_YEAR = cfg.exp.tournament.target_season\n",
    "name = f\"{cfg.exp.name}\"\n",
    "now = str(datetime.now())\n",
    "print(\"########\")\n",
    "print(f\"output dir name: {name}\")\n",
    "print(f\"Run on {now}\")\n",
    "print(cfg.exp.print_name)\n",
    "print(\"########\")\n",
    "\n",
    "BASE_DIR = os.path.abspath(os.path.join(os.getcwd(), \"..\"))\n",
    "CONF_PATH = os.path.join(BASE_DIR, \"conf\")\n",
    "INPUT_PATH = os.path.join(BASE_DIR, \"input\")\n",
    "EXP_PATH = os.path.join(CONF_PATH, \"exp\", f\"{EXP_NUM}.yaml\")\n",
    "OUTPUT_PATH = os.path.join(BASE_DIR, \"output\", name)\n",
    "SRC_PATH = cfg.dir.src_path\n",
    "sys.path.append(SRC_PATH)\n",
    "\n",
    "os.makedirs(OUTPUT_PATH, exist_ok=True)  \n",
    "with open(EXP_PATH, \"r\", encoding=\"utf-8\") as f:\n",
    "    config = yaml.safe_load(f)\n",
    "shutil.copyfile(EXP_PATH, os.path.join(OUTPUT_PATH, f\"{EXP_NUM}.yaml\"))\n",
    "\n",
    "\n",
    "y_season = cfg.exp.tournament.target_season\n",
    "FEATURES = cfg.exp.features\n",
    "MODEL = cfg.exp.model\n",
    "results = [\"\", f\"-----{PREDICT_YEAR}-----\", now ,name, cfg.exp.print_name,\"\"]"
   ]
  },
  {
   "cell_type": "code",
   "execution_count": 5,
   "id": "f06ae5fd",
   "metadata": {
    "execution": {
     "iopub.execute_input": "2025-03-13T20:12:02.711821Z",
     "iopub.status.busy": "2025-03-13T20:12:02.711821Z",
     "iopub.status.idle": "2025-03-13T20:12:04.148597Z",
     "shell.execute_reply": "2025-03-13T20:12:04.148597Z"
    },
    "papermill": {
     "duration": 1.438784,
     "end_time": "2025-03-13T20:12:04.150605",
     "exception": false,
     "start_time": "2025-03-13T20:12:02.711821",
     "status": "completed"
    },
    "tags": []
   },
   "outputs": [],
   "source": [
    "tourney_results = pd.concat([\n",
    "    pd.read_csv(os.path.join(INPUT_PATH,\"MNCAATourneyDetailedResults.csv\")),\n",
    "    pd.read_csv(os.path.join(INPUT_PATH,\"WNCAATourneyDetailedResults.csv\")),\n",
    "], ignore_index=True)\n",
    "\n",
    "seeds = pd.concat([\n",
    "    pd.read_csv(os.path.join(INPUT_PATH,\"MNCAATourneySeeds.csv\")),\n",
    "    pd.read_csv(os.path.join(INPUT_PATH,\"WNCAATourneySeeds.csv\")),\n",
    "], ignore_index=True)\n",
    "\n",
    "regular_results = pd.concat([\n",
    "    pd.read_csv(os.path.join(INPUT_PATH, \"MRegularSeasonDetailedResults.csv\")),\n",
    "    pd.read_csv(os.path.join(INPUT_PATH,\"WRegularSeasonDetailedResults.csv\")),\n",
    "], ignore_index=True)\n",
    "\n",
    "ordinal_rank = pd.read_csv(os.path.join(INPUT_PATH, \"MMasseyOrdinals.csv\"))\n",
    "\n",
    "# 1試合情報からWin,Lose反転させてデータ数２倍にかさまし and WLoc -> location(0 or -1 or 1)\n",
    "def prepare_data(df1):\n",
    "    df = df1.copy()\n",
    "    ### add new box score\n",
    "    #type1: normal EFG\n",
    "    df['WEFFG'] = df['WFGM'] / df['WFGA']\n",
    "    df['LEFFG'] = df['LFGM'] / df['LFGA']\n",
    "    #type2: 1stfeature EFG\n",
    "    df['WEFFG3'] = np.where(df['WFGA3'] == 0, 0, df['WFGM3'] / df['WFGA3'])\n",
    "    df['LEFFG3'] = np.where(df['LFGA3'] == 0, 0, df['LFGM3'] / df['LFGA3'])\n",
    "    df['WDARE'] = df['WFGM3'] / df['WFGM']\n",
    "    df['LDARE'] = df['LFGM3'] / df['LFGM']\n",
    "    df['WTOQUETOQUE'] = df['WAst'] / df['WFGM']\n",
    "    df['LTOQUETOQUE'] = df['LAst'] / df['LFGM']\n",
    "    #type3: OFF/DEF FGE\n",
    "    df[\"WEFG_SUM\"] = (df[\"WFGM\"]+0.5*df[\"WFGM3\"])/df[\"WFGA\"]\n",
    "    df[\"LEFG_SUM\"] = (df[\"LFGM\"]+0.5*df[\"LFGM3\"])/df[\"LFGA\"]\n",
    "\n",
    "    #POSS RATE\n",
    "    df[\"WPOSS\"] = df[\"WFGA\"] + 0.44*df[\"WFTA\"] - df[\"WOR\"] + df[\"WTO\"]\n",
    "    df[\"LPOSS\"] = df[\"LFGA\"] + 0.44*df[\"LFTA\"] - df[\"LOR\"] + df[\"LTO\"]\n",
    "    df[\"WPOSS_RATE\"] = df[\"WPOSS\"]/(df[\"WPOSS\"]+df[\"LPOSS\"])\n",
    "    df[\"LPOSS_RATE\"] = df[\"LPOSS\"]/(df[\"WPOSS\"]+df[\"LPOSS\"])\n",
    "    \n",
    "    #TO Ratio \n",
    "    df[\"WTO_RATIO\"] = df[\"WTO\"]/(df[\"WFGA\"]+0.44*df[\"WFTA\"]+df[\"WTO\"])#POSS RATEと違ってOR入っていない\n",
    "    df[\"LTO_RATIO\"] = df[\"LTO\"]/(df[\"LFGA\"]+0.44*df[\"LFTA\"]+df[\"LTO\"])\n",
    "    \n",
    "    # REB%\n",
    "    df[\"WREB_RATE\"] = df[\"WOR\"]/(df[\"WOR\"]+df[\"LDR\"])\n",
    "    df[\"LREB_RATE\"] = df[\"LOR\"]/(df[\"LOR\"]+df[\"WDR\"])\n",
    "    \n",
    "    #FT %\n",
    "    df[\"WFT_RATE\"] = df[\"WFTA\"]/df[\"WFGA\"]\n",
    "    df[\"LFT_RATE\"] = df[\"LFTA\"]/df[\"LFGA\"]\n",
    "    \n",
    "    #rating\n",
    "    df[\"WRATING\"] = df[\"WScore\"]/df[\"WPOSS\"]\n",
    "    df[\"LRATING\"] = df[\"LScore\"]/df[\"LPOSS\"]\n",
    "        \n",
    "    #0除算補完\n",
    "    print(df.info())\n",
    "        \n",
    "    #かさましに伴う反転カラム\n",
    "    dfswap = df.copy()\n",
    "    # Home, Away変換して反転\n",
    "    dfswap.loc[df['WLoc'] == 'H', 'WLoc'] = 'A'\n",
    "    dfswap.loc[df['WLoc'] == 'A', 'WLoc'] = 'H'\n",
    "    df.columns.values[6] = 'location'\n",
    "    dfswap.columns.values[6] = 'location'    \n",
    "    #反転\n",
    "    df.columns = [x.replace('W','T1_').replace('L','T2_') for x in list(df.columns)]\n",
    "    dfswap.columns = [x.replace('L','T1_').replace('W','T2_') for x in list(dfswap.columns)]\n",
    "    output = pd.concat([df, dfswap]).reset_index(drop=True)\n",
    "    \n",
    "    \n",
    "    #add new feature\n",
    "    #locationを数値に変換\n",
    "    output.loc[output.location=='N','location'] = '0'\n",
    "    output.loc[output.location=='H','location'] = '1'\n",
    "    output.loc[output.location=='A','location'] = '-1'\n",
    "    output.location = output.location.astype(int)\n",
    "    \n",
    "    #add PointDiff&win\n",
    "    output['PointDiff'] = output['T1_Score'] - output['T2_Score']\n",
    "    output[\"win\"] = np.where(output['PointDiff']>0,1,0)\n",
    "    \n",
    "    \n",
    "    print(f\"feature cols after prepare()\")\n",
    "    print(output.columns)\n",
    "    return output\n",
    "\n"
   ]
  },
  {
   "cell_type": "code",
   "execution_count": 6,
   "id": "ea607a74",
   "metadata": {
    "execution": {
     "iopub.execute_input": "2025-03-13T20:12:04.162860Z",
     "iopub.status.busy": "2025-03-13T20:12:04.162860Z",
     "iopub.status.idle": "2025-03-13T20:12:04.218873Z",
     "shell.execute_reply": "2025-03-13T20:12:04.218873Z"
    },
    "papermill": {
     "duration": 0.062243,
     "end_time": "2025-03-13T20:12:04.218873",
     "exception": false,
     "start_time": "2025-03-13T20:12:04.156630",
     "status": "completed"
    },
    "tags": []
   },
   "outputs": [
    {
     "name": "stdout",
     "output_type": "stream",
     "text": [
      "各カラムの異常値の個数を表示します。\n",
      "\n"
     ]
    }
   ],
   "source": [
    "import numpy as np\n",
    "\n",
    "# 異常値のチェック\n",
    "def check_abnormal_values(df):\n",
    "    print(\"各カラムの異常値の個数を表示します。\\n\")\n",
    "\n",
    "    for col in df.columns:\n",
    "        nan_count = df[col].isna().sum()  # NaN の数\n",
    "        inf_count = (df[col] == np.inf).sum()  # inf の数\n",
    "        neg_inf_count = (df[col] == -np.inf).sum()  # -inf の数\n",
    "\n",
    "        if nan_count > 0 or inf_count > 0 or neg_inf_count > 0:\n",
    "            print(f\"Column: {col}\")\n",
    "            print(f\"  NaN    : {nan_count}\")\n",
    "            print(f\"  Inf    : {inf_count}\")\n",
    "            print(f\"  -Inf   : {neg_inf_count}\")\n",
    "            print(\"-\" * 30)\n",
    "\n",
    "# 関数を実行\n",
    "check_abnormal_values(regular_results)\n"
   ]
  },
  {
   "cell_type": "code",
   "execution_count": 7,
   "id": "d7257f76",
   "metadata": {
    "execution": {
     "iopub.execute_input": "2025-03-13T20:12:04.229680Z",
     "iopub.status.busy": "2025-03-13T20:12:04.229680Z",
     "iopub.status.idle": "2025-03-13T20:12:04.624090Z",
     "shell.execute_reply": "2025-03-13T20:12:04.624090Z"
    },
    "papermill": {
     "duration": 0.397044,
     "end_time": "2025-03-13T20:12:04.624090",
     "exception": false,
     "start_time": "2025-03-13T20:12:04.227046",
     "status": "completed"
    },
    "tags": []
   },
   "outputs": [
    {
     "name": "stdout",
     "output_type": "stream",
     "text": [
      "<class 'pandas.core.frame.DataFrame'>\n",
      "Index: 139193 entries, 0 to 170137\n",
      "Data columns (total 56 columns):\n",
      " #   Column       Non-Null Count   Dtype  \n",
      "---  ------       --------------   -----  \n",
      " 0   Season       139193 non-null  int64  \n",
      " 1   DayNum       139193 non-null  int64  \n",
      " 2   WTeamID      139193 non-null  int64  \n",
      " 3   WScore       139193 non-null  int64  \n",
      " 4   LTeamID      139193 non-null  int64  \n",
      " 5   LScore       139193 non-null  int64  \n",
      " 6   WLoc         139193 non-null  object \n",
      " 7   NumOT        139193 non-null  int64  \n",
      " 8   WFGM         139193 non-null  int64  \n",
      " 9   WFGA         139193 non-null  int64  \n",
      " 10  WFGM3        139193 non-null  int64  \n",
      " 11  WFGA3        139193 non-null  int64  \n",
      " 12  WFTM         139193 non-null  int64  \n",
      " 13  WFTA         139193 non-null  int64  \n",
      " 14  WOR          139193 non-null  int64  \n",
      " 15  WDR          139193 non-null  int64  \n",
      " 16  WAst         139193 non-null  int64  \n",
      " 17  WTO          139193 non-null  int64  \n",
      " 18  WStl         139193 non-null  int64  \n",
      " 19  WBlk         139193 non-null  int64  \n",
      " 20  WPF          139193 non-null  int64  \n",
      " 21  LFGM         139193 non-null  int64  \n",
      " 22  LFGA         139193 non-null  int64  \n",
      " 23  LFGM3        139193 non-null  int64  \n",
      " 24  LFGA3        139193 non-null  int64  \n",
      " 25  LFTM         139193 non-null  int64  \n",
      " 26  LFTA         139193 non-null  int64  \n",
      " 27  LOR          139193 non-null  int64  \n",
      " 28  LDR          139193 non-null  int64  \n",
      " 29  LAst         139193 non-null  int64  \n",
      " 30  LTO          139193 non-null  int64  \n",
      " 31  LStl         139193 non-null  int64  \n",
      " 32  LBlk         139193 non-null  int64  \n",
      " 33  LPF          139193 non-null  int64  \n",
      " 34  WEFFG        139193 non-null  float64\n",
      " 35  LEFFG        139193 non-null  float64\n",
      " 36  WEFFG3       139193 non-null  float64\n",
      " 37  LEFFG3       139193 non-null  float64\n",
      " 38  WDARE        139193 non-null  float64\n",
      " 39  LDARE        139193 non-null  float64\n",
      " 40  WTOQUETOQUE  139193 non-null  float64\n",
      " 41  LTOQUETOQUE  139193 non-null  float64\n",
      " 42  WEFG_SUM     139193 non-null  float64\n",
      " 43  LEFG_SUM     139193 non-null  float64\n",
      " 44  WPOSS        139193 non-null  float64\n",
      " 45  LPOSS        139193 non-null  float64\n",
      " 46  WPOSS_RATE   139193 non-null  float64\n",
      " 47  LPOSS_RATE   139193 non-null  float64\n",
      " 48  WTO_RATIO    139193 non-null  float64\n",
      " 49  LTO_RATIO    139193 non-null  float64\n",
      " 50  WREB_RATE    139193 non-null  float64\n",
      " 51  LREB_RATE    139193 non-null  float64\n",
      " 52  WFT_RATE     139193 non-null  float64\n",
      " 53  LFT_RATE     139193 non-null  float64\n",
      " 54  WRATING      139193 non-null  float64\n",
      " 55  LRATING      139193 non-null  float64\n",
      "dtypes: float64(22), int64(33), object(1)\n",
      "memory usage: 60.5+ MB\n",
      "None\n"
     ]
    },
    {
     "name": "stdout",
     "output_type": "stream",
     "text": [
      "feature cols after prepare()\n",
      "Index(['Season', 'DayNum', 'T1_TeamID', 'T1_Score', 'T2_TeamID', 'T2_Score',\n",
      "       'location', 'NumOT', 'T1_FGM', 'T1_FGA', 'T1_FGM3', 'T1_FGA3', 'T1_FTM',\n",
      "       'T1_FTA', 'T1_OR', 'T1_DR', 'T1_Ast', 'T1_TO', 'T1_Stl', 'T1_Blk',\n",
      "       'T1_PF', 'T2_FGM', 'T2_FGA', 'T2_FGM3', 'T2_FGA3', 'T2_FTM', 'T2_FTA',\n",
      "       'T2_OR', 'T2_DR', 'T2_Ast', 'T2_TO', 'T2_Stl', 'T2_Blk', 'T2_PF',\n",
      "       'T1_EFFG', 'T2_EFFG', 'T1_EFFG3', 'T2_EFFG3', 'T1_DARE', 'T2_DARE',\n",
      "       'T1_TOQUETOQUE', 'T2_TOQUETOQUE', 'T1_EFG_SUM', 'T2_EFG_SUM', 'T1_POSS',\n",
      "       'T2_POSS', 'T1_POSS_RATE', 'T2_POSS_RATE', 'T1_TO_RATIO', 'T2_TO_RATIO',\n",
      "       'T1_REB_RATE', 'T2_REB_RATE', 'T1_FT_RATE', 'T2_FT_RATE', 'T1_RATING',\n",
      "       'T2_RATING', 'PointDiff', 'win'],\n",
      "      dtype='object')\n",
      "<class 'pandas.core.frame.DataFrame'>\n",
      "RangeIndex: 278386 entries, 0 to 278385\n",
      "Data columns (total 58 columns):\n",
      " #   Column         Non-Null Count   Dtype  \n",
      "---  ------         --------------   -----  \n",
      " 0   Season         278386 non-null  int64  \n",
      " 1   DayNum         278386 non-null  int64  \n",
      " 2   T1_TeamID      278386 non-null  int64  \n",
      " 3   T1_Score       278386 non-null  int64  \n",
      " 4   T2_TeamID      278386 non-null  int64  \n",
      " 5   T2_Score       278386 non-null  int64  \n",
      " 6   location       278386 non-null  int32  \n",
      " 7   NumOT          278386 non-null  int64  \n",
      " 8   T1_FGM         278386 non-null  int64  \n",
      " 9   T1_FGA         278386 non-null  int64  \n",
      " 10  T1_FGM3        278386 non-null  int64  \n",
      " 11  T1_FGA3        278386 non-null  int64  \n",
      " 12  T1_FTM         278386 non-null  int64  \n",
      " 13  T1_FTA         278386 non-null  int64  \n",
      " 14  T1_OR          278386 non-null  int64  \n",
      " 15  T1_DR          278386 non-null  int64  \n",
      " 16  T1_Ast         278386 non-null  int64  \n",
      " 17  T1_TO          278386 non-null  int64  \n",
      " 18  T1_Stl         278386 non-null  int64  \n",
      " 19  T1_Blk         278386 non-null  int64  \n",
      " 20  T1_PF          278386 non-null  int64  \n",
      " 21  T2_FGM         278386 non-null  int64  \n",
      " 22  T2_FGA         278386 non-null  int64  \n",
      " 23  T2_FGM3        278386 non-null  int64  \n",
      " 24  T2_FGA3        278386 non-null  int64  \n",
      " 25  T2_FTM         278386 non-null  int64  \n",
      " 26  T2_FTA         278386 non-null  int64  \n",
      " 27  T2_OR          278386 non-null  int64  \n",
      " 28  T2_DR          278386 non-null  int64  \n",
      " 29  T2_Ast         278386 non-null  int64  \n",
      " 30  T2_TO          278386 non-null  int64  \n",
      " 31  T2_Stl         278386 non-null  int64  \n",
      " 32  T2_Blk         278386 non-null  int64  \n",
      " 33  T2_PF          278386 non-null  int64  \n",
      " 34  T1_EFFG        278386 non-null  float64\n",
      " 35  T2_EFFG        278386 non-null  float64\n",
      " 36  T1_EFFG3       278386 non-null  float64\n",
      " 37  T2_EFFG3       278386 non-null  float64\n",
      " 38  T1_DARE        278386 non-null  float64\n",
      " 39  T2_DARE        278386 non-null  float64\n",
      " 40  T1_TOQUETOQUE  278386 non-null  float64\n",
      " 41  T2_TOQUETOQUE  278386 non-null  float64\n",
      " 42  T1_EFG_SUM     278386 non-null  float64\n",
      " 43  T2_EFG_SUM     278386 non-null  float64\n",
      " 44  T1_POSS        278386 non-null  float64\n",
      " 45  T2_POSS        278386 non-null  float64\n",
      " 46  T1_POSS_RATE   278386 non-null  float64\n",
      " 47  T2_POSS_RATE   278386 non-null  float64\n",
      " 48  T1_TO_RATIO    278386 non-null  float64\n",
      " 49  T2_TO_RATIO    278386 non-null  float64\n",
      " 50  T1_REB_RATE    278386 non-null  float64\n",
      " 51  T2_REB_RATE    278386 non-null  float64\n",
      " 52  T1_FT_RATE     278386 non-null  float64\n",
      " 53  T2_FT_RATE     278386 non-null  float64\n",
      " 54  T1_RATING      278386 non-null  float64\n",
      " 55  T2_RATING      278386 non-null  float64\n",
      " 56  PointDiff      278386 non-null  int64  \n",
      " 57  win            278386 non-null  int32  \n",
      "dtypes: float64(22), int32(2), int64(34)\n",
      "memory usage: 121.1 MB\n"
     ]
    },
    {
     "data": {
      "text/html": [
       "<div>\n",
       "<style scoped>\n",
       "    .dataframe tbody tr th:only-of-type {\n",
       "        vertical-align: middle;\n",
       "    }\n",
       "\n",
       "    .dataframe tbody tr th {\n",
       "        vertical-align: top;\n",
       "    }\n",
       "\n",
       "    .dataframe thead th {\n",
       "        text-align: right;\n",
       "    }\n",
       "</style>\n",
       "<table border=\"1\" class=\"dataframe\">\n",
       "  <thead>\n",
       "    <tr style=\"text-align: right;\">\n",
       "      <th></th>\n",
       "      <th>Season</th>\n",
       "      <th>DayNum</th>\n",
       "      <th>T1_TeamID</th>\n",
       "      <th>T1_Score</th>\n",
       "      <th>T2_TeamID</th>\n",
       "      <th>T2_Score</th>\n",
       "      <th>location</th>\n",
       "      <th>NumOT</th>\n",
       "      <th>T1_FGM</th>\n",
       "      <th>T1_FGA</th>\n",
       "      <th>...</th>\n",
       "      <th>T1_TO_RATIO</th>\n",
       "      <th>T2_TO_RATIO</th>\n",
       "      <th>T1_REB_RATE</th>\n",
       "      <th>T2_REB_RATE</th>\n",
       "      <th>T1_FT_RATE</th>\n",
       "      <th>T2_FT_RATE</th>\n",
       "      <th>T1_RATING</th>\n",
       "      <th>T2_RATING</th>\n",
       "      <th>PointDiff</th>\n",
       "      <th>win</th>\n",
       "    </tr>\n",
       "  </thead>\n",
       "  <tbody>\n",
       "    <tr>\n",
       "      <th>0</th>\n",
       "      <td>2003</td>\n",
       "      <td>10</td>\n",
       "      <td>1104</td>\n",
       "      <td>68</td>\n",
       "      <td>1328</td>\n",
       "      <td>62</td>\n",
       "      <td>0</td>\n",
       "      <td>0</td>\n",
       "      <td>27</td>\n",
       "      <td>58</td>\n",
       "      <td>...</td>\n",
       "      <td>0.258659</td>\n",
       "      <td>0.223104</td>\n",
       "      <td>0.388889</td>\n",
       "      <td>0.294118</td>\n",
       "      <td>0.310345</td>\n",
       "      <td>0.415094</td>\n",
       "      <td>0.907635</td>\n",
       "      <td>0.877193</td>\n",
       "      <td>6</td>\n",
       "      <td>1</td>\n",
       "    </tr>\n",
       "    <tr>\n",
       "      <th>1</th>\n",
       "      <td>2003</td>\n",
       "      <td>10</td>\n",
       "      <td>1272</td>\n",
       "      <td>70</td>\n",
       "      <td>1393</td>\n",
       "      <td>63</td>\n",
       "      <td>0</td>\n",
       "      <td>0</td>\n",
       "      <td>26</td>\n",
       "      <td>62</td>\n",
       "      <td>...</td>\n",
       "      <td>0.155950</td>\n",
       "      <td>0.136674</td>\n",
       "      <td>0.375000</td>\n",
       "      <td>0.416667</td>\n",
       "      <td>0.306452</td>\n",
       "      <td>0.298507</td>\n",
       "      <td>1.023991</td>\n",
       "      <td>0.929204</td>\n",
       "      <td>7</td>\n",
       "      <td>1</td>\n",
       "    </tr>\n",
       "    <tr>\n",
       "      <th>2</th>\n",
       "      <td>2003</td>\n",
       "      <td>11</td>\n",
       "      <td>1266</td>\n",
       "      <td>73</td>\n",
       "      <td>1437</td>\n",
       "      <td>61</td>\n",
       "      <td>0</td>\n",
       "      <td>0</td>\n",
       "      <td>24</td>\n",
       "      <td>58</td>\n",
       "      <td>...</td>\n",
       "      <td>0.123824</td>\n",
       "      <td>0.126156</td>\n",
       "      <td>0.435897</td>\n",
       "      <td>0.543860</td>\n",
       "      <td>0.500000</td>\n",
       "      <td>0.315068</td>\n",
       "      <td>1.144918</td>\n",
       "      <td>0.951341</td>\n",
       "      <td>12</td>\n",
       "      <td>1</td>\n",
       "    </tr>\n",
       "    <tr>\n",
       "      <th>3</th>\n",
       "      <td>2003</td>\n",
       "      <td>11</td>\n",
       "      <td>1296</td>\n",
       "      <td>56</td>\n",
       "      <td>1457</td>\n",
       "      <td>50</td>\n",
       "      <td>0</td>\n",
       "      <td>0</td>\n",
       "      <td>18</td>\n",
       "      <td>38</td>\n",
       "      <td>...</td>\n",
       "      <td>0.188561</td>\n",
       "      <td>0.254692</td>\n",
       "      <td>0.230769</td>\n",
       "      <td>0.472222</td>\n",
       "      <td>0.815789</td>\n",
       "      <td>0.306122</td>\n",
       "      <td>0.971548</td>\n",
       "      <td>0.868056</td>\n",
       "      <td>6</td>\n",
       "      <td>1</td>\n",
       "    </tr>\n",
       "    <tr>\n",
       "      <th>4</th>\n",
       "      <td>2003</td>\n",
       "      <td>11</td>\n",
       "      <td>1400</td>\n",
       "      <td>77</td>\n",
       "      <td>1208</td>\n",
       "      <td>71</td>\n",
       "      <td>0</td>\n",
       "      <td>0</td>\n",
       "      <td>30</td>\n",
       "      <td>61</td>\n",
       "      <td>...</td>\n",
       "      <td>0.173439</td>\n",
       "      <td>0.119218</td>\n",
       "      <td>0.531250</td>\n",
       "      <td>0.488372</td>\n",
       "      <td>0.213115</td>\n",
       "      <td>0.435484</td>\n",
       "      <td>1.208412</td>\n",
       "      <td>1.129135</td>\n",
       "      <td>6</td>\n",
       "      <td>1</td>\n",
       "    </tr>\n",
       "  </tbody>\n",
       "</table>\n",
       "<p>5 rows × 58 columns</p>\n",
       "</div>"
      ],
      "text/plain": [
       "   Season  DayNum  T1_TeamID  T1_Score  T2_TeamID  T2_Score  location  NumOT  \\\n",
       "0    2003      10       1104        68       1328        62         0      0   \n",
       "1    2003      10       1272        70       1393        63         0      0   \n",
       "2    2003      11       1266        73       1437        61         0      0   \n",
       "3    2003      11       1296        56       1457        50         0      0   \n",
       "4    2003      11       1400        77       1208        71         0      0   \n",
       "\n",
       "   T1_FGM  T1_FGA  ...  T1_TO_RATIO  T2_TO_RATIO  T1_REB_RATE  T2_REB_RATE  \\\n",
       "0      27      58  ...     0.258659     0.223104     0.388889     0.294118   \n",
       "1      26      62  ...     0.155950     0.136674     0.375000     0.416667   \n",
       "2      24      58  ...     0.123824     0.126156     0.435897     0.543860   \n",
       "3      18      38  ...     0.188561     0.254692     0.230769     0.472222   \n",
       "4      30      61  ...     0.173439     0.119218     0.531250     0.488372   \n",
       "\n",
       "   T1_FT_RATE  T2_FT_RATE  T1_RATING  T2_RATING  PointDiff  win  \n",
       "0    0.310345    0.415094   0.907635   0.877193          6    1  \n",
       "1    0.306452    0.298507   1.023991   0.929204          7    1  \n",
       "2    0.500000    0.315068   1.144918   0.951341         12    1  \n",
       "3    0.815789    0.306122   0.971548   0.868056          6    1  \n",
       "4    0.213115    0.435484   1.208412   1.129135          6    1  \n",
       "\n",
       "[5 rows x 58 columns]"
      ]
     },
     "metadata": {},
     "output_type": "display_data"
    },
    {
     "data": {
      "text/plain": [
       "None"
      ]
     },
     "metadata": {},
     "output_type": "display_data"
    }
   ],
   "source": [
    "#予測する年以降の情報はフィルタリング\n",
    "USE_START_YEAR = cfg.exp.tournament.use_start_season\n",
    "notexist = tourney_results[tourney_results[\"Season\"] == PREDICT_YEAR]\n",
    "tourney_results = tourney_results[(tourney_results[\"Season\"] >= USE_START_YEAR) & (tourney_results[\"Season\"] < PREDICT_YEAR)]\n",
    "seeds = seeds[(seeds[\"Season\"] >= USE_START_YEAR) & (seeds[\"Season\"] <= PREDICT_YEAR)]\n",
    "regular_results = regular_results[(regular_results[\"Season\"] >= USE_START_YEAR) & (regular_results[\"Season\"] <= PREDICT_YEAR)]\n",
    "\n",
    "regular_data = prepare_data(regular_results)\n",
    "display(regular_data.head(), regular_data.info())"
   ]
  },
  {
   "cell_type": "code",
   "execution_count": 8,
   "id": "5bf7cf2a",
   "metadata": {
    "execution": {
     "iopub.execute_input": "2025-03-13T20:12:04.630477Z",
     "iopub.status.busy": "2025-03-13T20:12:04.630477Z",
     "iopub.status.idle": "2025-03-13T20:12:04.652993Z",
     "shell.execute_reply": "2025-03-13T20:12:04.652993Z"
    },
    "papermill": {
     "duration": 0.022516,
     "end_time": "2025-03-13T20:12:04.652993",
     "exception": false,
     "start_time": "2025-03-13T20:12:04.630477",
     "status": "completed"
    },
    "tags": []
   },
   "outputs": [],
   "source": [
    "#使用特徴量(boxscore_cols)を取得してそれに対して(\"Season\", 'T1_TeamID')でまとめた特徴量の追加\n",
    "#### 1. win_ration_14d ####\n",
    "def add_win_ratio_14d(df):\n",
    "    df_filtered = df[df['DayNum'] > 118].copy()\n",
    "    df_filtered['Win'] = (df_filtered['PointDiff'] > 0).astype(int)\n",
    "    \n",
    "    win_ratio_t1 = df_filtered.groupby(['Season', 'T1_TeamID'])['Win'].mean().reset_index()\n",
    "    win_ratio_t1.rename(columns={'Win': 'T1_win_ratio_14d'}, inplace=True)\n",
    "    \n",
    "    win_ratio_t2 = df_filtered.groupby(['Season', 'T2_TeamID'])['Win'].mean().reset_index()\n",
    "    win_ratio_t2.rename(columns={'Win': 'T2_win_ratio_14d'}, inplace=True)\n",
    "    \n",
    "    df = df.merge(win_ratio_t1, on=['Season', 'T1_TeamID'], how='left')\n",
    "    df = df.merge(win_ratio_t2, on=['Season', 'T2_TeamID'], how='left')\n",
    "    \n",
    "    return df\n",
    "\n",
    "##### 2. add mean of boxscore ####\n",
    "def make_col_avg(df, boxscore, group = [\"Season\", \"T1_TeamID\"], func= [np.mean]):\n",
    "    df_stat = df.groupby(group)[boxscore].agg(func)\n",
    "    df_stat.columns = [''.join(col).strip() for col in df_stat.columns.values]\n",
    "    df_stat = df_stat.reset_index()\n",
    "\n",
    "    win_ratio_cols = ['T1_win_ratio_14d'] #ここマージの関係からT2_win_ratio_14dを外したけど大丈夫か考える\n",
    "    df_win_ratio = df[group + win_ratio_cols].drop_duplicates()\n",
    "    df_stat = df_stat.merge(df_win_ratio, on=group, how='left')\n",
    "    \n",
    "    return df_stat\n",
    "\n",
    "#### 3. add team quality ####\n",
    "# 3.0 ロジスティックを行うためのregular_season_effectsデータフレームの作成\n",
    "def make_regular_season_effects(df):\n",
    "    regular_season_effects = df[['Season', 'T1_TeamID', 'T2_TeamID', 'PointDiff']].copy()\n",
    "    regular_season_effects['win'] = np.where(regular_season_effects['PointDiff'] > 0, 1, 0)\n",
    "    return regular_season_effects\n",
    "\n",
    "# 3.1\n",
    "#各シーズンごとの総当たりに対するロジスティック回帰を行う\n",
    "#目的変数はfeatureenginneringから作成したPointDiffの正負に依存するWinとする.\n",
    "#新たな特徴量\"quarity\"をseasonごとの戦績をもとにロジスティックの回帰係数として導入している\n",
    "def team_quality(season,df):\n",
    "    season_data = df[df[\"Season\"] == season]\n",
    "    X = season_data[['T1_TeamID', 'T2_TeamID']]\n",
    "    y = season_data['win']\n",
    "    print(X.shape, y.shape)\n",
    "    encoder = OneHotEncoder(sparse_output=False) #多重共線性防止, 密行列指定\n",
    "    X_encoded = encoder.fit_transform(X)\n",
    "    \n",
    "    model = LogisticRegression(fit_intercept=False)\n",
    "    model.fit(X_encoded, y)\n",
    "    team_ids = encoder.get_feature_names_out(['T1_TeamID', 'T2_TeamID'])\n",
    "\n",
    "    \n",
    "    #quarity: (チーム数)*2(ID, 回帰係数)\n",
    "    quality = pd.DataFrame({\n",
    "        'TeamID': team_ids,\n",
    "        'quality': model.coef_.flatten() #T1_TeamID_1112,,,の形でチーム数分の回帰係数が入る\n",
    "    })\n",
    "\n",
    "    # 値をint 1112 のように整形\n",
    "    quality = quality[quality['TeamID'].str.contains('T1_TeamID')]\n",
    "    quality['TeamID'] = quality['TeamID'].str.replace('T1_TeamID_', '', regex=True).astype(int)\n",
    "    quality['Season'] = season\n",
    "\n",
    "    #display(quality.head())\n",
    "    print(f\"fin make {season}'s team quarity\")\n",
    "    return quality\n",
    "\n",
    "# 4. add seed\n",
    "def add_seed(df, seeds):\n",
    "    temp = seeds.copy()\n",
    "    temp['Seed'] = temp['Seed'].apply(lambda x: int(x[1:3]))\n",
    "    temp.columns = ['Season','T1_seed','T1_TeamID']\n",
    "    df = pd.merge(df, temp, on=[\"Season\", \"T1_TeamID\"], how=\"left\")\n",
    "    return df \n",
    "\n",
    "# 5. add Ordinal rank\n",
    "def add_ordinalrank(df, ordinal):\n",
    "    df_rank = ordinal.groupby([\"Season\", \"TeamID\"])[\"OrdinalRank\"].agg(np.mean).reset_index()\n",
    "    df_rank.head()\n",
    "    ranks = df_rank.rename(columns={'TeamID': 'T1_TeamID', 'OrdinalRank': 'T1_OrdinalRank'})\n",
    "    df = pd.merge(df,ranks,on = [\"Season\",\"T1_TeamID\"],how = \"left\")\n",
    "    return df\n",
    "\n",
    "# main \n",
    "def make_season_statistics(df, boxscore, seeds, func = [np.mean]):\n",
    "    # 1. Win Ratio の計算と追加\n",
    "    add_win = add_win_ratio_14d(df)\n",
    "    print(\"after add win ratio\")\n",
    "    print(add_win.columns)  \n",
    "    \n",
    "    #2. \n",
    "    add_mean = make_col_avg(add_win, boxscore)\n",
    "    print(\"after mean of boxscore\")\n",
    "    print(add_mean.columns)\n",
    "    \n",
    "    #3. \n",
    "    global PREDICT_YEAR, USE_START_YEAR\n",
    "    start_season = max(FEATURES.start_quality_season, USE_START_YEAR)\n",
    "    print(f\"use season for quality feature is: {start_season}\")\n",
    "    regular_season_effects = make_regular_season_effects(df)\n",
    "    glm_season = [i for i in range(start_season, PREDICT_YEAR+1)]\n",
    "\n",
    "    if 2020 in glm_season:\n",
    "        glm_season.remove(2020)\n",
    "    glm_quality = pd.concat([team_quality(season, regular_season_effects) for season in glm_season]).reset_index(drop=True)\n",
    "    # add glm quality \n",
    "    glm_quality_T1 = glm_quality.rename(columns={'TeamID': 'T1_TeamID', 'quality': 'T1_quality'})\n",
    "    add_glm = add_mean.merge(glm_quality_T1, on=['Season', 'T1_TeamID'], how='left')\n",
    "\n",
    "    print(\"add glm quality\")\n",
    "    print(add_glm.columns)\n",
    "    \n",
    "    #4. \n",
    "    add_seeds = add_seed(add_glm, seeds)\n",
    "    print(\"add seeds (final form)\")\n",
    "    print(add_seeds.columns)\n",
    "    \n",
    "    #5. \n",
    "    add_rank = add_ordinalrank(add_seeds, ordinal_rank)\n",
    "    print(\"add ordinal rank\")\n",
    "    print(add_rank.columns)  \n",
    "    return add_rank"
   ]
  },
  {
   "cell_type": "code",
   "execution_count": 9,
   "id": "efa847b1",
   "metadata": {
    "execution": {
     "iopub.execute_input": "2025-03-13T20:12:04.665720Z",
     "iopub.status.busy": "2025-03-13T20:12:04.665720Z",
     "iopub.status.idle": "2025-03-13T20:12:07.512322Z",
     "shell.execute_reply": "2025-03-13T20:12:07.512322Z"
    },
    "papermill": {
     "duration": 2.850959,
     "end_time": "2025-03-13T20:12:07.512322",
     "exception": false,
     "start_time": "2025-03-13T20:12:04.661363",
     "status": "completed"
    },
    "tags": []
   },
   "outputs": [
    {
     "name": "stdout",
     "output_type": "stream",
     "text": [
      "use boxscore col is\n",
      "['T1_Score', 'T2_Score', 'PointDiff', 'T1_FGM', 'T2_FGM', 'T1_FGA', 'T2_FGA', 'T1_EFG_SUM', 'T2_EFG_SUM', 'T1_TO_RATIO', 'T2_TO_RATIO', 'T1_OR', 'T2_OR', 'T1_DR', 'T2_DR', 'T1_REB_RATE', 'T2_REB_RATE', 'T1_FT_RATE', 'T2_FT_RATE', 'T1_Ast', 'T2_Ast', 'T1_TO', 'T2_TO', 'T1_Stl', 'T2_Stl', 'T1_Blk', 'T2_Blk', 'T1_PF', 'T2_PF']\n"
     ]
    },
    {
     "name": "stdout",
     "output_type": "stream",
     "text": [
      "after add win ratio\n",
      "Index(['Season', 'DayNum', 'T1_TeamID', 'T1_Score', 'T2_TeamID', 'T2_Score',\n",
      "       'location', 'NumOT', 'T1_FGM', 'T1_FGA', 'T1_FGM3', 'T1_FGA3', 'T1_FTM',\n",
      "       'T1_FTA', 'T1_OR', 'T1_DR', 'T1_Ast', 'T1_TO', 'T1_Stl', 'T1_Blk',\n",
      "       'T1_PF', 'T2_FGM', 'T2_FGA', 'T2_FGM3', 'T2_FGA3', 'T2_FTM', 'T2_FTA',\n",
      "       'T2_OR', 'T2_DR', 'T2_Ast', 'T2_TO', 'T2_Stl', 'T2_Blk', 'T2_PF',\n",
      "       'T1_EFFG', 'T2_EFFG', 'T1_EFFG3', 'T2_EFFG3', 'T1_DARE', 'T2_DARE',\n",
      "       'T1_TOQUETOQUE', 'T2_TOQUETOQUE', 'T1_EFG_SUM', 'T2_EFG_SUM', 'T1_POSS',\n",
      "       'T2_POSS', 'T1_POSS_RATE', 'T2_POSS_RATE', 'T1_TO_RATIO', 'T2_TO_RATIO',\n",
      "       'T1_REB_RATE', 'T2_REB_RATE', 'T1_FT_RATE', 'T2_FT_RATE', 'T1_RATING',\n",
      "       'T2_RATING', 'PointDiff', 'win', 'T1_win_ratio_14d',\n",
      "       'T2_win_ratio_14d'],\n",
      "      dtype='object')\n"
     ]
    },
    {
     "name": "stdout",
     "output_type": "stream",
     "text": [
      "after mean of boxscore\n",
      "Index(['Season', 'T1_TeamID', 'T1_Scoremean', 'T2_Scoremean', 'PointDiffmean',\n",
      "       'T1_FGMmean', 'T2_FGMmean', 'T1_FGAmean', 'T2_FGAmean',\n",
      "       'T1_EFG_SUMmean', 'T2_EFG_SUMmean', 'T1_TO_RATIOmean',\n",
      "       'T2_TO_RATIOmean', 'T1_ORmean', 'T2_ORmean', 'T1_DRmean', 'T2_DRmean',\n",
      "       'T1_REB_RATEmean', 'T2_REB_RATEmean', 'T1_FT_RATEmean',\n",
      "       'T2_FT_RATEmean', 'T1_Astmean', 'T2_Astmean', 'T1_TOmean', 'T2_TOmean',\n",
      "       'T1_Stlmean', 'T2_Stlmean', 'T1_Blkmean', 'T2_Blkmean', 'T1_PFmean',\n",
      "       'T2_PFmean', 'T1_win_ratio_14d'],\n",
      "      dtype='object')\n",
      "use season for quality feature is: 2003\n",
      "(9232, 2) (9232,)\n",
      "fin make 2003's team quarity\n",
      "(9142, 2) (9142,)\n",
      "fin make 2004's team quarity\n",
      "(9350, 2) (9350,)\n"
     ]
    },
    {
     "name": "stderr",
     "output_type": "stream",
     "text": [
      "C:\\Users\\81809\\AppData\\Local\\Temp\\ipykernel_824\\386782032.py:20: FutureWarning: The provided callable <function mean at 0x0000017E99E5A520> is currently using SeriesGroupBy.mean. In a future version of pandas, the provided callable will be used directly. To keep current behavior pass the string \"mean\" instead.\n",
      "  df_stat = df.groupby(group)[boxscore].agg(func)\n"
     ]
    },
    {
     "name": "stdout",
     "output_type": "stream",
     "text": [
      "fin make 2005's team quarity\n",
      "(9514, 2) (9514,)\n",
      "fin make 2006's team quarity\n",
      "(10086, 2) (10086,)\n"
     ]
    },
    {
     "name": "stdout",
     "output_type": "stream",
     "text": [
      "fin make 2007's team quarity\n",
      "(10326, 2) (10326,)\n",
      "fin make 2008's team quarity\n",
      "(10498, 2) (10498,)\n"
     ]
    },
    {
     "name": "stdout",
     "output_type": "stream",
     "text": [
      "fin make 2009's team quarity\n",
      "(20600, 2) (20600,)\n"
     ]
    },
    {
     "name": "stdout",
     "output_type": "stream",
     "text": [
      "fin make 2010's team quarity\n",
      "(20660, 2) (20660,)\n"
     ]
    },
    {
     "name": "stdout",
     "output_type": "stream",
     "text": [
      "fin make 2011's team quarity\n",
      "(20606, 2) (20606,)\n"
     ]
    },
    {
     "name": "stdout",
     "output_type": "stream",
     "text": [
      "fin make 2012's team quarity\n"
     ]
    },
    {
     "name": "stdout",
     "output_type": "stream",
     "text": [
      "(21008, 2) (21008,)\n"
     ]
    },
    {
     "name": "stdout",
     "output_type": "stream",
     "text": [
      "fin make 2013's team quarity\n"
     ]
    },
    {
     "name": "stdout",
     "output_type": "stream",
     "text": [
      "(21228, 2) (21228,)\n",
      "fin make 2014's team quarity\n",
      "(21136, 2) (21136,)\n"
     ]
    },
    {
     "name": "stdout",
     "output_type": "stream",
     "text": [
      "fin make 2015's team quarity\n",
      "(21156, 2) (21156,)\n",
      "fin make 2016's team quarity\n",
      "(21210, 2) (21210,)\n"
     ]
    },
    {
     "name": "stdout",
     "output_type": "stream",
     "text": [
      "fin make 2017's team quarity\n",
      "(21228, 2) (21228,)\n"
     ]
    },
    {
     "name": "stdout",
     "output_type": "stream",
     "text": [
      "fin make 2018's team quarity\n",
      "(21406, 2) (21406,)\n",
      "fin make 2019's team quarity\n",
      "add glm quality\n",
      "Index(['Season', 'T1_TeamID', 'T1_Scoremean', 'T2_Scoremean', 'PointDiffmean',\n",
      "       'T1_FGMmean', 'T2_FGMmean', 'T1_FGAmean', 'T2_FGAmean',\n",
      "       'T1_EFG_SUMmean', 'T2_EFG_SUMmean', 'T1_TO_RATIOmean',\n",
      "       'T2_TO_RATIOmean', 'T1_ORmean', 'T2_ORmean', 'T1_DRmean', 'T2_DRmean',\n",
      "       'T1_REB_RATEmean', 'T2_REB_RATEmean', 'T1_FT_RATEmean',\n",
      "       'T2_FT_RATEmean', 'T1_Astmean', 'T2_Astmean', 'T1_TOmean', 'T2_TOmean',\n",
      "       'T1_Stlmean', 'T2_Stlmean', 'T1_Blkmean', 'T2_Blkmean', 'T1_PFmean',\n",
      "       'T2_PFmean', 'T1_win_ratio_14d', 'T1_quality'],\n",
      "      dtype='object')\n",
      "add seeds (final form)\n",
      "Index(['Season', 'T1_TeamID', 'T1_Scoremean', 'T2_Scoremean', 'PointDiffmean',\n",
      "       'T1_FGMmean', 'T2_FGMmean', 'T1_FGAmean', 'T2_FGAmean',\n",
      "       'T1_EFG_SUMmean', 'T2_EFG_SUMmean', 'T1_TO_RATIOmean',\n",
      "       'T2_TO_RATIOmean', 'T1_ORmean', 'T2_ORmean', 'T1_DRmean', 'T2_DRmean',\n",
      "       'T1_REB_RATEmean', 'T2_REB_RATEmean', 'T1_FT_RATEmean',\n",
      "       'T2_FT_RATEmean', 'T1_Astmean', 'T2_Astmean', 'T1_TOmean', 'T2_TOmean',\n",
      "       'T1_Stlmean', 'T2_Stlmean', 'T1_Blkmean', 'T2_Blkmean', 'T1_PFmean',\n",
      "       'T2_PFmean', 'T1_win_ratio_14d', 'T1_quality', 'T1_seed'],\n",
      "      dtype='object')\n"
     ]
    },
    {
     "name": "stderr",
     "output_type": "stream",
     "text": [
      "C:\\Users\\81809\\AppData\\Local\\Temp\\ipykernel_824\\386782032.py:79: FutureWarning: The provided callable <function mean at 0x0000017E99E5A520> is currently using SeriesGroupBy.mean. In a future version of pandas, the provided callable will be used directly. To keep current behavior pass the string \"mean\" instead.\n",
      "  df_rank = ordinal.groupby([\"Season\", \"TeamID\"])[\"OrdinalRank\"].agg(np.mean).reset_index()\n"
     ]
    },
    {
     "name": "stdout",
     "output_type": "stream",
     "text": [
      "add ordinal rank\n",
      "Index(['Season', 'T1_TeamID', 'T1_Scoremean', 'T2_Scoremean', 'PointDiffmean',\n",
      "       'T1_FGMmean', 'T2_FGMmean', 'T1_FGAmean', 'T2_FGAmean',\n",
      "       'T1_EFG_SUMmean', 'T2_EFG_SUMmean', 'T1_TO_RATIOmean',\n",
      "       'T2_TO_RATIOmean', 'T1_ORmean', 'T2_ORmean', 'T1_DRmean', 'T2_DRmean',\n",
      "       'T1_REB_RATEmean', 'T2_REB_RATEmean', 'T1_FT_RATEmean',\n",
      "       'T2_FT_RATEmean', 'T1_Astmean', 'T2_Astmean', 'T1_TOmean', 'T2_TOmean',\n",
      "       'T1_Stlmean', 'T2_Stlmean', 'T1_Blkmean', 'T2_Blkmean', 'T1_PFmean',\n",
      "       'T2_PFmean', 'T1_win_ratio_14d', 'T1_quality', 'T1_seed',\n",
      "       'T1_OrdinalRank'],\n",
      "      dtype='object')\n"
     ]
    },
    {
     "data": {
      "text/html": [
       "<div>\n",
       "<style scoped>\n",
       "    .dataframe tbody tr th:only-of-type {\n",
       "        vertical-align: middle;\n",
       "    }\n",
       "\n",
       "    .dataframe tbody tr th {\n",
       "        vertical-align: top;\n",
       "    }\n",
       "\n",
       "    .dataframe thead th {\n",
       "        text-align: right;\n",
       "    }\n",
       "</style>\n",
       "<table border=\"1\" class=\"dataframe\">\n",
       "  <thead>\n",
       "    <tr style=\"text-align: right;\">\n",
       "      <th></th>\n",
       "      <th>Season</th>\n",
       "      <th>T1_TeamID</th>\n",
       "      <th>T1_Scoremean</th>\n",
       "      <th>T2_Scoremean</th>\n",
       "      <th>PointDiffmean</th>\n",
       "      <th>T1_FGMmean</th>\n",
       "      <th>T2_FGMmean</th>\n",
       "      <th>T1_FGAmean</th>\n",
       "      <th>T2_FGAmean</th>\n",
       "      <th>T1_EFG_SUMmean</th>\n",
       "      <th>...</th>\n",
       "      <th>T1_Stlmean</th>\n",
       "      <th>T2_Stlmean</th>\n",
       "      <th>T1_Blkmean</th>\n",
       "      <th>T2_Blkmean</th>\n",
       "      <th>T1_PFmean</th>\n",
       "      <th>T2_PFmean</th>\n",
       "      <th>T1_win_ratio_14d</th>\n",
       "      <th>T1_quality</th>\n",
       "      <th>T1_seed</th>\n",
       "      <th>T1_OrdinalRank</th>\n",
       "    </tr>\n",
       "  </thead>\n",
       "  <tbody>\n",
       "    <tr>\n",
       "      <th>9298</th>\n",
       "      <td>2019</td>\n",
       "      <td>3462</td>\n",
       "      <td>60.862069</td>\n",
       "      <td>66.482759</td>\n",
       "      <td>-5.620690</td>\n",
       "      <td>21.896552</td>\n",
       "      <td>24.448276</td>\n",
       "      <td>57.517241</td>\n",
       "      <td>59.758621</td>\n",
       "      <td>0.448019</td>\n",
       "      <td>...</td>\n",
       "      <td>7.586207</td>\n",
       "      <td>7.758621</td>\n",
       "      <td>2.586207</td>\n",
       "      <td>3.172414</td>\n",
       "      <td>15.241379</td>\n",
       "      <td>15.172414</td>\n",
       "      <td>0.0</td>\n",
       "      <td>-0.296941</td>\n",
       "      <td>NaN</td>\n",
       "      <td>NaN</td>\n",
       "    </tr>\n",
       "    <tr>\n",
       "      <th>9299</th>\n",
       "      <td>2019</td>\n",
       "      <td>3463</td>\n",
       "      <td>63.344828</td>\n",
       "      <td>61.551724</td>\n",
       "      <td>1.793103</td>\n",
       "      <td>23.724138</td>\n",
       "      <td>21.965517</td>\n",
       "      <td>60.517241</td>\n",
       "      <td>60.379310</td>\n",
       "      <td>0.438814</td>\n",
       "      <td>...</td>\n",
       "      <td>5.172414</td>\n",
       "      <td>8.344828</td>\n",
       "      <td>3.586207</td>\n",
       "      <td>2.517241</td>\n",
       "      <td>16.448276</td>\n",
       "      <td>17.551724</td>\n",
       "      <td>0.0</td>\n",
       "      <td>0.134368</td>\n",
       "      <td>NaN</td>\n",
       "      <td>NaN</td>\n",
       "    </tr>\n",
       "    <tr>\n",
       "      <th>9300</th>\n",
       "      <td>2019</td>\n",
       "      <td>3464</td>\n",
       "      <td>68.137931</td>\n",
       "      <td>58.000000</td>\n",
       "      <td>10.137931</td>\n",
       "      <td>23.241379</td>\n",
       "      <td>21.862069</td>\n",
       "      <td>55.758621</td>\n",
       "      <td>58.655172</td>\n",
       "      <td>0.494845</td>\n",
       "      <td>...</td>\n",
       "      <td>4.344828</td>\n",
       "      <td>7.448276</td>\n",
       "      <td>3.482759</td>\n",
       "      <td>3.482759</td>\n",
       "      <td>13.862069</td>\n",
       "      <td>17.896552</td>\n",
       "      <td>0.5</td>\n",
       "      <td>0.638405</td>\n",
       "      <td>NaN</td>\n",
       "      <td>NaN</td>\n",
       "    </tr>\n",
       "    <tr>\n",
       "      <th>9301</th>\n",
       "      <td>2019</td>\n",
       "      <td>3465</td>\n",
       "      <td>76.200000</td>\n",
       "      <td>69.840000</td>\n",
       "      <td>6.360000</td>\n",
       "      <td>28.560000</td>\n",
       "      <td>26.600000</td>\n",
       "      <td>67.520000</td>\n",
       "      <td>69.200000</td>\n",
       "      <td>0.493625</td>\n",
       "      <td>...</td>\n",
       "      <td>7.280000</td>\n",
       "      <td>7.920000</td>\n",
       "      <td>3.160000</td>\n",
       "      <td>3.160000</td>\n",
       "      <td>15.520000</td>\n",
       "      <td>15.440000</td>\n",
       "      <td>0.5</td>\n",
       "      <td>-0.182555</td>\n",
       "      <td>NaN</td>\n",
       "      <td>NaN</td>\n",
       "    </tr>\n",
       "    <tr>\n",
       "      <th>9302</th>\n",
       "      <td>2019</td>\n",
       "      <td>3466</td>\n",
       "      <td>69.521739</td>\n",
       "      <td>63.217391</td>\n",
       "      <td>6.304348</td>\n",
       "      <td>24.869565</td>\n",
       "      <td>23.913043</td>\n",
       "      <td>58.434783</td>\n",
       "      <td>58.260870</td>\n",
       "      <td>0.478102</td>\n",
       "      <td>...</td>\n",
       "      <td>8.478261</td>\n",
       "      <td>8.478261</td>\n",
       "      <td>3.695652</td>\n",
       "      <td>3.217391</td>\n",
       "      <td>17.478261</td>\n",
       "      <td>19.173913</td>\n",
       "      <td>0.0</td>\n",
       "      <td>0.107970</td>\n",
       "      <td>NaN</td>\n",
       "      <td>NaN</td>\n",
       "    </tr>\n",
       "  </tbody>\n",
       "</table>\n",
       "<p>5 rows × 35 columns</p>\n",
       "</div>"
      ],
      "text/plain": [
       "      Season  T1_TeamID  T1_Scoremean  T2_Scoremean  PointDiffmean  \\\n",
       "9298    2019       3462     60.862069     66.482759      -5.620690   \n",
       "9299    2019       3463     63.344828     61.551724       1.793103   \n",
       "9300    2019       3464     68.137931     58.000000      10.137931   \n",
       "9301    2019       3465     76.200000     69.840000       6.360000   \n",
       "9302    2019       3466     69.521739     63.217391       6.304348   \n",
       "\n",
       "      T1_FGMmean  T2_FGMmean  T1_FGAmean  T2_FGAmean  T1_EFG_SUMmean  ...  \\\n",
       "9298   21.896552   24.448276   57.517241   59.758621        0.448019  ...   \n",
       "9299   23.724138   21.965517   60.517241   60.379310        0.438814  ...   \n",
       "9300   23.241379   21.862069   55.758621   58.655172        0.494845  ...   \n",
       "9301   28.560000   26.600000   67.520000   69.200000        0.493625  ...   \n",
       "9302   24.869565   23.913043   58.434783   58.260870        0.478102  ...   \n",
       "\n",
       "      T1_Stlmean  T2_Stlmean  T1_Blkmean  T2_Blkmean  T1_PFmean  T2_PFmean  \\\n",
       "9298    7.586207    7.758621    2.586207    3.172414  15.241379  15.172414   \n",
       "9299    5.172414    8.344828    3.586207    2.517241  16.448276  17.551724   \n",
       "9300    4.344828    7.448276    3.482759    3.482759  13.862069  17.896552   \n",
       "9301    7.280000    7.920000    3.160000    3.160000  15.520000  15.440000   \n",
       "9302    8.478261    8.478261    3.695652    3.217391  17.478261  19.173913   \n",
       "\n",
       "      T1_win_ratio_14d  T1_quality  T1_seed  T1_OrdinalRank  \n",
       "9298               0.0   -0.296941      NaN             NaN  \n",
       "9299               0.0    0.134368      NaN             NaN  \n",
       "9300               0.5    0.638405      NaN             NaN  \n",
       "9301               0.5   -0.182555      NaN             NaN  \n",
       "9302               0.0    0.107970      NaN             NaN  \n",
       "\n",
       "[5 rows x 35 columns]"
      ]
     },
     "execution_count": 9,
     "metadata": {},
     "output_type": "execute_result"
    }
   ],
   "source": [
    "features = FEATURES.cal_mean_boxscore\n",
    "boxscore_cols = [col for col, use in features.items() if use]\n",
    "print(\"use boxscore col is\")\n",
    "print(boxscore_cols)\n",
    "\n",
    "season_statistics = make_season_statistics(regular_data, boxscore_cols, seeds, func = [np.mean])\n",
    "season_statistics.tail()"
   ]
  },
  {
   "cell_type": "code",
   "execution_count": 10,
   "id": "e171735e",
   "metadata": {
    "execution": {
     "iopub.execute_input": "2025-03-13T20:12:07.519715Z",
     "iopub.status.busy": "2025-03-13T20:12:07.519715Z",
     "iopub.status.idle": "2025-03-13T20:12:07.536281Z",
     "shell.execute_reply": "2025-03-13T20:12:07.536281Z"
    },
    "papermill": {
     "duration": 0.018849,
     "end_time": "2025-03-13T20:12:07.538564",
     "exception": false,
     "start_time": "2025-03-13T20:12:07.519715",
     "status": "completed"
    },
    "tags": []
   },
   "outputs": [
    {
     "name": "stdout",
     "output_type": "stream",
     "text": [
      "<class 'pandas.core.frame.DataFrame'>\n",
      "RangeIndex: 9303 entries, 0 to 9302\n",
      "Data columns (total 35 columns):\n",
      " #   Column            Non-Null Count  Dtype  \n",
      "---  ------            --------------  -----  \n",
      " 0   Season            9303 non-null   int64  \n",
      " 1   T1_TeamID         9303 non-null   int64  \n",
      " 2   T1_Scoremean      9303 non-null   float64\n",
      " 3   T2_Scoremean      9303 non-null   float64\n",
      " 4   PointDiffmean     9303 non-null   float64\n",
      " 5   T1_FGMmean        9303 non-null   float64\n",
      " 6   T2_FGMmean        9303 non-null   float64\n",
      " 7   T1_FGAmean        9303 non-null   float64\n",
      " 8   T2_FGAmean        9303 non-null   float64\n",
      " 9   T1_EFG_SUMmean    9303 non-null   float64\n",
      " 10  T2_EFG_SUMmean    9303 non-null   float64\n",
      " 11  T1_TO_RATIOmean   9303 non-null   float64\n",
      " 12  T2_TO_RATIOmean   9303 non-null   float64\n",
      " 13  T1_ORmean         9303 non-null   float64\n",
      " 14  T2_ORmean         9303 non-null   float64\n",
      " 15  T1_DRmean         9303 non-null   float64\n",
      " 16  T2_DRmean         9303 non-null   float64\n",
      " 17  T1_REB_RATEmean   9303 non-null   float64\n",
      " 18  T2_REB_RATEmean   9303 non-null   float64\n",
      " 19  T1_FT_RATEmean    9303 non-null   float64\n",
      " 20  T2_FT_RATEmean    9303 non-null   float64\n",
      " 21  T1_Astmean        9303 non-null   float64\n",
      " 22  T2_Astmean        9303 non-null   float64\n",
      " 23  T1_TOmean         9303 non-null   float64\n",
      " 24  T2_TOmean         9303 non-null   float64\n",
      " 25  T1_Stlmean        9303 non-null   float64\n",
      " 26  T2_Stlmean        9303 non-null   float64\n",
      " 27  T1_Blkmean        9303 non-null   float64\n",
      " 28  T2_Blkmean        9303 non-null   float64\n",
      " 29  T1_PFmean         9303 non-null   float64\n",
      " 30  T2_PFmean         9303 non-null   float64\n",
      " 31  T1_win_ratio_14d  9000 non-null   float64\n",
      " 32  T1_quality        9303 non-null   float64\n",
      " 33  T1_seed           1772 non-null   float64\n",
      " 34  T1_OrdinalRank    5834 non-null   float64\n",
      "dtypes: float64(33), int64(2)\n",
      "memory usage: 2.5 MB\n"
     ]
    }
   ],
   "source": [
    "season_statistics.info()"
   ]
  },
  {
   "cell_type": "code",
   "execution_count": 11,
   "id": "38e43fe3",
   "metadata": {
    "execution": {
     "iopub.execute_input": "2025-03-13T20:12:07.545027Z",
     "iopub.status.busy": "2025-03-13T20:12:07.545027Z",
     "iopub.status.idle": "2025-03-13T20:12:07.581687Z",
     "shell.execute_reply": "2025-03-13T20:12:07.581687Z"
    },
    "papermill": {
     "duration": 0.037731,
     "end_time": "2025-03-13T20:12:07.582758",
     "exception": false,
     "start_time": "2025-03-13T20:12:07.545027",
     "status": "completed"
    },
    "tags": []
   },
   "outputs": [],
   "source": [
    "####ボックスscoreの平均に対して、過去３年の加重平均を取るときの処理 ####\n",
    "def get_mean_of_3_season(val_2ps, val_1ps, val_0ps, \n",
    "                         weight_2, weight_1, weight_0, \n",
    "                         degree_weight=1.0\n",
    "                         ):\n",
    "    weight_2 = weight_2**degree_weight\n",
    "    weight_1 = weight_1**degree_weight\n",
    "    weight_0 = weight_0**degree_weight\n",
    "    if val_2ps == 0  and val_1ps == 0:\n",
    "        return val_0ps\n",
    "    elif val_2ps == 0:\n",
    "        return (val_1ps*weight_2 + val_0ps*weight_1)/(weight_2 + weight_1)\n",
    "    else:\n",
    "        sum_of_values = val_2ps*weight_2 + val_1ps*weight_1 + val_0ps*weight_0\n",
    "        return sum_of_values/(weight_2 + weight_1 + weight_0)\n",
    "\n",
    "def get_3_feature(df_team, feature):\n",
    "    value_2_seasons_ago = 0\n",
    "    value_1_season_ago = 0\n",
    "    value_0_season_ago = 0\n",
    "    for _, val in df_team.iterrows():\n",
    "        value_2_seasons_ago = value_1_season_ago\n",
    "        value_1_season_ago = value_0_season_ago\n",
    "        value_0_season_ago = val[feature]\n",
    "    return value_2_seasons_ago, value_1_season_ago, value_0_season_ago\n",
    "\n",
    "def write_mean_of_3_seasons(df, features, weight, degree_weight=1.0):\n",
    "    \"\"\"\n",
    "    val_0ps - current season value\n",
    "    weight_0 - current season weight\n",
    "    val_1ps - last season value\n",
    "    val_2ps - the value of the season before last\n",
    "    \"\"\"\n",
    "    weight_2=weight[0]\n",
    "    weight_1=weight[1]\n",
    "    weight_0=weight[2]\n",
    "    df_copy = df.copy()\n",
    "    suffix = \"_mn3s\"\n",
    "    \n",
    "    for ft in features:\n",
    "        df_copy[ft + suffix] = 0\n",
    "    for idx, val in tqdm(df_copy.iterrows(), total=len(df_copy)):\n",
    "        team = val.T1_TeamID\n",
    "        season = val.Season\n",
    "        df_team = df_copy[(df_copy.T1_TeamID == team)&\n",
    "                          (df_copy.Season <= season)&\n",
    "                          (df_copy.Season > season-3)]\n",
    "        for ft in features:\n",
    "            val_2ps, val_1ps, val_0ps = get_3_feature(df_team, ft)\n",
    "            ft_mean_3 = get_mean_of_3_season(val_2ps, val_1ps, val_0ps, weight_2, weight_1, weight_0, degree_weight=degree_weight)\n",
    "            df_copy.loc[idx, ft + suffix] = ft_mean_3\n",
    "    return df_copy"
   ]
  },
  {
   "cell_type": "code",
   "execution_count": 12,
   "id": "07e43ca1",
   "metadata": {
    "execution": {
     "iopub.execute_input": "2025-03-13T20:12:07.594824Z",
     "iopub.status.busy": "2025-03-13T20:12:07.594824Z",
     "iopub.status.idle": "2025-03-13T20:12:07.622957Z",
     "shell.execute_reply": "2025-03-13T20:12:07.622957Z"
    },
    "papermill": {
     "duration": 0.032196,
     "end_time": "2025-03-13T20:12:07.622957",
     "exception": false,
     "start_time": "2025-03-13T20:12:07.590761",
     "status": "completed"
    },
    "tags": []
   },
   "outputs": [
    {
     "name": "stdout",
     "output_type": "stream",
     "text": [
      "#####\n",
      "skip 3 season verage\n",
      "#####\n"
     ]
    },
    {
     "data": {
      "text/html": [
       "<div>\n",
       "<style scoped>\n",
       "    .dataframe tbody tr th:only-of-type {\n",
       "        vertical-align: middle;\n",
       "    }\n",
       "\n",
       "    .dataframe tbody tr th {\n",
       "        vertical-align: top;\n",
       "    }\n",
       "\n",
       "    .dataframe thead th {\n",
       "        text-align: right;\n",
       "    }\n",
       "</style>\n",
       "<table border=\"1\" class=\"dataframe\">\n",
       "  <thead>\n",
       "    <tr style=\"text-align: right;\">\n",
       "      <th></th>\n",
       "      <th>Season</th>\n",
       "      <th>T1_TeamID</th>\n",
       "      <th>T1_Scoremean</th>\n",
       "      <th>T1_opponent_Scoremean</th>\n",
       "      <th>T1_PointDiffmean</th>\n",
       "      <th>T1_FGMmean</th>\n",
       "      <th>T1_opponent_FGMmean</th>\n",
       "      <th>T1_FGAmean</th>\n",
       "      <th>T1_opponent_FGAmean</th>\n",
       "      <th>T1_EFG_SUMmean</th>\n",
       "      <th>...</th>\n",
       "      <th>T1_Stlmean</th>\n",
       "      <th>T1_opponent_Stlmean</th>\n",
       "      <th>T1_Blkmean</th>\n",
       "      <th>T1_opponent_Blkmean</th>\n",
       "      <th>T1_PFmean</th>\n",
       "      <th>T1_opponent_PFmean</th>\n",
       "      <th>T1_win_ratio_14d</th>\n",
       "      <th>T1_quality</th>\n",
       "      <th>T1_seed</th>\n",
       "      <th>T1_OrdinalRank</th>\n",
       "    </tr>\n",
       "  </thead>\n",
       "  <tbody>\n",
       "    <tr>\n",
       "      <th>0</th>\n",
       "      <td>2003</td>\n",
       "      <td>1102</td>\n",
       "      <td>57.250000</td>\n",
       "      <td>57.000000</td>\n",
       "      <td>0.25000</td>\n",
       "      <td>19.142857</td>\n",
       "      <td>19.285714</td>\n",
       "      <td>39.785714</td>\n",
       "      <td>42.428571</td>\n",
       "      <td>0.584407</td>\n",
       "      <td>...</td>\n",
       "      <td>5.964286</td>\n",
       "      <td>5.428571</td>\n",
       "      <td>1.785714</td>\n",
       "      <td>1.571429</td>\n",
       "      <td>18.750000</td>\n",
       "      <td>18.357143</td>\n",
       "      <td>0.333333</td>\n",
       "      <td>-0.070776</td>\n",
       "      <td>NaN</td>\n",
       "      <td>144.2875</td>\n",
       "    </tr>\n",
       "    <tr>\n",
       "      <th>1</th>\n",
       "      <td>2003</td>\n",
       "      <td>1103</td>\n",
       "      <td>78.777778</td>\n",
       "      <td>78.148148</td>\n",
       "      <td>0.62963</td>\n",
       "      <td>27.148148</td>\n",
       "      <td>27.777778</td>\n",
       "      <td>55.851852</td>\n",
       "      <td>57.000000</td>\n",
       "      <td>0.536564</td>\n",
       "      <td>...</td>\n",
       "      <td>7.259259</td>\n",
       "      <td>6.407407</td>\n",
       "      <td>2.333333</td>\n",
       "      <td>2.851852</td>\n",
       "      <td>19.851852</td>\n",
       "      <td>22.444444</td>\n",
       "      <td>0.333333</td>\n",
       "      <td>-0.116192</td>\n",
       "      <td>NaN</td>\n",
       "      <td>182.2050</td>\n",
       "    </tr>\n",
       "  </tbody>\n",
       "</table>\n",
       "<p>2 rows × 35 columns</p>\n",
       "</div>"
      ],
      "text/plain": [
       "   Season  T1_TeamID  T1_Scoremean  T1_opponent_Scoremean  T1_PointDiffmean  \\\n",
       "0    2003       1102     57.250000              57.000000           0.25000   \n",
       "1    2003       1103     78.777778              78.148148           0.62963   \n",
       "\n",
       "   T1_FGMmean  T1_opponent_FGMmean  T1_FGAmean  T1_opponent_FGAmean  \\\n",
       "0   19.142857            19.285714   39.785714            42.428571   \n",
       "1   27.148148            27.777778   55.851852            57.000000   \n",
       "\n",
       "   T1_EFG_SUMmean  ...  T1_Stlmean  T1_opponent_Stlmean  T1_Blkmean  \\\n",
       "0        0.584407  ...    5.964286             5.428571    1.785714   \n",
       "1        0.536564  ...    7.259259             6.407407    2.333333   \n",
       "\n",
       "   T1_opponent_Blkmean  T1_PFmean  T1_opponent_PFmean  T1_win_ratio_14d  \\\n",
       "0             1.571429  18.750000           18.357143          0.333333   \n",
       "1             2.851852  19.851852           22.444444          0.333333   \n",
       "\n",
       "   T1_quality  T1_seed  T1_OrdinalRank  \n",
       "0   -0.070776      NaN        144.2875  \n",
       "1   -0.116192      NaN        182.2050  \n",
       "\n",
       "[2 rows x 35 columns]"
      ]
     },
     "metadata": {},
     "output_type": "display_data"
    },
    {
     "data": {
      "text/html": [
       "<div>\n",
       "<style scoped>\n",
       "    .dataframe tbody tr th:only-of-type {\n",
       "        vertical-align: middle;\n",
       "    }\n",
       "\n",
       "    .dataframe tbody tr th {\n",
       "        vertical-align: top;\n",
       "    }\n",
       "\n",
       "    .dataframe thead th {\n",
       "        text-align: right;\n",
       "    }\n",
       "</style>\n",
       "<table border=\"1\" class=\"dataframe\">\n",
       "  <thead>\n",
       "    <tr style=\"text-align: right;\">\n",
       "      <th></th>\n",
       "      <th>Season</th>\n",
       "      <th>T2_TeamID</th>\n",
       "      <th>T2_Scoremean</th>\n",
       "      <th>T2_opponent_Scoremean</th>\n",
       "      <th>T2_PointDiffmean</th>\n",
       "      <th>T2_FGMmean</th>\n",
       "      <th>T2_opponent_FGMmean</th>\n",
       "      <th>T2_FGAmean</th>\n",
       "      <th>T2_opponent_FGAmean</th>\n",
       "      <th>T2_EFG_SUMmean</th>\n",
       "      <th>...</th>\n",
       "      <th>T2_Stlmean</th>\n",
       "      <th>T2_opponent_Stlmean</th>\n",
       "      <th>T2_Blkmean</th>\n",
       "      <th>T2_opponent_Blkmean</th>\n",
       "      <th>T2_PFmean</th>\n",
       "      <th>T2_opponent_PFmean</th>\n",
       "      <th>T2_win_ratio_14d</th>\n",
       "      <th>T2_quality</th>\n",
       "      <th>T2_seed</th>\n",
       "      <th>T2_OrdinalRank</th>\n",
       "    </tr>\n",
       "  </thead>\n",
       "  <tbody>\n",
       "    <tr>\n",
       "      <th>9301</th>\n",
       "      <td>2019</td>\n",
       "      <td>3465</td>\n",
       "      <td>76.200000</td>\n",
       "      <td>69.840000</td>\n",
       "      <td>6.360000</td>\n",
       "      <td>28.560000</td>\n",
       "      <td>26.600000</td>\n",
       "      <td>67.520000</td>\n",
       "      <td>69.20000</td>\n",
       "      <td>0.493625</td>\n",
       "      <td>...</td>\n",
       "      <td>7.280000</td>\n",
       "      <td>7.920000</td>\n",
       "      <td>3.160000</td>\n",
       "      <td>3.160000</td>\n",
       "      <td>15.520000</td>\n",
       "      <td>15.440000</td>\n",
       "      <td>0.5</td>\n",
       "      <td>-0.182555</td>\n",
       "      <td>NaN</td>\n",
       "      <td>NaN</td>\n",
       "    </tr>\n",
       "    <tr>\n",
       "      <th>9302</th>\n",
       "      <td>2019</td>\n",
       "      <td>3466</td>\n",
       "      <td>69.521739</td>\n",
       "      <td>63.217391</td>\n",
       "      <td>6.304348</td>\n",
       "      <td>24.869565</td>\n",
       "      <td>23.913043</td>\n",
       "      <td>58.434783</td>\n",
       "      <td>58.26087</td>\n",
       "      <td>0.478102</td>\n",
       "      <td>...</td>\n",
       "      <td>8.478261</td>\n",
       "      <td>8.478261</td>\n",
       "      <td>3.695652</td>\n",
       "      <td>3.217391</td>\n",
       "      <td>17.478261</td>\n",
       "      <td>19.173913</td>\n",
       "      <td>0.0</td>\n",
       "      <td>0.107970</td>\n",
       "      <td>NaN</td>\n",
       "      <td>NaN</td>\n",
       "    </tr>\n",
       "  </tbody>\n",
       "</table>\n",
       "<p>2 rows × 35 columns</p>\n",
       "</div>"
      ],
      "text/plain": [
       "      Season  T2_TeamID  T2_Scoremean  T2_opponent_Scoremean  \\\n",
       "9301    2019       3465     76.200000              69.840000   \n",
       "9302    2019       3466     69.521739              63.217391   \n",
       "\n",
       "      T2_PointDiffmean  T2_FGMmean  T2_opponent_FGMmean  T2_FGAmean  \\\n",
       "9301          6.360000   28.560000            26.600000   67.520000   \n",
       "9302          6.304348   24.869565            23.913043   58.434783   \n",
       "\n",
       "      T2_opponent_FGAmean  T2_EFG_SUMmean  ...  T2_Stlmean  \\\n",
       "9301             69.20000        0.493625  ...    7.280000   \n",
       "9302             58.26087        0.478102  ...    8.478261   \n",
       "\n",
       "      T2_opponent_Stlmean  T2_Blkmean  T2_opponent_Blkmean  T2_PFmean  \\\n",
       "9301             7.920000    3.160000             3.160000  15.520000   \n",
       "9302             8.478261    3.695652             3.217391  17.478261   \n",
       "\n",
       "      T2_opponent_PFmean  T2_win_ratio_14d  T2_quality  T2_seed  \\\n",
       "9301           15.440000               0.5   -0.182555      NaN   \n",
       "9302           19.173913               0.0    0.107970      NaN   \n",
       "\n",
       "      T2_OrdinalRank  \n",
       "9301             NaN  \n",
       "9302             NaN  \n",
       "\n",
       "[2 rows x 35 columns]"
      ]
     },
     "metadata": {},
     "output_type": "display_data"
    }
   ],
   "source": [
    "flag_3season_avg = FEATURES.season_average.enabled\n",
    "\n",
    "#trueのときの処理理解してfalseと一致させる\n",
    "if flag_3season_avg:\n",
    "    print(\"#####\")\n",
    "    print(\"use 3 season average\")\n",
    "    print(\"#####\")\n",
    "    weight = FEATURES.season_average.weights\n",
    "    years = FEATURES.season_average.past_years\n",
    "    assert years==len(weight)\n",
    "    \n",
    "    features_for_calc = [\"T1_Scoremean\", \"T1_FGAmean\",  \"T1_FGA3mean\"]\n",
    "    season_statistics_with_3_seas = write_mean_of_3_seasons(\n",
    "        season_statistics, features_for_calc, weight, degree_weight=1.0\n",
    "    )\n",
    "    \n",
    "    season_statistics_T1 = season_statistics_with_3_seas.copy()\n",
    "    season_statistics_T2 = season_statistics_with_3_seas.copy()\n",
    "    \n",
    "else:\n",
    "    print(\"#####\")\n",
    "    print(\"skip 3 season verage\")\n",
    "    print(\"#####\")\n",
    "    season_statistics_T1 = season_statistics.copy()\n",
    "    season_statistics_T2 = season_statistics.copy()\n",
    "\n",
    "season_statistics_T1.columns = [\"T1_\" + x.replace(\"T1_\",\"\").replace(\"T2_\",\"opponent_\") for x in list(season_statistics_T1.columns)]\n",
    "season_statistics_T2.columns = [\"T2_\" + x.replace(\"T1_\",\"\").replace(\"T2_\",\"opponent_\") for x in list(season_statistics_T2.columns)]\n",
    "season_statistics_T1.columns.values[0] = \"Season\"\n",
    "season_statistics_T2.columns.values[0] = \"Season\"\n",
    "\n",
    "\n",
    "season_statistics_T2.rename(columns = {\n",
    "    \"T1_TeamID\": \"T2_TeamID\"\n",
    "}, inplace=True)\n",
    "display(season_statistics_T1.head(2), season_statistics_T2.tail(2))"
   ]
  },
  {
   "cell_type": "markdown",
   "id": "f7048987",
   "metadata": {
    "papermill": {
     "duration": 0.00834,
     "end_time": "2025-03-13T20:12:07.635091",
     "exception": false,
     "start_time": "2025-03-13T20:12:07.626751",
     "status": "completed"
    },
    "tags": []
   },
   "source": [
    "# Toureney dataの処理\n",
    "1. pointdiff, pointが目的変数となるのでそれはyに分離\n",
    "2. seasonstatisticを結合したものをXとして作る"
   ]
  },
  {
   "cell_type": "code",
   "execution_count": 13,
   "id": "c6c12688",
   "metadata": {
    "execution": {
     "iopub.execute_input": "2025-03-13T20:12:07.649497Z",
     "iopub.status.busy": "2025-03-13T20:12:07.649497Z",
     "iopub.status.idle": "2025-03-13T20:12:07.663723Z",
     "shell.execute_reply": "2025-03-13T20:12:07.663723Z"
    },
    "papermill": {
     "duration": 0.016131,
     "end_time": "2025-03-13T20:12:07.663723",
     "exception": false,
     "start_time": "2025-03-13T20:12:07.647592",
     "status": "completed"
    },
    "tags": []
   },
   "outputs": [],
   "source": [
    "\n",
    "def process_tourney(df1, mode=\"tourney\"):\n",
    "    #Season, teamid ->X, team_score->y\n",
    "    df = df1.copy()\n",
    "    if mode==\"tourney\":\n",
    "        df = prepare_data(df) \n",
    "        y = df[\"T1_Score\"]-df[\"T2_Score\"]\n",
    "    X = df[['Season', 'T1_TeamID', 'T2_TeamID']]\n",
    "    X = pd.merge(X, season_statistics_T1, on = ['Season', 'T1_TeamID'], how = 'left')\n",
    "    X = pd.merge(X, season_statistics_T2, on = ['Season', 'T2_TeamID'], how = 'left')\n",
    "    \n",
    "    #seed->seed diff\n",
    "    X[\"seed_diff\"] = X[\"T1_seed\"] - X[\"T2_seed\"]\n",
    "    #rank->rank diff\n",
    "    X[\"rank_diff\"] = X[\"T1_OrdinalRank\"] - X[\"T2_OrdinalRank\"]\n",
    "    #quality->quality diff\n",
    "    X[\"quality_diff\"] = X[\"T1_quality\"] - X[\"T2_quality\"]\n",
    "    #win_ratio_14d -> win_raio_14d_diff\n",
    "    X[\"win_ratio_14d_diff\"] = X[\"T1_win_ratio_14d\"] - X[\"T2_win_ratio_14d\"]\n",
    "    #tourney_data.drop(columns=[\"T1_seed\", \"T2_seed\"], inplace=True)\n",
    "\n",
    "    X = X.drop(columns=[\"T1_seed\", \"T2_seed\", \"T1_OrdinalRank\", \"T2_OrdinalRank\", \n",
    "                        \"T1_quality\", \"T2_quality\", \"T1_win_ratio_14d\", \"T2_win_ratio_14d\"\n",
    "                        ])\n",
    "\n",
    "    # if rank_diff is False, drop.\n",
    "    IS_RANKDIFF = FEATURES.rank_diff\n",
    "    if not IS_RANKDIFF:\n",
    "        X = X.drop(columns=[\"rank_diff\"])\n",
    "        print(\"drop rank_diff\")\n",
    "    \n",
    "    # if fillna is true-> run fillna()\n",
    "    FILLNA = FEATURES.fillna.quality\n",
    "    if FILLNA==\"nan\":\n",
    "        print(f\"no fillna, use nan\")\n",
    "        X[\"quality_diff\"] = X[\"quality_diff\"].fillna(np.nan)\n",
    "    else:\n",
    "        print(f\"fillna quality feature for {FILLNA}\")\n",
    "        X[\"quality_diff\"] = X[\"quality_diff\"].fillna(FILLNA)\n",
    "\n",
    "        \n",
    "    return X, y if mode==\"tourney\" else X"
   ]
  },
  {
   "cell_type": "code",
   "execution_count": 14,
   "id": "8ccd4f7c",
   "metadata": {
    "execution": {
     "iopub.execute_input": "2025-03-13T20:12:07.686400Z",
     "iopub.status.busy": "2025-03-13T20:12:07.685381Z",
     "iopub.status.idle": "2025-03-13T20:12:07.712122Z",
     "shell.execute_reply": "2025-03-13T20:12:07.712122Z"
    },
    "papermill": {
     "duration": 0.035057,
     "end_time": "2025-03-13T20:12:07.712122",
     "exception": false,
     "start_time": "2025-03-13T20:12:07.677065",
     "status": "completed"
    },
    "tags": []
   },
   "outputs": [
    {
     "name": "stdout",
     "output_type": "stream",
     "text": [
      "<class 'pandas.core.frame.DataFrame'>\n",
      "Index: 1615 entries, 0 to 1948\n",
      "Data columns (total 56 columns):\n",
      " #   Column       Non-Null Count  Dtype  \n",
      "---  ------       --------------  -----  \n",
      " 0   Season       1615 non-null   int64  \n",
      " 1   DayNum       1615 non-null   int64  \n",
      " 2   WTeamID      1615 non-null   int64  \n",
      " 3   WScore       1615 non-null   int64  \n",
      " 4   LTeamID      1615 non-null   int64  \n",
      " 5   LScore       1615 non-null   int64  \n",
      " 6   WLoc         1615 non-null   object \n",
      " 7   NumOT        1615 non-null   int64  \n",
      " 8   WFGM         1615 non-null   int64  \n",
      " 9   WFGA         1615 non-null   int64  \n",
      " 10  WFGM3        1615 non-null   int64  \n",
      " 11  WFGA3        1615 non-null   int64  \n",
      " 12  WFTM         1615 non-null   int64  \n",
      " 13  WFTA         1615 non-null   int64  \n",
      " 14  WOR          1615 non-null   int64  \n",
      " 15  WDR          1615 non-null   int64  \n",
      " 16  WAst         1615 non-null   int64  \n",
      " 17  WTO          1615 non-null   int64  \n",
      " 18  WStl         1615 non-null   int64  \n",
      " 19  WBlk         1615 non-null   int64  \n",
      " 20  WPF          1615 non-null   int64  \n",
      " 21  LFGM         1615 non-null   int64  \n",
      " 22  LFGA         1615 non-null   int64  \n",
      " 23  LFGM3        1615 non-null   int64  \n",
      " 24  LFGA3        1615 non-null   int64  \n",
      " 25  LFTM         1615 non-null   int64  \n",
      " 26  LFTA         1615 non-null   int64  \n",
      " 27  LOR          1615 non-null   int64  \n",
      " 28  LDR          1615 non-null   int64  \n",
      " 29  LAst         1615 non-null   int64  \n",
      " 30  LTO          1615 non-null   int64  \n",
      " 31  LStl         1615 non-null   int64  \n",
      " 32  LBlk         1615 non-null   int64  \n",
      " 33  LPF          1615 non-null   int64  \n",
      " 34  WEFFG        1615 non-null   float64\n",
      " 35  LEFFG        1615 non-null   float64\n",
      " 36  WEFFG3       1615 non-null   float64\n",
      " 37  LEFFG3       1615 non-null   float64\n",
      " 38  WDARE        1615 non-null   float64\n",
      " 39  LDARE        1615 non-null   float64\n",
      " 40  WTOQUETOQUE  1615 non-null   float64\n",
      " 41  LTOQUETOQUE  1615 non-null   float64\n",
      " 42  WEFG_SUM     1615 non-null   float64\n",
      " 43  LEFG_SUM     1615 non-null   float64\n",
      " 44  WPOSS        1615 non-null   float64\n",
      " 45  LPOSS        1615 non-null   float64\n",
      " 46  WPOSS_RATE   1615 non-null   float64\n",
      " 47  LPOSS_RATE   1615 non-null   float64\n",
      " 48  WTO_RATIO    1615 non-null   float64\n",
      " 49  LTO_RATIO    1615 non-null   float64\n",
      " 50  WREB_RATE    1615 non-null   float64\n",
      " 51  LREB_RATE    1615 non-null   float64\n",
      " 52  WFT_RATE     1615 non-null   float64\n",
      " 53  LFT_RATE     1615 non-null   float64\n",
      " 54  WRATING      1615 non-null   float64\n",
      " 55  LRATING      1615 non-null   float64\n",
      "dtypes: float64(22), int64(33), object(1)\n",
      "memory usage: 719.2+ KB\n",
      "None\n",
      "feature cols after prepare()\n",
      "Index(['Season', 'DayNum', 'T1_TeamID', 'T1_Score', 'T2_TeamID', 'T2_Score',\n",
      "       'location', 'NumOT', 'T1_FGM', 'T1_FGA', 'T1_FGM3', 'T1_FGA3', 'T1_FTM',\n",
      "       'T1_FTA', 'T1_OR', 'T1_DR', 'T1_Ast', 'T1_TO', 'T1_Stl', 'T1_Blk',\n",
      "       'T1_PF', 'T2_FGM', 'T2_FGA', 'T2_FGM3', 'T2_FGA3', 'T2_FTM', 'T2_FTA',\n",
      "       'T2_OR', 'T2_DR', 'T2_Ast', 'T2_TO', 'T2_Stl', 'T2_Blk', 'T2_PF',\n",
      "       'T1_EFFG', 'T2_EFFG', 'T1_EFFG3', 'T2_EFFG3', 'T1_DARE', 'T2_DARE',\n",
      "       'T1_TOQUETOQUE', 'T2_TOQUETOQUE', 'T1_EFG_SUM', 'T2_EFG_SUM', 'T1_POSS',\n",
      "       'T2_POSS', 'T1_POSS_RATE', 'T2_POSS_RATE', 'T1_TO_RATIO', 'T2_TO_RATIO',\n",
      "       'T1_REB_RATE', 'T2_REB_RATE', 'T1_FT_RATE', 'T2_FT_RATE', 'T1_RATING',\n",
      "       'T2_RATING', 'PointDiff', 'win'],\n",
      "      dtype='object')\n",
      "no fillna, use nan\n"
     ]
    }
   ],
   "source": [
    "X, y = process_tourney(tourney_results)"
   ]
  },
  {
   "cell_type": "code",
   "execution_count": 15,
   "id": "f7c0eb84",
   "metadata": {
    "execution": {
     "iopub.execute_input": "2025-03-13T20:12:07.726590Z",
     "iopub.status.busy": "2025-03-13T20:12:07.726590Z",
     "iopub.status.idle": "2025-03-13T20:12:07.736207Z",
     "shell.execute_reply": "2025-03-13T20:12:07.736207Z"
    },
    "papermill": {
     "duration": 0.024085,
     "end_time": "2025-03-13T20:12:07.736207",
     "exception": false,
     "start_time": "2025-03-13T20:12:07.712122",
     "status": "completed"
    },
    "tags": []
   },
   "outputs": [
    {
     "name": "stdout",
     "output_type": "stream",
     "text": [
      "drop col list: ['T1_opponent_Blkmean', 'T2_opponent_Blkmean', 'T1_TOmean', 'T2_TOmean', 'T1_opponent_Astmean', 'T2_opponent_Astmean', 'T1_opponent_FT_RATEmean', 'T2_opponent_FT_RATEmean']\n"
     ]
    }
   ],
   "source": [
    "#opponentなど明示的に特徴量選出に基づいて落とす\n",
    "def drop_columns(df, cols):\n",
    "    if not cols: return df\n",
    "    existing_cols = [col for col in cols if col in df.columns]\n",
    "    print(f\"drop col list: {existing_cols}\")\n",
    "    return df.drop(columns=existing_cols)\n",
    "\n",
    "drop_col = FEATURES.dropfeatures\n",
    "X = drop_columns(X, drop_col)"
   ]
  },
  {
   "cell_type": "code",
   "execution_count": 16,
   "id": "2dedd2b8",
   "metadata": {
    "execution": {
     "iopub.execute_input": "2025-03-13T20:12:07.742426Z",
     "iopub.status.busy": "2025-03-13T20:12:07.742426Z",
     "iopub.status.idle": "2025-03-13T20:12:07.759138Z",
     "shell.execute_reply": "2025-03-13T20:12:07.759138Z"
    },
    "papermill": {
     "duration": 0.018755,
     "end_time": "2025-03-13T20:12:07.761181",
     "exception": false,
     "start_time": "2025-03-13T20:12:07.742426",
     "status": "completed"
    },
    "tags": []
   },
   "outputs": [
    {
     "name": "stdout",
     "output_type": "stream",
     "text": [
      "最終的な X の特徴量\n",
      "Index(['Season', 'T1_TeamID', 'T2_TeamID', 'T1_Scoremean',\n",
      "       'T1_opponent_Scoremean', 'T1_PointDiffmean', 'T1_FGMmean',\n",
      "       'T1_opponent_FGMmean', 'T1_FGAmean', 'T1_opponent_FGAmean',\n",
      "       'T1_EFG_SUMmean', 'T1_opponent_EFG_SUMmean', 'T1_TO_RATIOmean',\n",
      "       'T1_opponent_TO_RATIOmean', 'T1_ORmean', 'T1_opponent_ORmean',\n",
      "       'T1_DRmean', 'T1_opponent_DRmean', 'T1_REB_RATEmean',\n",
      "       'T1_opponent_REB_RATEmean', 'T1_FT_RATEmean', 'T1_Astmean',\n",
      "       'T1_opponent_TOmean', 'T1_Stlmean', 'T1_opponent_Stlmean', 'T1_Blkmean',\n",
      "       'T1_PFmean', 'T1_opponent_PFmean', 'T2_Scoremean',\n",
      "       'T2_opponent_Scoremean', 'T2_PointDiffmean', 'T2_FGMmean',\n",
      "       'T2_opponent_FGMmean', 'T2_FGAmean', 'T2_opponent_FGAmean',\n",
      "       'T2_EFG_SUMmean', 'T2_opponent_EFG_SUMmean', 'T2_TO_RATIOmean',\n",
      "       'T2_opponent_TO_RATIOmean', 'T2_ORmean', 'T2_opponent_ORmean',\n",
      "       'T2_DRmean', 'T2_opponent_DRmean', 'T2_REB_RATEmean',\n",
      "       'T2_opponent_REB_RATEmean', 'T2_FT_RATEmean', 'T2_Astmean',\n",
      "       'T2_opponent_TOmean', 'T2_Stlmean', 'T2_opponent_Stlmean', 'T2_Blkmean',\n",
      "       'T2_PFmean', 'T2_opponent_PFmean', 'seed_diff', 'rank_diff',\n",
      "       'quality_diff', 'win_ratio_14d_diff'],\n",
      "      dtype='object')\n"
     ]
    }
   ],
   "source": [
    "print(\"最終的な X の特徴量\")\n",
    "print(X.columns)"
   ]
  },
  {
   "cell_type": "code",
   "execution_count": 17,
   "id": "9fb29643",
   "metadata": {
    "execution": {
     "iopub.execute_input": "2025-03-13T20:12:07.777251Z",
     "iopub.status.busy": "2025-03-13T20:12:07.777251Z",
     "iopub.status.idle": "2025-03-13T20:12:07.791260Z",
     "shell.execute_reply": "2025-03-13T20:12:07.791260Z"
    },
    "papermill": {
     "duration": 0.02427,
     "end_time": "2025-03-13T20:12:07.793544",
     "exception": false,
     "start_time": "2025-03-13T20:12:07.769274",
     "status": "completed"
    },
    "tags": []
   },
   "outputs": [
    {
     "name": "stdout",
     "output_type": "stream",
     "text": [
      "<class 'pandas.core.frame.DataFrame'>\n",
      "RangeIndex: 3230 entries, 0 to 3229\n",
      "Data columns (total 57 columns):\n",
      " #   Column                    Non-Null Count  Dtype  \n",
      "---  ------                    --------------  -----  \n",
      " 0   Season                    3230 non-null   int64  \n",
      " 1   T1_TeamID                 3230 non-null   int64  \n",
      " 2   T2_TeamID                 3230 non-null   int64  \n",
      " 3   T1_Scoremean              3230 non-null   float64\n",
      " 4   T1_opponent_Scoremean     3230 non-null   float64\n",
      " 5   T1_PointDiffmean          3230 non-null   float64\n",
      " 6   T1_FGMmean                3230 non-null   float64\n",
      " 7   T1_opponent_FGMmean       3230 non-null   float64\n",
      " 8   T1_FGAmean                3230 non-null   float64\n",
      " 9   T1_opponent_FGAmean       3230 non-null   float64\n",
      " 10  T1_EFG_SUMmean            3230 non-null   float64\n",
      " 11  T1_opponent_EFG_SUMmean   3230 non-null   float64\n",
      " 12  T1_TO_RATIOmean           3230 non-null   float64\n",
      " 13  T1_opponent_TO_RATIOmean  3230 non-null   float64\n",
      " 14  T1_ORmean                 3230 non-null   float64\n",
      " 15  T1_opponent_ORmean        3230 non-null   float64\n",
      " 16  T1_DRmean                 3230 non-null   float64\n",
      " 17  T1_opponent_DRmean        3230 non-null   float64\n",
      " 18  T1_REB_RATEmean           3230 non-null   float64\n",
      " 19  T1_opponent_REB_RATEmean  3230 non-null   float64\n",
      " 20  T1_FT_RATEmean            3230 non-null   float64\n",
      " 21  T1_Astmean                3230 non-null   float64\n",
      " 22  T1_opponent_TOmean        3230 non-null   float64\n",
      " 23  T1_Stlmean                3230 non-null   float64\n",
      " 24  T1_opponent_Stlmean       3230 non-null   float64\n",
      " 25  T1_Blkmean                3230 non-null   float64\n",
      " 26  T1_PFmean                 3230 non-null   float64\n",
      " 27  T1_opponent_PFmean        3230 non-null   float64\n",
      " 28  T2_Scoremean              3230 non-null   float64\n",
      " 29  T2_opponent_Scoremean     3230 non-null   float64\n",
      " 30  T2_PointDiffmean          3230 non-null   float64\n",
      " 31  T2_FGMmean                3230 non-null   float64\n",
      " 32  T2_opponent_FGMmean       3230 non-null   float64\n",
      " 33  T2_FGAmean                3230 non-null   float64\n",
      " 34  T2_opponent_FGAmean       3230 non-null   float64\n",
      " 35  T2_EFG_SUMmean            3230 non-null   float64\n",
      " 36  T2_opponent_EFG_SUMmean   3230 non-null   float64\n",
      " 37  T2_TO_RATIOmean           3230 non-null   float64\n",
      " 38  T2_opponent_TO_RATIOmean  3230 non-null   float64\n",
      " 39  T2_ORmean                 3230 non-null   float64\n",
      " 40  T2_opponent_ORmean        3230 non-null   float64\n",
      " 41  T2_DRmean                 3230 non-null   float64\n",
      " 42  T2_opponent_DRmean        3230 non-null   float64\n",
      " 43  T2_REB_RATEmean           3230 non-null   float64\n",
      " 44  T2_opponent_REB_RATEmean  3230 non-null   float64\n",
      " 45  T2_FT_RATEmean            3230 non-null   float64\n",
      " 46  T2_Astmean                3230 non-null   float64\n",
      " 47  T2_opponent_TOmean        3230 non-null   float64\n",
      " 48  T2_Stlmean                3230 non-null   float64\n",
      " 49  T2_opponent_Stlmean       3230 non-null   float64\n",
      " 50  T2_Blkmean                3230 non-null   float64\n",
      " 51  T2_PFmean                 3230 non-null   float64\n",
      " 52  T2_opponent_PFmean        3230 non-null   float64\n",
      " 53  seed_diff                 3230 non-null   float64\n",
      " 54  rank_diff                 2096 non-null   float64\n",
      " 55  quality_diff              3230 non-null   float64\n",
      " 56  win_ratio_14d_diff        3230 non-null   float64\n",
      "dtypes: float64(54), int64(3)\n",
      "memory usage: 1.4 MB\n"
     ]
    }
   ],
   "source": [
    "X.info()"
   ]
  },
  {
   "cell_type": "markdown",
   "id": "26d86801",
   "metadata": {
    "papermill": {
     "duration": 0.014776,
     "end_time": "2025-03-13T20:12:07.808988",
     "exception": false,
     "start_time": "2025-03-13T20:12:07.794212",
     "status": "completed"
    },
    "tags": []
   },
   "source": [
    "# build models"
   ]
  },
  {
   "cell_type": "code",
   "execution_count": 18,
   "id": "fdac7057",
   "metadata": {
    "execution": {
     "iopub.execute_input": "2025-03-13T20:12:07.827114Z",
     "iopub.status.busy": "2025-03-13T20:12:07.826731Z",
     "iopub.status.idle": "2025-03-13T20:12:07.843412Z",
     "shell.execute_reply": "2025-03-13T20:12:07.843412Z"
    },
    "papermill": {
     "duration": 0.026922,
     "end_time": "2025-03-13T20:12:07.844584",
     "exception": false,
     "start_time": "2025-03-13T20:12:07.817662",
     "status": "completed"
    },
    "tags": []
   },
   "outputs": [],
   "source": [
    "\n",
    "val_mae = []\n",
    "iteration_counts = []\n",
    "xgb_cv = []\n",
    "dtrain = xgb.DMatrix(X, label=y)\n",
    "\n",
    "repeat_cv = MODEL.repeat_cv\n",
    "param = dict(MODEL.xgb_model.param)\n",
    "num_boost_round = MODEL.xgb_model.num_boost_round\n",
    "folds_splits = MODEL.xgb_model.folds_splits\n",
    "early_stopping_rounds = MODEL.xgb_model.early_stopping_rounds\n",
    "\n",
    "# コーシー損失関数\n",
    "def cauchyobj(preds, dtrain):\n",
    "    labels = dtrain.get_label()\n",
    "    c = 5000\n",
    "    x = preds - labels    \n",
    "    grad = x / (x**2/c**2 + 1)\n",
    "    hess = -c**2 * (x**2 - c**2) / (x**2 + c**2)**2\n",
    "    return grad, hess"
   ]
  },
  {
   "cell_type": "code",
   "execution_count": 19,
   "id": "d659dd4f",
   "metadata": {
    "execution": {
     "iopub.execute_input": "2025-03-13T20:12:07.869059Z",
     "iopub.status.busy": "2025-03-13T20:12:07.869059Z",
     "iopub.status.idle": "2025-03-13T20:12:07.883055Z",
     "shell.execute_reply": "2025-03-13T20:12:07.883055Z"
    },
    "papermill": {
     "duration": 0.028069,
     "end_time": "2025-03-13T20:12:07.884725",
     "exception": false,
     "start_time": "2025-03-13T20:12:07.856656",
     "status": "completed"
    },
    "tags": []
   },
   "outputs": [],
   "source": [
    "#########################################\n",
    "# 1. Optunaあり：ハイパーパラメータ最適化 #\n",
    "#########################################\n",
    "def run_optuna_optimization(param, optuna_conf):\n",
    "    def objective(trial):  \n",
    "        logger.info(f\"Trial {trial.number} 開始\")\n",
    "        \n",
    "        current_param = param.copy()  \n",
    "        max_depth_range = optuna_conf.max_depth        \n",
    "        eta_range = optuna_conf.eta\n",
    "        subsample_range = optuna_conf.subsample          \n",
    "        colsample_bytree_range = optuna_conf.colsample_bytree\n",
    "        num_parallel_tree_range = optuna_conf.num_parallel_tree \n",
    "        min_child_weight_range = optuna_conf.min_child_weight \n",
    "        reg_alpha_range = optuna_conf.reg_alpha         \n",
    "        reg_lambda_range = optuna_conf.reg_lambda    \n",
    "        reg_gamma_range = optuna_conf.gamma  \n",
    "\n",
    "        current_param[\"max_depth\"] = trial.suggest_int(\"max_depth\", max_depth_range[0], max_depth_range[1])\n",
    "        current_param[\"eta\"] = trial.suggest_float(\"eta\", eta_range[0], eta_range[1], log=True)\n",
    "        current_param[\"subsample\"] = trial.suggest_float(\"subsample\", subsample_range[0], subsample_range[1])\n",
    "        current_param[\"colsample_bytree\"] = trial.suggest_float(\"colsample_bytree\", colsample_bytree_range[0], colsample_bytree_range[1])\n",
    "        current_param[\"num_parallel_tree\"] = trial.suggest_int(\"num_parallel_tree\", num_parallel_tree_range[0], num_parallel_tree_range[1])\n",
    "        current_param[\"min_child_weight\"] = trial.suggest_int(\"min_child_weight\", min_child_weight_range[0], min_child_weight_range[1])\n",
    "        current_param[\"reg_alpha\"] = trial.suggest_float(\"reg_alpha\", reg_alpha_range[0], reg_alpha_range[1])\n",
    "        current_param[\"reg_lambda\"] = trial.suggest_float(\"reg_lambda\", reg_lambda_range[0], reg_lambda_range[1])\n",
    "        current_param[\"gamma\"] = trial.suggest_float(\"gamma\", reg_gamma_range[0], reg_gamma_range[1])\n",
    "        \n",
    "        if current_param.get(\"eval_metric\", \"mae\") == \"rmse\":\n",
    "            score_name = \"test-rmse-mean\"\n",
    "        elif current_param.get(\"eval_metric\", \"mae\") == \"mae\":\n",
    "            score_name = \"test-mae-mean\"\n",
    "        elif  current_param.get(\"eval_metric\", \"mae\") == \"logloss\":\n",
    "            score_name = \"test-logloss-mean\"\n",
    "        \n",
    "        print(current_param)  \n",
    "        cv_scores = []\n",
    "        for i in range(repeat_cv):\n",
    "            cv_result = xgb.cv(\n",
    "                params=current_param,\n",
    "                dtrain=dtrain,\n",
    "                obj=cauchyobj,\n",
    "                num_boost_round=num_boost_round,\n",
    "                folds=KFold(n_splits=folds_splits, shuffle=True, random_state=i),\n",
    "                early_stopping_rounds=early_stopping_rounds,\n",
    "                verbose_eval=False\n",
    "            )\n",
    "            fold_score = np.min(cv_result[score_name].values)\n",
    "            cv_scores.append(fold_score)\n",
    "        mean_score = np.mean(cv_scores)\n",
    "        logger.info(f\"Trial {trial.number} 終了: スコア {mean_score}\")\n",
    "        \n",
    "        return mean_score\n",
    "\n",
    "    logger.info(\"Optuna最適化開始\")\n",
    "    N_WARMUP_STEPS = optuna_conf.n_warmup_steps\n",
    "    TIMEOUT = optuna_conf.timeout\n",
    "    N_JOBS = optuna_conf.n_jobs\n",
    "    N_TRIALS = optuna_conf.n_trials\n",
    "    \n",
    "    sampler = optuna.samplers.TPESampler(seed=42)\n",
    "    pruner = optuna.pruners.MedianPruner(n_warmup_steps=N_WARMUP_STEPS)\n",
    "\n",
    "    study = optuna.create_study(direction=\"minimize\", sampler=sampler, pruner=pruner)\n",
    "    study.optimize(objective, n_trials=N_TRIALS, timeout=TIMEOUT, n_jobs=N_JOBS)\n",
    "\n",
    "    best_trial = study.best_trial\n",
    "    logger.info(\"Best trial:\")\n",
    "    logger.info(f\"  Value: {best_trial.value}\")\n",
    "    \n",
    "    for key, value in best_trial.params.items():\n",
    "        print(f\"    {key}: {value}\")\n",
    "    param.update(best_trial.params)\n",
    "\n",
    "    logger.info(\"Optuna最適化終了\")\n",
    "    return param"
   ]
  },
  {
   "cell_type": "code",
   "execution_count": 20,
   "id": "d2f25c4c",
   "metadata": {
    "execution": {
     "iopub.execute_input": "2025-03-13T20:12:07.911063Z",
     "iopub.status.busy": "2025-03-13T20:12:07.910055Z",
     "iopub.status.idle": "2025-03-13T20:12:07.916139Z",
     "shell.execute_reply": "2025-03-13T20:12:07.916139Z"
    },
    "papermill": {
     "duration": 0.019662,
     "end_time": "2025-03-13T20:12:07.917144",
     "exception": false,
     "start_time": "2025-03-13T20:12:07.897482",
     "status": "completed"
    },
    "tags": []
   },
   "outputs": [
    {
     "name": "stdout",
     "output_type": "stream",
     "text": [
      "not use Optuna, use xgb_model.param\n",
      "param: {'eval_metric': 'rmse', 'booster': 'gbtree', 'eta': 0.03, 'subsample': 0.4, 'colsample_bytree': 0.7, 'num_parallel_tree': 10, 'min_child_weight': 50, 'gamma': 10, 'max_depth': 3}\n",
      "repeat_cv: 10\n",
      "num_boost_round: 3000\n",
      "folds_splits: 5\n",
      "early_stopping_rounds: 25\n"
     ]
    }
   ],
   "source": [
    "IS_OPTUNA = MODEL.optuna_enabled\n",
    "if IS_OPTUNA:\n",
    "    print(\"Optuna use mode\") \n",
    "    optuna_conf = MODEL.xgb_model.optuna\n",
    "    logger.add(os.path.join(OUTPUT_PATH, \"results.log\"), format=\"{time:YYYY-MM-DD at HH:mm:ss} - {level} - {message}\", level=\"INFO\")\n",
    "    param = run_optuna_optimization(param, optuna_conf)\n",
    "    print(\"param updated by optuna\")\n",
    "    results+= [\"param set after optuna is below\", f\"{param}\", \"\"]\n",
    "else:    \n",
    "    print(\"not use Optuna, use xgb_model.param\")\n",
    "\n",
    "\n",
    "\n",
    "print(\"param:\", param)\n",
    "print(\"repeat_cv:\", repeat_cv)\n",
    "print(\"num_boost_round:\", num_boost_round)\n",
    "print(\"folds_splits:\", folds_splits)\n",
    "print(\"early_stopping_rounds:\", early_stopping_rounds)"
   ]
  },
  {
   "cell_type": "code",
   "execution_count": 21,
   "id": "fd760775",
   "metadata": {
    "execution": {
     "iopub.execute_input": "2025-03-13T20:12:07.940535Z",
     "iopub.status.busy": "2025-03-13T20:12:07.940535Z",
     "iopub.status.idle": "2025-03-13T20:14:50.375504Z",
     "shell.execute_reply": "2025-03-13T20:14:50.375504Z"
    },
    "papermill": {
     "duration": 162.44653,
     "end_time": "2025-03-13T20:14:50.375504",
     "exception": false,
     "start_time": "2025-03-13T20:12:07.928974",
     "status": "completed"
    },
    "tags": []
   },
   "outputs": [
    {
     "name": "stderr",
     "output_type": "stream",
     "text": [
      "\r",
      "  0%|                                                                                                                                                            | 0/10 [00:00<?, ?it/s]"
     ]
    },
    {
     "name": "stdout",
     "output_type": "stream",
     "text": [
      "[0]\ttrain-rmse:17.03090+0.03377\ttest-rmse:17.03488+0.13231\n"
     ]
    },
    {
     "name": "stdout",
     "output_type": "stream",
     "text": [
      "[50]\ttrain-rmse:12.40262+0.05045\ttest-rmse:12.68035+0.18095\n"
     ]
    },
    {
     "name": "stdout",
     "output_type": "stream",
     "text": [
      "[100]\ttrain-rmse:11.61135+0.04527\ttest-rmse:12.11340+0.17452\n"
     ]
    },
    {
     "name": "stdout",
     "output_type": "stream",
     "text": [
      "[150]\ttrain-rmse:11.25679+0.04449\ttest-rmse:11.96382+0.17420\n"
     ]
    },
    {
     "name": "stdout",
     "output_type": "stream",
     "text": [
      "[200]\ttrain-rmse:10.99555+0.04327\ttest-rmse:11.90558+0.17998\n"
     ]
    },
    {
     "name": "stdout",
     "output_type": "stream",
     "text": [
      "[250]\ttrain-rmse:10.77854+0.04144\ttest-rmse:11.87850+0.17807\n"
     ]
    },
    {
     "name": "stdout",
     "output_type": "stream",
     "text": [
      "[300]\ttrain-rmse:10.58692+0.04210\ttest-rmse:11.87020+0.17642\n"
     ]
    },
    {
     "name": "stdout",
     "output_type": "stream",
     "text": [
      "[323]\ttrain-rmse:10.50507+0.04328\ttest-rmse:11.87163+0.17733\n"
     ]
    },
    {
     "name": "stderr",
     "output_type": "stream",
     "text": [
      "\r",
      " 10%|██████████████▊                                                                                                                                     | 1/10 [00:13<01:58, 13.11s/it]"
     ]
    },
    {
     "name": "stdout",
     "output_type": "stream",
     "text": [
      "[0]\ttrain-rmse:17.02805+0.15407\ttest-rmse:17.02278+0.62656\n"
     ]
    },
    {
     "name": "stdout",
     "output_type": "stream",
     "text": [
      "[50]\ttrain-rmse:12.39540+0.10322\ttest-rmse:12.66340+0.46297\n"
     ]
    },
    {
     "name": "stdout",
     "output_type": "stream",
     "text": [
      "[100]\ttrain-rmse:11.61219+0.10341\ttest-rmse:12.09900+0.41533\n"
     ]
    },
    {
     "name": "stdout",
     "output_type": "stream",
     "text": [
      "[150]\ttrain-rmse:11.25684+0.10121\ttest-rmse:11.95214+0.40548\n"
     ]
    },
    {
     "name": "stdout",
     "output_type": "stream",
     "text": [
      "[200]\ttrain-rmse:11.00150+0.10161\ttest-rmse:11.88925+0.40079\n"
     ]
    },
    {
     "name": "stdout",
     "output_type": "stream",
     "text": [
      "[250]\ttrain-rmse:10.78521+0.10109\ttest-rmse:11.85869+0.39764\n"
     ]
    },
    {
     "name": "stdout",
     "output_type": "stream",
     "text": [
      "[300]\ttrain-rmse:10.59538+0.09849\ttest-rmse:11.84313+0.39457\n"
     ]
    },
    {
     "name": "stdout",
     "output_type": "stream",
     "text": [
      "[350]\ttrain-rmse:10.42119+0.09838\ttest-rmse:11.83819+0.39557\n"
     ]
    },
    {
     "name": "stdout",
     "output_type": "stream",
     "text": [
      "[400]\ttrain-rmse:10.25831+0.09857\ttest-rmse:11.83737+0.39272\n"
     ]
    },
    {
     "name": "stdout",
     "output_type": "stream",
     "text": [
      "[412]\ttrain-rmse:10.22192+0.09808\ttest-rmse:11.83777+0.39273\n"
     ]
    },
    {
     "name": "stderr",
     "output_type": "stream",
     "text": [
      "\r",
      " 20%|█████████████████████████████▌                                                                                                                      | 2/10 [00:30<02:06, 15.86s/it]"
     ]
    },
    {
     "name": "stdout",
     "output_type": "stream",
     "text": [
      "[0]\ttrain-rmse:17.03159+0.11697\ttest-rmse:17.02915+0.49212\n"
     ]
    },
    {
     "name": "stdout",
     "output_type": "stream",
     "text": [
      "[50]\ttrain-rmse:12.40449+0.07319\ttest-rmse:12.65293+0.33507\n"
     ]
    },
    {
     "name": "stdout",
     "output_type": "stream",
     "text": [
      "[100]\ttrain-rmse:11.61770+0.06832\ttest-rmse:12.07585+0.30147\n"
     ]
    },
    {
     "name": "stdout",
     "output_type": "stream",
     "text": [
      "[150]\ttrain-rmse:11.26009+0.06965\ttest-rmse:11.91740+0.29420\n"
     ]
    },
    {
     "name": "stdout",
     "output_type": "stream",
     "text": [
      "[200]\ttrain-rmse:11.00259+0.07001\ttest-rmse:11.85059+0.28996\n"
     ]
    },
    {
     "name": "stdout",
     "output_type": "stream",
     "text": [
      "[250]\ttrain-rmse:10.78573+0.06972\ttest-rmse:11.82065+0.28498\n"
     ]
    },
    {
     "name": "stdout",
     "output_type": "stream",
     "text": [
      "[300]\ttrain-rmse:10.59710+0.06944\ttest-rmse:11.81530+0.27333\n"
     ]
    },
    {
     "name": "stdout",
     "output_type": "stream",
     "text": [
      "[350]\ttrain-rmse:10.42351+0.06985\ttest-rmse:11.81332+0.27264\n"
     ]
    },
    {
     "name": "stdout",
     "output_type": "stream",
     "text": [
      "[363]\ttrain-rmse:10.38052+0.07039\ttest-rmse:11.81512+0.27113\n"
     ]
    },
    {
     "name": "stderr",
     "output_type": "stream",
     "text": [
      "\r",
      " 30%|████████████████████████████████████████████▍                                                                                                       | 3/10 [00:46<01:48, 15.57s/it]"
     ]
    },
    {
     "name": "stdout",
     "output_type": "stream",
     "text": [
      "[0]\ttrain-rmse:17.02938+0.07435\ttest-rmse:17.03166+0.30754\n"
     ]
    },
    {
     "name": "stdout",
     "output_type": "stream",
     "text": [
      "[50]\ttrain-rmse:12.40044+0.04896\ttest-rmse:12.63632+0.26453\n"
     ]
    },
    {
     "name": "stdout",
     "output_type": "stream",
     "text": [
      "[100]\ttrain-rmse:11.61259+0.05477\ttest-rmse:12.05972+0.22571\n"
     ]
    },
    {
     "name": "stdout",
     "output_type": "stream",
     "text": [
      "[150]\ttrain-rmse:11.25603+0.06234\ttest-rmse:11.90600+0.21796\n"
     ]
    },
    {
     "name": "stdout",
     "output_type": "stream",
     "text": [
      "[200]\ttrain-rmse:10.99977+0.06561\ttest-rmse:11.83944+0.22374\n"
     ]
    },
    {
     "name": "stdout",
     "output_type": "stream",
     "text": [
      "[250]\ttrain-rmse:10.78457+0.06864\ttest-rmse:11.80673+0.23943\n"
     ]
    },
    {
     "name": "stdout",
     "output_type": "stream",
     "text": [
      "[300]\ttrain-rmse:10.59451+0.07159\ttest-rmse:11.79041+0.24817\n"
     ]
    },
    {
     "name": "stdout",
     "output_type": "stream",
     "text": [
      "[350]\ttrain-rmse:10.42164+0.07377\ttest-rmse:11.78649+0.25880\n"
     ]
    },
    {
     "name": "stdout",
     "output_type": "stream",
     "text": [
      "[352]\ttrain-rmse:10.41513+0.07389\ttest-rmse:11.78653+0.25951\n"
     ]
    },
    {
     "name": "stderr",
     "output_type": "stream",
     "text": [
      "\r",
      " 40%|███████████████████████████████████████████████████████████▏                                                                                        | 4/10 [01:01<01:32, 15.42s/it]"
     ]
    },
    {
     "name": "stdout",
     "output_type": "stream",
     "text": [
      "[0]\ttrain-rmse:17.02813+0.08533\ttest-rmse:17.03164+0.33742\n"
     ]
    },
    {
     "name": "stdout",
     "output_type": "stream",
     "text": [
      "[50]\ttrain-rmse:12.39467+0.09922\ttest-rmse:12.66510+0.48278\n"
     ]
    },
    {
     "name": "stdout",
     "output_type": "stream",
     "text": [
      "[100]\ttrain-rmse:11.60811+0.09953\ttest-rmse:12.08713+0.44513\n"
     ]
    },
    {
     "name": "stdout",
     "output_type": "stream",
     "text": [
      "[150]\ttrain-rmse:11.25312+0.09950\ttest-rmse:11.93536+0.42375\n"
     ]
    },
    {
     "name": "stdout",
     "output_type": "stream",
     "text": [
      "[200]\ttrain-rmse:10.99767+0.09785\ttest-rmse:11.87434+0.41538\n"
     ]
    },
    {
     "name": "stdout",
     "output_type": "stream",
     "text": [
      "[250]\ttrain-rmse:10.78510+0.09482\ttest-rmse:11.85086+0.40810\n"
     ]
    },
    {
     "name": "stdout",
     "output_type": "stream",
     "text": [
      "[300]\ttrain-rmse:10.59578+0.09546\ttest-rmse:11.83599+0.39944\n"
     ]
    },
    {
     "name": "stdout",
     "output_type": "stream",
     "text": [
      "[350]\ttrain-rmse:10.41943+0.09455\ttest-rmse:11.83215+0.39287\n"
     ]
    },
    {
     "name": "stdout",
     "output_type": "stream",
     "text": [
      "[397]\ttrain-rmse:10.26710+0.09485\ttest-rmse:11.83103+0.39045\n"
     ]
    },
    {
     "name": "stderr",
     "output_type": "stream",
     "text": [
      "\r",
      " 50%|██████████████████████████████████████████████████████████████████████████                                                                          | 5/10 [01:18<01:20, 16.19s/it]"
     ]
    },
    {
     "name": "stdout",
     "output_type": "stream",
     "text": [
      "[0]\ttrain-rmse:17.02991+0.07239\ttest-rmse:17.03347+0.29610\n"
     ]
    },
    {
     "name": "stdout",
     "output_type": "stream",
     "text": [
      "[50]\ttrain-rmse:12.39924+0.07051\ttest-rmse:12.64595+0.25349\n"
     ]
    },
    {
     "name": "stdout",
     "output_type": "stream",
     "text": [
      "[100]\ttrain-rmse:11.61393+0.06950\ttest-rmse:12.06631+0.25909\n"
     ]
    },
    {
     "name": "stdout",
     "output_type": "stream",
     "text": [
      "[150]\ttrain-rmse:11.25691+0.06689\ttest-rmse:11.91108+0.25320\n"
     ]
    },
    {
     "name": "stdout",
     "output_type": "stream",
     "text": [
      "[200]\ttrain-rmse:10.99829+0.06542\ttest-rmse:11.84923+0.24953\n"
     ]
    },
    {
     "name": "stdout",
     "output_type": "stream",
     "text": [
      "[250]\ttrain-rmse:10.78025+0.06855\ttest-rmse:11.81935+0.24951\n"
     ]
    },
    {
     "name": "stdout",
     "output_type": "stream",
     "text": [
      "[300]\ttrain-rmse:10.59072+0.07247\ttest-rmse:11.80431+0.24930\n"
     ]
    },
    {
     "name": "stdout",
     "output_type": "stream",
     "text": [
      "[341]\ttrain-rmse:10.44816+0.07205\ttest-rmse:11.80411+0.24482\n"
     ]
    },
    {
     "name": "stderr",
     "output_type": "stream",
     "text": [
      "\r",
      " 60%|████████████████████████████████████████████████████████████████████████████████████████▊                                                           | 6/10 [01:34<01:03, 15.88s/it]"
     ]
    },
    {
     "name": "stdout",
     "output_type": "stream",
     "text": [
      "[0]\ttrain-rmse:17.03073+0.09738\ttest-rmse:17.03104+0.39974\n"
     ]
    },
    {
     "name": "stdout",
     "output_type": "stream",
     "text": [
      "[50]\ttrain-rmse:12.39550+0.01058\ttest-rmse:12.66864+0.12008\n"
     ]
    },
    {
     "name": "stdout",
     "output_type": "stream",
     "text": [
      "[100]\ttrain-rmse:11.60762+0.02763\ttest-rmse:12.08767+0.11029\n"
     ]
    },
    {
     "name": "stdout",
     "output_type": "stream",
     "text": [
      "[150]\ttrain-rmse:11.25302+0.03238\ttest-rmse:11.93337+0.13342\n"
     ]
    },
    {
     "name": "stdout",
     "output_type": "stream",
     "text": [
      "[200]\ttrain-rmse:10.99464+0.03582\ttest-rmse:11.87084+0.14666\n"
     ]
    },
    {
     "name": "stdout",
     "output_type": "stream",
     "text": [
      "[250]\ttrain-rmse:10.77931+0.03764\ttest-rmse:11.83586+0.15253\n"
     ]
    },
    {
     "name": "stdout",
     "output_type": "stream",
     "text": [
      "[300]\ttrain-rmse:10.58877+0.04097\ttest-rmse:11.82135+0.15696\n"
     ]
    },
    {
     "name": "stdout",
     "output_type": "stream",
     "text": [
      "[350]\ttrain-rmse:10.41533+0.03968\ttest-rmse:11.81915+0.15840\n"
     ]
    },
    {
     "name": "stdout",
     "output_type": "stream",
     "text": [
      "[400]\ttrain-rmse:10.25115+0.04204\ttest-rmse:11.82012+0.15695\n"
     ]
    },
    {
     "name": "stdout",
     "output_type": "stream",
     "text": [
      "[401]\ttrain-rmse:10.24814+0.04191\ttest-rmse:11.81997+0.15681\n"
     ]
    },
    {
     "name": "stderr",
     "output_type": "stream",
     "text": [
      "\r",
      " 70%|███████████████████████████████████████████████████████████████████████████████████████████████████████▌                                            | 7/10 [01:52<00:50, 16.75s/it]"
     ]
    },
    {
     "name": "stdout",
     "output_type": "stream",
     "text": [
      "[0]\ttrain-rmse:17.02875+0.20502\ttest-rmse:17.01707+0.81185\n"
     ]
    },
    {
     "name": "stdout",
     "output_type": "stream",
     "text": [
      "[50]\ttrain-rmse:12.39271+0.11229\ttest-rmse:12.66355+0.60974\n"
     ]
    },
    {
     "name": "stdout",
     "output_type": "stream",
     "text": [
      "[100]\ttrain-rmse:11.60070+0.09847\ttest-rmse:12.10982+0.50546\n"
     ]
    },
    {
     "name": "stdout",
     "output_type": "stream",
     "text": [
      "[150]\ttrain-rmse:11.24055+0.09992\ttest-rmse:11.97148+0.46453\n"
     ]
    },
    {
     "name": "stdout",
     "output_type": "stream",
     "text": [
      "[200]\ttrain-rmse:10.98098+0.10005\ttest-rmse:11.91557+0.45176\n"
     ]
    },
    {
     "name": "stdout",
     "output_type": "stream",
     "text": [
      "[250]\ttrain-rmse:10.76642+0.09918\ttest-rmse:11.88942+0.44285\n"
     ]
    },
    {
     "name": "stdout",
     "output_type": "stream",
     "text": [
      "[300]\ttrain-rmse:10.57558+0.10036\ttest-rmse:11.88803+0.43535\n"
     ]
    },
    {
     "name": "stdout",
     "output_type": "stream",
     "text": [
      "[316]\ttrain-rmse:10.51825+0.09946\ttest-rmse:11.88856+0.43553\n"
     ]
    },
    {
     "name": "stderr",
     "output_type": "stream",
     "text": [
      "\r",
      " 80%|██████████████████████████████████████████████████████████████████████████████████████████████████████████████████████▍                             | 8/10 [02:06<00:31, 15.79s/it]"
     ]
    },
    {
     "name": "stdout",
     "output_type": "stream",
     "text": [
      "[0]\ttrain-rmse:17.02946+0.19915\ttest-rmse:17.01668+0.83785\n"
     ]
    },
    {
     "name": "stdout",
     "output_type": "stream",
     "text": [
      "[50]\ttrain-rmse:12.39164+0.10179\ttest-rmse:12.67581+0.60825\n"
     ]
    },
    {
     "name": "stdout",
     "output_type": "stream",
     "text": [
      "[100]\ttrain-rmse:11.60279+0.08527\ttest-rmse:12.12158+0.45042\n"
     ]
    },
    {
     "name": "stdout",
     "output_type": "stream",
     "text": [
      "[150]\ttrain-rmse:11.24399+0.07994\ttest-rmse:11.97484+0.38600\n"
     ]
    },
    {
     "name": "stdout",
     "output_type": "stream",
     "text": [
      "[200]\ttrain-rmse:10.98909+0.08015\ttest-rmse:11.91656+0.35706\n"
     ]
    },
    {
     "name": "stdout",
     "output_type": "stream",
     "text": [
      "[250]\ttrain-rmse:10.77366+0.07910\ttest-rmse:11.88819+0.34023\n"
     ]
    },
    {
     "name": "stdout",
     "output_type": "stream",
     "text": [
      "[300]\ttrain-rmse:10.58566+0.08152\ttest-rmse:11.87657+0.32950\n"
     ]
    },
    {
     "name": "stdout",
     "output_type": "stream",
     "text": [
      "[350]\ttrain-rmse:10.41406+0.08293\ttest-rmse:11.86936+0.32407\n"
     ]
    },
    {
     "name": "stdout",
     "output_type": "stream",
     "text": [
      "[397]\ttrain-rmse:10.26352+0.08246\ttest-rmse:11.86762+0.32341\n"
     ]
    },
    {
     "name": "stderr",
     "output_type": "stream",
     "text": [
      "\r",
      " 90%|█████████████████████████████████████████████████████████████████████████████████████████████████████████████████████████████████████▏              | 9/10 [02:23<00:16, 16.24s/it]"
     ]
    },
    {
     "name": "stdout",
     "output_type": "stream",
     "text": [
      "[0]\ttrain-rmse:17.03075+0.13521\ttest-rmse:17.02840+0.55151\n"
     ]
    },
    {
     "name": "stdout",
     "output_type": "stream",
     "text": [
      "[50]\ttrain-rmse:12.39834+0.08425\ttest-rmse:12.65154+0.44499\n"
     ]
    },
    {
     "name": "stdout",
     "output_type": "stream",
     "text": [
      "[100]\ttrain-rmse:11.60889+0.08042\ttest-rmse:12.07883+0.38080\n"
     ]
    },
    {
     "name": "stdout",
     "output_type": "stream",
     "text": [
      "[150]\ttrain-rmse:11.25715+0.07749\ttest-rmse:11.92538+0.36520\n"
     ]
    },
    {
     "name": "stdout",
     "output_type": "stream",
     "text": [
      "[200]\ttrain-rmse:11.00071+0.07853\ttest-rmse:11.85872+0.35540\n"
     ]
    },
    {
     "name": "stdout",
     "output_type": "stream",
     "text": [
      "[250]\ttrain-rmse:10.78720+0.07837\ttest-rmse:11.82727+0.34933\n"
     ]
    },
    {
     "name": "stdout",
     "output_type": "stream",
     "text": [
      "[300]\ttrain-rmse:10.59896+0.07843\ttest-rmse:11.81115+0.34760\n"
     ]
    },
    {
     "name": "stdout",
     "output_type": "stream",
     "text": [
      "[350]\ttrain-rmse:10.42572+0.07885\ttest-rmse:11.80202+0.34365\n"
     ]
    },
    {
     "name": "stdout",
     "output_type": "stream",
     "text": [
      "[400]\ttrain-rmse:10.26576+0.07885\ttest-rmse:11.80057+0.34025\n"
     ]
    },
    {
     "name": "stdout",
     "output_type": "stream",
     "text": [
      "[409]\ttrain-rmse:10.23776+0.07862\ttest-rmse:11.79949+0.33907\n"
     ]
    },
    {
     "name": "stderr",
     "output_type": "stream",
     "text": [
      "\r",
      "100%|███████████████████████████████████████████████████████████████████████████████████████████████████████████████████████████████████████████████████| 10/10 [02:42<00:00, 16.97s/it]"
     ]
    },
    {
     "name": "stderr",
     "output_type": "stream",
     "text": [
      "\r",
      "100%|███████████████████████████████████████████████████████████████████████████████████████████████████████████████████████████████████████████████████| 10/10 [02:42<00:00, 16.22s/it]"
     ]
    },
    {
     "name": "stderr",
     "output_type": "stream",
     "text": [
      "\n"
     ]
    }
   ],
   "source": [
    "if param.get(\"eval_metric\", \"mae\") == \"rmse\":\n",
    "    score_key = \"test-rmse-mean\"\n",
    "    ylabel = \"Test RMSE Mean\"\n",
    "    title = \"Learning Curve: Test RMSE vs Boosting Rounds\"\n",
    "elif param.get(\"eval_metric\", \"mae\") == \"mae\":\n",
    "    score_key = \"test-mae-mean\"\n",
    "    ylabel = \"Test MAE Mean\"\n",
    "    title = \"Learning Curve: Test MAE vs Boosting Rounds\"\n",
    "elif param.get(\"eval_metric\", \"mae\") == \"logloss\":\n",
    "    score_key = \"test-logloss-mean\"\n",
    "    ylabel = \"Test Logloss Mean\"\n",
    "    title = \"Learning Curve: Test Logloss vs Boosting Rounds\"\n",
    "\n",
    "\n",
    "for i in tqdm(range(repeat_cv), leave=True, dynamic_ncols=True): \n",
    "    cv_result = xgb.cv(\n",
    "        params=param,\n",
    "        dtrain=dtrain,\n",
    "        obj=cauchyobj,\n",
    "        num_boost_round=num_boost_round,\n",
    "        folds=KFold(n_splits=folds_splits, shuffle=True, random_state=i),\n",
    "        early_stopping_rounds=early_stopping_rounds,\n",
    "        verbose_eval=50\n",
    "    )\n",
    "    \"\"\"\n",
    "    train-mae-mean: 各fold における訓練データの MAE の平均値。\n",
    "    train-mae-std: 訓練データの MAE の標準偏差。\n",
    "    test-mae-mean: 各fold における検証データの MAE の平均値。\n",
    "    test-mae-std: 検証データの MAE の標準偏差。\n",
    "    \"\"\"\n",
    "    xgb_cv.append(cv_result)\n",
    "    \n",
    "\n",
    "\n",
    "\n",
    "# 各 repeater ごとの最適ブーストラウンド数と検証MAE\n",
    "iteration_counts = [np.argmin(cv[score_key].values) for cv in xgb_cv]\n",
    "val_mae = [np.min(cv[score_key].values) for cv in xgb_cv]\n",
    "\n",
    "mean_iteration = np.mean(iteration_counts)\n",
    "mean_val_mae = np.mean(val_mae)\n",
    "min_val_mae = np.min(val_mae)\n",
    "results.append(f\"mean_iteration: {mean_iteration}\")\n",
    "results.append(f\"mean_val_{param['eval_metric']}: {mean_val_mae}\")\n",
    "results.append(f\"min_val_{param['eval_metric']}: {min_val_mae}\")\n",
    "results.append(\"\")\n",
    "\n",
    "###\n",
    "plt.figure(figsize=(10, 6))\n",
    "for i, cv_result in enumerate(xgb_cv):\n",
    "    rounds = np.arange(len(cv_result[score_key]))\n",
    "    plt.plot(rounds, cv_result[score_key], label=f\"CV repeater {i+1}\")\n",
    "    \n",
    "plt.xlabel(\"Boosting Round\")\n",
    "plt.ylabel(ylabel)\n",
    "plt.title(title)\n",
    "plt.legend()\n",
    "plt.grid(True)\n",
    "\n",
    "plt.savefig(os.path.join(OUTPUT_PATH, f\"learning_curve_{PREDICT_YEAR}.png\"))\n",
    "plt.close()\n",
    "###\n"
   ]
  },
  {
   "cell_type": "code",
   "execution_count": 22,
   "id": "62f895c0",
   "metadata": {
    "execution": {
     "iopub.execute_input": "2025-03-13T20:14:50.400900Z",
     "iopub.status.busy": "2025-03-13T20:14:50.400900Z",
     "iopub.status.idle": "2025-03-13T20:14:50.406280Z",
     "shell.execute_reply": "2025-03-13T20:14:50.405912Z"
    },
    "papermill": {
     "duration": 0.023166,
     "end_time": "2025-03-13T20:14:50.408300",
     "exception": false,
     "start_time": "2025-03-13T20:14:50.385134",
     "status": "completed"
    },
    "tags": []
   },
   "outputs": [
    {
     "name": "stdout",
     "output_type": "stream",
     "text": [
      "最適ブーストラウンド数: [299, 388, 339, 327, 373, 316, 377, 291, 373, 385]\n",
      "test-rmse-mean: [11.869707432921468, 11.834883040981822, 11.811653294916896, 11.783768176480834, 11.829588941381838, 11.80280330174403, 11.81776619212113, 11.886000997997874, 11.865825714694228, 11.79797641638847]\n"
     ]
    }
   ],
   "source": [
    "print(\"最適ブーストラウンド数:\", iteration_counts)\n",
    "print(f\"{score_key}:\", val_mae)\n",
    "results.append(f\"最適ブーストラウンド: {iteration_counts}\")\n",
    "results.append(f\"{score_key}: {val_mae}\")\n",
    "results.append(\"\")"
   ]
  },
  {
   "cell_type": "code",
   "execution_count": 23,
   "id": "cb639ffe",
   "metadata": {
    "execution": {
     "iopub.execute_input": "2025-03-13T20:14:50.433280Z",
     "iopub.status.busy": "2025-03-13T20:14:50.433280Z",
     "iopub.status.idle": "2025-03-13T20:17:08.738549Z",
     "shell.execute_reply": "2025-03-13T20:17:08.738549Z"
    },
    "papermill": {
     "duration": 138.352251,
     "end_time": "2025-03-13T20:17:08.763162",
     "exception": false,
     "start_time": "2025-03-13T20:14:50.410911",
     "status": "completed"
    },
    "tags": []
   },
   "outputs": [
    {
     "name": "stderr",
     "output_type": "stream",
     "text": [
      "\r",
      "  0%|                                                                                                                                                            | 0/10 [00:00<?, ?it/s]"
     ]
    },
    {
     "name": "stderr",
     "output_type": "stream",
     "text": [
      "C:\\Users\\81809\\AppData\\Local\\Temp\\ipykernel_824\\3386215446.py:18: FutureWarning: Setting an item of incompatible dtype is deprecated and will raise an error in a future version of pandas. Value '[ 2.18654690e+01  1.66840112e+00  1.65019817e+01  6.76507473e+00\n",
      " -6.50578213e+00 -1.35444331e+00  7.47196627e+00  7.26944160e+00\n",
      "  2.37592888e+01  2.85636401e+00  1.02361832e+01  6.44522953e+00\n",
      "  6.72848892e+00  8.25313377e+00 -4.45495415e+00  2.15925426e+01\n",
      " -2.17779493e+00  7.40531111e+00  8.58759212e+00  3.13729906e+00\n",
      "  3.43200517e+00  2.75932837e+00 -4.62742060e-01 -7.38216877e-01\n",
      "  3.70257068e+00  6.50199890e+00  2.00654578e+00  1.65866547e+01\n",
      "  4.14880514e+00 -7.04072571e+00 -1.30487752e+00  5.29497433e+00\n",
      " -4.09431644e-02  2.10993271e+01  8.86900425e+00 -6.59185123e+00\n",
      " -3.28240466e+00  7.33313847e+00  5.71785069e+00  4.80150223e+00\n",
      "  1.37900376e+00  8.52321243e+00 -4.77514553e+00  1.46442318e+01\n",
      "  2.91244364e+00  4.99524593e+00 -1.05126104e+01  3.38904500e+00\n",
      "  1.55783520e+01 -5.09668529e-01  2.22049160e+01 -4.29486811e-01\n",
      "  5.63637638e+00  4.71546030e+00 -4.69527340e+00  7.32640600e+00\n",
      "  1.47378588e+00  5.29919004e+00  2.08801341e+00  8.92695904e+00\n",
      " -5.26527500e+00 -1.34336627e+00  7.56806612e-01  2.31834106e+01\n",
      " -7.06984341e-01  8.04604244e+00  3.71748996e+00 -4.58478260e+00\n",
      "  1.14591036e+01 -2.95730209e+00  4.56049776e+00  2.43646984e+01\n",
      " -5.67826939e+00 -2.15076423e+00  2.20773625e+00  6.30872726e+00\n",
      " -2.42233896e+00  6.51659298e+00  1.64123306e+01  2.00947952e+01\n",
      "  2.97320509e+00 -5.41154194e+00  4.11977023e-01 -8.48917842e-01\n",
      "  4.77277637e-01  2.21550918e+00  8.79688263e-01 -1.03246870e+01\n",
      " -4.30854893e+00 -2.22900653e+00  8.72032928e+00  5.71796370e+00\n",
      "  3.68677711e+00  4.47473526e-01 -2.79350877e+00  1.84981709e+01\n",
      "  2.74840426e+00  4.90472031e+00  2.19929295e+01 -2.31880379e+00\n",
      " -3.36040735e+00  1.39586954e+01  1.83690205e+01  1.07535458e+01\n",
      "  5.74855852e+00 -5.12009859e+00 -1.88017115e-01  1.29465380e+01\n",
      "  5.52143049e+00 -4.54804230e+00  7.51028121e-01 -4.38041162e+00\n",
      "  6.29416418e+00 -5.58482790e+00 -1.62442741e+01  4.73963547e+00\n",
      " -1.03451304e-01  1.37852564e-01  3.49320555e+00  3.18285584e+00\n",
      "  1.87141728e+00  1.69238150e-01  1.11739712e+01  1.02908926e+01\n",
      "  6.20101309e+00  6.22893810e+00  1.21258020e+01 -2.70165062e+00\n",
      " -2.69832373e+00  2.45753431e+00  1.96253548e+01 -2.56202245e+00\n",
      "  1.10835085e+01 -1.35489073e+01 -6.59501219e+00  1.47504683e+01\n",
      "  3.64603090e+00  7.62075377e+00  8.76619434e+00 -1.95026767e+00\n",
      "  8.79207850e-01 -2.38573813e+00  7.73421621e+00  5.36339951e+00\n",
      "  2.77234364e+00  8.70377570e-03  1.10204315e+01  6.01773858e-01\n",
      "  7.33141947e+00 -1.69628847e+00  3.49001884e+00  1.20104945e+00\n",
      "  2.06407032e+01  1.72366753e+01  8.53846550e+00  3.66261792e+00\n",
      "  4.26734638e+00  2.62867951e+00 -1.05019319e+00 -6.36311620e-02\n",
      "  8.78995299e-01 -1.96795449e-01  8.98715115e+00  1.43230343e+01\n",
      " -2.09633756e+00  3.25467086e+00  1.45526797e-01  4.07157850e+00\n",
      "  2.11098909e+00  4.86991739e+00  7.95951700e+00  6.76493824e-01\n",
      " -2.18406892e+00 -5.88022135e-02  5.88981485e+00  1.37747943e+00\n",
      "  1.74490280e+01  4.52657080e+00  6.44456244e+00  3.37085080e+00\n",
      " -2.00301838e+00  3.08764887e+00  9.75720501e+00 -8.18058681e+00\n",
      "  3.09571075e+00  1.99129601e+01  1.13943434e+01  2.17338949e-01\n",
      "  2.76422548e+00  6.97830009e+00  2.88859081e+00  1.54335546e+01\n",
      " -9.71031845e-01  4.36144781e+00  6.91952085e+00  4.09879637e+00\n",
      "  3.89663029e+00  8.30460453e+00  1.51918764e+01  1.12055674e+01\n",
      "  2.62702847e+00 -2.40765743e+01  6.18987608e+00  3.35307026e+00\n",
      "  7.26513529e+00  4.40390873e+00  4.48427391e+00  4.99465275e+00\n",
      "  5.83634329e+00  3.37983441e+00  2.07168674e+01  1.02021589e+01\n",
      "  2.84284954e+01  4.14812813e+01  2.59039669e+01  2.48164444e+01\n",
      "  2.07842388e+01  2.48331394e+01  8.77655315e+00 -7.60481894e-01\n",
      "  1.29292870e+01  4.06188583e+00 -6.24038315e+00  6.17071486e+00\n",
      "  2.14493885e+01  2.56995564e+01  9.83631611e+00  2.26117382e+01\n",
      "  1.22288361e+01  9.40531254e+00  6.86033440e+00  1.11291943e+01\n",
      " -3.15842795e+00  3.37860756e+01  1.38172073e+01  3.70654511e+00\n",
      "  3.41953049e+01  5.10794926e+00 -2.20007825e+00  2.13492889e+01\n",
      "  1.34536338e+00  1.29398355e+01  1.51018581e+01  5.64665842e+00\n",
      "  3.40187192e+00  9.96518707e+00  1.92186985e+01  3.34763412e+01\n",
      "  1.45802841e+01 -7.82761037e-01 -2.34798813e+00  2.42849803e+00\n",
      " -1.59421835e+01  6.11806726e+00  1.55002966e+01 -3.30073148e-01\n",
      "  2.17110786e+01  4.49355011e+01 -4.36863136e+00  1.15081000e+00\n",
      "  1.42634125e+01  2.00355244e+00 -6.15847445e+00  7.75305414e+00\n",
      "  2.64124699e+01  1.23115072e+01  9.22790909e+00  5.47659111e+00\n",
      " -2.55839348e+00  2.75196052e+00  2.90852261e+01  9.38735676e+00\n",
      "  1.66254749e+01  1.47795467e+01 -9.13080502e+00  1.40760641e+01\n",
      "  1.14713612e+01  3.54006147e+00 -6.71870995e+00  3.99925351e+00\n",
      "  4.27634001e+00  3.32949781e+00  3.77159615e+01  1.26294479e+01\n",
      "  3.45420570e+01  3.52646561e+01  2.12383434e-01  3.00625896e+01\n",
      " -2.75289208e-01 -3.21231812e-01  5.64141893e+00  1.40969601e+01\n",
      "  1.48606482e+01  1.45119896e+01  8.52564049e+00  5.26248837e+00\n",
      "  1.23220949e+01 -3.31481606e-01  1.06658268e+01 -3.77341580e+00\n",
      "  1.93624172e+01  2.59136028e+01  1.18751097e+01 -1.04763603e+00\n",
      " -8.43653023e-01  1.02156413e+00  8.08069801e+00 -2.07318115e+01\n",
      " -1.07463760e+01 -1.07404432e+01  1.38825619e+00  5.20661783e+00\n",
      "  8.99400902e+00  9.01563835e+00  3.28607216e+01  1.63876686e+01\n",
      "  4.06949615e+00  3.72849922e+01 -1.61726534e+00  1.19042253e+01\n",
      "  5.44304228e+00  2.95009279e+00  2.75315046e+00  2.64366364e+00\n",
      "  1.89718175e+00  5.33553028e+00 -4.37448454e+00  7.35148382e+00\n",
      "  4.07773077e-01  7.81859255e+00 -5.62184715e+00  1.92738514e+01\n",
      "  1.17787428e+01 -1.23031359e+01  2.22194328e+01 -7.10401011e+00\n",
      "  1.95112896e+00  7.69436836e+00 -2.92840385e+00 -1.27242250e+01\n",
      " -2.54908824e+00 -2.22665634e+01 -1.72050323e+01 -8.60093021e+00\n",
      " -4.20901585e+00  4.93556023e+00 -5.11552000e+00  1.26600742e+00\n",
      " -3.60304761e+00 -3.47963953e+00 -3.62901902e+00  6.34389591e+00\n",
      " -7.58523083e+00 -2.37945795e+00 -1.93133717e+01  1.92493665e+00\n",
      "  3.26770020e+00 -5.99034595e+00 -4.06546974e+00  3.36349010e+00\n",
      "  5.64373827e+00 -4.63977814e+00 -6.49526739e+00 -3.62245584e+00\n",
      " -1.32363105e+00 -1.01170647e+00 -2.15418587e+01 -5.74631214e-01\n",
      "  3.04095674e+00 -5.58235598e+00 -6.47148991e+00 -6.74514818e+00\n",
      " -8.59659863e+00 -7.87872076e+00 -2.75516510e+00 -5.73312521e+00\n",
      "  1.70220304e+00 -4.98835897e+00 -1.28255934e-01  1.56585550e+00\n",
      " -1.03294268e+01 -8.26559639e+00 -5.00094318e+00 -2.62030435e+00\n",
      " -9.47948074e+00 -4.54506445e+00 -1.59574499e+01 -2.55990181e+01\n",
      " -3.18397450e+00 -1.95703087e+01 -2.77906156e+00 -7.27422476e+00\n",
      " -2.64591861e+00 -2.08373523e+00 -7.22813177e+00 -5.65446727e-02\n",
      " -6.12706566e+00 -2.51250057e+01  4.07026005e+00 -2.17478142e+01\n",
      " -6.21064901e+00 -1.07453289e+01  3.56653929e+00  2.96861649e+00\n",
      " -8.57993221e+00  1.67989361e+00 -3.40497184e+00 -6.66001844e+00\n",
      " -3.67881894e+00 -5.33555746e+00 -9.58362579e+00 -1.88908410e+00\n",
      "  4.14221525e+00  9.10187781e-01 -1.24068918e+01 -4.40759802e+00\n",
      "  1.64140570e+00  2.13701487e+00  1.70006490e+00 -6.77918291e+00\n",
      " -4.59080219e+00  4.96065998e+00 -1.19438543e+01  3.17644620e+00\n",
      " -9.92952538e+00 -4.27568007e+00 -9.62669563e+00 -5.09081173e+00\n",
      " -1.62967074e+00 -1.12437124e+01 -3.03588343e+00 -2.15936260e+01\n",
      " -1.52292910e+01 -3.17081642e+00 -4.91247028e-01 -3.04058266e+00\n",
      " -2.26242709e+00 -1.91499221e+00 -7.61064664e-02  2.98438454e+00\n",
      " -2.53466153e+00 -3.01741085e+01 -4.89405155e+00 -1.04197121e+01\n",
      " -8.53487396e+00  1.74829948e+00  1.58029866e+00 -6.51920509e+00\n",
      " -5.34258962e-01  8.87462437e-01  2.28994012e-01 -9.05092812e+00\n",
      "  1.20892656e+00  6.51966572e+00  7.17934221e-02 -7.55200672e+00\n",
      " -4.70555961e-01 -1.51480074e+01 -1.21449022e+01 -2.70626736e+00\n",
      " -8.70047033e-01 -1.18393028e+00 -1.94124103e+00 -6.19314241e+00\n",
      " -1.79019680e+01 -9.48943424e+00 -2.65868068e+00  3.83004856e+00\n",
      " -8.41694164e+00 -2.44380531e+01 -1.49905527e+00 -3.66648531e+00\n",
      " -4.36466026e+00  2.80971980e+00  8.77778053e+00 -3.52631927e-01\n",
      "  1.58091438e+00  2.41196108e+00  2.63231945e+00 -1.34188061e+01\n",
      " -7.98608494e+00 -1.95338135e+01 -4.51435423e+00 -4.41144514e+00\n",
      "  1.36441040e+00 -1.10892649e+01  1.83976400e+00 -7.10401237e-01\n",
      " -2.55002346e+01 -2.60441113e+01 -1.58364716e+01 -3.84612298e+00\n",
      " -3.33588910e+00 -4.43454504e+00 -5.36911488e-01 -8.74976635e+00\n",
      " -7.68258619e+00 -1.46942365e+00 -2.65917492e+00  2.81903911e+00\n",
      " -1.73879814e+01 -2.60345244e+00  3.65343261e+00 -6.19750690e+00\n",
      "  8.26446533e+00 -6.67924690e+00  4.27297258e+00 -6.84945774e+00\n",
      " -1.75452175e+01 -1.54200783e+01 -1.64381838e+00  6.37401152e+00\n",
      " -9.52642441e+00 -2.26188135e+00 -7.16844201e-01  2.15986347e+00\n",
      " -1.59984322e+01 -9.67986956e-02 -1.78640156e+01 -2.53995943e+00\n",
      " -6.06649780e+00 -5.07296038e+00 -2.65131354e+00 -8.78377199e-01\n",
      " -1.49815254e+01  8.08124542e-01  4.98442078e+00  3.20880151e+00\n",
      " -1.15320663e+01  1.86642790e+00 -3.01317620e+00 -5.59799147e+00\n",
      " -4.47740269e+00 -4.85851860e+00 -2.52645040e+00  4.39302301e+00\n",
      " -1.98290520e+01 -3.51127129e+01 -2.61384463e+00 -4.47932720e+00\n",
      " -5.95019388e+00  2.36379147e+00 -1.07871008e+01 -2.90297546e+01\n",
      " -6.39915371e+00  4.64530945e+00  2.03237844e+00 -3.34845161e+01\n",
      " -3.70190964e+01  2.39224696e+00 -5.60561848e+00 -2.57756729e+01\n",
      "  7.86260462e+00 -2.23382187e+01 -3.24114847e+00 -1.63555169e+00\n",
      " -9.93768215e+00 -2.83806133e+01 -1.56530690e+00 -1.64076290e+01\n",
      " -1.86040668e+01 -6.21173286e+00 -1.14877594e+00  4.97438717e+00\n",
      " -3.88640594e+01 -2.95536458e-01 -4.32010365e+00 -1.36133356e+01\n",
      "  7.86956024e+00  2.38807273e+00  7.18121290e+00 -9.49487495e+00\n",
      " -3.78631234e+00 -1.77526684e+01 -8.97745419e+00 -7.29824829e+00\n",
      " -3.32809281e+00  3.01870203e+00  5.68721390e+00 -3.09003811e+01\n",
      " -1.15675077e+01 -2.95332289e+00  1.16022711e+01 -3.10144482e+01\n",
      " -3.23694468e+00 -9.62504196e+00 -4.37157214e-01  6.02815485e+00\n",
      " -4.24456215e+00 -3.77913404e+00  5.79352760e+00  2.45522666e+00\n",
      " -1.26912117e+01 -1.06148968e+01 -3.40545502e+01 -5.78463316e+00\n",
      " -2.32815189e+01 -2.91585178e+01 -6.88674593e+00 -1.53443251e+01\n",
      " -1.26207008e+01 -3.91203094e+00 -3.84949417e+01 -2.93309879e+01\n",
      " -1.39890032e+01 -4.91405439e+00 -4.63642740e+00 -3.22005196e+01\n",
      " -8.54580593e+00  8.99183273e+00 -1.12968950e+01 -2.47569132e+00\n",
      " -7.46892738e+00 -1.30452404e+01 -7.34965277e+00 -2.57757053e+01\n",
      " -2.94378777e+01  2.86741686e+00 -5.75218582e+00 -7.39053440e+00\n",
      " -2.54500904e+01 -3.16276622e+00 -2.74518700e+01  9.39894581e+00\n",
      " -1.73088491e+00  8.18391037e+00  1.92892790e+00 -2.61411457e+01\n",
      " -3.64278674e+00 -3.21704597e+01 -1.62892456e+01 -9.22184086e+00\n",
      "  7.09101856e-01  3.98718691e+00 -2.47441368e+01  4.95181894e+00\n",
      " -1.32757063e+01 -1.70221925e+00 -3.27672958e+01 -1.25124321e+01\n",
      "  1.65237122e+01  4.24356699e+00 -1.39792452e+01 -1.44862528e+01\n",
      " -5.51629734e+00  8.07530403e+00]' has dtype incompatible with int64, please explicitly cast to a compatible dtype first.\n",
      "  preds[val_index] = model.predict(dval_i)\n"
     ]
    },
    {
     "name": "stderr",
     "output_type": "stream",
     "text": [
      "\r",
      " 10%|██████████████▊                                                                                                                                     | 1/10 [00:12<01:48, 12.08s/it]"
     ]
    },
    {
     "name": "stderr",
     "output_type": "stream",
     "text": [
      "C:\\Users\\81809\\AppData\\Local\\Temp\\ipykernel_824\\3386215446.py:18: FutureWarning: Setting an item of incompatible dtype is deprecated and will raise an error in a future version of pandas. Value '[-8.19844437e+00  2.77460337e+00  1.59530258e+01 -9.17089917e-03\n",
      "  6.99748087e+00  6.76773691e+00  2.39318619e+01 -1.33302569e+00\n",
      "  1.41134777e+01  7.15209436e+00 -1.61203229e+00 -5.80644321e+00\n",
      "  6.14336586e+00  8.52179050e+00 -2.99900961e+00  2.28471565e+01\n",
      " -4.30963993e-01  2.32828307e+00  1.19522820e+01  8.99693775e+00\n",
      "  7.23428202e+00  5.41347980e+00  6.51814175e+00  3.08816504e+00\n",
      " -7.00732231e+00  2.53161192e+00  8.05419445e+00 -2.63958120e+00\n",
      "  2.36611443e+01  1.72982616e+01  1.21325073e+01  4.31827736e+00\n",
      "  7.71576881e+00 -2.99875093e+00  5.89204597e+00  6.10693312e+00\n",
      " -2.55271602e+00 -8.50175440e-01  8.93274593e+00  2.19726887e+01\n",
      "  1.26915627e+01  1.23653564e+01  1.92656479e+01  8.04145432e+00\n",
      "  1.71880836e+01  8.43889141e+00  7.57574511e+00  5.41019869e+00\n",
      " -1.46736801e+00  7.15378952e+00  1.29558647e+00 -2.13875437e+00\n",
      "  1.75740981e+00  7.09777880e+00  8.12816525e+00  2.62913933e+01\n",
      "  7.56370306e+00  5.21845996e-01  8.94486427e+00  9.30323792e+00\n",
      "  6.69697046e+00  5.42030382e+00 -1.73610139e+00 -2.73199487e+00\n",
      " -8.67871463e-01  2.20485926e+00 -1.07770503e+00  2.27259398e+00\n",
      "  2.01022758e+01  1.31678171e+01  1.67645168e+00  2.89960155e+01\n",
      "  1.41342564e+01  4.28157234e+00  1.95004101e+01 -7.79212332e+00\n",
      "  5.56729364e+00  6.06676722e+00  3.97104239e+00  3.91782260e+00\n",
      " -3.38112354e-01  1.34266675e-01  1.99169846e+01  6.57978535e+00\n",
      " -2.54867625e+00 -1.12610264e+01  4.89382839e+00  8.69737244e+00\n",
      "  2.44524598e+00  1.43921220e+00  4.99191380e+00 -4.87687397e+00\n",
      " -3.73149562e+00  1.82144089e+01 -2.77260447e+00 -2.33484292e+00\n",
      " -1.41727185e+00  1.34701662e+01  1.11460533e+01  1.44277124e+01\n",
      "  5.99949312e+00 -5.51930523e+00  1.37524071e+01  7.94161463e+00\n",
      "  1.17767591e+01  3.07104993e+00  9.55683899e+00 -5.14351010e-01\n",
      "  1.89006157e+01 -2.30500984e+00  2.11721230e+01 -2.85676146e+00\n",
      "  1.55677795e+00  1.57604628e+01  1.87931404e+01 -1.59043634e+00\n",
      "  3.69342804e+00 -2.57406592e+00 -9.57317924e+00 -5.73642349e+00\n",
      "  2.25471401e+00  6.41805053e-01  9.98165190e-01 -8.43833804e-01\n",
      " -3.08149338e+00  1.11351490e-01 -5.78989697e+00  6.54748011e+00\n",
      "  2.07069921e+00  3.08948002e+01  7.31195116e+00  2.63677502e+01\n",
      "  5.61718988e+00 -1.56375563e+00  9.53736210e+00 -8.63506317e+00\n",
      " -6.30340910e+00  1.29844534e+00 -7.24231863e+00 -6.37589276e-01\n",
      "  7.50369596e+00 -1.96674800e+00  2.32712536e+01  1.64545689e+01\n",
      "  3.77995110e+00  1.40448198e-01 -1.28555310e+00  1.16926312e+00\n",
      "  8.64559948e-01  1.49075770e+00 -3.43402648e+00 -7.47891486e-01\n",
      "  2.08465195e+00 -5.54792595e+00  1.94378242e-01  3.97748256e+00\n",
      "  2.19042377e+01  4.29158002e-01  3.75766540e+00  7.89355040e+00\n",
      " -7.22991371e+00  3.62685490e+00 -5.14966905e-01 -4.17071629e+00\n",
      " -4.39699507e+00  1.00959575e+00  3.08566742e+01  3.07827735e+00\n",
      "  6.30045033e+00 -2.20919108e+00 -7.32471347e-01  1.27721529e+01\n",
      "  2.08597965e+01  1.08687572e+01  4.26214695e+00 -1.45948136e+00\n",
      "  1.18184929e+01 -6.36230421e+00 -1.81679173e+01 -5.11783075e+00\n",
      "  5.48990440e+00  6.82241392e+00 -2.10369468e+00  8.56695843e+00\n",
      "  1.98018017e+01  9.26675701e+00  8.66738081e-01  2.30402393e+01\n",
      " -5.71782112e-01  9.88668346e+00  2.51759949e+01 -2.83808589e+00\n",
      " -2.30275273e+00  4.83187485e+00  1.10024869e+00  4.20055151e+00\n",
      " -4.47639656e+00  2.44274354e+00 -7.40466785e+00  1.71121168e+00\n",
      "  3.45853257e+00 -3.34816599e+00  2.18308125e+01 -1.85404927e-01\n",
      "  1.59086342e+01  1.66832657e+01  1.75154705e+01 -2.75706673e+00\n",
      "  2.07167969e+01  2.32358956e+00 -1.03611574e+01 -1.06416454e+01\n",
      "  1.03717976e+01  9.87645745e-01 -6.11971915e-01 -4.42847061e+00\n",
      "  5.11243725e+00  5.30876112e+00  4.27978897e+00  2.28753834e+01\n",
      " -1.33123851e+00  2.24462509e+00  7.24595165e+00  2.11598530e+01\n",
      " -2.54486918e+00  1.46089017e+00  1.96732597e+01  2.80962811e+01\n",
      " -7.79382896e+00 -8.08973312e-01  7.49617100e+00  2.71675282e+01\n",
      "  3.70431976e+01 -1.33045828e+00  6.49030924e+00  2.03853798e+01\n",
      "  7.88115597e+00  2.19055290e+01 -6.92393208e+00 -5.28788996e+00\n",
      "  5.59528351e+00  9.44525146e+00  7.35577631e+00 -7.22959137e+00\n",
      "  2.41670246e+01  4.24710542e-01 -6.84318686e+00  1.18550110e+01\n",
      "  2.24470544e+00  1.54359686e+00  1.45077810e+01 -1.26063900e+01\n",
      "  1.72635822e+01  1.98459816e+01  1.44187057e+00  7.52420759e+00\n",
      "  1.00380821e+01  8.44560814e+00  3.40012703e+01  2.10737877e+01\n",
      "  5.34600496e+00 -8.37949276e+00  3.17499466e+01  1.48593063e+01\n",
      "  3.76967883e+00  1.04363565e+01  2.19556847e+01  4.77235184e+01\n",
      "  2.16594982e+01 -6.83317423e+00  3.21889229e+01  1.10858078e+01\n",
      "  3.62524338e+01  1.29900846e+01  4.30681705e+00  3.57386160e+00\n",
      "  1.16280899e+01  9.01372814e+00  5.93987560e+00  2.35192566e+01\n",
      "  3.09592018e+01  7.54767609e+00  7.73095465e+00  4.23204279e+00\n",
      "  2.85051441e+01 -1.91581893e+00  1.22445335e+01  2.61765041e+01\n",
      " -1.10460973e+00  9.37925696e-01  9.05429959e-01  1.31504669e+01\n",
      "  3.11843090e+01  2.81018090e+00  1.84587822e+01  8.53047371e+00\n",
      "  2.72078190e+01 -6.44192040e-01 -5.69304562e+00  3.11012697e+00\n",
      "  7.14286089e+00  1.26112909e+01  2.66925359e+00  2.36227655e+00\n",
      " -1.15631571e+01  2.92945838e+00 -2.19974566e+00 -8.14574623e+00\n",
      " -2.29848313e+00  2.54789782e+00 -6.16429508e-01  3.99112740e+01\n",
      "  2.51975040e+01  7.98430729e+00  9.40125942e+00 -4.81845665e+00\n",
      "  7.58348608e+00  2.24492035e+01 -4.76618862e+00  1.87072563e+01\n",
      "  3.58462477e+00 -1.15477400e+01 -1.23709345e+01  2.84727154e+01\n",
      "  4.17110968e+00  5.53729343e+00  1.16345806e+01 -1.12844324e+01\n",
      "  5.60618734e+00 -1.65809555e+01 -2.31106148e+01  3.49091625e+00\n",
      " -3.17431903e+00 -6.79560304e-02 -7.73061752e+00  3.97110558e+00\n",
      " -6.14651299e+00  3.03295660e+00 -6.96971989e+00 -4.66967440e+00\n",
      " -9.49970722e-01  8.17826653e+00  1.92104053e+00  3.39124680e+00\n",
      " -2.17863197e+01 -2.49615459e+01 -2.16141071e+01 -4.38072348e+00\n",
      " -4.21277344e-01 -6.18654490e-01 -8.65176868e+00 -2.36041141e+00\n",
      " -8.45593452e-01 -2.35820174e+00 -1.51173818e+00 -2.78685778e-01\n",
      "  5.14340210e+00 -5.35654497e+00 -6.58790469e-02 -1.07892523e+01\n",
      " -7.49743652e+00 -1.87040043e+01 -1.54943113e+01  2.15473390e+00\n",
      "  2.58918524e+00  7.23708487e+00 -1.58780851e+01  3.19084239e+00\n",
      "  6.84002304e+00 -1.17443562e+00 -2.18682504e+00  5.67600310e-01\n",
      "  7.96777487e+00 -6.22258520e+00 -2.64153451e-01 -9.29739189e+00\n",
      " -4.80783105e-01 -2.06074753e+01 -4.69002151e+00  3.37178755e+00\n",
      "  5.02438927e+00  3.98076534e+00 -7.59917021e+00 -8.60811138e+00\n",
      "  2.29005551e+00  3.79641771e+00  1.44456530e+00 -6.57172108e+00\n",
      " -1.25955019e+01 -3.82054901e+00 -8.50722218e+00  1.50740349e+00\n",
      " -8.27828407e+00 -6.00911522e+00 -7.15752983e+00 -3.90488458e+00\n",
      "  9.90473479e-02 -1.34879608e+01 -3.00613365e+01  9.05860245e-01\n",
      " -4.45774794e+00 -2.45284042e+01 -2.47614169e+00 -4.13002253e+00\n",
      " -1.30690470e+01  8.62287521e-01 -2.63666363e+01 -2.12674713e+01\n",
      "  1.17445004e+00 -1.60252905e+00  1.60187781e+00  2.14529896e+00\n",
      " -5.32238865e+00  1.57087669e+01 -2.92060223e+01  4.20614672e+00\n",
      " -1.61822090e+01 -3.82899642e+00 -1.67190385e+00  3.90888548e+00\n",
      " -1.14814529e+01 -4.28784132e+00  1.72504771e+00  1.12837934e+00\n",
      " -1.90456414e+00  7.48953044e-01 -2.54982638e+00 -2.10471034e+00\n",
      "  4.44843817e+00 -4.26058483e+00  1.02925787e+01  6.06670570e+00\n",
      "  4.43615675e+00  1.54960909e+01 -1.99521750e-01  1.86748660e+00\n",
      "  2.40736461e+00 -3.10533810e+01 -5.44638538e+00 -7.25311136e+00\n",
      "  2.00411916e+00  3.21394467e+00 -2.09762859e+00  1.32223201e+00\n",
      " -5.38678122e+00 -1.08460445e+01  3.49065274e-01  1.72329271e+00\n",
      " -5.02717781e+00 -1.27687216e+01 -2.36441422e+00 -1.04310930e+00\n",
      " -6.80050039e+00 -1.67913666e+01 -4.31502390e+00  6.76956272e+00\n",
      " -1.76540166e-01  1.85414410e+00 -1.06347857e+01  4.38753796e+00\n",
      "  5.84222412e+00 -2.66979299e-02 -6.94497204e+00  2.14464378e+00\n",
      " -2.31355820e+01 -3.71349168e+00 -4.59408331e+00 -2.32685928e+01\n",
      " -1.03426876e+01 -9.51435983e-01 -2.67533088e+00  1.81612194e+00\n",
      "  2.20179009e+00 -2.09798717e+01 -2.32911606e+01 -4.14565229e+00\n",
      " -5.10915565e+00 -4.47831774e+00 -2.70080853e+00 -3.53278065e+00\n",
      " -4.55214214e+00  3.99106288e+00  9.31917548e-01 -2.32901993e+01\n",
      "  2.30840921e+00  7.66685843e-01 -3.93959427e+00 -2.77247995e-01\n",
      " -7.73277462e-01 -1.96611385e+01 -1.90231838e+01 -4.94223166e+00\n",
      " -1.03113115e-01 -1.19438066e+01 -4.08913755e+00  2.80737400e+00\n",
      " -3.46564054e-01  4.99701977e-01 -3.84729385e-01 -5.55562639e+00\n",
      " -2.30872202e+00 -5.83109713e+00 -2.07475758e+00 -2.94554186e+00\n",
      " -2.72106981e+00 -2.71233082e+00 -6.51180521e-02 -3.29883671e+00\n",
      "  2.89478374e+00  5.10217571e+00 -8.07754421e+00 -4.27494383e+00\n",
      " -2.21054726e+01 -3.95234704e+00 -1.79789867e+01 -2.21686115e+01\n",
      "  7.00642014e+00  6.37504482e+00 -7.97539330e+00 -7.00026751e+00\n",
      "  3.49675441e+00 -1.01743765e+01 -2.11124635e+00 -6.98186830e-02\n",
      " -1.62972736e+01 -5.78916740e+00  3.29905486e+00 -1.03145323e+01\n",
      " -2.36507683e+01  4.64466047e+00  2.23721433e+00  1.04328716e+00\n",
      "  1.87336051e+00 -5.64663458e+00 -2.48000407e+00 -2.84622421e+01\n",
      " -4.44144096e+01 -2.75512218e+01 -2.46626511e+01 -1.57020640e+00\n",
      " -8.15815830e+00 -1.89654465e+01 -4.63415384e+00 -7.65426576e-01\n",
      " -1.85226860e+01 -5.06596565e+00 -1.69446468e+01 -2.53654861e+01\n",
      " -1.03449059e+00 -3.99861383e+00 -1.45686789e+01 -2.69895878e+01\n",
      "  5.27323771e+00 -5.50372028e+00  5.27788162e+00 -9.97551441e+00\n",
      " -1.75238819e+01 -2.92976665e+01 -1.02971401e+01 -1.99136138e+00\n",
      " -1.39015903e+01 -4.84986633e-01 -7.20806980e+00  6.00927258e+00\n",
      " -7.95156479e+00 -3.10966434e+01 -1.03303795e+01 -1.49822168e+01\n",
      " -3.44982262e+01 -3.76698518e+00  2.14250636e+00 -2.41117020e+01\n",
      " -1.33558989e+01 -1.03237228e+01 -3.64821935e+00 -1.09188251e+01\n",
      "  7.56828213e+00 -1.96021831e+00  1.72821254e-01 -3.14718666e+01\n",
      " -2.86232033e+01 -4.34574738e+01  4.48648262e+00 -2.18262935e+00\n",
      " -1.47645102e+01 -1.54436195e+00 -8.48909187e+00 -1.52982416e+01\n",
      " -4.55110455e+00 -1.12354488e+01 -5.89228249e+00 -2.25628281e+00\n",
      " -4.54130840e+00 -9.50578880e+00 -2.14158287e+01  3.21813345e+00\n",
      " -3.24498100e+01 -8.66799545e+00  1.01163864e+01 -3.19637737e+01\n",
      "  6.73168135e+00 -1.61742115e+01 -7.36505175e+00 -3.18868103e+01\n",
      " -2.67708302e+01 -6.61083221e+00  3.21462202e+00 -1.36994534e+01\n",
      "  2.28012562e+00 -2.32501173e+00 -1.47518539e+01 -4.58482504e+00\n",
      "  6.04060292e-02  2.54663444e+00 -1.76398849e+01 -6.98163795e+00\n",
      " -2.04498310e+01  6.47248268e-01 -1.04386673e+01 -5.54683399e+00\n",
      " -7.81473589e+00  8.23867023e-01 -1.36361580e+01 -1.78813744e+01\n",
      " -2.72036266e+00 -1.78580379e+01 -5.06422329e+00 -2.02393889e+00\n",
      " -9.12930679e+00 -2.55291901e+01 -8.40467548e+00  2.28318005e+01\n",
      "  1.37945518e+01 -6.72103453e+00 -3.97179871e+01 -1.14941263e+01\n",
      " -2.47858162e+01 -6.87880468e+00 -2.59191151e+01  5.39366007e+00\n",
      " -1.84564476e+01 -9.41411400e+00 -1.29318953e+01 -1.29041281e+01\n",
      " -9.88059425e+00 -4.08528519e+00]' has dtype incompatible with int64, please explicitly cast to a compatible dtype first.\n",
      "  preds[val_index] = model.predict(dval_i)\n"
     ]
    },
    {
     "name": "stderr",
     "output_type": "stream",
     "text": [
      "\r",
      " 20%|█████████████████████████████▌                                                                                                                      | 2/10 [00:27<01:51, 13.92s/it]"
     ]
    },
    {
     "name": "stderr",
     "output_type": "stream",
     "text": [
      "C:\\Users\\81809\\AppData\\Local\\Temp\\ipykernel_824\\3386215446.py:18: FutureWarning: Setting an item of incompatible dtype is deprecated and will raise an error in a future version of pandas. Value '[ 2.08128691e+00 -4.97634411e+00 -6.07710505e+00  8.04990411e-01\n",
      "  7.05977058e+00 -1.45326757e+00  5.36357784e+00  8.08974075e+00\n",
      "  3.17183328e+00 -9.83572304e-01 -4.82969046e+00  2.47383232e+01\n",
      "  2.24689693e+01 -1.01382077e+00  2.29156647e+01  2.59219913e+01\n",
      "  4.74541521e+00  9.53543377e+00  7.11245251e+00 -9.45920563e+00\n",
      "  3.74611402e+00  6.37120962e+00  9.00281906e+00  5.85232830e+00\n",
      "  2.63930869e+00  4.29163933e+00  7.87429094e+00  2.27614212e+00\n",
      " -6.99338913e+00 -5.33308935e+00  1.64098889e-01  1.03124256e+01\n",
      "  1.01645126e+01  2.78028250e+00  2.42064304e+01 -1.20949709e+00\n",
      "  2.02847028e+00  2.96852837e+01  3.58458233e+00  5.41730928e+00\n",
      "  4.34211445e+00 -6.84934855e+00  4.96765327e+00 -5.74770391e-01\n",
      "  1.73997450e+00  6.71416807e+00 -3.78096962e+00 -5.95754290e+00\n",
      "  6.11085749e+00 -9.83010864e+00  4.64936733e+00  6.30635214e+00\n",
      "  4.88890362e+00 -2.38907099e+00  8.74395180e+00  8.14341158e-02\n",
      "  4.83358908e+00  1.91965389e+01  6.55033445e+00 -8.81086171e-01\n",
      "  2.22840366e+01 -2.87287378e+00  5.73939025e-01  2.79011688e+01\n",
      "  6.78241253e+00  7.89684296e+00  6.07742453e+00  7.08800733e-01\n",
      "  2.70624971e+00  3.59655428e+00 -1.22027802e+00  2.54459839e+01\n",
      "  7.74435186e+00  6.64954484e-01  5.22921896e+00  1.59612608e+01\n",
      "  3.19932413e+00  1.81949215e+01 -7.41718340e+00  2.39704585e+00\n",
      "  5.40363121e+00  6.16689062e+00 -4.29582930e+00  5.21950983e-02\n",
      "  1.53188467e+01 -5.79774141e+00  2.74010754e+01 -9.30745363e-01\n",
      " -1.33524120e+00  1.37567978e+01  6.08867645e+00  2.19733410e+01\n",
      "  2.77325124e-01 -6.80197763e+00  9.62788010e+00  9.00079918e+00\n",
      "  3.59231496e+00 -3.46935558e+00  1.84008884e+00  5.13303375e+00\n",
      "  2.17465234e+00  1.98548088e+01 -4.30619526e+00  7.67675972e+00\n",
      "  1.98000317e+01  1.77100086e+00  2.35811691e+01  5.31187963e+00\n",
      "  3.90427709e+00 -3.27364588e+00  8.58408737e+00 -4.93937969e+00\n",
      " -1.10151291e+00  3.48885000e-01 -2.04527482e-01 -6.45227432e+00\n",
      "  1.73647392e+00  5.98572493e+00 -1.29283845e+00  6.94230604e+00\n",
      "  2.37678947e+01  4.01252699e+00  1.16143045e+01 -1.82706702e+00\n",
      "  5.57120860e-01 -5.21718073e+00 -1.89552712e+00  1.95328438e+00\n",
      " -1.02637708e+00  1.19299376e+00 -1.55335608e+01  1.00238400e+01\n",
      "  1.11235609e+01  2.25473289e+01 -6.60806751e+00 -1.17222917e+00\n",
      "  7.41078997e+00 -5.96410322e+00  1.83214486e+00 -4.22896147e+00\n",
      "  1.41931736e+00  1.84577370e+01  1.14938231e+01  1.25250053e+00\n",
      "  2.46370673e+00 -1.58199847e+00  4.64572668e+00 -7.03351259e+00\n",
      "  2.86802673e+00  1.31544790e+01 -2.66736364e+00  2.36287832e+00\n",
      " -1.75164509e+00  2.32400818e+01  3.11822057e+00  1.98945928e+00\n",
      "  2.98061714e+01  3.94696712e+00  2.84991837e+00  8.25810242e+00\n",
      "  9.75728214e-01  9.06551170e+00 -2.34877133e+00  3.26071930e+00\n",
      "  3.88343811e+00  5.71061182e+00  1.28962564e+01  2.73679485e+01\n",
      "  4.46801138e+00  6.41693068e+00 -3.51501179e+00  9.06331730e+00\n",
      "  2.24968576e+00  2.88698745e+00  2.27279973e+00  2.27572193e+01\n",
      " -5.45293510e-01  5.46375799e+00 -7.83728456e+00  3.69301462e+00\n",
      " -4.31960106e+00 -1.22676575e+00 -9.36421490e+00  7.61261082e+00\n",
      "  6.95571899e+00  2.34280396e+00 -2.48581672e+00  1.83050215e+00\n",
      "  8.91551822e-02 -5.12663507e+00  2.62664843e+00  3.00566978e+01\n",
      "  2.95086803e+01  4.31091499e+01  2.82709961e+01  1.96333065e+01\n",
      " -3.22935319e+00  4.20021486e+00  8.71123910e-01  1.31085014e+01\n",
      "  1.12330809e+01 -1.19319878e+01  6.56881285e+00  1.18811929e+00\n",
      "  9.88406849e+00  2.73975849e+01  1.13784087e+00  3.86354446e+01\n",
      "  8.97440434e+00 -1.06762562e+01  1.82490005e+01  1.05857420e+01\n",
      "  1.28962984e+01  1.64764042e+01  2.66710033e+01  1.78352242e+01\n",
      "  5.44327784e+00  2.95806432e+00  3.49392700e+01 -6.13781786e+00\n",
      "  1.28973036e+01  1.02679338e+01  2.56791077e+01  1.63780880e+01\n",
      "  2.04682140e+01  1.22847939e+01  2.35524249e+00 -5.28462648e+00\n",
      "  2.08830109e+01 -6.20976114e+00 -1.37181437e+00  2.87937737e+01\n",
      " -3.37557983e+00  1.29222174e+01 -5.23679674e-01  1.01714497e+01\n",
      " -7.50807428e+00  2.65252380e+01  1.00097046e+01 -2.31887646e+01\n",
      "  3.15027790e+01  1.36520119e+01 -2.99507284e+00 -6.62116241e+00\n",
      "  1.75130892e+00  3.45726681e+00  1.63277931e+01  1.52250099e+01\n",
      "  2.54360914e+00  6.45539713e+00  6.38082266e+00  8.03242397e+00\n",
      "  3.91048050e+01  6.69766188e+00 -3.14646077e+00  3.08217019e-01\n",
      "  1.06429539e+01  1.34027443e+01  3.88407350e+00  2.38294582e+01\n",
      "  3.15964355e+01 -7.91751909e+00  8.45262718e+00  6.39138746e+00\n",
      "  3.01278915e+01 -8.36227131e+00  3.19105530e+00  3.33581543e+00\n",
      "  1.20895462e+01  1.79924715e+00 -5.25160503e+00 -2.17668295e+00\n",
      "  3.76814613e+01  3.15499630e+01  1.52534275e+01  2.91778302e+00\n",
      " -2.27841425e+00  1.04137249e+01  1.94363670e+01  3.09429207e+01\n",
      " -4.75383568e+00 -9.95415115e+00 -9.76053619e+00  2.87508354e+01\n",
      " -6.84288788e+00  8.27241611e+00  2.32144909e+01  9.11174774e+00\n",
      "  2.68622036e+01  2.94042015e+01  8.57575226e+00  8.06367695e-01\n",
      " -2.43160439e+01  3.99196649e+00 -7.26069629e-01  4.69674444e+00\n",
      "  1.62319183e+01 -5.43806744e+00  3.88774223e+01  7.86471033e+00\n",
      "  2.23539104e+01  2.58361702e+01  1.22993755e+01  1.58024254e+01\n",
      " -1.16450417e+00  9.45060349e+00 -1.10341787e+00 -3.47835875e+00\n",
      "  1.79016387e+00 -1.01436701e+01 -2.23230305e+01 -6.81568050e+00\n",
      " -1.74065742e+01 -1.80305977e+01 -7.88715172e+00  4.83444214e+00\n",
      "  5.76365805e+00 -5.96053123e+00 -8.25319672e+00  2.07015538e+00\n",
      " -6.37145424e+00 -4.53575516e+00 -5.54475546e+00 -7.10331380e-01\n",
      " -5.57575178e+00 -2.12243786e+01  9.82060814e+00 -2.75112295e+00\n",
      " -4.40289783e+00 -6.73195267e+00  3.82475257e-01 -8.30079365e+00\n",
      " -6.46032333e+00 -7.43262100e+00 -2.63801765e+00 -5.30691206e-01\n",
      " -5.00005913e+00 -1.68829651e+01  2.69623828e+00 -2.04482880e+01\n",
      "  1.25019255e+01 -7.61233854e+00 -1.12055216e+01 -3.33296514e+00\n",
      " -1.57570868e+01 -6.26386690e+00  8.36627769e+00 -5.42771006e+00\n",
      "  1.70877552e+00 -6.01936436e+00 -2.51943421e+00 -6.97730732e+00\n",
      " -8.78807449e+00 -2.10833383e+00 -2.32270384e+00  6.71612692e+00\n",
      "  4.01550865e+00 -1.64771099e+01 -7.68180943e+00  3.10820365e+00\n",
      " -1.02862339e+01 -1.55186443e+01 -2.96694541e+00 -5.01464224e+00\n",
      "  4.19498539e+00 -2.67003894e-01 -2.90080166e+00 -3.36460829e+00\n",
      " -2.48592300e+01 -1.03574095e+01  2.65144873e+00 -7.91000128e-01\n",
      " -1.47305832e+01  6.33040011e-01  8.52675259e-01 -3.69416857e+00\n",
      "  1.97512972e+00 -1.83369374e+00 -7.53581333e+00 -3.80804706e+00\n",
      " -7.14086235e-01 -1.89615116e+01 -2.64197898e+00 -1.46024668e+00\n",
      " -4.35460091e+00 -1.86047783e+01 -5.31555843e+00 -1.61769080e+00\n",
      " -1.19647636e+01 -5.58791590e+00 -1.07191026e+00  9.08688530e-02\n",
      " -2.34938717e+01 -1.62464941e+00  3.51982450e+00  5.93984079e+00\n",
      " -3.35673118e+00 -2.12950516e+01  3.05657816e+00 -7.14048719e+00\n",
      " -1.22285404e+01 -5.78932619e+00 -1.13981915e+01 -1.38298675e-01\n",
      "  2.87284636e+00  4.08260632e+00  4.69284169e-02 -3.50445914e+00\n",
      "  2.08849454e+00  4.69649523e-01  2.20268703e+00  2.31925201e+00\n",
      " -1.46138716e+01 -1.00160055e+01 -6.76928282e+00  7.15218401e+00\n",
      "  1.27841079e+00 -1.19978845e+00 -1.39296901e+00 -1.15443268e+01\n",
      "  2.03229928e+00 -2.20897560e+01  3.06074667e+00 -5.95226002e+00\n",
      " -1.50865519e+00 -3.16064310e+00  2.34264183e+00  7.94516850e+00\n",
      " -4.38817739e-01 -7.38855076e+00 -1.39583325e+00  1.65676041e+01\n",
      "  1.11216657e-01 -2.88725376e+01 -7.11111736e+00 -7.44330502e+00\n",
      "  1.75277400e+00 -1.78921700e+01  9.48148727e+00  2.67067682e-02\n",
      " -1.28671350e+01 -1.15872784e+01 -3.25618887e+00 -2.27104568e+00\n",
      " -2.19706326e+01  1.54095154e+01 -2.49412632e+00  1.38645744e+00\n",
      " -1.23333178e+01  1.21411343e+01  3.14084721e+00 -1.69804897e+01\n",
      "  8.21672082e-01 -1.00293398e+01 -6.72971249e+00 -6.27714872e+00\n",
      "  2.26806760e+00 -3.18535352e+00 -2.07671986e+01 -4.71736526e+00\n",
      " -2.15522156e+01 -4.89748478e+00 -4.89776564e+00 -3.69722128e+00\n",
      " -1.07304466e+00  2.65419912e+00 -1.87740654e-01 -7.68320322e+00\n",
      " -7.16465056e-01 -3.97825003e+00 -9.11005116e+00 -2.58361077e+00\n",
      "  1.71201468e+00 -9.82272625e+00 -1.49019077e-01 -5.18924046e+00\n",
      " -3.39051747e+00  7.97839046e-01  1.25881815e+00  3.04249001e+00\n",
      "  4.64544356e-01 -2.31166687e+01 -7.47662354e+00  4.46569777e+00\n",
      "  3.64534402e+00 -1.79605401e+00 -1.69677315e+01 -1.84438491e+00\n",
      " -4.65320158e+00 -8.50362301e+00  1.22058499e+00 -1.76034957e-01\n",
      " -1.91747952e+01 -7.79481363e+00 -2.92842770e+00 -1.49451551e+01\n",
      " -2.16564713e+01 -2.49200077e+01 -1.99059277e+01  1.93995023e+00\n",
      " -3.30451417e+00  3.91684937e+00 -4.91347075e+00 -1.82718778e+00\n",
      "  7.02672482e+00  2.75453329e+00  1.95907605e+00 -4.71804953e+00\n",
      " -2.23717899e+01 -7.42864704e+00  2.91895318e+00  1.23768950e+00\n",
      " -1.55646336e+00 -3.95629072e+00  3.67228603e+00 -3.79013270e-02\n",
      "  2.53991628e+00  7.00653982e+00  2.66154909e+00 -9.92905521e+00\n",
      " -2.25329900e+00  3.85820955e-01 -1.17360783e+01 -2.78523064e+01\n",
      " -1.38530912e+01  4.98992157e+00 -3.54405671e-01 -9.97445166e-01\n",
      " -1.87146511e+01 -1.49732180e+01  2.03087568e+00 -2.58451920e+01\n",
      "  3.76312971e-01 -2.24269772e+01 -2.21132050e+01 -7.89285374e+00\n",
      " -3.52539024e+01 -1.29335585e+01 -3.40720978e+01 -2.09055290e+01\n",
      " -6.20393515e+00  1.45659363e+00  1.22028580e+01  6.11647415e+00\n",
      " -3.07341194e+01 -2.39427567e+01 -1.16182756e+01 -3.16996536e+01\n",
      "  1.66419220e+01 -7.14931154e+00 -2.53268623e+01 -5.57141972e+00\n",
      " -6.10521889e+00 -1.37222223e+01  6.39393950e+00 -1.42053928e+01\n",
      " -2.93567448e+01 -6.66599214e-01 -3.77153301e+00 -2.13189926e+01\n",
      " -9.54871464e+00 -2.75098934e+01 -1.24158239e+01 -2.00318298e+01\n",
      "  1.44142447e+01 -1.46575785e+01 -3.22230873e+01 -7.74129677e+00\n",
      " -4.83614683e+00 -8.60869122e+00  5.81752110e+00 -1.94342458e+00\n",
      " -8.80255318e+00 -2.93232594e+01  3.19946498e-01 -1.35262537e+01\n",
      " -4.15884590e+01 -7.31941462e-01 -1.45090742e+01 -5.04607916e-01\n",
      "  4.73211861e+00 -1.63687763e+01  4.84342289e+00 -3.30375328e+01\n",
      "  7.71719933e+00 -1.02680266e+00 -1.50747900e+01 -3.96687388e+00\n",
      " -1.10287819e+01 -6.09093714e+00 -2.52050328e+00 -2.02820339e+01\n",
      " -1.16601772e+01 -3.85861921e+00  1.98285925e+00  9.75175476e+00\n",
      " -8.34236145e+00 -7.99894142e+00 -2.30357208e+01  3.29814863e+00\n",
      "  8.72666264e+00  2.89473629e+00 -6.50787115e+00 -6.12933207e+00\n",
      "  9.56143761e+00 -4.38972831e-01 -9.94168186e+00 -4.45790482e+01\n",
      "  3.21619582e+00 -3.02446289e+01  5.75938320e+00 -1.21525803e+01\n",
      " -2.77178383e+01 -2.81916404e+00 -9.54055405e+00  1.37141447e+01\n",
      " -1.44105844e+01 -1.70116158e+01 -8.11517525e+00 -2.38621635e+01\n",
      " -3.05862980e+01 -8.60275841e+00 -3.67660141e+00  1.46402800e+00\n",
      " -2.70488987e+01 -1.92794113e+01 -2.27721748e+01 -2.52276611e+00\n",
      " -6.24283886e+00 -3.96686816e+00 -1.05378590e+01 -7.23816061e+00\n",
      " -4.18229151e+00  8.59865284e+00 -2.84702988e+01  1.17806101e+01\n",
      " -8.90498066e+00 -5.38428545e+00  3.73202562e+00 -3.96484909e+01\n",
      " -6.07181215e+00 -2.30326824e+01 -3.18112063e+00  3.05290008e+00\n",
      " -1.59764071e+01 -4.08880424e+00]' has dtype incompatible with int64, please explicitly cast to a compatible dtype first.\n",
      "  preds[val_index] = model.predict(dval_i)\n"
     ]
    },
    {
     "name": "stderr",
     "output_type": "stream",
     "text": [
      "\r",
      " 30%|████████████████████████████████████████████▍                                                                                                       | 3/10 [00:40<01:35, 13.70s/it]"
     ]
    },
    {
     "name": "stderr",
     "output_type": "stream",
     "text": [
      "C:\\Users\\81809\\AppData\\Local\\Temp\\ipykernel_824\\3386215446.py:18: FutureWarning: Setting an item of incompatible dtype is deprecated and will raise an error in a future version of pandas. Value '[  0.45843822  -7.7905154    4.4418783   14.630917    21.130135\n",
      "   9.260939     2.958819    -2.9879215    2.638714    -0.29121426\n",
      "  -3.9891047   -1.738609     0.7085915   -1.9820085   -4.9817333\n",
      "  21.095282    -2.2687948   -1.6432217   21.72341      1.1818588\n",
      "   5.97387      3.0620744   -0.33355212   4.2641106   -4.203962\n",
      "   7.7378163   -0.5979944   -3.8674219    3.506367     4.2633634\n",
      "  -0.3771719   17.191738     4.389557     3.2403738   -0.64898825\n",
      "   8.498342     0.9132875   16.405096     1.5051214   -7.6443706\n",
      "   6.562602    -0.5037009    8.331291     5.2323046   -6.507694\n",
      "   5.9448376    2.5870588   -8.177896    -2.5442698   -1.8919805\n",
      "  20.6423       0.21979067   1.5955907   -2.2118223    6.9066887\n",
      "   1.2874128   -2.1322694   -1.1238488   23.192911    12.691848\n",
      "  -2.4553702   -1.1851652   25.948606    -1.7746766    3.353737\n",
      "  -1.2065688    1.2907777    0.5264888   -1.8431723    0.75154823\n",
      "  22.66951     -2.5606692    6.9856086    6.5564756    0.9031897\n",
      "  -1.7223547    4.690308    -1.3163317    1.6540686   -9.0807\n",
      "  18.611414     4.0645213    7.718598    10.73623     -2.0283475\n",
      "   4.515024     2.6600857   -3.1611285   25.295338    12.277326\n",
      " -10.860878    -5.1152244   17.826977    -3.345119    -1.4060606\n",
      "   5.7809386   -0.8281668   11.046395     5.905278    -2.13321\n",
      "  -3.449067     3.7324612   22.57632     15.520595   -14.947286\n",
      "  -0.63613904  -3.4795804   10.536241    -2.1037252    5.345093\n",
      "   8.743431     7.420846    16.234163     4.4323125    1.6333162\n",
      "   1.9991717   -2.2669907   15.021731    17.52743      4.909223\n",
      "   4.8183236    9.8411045   -2.247762     6.7034216   -6.2612224\n",
      "   0.713721    11.307844    -7.096851     7.109314     5.65607\n",
      "   4.583648     8.860467    10.02382     18.487257    13.30431\n",
      "   9.452165     0.6538439   -5.011729     6.617832    -3.1202238\n",
      "  -4.582066    22.462692     8.989106    -1.8012619   -2.636183\n",
      "   6.421971     5.240649     0.23999009   6.5863547   -1.6533672\n",
      "  23.105545     4.4743924   16.289457   -10.17509     -5.339086\n",
      "  -1.1131916   -6.7807784    1.1949422    2.2723904    7.07253\n",
      "   4.7129254  -12.138333     1.5546296    1.3931227    3.26791\n",
      "   4.490368     9.884063     3.8882148    1.5745227   -1.937078\n",
      "   4.373457    -5.7009892  -16.208292    -4.365269     0.72809064\n",
      "  17.500565     3.5789988   -2.1418464    6.611994     3.5317981\n",
      "  -1.0463572   -0.12914167  -2.45106     -4.194725    26.854467\n",
      "   2.2119057   21.730255    -4.893246     4.5407724    5.8377795\n",
      "  -4.7920923   -3.7562459   -0.60531646   6.711731    14.706368\n",
      "   0.7798912   -0.34698203  18.587957   -22.984093    -3.4183373\n",
      " -10.456589    12.082912     1.6151463   -3.6606169    1.9767615\n",
      "   3.976678     2.7416818    4.1571164    8.449064     8.977979\n",
      "   2.7901287   29.44804     29.450096     2.3449726   10.369464\n",
      "  -2.554077    36.109127     2.2517014   16.464413    11.97152\n",
      "  -3.13358     -2.0928912    2.967752    34.397385    12.039898\n",
      "  25.09492     35.741936     7.294285    -0.78662485   7.7332954\n",
      " -10.148813     6.673183     3.468678    26.912401     8.602669\n",
      "  17.473896     0.37305543  -8.10312      2.4878664  -15.469682\n",
      "  35.632824    12.549778    -0.70890135   1.3743504   25.868397\n",
      "  19.948984    22.782572     6.185236    -0.17503475  -5.2421813\n",
      "  19.146332    14.973038    29.102316     3.4392703    7.5144176\n",
      "  24.135641     4.1309466  -14.523282    12.286533    -3.0988936\n",
      "   2.921797    -5.036712    24.275398    -3.4905963   30.159538\n",
      "  12.771104     3.2512956    4.534683    -0.1604339   11.502988\n",
      "  34.0084      13.900975     5.50515     16.61304     33.790226\n",
      "   1.7715607    5.5673094   -7.7744412    4.669118    -2.2814457\n",
      "  13.380648    14.003812    21.565102    -2.7231529  -12.121257\n",
      "  -8.253814     2.242387    -6.7596664    0.59691966  22.189535\n",
      "   5.642281   -12.286304     4.162224     9.2508745    0.5942938\n",
      "   4.0649896   20.083727    -7.5507174  -12.619378    37.694057\n",
      "   6.5293193   -4.6712713   29.461582    12.172689    22.225044\n",
      "  14.541438     4.0464773   -3.0786557  -13.6452       0.6558023\n",
      "  -6.28468    -11.875203    -3.1377628  -11.6388035  -16.039515\n",
      "  -9.245987    -7.0852423   -7.6296806   -6.561043    -5.9775076\n",
      "   4.057382    -5.262042     3.9998238    1.9884142    2.060025\n",
      " -22.64043     -0.1857433  -12.585323   -22.332098    -0.8400139\n",
      "  -6.239325    -0.8114373    5.4085517    4.4038596   -1.3026878\n",
      "  -7.586779    -8.473425     1.7883021   -5.4787807    1.2903349\n",
      "   0.13846762   0.351526    -4.0713296  -26.324463   -10.099491\n",
      "  -7.014337   -16.253904    -2.8163908   -6.4505186  -19.686186\n",
      "  -6.269673     0.04277001  -6.661132     5.972011   -19.327663\n",
      "   8.6928425   -4.627518   -24.956108    -6.87951     -1.4798592\n",
      "  -5.223032    -8.702869    -4.937954    -2.9168417    1.5849191\n",
      " -11.269339     2.0636263  -14.086872     0.77524674  -5.7185645\n",
      "  -4.38806     -2.2717838  -23.402334    -8.431585    -4.1939926\n",
      "  -8.084999    -5.915724    -0.19529971  -0.04352743 -15.892972\n",
      " -26.167583    -3.1056225   -1.5037807   -1.8981066  -18.603859\n",
      "  -0.7884895   -4.8420258   -1.8260305    0.66844434 -26.203115\n",
      " -19.261696     2.128267   -11.187916     1.6613699   -7.0667825\n",
      "  -3.366376    -6.601352   -11.486061    -4.9503174   -4.2251477\n",
      " -24.109646    14.951141     5.0761514  -26.954426   -16.121195\n",
      " -15.611948   -19.365047    -7.519537    -3.0573926   -4.7736516\n",
      "   8.910881    -4.687543    -8.452345    -4.36998      0.47529492\n",
      "   3.8781936   -1.3138885   -0.89146256 -15.625951     2.1139774\n",
      "   0.5076716    4.1317334  -18.224916    -9.73703     -2.8123264\n",
      "  -5.680369     3.2528062  -10.392317   -13.467981    -1.9916717\n",
      "  -0.09289647  -1.1655699   -0.42503893  -4.685669     0.70303434\n",
      "  -1.8960289   -4.5614834   -4.706861    -8.698829    -9.754649\n",
      "  -6.0391617   -3.8446405    0.84899765  -7.3598948   -0.11428021\n",
      "  -1.2677346  -22.505304     1.2896543    2.7522125  -18.254307\n",
      "  -2.2053916   -1.4413403    1.8762428   -1.7720602   -3.9506485\n",
      "  -6.056999    -3.7825634    3.6551974    2.6388855  -21.190582\n",
      "   0.31103852  -4.7379603   -3.8177586    1.0917077   -3.1458728\n",
      "  -3.3640764    3.0410154   -3.009179   -15.820598    -3.3114772\n",
      "  -5.120714    -0.49485108  -3.6950278  -13.787394    -5.1587605\n",
      "  -7.3139033   -2.183264    -4.397851   -12.853203   -21.643042\n",
      " -13.806197   -23.355967     4.280912    -2.370044    11.829801\n",
      "   3.5130346    3.166473   -11.742366    -5.9239373    3.6529274\n",
      "  -3.3373456    5.3348594  -20.552532     0.653679    -3.653259\n",
      " -17.668795    -4.1201353    1.8410604    0.10810041  -1.3086375\n",
      "  -7.0739384    6.965357   -11.389903    -4.7014656  -16.672434\n",
      "  -6.5592217   -3.6123028  -25.66447    -15.573746     3.4279962\n",
      "   1.2252563   -3.7255807    9.7633095   -5.514004   -16.782104\n",
      "  -4.5942345    2.8426576   -5.638187    -4.494425    -9.362526\n",
      " -11.432685   -32.756306     1.519859   -25.276947   -12.607024\n",
      "   5.138065   -19.547308   -14.947174     1.7808686   -9.796317\n",
      "   2.8454673  -25.772697   -28.956047     4.413615   -33.90632\n",
      " -27.31919    -13.307636    -8.292534    -4.5772038  -26.907156\n",
      "  -1.1930786  -13.409617     5.8637514   -1.2551911   -3.6488423\n",
      "  -1.2703006  -42.67175     -1.5581911   -3.198735     6.0583725\n",
      " -20.76645    -22.833904   -27.05302    -14.1018715    0.14840925\n",
      " -10.210339     1.4418404   -1.0595281  -10.040326   -25.354523\n",
      "  -1.4414268   -7.8692284   -0.22727793 -15.65591     -8.830867\n",
      "  -5.86373     -1.4728942  -13.175822   -15.824849   -30.844267\n",
      "  -4.098222    -4.6374063  -29.921944   -35.91304    -37.067265\n",
      "  -8.161868    -9.622498   -27.44768     -7.026753   -18.07127\n",
      "   2.5807588  -15.418825   -11.409617    10.8819895    3.081737\n",
      "   2.105127    -4.2301865   -7.807575   -12.912312    -1.8385198\n",
      " -12.631371    -4.7119465    2.5822554    4.414482    -6.204146\n",
      "   0.27114463  -7.211344   -15.403114   -18.820845    -4.7010984\n",
      "   8.560705    -7.543402    -2.7874534  -10.863843   -12.249981\n",
      "   2.7443926  -17.807964   -25.378847     2.7325416   -4.0115986\n",
      "   1.1119059  -19.471272    -4.556059    -4.3418097  -21.706188\n",
      "  -4.7160215   10.629415     0.10074212  -6.595239     7.472079\n",
      "  -8.03453    -24.83013     -1.2901939  -28.298368   -14.586854\n",
      "   4.589165   -16.781174    -6.8154697   -5.1757216    7.667191\n",
      " -17.951859   -30.39078    -39.507763    -9.915969    -7.2757754\n",
      " -36.62697    -29.711628    -4.1621532  -19.892508     6.2516313\n",
      "   9.709692   -34.790295    -3.6131973  -28.999569   -16.10766\n",
      " -22.74764   ]' has dtype incompatible with int64, please explicitly cast to a compatible dtype first.\n",
      "  preds[val_index] = model.predict(dval_i)\n"
     ]
    },
    {
     "name": "stderr",
     "output_type": "stream",
     "text": [
      "\r",
      " 40%|███████████████████████████████████████████████████████████▏                                                                                        | 4/10 [00:53<01:20, 13.46s/it]"
     ]
    },
    {
     "name": "stderr",
     "output_type": "stream",
     "text": [
      "C:\\Users\\81809\\AppData\\Local\\Temp\\ipykernel_824\\3386215446.py:18: FutureWarning: Setting an item of incompatible dtype is deprecated and will raise an error in a future version of pandas. Value '[-9.55725765e+00  1.90328673e-01  2.28140354e+01  1.26316166e+01\n",
      "  2.17086849e+01  1.85848198e+01 -9.55365598e-01  6.23432732e+00\n",
      "  1.04482517e+01  7.44688988e+00  8.88915157e+00 -2.95303512e+00\n",
      " -4.89936447e+00  1.75691700e+00  2.33595009e+01  2.22417393e+01\n",
      " -2.26358700e+00  5.22622013e+00 -7.87639499e-01  3.58730125e+00\n",
      "  1.03345337e+01  2.03927994e+00  2.09021339e+01  2.11916008e+01\n",
      "  2.66297197e+00 -5.96404123e+00  8.77781212e-01  1.11228168e+00\n",
      "  6.71386576e+00 -5.57484198e+00  7.88091421e+00 -8.27384174e-01\n",
      "  1.86930523e+01 -1.40131044e+00 -6.37208986e+00  3.03348446e+00\n",
      "  1.87271595e+01 -4.68081570e+00  1.93132842e+00 -1.20916188e+00\n",
      "  3.32677794e+00  8.85793400e+00 -4.32826328e+00 -8.04835224e+00\n",
      " -3.51055241e+00  7.46486139e+00  5.60479355e+00  1.38195229e+01\n",
      "  6.93632746e+00  7.99131441e+00  6.27004242e+00 -5.21227837e+00\n",
      " -3.44283247e+00  5.60627604e+00 -1.12602921e+01  5.71100426e+00\n",
      "  7.21186066e+00  2.39654980e+01  2.23503742e+01  4.83182383e+00\n",
      "  4.05556631e+00  2.56122112e+00  3.89844942e+00 -1.65020514e+00\n",
      "  7.75644827e+00  6.33687925e+00 -3.59677345e-01  3.40914917e+00\n",
      "  3.80475712e+00  2.18541956e+00 -1.95663333e+00  3.42355347e+00\n",
      " -4.24424839e+00  4.32670927e+00  2.93498039e-01  2.72421017e+01\n",
      "  9.01190948e+00 -1.71373498e+00 -5.68355513e+00 -1.45053220e+00\n",
      "  1.21822605e+01  2.58702612e+00 -2.37738705e+00  3.60896540e+00\n",
      "  7.81288910e+00  1.86140680e+00  1.29965076e+01  1.48718822e+00\n",
      "  2.45829391e+01  1.06538448e+01 -1.12775021e+01 -6.45279169e+00\n",
      "  2.20602112e+01 -2.89956188e+00  8.13443470e+00  1.44654446e+01\n",
      "  4.71314335e+00  1.25700283e+01 -1.86791170e+00 -2.04368067e+00\n",
      " -1.08422387e+00  1.35627155e+01  2.20451622e+01 -9.06624126e+00\n",
      " -5.58600521e+00  1.38715353e+01  3.85526955e-01  5.90532780e+00\n",
      "  2.86705542e+00  3.88298225e+00 -8.00978279e+00 -1.42912006e+00\n",
      " -9.73303139e-01  6.09372139e+00  1.61835039e+00  2.13231182e+00\n",
      " -1.02338343e+01  6.17856979e+00 -1.91275191e+00 -1.10468961e-01\n",
      " -2.57375383e+00  6.91202927e+00  5.64320135e+00 -3.20025492e+00\n",
      "  3.75402951e+00  1.55708623e+00  6.77503586e+00  7.18610668e+00\n",
      "  1.53659182e+01  3.47122860e+00 -1.97124615e+01 -9.73984063e-01\n",
      "  3.10210133e+00  4.18984555e-02  8.00130844e+00 -2.66394711e+00\n",
      "  6.65666461e-01  4.12293100e+00  2.89257469e+01  1.19078932e+01\n",
      " -2.25427341e+00  1.71726189e+01  2.27013626e+01 -2.94213343e+00\n",
      " -6.50013447e+00  1.52240477e+01 -2.67996103e-01  7.94040346e+00\n",
      "  1.11470139e+00  7.09750271e+00  5.73746395e+00 -3.01290703e+00\n",
      "  1.54845438e+01  3.90322161e+00  2.38529110e+00  1.88543355e+00\n",
      "  6.17322731e+00  2.07728291e+01  2.82014322e+00 -1.10277023e+01\n",
      "  3.13426447e+00 -7.52208996e+00 -1.19121075e+00  3.79787254e+00\n",
      " -3.00923872e+00  5.34289789e+00  4.50589776e-01  5.16918600e-01\n",
      "  4.13792467e+00  1.12959728e+01 -1.60863012e-01  7.07467556e+00\n",
      "  9.90337849e+00 -6.41334391e+00  4.50492048e+00  2.13974833e+00\n",
      " -9.83881652e-01  5.54302835e+00  4.97970486e+00  2.38007307e+00\n",
      " -2.75773001e+00  5.10190582e+00 -2.45039773e+00 -4.18454409e+00\n",
      " -4.40113258e+00  1.24738064e+01  4.20826769e+00  5.95673704e+00\n",
      " -1.55818403e+00 -2.26809120e+00  2.71410427e+01  4.37509251e+00\n",
      "  2.36629677e+01 -4.79088694e-01 -7.96726704e+00  1.59191494e+01\n",
      "  1.12669392e+01  2.93496513e+00 -1.32088691e-01 -4.71137619e+00\n",
      "  8.87629223e+00  1.64566250e+01 -3.56153584e+00 -1.87580585e+00\n",
      "  5.88835478e+00  3.52141118e+00 -1.05207138e+01  3.23049593e+00\n",
      " -5.54876041e+00 -7.07884836e+00 -1.26512444e+00  4.04506111e+00\n",
      "  1.26864786e+01  1.43496017e+01 -8.55661964e+00  2.73468113e+01\n",
      "  8.82023525e+00  1.03048067e+01  4.52542019e+00  1.18709126e+01\n",
      " -5.02805948e+00  3.31402512e+01 -2.02074313e+00  1.68042374e+01\n",
      " -2.50748968e+00  2.57797985e+01  2.39222355e+01 -6.10378933e+00\n",
      " -7.39799070e+00  1.04830885e+01  1.42434893e+01  1.92010403e+01\n",
      " -6.52170801e+00 -4.13464308e+00 -1.91857171e+00  1.59677804e-01\n",
      "  1.32828367e+00  1.59595947e+01  3.48729401e+01  5.41776657e-01\n",
      "  1.51791096e+00  8.33538151e+00  4.66665983e-01  2.16204243e+01\n",
      "  1.49764204e+01  2.27558823e+01  2.07912121e+01  1.53644562e+01\n",
      "  8.80383396e+00  8.21785748e-01  8.11531544e+00  2.29387016e+01\n",
      "  5.57970047e+00  4.47127628e+00  2.76742153e+01  8.14617443e+00\n",
      " -1.00448313e+01  2.53250256e+01  1.55351305e+01  2.23053322e+01\n",
      "  3.96617979e-01  1.66445947e+00  2.48304214e+01  1.17661934e+01\n",
      "  1.73785534e+01  2.11148405e+00 -1.04990911e+01  1.88136056e-01\n",
      "  1.50609326e+00  3.29141121e+01  1.15190773e+01  1.42321796e+01\n",
      " -8.05585957e+00  1.39356661e+01  3.61982880e+01  1.18594065e+01\n",
      "  5.95991087e+00  1.50798483e+01 -3.57137442e+00  3.51036758e+01\n",
      "  2.67627430e+00 -9.10959303e-01  4.09656105e+01  9.65459156e+00\n",
      "  5.83503532e+00 -7.92724848e+00  6.50845146e+00  3.69937134e+01\n",
      "  3.75757003e+00  3.95592070e+00  2.70826556e-02  1.82329636e+01\n",
      "  1.45605059e+01  2.89862823e+01  1.35510511e+01 -3.36731172e+00\n",
      " -4.06084585e+00  1.30465651e+01  2.06971169e+01 -3.50558352e+00\n",
      "  6.21542215e+00  8.95550156e+00  3.87655568e+00  2.88650322e+01\n",
      "  1.58922806e+01  5.99238825e+00  1.46602745e+01  5.10536146e+00\n",
      "  1.37414379e+01  5.28576756e+00  6.97397470e+00 -3.31162548e+00\n",
      " -4.88045597e+00  9.56091118e+00  1.26703873e+01  5.72627449e+00\n",
      "  1.50979729e+01  2.37191439e+00  1.44935831e-01  3.33544159e+00\n",
      " -2.06711054e+00 -3.33795738e+00  2.06138515e+00 -8.87091541e+00\n",
      " -7.88630486e+00 -3.53669357e+00 -2.03897705e+01 -1.05982876e+01\n",
      " -2.43521357e+00  3.73763323e+00 -6.70455265e+00 -5.69914913e+00\n",
      " -8.16576672e+00 -3.88560295e+00 -2.10069323e+00 -6.45190573e+00\n",
      " -2.07686710e+01 -4.74441385e+00 -3.34611750e+00 -7.74606800e+00\n",
      " -9.37195015e+00 -6.12231970e+00  7.84085512e-01 -4.43354321e+00\n",
      " -3.22556734e+00 -2.39357567e+00  8.81392002e+00 -6.79231834e+00\n",
      "  7.21426845e-01  5.00468254e+00 -3.35801315e+00 -1.32767591e+01\n",
      " -1.12049971e+01 -2.16426715e-01  1.22103584e+00  1.72649527e+00\n",
      " -1.78993428e+00 -4.14657021e+00  2.29098511e+00 -4.73749352e+00\n",
      " -7.75513506e+00  4.39930916e+00 -9.93605900e+00 -2.29371548e+00\n",
      " -1.21218481e+01  3.76013803e+00 -6.55261278e+00 -1.41700530e+00\n",
      " -7.54682016e+00 -6.20842171e+00  4.15787697e+00  3.97976089e+00\n",
      " -7.49714851e+00 -4.04712629e+00 -5.96304703e+00 -6.10846043e+00\n",
      " -2.51290817e+01 -1.47034464e+01 -2.38807082e-01 -6.86778021e+00\n",
      " -2.36916542e+00 -6.87386847e+00 -9.56220531e+00 -7.31433392e+00\n",
      " -2.46656156e+00  6.36549473e-01 -3.87613982e-01 -1.97953529e+01\n",
      " -2.48995304e+01 -7.69259930e+00  1.45842636e+00  8.07437778e-01\n",
      "  6.39924049e+00 -2.01512299e+01 -5.37877464e+00  6.18821383e-01\n",
      " -7.15038061e+00 -1.36746712e+01  4.00920057e+00 -2.01209030e+01\n",
      " -2.31499624e+00 -1.15900683e+00 -1.36662388e+01  2.23515368e+00\n",
      " -2.00225296e+01 -1.06874537e+00  9.28866005e+00 -8.66107178e+00\n",
      "  2.29988670e+00 -9.02806854e+00 -1.15759945e+01 -4.31635380e+00\n",
      " -5.56346083e+00 -4.73789930e+00  1.50888991e+00 -4.75295544e+00\n",
      " -2.26937675e+00 -2.50455017e+01  1.59397101e+00  1.74144020e+01\n",
      "  1.34377205e+00 -1.10236721e+01 -9.23668480e+00 -6.75969887e+00\n",
      " -1.30153167e+00  1.48846436e+00 -8.75048923e+00 -5.83912134e+00\n",
      " -2.33279657e+00  9.72939193e-01  7.92927325e-01 -2.19526148e+00\n",
      "  2.19627094e+00 -2.40886736e+00 -7.08085299e+00  9.57227170e-01\n",
      "  4.82552195e+00 -4.29410076e+00 -2.12368742e-01 -6.58539724e+00\n",
      " -1.91397202e+00 -8.03238487e+00  3.24294281e+00  2.09205761e+01\n",
      " -2.20315857e+01 -5.91343737e+00 -3.49651909e+00 -2.38139391e+00\n",
      " -2.07569771e+01 -3.01855326e+00  1.68398798e+00 -1.77062798e+01\n",
      "  6.18521976e+00 -2.06970990e-01 -1.05200517e+00 -1.03458004e+01\n",
      "  5.46845865e+00 -4.93283749e+00 -5.66060019e+00  1.82728267e+00\n",
      "  9.25847292e-01 -4.32612896e+00 -8.22610664e+00  3.71336013e-01\n",
      "  6.32188129e+00 -1.19437580e+01 -1.19252217e+00 -1.66203518e+01\n",
      " -2.80578804e+00 -4.75769567e+00 -6.95120287e+00  9.94176960e+00\n",
      "  6.42842722e+00 -3.86058235e+00 -3.33270884e+00  7.77573633e+00\n",
      " -7.49720912e-03  3.07975626e+00  3.76721334e+00 -2.72874165e+00\n",
      " -2.12174034e+01 -1.35117626e+01 -3.58888912e+00 -4.56316620e-01\n",
      "  1.25129614e+01 -8.85580599e-01 -6.13437653e-01 -8.09566021e+00\n",
      " -3.74183655e+00 -6.91243839e+00 -5.00110054e+00 -2.31141472e+00\n",
      " -6.42350435e+00  1.65540719e+00 -1.29838238e+01 -2.06580601e+01\n",
      " -7.36274719e+00 -4.57247400e+00 -1.16865864e+01 -1.95593472e+01\n",
      " -2.05940104e+00 -4.32454205e+00  2.48698616e+00  9.13230610e+00\n",
      " -2.68938274e+01 -2.99969721e+00 -1.32435548e+00 -1.46856909e+01\n",
      " -7.28468478e-01 -2.28477898e+01 -2.15107975e+01  4.31699038e-01\n",
      " -7.30419350e+00 -4.89853525e+00 -4.18878031e+00 -8.92586261e-02\n",
      " -7.72362185e+00 -2.86230087e+00 -6.00059319e+00 -6.17268848e+00\n",
      "  8.02406132e-01  1.11934128e+01  2.33309498e+01 -5.34321451e+00\n",
      "  4.19511795e+00  3.61162090e+00 -4.78801394e+00 -4.06141233e+00\n",
      " -4.11256838e+00 -2.94517765e+01 -6.17323112e+00 -2.34193287e+01\n",
      " -2.87660618e+01 -4.45116663e+00 -3.57869148e+01  1.36637316e+01\n",
      " -1.20038605e+01 -1.46320467e+01  8.07987213e+00 -5.71653175e+00\n",
      " -1.06518764e+01 -2.85589962e+01 -2.50229397e+01 -2.22650108e+01\n",
      " -4.14325333e+00 -3.53013382e+01 -2.56334724e+01 -8.46575928e+00\n",
      " -3.13919592e+00 -2.12124004e+01 -2.76758556e+01 -1.42274818e+01\n",
      " -1.90730457e+01 -9.78403091e+00 -2.40132179e+01 -3.56384811e+01\n",
      "  1.77645719e+00 -3.23381996e+00 -6.35579348e+00 -3.51327252e+00\n",
      " -4.59103851e+01  3.89960074e+00 -1.71397381e+01 -9.70627975e+00\n",
      " -1.29242449e+01  5.84024750e-02  3.60246420e+00 -3.07311344e+00\n",
      " -1.27473145e+01 -1.23964367e+01  1.27685299e+01  2.34065666e+01\n",
      " -4.40267992e+00 -1.26162803e+00 -1.86476688e+01 -1.25884485e+01\n",
      " -2.88047256e+01 -2.85310745e+01  4.95380974e+00 -1.81954899e+01\n",
      "  7.68572235e+00  1.14344463e+01 -3.00321255e+01 -1.44300861e+01\n",
      " -3.27091675e+01 -3.46606865e+01 -1.24077272e+01 -3.87107015e+00\n",
      " -3.59115982e+01 -4.34396744e+00 -3.53013916e+01  1.30864525e+01\n",
      " -1.06106720e+01 -2.25806904e+01 -2.83223553e+01 -5.36297131e+00\n",
      " -1.14026833e+00 -8.02929783e+00 -1.49922743e+01 -1.04006469e+00\n",
      " -2.93572769e+01 -1.28248529e+01 -2.50200500e+01  3.52187920e+00\n",
      " -7.84994984e+00  4.24169016e+00 -1.86244905e+00 -2.95822964e+01\n",
      " -9.50558245e-01 -1.60835648e+00 -8.36138439e+00 -1.50729303e+01\n",
      "  2.11969614e+00 -6.52835655e+00 -9.26889801e+00 -1.62578440e+00\n",
      " -4.94301748e+00 -2.30659618e+01 -2.92180481e+01 -2.81612988e+01\n",
      " -1.72429199e+01 -5.31038809e+00 -2.57530823e+01 -2.18433628e+01\n",
      " -6.58854342e+00  1.27323761e+01 -5.95508575e+00 -1.06449947e+01\n",
      " -1.35074339e+01 -6.32379198e+00  2.96041965e-01  9.22614193e+00\n",
      " -3.92351227e+01  3.20667553e+00 -2.40879478e+01  3.74879336e+00\n",
      " -1.15556917e+01 -2.14147702e-01 -1.27248144e+01 -1.65647984e+00\n",
      " -2.96109295e+00  1.89163952e+01 -8.78374290e+00 -1.94265900e+01\n",
      " -3.56471634e+00 -2.70471144e+00]' has dtype incompatible with int64, please explicitly cast to a compatible dtype first.\n",
      "  preds[val_index] = model.predict(dval_i)\n"
     ]
    },
    {
     "name": "stderr",
     "output_type": "stream",
     "text": [
      "\r",
      " 50%|██████████████████████████████████████████████████████████████████████████                                                                          | 5/10 [01:08<01:09, 13.89s/it]"
     ]
    },
    {
     "name": "stderr",
     "output_type": "stream",
     "text": [
      "C:\\Users\\81809\\AppData\\Local\\Temp\\ipykernel_824\\3386215446.py:18: FutureWarning: Setting an item of incompatible dtype is deprecated and will raise an error in a future version of pandas. Value '[ 5.32558143e-01  1.68187094e+00  1.48450489e+01  3.56142092e+00\n",
      " -5.22117901e+00 -5.23710907e-01  1.92219830e+01  8.75518131e+00\n",
      "  1.01725473e+01  6.34602118e+00  1.77021992e+00  5.03289032e+00\n",
      "  6.57108355e+00  2.33839684e+01  1.91054630e+00  2.15156841e+01\n",
      "  2.20137367e+01 -1.02935448e+01  1.92377102e+00  3.25309813e-01\n",
      "  1.08191572e-01 -4.65225220e+00  2.51744080e+01  2.82382507e+01\n",
      "  1.10365934e+01  3.27414107e+00 -2.67508411e+00  8.96944618e+00\n",
      "  3.53538299e+00 -9.50912118e-01 -2.61088586e+00  5.11038828e+00\n",
      "  3.39556909e+00  4.17419720e+00  1.58307867e+01  1.84760273e+00\n",
      "  3.93486544e-02  2.03770618e+01 -1.94314587e+00  4.60463238e+00\n",
      "  2.28871226e+00 -3.40386820e+00 -1.68023849e+00  7.83828354e+00\n",
      " -5.65546322e+00 -8.65362358e+00  1.77397461e+01  4.58239365e+00\n",
      "  2.29385872e+01  6.86386633e+00  1.63444805e+00  5.74509192e+00\n",
      " -2.38555408e+00 -3.01456857e+00  1.14325750e+00  1.18015003e+01\n",
      "  1.35350094e+01  5.43447781e+00  2.40539026e+00  3.75224733e+00\n",
      "  2.26039410e+00  4.92641068e+00  6.51110411e+00  5.24662638e+00\n",
      " -1.66489792e+00 -8.36049318e-01  1.63583126e+01  6.71923399e+00\n",
      "  1.25624456e+01  2.73139706e+01  4.40342426e+00  2.52414913e+01\n",
      " -9.56048870e+00  1.16790829e+01  1.11371927e+01  4.78364497e-01\n",
      "  4.31435394e+00  2.68057919e+01  8.00262451e+00  2.22180271e+01\n",
      " -8.76005650e-01  8.93869019e+00  8.21054459e+00 -1.91691339e+00\n",
      "  2.85236931e+00  1.17624369e+01  2.44778252e+00  1.07529631e+01\n",
      " -1.92814887e+00 -1.88629007e+00  2.53659649e+01 -3.87746906e+00\n",
      " -3.41357255e+00 -2.64116025e+00  2.68850746e+01  2.84460396e-01\n",
      "  1.89894276e+01  2.69778669e-01  1.18734407e+01  2.34417534e+00\n",
      " -2.36159110e+00  3.77136421e+00  9.18677568e-01  1.62044735e+01\n",
      "  1.33177042e+01  2.02991257e+01 -4.45276737e+00  7.53592396e+00\n",
      " -2.75955796e+00  8.80379677e+00  1.14755573e+01  4.32020521e+00\n",
      " -1.58546352e+01 -3.63406157e+00 -2.36132097e+00  1.03306751e+01\n",
      " -1.46481144e+00  3.00608749e+01  1.54427738e+01  4.76182842e+00\n",
      "  9.15385056e+00  9.16545010e+00  1.79621906e+01  5.10325313e-01\n",
      "  1.25745373e+01  4.07336187e+00 -6.59879506e-01  8.29063797e+00\n",
      " -1.37312031e+00  2.77261066e+00  3.31019878e+00  3.17314768e+00\n",
      "  6.07736647e-01  7.41319132e+00 -1.29566011e+01 -9.06909645e-01\n",
      " -2.09300447e+00 -5.36193752e+00  5.43483305e+00  2.15534329e+00\n",
      " -1.61549413e+00  1.70580254e+01  1.26817217e+01 -5.56744337e+00\n",
      "  1.93210106e+01  1.80217781e+01  2.30778599e+01  4.43027258e+00\n",
      "  6.70155859e+00  4.97617245e+00 -1.31143284e+00  6.00270891e+00\n",
      "  3.57850170e+00  1.26363478e+01 -1.95233381e+00  2.21090317e+00\n",
      "  9.87166762e-01 -3.18073440e+00  3.40216851e+00  2.09024792e+01\n",
      "  5.77885151e+00  5.57141209e+00  1.34805584e+00  8.90981674e+00\n",
      "  4.29374069e-01 -1.77691519e-01  4.83318806e+00  5.55992413e+00\n",
      "  1.01733894e+01 -5.36328983e+00  2.15298214e+01  3.86034226e+00\n",
      "  1.20978155e+01  8.30189228e+00  6.35377789e+00 -2.29755330e+00\n",
      "  2.04030848e+00  1.11074162e+01  4.73493576e+00  2.37083340e+01\n",
      "  6.30958939e+00  1.06403217e+01  1.00988226e+01  3.45207715e+00\n",
      "  2.54365044e+01  6.67038107e+00  6.96568060e+00  5.85402203e+00\n",
      "  4.88551903e+00  8.97505760e+00  9.74829674e+00  9.08655357e+00\n",
      "  6.90902042e+00 -2.36739278e+00  1.77910175e+01 -1.12103856e+00\n",
      "  2.54074836e+00 -1.14912248e+00  4.55302668e+00  1.09596872e+01\n",
      "  3.25614128e+01 -1.29899251e+00  4.16929970e+01 -3.77027321e+00\n",
      "  1.45461349e+01 -1.13151455e+00  2.10437703e+00 -5.80181551e+00\n",
      "  8.90619659e+00  2.32735133e+00  1.36845293e+01  6.12159634e+00\n",
      " -7.90891552e+00 -1.53813946e+00  2.25032063e+01  2.21075974e+01\n",
      "  8.48989391e+00 -1.93306714e-01  3.28719978e+01  3.44127121e+01\n",
      "  5.40620041e+00  1.91844463e+01  9.36033344e+00  1.33332233e+01\n",
      "  1.66488094e+01 -6.77298880e+00  1.20936136e+01  7.82983637e+00\n",
      " -5.14498091e+00 -2.94805264e+00  2.00621057e+00 -6.38766956e+00\n",
      "  9.03215122e+00  4.29878759e+00  1.65278988e+01  3.33177719e+01\n",
      "  8.90087962e-01  3.17045364e+01  5.76572239e-01 -1.23953414e+00\n",
      "  9.56780240e-02  5.69363117e+00  5.46121597e+00  1.41564143e+00\n",
      " -5.75541735e+00 -1.15867287e-01  1.58114929e+01  4.56172943e+00\n",
      "  1.03911247e+01  1.34322491e+01  3.27893944e+01  3.34264016e+00\n",
      " -7.10809326e+00  1.47849016e+01  2.21495819e+01  1.21495094e+01\n",
      "  9.43646240e+00  8.06651306e+00  3.19970441e+00  1.06032240e+00\n",
      "  4.30604095e+01 -3.86218405e+00  2.51210785e+01 -4.00150585e+00\n",
      " -4.27066755e+00  1.63407669e+01  3.20339012e+01  6.46540403e+00\n",
      "  1.24228773e+01  1.10483484e+01 -2.76560616e+00  7.64954042e+00\n",
      "  1.55582743e+01  3.19938602e+01  1.61626446e+00  3.51088667e+00\n",
      "  6.81604147e+00 -2.53364253e+00  8.84413052e+00  5.01710987e+00\n",
      "  4.50308228e+01 -3.25135994e+00 -2.58332205e+00 -1.55845284e+00\n",
      "  2.97698555e+01 -5.91749811e+00  2.49783249e+01  2.10955124e+01\n",
      "  4.37978172e+00 -1.28577662e+01  1.13772840e+01  2.03159122e+01\n",
      "  9.17667580e+00  1.50466549e+00  7.08953905e+00  3.58552818e+01\n",
      " -4.28623676e+00  1.21414652e+01  5.04592514e+00  1.60814285e+01\n",
      "  3.80708909e+00  5.69159269e+00  4.61113358e+00 -9.33504105e+00\n",
      " -7.02813530e+00  1.52774000e+00 -1.01942425e+01 -8.64411056e-01\n",
      "  8.15094662e+00  1.12805939e+01  3.04138927e+01  1.51536770e+01\n",
      "  2.14409809e+01  7.02151203e+00  1.81184518e+00  2.08527832e+01\n",
      "  4.91611528e+00  8.01400471e+00  2.17740173e+01  1.50785227e+01\n",
      "  2.04061699e+01 -1.55445790e+00 -5.63242149e+00 -1.89219904e+00\n",
      " -2.30739765e+01 -6.20104885e+00 -1.19150591e+01 -2.14783764e+00\n",
      " -6.34090185e+00  1.58590984e+00 -5.55500841e+00 -5.36548042e+00\n",
      "  6.72937441e+00  4.14345217e+00  5.11438465e+00 -2.03159451e+00\n",
      "  2.14180470e+00 -5.36617184e+00 -3.00615883e+00 -8.84979486e-01\n",
      " -2.06739445e+01 -3.57731700e+00 -5.27067757e+00 -2.05163836e+00\n",
      " -1.23648345e+00 -2.43274593e+00 -2.34846950e+00  8.83143663e-01\n",
      " -9.72304916e+00 -1.85820179e+01 -2.83674316e+01 -3.42331934e+00\n",
      " -9.47096062e+00 -3.75578117e+00 -9.12635899e+00 -4.45600420e-01\n",
      "  4.44674104e-01 -4.11018944e+00 -9.94287682e+00 -1.75449312e+00\n",
      " -9.28589439e+00 -7.45605373e+00  1.65969670e+00 -4.87583542e+00\n",
      " -4.80533028e+00 -1.37041121e+01 -2.16010742e+01 -6.30872536e+00\n",
      " -1.67248237e+00 -2.03260016e+00 -5.63344669e+00  4.54769468e+00\n",
      "  3.19818854e+00 -6.61834955e+00  5.28274357e-01 -2.97270918e+00\n",
      " -1.41159830e+01 -4.83979416e+00 -3.76295120e-01 -1.46967707e+01\n",
      " -6.13898373e+00  4.97804499e+00 -7.09021521e+00 -8.44405746e+00\n",
      " -5.28876734e+00  4.20289135e+00  1.08026981e+00 -6.09197807e+00\n",
      " -9.52425194e+00  7.99887609e+00 -1.73973331e+01 -1.25802908e+01\n",
      " -4.48991269e-01 -5.24027681e+00 -1.61810410e+00 -1.18460503e+01\n",
      " -1.89424572e+01  2.47465110e+00  5.82119751e+00 -7.22101021e+00\n",
      "  4.40536022e+00 -1.84920673e+01 -1.11049299e+01 -5.54811859e+00\n",
      " -3.13838434e+00 -5.24297190e+00 -2.35565877e+00 -1.13426962e+01\n",
      " -8.35053349e+00 -2.43747425e+00 -1.45958891e+01 -1.03063374e+01\n",
      " -2.88861561e+00 -1.00041885e+01 -1.37549567e+00 -8.05897295e-01\n",
      " -3.38686538e+00 -1.11521645e+01 -1.84746895e+01  2.78487563e+00\n",
      " -2.38513050e+01 -1.24411821e+01 -4.44198751e+00 -1.64397955e+00\n",
      " -5.18365192e+00 -1.17417085e+00 -1.43331547e+01  4.25734997e+00\n",
      "  5.66914129e+00 -5.35987139e-01 -7.19637811e-01 -5.70056391e+00\n",
      " -3.20661235e+00 -7.04324150e+00  1.00948057e+01 -2.18569145e+01\n",
      " -2.02916908e+00 -6.59961462e+00 -1.56354547e+00 -4.82576698e-01\n",
      " -7.87934780e+00 -1.18888168e+01  2.89986634e+00 -4.99321127e+00\n",
      " -3.95816827e+00 -2.90465736e+00  1.64373226e+01 -2.06561065e+00\n",
      "  2.54682899e+00  1.35044937e+01 -1.58694715e+01  3.08644485e+00\n",
      " -1.58085690e+01  2.37612009e+00 -7.78998995e+00 -4.61985350e+00\n",
      "  8.94917101e-02 -1.09221005e+00 -2.56976652e+00 -3.28980923e+00\n",
      " -2.07343407e+01 -1.10871334e+01 -8.38566494e+00 -2.25786304e+01\n",
      "  7.70727158e+00 -1.36920977e+00  4.42420149e+00  3.73439431e+00\n",
      " -2.18115330e+01 -2.84541273e+00 -6.32013321e+00  1.05063353e+01\n",
      " -1.18416321e+00 -1.77402000e+01  1.06493819e+00 -4.84259748e+00\n",
      " -1.89063778e+01 -1.67628020e-01 -1.07376885e+00 -3.84376669e+00\n",
      "  4.72276926e-01 -1.06684389e+01  3.24436736e+00  5.67400634e-01\n",
      "  6.89348936e-01  5.06351566e+00 -1.31857338e+01  4.10567379e+00\n",
      " -2.50520229e+00 -3.68694544e+00 -8.81925583e+00  3.38586140e+00\n",
      " -2.77536659e+01 -2.83744788e+00 -9.87315464e+00  3.24368858e+00\n",
      " -3.60211587e+00  5.62862921e+00  3.67763609e-01  2.87786174e+00\n",
      " -3.70463800e+00 -5.05534554e+00  3.55402899e+00 -8.77424908e+00\n",
      " -6.40159321e+00  7.90052128e+00  1.18933344e+00  5.66126251e+00\n",
      "  6.67998672e-01 -1.78310375e+01 -3.17444491e+00 -6.99173212e+00\n",
      " -4.01400852e+00 -1.70724058e+00 -3.25721288e+00 -2.98838878e+00\n",
      " -1.83664131e+00  2.88754106e+00  2.42153416e+01 -2.02432442e+01\n",
      " -4.63144922e+00 -3.52190447e+00 -1.61122952e+01 -5.16753101e+00\n",
      "  9.85342789e+00 -2.89470530e+00  1.65714598e+00 -2.80292106e+00\n",
      " -9.33452511e+00 -9.88765049e+00 -7.08243179e+00 -3.95498967e+00\n",
      " -1.13910027e+01 -9.43948555e+00 -6.44380713e+00  4.46961451e+00\n",
      " -1.36959391e+01 -4.59394360e+00 -1.65580139e+01 -9.25048542e+00\n",
      " -2.48163166e+01  4.48720503e+00 -1.03403282e+01 -4.10841322e+00\n",
      "  1.15005696e+00 -9.11316013e+00 -2.81169300e+01 -3.18569374e+01\n",
      "  1.47109737e+01 -8.36466026e+00  5.49892128e-01 -1.67265689e+00\n",
      " -4.72191620e+00 -2.35879269e+01 -2.36398411e+01 -6.21512508e+00\n",
      " -8.97388935e+00  5.25466204e+00 -1.87863064e+01 -1.64544907e+01\n",
      " -6.68391705e+00 -4.38187265e+00 -2.31629848e+01 -1.13715668e+01\n",
      "  5.78586674e+00  5.83952761e+00  5.72855651e-01 -5.23114443e+00\n",
      " -2.60777569e+01 -1.07644348e+01 -1.60745049e+01  2.09988194e+01\n",
      " -1.68276062e+01  6.03726673e+00 -1.42377977e+01 -1.19633312e+01\n",
      " -3.49363441e+01 -7.18050051e+00 -2.76762080e+00 -1.19499075e+00\n",
      " -1.99743390e+00 -7.66136742e+00 -6.34096479e+00 -1.55792313e+01\n",
      " -1.64239483e+01 -3.05911980e+01  1.59808469e+00 -1.63169556e+01\n",
      " -3.41777687e+01 -7.30623198e+00 -2.65992184e+01 -1.66988869e+01\n",
      "  7.80389977e+00 -1.28995094e+01 -2.00967941e+01 -1.45999756e+01\n",
      " -4.06546164e+00 -1.34158792e+01 -1.06212196e+01 -3.41088791e+01\n",
      "  7.81085372e-01 -5.12605190e+00 -3.13966346e+00 -1.40257370e+00\n",
      " -2.93645859e+01 -2.73539505e+01 -2.63938770e+01 -5.70575762e+00\n",
      " -4.69183235e+01  1.68811345e+00 -3.84469604e+01 -1.45648468e+00\n",
      "  4.95917511e+00 -1.10867844e+01  8.32192802e+00  8.25697422e+00\n",
      " -6.92807484e+00 -3.24072533e+01  1.34976888e+00 -3.75893478e+01\n",
      "  3.20784402e+00 -5.01503515e+00 -1.13324938e+01 -1.78132553e+01\n",
      " -2.24461575e+01 -3.18668175e+01  1.35675468e+01 -2.21956921e+00\n",
      " -1.93797266e+00 -2.62220383e+01 -5.89439154e+00 -1.86243362e+01\n",
      " -2.85865021e+01 -2.49054813e+00  5.14620543e-01 -7.02943563e+00\n",
      " -7.44809818e+00 -8.49175930e+00  1.64510918e+00 -8.50711155e+00\n",
      " -3.88297386e+01 -7.59410381e+00 -1.23249254e+01 -6.06300497e+00\n",
      " -1.16730814e+01 -1.96209774e+01]' has dtype incompatible with int64, please explicitly cast to a compatible dtype first.\n",
      "  preds[val_index] = model.predict(dval_i)\n"
     ]
    },
    {
     "name": "stderr",
     "output_type": "stream",
     "text": [
      "\r",
      " 60%|████████████████████████████████████████████████████████████████████████████████████████▊                                                           | 6/10 [01:20<00:53, 13.41s/it]"
     ]
    },
    {
     "name": "stderr",
     "output_type": "stream",
     "text": [
      "C:\\Users\\81809\\AppData\\Local\\Temp\\ipykernel_824\\3386215446.py:18: FutureWarning: Setting an item of incompatible dtype is deprecated and will raise an error in a future version of pandas. Value '[ 4.17430496e+00  1.30603943e+01 -5.26849413e+00  9.83526325e+00\n",
      "  3.93148971e+00  2.51945820e+01  8.13485622e+00  1.61915541e+00\n",
      "  5.48823261e+00  3.91672540e+00  2.32447481e+00  1.75752890e+00\n",
      "  7.09100783e-01  6.32461071e+00 -8.53150129e-01  2.07927284e+01\n",
      "  2.23820171e+01 -8.79570484e+00  5.70345974e+00 -1.14061904e+00\n",
      "  5.96057749e+00  6.33719683e-01 -4.92778730e+00  5.34864378e+00\n",
      "  7.47738457e+00  1.72827511e+01 -1.14079142e+00  2.86405659e+01\n",
      "  8.59041500e+00 -2.86500573e+00  3.50971389e+00  1.06437225e+01\n",
      "  1.47955427e+01  1.04079113e+01  6.47050953e+00  1.27217650e+00\n",
      "  1.64654102e+01  1.35161245e+00  1.68108070e+00  4.84021157e-01\n",
      "  3.02998990e-01  2.85729855e-01  7.96313620e+00  1.62336421e+00\n",
      "  6.55184364e+00  1.72641964e+01  1.39666071e+01  2.57690787e+00\n",
      " -2.60472345e+00 -1.45354033e+00  6.58795738e+00 -1.28871930e+00\n",
      "  1.25074472e+01 -1.83998442e+00 -2.16525126e+00  1.07347994e+01\n",
      "  2.52617378e+01  2.58062859e+01 -2.95139164e-01  5.56361008e+00\n",
      "  8.85970592e+00 -5.48430967e+00  8.73381901e+00  2.93799186e+00\n",
      "  4.74922508e-01 -2.48395729e+00  1.89382076e+01  4.97308254e+00\n",
      "  1.49632988e+01  1.96616211e+01 -7.40071297e+00  2.12536812e+00\n",
      "  6.38781977e+00  1.77350788e+01 -1.84692335e+00  1.83446064e+01\n",
      "  1.02024021e+01  1.17086678e+01  5.35870552e+00 -6.82491064e-01\n",
      "  7.20227957e+00  1.86101687e+00  1.58867569e+01  1.02390165e+01\n",
      " -2.84172893e+00 -4.78046507e-01 -1.82994381e-01 -4.48754072e+00\n",
      "  2.72372913e+00  1.54928169e+01 -1.59094083e+00 -4.73408127e+00\n",
      "  2.33535728e+01  5.75430632e+00  1.51818485e+01 -9.66568184e+00\n",
      "  1.35565166e+01  3.80153584e+00  1.23587141e+01 -7.83143091e+00\n",
      "  3.75846624e+00  9.99174976e+00 -3.26089573e+00  7.62192011e-01\n",
      "  1.24676113e+01  3.03296208e+00 -4.30039310e+00  2.43781519e+00\n",
      " -3.08837175e+00  1.88964117e+00  1.46198161e-02  6.04216719e+00\n",
      "  7.73484516e+00  2.60192680e+01 -3.35398197e+00 -9.39562893e+00\n",
      " -4.78537464e+00  5.15580130e+00 -1.64774430e+00  2.96862388e+00\n",
      "  7.35037613e+00  1.18687878e+01 -1.32386756e+00  4.25853968e+00\n",
      "  5.62236309e+00  6.46586537e-01  5.80470562e+00  1.66214924e+01\n",
      " -2.42134809e+00 -1.46946740e+00  6.28728104e+00 -8.54673535e-02\n",
      "  6.45416558e-01  1.85751486e+00  3.26871228e+00  1.19884758e+01\n",
      "  3.23270845e+00  5.78473043e+00  1.05946445e+00 -9.74976444e+00\n",
      "  2.18914814e+01  3.53407830e-01  3.53140330e+00  9.09586906e+00\n",
      "  1.64788513e+01 -3.60497713e+00 -3.16315681e-01  1.26328173e+01\n",
      "  1.28296814e+01 -2.27612758e+00 -3.82232785e-01  4.87989569e+00\n",
      "  2.96669436e+00 -5.46089602e+00  9.61413002e+00  1.37869024e+01\n",
      "  4.34618187e+00  9.86390948e-01 -3.36296058e+00 -2.85653448e+00\n",
      "  5.06531191e+00  5.20841312e+00  2.30361099e+01  2.47714090e+00\n",
      "  5.45883036e+00  1.12257159e+00  1.58771539e+00  1.71023426e+01\n",
      "  3.41599441e+00 -6.03431702e-01  5.83712006e+00  2.99022436e+00\n",
      "  7.92158890e+00  6.52420187e+00 -4.65105355e-01  3.48132181e+00\n",
      "  1.74746180e+00  2.46693707e+01  6.80073500e+00 -5.11475801e+00\n",
      "  7.44329309e+00  1.00379896e+00  6.49924660e+00  9.19413185e+00\n",
      "  2.38471394e+01  1.90763226e+01  4.35064077e+00  2.11568623e+01\n",
      "  1.69122849e+01  1.58940744e+00  4.45342445e+00 -3.91315532e+00\n",
      "  1.02943182e+01  1.65384178e+01  2.99492359e-01  3.67691231e+01\n",
      "  1.55510540e+01 -8.32034969e+00  6.17544079e+00 -4.47224426e+00\n",
      "  1.44675264e+01  1.06895008e+01  3.78511124e+01  6.98098087e+00\n",
      " -6.90935075e-01  2.40744514e+01  6.28582907e+00  9.32766342e+00\n",
      " -1.89285624e+00 -3.21461248e+00  9.47355652e+00  7.78398228e+00\n",
      " -1.15853062e+01  3.56263947e+00  2.50430679e+01  4.63212347e+00\n",
      " -2.81698078e-01 -3.72462034e-01  9.01589108e+00  4.64327335e-01\n",
      " -7.39838552e+00  1.20036850e+01  2.71566639e+01  3.46394897e+00\n",
      "  1.18943679e+00  2.22069817e+01  1.44529953e+01  8.84796715e+00\n",
      "  6.15254021e+00 -8.60256577e+00  4.49489517e+01  1.10435593e+00\n",
      "  9.54286194e+00  2.23425655e+01  1.47693052e+01  3.15788231e+01\n",
      " -5.92338026e-01  7.43754148e+00  7.14296579e+00  3.60819817e+01\n",
      "  3.52715607e+01  7.48195744e+00  4.97693682e+00  1.75794296e+01\n",
      "  1.64786804e+00  2.11940145e+00  2.98216724e+01 -2.60480571e+00\n",
      " -1.14092663e-01  1.18457603e+01  2.00686951e+01  1.22896452e+01\n",
      "  1.73224583e+01  1.52914419e+01  1.34318914e+01 -6.54529572e+00\n",
      "  1.30408411e+01  2.31630445e+00  3.77153349e+00  1.54019489e+01\n",
      "  1.03442879e+01 -4.29746103e+00  4.05749626e+01  3.61737823e+01\n",
      " -1.00438185e+01  7.86390734e+00  2.86399698e+00  1.28903332e+01\n",
      "  1.07950821e+01  3.03748016e+01  1.81383533e+01  4.53036385e+01\n",
      " -1.77132845e-01  2.98004169e+01  2.20631390e+01  7.18705130e+00\n",
      "  2.36688118e+01  4.76537609e+00 -1.03277664e+01  5.26559639e+00\n",
      " -6.31856823e+00  1.81161594e+01  8.52113724e+00  4.16897154e+00\n",
      "  2.79387112e+01  3.64094086e+01 -4.34086919e-01  7.29452229e+00\n",
      "  1.89727535e+01  2.20283947e+01  2.00383244e+01  5.36603594e+00\n",
      "  5.63932133e+00  2.74299765e+00 -6.56362343e+00 -1.12636006e+00\n",
      "  2.43990879e+01  3.64862466e+00  3.18389835e+01  2.84120345e+00\n",
      " -3.08010906e-01  2.29386234e+01 -3.56707501e+00  2.26074390e+01\n",
      "  2.76761265e+01  5.29883480e+00  1.03562469e+01  1.30652485e+01\n",
      " -4.16772556e+00 -1.44937935e+01 -1.09556332e+01 -8.85003185e+00\n",
      " -5.32581329e+00 -1.18714619e+01 -6.21680307e+00  1.92067444e+00\n",
      " -6.18292093e+00 -7.21914577e+00 -7.85980940e+00  3.44596124e+00\n",
      "  5.11631203e+00 -1.28505878e+01 -2.14824524e+01 -2.15360603e+01\n",
      " -6.72212839e+00  7.73702002e+00 -4.87886190e+00 -1.10122216e+00\n",
      " -6.03131771e+00  4.80891275e+00  9.56770241e-01  2.64916468e+00\n",
      " -6.89639759e+00 -2.22720890e+01 -1.69165096e+01 -9.87622356e+00\n",
      " -6.00350189e+00 -7.20533466e+00 -1.67719591e+00  6.24729013e+00\n",
      "  7.20657110e+00  2.44002968e-01  2.42015028e+00 -7.16839647e+00\n",
      " -3.87553883e+00 -9.44574928e+00 -1.09291420e+01  2.94615602e+00\n",
      "  5.81453562e+00  6.63710546e+00 -2.11622887e+01  1.07317047e+01\n",
      "  6.64416492e-01 -1.53414879e+01 -2.50949116e+01 -9.11296368e-01\n",
      " -4.41275120e+00 -7.52504539e+00  1.08278608e+00 -2.05676842e+00\n",
      " -3.18992090e+00 -3.23230243e+00  1.37069798e+00 -5.79161072e+00\n",
      " -6.51561975e-01 -2.75936756e+01  1.27605474e+00 -1.67467690e+01\n",
      " -2.32978687e+01 -1.91100883e+01 -1.98733759e+00  2.43496227e+00\n",
      " -1.13823948e+01 -5.26433897e+00 -3.83873320e+00 -4.73060846e+00\n",
      " -2.89826989e+00 -4.97921133e+00  2.45864868e+00 -6.70581484e+00\n",
      " -1.79161966e+00 -1.63645592e+01  8.11419487e-02 -6.73814392e+00\n",
      " -8.44861317e+00  4.10839319e+00 -2.69452357e+00  1.51428356e+01\n",
      " -5.41944122e+00  2.07178664e+00  1.68099833e+00 -9.58538723e+00\n",
      " -1.43109846e+00  1.09048815e+01  4.90595102e+00 -3.63034010e-01\n",
      "  7.04158020e+00 -4.61717987e+00 -5.08367538e+00  2.10304642e+00\n",
      " -2.78185010e+00 -3.38718486e+00  3.01291442e+00 -2.43021507e+01\n",
      " -1.83836460e+01 -3.01808906e+00 -5.06642437e+00 -2.67254877e+00\n",
      " -7.43039179e+00  5.06195307e+00  5.13491344e+00  1.88274407e+00\n",
      "  2.86922359e+00  2.99904251e+00 -9.97858238e+00  7.89725423e-01\n",
      " -2.23979759e+01 -5.30163002e+00 -1.28737087e+01 -6.50724697e+00\n",
      " -2.99268460e+00  4.73936701e+00 -2.99860973e+01 -9.41097641e+00\n",
      "  1.20038805e+01 -1.53494987e+01  5.15412378e+00 -1.52431698e+01\n",
      "  5.79803514e+00 -1.80918658e+00  2.43152785e+00 -4.80813074e+00\n",
      " -5.73466730e+00 -2.55221772e+00 -5.81939316e+00 -1.17149582e+01\n",
      " -1.22636385e+01  5.92970669e-01 -1.25784044e+01  1.99984467e+00\n",
      " -2.01702857e+00 -2.19033699e+01 -5.16911077e+00 -8.55831528e+00\n",
      " -4.90634680e+00 -1.16517220e+01 -2.14705982e+01  2.04380012e+00\n",
      " -3.88726592e+00  7.01868176e-01 -3.49654222e+00 -6.10530710e+00\n",
      " -3.30224538e+00 -3.48377419e+00  7.11699069e-01  1.68558903e+01\n",
      "  1.00028968e+00 -2.86301279e+00 -2.02314758e+01 -1.02159214e+01\n",
      " -3.14915109e+00 -3.63202906e+00 -8.51669693e+00 -6.97890234e+00\n",
      " -8.08345890e+00 -4.11029339e+00 -2.13359280e+01  5.21335793e+00\n",
      "  4.18266106e+00 -2.16801953e+00  5.06570339e+00  5.53194098e-02\n",
      " -4.89784956e+00 -1.40428686e+00 -1.46744668e+00 -5.50716829e+00\n",
      "  2.15085483e+00 -1.65577757e+00  5.14444733e+00 -2.38892889e+00\n",
      " -3.80494177e-01  4.68319941e+00 -1.12399828e+00  1.43212819e+00\n",
      " -3.23308158e+00 -2.18277664e+01 -1.59102077e+01 -3.73249221e+00\n",
      " -2.39450665e+01  1.44516408e-01 -1.26009035e+01 -6.00654364e+00\n",
      "  5.84915686e+00 -3.76562071e+00 -7.57909584e+00 -1.19749107e+01\n",
      " -8.82684422e+00 -1.32455122e+00 -1.73900433e+01  2.41056620e-03\n",
      " -4.89015007e+00 -4.34859037e+00 -4.62237787e+00  8.33232689e+00\n",
      "  6.18164587e+00 -4.57371807e+00 -4.16081142e+00 -2.03618670e+00\n",
      " -2.89599552e+01 -4.16587868e+01  1.34262943e+00 -1.27345109e+00\n",
      " -5.61354017e+00  4.77171564e+00 -3.88851190e+00 -4.52022791e+00\n",
      " -3.43102875e+01 -3.62594843e+00 -1.36715412e+01  4.78373241e+00\n",
      "  1.02619896e+01 -1.02010489e+01 -1.46535454e+01 -6.88881254e+00\n",
      " -3.17563057e+00 -2.63093243e+01 -3.35545921e+01 -2.49372177e+01\n",
      " -3.67544136e+01 -1.42526560e+01 -1.74051228e+01 -3.38551369e+01\n",
      " -2.84849854e+01  8.65172291e+00 -2.08752441e+01 -7.56558228e+00\n",
      "  6.66320175e-02  3.44834542e+00 -5.00201464e+00  5.17022800e+00\n",
      " -1.77511418e+00 -2.99879704e+01 -1.33706837e+01  7.67974794e-01\n",
      "  5.58276081e+00 -2.86812997e+00  2.50024390e+00 -1.64275777e+00\n",
      " -2.96774921e+01 -1.91637397e+00 -5.70022058e+00 -4.93339491e+00\n",
      " -1.68310680e+01 -5.73176813e+00  4.95772314e+00  7.58331013e+00\n",
      " -6.51227999e+00 -2.33343792e+01 -1.43558378e+01 -1.41131258e+01\n",
      " -2.55335021e+00 -1.37659216e+01  1.41720843e+00 -3.79135942e+00\n",
      " -1.12910891e+01 -3.50404434e+01 -5.64946890e+00  1.40962601e+00\n",
      "  5.56025743e+00 -1.66761856e+01 -5.21025896e+00 -2.48910389e+01\n",
      " -2.43374100e+01 -2.94724350e+01 -7.22778416e+00 -1.17502728e+01\n",
      " -2.48598456e+00 -1.50686443e+00 -3.03347731e+00 -2.97602577e+01\n",
      " -1.23726997e+01  4.30598068e+00 -1.18305521e+01 -3.41719246e+01\n",
      " -3.30926389e-01 -1.34162073e+01 -2.11309242e+00 -2.60534840e+01\n",
      " -7.20929861e+00 -3.12383592e-01 -2.88903189e+00 -6.59615040e+00\n",
      " -9.53925514e+00 -3.34442177e+01  1.15530694e+00 -2.71877823e+01\n",
      "  1.51819658e+00 -1.21634502e+01 -2.27248669e+01 -3.10006313e+01\n",
      " -1.92284946e+01 -4.38787699e+00 -2.53903413e+00 -1.43283529e+01\n",
      " -1.95512199e+01 -2.54557209e+01  1.23849595e+00 -4.53904114e+01\n",
      " -3.04294701e+01 -1.32950211e+01 -3.34993820e+01 -3.00064278e+00\n",
      " -2.13644981e+01  1.07675972e+01 -1.36265059e+01 -9.48350334e+00\n",
      "  4.90025806e+00 -1.80073910e+01 -5.40960014e-01 -6.51387453e+00\n",
      "  7.23764539e-01  1.21620214e+00 -3.45131660e+00 -3.03130016e+01\n",
      " -5.25354290e+00 -1.03042831e+01 -1.20768633e+01 -5.10811090e+00\n",
      "  2.36347065e+01 -3.36313725e+00 -3.40900230e+01 -3.02303104e+01\n",
      " -3.70733070e+00  3.55806971e+00 -4.00962334e+01  1.61283672e+00\n",
      " -3.78624763e+01 -2.28523026e+01 -1.86649437e+01 -1.35961637e+01\n",
      " -1.35911617e+01 -1.87524567e+01 -9.68794918e+00 -1.88820095e+01\n",
      " -3.15853715e+00  8.70695829e-01]' has dtype incompatible with int64, please explicitly cast to a compatible dtype first.\n",
      "  preds[val_index] = model.predict(dval_i)\n"
     ]
    },
    {
     "name": "stderr",
     "output_type": "stream",
     "text": [
      "\r",
      " 70%|███████████████████████████████████████████████████████████████████████████████████████████████████████▌                                            | 7/10 [01:35<00:41, 13.90s/it]"
     ]
    },
    {
     "name": "stderr",
     "output_type": "stream",
     "text": [
      "C:\\Users\\81809\\AppData\\Local\\Temp\\ipykernel_824\\3386215446.py:18: FutureWarning: Setting an item of incompatible dtype is deprecated and will raise an error in a future version of pandas. Value '[-6.17167473e-01 -4.35674620e+00  3.72719145e+00  1.26559794e+00\n",
      "  1.77939720e+01  1.05275440e+00 -9.63797390e-01  1.07968283e+01\n",
      " -3.78563046e+00  4.06749821e+00 -2.33574247e+00  6.16877127e+00\n",
      "  2.96698332e+00  1.64259970e+00  6.68371964e+00  6.98390055e+00\n",
      " -8.11419487e+00 -5.34656286e+00  3.49262476e+00  9.62397480e+00\n",
      " -1.14034943e-01 -8.42481256e-01  2.51619911e+00  2.95869064e+01\n",
      "  1.08899364e+01  1.95337176e+00 -4.76191998e+00  1.82858696e+01\n",
      " -8.99117440e-02  5.41380501e+00  2.18843889e+00 -2.94859147e+00\n",
      "  6.23512316e+00 -1.94712746e+00  9.03456020e+00  1.05044346e+01\n",
      "  7.52317047e+00 -9.13500309e+00  7.23112392e+00  4.68647003e-01\n",
      " -5.18854499e-01  5.14900875e+00  1.75743046e+01  1.12545929e+01\n",
      "  2.29009876e+01 -2.27693224e+00  7.57517293e-02  1.40518389e+01\n",
      "  5.90959120e+00  2.11221814e+00  9.70889854e+00  4.71989965e+00\n",
      " -4.90019464e+00 -1.33988678e+00  6.12262630e+00 -2.40929699e+00\n",
      "  1.88035095e+00  6.72933388e+00  4.68139458e+00  4.10358047e+00\n",
      "  1.18112068e+01  1.08638000e+01 -3.24640274e+00 -3.88006926e+00\n",
      "  3.74222732e+00  2.94740963e+00 -1.47232270e+00  9.62596655e-01\n",
      "  1.94354553e+01  8.32570744e+00  5.69285870e+00  1.85031567e+01\n",
      "  7.41144562e+00 -1.06050491e+00 -1.81570697e+00 -4.59186840e+00\n",
      "  8.60205841e+00  7.24350834e+00  1.22148752e+01  8.84986460e-01\n",
      "  3.77026963e+00  7.15644550e+00  7.18801212e+00  1.19157648e+01\n",
      "  4.54717875e+00  2.58500171e+00  3.88051605e+00  2.73888803e+00\n",
      "  2.15432644e+01  1.54286985e+01 -4.29104298e-01  8.22577477e+00\n",
      " -1.13702517e+01  3.90562224e+00  6.29518509e+00  2.88187742e-01\n",
      "  1.48305565e-01  9.59438133e+00 -2.03579998e+00  2.09144154e+01\n",
      "  3.22774947e-01 -2.03572392e+00 -1.36126924e+00  2.30306506e+00\n",
      "  9.87256110e-01  7.99816608e+00 -6.53536367e+00  1.26677980e+01\n",
      " -2.01440215e+00 -8.77703130e-01 -6.31240034e+00 -2.89537501e+00\n",
      "  7.33686447e+00 -2.98465824e+00 -1.44185185e+00  8.44847679e+00\n",
      " -6.37448931e+00 -1.46249756e-01 -1.31758583e+00 -4.09646225e+00\n",
      "  7.66469526e+00  1.38388767e+01 -3.14297724e+00 -1.16355979e+00\n",
      "  2.69948173e+00 -5.13349056e+00  2.44835377e+00  6.53428936e+00\n",
      "  4.94667590e-01  1.71751308e+01  1.50898685e+01  3.88942790e+00\n",
      " -3.61369324e+00 -6.11388302e+00 -2.28588080e+00  2.14078617e+00\n",
      "  4.77775335e+00 -5.59500074e+00  3.17464399e+00  1.28884754e+01\n",
      " -2.14844012e+00 -3.16664696e+00 -3.30439389e-01  4.82352585e-01\n",
      "  5.07023716e+00 -6.30131626e+00  8.60821533e+00  1.63002644e+01\n",
      "  1.50417795e+01  1.03953743e+01  1.05044627e+00  1.19173574e+01\n",
      "  1.07512879e+00  1.19118161e-01  9.47836781e+00  2.29903774e+01\n",
      " -8.90628219e-01 -8.36368084e+00  4.20200396e+00  6.21402884e+00\n",
      "  3.49078131e+00 -5.13846517e-01  1.84041643e+00  1.04971390e+01\n",
      " -3.98009109e+00  1.49050164e+00 -1.76697083e+01  1.75378208e+01\n",
      " -4.40940571e+00  2.15353394e+01  2.86351681e+00  1.05171549e+00\n",
      "  9.62525940e+00  6.76822996e+00  1.33346052e+01  3.61722159e+00\n",
      "  4.99382019e+00  2.04013062e+00  1.88450146e+00 -1.57073379e-01\n",
      "  3.93462801e+00 -1.27034092e+00  5.20542717e+00 -4.15422821e+00\n",
      "  2.11212788e+01  2.22829990e+01  6.77131057e-01  2.74414802e+00\n",
      " -5.35431242e+00  6.31225538e+00  4.95974445e+00 -3.76377749e+00\n",
      "  4.41042852e+00  7.27786779e+00  1.01411200e+01  2.99825478e+00\n",
      "  2.08452530e+01 -3.34093547e+00  1.04053335e+01  2.55855427e+01\n",
      " -3.72958302e+00 -5.15425205e-01 -3.00034475e+00 -2.16763282e+00\n",
      " -4.00293827e+00  2.39419436e+00  4.48510122e+00 -1.98381484e+00\n",
      "  1.59238119e+01 -3.38569045e+00 -2.02620625e+00  1.12094510e+00\n",
      "  1.89458199e+01  2.39518213e+00  3.86436510e+00  1.05554705e+01\n",
      "  2.48137164e+00 -1.50954866e+00  4.81895494e+00  2.04362488e+01\n",
      "  2.82759247e+01 -2.62907863e+00  2.61166592e+01  3.88203120e+00\n",
      "  2.86479735e+00  2.02758980e+01  5.40512180e+00 -1.35716662e-01\n",
      "  2.01680202e+01 -1.02546453e+01 -1.03887005e+01 -3.92228866e+00\n",
      "  5.87620401e+00 -4.96485996e+00  3.44611435e+01  1.49334641e+01\n",
      "  1.99768009e+01  4.33771181e+00  2.03504219e+01  5.83194017e+00\n",
      "  6.37798452e+00 -3.40744829e+00  3.13985920e+01  1.40521498e+01\n",
      "  2.79453487e+01  1.03040028e+00 -1.88650012e+00  2.81025810e+01\n",
      "  1.23204651e+01  2.37750301e+01  1.95831184e+01  1.44619532e+01\n",
      "  1.99928875e+01  5.10203838e+00  1.25981541e+01  1.79717112e+00\n",
      "  1.67941589e+01 -8.78806305e+00  8.14095688e+00 -1.46917129e+00\n",
      "  1.39837003e+00  1.19040442e+01 -5.61417961e+00  2.51120243e+01\n",
      "  2.74791145e+01  8.38630867e+00  1.41767063e+01  9.28962231e+00\n",
      " -2.56522357e-01  1.40637484e+01  3.60826731e+00  1.67396374e+01\n",
      "  1.03358495e+00  1.65116234e+01  1.50674305e+01 -4.28985566e-01\n",
      " -8.51485920e+00  6.12172699e+00  1.90563698e+01 -1.22825766e+01\n",
      "  8.17224312e+00  2.10305071e+00  3.00404720e+01  7.54501104e-01\n",
      " -9.73162460e+00  5.74127150e+00 -9.38330173e+00  5.08494520e+00\n",
      "  2.49196100e+00 -5.45888662e-01  3.01929893e+01  1.94021435e+01\n",
      "  2.70696659e+01  5.10285711e+00  4.74299240e+01  1.24471865e+01\n",
      "  3.73090744e+01  1.49807053e+01  1.71056771e+00  5.54347420e+00\n",
      "  2.07662449e+01  7.27507877e+00  1.26494198e+01 -8.82057667e+00\n",
      " -8.52891064e+00  7.94113541e+00  1.62511957e+00  3.22344666e+01\n",
      "  1.08813119e+00 -1.34335327e+00 -2.57706118e+00  2.56065428e-01\n",
      " -1.59992492e+00  1.59564571e+01  4.88759565e+00  7.01444244e+00\n",
      "  3.03786793e+01 -9.92494011e+00  9.05208874e+00  1.28301239e+01\n",
      "  8.43052864e+00  2.10816956e+01 -9.20618439e+00  2.71574154e+01\n",
      " -1.45139055e+01  4.05193367e+01 -6.88260555e+00  3.06307335e+01\n",
      "  7.05101347e+00  1.96414108e+01  2.08032742e+01  1.97803259e+00\n",
      " -1.20877085e+01  2.59450836e+01  1.02237406e+01  1.16515255e+01\n",
      "  6.77440882e+00  1.76550426e+01  3.79333115e+00 -1.10875988e+01\n",
      "  1.42882198e-01  2.50811815e+00 -1.09147205e+01 -5.99189997e+00\n",
      " -1.04572284e+00 -7.42362356e+00 -5.99724865e+00 -4.80556965e+00\n",
      " -8.10131550e+00 -6.11264658e+00 -8.37197495e+00 -2.08688374e+01\n",
      "  9.65334034e+00 -6.68271351e+00 -2.01765323e+00 -5.94418240e+00\n",
      " -2.82365620e-01 -2.54345322e+00 -3.93645263e+00 -3.56394470e-01\n",
      "  8.43998715e-02 -6.07429886e+00 -9.93829632e+00 -2.34433403e+01\n",
      " -3.41518712e+00  1.27670157e+00 -5.29653072e+00 -2.60719929e+01\n",
      " -5.53016758e+00 -5.52125168e+00  4.46761465e+00 -2.12840509e+00\n",
      " -1.00731068e+01 -1.03354466e+00 -9.92114830e+00 -7.26635981e+00\n",
      "  5.61495495e+00  1.28508246e+00  1.18874085e+00 -3.10463953e+00\n",
      " -6.04388762e+00 -8.36707306e+00 -1.02497044e+01 -1.34371099e+01\n",
      " -4.17102814e+00  1.57559633e+00 -1.48997295e+00 -2.28379250e+00\n",
      " -5.92026997e+00 -7.47814846e+00 -1.18909636e+01  2.16332078e+00\n",
      " -1.03720074e+01 -5.12511206e+00 -5.60661983e+00 -3.33569884e+00\n",
      "  1.00591803e+00 -8.15181160e+00 -6.93988466e+00 -2.39997330e+01\n",
      " -7.25780916e+00 -7.02775812e+00  7.37806916e-01 -1.47446852e+01\n",
      " -2.48335114e+01 -7.23745644e-01 -2.01193285e+00  1.03229170e+01\n",
      " -1.93287373e+01 -1.20614891e+01 -1.28863811e+00 -1.95798569e+01\n",
      " -4.17219734e+00 -1.99514240e-01  5.05568695e+00 -1.19558630e+01\n",
      " -7.64026356e+00  1.14773836e+01 -1.65528584e+01 -1.76545677e+01\n",
      " -4.54642200e+00  4.29565668e+00 -5.56501436e+00  1.70194602e+00\n",
      " -9.83161640e+00 -5.42811775e+00 -1.58519392e+01  6.45876932e+00\n",
      "  8.75501537e+00 -4.60864830e+00  1.74937904e+00 -1.64663851e+00\n",
      " -2.11955452e+00 -1.25334282e+01  1.27904787e+01 -2.12143154e+01\n",
      " -5.33655691e+00 -1.28688490e+00 -2.31039047e+01 -1.83050880e+01\n",
      " -1.00670280e+01 -2.41891289e+00 -1.68549132e+00  8.28977466e-01\n",
      "  1.43792210e+01  6.00419140e+00 -1.74943233e+00 -6.76098442e+00\n",
      " -4.15371799e+00  8.26978534e-02  1.04701509e+01  1.73154182e+01\n",
      "  4.90032768e+00 -9.83823395e+00 -6.00879145e+00 -3.91186523e+00\n",
      "  1.48869359e+00  2.14742041e+00 -2.18580227e+01  6.19827271e+00\n",
      " -4.26346958e-02 -5.92929542e-01 -2.22566828e-01 -1.39312000e+01\n",
      " -1.65532148e+00  5.79644251e+00 -1.86566544e+01 -1.58896399e+01\n",
      " -2.19532108e+01 -1.05557060e+01 -1.16884861e+01  1.07382889e+01\n",
      " -2.36822681e+01 -3.18260193e+00 -4.07338411e-01  6.23258638e+00\n",
      " -4.68453884e+00  3.96693134e+00  9.20182586e-01 -1.93556920e-01\n",
      " -2.95675421e+00 -7.67632532e+00 -1.87631512e+00 -1.81044502e+01\n",
      " -5.49973726e+00 -2.65263557e+00 -5.24386120e+00 -2.13084936e+00\n",
      "  5.44085073e+00 -5.77606773e+00  7.71426141e-01 -7.57955217e+00\n",
      " -1.80628908e+00 -5.00974298e-01 -7.10329413e-01 -3.75816226e+00\n",
      "  3.89253926e+00 -2.38388844e+01  1.70930824e+01  3.17583060e+00\n",
      "  1.19486027e+01 -4.09698629e+00  3.80980706e+00 -3.52111626e+00\n",
      " -2.53478527e+00 -1.09962616e+01  3.39410543e+00 -1.43316293e+00\n",
      " -2.65124092e+01 -6.18883753e+00 -3.70399654e-01 -9.60673928e-01\n",
      " -2.69267321e+00 -5.24452400e+00 -1.74339199e+01 -4.96720028e+00\n",
      " -6.10378504e+00 -8.68737698e+00 -7.80347395e+00 -1.42385530e+00\n",
      " -3.24809670e+00  8.03556919e+00 -6.03134584e+00  8.79977798e+00\n",
      " -4.03295660e+00 -6.07981682e+00 -2.88742085e+01 -1.98484058e+01\n",
      " -9.35184574e+00 -5.47570753e+00 -4.32630014e+00 -2.77464390e+01\n",
      " -1.10720654e+01 -2.74699669e+01 -1.30988626e+01 -2.31506753e+00\n",
      " -2.44518065e+00 -9.64637947e+00 -3.43987160e+01 -2.19430161e+00\n",
      " -1.44299316e+01 -9.03605461e+00  2.20411825e+00 -8.78008652e+00\n",
      " -5.75319672e+00 -5.82626057e+00 -1.29673586e+01 -1.31326151e+01\n",
      " -3.14674091e+01 -2.65143032e+01 -3.52463875e+01 -7.96951652e-01\n",
      "  1.99002206e+00 -1.83950367e+01 -2.47622395e+01 -2.78904686e+01\n",
      "  5.85156965e+00  9.23171711e+00  4.88389492e-01 -6.77318096e+00\n",
      " -3.89755363e+01  3.46867830e-01 -2.84285812e+01 -3.20637283e+01\n",
      " -1.51841345e+01 -3.07113743e+01 -1.74340749e+00 -1.57576199e+01\n",
      " -8.29133511e+00 -4.25672989e+01  6.04703474e+00 -8.52593064e-01\n",
      " -2.07837448e+01 -1.97397270e+01 -9.96191204e-01 -5.95937109e+00\n",
      " -1.94158535e+01 -3.24285011e+01 -3.23898201e+01 -5.00689840e+00\n",
      "  3.75433421e+00  1.09619522e+01 -2.45334129e+01 -1.07155399e+01\n",
      " -1.40110035e+01 -3.02068925e+00 -2.13495579e+01 -1.21828623e+01\n",
      " -4.26741447e+01  5.47635794e+00 -5.01170814e-01 -1.06858373e+00\n",
      " -2.04384632e+01  8.31596756e+00 -2.30925035e+00 -6.06892586e+00\n",
      " -6.96358919e+00  5.35174465e+00 -3.42735100e+01 -6.38012743e+00\n",
      "  8.81526566e+00 -9.71717358e+00  8.71608829e+00 -1.54747648e+01\n",
      "  3.63831186e+00 -5.46182060e+00 -1.24983568e+01 -1.66171455e+01\n",
      " -1.02897425e+01 -2.73781776e+01 -1.35904140e+01  3.44010949e+00\n",
      "  2.10757208e+00  2.87382174e+00  7.03529835e+00 -1.94416046e+01\n",
      " -6.87997103e+00 -1.02242517e+01  5.41899252e+00  7.61804819e+00\n",
      " -2.71524410e+01  2.31393382e-01 -2.40220871e+01 -3.00439625e+01\n",
      "  2.86026931e+00 -8.76557767e-01  7.98017073e+00 -8.42215919e+00\n",
      " -1.22604408e+01 -1.56016474e+01 -2.37391624e+01  1.00034046e+01\n",
      " -2.81014085e+00 -9.40603924e+00 -3.90713096e+00 -2.50769844e+01\n",
      " -3.62855301e+01 -3.63150864e+01 -1.79316864e+01  6.83691788e+00\n",
      " -1.55175200e+01 -1.63074360e+01  1.28401194e+01 -2.37591724e+01\n",
      " -1.82707253e+01 -2.19992423e+00]' has dtype incompatible with int64, please explicitly cast to a compatible dtype first.\n",
      "  preds[val_index] = model.predict(dval_i)\n"
     ]
    },
    {
     "name": "stderr",
     "output_type": "stream",
     "text": [
      "\r",
      " 80%|██████████████████████████████████████████████████████████████████████████████████████████████████████████████████████▍                             | 8/10 [01:47<00:26, 13.12s/it]"
     ]
    },
    {
     "name": "stderr",
     "output_type": "stream",
     "text": [
      "C:\\Users\\81809\\AppData\\Local\\Temp\\ipykernel_824\\3386215446.py:18: FutureWarning: Setting an item of incompatible dtype is deprecated and will raise an error in a future version of pandas. Value '[ 7.65271616e+00 -5.43478870e+00  1.10242023e+01  8.45693874e+00\n",
      "  6.83001137e+00  5.32800341e+00  6.35263538e+00  1.76966500e+00\n",
      " -1.03781891e+00  2.23628736e+00 -3.61405373e+00  1.74512136e+00\n",
      " -5.88053286e-01  2.01167679e+01  1.83417845e+00  1.26399336e+01\n",
      "  4.45863628e+00  3.99610209e+00  6.55925226e+00  2.12576962e+00\n",
      "  5.46932030e+00  3.23520470e+00  9.61841297e+00 -1.90091360e+00\n",
      "  6.83412838e+00  3.17433000e+00  9.39117622e+00  6.28158379e+00\n",
      "  1.19311631e+00  2.52006931e+01  4.74938965e+00 -7.18793201e+00\n",
      "  4.79963064e+00  1.60635490e+01  8.93272781e+00 -5.92609692e+00\n",
      "  6.02574015e+00  1.77764690e+00 -5.81374288e-01 -8.47642136e+00\n",
      " -2.05468631e+00  1.08458300e+01  2.25767446e+00  7.18163490e+00\n",
      "  2.20801678e+01  9.98824501e+00  5.94783449e+00 -3.46073329e-01\n",
      " -3.12192202e+00  3.00549150e+00  4.95475769e+00  4.16212606e+00\n",
      "  7.57249057e-01  1.62055950e+01  2.69862223e+00  1.13543844e+01\n",
      "  2.30952129e+01  8.86406517e+00 -4.80167150e+00  7.69588375e+00\n",
      "  3.04835725e+00  3.53258562e+00  4.80923128e+00  1.81445360e+00\n",
      "  6.76152754e+00  1.06842937e+01  4.82111216e+00  4.33511925e+00\n",
      "  1.46683283e+01  2.49750004e+01 -2.94859195e+00  5.54447126e+00\n",
      "  7.92172134e-01  8.42031193e+00  2.13971567e+00  2.50092626e-01\n",
      "  2.34924603e+01  7.00969601e+00  1.23949938e+01  1.88651729e+00\n",
      "  1.69210281e+01 -8.58571649e-01  1.16055164e+01  8.68573952e+00\n",
      "  3.27203441e+00 -1.12757826e+00 -1.35789549e+00  6.45716953e+00\n",
      "  3.55080509e+00  6.37833643e+00  1.80735054e+01 -3.89743042e+00\n",
      " -4.88914758e-01  5.26225853e+00 -5.53795242e+00 -3.50220275e+00\n",
      " -2.68190718e+00 -8.02446461e+00 -6.95104718e-01  1.91653535e-01\n",
      "  3.06006575e+00  6.27443790e-01 -9.96816730e+00  1.90810347e+00\n",
      " -3.15463614e+00  3.29257220e-01  2.23854027e+01 -4.52404881e+00\n",
      "  1.50776043e+01  1.26985006e+01  5.26443005e+00 -2.11878228e+00\n",
      "  9.20015335e+00 -9.79443645e+00 -1.31350970e+00 -3.00415134e+00\n",
      "  5.49837589e+00 -9.68703938e+00  2.04320168e+00 -1.98136950e+00\n",
      "  7.58905077e+00  8.77167320e+00 -2.30088663e+00  1.13065281e+01\n",
      "  6.31124163e+00  7.64376259e+00  2.12248554e+01 -6.76574516e+00\n",
      "  1.47058630e+01  8.95186710e+00 -2.18700504e+00  5.54285812e+00\n",
      "  6.77389956e+00  7.54432529e-02 -3.96611273e-01 -4.34163436e-02\n",
      "  1.29154453e+01  1.21156797e+01 -5.74533939e+00  1.06685362e+01\n",
      "  2.52479577e+00  8.58241272e+00  2.05468731e+01  3.43103337e+00\n",
      "  1.34253740e+00  9.32663441e-01 -3.28948736e-01  1.77410543e+00\n",
      "  4.57461166e+00  6.38447094e+00  2.81763887e+00  1.16463346e+01\n",
      " -2.28726840e+00 -3.40258884e+00  1.89642835e+00 -1.11313467e+01\n",
      "  2.95630283e+01  1.60332432e+01 -1.84232128e+00  1.83434219e+01\n",
      "  1.31437473e+01  3.26438546e+00  1.15045404e+01  1.02017319e+00\n",
      "  5.28088093e-01 -7.45360672e-01 -3.28590298e+00  2.13968849e+00\n",
      " -2.20667768e+00  8.20497692e-01 -2.00431800e+00 -8.32617760e-01\n",
      "  6.51770294e-01 -1.55836153e+00  3.53213668e+00  1.87165165e+01\n",
      "  5.76115561e+00  1.40487175e+01 -5.52352524e+00  2.03353424e+01\n",
      " -2.02637529e+00  3.43427896e+00  4.86954260e+00  1.86475646e+00\n",
      "  8.32259464e+00 -7.72869396e+00  1.79912663e+01  2.73794889e+00\n",
      "  6.69375467e+00 -8.74921799e-01  1.00875311e+01  1.55331678e+01\n",
      "  2.10761814e+01 -3.29473281e+00  2.11720681e+00  6.49163365e-01\n",
      "  5.99140787e+00  5.80333996e+00  3.42718959e+00 -5.66052532e+00\n",
      "  7.05841255e+00  8.70879841e+00  9.45516872e+00  2.41179867e+01\n",
      "  4.35816813e+00  2.19799161e+00  1.54960918e+00  6.00040388e+00\n",
      "  5.67935896e+00 -1.72613204e+00  1.07313442e+01  5.51265001e+00\n",
      "  2.14244881e+01  9.93821907e+00  3.23587084e+00 -8.94616961e-01\n",
      "  3.77621841e+01 -1.12140265e+01  6.23098755e+00 -1.03845129e+01\n",
      " -5.89564657e+00  1.21231852e+01 -6.27554834e-01  4.90032196e+00\n",
      "  7.84554100e+00 -1.63502145e+00  2.60958481e+01  6.66274214e+00\n",
      "  8.75559711e+00  2.45886860e+01  5.41438389e+00  1.95465279e+01\n",
      " -7.17421341e+00  2.92000866e+01  3.10315609e+01  1.90671122e+00\n",
      " -1.58477535e+01  1.26091349e+00  2.46068931e+00  6.25610352e+00\n",
      "  6.60691833e+00  1.85107861e+01  6.64316607e+00  1.68592758e+01\n",
      "  2.97895641e+01  1.14930353e+01  3.52494888e+01 -1.32373738e+00\n",
      "  1.03722067e+01  1.05155766e+00  1.67912045e+01  1.31966152e+01\n",
      "  2.65022049e+01 -4.56376553e+00  2.52137337e+01  1.31602306e+01\n",
      "  9.44754791e+00  3.25660820e+01  1.10382681e+01  2.73759575e+01\n",
      "  3.67019701e+00  6.28296375e+00  2.71204643e+01  2.34765482e+00\n",
      "  7.03457451e+00  7.42720270e+00  9.50098419e+00 -3.88088036e+00\n",
      "  1.39707222e+01  4.06566315e+01  9.93943119e+00 -1.07411709e+01\n",
      "  9.59210682e+00 -1.56017971e+00 -9.19746780e+00  3.70457077e+00\n",
      " -3.69594526e+00  1.02726707e+01  4.71627903e+00  7.23989630e+00\n",
      " -3.18794179e+00  3.78574677e+01  1.41020069e+01  3.00454006e+01\n",
      "  2.23556881e+01  2.84506083e+00  9.20780468e+00  1.64834270e+01\n",
      "  5.12016726e+00 -7.22214413e+00  1.98405304e+01  5.74451399e+00\n",
      "  2.38695574e+00  2.22788963e+01  8.70572948e+00  3.19649048e+01\n",
      "  9.51165104e+00  3.03342915e+01  3.78112674e+00 -9.76410675e+00\n",
      "  4.66490793e+00  1.99878252e+00  5.43197918e+00  6.27160168e+00\n",
      " -1.09378386e+01  1.52241411e+01  2.77117691e+01 -3.02953792e+00\n",
      "  3.95758209e+01  9.17975521e+00  2.53283272e+01  3.71233253e+01\n",
      " -6.01037216e+00  3.81625633e+01  6.05093241e+00  1.24292889e+01\n",
      "  3.44602656e+00  3.58135915e+00  1.22598019e+01  2.53452530e+01\n",
      "  1.11774521e+01  5.90698570e-02 -2.33339825e+01 -6.50020123e+00\n",
      "  3.38693643e+00 -1.21151848e+01 -2.28549843e+01 -7.43290615e+00\n",
      " -2.68400025e+00 -8.04864311e+00 -3.64541745e+00 -2.96457624e+00\n",
      " -2.04642448e+01 -3.04719424e+00 -2.52072430e+01 -3.89488816e+00\n",
      " -6.94338036e+00 -2.75071025e-01 -7.63723564e+00 -2.95867348e+00\n",
      " -7.98787928e+00 -9.09273243e+00  6.43442965e+00 -1.61274219e+00\n",
      "  6.04474211e+00  5.67284966e+00 -7.81021452e+00 -4.31321430e+00\n",
      "  2.16303408e-01 -2.40464287e+01  8.69799852e-01  5.83651483e-01\n",
      " -2.93288498e+01  5.50244987e-01  1.27665491e+01 -7.69428301e+00\n",
      "  6.60701323e+00 -9.92460155e+00 -6.05368853e+00 -4.76237154e+00\n",
      " -5.71922016e+00  2.66554904e+00  2.56798267e+00 -7.70205319e-01\n",
      " -9.48327160e+00 -2.12421227e+01 -9.36657047e+00 -1.34226494e+01\n",
      "  6.62459469e+00 -2.44820261e+00  2.89935589e+00  9.41936433e-01\n",
      " -1.71655216e+01 -4.77154160e+00 -2.31251774e+01 -2.29927444e+00\n",
      "  2.98857570e+00 -7.41704369e+00 -3.61480808e+00  3.10887551e+00\n",
      " -2.35129490e+01 -1.09318514e+01 -1.47801743e+01 -2.30378342e+00\n",
      " -5.83989739e-01  1.04578674e+00  1.01749539e+00 -1.91904712e+00\n",
      " -3.81925321e+00  8.08193564e-01 -3.52744675e+00 -4.55202246e+00\n",
      " -6.96338034e+00 -2.07037773e+01  4.25944948e+00  1.06940353e+00\n",
      " -1.28192997e+00 -4.20009422e+00 -3.14747167e+00 -6.25808716e+00\n",
      " -1.79905338e+01 -1.44178116e+00  1.12644637e+00 -6.44990951e-02\n",
      "  2.10027623e+00 -7.43920088e+00 -2.43514938e+01 -1.84417973e+01\n",
      " -7.62306499e+00 -1.13869553e+01 -8.14083195e+00 -3.49129081e+00\n",
      " -5.21007681e+00 -3.29972029e+00 -4.86042547e+00 -1.83711605e+01\n",
      "  1.71184933e+00  3.92408657e+00  1.47143002e+01  1.50634021e-01\n",
      "  4.86978531e+00  1.22480917e+00 -2.42870789e+01 -4.77535814e-01\n",
      " -1.42804737e+01 -1.68782377e+00  8.67229748e+00  2.72669125e+00\n",
      " -6.17655182e+00  3.14259112e-01 -1.73274441e+01 -2.55253267e+00\n",
      " -7.45255232e+00  1.87675750e+00 -1.34295750e+01 -1.80160751e+01\n",
      " -4.11800146e+00  4.38598156e+00 -3.30549383e+00  7.34821939e+00\n",
      " -7.18800735e+00 -2.88431692e+00 -1.06599245e+01  4.66571808e+00\n",
      " -6.10028076e+00  5.70019960e+00 -2.66593132e+01 -4.74698544e+00\n",
      " -9.13930035e+00 -1.88944836e+01  5.00348377e+00 -7.61424923e+00\n",
      "  2.95813918e+00 -1.16305561e+01 -1.97155933e+01  7.34088898e-01\n",
      " -2.05101705e+00  4.22008485e-01 -9.90619755e+00 -4.64582396e+00\n",
      " -1.34599752e+01  3.69560432e+00 -3.35425615e+00 -1.40748847e+00\n",
      " -7.56427860e+00  2.01672482e+00 -6.65834725e-01 -1.05253201e+01\n",
      " -3.98259330e+00 -4.66538191e+00 -1.22112408e+01  1.01436453e+01\n",
      " -2.15213375e+01 -5.13925028e+00 -4.83412600e+00  1.96979567e-01\n",
      "  5.43188095e+00 -3.69336915e+00 -3.37888479e+00 -5.54780388e+00\n",
      "  3.48331571e+00 -5.75153410e-01  3.39490771e+00  2.23054361e+00\n",
      "  3.49923682e+00 -3.65371084e+00  8.46873760e-01 -6.34465277e-01\n",
      "  9.58672047e+00  1.21294892e+00 -1.45447607e+01  2.04389381e+00\n",
      " -3.39566994e+00 -2.21433697e+01  1.22079620e+01  3.71808447e-02\n",
      " -4.42833275e-01 -3.69732642e+00  1.06137395e+00 -1.40083046e+01\n",
      " -7.59043574e-01  4.15082645e+00 -2.72435322e+01  6.70176506e+00\n",
      "  3.32367420e+00  1.05981283e+01 -7.29810596e-01 -6.66741514e+00\n",
      " -1.25438499e+00 -1.09959373e+01 -4.95257998e+00 -2.78266788e+00\n",
      " -1.56375647e+01 -7.95848036e+00  2.24202108e+00  5.63605261e+00\n",
      " -5.28466654e+00 -6.60494864e-01 -5.54811382e+00 -3.33527970e+00\n",
      " -1.60918465e+01  4.25400782e+00 -7.68684149e+00 -5.04250431e+00\n",
      " -2.33122883e+01 -1.13178806e+01 -7.39454508e-01  8.10700512e+00\n",
      "  7.04674149e+00 -5.22572279e+00 -1.90985508e+01 -4.03460407e+00\n",
      " -1.18299160e+01 -2.88952789e+01 -3.33973770e+01 -2.75076580e+01\n",
      " -4.67694092e+00 -2.02430096e+01 -2.15852890e+01  1.13728547e+00\n",
      " -8.52490711e+00 -6.40955687e+00 -3.06926322e+00  7.49249411e+00\n",
      "  9.74574089e-01 -5.67549086e+00 -6.33805454e-01 -2.12292719e+00\n",
      " -6.23901427e-01 -3.51218109e+01 -3.08901291e+01 -2.57351074e+01\n",
      " -3.97891188e+00 -2.29423084e+01 -7.52041721e+00 -5.53310919e+00\n",
      " -7.07212400e+00 -2.77846456e+00  1.96787155e+00 -1.98787937e+01\n",
      " -4.45507736e+01 -7.00323701e-01 -2.12086449e+01 -1.78666039e+01\n",
      " -1.40092669e+01 -1.16907673e+01 -3.03662605e+01  1.74139237e+00\n",
      " -3.32763443e+01 -6.91211891e+00 -2.44277744e+01 -2.82907143e+01\n",
      "  7.46784508e-01 -6.93958807e+00 -2.15872726e+01  4.85104370e+00\n",
      " -1.11443291e+01  2.32092023e+00 -3.08344727e+01 -1.73614883e+01\n",
      " -1.03286877e+01 -1.73329773e+01 -8.15952682e+00 -3.80192542e+00\n",
      "  5.63806009e+00 -5.98838329e+00 -8.79871190e-01 -2.96427727e+00\n",
      " -2.36531687e+00 -2.32663727e+01 -9.80751991e+00 -5.67408681e-01\n",
      " -1.92008114e+01 -2.07236409e+00 -1.36079674e+01  4.22467279e+00\n",
      " -3.49169044e+01 -8.16960812e-01  8.18506718e+00  4.84205246e+00\n",
      " -2.93719349e+01  6.52980387e-01  2.52971709e-01  8.15554678e-01\n",
      "  6.44771338e+00 -2.88059044e+00 -1.48651133e+01 -2.51314163e+01\n",
      " -7.27218986e-01 -9.85408974e+00  1.13721704e+01  1.05807805e+00\n",
      "  4.51631021e+00 -1.17449179e+01 -2.56390648e+01 -7.89531231e+00\n",
      " -3.60959969e+01 -2.92010250e+01  4.40752172e+00 -1.51204081e+01\n",
      " -2.38086205e+01 -4.19155979e+00 -6.45642805e+00  4.63461548e-01\n",
      "  1.19271441e+01  3.12035275e+00 -3.69769859e+00 -3.06470280e+01\n",
      " -1.66442833e+01 -9.17983723e+00 -4.18928289e+00  1.55266151e-01\n",
      "  7.85936546e+00  3.58025813e+00 -2.84395504e+00 -2.47129421e+01\n",
      "  7.49161482e+00 -1.92527180e+01 -1.17562599e+01 -3.26708364e+00\n",
      " -5.50178528e-01  1.34535208e+01 -2.97816601e+01 -9.97537804e+00\n",
      " -2.63975315e+01 -8.08587074e+00]' has dtype incompatible with int64, please explicitly cast to a compatible dtype first.\n",
      "  preds[val_index] = model.predict(dval_i)\n"
     ]
    },
    {
     "name": "stderr",
     "output_type": "stream",
     "text": [
      "\r",
      " 90%|█████████████████████████████████████████████████████████████████████████████████████████████████████████████████████████████████████▏              | 9/10 [02:02<00:13, 13.75s/it]"
     ]
    },
    {
     "name": "stderr",
     "output_type": "stream",
     "text": [
      "C:\\Users\\81809\\AppData\\Local\\Temp\\ipykernel_824\\3386215446.py:18: FutureWarning: Setting an item of incompatible dtype is deprecated and will raise an error in a future version of pandas. Value '[ 2.15874529e+00 -5.20105648e+00  2.12659302e+01  2.40964174e+00\n",
      "  4.60076809e+00 -4.86879921e+00  4.00946331e+00  2.31830692e+00\n",
      " -6.57813120e+00  1.50636148e+00 -4.06796837e+00  1.73954868e+01\n",
      "  2.49867363e+01 -2.18389416e+00  2.07544746e+01  9.84951615e-01\n",
      "  7.82933283e+00  2.80364943e+00  1.04301524e+00  1.14208293e+00\n",
      " -1.77581996e-01  1.96704805e+00  1.61556041e+00  4.26994896e+00\n",
      "  3.49936032e+00  8.80793095e+00 -1.04603970e+00  1.15282316e+01\n",
      "  3.97012258e+00  2.11913090e+01 -3.14153767e+00 -3.45338726e+00\n",
      "  4.50062656e+00  2.51587301e-01  2.03239346e+00 -1.54815555e+00\n",
      " -2.46781611e+00  7.55595255e+00 -1.99923262e-01 -6.25097573e-01\n",
      "  1.90855522e+01 -5.04607677e+00  2.03918481e+00 -8.71803665e+00\n",
      " -3.21300292e+00 -1.15845013e+01  1.70589924e+01  1.32988091e+01\n",
      "  6.01343775e+00 -5.21722674e-01 -3.35197544e+00  5.40992165e+00\n",
      " -3.80223465e+00  4.79552269e+00  1.54856598e+00 -2.80201268e+00\n",
      "  1.45886111e+00 -3.37122726e+00  1.08518963e+01  2.44699936e+01\n",
      "  1.48376522e+01  5.34777212e+00  4.97061348e+00  1.53192148e+01\n",
      " -2.49515986e+00  3.14165974e+00 -5.21246386e+00 -7.43954718e-01\n",
      "  4.11100578e+00  5.21792936e+00 -1.44653469e-01  1.85454464e+01\n",
      "  8.16675854e+00  5.69300556e+00 -1.88182688e+00  3.62901807e+00\n",
      " -1.21581703e-01  6.35482454e+00  2.42844124e+01  1.70062912e+00\n",
      " -2.47907090e+00 -1.68876505e+00  3.10018158e+00  4.72291660e+00\n",
      "  1.68300891e+00  1.26219356e+00  1.24249086e+01  2.49756603e+01\n",
      "  5.98757839e+00  1.43801270e+01 -1.17946901e+01  2.17039180e+00\n",
      "  2.18778629e+01  3.53682089e+00  5.20162487e+00  1.23502035e+01\n",
      " -8.10487390e-01  5.54075670e+00  5.55784655e+00  1.62969124e+00\n",
      "  1.59784698e+01  1.02539654e+01  1.40624876e+01  1.83681273e+00\n",
      "  1.32520781e+01 -1.10823841e+01 -5.94870472e+00  1.03999052e+01\n",
      "  8.53981018e+00  1.69690573e+00  4.67013454e+00 -2.11176491e+00\n",
      "  4.22520924e+00  1.47052372e+00  1.94626999e+01  4.00747967e+00\n",
      "  2.08775654e+01  5.32258177e+00  2.51949334e+00 -1.54982023e+01\n",
      "  5.57568073e+00 -2.09201789e+00 -1.96244812e+00 -6.84606266e+00\n",
      "  2.65284872e+00  2.53246899e+01  4.31630373e+00  3.90305042e+00\n",
      " -6.69655657e+00  1.40026951e+01  2.53654695e+00  4.66814525e-02\n",
      " -1.92758679e-01  4.53967667e+00  8.50180149e+00  1.61424494e+00\n",
      "  7.72380686e+00 -1.51945031e+00  1.45413418e+01  3.38064656e-02\n",
      "  1.13162231e+00 -2.91240215e-01  1.83899200e+00 -1.86621451e+00\n",
      " -5.27307653e+00 -6.99721575e-02  6.50355369e-02  1.12214303e+00\n",
      "  2.23408279e+01  1.64850140e+01  3.60028815e+00  1.67354119e+00\n",
      " -1.00121737e+01  2.11494007e+01  4.75765181e+00  3.72949219e+00\n",
      " -5.50969458e+00  7.37191260e-01  3.33859706e+00  5.48539162e+00\n",
      " -9.66164112e+00  1.34957199e+01 -4.25910997e+00  7.46272659e+00\n",
      "  2.88652000e+01 -4.04825497e+00  5.30010414e+00  3.66346693e+00\n",
      "  9.45172369e-01 -4.19852734e+00  5.46743107e+00  5.56852865e+00\n",
      " -4.32119608e+00 -4.18338394e+00  5.17454529e+00  2.02135601e+01\n",
      " -3.69408846e+00  8.12255085e-01  1.78422108e+01  2.99368119e+00\n",
      " -3.36254573e+00  1.14926910e+01  2.52619171e+00  5.95812178e+00\n",
      "  6.73698759e+00 -7.45206833e-01  3.59851027e+00 -5.00528479e+00\n",
      "  9.66525650e+00 -6.90287590e+00 -1.60098302e+00  4.92177963e+00\n",
      "  4.76350263e-02  2.97007060e+00 -1.40195683e-01  1.07388239e+01\n",
      "  2.02066498e+01  2.60195422e+00  2.49293251e+01 -1.76823509e+00\n",
      "  1.69663891e-01 -1.32595289e+00  4.22774839e+00 -1.31762981e+00\n",
      "  4.36301374e+00  1.32556963e+01  5.70110369e+00  9.86590290e+00\n",
      "  2.20566769e+01  5.20961225e-01  3.05362105e+00 -1.32854629e+00\n",
      "  2.96782106e-01  1.68746033e+01  6.19134760e+00  5.13800812e+00\n",
      "  4.37940454e+00  3.56956387e+00 -1.34102023e+00  3.32296157e+00\n",
      "  2.84165406e+00  3.55472398e+00  2.24914150e+01  9.39602757e+00\n",
      "  1.28821516e+00  1.46007442e+01  4.99284744e+00  2.54130859e+01\n",
      " -1.37275898e+00 -7.88718820e-01  7.36913109e+00  1.21296673e+01\n",
      " -1.04843960e+01 -6.30208254e-01  1.28655806e+01  7.42548513e+00\n",
      "  3.09572392e+01  2.65320396e+01  6.85548449e+00  2.00479870e+01\n",
      "  2.40197697e+01  1.24679022e+01  6.83075285e+00 -1.99432456e+00\n",
      " -7.81444597e+00 -7.75348377e+00 -7.14658976e+00  2.64777164e+01\n",
      " -1.16595614e+00  5.67909813e+00  4.05509987e+01  6.29093695e+00\n",
      "  2.64016557e+00  1.86091137e+01  1.32081766e+01  2.04981208e+00\n",
      " -2.14665222e+00 -1.44949713e+01  1.47698879e+01  1.67241001e+01\n",
      "  1.22080812e+01  8.24329948e+00  1.03064508e+01  3.50356827e+01\n",
      " -8.56598186e+00  2.41980591e+01 -2.52589588e+01  1.03006477e+01\n",
      "  1.03564186e+01  3.15971355e+01  1.81755829e+01  2.97948971e+01\n",
      "  1.21435938e+01  2.50417881e+01  4.48122835e+00  7.85938072e+00\n",
      "  1.32517662e+01  3.30476875e+01  3.34805641e+01 -2.05478370e-01\n",
      "  9.88531208e+00  8.83337402e+00  2.97144085e-01  1.67996578e+01\n",
      "  1.80884819e+01  8.15782356e+00  3.47052574e+01  6.21933889e+00\n",
      " -3.83544970e+00 -6.37838058e-03  7.01137930e-02 -4.07264185e+00\n",
      "  9.41769600e+00  1.65067139e+01  5.86694050e+00 -9.23542976e+00\n",
      "  1.97414379e+01  7.60396194e+00  6.52647400e+00  2.32082863e+01\n",
      "  9.66545582e+00  3.21883850e+01  3.03944740e+01  2.61069685e-02\n",
      "  3.68353653e+01 -1.85767627e+00  1.38277016e+01  1.83624439e+01\n",
      "  2.52174892e+01  3.03590355e+01 -2.40247784e+01  3.86539612e+01\n",
      "  1.04123907e+01  4.33404398e+00  2.34062500e+01  9.54909086e-01\n",
      "  2.00312653e+01  1.77969017e+01  2.66607094e+00  3.69866610e+00\n",
      "  1.50249348e+01 -1.67820797e+01  1.62607784e+01  5.38836527e+00\n",
      " -1.58919744e+01 -6.37145090e+00 -3.85230660e+00 -2.05164814e+01\n",
      "  2.55978513e+00 -2.31066017e+01 -3.08164835e+00 -7.58689451e+00\n",
      " -6.53743267e+00 -7.09427881e+00 -6.78066492e+00 -4.61022758e+00\n",
      "  4.25425589e-01 -2.19084001e+00 -2.18118458e+01 -2.43677921e+01\n",
      " -4.48918962e+00  4.87208404e-02 -5.34143257e+00 -6.11820459e+00\n",
      " -4.77931786e+00  1.04812927e+01 -5.94623470e+00 -1.34791696e+00\n",
      "  8.87782156e-01 -6.09298277e+00 -1.42641430e+01  2.83238220e+00\n",
      " -1.16992617e+01 -1.55908756e+01 -5.42914987e-01 -7.65752172e+00\n",
      " -1.91749287e+01  6.71954632e+00  1.19517136e+00 -3.83214903e+00\n",
      " -3.42550564e+00  3.60422301e+00 -7.81833982e+00 -1.12544861e+01\n",
      " -5.71799564e+00 -9.27169228e+00 -2.96538293e-01 -1.10875244e+01\n",
      "  6.69981146e+00 -2.17625885e+01  2.72959638e+00 -4.73405170e+00\n",
      " -1.56432610e+01 -2.42270317e+01 -8.31517029e+00 -6.92540979e+00\n",
      " -4.95310402e+00  2.88278079e+00  2.36288047e+00 -2.64126892e+01\n",
      "  9.55490232e-01 -2.59949684e+01  5.57449579e-01 -2.50623283e+01\n",
      " -2.68560195e+00 -5.21021461e+00 -1.10682402e+01 -6.83613873e+00\n",
      " -6.32706547e+00 -1.19941962e+00 -4.12615919e+00 -6.62589645e+00\n",
      " -5.31823444e+00 -2.85275769e+00 -6.88487768e+00 -7.19582272e+00\n",
      " -1.25287752e+01 -1.60796280e+01  3.51492906e+00 -5.63624668e+00\n",
      " -2.51259255e+00 -4.31615496e+00 -4.88583183e+00 -3.59443367e-01\n",
      "  6.96582317e-01 -2.08604527e+01 -6.71272039e-01 -1.19614592e+01\n",
      " -7.92804289e+00 -1.54826954e-01 -4.18475246e+00 -1.00799246e+01\n",
      "  4.40374374e+00  2.98231030e+00 -5.45936871e+00 -1.63887167e+00\n",
      " -2.61763229e+01  2.92490792e+00 -2.07065125e+01  2.31301761e+00\n",
      " -2.80414028e+01 -9.94425106e+00 -1.51399775e+01 -5.59921503e+00\n",
      " -1.95454273e+01 -3.24199462e+00  1.46956229e+00 -6.10665321e+00\n",
      "  3.00914168e+00 -1.16552567e+00 -2.23065519e+00 -1.65192890e+00\n",
      " -2.08365893e+00 -2.67778158e+00  5.33551693e+00 -5.50622702e+00\n",
      " -1.01966276e+01 -6.49147606e+00  5.77204514e+00  2.93143058e+00\n",
      " -5.63264608e+00 -6.69104576e+00 -4.25296450e+00  1.92253189e+01\n",
      "  2.20899534e+00 -7.48470545e-01 -1.39981441e+01 -4.32301664e+00\n",
      "  4.77548313e+00 -4.14053631e+00 -9.58280373e+00 -4.92364597e+00\n",
      "  4.34339571e+00 -2.32247353e+01 -8.06254292e+00 -1.04886494e+01\n",
      " -5.73670721e+00 -4.45676661e+00 -2.42754765e+01  8.54718387e-01\n",
      " -7.51171827e+00 -8.42691326e+00 -4.70221806e+00  6.09185219e-01\n",
      " -1.16741590e+01 -3.25163782e-01 -7.41958618e+00 -3.90469456e+00\n",
      "  8.91396105e-01  2.87378860e+00  5.79806232e+00 -4.30333424e+00\n",
      " -5.06043530e+00 -1.77227592e+01 -2.37422466e+00 -4.57412720e+00\n",
      " -1.35935795e+00  8.60166168e+00  2.66193557e+00  5.42891169e+00\n",
      "  3.00597978e+00 -2.28720593e+00  1.07880239e+01 -1.13907707e+00\n",
      " -9.94750917e-01 -4.57379723e+00 -8.02698284e-02 -2.94460011e+00\n",
      " -3.86493826e+00 -4.28466606e+00 -2.99489307e+00  8.84964883e-01\n",
      " -8.91567135e+00 -1.35802305e+00 -5.40030336e+00  2.57298613e+00\n",
      " -4.19649792e+00  1.42617333e+00 -2.42692719e+01 -1.76459122e+00\n",
      "  2.07061505e+00 -4.48618603e+00 -9.27410889e+00 -2.59780836e+00\n",
      " -3.44468904e+00 -1.34471431e-01 -5.58351135e+00  9.83410239e-01\n",
      " -8.03674412e+00  3.62218690e+00  2.83919668e+00 -1.99013386e+01\n",
      " -1.07644825e+01 -2.75114326e+01  1.92339979e-02 -2.66861629e+00\n",
      " -2.01185989e+00 -2.21712151e+01 -8.36909103e+00 -8.38191605e+00\n",
      " -1.94628181e+01  7.14557457e+00  7.21255970e+00 -9.98540223e-01\n",
      " -3.67844015e-01  4.40865374e+00 -1.05299234e+01  2.24987173e+00\n",
      " -2.71145296e+00 -8.09221458e+00 -9.78332806e+00 -2.89610922e-01\n",
      " -2.36103477e+01 -1.97868156e+01 -1.79782200e+01 -6.05837011e+00\n",
      " -3.27483153e+00  6.33121395e+00 -1.27110901e+01 -1.91355629e+01\n",
      " -2.96561661e+01 -2.67653160e+01 -7.54216433e+00 -2.17775917e+00\n",
      "  5.67721796e+00 -8.40984917e+00 -2.12943630e+01  7.11358213e+00\n",
      " -2.78945084e+01 -3.34158510e-01 -2.35311565e+01 -4.75459242e+00\n",
      " -3.70035515e+01 -1.24696770e+01  5.97409868e+00 -3.99744415e+01\n",
      "  3.69853044e+00  1.35478723e+00 -4.26184368e+00 -2.25508194e+01\n",
      " -3.73030353e+00 -2.56764050e+01  8.56118393e+00 -2.81744022e+01\n",
      " -4.94927311e+00 -1.32284474e+00 -3.44324989e+01 -2.56372604e+01\n",
      " -5.88879728e+00  1.28906341e-02 -9.10546398e+00 -5.66995764e+00\n",
      " -2.08181381e+01  4.59637928e+00 -7.26741076e+00  3.23652267e+00\n",
      " -1.49752884e+01 -2.15543318e+00 -1.24086976e+00  3.22519517e+00\n",
      "  1.22102976e+00 -3.04326272e+00 -1.54003363e+01  1.05111885e+00\n",
      " -3.28253579e+00 -1.02264948e+01 -1.57380629e+01 -1.19929304e+01\n",
      "  7.37849665e+00 -7.59637117e+00 -2.59459877e+01  7.23311472e+00\n",
      " -8.68833256e+00 -1.02163181e+01  1.80953610e+00 -1.18170881e+01\n",
      " -1.45431118e+01 -3.68819237e+01 -9.77221584e+00 -2.22108974e+01\n",
      " -1.35682650e+01 -2.07331419e+00 -3.23177505e+00  2.51897454e+00\n",
      " -3.09631901e+01 -1.24014339e+01 -6.01196384e+00 -2.71595192e+01\n",
      " -5.02783661e+01  4.37866545e+00  9.18878853e-01 -2.05435162e+01\n",
      " -1.48205769e+00 -8.21325684e+00 -3.38189011e+01 -3.51465058e+00\n",
      "  1.85061874e+01  6.40223026e+00 -1.21602201e+01 -9.72824669e+00\n",
      " -2.94659119e+01 -2.84522095e+01  5.73394108e+00 -1.16135225e+01\n",
      "  2.19028783e+00  7.78175783e+00 -2.08154926e+01 -6.29743910e+00\n",
      "  1.34189773e+00 -9.17391300e+00 -2.64929371e+01 -3.04461994e+01\n",
      " -9.28977585e+00  6.72911835e+00  4.14115667e+00 -1.02962103e+01\n",
      "  1.44499397e+00 -9.26340389e+00 -2.37919407e+01 -1.61964111e+01\n",
      " -1.12794666e+01 -1.73038638e+00 -2.61987839e+01 -2.80207634e+01\n",
      " -2.07832565e+01 -1.10782492e+00]' has dtype incompatible with int64, please explicitly cast to a compatible dtype first.\n",
      "  preds[val_index] = model.predict(dval_i)\n"
     ]
    },
    {
     "name": "stderr",
     "output_type": "stream",
     "text": [
      "\r",
      "100%|███████████████████████████████████████████████████████████████████████████████████████████████████████████████████████████████████████████████████| 10/10 [02:18<00:00, 14.40s/it]"
     ]
    },
    {
     "name": "stderr",
     "output_type": "stream",
     "text": [
      "\r",
      "100%|███████████████████████████████████████████████████████████████████████████████████████████████████████████████████████████████████████████████████| 10/10 [02:18<00:00, 13.83s/it]"
     ]
    },
    {
     "name": "stdout",
     "output_type": "stream",
     "text": [
      "OOF predictions complete\n"
     ]
    },
    {
     "name": "stderr",
     "output_type": "stream",
     "text": [
      "\n"
     ]
    }
   ],
   "source": [
    "# OOF予測\n",
    "oof_preds = []\n",
    "for i in tqdm(range(repeat_cv), leave=True, dynamic_ncols=True):\n",
    "    # 初期はターゲットの値で初期化（後で上書き）\n",
    "    preds = y.copy()\n",
    "    # 各 repeater 毎に独自の KFold を用いる（random_state = i）\n",
    "    kfold = KFold(n_splits=folds_splits, shuffle=True, random_state=i)    \n",
    "    for train_index, val_index in kfold.split(X, y):\n",
    "        dtrain_i = xgb.DMatrix(X.iloc[train_index], label=y.iloc[train_index])\n",
    "        dval_i   = xgb.DMatrix(X.iloc[val_index], label=y.iloc[val_index])\n",
    "\n",
    "        model = xgb.train(\n",
    "            params=param,\n",
    "            dtrain=dtrain_i,\n",
    "            num_boost_round=iteration_counts[i],\n",
    "            verbose_eval=50\n",
    "        )\n",
    "        preds[val_index] = model.predict(dval_i)\n",
    "    # 予測値を -30 ～ 30 にクリップ\n",
    "    oof_preds.append(np.clip(preds, -30, 30))\n",
    "\n",
    "print(\"OOF predictions complete\")"
   ]
  },
  {
   "cell_type": "code",
   "execution_count": 24,
   "id": "8fe461eb",
   "metadata": {
    "execution": {
     "iopub.execute_input": "2025-03-13T20:17:08.813866Z",
     "iopub.status.busy": "2025-03-13T20:17:08.813866Z",
     "iopub.status.idle": "2025-03-13T20:17:08.918235Z",
     "shell.execute_reply": "2025-03-13T20:17:08.918235Z"
    },
    "papermill": {
     "duration": 0.12907,
     "end_time": "2025-03-13T20:17:08.918235",
     "exception": false,
     "start_time": "2025-03-13T20:17:08.789165",
     "status": "completed"
    },
    "tags": []
   },
   "outputs": [
    {
     "data": {
      "text/plain": [
       "<Axes: >"
      ]
     },
     "execution_count": 24,
     "metadata": {},
     "output_type": "execute_result"
    },
    {
     "data": {
      "image/png": "[encoded data removed]",
      "text/plain": [
       "<Figure size 640x480 with 1 Axes>"
      ]
     },
     "metadata": {},
     "output_type": "display_data"
    }
   ],
   "source": [
    "oof_preds[0].hist()"
   ]
  },
  {
   "cell_type": "code",
   "execution_count": 25,
   "id": "d15894ce",
   "metadata": {
    "execution": {
     "iopub.execute_input": "2025-03-13T20:17:08.950811Z",
     "iopub.status.busy": "2025-03-13T20:17:08.950811Z",
     "iopub.status.idle": "2025-03-13T20:17:08.976245Z",
     "shell.execute_reply": "2025-03-13T20:17:08.976245Z"
    },
    "papermill": {
     "duration": 0.052611,
     "end_time": "2025-03-13T20:17:08.976245",
     "exception": false,
     "start_time": "2025-03-13T20:17:08.923634",
     "status": "completed"
    },
    "tags": []
   },
   "outputs": [],
   "source": [
    "### simple spline, seed(1, 16)~(4, 13)は強制的にfiltaring,  \n",
    "### seed値に対応して予測スコアも同じ大小関係なら1or0に変換の3モデル\n",
    "def cal_logloss(pred_vals, y, i):\n",
    "    y_binary = np.where(y > 0, 1, 0)\n",
    "    loss = log_loss(y_binary, pred_vals)\n",
    "    print(f\"logloss of cvsplit {i}: {loss:.4f}\")\n",
    "\n",
    "\n",
    "    results.append(f\"Normal Spline - logloss of cvsplit {i}: {loss:.4f}\")\n",
    "    return loss\n",
    "\n",
    "#simple spline\n",
    "def make_normal_spline(df, y, repeat_cv):\n",
    "    spline_model1 = []\n",
    "    logloss_normal = []\n",
    "    \n",
    "    for i in range(repeat_cv):\n",
    "        dat = list(zip(df[i], np.where(y>0, 1, 0)))\n",
    "        dat = sorted(dat, key=lambda x:x[0])\n",
    "        datdict = {}\n",
    "        for k in range(len(dat)):\n",
    "            datdict[dat[k][0]] = dat[k][1]\n",
    "        \n",
    "        spline_model1.append(UnivariateSpline(list(datdict.keys()), list(datdict.values())))\n",
    "        spline_fit = spline_model1[i](df[i])\n",
    "        \n",
    "        loss = cal_logloss(spline_fit, y, i)    \n",
    "        logloss_normal.append(loss)\n",
    "\n",
    "    plot_df = pd.DataFrame({\n",
    "        \"pred\": df[0],\n",
    "        \"label\": np.where(y>0,1,0),\n",
    "        \"spline\": spline_model1[0](df[0])\n",
    "    })\n",
    "    plot_df[\"pred_int\"] = plot_df[\"pred\"].astype(int)\n",
    "    plot_df = plot_df.groupby('pred_int')[['spline','label']].mean().reset_index()\n",
    "    \n",
    "    plt.figure(figsize=(8, 5))\n",
    "    plt.plot(plot_df.pred_int, plot_df.label, marker='o', linestyle='-', label=\"True Label\")\n",
    "    plt.plot(plot_df.pred_int, plot_df.spline, marker='x', linestyle='--', label=\"Spline Approximation\")\n",
    "    plt.xlabel(\"Predicted Value (Integer)\")\n",
    "    plt.ylabel(\"Mean Value\")\n",
    "    plt.title(\"Normal Spline Fit Comparison\")\n",
    "    plt.legend()\n",
    "    plt.grid(True)\n",
    "    plt.savefig(os.path.join(OUTPUT_PATH, f\"normal_spline_fit_{PREDICT_YEAR}.png\"))\n",
    "    plt.close()\n",
    "    \n",
    "    \n",
    "    # 例として平均loglossもresultsに記録\n",
    "    avg_logloss = np.mean(logloss_normal) \n",
    "    results.append(f\"Average Normal Spline logloss: {avg_logloss:.4f}\" if avg_logloss is not None else \"No logloss computed\")\n",
    "    \n",
    "    return spline_model1\n",
    "            \n",
    "            \n",
    "#seed(1, 16)~(4, 13)は強制的にseed通りの結果にフィルタリング\n",
    "def make_seed1to4_chenge(df, y, repeat_cv):\n",
    "    spline_model2 = []\n",
    "    spline_fits = []\n",
    "    for i in range(repeat_cv):\n",
    "        dat = list(zip(df[i], np.where(y>0, 1, 0)))\n",
    "        dat = sorted(dat, key=lambda x:x[0])\n",
    "        datdict = {}\n",
    "        for k in range(len(dat)):\n",
    "            datdict[dat[k][0]] = dat[k][1]\n",
    "        \n",
    "        spline_model2.append(UnivariateSpline(list(datdict.keys()), list(datdict.values())))\n",
    "        spline_fit = spline_model2[i](df[i]) \n",
    "        \n",
    "        #add\n",
    "        spline_fit[(X.T1_seed==1) & (X.T2_seed==16)] = 1.0\n",
    "        spline_fit[(X.T1_seed==2) & (X.T2_seed==15)] = 0.9\n",
    "        spline_fit[(X.T1_seed==3) & (X.T2_seed==14)] = 0.8\n",
    "        spline_fit[(X.T1_seed==4) & (X.T2_seed==13)] = 0.7\n",
    "        spline_fit[(X.T1_seed==16) & (X.T2_seed==1)] = 0.0\n",
    "        spline_fit[(X.T1_seed==15) & (X.T2_seed==2)] = 0.1\n",
    "        spline_fit[(X.T1_seed==14) & (X.T2_seed==3)] = 0.2\n",
    "        spline_fit[(X.T1_seed==13) & (X.T2_seed==4)] = 0.3\n",
    "\n",
    "    \n",
    "        cal_logloss(spline_fit, y, i)   \n",
    "                \n",
    "        spline_fits.append(spline_fit)\n",
    "        cal_logloss(spline_fit, y, i)   \n",
    "                \n",
    "    \n",
    "    plot_df = pd.DataFrame({\n",
    "        \"pred\": df[0],\n",
    "        \"label\": np.where(y > 0, 1, 0),\n",
    "        \"spline\": spline_fits[0]  # 変更後の値を利用\n",
    "    })\n",
    "    plot_df[\"pred_int\"] = plot_df[\"pred\"].astype(int)\n",
    "    plot_df = plot_df.groupby(\"pred_int\")[[\"spline\", \"label\"]].mean().reset_index()\n",
    "\n",
    "    plt.figure()\n",
    "    plt.plot(plot_df.pred_int, plot_df.label, label=\"label\")\n",
    "    plt.plot(plot_df.pred_int, plot_df.spline, label=\"spline\")\n",
    "    plt.legend()\n",
    "    plt.show()\n",
    "    \n",
    "    return spline_model2\n",
    "    \n",
    "    \n",
    "#完全に値変換するのではなくてseed値に対応して予測スコアも同じ大小関係なら1or0に変換\n",
    "def make_seed1to4_base_on_score(df, y, repeat_cv):\n",
    "    spline_model3 = []\n",
    "    spline_fits = []\n",
    "\n",
    "    for i in range(repeat_cv):\n",
    "        dat = list(zip(df[i], np.where(y>0, 1, 0)))\n",
    "        dat = sorted(dat, key=lambda x:x[0])\n",
    "        datdict = {}\n",
    "        for k in range(len(dat)):\n",
    "            datdict[dat[k][0]] = dat[k][1]\n",
    "        \n",
    "        spline_model3.append(UnivariateSpline(list(datdict.keys()), list(datdict.values())))\n",
    "        spline_fit = spline_model3[i](df[i]) \n",
    "        \n",
    "        #add\n",
    "        spline_fit[(X.T1_seed==1) & (X.T2_seed==16) & (X.T1_Score > X.T2_Score)] = 1.0\n",
    "        spline_fit[(X.T1_seed==2) & (X.T2_seed==15) & (X.T1_Score > X.T2_Score)] = 1.0\n",
    "        spline_fit[(X.T1_seed==3) & (X.T2_seed==14) & (X.T1_Score > X.T2_Score)] = 1.0\n",
    "        spline_fit[(X.T1_seed==4) & (X.T2_seed==13) & (X.T1_Score > X.T2_Score)] = 1.0\n",
    "        spline_fit[(X.T1_seed==16) & (X.T2_seed==1) & (X.T1_Score < X.T2_Score)] = 0.0\n",
    "        spline_fit[(X.T1_seed==15) & (X.T2_seed==2) & (X.T1_Score < X.T2_Score)] = 0.0\n",
    "        spline_fit[(X.T1_seed==14) & (X.T2_seed==3) & (X.T1_Score < X.T2_Score)] = 0.0\n",
    "        spline_fit[(X.T1_seed==13) & (X.T2_seed==4) & (X.T1_Score < X.T2_Score)] = 0.0\n",
    "\n",
    "        spline_fits.append(spline_fit)\n",
    "        cal_logloss(spline_fit, y, i)   \n",
    "    \n",
    "    \n",
    "    plot_df = pd.DataFrame({\n",
    "        \"pred\": df[0],\n",
    "        \"label\": np.where(y > 0, 1, 0),\n",
    "        \"spline\": spline_fits[0]  # 変更後の値を利用\n",
    "    })\n",
    "    plot_df[\"pred_int\"] = plot_df[\"pred\"].astype(int)\n",
    "    plot_df = plot_df.groupby(\"pred_int\")[[\"spline\", \"label\"]].mean().reset_index()\n",
    "\n",
    "    plt.figure()\n",
    "    plt.plot(plot_df.pred_int, plot_df.label, label=\"label\")\n",
    "    plt.plot(plot_df.pred_int, plot_df.spline, label=\"spline\")\n",
    "    plt.legend()\n",
    "    plt.show()\n",
    "    return spline_model3\n",
    "\n",
    "\n",
    "\n",
    "# Platt Scalingを用いた補正曲線生成の関数 (ロジスティック回帰)\n",
    "def make_platt_scaling(df, y, repeat_cv):\n",
    "    platt_models = []\n",
    "    logloss_platt = []\n",
    "    \n",
    "    for i in range(repeat_cv):\n",
    "        X_train = np.array(df[i]).reshape(-1, 1)\n",
    "        y_binary = np.where(y > 0, 1, 0)\n",
    "        \n",
    "        model = LogisticRegression(random_state=42, solver='lbfgs')\n",
    "        model.fit(X_train, y_binary)\n",
    "        platt_models.append(model)\n",
    "        \n",
    "\n",
    "        platt_fit = model.predict_proba(X_train)[:, 1]\n",
    "        loss = cal_logloss(platt_fit, y, i)\n",
    "        logloss_platt.append(loss)\n",
    "    \n",
    "    \n",
    "    ###\n",
    "    plot_df = pd.DataFrame({\n",
    "        \"pred\": df[0],\n",
    "        \"label\": np.where(y > 0, 1, 0),\n",
    "        \"platt\": platt_models[0].predict_proba(np.array(df[0]).reshape(-1, 1))[:, 1]\n",
    "    })\n",
    "    plot_df[\"pred_int\"] = plot_df[\"pred\"].astype(int)\n",
    "    plot_df = plot_df.groupby(\"pred_int\")[[\"platt\", \"label\"]].mean().reset_index()\n",
    "    \n",
    "    plt.figure(figsize=(8, 5))\n",
    "    plt.plot(plot_df.pred_int, plot_df.label, marker='o', linestyle='-', label=\"True Label\")\n",
    "    plt.plot(plot_df.pred_int, plot_df.platt, marker='x', linestyle='--', label=\"Platt Scaling\")\n",
    "    plt.xlabel(\"Predicted Value (Integer)\")\n",
    "    plt.ylabel(\"Mean Value\")\n",
    "    plt.title(\"Platt Scaling Calibration Curve\")\n",
    "    plt.legend()\n",
    "    plt.grid(True)\n",
    "    plt.savefig(os.path.join(OUTPUT_PATH, f\"platt_scaling_fit_{PREDICT_YEAR}.png\"))\n",
    "    plt.close()\n",
    "    \n",
    "    avg_logloss = np.mean(logloss_platt)\n",
    "    results.append(f\"Average Platt Scaling logloss: {avg_logloss:.4f}\" if avg_logloss is not None else \"No logloss computed\")\n",
    "    \n",
    "    return platt_models\n",
    "\n",
    "def make_isotonic_regression(df, y, repeat_cv):\n",
    "    \"\"\" Isotonic Regression を用いた補正曲線生成 \"\"\"\n",
    "    isotonic_models = []\n",
    "    logloss_isotonic = []\n",
    "    \n",
    "    for i in range(repeat_cv):\n",
    "        X_train = np.array(df[i]).reshape(-1, 1)\n",
    "        y_binary = np.where(y > 0, 1, 0)\n",
    "        \n",
    "        model = IsotonicRegression(out_of_bounds=\"clip\")\n",
    "        model.fit(X_train.ravel(), y_binary)\n",
    "        isotonic_models.append(model)\n",
    "        \n",
    "        isotonic_fit = model.predict(X_train.ravel())\n",
    "        loss = cal_logloss(isotonic_fit, y, i)\n",
    "        logloss_isotonic.append(loss)\n",
    "    \n",
    "    plot_df = pd.DataFrame({\n",
    "        \"pred\": df[0],\n",
    "        \"label\": np.where(y > 0, 1, 0),\n",
    "        \"isotonic\": isotonic_models[0].predict(np.array(df[0]).reshape(-1, 1))\n",
    "    })\n",
    "    plot_df[\"pred_int\"] = plot_df[\"pred\"].astype(int)\n",
    "    plot_df = plot_df.groupby(\"pred_int\")[[\"isotonic\", \"label\"]].mean().reset_index()\n",
    "    \n",
    "    plt.figure(figsize=(8, 5))\n",
    "    plt.plot(plot_df.pred_int, plot_df.label, marker='o', linestyle='-', label=\"True Label\")\n",
    "    plt.plot(plot_df.pred_int, plot_df.isotonic, marker='x', linestyle='--', label=\"Isotonic Regression\")\n",
    "    plt.xlabel(\"Predicted Value (Integer)\")\n",
    "    plt.ylabel(\"Mean Value\")\n",
    "    plt.title(\"Isotonic Regression Calibration Curve\")\n",
    "    plt.legend()\n",
    "    plt.grid(True)\n",
    "    plt.savefig(os.path.join(OUTPUT_PATH, f\"isotonic_regression_fit_{PREDICT_YEAR}.png\"))\n",
    "    plt.close()\n",
    "    \n",
    "    avg_logloss = np.mean(logloss_isotonic)\n",
    "    results.append(f\"Average Isotonic Regression logloss: {avg_logloss:.4f}\" if avg_logloss is not None else \"No logloss computed\")\n",
    "    \n",
    "    return isotonic_models\n",
    "\n"
   ]
  },
  {
   "cell_type": "code",
   "execution_count": 26,
   "id": "d38e1916",
   "metadata": {
    "execution": {
     "iopub.execute_input": "2025-03-13T20:17:09.009346Z",
     "iopub.status.busy": "2025-03-13T20:17:09.009346Z",
     "iopub.status.idle": "2025-03-13T20:17:09.013991Z",
     "shell.execute_reply": "2025-03-13T20:17:09.013754Z"
    },
    "papermill": {
     "duration": 0.021413,
     "end_time": "2025-03-13T20:17:09.015010",
     "exception": false,
     "start_time": "2025-03-13T20:17:08.993597",
     "status": "completed"
    },
    "tags": []
   },
   "outputs": [],
   "source": [
    "# キャリブレーションカーブの描画関数\n",
    "def plot_calibration_curve(y_true, y_pred_proba, method, save_path):\n",
    "    \"\"\" キャリブレーションカーブをプロットし保存 \"\"\"\n",
    "    y_binary = np.where(y_true > 0, 1, 0) \n",
    "    prob_true, prob_pred = calibration_curve(y_binary, y_pred_proba, n_bins=10)\n",
    "    \n",
    "    plt.figure(figsize=(6,6))\n",
    "    plt.plot(prob_pred, prob_true, marker=\"o\", label=f\"{method} Calibration\")\n",
    "    plt.plot([0, 1], [0, 1], linestyle=\"--\", label=\"Perfect Calibration\")\n",
    "    plt.xlabel(\"Predicted Probability\")\n",
    "    plt.ylabel(\"Actual Probability\")\n",
    "    plt.legend()\n",
    "    plt.title(f\"{method} Calibration Curve\")\n",
    "    plt.grid()\n",
    "    plt.savefig(save_path)\n",
    "    plt.close()\n",
    "\n"
   ]
  },
  {
   "cell_type": "code",
   "execution_count": 27,
   "id": "a3e5b50c",
   "metadata": {
    "execution": {
     "iopub.execute_input": "2025-03-13T20:17:09.045792Z",
     "iopub.status.busy": "2025-03-13T20:17:09.045792Z",
     "iopub.status.idle": "2025-03-13T20:17:09.239002Z",
     "shell.execute_reply": "2025-03-13T20:17:09.239002Z"
    },
    "papermill": {
     "duration": 0.212998,
     "end_time": "2025-03-13T20:17:09.239002",
     "exception": false,
     "start_time": "2025-03-13T20:17:09.026004",
     "status": "completed"
    },
    "tags": []
   },
   "outputs": [
    {
     "name": "stdout",
     "output_type": "stream",
     "text": [
      "logloss of cvsplit 0: 0.5093\n",
      "logloss of cvsplit 1: 0.5061\n",
      "logloss of cvsplit 2: 0.5054\n",
      "logloss of cvsplit 3: 0.5037\n",
      "logloss of cvsplit 4: 0.5062\n",
      "logloss of cvsplit 5: 0.5051\n",
      "logloss of cvsplit 6: 0.5055\n",
      "logloss of cvsplit 7: 0.5091\n",
      "logloss of cvsplit 8: 0.5073\n",
      "logloss of cvsplit 9: 0.5050\n"
     ]
    }
   ],
   "source": [
    "# キャリブレーション手法の選択\n",
    "spline = MODEL.spline\n",
    "if spline == \"spline_normal\":\n",
    "    spline_model = make_normal_spline(oof_preds, y, repeat_cv)\n",
    "    calibrated_preds = spline_model[0](oof_preds[0])\n",
    "    plot_calibration_curve(y, calibrated_preds, \"Spline Normal\", os.path.join(OUTPUT_PATH, f\"spline_normal_calibration_{PREDICT_YEAR}.png\"))\n",
    "    \n",
    "elif spline == \"logistic\":\n",
    "    spline_model = make_platt_scaling(oof_preds, y, repeat_cv)\n",
    "    calibrated_preds = spline_model[0].predict_proba(np.array(oof_preds[0]).reshape(-1, 1))[:, 1]\n",
    "    plot_calibration_curve(y, calibrated_preds, \"Platt Scaling\", os.path.join(OUTPUT_PATH, f\"platt_scaling_calibration_{PREDICT_YEAR}.png\"))\n",
    "    \n",
    "elif spline == \"isotonic\":\n",
    "    spline_model = make_isotonic_regression(oof_preds, y, repeat_cv)\n",
    "    calibrated_preds = spline_model[0].predict(np.array(oof_preds[0]).reshape(-1, 1))\n",
    "    plot_calibration_curve(y, calibrated_preds, \"Isotonic Regression\", os.path.join(OUTPUT_PATH, f\"isotonic_regression_calibration_{PREDICT_YEAR}.png\"))"
   ]
  },
  {
   "cell_type": "markdown",
   "id": "0b3bec6e",
   "metadata": {
    "papermill": {
     "duration": 0.015855,
     "end_time": "2025-03-13T20:17:09.268950",
     "exception": false,
     "start_time": "2025-03-13T20:17:09.253095",
     "status": "completed"
    },
    "tags": []
   },
   "source": [
    "# submmit\n",
    "\n",
    "同じfeature engineeringする.\n",
    "\n",
    "個々の扱うも考える。2025は最終提出用の関数を用意する、その他2024以前は過去コンペでの提出形式に合わせる、でも年度によって提出形式が変わるからとりあえず2023でやる"
   ]
  },
  {
   "cell_type": "code",
   "execution_count": 28,
   "id": "810b8e3f",
   "metadata": {
    "execution": {
     "iopub.execute_input": "2025-03-13T20:17:09.289957Z",
     "iopub.status.busy": "2025-03-13T20:17:09.289957Z",
     "iopub.status.idle": "2025-03-13T20:17:09.304419Z",
     "shell.execute_reply": "2025-03-13T20:17:09.304419Z"
    },
    "papermill": {
     "duration": 0.037583,
     "end_time": "2025-03-13T20:17:09.306533",
     "exception": false,
     "start_time": "2025-03-13T20:17:09.268950",
     "status": "completed"
    },
    "tags": []
   },
   "outputs": [
    {
     "data": {
      "text/plain": [
       "'if PREDICT_YEAR==2022:\\n    sub = pd.read_csv(os.path.join(INPUT_PATH, \"SampleSubmission2022M.csv\"))\\n    sub[\\'Season\\'] = sub[\\'ID\\'].apply(lambda x: int(x.split(\\'_\\')[0]))\\n    sub[\"T1_TeamID\"] = sub[\\'ID\\'].apply(lambda x: int(x.split(\\'_\\')[1]))\\n    sub[\"T2_TeamID\"] = sub[\\'ID\\'].apply(lambda x: int(x.split(\\'_\\')[2]))\\n    sub_X, a = process_tourney(sub, mode = \"sub\")\\n    dtest = xgb.DMatrix(sub_X)\\nelif PREDICT_YEAR==2023:\\n    sub = pd.read_csv(os.path.join(INPUT_PATH, \"SampleSubmission2023.csv\"))\\n    sub[\\'Season\\'] = sub[\\'ID\\'].apply(lambda x: int(x.split(\\'_\\')[0]))\\n    sub[\"T1_TeamID\"] = sub[\\'ID\\'].apply(lambda x: int(x.split(\\'_\\')[1]))\\n    sub[\"T2_TeamID\"] = sub[\\'ID\\'].apply(lambda x: int(x.split(\\'_\\')[2]))\\n    sub_X, a = process_tourney(sub, mode = \"sub\")\\n    dtest = xgb.DMatrix(sub_X)\\nelif PREDICT_YEAR==2024:\\n    sub = pd.read_csv(os.path.join(INPUT_PATH, \"SampleSubmission2024.csv\"))\\n    sub[\\'Season\\'] = sub[\\'ID\\'].apply(lambda x: int(x.split(\\'_\\')[0]))\\n    sub[\"T1_TeamID\"] = sub[\\'ID\\'].apply(lambda x: int(x.split(\\'_\\')[1]))\\n    sub[\"T2_TeamID\"] = sub[\\'ID\\'].apply(lambda x: int(x.split(\\'_\\')[2]))\\n    sub_X, a = process_tourney(sub, mode = \"sub\")\\n    dtest = xgb.DMatrix(sub_X)\\nelif PREDICT_YEAR==2025:\\n    sub = pd.read_csv(os.path.join(INPUT_PATH, \"SampleSubmissionStage2.csv\"))\\n    sub[\\'Season\\'] = sub[\\'ID\\'].apply(lambda x: int(x.split(\\'_\\')[0]))\\n    sub[\"T1_TeamID\"] = sub[\\'ID\\'].apply(lambda x: int(x.split(\\'_\\')[1]))\\n    sub[\"T2_TeamID\"] = sub[\\'ID\\'].apply(lambda x: int(x.split(\\'_\\')[2]))   \\n    sub_X, a = process_tourney(sub, mode = \"sub\")\\n    dtest = xgb.DMatrix(sub_X)'"
      ]
     },
     "execution_count": 28,
     "metadata": {},
     "output_type": "execute_result"
    }
   ],
   "source": [
    "\"\"\"if PREDICT_YEAR==2022:\n",
    "    sub = pd.read_csv(os.path.join(INPUT_PATH, \"SampleSubmission2022M.csv\"))\n",
    "    sub['Season'] = sub['ID'].apply(lambda x: int(x.split('_')[0]))\n",
    "    sub[\"T1_TeamID\"] = sub['ID'].apply(lambda x: int(x.split('_')[1]))\n",
    "    sub[\"T2_TeamID\"] = sub['ID'].apply(lambda x: int(x.split('_')[2]))\n",
    "    sub_X, a = process_tourney(sub, mode = \"sub\")\n",
    "    dtest = xgb.DMatrix(sub_X)\n",
    "elif PREDICT_YEAR==2023:\n",
    "    sub = pd.read_csv(os.path.join(INPUT_PATH, \"SampleSubmission2023.csv\"))\n",
    "    sub['Season'] = sub['ID'].apply(lambda x: int(x.split('_')[0]))\n",
    "    sub[\"T1_TeamID\"] = sub['ID'].apply(lambda x: int(x.split('_')[1]))\n",
    "    sub[\"T2_TeamID\"] = sub['ID'].apply(lambda x: int(x.split('_')[2]))\n",
    "    sub_X, a = process_tourney(sub, mode = \"sub\")\n",
    "    dtest = xgb.DMatrix(sub_X)\n",
    "elif PREDICT_YEAR==2024:\n",
    "    sub = pd.read_csv(os.path.join(INPUT_PATH, \"SampleSubmission2024.csv\"))\n",
    "    sub['Season'] = sub['ID'].apply(lambda x: int(x.split('_')[0]))\n",
    "    sub[\"T1_TeamID\"] = sub['ID'].apply(lambda x: int(x.split('_')[1]))\n",
    "    sub[\"T2_TeamID\"] = sub['ID'].apply(lambda x: int(x.split('_')[2]))\n",
    "    sub_X, a = process_tourney(sub, mode = \"sub\")\n",
    "    dtest = xgb.DMatrix(sub_X)\n",
    "elif PREDICT_YEAR==2025:\n",
    "    sub = pd.read_csv(os.path.join(INPUT_PATH, \"SampleSubmissionStage2.csv\"))\n",
    "    sub['Season'] = sub['ID'].apply(lambda x: int(x.split('_')[0]))\n",
    "    sub[\"T1_TeamID\"] = sub['ID'].apply(lambda x: int(x.split('_')[1]))\n",
    "    sub[\"T2_TeamID\"] = sub['ID'].apply(lambda x: int(x.split('_')[2]))   \n",
    "    sub_X, a = process_tourney(sub, mode = \"sub\")\n",
    "    dtest = xgb.DMatrix(sub_X)\"\"\"\n",
    "    "
   ]
  },
  {
   "cell_type": "code",
   "execution_count": 29,
   "id": "9ca9eeb4",
   "metadata": {
    "execution": {
     "iopub.execute_input": "2025-03-13T20:17:09.337824Z",
     "iopub.status.busy": "2025-03-13T20:17:09.337824Z",
     "iopub.status.idle": "2025-03-13T20:17:09.358576Z",
     "shell.execute_reply": "2025-03-13T20:17:09.358576Z"
    },
    "papermill": {
     "duration": 0.050205,
     "end_time": "2025-03-13T20:17:09.360586",
     "exception": false,
     "start_time": "2025-03-13T20:17:09.310381",
     "status": "completed"
    },
    "tags": []
   },
   "outputs": [
    {
     "name": "stdout",
     "output_type": "stream",
     "text": [
      "no fillna, use nan\n",
      "drop col list: ['T1_opponent_Blkmean', 'T2_opponent_Blkmean', 'T1_TOmean', 'T2_TOmean', 'T1_opponent_Astmean', 'T2_opponent_Astmean', 'T1_opponent_FT_RATEmean', 'T2_opponent_FT_RATEmean']\n"
     ]
    }
   ],
   "source": [
    "sub = notexist.copy()\n",
    "sub = sub.rename(columns={\"WTeamID\": \"T1_TeamID\", \"LTeamID\": \"T2_TeamID\"})\n",
    "sub = sub[[\"Season\", \"T1_TeamID\", \"T2_TeamID\"]]\n",
    "temp = sub.copy()\n",
    "temp = temp.rename(columns={\"T1_TeamID\": \"T2_TeamID\", \"T2_TeamID\": \"T1_TeamID\"})\n",
    "sub = pd.concat([sub, temp]).reset_index()\n",
    "sub_X, a = process_tourney(sub, mode=\"sub\")\n",
    "sub_X = drop_columns(sub_X, drop_col)\n",
    "dtest = xgb.DMatrix(sub_X)"
   ]
  },
  {
   "cell_type": "code",
   "execution_count": 30,
   "id": "df1df641",
   "metadata": {
    "execution": {
     "iopub.execute_input": "2025-03-13T20:17:09.405246Z",
     "iopub.status.busy": "2025-03-13T20:17:09.405246Z",
     "iopub.status.idle": "2025-03-13T20:17:41.954046Z",
     "shell.execute_reply": "2025-03-13T20:17:41.954046Z"
    },
    "papermill": {
     "duration": 32.595464,
     "end_time": "2025-03-13T20:17:41.977889",
     "exception": false,
     "start_time": "2025-03-13T20:17:09.382425",
     "status": "completed"
    },
    "tags": []
   },
   "outputs": [
    {
     "name": "stderr",
     "output_type": "stream",
     "text": [
      "\r",
      "  0%|                                                                                                                                                            | 0/10 [00:00<?, ?it/s]"
     ]
    },
    {
     "name": "stderr",
     "output_type": "stream",
     "text": [
      "\r",
      " 10%|██████████████▊                                                                                                                                     | 1/10 [00:02<00:25,  2.85s/it]"
     ]
    },
    {
     "name": "stderr",
     "output_type": "stream",
     "text": [
      "\r",
      " 20%|█████████████████████████████▌                                                                                                                      | 2/10 [00:06<00:26,  3.31s/it]"
     ]
    },
    {
     "name": "stderr",
     "output_type": "stream",
     "text": [
      "\r",
      " 30%|████████████████████████████████████████████▍                                                                                                       | 3/10 [00:09<00:22,  3.20s/it]"
     ]
    },
    {
     "name": "stderr",
     "output_type": "stream",
     "text": [
      "\r",
      " 40%|███████████████████████████████████████████████████████████▏                                                                                        | 4/10 [00:12<00:18,  3.11s/it]"
     ]
    },
    {
     "name": "stderr",
     "output_type": "stream",
     "text": [
      "\r",
      " 50%|██████████████████████████████████████████████████████████████████████████                                                                          | 5/10 [00:16<00:16,  3.39s/it]"
     ]
    },
    {
     "name": "stderr",
     "output_type": "stream",
     "text": [
      "\r",
      " 60%|████████████████████████████████████████████████████████████████████████████████████████▊                                                           | 6/10 [00:19<00:13,  3.31s/it]"
     ]
    },
    {
     "name": "stderr",
     "output_type": "stream",
     "text": [
      "\r",
      " 70%|███████████████████████████████████████████████████████████████████████████████████████████████████████▌                                            | 7/10 [00:22<00:10,  3.34s/it]"
     ]
    },
    {
     "name": "stderr",
     "output_type": "stream",
     "text": [
      "\r",
      " 80%|██████████████████████████████████████████████████████████████████████████████████████████████████████████████████████▍                             | 8/10 [00:25<00:06,  3.12s/it]"
     ]
    },
    {
     "name": "stderr",
     "output_type": "stream",
     "text": [
      "\r",
      " 90%|█████████████████████████████████████████████████████████████████████████████████████████████████████████████████████████████████████▏              | 9/10 [00:29<00:03,  3.21s/it]"
     ]
    },
    {
     "name": "stderr",
     "output_type": "stream",
     "text": [
      "\r",
      "100%|███████████████████████████████████████████████████████████████████████████████████████████████████████████████████████████████████████████████████| 10/10 [00:32<00:00,  3.30s/it]"
     ]
    },
    {
     "name": "stderr",
     "output_type": "stream",
     "text": [
      "\r",
      "100%|███████████████████████████████████████████████████████████████████████████████████████████████████████████████████████████████████████████████████| 10/10 [00:32<00:00,  3.25s/it]"
     ]
    },
    {
     "name": "stderr",
     "output_type": "stream",
     "text": [
      "\n"
     ]
    }
   ],
   "source": [
    "sub_models = []\n",
    "#sokutionではカスタム関数の指定、早期停止の言及がここではなかった。検討する\n",
    "for i in tqdm(range(repeat_cv), leave=True, dynamic_ncols=True):\n",
    "    sub_models.append(\n",
    "        xgb.train(\n",
    "          params = param,\n",
    "          dtrain = dtrain,\n",
    "          obj=cauchyobj,\n",
    "          num_boost_round = int(iteration_counts[i] * 1.05),\n",
    "          #early_stopping_rounds=early_stopping_rounds, #これ指定してない、指定するのかあと、指定するとしても少し遅くさせるとか\n",
    "          verbose_eval = 50\n",
    "        )\n",
    "    )"
   ]
  },
  {
   "cell_type": "markdown",
   "id": "7bcf652d",
   "metadata": {
    "papermill": {
     "duration": 0.024331,
     "end_time": "2025-03-13T20:17:42.026350",
     "exception": false,
     "start_time": "2025-03-13T20:17:42.002019",
     "status": "completed"
    },
    "tags": []
   },
   "source": [
    "各特徴量の寄与度を算出"
   ]
  },
  {
   "cell_type": "code",
   "execution_count": 31,
   "id": "aae8ddc6",
   "metadata": {
    "execution": {
     "iopub.execute_input": "2025-03-13T20:17:42.071953Z",
     "iopub.status.busy": "2025-03-13T20:17:42.070926Z",
     "iopub.status.idle": "2025-03-13T20:17:42.544007Z",
     "shell.execute_reply": "2025-03-13T20:17:42.544007Z"
    },
    "papermill": {
     "duration": 0.490735,
     "end_time": "2025-03-13T20:17:42.544007",
     "exception": false,
     "start_time": "2025-03-13T20:17:42.053272",
     "status": "completed"
    },
    "tags": []
   },
   "outputs": [
    {
     "data": {
      "image/png": "[encoded data removed]",
      "text/plain": [
       "<Figure size 1000x600 with 1 Axes>"
      ]
     },
     "metadata": {},
     "output_type": "display_data"
    }
   ],
   "source": [
    "feature_importances = collections.defaultdict(list)\n",
    "for model in sub_models:\n",
    "    importance = model.get_score(importance_type='gain')\n",
    "    for feat, score in importance.items():\n",
    "        feature_importances[feat].append(score)\n",
    "\n",
    "avg_importance = {feat: sum(scores) / len(scores) for feat, scores in feature_importances.items()}\n",
    "fi_df = pd.DataFrame(list(avg_importance.items()), columns=['Feature', 'Avg_Gain'])\n",
    "fi_df.sort_values(by='Avg_Gain', ascending=False, inplace=True)\n",
    "results.append(\"\")\n",
    "fi_log = \"-----Feature Importance (Average Gain)-----\\n\"\n",
    "for feat, score in fi_df.values:\n",
    "    fi_log += f\"{feat}: {score:.4f}\\n\"\n",
    "results.append(fi_log)\n",
    "results.append(\"\")\n",
    "\n",
    "plt.figure(figsize=(10, 6))\n",
    "plt.bar(fi_df['Feature'], fi_df['Avg_Gain'])\n",
    "plt.xlabel('Feature')\n",
    "plt.ylabel('Average Gain')\n",
    "plt.title('Feature Importance (Average Gain)')\n",
    "plt.xticks(rotation=45)\n",
    "plt.tight_layout() \n",
    "\n",
    "plt.savefig(os.path.join(OUTPUT_PATH, f\"feature_importance_{PREDICT_YEAR}.png\"))\n",
    "plt.show()"
   ]
  },
  {
   "cell_type": "code",
   "execution_count": 32,
   "id": "7d95ae2e",
   "metadata": {
    "execution": {
     "iopub.execute_input": "2025-03-13T20:17:42.592069Z",
     "iopub.status.busy": "2025-03-13T20:17:42.592069Z",
     "iopub.status.idle": "2025-03-13T20:17:42.641204Z",
     "shell.execute_reply": "2025-03-13T20:17:42.641204Z"
    },
    "papermill": {
     "duration": 0.087135,
     "end_time": "2025-03-13T20:17:42.643215",
     "exception": false,
     "start_time": "2025-03-13T20:17:42.556080",
     "status": "completed"
    },
    "tags": []
   },
   "outputs": [
    {
     "name": "stderr",
     "output_type": "stream",
     "text": [
      "\r",
      "  0%|                                                                                                                                                            | 0/10 [00:00<?, ?it/s]"
     ]
    },
    {
     "name": "stderr",
     "output_type": "stream",
     "text": [
      "\r",
      "100%|██████████████████████████████████████████████████████████████████████████████████████████████████████████████████████████████████████████████████| 10/10 [00:00<00:00, 229.79it/s]"
     ]
    },
    {
     "name": "stderr",
     "output_type": "stream",
     "text": [
      "\n"
     ]
    }
   ],
   "source": [
    "sub_preds = []\n",
    "for i in tqdm(range(repeat_cv)):\n",
    "    if spline == \"spline_normal\":\n",
    "        sub_preds.append(np.clip(spline_model[i](np.clip(sub_models[i].predict(dtest), -30, 30)), 0.025, 0.975))\n",
    "    \n",
    "    elif spline == \"logistic\":\n",
    "        X_input = np.clip(sub_models[i].predict(dtest), -30, 30).reshape(-1, 1)\n",
    "        platt_pred = spline_model[i].predict_proba(X_input)[:, 1]\n",
    "        sub_preds.append(np.clip(platt_pred, 0.025, 0.975))\n",
    "\n",
    "    elif spline == \"isotonic\":\n",
    "        X_input = np.clip(sub_models[i].predict(dtest), -30, 30).reshape(-1, 1)\n",
    "        iso_pred = spline_model[i].predict(X_input)  # Isotonic Regression の適用\n",
    "        sub_preds.append(np.clip(iso_pred, 0.025, 0.975))\n",
    "\n",
    "sub[\"Pred\"] = np.mean(np.vstack(sub_preds), axis=0)"
   ]
  },
  {
   "cell_type": "code",
   "execution_count": 33,
   "id": "a5316b6e",
   "metadata": {
    "execution": {
     "iopub.execute_input": "2025-03-13T20:17:42.693061Z",
     "iopub.status.busy": "2025-03-13T20:17:42.693061Z",
     "iopub.status.idle": "2025-03-13T20:17:42.702272Z",
     "shell.execute_reply": "2025-03-13T20:17:42.702272Z"
    },
    "papermill": {
     "duration": 0.036349,
     "end_time": "2025-03-13T20:17:42.702272",
     "exception": false,
     "start_time": "2025-03-13T20:17:42.665923",
     "status": "completed"
    },
    "tags": []
   },
   "outputs": [
    {
     "name": "stdout",
     "output_type": "stream",
     "text": [
      "skip data flip\n"
     ]
    }
   ],
   "source": [
    "# 予測時にテストデータID反転させて予測して平均取る\n",
    "# dtestの用意とsub_predsの算出を同じようにやる\n",
    "# sub[\"Pred\"]を反転させたやつとの平均取ったやつにする\n",
    "TEST_REVERSE = MODEL.test_reverse\n",
    "\n",
    "if TEST_REVERSE:\n",
    "    print(\"----- data flip -----\") \n",
    "    sub_reverse = notexist.copy()\n",
    "    sub_reverse = sub_reverse.rename(columns={\"WTeamID\": \"T2_TeamID\", \"LTeamID\": \"T1_TeamID\"})#reverse!!\n",
    "    temp_reverse = sub_reverse.copy()\n",
    "    temp = temp.rename(columns={\"T1_TeamID\": \"T2_TeamID\", \"T2_TeamID\": \"T1_TeamID\"})\n",
    "    sub_reverse = pd.concat([sub_reverse, temp_reverse]).reset_index()\n",
    "    sub_reverse_X, a = process_tourney(sub_reverse, mode=\"sub\")\n",
    "    sub_reverse_X = drop_columns(sub_reverse_X, drop_col)\n",
    "    dtest_reverse = xgb.DMatrix(sub_reverse_X)\n",
    "    \n",
    "    sub_preds_reverse = []\n",
    "    for i in tqdm(range(repeat_cv)):\n",
    "        if spline == \"spline_normal\":\n",
    "            sub_preds_reverse.append(np.clip(spline_model[i](np.clip(sub_models[i].predict(dtest_reverse), -30, 30)), 0.025, 0.975))\n",
    "        \n",
    "        elif spline == \"logistic\":\n",
    "            X_input = np.clip(sub_models[i].predict(dtest_reverse), -30, 30).reshape(-1, 1)\n",
    "            platt_pred = spline_model[i].predict_proba(X_input)[:, 1]\n",
    "            sub_preds_reverse.append(np.clip(platt_pred, 0.025, 0.975))\n",
    "\n",
    "        elif spline == \"isotonic\":\n",
    "            X_input = np.clip(sub_models[i].predict(dtest_reverse), -30, 30).reshape(-1, 1)\n",
    "            iso_pred = spline_model[i].predict(X_input)  # Isotonic Regression の適用\n",
    "            sub_preds_reverse.append(np.clip(iso_pred, 0.025, 0.975))\n",
    "\n",
    "    sub_reverse[\"Pred\"] = np.mean(np.vstack(sub_preds_reverse), axis=0)\n",
    "    \n",
    " \n",
    "    #sub[\"Pred\"]を (sub[\"Pred\"] + (1-sub_reverse[\"Pred\"]))/2に塗り替える(平均取る)\n",
    "    sub[\"Pred\"] = (sub[\"Pred\"] + (1-sub_reverse[\"Pred\"]))/2\n",
    "\n",
    "\n",
    "else:\n",
    "    print(\"skip data flip\")"
   ]
  },
  {
   "cell_type": "code",
   "execution_count": 34,
   "id": "0c7c09d1",
   "metadata": {
    "execution": {
     "iopub.execute_input": "2025-03-13T20:17:42.744205Z",
     "iopub.status.busy": "2025-03-13T20:17:42.744205Z",
     "iopub.status.idle": "2025-03-13T20:17:42.756226Z",
     "shell.execute_reply": "2025-03-13T20:17:42.756226Z"
    },
    "papermill": {
     "duration": 0.027853,
     "end_time": "2025-03-13T20:17:42.756226",
     "exception": false,
     "start_time": "2025-03-13T20:17:42.728373",
     "status": "completed"
    },
    "tags": []
   },
   "outputs": [],
   "source": [
    "# teams:64team, targetを受け取って、そのtarget teamの試合可能性のある全63試合を抽出する関数\n",
    "def extract_target_team_records(submission_df, teams, target_team):\n",
    "    if target_team not in teams:\n",
    "        raise ValueError(f\"target_team {target_team} は teams 内に存在しません\")\n",
    "\n",
    "    remaining_teams = [t for t in teams if t != target_team]\n",
    "    \n",
    "    records = []\n",
    "    for other_team in remaining_teams:\n",
    "        lower = min(target_team, other_team)\n",
    "        higher = max(target_team, other_team)\n",
    "        row = submission_df[(submission_df['T1_TeamID'] == lower) & (submission_df['T2_TeamID'] == higher)]\n",
    "        if row.empty:\n",
    "            print(f\"Warning: 対戦 {lower} vs {higher} に対応するレコードが見つかりませんでした\")\n",
    "        else:\n",
    "            records.append(row)\n",
    "    \n",
    "    if records:\n",
    "        final_records = pd.concat(records, ignore_index=True)\n",
    "    else:\n",
    "        final_records = pd.DataFrame()\n",
    "    \n",
    "    if len(final_records) != 63:\n",
    "        print(f\"Warning: 期待される63件ではなく、{len(final_records)}件のレコードが抽出されました。\")\n",
    "    \n",
    "    return final_records\n"
   ]
  },
  {
   "cell_type": "code",
   "execution_count": 35,
   "id": "b646d989",
   "metadata": {
    "execution": {
     "iopub.execute_input": "2025-03-13T20:17:42.792769Z",
     "iopub.status.busy": "2025-03-13T20:17:42.792769Z",
     "iopub.status.idle": "2025-03-13T20:17:42.799589Z",
     "shell.execute_reply": "2025-03-13T20:17:42.799589Z"
    },
    "papermill": {
     "duration": 0.0239,
     "end_time": "2025-03-13T20:17:42.799589",
     "exception": false,
     "start_time": "2025-03-13T20:17:42.775689",
     "status": "completed"
    },
    "tags": []
   },
   "outputs": [],
   "source": [
    "tourney_teams_2023 = [\n",
    "    1395, 1113,   # TCU1395, アリゾナ・ステイト1113\n",
    "    1231, 1245,   # インディアナ1231, ケント・ステイト1245\n",
    "    1243, 1286,   # カンザス・ステイト1243, モンタナ・ステイト1286\n",
    "    1272, 1194,   # メンフィス1272, ﾌﾛﾘﾀﾞ･ｱﾄﾗﾝﾃｨｯｸ1194\n",
    "    1211, 1213,   # ゴンザガ1211, グランド・キャニオン1213\n",
    "    1274, 1179,   # マイアミ（フロリダ）1274, ドレイク1179\n",
    "    1243, 1286,   # ケンタッキー1243, プロビデンス1286\n",
    "    1345, 1192,   # パデュー1345, ﾌｪｱﾘｰ･ﾃﾞｨｷﾝｿﾝ1192\n",
    "    1163, 1233,   # コネチカット1163, アイオナ1233\n",
    "    1166, 1301,   # クレイトン1166, ﾉｰｽｶﾛﾗｲﾅ･ｽﾃｲﾄ1301\n",
    "    1235, 1338,   # アイオワ・ステイト1235, ピッツバーグ1338\n",
    "    1266, 1436,   # マーケット1266, バーモント1436\n",
    "    1388, 1433,   # ｾﾝﾄﾒｱﾘｰｽﾞ（ｶﾘﾌｫﾙﾆｱ）1388, VCU1433\n",
    "    1124, 1364,   # ベイラー1124, UCサンタバーバラ1364\n",
    "    1462, 1244,   # ザビエル1462, ケネソー・ステイト1244\n",
    "    1277, 1425,   # ミシガン・ステイト1277, USC トロージャンズ1425\n",
    "\n",
    "    1417, 1421,   # UCLA1417, UNC アシュビル1421\n",
    "    1401, 1336,   # テキサス A＆M1401, ﾍﾟﾝｼﾞﾙﾍﾞﾆｱ･ｽﾃｲﾄ1336\n",
    "    1397, 1418,   # テネシー1397, ﾙｲｼﾞｱﾅ･ﾗﾌｧｲｴｯﾄ1418\n",
    "    1222, 1297,   # ヒューストン1222, ノーザンケンタッキー1297\n",
    "    1321, 1129,   # ノースウェスタン1321, ボイシ・ステイト1129\n",
    "    1400, 1159,   # テキサス1400, コルゲート1159\n",
    "    1181, 1331,   # デューク1181, オーラル・ロバーツ1331\n",
    "    1234, 1120,   # アイオワ1234, オーバーン1120\n",
    "    1116, 1228,   # アーカンソー1116, イリノイ1228\n",
    "    1112, 1343,   # アリゾナ1112, プリンストン1343\n",
    "    1361, 1158,   # ｻﾝﾃﾞｴｺﾞ･ｽﾃｲﾄ1361, チャールストン1158\n",
    "    1104, 1394,   # アラバマ1104, テキサス A＆M CC1394\n",
    "    1242, 1224,   # カンザス1242, ハワード1224\n",
    "    1281, 1429,   # ミズーリ1281, ユタ・ステイト1429\n",
    "    1438, 1202,   # バージニア1438, ファーマン1202\n",
    "    1268, 1452    # メリーランド1268, ウェストバージニア1452\n",
    "]\n",
    "\n",
    "#Connecticut_vs = extract_target_team_records(sub, tourney_teams_2023, 1163 )"
   ]
  },
  {
   "cell_type": "code",
   "execution_count": 36,
   "id": "187a2b73",
   "metadata": {
    "execution": {
     "iopub.execute_input": "2025-03-13T20:17:42.824925Z",
     "iopub.status.busy": "2025-03-13T20:17:42.824925Z",
     "iopub.status.idle": "2025-03-13T20:17:42.841264Z",
     "shell.execute_reply": "2025-03-13T20:17:42.841264Z"
    },
    "papermill": {
     "duration": 0.032525,
     "end_time": "2025-03-13T20:17:42.841264",
     "exception": false,
     "start_time": "2025-03-13T20:17:42.808739",
     "status": "completed"
    },
    "tags": []
   },
   "outputs": [],
   "source": [
    "#handlabelingを行う関数\n",
    "def make_handlabeling(df, season, T1, T2, labeling_pred, tourney_teams):\n",
    "    if T1 not in tourney_teams or T2 not in tourney_teams: \n",
    "        print(f\"トーナメント対象チームに属していません\")\n",
    "        return \n",
    "    \n",
    "    if T1>T2: \n",
    "        T1, T2 = T2, T1\n",
    "        print(f\"{T1}, {T2}ID逆だけど大丈夫？？\")\n",
    "    id = f\"{season}_{T1}_{T2}\"\n",
    "\n",
    "    print(f\"before: {df[df['ID']==id]}\")\n",
    "    df.loc[df[\"ID\"] == id, \"Pred\"] = labeling_pred\n",
    "    print(f\"after: {df[df['ID']==id]}\")\n",
    "    \n",
    "    results.append(f\"-----handolabeling-----\")\n",
    "    results.append(f\"before:  {df[df['ID']==id]} -----> after: {df[df['ID']==id]}\")\n",
    "    results.appedn(\"\")\n",
    "    return df"
   ]
  },
  {
   "cell_type": "code",
   "execution_count": 37,
   "id": "f05798cf",
   "metadata": {
    "execution": {
     "iopub.execute_input": "2025-03-13T20:17:42.879200Z",
     "iopub.status.busy": "2025-03-13T20:17:42.879200Z",
     "iopub.status.idle": "2025-03-13T20:17:42.885072Z",
     "shell.execute_reply": "2025-03-13T20:17:42.885072Z"
    },
    "papermill": {
     "duration": 0.028563,
     "end_time": "2025-03-13T20:17:42.885072",
     "exception": false,
     "start_time": "2025-03-13T20:17:42.856509",
     "status": "completed"
    },
    "tags": []
   },
   "outputs": [],
   "source": [
    "labeling = cfg.exp.hand_labeling\n",
    "if labeling is not None:\n",
    "    for i in range(len(labeling)):\n",
    "        T1 = labeling[i][0]\n",
    "        T2 = labeling[i][1]\n",
    "        labeling_pred = labeling[i][2]\n",
    "        \n",
    "        print(f\"{T1} vs {T2} result labeling {labeling_pred}\")\n",
    "        \n",
    "        sub = make_handlabeling(sub, PREDICT_YEAR, T1, T2, labeling_pred, tourney_teams_2023)"
   ]
  },
  {
   "cell_type": "code",
   "execution_count": 38,
   "id": "fb24aca0",
   "metadata": {
    "execution": {
     "iopub.execute_input": "2025-03-13T20:17:42.923260Z",
     "iopub.status.busy": "2025-03-13T20:17:42.923260Z",
     "iopub.status.idle": "2025-03-13T20:17:43.123825Z",
     "shell.execute_reply": "2025-03-13T20:17:43.123825Z"
    },
    "papermill": {
     "duration": 0.230771,
     "end_time": "2025-03-13T20:17:43.123825",
     "exception": false,
     "start_time": "2025-03-13T20:17:42.893054",
     "status": "completed"
    },
    "tags": []
   },
   "outputs": [
    {
     "name": "stdout",
     "output_type": "stream",
     "text": [
      "Tournament matchups only - Pred Mean: 0.5003130158607227\n"
     ]
    },
    {
     "data": {
      "image/png": "[encoded data removed]",
      "text/plain": [
       "<Figure size 640x480 with 1 Axes>"
      ]
     },
     "metadata": {},
     "output_type": "display_data"
    }
   ],
   "source": [
    "tourney_filtered = notexist[notexist[\"Season\"] == PREDICT_YEAR].copy()\n",
    "a = tourney_filtered.rename(columns={'WTeamID': 'T1_TeamID', 'LTeamID': 'T2_TeamID'})\n",
    "b = tourney_filtered.rename(columns={'WTeamID': 'T2_TeamID', 'LTeamID': 'T1_TeamID'})\n",
    "ab = pd.concat([a, b]).reset_index(drop=True) \n",
    "filtered_sub = sub.merge(ab[['Season', 'T1_TeamID', 'T2_TeamID']], \n",
    "                         on=['Season', 'T1_TeamID', 'T2_TeamID'], \n",
    "                         how='inner')\n",
    "\n",
    "filtered_sub[\"Pred\"].astype(int)\n",
    "pred_mean = filtered_sub[\"Pred\"].mean()\n",
    "print(\"Tournament matchups only - Pred Mean:\", pred_mean)\n",
    "\n",
    "filtered_sub[\"Pred\"].hist(bins=50)\n",
    "results+=[\"\", f\"Tournament matchups only - Pred Mean:, {pred_mean}\", \"\"]\n",
    "plt.figure(figsize=(8, 6))\n",
    "filtered_sub[\"Pred\"].hist(bins=50)\n",
    "plt.title(\"Prediction Histogram\")\n",
    "plt.xlabel(\"Pred\")\n",
    "plt.ylabel(\"Frequency\")\n",
    "plt.grid(True)\n",
    "\n",
    "# 画像として保存\n",
    "plt.savefig(os.path.join(OUTPUT_PATH, f\"Prediction_Histgram_filtered_{PREDICT_YEAR}.png\"))\n",
    "plt.close()"
   ]
  },
  {
   "cell_type": "markdown",
   "id": "c18f1f81",
   "metadata": {
    "papermill": {
     "duration": 0.026457,
     "end_time": "2025-03-13T20:17:43.160682",
     "exception": false,
     "start_time": "2025-03-13T20:17:43.134225",
     "status": "completed"
    },
    "tags": []
   },
   "source": [
    "# スコア算出、まとめ、\n",
    "ここまでで提出ファイル作成。ここからは過去年度のシミュレーションに対してBrier scoreやその他指標の算出"
   ]
  },
  {
   "cell_type": "code",
   "execution_count": 39,
   "id": "471603c5",
   "metadata": {
    "execution": {
     "iopub.execute_input": "2025-03-13T20:17:43.199910Z",
     "iopub.status.busy": "2025-03-13T20:17:43.199910Z",
     "iopub.status.idle": "2025-03-13T20:17:43.444319Z",
     "shell.execute_reply": "2025-03-13T20:17:43.444319Z"
    },
    "papermill": {
     "duration": 0.263688,
     "end_time": "2025-03-13T20:17:43.444319",
     "exception": false,
     "start_time": "2025-03-13T20:17:43.180631",
     "status": "completed"
    },
    "tags": []
   },
   "outputs": [
    {
     "data": {
      "image/png": "[encoded data removed]",
      "text/plain": [
       "<Figure size 640x480 with 1 Axes>"
      ]
     },
     "metadata": {},
     "output_type": "display_data"
    }
   ],
   "source": [
    "sub[\"Pred\"].hist()\n",
    "results+=[\"\", f\"Pred mean: {sub['Pred'].mean()}\", \"\"]\n",
    "\n",
    "plt.figure(figsize=(8, 6))\n",
    "sub[\"Pred\"].hist(bins=50)\n",
    "plt.title(\"Prediction Histogram\")\n",
    "plt.xlabel(\"Pred\")\n",
    "plt.ylabel(\"Frequency\")\n",
    "plt.grid(True)\n",
    "\n",
    "# 画像として保存\n",
    "plt.savefig(os.path.join(OUTPUT_PATH, f\"Prediction_Histgram_{PREDICT_YEAR}.png\"))\n",
    "plt.close()"
   ]
  },
  {
   "cell_type": "markdown",
   "id": "3a4a1bb7",
   "metadata": {
    "papermill": {
     "duration": 0.020819,
     "end_time": "2025-03-13T20:17:43.470106",
     "exception": false,
     "start_time": "2025-03-13T20:17:43.449287",
     "status": "completed"
    },
    "tags": []
   },
   "source": [
    "存在するはずのない予測年度のトーナメント結果をもとに(Pred, label)を取り出し、以下を行う。\n",
    "\n",
    "- 各評価指標の計算\n",
    "- キャリブレーション可視化\n",
    "- AUC可視化"
   ]
  },
  {
   "cell_type": "code",
   "execution_count": 40,
   "id": "3478c467",
   "metadata": {
    "execution": {
     "iopub.execute_input": "2025-03-13T20:17:43.520002Z",
     "iopub.status.busy": "2025-03-13T20:17:43.520002Z",
     "iopub.status.idle": "2025-03-13T20:17:43.528498Z",
     "shell.execute_reply": "2025-03-13T20:17:43.528498Z"
    },
    "papermill": {
     "duration": 0.036108,
     "end_time": "2025-03-13T20:17:43.529508",
     "exception": false,
     "start_time": "2025-03-13T20:17:43.493400",
     "status": "completed"
    },
    "tags": []
   },
   "outputs": [],
   "source": [
    "def extract_labels_and_preds(sub, tourney):\n",
    "    \"\"\" 試合データから予測値 (Pred) と正解ラベル (label) を抽出する \"\"\"\n",
    "    label_data = tourney[[\"WTeamID\", \"LTeamID\", \"WScore\", \"LScore\"]]\n",
    "    label_data = label_data.rename(columns={\"WTeamID\": \"T1_TeamID\", \"LTeamID\": \"T2_TeamID\", \"WScore\": \"T1_Score\", \"LScore\": \"T2_Score\"})\n",
    "    temp = label_data.copy()\n",
    "    temp = temp.rename(columns={\"T1_TeamID\": \"T2_TeamID\", \"T2_TeamID\": \"T1_TeamID\", \"T1_Score\": \"T2_Score\", \"T2_Score\": \"T1_Score\"})\n",
    "    label_data = pd.concat([label_data, temp]).reset_index(drop=True)\n",
    "    \n",
    "    label_data = pd.merge(label_data, sub, on=[\"T1_TeamID\", \"T2_TeamID\"], how=\"left\")\n",
    "    label_data[\"label\"] = np.where(label_data[\"T1_Score\"] - label_data[\"T2_Score\"] > 0, 1, 0)\n",
    "    label_data = label_data.dropna(subset=[\"Pred\"])  # 欠損値を削除\n",
    "    \n",
    "    return label_data[[\"label\", \"Pred\"]]\n",
    "\n",
    "def calculate_metrics(label_data):\n",
    "    \"\"\" 各評価指標を計算 \"\"\"\n",
    "    brier_score = round(mean_squared_error(label_data[\"label\"], label_data[\"Pred\"]), 5)  # Brier Score (MSEと同じ)\n",
    "    rmse_score = round(mean_squared_error(label_data[\"label\"], label_data[\"Pred\"], squared=False), 5)  # RMSE\n",
    "    logloss_score = round(log_loss(label_data[\"label\"], label_data[\"Pred\"]), 5)  # Log Loss\n",
    "    mae_score = round(mean_absolute_error(label_data[\"label\"], label_data[\"Pred\"]), 5)  # MAE\n",
    "    \n",
    "    return {\n",
    "        \"Brier Score\": brier_score,\n",
    "        \"RMSE\": rmse_score,\n",
    "        \"Log Loss\": logloss_score,\n",
    "        \"MAE\": mae_score\n",
    "    }\n",
    "\n",
    "def plot_calibration_curve(label_data, n_bins=10):\n",
    "    \"\"\" キャリブレーションカーブをプロット \"\"\"\n",
    "    prob_true, prob_pred = calibration_curve(label_data[\"label\"], label_data[\"Pred\"], n_bins=n_bins)\n",
    "    \n",
    "    plt.figure(figsize=(6,6))\n",
    "    plt.plot(prob_pred, prob_true, marker=\"o\", label=\"Model Calibration\")\n",
    "    plt.plot([0, 1], [0, 1], linestyle=\"--\", label=\"Perfect Calibration\")\n",
    "    plt.xlabel(\"Predicted Probability\")\n",
    "    plt.ylabel(\"Actual Probability\")\n",
    "    plt.legend()\n",
    "    plt.title(\"Calibration Curve\")\n",
    "    plt.show()\n",
    "\n",
    "def calculate_auc_metrics(label_data):\n",
    "    global results\n",
    "    \"\"\" AUC-ROCとAUC-PRを計算 \"\"\"\n",
    "    auc_roc = roc_auc_score(label_data[\"label\"], label_data[\"Pred\"])\n",
    "    auc_pr = average_precision_score(label_data[\"label\"], label_data[\"Pred\"])\n",
    "    \n",
    "    print(f\"AUC-ROC: {auc_roc:.4f}\")\n",
    "    print(f\"AUC-PR: {auc_pr:.4f}\")\n",
    "    results += [\"---- AUC -----\", f\"AUC-ROC: {auc_roc:.4f}\", f\"AUC-PR: {auc_pr:.4f}\"]\n",
    "    "
   ]
  },
  {
   "cell_type": "code",
   "execution_count": 41,
   "id": "de15a49a",
   "metadata": {
    "execution": {
     "iopub.execute_input": "2025-03-13T20:17:43.567899Z",
     "iopub.status.busy": "2025-03-13T20:17:43.567899Z",
     "iopub.status.idle": "2025-03-13T20:17:43.661654Z",
     "shell.execute_reply": "2025-03-13T20:17:43.661654Z"
    },
    "papermill": {
     "duration": 0.11805,
     "end_time": "2025-03-13T20:17:43.661654",
     "exception": false,
     "start_time": "2025-03-13T20:17:43.543604",
     "status": "completed"
    },
    "tags": []
   },
   "outputs": [
    {
     "name": "stderr",
     "output_type": "stream",
     "text": [
      "C:\\Users\\81809\\anaconda3\\envs\\deep_learning_pytorch\\Lib\\site-packages\\sklearn\\metrics\\_regression.py:492: FutureWarning: 'squared' is deprecated in version 1.4 and will be removed in 1.6. To calculate the root mean squared error, use the function'root_mean_squared_error'.\n",
      "  warnings.warn(\n"
     ]
    },
    {
     "data": {
      "image/png": "[encoded data removed]",
      "text/plain": [
       "<Figure size 600x600 with 1 Axes>"
      ]
     },
     "metadata": {},
     "output_type": "display_data"
    },
    {
     "name": "stdout",
     "output_type": "stream",
     "text": [
      "AUC-ROC: 0.8561\n",
      "AUC-PR: 0.8682\n",
      "MAE: 0.31562\n",
      "\n",
      "---- AUC -----\n",
      "AUC-ROC: 0.8561\n",
      "AUC-PR: 0.8682\n"
     ]
    }
   ],
   "source": [
    "if PREDICT_YEAR == 2022:\n",
    "    notexist_MAN = notexist[notexist[\"WTeamID\"].astype(str).str.startswith(\"1\")]\n",
    "    notexist_WOMAN = notexist[notexist[\"WTeamID\"].astype(str).str.startswith(\"3\")]\n",
    "    label_data = extract_labels_and_preds(sub, notexist) ######\n",
    "else:\n",
    "    label_data = extract_labels_and_preds(sub, notexist)\n",
    "\n",
    "# 評価指標の計算\n",
    "score = calculate_metrics(label_data)\n",
    "results += [\"\",\"-----eval metrics-----\",\n",
    "            f\"Brier Score: {score['Brier Score']}\", \n",
    "            f\"RMSE: {score['RMSE']}\", \n",
    "            f\"Log Loss: {score['Log Loss']}\", \n",
    "            f\"MAE: {score['MAE']}\", \"\"]\n",
    "\n",
    "# キャリブレーションの確認\n",
    "plot_calibration_curve(label_data)\n",
    "\n",
    "# AUCの評価\n",
    "calculate_auc_metrics(label_data)\n",
    "\n",
    "for temp in range(-5, 0):\n",
    "    print(results[temp])"
   ]
  },
  {
   "cell_type": "code",
   "execution_count": 42,
   "id": "10fe3461",
   "metadata": {
    "execution": {
     "iopub.execute_input": "2025-03-13T20:17:43.707769Z",
     "iopub.status.busy": "2025-03-13T20:17:43.707769Z",
     "iopub.status.idle": "2025-03-13T20:17:43.712675Z",
     "shell.execute_reply": "2025-03-13T20:17:43.712310Z"
    },
    "papermill": {
     "duration": 0.039279,
     "end_time": "2025-03-13T20:17:43.713743",
     "exception": false,
     "start_time": "2025-03-13T20:17:43.674464",
     "status": "completed"
    },
    "tags": []
   },
   "outputs": [
    {
     "data": {
      "text/plain": [
       "'if PREDICT_YEAR!=2025:\\n    predict_year_label =notexist[[\"WTeamID\", \"LTeamID\", \"WScore\", \"LScore\"]].copy()\\n    predict_year_label.loc[:, \"Win\"] = np.where(predict_year_label[\"WScore\"] - predict_year_label[\"LScore\"] > 0, 1, 0)\\n    predict_year_label = predict_year_label[[\"WTeamID\", \"LTeamID\", \"Win\"]]\\n   \\n    predict_year_label.columns = [\"T1_TeamID\", \"T2_TeamID\", \"Win\"]\\n\\n    predict_year_label = pd.merge(predict_year_label, sub, on=[\"T1_TeamID\", \"T2_TeamID\"], how=\"left\")\\n    brier_score = np.mean((predict_year_label[\"Pred\"] - predict_year_label[\"Win\"])**2)\\n\\n    print(\"Brier Score:\", brier_score)\\n    results+=[f\"Brier Score: {brier_score}\", \"\"]\\n    predict_year_label.info()\\n'"
      ]
     },
     "execution_count": 42,
     "metadata": {},
     "output_type": "execute_result"
    }
   ],
   "source": [
    "\"\"\"if PREDICT_YEAR!=2025:\n",
    "    predict_year_label =notexist[[\"WTeamID\", \"LTeamID\", \"WScore\", \"LScore\"]].copy()\n",
    "    predict_year_label.loc[:, \"Win\"] = np.where(predict_year_label[\"WScore\"] - predict_year_label[\"LScore\"] > 0, 1, 0)\n",
    "    predict_year_label = predict_year_label[[\"WTeamID\", \"LTeamID\", \"Win\"]]\n",
    "   \n",
    "    predict_year_label.columns = [\"T1_TeamID\", \"T2_TeamID\", \"Win\"]\n",
    "\n",
    "    predict_year_label = pd.merge(predict_year_label, sub, on=[\"T1_TeamID\", \"T2_TeamID\"], how=\"left\")\n",
    "    brier_score = np.mean((predict_year_label[\"Pred\"] - predict_year_label[\"Win\"])**2)\n",
    "\n",
    "    print(\"Brier Score:\", brier_score)\n",
    "    results+=[f\"Brier Score: {brier_score}\", \"\"]\n",
    "    predict_year_label.info()\n",
    "\"\"\""
   ]
  },
  {
   "cell_type": "code",
   "execution_count": 43,
   "id": "28452e1f",
   "metadata": {
    "execution": {
     "iopub.execute_input": "2025-03-13T20:17:43.743244Z",
     "iopub.status.busy": "2025-03-13T20:17:43.743244Z",
     "iopub.status.idle": "2025-03-13T20:17:43.757207Z",
     "shell.execute_reply": "2025-03-13T20:17:43.757207Z"
    },
    "papermill": {
     "duration": 0.028898,
     "end_time": "2025-03-13T20:17:43.758735",
     "exception": false,
     "start_time": "2025-03-13T20:17:43.729837",
     "status": "completed"
    },
    "tags": []
   },
   "outputs": [
    {
     "name": "stdout",
     "output_type": "stream",
     "text": [
      "実行時間： 341.2秒\n"
     ]
    }
   ],
   "source": [
    "END_TIME = time.time()\n",
    "ELAPSED_TIME = END_TIME - START_TIME\n",
    "print(f\"実行時間： {ELAPSED_TIME:.1f}秒\")\n",
    "results.append(f\"実行時間： {ELAPSED_TIME:.1f}秒\")\n",
    "\n",
    "with open(os.path.join(OUTPUT_PATH, \"result.txt\"), \"a\", encoding=\"utf-8\") as f:\n",
    "    for line in results:\n",
    "        f.write(line + \"\\n\")"
   ]
  },
  {
   "cell_type": "code",
   "execution_count": 44,
   "id": "87b73ee0",
   "metadata": {
    "execution": {
     "iopub.execute_input": "2025-03-13T20:17:43.796645Z",
     "iopub.status.busy": "2025-03-13T20:17:43.796645Z",
     "iopub.status.idle": "2025-03-13T20:17:43.800595Z",
     "shell.execute_reply": "2025-03-13T20:17:43.800595Z"
    },
    "papermill": {
     "duration": 0.023881,
     "end_time": "2025-03-13T20:17:43.800595",
     "exception": false,
     "start_time": "2025-03-13T20:17:43.776714",
     "status": "completed"
    },
    "tags": []
   },
   "outputs": [],
   "source": [
    "logger.remove()"
   ]
  }
 ],
 "metadata": {
  "kernelspec": {
   "display_name": "deep_learning_pytorch",
   "language": "python",
   "name": "python3"
  },
  "language_info": {
   "codemirror_mode": {
    "name": "ipython",
    "version": 3
   },
   "file_extension": ".py",
   "mimetype": "text/x-python",
   "name": "python",
   "nbconvert_exporter": "python",
   "pygments_lexer": "ipython3",
   "version": "3.11.9"
  },
  "papermill": {
   "default_parameters": {},
   "duration": 345.279863,
   "end_time": "2025-03-13T20:17:44.388616",
   "environment_variables": {},
   "exception": null,
   "input_path": "c:\\Users\\81809\\Documents\\ALL_CODE\\kaggle\\March Machine Learning Mania 2025\\notebook\\1stplace_solution_2023.ipynb",
   "output_path": "exp071_20250314_051159.ipynb",
   "parameters": {
    "EXP_NUM": "exp071"
   },
   "start_time": "2025-03-13T20:11:59.108753",
   "version": "2.6.0"
  }
 },
 "nbformat": 4,
 "nbformat_minor": 5
}