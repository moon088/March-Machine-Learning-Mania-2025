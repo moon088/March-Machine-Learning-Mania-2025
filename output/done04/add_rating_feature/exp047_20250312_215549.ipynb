{
 "cells": [
  {
   "cell_type": "code",
   "execution_count": 1,
   "id": "5fedcee3",
   "metadata": {
    "execution": {
     "iopub.execute_input": "2025-03-12T12:55:51.151268Z",
     "iopub.status.busy": "2025-03-12T12:55:51.151268Z",
     "iopub.status.idle": "2025-03-12T12:55:51.164736Z",
     "shell.execute_reply": "2025-03-12T12:55:51.164736Z"
    },
    "papermill": {
     "duration": 0.018068,
     "end_time": "2025-03-12T12:55:51.166538",
     "exception": false,
     "start_time": "2025-03-12T12:55:51.148470",
     "status": "completed"
    },
    "tags": [
     "parameters"
    ]
   },
   "outputs": [],
   "source": [
    "# Parameters\n",
    "EXP_NUM = \"default\""
   ]
  },
  {
   "cell_type": "code",
   "execution_count": 2,
   "id": "0ae022d9",
   "metadata": {
    "execution": {
     "iopub.execute_input": "2025-03-12T12:55:51.172766Z",
     "iopub.status.busy": "2025-03-12T12:55:51.172766Z",
     "iopub.status.idle": "2025-03-12T12:55:51.183701Z",
     "shell.execute_reply": "2025-03-12T12:55:51.183701Z"
    },
    "papermill": {
     "duration": 0.012995,
     "end_time": "2025-03-12T12:55:51.185761",
     "exception": false,
     "start_time": "2025-03-12T12:55:51.172766",
     "status": "completed"
    },
    "tags": [
     "injected-parameters"
    ]
   },
   "outputs": [],
   "source": [
    "# Parameters\n",
    "EXP_NUM = \"exp047\"\n"
   ]
  },
  {
   "cell_type": "markdown",
   "id": "1b43c92d",
   "metadata": {
    "papermill": {
     "duration": 0.0,
     "end_time": "2025-03-12T12:55:51.189773",
     "exception": false,
     "start_time": "2025-03-12T12:55:51.189773",
     "status": "completed"
    },
    "tags": []
   },
   "source": [
    "# 2023 1st place solution\n",
    "[kaggle notebook](https://www.kaggle.com/code/rustyb/paris-madness-2023#Load-the-data!)"
   ]
  },
  {
   "cell_type": "markdown",
   "id": "b362514d",
   "metadata": {
    "papermill": {
     "duration": 0.001914,
     "end_time": "2025-03-12T12:55:51.202626",
     "exception": false,
     "start_time": "2025-03-12T12:55:51.200712",
     "status": "completed"
    },
    "tags": []
   },
   "source": [
    "# コードの流れ\n",
    "1. hydraからハイパラ取得し、パスなどを設定\n",
    "\n",
    "    regular&tourney Detaile Result, Seedを使用し、tourneyを目的変数としてモデルを予測していく\n",
    "\n",
    "    regular_data->season_statistics->\n",
    "\n",
    "    以下の前処理をする\n",
    "\n",
    "2. データ２倍にかさまし\n",
    "3. regularに対して特徴量の追加\n",
    "    各チームごとに加えるもの\n",
    "   - EFFG: フィールドゴール成功率\n",
    "   - EFFG3: フィールドゴール3p成功率\n",
    "   - DARE: フィールドゴールにおける3P率\n",
    "   - \"win\"を目的変数とする(Team, Season)のロジスティック回帰した各係数\n",
    "    対戦カードごとに加える特徴量\n",
    "    - PointDiff: ポイント差\n",
    "    - win: 1 if PointDiff>0 else 0\n",
    "4. (Team, Season)ごとに特徴量season_statixtics追加\n",
    "    - win_ratio_14d\n",
    "    - box score mean\n",
    "    - quality\n",
    "    - seed\n",
    "5. season_average.enabled=trueなら直近３シーズンの加重平均の処理加える\n",
    "6. tourneyをteamID, Season, score(y)のみ取り出してこれに対してseason_statisticsの結合と特徴量微調整\n",
    "   - seed->seeddiff\n",
    "   - fillna()\n",
    "\n",
    "7. モデル構築\n",
    "8. KFOLD->OOF予測->spline曲線求めてlogloss算出\n",
    "    - KFOLDによる交差検証（CV）\n",
    "        repeat_cv 回のループで、各反復ごとにKFold（folds_splits個）によりデータを分割し、XGBoostのCVを実行しています。\n",
    "        各foldでの結果（例えば、訓練MAE、検証MAEの平均値や標準偏差）がcv_resultとして得られ、それをxgb_cvリストに格納します。\n",
    "        この段階で重要なのは、各反復での検証用MAEの平均値 (test-mae-mean) の最小値と、そのときのブーストラウンド数です。\n",
    "        それらは後で、最適なイテレーション数 (iteration_counts) として計算され、val_mae にも格納されます。\n",
    "    - OOF予測の流れ\n",
    "\n",
    "        各反復ごとに、新たなKFoldを用いてデータを分割。\n",
    "        各foldごとに、学習データでモデルを訓練し、検証データに対して予測を実施。\n",
    "        すべてのfold分の予測結果を1つの予測配列にまとめ、最後に -30～30 の範囲にクリップしています。\n",
    "        重要な結果\n",
    "\n",
    "        OOF予測結果（oof_preds）自体は後段で別途評価指標に使用できるほか、各反復ごとの予測精度や誤差を算出する際の基礎データ\n",
    "9.  提出フェーズ\n",
    "    - 最適paramで全データ使って訓練\n",
    "    - 提出試合の予測"
   ]
  },
  {
   "cell_type": "markdown",
   "id": "65895630",
   "metadata": {
    "papermill": {
     "duration": 0.014974,
     "end_time": "2025-03-12T12:55:51.217600",
     "exception": false,
     "start_time": "2025-03-12T12:55:51.202626",
     "status": "completed"
    },
    "tags": []
   },
   "source": [
    "memo\n",
    "\n",
    "欠損値が発生していいのか検討して保管について考える\n",
    "seedがかけているのはregularに対してseedを与えているから大丈夫。最終的なtourneyには欠損０で追加できているから問題ない"
   ]
  },
  {
   "cell_type": "code",
   "execution_count": 3,
   "id": "91d833d1",
   "metadata": {
    "execution": {
     "iopub.execute_input": "2025-03-12T12:55:51.219049Z",
     "iopub.status.busy": "2025-03-12T12:55:51.219049Z",
     "iopub.status.idle": "2025-03-12T12:55:51.234160Z",
     "shell.execute_reply": "2025-03-12T12:55:51.234160Z"
    },
    "papermill": {
     "duration": 0.015111,
     "end_time": "2025-03-12T12:55:51.234160",
     "exception": false,
     "start_time": "2025-03-12T12:55:51.219049",
     "status": "completed"
    },
    "tags": []
   },
   "outputs": [
    {
     "name": "stdout",
     "output_type": "stream",
     "text": [
      "Current working directory: c:\\Users\\81809\\Documents\\ALL_CODE\\kaggle\\March Machine Learning Mania 2025\\notebook\n",
      "これ出力されてんの？\n"
     ]
    }
   ],
   "source": [
    "import os\n",
    "print(\"Current working directory:\", os.getcwd())\n",
    "print(\"これ出力されてんの？\")"
   ]
  },
  {
   "cell_type": "code",
   "execution_count": 4,
   "id": "eb629d96",
   "metadata": {
    "execution": {
     "iopub.execute_input": "2025-03-12T12:55:51.234160Z",
     "iopub.status.busy": "2025-03-12T12:55:51.234160Z",
     "iopub.status.idle": "2025-03-12T12:55:53.343426Z",
     "shell.execute_reply": "2025-03-12T12:55:53.343426Z"
    },
    "papermill": {
     "duration": 2.111155,
     "end_time": "2025-03-12T12:55:53.345315",
     "exception": false,
     "start_time": "2025-03-12T12:55:51.234160",
     "status": "completed"
    },
    "tags": []
   },
   "outputs": [
    {
     "name": "stderr",
     "output_type": "stream",
     "text": [
      "C:\\Users\\81809\\anaconda3\\envs\\deep_learning_pytorch\\Lib\\site-packages\\tqdm\\auto.py:21: TqdmWarning: IProgress not found. Please update jupyter and ipywidgets. See https://ipywidgets.readthedocs.io/en/stable/user_install.html\n",
      "  from .autonotebook import tqdm as notebook_tqdm\n"
     ]
    },
    {
     "name": "stdout",
     "output_type": "stream",
     "text": [
      "exp047\n",
      "Omega conf is below\n",
      "dir:\n",
      "  input_dir: ../input\n",
      "  output_dir: ../output\n",
      "  src_path: ../src\n",
      "  conf_path: ../conf\n",
      "exp:\n",
      "  name: add_rating_feature\n",
      "  print_name: base & add rating feature\n",
      "  tournament:\n",
      "    use_start_season: 1985\n",
      "    target_season: 2021\n",
      "  features:\n",
      "    cal_mean_boxscore:\n",
      "      T1_Score: true\n",
      "      T2_Score: true\n",
      "      PointDiff: true\n",
      "      T1_FGM: true\n",
      "      T2_FGM: true\n",
      "      T1_FGA: true\n",
      "      T2_FGA: true\n",
      "      T1_FGM3: true\n",
      "      T2_FGM3: true\n",
      "      T1_FGA3: true\n",
      "      T2_FGA3: true\n",
      "      T1_FTM: true\n",
      "      T2_FTM: true\n",
      "      T1_FTA: true\n",
      "      T2_FTA: true\n",
      "      T1_EFFG: false\n",
      "      T2_EFFG: false\n",
      "      T1_EFFG3: false\n",
      "      T2_EFFG3: false\n",
      "      T1_EFG_SUM: true\n",
      "      T2_EFG_SUM: true\n",
      "      T1_TO_RATIO: true\n",
      "      T2_TO_RATIO: true\n",
      "      T1_OR: true\n",
      "      T2_OR: true\n",
      "      T1_DR: true\n",
      "      T2_DR: true\n",
      "      T1_REB_RATE: true\n",
      "      T2_REB_RATE: true\n",
      "      T1_FT_RATE: true\n",
      "      T2_FT_RATE: true\n",
      "      T1_RATING: true\n",
      "      T2_RATING: true\n",
      "      T1_POSS_RATE: true\n",
      "      T2_POSS_RATE: true\n",
      "      T1_Ast: true\n",
      "      T2_Ast: true\n",
      "      T1_TO: true\n",
      "      T2_TO: true\n",
      "      T1_Stl: true\n",
      "      T2_Stl: true\n",
      "      T1_Blk: true\n",
      "      T2_Blk: true\n",
      "      T1_PF: true\n",
      "      T2_PF: true\n",
      "      T1_DARE: false\n",
      "      T2_DARE: false\n",
      "      T1_TOQUETOQUE: false\n",
      "      T2_TOQUETOQUE: false\n",
      "    rank_diff: true\n",
      "    start_quality_season: 2003\n",
      "    season_average:\n",
      "      enabled: false\n",
      "      past_years: 3\n",
      "      weights:\n",
      "      - 1\n",
      "      - 2\n",
      "      - 3\n",
      "    fillna:\n",
      "      quality: 'nan'\n",
      "  model:\n",
      "    repeat_cv: 10\n",
      "    optuna_enabled: false\n",
      "    xgb_model:\n",
      "      param:\n",
      "        eval_metric: rmse\n",
      "        booster: gbtree\n",
      "        eta: 0.02\n",
      "        subsample: 0.35\n",
      "        colsample_bytree: 0.7\n",
      "        num_parallel_tree: 10\n",
      "        min_child_weight: 40\n",
      "        gamma: 10\n",
      "        max_depth: 3\n",
      "      obj: cauchyoj\n",
      "      num_boost_round: 3000\n",
      "      folds_splits: 5\n",
      "      early_stopping_rounds: 25\n",
      "      optuna:\n",
      "        max_depth:\n",
      "        - 3\n",
      "        - 7\n",
      "        eta:\n",
      "        - 0.001\n",
      "        - 0.03\n",
      "        subsample:\n",
      "        - 0.2\n",
      "        - 0.5\n",
      "        colsample_bytree:\n",
      "        - 0.5\n",
      "        - 1.0\n",
      "        num_parallel_tree:\n",
      "        - 7\n",
      "        - 12\n",
      "        min_child_weight:\n",
      "        - 30\n",
      "        - 50\n",
      "        reg_alpha:\n",
      "        - 0.0\n",
      "        - 1.0\n",
      "        reg_lambda:\n",
      "        - 0.0\n",
      "        - 1.0\n",
      "        gamma:\n",
      "        - 0\n",
      "        - 10\n",
      "        n_trials: 1000\n",
      "        timeout: 28800\n",
      "        n_jobs: -1\n",
      "        n_warmup_steps: 3\n",
      "    spline: logistic\n",
      "  hand_labeling: null\n",
      "\n"
     ]
    }
   ],
   "source": [
    "\n",
    "import os\n",
    "import sys\n",
    "from pathlib import Path\n",
    "import collections\n",
    "from datetime import datetime\n",
    "import shutil\n",
    "import yaml\n",
    "from tqdm import tqdm\n",
    "import time\n",
    "import optuna\n",
    "from loguru import logger\n",
    "import collections\n",
    "\n",
    "from hydra import initialize, initialize_config_module, initialize_config_dir, compose\n",
    "from omegaconf import OmegaConf\n",
    "\n",
    "import numpy as np\n",
    "import pandas as pd\n",
    "import matplotlib.pyplot as plt\n",
    "import seaborn as sns\n",
    "from scipy.interpolate import UnivariateSpline\n",
    "\n",
    "import xgboost as xgb\n",
    "from xgboost import XGBRegressor\n",
    "from sklearn.model_selection import KFold\n",
    "from sklearn.calibration import calibration_curve\n",
    "from sklearn.metrics import log_loss,mean_squared_error, mean_absolute_error, roc_auc_score, average_precision_score\n",
    "from sklearn.metrics import make_scorer\n",
    "from sklearn.model_selection import cross_val_score, KFold\n",
    "from sklearn.linear_model import LogisticRegression\n",
    "from sklearn.preprocessing import OneHotEncoder\n",
    "from sklearn.isotonic import IsotonicRegression\n",
    "\n",
    "import statsmodels.api as sm\n",
    "\n",
    "START_TIME = time.time()\n",
    "\n",
    "\n",
    "#####\n",
    "#EXP_NUM = \"exp030\"\n",
    "#####\n",
    "print(EXP_NUM)\n",
    "\n",
    "# hydraの初期設定と指定ハイパラの取得\n",
    "sys.path.append(os.path.abspath(\"/workspace\"))\n",
    "sys.path.append(\"C:\\\\Users\\\\81809\\\\Documents\\\\ALL_CODE\\\\kaggle\\\\March Machine Learning Mania 2025\")\n",
    "with initialize_config_module(version_base=None, config_module=\"conf\"):\n",
    "    cfg = compose(\n",
    "        config_name=\"base.yaml\",\n",
    "        overrides=[\n",
    "            f\"+exp={EXP_NUM}\" #defaultexp001->exp002のオーバーライド\n",
    "        ],\n",
    "    )\n",
    "    \n",
    "    OmegaConf.resolve(cfg)\n",
    "    print(\"Omega conf is below\")\n",
    "    print(OmegaConf.to_yaml(cfg))\n"
   ]
  },
  {
   "cell_type": "code",
   "execution_count": 5,
   "id": "7712aac6",
   "metadata": {
    "execution": {
     "iopub.execute_input": "2025-03-12T12:55:53.345315Z",
     "iopub.status.busy": "2025-03-12T12:55:53.345315Z",
     "iopub.status.idle": "2025-03-12T12:55:53.372767Z",
     "shell.execute_reply": "2025-03-12T12:55:53.372767Z"
    },
    "papermill": {
     "duration": 0.027452,
     "end_time": "2025-03-12T12:55:53.372767",
     "exception": false,
     "start_time": "2025-03-12T12:55:53.345315",
     "status": "completed"
    },
    "tags": []
   },
   "outputs": [
    {
     "name": "stdout",
     "output_type": "stream",
     "text": [
      "########\n",
      "output dir name: add_rating_feature\n",
      "Run on 2025-03-12 21:55:53.362621\n",
      "base & add rating feature\n",
      "########\n"
     ]
    }
   ],
   "source": [
    "PREDICT_YEAR = cfg.exp.tournament.target_season\n",
    "name = f\"{cfg.exp.name}\"\n",
    "now = str(datetime.now())\n",
    "print(\"########\")\n",
    "print(f\"output dir name: {name}\")\n",
    "print(f\"Run on {now}\")\n",
    "print(cfg.exp.print_name)\n",
    "print(\"########\")\n",
    "\n",
    "BASE_DIR = os.path.abspath(os.path.join(os.getcwd(), \"..\"))\n",
    "CONF_PATH = os.path.join(BASE_DIR, \"conf\")\n",
    "INPUT_PATH = os.path.join(BASE_DIR, \"input\")\n",
    "EXP_PATH = os.path.join(CONF_PATH, \"exp\", f\"{EXP_NUM}.yaml\")\n",
    "OUTPUT_PATH = os.path.join(BASE_DIR, \"output\", name)\n",
    "SRC_PATH = cfg.dir.src_path\n",
    "sys.path.append(SRC_PATH)\n",
    "\n",
    "os.makedirs(OUTPUT_PATH, exist_ok=True)  \n",
    "with open(EXP_PATH, \"r\", encoding=\"utf-8\") as f:\n",
    "    config = yaml.safe_load(f)\n",
    "shutil.copyfile(EXP_PATH, os.path.join(OUTPUT_PATH, f\"{EXP_NUM}.yaml\"))\n",
    "\n",
    "\n",
    "y_season = cfg.exp.tournament.target_season\n",
    "FEATURES = cfg.exp.features\n",
    "MODEL = cfg.exp.model\n",
    "results = [f\"-----{PREDICT_YEAR}-----\", now ,name, cfg.exp.print_name,\"\"]"
   ]
  },
  {
   "cell_type": "code",
   "execution_count": 6,
   "id": "6778166b",
   "metadata": {
    "execution": {
     "iopub.execute_input": "2025-03-12T12:55:53.387842Z",
     "iopub.status.busy": "2025-03-12T12:55:53.387842Z",
     "iopub.status.idle": "2025-03-12T12:55:54.755975Z",
     "shell.execute_reply": "2025-03-12T12:55:54.755975Z"
    },
    "papermill": {
     "duration": 1.380507,
     "end_time": "2025-03-12T12:55:54.755975",
     "exception": false,
     "start_time": "2025-03-12T12:55:53.375468",
     "status": "completed"
    },
    "tags": []
   },
   "outputs": [],
   "source": [
    "tourney_results = pd.concat([\n",
    "    pd.read_csv(os.path.join(INPUT_PATH,\"MNCAATourneyDetailedResults.csv\")),\n",
    "    pd.read_csv(os.path.join(INPUT_PATH,\"WNCAATourneyDetailedResults.csv\")),\n",
    "], ignore_index=True)\n",
    "\n",
    "seeds = pd.concat([\n",
    "    pd.read_csv(os.path.join(INPUT_PATH,\"MNCAATourneySeeds.csv\")),\n",
    "    pd.read_csv(os.path.join(INPUT_PATH,\"WNCAATourneySeeds.csv\")),\n",
    "], ignore_index=True)\n",
    "\n",
    "regular_results = pd.concat([\n",
    "    pd.read_csv(os.path.join(INPUT_PATH, \"MRegularSeasonDetailedResults.csv\")),\n",
    "    pd.read_csv(os.path.join(INPUT_PATH,\"WRegularSeasonDetailedResults.csv\")),\n",
    "], ignore_index=True)\n",
    "\n",
    "ordinal_rank = pd.read_csv(os.path.join(INPUT_PATH, \"MMasseyOrdinals.csv\"))\n",
    "\n",
    "# 1試合情報からWin,Lose反転させてデータ数２倍にかさまし and WLoc -> location(0 or -1 or 1)\n",
    "def prepare_data(df1):\n",
    "    df = df1.copy()\n",
    "    ### add new box score\n",
    "    #type1: normal EFG\n",
    "    df['WEFFG'] = df['WFGM'] / df['WFGA']\n",
    "    df['LEFFG'] = df['LFGM'] / df['LFGA']\n",
    "    #type2: 1stfeature EFG\n",
    "    df['WEFFG3'] = np.where(df['WFGA3'] == 0, 0, df['WFGM3'] / df['WFGA3'])\n",
    "    df['LEFFG3'] = np.where(df['LFGA3'] == 0, 0, df['LFGM3'] / df['LFGA3'])\n",
    "    df['WDARE'] = df['WFGM3'] / df['WFGM']\n",
    "    df['LDARE'] = df['LFGM3'] / df['LFGM']\n",
    "    df['WTOQUETOQUE'] = df['WAst'] / df['WFGM']\n",
    "    df['LTOQUETOQUE'] = df['LAst'] / df['LFGM']\n",
    "    #type3: OFF/DEF FGE\n",
    "    df[\"WEFG_SUM\"] = (df[\"WFGM\"]+0.5*df[\"WFGM3\"])/df[\"WFGA\"]\n",
    "    df[\"LEFG_SUM\"] = (df[\"LFGM\"]+0.5*df[\"LFGM3\"])/df[\"LFGA\"]\n",
    "\n",
    "    #POSS RATE\n",
    "    df[\"WPOSS\"] = df[\"WFGA\"] + 0.44*df[\"WFTA\"] - df[\"WOR\"] + df[\"WTO\"]\n",
    "    df[\"LPOSS\"] = df[\"LFGA\"] + 0.44*df[\"LFTA\"] - df[\"LOR\"] + df[\"LTO\"]\n",
    "    df[\"WPOSS_RATE\"] = df[\"WPOSS\"]/(df[\"WPOSS\"]+df[\"LPOSS\"])\n",
    "    df[\"LPOSS_RATE\"] = df[\"LPOSS\"]/(df[\"WPOSS\"]+df[\"LPOSS\"])\n",
    "    \n",
    "    #TO Ratio \n",
    "    df[\"WTO_RATIO\"] = df[\"WTO\"]/(df[\"WFGA\"]+0.44*df[\"WFTA\"]+df[\"WTO\"])#POSS RATEと違ってOR入っていない\n",
    "    df[\"LTO_RATIO\"] = df[\"LTO\"]/(df[\"LFGA\"]+0.44*df[\"LFTA\"]+df[\"LTO\"])\n",
    "    \n",
    "    # REB%\n",
    "    df[\"WREB_RATE\"] = df[\"WOR\"]/(df[\"WOR\"]+df[\"LDR\"])\n",
    "    df[\"LREB_RATE\"] = df[\"LOR\"]/(df[\"LOR\"]+df[\"WDR\"])\n",
    "    \n",
    "    #FT %\n",
    "    df[\"WFT_RATE\"] = df[\"WFTA\"]/df[\"WFGA\"]\n",
    "    df[\"LFT_RATE\"] = df[\"LFTA\"]/df[\"LFGA\"]\n",
    "    \n",
    "    #rating\n",
    "    df[\"WRATING\"] = df[\"WScore\"]/df[\"WPOSS\"]\n",
    "    df[\"LRATING\"] = df[\"LScore\"]/df[\"LPOSS\"]\n",
    "        \n",
    "    #0除算補完\n",
    "    print(df.info())\n",
    "        \n",
    "    #かさましに伴う反転カラム\n",
    "    dfswap = df.copy()\n",
    "    # Home, Away変換して反転\n",
    "    dfswap.loc[df['WLoc'] == 'H', 'WLoc'] = 'A'\n",
    "    dfswap.loc[df['WLoc'] == 'A', 'WLoc'] = 'H'\n",
    "    df.columns.values[6] = 'location'\n",
    "    dfswap.columns.values[6] = 'location'    \n",
    "    #反転\n",
    "    df.columns = [x.replace('W','T1_').replace('L','T2_') for x in list(df.columns)]\n",
    "    dfswap.columns = [x.replace('L','T1_').replace('W','T2_') for x in list(dfswap.columns)]\n",
    "    output = pd.concat([df, dfswap]).reset_index(drop=True)\n",
    "    \n",
    "    \n",
    "    #add new feature\n",
    "    #locationを数値に変換\n",
    "    output.loc[output.location=='N','location'] = '0'\n",
    "    output.loc[output.location=='H','location'] = '1'\n",
    "    output.loc[output.location=='A','location'] = '-1'\n",
    "    output.location = output.location.astype(int)\n",
    "    \n",
    "    #add PointDiff&win\n",
    "    output['PointDiff'] = output['T1_Score'] - output['T2_Score']\n",
    "    output[\"win\"] = np.where(output['PointDiff']>0,1,0)\n",
    "    \n",
    "    \n",
    "    print(f\"feature cols after prepare()\")\n",
    "    print(output.columns)\n",
    "    return output\n",
    "\n"
   ]
  },
  {
   "cell_type": "code",
   "execution_count": 7,
   "id": "e66421fe",
   "metadata": {
    "execution": {
     "iopub.execute_input": "2025-03-12T12:55:54.766517Z",
     "iopub.status.busy": "2025-03-12T12:55:54.766517Z",
     "iopub.status.idle": "2025-03-12T12:55:54.826057Z",
     "shell.execute_reply": "2025-03-12T12:55:54.826057Z"
    },
    "papermill": {
     "duration": 0.060042,
     "end_time": "2025-03-12T12:55:54.826057",
     "exception": false,
     "start_time": "2025-03-12T12:55:54.766015",
     "status": "completed"
    },
    "tags": []
   },
   "outputs": [
    {
     "name": "stdout",
     "output_type": "stream",
     "text": [
      "各カラムの異常値の個数を表示します。\n",
      "\n"
     ]
    }
   ],
   "source": [
    "import numpy as np\n",
    "\n",
    "# 異常値のチェック\n",
    "def check_abnormal_values(df):\n",
    "    print(\"各カラムの異常値の個数を表示します。\\n\")\n",
    "\n",
    "    for col in df.columns:\n",
    "        nan_count = df[col].isna().sum()  # NaN の数\n",
    "        inf_count = (df[col] == np.inf).sum()  # inf の数\n",
    "        neg_inf_count = (df[col] == -np.inf).sum()  # -inf の数\n",
    "\n",
    "        if nan_count > 0 or inf_count > 0 or neg_inf_count > 0:\n",
    "            print(f\"Column: {col}\")\n",
    "            print(f\"  NaN    : {nan_count}\")\n",
    "            print(f\"  Inf    : {inf_count}\")\n",
    "            print(f\"  -Inf   : {neg_inf_count}\")\n",
    "            print(\"-\" * 30)\n",
    "\n",
    "# 関数を実行\n",
    "check_abnormal_values(regular_results)\n"
   ]
  },
  {
   "cell_type": "code",
   "execution_count": 8,
   "id": "9a4f4717",
   "metadata": {
    "execution": {
     "iopub.execute_input": "2025-03-12T12:55:54.833497Z",
     "iopub.status.busy": "2025-03-12T12:55:54.833497Z",
     "iopub.status.idle": "2025-03-12T12:55:55.242675Z",
     "shell.execute_reply": "2025-03-12T12:55:55.242675Z"
    },
    "papermill": {
     "duration": 0.409178,
     "end_time": "2025-03-12T12:55:55.242675",
     "exception": false,
     "start_time": "2025-03-12T12:55:54.833497",
     "status": "completed"
    },
    "tags": []
   },
   "outputs": [
    {
     "name": "stdout",
     "output_type": "stream",
     "text": [
      "<class 'pandas.core.frame.DataFrame'>\n",
      "Index: 157103 entries, 0 to 178864\n",
      "Data columns (total 56 columns):\n",
      " #   Column       Non-Null Count   Dtype  \n",
      "---  ------       --------------   -----  \n",
      " 0   Season       157103 non-null  int64  \n",
      " 1   DayNum       157103 non-null  int64  \n",
      " 2   WTeamID      157103 non-null  int64  \n",
      " 3   WScore       157103 non-null  int64  \n",
      " 4   LTeamID      157103 non-null  int64  \n",
      " 5   LScore       157103 non-null  int64  \n",
      " 6   WLoc         157103 non-null  object \n",
      " 7   NumOT        157103 non-null  int64  \n",
      " 8   WFGM         157103 non-null  int64  \n",
      " 9   WFGA         157103 non-null  int64  \n",
      " 10  WFGM3        157103 non-null  int64  \n",
      " 11  WFGA3        157103 non-null  int64  \n",
      " 12  WFTM         157103 non-null  int64  \n",
      " 13  WFTA         157103 non-null  int64  \n",
      " 14  WOR          157103 non-null  int64  \n",
      " 15  WDR          157103 non-null  int64  \n",
      " 16  WAst         157103 non-null  int64  \n",
      " 17  WTO          157103 non-null  int64  \n",
      " 18  WStl         157103 non-null  int64  \n",
      " 19  WBlk         157103 non-null  int64  \n",
      " 20  WPF          157103 non-null  int64  \n",
      " 21  LFGM         157103 non-null  int64  \n",
      " 22  LFGA         157103 non-null  int64  \n",
      " 23  LFGM3        157103 non-null  int64  \n",
      " 24  LFGA3        157103 non-null  int64  \n",
      " 25  LFTM         157103 non-null  int64  \n",
      " 26  LFTA         157103 non-null  int64  \n",
      " 27  LOR          157103 non-null  int64  \n",
      " 28  LDR          157103 non-null  int64  \n",
      " 29  LAst         157103 non-null  int64  \n",
      " 30  LTO          157103 non-null  int64  \n",
      " 31  LStl         157103 non-null  int64  \n",
      " 32  LBlk         157103 non-null  int64  \n",
      " 33  LPF          157103 non-null  int64  \n",
      " 34  WEFFG        157103 non-null  float64\n",
      " 35  LEFFG        157103 non-null  float64\n",
      " 36  WEFFG3       157103 non-null  float64\n",
      " 37  LEFFG3       157103 non-null  float64\n",
      " 38  WDARE        157103 non-null  float64\n",
      " 39  LDARE        157103 non-null  float64\n",
      " 40  WTOQUETOQUE  157103 non-null  float64\n",
      " 41  LTOQUETOQUE  157103 non-null  float64\n",
      " 42  WEFG_SUM     157103 non-null  float64\n",
      " 43  LEFG_SUM     157103 non-null  float64\n",
      " 44  WPOSS        157103 non-null  float64\n",
      " 45  LPOSS        157103 non-null  float64\n",
      " 46  WPOSS_RATE   157103 non-null  float64\n",
      " 47  LPOSS_RATE   157103 non-null  float64\n",
      " 48  WTO_RATIO    157103 non-null  float64\n",
      " 49  LTO_RATIO    157103 non-null  float64\n",
      " 50  WREB_RATE    157103 non-null  float64\n",
      " 51  LREB_RATE    157103 non-null  float64\n",
      " 52  WFT_RATE     157103 non-null  float64\n",
      " 53  LFT_RATE     157103 non-null  float64\n",
      " 54  WRATING      157103 non-null  float64\n",
      " 55  LRATING      157103 non-null  float64\n",
      "dtypes: float64(22), int64(33), object(1)\n",
      "memory usage: 68.3+ MB\n",
      "None\n"
     ]
    },
    {
     "name": "stdout",
     "output_type": "stream",
     "text": [
      "feature cols after prepare()\n",
      "Index(['Season', 'DayNum', 'T1_TeamID', 'T1_Score', 'T2_TeamID', 'T2_Score',\n",
      "       'location', 'NumOT', 'T1_FGM', 'T1_FGA', 'T1_FGM3', 'T1_FGA3', 'T1_FTM',\n",
      "       'T1_FTA', 'T1_OR', 'T1_DR', 'T1_Ast', 'T1_TO', 'T1_Stl', 'T1_Blk',\n",
      "       'T1_PF', 'T2_FGM', 'T2_FGA', 'T2_FGM3', 'T2_FGA3', 'T2_FTM', 'T2_FTA',\n",
      "       'T2_OR', 'T2_DR', 'T2_Ast', 'T2_TO', 'T2_Stl', 'T2_Blk', 'T2_PF',\n",
      "       'T1_EFFG', 'T2_EFFG', 'T1_EFFG3', 'T2_EFFG3', 'T1_DARE', 'T2_DARE',\n",
      "       'T1_TOQUETOQUE', 'T2_TOQUETOQUE', 'T1_EFG_SUM', 'T2_EFG_SUM', 'T1_POSS',\n",
      "       'T2_POSS', 'T1_POSS_RATE', 'T2_POSS_RATE', 'T1_TO_RATIO', 'T2_TO_RATIO',\n",
      "       'T1_REB_RATE', 'T2_REB_RATE', 'T1_FT_RATE', 'T2_FT_RATE', 'T1_RATING',\n",
      "       'T2_RATING', 'PointDiff', 'win'],\n",
      "      dtype='object')\n",
      "<class 'pandas.core.frame.DataFrame'>\n",
      "RangeIndex: 314206 entries, 0 to 314205\n",
      "Data columns (total 58 columns):\n",
      " #   Column         Non-Null Count   Dtype  \n",
      "---  ------         --------------   -----  \n",
      " 0   Season         314206 non-null  int64  \n",
      " 1   DayNum         314206 non-null  int64  \n",
      " 2   T1_TeamID      314206 non-null  int64  \n",
      " 3   T1_Score       314206 non-null  int64  \n",
      " 4   T2_TeamID      314206 non-null  int64  \n",
      " 5   T2_Score       314206 non-null  int64  \n",
      " 6   location       314206 non-null  int32  \n",
      " 7   NumOT          314206 non-null  int64  \n",
      " 8   T1_FGM         314206 non-null  int64  \n",
      " 9   T1_FGA         314206 non-null  int64  \n",
      " 10  T1_FGM3        314206 non-null  int64  \n",
      " 11  T1_FGA3        314206 non-null  int64  \n",
      " 12  T1_FTM         314206 non-null  int64  \n",
      " 13  T1_FTA         314206 non-null  int64  \n",
      " 14  T1_OR          314206 non-null  int64  \n",
      " 15  T1_DR          314206 non-null  int64  \n",
      " 16  T1_Ast         314206 non-null  int64  \n",
      " 17  T1_TO          314206 non-null  int64  \n",
      " 18  T1_Stl         314206 non-null  int64  \n",
      " 19  T1_Blk         314206 non-null  int64  \n",
      " 20  T1_PF          314206 non-null  int64  \n",
      " 21  T2_FGM         314206 non-null  int64  \n",
      " 22  T2_FGA         314206 non-null  int64  \n",
      " 23  T2_FGM3        314206 non-null  int64  \n",
      " 24  T2_FGA3        314206 non-null  int64  \n",
      " 25  T2_FTM         314206 non-null  int64  \n",
      " 26  T2_FTA         314206 non-null  int64  \n",
      " 27  T2_OR          314206 non-null  int64  \n",
      " 28  T2_DR          314206 non-null  int64  \n",
      " 29  T2_Ast         314206 non-null  int64  \n",
      " 30  T2_TO          314206 non-null  int64  \n",
      " 31  T2_Stl         314206 non-null  int64  \n",
      " 32  T2_Blk         314206 non-null  int64  \n",
      " 33  T2_PF          314206 non-null  int64  \n",
      " 34  T1_EFFG        314206 non-null  float64\n",
      " 35  T2_EFFG        314206 non-null  float64\n",
      " 36  T1_EFFG3       314206 non-null  float64\n",
      " 37  T2_EFFG3       314206 non-null  float64\n",
      " 38  T1_DARE        314206 non-null  float64\n",
      " 39  T2_DARE        314206 non-null  float64\n",
      " 40  T1_TOQUETOQUE  314206 non-null  float64\n",
      " 41  T2_TOQUETOQUE  314206 non-null  float64\n",
      " 42  T1_EFG_SUM     314206 non-null  float64\n",
      " 43  T2_EFG_SUM     314206 non-null  float64\n",
      " 44  T1_POSS        314206 non-null  float64\n",
      " 45  T2_POSS        314206 non-null  float64\n",
      " 46  T1_POSS_RATE   314206 non-null  float64\n",
      " 47  T2_POSS_RATE   314206 non-null  float64\n",
      " 48  T1_TO_RATIO    314206 non-null  float64\n",
      " 49  T2_TO_RATIO    314206 non-null  float64\n",
      " 50  T1_REB_RATE    314206 non-null  float64\n",
      " 51  T2_REB_RATE    314206 non-null  float64\n",
      " 52  T1_FT_RATE     314206 non-null  float64\n",
      " 53  T2_FT_RATE     314206 non-null  float64\n",
      " 54  T1_RATING      314206 non-null  float64\n",
      " 55  T2_RATING      314206 non-null  float64\n",
      " 56  PointDiff      314206 non-null  int64  \n",
      " 57  win            314206 non-null  int32  \n",
      "dtypes: float64(22), int32(2), int64(34)\n",
      "memory usage: 136.6 MB\n"
     ]
    },
    {
     "data": {
      "text/html": [
       "<div>\n",
       "<style scoped>\n",
       "    .dataframe tbody tr th:only-of-type {\n",
       "        vertical-align: middle;\n",
       "    }\n",
       "\n",
       "    .dataframe tbody tr th {\n",
       "        vertical-align: top;\n",
       "    }\n",
       "\n",
       "    .dataframe thead th {\n",
       "        text-align: right;\n",
       "    }\n",
       "</style>\n",
       "<table border=\"1\" class=\"dataframe\">\n",
       "  <thead>\n",
       "    <tr style=\"text-align: right;\">\n",
       "      <th></th>\n",
       "      <th>Season</th>\n",
       "      <th>DayNum</th>\n",
       "      <th>T1_TeamID</th>\n",
       "      <th>T1_Score</th>\n",
       "      <th>T2_TeamID</th>\n",
       "      <th>T2_Score</th>\n",
       "      <th>location</th>\n",
       "      <th>NumOT</th>\n",
       "      <th>T1_FGM</th>\n",
       "      <th>T1_FGA</th>\n",
       "      <th>...</th>\n",
       "      <th>T1_TO_RATIO</th>\n",
       "      <th>T2_TO_RATIO</th>\n",
       "      <th>T1_REB_RATE</th>\n",
       "      <th>T2_REB_RATE</th>\n",
       "      <th>T1_FT_RATE</th>\n",
       "      <th>T2_FT_RATE</th>\n",
       "      <th>T1_RATING</th>\n",
       "      <th>T2_RATING</th>\n",
       "      <th>PointDiff</th>\n",
       "      <th>win</th>\n",
       "    </tr>\n",
       "  </thead>\n",
       "  <tbody>\n",
       "    <tr>\n",
       "      <th>0</th>\n",
       "      <td>2003</td>\n",
       "      <td>10</td>\n",
       "      <td>1104</td>\n",
       "      <td>68</td>\n",
       "      <td>1328</td>\n",
       "      <td>62</td>\n",
       "      <td>0</td>\n",
       "      <td>0</td>\n",
       "      <td>27</td>\n",
       "      <td>58</td>\n",
       "      <td>...</td>\n",
       "      <td>0.258659</td>\n",
       "      <td>0.223104</td>\n",
       "      <td>0.388889</td>\n",
       "      <td>0.294118</td>\n",
       "      <td>0.310345</td>\n",
       "      <td>0.415094</td>\n",
       "      <td>0.907635</td>\n",
       "      <td>0.877193</td>\n",
       "      <td>6</td>\n",
       "      <td>1</td>\n",
       "    </tr>\n",
       "    <tr>\n",
       "      <th>1</th>\n",
       "      <td>2003</td>\n",
       "      <td>10</td>\n",
       "      <td>1272</td>\n",
       "      <td>70</td>\n",
       "      <td>1393</td>\n",
       "      <td>63</td>\n",
       "      <td>0</td>\n",
       "      <td>0</td>\n",
       "      <td>26</td>\n",
       "      <td>62</td>\n",
       "      <td>...</td>\n",
       "      <td>0.155950</td>\n",
       "      <td>0.136674</td>\n",
       "      <td>0.375000</td>\n",
       "      <td>0.416667</td>\n",
       "      <td>0.306452</td>\n",
       "      <td>0.298507</td>\n",
       "      <td>1.023991</td>\n",
       "      <td>0.929204</td>\n",
       "      <td>7</td>\n",
       "      <td>1</td>\n",
       "    </tr>\n",
       "    <tr>\n",
       "      <th>2</th>\n",
       "      <td>2003</td>\n",
       "      <td>11</td>\n",
       "      <td>1266</td>\n",
       "      <td>73</td>\n",
       "      <td>1437</td>\n",
       "      <td>61</td>\n",
       "      <td>0</td>\n",
       "      <td>0</td>\n",
       "      <td>24</td>\n",
       "      <td>58</td>\n",
       "      <td>...</td>\n",
       "      <td>0.123824</td>\n",
       "      <td>0.126156</td>\n",
       "      <td>0.435897</td>\n",
       "      <td>0.543860</td>\n",
       "      <td>0.500000</td>\n",
       "      <td>0.315068</td>\n",
       "      <td>1.144918</td>\n",
       "      <td>0.951341</td>\n",
       "      <td>12</td>\n",
       "      <td>1</td>\n",
       "    </tr>\n",
       "    <tr>\n",
       "      <th>3</th>\n",
       "      <td>2003</td>\n",
       "      <td>11</td>\n",
       "      <td>1296</td>\n",
       "      <td>56</td>\n",
       "      <td>1457</td>\n",
       "      <td>50</td>\n",
       "      <td>0</td>\n",
       "      <td>0</td>\n",
       "      <td>18</td>\n",
       "      <td>38</td>\n",
       "      <td>...</td>\n",
       "      <td>0.188561</td>\n",
       "      <td>0.254692</td>\n",
       "      <td>0.230769</td>\n",
       "      <td>0.472222</td>\n",
       "      <td>0.815789</td>\n",
       "      <td>0.306122</td>\n",
       "      <td>0.971548</td>\n",
       "      <td>0.868056</td>\n",
       "      <td>6</td>\n",
       "      <td>1</td>\n",
       "    </tr>\n",
       "    <tr>\n",
       "      <th>4</th>\n",
       "      <td>2003</td>\n",
       "      <td>11</td>\n",
       "      <td>1400</td>\n",
       "      <td>77</td>\n",
       "      <td>1208</td>\n",
       "      <td>71</td>\n",
       "      <td>0</td>\n",
       "      <td>0</td>\n",
       "      <td>30</td>\n",
       "      <td>61</td>\n",
       "      <td>...</td>\n",
       "      <td>0.173439</td>\n",
       "      <td>0.119218</td>\n",
       "      <td>0.531250</td>\n",
       "      <td>0.488372</td>\n",
       "      <td>0.213115</td>\n",
       "      <td>0.435484</td>\n",
       "      <td>1.208412</td>\n",
       "      <td>1.129135</td>\n",
       "      <td>6</td>\n",
       "      <td>1</td>\n",
       "    </tr>\n",
       "  </tbody>\n",
       "</table>\n",
       "<p>5 rows × 58 columns</p>\n",
       "</div>"
      ],
      "text/plain": [
       "   Season  DayNum  T1_TeamID  T1_Score  T2_TeamID  T2_Score  location  NumOT  \\\n",
       "0    2003      10       1104        68       1328        62         0      0   \n",
       "1    2003      10       1272        70       1393        63         0      0   \n",
       "2    2003      11       1266        73       1437        61         0      0   \n",
       "3    2003      11       1296        56       1457        50         0      0   \n",
       "4    2003      11       1400        77       1208        71         0      0   \n",
       "\n",
       "   T1_FGM  T1_FGA  ...  T1_TO_RATIO  T2_TO_RATIO  T1_REB_RATE  T2_REB_RATE  \\\n",
       "0      27      58  ...     0.258659     0.223104     0.388889     0.294118   \n",
       "1      26      62  ...     0.155950     0.136674     0.375000     0.416667   \n",
       "2      24      58  ...     0.123824     0.126156     0.435897     0.543860   \n",
       "3      18      38  ...     0.188561     0.254692     0.230769     0.472222   \n",
       "4      30      61  ...     0.173439     0.119218     0.531250     0.488372   \n",
       "\n",
       "   T1_FT_RATE  T2_FT_RATE  T1_RATING  T2_RATING  PointDiff  win  \n",
       "0    0.310345    0.415094   0.907635   0.877193          6    1  \n",
       "1    0.306452    0.298507   1.023991   0.929204          7    1  \n",
       "2    0.500000    0.315068   1.144918   0.951341         12    1  \n",
       "3    0.815789    0.306122   0.971548   0.868056          6    1  \n",
       "4    0.213115    0.435484   1.208412   1.129135          6    1  \n",
       "\n",
       "[5 rows x 58 columns]"
      ]
     },
     "metadata": {},
     "output_type": "display_data"
    },
    {
     "data": {
      "text/plain": [
       "None"
      ]
     },
     "metadata": {},
     "output_type": "display_data"
    }
   ],
   "source": [
    "#予測する年以降の情報はフィルタリング\n",
    "USE_START_YEAR = cfg.exp.tournament.use_start_season\n",
    "notexist = tourney_results[tourney_results[\"Season\"] == PREDICT_YEAR]\n",
    "tourney_results = tourney_results[(tourney_results[\"Season\"] >= USE_START_YEAR) & (tourney_results[\"Season\"] < PREDICT_YEAR)]\n",
    "seeds = seeds[(seeds[\"Season\"] >= USE_START_YEAR) & (seeds[\"Season\"] <= PREDICT_YEAR)]\n",
    "regular_results = regular_results[(regular_results[\"Season\"] >= USE_START_YEAR) & (regular_results[\"Season\"] <= PREDICT_YEAR)]\n",
    "\n",
    "regular_data = prepare_data(regular_results)\n",
    "display(regular_data.head(), regular_data.info())"
   ]
  },
  {
   "cell_type": "code",
   "execution_count": 9,
   "id": "ecedeae6",
   "metadata": {
    "execution": {
     "iopub.execute_input": "2025-03-12T12:55:55.250490Z",
     "iopub.status.busy": "2025-03-12T12:55:55.250490Z",
     "iopub.status.idle": "2025-03-12T12:55:55.271903Z",
     "shell.execute_reply": "2025-03-12T12:55:55.271252Z"
    },
    "papermill": {
     "duration": 0.022441,
     "end_time": "2025-03-12T12:55:55.272931",
     "exception": false,
     "start_time": "2025-03-12T12:55:55.250490",
     "status": "completed"
    },
    "tags": []
   },
   "outputs": [],
   "source": [
    "#使用特徴量(boxscore_cols)を取得してそれに対して(\"Season\", 'T1_TeamID')でまとめた特徴量の追加\n",
    "#### 1. win_ration_14d ####\n",
    "def add_win_ratio_14d(df):\n",
    "    df_filtered = df[df['DayNum'] > 118].copy()\n",
    "    df_filtered['Win'] = (df_filtered['PointDiff'] > 0).astype(int)\n",
    "    \n",
    "    win_ratio_t1 = df_filtered.groupby(['Season', 'T1_TeamID'])['Win'].mean().reset_index()\n",
    "    win_ratio_t1.rename(columns={'Win': 'T1_win_ratio_14d'}, inplace=True)\n",
    "    \n",
    "    win_ratio_t2 = df_filtered.groupby(['Season', 'T2_TeamID'])['Win'].mean().reset_index()\n",
    "    win_ratio_t2.rename(columns={'Win': 'T2_win_ratio_14d'}, inplace=True)\n",
    "    \n",
    "    df = df.merge(win_ratio_t1, on=['Season', 'T1_TeamID'], how='left')\n",
    "    df = df.merge(win_ratio_t2, on=['Season', 'T2_TeamID'], how='left')\n",
    "    \n",
    "    return df\n",
    "\n",
    "##### 2. add mean of boxscore ####\n",
    "def make_col_avg(df, boxscore, group = [\"Season\", \"T1_TeamID\"], func= [np.mean]):\n",
    "    df_stat = df.groupby(group)[boxscore].agg(func)\n",
    "    df_stat.columns = [''.join(col).strip() for col in df_stat.columns.values]\n",
    "    df_stat = df_stat.reset_index()\n",
    "\n",
    "    win_ratio_cols = ['T1_win_ratio_14d'] #ここマージの関係からT2_win_ratio_14dを外したけど大丈夫か考える\n",
    "    df_win_ratio = df[group + win_ratio_cols].drop_duplicates()\n",
    "    df_stat = df_stat.merge(df_win_ratio, on=group, how='left')\n",
    "    \n",
    "    return df_stat\n",
    "\n",
    "#### 3. add team quality ####\n",
    "# 3.0 ロジスティックを行うためのregular_season_effectsデータフレームの作成\n",
    "def make_regular_season_effects(df):\n",
    "    regular_season_effects = df[['Season', 'T1_TeamID', 'T2_TeamID', 'PointDiff']].copy()\n",
    "    regular_season_effects['win'] = np.where(regular_season_effects['PointDiff'] > 0, 1, 0)\n",
    "    return regular_season_effects\n",
    "\n",
    "# 3.1\n",
    "#各シーズンごとの総当たりに対するロジスティック回帰を行う\n",
    "#目的変数はfeatureenginneringから作成したPointDiffの正負に依存するWinとする.\n",
    "#新たな特徴量\"quarity\"をseasonごとの戦績をもとにロジスティックの回帰係数として導入している\n",
    "def team_quality(season,df):\n",
    "    season_data = df[df[\"Season\"] == season]\n",
    "    X = season_data[['T1_TeamID', 'T2_TeamID']]\n",
    "    y = season_data['win']\n",
    "    print(X.shape, y.shape)\n",
    "    encoder = OneHotEncoder(sparse_output=False) #多重共線性防止, 密行列指定\n",
    "    X_encoded = encoder.fit_transform(X)\n",
    "    \n",
    "    model = LogisticRegression(fit_intercept=False)\n",
    "    model.fit(X_encoded, y)\n",
    "    team_ids = encoder.get_feature_names_out(['T1_TeamID', 'T2_TeamID'])\n",
    "\n",
    "    \n",
    "    #quarity: (チーム数)*2(ID, 回帰係数)\n",
    "    quality = pd.DataFrame({\n",
    "        'TeamID': team_ids,\n",
    "        'quality': model.coef_.flatten() #T1_TeamID_1112,,,の形でチーム数分の回帰係数が入る\n",
    "    })\n",
    "\n",
    "    # 値をint 1112 のように整形\n",
    "    quality = quality[quality['TeamID'].str.contains('T1_TeamID')]\n",
    "    quality['TeamID'] = quality['TeamID'].str.replace('T1_TeamID_', '', regex=True).astype(int)\n",
    "    quality['Season'] = season\n",
    "\n",
    "    #display(quality.head())\n",
    "    print(f\"fin make {season}'s team quarity\")\n",
    "    return quality\n",
    "\n",
    "# 4. add seed\n",
    "def add_seed(df, seeds):\n",
    "    temp = seeds.copy()\n",
    "    temp['Seed'] = temp['Seed'].apply(lambda x: int(x[1:3]))\n",
    "    temp.columns = ['Season','T1_seed','T1_TeamID']\n",
    "    df = pd.merge(df, temp, on=[\"Season\", \"T1_TeamID\"], how=\"left\")\n",
    "    return df \n",
    "\n",
    "# 5. add Ordinal rank\n",
    "def add_ordinalrank(df, ordinal):\n",
    "    df_rank = ordinal.groupby([\"Season\", \"TeamID\"])[\"OrdinalRank\"].agg(np.mean).reset_index()\n",
    "    df_rank.head()\n",
    "    ranks = df_rank.rename(columns={'TeamID': 'T1_TeamID', 'OrdinalRank': 'T1_OrdinalRank'})\n",
    "    df = pd.merge(df,ranks,on = [\"Season\",\"T1_TeamID\"],how = \"left\")\n",
    "    return df\n",
    "\n",
    "# main \n",
    "def make_season_statistics(df, boxscore, seeds, func = [np.mean]):\n",
    "    # 1. Win Ratio の計算と追加\n",
    "    add_win = add_win_ratio_14d(df)\n",
    "    print(\"after add win ratio\")\n",
    "    print(add_win.columns)  \n",
    "    \n",
    "    #2. \n",
    "    add_mean = make_col_avg(add_win, boxscore)\n",
    "    print(\"after mean of boxscore\")\n",
    "    print(add_mean.columns)\n",
    "    \n",
    "    #3. \n",
    "    global PREDICT_YEAR, USE_START_YEAR\n",
    "    start_season = max(FEATURES.start_quality_season, USE_START_YEAR)\n",
    "    print(f\"use season for quality feature is: {start_season}\")\n",
    "    regular_season_effects = make_regular_season_effects(df)\n",
    "    glm_season = [i for i in range(start_season, PREDICT_YEAR+1)]\n",
    "    glm_season.remove(2020)\n",
    "    glm_quality = pd.concat([team_quality(season, regular_season_effects) for season in glm_season]).reset_index(drop=True)\n",
    "    # add glm quality \n",
    "    glm_quality_T1 = glm_quality.rename(columns={'TeamID': 'T1_TeamID', 'quality': 'T1_quality'})\n",
    "    add_glm = add_mean.merge(glm_quality_T1, on=['Season', 'T1_TeamID'], how='left')\n",
    "\n",
    "    print(\"add glm quality\")\n",
    "    print(add_glm.columns)\n",
    "    \n",
    "    #4. \n",
    "    add_seeds = add_seed(add_glm, seeds)\n",
    "    print(\"add seeds (final form)\")\n",
    "    print(add_seeds.columns)\n",
    "    \n",
    "    #5. \n",
    "    add_rank = add_ordinalrank(add_seeds, ordinal_rank)\n",
    "    print(\"add ordinal rank\")\n",
    "    print(add_rank.columns)  \n",
    "    return add_rank"
   ]
  },
  {
   "cell_type": "code",
   "execution_count": 10,
   "id": "1480fbf5",
   "metadata": {
    "execution": {
     "iopub.execute_input": "2025-03-12T12:55:55.286277Z",
     "iopub.status.busy": "2025-03-12T12:55:55.286277Z",
     "iopub.status.idle": "2025-03-12T12:55:58.322502Z",
     "shell.execute_reply": "2025-03-12T12:55:58.322502Z"
    },
    "papermill": {
     "duration": 3.049571,
     "end_time": "2025-03-12T12:55:58.322502",
     "exception": false,
     "start_time": "2025-03-12T12:55:55.272931",
     "status": "completed"
    },
    "tags": []
   },
   "outputs": [
    {
     "name": "stdout",
     "output_type": "stream",
     "text": [
      "use boxscore col is\n",
      "['T1_Score', 'T2_Score', 'PointDiff', 'T1_FGM', 'T2_FGM', 'T1_FGA', 'T2_FGA', 'T1_FGM3', 'T2_FGM3', 'T1_FGA3', 'T2_FGA3', 'T1_FTM', 'T2_FTM', 'T1_FTA', 'T2_FTA', 'T1_EFG_SUM', 'T2_EFG_SUM', 'T1_TO_RATIO', 'T2_TO_RATIO', 'T1_OR', 'T2_OR', 'T1_DR', 'T2_DR', 'T1_REB_RATE', 'T2_REB_RATE', 'T1_FT_RATE', 'T2_FT_RATE', 'T1_RATING', 'T2_RATING', 'T1_POSS_RATE', 'T2_POSS_RATE', 'T1_Ast', 'T2_Ast', 'T1_TO', 'T2_TO', 'T1_Stl', 'T2_Stl', 'T1_Blk', 'T2_Blk', 'T1_PF', 'T2_PF']\n"
     ]
    },
    {
     "name": "stdout",
     "output_type": "stream",
     "text": [
      "after add win ratio\n",
      "Index(['Season', 'DayNum', 'T1_TeamID', 'T1_Score', 'T2_TeamID', 'T2_Score',\n",
      "       'location', 'NumOT', 'T1_FGM', 'T1_FGA', 'T1_FGM3', 'T1_FGA3', 'T1_FTM',\n",
      "       'T1_FTA', 'T1_OR', 'T1_DR', 'T1_Ast', 'T1_TO', 'T1_Stl', 'T1_Blk',\n",
      "       'T1_PF', 'T2_FGM', 'T2_FGA', 'T2_FGM3', 'T2_FGA3', 'T2_FTM', 'T2_FTA',\n",
      "       'T2_OR', 'T2_DR', 'T2_Ast', 'T2_TO', 'T2_Stl', 'T2_Blk', 'T2_PF',\n",
      "       'T1_EFFG', 'T2_EFFG', 'T1_EFFG3', 'T2_EFFG3', 'T1_DARE', 'T2_DARE',\n",
      "       'T1_TOQUETOQUE', 'T2_TOQUETOQUE', 'T1_EFG_SUM', 'T2_EFG_SUM', 'T1_POSS',\n",
      "       'T2_POSS', 'T1_POSS_RATE', 'T2_POSS_RATE', 'T1_TO_RATIO', 'T2_TO_RATIO',\n",
      "       'T1_REB_RATE', 'T2_REB_RATE', 'T1_FT_RATE', 'T2_FT_RATE', 'T1_RATING',\n",
      "       'T2_RATING', 'PointDiff', 'win', 'T1_win_ratio_14d',\n",
      "       'T2_win_ratio_14d'],\n",
      "      dtype='object')\n"
     ]
    },
    {
     "name": "stdout",
     "output_type": "stream",
     "text": [
      "after mean of boxscore\n",
      "Index(['Season', 'T1_TeamID', 'T1_Scoremean', 'T2_Scoremean', 'PointDiffmean',\n",
      "       'T1_FGMmean', 'T2_FGMmean', 'T1_FGAmean', 'T2_FGAmean', 'T1_FGM3mean',\n",
      "       'T2_FGM3mean', 'T1_FGA3mean', 'T2_FGA3mean', 'T1_FTMmean', 'T2_FTMmean',\n",
      "       'T1_FTAmean', 'T2_FTAmean', 'T1_EFG_SUMmean', 'T2_EFG_SUMmean',\n",
      "       'T1_TO_RATIOmean', 'T2_TO_RATIOmean', 'T1_ORmean', 'T2_ORmean',\n",
      "       'T1_DRmean', 'T2_DRmean', 'T1_REB_RATEmean', 'T2_REB_RATEmean',\n",
      "       'T1_FT_RATEmean', 'T2_FT_RATEmean', 'T1_RATINGmean', 'T2_RATINGmean',\n",
      "       'T1_POSS_RATEmean', 'T2_POSS_RATEmean', 'T1_Astmean', 'T2_Astmean',\n",
      "       'T1_TOmean', 'T2_TOmean', 'T1_Stlmean', 'T2_Stlmean', 'T1_Blkmean',\n",
      "       'T2_Blkmean', 'T1_PFmean', 'T2_PFmean', 'T1_win_ratio_14d'],\n",
      "      dtype='object')\n",
      "use season for quality feature is: 2003\n",
      "(9232, 2) (9232,)\n",
      "fin make 2003's team quarity\n",
      "(9142, 2) (9142,)\n"
     ]
    },
    {
     "name": "stderr",
     "output_type": "stream",
     "text": [
      "C:\\Users\\81809\\AppData\\Local\\Temp\\ipykernel_9440\\830681465.py:20: FutureWarning: The provided callable <function mean at 0x00000150654DA5C0> is currently using SeriesGroupBy.mean. In a future version of pandas, the provided callable will be used directly. To keep current behavior pass the string \"mean\" instead.\n",
      "  df_stat = df.groupby(group)[boxscore].agg(func)\n"
     ]
    },
    {
     "name": "stdout",
     "output_type": "stream",
     "text": [
      "fin make 2004's team quarity\n",
      "(9350, 2) (9350,)\n",
      "fin make 2005's team quarity\n",
      "(9514, 2) (9514,)\n",
      "fin make 2006's team quarity\n",
      "(10086, 2) (10086,)\n"
     ]
    },
    {
     "name": "stdout",
     "output_type": "stream",
     "text": [
      "fin make 2007's team quarity\n",
      "(10326, 2) (10326,)\n",
      "fin make 2008's team quarity\n",
      "(10498, 2) (10498,)\n"
     ]
    },
    {
     "name": "stdout",
     "output_type": "stream",
     "text": [
      "fin make 2009's team quarity\n",
      "(20600, 2) (20600,)\n"
     ]
    },
    {
     "name": "stdout",
     "output_type": "stream",
     "text": [
      "fin make 2010's team quarity\n",
      "(20660, 2) (20660,)\n"
     ]
    },
    {
     "name": "stdout",
     "output_type": "stream",
     "text": [
      "fin make 2011's team quarity\n"
     ]
    },
    {
     "name": "stdout",
     "output_type": "stream",
     "text": [
      "(20606, 2) (20606,)\n"
     ]
    },
    {
     "name": "stdout",
     "output_type": "stream",
     "text": [
      "fin make 2012's team quarity"
     ]
    },
    {
     "name": "stdout",
     "output_type": "stream",
     "text": [
      "\n",
      "(21008, 2) (21008,)\n",
      "fin make 2013's team quarity\n",
      "(21228, 2) (21228,)\n"
     ]
    },
    {
     "name": "stdout",
     "output_type": "stream",
     "text": [
      "fin make 2014's team quarity\n",
      "(21136, 2) (21136,)\n",
      "fin make 2015's team quarity\n",
      "(21156, 2) (21156,)\n"
     ]
    },
    {
     "name": "stdout",
     "output_type": "stream",
     "text": [
      "fin make 2016's team quarity\n",
      "(21210, 2) (21210,)\n",
      "fin make 2017's team quarity\n",
      "(21228, 2) (21228,)\n"
     ]
    },
    {
     "name": "stdout",
     "output_type": "stream",
     "text": [
      "fin make 2018's team quarity\n",
      "(21406, 2) (21406,)\n",
      "fin make 2019's team quarity\n",
      "(14822, 2) (14822,)\n"
     ]
    },
    {
     "name": "stdout",
     "output_type": "stream",
     "text": [
      "fin make 2021's team quarity\n",
      "add glm quality\n",
      "Index(['Season', 'T1_TeamID', 'T1_Scoremean', 'T2_Scoremean', 'PointDiffmean',\n",
      "       'T1_FGMmean', 'T2_FGMmean', 'T1_FGAmean', 'T2_FGAmean', 'T1_FGM3mean',\n",
      "       'T2_FGM3mean', 'T1_FGA3mean', 'T2_FGA3mean', 'T1_FTMmean', 'T2_FTMmean',\n",
      "       'T1_FTAmean', 'T2_FTAmean', 'T1_EFG_SUMmean', 'T2_EFG_SUMmean',\n",
      "       'T1_TO_RATIOmean', 'T2_TO_RATIOmean', 'T1_ORmean', 'T2_ORmean',\n",
      "       'T1_DRmean', 'T2_DRmean', 'T1_REB_RATEmean', 'T2_REB_RATEmean',\n",
      "       'T1_FT_RATEmean', 'T2_FT_RATEmean', 'T1_RATINGmean', 'T2_RATINGmean',\n",
      "       'T1_POSS_RATEmean', 'T2_POSS_RATEmean', 'T1_Astmean', 'T2_Astmean',\n",
      "       'T1_TOmean', 'T2_TOmean', 'T1_Stlmean', 'T2_Stlmean', 'T1_Blkmean',\n",
      "       'T2_Blkmean', 'T1_PFmean', 'T2_PFmean', 'T1_win_ratio_14d',\n",
      "       'T1_quality'],\n",
      "      dtype='object')\n",
      "add seeds (final form)\n",
      "Index(['Season', 'T1_TeamID', 'T1_Scoremean', 'T2_Scoremean', 'PointDiffmean',\n",
      "       'T1_FGMmean', 'T2_FGMmean', 'T1_FGAmean', 'T2_FGAmean', 'T1_FGM3mean',\n",
      "       'T2_FGM3mean', 'T1_FGA3mean', 'T2_FGA3mean', 'T1_FTMmean', 'T2_FTMmean',\n",
      "       'T1_FTAmean', 'T2_FTAmean', 'T1_EFG_SUMmean', 'T2_EFG_SUMmean',\n",
      "       'T1_TO_RATIOmean', 'T2_TO_RATIOmean', 'T1_ORmean', 'T2_ORmean',\n",
      "       'T1_DRmean', 'T2_DRmean', 'T1_REB_RATEmean', 'T2_REB_RATEmean',\n",
      "       'T1_FT_RATEmean', 'T2_FT_RATEmean', 'T1_RATINGmean', 'T2_RATINGmean',\n",
      "       'T1_POSS_RATEmean', 'T2_POSS_RATEmean', 'T1_Astmean', 'T2_Astmean',\n",
      "       'T1_TOmean', 'T2_TOmean', 'T1_Stlmean', 'T2_Stlmean', 'T1_Blkmean',\n",
      "       'T2_Blkmean', 'T1_PFmean', 'T2_PFmean', 'T1_win_ratio_14d',\n",
      "       'T1_quality', 'T1_seed'],\n",
      "      dtype='object')\n"
     ]
    },
    {
     "name": "stderr",
     "output_type": "stream",
     "text": [
      "C:\\Users\\81809\\AppData\\Local\\Temp\\ipykernel_9440\\830681465.py:79: FutureWarning: The provided callable <function mean at 0x00000150654DA5C0> is currently using SeriesGroupBy.mean. In a future version of pandas, the provided callable will be used directly. To keep current behavior pass the string \"mean\" instead.\n",
      "  df_rank = ordinal.groupby([\"Season\", \"TeamID\"])[\"OrdinalRank\"].agg(np.mean).reset_index()\n"
     ]
    },
    {
     "name": "stdout",
     "output_type": "stream",
     "text": [
      "add ordinal rank\n",
      "Index(['Season', 'T1_TeamID', 'T1_Scoremean', 'T2_Scoremean', 'PointDiffmean',\n",
      "       'T1_FGMmean', 'T2_FGMmean', 'T1_FGAmean', 'T2_FGAmean', 'T1_FGM3mean',\n",
      "       'T2_FGM3mean', 'T1_FGA3mean', 'T2_FGA3mean', 'T1_FTMmean', 'T2_FTMmean',\n",
      "       'T1_FTAmean', 'T2_FTAmean', 'T1_EFG_SUMmean', 'T2_EFG_SUMmean',\n",
      "       'T1_TO_RATIOmean', 'T2_TO_RATIOmean', 'T1_ORmean', 'T2_ORmean',\n",
      "       'T1_DRmean', 'T2_DRmean', 'T1_REB_RATEmean', 'T2_REB_RATEmean',\n",
      "       'T1_FT_RATEmean', 'T2_FT_RATEmean', 'T1_RATINGmean', 'T2_RATINGmean',\n",
      "       'T1_POSS_RATEmean', 'T2_POSS_RATEmean', 'T1_Astmean', 'T2_Astmean',\n",
      "       'T1_TOmean', 'T2_TOmean', 'T1_Stlmean', 'T2_Stlmean', 'T1_Blkmean',\n",
      "       'T2_Blkmean', 'T1_PFmean', 'T2_PFmean', 'T1_win_ratio_14d',\n",
      "       'T1_quality', 'T1_seed', 'T1_OrdinalRank'],\n",
      "      dtype='object')\n"
     ]
    },
    {
     "data": {
      "text/html": [
       "<div>\n",
       "<style scoped>\n",
       "    .dataframe tbody tr th:only-of-type {\n",
       "        vertical-align: middle;\n",
       "    }\n",
       "\n",
       "    .dataframe tbody tr th {\n",
       "        vertical-align: top;\n",
       "    }\n",
       "\n",
       "    .dataframe thead th {\n",
       "        text-align: right;\n",
       "    }\n",
       "</style>\n",
       "<table border=\"1\" class=\"dataframe\">\n",
       "  <thead>\n",
       "    <tr style=\"text-align: right;\">\n",
       "      <th></th>\n",
       "      <th>Season</th>\n",
       "      <th>T1_TeamID</th>\n",
       "      <th>T1_Scoremean</th>\n",
       "      <th>T2_Scoremean</th>\n",
       "      <th>PointDiffmean</th>\n",
       "      <th>T1_FGMmean</th>\n",
       "      <th>T2_FGMmean</th>\n",
       "      <th>T1_FGAmean</th>\n",
       "      <th>T2_FGAmean</th>\n",
       "      <th>T1_FGM3mean</th>\n",
       "      <th>...</th>\n",
       "      <th>T1_Stlmean</th>\n",
       "      <th>T2_Stlmean</th>\n",
       "      <th>T1_Blkmean</th>\n",
       "      <th>T2_Blkmean</th>\n",
       "      <th>T1_PFmean</th>\n",
       "      <th>T2_PFmean</th>\n",
       "      <th>T1_win_ratio_14d</th>\n",
       "      <th>T1_quality</th>\n",
       "      <th>T1_seed</th>\n",
       "      <th>T1_OrdinalRank</th>\n",
       "    </tr>\n",
       "  </thead>\n",
       "  <tbody>\n",
       "    <tr>\n",
       "      <th>10692</th>\n",
       "      <td>2021</td>\n",
       "      <td>3467</td>\n",
       "      <td>64.666667</td>\n",
       "      <td>67.333333</td>\n",
       "      <td>-2.666667</td>\n",
       "      <td>23.400000</td>\n",
       "      <td>24.466667</td>\n",
       "      <td>59.066667</td>\n",
       "      <td>59.600000</td>\n",
       "      <td>7.866667</td>\n",
       "      <td>...</td>\n",
       "      <td>9.066667</td>\n",
       "      <td>9.400000</td>\n",
       "      <td>1.800000</td>\n",
       "      <td>4.000000</td>\n",
       "      <td>17.800000</td>\n",
       "      <td>14.666667</td>\n",
       "      <td>1.00</td>\n",
       "      <td>-0.507544</td>\n",
       "      <td>NaN</td>\n",
       "      <td>NaN</td>\n",
       "    </tr>\n",
       "    <tr>\n",
       "      <th>10693</th>\n",
       "      <td>2021</td>\n",
       "      <td>3468</td>\n",
       "      <td>62.772727</td>\n",
       "      <td>77.181818</td>\n",
       "      <td>-14.409091</td>\n",
       "      <td>21.909091</td>\n",
       "      <td>28.772727</td>\n",
       "      <td>60.454545</td>\n",
       "      <td>60.181818</td>\n",
       "      <td>5.409091</td>\n",
       "      <td>...</td>\n",
       "      <td>7.409091</td>\n",
       "      <td>8.727273</td>\n",
       "      <td>2.181818</td>\n",
       "      <td>4.363636</td>\n",
       "      <td>17.727273</td>\n",
       "      <td>18.681818</td>\n",
       "      <td>0.00</td>\n",
       "      <td>-1.258597</td>\n",
       "      <td>NaN</td>\n",
       "      <td>NaN</td>\n",
       "    </tr>\n",
       "    <tr>\n",
       "      <th>10694</th>\n",
       "      <td>2021</td>\n",
       "      <td>3469</td>\n",
       "      <td>48.500000</td>\n",
       "      <td>71.500000</td>\n",
       "      <td>-23.000000</td>\n",
       "      <td>17.000000</td>\n",
       "      <td>25.500000</td>\n",
       "      <td>55.500000</td>\n",
       "      <td>61.500000</td>\n",
       "      <td>5.000000</td>\n",
       "      <td>...</td>\n",
       "      <td>3.000000</td>\n",
       "      <td>11.500000</td>\n",
       "      <td>4.500000</td>\n",
       "      <td>2.500000</td>\n",
       "      <td>20.000000</td>\n",
       "      <td>14.000000</td>\n",
       "      <td>NaN</td>\n",
       "      <td>-0.439471</td>\n",
       "      <td>NaN</td>\n",
       "      <td>NaN</td>\n",
       "    </tr>\n",
       "    <tr>\n",
       "      <th>10695</th>\n",
       "      <td>2021</td>\n",
       "      <td>3470</td>\n",
       "      <td>58.571429</td>\n",
       "      <td>67.000000</td>\n",
       "      <td>-8.428571</td>\n",
       "      <td>18.428571</td>\n",
       "      <td>25.000000</td>\n",
       "      <td>54.333333</td>\n",
       "      <td>59.333333</td>\n",
       "      <td>5.047619</td>\n",
       "      <td>...</td>\n",
       "      <td>7.047619</td>\n",
       "      <td>7.380952</td>\n",
       "      <td>2.666667</td>\n",
       "      <td>2.666667</td>\n",
       "      <td>14.761905</td>\n",
       "      <td>21.714286</td>\n",
       "      <td>0.25</td>\n",
       "      <td>-1.180630</td>\n",
       "      <td>NaN</td>\n",
       "      <td>NaN</td>\n",
       "    </tr>\n",
       "    <tr>\n",
       "      <th>10696</th>\n",
       "      <td>2021</td>\n",
       "      <td>3471</td>\n",
       "      <td>61.066667</td>\n",
       "      <td>66.666667</td>\n",
       "      <td>-5.600000</td>\n",
       "      <td>21.400000</td>\n",
       "      <td>24.733333</td>\n",
       "      <td>59.066667</td>\n",
       "      <td>59.266667</td>\n",
       "      <td>8.933333</td>\n",
       "      <td>...</td>\n",
       "      <td>5.600000</td>\n",
       "      <td>8.066667</td>\n",
       "      <td>2.066667</td>\n",
       "      <td>3.133333</td>\n",
       "      <td>15.333333</td>\n",
       "      <td>14.800000</td>\n",
       "      <td>0.50</td>\n",
       "      <td>-0.411866</td>\n",
       "      <td>NaN</td>\n",
       "      <td>NaN</td>\n",
       "    </tr>\n",
       "  </tbody>\n",
       "</table>\n",
       "<p>5 rows × 47 columns</p>\n",
       "</div>"
      ],
      "text/plain": [
       "       Season  T1_TeamID  T1_Scoremean  T2_Scoremean  PointDiffmean  \\\n",
       "10692    2021       3467     64.666667     67.333333      -2.666667   \n",
       "10693    2021       3468     62.772727     77.181818     -14.409091   \n",
       "10694    2021       3469     48.500000     71.500000     -23.000000   \n",
       "10695    2021       3470     58.571429     67.000000      -8.428571   \n",
       "10696    2021       3471     61.066667     66.666667      -5.600000   \n",
       "\n",
       "       T1_FGMmean  T2_FGMmean  T1_FGAmean  T2_FGAmean  T1_FGM3mean  ...  \\\n",
       "10692   23.400000   24.466667   59.066667   59.600000     7.866667  ...   \n",
       "10693   21.909091   28.772727   60.454545   60.181818     5.409091  ...   \n",
       "10694   17.000000   25.500000   55.500000   61.500000     5.000000  ...   \n",
       "10695   18.428571   25.000000   54.333333   59.333333     5.047619  ...   \n",
       "10696   21.400000   24.733333   59.066667   59.266667     8.933333  ...   \n",
       "\n",
       "       T1_Stlmean  T2_Stlmean  T1_Blkmean  T2_Blkmean  T1_PFmean  T2_PFmean  \\\n",
       "10692    9.066667    9.400000    1.800000    4.000000  17.800000  14.666667   \n",
       "10693    7.409091    8.727273    2.181818    4.363636  17.727273  18.681818   \n",
       "10694    3.000000   11.500000    4.500000    2.500000  20.000000  14.000000   \n",
       "10695    7.047619    7.380952    2.666667    2.666667  14.761905  21.714286   \n",
       "10696    5.600000    8.066667    2.066667    3.133333  15.333333  14.800000   \n",
       "\n",
       "       T1_win_ratio_14d  T1_quality  T1_seed  T1_OrdinalRank  \n",
       "10692              1.00   -0.507544      NaN             NaN  \n",
       "10693              0.00   -1.258597      NaN             NaN  \n",
       "10694               NaN   -0.439471      NaN             NaN  \n",
       "10695              0.25   -1.180630      NaN             NaN  \n",
       "10696              0.50   -0.411866      NaN             NaN  \n",
       "\n",
       "[5 rows x 47 columns]"
      ]
     },
     "execution_count": 10,
     "metadata": {},
     "output_type": "execute_result"
    }
   ],
   "source": [
    "features = FEATURES.cal_mean_boxscore\n",
    "boxscore_cols = [col for col, use in features.items() if use]\n",
    "print(\"use boxscore col is\")\n",
    "print(boxscore_cols)\n",
    "\n",
    "season_statistics = make_season_statistics(regular_data, boxscore_cols, seeds, func = [np.mean])\n",
    "season_statistics.tail()"
   ]
  },
  {
   "cell_type": "code",
   "execution_count": 11,
   "id": "cca46917",
   "metadata": {
    "execution": {
     "iopub.execute_input": "2025-03-12T12:55:58.325579Z",
     "iopub.status.busy": "2025-03-12T12:55:58.325579Z",
     "iopub.status.idle": "2025-03-12T12:55:58.348949Z",
     "shell.execute_reply": "2025-03-12T12:55:58.347828Z"
    },
    "papermill": {
     "duration": 0.024867,
     "end_time": "2025-03-12T12:55:58.350446",
     "exception": false,
     "start_time": "2025-03-12T12:55:58.325579",
     "status": "completed"
    },
    "tags": []
   },
   "outputs": [
    {
     "name": "stdout",
     "output_type": "stream",
     "text": [
      "<class 'pandas.core.frame.DataFrame'>\n",
      "RangeIndex: 10697 entries, 0 to 10696\n",
      "Data columns (total 47 columns):\n",
      " #   Column            Non-Null Count  Dtype  \n",
      "---  ------            --------------  -----  \n",
      " 0   Season            10697 non-null  int64  \n",
      " 1   T1_TeamID         10697 non-null  int64  \n",
      " 2   T1_Scoremean      10697 non-null  float64\n",
      " 3   T2_Scoremean      10697 non-null  float64\n",
      " 4   PointDiffmean     10697 non-null  float64\n",
      " 5   T1_FGMmean        10697 non-null  float64\n",
      " 6   T2_FGMmean        10697 non-null  float64\n",
      " 7   T1_FGAmean        10697 non-null  float64\n",
      " 8   T2_FGAmean        10697 non-null  float64\n",
      " 9   T1_FGM3mean       10697 non-null  float64\n",
      " 10  T2_FGM3mean       10697 non-null  float64\n",
      " 11  T1_FGA3mean       10697 non-null  float64\n",
      " 12  T2_FGA3mean       10697 non-null  float64\n",
      " 13  T1_FTMmean        10697 non-null  float64\n",
      " 14  T2_FTMmean        10697 non-null  float64\n",
      " 15  T1_FTAmean        10697 non-null  float64\n",
      " 16  T2_FTAmean        10697 non-null  float64\n",
      " 17  T1_EFG_SUMmean    10697 non-null  float64\n",
      " 18  T2_EFG_SUMmean    10697 non-null  float64\n",
      " 19  T1_TO_RATIOmean   10697 non-null  float64\n",
      " 20  T2_TO_RATIOmean   10697 non-null  float64\n",
      " 21  T1_ORmean         10697 non-null  float64\n",
      " 22  T2_ORmean         10697 non-null  float64\n",
      " 23  T1_DRmean         10697 non-null  float64\n",
      " 24  T2_DRmean         10697 non-null  float64\n",
      " 25  T1_REB_RATEmean   10697 non-null  float64\n",
      " 26  T2_REB_RATEmean   10697 non-null  float64\n",
      " 27  T1_FT_RATEmean    10697 non-null  float64\n",
      " 28  T2_FT_RATEmean    10697 non-null  float64\n",
      " 29  T1_RATINGmean     10697 non-null  float64\n",
      " 30  T2_RATINGmean     10697 non-null  float64\n",
      " 31  T1_POSS_RATEmean  10697 non-null  float64\n",
      " 32  T2_POSS_RATEmean  10697 non-null  float64\n",
      " 33  T1_Astmean        10697 non-null  float64\n",
      " 34  T2_Astmean        10697 non-null  float64\n",
      " 35  T1_TOmean         10697 non-null  float64\n",
      " 36  T2_TOmean         10697 non-null  float64\n",
      " 37  T1_Stlmean        10697 non-null  float64\n",
      " 38  T2_Stlmean        10697 non-null  float64\n",
      " 39  T1_Blkmean        10697 non-null  float64\n",
      " 40  T2_Blkmean        10697 non-null  float64\n",
      " 41  T1_PFmean         10697 non-null  float64\n",
      " 42  T2_PFmean         10697 non-null  float64\n",
      " 43  T1_win_ratio_14d  10312 non-null  float64\n",
      " 44  T1_quality        9993 non-null   float64\n",
      " 45  T1_seed           1904 non-null   float64\n",
      " 46  T1_OrdinalRank    6534 non-null   float64\n",
      "dtypes: float64(45), int64(2)\n",
      "memory usage: 3.8 MB\n"
     ]
    }
   ],
   "source": [
    "season_statistics.info()"
   ]
  },
  {
   "cell_type": "code",
   "execution_count": 12,
   "id": "ebd3c587",
   "metadata": {
    "execution": {
     "iopub.execute_input": "2025-03-12T12:55:58.366108Z",
     "iopub.status.busy": "2025-03-12T12:55:58.364127Z",
     "iopub.status.idle": "2025-03-12T12:55:58.421323Z",
     "shell.execute_reply": "2025-03-12T12:55:58.421323Z"
    },
    "papermill": {
     "duration": 0.072529,
     "end_time": "2025-03-12T12:55:58.423333",
     "exception": false,
     "start_time": "2025-03-12T12:55:58.350804",
     "status": "completed"
    },
    "tags": []
   },
   "outputs": [],
   "source": [
    "####ボックスscoreの平均に対して、過去３年の加重平均を取るときの処理 ####\n",
    "def get_mean_of_3_season(val_2ps, val_1ps, val_0ps, \n",
    "                         weight_2, weight_1, weight_0, \n",
    "                         degree_weight=1.0\n",
    "                         ):\n",
    "    weight_2 = weight_2**degree_weight\n",
    "    weight_1 = weight_1**degree_weight\n",
    "    weight_0 = weight_0**degree_weight\n",
    "    if val_2ps == 0  and val_1ps == 0:\n",
    "        return val_0ps\n",
    "    elif val_2ps == 0:\n",
    "        return (val_1ps*weight_2 + val_0ps*weight_1)/(weight_2 + weight_1)\n",
    "    else:\n",
    "        sum_of_values = val_2ps*weight_2 + val_1ps*weight_1 + val_0ps*weight_0\n",
    "        return sum_of_values/(weight_2 + weight_1 + weight_0)\n",
    "\n",
    "def get_3_feature(df_team, feature):\n",
    "    value_2_seasons_ago = 0\n",
    "    value_1_season_ago = 0\n",
    "    value_0_season_ago = 0\n",
    "    for _, val in df_team.iterrows():\n",
    "        value_2_seasons_ago = value_1_season_ago\n",
    "        value_1_season_ago = value_0_season_ago\n",
    "        value_0_season_ago = val[feature]\n",
    "    return value_2_seasons_ago, value_1_season_ago, value_0_season_ago\n",
    "\n",
    "def write_mean_of_3_seasons(df, features, weight, degree_weight=1.0):\n",
    "    \"\"\"\n",
    "    val_0ps - current season value\n",
    "    weight_0 - current season weight\n",
    "    val_1ps - last season value\n",
    "    val_2ps - the value of the season before last\n",
    "    \"\"\"\n",
    "    weight_2=weight[0]\n",
    "    weight_1=weight[1]\n",
    "    weight_0=weight[2]\n",
    "    df_copy = df.copy()\n",
    "    suffix = \"_mn3s\"\n",
    "    \n",
    "    for ft in features:\n",
    "        df_copy[ft + suffix] = 0\n",
    "    for idx, val in tqdm(df_copy.iterrows(), total=len(df_copy)):\n",
    "        team = val.T1_TeamID\n",
    "        season = val.Season\n",
    "        df_team = df_copy[(df_copy.T1_TeamID == team)&\n",
    "                          (df_copy.Season <= season)&\n",
    "                          (df_copy.Season > season-3)]\n",
    "        for ft in features:\n",
    "            val_2ps, val_1ps, val_0ps = get_3_feature(df_team, ft)\n",
    "            ft_mean_3 = get_mean_of_3_season(val_2ps, val_1ps, val_0ps, weight_2, weight_1, weight_0, degree_weight=degree_weight)\n",
    "            df_copy.loc[idx, ft + suffix] = ft_mean_3\n",
    "    return df_copy"
   ]
  },
  {
   "cell_type": "code",
   "execution_count": 13,
   "id": "6bf2e5d4",
   "metadata": {
    "execution": {
     "iopub.execute_input": "2025-03-12T12:55:58.431371Z",
     "iopub.status.busy": "2025-03-12T12:55:58.431371Z",
     "iopub.status.idle": "2025-03-12T12:55:58.467562Z",
     "shell.execute_reply": "2025-03-12T12:55:58.467562Z"
    },
    "papermill": {
     "duration": 0.0382,
     "end_time": "2025-03-12T12:55:58.467562",
     "exception": false,
     "start_time": "2025-03-12T12:55:58.429362",
     "status": "completed"
    },
    "tags": []
   },
   "outputs": [
    {
     "name": "stdout",
     "output_type": "stream",
     "text": [
      "#####\n",
      "skip 3 season verage\n",
      "#####\n"
     ]
    },
    {
     "data": {
      "text/html": [
       "<div>\n",
       "<style scoped>\n",
       "    .dataframe tbody tr th:only-of-type {\n",
       "        vertical-align: middle;\n",
       "    }\n",
       "\n",
       "    .dataframe tbody tr th {\n",
       "        vertical-align: top;\n",
       "    }\n",
       "\n",
       "    .dataframe thead th {\n",
       "        text-align: right;\n",
       "    }\n",
       "</style>\n",
       "<table border=\"1\" class=\"dataframe\">\n",
       "  <thead>\n",
       "    <tr style=\"text-align: right;\">\n",
       "      <th></th>\n",
       "      <th>Season</th>\n",
       "      <th>T1_TeamID</th>\n",
       "      <th>T1_Scoremean</th>\n",
       "      <th>T1_opponent_Scoremean</th>\n",
       "      <th>T1_PointDiffmean</th>\n",
       "      <th>T1_FGMmean</th>\n",
       "      <th>T1_opponent_FGMmean</th>\n",
       "      <th>T1_FGAmean</th>\n",
       "      <th>T1_opponent_FGAmean</th>\n",
       "      <th>T1_FGM3mean</th>\n",
       "      <th>...</th>\n",
       "      <th>T1_Stlmean</th>\n",
       "      <th>T1_opponent_Stlmean</th>\n",
       "      <th>T1_Blkmean</th>\n",
       "      <th>T1_opponent_Blkmean</th>\n",
       "      <th>T1_PFmean</th>\n",
       "      <th>T1_opponent_PFmean</th>\n",
       "      <th>T1_win_ratio_14d</th>\n",
       "      <th>T1_quality</th>\n",
       "      <th>T1_seed</th>\n",
       "      <th>T1_OrdinalRank</th>\n",
       "    </tr>\n",
       "  </thead>\n",
       "  <tbody>\n",
       "    <tr>\n",
       "      <th>0</th>\n",
       "      <td>2003</td>\n",
       "      <td>1102</td>\n",
       "      <td>57.250000</td>\n",
       "      <td>57.000000</td>\n",
       "      <td>0.25000</td>\n",
       "      <td>19.142857</td>\n",
       "      <td>19.285714</td>\n",
       "      <td>39.785714</td>\n",
       "      <td>42.428571</td>\n",
       "      <td>7.821429</td>\n",
       "      <td>...</td>\n",
       "      <td>5.964286</td>\n",
       "      <td>5.428571</td>\n",
       "      <td>1.785714</td>\n",
       "      <td>1.571429</td>\n",
       "      <td>18.750000</td>\n",
       "      <td>18.357143</td>\n",
       "      <td>0.333333</td>\n",
       "      <td>-0.070776</td>\n",
       "      <td>NaN</td>\n",
       "      <td>144.2875</td>\n",
       "    </tr>\n",
       "    <tr>\n",
       "      <th>1</th>\n",
       "      <td>2003</td>\n",
       "      <td>1103</td>\n",
       "      <td>78.777778</td>\n",
       "      <td>78.148148</td>\n",
       "      <td>0.62963</td>\n",
       "      <td>27.148148</td>\n",
       "      <td>27.777778</td>\n",
       "      <td>55.851852</td>\n",
       "      <td>57.000000</td>\n",
       "      <td>5.444444</td>\n",
       "      <td>...</td>\n",
       "      <td>7.259259</td>\n",
       "      <td>6.407407</td>\n",
       "      <td>2.333333</td>\n",
       "      <td>2.851852</td>\n",
       "      <td>19.851852</td>\n",
       "      <td>22.444444</td>\n",
       "      <td>0.333333</td>\n",
       "      <td>-0.116192</td>\n",
       "      <td>NaN</td>\n",
       "      <td>182.2050</td>\n",
       "    </tr>\n",
       "  </tbody>\n",
       "</table>\n",
       "<p>2 rows × 47 columns</p>\n",
       "</div>"
      ],
      "text/plain": [
       "   Season  T1_TeamID  T1_Scoremean  T1_opponent_Scoremean  T1_PointDiffmean  \\\n",
       "0    2003       1102     57.250000              57.000000           0.25000   \n",
       "1    2003       1103     78.777778              78.148148           0.62963   \n",
       "\n",
       "   T1_FGMmean  T1_opponent_FGMmean  T1_FGAmean  T1_opponent_FGAmean  \\\n",
       "0   19.142857            19.285714   39.785714            42.428571   \n",
       "1   27.148148            27.777778   55.851852            57.000000   \n",
       "\n",
       "   T1_FGM3mean  ...  T1_Stlmean  T1_opponent_Stlmean  T1_Blkmean  \\\n",
       "0     7.821429  ...    5.964286             5.428571    1.785714   \n",
       "1     5.444444  ...    7.259259             6.407407    2.333333   \n",
       "\n",
       "   T1_opponent_Blkmean  T1_PFmean  T1_opponent_PFmean  T1_win_ratio_14d  \\\n",
       "0             1.571429  18.750000           18.357143          0.333333   \n",
       "1             2.851852  19.851852           22.444444          0.333333   \n",
       "\n",
       "   T1_quality  T1_seed  T1_OrdinalRank  \n",
       "0   -0.070776      NaN        144.2875  \n",
       "1   -0.116192      NaN        182.2050  \n",
       "\n",
       "[2 rows x 47 columns]"
      ]
     },
     "metadata": {},
     "output_type": "display_data"
    },
    {
     "data": {
      "text/html": [
       "<div>\n",
       "<style scoped>\n",
       "    .dataframe tbody tr th:only-of-type {\n",
       "        vertical-align: middle;\n",
       "    }\n",
       "\n",
       "    .dataframe tbody tr th {\n",
       "        vertical-align: top;\n",
       "    }\n",
       "\n",
       "    .dataframe thead th {\n",
       "        text-align: right;\n",
       "    }\n",
       "</style>\n",
       "<table border=\"1\" class=\"dataframe\">\n",
       "  <thead>\n",
       "    <tr style=\"text-align: right;\">\n",
       "      <th></th>\n",
       "      <th>Season</th>\n",
       "      <th>T2_TeamID</th>\n",
       "      <th>T2_Scoremean</th>\n",
       "      <th>T2_opponent_Scoremean</th>\n",
       "      <th>T2_PointDiffmean</th>\n",
       "      <th>T2_FGMmean</th>\n",
       "      <th>T2_opponent_FGMmean</th>\n",
       "      <th>T2_FGAmean</th>\n",
       "      <th>T2_opponent_FGAmean</th>\n",
       "      <th>T2_FGM3mean</th>\n",
       "      <th>...</th>\n",
       "      <th>T2_Stlmean</th>\n",
       "      <th>T2_opponent_Stlmean</th>\n",
       "      <th>T2_Blkmean</th>\n",
       "      <th>T2_opponent_Blkmean</th>\n",
       "      <th>T2_PFmean</th>\n",
       "      <th>T2_opponent_PFmean</th>\n",
       "      <th>T2_win_ratio_14d</th>\n",
       "      <th>T2_quality</th>\n",
       "      <th>T2_seed</th>\n",
       "      <th>T2_OrdinalRank</th>\n",
       "    </tr>\n",
       "  </thead>\n",
       "  <tbody>\n",
       "    <tr>\n",
       "      <th>10695</th>\n",
       "      <td>2021</td>\n",
       "      <td>3470</td>\n",
       "      <td>58.571429</td>\n",
       "      <td>67.000000</td>\n",
       "      <td>-8.428571</td>\n",
       "      <td>18.428571</td>\n",
       "      <td>25.000000</td>\n",
       "      <td>54.333333</td>\n",
       "      <td>59.333333</td>\n",
       "      <td>5.047619</td>\n",
       "      <td>...</td>\n",
       "      <td>7.047619</td>\n",
       "      <td>7.380952</td>\n",
       "      <td>2.666667</td>\n",
       "      <td>2.666667</td>\n",
       "      <td>14.761905</td>\n",
       "      <td>21.714286</td>\n",
       "      <td>0.25</td>\n",
       "      <td>-1.180630</td>\n",
       "      <td>NaN</td>\n",
       "      <td>NaN</td>\n",
       "    </tr>\n",
       "    <tr>\n",
       "      <th>10696</th>\n",
       "      <td>2021</td>\n",
       "      <td>3471</td>\n",
       "      <td>61.066667</td>\n",
       "      <td>66.666667</td>\n",
       "      <td>-5.600000</td>\n",
       "      <td>21.400000</td>\n",
       "      <td>24.733333</td>\n",
       "      <td>59.066667</td>\n",
       "      <td>59.266667</td>\n",
       "      <td>8.933333</td>\n",
       "      <td>...</td>\n",
       "      <td>5.600000</td>\n",
       "      <td>8.066667</td>\n",
       "      <td>2.066667</td>\n",
       "      <td>3.133333</td>\n",
       "      <td>15.333333</td>\n",
       "      <td>14.800000</td>\n",
       "      <td>0.50</td>\n",
       "      <td>-0.411866</td>\n",
       "      <td>NaN</td>\n",
       "      <td>NaN</td>\n",
       "    </tr>\n",
       "  </tbody>\n",
       "</table>\n",
       "<p>2 rows × 47 columns</p>\n",
       "</div>"
      ],
      "text/plain": [
       "       Season  T2_TeamID  T2_Scoremean  T2_opponent_Scoremean  \\\n",
       "10695    2021       3470     58.571429              67.000000   \n",
       "10696    2021       3471     61.066667              66.666667   \n",
       "\n",
       "       T2_PointDiffmean  T2_FGMmean  T2_opponent_FGMmean  T2_FGAmean  \\\n",
       "10695         -8.428571   18.428571            25.000000   54.333333   \n",
       "10696         -5.600000   21.400000            24.733333   59.066667   \n",
       "\n",
       "       T2_opponent_FGAmean  T2_FGM3mean  ...  T2_Stlmean  T2_opponent_Stlmean  \\\n",
       "10695            59.333333     5.047619  ...    7.047619             7.380952   \n",
       "10696            59.266667     8.933333  ...    5.600000             8.066667   \n",
       "\n",
       "       T2_Blkmean  T2_opponent_Blkmean  T2_PFmean  T2_opponent_PFmean  \\\n",
       "10695    2.666667             2.666667  14.761905           21.714286   \n",
       "10696    2.066667             3.133333  15.333333           14.800000   \n",
       "\n",
       "       T2_win_ratio_14d  T2_quality  T2_seed  T2_OrdinalRank  \n",
       "10695              0.25   -1.180630      NaN             NaN  \n",
       "10696              0.50   -0.411866      NaN             NaN  \n",
       "\n",
       "[2 rows x 47 columns]"
      ]
     },
     "metadata": {},
     "output_type": "display_data"
    }
   ],
   "source": [
    "flag_3season_avg = FEATURES.season_average.enabled\n",
    "\n",
    "#trueのときの処理理解してfalseと一致させる\n",
    "if flag_3season_avg:\n",
    "    print(\"#####\")\n",
    "    print(\"use 3 season average\")\n",
    "    print(\"#####\")\n",
    "    weight = FEATURES.season_average.weights\n",
    "    years = FEATURES.season_average.past_years\n",
    "    assert years==len(weight)\n",
    "    \n",
    "    features_for_calc = [\"T1_Scoremean\", \"T1_FGAmean\",  \"T1_FGA3mean\"]\n",
    "    season_statistics_with_3_seas = write_mean_of_3_seasons(\n",
    "        season_statistics, features_for_calc, weight, degree_weight=1.0\n",
    "    )\n",
    "    \n",
    "    season_statistics_T1 = season_statistics_with_3_seas.copy()\n",
    "    season_statistics_T2 = season_statistics_with_3_seas.copy()\n",
    "    \n",
    "else:\n",
    "    print(\"#####\")\n",
    "    print(\"skip 3 season verage\")\n",
    "    print(\"#####\")\n",
    "    season_statistics_T1 = season_statistics.copy()\n",
    "    season_statistics_T2 = season_statistics.copy()\n",
    "\n",
    "season_statistics_T1.columns = [\"T1_\" + x.replace(\"T1_\",\"\").replace(\"T2_\",\"opponent_\") for x in list(season_statistics_T1.columns)]\n",
    "season_statistics_T2.columns = [\"T2_\" + x.replace(\"T1_\",\"\").replace(\"T2_\",\"opponent_\") for x in list(season_statistics_T2.columns)]\n",
    "season_statistics_T1.columns.values[0] = \"Season\"\n",
    "season_statistics_T2.columns.values[0] = \"Season\"\n",
    "\n",
    "\n",
    "season_statistics_T2.rename(columns = {\n",
    "    \"T1_TeamID\": \"T2_TeamID\"\n",
    "}, inplace=True)\n",
    "display(season_statistics_T1.head(2), season_statistics_T2.tail(2))"
   ]
  },
  {
   "cell_type": "markdown",
   "id": "fdff2fda",
   "metadata": {
    "papermill": {
     "duration": 0.018301,
     "end_time": "2025-03-12T12:55:58.485863",
     "exception": false,
     "start_time": "2025-03-12T12:55:58.467562",
     "status": "completed"
    },
    "tags": []
   },
   "source": [
    "# Toureney dataの処理\n",
    "1. pointdiff, pointが目的変数となるのでそれはyに分離\n",
    "2. seasonstatisticを結合したものをXとして作る"
   ]
  },
  {
   "cell_type": "code",
   "execution_count": 14,
   "id": "9fde258d",
   "metadata": {
    "execution": {
     "iopub.execute_input": "2025-03-12T12:55:58.505430Z",
     "iopub.status.busy": "2025-03-12T12:55:58.505430Z",
     "iopub.status.idle": "2025-03-12T12:55:58.511464Z",
     "shell.execute_reply": "2025-03-12T12:55:58.511464Z"
    },
    "papermill": {
     "duration": 0.027664,
     "end_time": "2025-03-12T12:55:58.513527",
     "exception": false,
     "start_time": "2025-03-12T12:55:58.485863",
     "status": "completed"
    },
    "tags": []
   },
   "outputs": [],
   "source": [
    "\n",
    "def process_tourney(df1, mode=\"tourney\"):\n",
    "    #Season, teamid ->X, team_score->y\n",
    "    df = df1.copy()\n",
    "    if mode==\"tourney\":\n",
    "        df = prepare_data(df) \n",
    "        y = df[\"T1_Score\"]-df[\"T2_Score\"]\n",
    "    X = df[['Season', 'T1_TeamID', 'T2_TeamID']]\n",
    "    X = pd.merge(X, season_statistics_T1, on = ['Season', 'T1_TeamID'], how = 'left')\n",
    "    X = pd.merge(X, season_statistics_T2, on = ['Season', 'T2_TeamID'], how = 'left')\n",
    "    \n",
    "    #seed->seed diff\n",
    "    X[\"seed_diff\"] = X[\"T1_seed\"] - X[\"T2_seed\"]\n",
    "    #rank->rank diff\n",
    "    X[\"rank_diff\"] = X[\"T1_OrdinalRank\"] - X[\"T2_OrdinalRank\"]\n",
    "    #quality->quality diff\n",
    "    X[\"quality_diff\"] = X[\"T1_quality\"] - X[\"T2_quality\"]\n",
    "    #win_ratio_14d -> win_raio_14d_diff\n",
    "    X[\"win_ratio_14d_diff\"] = X[\"T1_win_ratio_14d\"] - X[\"T2_win_ratio_14d\"]\n",
    "    #tourney_data.drop(columns=[\"T1_seed\", \"T2_seed\"], inplace=True)\n",
    "\n",
    "    X = X.drop(columns=[\"T1_seed\", \"T2_seed\", \"T1_OrdinalRank\", \"T2_OrdinalRank\", \n",
    "                        \"T1_quality\", \"T2_quality\", \"T1_win_ratio_14d\", \"T2_win_ratio_14d\"\n",
    "                        ])\n",
    "\n",
    "\n",
    "    # if fillna is true-> run fillna()\n",
    "    FILLNA = FEATURES.fillna.quality\n",
    "    if FILLNA==\"nan\":\n",
    "        print(f\"no fillna, use nan\")\n",
    "        X[\"quality_diff\"] = X[\"quality_diff\"].fillna(np.nan)\n",
    "    else:\n",
    "        print(f\"fillna quality feature for {FILLNA}\")\n",
    "        X[\"quality_diff\"] = X[\"quality_diff\"].fillna(FILLNA)\n",
    "\n",
    "        \n",
    "    return X, y if mode==\"tourney\" else X"
   ]
  },
  {
   "cell_type": "code",
   "execution_count": 15,
   "id": "c2c06890",
   "metadata": {
    "execution": {
     "iopub.execute_input": "2025-03-12T12:55:58.529769Z",
     "iopub.status.busy": "2025-03-12T12:55:58.529769Z",
     "iopub.status.idle": "2025-03-12T12:55:58.560920Z",
     "shell.execute_reply": "2025-03-12T12:55:58.560920Z"
    },
    "papermill": {
     "duration": 0.040147,
     "end_time": "2025-03-12T12:55:58.560920",
     "exception": false,
     "start_time": "2025-03-12T12:55:58.520773",
     "status": "completed"
    },
    "tags": []
   },
   "outputs": [
    {
     "name": "stdout",
     "output_type": "stream",
     "text": [
      "<class 'pandas.core.frame.DataFrame'>\n",
      "Index: 1745 entries, 0 to 2011\n",
      "Data columns (total 56 columns):\n",
      " #   Column       Non-Null Count  Dtype  \n",
      "---  ------       --------------  -----  \n",
      " 0   Season       1745 non-null   int64  \n",
      " 1   DayNum       1745 non-null   int64  \n",
      " 2   WTeamID      1745 non-null   int64  \n",
      " 3   WScore       1745 non-null   int64  \n",
      " 4   LTeamID      1745 non-null   int64  \n",
      " 5   LScore       1745 non-null   int64  \n",
      " 6   WLoc         1745 non-null   object \n",
      " 7   NumOT        1745 non-null   int64  \n",
      " 8   WFGM         1745 non-null   int64  \n",
      " 9   WFGA         1745 non-null   int64  \n",
      " 10  WFGM3        1745 non-null   int64  \n",
      " 11  WFGA3        1745 non-null   int64  \n",
      " 12  WFTM         1745 non-null   int64  \n",
      " 13  WFTA         1745 non-null   int64  \n",
      " 14  WOR          1745 non-null   int64  \n",
      " 15  WDR          1745 non-null   int64  \n",
      " 16  WAst         1745 non-null   int64  \n",
      " 17  WTO          1745 non-null   int64  \n",
      " 18  WStl         1745 non-null   int64  \n",
      " 19  WBlk         1745 non-null   int64  \n",
      " 20  WPF          1745 non-null   int64  \n",
      " 21  LFGM         1745 non-null   int64  \n",
      " 22  LFGA         1745 non-null   int64  \n",
      " 23  LFGM3        1745 non-null   int64  \n",
      " 24  LFGA3        1745 non-null   int64  \n",
      " 25  LFTM         1745 non-null   int64  \n",
      " 26  LFTA         1745 non-null   int64  \n",
      " 27  LOR          1745 non-null   int64  \n",
      " 28  LDR          1745 non-null   int64  \n",
      " 29  LAst         1745 non-null   int64  \n",
      " 30  LTO          1745 non-null   int64  \n",
      " 31  LStl         1745 non-null   int64  \n",
      " 32  LBlk         1745 non-null   int64  \n",
      " 33  LPF          1745 non-null   int64  \n",
      " 34  WEFFG        1745 non-null   float64\n",
      " 35  LEFFG        1745 non-null   float64\n",
      " 36  WEFFG3       1745 non-null   float64\n",
      " 37  LEFFG3       1745 non-null   float64\n",
      " 38  WDARE        1745 non-null   float64\n",
      " 39  LDARE        1745 non-null   float64\n",
      " 40  WTOQUETOQUE  1745 non-null   float64\n",
      " 41  LTOQUETOQUE  1745 non-null   float64\n",
      " 42  WEFG_SUM     1745 non-null   float64\n",
      " 43  LEFG_SUM     1745 non-null   float64\n",
      " 44  WPOSS        1745 non-null   float64\n",
      " 45  LPOSS        1745 non-null   float64\n",
      " 46  WPOSS_RATE   1745 non-null   float64\n",
      " 47  LPOSS_RATE   1745 non-null   float64\n",
      " 48  WTO_RATIO    1745 non-null   float64\n",
      " 49  LTO_RATIO    1745 non-null   float64\n",
      " 50  WREB_RATE    1745 non-null   float64\n",
      " 51  LREB_RATE    1745 non-null   float64\n",
      " 52  WFT_RATE     1745 non-null   float64\n",
      " 53  LFT_RATE     1745 non-null   float64\n",
      " 54  WRATING      1745 non-null   float64\n",
      " 55  LRATING      1745 non-null   float64\n",
      "dtypes: float64(22), int64(33), object(1)\n",
      "memory usage: 777.1+ KB\n",
      "None\n",
      "feature cols after prepare()\n",
      "Index(['Season', 'DayNum', 'T1_TeamID', 'T1_Score', 'T2_TeamID', 'T2_Score',\n",
      "       'location', 'NumOT', 'T1_FGM', 'T1_FGA', 'T1_FGM3', 'T1_FGA3', 'T1_FTM',\n",
      "       'T1_FTA', 'T1_OR', 'T1_DR', 'T1_Ast', 'T1_TO', 'T1_Stl', 'T1_Blk',\n",
      "       'T1_PF', 'T2_FGM', 'T2_FGA', 'T2_FGM3', 'T2_FGA3', 'T2_FTM', 'T2_FTA',\n",
      "       'T2_OR', 'T2_DR', 'T2_Ast', 'T2_TO', 'T2_Stl', 'T2_Blk', 'T2_PF',\n",
      "       'T1_EFFG', 'T2_EFFG', 'T1_EFFG3', 'T2_EFFG3', 'T1_DARE', 'T2_DARE',\n",
      "       'T1_TOQUETOQUE', 'T2_TOQUETOQUE', 'T1_EFG_SUM', 'T2_EFG_SUM', 'T1_POSS',\n",
      "       'T2_POSS', 'T1_POSS_RATE', 'T2_POSS_RATE', 'T1_TO_RATIO', 'T2_TO_RATIO',\n",
      "       'T1_REB_RATE', 'T2_REB_RATE', 'T1_FT_RATE', 'T2_FT_RATE', 'T1_RATING',\n",
      "       'T2_RATING', 'PointDiff', 'win'],\n",
      "      dtype='object')\n",
      "no fillna, use nan\n"
     ]
    }
   ],
   "source": [
    "X, y = process_tourney(tourney_results)"
   ]
  },
  {
   "cell_type": "code",
   "execution_count": 16,
   "id": "b751cc66",
   "metadata": {
    "execution": {
     "iopub.execute_input": "2025-03-12T12:55:58.565506Z",
     "iopub.status.busy": "2025-03-12T12:55:58.565506Z",
     "iopub.status.idle": "2025-03-12T12:55:58.585053Z",
     "shell.execute_reply": "2025-03-12T12:55:58.584054Z"
    },
    "papermill": {
     "duration": 0.020669,
     "end_time": "2025-03-12T12:55:58.586175",
     "exception": false,
     "start_time": "2025-03-12T12:55:58.565506",
     "status": "completed"
    },
    "tags": []
   },
   "outputs": [
    {
     "name": "stdout",
     "output_type": "stream",
     "text": [
      "最終的な X の特徴量\n",
      "Index(['Season', 'T1_TeamID', 'T2_TeamID', 'T1_Scoremean',\n",
      "       'T1_opponent_Scoremean', 'T1_PointDiffmean', 'T1_FGMmean',\n",
      "       'T1_opponent_FGMmean', 'T1_FGAmean', 'T1_opponent_FGAmean',\n",
      "       'T1_FGM3mean', 'T1_opponent_FGM3mean', 'T1_FGA3mean',\n",
      "       'T1_opponent_FGA3mean', 'T1_FTMmean', 'T1_opponent_FTMmean',\n",
      "       'T1_FTAmean', 'T1_opponent_FTAmean', 'T1_EFG_SUMmean',\n",
      "       'T1_opponent_EFG_SUMmean', 'T1_TO_RATIOmean',\n",
      "       'T1_opponent_TO_RATIOmean', 'T1_ORmean', 'T1_opponent_ORmean',\n",
      "       'T1_DRmean', 'T1_opponent_DRmean', 'T1_REB_RATEmean',\n",
      "       'T1_opponent_REB_RATEmean', 'T1_FT_RATEmean', 'T1_opponent_FT_RATEmean',\n",
      "       'T1_RATINGmean', 'T1_opponent_RATINGmean', 'T1_POSS_RATEmean',\n",
      "       'T1_opponent_POSS_RATEmean', 'T1_Astmean', 'T1_opponent_Astmean',\n",
      "       'T1_TOmean', 'T1_opponent_TOmean', 'T1_Stlmean', 'T1_opponent_Stlmean',\n",
      "       'T1_Blkmean', 'T1_opponent_Blkmean', 'T1_PFmean', 'T1_opponent_PFmean',\n",
      "       'T2_Scoremean', 'T2_opponent_Scoremean', 'T2_PointDiffmean',\n",
      "       'T2_FGMmean', 'T2_opponent_FGMmean', 'T2_FGAmean',\n",
      "       'T2_opponent_FGAmean', 'T2_FGM3mean', 'T2_opponent_FGM3mean',\n",
      "       'T2_FGA3mean', 'T2_opponent_FGA3mean', 'T2_FTMmean',\n",
      "       'T2_opponent_FTMmean', 'T2_FTAmean', 'T2_opponent_FTAmean',\n",
      "       'T2_EFG_SUMmean', 'T2_opponent_EFG_SUMmean', 'T2_TO_RATIOmean',\n",
      "       'T2_opponent_TO_RATIOmean', 'T2_ORmean', 'T2_opponent_ORmean',\n",
      "       'T2_DRmean', 'T2_opponent_DRmean', 'T2_REB_RATEmean',\n",
      "       'T2_opponent_REB_RATEmean', 'T2_FT_RATEmean', 'T2_opponent_FT_RATEmean',\n",
      "       'T2_RATINGmean', 'T2_opponent_RATINGmean', 'T2_POSS_RATEmean',\n",
      "       'T2_opponent_POSS_RATEmean', 'T2_Astmean', 'T2_opponent_Astmean',\n",
      "       'T2_TOmean', 'T2_opponent_TOmean', 'T2_Stlmean', 'T2_opponent_Stlmean',\n",
      "       'T2_Blkmean', 'T2_opponent_Blkmean', 'T2_PFmean', 'T2_opponent_PFmean',\n",
      "       'seed_diff', 'rank_diff', 'quality_diff', 'win_ratio_14d_diff'],\n",
      "      dtype='object')\n"
     ]
    }
   ],
   "source": [
    "print(\"最終的な X の特徴量\")\n",
    "print(X.columns)"
   ]
  },
  {
   "cell_type": "code",
   "execution_count": 17,
   "id": "b729e6d8",
   "metadata": {
    "execution": {
     "iopub.execute_input": "2025-03-12T12:55:58.601191Z",
     "iopub.status.busy": "2025-03-12T12:55:58.601191Z",
     "iopub.status.idle": "2025-03-12T12:55:58.612483Z",
     "shell.execute_reply": "2025-03-12T12:55:58.612483Z"
    },
    "papermill": {
     "duration": 0.024233,
     "end_time": "2025-03-12T12:55:58.612483",
     "exception": false,
     "start_time": "2025-03-12T12:55:58.588250",
     "status": "completed"
    },
    "tags": []
   },
   "outputs": [
    {
     "name": "stdout",
     "output_type": "stream",
     "text": [
      "<class 'pandas.core.frame.DataFrame'>\n",
      "RangeIndex: 3490 entries, 0 to 3489\n",
      "Data columns (total 89 columns):\n",
      " #   Column                     Non-Null Count  Dtype  \n",
      "---  ------                     --------------  -----  \n",
      " 0   Season                     3490 non-null   int64  \n",
      " 1   T1_TeamID                  3490 non-null   int64  \n",
      " 2   T2_TeamID                  3490 non-null   int64  \n",
      " 3   T1_Scoremean               3490 non-null   float64\n",
      " 4   T1_opponent_Scoremean      3490 non-null   float64\n",
      " 5   T1_PointDiffmean           3490 non-null   float64\n",
      " 6   T1_FGMmean                 3490 non-null   float64\n",
      " 7   T1_opponent_FGMmean        3490 non-null   float64\n",
      " 8   T1_FGAmean                 3490 non-null   float64\n",
      " 9   T1_opponent_FGAmean        3490 non-null   float64\n",
      " 10  T1_FGM3mean                3490 non-null   float64\n",
      " 11  T1_opponent_FGM3mean       3490 non-null   float64\n",
      " 12  T1_FGA3mean                3490 non-null   float64\n",
      " 13  T1_opponent_FGA3mean       3490 non-null   float64\n",
      " 14  T1_FTMmean                 3490 non-null   float64\n",
      " 15  T1_opponent_FTMmean        3490 non-null   float64\n",
      " 16  T1_FTAmean                 3490 non-null   float64\n",
      " 17  T1_opponent_FTAmean        3490 non-null   float64\n",
      " 18  T1_EFG_SUMmean             3490 non-null   float64\n",
      " 19  T1_opponent_EFG_SUMmean    3490 non-null   float64\n",
      " 20  T1_TO_RATIOmean            3490 non-null   float64\n",
      " 21  T1_opponent_TO_RATIOmean   3490 non-null   float64\n",
      " 22  T1_ORmean                  3490 non-null   float64\n",
      " 23  T1_opponent_ORmean         3490 non-null   float64\n",
      " 24  T1_DRmean                  3490 non-null   float64\n",
      " 25  T1_opponent_DRmean         3490 non-null   float64\n",
      " 26  T1_REB_RATEmean            3490 non-null   float64\n",
      " 27  T1_opponent_REB_RATEmean   3490 non-null   float64\n",
      " 28  T1_FT_RATEmean             3490 non-null   float64\n",
      " 29  T1_opponent_FT_RATEmean    3490 non-null   float64\n",
      " 30  T1_RATINGmean              3490 non-null   float64\n",
      " 31  T1_opponent_RATINGmean     3490 non-null   float64\n",
      " 32  T1_POSS_RATEmean           3490 non-null   float64\n",
      " 33  T1_opponent_POSS_RATEmean  3490 non-null   float64\n",
      " 34  T1_Astmean                 3490 non-null   float64\n",
      " 35  T1_opponent_Astmean        3490 non-null   float64\n",
      " 36  T1_TOmean                  3490 non-null   float64\n",
      " 37  T1_opponent_TOmean         3490 non-null   float64\n",
      " 38  T1_Stlmean                 3490 non-null   float64\n",
      " 39  T1_opponent_Stlmean        3490 non-null   float64\n",
      " 40  T1_Blkmean                 3490 non-null   float64\n",
      " 41  T1_opponent_Blkmean        3490 non-null   float64\n",
      " 42  T1_PFmean                  3490 non-null   float64\n",
      " 43  T1_opponent_PFmean         3490 non-null   float64\n",
      " 44  T2_Scoremean               3490 non-null   float64\n",
      " 45  T2_opponent_Scoremean      3490 non-null   float64\n",
      " 46  T2_PointDiffmean           3490 non-null   float64\n",
      " 47  T2_FGMmean                 3490 non-null   float64\n",
      " 48  T2_opponent_FGMmean        3490 non-null   float64\n",
      " 49  T2_FGAmean                 3490 non-null   float64\n",
      " 50  T2_opponent_FGAmean        3490 non-null   float64\n",
      " 51  T2_FGM3mean                3490 non-null   float64\n",
      " 52  T2_opponent_FGM3mean       3490 non-null   float64\n",
      " 53  T2_FGA3mean                3490 non-null   float64\n",
      " 54  T2_opponent_FGA3mean       3490 non-null   float64\n",
      " 55  T2_FTMmean                 3490 non-null   float64\n",
      " 56  T2_opponent_FTMmean        3490 non-null   float64\n",
      " 57  T2_FTAmean                 3490 non-null   float64\n",
      " 58  T2_opponent_FTAmean        3490 non-null   float64\n",
      " 59  T2_EFG_SUMmean             3490 non-null   float64\n",
      " 60  T2_opponent_EFG_SUMmean    3490 non-null   float64\n",
      " 61  T2_TO_RATIOmean            3490 non-null   float64\n",
      " 62  T2_opponent_TO_RATIOmean   3490 non-null   float64\n",
      " 63  T2_ORmean                  3490 non-null   float64\n",
      " 64  T2_opponent_ORmean         3490 non-null   float64\n",
      " 65  T2_DRmean                  3490 non-null   float64\n",
      " 66  T2_opponent_DRmean         3490 non-null   float64\n",
      " 67  T2_REB_RATEmean            3490 non-null   float64\n",
      " 68  T2_opponent_REB_RATEmean   3490 non-null   float64\n",
      " 69  T2_FT_RATEmean             3490 non-null   float64\n",
      " 70  T2_opponent_FT_RATEmean    3490 non-null   float64\n",
      " 71  T2_RATINGmean              3490 non-null   float64\n",
      " 72  T2_opponent_RATINGmean     3490 non-null   float64\n",
      " 73  T2_POSS_RATEmean           3490 non-null   float64\n",
      " 74  T2_opponent_POSS_RATEmean  3490 non-null   float64\n",
      " 75  T2_Astmean                 3490 non-null   float64\n",
      " 76  T2_opponent_Astmean        3490 non-null   float64\n",
      " 77  T2_TOmean                  3490 non-null   float64\n",
      " 78  T2_opponent_TOmean         3490 non-null   float64\n",
      " 79  T2_Stlmean                 3490 non-null   float64\n",
      " 80  T2_opponent_Stlmean        3490 non-null   float64\n",
      " 81  T2_Blkmean                 3490 non-null   float64\n",
      " 82  T2_opponent_Blkmean        3490 non-null   float64\n",
      " 83  T2_PFmean                  3490 non-null   float64\n",
      " 84  T2_opponent_PFmean         3490 non-null   float64\n",
      " 85  seed_diff                  3490 non-null   float64\n",
      " 86  rank_diff                  2230 non-null   float64\n",
      " 87  quality_diff               3490 non-null   float64\n",
      " 88  win_ratio_14d_diff         3490 non-null   float64\n",
      "dtypes: float64(86), int64(3)\n",
      "memory usage: 2.4 MB\n"
     ]
    }
   ],
   "source": [
    "X.info()"
   ]
  },
  {
   "cell_type": "markdown",
   "id": "5b22d7b0",
   "metadata": {
    "papermill": {
     "duration": 0.007997,
     "end_time": "2025-03-12T12:55:58.632352",
     "exception": false,
     "start_time": "2025-03-12T12:55:58.624355",
     "status": "completed"
    },
    "tags": []
   },
   "source": [
    "# build models"
   ]
  },
  {
   "cell_type": "code",
   "execution_count": 18,
   "id": "7ef1ae3f",
   "metadata": {
    "execution": {
     "iopub.execute_input": "2025-03-12T12:55:58.649441Z",
     "iopub.status.busy": "2025-03-12T12:55:58.649441Z",
     "iopub.status.idle": "2025-03-12T12:55:58.668615Z",
     "shell.execute_reply": "2025-03-12T12:55:58.668615Z"
    },
    "papermill": {
     "duration": 0.029791,
     "end_time": "2025-03-12T12:55:58.670325",
     "exception": false,
     "start_time": "2025-03-12T12:55:58.640534",
     "status": "completed"
    },
    "tags": []
   },
   "outputs": [],
   "source": [
    "\n",
    "val_mae = []\n",
    "iteration_counts = []\n",
    "xgb_cv = []\n",
    "dtrain = xgb.DMatrix(X, label=y)\n",
    "\n",
    "repeat_cv = MODEL.repeat_cv\n",
    "param = dict(MODEL.xgb_model.param)\n",
    "num_boost_round = MODEL.xgb_model.num_boost_round\n",
    "folds_splits = MODEL.xgb_model.folds_splits\n",
    "early_stopping_rounds = MODEL.xgb_model.early_stopping_rounds\n",
    "\n",
    "# コーシー損失関数\n",
    "def cauchyobj(preds, dtrain):\n",
    "    labels = dtrain.get_label()\n",
    "    c = 5000\n",
    "    x = preds - labels    \n",
    "    grad = x / (x**2/c**2 + 1)\n",
    "    hess = -c**2 * (x**2 - c**2) / (x**2 + c**2)**2\n",
    "    return grad, hess"
   ]
  },
  {
   "cell_type": "code",
   "execution_count": 19,
   "id": "eb2213fe",
   "metadata": {
    "execution": {
     "iopub.execute_input": "2025-03-12T12:55:58.694198Z",
     "iopub.status.busy": "2025-03-12T12:55:58.693198Z",
     "iopub.status.idle": "2025-03-12T12:55:58.708134Z",
     "shell.execute_reply": "2025-03-12T12:55:58.708134Z"
    },
    "papermill": {
     "duration": 0.028231,
     "end_time": "2025-03-12T12:55:58.709361",
     "exception": false,
     "start_time": "2025-03-12T12:55:58.681130",
     "status": "completed"
    },
    "tags": []
   },
   "outputs": [],
   "source": [
    "#########################################\n",
    "# 1. Optunaあり：ハイパーパラメータ最適化 #\n",
    "#########################################\n",
    "def run_optuna_optimization(param, optuna_conf):\n",
    "    def objective(trial):  \n",
    "        logger.info(f\"Trial {trial.number} 開始\")\n",
    "        \n",
    "        current_param = param.copy()  \n",
    "        max_depth_range = optuna_conf.max_depth        \n",
    "        eta_range = optuna_conf.eta\n",
    "        subsample_range = optuna_conf.subsample          \n",
    "        colsample_bytree_range = optuna_conf.colsample_bytree\n",
    "        num_parallel_tree_range = optuna_conf.num_parallel_tree \n",
    "        min_child_weight_range = optuna_conf.min_child_weight \n",
    "        reg_alpha_range = optuna_conf.reg_alpha         \n",
    "        reg_lambda_range = optuna_conf.reg_lambda    \n",
    "        reg_gamma_range = optuna_conf.gamma  \n",
    "\n",
    "        current_param[\"max_depth\"] = trial.suggest_int(\"max_depth\", max_depth_range[0], max_depth_range[1])\n",
    "        current_param[\"eta\"] = trial.suggest_float(\"eta\", eta_range[0], eta_range[1], log=True)\n",
    "        current_param[\"subsample\"] = trial.suggest_float(\"subsample\", subsample_range[0], subsample_range[1])\n",
    "        current_param[\"colsample_bytree\"] = trial.suggest_float(\"colsample_bytree\", colsample_bytree_range[0], colsample_bytree_range[1])\n",
    "        current_param[\"num_parallel_tree\"] = trial.suggest_int(\"num_parallel_tree\", num_parallel_tree_range[0], num_parallel_tree_range[1])\n",
    "        current_param[\"min_child_weight\"] = trial.suggest_int(\"min_child_weight\", min_child_weight_range[0], min_child_weight_range[1])\n",
    "        current_param[\"reg_alpha\"] = trial.suggest_float(\"reg_alpha\", reg_alpha_range[0], reg_alpha_range[1])\n",
    "        current_param[\"reg_lambda\"] = trial.suggest_float(\"reg_lambda\", reg_lambda_range[0], reg_lambda_range[1])\n",
    "        current_param[\"gamma\"] = trial.suggest_float(\"gamma\", reg_gamma_range[0], reg_gamma_range[1])\n",
    "        \n",
    "        if current_param.get(\"eval_metric\", \"mae\") == \"rmse\":\n",
    "            score_name = \"test-rmse-mean\"\n",
    "        elif current_param.get(\"eval_metric\", \"mae\") == \"mae\":\n",
    "            score_name = \"test-mae-mean\"\n",
    "        elif  current_param.get(\"eval_metric\", \"mae\") == \"logloss\":\n",
    "            score_name = \"test-logloss-mean\"\n",
    "        \n",
    "        print(current_param)  \n",
    "        cv_scores = []\n",
    "        for i in range(repeat_cv):\n",
    "            cv_result = xgb.cv(\n",
    "                params=current_param,\n",
    "                dtrain=dtrain,\n",
    "                obj=cauchyobj,\n",
    "                num_boost_round=num_boost_round,\n",
    "                folds=KFold(n_splits=folds_splits, shuffle=True, random_state=i),\n",
    "                early_stopping_rounds=early_stopping_rounds,\n",
    "                verbose_eval=False\n",
    "            )\n",
    "            fold_score = np.min(cv_result[score_name].values)\n",
    "            cv_scores.append(fold_score)\n",
    "        mean_score = np.mean(cv_scores)\n",
    "        logger.info(f\"Trial {trial.number} 終了: スコア {mean_score}\")\n",
    "        \n",
    "        return mean_score\n",
    "\n",
    "    logger.info(\"Optuna最適化開始\")\n",
    "    N_WARMUP_STEPS = optuna_conf.n_warmup_steps\n",
    "    TIMEOUT = optuna_conf.timeout\n",
    "    N_JOBS = optuna_conf.n_jobs\n",
    "    N_TRIALS = optuna_conf.n_trials\n",
    "    \n",
    "    sampler = optuna.samplers.TPESampler(seed=42)\n",
    "    pruner = optuna.pruners.MedianPruner(n_warmup_steps=N_WARMUP_STEPS)\n",
    "\n",
    "    study = optuna.create_study(direction=\"minimize\", sampler=sampler, pruner=pruner)\n",
    "    study.optimize(objective, n_trials=N_TRIALS, timeout=TIMEOUT, n_jobs=N_JOBS)\n",
    "\n",
    "    best_trial = study.best_trial\n",
    "    logger.info(\"Best trial:\")\n",
    "    logger.info(f\"  Value: {best_trial.value}\")\n",
    "    \n",
    "    for key, value in best_trial.params.items():\n",
    "        print(f\"    {key}: {value}\")\n",
    "    param.update(best_trial.params)\n",
    "\n",
    "    logger.info(\"Optuna最適化終了\")\n",
    "    return param"
   ]
  },
  {
   "cell_type": "code",
   "execution_count": 20,
   "id": "5ab18e3c",
   "metadata": {
    "execution": {
     "iopub.execute_input": "2025-03-12T12:55:58.735062Z",
     "iopub.status.busy": "2025-03-12T12:55:58.735062Z",
     "iopub.status.idle": "2025-03-12T12:55:58.741679Z",
     "shell.execute_reply": "2025-03-12T12:55:58.741175Z"
    },
    "papermill": {
     "duration": 0.021332,
     "end_time": "2025-03-12T12:55:58.742685",
     "exception": false,
     "start_time": "2025-03-12T12:55:58.721353",
     "status": "completed"
    },
    "tags": []
   },
   "outputs": [
    {
     "name": "stdout",
     "output_type": "stream",
     "text": [
      "not use Optuna, use xgb_model.param\n",
      "param: {'eval_metric': 'rmse', 'booster': 'gbtree', 'eta': 0.02, 'subsample': 0.35, 'colsample_bytree': 0.7, 'num_parallel_tree': 10, 'min_child_weight': 40, 'gamma': 10, 'max_depth': 3}\n",
      "repeat_cv: 10\n",
      "num_boost_round: 3000\n",
      "folds_splits: 5\n",
      "early_stopping_rounds: 25\n"
     ]
    }
   ],
   "source": [
    "IS_OPTUNA = MODEL.optuna_enabled\n",
    "if IS_OPTUNA:\n",
    "    print(\"Optuna use mode\") \n",
    "    optuna_conf = MODEL.xgb_model.optuna\n",
    "    logger.add(os.path.join(OUTPUT_PATH, \"results.log\"), format=\"{time:YYYY-MM-DD at HH:mm:ss} - {level} - {message}\", level=\"INFO\")\n",
    "    param = run_optuna_optimization(param, optuna_conf)\n",
    "    print(\"param updated by optuna\")\n",
    "    results+= [\"param set after optuna is below\", f\"{param}\", \"\"]\n",
    "else:    \n",
    "    print(\"not use Optuna, use xgb_model.param\")\n",
    "\n",
    "\n",
    "\n",
    "print(\"param:\", param)\n",
    "print(\"repeat_cv:\", repeat_cv)\n",
    "print(\"num_boost_round:\", num_boost_round)\n",
    "print(\"folds_splits:\", folds_splits)\n",
    "print(\"early_stopping_rounds:\", early_stopping_rounds)"
   ]
  },
  {
   "cell_type": "code",
   "execution_count": 21,
   "id": "4113d02b",
   "metadata": {
    "execution": {
     "iopub.execute_input": "2025-03-12T12:55:58.765871Z",
     "iopub.status.busy": "2025-03-12T12:55:58.765871Z",
     "iopub.status.idle": "2025-03-12T13:01:56.088708Z",
     "shell.execute_reply": "2025-03-12T13:01:56.088708Z"
    },
    "papermill": {
     "duration": 357.335233,
     "end_time": "2025-03-12T13:01:56.088708",
     "exception": false,
     "start_time": "2025-03-12T12:55:58.753475",
     "status": "completed"
    },
    "tags": []
   },
   "outputs": [
    {
     "name": "stderr",
     "output_type": "stream",
     "text": [
      "\r",
      "  0%|                                                                                                                                                            | 0/10 [00:00<?, ?it/s]"
     ]
    },
    {
     "name": "stdout",
     "output_type": "stream",
     "text": [
      "[0]\ttrain-rmse:17.17700+0.17728\ttest-rmse:17.16759+0.71157\n"
     ]
    },
    {
     "name": "stdout",
     "output_type": "stream",
     "text": [
      "[50]\ttrain-rmse:13.06388+0.08019\ttest-rmse:13.25957+0.52544\n"
     ]
    },
    {
     "name": "stdout",
     "output_type": "stream",
     "text": [
      "[100]\ttrain-rmse:11.95382+0.06845\ttest-rmse:12.31539+0.40986\n"
     ]
    },
    {
     "name": "stdout",
     "output_type": "stream",
     "text": [
      "[150]\ttrain-rmse:11.53308+0.06503\ttest-rmse:12.04488+0.36591\n"
     ]
    },
    {
     "name": "stdout",
     "output_type": "stream",
     "text": [
      "[200]\ttrain-rmse:11.27720+0.06008\ttest-rmse:11.94156+0.34899\n"
     ]
    },
    {
     "name": "stdout",
     "output_type": "stream",
     "text": [
      "[250]\ttrain-rmse:11.07834+0.05726\ttest-rmse:11.88745+0.33840\n"
     ]
    },
    {
     "name": "stdout",
     "output_type": "stream",
     "text": [
      "[300]\ttrain-rmse:10.90551+0.05620\ttest-rmse:11.85114+0.33199\n"
     ]
    },
    {
     "name": "stdout",
     "output_type": "stream",
     "text": [
      "[350]\ttrain-rmse:10.75021+0.05462\ttest-rmse:11.83138+0.32369\n"
     ]
    },
    {
     "name": "stdout",
     "output_type": "stream",
     "text": [
      "[400]\ttrain-rmse:10.60577+0.05081\ttest-rmse:11.81818+0.31795\n"
     ]
    },
    {
     "name": "stdout",
     "output_type": "stream",
     "text": [
      "[450]\ttrain-rmse:10.47335+0.04952\ttest-rmse:11.81061+0.31577\n"
     ]
    },
    {
     "name": "stdout",
     "output_type": "stream",
     "text": [
      "[500]\ttrain-rmse:10.34709+0.04729\ttest-rmse:11.80535+0.31133\n"
     ]
    },
    {
     "name": "stdout",
     "output_type": "stream",
     "text": [
      "[534]\ttrain-rmse:10.26342+0.04588\ttest-rmse:11.80761+0.30969\n"
     ]
    },
    {
     "name": "stderr",
     "output_type": "stream",
     "text": [
      "\r",
      " 10%|██████████████▊                                                                                                                                     | 1/10 [00:32<04:54, 32.74s/it]"
     ]
    },
    {
     "name": "stdout",
     "output_type": "stream",
     "text": [
      "[0]\ttrain-rmse:17.17564+0.07470\ttest-rmse:17.17766+0.29921\n"
     ]
    },
    {
     "name": "stdout",
     "output_type": "stream",
     "text": [
      "[50]\ttrain-rmse:13.05628+0.09200\ttest-rmse:13.26958+0.41595\n"
     ]
    },
    {
     "name": "stdout",
     "output_type": "stream",
     "text": [
      "[100]\ttrain-rmse:11.94419+0.09023\ttest-rmse:12.33075+0.41509\n"
     ]
    },
    {
     "name": "stdout",
     "output_type": "stream",
     "text": [
      "[150]\ttrain-rmse:11.52629+0.08574\ttest-rmse:12.07168+0.39067\n"
     ]
    },
    {
     "name": "stdout",
     "output_type": "stream",
     "text": [
      "[200]\ttrain-rmse:11.26816+0.07967\ttest-rmse:11.97022+0.37234\n"
     ]
    },
    {
     "name": "stdout",
     "output_type": "stream",
     "text": [
      "[250]\ttrain-rmse:11.06859+0.07625\ttest-rmse:11.91601+0.35597\n"
     ]
    },
    {
     "name": "stdout",
     "output_type": "stream",
     "text": [
      "[300]\ttrain-rmse:10.89417+0.07228\ttest-rmse:11.88425+0.34171\n"
     ]
    },
    {
     "name": "stdout",
     "output_type": "stream",
     "text": [
      "[350]\ttrain-rmse:10.73774+0.06856\ttest-rmse:11.86680+0.33136\n"
     ]
    },
    {
     "name": "stdout",
     "output_type": "stream",
     "text": [
      "[400]\ttrain-rmse:10.59363+0.06662\ttest-rmse:11.85605+0.32393\n"
     ]
    },
    {
     "name": "stdout",
     "output_type": "stream",
     "text": [
      "[450]\ttrain-rmse:10.45935+0.06572\ttest-rmse:11.84759+0.31942\n"
     ]
    },
    {
     "name": "stdout",
     "output_type": "stream",
     "text": [
      "[500]\ttrain-rmse:10.33368+0.06272\ttest-rmse:11.84638+0.31316\n"
     ]
    },
    {
     "name": "stdout",
     "output_type": "stream",
     "text": [
      "[511]\ttrain-rmse:10.30597+0.06300\ttest-rmse:11.84481+0.31213\n"
     ]
    },
    {
     "name": "stderr",
     "output_type": "stream",
     "text": [
      "\r",
      " 20%|█████████████████████████████▌                                                                                                                      | 2/10 [01:04<04:17, 32.14s/it]"
     ]
    },
    {
     "name": "stdout",
     "output_type": "stream",
     "text": [
      "[0]\ttrain-rmse:17.17639+0.10035\ttest-rmse:17.17669+0.40806\n"
     ]
    },
    {
     "name": "stdout",
     "output_type": "stream",
     "text": [
      "[50]\ttrain-rmse:13.05994+0.07567\ttest-rmse:13.26881+0.38427\n"
     ]
    },
    {
     "name": "stdout",
     "output_type": "stream",
     "text": [
      "[100]\ttrain-rmse:11.94944+0.07186\ttest-rmse:12.32617+0.32380\n"
     ]
    },
    {
     "name": "stdout",
     "output_type": "stream",
     "text": [
      "[150]\ttrain-rmse:11.53530+0.06796\ttest-rmse:12.05536+0.28304\n"
     ]
    },
    {
     "name": "stdout",
     "output_type": "stream",
     "text": [
      "[200]\ttrain-rmse:11.27718+0.06147\ttest-rmse:11.94591+0.25381\n"
     ]
    },
    {
     "name": "stdout",
     "output_type": "stream",
     "text": [
      "[250]\ttrain-rmse:11.07615+0.05881\ttest-rmse:11.88821+0.23155\n"
     ]
    },
    {
     "name": "stdout",
     "output_type": "stream",
     "text": [
      "[300]\ttrain-rmse:10.90315+0.05734\ttest-rmse:11.85601+0.21980\n"
     ]
    },
    {
     "name": "stdout",
     "output_type": "stream",
     "text": [
      "[350]\ttrain-rmse:10.74671+0.05852\ttest-rmse:11.83479+0.21081\n"
     ]
    },
    {
     "name": "stdout",
     "output_type": "stream",
     "text": [
      "[400]\ttrain-rmse:10.60411+0.05710\ttest-rmse:11.82264+0.20542\n"
     ]
    },
    {
     "name": "stdout",
     "output_type": "stream",
     "text": [
      "[450]\ttrain-rmse:10.47010+0.05640\ttest-rmse:11.81854+0.20048\n"
     ]
    },
    {
     "name": "stdout",
     "output_type": "stream",
     "text": [
      "[500]\ttrain-rmse:10.34037+0.05559\ttest-rmse:11.81229+0.19640\n"
     ]
    },
    {
     "name": "stdout",
     "output_type": "stream",
     "text": [
      "[543]\ttrain-rmse:10.23333+0.05584\ttest-rmse:11.81151+0.19171\n"
     ]
    },
    {
     "name": "stderr",
     "output_type": "stream",
     "text": [
      "\r",
      " 30%|████████████████████████████████████████████▍                                                                                                       | 3/10 [01:39<03:55, 33.60s/it]"
     ]
    },
    {
     "name": "stdout",
     "output_type": "stream",
     "text": [
      "[0]\ttrain-rmse:17.17513+0.18632\ttest-rmse:17.16298+0.75590\n"
     ]
    },
    {
     "name": "stdout",
     "output_type": "stream",
     "text": [
      "[50]\ttrain-rmse:13.06730+0.11921\ttest-rmse:13.23424+0.63298\n"
     ]
    },
    {
     "name": "stdout",
     "output_type": "stream",
     "text": [
      "[100]\ttrain-rmse:11.95297+0.09701\ttest-rmse:12.28328+0.54247\n"
     ]
    },
    {
     "name": "stdout",
     "output_type": "stream",
     "text": [
      "[150]\ttrain-rmse:11.53302+0.09261\ttest-rmse:12.01285+0.49633\n"
     ]
    },
    {
     "name": "stdout",
     "output_type": "stream",
     "text": [
      "[200]\ttrain-rmse:11.27691+0.09133\ttest-rmse:11.90431+0.46960\n"
     ]
    },
    {
     "name": "stdout",
     "output_type": "stream",
     "text": [
      "[250]\ttrain-rmse:11.07503+0.08782\ttest-rmse:11.85274+0.45712\n"
     ]
    },
    {
     "name": "stdout",
     "output_type": "stream",
     "text": [
      "[300]\ttrain-rmse:10.90140+0.08630\ttest-rmse:11.82359+0.44663\n"
     ]
    },
    {
     "name": "stdout",
     "output_type": "stream",
     "text": [
      "[350]\ttrain-rmse:10.74435+0.08406\ttest-rmse:11.80842+0.44266\n"
     ]
    },
    {
     "name": "stdout",
     "output_type": "stream",
     "text": [
      "[400]\ttrain-rmse:10.60017+0.08180\ttest-rmse:11.80299+0.43837\n"
     ]
    },
    {
     "name": "stdout",
     "output_type": "stream",
     "text": [
      "[450]\ttrain-rmse:10.46429+0.07990\ttest-rmse:11.79699+0.43241\n"
     ]
    },
    {
     "name": "stdout",
     "output_type": "stream",
     "text": [
      "[477]\ttrain-rmse:10.39433+0.07921\ttest-rmse:11.79820+0.43303\n"
     ]
    },
    {
     "name": "stderr",
     "output_type": "stream",
     "text": [
      "\r",
      " 40%|███████████████████████████████████████████████████████████▏                                                                                        | 4/10 [02:10<03:15, 32.57s/it]"
     ]
    },
    {
     "name": "stdout",
     "output_type": "stream",
     "text": [
      "[0]\ttrain-rmse:17.17564+0.17739\ttest-rmse:17.16630+0.72475\n"
     ]
    },
    {
     "name": "stdout",
     "output_type": "stream",
     "text": [
      "[50]\ttrain-rmse:13.06301+0.07663\ttest-rmse:13.25174+0.44724\n"
     ]
    },
    {
     "name": "stdout",
     "output_type": "stream",
     "text": [
      "[100]\ttrain-rmse:11.94782+0.07264\ttest-rmse:12.30044+0.32412\n"
     ]
    },
    {
     "name": "stdout",
     "output_type": "stream",
     "text": [
      "[150]\ttrain-rmse:11.53047+0.07183\ttest-rmse:12.02620+0.29253\n"
     ]
    },
    {
     "name": "stdout",
     "output_type": "stream",
     "text": [
      "[200]\ttrain-rmse:11.27749+0.07017\ttest-rmse:11.91553+0.28326\n"
     ]
    },
    {
     "name": "stdout",
     "output_type": "stream",
     "text": [
      "[250]\ttrain-rmse:11.07630+0.06891\ttest-rmse:11.86173+0.27912\n"
     ]
    },
    {
     "name": "stdout",
     "output_type": "stream",
     "text": [
      "[300]\ttrain-rmse:10.90156+0.06697\ttest-rmse:11.83118+0.27745\n"
     ]
    },
    {
     "name": "stdout",
     "output_type": "stream",
     "text": [
      "[350]\ttrain-rmse:10.74662+0.06688\ttest-rmse:11.81569+0.27704\n"
     ]
    },
    {
     "name": "stdout",
     "output_type": "stream",
     "text": [
      "[400]\ttrain-rmse:10.60314+0.06749\ttest-rmse:11.80336+0.27483\n"
     ]
    },
    {
     "name": "stdout",
     "output_type": "stream",
     "text": [
      "[450]\ttrain-rmse:10.46904+0.06783\ttest-rmse:11.79904+0.27520\n"
     ]
    },
    {
     "name": "stdout",
     "output_type": "stream",
     "text": [
      "[500]\ttrain-rmse:10.34046+0.06754\ttest-rmse:11.79306+0.27396\n"
     ]
    },
    {
     "name": "stdout",
     "output_type": "stream",
     "text": [
      "[515]\ttrain-rmse:10.30298+0.06755\ttest-rmse:11.79368+0.27415\n"
     ]
    },
    {
     "name": "stderr",
     "output_type": "stream",
     "text": [
      "\r",
      " 50%|██████████████████████████████████████████████████████████████████████████                                                                          | 5/10 [02:45<02:47, 33.42s/it]"
     ]
    },
    {
     "name": "stdout",
     "output_type": "stream",
     "text": [
      "[0]\ttrain-rmse:17.17704+0.08807\ttest-rmse:17.17797+0.35229\n"
     ]
    },
    {
     "name": "stdout",
     "output_type": "stream",
     "text": [
      "[50]\ttrain-rmse:13.06568+0.07858\ttest-rmse:13.25291+0.27478\n"
     ]
    },
    {
     "name": "stdout",
     "output_type": "stream",
     "text": [
      "[100]\ttrain-rmse:11.95505+0.08578\ttest-rmse:12.30175+0.29108\n"
     ]
    },
    {
     "name": "stdout",
     "output_type": "stream",
     "text": [
      "[150]\ttrain-rmse:11.53275+0.08205\ttest-rmse:12.02942+0.30933\n"
     ]
    },
    {
     "name": "stdout",
     "output_type": "stream",
     "text": [
      "[200]\ttrain-rmse:11.27599+0.08016\ttest-rmse:11.92168+0.31929\n"
     ]
    },
    {
     "name": "stdout",
     "output_type": "stream",
     "text": [
      "[250]\ttrain-rmse:11.07577+0.07811\ttest-rmse:11.87041+0.32535\n"
     ]
    },
    {
     "name": "stdout",
     "output_type": "stream",
     "text": [
      "[300]\ttrain-rmse:10.90233+0.07600\ttest-rmse:11.84064+0.33041\n"
     ]
    },
    {
     "name": "stdout",
     "output_type": "stream",
     "text": [
      "[350]\ttrain-rmse:10.74679+0.07207\ttest-rmse:11.82476+0.33411\n"
     ]
    },
    {
     "name": "stdout",
     "output_type": "stream",
     "text": [
      "[400]\ttrain-rmse:10.59941+0.06765\ttest-rmse:11.81461+0.33408\n"
     ]
    },
    {
     "name": "stdout",
     "output_type": "stream",
     "text": [
      "[446]\ttrain-rmse:10.47427+0.06553\ttest-rmse:11.81374+0.33418\n"
     ]
    },
    {
     "name": "stderr",
     "output_type": "stream",
     "text": [
      "\r",
      " 60%|████████████████████████████████████████████████████████████████████████████████████████▊                                                           | 6/10 [03:16<02:09, 32.38s/it]"
     ]
    },
    {
     "name": "stdout",
     "output_type": "stream",
     "text": [
      "[0]\ttrain-rmse:17.17680+0.09648\ttest-rmse:17.17756+0.38155"
     ]
    },
    {
     "name": "stdout",
     "output_type": "stream",
     "text": [
      "\n"
     ]
    },
    {
     "name": "stdout",
     "output_type": "stream",
     "text": [
      "[50]\ttrain-rmse:13.05980+0.04906\ttest-rmse:13.25178+0.24664\n"
     ]
    },
    {
     "name": "stdout",
     "output_type": "stream",
     "text": [
      "[100]\ttrain-rmse:11.94902+0.04324\ttest-rmse:12.29830+0.20146\n"
     ]
    },
    {
     "name": "stdout",
     "output_type": "stream",
     "text": [
      "[150]\ttrain-rmse:11.53083+0.03734\ttest-rmse:12.02259+0.19432\n"
     ]
    },
    {
     "name": "stdout",
     "output_type": "stream",
     "text": [
      "[200]\ttrain-rmse:11.27685+0.03643\ttest-rmse:11.91071+0.19281\n"
     ]
    },
    {
     "name": "stdout",
     "output_type": "stream",
     "text": [
      "[250]\ttrain-rmse:11.07777+0.03293\ttest-rmse:11.85020+0.19230\n"
     ]
    },
    {
     "name": "stdout",
     "output_type": "stream",
     "text": [
      "[300]\ttrain-rmse:10.90674+0.02978\ttest-rmse:11.81656+0.18754\n"
     ]
    },
    {
     "name": "stdout",
     "output_type": "stream",
     "text": [
      "[350]\ttrain-rmse:10.75088+0.02782\ttest-rmse:11.79301+0.18590\n"
     ]
    },
    {
     "name": "stdout",
     "output_type": "stream",
     "text": [
      "[400]\ttrain-rmse:10.60511+0.02457\ttest-rmse:11.77817+0.17943\n"
     ]
    },
    {
     "name": "stdout",
     "output_type": "stream",
     "text": [
      "[450]\ttrain-rmse:10.47049+0.02361\ttest-rmse:11.77156+0.17546\n"
     ]
    },
    {
     "name": "stdout",
     "output_type": "stream",
     "text": [
      "[500]\ttrain-rmse:10.34474+0.02186\ttest-rmse:11.76557+0.17503\n"
     ]
    },
    {
     "name": "stdout",
     "output_type": "stream",
     "text": [
      "[550]\ttrain-rmse:10.22297+0.02106\ttest-rmse:11.76000+0.17026\n"
     ]
    },
    {
     "name": "stdout",
     "output_type": "stream",
     "text": [
      "[600]\ttrain-rmse:10.10582+0.02062\ttest-rmse:11.76035+0.16873\n"
     ]
    },
    {
     "name": "stdout",
     "output_type": "stream",
     "text": [
      "[601]\ttrain-rmse:10.10352+0.02046\ttest-rmse:11.76034+0.16851\n"
     ]
    },
    {
     "name": "stderr",
     "output_type": "stream",
     "text": [
      "\r",
      " 70%|███████████████████████████████████████████████████████████████████████████████████████████████████████▌                                            | 7/10 [03:58<01:46, 35.53s/it]"
     ]
    },
    {
     "name": "stdout",
     "output_type": "stream",
     "text": [
      "[0]\ttrain-rmse:17.17646+0.06439\ttest-rmse:17.17909+0.25788\n"
     ]
    },
    {
     "name": "stdout",
     "output_type": "stream",
     "text": [
      "[50]\ttrain-rmse:13.05711+0.04519\ttest-rmse:13.26155+0.22895\n"
     ]
    },
    {
     "name": "stdout",
     "output_type": "stream",
     "text": [
      "[100]\ttrain-rmse:11.94665+0.04281\ttest-rmse:12.31266+0.20218\n"
     ]
    },
    {
     "name": "stdout",
     "output_type": "stream",
     "text": [
      "[150]\ttrain-rmse:11.52997+0.04345\ttest-rmse:12.04403+0.19158\n"
     ]
    },
    {
     "name": "stdout",
     "output_type": "stream",
     "text": [
      "[200]\ttrain-rmse:11.27502+0.04230\ttest-rmse:11.93194+0.18495\n"
     ]
    },
    {
     "name": "stdout",
     "output_type": "stream",
     "text": [
      "[250]\ttrain-rmse:11.07440+0.04325\ttest-rmse:11.87648+0.18451\n"
     ]
    },
    {
     "name": "stdout",
     "output_type": "stream",
     "text": [
      "[300]\ttrain-rmse:10.90335+0.04412\ttest-rmse:11.84429+0.18126\n"
     ]
    },
    {
     "name": "stdout",
     "output_type": "stream",
     "text": [
      "[350]\ttrain-rmse:10.74625+0.04375\ttest-rmse:11.82473+0.18234\n"
     ]
    },
    {
     "name": "stdout",
     "output_type": "stream",
     "text": [
      "[400]\ttrain-rmse:10.60363+0.04477\ttest-rmse:11.81244+0.17908\n"
     ]
    },
    {
     "name": "stdout",
     "output_type": "stream",
     "text": [
      "[450]\ttrain-rmse:10.46894+0.04604\ttest-rmse:11.80279+0.17811\n"
     ]
    },
    {
     "name": "stdout",
     "output_type": "stream",
     "text": [
      "[500]\ttrain-rmse:10.34087+0.04877\ttest-rmse:11.79740+0.17494\n"
     ]
    },
    {
     "name": "stdout",
     "output_type": "stream",
     "text": [
      "[550]\ttrain-rmse:10.21973+0.05154\ttest-rmse:11.79518+0.17306\n"
     ]
    },
    {
     "name": "stdout",
     "output_type": "stream",
     "text": [
      "[600]\ttrain-rmse:10.10437+0.05042\ttest-rmse:11.79391+0.17155\n"
     ]
    },
    {
     "name": "stdout",
     "output_type": "stream",
     "text": [
      "[604]\ttrain-rmse:10.09533+0.05050\ttest-rmse:11.79395+0.17163\n"
     ]
    },
    {
     "name": "stderr",
     "output_type": "stream",
     "text": [
      "\r",
      " 80%|██████████████████████████████████████████████████████████████████████████████████████████████████████████████████████▍                             | 8/10 [04:45<01:18, 39.30s/it]"
     ]
    },
    {
     "name": "stdout",
     "output_type": "stream",
     "text": [
      "[0]\ttrain-rmse:17.17619+0.08694\ttest-rmse:17.17674+0.33960\n"
     ]
    },
    {
     "name": "stdout",
     "output_type": "stream",
     "text": [
      "[50]\ttrain-rmse:13.06374+0.08713\ttest-rmse:13.25250+0.38599\n"
     ]
    },
    {
     "name": "stdout",
     "output_type": "stream",
     "text": [
      "[100]\ttrain-rmse:11.95399+0.09583\ttest-rmse:12.31022+0.37225\n"
     ]
    },
    {
     "name": "stdout",
     "output_type": "stream",
     "text": [
      "[150]\ttrain-rmse:11.53293+0.09562\ttest-rmse:12.04047+0.36410\n"
     ]
    },
    {
     "name": "stdout",
     "output_type": "stream",
     "text": [
      "[200]\ttrain-rmse:11.27488+0.09491\ttest-rmse:11.92811+0.36120\n"
     ]
    },
    {
     "name": "stdout",
     "output_type": "stream",
     "text": [
      "[250]\ttrain-rmse:11.07573+0.09541\ttest-rmse:11.86880+0.35894\n"
     ]
    },
    {
     "name": "stdout",
     "output_type": "stream",
     "text": [
      "[300]\ttrain-rmse:10.90412+0.09621\ttest-rmse:11.83604+0.35323\n"
     ]
    },
    {
     "name": "stdout",
     "output_type": "stream",
     "text": [
      "[350]\ttrain-rmse:10.74863+0.09548\ttest-rmse:11.81485+0.35173\n"
     ]
    },
    {
     "name": "stdout",
     "output_type": "stream",
     "text": [
      "[400]\ttrain-rmse:10.60388+0.09621\ttest-rmse:11.80096+0.35282\n"
     ]
    },
    {
     "name": "stdout",
     "output_type": "stream",
     "text": [
      "[450]\ttrain-rmse:10.46892+0.09548\ttest-rmse:11.79165+0.35316\n"
     ]
    },
    {
     "name": "stdout",
     "output_type": "stream",
     "text": [
      "[500]\ttrain-rmse:10.34213+0.09409\ttest-rmse:11.78424+0.35306\n"
     ]
    },
    {
     "name": "stdout",
     "output_type": "stream",
     "text": [
      "[550]\ttrain-rmse:10.22111+0.09337\ttest-rmse:11.78297+0.35057\n"
     ]
    },
    {
     "name": "stdout",
     "output_type": "stream",
     "text": [
      "[553]\ttrain-rmse:10.21404+0.09329\ttest-rmse:11.78364+0.35073\n"
     ]
    },
    {
     "name": "stderr",
     "output_type": "stream",
     "text": [
      "\r",
      " 90%|█████████████████████████████████████████████████████████████████████████████████████████████████████████████████████████████████████▏              | 9/10 [05:23<00:38, 38.77s/it]"
     ]
    },
    {
     "name": "stdout",
     "output_type": "stream",
     "text": [
      "[0]\ttrain-rmse:17.17386+0.27074\ttest-rmse:17.14824+1.04513\n"
     ]
    },
    {
     "name": "stdout",
     "output_type": "stream",
     "text": [
      "[50]\ttrain-rmse:13.06099+0.10710\ttest-rmse:13.25173+0.73899\n"
     ]
    },
    {
     "name": "stdout",
     "output_type": "stream",
     "text": [
      "[100]\ttrain-rmse:11.94969+0.06202\ttest-rmse:12.31982+0.51995\n"
     ]
    },
    {
     "name": "stdout",
     "output_type": "stream",
     "text": [
      "[150]\ttrain-rmse:11.52891+0.04913\ttest-rmse:12.05401+0.40546\n"
     ]
    },
    {
     "name": "stdout",
     "output_type": "stream",
     "text": [
      "[200]\ttrain-rmse:11.27173+0.04522\ttest-rmse:11.94825+0.34595\n"
     ]
    },
    {
     "name": "stdout",
     "output_type": "stream",
     "text": [
      "[250]\ttrain-rmse:11.07129+0.04329\ttest-rmse:11.89328+0.31059\n"
     ]
    },
    {
     "name": "stdout",
     "output_type": "stream",
     "text": [
      "[300]\ttrain-rmse:10.89816+0.04401\ttest-rmse:11.86563+0.28885\n"
     ]
    },
    {
     "name": "stdout",
     "output_type": "stream",
     "text": [
      "[350]\ttrain-rmse:10.74118+0.04396\ttest-rmse:11.84597+0.27101\n"
     ]
    },
    {
     "name": "stdout",
     "output_type": "stream",
     "text": [
      "[400]\ttrain-rmse:10.59627+0.04480\ttest-rmse:11.83588+0.25964\n"
     ]
    },
    {
     "name": "stdout",
     "output_type": "stream",
     "text": [
      "[450]\ttrain-rmse:10.46025+0.04455\ttest-rmse:11.82681+0.25061\n"
     ]
    },
    {
     "name": "stdout",
     "output_type": "stream",
     "text": [
      "[489]\ttrain-rmse:10.36089+0.04489\ttest-rmse:11.82641+0.24535\n"
     ]
    },
    {
     "name": "stderr",
     "output_type": "stream",
     "text": [
      "\r",
      "100%|███████████████████████████████████████████████████████████████████████████████████████████████████████████████████████████████████████████████████| 10/10 [05:57<00:00, 37.32s/it]"
     ]
    },
    {
     "name": "stderr",
     "output_type": "stream",
     "text": [
      "\r",
      "100%|███████████████████████████████████████████████████████████████████████████████████████████████████████████████████████████████████████████████████| 10/10 [05:57<00:00, 35.71s/it]"
     ]
    },
    {
     "name": "stderr",
     "output_type": "stream",
     "text": [
      "\n"
     ]
    }
   ],
   "source": [
    "if param.get(\"eval_metric\", \"mae\") == \"rmse\":\n",
    "    score_key = \"test-rmse-mean\"\n",
    "    ylabel = \"Test RMSE Mean\"\n",
    "    title = \"Learning Curve: Test RMSE vs Boosting Rounds\"\n",
    "elif param.get(\"eval_metric\", \"mae\") == \"mae\":\n",
    "    score_key = \"test-mae-mean\"\n",
    "    ylabel = \"Test MAE Mean\"\n",
    "    title = \"Learning Curve: Test MAE vs Boosting Rounds\"\n",
    "elif param.get(\"eval_metric\", \"mae\") == \"logloss\":\n",
    "    score_key = \"test-logloss-mean\"\n",
    "    ylabel = \"Test Logloss Mean\"\n",
    "    title = \"Learning Curve: Test Logloss vs Boosting Rounds\"\n",
    "\n",
    "\n",
    "for i in tqdm(range(repeat_cv), leave=True, dynamic_ncols=True): \n",
    "    cv_result = xgb.cv(\n",
    "        params=param,\n",
    "        dtrain=dtrain,\n",
    "        obj=cauchyobj,\n",
    "        num_boost_round=num_boost_round,\n",
    "        folds=KFold(n_splits=folds_splits, shuffle=True, random_state=i),\n",
    "        early_stopping_rounds=early_stopping_rounds,\n",
    "        verbose_eval=50\n",
    "    )\n",
    "    \"\"\"\n",
    "    train-mae-mean: 各fold における訓練データの MAE の平均値。\n",
    "    train-mae-std: 訓練データの MAE の標準偏差。\n",
    "    test-mae-mean: 各fold における検証データの MAE の平均値。\n",
    "    test-mae-std: 検証データの MAE の標準偏差。\n",
    "    \"\"\"\n",
    "    xgb_cv.append(cv_result)\n",
    "    \n",
    "\n",
    "\n",
    "\n",
    "# 各 repeater ごとの最適ブーストラウンド数と検証MAE\n",
    "iteration_counts = [np.argmin(cv[score_key].values) for cv in xgb_cv]\n",
    "val_mae = [np.min(cv[score_key].values) for cv in xgb_cv]\n",
    "\n",
    "mean_iteration = np.mean(iteration_counts)\n",
    "mean_val_mae = np.mean(val_mae)\n",
    "min_val_mae = np.min(val_mae)\n",
    "results.append(f\"mean_iteration: {mean_iteration}\")\n",
    "results.append(f\"mean_val_{param['eval_metric']}: {mean_val_mae}\")\n",
    "results.append(f\"min_val_{param['eval_metric']}: {min_val_mae}\")\n",
    "results.append(\"\")\n",
    "\n",
    "###\n",
    "plt.figure(figsize=(10, 6))\n",
    "for i, cv_result in enumerate(xgb_cv):\n",
    "    rounds = np.arange(len(cv_result[score_key]))\n",
    "    plt.plot(rounds, cv_result[score_key], label=f\"CV repeater {i+1}\")\n",
    "    \n",
    "plt.xlabel(\"Boosting Round\")\n",
    "plt.ylabel(ylabel)\n",
    "plt.title(title)\n",
    "plt.legend()\n",
    "plt.grid(True)\n",
    "\n",
    "plt.savefig(os.path.join(OUTPUT_PATH, f\"learning_curve_{PREDICT_YEAR}.png\"))\n",
    "plt.close()\n",
    "###\n"
   ]
  },
  {
   "cell_type": "code",
   "execution_count": 22,
   "id": "5ed8820e",
   "metadata": {
    "execution": {
     "iopub.execute_input": "2025-03-12T13:01:56.104887Z",
     "iopub.status.busy": "2025-03-12T13:01:56.104887Z",
     "iopub.status.idle": "2025-03-12T13:01:56.121362Z",
     "shell.execute_reply": "2025-03-12T13:01:56.120616Z"
    },
    "papermill": {
     "duration": 0.022425,
     "end_time": "2025-03-12T13:01:56.122667",
     "exception": false,
     "start_time": "2025-03-12T13:01:56.100242",
     "status": "completed"
    },
    "tags": []
   },
   "outputs": [
    {
     "name": "stdout",
     "output_type": "stream",
     "text": [
      "最適ブーストラウンド数: [510, 487, 519, 452, 491, 422, 576, 580, 528, 465]\n",
      "test-rmse-mean: [11.805175119426623, 11.844702848740116, 11.810022308709694, 11.796556068548051, 11.792575742628172, 11.813100968000972, 11.759255483086974, 11.79183253008215, 11.782195768643808, 11.825379343715825]\n"
     ]
    }
   ],
   "source": [
    "print(\"最適ブーストラウンド数:\", iteration_counts)\n",
    "print(f\"{score_key}:\", val_mae)\n",
    "results.append(f\"最適ブーストラウンド: {iteration_counts}\")\n",
    "results.append(f\"{score_key}: {val_mae}\")\n",
    "results.append(\"\")"
   ]
  },
  {
   "cell_type": "code",
   "execution_count": 23,
   "id": "ac0707e6",
   "metadata": {
    "execution": {
     "iopub.execute_input": "2025-03-12T13:01:56.151043Z",
     "iopub.status.busy": "2025-03-12T13:01:56.151043Z",
     "iopub.status.idle": "2025-03-12T13:07:07.916737Z",
     "shell.execute_reply": "2025-03-12T13:07:07.916737Z"
    },
    "papermill": {
     "duration": 311.784173,
     "end_time": "2025-03-12T13:07:07.916737",
     "exception": false,
     "start_time": "2025-03-12T13:01:56.132564",
     "status": "completed"
    },
    "tags": []
   },
   "outputs": [
    {
     "name": "stderr",
     "output_type": "stream",
     "text": [
      "\r",
      "  0%|                                                                                                                                                            | 0/10 [00:00<?, ?it/s]"
     ]
    },
    {
     "name": "stderr",
     "output_type": "stream",
     "text": [
      "C:\\Users\\81809\\AppData\\Local\\Temp\\ipykernel_9440\\3386215446.py:18: FutureWarning: Setting an item of incompatible dtype is deprecated and will raise an error in a future version of pandas. Value '[ 1.97623825e+01 -4.95362186e+00  9.04465735e-01  6.75613308e+00\n",
      " -7.05836773e+00 -1.45027041e+00  7.53676796e+00  8.26971626e+00\n",
      "  1.11835897e+00  1.01361389e+01  6.81737757e+00 -4.47389889e+00\n",
      "  8.00223827e+00  3.58683324e+00 -4.69490385e+00 -8.33983660e-01\n",
      "  4.52438021e+00  8.77240562e+00  1.85349059e+00  2.14747834e+00\n",
      "  4.70285416e+00  3.17998338e+00 -3.38085443e-02  2.10146255e+01\n",
      "  5.94677019e+00  7.43691683e+00 -9.47821558e-01  1.46060534e+01\n",
      "  7.12532187e+00  4.82848215e+00  1.39128852e+00  4.94992822e-01\n",
      " -5.73771954e+00 -2.64800167e+00  1.06119871e+01  5.66832685e+00\n",
      "  1.15779579e-01  1.70084143e+00  1.99591675e+01  9.60692883e+00\n",
      " -7.80448055e+00 -3.48526311e+00 -2.63569736e+00  6.61243200e+00\n",
      " -1.21512194e+01  8.25486851e+00  2.25722623e+00  6.27186728e+00\n",
      "  7.90371990e+00  4.39663124e+00 -1.27182074e+01  4.42182064e+00\n",
      " -1.74352443e+00  2.33123913e+01 -1.99334705e+00  5.64785767e+00\n",
      "  6.56147337e+00 -2.94893622e+00  7.91455698e+00  2.97610331e+00\n",
      " -1.85969126e+00  5.57380438e+00  2.49834085e+00  3.17384839e+00\n",
      "  1.03192711e+01 -5.91665602e+00 -1.32135630e+00  2.34135971e+01\n",
      "  9.91616189e-01  9.03991318e+00  4.01681566e+00 -7.17792225e+00\n",
      " -6.84549522e+00 -2.51176548e+00 -2.11901307e+00  4.06976795e+00\n",
      "  4.78350306e+00  1.31619334e-01  2.58278084e+01 -5.78236532e+00\n",
      "  3.16217422e+00  9.52880287e+00  1.69095497e+01 -5.74460316e+00\n",
      "  5.01565075e+00  6.26706123e+00 -2.51288009e+00 -1.77062058e+00\n",
      "  2.31293564e+01  1.60308075e+01  3.65123200e+00 -5.08172607e+00\n",
      "  7.73486733e-01  2.61248779e+01 -5.04773259e-02  2.20284104e+00\n",
      "  4.22931004e+00  5.33802271e+00  2.47936583e+00 -1.04383945e+01\n",
      " -2.60510278e+00 -2.97696567e+00  9.66317749e+00  5.05185556e+00\n",
      "  2.56971955e+00  1.59172382e+01  2.02536316e+01 -3.43966174e+00\n",
      "  1.94372444e+01  4.82771063e+00  1.99113998e+01 -2.62162566e+00\n",
      " -3.50495863e+00  1.51975689e+01  1.81243057e+01  1.13473349e+01\n",
      " -3.18672681e+00 -7.71718264e+00  1.70697951e+00 -4.07516193e+00\n",
      "  1.36271496e+01  8.17111588e+00 -6.37866402e+00 -1.86535597e+00\n",
      " -2.34496847e-01 -4.84617662e+00  8.12527084e+00 -6.92507553e+00\n",
      " -1.53891153e+01 -1.56222904e+00  5.98391247e+00 -2.77146840e+00\n",
      " -2.23189521e+00 -1.90689373e+00  2.85121670e+01  5.63721085e+00\n",
      "  5.06851625e+00  1.53511143e+00  1.04237137e+01  1.04213228e+01\n",
      "  8.89357281e+00  7.22218895e+00  1.28236456e+01 -1.88978350e+00\n",
      " -9.80129302e-01  1.33608961e+00  2.06363392e+01 -1.95201397e+00\n",
      "  1.13448439e+01 -1.19569235e+01  4.80374765e+00  3.73313165e+00\n",
      "  8.56532383e+00  9.29585648e+00 -2.17066002e+00  3.64088565e-01\n",
      " -2.60597777e+00  7.53715467e+00  7.75342798e+00  1.72877109e+00\n",
      "  1.37618196e+00  8.73265266e+00  5.46098328e+00  2.67959309e+00\n",
      " -4.68619496e-01  2.20814114e+01  3.88159800e+00  5.98132038e+00\n",
      "  2.10492229e+01 -2.75099158e+00  3.57889605e+00 -7.29341924e-01\n",
      " -1.56823909e+00 -1.21938318e-01  8.20255852e+00  1.41283226e+01\n",
      " -1.15104449e+00  1.72523746e+01  4.22837973e+00  2.55800939e+00\n",
      "  7.99078560e+00  4.70685422e-01 -7.23520398e-01  2.85856605e+00\n",
      " -4.79434967e+00  6.40131187e+00  2.14880371e+01  1.97081318e+01\n",
      "  1.62395592e+01  5.65148973e+00 -3.14686775e+00  2.97087216e+00\n",
      "  3.58820510e+00 -6.56809235e+00 -9.44651961e-01  1.60006821e+00\n",
      "  2.17367589e-01  8.09818840e+00  2.06224022e+01  2.14283447e+01\n",
      "  4.10906029e+00  1.33975868e+01  5.77094889e+00  5.69395971e+00\n",
      " -4.25390816e+00  1.20099659e+01 -1.58556139e+00  3.46636343e+00\n",
      "  3.34835315e+00 -7.70594299e-01  9.29720783e+00  1.81680279e+01\n",
      "  1.01650600e+01  9.91773319e+00  2.32711971e-01  1.98584232e+01\n",
      "  1.73266196e+00  1.28135788e+00  7.01491117e+00  5.24596834e+00\n",
      "  1.18597803e+01  3.57344627e+00  4.50940037e+00 -4.46113676e-01\n",
      "  6.04695034e+00 -5.57018042e-01  7.68698931e+00  1.28953590e+01\n",
      "  1.66883087e+01  1.36530104e+01  8.44300175e+00  1.31419640e+01\n",
      "  9.93910027e+00  1.60959315e+00  1.77287614e+00  2.44251154e-02\n",
      "  2.55586815e+00  6.02042294e+00  2.84606504e+00  3.14518604e+01\n",
      "  3.33934059e+01 -1.04150753e+01 -8.05428696e+00 -1.83510864e+00\n",
      "  2.34607744e+00  1.05328846e+01  1.22999310e+00  8.25853252e+00\n",
      " -5.04250765e+00  4.03450241e+01  1.82350063e+01  3.68781805e-01\n",
      "  1.32567537e+00  2.79753475e+01  3.52711058e+00  6.59161854e+00\n",
      "  1.48204994e+01  2.33156157e+00  1.46282625e+01  7.89745951e+00\n",
      "  1.24768772e+01  1.13329744e+01  1.53590088e+01  6.26988649e+00\n",
      "  1.39375629e+01  1.12975769e+01  6.49321318e+00  8.95578194e+00\n",
      " -1.13086805e+01  7.84977627e+00 -2.35737019e+01  2.51740766e+00\n",
      "  2.53538437e+01 -2.71216846e+00  4.01168013e+00  9.81841564e+00\n",
      " -2.67632318e+00  6.68911839e+00  2.06436944e+00  2.81485786e+01\n",
      "  4.23794889e+00  6.44196987e+00  1.48699894e+01  1.10710859e+01\n",
      "  3.49947381e+00  3.62700462e+00  1.55355444e+01  3.70093079e+01\n",
      "  6.32170677e+00  9.82248783e+00  4.31656075e+00  9.57757282e+00\n",
      "  1.77220936e+01  9.19760942e-01  1.34309168e+01  3.25587196e+01\n",
      "  1.35669541e+00  1.33615789e+01 -8.12095702e-01  1.51495409e+01\n",
      "  1.94960918e+01  2.74352098e+00  3.27631798e+01  2.01343174e+01\n",
      "  3.36782303e+01 -1.72607059e+01 -1.07822764e+00  6.21641397e+00\n",
      "  5.43535852e+00  8.30763721e+00  2.78772526e+01  3.70565834e+01\n",
      " -7.88973987e-01  4.34446859e+00  2.18198490e+01  6.59295940e+00\n",
      "  2.04688907e+00  1.45884638e+01 -7.08378732e-01  2.82637806e+01\n",
      "  3.51340027e+01  6.62884712e+00  3.91872902e+01 -2.15830040e+00\n",
      "  6.96058035e+00  2.34371910e+01  1.82422771e+01  2.25603542e+01\n",
      "  2.56688728e+01 -7.12849855e+00  1.05285606e+01  6.71469212e+00\n",
      "  4.40831327e+00  4.05990868e+01  8.88803577e+00  9.60287285e+00\n",
      "  1.31527460e+00  3.84301376e+00  1.91395073e+01 -5.26345968e+00\n",
      "  1.19039321e+00  2.87088871e-01 -3.98232079e+00  7.55200088e-02\n",
      " -1.74761372e+01 -1.04132957e+01  3.80308247e+00 -7.22033978e+00\n",
      " -7.46570206e+00 -1.83075123e+01 -2.51213570e+01 -1.46304488e+00\n",
      " -6.40346575e+00  2.18765163e+00  4.59579086e+00 -7.97773695e+00\n",
      " -4.69078159e+00  4.92714739e+00 -2.02806625e+01 -5.71309507e-01\n",
      " -4.33261824e+00 -6.32819271e+00 -9.07302475e+00 -1.93840432e+00\n",
      " -6.61387110e+00 -1.80297887e+00  6.50370932e+00 -5.68846083e+00\n",
      " -1.19779711e+01  2.30381012e+00 -4.24650860e+00 -1.57529039e+01\n",
      " -1.15848942e+01 -4.87134457e+00 -2.09614545e-01  2.87504745e+00\n",
      "  1.58877611e+00 -7.86042976e+00 -9.38764477e+00  3.57046485e+00\n",
      "  4.04831553e+00 -2.20847988e+01  1.12170944e+01  2.69043517e+00\n",
      " -8.91167068e+00  3.03971553e+00 -8.23053932e+00 -4.31546879e+00\n",
      "  2.23267031e+00  7.31476963e-01 -1.80679703e+01 -4.26717615e+00\n",
      " -2.29123287e+01 -7.22166109e+00 -3.12423229e+00 -4.73212385e+00\n",
      " -9.45261860e+00  4.32701015e+00 -6.04321003e+00 -3.70857549e+00\n",
      " -5.59955215e+00 -1.70499372e+00  1.48719656e+00 -4.75929594e+00\n",
      " -1.21253138e+01 -4.77962494e+00  6.40611887e-01 -1.60949459e+01\n",
      " -1.02733574e+01  3.77615643e+00 -1.74481916e+00  5.28407335e+00\n",
      "  4.60190803e-01 -3.00082278e+00 -7.01045704e+00 -1.19082041e+01\n",
      "  8.47285938e+00  3.01674771e+00 -9.62339592e+00 -6.76499462e+00\n",
      "  2.46776104e+00 -5.58113098e+00  2.91798902e+00 -5.03089190e+00\n",
      " -1.64786072e+01 -7.89436638e-01 -1.53361006e+01  4.00456524e+00\n",
      "  2.94500279e+00  2.29203439e+00 -1.03109541e+01 -1.51881857e+01\n",
      " -3.74288487e+00  4.96127892e+00 -1.00060816e+01 -3.32832170e+00\n",
      "  2.73830271e+00 -4.04879808e+00 -2.52693272e+00 -8.20518303e+00\n",
      " -2.30239925e+01 -2.05068893e+01 -3.01432753e+00 -2.01476097e+01\n",
      "  1.35033739e+00  5.48964977e-01 -1.74503880e+01  6.11714411e+00\n",
      " -3.35416698e+00  8.90241241e+00 -9.17771626e+00 -6.03483248e+00\n",
      " -1.24398518e+00 -7.29728508e+00  2.04486156e+00  5.43681383e+00\n",
      " -7.26310587e+00  1.28918326e+00 -7.69302034e+00 -3.63829184e+00\n",
      " -1.07376652e+01  5.67306709e+00 -1.00376387e+01  1.31365490e+00\n",
      " -8.29467964e+00 -2.49660754e+00 -8.42601871e+00 -7.89801741e+00\n",
      " -4.74345875e+00 -1.12141933e+01 -7.39416027e+00 -1.72786522e+01\n",
      "  2.06905198e+00  3.31034803e+00 -9.34491825e+00 -1.40586205e+01\n",
      "  1.76889503e+00  1.59883171e-01  1.51260328e+00  5.78728580e+00\n",
      " -1.21210785e+01 -1.08593330e+01 -3.30993557e+00 -9.04899311e+00\n",
      " -2.29878402e+00 -2.34771657e+00 -5.65402174e+00  7.12728262e+00\n",
      "  4.24839437e-01 -1.23240004e+01  6.11287451e+00 -2.07910299e+00\n",
      "  1.99974394e+00 -3.82489204e+00 -3.27972245e+00 -1.86107140e+01\n",
      " -1.28610859e+01 -6.83580112e+00 -1.09497242e+01 -6.65453196e+00\n",
      " -4.14396667e+00 -3.28606200e+00  6.36199331e+00 -4.21298456e+00\n",
      " -4.37603283e+00 -1.49382472e+00  4.34037256e+00 -1.87785673e+00\n",
      "  4.00765038e+00 -1.21045322e+01 -5.39454508e+00 -2.51532688e+01\n",
      "  3.19092464e+00 -4.35716629e+00 -6.59810734e+00 -5.94136789e-02\n",
      " -2.16700721e+00 -1.96857128e+01  5.58170509e+00 -1.28253870e+01\n",
      " -9.91129220e-01  4.15871859e+00 -2.76198411e+00  6.39782190e+00\n",
      " -2.17809277e+01 -9.22002602e+00 -2.27220511e+00 -5.67121410e+00\n",
      " -1.17795124e+01  6.00346029e-01  7.25807428e+00 -5.38062620e+00\n",
      " -9.52423573e+00 -6.91808367e+00  3.68949151e+00 -1.49056282e+01\n",
      "  3.79764199e+00 -2.77963853e+00 -1.49400749e+01 -4.82384443e+00\n",
      " -3.03135824e+00  1.34110558e+00 -1.18086362e+00  2.31027222e+01\n",
      " -5.05416107e+00 -5.44398308e+00  9.16454983e+00  7.19650269e+00\n",
      " -1.03493853e+01  4.44269562e+00  6.60874665e-01 -1.40645409e+00\n",
      " -5.66679144e+00 -1.66828108e+00 -3.77905130e-01 -7.57399130e+00\n",
      " -2.84125824e+01 -1.77641163e+01 -1.11721210e+01  8.85264778e+00\n",
      "  5.23382425e+00  4.01124763e+00 -1.85281193e+00 -7.11357927e+00\n",
      " -1.42279100e+00 -1.86854959e+00 -4.85672522e+00 -9.29880238e+00\n",
      "  2.71630692e+00  6.60469723e+00 -7.41678047e+00  1.22779274e+00\n",
      " -3.36983299e+01 -2.76676140e+01 -4.67715073e+01 -2.77589283e+01\n",
      " -1.56773739e+01 -2.77445722e+00 -4.00679159e+00  1.23030605e+01\n",
      " -7.75893831e+00 -2.44130116e+01 -2.43422432e+01 -1.40523405e+01\n",
      " -4.10623455e+00 -6.70115185e+00 -4.44525337e+00 -2.91040000e-02\n",
      " -4.03239403e+01 -1.26632106e+00 -1.69072647e+01 -1.05941792e+01\n",
      " -2.50639763e+01 -1.81298733e+01 -9.81117725e+00 -7.82412958e+00\n",
      "  3.64884257e+00  1.00220289e+01 -1.01101494e+00 -3.02063608e+00\n",
      "  7.06750333e-01 -2.51300106e+01  7.24600363e+00 -1.98272552e+01\n",
      " -2.34857616e+01 -5.27843094e+00 -6.97889662e+00  4.30937290e+00\n",
      " -2.34861622e+01 -1.18567705e+01 -1.36614389e+01 -2.97292194e+01\n",
      "  3.04329038e+00 -6.87038898e+00 -1.98649998e+01 -3.69479675e+01\n",
      "  2.40219378e+00  5.35366917e+00 -5.03393841e+00 -2.57066517e+01\n",
      " -1.33628645e+01  2.30341606e+01 -3.37247109e+00 -2.29986362e+01\n",
      " -5.57347727e+00 -1.15428495e+01 -1.41031685e+01 -4.75951195e+00\n",
      " -1.45591521e+00 -3.63508186e+01  6.85206890e-01 -1.02344542e+01\n",
      " -5.85856104e+00 -1.29383373e+01  5.18024111e+00  3.56516647e+00\n",
      " -4.58159027e+01  9.22996461e-01  3.86180207e-02 -2.83470898e+01\n",
      " -4.05005074e+00 -5.94900465e+00 -1.76324444e+01 -1.24925356e+01\n",
      " -3.28330994e+01 -9.86241245e+00 -1.14555526e+00 -3.29184799e+01\n",
      " -1.58860655e+01  3.80476737e+00 -6.11687040e+00 -1.95348625e+01\n",
      " -3.24207497e+01 -4.52455950e+00 -3.36423874e+01 -1.50803089e+00\n",
      " -2.06472569e+01  9.50025940e+00  6.81806803e+00  1.16735868e+01\n",
      " -2.13899860e+01 -1.74903560e+00  7.07062387e+00 -2.11065578e+00\n",
      "  1.30812132e+00 -5.86646414e+00 -1.89396629e+01 -3.81335783e+00\n",
      "  1.31364880e+01 -6.45937157e+00 -4.74230576e+00  6.50614452e+00\n",
      " -4.29260864e+01  8.56028080e+00 -3.77981873e+01 -3.02471733e+00\n",
      " -2.41935043e+01 -2.56120815e+01 -2.06805897e+01  1.30221663e+01\n",
      " -3.01801319e+01 -2.00452971e+00  1.66340370e+01 -2.45743561e+01\n",
      " -1.66013775e+01 -7.69692993e+00 -2.03996983e+01 -6.50010920e+00\n",
      " -4.30541229e+00 -2.24460006e+00 -1.64780083e+01 -2.16902142e+01\n",
      " -4.35563545e+01 -3.44416046e+00  3.61168814e+00  4.36161947e+00\n",
      " -2.31889591e+01 -2.31612854e+01]' has dtype incompatible with int64, please explicitly cast to a compatible dtype first.\n",
      "  preds[val_index] = model.predict(dval_i)\n"
     ]
    },
    {
     "name": "stderr",
     "output_type": "stream",
     "text": [
      "\r",
      " 10%|██████████████▊                                                                                                                                     | 1/10 [00:32<04:52, 32.47s/it]"
     ]
    },
    {
     "name": "stderr",
     "output_type": "stream",
     "text": [
      "C:\\Users\\81809\\AppData\\Local\\Temp\\ipykernel_9440\\3386215446.py:18: FutureWarning: Setting an item of incompatible dtype is deprecated and will raise an error in a future version of pandas. Value '[-1.10474072e+01  1.03562272e+00  1.62530689e+01 -1.65170085e+00\n",
      "  6.39316750e+00  3.93891335e+00  2.10219364e+01  1.33226051e+01\n",
      "  1.12479668e+01  6.93299103e+00 -3.87274098e+00 -5.98430157e+00\n",
      "  6.36047077e+00 -1.90875006e+00  2.12377071e+01  2.35539103e+00\n",
      "  9.83860874e+00  3.47553968e+00  2.53469563e+00  9.16027737e+00\n",
      "  7.36048079e+00  3.91973352e+00  7.52614689e+00 -8.85691833e+00\n",
      "  9.58087265e-01  7.60663843e+00 -5.76406384e+00  2.46019325e+01\n",
      "  1.45467787e+01 -9.03001726e-01  3.70983529e+00  6.85209227e+00\n",
      " -2.08860707e+00  4.68320608e+00 -4.87672043e+00  7.90972424e+00\n",
      "  4.58262920e-01  2.06815720e+01  1.34199209e+01  1.01810522e+01\n",
      "  1.81461239e+01 -1.18249969e+01  1.75889530e+01  6.55144835e+00\n",
      "  5.08593702e+00  2.25425482e+00  5.67332077e+00 -1.32641125e+00\n",
      "  5.39939594e+00  3.34200829e-01 -1.09379900e+00  8.28146553e+00\n",
      "  2.46111298e+01  2.51494560e+01  5.04642725e+00  6.95760012e+00\n",
      "  1.11111142e-02  8.81462193e+00  6.51142502e+00  5.21971321e+00\n",
      " -2.28076649e+00  1.13555539e+00 -1.07123256e+00  3.37867618e+00\n",
      "  2.01639519e+01  1.12359142e+01  4.92167950e-01  2.82387066e+01\n",
      "  1.32174520e+01  2.56917500e+00  1.95347328e+01 -7.57834578e+00\n",
      "  1.42584629e+01  6.34261084e+00  2.34662867e+00  3.12873054e+00\n",
      "  1.36129284e+00 -4.16251302e-01  1.78715210e+01  8.50880146e+00\n",
      " -2.40085101e+00  6.27082396e+00 -4.70689821e+00 -1.04281330e+01\n",
      "  1.30012274e+00  9.51667309e+00  9.55060196e+00 -2.75527644e+00\n",
      "  4.97956324e+00  2.71029019e+00 -4.86198425e+00  1.67884445e+01\n",
      " -2.91981792e+00  1.65668087e+01 -3.75408888e+00  1.70220375e+01\n",
      "  3.29195857e+00 -5.11566782e+00  1.07088842e+01  7.42273521e+00\n",
      "  8.52503586e+00  3.45237732e+00 -1.12236583e+00  1.80918026e+01\n",
      " -3.26463866e+00 -2.75536942e+00  1.13972127e+00  1.48709145e+01\n",
      "  1.51281281e+01  1.78012371e+01 -3.60479450e+00  2.69646525e+00\n",
      "  7.18533659e+00  9.43434143e+00 -5.39236689e+00 -9.90142155e+00\n",
      " -7.55319166e+00 -6.80489969e+00  1.82254684e+00  4.02580947e-01\n",
      " -2.94192100e+00 -8.27949822e-01  5.77489996e+00  1.30892003e+00\n",
      "  5.79918957e+00  2.71341534e+01  5.19139767e+00 -5.33312201e-01\n",
      " -8.70790863e+00 -6.01052952e+00 -2.71383196e-01  1.20064402e+00\n",
      " -2.64424589e-02 -9.24271882e-01 -4.50193071e+00  8.94733429e+00\n",
      "  4.28981447e+00 -4.25884724e-02  2.19200115e+01  5.10437679e+00\n",
      " -1.81596613e+00  2.69353300e-01 -4.52422887e-01 -2.43368745e-01\n",
      "  2.17522297e+01 -1.88003087e+00  2.62552714e+00 -1.68065035e+00\n",
      "  3.57982469e+00  5.14641666e+00 -7.45596790e+00  5.11371899e+00\n",
      " -9.37527299e-01 -3.26415491e+00 -5.83402777e+00  6.23468518e-01\n",
      "  2.25982571e+01  2.96350403e+01  8.09975529e+00 -5.46781921e+00\n",
      "  3.29077935e+00  1.84017822e-01  1.83091660e+01  1.30339565e+01\n",
      "  5.85061169e+00  1.97550621e+01  6.07068491e+00  4.47108269e+00\n",
      "  3.47520065e+00  2.16411371e-02 -2.64614153e+00  5.26096201e+00\n",
      " -2.12217665e+00  1.14921865e+01 -3.83829141e+00 -1.73309612e+01\n",
      "  2.67181993e+00  2.34244156e+01  2.02379856e+01  4.45466518e+00\n",
      "  6.83471870e+00  2.50365543e+00  2.67107248e+00 -1.96285352e-01\n",
      " -2.59229326e+00  1.06688757e+01  2.66068482e+00  3.79695487e+00\n",
      "  2.52652569e+01  7.73292065e+00 -2.51881361e+00  8.88486862e+00\n",
      "  2.45682125e+01  4.61033583e+00 -8.76478004e+00  5.68084955e+00\n",
      "  3.05506659e+00  4.45693827e+00 -4.73405504e+00 -2.10523558e+00\n",
      " -7.54230642e+00 -3.98657846e+00  9.28118229e+00 -1.41294515e+00\n",
      "  3.34829450e+00  1.78387241e+01 -1.95343363e+00  4.68564749e+00\n",
      " -4.85028362e+00 -9.09290123e+00  1.30673637e+01  2.62757206e+00\n",
      "  2.19613647e+00 -1.11326635e+00  4.97520828e+00 -1.19678819e+00\n",
      "  3.62816215e+00  4.51761293e+00  1.80561766e-01 -1.96149027e+00\n",
      "  1.29446754e+01 -9.66643143e+00  1.67356529e+01  1.28736439e+01\n",
      " -2.11013675e+00  1.16846914e+01  2.47675943e+00  4.11222315e+00\n",
      "  9.37374687e+00  4.82189083e+00  8.69593143e-01  3.20374489e+01\n",
      "  4.23387557e-01  4.52989845e+01  1.61087761e+01  1.39198864e+00\n",
      "  4.55327988e+00  4.27623844e+00  1.95321636e+01  5.63156891e+00\n",
      "  1.19266853e+01  7.27439451e+00 -5.42131805e+00  1.53147917e+01\n",
      "  2.59940643e+01 -1.26664629e+01  8.82943821e+00  2.60524311e+01\n",
      "  3.91271324e+01  3.91275139e+01  3.56611204e+00  2.05127888e+01\n",
      " -1.18626904e+00  2.47124805e+01 -6.88282728e+00  1.75194855e+01\n",
      "  9.98083782e+00 -6.29943752e+00 -1.42503023e+01 -3.41626549e+00\n",
      "  3.03304996e+01  1.54997066e-01 -1.23457909e+01  1.35556536e+01\n",
      "  2.60434971e+01  3.07540398e+01  1.37521067e+01  7.80777788e+00\n",
      "  4.51499100e+01  2.32119789e+01  1.33179340e+01 -1.81695390e+00\n",
      "  2.98517609e+00  6.24050093e+00  1.95191460e+01 -8.23917103e+00\n",
      "  2.75212440e+01  2.29631023e+01 -2.50132980e+01  6.44278479e+00\n",
      "  7.93466902e+00 -3.39397001e+00  7.04747438e+00  3.14851856e+00\n",
      "  2.92581482e+01 -8.16758537e+00  2.16622200e+01 -1.15386605e+00\n",
      "  1.43425465e+01 -7.11241627e+00  3.01723499e+01 -4.05628443e-01\n",
      "  8.59894562e+00  6.66271257e+00 -6.72428274e+00  3.55943871e+01\n",
      "  1.18486166e+01 -1.03823872e+01 -1.58950374e-01  6.77888155e+00\n",
      "  1.81982594e+01  2.78279400e+00  1.53069401e+01 -6.86826658e+00\n",
      "  7.54371452e+00  2.81391964e+01 -3.67965984e+00  2.11911464e+00\n",
      "  4.78576584e+01 -2.65146446e+00  3.82955074e+00  3.98335075e+00\n",
      "  3.01539779e+00 -1.13390093e+01  3.11382427e+01  6.65356255e+00\n",
      "  3.95884442e+00  2.61021233e+01  1.39133918e+00  1.10865927e+01\n",
      "  1.22012651e+00  4.33430344e-01  5.46318102e+00  6.48808575e+00\n",
      "  5.31347334e-01 -2.42222481e+01 -9.41119385e+00  1.70875740e+01\n",
      " -5.94384480e+00 -2.57814550e+00  2.23522415e+01 -2.09296656e+00\n",
      "  1.47184992e+01 -1.08042469e+01  3.13317394e+01 -2.10146828e+01\n",
      " -4.46772480e+00  1.39033709e+01  1.43503408e+01  8.17202473e+00\n",
      "  1.63404770e+01  3.31019440e+01  9.17990112e+00  1.26116180e+01\n",
      "  1.37922783e+01  4.21825638e+01  2.52474098e+01  1.87534547e+00\n",
      " -2.68963552e+00 -9.08220863e+00 -1.86855936e+00  2.26985092e+01\n",
      "  2.09412422e+01  2.32325230e+01 -1.48618448e+00  1.68300362e+01\n",
      "  8.49901485e+00 -1.57709253e+00 -1.55853977e+01 -1.16749735e+01\n",
      "  6.52428198e+00 -5.68088531e+00  1.59990168e+00 -1.18590317e+01\n",
      " -7.60816813e+00 -9.65252113e+00 -7.12430048e+00  9.17762399e-01\n",
      " -4.12460041e+00 -1.41665399e+00  1.23208737e+00 -2.19414845e+01\n",
      " -4.39641333e+00 -1.28969631e+01 -1.86009407e+00 -1.98342800e+01\n",
      " -5.45210218e+00 -5.22629881e+00  5.34019041e+00 -2.95097184e+00\n",
      " -4.23204565e+00  5.30214131e-01 -6.50681734e+00 -1.38537073e+01\n",
      "  7.99285471e-01 -1.29962177e+01 -9.81472301e+00 -1.22388306e+01\n",
      " -4.45044613e+00 -2.37170238e+01 -4.44040871e+00  3.59687877e+00\n",
      " -1.35068989e+01 -9.62108803e+00 -5.29897642e+00 -5.87057924e+00\n",
      "  1.25059056e+00 -1.89025383e+01 -6.64619923e+00 -1.83979642e+00\n",
      " -2.17519855e+01  2.27091622e+00  1.09908028e+01  3.43534851e+00\n",
      " -1.50554810e+01 -5.21657324e+00  2.42410946e+00  2.15920639e+00\n",
      "  4.44388270e-01 -5.01690674e+00 -2.00148449e+01 -2.25641556e+01\n",
      "  2.90950984e-01 -2.42186623e+01 -2.31751804e+01 -7.39509010e+00\n",
      " -4.86387157e+00 -4.90230417e+00 -3.83452845e+00 -4.16081285e+00\n",
      "  3.52940583e+00 -2.07968211e+00 -9.00274086e+00  1.23031354e+00\n",
      "  1.53495836e+00 -5.18605423e+00 -8.38460159e+00 -2.86298122e+01\n",
      "  6.90011692e+00 -1.36504812e+01 -8.66368675e+00  2.04230833e+00\n",
      " -1.92843380e+01 -6.85090876e+00 -8.34550285e+00 -1.38389139e+01\n",
      " -1.49133854e+01 -2.27354431e+01 -8.60325146e+00 -6.97513151e+00\n",
      "  3.62177610e+00  2.28996611e+00 -9.05824566e+00 -1.05881786e+01\n",
      " -4.03190708e+00 -8.79762459e+00 -7.25567102e+00 -5.05269957e+00\n",
      " -1.28211861e+01 -2.17946529e+00  3.99225569e+00 -1.21384544e+01\n",
      "  3.06556034e+00 -1.71315753e+00 -4.76891184e+00 -1.37568579e+01\n",
      " -4.90658236e+00 -4.60847712e+00  8.04364741e-01 -4.30554438e+00\n",
      " -5.32798529e+00 -2.04983311e+01 -2.47881794e+01 -1.85278645e+01\n",
      " -3.26319098e+00  4.78791618e+00  1.11057794e+00 -1.06941748e+01\n",
      "  2.60458827e+00 -1.75239906e+01  1.85942211e+01 -2.06969566e+01\n",
      "  1.54256904e+00  5.21046066e+00 -1.23062925e+01  1.43547475e+00\n",
      "  5.06244755e+00 -3.40603518e+00 -8.69869804e+00 -8.23595238e+00\n",
      " -1.31095018e+01  6.17743492e-01 -4.77463579e+00 -3.41380644e+00\n",
      " -3.55513406e+00 -8.20840359e-01 -1.37684937e+01 -7.62502956e+00\n",
      " -5.79260468e-01 -1.80852661e+01 -4.14881849e+00 -2.16017437e+01\n",
      "  2.44058084e+00 -5.35808945e+00  6.97013199e-01 -1.07548103e+01\n",
      "  3.94843292e+00 -1.16847286e+01 -1.53553152e+00 -8.18044949e+00\n",
      " -3.75665933e-01  2.82663774e+00 -1.11899471e+01 -3.58808136e+00\n",
      " -1.06109905e+01 -3.65683937e+00  2.74169636e+00 -1.80886483e+00\n",
      " -4.03878361e-01  2.27402043e+00 -2.01820850e+01 -6.12705135e+00\n",
      "  1.01393108e+01 -2.93167858e+01 -1.34015627e+01 -1.78356705e+01\n",
      "  3.94591331e+00 -5.63782215e+00 -1.81642590e+01  2.72192836e-01\n",
      " -3.64794183e+00  1.77817380e+00 -9.29380000e-01 -1.02002513e+00\n",
      " -2.35963020e+01 -2.11436157e+01 -5.42390537e+00 -6.78852558e+00\n",
      " -1.61251621e+01 -2.60442495e+00  9.11249220e-01 -4.15215158e+00\n",
      " -3.43485087e-01 -7.00823164e+00 -3.07578063e+00 -1.03982143e+01\n",
      " -8.12568283e+00 -2.22871895e+01 -2.03403011e-01  5.24681473e+00\n",
      " -1.15527639e+01 -8.47884846e+00 -5.15714455e+00  2.04175305e+00\n",
      " -1.66566448e+01 -3.33730698e+00 -3.17724228e+00 -9.81869316e+00\n",
      " -2.11987495e+01  1.24148064e+01 -1.99393196e+01  1.76926434e+00\n",
      " -5.53642035e+00  3.41285849e+00 -5.15380573e+00  7.57537842e+00\n",
      "  5.73874044e+00 -6.04075670e+00 -1.99416752e+01 -1.30775032e+01\n",
      " -2.51935501e+01 -1.59308643e+01  6.17885828e+00 -2.03377705e+01\n",
      " -1.20497751e+01 -1.25183735e+01 -5.20579576e+00  3.62646890e+00\n",
      " -9.06622231e-01 -2.38533521e+00 -1.62785320e+01 -7.69130611e+00\n",
      "  1.70735359e+00 -3.29310150e+01 -3.23596344e+01 -2.90373745e+01\n",
      " -3.36362672e+00 -5.99690497e-01 -1.27327108e+01  1.16755619e+01\n",
      " -1.77196503e+01 -5.07893610e+00 -1.73142929e+01  1.70825958e+00\n",
      " -1.37624111e+01 -9.31926155e+00 -4.23857536e+01 -1.21728144e+01\n",
      " -2.66318245e+01 -2.09474735e+01 -1.26973314e+01  7.54868317e+00\n",
      " -5.12871981e+00 -4.25728111e+01 -1.86715279e+01 -1.41060991e+01\n",
      " -6.49820709e+00 -3.27215457e+00 -9.17213535e+00 -1.51951408e+00\n",
      " -1.99822998e+01 -1.08305418e+00 -1.81958237e+01 -1.02051649e+01\n",
      "  4.23326826e+00 -1.71383591e+01 -4.39552841e+01  3.64322138e+00\n",
      " -1.56116943e+01 -1.56655569e+01 -1.45042872e+00 -7.65015936e+00\n",
      "  1.19459546e+00  6.29941511e+00 -8.28984642e+00 -2.29931107e+01\n",
      " -1.69461479e+01 -3.67047882e+00 -2.06435752e+00 -4.70469971e+01\n",
      " -3.45342070e-01  7.02483034e+00 -1.68950996e+01  6.16141081e+00\n",
      " -3.40037117e+01 -2.78258491e+00 -1.19319572e+01  7.26884651e+00\n",
      " -5.64436626e+00 -4.70187044e+00 -1.26284723e+01 -3.61554146e+01\n",
      " -1.02204390e+01 -1.87389011e+01 -2.97883873e+01  9.40260220e+00\n",
      " -2.32111435e+01 -3.01084614e+01  2.01091671e+00 -5.03053331e+00\n",
      " -4.26587296e+00 -4.69116640e+00 -1.52710056e+01 -1.07267122e+01\n",
      " -6.86097956e+00 -3.25284743e+00  5.53832173e-01 -1.26920033e+01\n",
      " -9.61531448e+00 -1.44379406e+01 -2.57611389e+01 -2.60420914e+01\n",
      " -7.07480431e+00  3.37446070e+00 -5.07645187e+01 -6.43413782e-01\n",
      " -1.83711262e+01 -3.97883835e+01 -3.40053978e+01  5.82264328e+00\n",
      " -2.19210510e+01  1.04214869e+01  1.22204628e+01 -5.60664606e+00\n",
      " -7.21291590e+00 -3.24764595e+01 -2.69396973e+01  1.59395337e+00\n",
      " -2.46201115e+01 -2.27243919e+01 -3.25662003e+01 -8.44878554e-01\n",
      " -1.29121609e+01  1.22819414e+01 -2.42199659e+00 -8.82450104e+00\n",
      " -8.54904175e+00 -7.99667883e+00 -2.34066639e+01 -3.91536117e+00\n",
      "  2.19103828e-01 -5.61346006e+00  3.67601061e+00 -1.93794060e+01\n",
      " -2.62267990e+01 -9.08440781e+00 -1.10416183e+01  7.56469774e+00\n",
      " -2.40900445e+00 -6.05561304e+00  3.36501479e+00 -2.99274616e+01\n",
      " -2.88656330e+01 -6.62712097e+00 -2.63807068e+01  5.58808565e+00\n",
      " -1.09922619e+01 -7.15005350e+00]' has dtype incompatible with int64, please explicitly cast to a compatible dtype first.\n",
      "  preds[val_index] = model.predict(dval_i)\n"
     ]
    },
    {
     "name": "stderr",
     "output_type": "stream",
     "text": [
      "\r",
      " 20%|█████████████████████████████▌                                                                                                                      | 2/10 [01:02<04:08, 31.05s/it]"
     ]
    },
    {
     "name": "stderr",
     "output_type": "stream",
     "text": [
      "C:\\Users\\81809\\AppData\\Local\\Temp\\ipykernel_9440\\3386215446.py:18: FutureWarning: Setting an item of incompatible dtype is deprecated and will raise an error in a future version of pandas. Value '[ 2.13047024e-02  3.65659857e+00 -6.52711582e+00 -4.96249723e+00\n",
      " -5.89185774e-01  7.39814568e+00 -1.56828713e+00  7.69390535e+00\n",
      "  7.84010839e+00  1.27264440e+00 -1.33809412e+00 -4.56283045e+00\n",
      "  2.65577564e+01  2.19268818e+01  5.46796656e+00 -1.19977891e+00\n",
      "  2.44666271e+01  2.47691841e+01  6.52492523e+00  9.22362614e+00\n",
      "  7.11067915e+00 -9.52946854e+00  6.28516293e+00  6.63959599e+00\n",
      "  8.67015457e+00  7.66354752e+00  6.08206129e+00  6.90577936e+00\n",
      " -6.54852676e+00 -5.13489389e+00  7.72770405e+00  5.91727972e-01\n",
      "  5.23399067e+00  1.04287453e+01  2.82198906e+00  2.43747139e+01\n",
      " -1.17656708e+00  2.83193035e+01  4.22104406e+00  6.06753588e+00\n",
      "  4.16844130e+00 -7.55934334e+00  6.14752007e+00  8.23277473e+00\n",
      "  9.17057419e+00  1.40733516e+00 -3.62417865e+00 -5.72186661e+00\n",
      "  7.10422850e+00 -1.18036871e+01  5.18597174e+00  1.74486029e+00\n",
      "  7.30947733e+00  6.97109747e+00 -1.95628846e+00  8.10845757e+00\n",
      " -9.15364385e-01  2.90457892e+00  1.79684963e+01  4.70865107e+00\n",
      "  2.11324844e+01  3.93289745e-01  4.87262249e+00  7.02726889e+00\n",
      "  6.93669701e+00  9.96545029e+00  2.27454042e+00  1.86053908e+00\n",
      "  3.77645683e+00 -3.45734209e-01  2.27345524e+01  4.87561643e-01\n",
      "  5.27557564e+00  1.70078659e+01  4.65658474e+00  1.60330296e+01\n",
      " -9.64225960e+00  1.74639761e+00  4.65043306e+00 -2.31703684e-01\n",
      "  1.27123899e+01  6.42758369e+00  6.24652207e-01  3.89519715e+00\n",
      "  2.76300097e+00  1.39943609e+01 -3.61602044e+00 -8.52737129e-01\n",
      " -5.05091190e-01  1.50518999e+01  5.87444973e+00  2.14566975e+01\n",
      "  9.12300169e-01 -7.98861599e+00  9.13653660e+00  9.03353786e+00\n",
      "  4.14728594e+00 -1.04302800e+00  2.20368266e+00  4.00065088e+00\n",
      "  6.47039562e-02  2.02086849e+01 -3.03211474e+00  8.87530327e+00\n",
      "  1.90783138e+01  4.89618897e-01  2.19121399e+01  5.60720062e+00\n",
      "  5.29959583e+00 -2.23564553e+00  1.06876707e+01 -7.46138763e+00\n",
      " -1.89202511e+00  9.92886871e-02 -2.09432793e+00  1.05192408e-01\n",
      " -6.24143791e+00  6.74175596e+00 -6.45657003e-01  7.04084587e+00\n",
      "  7.14064646e+00  2.55242901e+01  3.51547766e+00  4.42960930e+00\n",
      " -2.49757314e+00  1.70541811e+00  2.14166188e+00 -9.17088687e-02\n",
      "  1.29874611e+00 -8.62370312e-01  8.20963860e-01 -1.55293016e+01\n",
      "  1.37171535e+01  1.18433189e+01  2.34346848e+01 -4.19168234e+00\n",
      " -1.72514413e-02  8.22083187e+00 -6.00907803e+00  4.08886909e+00\n",
      "  6.77177131e-01 -1.41360903e+00  1.60504971e+01  1.60471554e+01\n",
      "  2.23933182e+01  2.65706611e+00 -5.06428671e+00 -1.39652431e+00\n",
      "  5.27718401e+00 -7.90658951e+00  2.39538360e+00  4.08496189e+00\n",
      "  1.20451727e+01 -1.38164830e+00  2.28164730e+01  4.19957590e+00\n",
      "  1.92173970e+00  7.92040730e+00  3.04972382e+01 -6.80269599e-02\n",
      " -7.20581174e-01  6.09382915e+00  9.85081005e+00  2.01775241e+00\n",
      "  1.69679180e-01 -9.61126268e-01 -2.43811083e+00  5.52016830e+00\n",
      " -1.53160119e+00  6.23435772e-04  4.06679201e+00  1.02115002e+01\n",
      " -2.36131239e+00 -5.88086367e+00  6.88027239e+00  2.22699490e+01\n",
      "  1.78690758e+01  5.93808842e+00  3.44409704e+00 -3.29363167e-01\n",
      "  7.58750153e+00  2.30756116e+00  9.78823376e+00  5.92770338e+00\n",
      "  4.10406971e+00  2.45910225e+01  4.45695305e+00  1.75324881e+00\n",
      "  2.17925816e+01 -7.77904606e+00  1.37881482e+00  6.24374390e+00\n",
      " -9.32591820e+00  6.36961365e+00  2.13009858e+00 -1.02584038e+01\n",
      "  5.32688665e+00  7.43644381e+00 -2.37577415e+00 -6.84288454e+00\n",
      " -4.13301516e+00  1.00510483e+01 -1.70174003e+00  2.81077743e+00\n",
      " -1.48789680e+00 -9.62433243e+00 -5.32006025e+00 -2.07810473e+00\n",
      "  2.77667809e+01  1.27854366e+01 -4.41175318e+00  1.53625145e+01\n",
      " -1.55448639e+00  1.14545500e+00  4.15948689e-01 -2.75511003e+00\n",
      "  2.92519832e+00  1.91705589e+01  6.92883062e+00  2.30844402e+00\n",
      "  4.03400421e-01  3.30918884e+01  2.99905281e+01  1.19163561e+01\n",
      "  1.92923874e-01  3.37026858e+00  1.26827736e+01 -1.00993109e+01\n",
      "  6.06541300e+00  1.72308769e+01 -4.11704588e+00 -1.17875862e+00\n",
      "  1.44708338e+01  7.87323809e+00  1.07535172e+01  3.82729912e+01\n",
      "  5.17950964e+00  9.93662262e+00 -7.54621887e+00  4.64099693e+00\n",
      "  2.91073952e+01  7.81508255e+00  1.90775394e+01 -3.25598311e+00\n",
      " -1.45657759e+01  8.11014175e+00  1.32775051e-03  4.37646538e-01\n",
      "  2.52567029e+00 -7.84190834e-01  2.33624268e+01  7.45396996e+00\n",
      "  1.18400502e+00  8.99292850e+00  1.07858610e+00  9.82814217e+00\n",
      "  1.49930973e+01  1.82418175e+01  8.15318584e+00  2.54560108e+01\n",
      " -1.71381068e+00  2.88348026e+01  2.81160665e+00  4.83843575e+01\n",
      "  3.08076305e+01 -1.97215068e+00  1.09499969e+01  3.31265564e+01\n",
      "  1.72642288e+01  3.94339180e+00  1.12924156e+01  3.68428345e+01\n",
      "  3.98031425e+01  7.30663919e+00  3.17357407e+01  1.54808807e+00\n",
      "  1.16249065e+01  7.31898499e+00  7.63341951e+00  1.04527464e+01\n",
      "  3.01227779e+01  3.79392296e-01  2.68084202e+01 -4.91704655e+00\n",
      "  3.72191215e+00 -5.29037297e-01  2.44316006e+01  1.00379848e+01\n",
      " -4.53771400e+00  2.91182251e+01  2.29960575e+01  6.24346638e+00\n",
      "  2.87705536e+01  5.45988500e-01 -6.39400625e+00  6.36086893e+00\n",
      "  1.98566456e+01  1.25739598e+00  3.09456463e+01  4.31099396e+01\n",
      "  1.02921553e+01  7.70287371e+00  2.48740730e+01  2.14101028e+01\n",
      " -2.02648234e+00 -1.30999098e+01  3.33764153e+01 -3.31828880e+00\n",
      "  1.00494680e+01 -5.87133741e+00  3.74837494e+01  3.21979141e+01\n",
      "  3.18050079e+01  1.21606243e+00  8.58728695e+00  6.39882231e+00\n",
      "  5.24892187e+00  3.04920769e+01  2.47689176e+00  8.09695911e+00\n",
      "  2.03341961e+01  1.97435207e+01  3.03595185e+00  1.72690022e+00\n",
      " -1.55066652e+01  5.10115957e+00 -1.16400309e+01 -9.47443295e+00\n",
      " -2.87599874e+00  2.49244237e+00 -7.55180264e+00  3.70782709e+00\n",
      " -8.10415363e+00 -6.33464050e+00  4.03888512e+00 -4.35980892e+00\n",
      " -3.75570965e+00 -1.64935672e+00 -6.00468779e+00  8.01736653e-01\n",
      " -2.09083061e+01 -9.87856007e+00 -2.20508118e+01 -5.03426170e+00\n",
      " -4.61761141e+00 -2.09626341e+00 -6.94152451e+00 -2.60928130e+00\n",
      "  6.05624723e+00 -1.37259281e+00  4.74665928e+00 -7.56438494e-01\n",
      " -2.34025497e+01 -1.38747187e+01 -2.68540955e+01 -1.13215084e+01\n",
      " -1.58811579e+01 -3.85076165e+00  6.20639086e+00 -2.92259860e+00\n",
      " -5.92456388e+00 -4.50332832e+00 -7.58320189e+00 -4.82916927e+00\n",
      "  1.09795058e+00 -9.46545219e+00 -1.31999719e+00 -1.74501629e+01\n",
      " -4.62921572e+00 -9.98155117e-01  2.58994627e+00 -6.11108494e+00\n",
      "  2.73605084e+00  3.16829848e+00  2.82884598e+00 -2.73583484e+00\n",
      "  7.70486832e-01 -3.08735824e+00 -1.41478004e+01 -2.05672474e+01\n",
      " -1.18196745e+01  8.58739436e-01  1.70144105e+00 -3.87765288e+00\n",
      "  1.89758718e+00 -9.73381329e+00 -7.81702995e+00 -3.23739934e+00\n",
      "  1.28898180e+00 -5.71592760e+00 -1.52547956e+00 -8.82468987e+00\n",
      " -4.84249878e+00 -1.38036215e+00 -2.51240897e+00 -1.26681509e+01\n",
      " -1.35723991e+01 -6.40432298e-01  3.08659744e+00 -1.41242838e+01\n",
      " -3.36720753e+00 -4.37565994e+00 -1.29016504e+01 -1.38995481e+00\n",
      " -9.73044515e-01 -1.69796162e+01 -1.98000467e+00  4.94215012e+00\n",
      " -1.75115643e+01  5.64739418e+00 -8.79649830e+00 -1.59531486e+00\n",
      " -2.14863148e+01 -7.79985189e+00 -9.86415958e+00 -7.96376371e+00\n",
      " -9.50899696e+00  3.05568308e-01 -5.05219793e+00 -5.26306105e+00\n",
      " -2.86919761e+00 -1.27616091e+01 -1.65610962e+01 -3.20468187e+00\n",
      "  2.57563138e+00 -1.21375723e+01  6.99587226e-01 -9.98156834e+00\n",
      " -4.84793282e+00 -1.73033543e+01 -1.45012474e+00 -3.51767135e+00\n",
      " -1.16686678e+00  1.02433319e+01  3.05207086e+00  9.58029807e-01\n",
      " -3.97972727e+00 -7.43267107e+00 -9.42308617e+00 -1.64186805e-02\n",
      " -1.78337634e+00  1.38302580e-01  1.23399038e+01 -2.81033611e+00\n",
      "  1.15329123e+00 -2.63301907e+01 -1.79117565e+01 -2.72032833e+00\n",
      " -3.51801068e-01 -4.51280689e+00  3.23245358e+00  1.43559647e+00\n",
      " -1.12312326e+01 -7.82219648e+00  8.34512055e-01 -1.26145279e+00\n",
      " -8.23265553e+00  1.93295021e+01  4.32679653e+00  5.56485295e-01\n",
      "  1.55531204e+00 -1.42007036e+01 -1.98610961e+00 -2.37365007e+00\n",
      "  2.45474100e-01  1.26462340e+00 -1.23845987e+01  6.00610018e-01\n",
      "  3.98792934e+00  1.27115192e+01 -1.98959732e+01 -1.59403448e+01\n",
      "  2.49763870e+00  1.87800395e+00 -8.17279434e+00  6.27777433e+00\n",
      "  3.25844795e-01 -2.09156847e+00 -3.41190886e+00  3.45479012e+00\n",
      " -8.00116825e+00 -2.79845524e+00 -2.14715049e-01  2.43852091e+00\n",
      " -1.73152065e+01 -1.58978977e+01 -4.38791704e+00 -3.46981144e+00\n",
      " -1.17295468e+00  1.91995895e+00  1.51367283e+00  5.42266893e+00\n",
      "  1.55395234e+00 -2.26217861e+01 -8.48281670e+00  1.04615669e+01\n",
      " -3.10654850e+01  3.41722250e+00 -2.22670193e+01 -2.47744703e+00\n",
      " -4.96344852e+00  6.30072880e+00 -2.60583663e+00 -8.36673641e+00\n",
      " -3.36116719e+00 -6.14837527e-01  4.28410435e+00 -1.60490453e+00\n",
      " -4.83668089e+00 -1.65635955e+00 -1.31461453e+00 -1.24856663e+01\n",
      " -2.17379532e+01 -1.18324125e+00 -1.27400923e+01 -2.66093159e+00\n",
      " -8.67539883e+00 -3.12155747e+00  6.21112525e-01 -1.11259222e+00\n",
      "  2.38355470e+00 -1.05907679e+00 -2.26059494e+01 -1.94298279e+00\n",
      " -2.26627083e+01 -8.12874794e+00 -4.80866337e+00 -1.08806431e-01\n",
      "  2.69389987e+00 -5.41028929e+00  4.06635141e+00 -1.68102283e+01\n",
      " -1.47474512e-01 -1.36093512e+01  7.00871110e-01 -1.92367005e+00\n",
      " -1.69681320e+01 -1.81087360e+01 -1.04876876e-01 -6.66663122e+00\n",
      " -6.12096214e+00  7.50187492e+00  2.11551499e+00 -5.23505306e+00\n",
      " -1.32266951e+01 -2.56944160e+01 -2.29343281e+01 -1.40851955e+01\n",
      " -7.54197693e+00  2.30514741e+00  3.19583392e+00  9.63642955e-01\n",
      " -9.07426298e-01 -3.45306129e+01 -9.73076248e+00 -2.06749382e+01\n",
      " -1.13905725e+01 -3.17542477e+01 -3.48083878e+01 -3.02571411e+01\n",
      " -2.67802887e+01 -2.95183487e+01 -2.55241919e+00 -2.08211308e+01\n",
      " -3.60684586e+01 -3.60816288e+00  1.38098831e+01 -1.86028442e+01\n",
      " -7.57763243e+00 -2.27190800e+01 -1.37301378e+01 -4.72281885e+00\n",
      " -2.83495655e+01 -4.01007767e+01 -1.50437903e+00 -3.40321045e+01\n",
      " -2.10130653e+01 -1.44118538e+01  2.61650920e+00  7.03080416e+00\n",
      " -4.42909861e+00 -2.23720479e+00  5.35842037e+00 -8.64314079e+00\n",
      "  1.32550592e+01 -1.94690037e+00 -2.87980747e+00 -3.78536339e+01\n",
      " -2.76127758e+01  5.72616005e+00  2.09466267e+00 -1.52671938e+01\n",
      "  9.61067963e+00 -4.29773712e+00 -1.85655899e+01  1.02985752e+00\n",
      " -5.46204519e+00  5.26669073e+00 -1.93743382e+01 -4.68704376e+01\n",
      "  7.23157835e+00  9.53119946e+00 -1.66469860e+01 -2.21107235e+01\n",
      " -3.19440346e+01 -6.22389603e+00  1.01093521e+01  5.13038731e+00\n",
      " -2.63226223e+01  2.42651577e+01 -5.86718082e-01 -8.43136311e+00\n",
      " -2.18712845e+01  3.42058897e+00  1.92127526e+00 -2.79006958e+01\n",
      " -2.99633865e+01 -4.78059626e+00 -1.60703506e+01  1.59199759e-01\n",
      "  4.57487774e+00  1.73803735e+00 -2.42534018e+00 -2.24429226e+00\n",
      " -2.53528671e+01 -1.18502903e+01 -3.89984441e+00  7.64868593e+00\n",
      " -7.12073755e+00  5.95227098e+00 -3.77553787e+01 -2.38089199e+01\n",
      " -3.48612404e+01 -3.60722947e+00 -5.50444555e+00 -2.50900650e+00\n",
      " -1.30636559e+01  1.05283442e+01 -3.89503860e+00 -2.88344002e+01\n",
      " -1.17371454e+01 -1.16250505e+01 -9.52824879e+00 -1.53743534e+01\n",
      " -8.74471664e+00 -2.84633751e+01  1.52732909e+00 -2.94633341e+00\n",
      " -2.01534863e+01 -1.22790992e+00 -1.89765656e+00  3.31610608e+00\n",
      " -1.47846532e+00 -4.57050753e+00  1.00162516e+01  7.02134323e+00\n",
      " -5.80981970e+00 -6.30570602e+00 -6.22024441e+00 -1.48248682e+01\n",
      " -3.79607697e+01  2.22539878e+00 -2.42859459e+01 -1.54703035e+01\n",
      "  1.87679207e+00  1.42548304e+01 -2.60531788e+01 -1.17752564e+00\n",
      "  1.05037870e+01 -3.63469009e+01 -2.96069946e+01 -6.01425362e+00\n",
      " -2.96827087e+01 -8.66425800e+00  5.09131145e+00  6.09929991e+00\n",
      " -6.74105930e+00 -2.17575893e+01 -2.01329746e+01  1.08787355e+01\n",
      " -7.93369961e+00  6.85999203e+00 -4.00450039e+00  7.67956793e-01\n",
      "  8.29457569e+00 -7.79924107e+00 -1.68203890e+00 -1.48407421e+01\n",
      " -7.89605236e+00 -6.15415955e+00 -3.63939404e+00 -1.15742815e+00\n",
      " -2.97239285e+01  1.01072903e+01 -2.08138714e+01 -2.47612514e+01\n",
      "  3.02960062e+00 -2.03228951e+01]' has dtype incompatible with int64, please explicitly cast to a compatible dtype first.\n",
      "  preds[val_index] = model.predict(dval_i)\n"
     ]
    },
    {
     "name": "stderr",
     "output_type": "stream",
     "text": [
      "\r",
      " 30%|████████████████████████████████████████████▍                                                                                                       | 3/10 [01:34<03:41, 31.69s/it]"
     ]
    },
    {
     "name": "stderr",
     "output_type": "stream",
     "text": [
      "C:\\Users\\81809\\AppData\\Local\\Temp\\ipykernel_9440\\3386215446.py:18: FutureWarning: Setting an item of incompatible dtype is deprecated and will raise an error in a future version of pandas. Value '[-1.45035827e+00 -9.09144497e+00  1.46781206e+01  2.28131542e+01\n",
      "  8.62181473e+00  3.45444107e+00 -2.00305605e+00  6.72816515e-01\n",
      " -4.66417313e+00  1.70488334e+00 -7.02945232e+00 -1.40894949e+00\n",
      "  2.15184631e+01 -2.04566813e+00 -9.63501751e-01  2.42755127e+01\n",
      "  1.23884904e+00  3.63982153e+00 -4.08462143e+00 -1.41235441e-01\n",
      " -4.95494938e+00  5.27236748e+00  8.57943344e+00 -4.02600765e-01\n",
      "  4.36521816e+00  3.57295346e+00 -2.14957118e+00 -5.59498787e+00\n",
      "  2.51711607e+00  1.38412075e+01  8.54282320e-01  4.41979122e+00\n",
      "  7.78923893e+00  1.68153775e+00  8.76769638e+00  2.62758255e+00\n",
      "  5.86362123e+00 -6.80060196e+00  4.38771629e+00  3.41332603e+00\n",
      " -8.34560490e+00 -2.86759686e+00  2.07427096e+00  2.09245758e+01\n",
      "  1.49479952e+01  2.14728546e+00  1.15143657e+00 -9.00224388e-01\n",
      " -2.02742839e+00  9.10390854e+00  4.42409420e+00  2.07876039e+00\n",
      " -2.29790068e+00  4.46726894e+00  1.25183239e+01 -1.90714991e+00\n",
      "  2.49778061e+01  4.07110834e+00 -1.89761603e+00  3.36714178e-01\n",
      "  2.23623037e+00 -7.28136837e-01  2.47842813e+00  2.23806114e+01\n",
      " -2.97431135e+00  8.09080696e+00  5.64557409e+00  8.17649722e-01\n",
      " -1.47743315e-01  4.67211342e+00 -2.48357034e+00  3.53541851e+00\n",
      " -1.01420689e+01  1.88360634e+01  7.63440752e+00  1.20181561e+01\n",
      " -3.83205914e+00  5.45686150e+00  2.05264759e+00 -2.34012485e+00\n",
      "  2.75251427e+01  1.10473700e+01 -9.88910389e+00 -4.23145390e+00\n",
      "  2.39781547e+00  1.65714321e+01 -1.93489385e+00  5.36691046e+00\n",
      "  3.71442914e-01  1.24821520e+01  2.54170084e+00 -3.35654473e+00\n",
      "  2.50687003e+00  2.16060677e+01 -1.48644199e+01 -2.41889715e+00\n",
      "  1.05341578e+01  4.06316900e+00  7.87026739e+00  7.80443859e+00\n",
      " -2.19747424e+00  4.23295259e+00  1.59238472e+01  5.21195364e+00\n",
      "  1.30778670e+00  2.90583396e+00  2.25015869e+01 -1.72759473e+00\n",
      "  1.41568832e+01  1.72790546e+01  6.68828678e+00  6.22004986e+00\n",
      "  9.90303040e+00  8.41950989e+00 -5.06573582e+00  5.73094785e-01\n",
      " -1.77861381e+00 -5.15596104e+00  1.84615302e+00  5.69864893e+00\n",
      "  3.57577157e+00  8.98566914e+00 -1.56412554e+00  1.31882086e+01\n",
      " -2.11482239e+00  5.50525951e+00  8.02974892e+00  1.01887488e+00\n",
      " -4.71440363e+00  9.24927807e+00 -2.84467173e+00  3.71428162e-01\n",
      "  2.25866432e+01  8.58275032e+00  2.37489529e+01  6.68435144e+00\n",
      "  7.76839209e+00  2.64027262e+00  7.82360554e+00 -1.34636879e+00\n",
      "  8.02340698e+00 -2.44108820e+00  2.24060745e+01  3.32321239e+00\n",
      " -1.14850035e+01 -1.55745804e+00  1.17773807e+00 -4.07490778e+00\n",
      "  1.28623009e+01  7.96418619e+00 -1.13859978e+01  5.60923278e-01\n",
      "  9.45768261e+00  4.33088732e+00  5.14942884e+00 -2.60286832e+00\n",
      " -4.96724427e-01 -3.00787121e-01  1.23982143e+01 -5.88251400e+00\n",
      "  5.54795027e+00 -1.52551651e+01 -3.13587427e+00  4.28273827e-01\n",
      "  1.91986046e+01  2.74727416e+00  1.85030830e+00  7.80398703e+00\n",
      "  4.36226320e+00 -6.76271498e-01  1.17231045e+01  4.25934419e-02\n",
      "  2.91187763e+00 -3.05103517e+00  2.63059711e+01 -9.44404125e-01\n",
      "  4.85547274e-01  2.18328190e+01 -3.71829033e+00  6.78954840e+00\n",
      "  4.01264477e+00  1.54902923e+00 -4.91167641e+00 -4.48036766e+00\n",
      "  2.63038802e+00  2.25399437e+01  1.53245173e+01  2.07570648e+00\n",
      "  4.07045221e+00  1.28473635e+01 -1.05461884e+00  1.12391348e+01\n",
      " -1.19422007e+00  4.03905296e+00  4.63743639e+00  2.24929261e+00\n",
      "  4.97440243e+00 -3.48933935e+00  1.16176558e+01  1.32160549e+01\n",
      "  2.85073204e+01 -3.66889262e+00 -1.90036726e+00  2.28629565e+00\n",
      "  8.66109753e+00  1.30829916e+01  3.20201206e+00  6.02031183e+00\n",
      "  1.34537041e+00  2.50181627e+00 -5.25398064e+00  3.15846958e+01\n",
      "  7.36154699e+00  6.94478893e+00  2.86963120e+01 -1.65602136e+00\n",
      "  1.25473750e+00  3.58286781e+01  5.66691065e+00 -1.18521461e+01\n",
      "  2.67801571e+01  9.49995518e+00 -5.28692818e+00 -2.49420834e+00\n",
      " -6.29950047e-01  8.69844818e+00  6.98864269e+00  3.40904007e+01\n",
      "  2.57200375e+01  1.43358660e+01  3.98165298e+00  1.89673214e+01\n",
      "  3.26468811e+01  4.48784351e+00  2.86405048e+01  9.70364285e+00\n",
      "  2.51997681e+01  1.69668636e+01  1.33551388e+01  1.72627525e+01\n",
      "  9.12958813e+00  1.43077588e+00  2.91346779e+01  1.26733446e+01\n",
      "  1.42672739e+01  2.57696571e+01  3.84107041e+00  3.11054840e+01\n",
      "  2.12505364e+00  1.62626305e+01  7.56215572e+00  5.94953775e+00\n",
      "  4.55124283e+00  2.65396857e+00  3.07132778e+01  2.98428650e+01\n",
      " -4.06818008e+00 -1.28767595e+01  2.91436596e+01  3.37200761e+00\n",
      "  1.64027233e+01 -7.57730007e-01  2.79035549e+01  2.41171885e+00\n",
      "  1.61621857e+01  3.50675201e+01  2.89773216e+01  2.34236279e+01\n",
      "  1.13513231e+01 -5.36499882e+00  3.48710394e+00  2.97988892e+01\n",
      "  1.17426291e+01  7.11315584e+00  3.90838385e+00  3.66489372e+01\n",
      "  2.36647701e+01  1.37127554e+00  5.78680086e+00  3.43616562e+01\n",
      "  6.38756084e+00  2.09661884e+01 -1.14465656e+01  9.13735867e+00\n",
      "  1.28907242e+01  1.53105202e+01  3.32229424e+01  3.12003651e+01\n",
      "  6.37518024e+00  2.62682190e+01  2.78862209e+01  2.80707798e+01\n",
      " -3.03955579e+00  1.12568159e+01 -1.78200960e+00 -1.77907920e+00\n",
      " -8.83051968e+00  2.22929516e+01 -1.96063499e+01 -6.68998718e+00\n",
      "  1.38866682e+01 -1.64175844e+00  2.50066090e+00 -2.10685158e+00\n",
      "  5.52999163e+00 -1.14122982e+01  1.43018169e+01  5.61898708e-01\n",
      "  9.01321316e+00  2.68768177e+01  4.18245697e+00  6.35204697e+00\n",
      "  1.59817219e+01 -5.77146816e+00  4.72424030e+00 -3.97624326e+00\n",
      "  7.82974911e+00  2.03861046e+01  1.62350483e+01 -1.18669109e+01\n",
      "  2.70906887e+01  1.50042753e+01  1.02793369e+01 -1.07004128e+01\n",
      "  8.68298626e+00  3.12595329e+01  1.26947594e+00  2.39657478e+01\n",
      "  2.70969748e-01  2.15833244e+01  1.83333359e+01  8.74293518e+00\n",
      "  3.25595808e+00 -2.04358044e+01  8.90291405e+00 -5.79209805e+00\n",
      " -9.02388096e+00 -2.00609818e+01 -9.48916340e+00 -7.29681396e+00\n",
      "  2.81359386e+00 -5.87892246e+00 -5.56950521e+00  5.26001883e+00\n",
      " -7.31384087e+00 -7.24355125e+00 -4.96329308e+00  4.01286125e+00\n",
      " -1.60488963e+00  6.71875179e-02 -5.42045498e+00  6.55097425e-01\n",
      " -2.13558340e+00 -2.14712830e+01 -2.49203930e+01 -1.24532843e+01\n",
      " -2.15670090e+01 -2.12680650e+00 -1.59011352e+00 -2.77822757e+00\n",
      " -5.71490097e+00  2.27141783e-01 -7.92787027e+00 -8.51047039e+00\n",
      " -2.01812687e+01  1.72451770e+00 -7.35942745e+00  1.87756205e+00\n",
      " -7.36594439e+00  1.17451382e+00 -6.32588720e+00 -6.53512669e+00\n",
      "  1.29881001e+00 -1.17893305e+01  6.11488724e+00 -8.48784029e-01\n",
      " -2.19890347e+01 -4.87973356e+00 -5.83052683e+00 -6.14147758e+00\n",
      " -6.39762497e+00 -4.37582159e+00  1.15437925e+00 -4.46541691e+00\n",
      " -3.99932289e+00 -3.30367470e+00 -1.86691208e+01 -2.57364807e+01\n",
      "  7.55059063e-01 -2.58351841e+01 -1.52177553e+01 -7.40345335e+00\n",
      "  8.82209420e-01 -8.18987012e-01 -2.73231053e+00 -8.29378033e+00\n",
      "  1.58850586e+00 -1.50374174e+01  6.47056770e+00  6.60850048e+00\n",
      "  3.39465213e+00 -4.49619913e+00 -2.00190868e+01 -9.16754055e+00\n",
      " -5.88945508e-01 -4.17826843e+00 -1.39427624e+01  2.35787010e+00\n",
      " -2.24830589e+01 -9.37358761e+00 -2.08418903e+01 -2.05970359e+00\n",
      " -1.80580406e+01  2.61282039e+00  2.38902020e+00 -1.11063805e+01\n",
      " -1.34729970e+00 -4.77197981e+00 -1.13976831e+01 -5.84247684e+00\n",
      " -1.33381433e+01 -1.75795860e+01 -1.53584766e+01 -2.71454449e+01\n",
      " -9.47807693e+00 -1.83333054e+01  1.92963088e+00 -5.49566329e-01\n",
      "  2.00463915e+00 -2.07483602e+00  1.08552008e+01 -4.28487873e+00\n",
      " -6.89684093e-01  7.49010146e-01  3.28372788e+00  2.04608393e+00\n",
      " -2.42352448e+01  2.95529675e+00 -3.43032336e+00 -1.82348108e+00\n",
      " -6.19192481e-01 -7.52087593e+00  5.27311707e+00  3.13273931e+00\n",
      " -1.27813375e+00  8.44314516e-01 -1.89354610e+00 -1.51947308e+01\n",
      " -2.39407139e+01  4.38650036e+00 -9.39241505e+00  1.09191537e+00\n",
      " -8.58263302e+00 -1.82101488e+00 -8.23138142e+00 -5.52819538e+00\n",
      " -1.00805104e+00 -8.55266476e+00 -4.97624397e+00 -8.02671051e+00\n",
      " -2.56626296e+00 -1.13772917e+01 -4.14115953e+00  2.35871100e+00\n",
      "  1.53038239e+00  1.30713129e+01 -1.99176102e+01  7.79254961e+00\n",
      " -3.50970364e+00 -6.31944704e+00  1.04644012e+00 -5.22183275e+00\n",
      " -2.16208792e+00 -2.81354594e+00  3.01063943e+00 -1.34410601e+01\n",
      "  2.44515672e-01 -1.14785528e+00 -9.79277992e+00 -3.85716462e+00\n",
      " -4.26677942e+00 -1.26569233e+01  6.36958504e+00 -4.31518459e+00\n",
      " -3.93945193e+00  4.18872213e+00  3.04366493e+00 -1.72536039e+00\n",
      " -8.70836544e+00 -3.48778009e-01  6.00844574e+00 -3.55229712e+00\n",
      " -2.02373333e+01 -4.81500244e+00 -1.89801216e+01  1.10859070e+01\n",
      "  6.98652649e+00  2.07278204e+00 -1.38410842e+00 -3.79929614e+00\n",
      " -1.55685635e+01 -2.23227139e+01 -1.27096820e+00 -3.80056310e+00\n",
      " -4.78382826e+00 -6.22971010e+00 -3.31739116e+00 -2.86047339e+00\n",
      " -4.82811880e+00 -1.24157488e+00 -5.71996331e-01 -2.73682652e+01\n",
      " -6.01344156e+00 -2.27417660e+01 -6.71957207e+00 -9.95641899e+00\n",
      " -2.18431511e+01 -2.27731838e+01 -1.49937594e+00  6.80195153e-01\n",
      " -1.55709152e+01 -8.24099445e+00 -4.23925352e+00 -5.26360512e+00\n",
      "  3.44474292e+00 -1.78093376e+01 -4.18142605e+00 -1.44317520e+00\n",
      "  3.03851652e+00 -1.73504317e+00 -9.61878300e+00 -1.52446451e+01\n",
      "  4.82270956e+00 -6.99025440e+00 -1.21049893e+00 -1.70630410e-01\n",
      " -2.89330935e+00  4.87343931e+00  5.55711842e+00  1.51270628e+00\n",
      "  2.53367448e+00  2.16609955e+00 -4.20994520e+00 -3.53276491e+00\n",
      " -6.17735815e+00 -8.98147678e+00 -2.62582951e+01  3.02964067e+00\n",
      "  3.57828069e+00 -1.65055656e+01  7.72512627e+00 -2.13159122e+01\n",
      " -1.36988726e+01 -2.12157583e+00 -5.74759436e+00 -1.08958101e+00\n",
      " -1.25441694e+01 -1.87448597e+01 -1.89143336e+00 -8.65057468e+00\n",
      " -4.66966343e+00 -4.34804726e+01  1.25952959e+00  5.71783209e+00\n",
      " -1.94249001e+01  2.91066027e+00 -3.50980606e+01 -2.75183582e+00\n",
      "  1.31316042e+01 -1.08383217e+01 -1.09115429e+01  9.45012760e+00\n",
      " -9.93613052e+00 -2.78282318e+01  1.45812738e+00 -1.21315393e+01\n",
      "  1.05981135e+00 -2.55635262e+01 -6.37036467e+00  1.33118403e+00\n",
      " -1.73347187e+01 -2.45674000e+01  1.01617851e+01  6.58555317e+00\n",
      " -1.76752777e+01  4.29758644e+00  1.12603703e+01 -5.50889015e+00\n",
      " -3.92423706e+01 -2.71073008e+00 -2.31245708e+01 -1.23743019e+01\n",
      " -2.70318718e+01 -3.33325424e+01 -2.73915825e+01 -1.16059494e+01\n",
      "  2.94089764e-01 -2.41816025e+01 -3.21605606e+01  1.59750919e+01\n",
      " -2.19366207e+01 -4.44668627e+00 -2.17749748e+01 -4.57957306e+01\n",
      " -5.17761767e-01 -8.82585526e+00 -9.61721992e+00 -3.52546234e+01\n",
      "  9.07220268e+00 -4.81587982e+00 -2.74969082e+01 -2.50382919e+01\n",
      " -1.67238483e+01  2.46906700e+01 -1.95049036e+00  2.36899686e+00\n",
      " -1.50321236e+01 -3.43440285e+01 -2.43753099e+00 -4.46714439e+01\n",
      " -4.58594465e+00  3.83681178e+00  6.33969688e+00 -3.27116356e+01\n",
      " -9.62020302e+00 -1.22303414e+00 -3.54606628e+01 -1.51778278e+01\n",
      " -1.20693197e+01 -8.01588249e+00  3.29341197e+00 -4.31455650e+01\n",
      "  6.81866944e-01  1.22453699e+01 -7.78325891e+00  5.95118225e-01\n",
      "  4.33262527e-01 -1.60618896e+01  8.19436741e+00 -1.35102091e+01\n",
      " -2.81882000e+01 -9.47052670e+00 -1.94175968e+01 -3.79023857e+01\n",
      " -1.69174051e+00 -1.23117371e+01 -2.15625715e+00 -1.96519089e+01\n",
      " -3.28685760e+01 -2.20553703e+01  7.62674046e+00 -1.33948908e+01\n",
      "  6.35619462e-01 -1.83278446e+01 -2.04193077e+01 -2.66659889e+01\n",
      " -3.14075780e+00 -2.75654812e+01 -3.39908409e+00  1.40988469e+00\n",
      " -9.96434307e+00  8.76487195e-01 -1.92851105e+01 -6.37051535e+00\n",
      " -1.87051201e+01 -3.00586071e+01  1.40429230e+01 -7.74793530e+00\n",
      " -1.40826607e+00 -2.05697846e+00  1.12703729e+00  8.39472055e-01\n",
      "  1.99368370e+00 -7.20044279e+00 -2.97324238e+01 -7.45847273e+00\n",
      " -5.32259035e+00 -2.26353683e+01 -3.78274117e+01 -4.02262390e-01\n",
      "  1.19322691e+01 -1.49643993e+01  9.89483643e+00 -5.72676182e+00\n",
      "  6.84887552e+00 -5.24205542e+00 -1.76115513e+00 -1.05083752e+01\n",
      " -3.12428713e+00 -1.43014851e+01  2.75723982e+00 -2.19227715e+01\n",
      "  4.20399570e+00 -2.06225663e-01 -2.47882061e+01 -2.43979969e+01\n",
      " -2.14713306e+01  3.63728142e+00]' has dtype incompatible with int64, please explicitly cast to a compatible dtype first.\n",
      "  preds[val_index] = model.predict(dval_i)\n"
     ]
    },
    {
     "name": "stderr",
     "output_type": "stream",
     "text": [
      "\r",
      " 40%|███████████████████████████████████████████████████████████▏                                                                                        | 4/10 [02:02<03:01, 30.23s/it]"
     ]
    },
    {
     "name": "stderr",
     "output_type": "stream",
     "text": [
      "C:\\Users\\81809\\AppData\\Local\\Temp\\ipykernel_9440\\3386215446.py:18: FutureWarning: Setting an item of incompatible dtype is deprecated and will raise an error in a future version of pandas. Value '[-4.58920193e+00  2.13866653e+01  1.83870697e+01  1.01196404e+01\n",
      "  7.05254173e+00  6.00829220e+00 -2.84822059e+00 -2.37469816e+00\n",
      "  1.48416567e+00  2.67993755e+01 -8.14307153e-01  3.46668816e+00\n",
      "  1.26182747e+01  1.62568605e+00  2.04881935e+01  8.98396873e+00\n",
      "  3.71787834e+00  8.00347686e-01 -3.74899767e-02  7.23912811e+00\n",
      " -3.54157686e+00  5.69623804e+00  2.42089939e+00  3.13752127e+00\n",
      " -1.23405576e+00  1.74581051e+01 -1.94837523e+00  5.06845236e+00\n",
      " -7.50650167e+00  3.65069175e+00  1.33037167e+01  4.80567122e+00\n",
      " -6.39615822e+00  2.81618762e+00 -2.65646291e+00  3.32215357e+00\n",
      "  7.84726048e+00  9.73678589e+00 -4.25530767e+00 -8.50601292e+00\n",
      " -7.61804223e-01  6.40142965e+00  1.57669535e+01  7.11585665e+00\n",
      "  6.72237253e+00  7.74887753e+00 -6.73085976e+00 -2.25635529e+00\n",
      "  4.45639372e+00 -1.04662542e+01 -1.12963116e+00  6.24273157e+00\n",
      "  2.29193497e+01  2.53220215e+01  5.59668875e+00  6.86228609e+00\n",
      "  2.20692396e+00  3.77146864e+00 -9.56769526e-01  5.59804058e+00\n",
      "  7.70746708e+00 -5.84763587e-01  1.22384691e+00  2.82453322e+00\n",
      "  1.90817761e+00 -1.33944285e+00  2.13377261e+00 -1.87621009e+00\n",
      "  6.47174644e+00  1.13184869e+00  2.70326824e+01  8.18722534e+00\n",
      " -1.37952125e+00  5.60093498e+00 -6.81494808e+00 -8.54896680e-02\n",
      "  9.74210262e+00  7.09458947e-01  1.35454826e+01  1.97529685e+00\n",
      "  1.15446548e+01  1.63249683e+00  2.38033199e+01  1.21739082e+01\n",
      " -5.71974373e+00  1.73647842e+01 -7.48621941e-01  1.15214806e+01\n",
      "  6.91381168e+00  2.78239775e+00  1.33856344e+01 -2.85767531e+00\n",
      "  4.75317097e+00 -1.10140336e+00 -1.09997141e+00 -2.64360905e+00\n",
      "  2.12133579e+01  1.00713229e+00 -9.62481403e+00  1.28139486e+01\n",
      " -1.89624846e-01  2.42461252e+00  4.14851236e+00 -9.49071884e+00\n",
      " -2.63147855e+00  4.83287191e+00  1.89385402e+00  4.16012764e+00\n",
      "  1.12063658e+00 -2.44545126e+00  7.26797533e+00  2.51382875e+00\n",
      "  4.21473694e+00  4.15311843e-01  6.70550013e+00  1.53395386e+01\n",
      "  2.46564026e+01  4.77877617e+00 -1.87405167e+01 -1.02908802e+00\n",
      "  3.05186033e+00  1.76646173e+00  8.65811253e+00  1.31285965e+00\n",
      "  5.29101896e+00  1.12544279e+01 -1.84802294e+00  1.77431107e+01\n",
      "  2.37094059e+01 -3.49741912e+00 -1.87553719e-01  1.76183319e+00\n",
      "  7.92949009e+00  1.55867119e+01 -2.66359329e+00  4.22366142e+00\n",
      "  1.85100281e+00  1.05899394e+00  7.24071455e+00  2.13891125e+01\n",
      "  3.50178385e+00  9.85443687e+00  1.10238781e+01  3.56333327e+00\n",
      "  1.12166605e+01 -1.05425510e+01 -9.14307213e+00  6.94101477e+00\n",
      "  7.12954223e-01 -1.31499338e+00  3.11723161e+00 -3.81516218e+00\n",
      " -1.72911477e+00  4.02781010e+00 -1.06056852e+01  3.19198966e-02\n",
      "  1.07708397e+01 -7.59917617e-01  6.62985373e+00  5.05087519e+00\n",
      "  1.81264007e+00 -5.64418650e+00  1.72857273e+00  7.72974348e+00\n",
      " -1.22436595e+00  3.05644035e+00 -3.42393684e+00  4.83742142e+00\n",
      "  4.46771860e+00  2.43001194e+01 -6.03708625e-01  1.06061535e+01\n",
      " -4.95154953e+00 -1.13050470e+01 -5.01376152e+00  2.20026064e+00\n",
      "  1.17763271e+01  4.24045372e+00  5.81208801e+00  4.87931061e+00\n",
      " -3.02306247e+00 -2.30081654e+00  2.15966721e+01  1.02915163e+01\n",
      "  2.37831650e+01  4.70651674e+00  2.17732176e-01  9.13961124e+00\n",
      " -7.55908728e+00  1.60602248e+00  3.19173431e+00  4.91890860e+00\n",
      " -2.19309926e-01 -5.23749781e+00  3.49911666e+00  8.12728977e+00\n",
      " -3.32163143e+00  1.72672057e+00  1.18067245e+01 -1.53646302e+00\n",
      "  2.22045212e+01  4.98427629e+00  6.26534891e+00  3.37321234e+00\n",
      " -7.10117197e+00 -7.21302843e+00 -1.51363540e+00  8.35675907e+00\n",
      "  5.71980047e+00  3.34675264e+00  4.07035065e+00  2.67506962e+01\n",
      "  1.14163656e+01 -1.44570363e+00  6.69222832e+00  1.06598210e+00\n",
      "  1.40812433e+00  4.08072978e-01 -7.10749722e+00  9.57383156e-01\n",
      " -2.35193992e+00  1.40682995e+00  1.66507387e+00  2.42059159e+00\n",
      "  7.06246281e+00  2.39685631e+00  4.10971928e+00  5.12589455e+00\n",
      "  2.16824741e+01  1.23643513e+01  5.15557957e+00 -2.62367272e+00\n",
      "  2.80331707e+01  8.53021812e+00 -4.68054152e+00 -1.44701529e+00\n",
      "  9.01544189e+00  1.40122557e+01  5.48170185e+00  2.76793690e+01\n",
      "  2.56617241e+01  3.67220612e+01  1.67535090e+00  1.68235168e+01\n",
      "  2.03409309e+01  2.60373459e+01 -1.79788709e+00  2.67856503e+01\n",
      " -7.08874702e+00 -5.68114519e+00  6.75279665e+00  2.12462311e+01\n",
      "  2.47081509e+01  2.50350838e+01  1.10744638e+01  1.56440039e+01\n",
      "  4.03311014e+00 -1.67609348e+01  1.01169264e+00  7.84207773e+00\n",
      "  1.28023272e+01  1.38931198e+01  6.67360735e+00 -5.29882097e+00\n",
      "  2.08151550e+01  1.52952061e+01  7.43537283e+00  4.20931864e+00\n",
      "  1.44449224e+01  2.26957393e+00  1.08241100e+01  4.90435696e+00\n",
      "  3.30258408e+01  5.44544220e+00  4.82215929e+00 -6.41676235e+00\n",
      "  1.49620161e+01 -2.68367596e+01  6.53200960e+00 -2.03999257e+00\n",
      "  8.43127632e+00  2.84620190e+01  7.33122158e+00  1.09599218e+01\n",
      "  2.86546402e+01  2.95700359e+00  2.74947605e+01  1.89375172e+01\n",
      "  5.99029362e-01  3.02923145e+01  9.15989131e-02  1.43249760e+01\n",
      "  3.32047653e+01  1.11678171e+01 -7.02610064e+00  1.10275679e+01\n",
      "  7.35081339e+00 -7.31299686e+00  2.66726837e+01  1.30546694e+01\n",
      "  3.69523582e+01  4.75465775e+00  6.78969955e+00  3.63117180e+01\n",
      "  1.06333828e+00  2.28561287e+01  3.90767717e+00  3.38000412e+01\n",
      "  3.16650486e+00  1.35911741e+01 -1.69171202e+00  3.49651070e+01\n",
      "  1.41929054e+01  3.33781052e+01  7.10184479e+00  2.38901377e+00\n",
      " -4.69142675e+00 -7.11290312e+00  9.76845455e+00 -8.77598953e+00\n",
      "  6.06546926e+00  3.85824547e+01 -7.72273111e+00  2.37332230e+01\n",
      "  2.31841922e-01  6.52189779e+00  5.94062185e+00  3.98963852e+01\n",
      "  9.85211563e+00  1.55159769e+01  5.75746679e+00 -4.15603209e+00\n",
      "  4.06350250e+01 -1.01780853e+01  8.64558220e+00  6.61269379e+00\n",
      "  2.62521992e+01  2.37779446e+01  1.28180904e+01 -9.55363369e+00\n",
      " -4.95255995e+00  1.25920391e+01  1.26203194e+01  8.18038464e+00\n",
      "  3.31956329e+01  1.84229507e+01  6.20856810e+00  2.96764145e+01\n",
      "  7.01907301e+00  4.33305597e+00 -6.50223827e+00 -2.19754919e-01\n",
      " -6.41838121e+00 -1.71695461e+01 -2.29523735e+01 -3.37874794e+00\n",
      "  4.09871876e-01  2.78737068e+00  4.02047968e+00  2.56566525e+00\n",
      " -7.24347353e-01 -5.40717649e+00  1.05676115e+00  2.31850076e+00\n",
      " -2.93688250e+00 -4.55901289e+00 -1.22931881e+01 -1.87222862e+00\n",
      " -3.12995076e+00 -6.36790562e+00 -3.55763745e+00 -2.50989456e+01\n",
      " -2.08093376e+01 -2.80477295e+01 -2.07140875e+00 -8.13283062e+00\n",
      " -3.05832672e+00 -6.55118990e+00  1.04869413e+00 -5.06411695e+00\n",
      " -1.75826187e+01 -4.41490316e+00  2.67804623e+00 -2.03469143e+01\n",
      " -9.03677654e+00 -2.57928777e+00  1.66666877e+00  2.21416736e+00\n",
      "  1.16265802e+01 -1.66827545e+01 -6.82325268e+00  2.57449436e+00\n",
      " -6.17668390e+00 -8.94614220e+00 -5.76928329e+00 -2.95680451e+00\n",
      " -3.51183081e+00  1.59437966e+00  1.10097957e+00  2.72617608e-01\n",
      " -2.54785805e+01 -2.15240154e+01 -1.12557507e+01 -1.02143550e+00\n",
      " -2.33648624e+01 -4.85134274e-01 -7.33675671e+00 -4.10565233e+00\n",
      " -3.89441681e+00  3.82447600e+00  2.48167324e+00 -2.42108464e+00\n",
      "  1.28867865e+00 -2.45145202e+00 -1.58862817e+00  2.51604676e+00\n",
      " -6.23058367e+00 -1.48836784e+01  6.36384344e+00 -1.61672974e+01\n",
      " -6.70234203e+00 -2.88674307e+00  1.15368605e+00 -9.11742401e+00\n",
      " -3.88919902e+00 -1.49001789e+00 -1.88588734e+01 -3.36663985e+00\n",
      " -9.22724628e+00 -1.03602762e+01 -3.74970496e-01 -9.02440071e+00\n",
      " -6.84939528e+00 -5.27826548e+00 -1.42877543e+00 -4.62901878e+00\n",
      "  2.94513762e-01 -2.43053894e+01  1.57787275e+01  3.28775668e+00\n",
      " -2.92857246e+01 -1.28785467e+01 -3.97136617e+00 -9.07221985e+00\n",
      "  4.50691700e+00  2.85234475e+00 -3.16553092e+00  1.19773746e+00\n",
      "  1.58042860e+00 -3.34646320e+00 -2.51416898e+00 -2.16859550e+01\n",
      "  1.83855712e+00 -1.63133907e+00 -4.46523428e+00 -4.02258301e+00\n",
      " -7.33250713e+00  6.92202759e+00  3.15000725e+00 -1.12006207e+01\n",
      "  5.44239616e+00 -7.06152010e+00 -8.08382511e+00 -1.79046383e+01\n",
      " -2.07409935e+01  5.29480028e+00 -1.62712589e-01 -1.09497910e+01\n",
      "  5.54507196e-01  2.79209502e-02  4.16073656e+00 -3.11003895e+01\n",
      " -9.09045506e+00  1.74304175e+00 -4.65014791e+00 -6.19011819e-02\n",
      " -1.71421604e+01  5.60815334e+00 -5.10678625e+00  6.40051544e-01\n",
      "  3.22118139e+00 -2.51183891e+00  1.78128779e+00 -2.59810877e+00\n",
      " -1.46412539e+00 -2.08366375e+01  5.77481461e+00 -1.28163748e+01\n",
      " -1.04807281e+01 -4.91953611e+00 -1.96906033e+01 -1.54896526e+01\n",
      " -1.22868669e+00 -1.11787024e+01 -5.19447327e-01 -4.17965603e+00\n",
      " -7.10660458e+00 -4.18580103e+00 -2.15501094e+00  4.28164864e+00\n",
      "  3.50112391e+00 -4.93642569e+00 -4.32322502e+00  1.13834677e+01\n",
      "  1.47980938e+01  4.35213566e+00 -1.25899410e+01 -1.93603878e+01\n",
      " -4.93787718e+00 -3.96553349e+00 -2.35320807e+00 -2.74063039e+00\n",
      " -1.18047476e+00  7.08669484e-01 -6.70641518e+00  3.60358357e+00\n",
      " -4.94284868e+00  1.55776281e+01 -2.82768488e+00 -3.41762209e+00\n",
      " -4.62537670e+00 -2.73631525e+00 -3.01267815e+00  3.21009207e+00\n",
      " -9.31548500e+00 -1.13247585e+01  3.40089113e-01 -2.57803774e+00\n",
      "  4.20059061e+00 -2.05033932e+01 -5.23871231e+00 -3.19120240e+00\n",
      " -1.37078762e+01 -7.85943317e+00  3.09243530e-01 -2.19702606e+01\n",
      "  2.30958414e+00 -1.35944214e+01 -5.93992376e+00 -7.05536366e+00\n",
      " -5.39695597e+00 -4.60294867e+00 -3.16112685e+00 -2.57469444e+01\n",
      "  4.15001297e+00 -2.03627930e+01  1.64491701e+00  1.25973606e+01\n",
      " -6.08645582e+00 -5.33132553e+00  4.08889961e+00  3.47035795e-01\n",
      "  2.45445490e+00 -4.72822046e+00  2.77250576e+00 -2.84083009e-01\n",
      " -7.26084805e+00 -7.05613613e-01 -8.17966938e+00 -2.85889015e+01\n",
      " -2.61416125e+00 -1.15569487e+01  3.51368785e+00 -6.27986622e+00\n",
      " -2.97201004e+01 -1.10153217e+01 -7.73406601e+00 -1.24563723e+01\n",
      " -1.38513155e+01 -8.33221149e+00 -1.91378689e+01 -1.22205639e+01\n",
      "  4.55055046e+00 -3.87385979e+01  1.48843482e-01  1.28560658e+01\n",
      "  2.72437644e+00 -2.51090546e+01 -6.05972576e+00 -6.69129038e+00\n",
      " -3.84702492e+01 -4.05551262e+01 -7.00928307e+00 -4.43241978e+00\n",
      "  3.63741970e+00 -2.85829639e+01 -1.53923578e+01  5.11595964e+00\n",
      "  3.19368863e+00 -4.32470360e+01  3.17611814e-01 -1.95448761e+01\n",
      " -2.52644291e+01 -1.06819677e+01 -3.32181025e+00 -3.08280677e-01\n",
      " -4.51378393e+00 -1.47053490e+01 -1.85534344e+01 -1.32437868e+01\n",
      " -1.47450256e+01  1.37926424e+00 -1.27029982e+01 -6.49826384e+00\n",
      " -2.75283360e+00 -1.35959396e+01 -3.85881752e-01 -3.49687271e+01\n",
      " -1.36213694e+01 -4.78972340e+00 -2.93609543e+01 -2.21235704e+00\n",
      " -1.87761247e+00 -1.50575581e+01 -1.22171650e+01 -1.00127316e+00\n",
      " -4.83464088e+01  7.79258108e+00 -3.69911766e+00 -1.23945780e+01\n",
      "  4.62510252e+00 -1.50152826e+01  5.16234636e+00  1.03320332e+01\n",
      " -1.23112144e+01 -2.73549080e+00 -2.65115047e+00 -3.74514580e+01\n",
      "  6.61020517e+00 -2.70828247e+01 -4.78439140e+00 -5.34206104e+00\n",
      " -2.03607578e+01 -3.58913383e+01 -4.63753395e+01 -3.77021866e+01\n",
      "  4.18578833e-01  1.25584898e+01 -7.26320028e+00 -4.25102091e+00\n",
      " -5.45749855e+00  1.12981451e+00 -1.17094469e+01 -2.30592108e+00\n",
      "  8.42955112e+00 -7.75546360e+00 -2.85939350e+01 -3.43738022e+01\n",
      " -2.68848381e+01 -6.97552776e+00  2.82620525e+00  2.02377129e+00\n",
      " -1.93262291e+01  1.69811153e+00 -2.24616957e+00 -3.12250309e+01\n",
      " -2.07372112e+01  1.05518122e+01 -2.05381565e+01 -9.08128929e+00\n",
      " -1.14471302e+01  9.58643436e+00 -1.99026299e+01 -2.18789463e+01\n",
      "  1.38057911e+00 -2.42951221e+01 -1.44358768e+01 -5.03088117e-01\n",
      " -2.89193497e+01 -2.05657768e+01 -7.81862926e+00  9.11668777e+00\n",
      " -4.59164667e+00  1.88485742e+00 -1.63960323e+01 -1.27636213e+01\n",
      " -3.75375676e+00 -2.48849297e+01  5.64804459e+00 -1.42701168e+01\n",
      " -1.03954086e+01 -1.82062302e+01  7.99919415e+00  3.97952318e+00\n",
      " -3.07482300e+01 -1.66353016e+01 -7.13860083e+00 -8.33309555e+00\n",
      " -1.96440601e+01 -2.40512409e+01 -1.79334526e+01  8.51449299e+00\n",
      " -2.84384441e+01 -2.66027584e+01 -1.14715302e+00 -2.37940407e+00\n",
      " -9.00835609e+00 -7.40646124e+00]' has dtype incompatible with int64, please explicitly cast to a compatible dtype first.\n",
      "  preds[val_index] = model.predict(dval_i)\n"
     ]
    },
    {
     "name": "stderr",
     "output_type": "stream",
     "text": [
      "\r",
      " 50%|██████████████████████████████████████████████████████████████████████████                                                                          | 5/10 [02:33<02:31, 30.22s/it]"
     ]
    },
    {
     "name": "stderr",
     "output_type": "stream",
     "text": [
      "C:\\Users\\81809\\AppData\\Local\\Temp\\ipykernel_9440\\3386215446.py:18: FutureWarning: Setting an item of incompatible dtype is deprecated and will raise an error in a future version of pandas. Value '[ 1.52414247e-01  1.46005130e+00  1.65391369e+01  1.63766403e+01\n",
      "  2.82234025e+00 -1.62301445e+00  2.46548557e+01  1.85237515e+00\n",
      "  2.45879040e+01  3.35314941e+00  4.70791435e+00  2.19593792e+01\n",
      "  5.33702612e+00  9.08354521e-01 -9.45655918e+00  6.03911829e+00\n",
      "  6.43974125e-01  2.56407648e-01 -3.85936022e+00 -3.13005805e+00\n",
      "  2.84402680e+00  2.51782360e+01  2.84181118e+01  1.39773769e+01\n",
      "  8.45950222e+00  3.28179193e+00 -2.37522316e+00  7.14674950e+00\n",
      "  4.89292860e+00 -9.86036062e-01 -1.40797031e+00  4.67403603e+00\n",
      "  2.52591658e+00  4.75921011e+00  1.41036310e+01  1.03080750e+00\n",
      "  1.89106884e+01  5.75698137e+00  1.90187645e+00 -4.47488159e-01\n",
      "  7.89678860e+00 -5.59529591e+00 -1.10088387e+01  1.61566830e+01\n",
      "  6.21660614e+00  6.57474232e+00  1.18469858e+00  5.26841116e+00\n",
      " -1.54413557e+00 -3.22315359e+00  8.08544540e+00  1.40559788e+01\n",
      "  3.59791040e+00  1.63642788e+01 -5.72266400e-01  6.42889595e+00\n",
      "  2.64738011e+00  3.26760340e+00  5.39285660e+00  7.01032543e+00\n",
      "  5.12414742e+00 -6.33639276e-01  1.02075090e+01 -9.36315298e-01\n",
      " -8.99053812e-01  1.70780430e+01  7.50318193e+00  1.11357756e+01\n",
      "  3.45195127e+00 -8.70185947e+00  1.16009245e+01  1.05207663e+01\n",
      "  4.31321478e+00  1.50315356e+00  4.07861090e+00  2.47003593e+01\n",
      "  8.44148636e+00  2.34588737e+01 -7.67058849e-01  7.82897329e+00\n",
      "  8.19860077e+00  2.52445161e-01  3.85459995e+00  6.40175819e+00\n",
      "  1.27094936e+01  3.87974119e+00 -1.98613381e+00  4.45414114e+00\n",
      "  1.82244091e+01 -3.56111717e+00 -3.63997555e+00 -2.46190858e+00\n",
      "  2.70243092e+01 -1.20087349e+00  1.89986286e+01  7.29495585e-01\n",
      "  3.48811269e+00  2.32448840e+00  1.64546795e+01 -2.87690091e+00\n",
      "  8.17558575e+00  1.76429462e+01 -4.50833130e+00  1.11437483e+01\n",
      "  1.13421574e+01 -6.94080591e+00 -5.45447969e+00  7.52851200e+00\n",
      " -1.66587162e+01 -1.85712254e+00 -3.12147856e+00  2.90411587e+01\n",
      "  1.65991898e+01  4.33073473e+00  1.08182707e+01  9.01384354e+00\n",
      "  1.85205193e+01  1.07177234e+00  9.75857830e+00  5.71871567e+00\n",
      " -5.59526861e-01  6.91016579e+00 -1.20803607e+00  3.00385118e+00\n",
      "  3.98494244e+00  3.21041656e+00 -1.76235840e-01  2.91978931e+01\n",
      "  1.66667824e+01 -1.34572115e+01 -7.23587084e+00  1.71084461e+01\n",
      " -1.04243374e+00  4.19553471e+00  1.03112018e+00  5.74757433e+00\n",
      " -2.53422308e+00  1.52854090e+01  1.20862293e+01 -6.44166350e-01\n",
      " -5.57788801e+00  1.87439117e+01  1.57652388e+01  2.35463886e+01\n",
      "  3.18719411e+00  1.21911650e+01  5.98148155e+00 -3.75704432e+00\n",
      "  5.30788326e+00  6.18185711e+00 -3.89737153e+00  5.63670206e+00\n",
      "  2.84637332e+00  7.18146801e-01  2.41733510e-02  1.54130468e+01\n",
      " -1.60608978e+01  3.54833627e+00  3.95202637e+00  6.16071796e+00\n",
      "  1.06951916e+00  1.15384302e+01  3.73251677e+00  6.75755739e+00\n",
      "  2.45461369e+00 -3.25727344e+00  2.05864644e+00 -1.78383708e-01\n",
      " -1.44697917e+00  4.76715517e+00  5.10679674e+00  9.46992207e+00\n",
      " -4.38882494e+00  4.53701448e+00  1.73110123e+01  5.94746923e+00\n",
      "  1.10711927e+01  8.04284573e+00  2.48143215e+01  2.29312382e+01\n",
      "  2.07633743e+01  2.47872429e+01  1.32200308e+01  5.13142920e+00\n",
      " -2.98191845e-01  5.48476648e+00  4.87722349e+00  3.74471784e+00\n",
      "  3.73454905e+00  9.67989445e+00  3.44024467e+00  9.74669647e+00\n",
      "  2.33755417e+01  7.19744778e+00  2.33113337e+00 -1.19326437e+00\n",
      "  5.29877996e+00  2.47184539e+00 -2.64538121e+00  2.61711526e+00\n",
      " -1.92947641e-01  4.96573305e+00  2.84748440e+01  8.52595329e+00\n",
      "  1.14454765e+01  2.08200035e+01 -1.80257893e+00  1.18256130e+01\n",
      "  9.58476543e-01  7.05806541e+00 -7.54997301e+00 -4.06208801e+00\n",
      "  2.66282921e+01  2.32673779e+01  7.06667089e+00  1.14753904e+01\n",
      "  1.75681722e+00  9.79018688e+00  1.18653126e+01 -1.31268120e+00\n",
      " -4.40035105e+00  4.96877575e+00 -3.81241053e-01  2.69502425e+00\n",
      " -1.32190883e+00 -3.20754576e+00  1.74214804e+00  4.82697105e+00\n",
      " -4.38398331e-01  1.45299745e+00  3.41222267e+01  3.65343809e+00\n",
      " -6.12006474e+00  1.81858234e+01  2.48431778e+01  2.21884212e+01\n",
      "  6.22271395e+00  3.43477364e+01  2.73184242e+01  3.49113770e+01\n",
      "  1.73547173e+01  2.11297359e+01 -5.86899519e+00  1.10536706e+00\n",
      "  1.35364876e+01  8.44611263e+00 -1.30186307e+00  8.72228813e+00\n",
      "  2.48106155e+01  3.60514793e+01  3.24842377e+01  1.11135435e+01\n",
      "  1.59049759e+01  3.03131294e+00  1.10516107e+00  1.57571402e+01\n",
      " -1.74512124e+00  1.58403730e+01  8.46076202e+00 -5.02295923e+00\n",
      "  2.28725986e+01  1.76742477e+01  4.00392075e+01 -1.44617558e+00\n",
      " -3.26438260e+00  4.33563900e+00 -2.61805439e+00 -5.52928877e+00\n",
      "  2.96750998e+00 -8.21446705e+00  1.16927347e+01  2.30351849e+01\n",
      "  2.78796673e+01 -3.65826344e+00  3.47576451e+00  1.47836323e+01\n",
      "  2.70792341e+00  7.48578644e+00  3.62392497e+00  8.16581631e+00\n",
      "  1.03556995e+01  1.28751287e+01  2.19892330e+01  1.44379091e+00\n",
      "  4.26801147e+01 -7.84906685e-01  3.01329064e+00  2.35678220e+00\n",
      "  1.46115685e+01  9.37595367e+00  2.67569351e+00  5.52438593e+00\n",
      "  4.72818108e+01 -1.80811441e+00  1.90623989e+01  3.10947323e+01\n",
      "  1.31870139e+00 -4.96731520e+00  1.22951660e+01  2.01212902e+01\n",
      "  4.71502399e+00  6.74041653e+00  4.70270920e+00  2.72908325e+01\n",
      " -2.03454757e+00 -5.11229075e-02 -8.39540386e+00  1.44897490e+01\n",
      "  6.96712589e+00  1.43706119e+00  9.62348080e+00  2.92795906e+01\n",
      "  2.54611802e+00  7.72166872e+00 -8.05975246e+00  2.77651215e+01\n",
      " -7.63564539e+00 -8.56964767e-01  1.61626720e+01  1.32597675e+01\n",
      " -7.29137802e+00  9.83747196e+00  3.07227039e+01  4.02248154e+01\n",
      "  3.09365768e+01  2.37342215e+00  1.72755489e+01  4.04204407e+01\n",
      "  8.34441471e+00  1.65806942e+01 -1.22226322e+00  2.15625801e+01\n",
      "  3.96904850e+00  5.11949396e+00  1.68330765e+00 -1.84342015e+00\n",
      "  2.14642882e+00 -8.60510635e+00 -6.86397028e+00 -1.03209448e+00\n",
      "  4.11097097e+00 -3.06614685e+00  6.03224802e+00  2.23704290e+00\n",
      " -2.28292542e+01 -6.07165146e+00 -2.33960114e+01 -1.04475379e+00\n",
      " -8.47506523e+00 -5.49298429e+00 -4.58492613e+00 -5.28237820e+00\n",
      " -7.64874816e-01  4.11856174e+00 -1.02163877e+01 -1.33693485e+01\n",
      " -2.81630535e+01 -1.93462448e+01 -4.26185036e+00  5.95681858e+00\n",
      " -6.83306026e+00  2.43571591e+00 -8.66778851e+00 -9.43169689e+00\n",
      " -2.15176868e+01 -2.17928925e+01  1.70706439e+00 -5.73003864e+00\n",
      " -2.31902905e+01 -7.25271845e+00 -6.48617172e+00 -7.22164345e+00\n",
      "  1.65680397e+00 -1.49299450e+01 -3.63958097e+00  2.80126333e+00\n",
      "  1.10515137e+01 -3.42757249e+00 -2.43774343e+00 -9.42204380e+00\n",
      " -2.76378703e+00 -1.37941971e+01 -5.53512812e+00 -4.95994473e+00\n",
      " -2.03209472e+00 -5.59119272e+00 -1.08300915e+01 -7.72001553e+00\n",
      " -1.25280409e+01 -1.55477304e+01 -3.84540582e+00  7.70530653e+00\n",
      " -1.09063387e+00 -1.75898304e+01 -1.51183615e+01 -4.51570654e+00\n",
      "  3.81219196e+00 -2.58058987e+01 -1.95845757e+01 -1.94535351e+00\n",
      "  2.28248167e+00  3.39751625e+00 -2.28404732e+01  1.10450459e+00\n",
      " -3.05489212e-01 -9.07217503e+00  8.85975838e-01 -2.01171398e+00\n",
      " -4.51384592e+00  4.34880781e+00 -3.94062567e+00 -2.14036894e+00\n",
      "  1.93508351e+00 -1.74171495e+00  1.74250424e+00 -6.28926373e+00\n",
      " -2.02295423e+00 -9.88307953e+00 -4.46171999e+00 -1.05199099e+00\n",
      "  3.20312762e+00 -3.32467961e+00 -6.87669754e-01 -1.09103465e+00\n",
      " -2.07440448e+00 -1.66190414e+01 -4.20337343e+00 -8.53380394e+00\n",
      " -4.88056660e+00 -4.36166674e-01  9.12941575e-01  2.20842648e+00\n",
      " -2.24963284e+00 -2.87582421e+00 -9.01496410e+00 -8.72774780e-01\n",
      "  6.48770952e+00 -7.12831926e+00  5.47217989e+00 -3.50532174e+00\n",
      " -3.09247456e+01  3.41888499e+00  4.73694801e-01 -8.08148670e+00\n",
      " -2.25078564e+01  6.51190853e+00 -1.20236444e+01 -4.47376579e-01\n",
      "  4.75540781e+00 -2.96547008e+00 -6.98224211e+00  2.02919102e+00\n",
      "  7.04187602e-02 -1.10667305e+01  2.54216170e+00 -1.67809944e+01\n",
      " -1.62695599e+00  2.52362895e+00 -8.38991547e+00  2.73763108e+00\n",
      "  2.72362041e+00 -6.40770614e-01 -2.47886324e+00  5.74866295e+00\n",
      " -1.88170795e+01  1.46861959e+00 -1.03755970e+01 -4.51724052e+00\n",
      " -1.20939875e+01 -2.16573906e+01 -2.37081566e+01 -6.20615244e+00\n",
      " -1.91535985e+00 -4.71813202e+00 -1.84155166e+00 -4.52942944e+00\n",
      "  4.89963198e+00  1.57898569e+00 -5.73595524e+00  1.41167603e+01\n",
      " -1.99087925e+01 -9.83533478e+00 -3.55042458e+00 -9.88703060e+00\n",
      " -1.95324478e+01 -9.17965508e+00 -1.93963108e+01 -1.91578083e+01\n",
      " -6.09700203e-01 -2.76665592e+00 -1.56139708e+00  1.65630984e+00\n",
      "  3.94401145e+00 -2.66859856e+01 -2.43857765e+01 -5.34942818e+00\n",
      "  1.74786034e+01  1.07666578e+01 -2.02359080e+00 -2.03797588e+01\n",
      " -2.94201326e+00 -1.13156233e+01 -7.63917494e+00 -3.57830310e+00\n",
      " -2.69706178e+00 -2.53561187e+00  2.43806696e+00 -2.37360249e+01\n",
      " -1.34203663e+01 -9.60450554e+00  2.21110535e+00  5.59574318e+00\n",
      " -4.94746685e+00 -1.84564233e+00  1.17023218e+00 -2.45364413e-01\n",
      " -1.58022738e+01 -1.93070602e+00 -9.00372601e+00 -4.11031151e+00\n",
      " -9.99706078e+00 -1.88237419e+01  2.02758765e+00  5.08625841e+00\n",
      " -4.11275291e+00  5.45527041e-01  2.01386166e+00 -1.10014284e+00\n",
      " -1.79820079e-02 -5.91809332e-01 -2.71841621e+01 -8.29072094e+00\n",
      " -2.15055408e+01  3.02190781e+00 -2.69356632e+01  2.48375177e+00\n",
      " -1.65000477e+01  1.11683154e+00 -1.36221480e+00 -6.55972624e+00\n",
      " -8.42572880e+00 -7.53662884e-01 -2.91216898e+00 -1.31521025e+01\n",
      "  8.98540020e+00  3.80070281e+00 -3.21761680e+00 -9.14719391e+00\n",
      " -3.41881828e+01 -3.50984621e+00 -3.58724213e+01  2.11542058e+00\n",
      " -3.03702908e+01  3.53027630e+00 -2.09017963e+01 -2.54830875e+01\n",
      " -2.96748638e+00 -7.62669802e+00  3.10888261e-01 -1.17533600e+00\n",
      "  9.73802280e+00  3.23427153e+00  7.95098186e-01 -8.56730759e-01\n",
      " -5.11865187e+00 -9.62335205e+00 -3.08351707e+01 -2.98778229e+01\n",
      " -1.30766430e+01 -1.99460011e+01 -1.33571396e+01 -6.48710203e+00\n",
      " -2.81142426e+01 -2.82142258e+01 -2.18079739e+01 -2.53857479e+01\n",
      " -4.88882208e+00 -3.02773056e+01 -1.56722450e+01  1.08652887e+01\n",
      "  2.08911180e+00 -2.15121007e+00 -2.97419910e+01 -7.18580544e-01\n",
      " -6.79533541e-01 -8.27138901e+00 -5.90314150e-01 -5.07657576e+00\n",
      " -5.10371304e+00 -2.36557903e+01 -1.82947006e+01  2.16511798e+00\n",
      " -1.40061703e+01 -5.77969885e+00  5.59014034e+00  6.64045715e+00\n",
      " -1.71710835e+01  8.11714268e+00 -3.81962180e+00 -2.04772115e+00\n",
      " -1.24759932e+01 -4.30956497e+01 -1.10454693e+01 -5.37371731e+00\n",
      " -4.16655588e+00 -6.76722240e+00 -2.67601051e+01 -1.53339710e+01\n",
      " -1.97346363e+01 -2.20336914e+00  1.04438305e+00 -6.55485296e+00\n",
      " -2.18679848e+01  7.13967323e+00 -3.02537727e+00 -2.69479036e+00\n",
      " -4.65110359e+01  5.35529709e+00 -9.16292095e+00  6.23069096e+00\n",
      " -3.20899200e+01 -1.71794834e+01 -6.75390673e+00 -1.09881010e+01\n",
      " -1.17628312e+00 -2.20499098e-01 -2.25098729e+00 -9.73906136e+00\n",
      "  1.97701478e+00 -3.71337013e+01 -3.16818600e+01 -1.20104876e+01\n",
      " -2.39857510e-01 -2.12270117e+00 -6.13585711e+00 -1.54320393e+01\n",
      " -1.18842821e+01 -1.37662544e+01 -9.09016132e+00 -1.22013605e+00\n",
      " -3.22234273e+00 -1.30324554e+01  3.06579500e-01 -5.90045023e+00\n",
      " -2.83526535e+01 -2.49604344e+00 -1.08086252e+01 -1.81883888e+01\n",
      " -3.90946655e+01 -1.37033999e+00 -2.61278582e+00 -3.19682064e+01\n",
      " -5.34357119e+00  9.25988483e+00 -6.74185514e+00  1.86802197e+01\n",
      " -4.45027828e+00 -2.97660942e+01 -1.50571184e+01 -2.27480483e+00\n",
      " -5.58166265e+00 -3.90010929e+00 -5.79729900e-02 -3.47461081e+00\n",
      " -3.06034908e+01  7.56133556e+00 -3.63905792e+01 -7.95294428e+00\n",
      " -2.11423664e+01 -5.22182608e+00 -4.09024963e+01 -1.35423450e+01\n",
      " -8.60249698e-01 -1.53768086e+00 -5.80099678e+00 -2.79636517e+01\n",
      " -2.15615606e+00 -7.21161795e+00 -1.11063461e+01  1.97100544e+01\n",
      "  6.08907700e+00 -1.22519836e+01 -2.33447337e+00  1.29491730e+01\n",
      "  2.04598165e+00  9.04200435e-01 -7.37016201e+00 -1.12980003e+01\n",
      " -3.46654320e+01 -1.69833529e+00 -4.13725014e+01 -2.31290817e+01\n",
      " -1.34458065e+00  5.99095297e+00 -1.17413359e+01 -1.20517910e+00\n",
      " -1.90463524e+01  5.25422478e+00]' has dtype incompatible with int64, please explicitly cast to a compatible dtype first.\n",
      "  preds[val_index] = model.predict(dval_i)\n"
     ]
    },
    {
     "name": "stderr",
     "output_type": "stream",
     "text": [
      "\r",
      " 60%|████████████████████████████████████████████████████████████████████████████████████████▊                                                           | 6/10 [02:59<01:55, 28.77s/it]"
     ]
    },
    {
     "name": "stderr",
     "output_type": "stream",
     "text": [
      "C:\\Users\\81809\\AppData\\Local\\Temp\\ipykernel_9440\\3386215446.py:18: FutureWarning: Setting an item of incompatible dtype is deprecated and will raise an error in a future version of pandas. Value '[ 4.70453691e+00  1.21160412e+01 -7.42763138e+00  8.74430656e+00\n",
      "  4.53512478e+00  2.49627972e+01  6.68834972e+00 -3.32662725e+00\n",
      "  1.70500028e+00  5.71720219e+00  5.21937561e+00  2.53662109e+00\n",
      "  1.38951623e+00 -1.00357211e+00  5.34477234e+00  1.93201268e+00\n",
      "  1.80081165e+00  1.87257233e+01  2.23716583e+01 -1.12360497e+01\n",
      "  5.51746321e+00  1.20791599e-01  3.64209771e+00  3.88400006e+00\n",
      "  2.13186526e+00 -7.18451309e+00  3.71684384e+00  7.73701429e-01\n",
      "  8.51490593e+00  1.43947306e+01 -1.91946208e+00  4.67142296e+00\n",
      "  2.74091930e+01  8.02376652e+00  2.72745552e+01  2.99742723e+00\n",
      "  1.06979427e+01  1.42212896e+01  8.36820126e+00  2.95906019e+00\n",
      "  2.42881513e+00  1.27346363e+01  1.10385478e+00  1.63530076e+00\n",
      " -8.63694191e-01 -6.80151507e-02  7.03589296e+00  3.47887921e+00\n",
      "  2.72713232e+00  7.42518234e+00  1.35602605e+00 -1.56915212e+00\n",
      " -3.97554755e+00 -1.94158947e+00  4.26126385e+00 -3.79364729e-01\n",
      "  1.28951836e+01 -2.73994470e+00  2.46345386e-01  1.00051460e+01\n",
      "  2.53335800e+01  2.28203087e+01 -1.00681961e+00  4.82004309e+00\n",
      " -3.86500549e+00  6.52862024e+00  2.11464739e+00  1.60202646e+00\n",
      "  1.71555448e+00 -1.65008616e+00  1.31466331e+01  1.78704243e+01\n",
      " -7.41502810e+00  2.47658014e+00  6.50788164e+00  1.25111210e+00\n",
      "  1.78319950e+01 -4.89598608e+00  1.68130989e+01  1.14952431e+01\n",
      "  9.99201298e-01  8.17167282e+00  1.11820531e+00 -3.16586828e+00\n",
      "  2.02448726e+00 -3.47314453e+00  1.37608976e+01 -5.26670694e+00\n",
      " -1.11184478e+00 -4.85838556e+00  6.94790602e+00  2.64681911e+01\n",
      "  1.43329000e+01 -2.55695909e-01  2.02580124e-01  2.06726685e+01\n",
      "  1.19380093e+01 -1.00280466e+01  1.27772913e+01 -3.86431408e+00\n",
      "  4.19919920e+00  1.00048084e+01 -8.29626751e+00  4.94114399e+00\n",
      "  1.00316753e+01  3.64877880e-02 -3.47892118e+00 -1.43892199e-01\n",
      "  5.99331617e+00  1.87460384e+01  1.19654341e+01 -6.80666542e+00\n",
      "  4.09824014e-01  1.56676519e+00  9.50879288e+00 -5.05274487e+00\n",
      "  1.07660782e+00 -5.11869526e+00  8.09717178e+00 -1.31724477e+00\n",
      "  5.95557690e+00  2.95771882e-02  2.68368549e+01 -3.20662308e+00\n",
      " -8.48808289e+00 -1.89769478e+01 -5.70866299e+00 -4.01781511e+00\n",
      "  9.20973396e+00  6.88868940e-01  2.09262323e+00  8.31887150e+00\n",
      "  1.33393641e+01 -1.89017570e+00  5.48766279e+00  5.19405890e+00\n",
      "  2.38755703e+00  4.98797321e+00  1.92807465e+01  2.83910513e-01\n",
      " -7.01365900e+00  6.02646649e-01  2.15005350e+00  5.21175146e+00\n",
      "  1.29006538e+01  4.31034708e+00  1.09423761e+01  1.53279424e+00\n",
      "  5.33136082e+00  6.72036409e-01  3.00406718e+00 -1.01047206e+00\n",
      "  2.28590794e+01  9.95543301e-02 -5.49447350e-03  1.15330219e+01\n",
      "  1.04688072e+01  3.01697683e+00  5.07997370e+00 -6.04414320e+00\n",
      "  1.03488998e+01  3.32004070e+00  1.11122484e+01  8.12912273e+00\n",
      " -2.32828259e+00  7.59098053e+00  4.79191065e+00  1.98082352e+01\n",
      " -6.35408735e+00  6.28556156e+00  2.69217825e+00 -4.86686039e+00\n",
      "  5.80188513e-01  2.45691037e+00  1.62267971e+01 -1.06843770e+00\n",
      "  1.09541702e+01  4.93746901e+00  2.68326998e+00  7.66469574e+00\n",
      "  5.65686762e-01  8.44598198e+00  2.16054173e+01  1.33991528e+01\n",
      " -6.33061028e+00 -4.09419107e+00  6.23183346e+00 -4.51151133e+00\n",
      "  2.90830874e+00  7.21844769e+00  9.80671215e+00  9.47778606e+00\n",
      "  2.44235668e+01  1.68263187e+01  5.43407011e+00  2.30138283e+01\n",
      "  2.52191329e+00  1.43885126e+01 -5.18255770e-01  3.46180058e+00\n",
      " -3.37499237e+00  2.45020533e+00  7.03264904e+00 -1.38414991e+00\n",
      "  6.30689478e+00  4.89766264e+00  1.14783792e+01  7.16745567e+00\n",
      "  2.63848472e+00  1.97891827e+01  1.68898354e+01  2.70491524e+01\n",
      "  3.03446174e+00 -7.88615561e+00  1.73342152e+01 -2.30527925e+00\n",
      "  1.14603672e+01  1.08108892e+01 -3.64091611e+00  2.37066975e+01\n",
      "  1.35728455e+01  6.47501612e+00  3.13076134e+01  5.53196144e+00\n",
      "  3.14844589e+01  9.28162003e+00  1.77499366e+00  1.43471041e+01\n",
      " -4.04277468e+00  2.98966522e+01 -7.94819546e+00 -5.86996937e+00\n",
      " -1.03718948e+00  1.95795786e+00  1.66436634e+01  1.15287342e+01\n",
      "  1.86546636e+00  9.95626068e+00  5.94183981e-01  1.51255322e+01\n",
      "  1.84874427e+00  6.48075294e+00  2.71429863e+01 -7.81089687e+00\n",
      "  3.15488243e+01 -1.70688190e+01  1.05401125e+01 -1.99704957e+00\n",
      "  7.35902643e+00 -3.57398248e+00  2.66043782e+00  3.33158073e+01\n",
      "  3.73078728e+01 -2.54327035e+00 -4.71698952e+00  9.61313057e+00\n",
      "  7.22863770e+00  3.93454742e+00  3.12683830e+01  6.90237761e+00\n",
      "  1.87783694e+00  7.16388881e-01  2.79726639e+01  2.29829025e+00\n",
      "  6.18724203e+00  2.71399288e+01  1.29265869e+00  2.03314075e+01\n",
      " -4.44223976e+00  3.53346610e+00  1.47930164e+01  7.79227495e+00\n",
      "  1.94466419e+01  1.41896133e+01  2.28901482e+01  2.43257189e+00\n",
      " -9.44376469e+00  5.88959837e+00  4.22682524e+00  4.69000816e+00\n",
      " -4.64872241e-01 -7.36340427e+00  3.17100883e+00  1.07492914e+01\n",
      "  1.08215227e+01  7.20631742e+00  3.41834755e+01  3.53777084e+01\n",
      "  1.25027437e+01 -2.28976369e+00 -2.79580355e-02 -1.08501759e+01\n",
      "  8.84960651e+00  2.97315669e+00  2.89893246e+01 -1.15739202e+00\n",
      "  1.98547421e+01 -1.01962185e+01  2.00587578e+01  2.67474823e+01\n",
      "  3.25673370e+01  1.00317109e+00 -8.29864979e+00  1.59947624e+01\n",
      "  4.92617989e+00  1.41608489e+00  1.70560360e+00  8.16784000e+00\n",
      "  4.07221222e+00 -6.78185558e+00 -4.80798340e+00  4.27196121e+01\n",
      "  7.80911970e+00  2.28120670e+01 -4.39615202e+00  2.63377171e+01\n",
      "  1.47172499e+01  1.21529455e+01  3.99253368e+00 -6.13608742e+00\n",
      "  3.65654259e+01  6.47040367e+00  1.21791449e+01  4.42575359e+00\n",
      "  5.27812624e+00  3.24314842e+01  2.64273014e+01 -1.61611155e-01\n",
      "  1.01040668e+01  3.38424414e-01  8.47756481e+00 -6.53285742e+00\n",
      " -8.09708309e+00 -5.96705008e+00  1.22630060e+00 -2.25150566e+01\n",
      " -7.86298323e+00 -1.06933231e+01 -5.37733212e-02 -1.12034807e+01\n",
      "  3.79918075e+00 -1.03786254e+00 -6.88170815e+00 -2.09674835e+00\n",
      " -2.24097424e+01 -1.29895554e+01 -5.83556128e+00 -2.01497746e+01\n",
      " -2.01202774e+01 -1.78204513e+00  6.10132337e-01 -3.43088675e+00\n",
      " -3.47793245e+00 -6.30310357e-01 -5.94464493e+00  5.76732419e-02\n",
      " -8.79620016e-01 -1.57932577e+01 -3.69099331e+00 -2.60239143e+01\n",
      " -3.85509753e+00  6.72565651e+00 -4.77921152e+00 -1.53875053e+00\n",
      "  5.34293556e+00 -1.29363930e+00 -5.36873341e+00 -3.87087750e+00\n",
      " -1.98768692e+01  1.27171409e+00 -7.33299541e+00 -1.27847195e+00\n",
      " -8.34613419e+00 -1.04618416e+01 -5.91677427e+00  1.67767704e+00\n",
      " -5.78049004e-01 -3.70296526e+00 -6.81567287e+00 -1.27312384e+01\n",
      " -2.37315807e+01 -2.02591658e+00 -7.14261436e+00 -6.46300220e+00\n",
      "  2.57488179e+00  1.74116576e+00  1.58317757e+00 -5.37830210e+00\n",
      " -6.80109978e+00 -1.00529709e+01 -3.97637582e+00 -1.49622507e+01\n",
      " -1.50108604e+01 -1.56171656e+01  6.35479784e+00  8.37626874e-01\n",
      " -4.13743258e-01  2.89913869e+00  3.12352806e-01 -9.32852745e+00\n",
      " -1.30991497e+01 -7.97220182e+00 -5.70911586e-01  6.76052630e-01\n",
      " -9.59774876e+00 -7.42659283e+00 -5.56493855e+00 -5.92252851e-01\n",
      "  2.22354546e-01 -3.45803952e+00 -1.18441410e+01  3.88822174e+00\n",
      " -1.30427637e+01  1.44743109e+01 -2.00579628e-01  2.98504353e+00\n",
      "  4.70728779e+00 -1.22881956e+01 -1.23445091e+01  1.86308765e+00\n",
      " -3.27621412e+00 -5.62952757e-02 -3.39457303e-01 -1.99842396e+01\n",
      "  3.49027085e+00 -2.01984234e+01 -2.59119682e+01  7.85074043e+00\n",
      " -1.55928218e+00 -1.20663614e+01  1.87144184e+00 -5.48513699e+00\n",
      " -1.34754968e+00  9.79893357e-02 -2.97114925e+01 -6.76778555e+00\n",
      " -4.48656368e+00  1.84070568e+01  5.93454885e+00 -9.74214172e+00\n",
      " -1.55870705e+01 -5.37451029e+00  3.56988072e+00 -2.36610794e+00\n",
      " -7.99411201e+00 -2.08479929e+00 -4.01690340e+00 -9.28635597e+00\n",
      " -2.06627870e+00 -1.11897221e+01 -6.00672388e+00 -5.18286371e+00\n",
      "  3.45499420e+00 -1.84995480e+01  4.03361654e+00 -4.88123608e+00\n",
      " -1.72873478e+01 -2.72449470e+00  2.77277517e+00  3.00212860e+00\n",
      "  2.74860692e+00  8.48175645e-01 -1.12350769e+01 -4.93051529e+00\n",
      " -3.42141795e+00 -2.23275261e+01 -9.03279495e+00 -2.78189492e+00\n",
      "  1.20892849e+01  4.71525860e+00 -9.25990009e+00 -5.52585268e+00\n",
      " -7.46772885e-02  9.67483425e+00  1.65966880e+00 -2.13180885e+01\n",
      "  1.12221537e+01  2.14277893e-01  3.06790495e+00 -1.80365829e+01\n",
      " -1.78445685e+00 -1.93449459e+01  1.14142952e+01 -3.41377234e+00\n",
      " -1.00612049e+01  5.38359785e+00 -7.84790611e+00  1.84235418e+00\n",
      " -4.43277454e+00 -4.70631313e+00  5.74663782e+00 -1.93951404e+00\n",
      " -2.71074504e-01 -6.14223957e+00  3.19398451e+00  3.39581579e-01\n",
      " -8.94705868e+00  7.00424480e+00  5.72619486e+00 -2.42501950e+00\n",
      " -3.11290407e+00  1.12296116e+00  3.00709248e+00 -3.55896258e+00\n",
      " -2.91294169e+00 -3.05551100e+00 -2.41602077e+01 -1.39669733e+01\n",
      " -2.00188866e+01 -2.10967999e+01  1.21639192e+00 -5.44008827e+00\n",
      "  4.20413876e+00  8.43331242e+00  1.55350184e+00 -1.32196026e+01\n",
      " -5.98604083e-01  6.10183334e+00 -2.60675774e+01 -3.84516597e+00\n",
      " -5.25449276e+00  4.64937925e+00 -2.12707973e+00 -1.06417694e+01\n",
      " -8.87979126e+00 -2.18132038e+01 -4.10635662e+00  2.31870232e+01\n",
      "  1.01003437e+01 -5.87328529e+00  2.87901235e+00 -1.60737062e+00\n",
      " -2.46298599e+00  4.74162722e+00 -2.61886463e+01 -9.72182214e-01\n",
      "  2.63189459e+00 -1.55946627e+01  8.72244740e+00  1.31924891e+00\n",
      " -3.10228777e+00 -6.68537903e+00 -4.96933126e+00 -3.90650892e+00\n",
      " -1.27826929e+01 -1.94347417e+00  3.24723577e+00  2.53728485e+00\n",
      "  9.07801342e+00  2.17543915e-01  6.29381132e+00 -3.94791579e+00\n",
      " -1.07373400e+01 -2.16123056e+00 -4.47726784e+01 -2.64115982e+01\n",
      " -2.50639687e+01  1.90954888e+00 -1.89820921e+00 -2.56759796e+01\n",
      " -7.89305115e+00 -2.34108257e+01 -1.39671583e+01 -1.37231293e+01\n",
      " -4.23942041e+00 -8.86914921e+00 -8.29258060e+00  1.81446433e-01\n",
      " -5.43756247e+00 -4.58988380e+00 -3.75622139e+01 -3.70240831e+00\n",
      " -1.21978211e+00 -2.60881310e+01 -9.18007433e-01 -1.29787493e+01\n",
      "  9.34375286e+00 -1.55264044e+01 -9.71591568e+00 -1.54145498e+01\n",
      "  1.51532578e+00 -1.01021080e+01 -2.64520016e+01 -9.94288564e-01\n",
      " -3.12109509e+01 -1.87173820e+00  1.38008738e+01 -7.03151321e+00\n",
      "  2.05004364e-01 -2.59984951e+01 -1.61619568e+01 -5.72916746e+00\n",
      " -1.88755093e+01 -7.49117947e+00 -1.53051198e+00 -6.73987436e+00\n",
      " -1.91902103e+01  7.43958902e+00 -1.59562931e+01 -6.63698483e+00\n",
      " -4.01322031e+00 -2.26546535e+01 -1.85095177e+01 -1.15835752e+01\n",
      " -1.47363386e+01 -3.08526363e+01  8.89265120e-01 -5.60319185e+00\n",
      " -1.84131107e+01 -3.86315107e+00 -1.54779177e+01 -5.73831606e+00\n",
      " -2.28243923e+01  1.17051687e+01 -2.96474686e+01 -1.56134033e+01\n",
      "  2.48202801e+00 -3.14253902e+01 -1.29658594e+01 -3.47148275e+00\n",
      " -2.82529774e+01 -2.88343658e+01  1.03952770e+01  1.70079339e+00\n",
      " -1.32985420e+01 -2.75304556e+00 -2.27016335e+01 -1.14261198e+01\n",
      " -6.56920958e+00 -3.37515211e+00 -1.21246510e+01  1.07906637e+01\n",
      " -2.63253927e+00 -1.86441383e+01 -8.12859154e+00 -3.92376590e+00\n",
      "  9.74438763e+00  9.91526246e-02 -3.18915672e+01 -2.60876141e+01\n",
      "  8.46296549e-01  7.88961029e+00 -1.01118577e+00 -1.82847095e+00\n",
      "  9.92554760e+00 -6.13361406e+00 -2.12310963e+01 -1.39273329e+01\n",
      "  4.39121103e+00  8.90605068e+00 -8.76719189e+00 -2.03399181e+01\n",
      " -5.51543188e+00 -7.74140120e+00 -9.49235439e+00 -3.15419617e+01\n",
      " -3.02773685e+01 -3.96755672e+00 -2.76063194e+01 -3.64561195e+01\n",
      "  3.28467876e-01  1.65006876e+00 -1.16261358e+01 -2.15002289e+01\n",
      " -2.67855549e+01 -7.02913332e+00  1.35493908e+01 -1.14016604e+00\n",
      "  1.22619362e+01  2.42306066e+00 -2.86510048e+01 -6.52264547e+00\n",
      " -3.80304375e+01 -3.94616089e+01 -6.05333924e-01 -2.16444836e+01\n",
      " -1.96913185e+01 -2.64838638e+01 -1.87678242e+01  4.67215347e+00\n",
      " -6.93089533e+00 -1.71161480e+01 -7.74224472e+00 -3.86670151e+01\n",
      " -2.85104218e+01 -1.40477061e+00 -3.92220955e+01 -4.96005774e+00\n",
      " -4.87674665e+00 -2.12131176e+01  1.43615901e+00  1.72043943e+00\n",
      " -1.15472565e+01 -1.61750734e+00  7.17042398e+00 -1.60590630e+01\n",
      " -8.82037640e+00  7.26594627e-02]' has dtype incompatible with int64, please explicitly cast to a compatible dtype first.\n",
      "  preds[val_index] = model.predict(dval_i)\n"
     ]
    },
    {
     "name": "stderr",
     "output_type": "stream",
     "text": [
      "\r",
      " 70%|███████████████████████████████████████████████████████████████████████████████████████████████████████▌                                            | 7/10 [03:35<01:33, 31.26s/it]"
     ]
    },
    {
     "name": "stderr",
     "output_type": "stream",
     "text": [
      "C:\\Users\\81809\\AppData\\Local\\Temp\\ipykernel_9440\\3386215446.py:18: FutureWarning: Setting an item of incompatible dtype is deprecated and will raise an error in a future version of pandas. Value '[-6.13098145e+00  7.90442371e+00  2.92604280e+00  3.83681369e+00\n",
      "  2.13959408e+00 -9.41705108e-02  1.04876757e+01  2.54453325e+00\n",
      "  7.89722443e-01 -1.03669822e+00  2.15819435e+01  5.51342916e+00\n",
      "  1.28846705e+00  6.16382456e+00  5.97977161e+00 -7.29818153e+00\n",
      " -7.48808479e+00  3.81934094e+00  8.79232597e+00  9.95571136e-01\n",
      "  3.95974815e-02  2.55694056e+00  1.93700619e+01  3.01679401e+01\n",
      "  1.07861967e+01 -3.20155907e+00  1.61566792e+01 -3.76378000e-01\n",
      "  3.59430766e+00  1.92151690e+00 -4.84099627e+00  6.94642162e+00\n",
      "  1.08044834e+01  1.00390997e+01  1.04555047e+00  8.65175152e+00\n",
      "  5.57766724e+00  8.04127502e+00  2.22018480e+00  5.66255045e+00\n",
      " -8.44360292e-02  1.58819952e+01  1.20317650e+01  2.38167667e+01\n",
      "  1.32413983e+00  1.55487394e+01  5.94871426e+00  3.29064202e+00\n",
      " -2.81823230e+00  5.50012112e+00 -1.13341630e+00  2.91653633e+00\n",
      "  8.22041512e+00  1.32345295e+01  2.63615060e+00  9.52391338e+00\n",
      " -2.92659307e+00 -3.51898289e+00  3.29862547e+00 -6.58223853e-02\n",
      "  1.34823215e+00  7.57353210e+00  6.94972324e+00  3.94557929e+00\n",
      "  1.55320568e+01  7.82678127e+00 -1.04747517e-02 -2.11960626e+00\n",
      " -6.50035858e+00  8.57223129e+00  7.44381332e+00  9.03913212e+00\n",
      "  1.46723235e+00  3.41333199e+00  8.04303551e+00  1.40587959e+01\n",
      "  5.35716486e+00  3.53040886e+00 -4.11021852e+00  6.92906141e+00\n",
      " -1.58461702e+00 -3.66404980e-01  1.38770285e+01  4.36390257e+00\n",
      "  2.29935479e+00  1.39267368e+01  9.60512543e+00  6.93121004e+00\n",
      " -9.12484837e+00  4.43553114e+00  4.98696518e+00  9.97261333e+00\n",
      "  4.17531013e+00  4.57249212e+00 -6.40617788e-01  1.34440041e+00\n",
      "  3.80564737e+00  8.37782288e+00 -1.00792179e+01  2.03287010e+01\n",
      "  5.01564121e+00  8.75001192e-01 -5.35797000e-01 -2.61525512e+00\n",
      "  3.35523987e+00  7.50323391e+00 -7.02616167e+00 -3.82904124e+00\n",
      "  1.07973213e+01 -6.32826281e+00 -2.43748403e+00  6.82070684e+00\n",
      " -7.91360676e-01 -5.91916847e+00  3.86273593e-01  7.13206148e+00\n",
      "  5.41481113e+00 -4.04872561e+00 -4.88326222e-01  8.57510376e+00\n",
      " -5.52688885e+00  2.05223489e+00 -1.40987170e+00 -5.08082056e+00\n",
      "  7.11266565e+00  1.21050072e+01 -1.78896821e+00  4.02049732e+00\n",
      " -4.02811193e+00  2.48808074e+00  5.71616030e+00  5.29168463e+00\n",
      " -5.72937191e-01  1.57014351e+01  3.86878109e+00 -3.36363244e+00\n",
      " -1.19006145e+00  1.23910606e+00 -3.02675366e+00 -6.79991007e+00\n",
      "  4.28809261e+00 -4.04443622e-01  2.34773517e+00 -1.10352576e+00\n",
      " -3.19595146e+00  6.93704367e+00 -3.48994470e+00 -7.79413176e+00\n",
      "  1.03251333e+01  1.53526325e+01  3.11013913e+00  2.17875314e+00\n",
      "  4.60286331e+00  1.02561545e+00  2.62376875e-01  2.18108749e+00\n",
      "  9.55809021e+00  5.08710146e+00  6.09957409e+00 -9.12230110e+00\n",
      "  4.19233370e+00 -5.68370056e+00 -9.39095974e+00 -1.55123587e+01\n",
      "  1.79915543e+01 -4.12936497e+00  2.26178989e+01  1.95081844e+01\n",
      "  2.67828584e+00  4.19589186e+00  9.79650497e+00  1.20725164e+01\n",
      "  7.79262066e+00  8.99389744e-01 -3.61668086e+00  4.64374876e+00\n",
      "  5.91525018e-01 -4.12908936e+00  2.22859745e+01  5.19001055e+00\n",
      "  1.73456812e+00 -5.81261683e+00  1.09426832e+01  2.42213368e+00\n",
      "  4.72382784e+00  5.38530731e+00 -3.47635317e+00  5.87256479e+00\n",
      "  1.13032045e+01  3.56477308e+00  2.50753746e+01 -1.04998600e+00\n",
      "  1.87124844e+01 -4.40314293e+00  4.83414555e+00  3.87370491e+00\n",
      " -8.35009754e-01  1.68554363e+01  2.80819559e+00  1.91087875e+01\n",
      "  4.64752150e+00  2.13819542e+01  1.31273308e+01 -9.40447867e-01\n",
      "  6.65686417e+00 -1.17541052e-01  6.85134232e-01 -3.65399837e+00\n",
      "  1.27465839e+01  1.93459721e+01  7.27617264e+00  1.30864830e+01\n",
      "  1.07420874e+01  1.77375183e+01  1.66866994e+00 -2.51394224e+00\n",
      " -4.14526796e+00  2.07421932e+01  5.32079840e+00  8.55811596e+00\n",
      " -5.02253890e-01  2.58182259e+01  2.48657646e+01  1.14763510e+00\n",
      "  2.14752560e+01  1.42123966e+01 -6.74852085e+00 -3.52367163e+00\n",
      "  4.13482552e+01  2.21455250e+01  2.76831512e+01  2.45504971e+01\n",
      " -7.83589029e+00 -6.79058123e+00  1.74452324e+01  8.63573456e+00\n",
      "  8.47166824e+00 -7.92110157e+00  2.78527236e+00  1.31211119e+01\n",
      "  3.86042557e+01 -1.12303483e+00  7.22568321e+00  1.90616441e+00\n",
      "  2.56380057e+00  6.67164469e+00  1.49411049e+01  1.64855814e+00\n",
      "  4.82442970e+01 -8.19833851e+00  6.01864767e+00  5.61745405e-01\n",
      "  3.86778784e+00  9.87421703e+00  3.75473862e+01  4.49129581e+00\n",
      "  1.16429386e+01  9.02305222e+00  3.82019830e+00  7.89611769e+00\n",
      "  1.66467533e+01  1.44210300e+01  3.52787590e+00  2.93643494e+01\n",
      "  2.99117165e+01  2.15976295e+01  2.31960220e+01  1.31905928e+01\n",
      "  9.53491592e+00  1.66081982e+01  1.27199965e+01  2.58719516e+00\n",
      "  3.51731110e+01  2.18529844e+00  8.09937572e+00 -1.00200977e+01\n",
      "  3.95309677e+01  7.75965214e+00  2.12611580e+01  3.95586491e+00\n",
      "  9.31928825e+00  8.65219021e+00 -1.77088511e+00  1.43734322e+01\n",
      " -1.20668578e+00  8.79418278e+00 -1.04748592e+01  5.65742970e+00\n",
      "  1.61560383e+01 -1.95225072e+00  1.30171800e+00  3.74245300e+01\n",
      " -1.31511617e+00  2.11379375e+01  4.93830681e+00  2.08954773e+01\n",
      "  1.35083923e+01  2.13446999e+00 -1.01799593e+01 -7.80852270e+00\n",
      " -9.67591858e+00  1.27431631e+01  9.10238838e+00  2.12669582e+01\n",
      "  1.11878002e+00  3.45415068e+00  7.05093098e+00  1.01512089e+01\n",
      "  2.97016144e+01  6.23142576e+00  3.75386715e+00  2.86458092e+01\n",
      "  3.51180100e+00  4.38454208e+01  2.81033840e+01  3.17804623e+00\n",
      "  8.89541149e+00  3.75615959e+01  2.58803201e+00  6.25222683e+00\n",
      "  4.03303986e+01  2.22789097e+01  1.30165949e+01  5.28655577e+00\n",
      "  8.48177528e+00  1.87271595e+01  1.05716734e+01  3.17400780e+01\n",
      "  7.88513041e+00  1.78655968e+01 -1.74168968e+00  2.41859913e+01\n",
      "  3.09781933e+01 -5.73850572e-01 -9.71876204e-01 -2.64274645e+00\n",
      " -6.97630072e+00  2.15118752e+01  1.46909370e+01  7.96138668e+00\n",
      "  1.29534793e+00  1.03374166e+01 -2.07660503e+01 -1.03377209e+01\n",
      " -1.10213175e+01 -8.22701263e+00 -4.92431498e+00 -2.22844563e+01\n",
      " -1.88338737e+01 -8.03719330e+00  4.09642935e+00 -5.44223881e+00\n",
      " -6.95566463e+00 -5.78749752e+00 -2.77078032e+00  1.04959726e+00\n",
      " -6.45663381e-01 -2.12261581e+01 -4.55148840e+00 -8.02933753e-01\n",
      " -5.90418053e+00  8.05101871e+00 -1.21271110e+00  1.67611346e-01\n",
      " -3.27050614e+00  5.28507233e+00 -9.68984604e-01 -1.74183788e+01\n",
      " -3.67495918e+00 -5.17467356e+00 -4.71178150e+00  7.21970224e+00\n",
      " -4.91466188e+00 -5.02912188e+00  1.69667041e+00 -5.39667082e+00\n",
      " -1.99116313e+00  3.27619195e+00 -1.29804265e+00 -7.50537109e+00\n",
      " -1.09500837e+01  7.92287731e+00 -3.83677649e+00 -2.10367851e+01\n",
      " -4.97808790e+00 -2.17854939e+01  1.70824397e+00  3.25850153e+00\n",
      " -7.83692646e+00  2.69631124e+00 -6.49438858e+00 -5.23552895e+00\n",
      " -2.09966946e+00 -1.70496578e+01 -4.71008396e+00  1.72332084e+00\n",
      " -2.38569679e+01 -2.20769882e+00 -8.79409122e+00 -4.52104330e+00\n",
      " -6.98333168e+00 -2.88241029e+00 -7.12726116e+00 -1.70515966e+00\n",
      " -2.42828178e+00  1.25106180e+00 -2.40300298e+00 -2.97308946e+00\n",
      "  3.69022226e+00 -7.95004606e+00 -9.71776772e+00 -1.55164909e+01\n",
      "  1.08920069e+01 -1.15017338e+01  6.31018206e-02 -5.69425631e+00\n",
      " -2.51086283e+00  2.95111346e+00 -2.46455727e+01  5.73915005e-01\n",
      " -1.86819057e+01  3.33650899e+00 -7.01900673e+00  3.38367963e+00\n",
      " -2.26264668e+01  2.06704593e+00  1.10815358e+00 -8.01632977e+00\n",
      " -8.57389355e+00 -2.96539402e+00 -7.72193384e+00 -1.46879113e+00\n",
      "  5.60347557e-01 -8.39877701e+00 -1.31289997e+01 -3.97762156e+00\n",
      " -1.08242311e+01 -1.10522900e+01  8.22603106e-01  1.37046814e+00\n",
      " -9.98335743e+00 -3.78525227e-01 -6.69469547e+00 -2.43242487e-01\n",
      "  6.21049881e+00  7.62251806e+00 -3.87804413e+00  2.02605590e-01\n",
      " -1.96232879e+00  2.26497865e+00 -2.20842171e+01 -4.55327272e+00\n",
      " -1.78086948e+00  1.90914595e+00 -6.74766350e+00 -2.69937873e+00\n",
      " -1.30885830e+01  5.98160362e+00  5.02263927e+00  3.43484616e+00\n",
      "  6.66856527e+00 -6.01311684e+00 -6.19229746e+00  2.01522613e+00\n",
      " -1.04398699e+01 -6.44002819e+00 -5.98028564e+00 -5.57154608e+00\n",
      " -9.47186089e+00 -2.15935326e+01  5.34540939e+00  2.78914779e-01\n",
      " -6.69216681e+00  3.81466174e+00  1.83469999e+00 -5.56539726e+00\n",
      "  7.62422502e-01  7.71802012e-03 -5.32831430e+00 -3.25881100e+00\n",
      "  3.30250549e+00 -8.56337166e+00 -9.92830563e+00 -1.17108173e+01\n",
      "  1.03995550e+00 -2.33616791e+01  6.48460817e+00 -5.49277115e+00\n",
      "  1.10155380e+00  4.84402227e+00 -3.88322204e-01 -1.26164589e+01\n",
      " -5.46846056e+00 -4.56660366e+00 -6.80957747e+00 -1.70541897e+01\n",
      " -1.32122355e+01 -2.31948185e+01 -9.63094807e+00 -5.10661125e+00\n",
      "  2.87361121e+00  6.57707167e+00 -1.83219922e+00  3.21612620e+00\n",
      " -2.59890723e+00  4.22748029e-01  5.46820700e-01 -4.70848656e+00\n",
      " -1.75018752e+00  1.00954599e+01  4.98471856e-01 -3.67573589e-01\n",
      " -2.08831005e+01 -5.26756430e+00 -2.31959224e+00 -1.07402372e+01\n",
      " -4.78899956e-01 -9.14999247e-01 -5.98790073e+00 -5.17801809e+00\n",
      "  5.35016596e-01 -9.60209179e+00  2.93511510e+00  2.83098102e+00\n",
      " -4.57832193e+00 -2.15439739e+01 -5.05323219e+00 -1.09344733e+00\n",
      " -5.38031149e+00 -1.12161264e+01 -1.80672109e+00 -3.74971557e+00\n",
      " -4.94241333e+00  2.45924711e+00 -3.17723274e+00  1.19570386e+00\n",
      " -1.19888258e+00 -7.23190594e+00 -2.79759240e+00 -3.96708179e+00\n",
      " -8.65057182e+00 -1.98812904e+01 -2.17700672e+01 -4.49417877e+00\n",
      " -9.01240468e-01 -1.15223313e-02  4.65939856e+00 -5.67512417e+00\n",
      "  2.32299042e+00  7.09037924e+00 -1.56500638e+00 -4.01938391e+00\n",
      "  1.35828209e+01  3.98610616e+00 -5.50321341e+00  1.05249453e+00\n",
      " -6.94625950e+00 -9.34066832e-01 -1.14729799e-01 -1.40843697e+01\n",
      "  2.20438075e+00 -2.16119061e+01 -7.10390091e+00 -1.33592329e+01\n",
      "  5.34272432e+00 -7.57933915e-01  9.56186962e+00 -1.09143043e+00\n",
      " -1.02959919e+01 -1.47302914e+00 -3.42487755e+01 -9.50317478e+00\n",
      " -5.80286503e+00 -2.32344031e-01 -2.50674648e+01 -2.53145599e+01\n",
      " -1.42028637e+01 -4.81314123e-01 -2.25502396e+00 -8.19438267e+00\n",
      "  2.59658623e+00 -4.52189827e+00 -1.18644552e+01 -2.67534332e+01\n",
      " -2.27496529e+01  6.29004097e+00 -1.19603100e+01 -1.35264778e+01\n",
      " -7.38371038e+00 -7.50424480e+00  3.00539351e+00  1.06037874e+01\n",
      " -7.15131462e-01 -2.20356121e+01  3.89376819e-01  5.73613358e+00\n",
      " -3.43105202e+01 -4.67015028e+00  2.57665348e+00 -2.26726341e+01\n",
      " -2.03961887e+01 -1.35537624e+01 -5.86269712e+00  4.81080437e+00\n",
      " -2.47102097e-01 -9.65703201e+00 -1.77022362e+01 -3.07181835e+01\n",
      " -2.58567882e+00 -1.39474382e+01 -3.93375397e+00 -3.74574113e+00\n",
      "  2.64259887e+00  5.70042419e+00 -2.45162159e-01 -8.99722290e+00\n",
      "  3.84767628e+00 -1.19395266e+01 -3.39553413e+01 -2.80471745e+01\n",
      " -9.74591196e-01 -1.78214226e+01 -7.91111565e+00 -8.24634457e+00\n",
      " -6.97981119e+00  5.07549810e+00 -5.62626171e+00 -1.19508972e+01\n",
      " -9.71472549e+00 -2.02274942e+00 -2.50497246e+01 -1.03308558e+00\n",
      " -5.12824154e+00  9.77536488e+00 -5.60387182e+00 -2.02676678e+01\n",
      " -1.20069230e+00 -7.42449951e+00 -5.45254588e-01 -2.13209267e+01\n",
      "  2.89245462e+00 -5.90931606e+00 -6.79195309e+00 -8.91817951e+00\n",
      " -4.20011520e+00 -1.30531130e+01 -7.86736965e+00 -8.09065723e+00\n",
      " -1.53244412e+00 -1.24435530e+01 -3.21597023e+01  4.83668041e+00\n",
      " -2.67702522e+01 -2.69058895e+01 -1.20129747e+01 -1.81291542e+01\n",
      " -3.57095337e+01 -1.47596300e+00 -1.05656691e+01  9.84785938e+00\n",
      " -5.01512003e+00 -1.20027390e+01  1.33276057e+00 -8.17986965e+00\n",
      " -2.48740768e+01 -5.33649921e+00 -4.02459068e+01  7.22528636e-01\n",
      " -3.72318420e+01 -8.62180173e-01 -1.43573713e+01 -2.15960083e+01\n",
      "  8.26169431e-01 -1.83858490e+01  1.05851545e+01 -8.95197868e+00\n",
      " -3.73576045e+00  1.12905989e+01  1.33216095e+00 -1.51032877e+01\n",
      "  3.02553201e+00 -2.04717903e+01 -1.26907170e+00 -2.16511059e+01\n",
      " -5.19735718e+00 -1.21759338e+01  1.28221531e+01 -5.63304043e+00\n",
      " -5.26720715e+00 -1.11576777e+01 -2.59793878e+00 -8.34183979e+00\n",
      " -1.99479599e+01 -3.72903657e+00 -2.09461193e+01 -2.11377811e+01\n",
      " -1.10444593e+01 -1.14865005e+00]' has dtype incompatible with int64, please explicitly cast to a compatible dtype first.\n",
      "  preds[val_index] = model.predict(dval_i)\n"
     ]
    },
    {
     "name": "stderr",
     "output_type": "stream",
     "text": [
      "\r",
      " 80%|██████████████████████████████████████████████████████████████████████████████████████████████████████████████████████▍                             | 8/10 [04:11<01:05, 32.66s/it]"
     ]
    },
    {
     "name": "stderr",
     "output_type": "stream",
     "text": [
      "C:\\Users\\81809\\AppData\\Local\\Temp\\ipykernel_9440\\3386215446.py:18: FutureWarning: Setting an item of incompatible dtype is deprecated and will raise an error in a future version of pandas. Value '[-1.37875724e+00 -7.13980055e+00  8.27605152e+00  1.27789629e+00\n",
      "  7.01781178e+00  4.95491600e+00  5.61901712e+00  6.53712797e+00\n",
      " -3.67450881e+00 -3.43845630e+00 -2.22751594e+00  3.28676844e+00\n",
      " -2.56685257e-01  2.10894794e+01  2.19857121e+00  1.12860088e+01\n",
      "  3.88813567e+00  2.19412899e+01  2.54615140e+00  3.17836404e+00\n",
      "  4.84874058e+00  3.15457845e+00  4.10441101e-01  1.16369839e+01\n",
      " -1.80664730e+00  1.24089241e+01  5.57721138e+00  1.81236410e+00\n",
      "  2.58650379e+01  4.28551626e+00 -7.36247540e+00  1.43659878e+01\n",
      " -7.64853287e+00  4.44738865e+00  2.22440815e+00  2.04470158e-01\n",
      " -5.06729126e+00 -2.38597631e+00  2.23006797e+00  1.26196277e+00\n",
      "  7.22011614e+00  2.03413429e+01  2.18159103e+01  8.20406723e+00\n",
      " -1.54871309e+00 -3.30813599e+00 -1.68720114e+00  5.80140495e+00\n",
      "  5.39689827e+00 -7.72193909e-01  1.53082192e+00  1.71186924e+01\n",
      "  4.49005556e+00  1.04177952e+01  2.33001328e+01  8.91384983e+00\n",
      "  2.57491922e+00  1.03184235e+00  3.05796313e+00  2.64641404e-01\n",
      "  5.18027925e+00  8.44435024e+00  1.22733946e+01  1.50764894e+01\n",
      "  2.58559875e+01  7.68190145e+00  1.52745581e+00  1.10456765e+00\n",
      "  8.70338058e+00  2.33324385e+00  3.49236083e+00  2.30254688e+01\n",
      "  7.87055397e+00  1.10001507e+01  3.07440400e+00 -8.44957680e-02\n",
      "  9.80096912e+00  1.24683599e+01  7.39327860e+00  3.66977191e+00\n",
      "  3.34615260e-01  5.91057014e+00  2.60987902e+00 -2.98799467e+00\n",
      "  4.54496098e+00  2.28327847e+01  1.75495892e+01 -2.34986997e+00\n",
      "  1.55514402e+01  2.07997739e-01  3.62211633e+00 -5.80777407e+00\n",
      " -3.46765828e+00 -4.44919252e+00 -7.27575970e+00  3.99353814e+00\n",
      " -1.69547081e+00  3.48965079e-01  1.80649304e+00 -1.19210815e+01\n",
      "  2.84057522e+00 -2.04467082e+00  1.36549890e-01 -4.22370577e+00\n",
      "  1.31223097e+01  1.29562492e+01  4.70977783e+00  1.62181330e+00\n",
      "  5.45568228e+00 -3.73831844e+00  9.93405628e+00 -1.04930830e+01\n",
      " -1.39070451e+00  1.10102963e+00  7.93333817e+00 -3.70389080e+00\n",
      "  3.45344877e+00 -9.01429081e+00  8.92348480e+00  5.58942556e-01\n",
      " -2.11368412e-01  8.53649521e+00  9.26549339e+00 -2.88526821e+00\n",
      "  1.17960930e+01  5.49954510e+00  5.11916113e+00 -7.32152128e+00\n",
      "  1.42392759e+01 -3.44810224e+00  9.70984840e+00  4.74840975e+00\n",
      "  6.83128262e+00  6.25161171e-01 -9.20671999e-01  1.53577156e+01\n",
      "  1.16816559e+01  3.31074691e+00 -6.42180157e+00  1.16986361e+01\n",
      "  1.63024139e+01  2.14102859e+01  4.49500036e+00  9.79061794e+00\n",
      "  1.50597942e+00  2.13917122e+01  5.63240671e+00 -8.90435755e-01\n",
      "  3.82793283e+00  3.04013801e+00  1.25998163e+01 -2.22394037e+00\n",
      " -3.02874565e-01  2.33602238e+00 -1.09393005e+01 -4.08200550e+00\n",
      "  1.22761707e+01  5.07535267e+00  1.00761957e+01  1.90818710e+01\n",
      "  7.14145660e-01 -2.33895972e-01 -1.69318271e+00  6.21030140e+00\n",
      " -2.69520593e+00  1.35284221e+00  2.53051710e+00 -1.03351057e+00\n",
      "  4.74609566e+00  1.92733631e+01  5.28191042e+00  1.36058760e+01\n",
      " -6.84732914e+00  2.06624870e+01 -1.12526512e+01  1.70534306e+01\n",
      " -1.27658117e+00  7.07130194e+00  5.32271719e+00  3.56702495e+00\n",
      "  1.06782091e+00  8.57053280e+00 -6.63199282e+00  2.05375481e+01\n",
      "  5.69294691e+00  7.60220194e+00  1.35195227e+01  1.89633522e+01\n",
      "  2.38235931e+01 -2.15041471e+00  4.56455851e+00  4.59994316e+00\n",
      " -3.64110970e+00  5.02208900e+00 -2.74472147e-01  7.04572105e+00\n",
      "  7.97901058e+00  2.14467907e+01  1.73719425e+01  1.05928493e+00\n",
      " -1.21424389e+01  1.77149754e+01  5.20038986e+00  5.84092474e+00\n",
      " -4.46629107e-01 -7.57716227e+00 -1.85645008e+00  1.68021417e+00\n",
      "  1.00522385e+01  4.26908207e+00  2.60419617e+01 -2.49730253e+00\n",
      "  2.40263176e+01  1.31078320e+01  4.99375629e+00  1.70230675e+00\n",
      " -2.03438258e+00 -1.76608586e+00  1.91811028e+01 -9.51813996e-01\n",
      "  3.25456047e+00 -1.11597836e+00  2.19987621e+01  3.88841896e+01\n",
      "  1.78782349e+01 -1.21540956e+01  1.39025812e+01  3.67786179e+01\n",
      "  2.90946846e+01  3.04500008e+00  6.08853292e+00  2.87502155e+01\n",
      "  5.05391359e+00  2.10684605e+01  5.44532871e+00  2.99268112e+01\n",
      "  6.52705240e+00  2.12983074e+01 -6.38675499e+00 -5.23730087e+00\n",
      " -1.65450305e-01  2.45528054e+00  2.18432579e+01  3.43380852e+01\n",
      "  9.56060696e+00 -1.79672635e+00  8.81918728e-01  1.56120710e+01\n",
      "  2.53917942e+01 -2.53793374e-02  1.34161987e+01 -1.00850546e+00\n",
      " -5.96055746e+00  1.61081333e+01  1.92879415e+00  5.13988447e+00\n",
      " -6.68575585e-01  2.35864296e+01  1.90317783e+01 -1.79282165e+00\n",
      "  5.92054462e+00  1.55833549e+01 -3.25966549e+00  2.78473740e+01\n",
      "  1.42011871e+01 -2.55919952e+01  3.24069672e+01  1.14075971e+00\n",
      "  2.22698021e+00  2.53979564e+00 -1.01706104e+01  8.09725475e+00\n",
      "  1.40760612e+01  1.74386704e+00 -1.68271601e+00  9.24212551e+00\n",
      "  1.02053843e+01  3.34658012e+01  8.86771488e+00  2.45871067e+00\n",
      "  1.15273504e+01  1.32377596e+01  3.44747877e+00  4.06597977e+01\n",
      "  5.92095613e+00  3.30645943e+01  1.44254141e+01  1.30195439e+00\n",
      "  2.02043476e+01  1.49456940e+01  3.30258816e-01  7.16781855e+00\n",
      "  3.08021355e+01  1.06399560e+00  3.44638658e+00  4.53855133e+00\n",
      "  1.78905411e+01  8.98679924e+00 -2.15380415e-01  2.87003899e+00\n",
      "  7.90813780e+00  3.87111969e+01  3.28845863e+01  1.49182014e+01\n",
      "  1.96803069e+00  2.14281344e+00  2.58444524e+00 -7.88152647e+00\n",
      " -1.19467173e+01  1.84391613e+01  2.16804199e+01  2.61429806e+01\n",
      "  4.22148781e+01  7.62918830e-01  3.60763621e+00  4.51668882e+00\n",
      "  2.28807278e+01  2.07200413e+01  5.75570679e+00  1.45523853e+01\n",
      "  3.07231212e+00 -7.23710442e+00 -7.28180110e-01  1.66889465e+00\n",
      "  2.69379063e+01 -5.69751215e+00  2.48030901e+00  4.10760612e+01\n",
      " -8.47727489e+00  2.88566017e+01 -4.29096794e+00  1.78783739e+00\n",
      " -7.28573418e+00  4.27589083e+00  9.27785492e+00  1.42124062e+01\n",
      "  9.71597290e+00  1.87405396e+01 -5.83088589e+00  4.92653561e+00\n",
      "  3.11056805e+01  8.10547447e+00  1.79327655e+00  1.97099361e+01\n",
      " -2.65266085e+00  4.34295464e+01  6.45136118e+00  4.95413685e+00\n",
      "  2.44581223e+01  1.69402790e+01  2.28004360e+00 -1.01802003e+00\n",
      "  2.95458775e+01  5.39242649e+00  7.16896439e+00  1.29515162e+01\n",
      "  1.51538599e+00  2.26629467e+01  1.92368469e+01  2.40397811e+00\n",
      "  1.43897700e+00 -1.14559422e+01  7.64767361e+00 -2.24267960e+01\n",
      " -8.23052406e+00 -6.67316294e+00  3.79659200e+00 -6.69683504e+00\n",
      "  3.48321629e+00 -5.93273735e+00  1.80699325e+00 -1.26849022e+01\n",
      " -6.14959717e+00 -3.69552493e+00 -5.09022331e+00 -8.33610249e+00\n",
      " -4.53227234e+00 -3.14728332e+00 -5.09761715e+00  4.56826544e+00\n",
      " -4.61849594e+00 -3.76674294e+00  7.83873320e-01 -1.52310205e+00\n",
      " -3.84256697e+00 -1.46396904e+01  2.71176577e+00 -2.07992916e+01\n",
      " -2.69244328e+01 -4.08540344e+00  8.56218338e-01  1.76240098e+00\n",
      " -4.83876991e+00 -8.74947667e-01 -2.12269402e+01 -9.49717236e+00\n",
      " -5.34174442e+00 -6.09220839e+00 -7.29443550e+00 -2.31307149e+00\n",
      " -6.38578892e+00  3.80778384e+00 -7.57892990e+00 -7.27380562e+00\n",
      "  2.47567964e+00 -1.31949873e+01 -1.12115431e+01 -2.36790371e+01\n",
      " -6.07293272e+00 -4.53876352e+00 -7.18763113e+00 -3.31606126e+00\n",
      "  5.35546684e+00  6.41481757e-01 -2.08776140e+00 -1.58168435e+00\n",
      " -6.28563118e+00 -8.52984524e+00 -7.20653629e+00 -1.36998377e+01\n",
      "  8.20870161e-01 -9.89089870e+00  2.53654981e+00 -1.26787319e+01\n",
      " -3.78788066e+00  5.71946859e-01 -1.38841686e+01 -2.48436475e+00\n",
      " -3.35847163e+00 -1.41665831e+01  3.16964447e-01 -2.35995407e+01\n",
      " -2.68621407e+01 -7.07064331e-01 -6.85420465e+00  5.59279013e+00\n",
      " -1.62601662e+01  2.26089907e+00 -1.11058969e+01 -6.46903753e+00\n",
      " -5.91332483e+00 -3.82861400e+00 -1.30187225e+01 -2.22593474e+00\n",
      " -1.69143391e+00  2.52490854e+00 -2.66700001e+01 -2.32662716e+01\n",
      " -1.46855297e+01  3.74378681e+00  1.73914444e+00  2.29379392e+00\n",
      " -2.68884182e+00  7.14823580e+00 -1.08552241e+00 -1.29246569e+00\n",
      " -4.58433151e+00  9.53010976e-01 -3.32890265e-02 -2.21000690e+01\n",
      " -2.03555179e+00 -2.23780937e+01 -2.59756680e+01  2.89164519e+00\n",
      " -2.76132369e+00 -1.06070480e+01  5.18586540e+00  1.41549587e+01\n",
      " -5.20549774e+00  1.94669151e+00 -1.14674605e-01  3.42521518e-02\n",
      "  8.89026344e-01 -3.20465012e+01 -3.92375708e+00 -8.80047321e+00\n",
      " -4.51815844e+00 -8.24109077e+00 -1.79486446e+01  2.71530819e+00\n",
      "  1.07627356e+00 -2.12867880e+00 -1.31881895e+01 -5.43093824e+00\n",
      "  3.71511674e+00 -9.68540859e+00 -7.21401596e+00 -4.43240738e+00\n",
      " -3.24246178e+01 -1.83014429e+00 -1.20557795e+01  3.06060958e+00\n",
      "  2.70078778e+00 -2.05593377e-01  4.98894835e+00 -4.18908074e-02\n",
      "  1.24962008e+00 -4.50820732e+00 -2.46226978e+01 -4.22701359e+00\n",
      " -1.55004752e+00  1.59099054e+00 -4.79612827e+00 -3.97966099e+00\n",
      " -4.70936966e+00  9.66500714e-02  1.48791587e+00  2.75061369e+00\n",
      " -5.07180262e+00 -1.22119689e+00 -8.00439548e+00  1.09572754e+01\n",
      " -8.21534348e+00  1.24288630e+00  4.42950487e+00 -2.30189056e+01\n",
      " -1.96860180e+01 -2.63806653e+00 -1.13270350e+01 -1.50574994e+00\n",
      " -8.07543755e+00 -6.70316267e+00  1.14917755e+01  7.05769062e-01\n",
      " -3.79189062e+00 -4.56924486e+00 -1.36315975e+01  7.57888794e-01\n",
      " -2.30383658e+00 -6.35628891e+00 -5.06186056e+00  4.51645017e-01\n",
      " -5.69284499e-01  2.93789029e-01  2.64071226e+00 -3.88702059e+00\n",
      " -2.66916313e+01 -1.32980394e+00 -6.99043465e+00 -3.05802631e+00\n",
      "  1.76805854e+00 -3.39444220e-01  2.32676578e+00  6.75049973e+00\n",
      "  4.02940702e+00 -2.31358070e+01 -7.82237339e+00 -1.01529875e+01\n",
      " -5.69111776e+00 -2.89458752e+00 -1.97182655e+00 -2.56452584e+00\n",
      " -6.55046129e+00 -2.08754196e+01  5.47614574e+00 -2.29955654e+01\n",
      " -4.45058918e+00  7.13279915e+00 -4.14842415e+00 -6.00857544e+00\n",
      " -3.54809165e+00 -1.35018559e+01  1.27446985e+00 -1.37494251e-01\n",
      " -1.02970963e+01 -4.42154837e+00 -1.15660505e+01  8.31662357e-01\n",
      " -1.70981426e+01  7.29218185e-01 -6.42313433e+00 -1.13239079e+01\n",
      " -1.20252743e+01 -1.64571228e+01 -1.28396482e+01 -1.15102749e+01\n",
      "  5.09831762e+00  4.87851590e-01 -1.23103981e+01 -1.38416421e+00\n",
      " -1.71517402e-01  1.56648493e+00  4.60157061e+00  1.50114310e+00\n",
      "  2.16974282e+00 -2.17215614e+01 -1.18359509e+01 -4.25807228e+01\n",
      " -1.49921408e+01  1.58441043e+00 -1.45075512e+01 -2.19640217e+01\n",
      " -2.90261230e+01 -1.01284008e+01 -4.05471373e+00 -3.04454002e+01\n",
      "  9.43186283e+00 -5.52332687e+00 -1.36628561e+01  1.36064184e+00\n",
      " -1.58249068e+00 -2.80134201e+00 -4.38354492e+01 -2.66932144e+01\n",
      " -1.69758205e+01  1.27845871e+00 -7.46607900e-01 -1.01361036e+01\n",
      " -1.12150025e+00 -3.20340067e-01 -2.35980091e+01  2.47523928e+00\n",
      " -2.01099300e+01 -3.79381967e+00 -4.83613129e+01  4.86855316e+00\n",
      " -2.05635471e+01 -3.68629379e+01 -2.49782829e+01 -7.74803972e+00\n",
      " -1.00387211e+01 -1.70035973e+01  2.45454082e+01 -1.72729814e+00\n",
      " -9.79947090e+00  4.53498793e+00 -2.14872527e+00 -3.80153871e+00\n",
      " -2.24448109e+01 -9.52203560e+00 -3.12330723e+01  1.05627596e+00\n",
      " -3.40548439e+01 -1.17136078e+01 -4.38798189e+00 -1.38226004e+01\n",
      " -7.59347630e+00 -9.56872654e+00 -2.07021027e+01 -7.56913328e+00\n",
      " -8.04778397e-01  9.71387386e-01  1.68862060e-01 -4.05214787e+00\n",
      " -5.10500765e+00 -1.44173133e+00 -1.52304764e+01 -1.25875120e+01\n",
      " -1.07001581e+01 -6.58107758e+00 -5.15413284e+00 -1.07623940e+01\n",
      "  6.81934357e-01 -1.34916008e+00 -3.52301369e+01 -1.20879660e+01\n",
      "  1.11987839e+01 -5.93263578e+00  5.44334221e+00  8.20956707e+00\n",
      " -4.17597294e-01 -6.79779816e+00 -2.19367180e+01 -2.80253868e+01\n",
      " -4.26479101e+00 -1.49192362e+01 -2.14505901e+01 -3.26418610e+01\n",
      "  1.01806650e+01 -7.34310770e+00 -8.91320038e+00  2.60168362e+01\n",
      "  8.06610966e+00 -4.33674736e+01 -2.66049500e+01 -8.40448475e+00\n",
      " -2.91149101e+01 -8.70974541e+00 -3.55438781e+00  8.26374912e+00\n",
      " -1.12392731e+01  1.96367779e+01 -2.76466599e+01 -9.86451149e+00\n",
      " -1.42313328e+01 -5.26537943e+00  5.57597399e-01 -1.11258335e+01\n",
      " -1.78477478e+00 -4.19921875e+01 -7.45448542e+00 -2.47237587e+01\n",
      " -6.27252054e+00 -1.54634762e+01  9.90701962e+00 -6.22268140e-01\n",
      " -2.70433083e+01 -8.16591549e+00]' has dtype incompatible with int64, please explicitly cast to a compatible dtype first.\n",
      "  preds[val_index] = model.predict(dval_i)\n"
     ]
    },
    {
     "name": "stderr",
     "output_type": "stream",
     "text": [
      "\r",
      " 90%|█████████████████████████████████████████████████████████████████████████████████████████████████████████████████████████████████████▏              | 9/10 [04:43<00:32, 32.62s/it]"
     ]
    },
    {
     "name": "stderr",
     "output_type": "stream",
     "text": [
      "C:\\Users\\81809\\AppData\\Local\\Temp\\ipykernel_9440\\3386215446.py:18: FutureWarning: Setting an item of incompatible dtype is deprecated and will raise an error in a future version of pandas. Value '[ 3.67243528e+00  1.51888580e+01 -3.84779334e+00  1.34647408e+01\n",
      "  2.16078892e+01  1.10852265e+00  4.51537466e+00 -5.88818645e+00\n",
      "  3.44019437e+00 -7.43957663e+00 -1.37936723e+00  1.86870308e+01\n",
      "  2.55150814e+01  3.94794136e-01  1.65999258e+00  1.33771825e+00\n",
      "  1.87431467e+00  8.34821701e+00  1.48663640e+00  9.46331382e-01\n",
      "  1.70570052e+00  3.49461794e+00  2.55478144e+00  4.25268650e+00\n",
      "  3.02514672e+00  4.52149928e-01  7.97954178e+00 -3.25779939e+00\n",
      "  9.28265572e+00 -1.62019360e+00 -2.97803521e+00  5.08201408e+00\n",
      " -2.47482046e-01  2.63637238e+01  1.58351049e+01 -2.68280506e-01\n",
      "  7.40012228e-01 -1.90473711e+00 -2.67915893e+00  7.11736488e+00\n",
      "  8.90515804e+00 -9.69120860e-01  2.67603564e+00 -4.45887136e+00\n",
      "  6.27698183e-01 -9.05632114e+00  4.16606617e+00  1.78740616e+01\n",
      "  7.38884115e+00 -6.91035223e+00  7.19614840e+00 -3.43318200e+00\n",
      "  6.14216089e+00 -1.14144996e-01 -9.12190914e-01  2.51068592e+00\n",
      " -3.69449878e+00  9.93918228e+00  2.39633980e+01  1.49130087e+01\n",
      "  6.75734901e+00  1.99237251e+00  3.36353374e+00  1.57691402e+01\n",
      "  3.68574762e+00 -1.37897360e+00  2.71503329e+00  5.15851021e+00\n",
      "  6.22358036e+00  1.87835484e+01  5.69364405e+00  1.43630528e+00\n",
      "  8.57886314e+00  4.20612717e+00 -5.00115395e-01  5.88856077e+00\n",
      "  2.41547642e+01  1.07382798e+00 -3.07670212e+00  2.31430459e+00\n",
      "  3.24551272e+00 -2.50400567e+00  7.91500092e+00  2.78904486e+00\n",
      "  1.86774981e+00  1.11533651e+01  2.69700718e+01  8.41959381e+00\n",
      "  1.21241846e+01 -1.07735157e+01 -5.20769358e+00  2.18513393e+00\n",
      "  2.12371578e+01 -2.48516178e+00  3.37771654e+00  5.87600231e+00\n",
      "  1.26287699e+01  5.10190248e-01  5.32331181e+00 -5.79003477e+00\n",
      "  2.64914346e+00  1.31674414e+01 -1.00062304e+01 -6.13319969e+00\n",
      "  1.03445330e+01  8.06774902e+00  1.45089972e+00  2.88035870e+00\n",
      " -2.97561908e+00  4.49989939e+00 -1.89099804e-01 -7.95526922e-01\n",
      "  2.00103588e+01  1.50885963e+01  1.92088871e+01  5.14714956e+00\n",
      "  8.47995341e-01 -1.53578119e+01  5.65420485e+00 -1.95743048e+00\n",
      " -2.36931372e+00  9.18635178e+00 -6.27331305e+00 -2.80233443e-01\n",
      "  2.42972889e+01  6.72143793e+00  4.19297457e+00 -7.80795956e+00\n",
      "  8.59067500e-01 -2.80853897e-01  1.31134735e-02  3.83274603e+00\n",
      "  5.74816179e+00  3.67326327e-02  7.16171837e+00 -2.32677054e+00\n",
      "  1.03233843e+01  1.54613581e+01  2.50376791e-01  1.63495386e+00\n",
      "  1.24780583e+00 -3.23088408e+00 -6.29425049e+00  1.62751406e-01\n",
      " -2.15610266e+00 -1.55713117e+00  2.71145791e-01  1.52630997e+01\n",
      "  1.09383526e+01  3.18344378e+00 -1.16650190e+01  6.83274794e+00\n",
      "  5.48521805e+00  5.22497177e+00 -6.94295597e+00  3.49589229e-01\n",
      "  4.47234678e+00  3.04337978e+00 -8.07144642e+00  1.11811054e+00\n",
      "  4.28279734e+00 -4.14990044e+00  2.17671371e+00  4.79036474e+00\n",
      " -6.01199675e+00 -2.02915716e+00  1.16855502e+00 -3.02336192e+00\n",
      "  2.32606945e+01  9.19522095e+00 -4.72831869e+00 -6.93621063e+00\n",
      "  5.26601458e+00 -1.84202404e+01 -3.03507900e+00  2.18208675e+01\n",
      " -3.28769755e+00  1.91480579e+01  1.60066807e+00  1.10569611e+01\n",
      "  5.45949984e+00  8.29205418e+00  4.44128561e+00  3.25068378e+00\n",
      " -2.47671938e+00 -6.74539879e-02  7.84776974e+00  3.01604843e+00\n",
      "  1.02354078e+01  2.13082981e+01  3.78615141e+00 -4.66400909e+00\n",
      " -3.89833498e+00 -2.78584152e-01  1.43036280e+01 -5.33955991e-01\n",
      "  4.84954977e+00  3.37431878e-01  1.60119286e+01  6.37419319e+00\n",
      "  9.17926121e+00  1.01617336e+01  2.14978313e+01 -3.92309695e-01\n",
      " -1.72673845e+00  2.05242276e+00  1.68142204e+01 -2.24573917e+01\n",
      "  5.54578304e+00  4.33329105e+00  6.46263933e+00 -4.68269873e+00\n",
      "  3.87029219e+00  4.45858479e+00 -3.45170951e+00 -1.66401386e+00\n",
      "  4.45613432e+00  4.74733543e+00  2.64503628e-01  1.10770142e+00\n",
      " -3.51535749e+00  1.17478952e+01  2.79489374e+00  1.98794804e+01\n",
      "  2.59874134e+01 -1.66598308e+00 -2.07093284e-02  1.00663967e+01\n",
      "  2.82340437e-01 -3.26317453e+00  9.90929604e+00  1.73048019e+01\n",
      "  5.56831980e+00  1.94669056e+01  2.91102743e+00  5.28330183e+00\n",
      "  2.86100936e+00  1.01783514e+01  4.45143852e+01  2.66175327e+01\n",
      " -3.91410160e+00  2.09887295e+01 -1.55054414e+00  5.01508570e+00\n",
      "  1.49533606e+01  2.13080463e+01 -8.01078796e+00 -4.05394554e+00\n",
      "  7.62930870e+00 -2.42077041e+00  3.54580231e+01  2.76046619e+01\n",
      "  6.71346784e-01  3.55399704e+01  1.38196964e+01  4.06709623e+00\n",
      "  2.08133183e+01 -6.04681587e+00 -6.32831526e+00  1.99799614e+01\n",
      "  8.25385761e+00  1.35674965e+00  4.05756302e+01  9.03101504e-01\n",
      "  2.45129013e+01 -1.27242708e+01  3.41361580e+01  3.46288234e-01\n",
      "  2.23519731e+00  1.68021622e+01  4.95067883e+00  1.55713053e+01\n",
      " -4.97193956e+00 -5.30804515e-01  1.52998152e+01  1.29340963e+01\n",
      " -7.66624093e-01  1.35153036e+01 -2.97318172e+00  7.76053333e+00\n",
      "  7.60685015e+00  4.04689217e+00  2.92566509e+01  2.31227188e+01\n",
      " -5.44976854e+00  1.56140070e+01 -2.26591736e-01 -4.99512386e+00\n",
      " -9.53504467e+00 -9.36168253e-01  1.07426138e+01  2.73856378e+00\n",
      " -5.18445635e+00  1.54155636e+01 -4.81860065e+00  2.30100632e+01\n",
      " -4.81511021e+00  2.12863040e+00  2.90582047e+01  1.32409201e+01\n",
      "  1.85907757e+00 -8.92521095e+00  9.49408889e-01  9.78851509e+00\n",
      "  2.82027988e+01 -3.08086723e-01 -8.36053371e+00 -1.12538576e+00\n",
      "  7.05010271e+00  6.22347403e+00  3.30287576e+00  1.72467842e+01\n",
      "  9.44235229e+00  1.01411209e+01 -4.24718903e-03  2.91758595e+01\n",
      "  1.10556021e+01 -3.88280678e+00  4.89895668e+01  2.32564878e+00\n",
      " -4.51340723e+00  3.62580338e+01 -4.68872452e+00  3.23790932e+01\n",
      "  1.59445596e+00  5.72249126e+00 -1.01314211e+00  2.39955139e+01\n",
      "  7.63462925e+00  1.13760185e+01  2.15526199e+01  6.80124998e+00\n",
      "  2.34773598e+01  3.49248428e+01  6.50062895e+00  9.92538691e-01\n",
      "  2.91610489e+01 -2.47619667e+01 -9.96285975e-01  2.78795395e+01\n",
      "  1.02951880e+01  2.14822788e+01  3.89405746e+01  2.27175274e+01\n",
      "  2.72204161e+00  1.46047697e+01  1.77528381e+01 -5.44683552e+00\n",
      "  8.94901752e+00  2.13600197e+01  3.05293350e+01  7.93107033e+00\n",
      "  1.60083618e+01  4.72203207e+00 -2.23064208e+00  2.57293644e+01\n",
      "  3.00770550e+01  1.89431816e-01 -7.17431402e+00  1.45332074e+00\n",
      "  6.78405142e+00  4.21455050e+00  1.02433491e+01 -4.74340916e+00\n",
      "  1.01839364e+00 -1.65399303e+01 -2.11054077e+01 -1.10835876e+01\n",
      "  2.69350290e+00 -1.15178843e+01 -3.72967362e+00 -2.44022446e+01\n",
      "  5.33062315e+00 -6.73157597e+00 -4.34695578e+00  3.39259934e+00\n",
      " -4.64479017e+00  3.31037927e+00 -6.77225399e+00 -3.23745441e+00\n",
      "  2.97180820e+00 -1.41678295e+01 -8.73949814e+00 -1.65607681e+01\n",
      " -8.46326637e+00 -4.63869333e+00  5.01939058e+00  3.11388540e+00\n",
      " -7.53478718e+00 -9.84540653e+00 -4.38985252e+00 -6.82564640e+00\n",
      " -3.77626419e+00 -5.63762140e+00 -8.32764530e+00  4.08049488e+00\n",
      " -4.53202581e+00  2.36807466e+00 -5.57608891e+00  8.61110389e-01\n",
      "  4.00106859e+00  9.75174904e+00 -4.22177410e+00 -2.07965908e+01\n",
      " -2.28641186e+01  2.07799816e+00 -2.04567099e+00  2.39010286e+00\n",
      "  4.83966208e+00 -9.54110241e+00 -4.07646132e+00 -4.74166298e+00\n",
      "  2.82427907e+00 -1.90998688e+01  2.28269267e+00 -1.02998867e+01\n",
      " -1.43699760e+01  9.36352253e+00 -4.35637999e+00 -4.08723307e+00\n",
      " -5.32096815e+00  3.68523550e+00 -9.29831028e+00 -2.06648493e+00\n",
      " -8.11320019e+00 -4.30509377e+00 -6.48848951e-01 -2.60553861e+00\n",
      " -2.80968552e+01 -1.72429962e+01  6.29445934e+00 -8.79625893e+00\n",
      "  5.22909880e+00 -2.35817108e+01 -7.99044943e+00 -1.54511535e+00\n",
      " -1.73246632e+01  1.96543968e+00 -1.62313538e+01 -1.01616211e+01\n",
      " -1.58614807e+01 -8.45467567e+00 -4.89673471e+00 -4.42962980e+00\n",
      " -5.28219700e+00 -4.06403399e+00 -2.05599060e+01 -2.37716603e+00\n",
      " -6.81835842e+00 -3.36104393e+00  3.08607554e+00 -1.47142210e+01\n",
      "  2.76065564e+00 -3.22448325e+00 -5.68572712e+00  5.20202637e+00\n",
      " -7.91649103e+00 -1.60391414e+00  1.17640758e+00  5.91480827e+00\n",
      " -2.50137539e+01  7.32054949e-01 -1.77747326e+01  5.63839960e+00\n",
      " -8.76989746e+00 -2.56007004e+00 -1.16780987e+01 -5.35248613e+00\n",
      "  1.42256141e-01 -5.62426329e+00  5.69538927e+00 -8.94833088e+00\n",
      " -4.90267843e-01 -9.20310020e+00  3.35141659e-01 -7.11472511e+00\n",
      " -1.95110905e+00 -3.12592649e+00  3.91953677e-01 -7.69271421e+00\n",
      "  1.10131383e+00  1.26856146e+01  4.88076878e+00  5.83366442e+00\n",
      " -4.64015579e+00 -6.41605520e+00 -1.91975510e+00  2.62005901e+00\n",
      " -7.57465482e-01 -4.48581219e+00 -1.85420179e+00 -5.71381330e+00\n",
      " -2.05337925e+01 -1.44682846e+01 -3.09471345e+00 -3.97994328e+00\n",
      "  6.61321640e+00 -2.76203346e+00 -6.74956703e+00  3.41073275e-02\n",
      "  1.71805072e+00 -9.90110111e+00  6.32468343e-01  3.99723697e+00\n",
      " -1.33727722e+01 -1.19939632e+01 -3.78250456e+00  1.13599787e+01\n",
      " -4.76849842e+00 -1.37581177e+01  5.93718290e-01 -1.01914845e+01\n",
      "  2.88239098e+00 -4.88848984e-01 -5.58566475e+00 -1.52648764e+01\n",
      "  4.35950327e+00 -5.20645142e+00  2.58175761e-01 -1.76926460e+01\n",
      " -3.01411176e+00  5.91979551e+00 -3.22150826e+00 -8.39402962e+00\n",
      " -7.37889707e-01 -1.66530028e-01  1.78051198e+00  7.15516853e+00\n",
      " -1.35183144e+00  4.52300215e+00 -2.25855846e+01 -2.67506447e+01\n",
      " -1.59080133e+01 -2.12838478e+01  1.42136395e+00  2.05608364e-02\n",
      " -4.32962704e+00 -1.38109751e+01 -5.17039061e+00 -1.21419134e+01\n",
      " -7.52950668e-01 -7.84812212e+00 -1.60487328e+01  2.30021000e+00\n",
      " -5.19097042e+00  3.12146497e+00 -8.72624493e+00 -3.94044971e+00\n",
      " -1.77707672e+01 -1.70192757e+01  1.94842494e+00 -5.08967733e+00\n",
      "  6.31392527e+00 -1.38163033e+01  1.29548383e+00 -2.51150489e-01\n",
      " -1.51626434e+01 -1.85766678e+01  2.96910000e+00 -2.85297241e+01\n",
      " -1.37810745e+01  5.85546970e+00  9.51392710e-01 -6.60653114e+00\n",
      " -1.17916498e+01  7.65608406e+00 -1.76389370e+01 -1.89748211e+01\n",
      " -5.52541924e+00 -9.80977833e-01  2.56925344e+00 -2.68756218e+01\n",
      " -6.68810272e+00  2.42410541e+00 -4.10729313e+00 -8.13600349e+00\n",
      " -3.95422220e+00 -1.13681717e+01 -3.72286720e+01  1.38200979e+01\n",
      " -5.08916235e+00  9.86658001e+00 -5.89952374e+00 -1.72535000e+01\n",
      " -1.49834604e+01 -1.32871962e+01 -9.70101738e+00 -7.78645802e+00\n",
      " -5.16396904e+00 -2.64739571e+01 -8.31868935e+00  1.77757382e-01\n",
      " -1.53124847e+01  2.48889637e+00 -1.98975220e+01 -1.37333751e+00\n",
      " -2.06807632e+01 -2.60875435e+01  7.10343933e+00 -2.14206429e+01\n",
      " -3.78412890e+00 -3.30547638e+01 -1.32207460e+01 -3.63673935e+01\n",
      " -1.64425778e+00  9.36468983e+00  1.67155476e+01 -2.56935806e+01\n",
      " -1.58291311e+01 -1.59825287e+01 -1.15648327e+01 -6.88515902e+00\n",
      " -8.26678085e+00 -3.31761284e+01 -3.69601440e+01  2.94235396e+00\n",
      " -2.70049419e+01  4.53418106e-01 -1.02152500e+01 -3.16274967e+01\n",
      " -6.34526682e+00  8.35988104e-01 -2.88528175e+01 -1.20462286e+00\n",
      " -2.20913620e+01 -1.45528259e+01  2.62865931e-01 -1.54536762e+01\n",
      " -1.11940994e+01 -6.17566633e+00 -1.32534516e+00  5.20286512e+00\n",
      " -1.26731606e+01 -6.01060241e-02 -3.67083502e+00 -2.22472095e+01\n",
      "  5.25461245e+00 -4.44959068e+01 -1.11133871e+01 -2.35380793e+00\n",
      " -1.23486595e+01 -3.41709566e+00 -1.00729525e+00 -1.50871677e+01\n",
      " -5.26722813e+00 -6.05989981e+00 -1.58016777e+01 -6.55787277e+00\n",
      " -2.36789055e+01 -4.93231583e+01 -2.29869157e-01 -1.88972588e+01\n",
      " -3.11861682e+00 -1.04257498e+01  1.99856758e+01 -8.25970554e+00\n",
      " -7.69462729e+00 -3.28681030e+01 -3.29159927e+01 -2.73563805e+01\n",
      "  1.12463498e+00 -2.93787956e+01  3.86474943e+00 -4.83850574e+00\n",
      " -4.93592978e+00 -2.00138779e+01 -4.79773664e+00 -5.69485331e+00\n",
      "  1.57407932e+01  9.84643173e+00 -8.29535198e+00  2.63760452e+01\n",
      " -2.99493313e+00 -3.36688347e+01 -3.17194271e+01 -4.64859676e+00\n",
      "  4.27218151e+00  1.00465822e+01 -2.58754368e+01  2.36563230e+00\n",
      " -1.87033157e+01 -3.11115799e+01 -3.62828302e+00 -2.03962193e+01\n",
      " -1.29623709e+01 -4.13796663e+00  1.39526634e+01  7.47789812e+00\n",
      " -1.76438293e+01 -3.10452461e+01 -1.05765171e+01 -7.09264803e+00\n",
      " -1.60671978e+01 -2.42084694e+01 -1.69098186e+01  4.63165188e+00\n",
      "  2.02230215e-01 -2.62507324e+01]' has dtype incompatible with int64, please explicitly cast to a compatible dtype first.\n",
      "  preds[val_index] = model.predict(dval_i)\n"
     ]
    },
    {
     "name": "stderr",
     "output_type": "stream",
     "text": [
      "\r",
      "100%|███████████████████████████████████████████████████████████████████████████████████████████████████████████████████████████████████████████████████| 10/10 [05:11<00:00, 31.21s/it]"
     ]
    },
    {
     "name": "stderr",
     "output_type": "stream",
     "text": [
      "\r",
      "100%|███████████████████████████████████████████████████████████████████████████████████████████████████████████████████████████████████████████████████| 10/10 [05:11<00:00, 31.18s/it]"
     ]
    },
    {
     "name": "stdout",
     "output_type": "stream",
     "text": [
      "OOF predictions complete\n"
     ]
    },
    {
     "name": "stderr",
     "output_type": "stream",
     "text": [
      "\n"
     ]
    }
   ],
   "source": [
    "# OOF予測\n",
    "oof_preds = []\n",
    "for i in tqdm(range(repeat_cv), leave=True, dynamic_ncols=True):\n",
    "    # 初期はターゲットの値で初期化（後で上書き）\n",
    "    preds = y.copy()\n",
    "    # 各 repeater 毎に独自の KFold を用いる（random_state = i）\n",
    "    kfold = KFold(n_splits=folds_splits, shuffle=True, random_state=i)    \n",
    "    for train_index, val_index in kfold.split(X, y):\n",
    "        dtrain_i = xgb.DMatrix(X.iloc[train_index], label=y.iloc[train_index])\n",
    "        dval_i   = xgb.DMatrix(X.iloc[val_index], label=y.iloc[val_index])\n",
    "\n",
    "        model = xgb.train(\n",
    "            params=param,\n",
    "            dtrain=dtrain_i,\n",
    "            num_boost_round=iteration_counts[i],\n",
    "            verbose_eval=50\n",
    "        )\n",
    "        preds[val_index] = model.predict(dval_i)\n",
    "    # 予測値を -30 ～ 30 にクリップ\n",
    "    oof_preds.append(np.clip(preds, -30, 30))\n",
    "\n",
    "print(\"OOF predictions complete\")"
   ]
  },
  {
   "cell_type": "code",
   "execution_count": 24,
   "id": "baa33ac9",
   "metadata": {
    "execution": {
     "iopub.execute_input": "2025-03-12T13:07:07.967742Z",
     "iopub.status.busy": "2025-03-12T13:07:07.967742Z",
     "iopub.status.idle": "2025-03-12T13:07:08.072365Z",
     "shell.execute_reply": "2025-03-12T13:07:08.072365Z"
    },
    "papermill": {
     "duration": 0.1288,
     "end_time": "2025-03-12T13:07:08.072365",
     "exception": false,
     "start_time": "2025-03-12T13:07:07.943565",
     "status": "completed"
    },
    "tags": []
   },
   "outputs": [
    {
     "data": {
      "text/plain": [
       "<Axes: >"
      ]
     },
     "execution_count": 24,
     "metadata": {},
     "output_type": "execute_result"
    },
    {
     "data": {
      "image/png": "[encoded data removed]",
      "text/plain": [
       "<Figure size 640x480 with 1 Axes>"
      ]
     },
     "metadata": {},
     "output_type": "display_data"
    }
   ],
   "source": [
    "oof_preds[0].hist()"
   ]
  },
  {
   "cell_type": "code",
   "execution_count": 25,
   "id": "ab80a8f6",
   "metadata": {
    "execution": {
     "iopub.execute_input": "2025-03-12T13:07:08.100908Z",
     "iopub.status.busy": "2025-03-12T13:07:08.100908Z",
     "iopub.status.idle": "2025-03-12T13:07:08.131451Z",
     "shell.execute_reply": "2025-03-12T13:07:08.130903Z"
    },
    "papermill": {
     "duration": 0.044419,
     "end_time": "2025-03-12T13:07:08.133464",
     "exception": false,
     "start_time": "2025-03-12T13:07:08.089045",
     "status": "completed"
    },
    "tags": []
   },
   "outputs": [],
   "source": [
    "### simple spline, seed(1, 16)~(4, 13)は強制的にfiltaring,  \n",
    "### seed値に対応して予測スコアも同じ大小関係なら1or0に変換の3モデル\n",
    "def cal_logloss(pred_vals, y, i):\n",
    "    y_binary = np.where(y > 0, 1, 0)\n",
    "    loss = log_loss(y_binary, pred_vals)\n",
    "    print(f\"logloss of cvsplit {i}: {loss:.4f}\")\n",
    "\n",
    "\n",
    "    results.append(f\"Normal Spline - logloss of cvsplit {i}: {loss:.4f}\")\n",
    "    return loss\n",
    "\n",
    "#simple spline\n",
    "def make_normal_spline(df, y, repeat_cv):\n",
    "    spline_model1 = []\n",
    "    logloss_normal = []\n",
    "    \n",
    "    for i in range(repeat_cv):\n",
    "        dat = list(zip(df[i], np.where(y>0, 1, 0)))\n",
    "        dat = sorted(dat, key=lambda x:x[0])\n",
    "        datdict = {}\n",
    "        for k in range(len(dat)):\n",
    "            datdict[dat[k][0]] = dat[k][1]\n",
    "        \n",
    "        spline_model1.append(UnivariateSpline(list(datdict.keys()), list(datdict.values())))\n",
    "        spline_fit = spline_model1[i](df[i])\n",
    "        \n",
    "        loss = cal_logloss(spline_fit, y, i)    \n",
    "        logloss_normal.append(loss)\n",
    "\n",
    "    plot_df = pd.DataFrame({\n",
    "        \"pred\": df[0],\n",
    "        \"label\": np.where(y>0,1,0),\n",
    "        \"spline\": spline_model1[0](df[0])\n",
    "    })\n",
    "    plot_df[\"pred_int\"] = plot_df[\"pred\"].astype(int)\n",
    "    plot_df = plot_df.groupby('pred_int')[['spline','label']].mean().reset_index()\n",
    "    \n",
    "    plt.figure(figsize=(8, 5))\n",
    "    plt.plot(plot_df.pred_int, plot_df.label, marker='o', linestyle='-', label=\"True Label\")\n",
    "    plt.plot(plot_df.pred_int, plot_df.spline, marker='x', linestyle='--', label=\"Spline Approximation\")\n",
    "    plt.xlabel(\"Predicted Value (Integer)\")\n",
    "    plt.ylabel(\"Mean Value\")\n",
    "    plt.title(\"Normal Spline Fit Comparison\")\n",
    "    plt.legend()\n",
    "    plt.grid(True)\n",
    "    plt.savefig(os.path.join(OUTPUT_PATH, f\"normal_spline_fit_{PREDICT_YEAR}.png\"))\n",
    "    plt.close()\n",
    "    \n",
    "    \n",
    "    # 例として平均loglossもresultsに記録\n",
    "    avg_logloss = np.mean(logloss_normal) \n",
    "    results.append(f\"Average Normal Spline logloss: {avg_logloss:.4f}\" if avg_logloss is not None else \"No logloss computed\")\n",
    "    \n",
    "    return spline_model1\n",
    "            \n",
    "            \n",
    "#seed(1, 16)~(4, 13)は強制的にseed通りの結果にフィルタリング\n",
    "def make_seed1to4_chenge(df, y, repeat_cv):\n",
    "    spline_model2 = []\n",
    "    spline_fits = []\n",
    "    for i in range(repeat_cv):\n",
    "        dat = list(zip(df[i], np.where(y>0, 1, 0)))\n",
    "        dat = sorted(dat, key=lambda x:x[0])\n",
    "        datdict = {}\n",
    "        for k in range(len(dat)):\n",
    "            datdict[dat[k][0]] = dat[k][1]\n",
    "        \n",
    "        spline_model2.append(UnivariateSpline(list(datdict.keys()), list(datdict.values())))\n",
    "        spline_fit = spline_model2[i](df[i]) \n",
    "        \n",
    "        #add\n",
    "        spline_fit[(X.T1_seed==1) & (X.T2_seed==16)] = 1.0\n",
    "        spline_fit[(X.T1_seed==2) & (X.T2_seed==15)] = 0.9\n",
    "        spline_fit[(X.T1_seed==3) & (X.T2_seed==14)] = 0.8\n",
    "        spline_fit[(X.T1_seed==4) & (X.T2_seed==13)] = 0.7\n",
    "        spline_fit[(X.T1_seed==16) & (X.T2_seed==1)] = 0.0\n",
    "        spline_fit[(X.T1_seed==15) & (X.T2_seed==2)] = 0.1\n",
    "        spline_fit[(X.T1_seed==14) & (X.T2_seed==3)] = 0.2\n",
    "        spline_fit[(X.T1_seed==13) & (X.T2_seed==4)] = 0.3\n",
    "\n",
    "    \n",
    "        cal_logloss(spline_fit, y, i)   \n",
    "                \n",
    "        spline_fits.append(spline_fit)\n",
    "        cal_logloss(spline_fit, y, i)   \n",
    "                \n",
    "    \n",
    "    plot_df = pd.DataFrame({\n",
    "        \"pred\": df[0],\n",
    "        \"label\": np.where(y > 0, 1, 0),\n",
    "        \"spline\": spline_fits[0]  # 変更後の値を利用\n",
    "    })\n",
    "    plot_df[\"pred_int\"] = plot_df[\"pred\"].astype(int)\n",
    "    plot_df = plot_df.groupby(\"pred_int\")[[\"spline\", \"label\"]].mean().reset_index()\n",
    "\n",
    "    plt.figure()\n",
    "    plt.plot(plot_df.pred_int, plot_df.label, label=\"label\")\n",
    "    plt.plot(plot_df.pred_int, plot_df.spline, label=\"spline\")\n",
    "    plt.legend()\n",
    "    plt.show()\n",
    "    \n",
    "    return spline_model2\n",
    "    \n",
    "    \n",
    "#完全に値変換するのではなくてseed値に対応して予測スコアも同じ大小関係なら1or0に変換\n",
    "def make_seed1to4_base_on_score(df, y, repeat_cv):\n",
    "    spline_model3 = []\n",
    "    spline_fits = []\n",
    "\n",
    "    for i in range(repeat_cv):\n",
    "        dat = list(zip(df[i], np.where(y>0, 1, 0)))\n",
    "        dat = sorted(dat, key=lambda x:x[0])\n",
    "        datdict = {}\n",
    "        for k in range(len(dat)):\n",
    "            datdict[dat[k][0]] = dat[k][1]\n",
    "        \n",
    "        spline_model3.append(UnivariateSpline(list(datdict.keys()), list(datdict.values())))\n",
    "        spline_fit = spline_model3[i](df[i]) \n",
    "        \n",
    "        #add\n",
    "        spline_fit[(X.T1_seed==1) & (X.T2_seed==16) & (X.T1_Score > X.T2_Score)] = 1.0\n",
    "        spline_fit[(X.T1_seed==2) & (X.T2_seed==15) & (X.T1_Score > X.T2_Score)] = 1.0\n",
    "        spline_fit[(X.T1_seed==3) & (X.T2_seed==14) & (X.T1_Score > X.T2_Score)] = 1.0\n",
    "        spline_fit[(X.T1_seed==4) & (X.T2_seed==13) & (X.T1_Score > X.T2_Score)] = 1.0\n",
    "        spline_fit[(X.T1_seed==16) & (X.T2_seed==1) & (X.T1_Score < X.T2_Score)] = 0.0\n",
    "        spline_fit[(X.T1_seed==15) & (X.T2_seed==2) & (X.T1_Score < X.T2_Score)] = 0.0\n",
    "        spline_fit[(X.T1_seed==14) & (X.T2_seed==3) & (X.T1_Score < X.T2_Score)] = 0.0\n",
    "        spline_fit[(X.T1_seed==13) & (X.T2_seed==4) & (X.T1_Score < X.T2_Score)] = 0.0\n",
    "\n",
    "        spline_fits.append(spline_fit)\n",
    "        cal_logloss(spline_fit, y, i)   \n",
    "    \n",
    "    \n",
    "    plot_df = pd.DataFrame({\n",
    "        \"pred\": df[0],\n",
    "        \"label\": np.where(y > 0, 1, 0),\n",
    "        \"spline\": spline_fits[0]  # 変更後の値を利用\n",
    "    })\n",
    "    plot_df[\"pred_int\"] = plot_df[\"pred\"].astype(int)\n",
    "    plot_df = plot_df.groupby(\"pred_int\")[[\"spline\", \"label\"]].mean().reset_index()\n",
    "\n",
    "    plt.figure()\n",
    "    plt.plot(plot_df.pred_int, plot_df.label, label=\"label\")\n",
    "    plt.plot(plot_df.pred_int, plot_df.spline, label=\"spline\")\n",
    "    plt.legend()\n",
    "    plt.show()\n",
    "    return spline_model3\n",
    "\n",
    "\n",
    "\n",
    "# Platt Scalingを用いた補正曲線生成の関数 (ロジスティック回帰)\n",
    "def make_platt_scaling(df, y, repeat_cv):\n",
    "    platt_models = []\n",
    "    logloss_platt = []\n",
    "    \n",
    "    for i in range(repeat_cv):\n",
    "        X_train = np.array(df[i]).reshape(-1, 1)\n",
    "        y_binary = np.where(y > 0, 1, 0)\n",
    "        \n",
    "        model = LogisticRegression(random_state=42, solver='lbfgs')\n",
    "        model.fit(X_train, y_binary)\n",
    "        platt_models.append(model)\n",
    "        \n",
    "\n",
    "        platt_fit = model.predict_proba(X_train)[:, 1]\n",
    "        loss = cal_logloss(platt_fit, y, i)\n",
    "        logloss_platt.append(loss)\n",
    "    \n",
    "    \n",
    "    ###\n",
    "    plot_df = pd.DataFrame({\n",
    "        \"pred\": df[0],\n",
    "        \"label\": np.where(y > 0, 1, 0),\n",
    "        \"platt\": platt_models[0].predict_proba(np.array(df[0]).reshape(-1, 1))[:, 1]\n",
    "    })\n",
    "    plot_df[\"pred_int\"] = plot_df[\"pred\"].astype(int)\n",
    "    plot_df = plot_df.groupby(\"pred_int\")[[\"platt\", \"label\"]].mean().reset_index()\n",
    "    \n",
    "    plt.figure(figsize=(8, 5))\n",
    "    plt.plot(plot_df.pred_int, plot_df.label, marker='o', linestyle='-', label=\"True Label\")\n",
    "    plt.plot(plot_df.pred_int, plot_df.platt, marker='x', linestyle='--', label=\"Platt Scaling\")\n",
    "    plt.xlabel(\"Predicted Value (Integer)\")\n",
    "    plt.ylabel(\"Mean Value\")\n",
    "    plt.title(\"Platt Scaling Calibration Curve\")\n",
    "    plt.legend()\n",
    "    plt.grid(True)\n",
    "    plt.savefig(os.path.join(OUTPUT_PATH, f\"platt_scaling_fit_{PREDICT_YEAR}.png\"))\n",
    "    plt.close()\n",
    "    \n",
    "    avg_logloss = np.mean(logloss_platt)\n",
    "    results.append(f\"Average Platt Scaling logloss: {avg_logloss:.4f}\" if avg_logloss is not None else \"No logloss computed\")\n",
    "    \n",
    "    return platt_models\n",
    "\n",
    "def make_isotonic_regression(df, y, repeat_cv):\n",
    "    \"\"\" Isotonic Regression を用いた補正曲線生成 \"\"\"\n",
    "    isotonic_models = []\n",
    "    logloss_isotonic = []\n",
    "    \n",
    "    for i in range(repeat_cv):\n",
    "        X_train = np.array(df[i]).reshape(-1, 1)\n",
    "        y_binary = np.where(y > 0, 1, 0)\n",
    "        \n",
    "        model = IsotonicRegression(out_of_bounds=\"clip\")\n",
    "        model.fit(X_train.ravel(), y_binary)\n",
    "        isotonic_models.append(model)\n",
    "        \n",
    "        isotonic_fit = model.predict(X_train.ravel())\n",
    "        loss = cal_logloss(isotonic_fit, y, i)\n",
    "        logloss_isotonic.append(loss)\n",
    "    \n",
    "    plot_df = pd.DataFrame({\n",
    "        \"pred\": df[0],\n",
    "        \"label\": np.where(y > 0, 1, 0),\n",
    "        \"isotonic\": isotonic_models[0].predict(np.array(df[0]).reshape(-1, 1))\n",
    "    })\n",
    "    plot_df[\"pred_int\"] = plot_df[\"pred\"].astype(int)\n",
    "    plot_df = plot_df.groupby(\"pred_int\")[[\"isotonic\", \"label\"]].mean().reset_index()\n",
    "    \n",
    "    plt.figure(figsize=(8, 5))\n",
    "    plt.plot(plot_df.pred_int, plot_df.label, marker='o', linestyle='-', label=\"True Label\")\n",
    "    plt.plot(plot_df.pred_int, plot_df.isotonic, marker='x', linestyle='--', label=\"Isotonic Regression\")\n",
    "    plt.xlabel(\"Predicted Value (Integer)\")\n",
    "    plt.ylabel(\"Mean Value\")\n",
    "    plt.title(\"Isotonic Regression Calibration Curve\")\n",
    "    plt.legend()\n",
    "    plt.grid(True)\n",
    "    plt.savefig(os.path.join(OUTPUT_PATH, f\"isotonic_regression_fit_{PREDICT_YEAR}.png\"))\n",
    "    plt.close()\n",
    "    \n",
    "    avg_logloss = np.mean(logloss_isotonic)\n",
    "    results.append(f\"Average Isotonic Regression logloss: {avg_logloss:.4f}\" if avg_logloss is not None else \"No logloss computed\")\n",
    "    \n",
    "    return isotonic_models\n",
    "\n"
   ]
  },
  {
   "cell_type": "code",
   "execution_count": 26,
   "id": "93c173f6",
   "metadata": {
    "execution": {
     "iopub.execute_input": "2025-03-12T13:07:08.163940Z",
     "iopub.status.busy": "2025-03-12T13:07:08.163940Z",
     "iopub.status.idle": "2025-03-12T13:07:08.170734Z",
     "shell.execute_reply": "2025-03-12T13:07:08.170734Z"
    },
    "papermill": {
     "duration": 0.020706,
     "end_time": "2025-03-12T13:07:08.170734",
     "exception": false,
     "start_time": "2025-03-12T13:07:08.150028",
     "status": "completed"
    },
    "tags": []
   },
   "outputs": [],
   "source": [
    "# キャリブレーションカーブの描画関数\n",
    "def plot_calibration_curve(y_true, y_pred_proba, method, save_path):\n",
    "    \"\"\" キャリブレーションカーブをプロットし保存 \"\"\"\n",
    "    y_binary = np.where(y_true > 0, 1, 0) \n",
    "    prob_true, prob_pred = calibration_curve(y_binary, y_pred_proba, n_bins=10)\n",
    "    \n",
    "    plt.figure(figsize=(6,6))\n",
    "    plt.plot(prob_pred, prob_true, marker=\"o\", label=f\"{method} Calibration\")\n",
    "    plt.plot([0, 1], [0, 1], linestyle=\"--\", label=\"Perfect Calibration\")\n",
    "    plt.xlabel(\"Predicted Probability\")\n",
    "    plt.ylabel(\"Actual Probability\")\n",
    "    plt.legend()\n",
    "    plt.title(f\"{method} Calibration Curve\")\n",
    "    plt.grid()\n",
    "    plt.savefig(save_path)\n",
    "    plt.close()\n",
    "\n"
   ]
  },
  {
   "cell_type": "code",
   "execution_count": 27,
   "id": "b6d8bc98",
   "metadata": {
    "execution": {
     "iopub.execute_input": "2025-03-12T13:07:08.196093Z",
     "iopub.status.busy": "2025-03-12T13:07:08.196093Z",
     "iopub.status.idle": "2025-03-12T13:07:08.394534Z",
     "shell.execute_reply": "2025-03-12T13:07:08.394534Z"
    },
    "papermill": {
     "duration": 0.214616,
     "end_time": "2025-03-12T13:07:08.394534",
     "exception": false,
     "start_time": "2025-03-12T13:07:08.179918",
     "status": "completed"
    },
    "tags": []
   },
   "outputs": [
    {
     "name": "stdout",
     "output_type": "stream",
     "text": [
      "logloss of cvsplit 0: 0.5050\n",
      "logloss of cvsplit 1: 0.5063\n",
      "logloss of cvsplit 2: 0.5043\n",
      "logloss of cvsplit 3: 0.5043\n",
      "logloss of cvsplit 4: 0.5056\n",
      "logloss of cvsplit 5: 0.5037\n",
      "logloss of cvsplit 6: 0.5025\n",
      "logloss of cvsplit 7: 0.5043\n",
      "logloss of cvsplit 8: 0.5035\n",
      "logloss of cvsplit 9: 0.5054\n"
     ]
    }
   ],
   "source": [
    "# キャリブレーション手法の選択\n",
    "spline = MODEL.spline\n",
    "if spline == \"spline_normal\":\n",
    "    spline_model = make_normal_spline(oof_preds, y, repeat_cv)\n",
    "    calibrated_preds = spline_model[0](oof_preds[0])\n",
    "    plot_calibration_curve(y, calibrated_preds, \"Spline Normal\", os.path.join(OUTPUT_PATH, f\"spline_normal_calibration_{PREDICT_YEAR}.png\"))\n",
    "    \n",
    "elif spline == \"logistic\":\n",
    "    spline_model = make_platt_scaling(oof_preds, y, repeat_cv)\n",
    "    calibrated_preds = spline_model[0].predict_proba(np.array(oof_preds[0]).reshape(-1, 1))[:, 1]\n",
    "    plot_calibration_curve(y, calibrated_preds, \"Platt Scaling\", os.path.join(OUTPUT_PATH, f\"platt_scaling_calibration_{PREDICT_YEAR}.png\"))\n",
    "    \n",
    "elif spline == \"isotonic\":\n",
    "    spline_model = make_isotonic_regression(oof_preds, y, repeat_cv)\n",
    "    calibrated_preds = spline_model[0].predict(np.array(oof_preds[0]).reshape(-1, 1))\n",
    "    plot_calibration_curve(y, calibrated_preds, \"Isotonic Regression\", os.path.join(OUTPUT_PATH, f\"isotonic_regression_calibration_{PREDICT_YEAR}.png\"))"
   ]
  },
  {
   "cell_type": "markdown",
   "id": "8241e768",
   "metadata": {
    "papermill": {
     "duration": 0.026106,
     "end_time": "2025-03-12T13:07:08.429778",
     "exception": false,
     "start_time": "2025-03-12T13:07:08.403672",
     "status": "completed"
    },
    "tags": []
   },
   "source": [
    "# submmit\n",
    "\n",
    "同じfeature engineeringする.\n",
    "\n",
    "個々の扱うも考える。2025は最終提出用の関数を用意する、その他2024以前は過去コンペでの提出形式に合わせる、でも年度によって提出形式が変わるからとりあえず2023でやる"
   ]
  },
  {
   "cell_type": "code",
   "execution_count": 28,
   "id": "a57e4c2f",
   "metadata": {
    "execution": {
     "iopub.execute_input": "2025-03-12T13:07:08.464730Z",
     "iopub.status.busy": "2025-03-12T13:07:08.463626Z",
     "iopub.status.idle": "2025-03-12T13:07:08.468834Z",
     "shell.execute_reply": "2025-03-12T13:07:08.468834Z"
    },
    "papermill": {
     "duration": 0.039398,
     "end_time": "2025-03-12T13:07:08.470933",
     "exception": false,
     "start_time": "2025-03-12T13:07:08.431535",
     "status": "completed"
    },
    "tags": []
   },
   "outputs": [
    {
     "data": {
      "text/plain": [
       "'if PREDICT_YEAR==2022:\\n    sub = pd.read_csv(os.path.join(INPUT_PATH, \"SampleSubmission2022M.csv\"))\\n    sub[\\'Season\\'] = sub[\\'ID\\'].apply(lambda x: int(x.split(\\'_\\')[0]))\\n    sub[\"T1_TeamID\"] = sub[\\'ID\\'].apply(lambda x: int(x.split(\\'_\\')[1]))\\n    sub[\"T2_TeamID\"] = sub[\\'ID\\'].apply(lambda x: int(x.split(\\'_\\')[2]))\\n    sub_X, a = process_tourney(sub, mode = \"sub\")\\n    dtest = xgb.DMatrix(sub_X)\\nelif PREDICT_YEAR==2023:\\n    sub = pd.read_csv(os.path.join(INPUT_PATH, \"SampleSubmission2023.csv\"))\\n    sub[\\'Season\\'] = sub[\\'ID\\'].apply(lambda x: int(x.split(\\'_\\')[0]))\\n    sub[\"T1_TeamID\"] = sub[\\'ID\\'].apply(lambda x: int(x.split(\\'_\\')[1]))\\n    sub[\"T2_TeamID\"] = sub[\\'ID\\'].apply(lambda x: int(x.split(\\'_\\')[2]))\\n    sub_X, a = process_tourney(sub, mode = \"sub\")\\n    dtest = xgb.DMatrix(sub_X)\\nelif PREDICT_YEAR==2024:\\n    sub = pd.read_csv(os.path.join(INPUT_PATH, \"SampleSubmission2024.csv\"))\\n    sub[\\'Season\\'] = sub[\\'ID\\'].apply(lambda x: int(x.split(\\'_\\')[0]))\\n    sub[\"T1_TeamID\"] = sub[\\'ID\\'].apply(lambda x: int(x.split(\\'_\\')[1]))\\n    sub[\"T2_TeamID\"] = sub[\\'ID\\'].apply(lambda x: int(x.split(\\'_\\')[2]))\\n    sub_X, a = process_tourney(sub, mode = \"sub\")\\n    dtest = xgb.DMatrix(sub_X)\\nelif PREDICT_YEAR==2025:\\n    sub = pd.read_csv(os.path.join(INPUT_PATH, \"SampleSubmissionStage2.csv\"))\\n    sub[\\'Season\\'] = sub[\\'ID\\'].apply(lambda x: int(x.split(\\'_\\')[0]))\\n    sub[\"T1_TeamID\"] = sub[\\'ID\\'].apply(lambda x: int(x.split(\\'_\\')[1]))\\n    sub[\"T2_TeamID\"] = sub[\\'ID\\'].apply(lambda x: int(x.split(\\'_\\')[2]))   \\n    sub_X, a = process_tourney(sub, mode = \"sub\")\\n    dtest = xgb.DMatrix(sub_X)'"
      ]
     },
     "execution_count": 28,
     "metadata": {},
     "output_type": "execute_result"
    }
   ],
   "source": [
    "\"\"\"if PREDICT_YEAR==2022:\n",
    "    sub = pd.read_csv(os.path.join(INPUT_PATH, \"SampleSubmission2022M.csv\"))\n",
    "    sub['Season'] = sub['ID'].apply(lambda x: int(x.split('_')[0]))\n",
    "    sub[\"T1_TeamID\"] = sub['ID'].apply(lambda x: int(x.split('_')[1]))\n",
    "    sub[\"T2_TeamID\"] = sub['ID'].apply(lambda x: int(x.split('_')[2]))\n",
    "    sub_X, a = process_tourney(sub, mode = \"sub\")\n",
    "    dtest = xgb.DMatrix(sub_X)\n",
    "elif PREDICT_YEAR==2023:\n",
    "    sub = pd.read_csv(os.path.join(INPUT_PATH, \"SampleSubmission2023.csv\"))\n",
    "    sub['Season'] = sub['ID'].apply(lambda x: int(x.split('_')[0]))\n",
    "    sub[\"T1_TeamID\"] = sub['ID'].apply(lambda x: int(x.split('_')[1]))\n",
    "    sub[\"T2_TeamID\"] = sub['ID'].apply(lambda x: int(x.split('_')[2]))\n",
    "    sub_X, a = process_tourney(sub, mode = \"sub\")\n",
    "    dtest = xgb.DMatrix(sub_X)\n",
    "elif PREDICT_YEAR==2024:\n",
    "    sub = pd.read_csv(os.path.join(INPUT_PATH, \"SampleSubmission2024.csv\"))\n",
    "    sub['Season'] = sub['ID'].apply(lambda x: int(x.split('_')[0]))\n",
    "    sub[\"T1_TeamID\"] = sub['ID'].apply(lambda x: int(x.split('_')[1]))\n",
    "    sub[\"T2_TeamID\"] = sub['ID'].apply(lambda x: int(x.split('_')[2]))\n",
    "    sub_X, a = process_tourney(sub, mode = \"sub\")\n",
    "    dtest = xgb.DMatrix(sub_X)\n",
    "elif PREDICT_YEAR==2025:\n",
    "    sub = pd.read_csv(os.path.join(INPUT_PATH, \"SampleSubmissionStage2.csv\"))\n",
    "    sub['Season'] = sub['ID'].apply(lambda x: int(x.split('_')[0]))\n",
    "    sub[\"T1_TeamID\"] = sub['ID'].apply(lambda x: int(x.split('_')[1]))\n",
    "    sub[\"T2_TeamID\"] = sub['ID'].apply(lambda x: int(x.split('_')[2]))   \n",
    "    sub_X, a = process_tourney(sub, mode = \"sub\")\n",
    "    dtest = xgb.DMatrix(sub_X)\"\"\"\n",
    "    "
   ]
  },
  {
   "cell_type": "code",
   "execution_count": 29,
   "id": "c685af71",
   "metadata": {
    "execution": {
     "iopub.execute_input": "2025-03-12T13:07:08.495982Z",
     "iopub.status.busy": "2025-03-12T13:07:08.495982Z",
     "iopub.status.idle": "2025-03-12T13:07:08.529947Z",
     "shell.execute_reply": "2025-03-12T13:07:08.529947Z"
    },
    "papermill": {
     "duration": 0.048417,
     "end_time": "2025-03-12T13:07:08.529947",
     "exception": false,
     "start_time": "2025-03-12T13:07:08.481530",
     "status": "completed"
    },
    "tags": []
   },
   "outputs": [
    {
     "name": "stdout",
     "output_type": "stream",
     "text": [
      "no fillna, use nan\n"
     ]
    }
   ],
   "source": [
    "sub = notexist.copy()\n",
    "sub = sub.rename(columns={\"WTeamID\": \"T1_TeamID\", \"LTeamID\": \"T2_TeamID\"})\n",
    "sub = sub[[\"Season\", \"T1_TeamID\", \"T2_TeamID\"]]\n",
    "temp = sub.copy()\n",
    "temp = temp.rename(columns={\"T1_TeamID\": \"T2_TeamID\", \"T2_TeamID\": \"T1_TeamID\"})\n",
    "sub = pd.concat([sub, temp]).reset_index()\n",
    "sub_X, a = process_tourney(sub, mode=\"sub\")\n",
    "dtest = xgb.DMatrix(sub_X)"
   ]
  },
  {
   "cell_type": "code",
   "execution_count": 30,
   "id": "520c05cb",
   "metadata": {
    "execution": {
     "iopub.execute_input": "2025-03-12T13:07:08.579662Z",
     "iopub.status.busy": "2025-03-12T13:07:08.576417Z",
     "iopub.status.idle": "2025-03-12T13:08:20.617003Z",
     "shell.execute_reply": "2025-03-12T13:08:20.617003Z"
    },
    "papermill": {
     "duration": 72.067608,
     "end_time": "2025-03-12T13:08:20.619009",
     "exception": false,
     "start_time": "2025-03-12T13:07:08.551401",
     "status": "completed"
    },
    "tags": []
   },
   "outputs": [
    {
     "name": "stderr",
     "output_type": "stream",
     "text": [
      "\r",
      "  0%|                                                                                                                                                            | 0/10 [00:00<?, ?it/s]"
     ]
    },
    {
     "name": "stderr",
     "output_type": "stream",
     "text": [
      "\r",
      " 10%|██████████████▊                                                                                                                                     | 1/10 [00:07<01:04,  7.21s/it]"
     ]
    },
    {
     "name": "stderr",
     "output_type": "stream",
     "text": [
      "\r",
      " 20%|█████████████████████████████▌                                                                                                                      | 2/10 [00:13<00:55,  6.94s/it]"
     ]
    },
    {
     "name": "stderr",
     "output_type": "stream",
     "text": [
      "\r",
      " 30%|████████████████████████████████████████████▍                                                                                                       | 3/10 [00:21<00:49,  7.12s/it]"
     ]
    },
    {
     "name": "stderr",
     "output_type": "stream",
     "text": [
      "\r",
      " 40%|███████████████████████████████████████████████████████████▏                                                                                        | 4/10 [00:27<00:40,  6.81s/it]"
     ]
    },
    {
     "name": "stderr",
     "output_type": "stream",
     "text": [
      "\r",
      " 50%|██████████████████████████████████████████████████████████████████████████                                                                          | 5/10 [00:34<00:34,  6.85s/it]"
     ]
    },
    {
     "name": "stderr",
     "output_type": "stream",
     "text": [
      "\r",
      " 60%|████████████████████████████████████████████████████████████████████████████████████████▊                                                           | 6/10 [00:40<00:26,  6.65s/it]"
     ]
    },
    {
     "name": "stderr",
     "output_type": "stream",
     "text": [
      "\r",
      " 70%|███████████████████████████████████████████████████████████████████████████████████████████████████████▌                                            | 7/10 [00:49<00:21,  7.16s/it]"
     ]
    },
    {
     "name": "stderr",
     "output_type": "stream",
     "text": [
      "\r",
      " 80%|██████████████████████████████████████████████████████████████████████████████████████████████████████████████████████▍                             | 8/10 [00:57<00:15,  7.56s/it]"
     ]
    },
    {
     "name": "stderr",
     "output_type": "stream",
     "text": [
      "\r",
      " 90%|█████████████████████████████████████████████████████████████████████████████████████████████████████████████████████████████████████▏              | 9/10 [01:05<00:07,  7.59s/it]"
     ]
    },
    {
     "name": "stderr",
     "output_type": "stream",
     "text": [
      "\r",
      "100%|███████████████████████████████████████████████████████████████████████████████████████████████████████████████████████████████████████████████████| 10/10 [01:12<00:00,  7.38s/it]"
     ]
    },
    {
     "name": "stderr",
     "output_type": "stream",
     "text": [
      "\r",
      "100%|███████████████████████████████████████████████████████████████████████████████████████████████████████████████████████████████████████████████████| 10/10 [01:12<00:00,  7.20s/it]"
     ]
    },
    {
     "name": "stderr",
     "output_type": "stream",
     "text": [
      "\n"
     ]
    }
   ],
   "source": [
    "sub_models = []\n",
    "#sokutionではカスタム関数の指定、早期停止の言及がここではなかった。検討する\n",
    "for i in tqdm(range(repeat_cv), leave=True, dynamic_ncols=True):\n",
    "    sub_models.append(\n",
    "        xgb.train(\n",
    "          params = param,\n",
    "          dtrain = dtrain,\n",
    "          obj=cauchyobj,\n",
    "          num_boost_round = int(iteration_counts[i] * 1.05),\n",
    "          #early_stopping_rounds=early_stopping_rounds, #これ指定してない、指定するのかあと、指定するとしても少し遅くさせるとか\n",
    "          verbose_eval = 50\n",
    "        )\n",
    "    )"
   ]
  },
  {
   "cell_type": "markdown",
   "id": "9e93e90b",
   "metadata": {
    "papermill": {
     "duration": 0.027862,
     "end_time": "2025-03-12T13:08:20.672183",
     "exception": false,
     "start_time": "2025-03-12T13:08:20.644321",
     "status": "completed"
    },
    "tags": []
   },
   "source": [
    "各特徴量の寄与度を算出"
   ]
  },
  {
   "cell_type": "code",
   "execution_count": 31,
   "id": "6b673e16",
   "metadata": {
    "execution": {
     "iopub.execute_input": "2025-03-12T13:08:20.712828Z",
     "iopub.status.busy": "2025-03-12T13:08:20.712828Z",
     "iopub.status.idle": "2025-03-12T13:08:21.332712Z",
     "shell.execute_reply": "2025-03-12T13:08:21.332712Z"
    },
    "papermill": {
     "duration": 0.636772,
     "end_time": "2025-03-12T13:08:21.332712",
     "exception": false,
     "start_time": "2025-03-12T13:08:20.695940",
     "status": "completed"
    },
    "tags": []
   },
   "outputs": [
    {
     "data": {
      "image/png": "[encoded data removed]",
      "text/plain": [
       "<Figure size 1000x600 with 1 Axes>"
      ]
     },
     "metadata": {},
     "output_type": "display_data"
    }
   ],
   "source": [
    "feature_importances = collections.defaultdict(list)\n",
    "for model in sub_models:\n",
    "    importance = model.get_score(importance_type='gain')\n",
    "    for feat, score in importance.items():\n",
    "        feature_importances[feat].append(score)\n",
    "\n",
    "avg_importance = {feat: sum(scores) / len(scores) for feat, scores in feature_importances.items()}\n",
    "fi_df = pd.DataFrame(list(avg_importance.items()), columns=['Feature', 'Avg_Gain'])\n",
    "fi_df.sort_values(by='Avg_Gain', ascending=False, inplace=True)\n",
    "results.append(\"\")\n",
    "fi_log = \"-----Feature Importance (Average Gain)-----\\n\"\n",
    "for feat, score in fi_df.values:\n",
    "    fi_log += f\"{feat}: {score:.4f}\\n\"\n",
    "results.append(fi_log)\n",
    "results.append(\"\")\n",
    "\n",
    "plt.figure(figsize=(10, 6))\n",
    "plt.bar(fi_df['Feature'], fi_df['Avg_Gain'])\n",
    "plt.xlabel('Feature')\n",
    "plt.ylabel('Average Gain')\n",
    "plt.title('Feature Importance (Average Gain)')\n",
    "plt.xticks(rotation=45)\n",
    "plt.tight_layout() \n",
    "\n",
    "plt.savefig(os.path.join(OUTPUT_PATH, f\"feature_importance_{PREDICT_YEAR}.png\"))\n",
    "plt.show()"
   ]
  },
  {
   "cell_type": "code",
   "execution_count": 32,
   "id": "fe67de79",
   "metadata": {
    "execution": {
     "iopub.execute_input": "2025-03-12T13:08:21.371014Z",
     "iopub.status.busy": "2025-03-12T13:08:21.371014Z",
     "iopub.status.idle": "2025-03-12T13:08:21.434020Z",
     "shell.execute_reply": "2025-03-12T13:08:21.434020Z"
    },
    "papermill": {
     "duration": 0.085702,
     "end_time": "2025-03-12T13:08:21.435027",
     "exception": false,
     "start_time": "2025-03-12T13:08:21.349325",
     "status": "completed"
    },
    "tags": []
   },
   "outputs": [
    {
     "name": "stderr",
     "output_type": "stream",
     "text": [
      "\r",
      "  0%|                                                                                                                                                            | 0/10 [00:00<?, ?it/s]"
     ]
    },
    {
     "name": "stderr",
     "output_type": "stream",
     "text": [
      "\r",
      "100%|██████████████████████████████████████████████████████████████████████████████████████████████████████████████████████████████████████████████████| 10/10 [00:00<00:00, 168.08it/s]"
     ]
    },
    {
     "name": "stderr",
     "output_type": "stream",
     "text": [
      "\n"
     ]
    }
   ],
   "source": [
    "sub_preds = []\n",
    "for i in tqdm(range(repeat_cv)):\n",
    "    if spline == \"spline_normal\":\n",
    "        sub_preds.append(np.clip(spline_model[i](np.clip(sub_models[i].predict(dtest), -30, 30)), 0.025, 0.975))\n",
    "    \n",
    "    elif spline == \"logistic\":\n",
    "        X_input = np.clip(sub_models[i].predict(dtest), -30, 30).reshape(-1, 1)\n",
    "        platt_pred = spline_model[i].predict_proba(X_input)[:, 1]\n",
    "        sub_preds.append(np.clip(platt_pred, 0.025, 0.975))\n",
    "\n",
    "    elif spline == \"isotonic\":\n",
    "        X_input = np.clip(sub_models[i].predict(dtest), -30, 30).reshape(-1, 1)\n",
    "        iso_pred = spline_model[i].predict(X_input)  # Isotonic Regression の適用\n",
    "        sub_preds.append(np.clip(iso_pred, 0.025, 0.975))\n",
    "\n",
    "sub[\"Pred\"] = np.mean(np.vstack(sub_preds), axis=0)"
   ]
  },
  {
   "cell_type": "code",
   "execution_count": 33,
   "id": "e395498a",
   "metadata": {
    "execution": {
     "iopub.execute_input": "2025-03-12T13:08:21.490538Z",
     "iopub.status.busy": "2025-03-12T13:08:21.490538Z",
     "iopub.status.idle": "2025-03-12T13:08:21.497793Z",
     "shell.execute_reply": "2025-03-12T13:08:21.497793Z"
    },
    "papermill": {
     "duration": 0.039391,
     "end_time": "2025-03-12T13:08:21.497793",
     "exception": false,
     "start_time": "2025-03-12T13:08:21.458402",
     "status": "completed"
    },
    "tags": []
   },
   "outputs": [],
   "source": [
    "# teams:64team, targetを受け取って、そのtarget teamの試合可能性のある全63試合を抽出する関数\n",
    "def extract_target_team_records(submission_df, teams, target_team):\n",
    "    if target_team not in teams:\n",
    "        raise ValueError(f\"target_team {target_team} は teams 内に存在しません\")\n",
    "\n",
    "    remaining_teams = [t for t in teams if t != target_team]\n",
    "    \n",
    "    records = []\n",
    "    for other_team in remaining_teams:\n",
    "        lower = min(target_team, other_team)\n",
    "        higher = max(target_team, other_team)\n",
    "        row = submission_df[(submission_df['T1_TeamID'] == lower) & (submission_df['T2_TeamID'] == higher)]\n",
    "        if row.empty:\n",
    "            print(f\"Warning: 対戦 {lower} vs {higher} に対応するレコードが見つかりませんでした\")\n",
    "        else:\n",
    "            records.append(row)\n",
    "    \n",
    "    if records:\n",
    "        final_records = pd.concat(records, ignore_index=True)\n",
    "    else:\n",
    "        final_records = pd.DataFrame()\n",
    "    \n",
    "    if len(final_records) != 63:\n",
    "        print(f\"Warning: 期待される63件ではなく、{len(final_records)}件のレコードが抽出されました。\")\n",
    "    \n",
    "    return final_records\n"
   ]
  },
  {
   "cell_type": "code",
   "execution_count": 34,
   "id": "6d113927",
   "metadata": {
    "execution": {
     "iopub.execute_input": "2025-03-12T13:08:21.548270Z",
     "iopub.status.busy": "2025-03-12T13:08:21.548270Z",
     "iopub.status.idle": "2025-03-12T13:08:21.555064Z",
     "shell.execute_reply": "2025-03-12T13:08:21.555064Z"
    },
    "papermill": {
     "duration": 0.028261,
     "end_time": "2025-03-12T13:08:21.555064",
     "exception": false,
     "start_time": "2025-03-12T13:08:21.526803",
     "status": "completed"
    },
    "tags": []
   },
   "outputs": [],
   "source": [
    "tourney_teams_2023 = [\n",
    "    1395, 1113,   # TCU1395, アリゾナ・ステイト1113\n",
    "    1231, 1245,   # インディアナ1231, ケント・ステイト1245\n",
    "    1243, 1286,   # カンザス・ステイト1243, モンタナ・ステイト1286\n",
    "    1272, 1194,   # メンフィス1272, ﾌﾛﾘﾀﾞ･ｱﾄﾗﾝﾃｨｯｸ1194\n",
    "    1211, 1213,   # ゴンザガ1211, グランド・キャニオン1213\n",
    "    1274, 1179,   # マイアミ（フロリダ）1274, ドレイク1179\n",
    "    1243, 1286,   # ケンタッキー1243, プロビデンス1286\n",
    "    1345, 1192,   # パデュー1345, ﾌｪｱﾘｰ･ﾃﾞｨｷﾝｿﾝ1192\n",
    "    1163, 1233,   # コネチカット1163, アイオナ1233\n",
    "    1166, 1301,   # クレイトン1166, ﾉｰｽｶﾛﾗｲﾅ･ｽﾃｲﾄ1301\n",
    "    1235, 1338,   # アイオワ・ステイト1235, ピッツバーグ1338\n",
    "    1266, 1436,   # マーケット1266, バーモント1436\n",
    "    1388, 1433,   # ｾﾝﾄﾒｱﾘｰｽﾞ（ｶﾘﾌｫﾙﾆｱ）1388, VCU1433\n",
    "    1124, 1364,   # ベイラー1124, UCサンタバーバラ1364\n",
    "    1462, 1244,   # ザビエル1462, ケネソー・ステイト1244\n",
    "    1277, 1425,   # ミシガン・ステイト1277, USC トロージャンズ1425\n",
    "\n",
    "    1417, 1421,   # UCLA1417, UNC アシュビル1421\n",
    "    1401, 1336,   # テキサス A＆M1401, ﾍﾟﾝｼﾞﾙﾍﾞﾆｱ･ｽﾃｲﾄ1336\n",
    "    1397, 1418,   # テネシー1397, ﾙｲｼﾞｱﾅ･ﾗﾌｧｲｴｯﾄ1418\n",
    "    1222, 1297,   # ヒューストン1222, ノーザンケンタッキー1297\n",
    "    1321, 1129,   # ノースウェスタン1321, ボイシ・ステイト1129\n",
    "    1400, 1159,   # テキサス1400, コルゲート1159\n",
    "    1181, 1331,   # デューク1181, オーラル・ロバーツ1331\n",
    "    1234, 1120,   # アイオワ1234, オーバーン1120\n",
    "    1116, 1228,   # アーカンソー1116, イリノイ1228\n",
    "    1112, 1343,   # アリゾナ1112, プリンストン1343\n",
    "    1361, 1158,   # ｻﾝﾃﾞｴｺﾞ･ｽﾃｲﾄ1361, チャールストン1158\n",
    "    1104, 1394,   # アラバマ1104, テキサス A＆M CC1394\n",
    "    1242, 1224,   # カンザス1242, ハワード1224\n",
    "    1281, 1429,   # ミズーリ1281, ユタ・ステイト1429\n",
    "    1438, 1202,   # バージニア1438, ファーマン1202\n",
    "    1268, 1452    # メリーランド1268, ウェストバージニア1452\n",
    "]\n",
    "\n",
    "#Connecticut_vs = extract_target_team_records(sub, tourney_teams_2023, 1163 )"
   ]
  },
  {
   "cell_type": "code",
   "execution_count": 35,
   "id": "f28d1264",
   "metadata": {
    "execution": {
     "iopub.execute_input": "2025-03-12T13:08:21.597040Z",
     "iopub.status.busy": "2025-03-12T13:08:21.597040Z",
     "iopub.status.idle": "2025-03-12T13:08:21.602291Z",
     "shell.execute_reply": "2025-03-12T13:08:21.602291Z"
    },
    "papermill": {
     "duration": 0.02449,
     "end_time": "2025-03-12T13:08:21.602291",
     "exception": false,
     "start_time": "2025-03-12T13:08:21.577801",
     "status": "completed"
    },
    "tags": []
   },
   "outputs": [],
   "source": [
    "#handlabelingを行う関数\n",
    "def make_handlabeling(df, season, T1, T2, labeling_pred, tourney_teams):\n",
    "    if T1 not in tourney_teams or T2 not in tourney_teams: \n",
    "        print(f\"トーナメント対象チームに属していません\")\n",
    "        return \n",
    "    \n",
    "    if T1>T2: \n",
    "        T1, T2 = T2, T1\n",
    "        print(f\"{T1}, {T2}ID逆だけど大丈夫？？\")\n",
    "    id = f\"{season}_{T1}_{T2}\"\n",
    "\n",
    "    print(f\"before: {df[df['ID']==id]}\")\n",
    "    df.loc[df[\"ID\"] == id, \"Pred\"] = labeling_pred\n",
    "    print(f\"after: {df[df['ID']==id]}\")\n",
    "    \n",
    "    results.append(f\"-----handolabeling-----\")\n",
    "    results.append(f\"before:  {df[df['ID']==id]} -----> after: {df[df['ID']==id]}\")\n",
    "    results.appedn(\"\")\n",
    "    return df"
   ]
  },
  {
   "cell_type": "code",
   "execution_count": 36,
   "id": "06e3bdb3",
   "metadata": {
    "execution": {
     "iopub.execute_input": "2025-03-12T13:08:21.628992Z",
     "iopub.status.busy": "2025-03-12T13:08:21.628992Z",
     "iopub.status.idle": "2025-03-12T13:08:21.643668Z",
     "shell.execute_reply": "2025-03-12T13:08:21.643668Z"
    },
    "papermill": {
     "duration": 0.031675,
     "end_time": "2025-03-12T13:08:21.644809",
     "exception": false,
     "start_time": "2025-03-12T13:08:21.613134",
     "status": "completed"
    },
    "tags": []
   },
   "outputs": [],
   "source": [
    "labeling = cfg.exp.hand_labeling\n",
    "if labeling is not None:\n",
    "    for i in range(len(labeling)):\n",
    "        T1 = labeling[i][0]\n",
    "        T2 = labeling[i][1]\n",
    "        labeling_pred = labeling[i][2]\n",
    "        \n",
    "        print(f\"{T1} vs {T2} result labeling {labeling_pred}\")\n",
    "        \n",
    "        sub = make_handlabeling(sub, PREDICT_YEAR, T1, T2, labeling_pred, tourney_teams_2023)"
   ]
  },
  {
   "cell_type": "code",
   "execution_count": 37,
   "id": "8fe588f9",
   "metadata": {
    "execution": {
     "iopub.execute_input": "2025-03-12T13:08:21.681431Z",
     "iopub.status.busy": "2025-03-12T13:08:21.681431Z",
     "iopub.status.idle": "2025-03-12T13:08:21.928642Z",
     "shell.execute_reply": "2025-03-12T13:08:21.928642Z"
    },
    "papermill": {
     "duration": 0.267927,
     "end_time": "2025-03-12T13:08:21.928642",
     "exception": false,
     "start_time": "2025-03-12T13:08:21.660715",
     "status": "completed"
    },
    "tags": []
   },
   "outputs": [
    {
     "name": "stdout",
     "output_type": "stream",
     "text": [
      "Tournament matchups only - Pred Mean: 0.4995111736432773\n"
     ]
    },
    {
     "data": {
      "image/png": "[encoded data removed]",
      "text/plain": [
       "<Figure size 640x480 with 1 Axes>"
      ]
     },
     "metadata": {},
     "output_type": "display_data"
    }
   ],
   "source": [
    "tourney_filtered = notexist[notexist[\"Season\"] == PREDICT_YEAR].copy()\n",
    "a = tourney_filtered.rename(columns={'WTeamID': 'T1_TeamID', 'LTeamID': 'T2_TeamID'})\n",
    "b = tourney_filtered.rename(columns={'WTeamID': 'T2_TeamID', 'LTeamID': 'T1_TeamID'})\n",
    "ab = pd.concat([a, b]).reset_index(drop=True) \n",
    "filtered_sub = sub.merge(ab[['Season', 'T1_TeamID', 'T2_TeamID']], \n",
    "                         on=['Season', 'T1_TeamID', 'T2_TeamID'], \n",
    "                         how='inner')\n",
    "\n",
    "filtered_sub[\"Pred\"].astype(int)\n",
    "pred_mean = filtered_sub[\"Pred\"].mean()\n",
    "print(\"Tournament matchups only - Pred Mean:\", pred_mean)\n",
    "\n",
    "filtered_sub[\"Pred\"].hist(bins=50)\n",
    "results+=[\"\", f\"Tournament matchups only - Pred Mean:, {pred_mean}\", \"\"]\n",
    "plt.figure(figsize=(8, 6))\n",
    "filtered_sub[\"Pred\"].hist(bins=50)\n",
    "plt.title(\"Prediction Histogram\")\n",
    "plt.xlabel(\"Pred\")\n",
    "plt.ylabel(\"Frequency\")\n",
    "plt.grid(True)\n",
    "\n",
    "# 画像として保存\n",
    "plt.savefig(os.path.join(OUTPUT_PATH, f\"Prediction_Histgram_filtered_{PREDICT_YEAR}.png\"))\n",
    "plt.close()"
   ]
  },
  {
   "cell_type": "markdown",
   "id": "20570e06",
   "metadata": {
    "papermill": {
     "duration": 0.008192,
     "end_time": "2025-03-12T13:08:21.956066",
     "exception": false,
     "start_time": "2025-03-12T13:08:21.947874",
     "status": "completed"
    },
    "tags": []
   },
   "source": [
    "# スコア算出、まとめ、\n",
    "ここまでで提出ファイル作成。ここからは過去年度のシミュレーションに対してBrier scoreやその他指標の算出"
   ]
  },
  {
   "cell_type": "code",
   "execution_count": 38,
   "id": "0d78cc15",
   "metadata": {
    "execution": {
     "iopub.execute_input": "2025-03-12T13:08:21.987973Z",
     "iopub.status.busy": "2025-03-12T13:08:21.987973Z",
     "iopub.status.idle": "2025-03-12T13:08:22.171486Z",
     "shell.execute_reply": "2025-03-12T13:08:22.170926Z"
    },
    "papermill": {
     "duration": 0.200289,
     "end_time": "2025-03-12T13:08:22.172550",
     "exception": false,
     "start_time": "2025-03-12T13:08:21.972261",
     "status": "completed"
    },
    "tags": []
   },
   "outputs": [
    {
     "data": {
      "image/png": "[encoded data removed]",
      "text/plain": [
       "<Figure size 640x480 with 1 Axes>"
      ]
     },
     "metadata": {},
     "output_type": "display_data"
    }
   ],
   "source": [
    "sub[\"Pred\"].hist()\n",
    "results+=[\"\", f\"Pred mean: {sub['Pred'].mean()}\", \"\"]\n",
    "\n",
    "plt.figure(figsize=(8, 6))\n",
    "sub[\"Pred\"].hist(bins=50)\n",
    "plt.title(\"Prediction Histogram\")\n",
    "plt.xlabel(\"Pred\")\n",
    "plt.ylabel(\"Frequency\")\n",
    "plt.grid(True)\n",
    "\n",
    "# 画像として保存\n",
    "plt.savefig(os.path.join(OUTPUT_PATH, f\"Prediction_Histgram_{PREDICT_YEAR}.png\"))\n",
    "plt.close()"
   ]
  },
  {
   "cell_type": "markdown",
   "id": "766d0511",
   "metadata": {
    "papermill": {
     "duration": 0.004994,
     "end_time": "2025-03-12T13:08:22.196560",
     "exception": false,
     "start_time": "2025-03-12T13:08:22.191566",
     "status": "completed"
    },
    "tags": []
   },
   "source": [
    "存在するはずのない予測年度のトーナメント結果をもとに(Pred, label)を取り出し、以下を行う。\n",
    "\n",
    "- 各評価指標の計算\n",
    "- キャリブレーション可視化\n",
    "- AUC可視化"
   ]
  },
  {
   "cell_type": "code",
   "execution_count": 39,
   "id": "7ae33ac9",
   "metadata": {
    "execution": {
     "iopub.execute_input": "2025-03-12T13:08:22.250278Z",
     "iopub.status.busy": "2025-03-12T13:08:22.250278Z",
     "iopub.status.idle": "2025-03-12T13:08:22.257542Z",
     "shell.execute_reply": "2025-03-12T13:08:22.257542Z"
    },
    "papermill": {
     "duration": 0.030019,
     "end_time": "2025-03-12T13:08:22.258591",
     "exception": false,
     "start_time": "2025-03-12T13:08:22.228572",
     "status": "completed"
    },
    "tags": []
   },
   "outputs": [],
   "source": [
    "def extract_labels_and_preds(sub, tourney):\n",
    "    \"\"\" 試合データから予測値 (Pred) と正解ラベル (label) を抽出する \"\"\"\n",
    "    label_data = tourney[[\"WTeamID\", \"LTeamID\", \"WScore\", \"LScore\"]]\n",
    "    label_data = label_data.rename(columns={\"WTeamID\": \"T1_TeamID\", \"LTeamID\": \"T2_TeamID\", \"WScore\": \"T1_Score\", \"LScore\": \"T2_Score\"})\n",
    "    temp = label_data.copy()\n",
    "    temp = temp.rename(columns={\"T1_TeamID\": \"T2_TeamID\", \"T2_TeamID\": \"T1_TeamID\", \"T1_Score\": \"T2_Score\", \"T2_Score\": \"T1_Score\"})\n",
    "    label_data = pd.concat([label_data, temp]).reset_index(drop=True)\n",
    "    \n",
    "    label_data = pd.merge(label_data, sub, on=[\"T1_TeamID\", \"T2_TeamID\"], how=\"left\")\n",
    "    label_data[\"label\"] = np.where(label_data[\"T1_Score\"] - label_data[\"T2_Score\"] > 0, 1, 0)\n",
    "    label_data = label_data.dropna(subset=[\"Pred\"])  # 欠損値を削除\n",
    "    \n",
    "    return label_data[[\"label\", \"Pred\"]]\n",
    "\n",
    "def calculate_metrics(label_data):\n",
    "    \"\"\" 各評価指標を計算 \"\"\"\n",
    "    brier_score = round(mean_squared_error(label_data[\"label\"], label_data[\"Pred\"]), 4)  # Brier Score (MSEと同じ)\n",
    "    rmse_score = round(mean_squared_error(label_data[\"label\"], label_data[\"Pred\"], squared=False), 4)  # RMSE\n",
    "    logloss_score = round(log_loss(label_data[\"label\"], label_data[\"Pred\"]), 4)  # Log Loss\n",
    "    mae_score = round(mean_absolute_error(label_data[\"label\"], label_data[\"Pred\"]), 4)  # MAE\n",
    "    \n",
    "    return {\n",
    "        \"Brier Score\": brier_score,\n",
    "        \"RMSE\": rmse_score,\n",
    "        \"Log Loss\": logloss_score,\n",
    "        \"MAE\": mae_score\n",
    "    }\n",
    "\n",
    "def plot_calibration_curve(label_data, n_bins=10):\n",
    "    \"\"\" キャリブレーションカーブをプロット \"\"\"\n",
    "    prob_true, prob_pred = calibration_curve(label_data[\"label\"], label_data[\"Pred\"], n_bins=n_bins)\n",
    "    \n",
    "    plt.figure(figsize=(6,6))\n",
    "    plt.plot(prob_pred, prob_true, marker=\"o\", label=\"Model Calibration\")\n",
    "    plt.plot([0, 1], [0, 1], linestyle=\"--\", label=\"Perfect Calibration\")\n",
    "    plt.xlabel(\"Predicted Probability\")\n",
    "    plt.ylabel(\"Actual Probability\")\n",
    "    plt.legend()\n",
    "    plt.title(\"Calibration Curve\")\n",
    "    plt.show()\n",
    "\n",
    "def calculate_auc_metrics(label_data):\n",
    "    global results\n",
    "    \"\"\" AUC-ROCとAUC-PRを計算 \"\"\"\n",
    "    auc_roc = roc_auc_score(label_data[\"label\"], label_data[\"Pred\"])\n",
    "    auc_pr = average_precision_score(label_data[\"label\"], label_data[\"Pred\"])\n",
    "    \n",
    "    print(f\"AUC-ROC: {auc_roc:.4f}\")\n",
    "    print(f\"AUC-PR: {auc_pr:.4f}\")\n",
    "    results += [\"---- AUC -----\", f\"AUC-ROC: {auc_roc:.4f}\", f\"AUC-PR: {auc_pr:.4f}\"]\n",
    "    "
   ]
  },
  {
   "cell_type": "code",
   "execution_count": 40,
   "id": "f50b28a4",
   "metadata": {
    "execution": {
     "iopub.execute_input": "2025-03-12T13:08:22.296777Z",
     "iopub.status.busy": "2025-03-12T13:08:22.296777Z",
     "iopub.status.idle": "2025-03-12T13:08:22.378062Z",
     "shell.execute_reply": "2025-03-12T13:08:22.378062Z"
    },
    "papermill": {
     "duration": 0.114426,
     "end_time": "2025-03-12T13:08:22.378062",
     "exception": false,
     "start_time": "2025-03-12T13:08:22.263636",
     "status": "completed"
    },
    "tags": []
   },
   "outputs": [
    {
     "name": "stderr",
     "output_type": "stream",
     "text": [
      "C:\\Users\\81809\\anaconda3\\envs\\deep_learning_pytorch\\Lib\\site-packages\\sklearn\\metrics\\_regression.py:492: FutureWarning: 'squared' is deprecated in version 1.4 and will be removed in 1.6. To calculate the root mean squared error, use the function'root_mean_squared_error'.\n",
      "  warnings.warn(\n"
     ]
    },
    {
     "data": {
      "image/png": "[encoded data removed]",
      "text/plain": [
       "<Figure size 600x600 with 1 Axes>"
      ]
     },
     "metadata": {},
     "output_type": "display_data"
    },
    {
     "name": "stdout",
     "output_type": "stream",
     "text": [
      "AUC-ROC: 0.7925\n",
      "AUC-PR: 0.8019\n",
      "MAE: 0.3462\n",
      "\n",
      "---- AUC -----\n",
      "AUC-ROC: 0.7925\n",
      "AUC-PR: 0.8019\n"
     ]
    }
   ],
   "source": [
    "if PREDICT_YEAR == 2022:\n",
    "    notexist_MAN = notexist[notexist[\"WTeamID\"].astype(str).str.startswith(\"1\")]\n",
    "    notexist_WOMAN = notexist[notexist[\"WTeamID\"].astype(str).str.startswith(\"3\")]\n",
    "    label_data = extract_labels_and_preds(sub, notexist) ######\n",
    "else:\n",
    "    label_data = extract_labels_and_preds(sub, notexist)\n",
    "\n",
    "# 評価指標の計算\n",
    "score = calculate_metrics(label_data)\n",
    "results += [\"\",\"-----eval metrics-----\",\n",
    "            f\"Brier Score: {score['Brier Score']}\", \n",
    "            f\"RMSE: {score['RMSE']}\", \n",
    "            f\"Log Loss: {score['Log Loss']}\", \n",
    "            f\"MAE: {score['MAE']}\", \"\"]\n",
    "\n",
    "# キャリブレーションの確認\n",
    "plot_calibration_curve(label_data)\n",
    "\n",
    "# AUCの評価\n",
    "calculate_auc_metrics(label_data)\n",
    "\n",
    "for temp in range(-5, 0):\n",
    "    print(results[temp])"
   ]
  },
  {
   "cell_type": "code",
   "execution_count": 41,
   "id": "0a1f44a2",
   "metadata": {
    "execution": {
     "iopub.execute_input": "2025-03-12T13:08:22.415767Z",
     "iopub.status.busy": "2025-03-12T13:08:22.415767Z",
     "iopub.status.idle": "2025-03-12T13:08:22.422201Z",
     "shell.execute_reply": "2025-03-12T13:08:22.422201Z"
    },
    "papermill": {
     "duration": 0.028952,
     "end_time": "2025-03-12T13:08:22.422201",
     "exception": false,
     "start_time": "2025-03-12T13:08:22.393249",
     "status": "completed"
    },
    "tags": []
   },
   "outputs": [
    {
     "data": {
      "text/plain": [
       "'if PREDICT_YEAR!=2025:\\n    predict_year_label =notexist[[\"WTeamID\", \"LTeamID\", \"WScore\", \"LScore\"]].copy()\\n    predict_year_label.loc[:, \"Win\"] = np.where(predict_year_label[\"WScore\"] - predict_year_label[\"LScore\"] > 0, 1, 0)\\n    predict_year_label = predict_year_label[[\"WTeamID\", \"LTeamID\", \"Win\"]]\\n   \\n    predict_year_label.columns = [\"T1_TeamID\", \"T2_TeamID\", \"Win\"]\\n\\n    predict_year_label = pd.merge(predict_year_label, sub, on=[\"T1_TeamID\", \"T2_TeamID\"], how=\"left\")\\n    brier_score = np.mean((predict_year_label[\"Pred\"] - predict_year_label[\"Win\"])**2)\\n\\n    print(\"Brier Score:\", brier_score)\\n    results+=[f\"Brier Score: {brier_score}\", \"\"]\\n    predict_year_label.info()\\n'"
      ]
     },
     "execution_count": 41,
     "metadata": {},
     "output_type": "execute_result"
    }
   ],
   "source": [
    "\"\"\"if PREDICT_YEAR!=2025:\n",
    "    predict_year_label =notexist[[\"WTeamID\", \"LTeamID\", \"WScore\", \"LScore\"]].copy()\n",
    "    predict_year_label.loc[:, \"Win\"] = np.where(predict_year_label[\"WScore\"] - predict_year_label[\"LScore\"] > 0, 1, 0)\n",
    "    predict_year_label = predict_year_label[[\"WTeamID\", \"LTeamID\", \"Win\"]]\n",
    "   \n",
    "    predict_year_label.columns = [\"T1_TeamID\", \"T2_TeamID\", \"Win\"]\n",
    "\n",
    "    predict_year_label = pd.merge(predict_year_label, sub, on=[\"T1_TeamID\", \"T2_TeamID\"], how=\"left\")\n",
    "    brier_score = np.mean((predict_year_label[\"Pred\"] - predict_year_label[\"Win\"])**2)\n",
    "\n",
    "    print(\"Brier Score:\", brier_score)\n",
    "    results+=[f\"Brier Score: {brier_score}\", \"\"]\n",
    "    predict_year_label.info()\n",
    "\"\"\""
   ]
  },
  {
   "cell_type": "code",
   "execution_count": 42,
   "id": "86f29a7b",
   "metadata": {
    "execution": {
     "iopub.execute_input": "2025-03-12T13:08:22.463857Z",
     "iopub.status.busy": "2025-03-12T13:08:22.462768Z",
     "iopub.status.idle": "2025-03-12T13:08:22.468137Z",
     "shell.execute_reply": "2025-03-12T13:08:22.468137Z"
    },
    "papermill": {
     "duration": 0.025265,
     "end_time": "2025-03-12T13:08:22.468137",
     "exception": false,
     "start_time": "2025-03-12T13:08:22.442872",
     "status": "completed"
    },
    "tags": []
   },
   "outputs": [
    {
     "name": "stdout",
     "output_type": "stream",
     "text": [
      "実行時間： 749.3秒\n"
     ]
    }
   ],
   "source": [
    "END_TIME = time.time()\n",
    "ELAPSED_TIME = END_TIME - START_TIME\n",
    "print(f\"実行時間： {ELAPSED_TIME:.1f}秒\")\n",
    "results.append(f\"実行時間： {ELAPSED_TIME:.1f}秒\")\n",
    "\n",
    "with open(os.path.join(OUTPUT_PATH, \"result.txt\"), \"a\", encoding=\"utf-8\") as f:\n",
    "    for line in results:\n",
    "        f.write(line + \"\\n\")"
   ]
  },
  {
   "cell_type": "code",
   "execution_count": 43,
   "id": "39bf236e",
   "metadata": {
    "execution": {
     "iopub.execute_input": "2025-03-12T13:08:22.495975Z",
     "iopub.status.busy": "2025-03-12T13:08:22.495975Z",
     "iopub.status.idle": "2025-03-12T13:08:22.511977Z",
     "shell.execute_reply": "2025-03-12T13:08:22.510923Z"
    },
    "papermill": {
     "duration": 0.032227,
     "end_time": "2025-03-12T13:08:22.511977",
     "exception": false,
     "start_time": "2025-03-12T13:08:22.479750",
     "status": "completed"
    },
    "tags": []
   },
   "outputs": [],
   "source": [
    "logger.remove()"
   ]
  }
 ],
 "metadata": {
  "kernelspec": {
   "display_name": "deep_learning_pytorch",
   "language": "python",
   "name": "python3"
  },
  "language_info": {
   "codemirror_mode": {
    "name": "ipython",
    "version": 3
   },
   "file_extension": ".py",
   "mimetype": "text/x-python",
   "name": "python",
   "nbconvert_exporter": "python",
   "pygments_lexer": "ipython3",
   "version": "3.11.9"
  },
  "papermill": {
   "default_parameters": {},
   "duration": 753.243834,
   "end_time": "2025-03-12T13:08:23.088448",
   "environment_variables": {},
   "exception": null,
   "input_path": "c:\\Users\\81809\\Documents\\ALL_CODE\\kaggle\\March Machine Learning Mania 2025\\notebook\\1stplace_solution_2023.ipynb",
   "output_path": "exp047_20250312_215549.ipynb",
   "parameters": {
    "EXP_NUM": "exp047"
   },
   "start_time": "2025-03-12T12:55:49.844614",
   "version": "2.6.0"
  }
 },
 "nbformat": 4,
 "nbformat_minor": 5
}