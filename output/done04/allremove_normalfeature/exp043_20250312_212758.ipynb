{
 "cells": [
  {
   "cell_type": "code",
   "execution_count": 1,
   "id": "ceb7873d",
   "metadata": {
    "execution": {
     "iopub.execute_input": "2025-03-12T12:27:59.690529Z",
     "iopub.status.busy": "2025-03-12T12:27:59.690529Z",
     "iopub.status.idle": "2025-03-12T12:27:59.703802Z",
     "shell.execute_reply": "2025-03-12T12:27:59.703802Z"
    },
    "papermill": {
     "duration": 0.016772,
     "end_time": "2025-03-12T12:27:59.705833",
     "exception": false,
     "start_time": "2025-03-12T12:27:59.689061",
     "status": "completed"
    },
    "tags": [
     "parameters"
    ]
   },
   "outputs": [],
   "source": [
    "# Parameters\n",
    "EXP_NUM = \"default\""
   ]
  },
  {
   "cell_type": "code",
   "execution_count": 2,
   "id": "bc893e86",
   "metadata": {
    "execution": {
     "iopub.execute_input": "2025-03-12T12:27:59.709257Z",
     "iopub.status.busy": "2025-03-12T12:27:59.709257Z",
     "iopub.status.idle": "2025-03-12T12:27:59.721635Z",
     "shell.execute_reply": "2025-03-12T12:27:59.721635Z"
    },
    "papermill": {
     "duration": 0.012378,
     "end_time": "2025-03-12T12:27:59.721635",
     "exception": false,
     "start_time": "2025-03-12T12:27:59.709257",
     "status": "completed"
    },
    "tags": [
     "injected-parameters"
    ]
   },
   "outputs": [],
   "source": [
    "# Parameters\n",
    "EXP_NUM = \"exp043\"\n"
   ]
  },
  {
   "cell_type": "markdown",
   "id": "202d84d2",
   "metadata": {
    "papermill": {
     "duration": 0.005101,
     "end_time": "2025-03-12T12:27:59.733397",
     "exception": false,
     "start_time": "2025-03-12T12:27:59.728296",
     "status": "completed"
    },
    "tags": []
   },
   "source": [
    "# 2023 1st place solution\n",
    "[kaggle notebook](https://www.kaggle.com/code/rustyb/paris-madness-2023#Load-the-data!)"
   ]
  },
  {
   "cell_type": "markdown",
   "id": "8d7d6d20",
   "metadata": {
    "papermill": {
     "duration": 0.014011,
     "end_time": "2025-03-12T12:27:59.747408",
     "exception": false,
     "start_time": "2025-03-12T12:27:59.733397",
     "status": "completed"
    },
    "tags": []
   },
   "source": [
    "# コードの流れ\n",
    "1. hydraからハイパラ取得し、パスなどを設定\n",
    "\n",
    "    regular&tourney Detaile Result, Seedを使用し、tourneyを目的変数としてモデルを予測していく\n",
    "\n",
    "    regular_data->season_statistics->\n",
    "\n",
    "    以下の前処理をする\n",
    "\n",
    "2. データ２倍にかさまし\n",
    "3. regularに対して特徴量の追加\n",
    "    各チームごとに加えるもの\n",
    "   - EFFG: フィールドゴール成功率\n",
    "   - EFFG3: フィールドゴール3p成功率\n",
    "   - DARE: フィールドゴールにおける3P率\n",
    "   - \"win\"を目的変数とする(Team, Season)のロジスティック回帰した各係数\n",
    "    対戦カードごとに加える特徴量\n",
    "    - PointDiff: ポイント差\n",
    "    - win: 1 if PointDiff>0 else 0\n",
    "4. (Team, Season)ごとに特徴量season_statixtics追加\n",
    "    - win_ratio_14d\n",
    "    - box score mean\n",
    "    - quality\n",
    "    - seed\n",
    "5. season_average.enabled=trueなら直近３シーズンの加重平均の処理加える\n",
    "6. tourneyをteamID, Season, score(y)のみ取り出してこれに対してseason_statisticsの結合と特徴量微調整\n",
    "   - seed->seeddiff\n",
    "   - fillna()\n",
    "\n",
    "7. モデル構築\n",
    "8. KFOLD->OOF予測->spline曲線求めてlogloss算出\n",
    "    - KFOLDによる交差検証（CV）\n",
    "        repeat_cv 回のループで、各反復ごとにKFold（folds_splits個）によりデータを分割し、XGBoostのCVを実行しています。\n",
    "        各foldでの結果（例えば、訓練MAE、検証MAEの平均値や標準偏差）がcv_resultとして得られ、それをxgb_cvリストに格納します。\n",
    "        この段階で重要なのは、各反復での検証用MAEの平均値 (test-mae-mean) の最小値と、そのときのブーストラウンド数です。\n",
    "        それらは後で、最適なイテレーション数 (iteration_counts) として計算され、val_mae にも格納されます。\n",
    "    - OOF予測の流れ\n",
    "\n",
    "        各反復ごとに、新たなKFoldを用いてデータを分割。\n",
    "        各foldごとに、学習データでモデルを訓練し、検証データに対して予測を実施。\n",
    "        すべてのfold分の予測結果を1つの予測配列にまとめ、最後に -30～30 の範囲にクリップしています。\n",
    "        重要な結果\n",
    "\n",
    "        OOF予測結果（oof_preds）自体は後段で別途評価指標に使用できるほか、各反復ごとの予測精度や誤差を算出する際の基礎データ\n",
    "9.  提出フェーズ\n",
    "    - 最適paramで全データ使って訓練\n",
    "    - 提出試合の予測"
   ]
  },
  {
   "cell_type": "markdown",
   "id": "c72d5b13",
   "metadata": {
    "papermill": {
     "duration": 0.01113,
     "end_time": "2025-03-12T12:27:59.759574",
     "exception": false,
     "start_time": "2025-03-12T12:27:59.748444",
     "status": "completed"
    },
    "tags": []
   },
   "source": [
    "memo\n",
    "\n",
    "欠損値が発生していいのか検討して保管について考える\n",
    "seedがかけているのはregularに対してseedを与えているから大丈夫。最終的なtourneyには欠損０で追加できているから問題ない"
   ]
  },
  {
   "cell_type": "code",
   "execution_count": 3,
   "id": "28f3b40d",
   "metadata": {
    "execution": {
     "iopub.execute_input": "2025-03-12T12:27:59.759574Z",
     "iopub.status.busy": "2025-03-12T12:27:59.759574Z",
     "iopub.status.idle": "2025-03-12T12:27:59.777963Z",
     "shell.execute_reply": "2025-03-12T12:27:59.777963Z"
    },
    "papermill": {
     "duration": 0.018389,
     "end_time": "2025-03-12T12:27:59.777963",
     "exception": false,
     "start_time": "2025-03-12T12:27:59.759574",
     "status": "completed"
    },
    "tags": []
   },
   "outputs": [
    {
     "name": "stdout",
     "output_type": "stream",
     "text": [
      "Current working directory: c:\\Users\\81809\\Documents\\ALL_CODE\\kaggle\\March Machine Learning Mania 2025\\notebook\n",
      "これ出力されてんの？\n"
     ]
    }
   ],
   "source": [
    "import os\n",
    "print(\"Current working directory:\", os.getcwd())\n",
    "print(\"これ出力されてんの？\")"
   ]
  },
  {
   "cell_type": "code",
   "execution_count": 4,
   "id": "d53de24c",
   "metadata": {
    "execution": {
     "iopub.execute_input": "2025-03-12T12:27:59.790874Z",
     "iopub.status.busy": "2025-03-12T12:27:59.790874Z",
     "iopub.status.idle": "2025-03-12T12:28:02.072150Z",
     "shell.execute_reply": "2025-03-12T12:28:02.072150Z"
    },
    "papermill": {
     "duration": 2.294187,
     "end_time": "2025-03-12T12:28:02.072150",
     "exception": false,
     "start_time": "2025-03-12T12:27:59.777963",
     "status": "completed"
    },
    "tags": []
   },
   "outputs": [
    {
     "name": "stderr",
     "output_type": "stream",
     "text": [
      "C:\\Users\\81809\\anaconda3\\envs\\deep_learning_pytorch\\Lib\\site-packages\\tqdm\\auto.py:21: TqdmWarning: IProgress not found. Please update jupyter and ipywidgets. See https://ipywidgets.readthedocs.io/en/stable/user_install.html\n",
      "  from .autonotebook import tqdm as notebook_tqdm\n"
     ]
    },
    {
     "name": "stdout",
     "output_type": "stream",
     "text": [
      "exp043\n",
      "Omega conf is below\n",
      "dir:\n",
      "  input_dir: ../input\n",
      "  output_dir: ../output\n",
      "  src_path: ../src\n",
      "  conf_path: ../conf\n",
      "exp:\n",
      "  name: allremove_normalfeature\n",
      "  print_name: remove normal feature\n",
      "  tournament:\n",
      "    use_start_season: 1985\n",
      "    target_season: 2021\n",
      "  features:\n",
      "    cal_mean_boxscore:\n",
      "      T1_Score: true\n",
      "      T2_Score: true\n",
      "      PointDiff: true\n",
      "      T1_FGM: false\n",
      "      T2_FGM: false\n",
      "      T1_FGA: false\n",
      "      T2_FGA: false\n",
      "      T1_FGM3: false\n",
      "      T2_FGM3: false\n",
      "      T1_FGA3: false\n",
      "      T2_FGA3: false\n",
      "      T1_FTM: false\n",
      "      T2_FTM: false\n",
      "      T1_FTA: false\n",
      "      T2_FTA: false\n",
      "      T1_EFFG: false\n",
      "      T2_EFFG: false\n",
      "      T1_EFFG3: false\n",
      "      T2_EFFG3: false\n",
      "      T1_EFG_SUM: true\n",
      "      T2_EFG_SUM: true\n",
      "      T1_TO_RATIO: true\n",
      "      T2_TO_RATIO: true\n",
      "      T1_OR: false\n",
      "      T2_OR: false\n",
      "      T1_DR: false\n",
      "      T2_DR: false\n",
      "      T1_REB_RATE: true\n",
      "      T2_REB_RATE: true\n",
      "      T1_FT_RATE: true\n",
      "      T2_FT_RATE: true\n",
      "      T1_RATING: false\n",
      "      T2_RATING: false\n",
      "      T1_POSS_RATE: true\n",
      "      T2_POSS_RATE: true\n",
      "      T1_Ast: false\n",
      "      T2_Ast: false\n",
      "      T1_TO: false\n",
      "      T2_TO: false\n",
      "      T1_Stl: false\n",
      "      T2_Stl: false\n",
      "      T1_Blk: false\n",
      "      T2_Blk: false\n",
      "      T1_PF: false\n",
      "      T2_PF: false\n",
      "      T1_DARE: false\n",
      "      T2_DARE: false\n",
      "      T1_TOQUETOQUE: false\n",
      "      T2_TOQUETOQUE: false\n",
      "    rank_diff: true\n",
      "    start_quality_season: 2003\n",
      "    season_average:\n",
      "      enabled: false\n",
      "      past_years: 3\n",
      "      weights:\n",
      "      - 1\n",
      "      - 2\n",
      "      - 3\n",
      "    fillna:\n",
      "      quality: 'nan'\n",
      "  model:\n",
      "    repeat_cv: 10\n",
      "    optuna_enabled: false\n",
      "    xgb_model:\n",
      "      param:\n",
      "        eval_metric: rmse\n",
      "        booster: gbtree\n",
      "        eta: 0.02\n",
      "        subsample: 0.35\n",
      "        colsample_bytree: 0.7\n",
      "        num_parallel_tree: 10\n",
      "        min_child_weight: 40\n",
      "        gamma: 10\n",
      "        max_depth: 3\n",
      "      obj: cauchyoj\n",
      "      num_boost_round: 3000\n",
      "      folds_splits: 5\n",
      "      early_stopping_rounds: 25\n",
      "      optuna:\n",
      "        max_depth:\n",
      "        - 3\n",
      "        - 7\n",
      "        eta:\n",
      "        - 0.001\n",
      "        - 0.03\n",
      "        subsample:\n",
      "        - 0.2\n",
      "        - 0.5\n",
      "        colsample_bytree:\n",
      "        - 0.5\n",
      "        - 1.0\n",
      "        num_parallel_tree:\n",
      "        - 7\n",
      "        - 12\n",
      "        min_child_weight:\n",
      "        - 30\n",
      "        - 50\n",
      "        reg_alpha:\n",
      "        - 0.0\n",
      "        - 1.0\n",
      "        reg_lambda:\n",
      "        - 0.0\n",
      "        - 1.0\n",
      "        gamma:\n",
      "        - 0\n",
      "        - 10\n",
      "        n_trials: 1000\n",
      "        timeout: 28800\n",
      "        n_jobs: -1\n",
      "        n_warmup_steps: 3\n",
      "    spline: logistic\n",
      "  hand_labeling: null\n",
      "\n"
     ]
    }
   ],
   "source": [
    "\n",
    "import os\n",
    "import sys\n",
    "from pathlib import Path\n",
    "import collections\n",
    "from datetime import datetime\n",
    "import shutil\n",
    "import yaml\n",
    "from tqdm import tqdm\n",
    "import time\n",
    "import optuna\n",
    "from loguru import logger\n",
    "import collections\n",
    "\n",
    "from hydra import initialize, initialize_config_module, initialize_config_dir, compose\n",
    "from omegaconf import OmegaConf\n",
    "\n",
    "import numpy as np\n",
    "import pandas as pd\n",
    "import matplotlib.pyplot as plt\n",
    "import seaborn as sns\n",
    "from scipy.interpolate import UnivariateSpline\n",
    "\n",
    "import xgboost as xgb\n",
    "from xgboost import XGBRegressor\n",
    "from sklearn.model_selection import KFold\n",
    "from sklearn.calibration import calibration_curve\n",
    "from sklearn.metrics import log_loss,mean_squared_error, mean_absolute_error, roc_auc_score, average_precision_score\n",
    "from sklearn.metrics import make_scorer\n",
    "from sklearn.model_selection import cross_val_score, KFold\n",
    "from sklearn.linear_model import LogisticRegression\n",
    "from sklearn.preprocessing import OneHotEncoder\n",
    "from sklearn.isotonic import IsotonicRegression\n",
    "\n",
    "import statsmodels.api as sm\n",
    "\n",
    "START_TIME = time.time()\n",
    "\n",
    "\n",
    "#####\n",
    "#EXP_NUM = \"exp030\"\n",
    "#####\n",
    "print(EXP_NUM)\n",
    "\n",
    "# hydraの初期設定と指定ハイパラの取得\n",
    "sys.path.append(os.path.abspath(\"/workspace\"))\n",
    "sys.path.append(\"C:\\\\Users\\\\81809\\\\Documents\\\\ALL_CODE\\\\kaggle\\\\March Machine Learning Mania 2025\")\n",
    "with initialize_config_module(version_base=None, config_module=\"conf\"):\n",
    "    cfg = compose(\n",
    "        config_name=\"base.yaml\",\n",
    "        overrides=[\n",
    "            f\"+exp={EXP_NUM}\" #defaultexp001->exp002のオーバーライド\n",
    "        ],\n",
    "    )\n",
    "    \n",
    "    OmegaConf.resolve(cfg)\n",
    "    print(\"Omega conf is below\")\n",
    "    print(OmegaConf.to_yaml(cfg))\n"
   ]
  },
  {
   "cell_type": "code",
   "execution_count": 5,
   "id": "7a373dfc",
   "metadata": {
    "execution": {
     "iopub.execute_input": "2025-03-12T12:28:02.080863Z",
     "iopub.status.busy": "2025-03-12T12:28:02.080863Z",
     "iopub.status.idle": "2025-03-12T12:28:02.103407Z",
     "shell.execute_reply": "2025-03-12T12:28:02.103407Z"
    },
    "papermill": {
     "duration": 0.022544,
     "end_time": "2025-03-12T12:28:02.103407",
     "exception": false,
     "start_time": "2025-03-12T12:28:02.080863",
     "status": "completed"
    },
    "tags": []
   },
   "outputs": [
    {
     "name": "stdout",
     "output_type": "stream",
     "text": [
      "########\n",
      "output dir name: allremove_normalfeature\n",
      "Run on 2025-03-12 21:28:02.080863\n",
      "remove normal feature\n",
      "########\n"
     ]
    }
   ],
   "source": [
    "PREDICT_YEAR = cfg.exp.tournament.target_season\n",
    "name = f\"{cfg.exp.name}\"\n",
    "now = str(datetime.now())\n",
    "print(\"########\")\n",
    "print(f\"output dir name: {name}\")\n",
    "print(f\"Run on {now}\")\n",
    "print(cfg.exp.print_name)\n",
    "print(\"########\")\n",
    "\n",
    "BASE_DIR = os.path.abspath(os.path.join(os.getcwd(), \"..\"))\n",
    "CONF_PATH = os.path.join(BASE_DIR, \"conf\")\n",
    "INPUT_PATH = os.path.join(BASE_DIR, \"input\")\n",
    "EXP_PATH = os.path.join(CONF_PATH, \"exp\", f\"{EXP_NUM}.yaml\")\n",
    "OUTPUT_PATH = os.path.join(BASE_DIR, \"output\", name)\n",
    "SRC_PATH = cfg.dir.src_path\n",
    "sys.path.append(SRC_PATH)\n",
    "\n",
    "os.makedirs(OUTPUT_PATH, exist_ok=True)  \n",
    "with open(EXP_PATH, \"r\", encoding=\"utf-8\") as f:\n",
    "    config = yaml.safe_load(f)\n",
    "shutil.copyfile(EXP_PATH, os.path.join(OUTPUT_PATH, f\"{EXP_NUM}.yaml\"))\n",
    "\n",
    "\n",
    "y_season = cfg.exp.tournament.target_season\n",
    "FEATURES = cfg.exp.features\n",
    "MODEL = cfg.exp.model\n",
    "results = [f\"-----{PREDICT_YEAR}-----\", now ,name, cfg.exp.print_name,\"\"]"
   ]
  },
  {
   "cell_type": "code",
   "execution_count": 6,
   "id": "33e8f156",
   "metadata": {
    "execution": {
     "iopub.execute_input": "2025-03-12T12:28:02.115345Z",
     "iopub.status.busy": "2025-03-12T12:28:02.115345Z",
     "iopub.status.idle": "2025-03-12T12:28:03.626109Z",
     "shell.execute_reply": "2025-03-12T12:28:03.626109Z"
    },
    "papermill": {
     "duration": 1.517919,
     "end_time": "2025-03-12T12:28:03.626109",
     "exception": false,
     "start_time": "2025-03-12T12:28:02.108190",
     "status": "completed"
    },
    "tags": []
   },
   "outputs": [],
   "source": [
    "tourney_results = pd.concat([\n",
    "    pd.read_csv(os.path.join(INPUT_PATH,\"MNCAATourneyDetailedResults.csv\")),\n",
    "    pd.read_csv(os.path.join(INPUT_PATH,\"WNCAATourneyDetailedResults.csv\")),\n",
    "], ignore_index=True)\n",
    "\n",
    "seeds = pd.concat([\n",
    "    pd.read_csv(os.path.join(INPUT_PATH,\"MNCAATourneySeeds.csv\")),\n",
    "    pd.read_csv(os.path.join(INPUT_PATH,\"WNCAATourneySeeds.csv\")),\n",
    "], ignore_index=True)\n",
    "\n",
    "regular_results = pd.concat([\n",
    "    pd.read_csv(os.path.join(INPUT_PATH, \"MRegularSeasonDetailedResults.csv\")),\n",
    "    pd.read_csv(os.path.join(INPUT_PATH,\"WRegularSeasonDetailedResults.csv\")),\n",
    "], ignore_index=True)\n",
    "\n",
    "ordinal_rank = pd.read_csv(os.path.join(INPUT_PATH, \"MMasseyOrdinals.csv\"))\n",
    "\n",
    "# 1試合情報からWin,Lose反転させてデータ数２倍にかさまし and WLoc -> location(0 or -1 or 1)\n",
    "def prepare_data(df1):\n",
    "    df = df1.copy()\n",
    "    ### add new box score\n",
    "    #type1: normal EFG\n",
    "    df['WEFFG'] = df['WFGM'] / df['WFGA']\n",
    "    df['LEFFG'] = df['LFGM'] / df['LFGA']\n",
    "    #type2: 1stfeature EFG\n",
    "    df['WEFFG3'] = np.where(df['WFGA3'] == 0, 0, df['WFGM3'] / df['WFGA3'])\n",
    "    df['LEFFG3'] = np.where(df['LFGA3'] == 0, 0, df['LFGM3'] / df['LFGA3'])\n",
    "    df['WDARE'] = df['WFGM3'] / df['WFGM']\n",
    "    df['LDARE'] = df['LFGM3'] / df['LFGM']\n",
    "    df['WTOQUETOQUE'] = df['WAst'] / df['WFGM']\n",
    "    df['LTOQUETOQUE'] = df['LAst'] / df['LFGM']\n",
    "    #type3: OFF/DEF FGE\n",
    "    df[\"WEFG_SUM\"] = (df[\"WFGM\"]+0.5*df[\"WFGM3\"])/df[\"WFGA\"]\n",
    "    df[\"LEFG_SUM\"] = (df[\"LFGM\"]+0.5*df[\"LFGM3\"])/df[\"LFGA\"]\n",
    "\n",
    "    #POSS RATE\n",
    "    df[\"WPOSS\"] = df[\"WFGA\"] + 0.44*df[\"WFTA\"] - df[\"WOR\"] + df[\"WTO\"]\n",
    "    df[\"LPOSS\"] = df[\"LFGA\"] + 0.44*df[\"LFTA\"] - df[\"LOR\"] + df[\"LTO\"]\n",
    "    df[\"WPOSS_RATE\"] = df[\"WPOSS\"]/(df[\"WPOSS\"]+df[\"LPOSS\"])\n",
    "    df[\"LPOSS_RATE\"] = df[\"LPOSS\"]/(df[\"WPOSS\"]+df[\"LPOSS\"])\n",
    "    \n",
    "    #TO Ratio \n",
    "    df[\"WTO_RATIO\"] = df[\"WTO\"]/(df[\"WFGA\"]+0.44*df[\"WFTA\"]+df[\"WTO\"])#POSS RATEと違ってOR入っていない\n",
    "    df[\"LTO_RATIO\"] = df[\"LTO\"]/(df[\"LFGA\"]+0.44*df[\"LFTA\"]+df[\"LTO\"])\n",
    "    \n",
    "    # REB%\n",
    "    df[\"WREB_RATE\"] = df[\"WOR\"]/(df[\"WOR\"]+df[\"LDR\"])\n",
    "    df[\"LREB_RATE\"] = df[\"LOR\"]/(df[\"LOR\"]+df[\"WDR\"])\n",
    "    \n",
    "    #FT %\n",
    "    df[\"WFT_RATE\"] = df[\"WFTA\"]/df[\"WFGA\"]\n",
    "    df[\"LFT_RATE\"] = df[\"LFTA\"]/df[\"LFGA\"]\n",
    "    \n",
    "    #rating\n",
    "    df[\"WRATING\"] = df[\"WScore\"]/df[\"WPOSS\"]\n",
    "    df[\"LRATING\"] = df[\"LScore\"]/df[\"LPOSS\"]\n",
    "        \n",
    "    #0除算補完\n",
    "    print(df.info())\n",
    "        \n",
    "    #かさましに伴う反転カラム\n",
    "    dfswap = df.copy()\n",
    "    # Home, Away変換して反転\n",
    "    dfswap.loc[df['WLoc'] == 'H', 'WLoc'] = 'A'\n",
    "    dfswap.loc[df['WLoc'] == 'A', 'WLoc'] = 'H'\n",
    "    df.columns.values[6] = 'location'\n",
    "    dfswap.columns.values[6] = 'location'    \n",
    "    #反転\n",
    "    df.columns = [x.replace('W','T1_').replace('L','T2_') for x in list(df.columns)]\n",
    "    dfswap.columns = [x.replace('L','T1_').replace('W','T2_') for x in list(dfswap.columns)]\n",
    "    output = pd.concat([df, dfswap]).reset_index(drop=True)\n",
    "    \n",
    "    \n",
    "    #add new feature\n",
    "    #locationを数値に変換\n",
    "    output.loc[output.location=='N','location'] = '0'\n",
    "    output.loc[output.location=='H','location'] = '1'\n",
    "    output.loc[output.location=='A','location'] = '-1'\n",
    "    output.location = output.location.astype(int)\n",
    "    \n",
    "    #add PointDiff&win\n",
    "    output['PointDiff'] = output['T1_Score'] - output['T2_Score']\n",
    "    output[\"win\"] = np.where(output['PointDiff']>0,1,0)\n",
    "    \n",
    "    \n",
    "    print(f\"feature cols after prepare()\")\n",
    "    print(output.columns)\n",
    "    return output\n",
    "\n"
   ]
  },
  {
   "cell_type": "code",
   "execution_count": 7,
   "id": "d039696b",
   "metadata": {
    "execution": {
     "iopub.execute_input": "2025-03-12T12:28:03.643083Z",
     "iopub.status.busy": "2025-03-12T12:28:03.643083Z",
     "iopub.status.idle": "2025-03-12T12:28:03.697442Z",
     "shell.execute_reply": "2025-03-12T12:28:03.697442Z"
    },
    "papermill": {
     "duration": 0.071333,
     "end_time": "2025-03-12T12:28:03.697442",
     "exception": false,
     "start_time": "2025-03-12T12:28:03.626109",
     "status": "completed"
    },
    "tags": []
   },
   "outputs": [
    {
     "name": "stdout",
     "output_type": "stream",
     "text": [
      "各カラムの異常値の個数を表示します。\n",
      "\n"
     ]
    }
   ],
   "source": [
    "import numpy as np\n",
    "\n",
    "# 異常値のチェック\n",
    "def check_abnormal_values(df):\n",
    "    print(\"各カラムの異常値の個数を表示します。\\n\")\n",
    "\n",
    "    for col in df.columns:\n",
    "        nan_count = df[col].isna().sum()  # NaN の数\n",
    "        inf_count = (df[col] == np.inf).sum()  # inf の数\n",
    "        neg_inf_count = (df[col] == -np.inf).sum()  # -inf の数\n",
    "\n",
    "        if nan_count > 0 or inf_count > 0 or neg_inf_count > 0:\n",
    "            print(f\"Column: {col}\")\n",
    "            print(f\"  NaN    : {nan_count}\")\n",
    "            print(f\"  Inf    : {inf_count}\")\n",
    "            print(f\"  -Inf   : {neg_inf_count}\")\n",
    "            print(\"-\" * 30)\n",
    "\n",
    "# 関数を実行\n",
    "check_abnormal_values(regular_results)\n"
   ]
  },
  {
   "cell_type": "code",
   "execution_count": 8,
   "id": "cd3f4275",
   "metadata": {
    "execution": {
     "iopub.execute_input": "2025-03-12T12:28:03.707361Z",
     "iopub.status.busy": "2025-03-12T12:28:03.707361Z",
     "iopub.status.idle": "2025-03-12T12:28:04.121549Z",
     "shell.execute_reply": "2025-03-12T12:28:04.121549Z"
    },
    "papermill": {
     "duration": 0.424107,
     "end_time": "2025-03-12T12:28:04.121549",
     "exception": false,
     "start_time": "2025-03-12T12:28:03.697442",
     "status": "completed"
    },
    "tags": []
   },
   "outputs": [
    {
     "name": "stdout",
     "output_type": "stream",
     "text": [
      "<class 'pandas.core.frame.DataFrame'>\n",
      "Index: 157103 entries, 0 to 178864\n",
      "Data columns (total 56 columns):\n",
      " #   Column       Non-Null Count   Dtype  \n",
      "---  ------       --------------   -----  \n",
      " 0   Season       157103 non-null  int64  \n",
      " 1   DayNum       157103 non-null  int64  \n",
      " 2   WTeamID      157103 non-null  int64  \n",
      " 3   WScore       157103 non-null  int64  \n",
      " 4   LTeamID      157103 non-null  int64  \n",
      " 5   LScore       157103 non-null  int64  \n",
      " 6   WLoc         157103 non-null  object \n",
      " 7   NumOT        157103 non-null  int64  \n",
      " 8   WFGM         157103 non-null  int64  \n",
      " 9   WFGA         157103 non-null  int64  \n",
      " 10  WFGM3        157103 non-null  int64  \n",
      " 11  WFGA3        157103 non-null  int64  \n",
      " 12  WFTM         157103 non-null  int64  \n",
      " 13  WFTA         157103 non-null  int64  \n",
      " 14  WOR          157103 non-null  int64  \n",
      " 15  WDR          157103 non-null  int64  \n",
      " 16  WAst         157103 non-null  int64  \n",
      " 17  WTO          157103 non-null  int64  \n",
      " 18  WStl         157103 non-null  int64  \n",
      " 19  WBlk         157103 non-null  int64  \n",
      " 20  WPF          157103 non-null  int64  \n",
      " 21  LFGM         157103 non-null  int64  \n",
      " 22  LFGA         157103 non-null  int64  \n",
      " 23  LFGM3        157103 non-null  int64  \n",
      " 24  LFGA3        157103 non-null  int64  \n",
      " 25  LFTM         157103 non-null  int64  \n",
      " 26  LFTA         157103 non-null  int64  \n",
      " 27  LOR          157103 non-null  int64  \n",
      " 28  LDR          157103 non-null  int64  \n",
      " 29  LAst         157103 non-null  int64  \n",
      " 30  LTO          157103 non-null  int64  \n",
      " 31  LStl         157103 non-null  int64  \n",
      " 32  LBlk         157103 non-null  int64  \n",
      " 33  LPF          157103 non-null  int64  \n",
      " 34  WEFFG        157103 non-null  float64\n",
      " 35  LEFFG        157103 non-null  float64\n",
      " 36  WEFFG3       157103 non-null  float64\n",
      " 37  LEFFG3       157103 non-null  float64\n",
      " 38  WDARE        157103 non-null  float64\n",
      " 39  LDARE        157103 non-null  float64\n",
      " 40  WTOQUETOQUE  157103 non-null  float64\n",
      " 41  LTOQUETOQUE  157103 non-null  float64\n",
      " 42  WEFG_SUM     157103 non-null  float64\n",
      " 43  LEFG_SUM     157103 non-null  float64\n",
      " 44  WPOSS        157103 non-null  float64\n",
      " 45  LPOSS        157103 non-null  float64\n",
      " 46  WPOSS_RATE   157103 non-null  float64\n",
      " 47  LPOSS_RATE   157103 non-null  float64\n",
      " 48  WTO_RATIO    157103 non-null  float64\n",
      " 49  LTO_RATIO    157103 non-null  float64\n",
      " 50  WREB_RATE    157103 non-null  float64\n",
      " 51  LREB_RATE    157103 non-null  float64\n",
      " 52  WFT_RATE     157103 non-null  float64\n",
      " 53  LFT_RATE     157103 non-null  float64\n",
      " 54  WRATING      157103 non-null  float64\n",
      " 55  LRATING      157103 non-null  float64\n",
      "dtypes: float64(22), int64(33), object(1)\n",
      "memory usage: 68.3+ MB\n",
      "None\n"
     ]
    },
    {
     "name": "stdout",
     "output_type": "stream",
     "text": [
      "feature cols after prepare()\n",
      "Index(['Season', 'DayNum', 'T1_TeamID', 'T1_Score', 'T2_TeamID', 'T2_Score',\n",
      "       'location', 'NumOT', 'T1_FGM', 'T1_FGA', 'T1_FGM3', 'T1_FGA3', 'T1_FTM',\n",
      "       'T1_FTA', 'T1_OR', 'T1_DR', 'T1_Ast', 'T1_TO', 'T1_Stl', 'T1_Blk',\n",
      "       'T1_PF', 'T2_FGM', 'T2_FGA', 'T2_FGM3', 'T2_FGA3', 'T2_FTM', 'T2_FTA',\n",
      "       'T2_OR', 'T2_DR', 'T2_Ast', 'T2_TO', 'T2_Stl', 'T2_Blk', 'T2_PF',\n",
      "       'T1_EFFG', 'T2_EFFG', 'T1_EFFG3', 'T2_EFFG3', 'T1_DARE', 'T2_DARE',\n",
      "       'T1_TOQUETOQUE', 'T2_TOQUETOQUE', 'T1_EFG_SUM', 'T2_EFG_SUM', 'T1_POSS',\n",
      "       'T2_POSS', 'T1_POSS_RATE', 'T2_POSS_RATE', 'T1_TO_RATIO', 'T2_TO_RATIO',\n",
      "       'T1_REB_RATE', 'T2_REB_RATE', 'T1_FT_RATE', 'T2_FT_RATE', 'T1_RATING',\n",
      "       'T2_RATING', 'PointDiff', 'win'],\n",
      "      dtype='object')\n",
      "<class 'pandas.core.frame.DataFrame'>\n",
      "RangeIndex: 314206 entries, 0 to 314205\n",
      "Data columns (total 58 columns):\n",
      " #   Column         Non-Null Count   Dtype  \n",
      "---  ------         --------------   -----  \n",
      " 0   Season         314206 non-null  int64  \n",
      " 1   DayNum         314206 non-null  int64  \n",
      " 2   T1_TeamID      314206 non-null  int64  \n",
      " 3   T1_Score       314206 non-null  int64  \n",
      " 4   T2_TeamID      314206 non-null  int64  \n",
      " 5   T2_Score       314206 non-null  int64  \n",
      " 6   location       314206 non-null  int32  \n",
      " 7   NumOT          314206 non-null  int64  \n",
      " 8   T1_FGM         314206 non-null  int64  \n",
      " 9   T1_FGA         314206 non-null  int64  \n",
      " 10  T1_FGM3        314206 non-null  int64  \n",
      " 11  T1_FGA3        314206 non-null  int64  \n",
      " 12  T1_FTM         314206 non-null  int64  \n",
      " 13  T1_FTA         314206 non-null  int64  \n",
      " 14  T1_OR          314206 non-null  int64  \n",
      " 15  T1_DR          314206 non-null  int64  \n",
      " 16  T1_Ast         314206 non-null  int64  \n",
      " 17  T1_TO          314206 non-null  int64  \n",
      " 18  T1_Stl         314206 non-null  int64  \n",
      " 19  T1_Blk         314206 non-null  int64  \n",
      " 20  T1_PF          314206 non-null  int64  \n",
      " 21  T2_FGM         314206 non-null  int64  \n",
      " 22  T2_FGA         314206 non-null  int64  \n",
      " 23  T2_FGM3        314206 non-null  int64  \n",
      " 24  T2_FGA3        314206 non-null  int64  \n",
      " 25  T2_FTM         314206 non-null  int64  \n",
      " 26  T2_FTA         314206 non-null  int64  \n",
      " 27  T2_OR          314206 non-null  int64  \n",
      " 28  T2_DR          314206 non-null  int64  \n",
      " 29  T2_Ast         314206 non-null  int64  \n",
      " 30  T2_TO          314206 non-null  int64  \n",
      " 31  T2_Stl         314206 non-null  int64  \n",
      " 32  T2_Blk         314206 non-null  int64  \n",
      " 33  T2_PF          314206 non-null  int64  \n",
      " 34  T1_EFFG        314206 non-null  float64\n",
      " 35  T2_EFFG        314206 non-null  float64\n",
      " 36  T1_EFFG3       314206 non-null  float64\n",
      " 37  T2_EFFG3       314206 non-null  float64\n",
      " 38  T1_DARE        314206 non-null  float64\n",
      " 39  T2_DARE        314206 non-null  float64\n",
      " 40  T1_TOQUETOQUE  314206 non-null  float64\n",
      " 41  T2_TOQUETOQUE  314206 non-null  float64\n",
      " 42  T1_EFG_SUM     314206 non-null  float64\n",
      " 43  T2_EFG_SUM     314206 non-null  float64\n",
      " 44  T1_POSS        314206 non-null  float64\n",
      " 45  T2_POSS        314206 non-null  float64\n",
      " 46  T1_POSS_RATE   314206 non-null  float64\n",
      " 47  T2_POSS_RATE   314206 non-null  float64\n",
      " 48  T1_TO_RATIO    314206 non-null  float64\n",
      " 49  T2_TO_RATIO    314206 non-null  float64\n",
      " 50  T1_REB_RATE    314206 non-null  float64\n",
      " 51  T2_REB_RATE    314206 non-null  float64\n",
      " 52  T1_FT_RATE     314206 non-null  float64\n",
      " 53  T2_FT_RATE     314206 non-null  float64\n",
      " 54  T1_RATING      314206 non-null  float64\n",
      " 55  T2_RATING      314206 non-null  float64\n",
      " 56  PointDiff      314206 non-null  int64  \n",
      " 57  win            314206 non-null  int32  \n",
      "dtypes: float64(22), int32(2), int64(34)\n",
      "memory usage: 136.6 MB\n"
     ]
    },
    {
     "data": {
      "text/html": [
       "<div>\n",
       "<style scoped>\n",
       "    .dataframe tbody tr th:only-of-type {\n",
       "        vertical-align: middle;\n",
       "    }\n",
       "\n",
       "    .dataframe tbody tr th {\n",
       "        vertical-align: top;\n",
       "    }\n",
       "\n",
       "    .dataframe thead th {\n",
       "        text-align: right;\n",
       "    }\n",
       "</style>\n",
       "<table border=\"1\" class=\"dataframe\">\n",
       "  <thead>\n",
       "    <tr style=\"text-align: right;\">\n",
       "      <th></th>\n",
       "      <th>Season</th>\n",
       "      <th>DayNum</th>\n",
       "      <th>T1_TeamID</th>\n",
       "      <th>T1_Score</th>\n",
       "      <th>T2_TeamID</th>\n",
       "      <th>T2_Score</th>\n",
       "      <th>location</th>\n",
       "      <th>NumOT</th>\n",
       "      <th>T1_FGM</th>\n",
       "      <th>T1_FGA</th>\n",
       "      <th>...</th>\n",
       "      <th>T1_TO_RATIO</th>\n",
       "      <th>T2_TO_RATIO</th>\n",
       "      <th>T1_REB_RATE</th>\n",
       "      <th>T2_REB_RATE</th>\n",
       "      <th>T1_FT_RATE</th>\n",
       "      <th>T2_FT_RATE</th>\n",
       "      <th>T1_RATING</th>\n",
       "      <th>T2_RATING</th>\n",
       "      <th>PointDiff</th>\n",
       "      <th>win</th>\n",
       "    </tr>\n",
       "  </thead>\n",
       "  <tbody>\n",
       "    <tr>\n",
       "      <th>0</th>\n",
       "      <td>2003</td>\n",
       "      <td>10</td>\n",
       "      <td>1104</td>\n",
       "      <td>68</td>\n",
       "      <td>1328</td>\n",
       "      <td>62</td>\n",
       "      <td>0</td>\n",
       "      <td>0</td>\n",
       "      <td>27</td>\n",
       "      <td>58</td>\n",
       "      <td>...</td>\n",
       "      <td>0.258659</td>\n",
       "      <td>0.223104</td>\n",
       "      <td>0.388889</td>\n",
       "      <td>0.294118</td>\n",
       "      <td>0.310345</td>\n",
       "      <td>0.415094</td>\n",
       "      <td>0.907635</td>\n",
       "      <td>0.877193</td>\n",
       "      <td>6</td>\n",
       "      <td>1</td>\n",
       "    </tr>\n",
       "    <tr>\n",
       "      <th>1</th>\n",
       "      <td>2003</td>\n",
       "      <td>10</td>\n",
       "      <td>1272</td>\n",
       "      <td>70</td>\n",
       "      <td>1393</td>\n",
       "      <td>63</td>\n",
       "      <td>0</td>\n",
       "      <td>0</td>\n",
       "      <td>26</td>\n",
       "      <td>62</td>\n",
       "      <td>...</td>\n",
       "      <td>0.155950</td>\n",
       "      <td>0.136674</td>\n",
       "      <td>0.375000</td>\n",
       "      <td>0.416667</td>\n",
       "      <td>0.306452</td>\n",
       "      <td>0.298507</td>\n",
       "      <td>1.023991</td>\n",
       "      <td>0.929204</td>\n",
       "      <td>7</td>\n",
       "      <td>1</td>\n",
       "    </tr>\n",
       "    <tr>\n",
       "      <th>2</th>\n",
       "      <td>2003</td>\n",
       "      <td>11</td>\n",
       "      <td>1266</td>\n",
       "      <td>73</td>\n",
       "      <td>1437</td>\n",
       "      <td>61</td>\n",
       "      <td>0</td>\n",
       "      <td>0</td>\n",
       "      <td>24</td>\n",
       "      <td>58</td>\n",
       "      <td>...</td>\n",
       "      <td>0.123824</td>\n",
       "      <td>0.126156</td>\n",
       "      <td>0.435897</td>\n",
       "      <td>0.543860</td>\n",
       "      <td>0.500000</td>\n",
       "      <td>0.315068</td>\n",
       "      <td>1.144918</td>\n",
       "      <td>0.951341</td>\n",
       "      <td>12</td>\n",
       "      <td>1</td>\n",
       "    </tr>\n",
       "    <tr>\n",
       "      <th>3</th>\n",
       "      <td>2003</td>\n",
       "      <td>11</td>\n",
       "      <td>1296</td>\n",
       "      <td>56</td>\n",
       "      <td>1457</td>\n",
       "      <td>50</td>\n",
       "      <td>0</td>\n",
       "      <td>0</td>\n",
       "      <td>18</td>\n",
       "      <td>38</td>\n",
       "      <td>...</td>\n",
       "      <td>0.188561</td>\n",
       "      <td>0.254692</td>\n",
       "      <td>0.230769</td>\n",
       "      <td>0.472222</td>\n",
       "      <td>0.815789</td>\n",
       "      <td>0.306122</td>\n",
       "      <td>0.971548</td>\n",
       "      <td>0.868056</td>\n",
       "      <td>6</td>\n",
       "      <td>1</td>\n",
       "    </tr>\n",
       "    <tr>\n",
       "      <th>4</th>\n",
       "      <td>2003</td>\n",
       "      <td>11</td>\n",
       "      <td>1400</td>\n",
       "      <td>77</td>\n",
       "      <td>1208</td>\n",
       "      <td>71</td>\n",
       "      <td>0</td>\n",
       "      <td>0</td>\n",
       "      <td>30</td>\n",
       "      <td>61</td>\n",
       "      <td>...</td>\n",
       "      <td>0.173439</td>\n",
       "      <td>0.119218</td>\n",
       "      <td>0.531250</td>\n",
       "      <td>0.488372</td>\n",
       "      <td>0.213115</td>\n",
       "      <td>0.435484</td>\n",
       "      <td>1.208412</td>\n",
       "      <td>1.129135</td>\n",
       "      <td>6</td>\n",
       "      <td>1</td>\n",
       "    </tr>\n",
       "  </tbody>\n",
       "</table>\n",
       "<p>5 rows × 58 columns</p>\n",
       "</div>"
      ],
      "text/plain": [
       "   Season  DayNum  T1_TeamID  T1_Score  T2_TeamID  T2_Score  location  NumOT  \\\n",
       "0    2003      10       1104        68       1328        62         0      0   \n",
       "1    2003      10       1272        70       1393        63         0      0   \n",
       "2    2003      11       1266        73       1437        61         0      0   \n",
       "3    2003      11       1296        56       1457        50         0      0   \n",
       "4    2003      11       1400        77       1208        71         0      0   \n",
       "\n",
       "   T1_FGM  T1_FGA  ...  T1_TO_RATIO  T2_TO_RATIO  T1_REB_RATE  T2_REB_RATE  \\\n",
       "0      27      58  ...     0.258659     0.223104     0.388889     0.294118   \n",
       "1      26      62  ...     0.155950     0.136674     0.375000     0.416667   \n",
       "2      24      58  ...     0.123824     0.126156     0.435897     0.543860   \n",
       "3      18      38  ...     0.188561     0.254692     0.230769     0.472222   \n",
       "4      30      61  ...     0.173439     0.119218     0.531250     0.488372   \n",
       "\n",
       "   T1_FT_RATE  T2_FT_RATE  T1_RATING  T2_RATING  PointDiff  win  \n",
       "0    0.310345    0.415094   0.907635   0.877193          6    1  \n",
       "1    0.306452    0.298507   1.023991   0.929204          7    1  \n",
       "2    0.500000    0.315068   1.144918   0.951341         12    1  \n",
       "3    0.815789    0.306122   0.971548   0.868056          6    1  \n",
       "4    0.213115    0.435484   1.208412   1.129135          6    1  \n",
       "\n",
       "[5 rows x 58 columns]"
      ]
     },
     "metadata": {},
     "output_type": "display_data"
    },
    {
     "data": {
      "text/plain": [
       "None"
      ]
     },
     "metadata": {},
     "output_type": "display_data"
    }
   ],
   "source": [
    "#予測する年以降の情報はフィルタリング\n",
    "USE_START_YEAR = cfg.exp.tournament.use_start_season\n",
    "notexist = tourney_results[tourney_results[\"Season\"] == PREDICT_YEAR]\n",
    "tourney_results = tourney_results[(tourney_results[\"Season\"] >= USE_START_YEAR) & (tourney_results[\"Season\"] < PREDICT_YEAR)]\n",
    "seeds = seeds[(seeds[\"Season\"] >= USE_START_YEAR) & (seeds[\"Season\"] <= PREDICT_YEAR)]\n",
    "regular_results = regular_results[(regular_results[\"Season\"] >= USE_START_YEAR) & (regular_results[\"Season\"] <= PREDICT_YEAR)]\n",
    "\n",
    "regular_data = prepare_data(regular_results)\n",
    "display(regular_data.head(), regular_data.info())"
   ]
  },
  {
   "cell_type": "code",
   "execution_count": 9,
   "id": "076fe26e",
   "metadata": {
    "execution": {
     "iopub.execute_input": "2025-03-12T12:28:04.121549Z",
     "iopub.status.busy": "2025-03-12T12:28:04.121549Z",
     "iopub.status.idle": "2025-03-12T12:28:04.151370Z",
     "shell.execute_reply": "2025-03-12T12:28:04.151370Z"
    },
    "papermill": {
     "duration": 0.029821,
     "end_time": "2025-03-12T12:28:04.151370",
     "exception": false,
     "start_time": "2025-03-12T12:28:04.121549",
     "status": "completed"
    },
    "tags": []
   },
   "outputs": [],
   "source": [
    "#使用特徴量(boxscore_cols)を取得してそれに対して(\"Season\", 'T1_TeamID')でまとめた特徴量の追加\n",
    "#### 1. win_ration_14d ####\n",
    "def add_win_ratio_14d(df):\n",
    "    df_filtered = df[df['DayNum'] > 118].copy()\n",
    "    df_filtered['Win'] = (df_filtered['PointDiff'] > 0).astype(int)\n",
    "    \n",
    "    win_ratio_t1 = df_filtered.groupby(['Season', 'T1_TeamID'])['Win'].mean().reset_index()\n",
    "    win_ratio_t1.rename(columns={'Win': 'T1_win_ratio_14d'}, inplace=True)\n",
    "    \n",
    "    win_ratio_t2 = df_filtered.groupby(['Season', 'T2_TeamID'])['Win'].mean().reset_index()\n",
    "    win_ratio_t2.rename(columns={'Win': 'T2_win_ratio_14d'}, inplace=True)\n",
    "    \n",
    "    df = df.merge(win_ratio_t1, on=['Season', 'T1_TeamID'], how='left')\n",
    "    df = df.merge(win_ratio_t2, on=['Season', 'T2_TeamID'], how='left')\n",
    "    \n",
    "    return df\n",
    "\n",
    "##### 2. add mean of boxscore ####\n",
    "def make_col_avg(df, boxscore, group = [\"Season\", \"T1_TeamID\"], func= [np.mean]):\n",
    "    df_stat = df.groupby(group)[boxscore].agg(func)\n",
    "    df_stat.columns = [''.join(col).strip() for col in df_stat.columns.values]\n",
    "    df_stat = df_stat.reset_index()\n",
    "\n",
    "    win_ratio_cols = ['T1_win_ratio_14d'] #ここマージの関係からT2_win_ratio_14dを外したけど大丈夫か考える\n",
    "    df_win_ratio = df[group + win_ratio_cols].drop_duplicates()\n",
    "    df_stat = df_stat.merge(df_win_ratio, on=group, how='left')\n",
    "    \n",
    "    return df_stat\n",
    "\n",
    "#### 3. add team quality ####\n",
    "# 3.0 ロジスティックを行うためのregular_season_effectsデータフレームの作成\n",
    "def make_regular_season_effects(df):\n",
    "    regular_season_effects = df[['Season', 'T1_TeamID', 'T2_TeamID', 'PointDiff']].copy()\n",
    "    regular_season_effects['win'] = np.where(regular_season_effects['PointDiff'] > 0, 1, 0)\n",
    "    return regular_season_effects\n",
    "\n",
    "# 3.1\n",
    "#各シーズンごとの総当たりに対するロジスティック回帰を行う\n",
    "#目的変数はfeatureenginneringから作成したPointDiffの正負に依存するWinとする.\n",
    "#新たな特徴量\"quarity\"をseasonごとの戦績をもとにロジスティックの回帰係数として導入している\n",
    "def team_quality(season,df):\n",
    "    season_data = df[df[\"Season\"] == season]\n",
    "    X = season_data[['T1_TeamID', 'T2_TeamID']]\n",
    "    y = season_data['win']\n",
    "    print(X.shape, y.shape)\n",
    "    encoder = OneHotEncoder(sparse_output=False) #多重共線性防止, 密行列指定\n",
    "    X_encoded = encoder.fit_transform(X)\n",
    "    \n",
    "    model = LogisticRegression(fit_intercept=False)\n",
    "    model.fit(X_encoded, y)\n",
    "    team_ids = encoder.get_feature_names_out(['T1_TeamID', 'T2_TeamID'])\n",
    "\n",
    "    \n",
    "    #quarity: (チーム数)*2(ID, 回帰係数)\n",
    "    quality = pd.DataFrame({\n",
    "        'TeamID': team_ids,\n",
    "        'quality': model.coef_.flatten() #T1_TeamID_1112,,,の形でチーム数分の回帰係数が入る\n",
    "    })\n",
    "\n",
    "    # 値をint 1112 のように整形\n",
    "    quality = quality[quality['TeamID'].str.contains('T1_TeamID')]\n",
    "    quality['TeamID'] = quality['TeamID'].str.replace('T1_TeamID_', '', regex=True).astype(int)\n",
    "    quality['Season'] = season\n",
    "\n",
    "    #display(quality.head())\n",
    "    print(f\"fin make {season}'s team quarity\")\n",
    "    return quality\n",
    "\n",
    "# 4. add seed\n",
    "def add_seed(df, seeds):\n",
    "    temp = seeds.copy()\n",
    "    temp['Seed'] = temp['Seed'].apply(lambda x: int(x[1:3]))\n",
    "    temp.columns = ['Season','T1_seed','T1_TeamID']\n",
    "    df = pd.merge(df, temp, on=[\"Season\", \"T1_TeamID\"], how=\"left\")\n",
    "    return df \n",
    "\n",
    "# 5. add Ordinal rank\n",
    "def add_ordinalrank(df, ordinal):\n",
    "    df_rank = ordinal.groupby([\"Season\", \"TeamID\"])[\"OrdinalRank\"].agg(np.mean).reset_index()\n",
    "    df_rank.head()\n",
    "    ranks = df_rank.rename(columns={'TeamID': 'T1_TeamID', 'OrdinalRank': 'T1_OrdinalRank'})\n",
    "    df = pd.merge(df,ranks,on = [\"Season\",\"T1_TeamID\"],how = \"left\")\n",
    "    return df\n",
    "\n",
    "# main \n",
    "def make_season_statistics(df, boxscore, seeds, func = [np.mean]):\n",
    "    # 1. Win Ratio の計算と追加\n",
    "    add_win = add_win_ratio_14d(df)\n",
    "    print(\"after add win ratio\")\n",
    "    print(add_win.columns)  \n",
    "    \n",
    "    #2. \n",
    "    add_mean = make_col_avg(add_win, boxscore)\n",
    "    print(\"after mean of boxscore\")\n",
    "    print(add_mean.columns)\n",
    "    \n",
    "    #3. \n",
    "    global PREDICT_YEAR, USE_START_YEAR\n",
    "    start_season = max(FEATURES.start_quality_season, USE_START_YEAR)\n",
    "    print(f\"use season for quality feature is: {start_season}\")\n",
    "    regular_season_effects = make_regular_season_effects(df)\n",
    "    glm_season = [i for i in range(start_season, PREDICT_YEAR+1)]\n",
    "    glm_season.remove(2020)\n",
    "    glm_quality = pd.concat([team_quality(season, regular_season_effects) for season in glm_season]).reset_index(drop=True)\n",
    "    # add glm quality \n",
    "    glm_quality_T1 = glm_quality.rename(columns={'TeamID': 'T1_TeamID', 'quality': 'T1_quality'})\n",
    "    add_glm = add_mean.merge(glm_quality_T1, on=['Season', 'T1_TeamID'], how='left')\n",
    "\n",
    "    print(\"add glm quality\")\n",
    "    print(add_glm.columns)\n",
    "    \n",
    "    #4. \n",
    "    add_seeds = add_seed(add_glm, seeds)\n",
    "    print(\"add seeds (final form)\")\n",
    "    print(add_seeds.columns)\n",
    "    \n",
    "    #5. \n",
    "    add_rank = add_ordinalrank(add_seeds, ordinal_rank)\n",
    "    print(\"add ordinal rank\")\n",
    "    print(add_rank.columns)  \n",
    "    return add_rank"
   ]
  },
  {
   "cell_type": "code",
   "execution_count": 10,
   "id": "3bf916f1",
   "metadata": {
    "execution": {
     "iopub.execute_input": "2025-03-12T12:28:04.167509Z",
     "iopub.status.busy": "2025-03-12T12:28:04.167509Z",
     "iopub.status.idle": "2025-03-12T12:28:07.042224Z",
     "shell.execute_reply": "2025-03-12T12:28:07.042224Z"
    },
    "papermill": {
     "duration": 2.882711,
     "end_time": "2025-03-12T12:28:07.042224",
     "exception": false,
     "start_time": "2025-03-12T12:28:04.159513",
     "status": "completed"
    },
    "tags": []
   },
   "outputs": [
    {
     "name": "stdout",
     "output_type": "stream",
     "text": [
      "use boxscore col is\n",
      "['T1_Score', 'T2_Score', 'PointDiff', 'T1_EFG_SUM', 'T2_EFG_SUM', 'T1_TO_RATIO', 'T2_TO_RATIO', 'T1_REB_RATE', 'T2_REB_RATE', 'T1_FT_RATE', 'T2_FT_RATE', 'T1_POSS_RATE', 'T2_POSS_RATE']\n"
     ]
    },
    {
     "name": "stdout",
     "output_type": "stream",
     "text": [
      "after add win ratio\n",
      "Index(['Season', 'DayNum', 'T1_TeamID', 'T1_Score', 'T2_TeamID', 'T2_Score',\n",
      "       'location', 'NumOT', 'T1_FGM', 'T1_FGA', 'T1_FGM3', 'T1_FGA3', 'T1_FTM',\n",
      "       'T1_FTA', 'T1_OR', 'T1_DR', 'T1_Ast', 'T1_TO', 'T1_Stl', 'T1_Blk',\n",
      "       'T1_PF', 'T2_FGM', 'T2_FGA', 'T2_FGM3', 'T2_FGA3', 'T2_FTM', 'T2_FTA',\n",
      "       'T2_OR', 'T2_DR', 'T2_Ast', 'T2_TO', 'T2_Stl', 'T2_Blk', 'T2_PF',\n",
      "       'T1_EFFG', 'T2_EFFG', 'T1_EFFG3', 'T2_EFFG3', 'T1_DARE', 'T2_DARE',\n",
      "       'T1_TOQUETOQUE', 'T2_TOQUETOQUE', 'T1_EFG_SUM', 'T2_EFG_SUM', 'T1_POSS',\n",
      "       'T2_POSS', 'T1_POSS_RATE', 'T2_POSS_RATE', 'T1_TO_RATIO', 'T2_TO_RATIO',\n",
      "       'T1_REB_RATE', 'T2_REB_RATE', 'T1_FT_RATE', 'T2_FT_RATE', 'T1_RATING',\n",
      "       'T2_RATING', 'PointDiff', 'win', 'T1_win_ratio_14d',\n",
      "       'T2_win_ratio_14d'],\n",
      "      dtype='object')\n"
     ]
    },
    {
     "name": "stdout",
     "output_type": "stream",
     "text": [
      "after mean of boxscore\n",
      "Index(['Season', 'T1_TeamID', 'T1_Scoremean', 'T2_Scoremean', 'PointDiffmean',\n",
      "       'T1_EFG_SUMmean', 'T2_EFG_SUMmean', 'T1_TO_RATIOmean',\n",
      "       'T2_TO_RATIOmean', 'T1_REB_RATEmean', 'T2_REB_RATEmean',\n",
      "       'T1_FT_RATEmean', 'T2_FT_RATEmean', 'T1_POSS_RATEmean',\n",
      "       'T2_POSS_RATEmean', 'T1_win_ratio_14d'],\n",
      "      dtype='object')\n",
      "use season for quality feature is: 2003\n",
      "(9232, 2) (9232,)\n",
      "fin make 2003's team quarity\n",
      "(9142, 2) (9142,)\n",
      "fin make 2004's team quarity\n",
      "(9350, 2) (9350,)\n"
     ]
    },
    {
     "name": "stderr",
     "output_type": "stream",
     "text": [
      "C:\\Users\\81809\\AppData\\Local\\Temp\\ipykernel_9064\\830681465.py:20: FutureWarning: The provided callable <function mean at 0x000001236806A5C0> is currently using SeriesGroupBy.mean. In a future version of pandas, the provided callable will be used directly. To keep current behavior pass the string \"mean\" instead.\n",
      "  df_stat = df.groupby(group)[boxscore].agg(func)\n"
     ]
    },
    {
     "name": "stdout",
     "output_type": "stream",
     "text": [
      "fin make 2005's team quarity\n",
      "(9514, 2) (9514,)\n"
     ]
    },
    {
     "name": "stdout",
     "output_type": "stream",
     "text": [
      "fin make 2006's team quarity\n",
      "(10086, 2) (10086,)\n",
      "fin make 2007's team quarity\n",
      "(10326, 2) (10326,)\n",
      "fin make 2008's team quarity\n",
      "(10498, 2) (10498,)\n",
      "fin make 2009's team quarity\n",
      "(20600, 2) (20600,)\n"
     ]
    },
    {
     "name": "stdout",
     "output_type": "stream",
     "text": [
      "fin make 2010's team quarity\n",
      "(20660, 2) (20660,)\n",
      "fin make 2011's team quarity\n",
      "(20606, 2) (20606,)\n"
     ]
    },
    {
     "name": "stdout",
     "output_type": "stream",
     "text": [
      "fin make 2012's team quarity\n",
      "(21008, 2) (21008,)\n"
     ]
    },
    {
     "name": "stdout",
     "output_type": "stream",
     "text": [
      "fin make 2013's team quarity\n",
      "(21228, 2) (21228,)\n",
      "fin make 2014's team quarity\n",
      "(21136, 2) (21136,)\n"
     ]
    },
    {
     "name": "stdout",
     "output_type": "stream",
     "text": [
      "fin make 2015's team quarity\n",
      "(21156, 2) (21156,)\n",
      "fin make 2016's team quarity\n",
      "(21210, 2) (21210,)\n"
     ]
    },
    {
     "name": "stdout",
     "output_type": "stream",
     "text": [
      "fin make 2017's team quarity\n",
      "(21228, 2) (21228,)\n"
     ]
    },
    {
     "name": "stdout",
     "output_type": "stream",
     "text": [
      "fin make 2018's team quarity\n",
      "(21406, 2) (21406,)\n",
      "fin make 2019's team quarity\n",
      "(14822, 2) (14822,)\n"
     ]
    },
    {
     "name": "stdout",
     "output_type": "stream",
     "text": [
      "fin make 2021's team quarity\n",
      "add glm quality\n",
      "Index(['Season', 'T1_TeamID', 'T1_Scoremean', 'T2_Scoremean', 'PointDiffmean',\n",
      "       'T1_EFG_SUMmean', 'T2_EFG_SUMmean', 'T1_TO_RATIOmean',\n",
      "       'T2_TO_RATIOmean', 'T1_REB_RATEmean', 'T2_REB_RATEmean',\n",
      "       'T1_FT_RATEmean', 'T2_FT_RATEmean', 'T1_POSS_RATEmean',\n",
      "       'T2_POSS_RATEmean', 'T1_win_ratio_14d', 'T1_quality'],\n",
      "      dtype='object')\n",
      "add seeds (final form)\n",
      "Index(['Season', 'T1_TeamID', 'T1_Scoremean', 'T2_Scoremean', 'PointDiffmean',\n",
      "       'T1_EFG_SUMmean', 'T2_EFG_SUMmean', 'T1_TO_RATIOmean',\n",
      "       'T2_TO_RATIOmean', 'T1_REB_RATEmean', 'T2_REB_RATEmean',\n",
      "       'T1_FT_RATEmean', 'T2_FT_RATEmean', 'T1_POSS_RATEmean',\n",
      "       'T2_POSS_RATEmean', 'T1_win_ratio_14d', 'T1_quality', 'T1_seed'],\n",
      "      dtype='object')\n"
     ]
    },
    {
     "name": "stderr",
     "output_type": "stream",
     "text": [
      "C:\\Users\\81809\\AppData\\Local\\Temp\\ipykernel_9064\\830681465.py:79: FutureWarning: The provided callable <function mean at 0x000001236806A5C0> is currently using SeriesGroupBy.mean. In a future version of pandas, the provided callable will be used directly. To keep current behavior pass the string \"mean\" instead.\n",
      "  df_rank = ordinal.groupby([\"Season\", \"TeamID\"])[\"OrdinalRank\"].agg(np.mean).reset_index()\n"
     ]
    },
    {
     "name": "stdout",
     "output_type": "stream",
     "text": [
      "add ordinal rank\n",
      "Index(['Season', 'T1_TeamID', 'T1_Scoremean', 'T2_Scoremean', 'PointDiffmean',\n",
      "       'T1_EFG_SUMmean', 'T2_EFG_SUMmean', 'T1_TO_RATIOmean',\n",
      "       'T2_TO_RATIOmean', 'T1_REB_RATEmean', 'T2_REB_RATEmean',\n",
      "       'T1_FT_RATEmean', 'T2_FT_RATEmean', 'T1_POSS_RATEmean',\n",
      "       'T2_POSS_RATEmean', 'T1_win_ratio_14d', 'T1_quality', 'T1_seed',\n",
      "       'T1_OrdinalRank'],\n",
      "      dtype='object')\n"
     ]
    },
    {
     "data": {
      "text/html": [
       "<div>\n",
       "<style scoped>\n",
       "    .dataframe tbody tr th:only-of-type {\n",
       "        vertical-align: middle;\n",
       "    }\n",
       "\n",
       "    .dataframe tbody tr th {\n",
       "        vertical-align: top;\n",
       "    }\n",
       "\n",
       "    .dataframe thead th {\n",
       "        text-align: right;\n",
       "    }\n",
       "</style>\n",
       "<table border=\"1\" class=\"dataframe\">\n",
       "  <thead>\n",
       "    <tr style=\"text-align: right;\">\n",
       "      <th></th>\n",
       "      <th>Season</th>\n",
       "      <th>T1_TeamID</th>\n",
       "      <th>T1_Scoremean</th>\n",
       "      <th>T2_Scoremean</th>\n",
       "      <th>PointDiffmean</th>\n",
       "      <th>T1_EFG_SUMmean</th>\n",
       "      <th>T2_EFG_SUMmean</th>\n",
       "      <th>T1_TO_RATIOmean</th>\n",
       "      <th>T2_TO_RATIOmean</th>\n",
       "      <th>T1_REB_RATEmean</th>\n",
       "      <th>T2_REB_RATEmean</th>\n",
       "      <th>T1_FT_RATEmean</th>\n",
       "      <th>T2_FT_RATEmean</th>\n",
       "      <th>T1_POSS_RATEmean</th>\n",
       "      <th>T2_POSS_RATEmean</th>\n",
       "      <th>T1_win_ratio_14d</th>\n",
       "      <th>T1_quality</th>\n",
       "      <th>T1_seed</th>\n",
       "      <th>T1_OrdinalRank</th>\n",
       "    </tr>\n",
       "  </thead>\n",
       "  <tbody>\n",
       "    <tr>\n",
       "      <th>10692</th>\n",
       "      <td>2021</td>\n",
       "      <td>3467</td>\n",
       "      <td>64.666667</td>\n",
       "      <td>67.333333</td>\n",
       "      <td>-2.666667</td>\n",
       "      <td>0.461032</td>\n",
       "      <td>0.468687</td>\n",
       "      <td>0.204859</td>\n",
       "      <td>0.195288</td>\n",
       "      <td>0.295018</td>\n",
       "      <td>0.316049</td>\n",
       "      <td>0.242823</td>\n",
       "      <td>0.281602</td>\n",
       "      <td>0.502515</td>\n",
       "      <td>0.497485</td>\n",
       "      <td>1.00</td>\n",
       "      <td>-0.507544</td>\n",
       "      <td>NaN</td>\n",
       "      <td>NaN</td>\n",
       "    </tr>\n",
       "    <tr>\n",
       "      <th>10693</th>\n",
       "      <td>2021</td>\n",
       "      <td>3468</td>\n",
       "      <td>62.772727</td>\n",
       "      <td>77.181818</td>\n",
       "      <td>-14.409091</td>\n",
       "      <td>0.407715</td>\n",
       "      <td>0.544363</td>\n",
       "      <td>0.186309</td>\n",
       "      <td>0.188405</td>\n",
       "      <td>0.264196</td>\n",
       "      <td>0.327501</td>\n",
       "      <td>0.309169</td>\n",
       "      <td>0.292399</td>\n",
       "      <td>0.503859</td>\n",
       "      <td>0.496141</td>\n",
       "      <td>0.00</td>\n",
       "      <td>-1.258597</td>\n",
       "      <td>NaN</td>\n",
       "      <td>NaN</td>\n",
       "    </tr>\n",
       "    <tr>\n",
       "      <th>10694</th>\n",
       "      <td>2021</td>\n",
       "      <td>3469</td>\n",
       "      <td>48.500000</td>\n",
       "      <td>71.500000</td>\n",
       "      <td>-23.000000</td>\n",
       "      <td>0.348813</td>\n",
       "      <td>0.463636</td>\n",
       "      <td>0.218330</td>\n",
       "      <td>0.141077</td>\n",
       "      <td>0.232456</td>\n",
       "      <td>0.290756</td>\n",
       "      <td>0.292941</td>\n",
       "      <td>0.341444</td>\n",
       "      <td>0.496658</td>\n",
       "      <td>0.503342</td>\n",
       "      <td>NaN</td>\n",
       "      <td>-0.439471</td>\n",
       "      <td>NaN</td>\n",
       "      <td>NaN</td>\n",
       "    </tr>\n",
       "    <tr>\n",
       "      <th>10695</th>\n",
       "      <td>2021</td>\n",
       "      <td>3470</td>\n",
       "      <td>58.571429</td>\n",
       "      <td>67.000000</td>\n",
       "      <td>-8.428571</td>\n",
       "      <td>0.389943</td>\n",
       "      <td>0.473528</td>\n",
       "      <td>0.180266</td>\n",
       "      <td>0.187209</td>\n",
       "      <td>0.227059</td>\n",
       "      <td>0.302459</td>\n",
       "      <td>0.449960</td>\n",
       "      <td>0.268514</td>\n",
       "      <td>0.497868</td>\n",
       "      <td>0.502132</td>\n",
       "      <td>0.25</td>\n",
       "      <td>-1.180630</td>\n",
       "      <td>NaN</td>\n",
       "      <td>NaN</td>\n",
       "    </tr>\n",
       "    <tr>\n",
       "      <th>10696</th>\n",
       "      <td>2021</td>\n",
       "      <td>3471</td>\n",
       "      <td>61.066667</td>\n",
       "      <td>66.666667</td>\n",
       "      <td>-5.600000</td>\n",
       "      <td>0.441535</td>\n",
       "      <td>0.475691</td>\n",
       "      <td>0.169137</td>\n",
       "      <td>0.157868</td>\n",
       "      <td>0.256899</td>\n",
       "      <td>0.276011</td>\n",
       "      <td>0.225289</td>\n",
       "      <td>0.233311</td>\n",
       "      <td>0.499912</td>\n",
       "      <td>0.500088</td>\n",
       "      <td>0.50</td>\n",
       "      <td>-0.411866</td>\n",
       "      <td>NaN</td>\n",
       "      <td>NaN</td>\n",
       "    </tr>\n",
       "  </tbody>\n",
       "</table>\n",
       "</div>"
      ],
      "text/plain": [
       "       Season  T1_TeamID  T1_Scoremean  T2_Scoremean  PointDiffmean  \\\n",
       "10692    2021       3467     64.666667     67.333333      -2.666667   \n",
       "10693    2021       3468     62.772727     77.181818     -14.409091   \n",
       "10694    2021       3469     48.500000     71.500000     -23.000000   \n",
       "10695    2021       3470     58.571429     67.000000      -8.428571   \n",
       "10696    2021       3471     61.066667     66.666667      -5.600000   \n",
       "\n",
       "       T1_EFG_SUMmean  T2_EFG_SUMmean  T1_TO_RATIOmean  T2_TO_RATIOmean  \\\n",
       "10692        0.461032        0.468687         0.204859         0.195288   \n",
       "10693        0.407715        0.544363         0.186309         0.188405   \n",
       "10694        0.348813        0.463636         0.218330         0.141077   \n",
       "10695        0.389943        0.473528         0.180266         0.187209   \n",
       "10696        0.441535        0.475691         0.169137         0.157868   \n",
       "\n",
       "       T1_REB_RATEmean  T2_REB_RATEmean  T1_FT_RATEmean  T2_FT_RATEmean  \\\n",
       "10692         0.295018         0.316049        0.242823        0.281602   \n",
       "10693         0.264196         0.327501        0.309169        0.292399   \n",
       "10694         0.232456         0.290756        0.292941        0.341444   \n",
       "10695         0.227059         0.302459        0.449960        0.268514   \n",
       "10696         0.256899         0.276011        0.225289        0.233311   \n",
       "\n",
       "       T1_POSS_RATEmean  T2_POSS_RATEmean  T1_win_ratio_14d  T1_quality  \\\n",
       "10692          0.502515          0.497485              1.00   -0.507544   \n",
       "10693          0.503859          0.496141              0.00   -1.258597   \n",
       "10694          0.496658          0.503342               NaN   -0.439471   \n",
       "10695          0.497868          0.502132              0.25   -1.180630   \n",
       "10696          0.499912          0.500088              0.50   -0.411866   \n",
       "\n",
       "       T1_seed  T1_OrdinalRank  \n",
       "10692      NaN             NaN  \n",
       "10693      NaN             NaN  \n",
       "10694      NaN             NaN  \n",
       "10695      NaN             NaN  \n",
       "10696      NaN             NaN  "
      ]
     },
     "execution_count": 10,
     "metadata": {},
     "output_type": "execute_result"
    }
   ],
   "source": [
    "features = FEATURES.cal_mean_boxscore\n",
    "boxscore_cols = [col for col, use in features.items() if use]\n",
    "print(\"use boxscore col is\")\n",
    "print(boxscore_cols)\n",
    "\n",
    "season_statistics = make_season_statistics(regular_data, boxscore_cols, seeds, func = [np.mean])\n",
    "season_statistics.tail()"
   ]
  },
  {
   "cell_type": "code",
   "execution_count": 11,
   "id": "fdd1076e",
   "metadata": {
    "execution": {
     "iopub.execute_input": "2025-03-12T12:28:07.049827Z",
     "iopub.status.busy": "2025-03-12T12:28:07.049827Z",
     "iopub.status.idle": "2025-03-12T12:28:07.067135Z",
     "shell.execute_reply": "2025-03-12T12:28:07.066297Z"
    },
    "papermill": {
     "duration": 0.018409,
     "end_time": "2025-03-12T12:28:07.068236",
     "exception": false,
     "start_time": "2025-03-12T12:28:07.049827",
     "status": "completed"
    },
    "tags": []
   },
   "outputs": [
    {
     "name": "stdout",
     "output_type": "stream",
     "text": [
      "<class 'pandas.core.frame.DataFrame'>\n",
      "RangeIndex: 10697 entries, 0 to 10696\n",
      "Data columns (total 19 columns):\n",
      " #   Column            Non-Null Count  Dtype  \n",
      "---  ------            --------------  -----  \n",
      " 0   Season            10697 non-null  int64  \n",
      " 1   T1_TeamID         10697 non-null  int64  \n",
      " 2   T1_Scoremean      10697 non-null  float64\n",
      " 3   T2_Scoremean      10697 non-null  float64\n",
      " 4   PointDiffmean     10697 non-null  float64\n",
      " 5   T1_EFG_SUMmean    10697 non-null  float64\n",
      " 6   T2_EFG_SUMmean    10697 non-null  float64\n",
      " 7   T1_TO_RATIOmean   10697 non-null  float64\n",
      " 8   T2_TO_RATIOmean   10697 non-null  float64\n",
      " 9   T1_REB_RATEmean   10697 non-null  float64\n",
      " 10  T2_REB_RATEmean   10697 non-null  float64\n",
      " 11  T1_FT_RATEmean    10697 non-null  float64\n",
      " 12  T2_FT_RATEmean    10697 non-null  float64\n",
      " 13  T1_POSS_RATEmean  10697 non-null  float64\n",
      " 14  T2_POSS_RATEmean  10697 non-null  float64\n",
      " 15  T1_win_ratio_14d  10312 non-null  float64\n",
      " 16  T1_quality        9993 non-null   float64\n",
      " 17  T1_seed           1904 non-null   float64\n",
      " 18  T1_OrdinalRank    6534 non-null   float64\n",
      "dtypes: float64(17), int64(2)\n",
      "memory usage: 1.6 MB\n"
     ]
    }
   ],
   "source": [
    "season_statistics.info()"
   ]
  },
  {
   "cell_type": "code",
   "execution_count": 12,
   "id": "4c1da415",
   "metadata": {
    "execution": {
     "iopub.execute_input": "2025-03-12T12:28:07.074336Z",
     "iopub.status.busy": "2025-03-12T12:28:07.074336Z",
     "iopub.status.idle": "2025-03-12T12:28:07.132244Z",
     "shell.execute_reply": "2025-03-12T12:28:07.132244Z"
    },
    "papermill": {
     "duration": 0.060016,
     "end_time": "2025-03-12T12:28:07.134352",
     "exception": false,
     "start_time": "2025-03-12T12:28:07.074336",
     "status": "completed"
    },
    "tags": []
   },
   "outputs": [],
   "source": [
    "####ボックスscoreの平均に対して、過去３年の加重平均を取るときの処理 ####\n",
    "def get_mean_of_3_season(val_2ps, val_1ps, val_0ps, \n",
    "                         weight_2, weight_1, weight_0, \n",
    "                         degree_weight=1.0\n",
    "                         ):\n",
    "    weight_2 = weight_2**degree_weight\n",
    "    weight_1 = weight_1**degree_weight\n",
    "    weight_0 = weight_0**degree_weight\n",
    "    if val_2ps == 0  and val_1ps == 0:\n",
    "        return val_0ps\n",
    "    elif val_2ps == 0:\n",
    "        return (val_1ps*weight_2 + val_0ps*weight_1)/(weight_2 + weight_1)\n",
    "    else:\n",
    "        sum_of_values = val_2ps*weight_2 + val_1ps*weight_1 + val_0ps*weight_0\n",
    "        return sum_of_values/(weight_2 + weight_1 + weight_0)\n",
    "\n",
    "def get_3_feature(df_team, feature):\n",
    "    value_2_seasons_ago = 0\n",
    "    value_1_season_ago = 0\n",
    "    value_0_season_ago = 0\n",
    "    for _, val in df_team.iterrows():\n",
    "        value_2_seasons_ago = value_1_season_ago\n",
    "        value_1_season_ago = value_0_season_ago\n",
    "        value_0_season_ago = val[feature]\n",
    "    return value_2_seasons_ago, value_1_season_ago, value_0_season_ago\n",
    "\n",
    "def write_mean_of_3_seasons(df, features, weight, degree_weight=1.0):\n",
    "    \"\"\"\n",
    "    val_0ps - current season value\n",
    "    weight_0 - current season weight\n",
    "    val_1ps - last season value\n",
    "    val_2ps - the value of the season before last\n",
    "    \"\"\"\n",
    "    weight_2=weight[0]\n",
    "    weight_1=weight[1]\n",
    "    weight_0=weight[2]\n",
    "    df_copy = df.copy()\n",
    "    suffix = \"_mn3s\"\n",
    "    \n",
    "    for ft in features:\n",
    "        df_copy[ft + suffix] = 0\n",
    "    for idx, val in tqdm(df_copy.iterrows(), total=len(df_copy)):\n",
    "        team = val.T1_TeamID\n",
    "        season = val.Season\n",
    "        df_team = df_copy[(df_copy.T1_TeamID == team)&\n",
    "                          (df_copy.Season <= season)&\n",
    "                          (df_copy.Season > season-3)]\n",
    "        for ft in features:\n",
    "            val_2ps, val_1ps, val_0ps = get_3_feature(df_team, ft)\n",
    "            ft_mean_3 = get_mean_of_3_season(val_2ps, val_1ps, val_0ps, weight_2, weight_1, weight_0, degree_weight=degree_weight)\n",
    "            df_copy.loc[idx, ft + suffix] = ft_mean_3\n",
    "    return df_copy"
   ]
  },
  {
   "cell_type": "code",
   "execution_count": 13,
   "id": "fb74c7f1",
   "metadata": {
    "execution": {
     "iopub.execute_input": "2025-03-12T12:28:07.141346Z",
     "iopub.status.busy": "2025-03-12T12:28:07.141346Z",
     "iopub.status.idle": "2025-03-12T12:28:07.177041Z",
     "shell.execute_reply": "2025-03-12T12:28:07.177041Z"
    },
    "papermill": {
     "duration": 0.035695,
     "end_time": "2025-03-12T12:28:07.177041",
     "exception": false,
     "start_time": "2025-03-12T12:28:07.141346",
     "status": "completed"
    },
    "tags": []
   },
   "outputs": [
    {
     "name": "stdout",
     "output_type": "stream",
     "text": [
      "#####\n",
      "skip 3 season verage\n",
      "#####\n"
     ]
    },
    {
     "data": {
      "text/html": [
       "<div>\n",
       "<style scoped>\n",
       "    .dataframe tbody tr th:only-of-type {\n",
       "        vertical-align: middle;\n",
       "    }\n",
       "\n",
       "    .dataframe tbody tr th {\n",
       "        vertical-align: top;\n",
       "    }\n",
       "\n",
       "    .dataframe thead th {\n",
       "        text-align: right;\n",
       "    }\n",
       "</style>\n",
       "<table border=\"1\" class=\"dataframe\">\n",
       "  <thead>\n",
       "    <tr style=\"text-align: right;\">\n",
       "      <th></th>\n",
       "      <th>Season</th>\n",
       "      <th>T1_TeamID</th>\n",
       "      <th>T1_Scoremean</th>\n",
       "      <th>T1_opponent_Scoremean</th>\n",
       "      <th>T1_PointDiffmean</th>\n",
       "      <th>T1_EFG_SUMmean</th>\n",
       "      <th>T1_opponent_EFG_SUMmean</th>\n",
       "      <th>T1_TO_RATIOmean</th>\n",
       "      <th>T1_opponent_TO_RATIOmean</th>\n",
       "      <th>T1_REB_RATEmean</th>\n",
       "      <th>T1_opponent_REB_RATEmean</th>\n",
       "      <th>T1_FT_RATEmean</th>\n",
       "      <th>T1_opponent_FT_RATEmean</th>\n",
       "      <th>T1_POSS_RATEmean</th>\n",
       "      <th>T1_opponent_POSS_RATEmean</th>\n",
       "      <th>T1_win_ratio_14d</th>\n",
       "      <th>T1_quality</th>\n",
       "      <th>T1_seed</th>\n",
       "      <th>T1_OrdinalRank</th>\n",
       "    </tr>\n",
       "  </thead>\n",
       "  <tbody>\n",
       "    <tr>\n",
       "      <th>0</th>\n",
       "      <td>2003</td>\n",
       "      <td>1102</td>\n",
       "      <td>57.250000</td>\n",
       "      <td>57.000000</td>\n",
       "      <td>0.25000</td>\n",
       "      <td>0.584407</td>\n",
       "      <td>0.514142</td>\n",
       "      <td>0.193121</td>\n",
       "      <td>0.203236</td>\n",
       "      <td>0.168235</td>\n",
       "      <td>0.369616</td>\n",
       "      <td>0.446693</td>\n",
       "      <td>0.472764</td>\n",
       "      <td>0.501487</td>\n",
       "      <td>0.498513</td>\n",
       "      <td>0.333333</td>\n",
       "      <td>-0.070776</td>\n",
       "      <td>NaN</td>\n",
       "      <td>144.2875</td>\n",
       "    </tr>\n",
       "    <tr>\n",
       "      <th>1</th>\n",
       "      <td>2003</td>\n",
       "      <td>1103</td>\n",
       "      <td>78.777778</td>\n",
       "      <td>78.148148</td>\n",
       "      <td>0.62963</td>\n",
       "      <td>0.536564</td>\n",
       "      <td>0.549098</td>\n",
       "      <td>0.159805</td>\n",
       "      <td>0.186897</td>\n",
       "      <td>0.305803</td>\n",
       "      <td>0.373002</td>\n",
       "      <td>0.465135</td>\n",
       "      <td>0.388607</td>\n",
       "      <td>0.500268</td>\n",
       "      <td>0.499732</td>\n",
       "      <td>0.333333</td>\n",
       "      <td>-0.116192</td>\n",
       "      <td>NaN</td>\n",
       "      <td>182.2050</td>\n",
       "    </tr>\n",
       "  </tbody>\n",
       "</table>\n",
       "</div>"
      ],
      "text/plain": [
       "   Season  T1_TeamID  T1_Scoremean  T1_opponent_Scoremean  T1_PointDiffmean  \\\n",
       "0    2003       1102     57.250000              57.000000           0.25000   \n",
       "1    2003       1103     78.777778              78.148148           0.62963   \n",
       "\n",
       "   T1_EFG_SUMmean  T1_opponent_EFG_SUMmean  T1_TO_RATIOmean  \\\n",
       "0        0.584407                 0.514142         0.193121   \n",
       "1        0.536564                 0.549098         0.159805   \n",
       "\n",
       "   T1_opponent_TO_RATIOmean  T1_REB_RATEmean  T1_opponent_REB_RATEmean  \\\n",
       "0                  0.203236         0.168235                  0.369616   \n",
       "1                  0.186897         0.305803                  0.373002   \n",
       "\n",
       "   T1_FT_RATEmean  T1_opponent_FT_RATEmean  T1_POSS_RATEmean  \\\n",
       "0        0.446693                 0.472764          0.501487   \n",
       "1        0.465135                 0.388607          0.500268   \n",
       "\n",
       "   T1_opponent_POSS_RATEmean  T1_win_ratio_14d  T1_quality  T1_seed  \\\n",
       "0                   0.498513          0.333333   -0.070776      NaN   \n",
       "1                   0.499732          0.333333   -0.116192      NaN   \n",
       "\n",
       "   T1_OrdinalRank  \n",
       "0        144.2875  \n",
       "1        182.2050  "
      ]
     },
     "metadata": {},
     "output_type": "display_data"
    },
    {
     "data": {
      "text/html": [
       "<div>\n",
       "<style scoped>\n",
       "    .dataframe tbody tr th:only-of-type {\n",
       "        vertical-align: middle;\n",
       "    }\n",
       "\n",
       "    .dataframe tbody tr th {\n",
       "        vertical-align: top;\n",
       "    }\n",
       "\n",
       "    .dataframe thead th {\n",
       "        text-align: right;\n",
       "    }\n",
       "</style>\n",
       "<table border=\"1\" class=\"dataframe\">\n",
       "  <thead>\n",
       "    <tr style=\"text-align: right;\">\n",
       "      <th></th>\n",
       "      <th>Season</th>\n",
       "      <th>T2_TeamID</th>\n",
       "      <th>T2_Scoremean</th>\n",
       "      <th>T2_opponent_Scoremean</th>\n",
       "      <th>T2_PointDiffmean</th>\n",
       "      <th>T2_EFG_SUMmean</th>\n",
       "      <th>T2_opponent_EFG_SUMmean</th>\n",
       "      <th>T2_TO_RATIOmean</th>\n",
       "      <th>T2_opponent_TO_RATIOmean</th>\n",
       "      <th>T2_REB_RATEmean</th>\n",
       "      <th>T2_opponent_REB_RATEmean</th>\n",
       "      <th>T2_FT_RATEmean</th>\n",
       "      <th>T2_opponent_FT_RATEmean</th>\n",
       "      <th>T2_POSS_RATEmean</th>\n",
       "      <th>T2_opponent_POSS_RATEmean</th>\n",
       "      <th>T2_win_ratio_14d</th>\n",
       "      <th>T2_quality</th>\n",
       "      <th>T2_seed</th>\n",
       "      <th>T2_OrdinalRank</th>\n",
       "    </tr>\n",
       "  </thead>\n",
       "  <tbody>\n",
       "    <tr>\n",
       "      <th>10695</th>\n",
       "      <td>2021</td>\n",
       "      <td>3470</td>\n",
       "      <td>58.571429</td>\n",
       "      <td>67.000000</td>\n",
       "      <td>-8.428571</td>\n",
       "      <td>0.389943</td>\n",
       "      <td>0.473528</td>\n",
       "      <td>0.180266</td>\n",
       "      <td>0.187209</td>\n",
       "      <td>0.227059</td>\n",
       "      <td>0.302459</td>\n",
       "      <td>0.449960</td>\n",
       "      <td>0.268514</td>\n",
       "      <td>0.497868</td>\n",
       "      <td>0.502132</td>\n",
       "      <td>0.25</td>\n",
       "      <td>-1.180630</td>\n",
       "      <td>NaN</td>\n",
       "      <td>NaN</td>\n",
       "    </tr>\n",
       "    <tr>\n",
       "      <th>10696</th>\n",
       "      <td>2021</td>\n",
       "      <td>3471</td>\n",
       "      <td>61.066667</td>\n",
       "      <td>66.666667</td>\n",
       "      <td>-5.600000</td>\n",
       "      <td>0.441535</td>\n",
       "      <td>0.475691</td>\n",
       "      <td>0.169137</td>\n",
       "      <td>0.157868</td>\n",
       "      <td>0.256899</td>\n",
       "      <td>0.276011</td>\n",
       "      <td>0.225289</td>\n",
       "      <td>0.233311</td>\n",
       "      <td>0.499912</td>\n",
       "      <td>0.500088</td>\n",
       "      <td>0.50</td>\n",
       "      <td>-0.411866</td>\n",
       "      <td>NaN</td>\n",
       "      <td>NaN</td>\n",
       "    </tr>\n",
       "  </tbody>\n",
       "</table>\n",
       "</div>"
      ],
      "text/plain": [
       "       Season  T2_TeamID  T2_Scoremean  T2_opponent_Scoremean  \\\n",
       "10695    2021       3470     58.571429              67.000000   \n",
       "10696    2021       3471     61.066667              66.666667   \n",
       "\n",
       "       T2_PointDiffmean  T2_EFG_SUMmean  T2_opponent_EFG_SUMmean  \\\n",
       "10695         -8.428571        0.389943                 0.473528   \n",
       "10696         -5.600000        0.441535                 0.475691   \n",
       "\n",
       "       T2_TO_RATIOmean  T2_opponent_TO_RATIOmean  T2_REB_RATEmean  \\\n",
       "10695         0.180266                  0.187209         0.227059   \n",
       "10696         0.169137                  0.157868         0.256899   \n",
       "\n",
       "       T2_opponent_REB_RATEmean  T2_FT_RATEmean  T2_opponent_FT_RATEmean  \\\n",
       "10695                  0.302459        0.449960                 0.268514   \n",
       "10696                  0.276011        0.225289                 0.233311   \n",
       "\n",
       "       T2_POSS_RATEmean  T2_opponent_POSS_RATEmean  T2_win_ratio_14d  \\\n",
       "10695          0.497868                   0.502132              0.25   \n",
       "10696          0.499912                   0.500088              0.50   \n",
       "\n",
       "       T2_quality  T2_seed  T2_OrdinalRank  \n",
       "10695   -1.180630      NaN             NaN  \n",
       "10696   -0.411866      NaN             NaN  "
      ]
     },
     "metadata": {},
     "output_type": "display_data"
    }
   ],
   "source": [
    "flag_3season_avg = FEATURES.season_average.enabled\n",
    "\n",
    "#trueのときの処理理解してfalseと一致させる\n",
    "if flag_3season_avg:\n",
    "    print(\"#####\")\n",
    "    print(\"use 3 season average\")\n",
    "    print(\"#####\")\n",
    "    weight = FEATURES.season_average.weights\n",
    "    years = FEATURES.season_average.past_years\n",
    "    assert years==len(weight)\n",
    "    \n",
    "    features_for_calc = [\"T1_Scoremean\", \"T1_FGAmean\",  \"T1_FGA3mean\"]\n",
    "    season_statistics_with_3_seas = write_mean_of_3_seasons(\n",
    "        season_statistics, features_for_calc, weight, degree_weight=1.0\n",
    "    )\n",
    "    \n",
    "    season_statistics_T1 = season_statistics_with_3_seas.copy()\n",
    "    season_statistics_T2 = season_statistics_with_3_seas.copy()\n",
    "    \n",
    "else:\n",
    "    print(\"#####\")\n",
    "    print(\"skip 3 season verage\")\n",
    "    print(\"#####\")\n",
    "    season_statistics_T1 = season_statistics.copy()\n",
    "    season_statistics_T2 = season_statistics.copy()\n",
    "\n",
    "season_statistics_T1.columns = [\"T1_\" + x.replace(\"T1_\",\"\").replace(\"T2_\",\"opponent_\") for x in list(season_statistics_T1.columns)]\n",
    "season_statistics_T2.columns = [\"T2_\" + x.replace(\"T1_\",\"\").replace(\"T2_\",\"opponent_\") for x in list(season_statistics_T2.columns)]\n",
    "season_statistics_T1.columns.values[0] = \"Season\"\n",
    "season_statistics_T2.columns.values[0] = \"Season\"\n",
    "\n",
    "\n",
    "season_statistics_T2.rename(columns = {\n",
    "    \"T1_TeamID\": \"T2_TeamID\"\n",
    "}, inplace=True)\n",
    "display(season_statistics_T1.head(2), season_statistics_T2.tail(2))"
   ]
  },
  {
   "cell_type": "markdown",
   "id": "25c99499",
   "metadata": {
    "papermill": {
     "duration": 0.002721,
     "end_time": "2025-03-12T12:28:07.191712",
     "exception": false,
     "start_time": "2025-03-12T12:28:07.188991",
     "status": "completed"
    },
    "tags": []
   },
   "source": [
    "# Toureney dataの処理\n",
    "1. pointdiff, pointが目的変数となるのでそれはyに分離\n",
    "2. seasonstatisticを結合したものをXとして作る"
   ]
  },
  {
   "cell_type": "code",
   "execution_count": 14,
   "id": "efd5bde7",
   "metadata": {
    "execution": {
     "iopub.execute_input": "2025-03-12T12:28:07.211926Z",
     "iopub.status.busy": "2025-03-12T12:28:07.211926Z",
     "iopub.status.idle": "2025-03-12T12:28:07.217981Z",
     "shell.execute_reply": "2025-03-12T12:28:07.217981Z"
    },
    "papermill": {
     "duration": 0.027725,
     "end_time": "2025-03-12T12:28:07.219437",
     "exception": false,
     "start_time": "2025-03-12T12:28:07.191712",
     "status": "completed"
    },
    "tags": []
   },
   "outputs": [],
   "source": [
    "\n",
    "def process_tourney(df1, mode=\"tourney\"):\n",
    "    #Season, teamid ->X, team_score->y\n",
    "    df = df1.copy()\n",
    "    if mode==\"tourney\":\n",
    "        df = prepare_data(df) \n",
    "        y = df[\"T1_Score\"]-df[\"T2_Score\"]\n",
    "    X = df[['Season', 'T1_TeamID', 'T2_TeamID']]\n",
    "    X = pd.merge(X, season_statistics_T1, on = ['Season', 'T1_TeamID'], how = 'left')\n",
    "    X = pd.merge(X, season_statistics_T2, on = ['Season', 'T2_TeamID'], how = 'left')\n",
    "    \n",
    "    #seed->seed diff\n",
    "    X[\"seed_diff\"] = X[\"T1_seed\"] - X[\"T2_seed\"]\n",
    "    #rank->rank diff\n",
    "    X[\"rank_diff\"] = X[\"T1_OrdinalRank\"] - X[\"T2_OrdinalRank\"]\n",
    "    #quality->quality diff\n",
    "    X[\"quality_diff\"] = X[\"T1_quality\"] - X[\"T2_quality\"]\n",
    "    #win_ratio_14d -> win_raio_14d_diff\n",
    "    X[\"win_ratio_14d_diff\"] = X[\"T1_win_ratio_14d\"] - X[\"T2_win_ratio_14d\"]\n",
    "    #tourney_data.drop(columns=[\"T1_seed\", \"T2_seed\"], inplace=True)\n",
    "\n",
    "    X = X.drop(columns=[\"T1_seed\", \"T2_seed\", \"T1_OrdinalRank\", \"T2_OrdinalRank\", \n",
    "                        \"T1_quality\", \"T2_quality\", \"T1_win_ratio_14d\", \"T2_win_ratio_14d\"\n",
    "                        ])\n",
    "\n",
    "\n",
    "    # if fillna is true-> run fillna()\n",
    "    FILLNA = FEATURES.fillna.quality\n",
    "    if FILLNA==\"nan\":\n",
    "        print(f\"no fillna, use nan\")\n",
    "        X[\"quality_diff\"] = X[\"quality_diff\"].fillna(np.nan)\n",
    "    else:\n",
    "        print(f\"fillna quality feature for {FILLNA}\")\n",
    "        X[\"quality_diff\"] = X[\"quality_diff\"].fillna(FILLNA)\n",
    "\n",
    "        \n",
    "    return X, y if mode==\"tourney\" else X"
   ]
  },
  {
   "cell_type": "code",
   "execution_count": 15,
   "id": "da6010c9",
   "metadata": {
    "execution": {
     "iopub.execute_input": "2025-03-12T12:28:07.224392Z",
     "iopub.status.busy": "2025-03-12T12:28:07.224392Z",
     "iopub.status.idle": "2025-03-12T12:28:07.262870Z",
     "shell.execute_reply": "2025-03-12T12:28:07.261945Z"
    },
    "papermill": {
     "duration": 0.039487,
     "end_time": "2025-03-12T12:28:07.263879",
     "exception": false,
     "start_time": "2025-03-12T12:28:07.224392",
     "status": "completed"
    },
    "tags": []
   },
   "outputs": [
    {
     "name": "stdout",
     "output_type": "stream",
     "text": [
      "<class 'pandas.core.frame.DataFrame'>\n",
      "Index: 1745 entries, 0 to 2011\n",
      "Data columns (total 56 columns):\n",
      " #   Column       Non-Null Count  Dtype  \n",
      "---  ------       --------------  -----  \n",
      " 0   Season       1745 non-null   int64  \n",
      " 1   DayNum       1745 non-null   int64  \n",
      " 2   WTeamID      1745 non-null   int64  \n",
      " 3   WScore       1745 non-null   int64  \n",
      " 4   LTeamID      1745 non-null   int64  \n",
      " 5   LScore       1745 non-null   int64  \n",
      " 6   WLoc         1745 non-null   object \n",
      " 7   NumOT        1745 non-null   int64  \n",
      " 8   WFGM         1745 non-null   int64  \n",
      " 9   WFGA         1745 non-null   int64  \n",
      " 10  WFGM3        1745 non-null   int64  \n",
      " 11  WFGA3        1745 non-null   int64  \n",
      " 12  WFTM         1745 non-null   int64  \n",
      " 13  WFTA         1745 non-null   int64  \n",
      " 14  WOR          1745 non-null   int64  \n",
      " 15  WDR          1745 non-null   int64  \n",
      " 16  WAst         1745 non-null   int64  \n",
      " 17  WTO          1745 non-null   int64  \n",
      " 18  WStl         1745 non-null   int64  \n",
      " 19  WBlk         1745 non-null   int64  \n",
      " 20  WPF          1745 non-null   int64  \n",
      " 21  LFGM         1745 non-null   int64  \n",
      " 22  LFGA         1745 non-null   int64  \n",
      " 23  LFGM3        1745 non-null   int64  \n",
      " 24  LFGA3        1745 non-null   int64  \n",
      " 25  LFTM         1745 non-null   int64  \n",
      " 26  LFTA         1745 non-null   int64  \n",
      " 27  LOR          1745 non-null   int64  \n",
      " 28  LDR          1745 non-null   int64  \n",
      " 29  LAst         1745 non-null   int64  \n",
      " 30  LTO          1745 non-null   int64  \n",
      " 31  LStl         1745 non-null   int64  \n",
      " 32  LBlk         1745 non-null   int64  \n",
      " 33  LPF          1745 non-null   int64  \n",
      " 34  WEFFG        1745 non-null   float64\n",
      " 35  LEFFG        1745 non-null   float64\n",
      " 36  WEFFG3       1745 non-null   float64\n",
      " 37  LEFFG3       1745 non-null   float64\n",
      " 38  WDARE        1745 non-null   float64\n",
      " 39  LDARE        1745 non-null   float64\n",
      " 40  WTOQUETOQUE  1745 non-null   float64\n",
      " 41  LTOQUETOQUE  1745 non-null   float64\n",
      " 42  WEFG_SUM     1745 non-null   float64\n",
      " 43  LEFG_SUM     1745 non-null   float64\n",
      " 44  WPOSS        1745 non-null   float64\n",
      " 45  LPOSS        1745 non-null   float64\n",
      " 46  WPOSS_RATE   1745 non-null   float64\n",
      " 47  LPOSS_RATE   1745 non-null   float64\n",
      " 48  WTO_RATIO    1745 non-null   float64\n",
      " 49  LTO_RATIO    1745 non-null   float64\n",
      " 50  WREB_RATE    1745 non-null   float64\n",
      " 51  LREB_RATE    1745 non-null   float64\n",
      " 52  WFT_RATE     1745 non-null   float64\n",
      " 53  LFT_RATE     1745 non-null   float64\n",
      " 54  WRATING      1745 non-null   float64\n",
      " 55  LRATING      1745 non-null   float64\n",
      "dtypes: float64(22), int64(33), object(1)\n",
      "memory usage: 777.1+ KB\n",
      "None\n"
     ]
    },
    {
     "name": "stdout",
     "output_type": "stream",
     "text": [
      "feature cols after prepare()\n",
      "Index(['Season', 'DayNum', 'T1_TeamID', 'T1_Score', 'T2_TeamID', 'T2_Score',\n",
      "       'location', 'NumOT', 'T1_FGM', 'T1_FGA', 'T1_FGM3', 'T1_FGA3', 'T1_FTM',\n",
      "       'T1_FTA', 'T1_OR', 'T1_DR', 'T1_Ast', 'T1_TO', 'T1_Stl', 'T1_Blk',\n",
      "       'T1_PF', 'T2_FGM', 'T2_FGA', 'T2_FGM3', 'T2_FGA3', 'T2_FTM', 'T2_FTA',\n",
      "       'T2_OR', 'T2_DR', 'T2_Ast', 'T2_TO', 'T2_Stl', 'T2_Blk', 'T2_PF',\n",
      "       'T1_EFFG', 'T2_EFFG', 'T1_EFFG3', 'T2_EFFG3', 'T1_DARE', 'T2_DARE',\n",
      "       'T1_TOQUETOQUE', 'T2_TOQUETOQUE', 'T1_EFG_SUM', 'T2_EFG_SUM', 'T1_POSS',\n",
      "       'T2_POSS', 'T1_POSS_RATE', 'T2_POSS_RATE', 'T1_TO_RATIO', 'T2_TO_RATIO',\n",
      "       'T1_REB_RATE', 'T2_REB_RATE', 'T1_FT_RATE', 'T2_FT_RATE', 'T1_RATING',\n",
      "       'T2_RATING', 'PointDiff', 'win'],\n",
      "      dtype='object')\n",
      "no fillna, use nan\n"
     ]
    }
   ],
   "source": [
    "X, y = process_tourney(tourney_results)"
   ]
  },
  {
   "cell_type": "code",
   "execution_count": 16,
   "id": "e7f2b724",
   "metadata": {
    "execution": {
     "iopub.execute_input": "2025-03-12T12:28:07.278865Z",
     "iopub.status.busy": "2025-03-12T12:28:07.277866Z",
     "iopub.status.idle": "2025-03-12T12:28:07.283032Z",
     "shell.execute_reply": "2025-03-12T12:28:07.282724Z"
    },
    "papermill": {
     "duration": 0.013169,
     "end_time": "2025-03-12T12:28:07.284051",
     "exception": false,
     "start_time": "2025-03-12T12:28:07.270882",
     "status": "completed"
    },
    "tags": []
   },
   "outputs": [
    {
     "name": "stdout",
     "output_type": "stream",
     "text": [
      "最終的な X の特徴量\n",
      "Index(['Season', 'T1_TeamID', 'T2_TeamID', 'T1_Scoremean',\n",
      "       'T1_opponent_Scoremean', 'T1_PointDiffmean', 'T1_EFG_SUMmean',\n",
      "       'T1_opponent_EFG_SUMmean', 'T1_TO_RATIOmean',\n",
      "       'T1_opponent_TO_RATIOmean', 'T1_REB_RATEmean',\n",
      "       'T1_opponent_REB_RATEmean', 'T1_FT_RATEmean', 'T1_opponent_FT_RATEmean',\n",
      "       'T1_POSS_RATEmean', 'T1_opponent_POSS_RATEmean', 'T2_Scoremean',\n",
      "       'T2_opponent_Scoremean', 'T2_PointDiffmean', 'T2_EFG_SUMmean',\n",
      "       'T2_opponent_EFG_SUMmean', 'T2_TO_RATIOmean',\n",
      "       'T2_opponent_TO_RATIOmean', 'T2_REB_RATEmean',\n",
      "       'T2_opponent_REB_RATEmean', 'T2_FT_RATEmean', 'T2_opponent_FT_RATEmean',\n",
      "       'T2_POSS_RATEmean', 'T2_opponent_POSS_RATEmean', 'seed_diff',\n",
      "       'rank_diff', 'quality_diff', 'win_ratio_14d_diff'],\n",
      "      dtype='object')\n"
     ]
    }
   ],
   "source": [
    "print(\"最終的な X の特徴量\")\n",
    "print(X.columns)"
   ]
  },
  {
   "cell_type": "code",
   "execution_count": 17,
   "id": "a7853ba3",
   "metadata": {
    "execution": {
     "iopub.execute_input": "2025-03-12T12:28:07.298245Z",
     "iopub.status.busy": "2025-03-12T12:28:07.298245Z",
     "iopub.status.idle": "2025-03-12T12:28:07.305265Z",
     "shell.execute_reply": "2025-03-12T12:28:07.305265Z"
    },
    "papermill": {
     "duration": 0.016824,
     "end_time": "2025-03-12T12:28:07.307875",
     "exception": false,
     "start_time": "2025-03-12T12:28:07.291051",
     "status": "completed"
    },
    "tags": []
   },
   "outputs": [
    {
     "name": "stdout",
     "output_type": "stream",
     "text": [
      "<class 'pandas.core.frame.DataFrame'>\n",
      "RangeIndex: 3490 entries, 0 to 3489\n",
      "Data columns (total 33 columns):\n",
      " #   Column                     Non-Null Count  Dtype  \n",
      "---  ------                     --------------  -----  \n",
      " 0   Season                     3490 non-null   int64  \n",
      " 1   T1_TeamID                  3490 non-null   int64  \n",
      " 2   T2_TeamID                  3490 non-null   int64  \n",
      " 3   T1_Scoremean               3490 non-null   float64\n",
      " 4   T1_opponent_Scoremean      3490 non-null   float64\n",
      " 5   T1_PointDiffmean           3490 non-null   float64\n",
      " 6   T1_EFG_SUMmean             3490 non-null   float64\n",
      " 7   T1_opponent_EFG_SUMmean    3490 non-null   float64\n",
      " 8   T1_TO_RATIOmean            3490 non-null   float64\n",
      " 9   T1_opponent_TO_RATIOmean   3490 non-null   float64\n",
      " 10  T1_REB_RATEmean            3490 non-null   float64\n",
      " 11  T1_opponent_REB_RATEmean   3490 non-null   float64\n",
      " 12  T1_FT_RATEmean             3490 non-null   float64\n",
      " 13  T1_opponent_FT_RATEmean    3490 non-null   float64\n",
      " 14  T1_POSS_RATEmean           3490 non-null   float64\n",
      " 15  T1_opponent_POSS_RATEmean  3490 non-null   float64\n",
      " 16  T2_Scoremean               3490 non-null   float64\n",
      " 17  T2_opponent_Scoremean      3490 non-null   float64\n",
      " 18  T2_PointDiffmean           3490 non-null   float64\n",
      " 19  T2_EFG_SUMmean             3490 non-null   float64\n",
      " 20  T2_opponent_EFG_SUMmean    3490 non-null   float64\n",
      " 21  T2_TO_RATIOmean            3490 non-null   float64\n",
      " 22  T2_opponent_TO_RATIOmean   3490 non-null   float64\n",
      " 23  T2_REB_RATEmean            3490 non-null   float64\n",
      " 24  T2_opponent_REB_RATEmean   3490 non-null   float64\n",
      " 25  T2_FT_RATEmean             3490 non-null   float64\n",
      " 26  T2_opponent_FT_RATEmean    3490 non-null   float64\n",
      " 27  T2_POSS_RATEmean           3490 non-null   float64\n",
      " 28  T2_opponent_POSS_RATEmean  3490 non-null   float64\n",
      " 29  seed_diff                  3490 non-null   float64\n",
      " 30  rank_diff                  2230 non-null   float64\n",
      " 31  quality_diff               3490 non-null   float64\n",
      " 32  win_ratio_14d_diff         3490 non-null   float64\n",
      "dtypes: float64(30), int64(3)\n",
      "memory usage: 899.9 KB\n"
     ]
    }
   ],
   "source": [
    "X.info()"
   ]
  },
  {
   "cell_type": "markdown",
   "id": "b8af30b3",
   "metadata": {
    "papermill": {
     "duration": 0.006998,
     "end_time": "2025-03-12T12:28:07.322874",
     "exception": false,
     "start_time": "2025-03-12T12:28:07.315876",
     "status": "completed"
    },
    "tags": []
   },
   "source": [
    "# build models"
   ]
  },
  {
   "cell_type": "code",
   "execution_count": 18,
   "id": "4da6ea6f",
   "metadata": {
    "execution": {
     "iopub.execute_input": "2025-03-12T12:28:07.324874Z",
     "iopub.status.busy": "2025-03-12T12:28:07.324874Z",
     "iopub.status.idle": "2025-03-12T12:28:07.354408Z",
     "shell.execute_reply": "2025-03-12T12:28:07.354408Z"
    },
    "papermill": {
     "duration": 0.031281,
     "end_time": "2025-03-12T12:28:07.356155",
     "exception": false,
     "start_time": "2025-03-12T12:28:07.324874",
     "status": "completed"
    },
    "tags": []
   },
   "outputs": [],
   "source": [
    "\n",
    "val_mae = []\n",
    "iteration_counts = []\n",
    "xgb_cv = []\n",
    "dtrain = xgb.DMatrix(X, label=y)\n",
    "\n",
    "repeat_cv = MODEL.repeat_cv\n",
    "param = dict(MODEL.xgb_model.param)\n",
    "num_boost_round = MODEL.xgb_model.num_boost_round\n",
    "folds_splits = MODEL.xgb_model.folds_splits\n",
    "early_stopping_rounds = MODEL.xgb_model.early_stopping_rounds\n",
    "\n",
    "# コーシー損失関数\n",
    "def cauchyobj(preds, dtrain):\n",
    "    labels = dtrain.get_label()\n",
    "    c = 5000\n",
    "    x = preds - labels    \n",
    "    grad = x / (x**2/c**2 + 1)\n",
    "    hess = -c**2 * (x**2 - c**2) / (x**2 + c**2)**2\n",
    "    return grad, hess"
   ]
  },
  {
   "cell_type": "code",
   "execution_count": 19,
   "id": "75130618",
   "metadata": {
    "execution": {
     "iopub.execute_input": "2025-03-12T12:28:07.377541Z",
     "iopub.status.busy": "2025-03-12T12:28:07.377541Z",
     "iopub.status.idle": "2025-03-12T12:28:07.389540Z",
     "shell.execute_reply": "2025-03-12T12:28:07.389540Z"
    },
    "papermill": {
     "duration": 0.025424,
     "end_time": "2025-03-12T12:28:07.391019",
     "exception": false,
     "start_time": "2025-03-12T12:28:07.365595",
     "status": "completed"
    },
    "tags": []
   },
   "outputs": [],
   "source": [
    "#########################################\n",
    "# 1. Optunaあり：ハイパーパラメータ最適化 #\n",
    "#########################################\n",
    "def run_optuna_optimization(param, optuna_conf):\n",
    "    def objective(trial):  \n",
    "        logger.info(f\"Trial {trial.number} 開始\")\n",
    "        \n",
    "        current_param = param.copy()  \n",
    "        max_depth_range = optuna_conf.max_depth        \n",
    "        eta_range = optuna_conf.eta\n",
    "        subsample_range = optuna_conf.subsample          \n",
    "        colsample_bytree_range = optuna_conf.colsample_bytree\n",
    "        num_parallel_tree_range = optuna_conf.num_parallel_tree \n",
    "        min_child_weight_range = optuna_conf.min_child_weight \n",
    "        reg_alpha_range = optuna_conf.reg_alpha         \n",
    "        reg_lambda_range = optuna_conf.reg_lambda    \n",
    "        reg_gamma_range = optuna_conf.gamma  \n",
    "\n",
    "        current_param[\"max_depth\"] = trial.suggest_int(\"max_depth\", max_depth_range[0], max_depth_range[1])\n",
    "        current_param[\"eta\"] = trial.suggest_float(\"eta\", eta_range[0], eta_range[1], log=True)\n",
    "        current_param[\"subsample\"] = trial.suggest_float(\"subsample\", subsample_range[0], subsample_range[1])\n",
    "        current_param[\"colsample_bytree\"] = trial.suggest_float(\"colsample_bytree\", colsample_bytree_range[0], colsample_bytree_range[1])\n",
    "        current_param[\"num_parallel_tree\"] = trial.suggest_int(\"num_parallel_tree\", num_parallel_tree_range[0], num_parallel_tree_range[1])\n",
    "        current_param[\"min_child_weight\"] = trial.suggest_int(\"min_child_weight\", min_child_weight_range[0], min_child_weight_range[1])\n",
    "        current_param[\"reg_alpha\"] = trial.suggest_float(\"reg_alpha\", reg_alpha_range[0], reg_alpha_range[1])\n",
    "        current_param[\"reg_lambda\"] = trial.suggest_float(\"reg_lambda\", reg_lambda_range[0], reg_lambda_range[1])\n",
    "        current_param[\"gamma\"] = trial.suggest_float(\"gamma\", reg_gamma_range[0], reg_gamma_range[1])\n",
    "        \n",
    "        if current_param.get(\"eval_metric\", \"mae\") == \"rmse\":\n",
    "            score_name = \"test-rmse-mean\"\n",
    "        elif current_param.get(\"eval_metric\", \"mae\") == \"mae\":\n",
    "            score_name = \"test-mae-mean\"\n",
    "        elif  current_param.get(\"eval_metric\", \"mae\") == \"logloss\":\n",
    "            score_name = \"test-logloss-mean\"\n",
    "        \n",
    "        print(current_param)  \n",
    "        cv_scores = []\n",
    "        for i in range(repeat_cv):\n",
    "            cv_result = xgb.cv(\n",
    "                params=current_param,\n",
    "                dtrain=dtrain,\n",
    "                obj=cauchyobj,\n",
    "                num_boost_round=num_boost_round,\n",
    "                folds=KFold(n_splits=folds_splits, shuffle=True, random_state=i),\n",
    "                early_stopping_rounds=early_stopping_rounds,\n",
    "                verbose_eval=False\n",
    "            )\n",
    "            fold_score = np.min(cv_result[score_name].values)\n",
    "            cv_scores.append(fold_score)\n",
    "        mean_score = np.mean(cv_scores)\n",
    "        logger.info(f\"Trial {trial.number} 終了: スコア {mean_score}\")\n",
    "        \n",
    "        return mean_score\n",
    "\n",
    "    logger.info(\"Optuna最適化開始\")\n",
    "    N_WARMUP_STEPS = optuna_conf.n_warmup_steps\n",
    "    TIMEOUT = optuna_conf.timeout\n",
    "    N_JOBS = optuna_conf.n_jobs\n",
    "    N_TRIALS = optuna_conf.n_trials\n",
    "    \n",
    "    sampler = optuna.samplers.TPESampler(seed=42)\n",
    "    pruner = optuna.pruners.MedianPruner(n_warmup_steps=N_WARMUP_STEPS)\n",
    "\n",
    "    study = optuna.create_study(direction=\"minimize\", sampler=sampler, pruner=pruner)\n",
    "    study.optimize(objective, n_trials=N_TRIALS, timeout=TIMEOUT, n_jobs=N_JOBS)\n",
    "\n",
    "    best_trial = study.best_trial\n",
    "    logger.info(\"Best trial:\")\n",
    "    logger.info(f\"  Value: {best_trial.value}\")\n",
    "    \n",
    "    for key, value in best_trial.params.items():\n",
    "        print(f\"    {key}: {value}\")\n",
    "    param.update(best_trial.params)\n",
    "\n",
    "    logger.info(\"Optuna最適化終了\")\n",
    "    return param"
   ]
  },
  {
   "cell_type": "code",
   "execution_count": 20,
   "id": "f1fca039",
   "metadata": {
    "execution": {
     "iopub.execute_input": "2025-03-12T12:28:07.412846Z",
     "iopub.status.busy": "2025-03-12T12:28:07.412846Z",
     "iopub.status.idle": "2025-03-12T12:28:07.418646Z",
     "shell.execute_reply": "2025-03-12T12:28:07.418646Z"
    },
    "papermill": {
     "duration": 0.018079,
     "end_time": "2025-03-12T12:28:07.418646",
     "exception": false,
     "start_time": "2025-03-12T12:28:07.400567",
     "status": "completed"
    },
    "tags": []
   },
   "outputs": [
    {
     "name": "stdout",
     "output_type": "stream",
     "text": [
      "not use Optuna, use xgb_model.param\n",
      "param: {'eval_metric': 'rmse', 'booster': 'gbtree', 'eta': 0.02, 'subsample': 0.35, 'colsample_bytree': 0.7, 'num_parallel_tree': 10, 'min_child_weight': 40, 'gamma': 10, 'max_depth': 3}\n",
      "repeat_cv: 10\n",
      "num_boost_round: 3000\n",
      "folds_splits: 5\n",
      "early_stopping_rounds: 25\n"
     ]
    }
   ],
   "source": [
    "IS_OPTUNA = MODEL.optuna_enabled\n",
    "if IS_OPTUNA:\n",
    "    print(\"Optuna use mode\") \n",
    "    optuna_conf = MODEL.xgb_model.optuna\n",
    "    logger.add(os.path.join(OUTPUT_PATH, \"results.log\"), format=\"{time:YYYY-MM-DD at HH:mm:ss} - {level} - {message}\", level=\"INFO\")\n",
    "    param = run_optuna_optimization(param, optuna_conf)\n",
    "    print(\"param updated by optuna\")\n",
    "    results+= [\"param set after optuna is below\", f\"{param}\", \"\"]\n",
    "else:    \n",
    "    print(\"not use Optuna, use xgb_model.param\")\n",
    "\n",
    "\n",
    "\n",
    "print(\"param:\", param)\n",
    "print(\"repeat_cv:\", repeat_cv)\n",
    "print(\"num_boost_round:\", num_boost_round)\n",
    "print(\"folds_splits:\", folds_splits)\n",
    "print(\"early_stopping_rounds:\", early_stopping_rounds)"
   ]
  },
  {
   "cell_type": "code",
   "execution_count": 21,
   "id": "a8ca78f9",
   "metadata": {
    "execution": {
     "iopub.execute_input": "2025-03-12T12:28:07.441864Z",
     "iopub.status.busy": "2025-03-12T12:28:07.441864Z",
     "iopub.status.idle": "2025-03-12T12:30:36.381560Z",
     "shell.execute_reply": "2025-03-12T12:30:36.381560Z"
    },
    "papermill": {
     "duration": 148.951182,
     "end_time": "2025-03-12T12:30:36.381560",
     "exception": false,
     "start_time": "2025-03-12T12:28:07.430378",
     "status": "completed"
    },
    "tags": []
   },
   "outputs": [
    {
     "name": "stderr",
     "output_type": "stream",
     "text": [
      "\r",
      "  0%|                                                                                                                                                            | 0/10 [00:00<?, ?it/s]"
     ]
    },
    {
     "name": "stdout",
     "output_type": "stream",
     "text": [
      "[0]\ttrain-rmse:17.17763+0.17680\ttest-rmse:17.16775+0.71266\n"
     ]
    },
    {
     "name": "stdout",
     "output_type": "stream",
     "text": [
      "[50]\ttrain-rmse:13.08908+0.08118\ttest-rmse:13.26515+0.52883\n"
     ]
    },
    {
     "name": "stdout",
     "output_type": "stream",
     "text": [
      "[100]\ttrain-rmse:12.00769+0.06684\ttest-rmse:12.32862+0.41199\n"
     ]
    },
    {
     "name": "stdout",
     "output_type": "stream",
     "text": [
      "[150]\ttrain-rmse:11.62387+0.06281\ttest-rmse:12.06691+0.36188\n"
     ]
    },
    {
     "name": "stdout",
     "output_type": "stream",
     "text": [
      "[200]\ttrain-rmse:11.40401+0.05994\ttest-rmse:11.96279+0.34195\n"
     ]
    },
    {
     "name": "stdout",
     "output_type": "stream",
     "text": [
      "[250]\ttrain-rmse:11.23743+0.05833\ttest-rmse:11.91027+0.32851\n"
     ]
    },
    {
     "name": "stdout",
     "output_type": "stream",
     "text": [
      "[300]\ttrain-rmse:11.09639+0.05726\ttest-rmse:11.87950+0.32050\n"
     ]
    },
    {
     "name": "stdout",
     "output_type": "stream",
     "text": [
      "[350]\ttrain-rmse:10.97135+0.05468\ttest-rmse:11.85952+0.31406\n"
     ]
    },
    {
     "name": "stdout",
     "output_type": "stream",
     "text": [
      "[400]\ttrain-rmse:10.86015+0.05256\ttest-rmse:11.85077+0.31106\n"
     ]
    },
    {
     "name": "stdout",
     "output_type": "stream",
     "text": [
      "[450]\ttrain-rmse:10.75701+0.05192\ttest-rmse:11.84752+0.30741\n"
     ]
    },
    {
     "name": "stdout",
     "output_type": "stream",
     "text": [
      "[500]\ttrain-rmse:10.65930+0.05104\ttest-rmse:11.84691+0.30215\n"
     ]
    },
    {
     "name": "stderr",
     "output_type": "stream",
     "text": [
      "\r",
      " 10%|██████████████▊                                                                                                                                     | 1/10 [00:13<01:59, 13.29s/it]"
     ]
    },
    {
     "name": "stdout",
     "output_type": "stream",
     "text": [
      "[0]\ttrain-rmse:17.17613+0.07438\ttest-rmse:17.17787+0.30113\n"
     ]
    },
    {
     "name": "stdout",
     "output_type": "stream",
     "text": [
      "[50]\ttrain-rmse:13.08913+0.09036\ttest-rmse:13.28083+0.41985\n"
     ]
    },
    {
     "name": "stdout",
     "output_type": "stream",
     "text": [
      "[100]\ttrain-rmse:12.00791+0.09014\ttest-rmse:12.34615+0.41315\n"
     ]
    },
    {
     "name": "stdout",
     "output_type": "stream",
     "text": [
      "[150]\ttrain-rmse:11.62406+0.08760\ttest-rmse:12.08749+0.38564\n"
     ]
    },
    {
     "name": "stdout",
     "output_type": "stream",
     "text": [
      "[200]\ttrain-rmse:11.40192+0.08220\ttest-rmse:11.98394+0.36484\n"
     ]
    },
    {
     "name": "stdout",
     "output_type": "stream",
     "text": [
      "[250]\ttrain-rmse:11.23506+0.08179\ttest-rmse:11.93335+0.35034\n"
     ]
    },
    {
     "name": "stdout",
     "output_type": "stream",
     "text": [
      "[300]\ttrain-rmse:11.09530+0.07830\ttest-rmse:11.90125+0.34109\n"
     ]
    },
    {
     "name": "stdout",
     "output_type": "stream",
     "text": [
      "[350]\ttrain-rmse:10.97223+0.07652\ttest-rmse:11.88364+0.33200\n"
     ]
    },
    {
     "name": "stdout",
     "output_type": "stream",
     "text": [
      "[400]\ttrain-rmse:10.85940+0.07748\ttest-rmse:11.87371+0.32855\n"
     ]
    },
    {
     "name": "stdout",
     "output_type": "stream",
     "text": [
      "[450]\ttrain-rmse:10.75526+0.07627\ttest-rmse:11.86768+0.32612\n"
     ]
    },
    {
     "name": "stdout",
     "output_type": "stream",
     "text": [
      "[500]\ttrain-rmse:10.65763+0.07465\ttest-rmse:11.86292+0.32094\n"
     ]
    },
    {
     "name": "stdout",
     "output_type": "stream",
     "text": [
      "[517]\ttrain-rmse:10.62563+0.07407\ttest-rmse:11.86290+0.31988\n"
     ]
    },
    {
     "name": "stderr",
     "output_type": "stream",
     "text": [
      "\r",
      " 20%|█████████████████████████████▌                                                                                                                      | 2/10 [00:27<01:52, 14.07s/it]"
     ]
    },
    {
     "name": "stdout",
     "output_type": "stream",
     "text": [
      "[0]\ttrain-rmse:17.17807+0.10025\ttest-rmse:17.17778+0.40765\n"
     ]
    },
    {
     "name": "stdout",
     "output_type": "stream",
     "text": [
      "[50]\ttrain-rmse:13.08879+0.07294\ttest-rmse:13.27248+0.39355\n"
     ]
    },
    {
     "name": "stdout",
     "output_type": "stream",
     "text": [
      "[100]\ttrain-rmse:12.00853+0.06984\ttest-rmse:12.33799+0.32959\n"
     ]
    },
    {
     "name": "stdout",
     "output_type": "stream",
     "text": [
      "[150]\ttrain-rmse:11.62464+0.06605\ttest-rmse:12.07856+0.28647\n"
     ]
    },
    {
     "name": "stdout",
     "output_type": "stream",
     "text": [
      "[200]\ttrain-rmse:11.40135+0.06334\ttest-rmse:11.97496+0.25913\n"
     ]
    },
    {
     "name": "stdout",
     "output_type": "stream",
     "text": [
      "[250]\ttrain-rmse:11.23369+0.06250\ttest-rmse:11.92716+0.23420\n"
     ]
    },
    {
     "name": "stdout",
     "output_type": "stream",
     "text": [
      "[300]\ttrain-rmse:11.09413+0.06027\ttest-rmse:11.89891+0.22190\n"
     ]
    },
    {
     "name": "stdout",
     "output_type": "stream",
     "text": [
      "[350]\ttrain-rmse:10.96916+0.05794\ttest-rmse:11.88394+0.21024\n"
     ]
    },
    {
     "name": "stdout",
     "output_type": "stream",
     "text": [
      "[400]\ttrain-rmse:10.85842+0.05766\ttest-rmse:11.87707+0.20485\n"
     ]
    },
    {
     "name": "stdout",
     "output_type": "stream",
     "text": [
      "[450]\ttrain-rmse:10.75344+0.05650\ttest-rmse:11.87340+0.19724\n"
     ]
    },
    {
     "name": "stdout",
     "output_type": "stream",
     "text": [
      "[497]\ttrain-rmse:10.66038+0.05673\ttest-rmse:11.87554+0.19160\n"
     ]
    },
    {
     "name": "stderr",
     "output_type": "stream",
     "text": [
      "\r",
      " 30%|████████████████████████████████████████████▍                                                                                                       | 3/10 [00:42<01:39, 14.16s/it]"
     ]
    },
    {
     "name": "stdout",
     "output_type": "stream",
     "text": [
      "[0]\ttrain-rmse:17.17616+0.18604\ttest-rmse:17.16381+0.75403\n"
     ]
    },
    {
     "name": "stdout",
     "output_type": "stream",
     "text": [
      "[50]\ttrain-rmse:13.09269+0.12252\ttest-rmse:13.24523+0.63324\n"
     ]
    },
    {
     "name": "stdout",
     "output_type": "stream",
     "text": [
      "[100]\ttrain-rmse:12.01175+0.10196\ttest-rmse:12.30412+0.54989\n"
     ]
    },
    {
     "name": "stdout",
     "output_type": "stream",
     "text": [
      "[150]\ttrain-rmse:11.62786+0.09563\ttest-rmse:12.04684+0.50458\n"
     ]
    },
    {
     "name": "stdout",
     "output_type": "stream",
     "text": [
      "[200]\ttrain-rmse:11.40653+0.09318\ttest-rmse:11.94743+0.48088\n"
     ]
    },
    {
     "name": "stdout",
     "output_type": "stream",
     "text": [
      "[250]\ttrain-rmse:11.23811+0.09100\ttest-rmse:11.89791+0.46977\n"
     ]
    },
    {
     "name": "stdout",
     "output_type": "stream",
     "text": [
      "[300]\ttrain-rmse:11.09488+0.08855\ttest-rmse:11.87128+0.46384\n"
     ]
    },
    {
     "name": "stdout",
     "output_type": "stream",
     "text": [
      "[350]\ttrain-rmse:10.97252+0.08723\ttest-rmse:11.85831+0.45930\n"
     ]
    },
    {
     "name": "stdout",
     "output_type": "stream",
     "text": [
      "[400]\ttrain-rmse:10.85980+0.08650\ttest-rmse:11.85218+0.45538\n"
     ]
    },
    {
     "name": "stdout",
     "output_type": "stream",
     "text": [
      "[450]\ttrain-rmse:10.75367+0.08572\ttest-rmse:11.84968+0.45216\n"
     ]
    },
    {
     "name": "stdout",
     "output_type": "stream",
     "text": [
      "[471]\ttrain-rmse:10.71106+0.08467\ttest-rmse:11.85040+0.45117\n"
     ]
    },
    {
     "name": "stderr",
     "output_type": "stream",
     "text": [
      "\r",
      " 40%|███████████████████████████████████████████████████████████▏                                                                                        | 4/10 [00:57<01:26, 14.47s/it]"
     ]
    },
    {
     "name": "stdout",
     "output_type": "stream",
     "text": [
      "[0]\ttrain-rmse:17.17713+0.17862\ttest-rmse:17.16589+0.72408\n"
     ]
    },
    {
     "name": "stdout",
     "output_type": "stream",
     "text": [
      "[50]\ttrain-rmse:13.08917+0.07372\ttest-rmse:13.26182+0.45070\n"
     ]
    },
    {
     "name": "stdout",
     "output_type": "stream",
     "text": [
      "[100]\ttrain-rmse:12.00859+0.06568\ttest-rmse:12.32038+0.32293\n"
     ]
    },
    {
     "name": "stdout",
     "output_type": "stream",
     "text": [
      "[150]\ttrain-rmse:11.62760+0.06464\ttest-rmse:12.05348+0.28615\n"
     ]
    },
    {
     "name": "stdout",
     "output_type": "stream",
     "text": [
      "[200]\ttrain-rmse:11.40744+0.06548\ttest-rmse:11.94658+0.26844\n"
     ]
    },
    {
     "name": "stdout",
     "output_type": "stream",
     "text": [
      "[250]\ttrain-rmse:11.24008+0.06428\ttest-rmse:11.89103+0.26207\n"
     ]
    },
    {
     "name": "stdout",
     "output_type": "stream",
     "text": [
      "[300]\ttrain-rmse:11.10126+0.06303\ttest-rmse:11.86061+0.25844\n"
     ]
    },
    {
     "name": "stdout",
     "output_type": "stream",
     "text": [
      "[350]\ttrain-rmse:10.97647+0.06092\ttest-rmse:11.84459+0.25553\n"
     ]
    },
    {
     "name": "stdout",
     "output_type": "stream",
     "text": [
      "[400]\ttrain-rmse:10.86279+0.05997\ttest-rmse:11.83558+0.25274\n"
     ]
    },
    {
     "name": "stdout",
     "output_type": "stream",
     "text": [
      "[450]\ttrain-rmse:10.75869+0.06003\ttest-rmse:11.82973+0.24935\n"
     ]
    },
    {
     "name": "stdout",
     "output_type": "stream",
     "text": [
      "[500]\ttrain-rmse:10.66051+0.05902\ttest-rmse:11.82637+0.24829\n"
     ]
    },
    {
     "name": "stdout",
     "output_type": "stream",
     "text": [
      "[514]\ttrain-rmse:10.63376+0.05901\ttest-rmse:11.82833+0.24713\n"
     ]
    },
    {
     "name": "stderr",
     "output_type": "stream",
     "text": [
      "\r",
      " 50%|██████████████████████████████████████████████████████████████████████████                                                                          | 5/10 [01:12<01:14, 14.82s/it]"
     ]
    },
    {
     "name": "stdout",
     "output_type": "stream",
     "text": [
      "[0]\ttrain-rmse:17.17873+0.08776\ttest-rmse:17.17952+0.35257\n"
     ]
    },
    {
     "name": "stdout",
     "output_type": "stream",
     "text": [
      "[50]\ttrain-rmse:13.09172+0.07624\ttest-rmse:13.25562+0.27491\n"
     ]
    },
    {
     "name": "stdout",
     "output_type": "stream",
     "text": [
      "[100]\ttrain-rmse:12.01502+0.08542\ttest-rmse:12.31523+0.28690\n"
     ]
    },
    {
     "name": "stdout",
     "output_type": "stream",
     "text": [
      "[150]\ttrain-rmse:11.63107+0.08230\ttest-rmse:12.05411+0.29909\n"
     ]
    },
    {
     "name": "stdout",
     "output_type": "stream",
     "text": [
      "[200]\ttrain-rmse:11.40995+0.08044\ttest-rmse:11.95501+0.30130\n"
     ]
    },
    {
     "name": "stdout",
     "output_type": "stream",
     "text": [
      "[250]\ttrain-rmse:11.23961+0.07627\ttest-rmse:11.90589+0.30543\n"
     ]
    },
    {
     "name": "stdout",
     "output_type": "stream",
     "text": [
      "[300]\ttrain-rmse:11.09845+0.07380\ttest-rmse:11.88321+0.30588\n"
     ]
    },
    {
     "name": "stdout",
     "output_type": "stream",
     "text": [
      "[350]\ttrain-rmse:10.97507+0.07169\ttest-rmse:11.86942+0.30316\n"
     ]
    },
    {
     "name": "stdout",
     "output_type": "stream",
     "text": [
      "[400]\ttrain-rmse:10.86171+0.06829\ttest-rmse:11.86424+0.30065\n"
     ]
    },
    {
     "name": "stdout",
     "output_type": "stream",
     "text": [
      "[450]\ttrain-rmse:10.75687+0.06581\ttest-rmse:11.86153+0.29784\n"
     ]
    },
    {
     "name": "stdout",
     "output_type": "stream",
     "text": [
      "[480]\ttrain-rmse:10.69668+0.06487\ttest-rmse:11.86343+0.29434\n"
     ]
    },
    {
     "name": "stderr",
     "output_type": "stream",
     "text": [
      "\r",
      " 60%|████████████████████████████████████████████████████████████████████████████████████████▊                                                           | 6/10 [01:26<00:58, 14.67s/it]"
     ]
    },
    {
     "name": "stdout",
     "output_type": "stream",
     "text": [
      "[0]\ttrain-rmse:17.17653+0.09687\ttest-rmse:17.17640+0.38005\n"
     ]
    },
    {
     "name": "stdout",
     "output_type": "stream",
     "text": [
      "[50]\ttrain-rmse:13.08580+0.04640\ttest-rmse:13.25560+0.25671\n"
     ]
    },
    {
     "name": "stdout",
     "output_type": "stream",
     "text": [
      "[100]\ttrain-rmse:12.00682+0.04333\ttest-rmse:12.31771+0.21253\n"
     ]
    },
    {
     "name": "stdout",
     "output_type": "stream",
     "text": [
      "[150]\ttrain-rmse:11.62212+0.03634\ttest-rmse:12.06157+0.20007\n"
     ]
    },
    {
     "name": "stdout",
     "output_type": "stream",
     "text": [
      "[200]\ttrain-rmse:11.40195+0.03447\ttest-rmse:11.96048+0.19086\n"
     ]
    },
    {
     "name": "stdout",
     "output_type": "stream",
     "text": [
      "[250]\ttrain-rmse:11.23533+0.02890\ttest-rmse:11.90855+0.18545\n"
     ]
    },
    {
     "name": "stdout",
     "output_type": "stream",
     "text": [
      "[300]\ttrain-rmse:11.09546+0.02390\ttest-rmse:11.87848+0.18064\n"
     ]
    },
    {
     "name": "stdout",
     "output_type": "stream",
     "text": [
      "[350]\ttrain-rmse:10.97138+0.02173\ttest-rmse:11.85813+0.17502\n"
     ]
    },
    {
     "name": "stdout",
     "output_type": "stream",
     "text": [
      "[400]\ttrain-rmse:10.85935+0.01989\ttest-rmse:11.84768+0.16639\n"
     ]
    },
    {
     "name": "stdout",
     "output_type": "stream",
     "text": [
      "[450]\ttrain-rmse:10.75307+0.01883\ttest-rmse:11.84377+0.16186\n"
     ]
    },
    {
     "name": "stdout",
     "output_type": "stream",
     "text": [
      "[500]\ttrain-rmse:10.65528+0.01804\ttest-rmse:11.84318+0.15692\n"
     ]
    },
    {
     "name": "stdout",
     "output_type": "stream",
     "text": [
      "[508]\ttrain-rmse:10.64069+0.01808\ttest-rmse:11.84333+0.15533\n"
     ]
    },
    {
     "name": "stderr",
     "output_type": "stream",
     "text": [
      "\r",
      " 70%|███████████████████████████████████████████████████████████████████████████████████████████████████████▌                                            | 7/10 [01:42<00:44, 14.94s/it]"
     ]
    },
    {
     "name": "stdout",
     "output_type": "stream",
     "text": [
      "[0]\ttrain-rmse:17.17943+0.06454\ttest-rmse:17.18207+0.25698\n"
     ]
    },
    {
     "name": "stdout",
     "output_type": "stream",
     "text": [
      "[50]\ttrain-rmse:13.08951+0.04351\ttest-rmse:13.26665+0.23303\n"
     ]
    },
    {
     "name": "stdout",
     "output_type": "stream",
     "text": [
      "[100]\ttrain-rmse:12.01111+0.04344\ttest-rmse:12.32309+0.21128\n"
     ]
    },
    {
     "name": "stdout",
     "output_type": "stream",
     "text": [
      "[150]\ttrain-rmse:11.62450+0.04400\ttest-rmse:12.05676+0.20283\n"
     ]
    },
    {
     "name": "stdout",
     "output_type": "stream",
     "text": [
      "[200]\ttrain-rmse:11.40490+0.04489\ttest-rmse:11.95071+0.20139\n"
     ]
    },
    {
     "name": "stdout",
     "output_type": "stream",
     "text": [
      "[250]\ttrain-rmse:11.24032+0.04382\ttest-rmse:11.89318+0.20100\n"
     ]
    },
    {
     "name": "stdout",
     "output_type": "stream",
     "text": [
      "[300]\ttrain-rmse:11.10037+0.04543\ttest-rmse:11.86454+0.19971\n"
     ]
    },
    {
     "name": "stdout",
     "output_type": "stream",
     "text": [
      "[350]\ttrain-rmse:10.97663+0.04566\ttest-rmse:11.84476+0.19981\n"
     ]
    },
    {
     "name": "stdout",
     "output_type": "stream",
     "text": [
      "[400]\ttrain-rmse:10.86481+0.04636\ttest-rmse:11.83211+0.19925\n"
     ]
    },
    {
     "name": "stdout",
     "output_type": "stream",
     "text": [
      "[450]\ttrain-rmse:10.76166+0.04483\ttest-rmse:11.82510+0.20060\n"
     ]
    },
    {
     "name": "stdout",
     "output_type": "stream",
     "text": [
      "[500]\ttrain-rmse:10.66175+0.04549\ttest-rmse:11.81877+0.19805\n"
     ]
    },
    {
     "name": "stdout",
     "output_type": "stream",
     "text": [
      "[550]\ttrain-rmse:10.56902+0.04525\ttest-rmse:11.81794+0.19767\n"
     ]
    },
    {
     "name": "stderr",
     "output_type": "stream",
     "text": [
      "\r",
      " 80%|██████████████████████████████████████████████████████████████████████████████████████████████████████████████████████▍                             | 8/10 [01:59<00:31, 15.55s/it]"
     ]
    },
    {
     "name": "stdout",
     "output_type": "stream",
     "text": [
      "[0]\ttrain-rmse:17.17793+0.08664\ttest-rmse:17.17812+0.33837\n"
     ]
    },
    {
     "name": "stdout",
     "output_type": "stream",
     "text": [
      "[50]\ttrain-rmse:13.09308+0.08375\ttest-rmse:13.26025+0.39025\n"
     ]
    },
    {
     "name": "stdout",
     "output_type": "stream",
     "text": [
      "[100]\ttrain-rmse:12.01095+0.08981\ttest-rmse:12.32155+0.37355\n"
     ]
    },
    {
     "name": "stdout",
     "output_type": "stream",
     "text": [
      "[150]\ttrain-rmse:11.63054+0.08460\ttest-rmse:12.05940+0.36157\n"
     ]
    },
    {
     "name": "stdout",
     "output_type": "stream",
     "text": [
      "[200]\ttrain-rmse:11.40842+0.08264\ttest-rmse:11.95585+0.35600\n"
     ]
    },
    {
     "name": "stdout",
     "output_type": "stream",
     "text": [
      "[250]\ttrain-rmse:11.24103+0.08204\ttest-rmse:11.90212+0.35071\n"
     ]
    },
    {
     "name": "stdout",
     "output_type": "stream",
     "text": [
      "[300]\ttrain-rmse:11.09971+0.08014\ttest-rmse:11.87478+0.34960\n"
     ]
    },
    {
     "name": "stdout",
     "output_type": "stream",
     "text": [
      "[350]\ttrain-rmse:10.97667+0.07804\ttest-rmse:11.85788+0.34692\n"
     ]
    },
    {
     "name": "stdout",
     "output_type": "stream",
     "text": [
      "[400]\ttrain-rmse:10.86302+0.07788\ttest-rmse:11.85079+0.34852\n"
     ]
    },
    {
     "name": "stdout",
     "output_type": "stream",
     "text": [
      "[450]\ttrain-rmse:10.75846+0.07889\ttest-rmse:11.84564+0.34530\n"
     ]
    },
    {
     "name": "stdout",
     "output_type": "stream",
     "text": [
      "[495]\ttrain-rmse:10.66999+0.07905\ttest-rmse:11.84372+0.34255\n"
     ]
    },
    {
     "name": "stderr",
     "output_type": "stream",
     "text": [
      "\r",
      " 90%|█████████████████████████████████████████████████████████████████████████████████████████████████████████████████████████████████████▏              | 9/10 [02:14<00:15, 15.50s/it]"
     ]
    },
    {
     "name": "stdout",
     "output_type": "stream",
     "text": [
      "[0]\ttrain-rmse:17.17505+0.27179\ttest-rmse:17.14918+1.04323\n"
     ]
    },
    {
     "name": "stdout",
     "output_type": "stream",
     "text": [
      "[50]\ttrain-rmse:13.09143+0.10831\ttest-rmse:13.26432+0.73394\n"
     ]
    },
    {
     "name": "stdout",
     "output_type": "stream",
     "text": [
      "[100]\ttrain-rmse:12.01065+0.06071\ttest-rmse:12.33591+0.50650\n"
     ]
    },
    {
     "name": "stdout",
     "output_type": "stream",
     "text": [
      "[150]\ttrain-rmse:11.62813+0.04605\ttest-rmse:12.07847+0.38975\n"
     ]
    },
    {
     "name": "stdout",
     "output_type": "stream",
     "text": [
      "[200]\ttrain-rmse:11.40587+0.04082\ttest-rmse:11.97918+0.33061\n"
     ]
    },
    {
     "name": "stdout",
     "output_type": "stream",
     "text": [
      "[250]\ttrain-rmse:11.23905+0.04053\ttest-rmse:11.92570+0.29639\n"
     ]
    },
    {
     "name": "stdout",
     "output_type": "stream",
     "text": [
      "[300]\ttrain-rmse:11.09699+0.04217\ttest-rmse:11.89473+0.27520\n"
     ]
    },
    {
     "name": "stdout",
     "output_type": "stream",
     "text": [
      "[350]\ttrain-rmse:10.97164+0.04202\ttest-rmse:11.88160+0.26498\n"
     ]
    },
    {
     "name": "stdout",
     "output_type": "stream",
     "text": [
      "[400]\ttrain-rmse:10.85817+0.04360\ttest-rmse:11.87550+0.25572\n"
     ]
    },
    {
     "name": "stdout",
     "output_type": "stream",
     "text": [
      "[450]\ttrain-rmse:10.75325+0.04464\ttest-rmse:11.87350+0.25393\n"
     ]
    },
    {
     "name": "stdout",
     "output_type": "stream",
     "text": [
      "[458]\ttrain-rmse:10.73779+0.04477\ttest-rmse:11.87501+0.25296\n"
     ]
    },
    {
     "name": "stderr",
     "output_type": "stream",
     "text": [
      "\r",
      "100%|███████████████████████████████████████████████████████████████████████████████████████████████████████████████████████████████████████████████████| 10/10 [02:28<00:00, 15.05s/it]"
     ]
    },
    {
     "name": "stderr",
     "output_type": "stream",
     "text": [
      "\r",
      "100%|███████████████████████████████████████████████████████████████████████████████████████████████████████████████████████████████████████████████████| 10/10 [02:28<00:00, 14.87s/it]"
     ]
    },
    {
     "name": "stderr",
     "output_type": "stream",
     "text": [
      "\n"
     ]
    }
   ],
   "source": [
    "if param.get(\"eval_metric\", \"mae\") == \"rmse\":\n",
    "    score_key = \"test-rmse-mean\"\n",
    "    ylabel = \"Test RMSE Mean\"\n",
    "    title = \"Learning Curve: Test RMSE vs Boosting Rounds\"\n",
    "elif param.get(\"eval_metric\", \"mae\") == \"mae\":\n",
    "    score_key = \"test-mae-mean\"\n",
    "    ylabel = \"Test MAE Mean\"\n",
    "    title = \"Learning Curve: Test MAE vs Boosting Rounds\"\n",
    "elif param.get(\"eval_metric\", \"mae\") == \"logloss\":\n",
    "    score_key = \"test-logloss-mean\"\n",
    "    ylabel = \"Test Logloss Mean\"\n",
    "    title = \"Learning Curve: Test Logloss vs Boosting Rounds\"\n",
    "\n",
    "\n",
    "for i in tqdm(range(repeat_cv), leave=True, dynamic_ncols=True): \n",
    "    cv_result = xgb.cv(\n",
    "        params=param,\n",
    "        dtrain=dtrain,\n",
    "        obj=cauchyobj,\n",
    "        num_boost_round=num_boost_round,\n",
    "        folds=KFold(n_splits=folds_splits, shuffle=True, random_state=i),\n",
    "        early_stopping_rounds=early_stopping_rounds,\n",
    "        verbose_eval=50\n",
    "    )\n",
    "    \"\"\"\n",
    "    train-mae-mean: 各fold における訓練データの MAE の平均値。\n",
    "    train-mae-std: 訓練データの MAE の標準偏差。\n",
    "    test-mae-mean: 各fold における検証データの MAE の平均値。\n",
    "    test-mae-std: 検証データの MAE の標準偏差。\n",
    "    \"\"\"\n",
    "    xgb_cv.append(cv_result)\n",
    "    \n",
    "\n",
    "\n",
    "\n",
    "# 各 repeater ごとの最適ブーストラウンド数と検証MAE\n",
    "iteration_counts = [np.argmin(cv[score_key].values) for cv in xgb_cv]\n",
    "val_mae = [np.min(cv[score_key].values) for cv in xgb_cv]\n",
    "\n",
    "mean_iteration = np.mean(iteration_counts)\n",
    "mean_val_mae = np.mean(val_mae)\n",
    "min_val_mae = np.min(val_mae)\n",
    "results.append(f\"mean_iteration: {mean_iteration}\")\n",
    "results.append(f\"mean_val_{param['eval_metric']}: {mean_val_mae}\")\n",
    "results.append(f\"min_val_{param['eval_metric']}: {min_val_mae}\")\n",
    "results.append(\"\")\n",
    "\n",
    "###\n",
    "plt.figure(figsize=(10, 6))\n",
    "for i, cv_result in enumerate(xgb_cv):\n",
    "    rounds = np.arange(len(cv_result[score_key]))\n",
    "    plt.plot(rounds, cv_result[score_key], label=f\"CV repeater {i+1}\")\n",
    "    \n",
    "plt.xlabel(\"Boosting Round\")\n",
    "plt.ylabel(ylabel)\n",
    "plt.title(title)\n",
    "plt.legend()\n",
    "plt.grid(True)\n",
    "\n",
    "plt.savefig(os.path.join(OUTPUT_PATH, f\"learning_curve_{PREDICT_YEAR}.png\"))\n",
    "plt.close()\n",
    "###\n"
   ]
  },
  {
   "cell_type": "code",
   "execution_count": 22,
   "id": "82c662ab",
   "metadata": {
    "execution": {
     "iopub.execute_input": "2025-03-12T12:30:36.403493Z",
     "iopub.status.busy": "2025-03-12T12:30:36.403493Z",
     "iopub.status.idle": "2025-03-12T12:30:36.415167Z",
     "shell.execute_reply": "2025-03-12T12:30:36.415167Z"
    },
    "papermill": {
     "duration": 0.032175,
     "end_time": "2025-03-12T12:30:36.416933",
     "exception": false,
     "start_time": "2025-03-12T12:30:36.384758",
     "status": "completed"
    },
    "tags": []
   },
   "outputs": [
    {
     "name": "stdout",
     "output_type": "stream",
     "text": [
      "最適ブーストラウンド数: [476, 492, 472, 446, 489, 456, 484, 525, 470, 433]\n",
      "test-rmse-mean: [11.845731845263142, 11.862446956684291, 11.872948848796716, 11.84915639177873, 11.82593080508577, 11.860655919965586, 11.8418400136654, 11.816495998387861, 11.843452827549331, 11.873180692148523]\n"
     ]
    }
   ],
   "source": [
    "print(\"最適ブーストラウンド数:\", iteration_counts)\n",
    "print(f\"{score_key}:\", val_mae)\n",
    "results.append(f\"最適ブーストラウンド: {iteration_counts}\")\n",
    "results.append(f\"{score_key}: {val_mae}\")\n",
    "results.append(\"\")"
   ]
  },
  {
   "cell_type": "code",
   "execution_count": 23,
   "id": "d904b571",
   "metadata": {
    "execution": {
     "iopub.execute_input": "2025-03-12T12:30:36.446528Z",
     "iopub.status.busy": "2025-03-12T12:30:36.445507Z",
     "iopub.status.idle": "2025-03-12T12:33:02.834102Z",
     "shell.execute_reply": "2025-03-12T12:33:02.834102Z"
    },
    "papermill": {
     "duration": 146.411466,
     "end_time": "2025-03-12T12:33:02.836110",
     "exception": false,
     "start_time": "2025-03-12T12:30:36.424644",
     "status": "completed"
    },
    "tags": []
   },
   "outputs": [
    {
     "name": "stderr",
     "output_type": "stream",
     "text": [
      "\r",
      "  0%|                                                                                                                                                            | 0/10 [00:00<?, ?it/s]"
     ]
    },
    {
     "name": "stderr",
     "output_type": "stream",
     "text": [
      "C:\\Users\\81809\\AppData\\Local\\Temp\\ipykernel_9064\\3386215446.py:18: FutureWarning: Setting an item of incompatible dtype is deprecated and will raise an error in a future version of pandas. Value '[ 2.21620617e+01 -3.42743230e+00  2.38995194e+00  8.07496929e+00\n",
      " -8.33090210e+00 -1.00207055e+00  9.11900330e+00  4.79407024e+00\n",
      "  1.67929590e+00  1.05007162e+01  6.41554117e+00 -5.76595831e+00\n",
      "  9.90923500e+00 -2.27910709e+00 -3.65173411e+00 -2.05362082e+00\n",
      "  4.88064146e+00  8.20357609e+00  4.51547241e+00  2.24841547e+00\n",
      "  4.99282742e+00  3.56757832e+00  5.12433469e-01  2.00011749e+01\n",
      "  3.99677873e+00  8.63798618e+00 -3.18177462e+00  1.56800175e+01\n",
      "  6.53040171e+00  5.84574175e+00  2.71056509e+00 -3.69682699e-01\n",
      " -2.25900340e+00 -2.72354221e+00  9.38948727e+00  6.43100166e+00\n",
      "  4.22383726e-01  1.99493754e+00  2.08444633e+01  9.06749344e+00\n",
      " -8.32957268e+00 -1.72553575e+00 -3.13643956e+00  8.21511745e+00\n",
      " -1.10453949e+01  1.07106600e+01  2.89983392e+00  5.39877129e+00\n",
      "  7.90860653e+00  4.86202288e+00 -1.32267151e+01  4.43047094e+00\n",
      " -1.39460611e+00  2.33829899e+01 -9.76857245e-01  6.76275921e+00\n",
      "  6.85737181e+00 -3.14044237e+00  7.35373688e+00  2.79285645e+00\n",
      " -9.51736152e-01  4.71833420e+00  3.01494288e+00  2.25226140e+00\n",
      "  8.79115868e+00 -3.74218035e+00 -1.50798762e+00  2.34367466e+01\n",
      "  9.72933590e-01  8.68624496e+00  3.31471419e+00 -7.69953489e+00\n",
      " -5.51659727e+00 -7.95607984e-01 -2.71692014e+00  4.64675999e+00\n",
      "  5.44162750e+00  9.41690430e-02  2.54566784e+01 -6.92099857e+00\n",
      "  2.94819093e+00  1.03001251e+01  1.63127556e+01 -3.23825407e+00\n",
      "  5.00277328e+00  6.75006723e+00 -3.39872432e+00 -4.67101723e-01\n",
      "  2.35960007e+01  1.72837391e+01  3.50927329e+00 -4.43731165e+00\n",
      " -2.04071656e-01  2.78708115e+01 -9.60746288e-01  2.04696894e+00\n",
      "  3.10042644e+00  5.30454063e+00  3.70171666e+00 -9.58737659e+00\n",
      " -2.97685003e+00 -2.48975372e+00  1.07080965e+01  2.82037616e+00\n",
      "  4.06205952e-01  1.62371750e+01  2.07006493e+01 -2.65759158e+00\n",
      "  2.14399338e+01  4.31549263e+00  2.17473164e+01 -1.80875540e+00\n",
      " -2.95093226e+00  1.53567762e+01  1.83666286e+01  1.11676636e+01\n",
      " -3.04237771e+00 -8.55147552e+00  7.65253484e-01 -3.65452838e+00\n",
      "  1.26119623e+01  8.33530235e+00 -5.22669029e+00 -2.57633066e+00\n",
      "  3.44793051e-01 -6.17112494e+00  8.34964085e+00 -7.12827253e+00\n",
      " -1.54181147e+01 -1.76458746e-01  4.50090694e+00 -4.59040594e+00\n",
      " -1.55286384e+00 -1.84038854e+00  2.77413445e+01  6.17527437e+00\n",
      "  4.44657946e+00  2.98680401e+00  1.06924486e+01  9.04702282e+00\n",
      "  9.90019035e+00  7.97815371e+00  1.15009642e+01 -3.42142916e+00\n",
      " -2.20893288e+00  1.10882485e+00  2.17107277e+01 -2.37158728e+00\n",
      "  1.25331450e+01 -1.06505499e+01  4.23475218e+00  4.36185789e+00\n",
      "  9.28909588e+00  8.95125675e+00 -2.14275718e+00  1.15248060e+00\n",
      " -2.69178653e+00  8.34259510e+00  8.25844860e+00  1.87984407e+00\n",
      "  2.02591252e+00  8.26180458e+00  6.11111450e+00  2.90493250e+00\n",
      " -1.21166694e+00  2.22723026e+01  1.81618059e+00  6.35656881e+00\n",
      "  2.30956593e+01 -2.75152588e+00  2.70901465e+00 -2.31368685e+00\n",
      " -1.74325132e+00 -4.69756693e-01  8.72150707e+00  1.57948256e+01\n",
      " -1.34128618e+00  1.90770493e+01  4.12290812e+00  3.98419142e+00\n",
      "  9.73269367e+00  5.44664383e-01 -1.06848228e+00  4.33580256e+00\n",
      " -5.48726940e+00  4.85799170e+00  2.15606403e+01  1.96451759e+01\n",
      "  1.64122849e+01  7.10271215e+00 -3.66342330e+00  5.34008408e+00\n",
      "  1.80903459e+00 -8.09530830e+00 -2.37927482e-01  2.52443027e+00\n",
      " -2.36324012e-01  7.76964664e+00  2.06822948e+01  2.22526817e+01\n",
      "  2.99538326e+00  1.35766001e+01  5.55607986e+00  8.38309574e+00\n",
      " -5.07126522e+00  1.04126768e+01  1.71514142e+00  3.44395709e+00\n",
      "  1.22849762e+00 -6.59143627e-01  8.16481113e+00  1.49268341e+01\n",
      "  9.95362282e+00  1.02286692e+01  3.52952957e-01  2.21658955e+01\n",
      "  1.76143265e+00  2.55423713e+00  7.16220903e+00  4.76236773e+00\n",
      "  1.19986677e+01  2.26216626e+00  5.79878044e+00 -4.04403210e+00\n",
      "  4.86001158e+00  2.83840418e-01  4.95098925e+00  1.11128988e+01\n",
      "  1.76370201e+01  1.44993544e+01  6.81765509e+00  1.15175915e+01\n",
      "  9.03904533e+00  2.31318444e-01  2.82636666e+00 -9.96611297e-01\n",
      "  2.16541576e+00  4.28728676e+00  5.44098568e+00  3.43604088e+01\n",
      "  3.20264168e+01 -9.78063869e+00 -8.69135094e+00  4.66636628e-01\n",
      "  2.24744391e+00  7.71339083e+00  4.50375527e-01  1.20174303e+01\n",
      " -8.06295776e+00  4.19639359e+01  1.71478996e+01  1.36203194e+00\n",
      "  2.80779195e+00  2.98957558e+01  2.63008499e+00  4.77891493e+00\n",
      "  1.47277231e+01  1.58675575e+00  1.51089430e+01  6.57206059e+00\n",
      "  1.51985321e+01  1.33987827e+01  1.75767784e+01  5.08194447e+00\n",
      "  1.73080921e+01  1.18079109e+01  7.55476713e+00  7.54228592e+00\n",
      " -1.12665138e+01  7.60479689e+00 -2.01725674e+01  2.97680449e+00\n",
      "  2.19263973e+01 -1.65855014e+00  2.88559866e+00  8.20425129e+00\n",
      " -1.87485635e+00  7.10537243e+00  1.35024917e+00  3.04337959e+01\n",
      "  3.15581346e+00  4.43151379e+00  1.58348961e+01  8.42969608e+00\n",
      "  2.42872238e+00  5.42719364e+00  1.27547264e+01  3.43017159e+01\n",
      "  7.33103848e+00  1.13522053e+01  1.74438083e+00  1.04017715e+01\n",
      "  1.65073185e+01 -2.29238898e-01  1.40531101e+01  3.15337467e+01\n",
      "  6.22833408e-02  1.22549143e+01 -4.38168001e+00  1.78430824e+01\n",
      "  1.99346027e+01  7.06862509e-01  3.04963779e+01  1.91426640e+01\n",
      "  3.11372871e+01 -1.71931458e+01  2.53638387e+00  2.86220622e+00\n",
      "  4.20062399e+00  8.18137550e+00  3.10821114e+01  3.83532944e+01\n",
      "  1.30254805e+00  4.70605469e+00  2.33000679e+01  8.40686798e+00\n",
      "  1.57579386e+00  1.20246086e+01 -2.15642643e+00  2.95880222e+01\n",
      "  3.57340279e+01  7.75271988e+00  4.06046257e+01 -4.57546186e+00\n",
      "  6.22916889e+00  2.38375187e+01  2.02221603e+01  2.17596054e+01\n",
      "  2.78259315e+01 -4.51872969e+00  1.31061630e+01  5.35580492e+00\n",
      "  4.13872099e+00  4.04305878e+01  8.11828613e+00  8.58017063e+00\n",
      "  2.17673826e+00  3.80709386e+00  2.02308235e+01 -8.04111958e+00\n",
      " -2.16569036e-01 -1.41002440e+00 -2.76769590e+00 -4.70966190e-01\n",
      " -1.43480177e+01 -1.02335587e+01  6.37858725e+00 -8.45430946e+00\n",
      " -3.78753090e+00 -1.64476547e+01 -2.55041027e+01 -1.61138368e+00\n",
      " -6.12907934e+00  2.22332096e+00  6.50591993e+00 -8.15382195e+00\n",
      " -2.24679375e+00  3.43846154e+00 -1.86583939e+01  4.54039037e-01\n",
      " -3.03944683e+00 -6.74464560e+00 -7.90794325e+00 -1.62360382e+00\n",
      " -5.90136909e+00 -3.19019616e-01  5.54702330e+00 -4.14908457e+00\n",
      " -1.22626438e+01  4.13237143e+00 -5.65448380e+00 -1.58475304e+01\n",
      " -1.23618317e+01 -5.27392721e+00 -3.34094644e-01  3.82281709e+00\n",
      "  2.48077869e+00 -1.00661879e+01 -8.41049862e+00  3.85132337e+00\n",
      "  2.90794539e+00 -2.15947399e+01  1.00754852e+01  6.36340678e-01\n",
      " -8.97910595e+00  4.91309118e+00 -6.90468025e+00 -4.34175777e+00\n",
      "  4.22452164e+00  1.70187056e+00 -1.82920723e+01 -5.98428774e+00\n",
      " -2.05696812e+01 -7.90123034e+00 -2.94364071e+00 -5.99957895e+00\n",
      " -9.35590172e+00  4.63605118e+00 -5.27931643e+00 -1.74953914e+00\n",
      " -5.44671392e+00 -1.70695686e+00  6.79024339e-01 -4.38180876e+00\n",
      " -1.33452435e+01 -4.80305147e+00  6.28521293e-02 -1.61383743e+01\n",
      " -1.08245878e+01  4.98418808e+00 -2.03923607e+00  4.63985586e+00\n",
      "  1.03706610e+00 -3.71900988e+00 -6.50813818e+00 -1.21340675e+01\n",
      "  8.05270195e+00  3.34143615e+00 -9.32037449e+00 -6.87749529e+00\n",
      "  3.24636698e+00 -3.17151046e+00  2.97778940e+00 -3.15737748e+00\n",
      " -1.62507286e+01 -1.03117692e+00 -1.42896948e+01  3.53201962e+00\n",
      "  2.50422049e+00  3.12556887e+00 -1.04085474e+01 -1.37266617e+01\n",
      " -3.19552326e+00  4.20374012e+00 -8.69130039e+00 -4.86298323e+00\n",
      "  2.00542235e+00 -5.15992832e+00 -2.78455782e+00 -8.10039711e+00\n",
      " -2.40861320e+01 -2.20591259e+01 -4.92550135e+00 -2.10047283e+01\n",
      "  1.77651393e+00  3.70584667e-01 -1.74489517e+01  6.32090235e+00\n",
      " -3.40643239e+00  7.93734121e+00 -1.00166273e+01 -4.37816238e+00\n",
      "  1.90770969e-01 -7.23582506e+00  1.64299357e+00  5.58706617e+00\n",
      " -6.78517818e+00  1.98565388e+00 -6.90234661e+00 -4.78391933e+00\n",
      " -1.08319969e+01  5.95608807e+00 -9.83337116e+00  1.83280599e+00\n",
      " -9.29754066e+00 -3.62040377e+00 -7.65591240e+00 -6.76091099e+00\n",
      " -3.75274801e+00 -9.63980389e+00 -8.30526924e+00 -1.61213112e+01\n",
      "  2.76654983e+00  3.18823981e+00 -9.76630306e+00 -1.39067707e+01\n",
      "  2.68283391e+00  2.23814988e+00  1.61123538e+00  5.61895132e+00\n",
      " -1.39474707e+01 -1.10445175e+01 -1.74644661e+00 -7.93785810e+00\n",
      " -3.28243136e+00 -3.66448212e+00 -6.81269264e+00  1.00183010e+01\n",
      " -9.31242704e-01 -1.30228558e+01  6.57453966e+00 -7.95138538e-01\n",
      "  2.94043064e+00 -3.96458411e+00 -2.68267155e+00 -1.95257301e+01\n",
      " -1.14893093e+01 -5.37172031e+00 -1.17383099e+01 -4.79864120e+00\n",
      " -5.28515244e+00 -4.13495016e+00  5.57364798e+00 -4.90456438e+00\n",
      " -4.58975601e+00 -5.16633749e-01  3.00786781e+00 -1.81261516e+00\n",
      "  2.45102429e+00 -8.41181755e+00 -4.51154900e+00 -2.39090557e+01\n",
      "  3.15226531e+00 -4.32950783e+00 -4.89774799e+00 -5.88742137e-01\n",
      " -2.78394055e+00 -1.82600689e+01  4.80441761e+00 -9.24240780e+00\n",
      " -1.16168763e-02  3.36442733e+00 -5.25307703e+00  6.66775608e+00\n",
      " -2.13857574e+01 -8.66389179e+00 -2.32112575e+00 -2.87635326e+00\n",
      " -1.37260675e+01 -8.64433467e-01  6.65153742e+00 -8.43229771e+00\n",
      " -8.72783279e+00 -6.32082510e+00  2.11308837e-01 -1.82826710e+01\n",
      "  3.39360309e+00  2.44998373e-03 -1.22925959e+01 -3.08848834e+00\n",
      " -3.70184755e+00 -8.58347774e-01 -5.42111993e-01  2.39428005e+01\n",
      " -5.61792612e+00 -4.58102322e+00  9.73982811e+00  7.12133932e+00\n",
      " -9.75828552e+00  2.26102090e+00  1.51634419e+00 -2.99263811e+00\n",
      " -3.78508258e+00 -7.91419670e-02  8.56568038e-01 -7.32477379e+00\n",
      " -3.04818993e+01 -1.68366699e+01 -1.05591507e+01  7.21052217e+00\n",
      "  3.65575600e+00  3.56805229e+00 -5.88344038e-01 -6.88124228e+00\n",
      " -9.41931963e-01 -1.19523108e+00 -5.92125988e+00 -1.03207245e+01\n",
      "  1.00188875e+00  4.88277102e+00 -6.64452982e+00  1.67858696e+00\n",
      " -3.11684017e+01 -2.55859947e+01 -4.59720955e+01 -2.65137043e+01\n",
      " -1.60980339e+01 -1.70389056e+00 -3.73744273e+00  1.09683905e+01\n",
      " -8.31245804e+00 -2.10663319e+01 -2.34152012e+01 -1.73972225e+01\n",
      " -5.81189251e+00 -7.64944315e+00 -4.23350668e+00  5.79045773e-01\n",
      " -4.16668549e+01 -1.86660361e+00 -1.83440285e+01 -1.36581564e+01\n",
      " -2.89316063e+01 -1.95529575e+01 -9.88215446e+00 -1.31396923e+01\n",
      "  6.16373348e+00  1.16774807e+01 -4.95439589e-01 -3.92290854e+00\n",
      " -4.01860744e-01 -2.74915066e+01  1.20269566e+01 -2.22006607e+01\n",
      " -2.31579189e+01 -4.85736322e+00 -7.50274611e+00  3.03289700e+00\n",
      " -2.49533157e+01 -1.68592892e+01 -1.34103270e+01 -3.01833496e+01\n",
      "  1.33181250e+00 -4.99001074e+00 -1.75744476e+01 -3.26526260e+01\n",
      "  2.06533766e+00  4.38954592e+00 -3.47719312e+00 -2.59587116e+01\n",
      " -1.43127651e+01  1.92376499e+01 -3.39981985e+00 -2.34996471e+01\n",
      " -4.49298859e+00 -1.25962276e+01 -1.30824146e+01 -3.99654746e+00\n",
      " -1.68357980e+00 -3.36269264e+01  1.23474561e-01 -8.89203644e+00\n",
      " -5.89135122e+00 -1.29586964e+01  4.10390377e+00  4.09005022e+00\n",
      " -4.58157806e+01 -7.51726687e-01  8.28130424e-01 -2.70791550e+01\n",
      " -1.26501322e+00 -6.81442881e+00 -1.81006451e+01 -9.81105995e+00\n",
      " -3.18983822e+01 -1.13370152e+01 -2.44354606e+00 -3.26994820e+01\n",
      " -1.89235535e+01  2.76886153e+00 -4.56996489e+00 -1.99952316e+01\n",
      " -2.93093109e+01 -4.98860121e+00 -3.21636009e+01 -3.78242493e+00\n",
      " -2.01944752e+01  9.37988091e+00  7.01445389e+00  1.00373011e+01\n",
      " -2.17211990e+01 -5.26319027e-01  7.26165867e+00 -2.08953547e+00\n",
      "  3.26682377e+00 -8.79652977e+00 -1.82879238e+01 -5.22117662e+00\n",
      "  1.29814367e+01 -6.85884762e+00 -4.93689966e+00  6.14038706e+00\n",
      " -4.18388977e+01  9.02844429e+00 -3.76839142e+01 -5.58518219e+00\n",
      " -2.27641983e+01 -2.53094692e+01 -1.93471470e+01  1.07590189e+01\n",
      " -3.04823380e+01 -5.44755697e-01  1.54724178e+01 -2.55770950e+01\n",
      " -1.54856758e+01 -8.75851345e+00 -2.22924404e+01 -8.53893661e+00\n",
      " -5.19413471e+00  1.34048983e-01 -1.75036049e+01 -2.00019474e+01\n",
      " -4.24867477e+01 -2.67692900e+00  4.67042780e+00  5.05585480e+00\n",
      " -1.99082317e+01 -2.25894470e+01]' has dtype incompatible with int64, please explicitly cast to a compatible dtype first.\n",
      "  preds[val_index] = model.predict(dval_i)\n"
     ]
    },
    {
     "name": "stderr",
     "output_type": "stream",
     "text": [
      "\r",
      " 10%|██████████████▊                                                                                                                                     | 1/10 [00:13<02:00, 13.41s/it]"
     ]
    },
    {
     "name": "stderr",
     "output_type": "stream",
     "text": [
      "C:\\Users\\81809\\AppData\\Local\\Temp\\ipykernel_9064\\3386215446.py:18: FutureWarning: Setting an item of incompatible dtype is deprecated and will raise an error in a future version of pandas. Value '[ -9.512761     2.4543426   15.22695     -0.27421      7.826582\n",
      "   4.3055387   22.746483    13.482815    10.129043     7.454356\n",
      "  -3.6563375   -6.3647156    4.939695    -3.7498863   23.932102\n",
      "   0.8935065    9.61963      5.093978     2.0535488    8.087307\n",
      "   7.272415     3.2703686    6.5064917   -6.3204393    0.38591152\n",
      "   7.5658274   -3.2869935   25.962166    14.219754     0.9251572\n",
      "   3.2495794    8.813575    -2.9905097    4.865155    -4.6570973\n",
      "   6.4805512   -0.05865088  22.189016    10.336975     8.959391\n",
      "  18.959236   -11.594793    17.617237     9.00793      5.1598177\n",
      "   2.3542762    8.170596    -2.8878636    5.3755765    2.1174686\n",
      "  -1.5719       5.551688    25.980892    25.639656     4.9943647\n",
      "   7.173838    -1.2910612    9.094224     6.6777644    5.6740685\n",
      "  -1.6293495    1.138889     0.35674408   2.3783662   17.321478\n",
      "  12.949983     0.1901219   31.323614    14.622374     3.7023575\n",
      "  19.995138    -7.643254    14.397629     5.5284457    1.5086986\n",
      "   3.5341802    0.67890996  -0.6128604   18.31281      8.570407\n",
      "  -1.5312889    6.5980525   -5.6341653  -10.153014     1.066838\n",
      "   8.578618     9.25664     -1.5824672    4.072492     3.2135458\n",
      "  -5.230093    16.446255    -1.3041568   15.418473    -3.7417445\n",
      "  16.774652     2.127564    -3.7507448   10.108228     8.433322\n",
      "   7.361131     3.3032162    0.6125258   17.18123     -2.0303042\n",
      "  -1.8968132    0.9936311   13.546086    15.01172     17.995132\n",
      "  -2.990706     2.1932588    7.1705766    9.7147      -5.407885\n",
      "  -8.604083    -7.482392    -8.483425    -0.6631075    1.1073282\n",
      "  -5.3734293    0.22272518   5.568656     3.040105     6.636301\n",
      "  25.721407     6.67825      0.7722766   -9.464958    -5.780723\n",
      "   1.4901202    2.7613866   -0.91579753  -0.8653807   -3.2572763\n",
      "   6.2234235    4.865533     2.3221085   25.24027      4.1566896\n",
      "  -1.6716614   -0.19078949  -1.1717783   -2.5118146   23.052336\n",
      "  -3.7482505    1.8506567   -3.4646742    4.4702673    6.339323\n",
      "  -6.4690237    4.906226     0.35895708  -3.084798    -6.024177\n",
      "   0.7310135   24.04739     31.18514      8.757713    -3.1850748\n",
      "   2.1445694    1.4677765   19.94134     12.627913     4.340835\n",
      "  20.56808      6.630142     5.6372385    4.916006     1.4191947\n",
      "  -1.3491588    5.8786764   -1.8366561    8.518643    -5.0620766\n",
      " -15.448391     1.5531076   23.652567    20.45345      5.03135\n",
      "   6.3335333    4.8358636    3.6963916    4.356779    -0.3950604\n",
      "   8.729503     3.1201317    3.6885552   27.63721      7.401873\n",
      "  -1.6810652    8.429315    22.257298     3.6079779   -7.412036\n",
      "   7.5624933    1.0428357    2.5217526   -4.295335    -0.9220942\n",
      "  -7.085981    -4.516041     9.6008215   -1.3024578    2.8498142\n",
      "  17.748806    -1.3897145    4.7769895   -5.248085    -9.897295\n",
      "  11.9105       3.77741      1.5951412   -1.6704786    4.3209624\n",
      "  -3.4053426    4.4575496    2.323195     3.1708794   -3.2070577\n",
      "  11.355082    -7.4551444   15.561989    14.830647    -1.9990165\n",
      "  12.508079     2.364893     3.7854824    8.377216     2.7824738\n",
      "  -0.15423416  35.524673     0.17434688  46.285736    15.928927\n",
      "   1.2292849    1.5518589    4.33527     23.249058     4.782556\n",
      "  14.7749       5.7039742   -4.4719944   13.809417    26.38358\n",
      " -13.5906315    6.2957506   26.524965    39.805294    40.858856\n",
      "   3.7838185   19.572504    -1.8588133   25.762573    -6.2587137\n",
      "  19.645426     8.365962    -8.900809   -16.20888     -5.1256127\n",
      "  29.722761    -0.26731    -14.793256    11.902552    28.380148\n",
      "  29.373894    15.003896     7.126639    43.85043     25.50491\n",
      "  11.887384    -1.3798301    4.293861     8.131225    18.892242\n",
      "  -8.027531    22.678545    18.75033    -21.961893     7.743059\n",
      "   6.065736    -2.8479834    7.4291835    3.8581061   32.818527\n",
      "  -9.431167    22.793741     1.4760118   13.822466    -7.179704\n",
      "  29.101957     0.1683803    7.995905     7.8159103   -3.9551778\n",
      "  35.028557    14.039893    -9.513751    -1.696324     8.186153\n",
      "  18.639885     4.1122775   14.230143    -4.6359506    7.472014\n",
      "  31.338425    -4.1811514    2.8804474   48.18422     -0.61770487\n",
      "   2.943534     6.9016724   -0.20611474 -11.74353     29.556492\n",
      "   5.095236     3.5491662   25.217882    -0.22253446  10.038374\n",
      "   1.503529     0.48566124   7.7298098    3.07028      2.4172082\n",
      " -23.993942    -8.126544    18.626871    -5.287157    -1.5778974\n",
      "  21.793173    -3.668015    11.8278055  -10.812954    32.192158\n",
      " -19.514755    -2.5195713   13.746489    12.439779    10.477658\n",
      "  17.390667    33.39989      8.494917    12.15057     15.04251\n",
      "  41.63401     25.718386     3.0212212   -4.679099   -11.956452\n",
      "  -2.9052863   23.841019    18.622152    19.5948      -0.7407848\n",
      "  17.695496     4.229734    -2.494094   -15.035433   -12.172532\n",
      "   6.9457498   -3.959849     1.879823   -10.742527    -8.303481\n",
      " -10.482786    -7.197235     2.375788    -7.1983433    3.0603786\n",
      "   4.2551312  -21.81515     -4.100392   -12.591349    -1.243457\n",
      " -18.687334    -7.2163706   -4.292271     4.2754326   -2.9538236\n",
      "  -5.4630737    1.8400469   -4.817381   -13.074512    -0.46648347\n",
      " -12.8583355   -9.116911   -12.705036    -5.4293103  -24.159616\n",
      "  -3.4200513    4.84296    -14.117709    -9.882764    -5.3414474\n",
      "  -6.614466     4.7784767  -19.328459    -5.831412    -1.4621346\n",
      " -20.877956     2.4610848    9.90933      0.40419695 -13.8229885\n",
      "  -4.3195667    3.4352496    3.8583412    1.6179652   -3.7445233\n",
      " -21.448994   -23.970797    -0.16042836 -24.363697   -21.071232\n",
      "  -7.8037806   -5.854259    -5.395393    -6.527919    -3.76425\n",
      "   4.0786815   -2.2323222   -8.579513    -0.38865802   1.6976367\n",
      "  -4.358444    -8.296622   -25.982403     8.32118    -12.757146\n",
      "  -5.97783      1.3932085  -18.396742    -5.3074956   -7.424161\n",
      " -11.709166   -12.705715   -21.53477     -8.171874    -7.097825\n",
      "   2.257834     1.4318894   -9.720688    -9.714722    -3.0469272\n",
      "  -8.303168    -7.128894    -6.1854205  -13.647127    -1.8910137\n",
      "   4.753207   -11.539774     3.2384174   -2.0285156   -5.7606907\n",
      " -13.641842    -4.884333    -3.3426745    2.2890046   -6.1814895\n",
      "  -5.60672    -22.401491   -26.292088   -18.269108    -2.503571\n",
      "   3.403853     2.32455    -11.303283     3.772882   -17.96484\n",
      "  19.563438   -20.317743     3.2409692    5.2198186  -11.463876\n",
      "   1.998975     3.2452896   -4.9321556   -9.0789385   -8.313073\n",
      " -12.442336    -0.9156522   -3.547131    -2.8754048   -3.20332\n",
      "  -0.49509197 -12.732073    -9.06425     -2.3950315  -16.460558\n",
      "  -2.7631772  -24.950052     1.7218565   -5.3697596    0.37781543\n",
      " -11.178486     4.0126734  -11.156332    -2.134106    -7.925337\n",
      "   1.1553943    3.1026673   -9.977133    -3.803969   -12.622371\n",
      "  -3.6311932    3.6339123   -0.0870844   -1.3884941    2.472568\n",
      " -21.078945    -6.878992    10.618389   -30.85885    -15.536912\n",
      " -19.722097     2.9554863   -5.1185794  -19.62929      0.5145763\n",
      "  -3.8812733    2.1259375   -2.2705379    0.21566106 -22.707355\n",
      " -21.107363    -5.790937    -5.482581   -15.485993    -3.069399\n",
      "   0.3767877   -5.283721     0.7827622   -5.6149974   -4.2284126\n",
      "  -9.740196    -8.359523   -20.28969     -1.9231324    6.737683\n",
      " -10.496856    -9.452037    -1.3242879    1.8145207  -17.371798\n",
      "  -2.5192366   -1.9265604   -9.3841915  -20.711845    11.092382\n",
      " -17.748177     1.8782738   -5.5988417    3.9403896   -5.20887\n",
      "   9.064502     6.054387    -4.896456   -19.557774   -12.311726\n",
      " -23.123796   -16.180407     6.0726414  -21.361515   -13.368912\n",
      " -12.945891    -2.5441377    3.683545    -1.4628206   -2.2489767\n",
      " -18.355438    -5.431048     1.3332438  -36.167526   -30.513393\n",
      " -24.954458    -3.479148     0.61790663 -10.067407    10.917775\n",
      " -19.205547    -4.5884995  -14.270014     0.69490683 -16.951836\n",
      "  -5.777588   -43.945583   -14.227416   -29.704391   -21.585773\n",
      " -15.317655     8.77983     -4.7516904  -44.105858   -19.327724\n",
      " -12.038001    -5.336668    -3.4637814  -10.969427     0.9211758\n",
      " -20.670708    -4.3849564  -18.402842   -10.178263     2.2412703\n",
      " -18.39527    -43.50717      1.6058178  -14.741761   -18.215532\n",
      "  -3.6442115   -7.763061     3.8485758    7.199814    -7.6076384\n",
      " -24.896414   -16.022387    -2.4776273   -2.891555   -43.404366\n",
      "  -1.7772737    7.409436   -14.857744     6.950421   -30.897306\n",
      "  -2.0903945   -8.531461     7.680222    -8.366983    -3.568734\n",
      " -13.322229   -36.350662   -12.697522   -18.87603    -29.287537\n",
      "   7.793464   -24.113457   -27.865175     3.9339638   -5.533551\n",
      "  -3.5383077   -5.830758   -14.696738   -12.367509    -4.6779566\n",
      "  -2.2655468    1.0204706  -11.474229    -8.054501   -18.585337\n",
      " -26.805145   -25.839256    -6.374145     3.2025042  -49.506504\n",
      "   0.60435414 -19.28278    -39.386707   -30.834627     6.5683017\n",
      " -21.858511     9.803097    11.087678    -3.397067    -4.75616\n",
      " -32.108845   -29.114136     2.9285138  -23.716095   -21.888256\n",
      " -31.50995     -0.8664061  -12.997298     9.574599    -3.0064828\n",
      " -10.22047     -8.235971    -7.0404053  -24.470078    -7.0957904\n",
      "   0.39708352  -6.240189     5.003651   -18.317816   -28.332857\n",
      "  -7.3404713  -10.953647     5.5915794   -2.1455624   -6.4688134\n",
      "   1.7484605  -27.093094   -28.74308     -6.901888   -23.249754\n",
      "   4.7484603  -12.842384    -3.9933143 ]' has dtype incompatible with int64, please explicitly cast to a compatible dtype first.\n",
      "  preds[val_index] = model.predict(dval_i)\n"
     ]
    },
    {
     "name": "stderr",
     "output_type": "stream",
     "text": [
      "\r",
      " 20%|█████████████████████████████▌                                                                                                                      | 2/10 [00:27<01:49, 13.73s/it]"
     ]
    },
    {
     "name": "stderr",
     "output_type": "stream",
     "text": [
      "C:\\Users\\81809\\AppData\\Local\\Temp\\ipykernel_9064\\3386215446.py:18: FutureWarning: Setting an item of incompatible dtype is deprecated and will raise an error in a future version of pandas. Value '[ 1.51223087e+00  3.15551114e+00 -6.97262049e+00 -7.16800547e+00\n",
      " -1.21313298e+00  4.89630318e+00 -1.36348093e+00  8.61387157e+00\n",
      "  9.83968735e+00  3.57005382e+00 -2.51005268e+00 -3.04317689e+00\n",
      "  2.80494633e+01  2.12032719e+01  4.59902716e+00 -2.67773247e+00\n",
      "  2.52503128e+01  2.42418633e+01  4.30512619e+00  9.93990993e+00\n",
      "  6.31097174e+00 -9.49396896e+00  5.30565548e+00  7.11877680e+00\n",
      "  8.64835739e+00  8.47859287e+00  5.09809351e+00  6.90509367e+00\n",
      " -5.76093864e+00 -4.62898970e+00  8.03295803e+00 -1.25577116e+00\n",
      "  4.44249296e+00  1.06854401e+01  4.69336128e+00  2.56287804e+01\n",
      "  9.95327532e-01  2.70651798e+01  3.47311020e+00  6.82754660e+00\n",
      "  3.49201274e+00 -6.96286392e+00  6.73402452e+00  6.70976400e+00\n",
      "  7.80692101e+00 -1.99037760e-01 -3.21093845e+00 -3.73116899e+00\n",
      "  8.36257267e+00 -9.79458809e+00  5.56696033e+00  1.08026421e+00\n",
      "  6.17728853e+00  9.21587372e+00 -3.73754525e+00  8.34099102e+00\n",
      " -2.84925079e+00  2.26971817e+00  1.79426498e+01  5.69270086e+00\n",
      "  2.24564819e+01 -3.22757848e-02  5.74081278e+00  6.10847378e+00\n",
      "  7.80413151e+00  8.61553097e+00  2.62824798e+00  1.45986605e+00\n",
      "  3.44092989e+00  6.05743937e-02  2.27362289e+01  4.86249477e-01\n",
      "  6.00886202e+00  1.76295223e+01  3.69944954e+00  1.49355555e+01\n",
      " -8.63336086e+00  1.58913326e+00  4.85975552e+00 -1.99214900e+00\n",
      "  1.31480265e+01  6.37955475e+00 -6.33316159e-01  3.79974556e+00\n",
      "  2.97452116e+00  1.46348820e+01 -2.98932981e+00  6.28059268e-01\n",
      "  1.03796579e-01  1.43834972e+01  5.11464787e+00  1.98564472e+01\n",
      "  1.31203449e+00 -7.88073063e+00  7.38696003e+00  1.07317352e+01\n",
      "  5.17619753e+00 -1.96578920e+00  2.90339565e+00  5.99406624e+00\n",
      " -4.83473361e-01  2.10159531e+01 -2.24855876e+00  8.51854801e+00\n",
      "  2.05553188e+01  1.11198080e+00  2.37701149e+01  5.80984735e+00\n",
      "  5.84261608e+00 -2.56620288e+00  1.03554621e+01 -7.11449003e+00\n",
      " -2.33079410e+00  1.32504201e+00 -3.02513957e+00  4.45500731e-01\n",
      " -6.75062752e+00  6.09321690e+00  7.50276446e-02  6.73168993e+00\n",
      "  7.74313545e+00  2.51450005e+01  4.46774387e+00  3.78255200e+00\n",
      " -3.14797902e+00  3.46024561e+00  1.43181777e+00 -2.50906920e+00\n",
      "  2.13423014e+00 -1.57755351e+00  7.65553191e-02 -1.55633316e+01\n",
      "  1.25618114e+01  1.33698883e+01  2.64001045e+01 -3.05905819e+00\n",
      "  1.33211911e+00  7.70486832e+00 -6.72011805e+00  3.84085941e+00\n",
      "  3.12886126e-02 -2.80882049e+00  1.41614017e+01  1.52128448e+01\n",
      "  2.31066341e+01  1.34206247e+00 -4.39840889e+00 -2.59613156e+00\n",
      "  6.38280821e+00 -6.40143013e+00  3.77974987e+00  4.79184818e+00\n",
      "  1.17107239e+01 -1.26958704e+00  2.38285694e+01  4.06898737e+00\n",
      "  2.74046898e-01  8.90290642e+00  3.20024147e+01  1.18939972e+00\n",
      "  3.75978053e-01  6.64241457e+00  9.74239445e+00  3.55263305e+00\n",
      "  1.94581360e-01 -9.58809435e-01 -1.73690677e+00  4.58968592e+00\n",
      " -2.47010541e+00  2.54282653e-01  4.60539818e+00  7.84588385e+00\n",
      "  7.40754664e-01 -5.14606190e+00  6.81202078e+00  2.24030266e+01\n",
      "  1.74599075e+01  1.25101662e+00  1.98537970e+00 -5.96404135e-01\n",
      "  6.83103132e+00  2.69912648e+00  8.92147255e+00  3.78479362e+00\n",
      "  3.67076111e+00  2.48805027e+01  5.22805929e+00  1.50326237e-01\n",
      "  1.96385250e+01 -8.42975807e+00  1.47465634e+00  5.40033340e+00\n",
      " -8.20697594e+00  8.85052586e+00  2.15023923e+00 -1.01482410e+01\n",
      "  3.92413974e+00  8.33795166e+00 -7.30405033e-01 -6.49716330e+00\n",
      " -4.69270229e+00  1.02613754e+01 -1.40840006e+00  2.02584743e+00\n",
      " -5.27166367e-01 -1.02545414e+01 -4.74682093e+00 -3.07041645e+00\n",
      "  3.03153629e+01  1.25668812e+01 -3.53709602e+00  1.61186333e+01\n",
      " -7.30708599e-01 -1.14982225e-01 -7.90431440e-01 -2.20759773e+00\n",
      "  1.79370248e+00  2.01558933e+01  7.03574800e+00  3.04764223e+00\n",
      " -4.86461908e-01  3.71979599e+01  2.96053772e+01  1.27660036e+01\n",
      "  1.21914601e+00  3.54306388e+00  1.45370359e+01 -8.89467716e+00\n",
      "  4.83807611e+00  1.59350958e+01 -1.03964639e+00  3.57447326e-01\n",
      "  1.61732635e+01  7.87205029e+00  1.00471163e+01  3.94391212e+01\n",
      "  2.78681874e+00  9.85331059e+00 -7.87615728e+00  4.98537922e+00\n",
      "  3.19948311e+01  1.18722687e+01  1.79020615e+01 -2.03438282e+00\n",
      " -1.47185297e+01  1.08442192e+01 -2.79270858e-01 -5.28058887e-01\n",
      "  2.74217820e+00 -2.29985785e+00  2.52418079e+01  8.86085033e+00\n",
      "  5.57747126e+00  9.00597382e+00  8.97841692e-01  8.12316895e+00\n",
      "  1.59294176e+01  2.05851250e+01  7.21908998e+00  2.09768982e+01\n",
      " -2.38966918e+00  3.06918621e+01  2.85575628e+00  4.39524040e+01\n",
      "  3.02537823e+01 -2.50634408e+00  1.29388456e+01  3.11818581e+01\n",
      "  1.77352676e+01  3.28494525e+00  1.09127283e+01  3.41198311e+01\n",
      "  3.69821091e+01  8.73808193e+00  3.12588348e+01  1.55561745e+00\n",
      "  1.26570034e+01  8.34644413e+00  9.37324905e+00  1.08254662e+01\n",
      "  2.81648636e+01  2.12586713e+00  2.71716938e+01 -3.96373820e+00\n",
      "  2.40373588e+00 -2.23471212e+00  2.37784500e+01  7.64034510e+00\n",
      " -3.20189357e+00  2.72234364e+01  2.44836254e+01  6.53044033e+00\n",
      "  2.92210140e+01 -1.94646108e+00 -6.95826626e+00  5.62113237e+00\n",
      "  1.82017803e+01  3.76289576e-01  3.07537518e+01  4.26114311e+01\n",
      "  9.90275764e+00  6.29001236e+00  2.52727146e+01  2.22573471e+01\n",
      " -2.72504091e+00 -1.05828228e+01  3.43914185e+01 -1.51594257e+00\n",
      "  7.46680737e+00 -4.84653378e+00  3.73078079e+01  3.36462440e+01\n",
      "  3.27847786e+01 -2.17479952e-02  9.71297741e+00  5.90008831e+00\n",
      "  4.71014643e+00  2.78953152e+01  2.79863429e+00  8.11436558e+00\n",
      "  2.04471188e+01  1.94787922e+01  2.97916174e+00 -1.52295673e+00\n",
      " -1.40862827e+01  7.17885876e+00 -1.19246511e+01 -1.00883656e+01\n",
      " -4.01937675e+00  2.30199027e+00 -6.74522161e+00  4.80127382e+00\n",
      " -8.19838810e+00 -4.76850367e+00  3.80863762e+00 -6.24821949e+00\n",
      " -2.18720388e+00 -5.44890583e-01 -5.71870327e+00  1.64726996e+00\n",
      " -2.17297821e+01 -1.02331152e+01 -2.15506401e+01 -7.70195150e+00\n",
      " -4.75037909e+00 -2.30273414e+00 -6.62732649e+00 -1.56697404e+00\n",
      "  5.32687092e+00  1.63311791e-02  4.78972673e+00 -2.79096654e-03\n",
      " -2.41374950e+01 -1.34496393e+01 -2.56680031e+01 -1.08548508e+01\n",
      " -1.59986477e+01 -2.30596256e+00  6.00972509e+00 -3.58210039e+00\n",
      " -6.70771170e+00 -5.15070343e+00 -7.84375572e+00 -4.66519499e+00\n",
      "  4.25885820e+00 -1.07522945e+01 -2.00921702e+00 -1.86389065e+01\n",
      " -3.00712419e+00 -2.73699641e-01  2.58511138e+00 -8.89735985e+00\n",
      "  2.87543511e+00  4.76119566e+00  4.71847439e+00 -3.54184556e+00\n",
      "  2.14473796e+00 -1.92226064e+00 -1.57197762e+01 -2.15306244e+01\n",
      " -1.21250887e+01  6.57898486e-01  5.62709510e-01 -4.40073824e+00\n",
      "  2.05731797e+00 -9.12482262e+00 -7.22784662e+00 -4.74134064e+00\n",
      "  5.02000511e-01 -4.76011086e+00 -2.18832731e+00 -7.56293821e+00\n",
      " -5.52928591e+00 -3.57777685e-01 -1.96287858e+00 -1.21667480e+01\n",
      " -1.31925831e+01 -3.37019175e-01  2.20587301e+00 -1.30046492e+01\n",
      " -1.85423398e+00 -5.09670115e+00 -1.27558641e+01 -8.02608848e-01\n",
      "  6.88699111e-02 -1.73087921e+01 -2.16115546e+00  6.35106421e+00\n",
      " -1.81464787e+01  6.19784880e+00 -1.02484093e+01 -1.95327425e+00\n",
      " -2.28461971e+01 -9.28667259e+00 -9.20792198e+00 -7.41398478e+00\n",
      " -8.29928589e+00  7.52897143e-01 -5.09667158e+00 -3.39014959e+00\n",
      " -3.01603937e+00 -1.20932570e+01 -1.61813717e+01 -4.26550913e+00\n",
      "  2.79528761e+00 -1.16305199e+01  1.41528404e+00 -1.03828020e+01\n",
      " -5.48613596e+00 -1.90132084e+01 -2.04459333e+00 -4.09463406e+00\n",
      " -1.93174553e+00  8.94395733e+00  4.77187777e+00  1.19038856e+00\n",
      " -4.11369610e+00 -9.11159039e+00 -1.13033590e+01  1.58035457e+00\n",
      " -1.22948313e+00 -1.87610477e-01  1.14485807e+01 -3.70437932e+00\n",
      "  8.34956020e-02 -2.77327061e+01 -1.72000618e+01 -4.48395729e+00\n",
      " -1.85685918e-01 -3.15523648e+00  5.48896790e+00 -9.84921753e-02\n",
      " -1.19904976e+01 -7.33667040e+00  1.61284888e+00 -1.88850558e+00\n",
      " -7.74776411e+00  1.84630947e+01  4.35453749e+00 -1.09448743e+00\n",
      "  1.27345097e+00 -1.28554497e+01 -1.76121294e+00 -3.11005306e+00\n",
      " -1.40387332e+00  2.95289683e+00 -1.09249430e+01  9.98382390e-01\n",
      "  4.15157080e+00  1.19092999e+01 -1.88223419e+01 -1.66836929e+01\n",
      "  3.55676913e+00  2.36508274e+00 -8.72080803e+00  7.40458155e+00\n",
      " -1.13623247e-01 -2.33477187e+00 -2.10970950e+00  3.79906297e+00\n",
      " -7.86861181e+00 -3.07559133e+00  4.33622599e-01  1.77632773e+00\n",
      " -1.78171158e+01 -1.43745775e+01 -4.11570406e+00 -4.57129431e+00\n",
      " -9.72447395e-01  2.89223003e+00  1.57798564e+00  5.63378620e+00\n",
      "  5.94748795e-01 -2.37930717e+01 -9.48879242e+00  1.11338472e+01\n",
      " -3.16266308e+01  2.36496997e+00 -2.25165577e+01 -1.20006776e+00\n",
      " -5.67071962e+00  6.09234047e+00 -4.13351154e+00 -7.62863588e+00\n",
      " -3.90155268e+00  1.04809821e-01  3.70668197e+00  8.57106447e-01\n",
      " -3.62228942e+00 -1.42752779e+00 -9.56878781e-01 -8.90855980e+00\n",
      " -2.26632557e+01 -1.13892436e+00 -9.31383133e+00 -1.72871792e+00\n",
      " -7.82524490e+00 -3.94492483e+00  1.82952428e+00 -5.40440893e+00\n",
      "  1.88697338e+00  8.60430717e-01 -2.17610302e+01 -2.85246205e+00\n",
      " -2.15866241e+01 -8.20385361e+00 -6.73038435e+00 -5.30554295e-01\n",
      " -1.17072093e+00 -4.65027523e+00  4.58086109e+00 -1.82878647e+01\n",
      "  3.71499896e-01 -1.57960329e+01  3.34825253e+00 -1.94233465e+00\n",
      " -1.65301018e+01 -1.98484745e+01 -1.73633695e-02 -8.90680122e+00\n",
      " -8.27650738e+00  9.59024429e+00  5.99814117e-01 -3.75511670e+00\n",
      " -1.25097103e+01 -2.58239822e+01 -2.32000465e+01 -1.40502167e+01\n",
      " -6.67180014e+00  1.85190129e+00  3.97936177e+00 -1.09412834e-01\n",
      " -5.91266394e-01 -3.00973129e+01 -1.04811878e+01 -1.57265167e+01\n",
      " -1.25044470e+01 -3.62375145e+01 -3.14624615e+01 -2.66641655e+01\n",
      " -2.91730099e+01 -2.77291164e+01 -2.82579398e+00 -2.37964516e+01\n",
      " -3.57320938e+01 -3.69129634e+00  1.22774715e+01 -1.55280046e+01\n",
      " -1.07488794e+01 -1.99448223e+01 -1.42169313e+01 -4.22612906e+00\n",
      " -2.77670097e+01 -4.16370659e+01 -5.08663058e-01 -3.24883499e+01\n",
      " -2.21776752e+01 -1.60825310e+01  3.79403520e+00  7.82949495e+00\n",
      " -3.19144869e+00 -1.64728343e-01  7.56204319e+00 -1.25540113e+01\n",
      "  1.51468477e+01 -7.51492083e-01 -4.47461510e+00 -3.86587448e+01\n",
      " -2.92212524e+01  4.40892649e+00  2.88780600e-01 -1.32237864e+01\n",
      "  1.32067413e+01 -3.27746677e+00 -2.20532932e+01 -2.22409415e+00\n",
      " -4.37287903e+00  4.85567093e+00 -2.10875645e+01 -4.35414619e+01\n",
      "  5.60159492e+00  8.46807861e+00 -1.83399448e+01 -2.27265587e+01\n",
      " -3.18224487e+01 -8.19165039e+00  9.30629253e+00  2.94620824e+00\n",
      " -2.62223129e+01  2.23572598e+01 -3.62592411e+00 -5.67576885e+00\n",
      " -1.84767666e+01  1.32429135e+00  1.06835496e+00 -3.10014210e+01\n",
      " -2.97048855e+01 -3.98667979e+00 -1.55953512e+01 -4.59564239e-01\n",
      "  4.65459442e+00  1.04947400e+00 -1.83238840e+00 -1.01868308e+00\n",
      " -2.49009380e+01 -1.10702744e+01 -5.02916956e+00  7.60364389e+00\n",
      " -6.27018785e+00  5.90148354e+00 -3.57979164e+01 -2.49401588e+01\n",
      " -3.36228218e+01 -5.21912813e+00 -5.54366016e+00 -1.74809217e+00\n",
      " -1.14715919e+01  8.41174698e+00 -6.42008126e-01 -2.53381348e+01\n",
      " -1.03050213e+01 -1.25797300e+01 -5.48013639e+00 -1.79934940e+01\n",
      " -9.08661652e+00 -2.87719440e+01  1.86271167e+00 -2.25132608e+00\n",
      " -2.04021511e+01 -1.28166780e-01 -4.82616282e+00  4.18731737e+00\n",
      " -1.31368530e+00 -3.67725134e+00  1.09675465e+01  7.04911661e+00\n",
      " -4.01993990e+00 -6.38304663e+00 -6.39592648e+00 -1.54525576e+01\n",
      " -3.74828033e+01  2.83876944e+00 -2.43312683e+01 -1.50060549e+01\n",
      "  7.28397310e-01  1.27334442e+01 -2.72406654e+01 -1.73854005e+00\n",
      "  9.49284267e+00 -3.40031128e+01 -2.97261562e+01 -5.43199205e+00\n",
      " -2.53052902e+01 -8.95921612e+00  4.19773340e+00  6.25045252e+00\n",
      " -4.51679611e+00 -2.29812069e+01 -1.84560204e+01  1.13711824e+01\n",
      " -6.92524529e+00  4.38729858e+00 -4.52152300e+00  4.08146000e+00\n",
      "  7.15868998e+00 -7.22437239e+00 -7.34032571e-01 -1.44067364e+01\n",
      " -7.61561584e+00 -8.58751869e+00 -3.50360394e+00 -1.12721503e+00\n",
      " -2.59391613e+01  1.24088316e+01 -1.96293583e+01 -2.12868633e+01\n",
      "  1.97290599e+00 -2.02274876e+01]' has dtype incompatible with int64, please explicitly cast to a compatible dtype first.\n",
      "  preds[val_index] = model.predict(dval_i)\n"
     ]
    },
    {
     "name": "stderr",
     "output_type": "stream",
     "text": [
      "\r",
      " 30%|████████████████████████████████████████████▍                                                                                                       | 3/10 [00:42<01:39, 14.16s/it]"
     ]
    },
    {
     "name": "stderr",
     "output_type": "stream",
     "text": [
      "C:\\Users\\81809\\AppData\\Local\\Temp\\ipykernel_9064\\3386215446.py:18: FutureWarning: Setting an item of incompatible dtype is deprecated and will raise an error in a future version of pandas. Value '[-7.96667393e-03 -7.83970118e+00  1.40352659e+01  2.19139919e+01\n",
      "  8.42193985e+00  4.42794609e+00 -2.29438114e+00  1.53587043e+00\n",
      " -4.59914017e+00 -3.53765583e+00 -5.72404242e+00 -3.35515261e+00\n",
      "  2.18329182e+01 -3.05053163e+00 -2.09057522e+00  2.39687805e+01\n",
      "  1.97813064e-01  3.01349211e+00 -4.32320929e+00 -3.94042302e-03\n",
      " -3.22894502e+00  5.30847120e+00  8.89117718e+00 -3.25987792e+00\n",
      "  2.37568808e+00  3.70358419e+00 -2.84835982e+00 -6.46777153e+00\n",
      "  1.85068882e+00  1.41049490e+01  3.40919584e-01  4.87773418e+00\n",
      "  6.82396460e+00  7.30896831e-01  7.40508604e+00  2.14462066e+00\n",
      "  7.08260632e+00 -7.83218575e+00  5.48206663e+00  1.94522858e+00\n",
      " -6.64385605e+00 -9.94165778e-01  2.20187044e+00  2.05518970e+01\n",
      "  1.47916622e+01  1.79246581e+00  1.06088328e+00 -2.75390291e+00\n",
      " -3.08746743e+00  1.07337065e+01  4.18271875e+00  3.89727402e+00\n",
      " -2.05668354e+00  4.11500883e+00  1.25043554e+01 -4.76105356e+00\n",
      "  2.46007557e+01  5.67984915e+00 -3.74819684e+00  1.05829644e+00\n",
      "  3.22438693e+00 -4.01188970e-01  1.91210234e+00  2.18288727e+01\n",
      " -1.81602252e+00  8.85558510e+00  4.57678032e+00  1.55672759e-01\n",
      " -8.60558152e-02  5.25776339e+00 -3.37786376e-01  2.87797070e+00\n",
      " -8.91900635e+00  1.86481800e+01  8.36855793e+00  1.29703541e+01\n",
      " -2.08352232e+00  5.48828173e+00  2.45674491e+00 -2.41727924e+00\n",
      "  2.63335857e+01  1.12239161e+01 -8.64126587e+00 -4.90719271e+00\n",
      "  1.90274775e+00  1.57218828e+01 -2.79889917e+00  5.76098299e+00\n",
      " -3.37074220e-01  1.03030319e+01  1.93647492e+00 -3.47301888e+00\n",
      "  2.33848929e+00  2.13248825e+01 -1.34372120e+01 -2.85109878e+00\n",
      "  1.10395412e+01  2.65477490e+00  7.85969830e+00  8.33381176e+00\n",
      " -3.51572680e+00  5.11666775e+00  1.60132065e+01  5.06703568e+00\n",
      "  1.32398129e+00  2.80528545e+00  2.27753677e+01 -1.65832341e+00\n",
      "  1.34971514e+01  1.64260769e+01  6.13022518e+00  6.65855312e+00\n",
      "  1.03868179e+01  9.31558990e+00 -5.69123697e+00  1.29673958e+00\n",
      " -3.30539989e+00 -5.37467575e+00  2.85945296e+00  5.55694151e+00\n",
      "  3.49050522e+00  1.00051584e+01 -2.64934111e+00  1.09062796e+01\n",
      " -2.52984524e+00  4.75324345e+00  7.51917696e+00  7.30507731e-01\n",
      " -3.82173491e+00  7.51810884e+00 -2.06089449e+00  2.26992235e-01\n",
      "  2.30989571e+01  9.19836617e+00  2.65555305e+01  6.59587765e+00\n",
      "  9.00224781e+00  2.00581431e+00  6.64947653e+00 -2.30576324e+00\n",
      "  8.41592979e+00 -2.70845318e+00  2.24019775e+01  1.39091146e+00\n",
      " -1.19549818e+01 -2.23360109e+00  9.54199195e-01 -2.42343998e+00\n",
      "  1.17907753e+01  6.67954636e+00 -1.22454138e+01  1.98677838e-01\n",
      "  1.01127005e+01  4.45333624e+00  5.13555145e+00 -2.86918187e+00\n",
      " -3.33577007e-01 -9.15026069e-02  9.68314457e+00 -5.11322641e+00\n",
      "  4.24930525e+00 -1.39541092e+01 -2.80560374e+00  9.83406007e-02\n",
      "  1.92847691e+01  1.99335098e+00  7.22575724e-01  5.67092705e+00\n",
      "  2.79566383e+00 -1.82236657e-01  1.04028416e+01  1.50962007e+00\n",
      "  3.23073316e+00 -4.12736702e+00  2.90572968e+01 -1.04717779e+00\n",
      " -4.21438009e-01  2.20548515e+01 -2.94641304e+00  9.46527386e+00\n",
      "  6.62689447e+00  1.27352583e+00 -4.08483505e+00 -3.89830327e+00\n",
      "  1.17955637e+00  2.26278629e+01  1.56869574e+01  1.27005458e+00\n",
      "  2.72348714e+00  1.26486635e+01 -1.03601778e+00  1.34191666e+01\n",
      " -1.63781202e+00  4.16516685e+00  3.67029190e+00  2.93258882e+00\n",
      "  4.05480242e+00 -3.43132949e+00  1.07897739e+01  1.39117012e+01\n",
      "  2.59380970e+01 -2.57048726e+00 -1.41824290e-01  1.32067466e+00\n",
      "  8.29451561e+00  9.27060699e+00  6.84242725e-01  6.89220858e+00\n",
      "  1.72291660e+00  2.84251714e+00 -3.76462483e+00  2.92205181e+01\n",
      "  8.14707184e+00  5.26019812e+00  2.73267651e+01 -8.87007654e-01\n",
      "  5.37723303e-01  3.57172852e+01  5.35103941e+00 -1.15746574e+01\n",
      "  2.72295532e+01  9.65021133e+00 -4.28192759e+00 -8.06662023e-01\n",
      "  5.27856588e-01  6.16973782e+00  5.17747784e+00  3.56935196e+01\n",
      "  2.59467621e+01  1.53600283e+01  2.71133280e+00  1.77638245e+01\n",
      "  3.24020271e+01  2.40285468e+00  2.87873249e+01  9.20084953e+00\n",
      "  2.81560001e+01  1.99429264e+01  1.20286856e+01  1.80547695e+01\n",
      "  1.20915594e+01  1.16174316e+00  3.04626541e+01  1.25911684e+01\n",
      "  1.23507938e+01  2.74529247e+01  2.53715873e+00  2.97338619e+01\n",
      " -5.86930454e-01  1.66288071e+01  7.81548357e+00  4.72231245e+00\n",
      "  4.38822317e+00 -4.55371737e-01  3.03172398e+01  3.13378563e+01\n",
      " -3.03462887e+00 -1.21718159e+01  3.13672371e+01  5.13022661e+00\n",
      "  1.34464970e+01 -1.18539417e+00  2.93967152e+01  2.33569455e+00\n",
      "  1.66752586e+01  3.67500229e+01  3.15846882e+01  2.38225727e+01\n",
      "  1.16495619e+01 -5.22561598e+00  2.86298537e+00  2.96713104e+01\n",
      "  1.32217932e+01  6.47369242e+00  3.40407896e+00  3.37057114e+01\n",
      "  2.43595562e+01 -1.93599090e-01  7.91092300e+00  3.44631042e+01\n",
      "  3.26063085e+00  2.01320305e+01 -9.62138462e+00  7.86612558e+00\n",
      "  1.17105694e+01  1.64238567e+01  3.27946968e+01  3.11318073e+01\n",
      "  7.52681398e+00  2.30945301e+01  2.96480293e+01  2.71512337e+01\n",
      " -1.67755508e+00  1.16680660e+01 -2.69366145e+00 -1.56897902e-01\n",
      " -9.33146191e+00  2.03812523e+01 -1.86071091e+01 -6.50690794e+00\n",
      "  1.24507990e+01  1.76389766e+00  1.46945429e+00  1.10346109e-01\n",
      "  7.96213484e+00 -1.04615040e+01  1.19896097e+01 -4.24324453e-01\n",
      "  9.20592499e+00  2.66876049e+01  2.72068095e+00  8.06699753e+00\n",
      "  1.85947742e+01 -4.40374947e+00  5.81908274e+00 -3.96632719e+00\n",
      "  7.61850834e+00  2.03521633e+01  1.77800350e+01 -1.06174088e+01\n",
      "  2.83318272e+01  1.32067280e+01  1.19691429e+01 -1.01968489e+01\n",
      "  8.11879253e+00  2.69774475e+01  2.14970326e+00  2.04154034e+01\n",
      " -1.35918155e-01  2.20186291e+01  1.85529575e+01  1.11824112e+01\n",
      "  4.19534540e+00 -2.29091396e+01  7.61045456e+00 -7.51924944e+00\n",
      " -9.37705040e+00 -1.91049309e+01 -1.09421988e+01 -6.52301025e+00\n",
      "  2.09652996e+00 -5.60389376e+00 -6.13123226e+00  6.09981537e+00\n",
      " -7.91749573e+00 -8.14283657e+00 -3.40722632e+00  3.49464393e+00\n",
      "  2.51179624e+00  2.73255992e+00 -4.97891998e+00  1.88426006e+00\n",
      " -1.98227227e+00 -2.19543858e+01 -2.42775135e+01 -1.21905842e+01\n",
      " -2.10975456e+01 -2.17236781e+00 -3.69043612e+00 -2.45671868e+00\n",
      " -4.80426455e+00 -4.38184202e-01 -7.16805887e+00 -9.52398682e+00\n",
      " -1.92306538e+01 -1.39534369e-01 -6.83668184e+00  1.87927294e+00\n",
      " -4.64746475e+00  4.93370485e+00 -6.26074028e+00 -5.34071207e+00\n",
      "  3.21244836e+00 -9.25697708e+00  5.12963724e+00 -7.45099008e-01\n",
      " -2.12832775e+01 -3.56799984e+00 -5.39425087e+00 -8.16085720e+00\n",
      " -5.51792192e+00 -6.06921244e+00  2.94625330e+00 -5.43782902e+00\n",
      " -4.38811350e+00 -1.71287024e+00 -1.74724102e+01 -2.49600525e+01\n",
      " -8.55565369e-01 -2.63299809e+01 -1.48881922e+01 -6.56735516e+00\n",
      " -8.99508178e-01 -1.75886166e+00 -2.15054774e+00 -8.77132416e+00\n",
      "  1.56507504e+00 -1.51075935e+01  4.49660015e+00  7.67549706e+00\n",
      "  1.62899363e+00 -4.68526125e+00 -1.97288094e+01 -9.21946716e+00\n",
      "  2.21602127e-01 -4.25863266e+00 -1.16510687e+01  1.39221632e+00\n",
      " -2.05689163e+01 -1.12002735e+01 -2.09823990e+01 -1.75493824e+00\n",
      " -1.77384014e+01  2.64593029e+00  9.46054935e-01 -1.01781273e+01\n",
      " -2.95103383e+00 -4.76320601e+00 -9.98267841e+00 -4.63041162e+00\n",
      " -1.32127609e+01 -1.72797966e+01 -1.55656548e+01 -2.83648663e+01\n",
      " -1.01200581e+01 -1.96877918e+01  5.69688439e-01 -6.12211108e-01\n",
      "  1.24883497e+00 -2.85488558e+00  1.05410738e+01 -3.68599916e+00\n",
      " -6.43931746e-01  1.11885428e+00  2.97565293e+00  1.78575349e+00\n",
      " -2.54600945e+01  2.87052846e+00 -2.13998580e+00 -2.06231689e+00\n",
      " -8.01937699e-01 -8.26416588e+00  4.86935425e+00  3.28912473e+00\n",
      " -1.43448722e+00  1.31335962e+00 -1.03134310e+00 -1.61917191e+01\n",
      " -2.38674450e+01  3.66443014e+00 -7.99436331e+00  8.27045858e-01\n",
      " -8.92004681e+00 -4.02342749e+00 -8.96524429e+00 -5.83303213e+00\n",
      " -1.35085320e+00 -8.47482491e+00 -3.36130834e+00 -8.54363441e+00\n",
      " -1.80181277e+00 -1.25161419e+01 -4.52047873e+00  3.18227315e+00\n",
      " -5.51803827e-01  1.13996363e+01 -1.90116310e+01  8.70735073e+00\n",
      " -3.18810081e+00 -5.86577606e+00  2.51161766e+00 -5.13295460e+00\n",
      " -3.72068524e+00 -3.12599087e+00  2.71635747e+00 -1.23052874e+01\n",
      "  1.41294909e+00 -2.71689534e-01 -9.99753571e+00 -3.21026587e+00\n",
      " -5.26615381e+00 -1.26386166e+01  6.18875313e+00 -2.21790671e+00\n",
      " -2.71303797e+00  5.80008936e+00  2.91193938e+00 -9.84320223e-01\n",
      " -8.96882439e+00  5.46828151e-01  3.98095727e+00 -2.95009637e+00\n",
      " -2.19972763e+01 -4.23027802e+00 -1.98903770e+01  1.16291466e+01\n",
      "  6.34361553e+00  2.15834236e+00 -1.23322582e+00 -4.42980862e+00\n",
      " -1.49473190e+01 -2.15568523e+01 -2.12782741e-01 -4.15402621e-01\n",
      " -3.30267334e+00 -5.44379807e+00 -5.83803844e+00 -3.88228250e+00\n",
      " -3.14117289e+00 -4.17361116e+00  7.31350958e-01 -2.99941387e+01\n",
      " -3.82294297e+00 -2.34598846e+01 -6.25577259e+00 -9.73144245e+00\n",
      " -2.08652821e+01 -2.01882000e+01 -1.52409542e+00 -1.35461903e+00\n",
      " -1.69250393e+01 -7.37607384e+00 -3.81400323e+00 -5.11616373e+00\n",
      "  2.63110113e+00 -1.87198067e+01 -3.95336342e+00  2.60613513e+00\n",
      "  2.64860320e+00 -2.77325654e+00 -8.33419895e+00 -1.30972443e+01\n",
      "  5.00773239e+00 -7.77082300e+00 -1.81558001e+00 -8.35398197e-01\n",
      " -3.66152763e+00  5.47552538e+00  5.47909832e+00  1.72451425e+00\n",
      "  3.46222115e+00  4.51150322e+00 -3.96050167e+00  2.68346876e-01\n",
      " -3.90409636e+00 -8.94812965e+00 -2.54665260e+01  3.48656368e+00\n",
      "  1.63936865e+00 -1.65079899e+01  7.66487503e+00 -2.31664658e+01\n",
      " -1.32672396e+01 -8.80433857e-01 -5.24470711e+00 -3.57173868e-02\n",
      " -1.39869852e+01 -1.92444687e+01 -4.71953869e+00 -7.96258307e+00\n",
      " -5.32177162e+00 -4.24414864e+01 -1.58601299e-01  6.72209072e+00\n",
      " -1.71348972e+01  2.74674845e+00 -3.42347908e+01 -2.79342389e+00\n",
      "  1.18804712e+01 -1.41854715e+01 -1.25687571e+01  6.43463802e+00\n",
      " -1.07217226e+01 -2.70329838e+01  1.16251338e+00 -1.02557888e+01\n",
      "  1.73596668e+00 -2.56465588e+01 -5.94098186e+00  1.71924186e+00\n",
      " -1.94681778e+01 -2.70850677e+01  1.08028641e+01  7.32644796e+00\n",
      " -2.05338154e+01  6.52964544e+00  1.39182110e+01 -4.96767855e+00\n",
      " -3.96754913e+01 -1.54648912e+00 -2.56882401e+01 -1.19048395e+01\n",
      " -2.97817402e+01 -3.20037460e+01 -2.84862328e+01 -1.21633139e+01\n",
      "  3.82282019e-01 -2.46653957e+01 -3.13121624e+01  1.56801147e+01\n",
      " -2.36297665e+01 -7.44777870e+00 -2.32685852e+01 -4.34312820e+01\n",
      " -1.97668087e+00 -8.02950668e+00 -1.00211210e+01 -3.40685043e+01\n",
      "  8.31272221e+00 -6.80883980e+00 -2.36695442e+01 -2.62947712e+01\n",
      " -1.76215706e+01  2.07919273e+01 -3.41779208e+00  2.66488051e+00\n",
      " -1.47777719e+01 -3.55413475e+01 -3.98780537e+00 -4.08704872e+01\n",
      " -3.51485014e+00  3.53087091e+00  6.59646320e+00 -2.80147305e+01\n",
      " -1.11010122e+01 -1.63963974e+00 -3.16690960e+01 -1.10884628e+01\n",
      " -1.41443882e+01 -8.09484005e+00  2.99229336e+00 -4.34097977e+01\n",
      " -6.38006270e-01  8.86350536e+00 -8.92780972e+00  7.69554615e-01\n",
      "  2.06607080e+00 -1.45894337e+01  6.72747231e+00 -1.20803347e+01\n",
      " -2.95326996e+01 -1.05919867e+01 -2.09064407e+01 -3.76535683e+01\n",
      " -4.50026321e+00 -1.27358074e+01 -4.63154507e+00 -1.87570820e+01\n",
      " -2.93066845e+01 -2.07748318e+01  8.14644623e+00 -1.27247076e+01\n",
      " -1.39001262e+00 -1.74765224e+01 -1.80318832e+01 -2.48173828e+01\n",
      " -1.10059381e+00 -2.67316189e+01 -3.48383355e+00 -8.94417226e-01\n",
      " -8.88829994e+00  2.75031948e+00 -1.73460770e+01 -7.18545866e+00\n",
      " -1.86387119e+01 -2.93831844e+01  1.34082584e+01 -6.73345757e+00\n",
      " -9.05723095e-01 -4.72261459e-01  3.76558959e-01  1.75328088e+00\n",
      "  2.95519876e+00 -7.08505154e+00 -3.00667686e+01 -6.94164753e+00\n",
      " -6.48017263e+00 -2.48003082e+01 -4.02758522e+01 -5.70850670e-01\n",
      "  9.70042515e+00 -1.34362183e+01  1.02522697e+01 -7.36723757e+00\n",
      "  7.05368328e+00 -4.76248455e+00 -1.64155617e-01 -8.82720089e+00\n",
      " -9.26246583e-01 -1.54186831e+01  3.69732642e+00 -2.06988773e+01\n",
      "  5.88917208e+00 -1.24492332e-01 -2.51248112e+01 -2.24077110e+01\n",
      " -2.17688541e+01  3.35732746e+00]' has dtype incompatible with int64, please explicitly cast to a compatible dtype first.\n",
      "  preds[val_index] = model.predict(dval_i)\n"
     ]
    },
    {
     "name": "stderr",
     "output_type": "stream",
     "text": [
      "\r",
      " 40%|███████████████████████████████████████████████████████████▏                                                                                        | 4/10 [01:00<01:34, 15.76s/it]"
     ]
    },
    {
     "name": "stderr",
     "output_type": "stream",
     "text": [
      "C:\\Users\\81809\\AppData\\Local\\Temp\\ipykernel_9064\\3386215446.py:18: FutureWarning: Setting an item of incompatible dtype is deprecated and will raise an error in a future version of pandas. Value '[-3.81908870e+00  2.14536667e+01  1.86650944e+01  7.04552412e+00\n",
      "  7.77175856e+00  7.30694962e+00 -2.36807919e+00 -4.19158840e+00\n",
      "  1.48561835e+00  2.66102791e+01 -9.61382270e-01  3.65911865e+00\n",
      "  1.37147017e+01  6.93511367e-01  2.09926586e+01  8.80218220e+00\n",
      "  3.47460198e+00  4.03177500e-01  1.22405834e-01  8.19390869e+00\n",
      " -3.91267014e+00  3.89668918e+00  3.40195227e+00  3.07956314e+00\n",
      "  1.80867702e-01  1.81408653e+01 -2.43621421e+00  3.54533792e+00\n",
      " -7.37202215e+00  3.73048162e+00  1.49234543e+01  4.18233871e+00\n",
      " -6.73951197e+00  2.17585588e+00 -3.06975150e+00  4.37769747e+00\n",
      "  7.15468788e+00  9.09688473e+00 -3.73433399e+00 -7.27157116e+00\n",
      " -2.67696285e+00  6.21138716e+00  1.58797369e+01  8.84165001e+00\n",
      "  5.95013952e+00  6.30801678e+00 -5.81936789e+00 -3.83692026e+00\n",
      "  4.82381439e+00 -1.11410408e+01  1.05157483e+00  4.58530855e+00\n",
      "  2.41392479e+01  2.57158947e+01  5.65870142e+00  6.51484728e+00\n",
      "  4.17391109e+00  5.08835983e+00  1.25987276e-01  5.23952436e+00\n",
      "  8.43117428e+00 -5.18449128e-01  1.21134484e+00  2.21707821e+00\n",
      "  1.44501078e+00  3.57996702e-01  2.61388755e+00 -9.49202478e-01\n",
      "  5.16461658e+00  1.09787416e+00  3.03786659e+01  7.94045496e+00\n",
      " -2.45083308e+00  4.24263859e+00 -5.82298136e+00 -1.12200665e+00\n",
      "  1.02952557e+01  2.06030202e+00  1.26113873e+01  1.12060165e+00\n",
      "  1.00679359e+01  2.48879924e-01  2.37340965e+01  1.33566828e+01\n",
      " -6.42187738e+00  1.75214729e+01  2.54433990e-01  9.18306828e+00\n",
      "  6.96341181e+00  2.68979645e+00  1.23493900e+01 -1.16163802e+00\n",
      "  2.89573908e+00 -7.14793324e-01  2.93327779e-01 -1.40229797e+00\n",
      "  1.95940590e+01  1.69013059e+00 -8.37872982e+00  1.18348322e+01\n",
      "  3.73879701e-01  2.53353977e+00  4.71091747e+00 -7.01427460e+00\n",
      " -1.91225505e+00  5.51541996e+00  1.92276669e+00  3.96519923e+00\n",
      "  4.45853740e-01 -2.76280046e+00  5.07226372e+00  2.36629653e+00\n",
      "  2.92300725e+00  3.66877496e-01  6.35184860e+00  1.64208050e+01\n",
      "  2.43436775e+01  4.78419876e+00 -1.97410774e+01 -7.38093019e-01\n",
      "  2.76318932e+00  2.20577788e+00  6.96563005e+00  9.69629526e-01\n",
      "  5.38649225e+00  1.27033510e+01 -1.74209011e+00  1.66402149e+01\n",
      "  2.54990597e+01 -3.35390878e+00  2.80930609e-01  3.53384542e+00\n",
      "  8.24906158e+00  1.64909878e+01 -2.81028414e+00  4.09368467e+00\n",
      "  3.76767612e+00  2.05645248e-01  5.95669889e+00  2.15867805e+01\n",
      "  1.36332333e+00  9.77290058e+00  1.15603657e+01  2.33074975e+00\n",
      "  1.25615177e+01 -1.01859312e+01 -8.59913158e+00  6.70202255e+00\n",
      "  2.10678649e+00 -1.08119500e+00  3.28086996e+00 -3.87083721e+00\n",
      " -2.18001437e+00  6.54855156e+00 -1.07950277e+01  8.80516171e-01\n",
      "  1.16739788e+01  9.77652431e-01  7.42757940e+00  5.96675491e+00\n",
      "  4.13902569e+00 -5.95956802e+00  3.07915974e+00  7.16978645e+00\n",
      " -1.01357877e+00  1.99676216e+00 -2.80470300e+00  5.11814022e+00\n",
      "  3.22996330e+00  2.30315189e+01  1.45666218e+00  1.16710968e+01\n",
      " -4.47183561e+00 -1.27045174e+01 -2.95071554e+00  1.62707746e+00\n",
      "  8.38868046e+00  2.19092822e+00  5.06751204e+00  5.70207977e+00\n",
      " -2.42098689e+00 -1.54273897e-01  2.00953732e+01  8.81555271e+00\n",
      "  2.56390934e+01  4.50219345e+00 -1.07425392e+00  7.64081907e+00\n",
      " -8.92683315e+00 -1.93001434e-01  2.61142802e+00  4.28994370e+00\n",
      "  6.09105945e-01 -5.21284676e+00  3.06073976e+00  6.77735567e+00\n",
      " -3.66368628e+00  1.31367111e+00  1.16965704e+01 -1.71460307e+00\n",
      "  2.12760696e+01  3.88035464e+00  5.56123734e+00  3.23175192e+00\n",
      " -7.07373619e+00 -6.03002405e+00 -9.98784661e-01  9.42380810e+00\n",
      "  4.24885893e+00  4.67460585e+00 -1.08706653e+00  2.89582748e+01\n",
      "  1.14633551e+01 -3.25323677e+00  6.40040159e+00  4.24531251e-01\n",
      "  3.03345382e-01  1.11406279e+00 -7.51423120e+00  2.20529699e+00\n",
      " -3.51916146e+00  1.84437764e+00  3.05846405e+00  2.00846219e+00\n",
      "  7.06631517e+00  2.73392701e+00  3.69488645e+00  6.40123892e+00\n",
      "  2.49588432e+01  1.13402853e+01  5.12811470e+00 -2.51907140e-01\n",
      "  2.87679691e+01  9.54172802e+00 -4.55352974e+00  8.89461100e-01\n",
      "  1.24992352e+01  1.68038216e+01  6.18593311e+00  3.23999481e+01\n",
      "  2.64044533e+01  3.79068451e+01  2.21384668e+00  1.47387667e+01\n",
      "  2.11316090e+01  2.84589996e+01 -2.77309370e+00  3.22331429e+01\n",
      " -6.89242125e+00 -5.46675777e+00  1.19885540e+01  2.05203094e+01\n",
      "  2.72983761e+01  2.80840225e+01  1.08761044e+01  1.56159544e+01\n",
      "  3.60339713e+00 -1.60102177e+01  1.58578455e+00  9.13162422e+00\n",
      "  1.46030245e+01  1.52047043e+01  8.30527782e+00 -4.69268894e+00\n",
      "  2.12949123e+01  1.62305279e+01  7.47216082e+00  4.78516912e+00\n",
      "  1.79086456e+01  5.00096716e-02  1.13155508e+01  3.96546960e+00\n",
      "  3.35906525e+01  7.13900852e+00  4.24425745e+00 -4.16489744e+00\n",
      "  1.77590199e+01 -2.26900673e+01  6.88242579e+00 -3.43980098e+00\n",
      "  7.43308687e+00  2.78420849e+01  7.23179865e+00  9.58891106e+00\n",
      "  3.10688457e+01  4.61919975e+00  2.77025604e+01  1.77813702e+01\n",
      "  1.71863759e+00  2.82208309e+01 -1.93175212e-01  1.49647226e+01\n",
      "  3.04371128e+01  1.13149652e+01 -5.66474438e+00  9.46092701e+00\n",
      "  6.83377600e+00 -5.18330812e+00  2.52401524e+01  1.44066887e+01\n",
      "  3.39312706e+01  5.63455153e+00  7.80370760e+00  3.63610687e+01\n",
      "  2.41469407e+00  2.16734467e+01  1.81048870e+00  3.43945923e+01\n",
      "  2.78993464e+00  1.26026258e+01 -4.94205046e+00  3.56451340e+01\n",
      "  1.52972918e+01  3.14861584e+01  6.86081409e+00  1.79342830e+00\n",
      " -4.71239853e+00 -6.32871962e+00  8.96406651e+00 -6.81552553e+00\n",
      "  5.39162874e+00  3.90716133e+01 -6.77826405e+00  2.34510975e+01\n",
      " -1.36633158e+00  2.85086989e+00  5.54463243e+00  4.04667320e+01\n",
      "  1.00355835e+01  1.79012508e+01  6.36602020e+00 -3.37736893e+00\n",
      "  3.96781883e+01 -7.84297609e+00  6.71985817e+00  6.01513910e+00\n",
      "  2.52280312e+01  2.35618439e+01  1.05727978e+01 -9.47929287e+00\n",
      " -3.44667387e+00  1.12459726e+01  1.18544531e+01  4.38116503e+00\n",
      "  3.47972794e+01  1.64878941e+01  5.77009726e+00  3.16235485e+01\n",
      "  4.39138794e+00  3.65033269e+00 -9.87879276e+00 -9.30352390e-01\n",
      " -6.35340023e+00 -1.51828384e+01 -2.26431046e+01 -4.91565180e+00\n",
      "  2.96918297e+00  2.60798550e+00  3.22851133e+00  4.39756107e+00\n",
      "  2.09213591e+00 -9.12210560e+00  4.03900433e+00  2.93812442e+00\n",
      " -3.34732080e+00 -4.35211277e+00 -1.30000143e+01 -5.60536385e-01\n",
      " -3.72266650e+00 -6.36934519e+00 -4.00688362e+00 -2.51649303e+01\n",
      " -1.94794407e+01 -2.63699036e+01 -2.51904273e+00 -7.28018808e+00\n",
      " -2.96250081e+00 -5.27863789e+00  1.26182055e+00 -6.54641914e+00\n",
      " -1.70196438e+01 -4.12636757e+00  2.82512784e+00 -2.08553638e+01\n",
      " -1.00257292e+01 -2.55420297e-01  2.71634960e+00  2.41670489e+00\n",
      "  1.08024807e+01 -1.57193604e+01 -7.85253286e+00  3.95530605e+00\n",
      " -6.58712149e+00 -1.07016516e+01 -3.06014466e+00 -3.77320123e+00\n",
      " -4.40549564e+00 -5.67273736e-01  1.67588472e+00  4.09056813e-01\n",
      " -2.43355846e+01 -2.36615105e+01 -1.23776627e+01 -9.12391067e-01\n",
      " -2.18836937e+01 -5.53503692e-01 -7.37823772e+00 -3.35354257e+00\n",
      " -4.21003675e+00  4.46470404e+00  1.20910120e+00 -1.82077146e+00\n",
      " -6.90981865e-01 -3.12222981e+00 -7.07960129e-01  1.40994453e+00\n",
      " -5.65707588e+00 -1.37185955e+01  5.55662775e+00 -1.58815680e+01\n",
      " -5.90062523e+00 -3.34913421e+00  2.47567010e+00 -8.61620140e+00\n",
      " -4.99775648e+00 -1.06561875e+00 -1.97854767e+01 -2.62484980e+00\n",
      " -8.72096348e+00 -9.58647633e+00  7.85851061e-01 -6.11720467e+00\n",
      " -7.02300882e+00 -4.74810886e+00 -2.27936101e+00 -3.84627438e+00\n",
      "  7.38724530e-01 -2.30286293e+01  1.41576614e+01  4.36496305e+00\n",
      " -2.97678680e+01 -1.18287601e+01 -2.94285464e+00 -8.51871872e+00\n",
      "  5.63422346e+00  2.30716491e+00 -6.32925701e+00  1.59068918e+00\n",
      "  9.35422182e-01 -3.76794505e+00 -5.03541708e+00 -2.28470898e+01\n",
      "  2.69824409e+00 -1.88209736e+00 -3.97005105e+00 -5.10566533e-01\n",
      " -8.41265965e+00  6.76521540e+00 -6.28418386e-01 -1.21062555e+01\n",
      "  6.31757212e+00 -7.32159853e+00 -8.73374844e+00 -1.80311222e+01\n",
      " -2.13886452e+01  5.65922880e+00 -6.14038944e-01 -1.06852980e+01\n",
      " -7.16777086e-01 -2.15280741e-01  4.61329317e+00 -2.98787212e+01\n",
      " -8.95451260e+00  1.86469865e+00 -3.75593519e+00  7.27935374e-01\n",
      " -1.68794727e+01  6.16315794e+00 -4.24501085e+00  2.45442227e-01\n",
      "  3.31795979e+00 -2.03013444e+00  3.19802499e+00 -3.00971889e+00\n",
      " -1.23322189e+00 -2.16202812e+01  5.41077614e+00 -1.47174091e+01\n",
      " -1.03074427e+01 -4.36692572e+00 -2.06055050e+01 -1.68261261e+01\n",
      " -1.29709058e-02 -1.34605188e+01 -1.17047453e+00 -4.33406115e+00\n",
      " -8.39605713e+00 -4.74903965e+00 -5.38192153e-01  2.96100020e+00\n",
      "  3.96606064e+00 -6.20833492e+00 -4.57113123e+00  1.15159960e+01\n",
      "  1.52219677e+01  2.95679379e+00 -1.25972147e+01 -2.08888187e+01\n",
      " -5.37406015e+00 -4.44173241e+00 -4.32071114e+00 -2.29153657e+00\n",
      "  2.81283677e-01  1.81430444e-01 -5.08432579e+00  3.91411304e+00\n",
      " -3.58289433e+00  1.50980825e+01 -2.37228632e+00 -4.79480314e+00\n",
      " -3.31606698e+00 -1.87181377e+00 -3.74020576e+00  2.19922709e+00\n",
      " -7.91633940e+00 -9.69890690e+00 -1.46651173e+00 -2.64618063e+00\n",
      "  5.46434212e+00 -2.05121613e+01 -4.51211882e+00 -4.11684608e+00\n",
      " -1.50636692e+01 -6.71893311e+00  1.76892400e+00 -2.25891590e+01\n",
      "  1.30693400e+00 -1.41510830e+01 -7.82745028e+00 -6.67350245e+00\n",
      " -3.82399368e+00 -3.11154318e+00 -6.28117085e-01 -2.36099815e+01\n",
      "  4.23621750e+00 -2.12978706e+01 -4.64434266e-01  1.15162115e+01\n",
      " -7.88341856e+00 -5.21153116e+00  4.65089846e+00 -6.10605538e-01\n",
      "  2.29379725e+00 -4.83621311e+00  3.99695754e+00  1.22695816e+00\n",
      " -4.60377884e+00 -6.74706995e-01 -6.86048412e+00 -3.09011841e+01\n",
      " -5.11108923e+00 -1.18304100e+01  2.74969435e+00 -6.46582413e+00\n",
      " -2.70671043e+01 -1.10981722e+01 -7.99811983e+00 -8.89981937e+00\n",
      " -1.43435936e+01 -6.31002808e+00 -1.96278000e+01 -1.29678965e+01\n",
      "  6.81672621e+00 -3.79832230e+01 -7.08309934e-02  1.26493902e+01\n",
      "  1.41892684e+00 -2.45421104e+01 -6.96754217e+00 -4.75507689e+00\n",
      " -3.97275314e+01 -4.40963669e+01 -7.24927664e+00 -2.09270811e+00\n",
      "  5.41454935e+00 -3.14752655e+01 -1.54536371e+01  7.73731947e+00\n",
      "  5.83133698e+00 -4.39672012e+01 -2.16683626e+00 -2.01445942e+01\n",
      " -2.61520023e+01 -8.21394253e+00 -4.68650103e-01 -5.63716888e-01\n",
      " -3.66316152e+00 -1.54672422e+01 -1.92816162e+01 -1.44314365e+01\n",
      " -1.53735247e+01 -1.21279240e+00 -1.43115320e+01 -7.63007832e+00\n",
      " -5.11274481e+00 -1.57253075e+01 -2.08281016e+00 -3.56348343e+01\n",
      " -1.44472218e+01 -3.08136368e+00 -2.47671757e+01 -3.24877858e+00\n",
      " -8.27618003e-01 -1.63829975e+01 -1.25527439e+01 -1.42798746e+00\n",
      " -4.39677467e+01  7.93894958e+00 -3.20201206e+00 -1.34308796e+01\n",
      "  3.48856401e+00 -1.57643471e+01  6.44793892e+00  7.55687618e+00\n",
      " -8.69908714e+00 -1.95688677e+00 -1.48205578e+00 -3.41956177e+01\n",
      "  4.33024502e+00 -2.43107948e+01 -6.73774004e+00 -3.86096907e+00\n",
      " -2.29227676e+01 -3.59204140e+01 -4.63922386e+01 -3.66516037e+01\n",
      " -1.05517721e+00  9.31904221e+00 -1.01264248e+01 -1.61894727e+00\n",
      " -6.13236046e+00  3.46791887e+00 -9.01823235e+00 -4.10431814e+00\n",
      "  7.03663683e+00 -8.77649212e+00 -2.58533993e+01 -3.31409416e+01\n",
      " -2.71338615e+01 -5.73337889e+00  3.85926723e+00  3.45403194e+00\n",
      " -2.03660660e+01 -7.64413297e-01 -3.56092381e+00 -3.09720898e+01\n",
      " -1.94131680e+01  1.10920105e+01 -1.97510681e+01 -8.48404312e+00\n",
      " -8.66395760e+00  9.71885967e+00 -1.85872841e+01 -2.40893669e+01\n",
      "  1.89829314e+00 -2.45395718e+01 -1.58841362e+01 -1.07515228e+00\n",
      " -2.70793419e+01 -2.16699905e+01 -9.71149063e+00  8.48714066e+00\n",
      " -6.85141182e+00  2.72033191e+00 -1.76080875e+01 -1.15091591e+01\n",
      " -3.48812509e+00 -2.68369331e+01  3.34963346e+00 -1.28957367e+01\n",
      " -1.27745619e+01 -2.14309807e+01  8.88317394e+00  4.13093996e+00\n",
      " -3.21380920e+01 -1.78756695e+01 -8.77449226e+00 -6.88151550e+00\n",
      " -2.04690151e+01 -2.37605934e+01 -1.78204765e+01  1.11348677e+01\n",
      " -2.84845524e+01 -2.41487999e+01  4.01038200e-01 -1.92390859e+00\n",
      " -1.04233112e+01 -3.42428660e+00]' has dtype incompatible with int64, please explicitly cast to a compatible dtype first.\n",
      "  preds[val_index] = model.predict(dval_i)\n"
     ]
    },
    {
     "name": "stderr",
     "output_type": "stream",
     "text": [
      "\r",
      " 50%|██████████████████████████████████████████████████████████████████████████                                                                          | 5/10 [01:20<01:26, 17.21s/it]"
     ]
    },
    {
     "name": "stderr",
     "output_type": "stream",
     "text": [
      "C:\\Users\\81809\\AppData\\Local\\Temp\\ipykernel_9064\\3386215446.py:18: FutureWarning: Setting an item of incompatible dtype is deprecated and will raise an error in a future version of pandas. Value '[ 3.27893019e-01  2.32083631e+00  1.53033571e+01  1.40430393e+01\n",
      "  3.25284410e+00 -1.16542435e+00  2.41853085e+01  1.22591031e+00\n",
      "  2.45790672e+01  3.04570270e+00  3.45085144e+00  2.11575451e+01\n",
      "  5.05780172e+00  8.29035461e-01 -1.06196413e+01  5.63580847e+00\n",
      "  7.50411630e-01  7.19172060e-01 -4.51744747e+00 -2.06473064e+00\n",
      "  3.45472813e+00  2.51541653e+01  2.67892323e+01  1.32872467e+01\n",
      "  8.72776508e+00  3.08845234e+00 -2.86238265e+00  6.77122974e+00\n",
      "  4.19560337e+00 -1.98330855e+00 -1.88266790e+00  3.63531876e+00\n",
      "  2.38706303e+00  6.19825649e+00  1.37305546e+01  6.48012638e-01\n",
      "  1.77330189e+01  5.38210249e+00  2.74417233e+00 -1.41570199e+00\n",
      "  7.53626871e+00 -5.26504612e+00 -9.75634289e+00  1.59052734e+01\n",
      "  5.81443834e+00  5.98621368e+00  1.25507510e+00  6.67439413e+00\n",
      " -2.28767967e+00 -4.20342803e-01  9.92368889e+00  1.26848955e+01\n",
      "  3.65456581e+00  1.69697552e+01 -1.03322521e-01  6.32332706e+00\n",
      "  3.86852670e+00  3.75640440e+00  5.33992815e+00  6.45139122e+00\n",
      "  5.04944611e+00 -5.22627294e-01  9.12727070e+00  1.10706210e+00\n",
      " -1.23980510e+00  1.63524685e+01  8.87753201e+00  1.22355604e+01\n",
      "  3.16730070e+00 -9.68174553e+00  1.06662884e+01  1.09391661e+01\n",
      "  4.39341354e+00  7.12223709e-01  5.01169682e+00  2.37277756e+01\n",
      "  8.34101009e+00  2.32416019e+01  2.77059853e-01  6.97867775e+00\n",
      "  7.58544350e+00  8.71759713e-01  3.44893408e+00  5.96987772e+00\n",
      "  1.31928730e+01  4.15175152e+00 -1.22128463e+00  3.69150734e+00\n",
      "  1.75933933e+01 -3.28305912e+00 -3.67101884e+00 -3.66240788e+00\n",
      "  2.78873043e+01 -7.33772933e-01  2.01966496e+01  1.22937334e+00\n",
      "  2.91320753e+00  1.27171254e+00  1.63219814e+01 -3.03895998e+00\n",
      "  7.73440027e+00  1.79972134e+01 -4.41110897e+00  1.14251232e+01\n",
      "  1.10871983e+01 -6.73296642e+00 -6.89393997e+00  8.25455570e+00\n",
      " -1.58417253e+01  3.17293465e-01 -3.31052542e+00  2.78948841e+01\n",
      "  1.71650791e+01  3.04675007e+00  1.02068186e+01  8.85900497e+00\n",
      "  1.66761341e+01  2.50768375e+00  9.06658840e+00  4.29518604e+00\n",
      "  1.12887836e+00  6.08550262e+00 -2.79405499e+00  3.34472418e+00\n",
      "  3.73124290e+00  3.15318370e+00 -1.70061395e-01  2.94829388e+01\n",
      "  1.62807503e+01 -1.20444460e+01 -7.60199022e+00  1.60938377e+01\n",
      " -2.32508481e-01  4.08881712e+00 -1.40308380e-01  5.90086889e+00\n",
      " -2.18079019e+00  1.58744974e+01  1.17823610e+01 -2.04072022e+00\n",
      " -5.34718275e+00  1.82375126e+01  1.55515814e+01  2.23477955e+01\n",
      "  3.81817985e+00  1.25304699e+01  5.34639978e+00 -5.31532288e+00\n",
      "  5.26277733e+00  6.21979141e+00 -3.99413490e+00  6.57439661e+00\n",
      "  1.74497986e+00  8.03102493e-01 -6.35486007e-01  1.65665569e+01\n",
      " -1.73474693e+01  2.86497259e+00  4.19190264e+00  6.86003685e+00\n",
      "  1.05075788e+00  1.18444796e+01  3.48290586e+00  6.83455181e+00\n",
      "  1.63338995e+00 -2.28159142e+00  1.24915397e+00 -4.58698161e-02\n",
      "  1.07373662e-01  5.94648266e+00  4.43972921e+00  1.07544727e+01\n",
      " -5.02363396e+00  4.50323296e+00  1.74282932e+01  7.11467266e+00\n",
      "  8.16581154e+00  4.92507982e+00  2.62473450e+01  2.22803516e+01\n",
      "  1.93815899e+01  2.13570309e+01  1.41165895e+01  4.89425087e+00\n",
      "  6.60142899e-01  1.76559269e+00  3.73852634e+00  1.29445422e+00\n",
      "  1.95723271e+00  9.07675457e+00  2.32446003e+00  1.01286640e+01\n",
      "  2.39857178e+01  7.80764818e+00  1.96984124e+00 -1.02096272e+00\n",
      "  6.01526499e+00  2.69093609e+00 -1.63896120e+00  3.28555751e+00\n",
      " -6.47837102e-01  4.29095650e+00  3.05490456e+01  7.65211296e+00\n",
      "  1.05349922e+01  2.05821457e+01 -1.99717939e+00  1.14172726e+01\n",
      "  1.80784786e+00  6.90838909e+00 -6.85289669e+00 -4.27540779e+00\n",
      "  2.53905869e+01  2.34138393e+01  5.65681791e+00  9.70726395e+00\n",
      "  4.15940851e-01  8.56766129e+00  9.48409939e+00 -3.34300399e-01\n",
      " -4.82571507e+00  3.56082535e+00 -1.37553513e+00  2.70004940e+00\n",
      " -1.16104615e+00 -5.43908262e+00  2.59622073e+00  5.43646097e+00\n",
      " -2.08401871e+00  7.76981711e-01  3.54761353e+01  4.76109695e+00\n",
      " -4.83960009e+00  2.22182598e+01  2.59666367e+01  2.09009724e+01\n",
      "  6.40728283e+00  3.67495651e+01  3.09239559e+01  3.56222687e+01\n",
      "  1.53426991e+01  2.48775482e+01 -4.65535402e+00  2.79465526e-01\n",
      "  1.74691982e+01  1.29460487e+01 -3.88774276e+00  8.48920727e+00\n",
      "  2.66690083e+01  3.77359123e+01  3.49328423e+01  1.05868874e+01\n",
      "  1.30826607e+01  3.83158135e+00 -1.93182290e+00  1.64548988e+01\n",
      " -1.59604871e+00  1.62453556e+01  6.89958715e+00 -3.29214573e+00\n",
      "  2.47333088e+01  1.75873623e+01  3.99065094e+01 -2.99775457e+00\n",
      " -1.83174765e+00  4.53099680e+00 -3.01401353e+00 -3.65496325e+00\n",
      "  4.36058950e+00 -7.81023169e+00  1.00884008e+01  2.41263313e+01\n",
      "  2.63649578e+01 -4.61591578e+00  1.78548777e+00  1.51281805e+01\n",
      "  1.90814924e+00  8.57274532e+00  3.50474286e+00  7.36727810e+00\n",
      "  1.14621744e+01  1.42223663e+01  2.13204746e+01  1.85585690e+00\n",
      "  4.30095024e+01 -1.64183199e+00  2.23200488e+00  4.10616350e+00\n",
      "  1.21901474e+01  1.01990862e+01  3.86162329e+00  3.54845166e+00\n",
      "  4.70335808e+01 -1.68557322e+00  1.95625267e+01  2.82588024e+01\n",
      "  3.39164138e+00 -4.96214008e+00  1.18271093e+01  1.96037388e+01\n",
      "  5.22539520e+00  5.64281368e+00  6.70634270e+00  2.85867729e+01\n",
      "  2.75661111e-01 -1.41059172e+00 -8.84114933e+00  1.54667530e+01\n",
      "  3.68596244e+00  1.09970200e+00  1.12664948e+01  2.97336674e+01\n",
      "  2.96277452e+00  9.85198975e+00 -7.26994848e+00  2.39304848e+01\n",
      " -5.53524113e+00 -5.99383056e-01  1.67279148e+01  1.18225336e+01\n",
      " -7.20450640e+00  1.13584461e+01  3.11970024e+01  4.06935349e+01\n",
      "  3.11284962e+01  1.96352184e+00  1.80012093e+01  4.06186562e+01\n",
      "  9.81509686e+00  1.72167759e+01 -3.92597109e-01  2.17263260e+01\n",
      "  3.87231064e+00  1.12967968e+00  9.06656325e-01 -2.34306550e+00\n",
      "  2.02413440e+00 -7.02494621e+00 -5.93363476e+00 -6.61959112e-01\n",
      "  3.26916337e+00 -5.13622522e+00  5.28003454e+00  4.35402918e+00\n",
      " -2.22816620e+01 -6.40871668e+00 -2.24141903e+01 -5.15369236e-01\n",
      " -7.98379087e+00 -5.54021931e+00 -4.18044996e+00 -5.63548660e+00\n",
      "  1.15908839e-01  4.56391859e+00 -1.03492804e+01 -1.28786249e+01\n",
      " -2.62254982e+01 -2.16896992e+01 -5.05085039e+00  6.40290022e+00\n",
      " -6.99734402e+00  1.98874474e+00 -9.01296520e+00 -8.62952805e+00\n",
      " -2.27429066e+01 -2.11123447e+01  2.22060013e+00 -6.87162781e+00\n",
      " -2.23263950e+01 -9.50955391e+00 -5.71971750e+00 -8.01994801e+00\n",
      "  3.16042805e+00 -1.36468992e+01 -3.25993943e+00  2.37219596e+00\n",
      "  1.12454042e+01 -4.28261375e+00 -1.74284124e+00 -9.68014526e+00\n",
      " -2.62840343e+00 -1.34988127e+01 -5.31389952e+00 -6.14166784e+00\n",
      " -4.34002846e-01 -6.59352779e+00 -1.15458164e+01 -7.34748411e+00\n",
      " -1.20161371e+01 -1.49324074e+01 -2.93367958e+00  5.89184332e+00\n",
      " -7.80190170e-01 -1.79215469e+01 -1.48959522e+01 -5.68688202e+00\n",
      "  2.83779502e+00 -2.53502674e+01 -1.99075947e+01 -2.24738741e+00\n",
      "  1.61541963e+00  4.18937635e+00 -2.28274364e+01  1.26275873e+00\n",
      "  9.31622386e-01 -7.40366411e+00  1.91424024e+00 -2.05745792e+00\n",
      " -3.56325436e+00  5.66669989e+00 -4.05213737e+00 -2.32301927e+00\n",
      "  3.24514914e+00 -1.99215984e+00 -6.66196123e-02 -6.56490469e+00\n",
      " -2.27843881e+00 -9.80780506e+00 -3.07796597e+00 -1.12671101e+00\n",
      "  2.49691272e+00 -2.32666683e+00 -3.07058245e-01 -1.76068354e+00\n",
      " -4.60715622e-01 -1.68495216e+01 -3.96723485e+00 -8.30717754e+00\n",
      " -4.89973211e+00 -2.87341215e-02  7.90346980e-01  2.88812685e+00\n",
      " -3.18594861e+00 -3.06825161e+00 -1.02669325e+01 -2.34327936e+00\n",
      "  6.00579166e+00 -7.52269840e+00  5.16029787e+00 -3.65755320e+00\n",
      " -2.95832863e+01  4.18784428e+00 -4.91209030e-01 -7.64495087e+00\n",
      " -2.26632614e+01  5.93730068e+00 -1.16028166e+01 -1.55255175e+00\n",
      "  4.86290312e+00 -4.68452835e+00 -5.91388988e+00  2.89033413e+00\n",
      "  1.60622597e-02 -1.11032753e+01  2.35598183e+00 -1.59470701e+01\n",
      " -2.67937636e+00  2.06233644e+00 -9.15244389e+00  2.83998346e+00\n",
      "  3.25243378e+00  8.62562954e-02 -3.42287779e+00  5.37295008e+00\n",
      " -1.92489433e+01  2.00018358e+00 -1.01412210e+01 -4.38191271e+00\n",
      " -1.16600399e+01 -2.27146626e+01 -2.56403561e+01 -6.33198786e+00\n",
      " -8.23785484e-01 -2.48227453e+00 -1.02695823e+00 -5.37320232e+00\n",
      "  4.85996246e+00  1.12141514e+00 -6.26656532e+00  1.57554293e+01\n",
      " -2.00898132e+01 -9.63374233e+00 -3.82646370e+00 -1.02115688e+01\n",
      " -2.07726269e+01 -9.85974503e+00 -2.11852779e+01 -2.02946873e+01\n",
      " -5.98283708e-01 -3.61083436e+00 -1.30709195e+00  1.97823024e+00\n",
      "  4.61650801e+00 -2.46995792e+01 -2.47335567e+01 -6.18481684e+00\n",
      "  1.58433790e+01  1.09147139e+01 -2.77556539e+00 -1.95841122e+01\n",
      " -2.87981105e+00 -8.76431942e+00 -5.60681009e+00 -4.81293154e+00\n",
      " -3.52165127e+00 -2.69560409e+00  1.92355883e+00 -2.44080772e+01\n",
      " -1.38851986e+01 -9.42051411e+00  5.09648740e-01  7.16592312e+00\n",
      " -6.98870707e+00 -2.91132212e+00  2.45479479e-01  5.77188075e-01\n",
      " -1.79918861e+01  8.23254168e-01 -8.17129326e+00 -3.54688907e+00\n",
      " -9.62033558e+00 -1.96468983e+01  2.33086276e+00  6.10014009e+00\n",
      " -5.27525854e+00  2.45121121e+00  4.54082537e+00 -1.69363096e-01\n",
      " -4.71901208e-01 -9.31761742e-01 -2.96271343e+01 -8.75560570e+00\n",
      " -2.16761417e+01  2.23297477e+00 -2.48160400e+01  4.19722939e+00\n",
      " -1.72274837e+01  1.96820468e-01 -1.15329576e+00 -5.28230810e+00\n",
      " -8.85467243e+00 -3.29334140e-01 -1.13962746e+00 -1.07916584e+01\n",
      "  9.82579899e+00  2.61017799e+00 -4.04647064e+00 -8.13703442e+00\n",
      " -3.07317219e+01 -2.66125154e+00 -3.40774689e+01  6.95723593e-01\n",
      " -2.98069458e+01  3.32686615e+00 -1.74922218e+01 -2.46952839e+01\n",
      " -2.76757169e+00 -4.45170641e+00  9.42475736e-01 -9.82866824e-01\n",
      "  8.84757614e+00  1.76770127e+00 -4.54049319e-01  2.30595898e-02\n",
      " -4.80148935e+00 -1.17105379e+01 -3.38055420e+01 -2.90022030e+01\n",
      " -1.46378546e+01 -1.66912746e+01 -1.38409357e+01 -7.29490995e+00\n",
      " -2.84375477e+01 -3.10125599e+01 -2.32714710e+01 -2.90447941e+01\n",
      " -3.79771256e+00 -3.25384827e+01 -1.59734459e+01  1.33114834e+01\n",
      "  4.94454336e+00 -3.44799185e+00 -3.13381710e+01 -1.37545183e-01\n",
      " -3.28818536e+00 -1.19775333e+01 -1.31345081e+00 -3.96983743e+00\n",
      " -7.35051632e+00 -2.24271755e+01 -1.77796116e+01 -1.84370053e+00\n",
      " -1.41819124e+01 -6.80469036e+00  5.28808403e+00  6.12131453e+00\n",
      " -1.65101910e+01  7.05465269e+00 -3.83582616e+00 -3.20348930e+00\n",
      " -1.52523813e+01 -4.27268143e+01 -1.08134756e+01 -5.34753704e+00\n",
      " -1.77387500e+00 -7.95114851e+00 -2.73675461e+01 -1.75770645e+01\n",
      " -1.69209805e+01 -3.74726248e+00  3.33147669e+00 -4.92355251e+00\n",
      " -1.81641350e+01  8.13790131e+00 -3.18043685e+00 -4.00060415e+00\n",
      " -4.42413406e+01  5.23904943e+00 -9.54490662e+00  7.21960878e+00\n",
      " -3.18311577e+01 -1.63315716e+01 -6.72980785e+00 -1.13894176e+01\n",
      "  4.64740902e-01  2.22478890e+00 -6.72208443e-02 -9.90490150e+00\n",
      "  1.90549350e+00 -3.69974365e+01 -3.04561558e+01 -1.28735313e+01\n",
      " -1.19529259e+00 -3.29011202e-01 -5.76314592e+00 -1.53911295e+01\n",
      " -9.61590099e+00 -1.25033216e+01 -9.82837200e+00 -2.61044526e+00\n",
      " -2.73947859e+00 -1.49470282e+01 -1.16669226e+00 -6.86255503e+00\n",
      " -2.79026871e+01 -1.50677049e+00 -1.14360628e+01 -1.92778149e+01\n",
      " -3.73827019e+01 -9.25911903e-01 -5.34889984e+00 -3.10720119e+01\n",
      " -4.54282999e+00  9.63335037e+00 -4.92621803e+00  1.77388954e+01\n",
      " -3.38134742e+00 -3.16080952e+01 -1.53995800e+01 -2.93234086e+00\n",
      " -8.97013950e+00 -7.27539921e+00  3.45960796e-01 -2.02953982e+00\n",
      " -3.07437744e+01  6.74094343e+00 -3.60116577e+01 -8.38983440e+00\n",
      " -2.22324848e+01 -6.44378567e+00 -4.35886993e+01 -1.09849358e+01\n",
      "  1.75913668e+00 -1.55030751e+00 -4.38186455e+00 -2.99267845e+01\n",
      "  2.97494791e-03 -4.94020939e+00 -9.74791718e+00  2.01587181e+01\n",
      "  4.48038483e+00 -1.16117296e+01 -4.75790167e+00  1.34339428e+01\n",
      "  5.41993523e+00  2.37357759e+00 -6.59172535e+00 -1.11666098e+01\n",
      " -3.18610535e+01 -6.84588611e-01 -4.19121780e+01 -2.31387138e+01\n",
      " -1.39480400e+00  5.99553108e+00 -1.35229301e+01 -5.51870167e-01\n",
      " -1.91300678e+01  6.21116686e+00]' has dtype incompatible with int64, please explicitly cast to a compatible dtype first.\n",
      "  preds[val_index] = model.predict(dval_i)\n"
     ]
    },
    {
     "name": "stderr",
     "output_type": "stream",
     "text": [
      "\r",
      " 60%|████████████████████████████████████████████████████████████████████████████████████████▊                                                           | 6/10 [01:35<01:07, 16.79s/it]"
     ]
    },
    {
     "name": "stderr",
     "output_type": "stream",
     "text": [
      "C:\\Users\\81809\\AppData\\Local\\Temp\\ipykernel_9064\\3386215446.py:18: FutureWarning: Setting an item of incompatible dtype is deprecated and will raise an error in a future version of pandas. Value '[ 2.91934228e+00  1.21899195e+01 -8.31116390e+00  9.47527027e+00\n",
      "  5.87435246e+00  2.39463959e+01  7.42668343e+00 -2.91398644e+00\n",
      "  7.36481726e-01  4.12405968e+00  4.60976791e+00  5.07098627e+00\n",
      " -3.83975601e+00  2.79293865e-01  6.11467505e+00  1.82728362e+00\n",
      "  2.17273548e-01  1.76069717e+01  2.24579067e+01 -1.06869659e+01\n",
      "  6.21858025e+00  5.99671245e-01  2.64260960e+00  4.67030001e+00\n",
      "  1.71786940e+00 -5.83624840e+00  4.52743292e+00 -1.84010610e-01\n",
      "  8.71887779e+00  1.39802589e+01  3.58322710e-01  4.05983067e+00\n",
      "  2.62658825e+01  8.60938835e+00  2.75008163e+01  2.21034932e+00\n",
      "  8.74027634e+00  1.47076483e+01  6.01456118e+00  3.43296337e+00\n",
      "  2.74546337e+00  1.31676607e+01  1.56453252e+00  2.79280877e+00\n",
      " -1.18875790e+00 -2.76120043e+00  6.20004177e+00  4.40947723e+00\n",
      "  1.00484121e+00  8.72611523e+00  1.76866484e+00  7.92791843e-01\n",
      " -5.76440382e+00  6.91561460e-01  5.40680885e+00 -8.46826255e-01\n",
      "  1.27384539e+01 -4.79084873e+00  2.98825931e-02  9.62978554e+00\n",
      "  2.54008160e+01  2.09300156e+01 -9.88759875e-01  6.72859669e+00\n",
      " -4.63081884e+00  6.13404989e+00  1.89789796e+00  6.78839087e-01\n",
      "  6.70018196e-01 -8.57791424e-01  1.30099144e+01  1.78769798e+01\n",
      " -7.93227577e+00  2.13351440e+00  5.27008533e+00  1.34719074e+00\n",
      "  1.73068886e+01 -3.94562435e+00  1.77381020e+01  1.07205105e+01\n",
      " -6.78777993e-01  7.81018209e+00  1.87215185e+00 -1.08524001e+00\n",
      "  2.89573479e+00 -3.13129783e+00  1.00360661e+01 -4.80310488e+00\n",
      " -2.72020161e-01 -4.68688202e+00  4.79112768e+00  2.49995918e+01\n",
      "  1.47863693e+01 -7.78625965e-01  1.19184422e+00  1.93714046e+01\n",
      "  1.15148106e+01 -8.57899380e+00  1.17353487e+01 -4.39876032e+00\n",
      "  3.36294365e+00  9.05428600e+00 -6.63404417e+00  4.98249531e+00\n",
      "  1.16560574e+01 -2.28670254e-01 -3.04785061e+00  4.68824655e-02\n",
      "  4.73857689e+00  1.88837681e+01  1.33086185e+01 -8.24361992e+00\n",
      " -4.98214155e-01  1.50244892e+00  1.04545174e+01 -6.81054688e+00\n",
      "  1.41024804e+00 -6.87100506e+00  7.73022699e+00  7.13648871e-02\n",
      "  5.57523584e+00 -1.74916521e-01  2.65728340e+01 -3.67425752e+00\n",
      " -9.60566711e+00 -1.90726986e+01 -4.42054272e+00 -5.85423517e+00\n",
      "  8.89676571e+00 -1.99160290e+00  3.96971917e+00  7.22862339e+00\n",
      "  1.22008543e+01 -4.53359699e+00  4.07500029e+00  4.93298626e+00\n",
      "  1.85741472e+00  6.33350658e+00  1.70855541e+01  6.90466940e-01\n",
      " -7.53870487e+00  7.74628520e-01  1.12211931e+00  6.36433220e+00\n",
      "  1.19791965e+01  6.30715227e+00  1.28284807e+01  9.03482139e-01\n",
      "  5.70970917e+00 -6.88644588e-01  2.55988979e+00 -4.71600503e-01\n",
      "  2.35571823e+01 -9.98799875e-02  2.96790957e-01  1.18498497e+01\n",
      "  1.14157829e+01  6.96855545e-01  6.37168694e+00 -5.81805325e+00\n",
      "  1.13090887e+01  3.57865262e+00  1.09574013e+01  7.45017290e+00\n",
      " -3.34370828e+00  8.02057934e+00  5.39640760e+00  1.93332138e+01\n",
      " -5.27936125e+00  5.96210670e+00  2.39168549e+00 -3.23424006e+00\n",
      "  6.03970170e-01  3.14419580e+00  1.60945625e+01  3.14068824e-01\n",
      "  8.59777641e+00  6.24064827e+00  1.22230268e+00  6.64417458e+00\n",
      "  4.74058199e+00  8.90147591e+00  1.92779694e+01  1.53597412e+01\n",
      " -5.48797560e+00 -4.27503014e+00  5.49803782e+00 -3.88273978e+00\n",
      "  3.29242611e+00  5.87492704e+00  9.46957970e+00  1.01922035e+01\n",
      "  2.37790432e+01  1.74225197e+01  3.77760768e+00  2.34719486e+01\n",
      "  3.02756500e+00  1.33168259e+01 -1.66963565e+00  4.01870966e+00\n",
      " -5.01257038e+00  5.14844990e+00  7.50455379e+00 -4.53280592e+00\n",
      "  6.59812784e+00  1.97838223e+00  1.00555058e+01  7.39681721e+00\n",
      "  2.86490583e+00  2.05500011e+01  1.45826101e+01  2.56066971e+01\n",
      "  3.02971268e+00 -6.27408648e+00  1.99499817e+01 -1.61488843e+00\n",
      "  1.27208462e+01  1.13833151e+01 -2.25772119e+00  2.61751060e+01\n",
      "  1.38169775e+01  2.56556916e+00  3.13954449e+01  2.70060468e+00\n",
      "  3.23807220e+01  9.21371841e+00  3.58622837e+00  1.57852325e+01\n",
      " -4.30681276e+00  3.49707146e+01 -9.45308399e+00 -7.81424189e+00\n",
      "  2.98465998e-03  2.66611487e-01  1.74221592e+01  1.50621424e+01\n",
      "  3.07239842e+00  1.07724524e+01  1.29927766e+00  1.45705309e+01\n",
      "  1.55307138e+00  1.10342283e+01  2.96807632e+01 -1.12457657e+01\n",
      "  3.10755386e+01 -1.70185966e+01  1.21000605e+01 -2.06446552e+00\n",
      "  7.39791441e+00 -1.55682850e+00  3.19121122e+00  3.43462906e+01\n",
      "  3.68942947e+01 -2.20631480e+00 -3.84998798e+00  1.11686049e+01\n",
      "  6.39325476e+00  5.74111843e+00  3.24076347e+01  6.66445684e+00\n",
      "  3.67180586e+00 -2.20326948e+00  2.92300510e+01  2.95532799e+00\n",
      "  6.49664879e+00  2.68795662e+01  2.90010738e+00  1.92672806e+01\n",
      " -4.12942314e+00  3.77907753e+00  1.15083170e+01  5.04769230e+00\n",
      "  2.07154007e+01  1.66063194e+01  2.11654053e+01  1.15367398e-01\n",
      " -7.30329609e+00  7.97385502e+00  4.94596148e+00  4.05004883e+00\n",
      " -3.69521797e-01 -7.42090368e+00  2.96996808e+00  7.37664223e+00\n",
      "  8.98838997e+00  1.00297918e+01  3.42073441e+01  3.41999321e+01\n",
      "  1.35720930e+01 -3.20523214e+00  1.46441615e+00 -1.03595705e+01\n",
      "  9.41938972e+00  3.51894331e+00  2.63342667e+01 -9.63159080e-04\n",
      "  1.80054493e+01 -9.88018513e+00  1.83259373e+01  2.40709915e+01\n",
      "  3.25147972e+01  4.82357174e-01 -8.71980476e+00  1.68740349e+01\n",
      "  8.80052185e+00 -9.44491252e-02  1.76381826e+00  9.61387444e+00\n",
      "  2.96645904e+00 -5.73422003e+00 -4.28063345e+00  4.46306915e+01\n",
      "  6.84708309e+00  2.23140736e+01 -5.97911167e+00  2.80137119e+01\n",
      "  1.37779942e+01  1.10020533e+01  4.37698364e+00 -3.76377535e+00\n",
      "  3.76204948e+01  7.47534752e+00  1.06087599e+01  3.74520206e+00\n",
      "  5.39432287e+00  2.96368256e+01  2.64022083e+01 -9.05239135e-02\n",
      "  9.68096447e+00 -4.13814485e-01  8.70754814e+00 -7.84618282e+00\n",
      " -8.15111828e+00 -3.44919491e+00  1.44878662e+00 -2.34455853e+01\n",
      " -1.01367741e+01 -1.22437277e+01  1.70077813e+00 -9.34303379e+00\n",
      "  5.53370476e+00  2.56971312e+00 -7.24067545e+00 -6.19110942e-01\n",
      " -2.21328316e+01 -1.32391462e+01 -5.52831984e+00 -1.98965893e+01\n",
      " -2.00408363e+01 -9.71534908e-01  4.80538681e-02 -3.82598805e+00\n",
      " -1.74314129e+00 -3.46211433e-01 -5.78124857e+00  2.03989863e+00\n",
      "  1.11843550e+00 -1.71866913e+01 -4.25752068e+00 -2.66508636e+01\n",
      " -3.96125579e+00  7.44423914e+00 -5.01002073e+00 -2.70058084e+00\n",
      "  5.05652523e+00 -1.99110663e+00 -5.67904711e+00 -3.03316236e+00\n",
      " -1.98443279e+01  2.37664390e+00 -8.95086193e+00 -2.48078179e+00\n",
      " -7.34564018e+00 -1.14152241e+01 -5.80605316e+00  3.23068094e+00\n",
      " -1.34760082e+00 -2.69765282e+00 -5.71423674e+00 -1.30999308e+01\n",
      " -2.39223652e+01 -2.86916351e+00 -7.55587196e+00 -6.42049885e+00\n",
      "  7.58967996e-01  1.49333620e+00  9.28370416e-01 -5.34767199e+00\n",
      " -6.21534300e+00 -9.86707401e+00 -4.04032612e+00 -1.37544813e+01\n",
      " -1.56230536e+01 -1.43419008e+01  6.10860014e+00  7.12815583e-01\n",
      " -1.02644193e+00  3.25641561e+00  1.17057729e+00 -9.11633682e+00\n",
      " -1.31889782e+01 -8.33274269e+00  1.15267672e-01  1.77370453e+00\n",
      " -9.50815487e+00 -6.87256765e+00 -5.67498922e+00  4.00279641e-01\n",
      "  6.60833418e-01 -4.17328167e+00 -9.81419945e+00  3.75383949e+00\n",
      " -1.12653370e+01  1.32755756e+01 -9.11991656e-01  3.74430203e+00\n",
      "  3.84021664e+00 -1.20316563e+01 -1.23582630e+01  1.27360106e+00\n",
      " -4.26342678e+00 -4.04922962e-01 -1.16178524e+00 -2.32066422e+01\n",
      "  3.07935524e+00 -2.21794434e+01 -2.72721100e+01  7.75027847e+00\n",
      " -5.44970214e-01 -1.19273500e+01  2.22450233e+00 -4.55210686e+00\n",
      "  2.40186945e-01 -1.37639046e+00 -2.92236004e+01 -8.33511829e+00\n",
      " -3.30476093e+00  1.84498463e+01  5.44153023e+00 -9.93630791e+00\n",
      " -1.43571787e+01 -4.62180519e+00  2.58797741e+00 -4.04311419e+00\n",
      " -8.06659412e+00 -8.28583360e-01 -3.96583700e+00 -8.34287930e+00\n",
      " -1.38571167e+00 -1.00486422e+01 -7.12657928e+00 -5.93489742e+00\n",
      "  6.85081303e-01 -1.56336336e+01  4.24966097e+00 -4.53432798e+00\n",
      " -1.58984289e+01 -1.74569380e+00  3.67791653e+00  3.14737773e+00\n",
      "  3.35524988e+00  1.19475472e+00 -9.90269566e+00 -4.88695288e+00\n",
      " -3.44498610e+00 -2.22827778e+01 -1.09918346e+01 -3.99013686e+00\n",
      "  1.19964552e+01  5.11333704e+00 -8.41679859e+00 -5.73468065e+00\n",
      " -9.28911805e-01  1.02937212e+01  2.75984764e+00 -2.19649658e+01\n",
      "  1.23775492e+01 -5.65632522e-01  2.23225832e+00 -1.92592373e+01\n",
      " -6.45491123e-01 -2.10575047e+01  1.18124952e+01 -5.39629555e+00\n",
      " -1.08348684e+01  5.03184795e+00 -7.75583744e+00  1.72825754e+00\n",
      " -4.08881998e+00 -5.44187498e+00  5.19422531e+00 -1.09032393e+00\n",
      "  5.42310834e-01 -4.13732910e+00  2.86898994e+00  6.76849365e-01\n",
      " -1.01377802e+01  5.15085840e+00  4.84804916e+00 -4.64992714e+00\n",
      " -1.92770898e+00  2.01109409e+00  2.30513287e+00 -5.45473862e+00\n",
      " -3.35270262e+00 -3.26732850e+00 -2.40364876e+01 -1.45240011e+01\n",
      " -1.99017887e+01 -2.17313595e+01  4.01630729e-01 -4.77666664e+00\n",
      "  4.74709415e+00  8.04692841e+00  2.29696655e+00 -1.38398266e+01\n",
      "  5.70760489e-01  6.69111538e+00 -2.36567688e+01 -4.97155190e+00\n",
      " -4.93864775e+00  4.72073936e+00 -2.02282143e+00 -1.10176411e+01\n",
      " -9.21344948e+00 -2.09363823e+01 -3.56869340e+00  2.33734303e+01\n",
      "  1.05011168e+01 -7.87983036e+00  2.58271742e+00 -2.72450519e+00\n",
      " -4.16927910e+00  6.49996519e+00 -2.68998871e+01 -1.75100911e+00\n",
      "  3.21717739e+00 -1.70013485e+01  8.52230930e+00  9.92525816e-01\n",
      " -3.89887810e+00 -6.57061720e+00 -5.56673384e+00 -1.52260697e+00\n",
      " -1.10478334e+01 -6.61622286e-01  1.88333189e+00  3.97634196e+00\n",
      "  9.54611206e+00 -1.81012595e+00  4.40217209e+00 -5.50155401e+00\n",
      " -9.92437649e+00 -1.93672168e+00 -4.39391136e+01 -2.59335213e+01\n",
      " -2.44224625e+01  3.21235633e+00 -2.84494710e+00 -2.46992340e+01\n",
      " -6.15760946e+00 -2.67201424e+01 -1.65367832e+01 -1.63674526e+01\n",
      " -3.84216213e+00 -7.25742149e+00 -8.64541054e+00 -1.65415800e+00\n",
      " -5.46591568e+00 -4.04008865e+00 -3.83643990e+01 -4.51702929e+00\n",
      "  3.28373671e-01 -2.83149147e+01 -1.79393268e+00 -1.46664600e+01\n",
      "  9.37277412e+00 -1.79695206e+01 -1.12548056e+01 -1.63558540e+01\n",
      "  6.95165038e-01 -9.25977039e+00 -2.78653851e+01 -1.95021820e+00\n",
      " -3.08458900e+01 -1.29510176e+00  1.43515415e+01 -1.11493521e+01\n",
      "  5.48275173e-01 -2.71345844e+01 -1.34300060e+01 -4.57441759e+00\n",
      " -1.64804630e+01 -7.52017832e+00 -4.59876060e+00 -4.90461349e+00\n",
      " -2.29172478e+01  6.14240789e+00 -1.62444916e+01 -7.56357288e+00\n",
      " -2.79611802e+00 -2.49000034e+01 -1.78848667e+01 -1.58419504e+01\n",
      " -1.35606461e+01 -2.91597919e+01  1.59065592e+00 -7.70357227e+00\n",
      " -1.85241528e+01 -2.96766686e+00 -1.74156647e+01 -4.49194860e+00\n",
      " -1.85301208e+01  9.70074272e+00 -3.05510883e+01 -1.29719915e+01\n",
      "  1.20440805e+00 -3.36986351e+01 -1.18231487e+01 -3.44239950e+00\n",
      " -3.10178223e+01 -2.76810493e+01  8.04164028e+00  1.04240382e+00\n",
      " -1.41396465e+01 -3.07633519e+00 -2.31652336e+01 -1.21201925e+01\n",
      " -6.25855207e+00  1.22788869e-01 -1.51875048e+01  7.25985527e+00\n",
      "  2.58820355e-01 -1.75335770e+01 -9.10451412e+00 -2.29505110e+00\n",
      "  7.62916374e+00 -1.77664626e+00 -2.96783237e+01 -2.52009964e+01\n",
      " -4.87560421e-01  8.27914810e+00 -9.44282353e-01 -4.94223499e+00\n",
      "  1.09381800e+01 -5.12791348e+00 -2.09742546e+01 -1.14835205e+01\n",
      "  4.12385750e+00  8.15174103e+00 -4.56403112e+00 -1.93200588e+01\n",
      " -4.12626266e+00 -7.80590296e+00 -9.65328503e+00 -3.24140129e+01\n",
      " -2.92343369e+01 -2.75357270e+00 -2.96523647e+01 -3.66799431e+01\n",
      " -3.29871297e-01  2.81158710e+00 -1.16766100e+01 -2.30898190e+01\n",
      " -2.49846420e+01 -6.07204819e+00  1.31924381e+01 -5.62730670e-01\n",
      "  8.26250362e+00  2.98951435e+00 -2.93667755e+01 -5.59363031e+00\n",
      " -3.71295624e+01 -3.92674408e+01  1.77273396e-02 -2.33469009e+01\n",
      " -2.04067192e+01 -2.73525810e+01 -2.05679092e+01  3.48624659e+00\n",
      " -5.03516006e+00 -1.89108505e+01 -9.20009899e+00 -3.84287033e+01\n",
      " -2.89659863e+01  3.02565485e-01 -3.71731377e+01 -5.22969723e+00\n",
      " -3.70381832e+00 -2.13088303e+01  1.26035678e+00  6.01204336e-01\n",
      " -1.32191725e+01 -1.23990512e+00  6.07964563e+00 -1.32684269e+01\n",
      " -1.01752110e+01  4.08467436e+00]' has dtype incompatible with int64, please explicitly cast to a compatible dtype first.\n",
      "  preds[val_index] = model.predict(dval_i)\n"
     ]
    },
    {
     "name": "stderr",
     "output_type": "stream",
     "text": [
      "\r",
      " 70%|███████████████████████████████████████████████████████████████████████████████████████████████████████▌                                            | 7/10 [01:48<00:46, 15.49s/it]"
     ]
    },
    {
     "name": "stderr",
     "output_type": "stream",
     "text": [
      "C:\\Users\\81809\\AppData\\Local\\Temp\\ipykernel_9064\\3386215446.py:18: FutureWarning: Setting an item of incompatible dtype is deprecated and will raise an error in a future version of pandas. Value '[-4.81117249e+00  7.60632324e+00  4.16821623e+00  3.71881843e+00\n",
      "  2.37917972e+00 -2.32174993e+00  8.17425060e+00  2.25440884e+00\n",
      " -3.44698572e+00 -2.33401251e+00  2.26857166e+01  4.31302595e+00\n",
      "  3.10940206e-01  5.21799612e+00  5.74887896e+00 -7.64480209e+00\n",
      " -4.96631289e+00  3.77633214e+00  8.42975426e+00  9.82538164e-01\n",
      " -9.36851084e-01  3.53319430e+00  1.90847034e+01  2.76463604e+01\n",
      "  1.06424379e+01 -5.48704386e+00  1.68149300e+01  2.69824732e-02\n",
      "  3.48314095e+00  2.89306617e+00 -5.23037004e+00  5.49602127e+00\n",
      "  7.54263067e+00  1.04390631e+01  2.77863979e+00  7.71528625e+00\n",
      "  5.54999256e+00  1.00895452e+01  3.68069887e-01  5.92936134e+00\n",
      " -1.06747282e+00  1.73693695e+01  1.25811443e+01  2.49744682e+01\n",
      "  1.23990858e+00  1.52397165e+01  7.08318758e+00  2.50194597e+00\n",
      " -3.79498839e+00  4.73602533e+00  7.51092851e-01  1.56572866e+00\n",
      "  8.63223934e+00  1.36035500e+01  3.08177328e+00  8.84625626e+00\n",
      " -3.33813381e+00 -2.37213063e+00  3.18539214e+00 -3.42125893e-01\n",
      "  1.35542464e+00  7.56188631e+00  6.39313984e+00  4.10428286e+00\n",
      "  1.69454613e+01  9.76459694e+00 -7.76772648e-02 -1.90062535e+00\n",
      " -5.46649218e+00  8.70380020e+00  6.13149309e+00  7.78477192e+00\n",
      "  9.09361959e-01  3.36823392e+00  7.61523104e+00  1.26869841e+01\n",
      "  5.46399021e+00  3.29837847e+00 -4.81188440e+00  5.00938654e+00\n",
      " -1.55635166e+00  9.53537405e-01  1.23043690e+01  3.24090004e+00\n",
      "  1.12377477e+00  1.28347244e+01  1.07893143e+01  6.82237196e+00\n",
      " -9.78842354e+00  4.27550459e+00  5.38267231e+00  1.07044649e+01\n",
      "  4.39289331e+00  6.03462410e+00 -1.08382344e+00  1.19125116e+00\n",
      "  1.68542647e+00  7.69113874e+00 -9.96668625e+00  2.19052429e+01\n",
      "  4.96958542e+00  2.47388554e+00  1.12855509e-01 -2.04121614e+00\n",
      "  4.28421068e+00  8.84099102e+00 -6.56686306e+00 -3.98594546e+00\n",
      "  1.04342260e+01 -7.89219284e+00 -2.07186365e+00  5.90061855e+00\n",
      "  2.43221983e-01 -6.68526173e+00 -5.93433976e-01  7.80952215e+00\n",
      "  5.22727060e+00 -3.14194322e+00  1.08615029e+00  8.02809238e+00\n",
      " -4.42133093e+00  2.41875386e+00 -2.86231828e+00 -3.48720956e+00\n",
      "  5.83695269e+00  1.12351809e+01 -4.15174723e+00  3.95661640e+00\n",
      " -4.10034466e+00  1.45700061e+00  6.68432045e+00  7.12306404e+00\n",
      "  1.82784283e+00  1.48732557e+01  3.56454682e+00 -4.26925325e+00\n",
      " -1.70423305e+00  5.58054507e-01 -3.50643301e+00 -6.82109213e+00\n",
      "  2.30417156e+00  1.81443751e-01  2.34055734e+00 -1.55204117e+00\n",
      " -3.54774213e+00  4.88231468e+00 -2.98418808e+00 -7.00280571e+00\n",
      "  9.50960350e+00  1.62420578e+01  4.31698084e+00  8.72589111e-01\n",
      "  5.29603815e+00  5.61664402e-01  6.29865170e-01  3.28402090e+00\n",
      "  8.02420807e+00  4.71318722e+00  6.59496164e+00 -9.10654831e+00\n",
      "  4.77095366e+00 -4.30939722e+00 -1.03975925e+01 -1.67738380e+01\n",
      "  1.98418236e+01 -3.34481072e+00  2.38600254e+01  2.06296654e+01\n",
      "  1.48802114e+00  4.86534643e+00  1.16027431e+01  1.13988972e+01\n",
      "  7.21499014e+00  1.01115298e+00 -1.89166534e+00  3.79140377e+00\n",
      " -1.09563477e-01 -2.99193692e+00  2.32700787e+01  4.77309370e+00\n",
      "  2.11449146e+00 -5.44983244e+00  8.09675598e+00  9.65725780e-01\n",
      "  4.66913557e+00  5.06355810e+00 -2.79014492e+00  7.52631521e+00\n",
      "  1.01197968e+01  3.84323096e+00  2.59510994e+01 -2.05739665e+00\n",
      "  1.99394112e+01 -3.98219633e+00  3.35914421e+00  1.81111288e+00\n",
      " -7.34427333e-01  1.44485769e+01  2.30587316e+00  1.75618153e+01\n",
      "  6.23296690e+00  2.07757969e+01  1.34983330e+01 -2.44880605e+00\n",
      "  6.79984570e+00 -1.45201266e+00  4.39881861e-01 -2.90877223e+00\n",
      "  1.18961391e+01  1.94176731e+01  8.90947533e+00  1.44315739e+01\n",
      "  1.26806278e+01  1.69667892e+01  3.43245178e-01 -1.93366838e+00\n",
      " -2.98028660e+00  1.59440889e+01  9.01172924e+00  7.94047499e+00\n",
      " -1.83068013e+00  2.91810722e+01  2.43623657e+01 -9.68208373e-01\n",
      "  2.37392578e+01  1.36818609e+01 -5.55798864e+00 -1.19700336e+00\n",
      "  4.34302483e+01  2.12703514e+01  2.85447350e+01  2.74036350e+01\n",
      " -8.17478085e+00 -8.32376862e+00  1.94666977e+01  1.26271639e+01\n",
      "  1.20945778e+01 -1.02584467e+01  2.47734189e+00  1.13235865e+01\n",
      "  3.84659843e+01 -4.72331405e-01  8.36881447e+00  6.77314758e-01\n",
      "  8.69648814e-01  5.24359322e+00  1.65595112e+01  2.49081111e+00\n",
      "  4.59688873e+01 -5.30720377e+00  4.78253889e+00 -5.84409773e-01\n",
      "  1.55818820e+00  1.02154531e+01  3.33056602e+01  3.03029251e+00\n",
      "  1.42962065e+01  9.20857143e+00  3.27242422e+00  6.77258492e+00\n",
      "  1.61678123e+01  1.32551785e+01  3.70246673e+00  3.16892757e+01\n",
      "  2.98593464e+01  2.27038040e+01  2.03047771e+01  1.39935265e+01\n",
      "  1.14995785e+01  1.72992840e+01  1.28779154e+01  2.44457173e+00\n",
      "  3.30089722e+01 -1.74775767e+00  5.55628872e+00 -8.90480328e+00\n",
      "  3.57091064e+01  7.37907934e+00  2.13545361e+01  2.42751765e+00\n",
      "  1.18871737e+01  6.50534201e+00 -3.09516311e+00  1.25591898e+01\n",
      " -2.44693112e+00  8.90462875e+00 -9.12475204e+00  1.96227741e+00\n",
      "  1.56158218e+01 -5.03499842e+00  2.64087868e+00  3.62474022e+01\n",
      "  3.00993681e-01  2.06592388e+01  5.01676464e+00  1.89633942e+01\n",
      "  9.99608421e+00  1.57900059e+00 -1.03581905e+01 -7.15125132e+00\n",
      " -9.59802246e+00  9.62797260e+00  8.44380569e+00  2.38424416e+01\n",
      "  3.25720906e+00  4.00235462e+00  9.29346657e+00  1.11911812e+01\n",
      "  2.56546993e+01  5.52264404e+00  3.97750568e+00  3.00701275e+01\n",
      "  3.61066604e+00  4.28334885e+01  2.77025566e+01  3.32636690e+00\n",
      "  7.52395964e+00  3.73375359e+01  4.12196398e+00  6.03395605e+00\n",
      "  4.34793625e+01  2.07033024e+01  1.07140589e+01  3.06032538e+00\n",
      "  1.11280451e+01  1.68923206e+01  1.42533922e+01  3.15989647e+01\n",
      "  7.39985657e+00  1.65875912e+01 -6.43419933e+00  2.12317848e+01\n",
      "  2.99910717e+01 -1.30705070e+00 -8.46077502e-01 -4.48387861e+00\n",
      " -6.30807781e+00  1.93270798e+01  1.60750599e+01  3.70432425e+00\n",
      " -7.89862990e-01  9.38023186e+00 -2.18539715e+01 -1.06777935e+01\n",
      " -1.12257195e+01 -8.61148930e+00 -3.63405561e+00 -2.25946236e+01\n",
      " -2.00963478e+01 -1.02272987e+01  3.76281095e+00 -6.22811604e+00\n",
      " -7.24720955e+00 -3.85544848e+00 -1.53276992e+00  2.92080617e+00\n",
      " -1.06197524e+00 -2.20982094e+01 -4.78850031e+00 -7.86159515e-01\n",
      " -6.44627190e+00  6.49241495e+00 -2.82224345e+00  1.49504781e+00\n",
      " -3.25210238e+00  4.26489592e+00  5.43815076e-01 -1.88043213e+01\n",
      " -4.16814280e+00 -5.21436453e+00 -2.60809302e+00  6.49116468e+00\n",
      " -7.95832729e+00 -5.29119349e+00  1.23641419e+00 -5.55055189e+00\n",
      " -3.68772721e+00  2.20507216e+00  3.74851286e-01 -6.84027481e+00\n",
      " -1.01672401e+01  8.82171059e+00 -5.46941042e+00 -2.21111488e+01\n",
      " -2.55871081e+00 -2.18792343e+01  1.67189193e+00 -6.69671714e-01\n",
      " -8.78892326e+00  4.27752256e+00 -6.29450321e+00 -6.43544769e+00\n",
      " -1.40968192e+00 -1.72395935e+01 -3.75036383e+00  5.40932941e+00\n",
      " -2.41598415e+01 -4.37539101e+00 -9.43705368e+00 -3.78298616e+00\n",
      " -6.60641575e+00 -2.05721664e+00 -5.57973766e+00 -2.85325027e+00\n",
      " -1.92145181e+00 -5.89608788e-01 -2.94052154e-01 -2.08867097e+00\n",
      "  2.11706448e+00 -8.30382824e+00 -1.13118401e+01 -1.59925680e+01\n",
      "  9.72110748e+00 -1.03910522e+01 -1.01248419e+00 -4.66482782e+00\n",
      " -2.72297120e+00  1.85687566e+00 -2.39079971e+01  9.19335246e-01\n",
      " -1.85825577e+01  1.43248522e+00 -6.68731499e+00  4.71844912e+00\n",
      " -2.33390427e+01  1.64141083e+00  1.60276115e+00 -8.04646015e+00\n",
      " -7.07693958e+00 -2.47860336e+00 -7.19526911e+00 -3.06420475e-01\n",
      " -1.00366426e+00 -7.38084698e+00 -1.26419268e+01 -3.47457600e+00\n",
      " -9.07088184e+00 -1.08840885e+01  3.42308640e+00  2.78887510e+00\n",
      " -1.11672211e+01  4.46397632e-01 -6.89568186e+00 -7.43915677e-01\n",
      "  5.36012316e+00  6.34275341e+00 -5.07537413e+00 -9.81940150e-01\n",
      " -1.19822669e+00  1.42016470e+00 -2.26160450e+01 -4.03773880e+00\n",
      " -2.64364123e+00  7.88142681e-01 -6.15912151e+00 -2.14213777e+00\n",
      " -1.28496380e+01  6.73770142e+00  4.10828972e+00  5.79931641e+00\n",
      "  6.09944916e+00 -4.07554960e+00 -4.70166826e+00  4.40807009e+00\n",
      " -1.09805689e+01 -7.43262577e+00 -5.98942041e+00 -5.38769484e+00\n",
      " -8.97235203e+00 -2.12323132e+01  5.29611492e+00 -1.02981411e-01\n",
      " -5.68751335e+00  4.27722788e+00  1.86092794e+00 -3.75277805e+00\n",
      "  1.21884620e+00  1.01114511e+00 -3.74278879e+00 -4.43269682e+00\n",
      "  3.87320280e+00 -8.47912502e+00 -8.51282406e+00 -1.27881804e+01\n",
      "  1.01927435e+00 -2.64584389e+01  7.74869871e+00 -4.23993683e+00\n",
      "  4.10565697e-02  4.69070625e+00 -6.70674503e-01 -1.26303282e+01\n",
      " -6.20675516e+00 -3.10016108e+00 -5.02047825e+00 -1.87145119e+01\n",
      " -1.23343267e+01 -2.23536110e+01 -1.13533306e+01 -5.14269638e+00\n",
      "  4.24402905e+00  5.14247274e+00 -4.14975286e-02  3.44916105e+00\n",
      " -1.74170542e+00  7.12531745e-01  2.10293587e-02 -3.77532887e+00\n",
      "  3.06771606e-01  1.05465212e+01  9.52727377e-01 -8.05646896e-01\n",
      " -2.01812820e+01 -4.70773125e+00  9.66356158e-01 -1.07801733e+01\n",
      "  4.63811941e-02 -2.23299980e+00 -6.01169968e+00 -5.02213383e+00\n",
      " -2.09639922e-01 -1.05478296e+01  2.58550024e+00  3.73241830e+00\n",
      " -5.15819693e+00 -2.34090481e+01 -4.66640186e+00 -1.86570454e+00\n",
      " -2.84254432e+00 -7.94633770e+00 -4.51787829e-01 -1.77087975e+00\n",
      " -5.55704308e+00  2.17276382e+00 -5.12762165e+00  1.96352184e+00\n",
      " -9.86701608e-01 -5.20743322e+00 -2.10668182e+00 -4.62243414e+00\n",
      " -8.68684292e+00 -2.02239799e+01 -2.20679436e+01 -3.00201797e+00\n",
      " -1.00067854e-01 -7.58614480e-01  5.84013641e-01 -3.44494009e+00\n",
      "  2.42770338e+00  7.49721241e+00 -5.02047479e-01 -2.31368876e+00\n",
      "  1.20233459e+01  4.51770878e+00 -4.58351135e+00  1.95321560e+00\n",
      " -6.87963343e+00  2.53938735e-01  1.33954942e+00 -1.43649435e+01\n",
      "  3.41762781e+00 -2.34672718e+01 -7.52285147e+00 -1.38615856e+01\n",
      "  4.80879450e+00 -1.86293769e+00  1.01621294e+01 -2.37199831e+00\n",
      " -8.65101337e+00 -6.78664804e-01 -2.99287910e+01 -1.04043865e+01\n",
      " -4.77024889e+00  7.01857269e-01 -2.83221455e+01 -2.45904903e+01\n",
      " -1.61491776e+01 -4.25644279e-01 -1.92140400e+00 -7.24224663e+00\n",
      "  3.22315526e+00 -1.03202915e+00 -1.00808887e+01 -2.82210197e+01\n",
      " -2.82629318e+01  5.57866716e+00 -1.05802202e+01 -1.63895416e+01\n",
      " -1.14481096e+01 -9.84791088e+00  6.17577982e+00  1.28229733e+01\n",
      " -9.83223736e-01 -2.03845901e+01 -1.40467000e+00  4.44687700e+00\n",
      " -3.66943130e+01 -6.95782804e+00  3.79146528e+00 -2.08001614e+01\n",
      " -1.98372574e+01 -1.39677544e+01 -5.48778200e+00  4.54695129e+00\n",
      " -4.46165390e-02 -1.36854925e+01 -2.03242836e+01 -2.88324375e+01\n",
      "  5.55603862e-01 -1.62289925e+01 -2.81499839e+00 -6.82194471e+00\n",
      "  2.11870790e+00  4.71048069e+00  7.02704072e-01 -7.72517157e+00\n",
      "  3.13020015e+00 -1.12689829e+01 -3.57228584e+01 -2.86510334e+01\n",
      " -2.38304949e+00 -1.66217747e+01 -5.92901134e+00 -9.61283493e+00\n",
      " -8.65004826e+00  5.29417133e+00 -3.90465236e+00 -1.33940105e+01\n",
      " -8.14253616e+00 -2.68892241e+00 -2.49970016e+01  1.13674235e+00\n",
      " -4.73870993e+00  9.61734772e+00 -1.95402730e+00 -1.89883003e+01\n",
      " -1.54506421e+00 -9.41516209e+00  1.30655789e+00 -1.97178326e+01\n",
      "  4.03122807e+00 -8.46846294e+00 -8.38882351e+00 -8.75938416e+00\n",
      " -5.53184938e+00 -1.13954363e+01 -9.90694523e+00 -9.04705811e+00\n",
      " -1.64882052e+00 -1.12810783e+01 -2.93453293e+01  4.21858549e+00\n",
      " -2.86237659e+01 -2.64262619e+01 -1.22693005e+01 -1.89738045e+01\n",
      " -3.49603386e+01 -4.00685120e+00 -1.10357857e+01  1.05025969e+01\n",
      " -4.06115532e+00 -1.11103687e+01 -2.41699362e+00 -5.54353714e+00\n",
      " -2.41272678e+01 -5.47817373e+00 -4.03854218e+01 -1.75963950e+00\n",
      " -3.86542130e+01  6.40811563e-01 -1.39927254e+01 -2.25202332e+01\n",
      "  1.62091672e+00 -1.83128452e+01  1.07542839e+01 -9.22261143e+00\n",
      " -3.38379788e+00  8.63304710e+00  2.57474351e+00 -1.61447830e+01\n",
      "  2.40683341e+00 -2.19848537e+01 -1.23881650e+00 -2.19888115e+01\n",
      " -2.55059934e+00 -1.61067448e+01  1.38541183e+01 -6.22181797e+00\n",
      " -4.35855579e+00 -9.82933235e+00 -1.06872761e+00 -8.43889141e+00\n",
      " -1.96968002e+01 -3.04188228e+00 -2.16021881e+01 -1.96271954e+01\n",
      " -9.75520229e+00 -2.68329287e+00]' has dtype incompatible with int64, please explicitly cast to a compatible dtype first.\n",
      "  preds[val_index] = model.predict(dval_i)\n"
     ]
    },
    {
     "name": "stderr",
     "output_type": "stream",
     "text": [
      "\r",
      " 80%|██████████████████████████████████████████████████████████████████████████████████████████████████████████████████████▍                             | 8/10 [02:02<00:29, 14.92s/it]"
     ]
    },
    {
     "name": "stderr",
     "output_type": "stream",
     "text": [
      "C:\\Users\\81809\\AppData\\Local\\Temp\\ipykernel_9064\\3386215446.py:18: FutureWarning: Setting an item of incompatible dtype is deprecated and will raise an error in a future version of pandas. Value '[-6.58156574e-01 -7.81567287e+00  9.01503563e+00  1.87263060e+00\n",
      "  7.82066488e+00  1.80453885e+00  5.09172869e+00  8.26411819e+00\n",
      " -2.82431698e+00 -3.51937008e+00 -3.12542963e+00  3.38681126e+00\n",
      "  3.29931706e-01  2.17809124e+01  1.32303560e+00  1.00981388e+01\n",
      "  4.64231825e+00  2.19682999e+01  2.09753585e+00  2.57325482e+00\n",
      "  4.05887604e+00  3.25838614e+00  5.10931611e-01  1.09883947e+01\n",
      " -1.40104711e+00  1.28038235e+01  5.41643667e+00  2.27717495e+00\n",
      "  2.65723877e+01  2.88975430e+00 -7.14693165e+00  1.50398111e+01\n",
      " -8.25982094e+00  5.27957773e+00  2.64136505e+00 -4.95923609e-01\n",
      " -3.49256802e+00 -2.55955648e+00  3.37064433e+00  1.09187639e+00\n",
      "  8.62353611e+00  2.11359787e+01  2.18199883e+01  8.24828053e+00\n",
      " -3.00393414e+00 -5.04235792e+00 -3.48709059e+00  3.84702039e+00\n",
      "  5.17906475e+00  2.53625178e+00  1.18608475e+00  1.72142220e+01\n",
      "  4.10806608e+00  9.90650654e+00  2.11616917e+01  8.75276089e+00\n",
      "  3.54472804e+00  1.15546155e+00  2.05090714e+00 -9.35012177e-02\n",
      "  5.23756266e+00  8.70973682e+00  1.24835052e+01  1.38116503e+01\n",
      "  2.39569168e+01  6.65129566e+00  1.77727735e+00  2.28853989e+00\n",
      "  8.28219318e+00  1.47244370e+00  3.93725228e+00  2.21848850e+01\n",
      "  6.41858721e+00  1.18677292e+01  2.68497658e+00 -1.05053198e+00\n",
      "  9.52961731e+00  1.14852390e+01  7.21628475e+00  3.85035157e+00\n",
      " -5.32122135e-01  5.54258394e+00  3.19748235e+00 -4.15259552e+00\n",
      "  3.43869805e+00  2.20158615e+01  1.76828156e+01 -1.50648570e+00\n",
      "  1.55161791e+01  1.54707277e+00  2.49395347e+00 -4.32805824e+00\n",
      " -4.24314547e+00 -2.84114289e+00 -5.01052856e+00  4.98206329e+00\n",
      " -1.17096394e-01  1.00166357e+00  1.99351120e+00 -1.16924438e+01\n",
      "  2.68010283e+00 -8.10553193e-01 -6.11050785e-01 -4.43020868e+00\n",
      "  1.19281864e+01  1.12761717e+01  5.04414701e+00  1.31224811e+00\n",
      "  6.37142849e+00 -3.58359981e+00  1.08053255e+01 -9.58446312e+00\n",
      " -2.22775841e+00 -3.82488012e-01  7.64396143e+00 -3.46886444e+00\n",
      "  4.26800966e+00 -1.06508064e+01  8.66858101e+00  2.88955539e-01\n",
      " -5.65923929e-01  8.00067711e+00  8.23245335e+00 -2.49428439e+00\n",
      "  1.05873318e+01  5.71712971e+00  4.16878319e+00 -8.46610165e+00\n",
      "  1.42127447e+01 -2.96715808e+00  9.87592316e+00  3.67984915e+00\n",
      "  7.03621817e+00 -5.36249876e-01 -5.58891371e-02  1.52834511e+01\n",
      "  1.09047403e+01  2.36047482e+00 -6.10480690e+00  1.07877769e+01\n",
      "  1.66112080e+01  2.10969086e+01  4.04426479e+00  1.12996492e+01\n",
      "  1.58611977e+00  2.33555012e+01  6.53559351e+00 -1.04828703e+00\n",
      "  4.41319513e+00  3.37345004e+00  1.23920298e+01 -1.94662428e+00\n",
      "  5.19030035e-01  4.88289893e-01 -1.14769459e+01 -2.63999534e+00\n",
      "  1.16987505e+01  4.56959391e+00  1.09767771e+01  1.93497124e+01\n",
      "  1.41727328e+00 -2.79353380e-01 -1.75658000e+00  7.31819439e+00\n",
      " -3.25625467e+00  5.06982841e-02  2.68874240e+00 -7.01273203e-01\n",
      "  4.82021809e+00  2.12625866e+01  4.33823204e+00  1.31182880e+01\n",
      " -6.90846872e+00  2.09432106e+01 -1.17588472e+01  1.73349304e+01\n",
      " -2.39766464e-01  6.52606726e+00  4.19544411e+00  2.98684764e+00\n",
      "  5.84380686e-01  7.61452389e+00 -6.98849010e+00  1.93533554e+01\n",
      "  3.73048806e+00  6.94751120e+00  1.64782276e+01  1.98567162e+01\n",
      "  2.10265980e+01 -8.03714752e-01  6.94218206e+00  4.74059820e+00\n",
      " -2.96413469e+00  7.31203794e-01 -3.66924572e+00  6.50204039e+00\n",
      "  7.79571009e+00  2.05258503e+01  1.92404346e+01  1.34938693e+00\n",
      " -1.20815821e+01  1.54098597e+01  5.18571901e+00  5.27914953e+00\n",
      "  3.84653628e-01 -6.85543346e+00 -1.26919556e+00  2.90429306e+00\n",
      "  1.16345959e+01 -1.23771060e+00  2.87214680e+01 -2.78134942e+00\n",
      "  2.26312027e+01  1.36308928e+01  2.08867168e+00  6.07417941e-01\n",
      " -1.01112759e+00 -1.92700517e+00  1.63225842e+01 -7.18034983e-01\n",
      "  3.00942802e+00 -2.45143414e+00  2.53862286e+01  3.80768661e+01\n",
      "  1.59799700e+01 -1.26362143e+01  1.41519575e+01  3.98145981e+01\n",
      "  2.74851818e+01  2.77396297e+00  5.09832478e+00  3.06911659e+01\n",
      "  2.80155563e+00  2.14848194e+01  2.15229964e+00  3.48655739e+01\n",
      "  5.96340084e+00  2.19407520e+01 -8.15504074e+00 -8.89529037e+00\n",
      "  2.63875341e+00  2.68653297e+00  2.13082294e+01  3.68010902e+01\n",
      "  1.31454515e+01 -6.07554555e-01  2.05788827e+00  1.45470495e+01\n",
      "  2.81223907e+01 -1.01877880e+00  1.65228863e+01  4.08253002e+00\n",
      " -4.42852926e+00  1.68648891e+01  3.40352654e+00  5.46267843e+00\n",
      "  2.39104003e-01  2.46932316e+01  2.01291351e+01 -3.22619653e+00\n",
      "  8.14536762e+00  1.68375721e+01 -1.94940174e+00  2.89240875e+01\n",
      "  1.61210861e+01 -2.15626507e+01  3.29564018e+01  2.68078184e+00\n",
      "  2.23828340e+00  2.99447751e+00 -9.76582050e+00  6.59547091e+00\n",
      "  1.46922350e+01  1.80775499e+00 -1.33498812e+00  1.03085880e+01\n",
      "  1.20533428e+01  3.23096123e+01  9.32695675e+00  2.37077117e+00\n",
      "  1.08556805e+01  1.07809439e+01  1.25852835e+00  3.74057884e+01\n",
      "  4.54363251e+00  3.38369637e+01  1.65969601e+01  2.83286834e+00\n",
      "  1.94461346e+01  1.54024525e+01  2.29373121e+00  9.87322903e+00\n",
      "  2.90358639e+01 -7.15600252e-01  5.43251514e+00  4.99503279e+00\n",
      "  1.75259857e+01  1.07678957e+01  1.35277009e+00  2.76783633e+00\n",
      "  6.88498974e+00  3.79762344e+01  3.03201008e+01  1.51141500e+01\n",
      "  5.00025511e+00  2.10695648e+00  4.31546068e+00 -7.39544106e+00\n",
      " -1.10230522e+01  1.60839157e+01  2.35948277e+01  2.57179508e+01\n",
      "  4.15271149e+01 -1.04576266e+00  3.28408289e+00  6.77144814e+00\n",
      "  2.29612713e+01  2.12722149e+01  4.61984444e+00  1.12186337e+01\n",
      "  2.36467624e+00 -6.30028534e+00 -1.96875024e+00  1.85551906e+00\n",
      "  2.74761848e+01 -4.50252438e+00  5.06472063e+00  3.91890945e+01\n",
      " -4.75182724e+00  2.76116409e+01 -5.68772650e+00  9.72299099e-01\n",
      " -9.68130684e+00  3.37204933e+00  7.85184002e+00  1.37768555e+01\n",
      "  1.28500118e+01  2.00024471e+01 -4.25044394e+00  6.13306427e+00\n",
      "  3.19800014e+01  7.65458775e+00  7.09680542e-02  2.01382504e+01\n",
      " -6.58837461e+00  4.22470818e+01  6.54057550e+00  4.00309849e+00\n",
      "  2.44602451e+01  1.69931564e+01  1.28850985e+00 -2.04726219e+00\n",
      "  2.82100506e+01  6.72974253e+00  6.54295206e+00  1.46056957e+01\n",
      "  5.90888798e-01  2.13510838e+01  1.99902229e+01  1.55919993e+00\n",
      "  7.55216539e-01 -1.08893976e+01  8.05339432e+00 -2.28706036e+01\n",
      " -9.54002571e+00 -6.50611210e+00  3.95893288e+00 -4.24843836e+00\n",
      "  2.24551868e+00 -6.60200739e+00  7.54895568e-01 -1.26918077e+01\n",
      " -7.38769150e+00 -4.28846693e+00 -4.42411518e+00 -6.38096905e+00\n",
      " -6.92868137e+00 -4.33297110e+00 -5.22627211e+00  4.50424337e+00\n",
      " -3.80137897e+00 -3.20801234e+00  1.52975857e+00 -1.46117306e+00\n",
      " -4.24085808e+00 -1.37800646e+01  6.94221497e-01 -2.18110771e+01\n",
      " -2.65560436e+01 -1.97257710e+00  1.69072545e+00  2.30975461e+00\n",
      " -5.75284576e+00 -1.74057275e-01 -2.14631004e+01 -1.17443151e+01\n",
      " -5.73304415e+00 -6.85763979e+00 -8.71876717e+00 -2.47761655e+00\n",
      " -8.33906746e+00  5.39916992e+00 -8.56198788e+00 -8.80114841e+00\n",
      "  4.03946352e+00 -1.30280457e+01 -1.04336233e+01 -2.28967648e+01\n",
      " -4.70440006e+00 -6.71249151e+00 -6.20704365e+00 -4.40290403e+00\n",
      "  3.59403634e+00  6.51031137e-01 -7.03285277e-01 -2.03869557e+00\n",
      " -7.02836275e+00 -9.13231087e+00 -4.91430473e+00 -1.41131315e+01\n",
      "  1.54893327e+00 -9.86446095e+00  1.26189125e+00 -1.25285339e+01\n",
      " -3.71152043e+00  1.20896900e+00 -1.40441542e+01 -6.99807465e-01\n",
      " -3.97970986e+00 -1.19264412e+01  1.50257063e+00 -2.30091057e+01\n",
      " -2.50508022e+01 -8.69116902e-01 -6.64221668e+00  6.33450794e+00\n",
      " -1.58978271e+01  2.36211562e+00 -1.04443588e+01 -5.92181635e+00\n",
      " -6.06368876e+00 -3.69195771e+00 -1.26223650e+01 -2.17498779e+00\n",
      " -1.48885238e+00  1.23716068e+00 -2.52345219e+01 -2.31475048e+01\n",
      " -1.48071127e+01  3.35416579e+00  3.18626428e+00  3.49658132e+00\n",
      " -2.57400966e+00  5.21212435e+00 -1.62367845e+00 -1.37940717e+00\n",
      " -5.66514111e+00  1.00032878e+00 -5.11430204e-01 -2.27175293e+01\n",
      " -2.24329591e+00 -2.33026428e+01 -2.70695820e+01  2.27839756e+00\n",
      "  2.15377420e-01 -1.03767490e+01  4.01924181e+00  1.44527702e+01\n",
      " -4.74077988e+00  3.86340189e+00  1.92353934e-01  2.19440237e-01\n",
      "  1.65292144e+00 -2.99883747e+01 -5.15781307e+00 -8.56769848e+00\n",
      " -3.05333495e+00 -7.63643503e+00 -1.62227364e+01  3.67602062e+00\n",
      "  7.66387582e-01 -3.31687045e+00 -1.17101374e+01 -4.82887745e+00\n",
      "  2.80041528e+00 -9.36948490e+00 -7.12295675e+00 -4.20497799e+00\n",
      " -3.18882160e+01 -1.27463365e+00 -1.08722982e+01  3.84880209e+00\n",
      "  2.91676188e+00  5.52208424e-01  6.45411015e+00 -1.43157855e-01\n",
      "  2.27589893e+00 -4.06303692e+00 -2.36014004e+01 -4.72294378e+00\n",
      " -1.37535834e+00 -2.57755309e-01 -3.04526353e+00 -2.72934270e+00\n",
      " -4.06958628e+00  1.30760086e+00  1.40734816e+00  2.67590213e+00\n",
      " -5.25122213e+00 -3.39990944e-01 -8.63570404e+00  1.11158361e+01\n",
      " -9.35605526e+00  8.98077965e-01  3.00430870e+00 -2.35613441e+01\n",
      " -1.95734196e+01 -2.13602495e+00 -1.11239824e+01  2.95746654e-01\n",
      " -8.52060890e+00 -5.70597124e+00  1.13517237e+01 -1.78702742e-01\n",
      " -4.09761333e+00 -5.26613522e+00 -1.42480249e+01  6.89564764e-01\n",
      " -1.34936643e+00 -6.10557508e+00 -4.66126442e+00  1.70463085e+00\n",
      " -1.29436493e+00  5.68418428e-02  2.19250703e+00 -5.45973635e+00\n",
      " -2.51102638e+01 -9.60081935e-01 -7.36952257e+00 -1.63165963e+00\n",
      "  3.74771190e+00 -3.59610701e+00  5.57118654e-01  7.51438951e+00\n",
      "  4.52479219e+00 -2.33018703e+01 -8.45957375e+00 -9.36130619e+00\n",
      " -4.88098717e+00 -3.39173913e+00 -2.68061376e+00 -2.91896486e+00\n",
      " -5.76624250e+00 -2.14883785e+01  4.49605417e+00 -2.03270016e+01\n",
      " -3.75061941e+00  8.99731445e+00 -4.59310627e+00 -8.13934803e+00\n",
      " -2.15815544e+00 -1.46109581e+01  5.09019232e+00  1.11963665e+00\n",
      " -8.59710503e+00 -4.80715990e+00 -1.16821985e+01 -1.53592217e+00\n",
      " -1.65413971e+01  9.59742785e-01 -4.95261049e+00 -1.12867746e+01\n",
      " -1.05665817e+01 -1.74118328e+01 -9.09007740e+00 -1.26668549e+01\n",
      "  3.75602078e+00  1.01152992e+00 -1.11817703e+01 -8.61258805e-01\n",
      "  1.84447229e+00  2.60317588e+00  5.77346754e+00  2.88905406e+00\n",
      "  3.81809640e+00 -2.50575867e+01 -1.19076090e+01 -4.38134346e+01\n",
      " -1.68230934e+01  2.21199107e+00 -1.47939434e+01 -2.21469040e+01\n",
      " -2.94777393e+01 -9.35282898e+00 -2.07370639e+00 -3.48228912e+01\n",
      "  9.92928314e+00 -5.23695564e+00 -1.55282726e+01  3.43942237e+00\n",
      " -7.54574358e-01 -3.12583327e+00 -4.39096413e+01 -2.71783581e+01\n",
      " -1.72805252e+01  2.74846649e+00 -2.62023926e+00 -1.34621277e+01\n",
      " -1.61897957e-01  6.83914483e-01 -2.42944164e+01  4.11009693e+00\n",
      " -2.04066391e+01 -5.26638460e+00 -4.51982307e+01  3.32608867e+00\n",
      " -2.12995548e+01 -3.76278152e+01 -2.50095940e+01 -8.93310165e+00\n",
      " -1.01153145e+01 -1.67475815e+01  2.06083145e+01 -3.09714246e+00\n",
      " -7.68986082e+00  6.63453579e+00 -4.28622603e-01 -4.52445412e+00\n",
      " -2.34739304e+01 -1.07869930e+01 -3.02264977e+01  1.62325573e+00\n",
      " -3.12489491e+01 -8.88938618e+00 -5.36533403e+00 -1.55253344e+01\n",
      " -8.29012680e+00 -8.70913506e+00 -2.17279129e+01 -8.84213257e+00\n",
      " -1.81980133e+00 -9.66309786e-01  1.20429826e+00 -2.83626914e-02\n",
      " -3.38867688e+00 -3.17808533e+00 -1.34637184e+01 -1.14616079e+01\n",
      " -1.29728413e+01 -9.10756874e+00 -3.64870167e+00 -1.10932608e+01\n",
      "  1.14745700e+00 -4.04170275e+00 -3.28570824e+01 -8.54906940e+00\n",
      "  9.50395679e+00 -3.44177866e+00  4.59086037e+00  5.70876408e+00\n",
      "  1.22066200e+00 -5.85227203e+00 -2.36197319e+01 -2.77515297e+01\n",
      " -4.40968323e+00 -1.45265980e+01 -2.20892925e+01 -3.20322495e+01\n",
      "  1.12593966e+01 -1.01625490e+01 -8.55957222e+00  2.40960655e+01\n",
      "  4.55290318e+00 -4.26172676e+01 -2.72375164e+01 -9.52135849e+00\n",
      " -2.47928238e+01 -8.92313862e+00 -5.25099897e+00  8.67328835e+00\n",
      " -1.32222891e+01  1.88507252e+01 -2.85286732e+01 -8.35629749e+00\n",
      " -1.65215893e+01 -6.86556482e+00  1.58032191e+00 -9.99526405e+00\n",
      " -1.62655163e+00 -4.16889420e+01 -6.98195505e+00 -2.43945904e+01\n",
      " -4.52141762e+00 -1.64102306e+01  1.14458761e+01  6.31927729e-01\n",
      " -2.70055981e+01 -7.85866165e+00]' has dtype incompatible with int64, please explicitly cast to a compatible dtype first.\n",
      "  preds[val_index] = model.predict(dval_i)\n"
     ]
    },
    {
     "name": "stderr",
     "output_type": "stream",
     "text": [
      "\r",
      " 90%|█████████████████████████████████████████████████████████████████████████████████████████████████████████████████████████████████████▏              | 9/10 [02:14<00:14, 14.10s/it]"
     ]
    },
    {
     "name": "stderr",
     "output_type": "stream",
     "text": [
      "C:\\Users\\81809\\AppData\\Local\\Temp\\ipykernel_9064\\3386215446.py:18: FutureWarning: Setting an item of incompatible dtype is deprecated and will raise an error in a future version of pandas. Value '[  2.5856295   14.508714    -6.3602176   12.180073    21.439663\n",
      "   1.2990478    2.6205084   -4.3501706    5.713148    -5.9587545\n",
      "  -3.501873    18.437273    26.606485    -0.07616618   1.4019262\n",
      "   1.8707412    0.9851571    7.3264194    1.37153      2.692355\n",
      "   2.1144202    3.3731544    1.8234229    4.203572     3.824034\n",
      "  -0.6288988    7.465597    -2.7998066    9.577053    -1.1431277\n",
      "  -3.7039025    5.886237    -2.5076904   26.555315    15.420165\n",
      "  -2.1381023   -0.07959225  -1.980218    -3.0974832    6.150964\n",
      "   7.225304    -1.449506     2.1463218   -3.7668986    0.05341119\n",
      "  -7.7084637    3.0171597   16.318132     7.648171    -6.5552673\n",
      "   6.164752    -4.6672716    6.923582     1.98732     -1.1579517\n",
      "   1.3956435   -5.1477723    9.861276    24.540667    14.560206\n",
      "   6.2387366    2.738003     4.416497    15.176425     4.0278044\n",
      "  -0.55970037   1.9262111    5.2597103    7.0865555   17.6556\n",
      "   5.7568045    0.6624692    8.359973     2.4251559   -0.49237674\n",
      "   4.5283146   23.09202      1.314494    -1.864083     1.8103268\n",
      "   4.052998    -2.8594327    7.968348     2.2668502    0.45322394\n",
      "  10.648452    23.701742     7.7464085   13.246795   -10.042658\n",
      "  -5.8318534    1.5212096   21.52609     -1.1178064    3.793912\n",
      "   6.5901484   12.497424     0.1636204    4.8687377   -5.5033517\n",
      "   2.2769668   12.915286    -9.607273    -4.9837017    9.830001\n",
      "   8.366341     1.3399044    4.0594916   -1.7606752    5.751103\n",
      "   0.380803    -1.0833136   20.72687     13.448796    18.096708\n",
      "   6.52274      0.9480174  -15.491412     5.082698     0.39134723\n",
      "  -1.1490215    9.902084    -6.5219674    1.1811506   23.07478\n",
      "   6.3973756    3.7865562   -6.999115     1.2111361    1.4285393\n",
      "   0.82050097   5.259627     7.2943892    1.502303     5.978693\n",
      "  -3.0809617   11.8338      15.0919895   -0.26695928   0.6543295\n",
      "   1.8065785   -3.0900075   -7.064315    -0.723843    -2.4296093\n",
      "  -2.0309827   -1.0569992   15.290109    11.784102     3.8739996\n",
      " -11.452216     6.289491     5.1476502    5.570991    -5.7622967\n",
      "   0.33688036   2.702636     4.019852    -9.623246     0.36939502\n",
      "   4.065211    -3.0694065    1.6290442    5.0170374   -5.969511\n",
      "  -2.1736436    1.8469695   -3.2772388   22.377266    10.643948\n",
      "  -4.689979    -5.5179405    5.172122   -16.536613    -2.9844348\n",
      "  21.41175     -2.3031702   18.57783      1.0123656    9.013669\n",
      "   3.1747503    5.35731      3.8390229    1.6898322   -1.3023044\n",
      "  -0.7093011    7.1845126    3.9665864    8.823859    19.838383\n",
      "   2.8292134   -4.185609    -2.8900888    1.0029846   16.32807\n",
      "  -1.4793462    0.48039755  -3.918602    12.701588     4.576919\n",
      "   9.141983    10.429964    21.199675    -0.64042014  -0.16143872\n",
      "   0.8940605   16.921867   -22.971458     6.838465     2.3482432\n",
      "   6.196136    -4.8419333    4.1402574    5.3217564   -2.6061027\n",
      "  -2.1007001    5.444871     4.679123    -0.7225199    0.7134854\n",
      "  -4.4711204   10.731904     3.8314261   19.161446    23.964752\n",
      "  -0.1725883   -0.6188737   11.989651    -0.57884884  -2.2971997\n",
      "   9.48378     19.002539     5.3207974   15.512703     5.2255025\n",
      "   4.645375     3.0095963   11.615925    44.510048    29.515102\n",
      "  -5.0291963   17.19136     -2.050795     4.926607    17.388676\n",
      "  23.860659    -6.053346    -1.8298757   10.283151    -0.19144604\n",
      "  37.97258     31.398066     0.17789173  36.824642    15.295945\n",
      "   1.3911825   21.67226     -6.569828    -5.969991    21.28908\n",
      "  11.235515     1.6271912   41.16167      3.3119116   26.93022\n",
      " -14.112746    36.01026      0.5624517    2.2127106   16.496618\n",
      "   5.309644    16.414572    -5.2195735    0.08838029  14.6084175\n",
      "  12.293743    -1.5314198   14.40404     -2.6055474    8.038423\n",
      "   5.868125     4.841986    28.767803    19.396338    -7.4208827\n",
      "  15.640086     0.5110608   -5.9977427   -7.217277    -0.97831017\n",
      "  10.026563     0.6057361   -4.3393664   16.7384      -5.296097\n",
      "  23.422997    -4.0010147    2.601853    28.356697    13.866394\n",
      "   1.5677319   -7.885395    -0.36170822  10.266691    27.03547\n",
      "  -1.893256    -7.6118436   -1.8614918    8.134613     6.1019526\n",
      "   1.4353456   17.011114     9.479082    11.455458     2.4967437\n",
      "  26.21825     14.127202    -4.686217    48.14456      5.792188\n",
      "  -4.7766213   33.624104    -5.1981173   33.589397     0.9398227\n",
      "   5.7989697    1.1510314   25.315693     9.875162    11.217168\n",
      "  19.686234     8.3685255   24.334114    31.684242     5.0816703\n",
      "   1.5327275   27.781332   -22.618307    -2.349534    28.439213\n",
      "   7.9228797   22.861206    41.90727     21.159113     1.2788018\n",
      "  16.22302     22.547745    -4.12122      6.2145047   23.015257\n",
      "  31.70011      6.9514136   18.440567     4.025314    -1.7387961\n",
      "  23.917473    29.069006     1.9374975   -6.7834306    1.3852011\n",
      "   3.2534964    4.1302447    9.211112    -2.2199988   -0.32352772\n",
      " -13.572749   -21.516035   -11.084315     1.4830567  -11.538477\n",
      "  -3.2857335  -24.627283     6.0231757   -7.5547643   -7.633436\n",
      "   3.0790067   -6.9017844    3.6019797   -6.740078    -3.419433\n",
      "   3.685249   -14.365708    -8.812263   -16.71773     -7.0527625\n",
      "  -5.9918866    1.8367071    3.2073708   -7.166004   -10.077955\n",
      "  -3.6767492   -8.768064    -4.6648645   -4.9848013   -5.652212\n",
      "   6.0276895   -3.141569     3.613137    -6.1554294    0.9864787\n",
      "   3.853883    11.279045    -3.4240682  -22.753271   -23.850317\n",
      "   1.1606864   -2.3890467    3.5902202    5.3046546   -8.284673\n",
      "  -3.2308886   -5.693666     2.342336   -18.645823     1.6043873\n",
      "  -9.716385   -14.692155     9.897314    -3.3969429   -4.359878\n",
      "  -4.8622084    3.0268157   -9.438083    -0.9701127   -8.363029\n",
      "  -5.565206    -0.16365272  -3.713283   -26.335955   -18.651867\n",
      "   6.9751573  -10.574995     3.17374    -24.04364     -7.60464\n",
      "  -0.97626364 -16.659487     1.9472873  -15.280784   -10.453694\n",
      " -15.942302    -8.2821245   -3.673239    -4.7457175   -5.9624376\n",
      "  -2.2361002  -21.578827    -2.3586197   -6.064681    -2.9001427\n",
      "   2.0259967  -14.388927     3.1368108   -2.7290184   -5.8981037\n",
      "   5.202715    -8.447972     0.1209669    0.5288987    6.5580745\n",
      " -25.133442    -1.2493185  -16.180643     5.444106    -9.153842\n",
      "  -3.1198368  -11.041995    -5.379287     1.66699     -6.83645\n",
      "   5.149387    -7.7775655   -1.1840715   -8.870621     0.8733176\n",
      "  -5.650326    -1.8741475   -4.8979793   -0.22641781  -9.231088\n",
      "   1.8268455   11.704683     4.384044     7.3480396   -4.2718177\n",
      "  -7.6756573   -2.6055934    2.785061    -1.2239217   -4.595164\n",
      "  -0.07196824  -6.07978    -21.561995   -15.306423    -2.7160873\n",
      "  -4.516019     7.1309896   -4.2184887   -6.798907    -1.0941541\n",
      "   0.3957107  -10.666073     0.559172     3.1279082  -12.8481245\n",
      " -10.953067    -1.4240774   11.901692    -6.346182   -13.596018\n",
      "  -0.5126742  -10.405287     2.1006718   -0.6116193   -6.712482\n",
      " -14.59052      3.6337917   -5.4369326   -0.8557729  -15.984233\n",
      "  -2.504919     5.3663425   -2.404671    -5.6095667   -0.53052473\n",
      "  -3.1892924    0.61056006   7.2127967   -2.1746058    3.8149915\n",
      " -22.414467   -28.110235   -19.000362   -18.372822     1.2641385\n",
      "   0.43044534  -3.5086787  -14.43658     -6.9175906  -10.741672\n",
      "  -0.2211116   -6.563498   -16.767986     2.0999706   -3.9188354\n",
      "   2.3491046   -9.407359    -3.31644    -17.210701   -18.907972\n",
      "   2.2371504   -5.2823486    5.735307   -12.795252     1.0230676\n",
      "   0.9864775  -15.119019   -19.073278     2.7566936  -26.515324\n",
      " -15.34338      5.424753     0.35240158  -6.3515825  -10.114809\n",
      "   9.320717   -18.310905   -16.35855     -6.629049     0.8328083\n",
      "   1.1134567  -25.635874    -4.269684     2.2970207   -3.603922\n",
      "  -5.872926    -5.543794    -9.482825   -37.857883    12.107709\n",
      "  -4.2687416    9.619901    -5.486169   -14.524486   -15.800326\n",
      " -12.875785    -6.3304873   -8.004317    -2.6423259  -28.117376\n",
      "  -7.1512113   -2.9774754  -15.413164     2.6429818  -21.02545\n",
      "  -2.2827048  -21.783585   -29.325674     7.08216    -20.59084\n",
      "  -4.451413   -30.870607   -12.45603    -37.453266    -2.9759543\n",
      "  11.966213    17.316456   -27.04062    -16.54004    -17.743572\n",
      " -10.463008    -9.591983    -5.8453617  -32.96382    -33.50314\n",
      "   2.8617895  -23.957102     0.69694656 -10.402426   -30.7451\n",
      "  -6.961885     2.9024355  -29.236814    -2.079045   -21.52787\n",
      " -15.026045     1.014592   -14.7417145  -11.850264    -6.588475\n",
      "  -1.0189427    3.0689778  -11.838102     0.4738338   -3.422404\n",
      " -22.1273       4.8164434  -45.181774   -12.255001    -1.0403359\n",
      " -14.805259    -3.2472298   -0.6910277  -11.800948    -6.564729\n",
      "  -3.5333729  -14.18507     -7.354404   -21.188864   -48.25994\n",
      "   0.94995314 -19.129658    -0.23937014 -11.293845    18.70046\n",
      "  -5.154591    -8.029232   -32.317623   -32.27141    -29.538097\n",
      "  -1.4637558  -30.707243     1.0825311   -5.7171965   -7.560054\n",
      " -19.86542     -5.7531896   -5.23492     14.663545    10.820887\n",
      "  -7.390935    23.965448    -3.2280266  -33.15363    -31.389761\n",
      "  -5.965673     4.685932     7.7045827  -24.400358     3.9713109\n",
      " -17.204615   -31.159134    -1.6776453  -24.182161   -11.9037485\n",
      "  -6.657116    13.498127     7.3413854  -17.348728   -30.754257\n",
      "  -9.743143    -7.1817765  -16.7691     -23.389317   -16.74991\n",
      "   6.532738    -0.17230117 -23.052195  ]' has dtype incompatible with int64, please explicitly cast to a compatible dtype first.\n",
      "  preds[val_index] = model.predict(dval_i)\n"
     ]
    },
    {
     "name": "stderr",
     "output_type": "stream",
     "text": [
      "\r",
      "100%|███████████████████████████████████████████████████████████████████████████████████████████████████████████████████████████████████████████████████| 10/10 [02:26<00:00, 13.32s/it]"
     ]
    },
    {
     "name": "stderr",
     "output_type": "stream",
     "text": [
      "\r",
      "100%|███████████████████████████████████████████████████████████████████████████████████████████████████████████████████████████████████████████████████| 10/10 [02:26<00:00, 14.64s/it]"
     ]
    },
    {
     "name": "stdout",
     "output_type": "stream",
     "text": [
      "OOF predictions complete\n"
     ]
    },
    {
     "name": "stderr",
     "output_type": "stream",
     "text": [
      "\n"
     ]
    }
   ],
   "source": [
    "# OOF予測\n",
    "oof_preds = []\n",
    "for i in tqdm(range(repeat_cv), leave=True, dynamic_ncols=True):\n",
    "    # 初期はターゲットの値で初期化（後で上書き）\n",
    "    preds = y.copy()\n",
    "    # 各 repeater 毎に独自の KFold を用いる（random_state = i）\n",
    "    kfold = KFold(n_splits=folds_splits, shuffle=True, random_state=i)    \n",
    "    for train_index, val_index in kfold.split(X, y):\n",
    "        dtrain_i = xgb.DMatrix(X.iloc[train_index], label=y.iloc[train_index])\n",
    "        dval_i   = xgb.DMatrix(X.iloc[val_index], label=y.iloc[val_index])\n",
    "\n",
    "        model = xgb.train(\n",
    "            params=param,\n",
    "            dtrain=dtrain_i,\n",
    "            num_boost_round=iteration_counts[i],\n",
    "            verbose_eval=50\n",
    "        )\n",
    "        preds[val_index] = model.predict(dval_i)\n",
    "    # 予測値を -30 ～ 30 にクリップ\n",
    "    oof_preds.append(np.clip(preds, -30, 30))\n",
    "\n",
    "print(\"OOF predictions complete\")"
   ]
  },
  {
   "cell_type": "code",
   "execution_count": 24,
   "id": "261f4070",
   "metadata": {
    "execution": {
     "iopub.execute_input": "2025-03-12T12:33:02.885947Z",
     "iopub.status.busy": "2025-03-12T12:33:02.885947Z",
     "iopub.status.idle": "2025-03-12T12:33:02.991146Z",
     "shell.execute_reply": "2025-03-12T12:33:02.991146Z"
    },
    "papermill": {
     "duration": 0.131494,
     "end_time": "2025-03-12T12:33:02.991146",
     "exception": false,
     "start_time": "2025-03-12T12:33:02.859652",
     "status": "completed"
    },
    "tags": []
   },
   "outputs": [
    {
     "data": {
      "text/plain": [
       "<Axes: >"
      ]
     },
     "execution_count": 24,
     "metadata": {},
     "output_type": "execute_result"
    },
    {
     "data": {
      "image/png": "[encoded data removed]",
      "text/plain": [
       "<Figure size 640x480 with 1 Axes>"
      ]
     },
     "metadata": {},
     "output_type": "display_data"
    }
   ],
   "source": [
    "oof_preds[0].hist()"
   ]
  },
  {
   "cell_type": "code",
   "execution_count": 25,
   "id": "ea450aae",
   "metadata": {
    "execution": {
     "iopub.execute_input": "2025-03-12T12:33:03.024580Z",
     "iopub.status.busy": "2025-03-12T12:33:03.024580Z",
     "iopub.status.idle": "2025-03-12T12:33:03.053504Z",
     "shell.execute_reply": "2025-03-12T12:33:03.053504Z"
    },
    "papermill": {
     "duration": 0.052368,
     "end_time": "2025-03-12T12:33:03.054512",
     "exception": false,
     "start_time": "2025-03-12T12:33:03.002144",
     "status": "completed"
    },
    "tags": []
   },
   "outputs": [],
   "source": [
    "### simple spline, seed(1, 16)~(4, 13)は強制的にfiltaring,  \n",
    "### seed値に対応して予測スコアも同じ大小関係なら1or0に変換の3モデル\n",
    "def cal_logloss(pred_vals, y, i):\n",
    "    y_binary = np.where(y > 0, 1, 0)\n",
    "    loss = log_loss(y_binary, pred_vals)\n",
    "    print(f\"logloss of cvsplit {i}: {loss:.4f}\")\n",
    "\n",
    "\n",
    "    results.append(f\"Normal Spline - logloss of cvsplit {i}: {loss:.4f}\")\n",
    "    return loss\n",
    "\n",
    "#simple spline\n",
    "def make_normal_spline(df, y, repeat_cv):\n",
    "    spline_model1 = []\n",
    "    logloss_normal = []\n",
    "    \n",
    "    for i in range(repeat_cv):\n",
    "        dat = list(zip(df[i], np.where(y>0, 1, 0)))\n",
    "        dat = sorted(dat, key=lambda x:x[0])\n",
    "        datdict = {}\n",
    "        for k in range(len(dat)):\n",
    "            datdict[dat[k][0]] = dat[k][1]\n",
    "        \n",
    "        spline_model1.append(UnivariateSpline(list(datdict.keys()), list(datdict.values())))\n",
    "        spline_fit = spline_model1[i](df[i])\n",
    "        \n",
    "        loss = cal_logloss(spline_fit, y, i)    \n",
    "        logloss_normal.append(loss)\n",
    "\n",
    "    plot_df = pd.DataFrame({\n",
    "        \"pred\": df[0],\n",
    "        \"label\": np.where(y>0,1,0),\n",
    "        \"spline\": spline_model1[0](df[0])\n",
    "    })\n",
    "    plot_df[\"pred_int\"] = plot_df[\"pred\"].astype(int)\n",
    "    plot_df = plot_df.groupby('pred_int')[['spline','label']].mean().reset_index()\n",
    "    \n",
    "    plt.figure(figsize=(8, 5))\n",
    "    plt.plot(plot_df.pred_int, plot_df.label, marker='o', linestyle='-', label=\"True Label\")\n",
    "    plt.plot(plot_df.pred_int, plot_df.spline, marker='x', linestyle='--', label=\"Spline Approximation\")\n",
    "    plt.xlabel(\"Predicted Value (Integer)\")\n",
    "    plt.ylabel(\"Mean Value\")\n",
    "    plt.title(\"Normal Spline Fit Comparison\")\n",
    "    plt.legend()\n",
    "    plt.grid(True)\n",
    "    plt.savefig(os.path.join(OUTPUT_PATH, f\"normal_spline_fit_{PREDICT_YEAR}.png\"))\n",
    "    plt.close()\n",
    "    \n",
    "    \n",
    "    # 例として平均loglossもresultsに記録\n",
    "    avg_logloss = np.mean(logloss_normal) \n",
    "    results.append(f\"Average Normal Spline logloss: {avg_logloss:.4f}\" if avg_logloss is not None else \"No logloss computed\")\n",
    "    \n",
    "    return spline_model1\n",
    "            \n",
    "            \n",
    "#seed(1, 16)~(4, 13)は強制的にseed通りの結果にフィルタリング\n",
    "def make_seed1to4_chenge(df, y, repeat_cv):\n",
    "    spline_model2 = []\n",
    "    spline_fits = []\n",
    "    for i in range(repeat_cv):\n",
    "        dat = list(zip(df[i], np.where(y>0, 1, 0)))\n",
    "        dat = sorted(dat, key=lambda x:x[0])\n",
    "        datdict = {}\n",
    "        for k in range(len(dat)):\n",
    "            datdict[dat[k][0]] = dat[k][1]\n",
    "        \n",
    "        spline_model2.append(UnivariateSpline(list(datdict.keys()), list(datdict.values())))\n",
    "        spline_fit = spline_model2[i](df[i]) \n",
    "        \n",
    "        #add\n",
    "        spline_fit[(X.T1_seed==1) & (X.T2_seed==16)] = 1.0\n",
    "        spline_fit[(X.T1_seed==2) & (X.T2_seed==15)] = 0.9\n",
    "        spline_fit[(X.T1_seed==3) & (X.T2_seed==14)] = 0.8\n",
    "        spline_fit[(X.T1_seed==4) & (X.T2_seed==13)] = 0.7\n",
    "        spline_fit[(X.T1_seed==16) & (X.T2_seed==1)] = 0.0\n",
    "        spline_fit[(X.T1_seed==15) & (X.T2_seed==2)] = 0.1\n",
    "        spline_fit[(X.T1_seed==14) & (X.T2_seed==3)] = 0.2\n",
    "        spline_fit[(X.T1_seed==13) & (X.T2_seed==4)] = 0.3\n",
    "\n",
    "    \n",
    "        cal_logloss(spline_fit, y, i)   \n",
    "                \n",
    "        spline_fits.append(spline_fit)\n",
    "        cal_logloss(spline_fit, y, i)   \n",
    "                \n",
    "    \n",
    "    plot_df = pd.DataFrame({\n",
    "        \"pred\": df[0],\n",
    "        \"label\": np.where(y > 0, 1, 0),\n",
    "        \"spline\": spline_fits[0]  # 変更後の値を利用\n",
    "    })\n",
    "    plot_df[\"pred_int\"] = plot_df[\"pred\"].astype(int)\n",
    "    plot_df = plot_df.groupby(\"pred_int\")[[\"spline\", \"label\"]].mean().reset_index()\n",
    "\n",
    "    plt.figure()\n",
    "    plt.plot(plot_df.pred_int, plot_df.label, label=\"label\")\n",
    "    plt.plot(plot_df.pred_int, plot_df.spline, label=\"spline\")\n",
    "    plt.legend()\n",
    "    plt.show()\n",
    "    \n",
    "    return spline_model2\n",
    "    \n",
    "    \n",
    "#完全に値変換するのではなくてseed値に対応して予測スコアも同じ大小関係なら1or0に変換\n",
    "def make_seed1to4_base_on_score(df, y, repeat_cv):\n",
    "    spline_model3 = []\n",
    "    spline_fits = []\n",
    "\n",
    "    for i in range(repeat_cv):\n",
    "        dat = list(zip(df[i], np.where(y>0, 1, 0)))\n",
    "        dat = sorted(dat, key=lambda x:x[0])\n",
    "        datdict = {}\n",
    "        for k in range(len(dat)):\n",
    "            datdict[dat[k][0]] = dat[k][1]\n",
    "        \n",
    "        spline_model3.append(UnivariateSpline(list(datdict.keys()), list(datdict.values())))\n",
    "        spline_fit = spline_model3[i](df[i]) \n",
    "        \n",
    "        #add\n",
    "        spline_fit[(X.T1_seed==1) & (X.T2_seed==16) & (X.T1_Score > X.T2_Score)] = 1.0\n",
    "        spline_fit[(X.T1_seed==2) & (X.T2_seed==15) & (X.T1_Score > X.T2_Score)] = 1.0\n",
    "        spline_fit[(X.T1_seed==3) & (X.T2_seed==14) & (X.T1_Score > X.T2_Score)] = 1.0\n",
    "        spline_fit[(X.T1_seed==4) & (X.T2_seed==13) & (X.T1_Score > X.T2_Score)] = 1.0\n",
    "        spline_fit[(X.T1_seed==16) & (X.T2_seed==1) & (X.T1_Score < X.T2_Score)] = 0.0\n",
    "        spline_fit[(X.T1_seed==15) & (X.T2_seed==2) & (X.T1_Score < X.T2_Score)] = 0.0\n",
    "        spline_fit[(X.T1_seed==14) & (X.T2_seed==3) & (X.T1_Score < X.T2_Score)] = 0.0\n",
    "        spline_fit[(X.T1_seed==13) & (X.T2_seed==4) & (X.T1_Score < X.T2_Score)] = 0.0\n",
    "\n",
    "        spline_fits.append(spline_fit)\n",
    "        cal_logloss(spline_fit, y, i)   \n",
    "    \n",
    "    \n",
    "    plot_df = pd.DataFrame({\n",
    "        \"pred\": df[0],\n",
    "        \"label\": np.where(y > 0, 1, 0),\n",
    "        \"spline\": spline_fits[0]  # 変更後の値を利用\n",
    "    })\n",
    "    plot_df[\"pred_int\"] = plot_df[\"pred\"].astype(int)\n",
    "    plot_df = plot_df.groupby(\"pred_int\")[[\"spline\", \"label\"]].mean().reset_index()\n",
    "\n",
    "    plt.figure()\n",
    "    plt.plot(plot_df.pred_int, plot_df.label, label=\"label\")\n",
    "    plt.plot(plot_df.pred_int, plot_df.spline, label=\"spline\")\n",
    "    plt.legend()\n",
    "    plt.show()\n",
    "    return spline_model3\n",
    "\n",
    "\n",
    "\n",
    "# Platt Scalingを用いた補正曲線生成の関数 (ロジスティック回帰)\n",
    "def make_platt_scaling(df, y, repeat_cv):\n",
    "    platt_models = []\n",
    "    logloss_platt = []\n",
    "    \n",
    "    for i in range(repeat_cv):\n",
    "        X_train = np.array(df[i]).reshape(-1, 1)\n",
    "        y_binary = np.where(y > 0, 1, 0)\n",
    "        \n",
    "        model = LogisticRegression(random_state=42, solver='lbfgs')\n",
    "        model.fit(X_train, y_binary)\n",
    "        platt_models.append(model)\n",
    "        \n",
    "\n",
    "        platt_fit = model.predict_proba(X_train)[:, 1]\n",
    "        loss = cal_logloss(platt_fit, y, i)\n",
    "        logloss_platt.append(loss)\n",
    "    \n",
    "    \n",
    "    ###\n",
    "    plot_df = pd.DataFrame({\n",
    "        \"pred\": df[0],\n",
    "        \"label\": np.where(y > 0, 1, 0),\n",
    "        \"platt\": platt_models[0].predict_proba(np.array(df[0]).reshape(-1, 1))[:, 1]\n",
    "    })\n",
    "    plot_df[\"pred_int\"] = plot_df[\"pred\"].astype(int)\n",
    "    plot_df = plot_df.groupby(\"pred_int\")[[\"platt\", \"label\"]].mean().reset_index()\n",
    "    \n",
    "    plt.figure(figsize=(8, 5))\n",
    "    plt.plot(plot_df.pred_int, plot_df.label, marker='o', linestyle='-', label=\"True Label\")\n",
    "    plt.plot(plot_df.pred_int, plot_df.platt, marker='x', linestyle='--', label=\"Platt Scaling\")\n",
    "    plt.xlabel(\"Predicted Value (Integer)\")\n",
    "    plt.ylabel(\"Mean Value\")\n",
    "    plt.title(\"Platt Scaling Calibration Curve\")\n",
    "    plt.legend()\n",
    "    plt.grid(True)\n",
    "    plt.savefig(os.path.join(OUTPUT_PATH, f\"platt_scaling_fit_{PREDICT_YEAR}.png\"))\n",
    "    plt.close()\n",
    "    \n",
    "    avg_logloss = np.mean(logloss_platt)\n",
    "    results.append(f\"Average Platt Scaling logloss: {avg_logloss:.4f}\" if avg_logloss is not None else \"No logloss computed\")\n",
    "    \n",
    "    return platt_models\n",
    "\n",
    "def make_isotonic_regression(df, y, repeat_cv):\n",
    "    \"\"\" Isotonic Regression を用いた補正曲線生成 \"\"\"\n",
    "    isotonic_models = []\n",
    "    logloss_isotonic = []\n",
    "    \n",
    "    for i in range(repeat_cv):\n",
    "        X_train = np.array(df[i]).reshape(-1, 1)\n",
    "        y_binary = np.where(y > 0, 1, 0)\n",
    "        \n",
    "        model = IsotonicRegression(out_of_bounds=\"clip\")\n",
    "        model.fit(X_train.ravel(), y_binary)\n",
    "        isotonic_models.append(model)\n",
    "        \n",
    "        isotonic_fit = model.predict(X_train.ravel())\n",
    "        loss = cal_logloss(isotonic_fit, y, i)\n",
    "        logloss_isotonic.append(loss)\n",
    "    \n",
    "    plot_df = pd.DataFrame({\n",
    "        \"pred\": df[0],\n",
    "        \"label\": np.where(y > 0, 1, 0),\n",
    "        \"isotonic\": isotonic_models[0].predict(np.array(df[0]).reshape(-1, 1))\n",
    "    })\n",
    "    plot_df[\"pred_int\"] = plot_df[\"pred\"].astype(int)\n",
    "    plot_df = plot_df.groupby(\"pred_int\")[[\"isotonic\", \"label\"]].mean().reset_index()\n",
    "    \n",
    "    plt.figure(figsize=(8, 5))\n",
    "    plt.plot(plot_df.pred_int, plot_df.label, marker='o', linestyle='-', label=\"True Label\")\n",
    "    plt.plot(plot_df.pred_int, plot_df.isotonic, marker='x', linestyle='--', label=\"Isotonic Regression\")\n",
    "    plt.xlabel(\"Predicted Value (Integer)\")\n",
    "    plt.ylabel(\"Mean Value\")\n",
    "    plt.title(\"Isotonic Regression Calibration Curve\")\n",
    "    plt.legend()\n",
    "    plt.grid(True)\n",
    "    plt.savefig(os.path.join(OUTPUT_PATH, f\"isotonic_regression_fit_{PREDICT_YEAR}.png\"))\n",
    "    plt.close()\n",
    "    \n",
    "    avg_logloss = np.mean(logloss_isotonic)\n",
    "    results.append(f\"Average Isotonic Regression logloss: {avg_logloss:.4f}\" if avg_logloss is not None else \"No logloss computed\")\n",
    "    \n",
    "    return isotonic_models\n",
    "\n"
   ]
  },
  {
   "cell_type": "code",
   "execution_count": 26,
   "id": "76c0b18d",
   "metadata": {
    "execution": {
     "iopub.execute_input": "2025-03-12T12:33:03.072957Z",
     "iopub.status.busy": "2025-03-12T12:33:03.072957Z",
     "iopub.status.idle": "2025-03-12T12:33:03.090604Z",
     "shell.execute_reply": "2025-03-12T12:33:03.090604Z"
    },
    "papermill": {
     "duration": 0.020653,
     "end_time": "2025-03-12T12:33:03.090604",
     "exception": false,
     "start_time": "2025-03-12T12:33:03.069951",
     "status": "completed"
    },
    "tags": []
   },
   "outputs": [],
   "source": [
    "# キャリブレーションカーブの描画関数\n",
    "def plot_calibration_curve(y_true, y_pred_proba, method, save_path):\n",
    "    \"\"\" キャリブレーションカーブをプロットし保存 \"\"\"\n",
    "    y_binary = np.where(y_true > 0, 1, 0) \n",
    "    prob_true, prob_pred = calibration_curve(y_binary, y_pred_proba, n_bins=10)\n",
    "    \n",
    "    plt.figure(figsize=(6,6))\n",
    "    plt.plot(prob_pred, prob_true, marker=\"o\", label=f\"{method} Calibration\")\n",
    "    plt.plot([0, 1], [0, 1], linestyle=\"--\", label=\"Perfect Calibration\")\n",
    "    plt.xlabel(\"Predicted Probability\")\n",
    "    plt.ylabel(\"Actual Probability\")\n",
    "    plt.legend()\n",
    "    plt.title(f\"{method} Calibration Curve\")\n",
    "    plt.grid()\n",
    "    plt.savefig(save_path)\n",
    "    plt.close()\n",
    "\n"
   ]
  },
  {
   "cell_type": "code",
   "execution_count": 27,
   "id": "763de9e4",
   "metadata": {
    "execution": {
     "iopub.execute_input": "2025-03-12T12:33:03.123817Z",
     "iopub.status.busy": "2025-03-12T12:33:03.123231Z",
     "iopub.status.idle": "2025-03-12T12:33:03.302134Z",
     "shell.execute_reply": "2025-03-12T12:33:03.302134Z"
    },
    "papermill": {
     "duration": 0.197186,
     "end_time": "2025-03-12T12:33:03.302134",
     "exception": false,
     "start_time": "2025-03-12T12:33:03.104948",
     "status": "completed"
    },
    "tags": []
   },
   "outputs": [
    {
     "name": "stdout",
     "output_type": "stream",
     "text": [
      "logloss of cvsplit 0: 0.5073\n",
      "logloss of cvsplit 1: 0.5078\n",
      "logloss of cvsplit 2: 0.5075\n",
      "logloss of cvsplit 3: 0.5064\n",
      "logloss of cvsplit 4: 0.5074\n",
      "logloss of cvsplit 5: 0.5068\n",
      "logloss of cvsplit 6: 0.5052\n",
      "logloss of cvsplit 7: 0.5062\n",
      "logloss of cvsplit 8: 0.5065\n",
      "logloss of cvsplit 9: 0.5067\n"
     ]
    }
   ],
   "source": [
    "# キャリブレーション手法の選択\n",
    "spline = MODEL.spline\n",
    "if spline == \"spline_normal\":\n",
    "    spline_model = make_normal_spline(oof_preds, y, repeat_cv)\n",
    "    calibrated_preds = spline_model[0](oof_preds[0])\n",
    "    plot_calibration_curve(y, calibrated_preds, \"Spline Normal\", os.path.join(OUTPUT_PATH, f\"spline_normal_calibration_{PREDICT_YEAR}.png\"))\n",
    "    \n",
    "elif spline == \"logistic\":\n",
    "    spline_model = make_platt_scaling(oof_preds, y, repeat_cv)\n",
    "    calibrated_preds = spline_model[0].predict_proba(np.array(oof_preds[0]).reshape(-1, 1))[:, 1]\n",
    "    plot_calibration_curve(y, calibrated_preds, \"Platt Scaling\", os.path.join(OUTPUT_PATH, f\"platt_scaling_calibration_{PREDICT_YEAR}.png\"))\n",
    "    \n",
    "elif spline == \"isotonic\":\n",
    "    spline_model = make_isotonic_regression(oof_preds, y, repeat_cv)\n",
    "    calibrated_preds = spline_model[0].predict(np.array(oof_preds[0]).reshape(-1, 1))\n",
    "    plot_calibration_curve(y, calibrated_preds, \"Isotonic Regression\", os.path.join(OUTPUT_PATH, f\"isotonic_regression_calibration_{PREDICT_YEAR}.png\"))"
   ]
  },
  {
   "cell_type": "markdown",
   "id": "f88b4a6b",
   "metadata": {
    "papermill": {
     "duration": 0.003712,
     "end_time": "2025-03-12T12:33:03.320262",
     "exception": false,
     "start_time": "2025-03-12T12:33:03.316550",
     "status": "completed"
    },
    "tags": []
   },
   "source": [
    "# submmit\n",
    "\n",
    "同じfeature engineeringする.\n",
    "\n",
    "個々の扱うも考える。2025は最終提出用の関数を用意する、その他2024以前は過去コンペでの提出形式に合わせる、でも年度によって提出形式が変わるからとりあえず2023でやる"
   ]
  },
  {
   "cell_type": "code",
   "execution_count": 28,
   "id": "ff23e831",
   "metadata": {
    "execution": {
     "iopub.execute_input": "2025-03-12T12:33:03.361265Z",
     "iopub.status.busy": "2025-03-12T12:33:03.361265Z",
     "iopub.status.idle": "2025-03-12T12:33:03.366184Z",
     "shell.execute_reply": "2025-03-12T12:33:03.366184Z"
    },
    "papermill": {
     "duration": 0.021183,
     "end_time": "2025-03-12T12:33:03.366184",
     "exception": false,
     "start_time": "2025-03-12T12:33:03.345001",
     "status": "completed"
    },
    "tags": []
   },
   "outputs": [
    {
     "data": {
      "text/plain": [
       "'if PREDICT_YEAR==2022:\\n    sub = pd.read_csv(os.path.join(INPUT_PATH, \"SampleSubmission2022M.csv\"))\\n    sub[\\'Season\\'] = sub[\\'ID\\'].apply(lambda x: int(x.split(\\'_\\')[0]))\\n    sub[\"T1_TeamID\"] = sub[\\'ID\\'].apply(lambda x: int(x.split(\\'_\\')[1]))\\n    sub[\"T2_TeamID\"] = sub[\\'ID\\'].apply(lambda x: int(x.split(\\'_\\')[2]))\\n    sub_X, a = process_tourney(sub, mode = \"sub\")\\n    dtest = xgb.DMatrix(sub_X)\\nelif PREDICT_YEAR==2023:\\n    sub = pd.read_csv(os.path.join(INPUT_PATH, \"SampleSubmission2023.csv\"))\\n    sub[\\'Season\\'] = sub[\\'ID\\'].apply(lambda x: int(x.split(\\'_\\')[0]))\\n    sub[\"T1_TeamID\"] = sub[\\'ID\\'].apply(lambda x: int(x.split(\\'_\\')[1]))\\n    sub[\"T2_TeamID\"] = sub[\\'ID\\'].apply(lambda x: int(x.split(\\'_\\')[2]))\\n    sub_X, a = process_tourney(sub, mode = \"sub\")\\n    dtest = xgb.DMatrix(sub_X)\\nelif PREDICT_YEAR==2024:\\n    sub = pd.read_csv(os.path.join(INPUT_PATH, \"SampleSubmission2024.csv\"))\\n    sub[\\'Season\\'] = sub[\\'ID\\'].apply(lambda x: int(x.split(\\'_\\')[0]))\\n    sub[\"T1_TeamID\"] = sub[\\'ID\\'].apply(lambda x: int(x.split(\\'_\\')[1]))\\n    sub[\"T2_TeamID\"] = sub[\\'ID\\'].apply(lambda x: int(x.split(\\'_\\')[2]))\\n    sub_X, a = process_tourney(sub, mode = \"sub\")\\n    dtest = xgb.DMatrix(sub_X)\\nelif PREDICT_YEAR==2025:\\n    sub = pd.read_csv(os.path.join(INPUT_PATH, \"SampleSubmissionStage2.csv\"))\\n    sub[\\'Season\\'] = sub[\\'ID\\'].apply(lambda x: int(x.split(\\'_\\')[0]))\\n    sub[\"T1_TeamID\"] = sub[\\'ID\\'].apply(lambda x: int(x.split(\\'_\\')[1]))\\n    sub[\"T2_TeamID\"] = sub[\\'ID\\'].apply(lambda x: int(x.split(\\'_\\')[2]))   \\n    sub_X, a = process_tourney(sub, mode = \"sub\")\\n    dtest = xgb.DMatrix(sub_X)'"
      ]
     },
     "execution_count": 28,
     "metadata": {},
     "output_type": "execute_result"
    }
   ],
   "source": [
    "\"\"\"if PREDICT_YEAR==2022:\n",
    "    sub = pd.read_csv(os.path.join(INPUT_PATH, \"SampleSubmission2022M.csv\"))\n",
    "    sub['Season'] = sub['ID'].apply(lambda x: int(x.split('_')[0]))\n",
    "    sub[\"T1_TeamID\"] = sub['ID'].apply(lambda x: int(x.split('_')[1]))\n",
    "    sub[\"T2_TeamID\"] = sub['ID'].apply(lambda x: int(x.split('_')[2]))\n",
    "    sub_X, a = process_tourney(sub, mode = \"sub\")\n",
    "    dtest = xgb.DMatrix(sub_X)\n",
    "elif PREDICT_YEAR==2023:\n",
    "    sub = pd.read_csv(os.path.join(INPUT_PATH, \"SampleSubmission2023.csv\"))\n",
    "    sub['Season'] = sub['ID'].apply(lambda x: int(x.split('_')[0]))\n",
    "    sub[\"T1_TeamID\"] = sub['ID'].apply(lambda x: int(x.split('_')[1]))\n",
    "    sub[\"T2_TeamID\"] = sub['ID'].apply(lambda x: int(x.split('_')[2]))\n",
    "    sub_X, a = process_tourney(sub, mode = \"sub\")\n",
    "    dtest = xgb.DMatrix(sub_X)\n",
    "elif PREDICT_YEAR==2024:\n",
    "    sub = pd.read_csv(os.path.join(INPUT_PATH, \"SampleSubmission2024.csv\"))\n",
    "    sub['Season'] = sub['ID'].apply(lambda x: int(x.split('_')[0]))\n",
    "    sub[\"T1_TeamID\"] = sub['ID'].apply(lambda x: int(x.split('_')[1]))\n",
    "    sub[\"T2_TeamID\"] = sub['ID'].apply(lambda x: int(x.split('_')[2]))\n",
    "    sub_X, a = process_tourney(sub, mode = \"sub\")\n",
    "    dtest = xgb.DMatrix(sub_X)\n",
    "elif PREDICT_YEAR==2025:\n",
    "    sub = pd.read_csv(os.path.join(INPUT_PATH, \"SampleSubmissionStage2.csv\"))\n",
    "    sub['Season'] = sub['ID'].apply(lambda x: int(x.split('_')[0]))\n",
    "    sub[\"T1_TeamID\"] = sub['ID'].apply(lambda x: int(x.split('_')[1]))\n",
    "    sub[\"T2_TeamID\"] = sub['ID'].apply(lambda x: int(x.split('_')[2]))   \n",
    "    sub_X, a = process_tourney(sub, mode = \"sub\")\n",
    "    dtest = xgb.DMatrix(sub_X)\"\"\"\n",
    "    "
   ]
  },
  {
   "cell_type": "code",
   "execution_count": 29,
   "id": "7898af56",
   "metadata": {
    "execution": {
     "iopub.execute_input": "2025-03-12T12:33:03.390601Z",
     "iopub.status.busy": "2025-03-12T12:33:03.390601Z",
     "iopub.status.idle": "2025-03-12T12:33:03.415352Z",
     "shell.execute_reply": "2025-03-12T12:33:03.415352Z"
    },
    "papermill": {
     "duration": 0.042854,
     "end_time": "2025-03-12T12:33:03.416357",
     "exception": false,
     "start_time": "2025-03-12T12:33:03.373503",
     "status": "completed"
    },
    "tags": []
   },
   "outputs": [
    {
     "name": "stdout",
     "output_type": "stream",
     "text": [
      "no fillna, use nan\n"
     ]
    }
   ],
   "source": [
    "sub = notexist.copy()\n",
    "sub = sub.rename(columns={\"WTeamID\": \"T1_TeamID\", \"LTeamID\": \"T2_TeamID\"})\n",
    "sub = sub[[\"Season\", \"T1_TeamID\", \"T2_TeamID\"]]\n",
    "temp = sub.copy()\n",
    "temp = temp.rename(columns={\"T1_TeamID\": \"T2_TeamID\", \"T2_TeamID\": \"T1_TeamID\"})\n",
    "sub = pd.concat([sub, temp]).reset_index()\n",
    "sub_X, a = process_tourney(sub, mode=\"sub\")\n",
    "dtest = xgb.DMatrix(sub_X)"
   ]
  },
  {
   "cell_type": "code",
   "execution_count": 30,
   "id": "20f19728",
   "metadata": {
    "execution": {
     "iopub.execute_input": "2025-03-12T12:33:03.461485Z",
     "iopub.status.busy": "2025-03-12T12:33:03.461485Z",
     "iopub.status.idle": "2025-03-12T12:33:34.032352Z",
     "shell.execute_reply": "2025-03-12T12:33:34.032352Z"
    },
    "papermill": {
     "duration": 30.621377,
     "end_time": "2025-03-12T12:33:34.059715",
     "exception": false,
     "start_time": "2025-03-12T12:33:03.438338",
     "status": "completed"
    },
    "tags": []
   },
   "outputs": [
    {
     "name": "stderr",
     "output_type": "stream",
     "text": [
      "\r",
      "  0%|                                                                                                                                                            | 0/10 [00:00<?, ?it/s]"
     ]
    },
    {
     "name": "stderr",
     "output_type": "stream",
     "text": [
      "\r",
      " 10%|██████████████▊                                                                                                                                     | 1/10 [00:03<00:28,  3.14s/it]"
     ]
    },
    {
     "name": "stderr",
     "output_type": "stream",
     "text": [
      "\r",
      " 20%|█████████████████████████████▌                                                                                                                      | 2/10 [00:06<00:25,  3.15s/it]"
     ]
    },
    {
     "name": "stderr",
     "output_type": "stream",
     "text": [
      "\r",
      " 30%|████████████████████████████████████████████▍                                                                                                       | 3/10 [00:09<00:21,  3.13s/it]"
     ]
    },
    {
     "name": "stderr",
     "output_type": "stream",
     "text": [
      "\r",
      " 40%|███████████████████████████████████████████████████████████▏                                                                                        | 4/10 [00:12<00:18,  3.02s/it]"
     ]
    },
    {
     "name": "stderr",
     "output_type": "stream",
     "text": [
      "\r",
      " 50%|██████████████████████████████████████████████████████████████████████████                                                                          | 5/10 [00:15<00:15,  3.08s/it]"
     ]
    },
    {
     "name": "stderr",
     "output_type": "stream",
     "text": [
      "\r",
      " 60%|████████████████████████████████████████████████████████████████████████████████████████▊                                                           | 6/10 [00:18<00:12,  3.02s/it]"
     ]
    },
    {
     "name": "stderr",
     "output_type": "stream",
     "text": [
      "\r",
      " 70%|███████████████████████████████████████████████████████████████████████████████████████████████████████▌                                            | 7/10 [00:21<00:09,  3.05s/it]"
     ]
    },
    {
     "name": "stderr",
     "output_type": "stream",
     "text": [
      "\r",
      " 80%|██████████████████████████████████████████████████████████████████████████████████████████████████████████████████████▍                             | 8/10 [00:24<00:06,  3.13s/it]"
     ]
    },
    {
     "name": "stderr",
     "output_type": "stream",
     "text": [
      "\r",
      " 90%|█████████████████████████████████████████████████████████████████████████████████████████████████████████████████████████████████████▏              | 9/10 [00:27<00:03,  3.08s/it]"
     ]
    },
    {
     "name": "stderr",
     "output_type": "stream",
     "text": [
      "\r",
      "100%|███████████████████████████████████████████████████████████████████████████████████████████████████████████████████████████████████████████████████| 10/10 [00:30<00:00,  3.00s/it]"
     ]
    },
    {
     "name": "stderr",
     "output_type": "stream",
     "text": [
      "\r",
      "100%|███████████████████████████████████████████████████████████████████████████████████████████████████████████████████████████████████████████████████| 10/10 [00:30<00:00,  3.06s/it]"
     ]
    },
    {
     "name": "stderr",
     "output_type": "stream",
     "text": [
      "\n"
     ]
    }
   ],
   "source": [
    "sub_models = []\n",
    "#sokutionではカスタム関数の指定、早期停止の言及がここではなかった。検討する\n",
    "for i in tqdm(range(repeat_cv), leave=True, dynamic_ncols=True):\n",
    "    sub_models.append(\n",
    "        xgb.train(\n",
    "          params = param,\n",
    "          dtrain = dtrain,\n",
    "          obj=cauchyobj,\n",
    "          num_boost_round = int(iteration_counts[i] * 1.05),\n",
    "          #early_stopping_rounds=early_stopping_rounds, #これ指定してない、指定するのかあと、指定するとしても少し遅くさせるとか\n",
    "          verbose_eval = 50\n",
    "        )\n",
    "    )"
   ]
  },
  {
   "cell_type": "markdown",
   "id": "9e01a4f5",
   "metadata": {
    "papermill": {
     "duration": 0.021627,
     "end_time": "2025-03-12T12:33:34.110151",
     "exception": false,
     "start_time": "2025-03-12T12:33:34.088524",
     "status": "completed"
    },
    "tags": []
   },
   "source": [
    "各特徴量の寄与度を算出"
   ]
  },
  {
   "cell_type": "code",
   "execution_count": 31,
   "id": "7ccfb7e6",
   "metadata": {
    "execution": {
     "iopub.execute_input": "2025-03-12T12:33:34.155791Z",
     "iopub.status.busy": "2025-03-12T12:33:34.155791Z",
     "iopub.status.idle": "2025-03-12T12:33:34.471945Z",
     "shell.execute_reply": "2025-03-12T12:33:34.471945Z"
    },
    "papermill": {
     "duration": 0.334062,
     "end_time": "2025-03-12T12:33:34.471945",
     "exception": false,
     "start_time": "2025-03-12T12:33:34.137883",
     "status": "completed"
    },
    "tags": []
   },
   "outputs": [
    {
     "data": {
      "image/png": "[encoded data removed]",
      "text/plain": [
       "<Figure size 1000x600 with 1 Axes>"
      ]
     },
     "metadata": {},
     "output_type": "display_data"
    }
   ],
   "source": [
    "feature_importances = collections.defaultdict(list)\n",
    "for model in sub_models:\n",
    "    importance = model.get_score(importance_type='gain')\n",
    "    for feat, score in importance.items():\n",
    "        feature_importances[feat].append(score)\n",
    "\n",
    "avg_importance = {feat: sum(scores) / len(scores) for feat, scores in feature_importances.items()}\n",
    "fi_df = pd.DataFrame(list(avg_importance.items()), columns=['Feature', 'Avg_Gain'])\n",
    "fi_df.sort_values(by='Avg_Gain', ascending=False, inplace=True)\n",
    "results.append(\"\")\n",
    "fi_log = \"-----Feature Importance (Average Gain)-----\\n\"\n",
    "for feat, score in fi_df.values:\n",
    "    fi_log += f\"{feat}: {score:.4f}\\n\"\n",
    "results.append(fi_log)\n",
    "results.append(\"\")\n",
    "\n",
    "plt.figure(figsize=(10, 6))\n",
    "plt.bar(fi_df['Feature'], fi_df['Avg_Gain'])\n",
    "plt.xlabel('Feature')\n",
    "plt.ylabel('Average Gain')\n",
    "plt.title('Feature Importance (Average Gain)')\n",
    "plt.xticks(rotation=45)\n",
    "plt.tight_layout() \n",
    "\n",
    "plt.savefig(os.path.join(OUTPUT_PATH, f\"feature_importance_{PREDICT_YEAR}.png\"))\n",
    "plt.show()"
   ]
  },
  {
   "cell_type": "code",
   "execution_count": 32,
   "id": "14e14bfe",
   "metadata": {
    "execution": {
     "iopub.execute_input": "2025-03-12T12:33:34.508485Z",
     "iopub.status.busy": "2025-03-12T12:33:34.507479Z",
     "iopub.status.idle": "2025-03-12T12:33:34.565080Z",
     "shell.execute_reply": "2025-03-12T12:33:34.565080Z"
    },
    "papermill": {
     "duration": 0.078424,
     "end_time": "2025-03-12T12:33:34.566085",
     "exception": false,
     "start_time": "2025-03-12T12:33:34.487661",
     "status": "completed"
    },
    "tags": []
   },
   "outputs": [
    {
     "name": "stderr",
     "output_type": "stream",
     "text": [
      "\r",
      "  0%|                                                                                                                                                            | 0/10 [00:00<?, ?it/s]"
     ]
    },
    {
     "name": "stderr",
     "output_type": "stream",
     "text": [
      "\r",
      "100%|██████████████████████████████████████████████████████████████████████████████████████████████████████████████████████████████████████████████████| 10/10 [00:00<00:00, 201.79it/s]"
     ]
    },
    {
     "name": "stderr",
     "output_type": "stream",
     "text": [
      "\n"
     ]
    }
   ],
   "source": [
    "sub_preds = []\n",
    "for i in tqdm(range(repeat_cv)):\n",
    "    if spline == \"spline_normal\":\n",
    "        sub_preds.append(np.clip(spline_model[i](np.clip(sub_models[i].predict(dtest), -30, 30)), 0.025, 0.975))\n",
    "    \n",
    "    elif spline == \"logistic\":\n",
    "        X_input = np.clip(sub_models[i].predict(dtest), -30, 30).reshape(-1, 1)\n",
    "        platt_pred = spline_model[i].predict_proba(X_input)[:, 1]\n",
    "        sub_preds.append(np.clip(platt_pred, 0.025, 0.975))\n",
    "\n",
    "    elif spline == \"isotonic\":\n",
    "        X_input = np.clip(sub_models[i].predict(dtest), -30, 30).reshape(-1, 1)\n",
    "        iso_pred = spline_model[i].predict(X_input)  # Isotonic Regression の適用\n",
    "        sub_preds.append(np.clip(iso_pred, 0.025, 0.975))\n",
    "\n",
    "sub[\"Pred\"] = np.mean(np.vstack(sub_preds), axis=0)"
   ]
  },
  {
   "cell_type": "code",
   "execution_count": 33,
   "id": "c7209f52",
   "metadata": {
    "execution": {
     "iopub.execute_input": "2025-03-12T12:33:34.621861Z",
     "iopub.status.busy": "2025-03-12T12:33:34.621861Z",
     "iopub.status.idle": "2025-03-12T12:33:34.629112Z",
     "shell.execute_reply": "2025-03-12T12:33:34.629112Z"
    },
    "papermill": {
     "duration": 0.035974,
     "end_time": "2025-03-12T12:33:34.629112",
     "exception": false,
     "start_time": "2025-03-12T12:33:34.593138",
     "status": "completed"
    },
    "tags": []
   },
   "outputs": [],
   "source": [
    "# teams:64team, targetを受け取って、そのtarget teamの試合可能性のある全63試合を抽出する関数\n",
    "def extract_target_team_records(submission_df, teams, target_team):\n",
    "    if target_team not in teams:\n",
    "        raise ValueError(f\"target_team {target_team} は teams 内に存在しません\")\n",
    "\n",
    "    remaining_teams = [t for t in teams if t != target_team]\n",
    "    \n",
    "    records = []\n",
    "    for other_team in remaining_teams:\n",
    "        lower = min(target_team, other_team)\n",
    "        higher = max(target_team, other_team)\n",
    "        row = submission_df[(submission_df['T1_TeamID'] == lower) & (submission_df['T2_TeamID'] == higher)]\n",
    "        if row.empty:\n",
    "            print(f\"Warning: 対戦 {lower} vs {higher} に対応するレコードが見つかりませんでした\")\n",
    "        else:\n",
    "            records.append(row)\n",
    "    \n",
    "    if records:\n",
    "        final_records = pd.concat(records, ignore_index=True)\n",
    "    else:\n",
    "        final_records = pd.DataFrame()\n",
    "    \n",
    "    if len(final_records) != 63:\n",
    "        print(f\"Warning: 期待される63件ではなく、{len(final_records)}件のレコードが抽出されました。\")\n",
    "    \n",
    "    return final_records\n"
   ]
  },
  {
   "cell_type": "code",
   "execution_count": 34,
   "id": "51147822",
   "metadata": {
    "execution": {
     "iopub.execute_input": "2025-03-12T12:33:34.678492Z",
     "iopub.status.busy": "2025-03-12T12:33:34.678492Z",
     "iopub.status.idle": "2025-03-12T12:33:34.683737Z",
     "shell.execute_reply": "2025-03-12T12:33:34.683393Z"
    },
    "papermill": {
     "duration": 0.026591,
     "end_time": "2025-03-12T12:33:34.684768",
     "exception": false,
     "start_time": "2025-03-12T12:33:34.658177",
     "status": "completed"
    },
    "tags": []
   },
   "outputs": [],
   "source": [
    "tourney_teams_2023 = [\n",
    "    1395, 1113,   # TCU1395, アリゾナ・ステイト1113\n",
    "    1231, 1245,   # インディアナ1231, ケント・ステイト1245\n",
    "    1243, 1286,   # カンザス・ステイト1243, モンタナ・ステイト1286\n",
    "    1272, 1194,   # メンフィス1272, ﾌﾛﾘﾀﾞ･ｱﾄﾗﾝﾃｨｯｸ1194\n",
    "    1211, 1213,   # ゴンザガ1211, グランド・キャニオン1213\n",
    "    1274, 1179,   # マイアミ（フロリダ）1274, ドレイク1179\n",
    "    1243, 1286,   # ケンタッキー1243, プロビデンス1286\n",
    "    1345, 1192,   # パデュー1345, ﾌｪｱﾘｰ･ﾃﾞｨｷﾝｿﾝ1192\n",
    "    1163, 1233,   # コネチカット1163, アイオナ1233\n",
    "    1166, 1301,   # クレイトン1166, ﾉｰｽｶﾛﾗｲﾅ･ｽﾃｲﾄ1301\n",
    "    1235, 1338,   # アイオワ・ステイト1235, ピッツバーグ1338\n",
    "    1266, 1436,   # マーケット1266, バーモント1436\n",
    "    1388, 1433,   # ｾﾝﾄﾒｱﾘｰｽﾞ（ｶﾘﾌｫﾙﾆｱ）1388, VCU1433\n",
    "    1124, 1364,   # ベイラー1124, UCサンタバーバラ1364\n",
    "    1462, 1244,   # ザビエル1462, ケネソー・ステイト1244\n",
    "    1277, 1425,   # ミシガン・ステイト1277, USC トロージャンズ1425\n",
    "\n",
    "    1417, 1421,   # UCLA1417, UNC アシュビル1421\n",
    "    1401, 1336,   # テキサス A＆M1401, ﾍﾟﾝｼﾞﾙﾍﾞﾆｱ･ｽﾃｲﾄ1336\n",
    "    1397, 1418,   # テネシー1397, ﾙｲｼﾞｱﾅ･ﾗﾌｧｲｴｯﾄ1418\n",
    "    1222, 1297,   # ヒューストン1222, ノーザンケンタッキー1297\n",
    "    1321, 1129,   # ノースウェスタン1321, ボイシ・ステイト1129\n",
    "    1400, 1159,   # テキサス1400, コルゲート1159\n",
    "    1181, 1331,   # デューク1181, オーラル・ロバーツ1331\n",
    "    1234, 1120,   # アイオワ1234, オーバーン1120\n",
    "    1116, 1228,   # アーカンソー1116, イリノイ1228\n",
    "    1112, 1343,   # アリゾナ1112, プリンストン1343\n",
    "    1361, 1158,   # ｻﾝﾃﾞｴｺﾞ･ｽﾃｲﾄ1361, チャールストン1158\n",
    "    1104, 1394,   # アラバマ1104, テキサス A＆M CC1394\n",
    "    1242, 1224,   # カンザス1242, ハワード1224\n",
    "    1281, 1429,   # ミズーリ1281, ユタ・ステイト1429\n",
    "    1438, 1202,   # バージニア1438, ファーマン1202\n",
    "    1268, 1452    # メリーランド1268, ウェストバージニア1452\n",
    "]\n",
    "\n",
    "#Connecticut_vs = extract_target_team_records(sub, tourney_teams_2023, 1163 )"
   ]
  },
  {
   "cell_type": "code",
   "execution_count": 35,
   "id": "51b6a01b",
   "metadata": {
    "execution": {
     "iopub.execute_input": "2025-03-12T12:33:34.725266Z",
     "iopub.status.busy": "2025-03-12T12:33:34.725266Z",
     "iopub.status.idle": "2025-03-12T12:33:34.730051Z",
     "shell.execute_reply": "2025-03-12T12:33:34.730051Z"
    },
    "papermill": {
     "duration": 0.024478,
     "end_time": "2025-03-12T12:33:34.730051",
     "exception": false,
     "start_time": "2025-03-12T12:33:34.705573",
     "status": "completed"
    },
    "tags": []
   },
   "outputs": [],
   "source": [
    "#handlabelingを行う関数\n",
    "def make_handlabeling(df, season, T1, T2, labeling_pred, tourney_teams):\n",
    "    if T1 not in tourney_teams or T2 not in tourney_teams: \n",
    "        print(f\"トーナメント対象チームに属していません\")\n",
    "        return \n",
    "    \n",
    "    if T1>T2: \n",
    "        T1, T2 = T2, T1\n",
    "        print(f\"{T1}, {T2}ID逆だけど大丈夫？？\")\n",
    "    id = f\"{season}_{T1}_{T2}\"\n",
    "\n",
    "    print(f\"before: {df[df['ID']==id]}\")\n",
    "    df.loc[df[\"ID\"] == id, \"Pred\"] = labeling_pred\n",
    "    print(f\"after: {df[df['ID']==id]}\")\n",
    "    \n",
    "    results.append(f\"-----handolabeling-----\")\n",
    "    results.append(f\"before:  {df[df['ID']==id]} -----> after: {df[df['ID']==id]}\")\n",
    "    results.appedn(\"\")\n",
    "    return df"
   ]
  },
  {
   "cell_type": "code",
   "execution_count": 36,
   "id": "2c32deda",
   "metadata": {
    "execution": {
     "iopub.execute_input": "2025-03-12T12:33:34.758754Z",
     "iopub.status.busy": "2025-03-12T12:33:34.758754Z",
     "iopub.status.idle": "2025-03-12T12:33:34.771142Z",
     "shell.execute_reply": "2025-03-12T12:33:34.771142Z"
    },
    "papermill": {
     "duration": 0.030084,
     "end_time": "2025-03-12T12:33:34.772048",
     "exception": false,
     "start_time": "2025-03-12T12:33:34.741964",
     "status": "completed"
    },
    "tags": []
   },
   "outputs": [],
   "source": [
    "labeling = cfg.exp.hand_labeling\n",
    "if labeling is not None:\n",
    "    for i in range(len(labeling)):\n",
    "        T1 = labeling[i][0]\n",
    "        T2 = labeling[i][1]\n",
    "        labeling_pred = labeling[i][2]\n",
    "        \n",
    "        print(f\"{T1} vs {T2} result labeling {labeling_pred}\")\n",
    "        \n",
    "        sub = make_handlabeling(sub, PREDICT_YEAR, T1, T2, labeling_pred, tourney_teams_2023)"
   ]
  },
  {
   "cell_type": "code",
   "execution_count": 37,
   "id": "1543aa0e",
   "metadata": {
    "execution": {
     "iopub.execute_input": "2025-03-12T12:33:34.810382Z",
     "iopub.status.busy": "2025-03-12T12:33:34.810382Z",
     "iopub.status.idle": "2025-03-12T12:33:35.001115Z",
     "shell.execute_reply": "2025-03-12T12:33:35.000472Z"
    },
    "papermill": {
     "duration": 0.209321,
     "end_time": "2025-03-12T12:33:35.001115",
     "exception": false,
     "start_time": "2025-03-12T12:33:34.791794",
     "status": "completed"
    },
    "tags": []
   },
   "outputs": [
    {
     "name": "stdout",
     "output_type": "stream",
     "text": [
      "Tournament matchups only - Pred Mean: 0.4994008340225424\n"
     ]
    },
    {
     "data": {
      "image/png": "[encoded data removed]",
      "text/plain": [
       "<Figure size 640x480 with 1 Axes>"
      ]
     },
     "metadata": {},
     "output_type": "display_data"
    }
   ],
   "source": [
    "tourney_filtered = notexist[notexist[\"Season\"] == PREDICT_YEAR].copy()\n",
    "a = tourney_filtered.rename(columns={'WTeamID': 'T1_TeamID', 'LTeamID': 'T2_TeamID'})\n",
    "b = tourney_filtered.rename(columns={'WTeamID': 'T2_TeamID', 'LTeamID': 'T1_TeamID'})\n",
    "ab = pd.concat([a, b]).reset_index(drop=True) \n",
    "filtered_sub = sub.merge(ab[['Season', 'T1_TeamID', 'T2_TeamID']], \n",
    "                         on=['Season', 'T1_TeamID', 'T2_TeamID'], \n",
    "                         how='inner')\n",
    "\n",
    "filtered_sub[\"Pred\"].astype(int)\n",
    "pred_mean = filtered_sub[\"Pred\"].mean()\n",
    "print(\"Tournament matchups only - Pred Mean:\", pred_mean)\n",
    "\n",
    "filtered_sub[\"Pred\"].hist(bins=50)\n",
    "results+=[\"\", f\"Tournament matchups only - Pred Mean:, {pred_mean}\", \"\"]\n",
    "plt.figure(figsize=(8, 6))\n",
    "filtered_sub[\"Pred\"].hist(bins=50)\n",
    "plt.title(\"Prediction Histogram\")\n",
    "plt.xlabel(\"Pred\")\n",
    "plt.ylabel(\"Frequency\")\n",
    "plt.grid(True)\n",
    "\n",
    "# 画像として保存\n",
    "plt.savefig(os.path.join(OUTPUT_PATH, f\"Prediction_Histgram_filtered_{PREDICT_YEAR}.png\"))\n",
    "plt.close()"
   ]
  },
  {
   "cell_type": "markdown",
   "id": "724b7819",
   "metadata": {
    "papermill": {
     "duration": 0.016118,
     "end_time": "2025-03-12T12:33:35.031092",
     "exception": false,
     "start_time": "2025-03-12T12:33:35.014974",
     "status": "completed"
    },
    "tags": []
   },
   "source": [
    "# スコア算出、まとめ、\n",
    "ここまでで提出ファイル作成。ここからは過去年度のシミュレーションに対してBrier scoreやその他指標の算出"
   ]
  },
  {
   "cell_type": "code",
   "execution_count": 38,
   "id": "9c33e5df",
   "metadata": {
    "execution": {
     "iopub.execute_input": "2025-03-12T12:33:35.065728Z",
     "iopub.status.busy": "2025-03-12T12:33:35.065288Z",
     "iopub.status.idle": "2025-03-12T12:33:35.294619Z",
     "shell.execute_reply": "2025-03-12T12:33:35.294619Z"
    },
    "papermill": {
     "duration": 0.24765,
     "end_time": "2025-03-12T12:33:35.294619",
     "exception": false,
     "start_time": "2025-03-12T12:33:35.046969",
     "status": "completed"
    },
    "tags": []
   },
   "outputs": [
    {
     "data": {
      "image/png": "[encoded data removed]",
      "text/plain": [
       "<Figure size 640x480 with 1 Axes>"
      ]
     },
     "metadata": {},
     "output_type": "display_data"
    }
   ],
   "source": [
    "sub[\"Pred\"].hist()\n",
    "results+=[\"\", f\"Pred mean: {sub['Pred'].mean()}\", \"\"]\n",
    "\n",
    "plt.figure(figsize=(8, 6))\n",
    "sub[\"Pred\"].hist(bins=50)\n",
    "plt.title(\"Prediction Histogram\")\n",
    "plt.xlabel(\"Pred\")\n",
    "plt.ylabel(\"Frequency\")\n",
    "plt.grid(True)\n",
    "\n",
    "# 画像として保存\n",
    "plt.savefig(os.path.join(OUTPUT_PATH, f\"Prediction_Histgram_{PREDICT_YEAR}.png\"))\n",
    "plt.close()"
   ]
  },
  {
   "cell_type": "markdown",
   "id": "e0e849a3",
   "metadata": {
    "papermill": {
     "duration": 0.016251,
     "end_time": "2025-03-12T12:33:35.319009",
     "exception": false,
     "start_time": "2025-03-12T12:33:35.302758",
     "status": "completed"
    },
    "tags": []
   },
   "source": [
    "存在するはずのない予測年度のトーナメント結果をもとに(Pred, label)を取り出し、以下を行う。\n",
    "\n",
    "- 各評価指標の計算\n",
    "- キャリブレーション可視化\n",
    "- AUC可視化"
   ]
  },
  {
   "cell_type": "code",
   "execution_count": 39,
   "id": "4618d09b",
   "metadata": {
    "execution": {
     "iopub.execute_input": "2025-03-12T12:33:35.370397Z",
     "iopub.status.busy": "2025-03-12T12:33:35.370018Z",
     "iopub.status.idle": "2025-03-12T12:33:35.377907Z",
     "shell.execute_reply": "2025-03-12T12:33:35.377907Z"
    },
    "papermill": {
     "duration": 0.035922,
     "end_time": "2025-03-12T12:33:35.377907",
     "exception": false,
     "start_time": "2025-03-12T12:33:35.341985",
     "status": "completed"
    },
    "tags": []
   },
   "outputs": [],
   "source": [
    "def extract_labels_and_preds(sub, tourney):\n",
    "    \"\"\" 試合データから予測値 (Pred) と正解ラベル (label) を抽出する \"\"\"\n",
    "    label_data = tourney[[\"WTeamID\", \"LTeamID\", \"WScore\", \"LScore\"]]\n",
    "    label_data = label_data.rename(columns={\"WTeamID\": \"T1_TeamID\", \"LTeamID\": \"T2_TeamID\", \"WScore\": \"T1_Score\", \"LScore\": \"T2_Score\"})\n",
    "    temp = label_data.copy()\n",
    "    temp = temp.rename(columns={\"T1_TeamID\": \"T2_TeamID\", \"T2_TeamID\": \"T1_TeamID\", \"T1_Score\": \"T2_Score\", \"T2_Score\": \"T1_Score\"})\n",
    "    label_data = pd.concat([label_data, temp]).reset_index(drop=True)\n",
    "    \n",
    "    label_data = pd.merge(label_data, sub, on=[\"T1_TeamID\", \"T2_TeamID\"], how=\"left\")\n",
    "    label_data[\"label\"] = np.where(label_data[\"T1_Score\"] - label_data[\"T2_Score\"] > 0, 1, 0)\n",
    "    label_data = label_data.dropna(subset=[\"Pred\"])  # 欠損値を削除\n",
    "    \n",
    "    return label_data[[\"label\", \"Pred\"]]\n",
    "\n",
    "def calculate_metrics(label_data):\n",
    "    \"\"\" 各評価指標を計算 \"\"\"\n",
    "    brier_score = round(mean_squared_error(label_data[\"label\"], label_data[\"Pred\"]), 4)  # Brier Score (MSEと同じ)\n",
    "    rmse_score = round(mean_squared_error(label_data[\"label\"], label_data[\"Pred\"], squared=False), 4)  # RMSE\n",
    "    logloss_score = round(log_loss(label_data[\"label\"], label_data[\"Pred\"]), 4)  # Log Loss\n",
    "    mae_score = round(mean_absolute_error(label_data[\"label\"], label_data[\"Pred\"]), 4)  # MAE\n",
    "    \n",
    "    return {\n",
    "        \"Brier Score\": brier_score,\n",
    "        \"RMSE\": rmse_score,\n",
    "        \"Log Loss\": logloss_score,\n",
    "        \"MAE\": mae_score\n",
    "    }\n",
    "\n",
    "def plot_calibration_curve(label_data, n_bins=10):\n",
    "    \"\"\" キャリブレーションカーブをプロット \"\"\"\n",
    "    prob_true, prob_pred = calibration_curve(label_data[\"label\"], label_data[\"Pred\"], n_bins=n_bins)\n",
    "    \n",
    "    plt.figure(figsize=(6,6))\n",
    "    plt.plot(prob_pred, prob_true, marker=\"o\", label=\"Model Calibration\")\n",
    "    plt.plot([0, 1], [0, 1], linestyle=\"--\", label=\"Perfect Calibration\")\n",
    "    plt.xlabel(\"Predicted Probability\")\n",
    "    plt.ylabel(\"Actual Probability\")\n",
    "    plt.legend()\n",
    "    plt.title(\"Calibration Curve\")\n",
    "    plt.show()\n",
    "\n",
    "def calculate_auc_metrics(label_data):\n",
    "    global results\n",
    "    \"\"\" AUC-ROCとAUC-PRを計算 \"\"\"\n",
    "    auc_roc = roc_auc_score(label_data[\"label\"], label_data[\"Pred\"])\n",
    "    auc_pr = average_precision_score(label_data[\"label\"], label_data[\"Pred\"])\n",
    "    \n",
    "    print(f\"AUC-ROC: {auc_roc:.4f}\")\n",
    "    print(f\"AUC-PR: {auc_pr:.4f}\")\n",
    "    results += [\"---- AUC -----\", f\"AUC-ROC: {auc_roc:.4f}\", f\"AUC-PR: {auc_pr:.4f}\"]\n",
    "    "
   ]
  },
  {
   "cell_type": "code",
   "execution_count": 40,
   "id": "3793bd93",
   "metadata": {
    "execution": {
     "iopub.execute_input": "2025-03-12T12:33:35.414950Z",
     "iopub.status.busy": "2025-03-12T12:33:35.414950Z",
     "iopub.status.idle": "2025-03-12T12:33:35.495155Z",
     "shell.execute_reply": "2025-03-12T12:33:35.495155Z"
    },
    "papermill": {
     "duration": 0.098318,
     "end_time": "2025-03-12T12:33:35.495155",
     "exception": false,
     "start_time": "2025-03-12T12:33:35.396837",
     "status": "completed"
    },
    "tags": []
   },
   "outputs": [
    {
     "name": "stderr",
     "output_type": "stream",
     "text": [
      "C:\\Users\\81809\\anaconda3\\envs\\deep_learning_pytorch\\Lib\\site-packages\\sklearn\\metrics\\_regression.py:492: FutureWarning: 'squared' is deprecated in version 1.4 and will be removed in 1.6. To calculate the root mean squared error, use the function'root_mean_squared_error'.\n",
      "  warnings.warn(\n"
     ]
    },
    {
     "data": {
      "image/png": "[encoded data removed]",
      "text/plain": [
       "<Figure size 600x600 with 1 Axes>"
      ]
     },
     "metadata": {},
     "output_type": "display_data"
    },
    {
     "name": "stdout",
     "output_type": "stream",
     "text": [
      "AUC-ROC: 0.7916\n",
      "AUC-PR: 0.8025\n",
      "MAE: 0.3483\n",
      "\n",
      "---- AUC -----\n",
      "AUC-ROC: 0.7916\n",
      "AUC-PR: 0.8025\n"
     ]
    }
   ],
   "source": [
    "if PREDICT_YEAR == 2022:\n",
    "    notexist_MAN = notexist[notexist[\"WTeamID\"].astype(str).str.startswith(\"1\")]\n",
    "    notexist_WOMAN = notexist[notexist[\"WTeamID\"].astype(str).str.startswith(\"3\")]\n",
    "    label_data = extract_labels_and_preds(sub, notexist) ######\n",
    "else:\n",
    "    label_data = extract_labels_and_preds(sub, notexist)\n",
    "\n",
    "# 評価指標の計算\n",
    "score = calculate_metrics(label_data)\n",
    "results += [\"\",\"-----eval metrics-----\",\n",
    "            f\"Brier Score: {score['Brier Score']}\", \n",
    "            f\"RMSE: {score['RMSE']}\", \n",
    "            f\"Log Loss: {score['Log Loss']}\", \n",
    "            f\"MAE: {score['MAE']}\", \"\"]\n",
    "\n",
    "# キャリブレーションの確認\n",
    "plot_calibration_curve(label_data)\n",
    "\n",
    "# AUCの評価\n",
    "calculate_auc_metrics(label_data)\n",
    "\n",
    "for temp in range(-5, 0):\n",
    "    print(results[temp])"
   ]
  },
  {
   "cell_type": "code",
   "execution_count": 41,
   "id": "cd488d36",
   "metadata": {
    "execution": {
     "iopub.execute_input": "2025-03-12T12:33:35.534671Z",
     "iopub.status.busy": "2025-03-12T12:33:35.534671Z",
     "iopub.status.idle": "2025-03-12T12:33:35.541118Z",
     "shell.execute_reply": "2025-03-12T12:33:35.540059Z"
    },
    "papermill": {
     "duration": 0.04032,
     "end_time": "2025-03-12T12:33:35.542662",
     "exception": false,
     "start_time": "2025-03-12T12:33:35.502342",
     "status": "completed"
    },
    "tags": []
   },
   "outputs": [
    {
     "data": {
      "text/plain": [
       "'if PREDICT_YEAR!=2025:\\n    predict_year_label =notexist[[\"WTeamID\", \"LTeamID\", \"WScore\", \"LScore\"]].copy()\\n    predict_year_label.loc[:, \"Win\"] = np.where(predict_year_label[\"WScore\"] - predict_year_label[\"LScore\"] > 0, 1, 0)\\n    predict_year_label = predict_year_label[[\"WTeamID\", \"LTeamID\", \"Win\"]]\\n   \\n    predict_year_label.columns = [\"T1_TeamID\", \"T2_TeamID\", \"Win\"]\\n\\n    predict_year_label = pd.merge(predict_year_label, sub, on=[\"T1_TeamID\", \"T2_TeamID\"], how=\"left\")\\n    brier_score = np.mean((predict_year_label[\"Pred\"] - predict_year_label[\"Win\"])**2)\\n\\n    print(\"Brier Score:\", brier_score)\\n    results+=[f\"Brier Score: {brier_score}\", \"\"]\\n    predict_year_label.info()\\n'"
      ]
     },
     "execution_count": 41,
     "metadata": {},
     "output_type": "execute_result"
    }
   ],
   "source": [
    "\"\"\"if PREDICT_YEAR!=2025:\n",
    "    predict_year_label =notexist[[\"WTeamID\", \"LTeamID\", \"WScore\", \"LScore\"]].copy()\n",
    "    predict_year_label.loc[:, \"Win\"] = np.where(predict_year_label[\"WScore\"] - predict_year_label[\"LScore\"] > 0, 1, 0)\n",
    "    predict_year_label = predict_year_label[[\"WTeamID\", \"LTeamID\", \"Win\"]]\n",
    "   \n",
    "    predict_year_label.columns = [\"T1_TeamID\", \"T2_TeamID\", \"Win\"]\n",
    "\n",
    "    predict_year_label = pd.merge(predict_year_label, sub, on=[\"T1_TeamID\", \"T2_TeamID\"], how=\"left\")\n",
    "    brier_score = np.mean((predict_year_label[\"Pred\"] - predict_year_label[\"Win\"])**2)\n",
    "\n",
    "    print(\"Brier Score:\", brier_score)\n",
    "    results+=[f\"Brier Score: {brier_score}\", \"\"]\n",
    "    predict_year_label.info()\n",
    "\"\"\""
   ]
  },
  {
   "cell_type": "code",
   "execution_count": 42,
   "id": "0362cd51",
   "metadata": {
    "execution": {
     "iopub.execute_input": "2025-03-12T12:33:35.578555Z",
     "iopub.status.busy": "2025-03-12T12:33:35.578555Z",
     "iopub.status.idle": "2025-03-12T12:33:35.584693Z",
     "shell.execute_reply": "2025-03-12T12:33:35.584035Z"
    },
    "papermill": {
     "duration": 0.025213,
     "end_time": "2025-03-12T12:33:35.585746",
     "exception": false,
     "start_time": "2025-03-12T12:33:35.560533",
     "status": "completed"
    },
    "tags": []
   },
   "outputs": [
    {
     "name": "stdout",
     "output_type": "stream",
     "text": [
      "実行時間： 333.7秒\n"
     ]
    }
   ],
   "source": [
    "END_TIME = time.time()\n",
    "ELAPSED_TIME = END_TIME - START_TIME\n",
    "print(f\"実行時間： {ELAPSED_TIME:.1f}秒\")\n",
    "results.append(f\"実行時間： {ELAPSED_TIME:.1f}秒\")\n",
    "\n",
    "with open(os.path.join(OUTPUT_PATH, \"result.txt\"), \"a\", encoding=\"utf-8\") as f:\n",
    "    for line in results:\n",
    "        f.write(line + \"\\n\")"
   ]
  },
  {
   "cell_type": "code",
   "execution_count": 43,
   "id": "3abf4c6c",
   "metadata": {
    "execution": {
     "iopub.execute_input": "2025-03-12T12:33:35.605536Z",
     "iopub.status.busy": "2025-03-12T12:33:35.605536Z",
     "iopub.status.idle": "2025-03-12T12:33:35.623800Z",
     "shell.execute_reply": "2025-03-12T12:33:35.623800Z"
    },
    "papermill": {
     "duration": 0.034084,
     "end_time": "2025-03-12T12:33:35.623800",
     "exception": false,
     "start_time": "2025-03-12T12:33:35.589716",
     "status": "completed"
    },
    "tags": []
   },
   "outputs": [],
   "source": [
    "logger.remove()"
   ]
  }
 ],
 "metadata": {
  "kernelspec": {
   "display_name": "deep_learning_pytorch",
   "language": "python",
   "name": "python3"
  },
  "language_info": {
   "codemirror_mode": {
    "name": "ipython",
    "version": 3
   },
   "file_extension": ".py",
   "mimetype": "text/x-python",
   "name": "python",
   "nbconvert_exporter": "python",
   "pygments_lexer": "ipython3",
   "version": "3.11.9"
  },
  "papermill": {
   "default_parameters": {},
   "duration": 337.843298,
   "end_time": "2025-03-12T12:33:36.220301",
   "environment_variables": {},
   "exception": null,
   "input_path": "c:\\Users\\81809\\Documents\\ALL_CODE\\kaggle\\March Machine Learning Mania 2025\\notebook\\1stplace_solution_2023.ipynb",
   "output_path": "exp043_20250312_212758.ipynb",
   "parameters": {
    "EXP_NUM": "exp043"
   },
   "start_time": "2025-03-12T12:27:58.377003",
   "version": "2.6.0"
  }
 },
 "nbformat": 4,
 "nbformat_minor": 5
}