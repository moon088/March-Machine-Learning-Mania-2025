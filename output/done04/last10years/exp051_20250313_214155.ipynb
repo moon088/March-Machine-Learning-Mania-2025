{
 "cells": [
  {
   "cell_type": "code",
   "execution_count": 1,
   "id": "8c3ad771",
   "metadata": {
    "execution": {
     "iopub.execute_input": "2025-03-13T12:41:57.851158Z",
     "iopub.status.busy": "2025-03-13T12:41:57.851158Z",
     "iopub.status.idle": "2025-03-13T12:41:57.860546Z",
     "shell.execute_reply": "2025-03-13T12:41:57.859701Z"
    },
    "papermill": {
     "duration": 0.021442,
     "end_time": "2025-03-13T12:41:57.862359",
     "exception": false,
     "start_time": "2025-03-13T12:41:57.840917",
     "status": "completed"
    },
    "tags": [
     "parameters"
    ]
   },
   "outputs": [],
   "source": [
    "# Parameters\n",
    "EXP_NUM = \"default\""
   ]
  },
  {
   "cell_type": "code",
   "execution_count": 2,
   "id": "222cc66d",
   "metadata": {
    "execution": {
     "iopub.execute_input": "2025-03-13T12:41:57.874451Z",
     "iopub.status.busy": "2025-03-13T12:41:57.874451Z",
     "iopub.status.idle": "2025-03-13T12:41:57.882097Z",
     "shell.execute_reply": "2025-03-13T12:41:57.882097Z"
    },
    "papermill": {
     "duration": 0.009608,
     "end_time": "2025-03-13T12:41:57.882097",
     "exception": false,
     "start_time": "2025-03-13T12:41:57.872489",
     "status": "completed"
    },
    "tags": [
     "injected-parameters"
    ]
   },
   "outputs": [],
   "source": [
    "# Parameters\n",
    "EXP_NUM = \"exp051\"\n"
   ]
  },
  {
   "cell_type": "markdown",
   "id": "7ecbb276",
   "metadata": {
    "papermill": {
     "duration": 0.012601,
     "end_time": "2025-03-13T12:41:57.894698",
     "exception": false,
     "start_time": "2025-03-13T12:41:57.882097",
     "status": "completed"
    },
    "tags": []
   },
   "source": [
    "# 2023 1st place solution\n",
    "[kaggle notebook](https://www.kaggle.com/code/rustyb/paris-madness-2023#Load-the-data!)"
   ]
  },
  {
   "cell_type": "markdown",
   "id": "576fe612",
   "metadata": {
    "papermill": {
     "duration": 0.0,
     "end_time": "2025-03-13T12:41:57.896485",
     "exception": false,
     "start_time": "2025-03-13T12:41:57.896485",
     "status": "completed"
    },
    "tags": []
   },
   "source": [
    "# コードの流れ\n",
    "1. hydraからハイパラ取得し、パスなどを設定\n",
    "\n",
    "    regular&tourney Detaile Result, Seedを使用し、tourneyを目的変数としてモデルを予測していく\n",
    "\n",
    "    regular_data->season_statistics->\n",
    "\n",
    "    以下の前処理をする\n",
    "\n",
    "2. データ２倍にかさまし\n",
    "3. regularに対して特徴量の追加\n",
    "    各チームごとに加えるもの\n",
    "   - EFFG: フィールドゴール成功率\n",
    "   - EFFG3: フィールドゴール3p成功率\n",
    "   - DARE: フィールドゴールにおける3P率\n",
    "   - \"win\"を目的変数とする(Team, Season)のロジスティック回帰した各係数\n",
    "    対戦カードごとに加える特徴量\n",
    "    - PointDiff: ポイント差\n",
    "    - win: 1 if PointDiff>0 else 0\n",
    "4. (Team, Season)ごとに特徴量season_statixtics追加\n",
    "    - win_ratio_14d\n",
    "    - box score mean\n",
    "    - quality\n",
    "    - seed\n",
    "5. season_average.enabled=trueなら直近３シーズンの加重平均の処理加える\n",
    "6. tourneyをteamID, Season, score(y)のみ取り出してこれに対してseason_statisticsの結合と特徴量微調整\n",
    "   - seed->seeddiff\n",
    "   - fillna()\n",
    "\n",
    "7. モデル構築\n",
    "8. KFOLD->OOF予測->spline曲線求めてlogloss算出\n",
    "    - KFOLDによる交差検証（CV）\n",
    "        repeat_cv 回のループで、各反復ごとにKFold（folds_splits個）によりデータを分割し、XGBoostのCVを実行しています。\n",
    "        各foldでの結果（例えば、訓練MAE、検証MAEの平均値や標準偏差）がcv_resultとして得られ、それをxgb_cvリストに格納します。\n",
    "        この段階で重要なのは、各反復での検証用MAEの平均値 (test-mae-mean) の最小値と、そのときのブーストラウンド数です。\n",
    "        それらは後で、最適なイテレーション数 (iteration_counts) として計算され、val_mae にも格納されます。\n",
    "    - OOF予測の流れ\n",
    "\n",
    "        各反復ごとに、新たなKFoldを用いてデータを分割。\n",
    "        各foldごとに、学習データでモデルを訓練し、検証データに対して予測を実施。\n",
    "        すべてのfold分の予測結果を1つの予測配列にまとめ、最後に -30～30 の範囲にクリップしています。\n",
    "        重要な結果\n",
    "\n",
    "        OOF予測結果（oof_preds）自体は後段で別途評価指標に使用できるほか、各反復ごとの予測精度や誤差を算出する際の基礎データ\n",
    "9.  提出フェーズ\n",
    "    - 最適paramで全データ使って訓練\n",
    "    - 提出試合の予測"
   ]
  },
  {
   "cell_type": "markdown",
   "id": "c974080c",
   "metadata": {
    "papermill": {
     "duration": 0.0,
     "end_time": "2025-03-13T12:41:57.908668",
     "exception": false,
     "start_time": "2025-03-13T12:41:57.908668",
     "status": "completed"
    },
    "tags": []
   },
   "source": [
    "memo\n",
    "\n",
    "欠損値が発生していいのか検討して保管について考える\n",
    "seedがかけているのはregularに対してseedを与えているから大丈夫。最終的なtourneyには欠損０で追加できているから問題ない"
   ]
  },
  {
   "cell_type": "code",
   "execution_count": 3,
   "id": "830be5e3",
   "metadata": {
    "execution": {
     "iopub.execute_input": "2025-03-13T12:41:57.927736Z",
     "iopub.status.busy": "2025-03-13T12:41:57.927736Z",
     "iopub.status.idle": "2025-03-13T12:42:01.795679Z",
     "shell.execute_reply": "2025-03-13T12:42:01.795679Z"
    },
    "papermill": {
     "duration": 3.887011,
     "end_time": "2025-03-13T12:42:01.795679",
     "exception": false,
     "start_time": "2025-03-13T12:41:57.908668",
     "status": "completed"
    },
    "tags": []
   },
   "outputs": [
    {
     "name": "stderr",
     "output_type": "stream",
     "text": [
      "C:\\Users\\81809\\anaconda3\\envs\\deep_learning_pytorch\\Lib\\site-packages\\tqdm\\auto.py:21: TqdmWarning: IProgress not found. Please update jupyter and ipywidgets. See https://ipywidgets.readthedocs.io/en/stable/user_install.html\n",
      "  from .autonotebook import tqdm as notebook_tqdm\n"
     ]
    },
    {
     "name": "stdout",
     "output_type": "stream",
     "text": [
      "exp051\n",
      "Omega conf is below\n",
      "dir:\n",
      "  input_dir: ../input\n",
      "  output_dir: ../output\n",
      "  src_path: ../src\n",
      "  conf_path: ../conf\n",
      "exp:\n",
      "  name: last10years\n",
      "  print_name: base & use last 10 years\n",
      "  tournament:\n",
      "    use_start_season: 2009\n",
      "    target_season: 2019\n",
      "  features:\n",
      "    cal_mean_boxscore:\n",
      "      T1_Score: true\n",
      "      T2_Score: true\n",
      "      PointDiff: true\n",
      "      T1_FGM: true\n",
      "      T2_FGM: true\n",
      "      T1_FGA: true\n",
      "      T2_FGA: true\n",
      "      T1_FGM3: true\n",
      "      T2_FGM3: true\n",
      "      T1_FGA3: true\n",
      "      T2_FGA3: true\n",
      "      T1_FTM: true\n",
      "      T2_FTM: true\n",
      "      T1_FTA: true\n",
      "      T2_FTA: true\n",
      "      T1_EFFG: false\n",
      "      T2_EFFG: false\n",
      "      T1_EFFG3: false\n",
      "      T2_EFFG3: false\n",
      "      T1_EFG_SUM: true\n",
      "      T2_EFG_SUM: true\n",
      "      T1_TO_RATIO: true\n",
      "      T2_TO_RATIO: true\n",
      "      T1_OR: true\n",
      "      T2_OR: true\n",
      "      T1_DR: true\n",
      "      T2_DR: true\n",
      "      T1_REB_RATE: true\n",
      "      T2_REB_RATE: true\n",
      "      T1_FT_RATE: true\n",
      "      T2_FT_RATE: true\n",
      "      T1_RATING: false\n",
      "      T2_RATING: false\n",
      "      T1_POSS_RATE: true\n",
      "      T2_POSS_RATE: true\n",
      "      T1_Ast: true\n",
      "      T2_Ast: true\n",
      "      T1_TO: true\n",
      "      T2_TO: true\n",
      "      T1_Stl: true\n",
      "      T2_Stl: true\n",
      "      T1_Blk: true\n",
      "      T2_Blk: true\n",
      "      T1_PF: true\n",
      "      T2_PF: true\n",
      "      T1_DARE: false\n",
      "      T2_DARE: false\n",
      "      T1_TOQUETOQUE: false\n",
      "      T2_TOQUETOQUE: false\n",
      "    rank_diff: true\n",
      "    start_quality_season: 2003\n",
      "    season_average:\n",
      "      enabled: false\n",
      "      past_years: 3\n",
      "      weights:\n",
      "      - 1\n",
      "      - 2\n",
      "      - 3\n",
      "    fillna:\n",
      "      quality: 'nan'\n",
      "  model:\n",
      "    repeat_cv: 10\n",
      "    optuna_enabled: false\n",
      "    xgb_model:\n",
      "      param:\n",
      "        eval_metric: rmse\n",
      "        booster: gbtree\n",
      "        eta: 0.02\n",
      "        subsample: 0.35\n",
      "        colsample_bytree: 0.7\n",
      "        num_parallel_tree: 10\n",
      "        min_child_weight: 40\n",
      "        gamma: 10\n",
      "        max_depth: 3\n",
      "      obj: cauchyoj\n",
      "      num_boost_round: 3000\n",
      "      folds_splits: 5\n",
      "      early_stopping_rounds: 25\n",
      "      optuna:\n",
      "        max_depth:\n",
      "        - 3\n",
      "        - 7\n",
      "        eta:\n",
      "        - 0.001\n",
      "        - 0.03\n",
      "        subsample:\n",
      "        - 0.2\n",
      "        - 0.5\n",
      "        colsample_bytree:\n",
      "        - 0.5\n",
      "        - 1.0\n",
      "        num_parallel_tree:\n",
      "        - 7\n",
      "        - 12\n",
      "        min_child_weight:\n",
      "        - 30\n",
      "        - 50\n",
      "        reg_alpha:\n",
      "        - 0.0\n",
      "        - 1.0\n",
      "        reg_lambda:\n",
      "        - 0.0\n",
      "        - 1.0\n",
      "        gamma:\n",
      "        - 0\n",
      "        - 10\n",
      "        n_trials: 1000\n",
      "        timeout: 28800\n",
      "        n_jobs: -1\n",
      "        n_warmup_steps: 3\n",
      "    spline: logistic\n",
      "  hand_labeling: null\n",
      "\n"
     ]
    }
   ],
   "source": [
    "\n",
    "import os\n",
    "import sys\n",
    "from pathlib import Path\n",
    "import collections\n",
    "from datetime import datetime\n",
    "import shutil\n",
    "import yaml\n",
    "from tqdm import tqdm\n",
    "import time\n",
    "import optuna\n",
    "from loguru import logger\n",
    "import collections\n",
    "\n",
    "from hydra import initialize, initialize_config_module, initialize_config_dir, compose\n",
    "from omegaconf import OmegaConf\n",
    "\n",
    "import numpy as np\n",
    "import pandas as pd\n",
    "import matplotlib.pyplot as plt\n",
    "import seaborn as sns\n",
    "from scipy.interpolate import UnivariateSpline\n",
    "\n",
    "import xgboost as xgb\n",
    "from xgboost import XGBRegressor\n",
    "from sklearn.model_selection import KFold\n",
    "from sklearn.calibration import calibration_curve\n",
    "from sklearn.metrics import log_loss,mean_squared_error, mean_absolute_error, roc_auc_score, average_precision_score\n",
    "from sklearn.metrics import make_scorer\n",
    "from sklearn.model_selection import cross_val_score, KFold\n",
    "from sklearn.linear_model import LogisticRegression\n",
    "from sklearn.preprocessing import OneHotEncoder\n",
    "from sklearn.isotonic import IsotonicRegression\n",
    "\n",
    "import statsmodels.api as sm\n",
    "\n",
    "START_TIME = time.time()\n",
    "\n",
    "\n",
    "#####\n",
    "#EXP_NUM = \"test\"\n",
    "#####\n",
    "print(EXP_NUM)\n",
    "\n",
    "# hydraの初期設定と指定ハイパラの取得\n",
    "sys.path.append(os.path.abspath(\"/workspace\"))\n",
    "sys.path.append(\"C:\\\\Users\\\\81809\\\\Documents\\\\ALL_CODE\\\\kaggle\\\\March Machine Learning Mania 2025\")\n",
    "with initialize_config_module(version_base=None, config_module=\"conf\"):\n",
    "    cfg = compose(\n",
    "        config_name=\"base.yaml\",\n",
    "        overrides=[\n",
    "            f\"+exp={EXP_NUM}\" #defaultexp001->exp002のオーバーライド\n",
    "        ],\n",
    "    )\n",
    "    \n",
    "    OmegaConf.resolve(cfg)\n",
    "    print(\"Omega conf is below\")\n",
    "    print(OmegaConf.to_yaml(cfg))\n"
   ]
  },
  {
   "cell_type": "code",
   "execution_count": 4,
   "id": "7fbbcff1",
   "metadata": {
    "execution": {
     "iopub.execute_input": "2025-03-13T12:42:01.807709Z",
     "iopub.status.busy": "2025-03-13T12:42:01.807709Z",
     "iopub.status.idle": "2025-03-13T12:42:01.836649Z",
     "shell.execute_reply": "2025-03-13T12:42:01.836649Z"
    },
    "papermill": {
     "duration": 0.0378,
     "end_time": "2025-03-13T12:42:01.838669",
     "exception": false,
     "start_time": "2025-03-13T12:42:01.800869",
     "status": "completed"
    },
    "tags": []
   },
   "outputs": [
    {
     "name": "stdout",
     "output_type": "stream",
     "text": [
      "########\n",
      "output dir name: last10years\n",
      "Run on 2025-03-13 21:42:01.819838\n",
      "base & use last 10 years\n",
      "########\n"
     ]
    }
   ],
   "source": [
    "PREDICT_YEAR = cfg.exp.tournament.target_season\n",
    "name = f\"{cfg.exp.name}\"\n",
    "now = str(datetime.now())\n",
    "print(\"########\")\n",
    "print(f\"output dir name: {name}\")\n",
    "print(f\"Run on {now}\")\n",
    "print(cfg.exp.print_name)\n",
    "print(\"########\")\n",
    "\n",
    "BASE_DIR = os.path.abspath(os.path.join(os.getcwd(), \"..\"))\n",
    "CONF_PATH = os.path.join(BASE_DIR, \"conf\")\n",
    "INPUT_PATH = os.path.join(BASE_DIR, \"input\")\n",
    "EXP_PATH = os.path.join(CONF_PATH, \"exp\", f\"{EXP_NUM}.yaml\")\n",
    "OUTPUT_PATH = os.path.join(BASE_DIR, \"output\", name)\n",
    "SRC_PATH = cfg.dir.src_path\n",
    "sys.path.append(SRC_PATH)\n",
    "\n",
    "os.makedirs(OUTPUT_PATH, exist_ok=True)  \n",
    "with open(EXP_PATH, \"r\", encoding=\"utf-8\") as f:\n",
    "    config = yaml.safe_load(f)\n",
    "shutil.copyfile(EXP_PATH, os.path.join(OUTPUT_PATH, f\"{EXP_NUM}.yaml\"))\n",
    "\n",
    "\n",
    "y_season = cfg.exp.tournament.target_season\n",
    "FEATURES = cfg.exp.features\n",
    "MODEL = cfg.exp.model\n",
    "results = [\"\", f\"-----{PREDICT_YEAR}-----\", now ,name, cfg.exp.print_name,\"\"]"
   ]
  },
  {
   "cell_type": "code",
   "execution_count": 5,
   "id": "294a20c3",
   "metadata": {
    "execution": {
     "iopub.execute_input": "2025-03-13T12:42:01.856695Z",
     "iopub.status.busy": "2025-03-13T12:42:01.855695Z",
     "iopub.status.idle": "2025-03-13T12:42:03.636422Z",
     "shell.execute_reply": "2025-03-13T12:42:03.635916Z"
    },
    "papermill": {
     "duration": 1.789731,
     "end_time": "2025-03-13T12:42:03.637425",
     "exception": false,
     "start_time": "2025-03-13T12:42:01.847694",
     "status": "completed"
    },
    "tags": []
   },
   "outputs": [],
   "source": [
    "tourney_results = pd.concat([\n",
    "    pd.read_csv(os.path.join(INPUT_PATH,\"MNCAATourneyDetailedResults.csv\")),\n",
    "    pd.read_csv(os.path.join(INPUT_PATH,\"WNCAATourneyDetailedResults.csv\")),\n",
    "], ignore_index=True)\n",
    "\n",
    "seeds = pd.concat([\n",
    "    pd.read_csv(os.path.join(INPUT_PATH,\"MNCAATourneySeeds.csv\")),\n",
    "    pd.read_csv(os.path.join(INPUT_PATH,\"WNCAATourneySeeds.csv\")),\n",
    "], ignore_index=True)\n",
    "\n",
    "regular_results = pd.concat([\n",
    "    pd.read_csv(os.path.join(INPUT_PATH, \"MRegularSeasonDetailedResults.csv\")),\n",
    "    pd.read_csv(os.path.join(INPUT_PATH,\"WRegularSeasonDetailedResults.csv\")),\n",
    "], ignore_index=True)\n",
    "\n",
    "ordinal_rank = pd.read_csv(os.path.join(INPUT_PATH, \"MMasseyOrdinals.csv\"))\n",
    "\n",
    "# 1試合情報からWin,Lose反転させてデータ数２倍にかさまし and WLoc -> location(0 or -1 or 1)\n",
    "def prepare_data(df1):\n",
    "    df = df1.copy()\n",
    "    ### add new box score\n",
    "    #type1: normal EFG\n",
    "    df['WEFFG'] = df['WFGM'] / df['WFGA']\n",
    "    df['LEFFG'] = df['LFGM'] / df['LFGA']\n",
    "    #type2: 1stfeature EFG\n",
    "    df['WEFFG3'] = np.where(df['WFGA3'] == 0, 0, df['WFGM3'] / df['WFGA3'])\n",
    "    df['LEFFG3'] = np.where(df['LFGA3'] == 0, 0, df['LFGM3'] / df['LFGA3'])\n",
    "    df['WDARE'] = df['WFGM3'] / df['WFGM']\n",
    "    df['LDARE'] = df['LFGM3'] / df['LFGM']\n",
    "    df['WTOQUETOQUE'] = df['WAst'] / df['WFGM']\n",
    "    df['LTOQUETOQUE'] = df['LAst'] / df['LFGM']\n",
    "    #type3: OFF/DEF FGE\n",
    "    df[\"WEFG_SUM\"] = (df[\"WFGM\"]+0.5*df[\"WFGM3\"])/df[\"WFGA\"]\n",
    "    df[\"LEFG_SUM\"] = (df[\"LFGM\"]+0.5*df[\"LFGM3\"])/df[\"LFGA\"]\n",
    "\n",
    "    #POSS RATE\n",
    "    df[\"WPOSS\"] = df[\"WFGA\"] + 0.44*df[\"WFTA\"] - df[\"WOR\"] + df[\"WTO\"]\n",
    "    df[\"LPOSS\"] = df[\"LFGA\"] + 0.44*df[\"LFTA\"] - df[\"LOR\"] + df[\"LTO\"]\n",
    "    df[\"WPOSS_RATE\"] = df[\"WPOSS\"]/(df[\"WPOSS\"]+df[\"LPOSS\"])\n",
    "    df[\"LPOSS_RATE\"] = df[\"LPOSS\"]/(df[\"WPOSS\"]+df[\"LPOSS\"])\n",
    "    \n",
    "    #TO Ratio \n",
    "    df[\"WTO_RATIO\"] = df[\"WTO\"]/(df[\"WFGA\"]+0.44*df[\"WFTA\"]+df[\"WTO\"])#POSS RATEと違ってOR入っていない\n",
    "    df[\"LTO_RATIO\"] = df[\"LTO\"]/(df[\"LFGA\"]+0.44*df[\"LFTA\"]+df[\"LTO\"])\n",
    "    \n",
    "    # REB%\n",
    "    df[\"WREB_RATE\"] = df[\"WOR\"]/(df[\"WOR\"]+df[\"LDR\"])\n",
    "    df[\"LREB_RATE\"] = df[\"LOR\"]/(df[\"LOR\"]+df[\"WDR\"])\n",
    "    \n",
    "    #FT %\n",
    "    df[\"WFT_RATE\"] = df[\"WFTA\"]/df[\"WFGA\"]\n",
    "    df[\"LFT_RATE\"] = df[\"LFTA\"]/df[\"LFGA\"]\n",
    "    \n",
    "    #rating\n",
    "    df[\"WRATING\"] = df[\"WScore\"]/df[\"WPOSS\"]\n",
    "    df[\"LRATING\"] = df[\"LScore\"]/df[\"LPOSS\"]\n",
    "        \n",
    "    #0除算補完\n",
    "    print(df.info())\n",
    "        \n",
    "    #かさましに伴う反転カラム\n",
    "    dfswap = df.copy()\n",
    "    # Home, Away変換して反転\n",
    "    dfswap.loc[df['WLoc'] == 'H', 'WLoc'] = 'A'\n",
    "    dfswap.loc[df['WLoc'] == 'A', 'WLoc'] = 'H'\n",
    "    df.columns.values[6] = 'location'\n",
    "    dfswap.columns.values[6] = 'location'    \n",
    "    #反転\n",
    "    df.columns = [x.replace('W','T1_').replace('L','T2_') for x in list(df.columns)]\n",
    "    dfswap.columns = [x.replace('L','T1_').replace('W','T2_') for x in list(dfswap.columns)]\n",
    "    output = pd.concat([df, dfswap]).reset_index(drop=True)\n",
    "    \n",
    "    \n",
    "    #add new feature\n",
    "    #locationを数値に変換\n",
    "    output.loc[output.location=='N','location'] = '0'\n",
    "    output.loc[output.location=='H','location'] = '1'\n",
    "    output.loc[output.location=='A','location'] = '-1'\n",
    "    output.location = output.location.astype(int)\n",
    "    \n",
    "    #add PointDiff&win\n",
    "    output['PointDiff'] = output['T1_Score'] - output['T2_Score']\n",
    "    output[\"win\"] = np.where(output['PointDiff']>0,1,0)\n",
    "    \n",
    "    \n",
    "    print(f\"feature cols after prepare()\")\n",
    "    print(output.columns)\n",
    "    return output\n",
    "\n"
   ]
  },
  {
   "cell_type": "code",
   "execution_count": 6,
   "id": "f7f57d70",
   "metadata": {
    "execution": {
     "iopub.execute_input": "2025-03-13T12:42:03.645698Z",
     "iopub.status.busy": "2025-03-13T12:42:03.645698Z",
     "iopub.status.idle": "2025-03-13T12:42:03.773660Z",
     "shell.execute_reply": "2025-03-13T12:42:03.772594Z"
    },
    "papermill": {
     "duration": 0.134468,
     "end_time": "2025-03-13T12:42:03.774668",
     "exception": false,
     "start_time": "2025-03-13T12:42:03.640200",
     "status": "completed"
    },
    "tags": []
   },
   "outputs": [
    {
     "name": "stdout",
     "output_type": "stream",
     "text": [
      "各カラムの異常値の個数を表示します。\n",
      "\n"
     ]
    }
   ],
   "source": [
    "import numpy as np\n",
    "\n",
    "# 異常値のチェック\n",
    "def check_abnormal_values(df):\n",
    "    print(\"各カラムの異常値の個数を表示します。\\n\")\n",
    "\n",
    "    for col in df.columns:\n",
    "        nan_count = df[col].isna().sum()  # NaN の数\n",
    "        inf_count = (df[col] == np.inf).sum()  # inf の数\n",
    "        neg_inf_count = (df[col] == -np.inf).sum()  # -inf の数\n",
    "\n",
    "        if nan_count > 0 or inf_count > 0 or neg_inf_count > 0:\n",
    "            print(f\"Column: {col}\")\n",
    "            print(f\"  NaN    : {nan_count}\")\n",
    "            print(f\"  Inf    : {inf_count}\")\n",
    "            print(f\"  -Inf   : {neg_inf_count}\")\n",
    "            print(\"-\" * 30)\n",
    "\n",
    "# 関数を実行\n",
    "check_abnormal_values(regular_results)\n"
   ]
  },
  {
   "cell_type": "code",
   "execution_count": 7,
   "id": "00404724",
   "metadata": {
    "execution": {
     "iopub.execute_input": "2025-03-13T12:42:03.790177Z",
     "iopub.status.busy": "2025-03-13T12:42:03.789838Z",
     "iopub.status.idle": "2025-03-13T12:42:04.222640Z",
     "shell.execute_reply": "2025-03-13T12:42:04.222640Z"
    },
    "papermill": {
     "duration": 0.440972,
     "end_time": "2025-03-13T12:42:04.222640",
     "exception": false,
     "start_time": "2025-03-13T12:42:03.781668",
     "status": "completed"
    },
    "tags": []
   },
   "outputs": [
    {
     "name": "stdout",
     "output_type": "stream",
     "text": [
      "<class 'pandas.core.frame.DataFrame'>\n",
      "Index: 110368 entries, 28825 to 170137\n",
      "Data columns (total 56 columns):\n",
      " #   Column       Non-Null Count   Dtype  \n",
      "---  ------       --------------   -----  \n",
      " 0   Season       110368 non-null  int64  \n",
      " 1   DayNum       110368 non-null  int64  \n",
      " 2   WTeamID      110368 non-null  int64  \n",
      " 3   WScore       110368 non-null  int64  \n",
      " 4   LTeamID      110368 non-null  int64  \n",
      " 5   LScore       110368 non-null  int64  \n",
      " 6   WLoc         110368 non-null  object \n",
      " 7   NumOT        110368 non-null  int64  \n",
      " 8   WFGM         110368 non-null  int64  \n",
      " 9   WFGA         110368 non-null  int64  \n",
      " 10  WFGM3        110368 non-null  int64  \n",
      " 11  WFGA3        110368 non-null  int64  \n",
      " 12  WFTM         110368 non-null  int64  \n",
      " 13  WFTA         110368 non-null  int64  \n",
      " 14  WOR          110368 non-null  int64  \n",
      " 15  WDR          110368 non-null  int64  \n",
      " 16  WAst         110368 non-null  int64  \n",
      " 17  WTO          110368 non-null  int64  \n",
      " 18  WStl         110368 non-null  int64  \n",
      " 19  WBlk         110368 non-null  int64  \n",
      " 20  WPF          110368 non-null  int64  \n",
      " 21  LFGM         110368 non-null  int64  \n",
      " 22  LFGA         110368 non-null  int64  \n",
      " 23  LFGM3        110368 non-null  int64  \n",
      " 24  LFGA3        110368 non-null  int64  \n",
      " 25  LFTM         110368 non-null  int64  \n",
      " 26  LFTA         110368 non-null  int64  \n",
      " 27  LOR          110368 non-null  int64  \n",
      " 28  LDR          110368 non-null  int64  \n",
      " 29  LAst         110368 non-null  int64  \n",
      " 30  LTO          110368 non-null  int64  \n",
      " 31  LStl         110368 non-null  int64  \n",
      " 32  LBlk         110368 non-null  int64  \n",
      " 33  LPF          110368 non-null  int64  \n",
      " 34  WEFFG        110368 non-null  float64\n",
      " 35  LEFFG        110368 non-null  float64\n",
      " 36  WEFFG3       110368 non-null  float64\n",
      " 37  LEFFG3       110368 non-null  float64\n",
      " 38  WDARE        110368 non-null  float64\n",
      " 39  LDARE        110368 non-null  float64\n",
      " 40  WTOQUETOQUE  110368 non-null  float64\n",
      " 41  LTOQUETOQUE  110368 non-null  float64\n",
      " 42  WEFG_SUM     110368 non-null  float64\n",
      " 43  LEFG_SUM     110368 non-null  float64\n",
      " 44  WPOSS        110368 non-null  float64\n",
      " 45  LPOSS        110368 non-null  float64\n",
      " 46  WPOSS_RATE   110368 non-null  float64\n",
      " 47  LPOSS_RATE   110368 non-null  float64\n",
      " 48  WTO_RATIO    110368 non-null  float64\n",
      " 49  LTO_RATIO    110368 non-null  float64\n",
      " 50  WREB_RATE    110368 non-null  float64\n",
      " 51  LREB_RATE    110368 non-null  float64\n",
      " 52  WFT_RATE     110368 non-null  float64\n",
      " 53  LFT_RATE     110368 non-null  float64\n",
      " 54  WRATING      110368 non-null  float64\n",
      " 55  LRATING      110368 non-null  float64\n",
      "dtypes: float64(22), int64(33), object(1)\n",
      "memory usage: 48.0+ MB\n",
      "None\n"
     ]
    },
    {
     "name": "stdout",
     "output_type": "stream",
     "text": [
      "feature cols after prepare()\n",
      "Index(['Season', 'DayNum', 'T1_TeamID', 'T1_Score', 'T2_TeamID', 'T2_Score',\n",
      "       'location', 'NumOT', 'T1_FGM', 'T1_FGA', 'T1_FGM3', 'T1_FGA3', 'T1_FTM',\n",
      "       'T1_FTA', 'T1_OR', 'T1_DR', 'T1_Ast', 'T1_TO', 'T1_Stl', 'T1_Blk',\n",
      "       'T1_PF', 'T2_FGM', 'T2_FGA', 'T2_FGM3', 'T2_FGA3', 'T2_FTM', 'T2_FTA',\n",
      "       'T2_OR', 'T2_DR', 'T2_Ast', 'T2_TO', 'T2_Stl', 'T2_Blk', 'T2_PF',\n",
      "       'T1_EFFG', 'T2_EFFG', 'T1_EFFG3', 'T2_EFFG3', 'T1_DARE', 'T2_DARE',\n",
      "       'T1_TOQUETOQUE', 'T2_TOQUETOQUE', 'T1_EFG_SUM', 'T2_EFG_SUM', 'T1_POSS',\n",
      "       'T2_POSS', 'T1_POSS_RATE', 'T2_POSS_RATE', 'T1_TO_RATIO', 'T2_TO_RATIO',\n",
      "       'T1_REB_RATE', 'T2_REB_RATE', 'T1_FT_RATE', 'T2_FT_RATE', 'T1_RATING',\n",
      "       'T2_RATING', 'PointDiff', 'win'],\n",
      "      dtype='object')\n",
      "<class 'pandas.core.frame.DataFrame'>\n",
      "RangeIndex: 220736 entries, 0 to 220735\n",
      "Data columns (total 58 columns):\n",
      " #   Column         Non-Null Count   Dtype  \n",
      "---  ------         --------------   -----  \n",
      " 0   Season         220736 non-null  int64  \n",
      " 1   DayNum         220736 non-null  int64  \n",
      " 2   T1_TeamID      220736 non-null  int64  \n",
      " 3   T1_Score       220736 non-null  int64  \n",
      " 4   T2_TeamID      220736 non-null  int64  \n",
      " 5   T2_Score       220736 non-null  int64  \n",
      " 6   location       220736 non-null  int32  \n",
      " 7   NumOT          220736 non-null  int64  \n",
      " 8   T1_FGM         220736 non-null  int64  \n",
      " 9   T1_FGA         220736 non-null  int64  \n",
      " 10  T1_FGM3        220736 non-null  int64  \n",
      " 11  T1_FGA3        220736 non-null  int64  \n",
      " 12  T1_FTM         220736 non-null  int64  \n",
      " 13  T1_FTA         220736 non-null  int64  \n",
      " 14  T1_OR          220736 non-null  int64  \n",
      " 15  T1_DR          220736 non-null  int64  \n",
      " 16  T1_Ast         220736 non-null  int64  \n",
      " 17  T1_TO          220736 non-null  int64  \n",
      " 18  T1_Stl         220736 non-null  int64  \n",
      " 19  T1_Blk         220736 non-null  int64  \n",
      " 20  T1_PF          220736 non-null  int64  \n",
      " 21  T2_FGM         220736 non-null  int64  \n",
      " 22  T2_FGA         220736 non-null  int64  \n",
      " 23  T2_FGM3        220736 non-null  int64  \n",
      " 24  T2_FGA3        220736 non-null  int64  \n",
      " 25  T2_FTM         220736 non-null  int64  \n",
      " 26  T2_FTA         220736 non-null  int64  \n",
      " 27  T2_OR          220736 non-null  int64  \n",
      " 28  T2_DR          220736 non-null  int64  \n",
      " 29  T2_Ast         220736 non-null  int64  \n",
      " 30  T2_TO          220736 non-null  int64  \n",
      " 31  T2_Stl         220736 non-null  int64  \n",
      " 32  T2_Blk         220736 non-null  int64  \n",
      " 33  T2_PF          220736 non-null  int64  \n",
      " 34  T1_EFFG        220736 non-null  float64\n",
      " 35  T2_EFFG        220736 non-null  float64\n",
      " 36  T1_EFFG3       220736 non-null  float64\n",
      " 37  T2_EFFG3       220736 non-null  float64\n",
      " 38  T1_DARE        220736 non-null  float64\n",
      " 39  T2_DARE        220736 non-null  float64\n",
      " 40  T1_TOQUETOQUE  220736 non-null  float64\n",
      " 41  T2_TOQUETOQUE  220736 non-null  float64\n",
      " 42  T1_EFG_SUM     220736 non-null  float64\n",
      " 43  T2_EFG_SUM     220736 non-null  float64\n",
      " 44  T1_POSS        220736 non-null  float64\n",
      " 45  T2_POSS        220736 non-null  float64\n",
      " 46  T1_POSS_RATE   220736 non-null  float64\n",
      " 47  T2_POSS_RATE   220736 non-null  float64\n",
      " 48  T1_TO_RATIO    220736 non-null  float64\n",
      " 49  T2_TO_RATIO    220736 non-null  float64\n",
      " 50  T1_REB_RATE    220736 non-null  float64\n",
      " 51  T2_REB_RATE    220736 non-null  float64\n",
      " 52  T1_FT_RATE     220736 non-null  float64\n",
      " 53  T2_FT_RATE     220736 non-null  float64\n",
      " 54  T1_RATING      220736 non-null  float64\n",
      " 55  T2_RATING      220736 non-null  float64\n",
      " 56  PointDiff      220736 non-null  int64  \n",
      " 57  win            220736 non-null  int32  \n",
      "dtypes: float64(22), int32(2), int64(34)\n",
      "memory usage: 96.0 MB\n"
     ]
    },
    {
     "data": {
      "text/html": [
       "<div>\n",
       "<style scoped>\n",
       "    .dataframe tbody tr th:only-of-type {\n",
       "        vertical-align: middle;\n",
       "    }\n",
       "\n",
       "    .dataframe tbody tr th {\n",
       "        vertical-align: top;\n",
       "    }\n",
       "\n",
       "    .dataframe thead th {\n",
       "        text-align: right;\n",
       "    }\n",
       "</style>\n",
       "<table border=\"1\" class=\"dataframe\">\n",
       "  <thead>\n",
       "    <tr style=\"text-align: right;\">\n",
       "      <th></th>\n",
       "      <th>Season</th>\n",
       "      <th>DayNum</th>\n",
       "      <th>T1_TeamID</th>\n",
       "      <th>T1_Score</th>\n",
       "      <th>T2_TeamID</th>\n",
       "      <th>T2_Score</th>\n",
       "      <th>location</th>\n",
       "      <th>NumOT</th>\n",
       "      <th>T1_FGM</th>\n",
       "      <th>T1_FGA</th>\n",
       "      <th>...</th>\n",
       "      <th>T1_TO_RATIO</th>\n",
       "      <th>T2_TO_RATIO</th>\n",
       "      <th>T1_REB_RATE</th>\n",
       "      <th>T2_REB_RATE</th>\n",
       "      <th>T1_FT_RATE</th>\n",
       "      <th>T2_FT_RATE</th>\n",
       "      <th>T1_RATING</th>\n",
       "      <th>T2_RATING</th>\n",
       "      <th>PointDiff</th>\n",
       "      <th>win</th>\n",
       "    </tr>\n",
       "  </thead>\n",
       "  <tbody>\n",
       "    <tr>\n",
       "      <th>0</th>\n",
       "      <td>2009</td>\n",
       "      <td>7</td>\n",
       "      <td>1181</td>\n",
       "      <td>80</td>\n",
       "      <td>1342</td>\n",
       "      <td>49</td>\n",
       "      <td>1</td>\n",
       "      <td>0</td>\n",
       "      <td>30</td>\n",
       "      <td>63</td>\n",
       "      <td>...</td>\n",
       "      <td>0.225225</td>\n",
       "      <td>0.313339</td>\n",
       "      <td>0.424242</td>\n",
       "      <td>0.250000</td>\n",
       "      <td>0.333333</td>\n",
       "      <td>0.358491</td>\n",
       "      <td>1.009591</td>\n",
       "      <td>0.617440</td>\n",
       "      <td>31</td>\n",
       "      <td>1</td>\n",
       "    </tr>\n",
       "    <tr>\n",
       "      <th>1</th>\n",
       "      <td>2009</td>\n",
       "      <td>7</td>\n",
       "      <td>1204</td>\n",
       "      <td>65</td>\n",
       "      <td>1222</td>\n",
       "      <td>63</td>\n",
       "      <td>0</td>\n",
       "      <td>0</td>\n",
       "      <td>24</td>\n",
       "      <td>62</td>\n",
       "      <td>...</td>\n",
       "      <td>0.207852</td>\n",
       "      <td>0.168919</td>\n",
       "      <td>0.463415</td>\n",
       "      <td>0.365854</td>\n",
       "      <td>0.241935</td>\n",
       "      <td>0.473684</td>\n",
       "      <td>0.961538</td>\n",
       "      <td>0.928108</td>\n",
       "      <td>2</td>\n",
       "      <td>1</td>\n",
       "    </tr>\n",
       "    <tr>\n",
       "      <th>2</th>\n",
       "      <td>2009</td>\n",
       "      <td>8</td>\n",
       "      <td>1181</td>\n",
       "      <td>97</td>\n",
       "      <td>1204</td>\n",
       "      <td>54</td>\n",
       "      <td>1</td>\n",
       "      <td>0</td>\n",
       "      <td>32</td>\n",
       "      <td>66</td>\n",
       "      <td>...</td>\n",
       "      <td>0.111607</td>\n",
       "      <td>0.188387</td>\n",
       "      <td>0.534884</td>\n",
       "      <td>0.313725</td>\n",
       "      <td>0.742424</td>\n",
       "      <td>0.328125</td>\n",
       "      <td>1.283748</td>\n",
       "      <td>0.727371</td>\n",
       "      <td>43</td>\n",
       "      <td>1</td>\n",
       "    </tr>\n",
       "    <tr>\n",
       "      <th>3</th>\n",
       "      <td>2009</td>\n",
       "      <td>8</td>\n",
       "      <td>1222</td>\n",
       "      <td>76</td>\n",
       "      <td>1342</td>\n",
       "      <td>57</td>\n",
       "      <td>0</td>\n",
       "      <td>0</td>\n",
       "      <td>30</td>\n",
       "      <td>56</td>\n",
       "      <td>...</td>\n",
       "      <td>0.125698</td>\n",
       "      <td>0.273145</td>\n",
       "      <td>0.285714</td>\n",
       "      <td>0.307692</td>\n",
       "      <td>0.267857</td>\n",
       "      <td>0.600000</td>\n",
       "      <td>1.194969</td>\n",
       "      <td>0.925926</td>\n",
       "      <td>19</td>\n",
       "      <td>1</td>\n",
       "    </tr>\n",
       "    <tr>\n",
       "      <th>4</th>\n",
       "      <td>2009</td>\n",
       "      <td>8</td>\n",
       "      <td>1318</td>\n",
       "      <td>73</td>\n",
       "      <td>1237</td>\n",
       "      <td>60</td>\n",
       "      <td>0</td>\n",
       "      <td>0</td>\n",
       "      <td>21</td>\n",
       "      <td>50</td>\n",
       "      <td>...</td>\n",
       "      <td>0.115207</td>\n",
       "      <td>0.125980</td>\n",
       "      <td>0.366667</td>\n",
       "      <td>0.371429</td>\n",
       "      <td>0.520000</td>\n",
       "      <td>0.509804</td>\n",
       "      <td>1.249144</td>\n",
       "      <td>1.026694</td>\n",
       "      <td>13</td>\n",
       "      <td>1</td>\n",
       "    </tr>\n",
       "  </tbody>\n",
       "</table>\n",
       "<p>5 rows × 58 columns</p>\n",
       "</div>"
      ],
      "text/plain": [
       "   Season  DayNum  T1_TeamID  T1_Score  T2_TeamID  T2_Score  location  NumOT  \\\n",
       "0    2009       7       1181        80       1342        49         1      0   \n",
       "1    2009       7       1204        65       1222        63         0      0   \n",
       "2    2009       8       1181        97       1204        54         1      0   \n",
       "3    2009       8       1222        76       1342        57         0      0   \n",
       "4    2009       8       1318        73       1237        60         0      0   \n",
       "\n",
       "   T1_FGM  T1_FGA  ...  T1_TO_RATIO  T2_TO_RATIO  T1_REB_RATE  T2_REB_RATE  \\\n",
       "0      30      63  ...     0.225225     0.313339     0.424242     0.250000   \n",
       "1      24      62  ...     0.207852     0.168919     0.463415     0.365854   \n",
       "2      32      66  ...     0.111607     0.188387     0.534884     0.313725   \n",
       "3      30      56  ...     0.125698     0.273145     0.285714     0.307692   \n",
       "4      21      50  ...     0.115207     0.125980     0.366667     0.371429   \n",
       "\n",
       "   T1_FT_RATE  T2_FT_RATE  T1_RATING  T2_RATING  PointDiff  win  \n",
       "0    0.333333    0.358491   1.009591   0.617440         31    1  \n",
       "1    0.241935    0.473684   0.961538   0.928108          2    1  \n",
       "2    0.742424    0.328125   1.283748   0.727371         43    1  \n",
       "3    0.267857    0.600000   1.194969   0.925926         19    1  \n",
       "4    0.520000    0.509804   1.249144   1.026694         13    1  \n",
       "\n",
       "[5 rows x 58 columns]"
      ]
     },
     "metadata": {},
     "output_type": "display_data"
    },
    {
     "data": {
      "text/plain": [
       "None"
      ]
     },
     "metadata": {},
     "output_type": "display_data"
    }
   ],
   "source": [
    "#予測する年以降の情報はフィルタリング\n",
    "USE_START_YEAR = cfg.exp.tournament.use_start_season\n",
    "notexist = tourney_results[tourney_results[\"Season\"] == PREDICT_YEAR]\n",
    "tourney_results = tourney_results[(tourney_results[\"Season\"] >= USE_START_YEAR) & (tourney_results[\"Season\"] < PREDICT_YEAR)]\n",
    "seeds = seeds[(seeds[\"Season\"] >= USE_START_YEAR) & (seeds[\"Season\"] <= PREDICT_YEAR)]\n",
    "regular_results = regular_results[(regular_results[\"Season\"] >= USE_START_YEAR) & (regular_results[\"Season\"] <= PREDICT_YEAR)]\n",
    "\n",
    "regular_data = prepare_data(regular_results)\n",
    "display(regular_data.head(), regular_data.info())"
   ]
  },
  {
   "cell_type": "code",
   "execution_count": 8,
   "id": "7dfb6021",
   "metadata": {
    "execution": {
     "iopub.execute_input": "2025-03-13T12:42:04.240209Z",
     "iopub.status.busy": "2025-03-13T12:42:04.240209Z",
     "iopub.status.idle": "2025-03-13T12:42:04.253097Z",
     "shell.execute_reply": "2025-03-13T12:42:04.252726Z"
    },
    "papermill": {
     "duration": 0.032199,
     "end_time": "2025-03-13T12:42:04.254839",
     "exception": false,
     "start_time": "2025-03-13T12:42:04.222640",
     "status": "completed"
    },
    "tags": []
   },
   "outputs": [],
   "source": [
    "#使用特徴量(boxscore_cols)を取得してそれに対して(\"Season\", 'T1_TeamID')でまとめた特徴量の追加\n",
    "#### 1. win_ration_14d ####\n",
    "def add_win_ratio_14d(df):\n",
    "    df_filtered = df[df['DayNum'] > 118].copy()\n",
    "    df_filtered['Win'] = (df_filtered['PointDiff'] > 0).astype(int)\n",
    "    \n",
    "    win_ratio_t1 = df_filtered.groupby(['Season', 'T1_TeamID'])['Win'].mean().reset_index()\n",
    "    win_ratio_t1.rename(columns={'Win': 'T1_win_ratio_14d'}, inplace=True)\n",
    "    \n",
    "    win_ratio_t2 = df_filtered.groupby(['Season', 'T2_TeamID'])['Win'].mean().reset_index()\n",
    "    win_ratio_t2.rename(columns={'Win': 'T2_win_ratio_14d'}, inplace=True)\n",
    "    \n",
    "    df = df.merge(win_ratio_t1, on=['Season', 'T1_TeamID'], how='left')\n",
    "    df = df.merge(win_ratio_t2, on=['Season', 'T2_TeamID'], how='left')\n",
    "    \n",
    "    return df\n",
    "\n",
    "##### 2. add mean of boxscore ####\n",
    "def make_col_avg(df, boxscore, group = [\"Season\", \"T1_TeamID\"], func= [np.mean]):\n",
    "    df_stat = df.groupby(group)[boxscore].agg(func)\n",
    "    df_stat.columns = [''.join(col).strip() for col in df_stat.columns.values]\n",
    "    df_stat = df_stat.reset_index()\n",
    "\n",
    "    win_ratio_cols = ['T1_win_ratio_14d'] #ここマージの関係からT2_win_ratio_14dを外したけど大丈夫か考える\n",
    "    df_win_ratio = df[group + win_ratio_cols].drop_duplicates()\n",
    "    df_stat = df_stat.merge(df_win_ratio, on=group, how='left')\n",
    "    \n",
    "    return df_stat\n",
    "\n",
    "#### 3. add team quality ####\n",
    "# 3.0 ロジスティックを行うためのregular_season_effectsデータフレームの作成\n",
    "def make_regular_season_effects(df):\n",
    "    regular_season_effects = df[['Season', 'T1_TeamID', 'T2_TeamID', 'PointDiff']].copy()\n",
    "    regular_season_effects['win'] = np.where(regular_season_effects['PointDiff'] > 0, 1, 0)\n",
    "    return regular_season_effects\n",
    "\n",
    "# 3.1\n",
    "#各シーズンごとの総当たりに対するロジスティック回帰を行う\n",
    "#目的変数はfeatureenginneringから作成したPointDiffの正負に依存するWinとする.\n",
    "#新たな特徴量\"quarity\"をseasonごとの戦績をもとにロジスティックの回帰係数として導入している\n",
    "def team_quality(season,df):\n",
    "    season_data = df[df[\"Season\"] == season]\n",
    "    X = season_data[['T1_TeamID', 'T2_TeamID']]\n",
    "    y = season_data['win']\n",
    "    print(X.shape, y.shape)\n",
    "    encoder = OneHotEncoder(sparse_output=False) #多重共線性防止, 密行列指定\n",
    "    X_encoded = encoder.fit_transform(X)\n",
    "    \n",
    "    model = LogisticRegression(fit_intercept=False)\n",
    "    model.fit(X_encoded, y)\n",
    "    team_ids = encoder.get_feature_names_out(['T1_TeamID', 'T2_TeamID'])\n",
    "\n",
    "    \n",
    "    #quarity: (チーム数)*2(ID, 回帰係数)\n",
    "    quality = pd.DataFrame({\n",
    "        'TeamID': team_ids,\n",
    "        'quality': model.coef_.flatten() #T1_TeamID_1112,,,の形でチーム数分の回帰係数が入る\n",
    "    })\n",
    "\n",
    "    # 値をint 1112 のように整形\n",
    "    quality = quality[quality['TeamID'].str.contains('T1_TeamID')]\n",
    "    quality['TeamID'] = quality['TeamID'].str.replace('T1_TeamID_', '', regex=True).astype(int)\n",
    "    quality['Season'] = season\n",
    "\n",
    "    #display(quality.head())\n",
    "    print(f\"fin make {season}'s team quarity\")\n",
    "    return quality\n",
    "\n",
    "# 4. add seed\n",
    "def add_seed(df, seeds):\n",
    "    temp = seeds.copy()\n",
    "    temp['Seed'] = temp['Seed'].apply(lambda x: int(x[1:3]))\n",
    "    temp.columns = ['Season','T1_seed','T1_TeamID']\n",
    "    df = pd.merge(df, temp, on=[\"Season\", \"T1_TeamID\"], how=\"left\")\n",
    "    return df \n",
    "\n",
    "# 5. add Ordinal rank\n",
    "def add_ordinalrank(df, ordinal):\n",
    "    df_rank = ordinal.groupby([\"Season\", \"TeamID\"])[\"OrdinalRank\"].agg(np.mean).reset_index()\n",
    "    df_rank.head()\n",
    "    ranks = df_rank.rename(columns={'TeamID': 'T1_TeamID', 'OrdinalRank': 'T1_OrdinalRank'})\n",
    "    df = pd.merge(df,ranks,on = [\"Season\",\"T1_TeamID\"],how = \"left\")\n",
    "    return df\n",
    "\n",
    "# main \n",
    "def make_season_statistics(df, boxscore, seeds, func = [np.mean]):\n",
    "    # 1. Win Ratio の計算と追加\n",
    "    add_win = add_win_ratio_14d(df)\n",
    "    print(\"after add win ratio\")\n",
    "    print(add_win.columns)  \n",
    "    \n",
    "    #2. \n",
    "    add_mean = make_col_avg(add_win, boxscore)\n",
    "    print(\"after mean of boxscore\")\n",
    "    print(add_mean.columns)\n",
    "    \n",
    "    #3. \n",
    "    global PREDICT_YEAR, USE_START_YEAR\n",
    "    start_season = max(FEATURES.start_quality_season, USE_START_YEAR)\n",
    "    print(f\"use season for quality feature is: {start_season}\")\n",
    "    regular_season_effects = make_regular_season_effects(df)\n",
    "    glm_season = [i for i in range(start_season, PREDICT_YEAR+1)]\n",
    "\n",
    "    if 2020 in glm_season:\n",
    "        glm_season.remove(2020)\n",
    "    glm_quality = pd.concat([team_quality(season, regular_season_effects) for season in glm_season]).reset_index(drop=True)\n",
    "    # add glm quality \n",
    "    glm_quality_T1 = glm_quality.rename(columns={'TeamID': 'T1_TeamID', 'quality': 'T1_quality'})\n",
    "    add_glm = add_mean.merge(glm_quality_T1, on=['Season', 'T1_TeamID'], how='left')\n",
    "\n",
    "    print(\"add glm quality\")\n",
    "    print(add_glm.columns)\n",
    "    \n",
    "    #4. \n",
    "    add_seeds = add_seed(add_glm, seeds)\n",
    "    print(\"add seeds (final form)\")\n",
    "    print(add_seeds.columns)\n",
    "    \n",
    "    #5. \n",
    "    add_rank = add_ordinalrank(add_seeds, ordinal_rank)\n",
    "    print(\"add ordinal rank\")\n",
    "    print(add_rank.columns)  \n",
    "    return add_rank"
   ]
  },
  {
   "cell_type": "code",
   "execution_count": 9,
   "id": "c28eeb75",
   "metadata": {
    "execution": {
     "iopub.execute_input": "2025-03-13T12:42:04.259289Z",
     "iopub.status.busy": "2025-03-13T12:42:04.259289Z",
     "iopub.status.idle": "2025-03-13T12:42:06.997305Z",
     "shell.execute_reply": "2025-03-13T12:42:06.997305Z"
    },
    "papermill": {
     "duration": 2.738016,
     "end_time": "2025-03-13T12:42:06.997305",
     "exception": false,
     "start_time": "2025-03-13T12:42:04.259289",
     "status": "completed"
    },
    "tags": []
   },
   "outputs": [
    {
     "name": "stdout",
     "output_type": "stream",
     "text": [
      "use boxscore col is\n",
      "['T1_Score', 'T2_Score', 'PointDiff', 'T1_FGM', 'T2_FGM', 'T1_FGA', 'T2_FGA', 'T1_FGM3', 'T2_FGM3', 'T1_FGA3', 'T2_FGA3', 'T1_FTM', 'T2_FTM', 'T1_FTA', 'T2_FTA', 'T1_EFG_SUM', 'T2_EFG_SUM', 'T1_TO_RATIO', 'T2_TO_RATIO', 'T1_OR', 'T2_OR', 'T1_DR', 'T2_DR', 'T1_REB_RATE', 'T2_REB_RATE', 'T1_FT_RATE', 'T2_FT_RATE', 'T1_POSS_RATE', 'T2_POSS_RATE', 'T1_Ast', 'T2_Ast', 'T1_TO', 'T2_TO', 'T1_Stl', 'T2_Stl', 'T1_Blk', 'T2_Blk', 'T1_PF', 'T2_PF']\n"
     ]
    },
    {
     "name": "stdout",
     "output_type": "stream",
     "text": [
      "after add win ratio\n",
      "Index(['Season', 'DayNum', 'T1_TeamID', 'T1_Score', 'T2_TeamID', 'T2_Score',\n",
      "       'location', 'NumOT', 'T1_FGM', 'T1_FGA', 'T1_FGM3', 'T1_FGA3', 'T1_FTM',\n",
      "       'T1_FTA', 'T1_OR', 'T1_DR', 'T1_Ast', 'T1_TO', 'T1_Stl', 'T1_Blk',\n",
      "       'T1_PF', 'T2_FGM', 'T2_FGA', 'T2_FGM3', 'T2_FGA3', 'T2_FTM', 'T2_FTA',\n",
      "       'T2_OR', 'T2_DR', 'T2_Ast', 'T2_TO', 'T2_Stl', 'T2_Blk', 'T2_PF',\n",
      "       'T1_EFFG', 'T2_EFFG', 'T1_EFFG3', 'T2_EFFG3', 'T1_DARE', 'T2_DARE',\n",
      "       'T1_TOQUETOQUE', 'T2_TOQUETOQUE', 'T1_EFG_SUM', 'T2_EFG_SUM', 'T1_POSS',\n",
      "       'T2_POSS', 'T1_POSS_RATE', 'T2_POSS_RATE', 'T1_TO_RATIO', 'T2_TO_RATIO',\n",
      "       'T1_REB_RATE', 'T2_REB_RATE', 'T1_FT_RATE', 'T2_FT_RATE', 'T1_RATING',\n",
      "       'T2_RATING', 'PointDiff', 'win', 'T1_win_ratio_14d',\n",
      "       'T2_win_ratio_14d'],\n",
      "      dtype='object')\n"
     ]
    },
    {
     "name": "stdout",
     "output_type": "stream",
     "text": [
      "after mean of boxscore\n",
      "Index(['Season', 'T1_TeamID', 'T1_Scoremean', 'T2_Scoremean', 'PointDiffmean',\n",
      "       'T1_FGMmean', 'T2_FGMmean', 'T1_FGAmean', 'T2_FGAmean', 'T1_FGM3mean',\n",
      "       'T2_FGM3mean', 'T1_FGA3mean', 'T2_FGA3mean', 'T1_FTMmean', 'T2_FTMmean',\n",
      "       'T1_FTAmean', 'T2_FTAmean', 'T1_EFG_SUMmean', 'T2_EFG_SUMmean',\n",
      "       'T1_TO_RATIOmean', 'T2_TO_RATIOmean', 'T1_ORmean', 'T2_ORmean',\n",
      "       'T1_DRmean', 'T2_DRmean', 'T1_REB_RATEmean', 'T2_REB_RATEmean',\n",
      "       'T1_FT_RATEmean', 'T2_FT_RATEmean', 'T1_POSS_RATEmean',\n",
      "       'T2_POSS_RATEmean', 'T1_Astmean', 'T2_Astmean', 'T1_TOmean',\n",
      "       'T2_TOmean', 'T1_Stlmean', 'T2_Stlmean', 'T1_Blkmean', 'T2_Blkmean',\n",
      "       'T1_PFmean', 'T2_PFmean', 'T1_win_ratio_14d'],\n",
      "      dtype='object')\n",
      "use season for quality feature is: 2009\n",
      "(10498, 2) (10498,)\n"
     ]
    },
    {
     "name": "stderr",
     "output_type": "stream",
     "text": [
      "C:\\Users\\81809\\AppData\\Local\\Temp\\ipykernel_24208\\386782032.py:20: FutureWarning: The provided callable <function mean at 0x00000205A3746520> is currently using SeriesGroupBy.mean. In a future version of pandas, the provided callable will be used directly. To keep current behavior pass the string \"mean\" instead.\n",
      "  df_stat = df.groupby(group)[boxscore].agg(func)\n"
     ]
    },
    {
     "name": "stdout",
     "output_type": "stream",
     "text": [
      "fin make 2009's team quarity\n",
      "(20600, 2) (20600,)\n"
     ]
    },
    {
     "name": "stdout",
     "output_type": "stream",
     "text": [
      "fin make 2010's team quarity\n",
      "(20660, 2) (20660,)\n"
     ]
    },
    {
     "name": "stdout",
     "output_type": "stream",
     "text": [
      "fin make 2011's team quarity\n",
      "(20606, 2) (20606,)\n"
     ]
    },
    {
     "name": "stdout",
     "output_type": "stream",
     "text": [
      "fin make 2012's team quarity\n"
     ]
    },
    {
     "name": "stdout",
     "output_type": "stream",
     "text": [
      "(21008, 2) (21008,)\n"
     ]
    },
    {
     "name": "stdout",
     "output_type": "stream",
     "text": [
      "fin make 2013's team quarity\n",
      "(21228, 2) (21228,)\n",
      "fin make 2014's team quarity\n",
      "(21136, 2) (21136,)\n"
     ]
    },
    {
     "name": "stdout",
     "output_type": "stream",
     "text": [
      "fin make 2015's team quarity\n",
      "(21156, 2) (21156,)\n",
      "fin make 2016's team quarity\n",
      "(21210, 2) (21210,)\n"
     ]
    },
    {
     "name": "stdout",
     "output_type": "stream",
     "text": [
      "fin make 2017's team quarity\n",
      "(21228, 2) (21228,)\n"
     ]
    },
    {
     "name": "stdout",
     "output_type": "stream",
     "text": [
      "fin make 2018's team quarity\n",
      "(21406, 2) (21406,)\n",
      "fin make 2019's team quarity\n",
      "add glm quality\n",
      "Index(['Season', 'T1_TeamID', 'T1_Scoremean', 'T2_Scoremean', 'PointDiffmean',\n",
      "       'T1_FGMmean', 'T2_FGMmean', 'T1_FGAmean', 'T2_FGAmean', 'T1_FGM3mean',\n",
      "       'T2_FGM3mean', 'T1_FGA3mean', 'T2_FGA3mean', 'T1_FTMmean', 'T2_FTMmean',\n",
      "       'T1_FTAmean', 'T2_FTAmean', 'T1_EFG_SUMmean', 'T2_EFG_SUMmean',\n",
      "       'T1_TO_RATIOmean', 'T2_TO_RATIOmean', 'T1_ORmean', 'T2_ORmean',\n",
      "       'T1_DRmean', 'T2_DRmean', 'T1_REB_RATEmean', 'T2_REB_RATEmean',\n",
      "       'T1_FT_RATEmean', 'T2_FT_RATEmean', 'T1_POSS_RATEmean',\n",
      "       'T2_POSS_RATEmean', 'T1_Astmean', 'T2_Astmean', 'T1_TOmean',\n",
      "       'T2_TOmean', 'T1_Stlmean', 'T2_Stlmean', 'T1_Blkmean', 'T2_Blkmean',\n",
      "       'T1_PFmean', 'T2_PFmean', 'T1_win_ratio_14d', 'T1_quality'],\n",
      "      dtype='object')\n",
      "add seeds (final form)\n",
      "Index(['Season', 'T1_TeamID', 'T1_Scoremean', 'T2_Scoremean', 'PointDiffmean',\n",
      "       'T1_FGMmean', 'T2_FGMmean', 'T1_FGAmean', 'T2_FGAmean', 'T1_FGM3mean',\n",
      "       'T2_FGM3mean', 'T1_FGA3mean', 'T2_FGA3mean', 'T1_FTMmean', 'T2_FTMmean',\n",
      "       'T1_FTAmean', 'T2_FTAmean', 'T1_EFG_SUMmean', 'T2_EFG_SUMmean',\n",
      "       'T1_TO_RATIOmean', 'T2_TO_RATIOmean', 'T1_ORmean', 'T2_ORmean',\n",
      "       'T1_DRmean', 'T2_DRmean', 'T1_REB_RATEmean', 'T2_REB_RATEmean',\n",
      "       'T1_FT_RATEmean', 'T2_FT_RATEmean', 'T1_POSS_RATEmean',\n",
      "       'T2_POSS_RATEmean', 'T1_Astmean', 'T2_Astmean', 'T1_TOmean',\n",
      "       'T2_TOmean', 'T1_Stlmean', 'T2_Stlmean', 'T1_Blkmean', 'T2_Blkmean',\n",
      "       'T1_PFmean', 'T2_PFmean', 'T1_win_ratio_14d', 'T1_quality', 'T1_seed'],\n",
      "      dtype='object')\n"
     ]
    },
    {
     "name": "stderr",
     "output_type": "stream",
     "text": [
      "C:\\Users\\81809\\AppData\\Local\\Temp\\ipykernel_24208\\386782032.py:79: FutureWarning: The provided callable <function mean at 0x00000205A3746520> is currently using SeriesGroupBy.mean. In a future version of pandas, the provided callable will be used directly. To keep current behavior pass the string \"mean\" instead.\n",
      "  df_rank = ordinal.groupby([\"Season\", \"TeamID\"])[\"OrdinalRank\"].agg(np.mean).reset_index()\n"
     ]
    },
    {
     "name": "stdout",
     "output_type": "stream",
     "text": [
      "add ordinal rank\n",
      "Index(['Season', 'T1_TeamID', 'T1_Scoremean', 'T2_Scoremean', 'PointDiffmean',\n",
      "       'T1_FGMmean', 'T2_FGMmean', 'T1_FGAmean', 'T2_FGAmean', 'T1_FGM3mean',\n",
      "       'T2_FGM3mean', 'T1_FGA3mean', 'T2_FGA3mean', 'T1_FTMmean', 'T2_FTMmean',\n",
      "       'T1_FTAmean', 'T2_FTAmean', 'T1_EFG_SUMmean', 'T2_EFG_SUMmean',\n",
      "       'T1_TO_RATIOmean', 'T2_TO_RATIOmean', 'T1_ORmean', 'T2_ORmean',\n",
      "       'T1_DRmean', 'T2_DRmean', 'T1_REB_RATEmean', 'T2_REB_RATEmean',\n",
      "       'T1_FT_RATEmean', 'T2_FT_RATEmean', 'T1_POSS_RATEmean',\n",
      "       'T2_POSS_RATEmean', 'T1_Astmean', 'T2_Astmean', 'T1_TOmean',\n",
      "       'T2_TOmean', 'T1_Stlmean', 'T2_Stlmean', 'T1_Blkmean', 'T2_Blkmean',\n",
      "       'T1_PFmean', 'T2_PFmean', 'T1_win_ratio_14d', 'T1_quality', 'T1_seed',\n",
      "       'T1_OrdinalRank'],\n",
      "      dtype='object')\n"
     ]
    },
    {
     "data": {
      "text/html": [
       "<div>\n",
       "<style scoped>\n",
       "    .dataframe tbody tr th:only-of-type {\n",
       "        vertical-align: middle;\n",
       "    }\n",
       "\n",
       "    .dataframe tbody tr th {\n",
       "        vertical-align: top;\n",
       "    }\n",
       "\n",
       "    .dataframe thead th {\n",
       "        text-align: right;\n",
       "    }\n",
       "</style>\n",
       "<table border=\"1\" class=\"dataframe\">\n",
       "  <thead>\n",
       "    <tr style=\"text-align: right;\">\n",
       "      <th></th>\n",
       "      <th>Season</th>\n",
       "      <th>T1_TeamID</th>\n",
       "      <th>T1_Scoremean</th>\n",
       "      <th>T2_Scoremean</th>\n",
       "      <th>PointDiffmean</th>\n",
       "      <th>T1_FGMmean</th>\n",
       "      <th>T2_FGMmean</th>\n",
       "      <th>T1_FGAmean</th>\n",
       "      <th>T2_FGAmean</th>\n",
       "      <th>T1_FGM3mean</th>\n",
       "      <th>...</th>\n",
       "      <th>T1_Stlmean</th>\n",
       "      <th>T2_Stlmean</th>\n",
       "      <th>T1_Blkmean</th>\n",
       "      <th>T2_Blkmean</th>\n",
       "      <th>T1_PFmean</th>\n",
       "      <th>T2_PFmean</th>\n",
       "      <th>T1_win_ratio_14d</th>\n",
       "      <th>T1_quality</th>\n",
       "      <th>T1_seed</th>\n",
       "      <th>T1_OrdinalRank</th>\n",
       "    </tr>\n",
       "  </thead>\n",
       "  <tbody>\n",
       "    <tr>\n",
       "      <th>7303</th>\n",
       "      <td>2019</td>\n",
       "      <td>3462</td>\n",
       "      <td>60.862069</td>\n",
       "      <td>66.482759</td>\n",
       "      <td>-5.620690</td>\n",
       "      <td>21.896552</td>\n",
       "      <td>24.448276</td>\n",
       "      <td>57.517241</td>\n",
       "      <td>59.758621</td>\n",
       "      <td>7.862069</td>\n",
       "      <td>...</td>\n",
       "      <td>7.586207</td>\n",
       "      <td>7.758621</td>\n",
       "      <td>2.586207</td>\n",
       "      <td>3.172414</td>\n",
       "      <td>15.241379</td>\n",
       "      <td>15.172414</td>\n",
       "      <td>0.0</td>\n",
       "      <td>-0.296941</td>\n",
       "      <td>NaN</td>\n",
       "      <td>NaN</td>\n",
       "    </tr>\n",
       "    <tr>\n",
       "      <th>7304</th>\n",
       "      <td>2019</td>\n",
       "      <td>3463</td>\n",
       "      <td>63.344828</td>\n",
       "      <td>61.551724</td>\n",
       "      <td>1.793103</td>\n",
       "      <td>23.724138</td>\n",
       "      <td>21.965517</td>\n",
       "      <td>60.517241</td>\n",
       "      <td>60.379310</td>\n",
       "      <td>5.551724</td>\n",
       "      <td>...</td>\n",
       "      <td>5.172414</td>\n",
       "      <td>8.344828</td>\n",
       "      <td>3.586207</td>\n",
       "      <td>2.517241</td>\n",
       "      <td>16.448276</td>\n",
       "      <td>17.551724</td>\n",
       "      <td>0.0</td>\n",
       "      <td>0.134368</td>\n",
       "      <td>NaN</td>\n",
       "      <td>NaN</td>\n",
       "    </tr>\n",
       "    <tr>\n",
       "      <th>7305</th>\n",
       "      <td>2019</td>\n",
       "      <td>3464</td>\n",
       "      <td>68.137931</td>\n",
       "      <td>58.000000</td>\n",
       "      <td>10.137931</td>\n",
       "      <td>23.241379</td>\n",
       "      <td>21.862069</td>\n",
       "      <td>55.758621</td>\n",
       "      <td>58.655172</td>\n",
       "      <td>8.620690</td>\n",
       "      <td>...</td>\n",
       "      <td>4.344828</td>\n",
       "      <td>7.448276</td>\n",
       "      <td>3.482759</td>\n",
       "      <td>3.482759</td>\n",
       "      <td>13.862069</td>\n",
       "      <td>17.896552</td>\n",
       "      <td>0.5</td>\n",
       "      <td>0.638405</td>\n",
       "      <td>NaN</td>\n",
       "      <td>NaN</td>\n",
       "    </tr>\n",
       "    <tr>\n",
       "      <th>7306</th>\n",
       "      <td>2019</td>\n",
       "      <td>3465</td>\n",
       "      <td>76.200000</td>\n",
       "      <td>69.840000</td>\n",
       "      <td>6.360000</td>\n",
       "      <td>28.560000</td>\n",
       "      <td>26.600000</td>\n",
       "      <td>67.520000</td>\n",
       "      <td>69.200000</td>\n",
       "      <td>9.160000</td>\n",
       "      <td>...</td>\n",
       "      <td>7.280000</td>\n",
       "      <td>7.920000</td>\n",
       "      <td>3.160000</td>\n",
       "      <td>3.160000</td>\n",
       "      <td>15.520000</td>\n",
       "      <td>15.440000</td>\n",
       "      <td>0.5</td>\n",
       "      <td>-0.182555</td>\n",
       "      <td>NaN</td>\n",
       "      <td>NaN</td>\n",
       "    </tr>\n",
       "    <tr>\n",
       "      <th>7307</th>\n",
       "      <td>2019</td>\n",
       "      <td>3466</td>\n",
       "      <td>69.521739</td>\n",
       "      <td>63.217391</td>\n",
       "      <td>6.304348</td>\n",
       "      <td>24.869565</td>\n",
       "      <td>23.913043</td>\n",
       "      <td>58.434783</td>\n",
       "      <td>58.260870</td>\n",
       "      <td>6.217391</td>\n",
       "      <td>...</td>\n",
       "      <td>8.478261</td>\n",
       "      <td>8.478261</td>\n",
       "      <td>3.695652</td>\n",
       "      <td>3.217391</td>\n",
       "      <td>17.478261</td>\n",
       "      <td>19.173913</td>\n",
       "      <td>0.0</td>\n",
       "      <td>0.107970</td>\n",
       "      <td>NaN</td>\n",
       "      <td>NaN</td>\n",
       "    </tr>\n",
       "  </tbody>\n",
       "</table>\n",
       "<p>5 rows × 45 columns</p>\n",
       "</div>"
      ],
      "text/plain": [
       "      Season  T1_TeamID  T1_Scoremean  T2_Scoremean  PointDiffmean  \\\n",
       "7303    2019       3462     60.862069     66.482759      -5.620690   \n",
       "7304    2019       3463     63.344828     61.551724       1.793103   \n",
       "7305    2019       3464     68.137931     58.000000      10.137931   \n",
       "7306    2019       3465     76.200000     69.840000       6.360000   \n",
       "7307    2019       3466     69.521739     63.217391       6.304348   \n",
       "\n",
       "      T1_FGMmean  T2_FGMmean  T1_FGAmean  T2_FGAmean  T1_FGM3mean  ...  \\\n",
       "7303   21.896552   24.448276   57.517241   59.758621     7.862069  ...   \n",
       "7304   23.724138   21.965517   60.517241   60.379310     5.551724  ...   \n",
       "7305   23.241379   21.862069   55.758621   58.655172     8.620690  ...   \n",
       "7306   28.560000   26.600000   67.520000   69.200000     9.160000  ...   \n",
       "7307   24.869565   23.913043   58.434783   58.260870     6.217391  ...   \n",
       "\n",
       "      T1_Stlmean  T2_Stlmean  T1_Blkmean  T2_Blkmean  T1_PFmean  T2_PFmean  \\\n",
       "7303    7.586207    7.758621    2.586207    3.172414  15.241379  15.172414   \n",
       "7304    5.172414    8.344828    3.586207    2.517241  16.448276  17.551724   \n",
       "7305    4.344828    7.448276    3.482759    3.482759  13.862069  17.896552   \n",
       "7306    7.280000    7.920000    3.160000    3.160000  15.520000  15.440000   \n",
       "7307    8.478261    8.478261    3.695652    3.217391  17.478261  19.173913   \n",
       "\n",
       "      T1_win_ratio_14d  T1_quality  T1_seed  T1_OrdinalRank  \n",
       "7303               0.0   -0.296941      NaN             NaN  \n",
       "7304               0.0    0.134368      NaN             NaN  \n",
       "7305               0.5    0.638405      NaN             NaN  \n",
       "7306               0.5   -0.182555      NaN             NaN  \n",
       "7307               0.0    0.107970      NaN             NaN  \n",
       "\n",
       "[5 rows x 45 columns]"
      ]
     },
     "execution_count": 9,
     "metadata": {},
     "output_type": "execute_result"
    }
   ],
   "source": [
    "features = FEATURES.cal_mean_boxscore\n",
    "boxscore_cols = [col for col, use in features.items() if use]\n",
    "print(\"use boxscore col is\")\n",
    "print(boxscore_cols)\n",
    "\n",
    "season_statistics = make_season_statistics(regular_data, boxscore_cols, seeds, func = [np.mean])\n",
    "season_statistics.tail()"
   ]
  },
  {
   "cell_type": "code",
   "execution_count": 10,
   "id": "abf224ec",
   "metadata": {
    "execution": {
     "iopub.execute_input": "2025-03-13T12:42:07.011876Z",
     "iopub.status.busy": "2025-03-13T12:42:07.011876Z",
     "iopub.status.idle": "2025-03-13T12:42:07.030412Z",
     "shell.execute_reply": "2025-03-13T12:42:07.029176Z"
    },
    "papermill": {
     "duration": 0.023532,
     "end_time": "2025-03-13T12:42:07.032416",
     "exception": false,
     "start_time": "2025-03-13T12:42:07.008884",
     "status": "completed"
    },
    "tags": []
   },
   "outputs": [
    {
     "name": "stdout",
     "output_type": "stream",
     "text": [
      "<class 'pandas.core.frame.DataFrame'>\n",
      "RangeIndex: 7308 entries, 0 to 7307\n",
      "Data columns (total 45 columns):\n",
      " #   Column            Non-Null Count  Dtype  \n",
      "---  ------            --------------  -----  \n",
      " 0   Season            7308 non-null   int64  \n",
      " 1   T1_TeamID         7308 non-null   int64  \n",
      " 2   T1_Scoremean      7308 non-null   float64\n",
      " 3   T2_Scoremean      7308 non-null   float64\n",
      " 4   PointDiffmean     7308 non-null   float64\n",
      " 5   T1_FGMmean        7308 non-null   float64\n",
      " 6   T2_FGMmean        7308 non-null   float64\n",
      " 7   T1_FGAmean        7308 non-null   float64\n",
      " 8   T2_FGAmean        7308 non-null   float64\n",
      " 9   T1_FGM3mean       7308 non-null   float64\n",
      " 10  T2_FGM3mean       7308 non-null   float64\n",
      " 11  T1_FGA3mean       7308 non-null   float64\n",
      " 12  T2_FGA3mean       7308 non-null   float64\n",
      " 13  T1_FTMmean        7308 non-null   float64\n",
      " 14  T2_FTMmean        7308 non-null   float64\n",
      " 15  T1_FTAmean        7308 non-null   float64\n",
      " 16  T2_FTAmean        7308 non-null   float64\n",
      " 17  T1_EFG_SUMmean    7308 non-null   float64\n",
      " 18  T2_EFG_SUMmean    7308 non-null   float64\n",
      " 19  T1_TO_RATIOmean   7308 non-null   float64\n",
      " 20  T2_TO_RATIOmean   7308 non-null   float64\n",
      " 21  T1_ORmean         7308 non-null   float64\n",
      " 22  T2_ORmean         7308 non-null   float64\n",
      " 23  T1_DRmean         7308 non-null   float64\n",
      " 24  T2_DRmean         7308 non-null   float64\n",
      " 25  T1_REB_RATEmean   7308 non-null   float64\n",
      " 26  T2_REB_RATEmean   7308 non-null   float64\n",
      " 27  T1_FT_RATEmean    7308 non-null   float64\n",
      " 28  T2_FT_RATEmean    7308 non-null   float64\n",
      " 29  T1_POSS_RATEmean  7308 non-null   float64\n",
      " 30  T2_POSS_RATEmean  7308 non-null   float64\n",
      " 31  T1_Astmean        7308 non-null   float64\n",
      " 32  T2_Astmean        7308 non-null   float64\n",
      " 33  T1_TOmean         7308 non-null   float64\n",
      " 34  T2_TOmean         7308 non-null   float64\n",
      " 35  T1_Stlmean        7308 non-null   float64\n",
      " 36  T2_Stlmean        7308 non-null   float64\n",
      " 37  T1_Blkmean        7308 non-null   float64\n",
      " 38  T2_Blkmean        7308 non-null   float64\n",
      " 39  T1_PFmean         7308 non-null   float64\n",
      " 40  T2_PFmean         7308 non-null   float64\n",
      " 41  T1_win_ratio_14d  7091 non-null   float64\n",
      " 42  T1_quality        7308 non-null   float64\n",
      " 43  T1_seed           1382 non-null   float64\n",
      " 44  T1_OrdinalRank    3839 non-null   float64\n",
      "dtypes: float64(43), int64(2)\n",
      "memory usage: 2.5 MB\n"
     ]
    }
   ],
   "source": [
    "season_statistics.info()"
   ]
  },
  {
   "cell_type": "code",
   "execution_count": 11,
   "id": "0207b755",
   "metadata": {
    "execution": {
     "iopub.execute_input": "2025-03-13T12:42:07.051731Z",
     "iopub.status.busy": "2025-03-13T12:42:07.051731Z",
     "iopub.status.idle": "2025-03-13T12:42:07.076113Z",
     "shell.execute_reply": "2025-03-13T12:42:07.076113Z"
    },
    "papermill": {
     "duration": 0.036923,
     "end_time": "2025-03-13T12:42:07.077120",
     "exception": false,
     "start_time": "2025-03-13T12:42:07.040197",
     "status": "completed"
    },
    "tags": []
   },
   "outputs": [],
   "source": [
    "####ボックスscoreの平均に対して、過去３年の加重平均を取るときの処理 ####\n",
    "def get_mean_of_3_season(val_2ps, val_1ps, val_0ps, \n",
    "                         weight_2, weight_1, weight_0, \n",
    "                         degree_weight=1.0\n",
    "                         ):\n",
    "    weight_2 = weight_2**degree_weight\n",
    "    weight_1 = weight_1**degree_weight\n",
    "    weight_0 = weight_0**degree_weight\n",
    "    if val_2ps == 0  and val_1ps == 0:\n",
    "        return val_0ps\n",
    "    elif val_2ps == 0:\n",
    "        return (val_1ps*weight_2 + val_0ps*weight_1)/(weight_2 + weight_1)\n",
    "    else:\n",
    "        sum_of_values = val_2ps*weight_2 + val_1ps*weight_1 + val_0ps*weight_0\n",
    "        return sum_of_values/(weight_2 + weight_1 + weight_0)\n",
    "\n",
    "def get_3_feature(df_team, feature):\n",
    "    value_2_seasons_ago = 0\n",
    "    value_1_season_ago = 0\n",
    "    value_0_season_ago = 0\n",
    "    for _, val in df_team.iterrows():\n",
    "        value_2_seasons_ago = value_1_season_ago\n",
    "        value_1_season_ago = value_0_season_ago\n",
    "        value_0_season_ago = val[feature]\n",
    "    return value_2_seasons_ago, value_1_season_ago, value_0_season_ago\n",
    "\n",
    "def write_mean_of_3_seasons(df, features, weight, degree_weight=1.0):\n",
    "    \"\"\"\n",
    "    val_0ps - current season value\n",
    "    weight_0 - current season weight\n",
    "    val_1ps - last season value\n",
    "    val_2ps - the value of the season before last\n",
    "    \"\"\"\n",
    "    weight_2=weight[0]\n",
    "    weight_1=weight[1]\n",
    "    weight_0=weight[2]\n",
    "    df_copy = df.copy()\n",
    "    suffix = \"_mn3s\"\n",
    "    \n",
    "    for ft in features:\n",
    "        df_copy[ft + suffix] = 0\n",
    "    for idx, val in tqdm(df_copy.iterrows(), total=len(df_copy)):\n",
    "        team = val.T1_TeamID\n",
    "        season = val.Season\n",
    "        df_team = df_copy[(df_copy.T1_TeamID == team)&\n",
    "                          (df_copy.Season <= season)&\n",
    "                          (df_copy.Season > season-3)]\n",
    "        for ft in features:\n",
    "            val_2ps, val_1ps, val_0ps = get_3_feature(df_team, ft)\n",
    "            ft_mean_3 = get_mean_of_3_season(val_2ps, val_1ps, val_0ps, weight_2, weight_1, weight_0, degree_weight=degree_weight)\n",
    "            df_copy.loc[idx, ft + suffix] = ft_mean_3\n",
    "    return df_copy"
   ]
  },
  {
   "cell_type": "code",
   "execution_count": 12,
   "id": "cfbf52df",
   "metadata": {
    "execution": {
     "iopub.execute_input": "2025-03-13T12:42:07.093167Z",
     "iopub.status.busy": "2025-03-13T12:42:07.093167Z",
     "iopub.status.idle": "2025-03-13T12:42:07.127827Z",
     "shell.execute_reply": "2025-03-13T12:42:07.127827Z"
    },
    "papermill": {
     "duration": 0.042937,
     "end_time": "2025-03-13T12:42:07.127827",
     "exception": false,
     "start_time": "2025-03-13T12:42:07.084890",
     "status": "completed"
    },
    "tags": []
   },
   "outputs": [
    {
     "name": "stdout",
     "output_type": "stream",
     "text": [
      "#####\n",
      "skip 3 season verage\n",
      "#####\n"
     ]
    },
    {
     "data": {
      "text/html": [
       "<div>\n",
       "<style scoped>\n",
       "    .dataframe tbody tr th:only-of-type {\n",
       "        vertical-align: middle;\n",
       "    }\n",
       "\n",
       "    .dataframe tbody tr th {\n",
       "        vertical-align: top;\n",
       "    }\n",
       "\n",
       "    .dataframe thead th {\n",
       "        text-align: right;\n",
       "    }\n",
       "</style>\n",
       "<table border=\"1\" class=\"dataframe\">\n",
       "  <thead>\n",
       "    <tr style=\"text-align: right;\">\n",
       "      <th></th>\n",
       "      <th>Season</th>\n",
       "      <th>T1_TeamID</th>\n",
       "      <th>T1_Scoremean</th>\n",
       "      <th>T1_opponent_Scoremean</th>\n",
       "      <th>T1_PointDiffmean</th>\n",
       "      <th>T1_FGMmean</th>\n",
       "      <th>T1_opponent_FGMmean</th>\n",
       "      <th>T1_FGAmean</th>\n",
       "      <th>T1_opponent_FGAmean</th>\n",
       "      <th>T1_FGM3mean</th>\n",
       "      <th>...</th>\n",
       "      <th>T1_Stlmean</th>\n",
       "      <th>T1_opponent_Stlmean</th>\n",
       "      <th>T1_Blkmean</th>\n",
       "      <th>T1_opponent_Blkmean</th>\n",
       "      <th>T1_PFmean</th>\n",
       "      <th>T1_opponent_PFmean</th>\n",
       "      <th>T1_win_ratio_14d</th>\n",
       "      <th>T1_quality</th>\n",
       "      <th>T1_seed</th>\n",
       "      <th>T1_OrdinalRank</th>\n",
       "    </tr>\n",
       "  </thead>\n",
       "  <tbody>\n",
       "    <tr>\n",
       "      <th>0</th>\n",
       "      <td>2009</td>\n",
       "      <td>1102</td>\n",
       "      <td>57.413793</td>\n",
       "      <td>62.310345</td>\n",
       "      <td>-4.896552</td>\n",
       "      <td>19.172414</td>\n",
       "      <td>20.172414</td>\n",
       "      <td>44.068966</td>\n",
       "      <td>47.862069</td>\n",
       "      <td>6.517241</td>\n",
       "      <td>...</td>\n",
       "      <td>5.068966</td>\n",
       "      <td>6.310345</td>\n",
       "      <td>2.172414</td>\n",
       "      <td>3.517241</td>\n",
       "      <td>17.793103</td>\n",
       "      <td>18.379310</td>\n",
       "      <td>0.250000</td>\n",
       "      <td>-0.802229</td>\n",
       "      <td>NaN</td>\n",
       "      <td>220.316288</td>\n",
       "    </tr>\n",
       "    <tr>\n",
       "      <th>1</th>\n",
       "      <td>2009</td>\n",
       "      <td>1103</td>\n",
       "      <td>66.411765</td>\n",
       "      <td>60.500000</td>\n",
       "      <td>5.911765</td>\n",
       "      <td>22.588235</td>\n",
       "      <td>20.088235</td>\n",
       "      <td>54.264706</td>\n",
       "      <td>49.764706</td>\n",
       "      <td>7.117647</td>\n",
       "      <td>...</td>\n",
       "      <td>7.647059</td>\n",
       "      <td>7.529412</td>\n",
       "      <td>2.264706</td>\n",
       "      <td>2.382353</td>\n",
       "      <td>20.617647</td>\n",
       "      <td>18.882353</td>\n",
       "      <td>0.833333</td>\n",
       "      <td>0.513775</td>\n",
       "      <td>13.0</td>\n",
       "      <td>111.092803</td>\n",
       "    </tr>\n",
       "  </tbody>\n",
       "</table>\n",
       "<p>2 rows × 45 columns</p>\n",
       "</div>"
      ],
      "text/plain": [
       "   Season  T1_TeamID  T1_Scoremean  T1_opponent_Scoremean  T1_PointDiffmean  \\\n",
       "0    2009       1102     57.413793              62.310345         -4.896552   \n",
       "1    2009       1103     66.411765              60.500000          5.911765   \n",
       "\n",
       "   T1_FGMmean  T1_opponent_FGMmean  T1_FGAmean  T1_opponent_FGAmean  \\\n",
       "0   19.172414            20.172414   44.068966            47.862069   \n",
       "1   22.588235            20.088235   54.264706            49.764706   \n",
       "\n",
       "   T1_FGM3mean  ...  T1_Stlmean  T1_opponent_Stlmean  T1_Blkmean  \\\n",
       "0     6.517241  ...    5.068966             6.310345    2.172414   \n",
       "1     7.117647  ...    7.647059             7.529412    2.264706   \n",
       "\n",
       "   T1_opponent_Blkmean  T1_PFmean  T1_opponent_PFmean  T1_win_ratio_14d  \\\n",
       "0             3.517241  17.793103           18.379310          0.250000   \n",
       "1             2.382353  20.617647           18.882353          0.833333   \n",
       "\n",
       "   T1_quality  T1_seed  T1_OrdinalRank  \n",
       "0   -0.802229      NaN      220.316288  \n",
       "1    0.513775     13.0      111.092803  \n",
       "\n",
       "[2 rows x 45 columns]"
      ]
     },
     "metadata": {},
     "output_type": "display_data"
    },
    {
     "data": {
      "text/html": [
       "<div>\n",
       "<style scoped>\n",
       "    .dataframe tbody tr th:only-of-type {\n",
       "        vertical-align: middle;\n",
       "    }\n",
       "\n",
       "    .dataframe tbody tr th {\n",
       "        vertical-align: top;\n",
       "    }\n",
       "\n",
       "    .dataframe thead th {\n",
       "        text-align: right;\n",
       "    }\n",
       "</style>\n",
       "<table border=\"1\" class=\"dataframe\">\n",
       "  <thead>\n",
       "    <tr style=\"text-align: right;\">\n",
       "      <th></th>\n",
       "      <th>Season</th>\n",
       "      <th>T2_TeamID</th>\n",
       "      <th>T2_Scoremean</th>\n",
       "      <th>T2_opponent_Scoremean</th>\n",
       "      <th>T2_PointDiffmean</th>\n",
       "      <th>T2_FGMmean</th>\n",
       "      <th>T2_opponent_FGMmean</th>\n",
       "      <th>T2_FGAmean</th>\n",
       "      <th>T2_opponent_FGAmean</th>\n",
       "      <th>T2_FGM3mean</th>\n",
       "      <th>...</th>\n",
       "      <th>T2_Stlmean</th>\n",
       "      <th>T2_opponent_Stlmean</th>\n",
       "      <th>T2_Blkmean</th>\n",
       "      <th>T2_opponent_Blkmean</th>\n",
       "      <th>T2_PFmean</th>\n",
       "      <th>T2_opponent_PFmean</th>\n",
       "      <th>T2_win_ratio_14d</th>\n",
       "      <th>T2_quality</th>\n",
       "      <th>T2_seed</th>\n",
       "      <th>T2_OrdinalRank</th>\n",
       "    </tr>\n",
       "  </thead>\n",
       "  <tbody>\n",
       "    <tr>\n",
       "      <th>7306</th>\n",
       "      <td>2019</td>\n",
       "      <td>3465</td>\n",
       "      <td>76.200000</td>\n",
       "      <td>69.840000</td>\n",
       "      <td>6.360000</td>\n",
       "      <td>28.560000</td>\n",
       "      <td>26.600000</td>\n",
       "      <td>67.520000</td>\n",
       "      <td>69.20000</td>\n",
       "      <td>9.160000</td>\n",
       "      <td>...</td>\n",
       "      <td>7.280000</td>\n",
       "      <td>7.920000</td>\n",
       "      <td>3.160000</td>\n",
       "      <td>3.160000</td>\n",
       "      <td>15.520000</td>\n",
       "      <td>15.440000</td>\n",
       "      <td>0.5</td>\n",
       "      <td>-0.182555</td>\n",
       "      <td>NaN</td>\n",
       "      <td>NaN</td>\n",
       "    </tr>\n",
       "    <tr>\n",
       "      <th>7307</th>\n",
       "      <td>2019</td>\n",
       "      <td>3466</td>\n",
       "      <td>69.521739</td>\n",
       "      <td>63.217391</td>\n",
       "      <td>6.304348</td>\n",
       "      <td>24.869565</td>\n",
       "      <td>23.913043</td>\n",
       "      <td>58.434783</td>\n",
       "      <td>58.26087</td>\n",
       "      <td>6.217391</td>\n",
       "      <td>...</td>\n",
       "      <td>8.478261</td>\n",
       "      <td>8.478261</td>\n",
       "      <td>3.695652</td>\n",
       "      <td>3.217391</td>\n",
       "      <td>17.478261</td>\n",
       "      <td>19.173913</td>\n",
       "      <td>0.0</td>\n",
       "      <td>0.107970</td>\n",
       "      <td>NaN</td>\n",
       "      <td>NaN</td>\n",
       "    </tr>\n",
       "  </tbody>\n",
       "</table>\n",
       "<p>2 rows × 45 columns</p>\n",
       "</div>"
      ],
      "text/plain": [
       "      Season  T2_TeamID  T2_Scoremean  T2_opponent_Scoremean  \\\n",
       "7306    2019       3465     76.200000              69.840000   \n",
       "7307    2019       3466     69.521739              63.217391   \n",
       "\n",
       "      T2_PointDiffmean  T2_FGMmean  T2_opponent_FGMmean  T2_FGAmean  \\\n",
       "7306          6.360000   28.560000            26.600000   67.520000   \n",
       "7307          6.304348   24.869565            23.913043   58.434783   \n",
       "\n",
       "      T2_opponent_FGAmean  T2_FGM3mean  ...  T2_Stlmean  T2_opponent_Stlmean  \\\n",
       "7306             69.20000     9.160000  ...    7.280000             7.920000   \n",
       "7307             58.26087     6.217391  ...    8.478261             8.478261   \n",
       "\n",
       "      T2_Blkmean  T2_opponent_Blkmean  T2_PFmean  T2_opponent_PFmean  \\\n",
       "7306    3.160000             3.160000  15.520000           15.440000   \n",
       "7307    3.695652             3.217391  17.478261           19.173913   \n",
       "\n",
       "      T2_win_ratio_14d  T2_quality  T2_seed  T2_OrdinalRank  \n",
       "7306               0.5   -0.182555      NaN             NaN  \n",
       "7307               0.0    0.107970      NaN             NaN  \n",
       "\n",
       "[2 rows x 45 columns]"
      ]
     },
     "metadata": {},
     "output_type": "display_data"
    }
   ],
   "source": [
    "flag_3season_avg = FEATURES.season_average.enabled\n",
    "\n",
    "#trueのときの処理理解してfalseと一致させる\n",
    "if flag_3season_avg:\n",
    "    print(\"#####\")\n",
    "    print(\"use 3 season average\")\n",
    "    print(\"#####\")\n",
    "    weight = FEATURES.season_average.weights\n",
    "    years = FEATURES.season_average.past_years\n",
    "    assert years==len(weight)\n",
    "    \n",
    "    features_for_calc = [\"T1_Scoremean\", \"T1_FGAmean\",  \"T1_FGA3mean\"]\n",
    "    season_statistics_with_3_seas = write_mean_of_3_seasons(\n",
    "        season_statistics, features_for_calc, weight, degree_weight=1.0\n",
    "    )\n",
    "    \n",
    "    season_statistics_T1 = season_statistics_with_3_seas.copy()\n",
    "    season_statistics_T2 = season_statistics_with_3_seas.copy()\n",
    "    \n",
    "else:\n",
    "    print(\"#####\")\n",
    "    print(\"skip 3 season verage\")\n",
    "    print(\"#####\")\n",
    "    season_statistics_T1 = season_statistics.copy()\n",
    "    season_statistics_T2 = season_statistics.copy()\n",
    "\n",
    "season_statistics_T1.columns = [\"T1_\" + x.replace(\"T1_\",\"\").replace(\"T2_\",\"opponent_\") for x in list(season_statistics_T1.columns)]\n",
    "season_statistics_T2.columns = [\"T2_\" + x.replace(\"T1_\",\"\").replace(\"T2_\",\"opponent_\") for x in list(season_statistics_T2.columns)]\n",
    "season_statistics_T1.columns.values[0] = \"Season\"\n",
    "season_statistics_T2.columns.values[0] = \"Season\"\n",
    "\n",
    "\n",
    "season_statistics_T2.rename(columns = {\n",
    "    \"T1_TeamID\": \"T2_TeamID\"\n",
    "}, inplace=True)\n",
    "display(season_statistics_T1.head(2), season_statistics_T2.tail(2))"
   ]
  },
  {
   "cell_type": "markdown",
   "id": "f744a121",
   "metadata": {
    "papermill": {
     "duration": 0.013449,
     "end_time": "2025-03-13T12:42:07.141276",
     "exception": false,
     "start_time": "2025-03-13T12:42:07.127827",
     "status": "completed"
    },
    "tags": []
   },
   "source": [
    "# Toureney dataの処理\n",
    "1. pointdiff, pointが目的変数となるのでそれはyに分離\n",
    "2. seasonstatisticを結合したものをXとして作る"
   ]
  },
  {
   "cell_type": "code",
   "execution_count": 13,
   "id": "962f1597",
   "metadata": {
    "execution": {
     "iopub.execute_input": "2025-03-13T12:42:07.165468Z",
     "iopub.status.busy": "2025-03-13T12:42:07.164452Z",
     "iopub.status.idle": "2025-03-13T12:42:07.171576Z",
     "shell.execute_reply": "2025-03-13T12:42:07.171576Z"
    },
    "papermill": {
     "duration": 0.023386,
     "end_time": "2025-03-13T12:42:07.173395",
     "exception": false,
     "start_time": "2025-03-13T12:42:07.150009",
     "status": "completed"
    },
    "tags": []
   },
   "outputs": [],
   "source": [
    "\n",
    "def process_tourney(df1, mode=\"tourney\"):\n",
    "    #Season, teamid ->X, team_score->y\n",
    "    df = df1.copy()\n",
    "    if mode==\"tourney\":\n",
    "        df = prepare_data(df) \n",
    "        y = df[\"T1_Score\"]-df[\"T2_Score\"]\n",
    "    X = df[['Season', 'T1_TeamID', 'T2_TeamID']]\n",
    "    X = pd.merge(X, season_statistics_T1, on = ['Season', 'T1_TeamID'], how = 'left')\n",
    "    X = pd.merge(X, season_statistics_T2, on = ['Season', 'T2_TeamID'], how = 'left')\n",
    "    \n",
    "    #seed->seed diff\n",
    "    X[\"seed_diff\"] = X[\"T1_seed\"] - X[\"T2_seed\"]\n",
    "    #rank->rank diff\n",
    "    X[\"rank_diff\"] = X[\"T1_OrdinalRank\"] - X[\"T2_OrdinalRank\"]\n",
    "    #quality->quality diff\n",
    "    X[\"quality_diff\"] = X[\"T1_quality\"] - X[\"T2_quality\"]\n",
    "    #win_ratio_14d -> win_raio_14d_diff\n",
    "    X[\"win_ratio_14d_diff\"] = X[\"T1_win_ratio_14d\"] - X[\"T2_win_ratio_14d\"]\n",
    "    #tourney_data.drop(columns=[\"T1_seed\", \"T2_seed\"], inplace=True)\n",
    "\n",
    "    X = X.drop(columns=[\"T1_seed\", \"T2_seed\", \"T1_OrdinalRank\", \"T2_OrdinalRank\", \n",
    "                        \"T1_quality\", \"T2_quality\", \"T1_win_ratio_14d\", \"T2_win_ratio_14d\"\n",
    "                        ])\n",
    "\n",
    "    # if rank_diff is False, drop.\n",
    "    IS_RANKDIFF = FEATURES.rank_diff\n",
    "    if not IS_RANKDIFF:\n",
    "        X = X.drop(columns=[\"rank_diff\"])\n",
    "        print(\"drop rank_diff\")\n",
    "    \n",
    "    # if fillna is true-> run fillna()\n",
    "    FILLNA = FEATURES.fillna.quality\n",
    "    if FILLNA==\"nan\":\n",
    "        print(f\"no fillna, use nan\")\n",
    "        X[\"quality_diff\"] = X[\"quality_diff\"].fillna(np.nan)\n",
    "    else:\n",
    "        print(f\"fillna quality feature for {FILLNA}\")\n",
    "        X[\"quality_diff\"] = X[\"quality_diff\"].fillna(FILLNA)\n",
    "\n",
    "        \n",
    "    return X, y if mode==\"tourney\" else X"
   ]
  },
  {
   "cell_type": "code",
   "execution_count": 14,
   "id": "907ea304",
   "metadata": {
    "execution": {
     "iopub.execute_input": "2025-03-13T12:42:07.190227Z",
     "iopub.status.busy": "2025-03-13T12:42:07.190227Z",
     "iopub.status.idle": "2025-03-13T12:42:07.224481Z",
     "shell.execute_reply": "2025-03-13T12:42:07.223075Z"
    },
    "papermill": {
     "duration": 0.050253,
     "end_time": "2025-03-13T12:42:07.224481",
     "exception": false,
     "start_time": "2025-03-13T12:42:07.174228",
     "status": "completed"
    },
    "tags": []
   },
   "outputs": [
    {
     "name": "stdout",
     "output_type": "stream",
     "text": [
      "<class 'pandas.core.frame.DataFrame'>\n",
      "Index: 1231 entries, 384 to 1948\n",
      "Data columns (total 56 columns):\n",
      " #   Column       Non-Null Count  Dtype  \n",
      "---  ------       --------------  -----  \n",
      " 0   Season       1231 non-null   int64  \n",
      " 1   DayNum       1231 non-null   int64  \n",
      " 2   WTeamID      1231 non-null   int64  \n",
      " 3   WScore       1231 non-null   int64  \n",
      " 4   LTeamID      1231 non-null   int64  \n",
      " 5   LScore       1231 non-null   int64  \n",
      " 6   WLoc         1231 non-null   object \n",
      " 7   NumOT        1231 non-null   int64  \n",
      " 8   WFGM         1231 non-null   int64  \n",
      " 9   WFGA         1231 non-null   int64  \n",
      " 10  WFGM3        1231 non-null   int64  \n",
      " 11  WFGA3        1231 non-null   int64  \n",
      " 12  WFTM         1231 non-null   int64  \n",
      " 13  WFTA         1231 non-null   int64  \n",
      " 14  WOR          1231 non-null   int64  \n",
      " 15  WDR          1231 non-null   int64  \n",
      " 16  WAst         1231 non-null   int64  \n",
      " 17  WTO          1231 non-null   int64  \n",
      " 18  WStl         1231 non-null   int64  \n",
      " 19  WBlk         1231 non-null   int64  \n",
      " 20  WPF          1231 non-null   int64  \n",
      " 21  LFGM         1231 non-null   int64  \n",
      " 22  LFGA         1231 non-null   int64  \n",
      " 23  LFGM3        1231 non-null   int64  \n",
      " 24  LFGA3        1231 non-null   int64  \n",
      " 25  LFTM         1231 non-null   int64  \n",
      " 26  LFTA         1231 non-null   int64  \n",
      " 27  LOR          1231 non-null   int64  \n",
      " 28  LDR          1231 non-null   int64  \n",
      " 29  LAst         1231 non-null   int64  \n",
      " 30  LTO          1231 non-null   int64  \n",
      " 31  LStl         1231 non-null   int64  \n",
      " 32  LBlk         1231 non-null   int64  \n",
      " 33  LPF          1231 non-null   int64  \n",
      " 34  WEFFG        1231 non-null   float64\n",
      " 35  LEFFG        1231 non-null   float64\n",
      " 36  WEFFG3       1231 non-null   float64\n",
      " 37  LEFFG3       1231 non-null   float64\n",
      " 38  WDARE        1231 non-null   float64\n",
      " 39  LDARE        1231 non-null   float64\n",
      " 40  WTOQUETOQUE  1231 non-null   float64\n",
      " 41  LTOQUETOQUE  1231 non-null   float64\n",
      " 42  WEFG_SUM     1231 non-null   float64\n",
      " 43  LEFG_SUM     1231 non-null   float64\n",
      " 44  WPOSS        1231 non-null   float64\n",
      " 45  LPOSS        1231 non-null   float64\n",
      " 46  WPOSS_RATE   1231 non-null   float64\n",
      " 47  LPOSS_RATE   1231 non-null   float64\n",
      " 48  WTO_RATIO    1231 non-null   float64\n",
      " 49  LTO_RATIO    1231 non-null   float64\n",
      " 50  WREB_RATE    1231 non-null   float64\n",
      " 51  LREB_RATE    1231 non-null   float64\n",
      " 52  WFT_RATE     1231 non-null   float64\n",
      " 53  LFT_RATE     1231 non-null   float64\n",
      " 54  WRATING      1231 non-null   float64\n",
      " 55  LRATING      1231 non-null   float64\n",
      "dtypes: float64(22), int64(33), object(1)\n",
      "memory usage: 548.2+ KB\n",
      "None\n",
      "feature cols after prepare()\n",
      "Index(['Season', 'DayNum', 'T1_TeamID', 'T1_Score', 'T2_TeamID', 'T2_Score',\n",
      "       'location', 'NumOT', 'T1_FGM', 'T1_FGA', 'T1_FGM3', 'T1_FGA3', 'T1_FTM',\n",
      "       'T1_FTA', 'T1_OR', 'T1_DR', 'T1_Ast', 'T1_TO', 'T1_Stl', 'T1_Blk',\n",
      "       'T1_PF', 'T2_FGM', 'T2_FGA', 'T2_FGM3', 'T2_FGA3', 'T2_FTM', 'T2_FTA',\n",
      "       'T2_OR', 'T2_DR', 'T2_Ast', 'T2_TO', 'T2_Stl', 'T2_Blk', 'T2_PF',\n",
      "       'T1_EFFG', 'T2_EFFG', 'T1_EFFG3', 'T2_EFFG3', 'T1_DARE', 'T2_DARE',\n",
      "       'T1_TOQUETOQUE', 'T2_TOQUETOQUE', 'T1_EFG_SUM', 'T2_EFG_SUM', 'T1_POSS',\n",
      "       'T2_POSS', 'T1_POSS_RATE', 'T2_POSS_RATE', 'T1_TO_RATIO', 'T2_TO_RATIO',\n",
      "       'T1_REB_RATE', 'T2_REB_RATE', 'T1_FT_RATE', 'T2_FT_RATE', 'T1_RATING',\n",
      "       'T2_RATING', 'PointDiff', 'win'],\n",
      "      dtype='object')\n",
      "no fillna, use nan\n"
     ]
    }
   ],
   "source": [
    "X, y = process_tourney(tourney_results)"
   ]
  },
  {
   "cell_type": "code",
   "execution_count": 15,
   "id": "43677b27",
   "metadata": {
    "execution": {
     "iopub.execute_input": "2025-03-13T12:42:07.241256Z",
     "iopub.status.busy": "2025-03-13T12:42:07.241256Z",
     "iopub.status.idle": "2025-03-13T12:42:07.248372Z",
     "shell.execute_reply": "2025-03-13T12:42:07.248372Z"
    },
    "papermill": {
     "duration": 0.02543,
     "end_time": "2025-03-13T12:42:07.249911",
     "exception": false,
     "start_time": "2025-03-13T12:42:07.224481",
     "status": "completed"
    },
    "tags": []
   },
   "outputs": [
    {
     "name": "stdout",
     "output_type": "stream",
     "text": [
      "最終的な X の特徴量\n",
      "Index(['Season', 'T1_TeamID', 'T2_TeamID', 'T1_Scoremean',\n",
      "       'T1_opponent_Scoremean', 'T1_PointDiffmean', 'T1_FGMmean',\n",
      "       'T1_opponent_FGMmean', 'T1_FGAmean', 'T1_opponent_FGAmean',\n",
      "       'T1_FGM3mean', 'T1_opponent_FGM3mean', 'T1_FGA3mean',\n",
      "       'T1_opponent_FGA3mean', 'T1_FTMmean', 'T1_opponent_FTMmean',\n",
      "       'T1_FTAmean', 'T1_opponent_FTAmean', 'T1_EFG_SUMmean',\n",
      "       'T1_opponent_EFG_SUMmean', 'T1_TO_RATIOmean',\n",
      "       'T1_opponent_TO_RATIOmean', 'T1_ORmean', 'T1_opponent_ORmean',\n",
      "       'T1_DRmean', 'T1_opponent_DRmean', 'T1_REB_RATEmean',\n",
      "       'T1_opponent_REB_RATEmean', 'T1_FT_RATEmean', 'T1_opponent_FT_RATEmean',\n",
      "       'T1_POSS_RATEmean', 'T1_opponent_POSS_RATEmean', 'T1_Astmean',\n",
      "       'T1_opponent_Astmean', 'T1_TOmean', 'T1_opponent_TOmean', 'T1_Stlmean',\n",
      "       'T1_opponent_Stlmean', 'T1_Blkmean', 'T1_opponent_Blkmean', 'T1_PFmean',\n",
      "       'T1_opponent_PFmean', 'T2_Scoremean', 'T2_opponent_Scoremean',\n",
      "       'T2_PointDiffmean', 'T2_FGMmean', 'T2_opponent_FGMmean', 'T2_FGAmean',\n",
      "       'T2_opponent_FGAmean', 'T2_FGM3mean', 'T2_opponent_FGM3mean',\n",
      "       'T2_FGA3mean', 'T2_opponent_FGA3mean', 'T2_FTMmean',\n",
      "       'T2_opponent_FTMmean', 'T2_FTAmean', 'T2_opponent_FTAmean',\n",
      "       'T2_EFG_SUMmean', 'T2_opponent_EFG_SUMmean', 'T2_TO_RATIOmean',\n",
      "       'T2_opponent_TO_RATIOmean', 'T2_ORmean', 'T2_opponent_ORmean',\n",
      "       'T2_DRmean', 'T2_opponent_DRmean', 'T2_REB_RATEmean',\n",
      "       'T2_opponent_REB_RATEmean', 'T2_FT_RATEmean', 'T2_opponent_FT_RATEmean',\n",
      "       'T2_POSS_RATEmean', 'T2_opponent_POSS_RATEmean', 'T2_Astmean',\n",
      "       'T2_opponent_Astmean', 'T2_TOmean', 'T2_opponent_TOmean', 'T2_Stlmean',\n",
      "       'T2_opponent_Stlmean', 'T2_Blkmean', 'T2_opponent_Blkmean', 'T2_PFmean',\n",
      "       'T2_opponent_PFmean', 'seed_diff', 'rank_diff', 'quality_diff',\n",
      "       'win_ratio_14d_diff'],\n",
      "      dtype='object')\n"
     ]
    }
   ],
   "source": [
    "print(\"最終的な X の特徴量\")\n",
    "print(X.columns)"
   ]
  },
  {
   "cell_type": "code",
   "execution_count": 16,
   "id": "f7471ec4",
   "metadata": {
    "execution": {
     "iopub.execute_input": "2025-03-13T12:42:07.259003Z",
     "iopub.status.busy": "2025-03-13T12:42:07.259003Z",
     "iopub.status.idle": "2025-03-13T12:42:07.277923Z",
     "shell.execute_reply": "2025-03-13T12:42:07.277410Z"
    },
    "papermill": {
     "duration": 0.022937,
     "end_time": "2025-03-13T12:42:07.280938",
     "exception": false,
     "start_time": "2025-03-13T12:42:07.258001",
     "status": "completed"
    },
    "tags": []
   },
   "outputs": [
    {
     "name": "stdout",
     "output_type": "stream",
     "text": [
      "<class 'pandas.core.frame.DataFrame'>\n",
      "RangeIndex: 2462 entries, 0 to 2461\n",
      "Data columns (total 85 columns):\n",
      " #   Column                     Non-Null Count  Dtype  \n",
      "---  ------                     --------------  -----  \n",
      " 0   Season                     2462 non-null   int64  \n",
      " 1   T1_TeamID                  2462 non-null   int64  \n",
      " 2   T2_TeamID                  2462 non-null   int64  \n",
      " 3   T1_Scoremean               2462 non-null   float64\n",
      " 4   T1_opponent_Scoremean      2462 non-null   float64\n",
      " 5   T1_PointDiffmean           2462 non-null   float64\n",
      " 6   T1_FGMmean                 2462 non-null   float64\n",
      " 7   T1_opponent_FGMmean        2462 non-null   float64\n",
      " 8   T1_FGAmean                 2462 non-null   float64\n",
      " 9   T1_opponent_FGAmean        2462 non-null   float64\n",
      " 10  T1_FGM3mean                2462 non-null   float64\n",
      " 11  T1_opponent_FGM3mean       2462 non-null   float64\n",
      " 12  T1_FGA3mean                2462 non-null   float64\n",
      " 13  T1_opponent_FGA3mean       2462 non-null   float64\n",
      " 14  T1_FTMmean                 2462 non-null   float64\n",
      " 15  T1_opponent_FTMmean        2462 non-null   float64\n",
      " 16  T1_FTAmean                 2462 non-null   float64\n",
      " 17  T1_opponent_FTAmean        2462 non-null   float64\n",
      " 18  T1_EFG_SUMmean             2462 non-null   float64\n",
      " 19  T1_opponent_EFG_SUMmean    2462 non-null   float64\n",
      " 20  T1_TO_RATIOmean            2462 non-null   float64\n",
      " 21  T1_opponent_TO_RATIOmean   2462 non-null   float64\n",
      " 22  T1_ORmean                  2462 non-null   float64\n",
      " 23  T1_opponent_ORmean         2462 non-null   float64\n",
      " 24  T1_DRmean                  2462 non-null   float64\n",
      " 25  T1_opponent_DRmean         2462 non-null   float64\n",
      " 26  T1_REB_RATEmean            2462 non-null   float64\n",
      " 27  T1_opponent_REB_RATEmean   2462 non-null   float64\n",
      " 28  T1_FT_RATEmean             2462 non-null   float64\n",
      " 29  T1_opponent_FT_RATEmean    2462 non-null   float64\n",
      " 30  T1_POSS_RATEmean           2462 non-null   float64\n",
      " 31  T1_opponent_POSS_RATEmean  2462 non-null   float64\n",
      " 32  T1_Astmean                 2462 non-null   float64\n",
      " 33  T1_opponent_Astmean        2462 non-null   float64\n",
      " 34  T1_TOmean                  2462 non-null   float64\n",
      " 35  T1_opponent_TOmean         2462 non-null   float64\n",
      " 36  T1_Stlmean                 2462 non-null   float64\n",
      " 37  T1_opponent_Stlmean        2462 non-null   float64\n",
      " 38  T1_Blkmean                 2462 non-null   float64\n",
      " 39  T1_opponent_Blkmean        2462 non-null   float64\n",
      " 40  T1_PFmean                  2462 non-null   float64\n",
      " 41  T1_opponent_PFmean         2462 non-null   float64\n",
      " 42  T2_Scoremean               2462 non-null   float64\n",
      " 43  T2_opponent_Scoremean      2462 non-null   float64\n",
      " 44  T2_PointDiffmean           2462 non-null   float64\n",
      " 45  T2_FGMmean                 2462 non-null   float64\n",
      " 46  T2_opponent_FGMmean        2462 non-null   float64\n",
      " 47  T2_FGAmean                 2462 non-null   float64\n",
      " 48  T2_opponent_FGAmean        2462 non-null   float64\n",
      " 49  T2_FGM3mean                2462 non-null   float64\n",
      " 50  T2_opponent_FGM3mean       2462 non-null   float64\n",
      " 51  T2_FGA3mean                2462 non-null   float64\n",
      " 52  T2_opponent_FGA3mean       2462 non-null   float64\n",
      " 53  T2_FTMmean                 2462 non-null   float64\n",
      " 54  T2_opponent_FTMmean        2462 non-null   float64\n",
      " 55  T2_FTAmean                 2462 non-null   float64\n",
      " 56  T2_opponent_FTAmean        2462 non-null   float64\n",
      " 57  T2_EFG_SUMmean             2462 non-null   float64\n",
      " 58  T2_opponent_EFG_SUMmean    2462 non-null   float64\n",
      " 59  T2_TO_RATIOmean            2462 non-null   float64\n",
      " 60  T2_opponent_TO_RATIOmean   2462 non-null   float64\n",
      " 61  T2_ORmean                  2462 non-null   float64\n",
      " 62  T2_opponent_ORmean         2462 non-null   float64\n",
      " 63  T2_DRmean                  2462 non-null   float64\n",
      " 64  T2_opponent_DRmean         2462 non-null   float64\n",
      " 65  T2_REB_RATEmean            2462 non-null   float64\n",
      " 66  T2_opponent_REB_RATEmean   2462 non-null   float64\n",
      " 67  T2_FT_RATEmean             2462 non-null   float64\n",
      " 68  T2_opponent_FT_RATEmean    2462 non-null   float64\n",
      " 69  T2_POSS_RATEmean           2462 non-null   float64\n",
      " 70  T2_opponent_POSS_RATEmean  2462 non-null   float64\n",
      " 71  T2_Astmean                 2462 non-null   float64\n",
      " 72  T2_opponent_Astmean        2462 non-null   float64\n",
      " 73  T2_TOmean                  2462 non-null   float64\n",
      " 74  T2_opponent_TOmean         2462 non-null   float64\n",
      " 75  T2_Stlmean                 2462 non-null   float64\n",
      " 76  T2_opponent_Stlmean        2462 non-null   float64\n",
      " 77  T2_Blkmean                 2462 non-null   float64\n",
      " 78  T2_opponent_Blkmean        2462 non-null   float64\n",
      " 79  T2_PFmean                  2462 non-null   float64\n",
      " 80  T2_opponent_PFmean         2462 non-null   float64\n",
      " 81  seed_diff                  2462 non-null   float64\n",
      " 82  rank_diff                  1328 non-null   float64\n",
      " 83  quality_diff               2462 non-null   float64\n",
      " 84  win_ratio_14d_diff         2462 non-null   float64\n",
      "dtypes: float64(82), int64(3)\n",
      "memory usage: 1.6 MB\n"
     ]
    }
   ],
   "source": [
    "X.info()"
   ]
  },
  {
   "cell_type": "markdown",
   "id": "1f65bf42",
   "metadata": {
    "papermill": {
     "duration": 0.014935,
     "end_time": "2025-03-13T12:42:07.312662",
     "exception": false,
     "start_time": "2025-03-13T12:42:07.297727",
     "status": "completed"
    },
    "tags": []
   },
   "source": [
    "# build models"
   ]
  },
  {
   "cell_type": "code",
   "execution_count": 17,
   "id": "b86684a5",
   "metadata": {
    "execution": {
     "iopub.execute_input": "2025-03-13T12:42:07.328782Z",
     "iopub.status.busy": "2025-03-13T12:42:07.328782Z",
     "iopub.status.idle": "2025-03-13T12:42:07.364042Z",
     "shell.execute_reply": "2025-03-13T12:42:07.364042Z"
    },
    "papermill": {
     "duration": 0.050873,
     "end_time": "2025-03-13T12:42:07.366044",
     "exception": false,
     "start_time": "2025-03-13T12:42:07.315171",
     "status": "completed"
    },
    "tags": []
   },
   "outputs": [],
   "source": [
    "\n",
    "val_mae = []\n",
    "iteration_counts = []\n",
    "xgb_cv = []\n",
    "dtrain = xgb.DMatrix(X, label=y)\n",
    "\n",
    "repeat_cv = MODEL.repeat_cv\n",
    "param = dict(MODEL.xgb_model.param)\n",
    "num_boost_round = MODEL.xgb_model.num_boost_round\n",
    "folds_splits = MODEL.xgb_model.folds_splits\n",
    "early_stopping_rounds = MODEL.xgb_model.early_stopping_rounds\n",
    "\n",
    "# コーシー損失関数\n",
    "def cauchyobj(preds, dtrain):\n",
    "    labels = dtrain.get_label()\n",
    "    c = 5000\n",
    "    x = preds - labels    \n",
    "    grad = x / (x**2/c**2 + 1)\n",
    "    hess = -c**2 * (x**2 - c**2) / (x**2 + c**2)**2\n",
    "    return grad, hess"
   ]
  },
  {
   "cell_type": "code",
   "execution_count": 18,
   "id": "f27b3d83",
   "metadata": {
    "execution": {
     "iopub.execute_input": "2025-03-13T12:42:07.391034Z",
     "iopub.status.busy": "2025-03-13T12:42:07.390025Z",
     "iopub.status.idle": "2025-03-13T12:42:07.403188Z",
     "shell.execute_reply": "2025-03-13T12:42:07.403188Z"
    },
    "papermill": {
     "duration": 0.026153,
     "end_time": "2025-03-13T12:42:07.403188",
     "exception": false,
     "start_time": "2025-03-13T12:42:07.377035",
     "status": "completed"
    },
    "tags": []
   },
   "outputs": [],
   "source": [
    "#########################################\n",
    "# 1. Optunaあり：ハイパーパラメータ最適化 #\n",
    "#########################################\n",
    "def run_optuna_optimization(param, optuna_conf):\n",
    "    def objective(trial):  \n",
    "        logger.info(f\"Trial {trial.number} 開始\")\n",
    "        \n",
    "        current_param = param.copy()  \n",
    "        max_depth_range = optuna_conf.max_depth        \n",
    "        eta_range = optuna_conf.eta\n",
    "        subsample_range = optuna_conf.subsample          \n",
    "        colsample_bytree_range = optuna_conf.colsample_bytree\n",
    "        num_parallel_tree_range = optuna_conf.num_parallel_tree \n",
    "        min_child_weight_range = optuna_conf.min_child_weight \n",
    "        reg_alpha_range = optuna_conf.reg_alpha         \n",
    "        reg_lambda_range = optuna_conf.reg_lambda    \n",
    "        reg_gamma_range = optuna_conf.gamma  \n",
    "\n",
    "        current_param[\"max_depth\"] = trial.suggest_int(\"max_depth\", max_depth_range[0], max_depth_range[1])\n",
    "        current_param[\"eta\"] = trial.suggest_float(\"eta\", eta_range[0], eta_range[1], log=True)\n",
    "        current_param[\"subsample\"] = trial.suggest_float(\"subsample\", subsample_range[0], subsample_range[1])\n",
    "        current_param[\"colsample_bytree\"] = trial.suggest_float(\"colsample_bytree\", colsample_bytree_range[0], colsample_bytree_range[1])\n",
    "        current_param[\"num_parallel_tree\"] = trial.suggest_int(\"num_parallel_tree\", num_parallel_tree_range[0], num_parallel_tree_range[1])\n",
    "        current_param[\"min_child_weight\"] = trial.suggest_int(\"min_child_weight\", min_child_weight_range[0], min_child_weight_range[1])\n",
    "        current_param[\"reg_alpha\"] = trial.suggest_float(\"reg_alpha\", reg_alpha_range[0], reg_alpha_range[1])\n",
    "        current_param[\"reg_lambda\"] = trial.suggest_float(\"reg_lambda\", reg_lambda_range[0], reg_lambda_range[1])\n",
    "        current_param[\"gamma\"] = trial.suggest_float(\"gamma\", reg_gamma_range[0], reg_gamma_range[1])\n",
    "        \n",
    "        if current_param.get(\"eval_metric\", \"mae\") == \"rmse\":\n",
    "            score_name = \"test-rmse-mean\"\n",
    "        elif current_param.get(\"eval_metric\", \"mae\") == \"mae\":\n",
    "            score_name = \"test-mae-mean\"\n",
    "        elif  current_param.get(\"eval_metric\", \"mae\") == \"logloss\":\n",
    "            score_name = \"test-logloss-mean\"\n",
    "        \n",
    "        print(current_param)  \n",
    "        cv_scores = []\n",
    "        for i in range(repeat_cv):\n",
    "            cv_result = xgb.cv(\n",
    "                params=current_param,\n",
    "                dtrain=dtrain,\n",
    "                obj=cauchyobj,\n",
    "                num_boost_round=num_boost_round,\n",
    "                folds=KFold(n_splits=folds_splits, shuffle=True, random_state=i),\n",
    "                early_stopping_rounds=early_stopping_rounds,\n",
    "                verbose_eval=False\n",
    "            )\n",
    "            fold_score = np.min(cv_result[score_name].values)\n",
    "            cv_scores.append(fold_score)\n",
    "        mean_score = np.mean(cv_scores)\n",
    "        logger.info(f\"Trial {trial.number} 終了: スコア {mean_score}\")\n",
    "        \n",
    "        return mean_score\n",
    "\n",
    "    logger.info(\"Optuna最適化開始\")\n",
    "    N_WARMUP_STEPS = optuna_conf.n_warmup_steps\n",
    "    TIMEOUT = optuna_conf.timeout\n",
    "    N_JOBS = optuna_conf.n_jobs\n",
    "    N_TRIALS = optuna_conf.n_trials\n",
    "    \n",
    "    sampler = optuna.samplers.TPESampler(seed=42)\n",
    "    pruner = optuna.pruners.MedianPruner(n_warmup_steps=N_WARMUP_STEPS)\n",
    "\n",
    "    study = optuna.create_study(direction=\"minimize\", sampler=sampler, pruner=pruner)\n",
    "    study.optimize(objective, n_trials=N_TRIALS, timeout=TIMEOUT, n_jobs=N_JOBS)\n",
    "\n",
    "    best_trial = study.best_trial\n",
    "    logger.info(\"Best trial:\")\n",
    "    logger.info(f\"  Value: {best_trial.value}\")\n",
    "    \n",
    "    for key, value in best_trial.params.items():\n",
    "        print(f\"    {key}: {value}\")\n",
    "    param.update(best_trial.params)\n",
    "\n",
    "    logger.info(\"Optuna最適化終了\")\n",
    "    return param"
   ]
  },
  {
   "cell_type": "code",
   "execution_count": 19,
   "id": "a29f9d24",
   "metadata": {
    "execution": {
     "iopub.execute_input": "2025-03-13T12:42:07.428722Z",
     "iopub.status.busy": "2025-03-13T12:42:07.428722Z",
     "iopub.status.idle": "2025-03-13T12:42:07.434420Z",
     "shell.execute_reply": "2025-03-13T12:42:07.434420Z"
    },
    "papermill": {
     "duration": 0.018314,
     "end_time": "2025-03-13T12:42:07.434420",
     "exception": false,
     "start_time": "2025-03-13T12:42:07.416106",
     "status": "completed"
    },
    "tags": []
   },
   "outputs": [
    {
     "name": "stdout",
     "output_type": "stream",
     "text": [
      "not use Optuna, use xgb_model.param\n",
      "param: {'eval_metric': 'rmse', 'booster': 'gbtree', 'eta': 0.02, 'subsample': 0.35, 'colsample_bytree': 0.7, 'num_parallel_tree': 10, 'min_child_weight': 40, 'gamma': 10, 'max_depth': 3}\n",
      "repeat_cv: 10\n",
      "num_boost_round: 3000\n",
      "folds_splits: 5\n",
      "early_stopping_rounds: 25\n"
     ]
    }
   ],
   "source": [
    "IS_OPTUNA = MODEL.optuna_enabled\n",
    "if IS_OPTUNA:\n",
    "    print(\"Optuna use mode\") \n",
    "    optuna_conf = MODEL.xgb_model.optuna\n",
    "    logger.add(os.path.join(OUTPUT_PATH, \"results.log\"), format=\"{time:YYYY-MM-DD at HH:mm:ss} - {level} - {message}\", level=\"INFO\")\n",
    "    param = run_optuna_optimization(param, optuna_conf)\n",
    "    print(\"param updated by optuna\")\n",
    "    results+= [\"param set after optuna is below\", f\"{param}\", \"\"]\n",
    "else:    \n",
    "    print(\"not use Optuna, use xgb_model.param\")\n",
    "\n",
    "\n",
    "\n",
    "print(\"param:\", param)\n",
    "print(\"repeat_cv:\", repeat_cv)\n",
    "print(\"num_boost_round:\", num_boost_round)\n",
    "print(\"folds_splits:\", folds_splits)\n",
    "print(\"early_stopping_rounds:\", early_stopping_rounds)"
   ]
  },
  {
   "cell_type": "code",
   "execution_count": 20,
   "id": "e0b8c919",
   "metadata": {
    "execution": {
     "iopub.execute_input": "2025-03-13T12:42:07.462146Z",
     "iopub.status.busy": "2025-03-13T12:42:07.462146Z",
     "iopub.status.idle": "2025-03-13T12:47:11.928926Z",
     "shell.execute_reply": "2025-03-13T12:47:11.928926Z"
    },
    "papermill": {
     "duration": 304.481465,
     "end_time": "2025-03-13T12:47:11.929951",
     "exception": false,
     "start_time": "2025-03-13T12:42:07.448486",
     "status": "completed"
    },
    "tags": []
   },
   "outputs": [
    {
     "name": "stderr",
     "output_type": "stream",
     "text": [
      "\r",
      "  0%|                                                                                                                                                                                                                                      | 0/10 [00:00<?, ?it/s]"
     ]
    },
    {
     "name": "stdout",
     "output_type": "stream",
     "text": [
      "[0]\ttrain-rmse:17.95126+0.09329\ttest-rmse:17.95171+0.37045\n"
     ]
    },
    {
     "name": "stdout",
     "output_type": "stream",
     "text": [
      "[50]\ttrain-rmse:13.62189+0.06723\ttest-rmse:13.87021+0.28698\n"
     ]
    },
    {
     "name": "stdout",
     "output_type": "stream",
     "text": [
      "[100]\ttrain-rmse:12.39045+0.07091\ttest-rmse:12.86319+0.28636\n"
     ]
    },
    {
     "name": "stdout",
     "output_type": "stream",
     "text": [
      "[150]\ttrain-rmse:11.88939+0.06270\ttest-rmse:12.56818+0.27858\n"
     ]
    },
    {
     "name": "stdout",
     "output_type": "stream",
     "text": [
      "[200]\ttrain-rmse:11.56733+0.05571\ttest-rmse:12.44588+0.26658\n"
     ]
    },
    {
     "name": "stdout",
     "output_type": "stream",
     "text": [
      "[250]\ttrain-rmse:11.31377+0.05365\ttest-rmse:12.38749+0.25066\n"
     ]
    },
    {
     "name": "stdout",
     "output_type": "stream",
     "text": [
      "[300]\ttrain-rmse:11.09451+0.05126\ttest-rmse:12.35087+0.23759\n"
     ]
    },
    {
     "name": "stdout",
     "output_type": "stream",
     "text": [
      "[350]\ttrain-rmse:10.89549+0.05094\ttest-rmse:12.33358+0.23117\n"
     ]
    },
    {
     "name": "stdout",
     "output_type": "stream",
     "text": [
      "[400]\ttrain-rmse:10.71250+0.04922\ttest-rmse:12.32771+0.22334\n"
     ]
    },
    {
     "name": "stdout",
     "output_type": "stream",
     "text": [
      "[450]\ttrain-rmse:10.54462+0.04790\ttest-rmse:12.32167+0.21586\n"
     ]
    },
    {
     "name": "stdout",
     "output_type": "stream",
     "text": [
      "[496]\ttrain-rmse:10.39868+0.04800\ttest-rmse:12.32148+0.21041\n"
     ]
    },
    {
     "name": "stderr",
     "output_type": "stream",
     "text": [
      "\r",
      " 10%|██████████████████████▏                                                                                                                                                                                                       | 1/10 [00:25<03:53, 25.99s/it]"
     ]
    },
    {
     "name": "stdout",
     "output_type": "stream",
     "text": [
      "[0]\ttrain-rmse:17.94991+0.12483\ttest-rmse:17.94879+0.49585\n"
     ]
    },
    {
     "name": "stdout",
     "output_type": "stream",
     "text": [
      "[50]\ttrain-rmse:13.61591+0.07841\ttest-rmse:13.89550+0.42603\n"
     ]
    },
    {
     "name": "stdout",
     "output_type": "stream",
     "text": [
      "[100]\ttrain-rmse:12.38860+0.06987\ttest-rmse:12.90528+0.37591\n"
     ]
    },
    {
     "name": "stdout",
     "output_type": "stream",
     "text": [
      "[150]\ttrain-rmse:11.88563+0.06563\ttest-rmse:12.60447+0.35541\n"
     ]
    },
    {
     "name": "stdout",
     "output_type": "stream",
     "text": [
      "[200]\ttrain-rmse:11.57028+0.06725\ttest-rmse:12.48157+0.33513\n"
     ]
    },
    {
     "name": "stdout",
     "output_type": "stream",
     "text": [
      "[250]\ttrain-rmse:11.31880+0.06987\ttest-rmse:12.41047+0.32426\n"
     ]
    },
    {
     "name": "stdout",
     "output_type": "stream",
     "text": [
      "[300]\ttrain-rmse:11.10376+0.07065\ttest-rmse:12.37140+0.32361\n"
     ]
    },
    {
     "name": "stdout",
     "output_type": "stream",
     "text": [
      "[350]\ttrain-rmse:10.90697+0.07115\ttest-rmse:12.34850+0.31886\n"
     ]
    },
    {
     "name": "stdout",
     "output_type": "stream",
     "text": [
      "[400]\ttrain-rmse:10.72549+0.07132\ttest-rmse:12.33374+0.31873\n"
     ]
    },
    {
     "name": "stdout",
     "output_type": "stream",
     "text": [
      "[450]\ttrain-rmse:10.55735+0.07101\ttest-rmse:12.32245+0.31477\n"
     ]
    },
    {
     "name": "stdout",
     "output_type": "stream",
     "text": [
      "[500]\ttrain-rmse:10.40017+0.06962\ttest-rmse:12.31953+0.31628\n"
     ]
    },
    {
     "name": "stdout",
     "output_type": "stream",
     "text": [
      "[550]\ttrain-rmse:10.24802+0.06871\ttest-rmse:12.31382+0.31350\n"
     ]
    },
    {
     "name": "stdout",
     "output_type": "stream",
     "text": [
      "[563]\ttrain-rmse:10.21009+0.06800\ttest-rmse:12.31554+0.31478\n"
     ]
    },
    {
     "name": "stderr",
     "output_type": "stream",
     "text": [
      "\r",
      " 20%|████████████████████████████████████████████▍                                                                                                                                                                                 | 2/10 [00:55<03:44, 28.06s/it]"
     ]
    },
    {
     "name": "stdout",
     "output_type": "stream",
     "text": [
      "[0]\ttrain-rmse:17.95052+0.19702\ttest-rmse:17.93909+0.80374\n"
     ]
    },
    {
     "name": "stdout",
     "output_type": "stream",
     "text": [
      "[50]\ttrain-rmse:13.62562+0.08656\ttest-rmse:13.86068+0.53491\n"
     ]
    },
    {
     "name": "stdout",
     "output_type": "stream",
     "text": [
      "[100]\ttrain-rmse:12.39741+0.06784\ttest-rmse:12.84152+0.40390\n"
     ]
    },
    {
     "name": "stdout",
     "output_type": "stream",
     "text": [
      "[150]\ttrain-rmse:11.89704+0.06716\ttest-rmse:12.53128+0.35322\n"
     ]
    },
    {
     "name": "stdout",
     "output_type": "stream",
     "text": [
      "[200]\ttrain-rmse:11.57670+0.06691\ttest-rmse:12.39770+0.32515\n"
     ]
    },
    {
     "name": "stdout",
     "output_type": "stream",
     "text": [
      "[250]\ttrain-rmse:11.32454+0.06750\ttest-rmse:12.33452+0.30890\n"
     ]
    },
    {
     "name": "stdout",
     "output_type": "stream",
     "text": [
      "[300]\ttrain-rmse:11.10671+0.06582\ttest-rmse:12.30429+0.30442\n"
     ]
    },
    {
     "name": "stdout",
     "output_type": "stream",
     "text": [
      "[350]\ttrain-rmse:10.90981+0.06677\ttest-rmse:12.28081+0.30649\n"
     ]
    },
    {
     "name": "stdout",
     "output_type": "stream",
     "text": [
      "[400]\ttrain-rmse:10.72746+0.06442\ttest-rmse:12.27195+0.31032\n"
     ]
    },
    {
     "name": "stdout",
     "output_type": "stream",
     "text": [
      "[450]\ttrain-rmse:10.56027+0.06638\ttest-rmse:12.26494+0.31132\n"
     ]
    },
    {
     "name": "stdout",
     "output_type": "stream",
     "text": [
      "[500]\ttrain-rmse:10.40185+0.06746\ttest-rmse:12.26272+0.31491\n"
     ]
    },
    {
     "name": "stdout",
     "output_type": "stream",
     "text": [
      "[550]\ttrain-rmse:10.25187+0.06696\ttest-rmse:12.26128+0.31329\n"
     ]
    },
    {
     "name": "stdout",
     "output_type": "stream",
     "text": [
      "[556]\ttrain-rmse:10.23523+0.06778\ttest-rmse:12.26170+0.31380\n"
     ]
    },
    {
     "name": "stderr",
     "output_type": "stream",
     "text": [
      "\r",
      " 30%|██████████████████████████████████████████████████████████████████▌                                                                                                                                                           | 3/10 [01:27<03:29, 29.94s/it]"
     ]
    },
    {
     "name": "stdout",
     "output_type": "stream",
     "text": [
      "[0]\ttrain-rmse:17.94882+0.19309\ttest-rmse:17.93561+0.79548\n"
     ]
    },
    {
     "name": "stdout",
     "output_type": "stream",
     "text": [
      "[50]\ttrain-rmse:13.62713+0.11494\ttest-rmse:13.86783+0.65886\n"
     ]
    },
    {
     "name": "stdout",
     "output_type": "stream",
     "text": [
      "[100]\ttrain-rmse:12.39502+0.09545\ttest-rmse:12.86388+0.51451\n"
     ]
    },
    {
     "name": "stdout",
     "output_type": "stream",
     "text": [
      "[150]\ttrain-rmse:11.89426+0.08895\ttest-rmse:12.56091+0.43701\n"
     ]
    },
    {
     "name": "stdout",
     "output_type": "stream",
     "text": [
      "[200]\ttrain-rmse:11.57846+0.08771\ttest-rmse:12.43575+0.39046\n"
     ]
    },
    {
     "name": "stdout",
     "output_type": "stream",
     "text": [
      "[250]\ttrain-rmse:11.32835+0.08515\ttest-rmse:12.36851+0.36727\n"
     ]
    },
    {
     "name": "stdout",
     "output_type": "stream",
     "text": [
      "[300]\ttrain-rmse:11.11024+0.08465\ttest-rmse:12.32578+0.35310\n"
     ]
    },
    {
     "name": "stdout",
     "output_type": "stream",
     "text": [
      "[350]\ttrain-rmse:10.91469+0.08459\ttest-rmse:12.29872+0.34667\n"
     ]
    },
    {
     "name": "stdout",
     "output_type": "stream",
     "text": [
      "[400]\ttrain-rmse:10.73505+0.08421\ttest-rmse:12.27872+0.34049\n"
     ]
    },
    {
     "name": "stdout",
     "output_type": "stream",
     "text": [
      "[450]\ttrain-rmse:10.56540+0.08369\ttest-rmse:12.26817+0.33636\n"
     ]
    },
    {
     "name": "stdout",
     "output_type": "stream",
     "text": [
      "[500]\ttrain-rmse:10.40553+0.08347\ttest-rmse:12.26163+0.33457\n"
     ]
    },
    {
     "name": "stdout",
     "output_type": "stream",
     "text": [
      "[540]\ttrain-rmse:10.28429+0.08447\ttest-rmse:12.26060+0.33579\n"
     ]
    },
    {
     "name": "stderr",
     "output_type": "stream",
     "text": [
      "\r",
      " 40%|████████████████████████████████████████████████████████████████████████████████████████▊                                                                                                                                     | 4/10 [01:58<03:01, 30.27s/it]"
     ]
    },
    {
     "name": "stdout",
     "output_type": "stream",
     "text": [
      "[0]\ttrain-rmse:17.94922+0.16284\ttest-rmse:17.94214+0.64860\n"
     ]
    },
    {
     "name": "stdout",
     "output_type": "stream",
     "text": [
      "[50]\ttrain-rmse:13.62658+0.12846\ttest-rmse:13.85533+0.57423\n"
     ]
    },
    {
     "name": "stdout",
     "output_type": "stream",
     "text": [
      "[100]\ttrain-rmse:12.40273+0.12713\ttest-rmse:12.82532+0.52557\n"
     ]
    },
    {
     "name": "stdout",
     "output_type": "stream",
     "text": [
      "[150]\ttrain-rmse:11.90176+0.12505\ttest-rmse:12.50844+0.49283\n"
     ]
    },
    {
     "name": "stdout",
     "output_type": "stream",
     "text": [
      "[200]\ttrain-rmse:11.58476+0.11973\ttest-rmse:12.37329+0.46936\n"
     ]
    },
    {
     "name": "stdout",
     "output_type": "stream",
     "text": [
      "[250]\ttrain-rmse:11.33586+0.11665\ttest-rmse:12.30115+0.45640\n"
     ]
    },
    {
     "name": "stdout",
     "output_type": "stream",
     "text": [
      "[300]\ttrain-rmse:11.11834+0.11366\ttest-rmse:12.26196+0.44358\n"
     ]
    },
    {
     "name": "stdout",
     "output_type": "stream",
     "text": [
      "[350]\ttrain-rmse:10.92255+0.11011\ttest-rmse:12.23507+0.43869\n"
     ]
    },
    {
     "name": "stdout",
     "output_type": "stream",
     "text": [
      "[400]\ttrain-rmse:10.74349+0.10900\ttest-rmse:12.21428+0.43527\n"
     ]
    },
    {
     "name": "stdout",
     "output_type": "stream",
     "text": [
      "[450]\ttrain-rmse:10.57526+0.10782\ttest-rmse:12.19385+0.43251\n"
     ]
    },
    {
     "name": "stdout",
     "output_type": "stream",
     "text": [
      "[500]\ttrain-rmse:10.41757+0.10593\ttest-rmse:12.18418+0.42888\n"
     ]
    },
    {
     "name": "stdout",
     "output_type": "stream",
     "text": [
      "[550]\ttrain-rmse:10.26724+0.10284\ttest-rmse:12.17645+0.43349\n"
     ]
    },
    {
     "name": "stdout",
     "output_type": "stream",
     "text": [
      "[600]\ttrain-rmse:10.12554+0.10134\ttest-rmse:12.17094+0.42968\n"
     ]
    },
    {
     "name": "stdout",
     "output_type": "stream",
     "text": [
      "[650]\ttrain-rmse:9.98870+0.09797\ttest-rmse:12.16965+0.42665\n"
     ]
    },
    {
     "name": "stderr",
     "output_type": "stream",
     "text": [
      "\r",
      " 50%|███████████████████████████████████████████████████████████████████████████████████████████████████████████████                                                                                                               | 5/10 [02:36<02:44, 32.92s/it]"
     ]
    },
    {
     "name": "stdout",
     "output_type": "stream",
     "text": [
      "[0]\ttrain-rmse:17.95067+0.12396\ttest-rmse:17.94844+0.50059\n"
     ]
    },
    {
     "name": "stdout",
     "output_type": "stream",
     "text": [
      "[50]\ttrain-rmse:13.62766+0.03172\ttest-rmse:13.86881+0.30200\n"
     ]
    },
    {
     "name": "stdout",
     "output_type": "stream",
     "text": [
      "[100]\ttrain-rmse:12.40012+0.01971\ttest-rmse:12.83808+0.16850\n"
     ]
    },
    {
     "name": "stdout",
     "output_type": "stream",
     "text": [
      "[150]\ttrain-rmse:11.89876+0.02700\ttest-rmse:12.52332+0.12571\n"
     ]
    },
    {
     "name": "stdout",
     "output_type": "stream",
     "text": [
      "[200]\ttrain-rmse:11.57900+0.03115\ttest-rmse:12.39191+0.11906\n"
     ]
    },
    {
     "name": "stdout",
     "output_type": "stream",
     "text": [
      "[250]\ttrain-rmse:11.32661+0.03363\ttest-rmse:12.32510+0.12027\n"
     ]
    },
    {
     "name": "stdout",
     "output_type": "stream",
     "text": [
      "[300]\ttrain-rmse:11.10997+0.03485\ttest-rmse:12.28624+0.12220\n"
     ]
    },
    {
     "name": "stdout",
     "output_type": "stream",
     "text": [
      "[350]\ttrain-rmse:10.91455+0.03851\ttest-rmse:12.26772+0.12490\n"
     ]
    },
    {
     "name": "stdout",
     "output_type": "stream",
     "text": [
      "[400]\ttrain-rmse:10.73317+0.03844\ttest-rmse:12.25270+0.12131\n"
     ]
    },
    {
     "name": "stdout",
     "output_type": "stream",
     "text": [
      "[450]\ttrain-rmse:10.56467+0.03861\ttest-rmse:12.24568+0.11744\n"
     ]
    },
    {
     "name": "stdout",
     "output_type": "stream",
     "text": [
      "[500]\ttrain-rmse:10.40394+0.04002\ttest-rmse:12.24237+0.11510\n"
     ]
    },
    {
     "name": "stdout",
     "output_type": "stream",
     "text": [
      "[504]\ttrain-rmse:10.39217+0.04016\ttest-rmse:12.24258+0.11481\n"
     ]
    },
    {
     "name": "stderr",
     "output_type": "stream",
     "text": [
      "\r",
      " 60%|█████████████████████████████████████████████████████████████████████████████████████████████████████████████████████████████████████▏                                                                                        | 6/10 [03:05<02:06, 31.59s/it]"
     ]
    },
    {
     "name": "stdout",
     "output_type": "stream",
     "text": [
      "[0]\ttrain-rmse:17.94759+0.28446\ttest-rmse:17.91747+1.15085\n"
     ]
    },
    {
     "name": "stdout",
     "output_type": "stream",
     "text": [
      "[50]\ttrain-rmse:13.61614+0.15051\ttest-rmse:13.84789+0.94976\n"
     ]
    },
    {
     "name": "stdout",
     "output_type": "stream",
     "text": [
      "[100]\ttrain-rmse:12.39223+0.12234\ttest-rmse:12.84454+0.76430\n"
     ]
    },
    {
     "name": "stdout",
     "output_type": "stream",
     "text": [
      "[150]\ttrain-rmse:11.89150+0.11712\ttest-rmse:12.53739+0.66152\n"
     ]
    },
    {
     "name": "stdout",
     "output_type": "stream",
     "text": [
      "[200]\ttrain-rmse:11.57582+0.11542\ttest-rmse:12.41235+0.60939\n"
     ]
    },
    {
     "name": "stdout",
     "output_type": "stream",
     "text": [
      "[250]\ttrain-rmse:11.32445+0.11209\ttest-rmse:12.34209+0.57832\n"
     ]
    },
    {
     "name": "stdout",
     "output_type": "stream",
     "text": [
      "[300]\ttrain-rmse:11.10699+0.11229\ttest-rmse:12.30139+0.55399\n"
     ]
    },
    {
     "name": "stdout",
     "output_type": "stream",
     "text": [
      "[350]\ttrain-rmse:10.91039+0.10991\ttest-rmse:12.27842+0.54076\n"
     ]
    },
    {
     "name": "stdout",
     "output_type": "stream",
     "text": [
      "[400]\ttrain-rmse:10.72958+0.10725\ttest-rmse:12.26155+0.53090\n"
     ]
    },
    {
     "name": "stdout",
     "output_type": "stream",
     "text": [
      "[450]\ttrain-rmse:10.56160+0.10742\ttest-rmse:12.25142+0.52365\n"
     ]
    },
    {
     "name": "stdout",
     "output_type": "stream",
     "text": [
      "[500]\ttrain-rmse:10.40571+0.10479\ttest-rmse:12.24371+0.51810\n"
     ]
    },
    {
     "name": "stdout",
     "output_type": "stream",
     "text": [
      "[550]\ttrain-rmse:10.25705+0.10405\ttest-rmse:12.23983+0.51552\n"
     ]
    },
    {
     "name": "stdout",
     "output_type": "stream",
     "text": [
      "[572]\ttrain-rmse:10.19280+0.10407\ttest-rmse:12.24198+0.51286\n"
     ]
    },
    {
     "name": "stderr",
     "output_type": "stream",
     "text": [
      "\r",
      " 70%|███████████████████████████████████████████████████████████████████████████████████████████████████████████████████████████████████████████████████████████▍                                                                  | 7/10 [03:38<01:36, 32.19s/it]"
     ]
    },
    {
     "name": "stdout",
     "output_type": "stream",
     "text": [
      "[0]\ttrain-rmse:17.94979+0.21909\ttest-rmse:17.93370+0.90285\n"
     ]
    },
    {
     "name": "stdout",
     "output_type": "stream",
     "text": [
      "[50]\ttrain-rmse:13.61996+0.14213\ttest-rmse:13.86217+0.73847\n"
     ]
    },
    {
     "name": "stdout",
     "output_type": "stream",
     "text": [
      "[100]\ttrain-rmse:12.39409+0.11933\ttest-rmse:12.85638+0.61012\n"
     ]
    },
    {
     "name": "stdout",
     "output_type": "stream",
     "text": [
      "[150]\ttrain-rmse:11.89237+0.11170\ttest-rmse:12.54243+0.56307\n"
     ]
    },
    {
     "name": "stdout",
     "output_type": "stream",
     "text": [
      "[200]\ttrain-rmse:11.57315+0.10779\ttest-rmse:12.41884+0.53880\n"
     ]
    },
    {
     "name": "stdout",
     "output_type": "stream",
     "text": [
      "[250]\ttrain-rmse:11.32208+0.10581\ttest-rmse:12.35462+0.52356\n"
     ]
    },
    {
     "name": "stdout",
     "output_type": "stream",
     "text": [
      "[300]\ttrain-rmse:11.10360+0.10497\ttest-rmse:12.31606+0.51332\n"
     ]
    },
    {
     "name": "stdout",
     "output_type": "stream",
     "text": [
      "[350]\ttrain-rmse:10.90482+0.10358\ttest-rmse:12.29345+0.50898\n"
     ]
    },
    {
     "name": "stdout",
     "output_type": "stream",
     "text": [
      "[400]\ttrain-rmse:10.72394+0.10519\ttest-rmse:12.28375+0.50342\n"
     ]
    },
    {
     "name": "stdout",
     "output_type": "stream",
     "text": [
      "[450]\ttrain-rmse:10.55510+0.10454\ttest-rmse:12.27829+0.49847\n"
     ]
    },
    {
     "name": "stdout",
     "output_type": "stream",
     "text": [
      "[470]\ttrain-rmse:10.48910+0.10356\ttest-rmse:12.27853+0.49720\n"
     ]
    },
    {
     "name": "stderr",
     "output_type": "stream",
     "text": [
      "\r",
      " 80%|█████████████████████████████████████████████████████████████████████████████████████████████████████████████████████████████████████████████████████████████████████████████████▌                                            | 8/10 [04:07<01:02, 31.04s/it]"
     ]
    },
    {
     "name": "stdout",
     "output_type": "stream",
     "text": [
      "[0]\ttrain-rmse:17.95054+0.08230\ttest-rmse:17.95186+0.32984\n"
     ]
    },
    {
     "name": "stdout",
     "output_type": "stream",
     "text": [
      "[50]\ttrain-rmse:13.62962+0.08388\ttest-rmse:13.84753+0.42324\n"
     ]
    },
    {
     "name": "stdout",
     "output_type": "stream",
     "text": [
      "[100]\ttrain-rmse:12.40068+0.07948\ttest-rmse:12.82643+0.39478\n"
     ]
    },
    {
     "name": "stdout",
     "output_type": "stream",
     "text": [
      "[150]\ttrain-rmse:11.89670+0.07642\ttest-rmse:12.52980+0.35561\n"
     ]
    },
    {
     "name": "stdout",
     "output_type": "stream",
     "text": [
      "[200]\ttrain-rmse:11.57646+0.07538\ttest-rmse:12.40896+0.33157\n"
     ]
    },
    {
     "name": "stdout",
     "output_type": "stream",
     "text": [
      "[250]\ttrain-rmse:11.32382+0.07296\ttest-rmse:12.34908+0.31652\n"
     ]
    },
    {
     "name": "stdout",
     "output_type": "stream",
     "text": [
      "[300]\ttrain-rmse:11.10636+0.06981\ttest-rmse:12.32087+0.31106\n"
     ]
    },
    {
     "name": "stdout",
     "output_type": "stream",
     "text": [
      "[350]\ttrain-rmse:10.90895+0.06759\ttest-rmse:12.29979+0.30305\n"
     ]
    },
    {
     "name": "stdout",
     "output_type": "stream",
     "text": [
      "[400]\ttrain-rmse:10.72567+0.06379\ttest-rmse:12.28735+0.29929\n"
     ]
    },
    {
     "name": "stdout",
     "output_type": "stream",
     "text": [
      "[450]\ttrain-rmse:10.55788+0.06281\ttest-rmse:12.28017+0.30014\n"
     ]
    },
    {
     "name": "stdout",
     "output_type": "stream",
     "text": [
      "[483]\ttrain-rmse:10.45099+0.06036\ttest-rmse:12.28149+0.29812\n"
     ]
    },
    {
     "name": "stderr",
     "output_type": "stream",
     "text": [
      "\r",
      " 90%|███████████████████████████████████████████████████████████████████████████████████████████████████████████████████████████████████████████████████████████████████████████████████████████████████████▊                      | 9/10 [04:35<00:30, 30.14s/it]"
     ]
    },
    {
     "name": "stdout",
     "output_type": "stream",
     "text": [
      "[0]\ttrain-rmse:17.94847+0.25902\ttest-rmse:17.92630+1.03475\n"
     ]
    },
    {
     "name": "stdout",
     "output_type": "stream",
     "text": [
      "[50]\ttrain-rmse:13.62590+0.14200\ttest-rmse:13.86355+0.75976\n"
     ]
    },
    {
     "name": "stdout",
     "output_type": "stream",
     "text": [
      "[100]\ttrain-rmse:12.39735+0.11510\ttest-rmse:12.85359+0.61431\n"
     ]
    },
    {
     "name": "stdout",
     "output_type": "stream",
     "text": [
      "[150]\ttrain-rmse:11.89323+0.10288\ttest-rmse:12.54115+0.54859\n"
     ]
    },
    {
     "name": "stdout",
     "output_type": "stream",
     "text": [
      "[200]\ttrain-rmse:11.57522+0.09698\ttest-rmse:12.41038+0.51220\n"
     ]
    },
    {
     "name": "stdout",
     "output_type": "stream",
     "text": [
      "[250]\ttrain-rmse:11.32654+0.09400\ttest-rmse:12.34292+0.49297\n"
     ]
    },
    {
     "name": "stdout",
     "output_type": "stream",
     "text": [
      "[300]\ttrain-rmse:11.10956+0.09232\ttest-rmse:12.30001+0.48103\n"
     ]
    },
    {
     "name": "stdout",
     "output_type": "stream",
     "text": [
      "[350]\ttrain-rmse:10.91371+0.09305\ttest-rmse:12.27330+0.47566\n"
     ]
    },
    {
     "name": "stdout",
     "output_type": "stream",
     "text": [
      "[400]\ttrain-rmse:10.73319+0.09225\ttest-rmse:12.25693+0.46528\n"
     ]
    },
    {
     "name": "stdout",
     "output_type": "stream",
     "text": [
      "[450]\ttrain-rmse:10.56292+0.09346\ttest-rmse:12.24795+0.46531\n"
     ]
    },
    {
     "name": "stdout",
     "output_type": "stream",
     "text": [
      "[500]\ttrain-rmse:10.40416+0.09318\ttest-rmse:12.24574+0.46528\n"
     ]
    },
    {
     "name": "stdout",
     "output_type": "stream",
     "text": [
      "[503]\ttrain-rmse:10.39516+0.09288\ttest-rmse:12.24434+0.46499\n"
     ]
    },
    {
     "name": "stderr",
     "output_type": "stream",
     "text": [
      "\r",
      "100%|█████████████████████████████████████████████████████████████████████████████████████████████████████████████████████████████████████████████████████████████████████████████████████████████████████████████████████████████| 10/10 [05:04<00:00, 29.78s/it]"
     ]
    },
    {
     "name": "stderr",
     "output_type": "stream",
     "text": [
      "\r",
      "100%|█████████████████████████████████████████████████████████████████████████████████████████████████████████████████████████████████████████████████████████████████████████████████████████████████████████████████████████████| 10/10 [05:04<00:00, 30.42s/it]"
     ]
    },
    {
     "name": "stderr",
     "output_type": "stream",
     "text": [
      "\n"
     ]
    }
   ],
   "source": [
    "if param.get(\"eval_metric\", \"mae\") == \"rmse\":\n",
    "    score_key = \"test-rmse-mean\"\n",
    "    ylabel = \"Test RMSE Mean\"\n",
    "    title = \"Learning Curve: Test RMSE vs Boosting Rounds\"\n",
    "elif param.get(\"eval_metric\", \"mae\") == \"mae\":\n",
    "    score_key = \"test-mae-mean\"\n",
    "    ylabel = \"Test MAE Mean\"\n",
    "    title = \"Learning Curve: Test MAE vs Boosting Rounds\"\n",
    "elif param.get(\"eval_metric\", \"mae\") == \"logloss\":\n",
    "    score_key = \"test-logloss-mean\"\n",
    "    ylabel = \"Test Logloss Mean\"\n",
    "    title = \"Learning Curve: Test Logloss vs Boosting Rounds\"\n",
    "\n",
    "\n",
    "for i in tqdm(range(repeat_cv), leave=True, dynamic_ncols=True): \n",
    "    cv_result = xgb.cv(\n",
    "        params=param,\n",
    "        dtrain=dtrain,\n",
    "        obj=cauchyobj,\n",
    "        num_boost_round=num_boost_round,\n",
    "        folds=KFold(n_splits=folds_splits, shuffle=True, random_state=i),\n",
    "        early_stopping_rounds=early_stopping_rounds,\n",
    "        verbose_eval=50\n",
    "    )\n",
    "    \"\"\"\n",
    "    train-mae-mean: 各fold における訓練データの MAE の平均値。\n",
    "    train-mae-std: 訓練データの MAE の標準偏差。\n",
    "    test-mae-mean: 各fold における検証データの MAE の平均値。\n",
    "    test-mae-std: 検証データの MAE の標準偏差。\n",
    "    \"\"\"\n",
    "    xgb_cv.append(cv_result)\n",
    "    \n",
    "\n",
    "\n",
    "\n",
    "# 各 repeater ごとの最適ブーストラウンド数と検証MAE\n",
    "iteration_counts = [np.argmin(cv[score_key].values) for cv in xgb_cv]\n",
    "val_mae = [np.min(cv[score_key].values) for cv in xgb_cv]\n",
    "\n",
    "mean_iteration = np.mean(iteration_counts)\n",
    "mean_val_mae = np.mean(val_mae)\n",
    "min_val_mae = np.min(val_mae)\n",
    "results.append(f\"mean_iteration: {mean_iteration}\")\n",
    "results.append(f\"mean_val_{param['eval_metric']}: {mean_val_mae}\")\n",
    "results.append(f\"min_val_{param['eval_metric']}: {min_val_mae}\")\n",
    "results.append(\"\")\n",
    "\n",
    "###\n",
    "plt.figure(figsize=(10, 6))\n",
    "for i, cv_result in enumerate(xgb_cv):\n",
    "    rounds = np.arange(len(cv_result[score_key]))\n",
    "    plt.plot(rounds, cv_result[score_key], label=f\"CV repeater {i+1}\")\n",
    "    \n",
    "plt.xlabel(\"Boosting Round\")\n",
    "plt.ylabel(ylabel)\n",
    "plt.title(title)\n",
    "plt.legend()\n",
    "plt.grid(True)\n",
    "\n",
    "plt.savefig(os.path.join(OUTPUT_PATH, f\"learning_curve_{PREDICT_YEAR}.png\"))\n",
    "plt.close()\n",
    "###\n"
   ]
  },
  {
   "cell_type": "code",
   "execution_count": 21,
   "id": "dfe3b2b3",
   "metadata": {
    "execution": {
     "iopub.execute_input": "2025-03-13T12:47:11.942448Z",
     "iopub.status.busy": "2025-03-13T12:47:11.942448Z",
     "iopub.status.idle": "2025-03-13T12:47:11.962212Z",
     "shell.execute_reply": "2025-03-13T12:47:11.961352Z"
    },
    "papermill": {
     "duration": 0.020782,
     "end_time": "2025-03-13T12:47:11.963230",
     "exception": false,
     "start_time": "2025-03-13T12:47:11.942448",
     "status": "completed"
    },
    "tags": []
   },
   "outputs": [
    {
     "name": "stdout",
     "output_type": "stream",
     "text": [
      "最適ブーストラウンド数: [472, 538, 531, 515, 626, 479, 547, 446, 458, 479]\n",
      "test-rmse-mean: [12.319639062116789, 12.313154812262715, 12.261109924550306, 12.260334873877314, 12.169230267517069, 12.24164768658213, 12.23942803726725, 12.2780417977839, 12.278668157521164, 12.242911924476987]\n"
     ]
    }
   ],
   "source": [
    "print(\"最適ブーストラウンド数:\", iteration_counts)\n",
    "print(f\"{score_key}:\", val_mae)\n",
    "results.append(f\"最適ブーストラウンド: {iteration_counts}\")\n",
    "results.append(f\"{score_key}: {val_mae}\")\n",
    "results.append(\"\")"
   ]
  },
  {
   "cell_type": "code",
   "execution_count": 22,
   "id": "78817f9b",
   "metadata": {
    "execution": {
     "iopub.execute_input": "2025-03-13T12:47:12.010338Z",
     "iopub.status.busy": "2025-03-13T12:47:12.010338Z",
     "iopub.status.idle": "2025-03-13T12:51:50.912588Z",
     "shell.execute_reply": "2025-03-13T12:51:50.912588Z"
    },
    "papermill": {
     "duration": 278.962624,
     "end_time": "2025-03-13T12:51:50.938380",
     "exception": false,
     "start_time": "2025-03-13T12:47:11.975756",
     "status": "completed"
    },
    "tags": []
   },
   "outputs": [
    {
     "name": "stderr",
     "output_type": "stream",
     "text": [
      "\r",
      "  0%|                                                                                                                                                                                                                                      | 0/10 [00:00<?, ?it/s]"
     ]
    },
    {
     "name": "stderr",
     "output_type": "stream",
     "text": [
      "C:\\Users\\81809\\AppData\\Local\\Temp\\ipykernel_24208\\3386215446.py:18: FutureWarning: Setting an item of incompatible dtype is deprecated and will raise an error in a future version of pandas. Value '[ 2.40983467e+01  1.97620850e+01  6.74430752e+00  1.11264515e+00\n",
      "  1.34248638e+01 -1.09965670e+00  2.24986687e+01  2.58621907e+00\n",
      "  2.49653664e+01  7.67720175e+00  7.02964783e+00 -4.04639512e-01\n",
      "  8.14635873e-01  3.31989074e+00  5.57479763e+00  1.29964199e+01\n",
      "  2.68279338e+00  1.84346294e+01  2.11353111e+01 -8.83938611e-01\n",
      "  3.81744003e+00  4.01026011e-03  2.65453529e+00  2.05963445e+00\n",
      " -7.41066635e-01  1.83769760e+01  1.29804354e+01 -3.17160773e+00\n",
      "  4.62651873e+00  2.48409042e+01  1.34442396e+01 -1.68265581e+00\n",
      " -2.83083129e+00 -1.68497448e+01  1.37372792e-01  5.29810143e+00\n",
      " -2.90268946e+00  2.76888204e+00  7.19782925e+00  3.67060041e+00\n",
      "  2.03074741e+01 -2.06280727e+01  3.18020606e+00  1.48182428e+00\n",
      " -5.31046629e+00  8.97491932e+00  7.71702147e+00 -4.51092154e-01\n",
      "  1.29886973e+00 -1.83825645e+01  9.71190548e+00  6.40121078e+00\n",
      "  1.99230576e+01  1.89211071e+00  2.01243925e+00 -3.75250250e-01\n",
      " -1.24934554e+00  3.66262484e+00  1.17617378e+01  2.15454674e+00\n",
      " -2.36257270e-01  6.35079527e+00  3.92622042e+00 -8.43384564e-01\n",
      " -8.33140373e-01  5.45155287e-01  1.12235117e+00 -5.02405310e+00\n",
      " -4.21088263e-02 -8.28720212e-01 -3.09506536e-01  3.12475967e+00\n",
      " -1.22555342e+01 -1.58562384e+01  2.11346092e+01  2.07194233e+01\n",
      "  3.73534822e+00  1.09489117e+01  7.66106486e-01  1.41337633e+00\n",
      "  1.19229078e+01 -4.00227451e+00 -4.74564373e-01  5.96546173e+00\n",
      "  1.12206841e+01  3.53293538e+00  4.56831217e+00 -2.75926590e-01\n",
      "  2.77491226e+01 -1.80404425e+00  2.31855850e+01 -1.72974949e+01\n",
      " -2.98398280e+00  1.14087534e+01 -1.98585427e+00  3.45358872e+00\n",
      " -4.74802256e+00  3.30896616e+00  8.80738068e+00  2.96713448e+00\n",
      "  1.30353365e+01  1.73041141e+00  4.63247490e+00  2.13491955e+01\n",
      "  1.09727778e-01  2.06738639e+00  8.76928627e-01  1.23144884e+01\n",
      "  1.23971596e+01  1.16247730e+01  6.12994814e+00  2.33239818e+00\n",
      "  4.23746681e+00  5.75716853e-01  8.28606319e+00 -5.21951389e+00\n",
      "  2.36715965e+01 -1.01775289e-01  2.14920330e+01  4.88382959e+00\n",
      "  3.66313124e+00  9.50273514e+00 -4.45539951e+00 -1.12725937e+00\n",
      " -3.10578465e+00  5.58798170e+00  2.98887825e+01  1.76427517e+01\n",
      "  1.82968063e+01  8.51003838e+00  5.36751688e-01 -6.42111599e-01\n",
      "  2.48577499e+01  1.47950287e+01 -3.02123570e+00  1.14807434e+01\n",
      "  3.55046654e+01  4.43406391e+00 -8.52280426e+00 -1.49553096e+00\n",
      " -5.20517921e+00  1.14166460e+01 -1.57958460e+00  2.54314880e+01\n",
      "  5.38221264e+00  3.56890068e+01  1.43311987e+01  5.43901396e+00\n",
      "  6.29350662e+00  2.64943371e+01 -4.71359968e+00  2.63358421e+01\n",
      "  4.29608583e+00  1.41403046e+01  1.80698547e+01  4.55907375e-01\n",
      "  4.21159058e+01  2.92945862e+00 -5.11248732e+00  2.00705566e+01\n",
      "  1.10638170e+01  3.40948753e+01 -7.19454384e+00  1.22143984e+01\n",
      "  1.30058908e+01  5.19333172e+00  2.75379252e+00  4.65014124e+00\n",
      "  2.21876793e+01  6.64934874e+00  2.56430745e-01  4.72564745e+00\n",
      "  3.16560898e+01  1.72212563e+01  7.84956026e+00  2.55912018e+01\n",
      "  1.44508257e+01  7.89608240e+00  1.15184307e+01  1.48211975e+01\n",
      " -2.57499256e+01  2.47773004e+00  1.76533241e+01  1.00537252e+01\n",
      " -8.05555344e-01 -4.64986801e+00  4.96716547e+00  1.02015991e+01\n",
      " -6.10813761e+00 -1.10608263e+01  2.29055920e+01  2.26091456e+00\n",
      "  2.04185257e+01  1.51214952e+01 -4.42524481e+00  6.17300749e+00\n",
      "  4.87413692e+00 -2.85147190e-01  6.69493151e+00  2.42077751e+01\n",
      "  5.74480963e+00 -4.29129630e-01 -2.42459106e+00  2.23426056e+01\n",
      "  1.80292778e+01  1.19641571e+01  2.01741910e+00  9.97774029e+00\n",
      "  2.35714874e+01  1.64707222e+01 -1.01542444e+01 -7.37829030e-01\n",
      " -1.63668501e+00  1.33426323e+01 -3.39858603e+00  5.89883518e+00\n",
      "  2.48018017e+01  8.24780560e+00  4.66898155e+01 -2.33217430e+00\n",
      "  9.95370770e+00 -1.01116123e+01  3.23960724e+01  3.99667406e+00\n",
      " -8.82424831e+00 -7.41689026e-01  1.13178320e+01  1.38569422e+01\n",
      "  5.74432659e+00  2.60663624e+01  3.91627741e+00 -5.33077061e-01\n",
      "  1.89969349e+01 -1.52673960e+01  2.39556932e+00 -6.18116999e+00\n",
      "  6.81069088e+00  1.34412346e+01 -5.09766865e+00 -8.82018661e+00\n",
      "  6.66961527e+00  1.83122635e+01  3.94484448e+00  3.27088356e+01\n",
      "  6.15554523e+00  2.58739948e+01  2.21831131e+01 -1.90143824e+00\n",
      "  4.24550056e-01 -1.86228919e+00 -1.96527462e+01  3.66049600e+00\n",
      " -7.52875662e+00 -2.51260757e+00 -3.72271800e+00 -6.19364643e+00\n",
      " -1.21753883e+01 -1.47532046e+00  2.76152611e+00  2.60232973e+00\n",
      " -2.36260357e+01 -2.09865322e+01 -6.73061132e+00 -6.63785413e-02\n",
      " -7.49748421e+00 -4.72573900e+00 -9.94316006e+00  5.55079794e+00\n",
      " -5.70002890e+00 -1.05258870e+00 -4.57080317e+00  2.69471693e+00\n",
      "  2.74408638e-01 -2.49688244e+00  2.50999022e+00 -1.55342541e+01\n",
      " -2.09781971e+01  3.61744857e+00  3.22982335e+00 -1.95512943e+01\n",
      " -2.60702825e+00 -1.67451227e+00 -2.35731621e+01  1.35768986e+00\n",
      " -1.76211834e+01 -1.94481678e+01  3.33713269e+00 -2.26643562e+00\n",
      "  4.38899040e+00  5.79178476e+00 -5.07025123e-02 -6.73042297e+00\n",
      " -2.58771706e+00  3.17243457e+00 -2.87670631e+01 -5.85065889e+00\n",
      " -3.01318288e+00 -2.03270245e+01  1.14025488e+01  2.43458581e+00\n",
      "  6.30796719e+00 -1.41381228e+00 -1.78739679e+00  1.34406364e+00\n",
      " -5.98189878e+00 -1.30184174e+01 -4.95847559e+00 -4.22965384e+00\n",
      "  9.54269290e-01 -2.70281391e+01 -1.26609564e+00 -1.08968458e+01\n",
      " -3.02943945e+00  1.43501587e+01  5.01327467e+00 -4.41074610e+00\n",
      "  2.09825277e+00 -1.04819679e+01 -7.25963926e+00 -9.72459984e+00\n",
      " -7.17692089e+00  6.05827188e+00 -4.13888264e+00 -4.12261868e+00\n",
      "  1.46135792e-01 -5.06727743e+00 -1.21141696e+00  6.69753170e+00\n",
      " -1.42681141e+01 -2.04750328e+01  1.10323167e+00 -2.24382172e+01\n",
      " -6.21862841e+00 -1.32041645e+01 -2.08011456e-02 -3.57849431e+00\n",
      " -7.69056273e+00 -2.91310310e+00 -5.30235243e+00  7.11089015e-01\n",
      " -3.95974207e+00  4.90743923e+00  4.75108385e+00  2.09199929e+00\n",
      "  2.02354026e+00 -3.94904494e+00  3.39546490e+00  4.81107283e+00\n",
      " -1.65950871e+01 -1.09268894e+01 -4.40420485e+00 -1.16385450e+01\n",
      " -3.34671426e+00 -2.11868420e+01 -1.87658272e+01 -4.63500071e+00\n",
      " -1.64205647e+01  1.98837054e+00 -9.55225277e+00 -6.60620165e+00\n",
      "  2.00420752e-01 -2.63898926e+01 -2.22176514e+01 -5.23191690e+00\n",
      "  1.83663063e+01 -1.75731039e+00 -2.19979229e+01 -1.42674274e+01\n",
      " -1.20793581e+01 -5.10337210e+00 -8.15618896e+00 -5.78921652e+00\n",
      "  7.09554970e-01  4.88525200e+00  3.65629911e+00  2.83566022e+00\n",
      " -9.69198513e+00  6.25675488e+00  6.51989937e+00 -6.97895622e+00\n",
      "  3.25695062e+00  8.35210705e+00 -1.62634361e+00  2.70269704e+00\n",
      " -1.16235695e+01 -2.10276394e+01  1.01165705e+01 -1.85826683e+01\n",
      " -2.12743592e+00 -3.18287015e+00 -3.06643224e+00  2.67214251e+00\n",
      "  8.30552578e+00  8.24139416e-01  1.91848266e+00 -1.40993109e+01\n",
      " -2.05848961e+01 -3.55280399e+00 -3.35520859e+01 -6.50154924e+00\n",
      " -2.90387383e+01 -5.34357214e+00 -1.01284866e+01  3.90794897e+00\n",
      " -1.80119686e+01 -8.85583496e+00 -1.73462620e+01  4.79895306e+00\n",
      " -1.73319378e+01  1.52041888e+00 -4.38421106e+00 -1.81455975e+01\n",
      " -3.71820755e+01 -5.95027685e-01 -2.61208019e+01  8.21514320e+00\n",
      " -5.22274494e+00 -1.88818531e+01 -2.92901611e+00  1.41408234e+01\n",
      " -2.41674862e+01  5.37286282e+00 -2.52311301e+00 -1.76703796e+01\n",
      " -1.48483825e+00 -1.00990953e+01 -1.62365723e+01 -5.94434214e+00\n",
      " -2.96140308e+01  1.37261331e-01 -2.11120052e+01 -5.55637789e+00\n",
      " -2.63051319e+01 -1.03361807e+01 -3.16105385e+01 -4.17273462e-01\n",
      " -1.05977354e+01 -2.92361946e+01  3.73980045e+00 -2.77613902e+00\n",
      " -2.68494453e+01 -1.78901005e+01 -4.42658234e+00 -8.44854641e+00\n",
      " -3.87476044e+01 -1.97870293e+01 -2.17729015e+01 -6.72867727e+00\n",
      " -4.18375740e+01 -8.27253723e+00 -2.79772720e+01 -4.17919350e+00\n",
      " -1.50836830e+01 -1.66715240e+01 -8.53689861e+00 -1.31335201e+01\n",
      " -7.16063118e+00 -4.18814659e+00 -5.45361805e+00 -3.13315525e+01\n",
      " -1.26852255e+01 -2.51152763e+01 -2.50625381e+01 -1.91687799e+00\n",
      " -5.38731861e+00 -3.15994492e+01 -9.37084103e+00  1.02805395e+01\n",
      " -3.78093004e+00 -2.57642841e+01 -3.71440935e+00 -3.14335976e+01\n",
      "  6.47759199e+00 -3.73368683e+01 -1.25131578e+01 -1.02710180e+01\n",
      " -1.83847313e+01 -6.41318417e+00 -1.87932568e+01 -6.55360508e+00\n",
      " -7.26328087e+00  8.60001755e+00 -4.18252659e+00  8.08810902e+00\n",
      " -2.20655231e+01 -2.54934788e+00 -2.00104675e+01 -1.37344809e+01\n",
      " -1.41747866e+01 -8.72629547e+00 -9.13799286e+00 -2.15418549e+01\n",
      "  1.27770114e+00]' has dtype incompatible with int64, please explicitly cast to a compatible dtype first.\n",
      "  preds[val_index] = model.predict(dval_i)\n"
     ]
    },
    {
     "name": "stderr",
     "output_type": "stream",
     "text": [
      "\r",
      " 10%|██████████████████████▏                                                                                                                                                                                                       | 1/10 [00:24<03:38, 24.32s/it]"
     ]
    },
    {
     "name": "stderr",
     "output_type": "stream",
     "text": [
      "C:\\Users\\81809\\AppData\\Local\\Temp\\ipykernel_24208\\3386215446.py:18: FutureWarning: Setting an item of incompatible dtype is deprecated and will raise an error in a future version of pandas. Value '[ 3.75683475e+00  2.50978050e+01  7.84248447e+00 -5.20870543e+00\n",
      "  1.30607426e-01 -2.46659636e+00 -2.55313206e+00  1.09460139e+00\n",
      "  5.78883553e+00 -4.58699656e+00  1.21603403e+01  6.75211728e-01\n",
      " -1.45559096e+00 -1.18749022e+00 -1.96900415e+00  2.50832772e+00\n",
      "  2.41084361e+00  2.49791360e+00 -3.13683391e+00  3.69818997e+00\n",
      "  1.32357031e-01  1.60802436e+00  3.86633575e-01  1.88187551e+00\n",
      "  6.47520971e+00 -2.62682259e-01  3.60211825e+00 -1.04144610e-01\n",
      "  8.80212688e+00 -1.03535283e+00  7.59267950e+00 -1.89295506e+00\n",
      " -8.76905978e-01  1.68090522e+00  3.22865219e+01  7.27870417e+00\n",
      "  6.63046312e+00 -1.03592265e+00 -6.10518980e+00  8.53661919e+00\n",
      "  6.40161276e+00  3.56328607e+00  4.32401848e+00  6.91027403e-01\n",
      "  5.49435043e+00  2.05653973e+01  1.26971617e+01  3.26559544e+00\n",
      " -3.84498668e+00  1.68659191e+01  2.21701107e+01  1.81896877e+00\n",
      " -9.64633465e-01  1.18259096e+01  4.00582600e+00 -2.79425883e+00\n",
      "  3.00228310e+00  2.55618834e+00  2.05105019e+01 -1.31691349e+00\n",
      "  4.46657467e+00  1.83494968e+01 -8.21153927e+00  5.80296469e+00\n",
      "  6.16851234e+00  3.11505008e+00  3.58376861e-01  2.99719620e+00\n",
      "  9.02583659e-01 -1.66155398e-01  1.19174051e+01  1.88575516e+01\n",
      "  2.99032283e+00  2.21092439e+00  1.03166790e+01  2.42673874e+00\n",
      " -5.56319618e+00  4.08478785e+00  8.44591427e+00  3.57935691e+00\n",
      " -1.27387273e+00  2.54249878e+01  2.19156742e+01  9.87138093e-01\n",
      "  4.90324068e+00 -2.20823860e+01 -3.39249635e+00  2.84702897e+00\n",
      "  2.79338837e+00 -2.32967317e-01 -1.80554605e+00  4.16082287e+00\n",
      "  3.23305702e+00  7.51430607e+00  1.23658819e+01  6.16930819e+00\n",
      " -1.31603444e+00  2.98631907e+00  1.83431816e+01  2.07139149e+01\n",
      "  3.15689182e+00  2.53150139e+01  2.49054699e+01 -1.06161237e+00\n",
      "  2.16142445e+01  1.15710163e+01 -6.56853342e+00  7.16022968e+00\n",
      " -1.91184926e+00 -5.11715269e+00  5.87889385e+00  2.81479549e+00\n",
      " -7.49048805e+00  1.44268675e+01  1.07976608e+01  4.79771805e+00\n",
      "  9.71795470e-02  1.09003401e+01  3.66439605e+00 -1.39002590e+01\n",
      "  2.20023098e+01 -1.95778465e+00 -7.77395391e+00  5.40372896e+00\n",
      " -3.16053867e+00 -5.37770510e-01  5.36261559e+00  1.49481487e+01\n",
      "  5.29066515e+00  4.79864168e+00  1.12782145e+01 -1.77230203e+00\n",
      " -4.28714228e+00  2.15993652e+01 -1.78456545e-01  1.51651449e+01\n",
      "  4.68986750e+00  1.16329536e+01  1.32041645e+01  2.46619415e+01\n",
      "  5.84213400e+00  1.12691841e+01  3.83431625e+01  4.89297152e+00\n",
      "  1.89554558e+01  9.27445984e+00  1.76049480e+01  8.48451710e+00\n",
      "  1.17002583e+00  9.82605171e+00 -3.01626945e+00  2.60909843e+01\n",
      " -1.02863588e+01 -6.62630081e+00 -1.33258152e+00  1.83784561e+01\n",
      "  7.84541464e+00  7.05634832e+00  5.47451973e+00  4.03507996e+01\n",
      "  2.09628429e+01  1.23765106e+01  2.99455986e+01  2.08445072e+00\n",
      "  2.23751678e+01  3.89181113e+00  1.60107594e+01  1.92130051e+01\n",
      "  1.36070175e+01  1.76993504e+01  1.09834242e+00 -3.38022411e-01\n",
      "  2.92321625e+01  1.35834360e+01  2.83552284e+01  1.97345424e+00\n",
      " -7.96613598e+00 -2.64239693e+01 -6.78084254e-01  1.25842323e+01\n",
      " -2.08358026e+00  2.84188271e+01 -5.60561323e+00  9.25112534e+00\n",
      "  2.90681057e+01  3.10035820e+01  1.10305462e+01  4.61618919e+01\n",
      "  2.16343918e+01  2.81415539e+01  1.63388538e+01  1.25609236e+01\n",
      "  6.22045040e+00  1.14371157e+01  3.70461578e+01  7.48706055e+00\n",
      "  3.19533539e+00  1.22254219e+01 -6.27646685e+00  2.69324040e+00\n",
      "  9.75778675e+00 -6.44189060e-01  3.44431725e+01  8.37036800e+00\n",
      " -3.10141295e-01  1.27391052e+01 -1.77694547e+00  7.15492916e+00\n",
      "  4.09865901e-02  1.10913925e+01  2.95377140e+01  1.32164884e+00\n",
      "  3.15100975e+01  2.78007755e+01 -2.85101533e+00 -4.55105639e+00\n",
      "  8.91849422e+00  3.26098490e+00  1.27438259e+01  2.66660118e+00\n",
      "  1.31549501e+01 -2.02081776e+01 -9.41382122e+00  2.83166103e+01\n",
      " -5.75816989e-01  3.22835083e+01  7.81123066e+00  3.57275009e+01\n",
      "  2.80628929e+01  9.70953345e-01 -1.38934600e+00  2.61074352e+01\n",
      "  1.18766365e+01  3.83140635e+00  2.04808750e+01  7.15330791e+00\n",
      "  2.89403782e+01  1.52221608e+00  2.60349426e+01 -2.71776638e+01\n",
      " -1.64418087e+01  5.59112740e+00  9.04743576e+00  3.47861633e+01\n",
      "  9.17508507e+00  9.32252789e+00 -4.90230703e+00  5.66843092e-01\n",
      "  1.52341557e+01 -9.25383949e+00  1.14599628e+01  2.02357082e+01\n",
      " -1.83342857e+01  2.52713432e+01  1.38375015e+01  1.25635805e+01\n",
      "  2.08550715e+00  4.71281223e-02 -2.31540451e+01 -6.96645260e+00\n",
      "  3.16839290e+00 -1.87793884e+01  5.85953379e+00 -7.13191128e+00\n",
      " -2.17882824e+00  5.91475070e-01 -6.06224585e+00 -5.27190685e+00\n",
      "  2.91296482e+00 -4.63412809e+00 -4.30397654e+00  2.45022583e+00\n",
      "  7.74881172e+00 -3.44157577e+00 -2.12720323e+00 -2.64113369e+01\n",
      " -5.61491108e+00 -8.66913605e+00  1.95497203e+00 -1.55591106e+00\n",
      " -2.38134122e+00  1.63165057e+00 -4.47283030e+00 -3.86542416e+00\n",
      " -2.68220997e+00 -2.09209843e+01 -7.40095329e+00 -2.61610031e+00\n",
      " -6.01241064e+00  1.08803749e+01 -9.25670207e-01 -1.68395596e+01\n",
      "  4.45038748e+00  3.14758492e+00  2.18719602e+00 -2.06729460e+00\n",
      " -2.80080147e+01 -7.89979458e+00  3.31405282e+00 -4.81723213e+00\n",
      " -6.48986340e-01 -5.75025082e+00 -8.77305889e+00 -1.95069332e+01\n",
      "  8.20154428e-01 -5.70972025e-01 -7.86743832e+00 -8.49377728e+00\n",
      "  3.71101379e+00 -1.08982956e+00 -1.30315838e+01  5.18994510e-01\n",
      " -5.80535412e+00 -1.96690960e+01 -2.85244256e-01 -6.37831116e+00\n",
      "  2.41581607e+00 -1.25867128e+01  2.64545608e+00 -1.56248748e+00\n",
      " -7.50722456e+00 -1.99224663e+01 -1.79355202e+01 -9.19846630e+00\n",
      " -1.91750450e+01 -2.05698586e+01 -4.49624109e+00  7.47357702e+00\n",
      " -7.70476639e-01  6.60839438e-01 -8.16180885e-01 -1.84278564e+01\n",
      " -2.42009568e+00 -5.72573781e-01 -1.22090759e+01 -3.21061301e+00\n",
      " -7.34667242e-01 -2.32259369e+00 -2.72257400e+00  1.02522552e+00\n",
      " -1.14538059e+01 -1.27994099e+01 -4.48035765e+00 -2.53941607e+00\n",
      " -1.06484640e+00 -6.19617081e+00 -1.76979561e+01 -1.11099205e+01\n",
      "  2.23104858e+00 -5.90193462e+00  1.75657547e+00 -9.73961651e-01\n",
      " -1.50314569e+01 -5.00739336e+00  1.06658220e+00  3.88197994e+00\n",
      " -2.42662315e+01 -4.26692677e+00 -2.36849537e+01 -7.03247929e+00\n",
      " -3.31896901e+00 -2.38751011e+01 -2.45866470e+01 -1.56726151e+01\n",
      " -6.05044556e+00 -2.34177756e+00 -1.19750557e+01 -3.05213833e+00\n",
      " -7.13826513e+00 -2.91707349e+00 -4.73238528e-01 -1.56222248e+01\n",
      "  2.46517897e+00 -8.17832756e+00 -1.23286762e+01 -5.88084745e+00\n",
      " -2.12345924e+01 -4.07284212e+00 -5.83401585e+00  2.66884780e+00\n",
      "  8.60872841e+00  3.11955547e+00  8.13205957e-01 -1.07756433e+01\n",
      " -8.92680264e+00 -1.68780005e+00 -2.12819424e+01  1.22257209e+00\n",
      " -7.70364332e+00 -2.26183014e+01  3.27144790e+00 -5.53222597e-01\n",
      " -1.96984692e+01 -3.57331276e+01 -1.22818928e+01 -1.77833309e+01\n",
      "  3.28183866e+00 -2.09392986e+01 -6.68637371e+00 -2.55229115e+00\n",
      " -2.55639439e+01 -3.24287910e+01 -2.51062641e+01 -1.39192305e+01\n",
      "  1.75157022e+00 -2.54701996e+01  6.91286659e+00 -2.01457195e+01\n",
      "  2.33800173e+00 -1.36759214e+01 -3.44012976e+00 -2.40207081e+01\n",
      " -8.77749157e+00 -3.51603050e+01 -3.17935333e+01 -3.05366904e-01\n",
      " -1.38626595e+01 -1.10265970e+01 -3.45885539e+00 -1.50127852e+00\n",
      " -2.71821380e+00 -1.88831735e+00 -1.14058256e+01 -1.70489902e+01\n",
      " -1.75892460e+00  8.04563522e+00  1.61345017e+00 -1.72554092e+01\n",
      " -7.05108762e-01 -8.65078640e+00 -9.98647690e+00 -3.11495857e+01\n",
      " -1.23650312e+01 -8.83177662e+00 -1.46983547e+01 -2.22466969e+00\n",
      " -1.26950769e+01 -3.25424919e+01 -5.02481556e+00  7.85764599e+00\n",
      " -2.11524086e+01 -5.79242420e+00 -8.91284657e+00 -1.50637083e+01\n",
      " -1.66001053e+01 -6.34328556e+00 -6.71479607e+00 -5.90366840e+00\n",
      "  6.66687393e+00 -3.25515671e+01 -2.51422811e+00 -4.17665596e+01\n",
      " -3.05861425e+00  1.14037161e+01  7.88598919e+00 -4.82959461e+00\n",
      " -3.33021889e+01  6.90919310e-02 -8.92893600e+00 -8.43741608e+00\n",
      " -1.11248684e+01 -7.90128231e+00  3.81324697e+00 -4.65911713e+01\n",
      "  4.84454870e+00 -2.82194644e-01 -3.00110579e+00 -2.03487415e+01\n",
      "  4.75052023e+00 -9.48346615e+00  6.45751095e+00 -3.35641766e+00\n",
      " -5.92044067e+00  1.41689003e+00 -1.54596949e+00 -1.19513023e+00\n",
      " -9.01774597e+00  6.75932264e+00  1.23860044e+01 -1.10955324e+01\n",
      " -9.18417931e+00 -1.10397968e+01 -3.12183523e+00 -9.85314071e-01\n",
      " -2.49565430e+01  2.62961769e+00 -1.71750240e+01 -1.96332684e+01\n",
      " -1.40581713e+01 -2.70314622e+00 -1.01420224e+00  1.38280964e+01\n",
      "  3.86904049e+00]' has dtype incompatible with int64, please explicitly cast to a compatible dtype first.\n",
      "  preds[val_index] = model.predict(dval_i)\n"
     ]
    },
    {
     "name": "stderr",
     "output_type": "stream",
     "text": [
      "\r",
      " 20%|████████████████████████████████████████████▍                                                                                                                                                                                 | 2/10 [00:52<03:33, 26.71s/it]"
     ]
    },
    {
     "name": "stderr",
     "output_type": "stream",
     "text": [
      "C:\\Users\\81809\\AppData\\Local\\Temp\\ipykernel_24208\\3386215446.py:18: FutureWarning: Setting an item of incompatible dtype is deprecated and will raise an error in a future version of pandas. Value '[ 1.59981127e+01  1.77510667e+00  1.12486038e+01  5.51960373e+00\n",
      "  6.28581190e+00  2.85708809e+00  3.51908302e+00  3.54518843e+00\n",
      "  1.71063530e+00  2.50675316e+01  2.18862839e+01 -1.35784602e+00\n",
      " -3.57685232e+00 -4.64746761e+00 -2.41606188e+00 -1.43436158e+00\n",
      "  1.51510608e+00  6.57646561e+00  2.31031632e+00 -1.20454311e+01\n",
      " -6.90713835e+00  1.01923056e+01  8.06883144e+00  3.20212364e+00\n",
      " -2.57715034e+00  4.81129646e+00  2.91499090e+00  3.52329516e+00\n",
      " -1.97286427e+00 -1.03674717e+01 -3.62515211e+00  1.86460629e+01\n",
      "  4.79262352e+00 -5.74617290e+00  1.31751661e+01 -5.84573936e+00\n",
      "  1.44089651e+01 -3.81293082e+00  3.33708191e+00  4.23165512e+00\n",
      "  1.25617762e+01 -9.25688839e+00  3.17243814e-01  3.22308445e+00\n",
      "  5.52799177e+00  8.03851414e+00  4.02039528e+00 -3.78864622e+00\n",
      " -3.34445685e-01  2.16637880e-01  3.06097817e+00  1.81006813e+00\n",
      "  2.26161098e+01  2.99854755e+01  1.25262299e+01  7.20441437e+00\n",
      "  5.60735226e+00  2.46058006e+01  5.63103151e+00  4.58638716e+00\n",
      "  5.70618486e+00  1.50244212e+00 -9.73397672e-01 -6.05602205e-01\n",
      " -4.06278640e-01  3.31821609e+00 -1.48952496e+00  5.61901999e+00\n",
      "  5.09158373e+00  2.30906296e+01  2.44974079e+01  1.50913067e+01\n",
      "  2.34465051e+00  2.10429072e+00 -3.37789059e+00  7.34837294e+00\n",
      "  2.62142258e+01  2.35644817e+01  6.93166208e+00  2.70082712e+00\n",
      "  4.98172092e+00  2.14420185e+01 -1.31432503e-01  2.31728096e+01\n",
      "  1.90217543e+00  8.41987324e+00 -4.95650625e+00 -2.53781438e-01\n",
      "  4.93294954e+00  1.78594494e+01  2.84731369e+01  2.12952375e+00\n",
      "  1.64085274e+01  2.27605934e+01 -2.76896167e+00  6.77186728e+00\n",
      "  4.32367772e-01  8.40209770e+00  2.48989487e+00  2.46784359e-01\n",
      " -2.06480384e+00  4.09723377e+00  1.17363892e+01 -1.93862855e+00\n",
      "  3.67232609e+00  1.03384981e+01  2.52943230e+01  3.69553280e+00\n",
      " -5.75956440e+00  7.57882297e-01  5.42071199e+00  1.13246238e+00\n",
      " -2.12419248e+00  4.22235870e+00  4.57565260e+00 -3.70427251e-01\n",
      "  7.23277569e-01  4.06711531e+00  2.30547771e+01 -1.63682652e+00\n",
      "  2.12155590e+01 -3.33631992e+00  4.78815222e+00  4.10787296e+00\n",
      " -8.62413502e+00  9.91115570e+00 -5.87961769e+00 -4.32475901e+00\n",
      "  4.09718370e+00  1.04553211e+00  4.60390739e+01 -3.79851842e+00\n",
      "  5.39208364e+00  1.34315023e+01  3.46177750e+01  1.25005560e+01\n",
      "  2.65198116e+01  1.87462978e+01  6.44476223e+00  4.66002107e-01\n",
      "  3.04739037e+01  2.24615021e+01 -5.10182667e+00 -1.20839223e-01\n",
      "  1.11325636e+01 -1.04645491e+01  4.15845633e+00  2.42180882e+01\n",
      " -1.02201295e+00  3.46776772e+01 -9.37780190e+00  3.46629715e+01\n",
      "  8.90358067e+00  1.65657556e+00  2.40795631e+01  2.51386023e+00\n",
      " -1.53571424e+01  1.44418116e+01 -4.80440331e+00  6.43033552e+00\n",
      "  2.08685899e+00 -1.33927288e+01  6.94767714e-01 -8.23262572e-01\n",
      "  2.89432888e+01  3.40924683e+01  3.03063335e+01 -4.40916240e-01\n",
      " -2.65988731e+00  1.47392988e+01  1.16751614e+01  2.99554691e+01\n",
      "  1.87259731e+01  7.12967300e+00  1.06865053e+01  1.03778791e+01\n",
      "  2.82027874e+01  5.09316778e+00  1.32777271e+01  2.07759261e+00\n",
      "  1.26747942e+01  3.95022798e+00  3.18442535e+01  2.65676117e+00\n",
      "  2.33939362e+01  1.88130798e+01  3.61377978e+00  1.19607868e+01\n",
      " -9.23962498e+00 -1.11399975e+01  1.04580278e+01  7.05629778e+00\n",
      "  1.04253035e+01  2.11528301e+01  3.43365211e+01  3.29675293e+01\n",
      "  2.92582455e+01  3.16809101e+01 -6.82992983e+00  7.49562788e+00\n",
      "  4.17044020e+00  4.57750940e+00  2.74942513e+01  2.77928104e+01\n",
      "  1.14693899e+01  1.07844293e+00 -6.78903389e+00  4.70716476e+00\n",
      " -5.35851336e+00  3.74611893e+01  1.18369036e+01 -3.24397063e+00\n",
      "  2.32608013e+01  7.34082842e+00  2.48583717e+01  4.39892483e+00\n",
      "  1.32557023e+00  8.71437669e-01  2.55256653e+00 -2.65960236e+01\n",
      "  3.85391903e+00 -8.59377956e+00  1.30833797e+01 -2.06085720e+01\n",
      "  1.99496102e+00  6.32016706e+00 -5.38970232e+00 -1.10141544e+01\n",
      " -1.88857651e+00 -6.50448704e+00 -3.75965691e+00 -4.33008814e+00\n",
      "  1.44191675e+01 -2.17144895e+00 -2.72434025e+01  2.97775364e+00\n",
      " -3.00861549e+00 -2.03797951e+01 -1.20181990e+00  8.19217110e+00\n",
      " -3.95062447e+00  3.43758512e+00  5.49004793e+00  2.97980690e+00\n",
      " -3.77947807e+00  7.97105968e-01  1.39604843e+00 -9.11406875e-02\n",
      " -1.90225430e+01  4.02999020e+00  9.02740836e-01  1.99133897e+00\n",
      " -1.59180651e+01 -2.53948441e+01  1.49988091e+00 -3.97485781e+00\n",
      "  3.87828445e+00 -9.23124981e+00 -1.35108223e+01  7.21707344e+00\n",
      "  2.49306178e+00 -1.87299311e+00  1.84206545e+00  3.75658417e+00\n",
      "  5.30874681e+00 -5.99178457e+00 -2.02498245e+00 -2.81400986e+01\n",
      " -6.91555738e+00 -1.53683863e+01 -6.41726971e+00 -4.83497000e+00\n",
      "  1.30146589e+01  1.11207569e+00  1.91801796e+01  4.68289566e+00\n",
      "  1.57460427e+00 -4.60636318e-01 -6.88111410e-02  9.73378301e-01\n",
      "  1.66535294e+00  1.57967716e-01 -9.14709282e+00 -8.32708549e+00\n",
      " -1.36328039e+01 -4.56659794e+00  1.50209057e+00 -1.73889542e+01\n",
      "  1.63384438e+01 -1.11200798e+00 -1.05640602e+01 -7.42324591e+00\n",
      " -5.38071871e-01  5.07657707e-01 -6.91339433e-01 -1.26917372e+01\n",
      " -3.19749165e+00 -1.03127708e+01 -3.34755826e+00 -5.65198004e-01\n",
      " -2.17393303e+01 -1.48310375e+00 -8.84142160e-01  2.64116096e+00\n",
      " -2.12029839e+01 -2.57502258e-01 -5.85118198e+00  1.18717515e+00\n",
      " -4.33512390e-01 -1.82174027e+00 -6.11760569e+00  2.67875457e+00\n",
      " -4.35940552e+00 -3.88431692e+00 -1.96052110e+00 -1.09825010e+01\n",
      " -4.99204063e+00  5.87310553e-01 -6.74683905e+00 -4.52731895e+00\n",
      "  8.43469858e-01 -8.76182139e-01  3.81210542e+00 -8.77762508e+00\n",
      "  2.95575285e+00  6.36281490e+00  1.15304813e+01  7.90051877e-01\n",
      " -1.40665617e+01 -7.49790251e-01 -2.04883118e+01 -5.51542521e+00\n",
      " -2.29943943e+00 -8.11217022e+00 -1.91667771e+00 -4.67796564e+00\n",
      "  7.47686982e-01 -1.44456720e+00 -7.87086964e+00  8.83291245e+00\n",
      "  2.72660828e+00 -6.27560043e+00 -2.76413965e+00 -2.02560592e+00\n",
      " -1.44955578e+01 -8.19878006e+00 -1.94076786e+01  6.66645336e+00\n",
      " -2.42570381e+01 -2.38130112e+01 -8.01783204e-01  6.85053778e+00\n",
      " -2.07582045e+00  1.10671842e+00  5.09440660e-01 -4.04082918e+00\n",
      " -3.23647904e+00 -1.12425470e+01 -5.25507164e+00 -1.11455193e+01\n",
      " -2.05566349e+01 -1.84126127e+00  1.05642319e+01 -1.92196312e+01\n",
      "  2.41186829e+01 -5.93280792e+00 -8.28087807e-01  4.30791759e+00\n",
      " -4.30362368e+00 -3.02931857e+00  2.49170923e+00  2.84891009e+00\n",
      "  7.76717615e+00 -2.33258796e+00  2.31624961e+00 -5.23416901e+00\n",
      " -2.60303527e-01 -2.45977459e+01  7.22709799e+00 -4.26938343e+00\n",
      "  7.37779665e+00 -8.42151046e-01 -2.53811588e+01 -1.31437311e+01\n",
      " -1.06044445e+01 -2.87707615e+00 -3.71232719e+01 -1.52544899e+01\n",
      " -2.78078461e+01 -7.62705946e+00  3.05198669e+00 -3.38755760e+01\n",
      " -1.57789345e+01 -9.04034042e+00  5.88875103e+00 -1.39914596e+00\n",
      " -1.93469162e+01 -9.37942410e+00  1.27254176e+00 -1.81719232e+00\n",
      "  1.17885246e+01  3.18532062e+00 -1.71103802e+01 -2.18297863e+01\n",
      " -7.97551632e+00 -1.91245461e+01 -4.50703716e+00 -1.38481569e+01\n",
      " -1.56666651e+01 -5.50815058e+00 -2.14021397e+00 -4.08461952e+01\n",
      " -1.48046389e+01 -2.06173229e+01 -3.40394325e+01 -3.90748520e+01\n",
      " -6.40531588e+00 -2.99438453e+00  2.67189527e+00 -1.30144262e+01\n",
      " -3.01177025e+01 -1.74056864e+00 -8.61951351e+00 -3.89551663e+00\n",
      " -1.33569455e+00  9.38682139e-01 -8.93238449e+00 -5.59042978e+00\n",
      " -1.19876232e+01 -1.09882498e+01 -7.04533768e+00 -2.45587543e-01\n",
      " -4.32682133e+00 -6.95577383e+00 -1.62660885e+01 -1.23026676e+01\n",
      " -4.97563314e+00 -3.65043163e+00 -6.47057199e+00  1.02653491e+00\n",
      " -3.52086678e+01 -3.37823302e-01  2.16000843e+00 -3.39294357e+01\n",
      " -1.37471752e+01  4.01325655e+00 -3.66841469e+01 -4.77032757e+00\n",
      " -2.02315593e+00  3.96549463e-01 -1.50551624e+01 -1.19502411e+01\n",
      " -6.76792288e+00  3.97075325e-01 -1.50937977e+01 -1.10744228e+01\n",
      "  5.23030043e+00 -6.75637573e-02 -1.23607183e+00 -2.96738701e+01\n",
      " -1.85636592e+00 -8.38554764e+00 -7.57133532e+00  1.22289505e+01\n",
      " -3.44939919e+01 -4.13333662e-02  9.67844963e+00  3.76313591e+00\n",
      "  1.98192358e+00  5.56020319e-01 -4.80185413e+00 -7.38374043e+00\n",
      " -2.98781185e+01 -3.69951515e+01  6.56678975e-01 -8.28500926e-01\n",
      "  9.31966019e+00 -5.62674856e+00 -1.43905792e+01 -3.03620033e+01\n",
      "  9.17574406e+00 -7.57648373e+00 -5.55519581e-01 -4.49857998e+00\n",
      " -1.03109150e+01 -8.14960766e+00 -2.23754692e+01 -6.66879797e+00\n",
      "  4.37585115e+00 -5.24227858e+00 -1.03102036e+01 -6.24971342e+00\n",
      " -1.75185013e+00]' has dtype incompatible with int64, please explicitly cast to a compatible dtype first.\n",
      "  preds[val_index] = model.predict(dval_i)\n"
     ]
    },
    {
     "name": "stderr",
     "output_type": "stream",
     "text": [
      "\r",
      " 30%|██████████████████████████████████████████████████████████████████▌                                                                                                                                                           | 3/10 [01:19<03:08, 26.96s/it]"
     ]
    },
    {
     "name": "stderr",
     "output_type": "stream",
     "text": [
      "C:\\Users\\81809\\AppData\\Local\\Temp\\ipykernel_24208\\3386215446.py:18: FutureWarning: Setting an item of incompatible dtype is deprecated and will raise an error in a future version of pandas. Value '[ 1.22023659e+01  2.45035038e+01  1.73774719e+00  9.27773952e+00\n",
      "  2.57487259e+01 -9.69504118e-01 -3.73548913e+00 -5.38566923e+00\n",
      "  6.16965580e+00 -3.76458526e+00 -2.31404424e+00  1.21746321e+01\n",
      " -3.46078062e+00 -1.44775343e+00 -1.81594646e+00  2.98881302e+01\n",
      "  8.79377079e+00  4.91815138e+00  7.77671766e+00  4.24398327e+00\n",
      " -3.72158194e+00  5.11896551e-01  2.11910796e+00  1.71420765e+01\n",
      " -6.80733061e+00  2.81717372e+00  1.60045326e+00  4.07285786e+00\n",
      "  1.22742348e+01  8.74133289e-01  5.39745331e+00  2.81784624e-01\n",
      "  5.70976400e+00  2.63781190e+00  5.77560949e+00  3.94489741e+00\n",
      "  1.57734241e+01  2.69590816e+01 -3.86077356e+00  3.88408399e+00\n",
      " -4.90548182e+00  3.86461020e-02  1.92257452e+00  6.81780672e+00\n",
      "  7.08799887e+00  3.99960905e-01 -6.78654909e-01 -4.40213966e+00\n",
      "  8.06291962e+00 -1.19402516e+00  8.41225207e-01 -1.57220435e+00\n",
      "  2.24386559e+01  2.11263046e+01 -6.20100498e+00  7.34413505e-01\n",
      " -5.98236561e-01 -7.17875898e-01  3.01053548e+00 -9.67322350e-01\n",
      "  1.23298349e+01  2.81916714e+00 -3.85198784e+00  2.15647697e+00\n",
      " -1.70876992e+00  5.66335559e-01 -1.34311903e+00  3.93331170e+00\n",
      "  2.21470757e+01  2.27283211e+01  3.18966699e+00  1.54209447e+00\n",
      "  1.19800913e+00 -1.16193018e+01 -3.11212564e+00  7.07564068e+00\n",
      "  6.87133312e+00 -2.50701332e+00 -5.58413506e+00  2.00093102e+00\n",
      " -4.30211499e-02 -3.74447370e+00  5.47453928e+00  1.38317895e+00\n",
      "  7.09703207e+00 -1.67564487e+00  2.04245853e+01  3.49519181e+00\n",
      "  4.45639324e+00  1.10603495e+01  5.09676123e+00  3.37299347e+00\n",
      "  6.38748074e+00  4.51761532e+00 -3.83126569e+00  7.57947540e+00\n",
      " -3.49534535e+00  8.22827399e-01 -4.47364712e+00 -1.79446621e+01\n",
      "  8.94274294e-01  2.31173801e+01  2.70938545e-01  8.21301937e+00\n",
      "  2.85651970e+00  6.26183081e+00  2.24922562e+00  3.59988451e+00\n",
      " -1.23346317e+00 -3.46602106e+00  3.94426107e-01  2.25266876e+01\n",
      "  2.13059688e+00  2.07933784e+00  2.26750355e+01 -6.02408312e-02\n",
      " -1.86134756e+00 -1.03898919e+00 -5.13826466e+00  6.13015652e+00\n",
      " -1.61380410e+00  1.82080615e+00  4.59287357e+00 -1.59265792e+00\n",
      " -6.38570690e+00  7.66075897e+00  1.07644997e+01  6.17527008e+00\n",
      "  2.16320210e+01 -5.07671309e+00 -9.36515713e+00 -4.81597662e+00\n",
      "  4.28457022e+00  2.08776398e+01  5.22840691e+00 -1.71031034e+00\n",
      "  2.94498234e+01  2.65247478e+01 -5.08538675e+00  1.46354971e+01\n",
      " -7.34144354e+00 -5.75744963e+00  4.15112448e+00  2.02568741e+01\n",
      "  2.60023746e+01  7.98232889e+00  8.19159508e+00  9.76558971e+00\n",
      " -3.66520286e+00  2.33126431e+01  2.83499985e+01  8.89898300e+00\n",
      "  4.19803696e+01  1.19869918e-01  1.90231838e+01  8.07292557e+00\n",
      " -1.75483646e+01  2.09967709e+01  8.30600452e+00  1.43514338e+01\n",
      "  1.64191875e+01  1.38128424e+01  1.45070887e+01 -7.65429354e+00\n",
      " -4.57138491e+00 -4.52361727e+00  9.34115982e+00  2.68382092e+01\n",
      "  5.77407479e-01  9.05126572e+00  2.34041443e+01 -1.29251375e+01\n",
      "  3.11906319e+01  6.16367579e+00  1.65573483e+01 -8.49460661e-02\n",
      "  2.15967083e+01  1.11739111e+01 -4.28784370e+00  6.63822353e-01\n",
      "  2.08411407e+01  8.78682518e+00  1.28456602e+01  6.47355556e+00\n",
      "  8.04318905e+00  2.32217503e+01  1.35379747e-01  2.95281911e+00\n",
      "  1.61253490e+01  6.18478298e+00  1.33410425e+01  4.19241638e+01\n",
      " -7.15151024e+00  9.32476807e+00  1.43825121e+01  1.42196302e+01\n",
      "  5.98469019e+00  2.84271812e+01 -8.62132168e+00  2.46289673e+01\n",
      "  2.00839448e+00 -2.16405296e+00 -3.58698678e+00  1.69564800e+01\n",
      "  2.37701530e+01  2.72482471e+01  9.57721233e+00  3.77513580e+01\n",
      " -5.27523947e+00  2.54760952e+01  2.06125808e+00  3.21278152e+01\n",
      "  2.12575793e+00 -1.16662626e+01 -7.99089622e+00  2.69357567e+01\n",
      " -2.36951685e+00  9.66427708e+00  9.66847837e-01  2.59792557e+01\n",
      " -6.95750952e+00 -1.62143266e+00  3.33071632e+01  9.63107777e+00\n",
      "  1.00205493e+00  2.63085976e+01  2.10782027e+00  1.23998919e+01\n",
      " -2.17341527e-01 -1.77762592e+00  2.55707855e+01 -5.34596157e+00\n",
      "  3.25541344e+01 -9.66557312e+00  7.37031984e+00  2.56457119e+01\n",
      "  7.13700628e+00  2.24406662e+01  1.59782906e+01  1.39344940e+01\n",
      "  1.36760607e+01  4.48427200e+00  2.53117256e+01  1.29271107e+01\n",
      "  1.21458521e+01  5.62855101e+00 -1.50815475e+00 -1.75096264e+01\n",
      " -1.88599122e+00 -2.09775715e+01 -1.89185658e+01 -6.12963390e+00\n",
      " -8.14527798e+00 -9.86362076e+00  1.45264575e-02 -3.27052522e+00\n",
      " -1.26298456e+01  2.07060671e+00  3.44158053e+00 -1.77144127e+01\n",
      " -2.09896965e+01 -1.45571768e+00 -1.81427097e+01  6.46960557e-01\n",
      " -2.14542942e+01 -2.07527695e+01 -9.60250187e+00  2.98265606e-01\n",
      "  7.28892851e+00  1.71714747e+00  2.58826447e+00  1.01442015e+00\n",
      " -2.00304661e+01 -4.77472305e+00 -1.80712261e+01 -2.05770206e+00\n",
      " -2.32650709e+00  5.16542315e-01 -2.11683979e+01 -1.86085396e+01\n",
      " -3.12638640e+00  9.78928447e-01 -4.69091702e+00  1.00704527e+01\n",
      " -1.47872150e-01 -6.21664190e+00 -1.38557005e+00 -7.26955080e+00\n",
      " -5.23180199e+00 -1.61983795e+01  8.99228191e+00  1.07507396e+00\n",
      "  4.66106558e+00 -8.91893959e+00 -4.74110097e-01 -8.49305725e+00\n",
      " -4.36740971e+00 -7.64070332e-01 -3.11982203e+00  4.43408394e+00\n",
      " -1.25308285e+01 -8.29329193e-01 -5.18026924e+00  1.14172900e+00\n",
      "  6.61413336e+00 -1.28376758e+00 -3.49880874e-01 -1.45321379e+01\n",
      " -2.11083865e+00  6.32470250e-01 -4.19190836e+00  1.91464514e-01\n",
      " -3.63983774e+00 -1.77714405e+01 -7.61818981e+00 -3.65466881e+00\n",
      "  5.50488186e+00 -2.62219572e+00  4.75129366e+00  2.94558334e+00\n",
      "  1.32369828e+00  1.10471952e+00 -6.06107807e+00 -1.59645414e+00\n",
      " -1.77152634e+01  1.67146301e+00 -1.89177647e+01 -5.37783957e+00\n",
      " -1.64865837e+01 -4.42227602e+00 -6.32606554e+00 -4.14166832e+00\n",
      " -1.87832105e+00 -3.12793565e+00  4.67416668e+00  1.83114439e-01\n",
      " -6.51566935e+00 -2.10206375e+01 -1.50745316e+01 -2.22044487e+01\n",
      " -1.43037214e+01 -3.94582772e+00 -1.37304991e-01 -1.02133627e+01\n",
      " -4.59529686e+00  1.42192149e+00 -3.85248208e+00  4.97267365e-01\n",
      " -2.56905723e+00 -3.72905970e+00 -1.97836056e+01  3.45428258e-01\n",
      " -2.64961958e+00 -7.25467587e+00 -1.71239529e+01 -9.54052806e-01\n",
      " -2.68644404e+00 -4.25781536e+00 -1.05459003e+01 -2.79542041e+00\n",
      "  4.64751053e+00 -1.15979261e+01  1.70917308e+00 -3.52749586e+00\n",
      " -1.49436579e+01 -4.34974813e+00 -1.00786173e+00 -5.10019159e+00\n",
      "  4.65637922e+00 -7.98071480e+00 -1.48776321e+01  3.86687016e+00\n",
      " -6.88666725e+00 -4.40429974e+00 -1.82134418e+01  3.14103961e+00\n",
      " -3.62835670e+00  3.29792547e+00  7.79997253e+00  7.54116678e+00\n",
      "  3.90490979e-01 -1.24498987e+01 -6.40619397e-01 -7.36160338e-01\n",
      " -2.32282562e+01 -2.16125355e+01  4.87808323e+00 -1.96956978e+01\n",
      " -1.23238878e+01 -1.35998745e+01 -1.16939926e+01  2.48811460e+00\n",
      " -1.67186298e+01 -2.52410908e+01 -2.65768223e+01 -4.59552431e+00\n",
      " -3.48839569e+01 -8.45271587e+00 -3.90730953e+00 -1.95142231e+01\n",
      " -1.83786850e+01 -2.34438782e+01 -8.45081615e+00  1.15319080e+01\n",
      " -3.35217404e+00 -2.55273075e+01 -1.94050446e+01 -1.60480154e+00\n",
      " -3.46996231e+01 -4.63171434e+00 -1.72499008e+01  7.63843298e+00\n",
      " -1.78656349e+01 -1.40979452e+01 -4.46202660e+00 -8.44976127e-01\n",
      " -1.40213709e+01 -1.02726974e+01 -1.11076365e+01 -8.75873852e+00\n",
      "  8.93078327e+00 -1.02922573e+01 -2.37089920e+01 -1.32543268e+01\n",
      " -1.72085171e+01 -8.42144775e+00  4.07859516e+00  2.83747268e+00\n",
      " -2.91793518e+01 -1.07919912e+01  8.78764153e+00  3.44086933e+00\n",
      " -1.26381531e+01 -3.08382225e+01 -1.27637959e+01 -2.31667638e+00\n",
      "  2.32049227e-01 -4.92312050e+00  1.40516686e+00 -1.81352818e+00\n",
      " -5.40781593e+00 -1.26951094e+01 -5.59454966e+00  2.86799049e+00\n",
      "  1.61744750e+00 -6.27608824e+00 -3.33901405e+01  1.71098137e+00\n",
      " -1.47000189e+01 -3.06292896e+01  4.51555848e-01 -3.13112307e+00\n",
      " -2.48315411e+01 -2.47594967e+01 -2.18871975e+00  4.48908138e+00\n",
      " -2.98757896e+01 -9.82912302e-01  6.61120176e+00 -1.25797596e+01\n",
      " -2.08236122e+01 -6.09952164e+00 -2.93118629e+01 -9.13580322e+00\n",
      "  1.78378334e+01  1.10346699e+01 -2.82201748e+01 -1.79135151e+01\n",
      "  1.07408209e+01 -3.07049141e+01 -3.68489480e+00 -6.53300428e+00\n",
      " -2.09136534e+00 -1.23230448e+01 -6.84823751e+00  6.29543662e-01\n",
      " -2.39212952e+01 -6.22767353e+00 -3.49950981e+01 -8.43334198e+00\n",
      "  3.36627316e+00  2.71106601e+00 -3.58547592e+01  8.62541103e+00\n",
      " -2.62779713e+01 -2.24764175e+01 -2.34846058e+01 -1.78058872e+01\n",
      " -1.96411896e+01 -1.29324913e+01 -1.16325340e+01 -4.79363823e+00\n",
      " -1.80216396e+00]' has dtype incompatible with int64, please explicitly cast to a compatible dtype first.\n",
      "  preds[val_index] = model.predict(dval_i)\n"
     ]
    },
    {
     "name": "stderr",
     "output_type": "stream",
     "text": [
      "\r",
      " 40%|████████████████████████████████████████████████████████████████████████████████████████▊                                                                                                                                     | 4/10 [01:46<02:41, 26.84s/it]"
     ]
    },
    {
     "name": "stderr",
     "output_type": "stream",
     "text": [
      "C:\\Users\\81809\\AppData\\Local\\Temp\\ipykernel_24208\\3386215446.py:18: FutureWarning: Setting an item of incompatible dtype is deprecated and will raise an error in a future version of pandas. Value '[ 1.38766842e+01  2.93015099e+01  6.18355465e+00  1.14487391e+01\n",
      " -3.42679000e+00  1.11521053e+00  2.52305579e+00  1.16800594e+01\n",
      "  6.22337484e+00 -4.02684402e+00  5.52325916e+00  2.36272454e+00\n",
      "  2.63541260e+01  2.16563702e+01  2.14608994e+01  1.84592075e+01\n",
      " -1.73289413e+01 -1.24198675e+00  1.98617001e+01  1.00591698e+01\n",
      " -2.04167604e+00  9.88155937e+00  4.94853401e+00  1.11470404e+01\n",
      " -1.44964802e+00  9.09233475e+00  2.20841122e+01 -3.41322875e+00\n",
      "  4.18602276e+00  4.28484011e+00  1.61277332e+01 -1.85077775e+00\n",
      " -1.27173603e+00 -3.49303931e-01  1.41118031e+01  2.15174109e-01\n",
      "  7.78910971e+00  4.60933924e+00  1.64786768e+00  2.61093688e+00\n",
      "  9.18660104e-01 -9.85196400e+00  1.94296303e+01 -2.11281891e+01\n",
      " -2.83470303e-01  1.23253460e+01  7.89027405e+00 -1.71727061e+00\n",
      " -4.92402029e+00  5.76698208e+00  3.50758910e+00  7.11416626e+00\n",
      "  3.99290776e+00 -1.86428294e-01  9.24886322e+00  1.30285578e+01\n",
      "  9.92207909e+00  4.70622122e-01  4.58900118e+00 -3.46802920e-01\n",
      "  1.92971935e+01  5.82927608e+00  1.72055550e+01 -1.25349092e+00\n",
      "  8.76088715e+00  2.32390329e-01  6.79526711e+00 -1.80927658e+00\n",
      " -2.52738547e+00  2.82001066e+00 -1.42440557e+00  6.97779894e+00\n",
      "  1.41672182e+01  1.92530746e+01  2.19661388e+01  1.14270706e+01\n",
      "  1.19715047e+00 -1.55023193e+01  5.01796126e-01 -7.60209417e+00\n",
      " -1.08538854e+00  5.11421204e+00  4.38491106e-01  9.27872509e-02\n",
      " -1.30698884e+00  5.78994846e+00 -1.38104343e+01  2.59471512e+01\n",
      "  1.79945850e+01 -1.52890110e+01 -2.46458793e+00 -1.25433195e+00\n",
      " -5.20400572e+00  1.38994141e+01  8.32556915e+00  2.12933331e+01\n",
      "  1.62339478e+01  2.96691090e-01  1.47904749e+01  2.85276866e+00\n",
      " -5.31724215e+00  4.14250314e-01  1.80284729e+01  4.22259235e+00\n",
      " -1.97367172e+01 -4.68804932e+00 -1.21133089e+01 -4.79515362e+00\n",
      "  1.02939332e+00  1.73866734e-01  2.85343003e+00 -1.10583520e+00\n",
      "  2.21413231e+00 -1.08449936e+00  3.50484347e+00  2.77594829e+00\n",
      "  1.37652087e+00 -4.58916330e+00  1.97422290e+00 -1.81275499e+00\n",
      "  2.21549549e+01  5.08535981e-01  5.08794737e+00  2.11882520e+00\n",
      "  9.01968360e-01  1.20751953e+01  1.13822451e+01  5.29612398e+00\n",
      " -1.69865584e+00 -8.56833649e+00 -5.63695654e-02  7.75348711e+00\n",
      " -5.67040539e+00  1.01109934e+01  8.31750679e+00 -2.14946079e+01\n",
      "  2.21729946e+01 -6.93803835e+00  1.41147671e+01 -6.95485592e+00\n",
      "  4.81921244e+00  3.09680939e+00 -2.27492619e+00  3.93444920e+00\n",
      "  4.03788614e+00  7.58846426e+00  1.16141949e+01  4.91700506e+00\n",
      "  1.89458313e+01  8.47427940e+00  1.45921345e+01 -9.86742973e+00\n",
      " -6.27260494e+00  1.26098471e+01 -7.21502495e+00  2.45499783e+01\n",
      "  2.66101799e+01  2.62911072e+01  3.01433144e+01  4.07317238e+01\n",
      "  2.58763065e+01  1.34492278e+00  7.04434395e+00 -6.65653324e+00\n",
      " -1.08839500e+00  2.44846077e+01  6.64872837e+00 -1.01352987e+01\n",
      "  7.97078192e-01  2.32942333e+01  2.21831036e+00  3.35326424e+01\n",
      "  3.91435719e+00  8.20492172e+00  1.64954865e+00  4.29648733e+00\n",
      "  1.30420172e+00  4.29503775e+00  3.21939011e+01  4.37417173e+00\n",
      "  1.41411428e+01  1.52851760e+00  1.85130825e+01 -9.16063309e+00\n",
      "  6.49250889e+00  1.64273396e+01  3.05080357e+01  4.87130976e+00\n",
      "  3.01968155e+01 -1.28261936e+00  1.36471758e+01 -5.29817963e+00\n",
      "  4.56537104e+00 -3.55611682e-01 -1.16790714e+01  1.54982738e+01\n",
      "  3.07886648e+00  1.47701416e+01  9.24199867e+00  6.16628313e+00\n",
      "  6.71499205e+00  1.17205725e+01  9.61858082e+00  3.14935017e+01\n",
      "  1.32573910e+01  3.19968376e+01  5.32086515e+00  2.28233299e+01\n",
      " -1.24622784e+01 -6.99555206e+00  6.87334776e+00  1.54933701e+01\n",
      "  3.66243057e+01  7.41434097e+00  1.85167732e+01  3.45856476e+01\n",
      "  7.32692766e+00  1.79480493e+00  4.34214449e+00 -2.00648576e-01\n",
      "  1.35500250e+01 -1.94385204e+01 -1.28311491e+01 -7.18842602e+00\n",
      "  1.32751393e+00  3.44184799e+01 -3.19540167e+00  2.92170906e+01\n",
      "  1.11621981e+01  2.31352615e+01  5.76078272e+00  1.53365498e+01\n",
      " -1.13658762e+01  1.74304354e+00 -6.68610096e+00  2.22458094e-01\n",
      "  3.81209588e+00  1.86280479e+01  3.78114624e+01  8.65033913e+00\n",
      "  4.64837790e+00  5.87763023e+00 -8.59015465e+00  3.02560024e+01\n",
      "  1.18598614e+01 -4.59660101e+00  2.41871223e+01  1.33211994e+01\n",
      "  7.84755802e+00  1.23910599e+01  1.86775188e+01  1.04441798e+00\n",
      " -1.29843724e+00 -1.46836157e+01  4.51104021e+00 -1.08204250e+01\n",
      " -8.66340923e+00 -1.50995421e+00 -1.07543621e+01 -2.49556020e-01\n",
      " -6.93811798e+00  2.05358529e+00  3.54444504e+00 -1.45995398e+01\n",
      " -6.58296347e+00 -3.98109317e+00 -5.09861135e+00  2.59327817e+00\n",
      "  2.57737184e+00  6.32617772e-01  3.34419489e-01 -9.53187764e-01\n",
      "  1.43894081e+01 -2.28752303e+00  6.33551407e+00  7.81353426e+00\n",
      " -4.41681719e+00 -5.59223843e+00 -5.49666834e+00 -2.91698647e+00\n",
      " -2.81098485e+00  1.28074169e+00 -3.66261840e+00 -2.12025666e+00\n",
      "  1.54448020e+00  1.68447006e+00 -9.21568966e+00  4.06569338e+00\n",
      "  1.90788627e+00 -3.14048791e+00 -1.73529267e+00 -5.13917351e+00\n",
      "  2.03479218e+00 -1.38266249e+01  1.58881211e+00 -3.14813156e+01\n",
      " -6.80755043e+00  3.11825371e+00  1.01709642e-01 -6.25302076e+00\n",
      " -6.19201708e+00 -9.89060402e+00 -8.16427326e+00 -7.46469975e+00\n",
      "  2.59403372e+00  1.65971279e+00 -9.56920242e+00 -7.98673725e+00\n",
      " -8.40919614e-01 -1.63121147e+01 -2.06270733e+01  5.73509455e+00\n",
      " -6.10869980e+00  6.77217484e-01 -1.05457222e+00  1.43166173e+00\n",
      " -1.39360678e+00 -1.72695667e-01  8.15940475e+00 -1.54426746e+01\n",
      " -1.94347763e+01 -3.52212834e+00 -2.85931706e+00 -6.40942621e+00\n",
      "  5.20736277e-01 -7.55068636e+00 -3.05337315e+01 -3.68742943e+00\n",
      " -6.43446064e+00  2.15552330e+00 -2.51013422e+00 -3.99947309e+00\n",
      " -8.84919226e-01 -1.98881264e+01 -1.77516594e+01 -5.47199070e-01\n",
      " -3.34476972e+00 -4.03230572e+00 -6.21880674e+00 -1.35481834e+00\n",
      " -6.83938074e+00 -7.36830187e+00  7.18615592e-01 -7.63524199e+00\n",
      " -2.25258312e+01  4.33831120e+00  6.36233854e+00 -2.49509068e+01\n",
      "  4.63234997e+00 -2.08134341e+00 -4.44234562e+00 -2.24928455e+01\n",
      " -4.17864895e+00 -4.82234955e+00 -9.24199963e+00 -7.43546391e+00\n",
      " -2.66466069e+00 -2.35805359e+01 -1.98350358e+00 -1.38610077e+01\n",
      "  2.59760562e-02 -1.11633606e+01 -2.56487484e+01 -9.26558018e+00\n",
      " -7.39142847e+00 -1.41211996e+01  3.27042007e+00  2.44134828e-01\n",
      "  1.61054077e+01 -2.51124191e+00  2.27123499e+00 -7.00011778e+00\n",
      " -3.97123814e+00  6.23247385e+00  6.22598267e+00 -1.49278593e+00\n",
      " -7.58797121e+00 -3.32600641e+00 -1.35516510e+01 -2.09896564e+01\n",
      " -2.09538743e-01 -3.37633095e+01  3.23228812e+00 -9.09993470e-01\n",
      "  5.87478542e+00 -2.00073490e+01  1.73130569e+01 -1.22600412e+01\n",
      "  1.08854914e+01 -2.41705952e+01  4.08256960e+00 -8.51403236e+00\n",
      " -4.97528028e+00 -2.00836601e+01 -9.23684788e+00 -5.56632471e+00\n",
      " -3.51163445e+01 -2.09480801e+01  1.05037336e+01  1.03884375e+00\n",
      " -3.47718191e+00  3.39618742e-01 -1.00225983e+01  2.47523713e+00\n",
      " -3.81716633e+00 -4.27485085e+01 -2.59507418e+00 -2.66515846e+01\n",
      "  1.58644187e+00 -1.97320151e+00 -9.64347744e+00 -2.32909069e+01\n",
      " -2.22802734e+00  1.92542763e+01 -2.61816463e+01 -1.71158390e+01\n",
      "  7.20401812e+00  9.04068947e+00 -2.11325431e+00 -3.90589023e+00\n",
      " -8.81082821e+00 -5.42741537e+00  5.04596949e+00 -2.43849545e+01\n",
      "  8.96123827e-01 -9.96755981e+00 -8.76867199e+00  2.31054153e+01\n",
      " -9.29815292e+00 -3.23698497e+00 -2.91448593e+01 -1.58097620e+01\n",
      " -2.93511219e+01 -2.85541782e+01 -1.07202988e+01 -1.82404459e+00\n",
      "  4.74206638e+00 -1.35311661e+01 -3.45873375e+01  7.33077431e+00\n",
      " -3.15662861e+00 -1.19561081e+01 -3.16668892e+00 -1.01522217e+01\n",
      "  1.12722969e+00 -4.19836491e-01 -2.54051552e+01  3.21856189e+00\n",
      " -5.20210457e+00 -1.69653816e+01 -1.56514034e+01  1.10094709e+01\n",
      " -1.17377234e+01  2.13125929e-01 -1.76953268e+00 -1.24709740e+01\n",
      " -1.10312119e+01 -3.65207481e+00 -2.55064640e+01  1.76768351e+00\n",
      " -1.70542240e+01 -1.29240894e+00 -7.09701061e+00 -7.46422386e+00\n",
      "  1.14271441e+01 -8.80914974e+00 -1.63259649e+00 -2.43729496e+01\n",
      " -2.97664146e+01 -1.71643124e+01 -4.50540352e+00 -1.06888256e+01\n",
      " -2.82173347e+01  1.23180389e+01 -5.54500580e+00 -6.09129131e-01\n",
      " -1.68719816e+00 -4.88390207e-01  1.38844423e+01 -1.29710426e+01\n",
      "  8.55500031e+00  2.79857397e+00 -6.14326382e+00 -4.66663551e+00\n",
      " -3.88162422e+00 -1.33457212e+01 -5.73294592e+00  8.07440186e+00\n",
      " -1.51525545e+01 -1.37760925e+01 -1.35241928e+01 -9.00279808e+00\n",
      "  2.16731787e+00]' has dtype incompatible with int64, please explicitly cast to a compatible dtype first.\n",
      "  preds[val_index] = model.predict(dval_i)\n"
     ]
    },
    {
     "name": "stderr",
     "output_type": "stream",
     "text": [
      "\r",
      " 50%|███████████████████████████████████████████████████████████████████████████████████████████████████████████████                                                                                                               | 5/10 [02:28<02:40, 32.16s/it]"
     ]
    },
    {
     "name": "stderr",
     "output_type": "stream",
     "text": [
      "C:\\Users\\81809\\AppData\\Local\\Temp\\ipykernel_24208\\3386215446.py:18: FutureWarning: Setting an item of incompatible dtype is deprecated and will raise an error in a future version of pandas. Value '[ 1.98597546e+01  2.37557182e+01  6.01832914e+00 -1.81773579e+00\n",
      " -1.51247787e+00 -3.62454510e+00  8.34143734e+00  8.85687160e+00\n",
      "  1.11529961e+01  3.49439168e+00 -1.06367469e+00  2.22730923e+00\n",
      "  1.08172569e+01 -2.55451322e-01  1.78489838e+01  1.31870928e+01\n",
      " -2.48852873e+00  4.30003405e+00  3.64272380e+00 -2.76491499e+00\n",
      "  1.26843154e+00  1.83059072e+00 -3.29631758e+00  1.90834484e+01\n",
      "  1.13505125e+01 -1.39960778e+00  7.18500090e+00  2.29435997e+01\n",
      "  2.46944213e+00  2.15365562e+01  1.56162472e+01 -5.94086599e+00\n",
      "  1.27864850e+00  4.19907475e+00  1.05449963e+01  1.26244192e+01\n",
      " -8.10720539e+00  2.72511935e+00  8.75097466e+00 -3.82738400e+00\n",
      "  1.07063687e+00  7.24179554e+00 -9.36487794e-01  5.03320456e+00\n",
      "  3.83581018e+00  9.23179531e+00  2.01546021e+01 -4.54615545e+00\n",
      "  8.00558472e+00  1.53389156e+00  5.35421085e+00 -2.73504108e-01\n",
      " -4.94532794e-01  4.45439529e+00  3.50666285e+00 -9.89607051e-02\n",
      "  1.15413761e+01  3.93868828e+00  1.74541795e+00 -4.91132069e+00\n",
      "  1.77627411e+01 -5.51948190e-01  1.36949217e+00 -2.21258688e+00\n",
      "  1.98704052e+01  1.81033528e+00  1.01607637e+01  1.64597683e+01\n",
      "  1.82475817e+00  1.87486629e+01  9.84536409e-01  3.58878112e+00\n",
      "  2.90388894e+00  1.88494790e+00 -1.54937196e+00 -3.76960397e+00\n",
      "  1.13710890e+01  3.04468083e+00 -1.19840455e+00  5.44042301e+00\n",
      "  3.96607161e+00  1.83362980e+01  3.12489176e+00  9.48228931e+00\n",
      "  1.05698943e+00  2.64866447e+00  2.60562348e+00  5.22443390e+00\n",
      "  8.32934141e-01  1.83735323e+00  4.85212505e-02  5.07564449e+00\n",
      "  2.49539833e+01  2.26059036e+01 -5.94391012e+00  1.60234222e+01\n",
      "  5.04208136e+00  4.01809025e+00  2.47492933e+00  3.73560524e+00\n",
      "  4.97052002e+00  2.08554244e+00 -3.62691236e+00 -6.59758449e-01\n",
      "  4.85994101e+00 -1.21918082e+00  2.10565319e+01  4.89056301e+00\n",
      "  2.45223293e+01  2.12372475e+01 -7.23769999e+00  2.76089579e-01\n",
      "  1.18720636e+01  1.04505272e+01  1.03382835e+01 -2.27772188e+00\n",
      " -5.10130453e+00  4.07770920e+00 -1.06309974e+00 -1.39274728e+00\n",
      " -4.56784344e+00  1.18593540e+01  5.48004103e+00  1.14813843e+01\n",
      "  4.45732117e+00  2.08614492e+00  1.87146339e+01  6.53505087e+00\n",
      "  2.65989304e+00  2.98576427e+00  2.67058206e+00  9.64603138e+00\n",
      "  7.61261225e+00  3.26562233e+01 -3.07491159e+00  4.15684052e+01\n",
      "  1.58361177e+01  4.06281137e+00  2.72439671e+01  5.63947678e+00\n",
      "  2.09952044e+00  3.49920998e+01  1.40982599e+01 -9.75854969e+00\n",
      "  5.64766836e+00  1.25443048e+01  1.33166819e+01  2.66385479e+01\n",
      "  2.77780503e-01  6.70925045e+00  5.88514948e+00 -6.15975559e-01\n",
      "  3.28839912e+01  2.97937584e+01  2.41821079e+01 -7.04995394e+00\n",
      " -7.31137371e+00  2.58325253e+01  1.56803560e+00 -2.91128516e+00\n",
      "  8.29545975e-01  4.06996803e+01  3.41273737e+00  2.64389954e+01\n",
      "  3.74544182e+01  6.87835121e+00  2.26351166e+01  2.09920063e+01\n",
      "  2.96515322e+00  2.01315856e+00  4.65956181e-01  2.26105404e+00\n",
      " -7.94471455e+00  9.36449623e+00 -2.57529869e+01  3.12736340e+01\n",
      "  2.44454646e+00  2.76772976e+00  1.37440891e+01  3.04968977e+00\n",
      "  4.36947670e+01  6.74043521e-02 -8.90867329e+00  2.32234535e+01\n",
      " -5.14491653e+00  8.29570484e+00  1.42602110e+01  1.19385834e+01\n",
      " -7.02354240e+00  2.71634507e+00  2.29053059e+01  8.62385750e+00\n",
      "  1.69571114e+01 -7.15710783e+00  3.49798546e+01 -3.41163826e+00\n",
      "  2.72944498e+00  3.30980721e+01  9.45854664e+00 -1.12586629e+00\n",
      " -9.06749725e+00  1.77746487e+01 -1.09212828e+00  6.33896065e+00\n",
      "  1.45702248e+01  3.13070927e+01  8.97022057e+00  7.03675699e+00\n",
      "  1.47288237e+01 -3.16208124e+00  1.82094612e+01 -1.68148959e+00\n",
      "  2.90895271e+01  3.00589237e+01  1.97053299e+01  1.17629302e+00\n",
      "  2.83355560e+01  3.31896639e+00 -2.52073884e+00 -1.13085880e+01\n",
      "  2.38366556e+00  9.67062569e+00  2.09139996e+01  6.49364328e+00\n",
      "  2.55655785e+01  8.10843086e+00  3.01837234e+01  3.55999870e+01\n",
      "  2.28758857e-01  3.10510206e+00  1.94070072e+01  5.25395918e+00\n",
      "  1.12847176e+01  8.98094082e+00  2.43295021e+01  8.05160925e-02\n",
      "  5.46308231e+00  1.30340767e+01  2.12356720e+01  7.67986584e+00\n",
      "  8.77528954e+00  2.11117496e+01  1.99232616e+01  1.90777359e+01\n",
      "  1.52461720e+01 -2.19597893e+01 -2.18617840e+01 -1.76755466e+01\n",
      " -9.81263638e+00  1.75131595e+00  6.27480686e-01  4.42446470e+00\n",
      " -8.45750618e+00 -4.07420540e+00 -6.88198447e-01 -1.61065906e-01\n",
      " -4.03121519e+00 -7.48221338e-01 -1.94917130e+00 -1.18679552e+01\n",
      " -1.60621529e+01 -8.52046847e-01 -2.52858906e+01 -1.29842901e+01\n",
      " -9.14714622e+00 -2.03366508e+01 -8.30385610e-02 -2.14392710e+00\n",
      " -1.54377782e+00  7.37930202e+00 -4.80416155e+00 -3.98902035e+00\n",
      " -1.91399727e+01  3.37492275e+00  2.39848661e+00 -4.09756184e-01\n",
      "  6.07650423e+00 -1.77929342e+00  1.92760539e+00  5.35171509e+00\n",
      "  6.26648903e+00 -3.03978944e+00  2.41696191e+00  5.54816246e+00\n",
      " -2.34582114e+00 -7.54191494e+00  3.86370420e+00 -7.77245426e+00\n",
      " -5.47035885e+00  9.53998852e+00 -8.96817207e+00 -1.37627869e+01\n",
      " -6.86560583e+00  9.47956026e-01 -9.18618584e+00 -7.24156237e+00\n",
      " -8.29369926e+00 -9.28924799e-01  1.53061569e+00 -4.06099701e+00\n",
      " -1.78088970e+01 -3.58281589e+00 -1.05780244e+00  3.07094932e-01\n",
      " -1.24456656e+00  6.55288637e-01 -5.26702356e+00 -5.15902424e+00\n",
      "  1.83630240e+00 -3.11742091e+00  3.75697315e-01 -1.08008134e+00\n",
      " -1.62876916e+00 -6.27020025e+00 -1.44095135e+01 -3.73787689e+00\n",
      " -3.15163422e+00  2.61536449e-01  3.69981241e+00  7.49255371e+00\n",
      " -6.04358292e+00  7.05530071e+00  5.16533470e+00 -1.86098590e-01\n",
      " -3.32555008e+00 -1.47673359e+01 -1.64711130e+00 -3.18121195e+00\n",
      " -5.82779264e+00 -1.45270443e+00  1.35997744e+01  3.03485942e+00\n",
      " -1.16778278e+01 -1.12808552e+01 -2.14631736e-01 -7.12644815e+00\n",
      " -4.01423740e+00 -5.14297152e+00 -4.02562284e+00 -1.31520379e+00\n",
      "  4.29933214e+00 -1.01051111e+01 -2.09347000e+01  5.19884884e-01\n",
      " -3.41156387e+00 -2.46167254e+00  4.66788578e+00 -1.10142984e+01\n",
      "  1.37038589e+00 -4.76997757e+00 -9.52625200e-02  2.21324301e+00\n",
      " -1.52036314e+01 -1.92471638e+01 -5.80884814e-01 -1.65662270e+01\n",
      " -4.02779484e+00 -6.68720722e+00 -5.47404051e+00 -1.17376614e+01\n",
      " -1.18769944e+00  1.41219842e+00 -1.82868271e+01 -4.79140472e+00\n",
      " -2.98910260e+00  2.94452405e+00  8.64676762e+00  2.97186589e+00\n",
      " -1.58881024e-01  3.51652765e+00 -3.48484731e+00 -2.97059612e+01\n",
      " -1.59325686e+01 -2.83094311e+01 -2.43158073e+01 -4.22057419e+01\n",
      " -2.29527836e+01 -5.12993670e+00 -1.13002443e+00 -1.40317309e+00\n",
      " -4.21722984e+00  1.02947903e+01  3.22851348e+00  1.12001467e+01\n",
      "  1.35090804e+00 -2.48042908e+01 -1.33378773e+01 -4.71247625e+00\n",
      " -8.71182346e+00 -3.08010445e+01 -3.49511375e+01  5.35715640e-01\n",
      " -3.17298388e+00 -2.17532043e+01 -1.06155825e+00 -1.76327312e+00\n",
      " -2.24316559e+01  1.23329954e+01 -3.32147026e+00 -1.02625017e+01\n",
      " -7.44338986e-03 -2.02359939e+00 -2.46983089e+01 -2.76416063e+00\n",
      " -2.11064667e-01 -2.51937717e-01 -5.51390696e+00 -2.23814564e+01\n",
      " -1.14331484e+00 -2.01002140e+01  1.06226044e+01 -5.33425283e+00\n",
      " -3.54618597e+00 -3.97236824e+01 -7.08134532e-01 -1.39665661e+01\n",
      " -8.34796715e+00  1.12097559e+01  7.71880925e-01 -1.30280066e+01\n",
      " -1.41847649e+01 -1.82125759e+01 -5.51055193e+00 -2.66223774e+01\n",
      " -7.63413787e-01 -2.49489708e+01  4.49824476e+00  1.06090651e+01\n",
      " -2.89199591e+00 -3.49691238e+01 -2.25198889e+00 -1.43564329e+01\n",
      " -2.44035840e+00 -5.71437168e+00 -3.02035122e+01 -5.89618921e+00\n",
      "  2.60407996e+00 -1.02938261e+01 -1.09328146e+01  9.22914505e+00\n",
      " -1.64319782e+01 -1.96487579e+01 -7.33040762e+00 -3.50409508e+01\n",
      " -5.93633556e+00 -5.27479410e+00 -3.04666281e+00 -1.95396194e+01\n",
      "  9.28432846e+00 -8.98709011e+00 -1.20653458e+01 -3.03538418e+01\n",
      "  2.33346319e+00 -4.77228165e+00 -2.79453869e+01  5.94379902e+00\n",
      " -1.45248461e+01 -1.67343006e+01 -5.36290264e+00 -5.32011890e+00\n",
      "  7.07243395e+00 -1.63302193e+01  1.04317932e+01 -9.76591110e+00\n",
      " -3.35051918e+01  1.73721060e-01 -3.08574677e+01 -5.90364647e+00\n",
      " -1.74818611e+01 -3.90342402e+00 -1.29935493e+01 -5.82547903e-01\n",
      " -1.96085510e+01 -2.67388592e+01  5.69243240e+00 -6.79837179e+00\n",
      "  7.29290724e+00 -8.22612762e+00 -2.73783054e+01 -3.66774893e+00\n",
      "  4.20201015e+00  2.45967197e+00 -3.71445389e+01 -2.34432430e+01\n",
      " -2.16639671e+01 -1.56873798e+01 -2.61520934e+00  1.13728962e+01\n",
      " -5.15898943e+00 -1.20446548e+01 -2.40863762e+01 -1.30123205e+01\n",
      "  1.15190852e+00]' has dtype incompatible with int64, please explicitly cast to a compatible dtype first.\n",
      "  preds[val_index] = model.predict(dval_i)\n"
     ]
    },
    {
     "name": "stderr",
     "output_type": "stream",
     "text": [
      "\r",
      " 60%|█████████████████████████████████████████████████████████████████████████████████████████████████████████████████████████████████████▏                                                                                        | 6/10 [02:56<02:02, 30.69s/it]"
     ]
    },
    {
     "name": "stderr",
     "output_type": "stream",
     "text": [
      "C:\\Users\\81809\\AppData\\Local\\Temp\\ipykernel_24208\\3386215446.py:18: FutureWarning: Setting an item of incompatible dtype is deprecated and will raise an error in a future version of pandas. Value '[  2.470802    -2.0920768   15.376685    10.761258    25.37814\n",
      "  18.64946     -1.1671584   -6.4077187    4.9287453    7.249767\n",
      "   0.7868288    0.51362866   6.4051642   -3.8465097    5.4803896\n",
      " -13.24157     -1.7073464   -0.50627637   9.5509       2.2070878\n",
      "  -4.7836905    9.003094     4.390593    -0.8648197   16.790182\n",
      "  -1.8650672    3.2006528    3.496179     1.3962017   -2.0346766\n",
      "  -8.799458     8.279519   -15.427228    -1.7097957   -0.7815486\n",
      "  -5.750146     2.0520918    3.9409995   20.600399     0.6282748\n",
      "   0.9103024    9.822421    12.437909    -3.732862     6.7640853\n",
      "   0.14966194  23.15923     31.130695     9.811298    -3.0425296\n",
      "   5.032205    24.600702    -8.158139    10.33574     -3.995343\n",
      "   7.1320567    4.1107826    1.21029      2.8020828    4.543026\n",
      "  -6.42951     21.223703     1.1592771   11.531605   -12.1427145\n",
      "  -7.0019994   -3.0895033    0.17244077   4.234496    -1.5296669\n",
      "   4.628263     7.752366    28.914635     0.9763626   -2.440765\n",
      "  13.804555    22.242       19.483046   -13.147332     3.5254598\n",
      "  -0.84471655  -1.1260635    6.787758    -3.7198935   -0.05303891\n",
      "  26.752678     1.051668   -19.519245    -3.5243227   -5.8292747\n",
      "   1.8752885   18.968363     6.841855     9.885193     1.8364096\n",
      "  -7.2012877   12.554214    -2.032382     3.229859     3.16315\n",
      "  22.9642      23.108675     2.1574433    2.360368     2.1518707\n",
      "  11.244363     7.1301146   14.26774      0.8192908   -2.284703\n",
      "   7.4920487   17.576036     1.8973132   12.205008    23.993196\n",
      "   8.840711     2.5457237    5.027786     3.9021845   -1.7969698\n",
      "  -8.980871    13.79413      4.060542    -1.2677876    3.7577434\n",
      "   1.8978376    6.921494     4.789625    14.261524     1.465554\n",
      "  20.47144      5.258123   -14.531083     3.1272736   -7.388412\n",
      "  -1.2109319    5.6401343    9.413928    35.187073    33.0479\n",
      "  38.199947    19.390799    15.036893     4.215485    27.927792\n",
      "  -9.974242     3.0445642    4.06319      4.459845     9.36776\n",
      "   1.7072598   36.658802     2.0068214    0.9749092   23.399832\n",
      "  30.03905     17.536015     6.2878785    5.8397403    5.389286\n",
      "   2.1334982   11.285031    -7.1698413    0.08597482  19.886068\n",
      "   0.92803276  -1.2309144   23.299175     5.0987144   -2.1651838\n",
      "  12.067572    -6.0978985   -2.5059521   -4.9072227    8.121252\n",
      "  27.128883     0.7796065   12.348827     7.009627   -10.798699\n",
      "  24.32601      1.4767356   -4.7858467   31.523851     2.2919626\n",
      "  13.683012    -5.337685     5.7744293   -3.486673    11.250847\n",
      "  10.635268    -8.538436     4.832012     2.5392468    6.0329857\n",
      "  -0.86097413  13.2373495    3.2002506   -3.2175317   33.396347\n",
      "   8.022829    17.446798    32.66044    -10.049878     9.403266\n",
      "   4.778558    16.179836    -4.546714    19.075163    -4.8186765\n",
      "  12.836314    11.449791     7.7494116    2.2467844    6.8648415\n",
      "  10.253595    11.8759       1.54504     -0.94524765  33.61861\n",
      "  29.27981      3.0760322   11.520044     0.21880494   5.512677\n",
      "  11.204726    23.4727       7.509002    10.829001     1.6598132\n",
      "  19.833994    27.78415     -1.4616448  -12.840727    -1.0772406\n",
      "  10.296249     9.202043    -6.367374    37.207397    32.327267\n",
      "  -5.425027    -5.4893026  -10.039027    24.854301    -1.076195\n",
      "  19.171284    31.89084      2.349387    15.8847475  -17.918774\n",
      "  -2.5726154    6.8544717  -17.863989     2.5645337    2.8753035\n",
      "  -1.1375237   13.202766   -20.99919    -20.940664    -3.8282878\n",
      " -11.649808     0.74630564  -5.040326    -2.8429813   -2.611185\n",
      " -12.463876    -3.4803817    2.8708675   -0.6057531  -12.79197\n",
      "   9.125947    -9.031848    -8.879597    -7.1547318   -4.2845144\n",
      "  -1.3581094    0.41085863 -19.148094    11.222023     2.3819337\n",
      "   4.9399605  -24.81817    -18.201847     5.7137966   -5.626023\n",
      "  -3.5229893    1.9033939    1.3274606    4.4982915   -6.6546044\n",
      "  -3.8046796  -21.208406     0.91015047   5.698207    -9.366608\n",
      "  -2.5204961  -11.433015     0.8537713   -7.068547    -5.1421833\n",
      "  -1.1908422   -9.135726   -13.761113     0.13351594   3.2758062\n",
      "  -4.0992403  -27.741789    -9.102965   -18.974363    -3.4343913\n",
      "   0.5227911   -5.515207     2.1259875    0.7384497  -17.034325\n",
      " -10.968201    -0.26976052 -19.336819   -12.525482    -2.704742\n",
      "   3.2619536    2.0082128   -0.5038773    0.2829666    7.9063087\n",
      "   6.9154477    1.1348363    0.17141631 -18.859657    13.139575\n",
      "   3.581841    -1.2851561   -0.4948403   -2.7559881  -11.428391\n",
      "  -7.319278   -10.279919    -4.821926     3.6942236    3.6034918\n",
      "  -1.923064    -9.261808    19.400362     5.394573    -1.7713567\n",
      "   1.1469964   -4.21951     -2.0635324  -11.177583    -1.1702178\n",
      "  -4.0385137    3.64221     -9.4401455  -25.051481   -24.029491\n",
      "  -1.1611018   -9.371367     1.4070787  -19.957348     6.672347\n",
      " -22.318558    -2.5812821    8.236623   -15.503594     1.4447834\n",
      "  -3.2896287   -2.0324209   -0.9885558  -13.507275   -21.215574\n",
      "  -7.6769857    4.706785    23.385628    -0.25538877   4.883818\n",
      "   4.2305727    8.413751     1.7338935  -20.400507    -9.0273905\n",
      "  -4.816392   -12.273559    -7.675446    -1.5973582  -10.047083\n",
      " -30.412655    -9.370185    -3.241188   -26.589128   -16.541788\n",
      "  -6.362178     0.60413563 -26.539299    -8.437955   -32.363037\n",
      " -37.16495      0.37100643   2.433686   -23.173235   -28.841011\n",
      " -25.857018     4.705082     5.991739   -11.974598   -16.087912\n",
      " -17.221792    -9.137896    -0.29112     -1.4015597   -2.07335\n",
      " -11.390693    15.59938     -0.38847315  -4.463694    -2.7142887\n",
      " -22.535275   -46.737347    -5.2599187   -3.3245804  -21.55699\n",
      "  -3.2597365   -8.877479   -33.180607   -13.298642     1.7244613\n",
      " -12.460447   -27.897778   -29.065323    -1.3018066   -1.7774254\n",
      " -14.98086     -7.289886    -4.003184   -45.491688    -9.362281\n",
      " -19.938208     3.067506    -2.6394792    1.354511   -36.353176\n",
      " -11.818013   -36.761017   -31.08721      1.4972117  -32.819\n",
      " -10.240986    -3.3882573  -10.119805    -1.4882671  -15.674574\n",
      " -18.29781    -14.662642   -20.81495      8.747733   -32.319656\n",
      "  -3.4442441   -8.144565    -0.36820555 -11.086677     2.1447508\n",
      " -28.7943     -16.57034     10.737098    -5.766972   -11.528877\n",
      "  10.617218   -23.241898   -22.132044     0.89521444  -6.186387\n",
      "  -4.36294    -34.31976    -26.368786     1.3990062   -2.2245862\n",
      " -19.647943   -27.29247     -7.260678    -2.9965422    9.776629\n",
      "  14.319418    -5.6610165    6.9060636   -2.5543673   -6.83856\n",
      "  -8.127821    -0.777809   -33.670567     3.1556623  -15.12306\n",
      " -14.134955    -4.099559    10.98901   ]' has dtype incompatible with int64, please explicitly cast to a compatible dtype first.\n",
      "  preds[val_index] = model.predict(dval_i)\n"
     ]
    },
    {
     "name": "stderr",
     "output_type": "stream",
     "text": [
      "\r",
      " 70%|███████████████████████████████████████████████████████████████████████████████████████████████████████████████████████████████████████████████████████████▍                                                                  | 7/10 [03:24<01:29, 29.98s/it]"
     ]
    },
    {
     "name": "stderr",
     "output_type": "stream",
     "text": [
      "C:\\Users\\81809\\AppData\\Local\\Temp\\ipykernel_24208\\3386215446.py:18: FutureWarning: Setting an item of incompatible dtype is deprecated and will raise an error in a future version of pandas. Value '[-1.37880892e-01  1.84399700e+01 -6.34633970e+00  1.95764122e+01\n",
      " -1.77226806e+00 -5.50884056e+00  1.78404198e+01 -2.60210800e+00\n",
      " -1.16333151e+00  2.68796277e+00  1.07767448e+01  5.95577240e+00\n",
      "  8.62612152e+00  1.15093470e+01  5.55433321e+00  9.75501597e-01\n",
      " -3.01832604e+00  3.83377099e+00  2.88215208e+00 -1.85450017e+00\n",
      " -5.58255017e-01  1.49032736e+01  2.03328876e+01  1.14407837e+00\n",
      "  3.00249028e+00 -2.41992205e-01  7.55147409e+00  1.00722609e+01\n",
      "  4.01938915e+00  5.98531199e+00 -3.31075001e+00 -1.25579727e+00\n",
      " -1.22696476e+01  2.25646019e+01 -2.59926438e+00  4.82300329e+00\n",
      " -6.35971785e-01  2.63157921e+01  4.68592644e+00 -1.68316925e+00\n",
      "  1.15158443e+01 -5.16504717e+00  7.22401762e+00  1.53153670e+00\n",
      "  5.72749329e+00 -3.95854044e+00 -5.63643312e+00  2.40995622e+00\n",
      "  6.92499304e+00  4.98212337e+00  5.96729374e+00  3.62433290e+00\n",
      "  8.82800102e+00 -4.97811556e+00  1.59521413e+00  1.11838408e+01\n",
      "  5.71624565e+00  3.15581465e+00  7.81185102e+00 -3.92457932e-01\n",
      "  1.14491379e+00  3.32326102e+00  2.13503418e+01  5.38917971e+00\n",
      "  1.15683832e+01  7.44416523e+00  3.54491621e-01  1.23710418e+00\n",
      "  1.55881882e+00  9.69765377e+00 -3.38956237e+00  2.21327353e+00\n",
      "  2.49789166e+00  1.61903656e+00  1.42248714e+00  6.39823580e+00\n",
      "  4.56238890e+00  1.74702574e-02  3.43172145e+00 -3.31944847e+00\n",
      " -1.17914093e+00 -6.35736084e+00  4.95250320e+00 -9.60038948e+00\n",
      "  2.60561728e+00 -2.97292757e+00 -2.26560616e+00  2.02065639e+01\n",
      "  4.92474884e-01 -1.85641193e+00  1.98485069e+01 -8.37837279e-01\n",
      " -3.61322045e+00  2.52574921e+00  2.37506843e+00 -1.24706233e+00\n",
      "  1.54994547e+00  3.52684999e+00  2.74754262e+00  2.85304993e-01\n",
      "  7.55036974e+00 -9.81118716e-03  4.40942383e+00 -2.92378592e+00\n",
      " -2.46818161e+00  2.35024567e+01  9.11746979e+00  5.85695648e+00\n",
      "  5.20785046e+00  3.88570738e+00  7.85842323e+00  4.97376537e+00\n",
      " -2.64072204e+00  3.25339532e+00 -2.84543872e+00 -1.63816774e+00\n",
      "  7.86587381e+00  7.65492964e+00  4.42239332e+00  1.11419964e+01\n",
      " -4.10176706e+00  2.46205783e+00  1.39013124e+00 -2.01234913e+00\n",
      "  5.99871492e+00 -3.01614308e+00  1.40204029e+01  4.78952885e+00\n",
      "  9.85814691e-01  2.45193615e+01 -4.07689810e+00  1.03324089e+01\n",
      "  1.16646662e+01  2.01520672e+01  3.35762262e+00  3.81994343e+00\n",
      "  1.35215063e+01  4.53109503e+00  3.04609680e+00  1.50293458e+00\n",
      "  1.25006723e+01  7.88804150e+00  9.14460754e+00  1.12780318e-01\n",
      "  4.26399269e+01  2.71988316e+01  1.71399479e+01 -3.10632944e+00\n",
      " -3.49783254e+00  6.10212612e+00  1.47303171e+01  1.48501968e+01\n",
      " -2.54562664e+00  2.49322052e+01  9.93661499e+00  2.64851646e+01\n",
      "  6.12290239e+00 -2.45824361e+00  9.47692966e+00  3.54737091e+01\n",
      "  4.18526506e+00  1.97194920e+01  1.24291115e+01  1.94612980e+01\n",
      "  2.32165604e+01 -4.42384052e+00  9.14116287e+00  2.49637184e+01\n",
      "  2.16284561e+01  3.47240496e+00  3.55227890e+01  8.61894727e-01\n",
      " -6.14233923e+00  1.58042994e+01  2.99898663e+01 -1.64142532e+01\n",
      "  2.06584625e+01  1.49597816e+01  1.51287384e+01 -6.46720707e-01\n",
      "  4.48577232e+01 -7.44827557e+00  3.26333356e+00  9.08809662e+00\n",
      " -2.66049457e+00  4.81260204e+00  6.73948288e+00  5.82787466e+00\n",
      " -3.46764088e+00 -4.29662037e+00  1.14183578e+01  5.19977856e+00\n",
      "  2.54527569e+01  7.50880289e+00  2.84202271e+01 -8.43598366e+00\n",
      "  2.44925976e+01  2.01846523e+01  1.32863235e+01  1.32519560e+01\n",
      "  6.29285860e+00  1.19750462e+01  4.59750366e+00 -2.45076752e+00\n",
      "  1.41456156e+01  2.11233997e+01  4.88250971e+00  4.06281013e+01\n",
      " -1.26938925e+01  2.67649651e+01  2.79550457e+01  6.39735603e+00\n",
      "  5.00676775e+00  1.23993349e+01  8.23775482e+00 -2.62983274e+00\n",
      "  1.52814305e+00  1.73734150e+01  2.79253197e+00 -2.26355863e+00\n",
      " -6.24094152e+00  2.56480465e+01  3.16067314e+00  1.09921932e+01\n",
      " -1.17239313e+01  1.85973244e+01  1.12481966e+01  4.70419216e+00\n",
      "  1.64115028e+01  4.31031513e+00 -8.59421611e-01  3.70030098e+01\n",
      " -2.01334047e+00  3.48879004e+00  1.46532450e+01 -6.59890985e+00\n",
      " -1.30954618e+01  4.73961592e+00  3.02715263e+01  3.18370895e+01\n",
      "  1.05495968e+01  4.37134123e+00 -8.77666473e+00 -1.50272369e+01\n",
      "  1.40165586e+01  2.04241524e+01  4.72389364e+00 -9.84001064e+00\n",
      " -1.00593863e+01 -5.42869997e+00 -5.49911499e+00 -1.18146286e+01\n",
      "  1.14470196e+00 -4.70242977e+00 -4.66001177e+00 -3.29609418e+00\n",
      " -1.68748701e+00 -2.93355870e+00 -2.08084984e+01  2.98289061e+00\n",
      "  2.47929382e+00 -5.58412611e-01 -8.33958626e+00 -9.52196217e+00\n",
      "  3.09455872e-01 -2.35169649e+00  3.64269900e+00 -8.51760960e+00\n",
      " -8.51437855e+00  3.32771325e+00 -7.19047129e-01 -1.99042950e+01\n",
      " -2.34994769e+00 -4.24229574e+00 -4.60405397e+00  6.59311342e+00\n",
      "  4.04350948e+00  6.90975428e+00 -5.97859240e+00  1.90791821e+00\n",
      "  1.40525788e-01 -6.65598869e+00 -1.27676740e-01 -2.86802750e+01\n",
      " -8.39333344e+00 -7.35413170e+00 -4.69886923e+00  4.20129783e-02\n",
      "  4.49940729e+00  2.63931632e-01  3.53539646e-01 -8.20110321e+00\n",
      "  3.21724629e+00 -5.17730808e+00 -2.58558726e+00  1.00525558e+00\n",
      " -1.95026932e+01 -5.87139559e+00 -2.27476635e+01  3.06674182e-01\n",
      " -1.05782518e+01  3.41413832e+00 -8.30589890e-01  2.21120334e+00\n",
      " -3.74740124e+00 -1.17183793e+00  2.83983541e+00  5.35201848e-01\n",
      " -1.29590168e+01 -2.02824879e+00 -4.51772988e-01  2.29582953e+00\n",
      " -8.91367817e+00 -4.98682213e+00 -6.20860100e+00 -3.24914575e+00\n",
      " -3.08247304e+00 -9.44244742e-01 -2.01782722e+01 -4.23406506e+00\n",
      " -7.32549191e+00  9.93494415e+00 -1.97777653e+01 -2.35779629e+01\n",
      " -1.96089287e+01 -1.48134890e+01 -1.96199837e+01 -3.65904164e+00\n",
      " -4.17468309e+00 -8.82048681e-02  3.55951697e-01 -3.31146908e+00\n",
      " -2.55162311e+00 -1.49442506e+00 -5.72945213e+00 -6.21379805e+00\n",
      " -1.58368807e+01 -1.43841767e+00 -2.15185089e+01  5.94988060e+00\n",
      " -2.66255140e+00 -5.56814337e+00 -9.24306011e+00 -4.35005808e+00\n",
      "  2.44915175e+00 -2.58647203e+00  3.60566199e-01 -1.63856649e+00\n",
      " -2.06155539e+00 -2.93074799e+00 -2.93199825e+00 -1.25726357e+01\n",
      "  2.00374961e+00 -9.18601799e+00 -1.67808952e+01 -2.87813306e+00\n",
      "  2.17517400e+00 -4.45101452e+00 -2.25936966e+01  4.13358420e-01\n",
      " -5.80188990e+00 -3.80965424e+00 -2.38612347e+01 -1.49712200e+01\n",
      " -1.13469372e+01 -2.14453049e+01 -2.69443798e+00  1.23043609e+00\n",
      "  1.14852819e+01 -1.72217071e+00  2.15549831e+01 -4.94237185e+00\n",
      " -2.22032523e+00 -1.55660896e+01 -4.68097067e+00  6.59917927e+00\n",
      "  2.25595570e+00 -3.20742655e+00  1.52650201e+00 -3.95825911e+00\n",
      " -4.97584850e-01 -1.88778839e+01 -2.10849571e+01 -1.18076696e+01\n",
      " -9.64629292e-01  3.34321070e+00 -8.26403618e+00  2.09101844e+00\n",
      " -1.31364975e+01  1.27614241e+01  1.29838789e+00 -1.12140884e+01\n",
      " -6.34025955e+00 -2.58579578e+01 -2.69720459e+01 -8.19195271e+00\n",
      " -9.00154114e+00  7.73789883e+00 -1.53897676e+01 -1.81721077e+01\n",
      " -1.22055161e+00 -2.01109862e+00 -3.33629417e+01 -1.49026642e+01\n",
      " -2.79305210e+01 -3.39576340e+00 -2.51210070e+00 -1.68600285e+00\n",
      " -8.64510477e-01 -1.83630390e+01 -4.19872522e+00 -9.44942176e-01\n",
      " -1.30852995e+01 -6.61400986e+00 -4.62234802e+01  8.07017517e+00\n",
      " -2.14984589e+01 -1.52972841e+01 -1.51276360e+01 -3.21041565e+01\n",
      " -1.46879482e+00 -8.19190025e+00  7.97089052e+00 -4.83407545e+00\n",
      "  1.04042215e+01 -6.28674936e+00  6.61602855e-01  3.10403228e+00\n",
      " -2.80875759e+01 -9.55532551e+00  5.40214968e+00  8.14596844e+00\n",
      "  7.41099358e+00 -1.29030991e+01 -8.40704727e+00 -3.54957237e+01\n",
      " -1.52324219e+01 -7.06453466e+00 -8.24462986e+00  7.45250940e+00\n",
      " -1.00591173e+01 -1.44877653e+01 -9.99973869e+00 -3.36075058e+01\n",
      " -1.59206569e+00  1.15958929e+01 -1.74657822e+01 -4.39153528e+00\n",
      " -5.33037901e+00 -1.29572887e+01 -1.44717960e+01 -4.96409845e+00\n",
      " -3.05547409e+01 -1.10725708e+01 -2.57524624e+01 -8.66399479e+00\n",
      "  4.72938538e+00 -1.26478643e+01 -3.07227192e+01 -2.52881193e+00\n",
      "  1.08473368e+01 -5.90068483e+00  1.00900307e+01  8.48323727e+00\n",
      " -6.65593719e+00 -2.67314758e+01 -6.41184807e+00 -3.68696136e+01\n",
      " -3.48177940e-01  9.38145220e-01  1.08581219e+01 -6.45334339e+00\n",
      " -1.51701508e+01 -2.21373806e+01 -4.08073276e-01  1.25828848e+01\n",
      " -2.90710002e-01 -2.07224059e+00  8.34210777e+00 -9.81200123e+00\n",
      " -3.37093067e+00 -1.60851955e+01  4.33617306e+00  9.83870029e+00\n",
      " -6.34331751e+00 -2.52759514e+01 -2.15300484e+01 -1.94955654e+01\n",
      " -3.41155052e+01 -2.65985928e+01 -1.25230312e+01 -4.29210043e+00\n",
      " -2.39286089e+00]' has dtype incompatible with int64, please explicitly cast to a compatible dtype first.\n",
      "  preds[val_index] = model.predict(dval_i)\n"
     ]
    },
    {
     "name": "stderr",
     "output_type": "stream",
     "text": [
      "\r",
      " 80%|█████████████████████████████████████████████████████████████████████████████████████████████████████████████████████████████████████████████████████████████████████████████████▌                                            | 8/10 [03:47<00:55, 27.75s/it]"
     ]
    },
    {
     "name": "stderr",
     "output_type": "stream",
     "text": [
      "C:\\Users\\81809\\AppData\\Local\\Temp\\ipykernel_24208\\3386215446.py:18: FutureWarning: Setting an item of incompatible dtype is deprecated and will raise an error in a future version of pandas. Value '[-2.47706819e+00 -2.74765205e+00 -1.04199991e-01  5.56174850e+00\n",
      "  1.21282339e+00  6.83392620e+00  3.64729881e+00 -3.43536758e+00\n",
      " -4.90238285e+00  1.30898809e+00  2.28286057e+01 -2.23678112e+00\n",
      " -1.48256378e+01 -7.09143937e-01 -4.21541166e+00  2.72850590e+01\n",
      "  4.12514172e-02  2.41291866e+01  2.01421318e+01 -1.13985062e+01\n",
      " -5.43763208e+00  3.33562207e+00  6.41135740e+00  2.73639965e+00\n",
      "  1.80624914e+00  9.97294188e-01 -1.23648870e+00  1.92028980e+01\n",
      " -2.44222498e+00  2.67535992e+01  8.78331280e+00 -1.95011771e+00\n",
      "  2.69442844e+00  7.13123977e-01 -5.69817495e+00  1.24950190e+01\n",
      "  7.56833410e+00 -4.41999722e+00 -9.58558083e-01  9.09746838e+00\n",
      " -2.12148023e+00  3.53076577e-01 -2.17417965e+01  9.40715894e-03\n",
      "  9.38704300e+00 -5.14158249e+00  7.50727177e+00  3.26516676e+00\n",
      "  3.55161524e+00 -1.60442367e-01  5.69050014e-01  1.41822672e+00\n",
      "  4.66414356e+00 -2.97759712e-01 -2.61422825e+00  1.36148608e+00\n",
      "  5.78076267e+00  3.98595989e-01  1.30897820e+00 -2.77010703e+00\n",
      " -4.56382608e+00  4.97552633e+00  5.40404534e-03  4.10123396e+00\n",
      " -1.65005028e+00  1.62852812e+00  5.99435043e+00 -7.14062786e+00\n",
      "  1.40098209e+01  4.16282129e+00  1.81395359e+01 -1.43814440e+01\n",
      "  1.99489343e+00 -6.65348768e+00 -3.23973298e+00  6.42356014e+00\n",
      "  3.12231898e+00  2.53403831e+00 -3.06855655e+00 -7.75071287e+00\n",
      " -4.13748711e-01 -2.29056463e-01  2.00446057e+00 -3.58336878e+00\n",
      " -3.95227361e+00 -3.49417233e+00  1.79093443e-02  6.35769749e+00\n",
      "  3.94790983e+00 -1.40239801e+01  6.61557007e+00  2.08554497e+01\n",
      "  1.31500788e+01 -1.40920866e+00  2.02496052e+01 -1.30799761e+01\n",
      " -1.66717935e+00  3.41853237e+00  2.88142943e+00  9.95212936e+00\n",
      " -4.91600466e+00  1.84127674e-01 -4.00392830e-01 -8.83645117e-01\n",
      "  5.20423746e+00  6.64499521e+00 -1.88105583e+01  1.64828002e+00\n",
      "  1.43781757e+01  4.48120892e-01  5.35680103e+00  4.60906267e+00\n",
      "  8.95879173e+00  3.74752235e+00  3.17593384e+00  7.99520254e+00\n",
      " -7.38935590e-01  8.41720581e+00  2.22333851e+01  2.33460369e+01\n",
      " -6.66559219e-01  6.83434308e-01 -2.53749108e+00  4.89906549e+00\n",
      " -4.44599628e+00  6.12167025e+00  2.49331799e+01  7.05211353e+00\n",
      "  4.61566401e+00  1.05861464e+01 -2.49094939e+00 -1.27801151e+01\n",
      "  1.80424671e+01  1.97769489e+01  1.62627196e+00  1.10966814e+00\n",
      "  5.86594963e+00  3.84199643e+00 -2.05297256e+00  3.32785273e+00\n",
      " -6.74569726e-01 -4.73251534e+00  6.19813395e+00  1.23636093e+01\n",
      "  3.57185984e+00  1.29220228e+01 -2.48983264e+00  2.54474297e+01\n",
      "  2.18475018e+01  5.58916807e+00  1.95722699e+00  1.37509727e+01\n",
      "  3.46649055e+01 -1.33657169e+01 -1.08239765e+01 -2.40025973e+00\n",
      "  4.93696070e+00  2.46380615e+01  7.74739385e-01  1.95424042e+01\n",
      "  8.51189911e-01  1.13778362e+01  2.36590633e+01 -4.73867893e+00\n",
      "  9.46634674e+00 -3.92368031e+00  7.51545250e-01  3.47882576e+01\n",
      "  3.31745839e+00  1.53856297e+01  2.04326916e+01 -7.54101944e+00\n",
      "  4.79526377e+00  2.88800602e+01  1.41829605e+01  9.60015106e+00\n",
      "  3.05579300e+01  2.02858677e+01  1.08000422e+01  3.57622261e+01\n",
      "  6.63507223e+00  2.38986816e+01  2.64509697e+01  1.37784119e+01\n",
      " -1.21666107e+01 -6.14588451e+00  9.96577454e+00  3.05230713e+01\n",
      "  6.16308594e+00  4.20633926e+01 -8.63351536e+00  1.96542301e+01\n",
      "  1.49896622e+01  8.46963501e+00  1.89135590e+01 -4.70048189e+00\n",
      "  1.19364576e+01 -4.51032251e-01 -5.84454584e+00  6.06972885e+00\n",
      "  5.35080099e+00  2.56782341e+01  4.62246895e-01  7.94577646e+00\n",
      "  5.20125866e+00  1.00765305e+01  4.05969334e+00  1.16714582e+01\n",
      "  2.79854240e+01  1.06881180e+01  2.44753189e+01  8.66487503e+00\n",
      " -2.86890769e+00  2.58567142e+00  3.25188446e+01  1.02227640e+00\n",
      "  7.87905073e+00  2.21188807e+00 -7.64778614e+00 -1.20184965e+01\n",
      "  9.85962009e+00  3.04512157e+01 -6.99609184e+00  3.49073143e+01\n",
      "  1.16582088e+01  6.38762772e-01  4.26908302e+00  6.88651037e+00\n",
      "  1.23766880e+01  1.98010902e+01  7.06654453e+00  4.80083418e+00\n",
      "  5.88318539e+00  7.30484366e-01 -1.66819820e+01  6.01831102e+00\n",
      "  8.45132923e+00  3.53368492e+01  3.58298264e+01 -6.76661205e+00\n",
      " -5.62600136e-01  7.93484259e+00  2.18635902e+01  1.33556004e+01\n",
      "  1.21968384e+01  2.64940643e+00 -1.07850075e+01  1.11061964e+01\n",
      "  1.81821918e+01  1.07743711e+01  2.69937325e+00 -1.35608845e+01\n",
      " -2.23943353e+00  1.55298841e+00 -1.49368629e+01  5.47324610e+00\n",
      " -4.82226849e+00 -3.06646377e-01 -3.08573842e+00 -7.42979288e+00\n",
      " -4.03106213e+00  6.31259918e-01 -5.85195684e+00  2.89539552e+00\n",
      " -4.52401114e+00 -2.15461502e+01  1.40553579e+01 -8.30581546e-01\n",
      "  4.67225790e-01 -3.18599486e+00  2.68393707e+00  4.46729517e+00\n",
      " -1.43930817e+01 -1.68116188e+01 -2.25969372e+01 -5.97847891e+00\n",
      " -5.08426094e+00 -2.18061757e+00  4.24820375e+00  3.08728695e+00\n",
      " -1.26422453e+00  2.73672879e-01 -3.12006187e+00 -1.90360570e+00\n",
      " -2.66928625e+00 -2.45890355e+00  2.22752810e+00  1.63969016e+00\n",
      " -2.14007645e+01 -2.10166359e+01  6.18821764e+00  6.59341455e-01\n",
      "  1.14481974e+00 -3.52266594e-04 -2.38587737e+00 -8.89648557e-01\n",
      " -4.61981487e+00 -1.07695999e+01 -1.79575024e+01 -1.49549580e+00\n",
      " -1.34941518e+00 -1.02052355e+01 -8.11205685e-01 -8.18814850e+00\n",
      " -3.99947143e+00 -8.08308983e+00 -3.97647834e+00 -3.27880764e+00\n",
      " -4.63793230e+00 -2.09132042e+01 -1.15234509e+01 -2.20690289e+01\n",
      " -1.75679445e+00  5.12456942e+00 -2.15496230e+00 -1.09375753e+01\n",
      "  2.12163115e+00  9.12866890e-01 -3.71914911e+00 -3.94729471e+00\n",
      " -1.66338730e+01  1.94038248e+00 -7.27726221e+00  1.74404418e+00\n",
      " -1.95446396e+01 -3.83208418e+00 -2.05550709e+01 -2.27185154e+01\n",
      "  8.69701982e-01 -8.01021957e+00 -2.09367046e+01 -6.99175549e+00\n",
      " -5.49473333e+00 -6.42701101e+00 -3.69392657e+00  2.01718974e+00\n",
      " -2.32041693e+00 -4.77307701e+00 -1.61676657e+00 -1.11319923e+00\n",
      " -2.17021847e+01 -6.42785668e-01 -2.05835342e+01 -1.77301846e+01\n",
      " -2.17039261e+01  1.14570665e+01 -1.13463011e+01 -2.96559095e-01\n",
      " -1.10393171e+01 -7.83244753e+00  1.38743281e+00 -1.13805733e+01\n",
      " -6.49917126e+00 -2.19146233e+01 -1.25162017e+00 -1.70721359e+01\n",
      " -7.66476059e+00 -7.14520216e-01 -7.21723938e+00 -3.65798759e+00\n",
      "  2.20852828e+00 -2.38539553e+00 -3.15043235e+00  9.74887311e-01\n",
      "  5.83177423e+00 -8.39751184e-01 -1.30622454e+01 -6.28521204e+00\n",
      " -3.79739666e+00 -2.48222370e+01 -1.33533506e+01 -7.00898588e-01\n",
      " -4.83078861e+00 -1.21363916e+01 -2.41005516e+00  7.01557970e+00\n",
      " -1.40698156e+01  1.78480017e+00  2.34288359e+00 -4.60152102e+00\n",
      " -2.23559022e+00 -2.53592134e+00 -1.63309269e+01 -6.11649036e+00\n",
      " -1.13113232e+01 -7.11940432e+00  2.20579472e+01  8.52729416e+00\n",
      "  3.69395065e+00 -4.98180056e+00 -2.89571972e+01 -8.71953583e+00\n",
      " -8.67519188e+00 -4.77742672e+00 -9.77404237e-01 -3.07108040e+01\n",
      " -2.69193058e+01 -4.23273659e+01 -9.84765148e+00  4.10628271e+00\n",
      " -6.73259974e+00  2.78374052e+00 -1.75703907e+00 -1.54534121e+01\n",
      "  3.55218935e+00 -2.08617973e+01 -2.54887886e+01 -2.33519459e+01\n",
      " -3.62665558e+01 -1.82541523e+01 -2.57114506e+00 -1.70938849e+00\n",
      " -5.30545807e+00  3.18605900e-01 -3.18052139e+01  1.45861349e+01\n",
      " -2.25450732e-02 -1.43408709e+01  1.03402758e+00 -6.54324949e-01\n",
      " -1.45516586e+01 -1.13484144e+00 -4.16195965e+00 -1.74166565e+01\n",
      " -4.45538664e+00 -3.91874962e+01 -1.46873331e+01  1.30916417e+00\n",
      " -2.48402309e+01  5.45362234e-01 -8.51312733e+00 -2.86414123e+00\n",
      " -6.17423725e+00 -9.97634888e+00 -5.51597416e-01 -1.07655115e+01\n",
      " -1.42105045e+01 -6.53982019e+00 -4.42078743e+01 -1.56402912e+01\n",
      " -1.47255840e+01 -4.45121241e+00 -3.80667639e+00  4.17945147e+00\n",
      " -3.09004955e+01  2.62537301e-01 -2.70214043e+01  9.89670753e-01\n",
      "  8.21085835e+00 -4.22488117e+00 -1.60574722e+01 -1.47365694e+01\n",
      " -1.10566673e+01  7.56081104e-01 -2.61226006e+01 -2.84647408e+01\n",
      " -1.34521952e+01 -2.16175199e+00 -2.88622570e+00 -6.10448313e+00\n",
      "  9.74004459e+00  8.03925419e+00  7.54393148e+00 -2.31145706e+01\n",
      " -4.13356686e+00 -3.44494858e+01  1.82458878e+00 -2.30139866e+01\n",
      " -5.78227472e+00 -2.52605724e+01 -1.79823208e+01 -2.38140221e+01\n",
      " -6.52169514e+00 -7.12440014e+00  1.33157110e+01 -4.22524500e+00\n",
      " -1.17470999e+01 -2.46497746e+01 -8.52098179e+00  1.90371454e+00\n",
      "  2.69375038e+00 -3.76770897e+01 -2.27779942e+01  3.66364169e+00\n",
      " -2.70510411e+00 -4.87290907e+00 -4.84643984e+00 -2.50645027e+01\n",
      " -7.95815516e+00 -1.35833654e+01 -2.52027893e+01 -1.62810860e+01\n",
      " -7.12318945e+00]' has dtype incompatible with int64, please explicitly cast to a compatible dtype first.\n",
      "  preds[val_index] = model.predict(dval_i)\n"
     ]
    },
    {
     "name": "stderr",
     "output_type": "stream",
     "text": [
      "\r",
      " 90%|███████████████████████████████████████████████████████████████████████████████████████████████████████████████████████████████████████████████████████████████████████████████████████████████████████▊                      | 9/10 [04:11<00:26, 26.51s/it]"
     ]
    },
    {
     "name": "stderr",
     "output_type": "stream",
     "text": [
      "C:\\Users\\81809\\AppData\\Local\\Temp\\ipykernel_24208\\3386215446.py:18: FutureWarning: Setting an item of incompatible dtype is deprecated and will raise an error in a future version of pandas. Value '[ 1.90621338e+01  1.27611649e+00 -1.06526527e+01  1.03841963e+01\n",
      "  4.86008835e+00  1.62291832e+01  2.15493011e+00  5.23495007e+00\n",
      "  4.46771812e+00  1.82379818e+01 -1.42101603e+01 -4.57431734e-01\n",
      "  1.81419563e+00 -3.34631872e+00 -2.16134787e+00  4.33196974e+00\n",
      "  1.31605566e+00  5.61112452e+00 -2.09469628e+00 -3.80559039e+00\n",
      " -3.34301293e-01  3.84279490e+00  2.78108025e+00  2.11096897e+01\n",
      "  1.83683729e+00  2.45284748e+00 -8.65991235e-01 -3.66110754e+00\n",
      "  1.52120457e+01  3.36003065e+00 -5.62546635e+00  6.82899666e+00\n",
      "  3.29733968e+00  3.56820631e+00  7.51266336e+00  4.25564671e+00\n",
      "  2.58614826e+01 -1.51229227e+00  1.91214695e+01  1.79571075e+01\n",
      "  2.22162151e+01 -6.70719528e+00 -2.44275779e-01  7.33602667e+00\n",
      "  1.42886615e+00  1.69593740e+00  6.06303501e+00 -4.26075983e+00\n",
      "  8.30844688e+00 -9.71857846e-01 -2.66055942e+00  6.17148399e+00\n",
      " -1.97597904e+01  2.69122200e+01  4.73941183e+00 -3.07165241e+00\n",
      "  1.73034000e+01 -4.27057058e-01 -1.73816061e+00  4.78031969e+00\n",
      "  3.08724046e-01  2.62917733e+00 -2.60714531e-01  6.74954891e+00\n",
      "  7.48769522e-01  7.77457666e+00 -3.49343324e+00  1.54227419e+01\n",
      "  1.88444386e+01  1.07468510e+00  1.76523457e+01  2.67801785e+00\n",
      "  1.34171212e+00 -1.19896164e+01  2.72372103e+00  5.61822939e+00\n",
      "  1.96628914e+01  8.36618900e+00  4.88251400e+00 -6.48806953e+00\n",
      " -8.17677975e-01 -8.52394462e-01 -4.10295534e+00 -2.00883460e+00\n",
      " -2.69080591e+00  3.26843500e+00  6.40425920e+00  2.21200633e+00\n",
      " -1.73478413e+01 -3.47178793e+00  3.30560422e+00  2.03998260e+01\n",
      "  4.03522819e-01  1.06571951e+01  3.90743986e-02  7.91188860e+00\n",
      " -1.80567652e-01  5.74417353e+00  9.66007900e+00 -4.04357529e+00\n",
      "  8.69296360e+00  2.11226139e+01  5.11191750e+00 -1.54956427e+01\n",
      "  1.47217870e+00  8.35929155e-01  4.83660984e+00  5.11921549e+00\n",
      "  1.38697755e+00  5.46832204e-01 -8.85690510e-01  2.93252921e+00\n",
      " -2.57921004e+00  2.43672490e-01  1.79981470e-01 -4.28324556e+00\n",
      "  8.80925179e+00 -2.63653135e+00  2.11810455e+01  2.31634998e+01\n",
      "  1.04164267e+01 -3.47994256e+00 -4.75110149e+00 -1.19900048e+00\n",
      "  5.93192530e+00  2.02740526e+00  1.04179525e+00 -2.12653327e+00\n",
      "  1.12376156e+01  1.92904797e+01 -1.98640597e+00  8.38960767e-01\n",
      "  2.32056469e-01  1.47913575e+00 -2.23504486e+01  6.57198954e+00\n",
      "  3.83539152e+00  3.09413934e+00  4.09072113e+00  1.19851856e+01\n",
      "  2.31699610e+00  1.21952381e+01 -3.95028210e+00  4.02028656e+01\n",
      "  1.63307037e+01 -1.22490635e+01  1.52841892e+01  5.11977005e+00\n",
      " -6.52808666e+00  2.19046440e+01  2.41241550e+01  1.16744480e+01\n",
      "  2.28585854e+01  2.36472130e+01 -1.23513424e+00  8.40459538e+00\n",
      "  5.61527252e+00  1.72108784e+01  6.75248528e+00  2.90416837e+00\n",
      "  8.53653908e+00  3.65229487e-01  1.40511112e+01 -8.30434322e+00\n",
      "  1.96025143e+01  1.48941860e+01 -3.27521062e+00  2.70649362e+00\n",
      " -5.21457529e+00  2.74791670e+00  1.09610844e+01  6.10976458e-01\n",
      "  2.57722836e+01  2.20182877e+01  3.46628022e+00  2.35737915e+01\n",
      "  3.41238427e+00  1.55481482e+00  1.11645784e+01  4.29150162e+01\n",
      "  5.86194563e+00  3.83122368e+01  1.27305298e+01 -4.94856983e-02\n",
      "  2.76224670e+01  1.31811495e+01  7.41167784e+00  2.91597748e+01\n",
      "  7.08807373e+00  4.74624634e+00  8.92745781e+00  2.79782505e+01\n",
      "  1.95950605e-02  9.74668694e+00 -4.19076872e+00  1.46248684e+01\n",
      " -5.81215906e+00  2.27374625e+00  1.23841038e+01  1.50464640e+01\n",
      "  8.32517147e+00  3.60486984e+01  2.97776461e-01  2.85152607e+01\n",
      "  1.38676338e+01  4.94814634e+00  4.23934555e+00  3.82460642e+00\n",
      "  1.18538933e+01  2.92407970e+01  2.43660412e+01  8.89209175e+00\n",
      "  3.38359108e+01  2.85209827e+01  3.60748434e+00  1.82417238e+00\n",
      "  1.73168087e+01  7.34378386e+00 -1.16543388e+01  1.18932188e+00\n",
      "  1.89106560e+01  4.96344614e+00 -1.26057310e+01  2.60546970e+01\n",
      "  2.53220701e+00  7.87817717e+00  3.07741337e+01  2.77408276e+01\n",
      "  3.48856735e+01  3.43685875e+01  2.70104885e+01  6.29280567e+00\n",
      "  6.46618080e+00  1.15877991e+01  2.15713902e+01  2.60153503e+01\n",
      "  1.07842665e+01  1.11134613e+00 -7.04140186e+00  5.23868322e+00\n",
      "  8.68533421e+00  2.35731640e+01  9.50712967e+00  3.41994095e+01\n",
      "  2.69062366e+01  9.91061783e+00  2.88864756e+00  2.58065605e+01\n",
      "  1.87128696e+01  1.27842531e+01  2.38661599e+00 -1.04559555e+01\n",
      "  5.63277149e+00  1.36298227e+00  2.00714989e+01  2.58820858e+01\n",
      "  8.17621136e+00 -5.30821204e-01  1.15276837e+00  1.18766952e+00\n",
      " -6.46107912e+00 -1.94788761e+01  6.32466173e+00 -3.55444527e+00\n",
      "  2.37322855e+00 -5.59809875e+00 -1.53680897e+01  7.76491022e+00\n",
      "  3.32330322e+00  1.02338815e+00  1.30286560e+01  4.29408932e+00\n",
      " -2.80007534e+01 -3.01381254e+00 -1.74687111e+00 -3.16091824e+00\n",
      " -4.61912155e+00 -2.95410466e+00  2.52823681e-01 -2.01588364e+01\n",
      "  4.43382359e+00 -3.21361709e+00 -2.09881878e+01 -1.41729200e+00\n",
      "  2.81132370e-01  5.71404839e+00 -7.66315794e+00 -2.49542499e+00\n",
      "  1.18830037e+00 -6.35725784e+00 -6.44469023e+00 -2.86787262e+01\n",
      " -2.59190578e+01 -7.33494854e+00 -5.01751137e+00  4.56273127e+00\n",
      "  1.15278029e+00 -1.34755964e+01 -9.56671536e-02 -1.07101798e+00\n",
      " -3.76395464e-01 -5.64444256e+00  4.95137405e+00  5.85073054e-01\n",
      " -3.60180616e+00 -1.16152086e+01 -1.49729109e+01  1.12657094e+00\n",
      " -4.21710443e+00 -2.28675060e+01 -2.60288262e+00 -2.40283561e+00\n",
      " -1.25305212e+00 -3.31442499e+00 -7.03488302e+00 -2.11413441e+01\n",
      "  2.55660319e+00  5.81399083e-01 -4.26998091e+00 -3.93106103e+00\n",
      " -1.34224834e+01  5.94665146e+00 -7.36454487e+00 -2.76748133e+00\n",
      " -1.57520115e+00  5.48733139e+00  1.97760910e-01 -9.09758687e-01\n",
      "  9.47866726e+00 -4.45620441e+00 -1.75408916e+01 -8.52991581e-01\n",
      "  9.47449684e-01  8.47295523e-01 -2.60985446e+00 -8.51709366e+00\n",
      " -6.62265182e-01 -2.05070553e+01 -4.70474148e+00 -1.58527937e+01\n",
      " -1.32137909e+01 -3.51518035e+00  1.25175076e+01 -3.94891667e+00\n",
      " -6.34969568e+00  3.20632005e+00  4.73478127e+00 -4.53457403e+00\n",
      "  3.15178603e-01  1.55398941e+00 -1.40532207e+01  6.32884550e+00\n",
      " -5.16835403e+00 -2.15312719e+00 -5.53885174e+00 -3.51032233e+00\n",
      " -1.68741655e+00 -5.19732666e+00 -2.12682104e+00 -2.35194016e+00\n",
      " -7.96112061e+00  1.99778104e+00 -1.22542632e+00 -2.48853874e+01\n",
      " -5.78394830e-01  6.48366213e+00 -7.47658300e+00  9.69760418e+00\n",
      " -3.45126152e+00 -2.23722095e+01 -2.23541145e+01 -4.84944820e+00\n",
      " -1.88171637e+00 -4.41375923e+00  3.45670223e+00  8.75803590e-01\n",
      " -1.18729496e+01 -4.82956791e+00 -6.05980444e+00 -1.78380919e+00\n",
      " -2.98494453e+01 -4.80002022e+00 -5.75372553e+00  1.45288453e-01\n",
      " -1.23630476e+00  2.34654856e+00 -2.57815533e+01  2.04799795e+00\n",
      " -4.91156149e+00  1.67269075e+00 -1.05732241e+01  1.22766047e+01\n",
      "  8.24380302e+00 -7.13834381e+00 -2.53601322e+01 -5.30338764e+00\n",
      " -3.30027695e+01 -3.67755508e+01 -1.94969463e+01 -7.28654957e+00\n",
      " -1.75843849e+01 -2.34779301e+01 -2.62427406e+01 -1.39158230e+01\n",
      "  1.12308044e+01  8.15198481e-01 -3.33405399e+00 -3.40320897e+00\n",
      "  8.10269564e-02 -6.78889084e+00 -3.19964671e+00 -2.62233186e+00\n",
      " -5.70307016e+00 -1.30923223e+00 -2.23943539e+01 -1.92233257e+01\n",
      " -5.29706144e+00 -1.66916370e+01 -4.81675720e+00 -1.31129861e+00\n",
      " -1.83008347e+01 -1.57647038e+00 -1.52292786e+01 -1.37833214e+01\n",
      " -3.08510184e-01 -1.97045822e+01 -4.53455114e+00  7.74416447e+00\n",
      "  1.32555377e+00 -8.64817142e+00 -1.52046216e+00 -2.59863968e+01\n",
      " -1.06348085e+01  2.32245655e+01 -6.11109829e+00 -1.56123314e+01\n",
      " -2.44791341e+00 -1.27432795e+01  1.36342466e+00 -1.32681513e+01\n",
      " -4.19116020e+00 -2.82793713e+01 -3.45783005e+01 -6.77939129e+00\n",
      " -5.96980000e+00 -6.84109259e+00 -4.22151222e+01  1.16950119e+00\n",
      " -8.51771355e+00 -4.62844324e+00 -1.28287401e+01  8.78793049e+00\n",
      " -4.55688715e+00 -2.79721622e+01 -1.11838341e+01 -2.74564037e+01\n",
      "  3.06319404e+00 -2.65430107e+01  2.49416876e+00 -4.44242525e+00\n",
      " -1.01559105e+01 -3.33558922e+01 -7.38446665e+00  1.12821398e+01\n",
      "  1.00558996e+01  6.85869336e-01 -3.35254478e+01 -1.12599344e+01\n",
      " -4.86474609e+00 -2.06993723e+00 -1.50614405e+01 -1.73386936e+01\n",
      " -4.64166737e+00 -2.95176849e+01  1.13277979e+01 -6.58436584e+00\n",
      " -6.78518867e+00 -1.11514306e+00 -2.13963318e+00  2.30412750e+01\n",
      " -3.53370628e+01 -2.61100330e+01 -1.19474115e+01  5.52091885e+00\n",
      "  1.26348698e+00  3.45539999e+00 -7.89462757e+00 -2.25674038e+01\n",
      "  1.00034275e+01 -2.43713989e+01 -1.47282429e+01 -2.20233212e+01\n",
      "  1.40684223e+00]' has dtype incompatible with int64, please explicitly cast to a compatible dtype first.\n",
      "  preds[val_index] = model.predict(dval_i)\n"
     ]
    },
    {
     "name": "stderr",
     "output_type": "stream",
     "text": [
      "\r",
      "100%|█████████████████████████████████████████████████████████████████████████████████████████████████████████████████████████████████████████████████████████████████████████████████████████████████████████████████████████████| 10/10 [04:38<00:00, 26.84s/it]"
     ]
    },
    {
     "name": "stderr",
     "output_type": "stream",
     "text": [
      "\r",
      "100%|█████████████████████████████████████████████████████████████████████████████████████████████████████████████████████████████████████████████████████████████████████████████████████████████████████████████████████████████| 10/10 [04:38<00:00, 27.89s/it]"
     ]
    },
    {
     "name": "stdout",
     "output_type": "stream",
     "text": [
      "OOF predictions complete\n"
     ]
    },
    {
     "name": "stderr",
     "output_type": "stream",
     "text": [
      "\n"
     ]
    }
   ],
   "source": [
    "# OOF予測\n",
    "oof_preds = []\n",
    "for i in tqdm(range(repeat_cv), leave=True, dynamic_ncols=True):\n",
    "    # 初期はターゲットの値で初期化（後で上書き）\n",
    "    preds = y.copy()\n",
    "    # 各 repeater 毎に独自の KFold を用いる（random_state = i）\n",
    "    kfold = KFold(n_splits=folds_splits, shuffle=True, random_state=i)    \n",
    "    for train_index, val_index in kfold.split(X, y):\n",
    "        dtrain_i = xgb.DMatrix(X.iloc[train_index], label=y.iloc[train_index])\n",
    "        dval_i   = xgb.DMatrix(X.iloc[val_index], label=y.iloc[val_index])\n",
    "\n",
    "        model = xgb.train(\n",
    "            params=param,\n",
    "            dtrain=dtrain_i,\n",
    "            num_boost_round=iteration_counts[i],\n",
    "            verbose_eval=50\n",
    "        )\n",
    "        preds[val_index] = model.predict(dval_i)\n",
    "    # 予測値を -30 ～ 30 にクリップ\n",
    "    oof_preds.append(np.clip(preds, -30, 30))\n",
    "\n",
    "print(\"OOF predictions complete\")"
   ]
  },
  {
   "cell_type": "code",
   "execution_count": 23,
   "id": "b6987f2f",
   "metadata": {
    "execution": {
     "iopub.execute_input": "2025-03-13T12:51:50.990313Z",
     "iopub.status.busy": "2025-03-13T12:51:50.990313Z",
     "iopub.status.idle": "2025-03-13T12:51:51.109181Z",
     "shell.execute_reply": "2025-03-13T12:51:51.109181Z"
    },
    "papermill": {
     "duration": 0.145009,
     "end_time": "2025-03-13T12:51:51.109181",
     "exception": false,
     "start_time": "2025-03-13T12:51:50.964172",
     "status": "completed"
    },
    "tags": []
   },
   "outputs": [
    {
     "data": {
      "text/plain": [
       "<Axes: >"
      ]
     },
     "execution_count": 23,
     "metadata": {},
     "output_type": "execute_result"
    },
    {
     "data": {
      "image/png": "[encoded data removed]",
      "text/plain": [
       "<Figure size 640x480 with 1 Axes>"
      ]
     },
     "metadata": {},
     "output_type": "display_data"
    }
   ],
   "source": [
    "oof_preds[0].hist()"
   ]
  },
  {
   "cell_type": "code",
   "execution_count": 24,
   "id": "b35b9c46",
   "metadata": {
    "execution": {
     "iopub.execute_input": "2025-03-13T12:51:51.146021Z",
     "iopub.status.busy": "2025-03-13T12:51:51.146021Z",
     "iopub.status.idle": "2025-03-13T12:51:51.171706Z",
     "shell.execute_reply": "2025-03-13T12:51:51.171706Z"
    },
    "papermill": {
     "duration": 0.044642,
     "end_time": "2025-03-13T12:51:51.171706",
     "exception": false,
     "start_time": "2025-03-13T12:51:51.127064",
     "status": "completed"
    },
    "tags": []
   },
   "outputs": [],
   "source": [
    "### simple spline, seed(1, 16)~(4, 13)は強制的にfiltaring,  \n",
    "### seed値に対応して予測スコアも同じ大小関係なら1or0に変換の3モデル\n",
    "def cal_logloss(pred_vals, y, i):\n",
    "    y_binary = np.where(y > 0, 1, 0)\n",
    "    loss = log_loss(y_binary, pred_vals)\n",
    "    print(f\"logloss of cvsplit {i}: {loss:.4f}\")\n",
    "\n",
    "\n",
    "    results.append(f\"Normal Spline - logloss of cvsplit {i}: {loss:.4f}\")\n",
    "    return loss\n",
    "\n",
    "#simple spline\n",
    "def make_normal_spline(df, y, repeat_cv):\n",
    "    spline_model1 = []\n",
    "    logloss_normal = []\n",
    "    \n",
    "    for i in range(repeat_cv):\n",
    "        dat = list(zip(df[i], np.where(y>0, 1, 0)))\n",
    "        dat = sorted(dat, key=lambda x:x[0])\n",
    "        datdict = {}\n",
    "        for k in range(len(dat)):\n",
    "            datdict[dat[k][0]] = dat[k][1]\n",
    "        \n",
    "        spline_model1.append(UnivariateSpline(list(datdict.keys()), list(datdict.values())))\n",
    "        spline_fit = spline_model1[i](df[i])\n",
    "        \n",
    "        loss = cal_logloss(spline_fit, y, i)    \n",
    "        logloss_normal.append(loss)\n",
    "\n",
    "    plot_df = pd.DataFrame({\n",
    "        \"pred\": df[0],\n",
    "        \"label\": np.where(y>0,1,0),\n",
    "        \"spline\": spline_model1[0](df[0])\n",
    "    })\n",
    "    plot_df[\"pred_int\"] = plot_df[\"pred\"].astype(int)\n",
    "    plot_df = plot_df.groupby('pred_int')[['spline','label']].mean().reset_index()\n",
    "    \n",
    "    plt.figure(figsize=(8, 5))\n",
    "    plt.plot(plot_df.pred_int, plot_df.label, marker='o', linestyle='-', label=\"True Label\")\n",
    "    plt.plot(plot_df.pred_int, plot_df.spline, marker='x', linestyle='--', label=\"Spline Approximation\")\n",
    "    plt.xlabel(\"Predicted Value (Integer)\")\n",
    "    plt.ylabel(\"Mean Value\")\n",
    "    plt.title(\"Normal Spline Fit Comparison\")\n",
    "    plt.legend()\n",
    "    plt.grid(True)\n",
    "    plt.savefig(os.path.join(OUTPUT_PATH, f\"normal_spline_fit_{PREDICT_YEAR}.png\"))\n",
    "    plt.close()\n",
    "    \n",
    "    \n",
    "    # 例として平均loglossもresultsに記録\n",
    "    avg_logloss = np.mean(logloss_normal) \n",
    "    results.append(f\"Average Normal Spline logloss: {avg_logloss:.4f}\" if avg_logloss is not None else \"No logloss computed\")\n",
    "    \n",
    "    return spline_model1\n",
    "            \n",
    "            \n",
    "#seed(1, 16)~(4, 13)は強制的にseed通りの結果にフィルタリング\n",
    "def make_seed1to4_chenge(df, y, repeat_cv):\n",
    "    spline_model2 = []\n",
    "    spline_fits = []\n",
    "    for i in range(repeat_cv):\n",
    "        dat = list(zip(df[i], np.where(y>0, 1, 0)))\n",
    "        dat = sorted(dat, key=lambda x:x[0])\n",
    "        datdict = {}\n",
    "        for k in range(len(dat)):\n",
    "            datdict[dat[k][0]] = dat[k][1]\n",
    "        \n",
    "        spline_model2.append(UnivariateSpline(list(datdict.keys()), list(datdict.values())))\n",
    "        spline_fit = spline_model2[i](df[i]) \n",
    "        \n",
    "        #add\n",
    "        spline_fit[(X.T1_seed==1) & (X.T2_seed==16)] = 1.0\n",
    "        spline_fit[(X.T1_seed==2) & (X.T2_seed==15)] = 0.9\n",
    "        spline_fit[(X.T1_seed==3) & (X.T2_seed==14)] = 0.8\n",
    "        spline_fit[(X.T1_seed==4) & (X.T2_seed==13)] = 0.7\n",
    "        spline_fit[(X.T1_seed==16) & (X.T2_seed==1)] = 0.0\n",
    "        spline_fit[(X.T1_seed==15) & (X.T2_seed==2)] = 0.1\n",
    "        spline_fit[(X.T1_seed==14) & (X.T2_seed==3)] = 0.2\n",
    "        spline_fit[(X.T1_seed==13) & (X.T2_seed==4)] = 0.3\n",
    "\n",
    "    \n",
    "        cal_logloss(spline_fit, y, i)   \n",
    "                \n",
    "        spline_fits.append(spline_fit)\n",
    "        cal_logloss(spline_fit, y, i)   \n",
    "                \n",
    "    \n",
    "    plot_df = pd.DataFrame({\n",
    "        \"pred\": df[0],\n",
    "        \"label\": np.where(y > 0, 1, 0),\n",
    "        \"spline\": spline_fits[0]  # 変更後の値を利用\n",
    "    })\n",
    "    plot_df[\"pred_int\"] = plot_df[\"pred\"].astype(int)\n",
    "    plot_df = plot_df.groupby(\"pred_int\")[[\"spline\", \"label\"]].mean().reset_index()\n",
    "\n",
    "    plt.figure()\n",
    "    plt.plot(plot_df.pred_int, plot_df.label, label=\"label\")\n",
    "    plt.plot(plot_df.pred_int, plot_df.spline, label=\"spline\")\n",
    "    plt.legend()\n",
    "    plt.show()\n",
    "    \n",
    "    return spline_model2\n",
    "    \n",
    "    \n",
    "#完全に値変換するのではなくてseed値に対応して予測スコアも同じ大小関係なら1or0に変換\n",
    "def make_seed1to4_base_on_score(df, y, repeat_cv):\n",
    "    spline_model3 = []\n",
    "    spline_fits = []\n",
    "\n",
    "    for i in range(repeat_cv):\n",
    "        dat = list(zip(df[i], np.where(y>0, 1, 0)))\n",
    "        dat = sorted(dat, key=lambda x:x[0])\n",
    "        datdict = {}\n",
    "        for k in range(len(dat)):\n",
    "            datdict[dat[k][0]] = dat[k][1]\n",
    "        \n",
    "        spline_model3.append(UnivariateSpline(list(datdict.keys()), list(datdict.values())))\n",
    "        spline_fit = spline_model3[i](df[i]) \n",
    "        \n",
    "        #add\n",
    "        spline_fit[(X.T1_seed==1) & (X.T2_seed==16) & (X.T1_Score > X.T2_Score)] = 1.0\n",
    "        spline_fit[(X.T1_seed==2) & (X.T2_seed==15) & (X.T1_Score > X.T2_Score)] = 1.0\n",
    "        spline_fit[(X.T1_seed==3) & (X.T2_seed==14) & (X.T1_Score > X.T2_Score)] = 1.0\n",
    "        spline_fit[(X.T1_seed==4) & (X.T2_seed==13) & (X.T1_Score > X.T2_Score)] = 1.0\n",
    "        spline_fit[(X.T1_seed==16) & (X.T2_seed==1) & (X.T1_Score < X.T2_Score)] = 0.0\n",
    "        spline_fit[(X.T1_seed==15) & (X.T2_seed==2) & (X.T1_Score < X.T2_Score)] = 0.0\n",
    "        spline_fit[(X.T1_seed==14) & (X.T2_seed==3) & (X.T1_Score < X.T2_Score)] = 0.0\n",
    "        spline_fit[(X.T1_seed==13) & (X.T2_seed==4) & (X.T1_Score < X.T2_Score)] = 0.0\n",
    "\n",
    "        spline_fits.append(spline_fit)\n",
    "        cal_logloss(spline_fit, y, i)   \n",
    "    \n",
    "    \n",
    "    plot_df = pd.DataFrame({\n",
    "        \"pred\": df[0],\n",
    "        \"label\": np.where(y > 0, 1, 0),\n",
    "        \"spline\": spline_fits[0]  # 変更後の値を利用\n",
    "    })\n",
    "    plot_df[\"pred_int\"] = plot_df[\"pred\"].astype(int)\n",
    "    plot_df = plot_df.groupby(\"pred_int\")[[\"spline\", \"label\"]].mean().reset_index()\n",
    "\n",
    "    plt.figure()\n",
    "    plt.plot(plot_df.pred_int, plot_df.label, label=\"label\")\n",
    "    plt.plot(plot_df.pred_int, plot_df.spline, label=\"spline\")\n",
    "    plt.legend()\n",
    "    plt.show()\n",
    "    return spline_model3\n",
    "\n",
    "\n",
    "\n",
    "# Platt Scalingを用いた補正曲線生成の関数 (ロジスティック回帰)\n",
    "def make_platt_scaling(df, y, repeat_cv):\n",
    "    platt_models = []\n",
    "    logloss_platt = []\n",
    "    \n",
    "    for i in range(repeat_cv):\n",
    "        X_train = np.array(df[i]).reshape(-1, 1)\n",
    "        y_binary = np.where(y > 0, 1, 0)\n",
    "        \n",
    "        model = LogisticRegression(random_state=42, solver='lbfgs')\n",
    "        model.fit(X_train, y_binary)\n",
    "        platt_models.append(model)\n",
    "        \n",
    "\n",
    "        platt_fit = model.predict_proba(X_train)[:, 1]\n",
    "        loss = cal_logloss(platt_fit, y, i)\n",
    "        logloss_platt.append(loss)\n",
    "    \n",
    "    \n",
    "    ###\n",
    "    plot_df = pd.DataFrame({\n",
    "        \"pred\": df[0],\n",
    "        \"label\": np.where(y > 0, 1, 0),\n",
    "        \"platt\": platt_models[0].predict_proba(np.array(df[0]).reshape(-1, 1))[:, 1]\n",
    "    })\n",
    "    plot_df[\"pred_int\"] = plot_df[\"pred\"].astype(int)\n",
    "    plot_df = plot_df.groupby(\"pred_int\")[[\"platt\", \"label\"]].mean().reset_index()\n",
    "    \n",
    "    plt.figure(figsize=(8, 5))\n",
    "    plt.plot(plot_df.pred_int, plot_df.label, marker='o', linestyle='-', label=\"True Label\")\n",
    "    plt.plot(plot_df.pred_int, plot_df.platt, marker='x', linestyle='--', label=\"Platt Scaling\")\n",
    "    plt.xlabel(\"Predicted Value (Integer)\")\n",
    "    plt.ylabel(\"Mean Value\")\n",
    "    plt.title(\"Platt Scaling Calibration Curve\")\n",
    "    plt.legend()\n",
    "    plt.grid(True)\n",
    "    plt.savefig(os.path.join(OUTPUT_PATH, f\"platt_scaling_fit_{PREDICT_YEAR}.png\"))\n",
    "    plt.close()\n",
    "    \n",
    "    avg_logloss = np.mean(logloss_platt)\n",
    "    results.append(f\"Average Platt Scaling logloss: {avg_logloss:.4f}\" if avg_logloss is not None else \"No logloss computed\")\n",
    "    \n",
    "    return platt_models\n",
    "\n",
    "def make_isotonic_regression(df, y, repeat_cv):\n",
    "    \"\"\" Isotonic Regression を用いた補正曲線生成 \"\"\"\n",
    "    isotonic_models = []\n",
    "    logloss_isotonic = []\n",
    "    \n",
    "    for i in range(repeat_cv):\n",
    "        X_train = np.array(df[i]).reshape(-1, 1)\n",
    "        y_binary = np.where(y > 0, 1, 0)\n",
    "        \n",
    "        model = IsotonicRegression(out_of_bounds=\"clip\")\n",
    "        model.fit(X_train.ravel(), y_binary)\n",
    "        isotonic_models.append(model)\n",
    "        \n",
    "        isotonic_fit = model.predict(X_train.ravel())\n",
    "        loss = cal_logloss(isotonic_fit, y, i)\n",
    "        logloss_isotonic.append(loss)\n",
    "    \n",
    "    plot_df = pd.DataFrame({\n",
    "        \"pred\": df[0],\n",
    "        \"label\": np.where(y > 0, 1, 0),\n",
    "        \"isotonic\": isotonic_models[0].predict(np.array(df[0]).reshape(-1, 1))\n",
    "    })\n",
    "    plot_df[\"pred_int\"] = plot_df[\"pred\"].astype(int)\n",
    "    plot_df = plot_df.groupby(\"pred_int\")[[\"isotonic\", \"label\"]].mean().reset_index()\n",
    "    \n",
    "    plt.figure(figsize=(8, 5))\n",
    "    plt.plot(plot_df.pred_int, plot_df.label, marker='o', linestyle='-', label=\"True Label\")\n",
    "    plt.plot(plot_df.pred_int, plot_df.isotonic, marker='x', linestyle='--', label=\"Isotonic Regression\")\n",
    "    plt.xlabel(\"Predicted Value (Integer)\")\n",
    "    plt.ylabel(\"Mean Value\")\n",
    "    plt.title(\"Isotonic Regression Calibration Curve\")\n",
    "    plt.legend()\n",
    "    plt.grid(True)\n",
    "    plt.savefig(os.path.join(OUTPUT_PATH, f\"isotonic_regression_fit_{PREDICT_YEAR}.png\"))\n",
    "    plt.close()\n",
    "    \n",
    "    avg_logloss = np.mean(logloss_isotonic)\n",
    "    results.append(f\"Average Isotonic Regression logloss: {avg_logloss:.4f}\" if avg_logloss is not None else \"No logloss computed\")\n",
    "    \n",
    "    return isotonic_models\n",
    "\n"
   ]
  },
  {
   "cell_type": "code",
   "execution_count": 25,
   "id": "05c79f96",
   "metadata": {
    "execution": {
     "iopub.execute_input": "2025-03-13T12:51:51.205658Z",
     "iopub.status.busy": "2025-03-13T12:51:51.205658Z",
     "iopub.status.idle": "2025-03-13T12:51:51.210715Z",
     "shell.execute_reply": "2025-03-13T12:51:51.210715Z"
    },
    "papermill": {
     "duration": 0.023099,
     "end_time": "2025-03-13T12:51:51.211723",
     "exception": false,
     "start_time": "2025-03-13T12:51:51.188624",
     "status": "completed"
    },
    "tags": []
   },
   "outputs": [],
   "source": [
    "# キャリブレーションカーブの描画関数\n",
    "def plot_calibration_curve(y_true, y_pred_proba, method, save_path):\n",
    "    \"\"\" キャリブレーションカーブをプロットし保存 \"\"\"\n",
    "    y_binary = np.where(y_true > 0, 1, 0) \n",
    "    prob_true, prob_pred = calibration_curve(y_binary, y_pred_proba, n_bins=10)\n",
    "    \n",
    "    plt.figure(figsize=(6,6))\n",
    "    plt.plot(prob_pred, prob_true, marker=\"o\", label=f\"{method} Calibration\")\n",
    "    plt.plot([0, 1], [0, 1], linestyle=\"--\", label=\"Perfect Calibration\")\n",
    "    plt.xlabel(\"Predicted Probability\")\n",
    "    plt.ylabel(\"Actual Probability\")\n",
    "    plt.legend()\n",
    "    plt.title(f\"{method} Calibration Curve\")\n",
    "    plt.grid()\n",
    "    plt.savefig(save_path)\n",
    "    plt.close()\n",
    "\n"
   ]
  },
  {
   "cell_type": "code",
   "execution_count": 26,
   "id": "8459b352",
   "metadata": {
    "execution": {
     "iopub.execute_input": "2025-03-13T12:51:51.248801Z",
     "iopub.status.busy": "2025-03-13T12:51:51.248801Z",
     "iopub.status.idle": "2025-03-13T12:51:51.454014Z",
     "shell.execute_reply": "2025-03-13T12:51:51.454014Z"
    },
    "papermill": {
     "duration": 0.224234,
     "end_time": "2025-03-13T12:51:51.454014",
     "exception": false,
     "start_time": "2025-03-13T12:51:51.229780",
     "status": "completed"
    },
    "tags": []
   },
   "outputs": [
    {
     "name": "stdout",
     "output_type": "stream",
     "text": [
      "logloss of cvsplit 0: 0.5133\n",
      "logloss of cvsplit 1: 0.5122\n",
      "logloss of cvsplit 2: 0.5104\n",
      "logloss of cvsplit 3: 0.5080\n",
      "logloss of cvsplit 4: 0.5070\n",
      "logloss of cvsplit 5: 0.5095\n",
      "logloss of cvsplit 6: 0.5091\n",
      "logloss of cvsplit 7: 0.5103\n",
      "logloss of cvsplit 8: 0.5091\n",
      "logloss of cvsplit 9: 0.5073\n"
     ]
    }
   ],
   "source": [
    "# キャリブレーション手法の選択\n",
    "spline = MODEL.spline\n",
    "if spline == \"spline_normal\":\n",
    "    spline_model = make_normal_spline(oof_preds, y, repeat_cv)\n",
    "    calibrated_preds = spline_model[0](oof_preds[0])\n",
    "    plot_calibration_curve(y, calibrated_preds, \"Spline Normal\", os.path.join(OUTPUT_PATH, f\"spline_normal_calibration_{PREDICT_YEAR}.png\"))\n",
    "    \n",
    "elif spline == \"logistic\":\n",
    "    spline_model = make_platt_scaling(oof_preds, y, repeat_cv)\n",
    "    calibrated_preds = spline_model[0].predict_proba(np.array(oof_preds[0]).reshape(-1, 1))[:, 1]\n",
    "    plot_calibration_curve(y, calibrated_preds, \"Platt Scaling\", os.path.join(OUTPUT_PATH, f\"platt_scaling_calibration_{PREDICT_YEAR}.png\"))\n",
    "    \n",
    "elif spline == \"isotonic\":\n",
    "    spline_model = make_isotonic_regression(oof_preds, y, repeat_cv)\n",
    "    calibrated_preds = spline_model[0].predict(np.array(oof_preds[0]).reshape(-1, 1))\n",
    "    plot_calibration_curve(y, calibrated_preds, \"Isotonic Regression\", os.path.join(OUTPUT_PATH, f\"isotonic_regression_calibration_{PREDICT_YEAR}.png\"))"
   ]
  },
  {
   "cell_type": "markdown",
   "id": "31f4ac68",
   "metadata": {
    "papermill": {
     "duration": 0.015689,
     "end_time": "2025-03-13T12:51:51.485316",
     "exception": false,
     "start_time": "2025-03-13T12:51:51.469627",
     "status": "completed"
    },
    "tags": []
   },
   "source": [
    "# submmit\n",
    "\n",
    "同じfeature engineeringする.\n",
    "\n",
    "個々の扱うも考える。2025は最終提出用の関数を用意する、その他2024以前は過去コンペでの提出形式に合わせる、でも年度によって提出形式が変わるからとりあえず2023でやる"
   ]
  },
  {
   "cell_type": "code",
   "execution_count": 27,
   "id": "0a9a2125",
   "metadata": {
    "execution": {
     "iopub.execute_input": "2025-03-13T12:51:51.518028Z",
     "iopub.status.busy": "2025-03-13T12:51:51.518028Z",
     "iopub.status.idle": "2025-03-13T12:51:51.523812Z",
     "shell.execute_reply": "2025-03-13T12:51:51.523812Z"
    },
    "papermill": {
     "duration": 0.023625,
     "end_time": "2025-03-13T12:51:51.524954",
     "exception": false,
     "start_time": "2025-03-13T12:51:51.501329",
     "status": "completed"
    },
    "tags": []
   },
   "outputs": [
    {
     "data": {
      "text/plain": [
       "'if PREDICT_YEAR==2022:\\n    sub = pd.read_csv(os.path.join(INPUT_PATH, \"SampleSubmission2022M.csv\"))\\n    sub[\\'Season\\'] = sub[\\'ID\\'].apply(lambda x: int(x.split(\\'_\\')[0]))\\n    sub[\"T1_TeamID\"] = sub[\\'ID\\'].apply(lambda x: int(x.split(\\'_\\')[1]))\\n    sub[\"T2_TeamID\"] = sub[\\'ID\\'].apply(lambda x: int(x.split(\\'_\\')[2]))\\n    sub_X, a = process_tourney(sub, mode = \"sub\")\\n    dtest = xgb.DMatrix(sub_X)\\nelif PREDICT_YEAR==2023:\\n    sub = pd.read_csv(os.path.join(INPUT_PATH, \"SampleSubmission2023.csv\"))\\n    sub[\\'Season\\'] = sub[\\'ID\\'].apply(lambda x: int(x.split(\\'_\\')[0]))\\n    sub[\"T1_TeamID\"] = sub[\\'ID\\'].apply(lambda x: int(x.split(\\'_\\')[1]))\\n    sub[\"T2_TeamID\"] = sub[\\'ID\\'].apply(lambda x: int(x.split(\\'_\\')[2]))\\n    sub_X, a = process_tourney(sub, mode = \"sub\")\\n    dtest = xgb.DMatrix(sub_X)\\nelif PREDICT_YEAR==2024:\\n    sub = pd.read_csv(os.path.join(INPUT_PATH, \"SampleSubmission2024.csv\"))\\n    sub[\\'Season\\'] = sub[\\'ID\\'].apply(lambda x: int(x.split(\\'_\\')[0]))\\n    sub[\"T1_TeamID\"] = sub[\\'ID\\'].apply(lambda x: int(x.split(\\'_\\')[1]))\\n    sub[\"T2_TeamID\"] = sub[\\'ID\\'].apply(lambda x: int(x.split(\\'_\\')[2]))\\n    sub_X, a = process_tourney(sub, mode = \"sub\")\\n    dtest = xgb.DMatrix(sub_X)\\nelif PREDICT_YEAR==2025:\\n    sub = pd.read_csv(os.path.join(INPUT_PATH, \"SampleSubmissionStage2.csv\"))\\n    sub[\\'Season\\'] = sub[\\'ID\\'].apply(lambda x: int(x.split(\\'_\\')[0]))\\n    sub[\"T1_TeamID\"] = sub[\\'ID\\'].apply(lambda x: int(x.split(\\'_\\')[1]))\\n    sub[\"T2_TeamID\"] = sub[\\'ID\\'].apply(lambda x: int(x.split(\\'_\\')[2]))   \\n    sub_X, a = process_tourney(sub, mode = \"sub\")\\n    dtest = xgb.DMatrix(sub_X)'"
      ]
     },
     "execution_count": 27,
     "metadata": {},
     "output_type": "execute_result"
    }
   ],
   "source": [
    "\"\"\"if PREDICT_YEAR==2022:\n",
    "    sub = pd.read_csv(os.path.join(INPUT_PATH, \"SampleSubmission2022M.csv\"))\n",
    "    sub['Season'] = sub['ID'].apply(lambda x: int(x.split('_')[0]))\n",
    "    sub[\"T1_TeamID\"] = sub['ID'].apply(lambda x: int(x.split('_')[1]))\n",
    "    sub[\"T2_TeamID\"] = sub['ID'].apply(lambda x: int(x.split('_')[2]))\n",
    "    sub_X, a = process_tourney(sub, mode = \"sub\")\n",
    "    dtest = xgb.DMatrix(sub_X)\n",
    "elif PREDICT_YEAR==2023:\n",
    "    sub = pd.read_csv(os.path.join(INPUT_PATH, \"SampleSubmission2023.csv\"))\n",
    "    sub['Season'] = sub['ID'].apply(lambda x: int(x.split('_')[0]))\n",
    "    sub[\"T1_TeamID\"] = sub['ID'].apply(lambda x: int(x.split('_')[1]))\n",
    "    sub[\"T2_TeamID\"] = sub['ID'].apply(lambda x: int(x.split('_')[2]))\n",
    "    sub_X, a = process_tourney(sub, mode = \"sub\")\n",
    "    dtest = xgb.DMatrix(sub_X)\n",
    "elif PREDICT_YEAR==2024:\n",
    "    sub = pd.read_csv(os.path.join(INPUT_PATH, \"SampleSubmission2024.csv\"))\n",
    "    sub['Season'] = sub['ID'].apply(lambda x: int(x.split('_')[0]))\n",
    "    sub[\"T1_TeamID\"] = sub['ID'].apply(lambda x: int(x.split('_')[1]))\n",
    "    sub[\"T2_TeamID\"] = sub['ID'].apply(lambda x: int(x.split('_')[2]))\n",
    "    sub_X, a = process_tourney(sub, mode = \"sub\")\n",
    "    dtest = xgb.DMatrix(sub_X)\n",
    "elif PREDICT_YEAR==2025:\n",
    "    sub = pd.read_csv(os.path.join(INPUT_PATH, \"SampleSubmissionStage2.csv\"))\n",
    "    sub['Season'] = sub['ID'].apply(lambda x: int(x.split('_')[0]))\n",
    "    sub[\"T1_TeamID\"] = sub['ID'].apply(lambda x: int(x.split('_')[1]))\n",
    "    sub[\"T2_TeamID\"] = sub['ID'].apply(lambda x: int(x.split('_')[2]))   \n",
    "    sub_X, a = process_tourney(sub, mode = \"sub\")\n",
    "    dtest = xgb.DMatrix(sub_X)\"\"\"\n",
    "    "
   ]
  },
  {
   "cell_type": "code",
   "execution_count": 28,
   "id": "9440f58b",
   "metadata": {
    "execution": {
     "iopub.execute_input": "2025-03-13T12:51:51.561015Z",
     "iopub.status.busy": "2025-03-13T12:51:51.561015Z",
     "iopub.status.idle": "2025-03-13T12:51:51.586354Z",
     "shell.execute_reply": "2025-03-13T12:51:51.586354Z"
    },
    "papermill": {
     "duration": 0.042405,
     "end_time": "2025-03-13T12:51:51.586354",
     "exception": false,
     "start_time": "2025-03-13T12:51:51.543949",
     "status": "completed"
    },
    "tags": []
   },
   "outputs": [
    {
     "name": "stdout",
     "output_type": "stream",
     "text": [
      "no fillna, use nan\n"
     ]
    }
   ],
   "source": [
    "sub = notexist.copy()\n",
    "sub = sub.rename(columns={\"WTeamID\": \"T1_TeamID\", \"LTeamID\": \"T2_TeamID\"})\n",
    "sub = sub[[\"Season\", \"T1_TeamID\", \"T2_TeamID\"]]\n",
    "temp = sub.copy()\n",
    "temp = temp.rename(columns={\"T1_TeamID\": \"T2_TeamID\", \"T2_TeamID\": \"T1_TeamID\"})\n",
    "sub = pd.concat([sub, temp]).reset_index()\n",
    "sub_X, a = process_tourney(sub, mode=\"sub\")\n",
    "dtest = xgb.DMatrix(sub_X)"
   ]
  },
  {
   "cell_type": "code",
   "execution_count": 29,
   "id": "0a6f5503",
   "metadata": {
    "execution": {
     "iopub.execute_input": "2025-03-13T12:51:51.635331Z",
     "iopub.status.busy": "2025-03-13T12:51:51.635331Z",
     "iopub.status.idle": "2025-03-13T12:52:56.638235Z",
     "shell.execute_reply": "2025-03-13T12:52:56.638235Z"
    },
    "papermill": {
     "duration": 65.052292,
     "end_time": "2025-03-13T12:52:56.663983",
     "exception": false,
     "start_time": "2025-03-13T12:51:51.611691",
     "status": "completed"
    },
    "tags": []
   },
   "outputs": [
    {
     "name": "stderr",
     "output_type": "stream",
     "text": [
      "\r",
      "  0%|                                                                                                                                                                                                                                      | 0/10 [00:00<?, ?it/s]"
     ]
    },
    {
     "name": "stderr",
     "output_type": "stream",
     "text": [
      "\r",
      " 10%|██████████████████████▏                                                                                                                                                                                                       | 1/10 [00:06<00:55,  6.14s/it]"
     ]
    },
    {
     "name": "stderr",
     "output_type": "stream",
     "text": [
      "\r",
      " 20%|████████████████████████████████████████████▍                                                                                                                                                                                 | 2/10 [00:12<00:51,  6.47s/it]"
     ]
    },
    {
     "name": "stderr",
     "output_type": "stream",
     "text": [
      "\r",
      " 30%|██████████████████████████████████████████████████████████████████▌                                                                                                                                                           | 3/10 [00:19<00:46,  6.62s/it]"
     ]
    },
    {
     "name": "stderr",
     "output_type": "stream",
     "text": [
      "\r",
      " 40%|████████████████████████████████████████████████████████████████████████████████████████▊                                                                                                                                     | 4/10 [00:26<00:40,  6.71s/it]"
     ]
    },
    {
     "name": "stderr",
     "output_type": "stream",
     "text": [
      "\r",
      " 50%|███████████████████████████████████████████████████████████████████████████████████████████████████████████████                                                                                                               | 5/10 [00:34<00:35,  7.17s/it]"
     ]
    },
    {
     "name": "stderr",
     "output_type": "stream",
     "text": [
      "\r",
      " 60%|█████████████████████████████████████████████████████████████████████████████████████████████████████████████████████████████████████▏                                                                                        | 6/10 [00:40<00:27,  6.90s/it]"
     ]
    },
    {
     "name": "stderr",
     "output_type": "stream",
     "text": [
      "\r",
      " 70%|███████████████████████████████████████████████████████████████████████████████████████████████████████████████████████████████████████████████████████████▍                                                                  | 7/10 [00:47<00:20,  6.87s/it]"
     ]
    },
    {
     "name": "stderr",
     "output_type": "stream",
     "text": [
      "\r",
      " 80%|█████████████████████████████████████████████████████████████████████████████████████████████████████████████████████████████████████████████████████████████████████████████████▌                                            | 8/10 [00:53<00:12,  6.47s/it]"
     ]
    },
    {
     "name": "stderr",
     "output_type": "stream",
     "text": [
      "\r",
      " 90%|███████████████████████████████████████████████████████████████████████████████████████████████████████████████████████████████████████████████████████████████████████████████████████████████████████▊                      | 9/10 [00:59<00:06,  6.25s/it]"
     ]
    },
    {
     "name": "stderr",
     "output_type": "stream",
     "text": [
      "\r",
      "100%|█████████████████████████████████████████████████████████████████████████████████████████████████████████████████████████████████████████████████████████████████████████████████████████████████████████████████████████████| 10/10 [01:04<00:00,  6.16s/it]"
     ]
    },
    {
     "name": "stderr",
     "output_type": "stream",
     "text": [
      "\r",
      "100%|█████████████████████████████████████████████████████████████████████████████████████████████████████████████████████████████████████████████████████████████████████████████████████████████████████████████████████████████| 10/10 [01:05<00:00,  6.50s/it]"
     ]
    },
    {
     "name": "stderr",
     "output_type": "stream",
     "text": [
      "\n"
     ]
    }
   ],
   "source": [
    "sub_models = []\n",
    "#sokutionではカスタム関数の指定、早期停止の言及がここではなかった。検討する\n",
    "for i in tqdm(range(repeat_cv), leave=True, dynamic_ncols=True):\n",
    "    sub_models.append(\n",
    "        xgb.train(\n",
    "          params = param,\n",
    "          dtrain = dtrain,\n",
    "          obj=cauchyobj,\n",
    "          num_boost_round = int(iteration_counts[i] * 1.05),\n",
    "          #early_stopping_rounds=early_stopping_rounds, #これ指定してない、指定するのかあと、指定するとしても少し遅くさせるとか\n",
    "          verbose_eval = 50\n",
    "        )\n",
    "    )"
   ]
  },
  {
   "cell_type": "markdown",
   "id": "a1299ec8",
   "metadata": {
    "papermill": {
     "duration": 0.021455,
     "end_time": "2025-03-13T12:52:56.713222",
     "exception": false,
     "start_time": "2025-03-13T12:52:56.691767",
     "status": "completed"
    },
    "tags": []
   },
   "source": [
    "各特徴量の寄与度を算出"
   ]
  },
  {
   "cell_type": "code",
   "execution_count": 30,
   "id": "2f6a198d",
   "metadata": {
    "execution": {
     "iopub.execute_input": "2025-03-13T12:52:56.764469Z",
     "iopub.status.busy": "2025-03-13T12:52:56.763466Z",
     "iopub.status.idle": "2025-03-13T12:52:57.415690Z",
     "shell.execute_reply": "2025-03-13T12:52:57.415690Z"
    },
    "papermill": {
     "duration": 0.685109,
     "end_time": "2025-03-13T12:52:57.417695",
     "exception": false,
     "start_time": "2025-03-13T12:52:56.732586",
     "status": "completed"
    },
    "tags": []
   },
   "outputs": [
    {
     "data": {
      "image/png": "[encoded data removed]",
      "text/plain": [
       "<Figure size 1000x600 with 1 Axes>"
      ]
     },
     "metadata": {},
     "output_type": "display_data"
    }
   ],
   "source": [
    "feature_importances = collections.defaultdict(list)\n",
    "for model in sub_models:\n",
    "    importance = model.get_score(importance_type='gain')\n",
    "    for feat, score in importance.items():\n",
    "        feature_importances[feat].append(score)\n",
    "\n",
    "avg_importance = {feat: sum(scores) / len(scores) for feat, scores in feature_importances.items()}\n",
    "fi_df = pd.DataFrame(list(avg_importance.items()), columns=['Feature', 'Avg_Gain'])\n",
    "fi_df.sort_values(by='Avg_Gain', ascending=False, inplace=True)\n",
    "results.append(\"\")\n",
    "fi_log = \"-----Feature Importance (Average Gain)-----\\n\"\n",
    "for feat, score in fi_df.values:\n",
    "    fi_log += f\"{feat}: {score:.4f}\\n\"\n",
    "results.append(fi_log)\n",
    "results.append(\"\")\n",
    "\n",
    "plt.figure(figsize=(10, 6))\n",
    "plt.bar(fi_df['Feature'], fi_df['Avg_Gain'])\n",
    "plt.xlabel('Feature')\n",
    "plt.ylabel('Average Gain')\n",
    "plt.title('Feature Importance (Average Gain)')\n",
    "plt.xticks(rotation=45)\n",
    "plt.tight_layout() \n",
    "\n",
    "plt.savefig(os.path.join(OUTPUT_PATH, f\"feature_importance_{PREDICT_YEAR}.png\"))\n",
    "plt.show()"
   ]
  },
  {
   "cell_type": "code",
   "execution_count": 31,
   "id": "0a72a36f",
   "metadata": {
    "execution": {
     "iopub.execute_input": "2025-03-13T12:52:57.449154Z",
     "iopub.status.busy": "2025-03-13T12:52:57.449154Z",
     "iopub.status.idle": "2025-03-13T12:52:57.526604Z",
     "shell.execute_reply": "2025-03-13T12:52:57.526604Z"
    },
    "papermill": {
     "duration": 0.091907,
     "end_time": "2025-03-13T12:52:57.528119",
     "exception": false,
     "start_time": "2025-03-13T12:52:57.436212",
     "status": "completed"
    },
    "tags": []
   },
   "outputs": [
    {
     "name": "stderr",
     "output_type": "stream",
     "text": [
      "\r",
      "  0%|                                                                                                                                                                                                                                      | 0/10 [00:00<?, ?it/s]"
     ]
    },
    {
     "name": "stderr",
     "output_type": "stream",
     "text": [
      "\r",
      "100%|████████████████████████████████████████████████████████████████████████████████████████████████████████████████████████████████████████████████████████████████████████████████████████████████████████████████████████████| 10/10 [00:00<00:00, 166.39it/s]"
     ]
    },
    {
     "name": "stderr",
     "output_type": "stream",
     "text": [
      "\n"
     ]
    }
   ],
   "source": [
    "sub_preds = []\n",
    "for i in tqdm(range(repeat_cv)):\n",
    "    if spline == \"spline_normal\":\n",
    "        sub_preds.append(np.clip(spline_model[i](np.clip(sub_models[i].predict(dtest), -30, 30)), 0.025, 0.975))\n",
    "    \n",
    "    elif spline == \"logistic\":\n",
    "        X_input = np.clip(sub_models[i].predict(dtest), -30, 30).reshape(-1, 1)\n",
    "        platt_pred = spline_model[i].predict_proba(X_input)[:, 1]\n",
    "        sub_preds.append(np.clip(platt_pred, 0.025, 0.975))\n",
    "\n",
    "    elif spline == \"isotonic\":\n",
    "        X_input = np.clip(sub_models[i].predict(dtest), -30, 30).reshape(-1, 1)\n",
    "        iso_pred = spline_model[i].predict(X_input)  # Isotonic Regression の適用\n",
    "        sub_preds.append(np.clip(iso_pred, 0.025, 0.975))\n",
    "\n",
    "sub[\"Pred\"] = np.mean(np.vstack(sub_preds), axis=0)"
   ]
  },
  {
   "cell_type": "code",
   "execution_count": 32,
   "id": "d354c18c",
   "metadata": {
    "execution": {
     "iopub.execute_input": "2025-03-13T12:52:57.589968Z",
     "iopub.status.busy": "2025-03-13T12:52:57.589968Z",
     "iopub.status.idle": "2025-03-13T12:52:57.596692Z",
     "shell.execute_reply": "2025-03-13T12:52:57.596692Z"
    },
    "papermill": {
     "duration": 0.040778,
     "end_time": "2025-03-13T12:52:57.598695",
     "exception": false,
     "start_time": "2025-03-13T12:52:57.557917",
     "status": "completed"
    },
    "tags": []
   },
   "outputs": [],
   "source": [
    "# teams:64team, targetを受け取って、そのtarget teamの試合可能性のある全63試合を抽出する関数\n",
    "def extract_target_team_records(submission_df, teams, target_team):\n",
    "    if target_team not in teams:\n",
    "        raise ValueError(f\"target_team {target_team} は teams 内に存在しません\")\n",
    "\n",
    "    remaining_teams = [t for t in teams if t != target_team]\n",
    "    \n",
    "    records = []\n",
    "    for other_team in remaining_teams:\n",
    "        lower = min(target_team, other_team)\n",
    "        higher = max(target_team, other_team)\n",
    "        row = submission_df[(submission_df['T1_TeamID'] == lower) & (submission_df['T2_TeamID'] == higher)]\n",
    "        if row.empty:\n",
    "            print(f\"Warning: 対戦 {lower} vs {higher} に対応するレコードが見つかりませんでした\")\n",
    "        else:\n",
    "            records.append(row)\n",
    "    \n",
    "    if records:\n",
    "        final_records = pd.concat(records, ignore_index=True)\n",
    "    else:\n",
    "        final_records = pd.DataFrame()\n",
    "    \n",
    "    if len(final_records) != 63:\n",
    "        print(f\"Warning: 期待される63件ではなく、{len(final_records)}件のレコードが抽出されました。\")\n",
    "    \n",
    "    return final_records\n"
   ]
  },
  {
   "cell_type": "code",
   "execution_count": 33,
   "id": "7ccc0fd4",
   "metadata": {
    "execution": {
     "iopub.execute_input": "2025-03-13T12:52:57.645872Z",
     "iopub.status.busy": "2025-03-13T12:52:57.645872Z",
     "iopub.status.idle": "2025-03-13T12:52:57.654578Z",
     "shell.execute_reply": "2025-03-13T12:52:57.654578Z"
    },
    "papermill": {
     "duration": 0.030098,
     "end_time": "2025-03-13T12:52:57.654578",
     "exception": false,
     "start_time": "2025-03-13T12:52:57.624480",
     "status": "completed"
    },
    "tags": []
   },
   "outputs": [],
   "source": [
    "tourney_teams_2023 = [\n",
    "    1395, 1113,   # TCU1395, アリゾナ・ステイト1113\n",
    "    1231, 1245,   # インディアナ1231, ケント・ステイト1245\n",
    "    1243, 1286,   # カンザス・ステイト1243, モンタナ・ステイト1286\n",
    "    1272, 1194,   # メンフィス1272, ﾌﾛﾘﾀﾞ･ｱﾄﾗﾝﾃｨｯｸ1194\n",
    "    1211, 1213,   # ゴンザガ1211, グランド・キャニオン1213\n",
    "    1274, 1179,   # マイアミ（フロリダ）1274, ドレイク1179\n",
    "    1243, 1286,   # ケンタッキー1243, プロビデンス1286\n",
    "    1345, 1192,   # パデュー1345, ﾌｪｱﾘｰ･ﾃﾞｨｷﾝｿﾝ1192\n",
    "    1163, 1233,   # コネチカット1163, アイオナ1233\n",
    "    1166, 1301,   # クレイトン1166, ﾉｰｽｶﾛﾗｲﾅ･ｽﾃｲﾄ1301\n",
    "    1235, 1338,   # アイオワ・ステイト1235, ピッツバーグ1338\n",
    "    1266, 1436,   # マーケット1266, バーモント1436\n",
    "    1388, 1433,   # ｾﾝﾄﾒｱﾘｰｽﾞ（ｶﾘﾌｫﾙﾆｱ）1388, VCU1433\n",
    "    1124, 1364,   # ベイラー1124, UCサンタバーバラ1364\n",
    "    1462, 1244,   # ザビエル1462, ケネソー・ステイト1244\n",
    "    1277, 1425,   # ミシガン・ステイト1277, USC トロージャンズ1425\n",
    "\n",
    "    1417, 1421,   # UCLA1417, UNC アシュビル1421\n",
    "    1401, 1336,   # テキサス A＆M1401, ﾍﾟﾝｼﾞﾙﾍﾞﾆｱ･ｽﾃｲﾄ1336\n",
    "    1397, 1418,   # テネシー1397, ﾙｲｼﾞｱﾅ･ﾗﾌｧｲｴｯﾄ1418\n",
    "    1222, 1297,   # ヒューストン1222, ノーザンケンタッキー1297\n",
    "    1321, 1129,   # ノースウェスタン1321, ボイシ・ステイト1129\n",
    "    1400, 1159,   # テキサス1400, コルゲート1159\n",
    "    1181, 1331,   # デューク1181, オーラル・ロバーツ1331\n",
    "    1234, 1120,   # アイオワ1234, オーバーン1120\n",
    "    1116, 1228,   # アーカンソー1116, イリノイ1228\n",
    "    1112, 1343,   # アリゾナ1112, プリンストン1343\n",
    "    1361, 1158,   # ｻﾝﾃﾞｴｺﾞ･ｽﾃｲﾄ1361, チャールストン1158\n",
    "    1104, 1394,   # アラバマ1104, テキサス A＆M CC1394\n",
    "    1242, 1224,   # カンザス1242, ハワード1224\n",
    "    1281, 1429,   # ミズーリ1281, ユタ・ステイト1429\n",
    "    1438, 1202,   # バージニア1438, ファーマン1202\n",
    "    1268, 1452    # メリーランド1268, ウェストバージニア1452\n",
    "]\n",
    "\n",
    "#Connecticut_vs = extract_target_team_records(sub, tourney_teams_2023, 1163 )"
   ]
  },
  {
   "cell_type": "code",
   "execution_count": 34,
   "id": "53e3878b",
   "metadata": {
    "execution": {
     "iopub.execute_input": "2025-03-13T12:52:57.693165Z",
     "iopub.status.busy": "2025-03-13T12:52:57.693165Z",
     "iopub.status.idle": "2025-03-13T12:52:57.697621Z",
     "shell.execute_reply": "2025-03-13T12:52:57.697621Z"
    },
    "papermill": {
     "duration": 0.022986,
     "end_time": "2025-03-13T12:52:57.697621",
     "exception": false,
     "start_time": "2025-03-13T12:52:57.674635",
     "status": "completed"
    },
    "tags": []
   },
   "outputs": [],
   "source": [
    "#handlabelingを行う関数\n",
    "def make_handlabeling(df, season, T1, T2, labeling_pred, tourney_teams):\n",
    "    if T1 not in tourney_teams or T2 not in tourney_teams: \n",
    "        print(f\"トーナメント対象チームに属していません\")\n",
    "        return \n",
    "    \n",
    "    if T1>T2: \n",
    "        T1, T2 = T2, T1\n",
    "        print(f\"{T1}, {T2}ID逆だけど大丈夫？？\")\n",
    "    id = f\"{season}_{T1}_{T2}\"\n",
    "\n",
    "    print(f\"before: {df[df['ID']==id]}\")\n",
    "    df.loc[df[\"ID\"] == id, \"Pred\"] = labeling_pred\n",
    "    print(f\"after: {df[df['ID']==id]}\")\n",
    "    \n",
    "    results.append(f\"-----handolabeling-----\")\n",
    "    results.append(f\"before:  {df[df['ID']==id]} -----> after: {df[df['ID']==id]}\")\n",
    "    results.appedn(\"\")\n",
    "    return df"
   ]
  },
  {
   "cell_type": "code",
   "execution_count": 35,
   "id": "d5da7049",
   "metadata": {
    "execution": {
     "iopub.execute_input": "2025-03-13T12:52:57.733912Z",
     "iopub.status.busy": "2025-03-13T12:52:57.733912Z",
     "iopub.status.idle": "2025-03-13T12:52:57.738415Z",
     "shell.execute_reply": "2025-03-13T12:52:57.738415Z"
    },
    "papermill": {
     "duration": 0.023347,
     "end_time": "2025-03-13T12:52:57.738415",
     "exception": false,
     "start_time": "2025-03-13T12:52:57.715068",
     "status": "completed"
    },
    "tags": []
   },
   "outputs": [],
   "source": [
    "labeling = cfg.exp.hand_labeling\n",
    "if labeling is not None:\n",
    "    for i in range(len(labeling)):\n",
    "        T1 = labeling[i][0]\n",
    "        T2 = labeling[i][1]\n",
    "        labeling_pred = labeling[i][2]\n",
    "        \n",
    "        print(f\"{T1} vs {T2} result labeling {labeling_pred}\")\n",
    "        \n",
    "        sub = make_handlabeling(sub, PREDICT_YEAR, T1, T2, labeling_pred, tourney_teams_2023)"
   ]
  },
  {
   "cell_type": "code",
   "execution_count": 36,
   "id": "b7418bcb",
   "metadata": {
    "execution": {
     "iopub.execute_input": "2025-03-13T12:52:57.776537Z",
     "iopub.status.busy": "2025-03-13T12:52:57.775536Z",
     "iopub.status.idle": "2025-03-13T12:52:58.054754Z",
     "shell.execute_reply": "2025-03-13T12:52:58.054754Z"
    },
    "papermill": {
     "duration": 0.298388,
     "end_time": "2025-03-13T12:52:58.054754",
     "exception": false,
     "start_time": "2025-03-13T12:52:57.756366",
     "status": "completed"
    },
    "tags": []
   },
   "outputs": [
    {
     "name": "stdout",
     "output_type": "stream",
     "text": [
      "Tournament matchups only - Pred Mean: 0.5000749816794864\n"
     ]
    },
    {
     "data": {
      "image/png": "[encoded data removed]",
      "text/plain": [
       "<Figure size 640x480 with 1 Axes>"
      ]
     },
     "metadata": {},
     "output_type": "display_data"
    }
   ],
   "source": [
    "tourney_filtered = notexist[notexist[\"Season\"] == PREDICT_YEAR].copy()\n",
    "a = tourney_filtered.rename(columns={'WTeamID': 'T1_TeamID', 'LTeamID': 'T2_TeamID'})\n",
    "b = tourney_filtered.rename(columns={'WTeamID': 'T2_TeamID', 'LTeamID': 'T1_TeamID'})\n",
    "ab = pd.concat([a, b]).reset_index(drop=True) \n",
    "filtered_sub = sub.merge(ab[['Season', 'T1_TeamID', 'T2_TeamID']], \n",
    "                         on=['Season', 'T1_TeamID', 'T2_TeamID'], \n",
    "                         how='inner')\n",
    "\n",
    "filtered_sub[\"Pred\"].astype(int)\n",
    "pred_mean = filtered_sub[\"Pred\"].mean()\n",
    "print(\"Tournament matchups only - Pred Mean:\", pred_mean)\n",
    "\n",
    "filtered_sub[\"Pred\"].hist(bins=50)\n",
    "results+=[\"\", f\"Tournament matchups only - Pred Mean:, {pred_mean}\", \"\"]\n",
    "plt.figure(figsize=(8, 6))\n",
    "filtered_sub[\"Pred\"].hist(bins=50)\n",
    "plt.title(\"Prediction Histogram\")\n",
    "plt.xlabel(\"Pred\")\n",
    "plt.ylabel(\"Frequency\")\n",
    "plt.grid(True)\n",
    "\n",
    "# 画像として保存\n",
    "plt.savefig(os.path.join(OUTPUT_PATH, f\"Prediction_Histgram_filtered_{PREDICT_YEAR}.png\"))\n",
    "plt.close()"
   ]
  },
  {
   "cell_type": "markdown",
   "id": "2724aa3b",
   "metadata": {
    "papermill": {
     "duration": 0.032893,
     "end_time": "2025-03-13T12:52:58.094728",
     "exception": false,
     "start_time": "2025-03-13T12:52:58.061835",
     "status": "completed"
    },
    "tags": []
   },
   "source": [
    "# スコア算出、まとめ、\n",
    "ここまでで提出ファイル作成。ここからは過去年度のシミュレーションに対してBrier scoreやその他指標の算出"
   ]
  },
  {
   "cell_type": "code",
   "execution_count": 37,
   "id": "9906b01c",
   "metadata": {
    "execution": {
     "iopub.execute_input": "2025-03-13T12:52:58.134048Z",
     "iopub.status.busy": "2025-03-13T12:52:58.134048Z",
     "iopub.status.idle": "2025-03-13T12:52:58.299602Z",
     "shell.execute_reply": "2025-03-13T12:52:58.299602Z"
    },
    "papermill": {
     "duration": 0.187745,
     "end_time": "2025-03-13T12:52:58.299602",
     "exception": false,
     "start_time": "2025-03-13T12:52:58.111857",
     "status": "completed"
    },
    "tags": []
   },
   "outputs": [
    {
     "data": {
      "image/png": "[encoded data removed]",
      "text/plain": [
       "<Figure size 640x480 with 1 Axes>"
      ]
     },
     "metadata": {},
     "output_type": "display_data"
    }
   ],
   "source": [
    "sub[\"Pred\"].hist()\n",
    "results+=[\"\", f\"Pred mean: {sub['Pred'].mean()}\", \"\"]\n",
    "\n",
    "plt.figure(figsize=(8, 6))\n",
    "sub[\"Pred\"].hist(bins=50)\n",
    "plt.title(\"Prediction Histogram\")\n",
    "plt.xlabel(\"Pred\")\n",
    "plt.ylabel(\"Frequency\")\n",
    "plt.grid(True)\n",
    "\n",
    "# 画像として保存\n",
    "plt.savefig(os.path.join(OUTPUT_PATH, f\"Prediction_Histgram_{PREDICT_YEAR}.png\"))\n",
    "plt.close()"
   ]
  },
  {
   "cell_type": "markdown",
   "id": "d69a53de",
   "metadata": {
    "papermill": {
     "duration": 0.022309,
     "end_time": "2025-03-13T12:52:58.334266",
     "exception": false,
     "start_time": "2025-03-13T12:52:58.311957",
     "status": "completed"
    },
    "tags": []
   },
   "source": [
    "存在するはずのない予測年度のトーナメント結果をもとに(Pred, label)を取り出し、以下を行う。\n",
    "\n",
    "- 各評価指標の計算\n",
    "- キャリブレーション可視化\n",
    "- AUC可視化"
   ]
  },
  {
   "cell_type": "code",
   "execution_count": 38,
   "id": "b974c9ac",
   "metadata": {
    "execution": {
     "iopub.execute_input": "2025-03-13T12:52:58.378006Z",
     "iopub.status.busy": "2025-03-13T12:52:58.378006Z",
     "iopub.status.idle": "2025-03-13T12:52:58.385963Z",
     "shell.execute_reply": "2025-03-13T12:52:58.385963Z"
    },
    "papermill": {
     "duration": 0.040659,
     "end_time": "2025-03-13T12:52:58.385963",
     "exception": false,
     "start_time": "2025-03-13T12:52:58.345304",
     "status": "completed"
    },
    "tags": []
   },
   "outputs": [],
   "source": [
    "def extract_labels_and_preds(sub, tourney):\n",
    "    \"\"\" 試合データから予測値 (Pred) と正解ラベル (label) を抽出する \"\"\"\n",
    "    label_data = tourney[[\"WTeamID\", \"LTeamID\", \"WScore\", \"LScore\"]]\n",
    "    label_data = label_data.rename(columns={\"WTeamID\": \"T1_TeamID\", \"LTeamID\": \"T2_TeamID\", \"WScore\": \"T1_Score\", \"LScore\": \"T2_Score\"})\n",
    "    temp = label_data.copy()\n",
    "    temp = temp.rename(columns={\"T1_TeamID\": \"T2_TeamID\", \"T2_TeamID\": \"T1_TeamID\", \"T1_Score\": \"T2_Score\", \"T2_Score\": \"T1_Score\"})\n",
    "    label_data = pd.concat([label_data, temp]).reset_index(drop=True)\n",
    "    \n",
    "    label_data = pd.merge(label_data, sub, on=[\"T1_TeamID\", \"T2_TeamID\"], how=\"left\")\n",
    "    label_data[\"label\"] = np.where(label_data[\"T1_Score\"] - label_data[\"T2_Score\"] > 0, 1, 0)\n",
    "    label_data = label_data.dropna(subset=[\"Pred\"])  # 欠損値を削除\n",
    "    \n",
    "    return label_data[[\"label\", \"Pred\"]]\n",
    "\n",
    "def calculate_metrics(label_data):\n",
    "    \"\"\" 各評価指標を計算 \"\"\"\n",
    "    brier_score = round(mean_squared_error(label_data[\"label\"], label_data[\"Pred\"]), 5)  # Brier Score (MSEと同じ)\n",
    "    rmse_score = round(mean_squared_error(label_data[\"label\"], label_data[\"Pred\"], squared=False), 5)  # RMSE\n",
    "    logloss_score = round(log_loss(label_data[\"label\"], label_data[\"Pred\"]), 5)  # Log Loss\n",
    "    mae_score = round(mean_absolute_error(label_data[\"label\"], label_data[\"Pred\"]), 5)  # MAE\n",
    "    \n",
    "    return {\n",
    "        \"Brier Score\": brier_score,\n",
    "        \"RMSE\": rmse_score,\n",
    "        \"Log Loss\": logloss_score,\n",
    "        \"MAE\": mae_score\n",
    "    }\n",
    "\n",
    "def plot_calibration_curve(label_data, n_bins=10):\n",
    "    \"\"\" キャリブレーションカーブをプロット \"\"\"\n",
    "    prob_true, prob_pred = calibration_curve(label_data[\"label\"], label_data[\"Pred\"], n_bins=n_bins)\n",
    "    \n",
    "    plt.figure(figsize=(6,6))\n",
    "    plt.plot(prob_pred, prob_true, marker=\"o\", label=\"Model Calibration\")\n",
    "    plt.plot([0, 1], [0, 1], linestyle=\"--\", label=\"Perfect Calibration\")\n",
    "    plt.xlabel(\"Predicted Probability\")\n",
    "    plt.ylabel(\"Actual Probability\")\n",
    "    plt.legend()\n",
    "    plt.title(\"Calibration Curve\")\n",
    "    plt.show()\n",
    "\n",
    "def calculate_auc_metrics(label_data):\n",
    "    global results\n",
    "    \"\"\" AUC-ROCとAUC-PRを計算 \"\"\"\n",
    "    auc_roc = roc_auc_score(label_data[\"label\"], label_data[\"Pred\"])\n",
    "    auc_pr = average_precision_score(label_data[\"label\"], label_data[\"Pred\"])\n",
    "    \n",
    "    print(f\"AUC-ROC: {auc_roc:.4f}\")\n",
    "    print(f\"AUC-PR: {auc_pr:.4f}\")\n",
    "    results += [\"---- AUC -----\", f\"AUC-ROC: {auc_roc:.4f}\", f\"AUC-PR: {auc_pr:.4f}\"]\n",
    "    "
   ]
  },
  {
   "cell_type": "code",
   "execution_count": 39,
   "id": "79cfe892",
   "metadata": {
    "execution": {
     "iopub.execute_input": "2025-03-13T12:52:58.413190Z",
     "iopub.status.busy": "2025-03-13T12:52:58.413190Z",
     "iopub.status.idle": "2025-03-13T12:52:58.521033Z",
     "shell.execute_reply": "2025-03-13T12:52:58.521033Z"
    },
    "papermill": {
     "duration": 0.123256,
     "end_time": "2025-03-13T12:52:58.521033",
     "exception": false,
     "start_time": "2025-03-13T12:52:58.397777",
     "status": "completed"
    },
    "tags": []
   },
   "outputs": [
    {
     "name": "stderr",
     "output_type": "stream",
     "text": [
      "C:\\Users\\81809\\anaconda3\\envs\\deep_learning_pytorch\\Lib\\site-packages\\sklearn\\metrics\\_regression.py:492: FutureWarning: 'squared' is deprecated in version 1.4 and will be removed in 1.6. To calculate the root mean squared error, use the function'root_mean_squared_error'.\n",
      "  warnings.warn(\n"
     ]
    },
    {
     "data": {
      "image/png": "[encoded data removed]",
      "text/plain": [
       "<Figure size 600x600 with 1 Axes>"
      ]
     },
     "metadata": {},
     "output_type": "display_data"
    },
    {
     "name": "stdout",
     "output_type": "stream",
     "text": [
      "AUC-ROC: 0.8530\n",
      "AUC-PR: 0.8648\n",
      "MAE: 0.32227\n",
      "\n",
      "---- AUC -----\n",
      "AUC-ROC: 0.8530\n",
      "AUC-PR: 0.8648\n"
     ]
    }
   ],
   "source": [
    "if PREDICT_YEAR == 2022:\n",
    "    notexist_MAN = notexist[notexist[\"WTeamID\"].astype(str).str.startswith(\"1\")]\n",
    "    notexist_WOMAN = notexist[notexist[\"WTeamID\"].astype(str).str.startswith(\"3\")]\n",
    "    label_data = extract_labels_and_preds(sub, notexist) ######\n",
    "else:\n",
    "    label_data = extract_labels_and_preds(sub, notexist)\n",
    "\n",
    "# 評価指標の計算\n",
    "score = calculate_metrics(label_data)\n",
    "results += [\"\",\"-----eval metrics-----\",\n",
    "            f\"Brier Score: {score['Brier Score']}\", \n",
    "            f\"RMSE: {score['RMSE']}\", \n",
    "            f\"Log Loss: {score['Log Loss']}\", \n",
    "            f\"MAE: {score['MAE']}\", \"\"]\n",
    "\n",
    "# キャリブレーションの確認\n",
    "plot_calibration_curve(label_data)\n",
    "\n",
    "# AUCの評価\n",
    "calculate_auc_metrics(label_data)\n",
    "\n",
    "for temp in range(-5, 0):\n",
    "    print(results[temp])"
   ]
  },
  {
   "cell_type": "code",
   "execution_count": 40,
   "id": "707af00b",
   "metadata": {
    "execution": {
     "iopub.execute_input": "2025-03-13T12:52:58.562606Z",
     "iopub.status.busy": "2025-03-13T12:52:58.561837Z",
     "iopub.status.idle": "2025-03-13T12:52:58.566664Z",
     "shell.execute_reply": "2025-03-13T12:52:58.566664Z"
    },
    "papermill": {
     "duration": 0.033291,
     "end_time": "2025-03-13T12:52:58.567671",
     "exception": false,
     "start_time": "2025-03-13T12:52:58.534380",
     "status": "completed"
    },
    "tags": []
   },
   "outputs": [
    {
     "data": {
      "text/plain": [
       "'if PREDICT_YEAR!=2025:\\n    predict_year_label =notexist[[\"WTeamID\", \"LTeamID\", \"WScore\", \"LScore\"]].copy()\\n    predict_year_label.loc[:, \"Win\"] = np.where(predict_year_label[\"WScore\"] - predict_year_label[\"LScore\"] > 0, 1, 0)\\n    predict_year_label = predict_year_label[[\"WTeamID\", \"LTeamID\", \"Win\"]]\\n   \\n    predict_year_label.columns = [\"T1_TeamID\", \"T2_TeamID\", \"Win\"]\\n\\n    predict_year_label = pd.merge(predict_year_label, sub, on=[\"T1_TeamID\", \"T2_TeamID\"], how=\"left\")\\n    brier_score = np.mean((predict_year_label[\"Pred\"] - predict_year_label[\"Win\"])**2)\\n\\n    print(\"Brier Score:\", brier_score)\\n    results+=[f\"Brier Score: {brier_score}\", \"\"]\\n    predict_year_label.info()\\n'"
      ]
     },
     "execution_count": 40,
     "metadata": {},
     "output_type": "execute_result"
    }
   ],
   "source": [
    "\"\"\"if PREDICT_YEAR!=2025:\n",
    "    predict_year_label =notexist[[\"WTeamID\", \"LTeamID\", \"WScore\", \"LScore\"]].copy()\n",
    "    predict_year_label.loc[:, \"Win\"] = np.where(predict_year_label[\"WScore\"] - predict_year_label[\"LScore\"] > 0, 1, 0)\n",
    "    predict_year_label = predict_year_label[[\"WTeamID\", \"LTeamID\", \"Win\"]]\n",
    "   \n",
    "    predict_year_label.columns = [\"T1_TeamID\", \"T2_TeamID\", \"Win\"]\n",
    "\n",
    "    predict_year_label = pd.merge(predict_year_label, sub, on=[\"T1_TeamID\", \"T2_TeamID\"], how=\"left\")\n",
    "    brier_score = np.mean((predict_year_label[\"Pred\"] - predict_year_label[\"Win\"])**2)\n",
    "\n",
    "    print(\"Brier Score:\", brier_score)\n",
    "    results+=[f\"Brier Score: {brier_score}\", \"\"]\n",
    "    predict_year_label.info()\n",
    "\"\"\""
   ]
  },
  {
   "cell_type": "code",
   "execution_count": 41,
   "id": "975243b4",
   "metadata": {
    "execution": {
     "iopub.execute_input": "2025-03-13T12:52:58.597754Z",
     "iopub.status.busy": "2025-03-13T12:52:58.597754Z",
     "iopub.status.idle": "2025-03-13T12:52:58.611610Z",
     "shell.execute_reply": "2025-03-13T12:52:58.610722Z"
    },
    "papermill": {
     "duration": 0.032051,
     "end_time": "2025-03-13T12:52:58.612618",
     "exception": false,
     "start_time": "2025-03-13T12:52:58.580567",
     "status": "completed"
    },
    "tags": []
   },
   "outputs": [
    {
     "name": "stdout",
     "output_type": "stream",
     "text": [
      "実行時間： 657.0秒\n"
     ]
    }
   ],
   "source": [
    "END_TIME = time.time()\n",
    "ELAPSED_TIME = END_TIME - START_TIME\n",
    "print(f\"実行時間： {ELAPSED_TIME:.1f}秒\")\n",
    "results.append(f\"実行時間： {ELAPSED_TIME:.1f}秒\")\n",
    "\n",
    "with open(os.path.join(OUTPUT_PATH, \"result.txt\"), \"a\", encoding=\"utf-8\") as f:\n",
    "    for line in results:\n",
    "        f.write(line + \"\\n\")"
   ]
  },
  {
   "cell_type": "code",
   "execution_count": 42,
   "id": "19dda0d7",
   "metadata": {
    "execution": {
     "iopub.execute_input": "2025-03-13T12:52:58.656457Z",
     "iopub.status.busy": "2025-03-13T12:52:58.656457Z",
     "iopub.status.idle": "2025-03-13T12:52:58.660647Z",
     "shell.execute_reply": "2025-03-13T12:52:58.659640Z"
    },
    "papermill": {
     "duration": 0.028204,
     "end_time": "2025-03-13T12:52:58.662648",
     "exception": false,
     "start_time": "2025-03-13T12:52:58.634444",
     "status": "completed"
    },
    "tags": []
   },
   "outputs": [],
   "source": [
    "logger.remove()"
   ]
  }
 ],
 "metadata": {
  "kernelspec": {
   "display_name": "deep_learning_pytorch",
   "language": "python",
   "name": "python3"
  },
  "language_info": {
   "codemirror_mode": {
    "name": "ipython",
    "version": 3
   },
   "file_extension": ".py",
   "mimetype": "text/x-python",
   "name": "python",
   "nbconvert_exporter": "python",
   "pygments_lexer": "ipython3",
   "version": "3.11.9"
  },
  "papermill": {
   "default_parameters": {},
   "duration": 663.684061,
   "end_time": "2025-03-13T12:52:59.245053",
   "environment_variables": {},
   "exception": null,
   "input_path": "c:\\Users\\81809\\Documents\\ALL_CODE\\kaggle\\March Machine Learning Mania 2025\\notebook\\1stplace_solution_2023.ipynb",
   "output_path": "exp051_20250313_214155.ipynb",
   "parameters": {
    "EXP_NUM": "exp051"
   },
   "start_time": "2025-03-13T12:41:55.560992",
   "version": "2.6.0"
  }
 },
 "nbformat": 4,
 "nbformat_minor": 5
}