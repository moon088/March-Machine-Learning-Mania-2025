{
 "cells": [
  {
   "cell_type": "code",
   "execution_count": 1,
   "id": "72443678",
   "metadata": {
    "execution": {
     "iopub.execute_input": "2025-03-13T15:57:21.410639Z",
     "iopub.status.busy": "2025-03-13T15:57:21.410639Z",
     "iopub.status.idle": "2025-03-13T15:57:21.425259Z",
     "shell.execute_reply": "2025-03-13T15:57:21.425259Z"
    },
    "papermill": {
     "duration": 0.017626,
     "end_time": "2025-03-13T15:57:21.425259",
     "exception": false,
     "start_time": "2025-03-13T15:57:21.407633",
     "status": "completed"
    },
    "tags": [
     "parameters"
    ]
   },
   "outputs": [],
   "source": [
    "# Parameters\n",
    "EXP_NUM = \"default\""
   ]
  },
  {
   "cell_type": "code",
   "execution_count": 2,
   "id": "ebcd74a6",
   "metadata": {
    "execution": {
     "iopub.execute_input": "2025-03-13T15:57:21.441144Z",
     "iopub.status.busy": "2025-03-13T15:57:21.440131Z",
     "iopub.status.idle": "2025-03-13T15:57:21.444066Z",
     "shell.execute_reply": "2025-03-13T15:57:21.444066Z"
    },
    "papermill": {
     "duration": 0.020573,
     "end_time": "2025-03-13T15:57:21.445832",
     "exception": false,
     "start_time": "2025-03-13T15:57:21.425259",
     "status": "completed"
    },
    "tags": [
     "injected-parameters"
    ]
   },
   "outputs": [],
   "source": [
    "# Parameters\n",
    "EXP_NUM = \"exp056\"\n"
   ]
  },
  {
   "cell_type": "markdown",
   "id": "5a033b51",
   "metadata": {
    "papermill": {
     "duration": 0.006833,
     "end_time": "2025-03-13T15:57:21.457873",
     "exception": false,
     "start_time": "2025-03-13T15:57:21.451040",
     "status": "completed"
    },
    "tags": []
   },
   "source": [
    "# 2023 1st place solution\n",
    "[kaggle notebook](https://www.kaggle.com/code/rustyb/paris-madness-2023#Load-the-data!)"
   ]
  },
  {
   "cell_type": "markdown",
   "id": "816e480f",
   "metadata": {
    "papermill": {
     "duration": 0.0,
     "end_time": "2025-03-13T15:57:21.463241",
     "exception": false,
     "start_time": "2025-03-13T15:57:21.463241",
     "status": "completed"
    },
    "tags": []
   },
   "source": [
    "# コードの流れ\n",
    "1. hydraからハイパラ取得し、パスなどを設定\n",
    "\n",
    "    regular&tourney Detaile Result, Seedを使用し、tourneyを目的変数としてモデルを予測していく\n",
    "\n",
    "    regular_data->season_statistics->\n",
    "\n",
    "    以下の前処理をする\n",
    "\n",
    "2. データ２倍にかさまし\n",
    "3. regularに対して特徴量の追加\n",
    "    各チームごとに加えるもの\n",
    "   - EFFG: フィールドゴール成功率\n",
    "   - EFFG3: フィールドゴール3p成功率\n",
    "   - DARE: フィールドゴールにおける3P率\n",
    "   - \"win\"を目的変数とする(Team, Season)のロジスティック回帰した各係数\n",
    "    対戦カードごとに加える特徴量\n",
    "    - PointDiff: ポイント差\n",
    "    - win: 1 if PointDiff>0 else 0\n",
    "4. (Team, Season)ごとに特徴量season_statixtics追加\n",
    "    - win_ratio_14d\n",
    "    - box score mean\n",
    "    - quality\n",
    "    - seed\n",
    "5. season_average.enabled=trueなら直近３シーズンの加重平均の処理加える\n",
    "6. tourneyをteamID, Season, score(y)のみ取り出してこれに対してseason_statisticsの結合と特徴量微調整\n",
    "   - seed->seeddiff\n",
    "   - fillna()\n",
    "\n",
    "7. モデル構築\n",
    "8. KFOLD->OOF予測->spline曲線求めてlogloss算出\n",
    "    - KFOLDによる交差検証（CV）\n",
    "        repeat_cv 回のループで、各反復ごとにKFold（folds_splits個）によりデータを分割し、XGBoostのCVを実行しています。\n",
    "        各foldでの結果（例えば、訓練MAE、検証MAEの平均値や標準偏差）がcv_resultとして得られ、それをxgb_cvリストに格納します。\n",
    "        この段階で重要なのは、各反復での検証用MAEの平均値 (test-mae-mean) の最小値と、そのときのブーストラウンド数です。\n",
    "        それらは後で、最適なイテレーション数 (iteration_counts) として計算され、val_mae にも格納されます。\n",
    "    - OOF予測の流れ\n",
    "\n",
    "        各反復ごとに、新たなKFoldを用いてデータを分割。\n",
    "        各foldごとに、学習データでモデルを訓練し、検証データに対して予測を実施。\n",
    "        すべてのfold分の予測結果を1つの予測配列にまとめ、最後に -30～30 の範囲にクリップしています。\n",
    "        重要な結果\n",
    "\n",
    "        OOF予測結果（oof_preds）自体は後段で別途評価指標に使用できるほか、各反復ごとの予測精度や誤差を算出する際の基礎データ\n",
    "9.  提出フェーズ\n",
    "    - 最適paramで全データ使って訓練\n",
    "    - 提出試合の予測"
   ]
  },
  {
   "cell_type": "markdown",
   "id": "90edd8d8",
   "metadata": {
    "papermill": {
     "duration": 0.000301,
     "end_time": "2025-03-13T15:57:21.476650",
     "exception": false,
     "start_time": "2025-03-13T15:57:21.476349",
     "status": "completed"
    },
    "tags": []
   },
   "source": [
    "memo\n",
    "\n",
    "欠損値が発生していいのか検討して保管について考える\n",
    "seedがかけているのはregularに対してseedを与えているから大丈夫。最終的なtourneyには欠損０で追加できているから問題ない"
   ]
  },
  {
   "cell_type": "code",
   "execution_count": 3,
   "id": "66010eeb",
   "metadata": {
    "execution": {
     "iopub.execute_input": "2025-03-13T15:57:21.489397Z",
     "iopub.status.busy": "2025-03-13T15:57:21.489397Z",
     "iopub.status.idle": "2025-03-13T15:57:23.943813Z",
     "shell.execute_reply": "2025-03-13T15:57:23.943813Z"
    },
    "papermill": {
     "duration": 2.467163,
     "end_time": "2025-03-13T15:57:23.943813",
     "exception": false,
     "start_time": "2025-03-13T15:57:21.476650",
     "status": "completed"
    },
    "tags": []
   },
   "outputs": [
    {
     "name": "stderr",
     "output_type": "stream",
     "text": [
      "C:\\Users\\81809\\anaconda3\\envs\\deep_learning_pytorch\\Lib\\site-packages\\tqdm\\auto.py:21: TqdmWarning: IProgress not found. Please update jupyter and ipywidgets. See https://ipywidgets.readthedocs.io/en/stable/user_install.html\n",
      "  from .autonotebook import tqdm as notebook_tqdm\n"
     ]
    },
    {
     "name": "stdout",
     "output_type": "stream",
     "text": [
      "exp056\n",
      "Omega conf is below\n",
      "dir:\n",
      "  input_dir: ../input\n",
      "  output_dir: ../output\n",
      "  src_path: ../src\n",
      "  conf_path: ../conf\n",
      "exp:\n",
      "  name: POSSRATE_off_RATING_on\n",
      "  print_name: POSSRATE off RATING on\n",
      "  tournament:\n",
      "    use_start_season: 1985\n",
      "    target_season: 2019\n",
      "  features:\n",
      "    cal_mean_boxscore:\n",
      "      T1_Score: true\n",
      "      T2_Score: true\n",
      "      PointDiff: true\n",
      "      T1_FGM: true\n",
      "      T2_FGM: true\n",
      "      T1_FGA: true\n",
      "      T2_FGA: true\n",
      "      T1_FGM3: true\n",
      "      T2_FGM3: true\n",
      "      T1_FGA3: true\n",
      "      T2_FGA3: true\n",
      "      T1_FTM: true\n",
      "      T2_FTM: true\n",
      "      T1_FTA: true\n",
      "      T2_FTA: true\n",
      "      T1_EFFG: false\n",
      "      T2_EFFG: false\n",
      "      T1_EFFG3: false\n",
      "      T2_EFFG3: false\n",
      "      T1_EFG_SUM: true\n",
      "      T2_EFG_SUM: true\n",
      "      T1_TO_RATIO: true\n",
      "      T2_TO_RATIO: true\n",
      "      T1_OR: true\n",
      "      T2_OR: true\n",
      "      T1_DR: true\n",
      "      T2_DR: true\n",
      "      T1_REB_RATE: true\n",
      "      T2_REB_RATE: true\n",
      "      T1_FT_RATE: true\n",
      "      T2_FT_RATE: true\n",
      "      T1_RATING: true\n",
      "      T2_RATING: true\n",
      "      T1_POSS_RATE: false\n",
      "      T2_POSS_RATE: false\n",
      "      T1_Ast: true\n",
      "      T2_Ast: true\n",
      "      T1_TO: true\n",
      "      T2_TO: true\n",
      "      T1_Stl: true\n",
      "      T2_Stl: true\n",
      "      T1_Blk: true\n",
      "      T2_Blk: true\n",
      "      T1_PF: true\n",
      "      T2_PF: true\n",
      "      T1_DARE: false\n",
      "      T2_DARE: false\n",
      "      T1_TOQUETOQUE: false\n",
      "      T2_TOQUETOQUE: false\n",
      "    rank_diff: true\n",
      "    start_quality_season: 2003\n",
      "    dropfeatures: null\n",
      "    season_average:\n",
      "      enabled: false\n",
      "      past_years: 3\n",
      "      weights:\n",
      "      - 1\n",
      "      - 2\n",
      "      - 3\n",
      "    fillna:\n",
      "      quality: 'nan'\n",
      "  model:\n",
      "    repeat_cv: 10\n",
      "    optuna_enabled: false\n",
      "    test_reverse: false\n",
      "    xgb_model:\n",
      "      param:\n",
      "        eval_metric: rmse\n",
      "        booster: gbtree\n",
      "        eta: 0.02\n",
      "        subsample: 0.35\n",
      "        colsample_bytree: 0.7\n",
      "        num_parallel_tree: 10\n",
      "        min_child_weight: 40\n",
      "        gamma: 10\n",
      "        max_depth: 3\n",
      "      obj: cauchyoj\n",
      "      num_boost_round: 3000\n",
      "      folds_splits: 5\n",
      "      early_stopping_rounds: 25\n",
      "      optuna:\n",
      "        max_depth:\n",
      "        - 3\n",
      "        - 7\n",
      "        eta:\n",
      "        - 0.001\n",
      "        - 0.03\n",
      "        subsample:\n",
      "        - 0.2\n",
      "        - 0.5\n",
      "        colsample_bytree:\n",
      "        - 0.5\n",
      "        - 1.0\n",
      "        num_parallel_tree:\n",
      "        - 7\n",
      "        - 12\n",
      "        min_child_weight:\n",
      "        - 30\n",
      "        - 50\n",
      "        reg_alpha:\n",
      "        - 0.0\n",
      "        - 1.0\n",
      "        reg_lambda:\n",
      "        - 0.0\n",
      "        - 1.0\n",
      "        gamma:\n",
      "        - 0\n",
      "        - 10\n",
      "        n_trials: 1000\n",
      "        timeout: 28800\n",
      "        n_jobs: -1\n",
      "        n_warmup_steps: 3\n",
      "    spline: logistic\n",
      "  hand_labeling: null\n",
      "\n"
     ]
    }
   ],
   "source": [
    "\n",
    "import os\n",
    "import sys\n",
    "from pathlib import Path\n",
    "import collections\n",
    "from datetime import datetime\n",
    "import shutil\n",
    "import yaml\n",
    "from tqdm import tqdm\n",
    "import time\n",
    "import optuna\n",
    "from loguru import logger\n",
    "import collections\n",
    "\n",
    "from hydra import initialize, initialize_config_module, initialize_config_dir, compose\n",
    "from omegaconf import OmegaConf\n",
    "\n",
    "import numpy as np\n",
    "import pandas as pd\n",
    "import matplotlib.pyplot as plt\n",
    "import seaborn as sns\n",
    "from scipy.interpolate import UnivariateSpline\n",
    "\n",
    "import xgboost as xgb\n",
    "from xgboost import XGBRegressor\n",
    "from sklearn.model_selection import KFold\n",
    "from sklearn.calibration import calibration_curve\n",
    "from sklearn.metrics import log_loss,mean_squared_error, mean_absolute_error, roc_auc_score, average_precision_score\n",
    "from sklearn.metrics import make_scorer\n",
    "from sklearn.model_selection import cross_val_score, KFold\n",
    "from sklearn.linear_model import LogisticRegression\n",
    "from sklearn.preprocessing import OneHotEncoder\n",
    "from sklearn.isotonic import IsotonicRegression\n",
    "\n",
    "import statsmodels.api as sm\n",
    "\n",
    "START_TIME = time.time()\n",
    "\n",
    "\n",
    "#####\n",
    "#EXP_NUM = \"test\"\n",
    "#####\n",
    "print(EXP_NUM)\n",
    "\n",
    "# hydraの初期設定と指定ハイパラの取得\n",
    "sys.path.append(os.path.abspath(\"/workspace\"))\n",
    "sys.path.append(\"C:\\\\Users\\\\81809\\\\Documents\\\\ALL_CODE\\\\kaggle\\\\March Machine Learning Mania 2025\")\n",
    "with initialize_config_module(version_base=None, config_module=\"conf\"):\n",
    "    cfg = compose(\n",
    "        config_name=\"base.yaml\",\n",
    "        overrides=[\n",
    "            f\"+exp={EXP_NUM}\" #defaultexp001->exp002のオーバーライド\n",
    "        ],\n",
    "    )\n",
    "    \n",
    "    OmegaConf.resolve(cfg)\n",
    "    print(\"Omega conf is below\")\n",
    "    print(OmegaConf.to_yaml(cfg))\n"
   ]
  },
  {
   "cell_type": "code",
   "execution_count": 4,
   "id": "152d27a7",
   "metadata": {
    "execution": {
     "iopub.execute_input": "2025-03-13T15:57:23.958271Z",
     "iopub.status.busy": "2025-03-13T15:57:23.956254Z",
     "iopub.status.idle": "2025-03-13T15:57:23.971463Z",
     "shell.execute_reply": "2025-03-13T15:57:23.971463Z"
    },
    "papermill": {
     "duration": 0.023324,
     "end_time": "2025-03-13T15:57:23.973723",
     "exception": false,
     "start_time": "2025-03-13T15:57:23.950399",
     "status": "completed"
    },
    "tags": []
   },
   "outputs": [
    {
     "name": "stdout",
     "output_type": "stream",
     "text": [
      "########\n",
      "output dir name: POSSRATE_off_RATING_on\n",
      "Run on 2025-03-14 00:57:23.960788\n",
      "POSSRATE off RATING on\n",
      "########\n"
     ]
    }
   ],
   "source": [
    "PREDICT_YEAR = cfg.exp.tournament.target_season\n",
    "name = f\"{cfg.exp.name}\"\n",
    "now = str(datetime.now())\n",
    "print(\"########\")\n",
    "print(f\"output dir name: {name}\")\n",
    "print(f\"Run on {now}\")\n",
    "print(cfg.exp.print_name)\n",
    "print(\"########\")\n",
    "\n",
    "BASE_DIR = os.path.abspath(os.path.join(os.getcwd(), \"..\"))\n",
    "CONF_PATH = os.path.join(BASE_DIR, \"conf\")\n",
    "INPUT_PATH = os.path.join(BASE_DIR, \"input\")\n",
    "EXP_PATH = os.path.join(CONF_PATH, \"exp\", f\"{EXP_NUM}.yaml\")\n",
    "OUTPUT_PATH = os.path.join(BASE_DIR, \"output\", name)\n",
    "SRC_PATH = cfg.dir.src_path\n",
    "sys.path.append(SRC_PATH)\n",
    "\n",
    "os.makedirs(OUTPUT_PATH, exist_ok=True)  \n",
    "with open(EXP_PATH, \"r\", encoding=\"utf-8\") as f:\n",
    "    config = yaml.safe_load(f)\n",
    "shutil.copyfile(EXP_PATH, os.path.join(OUTPUT_PATH, f\"{EXP_NUM}.yaml\"))\n",
    "\n",
    "\n",
    "y_season = cfg.exp.tournament.target_season\n",
    "FEATURES = cfg.exp.features\n",
    "MODEL = cfg.exp.model\n",
    "results = [\"\", f\"-----{PREDICT_YEAR}-----\", now ,name, cfg.exp.print_name,\"\"]"
   ]
  },
  {
   "cell_type": "code",
   "execution_count": 5,
   "id": "943c8ecd",
   "metadata": {
    "execution": {
     "iopub.execute_input": "2025-03-13T15:57:23.985435Z",
     "iopub.status.busy": "2025-03-13T15:57:23.985435Z",
     "iopub.status.idle": "2025-03-13T15:57:25.446398Z",
     "shell.execute_reply": "2025-03-13T15:57:25.446398Z"
    },
    "papermill": {
     "duration": 1.469619,
     "end_time": "2025-03-13T15:57:25.446398",
     "exception": false,
     "start_time": "2025-03-13T15:57:23.976779",
     "status": "completed"
    },
    "tags": []
   },
   "outputs": [],
   "source": [
    "tourney_results = pd.concat([\n",
    "    pd.read_csv(os.path.join(INPUT_PATH,\"MNCAATourneyDetailedResults.csv\")),\n",
    "    pd.read_csv(os.path.join(INPUT_PATH,\"WNCAATourneyDetailedResults.csv\")),\n",
    "], ignore_index=True)\n",
    "\n",
    "seeds = pd.concat([\n",
    "    pd.read_csv(os.path.join(INPUT_PATH,\"MNCAATourneySeeds.csv\")),\n",
    "    pd.read_csv(os.path.join(INPUT_PATH,\"WNCAATourneySeeds.csv\")),\n",
    "], ignore_index=True)\n",
    "\n",
    "regular_results = pd.concat([\n",
    "    pd.read_csv(os.path.join(INPUT_PATH, \"MRegularSeasonDetailedResults.csv\")),\n",
    "    pd.read_csv(os.path.join(INPUT_PATH,\"WRegularSeasonDetailedResults.csv\")),\n",
    "], ignore_index=True)\n",
    "\n",
    "ordinal_rank = pd.read_csv(os.path.join(INPUT_PATH, \"MMasseyOrdinals.csv\"))\n",
    "\n",
    "# 1試合情報からWin,Lose反転させてデータ数２倍にかさまし and WLoc -> location(0 or -1 or 1)\n",
    "def prepare_data(df1):\n",
    "    df = df1.copy()\n",
    "    ### add new box score\n",
    "    #type1: normal EFG\n",
    "    df['WEFFG'] = df['WFGM'] / df['WFGA']\n",
    "    df['LEFFG'] = df['LFGM'] / df['LFGA']\n",
    "    #type2: 1stfeature EFG\n",
    "    df['WEFFG3'] = np.where(df['WFGA3'] == 0, 0, df['WFGM3'] / df['WFGA3'])\n",
    "    df['LEFFG3'] = np.where(df['LFGA3'] == 0, 0, df['LFGM3'] / df['LFGA3'])\n",
    "    df['WDARE'] = df['WFGM3'] / df['WFGM']\n",
    "    df['LDARE'] = df['LFGM3'] / df['LFGM']\n",
    "    df['WTOQUETOQUE'] = df['WAst'] / df['WFGM']\n",
    "    df['LTOQUETOQUE'] = df['LAst'] / df['LFGM']\n",
    "    #type3: OFF/DEF FGE\n",
    "    df[\"WEFG_SUM\"] = (df[\"WFGM\"]+0.5*df[\"WFGM3\"])/df[\"WFGA\"]\n",
    "    df[\"LEFG_SUM\"] = (df[\"LFGM\"]+0.5*df[\"LFGM3\"])/df[\"LFGA\"]\n",
    "\n",
    "    #POSS RATE\n",
    "    df[\"WPOSS\"] = df[\"WFGA\"] + 0.44*df[\"WFTA\"] - df[\"WOR\"] + df[\"WTO\"]\n",
    "    df[\"LPOSS\"] = df[\"LFGA\"] + 0.44*df[\"LFTA\"] - df[\"LOR\"] + df[\"LTO\"]\n",
    "    df[\"WPOSS_RATE\"] = df[\"WPOSS\"]/(df[\"WPOSS\"]+df[\"LPOSS\"])\n",
    "    df[\"LPOSS_RATE\"] = df[\"LPOSS\"]/(df[\"WPOSS\"]+df[\"LPOSS\"])\n",
    "    \n",
    "    #TO Ratio \n",
    "    df[\"WTO_RATIO\"] = df[\"WTO\"]/(df[\"WFGA\"]+0.44*df[\"WFTA\"]+df[\"WTO\"])#POSS RATEと違ってOR入っていない\n",
    "    df[\"LTO_RATIO\"] = df[\"LTO\"]/(df[\"LFGA\"]+0.44*df[\"LFTA\"]+df[\"LTO\"])\n",
    "    \n",
    "    # REB%\n",
    "    df[\"WREB_RATE\"] = df[\"WOR\"]/(df[\"WOR\"]+df[\"LDR\"])\n",
    "    df[\"LREB_RATE\"] = df[\"LOR\"]/(df[\"LOR\"]+df[\"WDR\"])\n",
    "    \n",
    "    #FT %\n",
    "    df[\"WFT_RATE\"] = df[\"WFTA\"]/df[\"WFGA\"]\n",
    "    df[\"LFT_RATE\"] = df[\"LFTA\"]/df[\"LFGA\"]\n",
    "    \n",
    "    #rating\n",
    "    df[\"WRATING\"] = df[\"WScore\"]/df[\"WPOSS\"]\n",
    "    df[\"LRATING\"] = df[\"LScore\"]/df[\"LPOSS\"]\n",
    "        \n",
    "    #0除算補完\n",
    "    print(df.info())\n",
    "        \n",
    "    #かさましに伴う反転カラム\n",
    "    dfswap = df.copy()\n",
    "    # Home, Away変換して反転\n",
    "    dfswap.loc[df['WLoc'] == 'H', 'WLoc'] = 'A'\n",
    "    dfswap.loc[df['WLoc'] == 'A', 'WLoc'] = 'H'\n",
    "    df.columns.values[6] = 'location'\n",
    "    dfswap.columns.values[6] = 'location'    \n",
    "    #反転\n",
    "    df.columns = [x.replace('W','T1_').replace('L','T2_') for x in list(df.columns)]\n",
    "    dfswap.columns = [x.replace('L','T1_').replace('W','T2_') for x in list(dfswap.columns)]\n",
    "    output = pd.concat([df, dfswap]).reset_index(drop=True)\n",
    "    \n",
    "    \n",
    "    #add new feature\n",
    "    #locationを数値に変換\n",
    "    output.loc[output.location=='N','location'] = '0'\n",
    "    output.loc[output.location=='H','location'] = '1'\n",
    "    output.loc[output.location=='A','location'] = '-1'\n",
    "    output.location = output.location.astype(int)\n",
    "    \n",
    "    #add PointDiff&win\n",
    "    output['PointDiff'] = output['T1_Score'] - output['T2_Score']\n",
    "    output[\"win\"] = np.where(output['PointDiff']>0,1,0)\n",
    "    \n",
    "    \n",
    "    print(f\"feature cols after prepare()\")\n",
    "    print(output.columns)\n",
    "    return output\n",
    "\n"
   ]
  },
  {
   "cell_type": "code",
   "execution_count": 6,
   "id": "ffbc89be",
   "metadata": {
    "execution": {
     "iopub.execute_input": "2025-03-13T15:57:25.460745Z",
     "iopub.status.busy": "2025-03-13T15:57:25.460745Z",
     "iopub.status.idle": "2025-03-13T15:57:25.525169Z",
     "shell.execute_reply": "2025-03-13T15:57:25.525169Z"
    },
    "papermill": {
     "duration": 0.069143,
     "end_time": "2025-03-13T15:57:25.525169",
     "exception": false,
     "start_time": "2025-03-13T15:57:25.456026",
     "status": "completed"
    },
    "tags": []
   },
   "outputs": [
    {
     "name": "stdout",
     "output_type": "stream",
     "text": [
      "各カラムの異常値の個数を表示します。\n",
      "\n"
     ]
    }
   ],
   "source": [
    "import numpy as np\n",
    "\n",
    "# 異常値のチェック\n",
    "def check_abnormal_values(df):\n",
    "    print(\"各カラムの異常値の個数を表示します。\\n\")\n",
    "\n",
    "    for col in df.columns:\n",
    "        nan_count = df[col].isna().sum()  # NaN の数\n",
    "        inf_count = (df[col] == np.inf).sum()  # inf の数\n",
    "        neg_inf_count = (df[col] == -np.inf).sum()  # -inf の数\n",
    "\n",
    "        if nan_count > 0 or inf_count > 0 or neg_inf_count > 0:\n",
    "            print(f\"Column: {col}\")\n",
    "            print(f\"  NaN    : {nan_count}\")\n",
    "            print(f\"  Inf    : {inf_count}\")\n",
    "            print(f\"  -Inf   : {neg_inf_count}\")\n",
    "            print(\"-\" * 30)\n",
    "\n",
    "# 関数を実行\n",
    "check_abnormal_values(regular_results)\n"
   ]
  },
  {
   "cell_type": "code",
   "execution_count": 7,
   "id": "96522510",
   "metadata": {
    "execution": {
     "iopub.execute_input": "2025-03-13T15:57:25.537915Z",
     "iopub.status.busy": "2025-03-13T15:57:25.537915Z",
     "iopub.status.idle": "2025-03-13T15:57:25.899401Z",
     "shell.execute_reply": "2025-03-13T15:57:25.899401Z"
    },
    "papermill": {
     "duration": 0.376243,
     "end_time": "2025-03-13T15:57:25.901412",
     "exception": false,
     "start_time": "2025-03-13T15:57:25.525169",
     "status": "completed"
    },
    "tags": []
   },
   "outputs": [
    {
     "name": "stdout",
     "output_type": "stream",
     "text": [
      "<class 'pandas.core.frame.DataFrame'>\n",
      "Index: 139193 entries, 0 to 170137\n",
      "Data columns (total 56 columns):\n",
      " #   Column       Non-Null Count   Dtype  \n",
      "---  ------       --------------   -----  \n",
      " 0   Season       139193 non-null  int64  \n",
      " 1   DayNum       139193 non-null  int64  \n",
      " 2   WTeamID      139193 non-null  int64  \n",
      " 3   WScore       139193 non-null  int64  \n",
      " 4   LTeamID      139193 non-null  int64  \n",
      " 5   LScore       139193 non-null  int64  \n",
      " 6   WLoc         139193 non-null  object \n",
      " 7   NumOT        139193 non-null  int64  \n",
      " 8   WFGM         139193 non-null  int64  \n",
      " 9   WFGA         139193 non-null  int64  \n",
      " 10  WFGM3        139193 non-null  int64  \n",
      " 11  WFGA3        139193 non-null  int64  \n",
      " 12  WFTM         139193 non-null  int64  \n",
      " 13  WFTA         139193 non-null  int64  \n",
      " 14  WOR          139193 non-null  int64  \n",
      " 15  WDR          139193 non-null  int64  \n",
      " 16  WAst         139193 non-null  int64  \n",
      " 17  WTO          139193 non-null  int64  \n",
      " 18  WStl         139193 non-null  int64  \n",
      " 19  WBlk         139193 non-null  int64  \n",
      " 20  WPF          139193 non-null  int64  \n",
      " 21  LFGM         139193 non-null  int64  \n",
      " 22  LFGA         139193 non-null  int64  \n",
      " 23  LFGM3        139193 non-null  int64  \n",
      " 24  LFGA3        139193 non-null  int64  \n",
      " 25  LFTM         139193 non-null  int64  \n",
      " 26  LFTA         139193 non-null  int64  \n",
      " 27  LOR          139193 non-null  int64  \n",
      " 28  LDR          139193 non-null  int64  \n",
      " 29  LAst         139193 non-null  int64  \n",
      " 30  LTO          139193 non-null  int64  \n",
      " 31  LStl         139193 non-null  int64  \n",
      " 32  LBlk         139193 non-null  int64  \n",
      " 33  LPF          139193 non-null  int64  \n",
      " 34  WEFFG        139193 non-null  float64\n",
      " 35  LEFFG        139193 non-null  float64\n",
      " 36  WEFFG3       139193 non-null  float64\n",
      " 37  LEFFG3       139193 non-null  float64\n",
      " 38  WDARE        139193 non-null  float64\n",
      " 39  LDARE        139193 non-null  float64\n",
      " 40  WTOQUETOQUE  139193 non-null  float64\n",
      " 41  LTOQUETOQUE  139193 non-null  float64\n",
      " 42  WEFG_SUM     139193 non-null  float64\n",
      " 43  LEFG_SUM     139193 non-null  float64\n",
      " 44  WPOSS        139193 non-null  float64\n",
      " 45  LPOSS        139193 non-null  float64\n",
      " 46  WPOSS_RATE   139193 non-null  float64\n",
      " 47  LPOSS_RATE   139193 non-null  float64\n",
      " 48  WTO_RATIO    139193 non-null  float64\n",
      " 49  LTO_RATIO    139193 non-null  float64\n",
      " 50  WREB_RATE    139193 non-null  float64\n",
      " 51  LREB_RATE    139193 non-null  float64\n",
      " 52  WFT_RATE     139193 non-null  float64\n",
      " 53  LFT_RATE     139193 non-null  float64\n",
      " 54  WRATING      139193 non-null  float64\n",
      " 55  LRATING      139193 non-null  float64\n",
      "dtypes: float64(22), int64(33), object(1)\n",
      "memory usage: 60.5+ MB\n",
      "None\n"
     ]
    },
    {
     "name": "stdout",
     "output_type": "stream",
     "text": [
      "feature cols after prepare()\n",
      "Index(['Season', 'DayNum', 'T1_TeamID', 'T1_Score', 'T2_TeamID', 'T2_Score',\n",
      "       'location', 'NumOT', 'T1_FGM', 'T1_FGA', 'T1_FGM3', 'T1_FGA3', 'T1_FTM',\n",
      "       'T1_FTA', 'T1_OR', 'T1_DR', 'T1_Ast', 'T1_TO', 'T1_Stl', 'T1_Blk',\n",
      "       'T1_PF', 'T2_FGM', 'T2_FGA', 'T2_FGM3', 'T2_FGA3', 'T2_FTM', 'T2_FTA',\n",
      "       'T2_OR', 'T2_DR', 'T2_Ast', 'T2_TO', 'T2_Stl', 'T2_Blk', 'T2_PF',\n",
      "       'T1_EFFG', 'T2_EFFG', 'T1_EFFG3', 'T2_EFFG3', 'T1_DARE', 'T2_DARE',\n",
      "       'T1_TOQUETOQUE', 'T2_TOQUETOQUE', 'T1_EFG_SUM', 'T2_EFG_SUM', 'T1_POSS',\n",
      "       'T2_POSS', 'T1_POSS_RATE', 'T2_POSS_RATE', 'T1_TO_RATIO', 'T2_TO_RATIO',\n",
      "       'T1_REB_RATE', 'T2_REB_RATE', 'T1_FT_RATE', 'T2_FT_RATE', 'T1_RATING',\n",
      "       'T2_RATING', 'PointDiff', 'win'],\n",
      "      dtype='object')\n",
      "<class 'pandas.core.frame.DataFrame'>\n",
      "RangeIndex: 278386 entries, 0 to 278385\n",
      "Data columns (total 58 columns):\n",
      " #   Column         Non-Null Count   Dtype  \n",
      "---  ------         --------------   -----  \n",
      " 0   Season         278386 non-null  int64  \n",
      " 1   DayNum         278386 non-null  int64  \n",
      " 2   T1_TeamID      278386 non-null  int64  \n",
      " 3   T1_Score       278386 non-null  int64  \n",
      " 4   T2_TeamID      278386 non-null  int64  \n",
      " 5   T2_Score       278386 non-null  int64  \n",
      " 6   location       278386 non-null  int32  \n",
      " 7   NumOT          278386 non-null  int64  \n",
      " 8   T1_FGM         278386 non-null  int64  \n",
      " 9   T1_FGA         278386 non-null  int64  \n",
      " 10  T1_FGM3        278386 non-null  int64  \n",
      " 11  T1_FGA3        278386 non-null  int64  \n",
      " 12  T1_FTM         278386 non-null  int64  \n",
      " 13  T1_FTA         278386 non-null  int64  \n",
      " 14  T1_OR          278386 non-null  int64  \n",
      " 15  T1_DR          278386 non-null  int64  \n",
      " 16  T1_Ast         278386 non-null  int64  \n",
      " 17  T1_TO          278386 non-null  int64  \n",
      " 18  T1_Stl         278386 non-null  int64  \n",
      " 19  T1_Blk         278386 non-null  int64  \n",
      " 20  T1_PF          278386 non-null  int64  \n",
      " 21  T2_FGM         278386 non-null  int64  \n",
      " 22  T2_FGA         278386 non-null  int64  \n",
      " 23  T2_FGM3        278386 non-null  int64  \n",
      " 24  T2_FGA3        278386 non-null  int64  \n",
      " 25  T2_FTM         278386 non-null  int64  \n",
      " 26  T2_FTA         278386 non-null  int64  \n",
      " 27  T2_OR          278386 non-null  int64  \n",
      " 28  T2_DR          278386 non-null  int64  \n",
      " 29  T2_Ast         278386 non-null  int64  \n",
      " 30  T2_TO          278386 non-null  int64  \n",
      " 31  T2_Stl         278386 non-null  int64  \n",
      " 32  T2_Blk         278386 non-null  int64  \n",
      " 33  T2_PF          278386 non-null  int64  \n",
      " 34  T1_EFFG        278386 non-null  float64\n",
      " 35  T2_EFFG        278386 non-null  float64\n",
      " 36  T1_EFFG3       278386 non-null  float64\n",
      " 37  T2_EFFG3       278386 non-null  float64\n",
      " 38  T1_DARE        278386 non-null  float64\n",
      " 39  T2_DARE        278386 non-null  float64\n",
      " 40  T1_TOQUETOQUE  278386 non-null  float64\n",
      " 41  T2_TOQUETOQUE  278386 non-null  float64\n",
      " 42  T1_EFG_SUM     278386 non-null  float64\n",
      " 43  T2_EFG_SUM     278386 non-null  float64\n",
      " 44  T1_POSS        278386 non-null  float64\n",
      " 45  T2_POSS        278386 non-null  float64\n",
      " 46  T1_POSS_RATE   278386 non-null  float64\n",
      " 47  T2_POSS_RATE   278386 non-null  float64\n",
      " 48  T1_TO_RATIO    278386 non-null  float64\n",
      " 49  T2_TO_RATIO    278386 non-null  float64\n",
      " 50  T1_REB_RATE    278386 non-null  float64\n",
      " 51  T2_REB_RATE    278386 non-null  float64\n",
      " 52  T1_FT_RATE     278386 non-null  float64\n",
      " 53  T2_FT_RATE     278386 non-null  float64\n",
      " 54  T1_RATING      278386 non-null  float64\n",
      " 55  T2_RATING      278386 non-null  float64\n",
      " 56  PointDiff      278386 non-null  int64  \n",
      " 57  win            278386 non-null  int32  \n",
      "dtypes: float64(22), int32(2), int64(34)\n",
      "memory usage: 121.1 MB\n"
     ]
    },
    {
     "data": {
      "text/html": [
       "<div>\n",
       "<style scoped>\n",
       "    .dataframe tbody tr th:only-of-type {\n",
       "        vertical-align: middle;\n",
       "    }\n",
       "\n",
       "    .dataframe tbody tr th {\n",
       "        vertical-align: top;\n",
       "    }\n",
       "\n",
       "    .dataframe thead th {\n",
       "        text-align: right;\n",
       "    }\n",
       "</style>\n",
       "<table border=\"1\" class=\"dataframe\">\n",
       "  <thead>\n",
       "    <tr style=\"text-align: right;\">\n",
       "      <th></th>\n",
       "      <th>Season</th>\n",
       "      <th>DayNum</th>\n",
       "      <th>T1_TeamID</th>\n",
       "      <th>T1_Score</th>\n",
       "      <th>T2_TeamID</th>\n",
       "      <th>T2_Score</th>\n",
       "      <th>location</th>\n",
       "      <th>NumOT</th>\n",
       "      <th>T1_FGM</th>\n",
       "      <th>T1_FGA</th>\n",
       "      <th>...</th>\n",
       "      <th>T1_TO_RATIO</th>\n",
       "      <th>T2_TO_RATIO</th>\n",
       "      <th>T1_REB_RATE</th>\n",
       "      <th>T2_REB_RATE</th>\n",
       "      <th>T1_FT_RATE</th>\n",
       "      <th>T2_FT_RATE</th>\n",
       "      <th>T1_RATING</th>\n",
       "      <th>T2_RATING</th>\n",
       "      <th>PointDiff</th>\n",
       "      <th>win</th>\n",
       "    </tr>\n",
       "  </thead>\n",
       "  <tbody>\n",
       "    <tr>\n",
       "      <th>0</th>\n",
       "      <td>2003</td>\n",
       "      <td>10</td>\n",
       "      <td>1104</td>\n",
       "      <td>68</td>\n",
       "      <td>1328</td>\n",
       "      <td>62</td>\n",
       "      <td>0</td>\n",
       "      <td>0</td>\n",
       "      <td>27</td>\n",
       "      <td>58</td>\n",
       "      <td>...</td>\n",
       "      <td>0.258659</td>\n",
       "      <td>0.223104</td>\n",
       "      <td>0.388889</td>\n",
       "      <td>0.294118</td>\n",
       "      <td>0.310345</td>\n",
       "      <td>0.415094</td>\n",
       "      <td>0.907635</td>\n",
       "      <td>0.877193</td>\n",
       "      <td>6</td>\n",
       "      <td>1</td>\n",
       "    </tr>\n",
       "    <tr>\n",
       "      <th>1</th>\n",
       "      <td>2003</td>\n",
       "      <td>10</td>\n",
       "      <td>1272</td>\n",
       "      <td>70</td>\n",
       "      <td>1393</td>\n",
       "      <td>63</td>\n",
       "      <td>0</td>\n",
       "      <td>0</td>\n",
       "      <td>26</td>\n",
       "      <td>62</td>\n",
       "      <td>...</td>\n",
       "      <td>0.155950</td>\n",
       "      <td>0.136674</td>\n",
       "      <td>0.375000</td>\n",
       "      <td>0.416667</td>\n",
       "      <td>0.306452</td>\n",
       "      <td>0.298507</td>\n",
       "      <td>1.023991</td>\n",
       "      <td>0.929204</td>\n",
       "      <td>7</td>\n",
       "      <td>1</td>\n",
       "    </tr>\n",
       "    <tr>\n",
       "      <th>2</th>\n",
       "      <td>2003</td>\n",
       "      <td>11</td>\n",
       "      <td>1266</td>\n",
       "      <td>73</td>\n",
       "      <td>1437</td>\n",
       "      <td>61</td>\n",
       "      <td>0</td>\n",
       "      <td>0</td>\n",
       "      <td>24</td>\n",
       "      <td>58</td>\n",
       "      <td>...</td>\n",
       "      <td>0.123824</td>\n",
       "      <td>0.126156</td>\n",
       "      <td>0.435897</td>\n",
       "      <td>0.543860</td>\n",
       "      <td>0.500000</td>\n",
       "      <td>0.315068</td>\n",
       "      <td>1.144918</td>\n",
       "      <td>0.951341</td>\n",
       "      <td>12</td>\n",
       "      <td>1</td>\n",
       "    </tr>\n",
       "    <tr>\n",
       "      <th>3</th>\n",
       "      <td>2003</td>\n",
       "      <td>11</td>\n",
       "      <td>1296</td>\n",
       "      <td>56</td>\n",
       "      <td>1457</td>\n",
       "      <td>50</td>\n",
       "      <td>0</td>\n",
       "      <td>0</td>\n",
       "      <td>18</td>\n",
       "      <td>38</td>\n",
       "      <td>...</td>\n",
       "      <td>0.188561</td>\n",
       "      <td>0.254692</td>\n",
       "      <td>0.230769</td>\n",
       "      <td>0.472222</td>\n",
       "      <td>0.815789</td>\n",
       "      <td>0.306122</td>\n",
       "      <td>0.971548</td>\n",
       "      <td>0.868056</td>\n",
       "      <td>6</td>\n",
       "      <td>1</td>\n",
       "    </tr>\n",
       "    <tr>\n",
       "      <th>4</th>\n",
       "      <td>2003</td>\n",
       "      <td>11</td>\n",
       "      <td>1400</td>\n",
       "      <td>77</td>\n",
       "      <td>1208</td>\n",
       "      <td>71</td>\n",
       "      <td>0</td>\n",
       "      <td>0</td>\n",
       "      <td>30</td>\n",
       "      <td>61</td>\n",
       "      <td>...</td>\n",
       "      <td>0.173439</td>\n",
       "      <td>0.119218</td>\n",
       "      <td>0.531250</td>\n",
       "      <td>0.488372</td>\n",
       "      <td>0.213115</td>\n",
       "      <td>0.435484</td>\n",
       "      <td>1.208412</td>\n",
       "      <td>1.129135</td>\n",
       "      <td>6</td>\n",
       "      <td>1</td>\n",
       "    </tr>\n",
       "  </tbody>\n",
       "</table>\n",
       "<p>5 rows × 58 columns</p>\n",
       "</div>"
      ],
      "text/plain": [
       "   Season  DayNum  T1_TeamID  T1_Score  T2_TeamID  T2_Score  location  NumOT  \\\n",
       "0    2003      10       1104        68       1328        62         0      0   \n",
       "1    2003      10       1272        70       1393        63         0      0   \n",
       "2    2003      11       1266        73       1437        61         0      0   \n",
       "3    2003      11       1296        56       1457        50         0      0   \n",
       "4    2003      11       1400        77       1208        71         0      0   \n",
       "\n",
       "   T1_FGM  T1_FGA  ...  T1_TO_RATIO  T2_TO_RATIO  T1_REB_RATE  T2_REB_RATE  \\\n",
       "0      27      58  ...     0.258659     0.223104     0.388889     0.294118   \n",
       "1      26      62  ...     0.155950     0.136674     0.375000     0.416667   \n",
       "2      24      58  ...     0.123824     0.126156     0.435897     0.543860   \n",
       "3      18      38  ...     0.188561     0.254692     0.230769     0.472222   \n",
       "4      30      61  ...     0.173439     0.119218     0.531250     0.488372   \n",
       "\n",
       "   T1_FT_RATE  T2_FT_RATE  T1_RATING  T2_RATING  PointDiff  win  \n",
       "0    0.310345    0.415094   0.907635   0.877193          6    1  \n",
       "1    0.306452    0.298507   1.023991   0.929204          7    1  \n",
       "2    0.500000    0.315068   1.144918   0.951341         12    1  \n",
       "3    0.815789    0.306122   0.971548   0.868056          6    1  \n",
       "4    0.213115    0.435484   1.208412   1.129135          6    1  \n",
       "\n",
       "[5 rows x 58 columns]"
      ]
     },
     "metadata": {},
     "output_type": "display_data"
    },
    {
     "data": {
      "text/plain": [
       "None"
      ]
     },
     "metadata": {},
     "output_type": "display_data"
    }
   ],
   "source": [
    "#予測する年以降の情報はフィルタリング\n",
    "USE_START_YEAR = cfg.exp.tournament.use_start_season\n",
    "notexist = tourney_results[tourney_results[\"Season\"] == PREDICT_YEAR]\n",
    "tourney_results = tourney_results[(tourney_results[\"Season\"] >= USE_START_YEAR) & (tourney_results[\"Season\"] < PREDICT_YEAR)]\n",
    "seeds = seeds[(seeds[\"Season\"] >= USE_START_YEAR) & (seeds[\"Season\"] <= PREDICT_YEAR)]\n",
    "regular_results = regular_results[(regular_results[\"Season\"] >= USE_START_YEAR) & (regular_results[\"Season\"] <= PREDICT_YEAR)]\n",
    "\n",
    "regular_data = prepare_data(regular_results)\n",
    "display(regular_data.head(), regular_data.info())"
   ]
  },
  {
   "cell_type": "code",
   "execution_count": 8,
   "id": "c0bf4fb6",
   "metadata": {
    "execution": {
     "iopub.execute_input": "2025-03-13T15:57:25.915446Z",
     "iopub.status.busy": "2025-03-13T15:57:25.915446Z",
     "iopub.status.idle": "2025-03-13T15:57:25.928371Z",
     "shell.execute_reply": "2025-03-13T15:57:25.928371Z"
    },
    "papermill": {
     "duration": 0.02092,
     "end_time": "2025-03-13T15:57:25.928371",
     "exception": false,
     "start_time": "2025-03-13T15:57:25.907451",
     "status": "completed"
    },
    "tags": []
   },
   "outputs": [],
   "source": [
    "#使用特徴量(boxscore_cols)を取得してそれに対して(\"Season\", 'T1_TeamID')でまとめた特徴量の追加\n",
    "#### 1. win_ration_14d ####\n",
    "def add_win_ratio_14d(df):\n",
    "    df_filtered = df[df['DayNum'] > 118].copy()\n",
    "    df_filtered['Win'] = (df_filtered['PointDiff'] > 0).astype(int)\n",
    "    \n",
    "    win_ratio_t1 = df_filtered.groupby(['Season', 'T1_TeamID'])['Win'].mean().reset_index()\n",
    "    win_ratio_t1.rename(columns={'Win': 'T1_win_ratio_14d'}, inplace=True)\n",
    "    \n",
    "    win_ratio_t2 = df_filtered.groupby(['Season', 'T2_TeamID'])['Win'].mean().reset_index()\n",
    "    win_ratio_t2.rename(columns={'Win': 'T2_win_ratio_14d'}, inplace=True)\n",
    "    \n",
    "    df = df.merge(win_ratio_t1, on=['Season', 'T1_TeamID'], how='left')\n",
    "    df = df.merge(win_ratio_t2, on=['Season', 'T2_TeamID'], how='left')\n",
    "    \n",
    "    return df\n",
    "\n",
    "##### 2. add mean of boxscore ####\n",
    "def make_col_avg(df, boxscore, group = [\"Season\", \"T1_TeamID\"], func= [np.mean]):\n",
    "    df_stat = df.groupby(group)[boxscore].agg(func)\n",
    "    df_stat.columns = [''.join(col).strip() for col in df_stat.columns.values]\n",
    "    df_stat = df_stat.reset_index()\n",
    "\n",
    "    win_ratio_cols = ['T1_win_ratio_14d'] #ここマージの関係からT2_win_ratio_14dを外したけど大丈夫か考える\n",
    "    df_win_ratio = df[group + win_ratio_cols].drop_duplicates()\n",
    "    df_stat = df_stat.merge(df_win_ratio, on=group, how='left')\n",
    "    \n",
    "    return df_stat\n",
    "\n",
    "#### 3. add team quality ####\n",
    "# 3.0 ロジスティックを行うためのregular_season_effectsデータフレームの作成\n",
    "def make_regular_season_effects(df):\n",
    "    regular_season_effects = df[['Season', 'T1_TeamID', 'T2_TeamID', 'PointDiff']].copy()\n",
    "    regular_season_effects['win'] = np.where(regular_season_effects['PointDiff'] > 0, 1, 0)\n",
    "    return regular_season_effects\n",
    "\n",
    "# 3.1\n",
    "#各シーズンごとの総当たりに対するロジスティック回帰を行う\n",
    "#目的変数はfeatureenginneringから作成したPointDiffの正負に依存するWinとする.\n",
    "#新たな特徴量\"quarity\"をseasonごとの戦績をもとにロジスティックの回帰係数として導入している\n",
    "def team_quality(season,df):\n",
    "    season_data = df[df[\"Season\"] == season]\n",
    "    X = season_data[['T1_TeamID', 'T2_TeamID']]\n",
    "    y = season_data['win']\n",
    "    print(X.shape, y.shape)\n",
    "    encoder = OneHotEncoder(sparse_output=False) #多重共線性防止, 密行列指定\n",
    "    X_encoded = encoder.fit_transform(X)\n",
    "    \n",
    "    model = LogisticRegression(fit_intercept=False)\n",
    "    model.fit(X_encoded, y)\n",
    "    team_ids = encoder.get_feature_names_out(['T1_TeamID', 'T2_TeamID'])\n",
    "\n",
    "    \n",
    "    #quarity: (チーム数)*2(ID, 回帰係数)\n",
    "    quality = pd.DataFrame({\n",
    "        'TeamID': team_ids,\n",
    "        'quality': model.coef_.flatten() #T1_TeamID_1112,,,の形でチーム数分の回帰係数が入る\n",
    "    })\n",
    "\n",
    "    # 値をint 1112 のように整形\n",
    "    quality = quality[quality['TeamID'].str.contains('T1_TeamID')]\n",
    "    quality['TeamID'] = quality['TeamID'].str.replace('T1_TeamID_', '', regex=True).astype(int)\n",
    "    quality['Season'] = season\n",
    "\n",
    "    #display(quality.head())\n",
    "    print(f\"fin make {season}'s team quarity\")\n",
    "    return quality\n",
    "\n",
    "# 4. add seed\n",
    "def add_seed(df, seeds):\n",
    "    temp = seeds.copy()\n",
    "    temp['Seed'] = temp['Seed'].apply(lambda x: int(x[1:3]))\n",
    "    temp.columns = ['Season','T1_seed','T1_TeamID']\n",
    "    df = pd.merge(df, temp, on=[\"Season\", \"T1_TeamID\"], how=\"left\")\n",
    "    return df \n",
    "\n",
    "# 5. add Ordinal rank\n",
    "def add_ordinalrank(df, ordinal):\n",
    "    df_rank = ordinal.groupby([\"Season\", \"TeamID\"])[\"OrdinalRank\"].agg(np.mean).reset_index()\n",
    "    df_rank.head()\n",
    "    ranks = df_rank.rename(columns={'TeamID': 'T1_TeamID', 'OrdinalRank': 'T1_OrdinalRank'})\n",
    "    df = pd.merge(df,ranks,on = [\"Season\",\"T1_TeamID\"],how = \"left\")\n",
    "    return df\n",
    "\n",
    "# main \n",
    "def make_season_statistics(df, boxscore, seeds, func = [np.mean]):\n",
    "    # 1. Win Ratio の計算と追加\n",
    "    add_win = add_win_ratio_14d(df)\n",
    "    print(\"after add win ratio\")\n",
    "    print(add_win.columns)  \n",
    "    \n",
    "    #2. \n",
    "    add_mean = make_col_avg(add_win, boxscore)\n",
    "    print(\"after mean of boxscore\")\n",
    "    print(add_mean.columns)\n",
    "    \n",
    "    #3. \n",
    "    global PREDICT_YEAR, USE_START_YEAR\n",
    "    start_season = max(FEATURES.start_quality_season, USE_START_YEAR)\n",
    "    print(f\"use season for quality feature is: {start_season}\")\n",
    "    regular_season_effects = make_regular_season_effects(df)\n",
    "    glm_season = [i for i in range(start_season, PREDICT_YEAR+1)]\n",
    "\n",
    "    if 2020 in glm_season:\n",
    "        glm_season.remove(2020)\n",
    "    glm_quality = pd.concat([team_quality(season, regular_season_effects) for season in glm_season]).reset_index(drop=True)\n",
    "    # add glm quality \n",
    "    glm_quality_T1 = glm_quality.rename(columns={'TeamID': 'T1_TeamID', 'quality': 'T1_quality'})\n",
    "    add_glm = add_mean.merge(glm_quality_T1, on=['Season', 'T1_TeamID'], how='left')\n",
    "\n",
    "    print(\"add glm quality\")\n",
    "    print(add_glm.columns)\n",
    "    \n",
    "    #4. \n",
    "    add_seeds = add_seed(add_glm, seeds)\n",
    "    print(\"add seeds (final form)\")\n",
    "    print(add_seeds.columns)\n",
    "    \n",
    "    #5. \n",
    "    add_rank = add_ordinalrank(add_seeds, ordinal_rank)\n",
    "    print(\"add ordinal rank\")\n",
    "    print(add_rank.columns)  \n",
    "    return add_rank"
   ]
  },
  {
   "cell_type": "code",
   "execution_count": 9,
   "id": "c8b4cf62",
   "metadata": {
    "execution": {
     "iopub.execute_input": "2025-03-13T15:57:25.939392Z",
     "iopub.status.busy": "2025-03-13T15:57:25.939392Z",
     "iopub.status.idle": "2025-03-13T15:57:28.719525Z",
     "shell.execute_reply": "2025-03-13T15:57:28.718462Z"
    },
    "papermill": {
     "duration": 2.791154,
     "end_time": "2025-03-13T15:57:28.719525",
     "exception": false,
     "start_time": "2025-03-13T15:57:25.928371",
     "status": "completed"
    },
    "tags": []
   },
   "outputs": [
    {
     "name": "stdout",
     "output_type": "stream",
     "text": [
      "use boxscore col is\n",
      "['T1_Score', 'T2_Score', 'PointDiff', 'T1_FGM', 'T2_FGM', 'T1_FGA', 'T2_FGA', 'T1_FGM3', 'T2_FGM3', 'T1_FGA3', 'T2_FGA3', 'T1_FTM', 'T2_FTM', 'T1_FTA', 'T2_FTA', 'T1_EFG_SUM', 'T2_EFG_SUM', 'T1_TO_RATIO', 'T2_TO_RATIO', 'T1_OR', 'T2_OR', 'T1_DR', 'T2_DR', 'T1_REB_RATE', 'T2_REB_RATE', 'T1_FT_RATE', 'T2_FT_RATE', 'T1_RATING', 'T2_RATING', 'T1_Ast', 'T2_Ast', 'T1_TO', 'T2_TO', 'T1_Stl', 'T2_Stl', 'T1_Blk', 'T2_Blk', 'T1_PF', 'T2_PF']\n"
     ]
    },
    {
     "name": "stdout",
     "output_type": "stream",
     "text": [
      "after add win ratio\n",
      "Index(['Season', 'DayNum', 'T1_TeamID', 'T1_Score', 'T2_TeamID', 'T2_Score',\n",
      "       'location', 'NumOT', 'T1_FGM', 'T1_FGA', 'T1_FGM3', 'T1_FGA3', 'T1_FTM',\n",
      "       'T1_FTA', 'T1_OR', 'T1_DR', 'T1_Ast', 'T1_TO', 'T1_Stl', 'T1_Blk',\n",
      "       'T1_PF', 'T2_FGM', 'T2_FGA', 'T2_FGM3', 'T2_FGA3', 'T2_FTM', 'T2_FTA',\n",
      "       'T2_OR', 'T2_DR', 'T2_Ast', 'T2_TO', 'T2_Stl', 'T2_Blk', 'T2_PF',\n",
      "       'T1_EFFG', 'T2_EFFG', 'T1_EFFG3', 'T2_EFFG3', 'T1_DARE', 'T2_DARE',\n",
      "       'T1_TOQUETOQUE', 'T2_TOQUETOQUE', 'T1_EFG_SUM', 'T2_EFG_SUM', 'T1_POSS',\n",
      "       'T2_POSS', 'T1_POSS_RATE', 'T2_POSS_RATE', 'T1_TO_RATIO', 'T2_TO_RATIO',\n",
      "       'T1_REB_RATE', 'T2_REB_RATE', 'T1_FT_RATE', 'T2_FT_RATE', 'T1_RATING',\n",
      "       'T2_RATING', 'PointDiff', 'win', 'T1_win_ratio_14d',\n",
      "       'T2_win_ratio_14d'],\n",
      "      dtype='object')\n"
     ]
    },
    {
     "name": "stdout",
     "output_type": "stream",
     "text": [
      "after mean of boxscore\n",
      "Index(['Season', 'T1_TeamID', 'T1_Scoremean', 'T2_Scoremean', 'PointDiffmean',\n",
      "       'T1_FGMmean', 'T2_FGMmean', 'T1_FGAmean', 'T2_FGAmean', 'T1_FGM3mean',\n",
      "       'T2_FGM3mean', 'T1_FGA3mean', 'T2_FGA3mean', 'T1_FTMmean', 'T2_FTMmean',\n",
      "       'T1_FTAmean', 'T2_FTAmean', 'T1_EFG_SUMmean', 'T2_EFG_SUMmean',\n",
      "       'T1_TO_RATIOmean', 'T2_TO_RATIOmean', 'T1_ORmean', 'T2_ORmean',\n",
      "       'T1_DRmean', 'T2_DRmean', 'T1_REB_RATEmean', 'T2_REB_RATEmean',\n",
      "       'T1_FT_RATEmean', 'T2_FT_RATEmean', 'T1_RATINGmean', 'T2_RATINGmean',\n",
      "       'T1_Astmean', 'T2_Astmean', 'T1_TOmean', 'T2_TOmean', 'T1_Stlmean',\n",
      "       'T2_Stlmean', 'T1_Blkmean', 'T2_Blkmean', 'T1_PFmean', 'T2_PFmean',\n",
      "       'T1_win_ratio_14d'],\n",
      "      dtype='object')\n",
      "use season for quality feature is: 2003\n",
      "(9232, 2) (9232,)\n",
      "fin make 2003's team quarity\n",
      "(9142, 2) (9142,)\n"
     ]
    },
    {
     "name": "stderr",
     "output_type": "stream",
     "text": [
      "C:\\Users\\81809\\AppData\\Local\\Temp\\ipykernel_17852\\386782032.py:20: FutureWarning: The provided callable <function mean at 0x00000149253A6520> is currently using SeriesGroupBy.mean. In a future version of pandas, the provided callable will be used directly. To keep current behavior pass the string \"mean\" instead.\n",
      "  df_stat = df.groupby(group)[boxscore].agg(func)\n"
     ]
    },
    {
     "name": "stdout",
     "output_type": "stream",
     "text": [
      "fin make 2004's team quarity\n",
      "(9350, 2) (9350,)\n",
      "fin make 2005's team quarity\n",
      "(9514, 2) (9514,)\n",
      "fin make 2006's team quarity\n",
      "(10086, 2) (10086,)\n"
     ]
    },
    {
     "name": "stdout",
     "output_type": "stream",
     "text": [
      "fin make 2007's team quarity\n",
      "(10326, 2) (10326,)\n",
      "fin make 2008's team quarity\n",
      "(10498, 2) (10498,)\n"
     ]
    },
    {
     "name": "stdout",
     "output_type": "stream",
     "text": [
      "fin make 2009's team quarity\n",
      "(20600, 2) (20600,)\n"
     ]
    },
    {
     "name": "stdout",
     "output_type": "stream",
     "text": [
      "fin make 2010's team quarity\n",
      "(20660, 2) (20660,)\n"
     ]
    },
    {
     "name": "stdout",
     "output_type": "stream",
     "text": [
      "fin make 2011's team quarity\n",
      "(20606, 2) (20606,)\n"
     ]
    },
    {
     "name": "stdout",
     "output_type": "stream",
     "text": [
      "fin make 2012's team quarity\n",
      "(21008, 2) (21008,)\n"
     ]
    },
    {
     "name": "stdout",
     "output_type": "stream",
     "text": [
      "fin make 2013's team quarity\n",
      "(21228, 2) (21228,)\n",
      "fin make 2014's team quarity\n",
      "(21136, 2) (21136,)\n"
     ]
    },
    {
     "name": "stdout",
     "output_type": "stream",
     "text": [
      "fin make 2015's team quarity\n",
      "(21156, 2) (21156,)\n",
      "fin make 2016's team quarity\n",
      "(21210, 2) (21210,)\n"
     ]
    },
    {
     "name": "stdout",
     "output_type": "stream",
     "text": [
      "fin make 2017's team quarity\n",
      "(21228, 2) (21228,)\n"
     ]
    },
    {
     "name": "stdout",
     "output_type": "stream",
     "text": [
      "fin make 2018's team quarity\n",
      "(21406, 2) (21406,)\n",
      "fin make 2019's team quarity\n",
      "add glm quality\n",
      "Index(['Season', 'T1_TeamID', 'T1_Scoremean', 'T2_Scoremean', 'PointDiffmean',\n",
      "       'T1_FGMmean', 'T2_FGMmean', 'T1_FGAmean', 'T2_FGAmean', 'T1_FGM3mean',\n",
      "       'T2_FGM3mean', 'T1_FGA3mean', 'T2_FGA3mean', 'T1_FTMmean', 'T2_FTMmean',\n",
      "       'T1_FTAmean', 'T2_FTAmean', 'T1_EFG_SUMmean', 'T2_EFG_SUMmean',\n",
      "       'T1_TO_RATIOmean', 'T2_TO_RATIOmean', 'T1_ORmean', 'T2_ORmean',\n",
      "       'T1_DRmean', 'T2_DRmean', 'T1_REB_RATEmean', 'T2_REB_RATEmean',\n",
      "       'T1_FT_RATEmean', 'T2_FT_RATEmean', 'T1_RATINGmean', 'T2_RATINGmean',\n",
      "       'T1_Astmean', 'T2_Astmean', 'T1_TOmean', 'T2_TOmean', 'T1_Stlmean',\n",
      "       'T2_Stlmean', 'T1_Blkmean', 'T2_Blkmean', 'T1_PFmean', 'T2_PFmean',\n",
      "       'T1_win_ratio_14d', 'T1_quality'],\n",
      "      dtype='object')\n",
      "add seeds (final form)\n",
      "Index(['Season', 'T1_TeamID', 'T1_Scoremean', 'T2_Scoremean', 'PointDiffmean',\n",
      "       'T1_FGMmean', 'T2_FGMmean', 'T1_FGAmean', 'T2_FGAmean', 'T1_FGM3mean',\n",
      "       'T2_FGM3mean', 'T1_FGA3mean', 'T2_FGA3mean', 'T1_FTMmean', 'T2_FTMmean',\n",
      "       'T1_FTAmean', 'T2_FTAmean', 'T1_EFG_SUMmean', 'T2_EFG_SUMmean',\n",
      "       'T1_TO_RATIOmean', 'T2_TO_RATIOmean', 'T1_ORmean', 'T2_ORmean',\n",
      "       'T1_DRmean', 'T2_DRmean', 'T1_REB_RATEmean', 'T2_REB_RATEmean',\n",
      "       'T1_FT_RATEmean', 'T2_FT_RATEmean', 'T1_RATINGmean', 'T2_RATINGmean',\n",
      "       'T1_Astmean', 'T2_Astmean', 'T1_TOmean', 'T2_TOmean', 'T1_Stlmean',\n",
      "       'T2_Stlmean', 'T1_Blkmean', 'T2_Blkmean', 'T1_PFmean', 'T2_PFmean',\n",
      "       'T1_win_ratio_14d', 'T1_quality', 'T1_seed'],\n",
      "      dtype='object')\n"
     ]
    },
    {
     "name": "stderr",
     "output_type": "stream",
     "text": [
      "C:\\Users\\81809\\AppData\\Local\\Temp\\ipykernel_17852\\386782032.py:79: FutureWarning: The provided callable <function mean at 0x00000149253A6520> is currently using SeriesGroupBy.mean. In a future version of pandas, the provided callable will be used directly. To keep current behavior pass the string \"mean\" instead.\n",
      "  df_rank = ordinal.groupby([\"Season\", \"TeamID\"])[\"OrdinalRank\"].agg(np.mean).reset_index()\n"
     ]
    },
    {
     "name": "stdout",
     "output_type": "stream",
     "text": [
      "add ordinal rank\n",
      "Index(['Season', 'T1_TeamID', 'T1_Scoremean', 'T2_Scoremean', 'PointDiffmean',\n",
      "       'T1_FGMmean', 'T2_FGMmean', 'T1_FGAmean', 'T2_FGAmean', 'T1_FGM3mean',\n",
      "       'T2_FGM3mean', 'T1_FGA3mean', 'T2_FGA3mean', 'T1_FTMmean', 'T2_FTMmean',\n",
      "       'T1_FTAmean', 'T2_FTAmean', 'T1_EFG_SUMmean', 'T2_EFG_SUMmean',\n",
      "       'T1_TO_RATIOmean', 'T2_TO_RATIOmean', 'T1_ORmean', 'T2_ORmean',\n",
      "       'T1_DRmean', 'T2_DRmean', 'T1_REB_RATEmean', 'T2_REB_RATEmean',\n",
      "       'T1_FT_RATEmean', 'T2_FT_RATEmean', 'T1_RATINGmean', 'T2_RATINGmean',\n",
      "       'T1_Astmean', 'T2_Astmean', 'T1_TOmean', 'T2_TOmean', 'T1_Stlmean',\n",
      "       'T2_Stlmean', 'T1_Blkmean', 'T2_Blkmean', 'T1_PFmean', 'T2_PFmean',\n",
      "       'T1_win_ratio_14d', 'T1_quality', 'T1_seed', 'T1_OrdinalRank'],\n",
      "      dtype='object')\n"
     ]
    },
    {
     "data": {
      "text/html": [
       "<div>\n",
       "<style scoped>\n",
       "    .dataframe tbody tr th:only-of-type {\n",
       "        vertical-align: middle;\n",
       "    }\n",
       "\n",
       "    .dataframe tbody tr th {\n",
       "        vertical-align: top;\n",
       "    }\n",
       "\n",
       "    .dataframe thead th {\n",
       "        text-align: right;\n",
       "    }\n",
       "</style>\n",
       "<table border=\"1\" class=\"dataframe\">\n",
       "  <thead>\n",
       "    <tr style=\"text-align: right;\">\n",
       "      <th></th>\n",
       "      <th>Season</th>\n",
       "      <th>T1_TeamID</th>\n",
       "      <th>T1_Scoremean</th>\n",
       "      <th>T2_Scoremean</th>\n",
       "      <th>PointDiffmean</th>\n",
       "      <th>T1_FGMmean</th>\n",
       "      <th>T2_FGMmean</th>\n",
       "      <th>T1_FGAmean</th>\n",
       "      <th>T2_FGAmean</th>\n",
       "      <th>T1_FGM3mean</th>\n",
       "      <th>...</th>\n",
       "      <th>T1_Stlmean</th>\n",
       "      <th>T2_Stlmean</th>\n",
       "      <th>T1_Blkmean</th>\n",
       "      <th>T2_Blkmean</th>\n",
       "      <th>T1_PFmean</th>\n",
       "      <th>T2_PFmean</th>\n",
       "      <th>T1_win_ratio_14d</th>\n",
       "      <th>T1_quality</th>\n",
       "      <th>T1_seed</th>\n",
       "      <th>T1_OrdinalRank</th>\n",
       "    </tr>\n",
       "  </thead>\n",
       "  <tbody>\n",
       "    <tr>\n",
       "      <th>9298</th>\n",
       "      <td>2019</td>\n",
       "      <td>3462</td>\n",
       "      <td>60.862069</td>\n",
       "      <td>66.482759</td>\n",
       "      <td>-5.620690</td>\n",
       "      <td>21.896552</td>\n",
       "      <td>24.448276</td>\n",
       "      <td>57.517241</td>\n",
       "      <td>59.758621</td>\n",
       "      <td>7.862069</td>\n",
       "      <td>...</td>\n",
       "      <td>7.586207</td>\n",
       "      <td>7.758621</td>\n",
       "      <td>2.586207</td>\n",
       "      <td>3.172414</td>\n",
       "      <td>15.241379</td>\n",
       "      <td>15.172414</td>\n",
       "      <td>0.0</td>\n",
       "      <td>-0.296941</td>\n",
       "      <td>NaN</td>\n",
       "      <td>NaN</td>\n",
       "    </tr>\n",
       "    <tr>\n",
       "      <th>9299</th>\n",
       "      <td>2019</td>\n",
       "      <td>3463</td>\n",
       "      <td>63.344828</td>\n",
       "      <td>61.551724</td>\n",
       "      <td>1.793103</td>\n",
       "      <td>23.724138</td>\n",
       "      <td>21.965517</td>\n",
       "      <td>60.517241</td>\n",
       "      <td>60.379310</td>\n",
       "      <td>5.551724</td>\n",
       "      <td>...</td>\n",
       "      <td>5.172414</td>\n",
       "      <td>8.344828</td>\n",
       "      <td>3.586207</td>\n",
       "      <td>2.517241</td>\n",
       "      <td>16.448276</td>\n",
       "      <td>17.551724</td>\n",
       "      <td>0.0</td>\n",
       "      <td>0.134368</td>\n",
       "      <td>NaN</td>\n",
       "      <td>NaN</td>\n",
       "    </tr>\n",
       "    <tr>\n",
       "      <th>9300</th>\n",
       "      <td>2019</td>\n",
       "      <td>3464</td>\n",
       "      <td>68.137931</td>\n",
       "      <td>58.000000</td>\n",
       "      <td>10.137931</td>\n",
       "      <td>23.241379</td>\n",
       "      <td>21.862069</td>\n",
       "      <td>55.758621</td>\n",
       "      <td>58.655172</td>\n",
       "      <td>8.620690</td>\n",
       "      <td>...</td>\n",
       "      <td>4.344828</td>\n",
       "      <td>7.448276</td>\n",
       "      <td>3.482759</td>\n",
       "      <td>3.482759</td>\n",
       "      <td>13.862069</td>\n",
       "      <td>17.896552</td>\n",
       "      <td>0.5</td>\n",
       "      <td>0.638405</td>\n",
       "      <td>NaN</td>\n",
       "      <td>NaN</td>\n",
       "    </tr>\n",
       "    <tr>\n",
       "      <th>9301</th>\n",
       "      <td>2019</td>\n",
       "      <td>3465</td>\n",
       "      <td>76.200000</td>\n",
       "      <td>69.840000</td>\n",
       "      <td>6.360000</td>\n",
       "      <td>28.560000</td>\n",
       "      <td>26.600000</td>\n",
       "      <td>67.520000</td>\n",
       "      <td>69.200000</td>\n",
       "      <td>9.160000</td>\n",
       "      <td>...</td>\n",
       "      <td>7.280000</td>\n",
       "      <td>7.920000</td>\n",
       "      <td>3.160000</td>\n",
       "      <td>3.160000</td>\n",
       "      <td>15.520000</td>\n",
       "      <td>15.440000</td>\n",
       "      <td>0.5</td>\n",
       "      <td>-0.182555</td>\n",
       "      <td>NaN</td>\n",
       "      <td>NaN</td>\n",
       "    </tr>\n",
       "    <tr>\n",
       "      <th>9302</th>\n",
       "      <td>2019</td>\n",
       "      <td>3466</td>\n",
       "      <td>69.521739</td>\n",
       "      <td>63.217391</td>\n",
       "      <td>6.304348</td>\n",
       "      <td>24.869565</td>\n",
       "      <td>23.913043</td>\n",
       "      <td>58.434783</td>\n",
       "      <td>58.260870</td>\n",
       "      <td>6.217391</td>\n",
       "      <td>...</td>\n",
       "      <td>8.478261</td>\n",
       "      <td>8.478261</td>\n",
       "      <td>3.695652</td>\n",
       "      <td>3.217391</td>\n",
       "      <td>17.478261</td>\n",
       "      <td>19.173913</td>\n",
       "      <td>0.0</td>\n",
       "      <td>0.107970</td>\n",
       "      <td>NaN</td>\n",
       "      <td>NaN</td>\n",
       "    </tr>\n",
       "  </tbody>\n",
       "</table>\n",
       "<p>5 rows × 45 columns</p>\n",
       "</div>"
      ],
      "text/plain": [
       "      Season  T1_TeamID  T1_Scoremean  T2_Scoremean  PointDiffmean  \\\n",
       "9298    2019       3462     60.862069     66.482759      -5.620690   \n",
       "9299    2019       3463     63.344828     61.551724       1.793103   \n",
       "9300    2019       3464     68.137931     58.000000      10.137931   \n",
       "9301    2019       3465     76.200000     69.840000       6.360000   \n",
       "9302    2019       3466     69.521739     63.217391       6.304348   \n",
       "\n",
       "      T1_FGMmean  T2_FGMmean  T1_FGAmean  T2_FGAmean  T1_FGM3mean  ...  \\\n",
       "9298   21.896552   24.448276   57.517241   59.758621     7.862069  ...   \n",
       "9299   23.724138   21.965517   60.517241   60.379310     5.551724  ...   \n",
       "9300   23.241379   21.862069   55.758621   58.655172     8.620690  ...   \n",
       "9301   28.560000   26.600000   67.520000   69.200000     9.160000  ...   \n",
       "9302   24.869565   23.913043   58.434783   58.260870     6.217391  ...   \n",
       "\n",
       "      T1_Stlmean  T2_Stlmean  T1_Blkmean  T2_Blkmean  T1_PFmean  T2_PFmean  \\\n",
       "9298    7.586207    7.758621    2.586207    3.172414  15.241379  15.172414   \n",
       "9299    5.172414    8.344828    3.586207    2.517241  16.448276  17.551724   \n",
       "9300    4.344828    7.448276    3.482759    3.482759  13.862069  17.896552   \n",
       "9301    7.280000    7.920000    3.160000    3.160000  15.520000  15.440000   \n",
       "9302    8.478261    8.478261    3.695652    3.217391  17.478261  19.173913   \n",
       "\n",
       "      T1_win_ratio_14d  T1_quality  T1_seed  T1_OrdinalRank  \n",
       "9298               0.0   -0.296941      NaN             NaN  \n",
       "9299               0.0    0.134368      NaN             NaN  \n",
       "9300               0.5    0.638405      NaN             NaN  \n",
       "9301               0.5   -0.182555      NaN             NaN  \n",
       "9302               0.0    0.107970      NaN             NaN  \n",
       "\n",
       "[5 rows x 45 columns]"
      ]
     },
     "execution_count": 9,
     "metadata": {},
     "output_type": "execute_result"
    }
   ],
   "source": [
    "features = FEATURES.cal_mean_boxscore\n",
    "boxscore_cols = [col for col, use in features.items() if use]\n",
    "print(\"use boxscore col is\")\n",
    "print(boxscore_cols)\n",
    "\n",
    "season_statistics = make_season_statistics(regular_data, boxscore_cols, seeds, func = [np.mean])\n",
    "season_statistics.tail()"
   ]
  },
  {
   "cell_type": "code",
   "execution_count": 10,
   "id": "aba5c241",
   "metadata": {
    "execution": {
     "iopub.execute_input": "2025-03-13T15:57:28.735495Z",
     "iopub.status.busy": "2025-03-13T15:57:28.719525Z",
     "iopub.status.idle": "2025-03-13T15:57:28.743069Z",
     "shell.execute_reply": "2025-03-13T15:57:28.743069Z"
    },
    "papermill": {
     "duration": 0.023544,
     "end_time": "2025-03-13T15:57:28.743069",
     "exception": false,
     "start_time": "2025-03-13T15:57:28.719525",
     "status": "completed"
    },
    "tags": []
   },
   "outputs": [
    {
     "name": "stdout",
     "output_type": "stream",
     "text": [
      "<class 'pandas.core.frame.DataFrame'>\n",
      "RangeIndex: 9303 entries, 0 to 9302\n",
      "Data columns (total 45 columns):\n",
      " #   Column            Non-Null Count  Dtype  \n",
      "---  ------            --------------  -----  \n",
      " 0   Season            9303 non-null   int64  \n",
      " 1   T1_TeamID         9303 non-null   int64  \n",
      " 2   T1_Scoremean      9303 non-null   float64\n",
      " 3   T2_Scoremean      9303 non-null   float64\n",
      " 4   PointDiffmean     9303 non-null   float64\n",
      " 5   T1_FGMmean        9303 non-null   float64\n",
      " 6   T2_FGMmean        9303 non-null   float64\n",
      " 7   T1_FGAmean        9303 non-null   float64\n",
      " 8   T2_FGAmean        9303 non-null   float64\n",
      " 9   T1_FGM3mean       9303 non-null   float64\n",
      " 10  T2_FGM3mean       9303 non-null   float64\n",
      " 11  T1_FGA3mean       9303 non-null   float64\n",
      " 12  T2_FGA3mean       9303 non-null   float64\n",
      " 13  T1_FTMmean        9303 non-null   float64\n",
      " 14  T2_FTMmean        9303 non-null   float64\n",
      " 15  T1_FTAmean        9303 non-null   float64\n",
      " 16  T2_FTAmean        9303 non-null   float64\n",
      " 17  T1_EFG_SUMmean    9303 non-null   float64\n",
      " 18  T2_EFG_SUMmean    9303 non-null   float64\n",
      " 19  T1_TO_RATIOmean   9303 non-null   float64\n",
      " 20  T2_TO_RATIOmean   9303 non-null   float64\n",
      " 21  T1_ORmean         9303 non-null   float64\n",
      " 22  T2_ORmean         9303 non-null   float64\n",
      " 23  T1_DRmean         9303 non-null   float64\n",
      " 24  T2_DRmean         9303 non-null   float64\n",
      " 25  T1_REB_RATEmean   9303 non-null   float64\n",
      " 26  T2_REB_RATEmean   9303 non-null   float64\n",
      " 27  T1_FT_RATEmean    9303 non-null   float64\n",
      " 28  T2_FT_RATEmean    9303 non-null   float64\n",
      " 29  T1_RATINGmean     9303 non-null   float64\n",
      " 30  T2_RATINGmean     9303 non-null   float64\n",
      " 31  T1_Astmean        9303 non-null   float64\n",
      " 32  T2_Astmean        9303 non-null   float64\n",
      " 33  T1_TOmean         9303 non-null   float64\n",
      " 34  T2_TOmean         9303 non-null   float64\n",
      " 35  T1_Stlmean        9303 non-null   float64\n",
      " 36  T2_Stlmean        9303 non-null   float64\n",
      " 37  T1_Blkmean        9303 non-null   float64\n",
      " 38  T2_Blkmean        9303 non-null   float64\n",
      " 39  T1_PFmean         9303 non-null   float64\n",
      " 40  T2_PFmean         9303 non-null   float64\n",
      " 41  T1_win_ratio_14d  9000 non-null   float64\n",
      " 42  T1_quality        9303 non-null   float64\n",
      " 43  T1_seed           1772 non-null   float64\n",
      " 44  T1_OrdinalRank    5834 non-null   float64\n",
      "dtypes: float64(43), int64(2)\n",
      "memory usage: 3.2 MB\n"
     ]
    }
   ],
   "source": [
    "season_statistics.info()"
   ]
  },
  {
   "cell_type": "code",
   "execution_count": 11,
   "id": "6ce375b5",
   "metadata": {
    "execution": {
     "iopub.execute_input": "2025-03-13T15:57:28.755943Z",
     "iopub.status.busy": "2025-03-13T15:57:28.755943Z",
     "iopub.status.idle": "2025-03-13T15:57:28.784442Z",
     "shell.execute_reply": "2025-03-13T15:57:28.784442Z"
    },
    "papermill": {
     "duration": 0.041373,
     "end_time": "2025-03-13T15:57:28.784442",
     "exception": false,
     "start_time": "2025-03-13T15:57:28.743069",
     "status": "completed"
    },
    "tags": []
   },
   "outputs": [],
   "source": [
    "####ボックスscoreの平均に対して、過去３年の加重平均を取るときの処理 ####\n",
    "def get_mean_of_3_season(val_2ps, val_1ps, val_0ps, \n",
    "                         weight_2, weight_1, weight_0, \n",
    "                         degree_weight=1.0\n",
    "                         ):\n",
    "    weight_2 = weight_2**degree_weight\n",
    "    weight_1 = weight_1**degree_weight\n",
    "    weight_0 = weight_0**degree_weight\n",
    "    if val_2ps == 0  and val_1ps == 0:\n",
    "        return val_0ps\n",
    "    elif val_2ps == 0:\n",
    "        return (val_1ps*weight_2 + val_0ps*weight_1)/(weight_2 + weight_1)\n",
    "    else:\n",
    "        sum_of_values = val_2ps*weight_2 + val_1ps*weight_1 + val_0ps*weight_0\n",
    "        return sum_of_values/(weight_2 + weight_1 + weight_0)\n",
    "\n",
    "def get_3_feature(df_team, feature):\n",
    "    value_2_seasons_ago = 0\n",
    "    value_1_season_ago = 0\n",
    "    value_0_season_ago = 0\n",
    "    for _, val in df_team.iterrows():\n",
    "        value_2_seasons_ago = value_1_season_ago\n",
    "        value_1_season_ago = value_0_season_ago\n",
    "        value_0_season_ago = val[feature]\n",
    "    return value_2_seasons_ago, value_1_season_ago, value_0_season_ago\n",
    "\n",
    "def write_mean_of_3_seasons(df, features, weight, degree_weight=1.0):\n",
    "    \"\"\"\n",
    "    val_0ps - current season value\n",
    "    weight_0 - current season weight\n",
    "    val_1ps - last season value\n",
    "    val_2ps - the value of the season before last\n",
    "    \"\"\"\n",
    "    weight_2=weight[0]\n",
    "    weight_1=weight[1]\n",
    "    weight_0=weight[2]\n",
    "    df_copy = df.copy()\n",
    "    suffix = \"_mn3s\"\n",
    "    \n",
    "    for ft in features:\n",
    "        df_copy[ft + suffix] = 0\n",
    "    for idx, val in tqdm(df_copy.iterrows(), total=len(df_copy)):\n",
    "        team = val.T1_TeamID\n",
    "        season = val.Season\n",
    "        df_team = df_copy[(df_copy.T1_TeamID == team)&\n",
    "                          (df_copy.Season <= season)&\n",
    "                          (df_copy.Season > season-3)]\n",
    "        for ft in features:\n",
    "            val_2ps, val_1ps, val_0ps = get_3_feature(df_team, ft)\n",
    "            ft_mean_3 = get_mean_of_3_season(val_2ps, val_1ps, val_0ps, weight_2, weight_1, weight_0, degree_weight=degree_weight)\n",
    "            df_copy.loc[idx, ft + suffix] = ft_mean_3\n",
    "    return df_copy"
   ]
  },
  {
   "cell_type": "code",
   "execution_count": 12,
   "id": "1c929f0e",
   "metadata": {
    "execution": {
     "iopub.execute_input": "2025-03-13T15:57:28.788042Z",
     "iopub.status.busy": "2025-03-13T15:57:28.788042Z",
     "iopub.status.idle": "2025-03-13T15:57:28.827838Z",
     "shell.execute_reply": "2025-03-13T15:57:28.827838Z"
    },
    "papermill": {
     "duration": 0.041803,
     "end_time": "2025-03-13T15:57:28.829845",
     "exception": false,
     "start_time": "2025-03-13T15:57:28.788042",
     "status": "completed"
    },
    "tags": []
   },
   "outputs": [
    {
     "name": "stdout",
     "output_type": "stream",
     "text": [
      "#####\n",
      "skip 3 season verage\n",
      "#####\n"
     ]
    },
    {
     "data": {
      "text/html": [
       "<div>\n",
       "<style scoped>\n",
       "    .dataframe tbody tr th:only-of-type {\n",
       "        vertical-align: middle;\n",
       "    }\n",
       "\n",
       "    .dataframe tbody tr th {\n",
       "        vertical-align: top;\n",
       "    }\n",
       "\n",
       "    .dataframe thead th {\n",
       "        text-align: right;\n",
       "    }\n",
       "</style>\n",
       "<table border=\"1\" class=\"dataframe\">\n",
       "  <thead>\n",
       "    <tr style=\"text-align: right;\">\n",
       "      <th></th>\n",
       "      <th>Season</th>\n",
       "      <th>T1_TeamID</th>\n",
       "      <th>T1_Scoremean</th>\n",
       "      <th>T1_opponent_Scoremean</th>\n",
       "      <th>T1_PointDiffmean</th>\n",
       "      <th>T1_FGMmean</th>\n",
       "      <th>T1_opponent_FGMmean</th>\n",
       "      <th>T1_FGAmean</th>\n",
       "      <th>T1_opponent_FGAmean</th>\n",
       "      <th>T1_FGM3mean</th>\n",
       "      <th>...</th>\n",
       "      <th>T1_Stlmean</th>\n",
       "      <th>T1_opponent_Stlmean</th>\n",
       "      <th>T1_Blkmean</th>\n",
       "      <th>T1_opponent_Blkmean</th>\n",
       "      <th>T1_PFmean</th>\n",
       "      <th>T1_opponent_PFmean</th>\n",
       "      <th>T1_win_ratio_14d</th>\n",
       "      <th>T1_quality</th>\n",
       "      <th>T1_seed</th>\n",
       "      <th>T1_OrdinalRank</th>\n",
       "    </tr>\n",
       "  </thead>\n",
       "  <tbody>\n",
       "    <tr>\n",
       "      <th>0</th>\n",
       "      <td>2003</td>\n",
       "      <td>1102</td>\n",
       "      <td>57.250000</td>\n",
       "      <td>57.000000</td>\n",
       "      <td>0.25000</td>\n",
       "      <td>19.142857</td>\n",
       "      <td>19.285714</td>\n",
       "      <td>39.785714</td>\n",
       "      <td>42.428571</td>\n",
       "      <td>7.821429</td>\n",
       "      <td>...</td>\n",
       "      <td>5.964286</td>\n",
       "      <td>5.428571</td>\n",
       "      <td>1.785714</td>\n",
       "      <td>1.571429</td>\n",
       "      <td>18.750000</td>\n",
       "      <td>18.357143</td>\n",
       "      <td>0.333333</td>\n",
       "      <td>-0.070776</td>\n",
       "      <td>NaN</td>\n",
       "      <td>144.2875</td>\n",
       "    </tr>\n",
       "    <tr>\n",
       "      <th>1</th>\n",
       "      <td>2003</td>\n",
       "      <td>1103</td>\n",
       "      <td>78.777778</td>\n",
       "      <td>78.148148</td>\n",
       "      <td>0.62963</td>\n",
       "      <td>27.148148</td>\n",
       "      <td>27.777778</td>\n",
       "      <td>55.851852</td>\n",
       "      <td>57.000000</td>\n",
       "      <td>5.444444</td>\n",
       "      <td>...</td>\n",
       "      <td>7.259259</td>\n",
       "      <td>6.407407</td>\n",
       "      <td>2.333333</td>\n",
       "      <td>2.851852</td>\n",
       "      <td>19.851852</td>\n",
       "      <td>22.444444</td>\n",
       "      <td>0.333333</td>\n",
       "      <td>-0.116192</td>\n",
       "      <td>NaN</td>\n",
       "      <td>182.2050</td>\n",
       "    </tr>\n",
       "  </tbody>\n",
       "</table>\n",
       "<p>2 rows × 45 columns</p>\n",
       "</div>"
      ],
      "text/plain": [
       "   Season  T1_TeamID  T1_Scoremean  T1_opponent_Scoremean  T1_PointDiffmean  \\\n",
       "0    2003       1102     57.250000              57.000000           0.25000   \n",
       "1    2003       1103     78.777778              78.148148           0.62963   \n",
       "\n",
       "   T1_FGMmean  T1_opponent_FGMmean  T1_FGAmean  T1_opponent_FGAmean  \\\n",
       "0   19.142857            19.285714   39.785714            42.428571   \n",
       "1   27.148148            27.777778   55.851852            57.000000   \n",
       "\n",
       "   T1_FGM3mean  ...  T1_Stlmean  T1_opponent_Stlmean  T1_Blkmean  \\\n",
       "0     7.821429  ...    5.964286             5.428571    1.785714   \n",
       "1     5.444444  ...    7.259259             6.407407    2.333333   \n",
       "\n",
       "   T1_opponent_Blkmean  T1_PFmean  T1_opponent_PFmean  T1_win_ratio_14d  \\\n",
       "0             1.571429  18.750000           18.357143          0.333333   \n",
       "1             2.851852  19.851852           22.444444          0.333333   \n",
       "\n",
       "   T1_quality  T1_seed  T1_OrdinalRank  \n",
       "0   -0.070776      NaN        144.2875  \n",
       "1   -0.116192      NaN        182.2050  \n",
       "\n",
       "[2 rows x 45 columns]"
      ]
     },
     "metadata": {},
     "output_type": "display_data"
    },
    {
     "data": {
      "text/html": [
       "<div>\n",
       "<style scoped>\n",
       "    .dataframe tbody tr th:only-of-type {\n",
       "        vertical-align: middle;\n",
       "    }\n",
       "\n",
       "    .dataframe tbody tr th {\n",
       "        vertical-align: top;\n",
       "    }\n",
       "\n",
       "    .dataframe thead th {\n",
       "        text-align: right;\n",
       "    }\n",
       "</style>\n",
       "<table border=\"1\" class=\"dataframe\">\n",
       "  <thead>\n",
       "    <tr style=\"text-align: right;\">\n",
       "      <th></th>\n",
       "      <th>Season</th>\n",
       "      <th>T2_TeamID</th>\n",
       "      <th>T2_Scoremean</th>\n",
       "      <th>T2_opponent_Scoremean</th>\n",
       "      <th>T2_PointDiffmean</th>\n",
       "      <th>T2_FGMmean</th>\n",
       "      <th>T2_opponent_FGMmean</th>\n",
       "      <th>T2_FGAmean</th>\n",
       "      <th>T2_opponent_FGAmean</th>\n",
       "      <th>T2_FGM3mean</th>\n",
       "      <th>...</th>\n",
       "      <th>T2_Stlmean</th>\n",
       "      <th>T2_opponent_Stlmean</th>\n",
       "      <th>T2_Blkmean</th>\n",
       "      <th>T2_opponent_Blkmean</th>\n",
       "      <th>T2_PFmean</th>\n",
       "      <th>T2_opponent_PFmean</th>\n",
       "      <th>T2_win_ratio_14d</th>\n",
       "      <th>T2_quality</th>\n",
       "      <th>T2_seed</th>\n",
       "      <th>T2_OrdinalRank</th>\n",
       "    </tr>\n",
       "  </thead>\n",
       "  <tbody>\n",
       "    <tr>\n",
       "      <th>9301</th>\n",
       "      <td>2019</td>\n",
       "      <td>3465</td>\n",
       "      <td>76.200000</td>\n",
       "      <td>69.840000</td>\n",
       "      <td>6.360000</td>\n",
       "      <td>28.560000</td>\n",
       "      <td>26.600000</td>\n",
       "      <td>67.520000</td>\n",
       "      <td>69.20000</td>\n",
       "      <td>9.160000</td>\n",
       "      <td>...</td>\n",
       "      <td>7.280000</td>\n",
       "      <td>7.920000</td>\n",
       "      <td>3.160000</td>\n",
       "      <td>3.160000</td>\n",
       "      <td>15.520000</td>\n",
       "      <td>15.440000</td>\n",
       "      <td>0.5</td>\n",
       "      <td>-0.182555</td>\n",
       "      <td>NaN</td>\n",
       "      <td>NaN</td>\n",
       "    </tr>\n",
       "    <tr>\n",
       "      <th>9302</th>\n",
       "      <td>2019</td>\n",
       "      <td>3466</td>\n",
       "      <td>69.521739</td>\n",
       "      <td>63.217391</td>\n",
       "      <td>6.304348</td>\n",
       "      <td>24.869565</td>\n",
       "      <td>23.913043</td>\n",
       "      <td>58.434783</td>\n",
       "      <td>58.26087</td>\n",
       "      <td>6.217391</td>\n",
       "      <td>...</td>\n",
       "      <td>8.478261</td>\n",
       "      <td>8.478261</td>\n",
       "      <td>3.695652</td>\n",
       "      <td>3.217391</td>\n",
       "      <td>17.478261</td>\n",
       "      <td>19.173913</td>\n",
       "      <td>0.0</td>\n",
       "      <td>0.107970</td>\n",
       "      <td>NaN</td>\n",
       "      <td>NaN</td>\n",
       "    </tr>\n",
       "  </tbody>\n",
       "</table>\n",
       "<p>2 rows × 45 columns</p>\n",
       "</div>"
      ],
      "text/plain": [
       "      Season  T2_TeamID  T2_Scoremean  T2_opponent_Scoremean  \\\n",
       "9301    2019       3465     76.200000              69.840000   \n",
       "9302    2019       3466     69.521739              63.217391   \n",
       "\n",
       "      T2_PointDiffmean  T2_FGMmean  T2_opponent_FGMmean  T2_FGAmean  \\\n",
       "9301          6.360000   28.560000            26.600000   67.520000   \n",
       "9302          6.304348   24.869565            23.913043   58.434783   \n",
       "\n",
       "      T2_opponent_FGAmean  T2_FGM3mean  ...  T2_Stlmean  T2_opponent_Stlmean  \\\n",
       "9301             69.20000     9.160000  ...    7.280000             7.920000   \n",
       "9302             58.26087     6.217391  ...    8.478261             8.478261   \n",
       "\n",
       "      T2_Blkmean  T2_opponent_Blkmean  T2_PFmean  T2_opponent_PFmean  \\\n",
       "9301    3.160000             3.160000  15.520000           15.440000   \n",
       "9302    3.695652             3.217391  17.478261           19.173913   \n",
       "\n",
       "      T2_win_ratio_14d  T2_quality  T2_seed  T2_OrdinalRank  \n",
       "9301               0.5   -0.182555      NaN             NaN  \n",
       "9302               0.0    0.107970      NaN             NaN  \n",
       "\n",
       "[2 rows x 45 columns]"
      ]
     },
     "metadata": {},
     "output_type": "display_data"
    }
   ],
   "source": [
    "flag_3season_avg = FEATURES.season_average.enabled\n",
    "\n",
    "#trueのときの処理理解してfalseと一致させる\n",
    "if flag_3season_avg:\n",
    "    print(\"#####\")\n",
    "    print(\"use 3 season average\")\n",
    "    print(\"#####\")\n",
    "    weight = FEATURES.season_average.weights\n",
    "    years = FEATURES.season_average.past_years\n",
    "    assert years==len(weight)\n",
    "    \n",
    "    features_for_calc = [\"T1_Scoremean\", \"T1_FGAmean\",  \"T1_FGA3mean\"]\n",
    "    season_statistics_with_3_seas = write_mean_of_3_seasons(\n",
    "        season_statistics, features_for_calc, weight, degree_weight=1.0\n",
    "    )\n",
    "    \n",
    "    season_statistics_T1 = season_statistics_with_3_seas.copy()\n",
    "    season_statistics_T2 = season_statistics_with_3_seas.copy()\n",
    "    \n",
    "else:\n",
    "    print(\"#####\")\n",
    "    print(\"skip 3 season verage\")\n",
    "    print(\"#####\")\n",
    "    season_statistics_T1 = season_statistics.copy()\n",
    "    season_statistics_T2 = season_statistics.copy()\n",
    "\n",
    "season_statistics_T1.columns = [\"T1_\" + x.replace(\"T1_\",\"\").replace(\"T2_\",\"opponent_\") for x in list(season_statistics_T1.columns)]\n",
    "season_statistics_T2.columns = [\"T2_\" + x.replace(\"T1_\",\"\").replace(\"T2_\",\"opponent_\") for x in list(season_statistics_T2.columns)]\n",
    "season_statistics_T1.columns.values[0] = \"Season\"\n",
    "season_statistics_T2.columns.values[0] = \"Season\"\n",
    "\n",
    "\n",
    "season_statistics_T2.rename(columns = {\n",
    "    \"T1_TeamID\": \"T2_TeamID\"\n",
    "}, inplace=True)\n",
    "display(season_statistics_T1.head(2), season_statistics_T2.tail(2))"
   ]
  },
  {
   "cell_type": "markdown",
   "id": "96e7c920",
   "metadata": {
    "papermill": {
     "duration": 0.008034,
     "end_time": "2025-03-13T15:57:28.847660",
     "exception": false,
     "start_time": "2025-03-13T15:57:28.839626",
     "status": "completed"
    },
    "tags": []
   },
   "source": [
    "# Toureney dataの処理\n",
    "1. pointdiff, pointが目的変数となるのでそれはyに分離\n",
    "2. seasonstatisticを結合したものをXとして作る"
   ]
  },
  {
   "cell_type": "code",
   "execution_count": 13,
   "id": "0109105b",
   "metadata": {
    "execution": {
     "iopub.execute_input": "2025-03-13T15:57:28.862960Z",
     "iopub.status.busy": "2025-03-13T15:57:28.862960Z",
     "iopub.status.idle": "2025-03-13T15:57:28.868168Z",
     "shell.execute_reply": "2025-03-13T15:57:28.868168Z"
    },
    "papermill": {
     "duration": 0.015784,
     "end_time": "2025-03-13T15:57:28.870176",
     "exception": false,
     "start_time": "2025-03-13T15:57:28.854392",
     "status": "completed"
    },
    "tags": []
   },
   "outputs": [],
   "source": [
    "\n",
    "def process_tourney(df1, mode=\"tourney\"):\n",
    "    #Season, teamid ->X, team_score->y\n",
    "    df = df1.copy()\n",
    "    if mode==\"tourney\":\n",
    "        df = prepare_data(df) \n",
    "        y = df[\"T1_Score\"]-df[\"T2_Score\"]\n",
    "    X = df[['Season', 'T1_TeamID', 'T2_TeamID']]\n",
    "    X = pd.merge(X, season_statistics_T1, on = ['Season', 'T1_TeamID'], how = 'left')\n",
    "    X = pd.merge(X, season_statistics_T2, on = ['Season', 'T2_TeamID'], how = 'left')\n",
    "    \n",
    "    #seed->seed diff\n",
    "    X[\"seed_diff\"] = X[\"T1_seed\"] - X[\"T2_seed\"]\n",
    "    #rank->rank diff\n",
    "    X[\"rank_diff\"] = X[\"T1_OrdinalRank\"] - X[\"T2_OrdinalRank\"]\n",
    "    #quality->quality diff\n",
    "    X[\"quality_diff\"] = X[\"T1_quality\"] - X[\"T2_quality\"]\n",
    "    #win_ratio_14d -> win_raio_14d_diff\n",
    "    X[\"win_ratio_14d_diff\"] = X[\"T1_win_ratio_14d\"] - X[\"T2_win_ratio_14d\"]\n",
    "    #tourney_data.drop(columns=[\"T1_seed\", \"T2_seed\"], inplace=True)\n",
    "\n",
    "    X = X.drop(columns=[\"T1_seed\", \"T2_seed\", \"T1_OrdinalRank\", \"T2_OrdinalRank\", \n",
    "                        \"T1_quality\", \"T2_quality\", \"T1_win_ratio_14d\", \"T2_win_ratio_14d\"\n",
    "                        ])\n",
    "\n",
    "    # if rank_diff is False, drop.\n",
    "    IS_RANKDIFF = FEATURES.rank_diff\n",
    "    if not IS_RANKDIFF:\n",
    "        X = X.drop(columns=[\"rank_diff\"])\n",
    "        print(\"drop rank_diff\")\n",
    "    \n",
    "    # if fillna is true-> run fillna()\n",
    "    FILLNA = FEATURES.fillna.quality\n",
    "    if FILLNA==\"nan\":\n",
    "        print(f\"no fillna, use nan\")\n",
    "        X[\"quality_diff\"] = X[\"quality_diff\"].fillna(np.nan)\n",
    "    else:\n",
    "        print(f\"fillna quality feature for {FILLNA}\")\n",
    "        X[\"quality_diff\"] = X[\"quality_diff\"].fillna(FILLNA)\n",
    "\n",
    "        \n",
    "    return X, y if mode==\"tourney\" else X"
   ]
  },
  {
   "cell_type": "code",
   "execution_count": 14,
   "id": "c723f077",
   "metadata": {
    "execution": {
     "iopub.execute_input": "2025-03-13T15:57:28.880082Z",
     "iopub.status.busy": "2025-03-13T15:57:28.880082Z",
     "iopub.status.idle": "2025-03-13T15:57:28.937850Z",
     "shell.execute_reply": "2025-03-13T15:57:28.937850Z"
    },
    "papermill": {
     "duration": 0.059778,
     "end_time": "2025-03-13T15:57:28.937850",
     "exception": false,
     "start_time": "2025-03-13T15:57:28.878072",
     "status": "completed"
    },
    "tags": []
   },
   "outputs": [
    {
     "name": "stdout",
     "output_type": "stream",
     "text": [
      "<class 'pandas.core.frame.DataFrame'>\n",
      "Index: 1615 entries, 0 to 1948\n",
      "Data columns (total 56 columns):\n",
      " #   Column       Non-Null Count  Dtype  \n",
      "---  ------       --------------  -----  \n",
      " 0   Season       1615 non-null   int64  \n",
      " 1   DayNum       1615 non-null   int64  \n",
      " 2   WTeamID      1615 non-null   int64  \n",
      " 3   WScore       1615 non-null   int64  \n",
      " 4   LTeamID      1615 non-null   int64  \n",
      " 5   LScore       1615 non-null   int64  \n",
      " 6   WLoc         1615 non-null   object \n",
      " 7   NumOT        1615 non-null   int64  \n",
      " 8   WFGM         1615 non-null   int64  \n",
      " 9   WFGA         1615 non-null   int64  \n",
      " 10  WFGM3        1615 non-null   int64  \n",
      " 11  WFGA3        1615 non-null   int64  \n",
      " 12  WFTM         1615 non-null   int64  \n",
      " 13  WFTA         1615 non-null   int64  \n",
      " 14  WOR          1615 non-null   int64  \n",
      " 15  WDR          1615 non-null   int64  \n",
      " 16  WAst         1615 non-null   int64  \n",
      " 17  WTO          1615 non-null   int64  \n",
      " 18  WStl         1615 non-null   int64  \n",
      " 19  WBlk         1615 non-null   int64  \n",
      " 20  WPF          1615 non-null   int64  \n",
      " 21  LFGM         1615 non-null   int64  \n",
      " 22  LFGA         1615 non-null   int64  \n",
      " 23  LFGM3        1615 non-null   int64  \n",
      " 24  LFGA3        1615 non-null   int64  \n",
      " 25  LFTM         1615 non-null   int64  \n",
      " 26  LFTA         1615 non-null   int64  \n",
      " 27  LOR          1615 non-null   int64  \n",
      " 28  LDR          1615 non-null   int64  \n",
      " 29  LAst         1615 non-null   int64  \n",
      " 30  LTO          1615 non-null   int64  \n",
      " 31  LStl         1615 non-null   int64  \n",
      " 32  LBlk         1615 non-null   int64  \n",
      " 33  LPF          1615 non-null   int64  \n",
      " 34  WEFFG        1615 non-null   float64\n",
      " 35  LEFFG        1615 non-null   float64\n",
      " 36  WEFFG3       1615 non-null   float64\n",
      " 37  LEFFG3       1615 non-null   float64\n",
      " 38  WDARE        1615 non-null   float64\n",
      " 39  LDARE        1615 non-null   float64\n",
      " 40  WTOQUETOQUE  1615 non-null   float64\n",
      " 41  LTOQUETOQUE  1615 non-null   float64\n",
      " 42  WEFG_SUM     1615 non-null   float64\n",
      " 43  LEFG_SUM     1615 non-null   float64\n",
      " 44  WPOSS        1615 non-null   float64\n",
      " 45  LPOSS        1615 non-null   float64\n",
      " 46  WPOSS_RATE   1615 non-null   float64\n",
      " 47  LPOSS_RATE   1615 non-null   float64\n",
      " 48  WTO_RATIO    1615 non-null   float64\n",
      " 49  LTO_RATIO    1615 non-null   float64\n",
      " 50  WREB_RATE    1615 non-null   float64\n",
      " 51  LREB_RATE    1615 non-null   float64\n",
      " 52  WFT_RATE     1615 non-null   float64\n",
      " 53  LFT_RATE     1615 non-null   float64\n",
      " 54  WRATING      1615 non-null   float64\n",
      " 55  LRATING      1615 non-null   float64\n",
      "dtypes: float64(22), int64(33), object(1)\n",
      "memory usage: 719.2+ KB\n",
      "None\n"
     ]
    },
    {
     "name": "stdout",
     "output_type": "stream",
     "text": [
      "feature cols after prepare()\n",
      "Index(['Season', 'DayNum', 'T1_TeamID', 'T1_Score', 'T2_TeamID', 'T2_Score',\n",
      "       'location', 'NumOT', 'T1_FGM', 'T1_FGA', 'T1_FGM3', 'T1_FGA3', 'T1_FTM',\n",
      "       'T1_FTA', 'T1_OR', 'T1_DR', 'T1_Ast', 'T1_TO', 'T1_Stl', 'T1_Blk',\n",
      "       'T1_PF', 'T2_FGM', 'T2_FGA', 'T2_FGM3', 'T2_FGA3', 'T2_FTM', 'T2_FTA',\n",
      "       'T2_OR', 'T2_DR', 'T2_Ast', 'T2_TO', 'T2_Stl', 'T2_Blk', 'T2_PF',\n",
      "       'T1_EFFG', 'T2_EFFG', 'T1_EFFG3', 'T2_EFFG3', 'T1_DARE', 'T2_DARE',\n",
      "       'T1_TOQUETOQUE', 'T2_TOQUETOQUE', 'T1_EFG_SUM', 'T2_EFG_SUM', 'T1_POSS',\n",
      "       'T2_POSS', 'T1_POSS_RATE', 'T2_POSS_RATE', 'T1_TO_RATIO', 'T2_TO_RATIO',\n",
      "       'T1_REB_RATE', 'T2_REB_RATE', 'T1_FT_RATE', 'T2_FT_RATE', 'T1_RATING',\n",
      "       'T2_RATING', 'PointDiff', 'win'],\n",
      "      dtype='object')\n",
      "no fillna, use nan\n"
     ]
    }
   ],
   "source": [
    "X, y = process_tourney(tourney_results)"
   ]
  },
  {
   "cell_type": "code",
   "execution_count": 15,
   "id": "8e507747",
   "metadata": {
    "execution": {
     "iopub.execute_input": "2025-03-13T15:57:28.952252Z",
     "iopub.status.busy": "2025-03-13T15:57:28.952252Z",
     "iopub.status.idle": "2025-03-13T15:57:28.958698Z",
     "shell.execute_reply": "2025-03-13T15:57:28.958698Z"
    },
    "papermill": {
     "duration": 0.020848,
     "end_time": "2025-03-13T15:57:28.958698",
     "exception": false,
     "start_time": "2025-03-13T15:57:28.937850",
     "status": "completed"
    },
    "tags": []
   },
   "outputs": [],
   "source": [
    "#opponentなど明示的に特徴量選出に基づいて落とす\n",
    "def drop_columns(df, cols):\n",
    "    if not cols: return df\n",
    "    existing_cols = [col for col in cols if col in df.columns]\n",
    "    print(f\"drop col list: {existing_cols}\")\n",
    "    return df.drop(columns=existing_cols)\n",
    "\n",
    "drop_col = FEATURES.dropfeatures\n",
    "X = drop_columns(X, drop_col)"
   ]
  },
  {
   "cell_type": "code",
   "execution_count": 16,
   "id": "cd6a8c1b",
   "metadata": {
    "execution": {
     "iopub.execute_input": "2025-03-13T15:57:28.968392Z",
     "iopub.status.busy": "2025-03-13T15:57:28.968392Z",
     "iopub.status.idle": "2025-03-13T15:57:28.980252Z",
     "shell.execute_reply": "2025-03-13T15:57:28.980252Z"
    },
    "papermill": {
     "duration": 0.01186,
     "end_time": "2025-03-13T15:57:28.980252",
     "exception": false,
     "start_time": "2025-03-13T15:57:28.968392",
     "status": "completed"
    },
    "tags": []
   },
   "outputs": [
    {
     "name": "stdout",
     "output_type": "stream",
     "text": [
      "最終的な X の特徴量\n",
      "Index(['Season', 'T1_TeamID', 'T2_TeamID', 'T1_Scoremean',\n",
      "       'T1_opponent_Scoremean', 'T1_PointDiffmean', 'T1_FGMmean',\n",
      "       'T1_opponent_FGMmean', 'T1_FGAmean', 'T1_opponent_FGAmean',\n",
      "       'T1_FGM3mean', 'T1_opponent_FGM3mean', 'T1_FGA3mean',\n",
      "       'T1_opponent_FGA3mean', 'T1_FTMmean', 'T1_opponent_FTMmean',\n",
      "       'T1_FTAmean', 'T1_opponent_FTAmean', 'T1_EFG_SUMmean',\n",
      "       'T1_opponent_EFG_SUMmean', 'T1_TO_RATIOmean',\n",
      "       'T1_opponent_TO_RATIOmean', 'T1_ORmean', 'T1_opponent_ORmean',\n",
      "       'T1_DRmean', 'T1_opponent_DRmean', 'T1_REB_RATEmean',\n",
      "       'T1_opponent_REB_RATEmean', 'T1_FT_RATEmean', 'T1_opponent_FT_RATEmean',\n",
      "       'T1_RATINGmean', 'T1_opponent_RATINGmean', 'T1_Astmean',\n",
      "       'T1_opponent_Astmean', 'T1_TOmean', 'T1_opponent_TOmean', 'T1_Stlmean',\n",
      "       'T1_opponent_Stlmean', 'T1_Blkmean', 'T1_opponent_Blkmean', 'T1_PFmean',\n",
      "       'T1_opponent_PFmean', 'T2_Scoremean', 'T2_opponent_Scoremean',\n",
      "       'T2_PointDiffmean', 'T2_FGMmean', 'T2_opponent_FGMmean', 'T2_FGAmean',\n",
      "       'T2_opponent_FGAmean', 'T2_FGM3mean', 'T2_opponent_FGM3mean',\n",
      "       'T2_FGA3mean', 'T2_opponent_FGA3mean', 'T2_FTMmean',\n",
      "       'T2_opponent_FTMmean', 'T2_FTAmean', 'T2_opponent_FTAmean',\n",
      "       'T2_EFG_SUMmean', 'T2_opponent_EFG_SUMmean', 'T2_TO_RATIOmean',\n",
      "       'T2_opponent_TO_RATIOmean', 'T2_ORmean', 'T2_opponent_ORmean',\n",
      "       'T2_DRmean', 'T2_opponent_DRmean', 'T2_REB_RATEmean',\n",
      "       'T2_opponent_REB_RATEmean', 'T2_FT_RATEmean', 'T2_opponent_FT_RATEmean',\n",
      "       'T2_RATINGmean', 'T2_opponent_RATINGmean', 'T2_Astmean',\n",
      "       'T2_opponent_Astmean', 'T2_TOmean', 'T2_opponent_TOmean', 'T2_Stlmean',\n",
      "       'T2_opponent_Stlmean', 'T2_Blkmean', 'T2_opponent_Blkmean', 'T2_PFmean',\n",
      "       'T2_opponent_PFmean', 'seed_diff', 'rank_diff', 'quality_diff',\n",
      "       'win_ratio_14d_diff'],\n",
      "      dtype='object')\n"
     ]
    }
   ],
   "source": [
    "print(\"最終的な X の特徴量\")\n",
    "print(X.columns)"
   ]
  },
  {
   "cell_type": "code",
   "execution_count": 17,
   "id": "b5583acb",
   "metadata": {
    "execution": {
     "iopub.execute_input": "2025-03-13T15:57:28.991172Z",
     "iopub.status.busy": "2025-03-13T15:57:28.991172Z",
     "iopub.status.idle": "2025-03-13T15:57:29.007180Z",
     "shell.execute_reply": "2025-03-13T15:57:29.007180Z"
    },
    "papermill": {
     "duration": 0.017292,
     "end_time": "2025-03-13T15:57:29.007180",
     "exception": false,
     "start_time": "2025-03-13T15:57:28.989888",
     "status": "completed"
    },
    "tags": []
   },
   "outputs": [
    {
     "name": "stdout",
     "output_type": "stream",
     "text": [
      "<class 'pandas.core.frame.DataFrame'>\n",
      "RangeIndex: 3230 entries, 0 to 3229\n",
      "Data columns (total 85 columns):\n",
      " #   Column                    Non-Null Count  Dtype  \n",
      "---  ------                    --------------  -----  \n",
      " 0   Season                    3230 non-null   int64  \n",
      " 1   T1_TeamID                 3230 non-null   int64  \n",
      " 2   T2_TeamID                 3230 non-null   int64  \n",
      " 3   T1_Scoremean              3230 non-null   float64\n",
      " 4   T1_opponent_Scoremean     3230 non-null   float64\n",
      " 5   T1_PointDiffmean          3230 non-null   float64\n",
      " 6   T1_FGMmean                3230 non-null   float64\n",
      " 7   T1_opponent_FGMmean       3230 non-null   float64\n",
      " 8   T1_FGAmean                3230 non-null   float64\n",
      " 9   T1_opponent_FGAmean       3230 non-null   float64\n",
      " 10  T1_FGM3mean               3230 non-null   float64\n",
      " 11  T1_opponent_FGM3mean      3230 non-null   float64\n",
      " 12  T1_FGA3mean               3230 non-null   float64\n",
      " 13  T1_opponent_FGA3mean      3230 non-null   float64\n",
      " 14  T1_FTMmean                3230 non-null   float64\n",
      " 15  T1_opponent_FTMmean       3230 non-null   float64\n",
      " 16  T1_FTAmean                3230 non-null   float64\n",
      " 17  T1_opponent_FTAmean       3230 non-null   float64\n",
      " 18  T1_EFG_SUMmean            3230 non-null   float64\n",
      " 19  T1_opponent_EFG_SUMmean   3230 non-null   float64\n",
      " 20  T1_TO_RATIOmean           3230 non-null   float64\n",
      " 21  T1_opponent_TO_RATIOmean  3230 non-null   float64\n",
      " 22  T1_ORmean                 3230 non-null   float64\n",
      " 23  T1_opponent_ORmean        3230 non-null   float64\n",
      " 24  T1_DRmean                 3230 non-null   float64\n",
      " 25  T1_opponent_DRmean        3230 non-null   float64\n",
      " 26  T1_REB_RATEmean           3230 non-null   float64\n",
      " 27  T1_opponent_REB_RATEmean  3230 non-null   float64\n",
      " 28  T1_FT_RATEmean            3230 non-null   float64\n",
      " 29  T1_opponent_FT_RATEmean   3230 non-null   float64\n",
      " 30  T1_RATINGmean             3230 non-null   float64\n",
      " 31  T1_opponent_RATINGmean    3230 non-null   float64\n",
      " 32  T1_Astmean                3230 non-null   float64\n",
      " 33  T1_opponent_Astmean       3230 non-null   float64\n",
      " 34  T1_TOmean                 3230 non-null   float64\n",
      " 35  T1_opponent_TOmean        3230 non-null   float64\n",
      " 36  T1_Stlmean                3230 non-null   float64\n",
      " 37  T1_opponent_Stlmean       3230 non-null   float64\n",
      " 38  T1_Blkmean                3230 non-null   float64\n",
      " 39  T1_opponent_Blkmean       3230 non-null   float64\n",
      " 40  T1_PFmean                 3230 non-null   float64\n",
      " 41  T1_opponent_PFmean        3230 non-null   float64\n",
      " 42  T2_Scoremean              3230 non-null   float64\n",
      " 43  T2_opponent_Scoremean     3230 non-null   float64\n",
      " 44  T2_PointDiffmean          3230 non-null   float64\n",
      " 45  T2_FGMmean                3230 non-null   float64\n",
      " 46  T2_opponent_FGMmean       3230 non-null   float64\n",
      " 47  T2_FGAmean                3230 non-null   float64\n",
      " 48  T2_opponent_FGAmean       3230 non-null   float64\n",
      " 49  T2_FGM3mean               3230 non-null   float64\n",
      " 50  T2_opponent_FGM3mean      3230 non-null   float64\n",
      " 51  T2_FGA3mean               3230 non-null   float64\n",
      " 52  T2_opponent_FGA3mean      3230 non-null   float64\n",
      " 53  T2_FTMmean                3230 non-null   float64\n",
      " 54  T2_opponent_FTMmean       3230 non-null   float64\n",
      " 55  T2_FTAmean                3230 non-null   float64\n",
      " 56  T2_opponent_FTAmean       3230 non-null   float64\n",
      " 57  T2_EFG_SUMmean            3230 non-null   float64\n",
      " 58  T2_opponent_EFG_SUMmean   3230 non-null   float64\n",
      " 59  T2_TO_RATIOmean           3230 non-null   float64\n",
      " 60  T2_opponent_TO_RATIOmean  3230 non-null   float64\n",
      " 61  T2_ORmean                 3230 non-null   float64\n",
      " 62  T2_opponent_ORmean        3230 non-null   float64\n",
      " 63  T2_DRmean                 3230 non-null   float64\n",
      " 64  T2_opponent_DRmean        3230 non-null   float64\n",
      " 65  T2_REB_RATEmean           3230 non-null   float64\n",
      " 66  T2_opponent_REB_RATEmean  3230 non-null   float64\n",
      " 67  T2_FT_RATEmean            3230 non-null   float64\n",
      " 68  T2_opponent_FT_RATEmean   3230 non-null   float64\n",
      " 69  T2_RATINGmean             3230 non-null   float64\n",
      " 70  T2_opponent_RATINGmean    3230 non-null   float64\n",
      " 71  T2_Astmean                3230 non-null   float64\n",
      " 72  T2_opponent_Astmean       3230 non-null   float64\n",
      " 73  T2_TOmean                 3230 non-null   float64\n",
      " 74  T2_opponent_TOmean        3230 non-null   float64\n",
      " 75  T2_Stlmean                3230 non-null   float64\n",
      " 76  T2_opponent_Stlmean       3230 non-null   float64\n",
      " 77  T2_Blkmean                3230 non-null   float64\n",
      " 78  T2_opponent_Blkmean       3230 non-null   float64\n",
      " 79  T2_PFmean                 3230 non-null   float64\n",
      " 80  T2_opponent_PFmean        3230 non-null   float64\n",
      " 81  seed_diff                 3230 non-null   float64\n",
      " 82  rank_diff                 2096 non-null   float64\n",
      " 83  quality_diff              3230 non-null   float64\n",
      " 84  win_ratio_14d_diff        3230 non-null   float64\n",
      "dtypes: float64(82), int64(3)\n",
      "memory usage: 2.1 MB\n"
     ]
    }
   ],
   "source": [
    "X.info()"
   ]
  },
  {
   "cell_type": "markdown",
   "id": "c387c5fa",
   "metadata": {
    "papermill": {
     "duration": 0.01429,
     "end_time": "2025-03-13T15:57:29.021470",
     "exception": false,
     "start_time": "2025-03-13T15:57:29.007180",
     "status": "completed"
    },
    "tags": []
   },
   "source": [
    "# build models"
   ]
  },
  {
   "cell_type": "code",
   "execution_count": 18,
   "id": "9ea96990",
   "metadata": {
    "execution": {
     "iopub.execute_input": "2025-03-13T15:57:29.037466Z",
     "iopub.status.busy": "2025-03-13T15:57:29.037466Z",
     "iopub.status.idle": "2025-03-13T15:57:29.061539Z",
     "shell.execute_reply": "2025-03-13T15:57:29.061539Z"
    },
    "papermill": {
     "duration": 0.042072,
     "end_time": "2025-03-13T15:57:29.063542",
     "exception": false,
     "start_time": "2025-03-13T15:57:29.021470",
     "status": "completed"
    },
    "tags": []
   },
   "outputs": [],
   "source": [
    "\n",
    "val_mae = []\n",
    "iteration_counts = []\n",
    "xgb_cv = []\n",
    "dtrain = xgb.DMatrix(X, label=y)\n",
    "\n",
    "repeat_cv = MODEL.repeat_cv\n",
    "param = dict(MODEL.xgb_model.param)\n",
    "num_boost_round = MODEL.xgb_model.num_boost_round\n",
    "folds_splits = MODEL.xgb_model.folds_splits\n",
    "early_stopping_rounds = MODEL.xgb_model.early_stopping_rounds\n",
    "\n",
    "# コーシー損失関数\n",
    "def cauchyobj(preds, dtrain):\n",
    "    labels = dtrain.get_label()\n",
    "    c = 5000\n",
    "    x = preds - labels    \n",
    "    grad = x / (x**2/c**2 + 1)\n",
    "    hess = -c**2 * (x**2 - c**2) / (x**2 + c**2)**2\n",
    "    return grad, hess"
   ]
  },
  {
   "cell_type": "code",
   "execution_count": 19,
   "id": "ea9fb978",
   "metadata": {
    "execution": {
     "iopub.execute_input": "2025-03-13T15:57:29.086919Z",
     "iopub.status.busy": "2025-03-13T15:57:29.085692Z",
     "iopub.status.idle": "2025-03-13T15:57:29.100895Z",
     "shell.execute_reply": "2025-03-13T15:57:29.100895Z"
    },
    "papermill": {
     "duration": 0.029599,
     "end_time": "2025-03-13T15:57:29.102905",
     "exception": false,
     "start_time": "2025-03-13T15:57:29.073306",
     "status": "completed"
    },
    "tags": []
   },
   "outputs": [],
   "source": [
    "#########################################\n",
    "# 1. Optunaあり：ハイパーパラメータ最適化 #\n",
    "#########################################\n",
    "def run_optuna_optimization(param, optuna_conf):\n",
    "    def objective(trial):  \n",
    "        logger.info(f\"Trial {trial.number} 開始\")\n",
    "        \n",
    "        current_param = param.copy()  \n",
    "        max_depth_range = optuna_conf.max_depth        \n",
    "        eta_range = optuna_conf.eta\n",
    "        subsample_range = optuna_conf.subsample          \n",
    "        colsample_bytree_range = optuna_conf.colsample_bytree\n",
    "        num_parallel_tree_range = optuna_conf.num_parallel_tree \n",
    "        min_child_weight_range = optuna_conf.min_child_weight \n",
    "        reg_alpha_range = optuna_conf.reg_alpha         \n",
    "        reg_lambda_range = optuna_conf.reg_lambda    \n",
    "        reg_gamma_range = optuna_conf.gamma  \n",
    "\n",
    "        current_param[\"max_depth\"] = trial.suggest_int(\"max_depth\", max_depth_range[0], max_depth_range[1])\n",
    "        current_param[\"eta\"] = trial.suggest_float(\"eta\", eta_range[0], eta_range[1], log=True)\n",
    "        current_param[\"subsample\"] = trial.suggest_float(\"subsample\", subsample_range[0], subsample_range[1])\n",
    "        current_param[\"colsample_bytree\"] = trial.suggest_float(\"colsample_bytree\", colsample_bytree_range[0], colsample_bytree_range[1])\n",
    "        current_param[\"num_parallel_tree\"] = trial.suggest_int(\"num_parallel_tree\", num_parallel_tree_range[0], num_parallel_tree_range[1])\n",
    "        current_param[\"min_child_weight\"] = trial.suggest_int(\"min_child_weight\", min_child_weight_range[0], min_child_weight_range[1])\n",
    "        current_param[\"reg_alpha\"] = trial.suggest_float(\"reg_alpha\", reg_alpha_range[0], reg_alpha_range[1])\n",
    "        current_param[\"reg_lambda\"] = trial.suggest_float(\"reg_lambda\", reg_lambda_range[0], reg_lambda_range[1])\n",
    "        current_param[\"gamma\"] = trial.suggest_float(\"gamma\", reg_gamma_range[0], reg_gamma_range[1])\n",
    "        \n",
    "        if current_param.get(\"eval_metric\", \"mae\") == \"rmse\":\n",
    "            score_name = \"test-rmse-mean\"\n",
    "        elif current_param.get(\"eval_metric\", \"mae\") == \"mae\":\n",
    "            score_name = \"test-mae-mean\"\n",
    "        elif  current_param.get(\"eval_metric\", \"mae\") == \"logloss\":\n",
    "            score_name = \"test-logloss-mean\"\n",
    "        \n",
    "        print(current_param)  \n",
    "        cv_scores = []\n",
    "        for i in range(repeat_cv):\n",
    "            cv_result = xgb.cv(\n",
    "                params=current_param,\n",
    "                dtrain=dtrain,\n",
    "                obj=cauchyobj,\n",
    "                num_boost_round=num_boost_round,\n",
    "                folds=KFold(n_splits=folds_splits, shuffle=True, random_state=i),\n",
    "                early_stopping_rounds=early_stopping_rounds,\n",
    "                verbose_eval=False\n",
    "            )\n",
    "            fold_score = np.min(cv_result[score_name].values)\n",
    "            cv_scores.append(fold_score)\n",
    "        mean_score = np.mean(cv_scores)\n",
    "        logger.info(f\"Trial {trial.number} 終了: スコア {mean_score}\")\n",
    "        \n",
    "        return mean_score\n",
    "\n",
    "    logger.info(\"Optuna最適化開始\")\n",
    "    N_WARMUP_STEPS = optuna_conf.n_warmup_steps\n",
    "    TIMEOUT = optuna_conf.timeout\n",
    "    N_JOBS = optuna_conf.n_jobs\n",
    "    N_TRIALS = optuna_conf.n_trials\n",
    "    \n",
    "    sampler = optuna.samplers.TPESampler(seed=42)\n",
    "    pruner = optuna.pruners.MedianPruner(n_warmup_steps=N_WARMUP_STEPS)\n",
    "\n",
    "    study = optuna.create_study(direction=\"minimize\", sampler=sampler, pruner=pruner)\n",
    "    study.optimize(objective, n_trials=N_TRIALS, timeout=TIMEOUT, n_jobs=N_JOBS)\n",
    "\n",
    "    best_trial = study.best_trial\n",
    "    logger.info(\"Best trial:\")\n",
    "    logger.info(f\"  Value: {best_trial.value}\")\n",
    "    \n",
    "    for key, value in best_trial.params.items():\n",
    "        print(f\"    {key}: {value}\")\n",
    "    param.update(best_trial.params)\n",
    "\n",
    "    logger.info(\"Optuna最適化終了\")\n",
    "    return param"
   ]
  },
  {
   "cell_type": "code",
   "execution_count": 20,
   "id": "8f16f3e8",
   "metadata": {
    "execution": {
     "iopub.execute_input": "2025-03-13T15:57:29.133442Z",
     "iopub.status.busy": "2025-03-13T15:57:29.133442Z",
     "iopub.status.idle": "2025-03-13T15:57:29.140685Z",
     "shell.execute_reply": "2025-03-13T15:57:29.140685Z"
    },
    "papermill": {
     "duration": 0.025891,
     "end_time": "2025-03-13T15:57:29.142692",
     "exception": false,
     "start_time": "2025-03-13T15:57:29.116801",
     "status": "completed"
    },
    "tags": []
   },
   "outputs": [
    {
     "name": "stdout",
     "output_type": "stream",
     "text": [
      "not use Optuna, use xgb_model.param\n",
      "param: {'eval_metric': 'rmse', 'booster': 'gbtree', 'eta': 0.02, 'subsample': 0.35, 'colsample_bytree': 0.7, 'num_parallel_tree': 10, 'min_child_weight': 40, 'gamma': 10, 'max_depth': 3}\n",
      "repeat_cv: 10\n",
      "num_boost_round: 3000\n",
      "folds_splits: 5\n",
      "early_stopping_rounds: 25\n"
     ]
    }
   ],
   "source": [
    "IS_OPTUNA = MODEL.optuna_enabled\n",
    "if IS_OPTUNA:\n",
    "    print(\"Optuna use mode\") \n",
    "    optuna_conf = MODEL.xgb_model.optuna\n",
    "    logger.add(os.path.join(OUTPUT_PATH, \"results.log\"), format=\"{time:YYYY-MM-DD at HH:mm:ss} - {level} - {message}\", level=\"INFO\")\n",
    "    param = run_optuna_optimization(param, optuna_conf)\n",
    "    print(\"param updated by optuna\")\n",
    "    results+= [\"param set after optuna is below\", f\"{param}\", \"\"]\n",
    "else:    \n",
    "    print(\"not use Optuna, use xgb_model.param\")\n",
    "\n",
    "\n",
    "\n",
    "print(\"param:\", param)\n",
    "print(\"repeat_cv:\", repeat_cv)\n",
    "print(\"num_boost_round:\", num_boost_round)\n",
    "print(\"folds_splits:\", folds_splits)\n",
    "print(\"early_stopping_rounds:\", early_stopping_rounds)"
   ]
  },
  {
   "cell_type": "code",
   "execution_count": 21,
   "id": "6bb8ba6f",
   "metadata": {
    "execution": {
     "iopub.execute_input": "2025-03-13T15:57:29.156522Z",
     "iopub.status.busy": "2025-03-13T15:57:29.156522Z",
     "iopub.status.idle": "2025-03-13T16:03:46.334708Z",
     "shell.execute_reply": "2025-03-13T16:03:46.334708Z"
    },
    "papermill": {
     "duration": 377.178186,
     "end_time": "2025-03-13T16:03:46.334708",
     "exception": false,
     "start_time": "2025-03-13T15:57:29.156522",
     "status": "completed"
    },
    "tags": []
   },
   "outputs": [
    {
     "name": "stderr",
     "output_type": "stream",
     "text": [
      "\r",
      "  0%|                                                                                                                                                                                                                                      | 0/10 [00:00<?, ?it/s]"
     ]
    },
    {
     "name": "stdout",
     "output_type": "stream",
     "text": [
      "[0]\ttrain-rmse:17.09802+0.03297\ttest-rmse:17.10178+0.13359\n"
     ]
    },
    {
     "name": "stdout",
     "output_type": "stream",
     "text": [
      "[50]\ttrain-rmse:13.08181+0.04758\ttest-rmse:13.28700+0.17477\n"
     ]
    },
    {
     "name": "stdout",
     "output_type": "stream",
     "text": [
      "[100]\ttrain-rmse:11.98498+0.04313\ttest-rmse:12.36597+0.19175\n"
     ]
    },
    {
     "name": "stdout",
     "output_type": "stream",
     "text": [
      "[150]\ttrain-rmse:11.55829+0.04207\ttest-rmse:12.10216+0.18812\n"
     ]
    },
    {
     "name": "stdout",
     "output_type": "stream",
     "text": [
      "[200]\ttrain-rmse:11.29125+0.04431\ttest-rmse:11.98998+0.19254\n"
     ]
    },
    {
     "name": "stdout",
     "output_type": "stream",
     "text": [
      "[250]\ttrain-rmse:11.08307+0.04498\ttest-rmse:11.93374+0.20185\n"
     ]
    },
    {
     "name": "stdout",
     "output_type": "stream",
     "text": [
      "[300]\ttrain-rmse:10.90631+0.04675\ttest-rmse:11.90307+0.20030\n"
     ]
    },
    {
     "name": "stdout",
     "output_type": "stream",
     "text": [
      "[350]\ttrain-rmse:10.74405+0.04633\ttest-rmse:11.88615+0.20278\n"
     ]
    },
    {
     "name": "stdout",
     "output_type": "stream",
     "text": [
      "[400]\ttrain-rmse:10.59477+0.04728\ttest-rmse:11.87593+0.20414\n"
     ]
    },
    {
     "name": "stdout",
     "output_type": "stream",
     "text": [
      "[450]\ttrain-rmse:10.45503+0.04864\ttest-rmse:11.86884+0.20602\n"
     ]
    },
    {
     "name": "stdout",
     "output_type": "stream",
     "text": [
      "[500]\ttrain-rmse:10.32082+0.04853\ttest-rmse:11.86789+0.21085\n"
     ]
    },
    {
     "name": "stdout",
     "output_type": "stream",
     "text": [
      "[515]\ttrain-rmse:10.28188+0.04829\ttest-rmse:11.86886+0.21121\n"
     ]
    },
    {
     "name": "stderr",
     "output_type": "stream",
     "text": [
      "\r",
      " 10%|██████████████▊                                                                                                                                     | 1/10 [00:34<05:12, 34.76s/it]                                                                          "
     ]
    },
    {
     "name": "stdout",
     "output_type": "stream",
     "text": [
      "[0]\ttrain-rmse:17.09526+0.15469\ttest-rmse:17.08840+0.62886\n"
     ]
    },
    {
     "name": "stdout",
     "output_type": "stream",
     "text": [
      "[50]\ttrain-rmse:13.07862+0.10409\ttest-rmse:13.27700+0.50981\n"
     ]
    },
    {
     "name": "stdout",
     "output_type": "stream",
     "text": [
      "[100]\ttrain-rmse:11.98277+0.10163\ttest-rmse:12.36546+0.44328\n"
     ]
    },
    {
     "name": "stdout",
     "output_type": "stream",
     "text": [
      "[150]\ttrain-rmse:11.55484+0.10104\ttest-rmse:12.09359+0.42078\n"
     ]
    },
    {
     "name": "stdout",
     "output_type": "stream",
     "text": [
      "[200]\ttrain-rmse:11.28948+0.10217\ttest-rmse:11.98684+0.41224\n"
     ]
    },
    {
     "name": "stdout",
     "output_type": "stream",
     "text": [
      "[250]\ttrain-rmse:11.08164+0.10230\ttest-rmse:11.93334+0.40352\n"
     ]
    },
    {
     "name": "stdout",
     "output_type": "stream",
     "text": [
      "[300]\ttrain-rmse:10.90159+0.10020\ttest-rmse:11.90608+0.39735\n"
     ]
    },
    {
     "name": "stdout",
     "output_type": "stream",
     "text": [
      "[350]\ttrain-rmse:10.74102+0.09814\ttest-rmse:11.88784+0.39558\n"
     ]
    },
    {
     "name": "stdout",
     "output_type": "stream",
     "text": [
      "[400]\ttrain-rmse:10.59258+0.09879\ttest-rmse:11.87538+0.39184\n"
     ]
    },
    {
     "name": "stdout",
     "output_type": "stream",
     "text": [
      "[450]\ttrain-rmse:10.45366+0.09674\ttest-rmse:11.86647+0.38971\n"
     ]
    },
    {
     "name": "stdout",
     "output_type": "stream",
     "text": [
      "[479]\ttrain-rmse:10.37474+0.09671\ttest-rmse:11.86669+0.38800\n"
     ]
    },
    {
     "name": "stderr",
     "output_type": "stream",
     "text": [
      "\r",
      " 20%|█████████████████████████████▌                                                                                                                      | 2/10 [01:18<05:18, 39.81s/it]"
     ]
    },
    {
     "name": "stdout",
     "output_type": "stream",
     "text": [
      "[0]\ttrain-rmse:17.09675+0.11965\ttest-rmse:17.09310+0.49324\n"
     ]
    },
    {
     "name": "stdout",
     "output_type": "stream",
     "text": [
      "[50]\ttrain-rmse:13.08414+0.07370\ttest-rmse:13.26318+0.36517\n"
     ]
    },
    {
     "name": "stdout",
     "output_type": "stream",
     "text": [
      "[100]\ttrain-rmse:11.98972+0.06711\ttest-rmse:12.33575+0.30920\n"
     ]
    },
    {
     "name": "stdout",
     "output_type": "stream",
     "text": [
      "[150]\ttrain-rmse:11.56439+0.06482\ttest-rmse:12.06188+0.29730\n"
     ]
    },
    {
     "name": "stdout",
     "output_type": "stream",
     "text": [
      "[200]\ttrain-rmse:11.29994+0.06635\ttest-rmse:11.94792+0.29858\n"
     ]
    },
    {
     "name": "stdout",
     "output_type": "stream",
     "text": [
      "[250]\ttrain-rmse:11.09172+0.06649\ttest-rmse:11.88593+0.29891\n"
     ]
    },
    {
     "name": "stdout",
     "output_type": "stream",
     "text": [
      "[300]\ttrain-rmse:10.91152+0.06716\ttest-rmse:11.85354+0.29684\n"
     ]
    },
    {
     "name": "stdout",
     "output_type": "stream",
     "text": [
      "[350]\ttrain-rmse:10.74901+0.06810\ttest-rmse:11.83415+0.29491\n"
     ]
    },
    {
     "name": "stdout",
     "output_type": "stream",
     "text": [
      "[400]\ttrain-rmse:10.59892+0.06885\ttest-rmse:11.82390+0.29331\n"
     ]
    },
    {
     "name": "stdout",
     "output_type": "stream",
     "text": [
      "[450]\ttrain-rmse:10.45846+0.06884\ttest-rmse:11.81582+0.29046\n"
     ]
    },
    {
     "name": "stdout",
     "output_type": "stream",
     "text": [
      "[500]\ttrain-rmse:10.32704+0.06770\ttest-rmse:11.81247+0.28857\n"
     ]
    },
    {
     "name": "stdout",
     "output_type": "stream",
     "text": [
      "[550]\ttrain-rmse:10.20095+0.06818\ttest-rmse:11.81151+0.28746\n"
     ]
    },
    {
     "name": "stdout",
     "output_type": "stream",
     "text": [
      "[558]\ttrain-rmse:10.18102+0.06817\ttest-rmse:11.81087+0.28693\n"
     ]
    },
    {
     "name": "stderr",
     "output_type": "stream",
     "text": [
      "\r",
      " 30%|████████████████████████████████████████████▍                                                                                                       | 3/10 [01:58<04:39, 39.97s/it]"
     ]
    },
    {
     "name": "stdout",
     "output_type": "stream",
     "text": [
      "[0]\ttrain-rmse:17.09634+0.07528\ttest-rmse:17.09629+0.30706\n"
     ]
    },
    {
     "name": "stdout",
     "output_type": "stream",
     "text": [
      "[50]\ttrain-rmse:13.07957+0.04751\ttest-rmse:13.26251+0.30023\n"
     ]
    },
    {
     "name": "stdout",
     "output_type": "stream",
     "text": [
      "[100]\ttrain-rmse:11.98626+0.05069\ttest-rmse:12.34082+0.25000\n"
     ]
    },
    {
     "name": "stdout",
     "output_type": "stream",
     "text": [
      "[150]\ttrain-rmse:11.56258+0.05315\ttest-rmse:12.06581+0.22644\n"
     ]
    },
    {
     "name": "stdout",
     "output_type": "stream",
     "text": [
      "[200]\ttrain-rmse:11.29623+0.05844\ttest-rmse:11.95049+0.22072\n"
     ]
    },
    {
     "name": "stdout",
     "output_type": "stream",
     "text": [
      "[250]\ttrain-rmse:11.08847+0.06267\ttest-rmse:11.89176+0.22388\n"
     ]
    },
    {
     "name": "stdout",
     "output_type": "stream",
     "text": [
      "[300]\ttrain-rmse:10.90699+0.06315\ttest-rmse:11.85869+0.22777\n"
     ]
    },
    {
     "name": "stdout",
     "output_type": "stream",
     "text": [
      "[350]\ttrain-rmse:10.74411+0.06601\ttest-rmse:11.83935+0.23463\n"
     ]
    },
    {
     "name": "stdout",
     "output_type": "stream",
     "text": [
      "[400]\ttrain-rmse:10.59628+0.06978\ttest-rmse:11.83023+0.23926\n"
     ]
    },
    {
     "name": "stdout",
     "output_type": "stream",
     "text": [
      "[450]\ttrain-rmse:10.45836+0.06993\ttest-rmse:11.82517+0.24693\n"
     ]
    },
    {
     "name": "stdout",
     "output_type": "stream",
     "text": [
      "[500]\ttrain-rmse:10.32649+0.07095\ttest-rmse:11.82115+0.25385\n"
     ]
    },
    {
     "name": "stdout",
     "output_type": "stream",
     "text": [
      "[550]\ttrain-rmse:10.19940+0.07288\ttest-rmse:11.81749+0.26115\n"
     ]
    },
    {
     "name": "stdout",
     "output_type": "stream",
     "text": [
      "[592]\ttrain-rmse:10.09958+0.07255\ttest-rmse:11.81916+0.26586\n"
     ]
    },
    {
     "name": "stderr",
     "output_type": "stream",
     "text": [
      "\r",
      " 40%|███████████████████████████████████████████████████████████▏                                                                                        | 4/10 [02:37<03:57, 39.53s/it]"
     ]
    },
    {
     "name": "stdout",
     "output_type": "stream",
     "text": [
      "[0]\ttrain-rmse:17.09531+0.08403\ttest-rmse:17.09630+0.33678\n"
     ]
    },
    {
     "name": "stdout",
     "output_type": "stream",
     "text": [
      "[50]\ttrain-rmse:13.07742+0.10499\ttest-rmse:13.27366+0.47343\n"
     ]
    },
    {
     "name": "stdout",
     "output_type": "stream",
     "text": [
      "[100]\ttrain-rmse:11.98304+0.10154\ttest-rmse:12.35307+0.47158\n"
     ]
    },
    {
     "name": "stdout",
     "output_type": "stream",
     "text": [
      "[150]\ttrain-rmse:11.56097+0.10181\ttest-rmse:12.08287+0.45763\n"
     ]
    },
    {
     "name": "stdout",
     "output_type": "stream",
     "text": [
      "[200]\ttrain-rmse:11.29643+0.10085\ttest-rmse:11.97021+0.44478\n"
     ]
    },
    {
     "name": "stdout",
     "output_type": "stream",
     "text": [
      "[250]\ttrain-rmse:11.08959+0.09840\ttest-rmse:11.91470+0.43445\n"
     ]
    },
    {
     "name": "stdout",
     "output_type": "stream",
     "text": [
      "[300]\ttrain-rmse:10.91365+0.09383\ttest-rmse:11.88576+0.42886\n"
     ]
    },
    {
     "name": "stdout",
     "output_type": "stream",
     "text": [
      "[350]\ttrain-rmse:10.75274+0.09111\ttest-rmse:11.86427+0.42033\n"
     ]
    },
    {
     "name": "stdout",
     "output_type": "stream",
     "text": [
      "[400]\ttrain-rmse:10.60464+0.08944\ttest-rmse:11.85296+0.41460\n"
     ]
    },
    {
     "name": "stdout",
     "output_type": "stream",
     "text": [
      "[450]\ttrain-rmse:10.46620+0.08980\ttest-rmse:11.84101+0.41010\n"
     ]
    },
    {
     "name": "stdout",
     "output_type": "stream",
     "text": [
      "[500]\ttrain-rmse:10.33531+0.08957\ttest-rmse:11.83638+0.40711\n"
     ]
    },
    {
     "name": "stdout",
     "output_type": "stream",
     "text": [
      "[550]\ttrain-rmse:10.21214+0.09013\ttest-rmse:11.83462+0.40331\n"
     ]
    },
    {
     "name": "stdout",
     "output_type": "stream",
     "text": [
      "[557]\ttrain-rmse:10.19456+0.09007\ttest-rmse:11.83560+0.40374\n"
     ]
    },
    {
     "name": "stderr",
     "output_type": "stream",
     "text": [
      "\r",
      " 50%|██████████████████████████████████████████████████████████████████████████                                                                          | 5/10 [03:13<03:12, 38.54s/it]"
     ]
    },
    {
     "name": "stdout",
     "output_type": "stream",
     "text": [
      "[0]\ttrain-rmse:17.09670+0.07235\ttest-rmse:17.09762+0.29885\n"
     ]
    },
    {
     "name": "stdout",
     "output_type": "stream",
     "text": [
      "[50]\ttrain-rmse:13.08046+0.06179\ttest-rmse:13.25854+0.25980\n"
     ]
    },
    {
     "name": "stdout",
     "output_type": "stream",
     "text": [
      "[100]\ttrain-rmse:11.98556+0.06804\ttest-rmse:12.33111+0.26915\n"
     ]
    },
    {
     "name": "stdout",
     "output_type": "stream",
     "text": [
      "[150]\ttrain-rmse:11.56336+0.06757\ttest-rmse:12.05700+0.27168\n"
     ]
    },
    {
     "name": "stdout",
     "output_type": "stream",
     "text": [
      "[200]\ttrain-rmse:11.29668+0.06570\ttest-rmse:11.94389+0.27012\n"
     ]
    },
    {
     "name": "stdout",
     "output_type": "stream",
     "text": [
      "[250]\ttrain-rmse:11.09090+0.06501\ttest-rmse:11.88690+0.26702\n"
     ]
    },
    {
     "name": "stdout",
     "output_type": "stream",
     "text": [
      "[300]\ttrain-rmse:10.91239+0.06444\ttest-rmse:11.85097+0.26772\n"
     ]
    },
    {
     "name": "stdout",
     "output_type": "stream",
     "text": [
      "[350]\ttrain-rmse:10.75401+0.06573\ttest-rmse:11.82958+0.26736\n"
     ]
    },
    {
     "name": "stdout",
     "output_type": "stream",
     "text": [
      "[400]\ttrain-rmse:10.60453+0.06686\ttest-rmse:11.81881+0.26974\n"
     ]
    },
    {
     "name": "stdout",
     "output_type": "stream",
     "text": [
      "[450]\ttrain-rmse:10.46557+0.06661\ttest-rmse:11.81200+0.26975\n"
     ]
    },
    {
     "name": "stdout",
     "output_type": "stream",
     "text": [
      "[500]\ttrain-rmse:10.33536+0.06677\ttest-rmse:11.80987+0.27042\n"
     ]
    },
    {
     "name": "stdout",
     "output_type": "stream",
     "text": [
      "[549]\ttrain-rmse:10.21194+0.06616\ttest-rmse:11.80789+0.27101\n"
     ]
    },
    {
     "name": "stderr",
     "output_type": "stream",
     "text": [
      "\r",
      " 60%|████████████████████████████████████████████████████████████████████████████████████████▊                                                           | 6/10 [03:50<02:31, 37.75s/it]"
     ]
    },
    {
     "name": "stdout",
     "output_type": "stream",
     "text": [
      "[0]\ttrain-rmse:17.09679+0.10112\ttest-rmse:17.09644+0.40016\n"
     ]
    },
    {
     "name": "stdout",
     "output_type": "stream",
     "text": [
      "[50]\ttrain-rmse:13.08158+0.01883\ttest-rmse:13.28734+0.17121\n"
     ]
    },
    {
     "name": "stdout",
     "output_type": "stream",
     "text": [
      "[100]\ttrain-rmse:11.98348+0.01631\ttest-rmse:12.35772+0.11006\n"
     ]
    },
    {
     "name": "stdout",
     "output_type": "stream",
     "text": [
      "[150]\ttrain-rmse:11.55843+0.02705\ttest-rmse:12.08811+0.12265\n"
     ]
    },
    {
     "name": "stdout",
     "output_type": "stream",
     "text": [
      "[200]\ttrain-rmse:11.29221+0.02984\ttest-rmse:11.97385+0.14111\n"
     ]
    },
    {
     "name": "stdout",
     "output_type": "stream",
     "text": [
      "[250]\ttrain-rmse:11.08583+0.03277\ttest-rmse:11.91504+0.15442\n"
     ]
    },
    {
     "name": "stdout",
     "output_type": "stream",
     "text": [
      "[300]\ttrain-rmse:10.90933+0.03341\ttest-rmse:11.88022+0.16542\n"
     ]
    },
    {
     "name": "stdout",
     "output_type": "stream",
     "text": [
      "[350]\ttrain-rmse:10.74853+0.03177\ttest-rmse:11.86069+0.16868\n"
     ]
    },
    {
     "name": "stdout",
     "output_type": "stream",
     "text": [
      "[400]\ttrain-rmse:10.60208+0.03222\ttest-rmse:11.84691+0.17411\n"
     ]
    },
    {
     "name": "stdout",
     "output_type": "stream",
     "text": [
      "[450]\ttrain-rmse:10.46263+0.03190\ttest-rmse:11.84054+0.17865\n"
     ]
    },
    {
     "name": "stdout",
     "output_type": "stream",
     "text": [
      "[500]\ttrain-rmse:10.33155+0.03076\ttest-rmse:11.83532+0.18085\n"
     ]
    },
    {
     "name": "stdout",
     "output_type": "stream",
     "text": [
      "[542]\ttrain-rmse:10.22680+0.03032\ttest-rmse:11.83585+0.18023\n"
     ]
    },
    {
     "name": "stderr",
     "output_type": "stream",
     "text": [
      "\r",
      " 70%|███████████████████████████████████████████████████████████████████████████████████████████████████████▌                                            | 7/10 [04:25<01:51, 37.05s/it]"
     ]
    },
    {
     "name": "stdout",
     "output_type": "stream",
     "text": [
      "[0]\ttrain-rmse:17.09426+0.20590\ttest-rmse:17.07921+0.81342\n"
     ]
    },
    {
     "name": "stdout",
     "output_type": "stream",
     "text": [
      "[50]\ttrain-rmse:13.07464+0.12045\ttest-rmse:13.26808+0.68675\n"
     ]
    },
    {
     "name": "stdout",
     "output_type": "stream",
     "text": [
      "[100]\ttrain-rmse:11.97956+0.10223\ttest-rmse:12.36155+0.56960\n"
     ]
    },
    {
     "name": "stdout",
     "output_type": "stream",
     "text": [
      "[150]\ttrain-rmse:11.55141+0.09793\ttest-rmse:12.10110+0.51141\n"
     ]
    },
    {
     "name": "stdout",
     "output_type": "stream",
     "text": [
      "[200]\ttrain-rmse:11.28396+0.09482\ttest-rmse:11.99921+0.48285\n"
     ]
    },
    {
     "name": "stdout",
     "output_type": "stream",
     "text": [
      "[250]\ttrain-rmse:11.07702+0.09402\ttest-rmse:11.94780+0.45762\n"
     ]
    },
    {
     "name": "stdout",
     "output_type": "stream",
     "text": [
      "[300]\ttrain-rmse:10.89572+0.09157\ttest-rmse:11.91863+0.44740\n"
     ]
    },
    {
     "name": "stdout",
     "output_type": "stream",
     "text": [
      "[350]\ttrain-rmse:10.73468+0.09210\ttest-rmse:11.90082+0.43703\n"
     ]
    },
    {
     "name": "stdout",
     "output_type": "stream",
     "text": [
      "[400]\ttrain-rmse:10.58534+0.09137\ttest-rmse:11.89484+0.43221\n"
     ]
    },
    {
     "name": "stdout",
     "output_type": "stream",
     "text": [
      "[450]\ttrain-rmse:10.44727+0.09009\ttest-rmse:11.88991+0.42476\n"
     ]
    },
    {
     "name": "stdout",
     "output_type": "stream",
     "text": [
      "[500]\ttrain-rmse:10.31676+0.09098\ttest-rmse:11.89060+0.42100\n"
     ]
    },
    {
     "name": "stdout",
     "output_type": "stream",
     "text": [
      "[505]\ttrain-rmse:10.30434+0.09099\ttest-rmse:11.89085+0.42057\n"
     ]
    },
    {
     "name": "stderr",
     "output_type": "stream",
     "text": [
      "\r",
      " 80%|██████████████████████████████████████████████████████████████████████████████████████████████████████████████████████▍                             | 8/10 [04:59<01:12, 36.15s/it]"
     ]
    },
    {
     "name": "stdout",
     "output_type": "stream",
     "text": [
      "[0]\ttrain-rmse:17.09562+0.19981\ttest-rmse:17.08185+0.83880\n"
     ]
    },
    {
     "name": "stdout",
     "output_type": "stream",
     "text": [
      "[50]\ttrain-rmse:13.07428+0.11590\ttest-rmse:13.28481+0.68912\n"
     ]
    },
    {
     "name": "stdout",
     "output_type": "stream",
     "text": [
      "[100]\ttrain-rmse:11.97656+0.08499\ttest-rmse:12.38009+0.53203\n"
     ]
    },
    {
     "name": "stdout",
     "output_type": "stream",
     "text": [
      "[150]\ttrain-rmse:11.55055+0.07542\ttest-rmse:12.11685+0.44059\n"
     ]
    },
    {
     "name": "stdout",
     "output_type": "stream",
     "text": [
      "[200]\ttrain-rmse:11.28762+0.07201\ttest-rmse:12.00990+0.39232\n"
     ]
    },
    {
     "name": "stdout",
     "output_type": "stream",
     "text": [
      "[250]\ttrain-rmse:11.07945+0.07042\ttest-rmse:11.95433+0.36301\n"
     ]
    },
    {
     "name": "stdout",
     "output_type": "stream",
     "text": [
      "[300]\ttrain-rmse:10.90247+0.07064\ttest-rmse:11.92139+0.34922\n"
     ]
    },
    {
     "name": "stdout",
     "output_type": "stream",
     "text": [
      "[350]\ttrain-rmse:10.74246+0.06904\ttest-rmse:11.90089+0.34110\n"
     ]
    },
    {
     "name": "stdout",
     "output_type": "stream",
     "text": [
      "[400]\ttrain-rmse:10.59441+0.06781\ttest-rmse:11.88968+0.33344\n"
     ]
    },
    {
     "name": "stdout",
     "output_type": "stream",
     "text": [
      "[450]\ttrain-rmse:10.45582+0.06903\ttest-rmse:11.88080+0.32279\n"
     ]
    },
    {
     "name": "stdout",
     "output_type": "stream",
     "text": [
      "[500]\ttrain-rmse:10.32456+0.07087\ttest-rmse:11.87845+0.32099\n"
     ]
    },
    {
     "name": "stdout",
     "output_type": "stream",
     "text": [
      "[550]\ttrain-rmse:10.20065+0.07305\ttest-rmse:11.87564+0.32151\n"
     ]
    },
    {
     "name": "stdout",
     "output_type": "stream",
     "text": [
      "[569]\ttrain-rmse:10.15467+0.07305\ttest-rmse:11.87545+0.32077\n"
     ]
    },
    {
     "name": "stderr",
     "output_type": "stream",
     "text": [
      "\r",
      " 90%|█████████████████████████████████████████████████████████████████████████████████████████████████████████████████████████████████████▏              | 9/10 [05:37<00:36, 36.50s/it]"
     ]
    },
    {
     "name": "stdout",
     "output_type": "stream",
     "text": [
      "[0]\ttrain-rmse:17.09675+0.13670\ttest-rmse:17.09179+0.54969\n"
     ]
    },
    {
     "name": "stdout",
     "output_type": "stream",
     "text": [
      "[50]\ttrain-rmse:13.08095+0.08809\ttest-rmse:13.26975+0.49594\n"
     ]
    },
    {
     "name": "stdout",
     "output_type": "stream",
     "text": [
      "[100]\ttrain-rmse:11.98698+0.08037\ttest-rmse:12.35170+0.41733\n"
     ]
    },
    {
     "name": "stdout",
     "output_type": "stream",
     "text": [
      "[150]\ttrain-rmse:11.56436+0.08285\ttest-rmse:12.08083+0.38546\n"
     ]
    },
    {
     "name": "stdout",
     "output_type": "stream",
     "text": [
      "[200]\ttrain-rmse:11.30113+0.08241\ttest-rmse:11.97062+0.37564\n"
     ]
    },
    {
     "name": "stdout",
     "output_type": "stream",
     "text": [
      "[250]\ttrain-rmse:11.09291+0.08091\ttest-rmse:11.91245+0.36872\n"
     ]
    },
    {
     "name": "stdout",
     "output_type": "stream",
     "text": [
      "[300]\ttrain-rmse:10.91453+0.08317\ttest-rmse:11.87366+0.36634\n"
     ]
    },
    {
     "name": "stdout",
     "output_type": "stream",
     "text": [
      "[350]\ttrain-rmse:10.75382+0.08331\ttest-rmse:11.85037+0.36302\n"
     ]
    },
    {
     "name": "stdout",
     "output_type": "stream",
     "text": [
      "[400]\ttrain-rmse:10.60542+0.08109\ttest-rmse:11.83631+0.35828\n"
     ]
    },
    {
     "name": "stdout",
     "output_type": "stream",
     "text": [
      "[450]\ttrain-rmse:10.46550+0.07908\ttest-rmse:11.82771+0.35481\n"
     ]
    },
    {
     "name": "stdout",
     "output_type": "stream",
     "text": [
      "[500]\ttrain-rmse:10.33526+0.08081\ttest-rmse:11.82443+0.35055\n"
     ]
    },
    {
     "name": "stdout",
     "output_type": "stream",
     "text": [
      "[550]\ttrain-rmse:10.20990+0.08130\ttest-rmse:11.81948+0.34665\n"
     ]
    },
    {
     "name": "stdout",
     "output_type": "stream",
     "text": [
      "[600]\ttrain-rmse:10.09215+0.07985\ttest-rmse:11.81975+0.34677\n"
     ]
    },
    {
     "name": "stdout",
     "output_type": "stream",
     "text": [
      "[607]\ttrain-rmse:10.07547+0.07999\ttest-rmse:11.82025+0.34665\n"
     ]
    },
    {
     "name": "stderr",
     "output_type": "stream",
     "text": [
      "\r",
      "100%|███████████████████████████████████████████████████████████████████████████████████████████████████████████████████████████████████████████████████| 10/10 [06:16<00:00, 37.50s/it]"
     ]
    },
    {
     "name": "stderr",
     "output_type": "stream",
     "text": [
      "\r",
      "100%|███████████████████████████████████████████████████████████████████████████████████████████████████████████████████████████████████████████████████| 10/10 [06:16<00:00, 37.70s/it]"
     ]
    },
    {
     "name": "stderr",
     "output_type": "stream",
     "text": [
      "\n"
     ]
    }
   ],
   "source": [
    "if param.get(\"eval_metric\", \"mae\") == \"rmse\":\n",
    "    score_key = \"test-rmse-mean\"\n",
    "    ylabel = \"Test RMSE Mean\"\n",
    "    title = \"Learning Curve: Test RMSE vs Boosting Rounds\"\n",
    "elif param.get(\"eval_metric\", \"mae\") == \"mae\":\n",
    "    score_key = \"test-mae-mean\"\n",
    "    ylabel = \"Test MAE Mean\"\n",
    "    title = \"Learning Curve: Test MAE vs Boosting Rounds\"\n",
    "elif param.get(\"eval_metric\", \"mae\") == \"logloss\":\n",
    "    score_key = \"test-logloss-mean\"\n",
    "    ylabel = \"Test Logloss Mean\"\n",
    "    title = \"Learning Curve: Test Logloss vs Boosting Rounds\"\n",
    "\n",
    "\n",
    "for i in tqdm(range(repeat_cv), leave=True, dynamic_ncols=True): \n",
    "    cv_result = xgb.cv(\n",
    "        params=param,\n",
    "        dtrain=dtrain,\n",
    "        obj=cauchyobj,\n",
    "        num_boost_round=num_boost_round,\n",
    "        folds=KFold(n_splits=folds_splits, shuffle=True, random_state=i),\n",
    "        early_stopping_rounds=early_stopping_rounds,\n",
    "        verbose_eval=50\n",
    "    )\n",
    "    \"\"\"\n",
    "    train-mae-mean: 各fold における訓練データの MAE の平均値。\n",
    "    train-mae-std: 訓練データの MAE の標準偏差。\n",
    "    test-mae-mean: 各fold における検証データの MAE の平均値。\n",
    "    test-mae-std: 検証データの MAE の標準偏差。\n",
    "    \"\"\"\n",
    "    xgb_cv.append(cv_result)\n",
    "    \n",
    "\n",
    "\n",
    "\n",
    "# 各 repeater ごとの最適ブーストラウンド数と検証MAE\n",
    "iteration_counts = [np.argmin(cv[score_key].values) for cv in xgb_cv]\n",
    "val_mae = [np.min(cv[score_key].values) for cv in xgb_cv]\n",
    "\n",
    "mean_iteration = np.mean(iteration_counts)\n",
    "mean_val_mae = np.mean(val_mae)\n",
    "min_val_mae = np.min(val_mae)\n",
    "results.append(f\"mean_iteration: {mean_iteration}\")\n",
    "results.append(f\"mean_val_{param['eval_metric']}: {mean_val_mae}\")\n",
    "results.append(f\"min_val_{param['eval_metric']}: {min_val_mae}\")\n",
    "results.append(\"\")\n",
    "\n",
    "###\n",
    "plt.figure(figsize=(10, 6))\n",
    "for i, cv_result in enumerate(xgb_cv):\n",
    "    rounds = np.arange(len(cv_result[score_key]))\n",
    "    plt.plot(rounds, cv_result[score_key], label=f\"CV repeater {i+1}\")\n",
    "    \n",
    "plt.xlabel(\"Boosting Round\")\n",
    "plt.ylabel(ylabel)\n",
    "plt.title(title)\n",
    "plt.legend()\n",
    "plt.grid(True)\n",
    "\n",
    "plt.savefig(os.path.join(OUTPUT_PATH, f\"learning_curve_{PREDICT_YEAR}.png\"))\n",
    "plt.close()\n",
    "###\n"
   ]
  },
  {
   "cell_type": "code",
   "execution_count": 22,
   "id": "648f557b",
   "metadata": {
    "execution": {
     "iopub.execute_input": "2025-03-13T16:03:46.363205Z",
     "iopub.status.busy": "2025-03-13T16:03:46.362204Z",
     "iopub.status.idle": "2025-03-13T16:03:46.366344Z",
     "shell.execute_reply": "2025-03-13T16:03:46.366344Z"
    },
    "papermill": {
     "duration": 0.023425,
     "end_time": "2025-03-13T16:03:46.366344",
     "exception": false,
     "start_time": "2025-03-13T16:03:46.342919",
     "status": "completed"
    },
    "tags": []
   },
   "outputs": [
    {
     "name": "stdout",
     "output_type": "stream",
     "text": [
      "最適ブーストラウンド数: [490, 455, 533, 567, 533, 525, 517, 480, 544, 582]\n",
      "test-rmse-mean: [11.866000726681115, 11.86602323961035, 11.810483322919774, 11.816592955279742, 11.834299057513135, 11.806607703197441, 11.834113656784194, 11.888714900581224, 11.87463347664406, 11.817895342567457]\n"
     ]
    }
   ],
   "source": [
    "print(\"最適ブーストラウンド数:\", iteration_counts)\n",
    "print(f\"{score_key}:\", val_mae)\n",
    "results.append(f\"最適ブーストラウンド: {iteration_counts}\")\n",
    "results.append(f\"{score_key}: {val_mae}\")\n",
    "results.append(\"\")"
   ]
  },
  {
   "cell_type": "code",
   "execution_count": 23,
   "id": "7af8e0b5",
   "metadata": {
    "execution": {
     "iopub.execute_input": "2025-03-13T16:03:46.394466Z",
     "iopub.status.busy": "2025-03-13T16:03:46.394466Z",
     "iopub.status.idle": "2025-03-13T16:08:59.242654Z",
     "shell.execute_reply": "2025-03-13T16:08:59.242654Z"
    },
    "papermill": {
     "duration": 312.88828,
     "end_time": "2025-03-13T16:08:59.269484",
     "exception": false,
     "start_time": "2025-03-13T16:03:46.381204",
     "status": "completed"
    },
    "tags": []
   },
   "outputs": [
    {
     "name": "stderr",
     "output_type": "stream",
     "text": [
      "\r",
      "  0%|                                                                                                                                                            | 0/10 [00:00<?, ?it/s]"
     ]
    },
    {
     "name": "stderr",
     "output_type": "stream",
     "text": [
      "C:\\Users\\81809\\AppData\\Local\\Temp\\ipykernel_17852\\3386215446.py:18: FutureWarning: Setting an item of incompatible dtype is deprecated and will raise an error in a future version of pandas. Value '[ 1.95481873e+01  1.38548622e-02  1.89148273e+01  6.46150684e+00\n",
      " -7.04173565e+00 -1.15821600e+00  6.93830395e+00  7.44873333e+00\n",
      "  2.47496300e+01  1.80155611e+00  9.84572220e+00  6.79050875e+00\n",
      "  6.73941660e+00  6.60553885e+00 -3.42517686e+00  2.16018295e+01\n",
      " -1.67810094e+00  8.10408592e+00  9.68647861e+00  2.06100726e+00\n",
      "  2.69867396e+00  2.89302588e+00 -9.99212682e-01 -1.47018433e+00\n",
      "  5.68293619e+00  7.29911613e+00  3.51453233e+00  1.74309788e+01\n",
      "  3.40437508e+00 -5.94169998e+00 -1.73751915e+00  4.79840660e+00\n",
      "  5.43820918e-01  2.06710625e+01  7.93415308e+00 -7.31749105e+00\n",
      " -1.93753803e+00  7.29318428e+00  7.21916437e+00  4.65581226e+00\n",
      "  2.48898581e-01  7.57518291e+00 -4.26884890e+00  1.36569958e+01\n",
      "  2.43467665e+00  4.54013777e+00 -1.04796896e+01  3.28880858e+00\n",
      "  1.37676802e+01 -4.78259325e-01  2.10532379e+01 -1.14699566e+00\n",
      "  5.62391043e+00  5.62740374e+00 -2.90771532e+00  7.44568872e+00\n",
      "  2.06321049e+00  5.61028719e+00  1.06259584e+00  8.70054913e+00\n",
      " -6.38149500e+00 -4.55769986e-01  1.60618937e+00  2.29396343e+01\n",
      " -1.34644008e+00  8.01681137e+00  4.26216364e+00 -6.53972864e+00\n",
      "  1.07928581e+01 -2.90490007e+00  4.27436590e+00  2.46013107e+01\n",
      " -5.90581465e+00 -2.55250502e+00  2.48389077e+00  4.71468687e+00\n",
      " -3.16902590e+00  5.15024471e+00  1.58573265e+01  1.96534462e+01\n",
      "  2.61952353e+00 -4.95289707e+00  2.15477633e+00 -1.08526814e+00\n",
      "  1.19002843e+00  3.15247822e+00  4.70737845e-01 -1.11358814e+01\n",
      " -2.64913893e+00 -3.70336056e+00  8.24608135e+00  6.11905050e+00\n",
      "  3.88372707e+00  2.09728622e+00 -3.25697374e+00  1.72716885e+01\n",
      "  2.19983292e+00  4.78499460e+00  2.13735580e+01 -8.65572214e-01\n",
      " -4.13297558e+00  1.50804090e+01  1.89274292e+01  1.06329899e+01\n",
      "  5.33691883e+00 -6.67299557e+00 -2.74769157e-01  1.21015835e+01\n",
      "  6.26928377e+00 -4.68991661e+00  1.42507404e-01 -6.35392237e+00\n",
      "  7.45631552e+00 -5.82514763e+00 -1.53676329e+01  4.01788044e+00\n",
      " -4.75663036e-01  1.73936248e+00  4.73646975e+00  4.85000944e+00\n",
      "  1.52592540e+00  4.31729853e-01  9.74887180e+00  1.04463482e+01\n",
      "  5.82336760e+00  5.60095358e+00  1.21232100e+01 -3.20091724e+00\n",
      " -1.30464101e+00  2.81039023e+00  1.96454773e+01 -1.98060858e+00\n",
      "  1.13768349e+01 -1.38250160e+01 -7.72589922e+00  1.52693224e+01\n",
      "  4.15825081e+00  8.79784489e+00  8.84937763e+00 -1.78324211e+00\n",
      "  1.25118101e+00 -2.91734004e+00  7.11312675e+00  5.59791803e+00\n",
      "  2.86559701e+00 -1.30132437e+00  1.08127632e+01  9.70780924e-02\n",
      "  6.98569059e+00 -1.09985840e+00  2.23907423e+00  7.45684564e-01\n",
      "  2.04891167e+01  1.79001503e+01  1.00174789e+01  3.79736471e+00\n",
      "  4.61283588e+00  4.03723049e+00 -8.51280510e-01  4.70590383e-01\n",
      "  1.25604558e+00 -1.11496305e+00  8.92678642e+00  1.46475077e+01\n",
      " -2.48211884e+00  3.13936424e+00  1.47797585e-01  3.86565971e+00\n",
      "  2.49596024e+00  5.09446192e+00  7.89833641e+00  2.20102429e+00\n",
      " -2.67998624e+00  5.56117594e-01  5.30266905e+00  2.34950447e+00\n",
      "  1.84737988e+01  3.72032619e+00  5.32750368e+00  3.77561808e+00\n",
      " -1.82518446e+00  3.29118347e+00  9.61174679e+00 -7.40047359e+00\n",
      "  3.08181667e+00  2.08197136e+01  1.22461519e+01 -1.12201548e+00\n",
      "  2.05660129e+00  6.80888414e+00  3.97635508e+00  1.44142866e+01\n",
      " -4.70669717e-01  3.89695978e+00  6.13549805e+00  4.44274902e+00\n",
      "  3.00440550e+00  9.00173950e+00  1.56131811e+01  1.12346716e+01\n",
      "  2.44051933e+00 -2.31100407e+01  6.12377357e+00  3.01313734e+00\n",
      "  5.52952719e+00  5.67933273e+00  4.49914455e+00  5.40955353e+00\n",
      "  5.24309731e+00  2.84419608e+00  1.87861633e+01  7.94458103e+00\n",
      "  2.91848259e+01  4.14099617e+01  2.52122688e+01  2.47916756e+01\n",
      "  2.10339870e+01  2.45692730e+01  9.26029682e+00  6.50692999e-01\n",
      "  1.25416937e+01  5.72739363e+00 -5.59433126e+00  6.25230455e+00\n",
      "  1.97220592e+01  2.28284264e+01  8.62224483e+00  2.12045193e+01\n",
      "  1.14914408e+01  8.86718082e+00  6.90514612e+00  1.10628815e+01\n",
      " -2.72994137e+00  3.52250481e+01  1.37398386e+01  4.68378925e+00\n",
      "  3.43489418e+01  4.52592564e+00 -2.62722993e+00  2.12923546e+01\n",
      "  1.38339770e+00  1.25527172e+01  1.46652889e+01  4.73579979e+00\n",
      "  3.64072490e+00  1.02898321e+01  1.96422749e+01  3.55282059e+01\n",
      "  1.36465101e+01 -1.04580092e+00 -2.23745537e+00  3.03403997e+00\n",
      " -1.59724808e+01  6.33354187e+00  1.49591131e+01 -1.33564138e+00\n",
      "  2.00941887e+01  4.52677956e+01 -5.65496063e+00  4.52038795e-01\n",
      "  1.42326050e+01  3.07352114e+00 -5.04900360e+00  8.24163342e+00\n",
      "  2.76282978e+01  9.90233707e+00  9.18660164e+00  6.48842096e+00\n",
      " -3.19773149e+00  2.40294957e+00  2.81049194e+01  1.08414774e+01\n",
      "  1.59696722e+01  1.45467129e+01 -9.00533485e+00  1.48684845e+01\n",
      "  1.08654289e+01  3.69627523e+00 -5.23697519e+00  2.98675919e+00\n",
      "  3.16129708e+00  2.88245034e+00  3.86666870e+01  1.20385208e+01\n",
      "  3.49668655e+01  3.49296837e+01 -1.89263642e-01  3.04816113e+01\n",
      "  8.03884447e-01 -6.02260768e-01  5.75027800e+00  1.39937525e+01\n",
      "  1.41999159e+01  1.33649426e+01  9.76487255e+00  5.31987667e+00\n",
      "  1.21843987e+01 -1.12502885e+00  1.22550802e+01 -4.44318962e+00\n",
      "  1.76895542e+01  2.46093082e+01  1.11708679e+01 -1.71176755e+00\n",
      "  9.87295955e-02  2.41133258e-01  8.63527870e+00 -2.10926991e+01\n",
      " -1.10117903e+01 -1.15944061e+01  1.06509626e+00  4.96240091e+00\n",
      "  8.43392086e+00  8.77915192e+00  3.12108517e+01  1.62426472e+01\n",
      "  3.19027352e+00  3.78911133e+01 -1.15953255e+00  9.17958355e+00\n",
      "  4.70108128e+00  2.46478033e+00  2.90689158e+00  1.34790504e+00\n",
      "  1.45332083e-01  4.70613718e+00 -5.64154911e+00  7.40975189e+00\n",
      "  9.79078233e-01  7.28593016e+00 -4.91603518e+00  1.84103622e+01\n",
      "  1.23320894e+01 -1.19106016e+01  2.10563660e+01 -7.91248798e+00\n",
      "  1.94606447e+00  8.66195011e+00 -4.12440538e+00 -1.21376839e+01\n",
      " -1.59735274e+00 -2.23361721e+01 -1.87578316e+01 -9.31548882e+00\n",
      " -5.62688780e+00  5.97149992e+00 -4.40811729e+00  1.13284671e+00\n",
      " -2.83147025e+00 -4.51774406e+00 -4.69424200e+00  6.73780870e+00\n",
      " -6.83143568e+00 -3.74892211e+00 -1.94609776e+01  2.34380412e+00\n",
      "  3.25666642e+00 -5.89276409e+00 -4.74548674e+00  1.15164077e+00\n",
      "  6.95912075e+00 -4.26610804e+00 -6.91398764e+00 -3.22829723e+00\n",
      " -1.16493976e+00 -2.10546589e+00 -2.16121101e+01 -1.25127184e+00\n",
      "  2.54703951e+00 -6.66856384e+00 -8.33008766e+00 -6.78196287e+00\n",
      " -7.85888433e+00 -9.35812092e+00 -2.20211935e+00 -4.75750208e+00\n",
      "  8.58367980e-01 -4.66254663e+00 -1.28059551e-01  1.63868308e+00\n",
      " -1.05351324e+01 -8.41683483e+00 -5.33676195e+00 -3.10233712e+00\n",
      " -8.63544369e+00 -4.57356882e+00 -1.64799042e+01 -2.63130436e+01\n",
      " -3.95476627e+00 -1.86753197e+01 -1.25505185e+00 -7.73106337e+00\n",
      " -2.49938178e+00 -1.67010534e+00 -7.63431311e+00 -5.65209091e-01\n",
      " -7.53033543e+00 -2.59374676e+01  3.77863812e+00 -2.13289680e+01\n",
      " -5.97289133e+00 -1.02280645e+01  4.81201363e+00  3.42816830e+00\n",
      " -1.01590586e+01  3.14147210e+00 -4.16773605e+00 -5.71518517e+00\n",
      " -4.88660240e+00 -5.90722370e+00 -1.03707161e+01 -1.96526968e+00\n",
      "  3.37921095e+00  2.21234250e+00 -1.14716473e+01 -6.27060366e+00\n",
      "  1.61482465e+00  3.02961826e+00  1.29403949e+00 -5.14671135e+00\n",
      " -2.64350653e+00  5.67047977e+00 -1.14995499e+01  2.40067840e+00\n",
      " -8.81162930e+00 -4.13720846e+00 -8.17311001e+00 -4.40675020e+00\n",
      " -3.51803684e+00 -1.17406816e+01 -3.22650194e+00 -2.08180676e+01\n",
      " -1.60298271e+01 -2.65944958e+00 -7.28477359e-01 -3.67343235e+00\n",
      " -2.42105794e+00 -2.18944597e+00  4.72280771e-01  1.61193407e+00\n",
      " -1.37298858e+00 -3.13809147e+01 -4.20921803e+00 -8.27511120e+00\n",
      " -8.52134037e+00  9.81168985e-01  5.97067833e-01 -6.20589495e+00\n",
      " -5.98242342e-01  1.26440430e+00  3.58389735e-01 -9.28759384e+00\n",
      "  1.12815499e+00  6.51454592e+00 -4.90953654e-01 -7.88905859e+00\n",
      " -5.67553222e-01 -1.56378937e+01 -1.23562508e+01 -2.37872934e+00\n",
      " -2.36041117e+00 -1.67851973e+00 -2.06811595e+00 -6.69267750e+00\n",
      " -1.75008717e+01 -9.07267761e+00 -2.31547046e+00  3.49487424e+00\n",
      " -8.41081238e+00 -2.36110744e+01 -8.93518388e-01 -3.37039971e+00\n",
      " -4.75920677e+00  3.40093255e+00  9.05648232e+00  8.49239945e-01\n",
      "  2.00173116e+00  3.29705071e+00  2.69979739e+00 -1.39460831e+01\n",
      " -7.51429844e+00 -1.73782291e+01 -3.27291250e+00 -5.23850584e+00\n",
      "  1.19473016e+00 -1.10562296e+01  2.88703775e+00 -1.21761346e+00\n",
      " -2.47549610e+01 -2.40310307e+01 -1.61230602e+01 -4.09107637e+00\n",
      " -4.01544714e+00 -4.99237490e+00  6.36659861e-01 -6.86588001e+00\n",
      " -7.67484140e+00 -1.48518217e+00 -3.48390293e+00  3.88315988e+00\n",
      " -1.61423683e+01 -1.88973176e+00  4.96499920e+00 -5.48706341e+00\n",
      "  8.42138958e+00 -7.05136633e+00  4.67807293e+00 -7.04448843e+00\n",
      " -1.63669987e+01 -1.48918028e+01 -2.28973603e+00  6.71703482e+00\n",
      " -8.68506718e+00 -2.51597691e+00  7.40052685e-02  2.95870471e+00\n",
      " -1.45785627e+01 -1.01976299e+00 -1.75998135e+01 -2.42185163e+00\n",
      " -5.58352280e+00 -5.19512749e+00 -3.58610725e+00 -7.82947183e-01\n",
      " -1.48474874e+01  9.10353482e-01  4.02325630e+00  4.88292694e+00\n",
      " -1.12187185e+01  8.91638577e-01 -3.26233387e+00 -7.23606539e+00\n",
      " -4.76608419e+00 -5.56259251e+00 -3.07154822e+00  4.93750668e+00\n",
      " -1.92153225e+01 -3.65301971e+01 -4.56727839e+00 -5.17830610e+00\n",
      " -6.00591898e+00  2.94342160e+00 -1.18620815e+01 -2.68959179e+01\n",
      " -5.75894785e+00  4.38842440e+00  1.33044088e+00 -3.38408508e+01\n",
      " -3.93949356e+01  1.43778276e+00 -4.98309374e+00 -2.69663944e+01\n",
      "  6.04887915e+00 -2.28013229e+01 -2.18024158e+00 -1.22301137e+00\n",
      " -8.81080341e+00 -3.01633244e+01 -1.25453341e+00 -1.64156647e+01\n",
      " -1.64338646e+01 -6.43194580e+00 -1.99285781e+00  5.27400446e+00\n",
      " -4.02868118e+01  6.13449872e-01 -4.59099960e+00 -1.27282200e+01\n",
      "  8.96829510e+00  2.49653220e+00  6.20752430e+00 -1.00961933e+01\n",
      " -2.90865278e+00 -1.55326986e+01 -8.48209000e+00 -7.34034586e+00\n",
      " -3.26513577e+00  3.02908683e+00  5.51782227e+00 -2.94301796e+01\n",
      " -1.21494589e+01 -2.46328568e+00  1.08909817e+01 -3.20942345e+01\n",
      " -3.79147172e+00 -9.81424141e+00 -9.92559910e-01  5.09749222e+00\n",
      " -2.88328719e+00 -3.88395643e+00  7.22620916e+00  3.17444682e+00\n",
      " -1.21959848e+01 -8.95422649e+00 -3.46901817e+01 -5.43522453e+00\n",
      " -2.47223473e+01 -2.86727657e+01 -6.59408379e+00 -1.55432262e+01\n",
      " -1.26093407e+01 -2.85728884e+00 -3.99489861e+01 -3.19973774e+01\n",
      " -1.32158613e+01 -4.83371973e+00 -5.78446245e+00 -3.33488884e+01\n",
      " -7.12844849e+00  8.63441467e+00 -1.18713627e+01 -1.58964121e+00\n",
      " -8.01235867e+00 -1.16782608e+01 -7.09724665e+00 -2.64918156e+01\n",
      " -2.88740826e+01  4.17669058e+00 -5.58136368e+00 -7.36159658e+00\n",
      " -2.29033279e+01 -2.15764737e+00 -2.76669235e+01  1.07689781e+01\n",
      " -3.53446156e-01  8.54624844e+00  2.56959724e+00 -2.63566418e+01\n",
      " -3.27283764e+00 -3.06390877e+01 -1.53873901e+01 -8.78813839e+00\n",
      "  1.05785751e+00  4.07993793e+00 -2.68344097e+01  4.73328543e+00\n",
      " -1.33269215e+01 -1.08905077e+00 -3.41532707e+01 -1.21018963e+01\n",
      "  1.62090416e+01  5.39974499e+00 -1.37354584e+01 -1.38514366e+01\n",
      " -4.20952415e+00  8.93345165e+00]' has dtype incompatible with int64, please explicitly cast to a compatible dtype first.\n",
      "  preds[val_index] = model.predict(dval_i)\n"
     ]
    },
    {
     "name": "stderr",
     "output_type": "stream",
     "text": [
      "\r",
      " 10%|██████████████▊                                                                                                                                     | 1/10 [00:30<04:32, 30.28s/it]"
     ]
    },
    {
     "name": "stderr",
     "output_type": "stream",
     "text": [
      "C:\\Users\\81809\\AppData\\Local\\Temp\\ipykernel_17852\\3386215446.py:18: FutureWarning: Setting an item of incompatible dtype is deprecated and will raise an error in a future version of pandas. Value '[-8.41928768e+00  1.87957394e+00  1.52288103e+01 -1.03941357e+00\n",
      "  7.29569530e+00  4.96086550e+00  2.09246616e+01 -2.11385322e+00\n",
      "  1.29195251e+01  6.27788877e+00 -4.02574968e+00 -5.51174068e+00\n",
      "  6.04117346e+00  6.44193172e+00 -2.21634579e+00  2.34040451e+01\n",
      "  1.47342217e+00  2.88101077e+00  1.04476967e+01  9.31996632e+00\n",
      "  8.11837673e+00  4.24783468e+00  7.44469547e+00  4.51366997e+00\n",
      " -7.19545126e+00  2.21662021e+00  7.93786716e+00 -2.93371582e+00\n",
      "  2.48925381e+01  1.59226065e+01  1.24813566e+01  4.65178776e+00\n",
      "  6.58684874e+00 -2.32687354e+00  5.99404812e+00  5.75649214e+00\n",
      " -3.46581268e+00  8.02411318e-01  9.13284588e+00  2.35683670e+01\n",
      "  1.23341179e+01  1.06043100e+01  1.76005363e+01  8.11277676e+00\n",
      "  1.74597530e+01  8.55645657e+00  7.81336451e+00  5.08003902e+00\n",
      " -9.69526529e-01  5.84544802e+00 -2.03205928e-01 -4.23009515e-01\n",
      "  1.93347812e+00  5.23074007e+00  8.23824978e+00  2.63888550e+01\n",
      "  7.35627174e+00 -5.15281022e-01  8.99612045e+00  1.01792622e+01\n",
      "  7.81233025e+00  6.77593708e+00 -1.72113502e+00 -2.92466021e+00\n",
      " -1.86744332e+00  3.00066829e+00 -1.84022999e+00  2.97242546e+00\n",
      "  1.89322395e+01  1.21595860e+01  1.58101261e+00  2.79679451e+01\n",
      "  1.36260424e+01  3.78246570e+00  1.92333527e+01 -8.69638824e+00\n",
      "  6.81604671e+00  6.38570690e+00  2.92445827e+00  3.77038741e+00\n",
      "  1.30255139e+00  7.45252490e-01  1.88907013e+01  7.45254135e+00\n",
      " -2.27722192e+00 -1.08937960e+01  5.47107506e+00  1.00508537e+01\n",
      "  3.41791177e+00  1.84822273e+00  3.26696658e+00 -4.86252928e+00\n",
      " -3.85366273e+00  1.80243092e+01 -1.71145415e+00 -1.41125691e+00\n",
      " -2.38362455e+00  1.27718620e+01  1.01556740e+01  1.45669603e+01\n",
      "  3.52869701e+00 -5.78502560e+00  1.24218054e+01  7.83089876e+00\n",
      "  1.16528425e+01  3.25558710e+00  8.66262150e+00 -1.09020472e+00\n",
      "  1.76444359e+01 -1.71658683e+00  2.25110855e+01 -2.11462855e+00\n",
      "  1.93925023e+00  1.48451672e+01  1.74720364e+01 -2.49476266e+00\n",
      "  3.99709153e+00 -3.56906652e+00 -9.14748478e+00 -5.96008635e+00\n",
      "  2.27794647e+00  1.18908846e+00  1.06234387e-01 -1.52633917e+00\n",
      " -2.48702908e+00 -3.69881600e-01 -5.88839483e+00  6.90143633e+00\n",
      "  1.67499983e+00  3.05345554e+01  6.91629887e+00  2.66632366e+01\n",
      "  6.00685644e+00 -1.03809126e-01  1.03734093e+01 -7.88731194e+00\n",
      " -6.50378180e+00  2.14080587e-01 -6.67126751e+00 -1.20311558e-01\n",
      "  7.11886692e+00 -1.03277051e+00  2.39531822e+01  1.61851540e+01\n",
      "  5.12437868e+00  3.95285398e-01 -8.00700545e-01 -1.78322375e-01\n",
      "  8.55498910e-01  9.38513160e-01 -3.36788058e+00 -3.20783198e-01\n",
      "  2.32799840e+00 -6.58689499e+00 -2.25669026e+00  4.20679855e+00\n",
      "  2.15559902e+01  5.08474886e-01  4.15137815e+00  7.02095747e+00\n",
      " -8.38114643e+00  4.04418898e+00 -1.11793649e+00 -3.62303329e+00\n",
      " -4.45288563e+00 -2.47020945e-01  3.06509285e+01  2.14164805e+00\n",
      "  6.99246311e+00 -5.14812422e+00  8.19472298e-02  1.30162649e+01\n",
      "  1.94195671e+01  9.36900139e+00  3.81622076e+00 -2.72738159e-01\n",
      "  1.02650433e+01 -5.05202341e+00 -1.91095638e+01 -5.28023291e+00\n",
      "  5.71707869e+00  7.40394878e+00 -3.00728512e+00  8.87606430e+00\n",
      "  2.12707577e+01  9.87242126e+00  3.16167474e+00  2.43543358e+01\n",
      " -1.52854908e+00  9.58614826e+00  2.43715572e+01 -3.82443690e+00\n",
      " -7.57711530e-01  4.73981285e+00  2.28066966e-01  5.15405989e+00\n",
      " -4.53702545e+00  2.62075567e+00 -7.37022591e+00  1.66723955e+00\n",
      "  2.84687996e+00 -3.51576853e+00  2.20105915e+01 -1.38632643e+00\n",
      "  1.63141117e+01  1.58527098e+01  1.92759895e+01 -3.21612287e+00\n",
      "  2.07938995e+01  2.40957093e+00 -9.33377457e+00 -1.06561146e+01\n",
      "  1.16109228e+01  2.60332322e+00 -1.50754082e+00 -3.12440205e+00\n",
      "  5.54286337e+00  5.36223125e+00  4.89144421e+00  1.98484077e+01\n",
      " -1.76519668e+00  2.19304299e+00  5.23855543e+00  2.03362312e+01\n",
      " -2.41640687e+00  2.67005849e+00  1.87095661e+01  2.70227413e+01\n",
      " -7.13148975e+00 -3.21772575e+00  6.33885288e+00  2.80345440e+01\n",
      "  3.83824348e+01 -8.89550596e-02  5.45958090e+00  2.06960983e+01\n",
      "  7.09837818e+00  2.28030376e+01 -5.99382305e+00 -5.09181499e+00\n",
      "  4.71118879e+00  1.04225235e+01  6.05027723e+00 -7.49941826e+00\n",
      "  2.14940987e+01  1.10574245e+00 -5.03215075e+00  1.20404501e+01\n",
      "  2.36138329e-01  1.01595509e+00  1.38961182e+01 -1.44030066e+01\n",
      "  1.63798141e+01  1.83996468e+01  2.41537976e+00  7.86087465e+00\n",
      "  1.06532373e+01  8.56285763e+00  3.33819656e+01  2.22592583e+01\n",
      "  4.88137627e+00 -8.45331001e+00  3.26317329e+01  1.50961885e+01\n",
      "  2.31567931e+00  9.33629227e+00  2.23952045e+01  4.73201714e+01\n",
      "  1.96015110e+01 -7.16548395e+00  3.16717892e+01  1.33616819e+01\n",
      "  3.75771980e+01  1.18814125e+01  1.97525132e+00  3.66013765e+00\n",
      "  1.06556940e+01  8.87355042e+00  4.67032576e+00  2.53881741e+01\n",
      "  2.81353645e+01  7.36826515e+00  7.49490833e+00  3.99427176e+00\n",
      "  2.84462852e+01 -2.78417516e+00  1.11405058e+01  2.50391598e+01\n",
      " -2.12785673e+00  1.63833141e+00  1.95847404e+00  1.35636063e+01\n",
      "  3.26685867e+01  2.29922581e+00  1.89427452e+01  9.96925449e+00\n",
      "  2.59203625e+01 -8.35892618e-01 -7.20363235e+00  2.97842479e+00\n",
      "  6.68920565e+00  1.11590481e+01  2.83966804e+00  4.63193130e+00\n",
      " -1.23030052e+01  1.99776602e+00 -2.34155965e+00 -7.58313274e+00\n",
      " -1.51483083e+00  2.40512061e+00 -1.33996919e-01  3.93106728e+01\n",
      "  2.54650288e+01  7.12630081e+00  7.43157864e+00 -6.17883015e+00\n",
      "  6.10190392e+00  2.25923977e+01 -5.46503544e+00  1.72482300e+01\n",
      "  1.65295279e+00 -1.16721878e+01 -1.23409920e+01  2.73270969e+01\n",
      "  3.24660516e+00  5.37156534e+00  1.27355146e+01 -1.22273817e+01\n",
      "  5.35279322e+00 -1.74304390e+01 -2.17655449e+01  3.58649111e+00\n",
      " -1.09840989e+00 -2.81288981e-01 -8.80442810e+00  3.45196915e+00\n",
      " -6.95091486e+00  3.71216464e+00 -6.30093384e+00 -5.54512787e+00\n",
      " -1.43979847e+00  7.84110546e+00  1.07018888e+00  4.24963617e+00\n",
      " -2.04790173e+01 -2.43603573e+01 -2.21716690e+01 -5.22407198e+00\n",
      " -2.61518502e+00 -5.61447501e-01 -9.13522434e+00 -2.72762465e+00\n",
      " -1.41134691e+00 -3.70404649e+00 -3.82016540e+00  1.86447620e-01\n",
      "  5.87073994e+00 -5.14660215e+00  2.01543391e-01 -9.68741417e+00\n",
      " -7.47385263e+00 -1.96232414e+01 -1.30682583e+01  3.07681203e+00\n",
      "  3.06582069e+00  6.90222454e+00 -1.52067652e+01  3.72910213e+00\n",
      "  7.25521088e+00 -1.13205874e+00 -1.81854641e+00  1.63817585e+00\n",
      "  6.56755543e+00 -5.01742029e+00  4.13928002e-01 -7.73744535e+00\n",
      " -9.93519008e-01 -2.04789314e+01 -5.57600784e+00  1.70230043e+00\n",
      "  5.24697638e+00  4.70753145e+00 -8.65766144e+00 -9.12416935e+00\n",
      "  1.73936021e+00  2.53253150e+00 -7.12793589e-01 -5.72877741e+00\n",
      " -1.30261297e+01 -5.75483513e+00 -8.51760197e+00  2.12953758e+00\n",
      " -8.28121853e+00 -6.23326874e+00 -6.28371096e+00 -3.56899595e+00\n",
      "  7.57733822e-01 -1.20303154e+01 -2.84582043e+01  3.35406035e-01\n",
      " -4.66282082e+00 -2.45877876e+01 -2.99223757e+00 -4.37116051e+00\n",
      " -1.23978329e+01  2.59456813e-01 -2.53109264e+01 -2.07590313e+01\n",
      "  9.23139155e-01 -4.43140626e-01  1.13444693e-01  2.00831771e+00\n",
      " -6.04430246e+00  1.43240471e+01 -2.87810383e+01  3.59256840e+00\n",
      " -1.58819075e+01 -3.86768794e+00 -3.30867320e-01  4.27110195e+00\n",
      " -1.03373947e+01 -3.91007495e+00  1.99583697e+00 -5.58513142e-02\n",
      " -2.11991858e+00  1.77877367e+00 -3.34689379e+00 -2.56509948e+00\n",
      "  6.38559580e+00 -4.00852919e+00  1.00653334e+01  7.04680252e+00\n",
      "  5.74427223e+00  1.61469040e+01  1.28892183e-01  2.80824590e+00\n",
      "  1.15402329e+00 -3.05437183e+01 -6.64783525e+00 -7.46412420e+00\n",
      "  2.19079232e+00  2.83352041e+00 -2.61729908e+00  8.54083598e-01\n",
      " -5.96707869e+00 -9.84169579e+00  9.55901369e-02  1.63227403e+00\n",
      " -3.55697989e+00 -1.29107275e+01 -2.10509443e+00 -2.47695589e+00\n",
      " -7.18395853e+00 -1.85221500e+01 -3.82506871e+00  7.08332586e+00\n",
      " -1.32494032e+00  1.68161154e+00 -1.00264378e+01  5.71218395e+00\n",
      "  6.27820921e+00 -3.29123974e-01 -7.36205578e+00  2.54504395e+00\n",
      " -2.23779163e+01 -4.34793425e+00 -3.43277812e+00 -2.40197906e+01\n",
      " -1.12337933e+01 -1.27126598e+00 -2.66099024e+00  1.12805367e+00\n",
      "  4.18526649e+00 -2.19193230e+01 -2.29994659e+01 -5.81609058e+00\n",
      " -6.84869719e+00 -4.17061949e+00 -2.11470699e+00 -5.03753614e+00\n",
      " -3.22049928e+00  3.24648070e+00  1.66300046e+00 -2.24602642e+01\n",
      "  3.67884660e+00 -6.32513404e-01 -2.29563951e+00  1.38093948e-01\n",
      " -2.27302790e+00 -1.91701832e+01 -2.04047432e+01 -4.38596773e+00\n",
      " -7.42258370e-01 -1.13458834e+01 -3.49951482e+00  2.06001544e+00\n",
      " -9.85745668e-01  2.22742295e+00 -5.07230282e-01 -5.46378040e+00\n",
      " -9.10445511e-01 -5.98678398e+00 -2.29390430e+00 -3.07474065e+00\n",
      " -3.33877921e+00 -2.84788823e+00 -3.87998223e-01 -9.08828974e-01\n",
      "  2.97634792e+00  5.03385067e+00 -7.62894964e+00 -4.09546089e+00\n",
      " -2.31039848e+01 -3.54242015e+00 -1.70733967e+01 -2.02426891e+01\n",
      "  5.45741749e+00  7.09451246e+00 -7.58404875e+00 -5.05754614e+00\n",
      "  3.75001550e+00 -1.16346321e+01 -2.26785851e+00 -3.86766791e-02\n",
      " -1.68802643e+01 -5.52327919e+00  3.45269966e+00 -1.01254416e+01\n",
      " -2.24947166e+01  4.52306509e+00  2.75788355e+00  1.95571160e+00\n",
      "  5.93957305e-01 -4.64998960e+00 -1.33631337e+00 -3.03365517e+01\n",
      " -4.34285011e+01 -2.75211830e+01 -2.63286781e+01 -1.41485751e+00\n",
      " -7.02994490e+00 -1.73628902e+01 -3.45629478e+00 -1.37523150e+00\n",
      " -1.88165627e+01 -5.69054317e+00 -1.56499701e+01 -2.43360672e+01\n",
      "  4.07805413e-01 -3.45147395e+00 -1.38873158e+01 -2.74446678e+01\n",
      "  4.00251675e+00 -7.42853928e+00  6.07603645e+00 -9.61525249e+00\n",
      " -1.83759212e+01 -3.00699005e+01 -1.00901480e+01 -2.52721763e+00\n",
      " -1.38448830e+01  9.15169060e-01 -7.22297859e+00  4.19705248e+00\n",
      " -8.07184505e+00 -3.15560951e+01 -9.62028885e+00 -1.45274305e+01\n",
      " -3.46832695e+01 -4.70457697e+00  1.77514935e+00 -2.27122688e+01\n",
      " -1.22908630e+01 -9.79219151e+00 -3.20364666e+00 -9.93862438e+00\n",
      "  8.01146507e+00 -7.57850468e-01  3.14257312e+00 -3.11852608e+01\n",
      " -2.81035118e+01 -4.37857246e+01  4.54297543e+00 -2.34061551e+00\n",
      " -1.38979959e+01  1.20291257e+00 -1.11143560e+01 -1.55535088e+01\n",
      " -3.75730610e+00 -1.03602114e+01 -6.06465340e+00 -9.75526869e-01\n",
      " -3.77878952e+00 -1.04476929e+01 -2.12368011e+01  3.94478750e+00\n",
      " -3.34880447e+01 -9.24759102e+00  1.02969503e+01 -2.93142967e+01\n",
      "  6.24074984e+00 -1.58705301e+01 -8.09766579e+00 -3.19282551e+01\n",
      " -2.60640182e+01 -4.25602961e+00  2.32559133e+00 -1.26755009e+01\n",
      "  1.90999246e+00 -3.11339331e+00 -1.31067877e+01 -2.93374300e+00\n",
      " -2.00532174e+00  1.68465436e+00 -1.75984306e+01 -8.24390888e+00\n",
      " -2.10763359e+01  2.72009164e-01 -9.91574192e+00 -5.34777737e+00\n",
      " -6.15843868e+00  1.08414686e+00 -1.16940632e+01 -1.65856800e+01\n",
      " -1.93741393e+00 -1.74642410e+01 -5.44679117e+00 -8.34618390e-01\n",
      " -8.66551495e+00 -2.54315662e+01 -5.73123121e+00  2.25068016e+01\n",
      "  1.45120411e+01 -5.90726089e+00 -3.90202789e+01 -9.79995251e+00\n",
      " -2.55372372e+01 -5.37061930e+00 -2.58648720e+01  4.77869368e+00\n",
      " -1.81233997e+01 -8.20112705e+00 -1.22057028e+01 -1.28940496e+01\n",
      " -1.15243025e+01 -3.69120479e+00]' has dtype incompatible with int64, please explicitly cast to a compatible dtype first.\n",
      "  preds[val_index] = model.predict(dval_i)\n"
     ]
    },
    {
     "name": "stderr",
     "output_type": "stream",
     "text": [
      "\r",
      " 20%|█████████████████████████████▌                                                                                                                      | 2/10 [00:57<03:48, 28.52s/it]"
     ]
    },
    {
     "name": "stderr",
     "output_type": "stream",
     "text": [
      "C:\\Users\\81809\\AppData\\Local\\Temp\\ipykernel_17852\\3386215446.py:18: FutureWarning: Setting an item of incompatible dtype is deprecated and will raise an error in a future version of pandas. Value '[ 1.11893237e+00 -6.29755354e+00 -5.64240217e+00 -2.76094526e-01\n",
      "  7.75633764e+00 -1.74348891e+00  5.98261881e+00  6.15471125e+00\n",
      "  2.19531560e+00 -1.79997969e+00 -5.57822752e+00  2.45179958e+01\n",
      "  2.15054474e+01 -1.46830827e-01  2.25011730e+01  2.51554565e+01\n",
      "  5.03096151e+00  9.77852058e+00  7.77407455e+00 -1.06881561e+01\n",
      "  5.23326921e+00  4.54781008e+00  9.17929077e+00  7.04708290e+00\n",
      "  2.32592988e+00  4.14352322e+00  7.99985027e+00  3.86218309e+00\n",
      " -6.76132822e+00 -5.54499388e+00  5.36351204e-01  1.02046852e+01\n",
      "  9.64124870e+00  2.87781477e+00  2.49476452e+01 -1.30095220e+00\n",
      "  4.82711363e+00  2.91346016e+01  4.02501631e+00  6.26637602e+00\n",
      "  4.72207260e+00 -5.97763920e+00  5.30087233e+00  2.38953337e-01\n",
      "  1.59802115e+00  6.64495516e+00 -3.78503108e+00 -5.75109959e+00\n",
      "  6.15475225e+00 -1.03982468e+01  5.32502222e+00  6.56652498e+00\n",
      "  5.65465546e+00 -2.77976036e+00  9.71243954e+00  2.27320194e-01\n",
      "  4.94283867e+00  1.64838829e+01  5.83375502e+00 -5.77986479e-01\n",
      "  2.26226177e+01 -3.05881548e+00  2.16220760e+00  2.68390560e+01\n",
      "  6.50420618e+00  7.05502176e+00  7.05337906e+00  1.81114006e+00\n",
      "  3.53572512e+00  2.84737778e+00 -4.89791125e-01  2.40242100e+01\n",
      "  8.69506741e+00  1.36825871e+00  6.19988489e+00  1.54803963e+01\n",
      "  3.81520510e+00  1.78166294e+01 -8.30437088e+00  1.46263421e+00\n",
      "  4.80120564e+00  6.48754787e+00 -4.00411940e+00  8.73819292e-02\n",
      "  1.50415306e+01 -5.35518408e+00  2.76292706e+01 -1.61154258e+00\n",
      " -1.27297556e+00  1.42603006e+01  5.24750853e+00  2.19961872e+01\n",
      "  1.08932066e+00 -6.48531199e+00  9.64383411e+00  6.97338247e+00\n",
      "  4.24633741e+00 -2.68760467e+00  1.06111288e+00  4.84220123e+00\n",
      "  3.39232635e+00  2.01936417e+01 -2.95445824e+00  9.02937603e+00\n",
      "  1.93336487e+01  1.14861310e+00  2.23923607e+01  5.45095348e+00\n",
      "  4.27129173e+00 -3.13179326e+00  7.93296432e+00 -5.89185047e+00\n",
      " -1.40027821e+00  1.01306629e+00 -2.06361723e+00 -7.24513197e+00\n",
      "  2.10668892e-01  6.05840015e+00 -2.23591346e-02  7.28377819e+00\n",
      "  2.50721188e+01  3.95846486e+00  1.02862530e+01 -2.41505027e+00\n",
      "  1.10906196e+00 -4.69812107e+00 -7.96798766e-01  8.27556551e-01\n",
      " -5.14430285e-01  9.29480076e-01 -1.59290943e+01  1.16825218e+01\n",
      "  1.20169420e+01  2.23849220e+01 -5.11136293e+00  2.10142866e-01\n",
      "  6.96554136e+00 -6.04038191e+00  8.72824073e-01 -3.21463108e+00\n",
      "  1.17872262e+00  1.83141098e+01  1.18421726e+01  2.08694601e+00\n",
      "  1.94294631e+00 -1.90850747e+00  4.73156595e+00 -7.21692848e+00\n",
      "  2.57292676e+00  1.35432177e+01 -2.50669742e+00  2.90017009e+00\n",
      " -2.16341138e+00  2.24315605e+01  2.72956538e+00  1.62120545e+00\n",
      "  2.85756035e+01  5.00817442e+00  4.12917519e+00  8.71309948e+00\n",
      " -1.79192334e-01  9.50395966e+00 -2.03687072e+00  3.18354845e+00\n",
      "  4.17900276e+00  5.73761320e+00  1.10750227e+01  2.71371346e+01\n",
      "  4.45185947e+00  6.28434277e+00 -3.63795352e+00  8.97513580e+00\n",
      "  2.61373019e+00  1.85470247e+00  2.15245509e+00  2.27740173e+01\n",
      " -1.62797362e-01  5.49083900e+00 -7.77598095e+00  2.96525407e+00\n",
      " -4.32053375e+00 -1.51845992e+00 -9.40513515e+00  7.65365219e+00\n",
      "  6.48168659e+00  3.18703365e+00 -1.83270240e+00  2.80079985e+00\n",
      " -8.78083885e-01 -5.35306835e+00  3.69372988e+00  3.17806282e+01\n",
      "  3.01160774e+01  4.45137825e+01  2.93464375e+01  1.92004528e+01\n",
      " -2.90729141e+00  3.72894692e+00  9.33355689e-01  1.29222326e+01\n",
      "  1.26994352e+01 -1.26938171e+01  5.49843311e+00  5.63033760e-01\n",
      "  9.93159771e+00  2.72002354e+01  2.78088117e+00  4.07068863e+01\n",
      "  9.52283669e+00 -1.08621502e+01  1.65524216e+01  9.82447529e+00\n",
      "  1.32668400e+01  1.77510548e+01  2.58884125e+01  1.70551319e+01\n",
      "  4.48278618e+00  4.42694759e+00  3.65000038e+01 -3.93572426e+00\n",
      "  1.36318798e+01  1.07099800e+01  2.48872852e+01  1.75992393e+01\n",
      "  1.84607563e+01  1.19293251e+01  1.41381812e+00 -4.71571827e+00\n",
      "  2.02130680e+01 -7.11922789e+00 -2.08704996e+00  2.99690361e+01\n",
      " -1.86420321e+00  1.26989155e+01 -1.59800923e+00  8.49348068e+00\n",
      " -7.48059893e+00  2.61970825e+01  9.84910774e+00 -2.28689728e+01\n",
      "  3.17545490e+01  1.57315674e+01 -2.99064302e+00 -6.98427105e+00\n",
      "  3.98755884e+00  4.95525694e+00  1.47703619e+01  1.41786337e+01\n",
      "  2.25790143e+00  6.59784746e+00  6.53814983e+00  8.37035465e+00\n",
      "  3.94825287e+01  6.14521933e+00 -3.75113988e+00 -2.85422355e-02\n",
      "  9.86818123e+00  1.28678427e+01  3.68342638e+00  2.56426678e+01\n",
      "  2.94230118e+01 -7.21427155e+00  7.23223877e+00  5.16557264e+00\n",
      "  3.06821346e+01 -9.45631218e+00  3.94489217e+00  2.90196991e+00\n",
      "  1.31314392e+01  1.47580612e+00 -4.72610044e+00 -2.27741766e+00\n",
      "  3.84919968e+01  3.32802353e+01  1.32904148e+01  1.91501570e+00\n",
      " -1.77414846e+00  1.11300659e+01  1.88185577e+01  3.09309349e+01\n",
      " -4.11199808e+00 -1.09241114e+01 -1.00810099e+01  2.90251675e+01\n",
      " -8.97496510e+00  8.28185844e+00  2.31022968e+01  7.77888536e+00\n",
      "  2.53517647e+01  2.81916695e+01  7.97223186e+00  1.19293833e+00\n",
      " -2.55113392e+01  4.08805466e+00 -6.65061548e-02  4.21644306e+00\n",
      "  1.51863270e+01 -6.46080542e+00  3.99188843e+01  7.00651312e+00\n",
      "  2.23764133e+01  2.51763115e+01  1.15615864e+01  1.40060139e+01\n",
      " -9.39864159e-01  1.01273308e+01  6.75477862e-01 -3.51800752e+00\n",
      "  2.76371050e+00 -1.08727646e+01 -2.15055561e+01 -6.47735310e+00\n",
      " -1.73466702e+01 -1.89308510e+01 -7.04088116e+00  4.57897711e+00\n",
      "  5.45262671e+00 -6.29677391e+00 -6.30925846e+00  3.06178308e+00\n",
      " -6.50043917e+00 -4.23689222e+00 -5.09975910e+00 -1.36495364e+00\n",
      " -6.41896629e+00 -1.96991997e+01  1.08401003e+01 -2.99715114e+00\n",
      " -3.77720308e+00 -5.72033072e+00  5.97435176e-01 -8.94168377e+00\n",
      " -6.62734842e+00 -7.52868319e+00 -2.38695812e+00 -3.06573153e-01\n",
      " -4.86314344e+00 -1.52804594e+01  2.35208511e+00 -1.94446754e+01\n",
      "  1.29172602e+01 -8.42554188e+00 -1.16329250e+01 -3.79480147e+00\n",
      " -1.54862547e+01 -5.36980581e+00  7.24946404e+00 -4.74429417e+00\n",
      "  1.46031559e+00 -5.84885883e+00 -2.82892513e+00 -6.78847837e+00\n",
      " -9.47738552e+00 -1.64375520e+00 -2.58977199e+00  7.64150047e+00\n",
      "  4.33154345e+00 -1.64252224e+01 -7.61555672e+00  3.41733885e+00\n",
      " -9.13658619e+00 -1.55642862e+01 -3.04682159e+00 -4.95247698e+00\n",
      "  4.83470726e+00 -1.71666682e-01 -2.11371112e+00 -4.50421953e+00\n",
      " -2.54688950e+01 -1.10413399e+01  2.14915228e+00 -6.75729454e-01\n",
      " -1.58609371e+01  9.84777629e-01  9.53205884e-01 -3.86380887e+00\n",
      "  2.45478415e+00 -2.55748582e+00 -7.84281731e+00 -5.32791805e+00\n",
      " -3.65355790e-01 -1.83218250e+01 -1.22469735e+00 -7.57614076e-01\n",
      " -4.95659637e+00 -1.80782166e+01 -6.15728474e+00 -1.28790677e+00\n",
      " -1.15961637e+01 -4.76320171e+00 -6.46608770e-01 -5.59117496e-01\n",
      " -2.38820591e+01 -8.87551248e-01  4.42856503e+00  5.28026152e+00\n",
      " -2.64196849e+00 -2.23661251e+01  4.24655676e+00 -7.38229179e+00\n",
      " -1.20487022e+01 -5.11317635e+00 -1.13698082e+01  6.70507178e-02\n",
      "  2.59132719e+00  3.79754996e+00 -7.73620188e-01 -3.35290146e+00\n",
      "  2.71130562e+00  2.82483965e-01  9.19332683e-01  2.26631498e+00\n",
      " -1.50817175e+01 -1.10021677e+01 -5.40301847e+00  6.45983124e+00\n",
      "  3.61784287e-02 -1.00595725e+00 -2.20587063e+00 -1.21893110e+01\n",
      "  7.51239121e-01 -2.10511360e+01  3.27421451e+00 -6.41017199e+00\n",
      " -1.53718293e+00 -2.56995988e+00  2.38070846e+00  9.03162003e+00\n",
      " -3.79645973e-01 -7.91656017e+00 -1.73854363e+00  1.62433205e+01\n",
      "  4.17167395e-01 -2.99482021e+01 -7.05754900e+00 -6.50400114e+00\n",
      "  5.73106170e-01 -1.79134293e+01  9.32703304e+00  3.00487429e-01\n",
      " -1.14777737e+01 -1.08181963e+01 -3.79627967e+00 -2.30573654e+00\n",
      " -2.18591099e+01  1.60947647e+01 -1.86531341e+00  9.41479981e-01\n",
      " -1.22160091e+01  1.17744808e+01  2.78507233e+00 -1.60248089e+01\n",
      "  5.90955496e-01 -1.10890341e+01 -7.22169209e+00 -5.62317610e+00\n",
      "  2.47280240e+00 -3.92396760e+00 -2.12338657e+01 -4.03074694e+00\n",
      " -2.13261337e+01 -4.54442883e+00 -5.17622852e+00 -4.13518190e+00\n",
      " -1.72984207e+00  1.55453110e+00  1.29187882e+00 -6.86082506e+00\n",
      " -9.20184135e-01 -3.60791659e+00 -1.08037691e+01 -1.46423888e+00\n",
      "  6.78092957e-01 -1.01219034e+01 -2.70300925e-01 -5.49257278e+00\n",
      " -4.38974524e+00  1.43692315e-01  1.59712076e+00  3.42852139e+00\n",
      "  3.39106321e-02 -2.38743305e+01 -8.06236076e+00  5.28807163e+00\n",
      "  3.61704254e+00 -2.16421247e+00 -1.68351555e+01 -1.67573786e+00\n",
      " -5.07929230e+00 -8.61034489e+00  1.16097033e+00 -5.77073246e-02\n",
      " -2.04547367e+01 -8.19727802e+00 -2.72915459e+00 -1.47938232e+01\n",
      " -2.22829361e+01 -2.51142330e+01 -1.96570263e+01  2.54938626e+00\n",
      " -3.73881269e+00  3.92835164e+00 -5.81727982e+00 -2.64582801e+00\n",
      "  7.57892227e+00  2.18243146e+00  5.83725631e-01 -3.52925539e+00\n",
      " -2.32630424e+01 -7.47132874e+00  3.89017415e+00  1.38167930e+00\n",
      " -1.17362320e+00 -3.58017159e+00  5.14905596e+00  2.36969724e-01\n",
      "  1.85295093e+00  6.92706203e+00  3.64160013e+00 -1.05420313e+01\n",
      " -3.15100455e+00  2.60613650e-01 -1.20882950e+01 -2.82209263e+01\n",
      " -1.48824759e+01  5.95611668e+00 -7.39241838e-01 -5.67897797e-01\n",
      " -1.82129517e+01 -1.63530960e+01  1.54224169e+00 -2.50617619e+01\n",
      "  1.77860463e+00 -2.22841949e+01 -2.19808846e+01 -8.21496010e+00\n",
      " -3.64121666e+01 -1.26691504e+01 -3.23024330e+01 -2.10837040e+01\n",
      " -6.20577669e+00  2.14774942e+00  1.25183115e+01  5.84870529e+00\n",
      " -2.97552910e+01 -2.44347897e+01 -1.05326309e+01 -3.22122269e+01\n",
      "  1.78699532e+01 -5.96171141e+00 -2.35985203e+01 -7.01913548e+00\n",
      " -5.56492567e+00 -1.30806303e+01  4.72087669e+00 -1.54573698e+01\n",
      " -2.95888710e+01 -1.67668307e+00 -3.68516397e+00 -2.14302025e+01\n",
      " -9.97767735e+00 -2.66438198e+01 -1.24130411e+01 -2.09454403e+01\n",
      "  1.16534166e+01 -1.36357536e+01 -3.24018555e+01 -7.27602720e+00\n",
      " -4.72164488e+00 -9.26279545e+00  5.73541212e+00 -1.67423809e+00\n",
      " -7.95466661e+00 -2.78256378e+01  1.17858887e+00 -1.35862551e+01\n",
      " -4.26652603e+01 -2.53972960e+00 -1.41290255e+01 -8.19714740e-02\n",
      "  4.05139017e+00 -1.64880905e+01  5.05746651e+00 -3.25339622e+01\n",
      "  6.64935064e+00 -1.88816488e+00 -1.41075077e+01 -4.13249159e+00\n",
      " -1.09406109e+01 -6.80430841e+00 -1.81804812e+00 -1.99571381e+01\n",
      " -1.05296049e+01 -4.97761393e+00  2.59272647e+00  1.05233688e+01\n",
      " -7.37203074e+00 -9.49380684e+00 -2.37198467e+01  3.10719442e+00\n",
      "  8.36452389e+00  2.87483335e+00 -5.97385502e+00 -6.21181583e+00\n",
      "  1.04916658e+01 -6.16284609e-01 -1.19092598e+01 -4.59277077e+01\n",
      "  1.46430123e+00 -3.08510990e+01  5.61522150e+00 -1.22055511e+01\n",
      " -3.04662781e+01 -3.53976464e+00 -1.03880825e+01  1.26005478e+01\n",
      " -1.44453659e+01 -1.94420929e+01 -8.91542721e+00 -2.35588856e+01\n",
      " -3.09857941e+01 -6.78244877e+00 -3.56296301e+00  8.32186162e-01\n",
      " -2.83762550e+01 -1.96166878e+01 -2.18166122e+01 -1.75028002e+00\n",
      " -5.82845736e+00 -4.76360989e+00 -1.14651394e+01 -5.84246302e+00\n",
      " -3.09432459e+00  8.11582947e+00 -2.98802795e+01  1.31010876e+01\n",
      " -8.81742191e+00 -5.22603941e+00  2.19964719e+00 -3.87571526e+01\n",
      " -4.66968203e+00 -2.23551540e+01 -2.75641823e+00  5.66101551e+00\n",
      " -1.52634478e+01 -4.00439882e+00]' has dtype incompatible with int64, please explicitly cast to a compatible dtype first.\n",
      "  preds[val_index] = model.predict(dval_i)\n"
     ]
    },
    {
     "name": "stderr",
     "output_type": "stream",
     "text": [
      "\r",
      " 30%|████████████████████████████████████████████▍                                                                                                       | 3/10 [01:30<03:32, 30.38s/it]"
     ]
    },
    {
     "name": "stderr",
     "output_type": "stream",
     "text": [
      "C:\\Users\\81809\\AppData\\Local\\Temp\\ipykernel_17852\\3386215446.py:18: FutureWarning: Setting an item of incompatible dtype is deprecated and will raise an error in a future version of pandas. Value '[ 4.62986231e-01 -8.39729500e+00  5.05969954e+00  1.50704985e+01\n",
      "  2.09022026e+01  8.86507607e+00  2.96545506e+00 -2.81065440e+00\n",
      "  3.77888560e-01  4.64013577e-01 -2.61776018e+00 -3.67691159e+00\n",
      "  2.55073929e+00 -1.08756411e+00 -3.72786021e+00  2.05815506e+01\n",
      " -2.46001673e+00 -1.22954118e+00  1.99488182e+01  4.22863662e-01\n",
      "  6.76237154e+00  3.73544717e+00 -1.17941737e+00  5.10804653e+00\n",
      " -3.71779919e+00  8.42771721e+00 -4.87265587e-01 -4.34101105e+00\n",
      "  2.23506403e+00  6.58079147e+00  1.31000984e+00  1.71334553e+01\n",
      "  4.74606323e+00  3.17734528e+00  3.58526736e-01  7.23513699e+00\n",
      "  5.44766605e-01  1.58297195e+01  2.25912213e+00 -6.84391499e+00\n",
      "  6.08998013e+00  1.00806618e+00  9.95650482e+00  4.62016058e+00\n",
      " -7.27124500e+00  6.00088978e+00  2.53550768e+00 -8.77000332e+00\n",
      " -3.75964332e+00 -1.38934541e+00  2.15209351e+01  3.42036128e-01\n",
      " -8.59881490e-02 -3.01801872e+00  7.66529465e+00  1.89656341e+00\n",
      " -2.70219016e+00 -8.84551883e-01  2.19811268e+01  1.34075089e+01\n",
      " -1.78444231e+00 -8.36027741e-01  2.64669895e+01 -2.57703829e+00\n",
      "  2.79261255e+00 -1.67084885e+00  1.53742254e+00  1.10371053e+00\n",
      " -8.51208031e-01  8.25716317e-01  2.11039104e+01 -1.78935051e+00\n",
      "  7.58440590e+00  6.58051682e+00  1.15898383e+00 -2.12331676e+00\n",
      "  5.86782312e+00 -1.19450426e+00  1.97068715e+00 -1.00260744e+01\n",
      "  1.70494995e+01  4.33175707e+00  7.59557295e+00  1.10188293e+01\n",
      " -2.07210374e+00  3.85036612e+00  1.80908120e+00 -3.50984597e+00\n",
      "  2.53995552e+01  1.13600779e+01 -1.14105740e+01 -5.98700571e+00\n",
      "  1.74422398e+01 -3.20814228e+00 -1.79919946e+00  4.75494719e+00\n",
      " -7.42327943e-02  1.22629814e+01  5.58906698e+00 -3.70913768e+00\n",
      " -4.08147001e+00  3.07074046e+00  2.14466743e+01  1.49902983e+01\n",
      " -1.44654961e+01  5.97506523e-01 -3.55214047e+00  1.10963421e+01\n",
      " -9.70775485e-01  3.94365311e+00  6.51069260e+00  7.47145939e+00\n",
      "  1.58564072e+01  5.07845259e+00  1.53222013e+00  2.16639137e+00\n",
      " -1.90146422e+00  1.55344324e+01  1.70583496e+01  5.96340322e+00\n",
      "  5.61371660e+00  9.44374752e+00 -2.27845335e+00  7.20465708e+00\n",
      " -5.38901615e+00  4.74536121e-01  1.13027773e+01 -8.41203022e+00\n",
      "  6.99713278e+00  6.98623085e+00  5.60327435e+00  8.91837025e+00\n",
      "  8.51369095e+00  1.79771194e+01  1.30777626e+01  9.72716713e+00\n",
      " -4.54714715e-01 -4.74829626e+00  7.27983236e+00 -2.71698952e+00\n",
      " -4.68005466e+00  2.19511414e+01  9.29077625e+00 -1.72452438e+00\n",
      " -3.43487835e+00  6.83114767e+00  6.06871510e+00 -1.43707776e+00\n",
      "  6.00586367e+00 -1.10430825e+00  2.28980217e+01  5.32603216e+00\n",
      "  1.59089050e+01 -1.02262440e+01 -4.83969927e+00 -8.69850218e-01\n",
      " -7.47552013e+00  2.71892905e+00  2.97792411e+00  7.63164091e+00\n",
      "  5.71196270e+00 -1.20533667e+01  9.35957372e-01  1.68480372e+00\n",
      "  3.46233130e+00  4.15483141e+00  1.00510101e+01  3.26905179e+00\n",
      "  2.87276840e+00 -2.02656555e+00  4.06715012e+00 -6.13066673e+00\n",
      " -1.61760788e+01 -4.80020189e+00  1.32817045e-01  1.77217655e+01\n",
      "  3.17139125e+00 -2.05713058e+00  5.56677294e+00  3.28437161e+00\n",
      " -9.95686531e-01 -6.61970079e-01 -3.07969356e+00 -5.08624315e+00\n",
      "  2.60232677e+01  3.48387885e+00  2.22006397e+01 -4.52101755e+00\n",
      "  3.48994708e+00  5.01414013e+00 -3.75939417e+00 -3.66711426e+00\n",
      "  1.13626122e+00  6.52678919e+00  1.53130550e+01  1.86309862e+00\n",
      "  4.05511498e-01  1.77461090e+01 -2.19736500e+01 -2.50153565e+00\n",
      " -9.84518623e+00  1.33762531e+01  3.24207902e+00 -3.45125341e+00\n",
      "  3.04222345e+00  3.15026474e+00  6.55255735e-01  2.49202514e+00\n",
      "  1.04581566e+01  9.40522861e+00  2.53361416e+00  3.11263351e+01\n",
      "  3.02614155e+01  1.60251224e+00  9.76617241e+00 -3.40470099e+00\n",
      "  3.70300026e+01  4.46507215e+00  1.62443180e+01  1.28203468e+01\n",
      " -3.74281430e+00 -1.60636592e+00  3.41908193e+00  3.61433105e+01\n",
      "  1.13810616e+01  2.45292072e+01  3.60403290e+01  7.12964392e+00\n",
      "  1.28977025e+00  7.25266838e+00 -1.08393583e+01  5.77078247e+00\n",
      "  3.70663357e+00  2.74122143e+01  9.34839058e+00  1.91633263e+01\n",
      " -1.16689213e-01 -6.71080971e+00  3.29157114e+00 -1.47642765e+01\n",
      "  3.60112915e+01  1.09005661e+01 -4.84680831e-02  1.91050470e+00\n",
      "  2.64641418e+01  2.12616863e+01  2.07486172e+01  5.48064423e+00\n",
      " -2.27216363e+00 -3.71502423e+00  1.77544727e+01  1.50520620e+01\n",
      "  2.93678627e+01  3.02017927e+00  6.11972523e+00  2.35956230e+01\n",
      "  3.85099077e+00 -1.28923025e+01  1.22316561e+01 -2.89992166e+00\n",
      "  3.70867252e+00 -3.79569364e+00  2.32661171e+01 -3.48926473e+00\n",
      "  3.09552422e+01  1.21080761e+01  3.86019301e+00  5.19207239e+00\n",
      "  5.19223869e-01  9.78658199e+00  3.49384995e+01  1.24747210e+01\n",
      "  4.75613499e+00  1.50806713e+01  3.51427536e+01  7.38013268e-01\n",
      "  5.69876385e+00 -9.28294945e+00  4.23231745e+00 -4.17287827e+00\n",
      "  1.36520844e+01  1.34513903e+01  2.23546734e+01 -2.97461748e+00\n",
      " -1.22285156e+01 -7.80690289e+00  1.04470360e+00 -8.71885681e+00\n",
      "  1.45873129e+00  2.21825390e+01  5.56269121e+00 -1.32985373e+01\n",
      "  2.95660210e+00  8.65492630e+00 -1.54550776e-01  3.99100852e+00\n",
      "  2.07222404e+01 -8.02855778e+00 -1.41674156e+01  3.82728233e+01\n",
      "  6.37906313e+00 -4.29118967e+00  2.93161564e+01  1.05844011e+01\n",
      "  2.10284939e+01  1.32416162e+01  4.67932034e+00 -3.64053583e+00\n",
      " -1.25005722e+01  1.63100517e+00 -6.06985569e+00 -1.18212662e+01\n",
      " -4.40144062e+00 -1.24586477e+01 -1.69634838e+01 -9.15062428e+00\n",
      " -7.53111172e+00 -7.44937134e+00 -7.23275566e+00 -6.84715128e+00\n",
      "  3.31014109e+00 -6.70090246e+00  3.08643079e+00  2.12732887e+00\n",
      "  1.51210725e+00 -2.31023083e+01 -9.59265351e-01 -1.31584835e+01\n",
      " -2.23398285e+01 -5.90359390e-01 -6.91964388e+00 -8.67245853e-01\n",
      "  6.62878895e+00  3.95536280e+00 -7.18343973e-01 -8.11918163e+00\n",
      " -8.42172241e+00  2.30838370e+00 -6.11907864e+00  9.42467809e-01\n",
      " -7.73268640e-02  2.48877421e-01 -4.77955008e+00 -2.67018967e+01\n",
      " -1.00137396e+01 -5.69852495e+00 -1.61084633e+01 -3.62956405e+00\n",
      " -6.68435431e+00 -1.82074089e+01 -6.96713161e+00  4.87315983e-01\n",
      " -5.56722975e+00  7.77248383e+00 -1.92988472e+01  9.72135639e+00\n",
      " -5.39310026e+00 -2.60908566e+01 -7.06000996e+00 -9.53978121e-01\n",
      " -6.12672234e+00 -7.63075352e+00 -5.28499603e+00 -2.29550791e+00\n",
      "  2.04897451e+00 -1.14387894e+01  2.16906738e+00 -1.63637199e+01\n",
      "  6.93742096e-01 -5.16342688e+00 -4.55624676e+00 -3.08768463e+00\n",
      " -2.21524162e+01 -9.01641369e+00 -4.35895872e+00 -8.44446087e+00\n",
      " -5.81660032e+00 -4.54379320e-01 -8.45298529e-01 -1.67155209e+01\n",
      " -2.69882851e+01 -2.99340558e+00 -1.74409598e-01 -1.46879113e+00\n",
      " -1.75951900e+01 -5.92881262e-01 -4.37674093e+00 -2.01583815e+00\n",
      " -2.02703863e-01 -2.67397614e+01 -1.89784241e+01  1.96835411e+00\n",
      " -1.05768108e+01  2.96039057e+00 -6.05648804e+00 -2.53595757e+00\n",
      " -5.82916641e+00 -1.15002575e+01 -4.82882261e+00 -4.93362999e+00\n",
      " -2.44651489e+01  1.48597698e+01  5.38874006e+00 -2.74845657e+01\n",
      " -1.46526546e+01 -1.62303944e+01 -1.80347576e+01 -6.95445633e+00\n",
      " -2.58163118e+00 -4.71716881e+00  8.91652393e+00 -4.80599070e+00\n",
      " -7.90460587e+00 -4.40294266e+00  7.59081542e-01  3.35622263e+00\n",
      " -1.38895130e+00 -1.76539457e+00 -1.53902798e+01  1.48746967e+00\n",
      " -5.43251455e-01  4.57684040e+00 -1.79204617e+01 -9.33290100e+00\n",
      " -2.61287475e+00 -5.50804472e+00  3.15821385e+00 -9.81992149e+00\n",
      " -1.25656519e+01 -1.60861456e+00 -2.95978427e-01 -4.52889018e-02\n",
      "  2.48105690e-01 -4.38745737e+00  8.35502982e-01 -1.06073010e+00\n",
      " -5.30886364e+00 -7.48968601e+00 -9.52823734e+00 -1.06298323e+01\n",
      " -6.34271669e+00 -4.58480072e+00  6.47678852e-01 -7.06653976e+00\n",
      "  9.68409255e-02 -1.50935316e+00 -2.22647514e+01  1.27694929e+00\n",
      "  3.19079065e+00 -1.73518887e+01 -7.26334810e-01 -1.57217550e+00\n",
      "  2.27901983e+00 -1.98265517e+00 -3.29551649e+00 -5.24910402e+00\n",
      " -3.33581781e+00  3.47101712e+00  2.32353067e+00 -2.29004745e+01\n",
      " -4.52982455e-01 -5.02255011e+00 -4.33647060e+00  2.27793050e+00\n",
      " -3.33535171e+00 -4.31196976e+00  2.53032327e+00 -3.26605129e+00\n",
      " -1.52784176e+01 -2.16648531e+00 -6.33754730e+00  2.78775454e-01\n",
      " -4.04123688e+00 -1.18155031e+01 -5.57193708e+00 -6.61910200e+00\n",
      " -2.61837482e+00 -4.36869383e+00 -1.23090477e+01 -2.31269569e+01\n",
      " -1.38328562e+01 -2.21306458e+01  4.48970413e+00 -1.06565261e+00\n",
      "  1.15585384e+01  4.28401947e+00  4.17055321e+00 -1.14671850e+01\n",
      " -7.15057182e+00  3.21839142e+00 -3.84406114e+00  5.39984751e+00\n",
      " -2.13382378e+01  9.12955940e-01 -4.77691793e+00 -1.64851303e+01\n",
      " -4.94377804e+00  3.10761142e+00 -1.68706179e-01 -2.42976284e+00\n",
      " -7.86918736e+00  6.79638910e+00 -1.13130817e+01 -4.29007292e+00\n",
      " -1.39982738e+01 -6.45534611e+00 -3.28224397e+00 -2.51809483e+01\n",
      " -1.59301825e+01  3.66712880e+00  8.70962918e-01 -4.24858904e+00\n",
      "  1.07396002e+01 -5.00149345e+00 -1.64437065e+01 -5.22924662e+00\n",
      "  2.08656001e+00 -8.14427376e+00 -4.57196188e+00 -8.68687248e+00\n",
      " -9.54858780e+00 -3.36010361e+01  2.13456821e+00 -2.64042683e+01\n",
      " -1.33723879e+01  6.00602770e+00 -1.90292492e+01 -1.65638905e+01\n",
      "  2.08775496e+00 -1.04106522e+01  8.76121104e-01 -2.51815395e+01\n",
      " -2.95399837e+01  3.28275228e+00 -3.47422600e+01 -2.87124767e+01\n",
      " -1.31483707e+01 -9.04273987e+00 -4.65670204e+00 -2.74312344e+01\n",
      " -1.22618818e+00 -1.31567221e+01  5.34740162e+00  3.39435637e-01\n",
      " -2.16421914e+00 -6.34755433e-01 -4.35447311e+01 -2.97065592e+00\n",
      " -2.69189620e+00  6.11463785e+00 -2.10847740e+01 -2.42136669e+01\n",
      " -2.57121944e+01 -1.13770351e+01  9.35959935e-01 -1.06286592e+01\n",
      "  2.45761633e+00 -4.70315605e-01 -7.55269623e+00 -2.42017288e+01\n",
      "  4.33999151e-01 -7.87979650e+00 -1.28868282e-01 -1.84535275e+01\n",
      " -8.64311981e+00 -6.18796968e+00 -1.70763862e+00 -1.04328175e+01\n",
      " -1.73261642e+01 -3.20684509e+01 -4.81118536e+00 -4.45791483e+00\n",
      " -3.02912922e+01 -3.58669243e+01 -4.00111122e+01 -7.16303492e+00\n",
      " -7.88468170e+00 -2.83950748e+01 -6.97756386e+00 -1.97140064e+01\n",
      "  3.29394364e+00 -1.45453625e+01 -1.15001898e+01  1.09850616e+01\n",
      "  3.29995632e+00  1.77145839e+00 -4.60309076e+00 -5.87769842e+00\n",
      " -1.23643045e+01 -5.65719604e-01 -1.18610659e+01 -3.21725869e+00\n",
      "  4.12089634e+00  4.37702084e+00 -6.68088293e+00 -1.11036575e+00\n",
      " -8.73934650e+00 -1.41331434e+01 -1.79360180e+01 -5.84053183e+00\n",
      "  9.96598339e+00 -6.03958988e+00 -1.85769713e+00 -1.22228909e+01\n",
      " -1.26610909e+01  3.47310877e+00 -1.65695915e+01 -2.60348301e+01\n",
      "  4.66640043e+00 -3.35256505e+00 -4.92891809e-03 -1.99920349e+01\n",
      " -4.59756279e+00 -5.19330549e+00 -2.16402988e+01 -3.94113421e+00\n",
      "  1.09584055e+01  2.25523996e+00 -8.36646080e+00  8.35627651e+00\n",
      " -6.47188711e+00 -2.34956913e+01  2.38896474e-01 -2.79453125e+01\n",
      " -1.58121815e+01  5.07218409e+00 -1.54856024e+01 -5.38728666e+00\n",
      " -5.53753948e+00  9.12782764e+00 -1.78222694e+01 -3.12362785e+01\n",
      " -4.04997253e+01 -1.01993675e+01 -6.86828375e+00 -3.65674553e+01\n",
      " -2.97750683e+01 -3.29407191e+00 -2.02517529e+01  5.51622438e+00\n",
      "  9.43750858e+00 -3.49584389e+01 -2.87379313e+00 -2.91742268e+01\n",
      " -1.54231949e+01 -2.35007877e+01]' has dtype incompatible with int64, please explicitly cast to a compatible dtype first.\n",
      "  preds[val_index] = model.predict(dval_i)\n"
     ]
    },
    {
     "name": "stderr",
     "output_type": "stream",
     "text": [
      "\r",
      " 40%|███████████████████████████████████████████████████████████▏                                                                                        | 4/10 [02:03<03:08, 31.41s/it]"
     ]
    },
    {
     "name": "stderr",
     "output_type": "stream",
     "text": [
      "C:\\Users\\81809\\AppData\\Local\\Temp\\ipykernel_17852\\3386215446.py:18: FutureWarning: Setting an item of incompatible dtype is deprecated and will raise an error in a future version of pandas. Value '[-1.01760769e+01 -1.12056589e+00  2.09976864e+01  1.14886150e+01\n",
      "  2.23257351e+01  1.87579193e+01 -1.04850972e+00  6.04579067e+00\n",
      "  1.15784512e+01  6.06744957e+00  7.96021461e+00 -3.06366682e+00\n",
      " -3.27848077e+00  1.31133521e+00  2.44156265e+01  2.36639423e+01\n",
      " -2.44895458e+00  5.38003635e+00 -7.75439858e-01  3.81724596e+00\n",
      "  1.09555655e+01  1.13893247e+00  2.07225971e+01  2.16756840e+01\n",
      "  1.87998486e+00 -6.21210289e+00  9.51957032e-02  1.34287775e+00\n",
      "  6.29968023e+00 -5.02166700e+00  6.87412643e+00 -1.07362771e+00\n",
      "  1.98316517e+01 -2.18973541e+00 -7.13101721e+00  3.50580978e+00\n",
      "  1.75788097e+01 -5.30801201e+00  1.12525105e+00 -1.12335277e+00\n",
      "  2.81586742e+00  6.92880249e+00 -4.64982605e+00 -8.05799389e+00\n",
      " -1.59184051e+00  7.15919495e+00  5.85847902e+00  1.36152897e+01\n",
      "  8.09051514e+00  7.89364624e+00  6.51918221e+00 -5.63492918e+00\n",
      " -2.52367806e+00  4.99915743e+00 -1.09434328e+01  3.86675549e+00\n",
      "  7.86588049e+00  2.39984741e+01  2.12341290e+01  4.50540018e+00\n",
      "  3.84535503e+00  1.34628737e+00  2.96783900e+00 -2.12135172e+00\n",
      "  7.95231342e+00  6.07922602e+00 -8.21572006e-01  2.17490530e+00\n",
      "  3.56176829e+00  1.43657076e+00 -2.00764513e+00  3.41204667e+00\n",
      " -3.08147597e+00  4.38754702e+00  3.80639344e-01  2.74155121e+01\n",
      "  8.39768600e+00 -1.42924297e+00 -7.56423807e+00 -9.57468271e-01\n",
      "  1.08189011e+01  1.22945535e+00 -1.85116041e+00  3.44727659e+00\n",
      "  8.83358955e+00  2.32719302e+00  1.32141495e+01  2.30088449e+00\n",
      "  2.44020729e+01  1.02755995e+01 -1.08806391e+01 -6.49301100e+00\n",
      "  2.29795322e+01 -4.12877035e+00  8.91060829e+00  1.27025299e+01\n",
      "  4.40207338e+00  1.28194714e+01 -1.21522546e+00 -1.70139289e+00\n",
      " -1.06474137e+00  1.14844971e+01  2.17414494e+01 -9.51564217e+00\n",
      " -6.35626507e+00  1.23834629e+01 -7.05200672e-01  5.63065147e+00\n",
      "  2.40959549e+00  3.02072668e+00 -7.61871386e+00 -2.77841330e+00\n",
      " -1.44906446e-01  5.58431911e+00  2.28326607e+00  2.61698079e+00\n",
      " -1.12418222e+01  5.69291878e+00 -1.07487130e+00  7.96286166e-01\n",
      " -2.65322661e+00  7.24246073e+00  5.65586948e+00 -3.34062290e+00\n",
      "  4.09126759e+00  1.43854058e+00  6.98218536e+00  6.50171661e+00\n",
      "  1.51784601e+01  4.94004011e+00 -1.95420513e+01 -9.61720943e-01\n",
      "  2.52886391e+00 -2.40687266e-01  8.24255466e+00 -2.32637215e+00\n",
      " -3.82346451e-01  3.53095937e+00  2.95619335e+01  1.13667183e+01\n",
      " -2.61248183e+00  1.80955048e+01  2.40112553e+01 -3.28146076e+00\n",
      " -8.15594769e+00  1.49120293e+01 -7.12196767e-01  9.18683243e+00\n",
      "  1.38314629e+00  7.14279938e+00  5.83431292e+00 -3.35947108e+00\n",
      "  1.57324181e+01  4.36540556e+00  2.73626590e+00  1.91064656e+00\n",
      "  7.04693460e+00  2.09615078e+01  3.13323212e+00 -1.09988155e+01\n",
      "  3.40511894e+00 -8.32735252e+00 -5.89480162e-01  3.51875257e+00\n",
      " -2.37120461e+00  5.41814709e+00  1.09711456e+00  6.80314183e-01\n",
      "  4.98860598e+00  1.06847687e+01 -1.07636762e+00  6.48902988e+00\n",
      "  1.07315836e+01 -4.77508545e+00  4.31734896e+00  1.11887836e+00\n",
      " -3.51118684e-01  5.24126768e+00  5.54201794e+00  2.34249592e+00\n",
      " -2.21981740e+00  6.03714514e+00 -2.31665683e+00 -4.61111355e+00\n",
      " -5.10408688e+00  1.30410929e+01  3.38564229e+00  6.65812922e+00\n",
      " -1.99539602e+00 -2.99100876e+00  2.65398636e+01  3.96412849e+00\n",
      "  2.45254002e+01 -2.56599844e-01 -8.72331238e+00  1.46884470e+01\n",
      "  1.18332033e+01  4.28529644e+00  1.68593884e-01 -4.89402771e+00\n",
      "  8.70936203e+00  1.84083691e+01 -3.59411764e+00 -2.42738962e+00\n",
      "  5.39678764e+00  6.01129627e+00 -1.02895994e+01  3.81533837e+00\n",
      " -6.22834730e+00 -6.87076235e+00 -9.48449433e-01  3.36376333e+00\n",
      "  1.01878281e+01  1.37953386e+01 -8.33745670e+00  2.53288231e+01\n",
      "  9.25690746e+00  9.81488991e+00  4.90869141e+00  1.15509567e+01\n",
      " -4.37971163e+00  3.38475761e+01 -1.38159418e+00  1.79158745e+01\n",
      " -7.65585601e-01  2.59360104e+01  2.39287701e+01 -5.00688076e+00\n",
      " -6.50954771e+00  9.02290154e+00  1.34338760e+01  1.65913601e+01\n",
      " -7.84761000e+00 -5.23431587e+00 -4.24368238e+00  2.83506799e+00\n",
      "  1.33651078e+00  1.67221718e+01  3.61646500e+01  2.83847898e-01\n",
      "  1.53537118e+00  7.87169027e+00 -3.57613146e-01  2.10676422e+01\n",
      "  1.58497829e+01  2.08244667e+01  1.85624619e+01  1.49934025e+01\n",
      "  7.97128010e+00  5.50602861e-02  7.98669052e+00  2.29398117e+01\n",
      "  4.16860008e+00  4.60981274e+00  2.67156048e+01  6.15612507e+00\n",
      " -8.95255852e+00  2.48620033e+01  1.51381798e+01  2.26490345e+01\n",
      " -2.58393437e-01  1.70417082e+00  2.58002796e+01  9.51318169e+00\n",
      "  1.58335562e+01  2.26001835e+00 -1.08696527e+01  2.46111131e+00\n",
      "  6.20102584e-01  3.03599339e+01  1.08429537e+01  1.53274145e+01\n",
      " -7.26206493e+00  1.27538395e+01  3.64117699e+01  1.16845932e+01\n",
      "  6.40531969e+00  1.37165604e+01 -3.98203921e+00  3.50302887e+01\n",
      "  2.24688101e+00 -1.61967599e+00  4.29672012e+01  9.84051323e+00\n",
      "  5.22690392e+00 -6.61777544e+00  7.50236607e+00  3.81228485e+01\n",
      "  3.94163656e+00  4.85159206e+00 -2.33699054e-01  1.85483990e+01\n",
      "  1.33117771e+01  2.86646042e+01  1.50248127e+01 -3.43187904e+00\n",
      " -4.25462198e+00  1.14057970e+01  2.14152431e+01 -3.22811985e+00\n",
      "  6.68742418e+00  9.47883511e+00  4.17882776e+00  2.85748501e+01\n",
      "  1.66130199e+01  4.18788147e+00  1.30255919e+01  4.38813019e+00\n",
      "  1.29739180e+01  5.05262470e+00  5.84892750e+00 -5.52920914e+00\n",
      " -4.54419851e+00  9.14234638e+00  1.26709003e+01  7.29456186e+00\n",
      "  1.42734909e+01  2.93256807e+00 -1.48977757e-01  3.30569267e+00\n",
      " -1.37977195e+00 -3.83333015e+00  2.07617164e+00 -9.21635532e+00\n",
      " -7.65974712e+00 -3.95695662e+00 -1.90650768e+01 -1.07024431e+01\n",
      " -1.16173887e+00  3.27188087e+00 -6.78340244e+00 -6.82299519e+00\n",
      " -6.44240284e+00 -4.02468777e+00 -2.23261237e+00 -5.21398067e+00\n",
      " -1.98887367e+01 -4.38828182e+00 -2.84692550e+00 -6.58276129e+00\n",
      " -9.93146324e+00 -7.03709745e+00  4.24454123e-01 -5.01132679e+00\n",
      " -4.76730824e+00 -3.89722204e+00  9.13604832e+00 -6.82664585e+00\n",
      "  2.60469496e-01  5.50364542e+00 -2.60326791e+00 -1.46865997e+01\n",
      " -1.23952684e+01  7.46398186e-03 -1.87482059e-01  1.82797170e+00\n",
      " -1.82530260e+00 -4.35591745e+00  8.31328869e-01 -6.25894165e+00\n",
      " -9.02177143e+00  3.31576133e+00 -8.50855160e+00 -1.83703983e+00\n",
      " -1.30055285e+01  2.81107712e+00 -6.49556351e+00 -7.57941484e-01\n",
      " -7.95369244e+00 -6.97132587e+00  4.61687946e+00  4.31408548e+00\n",
      " -8.34141541e+00 -3.81705666e+00 -5.31350231e+00 -4.92430639e+00\n",
      " -2.46358356e+01 -1.45733185e+01  5.97341418e-01 -7.77087498e+00\n",
      " -2.49138498e+00 -7.19965839e+00 -1.05037298e+01 -6.62244558e+00\n",
      " -3.24905324e+00  1.65709388e+00 -7.21933782e-01 -1.84022369e+01\n",
      " -2.47065449e+01 -8.66434574e+00  1.50075078e+00 -3.46745551e-01\n",
      "  8.27074718e+00 -1.87209091e+01 -5.19524336e+00  3.68341655e-01\n",
      " -9.02043152e+00 -1.38935509e+01  3.89440227e+00 -2.00076485e+01\n",
      " -7.65172303e-01 -1.06126702e+00 -1.42799540e+01  1.92718184e+00\n",
      " -2.00965137e+01 -1.35910726e+00  9.05329132e+00 -8.58385563e+00\n",
      "  3.70685625e+00 -8.79525280e+00 -9.40944195e+00 -4.82691717e+00\n",
      " -5.91049051e+00 -5.52181864e+00  2.36694574e+00 -5.98000383e+00\n",
      " -2.76287556e+00 -2.46984730e+01  2.24323773e+00  1.61886826e+01\n",
      "  2.45910549e+00 -1.17477608e+01 -9.21129799e+00 -4.98096132e+00\n",
      " -1.19958907e-01  2.08328938e+00 -9.14468002e+00 -5.64748907e+00\n",
      " -4.73117590e+00 -8.53252709e-02  3.28860339e-03 -2.57561684e+00\n",
      "  2.46470642e+00 -2.01894188e+00 -7.79441071e+00  1.11649239e+00\n",
      "  4.76406956e+00 -4.69609833e+00  7.00930178e-01 -6.13156939e+00\n",
      " -1.51592422e+00 -8.81603527e+00  3.00914645e+00  2.12353115e+01\n",
      " -2.18041267e+01 -6.04610634e+00 -4.09683180e+00 -1.87483883e+00\n",
      " -2.09607944e+01 -3.35377812e+00  2.05665207e+00 -1.84247990e+01\n",
      "  4.56555653e+00  4.40878004e-01 -5.33859789e-01 -1.00408869e+01\n",
      "  5.20222235e+00 -5.62712717e+00 -6.38639164e+00  1.88328874e+00\n",
      "  1.55221713e+00 -4.19337273e+00 -8.17578793e+00  1.45912135e+00\n",
      "  7.07557869e+00 -1.25553989e+01 -1.87182927e+00 -1.58895531e+01\n",
      " -2.76598716e+00 -4.18295956e+00 -6.61573458e+00  9.76095581e+00\n",
      "  6.95427179e+00 -3.98040795e+00 -2.56879973e+00  8.39390564e+00\n",
      " -3.25835139e-01  3.83041024e+00  3.28701758e+00 -2.70494795e+00\n",
      " -2.19640198e+01 -1.28106937e+01 -3.59142756e+00  1.89395070e-01\n",
      "  1.23384457e+01 -2.40186024e+00 -6.73303246e-01 -7.94603920e+00\n",
      " -3.97095776e+00 -6.72671461e+00 -4.30050135e+00 -2.36236191e+00\n",
      " -6.27420187e+00  8.64702106e-01 -1.20012856e+01 -2.09326725e+01\n",
      " -7.65066719e+00 -5.53385258e+00 -1.13402729e+01 -1.96864624e+01\n",
      " -1.93446898e+00 -5.18553877e+00  3.15806293e+00  8.12201118e+00\n",
      " -2.64510384e+01 -3.41129994e+00 -1.99871707e+00 -1.43220749e+01\n",
      " -5.57115614e-01 -2.21116676e+01 -2.00910892e+01  1.05261648e+00\n",
      " -7.53629160e+00 -6.53590488e+00 -5.17349005e+00  4.40413773e-01\n",
      " -7.03290272e+00 -3.38129306e+00 -4.78091574e+00 -6.60749817e+00\n",
      "  7.14290917e-01  1.28736448e+01  2.22221146e+01 -5.85097313e+00\n",
      "  4.05603886e+00  3.96599698e+00 -4.40451765e+00 -4.32532883e+00\n",
      " -4.09872580e+00 -3.20153160e+01 -6.94443321e+00 -2.42791500e+01\n",
      " -2.91037693e+01 -4.57718515e+00 -3.66227379e+01  1.46190758e+01\n",
      " -1.19035606e+01 -1.46495256e+01  8.78029919e+00 -5.80469418e+00\n",
      " -1.19597483e+01 -2.94111710e+01 -2.60216675e+01 -2.28267822e+01\n",
      " -4.58542538e+00 -3.46343079e+01 -2.65516701e+01 -7.74641371e+00\n",
      " -2.73197341e+00 -2.15671082e+01 -2.81699409e+01 -1.47807941e+01\n",
      " -1.97599258e+01 -1.04921989e+01 -2.28492413e+01 -3.60032005e+01\n",
      "  7.36102104e-01 -3.80073476e+00 -6.44934988e+00 -3.63336897e+00\n",
      " -4.59968872e+01  5.20829391e+00 -1.65566692e+01 -1.03377647e+01\n",
      " -1.21019592e+01  1.68476534e+00  3.22914219e+00 -2.84190226e+00\n",
      " -1.09015455e+01 -1.11232462e+01  1.23018656e+01  2.34391785e+01\n",
      " -2.28276563e+00 -6.89946234e-01 -1.70288162e+01 -1.32192650e+01\n",
      " -2.84846897e+01 -2.77364922e+01  4.58359432e+00 -1.72656593e+01\n",
      "  7.64046431e+00  1.07916069e+01 -3.00712795e+01 -1.60014915e+01\n",
      " -3.15470657e+01 -3.39597282e+01 -1.19812727e+01 -5.16358280e+00\n",
      " -3.53894539e+01 -3.48787451e+00 -3.48583946e+01  1.37751551e+01\n",
      " -1.11550426e+01 -2.33336334e+01 -2.72076435e+01 -6.22791767e+00\n",
      " -8.85982692e-01 -8.22086811e+00 -1.42015610e+01 -1.12210262e+00\n",
      " -3.07339134e+01 -1.11844902e+01 -2.48334084e+01  4.18333149e+00\n",
      " -8.35962772e+00  3.24050474e+00 -2.97956181e+00 -3.17557602e+01\n",
      " -4.62781399e-01 -1.97787058e+00 -8.15704346e+00 -1.47748909e+01\n",
      "  3.93562961e+00 -6.54350376e+00 -9.61721516e+00 -1.14153039e+00\n",
      " -4.47704315e+00 -2.33609829e+01 -2.93071957e+01 -2.67193394e+01\n",
      " -1.67043400e+01 -4.02298307e+00 -2.71491032e+01 -2.11250000e+01\n",
      " -5.61822891e+00  1.28325596e+01 -6.90512276e+00 -1.08040943e+01\n",
      " -1.33605185e+01 -6.11197901e+00  1.11276603e+00  9.01923084e+00\n",
      " -3.94586334e+01  2.64559579e+00 -2.44747429e+01  3.39880753e+00\n",
      " -1.21440783e+01  2.45179862e-01 -1.12884655e+01 -1.67709982e+00\n",
      " -2.80671930e+00  1.86328526e+01 -8.60632801e+00 -2.06983585e+01\n",
      " -3.88630199e+00 -2.91360760e+00]' has dtype incompatible with int64, please explicitly cast to a compatible dtype first.\n",
      "  preds[val_index] = model.predict(dval_i)\n"
     ]
    },
    {
     "name": "stderr",
     "output_type": "stream",
     "text": [
      "\r",
      " 50%|██████████████████████████████████████████████████████████████████████████                                                                          | 5/10 [02:34<02:37, 31.54s/it]"
     ]
    },
    {
     "name": "stderr",
     "output_type": "stream",
     "text": [
      "C:\\Users\\81809\\AppData\\Local\\Temp\\ipykernel_17852\\3386215446.py:18: FutureWarning: Setting an item of incompatible dtype is deprecated and will raise an error in a future version of pandas. Value '[-7.63651654e-02  1.73408306e+00  1.51600475e+01  3.40036798e+00\n",
      " -5.35483742e+00 -3.65546256e-01  2.02136955e+01  8.77816296e+00\n",
      "  1.00979071e+01  5.41662741e+00  1.11928415e+00  5.66921949e+00\n",
      "  4.82414007e+00  2.32662659e+01  7.40229189e-01  2.09773159e+01\n",
      "  2.15223007e+01 -9.77668953e+00  2.93927121e+00  4.75041389e-01\n",
      " -3.44074070e-01 -3.93061948e+00  2.51638241e+01  2.77518787e+01\n",
      "  1.13988857e+01  3.68867850e+00 -2.63096237e+00  8.41661167e+00\n",
      "  5.03749371e+00 -4.56898332e-01 -1.92662251e+00  4.77105379e+00\n",
      "  2.67213583e+00  4.55151939e+00  1.49636698e+01  1.71655810e+00\n",
      " -2.27277383e-01  1.91002522e+01 -1.51732945e+00  4.44433975e+00\n",
      "  1.34328699e+00 -3.81426001e+00 -1.09489024e+00  8.56662655e+00\n",
      " -6.35162401e+00 -8.96983051e+00  1.73689156e+01  5.41874933e+00\n",
      "  2.26100407e+01  7.38172150e+00  1.51143575e+00  5.66176510e+00\n",
      " -2.94514942e+00 -2.72131586e+00  1.21445072e+00  1.26429739e+01\n",
      "  1.38425303e+01  5.96656847e+00  2.81289291e+00  2.84729028e+00\n",
      "  2.03114414e+00  5.28413868e+00  6.59725857e+00  5.82459164e+00\n",
      " -1.68562353e+00 -1.25735927e+00  1.68155823e+01  7.44022655e+00\n",
      "  1.20949574e+01  2.70117435e+01  4.06461573e+00  2.65010338e+01\n",
      " -9.72243404e+00  1.17471704e+01  1.03254528e+01  1.51891875e+00\n",
      "  3.15055943e+00  2.66266022e+01  8.15892792e+00  2.21062813e+01\n",
      " -9.96340573e-01  1.11298180e+01  8.62933254e+00 -8.76638174e-01\n",
      "  2.61080480e+00  1.16563854e+01  3.58395410e+00  1.10156660e+01\n",
      " -2.06992340e+00 -1.87147403e+00  2.50720177e+01 -3.20291376e+00\n",
      " -3.46176934e+00 -2.47545862e+00  2.69761696e+01 -3.42901409e-01\n",
      "  1.88852348e+01  4.37462211e-01  1.15581646e+01  2.25102782e+00\n",
      " -3.34422398e+00  3.92701006e+00  2.33357596e+00  1.59752636e+01\n",
      "  1.34675093e+01  2.07195759e+01 -4.96315575e+00  8.15571976e+00\n",
      " -1.98841774e+00  8.16164684e+00  1.08412924e+01  4.69666433e+00\n",
      " -1.41539869e+01 -3.36492491e+00 -3.11393452e+00  1.00248756e+01\n",
      "  2.56563306e-01  3.09941750e+01  1.46012220e+01  6.03303432e+00\n",
      "  9.46454144e+00  7.36029959e+00  1.76300201e+01  2.41014019e-01\n",
      "  1.23513250e+01  3.79380560e+00 -1.35927558e+00  8.67942524e+00\n",
      " -2.40002370e+00  3.36034775e+00  2.82444358e+00  3.07559061e+00\n",
      " -1.93960853e-02  6.98525953e+00 -1.18715801e+01 -7.44894683e-01\n",
      " -1.85525334e+00 -5.35905981e+00  4.76540279e+00  1.00317693e+00\n",
      " -1.59171188e+00  1.73017750e+01  1.29140396e+01 -6.57892418e+00\n",
      "  1.98520451e+01  1.78661709e+01  2.32861195e+01  4.23434830e+00\n",
      "  6.19112587e+00  4.77301979e+00 -1.84843361e+00  6.60073853e+00\n",
      "  3.60127401e+00  1.23605194e+01 -2.21686554e+00  2.13481808e+00\n",
      "  1.19457102e+00 -4.58909321e+00  3.45870256e+00  2.01262798e+01\n",
      "  5.79722357e+00  5.00959444e+00  2.25262690e+00  8.79381371e+00\n",
      "  3.62270743e-01 -4.51698482e-01  4.67788696e+00  5.95511913e+00\n",
      "  1.11144352e+01 -4.80374146e+00  2.15030479e+01  2.98891973e+00\n",
      "  1.26778860e+01  6.93160582e+00  7.41790485e+00 -2.31147361e+00\n",
      "  2.82377791e+00  9.81309605e+00  5.58586502e+00  2.50412369e+01\n",
      "  7.54587317e+00  1.01458921e+01  9.48649693e+00  3.75854325e+00\n",
      "  2.44931641e+01  6.41775179e+00  5.70707989e+00  6.42231894e+00\n",
      "  4.46600628e+00  8.08725548e+00  1.08704386e+01  9.11707401e+00\n",
      "  5.94403934e+00 -1.66064084e+00  1.71636047e+01 -1.49026108e+00\n",
      "  2.22220349e+00 -1.04069209e+00  4.89717913e+00  1.04059849e+01\n",
      "  3.34007530e+01 -2.49116945e+00  4.18230743e+01 -3.01290464e+00\n",
      "  1.51644630e+01 -1.59644616e+00  3.28046656e+00 -7.02312756e+00\n",
      "  8.26566315e+00  4.83132744e+00  1.42693501e+01  7.18626022e+00\n",
      " -7.46464252e+00 -2.50582075e+00  2.22910824e+01  2.13245258e+01\n",
      "  9.16304016e+00 -1.49650693e+00  3.40339928e+01  3.61398659e+01\n",
      "  6.55710649e+00  1.88583622e+01  7.91116285e+00  1.35459213e+01\n",
      "  1.67653751e+01 -5.23233700e+00  1.30005465e+01  8.40589333e+00\n",
      " -4.46167421e+00 -3.90029216e+00  1.42292762e+00 -6.58744097e+00\n",
      "  9.37205696e+00  3.24021745e+00  1.68687191e+01  3.50328522e+01\n",
      "  1.19870460e+00  3.11303978e+01 -5.63341618e-01 -3.67957950e-01\n",
      "  2.32310101e-01  6.47445965e+00  4.85794687e+00  4.39396650e-01\n",
      " -7.99035168e+00  6.72592759e-01  1.69580002e+01  4.36363077e+00\n",
      "  9.84791279e+00  1.32180939e+01  3.46980667e+01  3.73570728e+00\n",
      " -5.96158409e+00  1.33218861e+01  2.40653172e+01  1.26693096e+01\n",
      "  9.70430565e+00  6.47114325e+00  3.68956566e+00  3.24942207e+00\n",
      "  4.45034065e+01 -3.12505579e+00  2.39863472e+01 -3.29207635e+00\n",
      " -5.21381760e+00  1.59034643e+01  3.28601532e+01  5.44015980e+00\n",
      "  1.21913252e+01  1.08329945e+01 -2.51137519e+00  6.85956383e+00\n",
      "  1.57930012e+01  3.24871330e+01  1.75032985e+00  2.97217727e+00\n",
      "  5.88436651e+00 -2.99499321e+00  9.38563728e+00  4.84583473e+00\n",
      "  4.67600708e+01 -3.04899573e+00 -1.75630283e+00 -2.24002314e+00\n",
      "  3.08207474e+01 -5.16109467e+00  2.50920544e+01  2.07158623e+01\n",
      "  2.39173627e+00 -1.35045595e+01  1.11635380e+01  2.11082630e+01\n",
      "  8.37165546e+00  5.75109601e-01  6.62315083e+00  3.60378914e+01\n",
      " -3.90451097e+00  1.13363447e+01  5.42025518e+00  1.57056942e+01\n",
      "  3.37679458e+00  5.88846445e+00  4.48070812e+00 -9.85675907e+00\n",
      " -8.12893295e+00 -1.32091656e-01 -1.10070925e+01 -3.29478443e-01\n",
      "  9.24420834e+00  1.02646532e+01  2.96151638e+01  1.47936153e+01\n",
      "  2.29235039e+01  5.40856552e+00  1.29736197e+00  1.93034286e+01\n",
      "  6.83013725e+00  6.86900806e+00  2.15481453e+01  1.44203548e+01\n",
      "  2.14386368e+01 -9.20371592e-01 -5.49103308e+00 -2.79792023e+00\n",
      " -2.08933144e+01 -6.93888044e+00 -1.13654108e+01 -9.39432621e-01\n",
      " -5.43619776e+00  2.48054051e+00 -6.13377285e+00 -5.94576120e+00\n",
      "  7.02506542e+00  4.72102261e+00  3.56158042e+00 -2.07693148e+00\n",
      "  1.77034414e+00 -5.12469721e+00 -2.41578531e+00 -1.39053524e+00\n",
      " -2.04256401e+01 -3.36536002e+00 -5.48138380e+00 -1.43648231e+00\n",
      " -1.41804647e+00 -3.04485965e+00 -2.73819065e+00 -6.44258857e-01\n",
      " -9.09774208e+00 -1.93450871e+01 -2.74980259e+01 -3.04012203e+00\n",
      " -9.20114231e+00 -5.06618643e+00 -7.96764326e+00 -6.19452149e-02\n",
      "  4.40740407e-01 -4.41234875e+00 -1.02897253e+01 -1.86038888e+00\n",
      " -1.01417904e+01 -6.15631390e+00  8.81933331e-01 -5.03288031e+00\n",
      " -5.29056787e+00 -1.48883810e+01 -2.13787518e+01 -6.74775600e+00\n",
      " -1.61669350e+00 -1.55143821e+00 -6.62830496e+00  5.28034353e+00\n",
      "  2.07923269e+00 -7.49721766e+00 -5.43573424e-02 -2.25257492e+00\n",
      " -1.47224665e+01 -6.33089876e+00 -9.95574296e-01 -1.42180729e+01\n",
      " -6.97749567e+00  2.80588579e+00 -7.31352758e+00 -9.55766582e+00\n",
      " -4.83283806e+00  4.69990635e+00  1.20899940e+00 -6.38280201e+00\n",
      " -8.43293667e+00  9.02658176e+00 -1.64863930e+01 -1.15480947e+01\n",
      " -1.22723854e+00 -3.39992809e+00 -1.31547976e+00 -1.25549202e+01\n",
      " -1.91330776e+01  2.34232473e+00  6.47566175e+00 -7.55266380e+00\n",
      "  4.49697590e+00 -1.80152016e+01 -1.08702116e+01 -6.16684723e+00\n",
      " -4.50998116e+00 -5.19334888e+00 -2.22475839e+00 -1.17357264e+01\n",
      " -8.76647472e+00 -3.16979527e+00 -1.37615852e+01 -1.04374504e+01\n",
      " -2.88678360e+00 -9.55839348e+00 -9.40063059e-01 -2.53890371e+00\n",
      " -3.24280643e+00 -1.12608042e+01 -1.81056824e+01  2.54796386e+00\n",
      " -2.16430454e+01 -1.24951410e+01 -5.51859331e+00 -1.67987311e+00\n",
      " -4.90007114e+00 -1.93926120e+00 -1.28681850e+01  4.56513977e+00\n",
      "  5.61942816e+00  3.41565162e-02 -2.74714857e-01 -5.71704483e+00\n",
      " -2.85535574e+00 -6.90475798e+00  8.91996765e+00 -2.26236935e+01\n",
      " -2.24916101e+00 -6.63343382e+00 -7.77812064e-01  9.86232385e-02\n",
      " -8.13301182e+00 -1.24333830e+01  3.19650626e+00 -5.10942698e+00\n",
      " -4.05140114e+00 -3.64411259e+00  1.67307549e+01 -2.03080106e+00\n",
      "  2.10441494e+00  1.35343113e+01 -1.72534657e+01  3.80065680e+00\n",
      " -1.50352678e+01  2.07258797e+00 -8.34185886e+00 -4.30288887e+00\n",
      "  3.35762948e-01 -9.74455833e-01 -2.40133667e+00 -3.45630956e+00\n",
      " -1.95829525e+01 -1.08846807e+01 -8.59008217e+00 -2.20273647e+01\n",
      "  7.38621950e+00 -1.55866826e+00  4.83111095e+00  3.66016722e+00\n",
      " -2.24748077e+01 -2.61582208e+00 -6.61483002e+00  1.04314194e+01\n",
      " -7.51941741e-01 -1.81386948e+01  1.93196607e+00 -4.62039471e+00\n",
      " -1.77412376e+01 -1.10321259e+00 -7.13241637e-01 -4.22587490e+00\n",
      " -1.99848607e-01 -1.01148119e+01  2.41996145e+00  3.20134252e-01\n",
      "  1.83555007e-01  5.28584957e+00 -1.37465305e+01  4.47241497e+00\n",
      " -2.29599500e+00 -4.44250250e+00 -8.86666584e+00  2.88232398e+00\n",
      " -2.58981094e+01 -3.30527616e+00 -9.12045956e+00  5.06146622e+00\n",
      " -3.80068064e+00  6.64125776e+00 -6.30201725e-03  3.16091967e+00\n",
      " -4.59291124e+00 -4.80199957e+00  3.13723302e+00 -9.93039513e+00\n",
      " -5.10491610e+00  7.38709688e+00  1.77604818e+00  4.08081818e+00\n",
      "  2.21189722e-01 -1.66199093e+01 -3.45440507e+00 -7.42432070e+00\n",
      " -4.22127533e+00 -1.99297953e+00 -3.61388707e+00 -4.09486914e+00\n",
      " -1.34694743e+00  2.93737245e+00  2.33153572e+01 -1.95007019e+01\n",
      " -5.86042929e+00 -3.83740425e+00 -1.68589668e+01 -4.26483917e+00\n",
      "  1.00186653e+01 -3.03438020e+00  1.76558113e+00 -3.66774535e+00\n",
      " -9.27964783e+00 -8.50260258e+00 -8.15265560e+00 -4.01811028e+00\n",
      " -1.09291563e+01 -8.40176487e+00 -6.12536049e+00  4.27560329e+00\n",
      " -1.41061239e+01 -5.52145100e+00 -1.79732685e+01 -9.75264454e+00\n",
      " -2.55438614e+01  4.23192406e+00 -1.13055792e+01 -3.52488422e+00\n",
      " -1.28431535e+00 -8.91209030e+00 -2.89724083e+01 -3.40793457e+01\n",
      "  1.41813993e+01 -8.30062580e+00  2.95733184e-01 -1.97460854e+00\n",
      " -6.15355158e+00 -2.39314327e+01 -2.47522526e+01 -7.07987309e+00\n",
      " -9.76210499e+00  4.15149021e+00 -1.85232773e+01 -1.41457834e+01\n",
      " -6.54903316e+00 -5.45550871e+00 -2.27423077e+01 -1.08867102e+01\n",
      "  7.41891432e+00  5.23646688e+00  1.09595990e+00 -4.66341639e+00\n",
      " -2.64497242e+01 -9.63879108e+00 -1.58737764e+01  2.24746075e+01\n",
      " -1.81126938e+01  6.12875319e+00 -1.35331135e+01 -1.32845469e+01\n",
      " -3.46665001e+01 -7.37749481e+00 -2.82900691e+00 -1.94783854e+00\n",
      " -2.96819544e+00 -6.45767117e+00 -8.09415817e+00 -1.53114386e+01\n",
      " -1.54629498e+01 -3.11573277e+01  1.19310498e+00 -1.67131042e+01\n",
      " -3.41648140e+01 -6.52112484e+00 -2.83061371e+01 -1.68349628e+01\n",
      "  8.88668251e+00 -1.26963301e+01 -2.01007156e+01 -1.33388729e+01\n",
      " -4.70326567e+00 -1.28064966e+01 -1.03267841e+01 -3.31206017e+01\n",
      "  1.06801593e+00 -5.67122364e+00 -3.76770449e+00 -1.06512654e+00\n",
      " -2.89095764e+01 -2.54242477e+01 -2.60712948e+01 -6.43376637e+00\n",
      " -4.85844078e+01  7.48571992e-01 -3.85001221e+01 -2.43828487e+00\n",
      "  3.30976486e+00 -1.03122568e+01  9.42045689e+00  6.93022680e+00\n",
      " -6.71254730e+00 -3.34059601e+01  9.89125907e-01 -3.83843346e+01\n",
      "  3.00205207e+00 -3.64262080e+00 -9.93091965e+00 -1.61235485e+01\n",
      " -2.27026730e+01 -3.18414726e+01  1.28892298e+01 -1.36909354e+00\n",
      " -1.86135793e+00 -2.71615620e+01 -5.51727486e+00 -1.78740463e+01\n",
      " -2.92429352e+01 -2.44885516e+00  4.08115327e-01 -7.36570930e+00\n",
      " -6.78756857e+00 -9.25601101e+00  3.26777887e+00 -1.00949059e+01\n",
      " -3.76042900e+01 -6.64015293e+00 -1.06941099e+01 -4.67213631e+00\n",
      " -1.10484276e+01 -2.07114067e+01]' has dtype incompatible with int64, please explicitly cast to a compatible dtype first.\n",
      "  preds[val_index] = model.predict(dval_i)\n"
     ]
    },
    {
     "name": "stderr",
     "output_type": "stream",
     "text": [
      "\r",
      " 60%|████████████████████████████████████████████████████████████████████████████████████████▊                                                           | 6/10 [03:06<02:06, 31.63s/it]"
     ]
    },
    {
     "name": "stderr",
     "output_type": "stream",
     "text": [
      "C:\\Users\\81809\\AppData\\Local\\Temp\\ipykernel_17852\\3386215446.py:18: FutureWarning: Setting an item of incompatible dtype is deprecated and will raise an error in a future version of pandas. Value '[ 5.05987644e+00  1.24523993e+01 -6.15117168e+00  9.90948772e+00\n",
      "  4.37166643e+00  2.54228363e+01  6.97923613e+00  1.41535461e+00\n",
      "  6.29196310e+00  4.84981346e+00  3.15932155e+00  2.86458611e+00\n",
      "  1.63755798e+00  6.08628750e+00  1.82602048e-01  2.10414715e+01\n",
      "  2.17442532e+01 -9.54019356e+00  5.97248840e+00 -8.26236486e-01\n",
      "  6.15472174e+00  3.17915201e+00 -5.15582371e+00  5.80266047e+00\n",
      "  7.85167646e+00  1.65612049e+01 -1.43302298e+00  2.89194622e+01\n",
      "  8.73682404e+00 -3.08858848e+00  4.23992348e+00  9.71045876e+00\n",
      "  1.44240894e+01  9.72022915e+00  5.71034431e+00  1.78103018e+00\n",
      "  1.60907135e+01  1.07050610e+00  1.14687490e+00  1.69353914e+00\n",
      " -1.16208410e+00  6.93486691e-01  7.25892353e+00  1.23102367e+00\n",
      "  6.14227533e+00  1.82923412e+01  1.54142590e+01  1.29003954e+00\n",
      " -2.50715327e+00 -2.41022897e+00  5.77682304e+00 -1.12209165e+00\n",
      "  1.44155397e+01 -1.86094356e+00 -9.86138344e-01  9.86155128e+00\n",
      "  2.47067661e+01  2.40662823e+01  1.66306142e-02  6.04587555e+00\n",
      "  9.23788261e+00 -4.08404112e+00  7.84033060e+00  3.08637142e+00\n",
      "  1.62924409e+00 -2.57002664e+00  1.79422798e+01  5.27996683e+00\n",
      "  1.50550709e+01  1.81665821e+01 -6.56180000e+00  4.63716090e-01\n",
      "  6.24202585e+00  1.76708622e+01 -1.76375377e+00  1.73099861e+01\n",
      "  1.04596186e+01  1.08234110e+01  3.81280375e+00  2.60255635e-01\n",
      "  7.55348301e+00  7.77350843e-01  1.66526260e+01  1.28235664e+01\n",
      " -4.06800747e+00 -1.94952577e-01 -1.56969562e-01 -4.43338490e+00\n",
      "  4.17629957e+00  1.55792751e+01 -1.09888709e+00 -3.69736266e+00\n",
      "  2.31496391e+01  4.35150719e+00  1.26692553e+01 -1.03128071e+01\n",
      "  1.30254078e+01  3.85083175e+00  1.19969015e+01 -7.27659225e+00\n",
      "  5.24185085e+00  8.04955196e+00 -3.37091255e+00  5.59692919e-01\n",
      "  1.14284420e+01  3.15556788e+00 -4.66768646e+00  1.68888044e+00\n",
      " -4.39784288e+00  1.59404874e+00 -7.38374367e-02  6.01245260e+00\n",
      "  8.04233742e+00  2.43746395e+01 -3.00523329e+00 -7.53234625e+00\n",
      " -4.74195004e+00  5.51746845e+00 -1.34730756e+00  2.21359396e+00\n",
      "  8.10102749e+00  1.21186285e+01 -2.46602178e+00  4.45013523e+00\n",
      "  6.37223911e+00  2.13248968e+00  6.34371090e+00  1.75821438e+01\n",
      " -1.40496695e+00 -1.94290745e+00  5.37765837e+00  1.17515278e+00\n",
      "  1.33245075e+00  1.60614467e+00  3.45003247e+00  1.24697781e+01\n",
      "  2.79705787e+00  6.05820274e+00  1.04118073e+00 -9.20252609e+00\n",
      "  2.12625828e+01  4.95677739e-01  3.99393487e+00  8.34339142e+00\n",
      "  1.66775761e+01 -5.20011091e+00 -2.23187789e-01  1.27218323e+01\n",
      "  1.22878857e+01 -2.76524949e+00  1.37836123e+00  4.81720495e+00\n",
      "  1.86698341e+00 -4.24820423e+00  1.03224068e+01  1.24181118e+01\n",
      "  5.01130581e+00  1.41256309e+00 -2.70479155e+00 -3.68768501e+00\n",
      "  5.57254219e+00  4.76219225e+00  2.12933559e+01  3.19266748e+00\n",
      "  4.40282345e+00  6.47222042e-01  2.15469694e+00  1.66722736e+01\n",
      "  3.51755428e+00 -7.01736152e-01  5.09643126e+00  3.96978855e+00\n",
      "  7.87622690e+00  7.71140385e+00 -9.58865166e-01  3.52605081e+00\n",
      "  3.99331284e+00  2.28573837e+01  7.45580292e+00 -4.06185865e+00\n",
      "  7.07055950e+00  8.93754184e-01  5.21736431e+00  9.28414536e+00\n",
      "  2.30461197e+01  1.81216831e+01  4.00427055e+00  2.17447395e+01\n",
      "  1.66197834e+01  2.66388178e+00  4.04072237e+00 -2.13756919e+00\n",
      "  1.12441282e+01  1.66663189e+01  4.37004507e-01  3.72840805e+01\n",
      "  1.60577812e+01 -8.26055908e+00  6.64359617e+00 -4.27774239e+00\n",
      "  1.37439423e+01  1.15371256e+01  3.80062103e+01  8.43728542e+00\n",
      " -1.05218701e-01  2.42162952e+01  5.53396559e+00  8.84760284e+00\n",
      "  7.19679117e-01 -4.12562275e+00  9.18925190e+00  6.38629055e+00\n",
      " -1.17836008e+01  2.59118557e+00  2.58581619e+01  3.39772868e+00\n",
      " -4.36819017e-01 -5.38381338e-01  1.13485785e+01  5.95712125e-01\n",
      " -8.68941975e+00  1.18534079e+01  2.52478352e+01  5.44797564e+00\n",
      "  2.63890505e+00  2.25130157e+01  1.54709930e+01  1.01206474e+01\n",
      "  5.61374807e+00 -7.24604797e+00  4.40768204e+01  2.72261620e+00\n",
      "  8.74446964e+00  2.35910568e+01  1.30837650e+01  3.12892799e+01\n",
      " -2.84388375e+00  8.41752052e+00  5.92773485e+00  3.49052391e+01\n",
      "  3.70158539e+01  6.28678989e+00  5.56777763e+00  1.56798744e+01\n",
      "  1.32116044e+00  1.80505109e+00  3.02138119e+01 -1.91613734e+00\n",
      "  3.51048648e-01  8.37740707e+00  1.89873161e+01  1.11892414e+01\n",
      "  1.58160105e+01  1.50781708e+01  1.18410645e+01 -5.02425146e+00\n",
      "  1.28361464e+01  1.23870671e+00  3.41646457e+00  1.62014503e+01\n",
      "  1.06965837e+01 -4.48469543e+00  4.16601295e+01  3.54370308e+01\n",
      " -9.75500393e+00  7.86419153e+00  1.28175211e+00  1.24796190e+01\n",
      "  1.22816658e+01  3.11190948e+01  1.69543419e+01  4.53936081e+01\n",
      "  4.67992932e-01  3.11706219e+01  2.21768265e+01  6.79495811e+00\n",
      "  2.34032249e+01  2.28890181e+00 -9.57869148e+00  5.56416607e+00\n",
      " -5.48190212e+00  1.95001469e+01  8.31921673e+00  3.74994564e+00\n",
      "  2.68206501e+01  3.56647224e+01  2.79605001e-01  7.88654757e+00\n",
      "  2.00166912e+01  2.05813675e+01  1.99360943e+01  5.71955729e+00\n",
      "  5.52202177e+00  1.26397943e+00 -6.69806576e+00 -2.15759188e-01\n",
      "  2.53564453e+01  3.72598815e+00  3.01791286e+01  2.10330224e+00\n",
      " -2.85844588e+00  2.37140923e+01 -2.81877422e+00  2.16151371e+01\n",
      "  2.60735359e+01  4.53241825e+00  9.12000656e+00  1.06680794e+01\n",
      " -4.24273872e+00 -1.32669725e+01 -1.06536331e+01 -1.07166624e+01\n",
      " -4.28876066e+00 -1.06244164e+01 -6.35829067e+00  1.57895970e+00\n",
      " -6.55559540e+00 -7.11898804e+00 -5.58446121e+00  3.18262720e+00\n",
      "  3.28681326e+00 -1.24750719e+01 -2.13227806e+01 -2.08148441e+01\n",
      " -6.81561375e+00  6.89953613e+00 -4.97603369e+00 -7.69545555e-01\n",
      " -6.28484488e+00  4.15665436e+00  2.37423163e-02  2.89719915e+00\n",
      " -7.16253710e+00 -2.27340183e+01 -1.69277496e+01 -1.03135681e+01\n",
      " -4.95309639e+00 -6.52478504e+00 -1.33035350e+00  5.40898705e+00\n",
      "  6.94971895e+00 -6.46497548e-01  3.29841828e+00 -6.30954981e+00\n",
      " -5.13848734e+00 -9.90506744e+00 -1.04711418e+01  3.25902057e+00\n",
      "  4.98555660e+00  7.45717382e+00 -2.17533779e+01  1.08043909e+01\n",
      " -9.50864136e-01 -1.49214087e+01 -2.38561802e+01 -1.41513133e+00\n",
      " -3.93970108e+00 -7.41349697e+00  1.45675111e+00 -1.79967725e+00\n",
      " -2.58219624e+00 -3.69688177e+00  1.79424083e+00 -5.12049103e+00\n",
      " -8.29703987e-01 -2.74593887e+01  5.84300160e-01 -1.55300798e+01\n",
      " -2.32295876e+01 -1.78607311e+01 -6.32960260e-01  2.38841605e+00\n",
      " -1.19470081e+01 -5.69214630e+00 -3.71529698e+00 -4.21501780e+00\n",
      " -3.76634836e+00 -4.34404993e+00  2.65836096e+00 -6.38195944e+00\n",
      " -9.60185647e-01 -1.56585712e+01  7.64390051e-01 -5.92664528e+00\n",
      " -8.26382351e+00  4.19887161e+00 -2.00070500e+00  1.48582954e+01\n",
      " -4.73736763e+00  3.20322156e+00  8.32037389e-01 -9.78764725e+00\n",
      " -1.28532946e+00  1.07404871e+01  5.38210535e+00  3.54069024e-01\n",
      "  7.23166180e+00 -3.85123110e+00 -4.92811155e+00  2.22698569e+00\n",
      " -3.32919645e+00 -2.63898683e+00  3.16120434e+00 -2.46311970e+01\n",
      " -1.70781212e+01 -3.27900219e+00 -5.38986635e+00 -3.65181947e+00\n",
      " -8.38291264e+00  5.27712631e+00  6.09968805e+00  1.08821762e+00\n",
      "  3.19181943e+00  2.09706521e+00 -9.95658588e+00  9.75668669e-01\n",
      " -2.22667580e+01 -5.78994703e+00 -1.21836538e+01 -7.60001326e+00\n",
      " -2.20678854e+00  4.66246462e+00 -3.03885841e+01 -9.24339008e+00\n",
      "  1.16312475e+01 -1.79194565e+01  6.28323984e+00 -1.53425417e+01\n",
      "  5.13431406e+00 -2.43858814e+00  2.69099903e+00 -4.31192589e+00\n",
      " -6.63714409e+00 -1.52408934e+00 -5.78212738e+00 -1.36897764e+01\n",
      " -1.31684017e+01  1.16724694e+00 -1.26556072e+01  1.53756344e+00\n",
      " -2.26493049e+00 -1.97916870e+01 -4.71724367e+00 -8.80025387e+00\n",
      " -3.88041806e+00 -1.01941614e+01 -2.02432289e+01  2.76752639e+00\n",
      " -3.44642854e+00  1.21891546e+00 -4.32928371e+00 -5.85307932e+00\n",
      " -3.13913107e+00 -3.29080415e+00  1.21297014e+00  1.69897652e+01\n",
      "  4.45961863e-01 -3.83067131e+00 -2.06528625e+01 -1.07212648e+01\n",
      " -2.49159074e+00 -4.67203331e+00 -1.02288446e+01 -7.13918257e+00\n",
      " -7.54608154e+00 -3.37331128e+00 -2.22044334e+01  5.99728107e+00\n",
      "  5.00192833e+00 -2.02742910e+00  5.44410610e+00  7.70268589e-02\n",
      " -4.86632395e+00 -2.98948503e+00 -1.33947647e+00 -4.25478125e+00\n",
      "  2.23097658e+00 -1.31983984e+00  5.38176012e+00 -2.38138270e+00\n",
      "  1.12535942e+00  4.39552784e+00 -1.29855335e+00  1.79753304e+00\n",
      " -3.35589051e+00 -2.36487293e+01 -1.54862833e+01 -3.40741944e+00\n",
      " -2.28594761e+01 -5.30656457e-01 -1.22237225e+01 -5.48457336e+00\n",
      "  5.04436731e+00 -4.32711315e+00 -7.10810089e+00 -1.23435049e+01\n",
      " -8.31578827e+00 -7.21605122e-01 -1.56462345e+01 -1.31994522e+00\n",
      " -5.18275642e+00 -5.35645533e+00 -4.14312601e+00  7.80317783e+00\n",
      "  4.40352106e+00 -5.25648308e+00 -3.33187008e+00 -1.66326189e+00\n",
      " -2.84269333e+01 -4.22714462e+01  2.58613205e+00 -1.10595477e+00\n",
      " -5.65772152e+00  5.29175091e+00 -3.18549752e+00 -4.09388685e+00\n",
      " -3.51980515e+01 -4.45001554e+00 -1.45684996e+01  3.15697217e+00\n",
      "  1.18597994e+01 -1.02612677e+01 -1.42306509e+01 -6.11672544e+00\n",
      " -3.25622606e+00 -2.66002426e+01 -3.35153923e+01 -2.55774364e+01\n",
      " -3.81769409e+01 -1.46711636e+01 -1.77044525e+01 -3.28686714e+01\n",
      " -2.89989662e+01  8.43147278e+00 -1.90505180e+01 -8.40254688e+00\n",
      " -1.50929511e+00  3.53385258e+00 -3.48070240e+00  5.38203049e+00\n",
      " -2.01834273e+00 -2.98092098e+01 -1.19730978e+01  4.97081429e-01\n",
      "  5.34258032e+00 -1.57437468e+00  2.33720517e+00 -1.84350312e+00\n",
      " -2.98520069e+01 -1.10049832e+00 -5.70914268e+00 -3.78762436e+00\n",
      " -1.57732983e+01 -7.68900251e+00  3.41442442e+00  7.91232967e+00\n",
      " -5.80723238e+00 -2.32145138e+01 -1.23201151e+01 -1.57874126e+01\n",
      " -2.37793732e+00 -1.17292213e+01  2.66056252e+00 -3.48036599e+00\n",
      " -9.96611786e+00 -3.69867058e+01 -4.75354195e+00  1.35987723e+00\n",
      "  4.86515141e+00 -1.73010216e+01 -3.71854377e+00 -2.62757530e+01\n",
      " -2.47007790e+01 -2.77374306e+01 -6.43786240e+00 -1.11608353e+01\n",
      " -1.13424587e+00 -2.64980388e+00 -1.55367628e-02 -2.73695641e+01\n",
      " -1.13693237e+01  4.99498844e+00 -1.16893063e+01 -3.55896721e+01\n",
      " -4.24553752e-01 -1.21486645e+01 -1.67001534e+00 -2.70166073e+01\n",
      " -7.00128126e+00  1.24906860e-01 -3.01922202e+00 -5.57776690e+00\n",
      " -8.44235706e+00 -3.41261101e+01  1.95930326e+00 -2.87259998e+01\n",
      " -1.43254727e-01 -1.13390665e+01 -2.39059391e+01 -2.95450516e+01\n",
      " -1.81585636e+01 -4.28024817e+00 -1.76249492e+00 -1.37985382e+01\n",
      " -1.80039406e+01 -2.43149471e+01  7.92744219e-01 -4.52433395e+01\n",
      " -3.18376484e+01 -1.23689651e+01 -3.30805244e+01 -2.53908396e+00\n",
      " -2.11391239e+01  1.15383282e+01 -1.39370852e+01 -1.03201180e+01\n",
      "  4.71529198e+00 -1.83243809e+01  7.05599427e-01 -6.43340063e+00\n",
      " -1.98710561e-01  1.42850065e+00 -2.09196162e+00 -2.91448708e+01\n",
      " -4.59538317e+00 -9.90006351e+00 -1.20423670e+01 -3.81160116e+00\n",
      "  2.39152813e+01 -2.74546027e+00 -3.44076347e+01 -2.92649937e+01\n",
      " -3.65971446e+00  1.62988591e+00 -4.01191940e+01  7.96463013e-01\n",
      " -3.72499542e+01 -2.19500408e+01 -1.76164474e+01 -1.30816011e+01\n",
      " -1.35155048e+01 -1.76361294e+01 -1.05364799e+01 -1.83522491e+01\n",
      " -2.76418519e+00  1.91353667e+00]' has dtype incompatible with int64, please explicitly cast to a compatible dtype first.\n",
      "  preds[val_index] = model.predict(dval_i)\n"
     ]
    },
    {
     "name": "stderr",
     "output_type": "stream",
     "text": [
      "\r",
      " 70%|███████████████████████████████████████████████████████████████████████████████████████████████████████▌                                            | 7/10 [03:37<01:34, 31.37s/it]"
     ]
    },
    {
     "name": "stderr",
     "output_type": "stream",
     "text": [
      "C:\\Users\\81809\\AppData\\Local\\Temp\\ipykernel_17852\\3386215446.py:18: FutureWarning: Setting an item of incompatible dtype is deprecated and will raise an error in a future version of pandas. Value '[ 7.94919506e-02 -4.81000280e+00  3.52961135e+00  1.97091401e+00\n",
      "  1.81323166e+01 -1.98069781e-01 -6.42962992e-01  1.12492914e+01\n",
      " -3.62917972e+00  3.58172917e+00 -2.50537610e+00  5.98967218e+00\n",
      "  3.89503598e+00  1.73724020e+00  5.78704405e+00  7.25270367e+00\n",
      " -8.41122246e+00 -5.24171400e+00  3.91267300e+00  8.64193535e+00\n",
      " -1.03333250e-01 -5.25132418e-01  2.36781096e+00  2.90987129e+01\n",
      "  1.07664766e+01  1.37006390e+00 -4.92555141e+00  1.80799351e+01\n",
      " -1.03938067e+00  4.94362688e+00  1.20359457e+00 -3.18693590e+00\n",
      "  6.73062754e+00 -1.06849837e+00  1.00053902e+01  9.21687031e+00\n",
      "  6.83464098e+00 -9.43541145e+00  8.08212280e+00  1.58966851e+00\n",
      " -6.02935970e-01  5.06800079e+00  1.56646767e+01  1.06152439e+01\n",
      "  2.28772221e+01 -1.09699130e+00  3.53790522e-01  1.54172983e+01\n",
      "  5.35357237e+00  2.83588719e+00  8.44951534e+00  5.68325090e+00\n",
      " -4.02491093e+00 -2.36742568e+00  6.75105047e+00 -2.18382311e+00\n",
      "  2.36672139e+00  7.20361471e+00  5.23692179e+00  4.16501713e+00\n",
      "  1.23318949e+01  9.92087173e+00 -3.37777829e+00 -3.57710600e+00\n",
      "  4.12368202e+00  2.48605132e+00 -1.91259789e+00  1.20876718e+00\n",
      "  1.81113777e+01  7.94911432e+00  5.55971098e+00  1.80304356e+01\n",
      "  8.06693077e+00 -4.00556773e-01 -2.45926046e+00 -5.53172064e+00\n",
      "  8.47103596e+00  7.15921211e+00  1.03887463e+01  7.97686517e-01\n",
      "  3.73912907e+00  7.71274328e+00  7.39707613e+00  1.23454647e+01\n",
      "  4.70602608e+00  2.01848722e+00  4.83284712e+00  3.37939978e+00\n",
      "  2.15042782e+01  1.61377792e+01 -8.06521833e-01  8.71483135e+00\n",
      " -1.16162090e+01  4.16564131e+00  5.67592335e+00  2.48837754e-01\n",
      "  1.73592103e+00  1.06265440e+01 -1.91185904e+00  2.01306953e+01\n",
      "  1.46595761e-01 -1.35792696e+00 -5.86732686e-01  3.15784359e+00\n",
      "  1.34855938e+00  7.98235416e+00 -6.53569841e+00  1.25749197e+01\n",
      " -2.94794321e+00 -6.42847776e-01 -6.27696657e+00 -1.80652833e+00\n",
      "  6.63892460e+00 -2.88595247e+00 -1.84392536e+00  7.13170147e+00\n",
      " -5.40398026e+00  6.97399259e-01 -1.66185606e+00 -3.89962769e+00\n",
      "  7.26293087e+00  1.25210724e+01 -2.82439852e+00 -6.64584577e-01\n",
      "  3.49677920e+00 -5.20897913e+00  4.26664734e+00  6.08523798e+00\n",
      " -3.23784351e-01  1.63703365e+01  1.64652824e+01  4.20676470e+00\n",
      " -3.57099438e+00 -6.47228479e+00 -1.39206660e+00  1.91891849e+00\n",
      "  4.57153416e+00 -6.03472185e+00  3.08878541e+00  1.19417887e+01\n",
      " -1.52553833e+00 -2.81590581e+00  3.75544339e-01  3.72629166e-02\n",
      "  6.47941113e+00 -6.29379129e+00  9.31943226e+00  1.57510777e+01\n",
      "  1.55091925e+01  1.00668392e+01  1.73446512e+00  1.16240988e+01\n",
      "  1.25255060e+00  2.66449213e-01  9.59769440e+00  2.18968086e+01\n",
      " -4.15348887e-01 -8.27939987e+00  4.71065140e+00  5.97858620e+00\n",
      "  3.72306752e+00  7.30101541e-02  1.90583539e+00  1.04435205e+01\n",
      " -3.27179384e+00  1.29115200e+00 -1.66787739e+01  1.79622822e+01\n",
      " -4.33306932e+00  2.33179054e+01  1.24745131e+00  8.43419254e-01\n",
      "  1.01836710e+01  6.65266275e+00  1.19142818e+01  3.27325201e+00\n",
      "  5.13792086e+00  2.54077816e+00  2.99436831e+00  4.63578284e-01\n",
      "  4.22522068e+00 -1.43769372e+00  5.48615360e+00 -4.69542074e+00\n",
      "  2.24023666e+01  2.04142113e+01  1.17563951e+00  2.52229285e+00\n",
      " -6.24527121e+00  4.65773535e+00  5.66453218e+00 -3.63223600e+00\n",
      "  4.35221529e+00  6.82163954e+00  1.02333088e+01  4.05103683e+00\n",
      "  2.29935951e+01 -2.86493945e+00  1.01701527e+01  2.45828495e+01\n",
      " -5.53841496e+00 -4.11251694e-01 -3.54890513e+00 -1.74867368e+00\n",
      " -3.37111473e+00  2.59432793e+00  5.31628704e+00 -2.41790819e+00\n",
      "  1.65369816e+01 -3.99025989e+00 -1.48711038e+00  6.18321657e-01\n",
      "  1.89231949e+01  4.37757015e+00  3.71575713e+00  1.15162373e+01\n",
      "  2.41006303e+00 -1.81107867e+00  4.25038147e+00  2.04137535e+01\n",
      "  3.10117588e+01 -1.76491725e+00  2.69174461e+01  4.21118975e+00\n",
      "  2.81609464e+00  2.06915741e+01  4.48382521e+00 -3.59269604e-02\n",
      "  2.15977249e+01 -1.03118172e+01 -1.07994528e+01 -4.75129986e+00\n",
      "  5.95494509e+00 -3.73686695e+00  3.67043610e+01  1.61047478e+01\n",
      "  1.98234997e+01  4.58481693e+00  1.84889469e+01  5.69817114e+00\n",
      "  6.96800184e+00 -4.68405819e+00  3.09294224e+01  1.32139215e+01\n",
      "  2.92639732e+01  1.81424308e+00 -1.54536116e+00  2.87433853e+01\n",
      "  1.13807859e+01  2.37634201e+01  2.00350094e+01  1.60422611e+01\n",
      "  1.90204201e+01  4.44712114e+00  1.27443056e+01  5.64284623e-01\n",
      "  1.83998890e+01 -7.89909077e+00  8.21927357e+00 -3.37282825e+00\n",
      "  1.45771158e+00  1.06880188e+01 -5.74411440e+00  2.44932232e+01\n",
      "  2.71920395e+01  8.43572998e+00  1.56209345e+01  9.72899723e+00\n",
      " -4.03945714e-01  1.38302965e+01  4.69402504e+00  1.59653826e+01\n",
      "  4.65682566e-01  1.66754551e+01  1.34879522e+01 -7.79354513e-01\n",
      " -9.00221825e+00  6.52754593e+00  2.00478630e+01 -1.20338249e+01\n",
      "  7.81563234e+00  2.70292044e+00  2.90176983e+01  1.57833600e+00\n",
      " -8.96288776e+00  5.04389381e+00 -1.05107222e+01  5.09156370e+00\n",
      "  1.44407868e+00 -1.07702479e-01  3.03414860e+01  1.83313961e+01\n",
      "  2.64510956e+01  4.31617594e+00  4.91622810e+01  1.27748289e+01\n",
      "  3.73403397e+01  1.45279551e+01 -4.75030653e-02  4.89258814e+00\n",
      "  2.04143753e+01  6.49682665e+00  1.39012365e+01 -7.49744511e+00\n",
      " -8.65900707e+00  8.43378925e+00  1.38103223e+00  3.03210831e+01\n",
      " -8.13915253e-01 -1.27826124e-01 -2.67337322e+00  7.91049421e-01\n",
      " -4.39351529e-01  1.54504938e+01  4.90899086e+00  7.88535357e+00\n",
      "  2.96628456e+01 -1.04056387e+01  8.50543594e+00  1.28539543e+01\n",
      "  7.93412209e+00  2.20617580e+01 -9.39611912e+00  2.83093700e+01\n",
      " -1.56892519e+01  4.12638512e+01 -7.94799471e+00  3.10967522e+01\n",
      "  5.21980810e+00  1.95627251e+01  1.87253036e+01  1.43966985e+00\n",
      " -1.39076700e+01  2.38690281e+01  9.46836281e+00  1.12526340e+01\n",
      "  6.24270153e+00  1.87942390e+01  3.99458027e+00 -1.03111277e+01\n",
      "  4.56752896e-01  2.80767560e+00 -1.05996380e+01 -5.27690601e+00\n",
      " -8.38512242e-01 -7.83001137e+00 -6.29037714e+00 -4.31500149e+00\n",
      " -7.75737190e+00 -6.82760429e+00 -7.48215580e+00 -2.18222580e+01\n",
      "  1.07533827e+01 -6.33697224e+00 -2.32076192e+00 -5.04007673e+00\n",
      " -1.68363690e-01 -1.92860425e+00 -5.03053236e+00 -3.84501874e-01\n",
      "  1.00991264e-01 -5.25369596e+00 -9.58909512e+00 -2.38632317e+01\n",
      " -3.69270396e+00  1.98480916e+00 -5.22061682e+00 -2.64944572e+01\n",
      " -5.16232586e+00 -6.43142128e+00  3.47939515e+00 -1.49885404e+00\n",
      " -9.21303082e+00 -2.61606908e+00 -8.68251896e+00 -6.58176517e+00\n",
      "  5.98285437e+00  2.00619429e-01  2.55067319e-01 -3.04162645e+00\n",
      " -6.96712828e+00 -8.82966423e+00 -9.67599583e+00 -1.31175995e+01\n",
      " -3.88906407e+00  1.08013010e+00 -9.21085298e-01 -1.78417945e+00\n",
      " -5.26476097e+00 -8.67627716e+00 -1.16547108e+01  2.37943196e+00\n",
      " -1.08747072e+01 -4.97285414e+00 -5.88565350e+00 -3.20570827e+00\n",
      "  1.51706326e+00 -9.16003704e+00 -6.55313540e+00 -2.39580193e+01\n",
      " -8.22056484e+00 -8.08145142e+00  5.71308553e-01 -1.46029253e+01\n",
      " -2.53910332e+01 -4.74844903e-01 -2.38241935e+00  1.05835285e+01\n",
      " -1.82957859e+01 -1.15466194e+01 -1.01751971e+00 -1.84326210e+01\n",
      " -3.23149920e+00 -7.40424097e-01  4.10391808e+00 -1.12709007e+01\n",
      " -7.88941479e+00  1.10238476e+01 -1.67644634e+01 -1.64097157e+01\n",
      " -4.65061998e+00  4.01542759e+00 -5.90111303e+00  1.90003932e+00\n",
      " -1.01044607e+01 -5.26215124e+00 -1.46362858e+01  6.64475965e+00\n",
      "  8.23176670e+00 -4.29949808e+00  1.74052441e+00 -8.16258609e-01\n",
      " -2.95946574e+00 -1.33253660e+01  1.31631308e+01 -2.03034039e+01\n",
      " -5.15389633e+00 -5.88222742e-01 -2.16303825e+01 -1.75672493e+01\n",
      " -1.06051922e+01 -1.89860332e+00 -1.57722878e+00  1.33561790e+00\n",
      "  1.33949900e+01  6.89582396e+00 -1.48870611e+00 -6.98129797e+00\n",
      " -4.24044323e+00 -1.53791025e-01  1.00341568e+01  1.78497124e+01\n",
      "  5.62071228e+00 -9.75582123e+00 -5.77057409e+00 -3.97427988e+00\n",
      "  1.78397584e+00  2.25932646e+00 -2.05249023e+01  7.52869749e+00\n",
      " -4.24091846e-01 -1.00070441e+00  8.11471324e-03 -1.38498755e+01\n",
      " -1.04758251e+00  6.62023497e+00 -1.84926472e+01 -1.64395046e+01\n",
      " -2.24770737e+01 -1.04796600e+01 -1.10714712e+01  1.06340971e+01\n",
      " -2.23012810e+01 -3.05014682e+00 -8.29146206e-01  7.53494883e+00\n",
      " -5.19165945e+00  3.17549491e+00  1.31532967e+00  9.10430670e-01\n",
      " -2.92178965e+00 -8.45868778e+00 -2.48562121e+00 -1.77970238e+01\n",
      " -5.79500341e+00 -3.40076184e+00 -5.21319199e+00 -1.91330695e+00\n",
      "  3.49674320e+00 -5.88699722e+00  7.68610597e-01 -7.14984941e+00\n",
      " -2.59497643e+00 -1.27940249e+00 -2.06464100e+00 -3.57227540e+00\n",
      "  3.12201118e+00 -2.21522942e+01  1.70812511e+01  3.23137498e+00\n",
      "  1.12493286e+01 -4.14173841e+00  3.41907430e+00 -3.69173861e+00\n",
      " -2.67794824e+00 -1.06546192e+01  4.64148808e+00 -1.43060493e+00\n",
      " -2.57542591e+01 -7.19031858e+00 -5.57906389e-01 -2.68898934e-01\n",
      " -2.81901598e+00 -5.49848890e+00 -1.53521070e+01 -4.85650826e+00\n",
      " -6.56990671e+00 -1.03941736e+01 -8.81692314e+00 -2.59770703e+00\n",
      " -3.52559447e+00  7.34925985e+00 -5.93393707e+00  8.24691391e+00\n",
      " -5.24013281e+00 -5.12633705e+00 -3.17077427e+01 -1.96593647e+01\n",
      " -9.31119442e+00 -5.94133472e+00 -2.14159513e+00 -2.70478039e+01\n",
      " -1.18423634e+01 -2.64055443e+01 -1.31438103e+01 -1.75966525e+00\n",
      " -2.51231480e+00 -1.04724283e+01 -3.51062965e+01 -2.67324400e+00\n",
      " -1.37910976e+01 -7.53017759e+00  1.44326007e+00 -9.26126289e+00\n",
      " -5.63702011e+00 -4.56790400e+00 -1.30936241e+01 -1.23572788e+01\n",
      " -3.28245239e+01 -2.72836971e+01 -3.79554672e+01 -1.09117472e+00\n",
      "  2.90369916e+00 -1.82264194e+01 -2.63597965e+01 -2.87922497e+01\n",
      "  6.13194323e+00  8.67558861e+00  1.53301668e+00 -6.89899111e+00\n",
      " -3.94641876e+01 -1.04247582e+00 -2.98181152e+01 -3.30562477e+01\n",
      " -1.32583961e+01 -3.10056801e+01 -2.56180978e+00 -1.64759426e+01\n",
      " -8.19413567e+00 -4.31322670e+01  6.74669218e+00 -1.44142973e+00\n",
      " -2.07144794e+01 -2.13417206e+01 -1.21890008e+00 -5.65368271e+00\n",
      " -1.92544193e+01 -3.31472778e+01 -3.35690193e+01 -3.55490637e+00\n",
      "  3.15721369e+00  1.00414724e+01 -2.50888023e+01 -1.15622702e+01\n",
      " -1.39424810e+01 -3.17818308e+00 -2.14926205e+01 -1.23389750e+01\n",
      " -4.41269379e+01  4.84222603e+00 -2.65352488e+00  7.08988070e-01\n",
      " -1.94974918e+01  6.69041395e+00 -2.02645779e+00 -5.36528349e+00\n",
      " -6.94714308e+00  5.84077978e+00 -3.53396263e+01 -5.74601936e+00\n",
      "  9.42961121e+00 -1.05908880e+01  9.04953575e+00 -1.42731256e+01\n",
      "  3.29550624e+00 -5.15125465e+00 -1.20578794e+01 -1.53334560e+01\n",
      " -1.18311157e+01 -2.79051361e+01 -1.40542879e+01  3.69414401e+00\n",
      "  2.21274376e+00  3.16434908e+00  6.25437164e+00 -2.05699539e+01\n",
      " -7.66696072e+00 -8.42123795e+00  3.95077825e+00  7.25888443e+00\n",
      " -2.72289581e+01  7.43133307e-01 -2.34398899e+01 -3.09624062e+01\n",
      "  2.97101474e+00 -1.00699374e-02  9.72822380e+00 -8.05192757e+00\n",
      " -1.05961828e+01 -1.48396101e+01 -2.27795658e+01  1.21480103e+01\n",
      " -2.64021754e+00 -1.00773640e+01 -3.90377140e+00 -2.56383877e+01\n",
      " -3.69991417e+01 -3.64611626e+01 -1.75202122e+01  5.76718569e+00\n",
      " -1.46744480e+01 -1.56404696e+01  1.25457258e+01 -2.46307411e+01\n",
      " -1.93179703e+01 -2.09994292e+00]' has dtype incompatible with int64, please explicitly cast to a compatible dtype first.\n",
      "  preds[val_index] = model.predict(dval_i)\n"
     ]
    },
    {
     "name": "stderr",
     "output_type": "stream",
     "text": [
      "\r",
      " 80%|██████████████████████████████████████████████████████████████████████████████████████████████████████████████████████▍                             | 8/10 [04:05<01:00, 30.25s/it]"
     ]
    },
    {
     "name": "stderr",
     "output_type": "stream",
     "text": [
      "C:\\Users\\81809\\AppData\\Local\\Temp\\ipykernel_17852\\3386215446.py:18: FutureWarning: Setting an item of incompatible dtype is deprecated and will raise an error in a future version of pandas. Value '[ 7.45613575e+00 -6.34801912e+00  1.09283495e+01  7.95248747e+00\n",
      "  6.90490437e+00  6.58505249e+00  3.89990687e+00  2.39485765e+00\n",
      " -1.30179930e+00  1.94276798e+00 -3.63313365e+00  8.80661190e-01\n",
      " -4.05182987e-01  2.02273922e+01  1.93384469e+00  1.30524359e+01\n",
      "  4.77317142e+00  3.49812126e+00  6.83930111e+00  2.31219101e+00\n",
      "  5.76545668e+00  3.45380211e+00  9.70777988e+00 -2.35762382e+00\n",
      "  7.90725231e+00  4.61807585e+00  1.09685802e+01  6.40536213e+00\n",
      "  2.08367920e+00  2.58514977e+01  5.27215576e+00 -7.43305206e+00\n",
      "  4.34025669e+00  1.57172756e+01  8.96583462e+00 -6.54762506e+00\n",
      "  4.04027319e+00  2.54019070e+00 -5.21675408e-01 -7.41161537e+00\n",
      " -1.88803804e+00  1.09929848e+01  2.41543579e+00  6.97423220e+00\n",
      "  2.14979286e+01  1.08851299e+01  6.84590006e+00 -5.84647119e-01\n",
      " -3.30026197e+00  2.97609544e+00  4.46169996e+00  3.25724864e+00\n",
      "  2.53565401e-01  1.46341972e+01  4.83067751e+00  1.04067755e+01\n",
      "  2.24501991e+01  8.67016697e+00 -2.32869291e+00  8.31734753e+00\n",
      "  2.74913526e+00  2.87812328e+00  3.99866271e+00  1.25539827e+00\n",
      "  7.36995029e+00  9.77744579e+00  5.11832571e+00  4.37707710e+00\n",
      "  1.47021246e+01  2.55337029e+01 -3.63949871e+00  6.38378906e+00\n",
      "  1.23035228e+00  1.01627302e+01  2.29322577e+00  1.29321837e+00\n",
      "  2.28837700e+01  8.10985851e+00  1.11913214e+01  7.97657251e-01\n",
      "  1.72750568e+01 -1.52077210e+00  9.87971210e+00  8.65295410e+00\n",
      "  3.49692774e+00 -6.04930699e-01 -3.51528138e-01  6.33860970e+00\n",
      "  2.32132006e+00  7.09521914e+00  1.84089375e+01 -5.18314600e+00\n",
      "  5.38784146e-01  3.01583815e+00 -7.36688375e+00 -2.29749250e+00\n",
      " -3.62573481e+00 -6.57366514e+00 -1.28591716e+00  1.11239624e+00\n",
      "  3.43613696e+00  3.70951205e-01 -1.13775816e+01  1.60952699e+00\n",
      " -2.10919952e+00  1.11246252e+00  2.12966518e+01 -5.18761873e+00\n",
      "  1.46064882e+01  1.42309351e+01  6.69844055e+00 -2.05104256e+00\n",
      "  8.03299046e+00 -1.05415154e+01 -1.32601810e+00 -3.17026067e+00\n",
      "  4.89874649e+00 -8.68992805e+00  2.17441034e+00 -1.14675295e+00\n",
      "  8.83223534e+00  9.10950756e+00 -2.73058128e+00  1.27078800e+01\n",
      "  5.59253407e+00  6.53445053e+00  2.17555637e+01 -8.33656406e+00\n",
      "  1.60016804e+01  9.82962322e+00 -1.94224274e+00  4.35283518e+00\n",
      "  6.27015638e+00  3.87113959e-01 -1.11286116e+00 -8.61279786e-01\n",
      "  1.35872231e+01  1.25767460e+01 -6.91682148e+00  1.10085611e+01\n",
      "  2.64849448e+00  1.02090874e+01  2.06008701e+01  3.28870034e+00\n",
      "  1.01016462e+00  1.18416297e+00 -1.23655856e+00  2.19098544e+00\n",
      "  5.44684029e+00  6.29471111e+00  2.16106772e+00  1.20484190e+01\n",
      " -2.95163703e+00 -2.72309613e+00  1.83629930e+00 -1.11461973e+01\n",
      "  2.87495613e+01  1.59125319e+01 -3.05439448e+00  1.92065144e+01\n",
      "  1.28243036e+01  4.02165270e+00  1.12009344e+01  9.88699377e-01\n",
      "  6.39598668e-01 -5.00738263e-01 -3.06035781e+00  3.34777308e+00\n",
      " -9.67112958e-01  2.05038571e+00 -5.95341742e-01 -8.05521786e-01\n",
      "  1.83506095e+00 -8.02134216e-01  3.79916334e+00  2.00065041e+01\n",
      "  6.47947931e+00  1.38456898e+01 -5.87895203e+00  2.02056255e+01\n",
      " -1.78175962e+00  3.57904553e+00  4.53805017e+00  1.96517789e+00\n",
      "  8.62867260e+00 -6.73778439e+00  1.96825809e+01  2.09372449e+00\n",
      "  7.28643847e+00 -2.07560205e+00  8.93093586e+00  1.42248592e+01\n",
      "  2.01780319e+01 -4.32732916e+00  2.75834632e+00  3.77599448e-01\n",
      "  5.33073950e+00  5.26343822e+00  3.58568239e+00 -4.99353266e+00\n",
      "  7.48692989e+00  7.38417101e+00  9.13311958e+00  2.33735027e+01\n",
      "  5.09999657e+00  1.37037015e+00  2.78377795e+00  5.39574051e+00\n",
      "  6.56966925e+00 -1.73701692e+00  1.09594135e+01  5.60574722e+00\n",
      "  2.01276569e+01  8.95706463e+00  3.82845831e+00 -8.27710509e-01\n",
      "  3.84001999e+01 -1.11380043e+01  5.90252161e+00 -1.01646128e+01\n",
      " -5.56850052e+00  1.29172478e+01 -1.15749824e+00  4.71408701e+00\n",
      "  6.94542456e+00  8.98534954e-01  2.63290901e+01  6.72392368e+00\n",
      "  9.12819767e+00  2.59844475e+01  5.84252357e+00  1.98299484e+01\n",
      " -6.99629545e+00  2.96578350e+01  3.10288467e+01  3.60116541e-01\n",
      " -1.48297930e+01  9.97560740e-01  3.66381717e+00  6.70760107e+00\n",
      "  8.84880543e+00  1.73483257e+01  6.08529711e+00  1.78327694e+01\n",
      "  2.81872597e+01  9.98299885e+00  3.74682159e+01 -1.01320064e+00\n",
      "  1.06915865e+01  1.56483293e+00  1.51071291e+01  1.27218609e+01\n",
      "  2.62976189e+01 -3.88987398e+00  2.33775444e+01  1.20448198e+01\n",
      "  1.13045063e+01  3.27348213e+01  1.03096390e+01  2.69603825e+01\n",
      "  3.09043050e+00  5.82277870e+00  2.76152191e+01  1.98734021e+00\n",
      "  7.26811457e+00  7.75078154e+00  1.04293156e+01 -4.63597345e+00\n",
      "  1.16728792e+01  4.29252701e+01  9.86770535e+00 -1.01616402e+01\n",
      "  8.07781696e+00 -1.14518511e+00 -9.42110538e+00  4.15203142e+00\n",
      " -3.34071159e+00  1.00615540e+01  5.29477310e+00  7.22486591e+00\n",
      " -2.31730890e+00  3.79244576e+01  1.32232981e+01  3.17407322e+01\n",
      "  2.20196838e+01  2.48261523e+00  9.35632610e+00  1.59325590e+01\n",
      "  5.86794567e+00 -6.80520868e+00  2.09099064e+01  6.79127645e+00\n",
      "  6.80677474e-01  2.11851139e+01  8.95125389e+00  3.01793289e+01\n",
      "  7.89688587e+00  2.90841141e+01  2.76053166e+00 -1.10117912e+01\n",
      "  4.19242239e+00  2.18229151e+00  5.70549488e+00  7.21160793e+00\n",
      " -1.32370110e+01  1.45854435e+01  2.77352905e+01 -1.80091238e+00\n",
      "  3.98399124e+01  1.02343235e+01  2.49521866e+01  3.78725777e+01\n",
      " -5.65767384e+00  3.85583878e+01  4.40480375e+00  1.20201225e+01\n",
      "  6.29564428e+00  2.49314141e+00  1.04902515e+01  2.56945896e+01\n",
      "  1.18934193e+01 -5.28619170e-01 -2.12596703e+01 -5.75928402e+00\n",
      "  2.93959856e+00 -1.39726210e+01 -2.31375179e+01 -7.77489376e+00\n",
      " -3.11151171e+00 -8.17735100e+00 -5.09354830e+00 -2.69799471e+00\n",
      " -2.01764107e+01 -2.19165063e+00 -2.54169445e+01 -3.49353814e+00\n",
      " -6.88149977e+00 -1.57802224e+00 -7.32798815e+00 -2.90823364e+00\n",
      " -6.59637260e+00 -9.70824909e+00  7.40286350e+00 -3.02210283e+00\n",
      "  7.49363184e+00  4.30426264e+00 -7.68631172e+00 -4.19408560e+00\n",
      "  1.15976892e-01 -2.47794685e+01  6.23046994e-01  1.65894723e+00\n",
      " -2.85695667e+01  1.37858593e+00  1.34657412e+01 -8.40738869e+00\n",
      "  6.04339504e+00 -1.00141525e+01 -5.31394911e+00 -5.99076176e+00\n",
      " -5.64435530e+00  3.44159389e+00  1.94598174e+00 -1.83890641e+00\n",
      " -1.08066406e+01 -2.18151855e+01 -8.94068146e+00 -1.27555027e+01\n",
      "  6.09800053e+00 -2.51469350e+00  1.30259645e+00 -1.17253162e-01\n",
      " -1.68857517e+01 -5.63231421e+00 -2.38440685e+01 -2.21340203e+00\n",
      "  2.51921439e+00 -6.08579111e+00 -4.49162912e+00  2.34660935e+00\n",
      " -2.46758862e+01 -1.07222233e+01 -1.55939865e+01 -1.66418338e+00\n",
      " -4.08447802e-01  1.56273794e+00  1.90509546e+00 -1.40270436e+00\n",
      " -2.86943340e+00  4.93414015e-01 -3.29909897e+00 -4.85851145e+00\n",
      " -8.32344341e+00 -2.02297554e+01  6.12903929e+00  2.18383503e+00\n",
      " -1.29434609e+00 -4.65006828e+00 -3.20575833e+00 -7.33174658e+00\n",
      " -1.71766396e+01 -5.31897128e-01 -2.49052770e-03 -8.65535438e-01\n",
      "  2.05479407e+00 -7.27921104e+00 -2.49900036e+01 -1.67278156e+01\n",
      " -8.92017841e+00 -1.06878796e+01 -9.16733456e+00 -3.19282722e+00\n",
      " -5.49027634e+00 -3.08357787e+00 -5.95983648e+00 -1.83402901e+01\n",
      "  1.01198328e+00  3.76021862e+00  1.40510187e+01 -5.29063046e-01\n",
      "  4.14708328e+00  1.63498712e+00 -2.27493267e+01  1.03449535e+00\n",
      " -1.32435389e+01 -1.32642972e+00  7.87660313e+00  2.14255595e+00\n",
      " -5.67722607e+00  1.06987190e+00 -1.69531116e+01 -1.49885666e+00\n",
      " -7.01296759e+00  1.29283023e+00 -1.50172186e+01 -1.76745186e+01\n",
      " -5.12323236e+00  4.97279787e+00 -3.86878800e+00  8.41297054e+00\n",
      " -7.59272194e+00 -1.79500735e+00 -1.10946388e+01  5.22544050e+00\n",
      " -4.95255470e+00  5.29411077e+00 -2.68081074e+01 -5.25527716e+00\n",
      " -9.62050056e+00 -1.91137505e+01  3.33045673e+00 -7.98431444e+00\n",
      "  3.50137925e+00 -1.32260485e+01 -1.97534771e+01  3.76309454e-01\n",
      " -1.49292517e+00  3.28958333e-02 -9.34318733e+00 -5.06061077e+00\n",
      " -1.44490957e+01  2.68545604e+00 -2.42670798e+00 -1.53408170e+00\n",
      " -7.85266876e+00  3.05908632e+00 -1.65710199e+00 -1.11657591e+01\n",
      " -3.87274861e+00 -4.31143522e+00 -1.15323133e+01  8.60364628e+00\n",
      " -2.21428223e+01 -5.93941450e+00 -6.14337730e+00 -3.93258899e-01\n",
      "  6.32022810e+00 -3.37084532e+00 -4.77833939e+00 -5.74493694e+00\n",
      "  2.65121269e+00 -3.88521582e-01  3.89024258e+00  3.16573048e+00\n",
      "  2.29772639e+00 -3.36833954e+00  1.91017294e+00  2.96696454e-01\n",
      "  1.06296577e+01  6.81894243e-01 -1.46469564e+01  3.78923607e+00\n",
      " -3.01029992e+00 -2.38920689e+01  1.17994537e+01 -6.75441325e-01\n",
      " -3.86499345e-01 -3.81584024e+00  1.02829671e+00 -1.25983086e+01\n",
      " -1.89129448e+00  3.76109910e+00 -2.63536282e+01  4.25665569e+00\n",
      "  3.65551686e+00  1.04035454e+01 -1.71134901e+00 -6.67200899e+00\n",
      " -9.43181276e-01 -1.06876707e+01 -4.75794649e+00 -2.97933149e+00\n",
      " -1.56351700e+01 -7.60323858e+00  2.24531317e+00  5.94304132e+00\n",
      " -6.62595606e+00 -5.14013648e-01 -6.02350569e+00 -3.57322288e+00\n",
      " -1.49345531e+01  3.37994576e+00 -7.76603699e+00 -4.69141245e+00\n",
      " -2.39338017e+01 -1.20272083e+01 -1.59876096e+00  8.43902206e+00\n",
      "  7.31377888e+00 -5.66103315e+00 -1.93392391e+01 -2.03423953e+00\n",
      " -1.01501970e+01 -3.09500599e+01 -3.35906563e+01 -2.67773476e+01\n",
      " -4.82326221e+00 -2.04102440e+01 -2.08864479e+01 -5.54417372e-01\n",
      " -7.83465099e+00 -5.95929003e+00 -2.81789660e+00  8.30846214e+00\n",
      "  2.38672808e-01 -6.40947390e+00  6.84912622e-01 -4.57355213e+00\n",
      " -1.71751920e-02 -3.71725426e+01 -3.17857552e+01 -2.61190605e+01\n",
      " -4.72854185e+00 -2.27203960e+01 -6.25820827e+00 -4.84293318e+00\n",
      " -7.71365356e+00 -3.99814034e+00  1.75706887e+00 -1.82048759e+01\n",
      " -4.53254662e+01 -2.44428015e+00 -2.07392349e+01 -1.90117798e+01\n",
      " -1.13586884e+01 -1.18103619e+01 -3.15387573e+01  5.10253847e-01\n",
      " -3.08247452e+01 -6.30372047e+00 -2.29019566e+01 -2.87851009e+01\n",
      "  1.46452785e+00 -7.20505142e+00 -2.24645176e+01  5.46071148e+00\n",
      " -9.84190083e+00  4.46011782e+00 -2.97798443e+01 -1.56392689e+01\n",
      " -1.19022741e+01 -1.70262108e+01 -7.32448339e+00 -4.16854286e+00\n",
      "  4.03301907e+00 -5.50169754e+00  4.03476246e-02 -2.62770128e+00\n",
      " -1.22385919e+00 -2.13765221e+01 -9.35553169e+00  1.24989741e-01\n",
      " -1.98129005e+01 -1.32022703e+00 -1.25149784e+01  4.06714821e+00\n",
      " -3.48462601e+01 -7.29405999e-01  8.81539822e+00  5.47407389e+00\n",
      " -2.87307129e+01  1.72130346e+00  1.98148108e+00  9.07965004e-01\n",
      "  4.15283966e+00 -4.15931129e+00 -1.38292847e+01 -2.43850365e+01\n",
      " -2.98396564e+00 -1.15943851e+01  1.19835138e+01  2.63218737e+00\n",
      "  4.22804499e+00 -1.12698164e+01 -2.47138329e+01 -7.69863749e+00\n",
      " -3.72237778e+01 -3.02648163e+01  4.67054272e+00 -1.39697628e+01\n",
      " -2.40260029e+01 -3.58875060e+00 -7.04928160e+00  1.37753892e+00\n",
      "  1.16094522e+01  3.13942480e+00 -2.30661798e+00 -2.92298679e+01\n",
      " -1.58541317e+01 -8.11722374e+00 -3.60955667e+00  2.49772882e+00\n",
      "  8.65452099e+00  2.93184566e+00 -3.06736565e+00 -2.33899727e+01\n",
      "  6.78652096e+00 -1.77945442e+01 -1.19701338e+01 -3.19218946e+00\n",
      "  2.14910194e-01  1.38157902e+01 -3.01082382e+01 -8.85249615e+00\n",
      " -2.57213745e+01 -8.15783787e+00]' has dtype incompatible with int64, please explicitly cast to a compatible dtype first.\n",
      "  preds[val_index] = model.predict(dval_i)\n"
     ]
    },
    {
     "name": "stderr",
     "output_type": "stream",
     "text": [
      "\r",
      " 90%|█████████████████████████████████████████████████████████████████████████████████████████████████████████████████████████████████████▏              | 9/10 [04:38<00:31, 31.05s/it]"
     ]
    },
    {
     "name": "stderr",
     "output_type": "stream",
     "text": [
      "C:\\Users\\81809\\AppData\\Local\\Temp\\ipykernel_17852\\3386215446.py:18: FutureWarning: Setting an item of incompatible dtype is deprecated and will raise an error in a future version of pandas. Value '[ 3.62209868e+00 -5.22445726e+00  2.12288151e+01  1.08006954e+00\n",
      "  6.17414999e+00 -4.58987617e+00  3.65143251e+00  2.43675160e+00\n",
      " -7.41047001e+00 -5.87432720e-02 -3.20404363e+00  1.79613781e+01\n",
      "  2.52480297e+01 -1.18006134e+00  2.03861275e+01  1.96596551e+00\n",
      "  8.65518570e+00  1.23188734e+00  3.05348933e-01  7.65135348e-01\n",
      " -6.10946119e-02  2.68144989e+00  3.79468226e+00  3.84745026e+00\n",
      "  4.20098925e+00  8.65730381e+00 -1.38790858e+00  8.75005054e+00\n",
      "  2.85881972e+00  2.14341011e+01 -2.46363425e+00 -4.64002371e+00\n",
      "  4.70100021e+00  6.81283355e-01  2.06497788e+00 -1.18067956e+00\n",
      " -1.38797522e+00  8.07237911e+00  4.74680066e-01  1.83250296e+00\n",
      "  1.90291233e+01 -4.64899206e+00  2.48008251e+00 -8.82407093e+00\n",
      " -3.33596921e+00 -1.25402622e+01  1.86345959e+01  1.42681360e+01\n",
      "  6.81558657e+00  5.06049812e-01 -3.51766706e+00  5.80494452e+00\n",
      " -3.81347609e+00  4.56242275e+00  3.11236829e-01 -1.32501340e+00\n",
      "  1.34751475e+00 -2.76315975e+00  1.02106037e+01  2.46189384e+01\n",
      "  1.46285686e+01  5.16257334e+00  3.91922617e+00  1.56338768e+01\n",
      " -2.20774007e+00  3.34627628e+00 -3.59741497e+00 -1.22148061e+00\n",
      "  3.83572960e+00  4.86474037e+00  5.89573324e-01  1.83694668e+01\n",
      "  7.68229532e+00  5.29775286e+00 -1.44144440e+00  4.71052265e+00\n",
      " -8.95736992e-01  6.19021845e+00  2.45793247e+01  1.07339978e+00\n",
      " -2.91209507e+00 -2.33666396e+00  1.79457331e+00  4.75814915e+00\n",
      "  2.26625729e+00  2.43746376e+00  1.15263557e+01  2.53886299e+01\n",
      "  6.80448914e+00  1.21853008e+01 -1.11106939e+01  1.49317086e+00\n",
      "  2.23233089e+01  3.81657052e+00  4.61973000e+00  1.26500235e+01\n",
      " -1.24495459e+00  5.16246176e+00  5.59560919e+00  2.20309138e+00\n",
      "  1.52223072e+01  1.04498444e+01  1.47497501e+01  2.92852581e-01\n",
      "  1.23457680e+01 -1.18133507e+01 -6.82828808e+00  9.15244389e+00\n",
      "  7.55402088e+00  1.69610834e+00  4.22298479e+00 -2.94497681e+00\n",
      "  4.62959528e+00  7.44534314e-01  2.00517159e+01  3.66543221e+00\n",
      "  2.11056480e+01  5.82024288e+00  1.80179369e+00 -1.43976593e+01\n",
      "  4.62652063e+00 -2.18934917e+00 -3.55953145e+00 -6.76407337e+00\n",
      "  2.16964650e+00  2.45935860e+01  5.07756758e+00  5.95143366e+00\n",
      " -6.71640015e+00  1.33952408e+01  2.41814208e+00  5.13912201e-01\n",
      " -6.50422692e-01  3.80464840e+00  8.82857323e+00  1.03100538e+00\n",
      "  7.93531036e+00 -1.13187897e+00  1.45561008e+01 -5.15649259e-01\n",
      "  1.64361405e+00  7.11907893e-02  1.96379185e+00 -1.86918175e+00\n",
      " -6.10613108e+00 -1.75219178e+00 -3.56909603e-01  6.49242401e-01\n",
      "  2.21987705e+01  1.73484039e+01  3.53689885e+00  1.90738010e+00\n",
      " -9.96039581e+00  2.11491489e+01  5.95709515e+00  3.54303479e+00\n",
      " -6.76764154e+00  3.91622663e-01  4.00155067e+00  4.91551447e+00\n",
      " -9.51422215e+00  1.38293276e+01 -3.90209579e+00  7.33958483e+00\n",
      "  2.88246841e+01 -3.85134029e+00  4.25024033e+00  4.22882318e+00\n",
      "  8.60964000e-01 -3.39041138e+00  4.47810698e+00  5.59774733e+00\n",
      " -3.53087807e+00 -3.19351292e+00  4.94239187e+00  2.05128632e+01\n",
      " -4.64488363e+00  6.95937634e-01  1.98473244e+01  2.55977035e+00\n",
      " -3.66185999e+00  1.04874725e+01  4.01897669e+00  6.49682903e+00\n",
      "  6.54473066e+00 -5.09320974e-01  3.06172824e+00 -4.11429691e+00\n",
      "  8.80549431e+00 -5.67452812e+00 -1.16231906e+00  4.91687489e+00\n",
      "  1.95941198e+00  2.82823443e+00 -1.16093969e+00  1.05835762e+01\n",
      "  2.00155334e+01  2.69566369e+00  2.36400833e+01 -2.23732471e+00\n",
      "  9.53649998e-01 -1.57575166e+00  4.03292465e+00 -1.17011750e+00\n",
      "  3.77728033e+00  1.38943300e+01  5.02552795e+00  1.03596516e+01\n",
      "  2.16219082e+01  5.99926829e-01  3.69647098e+00 -8.05354655e-01\n",
      "  5.41305721e-01  1.70163841e+01  4.74500656e+00  5.35692883e+00\n",
      "  4.05296373e+00  3.08881688e+00 -1.49532247e+00  3.78799796e+00\n",
      "  4.16293526e+00  2.89653778e+00  2.10054569e+01  7.56760788e+00\n",
      "  1.18844688e+00  1.49515200e+01  4.48517132e+00  2.52851124e+01\n",
      " -1.26012695e+00  2.00211689e-01  8.06658936e+00  1.07757130e+01\n",
      " -1.20170641e+01  2.54045099e-01  1.16678648e+01  5.87143850e+00\n",
      "  3.23648643e+01  2.73213425e+01  6.70869160e+00  1.91707573e+01\n",
      "  2.59334354e+01  1.27274818e+01  7.19095612e+00 -1.42101133e+00\n",
      " -7.01968384e+00 -8.34492683e+00 -6.45771599e+00  2.53446083e+01\n",
      " -2.32175636e+00  4.01431894e+00  4.04132919e+01  7.85590601e+00\n",
      "  1.60835147e+00  1.91623936e+01  1.31156101e+01 -3.13598692e-01\n",
      " -2.33907676e+00 -1.52078285e+01  1.43658390e+01  1.70393848e+01\n",
      "  1.48899298e+01  6.15101242e+00  9.06956959e+00  3.68577080e+01\n",
      " -8.61148071e+00  2.56273746e+01 -2.55471096e+01  1.07496214e+01\n",
      "  9.37969685e+00  2.93778973e+01  1.67345772e+01  2.74031353e+01\n",
      "  1.08550024e+01  2.40250244e+01  5.11375427e+00  7.61517048e+00\n",
      "  1.26616850e+01  3.36306267e+01  3.31005898e+01  8.16553235e-01\n",
      "  9.06420326e+00  1.03742275e+01  1.11441001e-01  1.55770273e+01\n",
      "  1.68599796e+01  7.92589569e+00  3.62023582e+01  5.64568901e+00\n",
      " -3.60706472e+00  7.45188177e-01 -6.10117853e-01 -3.84335756e+00\n",
      "  9.34311867e+00  1.66641426e+01  5.75530863e+00 -1.12491207e+01\n",
      "  1.94054680e+01  9.07030392e+00  6.29048252e+00  2.32826767e+01\n",
      "  9.30451870e+00  3.17502403e+01  3.03831120e+01  7.63077959e-02\n",
      "  3.71728325e+01 -2.25607228e+00  1.16263103e+01  1.88053684e+01\n",
      "  2.59502792e+01  3.03598309e+01 -2.47044830e+01  3.87458878e+01\n",
      "  8.55922794e+00  3.92243385e+00  2.44658775e+01  1.21983194e+00\n",
      "  1.90371132e+01  1.71519051e+01  1.20420253e+00  2.59245753e+00\n",
      "  1.41766510e+01 -1.72839565e+01  1.56801100e+01  5.32517529e+00\n",
      " -1.56669989e+01 -4.87185955e+00 -3.90041280e+00 -2.04768620e+01\n",
      "  2.66425395e+00 -2.35658283e+01 -5.55689931e-01 -8.51392174e+00\n",
      " -6.09662485e+00 -7.44810724e+00 -5.44674873e+00 -4.88822794e+00\n",
      " -1.16468108e+00 -5.30066013e-01 -2.08563118e+01 -2.36351910e+01\n",
      " -3.70947123e+00 -7.43437767e-01 -5.14183950e+00 -5.64418316e+00\n",
      " -4.34200191e+00  1.02827873e+01 -6.07320166e+00 -2.65195656e+00\n",
      "  1.26123771e-01 -6.10759640e+00 -1.35608006e+01  2.63370013e+00\n",
      " -1.25264416e+01 -1.43968973e+01 -7.90249228e-01 -7.42533445e+00\n",
      " -1.67046452e+01  5.81291294e+00  9.40077901e-01 -2.63621950e+00\n",
      " -3.44131541e+00  3.61341023e+00 -9.28819275e+00 -1.10335217e+01\n",
      " -6.08943367e+00 -8.51422405e+00 -5.39880991e-01 -9.75504684e+00\n",
      "  7.02149725e+00 -2.16126766e+01  2.48124194e+00 -5.92860079e+00\n",
      " -1.62877483e+01 -2.37410793e+01 -9.79572868e+00 -7.34037971e+00\n",
      " -5.34693098e+00  1.70513797e+00  1.32075047e+00 -2.70902309e+01\n",
      "  8.58828962e-01 -2.64248276e+01  9.20568407e-01 -2.50459995e+01\n",
      " -3.03010368e+00 -6.24568510e+00 -1.03708668e+01 -8.06441116e+00\n",
      " -6.74845362e+00 -2.29346132e+00 -3.85113072e+00 -6.65577745e+00\n",
      " -5.59321070e+00 -3.41214371e+00 -8.20291710e+00 -7.17222023e+00\n",
      " -1.18426952e+01 -1.68229237e+01  2.88856792e+00 -6.29252815e+00\n",
      " -1.14082253e+00 -3.88054729e+00 -4.37983227e+00 -8.06694686e-01\n",
      "  5.74372232e-01 -2.11291294e+01 -1.28583038e+00 -1.10870190e+01\n",
      " -8.73246861e+00  1.08393073e+00 -5.20418644e+00 -1.11918726e+01\n",
      "  4.54582834e+00  3.10343266e+00 -5.87986422e+00 -2.62650228e+00\n",
      " -2.74733143e+01  2.96452427e+00 -2.06450253e+01  3.30927825e+00\n",
      " -2.85516338e+01 -1.05237913e+01 -1.63160610e+01 -4.11326361e+00\n",
      " -1.86767750e+01 -1.96196854e+00  2.11753750e+00 -5.56416035e+00\n",
      "  3.18927455e+00 -1.12104940e+00 -2.03896952e+00 -6.47943616e-01\n",
      " -1.49337900e+00 -2.03556108e+00  6.03347921e+00 -5.79424667e+00\n",
      " -9.62426281e+00 -7.96912527e+00  5.31033325e+00  2.02210665e+00\n",
      " -5.94768000e+00 -6.88585472e+00 -6.23552179e+00  1.97411385e+01\n",
      "  2.60590816e+00  5.78685338e-03 -1.31747971e+01 -5.04799414e+00\n",
      "  4.86302757e+00 -3.51615167e+00 -1.00302324e+01 -4.24850941e+00\n",
      "  4.59687185e+00 -2.36323776e+01 -8.31165600e+00 -1.27044392e+01\n",
      " -4.79401445e+00 -5.04268503e+00 -2.49357548e+01  5.28165221e-01\n",
      " -8.72292042e+00 -9.20295048e+00 -4.99223280e+00  2.76742637e-01\n",
      " -1.19705935e+01 -1.04314542e+00 -7.20500851e+00 -4.10520744e+00\n",
      "  1.21816421e+00  2.88179970e+00  6.44515562e+00 -4.86858845e+00\n",
      " -5.27411175e+00 -1.77132893e+01 -3.03519607e+00 -4.62212706e+00\n",
      " -2.51715899e+00  8.99641800e+00  3.16865373e+00  6.18953133e+00\n",
      "  3.71894717e+00 -2.76159978e+00  1.10490427e+01 -5.36791027e-01\n",
      " -6.29139662e-01 -4.27574968e+00 -1.14926815e+00 -3.97657156e+00\n",
      " -3.35148859e+00 -4.90898180e+00 -2.32842875e+00  1.02176511e+00\n",
      " -9.67092514e+00 -1.47585285e+00 -5.96335936e+00  3.25100064e+00\n",
      " -3.48208427e+00  1.20511973e+00 -2.27938633e+01 -2.56604266e+00\n",
      "  2.67011309e+00 -5.73026991e+00 -9.86077213e+00 -2.95005393e+00\n",
      " -3.07436156e+00  6.08402252e-01 -4.50131559e+00  5.99860132e-01\n",
      " -8.91971779e+00  1.85145187e+00  3.38410378e+00 -2.10579491e+01\n",
      " -1.00142775e+01 -2.81711102e+01  7.91853368e-01 -3.15722847e+00\n",
      " -3.00018811e+00 -2.40571651e+01 -8.78965282e+00 -7.71248484e+00\n",
      " -1.88754330e+01  6.53817654e+00  7.07510567e+00 -7.30896711e-01\n",
      " -3.45794946e-01  5.99664402e+00 -1.19672041e+01  2.74756026e+00\n",
      " -3.36984801e+00 -8.97229004e+00 -1.08558207e+01 -3.46996263e-02\n",
      " -2.29705658e+01 -2.00716171e+01 -1.79497032e+01 -6.55491543e+00\n",
      " -3.75819588e+00  5.74408960e+00 -1.23763819e+01 -1.82571869e+01\n",
      " -3.06761703e+01 -2.74779968e+01 -6.52197218e+00 -2.69064188e+00\n",
      "  3.61187553e+00 -8.20566750e+00 -2.08753414e+01  7.77507591e+00\n",
      " -2.72821751e+01  1.56545973e+00 -2.40297642e+01 -5.94218063e+00\n",
      " -3.69412918e+01 -1.17439117e+01  5.76557875e+00 -4.11450806e+01\n",
      "  1.56771147e+00 -1.19778514e-01 -4.75741577e+00 -2.29189262e+01\n",
      " -2.77718830e+00 -2.66153545e+01  7.50617743e+00 -2.76143703e+01\n",
      " -3.89470840e+00 -2.93138075e+00 -3.61498146e+01 -2.49471378e+01\n",
      " -4.85896397e+00  1.88804150e+00 -9.13846397e+00 -7.10287285e+00\n",
      " -2.02332439e+01  6.20248270e+00 -6.62279701e+00  3.60253263e+00\n",
      " -1.66281395e+01 -2.31920600e+00 -1.84092975e+00  2.74456882e+00\n",
      "  9.10149813e-01 -2.80997205e+00 -1.43663549e+01  6.42644092e-02\n",
      " -3.27965426e+00 -1.28906403e+01 -1.56893902e+01 -1.19242134e+01\n",
      "  6.41238165e+00 -7.15222836e+00 -2.57674427e+01  8.86728191e+00\n",
      " -8.16024876e+00 -1.12969418e+01  2.60438800e+00 -1.09615889e+01\n",
      " -1.38091431e+01 -3.69022980e+01 -1.09608917e+01 -2.31383610e+01\n",
      " -1.28830080e+01 -1.25372827e+00 -2.69778800e+00  2.53006816e+00\n",
      " -3.18128204e+01 -1.07850008e+01 -7.27599192e+00 -2.54013958e+01\n",
      " -5.18589020e+01  3.12527418e+00  1.75164080e+00 -2.15035057e+01\n",
      " -2.48974276e+00 -9.66656399e+00 -3.45424347e+01 -3.94415331e+00\n",
      "  1.80999146e+01  5.67736578e+00 -1.22821608e+01 -1.13184919e+01\n",
      " -3.01691895e+01 -2.70751343e+01  7.34983540e+00 -1.17863951e+01\n",
      "  1.36230290e+00  1.00462694e+01 -2.08630161e+01 -6.06300449e+00\n",
      "  5.30738115e-01 -9.19396782e+00 -2.67191353e+01 -2.95402260e+01\n",
      " -8.71749592e+00  5.86898470e+00  2.62616801e+00 -1.00269690e+01\n",
      "  1.03918409e+00 -9.92679882e+00 -2.27634964e+01 -1.64315376e+01\n",
      " -1.08537169e+01 -7.37263560e-01 -2.57891808e+01 -2.77827969e+01\n",
      " -2.14574337e+01 -1.03887260e+00]' has dtype incompatible with int64, please explicitly cast to a compatible dtype first.\n",
      "  preds[val_index] = model.predict(dval_i)\n"
     ]
    },
    {
     "name": "stderr",
     "output_type": "stream",
     "text": [
      "\r",
      "100%|███████████████████████████████████████████████████████████████████████████████████████████████████████████████████████████████████████████████████| 10/10 [05:12<00:00, 32.15s/it]"
     ]
    },
    {
     "name": "stderr",
     "output_type": "stream",
     "text": [
      "\r",
      "100%|███████████████████████████████████████████████████████████████████████████████████████████████████████████████████████████████████████████████████| 10/10 [05:12<00:00, 31.28s/it]"
     ]
    },
    {
     "name": "stdout",
     "output_type": "stream",
     "text": [
      "OOF predictions complete\n"
     ]
    },
    {
     "name": "stderr",
     "output_type": "stream",
     "text": [
      "\n"
     ]
    }
   ],
   "source": [
    "# OOF予測\n",
    "oof_preds = []\n",
    "for i in tqdm(range(repeat_cv), leave=True, dynamic_ncols=True):\n",
    "    # 初期はターゲットの値で初期化（後で上書き）\n",
    "    preds = y.copy()\n",
    "    # 各 repeater 毎に独自の KFold を用いる（random_state = i）\n",
    "    kfold = KFold(n_splits=folds_splits, shuffle=True, random_state=i)    \n",
    "    for train_index, val_index in kfold.split(X, y):\n",
    "        dtrain_i = xgb.DMatrix(X.iloc[train_index], label=y.iloc[train_index])\n",
    "        dval_i   = xgb.DMatrix(X.iloc[val_index], label=y.iloc[val_index])\n",
    "\n",
    "        model = xgb.train(\n",
    "            params=param,\n",
    "            dtrain=dtrain_i,\n",
    "            num_boost_round=iteration_counts[i],\n",
    "            verbose_eval=50\n",
    "        )\n",
    "        preds[val_index] = model.predict(dval_i)\n",
    "    # 予測値を -30 ～ 30 にクリップ\n",
    "    oof_preds.append(np.clip(preds, -30, 30))\n",
    "\n",
    "print(\"OOF predictions complete\")"
   ]
  },
  {
   "cell_type": "code",
   "execution_count": 24,
   "id": "3897f2e7",
   "metadata": {
    "execution": {
     "iopub.execute_input": "2025-03-13T16:08:59.325175Z",
     "iopub.status.busy": "2025-03-13T16:08:59.324307Z",
     "iopub.status.idle": "2025-03-13T16:08:59.443385Z",
     "shell.execute_reply": "2025-03-13T16:08:59.443385Z"
    },
    "papermill": {
     "duration": 0.148047,
     "end_time": "2025-03-13T16:08:59.443385",
     "exception": false,
     "start_time": "2025-03-13T16:08:59.295338",
     "status": "completed"
    },
    "tags": []
   },
   "outputs": [
    {
     "data": {
      "text/plain": [
       "<Axes: >"
      ]
     },
     "execution_count": 24,
     "metadata": {},
     "output_type": "execute_result"
    },
    {
     "data": {
      "image/png": "[encoded data removed]",
      "text/plain": [
       "<Figure size 640x480 with 1 Axes>"
      ]
     },
     "metadata": {},
     "output_type": "display_data"
    }
   ],
   "source": [
    "oof_preds[0].hist()"
   ]
  },
  {
   "cell_type": "code",
   "execution_count": 25,
   "id": "402d558f",
   "metadata": {
    "execution": {
     "iopub.execute_input": "2025-03-13T16:08:59.478099Z",
     "iopub.status.busy": "2025-03-13T16:08:59.478099Z",
     "iopub.status.idle": "2025-03-13T16:08:59.502641Z",
     "shell.execute_reply": "2025-03-13T16:08:59.502641Z"
    },
    "papermill": {
     "duration": 0.043741,
     "end_time": "2025-03-13T16:08:59.502641",
     "exception": false,
     "start_time": "2025-03-13T16:08:59.458900",
     "status": "completed"
    },
    "tags": []
   },
   "outputs": [],
   "source": [
    "### simple spline, seed(1, 16)~(4, 13)は強制的にfiltaring,  \n",
    "### seed値に対応して予測スコアも同じ大小関係なら1or0に変換の3モデル\n",
    "def cal_logloss(pred_vals, y, i):\n",
    "    y_binary = np.where(y > 0, 1, 0)\n",
    "    loss = log_loss(y_binary, pred_vals)\n",
    "    print(f\"logloss of cvsplit {i}: {loss:.4f}\")\n",
    "\n",
    "\n",
    "    results.append(f\"Normal Spline - logloss of cvsplit {i}: {loss:.4f}\")\n",
    "    return loss\n",
    "\n",
    "#simple spline\n",
    "def make_normal_spline(df, y, repeat_cv):\n",
    "    spline_model1 = []\n",
    "    logloss_normal = []\n",
    "    \n",
    "    for i in range(repeat_cv):\n",
    "        dat = list(zip(df[i], np.where(y>0, 1, 0)))\n",
    "        dat = sorted(dat, key=lambda x:x[0])\n",
    "        datdict = {}\n",
    "        for k in range(len(dat)):\n",
    "            datdict[dat[k][0]] = dat[k][1]\n",
    "        \n",
    "        spline_model1.append(UnivariateSpline(list(datdict.keys()), list(datdict.values())))\n",
    "        spline_fit = spline_model1[i](df[i])\n",
    "        \n",
    "        loss = cal_logloss(spline_fit, y, i)    \n",
    "        logloss_normal.append(loss)\n",
    "\n",
    "    plot_df = pd.DataFrame({\n",
    "        \"pred\": df[0],\n",
    "        \"label\": np.where(y>0,1,0),\n",
    "        \"spline\": spline_model1[0](df[0])\n",
    "    })\n",
    "    plot_df[\"pred_int\"] = plot_df[\"pred\"].astype(int)\n",
    "    plot_df = plot_df.groupby('pred_int')[['spline','label']].mean().reset_index()\n",
    "    \n",
    "    plt.figure(figsize=(8, 5))\n",
    "    plt.plot(plot_df.pred_int, plot_df.label, marker='o', linestyle='-', label=\"True Label\")\n",
    "    plt.plot(plot_df.pred_int, plot_df.spline, marker='x', linestyle='--', label=\"Spline Approximation\")\n",
    "    plt.xlabel(\"Predicted Value (Integer)\")\n",
    "    plt.ylabel(\"Mean Value\")\n",
    "    plt.title(\"Normal Spline Fit Comparison\")\n",
    "    plt.legend()\n",
    "    plt.grid(True)\n",
    "    plt.savefig(os.path.join(OUTPUT_PATH, f\"normal_spline_fit_{PREDICT_YEAR}.png\"))\n",
    "    plt.close()\n",
    "    \n",
    "    \n",
    "    # 例として平均loglossもresultsに記録\n",
    "    avg_logloss = np.mean(logloss_normal) \n",
    "    results.append(f\"Average Normal Spline logloss: {avg_logloss:.4f}\" if avg_logloss is not None else \"No logloss computed\")\n",
    "    \n",
    "    return spline_model1\n",
    "            \n",
    "            \n",
    "#seed(1, 16)~(4, 13)は強制的にseed通りの結果にフィルタリング\n",
    "def make_seed1to4_chenge(df, y, repeat_cv):\n",
    "    spline_model2 = []\n",
    "    spline_fits = []\n",
    "    for i in range(repeat_cv):\n",
    "        dat = list(zip(df[i], np.where(y>0, 1, 0)))\n",
    "        dat = sorted(dat, key=lambda x:x[0])\n",
    "        datdict = {}\n",
    "        for k in range(len(dat)):\n",
    "            datdict[dat[k][0]] = dat[k][1]\n",
    "        \n",
    "        spline_model2.append(UnivariateSpline(list(datdict.keys()), list(datdict.values())))\n",
    "        spline_fit = spline_model2[i](df[i]) \n",
    "        \n",
    "        #add\n",
    "        spline_fit[(X.T1_seed==1) & (X.T2_seed==16)] = 1.0\n",
    "        spline_fit[(X.T1_seed==2) & (X.T2_seed==15)] = 0.9\n",
    "        spline_fit[(X.T1_seed==3) & (X.T2_seed==14)] = 0.8\n",
    "        spline_fit[(X.T1_seed==4) & (X.T2_seed==13)] = 0.7\n",
    "        spline_fit[(X.T1_seed==16) & (X.T2_seed==1)] = 0.0\n",
    "        spline_fit[(X.T1_seed==15) & (X.T2_seed==2)] = 0.1\n",
    "        spline_fit[(X.T1_seed==14) & (X.T2_seed==3)] = 0.2\n",
    "        spline_fit[(X.T1_seed==13) & (X.T2_seed==4)] = 0.3\n",
    "\n",
    "    \n",
    "        cal_logloss(spline_fit, y, i)   \n",
    "                \n",
    "        spline_fits.append(spline_fit)\n",
    "        cal_logloss(spline_fit, y, i)   \n",
    "                \n",
    "    \n",
    "    plot_df = pd.DataFrame({\n",
    "        \"pred\": df[0],\n",
    "        \"label\": np.where(y > 0, 1, 0),\n",
    "        \"spline\": spline_fits[0]  # 変更後の値を利用\n",
    "    })\n",
    "    plot_df[\"pred_int\"] = plot_df[\"pred\"].astype(int)\n",
    "    plot_df = plot_df.groupby(\"pred_int\")[[\"spline\", \"label\"]].mean().reset_index()\n",
    "\n",
    "    plt.figure()\n",
    "    plt.plot(plot_df.pred_int, plot_df.label, label=\"label\")\n",
    "    plt.plot(plot_df.pred_int, plot_df.spline, label=\"spline\")\n",
    "    plt.legend()\n",
    "    plt.show()\n",
    "    \n",
    "    return spline_model2\n",
    "    \n",
    "    \n",
    "#完全に値変換するのではなくてseed値に対応して予測スコアも同じ大小関係なら1or0に変換\n",
    "def make_seed1to4_base_on_score(df, y, repeat_cv):\n",
    "    spline_model3 = []\n",
    "    spline_fits = []\n",
    "\n",
    "    for i in range(repeat_cv):\n",
    "        dat = list(zip(df[i], np.where(y>0, 1, 0)))\n",
    "        dat = sorted(dat, key=lambda x:x[0])\n",
    "        datdict = {}\n",
    "        for k in range(len(dat)):\n",
    "            datdict[dat[k][0]] = dat[k][1]\n",
    "        \n",
    "        spline_model3.append(UnivariateSpline(list(datdict.keys()), list(datdict.values())))\n",
    "        spline_fit = spline_model3[i](df[i]) \n",
    "        \n",
    "        #add\n",
    "        spline_fit[(X.T1_seed==1) & (X.T2_seed==16) & (X.T1_Score > X.T2_Score)] = 1.0\n",
    "        spline_fit[(X.T1_seed==2) & (X.T2_seed==15) & (X.T1_Score > X.T2_Score)] = 1.0\n",
    "        spline_fit[(X.T1_seed==3) & (X.T2_seed==14) & (X.T1_Score > X.T2_Score)] = 1.0\n",
    "        spline_fit[(X.T1_seed==4) & (X.T2_seed==13) & (X.T1_Score > X.T2_Score)] = 1.0\n",
    "        spline_fit[(X.T1_seed==16) & (X.T2_seed==1) & (X.T1_Score < X.T2_Score)] = 0.0\n",
    "        spline_fit[(X.T1_seed==15) & (X.T2_seed==2) & (X.T1_Score < X.T2_Score)] = 0.0\n",
    "        spline_fit[(X.T1_seed==14) & (X.T2_seed==3) & (X.T1_Score < X.T2_Score)] = 0.0\n",
    "        spline_fit[(X.T1_seed==13) & (X.T2_seed==4) & (X.T1_Score < X.T2_Score)] = 0.0\n",
    "\n",
    "        spline_fits.append(spline_fit)\n",
    "        cal_logloss(spline_fit, y, i)   \n",
    "    \n",
    "    \n",
    "    plot_df = pd.DataFrame({\n",
    "        \"pred\": df[0],\n",
    "        \"label\": np.where(y > 0, 1, 0),\n",
    "        \"spline\": spline_fits[0]  # 変更後の値を利用\n",
    "    })\n",
    "    plot_df[\"pred_int\"] = plot_df[\"pred\"].astype(int)\n",
    "    plot_df = plot_df.groupby(\"pred_int\")[[\"spline\", \"label\"]].mean().reset_index()\n",
    "\n",
    "    plt.figure()\n",
    "    plt.plot(plot_df.pred_int, plot_df.label, label=\"label\")\n",
    "    plt.plot(plot_df.pred_int, plot_df.spline, label=\"spline\")\n",
    "    plt.legend()\n",
    "    plt.show()\n",
    "    return spline_model3\n",
    "\n",
    "\n",
    "\n",
    "# Platt Scalingを用いた補正曲線生成の関数 (ロジスティック回帰)\n",
    "def make_platt_scaling(df, y, repeat_cv):\n",
    "    platt_models = []\n",
    "    logloss_platt = []\n",
    "    \n",
    "    for i in range(repeat_cv):\n",
    "        X_train = np.array(df[i]).reshape(-1, 1)\n",
    "        y_binary = np.where(y > 0, 1, 0)\n",
    "        \n",
    "        model = LogisticRegression(random_state=42, solver='lbfgs')\n",
    "        model.fit(X_train, y_binary)\n",
    "        platt_models.append(model)\n",
    "        \n",
    "\n",
    "        platt_fit = model.predict_proba(X_train)[:, 1]\n",
    "        loss = cal_logloss(platt_fit, y, i)\n",
    "        logloss_platt.append(loss)\n",
    "    \n",
    "    \n",
    "    ###\n",
    "    plot_df = pd.DataFrame({\n",
    "        \"pred\": df[0],\n",
    "        \"label\": np.where(y > 0, 1, 0),\n",
    "        \"platt\": platt_models[0].predict_proba(np.array(df[0]).reshape(-1, 1))[:, 1]\n",
    "    })\n",
    "    plot_df[\"pred_int\"] = plot_df[\"pred\"].astype(int)\n",
    "    plot_df = plot_df.groupby(\"pred_int\")[[\"platt\", \"label\"]].mean().reset_index()\n",
    "    \n",
    "    plt.figure(figsize=(8, 5))\n",
    "    plt.plot(plot_df.pred_int, plot_df.label, marker='o', linestyle='-', label=\"True Label\")\n",
    "    plt.plot(plot_df.pred_int, plot_df.platt, marker='x', linestyle='--', label=\"Platt Scaling\")\n",
    "    plt.xlabel(\"Predicted Value (Integer)\")\n",
    "    plt.ylabel(\"Mean Value\")\n",
    "    plt.title(\"Platt Scaling Calibration Curve\")\n",
    "    plt.legend()\n",
    "    plt.grid(True)\n",
    "    plt.savefig(os.path.join(OUTPUT_PATH, f\"platt_scaling_fit_{PREDICT_YEAR}.png\"))\n",
    "    plt.close()\n",
    "    \n",
    "    avg_logloss = np.mean(logloss_platt)\n",
    "    results.append(f\"Average Platt Scaling logloss: {avg_logloss:.4f}\" if avg_logloss is not None else \"No logloss computed\")\n",
    "    \n",
    "    return platt_models\n",
    "\n",
    "def make_isotonic_regression(df, y, repeat_cv):\n",
    "    \"\"\" Isotonic Regression を用いた補正曲線生成 \"\"\"\n",
    "    isotonic_models = []\n",
    "    logloss_isotonic = []\n",
    "    \n",
    "    for i in range(repeat_cv):\n",
    "        X_train = np.array(df[i]).reshape(-1, 1)\n",
    "        y_binary = np.where(y > 0, 1, 0)\n",
    "        \n",
    "        model = IsotonicRegression(out_of_bounds=\"clip\")\n",
    "        model.fit(X_train.ravel(), y_binary)\n",
    "        isotonic_models.append(model)\n",
    "        \n",
    "        isotonic_fit = model.predict(X_train.ravel())\n",
    "        loss = cal_logloss(isotonic_fit, y, i)\n",
    "        logloss_isotonic.append(loss)\n",
    "    \n",
    "    plot_df = pd.DataFrame({\n",
    "        \"pred\": df[0],\n",
    "        \"label\": np.where(y > 0, 1, 0),\n",
    "        \"isotonic\": isotonic_models[0].predict(np.array(df[0]).reshape(-1, 1))\n",
    "    })\n",
    "    plot_df[\"pred_int\"] = plot_df[\"pred\"].astype(int)\n",
    "    plot_df = plot_df.groupby(\"pred_int\")[[\"isotonic\", \"label\"]].mean().reset_index()\n",
    "    \n",
    "    plt.figure(figsize=(8, 5))\n",
    "    plt.plot(plot_df.pred_int, plot_df.label, marker='o', linestyle='-', label=\"True Label\")\n",
    "    plt.plot(plot_df.pred_int, plot_df.isotonic, marker='x', linestyle='--', label=\"Isotonic Regression\")\n",
    "    plt.xlabel(\"Predicted Value (Integer)\")\n",
    "    plt.ylabel(\"Mean Value\")\n",
    "    plt.title(\"Isotonic Regression Calibration Curve\")\n",
    "    plt.legend()\n",
    "    plt.grid(True)\n",
    "    plt.savefig(os.path.join(OUTPUT_PATH, f\"isotonic_regression_fit_{PREDICT_YEAR}.png\"))\n",
    "    plt.close()\n",
    "    \n",
    "    avg_logloss = np.mean(logloss_isotonic)\n",
    "    results.append(f\"Average Isotonic Regression logloss: {avg_logloss:.4f}\" if avg_logloss is not None else \"No logloss computed\")\n",
    "    \n",
    "    return isotonic_models\n",
    "\n"
   ]
  },
  {
   "cell_type": "code",
   "execution_count": 26,
   "id": "2df8b50c",
   "metadata": {
    "execution": {
     "iopub.execute_input": "2025-03-13T16:08:59.525344Z",
     "iopub.status.busy": "2025-03-13T16:08:59.525344Z",
     "iopub.status.idle": "2025-03-13T16:08:59.541064Z",
     "shell.execute_reply": "2025-03-13T16:08:59.541064Z"
    },
    "papermill": {
     "duration": 0.031551,
     "end_time": "2025-03-13T16:08:59.541064",
     "exception": false,
     "start_time": "2025-03-13T16:08:59.509513",
     "status": "completed"
    },
    "tags": []
   },
   "outputs": [],
   "source": [
    "# キャリブレーションカーブの描画関数\n",
    "def plot_calibration_curve(y_true, y_pred_proba, method, save_path):\n",
    "    \"\"\" キャリブレーションカーブをプロットし保存 \"\"\"\n",
    "    y_binary = np.where(y_true > 0, 1, 0) \n",
    "    prob_true, prob_pred = calibration_curve(y_binary, y_pred_proba, n_bins=10)\n",
    "    \n",
    "    plt.figure(figsize=(6,6))\n",
    "    plt.plot(prob_pred, prob_true, marker=\"o\", label=f\"{method} Calibration\")\n",
    "    plt.plot([0, 1], [0, 1], linestyle=\"--\", label=\"Perfect Calibration\")\n",
    "    plt.xlabel(\"Predicted Probability\")\n",
    "    plt.ylabel(\"Actual Probability\")\n",
    "    plt.legend()\n",
    "    plt.title(f\"{method} Calibration Curve\")\n",
    "    plt.grid()\n",
    "    plt.savefig(save_path)\n",
    "    plt.close()\n",
    "\n"
   ]
  },
  {
   "cell_type": "code",
   "execution_count": 27,
   "id": "1aea7eea",
   "metadata": {
    "execution": {
     "iopub.execute_input": "2025-03-13T16:08:59.574752Z",
     "iopub.status.busy": "2025-03-13T16:08:59.574752Z",
     "iopub.status.idle": "2025-03-13T16:08:59.759595Z",
     "shell.execute_reply": "2025-03-13T16:08:59.759595Z"
    },
    "papermill": {
     "duration": 0.202851,
     "end_time": "2025-03-13T16:08:59.759595",
     "exception": false,
     "start_time": "2025-03-13T16:08:59.556744",
     "status": "completed"
    },
    "tags": []
   },
   "outputs": [
    {
     "name": "stdout",
     "output_type": "stream",
     "text": [
      "logloss of cvsplit 0: 0.5110\n",
      "logloss of cvsplit 1: 0.5091\n",
      "logloss of cvsplit 2: 0.5079\n",
      "logloss of cvsplit 3: 0.5060\n",
      "logloss of cvsplit 4: 0.5088\n",
      "logloss of cvsplit 5: 0.5072\n",
      "logloss of cvsplit 6: 0.5084\n",
      "logloss of cvsplit 7: 0.5106\n",
      "logloss of cvsplit 8: 0.5098\n",
      "logloss of cvsplit 9: 0.5076\n"
     ]
    }
   ],
   "source": [
    "# キャリブレーション手法の選択\n",
    "spline = MODEL.spline\n",
    "if spline == \"spline_normal\":\n",
    "    spline_model = make_normal_spline(oof_preds, y, repeat_cv)\n",
    "    calibrated_preds = spline_model[0](oof_preds[0])\n",
    "    plot_calibration_curve(y, calibrated_preds, \"Spline Normal\", os.path.join(OUTPUT_PATH, f\"spline_normal_calibration_{PREDICT_YEAR}.png\"))\n",
    "    \n",
    "elif spline == \"logistic\":\n",
    "    spline_model = make_platt_scaling(oof_preds, y, repeat_cv)\n",
    "    calibrated_preds = spline_model[0].predict_proba(np.array(oof_preds[0]).reshape(-1, 1))[:, 1]\n",
    "    plot_calibration_curve(y, calibrated_preds, \"Platt Scaling\", os.path.join(OUTPUT_PATH, f\"platt_scaling_calibration_{PREDICT_YEAR}.png\"))\n",
    "    \n",
    "elif spline == \"isotonic\":\n",
    "    spline_model = make_isotonic_regression(oof_preds, y, repeat_cv)\n",
    "    calibrated_preds = spline_model[0].predict(np.array(oof_preds[0]).reshape(-1, 1))\n",
    "    plot_calibration_curve(y, calibrated_preds, \"Isotonic Regression\", os.path.join(OUTPUT_PATH, f\"isotonic_regression_calibration_{PREDICT_YEAR}.png\"))"
   ]
  },
  {
   "cell_type": "markdown",
   "id": "bdc9fd0f",
   "metadata": {
    "papermill": {
     "duration": 0.022711,
     "end_time": "2025-03-13T16:08:59.788165",
     "exception": false,
     "start_time": "2025-03-13T16:08:59.765454",
     "status": "completed"
    },
    "tags": []
   },
   "source": [
    "# submmit\n",
    "\n",
    "同じfeature engineeringする.\n",
    "\n",
    "個々の扱うも考える。2025は最終提出用の関数を用意する、その他2024以前は過去コンペでの提出形式に合わせる、でも年度によって提出形式が変わるからとりあえず2023でやる"
   ]
  },
  {
   "cell_type": "code",
   "execution_count": 28,
   "id": "9896c6d7",
   "metadata": {
    "execution": {
     "iopub.execute_input": "2025-03-13T16:08:59.809195Z",
     "iopub.status.busy": "2025-03-13T16:08:59.809195Z",
     "iopub.status.idle": "2025-03-13T16:08:59.828757Z",
     "shell.execute_reply": "2025-03-13T16:08:59.828757Z"
    },
    "papermill": {
     "duration": 0.032989,
     "end_time": "2025-03-13T16:08:59.828757",
     "exception": false,
     "start_time": "2025-03-13T16:08:59.795768",
     "status": "completed"
    },
    "tags": []
   },
   "outputs": [
    {
     "data": {
      "text/plain": [
       "'if PREDICT_YEAR==2022:\\n    sub = pd.read_csv(os.path.join(INPUT_PATH, \"SampleSubmission2022M.csv\"))\\n    sub[\\'Season\\'] = sub[\\'ID\\'].apply(lambda x: int(x.split(\\'_\\')[0]))\\n    sub[\"T1_TeamID\"] = sub[\\'ID\\'].apply(lambda x: int(x.split(\\'_\\')[1]))\\n    sub[\"T2_TeamID\"] = sub[\\'ID\\'].apply(lambda x: int(x.split(\\'_\\')[2]))\\n    sub_X, a = process_tourney(sub, mode = \"sub\")\\n    dtest = xgb.DMatrix(sub_X)\\nelif PREDICT_YEAR==2023:\\n    sub = pd.read_csv(os.path.join(INPUT_PATH, \"SampleSubmission2023.csv\"))\\n    sub[\\'Season\\'] = sub[\\'ID\\'].apply(lambda x: int(x.split(\\'_\\')[0]))\\n    sub[\"T1_TeamID\"] = sub[\\'ID\\'].apply(lambda x: int(x.split(\\'_\\')[1]))\\n    sub[\"T2_TeamID\"] = sub[\\'ID\\'].apply(lambda x: int(x.split(\\'_\\')[2]))\\n    sub_X, a = process_tourney(sub, mode = \"sub\")\\n    dtest = xgb.DMatrix(sub_X)\\nelif PREDICT_YEAR==2024:\\n    sub = pd.read_csv(os.path.join(INPUT_PATH, \"SampleSubmission2024.csv\"))\\n    sub[\\'Season\\'] = sub[\\'ID\\'].apply(lambda x: int(x.split(\\'_\\')[0]))\\n    sub[\"T1_TeamID\"] = sub[\\'ID\\'].apply(lambda x: int(x.split(\\'_\\')[1]))\\n    sub[\"T2_TeamID\"] = sub[\\'ID\\'].apply(lambda x: int(x.split(\\'_\\')[2]))\\n    sub_X, a = process_tourney(sub, mode = \"sub\")\\n    dtest = xgb.DMatrix(sub_X)\\nelif PREDICT_YEAR==2025:\\n    sub = pd.read_csv(os.path.join(INPUT_PATH, \"SampleSubmissionStage2.csv\"))\\n    sub[\\'Season\\'] = sub[\\'ID\\'].apply(lambda x: int(x.split(\\'_\\')[0]))\\n    sub[\"T1_TeamID\"] = sub[\\'ID\\'].apply(lambda x: int(x.split(\\'_\\')[1]))\\n    sub[\"T2_TeamID\"] = sub[\\'ID\\'].apply(lambda x: int(x.split(\\'_\\')[2]))   \\n    sub_X, a = process_tourney(sub, mode = \"sub\")\\n    dtest = xgb.DMatrix(sub_X)'"
      ]
     },
     "execution_count": 28,
     "metadata": {},
     "output_type": "execute_result"
    }
   ],
   "source": [
    "\"\"\"if PREDICT_YEAR==2022:\n",
    "    sub = pd.read_csv(os.path.join(INPUT_PATH, \"SampleSubmission2022M.csv\"))\n",
    "    sub['Season'] = sub['ID'].apply(lambda x: int(x.split('_')[0]))\n",
    "    sub[\"T1_TeamID\"] = sub['ID'].apply(lambda x: int(x.split('_')[1]))\n",
    "    sub[\"T2_TeamID\"] = sub['ID'].apply(lambda x: int(x.split('_')[2]))\n",
    "    sub_X, a = process_tourney(sub, mode = \"sub\")\n",
    "    dtest = xgb.DMatrix(sub_X)\n",
    "elif PREDICT_YEAR==2023:\n",
    "    sub = pd.read_csv(os.path.join(INPUT_PATH, \"SampleSubmission2023.csv\"))\n",
    "    sub['Season'] = sub['ID'].apply(lambda x: int(x.split('_')[0]))\n",
    "    sub[\"T1_TeamID\"] = sub['ID'].apply(lambda x: int(x.split('_')[1]))\n",
    "    sub[\"T2_TeamID\"] = sub['ID'].apply(lambda x: int(x.split('_')[2]))\n",
    "    sub_X, a = process_tourney(sub, mode = \"sub\")\n",
    "    dtest = xgb.DMatrix(sub_X)\n",
    "elif PREDICT_YEAR==2024:\n",
    "    sub = pd.read_csv(os.path.join(INPUT_PATH, \"SampleSubmission2024.csv\"))\n",
    "    sub['Season'] = sub['ID'].apply(lambda x: int(x.split('_')[0]))\n",
    "    sub[\"T1_TeamID\"] = sub['ID'].apply(lambda x: int(x.split('_')[1]))\n",
    "    sub[\"T2_TeamID\"] = sub['ID'].apply(lambda x: int(x.split('_')[2]))\n",
    "    sub_X, a = process_tourney(sub, mode = \"sub\")\n",
    "    dtest = xgb.DMatrix(sub_X)\n",
    "elif PREDICT_YEAR==2025:\n",
    "    sub = pd.read_csv(os.path.join(INPUT_PATH, \"SampleSubmissionStage2.csv\"))\n",
    "    sub['Season'] = sub['ID'].apply(lambda x: int(x.split('_')[0]))\n",
    "    sub[\"T1_TeamID\"] = sub['ID'].apply(lambda x: int(x.split('_')[1]))\n",
    "    sub[\"T2_TeamID\"] = sub['ID'].apply(lambda x: int(x.split('_')[2]))   \n",
    "    sub_X, a = process_tourney(sub, mode = \"sub\")\n",
    "    dtest = xgb.DMatrix(sub_X)\"\"\"\n",
    "    "
   ]
  },
  {
   "cell_type": "code",
   "execution_count": 29,
   "id": "f26887bb",
   "metadata": {
    "execution": {
     "iopub.execute_input": "2025-03-13T16:08:59.857062Z",
     "iopub.status.busy": "2025-03-13T16:08:59.857062Z",
     "iopub.status.idle": "2025-03-13T16:08:59.886821Z",
     "shell.execute_reply": "2025-03-13T16:08:59.886821Z"
    },
    "papermill": {
     "duration": 0.045899,
     "end_time": "2025-03-13T16:08:59.886821",
     "exception": false,
     "start_time": "2025-03-13T16:08:59.840922",
     "status": "completed"
    },
    "tags": []
   },
   "outputs": [
    {
     "name": "stdout",
     "output_type": "stream",
     "text": [
      "no fillna, use nan\n"
     ]
    }
   ],
   "source": [
    "sub = notexist.copy()\n",
    "sub = sub.rename(columns={\"WTeamID\": \"T1_TeamID\", \"LTeamID\": \"T2_TeamID\"})\n",
    "sub = sub[[\"Season\", \"T1_TeamID\", \"T2_TeamID\"]]\n",
    "temp = sub.copy()\n",
    "temp = temp.rename(columns={\"T1_TeamID\": \"T2_TeamID\", \"T2_TeamID\": \"T1_TeamID\"})\n",
    "sub = pd.concat([sub, temp]).reset_index()\n",
    "sub_X, a = process_tourney(sub, mode=\"sub\")\n",
    "sub_X = drop_columns(sub_X, drop_col)\n",
    "dtest = xgb.DMatrix(sub_X)"
   ]
  },
  {
   "cell_type": "code",
   "execution_count": 30,
   "id": "49d61378",
   "metadata": {
    "execution": {
     "iopub.execute_input": "2025-03-13T16:08:59.934977Z",
     "iopub.status.busy": "2025-03-13T16:08:59.934977Z",
     "iopub.status.idle": "2025-03-13T16:10:21.821371Z",
     "shell.execute_reply": "2025-03-13T16:10:21.821371Z"
    },
    "papermill": {
     "duration": 81.910831,
     "end_time": "2025-03-13T16:10:21.823377",
     "exception": false,
     "start_time": "2025-03-13T16:08:59.912546",
     "status": "completed"
    },
    "tags": []
   },
   "outputs": [
    {
     "name": "stderr",
     "output_type": "stream",
     "text": [
      "\r",
      "  0%|                                                                                                                                                            | 0/10 [00:00<?, ?it/s]"
     ]
    },
    {
     "name": "stderr",
     "output_type": "stream",
     "text": [
      "\r",
      " 10%|██████████████▊                                                                                                                                     | 1/10 [00:06<01:02,  6.94s/it]"
     ]
    },
    {
     "name": "stderr",
     "output_type": "stream",
     "text": [
      "\r",
      " 20%|█████████████████████████████▌                                                                                                                      | 2/10 [00:13<00:52,  6.58s/it]"
     ]
    },
    {
     "name": "stderr",
     "output_type": "stream",
     "text": [
      "\r",
      " 30%|████████████████████████████████████████████▍                                                                                                       | 3/10 [00:21<00:52,  7.44s/it]"
     ]
    },
    {
     "name": "stderr",
     "output_type": "stream",
     "text": [
      "\r",
      " 40%|███████████████████████████████████████████████████████████▏                                                                                        | 4/10 [00:33<00:56,  9.34s/it]"
     ]
    },
    {
     "name": "stderr",
     "output_type": "stream",
     "text": [
      "\r",
      " 50%|██████████████████████████████████████████████████████████████████████████                                                                          | 5/10 [00:44<00:49,  9.93s/it]"
     ]
    },
    {
     "name": "stderr",
     "output_type": "stream",
     "text": [
      "\r",
      " 60%|████████████████████████████████████████████████████████████████████████████████████████▊                                                           | 6/10 [00:52<00:36,  9.08s/it]"
     ]
    },
    {
     "name": "stderr",
     "output_type": "stream",
     "text": [
      "\r",
      " 70%|███████████████████████████████████████████████████████████████████████████████████████████████████████▌                                            | 7/10 [00:59<00:25,  8.45s/it]"
     ]
    },
    {
     "name": "stderr",
     "output_type": "stream",
     "text": [
      "\r",
      " 80%|██████████████████████████████████████████████████████████████████████████████████████████████████████████████████████▍                             | 8/10 [01:06<00:15,  7.88s/it]"
     ]
    },
    {
     "name": "stderr",
     "output_type": "stream",
     "text": [
      "\r",
      " 90%|█████████████████████████████████████████████████████████████████████████████████████████████████████████████████████████████████████▏              | 9/10 [01:13<00:07,  7.80s/it]"
     ]
    },
    {
     "name": "stderr",
     "output_type": "stream",
     "text": [
      "\r",
      "100%|███████████████████████████████████████████████████████████████████████████████████████████████████████████████████████████████████████████████████| 10/10 [01:21<00:00,  7.88s/it]"
     ]
    },
    {
     "name": "stderr",
     "output_type": "stream",
     "text": [
      "\r",
      "100%|███████████████████████████████████████████████████████████████████████████████████████████████████████████████████████████████████████████████████| 10/10 [01:21<00:00,  8.19s/it]"
     ]
    },
    {
     "name": "stderr",
     "output_type": "stream",
     "text": [
      "\n"
     ]
    }
   ],
   "source": [
    "sub_models = []\n",
    "#sokutionではカスタム関数の指定、早期停止の言及がここではなかった。検討する\n",
    "for i in tqdm(range(repeat_cv), leave=True, dynamic_ncols=True):\n",
    "    sub_models.append(\n",
    "        xgb.train(\n",
    "          params = param,\n",
    "          dtrain = dtrain,\n",
    "          obj=cauchyobj,\n",
    "          num_boost_round = int(iteration_counts[i] * 1.05),\n",
    "          #early_stopping_rounds=early_stopping_rounds, #これ指定してない、指定するのかあと、指定するとしても少し遅くさせるとか\n",
    "          verbose_eval = 50\n",
    "        )\n",
    "    )"
   ]
  },
  {
   "cell_type": "markdown",
   "id": "41246bb7",
   "metadata": {
    "papermill": {
     "duration": 0.028939,
     "end_time": "2025-03-13T16:10:21.877072",
     "exception": false,
     "start_time": "2025-03-13T16:10:21.848133",
     "status": "completed"
    },
    "tags": []
   },
   "source": [
    "各特徴量の寄与度を算出"
   ]
  },
  {
   "cell_type": "code",
   "execution_count": 31,
   "id": "7c7ec02e",
   "metadata": {
    "execution": {
     "iopub.execute_input": "2025-03-13T16:10:21.925628Z",
     "iopub.status.busy": "2025-03-13T16:10:21.925628Z",
     "iopub.status.idle": "2025-03-13T16:10:22.535377Z",
     "shell.execute_reply": "2025-03-13T16:10:22.535377Z"
    },
    "papermill": {
     "duration": 0.629574,
     "end_time": "2025-03-13T16:10:22.535377",
     "exception": false,
     "start_time": "2025-03-13T16:10:21.905803",
     "status": "completed"
    },
    "tags": []
   },
   "outputs": [
    {
     "data": {
      "image/png": "[encoded data removed]",
      "text/plain": [
       "<Figure size 1000x600 with 1 Axes>"
      ]
     },
     "metadata": {},
     "output_type": "display_data"
    }
   ],
   "source": [
    "feature_importances = collections.defaultdict(list)\n",
    "for model in sub_models:\n",
    "    importance = model.get_score(importance_type='gain')\n",
    "    for feat, score in importance.items():\n",
    "        feature_importances[feat].append(score)\n",
    "\n",
    "avg_importance = {feat: sum(scores) / len(scores) for feat, scores in feature_importances.items()}\n",
    "fi_df = pd.DataFrame(list(avg_importance.items()), columns=['Feature', 'Avg_Gain'])\n",
    "fi_df.sort_values(by='Avg_Gain', ascending=False, inplace=True)\n",
    "results.append(\"\")\n",
    "fi_log = \"-----Feature Importance (Average Gain)-----\\n\"\n",
    "for feat, score in fi_df.values:\n",
    "    fi_log += f\"{feat}: {score:.4f}\\n\"\n",
    "results.append(fi_log)\n",
    "results.append(\"\")\n",
    "\n",
    "plt.figure(figsize=(10, 6))\n",
    "plt.bar(fi_df['Feature'], fi_df['Avg_Gain'])\n",
    "plt.xlabel('Feature')\n",
    "plt.ylabel('Average Gain')\n",
    "plt.title('Feature Importance (Average Gain)')\n",
    "plt.xticks(rotation=45)\n",
    "plt.tight_layout() \n",
    "\n",
    "plt.savefig(os.path.join(OUTPUT_PATH, f\"feature_importance_{PREDICT_YEAR}.png\"))\n",
    "plt.show()"
   ]
  },
  {
   "cell_type": "code",
   "execution_count": 32,
   "id": "03c78e85",
   "metadata": {
    "execution": {
     "iopub.execute_input": "2025-03-13T16:10:22.574154Z",
     "iopub.status.busy": "2025-03-13T16:10:22.574154Z",
     "iopub.status.idle": "2025-03-13T16:10:22.637659Z",
     "shell.execute_reply": "2025-03-13T16:10:22.637659Z"
    },
    "papermill": {
     "duration": 0.082489,
     "end_time": "2025-03-13T16:10:22.637659",
     "exception": false,
     "start_time": "2025-03-13T16:10:22.555170",
     "status": "completed"
    },
    "tags": []
   },
   "outputs": [
    {
     "name": "stderr",
     "output_type": "stream",
     "text": [
      "\r",
      "  0%|                                                                                                                                                            | 0/10 [00:00<?, ?it/s]"
     ]
    },
    {
     "name": "stderr",
     "output_type": "stream",
     "text": [
      "\r",
      "100%|██████████████████████████████████████████████████████████████████████████████████████████████████████████████████████████████████████████████████| 10/10 [00:00<00:00, 185.69it/s]"
     ]
    },
    {
     "name": "stderr",
     "output_type": "stream",
     "text": [
      "\n"
     ]
    }
   ],
   "source": [
    "sub_preds = []\n",
    "for i in tqdm(range(repeat_cv)):\n",
    "    if spline == \"spline_normal\":\n",
    "        sub_preds.append(np.clip(spline_model[i](np.clip(sub_models[i].predict(dtest), -30, 30)), 0.025, 0.975))\n",
    "    \n",
    "    elif spline == \"logistic\":\n",
    "        X_input = np.clip(sub_models[i].predict(dtest), -30, 30).reshape(-1, 1)\n",
    "        platt_pred = spline_model[i].predict_proba(X_input)[:, 1]\n",
    "        sub_preds.append(np.clip(platt_pred, 0.025, 0.975))\n",
    "\n",
    "    elif spline == \"isotonic\":\n",
    "        X_input = np.clip(sub_models[i].predict(dtest), -30, 30).reshape(-1, 1)\n",
    "        iso_pred = spline_model[i].predict(X_input)  # Isotonic Regression の適用\n",
    "        sub_preds.append(np.clip(iso_pred, 0.025, 0.975))\n",
    "\n",
    "sub[\"Pred\"] = np.mean(np.vstack(sub_preds), axis=0)"
   ]
  },
  {
   "cell_type": "code",
   "execution_count": 33,
   "id": "67ca2dcd",
   "metadata": {
    "execution": {
     "iopub.execute_input": "2025-03-13T16:10:22.695147Z",
     "iopub.status.busy": "2025-03-13T16:10:22.692788Z",
     "iopub.status.idle": "2025-03-13T16:10:22.704192Z",
     "shell.execute_reply": "2025-03-13T16:10:22.704192Z"
    },
    "papermill": {
     "duration": 0.039836,
     "end_time": "2025-03-13T16:10:22.705807",
     "exception": false,
     "start_time": "2025-03-13T16:10:22.665971",
     "status": "completed"
    },
    "tags": []
   },
   "outputs": [
    {
     "name": "stdout",
     "output_type": "stream",
     "text": [
      "skip data flip\n"
     ]
    }
   ],
   "source": [
    "# 予測時にテストデータID反転させて予測して平均取る\n",
    "# dtestの用意とsub_predsの算出を同じようにやる\n",
    "# sub[\"Pred\"]を反転させたやつとの平均取ったやつにする\n",
    "TEST_REVERSE = MODEL.test_reverse\n",
    "\n",
    "if TEST_REVERSE:\n",
    "    print(\"----- data flip -----\") \n",
    "    sub_reverse = notexist.copy()\n",
    "    sub_reverse = sub_reverse.rename(columns={\"WTeamID\": \"T2_TeamID\", \"LTeamID\": \"T1_TeamID\"})#reverse!!\n",
    "    temp_reverse = sub_reverse.copy()\n",
    "    temp = temp.rename(columns={\"T1_TeamID\": \"T2_TeamID\", \"T2_TeamID\": \"T1_TeamID\"})\n",
    "    sub_reverse = pd.concat([sub_reverse, temp_reverse]).reset_index()\n",
    "    sub_reverse_X, a = process_tourney(sub_reverse, mode=\"sub\")\n",
    "    sub_reverse_X = drop_columns(sub_reverse_X, drop_col)\n",
    "    dtest_reverse = xgb.DMatrix(sub_reverse_X)\n",
    "    \n",
    "    sub_preds_reverse = []\n",
    "    for i in tqdm(range(repeat_cv)):\n",
    "        if spline == \"spline_normal\":\n",
    "            sub_preds_reverse.append(np.clip(spline_model[i](np.clip(sub_models[i].predict(dtest_reverse), -30, 30)), 0.025, 0.975))\n",
    "        \n",
    "        elif spline == \"logistic\":\n",
    "            X_input = np.clip(sub_models[i].predict(dtest_reverse), -30, 30).reshape(-1, 1)\n",
    "            platt_pred = spline_model[i].predict_proba(X_input)[:, 1]\n",
    "            sub_preds_reverse.append(np.clip(platt_pred, 0.025, 0.975))\n",
    "\n",
    "        elif spline == \"isotonic\":\n",
    "            X_input = np.clip(sub_models[i].predict(dtest_reverse), -30, 30).reshape(-1, 1)\n",
    "            iso_pred = spline_model[i].predict(X_input)  # Isotonic Regression の適用\n",
    "            sub_preds_reverse.append(np.clip(iso_pred, 0.025, 0.975))\n",
    "\n",
    "    sub_reverse[\"Pred\"] = np.mean(np.vstack(sub_preds_reverse), axis=0)\n",
    "    \n",
    " \n",
    "    #sub[\"Pred\"]を (sub[\"Pred\"] + (1-sub_reverse[\"Pred\"]))/2に塗り替える(平均取る)\n",
    "    sub[\"Pred\"] = (sub[\"Pred\"] + (1-sub_reverse[\"Pred\"]))/2\n",
    "\n",
    "\n",
    "else:\n",
    "    print(\"skip data flip\")"
   ]
  },
  {
   "cell_type": "code",
   "execution_count": 34,
   "id": "952118ca",
   "metadata": {
    "execution": {
     "iopub.execute_input": "2025-03-13T16:10:22.754284Z",
     "iopub.status.busy": "2025-03-13T16:10:22.754284Z",
     "iopub.status.idle": "2025-03-13T16:10:22.761898Z",
     "shell.execute_reply": "2025-03-13T16:10:22.761104Z"
    },
    "papermill": {
     "duration": 0.028509,
     "end_time": "2025-03-13T16:10:22.761898",
     "exception": false,
     "start_time": "2025-03-13T16:10:22.733389",
     "status": "completed"
    },
    "tags": []
   },
   "outputs": [],
   "source": [
    "# teams:64team, targetを受け取って、そのtarget teamの試合可能性のある全63試合を抽出する関数\n",
    "def extract_target_team_records(submission_df, teams, target_team):\n",
    "    if target_team not in teams:\n",
    "        raise ValueError(f\"target_team {target_team} は teams 内に存在しません\")\n",
    "\n",
    "    remaining_teams = [t for t in teams if t != target_team]\n",
    "    \n",
    "    records = []\n",
    "    for other_team in remaining_teams:\n",
    "        lower = min(target_team, other_team)\n",
    "        higher = max(target_team, other_team)\n",
    "        row = submission_df[(submission_df['T1_TeamID'] == lower) & (submission_df['T2_TeamID'] == higher)]\n",
    "        if row.empty:\n",
    "            print(f\"Warning: 対戦 {lower} vs {higher} に対応するレコードが見つかりませんでした\")\n",
    "        else:\n",
    "            records.append(row)\n",
    "    \n",
    "    if records:\n",
    "        final_records = pd.concat(records, ignore_index=True)\n",
    "    else:\n",
    "        final_records = pd.DataFrame()\n",
    "    \n",
    "    if len(final_records) != 63:\n",
    "        print(f\"Warning: 期待される63件ではなく、{len(final_records)}件のレコードが抽出されました。\")\n",
    "    \n",
    "    return final_records\n"
   ]
  },
  {
   "cell_type": "code",
   "execution_count": 35,
   "id": "316bae2d",
   "metadata": {
    "execution": {
     "iopub.execute_input": "2025-03-13T16:10:22.790912Z",
     "iopub.status.busy": "2025-03-13T16:10:22.790912Z",
     "iopub.status.idle": "2025-03-13T16:10:22.807895Z",
     "shell.execute_reply": "2025-03-13T16:10:22.807895Z"
    },
    "papermill": {
     "duration": 0.034742,
     "end_time": "2025-03-13T16:10:22.809913",
     "exception": false,
     "start_time": "2025-03-13T16:10:22.775171",
     "status": "completed"
    },
    "tags": []
   },
   "outputs": [],
   "source": [
    "tourney_teams_2023 = [\n",
    "    1395, 1113,   # TCU1395, アリゾナ・ステイト1113\n",
    "    1231, 1245,   # インディアナ1231, ケント・ステイト1245\n",
    "    1243, 1286,   # カンザス・ステイト1243, モンタナ・ステイト1286\n",
    "    1272, 1194,   # メンフィス1272, ﾌﾛﾘﾀﾞ･ｱﾄﾗﾝﾃｨｯｸ1194\n",
    "    1211, 1213,   # ゴンザガ1211, グランド・キャニオン1213\n",
    "    1274, 1179,   # マイアミ（フロリダ）1274, ドレイク1179\n",
    "    1243, 1286,   # ケンタッキー1243, プロビデンス1286\n",
    "    1345, 1192,   # パデュー1345, ﾌｪｱﾘｰ･ﾃﾞｨｷﾝｿﾝ1192\n",
    "    1163, 1233,   # コネチカット1163, アイオナ1233\n",
    "    1166, 1301,   # クレイトン1166, ﾉｰｽｶﾛﾗｲﾅ･ｽﾃｲﾄ1301\n",
    "    1235, 1338,   # アイオワ・ステイト1235, ピッツバーグ1338\n",
    "    1266, 1436,   # マーケット1266, バーモント1436\n",
    "    1388, 1433,   # ｾﾝﾄﾒｱﾘｰｽﾞ（ｶﾘﾌｫﾙﾆｱ）1388, VCU1433\n",
    "    1124, 1364,   # ベイラー1124, UCサンタバーバラ1364\n",
    "    1462, 1244,   # ザビエル1462, ケネソー・ステイト1244\n",
    "    1277, 1425,   # ミシガン・ステイト1277, USC トロージャンズ1425\n",
    "\n",
    "    1417, 1421,   # UCLA1417, UNC アシュビル1421\n",
    "    1401, 1336,   # テキサス A＆M1401, ﾍﾟﾝｼﾞﾙﾍﾞﾆｱ･ｽﾃｲﾄ1336\n",
    "    1397, 1418,   # テネシー1397, ﾙｲｼﾞｱﾅ･ﾗﾌｧｲｴｯﾄ1418\n",
    "    1222, 1297,   # ヒューストン1222, ノーザンケンタッキー1297\n",
    "    1321, 1129,   # ノースウェスタン1321, ボイシ・ステイト1129\n",
    "    1400, 1159,   # テキサス1400, コルゲート1159\n",
    "    1181, 1331,   # デューク1181, オーラル・ロバーツ1331\n",
    "    1234, 1120,   # アイオワ1234, オーバーン1120\n",
    "    1116, 1228,   # アーカンソー1116, イリノイ1228\n",
    "    1112, 1343,   # アリゾナ1112, プリンストン1343\n",
    "    1361, 1158,   # ｻﾝﾃﾞｴｺﾞ･ｽﾃｲﾄ1361, チャールストン1158\n",
    "    1104, 1394,   # アラバマ1104, テキサス A＆M CC1394\n",
    "    1242, 1224,   # カンザス1242, ハワード1224\n",
    "    1281, 1429,   # ミズーリ1281, ユタ・ステイト1429\n",
    "    1438, 1202,   # バージニア1438, ファーマン1202\n",
    "    1268, 1452    # メリーランド1268, ウェストバージニア1452\n",
    "]\n",
    "\n",
    "#Connecticut_vs = extract_target_team_records(sub, tourney_teams_2023, 1163 )"
   ]
  },
  {
   "cell_type": "code",
   "execution_count": 36,
   "id": "f4e516cc",
   "metadata": {
    "execution": {
     "iopub.execute_input": "2025-03-13T16:10:22.847924Z",
     "iopub.status.busy": "2025-03-13T16:10:22.847924Z",
     "iopub.status.idle": "2025-03-13T16:10:22.853077Z",
     "shell.execute_reply": "2025-03-13T16:10:22.853077Z"
    },
    "papermill": {
     "duration": 0.027223,
     "end_time": "2025-03-13T16:10:22.855261",
     "exception": false,
     "start_time": "2025-03-13T16:10:22.828038",
     "status": "completed"
    },
    "tags": []
   },
   "outputs": [],
   "source": [
    "#handlabelingを行う関数\n",
    "def make_handlabeling(df, season, T1, T2, labeling_pred, tourney_teams):\n",
    "    if T1 not in tourney_teams or T2 not in tourney_teams: \n",
    "        print(f\"トーナメント対象チームに属していません\")\n",
    "        return \n",
    "    \n",
    "    if T1>T2: \n",
    "        T1, T2 = T2, T1\n",
    "        print(f\"{T1}, {T2}ID逆だけど大丈夫？？\")\n",
    "    id = f\"{season}_{T1}_{T2}\"\n",
    "\n",
    "    print(f\"before: {df[df['ID']==id]}\")\n",
    "    df.loc[df[\"ID\"] == id, \"Pred\"] = labeling_pred\n",
    "    print(f\"after: {df[df['ID']==id]}\")\n",
    "    \n",
    "    results.append(f\"-----handolabeling-----\")\n",
    "    results.append(f\"before:  {df[df['ID']==id]} -----> after: {df[df['ID']==id]}\")\n",
    "    results.appedn(\"\")\n",
    "    return df"
   ]
  },
  {
   "cell_type": "code",
   "execution_count": 37,
   "id": "d79f8222",
   "metadata": {
    "execution": {
     "iopub.execute_input": "2025-03-13T16:10:22.894653Z",
     "iopub.status.busy": "2025-03-13T16:10:22.894653Z",
     "iopub.status.idle": "2025-03-13T16:10:22.899284Z",
     "shell.execute_reply": "2025-03-13T16:10:22.899284Z"
    },
    "papermill": {
     "duration": 0.026388,
     "end_time": "2025-03-13T16:10:22.899284",
     "exception": false,
     "start_time": "2025-03-13T16:10:22.872896",
     "status": "completed"
    },
    "tags": []
   },
   "outputs": [],
   "source": [
    "labeling = cfg.exp.hand_labeling\n",
    "if labeling is not None:\n",
    "    for i in range(len(labeling)):\n",
    "        T1 = labeling[i][0]\n",
    "        T2 = labeling[i][1]\n",
    "        labeling_pred = labeling[i][2]\n",
    "        \n",
    "        print(f\"{T1} vs {T2} result labeling {labeling_pred}\")\n",
    "        \n",
    "        sub = make_handlabeling(sub, PREDICT_YEAR, T1, T2, labeling_pred, tourney_teams_2023)"
   ]
  },
  {
   "cell_type": "code",
   "execution_count": 38,
   "id": "3b0c8590",
   "metadata": {
    "execution": {
     "iopub.execute_input": "2025-03-13T16:10:22.940242Z",
     "iopub.status.busy": "2025-03-13T16:10:22.940242Z",
     "iopub.status.idle": "2025-03-13T16:10:23.204716Z",
     "shell.execute_reply": "2025-03-13T16:10:23.204716Z"
    },
    "papermill": {
     "duration": 0.296108,
     "end_time": "2025-03-13T16:10:23.204716",
     "exception": false,
     "start_time": "2025-03-13T16:10:22.908608",
     "status": "completed"
    },
    "tags": []
   },
   "outputs": [
    {
     "name": "stdout",
     "output_type": "stream",
     "text": [
      "Tournament matchups only - Pred Mean: 0.49919888706854726\n"
     ]
    },
    {
     "data": {
      "image/png": "[encoded data removed]",
      "text/plain": [
       "<Figure size 640x480 with 1 Axes>"
      ]
     },
     "metadata": {},
     "output_type": "display_data"
    }
   ],
   "source": [
    "tourney_filtered = notexist[notexist[\"Season\"] == PREDICT_YEAR].copy()\n",
    "a = tourney_filtered.rename(columns={'WTeamID': 'T1_TeamID', 'LTeamID': 'T2_TeamID'})\n",
    "b = tourney_filtered.rename(columns={'WTeamID': 'T2_TeamID', 'LTeamID': 'T1_TeamID'})\n",
    "ab = pd.concat([a, b]).reset_index(drop=True) \n",
    "filtered_sub = sub.merge(ab[['Season', 'T1_TeamID', 'T2_TeamID']], \n",
    "                         on=['Season', 'T1_TeamID', 'T2_TeamID'], \n",
    "                         how='inner')\n",
    "\n",
    "filtered_sub[\"Pred\"].astype(int)\n",
    "pred_mean = filtered_sub[\"Pred\"].mean()\n",
    "print(\"Tournament matchups only - Pred Mean:\", pred_mean)\n",
    "\n",
    "filtered_sub[\"Pred\"].hist(bins=50)\n",
    "results+=[\"\", f\"Tournament matchups only - Pred Mean:, {pred_mean}\", \"\"]\n",
    "plt.figure(figsize=(8, 6))\n",
    "filtered_sub[\"Pred\"].hist(bins=50)\n",
    "plt.title(\"Prediction Histogram\")\n",
    "plt.xlabel(\"Pred\")\n",
    "plt.ylabel(\"Frequency\")\n",
    "plt.grid(True)\n",
    "\n",
    "# 画像として保存\n",
    "plt.savefig(os.path.join(OUTPUT_PATH, f\"Prediction_Histgram_filtered_{PREDICT_YEAR}.png\"))\n",
    "plt.close()"
   ]
  },
  {
   "cell_type": "markdown",
   "id": "072fdf21",
   "metadata": {
    "papermill": {
     "duration": 0.019758,
     "end_time": "2025-03-13T16:10:23.243372",
     "exception": false,
     "start_time": "2025-03-13T16:10:23.223614",
     "status": "completed"
    },
    "tags": []
   },
   "source": [
    "# スコア算出、まとめ、\n",
    "ここまでで提出ファイル作成。ここからは過去年度のシミュレーションに対してBrier scoreやその他指標の算出"
   ]
  },
  {
   "cell_type": "code",
   "execution_count": 39,
   "id": "a938a758",
   "metadata": {
    "execution": {
     "iopub.execute_input": "2025-03-13T16:10:23.275578Z",
     "iopub.status.busy": "2025-03-13T16:10:23.275578Z",
     "iopub.status.idle": "2025-03-13T16:10:23.451953Z",
     "shell.execute_reply": "2025-03-13T16:10:23.451953Z"
    },
    "papermill": {
     "duration": 0.190638,
     "end_time": "2025-03-13T16:10:23.451953",
     "exception": false,
     "start_time": "2025-03-13T16:10:23.261315",
     "status": "completed"
    },
    "tags": []
   },
   "outputs": [
    {
     "data": {
      "image/png": "[encoded data removed]",
      "text/plain": [
       "<Figure size 640x480 with 1 Axes>"
      ]
     },
     "metadata": {},
     "output_type": "display_data"
    }
   ],
   "source": [
    "sub[\"Pred\"].hist()\n",
    "results+=[\"\", f\"Pred mean: {sub['Pred'].mean()}\", \"\"]\n",
    "\n",
    "plt.figure(figsize=(8, 6))\n",
    "sub[\"Pred\"].hist(bins=50)\n",
    "plt.title(\"Prediction Histogram\")\n",
    "plt.xlabel(\"Pred\")\n",
    "plt.ylabel(\"Frequency\")\n",
    "plt.grid(True)\n",
    "\n",
    "# 画像として保存\n",
    "plt.savefig(os.path.join(OUTPUT_PATH, f\"Prediction_Histgram_{PREDICT_YEAR}.png\"))\n",
    "plt.close()"
   ]
  },
  {
   "cell_type": "markdown",
   "id": "0f247c33",
   "metadata": {
    "papermill": {
     "duration": 0.022318,
     "end_time": "2025-03-13T16:10:23.486391",
     "exception": false,
     "start_time": "2025-03-13T16:10:23.464073",
     "status": "completed"
    },
    "tags": []
   },
   "source": [
    "存在するはずのない予測年度のトーナメント結果をもとに(Pred, label)を取り出し、以下を行う。\n",
    "\n",
    "- 各評価指標の計算\n",
    "- キャリブレーション可視化\n",
    "- AUC可視化"
   ]
  },
  {
   "cell_type": "code",
   "execution_count": 40,
   "id": "c17c4b77",
   "metadata": {
    "execution": {
     "iopub.execute_input": "2025-03-13T16:10:23.524747Z",
     "iopub.status.busy": "2025-03-13T16:10:23.524747Z",
     "iopub.status.idle": "2025-03-13T16:10:23.538642Z",
     "shell.execute_reply": "2025-03-13T16:10:23.538642Z"
    },
    "papermill": {
     "duration": 0.031313,
     "end_time": "2025-03-13T16:10:23.540411",
     "exception": false,
     "start_time": "2025-03-13T16:10:23.509098",
     "status": "completed"
    },
    "tags": []
   },
   "outputs": [],
   "source": [
    "def extract_labels_and_preds(sub, tourney):\n",
    "    \"\"\" 試合データから予測値 (Pred) と正解ラベル (label) を抽出する \"\"\"\n",
    "    label_data = tourney[[\"WTeamID\", \"LTeamID\", \"WScore\", \"LScore\"]]\n",
    "    label_data = label_data.rename(columns={\"WTeamID\": \"T1_TeamID\", \"LTeamID\": \"T2_TeamID\", \"WScore\": \"T1_Score\", \"LScore\": \"T2_Score\"})\n",
    "    temp = label_data.copy()\n",
    "    temp = temp.rename(columns={\"T1_TeamID\": \"T2_TeamID\", \"T2_TeamID\": \"T1_TeamID\", \"T1_Score\": \"T2_Score\", \"T2_Score\": \"T1_Score\"})\n",
    "    label_data = pd.concat([label_data, temp]).reset_index(drop=True)\n",
    "    \n",
    "    label_data = pd.merge(label_data, sub, on=[\"T1_TeamID\", \"T2_TeamID\"], how=\"left\")\n",
    "    label_data[\"label\"] = np.where(label_data[\"T1_Score\"] - label_data[\"T2_Score\"] > 0, 1, 0)\n",
    "    label_data = label_data.dropna(subset=[\"Pred\"])  # 欠損値を削除\n",
    "    \n",
    "    return label_data[[\"label\", \"Pred\"]]\n",
    "\n",
    "def calculate_metrics(label_data):\n",
    "    \"\"\" 各評価指標を計算 \"\"\"\n",
    "    brier_score = round(mean_squared_error(label_data[\"label\"], label_data[\"Pred\"]), 5)  # Brier Score (MSEと同じ)\n",
    "    rmse_score = round(mean_squared_error(label_data[\"label\"], label_data[\"Pred\"], squared=False), 5)  # RMSE\n",
    "    logloss_score = round(log_loss(label_data[\"label\"], label_data[\"Pred\"]), 5)  # Log Loss\n",
    "    mae_score = round(mean_absolute_error(label_data[\"label\"], label_data[\"Pred\"]), 5)  # MAE\n",
    "    \n",
    "    return {\n",
    "        \"Brier Score\": brier_score,\n",
    "        \"RMSE\": rmse_score,\n",
    "        \"Log Loss\": logloss_score,\n",
    "        \"MAE\": mae_score\n",
    "    }\n",
    "\n",
    "def plot_calibration_curve(label_data, n_bins=10):\n",
    "    \"\"\" キャリブレーションカーブをプロット \"\"\"\n",
    "    prob_true, prob_pred = calibration_curve(label_data[\"label\"], label_data[\"Pred\"], n_bins=n_bins)\n",
    "    \n",
    "    plt.figure(figsize=(6,6))\n",
    "    plt.plot(prob_pred, prob_true, marker=\"o\", label=\"Model Calibration\")\n",
    "    plt.plot([0, 1], [0, 1], linestyle=\"--\", label=\"Perfect Calibration\")\n",
    "    plt.xlabel(\"Predicted Probability\")\n",
    "    plt.ylabel(\"Actual Probability\")\n",
    "    plt.legend()\n",
    "    plt.title(\"Calibration Curve\")\n",
    "    plt.show()\n",
    "\n",
    "def calculate_auc_metrics(label_data):\n",
    "    global results\n",
    "    \"\"\" AUC-ROCとAUC-PRを計算 \"\"\"\n",
    "    auc_roc = roc_auc_score(label_data[\"label\"], label_data[\"Pred\"])\n",
    "    auc_pr = average_precision_score(label_data[\"label\"], label_data[\"Pred\"])\n",
    "    \n",
    "    print(f\"AUC-ROC: {auc_roc:.4f}\")\n",
    "    print(f\"AUC-PR: {auc_pr:.4f}\")\n",
    "    results += [\"---- AUC -----\", f\"AUC-ROC: {auc_roc:.4f}\", f\"AUC-PR: {auc_pr:.4f}\"]\n",
    "    "
   ]
  },
  {
   "cell_type": "code",
   "execution_count": 41,
   "id": "7df260fe",
   "metadata": {
    "execution": {
     "iopub.execute_input": "2025-03-13T16:10:23.572418Z",
     "iopub.status.busy": "2025-03-13T16:10:23.572418Z",
     "iopub.status.idle": "2025-03-13T16:10:23.665624Z",
     "shell.execute_reply": "2025-03-13T16:10:23.665624Z"
    },
    "papermill": {
     "duration": 0.107748,
     "end_time": "2025-03-13T16:10:23.665624",
     "exception": false,
     "start_time": "2025-03-13T16:10:23.557876",
     "status": "completed"
    },
    "tags": []
   },
   "outputs": [
    {
     "name": "stderr",
     "output_type": "stream",
     "text": [
      "C:\\Users\\81809\\anaconda3\\envs\\deep_learning_pytorch\\Lib\\site-packages\\sklearn\\metrics\\_regression.py:492: FutureWarning: 'squared' is deprecated in version 1.4 and will be removed in 1.6. To calculate the root mean squared error, use the function'root_mean_squared_error'.\n",
      "  warnings.warn(\n"
     ]
    },
    {
     "data": {
      "image/png": "[encoded data removed]",
      "text/plain": [
       "<Figure size 600x600 with 1 Axes>"
      ]
     },
     "metadata": {},
     "output_type": "display_data"
    },
    {
     "name": "stdout",
     "output_type": "stream",
     "text": [
      "AUC-ROC: 0.8536\n",
      "AUC-PR: 0.8656\n",
      "MAE: 0.31692\n",
      "\n",
      "---- AUC -----\n",
      "AUC-ROC: 0.8536\n",
      "AUC-PR: 0.8656\n"
     ]
    }
   ],
   "source": [
    "if PREDICT_YEAR == 2022:\n",
    "    notexist_MAN = notexist[notexist[\"WTeamID\"].astype(str).str.startswith(\"1\")]\n",
    "    notexist_WOMAN = notexist[notexist[\"WTeamID\"].astype(str).str.startswith(\"3\")]\n",
    "    label_data = extract_labels_and_preds(sub, notexist) ######\n",
    "else:\n",
    "    label_data = extract_labels_and_preds(sub, notexist)\n",
    "\n",
    "# 評価指標の計算\n",
    "score = calculate_metrics(label_data)\n",
    "results += [\"\",\"-----eval metrics-----\",\n",
    "            f\"Brier Score: {score['Brier Score']}\", \n",
    "            f\"RMSE: {score['RMSE']}\", \n",
    "            f\"Log Loss: {score['Log Loss']}\", \n",
    "            f\"MAE: {score['MAE']}\", \"\"]\n",
    "\n",
    "# キャリブレーションの確認\n",
    "plot_calibration_curve(label_data)\n",
    "\n",
    "# AUCの評価\n",
    "calculate_auc_metrics(label_data)\n",
    "\n",
    "for temp in range(-5, 0):\n",
    "    print(results[temp])"
   ]
  },
  {
   "cell_type": "code",
   "execution_count": 42,
   "id": "2d403cd1",
   "metadata": {
    "execution": {
     "iopub.execute_input": "2025-03-13T16:10:23.705863Z",
     "iopub.status.busy": "2025-03-13T16:10:23.705863Z",
     "iopub.status.idle": "2025-03-13T16:10:23.711165Z",
     "shell.execute_reply": "2025-03-13T16:10:23.710793Z"
    },
    "papermill": {
     "duration": 0.026527,
     "end_time": "2025-03-13T16:10:23.711165",
     "exception": false,
     "start_time": "2025-03-13T16:10:23.684638",
     "status": "completed"
    },
    "tags": []
   },
   "outputs": [
    {
     "data": {
      "text/plain": [
       "'if PREDICT_YEAR!=2025:\\n    predict_year_label =notexist[[\"WTeamID\", \"LTeamID\", \"WScore\", \"LScore\"]].copy()\\n    predict_year_label.loc[:, \"Win\"] = np.where(predict_year_label[\"WScore\"] - predict_year_label[\"LScore\"] > 0, 1, 0)\\n    predict_year_label = predict_year_label[[\"WTeamID\", \"LTeamID\", \"Win\"]]\\n   \\n    predict_year_label.columns = [\"T1_TeamID\", \"T2_TeamID\", \"Win\"]\\n\\n    predict_year_label = pd.merge(predict_year_label, sub, on=[\"T1_TeamID\", \"T2_TeamID\"], how=\"left\")\\n    brier_score = np.mean((predict_year_label[\"Pred\"] - predict_year_label[\"Win\"])**2)\\n\\n    print(\"Brier Score:\", brier_score)\\n    results+=[f\"Brier Score: {brier_score}\", \"\"]\\n    predict_year_label.info()\\n'"
      ]
     },
     "execution_count": 42,
     "metadata": {},
     "output_type": "execute_result"
    }
   ],
   "source": [
    "\"\"\"if PREDICT_YEAR!=2025:\n",
    "    predict_year_label =notexist[[\"WTeamID\", \"LTeamID\", \"WScore\", \"LScore\"]].copy()\n",
    "    predict_year_label.loc[:, \"Win\"] = np.where(predict_year_label[\"WScore\"] - predict_year_label[\"LScore\"] > 0, 1, 0)\n",
    "    predict_year_label = predict_year_label[[\"WTeamID\", \"LTeamID\", \"Win\"]]\n",
    "   \n",
    "    predict_year_label.columns = [\"T1_TeamID\", \"T2_TeamID\", \"Win\"]\n",
    "\n",
    "    predict_year_label = pd.merge(predict_year_label, sub, on=[\"T1_TeamID\", \"T2_TeamID\"], how=\"left\")\n",
    "    brier_score = np.mean((predict_year_label[\"Pred\"] - predict_year_label[\"Win\"])**2)\n",
    "\n",
    "    print(\"Brier Score:\", brier_score)\n",
    "    results+=[f\"Brier Score: {brier_score}\", \"\"]\n",
    "    predict_year_label.info()\n",
    "\"\"\""
   ]
  },
  {
   "cell_type": "code",
   "execution_count": 43,
   "id": "ee3a24b8",
   "metadata": {
    "execution": {
     "iopub.execute_input": "2025-03-13T16:10:23.741774Z",
     "iopub.status.busy": "2025-03-13T16:10:23.741774Z",
     "iopub.status.idle": "2025-03-13T16:10:23.758866Z",
     "shell.execute_reply": "2025-03-13T16:10:23.758866Z"
    },
    "papermill": {
     "duration": 0.033204,
     "end_time": "2025-03-13T16:10:23.758866",
     "exception": false,
     "start_time": "2025-03-13T16:10:23.725662",
     "status": "completed"
    },
    "tags": []
   },
   "outputs": [
    {
     "name": "stdout",
     "output_type": "stream",
     "text": [
      "実行時間： 780.0秒\n"
     ]
    }
   ],
   "source": [
    "END_TIME = time.time()\n",
    "ELAPSED_TIME = END_TIME - START_TIME\n",
    "print(f\"実行時間： {ELAPSED_TIME:.1f}秒\")\n",
    "results.append(f\"実行時間： {ELAPSED_TIME:.1f}秒\")\n",
    "\n",
    "with open(os.path.join(OUTPUT_PATH, \"result.txt\"), \"a\", encoding=\"utf-8\") as f:\n",
    "    for line in results:\n",
    "        f.write(line + \"\\n\")"
   ]
  },
  {
   "cell_type": "code",
   "execution_count": 44,
   "id": "b3c5c215",
   "metadata": {
    "execution": {
     "iopub.execute_input": "2025-03-13T16:10:23.789615Z",
     "iopub.status.busy": "2025-03-13T16:10:23.789615Z",
     "iopub.status.idle": "2025-03-13T16:10:23.803767Z",
     "shell.execute_reply": "2025-03-13T16:10:23.803767Z"
    },
    "papermill": {
     "duration": 0.026833,
     "end_time": "2025-03-13T16:10:23.805572",
     "exception": false,
     "start_time": "2025-03-13T16:10:23.778739",
     "status": "completed"
    },
    "tags": []
   },
   "outputs": [],
   "source": [
    "logger.remove()"
   ]
  }
 ],
 "metadata": {
  "kernelspec": {
   "display_name": "deep_learning_pytorch",
   "language": "python",
   "name": "python3"
  },
  "language_info": {
   "codemirror_mode": {
    "name": "ipython",
    "version": 3
   },
   "file_extension": ".py",
   "mimetype": "text/x-python",
   "name": "python",
   "nbconvert_exporter": "python",
   "pygments_lexer": "ipython3",
   "version": "3.11.9"
  },
  "papermill": {
   "default_parameters": {},
   "duration": 784.730079,
   "end_time": "2025-03-13T16:10:24.369719",
   "environment_variables": {},
   "exception": null,
   "input_path": "c:\\Users\\81809\\Documents\\ALL_CODE\\kaggle\\March Machine Learning Mania 2025\\notebook\\1stplace_solution_2023.ipynb",
   "output_path": "exp056_20250314_005719.ipynb",
   "parameters": {
    "EXP_NUM": "exp056"
   },
   "start_time": "2025-03-13T15:57:19.639640",
   "version": "2.6.0"
  }
 },
 "nbformat": 4,
 "nbformat_minor": 5
}