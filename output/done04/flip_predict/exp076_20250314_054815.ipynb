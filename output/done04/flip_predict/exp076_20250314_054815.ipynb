{
 "cells": [
  {
   "cell_type": "code",
   "execution_count": 1,
   "id": "261aeaa9",
   "metadata": {
    "execution": {
     "iopub.execute_input": "2025-03-13T20:48:17.236083Z",
     "iopub.status.busy": "2025-03-13T20:48:17.236083Z",
     "iopub.status.idle": "2025-03-13T20:48:17.255122Z",
     "shell.execute_reply": "2025-03-13T20:48:17.254114Z"
    },
    "papermill": {
     "duration": 0.021075,
     "end_time": "2025-03-13T20:48:17.257158",
     "exception": false,
     "start_time": "2025-03-13T20:48:17.236083",
     "status": "completed"
    },
    "tags": [
     "parameters"
    ]
   },
   "outputs": [],
   "source": [
    "# Parameters\n",
    "EXP_NUM = \"default\""
   ]
  },
  {
   "cell_type": "code",
   "execution_count": 2,
   "id": "107239d5",
   "metadata": {
    "execution": {
     "iopub.execute_input": "2025-03-13T20:48:17.270273Z",
     "iopub.status.busy": "2025-03-13T20:48:17.270273Z",
     "iopub.status.idle": "2025-03-13T20:48:17.274328Z",
     "shell.execute_reply": "2025-03-13T20:48:17.274328Z"
    },
    "papermill": {
     "duration": 0.016366,
     "end_time": "2025-03-13T20:48:17.274328",
     "exception": false,
     "start_time": "2025-03-13T20:48:17.257962",
     "status": "completed"
    },
    "tags": [
     "injected-parameters"
    ]
   },
   "outputs": [],
   "source": [
    "# Parameters\n",
    "EXP_NUM = \"exp076\"\n"
   ]
  },
  {
   "cell_type": "markdown",
   "id": "20cdd4ac",
   "metadata": {
    "papermill": {
     "duration": 0.012719,
     "end_time": "2025-03-13T20:48:17.287047",
     "exception": false,
     "start_time": "2025-03-13T20:48:17.274328",
     "status": "completed"
    },
    "tags": []
   },
   "source": [
    "# 2023 1st place solution\n",
    "[kaggle notebook](https://www.kaggle.com/code/rustyb/paris-madness-2023#Load-the-data!)"
   ]
  },
  {
   "cell_type": "markdown",
   "id": "364e318c",
   "metadata": {
    "papermill": {
     "duration": 0.013951,
     "end_time": "2025-03-13T20:48:17.300998",
     "exception": false,
     "start_time": "2025-03-13T20:48:17.287047",
     "status": "completed"
    },
    "tags": []
   },
   "source": [
    "# コードの流れ\n",
    "1. hydraからハイパラ取得し、パスなどを設定\n",
    "\n",
    "    regular&tourney Detaile Result, Seedを使用し、tourneyを目的変数としてモデルを予測していく\n",
    "\n",
    "    regular_data->season_statistics->\n",
    "\n",
    "    以下の前処理をする\n",
    "\n",
    "2. データ２倍にかさまし\n",
    "3. regularに対して特徴量の追加\n",
    "    各チームごとに加えるもの\n",
    "   - EFFG: フィールドゴール成功率\n",
    "   - EFFG3: フィールドゴール3p成功率\n",
    "   - DARE: フィールドゴールにおける3P率\n",
    "   - \"win\"を目的変数とする(Team, Season)のロジスティック回帰した各係数\n",
    "    対戦カードごとに加える特徴量\n",
    "    - PointDiff: ポイント差\n",
    "    - win: 1 if PointDiff>0 else 0\n",
    "4. (Team, Season)ごとに特徴量season_statixtics追加\n",
    "    - win_ratio_14d\n",
    "    - box score mean\n",
    "    - quality\n",
    "    - seed\n",
    "5. season_average.enabled=trueなら直近３シーズンの加重平均の処理加える\n",
    "6. tourneyをteamID, Season, score(y)のみ取り出してこれに対してseason_statisticsの結合と特徴量微調整\n",
    "   - seed->seeddiff\n",
    "   - fillna()\n",
    "\n",
    "7. モデル構築\n",
    "8. KFOLD->OOF予測->spline曲線求めてlogloss算出\n",
    "    - KFOLDによる交差検証（CV）\n",
    "        repeat_cv 回のループで、各反復ごとにKFold（folds_splits個）によりデータを分割し、XGBoostのCVを実行しています。\n",
    "        各foldでの結果（例えば、訓練MAE、検証MAEの平均値や標準偏差）がcv_resultとして得られ、それをxgb_cvリストに格納します。\n",
    "        この段階で重要なのは、各反復での検証用MAEの平均値 (test-mae-mean) の最小値と、そのときのブーストラウンド数です。\n",
    "        それらは後で、最適なイテレーション数 (iteration_counts) として計算され、val_mae にも格納されます。\n",
    "    - OOF予測の流れ\n",
    "\n",
    "        各反復ごとに、新たなKFoldを用いてデータを分割。\n",
    "        各foldごとに、学習データでモデルを訓練し、検証データに対して予測を実施。\n",
    "        すべてのfold分の予測結果を1つの予測配列にまとめ、最後に -30～30 の範囲にクリップしています。\n",
    "        重要な結果\n",
    "\n",
    "        OOF予測結果（oof_preds）自体は後段で別途評価指標に使用できるほか、各反復ごとの予測精度や誤差を算出する際の基礎データ\n",
    "9.  提出フェーズ\n",
    "    - 最適paramで全データ使って訓練\n",
    "    - 提出試合の予測"
   ]
  },
  {
   "cell_type": "markdown",
   "id": "a3f4fc20",
   "metadata": {
    "papermill": {
     "duration": 0.0,
     "end_time": "2025-03-13T20:48:17.303063",
     "exception": false,
     "start_time": "2025-03-13T20:48:17.303063",
     "status": "completed"
    },
    "tags": []
   },
   "source": [
    "memo\n",
    "\n",
    "欠損値が発生していいのか検討して保管について考える\n",
    "seedがかけているのはregularに対してseedを与えているから大丈夫。最終的なtourneyには欠損０で追加できているから問題ない"
   ]
  },
  {
   "cell_type": "code",
   "execution_count": 3,
   "id": "14af89f4",
   "metadata": {
    "execution": {
     "iopub.execute_input": "2025-03-13T20:48:17.318298Z",
     "iopub.status.busy": "2025-03-13T20:48:17.318298Z",
     "iopub.status.idle": "2025-03-13T20:48:19.463638Z",
     "shell.execute_reply": "2025-03-13T20:48:19.463638Z"
    },
    "papermill": {
     "duration": 2.147147,
     "end_time": "2025-03-13T20:48:19.465445",
     "exception": false,
     "start_time": "2025-03-13T20:48:17.318298",
     "status": "completed"
    },
    "tags": []
   },
   "outputs": [
    {
     "name": "stderr",
     "output_type": "stream",
     "text": [
      "C:\\Users\\81809\\anaconda3\\envs\\deep_learning_pytorch\\Lib\\site-packages\\tqdm\\auto.py:21: TqdmWarning: IProgress not found. Please update jupyter and ipywidgets. See https://ipywidgets.readthedocs.io/en/stable/user_install.html\n",
      "  from .autonotebook import tqdm as notebook_tqdm\n"
     ]
    },
    {
     "name": "stdout",
     "output_type": "stream",
     "text": [
      "exp076\n",
      "Omega conf is below\n",
      "dir:\n",
      "  input_dir: ../input\n",
      "  output_dir: ../output\n",
      "  src_path: ../src\n",
      "  conf_path: ../conf\n",
      "exp:\n",
      "  name: flip_predict\n",
      "  print_name: flip predit\n",
      "  tournament:\n",
      "    use_start_season: 1985\n",
      "    target_season: 2019\n",
      "  features:\n",
      "    cal_mean_boxscore:\n",
      "      T1_Score: true\n",
      "      T2_Score: true\n",
      "      PointDiff: true\n",
      "      T1_FGM: true\n",
      "      T2_FGM: true\n",
      "      T1_FGA: true\n",
      "      T2_FGA: true\n",
      "      T1_FGM3: true\n",
      "      T2_FGM3: true\n",
      "      T1_FGA3: true\n",
      "      T2_FGA3: true\n",
      "      T1_FTM: true\n",
      "      T2_FTM: true\n",
      "      T1_FTA: true\n",
      "      T2_FTA: true\n",
      "      T1_EFFG: false\n",
      "      T2_EFFG: false\n",
      "      T1_EFFG3: false\n",
      "      T2_EFFG3: false\n",
      "      T1_EFG_SUM: true\n",
      "      T2_EFG_SUM: true\n",
      "      T1_TO_RATIO: true\n",
      "      T2_TO_RATIO: true\n",
      "      T1_OR: true\n",
      "      T2_OR: true\n",
      "      T1_DR: true\n",
      "      T2_DR: true\n",
      "      T1_REB_RATE: true\n",
      "      T2_REB_RATE: true\n",
      "      T1_FT_RATE: true\n",
      "      T2_FT_RATE: true\n",
      "      T1_RATING: false\n",
      "      T2_RATING: false\n",
      "      T1_POSS_RATE: true\n",
      "      T2_POSS_RATE: true\n",
      "      T1_Ast: true\n",
      "      T2_Ast: true\n",
      "      T1_TO: true\n",
      "      T2_TO: true\n",
      "      T1_Stl: true\n",
      "      T2_Stl: true\n",
      "      T1_Blk: true\n",
      "      T2_Blk: true\n",
      "      T1_PF: true\n",
      "      T2_PF: true\n",
      "      T1_DARE: false\n",
      "      T2_DARE: false\n",
      "      T1_TOQUETOQUE: false\n",
      "      T2_TOQUETOQUE: false\n",
      "    rank_diff: true\n",
      "    start_quality_season: 2003\n",
      "    dropfeatures: null\n",
      "    season_average:\n",
      "      enabled: false\n",
      "      past_years: 3\n",
      "      weights:\n",
      "      - 1\n",
      "      - 2\n",
      "      - 3\n",
      "    fillna:\n",
      "      quality: 'nan'\n",
      "  model:\n",
      "    repeat_cv: 10\n",
      "    optuna_enabled: false\n",
      "    test_reverse: true\n",
      "    xgb_model:\n",
      "      param:\n",
      "        eval_metric: rmse\n",
      "        booster: gbtree\n",
      "        eta: 0.02\n",
      "        subsample: 0.35\n",
      "        colsample_bytree: 0.7\n",
      "        num_parallel_tree: 10\n",
      "        min_child_weight: 40\n",
      "        gamma: 10\n",
      "        max_depth: 3\n",
      "      obj: cauchyoj\n",
      "      num_boost_round: 3000\n",
      "      folds_splits: 5\n",
      "      early_stopping_rounds: 25\n",
      "      optuna:\n",
      "        max_depth:\n",
      "        - 3\n",
      "        - 7\n",
      "        eta:\n",
      "        - 0.001\n",
      "        - 0.03\n",
      "        subsample:\n",
      "        - 0.2\n",
      "        - 0.5\n",
      "        colsample_bytree:\n",
      "        - 0.5\n",
      "        - 1.0\n",
      "        num_parallel_tree:\n",
      "        - 7\n",
      "        - 12\n",
      "        min_child_weight:\n",
      "        - 30\n",
      "        - 50\n",
      "        reg_alpha:\n",
      "        - 0.0\n",
      "        - 1.0\n",
      "        reg_lambda:\n",
      "        - 0.0\n",
      "        - 1.0\n",
      "        gamma:\n",
      "        - 0\n",
      "        - 10\n",
      "        n_trials: 1000\n",
      "        timeout: 28800\n",
      "        n_jobs: -1\n",
      "        n_warmup_steps: 3\n",
      "    spline: logistic\n",
      "  hand_labeling: null\n",
      "\n"
     ]
    }
   ],
   "source": [
    "\n",
    "import os\n",
    "import sys\n",
    "from pathlib import Path\n",
    "import collections\n",
    "from datetime import datetime\n",
    "import shutil\n",
    "import yaml\n",
    "from tqdm import tqdm\n",
    "import time\n",
    "import optuna\n",
    "from loguru import logger\n",
    "import collections\n",
    "\n",
    "from hydra import initialize, initialize_config_module, initialize_config_dir, compose\n",
    "from omegaconf import OmegaConf\n",
    "\n",
    "import numpy as np\n",
    "import pandas as pd\n",
    "import matplotlib.pyplot as plt\n",
    "import seaborn as sns\n",
    "from scipy.interpolate import UnivariateSpline\n",
    "\n",
    "import xgboost as xgb\n",
    "from xgboost import XGBRegressor\n",
    "from sklearn.model_selection import KFold\n",
    "from sklearn.calibration import calibration_curve\n",
    "from sklearn.metrics import log_loss,mean_squared_error, mean_absolute_error, roc_auc_score, average_precision_score\n",
    "from sklearn.metrics import make_scorer\n",
    "from sklearn.model_selection import cross_val_score, KFold\n",
    "from sklearn.linear_model import LogisticRegression\n",
    "from sklearn.preprocessing import OneHotEncoder\n",
    "from sklearn.isotonic import IsotonicRegression\n",
    "\n",
    "import statsmodels.api as sm\n",
    "\n",
    "START_TIME = time.time()\n",
    "\n",
    "\n",
    "#####\n",
    "#EXP_NUM = \"test\"\n",
    "#####\n",
    "print(EXP_NUM)\n",
    "\n",
    "# hydraの初期設定と指定ハイパラの取得\n",
    "sys.path.append(os.path.abspath(\"/workspace\"))\n",
    "sys.path.append(\"C:\\\\Users\\\\81809\\\\Documents\\\\ALL_CODE\\\\kaggle\\\\March Machine Learning Mania 2025\")\n",
    "with initialize_config_module(version_base=None, config_module=\"conf\"):\n",
    "    cfg = compose(\n",
    "        config_name=\"base.yaml\",\n",
    "        overrides=[\n",
    "            f\"+exp={EXP_NUM}\" #defaultexp001->exp002のオーバーライド\n",
    "        ],\n",
    "    )\n",
    "    \n",
    "    OmegaConf.resolve(cfg)\n",
    "    print(\"Omega conf is below\")\n",
    "    print(OmegaConf.to_yaml(cfg))\n"
   ]
  },
  {
   "cell_type": "code",
   "execution_count": 4,
   "id": "58525636",
   "metadata": {
    "execution": {
     "iopub.execute_input": "2025-03-13T20:48:19.465445Z",
     "iopub.status.busy": "2025-03-13T20:48:19.465445Z",
     "iopub.status.idle": "2025-03-13T20:48:19.492119Z",
     "shell.execute_reply": "2025-03-13T20:48:19.491824Z"
    },
    "papermill": {
     "duration": 0.028695,
     "end_time": "2025-03-13T20:48:19.494140",
     "exception": false,
     "start_time": "2025-03-13T20:48:19.465445",
     "status": "completed"
    },
    "tags": []
   },
   "outputs": [
    {
     "name": "stdout",
     "output_type": "stream",
     "text": [
      "########\n",
      "output dir name: flip_predict\n",
      "Run on 2025-03-14 05:48:19.481141\n",
      "flip predit\n",
      "########\n"
     ]
    }
   ],
   "source": [
    "PREDICT_YEAR = cfg.exp.tournament.target_season\n",
    "name = f\"{cfg.exp.name}\"\n",
    "now = str(datetime.now())\n",
    "print(\"########\")\n",
    "print(f\"output dir name: {name}\")\n",
    "print(f\"Run on {now}\")\n",
    "print(cfg.exp.print_name)\n",
    "print(\"########\")\n",
    "\n",
    "BASE_DIR = os.path.abspath(os.path.join(os.getcwd(), \"..\"))\n",
    "CONF_PATH = os.path.join(BASE_DIR, \"conf\")\n",
    "INPUT_PATH = os.path.join(BASE_DIR, \"input\")\n",
    "EXP_PATH = os.path.join(CONF_PATH, \"exp\", f\"{EXP_NUM}.yaml\")\n",
    "OUTPUT_PATH = os.path.join(BASE_DIR, \"output\", name)\n",
    "SRC_PATH = cfg.dir.src_path\n",
    "sys.path.append(SRC_PATH)\n",
    "\n",
    "os.makedirs(OUTPUT_PATH, exist_ok=True)  \n",
    "with open(EXP_PATH, \"r\", encoding=\"utf-8\") as f:\n",
    "    config = yaml.safe_load(f)\n",
    "shutil.copyfile(EXP_PATH, os.path.join(OUTPUT_PATH, f\"{EXP_NUM}.yaml\"))\n",
    "\n",
    "\n",
    "y_season = cfg.exp.tournament.target_season\n",
    "FEATURES = cfg.exp.features\n",
    "MODEL = cfg.exp.model\n",
    "results = [\"\", f\"-----{PREDICT_YEAR}-----\", now ,name, cfg.exp.print_name,\"\"]"
   ]
  },
  {
   "cell_type": "code",
   "execution_count": 5,
   "id": "0d85e8c4",
   "metadata": {
    "execution": {
     "iopub.execute_input": "2025-03-13T20:48:19.501190Z",
     "iopub.status.busy": "2025-03-13T20:48:19.501190Z",
     "iopub.status.idle": "2025-03-13T20:48:20.974360Z",
     "shell.execute_reply": "2025-03-13T20:48:20.974360Z"
    },
    "papermill": {
     "duration": 1.475177,
     "end_time": "2025-03-13T20:48:20.976367",
     "exception": false,
     "start_time": "2025-03-13T20:48:19.501190",
     "status": "completed"
    },
    "tags": []
   },
   "outputs": [],
   "source": [
    "tourney_results = pd.concat([\n",
    "    pd.read_csv(os.path.join(INPUT_PATH,\"MNCAATourneyDetailedResults.csv\")),\n",
    "    pd.read_csv(os.path.join(INPUT_PATH,\"WNCAATourneyDetailedResults.csv\")),\n",
    "], ignore_index=True)\n",
    "\n",
    "seeds = pd.concat([\n",
    "    pd.read_csv(os.path.join(INPUT_PATH,\"MNCAATourneySeeds.csv\")),\n",
    "    pd.read_csv(os.path.join(INPUT_PATH,\"WNCAATourneySeeds.csv\")),\n",
    "], ignore_index=True)\n",
    "\n",
    "regular_results = pd.concat([\n",
    "    pd.read_csv(os.path.join(INPUT_PATH, \"MRegularSeasonDetailedResults.csv\")),\n",
    "    pd.read_csv(os.path.join(INPUT_PATH,\"WRegularSeasonDetailedResults.csv\")),\n",
    "], ignore_index=True)\n",
    "\n",
    "ordinal_rank = pd.read_csv(os.path.join(INPUT_PATH, \"MMasseyOrdinals.csv\"))\n",
    "\n",
    "# 1試合情報からWin,Lose反転させてデータ数２倍にかさまし and WLoc -> location(0 or -1 or 1)\n",
    "def prepare_data(df1):\n",
    "    df = df1.copy()\n",
    "    ### add new box score\n",
    "    #type1: normal EFG\n",
    "    df['WEFFG'] = df['WFGM'] / df['WFGA']\n",
    "    df['LEFFG'] = df['LFGM'] / df['LFGA']\n",
    "    #type2: 1stfeature EFG\n",
    "    df['WEFFG3'] = np.where(df['WFGA3'] == 0, 0, df['WFGM3'] / df['WFGA3'])\n",
    "    df['LEFFG3'] = np.where(df['LFGA3'] == 0, 0, df['LFGM3'] / df['LFGA3'])\n",
    "    df['WDARE'] = df['WFGM3'] / df['WFGM']\n",
    "    df['LDARE'] = df['LFGM3'] / df['LFGM']\n",
    "    df['WTOQUETOQUE'] = df['WAst'] / df['WFGM']\n",
    "    df['LTOQUETOQUE'] = df['LAst'] / df['LFGM']\n",
    "    #type3: OFF/DEF FGE\n",
    "    df[\"WEFG_SUM\"] = (df[\"WFGM\"]+0.5*df[\"WFGM3\"])/df[\"WFGA\"]\n",
    "    df[\"LEFG_SUM\"] = (df[\"LFGM\"]+0.5*df[\"LFGM3\"])/df[\"LFGA\"]\n",
    "\n",
    "    #POSS RATE\n",
    "    df[\"WPOSS\"] = df[\"WFGA\"] + 0.44*df[\"WFTA\"] - df[\"WOR\"] + df[\"WTO\"]\n",
    "    df[\"LPOSS\"] = df[\"LFGA\"] + 0.44*df[\"LFTA\"] - df[\"LOR\"] + df[\"LTO\"]\n",
    "    df[\"WPOSS_RATE\"] = df[\"WPOSS\"]/(df[\"WPOSS\"]+df[\"LPOSS\"])\n",
    "    df[\"LPOSS_RATE\"] = df[\"LPOSS\"]/(df[\"WPOSS\"]+df[\"LPOSS\"])\n",
    "    \n",
    "    #TO Ratio \n",
    "    df[\"WTO_RATIO\"] = df[\"WTO\"]/(df[\"WFGA\"]+0.44*df[\"WFTA\"]+df[\"WTO\"])#POSS RATEと違ってOR入っていない\n",
    "    df[\"LTO_RATIO\"] = df[\"LTO\"]/(df[\"LFGA\"]+0.44*df[\"LFTA\"]+df[\"LTO\"])\n",
    "    \n",
    "    # REB%\n",
    "    df[\"WREB_RATE\"] = df[\"WOR\"]/(df[\"WOR\"]+df[\"LDR\"])\n",
    "    df[\"LREB_RATE\"] = df[\"LOR\"]/(df[\"LOR\"]+df[\"WDR\"])\n",
    "    \n",
    "    #FT %\n",
    "    df[\"WFT_RATE\"] = df[\"WFTA\"]/df[\"WFGA\"]\n",
    "    df[\"LFT_RATE\"] = df[\"LFTA\"]/df[\"LFGA\"]\n",
    "    \n",
    "    #rating\n",
    "    df[\"WRATING\"] = df[\"WScore\"]/df[\"WPOSS\"]\n",
    "    df[\"LRATING\"] = df[\"LScore\"]/df[\"LPOSS\"]\n",
    "        \n",
    "    #0除算補完\n",
    "    print(df.info())\n",
    "        \n",
    "    #かさましに伴う反転カラム\n",
    "    dfswap = df.copy()\n",
    "    # Home, Away変換して反転\n",
    "    dfswap.loc[df['WLoc'] == 'H', 'WLoc'] = 'A'\n",
    "    dfswap.loc[df['WLoc'] == 'A', 'WLoc'] = 'H'\n",
    "    df.columns.values[6] = 'location'\n",
    "    dfswap.columns.values[6] = 'location'    \n",
    "    #反転\n",
    "    df.columns = [x.replace('W','T1_').replace('L','T2_') for x in list(df.columns)]\n",
    "    dfswap.columns = [x.replace('L','T1_').replace('W','T2_') for x in list(dfswap.columns)]\n",
    "    output = pd.concat([df, dfswap]).reset_index(drop=True)\n",
    "    \n",
    "    \n",
    "    #add new feature\n",
    "    #locationを数値に変換\n",
    "    output.loc[output.location=='N','location'] = '0'\n",
    "    output.loc[output.location=='H','location'] = '1'\n",
    "    output.loc[output.location=='A','location'] = '-1'\n",
    "    output.location = output.location.astype(int)\n",
    "    \n",
    "    #add PointDiff&win\n",
    "    output['PointDiff'] = output['T1_Score'] - output['T2_Score']\n",
    "    output[\"win\"] = np.where(output['PointDiff']>0,1,0)\n",
    "    \n",
    "    \n",
    "    print(f\"feature cols after prepare()\")\n",
    "    print(output.columns)\n",
    "    return output\n",
    "\n"
   ]
  },
  {
   "cell_type": "code",
   "execution_count": 6,
   "id": "e085ac30",
   "metadata": {
    "execution": {
     "iopub.execute_input": "2025-03-13T20:48:20.988561Z",
     "iopub.status.busy": "2025-03-13T20:48:20.988561Z",
     "iopub.status.idle": "2025-03-13T20:48:21.047192Z",
     "shell.execute_reply": "2025-03-13T20:48:21.047192Z"
    },
    "papermill": {
     "duration": 0.064806,
     "end_time": "2025-03-13T20:48:21.047192",
     "exception": false,
     "start_time": "2025-03-13T20:48:20.982386",
     "status": "completed"
    },
    "tags": []
   },
   "outputs": [
    {
     "name": "stdout",
     "output_type": "stream",
     "text": [
      "各カラムの異常値の個数を表示します。\n",
      "\n"
     ]
    }
   ],
   "source": [
    "import numpy as np\n",
    "\n",
    "# 異常値のチェック\n",
    "def check_abnormal_values(df):\n",
    "    print(\"各カラムの異常値の個数を表示します。\\n\")\n",
    "\n",
    "    for col in df.columns:\n",
    "        nan_count = df[col].isna().sum()  # NaN の数\n",
    "        inf_count = (df[col] == np.inf).sum()  # inf の数\n",
    "        neg_inf_count = (df[col] == -np.inf).sum()  # -inf の数\n",
    "\n",
    "        if nan_count > 0 or inf_count > 0 or neg_inf_count > 0:\n",
    "            print(f\"Column: {col}\")\n",
    "            print(f\"  NaN    : {nan_count}\")\n",
    "            print(f\"  Inf    : {inf_count}\")\n",
    "            print(f\"  -Inf   : {neg_inf_count}\")\n",
    "            print(\"-\" * 30)\n",
    "\n",
    "# 関数を実行\n",
    "check_abnormal_values(regular_results)\n"
   ]
  },
  {
   "cell_type": "code",
   "execution_count": 7,
   "id": "c3fc9058",
   "metadata": {
    "execution": {
     "iopub.execute_input": "2025-03-13T20:48:21.051675Z",
     "iopub.status.busy": "2025-03-13T20:48:21.051675Z",
     "iopub.status.idle": "2025-03-13T20:48:21.452317Z",
     "shell.execute_reply": "2025-03-13T20:48:21.452317Z"
    },
    "papermill": {
     "duration": 0.401704,
     "end_time": "2025-03-13T20:48:21.453379",
     "exception": false,
     "start_time": "2025-03-13T20:48:21.051675",
     "status": "completed"
    },
    "tags": []
   },
   "outputs": [
    {
     "name": "stdout",
     "output_type": "stream",
     "text": [
      "<class 'pandas.core.frame.DataFrame'>\n",
      "Index: 139193 entries, 0 to 170137\n",
      "Data columns (total 56 columns):\n",
      " #   Column       Non-Null Count   Dtype  \n",
      "---  ------       --------------   -----  \n",
      " 0   Season       139193 non-null  int64  \n",
      " 1   DayNum       139193 non-null  int64  \n",
      " 2   WTeamID      139193 non-null  int64  \n",
      " 3   WScore       139193 non-null  int64  \n",
      " 4   LTeamID      139193 non-null  int64  \n",
      " 5   LScore       139193 non-null  int64  \n",
      " 6   WLoc         139193 non-null  object \n",
      " 7   NumOT        139193 non-null  int64  \n",
      " 8   WFGM         139193 non-null  int64  \n",
      " 9   WFGA         139193 non-null  int64  \n",
      " 10  WFGM3        139193 non-null  int64  \n",
      " 11  WFGA3        139193 non-null  int64  \n",
      " 12  WFTM         139193 non-null  int64  \n",
      " 13  WFTA         139193 non-null  int64  \n",
      " 14  WOR          139193 non-null  int64  \n",
      " 15  WDR          139193 non-null  int64  \n",
      " 16  WAst         139193 non-null  int64  \n",
      " 17  WTO          139193 non-null  int64  \n",
      " 18  WStl         139193 non-null  int64  \n",
      " 19  WBlk         139193 non-null  int64  \n",
      " 20  WPF          139193 non-null  int64  \n",
      " 21  LFGM         139193 non-null  int64  \n",
      " 22  LFGA         139193 non-null  int64  \n",
      " 23  LFGM3        139193 non-null  int64  \n",
      " 24  LFGA3        139193 non-null  int64  \n",
      " 25  LFTM         139193 non-null  int64  \n",
      " 26  LFTA         139193 non-null  int64  \n",
      " 27  LOR          139193 non-null  int64  \n",
      " 28  LDR          139193 non-null  int64  \n",
      " 29  LAst         139193 non-null  int64  \n",
      " 30  LTO          139193 non-null  int64  \n",
      " 31  LStl         139193 non-null  int64  \n",
      " 32  LBlk         139193 non-null  int64  \n",
      " 33  LPF          139193 non-null  int64  \n",
      " 34  WEFFG        139193 non-null  float64\n",
      " 35  LEFFG        139193 non-null  float64\n",
      " 36  WEFFG3       139193 non-null  float64\n",
      " 37  LEFFG3       139193 non-null  float64\n",
      " 38  WDARE        139193 non-null  float64\n",
      " 39  LDARE        139193 non-null  float64\n",
      " 40  WTOQUETOQUE  139193 non-null  float64\n",
      " 41  LTOQUETOQUE  139193 non-null  float64\n",
      " 42  WEFG_SUM     139193 non-null  float64\n",
      " 43  LEFG_SUM     139193 non-null  float64\n",
      " 44  WPOSS        139193 non-null  float64\n",
      " 45  LPOSS        139193 non-null  float64\n",
      " 46  WPOSS_RATE   139193 non-null  float64\n",
      " 47  LPOSS_RATE   139193 non-null  float64\n",
      " 48  WTO_RATIO    139193 non-null  float64\n",
      " 49  LTO_RATIO    139193 non-null  float64\n",
      " 50  WREB_RATE    139193 non-null  float64\n",
      " 51  LREB_RATE    139193 non-null  float64\n",
      " 52  WFT_RATE     139193 non-null  float64\n",
      " 53  LFT_RATE     139193 non-null  float64\n",
      " 54  WRATING      139193 non-null  float64\n",
      " 55  LRATING      139193 non-null  float64\n",
      "dtypes: float64(22), int64(33), object(1)\n",
      "memory usage: 60.5+ MB\n",
      "None\n"
     ]
    },
    {
     "name": "stdout",
     "output_type": "stream",
     "text": [
      "feature cols after prepare()\n",
      "Index(['Season', 'DayNum', 'T1_TeamID', 'T1_Score', 'T2_TeamID', 'T2_Score',\n",
      "       'location', 'NumOT', 'T1_FGM', 'T1_FGA', 'T1_FGM3', 'T1_FGA3', 'T1_FTM',\n",
      "       'T1_FTA', 'T1_OR', 'T1_DR', 'T1_Ast', 'T1_TO', 'T1_Stl', 'T1_Blk',\n",
      "       'T1_PF', 'T2_FGM', 'T2_FGA', 'T2_FGM3', 'T2_FGA3', 'T2_FTM', 'T2_FTA',\n",
      "       'T2_OR', 'T2_DR', 'T2_Ast', 'T2_TO', 'T2_Stl', 'T2_Blk', 'T2_PF',\n",
      "       'T1_EFFG', 'T2_EFFG', 'T1_EFFG3', 'T2_EFFG3', 'T1_DARE', 'T2_DARE',\n",
      "       'T1_TOQUETOQUE', 'T2_TOQUETOQUE', 'T1_EFG_SUM', 'T2_EFG_SUM', 'T1_POSS',\n",
      "       'T2_POSS', 'T1_POSS_RATE', 'T2_POSS_RATE', 'T1_TO_RATIO', 'T2_TO_RATIO',\n",
      "       'T1_REB_RATE', 'T2_REB_RATE', 'T1_FT_RATE', 'T2_FT_RATE', 'T1_RATING',\n",
      "       'T2_RATING', 'PointDiff', 'win'],\n",
      "      dtype='object')\n",
      "<class 'pandas.core.frame.DataFrame'>\n",
      "RangeIndex: 278386 entries, 0 to 278385\n",
      "Data columns (total 58 columns):\n",
      " #   Column         Non-Null Count   Dtype  \n",
      "---  ------         --------------   -----  \n",
      " 0   Season         278386 non-null  int64  \n",
      " 1   DayNum         278386 non-null  int64  \n",
      " 2   T1_TeamID      278386 non-null  int64  \n",
      " 3   T1_Score       278386 non-null  int64  \n",
      " 4   T2_TeamID      278386 non-null  int64  \n",
      " 5   T2_Score       278386 non-null  int64  \n",
      " 6   location       278386 non-null  int32  \n",
      " 7   NumOT          278386 non-null  int64  \n",
      " 8   T1_FGM         278386 non-null  int64  \n",
      " 9   T1_FGA         278386 non-null  int64  \n",
      " 10  T1_FGM3        278386 non-null  int64  \n",
      " 11  T1_FGA3        278386 non-null  int64  \n",
      " 12  T1_FTM         278386 non-null  int64  \n",
      " 13  T1_FTA         278386 non-null  int64  \n",
      " 14  T1_OR          278386 non-null  int64  \n",
      " 15  T1_DR          278386 non-null  int64  \n",
      " 16  T1_Ast         278386 non-null  int64  \n",
      " 17  T1_TO          278386 non-null  int64  \n",
      " 18  T1_Stl         278386 non-null  int64  \n",
      " 19  T1_Blk         278386 non-null  int64  \n",
      " 20  T1_PF          278386 non-null  int64  \n",
      " 21  T2_FGM         278386 non-null  int64  \n",
      " 22  T2_FGA         278386 non-null  int64  \n",
      " 23  T2_FGM3        278386 non-null  int64  \n",
      " 24  T2_FGA3        278386 non-null  int64  \n",
      " 25  T2_FTM         278386 non-null  int64  \n",
      " 26  T2_FTA         278386 non-null  int64  \n",
      " 27  T2_OR          278386 non-null  int64  \n",
      " 28  T2_DR          278386 non-null  int64  \n",
      " 29  T2_Ast         278386 non-null  int64  \n",
      " 30  T2_TO          278386 non-null  int64  \n",
      " 31  T2_Stl         278386 non-null  int64  \n",
      " 32  T2_Blk         278386 non-null  int64  \n",
      " 33  T2_PF          278386 non-null  int64  \n",
      " 34  T1_EFFG        278386 non-null  float64\n",
      " 35  T2_EFFG        278386 non-null  float64\n",
      " 36  T1_EFFG3       278386 non-null  float64\n",
      " 37  T2_EFFG3       278386 non-null  float64\n",
      " 38  T1_DARE        278386 non-null  float64\n",
      " 39  T2_DARE        278386 non-null  float64\n",
      " 40  T1_TOQUETOQUE  278386 non-null  float64\n",
      " 41  T2_TOQUETOQUE  278386 non-null  float64\n",
      " 42  T1_EFG_SUM     278386 non-null  float64\n",
      " 43  T2_EFG_SUM     278386 non-null  float64\n",
      " 44  T1_POSS        278386 non-null  float64\n",
      " 45  T2_POSS        278386 non-null  float64\n",
      " 46  T1_POSS_RATE   278386 non-null  float64\n",
      " 47  T2_POSS_RATE   278386 non-null  float64\n",
      " 48  T1_TO_RATIO    278386 non-null  float64\n",
      " 49  T2_TO_RATIO    278386 non-null  float64\n",
      " 50  T1_REB_RATE    278386 non-null  float64\n",
      " 51  T2_REB_RATE    278386 non-null  float64\n",
      " 52  T1_FT_RATE     278386 non-null  float64\n",
      " 53  T2_FT_RATE     278386 non-null  float64\n",
      " 54  T1_RATING      278386 non-null  float64\n",
      " 55  T2_RATING      278386 non-null  float64\n",
      " 56  PointDiff      278386 non-null  int64  \n",
      " 57  win            278386 non-null  int32  \n",
      "dtypes: float64(22), int32(2), int64(34)\n",
      "memory usage: 121.1 MB\n"
     ]
    },
    {
     "data": {
      "text/html": [
       "<div>\n",
       "<style scoped>\n",
       "    .dataframe tbody tr th:only-of-type {\n",
       "        vertical-align: middle;\n",
       "    }\n",
       "\n",
       "    .dataframe tbody tr th {\n",
       "        vertical-align: top;\n",
       "    }\n",
       "\n",
       "    .dataframe thead th {\n",
       "        text-align: right;\n",
       "    }\n",
       "</style>\n",
       "<table border=\"1\" class=\"dataframe\">\n",
       "  <thead>\n",
       "    <tr style=\"text-align: right;\">\n",
       "      <th></th>\n",
       "      <th>Season</th>\n",
       "      <th>DayNum</th>\n",
       "      <th>T1_TeamID</th>\n",
       "      <th>T1_Score</th>\n",
       "      <th>T2_TeamID</th>\n",
       "      <th>T2_Score</th>\n",
       "      <th>location</th>\n",
       "      <th>NumOT</th>\n",
       "      <th>T1_FGM</th>\n",
       "      <th>T1_FGA</th>\n",
       "      <th>...</th>\n",
       "      <th>T1_TO_RATIO</th>\n",
       "      <th>T2_TO_RATIO</th>\n",
       "      <th>T1_REB_RATE</th>\n",
       "      <th>T2_REB_RATE</th>\n",
       "      <th>T1_FT_RATE</th>\n",
       "      <th>T2_FT_RATE</th>\n",
       "      <th>T1_RATING</th>\n",
       "      <th>T2_RATING</th>\n",
       "      <th>PointDiff</th>\n",
       "      <th>win</th>\n",
       "    </tr>\n",
       "  </thead>\n",
       "  <tbody>\n",
       "    <tr>\n",
       "      <th>0</th>\n",
       "      <td>2003</td>\n",
       "      <td>10</td>\n",
       "      <td>1104</td>\n",
       "      <td>68</td>\n",
       "      <td>1328</td>\n",
       "      <td>62</td>\n",
       "      <td>0</td>\n",
       "      <td>0</td>\n",
       "      <td>27</td>\n",
       "      <td>58</td>\n",
       "      <td>...</td>\n",
       "      <td>0.258659</td>\n",
       "      <td>0.223104</td>\n",
       "      <td>0.388889</td>\n",
       "      <td>0.294118</td>\n",
       "      <td>0.310345</td>\n",
       "      <td>0.415094</td>\n",
       "      <td>0.907635</td>\n",
       "      <td>0.877193</td>\n",
       "      <td>6</td>\n",
       "      <td>1</td>\n",
       "    </tr>\n",
       "    <tr>\n",
       "      <th>1</th>\n",
       "      <td>2003</td>\n",
       "      <td>10</td>\n",
       "      <td>1272</td>\n",
       "      <td>70</td>\n",
       "      <td>1393</td>\n",
       "      <td>63</td>\n",
       "      <td>0</td>\n",
       "      <td>0</td>\n",
       "      <td>26</td>\n",
       "      <td>62</td>\n",
       "      <td>...</td>\n",
       "      <td>0.155950</td>\n",
       "      <td>0.136674</td>\n",
       "      <td>0.375000</td>\n",
       "      <td>0.416667</td>\n",
       "      <td>0.306452</td>\n",
       "      <td>0.298507</td>\n",
       "      <td>1.023991</td>\n",
       "      <td>0.929204</td>\n",
       "      <td>7</td>\n",
       "      <td>1</td>\n",
       "    </tr>\n",
       "    <tr>\n",
       "      <th>2</th>\n",
       "      <td>2003</td>\n",
       "      <td>11</td>\n",
       "      <td>1266</td>\n",
       "      <td>73</td>\n",
       "      <td>1437</td>\n",
       "      <td>61</td>\n",
       "      <td>0</td>\n",
       "      <td>0</td>\n",
       "      <td>24</td>\n",
       "      <td>58</td>\n",
       "      <td>...</td>\n",
       "      <td>0.123824</td>\n",
       "      <td>0.126156</td>\n",
       "      <td>0.435897</td>\n",
       "      <td>0.543860</td>\n",
       "      <td>0.500000</td>\n",
       "      <td>0.315068</td>\n",
       "      <td>1.144918</td>\n",
       "      <td>0.951341</td>\n",
       "      <td>12</td>\n",
       "      <td>1</td>\n",
       "    </tr>\n",
       "    <tr>\n",
       "      <th>3</th>\n",
       "      <td>2003</td>\n",
       "      <td>11</td>\n",
       "      <td>1296</td>\n",
       "      <td>56</td>\n",
       "      <td>1457</td>\n",
       "      <td>50</td>\n",
       "      <td>0</td>\n",
       "      <td>0</td>\n",
       "      <td>18</td>\n",
       "      <td>38</td>\n",
       "      <td>...</td>\n",
       "      <td>0.188561</td>\n",
       "      <td>0.254692</td>\n",
       "      <td>0.230769</td>\n",
       "      <td>0.472222</td>\n",
       "      <td>0.815789</td>\n",
       "      <td>0.306122</td>\n",
       "      <td>0.971548</td>\n",
       "      <td>0.868056</td>\n",
       "      <td>6</td>\n",
       "      <td>1</td>\n",
       "    </tr>\n",
       "    <tr>\n",
       "      <th>4</th>\n",
       "      <td>2003</td>\n",
       "      <td>11</td>\n",
       "      <td>1400</td>\n",
       "      <td>77</td>\n",
       "      <td>1208</td>\n",
       "      <td>71</td>\n",
       "      <td>0</td>\n",
       "      <td>0</td>\n",
       "      <td>30</td>\n",
       "      <td>61</td>\n",
       "      <td>...</td>\n",
       "      <td>0.173439</td>\n",
       "      <td>0.119218</td>\n",
       "      <td>0.531250</td>\n",
       "      <td>0.488372</td>\n",
       "      <td>0.213115</td>\n",
       "      <td>0.435484</td>\n",
       "      <td>1.208412</td>\n",
       "      <td>1.129135</td>\n",
       "      <td>6</td>\n",
       "      <td>1</td>\n",
       "    </tr>\n",
       "  </tbody>\n",
       "</table>\n",
       "<p>5 rows × 58 columns</p>\n",
       "</div>"
      ],
      "text/plain": [
       "   Season  DayNum  T1_TeamID  T1_Score  T2_TeamID  T2_Score  location  NumOT  \\\n",
       "0    2003      10       1104        68       1328        62         0      0   \n",
       "1    2003      10       1272        70       1393        63         0      0   \n",
       "2    2003      11       1266        73       1437        61         0      0   \n",
       "3    2003      11       1296        56       1457        50         0      0   \n",
       "4    2003      11       1400        77       1208        71         0      0   \n",
       "\n",
       "   T1_FGM  T1_FGA  ...  T1_TO_RATIO  T2_TO_RATIO  T1_REB_RATE  T2_REB_RATE  \\\n",
       "0      27      58  ...     0.258659     0.223104     0.388889     0.294118   \n",
       "1      26      62  ...     0.155950     0.136674     0.375000     0.416667   \n",
       "2      24      58  ...     0.123824     0.126156     0.435897     0.543860   \n",
       "3      18      38  ...     0.188561     0.254692     0.230769     0.472222   \n",
       "4      30      61  ...     0.173439     0.119218     0.531250     0.488372   \n",
       "\n",
       "   T1_FT_RATE  T2_FT_RATE  T1_RATING  T2_RATING  PointDiff  win  \n",
       "0    0.310345    0.415094   0.907635   0.877193          6    1  \n",
       "1    0.306452    0.298507   1.023991   0.929204          7    1  \n",
       "2    0.500000    0.315068   1.144918   0.951341         12    1  \n",
       "3    0.815789    0.306122   0.971548   0.868056          6    1  \n",
       "4    0.213115    0.435484   1.208412   1.129135          6    1  \n",
       "\n",
       "[5 rows x 58 columns]"
      ]
     },
     "metadata": {},
     "output_type": "display_data"
    },
    {
     "data": {
      "text/plain": [
       "None"
      ]
     },
     "metadata": {},
     "output_type": "display_data"
    }
   ],
   "source": [
    "#予測する年以降の情報はフィルタリング\n",
    "USE_START_YEAR = cfg.exp.tournament.use_start_season\n",
    "notexist = tourney_results[tourney_results[\"Season\"] == PREDICT_YEAR]\n",
    "tourney_results = tourney_results[(tourney_results[\"Season\"] >= USE_START_YEAR) & (tourney_results[\"Season\"] < PREDICT_YEAR)]\n",
    "seeds = seeds[(seeds[\"Season\"] >= USE_START_YEAR) & (seeds[\"Season\"] <= PREDICT_YEAR)]\n",
    "regular_results = regular_results[(regular_results[\"Season\"] >= USE_START_YEAR) & (regular_results[\"Season\"] <= PREDICT_YEAR)]\n",
    "\n",
    "regular_data = prepare_data(regular_results)\n",
    "display(regular_data.head(), regular_data.info())"
   ]
  },
  {
   "cell_type": "code",
   "execution_count": 8,
   "id": "ab2dd5cf",
   "metadata": {
    "execution": {
     "iopub.execute_input": "2025-03-13T20:48:21.468918Z",
     "iopub.status.busy": "2025-03-13T20:48:21.468224Z",
     "iopub.status.idle": "2025-03-13T20:48:21.481368Z",
     "shell.execute_reply": "2025-03-13T20:48:21.481368Z"
    },
    "papermill": {
     "duration": 0.021,
     "end_time": "2025-03-13T20:48:21.481368",
     "exception": false,
     "start_time": "2025-03-13T20:48:21.460368",
     "status": "completed"
    },
    "tags": []
   },
   "outputs": [],
   "source": [
    "#使用特徴量(boxscore_cols)を取得してそれに対して(\"Season\", 'T1_TeamID')でまとめた特徴量の追加\n",
    "#### 1. win_ration_14d ####\n",
    "def add_win_ratio_14d(df):\n",
    "    df_filtered = df[df['DayNum'] > 118].copy()\n",
    "    df_filtered['Win'] = (df_filtered['PointDiff'] > 0).astype(int)\n",
    "    \n",
    "    win_ratio_t1 = df_filtered.groupby(['Season', 'T1_TeamID'])['Win'].mean().reset_index()\n",
    "    win_ratio_t1.rename(columns={'Win': 'T1_win_ratio_14d'}, inplace=True)\n",
    "    \n",
    "    win_ratio_t2 = df_filtered.groupby(['Season', 'T2_TeamID'])['Win'].mean().reset_index()\n",
    "    win_ratio_t2.rename(columns={'Win': 'T2_win_ratio_14d'}, inplace=True)\n",
    "    \n",
    "    df = df.merge(win_ratio_t1, on=['Season', 'T1_TeamID'], how='left')\n",
    "    df = df.merge(win_ratio_t2, on=['Season', 'T2_TeamID'], how='left')\n",
    "    \n",
    "    return df\n",
    "\n",
    "##### 2. add mean of boxscore ####\n",
    "def make_col_avg(df, boxscore, group = [\"Season\", \"T1_TeamID\"], func= [np.mean]):\n",
    "    df_stat = df.groupby(group)[boxscore].agg(func)\n",
    "    df_stat.columns = [''.join(col).strip() for col in df_stat.columns.values]\n",
    "    df_stat = df_stat.reset_index()\n",
    "\n",
    "    win_ratio_cols = ['T1_win_ratio_14d'] #ここマージの関係からT2_win_ratio_14dを外したけど大丈夫か考える\n",
    "    df_win_ratio = df[group + win_ratio_cols].drop_duplicates()\n",
    "    df_stat = df_stat.merge(df_win_ratio, on=group, how='left')\n",
    "    \n",
    "    return df_stat\n",
    "\n",
    "#### 3. add team quality ####\n",
    "# 3.0 ロジスティックを行うためのregular_season_effectsデータフレームの作成\n",
    "def make_regular_season_effects(df):\n",
    "    regular_season_effects = df[['Season', 'T1_TeamID', 'T2_TeamID', 'PointDiff']].copy()\n",
    "    regular_season_effects['win'] = np.where(regular_season_effects['PointDiff'] > 0, 1, 0)\n",
    "    return regular_season_effects\n",
    "\n",
    "# 3.1\n",
    "#各シーズンごとの総当たりに対するロジスティック回帰を行う\n",
    "#目的変数はfeatureenginneringから作成したPointDiffの正負に依存するWinとする.\n",
    "#新たな特徴量\"quarity\"をseasonごとの戦績をもとにロジスティックの回帰係数として導入している\n",
    "def team_quality(season,df):\n",
    "    season_data = df[df[\"Season\"] == season]\n",
    "    X = season_data[['T1_TeamID', 'T2_TeamID']]\n",
    "    y = season_data['win']\n",
    "    print(X.shape, y.shape)\n",
    "    encoder = OneHotEncoder(sparse_output=False) #多重共線性防止, 密行列指定\n",
    "    X_encoded = encoder.fit_transform(X)\n",
    "    \n",
    "    model = LogisticRegression(fit_intercept=False)\n",
    "    model.fit(X_encoded, y)\n",
    "    team_ids = encoder.get_feature_names_out(['T1_TeamID', 'T2_TeamID'])\n",
    "\n",
    "    \n",
    "    #quarity: (チーム数)*2(ID, 回帰係数)\n",
    "    quality = pd.DataFrame({\n",
    "        'TeamID': team_ids,\n",
    "        'quality': model.coef_.flatten() #T1_TeamID_1112,,,の形でチーム数分の回帰係数が入る\n",
    "    })\n",
    "\n",
    "    # 値をint 1112 のように整形\n",
    "    quality = quality[quality['TeamID'].str.contains('T1_TeamID')]\n",
    "    quality['TeamID'] = quality['TeamID'].str.replace('T1_TeamID_', '', regex=True).astype(int)\n",
    "    quality['Season'] = season\n",
    "\n",
    "    #display(quality.head())\n",
    "    print(f\"fin make {season}'s team quarity\")\n",
    "    return quality\n",
    "\n",
    "# 4. add seed\n",
    "def add_seed(df, seeds):\n",
    "    temp = seeds.copy()\n",
    "    temp['Seed'] = temp['Seed'].apply(lambda x: int(x[1:3]))\n",
    "    temp.columns = ['Season','T1_seed','T1_TeamID']\n",
    "    df = pd.merge(df, temp, on=[\"Season\", \"T1_TeamID\"], how=\"left\")\n",
    "    return df \n",
    "\n",
    "# 5. add Ordinal rank\n",
    "def add_ordinalrank(df, ordinal):\n",
    "    df_rank = ordinal.groupby([\"Season\", \"TeamID\"])[\"OrdinalRank\"].agg(np.mean).reset_index()\n",
    "    df_rank.head()\n",
    "    ranks = df_rank.rename(columns={'TeamID': 'T1_TeamID', 'OrdinalRank': 'T1_OrdinalRank'})\n",
    "    df = pd.merge(df,ranks,on = [\"Season\",\"T1_TeamID\"],how = \"left\")\n",
    "    return df\n",
    "\n",
    "# main \n",
    "def make_season_statistics(df, boxscore, seeds, func = [np.mean]):\n",
    "    # 1. Win Ratio の計算と追加\n",
    "    add_win = add_win_ratio_14d(df)\n",
    "    print(\"after add win ratio\")\n",
    "    print(add_win.columns)  \n",
    "    \n",
    "    #2. \n",
    "    add_mean = make_col_avg(add_win, boxscore)\n",
    "    print(\"after mean of boxscore\")\n",
    "    print(add_mean.columns)\n",
    "    \n",
    "    #3. \n",
    "    global PREDICT_YEAR, USE_START_YEAR\n",
    "    start_season = max(FEATURES.start_quality_season, USE_START_YEAR)\n",
    "    print(f\"use season for quality feature is: {start_season}\")\n",
    "    regular_season_effects = make_regular_season_effects(df)\n",
    "    glm_season = [i for i in range(start_season, PREDICT_YEAR+1)]\n",
    "\n",
    "    if 2020 in glm_season:\n",
    "        glm_season.remove(2020)\n",
    "    glm_quality = pd.concat([team_quality(season, regular_season_effects) for season in glm_season]).reset_index(drop=True)\n",
    "    # add glm quality \n",
    "    glm_quality_T1 = glm_quality.rename(columns={'TeamID': 'T1_TeamID', 'quality': 'T1_quality'})\n",
    "    add_glm = add_mean.merge(glm_quality_T1, on=['Season', 'T1_TeamID'], how='left')\n",
    "\n",
    "    print(\"add glm quality\")\n",
    "    print(add_glm.columns)\n",
    "    \n",
    "    #4. \n",
    "    add_seeds = add_seed(add_glm, seeds)\n",
    "    print(\"add seeds (final form)\")\n",
    "    print(add_seeds.columns)\n",
    "    \n",
    "    #5. \n",
    "    add_rank = add_ordinalrank(add_seeds, ordinal_rank)\n",
    "    print(\"add ordinal rank\")\n",
    "    print(add_rank.columns)  \n",
    "    return add_rank"
   ]
  },
  {
   "cell_type": "code",
   "execution_count": 9,
   "id": "01e6fc2f",
   "metadata": {
    "execution": {
     "iopub.execute_input": "2025-03-13T20:48:21.485168Z",
     "iopub.status.busy": "2025-03-13T20:48:21.485168Z",
     "iopub.status.idle": "2025-03-13T20:48:24.389561Z",
     "shell.execute_reply": "2025-03-13T20:48:24.389561Z"
    },
    "papermill": {
     "duration": 2.904393,
     "end_time": "2025-03-13T20:48:24.389561",
     "exception": false,
     "start_time": "2025-03-13T20:48:21.485168",
     "status": "completed"
    },
    "tags": []
   },
   "outputs": [
    {
     "name": "stdout",
     "output_type": "stream",
     "text": [
      "use boxscore col is\n",
      "['T1_Score', 'T2_Score', 'PointDiff', 'T1_FGM', 'T2_FGM', 'T1_FGA', 'T2_FGA', 'T1_FGM3', 'T2_FGM3', 'T1_FGA3', 'T2_FGA3', 'T1_FTM', 'T2_FTM', 'T1_FTA', 'T2_FTA', 'T1_EFG_SUM', 'T2_EFG_SUM', 'T1_TO_RATIO', 'T2_TO_RATIO', 'T1_OR', 'T2_OR', 'T1_DR', 'T2_DR', 'T1_REB_RATE', 'T2_REB_RATE', 'T1_FT_RATE', 'T2_FT_RATE', 'T1_POSS_RATE', 'T2_POSS_RATE', 'T1_Ast', 'T2_Ast', 'T1_TO', 'T2_TO', 'T1_Stl', 'T2_Stl', 'T1_Blk', 'T2_Blk', 'T1_PF', 'T2_PF']\n"
     ]
    },
    {
     "name": "stdout",
     "output_type": "stream",
     "text": [
      "after add win ratio\n",
      "Index(['Season', 'DayNum', 'T1_TeamID', 'T1_Score', 'T2_TeamID', 'T2_Score',\n",
      "       'location', 'NumOT', 'T1_FGM', 'T1_FGA', 'T1_FGM3', 'T1_FGA3', 'T1_FTM',\n",
      "       'T1_FTA', 'T1_OR', 'T1_DR', 'T1_Ast', 'T1_TO', 'T1_Stl', 'T1_Blk',\n",
      "       'T1_PF', 'T2_FGM', 'T2_FGA', 'T2_FGM3', 'T2_FGA3', 'T2_FTM', 'T2_FTA',\n",
      "       'T2_OR', 'T2_DR', 'T2_Ast', 'T2_TO', 'T2_Stl', 'T2_Blk', 'T2_PF',\n",
      "       'T1_EFFG', 'T2_EFFG', 'T1_EFFG3', 'T2_EFFG3', 'T1_DARE', 'T2_DARE',\n",
      "       'T1_TOQUETOQUE', 'T2_TOQUETOQUE', 'T1_EFG_SUM', 'T2_EFG_SUM', 'T1_POSS',\n",
      "       'T2_POSS', 'T1_POSS_RATE', 'T2_POSS_RATE', 'T1_TO_RATIO', 'T2_TO_RATIO',\n",
      "       'T1_REB_RATE', 'T2_REB_RATE', 'T1_FT_RATE', 'T2_FT_RATE', 'T1_RATING',\n",
      "       'T2_RATING', 'PointDiff', 'win', 'T1_win_ratio_14d',\n",
      "       'T2_win_ratio_14d'],\n",
      "      dtype='object')\n"
     ]
    },
    {
     "name": "stdout",
     "output_type": "stream",
     "text": [
      "after mean of boxscore\n",
      "Index(['Season', 'T1_TeamID', 'T1_Scoremean', 'T2_Scoremean', 'PointDiffmean',\n",
      "       'T1_FGMmean', 'T2_FGMmean', 'T1_FGAmean', 'T2_FGAmean', 'T1_FGM3mean',\n",
      "       'T2_FGM3mean', 'T1_FGA3mean', 'T2_FGA3mean', 'T1_FTMmean', 'T2_FTMmean',\n",
      "       'T1_FTAmean', 'T2_FTAmean', 'T1_EFG_SUMmean', 'T2_EFG_SUMmean',\n",
      "       'T1_TO_RATIOmean', 'T2_TO_RATIOmean', 'T1_ORmean', 'T2_ORmean',\n",
      "       'T1_DRmean', 'T2_DRmean', 'T1_REB_RATEmean', 'T2_REB_RATEmean',\n",
      "       'T1_FT_RATEmean', 'T2_FT_RATEmean', 'T1_POSS_RATEmean',\n",
      "       'T2_POSS_RATEmean', 'T1_Astmean', 'T2_Astmean', 'T1_TOmean',\n",
      "       'T2_TOmean', 'T1_Stlmean', 'T2_Stlmean', 'T1_Blkmean', 'T2_Blkmean',\n",
      "       'T1_PFmean', 'T2_PFmean', 'T1_win_ratio_14d'],\n",
      "      dtype='object')\n",
      "use season for quality feature is: 2003\n",
      "(9232, 2) (9232,)\n",
      "fin make 2003's team quarity\n",
      "(9142, 2) (9142,)\n"
     ]
    },
    {
     "name": "stderr",
     "output_type": "stream",
     "text": [
      "C:\\Users\\81809\\AppData\\Local\\Temp\\ipykernel_22148\\386782032.py:20: FutureWarning: The provided callable <function mean at 0x000001C39717A520> is currently using SeriesGroupBy.mean. In a future version of pandas, the provided callable will be used directly. To keep current behavior pass the string \"mean\" instead.\n",
      "  df_stat = df.groupby(group)[boxscore].agg(func)\n"
     ]
    },
    {
     "name": "stdout",
     "output_type": "stream",
     "text": [
      "fin make 2004's team quarity\n",
      "(9350, 2) (9350,)\n",
      "fin make 2005's team quarity\n",
      "(9514, 2) (9514,)\n",
      "fin make 2006's team quarity\n",
      "(10086, 2) (10086,)\n"
     ]
    },
    {
     "name": "stdout",
     "output_type": "stream",
     "text": [
      "fin make 2007's team quarity\n",
      "(10326, 2) (10326,)\n"
     ]
    },
    {
     "name": "stdout",
     "output_type": "stream",
     "text": [
      "fin make 2008's team quarity\n",
      "(10498, 2) (10498,)\n",
      "fin make 2009's team quarity\n",
      "(20600, 2) (20600,)\n"
     ]
    },
    {
     "name": "stdout",
     "output_type": "stream",
     "text": [
      "fin make 2010's team quarity\n",
      "(20660, 2) (20660,)\n",
      "fin make 2011's team quarity\n",
      "(20606, 2) (20606,)\n"
     ]
    },
    {
     "name": "stdout",
     "output_type": "stream",
     "text": [
      "fin make 2012's team quarity\n",
      "(21008, 2) (21008,)\n"
     ]
    },
    {
     "name": "stdout",
     "output_type": "stream",
     "text": [
      "fin make 2013's team quarity\n",
      "(21228, 2) (21228,)\n",
      "fin make 2014's team quarity\n",
      "(21136, 2) (21136,)\n"
     ]
    },
    {
     "name": "stdout",
     "output_type": "stream",
     "text": [
      "fin make 2015's team quarity\n",
      "(21156, 2) (21156,)\n",
      "fin make 2016's team quarity\n",
      "(21210, 2) (21210,)\n"
     ]
    },
    {
     "name": "stdout",
     "output_type": "stream",
     "text": [
      "fin make 2017's team quarity\n",
      "(21228, 2) (21228,)\n"
     ]
    },
    {
     "name": "stdout",
     "output_type": "stream",
     "text": [
      "fin make 2018's team quarity\n",
      "(21406, 2) (21406,)\n",
      "fin make 2019's team quarity\n",
      "add glm quality\n",
      "Index(['Season', 'T1_TeamID', 'T1_Scoremean', 'T2_Scoremean', 'PointDiffmean',\n",
      "       'T1_FGMmean', 'T2_FGMmean', 'T1_FGAmean', 'T2_FGAmean', 'T1_FGM3mean',\n",
      "       'T2_FGM3mean', 'T1_FGA3mean', 'T2_FGA3mean', 'T1_FTMmean', 'T2_FTMmean',\n",
      "       'T1_FTAmean', 'T2_FTAmean', 'T1_EFG_SUMmean', 'T2_EFG_SUMmean',\n",
      "       'T1_TO_RATIOmean', 'T2_TO_RATIOmean', 'T1_ORmean', 'T2_ORmean',\n",
      "       'T1_DRmean', 'T2_DRmean', 'T1_REB_RATEmean', 'T2_REB_RATEmean',\n",
      "       'T1_FT_RATEmean', 'T2_FT_RATEmean', 'T1_POSS_RATEmean',\n",
      "       'T2_POSS_RATEmean', 'T1_Astmean', 'T2_Astmean', 'T1_TOmean',\n",
      "       'T2_TOmean', 'T1_Stlmean', 'T2_Stlmean', 'T1_Blkmean', 'T2_Blkmean',\n",
      "       'T1_PFmean', 'T2_PFmean', 'T1_win_ratio_14d', 'T1_quality'],\n",
      "      dtype='object')\n",
      "add seeds (final form)\n",
      "Index(['Season', 'T1_TeamID', 'T1_Scoremean', 'T2_Scoremean', 'PointDiffmean',\n",
      "       'T1_FGMmean', 'T2_FGMmean', 'T1_FGAmean', 'T2_FGAmean', 'T1_FGM3mean',\n",
      "       'T2_FGM3mean', 'T1_FGA3mean', 'T2_FGA3mean', 'T1_FTMmean', 'T2_FTMmean',\n",
      "       'T1_FTAmean', 'T2_FTAmean', 'T1_EFG_SUMmean', 'T2_EFG_SUMmean',\n",
      "       'T1_TO_RATIOmean', 'T2_TO_RATIOmean', 'T1_ORmean', 'T2_ORmean',\n",
      "       'T1_DRmean', 'T2_DRmean', 'T1_REB_RATEmean', 'T2_REB_RATEmean',\n",
      "       'T1_FT_RATEmean', 'T2_FT_RATEmean', 'T1_POSS_RATEmean',\n",
      "       'T2_POSS_RATEmean', 'T1_Astmean', 'T2_Astmean', 'T1_TOmean',\n",
      "       'T2_TOmean', 'T1_Stlmean', 'T2_Stlmean', 'T1_Blkmean', 'T2_Blkmean',\n",
      "       'T1_PFmean', 'T2_PFmean', 'T1_win_ratio_14d', 'T1_quality', 'T1_seed'],\n",
      "      dtype='object')\n"
     ]
    },
    {
     "name": "stderr",
     "output_type": "stream",
     "text": [
      "C:\\Users\\81809\\AppData\\Local\\Temp\\ipykernel_22148\\386782032.py:79: FutureWarning: The provided callable <function mean at 0x000001C39717A520> is currently using SeriesGroupBy.mean. In a future version of pandas, the provided callable will be used directly. To keep current behavior pass the string \"mean\" instead.\n",
      "  df_rank = ordinal.groupby([\"Season\", \"TeamID\"])[\"OrdinalRank\"].agg(np.mean).reset_index()\n"
     ]
    },
    {
     "name": "stdout",
     "output_type": "stream",
     "text": [
      "add ordinal rank\n",
      "Index(['Season', 'T1_TeamID', 'T1_Scoremean', 'T2_Scoremean', 'PointDiffmean',\n",
      "       'T1_FGMmean', 'T2_FGMmean', 'T1_FGAmean', 'T2_FGAmean', 'T1_FGM3mean',\n",
      "       'T2_FGM3mean', 'T1_FGA3mean', 'T2_FGA3mean', 'T1_FTMmean', 'T2_FTMmean',\n",
      "       'T1_FTAmean', 'T2_FTAmean', 'T1_EFG_SUMmean', 'T2_EFG_SUMmean',\n",
      "       'T1_TO_RATIOmean', 'T2_TO_RATIOmean', 'T1_ORmean', 'T2_ORmean',\n",
      "       'T1_DRmean', 'T2_DRmean', 'T1_REB_RATEmean', 'T2_REB_RATEmean',\n",
      "       'T1_FT_RATEmean', 'T2_FT_RATEmean', 'T1_POSS_RATEmean',\n",
      "       'T2_POSS_RATEmean', 'T1_Astmean', 'T2_Astmean', 'T1_TOmean',\n",
      "       'T2_TOmean', 'T1_Stlmean', 'T2_Stlmean', 'T1_Blkmean', 'T2_Blkmean',\n",
      "       'T1_PFmean', 'T2_PFmean', 'T1_win_ratio_14d', 'T1_quality', 'T1_seed',\n",
      "       'T1_OrdinalRank'],\n",
      "      dtype='object')\n"
     ]
    },
    {
     "data": {
      "text/html": [
       "<div>\n",
       "<style scoped>\n",
       "    .dataframe tbody tr th:only-of-type {\n",
       "        vertical-align: middle;\n",
       "    }\n",
       "\n",
       "    .dataframe tbody tr th {\n",
       "        vertical-align: top;\n",
       "    }\n",
       "\n",
       "    .dataframe thead th {\n",
       "        text-align: right;\n",
       "    }\n",
       "</style>\n",
       "<table border=\"1\" class=\"dataframe\">\n",
       "  <thead>\n",
       "    <tr style=\"text-align: right;\">\n",
       "      <th></th>\n",
       "      <th>Season</th>\n",
       "      <th>T1_TeamID</th>\n",
       "      <th>T1_Scoremean</th>\n",
       "      <th>T2_Scoremean</th>\n",
       "      <th>PointDiffmean</th>\n",
       "      <th>T1_FGMmean</th>\n",
       "      <th>T2_FGMmean</th>\n",
       "      <th>T1_FGAmean</th>\n",
       "      <th>T2_FGAmean</th>\n",
       "      <th>T1_FGM3mean</th>\n",
       "      <th>...</th>\n",
       "      <th>T1_Stlmean</th>\n",
       "      <th>T2_Stlmean</th>\n",
       "      <th>T1_Blkmean</th>\n",
       "      <th>T2_Blkmean</th>\n",
       "      <th>T1_PFmean</th>\n",
       "      <th>T2_PFmean</th>\n",
       "      <th>T1_win_ratio_14d</th>\n",
       "      <th>T1_quality</th>\n",
       "      <th>T1_seed</th>\n",
       "      <th>T1_OrdinalRank</th>\n",
       "    </tr>\n",
       "  </thead>\n",
       "  <tbody>\n",
       "    <tr>\n",
       "      <th>9298</th>\n",
       "      <td>2019</td>\n",
       "      <td>3462</td>\n",
       "      <td>60.862069</td>\n",
       "      <td>66.482759</td>\n",
       "      <td>-5.620690</td>\n",
       "      <td>21.896552</td>\n",
       "      <td>24.448276</td>\n",
       "      <td>57.517241</td>\n",
       "      <td>59.758621</td>\n",
       "      <td>7.862069</td>\n",
       "      <td>...</td>\n",
       "      <td>7.586207</td>\n",
       "      <td>7.758621</td>\n",
       "      <td>2.586207</td>\n",
       "      <td>3.172414</td>\n",
       "      <td>15.241379</td>\n",
       "      <td>15.172414</td>\n",
       "      <td>0.0</td>\n",
       "      <td>-0.296941</td>\n",
       "      <td>NaN</td>\n",
       "      <td>NaN</td>\n",
       "    </tr>\n",
       "    <tr>\n",
       "      <th>9299</th>\n",
       "      <td>2019</td>\n",
       "      <td>3463</td>\n",
       "      <td>63.344828</td>\n",
       "      <td>61.551724</td>\n",
       "      <td>1.793103</td>\n",
       "      <td>23.724138</td>\n",
       "      <td>21.965517</td>\n",
       "      <td>60.517241</td>\n",
       "      <td>60.379310</td>\n",
       "      <td>5.551724</td>\n",
       "      <td>...</td>\n",
       "      <td>5.172414</td>\n",
       "      <td>8.344828</td>\n",
       "      <td>3.586207</td>\n",
       "      <td>2.517241</td>\n",
       "      <td>16.448276</td>\n",
       "      <td>17.551724</td>\n",
       "      <td>0.0</td>\n",
       "      <td>0.134368</td>\n",
       "      <td>NaN</td>\n",
       "      <td>NaN</td>\n",
       "    </tr>\n",
       "    <tr>\n",
       "      <th>9300</th>\n",
       "      <td>2019</td>\n",
       "      <td>3464</td>\n",
       "      <td>68.137931</td>\n",
       "      <td>58.000000</td>\n",
       "      <td>10.137931</td>\n",
       "      <td>23.241379</td>\n",
       "      <td>21.862069</td>\n",
       "      <td>55.758621</td>\n",
       "      <td>58.655172</td>\n",
       "      <td>8.620690</td>\n",
       "      <td>...</td>\n",
       "      <td>4.344828</td>\n",
       "      <td>7.448276</td>\n",
       "      <td>3.482759</td>\n",
       "      <td>3.482759</td>\n",
       "      <td>13.862069</td>\n",
       "      <td>17.896552</td>\n",
       "      <td>0.5</td>\n",
       "      <td>0.638405</td>\n",
       "      <td>NaN</td>\n",
       "      <td>NaN</td>\n",
       "    </tr>\n",
       "    <tr>\n",
       "      <th>9301</th>\n",
       "      <td>2019</td>\n",
       "      <td>3465</td>\n",
       "      <td>76.200000</td>\n",
       "      <td>69.840000</td>\n",
       "      <td>6.360000</td>\n",
       "      <td>28.560000</td>\n",
       "      <td>26.600000</td>\n",
       "      <td>67.520000</td>\n",
       "      <td>69.200000</td>\n",
       "      <td>9.160000</td>\n",
       "      <td>...</td>\n",
       "      <td>7.280000</td>\n",
       "      <td>7.920000</td>\n",
       "      <td>3.160000</td>\n",
       "      <td>3.160000</td>\n",
       "      <td>15.520000</td>\n",
       "      <td>15.440000</td>\n",
       "      <td>0.5</td>\n",
       "      <td>-0.182555</td>\n",
       "      <td>NaN</td>\n",
       "      <td>NaN</td>\n",
       "    </tr>\n",
       "    <tr>\n",
       "      <th>9302</th>\n",
       "      <td>2019</td>\n",
       "      <td>3466</td>\n",
       "      <td>69.521739</td>\n",
       "      <td>63.217391</td>\n",
       "      <td>6.304348</td>\n",
       "      <td>24.869565</td>\n",
       "      <td>23.913043</td>\n",
       "      <td>58.434783</td>\n",
       "      <td>58.260870</td>\n",
       "      <td>6.217391</td>\n",
       "      <td>...</td>\n",
       "      <td>8.478261</td>\n",
       "      <td>8.478261</td>\n",
       "      <td>3.695652</td>\n",
       "      <td>3.217391</td>\n",
       "      <td>17.478261</td>\n",
       "      <td>19.173913</td>\n",
       "      <td>0.0</td>\n",
       "      <td>0.107970</td>\n",
       "      <td>NaN</td>\n",
       "      <td>NaN</td>\n",
       "    </tr>\n",
       "  </tbody>\n",
       "</table>\n",
       "<p>5 rows × 45 columns</p>\n",
       "</div>"
      ],
      "text/plain": [
       "      Season  T1_TeamID  T1_Scoremean  T2_Scoremean  PointDiffmean  \\\n",
       "9298    2019       3462     60.862069     66.482759      -5.620690   \n",
       "9299    2019       3463     63.344828     61.551724       1.793103   \n",
       "9300    2019       3464     68.137931     58.000000      10.137931   \n",
       "9301    2019       3465     76.200000     69.840000       6.360000   \n",
       "9302    2019       3466     69.521739     63.217391       6.304348   \n",
       "\n",
       "      T1_FGMmean  T2_FGMmean  T1_FGAmean  T2_FGAmean  T1_FGM3mean  ...  \\\n",
       "9298   21.896552   24.448276   57.517241   59.758621     7.862069  ...   \n",
       "9299   23.724138   21.965517   60.517241   60.379310     5.551724  ...   \n",
       "9300   23.241379   21.862069   55.758621   58.655172     8.620690  ...   \n",
       "9301   28.560000   26.600000   67.520000   69.200000     9.160000  ...   \n",
       "9302   24.869565   23.913043   58.434783   58.260870     6.217391  ...   \n",
       "\n",
       "      T1_Stlmean  T2_Stlmean  T1_Blkmean  T2_Blkmean  T1_PFmean  T2_PFmean  \\\n",
       "9298    7.586207    7.758621    2.586207    3.172414  15.241379  15.172414   \n",
       "9299    5.172414    8.344828    3.586207    2.517241  16.448276  17.551724   \n",
       "9300    4.344828    7.448276    3.482759    3.482759  13.862069  17.896552   \n",
       "9301    7.280000    7.920000    3.160000    3.160000  15.520000  15.440000   \n",
       "9302    8.478261    8.478261    3.695652    3.217391  17.478261  19.173913   \n",
       "\n",
       "      T1_win_ratio_14d  T1_quality  T1_seed  T1_OrdinalRank  \n",
       "9298               0.0   -0.296941      NaN             NaN  \n",
       "9299               0.0    0.134368      NaN             NaN  \n",
       "9300               0.5    0.638405      NaN             NaN  \n",
       "9301               0.5   -0.182555      NaN             NaN  \n",
       "9302               0.0    0.107970      NaN             NaN  \n",
       "\n",
       "[5 rows x 45 columns]"
      ]
     },
     "execution_count": 9,
     "metadata": {},
     "output_type": "execute_result"
    }
   ],
   "source": [
    "features = FEATURES.cal_mean_boxscore\n",
    "boxscore_cols = [col for col, use in features.items() if use]\n",
    "print(\"use boxscore col is\")\n",
    "print(boxscore_cols)\n",
    "\n",
    "season_statistics = make_season_statistics(regular_data, boxscore_cols, seeds, func = [np.mean])\n",
    "season_statistics.tail()"
   ]
  },
  {
   "cell_type": "code",
   "execution_count": 10,
   "id": "96fa95f1",
   "metadata": {
    "execution": {
     "iopub.execute_input": "2025-03-13T20:48:24.405642Z",
     "iopub.status.busy": "2025-03-13T20:48:24.405642Z",
     "iopub.status.idle": "2025-03-13T20:48:24.417120Z",
     "shell.execute_reply": "2025-03-13T20:48:24.417120Z"
    },
    "papermill": {
     "duration": 0.027559,
     "end_time": "2025-03-13T20:48:24.417120",
     "exception": false,
     "start_time": "2025-03-13T20:48:24.389561",
     "status": "completed"
    },
    "tags": []
   },
   "outputs": [
    {
     "name": "stdout",
     "output_type": "stream",
     "text": [
      "<class 'pandas.core.frame.DataFrame'>\n",
      "RangeIndex: 9303 entries, 0 to 9302\n",
      "Data columns (total 45 columns):\n",
      " #   Column            Non-Null Count  Dtype  \n",
      "---  ------            --------------  -----  \n",
      " 0   Season            9303 non-null   int64  \n",
      " 1   T1_TeamID         9303 non-null   int64  \n",
      " 2   T1_Scoremean      9303 non-null   float64\n",
      " 3   T2_Scoremean      9303 non-null   float64\n",
      " 4   PointDiffmean     9303 non-null   float64\n",
      " 5   T1_FGMmean        9303 non-null   float64\n",
      " 6   T2_FGMmean        9303 non-null   float64\n",
      " 7   T1_FGAmean        9303 non-null   float64\n",
      " 8   T2_FGAmean        9303 non-null   float64\n",
      " 9   T1_FGM3mean       9303 non-null   float64\n",
      " 10  T2_FGM3mean       9303 non-null   float64\n",
      " 11  T1_FGA3mean       9303 non-null   float64\n",
      " 12  T2_FGA3mean       9303 non-null   float64\n",
      " 13  T1_FTMmean        9303 non-null   float64\n",
      " 14  T2_FTMmean        9303 non-null   float64\n",
      " 15  T1_FTAmean        9303 non-null   float64\n",
      " 16  T2_FTAmean        9303 non-null   float64\n",
      " 17  T1_EFG_SUMmean    9303 non-null   float64\n",
      " 18  T2_EFG_SUMmean    9303 non-null   float64\n",
      " 19  T1_TO_RATIOmean   9303 non-null   float64\n",
      " 20  T2_TO_RATIOmean   9303 non-null   float64\n",
      " 21  T1_ORmean         9303 non-null   float64\n",
      " 22  T2_ORmean         9303 non-null   float64\n",
      " 23  T1_DRmean         9303 non-null   float64\n",
      " 24  T2_DRmean         9303 non-null   float64\n",
      " 25  T1_REB_RATEmean   9303 non-null   float64\n",
      " 26  T2_REB_RATEmean   9303 non-null   float64\n",
      " 27  T1_FT_RATEmean    9303 non-null   float64\n",
      " 28  T2_FT_RATEmean    9303 non-null   float64\n",
      " 29  T1_POSS_RATEmean  9303 non-null   float64\n",
      " 30  T2_POSS_RATEmean  9303 non-null   float64\n",
      " 31  T1_Astmean        9303 non-null   float64\n",
      " 32  T2_Astmean        9303 non-null   float64\n",
      " 33  T1_TOmean         9303 non-null   float64\n",
      " 34  T2_TOmean         9303 non-null   float64\n",
      " 35  T1_Stlmean        9303 non-null   float64\n",
      " 36  T2_Stlmean        9303 non-null   float64\n",
      " 37  T1_Blkmean        9303 non-null   float64\n",
      " 38  T2_Blkmean        9303 non-null   float64\n",
      " 39  T1_PFmean         9303 non-null   float64\n",
      " 40  T2_PFmean         9303 non-null   float64\n",
      " 41  T1_win_ratio_14d  9000 non-null   float64\n",
      " 42  T1_quality        9303 non-null   float64\n",
      " 43  T1_seed           1772 non-null   float64\n",
      " 44  T1_OrdinalRank    5834 non-null   float64\n",
      "dtypes: float64(43), int64(2)\n",
      "memory usage: 3.2 MB\n"
     ]
    }
   ],
   "source": [
    "season_statistics.info()"
   ]
  },
  {
   "cell_type": "code",
   "execution_count": 11,
   "id": "b9bb6cd9",
   "metadata": {
    "execution": {
     "iopub.execute_input": "2025-03-13T20:48:24.435756Z",
     "iopub.status.busy": "2025-03-13T20:48:24.435756Z",
     "iopub.status.idle": "2025-03-13T20:48:24.460977Z",
     "shell.execute_reply": "2025-03-13T20:48:24.460977Z"
    },
    "papermill": {
     "duration": 0.036358,
     "end_time": "2025-03-13T20:48:24.463092",
     "exception": false,
     "start_time": "2025-03-13T20:48:24.426734",
     "status": "completed"
    },
    "tags": []
   },
   "outputs": [],
   "source": [
    "####ボックスscoreの平均に対して、過去３年の加重平均を取るときの処理 ####\n",
    "def get_mean_of_3_season(val_2ps, val_1ps, val_0ps, \n",
    "                         weight_2, weight_1, weight_0, \n",
    "                         degree_weight=1.0\n",
    "                         ):\n",
    "    weight_2 = weight_2**degree_weight\n",
    "    weight_1 = weight_1**degree_weight\n",
    "    weight_0 = weight_0**degree_weight\n",
    "    if val_2ps == 0  and val_1ps == 0:\n",
    "        return val_0ps\n",
    "    elif val_2ps == 0:\n",
    "        return (val_1ps*weight_2 + val_0ps*weight_1)/(weight_2 + weight_1)\n",
    "    else:\n",
    "        sum_of_values = val_2ps*weight_2 + val_1ps*weight_1 + val_0ps*weight_0\n",
    "        return sum_of_values/(weight_2 + weight_1 + weight_0)\n",
    "\n",
    "def get_3_feature(df_team, feature):\n",
    "    value_2_seasons_ago = 0\n",
    "    value_1_season_ago = 0\n",
    "    value_0_season_ago = 0\n",
    "    for _, val in df_team.iterrows():\n",
    "        value_2_seasons_ago = value_1_season_ago\n",
    "        value_1_season_ago = value_0_season_ago\n",
    "        value_0_season_ago = val[feature]\n",
    "    return value_2_seasons_ago, value_1_season_ago, value_0_season_ago\n",
    "\n",
    "def write_mean_of_3_seasons(df, features, weight, degree_weight=1.0):\n",
    "    \"\"\"\n",
    "    val_0ps - current season value\n",
    "    weight_0 - current season weight\n",
    "    val_1ps - last season value\n",
    "    val_2ps - the value of the season before last\n",
    "    \"\"\"\n",
    "    weight_2=weight[0]\n",
    "    weight_1=weight[1]\n",
    "    weight_0=weight[2]\n",
    "    df_copy = df.copy()\n",
    "    suffix = \"_mn3s\"\n",
    "    \n",
    "    for ft in features:\n",
    "        df_copy[ft + suffix] = 0\n",
    "    for idx, val in tqdm(df_copy.iterrows(), total=len(df_copy)):\n",
    "        team = val.T1_TeamID\n",
    "        season = val.Season\n",
    "        df_team = df_copy[(df_copy.T1_TeamID == team)&\n",
    "                          (df_copy.Season <= season)&\n",
    "                          (df_copy.Season > season-3)]\n",
    "        for ft in features:\n",
    "            val_2ps, val_1ps, val_0ps = get_3_feature(df_team, ft)\n",
    "            ft_mean_3 = get_mean_of_3_season(val_2ps, val_1ps, val_0ps, weight_2, weight_1, weight_0, degree_weight=degree_weight)\n",
    "            df_copy.loc[idx, ft + suffix] = ft_mean_3\n",
    "    return df_copy"
   ]
  },
  {
   "cell_type": "code",
   "execution_count": 12,
   "id": "b934abb4",
   "metadata": {
    "execution": {
     "iopub.execute_input": "2025-03-13T20:48:24.477962Z",
     "iopub.status.busy": "2025-03-13T20:48:24.477962Z",
     "iopub.status.idle": "2025-03-13T20:48:24.511334Z",
     "shell.execute_reply": "2025-03-13T20:48:24.511334Z"
    },
    "papermill": {
     "duration": 0.041347,
     "end_time": "2025-03-13T20:48:24.511334",
     "exception": false,
     "start_time": "2025-03-13T20:48:24.469987",
     "status": "completed"
    },
    "tags": []
   },
   "outputs": [
    {
     "name": "stdout",
     "output_type": "stream",
     "text": [
      "#####\n",
      "skip 3 season verage\n",
      "#####\n"
     ]
    },
    {
     "data": {
      "text/html": [
       "<div>\n",
       "<style scoped>\n",
       "    .dataframe tbody tr th:only-of-type {\n",
       "        vertical-align: middle;\n",
       "    }\n",
       "\n",
       "    .dataframe tbody tr th {\n",
       "        vertical-align: top;\n",
       "    }\n",
       "\n",
       "    .dataframe thead th {\n",
       "        text-align: right;\n",
       "    }\n",
       "</style>\n",
       "<table border=\"1\" class=\"dataframe\">\n",
       "  <thead>\n",
       "    <tr style=\"text-align: right;\">\n",
       "      <th></th>\n",
       "      <th>Season</th>\n",
       "      <th>T1_TeamID</th>\n",
       "      <th>T1_Scoremean</th>\n",
       "      <th>T1_opponent_Scoremean</th>\n",
       "      <th>T1_PointDiffmean</th>\n",
       "      <th>T1_FGMmean</th>\n",
       "      <th>T1_opponent_FGMmean</th>\n",
       "      <th>T1_FGAmean</th>\n",
       "      <th>T1_opponent_FGAmean</th>\n",
       "      <th>T1_FGM3mean</th>\n",
       "      <th>...</th>\n",
       "      <th>T1_Stlmean</th>\n",
       "      <th>T1_opponent_Stlmean</th>\n",
       "      <th>T1_Blkmean</th>\n",
       "      <th>T1_opponent_Blkmean</th>\n",
       "      <th>T1_PFmean</th>\n",
       "      <th>T1_opponent_PFmean</th>\n",
       "      <th>T1_win_ratio_14d</th>\n",
       "      <th>T1_quality</th>\n",
       "      <th>T1_seed</th>\n",
       "      <th>T1_OrdinalRank</th>\n",
       "    </tr>\n",
       "  </thead>\n",
       "  <tbody>\n",
       "    <tr>\n",
       "      <th>0</th>\n",
       "      <td>2003</td>\n",
       "      <td>1102</td>\n",
       "      <td>57.250000</td>\n",
       "      <td>57.000000</td>\n",
       "      <td>0.25000</td>\n",
       "      <td>19.142857</td>\n",
       "      <td>19.285714</td>\n",
       "      <td>39.785714</td>\n",
       "      <td>42.428571</td>\n",
       "      <td>7.821429</td>\n",
       "      <td>...</td>\n",
       "      <td>5.964286</td>\n",
       "      <td>5.428571</td>\n",
       "      <td>1.785714</td>\n",
       "      <td>1.571429</td>\n",
       "      <td>18.750000</td>\n",
       "      <td>18.357143</td>\n",
       "      <td>0.333333</td>\n",
       "      <td>-0.070776</td>\n",
       "      <td>NaN</td>\n",
       "      <td>144.2875</td>\n",
       "    </tr>\n",
       "    <tr>\n",
       "      <th>1</th>\n",
       "      <td>2003</td>\n",
       "      <td>1103</td>\n",
       "      <td>78.777778</td>\n",
       "      <td>78.148148</td>\n",
       "      <td>0.62963</td>\n",
       "      <td>27.148148</td>\n",
       "      <td>27.777778</td>\n",
       "      <td>55.851852</td>\n",
       "      <td>57.000000</td>\n",
       "      <td>5.444444</td>\n",
       "      <td>...</td>\n",
       "      <td>7.259259</td>\n",
       "      <td>6.407407</td>\n",
       "      <td>2.333333</td>\n",
       "      <td>2.851852</td>\n",
       "      <td>19.851852</td>\n",
       "      <td>22.444444</td>\n",
       "      <td>0.333333</td>\n",
       "      <td>-0.116192</td>\n",
       "      <td>NaN</td>\n",
       "      <td>182.2050</td>\n",
       "    </tr>\n",
       "  </tbody>\n",
       "</table>\n",
       "<p>2 rows × 45 columns</p>\n",
       "</div>"
      ],
      "text/plain": [
       "   Season  T1_TeamID  T1_Scoremean  T1_opponent_Scoremean  T1_PointDiffmean  \\\n",
       "0    2003       1102     57.250000              57.000000           0.25000   \n",
       "1    2003       1103     78.777778              78.148148           0.62963   \n",
       "\n",
       "   T1_FGMmean  T1_opponent_FGMmean  T1_FGAmean  T1_opponent_FGAmean  \\\n",
       "0   19.142857            19.285714   39.785714            42.428571   \n",
       "1   27.148148            27.777778   55.851852            57.000000   \n",
       "\n",
       "   T1_FGM3mean  ...  T1_Stlmean  T1_opponent_Stlmean  T1_Blkmean  \\\n",
       "0     7.821429  ...    5.964286             5.428571    1.785714   \n",
       "1     5.444444  ...    7.259259             6.407407    2.333333   \n",
       "\n",
       "   T1_opponent_Blkmean  T1_PFmean  T1_opponent_PFmean  T1_win_ratio_14d  \\\n",
       "0             1.571429  18.750000           18.357143          0.333333   \n",
       "1             2.851852  19.851852           22.444444          0.333333   \n",
       "\n",
       "   T1_quality  T1_seed  T1_OrdinalRank  \n",
       "0   -0.070776      NaN        144.2875  \n",
       "1   -0.116192      NaN        182.2050  \n",
       "\n",
       "[2 rows x 45 columns]"
      ]
     },
     "metadata": {},
     "output_type": "display_data"
    },
    {
     "data": {
      "text/html": [
       "<div>\n",
       "<style scoped>\n",
       "    .dataframe tbody tr th:only-of-type {\n",
       "        vertical-align: middle;\n",
       "    }\n",
       "\n",
       "    .dataframe tbody tr th {\n",
       "        vertical-align: top;\n",
       "    }\n",
       "\n",
       "    .dataframe thead th {\n",
       "        text-align: right;\n",
       "    }\n",
       "</style>\n",
       "<table border=\"1\" class=\"dataframe\">\n",
       "  <thead>\n",
       "    <tr style=\"text-align: right;\">\n",
       "      <th></th>\n",
       "      <th>Season</th>\n",
       "      <th>T2_TeamID</th>\n",
       "      <th>T2_Scoremean</th>\n",
       "      <th>T2_opponent_Scoremean</th>\n",
       "      <th>T2_PointDiffmean</th>\n",
       "      <th>T2_FGMmean</th>\n",
       "      <th>T2_opponent_FGMmean</th>\n",
       "      <th>T2_FGAmean</th>\n",
       "      <th>T2_opponent_FGAmean</th>\n",
       "      <th>T2_FGM3mean</th>\n",
       "      <th>...</th>\n",
       "      <th>T2_Stlmean</th>\n",
       "      <th>T2_opponent_Stlmean</th>\n",
       "      <th>T2_Blkmean</th>\n",
       "      <th>T2_opponent_Blkmean</th>\n",
       "      <th>T2_PFmean</th>\n",
       "      <th>T2_opponent_PFmean</th>\n",
       "      <th>T2_win_ratio_14d</th>\n",
       "      <th>T2_quality</th>\n",
       "      <th>T2_seed</th>\n",
       "      <th>T2_OrdinalRank</th>\n",
       "    </tr>\n",
       "  </thead>\n",
       "  <tbody>\n",
       "    <tr>\n",
       "      <th>9301</th>\n",
       "      <td>2019</td>\n",
       "      <td>3465</td>\n",
       "      <td>76.200000</td>\n",
       "      <td>69.840000</td>\n",
       "      <td>6.360000</td>\n",
       "      <td>28.560000</td>\n",
       "      <td>26.600000</td>\n",
       "      <td>67.520000</td>\n",
       "      <td>69.20000</td>\n",
       "      <td>9.160000</td>\n",
       "      <td>...</td>\n",
       "      <td>7.280000</td>\n",
       "      <td>7.920000</td>\n",
       "      <td>3.160000</td>\n",
       "      <td>3.160000</td>\n",
       "      <td>15.520000</td>\n",
       "      <td>15.440000</td>\n",
       "      <td>0.5</td>\n",
       "      <td>-0.182555</td>\n",
       "      <td>NaN</td>\n",
       "      <td>NaN</td>\n",
       "    </tr>\n",
       "    <tr>\n",
       "      <th>9302</th>\n",
       "      <td>2019</td>\n",
       "      <td>3466</td>\n",
       "      <td>69.521739</td>\n",
       "      <td>63.217391</td>\n",
       "      <td>6.304348</td>\n",
       "      <td>24.869565</td>\n",
       "      <td>23.913043</td>\n",
       "      <td>58.434783</td>\n",
       "      <td>58.26087</td>\n",
       "      <td>6.217391</td>\n",
       "      <td>...</td>\n",
       "      <td>8.478261</td>\n",
       "      <td>8.478261</td>\n",
       "      <td>3.695652</td>\n",
       "      <td>3.217391</td>\n",
       "      <td>17.478261</td>\n",
       "      <td>19.173913</td>\n",
       "      <td>0.0</td>\n",
       "      <td>0.107970</td>\n",
       "      <td>NaN</td>\n",
       "      <td>NaN</td>\n",
       "    </tr>\n",
       "  </tbody>\n",
       "</table>\n",
       "<p>2 rows × 45 columns</p>\n",
       "</div>"
      ],
      "text/plain": [
       "      Season  T2_TeamID  T2_Scoremean  T2_opponent_Scoremean  \\\n",
       "9301    2019       3465     76.200000              69.840000   \n",
       "9302    2019       3466     69.521739              63.217391   \n",
       "\n",
       "      T2_PointDiffmean  T2_FGMmean  T2_opponent_FGMmean  T2_FGAmean  \\\n",
       "9301          6.360000   28.560000            26.600000   67.520000   \n",
       "9302          6.304348   24.869565            23.913043   58.434783   \n",
       "\n",
       "      T2_opponent_FGAmean  T2_FGM3mean  ...  T2_Stlmean  T2_opponent_Stlmean  \\\n",
       "9301             69.20000     9.160000  ...    7.280000             7.920000   \n",
       "9302             58.26087     6.217391  ...    8.478261             8.478261   \n",
       "\n",
       "      T2_Blkmean  T2_opponent_Blkmean  T2_PFmean  T2_opponent_PFmean  \\\n",
       "9301    3.160000             3.160000  15.520000           15.440000   \n",
       "9302    3.695652             3.217391  17.478261           19.173913   \n",
       "\n",
       "      T2_win_ratio_14d  T2_quality  T2_seed  T2_OrdinalRank  \n",
       "9301               0.5   -0.182555      NaN             NaN  \n",
       "9302               0.0    0.107970      NaN             NaN  \n",
       "\n",
       "[2 rows x 45 columns]"
      ]
     },
     "metadata": {},
     "output_type": "display_data"
    }
   ],
   "source": [
    "flag_3season_avg = FEATURES.season_average.enabled\n",
    "\n",
    "#trueのときの処理理解してfalseと一致させる\n",
    "if flag_3season_avg:\n",
    "    print(\"#####\")\n",
    "    print(\"use 3 season average\")\n",
    "    print(\"#####\")\n",
    "    weight = FEATURES.season_average.weights\n",
    "    years = FEATURES.season_average.past_years\n",
    "    assert years==len(weight)\n",
    "    \n",
    "    features_for_calc = [\"T1_Scoremean\", \"T1_FGAmean\",  \"T1_FGA3mean\"]\n",
    "    season_statistics_with_3_seas = write_mean_of_3_seasons(\n",
    "        season_statistics, features_for_calc, weight, degree_weight=1.0\n",
    "    )\n",
    "    \n",
    "    season_statistics_T1 = season_statistics_with_3_seas.copy()\n",
    "    season_statistics_T2 = season_statistics_with_3_seas.copy()\n",
    "    \n",
    "else:\n",
    "    print(\"#####\")\n",
    "    print(\"skip 3 season verage\")\n",
    "    print(\"#####\")\n",
    "    season_statistics_T1 = season_statistics.copy()\n",
    "    season_statistics_T2 = season_statistics.copy()\n",
    "\n",
    "season_statistics_T1.columns = [\"T1_\" + x.replace(\"T1_\",\"\").replace(\"T2_\",\"opponent_\") for x in list(season_statistics_T1.columns)]\n",
    "season_statistics_T2.columns = [\"T2_\" + x.replace(\"T1_\",\"\").replace(\"T2_\",\"opponent_\") for x in list(season_statistics_T2.columns)]\n",
    "season_statistics_T1.columns.values[0] = \"Season\"\n",
    "season_statistics_T2.columns.values[0] = \"Season\"\n",
    "\n",
    "\n",
    "season_statistics_T2.rename(columns = {\n",
    "    \"T1_TeamID\": \"T2_TeamID\"\n",
    "}, inplace=True)\n",
    "display(season_statistics_T1.head(2), season_statistics_T2.tail(2))"
   ]
  },
  {
   "cell_type": "markdown",
   "id": "18704873",
   "metadata": {
    "papermill": {
     "duration": 0.006033,
     "end_time": "2025-03-13T20:48:24.528894",
     "exception": false,
     "start_time": "2025-03-13T20:48:24.522861",
     "status": "completed"
    },
    "tags": []
   },
   "source": [
    "# Toureney dataの処理\n",
    "1. pointdiff, pointが目的変数となるのでそれはyに分離\n",
    "2. seasonstatisticを結合したものをXとして作る"
   ]
  },
  {
   "cell_type": "code",
   "execution_count": 13,
   "id": "d281cf57",
   "metadata": {
    "execution": {
     "iopub.execute_input": "2025-03-13T20:48:24.539661Z",
     "iopub.status.busy": "2025-03-13T20:48:24.539661Z",
     "iopub.status.idle": "2025-03-13T20:48:24.552585Z",
     "shell.execute_reply": "2025-03-13T20:48:24.552585Z"
    },
    "papermill": {
     "duration": 0.014672,
     "end_time": "2025-03-13T20:48:24.552585",
     "exception": false,
     "start_time": "2025-03-13T20:48:24.537913",
     "status": "completed"
    },
    "tags": []
   },
   "outputs": [],
   "source": [
    "\n",
    "def process_tourney(df1, mode=\"tourney\"):\n",
    "    #Season, teamid ->X, team_score->y\n",
    "    df = df1.copy()\n",
    "    if mode==\"tourney\":\n",
    "        df = prepare_data(df) \n",
    "        y = df[\"T1_Score\"]-df[\"T2_Score\"]\n",
    "    X = df[['Season', 'T1_TeamID', 'T2_TeamID']]\n",
    "    X = pd.merge(X, season_statistics_T1, on = ['Season', 'T1_TeamID'], how = 'left')\n",
    "    X = pd.merge(X, season_statistics_T2, on = ['Season', 'T2_TeamID'], how = 'left')\n",
    "    \n",
    "    #seed->seed diff\n",
    "    X[\"seed_diff\"] = X[\"T1_seed\"] - X[\"T2_seed\"]\n",
    "    #rank->rank diff\n",
    "    X[\"rank_diff\"] = X[\"T1_OrdinalRank\"] - X[\"T2_OrdinalRank\"]\n",
    "    #quality->quality diff\n",
    "    X[\"quality_diff\"] = X[\"T1_quality\"] - X[\"T2_quality\"]\n",
    "    #win_ratio_14d -> win_raio_14d_diff\n",
    "    X[\"win_ratio_14d_diff\"] = X[\"T1_win_ratio_14d\"] - X[\"T2_win_ratio_14d\"]\n",
    "    #tourney_data.drop(columns=[\"T1_seed\", \"T2_seed\"], inplace=True)\n",
    "\n",
    "    X = X.drop(columns=[\"T1_seed\", \"T2_seed\", \"T1_OrdinalRank\", \"T2_OrdinalRank\", \n",
    "                        \"T1_quality\", \"T2_quality\", \"T1_win_ratio_14d\", \"T2_win_ratio_14d\"\n",
    "                        ])\n",
    "\n",
    "    # if rank_diff is False, drop.\n",
    "    IS_RANKDIFF = FEATURES.rank_diff\n",
    "    if not IS_RANKDIFF:\n",
    "        X = X.drop(columns=[\"rank_diff\"])\n",
    "        print(\"drop rank_diff\")\n",
    "    \n",
    "    # if fillna is true-> run fillna()\n",
    "    FILLNA = FEATURES.fillna.quality\n",
    "    if FILLNA==\"nan\":\n",
    "        print(f\"no fillna, use nan\")\n",
    "        X[\"quality_diff\"] = X[\"quality_diff\"].fillna(np.nan)\n",
    "    else:\n",
    "        print(f\"fillna quality feature for {FILLNA}\")\n",
    "        X[\"quality_diff\"] = X[\"quality_diff\"].fillna(FILLNA)\n",
    "\n",
    "        \n",
    "    return X, y if mode==\"tourney\" else X"
   ]
  },
  {
   "cell_type": "code",
   "execution_count": 14,
   "id": "35b08f9f",
   "metadata": {
    "execution": {
     "iopub.execute_input": "2025-03-13T20:48:24.572557Z",
     "iopub.status.busy": "2025-03-13T20:48:24.571484Z",
     "iopub.status.idle": "2025-03-13T20:48:24.601450Z",
     "shell.execute_reply": "2025-03-13T20:48:24.601450Z"
    },
    "papermill": {
     "duration": 0.048865,
     "end_time": "2025-03-13T20:48:24.601450",
     "exception": false,
     "start_time": "2025-03-13T20:48:24.552585",
     "status": "completed"
    },
    "tags": []
   },
   "outputs": [
    {
     "name": "stdout",
     "output_type": "stream",
     "text": [
      "<class 'pandas.core.frame.DataFrame'>\n",
      "Index: 1615 entries, 0 to 1948\n",
      "Data columns (total 56 columns):\n",
      " #   Column       Non-Null Count  Dtype  \n",
      "---  ------       --------------  -----  \n",
      " 0   Season       1615 non-null   int64  \n",
      " 1   DayNum       1615 non-null   int64  \n",
      " 2   WTeamID      1615 non-null   int64  \n",
      " 3   WScore       1615 non-null   int64  \n",
      " 4   LTeamID      1615 non-null   int64  \n",
      " 5   LScore       1615 non-null   int64  \n",
      " 6   WLoc         1615 non-null   object \n",
      " 7   NumOT        1615 non-null   int64  \n",
      " 8   WFGM         1615 non-null   int64  \n",
      " 9   WFGA         1615 non-null   int64  \n",
      " 10  WFGM3        1615 non-null   int64  \n",
      " 11  WFGA3        1615 non-null   int64  \n",
      " 12  WFTM         1615 non-null   int64  \n",
      " 13  WFTA         1615 non-null   int64  \n",
      " 14  WOR          1615 non-null   int64  \n",
      " 15  WDR          1615 non-null   int64  \n",
      " 16  WAst         1615 non-null   int64  \n",
      " 17  WTO          1615 non-null   int64  \n",
      " 18  WStl         1615 non-null   int64  \n",
      " 19  WBlk         1615 non-null   int64  \n",
      " 20  WPF          1615 non-null   int64  \n",
      " 21  LFGM         1615 non-null   int64  \n",
      " 22  LFGA         1615 non-null   int64  \n",
      " 23  LFGM3        1615 non-null   int64  \n",
      " 24  LFGA3        1615 non-null   int64  \n",
      " 25  LFTM         1615 non-null   int64  \n",
      " 26  LFTA         1615 non-null   int64  \n",
      " 27  LOR          1615 non-null   int64  \n",
      " 28  LDR          1615 non-null   int64  \n",
      " 29  LAst         1615 non-null   int64  \n",
      " 30  LTO          1615 non-null   int64  \n",
      " 31  LStl         1615 non-null   int64  \n",
      " 32  LBlk         1615 non-null   int64  \n",
      " 33  LPF          1615 non-null   int64  \n",
      " 34  WEFFG        1615 non-null   float64\n",
      " 35  LEFFG        1615 non-null   float64\n",
      " 36  WEFFG3       1615 non-null   float64\n",
      " 37  LEFFG3       1615 non-null   float64\n",
      " 38  WDARE        1615 non-null   float64\n",
      " 39  LDARE        1615 non-null   float64\n",
      " 40  WTOQUETOQUE  1615 non-null   float64\n",
      " 41  LTOQUETOQUE  1615 non-null   float64\n",
      " 42  WEFG_SUM     1615 non-null   float64\n",
      " 43  LEFG_SUM     1615 non-null   float64\n",
      " 44  WPOSS        1615 non-null   float64\n",
      " 45  LPOSS        1615 non-null   float64\n",
      " 46  WPOSS_RATE   1615 non-null   float64\n",
      " 47  LPOSS_RATE   1615 non-null   float64\n",
      " 48  WTO_RATIO    1615 non-null   float64\n",
      " 49  LTO_RATIO    1615 non-null   float64\n",
      " 50  WREB_RATE    1615 non-null   float64\n",
      " 51  LREB_RATE    1615 non-null   float64\n",
      " 52  WFT_RATE     1615 non-null   float64\n",
      " 53  LFT_RATE     1615 non-null   float64\n",
      " 54  WRATING      1615 non-null   float64\n",
      " 55  LRATING      1615 non-null   float64\n",
      "dtypes: float64(22), int64(33), object(1)\n",
      "memory usage: 719.2+ KB\n",
      "None\n",
      "feature cols after prepare()\n",
      "Index(['Season', 'DayNum', 'T1_TeamID', 'T1_Score', 'T2_TeamID', 'T2_Score',\n",
      "       'location', 'NumOT', 'T1_FGM', 'T1_FGA', 'T1_FGM3', 'T1_FGA3', 'T1_FTM',\n",
      "       'T1_FTA', 'T1_OR', 'T1_DR', 'T1_Ast', 'T1_TO', 'T1_Stl', 'T1_Blk',\n",
      "       'T1_PF', 'T2_FGM', 'T2_FGA', 'T2_FGM3', 'T2_FGA3', 'T2_FTM', 'T2_FTA',\n",
      "       'T2_OR', 'T2_DR', 'T2_Ast', 'T2_TO', 'T2_Stl', 'T2_Blk', 'T2_PF',\n",
      "       'T1_EFFG', 'T2_EFFG', 'T1_EFFG3', 'T2_EFFG3', 'T1_DARE', 'T2_DARE',\n",
      "       'T1_TOQUETOQUE', 'T2_TOQUETOQUE', 'T1_EFG_SUM', 'T2_EFG_SUM', 'T1_POSS',\n",
      "       'T2_POSS', 'T1_POSS_RATE', 'T2_POSS_RATE', 'T1_TO_RATIO', 'T2_TO_RATIO',\n",
      "       'T1_REB_RATE', 'T2_REB_RATE', 'T1_FT_RATE', 'T2_FT_RATE', 'T1_RATING',\n",
      "       'T2_RATING', 'PointDiff', 'win'],\n",
      "      dtype='object')\n",
      "no fillna, use nan\n"
     ]
    }
   ],
   "source": [
    "X, y = process_tourney(tourney_results)"
   ]
  },
  {
   "cell_type": "code",
   "execution_count": 15,
   "id": "7e840a33",
   "metadata": {
    "execution": {
     "iopub.execute_input": "2025-03-13T20:48:24.616536Z",
     "iopub.status.busy": "2025-03-13T20:48:24.616536Z",
     "iopub.status.idle": "2025-03-13T20:48:24.622544Z",
     "shell.execute_reply": "2025-03-13T20:48:24.622544Z"
    },
    "papermill": {
     "duration": 0.021094,
     "end_time": "2025-03-13T20:48:24.622544",
     "exception": false,
     "start_time": "2025-03-13T20:48:24.601450",
     "status": "completed"
    },
    "tags": []
   },
   "outputs": [],
   "source": [
    "#opponentなど明示的に特徴量選出に基づいて落とす\n",
    "def drop_columns(df, cols):\n",
    "    if not cols: return df\n",
    "    existing_cols = [col for col in cols if col in df.columns]\n",
    "    print(f\"drop col list: {existing_cols}\")\n",
    "    return df.drop(columns=existing_cols)\n",
    "\n",
    "drop_col = FEATURES.dropfeatures\n",
    "X = drop_columns(X, drop_col)"
   ]
  },
  {
   "cell_type": "code",
   "execution_count": 16,
   "id": "37507d7b",
   "metadata": {
    "execution": {
     "iopub.execute_input": "2025-03-13T20:48:24.639684Z",
     "iopub.status.busy": "2025-03-13T20:48:24.639684Z",
     "iopub.status.idle": "2025-03-13T20:48:24.643312Z",
     "shell.execute_reply": "2025-03-13T20:48:24.643312Z"
    },
    "papermill": {
     "duration": 0.020768,
     "end_time": "2025-03-13T20:48:24.643312",
     "exception": false,
     "start_time": "2025-03-13T20:48:24.622544",
     "status": "completed"
    },
    "tags": []
   },
   "outputs": [
    {
     "name": "stdout",
     "output_type": "stream",
     "text": [
      "最終的な X の特徴量\n",
      "Index(['Season', 'T1_TeamID', 'T2_TeamID', 'T1_Scoremean',\n",
      "       'T1_opponent_Scoremean', 'T1_PointDiffmean', 'T1_FGMmean',\n",
      "       'T1_opponent_FGMmean', 'T1_FGAmean', 'T1_opponent_FGAmean',\n",
      "       'T1_FGM3mean', 'T1_opponent_FGM3mean', 'T1_FGA3mean',\n",
      "       'T1_opponent_FGA3mean', 'T1_FTMmean', 'T1_opponent_FTMmean',\n",
      "       'T1_FTAmean', 'T1_opponent_FTAmean', 'T1_EFG_SUMmean',\n",
      "       'T1_opponent_EFG_SUMmean', 'T1_TO_RATIOmean',\n",
      "       'T1_opponent_TO_RATIOmean', 'T1_ORmean', 'T1_opponent_ORmean',\n",
      "       'T1_DRmean', 'T1_opponent_DRmean', 'T1_REB_RATEmean',\n",
      "       'T1_opponent_REB_RATEmean', 'T1_FT_RATEmean', 'T1_opponent_FT_RATEmean',\n",
      "       'T1_POSS_RATEmean', 'T1_opponent_POSS_RATEmean', 'T1_Astmean',\n",
      "       'T1_opponent_Astmean', 'T1_TOmean', 'T1_opponent_TOmean', 'T1_Stlmean',\n",
      "       'T1_opponent_Stlmean', 'T1_Blkmean', 'T1_opponent_Blkmean', 'T1_PFmean',\n",
      "       'T1_opponent_PFmean', 'T2_Scoremean', 'T2_opponent_Scoremean',\n",
      "       'T2_PointDiffmean', 'T2_FGMmean', 'T2_opponent_FGMmean', 'T2_FGAmean',\n",
      "       'T2_opponent_FGAmean', 'T2_FGM3mean', 'T2_opponent_FGM3mean',\n",
      "       'T2_FGA3mean', 'T2_opponent_FGA3mean', 'T2_FTMmean',\n",
      "       'T2_opponent_FTMmean', 'T2_FTAmean', 'T2_opponent_FTAmean',\n",
      "       'T2_EFG_SUMmean', 'T2_opponent_EFG_SUMmean', 'T2_TO_RATIOmean',\n",
      "       'T2_opponent_TO_RATIOmean', 'T2_ORmean', 'T2_opponent_ORmean',\n",
      "       'T2_DRmean', 'T2_opponent_DRmean', 'T2_REB_RATEmean',\n",
      "       'T2_opponent_REB_RATEmean', 'T2_FT_RATEmean', 'T2_opponent_FT_RATEmean',\n",
      "       'T2_POSS_RATEmean', 'T2_opponent_POSS_RATEmean', 'T2_Astmean',\n",
      "       'T2_opponent_Astmean', 'T2_TOmean', 'T2_opponent_TOmean', 'T2_Stlmean',\n",
      "       'T2_opponent_Stlmean', 'T2_Blkmean', 'T2_opponent_Blkmean', 'T2_PFmean',\n",
      "       'T2_opponent_PFmean', 'seed_diff', 'rank_diff', 'quality_diff',\n",
      "       'win_ratio_14d_diff'],\n",
      "      dtype='object')\n"
     ]
    }
   ],
   "source": [
    "print(\"最終的な X の特徴量\")\n",
    "print(X.columns)"
   ]
  },
  {
   "cell_type": "code",
   "execution_count": 17,
   "id": "8bf4f0c4",
   "metadata": {
    "execution": {
     "iopub.execute_input": "2025-03-13T20:48:24.648394Z",
     "iopub.status.busy": "2025-03-13T20:48:24.648394Z",
     "iopub.status.idle": "2025-03-13T20:48:24.671244Z",
     "shell.execute_reply": "2025-03-13T20:48:24.669885Z"
    },
    "papermill": {
     "duration": 0.02285,
     "end_time": "2025-03-13T20:48:24.671244",
     "exception": false,
     "start_time": "2025-03-13T20:48:24.648394",
     "status": "completed"
    },
    "tags": []
   },
   "outputs": [
    {
     "name": "stdout",
     "output_type": "stream",
     "text": [
      "<class 'pandas.core.frame.DataFrame'>\n",
      "RangeIndex: 3230 entries, 0 to 3229\n",
      "Data columns (total 85 columns):\n",
      " #   Column                     Non-Null Count  Dtype  \n",
      "---  ------                     --------------  -----  \n",
      " 0   Season                     3230 non-null   int64  \n",
      " 1   T1_TeamID                  3230 non-null   int64  \n",
      " 2   T2_TeamID                  3230 non-null   int64  \n",
      " 3   T1_Scoremean               3230 non-null   float64\n",
      " 4   T1_opponent_Scoremean      3230 non-null   float64\n",
      " 5   T1_PointDiffmean           3230 non-null   float64\n",
      " 6   T1_FGMmean                 3230 non-null   float64\n",
      " 7   T1_opponent_FGMmean        3230 non-null   float64\n",
      " 8   T1_FGAmean                 3230 non-null   float64\n",
      " 9   T1_opponent_FGAmean        3230 non-null   float64\n",
      " 10  T1_FGM3mean                3230 non-null   float64\n",
      " 11  T1_opponent_FGM3mean       3230 non-null   float64\n",
      " 12  T1_FGA3mean                3230 non-null   float64\n",
      " 13  T1_opponent_FGA3mean       3230 non-null   float64\n",
      " 14  T1_FTMmean                 3230 non-null   float64\n",
      " 15  T1_opponent_FTMmean        3230 non-null   float64\n",
      " 16  T1_FTAmean                 3230 non-null   float64\n",
      " 17  T1_opponent_FTAmean        3230 non-null   float64\n",
      " 18  T1_EFG_SUMmean             3230 non-null   float64\n",
      " 19  T1_opponent_EFG_SUMmean    3230 non-null   float64\n",
      " 20  T1_TO_RATIOmean            3230 non-null   float64\n",
      " 21  T1_opponent_TO_RATIOmean   3230 non-null   float64\n",
      " 22  T1_ORmean                  3230 non-null   float64\n",
      " 23  T1_opponent_ORmean         3230 non-null   float64\n",
      " 24  T1_DRmean                  3230 non-null   float64\n",
      " 25  T1_opponent_DRmean         3230 non-null   float64\n",
      " 26  T1_REB_RATEmean            3230 non-null   float64\n",
      " 27  T1_opponent_REB_RATEmean   3230 non-null   float64\n",
      " 28  T1_FT_RATEmean             3230 non-null   float64\n",
      " 29  T1_opponent_FT_RATEmean    3230 non-null   float64\n",
      " 30  T1_POSS_RATEmean           3230 non-null   float64\n",
      " 31  T1_opponent_POSS_RATEmean  3230 non-null   float64\n",
      " 32  T1_Astmean                 3230 non-null   float64\n",
      " 33  T1_opponent_Astmean        3230 non-null   float64\n",
      " 34  T1_TOmean                  3230 non-null   float64\n",
      " 35  T1_opponent_TOmean         3230 non-null   float64\n",
      " 36  T1_Stlmean                 3230 non-null   float64\n",
      " 37  T1_opponent_Stlmean        3230 non-null   float64\n",
      " 38  T1_Blkmean                 3230 non-null   float64\n",
      " 39  T1_opponent_Blkmean        3230 non-null   float64\n",
      " 40  T1_PFmean                  3230 non-null   float64\n",
      " 41  T1_opponent_PFmean         3230 non-null   float64\n",
      " 42  T2_Scoremean               3230 non-null   float64\n",
      " 43  T2_opponent_Scoremean      3230 non-null   float64\n",
      " 44  T2_PointDiffmean           3230 non-null   float64\n",
      " 45  T2_FGMmean                 3230 non-null   float64\n",
      " 46  T2_opponent_FGMmean        3230 non-null   float64\n",
      " 47  T2_FGAmean                 3230 non-null   float64\n",
      " 48  T2_opponent_FGAmean        3230 non-null   float64\n",
      " 49  T2_FGM3mean                3230 non-null   float64\n",
      " 50  T2_opponent_FGM3mean       3230 non-null   float64\n",
      " 51  T2_FGA3mean                3230 non-null   float64\n",
      " 52  T2_opponent_FGA3mean       3230 non-null   float64\n",
      " 53  T2_FTMmean                 3230 non-null   float64\n",
      " 54  T2_opponent_FTMmean        3230 non-null   float64\n",
      " 55  T2_FTAmean                 3230 non-null   float64\n",
      " 56  T2_opponent_FTAmean        3230 non-null   float64\n",
      " 57  T2_EFG_SUMmean             3230 non-null   float64\n",
      " 58  T2_opponent_EFG_SUMmean    3230 non-null   float64\n",
      " 59  T2_TO_RATIOmean            3230 non-null   float64\n",
      " 60  T2_opponent_TO_RATIOmean   3230 non-null   float64\n",
      " 61  T2_ORmean                  3230 non-null   float64\n",
      " 62  T2_opponent_ORmean         3230 non-null   float64\n",
      " 63  T2_DRmean                  3230 non-null   float64\n",
      " 64  T2_opponent_DRmean         3230 non-null   float64\n",
      " 65  T2_REB_RATEmean            3230 non-null   float64\n",
      " 66  T2_opponent_REB_RATEmean   3230 non-null   float64\n",
      " 67  T2_FT_RATEmean             3230 non-null   float64\n",
      " 68  T2_opponent_FT_RATEmean    3230 non-null   float64\n",
      " 69  T2_POSS_RATEmean           3230 non-null   float64\n",
      " 70  T2_opponent_POSS_RATEmean  3230 non-null   float64\n",
      " 71  T2_Astmean                 3230 non-null   float64\n",
      " 72  T2_opponent_Astmean        3230 non-null   float64\n",
      " 73  T2_TOmean                  3230 non-null   float64\n",
      " 74  T2_opponent_TOmean         3230 non-null   float64\n",
      " 75  T2_Stlmean                 3230 non-null   float64\n",
      " 76  T2_opponent_Stlmean        3230 non-null   float64\n",
      " 77  T2_Blkmean                 3230 non-null   float64\n",
      " 78  T2_opponent_Blkmean        3230 non-null   float64\n",
      " 79  T2_PFmean                  3230 non-null   float64\n",
      " 80  T2_opponent_PFmean         3230 non-null   float64\n",
      " 81  seed_diff                  3230 non-null   float64\n",
      " 82  rank_diff                  2096 non-null   float64\n",
      " 83  quality_diff               3230 non-null   float64\n",
      " 84  win_ratio_14d_diff         3230 non-null   float64\n",
      "dtypes: float64(82), int64(3)\n",
      "memory usage: 2.1 MB\n"
     ]
    }
   ],
   "source": [
    "X.info()"
   ]
  },
  {
   "cell_type": "markdown",
   "id": "a5a149d2",
   "metadata": {
    "papermill": {
     "duration": 0.016388,
     "end_time": "2025-03-13T20:48:24.687632",
     "exception": false,
     "start_time": "2025-03-13T20:48:24.671244",
     "status": "completed"
    },
    "tags": []
   },
   "source": [
    "# build models"
   ]
  },
  {
   "cell_type": "code",
   "execution_count": 18,
   "id": "1b443e44",
   "metadata": {
    "execution": {
     "iopub.execute_input": "2025-03-13T20:48:24.703460Z",
     "iopub.status.busy": "2025-03-13T20:48:24.703460Z",
     "iopub.status.idle": "2025-03-13T20:48:24.724929Z",
     "shell.execute_reply": "2025-03-13T20:48:24.724929Z"
    },
    "papermill": {
     "duration": 0.032302,
     "end_time": "2025-03-13T20:48:24.726935",
     "exception": false,
     "start_time": "2025-03-13T20:48:24.694633",
     "status": "completed"
    },
    "tags": []
   },
   "outputs": [],
   "source": [
    "\n",
    "val_mae = []\n",
    "iteration_counts = []\n",
    "xgb_cv = []\n",
    "dtrain = xgb.DMatrix(X, label=y)\n",
    "\n",
    "repeat_cv = MODEL.repeat_cv\n",
    "param = dict(MODEL.xgb_model.param)\n",
    "num_boost_round = MODEL.xgb_model.num_boost_round\n",
    "folds_splits = MODEL.xgb_model.folds_splits\n",
    "early_stopping_rounds = MODEL.xgb_model.early_stopping_rounds\n",
    "\n",
    "# コーシー損失関数\n",
    "def cauchyobj(preds, dtrain):\n",
    "    labels = dtrain.get_label()\n",
    "    c = 5000\n",
    "    x = preds - labels    \n",
    "    grad = x / (x**2/c**2 + 1)\n",
    "    hess = -c**2 * (x**2 - c**2) / (x**2 + c**2)**2\n",
    "    return grad, hess"
   ]
  },
  {
   "cell_type": "code",
   "execution_count": 19,
   "id": "f47ea90e",
   "metadata": {
    "execution": {
     "iopub.execute_input": "2025-03-13T20:48:24.751058Z",
     "iopub.status.busy": "2025-03-13T20:48:24.750050Z",
     "iopub.status.idle": "2025-03-13T20:48:24.763531Z",
     "shell.execute_reply": "2025-03-13T20:48:24.763531Z"
    },
    "papermill": {
     "duration": 0.026946,
     "end_time": "2025-03-13T20:48:24.764971",
     "exception": false,
     "start_time": "2025-03-13T20:48:24.738025",
     "status": "completed"
    },
    "tags": []
   },
   "outputs": [],
   "source": [
    "#########################################\n",
    "# 1. Optunaあり：ハイパーパラメータ最適化 #\n",
    "#########################################\n",
    "def run_optuna_optimization(param, optuna_conf):\n",
    "    def objective(trial):  \n",
    "        logger.info(f\"Trial {trial.number} 開始\")\n",
    "        \n",
    "        current_param = param.copy()  \n",
    "        max_depth_range = optuna_conf.max_depth        \n",
    "        eta_range = optuna_conf.eta\n",
    "        subsample_range = optuna_conf.subsample          \n",
    "        colsample_bytree_range = optuna_conf.colsample_bytree\n",
    "        num_parallel_tree_range = optuna_conf.num_parallel_tree \n",
    "        min_child_weight_range = optuna_conf.min_child_weight \n",
    "        reg_alpha_range = optuna_conf.reg_alpha         \n",
    "        reg_lambda_range = optuna_conf.reg_lambda    \n",
    "        reg_gamma_range = optuna_conf.gamma  \n",
    "\n",
    "        current_param[\"max_depth\"] = trial.suggest_int(\"max_depth\", max_depth_range[0], max_depth_range[1])\n",
    "        current_param[\"eta\"] = trial.suggest_float(\"eta\", eta_range[0], eta_range[1], log=True)\n",
    "        current_param[\"subsample\"] = trial.suggest_float(\"subsample\", subsample_range[0], subsample_range[1])\n",
    "        current_param[\"colsample_bytree\"] = trial.suggest_float(\"colsample_bytree\", colsample_bytree_range[0], colsample_bytree_range[1])\n",
    "        current_param[\"num_parallel_tree\"] = trial.suggest_int(\"num_parallel_tree\", num_parallel_tree_range[0], num_parallel_tree_range[1])\n",
    "        current_param[\"min_child_weight\"] = trial.suggest_int(\"min_child_weight\", min_child_weight_range[0], min_child_weight_range[1])\n",
    "        current_param[\"reg_alpha\"] = trial.suggest_float(\"reg_alpha\", reg_alpha_range[0], reg_alpha_range[1])\n",
    "        current_param[\"reg_lambda\"] = trial.suggest_float(\"reg_lambda\", reg_lambda_range[0], reg_lambda_range[1])\n",
    "        current_param[\"gamma\"] = trial.suggest_float(\"gamma\", reg_gamma_range[0], reg_gamma_range[1])\n",
    "        \n",
    "        if current_param.get(\"eval_metric\", \"mae\") == \"rmse\":\n",
    "            score_name = \"test-rmse-mean\"\n",
    "        elif current_param.get(\"eval_metric\", \"mae\") == \"mae\":\n",
    "            score_name = \"test-mae-mean\"\n",
    "        elif  current_param.get(\"eval_metric\", \"mae\") == \"logloss\":\n",
    "            score_name = \"test-logloss-mean\"\n",
    "        \n",
    "        print(current_param)  \n",
    "        cv_scores = []\n",
    "        for i in range(repeat_cv):\n",
    "            cv_result = xgb.cv(\n",
    "                params=current_param,\n",
    "                dtrain=dtrain,\n",
    "                obj=cauchyobj,\n",
    "                num_boost_round=num_boost_round,\n",
    "                folds=KFold(n_splits=folds_splits, shuffle=True, random_state=i),\n",
    "                early_stopping_rounds=early_stopping_rounds,\n",
    "                verbose_eval=False\n",
    "            )\n",
    "            fold_score = np.min(cv_result[score_name].values)\n",
    "            cv_scores.append(fold_score)\n",
    "        mean_score = np.mean(cv_scores)\n",
    "        logger.info(f\"Trial {trial.number} 終了: スコア {mean_score}\")\n",
    "        \n",
    "        return mean_score\n",
    "\n",
    "    logger.info(\"Optuna最適化開始\")\n",
    "    N_WARMUP_STEPS = optuna_conf.n_warmup_steps\n",
    "    TIMEOUT = optuna_conf.timeout\n",
    "    N_JOBS = optuna_conf.n_jobs\n",
    "    N_TRIALS = optuna_conf.n_trials\n",
    "    \n",
    "    sampler = optuna.samplers.TPESampler(seed=42)\n",
    "    pruner = optuna.pruners.MedianPruner(n_warmup_steps=N_WARMUP_STEPS)\n",
    "\n",
    "    study = optuna.create_study(direction=\"minimize\", sampler=sampler, pruner=pruner)\n",
    "    study.optimize(objective, n_trials=N_TRIALS, timeout=TIMEOUT, n_jobs=N_JOBS)\n",
    "\n",
    "    best_trial = study.best_trial\n",
    "    logger.info(\"Best trial:\")\n",
    "    logger.info(f\"  Value: {best_trial.value}\")\n",
    "    \n",
    "    for key, value in best_trial.params.items():\n",
    "        print(f\"    {key}: {value}\")\n",
    "    param.update(best_trial.params)\n",
    "\n",
    "    logger.info(\"Optuna最適化終了\")\n",
    "    return param"
   ]
  },
  {
   "cell_type": "code",
   "execution_count": 20,
   "id": "d62cf965",
   "metadata": {
    "execution": {
     "iopub.execute_input": "2025-03-13T20:48:24.789572Z",
     "iopub.status.busy": "2025-03-13T20:48:24.788572Z",
     "iopub.status.idle": "2025-03-13T20:48:24.794844Z",
     "shell.execute_reply": "2025-03-13T20:48:24.794844Z"
    },
    "papermill": {
     "duration": 0.021378,
     "end_time": "2025-03-13T20:48:24.796849",
     "exception": false,
     "start_time": "2025-03-13T20:48:24.775471",
     "status": "completed"
    },
    "tags": []
   },
   "outputs": [
    {
     "name": "stdout",
     "output_type": "stream",
     "text": [
      "not use Optuna, use xgb_model.param\n",
      "param: {'eval_metric': 'rmse', 'booster': 'gbtree', 'eta': 0.02, 'subsample': 0.35, 'colsample_bytree': 0.7, 'num_parallel_tree': 10, 'min_child_weight': 40, 'gamma': 10, 'max_depth': 3}\n",
      "repeat_cv: 10\n",
      "num_boost_round: 3000\n",
      "folds_splits: 5\n",
      "early_stopping_rounds: 25\n"
     ]
    }
   ],
   "source": [
    "IS_OPTUNA = MODEL.optuna_enabled\n",
    "if IS_OPTUNA:\n",
    "    print(\"Optuna use mode\") \n",
    "    optuna_conf = MODEL.xgb_model.optuna\n",
    "    logger.add(os.path.join(OUTPUT_PATH, \"results.log\"), format=\"{time:YYYY-MM-DD at HH:mm:ss} - {level} - {message}\", level=\"INFO\")\n",
    "    param = run_optuna_optimization(param, optuna_conf)\n",
    "    print(\"param updated by optuna\")\n",
    "    results+= [\"param set after optuna is below\", f\"{param}\", \"\"]\n",
    "else:    \n",
    "    print(\"not use Optuna, use xgb_model.param\")\n",
    "\n",
    "\n",
    "\n",
    "print(\"param:\", param)\n",
    "print(\"repeat_cv:\", repeat_cv)\n",
    "print(\"num_boost_round:\", num_boost_round)\n",
    "print(\"folds_splits:\", folds_splits)\n",
    "print(\"early_stopping_rounds:\", early_stopping_rounds)"
   ]
  },
  {
   "cell_type": "code",
   "execution_count": 21,
   "id": "e8c76f8e",
   "metadata": {
    "execution": {
     "iopub.execute_input": "2025-03-13T20:48:24.820758Z",
     "iopub.status.busy": "2025-03-13T20:48:24.820758Z",
     "iopub.status.idle": "2025-03-13T20:53:55.132662Z",
     "shell.execute_reply": "2025-03-13T20:53:55.132662Z"
    },
    "papermill": {
     "duration": 330.326423,
     "end_time": "2025-03-13T20:53:55.134709",
     "exception": false,
     "start_time": "2025-03-13T20:48:24.808286",
     "status": "completed"
    },
    "tags": []
   },
   "outputs": [
    {
     "name": "stderr",
     "output_type": "stream",
     "text": [
      "\r",
      "  0%|                                                                                                                                                            | 0/10 [00:00<?, ?it/s]"
     ]
    },
    {
     "name": "stdout",
     "output_type": "stream",
     "text": [
      "[0]\ttrain-rmse:17.09834+0.03291\ttest-rmse:17.10202+0.13348\n"
     ]
    },
    {
     "name": "stdout",
     "output_type": "stream",
     "text": [
      "[50]\ttrain-rmse:13.08525+0.04835\ttest-rmse:13.28962+0.17921\n"
     ]
    },
    {
     "name": "stdout",
     "output_type": "stream",
     "text": [
      "[100]\ttrain-rmse:11.98557+0.04279\ttest-rmse:12.36569+0.19427\n"
     ]
    },
    {
     "name": "stdout",
     "output_type": "stream",
     "text": [
      "[150]\ttrain-rmse:11.55809+0.04071\ttest-rmse:12.10228+0.18673\n"
     ]
    },
    {
     "name": "stdout",
     "output_type": "stream",
     "text": [
      "[200]\ttrain-rmse:11.29083+0.04207\ttest-rmse:11.99253+0.19062\n"
     ]
    },
    {
     "name": "stdout",
     "output_type": "stream",
     "text": [
      "[250]\ttrain-rmse:11.08130+0.04293\ttest-rmse:11.93558+0.19282\n"
     ]
    },
    {
     "name": "stdout",
     "output_type": "stream",
     "text": [
      "[300]\ttrain-rmse:10.90293+0.04522\ttest-rmse:11.90280+0.19119\n"
     ]
    },
    {
     "name": "stdout",
     "output_type": "stream",
     "text": [
      "[350]\ttrain-rmse:10.73950+0.04560\ttest-rmse:11.88467+0.19418\n"
     ]
    },
    {
     "name": "stdout",
     "output_type": "stream",
     "text": [
      "[400]\ttrain-rmse:10.58912+0.04614\ttest-rmse:11.87485+0.19551\n"
     ]
    },
    {
     "name": "stdout",
     "output_type": "stream",
     "text": [
      "[450]\ttrain-rmse:10.44827+0.04873\ttest-rmse:11.86896+0.19674\n"
     ]
    },
    {
     "name": "stdout",
     "output_type": "stream",
     "text": [
      "[500]\ttrain-rmse:10.31250+0.04904\ttest-rmse:11.86599+0.20110\n"
     ]
    },
    {
     "name": "stdout",
     "output_type": "stream",
     "text": [
      "[515]\ttrain-rmse:10.27327+0.04797\ttest-rmse:11.86712+0.20088\n"
     ]
    },
    {
     "name": "stderr",
     "output_type": "stream",
     "text": [
      "\r",
      " 10%|██████████████▊                                                                                                                                     | 1/10 [00:29<04:23, 29.33s/it]"
     ]
    },
    {
     "name": "stdout",
     "output_type": "stream",
     "text": [
      "[0]\ttrain-rmse:17.09572+0.15427\ttest-rmse:17.08855+0.62915\n"
     ]
    },
    {
     "name": "stdout",
     "output_type": "stream",
     "text": [
      "[50]\ttrain-rmse:13.08238+0.10401\ttest-rmse:13.27660+0.51096\n"
     ]
    },
    {
     "name": "stdout",
     "output_type": "stream",
     "text": [
      "[100]\ttrain-rmse:11.98610+0.10150\ttest-rmse:12.36298+0.44627\n"
     ]
    },
    {
     "name": "stdout",
     "output_type": "stream",
     "text": [
      "[150]\ttrain-rmse:11.55861+0.10059\ttest-rmse:12.09088+0.42534\n"
     ]
    },
    {
     "name": "stdout",
     "output_type": "stream",
     "text": [
      "[200]\ttrain-rmse:11.29339+0.10225\ttest-rmse:11.98490+0.42017\n"
     ]
    },
    {
     "name": "stdout",
     "output_type": "stream",
     "text": [
      "[250]\ttrain-rmse:11.08526+0.10352\ttest-rmse:11.92965+0.41354\n"
     ]
    },
    {
     "name": "stdout",
     "output_type": "stream",
     "text": [
      "[300]\ttrain-rmse:10.90390+0.10308\ttest-rmse:11.90226+0.40850\n"
     ]
    },
    {
     "name": "stdout",
     "output_type": "stream",
     "text": [
      "[350]\ttrain-rmse:10.74155+0.10092\ttest-rmse:11.88376+0.40736\n"
     ]
    },
    {
     "name": "stdout",
     "output_type": "stream",
     "text": [
      "[400]\ttrain-rmse:10.59215+0.10158\ttest-rmse:11.87059+0.40411\n"
     ]
    },
    {
     "name": "stdout",
     "output_type": "stream",
     "text": [
      "[450]\ttrain-rmse:10.45194+0.10105\ttest-rmse:11.86226+0.40288\n"
     ]
    },
    {
     "name": "stdout",
     "output_type": "stream",
     "text": [
      "[500]\ttrain-rmse:10.31831+0.09949\ttest-rmse:11.86143+0.40367\n"
     ]
    },
    {
     "name": "stdout",
     "output_type": "stream",
     "text": [
      "[550]\ttrain-rmse:10.19166+0.09887\ttest-rmse:11.86152+0.40090\n"
     ]
    },
    {
     "name": "stdout",
     "output_type": "stream",
     "text": [
      "[558]\ttrain-rmse:10.17168+0.09889\ttest-rmse:11.86178+0.40060\n"
     ]
    },
    {
     "name": "stderr",
     "output_type": "stream",
     "text": [
      "\r",
      " 20%|█████████████████████████████▌                                                                                                                      | 2/10 [01:01<04:08, 31.11s/it]"
     ]
    },
    {
     "name": "stdout",
     "output_type": "stream",
     "text": [
      "[0]\ttrain-rmse:17.09700+0.11931\ttest-rmse:17.09334+0.49366\n"
     ]
    },
    {
     "name": "stdout",
     "output_type": "stream",
     "text": [
      "[50]\ttrain-rmse:13.08714+0.07366\ttest-rmse:13.26379+0.36723\n"
     ]
    },
    {
     "name": "stdout",
     "output_type": "stream",
     "text": [
      "[100]\ttrain-rmse:11.99149+0.06519\ttest-rmse:12.33697+0.31335\n"
     ]
    },
    {
     "name": "stdout",
     "output_type": "stream",
     "text": [
      "[150]\ttrain-rmse:11.56629+0.06313\ttest-rmse:12.06157+0.30269\n"
     ]
    },
    {
     "name": "stdout",
     "output_type": "stream",
     "text": [
      "[200]\ttrain-rmse:11.30055+0.06489\ttest-rmse:11.95032+0.30181\n"
     ]
    },
    {
     "name": "stdout",
     "output_type": "stream",
     "text": [
      "[250]\ttrain-rmse:11.09166+0.06419\ttest-rmse:11.88843+0.30142\n"
     ]
    },
    {
     "name": "stdout",
     "output_type": "stream",
     "text": [
      "[300]\ttrain-rmse:10.90910+0.06386\ttest-rmse:11.85737+0.29693\n"
     ]
    },
    {
     "name": "stdout",
     "output_type": "stream",
     "text": [
      "[350]\ttrain-rmse:10.74471+0.06365\ttest-rmse:11.83646+0.29533\n"
     ]
    },
    {
     "name": "stdout",
     "output_type": "stream",
     "text": [
      "[400]\ttrain-rmse:10.59311+0.06445\ttest-rmse:11.82421+0.29455\n"
     ]
    },
    {
     "name": "stdout",
     "output_type": "stream",
     "text": [
      "[450]\ttrain-rmse:10.45174+0.06441\ttest-rmse:11.81640+0.28783\n"
     ]
    },
    {
     "name": "stdout",
     "output_type": "stream",
     "text": [
      "[500]\ttrain-rmse:10.31874+0.06280\ttest-rmse:11.81356+0.28680\n"
     ]
    },
    {
     "name": "stdout",
     "output_type": "stream",
     "text": [
      "[550]\ttrain-rmse:10.19121+0.06268\ttest-rmse:11.81256+0.28459\n"
     ]
    },
    {
     "name": "stdout",
     "output_type": "stream",
     "text": [
      "[557]\ttrain-rmse:10.17371+0.06265\ttest-rmse:11.81248+0.28354\n"
     ]
    },
    {
     "name": "stderr",
     "output_type": "stream",
     "text": [
      "\r",
      " 30%|████████████████████████████████████████████▍                                                                                                       | 3/10 [01:35<03:45, 32.26s/it]"
     ]
    },
    {
     "name": "stdout",
     "output_type": "stream",
     "text": [
      "[0]\ttrain-rmse:17.09680+0.07562\ttest-rmse:17.09705+0.30674\n"
     ]
    },
    {
     "name": "stdout",
     "output_type": "stream",
     "text": [
      "[50]\ttrain-rmse:13.08327+0.04700\ttest-rmse:13.26340+0.30087\n"
     ]
    },
    {
     "name": "stdout",
     "output_type": "stream",
     "text": [
      "[100]\ttrain-rmse:11.98790+0.05139\ttest-rmse:12.33709+0.25098\n"
     ]
    },
    {
     "name": "stdout",
     "output_type": "stream",
     "text": [
      "[150]\ttrain-rmse:11.56397+0.05375\ttest-rmse:12.06408+0.22623\n"
     ]
    },
    {
     "name": "stdout",
     "output_type": "stream",
     "text": [
      "[200]\ttrain-rmse:11.29797+0.05804\ttest-rmse:11.95323+0.22029\n"
     ]
    },
    {
     "name": "stdout",
     "output_type": "stream",
     "text": [
      "[250]\ttrain-rmse:11.09008+0.06285\ttest-rmse:11.89400+0.22400\n"
     ]
    },
    {
     "name": "stdout",
     "output_type": "stream",
     "text": [
      "[300]\ttrain-rmse:10.90790+0.06414\ttest-rmse:11.86205+0.22525\n"
     ]
    },
    {
     "name": "stdout",
     "output_type": "stream",
     "text": [
      "[350]\ttrain-rmse:10.74399+0.06716\ttest-rmse:11.84171+0.23188\n"
     ]
    },
    {
     "name": "stdout",
     "output_type": "stream",
     "text": [
      "[400]\ttrain-rmse:10.59484+0.07088\ttest-rmse:11.83323+0.23394\n"
     ]
    },
    {
     "name": "stdout",
     "output_type": "stream",
     "text": [
      "[450]\ttrain-rmse:10.45495+0.07166\ttest-rmse:11.82563+0.24143\n"
     ]
    },
    {
     "name": "stdout",
     "output_type": "stream",
     "text": [
      "[500]\ttrain-rmse:10.32255+0.07339\ttest-rmse:11.82049+0.24845\n"
     ]
    },
    {
     "name": "stdout",
     "output_type": "stream",
     "text": [
      "[550]\ttrain-rmse:10.19540+0.07567\ttest-rmse:11.81532+0.25431\n"
     ]
    },
    {
     "name": "stdout",
     "output_type": "stream",
     "text": [
      "[591]\ttrain-rmse:10.09720+0.07638\ttest-rmse:11.81592+0.25848\n"
     ]
    },
    {
     "name": "stderr",
     "output_type": "stream",
     "text": [
      "\r",
      " 40%|███████████████████████████████████████████████████████████▏                                                                                        | 4/10 [02:11<03:22, 33.71s/it]"
     ]
    },
    {
     "name": "stdout",
     "output_type": "stream",
     "text": [
      "[0]\ttrain-rmse:17.09563+0.08416\ttest-rmse:17.09666+0.33656\n"
     ]
    },
    {
     "name": "stdout",
     "output_type": "stream",
     "text": [
      "[50]\ttrain-rmse:13.08130+0.10558\ttest-rmse:13.27497+0.47406\n"
     ]
    },
    {
     "name": "stdout",
     "output_type": "stream",
     "text": [
      "[100]\ttrain-rmse:11.98454+0.10102\ttest-rmse:12.35108+0.47143\n"
     ]
    },
    {
     "name": "stdout",
     "output_type": "stream",
     "text": [
      "[150]\ttrain-rmse:11.56070+0.10195\ttest-rmse:12.08244+0.45767\n"
     ]
    },
    {
     "name": "stdout",
     "output_type": "stream",
     "text": [
      "[200]\ttrain-rmse:11.29605+0.10099\ttest-rmse:11.96979+0.44526\n"
     ]
    },
    {
     "name": "stdout",
     "output_type": "stream",
     "text": [
      "[250]\ttrain-rmse:11.08869+0.09853\ttest-rmse:11.91490+0.43554\n"
     ]
    },
    {
     "name": "stdout",
     "output_type": "stream",
     "text": [
      "[300]\ttrain-rmse:10.91193+0.09564\ttest-rmse:11.88658+0.42965\n"
     ]
    },
    {
     "name": "stdout",
     "output_type": "stream",
     "text": [
      "[350]\ttrain-rmse:10.74905+0.09430\ttest-rmse:11.86441+0.42279\n"
     ]
    },
    {
     "name": "stdout",
     "output_type": "stream",
     "text": [
      "[400]\ttrain-rmse:10.60042+0.09366\ttest-rmse:11.85263+0.41652\n"
     ]
    },
    {
     "name": "stdout",
     "output_type": "stream",
     "text": [
      "[450]\ttrain-rmse:10.46102+0.09416\ttest-rmse:11.84048+0.41148\n"
     ]
    },
    {
     "name": "stdout",
     "output_type": "stream",
     "text": [
      "[500]\ttrain-rmse:10.33026+0.09471\ttest-rmse:11.83640+0.40626\n"
     ]
    },
    {
     "name": "stdout",
     "output_type": "stream",
     "text": [
      "[550]\ttrain-rmse:10.20585+0.09573\ttest-rmse:11.83363+0.40117\n"
     ]
    },
    {
     "name": "stdout",
     "output_type": "stream",
     "text": [
      "[576]\ttrain-rmse:10.14251+0.09461\ttest-rmse:11.83418+0.39845\n"
     ]
    },
    {
     "name": "stderr",
     "output_type": "stream",
     "text": [
      "\r",
      " 50%|██████████████████████████████████████████████████████████████████████████                                                                          | 5/10 [02:45<02:50, 34.02s/it]"
     ]
    },
    {
     "name": "stdout",
     "output_type": "stream",
     "text": [
      "[0]\ttrain-rmse:17.09709+0.07257\ttest-rmse:17.09811+0.29872\n"
     ]
    },
    {
     "name": "stdout",
     "output_type": "stream",
     "text": [
      "[50]\ttrain-rmse:13.08330+0.06292\ttest-rmse:13.26215+0.25847\n"
     ]
    },
    {
     "name": "stdout",
     "output_type": "stream",
     "text": [
      "[100]\ttrain-rmse:11.98763+0.06951\ttest-rmse:12.33044+0.26805\n"
     ]
    },
    {
     "name": "stdout",
     "output_type": "stream",
     "text": [
      "[150]\ttrain-rmse:11.56501+0.06844\ttest-rmse:12.05765+0.26960\n"
     ]
    },
    {
     "name": "stdout",
     "output_type": "stream",
     "text": [
      "[200]\ttrain-rmse:11.29692+0.06511\ttest-rmse:11.94375+0.26638\n"
     ]
    },
    {
     "name": "stdout",
     "output_type": "stream",
     "text": [
      "[250]\ttrain-rmse:11.08906+0.06419\ttest-rmse:11.88705+0.26393\n"
     ]
    },
    {
     "name": "stdout",
     "output_type": "stream",
     "text": [
      "[300]\ttrain-rmse:10.90942+0.06362\ttest-rmse:11.85062+0.26461\n"
     ]
    },
    {
     "name": "stdout",
     "output_type": "stream",
     "text": [
      "[350]\ttrain-rmse:10.74870+0.06448\ttest-rmse:11.82957+0.26624\n"
     ]
    },
    {
     "name": "stdout",
     "output_type": "stream",
     "text": [
      "[400]\ttrain-rmse:10.59726+0.06648\ttest-rmse:11.81890+0.26705\n"
     ]
    },
    {
     "name": "stdout",
     "output_type": "stream",
     "text": [
      "[450]\ttrain-rmse:10.45678+0.06574\ttest-rmse:11.81163+0.26717\n"
     ]
    },
    {
     "name": "stdout",
     "output_type": "stream",
     "text": [
      "[500]\ttrain-rmse:10.32458+0.06661\ttest-rmse:11.80827+0.26763\n"
     ]
    },
    {
     "name": "stdout",
     "output_type": "stream",
     "text": [
      "[549]\ttrain-rmse:10.19940+0.06565\ttest-rmse:11.80547+0.26816\n"
     ]
    },
    {
     "name": "stderr",
     "output_type": "stream",
     "text": [
      "\r",
      " 60%|████████████████████████████████████████████████████████████████████████████████████████▊                                                           | 6/10 [03:19<02:15, 33.92s/it]"
     ]
    },
    {
     "name": "stdout",
     "output_type": "stream",
     "text": [
      "[0]\ttrain-rmse:17.09720+0.10073\ttest-rmse:17.09673+0.40072\n"
     ]
    },
    {
     "name": "stdout",
     "output_type": "stream",
     "text": [
      "[50]\ttrain-rmse:13.08491+0.01856\ttest-rmse:13.28956+0.17220\n"
     ]
    },
    {
     "name": "stdout",
     "output_type": "stream",
     "text": [
      "[100]\ttrain-rmse:11.98580+0.01730\ttest-rmse:12.35671+0.10802\n"
     ]
    },
    {
     "name": "stdout",
     "output_type": "stream",
     "text": [
      "[150]\ttrain-rmse:11.55969+0.02771\ttest-rmse:12.08551+0.11966\n"
     ]
    },
    {
     "name": "stdout",
     "output_type": "stream",
     "text": [
      "[200]\ttrain-rmse:11.29344+0.03088\ttest-rmse:11.97074+0.13572\n"
     ]
    },
    {
     "name": "stdout",
     "output_type": "stream",
     "text": [
      "[250]\ttrain-rmse:11.08603+0.03359\ttest-rmse:11.91181+0.14980\n"
     ]
    },
    {
     "name": "stdout",
     "output_type": "stream",
     "text": [
      "[300]\ttrain-rmse:10.90816+0.03483\ttest-rmse:11.87718+0.16035\n"
     ]
    },
    {
     "name": "stdout",
     "output_type": "stream",
     "text": [
      "[350]\ttrain-rmse:10.74566+0.03232\ttest-rmse:11.85811+0.16259\n"
     ]
    },
    {
     "name": "stdout",
     "output_type": "stream",
     "text": [
      "[400]\ttrain-rmse:10.59691+0.03267\ttest-rmse:11.84721+0.16685\n"
     ]
    },
    {
     "name": "stdout",
     "output_type": "stream",
     "text": [
      "[450]\ttrain-rmse:10.45683+0.03244\ttest-rmse:11.84406+0.17196\n"
     ]
    },
    {
     "name": "stdout",
     "output_type": "stream",
     "text": [
      "[500]\ttrain-rmse:10.32388+0.03251\ttest-rmse:11.83873+0.17305\n"
     ]
    },
    {
     "name": "stdout",
     "output_type": "stream",
     "text": [
      "[539]\ttrain-rmse:10.22460+0.03223\ttest-rmse:11.83926+0.17491\n"
     ]
    },
    {
     "name": "stderr",
     "output_type": "stream",
     "text": [
      "\r",
      " 70%|███████████████████████████████████████████████████████████████████████████████████████████████████████▌                                            | 7/10 [03:51<01:39, 33.22s/it]"
     ]
    },
    {
     "name": "stdout",
     "output_type": "stream",
     "text": [
      "[0]\ttrain-rmse:17.09467+0.20604\ttest-rmse:17.07950+0.81316\n"
     ]
    },
    {
     "name": "stdout",
     "output_type": "stream",
     "text": [
      "[50]\ttrain-rmse:13.07833+0.12062\ttest-rmse:13.26796+0.68926\n"
     ]
    },
    {
     "name": "stdout",
     "output_type": "stream",
     "text": [
      "[100]\ttrain-rmse:11.98104+0.10120\ttest-rmse:12.35771+0.57121\n"
     ]
    },
    {
     "name": "stdout",
     "output_type": "stream",
     "text": [
      "[150]\ttrain-rmse:11.55264+0.09717\ttest-rmse:12.09998+0.51373\n"
     ]
    },
    {
     "name": "stdout",
     "output_type": "stream",
     "text": [
      "[200]\ttrain-rmse:11.28276+0.09405\ttest-rmse:11.99862+0.48216\n"
     ]
    },
    {
     "name": "stdout",
     "output_type": "stream",
     "text": [
      "[250]\ttrain-rmse:11.07424+0.09363\ttest-rmse:11.94903+0.46017\n"
     ]
    },
    {
     "name": "stdout",
     "output_type": "stream",
     "text": [
      "[300]\ttrain-rmse:10.89190+0.09175\ttest-rmse:11.92271+0.44802\n"
     ]
    },
    {
     "name": "stdout",
     "output_type": "stream",
     "text": [
      "[350]\ttrain-rmse:10.72916+0.09263\ttest-rmse:11.90496+0.43672\n"
     ]
    },
    {
     "name": "stdout",
     "output_type": "stream",
     "text": [
      "[400]\ttrain-rmse:10.57945+0.09210\ttest-rmse:11.89818+0.43110\n"
     ]
    },
    {
     "name": "stdout",
     "output_type": "stream",
     "text": [
      "[450]\ttrain-rmse:10.43936+0.09134\ttest-rmse:11.89430+0.42486\n"
     ]
    },
    {
     "name": "stdout",
     "output_type": "stream",
     "text": [
      "[500]\ttrain-rmse:10.30697+0.09311\ttest-rmse:11.89448+0.42402\n"
     ]
    },
    {
     "name": "stdout",
     "output_type": "stream",
     "text": [
      "[505]\ttrain-rmse:10.29429+0.09304\ttest-rmse:11.89516+0.42330\n"
     ]
    },
    {
     "name": "stderr",
     "output_type": "stream",
     "text": [
      "\r",
      " 80%|██████████████████████████████████████████████████████████████████████████████████████████████████████████████████████▍                             | 8/10 [04:21<01:04, 32.20s/it]"
     ]
    },
    {
     "name": "stdout",
     "output_type": "stream",
     "text": [
      "[0]\ttrain-rmse:17.09586+0.19976\ttest-rmse:17.08198+0.83879\n"
     ]
    },
    {
     "name": "stdout",
     "output_type": "stream",
     "text": [
      "[50]\ttrain-rmse:13.07775+0.11602\ttest-rmse:13.28569+0.68884\n"
     ]
    },
    {
     "name": "stdout",
     "output_type": "stream",
     "text": [
      "[100]\ttrain-rmse:11.97870+0.08495\ttest-rmse:12.37735+0.52998\n"
     ]
    },
    {
     "name": "stdout",
     "output_type": "stream",
     "text": [
      "[150]\ttrain-rmse:11.55240+0.07629\ttest-rmse:12.11518+0.43666\n"
     ]
    },
    {
     "name": "stdout",
     "output_type": "stream",
     "text": [
      "[200]\ttrain-rmse:11.28777+0.07401\ttest-rmse:12.00913+0.38981\n"
     ]
    },
    {
     "name": "stdout",
     "output_type": "stream",
     "text": [
      "[250]\ttrain-rmse:11.07820+0.07281\ttest-rmse:11.95389+0.36352\n"
     ]
    },
    {
     "name": "stdout",
     "output_type": "stream",
     "text": [
      "[300]\ttrain-rmse:10.89928+0.07263\ttest-rmse:11.91999+0.34783\n"
     ]
    },
    {
     "name": "stdout",
     "output_type": "stream",
     "text": [
      "[350]\ttrain-rmse:10.73625+0.07196\ttest-rmse:11.89692+0.33797\n"
     ]
    },
    {
     "name": "stdout",
     "output_type": "stream",
     "text": [
      "[400]\ttrain-rmse:10.58657+0.07143\ttest-rmse:11.88528+0.33169\n"
     ]
    },
    {
     "name": "stdout",
     "output_type": "stream",
     "text": [
      "[450]\ttrain-rmse:10.44646+0.07067\ttest-rmse:11.87575+0.32172\n"
     ]
    },
    {
     "name": "stdout",
     "output_type": "stream",
     "text": [
      "[500]\ttrain-rmse:10.31439+0.07178\ttest-rmse:11.87319+0.31961\n"
     ]
    },
    {
     "name": "stdout",
     "output_type": "stream",
     "text": [
      "[550]\ttrain-rmse:10.18984+0.07397\ttest-rmse:11.86881+0.31873\n"
     ]
    },
    {
     "name": "stdout",
     "output_type": "stream",
     "text": [
      "[569]\ttrain-rmse:10.14386+0.07349\ttest-rmse:11.86837+0.31772\n"
     ]
    },
    {
     "name": "stderr",
     "output_type": "stream",
     "text": [
      "\r",
      " 90%|█████████████████████████████████████████████████████████████████████████████████████████████████████████████████████████████████████▏              | 9/10 [04:55<00:32, 32.83s/it]"
     ]
    },
    {
     "name": "stdout",
     "output_type": "stream",
     "text": [
      "[0]\ttrain-rmse:17.09696+0.13659\ttest-rmse:17.09165+0.54995\n"
     ]
    },
    {
     "name": "stdout",
     "output_type": "stream",
     "text": [
      "[50]\ttrain-rmse:13.08325+0.08847\ttest-rmse:13.26870+0.49727\n"
     ]
    },
    {
     "name": "stdout",
     "output_type": "stream",
     "text": [
      "[100]\ttrain-rmse:11.98868+0.08033\ttest-rmse:12.34981+0.41986\n"
     ]
    },
    {
     "name": "stdout",
     "output_type": "stream",
     "text": [
      "[150]\ttrain-rmse:11.56448+0.08366\ttest-rmse:12.08215+0.38587\n"
     ]
    },
    {
     "name": "stdout",
     "output_type": "stream",
     "text": [
      "[200]\ttrain-rmse:11.29944+0.08345\ttest-rmse:11.97354+0.37409\n"
     ]
    },
    {
     "name": "stdout",
     "output_type": "stream",
     "text": [
      "[250]\ttrain-rmse:11.09209+0.08188\ttest-rmse:11.91686+0.36404\n"
     ]
    },
    {
     "name": "stdout",
     "output_type": "stream",
     "text": [
      "[300]\ttrain-rmse:10.91249+0.08407\ttest-rmse:11.88028+0.35746\n"
     ]
    },
    {
     "name": "stdout",
     "output_type": "stream",
     "text": [
      "[350]\ttrain-rmse:10.75103+0.08200\ttest-rmse:11.85924+0.35175\n"
     ]
    },
    {
     "name": "stdout",
     "output_type": "stream",
     "text": [
      "[400]\ttrain-rmse:10.60094+0.07926\ttest-rmse:11.84457+0.34664\n"
     ]
    },
    {
     "name": "stdout",
     "output_type": "stream",
     "text": [
      "[450]\ttrain-rmse:10.46019+0.07708\ttest-rmse:11.83491+0.34082\n"
     ]
    },
    {
     "name": "stdout",
     "output_type": "stream",
     "text": [
      "[500]\ttrain-rmse:10.32886+0.07725\ttest-rmse:11.83119+0.33548\n"
     ]
    },
    {
     "name": "stdout",
     "output_type": "stream",
     "text": [
      "[550]\ttrain-rmse:10.20303+0.07699\ttest-rmse:11.82543+0.33046\n"
     ]
    },
    {
     "name": "stdout",
     "output_type": "stream",
     "text": [
      "[573]\ttrain-rmse:10.14784+0.07613\ttest-rmse:11.82667+0.32846\n"
     ]
    },
    {
     "name": "stderr",
     "output_type": "stream",
     "text": [
      "\r",
      "100%|███████████████████████████████████████████████████████████████████████████████████████████████████████████████████████████████████████████████████| 10/10 [05:30<00:00, 33.37s/it]"
     ]
    },
    {
     "name": "stderr",
     "output_type": "stream",
     "text": [
      "\r",
      "100%|███████████████████████████████████████████████████████████████████████████████████████████████████████████████████████████████████████████████████| 10/10 [05:30<00:00, 33.01s/it]"
     ]
    },
    {
     "name": "stderr",
     "output_type": "stream",
     "text": [
      "\n"
     ]
    }
   ],
   "source": [
    "if param.get(\"eval_metric\", \"mae\") == \"rmse\":\n",
    "    score_key = \"test-rmse-mean\"\n",
    "    ylabel = \"Test RMSE Mean\"\n",
    "    title = \"Learning Curve: Test RMSE vs Boosting Rounds\"\n",
    "elif param.get(\"eval_metric\", \"mae\") == \"mae\":\n",
    "    score_key = \"test-mae-mean\"\n",
    "    ylabel = \"Test MAE Mean\"\n",
    "    title = \"Learning Curve: Test MAE vs Boosting Rounds\"\n",
    "elif param.get(\"eval_metric\", \"mae\") == \"logloss\":\n",
    "    score_key = \"test-logloss-mean\"\n",
    "    ylabel = \"Test Logloss Mean\"\n",
    "    title = \"Learning Curve: Test Logloss vs Boosting Rounds\"\n",
    "\n",
    "\n",
    "for i in tqdm(range(repeat_cv), leave=True, dynamic_ncols=True): \n",
    "    cv_result = xgb.cv(\n",
    "        params=param,\n",
    "        dtrain=dtrain,\n",
    "        obj=cauchyobj,\n",
    "        num_boost_round=num_boost_round,\n",
    "        folds=KFold(n_splits=folds_splits, shuffle=True, random_state=i),\n",
    "        early_stopping_rounds=early_stopping_rounds,\n",
    "        verbose_eval=50\n",
    "    )\n",
    "    \"\"\"\n",
    "    train-mae-mean: 各fold における訓練データの MAE の平均値。\n",
    "    train-mae-std: 訓練データの MAE の標準偏差。\n",
    "    test-mae-mean: 各fold における検証データの MAE の平均値。\n",
    "    test-mae-std: 検証データの MAE の標準偏差。\n",
    "    \"\"\"\n",
    "    xgb_cv.append(cv_result)\n",
    "    \n",
    "\n",
    "\n",
    "\n",
    "# 各 repeater ごとの最適ブーストラウンド数と検証MAE\n",
    "iteration_counts = [np.argmin(cv[score_key].values) for cv in xgb_cv]\n",
    "val_mae = [np.min(cv[score_key].values) for cv in xgb_cv]\n",
    "\n",
    "mean_iteration = np.mean(iteration_counts)\n",
    "mean_val_mae = np.mean(val_mae)\n",
    "min_val_mae = np.min(val_mae)\n",
    "results.append(f\"mean_iteration: {mean_iteration}\")\n",
    "results.append(f\"mean_val_{param['eval_metric']}: {mean_val_mae}\")\n",
    "results.append(f\"min_val_{param['eval_metric']}: {min_val_mae}\")\n",
    "results.append(\"\")\n",
    "\n",
    "###\n",
    "plt.figure(figsize=(10, 6))\n",
    "for i, cv_result in enumerate(xgb_cv):\n",
    "    rounds = np.arange(len(cv_result[score_key]))\n",
    "    plt.plot(rounds, cv_result[score_key], label=f\"CV repeater {i+1}\")\n",
    "    \n",
    "plt.xlabel(\"Boosting Round\")\n",
    "plt.ylabel(ylabel)\n",
    "plt.title(title)\n",
    "plt.legend()\n",
    "plt.grid(True)\n",
    "\n",
    "plt.savefig(os.path.join(OUTPUT_PATH, f\"learning_curve_{PREDICT_YEAR}.png\"))\n",
    "plt.close()\n",
    "###\n"
   ]
  },
  {
   "cell_type": "code",
   "execution_count": 22,
   "id": "2b596eb5",
   "metadata": {
    "execution": {
     "iopub.execute_input": "2025-03-13T20:53:55.162904Z",
     "iopub.status.busy": "2025-03-13T20:53:55.162904Z",
     "iopub.status.idle": "2025-03-13T20:53:55.167968Z",
     "shell.execute_reply": "2025-03-13T20:53:55.167968Z"
    },
    "papermill": {
     "duration": 0.026707,
     "end_time": "2025-03-13T20:53:55.167968",
     "exception": false,
     "start_time": "2025-03-13T20:53:55.141261",
     "status": "completed"
    },
    "tags": []
   },
   "outputs": [
    {
     "name": "stdout",
     "output_type": "stream",
     "text": [
      "最適ブーストラウンド数: [491, 534, 533, 567, 551, 524, 514, 480, 545, 549]\n",
      "test-rmse-mean: [11.864973301838063, 11.859544871060441, 11.81122541469586, 11.813583863632052, 11.833515943495641, 11.804474216106993, 11.837590631027757, 11.892856465002057, 11.868265311410394, 11.825283574459633]\n"
     ]
    }
   ],
   "source": [
    "print(\"最適ブーストラウンド数:\", iteration_counts)\n",
    "print(f\"{score_key}:\", val_mae)\n",
    "results.append(f\"最適ブーストラウンド: {iteration_counts}\")\n",
    "results.append(f\"{score_key}: {val_mae}\")\n",
    "results.append(\"\")"
   ]
  },
  {
   "cell_type": "code",
   "execution_count": 23,
   "id": "a94ee908",
   "metadata": {
    "execution": {
     "iopub.execute_input": "2025-03-13T20:53:55.196772Z",
     "iopub.status.busy": "2025-03-13T20:53:55.196772Z",
     "iopub.status.idle": "2025-03-13T20:58:42.371283Z",
     "shell.execute_reply": "2025-03-13T20:58:42.371283Z"
    },
    "papermill": {
     "duration": 287.190569,
     "end_time": "2025-03-13T20:58:42.373286",
     "exception": false,
     "start_time": "2025-03-13T20:53:55.182717",
     "status": "completed"
    },
    "tags": []
   },
   "outputs": [
    {
     "name": "stderr",
     "output_type": "stream",
     "text": [
      "\r",
      "  0%|                                                                                                                                                            | 0/10 [00:00<?, ?it/s]"
     ]
    },
    {
     "name": "stderr",
     "output_type": "stream",
     "text": [
      "C:\\Users\\81809\\AppData\\Local\\Temp\\ipykernel_22148\\3386215446.py:18: FutureWarning: Setting an item of incompatible dtype is deprecated and will raise an error in a future version of pandas. Value '[ 19.971373    -0.15599278  19.017223     6.4738817   -7.4867563\n",
      "  -1.1046326    7.1262736    7.1988635   24.842155     1.9403347\n",
      "   9.87841      6.623219     6.7604656    6.9360538   -3.1889412\n",
      "  21.175762    -1.9411764    7.733655     9.407806     2.093621\n",
      "   2.8738937    2.6697574   -1.1587857   -1.5846406    5.450627\n",
      "   6.6881914    3.5112195   17.023438     2.7783282   -5.816174\n",
      "  -2.115863     4.591464     0.8602981   20.           7.2342863\n",
      "  -7.267722    -1.9277757    7.2137804    7.352793     4.137371\n",
      "   0.39639246   7.909133    -4.436736    13.701319     2.636209\n",
      "   4.3728456  -10.85758      2.679039    14.021043    -0.48496988\n",
      "  20.893543    -1.2898115    4.862251     5.4178157   -2.9021273\n",
      "   7.246546     2.6078098    6.082309     1.6335437    8.338844\n",
      "  -6.137579    -0.95180523   1.1216177   22.600407    -1.2132183\n",
      "   7.885676     3.7888744   -6.2590194   10.824039    -2.6755128\n",
      "   4.6101184   24.081703    -5.840422    -2.5171673    2.4915345\n",
      "   5.1814837   -3.2651966    4.8604913   16.033085    20.104172\n",
      "   2.8703938   -4.830885     1.918229    -1.1013507    0.9479556\n",
      "   3.0138633    1.2791293  -10.187499    -2.7886393   -3.8668966\n",
      "   8.282914     6.3836246    3.3652465    1.9571096   -3.290168\n",
      "  17.50129      1.8986422    5.4288697   21.278515    -1.1551183\n",
      "  -4.2087245   15.184434    18.51461     10.823501     4.8219695\n",
      "  -5.9947753   -0.06202962  11.808824     6.420912    -4.5273337\n",
      "  -0.16963255  -6.435963     7.3659596   -5.6893215  -15.386088\n",
      "   3.990232    -0.13292363   1.4682364    4.664288     4.790728\n",
      "   1.8793923    0.44369236   9.650155    10.651392     5.838288\n",
      "   5.9182205   12.48928     -3.321528    -1.5215771    2.4028792\n",
      "  19.442558    -1.9445031   11.327767   -13.203748    -7.7855244\n",
      "  15.023569     4.6846275    8.871396     8.617343    -2.3169053\n",
      "   1.4276555   -2.6802855    7.4334483    5.5107923    2.9584966\n",
      "  -1.727247    10.543499     0.14971198   6.7208304   -1.5704068\n",
      "   2.6496367    1.084868    20.390368    17.393538    10.078654\n",
      "   3.6081991    4.571472     3.4453096   -0.7755322    0.52236235\n",
      "   1.2280438   -1.3330947    9.364732    14.718928    -2.3266387\n",
      "   3.1921344   -0.21055171   3.166468     2.3213787    4.9619393\n",
      "   8.28361      2.1277688   -2.6001525    0.671567     5.658786\n",
      "   1.8034682   19.074478     3.6664221    4.7092395    3.7245789\n",
      "  -1.8454705    3.2050614    9.092924    -6.8870606    3.5268717\n",
      "  20.81261     11.779854    -1.049634     2.0219212    7.021101\n",
      "   3.3269303   14.857067    -0.24676888   3.3736446    5.996274\n",
      "   3.9440365    2.6484807    9.502158    15.344699    11.513429\n",
      "   2.6281147  -22.65708      6.184858     2.878937     5.5398154\n",
      "   6.050543     4.117405     5.2368736    4.6793523    2.7420473\n",
      "  18.8925       8.390401    29.645363    41.77059     25.890188\n",
      "  24.191328    21.231344    24.692255     9.093481     0.8669034\n",
      "  12.957352     5.7990956   -5.3838305    6.4848127   19.659424\n",
      "  22.852503     8.930381    21.384212    12.157603     8.339873\n",
      "   7.0207577   10.49776     -3.2452524   35.38432     14.100315\n",
      "   5.0914288   34.54491      4.7621307   -3.0821216   21.280802\n",
      "   1.6926904   12.897075    14.718041     3.987448     3.795708\n",
      "  10.549084    19.00207     35.2167      13.3177      -1.1119642\n",
      "  -1.9487312    3.296764   -16.174032     6.4708724   15.509865\n",
      "  -0.79715717  20.389261    44.615208    -5.9057117    0.9194848\n",
      "  13.851337     3.5278265   -5.597562     8.032257    27.574306\n",
      "  10.097511     8.74646      6.468845    -3.3777406    3.1093738\n",
      "  28.578287    10.51142     16.297726    14.073453    -9.180926\n",
      "  14.548706    11.459153     3.57219     -5.04127      3.4931765\n",
      "   2.9170153    2.9214911   38.091583    12.429256    35.361217\n",
      "  35.060627    -0.64803386  30.59735      0.6028108   -0.9977146\n",
      "   5.912293    13.6402      14.282721    13.972974     9.789686\n",
      "   5.2564597   11.848886    -1.1571773   11.936482    -4.086697\n",
      "  17.840721    24.972736    11.179411    -1.3437036   -0.1864641\n",
      "   0.61155015   8.370607   -20.97753    -10.9306135  -11.236557\n",
      "   0.98451847   3.8387525    8.645171     8.989304    31.732157\n",
      "  16.581732     3.781848    36.838768    -0.98121      9.582164\n",
      "   4.20872      2.0320551    3.6546674    1.6886204    0.6152674\n",
      "   5.064687    -5.829848     7.382672     1.2011135    6.897013\n",
      "  -5.050795    18.441       12.264773   -11.794693    20.945011\n",
      "  -8.288876     1.2272252    8.425574    -4.573154   -12.382068\n",
      "  -1.5685886  -22.698729   -18.611046    -9.262064    -5.5416703\n",
      "   5.840769    -4.3722215    1.0802541   -3.0811596   -4.66619\n",
      "  -4.3866005    6.9626217   -6.959086    -3.78471    -19.061762\n",
      "   1.9934754    3.8744702   -5.65413     -4.2022943    1.1275613\n",
      "   7.172083    -4.0160885   -7.185124    -3.4682794   -1.2235613\n",
      "  -1.7427362  -21.970806    -1.7131776    2.6819334   -6.5641465\n",
      "  -8.535997    -6.664165    -7.833111    -9.643946    -2.3061252\n",
      "  -4.768967     0.8841294   -4.4984436   -0.8187962    1.6044141\n",
      " -10.277019    -7.745011    -5.5307455   -3.400897    -8.664986\n",
      "  -4.7164426  -16.317516   -25.94329     -3.477269   -18.82906\n",
      "  -1.5129012   -7.223404    -2.663546    -1.8286887   -7.9653425\n",
      "  -0.49053124  -6.9954     -26.035477     4.0004883  -21.267717\n",
      "  -5.8259664  -10.971421     4.6440005    3.3172216   -9.704358\n",
      "   3.082878    -4.037495    -6.0474696   -4.941003    -5.840053\n",
      " -10.374687    -1.8427898    3.04906      1.973575   -11.360281\n",
      "  -6.434173     1.8638463    2.609906     1.1518074   -5.0889096\n",
      "  -2.6056604    6.2569523  -11.65677      2.6176577   -9.107221\n",
      "  -4.203547    -8.26802     -3.9210365   -3.4759545  -11.989552\n",
      "  -3.1598485  -21.037056   -15.743474    -2.2205427   -1.1408786\n",
      "  -3.2545772   -2.713189    -1.8658339    0.14510633   1.7181633\n",
      "  -1.2433927  -30.863495    -4.618382    -8.267534    -8.87312\n",
      "   0.81418777   0.99735594  -6.512205    -0.8265329    1.0634786\n",
      "   0.27300745  -9.192461     1.7175376    6.513115    -0.25410765\n",
      "  -7.4766436   -0.4605377  -15.058551   -12.038835    -2.46044\n",
      "  -1.8528379   -2.1399622   -2.445384    -7.0004787  -17.314219\n",
      "  -9.0342865   -2.1411965    4.277123    -8.170047   -23.536291\n",
      "  -1.0322454   -3.5612688   -4.7512584    3.6012652    9.164011\n",
      "   0.97179085   1.8459944    2.9379697    2.78309    -13.984746\n",
      "  -7.769228   -16.48444     -3.4490228   -5.012782     1.3864051\n",
      " -11.034528     3.4669387   -1.0588691  -24.148605   -23.750502\n",
      " -16.256437    -4.766894    -4.1317134   -4.72087      1.7876419\n",
      "  -7.386765    -7.823426    -1.1789367   -3.2151117    3.2597852\n",
      " -16.284756    -1.9814188    4.785269    -5.5702066    7.6973805\n",
      "  -6.4747796    4.773607    -7.0913644  -15.978299   -15.381322\n",
      "  -2.1773417    6.048595    -8.541764    -2.3891392   -1.0747163\n",
      "   2.984543   -14.367796    -0.80715203 -17.394844    -2.1009715\n",
      "  -5.6205664   -5.0912867   -3.2157712   -0.8661154  -14.930755\n",
      "   1.2238086    3.2075226    4.546399   -11.488922     0.67084646\n",
      "  -2.9626353   -7.571263    -4.8138933   -5.948134    -2.9830692\n",
      "   5.199381   -19.675375   -36.342243    -4.680117    -4.69739\n",
      "  -6.0881376    2.8687823  -11.685406   -26.407715    -6.076479\n",
      "   4.5454383    1.7142302  -33.993946   -39.832363     0.9711944\n",
      "  -4.730835   -26.359993     5.692893   -22.981651    -2.342839\n",
      "  -1.7668107   -8.626155   -29.662209    -1.2262986  -16.433018\n",
      " -16.842802    -6.303199    -1.6873258    3.7465627  -40.653526\n",
      "   1.2649935   -4.850793   -12.669629     9.194843     2.5946457\n",
      "   6.678924    -9.778578    -2.9071164  -15.401222    -8.652576\n",
      "  -7.3893027   -3.2617276    3.228224     5.2550807  -30.038637\n",
      " -12.393321    -2.1366358   10.829997   -31.64608     -3.9296384\n",
      "  -9.936896    -1.0658557    5.354338    -2.541243    -3.684711\n",
      "   6.921647     3.165584   -12.077196    -8.527673   -34.785725\n",
      "  -4.8865986  -25.130388   -28.53029     -6.6221704  -16.025282\n",
      " -12.190274    -2.8699849  -39.75571    -32.146477   -13.196506\n",
      "  -4.9070077   -5.9641614  -33.363934    -7.6527166    8.969097\n",
      " -11.942567    -1.4900882   -7.2465415  -12.496639    -7.441632\n",
      " -26.051458   -28.564135     4.1524925   -5.950488    -7.2205553\n",
      " -23.06067     -2.1949012  -27.195414    10.126899    -0.42615163\n",
      "   8.839214     2.82064    -26.206886    -4.0303674  -30.641739\n",
      " -15.339811    -9.010572     1.1025898    4.1139526  -26.693132\n",
      "   4.873952   -13.046508    -1.277833   -33.654633   -12.824305\n",
      "  15.939291     5.8034687  -13.865659   -13.83599     -4.409361\n",
      "   8.647143  ]' has dtype incompatible with int64, please explicitly cast to a compatible dtype first.\n",
      "  preds[val_index] = model.predict(dval_i)\n"
     ]
    },
    {
     "name": "stderr",
     "output_type": "stream",
     "text": [
      "\r",
      " 10%|██████████████▊                                                                                                                                     | 1/10 [00:26<03:55, 26.13s/it]"
     ]
    },
    {
     "name": "stderr",
     "output_type": "stream",
     "text": [
      "C:\\Users\\81809\\AppData\\Local\\Temp\\ipykernel_22148\\3386215446.py:18: FutureWarning: Setting an item of incompatible dtype is deprecated and will raise an error in a future version of pandas. Value '[-8.46608734e+00  1.46877062e+00  1.60678654e+01 -1.07395363e+00\n",
      "  6.65565491e+00  5.22830629e+00  2.17170353e+01 -1.95299101e+00\n",
      "  1.34153233e+01  6.58347225e+00 -3.58862567e+00 -5.53417873e+00\n",
      "  6.83262968e+00  7.50774240e+00 -2.22973037e+00  2.28161774e+01\n",
      "  1.60289013e+00  3.11084366e+00  1.13397217e+01  9.06425476e+00\n",
      "  7.92256212e+00  4.73086166e+00  7.02012014e+00  3.92350960e+00\n",
      " -7.57351780e+00  2.82726932e+00  7.96441555e+00 -2.95159364e+00\n",
      "  2.46672344e+01  1.66916714e+01  1.25116634e+01  3.73349929e+00\n",
      "  6.26847553e+00 -1.96774328e+00  5.51706314e+00  5.35415840e+00\n",
      " -4.49090672e+00  1.01476216e+00  9.56484127e+00  2.23987522e+01\n",
      "  1.31951637e+01  1.00390024e+01  1.80198364e+01  8.31510639e+00\n",
      "  1.76688232e+01  1.01286325e+01  6.86331320e+00  4.60414982e+00\n",
      " -4.63377178e-01  5.87183142e+00 -6.62414491e-01 -9.55798090e-01\n",
      "  2.15136313e+00  5.10658360e+00  8.10587978e+00  2.56941643e+01\n",
      "  6.89097452e+00  3.45090106e-02  8.76922989e+00  1.05028811e+01\n",
      "  5.91854143e+00  6.83126450e+00 -2.58670831e+00 -2.90251422e+00\n",
      " -1.47146761e+00  2.87972641e+00 -1.69774961e+00  2.44941664e+00\n",
      "  1.97855282e+01  1.21364069e+01  1.21121633e+00  2.81418095e+01\n",
      "  1.37356853e+01  4.17012024e+00  1.87804985e+01 -8.38517380e+00\n",
      "  7.02417564e+00  6.55332375e+00  2.83491659e+00  3.46712208e+00\n",
      "  6.86138868e-01  3.95389050e-02  1.90831032e+01  7.56624508e+00\n",
      " -2.59507632e+00 -1.11911182e+01  5.21270609e+00  1.05083237e+01\n",
      "  3.20515180e+00  1.87707233e+00  3.77333355e+00 -4.07582998e+00\n",
      " -3.95751643e+00  1.83323593e+01 -1.60837221e+00 -1.83514977e+00\n",
      " -2.56740570e+00  1.38803825e+01  1.01991692e+01  1.46714802e+01\n",
      "  3.83986855e+00 -6.61538315e+00  1.25510263e+01  7.85666418e+00\n",
      "  1.18280954e+01  3.38557029e+00  8.97129059e+00 -6.95253968e-01\n",
      "  1.83032112e+01 -2.37412858e+00  2.24145164e+01 -3.03542876e+00\n",
      "  1.77172613e+00  1.51403179e+01  1.84535980e+01 -2.07802844e+00\n",
      "  2.47062039e+00 -3.29868865e+00 -9.74862671e+00 -5.65805483e+00\n",
      "  2.77484584e+00  1.12078238e+00  3.51261854e-01 -1.18197215e+00\n",
      " -2.58108330e+00 -3.17392975e-01 -6.46321297e+00  6.77673531e+00\n",
      "  2.35724473e+00  3.03392944e+01  7.29313755e+00  2.75042267e+01\n",
      "  6.23477268e+00 -8.94267678e-01  1.00659370e+01 -7.31244278e+00\n",
      " -6.46078444e+00  7.36569464e-01 -6.66868687e+00 -1.16888022e+00\n",
      "  6.76246119e+00 -1.78015137e+00  2.38128948e+01  1.63712311e+01\n",
      "  4.98295546e+00  2.22651973e-01 -1.67468584e+00  7.73771346e-01\n",
      " -4.22481686e-01  9.83978689e-01 -2.26042700e+00 -3.18609953e-01\n",
      "  2.97017121e+00 -6.75402164e+00 -2.21396446e+00  4.46394205e+00\n",
      "  2.16063004e+01  6.46597803e-01  3.34706330e+00  6.84087229e+00\n",
      " -7.93989992e+00  3.75808287e+00 -8.49921882e-01 -3.99043894e+00\n",
      " -4.54790354e+00 -2.45897517e-01  3.10802383e+01  2.64719582e+00\n",
      "  6.82987452e+00 -5.12894917e+00  2.49923635e-02  1.28412437e+01\n",
      "  1.91564369e+01  9.27805424e+00  4.07004547e+00 -6.40137970e-01\n",
      "  1.06235876e+01 -5.16651869e+00 -1.87533989e+01 -5.24533939e+00\n",
      "  5.71317768e+00  6.92922020e+00 -3.06935024e+00  8.50160980e+00\n",
      "  2.11560802e+01  9.59831047e+00  2.01718235e+00  2.50397720e+01\n",
      " -8.10468495e-01  9.81386566e+00  2.46497326e+01 -3.16605020e+00\n",
      " -1.45532322e+00  4.57137823e+00  1.16601788e-01  5.69612741e+00\n",
      " -4.58391237e+00  1.74834692e+00 -7.19895697e+00  1.88913834e+00\n",
      "  2.53176308e+00 -3.04201841e+00  2.20941181e+01 -7.31639147e-01\n",
      "  1.59944887e+01  1.60084209e+01  1.81623821e+01 -3.57951331e+00\n",
      "  2.05013599e+01  2.47757864e+00 -9.34945011e+00 -1.11396246e+01\n",
      "  1.19799395e+01  2.59989333e+00 -5.68027616e-01 -3.79227018e+00\n",
      "  5.72172070e+00  6.30682182e+00  4.38737297e+00  2.09517441e+01\n",
      " -2.24967408e+00  2.75592494e+00  5.75321531e+00  2.13285542e+01\n",
      " -3.54137087e+00  3.25394702e+00  1.87455521e+01  2.68647137e+01\n",
      " -7.41203785e+00 -2.51818943e+00  7.17241573e+00  2.71075249e+01\n",
      "  3.90497208e+01 -3.42374384e-01  5.74375248e+00  2.01551609e+01\n",
      "  7.33476019e+00  2.28606224e+01 -5.51177883e+00 -5.22404909e+00\n",
      "  4.99816513e+00  1.06820860e+01  6.41442680e+00 -7.40280008e+00\n",
      "  2.21976967e+01  3.25666577e-01 -5.66009998e+00  1.14863615e+01\n",
      "  1.29285383e+00  9.33307946e-01  1.38484659e+01 -1.43862963e+01\n",
      "  1.68395176e+01  1.84771481e+01  1.78301668e+00  7.60581255e+00\n",
      "  1.05855236e+01  9.06337547e+00  3.43306694e+01  2.16560535e+01\n",
      "  5.17969751e+00 -8.30337524e+00  3.34659081e+01  1.52202702e+01\n",
      "  2.76871753e+00  9.51315975e+00  2.17950916e+01  4.74266472e+01\n",
      "  2.11138916e+01 -7.16699696e+00  3.11894970e+01  1.33023472e+01\n",
      "  3.72791862e+01  1.23521223e+01  2.66168928e+00  4.17267227e+00\n",
      "  1.05149908e+01  8.66365814e+00  4.92673635e+00  2.58108978e+01\n",
      "  2.81855183e+01  6.98390675e+00  8.29437733e+00  3.48626828e+00\n",
      "  2.86782036e+01 -3.14055848e+00  1.19405851e+01  2.47028198e+01\n",
      " -1.82110393e+00  2.42968011e+00  1.93748319e+00  1.34428711e+01\n",
      "  3.30925903e+01  2.99940515e+00  1.81398449e+01  9.60392857e+00\n",
      "  2.60826302e+01 -1.31321239e+00 -7.95118570e+00  3.63464594e+00\n",
      "  7.05608225e+00  1.10145655e+01  3.49134350e+00  5.17841482e+00\n",
      " -1.20413866e+01  2.05986047e+00 -2.63422394e+00 -7.94334888e+00\n",
      " -1.60150993e+00  2.59063768e+00 -2.40428865e-01  3.93258400e+01\n",
      "  2.52240791e+01  7.35414219e+00  7.95004559e+00 -6.20980167e+00\n",
      "  6.97126245e+00  2.21506081e+01 -5.96552277e+00  1.73215351e+01\n",
      "  2.36703134e+00 -1.13942776e+01 -1.25986996e+01  2.75276108e+01\n",
      "  3.72058368e+00  4.41384268e+00  1.26067801e+01 -1.21901808e+01\n",
      "  5.73546886e+00 -1.76573181e+01 -2.26461334e+01  3.93516541e+00\n",
      " -1.07990205e+00 -6.56504929e-02 -8.58091354e+00  3.57265139e+00\n",
      " -6.62729883e+00  3.48962307e+00 -5.95616770e+00 -5.39249277e+00\n",
      " -1.22145319e+00  8.78141689e+00  1.24862003e+00  4.25768852e+00\n",
      " -2.09781380e+01 -2.54483376e+01 -2.18317528e+01 -5.60813808e+00\n",
      " -2.46796608e+00 -8.54287684e-01 -7.99058914e+00 -2.84502888e+00\n",
      " -2.06874084e+00 -2.79942250e+00 -2.77485442e+00  1.01621412e-01\n",
      "  4.90921497e+00 -4.99471378e+00  5.97377896e-01 -1.06442289e+01\n",
      " -7.84535027e+00 -2.07817001e+01 -1.38430090e+01  2.08867264e+00\n",
      "  3.33259249e+00  7.06414843e+00 -1.55518990e+01  3.69990802e+00\n",
      "  7.68446398e+00 -1.29440331e+00 -2.46098876e+00  1.00707650e+00\n",
      "  6.40747309e+00 -4.87925434e+00 -2.34993145e-01 -6.65510893e+00\n",
      " -8.58221054e-01 -2.10696449e+01 -6.06743336e+00  2.45497799e+00\n",
      "  5.31712580e+00  4.77239466e+00 -8.18735313e+00 -9.92664909e+00\n",
      "  2.33114076e+00  2.13153863e+00 -6.63226962e-01 -5.50661325e+00\n",
      " -1.32558193e+01 -5.96960640e+00 -8.24320412e+00  3.37789345e+00\n",
      " -8.58211899e+00 -6.29882145e+00 -6.18821573e+00 -3.75475550e+00\n",
      "  4.95663583e-01 -1.26159573e+01 -2.94692383e+01  6.84518456e-01\n",
      " -4.50571442e+00 -2.46009789e+01 -3.48818469e+00 -4.24468088e+00\n",
      " -1.23345232e+01  4.51594800e-01 -2.49954453e+01 -2.06895027e+01\n",
      "  1.15393066e+00 -6.20388150e-01  1.53545094e+00  1.81003785e+00\n",
      " -6.14897013e+00  1.41098690e+01 -2.86053734e+01  3.95921469e+00\n",
      " -1.58248682e+01 -4.56642580e+00 -1.73584747e+00  5.01756477e+00\n",
      " -1.07871342e+01 -3.37746739e+00  2.04910207e+00  3.73994619e-01\n",
      " -1.58582735e+00  1.41769779e+00 -3.71851492e+00 -1.84980965e+00\n",
      "  6.16165733e+00 -3.95446944e+00  1.07808514e+01  6.61439514e+00\n",
      "  5.42453718e+00  1.53845482e+01  6.57976270e-01  2.36474633e+00\n",
      "  1.65357280e+00 -3.04606380e+01 -6.39335394e+00 -7.38538742e+00\n",
      "  1.96739018e+00  2.21768570e+00 -2.41654491e+00  7.45905280e-01\n",
      " -5.75582123e+00 -1.02544680e+01  1.37249455e-01  1.62558961e+00\n",
      " -3.24076486e+00 -1.28768148e+01 -1.63975155e+00 -2.68240881e+00\n",
      " -7.53669643e+00 -1.86204357e+01 -3.70295143e+00  7.01749563e+00\n",
      " -9.91087198e-01  2.38377047e+00 -1.05291691e+01  4.19520760e+00\n",
      "  5.52960253e+00  6.86085820e-01 -8.12014198e+00  2.46451759e+00\n",
      " -2.29130993e+01 -4.21119881e+00 -3.46653628e+00 -2.34003220e+01\n",
      " -1.09029617e+01 -1.44765019e+00 -2.82426405e+00  1.50150704e+00\n",
      "  4.93951321e+00 -2.23120117e+01 -2.23969841e+01 -5.24242592e+00\n",
      " -6.75741959e+00 -4.11514091e+00 -2.49023128e+00 -4.31825638e+00\n",
      " -3.88152695e+00  3.21556973e+00  1.91380990e+00 -2.25371723e+01\n",
      "  2.96026564e+00 -1.16709626e+00 -2.61475301e+00  7.33349860e-01\n",
      " -1.37830150e+00 -1.82277298e+01 -2.09149265e+01 -4.36740685e+00\n",
      "  3.06289673e-01 -1.16824074e+01 -3.46827722e+00  2.50467491e+00\n",
      " -1.15878081e+00  2.72627282e+00 -1.26031029e+00 -5.50872326e+00\n",
      " -1.42196906e+00 -5.75875044e+00 -1.68946612e+00 -4.10900450e+00\n",
      " -2.80131578e+00 -3.47472024e+00 -4.76093680e-01 -1.69506538e+00\n",
      "  2.42998791e+00  5.89075565e+00 -8.16454601e+00 -3.70117188e+00\n",
      " -2.37990265e+01 -3.78347850e+00 -1.69424267e+01 -2.06862354e+01\n",
      "  5.67995834e+00  6.85795546e+00 -7.08322334e+00 -5.33496475e+00\n",
      "  4.22638083e+00 -1.18843088e+01 -1.25099051e+00  4.43787992e-01\n",
      " -1.65593376e+01 -5.11823654e+00  3.45644712e+00 -1.05927095e+01\n",
      " -2.26427155e+01  4.49871540e+00  2.69680500e+00  2.17701912e+00\n",
      "  8.86563241e-01 -4.16428137e+00 -1.89323306e+00 -3.02287102e+01\n",
      " -4.47683372e+01 -2.72674503e+01 -2.49877892e+01 -2.82567430e+00\n",
      " -8.12906551e+00 -1.82905693e+01 -4.02582169e+00 -7.71238148e-01\n",
      " -1.91439934e+01 -6.18172073e+00 -1.63908710e+01 -2.41494160e+01\n",
      "  2.68279940e-01 -4.87511492e+00 -1.42016983e+01 -2.78463516e+01\n",
      "  3.45450807e+00 -6.86698866e+00  5.34421873e+00 -1.09490404e+01\n",
      " -1.80987930e+01 -2.95344162e+01 -1.09579506e+01 -2.07237220e+00\n",
      " -1.41434107e+01  8.55866373e-01 -6.73839712e+00  5.56657839e+00\n",
      " -7.23165417e+00 -3.19105015e+01 -1.01474581e+01 -1.38405390e+01\n",
      " -3.53342705e+01 -5.17573166e+00  1.64757526e+00 -2.29218025e+01\n",
      " -1.16729565e+01 -9.91160107e+00 -3.73492599e+00 -1.00535345e+01\n",
      "  8.17047787e+00 -2.23816919e+00  3.11736655e+00 -3.10836468e+01\n",
      " -2.89324913e+01 -4.41901855e+01  4.35199547e+00 -2.72263956e+00\n",
      " -1.45814638e+01 -1.41121045e-01 -1.11080160e+01 -1.53116550e+01\n",
      " -3.64019465e+00 -1.06800499e+01 -6.61749411e+00 -9.96926486e-01\n",
      " -4.36161137e+00 -9.72100830e+00 -2.17686634e+01  3.78137064e+00\n",
      " -3.38782043e+01 -8.77869511e+00  9.69705582e+00 -2.99752064e+01\n",
      "  6.45115566e+00 -1.51679316e+01 -8.84330940e+00 -3.25449371e+01\n",
      " -2.56371288e+01 -4.65969133e+00  2.83433676e+00 -1.28760252e+01\n",
      "  2.60639167e+00 -4.46536255e+00 -1.37306871e+01 -4.02838469e+00\n",
      " -1.79836059e+00  1.62876332e+00 -1.71213341e+01 -8.90223122e+00\n",
      " -2.12691822e+01  9.94530201e-01 -1.04966097e+01 -4.80039644e+00\n",
      " -5.71203899e+00  2.05983949e+00 -1.14509354e+01 -1.75923004e+01\n",
      " -1.74850643e+00 -1.78836288e+01 -5.61374712e+00 -1.32273579e+00\n",
      " -8.23212242e+00 -2.60211334e+01 -5.77099609e+00  2.27202282e+01\n",
      "  1.40882645e+01 -6.37893438e+00 -3.94355049e+01 -1.11405621e+01\n",
      " -2.53053131e+01 -5.81755352e+00 -2.56547966e+01  4.50978088e+00\n",
      " -1.73588448e+01 -8.13856983e+00 -1.21220140e+01 -1.25672045e+01\n",
      " -1.10091562e+01 -4.24829769e+00]' has dtype incompatible with int64, please explicitly cast to a compatible dtype first.\n",
      "  preds[val_index] = model.predict(dval_i)\n"
     ]
    },
    {
     "name": "stderr",
     "output_type": "stream",
     "text": [
      "\r",
      " 20%|█████████████████████████████▌                                                                                                                      | 2/10 [00:55<03:42, 27.80s/it]"
     ]
    },
    {
     "name": "stderr",
     "output_type": "stream",
     "text": [
      "C:\\Users\\81809\\AppData\\Local\\Temp\\ipykernel_22148\\3386215446.py:18: FutureWarning: Setting an item of incompatible dtype is deprecated and will raise an error in a future version of pandas. Value '[  0.6692189   -6.5814037   -5.921919    -0.11653791   7.9511046\n",
      "  -2.2334251    6.013286     7.0567083    2.0896163   -2.040188\n",
      "  -5.7677794   25.174934    21.304674    -0.29789594  22.60118\n",
      "  25.25202      5.396248    10.014735     7.374989    -9.9276285\n",
      "   5.3169327    5.430108     9.275937     6.813689     2.1130815\n",
      "   3.64738      7.925743     3.5389433   -6.604263    -5.1811967\n",
      "   0.26988527  10.416268     9.98591      2.4565237   25.287348\n",
      "  -1.6985164    4.987503    29.008606     3.795388     6.0974107\n",
      "   4.3309426   -5.6774435    5.270994     0.08178017   2.0186324\n",
      "   6.669603    -3.337401    -5.3628306    6.2390122  -10.227571\n",
      "   5.2246137    5.8853836    5.1052804   -2.9822226    9.845691\n",
      "   0.5712221    4.3448024   16.8016       5.533553    -0.7757898\n",
      "  22.628641    -3.9484007    1.8417852   27.22147      6.3608437\n",
      "   7.0494776    6.801319     1.6579164    3.8083014    2.4513621\n",
      "  -0.8179294   23.481993     8.68656      0.9669863    6.0981793\n",
      "  15.72563      3.6783504   17.949541    -7.8756757    1.6781768\n",
      "   5.3061185    6.305074    -4.2881975   -0.2091192   15.467024\n",
      "  -5.2626233   27.22562     -1.737534    -0.87383205  14.384968\n",
      "   5.484161    21.874903     0.35821852  -6.7059646    9.86124\n",
      "   7.4307685    4.060281    -2.2363777    1.0970479    4.6754336\n",
      "   3.1243975   20.608782    -2.8169253    9.323626    18.957617\n",
      "   0.9886211   22.456478     5.1206098    4.5082474   -3.1866457\n",
      "   8.054844    -5.802581    -1.0276072    0.82563853  -1.492767\n",
      "  -7.6835203   -0.57926595   6.126046     0.13998795   7.2007756\n",
      "  25.3321       3.9582186   10.040586    -2.0111332    1.1984004\n",
      "  -5.114178    -0.955106     1.5032567   -0.45181364   0.5884717\n",
      " -16.145842    11.335979    11.628454    22.452929    -5.1846313\n",
      "  -0.20968111   7.193316    -5.4239874    0.17587982  -2.6775749\n",
      "   1.3041468   17.72019     11.756701     2.2761056    2.0082827\n",
      "  -1.811063     4.755353    -7.369526     2.8980274   13.878901\n",
      "  -2.4433115    2.431846    -2.1423042   22.313957     3.0707324\n",
      "   1.9081866   28.994608     4.8859515    4.345501     9.030268\n",
      "   0.4189738    9.76327     -2.1356437    3.5439417    4.607049\n",
      "   5.4677854   10.890921    26.354378     5.0595126    6.793777\n",
      "  -3.042905     8.086392     2.985576     2.2115138    2.1162784\n",
      "  23.181414    -0.54615617   5.398348    -7.2934437    2.9880497\n",
      "  -4.5806017   -1.4382057   -8.885848     7.587547     6.463825\n",
      "   2.7643344   -1.9082601    3.2745774   -0.9145125   -5.6889296\n",
      "   4.1470265   30.989439    29.559164    44.9306      28.982187\n",
      "  19.764767    -3.6721537    4.139573     1.359742    13.291193\n",
      "  12.087454   -12.335782     5.3803077    1.3765607    9.274858\n",
      "  27.8308       2.229489    41.297478     9.282096   -11.206204\n",
      "  16.250114    10.051523    13.6149645   17.355196    25.796453\n",
      "  16.718678     4.0254636    4.3380766   36.030994    -4.2389627\n",
      "  13.297498    10.459914    24.563229    17.597038    19.124437\n",
      "  11.786469     1.8529673   -5.577927    20.486235    -7.568206\n",
      "  -0.81274897  29.51752     -2.11628     12.8282795   -2.1366432\n",
      "   8.659905    -8.078158    26.661142     9.800718   -23.006443\n",
      "  32.190594    15.687017    -2.502621    -6.6627927    4.1440053\n",
      "   4.719975    14.386316    14.110132     2.0380855    6.655349\n",
      "   5.9495144    8.288961    38.921448     6.700404    -3.3166373\n",
      "  -0.50742084   9.676643    12.814818     4.3140936   25.986673\n",
      "  28.869122    -7.594485     7.5309663    4.7910786   30.629932\n",
      "  -9.428656     4.2760057    2.7258162   12.607123     1.8225954\n",
      "  -4.896344    -2.9153845   38.067207    33.138264    13.259249\n",
      "   2.1366298   -1.6264123   10.186836    18.6379      31.441177\n",
      "  -4.1323147  -10.762327    -9.6962385   29.455465    -9.098714\n",
      "   7.0446506   22.716724     8.016418    26.02832     29.072063\n",
      "   8.311882     0.83524495 -24.925684     4.1061597   -0.09776267\n",
      "   4.6711144   15.567495    -6.0539203   39.38809      7.21246\n",
      "  21.904934    24.548822    11.780794    14.407108    -0.78990686\n",
      "   9.935628     0.99576706  -3.864805     2.9520354  -10.181823\n",
      " -22.313341    -6.677129   -17.273476   -18.831593    -6.7976556\n",
      "   4.8949423    5.5594177   -6.165125    -7.05166      3.134203\n",
      "  -6.466239    -4.180605    -5.331055    -1.6872903   -5.9961343\n",
      " -19.497765    10.376564    -3.2329786   -3.688431    -6.242919\n",
      "   0.49976444  -8.8463955   -6.7019467   -7.2857614   -1.8214221\n",
      "  -0.42710012  -4.726384   -15.775102     2.9617584  -19.541677\n",
      "  12.458409    -8.730898   -11.934969    -3.8919282  -15.529304\n",
      "  -4.996243     6.8580256   -5.1386356    1.5474515   -6.8755703\n",
      "  -3.113126    -7.3033576   -9.4415455   -1.5027996   -2.6038995\n",
      "   7.556557     3.7498765  -16.795336    -7.383634     3.0699017\n",
      "  -9.785145   -15.555265    -3.3396156   -4.7915335    4.344094\n",
      "  -0.5295879   -2.579124    -4.4215117  -25.823227   -11.08199\n",
      "   3.0315216   -0.4258759  -15.931566     1.5188811    0.63051397\n",
      "  -3.1182005    2.865296    -2.0884304   -7.708656    -5.2231545\n",
      "   0.20835064 -17.891138    -1.8216742   -0.22888424  -4.6185265\n",
      " -18.545408    -5.845       -1.0669793  -12.246552    -5.1901255\n",
      "  -0.51156235  -0.26865754 -23.62001     -1.6766703    4.659486\n",
      "   5.4829483   -2.9779196  -21.86902      4.992881    -8.019596\n",
      " -12.256884    -5.175622   -10.9637375    0.36994585   1.845017\n",
      "   3.4182801   -1.195821    -3.5203109    2.2670476    0.39273757\n",
      "   1.471052     2.526041   -15.048243   -11.339144    -5.709469\n",
      "   6.3038545    0.23958158  -0.5279917   -2.358195   -12.143858\n",
      "   1.2175092  -20.999401     3.2792385   -6.2261486   -1.4611781\n",
      "  -2.4962034    2.5104246    9.232837    -0.73571575  -8.375703\n",
      "  -1.9174993   16.20024      0.5382325  -29.173502    -6.5278363\n",
      "  -6.4438334    0.78562325 -18.146091     8.81639     -0.04683107\n",
      " -11.017747   -10.892455    -3.201507    -2.687852   -21.076975\n",
      "  15.97638     -2.2298574    1.003183   -12.224738    11.094952\n",
      "   2.9882858  -15.929602     0.6071397  -11.28036     -7.385356\n",
      "  -5.416777     2.9746554   -3.850992   -21.50943     -4.1844788\n",
      " -21.14486     -4.358786    -5.244566    -3.9544535   -2.0233984\n",
      "   2.1875541    1.3324914   -6.8685255   -0.6698082   -3.3637927\n",
      " -10.523552    -2.1678338    0.92562604 -10.059486     0.08094491\n",
      "  -5.5783257   -4.4440165   -0.12624994   1.531091     3.6102264\n",
      "  -0.4098564  -23.428555    -8.665744     5.250763     3.751079\n",
      "  -2.1330876  -16.921667    -1.9728459   -4.624343    -7.8586144\n",
      "   1.4616514   -0.20280024 -20.381672    -7.9558077   -2.4000385\n",
      " -14.90947    -21.789427   -25.12859    -20.165943     2.36044\n",
      "  -3.4928808    4.1718216   -6.2406464   -2.3412158    6.7459073\n",
      "   1.9996917    0.75816774  -2.8924072  -23.537281    -7.4841266\n",
      "   3.5481813    1.3620737   -2.1117373   -3.3148363    4.6570997\n",
      "   0.28970906   0.9742349    7.5220194    3.3417728  -10.305871\n",
      "  -3.2287428    0.18678874 -11.864649   -27.76937    -14.532066\n",
      "   6.156138    -0.67957044   0.06792493 -17.840504   -16.038498\n",
      "   1.2295346  -25.145145     1.1571872  -22.650269   -21.870794\n",
      "  -7.372416   -36.648937   -13.20748    -33.005585   -20.523731\n",
      "  -6.6057396    2.2264123   12.520757     5.6932945  -30.13581\n",
      " -24.724283   -10.105506   -32.275967    18.003899    -5.6580787\n",
      " -23.28855     -7.3567047   -5.3823757  -13.032545     5.2354603\n",
      " -14.511786   -29.509193    -0.89660364  -3.792248   -20.826565\n",
      " -10.016369   -26.867035   -13.00649    -20.652637    11.658214\n",
      " -14.33361    -33.08166     -6.874079    -4.5824885   -8.485748\n",
      "   5.8832603   -2.3766673   -7.914678   -27.992664     1.0174983\n",
      " -13.032116   -42.38619     -2.156869   -13.984216    -0.61888903\n",
      "   4.1446166  -16.307352     5.44409    -32.992058     7.196119\n",
      "  -1.1896404  -14.620525    -4.689594   -11.250131    -7.062836\n",
      "  -1.7588338  -20.00616    -10.184782    -4.451922     2.814028\n",
      "  10.298897    -7.539443    -8.743518   -24.423107     3.218124\n",
      "   8.515032     3.0574703   -5.9920154   -6.33662     10.486375\n",
      "  -0.60216326 -11.7523985  -45.809097     2.0348754  -30.85239\n",
      "   5.8919616  -12.287435   -30.360014    -3.5464423  -10.19743\n",
      "  12.4976225  -15.071985   -20.144659    -9.294213   -24.321833\n",
      " -30.960228    -6.964684    -4.056731     1.551678   -28.261267\n",
      " -19.647331   -21.797419    -1.6952015   -6.3580627   -4.8561406\n",
      " -11.272376    -6.470008    -2.8246691    8.14404    -29.21079\n",
      "  13.335281    -8.523756    -5.411569     2.0513835  -38.71453\n",
      "  -5.1367874  -22.377665    -3.0073802    5.6177487  -15.081851\n",
      "  -4.280303  ]' has dtype incompatible with int64, please explicitly cast to a compatible dtype first.\n",
      "  preds[val_index] = model.predict(dval_i)\n"
     ]
    },
    {
     "name": "stderr",
     "output_type": "stream",
     "text": [
      "\r",
      " 30%|████████████████████████████████████████████▍                                                                                                       | 3/10 [01:24<03:20, 28.63s/it]"
     ]
    },
    {
     "name": "stderr",
     "output_type": "stream",
     "text": [
      "C:\\Users\\81809\\AppData\\Local\\Temp\\ipykernel_22148\\3386215446.py:18: FutureWarning: Setting an item of incompatible dtype is deprecated and will raise an error in a future version of pandas. Value '[ 8.37669611e-01 -8.68580055e+00  5.55010128e+00  1.52968369e+01\n",
      "  2.16585846e+01  8.41590500e+00  3.58920765e+00 -2.94175172e+00\n",
      "  6.29602849e-01  4.75517988e-01 -2.58869171e+00 -3.78124714e+00\n",
      "  2.10115170e+00 -1.42623770e+00 -3.83127594e+00  2.05579815e+01\n",
      " -2.22723818e+00 -1.15460110e+00  2.02373486e+01  6.78547978e-01\n",
      "  6.26429605e+00  3.09758282e+00 -9.58312333e-01  5.05511332e+00\n",
      " -3.16172743e+00  8.56147194e+00 -8.68843138e-01 -4.30091190e+00\n",
      "  1.95755541e+00  6.30159998e+00  1.25328600e+00  1.64773922e+01\n",
      "  4.18787575e+00  3.76242518e+00  1.24214508e-01  7.36220503e+00\n",
      "  6.28630459e-01  1.64584942e+01  2.72788191e+00 -6.41551876e+00\n",
      "  6.85878325e+00  1.41628075e+00  9.71168327e+00  4.49572468e+00\n",
      " -6.93187666e+00  6.66760063e+00  2.72639036e+00 -8.92980003e+00\n",
      " -2.53341460e+00 -1.33864355e+00  2.15233841e+01  2.47615427e-01\n",
      "  3.58624697e-01 -3.32649183e+00  8.40628052e+00  2.31047797e+00\n",
      " -2.97978306e+00 -9.68181670e-01  2.22861347e+01  1.32268896e+01\n",
      " -2.40185165e+00 -3.15177917e-01  2.61186733e+01 -2.83092856e+00\n",
      "  3.04040217e+00 -1.56964421e+00  2.17325664e+00  8.47312212e-01\n",
      " -1.34054637e+00  8.37466478e-01  2.07901230e+01 -2.13553548e+00\n",
      "  7.21516848e+00  6.70301676e+00  5.04619539e-01 -2.01406670e+00\n",
      "  5.33154202e+00 -1.47999418e+00  2.41606069e+00 -9.79369164e+00\n",
      "  1.65569935e+01  4.03961706e+00  7.40017653e+00  1.13332253e+01\n",
      " -2.71616197e+00  3.43475866e+00  2.80282092e+00 -3.43869734e+00\n",
      "  2.53050900e+01  1.22747192e+01 -1.16104240e+01 -5.66379929e+00\n",
      "  1.87722588e+01 -2.91796255e+00 -1.48706698e+00  4.82154226e+00\n",
      "  5.55861853e-02  1.24377623e+01  5.43358040e+00 -3.89452887e+00\n",
      " -4.07029772e+00  3.27089834e+00  2.15170746e+01  1.54279795e+01\n",
      " -1.37842245e+01  6.48819625e-01 -4.01186752e+00  1.13907061e+01\n",
      " -1.05865693e+00  3.89443207e+00  6.50509262e+00  6.97946644e+00\n",
      "  1.60227242e+01  5.53302670e+00  1.42025375e+00  2.95634985e+00\n",
      " -2.26042819e+00  1.52269192e+01  1.76355648e+01  5.91495180e+00\n",
      "  5.66930676e+00  9.09591961e+00 -2.17919254e+00  7.63406372e+00\n",
      " -5.56018257e+00  9.13995564e-01  1.09712973e+01 -8.39282990e+00\n",
      "  6.62504339e+00  6.64176083e+00  5.00974798e+00  9.05756569e+00\n",
      "  8.62566090e+00  1.80360489e+01  1.33167210e+01  9.24718952e+00\n",
      " -1.98970437e-01 -4.80363750e+00  6.89908266e+00 -2.96685505e+00\n",
      " -4.95503283e+00  2.16673546e+01  9.74518681e+00 -1.57345116e+00\n",
      " -4.00598669e+00  6.59645224e+00  6.00858784e+00 -1.35968935e+00\n",
      "  5.67050838e+00 -1.66197848e+00  2.35553436e+01  4.63679647e+00\n",
      "  1.57297525e+01 -1.00564051e+01 -4.91840982e+00 -6.15496218e-01\n",
      " -7.58280849e+00  2.25381136e+00  2.11408663e+00  8.18828583e+00\n",
      "  6.64435244e+00 -1.20973721e+01  3.95174980e-01  1.41230178e+00\n",
      "  3.86265159e+00  4.32813978e+00  1.00294018e+01  3.39222074e+00\n",
      "  2.82023215e+00 -1.71689796e+00  3.65545106e+00 -6.56861305e+00\n",
      " -1.54795151e+01 -4.73339462e+00  4.92240191e-01  1.80013008e+01\n",
      "  3.91418624e+00 -2.02065825e+00  5.47828341e+00  3.36222625e+00\n",
      " -1.07736158e+00 -6.94872797e-01 -2.75257492e+00 -5.12453079e+00\n",
      "  2.56063862e+01  3.58343887e+00  2.23740311e+01 -4.72118568e+00\n",
      "  3.35896206e+00  4.43831491e+00 -3.75298190e+00 -2.86881661e+00\n",
      "  1.23980165e+00  6.57450628e+00  1.49407845e+01  1.15261257e+00\n",
      "  3.93442154e-01  1.69798317e+01 -2.18025742e+01 -1.67097485e+00\n",
      " -9.78100395e+00  1.30874043e+01  3.81452012e+00 -3.41478014e+00\n",
      "  3.00986290e+00  4.01244974e+00  1.39219487e+00  2.60306096e+00\n",
      "  9.95930195e+00  9.44605255e+00  2.18161941e+00  3.11341381e+01\n",
      "  3.01847668e+01  2.30398464e+00  1.02031641e+01 -3.04144573e+00\n",
      "  3.63499603e+01  4.77469063e+00  1.64324417e+01  1.22692356e+01\n",
      " -3.73305202e+00 -1.77711773e+00  2.98422694e+00  3.62357826e+01\n",
      "  1.28596945e+01  2.43558960e+01  3.64976578e+01  6.89752531e+00\n",
      "  1.24057472e+00  7.66080093e+00 -1.05799551e+01  6.01913786e+00\n",
      "  3.25514245e+00  2.71391010e+01  9.60782146e+00  1.84198437e+01\n",
      " -8.10145080e-01 -7.33456564e+00  2.86027360e+00 -1.49657097e+01\n",
      "  3.60018692e+01  1.10197802e+01 -1.07617646e-01  2.14029932e+00\n",
      "  2.57727890e+01  2.10185490e+01  1.99610691e+01  5.26539564e+00\n",
      " -2.60147405e+00 -4.03163576e+00  1.81891232e+01  1.50737581e+01\n",
      "  2.95167408e+01  3.93163919e+00  6.92512226e+00  2.29461441e+01\n",
      "  3.76243687e+00 -1.26985464e+01  1.17812243e+01 -2.78825665e+00\n",
      "  2.83574581e+00 -4.27731180e+00  2.44762363e+01 -3.73604178e+00\n",
      "  3.08293934e+01  1.21782608e+01  3.72018886e+00  5.02808857e+00\n",
      "  1.96441039e-01  8.63714027e+00  3.52652817e+01  1.28845377e+01\n",
      "  5.80413818e+00  1.52710829e+01  3.44044113e+01  7.00096428e-01\n",
      "  6.14258194e+00 -9.21637154e+00  4.22589493e+00 -3.87602472e+00\n",
      "  1.31653004e+01  1.30341282e+01  2.15874081e+01 -3.21451950e+00\n",
      " -1.25574598e+01 -7.31555605e+00  8.15295577e-01 -8.70611763e+00\n",
      "  1.96407151e+00  2.23664970e+01  5.78183174e+00 -1.28058510e+01\n",
      "  3.15674567e+00  8.89148331e+00 -2.71124661e-01  3.02802944e+00\n",
      "  2.06216221e+01 -8.16236115e+00 -1.41281185e+01  3.86025848e+01\n",
      "  6.65186596e+00 -4.29432917e+00  2.94152298e+01  1.08510714e+01\n",
      "  2.08467388e+01  1.32106438e+01  4.88822651e+00 -3.72353292e+00\n",
      " -1.25451651e+01  1.26127267e+00 -5.94498253e+00 -1.13764076e+01\n",
      " -3.91179800e+00 -1.26929989e+01 -1.72780113e+01 -8.97327614e+00\n",
      " -7.41516733e+00 -7.61887932e+00 -7.18508053e+00 -6.47276735e+00\n",
      "  3.50260043e+00 -6.40838623e+00  3.02516699e+00  2.63272643e+00\n",
      "  1.22136486e+00 -2.28512859e+01 -8.34288061e-01 -1.31266432e+01\n",
      " -2.18572731e+01 -8.64354312e-01 -6.73955965e+00 -1.08630824e+00\n",
      "  6.18615246e+00  3.90980887e+00 -4.95595247e-01 -7.48522663e+00\n",
      " -8.74161243e+00  2.13279819e+00 -6.26426888e+00  1.65875435e+00\n",
      " -2.76871860e-01  1.33826640e-02 -4.89829540e+00 -2.69135075e+01\n",
      " -9.84094620e+00 -5.89990091e+00 -1.59084921e+01 -3.82894325e+00\n",
      " -6.22239351e+00 -1.82476006e+01 -7.09083652e+00  2.51735181e-01\n",
      " -5.22366905e+00  7.64777946e+00 -1.96072617e+01  9.93086243e+00\n",
      " -5.21904469e+00 -2.51232071e+01 -6.08627462e+00 -1.07931483e+00\n",
      " -6.56948614e+00 -8.40617085e+00 -5.63697290e+00 -2.73511577e+00\n",
      "  2.74450850e+00 -1.19421530e+01  3.22022986e+00 -1.57842264e+01\n",
      "  3.26338857e-01 -5.39597416e+00 -4.93573332e+00 -2.84375143e+00\n",
      " -2.21114883e+01 -8.84861946e+00 -4.54862833e+00 -8.20553589e+00\n",
      " -6.27862930e+00  5.70653081e-02 -6.18896782e-01 -1.70159855e+01\n",
      " -2.73936119e+01 -3.44578004e+00 -6.47406280e-01 -1.01677978e+00\n",
      " -1.82914486e+01 -7.77500987e-01 -4.43866682e+00 -1.97219682e+00\n",
      "  4.12831068e-01 -2.59158020e+01 -1.91503487e+01  2.18438745e+00\n",
      " -1.09653683e+01  2.23634982e+00 -6.08547783e+00 -2.89145470e+00\n",
      " -5.77421427e+00 -1.10282640e+01 -4.92380285e+00 -4.86541939e+00\n",
      " -2.40293331e+01  1.44779158e+01  5.07422113e+00 -2.67503586e+01\n",
      " -1.50415154e+01 -1.59880581e+01 -1.87340107e+01 -6.55617809e+00\n",
      " -2.95050359e+00 -4.74746466e+00  8.41671181e+00 -4.99852037e+00\n",
      " -8.13989639e+00 -3.85969186e+00  4.43974137e-01  3.00337791e+00\n",
      " -6.37246370e-01 -1.74797666e+00 -1.60366917e+01  1.41932905e+00\n",
      " -1.78331852e-01  4.58514118e+00 -1.86322479e+01 -9.19666195e+00\n",
      " -2.26301336e+00 -4.81534386e+00  2.85450673e+00 -9.52370930e+00\n",
      " -1.26627340e+01 -1.74496758e+00 -6.48158789e-01 -4.21903908e-01\n",
      "  5.51848114e-01 -4.96897411e+00  6.93714201e-01 -2.98218250e-01\n",
      " -5.58373928e+00 -6.74615574e+00 -9.04011631e+00 -1.06860676e+01\n",
      " -6.71453524e+00 -4.35360146e+00  4.15010899e-01 -6.70097494e+00\n",
      "  4.24729824e-01 -1.30030143e+00 -2.18996277e+01  1.50762117e+00\n",
      "  3.23282099e+00 -1.70956783e+01 -1.08080423e+00 -1.45265329e+00\n",
      "  2.40822697e+00 -2.07258129e+00 -3.65993524e+00 -5.70899391e+00\n",
      " -3.29296660e+00  3.88000822e+00  3.01565766e+00 -2.25156498e+01\n",
      "  2.39934362e-02 -5.14025974e+00 -3.93956900e+00  1.60684574e+00\n",
      " -3.80102825e+00 -3.20962000e+00  3.17444015e+00 -3.24752784e+00\n",
      " -1.59934521e+01 -2.06501532e+00 -6.03546858e+00  2.87741214e-01\n",
      " -4.10961962e+00 -1.24255095e+01 -5.65537834e+00 -7.31564093e+00\n",
      " -2.46147776e+00 -4.91358662e+00 -1.21012774e+01 -2.26707382e+01\n",
      " -1.33506756e+01 -2.24022884e+01  4.79569054e+00 -1.76857030e+00\n",
      "  1.25607710e+01  4.63024998e+00  4.51588774e+00 -1.09320736e+01\n",
      " -6.78761768e+00  3.86047173e+00 -3.89509130e+00  5.49023676e+00\n",
      " -2.12685604e+01  9.96604919e-01 -4.69164276e+00 -1.71284504e+01\n",
      " -5.23189831e+00  3.26675534e+00 -8.93621817e-02 -2.24839258e+00\n",
      " -7.71219301e+00  6.77736855e+00 -1.13929386e+01 -4.02460194e+00\n",
      " -1.36597958e+01 -5.99755907e+00 -2.33272076e+00 -2.56538086e+01\n",
      " -1.45756807e+01  3.49352717e+00  1.07135141e+00 -3.65170765e+00\n",
      "  1.09576035e+01 -4.18941784e+00 -1.58216877e+01 -5.07216692e+00\n",
      "  2.84487629e+00 -8.82640934e+00 -4.26587105e+00 -7.96177530e+00\n",
      " -9.91412067e+00 -3.41103058e+01  2.20315480e+00 -2.57058029e+01\n",
      " -1.35047932e+01  6.42128372e+00 -1.92420120e+01 -1.59072647e+01\n",
      "  1.43921900e+00 -1.07420187e+01  6.32694364e-01 -2.53054638e+01\n",
      " -2.92839222e+01  2.76792526e+00 -3.50857086e+01 -2.74078064e+01\n",
      " -1.30221367e+01 -9.35754967e+00 -5.11938906e+00 -2.65276833e+01\n",
      " -1.33014727e+00 -1.28714075e+01  5.13227558e+00  7.61720315e-02\n",
      " -2.41618896e+00 -2.33849153e-01 -4.41826744e+01 -1.86943626e+00\n",
      " -3.07502246e+00  5.91114092e+00 -2.09807796e+01 -2.39455833e+01\n",
      " -2.57548923e+01 -1.06997023e+01  4.65257585e-01 -1.08027582e+01\n",
      "  1.83114624e+00  8.81756917e-02 -7.71027994e+00 -2.43430195e+01\n",
      " -4.47155088e-02 -7.36586046e+00 -3.58963460e-01 -1.75321789e+01\n",
      " -7.85798359e+00 -5.84400415e+00 -2.28122807e+00 -1.20641899e+01\n",
      " -1.63335361e+01 -3.16652355e+01 -4.10500526e+00 -4.21720839e+00\n",
      " -3.06697922e+01 -3.54646263e+01 -3.98494644e+01 -6.97578669e+00\n",
      " -8.75918579e+00 -2.85916595e+01 -6.39089251e+00 -1.94817295e+01\n",
      "  3.05954981e+00 -1.44360847e+01 -1.12063761e+01  1.06354713e+01\n",
      "  4.06800890e+00  1.80186033e+00 -4.44073534e+00 -5.70988369e+00\n",
      " -1.27820578e+01 -6.51795030e-01 -1.19313154e+01 -3.10634899e+00\n",
      "  3.46388197e+00  4.09585142e+00 -6.96790266e+00 -6.17154479e-01\n",
      " -8.49453926e+00 -1.52529383e+01 -1.77206078e+01 -4.68945599e+00\n",
      "  1.00558634e+01 -6.95786524e+00 -1.99156690e+00 -1.20376358e+01\n",
      " -1.20140333e+01  2.52013707e+00 -1.68837585e+01 -2.53248501e+01\n",
      "  4.47253752e+00 -3.52092648e+00  8.69659007e-01 -2.09383221e+01\n",
      " -4.97871542e+00 -5.01219606e+00 -2.20004082e+01 -3.48295856e+00\n",
      "  1.05950861e+01  2.04676342e+00 -8.22514057e+00  8.77674103e+00\n",
      " -6.60595608e+00 -2.43607121e+01  4.51898456e-01 -2.84963646e+01\n",
      " -1.60941296e+01  4.80126238e+00 -1.65145378e+01 -4.89058161e+00\n",
      " -6.10267305e+00  8.82671165e+00 -1.78459148e+01 -3.03282814e+01\n",
      " -3.98164673e+01 -9.75393105e+00 -7.08423710e+00 -3.68784790e+01\n",
      " -2.99850445e+01 -3.38323903e+00 -1.98432159e+01  5.15913010e+00\n",
      "  8.88047791e+00 -3.43591690e+01 -2.59492016e+00 -2.77598057e+01\n",
      " -1.55875273e+01 -2.34165440e+01]' has dtype incompatible with int64, please explicitly cast to a compatible dtype first.\n",
      "  preds[val_index] = model.predict(dval_i)\n"
     ]
    },
    {
     "name": "stderr",
     "output_type": "stream",
     "text": [
      "\r",
      " 40%|███████████████████████████████████████████████████████████▏                                                                                        | 4/10 [01:55<02:55, 29.28s/it]"
     ]
    },
    {
     "name": "stderr",
     "output_type": "stream",
     "text": [
      "C:\\Users\\81809\\AppData\\Local\\Temp\\ipykernel_22148\\3386215446.py:18: FutureWarning: Setting an item of incompatible dtype is deprecated and will raise an error in a future version of pandas. Value '[-1.01027298e+01 -6.87252700e-01  2.12130146e+01  1.21074047e+01\n",
      "  2.26531200e+01  1.90850544e+01 -1.74671590e+00  5.99594355e+00\n",
      "  1.13646393e+01  6.51124716e+00  8.71296883e+00 -3.20004439e+00\n",
      " -3.50636792e+00  1.72039211e+00  2.44878464e+01  2.31052284e+01\n",
      " -2.26652575e+00  4.99227762e+00 -4.07364219e-01  3.73814988e+00\n",
      "  1.02218657e+01  1.49359798e+00  1.97896099e+01  2.15656128e+01\n",
      "  2.17536116e+00 -6.41672468e+00  6.65890992e-01  1.40629375e+00\n",
      "  5.67589092e+00 -4.58790350e+00  6.91953802e+00 -1.36628175e+00\n",
      "  1.99113007e+01 -1.47785306e+00 -6.77395296e+00  2.98309827e+00\n",
      "  1.68777847e+01 -5.01006317e+00  5.41570246e-01 -1.76940072e+00\n",
      "  2.61976171e+00  7.00648832e+00 -4.76243830e+00 -8.15470505e+00\n",
      " -1.22448683e+00  7.74641132e+00  6.44312000e+00  1.42856398e+01\n",
      "  7.93608332e+00  7.22044277e+00  6.97681522e+00 -5.68339825e+00\n",
      " -2.75340724e+00  5.38256025e+00 -1.11211491e+01  3.46047521e+00\n",
      "  7.72016287e+00  2.35466290e+01  2.09401741e+01  4.23021460e+00\n",
      "  4.32366562e+00  1.21783566e+00  3.17543030e+00 -2.06889009e+00\n",
      "  6.86105394e+00  6.48728848e+00 -1.47810066e+00  2.22429061e+00\n",
      "  3.90071416e+00  2.27574825e+00 -1.82199407e+00  2.57043839e+00\n",
      " -3.29076481e+00  4.35940313e+00  4.57937509e-01  2.72596645e+01\n",
      "  7.65738726e+00 -2.31676078e+00 -7.22596216e+00 -1.38874626e+00\n",
      "  1.16887102e+01  1.34320283e+00 -1.58232796e+00  3.00365257e+00\n",
      "  9.26295662e+00  2.39036679e+00  1.33069305e+01  2.09638476e+00\n",
      "  2.32297211e+01  1.06491737e+01 -1.10295506e+01 -5.96968508e+00\n",
      "  2.38021641e+01 -4.71091890e+00  8.47013664e+00  1.25605135e+01\n",
      "  4.22766399e+00  1.22568693e+01 -1.60972762e+00 -6.99409544e-01\n",
      " -1.24838901e+00  1.09178305e+01  2.23167515e+01 -8.89601040e+00\n",
      " -6.96911097e+00  1.21178055e+01 -2.13882804e+00  5.81723499e+00\n",
      "  2.66642737e+00  3.33462453e+00 -7.06032038e+00 -2.47989702e+00\n",
      "  7.71886051e-01  5.30131388e+00  1.91989481e+00  3.04403615e+00\n",
      " -1.09653816e+01  6.08418655e+00 -1.73453546e+00  5.85929573e-01\n",
      " -2.61241150e+00  6.86261892e+00  4.82100868e+00 -3.20370197e+00\n",
      "  4.26279354e+00  1.51381958e+00  6.98058939e+00  6.42487288e+00\n",
      "  1.47436533e+01  4.43952227e+00 -1.95866547e+01 -1.38277161e+00\n",
      "  2.05814075e+00 -9.64406133e-01  8.15747929e+00 -2.47692561e+00\n",
      " -4.67125848e-02  4.51581240e+00  2.95057316e+01  1.24191360e+01\n",
      " -1.86553872e+00  1.76223068e+01  2.30063133e+01 -3.29001188e+00\n",
      " -7.87025118e+00  1.49753942e+01 -8.23044658e-01  9.28893757e+00\n",
      "  1.90990877e+00  6.65934658e+00  5.36322880e+00 -3.95763493e+00\n",
      "  1.50089464e+01  4.95345259e+00  3.14825630e+00  2.00334001e+00\n",
      "  7.90092659e+00  2.11149883e+01  2.82038569e+00 -1.10373449e+01\n",
      "  3.64032578e+00 -7.74952221e+00 -6.25220656e-01  2.86918640e+00\n",
      " -3.29064059e+00  6.08990622e+00  1.01961505e+00  1.08919978e+00\n",
      "  4.78752661e+00  1.07145224e+01 -1.26692617e+00  6.64612913e+00\n",
      "  1.06878567e+01 -5.26772451e+00  3.97439194e+00  1.12038565e+00\n",
      " -9.84699130e-02  5.35210752e+00  5.72428179e+00  1.74874365e+00\n",
      " -2.49965572e+00  6.13365078e+00 -2.61909842e+00 -4.47019482e+00\n",
      " -5.36145735e+00  1.23017473e+01  3.10129189e+00  5.76544666e+00\n",
      " -2.40905499e+00 -2.37279844e+00  2.64551601e+01  4.46352243e+00\n",
      "  2.50702915e+01 -2.51604319e-01 -9.04443550e+00  1.46389189e+01\n",
      "  1.23697519e+01  3.90798092e+00 -3.67240533e-02 -5.29644251e+00\n",
      "  9.42291355e+00  1.72316113e+01 -3.04594612e+00 -3.35510659e+00\n",
      "  5.56226921e+00  5.58745623e+00 -1.03093405e+01  4.28768826e+00\n",
      " -5.96115351e+00 -6.34768343e+00 -1.21420467e+00  3.02953124e+00\n",
      "  1.05993414e+01  1.36997700e+01 -7.95505810e+00  2.51338139e+01\n",
      "  9.59278297e+00  9.20411396e+00  4.68966341e+00  1.25099134e+01\n",
      " -4.03509951e+00  3.37119484e+01 -1.70230401e+00  1.67134647e+01\n",
      " -1.24363518e+00  2.50127926e+01  2.36342583e+01 -4.35929251e+00\n",
      " -6.26308537e+00  9.10868168e+00  1.37282896e+01  1.63979187e+01\n",
      " -7.28541470e+00 -4.73017216e+00 -4.17811108e+00  2.64471388e+00\n",
      "  1.25975823e+00  1.79708672e+01  3.63284798e+01  3.60121608e-01\n",
      "  1.93145764e+00  7.37851095e+00 -6.66951478e-01  2.04003601e+01\n",
      "  1.54250069e+01  1.99265060e+01  1.94400425e+01  1.55238018e+01\n",
      "  8.42065811e+00  8.62866580e-01  7.91146231e+00  2.29920959e+01\n",
      "  4.22406530e+00  4.47590017e+00  2.71795807e+01  5.61282063e+00\n",
      " -8.89018154e+00  2.48411713e+01  1.42742376e+01  2.18456192e+01\n",
      "  2.54086971e-01  2.34964395e+00  2.53482533e+01  9.35834122e+00\n",
      "  1.54292021e+01  1.48771572e+00 -1.09800110e+01  1.74387777e+00\n",
      "  1.04373252e+00  2.95164528e+01  1.16185246e+01  1.56354580e+01\n",
      " -8.54783440e+00  1.27897062e+01  3.60777664e+01  1.26890831e+01\n",
      "  6.21787834e+00  1.42868824e+01 -3.58936620e+00  3.57312241e+01\n",
      "  1.06757009e+00 -1.94211614e+00  4.18131943e+01  9.49629402e+00\n",
      "  5.17505980e+00 -6.48922777e+00  6.80514431e+00  3.78293648e+01\n",
      "  4.62980700e+00  3.70311522e+00 -5.83284676e-01  1.82222366e+01\n",
      "  1.42712345e+01  2.89290390e+01  1.52478199e+01 -3.12937284e+00\n",
      " -4.68754005e+00  1.14125767e+01  2.07518768e+01 -3.07951117e+00\n",
      "  7.16290712e+00  9.64389610e+00  3.64065790e+00  2.88824444e+01\n",
      "  1.76563759e+01  4.21208668e+00  1.34043875e+01  3.97756982e+00\n",
      "  1.26210814e+01  5.73396873e+00  6.48342228e+00 -5.05491590e+00\n",
      " -4.57268047e+00  8.75712490e+00  1.30258141e+01  7.27601004e+00\n",
      "  1.52043962e+01  2.38421917e+00  2.91655838e-01  3.23149896e+00\n",
      " -1.46626997e+00 -4.68610430e+00  1.78953695e+00 -9.02124214e+00\n",
      " -7.86936712e+00 -4.50281858e+00 -1.94329224e+01 -1.02870283e+01\n",
      " -1.61165726e+00  3.61510611e+00 -6.44043589e+00 -7.03017855e+00\n",
      " -7.26554918e+00 -4.12644196e+00 -2.33737636e+00 -5.20542049e+00\n",
      " -1.95763226e+01 -4.26680851e+00 -2.25238681e+00 -7.10535860e+00\n",
      " -9.96093369e+00 -6.96371031e+00  1.54279196e+00 -4.96725559e+00\n",
      " -3.85933328e+00 -3.05005288e+00  9.22355843e+00 -6.63913298e+00\n",
      "  2.95259118e-01  4.96833944e+00 -2.12384009e+00 -1.44272957e+01\n",
      " -1.29994211e+01 -8.97911787e-01 -7.05130458e-01  1.29912603e+00\n",
      " -1.92803681e+00 -4.58582067e+00  1.57706594e+00 -6.04354095e+00\n",
      " -7.99704647e+00  3.59740734e+00 -7.89292240e+00 -1.79827440e+00\n",
      " -1.33987904e+01  3.26592922e+00 -6.28644276e+00 -1.34581983e+00\n",
      " -8.19407082e+00 -6.12944269e+00  5.21869373e+00  4.52586317e+00\n",
      " -8.98500824e+00 -3.12762856e+00 -4.97006607e+00 -4.75204229e+00\n",
      " -2.36823139e+01 -1.47936306e+01  8.70296597e-01 -7.23378801e+00\n",
      " -3.05593824e+00 -7.06207705e+00 -1.06089058e+01 -6.09571600e+00\n",
      " -3.38879037e+00  1.86398637e+00 -8.21316838e-02 -1.88308620e+01\n",
      " -2.43618984e+01 -7.52090311e+00  1.96248877e+00  1.23652751e-02\n",
      "  7.47264624e+00 -1.85385075e+01 -4.98480988e+00  1.38165653e-01\n",
      " -8.59086609e+00 -1.42203007e+01  4.26512861e+00 -2.00748539e+01\n",
      " -3.67151886e-01 -6.99704826e-01 -1.42432566e+01  2.24043059e+00\n",
      " -2.01025734e+01 -1.77496338e+00  9.61707306e+00 -8.75644684e+00\n",
      "  3.91805553e+00 -8.62387371e+00 -9.11237621e+00 -4.96810436e+00\n",
      " -5.08133268e+00 -5.00244236e+00  2.26305985e+00 -6.62681103e+00\n",
      " -2.68514466e+00 -2.43491039e+01  2.56661177e+00  1.54166183e+01\n",
      "  2.03240466e+00 -1.14696808e+01 -9.20602226e+00 -4.84700203e+00\n",
      "  7.11813450e-01  2.24907851e+00 -9.21526432e+00 -4.65703297e+00\n",
      " -4.20899057e+00 -8.52300346e-01  6.91181540e-01 -2.14125967e+00\n",
      "  2.45919514e+00 -2.76022410e+00 -8.22054195e+00  1.18882763e+00\n",
      "  5.21088123e+00 -4.95869446e+00  3.79604161e-01 -5.83843899e+00\n",
      " -2.16291189e+00 -8.37081814e+00  3.17987800e+00  2.06675930e+01\n",
      " -2.18257847e+01 -6.51688910e+00 -3.80345345e+00 -1.82798326e+00\n",
      " -2.05265427e+01 -3.71848273e+00  1.97886992e+00 -1.87484150e+01\n",
      "  4.77702379e+00  8.30844164e-01 -8.71234059e-01 -1.02118311e+01\n",
      "  4.37832355e+00 -5.70447969e+00 -6.08570766e+00  2.47331643e+00\n",
      "  9.38012958e-01 -3.84238005e+00 -7.77498484e+00  1.12240779e+00\n",
      "  7.13954735e+00 -1.20651236e+01 -1.96750736e+00 -1.64882832e+01\n",
      " -2.54655457e+00 -3.79437351e+00 -6.34354401e+00  9.64726067e+00\n",
      "  7.08891630e+00 -4.27090931e+00 -1.96100032e+00  8.17708015e+00\n",
      " -5.61775982e-01  2.77925730e+00  4.03157759e+00 -2.19048738e+00\n",
      " -2.22135830e+01 -1.25702095e+01 -3.89207792e+00  9.64587033e-02\n",
      "  1.16478844e+01 -1.82255352e+00 -5.69677413e-01 -8.07734585e+00\n",
      " -3.55165792e+00 -6.48103857e+00 -4.22204590e+00 -2.97786689e+00\n",
      " -6.57656193e+00  5.36523283e-01 -1.26591187e+01 -2.12668953e+01\n",
      " -8.64633274e+00 -5.20408154e+00 -1.18163872e+01 -1.95144062e+01\n",
      " -3.14931417e+00 -5.16418552e+00  2.70236731e+00  7.52944613e+00\n",
      " -2.61900616e+01 -3.05626607e+00 -2.11510563e+00 -1.45146351e+01\n",
      " -7.72344619e-02 -2.19483299e+01 -2.08280487e+01  1.24873590e+00\n",
      " -7.38688993e+00 -7.29123878e+00 -5.38280678e+00  2.97964424e-01\n",
      " -7.35569191e+00 -3.33812809e+00 -4.62519884e+00 -6.44182205e+00\n",
      "  8.02003264e-01  1.32092075e+01  2.22889957e+01 -6.23622131e+00\n",
      "  3.57655382e+00  4.36695337e+00 -5.52282906e+00 -5.71400499e+00\n",
      " -4.46627903e+00 -3.12334633e+01 -7.18397903e+00 -2.44316425e+01\n",
      " -2.90471401e+01 -5.44497824e+00 -3.68180046e+01  1.52553959e+01\n",
      " -1.10883150e+01 -1.50950375e+01  9.15938187e+00 -5.80707788e+00\n",
      " -1.11865835e+01 -2.98303204e+01 -2.58676872e+01 -2.21984653e+01\n",
      " -5.02654362e+00 -3.53415794e+01 -2.59131660e+01 -7.93603182e+00\n",
      " -3.67267871e+00 -2.14231701e+01 -2.84797916e+01 -1.54466009e+01\n",
      " -1.98127880e+01 -1.16813555e+01 -2.37578583e+01 -3.60020943e+01\n",
      "  6.56688094e-01 -2.90530276e+00 -6.21458101e+00 -3.43206763e+00\n",
      " -4.57005959e+01  5.92920494e+00 -1.80564728e+01 -1.02668219e+01\n",
      " -1.26195078e+01  1.48044884e+00  3.74800777e+00 -2.53855777e+00\n",
      " -1.10202312e+01 -1.11474581e+01  1.19141951e+01  2.37516956e+01\n",
      " -1.92522979e+00 -5.71801901e-01 -1.75384007e+01 -1.27845869e+01\n",
      " -2.86855907e+01 -2.90569706e+01  4.65990019e+00 -1.73198547e+01\n",
      "  8.13910198e+00  1.13988266e+01 -2.99022236e+01 -1.63789787e+01\n",
      " -3.11728306e+01 -3.34268456e+01 -1.12164421e+01 -5.23356533e+00\n",
      " -3.56063652e+01 -4.14737415e+00 -3.52694130e+01  1.30854273e+01\n",
      " -1.03906631e+01 -2.45670948e+01 -2.65690784e+01 -5.86551905e+00\n",
      " -6.78979218e-01 -8.10186291e+00 -1.37850084e+01 -9.82445240e-01\n",
      " -3.02538204e+01 -1.06989584e+01 -2.43055401e+01  4.94564247e+00\n",
      " -8.54828167e+00  3.82863426e+00 -4.43570805e+00 -3.22009773e+01\n",
      " -9.82400715e-01 -1.73908937e+00 -7.28047037e+00 -1.41620131e+01\n",
      "  3.44389057e+00 -6.73158979e+00 -9.94572258e+00 -1.29784203e+00\n",
      " -2.83725357e+00 -2.41930332e+01 -2.88805199e+01 -2.68868027e+01\n",
      " -1.71711197e+01 -4.72164631e+00 -2.72243824e+01 -2.09666653e+01\n",
      " -5.53613997e+00  1.24096489e+01 -6.97969580e+00 -1.09526968e+01\n",
      " -1.23982611e+01 -6.52231407e+00  1.52032757e+00  9.39085007e+00\n",
      " -3.96232033e+01  2.30924177e+00 -2.34685345e+01  3.79674959e+00\n",
      " -1.24264717e+01  2.78692722e-01 -1.09999619e+01 -1.93871295e+00\n",
      " -1.80867517e+00  1.81713524e+01 -8.23312950e+00 -1.99633389e+01\n",
      " -3.65712929e+00 -2.35857534e+00]' has dtype incompatible with int64, please explicitly cast to a compatible dtype first.\n",
      "  preds[val_index] = model.predict(dval_i)\n"
     ]
    },
    {
     "name": "stderr",
     "output_type": "stream",
     "text": [
      "\r",
      " 50%|██████████████████████████████████████████████████████████████████████████                                                                          | 5/10 [02:24<02:27, 29.51s/it]"
     ]
    },
    {
     "name": "stderr",
     "output_type": "stream",
     "text": [
      "C:\\Users\\81809\\AppData\\Local\\Temp\\ipykernel_22148\\3386215446.py:18: FutureWarning: Setting an item of incompatible dtype is deprecated and will raise an error in a future version of pandas. Value '[ 4.13128287e-01  1.42189252e+00  1.49248219e+01  3.26180816e+00\n",
      " -5.98520708e+00 -2.61394352e-01  1.99146404e+01  8.62316895e+00\n",
      "  9.87231922e+00  5.47975826e+00  1.67735589e+00  6.05641842e+00\n",
      "  5.36001110e+00  2.42133884e+01  1.83301067e+00  2.05286484e+01\n",
      "  2.14838867e+01 -9.66594315e+00  2.36291599e+00  8.31736982e-01\n",
      " -3.05366307e-01 -3.02003980e+00  2.53264923e+01  2.80432129e+01\n",
      "  1.11857262e+01  3.56213260e+00 -3.02300334e+00  7.92852259e+00\n",
      "  4.64132738e+00 -8.15872610e-01 -1.87839878e+00  4.52042770e+00\n",
      "  2.70077372e+00  4.17138290e+00  1.56302729e+01  1.95011640e+00\n",
      "  1.52470872e-01  1.91144886e+01 -1.78431368e+00  5.37953472e+00\n",
      "  1.53859186e+00 -4.59923458e+00 -9.53876019e-01  8.26318932e+00\n",
      " -6.00334311e+00 -8.69727516e+00  1.71889248e+01  5.44809914e+00\n",
      "  2.23670940e+01  7.09811211e+00  2.06451416e+00  5.56322479e+00\n",
      " -2.85124063e+00 -2.50837326e+00  1.68917513e+00  1.27769890e+01\n",
      "  1.37354059e+01  6.00780630e+00  2.96653271e+00  2.62216806e+00\n",
      "  2.86164451e+00  5.37749243e+00  6.15951681e+00  6.79979038e+00\n",
      " -1.41131651e+00 -1.54722381e+00  1.70805607e+01  7.32761526e+00\n",
      "  1.17419844e+01  2.71976604e+01  4.09391069e+00  2.63669605e+01\n",
      " -8.99243546e+00  1.17966862e+01  1.03585033e+01  1.38356161e+00\n",
      "  3.15994239e+00  2.65414467e+01  8.08410072e+00  2.27423344e+01\n",
      " -1.41399050e+00  1.06087637e+01  8.50884438e+00 -7.03365922e-01\n",
      "  2.60218310e+00  1.14564171e+01  3.46316695e+00  1.11631699e+01\n",
      " -2.26738000e+00 -1.69783664e+00  2.50199051e+01 -2.96086574e+00\n",
      " -2.99264050e+00 -2.98609710e+00  2.62064152e+01 -6.42618597e-01\n",
      "  1.91141853e+01 -1.73270598e-01  1.16622210e+01  2.18500948e+00\n",
      " -3.97163224e+00  4.06637955e+00  2.23144341e+00  1.62709942e+01\n",
      "  1.35028486e+01  2.09387455e+01 -5.16782379e+00  9.04050255e+00\n",
      " -2.27949810e+00  7.68973541e+00  1.04273205e+01  4.94147205e+00\n",
      " -1.41186142e+01 -3.61584926e+00 -3.25025082e+00  1.02092695e+01\n",
      " -1.11824736e-01  3.05524578e+01  1.49679947e+01  6.28993750e+00\n",
      "  9.39227390e+00  7.35888243e+00  1.74835224e+01  4.27706957e-01\n",
      "  1.21974812e+01  3.50616479e+00 -1.15019703e+00  8.25616741e+00\n",
      " -2.87732792e+00  3.27161980e+00  3.12013078e+00  3.34194541e+00\n",
      " -5.28734684e-01  6.49267817e+00 -1.09488640e+01 -9.57812369e-01\n",
      " -2.33413005e+00 -5.12020159e+00  5.24181604e+00  6.32493973e-01\n",
      " -1.94861305e+00  1.66175003e+01  1.24547319e+01 -6.36206150e+00\n",
      "  1.97843285e+01  1.75876923e+01  2.31351585e+01  4.24203873e+00\n",
      "  6.11565161e+00  4.94859743e+00 -2.18287396e+00  6.73803711e+00\n",
      "  3.15782976e+00  1.24328680e+01 -2.15051341e+00  1.82883000e+00\n",
      "  1.31016827e+00 -4.14548445e+00  3.45393848e+00  2.02535553e+01\n",
      "  5.91090727e+00  4.75604391e+00  1.92558122e+00  8.69103432e+00\n",
      "  5.86645186e-01  8.44709389e-03  4.52434111e+00  5.90273094e+00\n",
      "  1.18998175e+01 -4.99632025e+00  2.09684811e+01  3.23572898e+00\n",
      "  1.29441023e+01  6.24513960e+00  6.87018871e+00 -2.23766851e+00\n",
      "  2.70199823e+00  9.66285419e+00  5.42338133e+00  2.52498455e+01\n",
      "  7.04840231e+00  9.55854321e+00  9.07521152e+00  4.06906700e+00\n",
      "  2.42602921e+01  6.24191570e+00  5.67571688e+00  6.39238071e+00\n",
      "  4.29899597e+00  8.01994514e+00  1.11619539e+01  8.90041733e+00\n",
      "  5.72393179e+00 -2.05234861e+00  1.68811607e+01 -1.67301226e+00\n",
      "  2.40900087e+00 -1.11107874e+00  4.91226816e+00  1.10600128e+01\n",
      "  3.31731644e+01 -2.99709678e+00  4.22164154e+01 -3.18970847e+00\n",
      "  1.46914673e+01 -1.01505911e+00  3.58519220e+00 -7.06324959e+00\n",
      "  8.96244717e+00  5.23011303e+00  1.43059244e+01  7.39512444e+00\n",
      " -7.41955233e+00 -1.67931640e+00  2.21372890e+01  2.09110603e+01\n",
      "  8.17936897e+00 -6.56375051e-01  3.36033478e+01  3.66305542e+01\n",
      "  6.96087980e+00  1.86977310e+01  8.25948906e+00  1.37345219e+01\n",
      "  1.64455280e+01 -5.45353746e+00  1.27630939e+01  8.46864605e+00\n",
      " -4.23075008e+00 -3.39413071e+00  1.47104299e+00 -6.59136295e+00\n",
      "  9.14726162e+00  2.90245271e+00  1.68976803e+01  3.46430702e+01\n",
      "  8.88046801e-01  3.11115131e+01 -1.17751706e+00  9.79786068e-02\n",
      " -7.64671415e-02  6.23306513e+00  4.95324278e+00  7.93619335e-01\n",
      " -8.09096622e+00  4.78881359e-01  1.65499649e+01  4.33490562e+00\n",
      "  9.35160255e+00  1.30869455e+01  3.39170761e+01  4.30925894e+00\n",
      " -6.33206272e+00  1.39425640e+01  2.32411385e+01  1.22334709e+01\n",
      "  8.94686413e+00  6.35300827e+00  3.43333721e+00  2.88813329e+00\n",
      "  4.41205368e+01 -3.41726732e+00  2.37667999e+01 -3.44731617e+00\n",
      " -6.09355259e+00  1.58200378e+01  3.29998093e+01  5.31309795e+00\n",
      "  1.23851604e+01  1.05340395e+01 -2.37170720e+00  7.97945976e+00\n",
      "  1.63670101e+01  3.25197334e+01  1.50064075e+00  3.00151515e+00\n",
      "  5.21512985e+00 -2.79655385e+00  9.32849884e+00  4.77598143e+00\n",
      "  4.63992386e+01 -3.14596295e+00 -2.11113358e+00 -1.55132163e+00\n",
      "  3.05540028e+01 -4.90022469e+00  2.51399517e+01  2.07778091e+01\n",
      "  2.54653406e+00 -1.33616190e+01  1.17278547e+01  2.12802639e+01\n",
      "  8.27803993e+00  7.99845979e-02  6.88639212e+00  3.57157440e+01\n",
      " -3.77570367e+00  1.09870958e+01  5.11155653e+00  1.54969931e+01\n",
      "  3.18951440e+00  6.56283903e+00  4.36116409e+00 -1.06443510e+01\n",
      " -7.76109791e+00  2.25792974e-01 -1.00953617e+01 -5.50549328e-01\n",
      "  8.67610359e+00  1.07803469e+01  2.98579979e+01  1.48400927e+01\n",
      "  2.21733150e+01  5.17947483e+00  1.63728094e+00  1.91975708e+01\n",
      "  6.48201656e+00  6.79990244e+00  2.13468647e+01  1.42188244e+01\n",
      "  2.13611240e+01 -7.25769162e-01 -5.55545568e+00 -2.40395331e+00\n",
      " -2.06295662e+01 -6.82578278e+00 -1.15776367e+01 -9.22763944e-01\n",
      " -5.80449009e+00  2.66608477e+00 -6.33007336e+00 -5.92449665e+00\n",
      "  7.37347507e+00  4.54885483e+00  3.09229803e+00 -2.76856709e+00\n",
      "  1.90402079e+00 -5.13967228e+00 -2.55868816e+00 -1.89606678e+00\n",
      " -1.94435616e+01 -3.66938066e+00 -4.30856609e+00 -1.88267195e+00\n",
      " -2.03316212e+00 -3.09969759e+00 -2.89515519e+00 -6.72799170e-01\n",
      " -9.33499622e+00 -1.98130722e+01 -2.73505535e+01 -2.80553317e+00\n",
      " -8.60726833e+00 -5.25986290e+00 -8.00277042e+00 -3.87016237e-01\n",
      "  6.20872021e-01 -4.64416456e+00 -9.87598896e+00 -1.26219237e+00\n",
      " -1.00602560e+01 -6.30016327e+00  8.62780452e-01 -4.96961355e+00\n",
      " -5.50629282e+00 -1.48689718e+01 -2.08161392e+01 -6.28118706e+00\n",
      " -1.64430249e+00 -1.54720688e+00 -6.52160549e+00  5.64005756e+00\n",
      "  2.86659145e+00 -7.16303968e+00  2.13856593e-01 -1.39495707e+00\n",
      " -1.42012949e+01 -6.24440384e+00 -1.16588593e+00 -1.43316965e+01\n",
      " -7.10417271e+00  3.10315442e+00 -7.55068445e+00 -9.60154724e+00\n",
      " -4.68030214e+00  4.51446867e+00  1.40834892e+00 -6.21645880e+00\n",
      " -8.49504852e+00  8.45489502e+00 -1.59398232e+01 -1.16266479e+01\n",
      " -1.41933203e+00 -3.26543903e+00 -1.51214516e+00 -1.25026283e+01\n",
      " -1.94160023e+01  2.86742163e+00  6.31964350e+00 -7.52382183e+00\n",
      "  4.10390615e+00 -1.84026661e+01 -1.09739952e+01 -6.14418507e+00\n",
      " -3.47791529e+00 -5.28409576e+00 -1.09741199e+00 -1.18916473e+01\n",
      " -8.69237232e+00 -3.64365149e+00 -1.39269114e+01 -1.02756033e+01\n",
      " -2.93934608e+00 -9.99596691e+00 -7.71327078e-01 -2.47460294e+00\n",
      " -3.38312101e+00 -1.14558897e+01 -1.86125736e+01  2.60448647e+00\n",
      " -2.24329834e+01 -1.27174654e+01 -5.73201132e+00 -2.01224899e+00\n",
      " -4.99249935e+00 -2.05327964e+00 -1.29881678e+01  4.66879749e+00\n",
      "  5.61482191e+00 -1.20666675e-01 -6.89134538e-01 -6.06908321e+00\n",
      " -3.09550500e+00 -6.42210150e+00  8.93453026e+00 -2.28403645e+01\n",
      " -2.11489797e+00 -6.91225958e+00 -1.18016922e+00  4.80387092e-01\n",
      " -8.08108902e+00 -1.24016781e+01  2.96271348e+00 -4.76962328e+00\n",
      " -4.10787153e+00 -4.37273836e+00  1.68978062e+01 -2.13293695e+00\n",
      "  2.10813785e+00  1.29025478e+01 -1.70906906e+01  3.71504259e+00\n",
      " -1.49193344e+01  2.05808830e+00 -8.57673931e+00 -4.11195707e+00\n",
      "  6.99671388e-01 -7.43990123e-01 -2.39690065e+00 -3.54872155e+00\n",
      " -1.95057106e+01 -1.08245173e+01 -8.29442883e+00 -2.23289413e+01\n",
      "  7.15338755e+00 -9.58353698e-01  4.55887842e+00  3.51243138e+00\n",
      " -2.24674511e+01 -2.78112674e+00 -6.69508457e+00  1.09615517e+01\n",
      " -1.20169973e+00 -1.76425686e+01  1.59477353e+00 -4.52812862e+00\n",
      " -1.77100239e+01 -1.15657520e+00 -4.53810543e-01 -4.19664097e+00\n",
      "  1.09798349e-01 -9.78787231e+00  2.35231614e+00 -2.17212722e-01\n",
      "  2.15125367e-01  5.01107121e+00 -1.35109797e+01  4.69752550e+00\n",
      " -2.49852467e+00 -3.94078517e+00 -8.30471420e+00  2.60879397e+00\n",
      " -2.60341072e+01 -3.22541451e+00 -9.16798782e+00  5.13086081e+00\n",
      " -3.65947461e+00  6.89080906e+00  6.51871562e-01  3.45662808e+00\n",
      " -4.81395435e+00 -4.52003813e+00  3.39998651e+00 -9.98088264e+00\n",
      " -5.21183443e+00  7.12460375e+00  2.28159738e+00  3.91895676e+00\n",
      " -2.08244607e-01 -1.70068703e+01 -3.08778167e+00 -7.30709648e+00\n",
      " -3.12694836e+00 -1.84559321e+00 -3.62934089e+00 -4.09691811e+00\n",
      " -2.02191257e+00  2.89547563e+00  2.32784042e+01 -1.93150196e+01\n",
      " -5.62635803e+00 -4.26701927e+00 -1.68004608e+01 -4.00452995e+00\n",
      "  9.88301754e+00 -3.43076277e+00  1.46149230e+00 -3.90746617e+00\n",
      " -9.19739819e+00 -8.68007183e+00 -8.70951080e+00 -4.44909477e+00\n",
      " -1.06925411e+01 -9.50421333e+00 -6.45129442e+00  4.64527416e+00\n",
      " -1.41335936e+01 -5.92236233e+00 -1.74996338e+01 -9.56110573e+00\n",
      " -2.55255127e+01  3.57454705e+00 -1.08567038e+01 -3.61415958e+00\n",
      " -4.75657195e-01 -9.64384842e+00 -2.93358746e+01 -3.35441856e+01\n",
      "  1.34461355e+01 -8.71273327e+00  1.09141541e+00 -1.29930663e+00\n",
      " -5.54397631e+00 -2.40078468e+01 -2.46085205e+01 -6.98125887e+00\n",
      " -9.56657600e+00  4.45656395e+00 -1.86459045e+01 -1.51540785e+01\n",
      " -5.09761333e+00 -5.89722204e+00 -2.23308620e+01 -1.15040493e+01\n",
      "  7.02092505e+00  5.31013393e+00  5.53485870e-01 -4.83664989e+00\n",
      " -2.71069679e+01 -1.03545399e+01 -1.55388498e+01  2.21844501e+01\n",
      " -1.79944134e+01  5.80399466e+00 -1.38743305e+01 -1.35214891e+01\n",
      " -3.44499855e+01 -6.96216154e+00 -2.65164900e+00 -1.89733720e+00\n",
      " -2.67915320e+00 -7.05109835e+00 -7.54049683e+00 -1.54749374e+01\n",
      " -1.48611851e+01 -3.12772446e+01  1.41471350e+00 -1.63925934e+01\n",
      " -3.44273567e+01 -7.08736897e+00 -2.78081684e+01 -1.64738312e+01\n",
      "  8.07257652e+00 -1.30753679e+01 -1.99067020e+01 -1.39085398e+01\n",
      " -3.96109366e+00 -1.29036179e+01 -1.02039900e+01 -3.29488945e+01\n",
      "  9.67498183e-01 -6.45144892e+00 -3.92265058e+00 -9.82067645e-01\n",
      " -2.85434036e+01 -2.55473804e+01 -2.61742077e+01 -6.87687397e+00\n",
      " -4.85221024e+01  9.93143976e-01 -3.84723969e+01 -3.07291293e+00\n",
      "  3.43423772e+00 -9.77314281e+00  8.75468349e+00  7.26662397e+00\n",
      " -7.08944273e+00 -3.30954094e+01  1.71366489e+00 -3.76256294e+01\n",
      "  2.89344239e+00 -3.43168950e+00 -9.82118702e+00 -1.63564186e+01\n",
      " -2.25159359e+01 -3.24357719e+01  1.30730791e+01 -1.32326627e+00\n",
      " -1.94152927e+00 -2.75221233e+01 -4.99461985e+00 -1.74768639e+01\n",
      " -2.93078003e+01 -1.75746095e+00  3.49456191e-01 -6.90841293e+00\n",
      " -6.35727787e+00 -9.41403008e+00  3.21650052e+00 -1.02337399e+01\n",
      " -3.76969986e+01 -6.35125303e+00 -1.09151716e+01 -4.74591112e+00\n",
      " -1.09721842e+01 -2.02834244e+01]' has dtype incompatible with int64, please explicitly cast to a compatible dtype first.\n",
      "  preds[val_index] = model.predict(dval_i)\n"
     ]
    },
    {
     "name": "stderr",
     "output_type": "stream",
     "text": [
      "\r",
      " 60%|████████████████████████████████████████████████████████████████████████████████████████▊                                                           | 6/10 [02:53<01:57, 29.27s/it]"
     ]
    },
    {
     "name": "stderr",
     "output_type": "stream",
     "text": [
      "C:\\Users\\81809\\AppData\\Local\\Temp\\ipykernel_22148\\3386215446.py:18: FutureWarning: Setting an item of incompatible dtype is deprecated and will raise an error in a future version of pandas. Value '[ 4.76740789e+00  1.27949905e+01 -6.25938034e+00  9.99768829e+00\n",
      "  4.35334778e+00  2.53191833e+01  7.16709375e+00  1.30296767e+00\n",
      "  6.04305172e+00  5.06231546e+00  3.09625268e+00  2.28181267e+00\n",
      "  1.69248676e+00  6.61084223e+00  1.85578808e-01  2.09448509e+01\n",
      "  2.15254860e+01 -9.00630569e+00  6.09097528e+00 -9.02386487e-01\n",
      "  6.27837515e+00  2.63416028e+00 -4.70374775e+00  5.94802809e+00\n",
      "  7.90936518e+00  1.67958584e+01 -9.38333452e-01  2.85284328e+01\n",
      "  9.07217121e+00 -3.13285947e+00  4.00067568e+00  1.00572939e+01\n",
      "  1.42283297e+01  9.57143593e+00  6.04409599e+00  1.88234234e+00\n",
      "  1.57188435e+01  1.39273834e+00  1.44762313e+00  1.80217886e+00\n",
      " -1.41723409e-01  1.34165621e+00  7.23653889e+00  1.55101001e+00\n",
      "  6.39629126e+00  1.82230301e+01  1.57055607e+01  1.38172579e+00\n",
      " -2.80356908e+00 -2.59046817e+00  5.50854492e+00 -1.38692999e+00\n",
      "  1.40735626e+01 -2.03108692e+00 -5.68050504e-01  1.01392565e+01\n",
      "  2.45118065e+01  2.41095562e+01  4.59371179e-01  5.39145613e+00\n",
      "  9.36961651e+00 -3.86070561e+00  7.72201014e+00  2.89001369e+00\n",
      "  1.73087060e+00 -3.20690870e+00  1.84295368e+01  5.06360006e+00\n",
      "  1.51669683e+01  1.80170479e+01 -6.41102934e+00  1.10305518e-01\n",
      "  6.20265198e+00  1.79470921e+01 -2.00923657e+00  1.72785454e+01\n",
      "  1.14078684e+01  1.08216972e+01  3.81439948e+00  9.09906104e-02\n",
      "  7.48208284e+00  1.34672463e+00  1.64084282e+01  1.19434290e+01\n",
      " -4.65867901e+00 -5.50240576e-01  9.18335974e-01 -4.60342407e+00\n",
      "  4.84175205e+00  1.61737309e+01 -1.42393720e+00 -3.50044155e+00\n",
      "  2.36547871e+01  3.96188307e+00  1.31767883e+01 -1.01670885e+01\n",
      "  1.30467606e+01  3.98658752e+00  1.20664606e+01 -7.40267611e+00\n",
      "  5.20583153e+00  8.14488029e+00 -3.42681217e+00  2.99765337e-02\n",
      "  1.21802149e+01  2.80566716e+00 -4.90303946e+00  1.26529860e+00\n",
      " -4.46581030e+00  1.49991119e+00 -4.85972911e-01  6.19736433e+00\n",
      "  7.69483852e+00  2.46471367e+01 -2.69686389e+00 -7.45075560e+00\n",
      " -4.70866346e+00  5.56885433e+00 -1.65424597e+00  2.39866161e+00\n",
      "  8.32000446e+00  1.22980051e+01 -2.54402471e+00  3.71419954e+00\n",
      "  5.72496891e+00  2.47357345e+00  6.37069702e+00  1.76122189e+01\n",
      " -1.69962955e+00 -2.28100824e+00  4.95545006e+00  1.59581864e+00\n",
      "  1.50634527e+00  1.51143241e+00  3.21682644e+00  1.26200132e+01\n",
      "  2.70655036e+00  5.93082094e+00  7.73837209e-01 -9.04215336e+00\n",
      "  2.12852306e+01  9.97401655e-01  3.53556943e+00  8.09024143e+00\n",
      "  1.67353077e+01 -4.94239855e+00  1.61465496e-01  1.30485573e+01\n",
      "  1.22026329e+01 -2.90250778e+00  9.78321075e-01  5.01637602e+00\n",
      "  1.72804046e+00 -4.72072363e+00  1.07373552e+01  1.25700283e+01\n",
      "  5.19602728e+00  1.38446665e+00 -2.83559537e+00 -4.12160921e+00\n",
      "  6.05434990e+00  4.41956472e+00  2.14615250e+01  3.14678717e+00\n",
      "  4.50285816e+00  7.73095965e-01  1.51769280e+00  1.70461102e+01\n",
      "  4.12424183e+00 -8.88650358e-01  4.47620440e+00  3.69641542e+00\n",
      "  7.78325367e+00  7.20036983e+00 -1.79875541e+00  3.64049625e+00\n",
      "  3.90134120e+00  2.25746670e+01  7.13848019e+00 -4.20500374e+00\n",
      "  7.13604355e+00  9.59819138e-01  4.75819921e+00  9.59655952e+00\n",
      "  2.31853371e+01  1.77067757e+01  3.39082408e+00  2.24692783e+01\n",
      "  1.68127537e+01  3.46926665e+00  4.63891602e+00 -2.65148306e+00\n",
      "  1.10933275e+01  1.64074554e+01  8.55381668e-01  3.69895515e+01\n",
      "  1.55276861e+01 -7.82150555e+00  6.71182728e+00 -4.08832932e+00\n",
      "  1.38475838e+01  1.08183641e+01  3.84256210e+01  8.12178898e+00\n",
      " -6.96723163e-01  2.42575626e+01  5.45185375e+00  8.39283276e+00\n",
      "  7.49023557e-01 -4.04441690e+00  9.45243740e+00  6.53683472e+00\n",
      " -1.14441767e+01  2.76956725e+00  2.58103352e+01  3.62898850e+00\n",
      "  8.25778767e-02 -8.62495661e-01  1.09625998e+01  1.30314514e-01\n",
      " -8.29482937e+00  1.16642628e+01  2.54020100e+01  5.29620838e+00\n",
      "  2.09620714e+00  2.22165833e+01  1.54048729e+01  9.80677795e+00\n",
      "  5.31124496e+00 -7.77126646e+00  4.35079460e+01  1.81918979e+00\n",
      "  8.96744919e+00  2.34874554e+01  1.37814417e+01  3.14851475e+01\n",
      " -2.67717791e+00  8.89293194e+00  6.26380920e+00  3.49989319e+01\n",
      "  3.66123466e+01  5.99246836e+00  5.47875309e+00  1.57420044e+01\n",
      "  1.17135417e+00  1.56744027e+00  3.02267723e+01 -2.22207284e+00\n",
      "  3.07799757e-01  7.93991995e+00  1.91145763e+01  1.17969265e+01\n",
      "  1.61363487e+01  1.53832779e+01  1.21807280e+01 -5.83291578e+00\n",
      "  1.27597656e+01  9.77483034e-01  3.58701730e+00  1.56636734e+01\n",
      "  1.10743723e+01 -4.38567448e+00  4.09774590e+01  3.56062889e+01\n",
      " -9.78809643e+00  7.81820393e+00  1.48355174e+00  1.29475775e+01\n",
      "  1.17788696e+01  3.11157284e+01  1.71191311e+01  4.56417389e+01\n",
      "  8.49270403e-01  3.12800541e+01  2.20597076e+01  6.69122744e+00\n",
      "  2.34980965e+01  2.18156052e+00 -9.72181606e+00  5.61292267e+00\n",
      " -5.50933075e+00  1.98641949e+01  7.35569334e+00  3.71372223e+00\n",
      "  2.69365807e+01  3.61520233e+01  2.17113137e-01  7.66776466e+00\n",
      "  2.00431919e+01  2.06082230e+01  1.98921661e+01  6.02107048e+00\n",
      "  5.50243902e+00  1.18851376e+00 -6.95762444e+00 -5.85644066e-01\n",
      "  2.47179546e+01  4.06750393e+00  2.99997921e+01  2.18829870e+00\n",
      " -2.22727633e+00  2.35536098e+01 -2.62163234e+00  2.17416573e+01\n",
      "  2.56548691e+01  4.21798229e+00  9.01283073e+00  1.09459152e+01\n",
      " -4.33832645e+00 -1.33844156e+01 -1.01313572e+01 -1.02560959e+01\n",
      " -4.47465706e+00 -1.08936415e+01 -6.21288204e+00  1.91799521e+00\n",
      " -6.73458576e+00 -7.25080824e+00 -6.33950377e+00  3.13346553e+00\n",
      "  3.42116404e+00 -1.24295425e+01 -2.12621002e+01 -2.08698425e+01\n",
      " -6.69316959e+00  6.84376001e+00 -5.26928186e+00 -1.03729975e+00\n",
      " -6.07063246e+00  4.41919136e+00  9.18641314e-02  2.54808617e+00\n",
      " -7.65642929e+00 -2.30515194e+01 -1.70841999e+01 -1.04418736e+01\n",
      " -5.15669107e+00 -6.20644379e+00 -1.31753600e+00  5.32585335e+00\n",
      "  7.06516504e+00 -1.07303250e+00  3.62488627e+00 -6.49000406e+00\n",
      " -5.45151663e+00 -9.33382130e+00 -9.76129532e+00  3.23343301e+00\n",
      "  4.72932386e+00  7.62468100e+00 -2.17878723e+01  1.11168032e+01\n",
      " -1.09570038e+00 -1.50223341e+01 -2.35097828e+01 -2.08454204e+00\n",
      " -3.67949605e+00 -7.30539274e+00  2.00295234e+00 -1.95523274e+00\n",
      " -2.73775244e+00 -3.05437374e+00  1.98973858e+00 -5.13765907e+00\n",
      " -3.52924138e-01 -2.72789803e+01  1.40992200e+00 -1.47961922e+01\n",
      " -2.28652897e+01 -1.76521244e+01 -2.91025430e-01  2.42710638e+00\n",
      " -1.21697655e+01 -5.97685003e+00 -3.50298953e+00 -4.57358456e+00\n",
      " -3.48685765e+00 -4.81556368e+00  3.11463952e+00 -6.63839865e+00\n",
      " -1.27114356e+00 -1.54464502e+01  7.52857924e-01 -5.68374205e+00\n",
      " -7.93484640e+00  4.26417923e+00 -2.46780419e+00  1.43977299e+01\n",
      " -4.94916868e+00  3.17628551e+00  1.00435460e+00 -8.48936939e+00\n",
      " -1.51059783e+00  9.88002491e+00  5.59287071e+00  1.36839390e+00\n",
      "  7.25977993e+00 -4.21998835e+00 -4.04057550e+00  2.03478551e+00\n",
      " -3.00959778e+00 -2.86663914e+00  2.99572992e+00 -2.46185989e+01\n",
      " -1.76181221e+01 -2.81223798e+00 -5.02732658e+00 -3.30949235e+00\n",
      " -8.73756981e+00  5.24552774e+00  6.50506115e+00  9.95587826e-01\n",
      "  2.94277000e+00  1.77061749e+00 -9.83763790e+00  8.11131895e-01\n",
      " -2.22044182e+01 -5.81010008e+00 -1.18298292e+01 -7.64675760e+00\n",
      " -2.42374778e+00  4.87239408e+00 -2.97855015e+01 -9.23608875e+00\n",
      "  1.16804304e+01 -1.76733704e+01  5.84793425e+00 -1.50505409e+01\n",
      "  5.12945032e+00 -2.73611116e+00  2.57378268e+00 -3.89855456e+00\n",
      " -6.72413063e+00 -1.82622290e+00 -5.02986622e+00 -1.31281013e+01\n",
      " -1.28562479e+01  6.53743744e-01 -1.34945374e+01  1.70890403e+00\n",
      " -1.83857727e+00 -2.00254116e+01 -5.12172604e+00 -9.00140095e+00\n",
      " -4.10943747e+00 -1.02498522e+01 -2.03701820e+01  2.31185412e+00\n",
      " -3.60913777e+00  5.72665393e-01 -4.02664185e+00 -5.91559792e+00\n",
      " -2.68489003e+00 -3.51915908e+00  1.43553162e+00  1.74481468e+01\n",
      "  4.59296070e-02 -4.09346437e+00 -2.02079792e+01 -1.11195011e+01\n",
      " -2.36970997e+00 -4.19363928e+00 -1.04313564e+01 -6.57736301e+00\n",
      " -7.78777790e+00 -3.97347093e+00 -2.21139469e+01  5.90330458e+00\n",
      "  5.20433855e+00 -2.28241563e+00  6.06391430e+00  8.75540078e-02\n",
      " -4.46800280e+00 -2.79397559e+00 -2.22620463e+00 -4.52599478e+00\n",
      "  2.31107020e+00 -1.26755655e+00  5.11801004e+00 -2.62843585e+00\n",
      "  1.39857733e+00  4.46648169e+00 -1.37740707e+00  2.03615570e+00\n",
      " -2.72816920e+00 -2.43699970e+01 -1.59612036e+01 -3.78563690e+00\n",
      " -2.29180126e+01 -3.42723638e-01 -1.24130468e+01 -5.43161058e+00\n",
      "  5.01354933e+00 -4.08732843e+00 -6.54170752e+00 -1.26403837e+01\n",
      " -8.74257278e+00 -6.05749846e-01 -1.61000195e+01 -1.55701149e+00\n",
      " -5.55082035e+00 -5.54378080e+00 -4.40714502e+00  7.49791670e+00\n",
      "  4.31232309e+00 -4.84133005e+00 -3.20843768e+00 -1.76309705e+00\n",
      " -2.78486500e+01 -4.23239861e+01  2.38552403e+00 -1.65601313e+00\n",
      " -6.01973963e+00  5.43673182e+00 -3.80389619e+00 -4.50698233e+00\n",
      " -3.46134834e+01 -4.66900206e+00 -1.39344082e+01  2.89450431e+00\n",
      "  1.15504475e+01 -1.06371336e+01 -1.47417822e+01 -6.27533484e+00\n",
      " -3.37621331e+00 -2.64711590e+01 -3.33435822e+01 -2.56879635e+01\n",
      " -3.82099190e+01 -1.44516048e+01 -1.72846184e+01 -3.29499054e+01\n",
      " -2.89724541e+01  8.42276573e+00 -1.89650383e+01 -8.09808350e+00\n",
      " -1.72087896e+00  3.76889038e+00 -3.73472905e+00  5.58546543e+00\n",
      " -2.28342533e+00 -2.94875374e+01 -1.15982323e+01 -1.73716396e-01\n",
      "  5.10485888e+00 -1.93619955e+00  1.71487713e+00 -1.90804636e+00\n",
      " -3.01387634e+01 -1.46015525e+00 -5.79749632e+00 -3.99484515e+00\n",
      " -1.61609459e+01 -7.73716259e+00  3.32861710e+00  8.15694427e+00\n",
      " -5.70634079e+00 -2.32802582e+01 -1.30003309e+01 -1.52664328e+01\n",
      " -1.78671730e+00 -1.23521299e+01  3.07103157e+00 -3.68303466e+00\n",
      " -1.05411263e+01 -3.67858276e+01 -4.67989635e+00  1.47636044e+00\n",
      "  5.25140905e+00 -1.75351543e+01 -4.14927387e+00 -2.62378330e+01\n",
      " -2.47371750e+01 -2.76276646e+01 -6.29996681e+00 -1.13001604e+01\n",
      " -5.97314179e-01 -2.18559265e+00 -4.20123369e-01 -2.72333641e+01\n",
      " -1.17253666e+01  5.34968901e+00 -1.11841450e+01 -3.53581314e+01\n",
      " -4.98887837e-01 -1.30953217e+01 -9.99517262e-01 -2.66640091e+01\n",
      " -6.69131231e+00  1.08811736e+00 -2.91423631e+00 -5.56311989e+00\n",
      " -8.00174236e+00 -3.43051720e+01  1.50009406e+00 -2.83727970e+01\n",
      "  2.48585954e-01 -1.14043980e+01 -2.44556084e+01 -2.87837582e+01\n",
      " -1.81051426e+01 -4.31925154e+00 -1.59517395e+00 -1.35217609e+01\n",
      " -1.82012119e+01 -2.46443081e+01  1.88785911e+00 -4.52342606e+01\n",
      " -3.16728802e+01 -1.25693111e+01 -3.33444862e+01 -2.48328424e+00\n",
      " -2.10905361e+01  1.15564165e+01 -1.37834463e+01 -1.04979525e+01\n",
      "  4.38062859e+00 -1.89150105e+01  4.12098974e-01 -6.13897657e+00\n",
      "  2.51214385e-01  1.35930145e+00 -1.50363314e+00 -2.97362213e+01\n",
      " -4.72437620e+00 -1.02959223e+01 -1.15152283e+01 -3.32380056e+00\n",
      "  2.35572243e+01 -2.77587962e+00 -3.38220406e+01 -2.98484364e+01\n",
      " -3.92249656e+00  1.63123214e+00 -4.00888557e+01  1.44580019e+00\n",
      " -3.74827614e+01 -2.15808201e+01 -1.73797550e+01 -1.32826643e+01\n",
      " -1.38777170e+01 -1.74664230e+01 -1.03644590e+01 -1.82295570e+01\n",
      " -2.82301903e+00  1.77672696e+00]' has dtype incompatible with int64, please explicitly cast to a compatible dtype first.\n",
      "  preds[val_index] = model.predict(dval_i)\n"
     ]
    },
    {
     "name": "stderr",
     "output_type": "stream",
     "text": [
      "\r",
      " 70%|███████████████████████████████████████████████████████████████████████████████████████████████████████▌                                            | 7/10 [03:21<01:25, 28.65s/it]"
     ]
    },
    {
     "name": "stderr",
     "output_type": "stream",
     "text": [
      "C:\\Users\\81809\\AppData\\Local\\Temp\\ipykernel_22148\\3386215446.py:18: FutureWarning: Setting an item of incompatible dtype is deprecated and will raise an error in a future version of pandas. Value '[ 6.33386195e-01 -4.97595501e+00  3.42710638e+00  2.06991625e+00\n",
      "  1.83135452e+01 -2.70496428e-01 -6.49641156e-01  1.11696463e+01\n",
      " -3.33896685e+00  3.39819932e+00 -2.45261669e+00  5.96756887e+00\n",
      "  3.80780554e+00  2.02074814e+00  6.22293282e+00  6.89634752e+00\n",
      " -7.95651388e+00 -5.35205412e+00  3.89754272e+00  8.57738018e+00\n",
      " -3.97229910e-01 -5.70185184e-01  2.55468917e+00  2.90921402e+01\n",
      "  1.06910563e+01  1.39469564e+00 -4.94529247e+00  1.79908543e+01\n",
      " -1.02458811e+00  4.73857975e+00  1.34699845e+00 -3.46272230e+00\n",
      "  6.48465729e+00 -1.15999722e+00  9.83659744e+00  9.67956448e+00\n",
      "  6.84393597e+00 -9.49836636e+00  8.50568295e+00  1.72220433e+00\n",
      " -6.94936275e-01  4.76580048e+00  1.58981838e+01  1.09097586e+01\n",
      "  2.32850094e+01 -1.02300835e+00  2.79968530e-01  1.46063957e+01\n",
      "  5.16824150e+00  3.37027693e+00  8.49682617e+00  5.59197855e+00\n",
      " -4.00835180e+00 -2.45670676e+00  7.16790676e+00 -2.44778419e+00\n",
      "  2.32286406e+00  7.34400320e+00  5.52969694e+00  3.97367430e+00\n",
      "  1.23977137e+01  1.00371046e+01 -3.80556965e+00 -3.58048272e+00\n",
      "  3.99199176e+00  2.26095581e+00 -1.73089647e+00  1.03455019e+00\n",
      "  1.87367764e+01  8.23350239e+00  5.28337049e+00  1.79163322e+01\n",
      "  8.23770142e+00 -3.75742495e-01 -2.41920280e+00 -5.84258366e+00\n",
      "  8.38403988e+00  7.03035116e+00  1.09768209e+01  8.13365877e-01\n",
      "  3.84984374e+00  7.95005417e+00  7.31561708e+00  1.25472145e+01\n",
      "  4.55414820e+00  2.28911257e+00  4.42065287e+00  3.60473442e+00\n",
      "  2.16595306e+01  1.58553562e+01 -6.77154362e-01  8.83987141e+00\n",
      " -1.12036028e+01  4.03855133e+00  5.43571138e+00  3.54816943e-01\n",
      "  1.40381467e+00  1.06808901e+01 -2.32442856e+00  2.05256405e+01\n",
      "  1.35312691e-01 -1.40540409e+00 -3.42369229e-01  3.08078933e+00\n",
      "  1.69969654e+00  7.88138914e+00 -6.47516918e+00  1.23222370e+01\n",
      " -3.18914008e+00 -4.39896256e-01 -6.36313391e+00 -1.99304950e+00\n",
      "  6.29382515e+00 -2.77500248e+00 -1.51772523e+00  6.78006840e+00\n",
      " -5.66079473e+00  1.02511585e+00 -1.79218960e+00 -3.99040699e+00\n",
      "  7.01645470e+00  1.29390221e+01 -2.69690871e+00 -9.66674268e-01\n",
      "  3.61301398e+00 -5.42630720e+00  3.90524745e+00  6.05014896e+00\n",
      " -1.55877128e-01  1.61223259e+01  1.63770695e+01  4.29710674e+00\n",
      " -4.05516958e+00 -6.32390118e+00 -1.32913542e+00  1.54512560e+00\n",
      "  5.20068836e+00 -5.89143705e+00  3.02683783e+00  1.21131744e+01\n",
      " -1.52530551e+00 -2.79907441e+00  7.89030969e-01  5.14676571e-02\n",
      "  6.50723600e+00 -6.20094728e+00  9.07254219e+00  1.57967463e+01\n",
      "  1.54495316e+01  1.01480618e+01  1.81742108e+00  1.17313013e+01\n",
      "  1.00544429e+00  1.49359226e-01  9.55961514e+00  2.26062584e+01\n",
      " -5.79716742e-01 -8.18647766e+00  4.50806665e+00  5.85824490e+00\n",
      "  3.83024621e+00 -9.93875861e-02  1.84288478e+00  1.05988331e+01\n",
      " -3.40449071e+00  1.14562976e+00 -1.65702419e+01  1.76470242e+01\n",
      " -4.29811096e+00  2.36936455e+01  1.43195486e+00  6.75594211e-01\n",
      "  1.01868849e+01  6.46793222e+00  1.22526197e+01  3.66055679e+00\n",
      "  5.32385254e+00  2.65306520e+00  3.39491248e+00  5.72881460e-01\n",
      "  4.10682297e+00 -1.32884109e+00  5.80611420e+00 -4.85834217e+00\n",
      "  2.23651257e+01  2.09093151e+01  8.45463336e-01  2.63515544e+00\n",
      " -6.46639585e+00  4.54770088e+00  5.67803192e+00 -3.88325286e+00\n",
      "  4.25565815e+00  6.53508997e+00  1.00218878e+01  3.98963594e+00\n",
      "  2.21477432e+01 -2.88982797e+00  9.80002785e+00  2.49369812e+01\n",
      " -5.30408478e+00 -4.04374987e-01 -3.64113784e+00 -1.59682453e+00\n",
      " -3.30778790e+00  2.32744384e+00  5.22454071e+00 -2.41031814e+00\n",
      "  1.63209858e+01 -3.91925406e+00 -1.71430588e+00  1.00181878e+00\n",
      "  1.92436562e+01  4.21675682e+00  3.99850035e+00  1.13937502e+01\n",
      "  2.41258240e+00 -1.93128026e+00  4.20887661e+00  1.97056694e+01\n",
      "  3.09007187e+01 -1.93778932e+00  2.62488232e+01  4.48787212e+00\n",
      "  2.96941376e+00  2.09671230e+01  4.69363356e+00  5.72598159e-01\n",
      "  2.20368080e+01 -1.02070684e+01 -1.10645704e+01 -3.95431590e+00\n",
      "  6.00918484e+00 -4.09170008e+00  3.64415169e+01  1.59342718e+01\n",
      "  1.94009666e+01  3.68461466e+00  1.79811230e+01  5.40918255e+00\n",
      "  6.53875589e+00 -4.40305758e+00  3.06492844e+01  1.25819664e+01\n",
      "  2.90978279e+01  1.83478796e+00 -1.21107292e+00  2.84936523e+01\n",
      "  1.20621824e+01  2.41474552e+01  2.01477089e+01  1.54901257e+01\n",
      "  1.87855091e+01  4.59516239e+00  1.28651447e+01  6.57537699e-01\n",
      "  1.75366249e+01 -8.07804298e+00  7.66928387e+00 -3.49818063e+00\n",
      "  1.33797073e+00  1.07140265e+01 -5.38507700e+00  2.42432899e+01\n",
      "  2.75787868e+01  8.46651459e+00  1.60254955e+01  9.83687973e+00\n",
      " -6.28174007e-01  1.39352732e+01  4.51047707e+00  1.64635754e+01\n",
      "  9.71580088e-01  1.58384037e+01  1.43615456e+01 -1.03955686e+00\n",
      " -8.86389065e+00  6.54172325e+00  1.91797390e+01 -1.12391911e+01\n",
      "  7.87740898e+00  3.16796565e+00  2.80832539e+01  1.15833688e+00\n",
      " -9.21800709e+00  5.40158415e+00 -1.00816135e+01  4.99855423e+00\n",
      "  1.50365651e+00  1.39052540e-01  3.09871101e+01  1.88425903e+01\n",
      "  2.59852638e+01  4.71061707e+00  4.89590187e+01  1.24579821e+01\n",
      "  3.69194984e+01  1.47126474e+01  5.79960227e-01  4.66123533e+00\n",
      "  2.02985630e+01  7.21492290e+00  1.31430864e+01 -7.60608053e+00\n",
      " -8.51733685e+00  7.89231205e+00  1.15357125e+00  3.07793255e+01\n",
      " -7.84864843e-01 -1.25805974e+00 -2.70302248e+00  1.21273160e+00\n",
      " -4.57793921e-01  1.54569340e+01  5.31187010e+00  8.37346935e+00\n",
      "  3.05120392e+01 -9.84409618e+00  8.63161469e+00  1.22858620e+01\n",
      "  7.81850386e+00  2.14027271e+01 -8.87687397e+00  2.83221817e+01\n",
      " -1.52731323e+01  4.05302391e+01 -7.78481245e+00  3.07689705e+01\n",
      "  5.86869574e+00  1.94587860e+01  1.85952377e+01  1.53769612e+00\n",
      " -1.39776020e+01  2.41629715e+01  9.45126534e+00  1.16164389e+01\n",
      "  6.68013859e+00  1.84329491e+01  4.26647043e+00 -1.05274267e+01\n",
      "  6.26863897e-01  2.97286010e+00 -1.06136799e+01 -5.21203661e+00\n",
      " -1.04436409e+00 -7.62517595e+00 -6.34926128e+00 -4.45406675e+00\n",
      " -7.76736689e+00 -6.63251591e+00 -8.21960926e+00 -2.17220650e+01\n",
      "  1.03136244e+01 -6.46702480e+00 -2.29310131e+00 -5.29938459e+00\n",
      " -4.24923241e-01 -2.35216427e+00 -4.93924046e+00 -6.75263226e-01\n",
      " -7.97295570e-02 -5.52473783e+00 -9.71062660e+00 -2.35490704e+01\n",
      " -3.68111372e+00  1.71245301e+00 -5.34978485e+00 -2.65519695e+01\n",
      " -4.76254082e+00 -6.17478180e+00  3.61541677e+00 -1.57143617e+00\n",
      " -8.96450520e+00 -2.26695371e+00 -8.96281147e+00 -6.59009933e+00\n",
      "  5.48267269e+00 -1.04624137e-01  1.35676354e-01 -3.49571609e+00\n",
      " -6.54714632e+00 -8.56087685e+00 -9.66965008e+00 -1.33007526e+01\n",
      " -3.75847983e+00  1.57194448e+00 -7.99825251e-01 -1.79103041e+00\n",
      " -5.41642284e+00 -8.74890614e+00 -1.17569046e+01  2.85489988e+00\n",
      " -1.04364672e+01 -4.98074532e+00 -6.01480103e+00 -3.44456053e+00\n",
      "  1.61160827e+00 -9.36849022e+00 -6.22637081e+00 -2.39421825e+01\n",
      " -8.03439808e+00 -7.97113180e+00  7.51163960e-01 -1.45893364e+01\n",
      " -2.54478092e+01 -3.94834757e-01 -2.65025616e+00  9.56974125e+00\n",
      " -1.84339924e+01 -1.15925837e+01 -7.82287538e-01 -1.83518124e+01\n",
      " -3.53207278e+00 -9.34215784e-01  3.89521503e+00 -1.17534904e+01\n",
      " -8.00675583e+00  1.11160955e+01 -1.70532360e+01 -1.68570671e+01\n",
      " -4.80418062e+00  4.18505430e+00 -5.40427876e+00  2.14757538e+00\n",
      " -9.98175812e+00 -5.34968853e+00 -1.45465908e+01  6.56605816e+00\n",
      "  8.08771515e+00 -3.75251317e+00  1.92757738e+00 -6.75899982e-01\n",
      " -2.44182205e+00 -1.35216236e+01  1.28780174e+01 -2.03607750e+01\n",
      " -5.23871660e+00 -1.21817875e+00 -2.15636044e+01 -1.75171051e+01\n",
      " -1.07818375e+01 -1.88832068e+00 -1.18666732e+00  1.55504572e+00\n",
      "  1.36723509e+01  7.43773985e+00 -1.03310013e+00 -6.58479452e+00\n",
      " -4.22132540e+00 -2.88373619e-01  9.38384247e+00  1.73848000e+01\n",
      "  5.55349255e+00 -1.01124792e+01 -6.29122448e+00 -4.36658430e+00\n",
      "  1.65771163e+00  1.87647295e+00 -2.03030701e+01  7.57326555e+00\n",
      " -1.48171298e-02 -1.33953881e+00  4.37870294e-01 -1.37012053e+01\n",
      " -1.24385905e+00  6.29245472e+00 -1.84507599e+01 -1.64916630e+01\n",
      " -2.23540630e+01 -9.98467064e+00 -1.09724360e+01  1.07595129e+01\n",
      " -2.22500229e+01 -2.32076049e+00 -1.03746164e+00  7.11750031e+00\n",
      " -4.81403923e+00  3.84669638e+00  1.43401062e+00  8.84380698e-01\n",
      " -3.05237818e+00 -8.45260048e+00 -2.23160958e+00 -1.84157982e+01\n",
      " -5.66831875e+00 -4.07889700e+00 -4.92278767e+00 -2.05905867e+00\n",
      "  3.69596529e+00 -6.03315353e+00  8.31352830e-01 -7.18100691e+00\n",
      " -2.57566643e+00 -1.01894999e+00 -2.21714401e+00 -3.49266458e+00\n",
      "  3.46483564e+00 -2.21388435e+01  1.67651024e+01  3.14171243e+00\n",
      "  1.12537642e+01 -4.19004583e+00  3.53617835e+00 -3.78736591e+00\n",
      " -3.06069708e+00 -1.05885744e+01  4.55038786e+00 -1.19548583e+00\n",
      " -2.57971115e+01 -6.90403223e+00 -6.70236707e-01 -2.17308670e-01\n",
      " -2.78723383e+00 -5.58592844e+00 -1.53207655e+01 -4.98558998e+00\n",
      " -6.57019806e+00 -1.05478497e+01 -8.53008938e+00 -2.93725181e+00\n",
      " -3.48247719e+00  7.69554758e+00 -5.98498440e+00  8.96251774e+00\n",
      " -4.95911837e+00 -5.17811966e+00 -3.07740688e+01 -1.98296394e+01\n",
      " -8.93268871e+00 -6.63536024e+00 -2.84936690e+00 -2.67412033e+01\n",
      " -1.22391205e+01 -2.69046135e+01 -1.33380919e+01 -1.98133409e+00\n",
      " -2.80748963e+00 -1.01214037e+01 -3.49871826e+01 -3.07979393e+00\n",
      " -1.32694731e+01 -7.82834053e+00  1.57912040e+00 -8.65465546e+00\n",
      " -6.15319061e+00 -4.88925648e+00 -1.32270823e+01 -1.29322615e+01\n",
      " -3.23912163e+01 -2.63428936e+01 -3.79431152e+01 -1.56041014e+00\n",
      "  3.02068257e+00 -1.78561268e+01 -2.61585293e+01 -2.90323467e+01\n",
      "  5.41837502e+00  8.72534657e+00  1.14493144e+00 -7.76816082e+00\n",
      " -3.98648911e+01 -3.38141054e-01 -3.01608887e+01 -3.33387337e+01\n",
      " -1.36359568e+01 -3.10799866e+01 -1.90618861e+00 -1.62280540e+01\n",
      " -8.00886631e+00 -4.25239983e+01  6.94671917e+00 -7.76390374e-01\n",
      " -2.12254562e+01 -2.07862358e+01 -5.83273888e-01 -6.25192118e+00\n",
      " -1.88562546e+01 -3.29225388e+01 -3.32379608e+01 -3.88026237e+00\n",
      "  3.53850222e+00  1.00246344e+01 -2.52189693e+01 -1.11960201e+01\n",
      " -1.37495785e+01 -3.14696574e+00 -2.11869926e+01 -1.27300577e+01\n",
      " -4.34898682e+01  5.20537710e+00 -2.52143955e+00  5.36880553e-01\n",
      " -1.95829697e+01  7.48401880e+00 -1.91746604e+00 -5.57833099e+00\n",
      " -7.17531443e+00  5.47471046e+00 -3.54219589e+01 -6.15401697e+00\n",
      "  8.85109615e+00 -1.01349001e+01  9.64208984e+00 -1.44971876e+01\n",
      "  3.24724007e+00 -5.03968239e+00 -1.20072012e+01 -1.54832001e+01\n",
      " -1.17392559e+01 -2.74683113e+01 -1.36777964e+01  3.37777328e+00\n",
      "  2.24220037e+00  2.91458845e+00  6.19534492e+00 -2.04635487e+01\n",
      " -7.74385405e+00 -8.85871506e+00  4.35724783e+00  6.78598404e+00\n",
      " -2.70454559e+01  1.13090408e+00 -2.37752361e+01 -3.11812534e+01\n",
      "  2.67859721e+00 -3.10207039e-01  9.01439667e+00 -7.95449114e+00\n",
      " -1.08919563e+01 -1.53453217e+01 -2.28967266e+01  1.12567415e+01\n",
      " -2.96700835e+00 -1.03758154e+01 -3.90737033e+00 -2.51715546e+01\n",
      " -3.70767326e+01 -3.64830894e+01 -1.76848812e+01  5.96204805e+00\n",
      " -1.52796936e+01 -1.56868801e+01  1.22336979e+01 -2.38450832e+01\n",
      " -1.88781948e+01 -2.08835864e+00]' has dtype incompatible with int64, please explicitly cast to a compatible dtype first.\n",
      "  preds[val_index] = model.predict(dval_i)\n"
     ]
    },
    {
     "name": "stderr",
     "output_type": "stream",
     "text": [
      "\r",
      " 80%|██████████████████████████████████████████████████████████████████████████████████████████████████████████████████████▍                             | 8/10 [03:47<00:55, 27.83s/it]"
     ]
    },
    {
     "name": "stderr",
     "output_type": "stream",
     "text": [
      "C:\\Users\\81809\\AppData\\Local\\Temp\\ipykernel_22148\\3386215446.py:18: FutureWarning: Setting an item of incompatible dtype is deprecated and will raise an error in a future version of pandas. Value '[  7.880022    -7.028037    11.064789     8.235732     7.02017\n",
      "   6.8853636    4.2050004    2.6143894   -1.3689277    2.3519526\n",
      "  -3.6542945    1.3664848   -0.23547241  19.91232      2.3820484\n",
      "  13.279222     4.8546414    3.3576863    6.6724772    2.8133392\n",
      "   5.8987765    3.7554533   10.069059    -1.4530079    7.6547823\n",
      "   4.5317416   11.072177     6.5504875    2.2972121   25.921463\n",
      "   4.8518105   -7.322338     4.740833    15.659769     8.696352\n",
      "  -6.6547008    3.5922961    2.1044095   -0.06575169  -7.2459774\n",
      "  -2.3669748   10.63913      2.273565     6.8195777   21.223633\n",
      "  11.212168     6.4749556   -0.55685765  -2.9443378    2.3805127\n",
      "   4.5927544    3.325783     0.34820995  15.265537     4.5586357\n",
      "  10.366839    22.349787     8.858169    -2.187678     7.61693\n",
      "   2.9488993    2.5373328    3.7956417    1.5052059    7.093092\n",
      "   9.843024     4.8293138    4.2139444   14.705957    25.234627\n",
      "  -3.9416955    6.4895835    0.698519     9.743904     2.1237361\n",
      "   1.0038131   22.613977     7.789213    12.1225195    1.1808704\n",
      "  17.029123    -1.5574442    9.9853945    8.488435     3.2912755\n",
      "  -0.9604444    0.23230821   6.608403     2.4007072    6.7891517\n",
      "  18.171724    -5.4452076    0.04928442   3.0932868   -7.449711\n",
      "  -2.3090441   -3.8949718   -6.206617    -1.0967041    0.5584162\n",
      "   3.6447968    0.848052   -11.243724     1.9363946   -2.4089725\n",
      "   0.8107154   21.838919    -5.1059566   14.697598    14.033313\n",
      "   6.8408184   -2.140717     7.8932614   -9.952703    -1.0815132\n",
      "  -3.0960286    4.5383754   -8.530285     1.7931166   -1.1212614\n",
      "   8.62997      8.988133    -2.6229532   12.534451     5.6800685\n",
      "   6.7419977   21.960293    -8.393386    16.227694    10.560445\n",
      "  -1.9127424    4.499438     5.9908466    0.56725734  -0.38092592\n",
      "  -1.5029037   13.225385    12.404641    -6.5550604   10.469033\n",
      "   2.9938724    9.872977    20.640244     3.3446517    0.77027994\n",
      "   1.1818005   -1.0891374    2.183909     5.0764823    6.3977714\n",
      "   2.4254653   12.0633      -2.3395038   -2.8699439    2.0613296\n",
      " -11.792477    28.74017     15.835711    -2.997992    18.779062\n",
      "  12.779026     3.822063    11.325733     0.84908503   0.3281757\n",
      "  -0.8371887   -3.4309099    3.9384215   -1.0537118    2.4185357\n",
      "  -0.1317662   -0.50437      2.3193083   -0.40687436   3.5495117\n",
      "  19.754465     6.466388    13.4955635   -6.0655913   20.21469\n",
      "  -1.5287175    3.2348318    4.253892     1.9013132    8.241025\n",
      "  -6.082426    19.846495     2.383742     6.5280886   -1.63758\n",
      "   8.58103     14.435394    20.359262    -4.329387     2.4107802\n",
      "   0.22105688   5.102147     5.0664654    3.87337     -5.0820665\n",
      "   7.1581883    7.2919207    9.497355    23.546133     5.0315447\n",
      "   2.4346535    2.2352233    5.4735928    6.4066067   -2.1194186\n",
      "  11.634157     5.9533777   20.477116     8.888503     4.233874\n",
      "  -1.5503825   37.626175   -11.161155     6.0426126  -10.496285\n",
      "  -6.083025    12.440904    -0.55414927   4.623293     7.1428714\n",
      "   0.17107934  25.590582     6.5146523    9.859805    25.754776\n",
      "   5.075026    19.94697     -6.82311     29.135216    30.492516\n",
      "   0.68238467 -14.424737     0.64760596   2.2249181    6.6898594\n",
      "   8.427789    18.070412     5.9872537   17.256767    28.973028\n",
      "   9.711066    37.187252    -1.1872103   10.1342535    1.2769855\n",
      "  15.508144    12.8988085   26.55298     -4.229857    24.150242\n",
      "  12.564154    10.990319    32.582382    10.889103    26.463617\n",
      "   2.8509872    6.414723    26.94819      1.5236849    7.2537794\n",
      "   8.0342045    9.992592    -4.6256843   12.156252    42.106888\n",
      "  10.357754    -9.696909     7.51793     -1.6747457  -10.083477\n",
      "   3.9205372   -3.5602863    9.261585     4.4199176    7.265834\n",
      "  -2.5274732   37.09035     13.466856    31.640366    21.747547\n",
      "   3.0263665    8.587756    15.802981     5.6496      -7.066989\n",
      "  21.321405     6.8124294    0.48034996  22.278778     9.300585\n",
      "  31.01695      7.6953816   29.908009     2.818446   -10.001779\n",
      "   4.491645     2.8840075    5.7204137    7.321408   -12.959531\n",
      "  14.123261    28.059362    -1.9483343   39.13226     10.12146\n",
      "  25.108315    37.206852    -5.2529902   38.46047      4.669745\n",
      "  11.999838     5.6006784    1.9756923   10.596767    25.327436\n",
      "  11.705542    -0.98544973 -21.757679    -5.727584     2.9150493\n",
      " -13.731655   -23.399992    -7.9347553   -3.3756516   -8.100386\n",
      "  -5.193466    -3.1425505  -20.642162    -2.336479   -25.94895\n",
      "  -3.7761166   -7.223742    -1.1891721   -6.735292    -3.3700726\n",
      "  -6.640548    -9.626784     6.8668365   -2.739527     7.4767303\n",
      "   4.1908555   -7.196989    -4.572316     0.20857951 -24.724646\n",
      "   0.7076784    1.7066714  -28.478157     0.9614603   12.804622\n",
      "  -8.1333885    5.765209    -9.599051    -5.715459    -6.039494\n",
      "  -5.403168     3.9346533    1.8098017   -1.4267403  -10.638779\n",
      " -21.35518     -8.713294   -12.713963     5.6864266   -2.7083223\n",
      "   1.5127767   -0.3680323  -16.773273    -5.65556    -23.558226\n",
      "  -2.2558718    2.2886605   -6.4767504   -4.906663     2.6385038\n",
      " -24.525026   -10.864535   -15.752642    -1.9444441   -0.47906315\n",
      "   2.0566192    1.3110532   -1.6483206   -2.925924     0.7062689\n",
      "  -3.3196833   -4.774853    -8.09631    -20.066597     5.7248154\n",
      "   2.302899    -1.1225514   -4.715515    -3.6420832   -7.158644\n",
      " -17.365213    -0.9015915    0.1714733   -1.2585033    2.387464\n",
      "  -7.293903   -25.351742   -17.303064    -8.630101   -10.8156\n",
      "  -8.684476    -3.276052    -5.478883    -2.9196258   -6.046678\n",
      " -18.430449     1.5511855    3.1949928   13.897993    -0.7815187\n",
      "   3.705101     1.2746845  -22.862123     0.72090775 -13.486394\n",
      "  -1.794201     7.9071474    2.22159     -5.5874343    0.9135378\n",
      " -17.100916    -1.2570829   -7.3982306    1.4647871  -15.191182\n",
      " -17.363512    -4.3959055    4.8906946   -3.8129382    8.384993\n",
      "  -7.627264    -1.5612777  -10.682619     5.176273    -5.251917\n",
      "   6.127435   -26.953629    -5.5232925   -9.352776   -19.174303\n",
      "   3.6214907   -7.8819857    3.3988953  -13.080482   -19.670433\n",
      "   0.30061752  -1.3912357    0.6193688   -9.604163    -4.979591\n",
      " -13.80138      2.3947413   -2.614713    -1.4068915   -8.282207\n",
      "   2.7699962   -1.4741826  -11.5466175   -3.9152157   -4.4080744\n",
      " -11.287053     8.877296   -22.391521    -6.1003575   -5.9622254\n",
      "  -0.75311893   6.2852283   -3.770507    -4.0295568   -5.6145\n",
      "   3.4201324   -0.8745163    3.6930573    2.6406476    2.8380938\n",
      "  -2.9261298    1.9461854    0.6935713   11.287009     0.44298422\n",
      " -14.573118     3.37526     -3.1428523  -23.951435    11.19327\n",
      "  -0.49542084  -0.7077261   -4.471488     0.92456794 -12.993588\n",
      "  -2.0899365    3.3942733  -25.773987     4.610278     3.8815498\n",
      "  10.725274    -0.784986    -7.6018286   -0.2906619  -10.337731\n",
      "  -4.761955    -3.7148802  -15.826478    -7.7323217    2.3347595\n",
      "   5.53162     -6.993405    -0.34582227  -5.7093706   -3.6060162\n",
      " -15.382674     3.032713    -7.351706    -3.4941683  -23.68971\n",
      " -12.197248    -1.8092462    8.069908     6.9065075   -5.547892\n",
      " -18.92726     -2.4653869  -10.568431   -31.479946   -33.998955\n",
      " -27.35982     -5.8562856  -20.775352   -20.933517    -0.2123012\n",
      "  -7.479427    -6.1326647   -2.746721     8.185881    -0.52031666\n",
      "  -6.6799264    0.8622537   -4.1087117   -1.0479167  -36.875164\n",
      " -31.193466   -25.963306    -4.4673204  -22.615973    -5.936187\n",
      "  -4.888018    -7.7921777   -3.9520519    1.4742553  -18.427042\n",
      " -44.845943    -2.2261868  -20.958336   -19.02796    -12.513333\n",
      " -12.049627   -31.04174      0.5438415  -30.284546    -6.9536524\n",
      " -22.884962   -28.923769     1.2280835   -6.441602   -21.668196\n",
      "   5.3128257  -10.293137     3.638994   -30.409927   -16.114649\n",
      " -11.185202   -17.368353    -7.884844    -4.1266522    4.1552815\n",
      "  -5.253407     0.2809741   -2.7800157   -1.1716062  -22.082293\n",
      "  -8.79838      0.19835973 -19.610104    -2.2328498  -11.428409\n",
      "   4.2843785  -34.162724    -0.06625402   8.8817215    6.163089\n",
      " -29.248816     1.4917794    1.747316     1.1873757    4.6782994\n",
      "  -3.641607   -13.953293   -24.264538    -2.9440598  -11.051475\n",
      "  11.326521     2.0687208    4.1016345  -11.698622   -24.63667\n",
      "  -7.4986153  -36.65231    -29.681652     4.908918   -14.276977\n",
      " -23.962288    -3.4828348   -7.199132     0.911796    10.921001\n",
      "   2.9885955   -2.507556   -29.340189   -15.585809    -8.121562\n",
      "  -3.809498     2.2513208    8.759956     2.9702344   -2.9814882\n",
      " -22.957214     6.676272   -17.658413   -12.294446    -3.4716384\n",
      "   0.09966311  13.807783   -29.609726    -9.041242   -24.724192\n",
      "  -8.0735655 ]' has dtype incompatible with int64, please explicitly cast to a compatible dtype first.\n",
      "  preds[val_index] = model.predict(dval_i)\n"
     ]
    },
    {
     "name": "stderr",
     "output_type": "stream",
     "text": [
      "\r",
      " 90%|█████████████████████████████████████████████████████████████████████████████████████████████████████████████████████████████████████▏              | 9/10 [04:17<00:28, 28.66s/it]"
     ]
    },
    {
     "name": "stderr",
     "output_type": "stream",
     "text": [
      "C:\\Users\\81809\\AppData\\Local\\Temp\\ipykernel_22148\\3386215446.py:18: FutureWarning: Setting an item of incompatible dtype is deprecated and will raise an error in a future version of pandas. Value '[ 4.26892138e+00 -5.60046148e+00  2.17429428e+01  1.15801370e+00\n",
      "  5.59804678e+00 -4.83162212e+00  3.40120578e+00  2.82628202e+00\n",
      " -7.49544716e+00  6.07943125e-02 -2.99093032e+00  1.78364334e+01\n",
      "  2.66788177e+01 -7.24810064e-01  1.99259624e+01  2.28003359e+00\n",
      "  7.84557867e+00  2.02310896e+00  1.13508141e+00  1.84517634e+00\n",
      " -1.41908586e+00  1.83294261e+00  2.39886045e+00  4.19504356e+00\n",
      "  4.61186886e+00  8.45236778e+00 -1.32337010e+00  1.03057814e+01\n",
      "  2.20789385e+00  2.22198677e+01 -2.75885010e+00 -4.39437532e+00\n",
      "  4.91772652e+00  1.72717512e-01  2.44677520e+00 -1.40342021e+00\n",
      " -2.11861086e+00  8.37904072e+00  6.48611188e-02  1.85028958e+00\n",
      "  1.86660042e+01 -4.44075918e+00  2.63266492e+00 -8.48301601e+00\n",
      " -2.57217002e+00 -1.25052834e+01  1.87263851e+01  1.43773985e+01\n",
      "  6.26134109e+00  8.26890051e-01 -3.19986582e+00  5.62691784e+00\n",
      " -3.79639745e+00  4.29234648e+00  3.11353534e-01 -1.11376345e+00\n",
      "  1.09154069e+00 -3.23741698e+00  9.61994171e+00  2.44402199e+01\n",
      "  1.55040302e+01  4.80442238e+00  4.38517714e+00  1.56824989e+01\n",
      " -2.18329811e+00  3.51059341e+00 -3.65671825e+00 -2.57830501e+00\n",
      "  3.83626461e+00  4.39304829e+00  9.84580815e-02  1.86604443e+01\n",
      "  7.29965353e+00  5.18876505e+00 -2.58670807e+00  4.38432407e+00\n",
      " -1.68654287e+00  5.25248909e+00  2.37809849e+01  1.78793025e+00\n",
      " -3.20307899e+00 -3.03651857e+00  1.72276056e+00  5.17520380e+00\n",
      "  2.11632800e+00  1.71108150e+00  1.17206430e+01  2.52448368e+01\n",
      "  6.37396860e+00  1.35394678e+01 -1.15791759e+01  2.07603478e+00\n",
      "  2.25368118e+01  4.10095215e+00  4.86393070e+00  1.19939117e+01\n",
      " -1.55734777e+00  5.85473633e+00  4.93862486e+00  2.47404814e+00\n",
      "  1.56088543e+01  9.98989296e+00  1.48179064e+01  1.64821517e+00\n",
      "  1.22891321e+01 -1.12918777e+01 -6.84434509e+00  9.18001842e+00\n",
      "  8.04102421e+00  1.55487120e+00  3.29648566e+00 -3.19191575e+00\n",
      "  4.25051403e+00  1.86213076e-01  2.00177479e+01  4.11801624e+00\n",
      "  2.01527119e+01  5.31815147e+00  1.63045013e+00 -1.44202414e+01\n",
      "  5.26075506e+00 -1.91156638e+00 -2.94160318e+00 -6.72907782e+00\n",
      "  2.75618267e+00  2.50432663e+01  5.11152363e+00  6.06932211e+00\n",
      " -6.00768137e+00  1.33479700e+01  1.73035550e+00  6.63765222e-02\n",
      " -8.14186215e-01  4.19915390e+00  8.92033768e+00  1.61293590e+00\n",
      "  7.39674807e+00 -1.06192422e+00  1.47532139e+01 -1.08516288e+00\n",
      "  1.71509516e+00 -5.29722691e-01  2.16002274e+00 -2.28067732e+00\n",
      " -5.60517311e+00 -4.02755380e-01 -3.23791921e-01  7.36135006e-01\n",
      "  2.24261208e+01  1.63584480e+01  2.80104923e+00  2.05336142e+00\n",
      " -9.70792484e+00  2.11801910e+01  5.48304272e+00  3.17055941e+00\n",
      " -6.20345211e+00  1.78043973e+00  2.97620678e+00  4.99661207e+00\n",
      " -9.53143406e+00  1.43798084e+01 -4.35410929e+00  7.70927572e+00\n",
      "  2.87635288e+01 -3.39797616e+00  4.05435610e+00  4.36705971e+00\n",
      "  1.11856580e+00 -4.23148584e+00  4.48255062e+00  7.06750774e+00\n",
      " -3.42087269e+00 -3.46302700e+00  5.40651369e+00  2.08396683e+01\n",
      " -4.32934093e+00 -9.91341248e-02  2.02648563e+01  2.82267618e+00\n",
      " -3.91818357e+00  1.09363174e+01  3.86524343e+00  5.74789667e+00\n",
      "  6.43332577e+00 -3.02895874e-01  3.03237081e+00 -3.81634617e+00\n",
      "  7.86848879e+00 -5.97703981e+00 -6.76377952e-01  4.64190197e+00\n",
      "  1.06210542e+00  2.97232938e+00 -6.87594831e-01  9.80367184e+00\n",
      "  1.96493988e+01  3.44406390e+00  2.31098709e+01 -3.19982457e+00\n",
      "  1.03994679e+00 -6.83228374e-01  3.80705214e+00 -1.31342041e+00\n",
      "  3.27376390e+00  1.33083382e+01  4.85115528e+00  1.04881382e+01\n",
      "  2.18489609e+01  1.40267700e-01  2.56928086e+00 -8.44498694e-01\n",
      "  6.80034399e-01  1.65397606e+01  4.16729498e+00  5.26438761e+00\n",
      "  4.50013971e+00  3.27972889e+00 -7.43874788e-01  3.29769039e+00\n",
      "  4.29082966e+00  2.58868885e+00  2.09342403e+01  9.05087662e+00\n",
      "  1.77774799e+00  1.42185497e+01  4.94849873e+00  2.56668358e+01\n",
      " -1.00647926e+00  2.65438139e-01  7.44928694e+00  1.08264599e+01\n",
      " -1.19832325e+01 -2.08044484e-01  1.19655762e+01  5.95731688e+00\n",
      "  3.23367004e+01  2.69504261e+01  6.45377779e+00  1.82017784e+01\n",
      "  2.55970592e+01  1.21030893e+01  7.31501341e+00 -1.66881347e+00\n",
      " -6.83681631e+00 -8.72057533e+00 -6.66173124e+00  2.52059803e+01\n",
      " -2.64765739e+00  3.76786780e+00  4.02549706e+01  8.56738853e+00\n",
      "  2.59704781e+00  1.96507549e+01  1.27549362e+01 -6.07275665e-01\n",
      " -2.70531726e+00 -1.59255877e+01  1.37459402e+01  1.72082100e+01\n",
      "  1.46461754e+01  5.59860182e+00  9.30270386e+00  3.61786041e+01\n",
      " -8.21641350e+00  2.44768429e+01 -2.56385460e+01  9.09726334e+00\n",
      "  9.24138451e+00  2.92047176e+01  1.65764999e+01  2.74078426e+01\n",
      "  1.15812502e+01  2.39187813e+01  4.79142237e+00  7.90012121e+00\n",
      "  1.25546751e+01  3.40442352e+01  3.39634895e+01  5.33797681e-01\n",
      "  9.09060955e+00  9.91469955e+00  2.04914641e-02  1.51966372e+01\n",
      "  1.72281113e+01  8.45829678e+00  3.48303757e+01  7.56839657e+00\n",
      " -3.58070827e+00 -2.81358272e-01  8.56755525e-02 -3.51284480e+00\n",
      "  8.39052486e+00  1.69784641e+01  6.25215101e+00 -9.94120026e+00\n",
      "  1.93168373e+01  8.94028282e+00  6.17622948e+00  2.42597942e+01\n",
      "  9.76890373e+00  3.21115837e+01  3.04484978e+01 -7.61699796e-01\n",
      "  3.69190407e+01 -2.86517286e+00  1.19579868e+01  1.87639008e+01\n",
      "  2.57736988e+01  3.06193085e+01 -2.42739716e+01  3.79901581e+01\n",
      "  8.50788879e+00  4.37246943e+00  2.37740784e+01  1.08412349e+00\n",
      "  1.85452709e+01  1.67126350e+01  8.62610638e-01  1.67403436e+00\n",
      "  1.45712538e+01 -1.64068604e+01  1.54538937e+01  5.11364794e+00\n",
      " -1.65834732e+01 -4.67338419e+00 -4.29667187e+00 -1.98829651e+01\n",
      "  2.69287133e+00 -2.36887856e+01 -5.93532205e-01 -8.75224590e+00\n",
      " -6.40817451e+00 -7.29672909e+00 -6.25769806e+00 -4.84955359e+00\n",
      " -7.27356911e-01 -5.31521142e-01 -2.09521084e+01 -2.41055298e+01\n",
      " -3.70289683e+00 -1.04115975e+00 -4.37137175e+00 -5.48752642e+00\n",
      " -3.98727989e+00  1.03719864e+01 -5.87467241e+00 -2.62832260e+00\n",
      "  2.62513191e-01 -7.61530685e+00 -1.42680330e+01  4.12149906e+00\n",
      " -1.29148331e+01 -1.41760902e+01  6.29137680e-02 -7.67369413e+00\n",
      " -1.63763542e+01  5.61325979e+00  2.21187901e+00 -3.57563400e+00\n",
      " -3.56260705e+00  4.83126020e+00 -8.54351330e+00 -9.75909328e+00\n",
      " -5.80555391e+00 -7.19555140e+00 -3.28950137e-01 -9.72416687e+00\n",
      "  6.29162884e+00 -2.14168015e+01  2.24794650e+00 -5.83148384e+00\n",
      " -1.67745342e+01 -2.40255127e+01 -9.40892506e+00 -7.36753702e+00\n",
      " -4.26534653e+00  1.74932730e+00  2.22884202e+00 -2.66773396e+01\n",
      "  2.37154651e+00 -2.65802174e+01  4.75753784e-01 -2.44896126e+01\n",
      " -4.13284588e+00 -6.34343338e+00 -1.04415770e+01 -8.00070477e+00\n",
      " -6.24415255e+00 -2.03815365e+00 -3.80664706e+00 -6.73172283e+00\n",
      " -5.16178560e+00 -2.48790240e+00 -8.07068920e+00 -7.13397264e+00\n",
      " -1.22405005e+01 -1.70088120e+01  3.75586843e+00 -5.35430288e+00\n",
      " -1.65043986e+00 -3.82611918e+00 -5.03913546e+00 -8.45598459e-01\n",
      "  5.83409965e-01 -2.07587528e+01 -2.19203377e+00 -1.09868574e+01\n",
      " -8.02569771e+00  1.40469396e+00 -4.93770266e+00 -1.13908958e+01\n",
      "  4.09770107e+00  3.41878057e+00 -5.39929533e+00 -1.77513790e+00\n",
      " -2.62307835e+01  3.02057695e+00 -2.05062046e+01  2.82987142e+00\n",
      " -2.79661560e+01 -9.71289539e+00 -1.65806198e+01 -4.63609362e+00\n",
      " -1.94867229e+01 -2.33512139e+00  2.81937814e+00 -5.22318029e+00\n",
      "  2.82978654e+00 -1.06296647e+00 -1.98830676e+00 -6.83311164e-01\n",
      " -1.40882111e+00 -1.26010787e+00  6.11908340e+00 -5.55762959e+00\n",
      " -9.75474167e+00 -8.01033878e+00  5.28135538e+00  2.07937908e+00\n",
      " -6.02509165e+00 -6.77559137e+00 -5.42073679e+00  1.89947529e+01\n",
      "  2.24427390e+00 -8.22880566e-02 -1.30216713e+01 -4.97808218e+00\n",
      "  4.78381348e+00 -3.53511024e+00 -9.78134441e+00 -5.48340845e+00\n",
      "  4.97574568e+00 -2.26098518e+01 -8.04011250e+00 -1.26564798e+01\n",
      " -5.22024107e+00 -4.26326561e+00 -2.37569752e+01  6.24423385e-01\n",
      " -9.24263287e+00 -8.82103825e+00 -4.46326828e+00  9.19140399e-01\n",
      " -1.15461731e+01 -6.30463779e-01 -6.53056335e+00 -4.00542974e+00\n",
      "  1.16211534e+00  2.81213665e+00  6.14683390e+00 -4.24908972e+00\n",
      " -5.90291357e+00 -1.74118214e+01 -2.92336178e+00 -3.03662682e+00\n",
      " -2.41588855e+00  8.83296299e+00  2.54980135e+00  6.30360889e+00\n",
      "  2.72301149e+00 -2.85426664e+00  1.14865923e+01 -7.19040215e-01\n",
      " -7.39967167e-01 -4.29090071e+00 -6.73948050e-01 -3.07548404e+00\n",
      " -3.13691902e+00 -4.36467695e+00 -2.33986330e+00  9.26247895e-01\n",
      " -9.59842014e+00 -1.55257368e+00 -5.89848328e+00  3.46535110e+00\n",
      " -3.51595235e+00  2.44017315e+00 -2.33831730e+01 -2.13368797e+00\n",
      "  2.89967585e+00 -6.63965178e+00 -9.80892467e+00 -3.14705229e+00\n",
      " -3.60617614e+00  9.58502889e-02 -4.40575027e+00  4.00088072e-01\n",
      " -7.88328791e+00  1.79959488e+00  3.41945934e+00 -2.05884151e+01\n",
      " -1.04004335e+01 -2.77826347e+01  3.37304212e-02 -3.82250834e+00\n",
      " -3.71976805e+00 -2.52345657e+01 -8.61147690e+00 -7.34299946e+00\n",
      " -1.88861122e+01  6.25063324e+00  7.23813200e+00  1.86571911e-01\n",
      " -3.04691166e-01  6.44075346e+00 -1.21931629e+01  2.82346749e+00\n",
      " -3.01698327e+00 -9.82484627e+00 -1.16078100e+01 -2.16850504e-01\n",
      " -2.31131573e+01 -2.12302055e+01 -1.80282345e+01 -5.73618603e+00\n",
      " -4.03376436e+00  5.28027248e+00 -1.31890326e+01 -1.79611263e+01\n",
      " -3.19555244e+01 -2.64774456e+01 -7.37444639e+00 -3.24288154e+00\n",
      "  3.77531505e+00 -7.59593487e+00 -2.24372654e+01  8.04500961e+00\n",
      " -2.74464130e+01  1.28160655e+00 -2.41671047e+01 -5.73301935e+00\n",
      " -3.73018951e+01 -1.30191040e+01  5.88443947e+00 -4.11270218e+01\n",
      "  1.53895438e+00  4.12212670e-01 -4.80933332e+00 -2.23921452e+01\n",
      " -2.70892930e+00 -2.67331467e+01  7.25330496e+00 -2.80478249e+01\n",
      " -4.13076782e+00 -3.61068702e+00 -3.51168365e+01 -2.49360790e+01\n",
      " -5.36280775e+00  8.21855366e-01 -9.00750542e+00 -6.63161278e+00\n",
      " -2.02927303e+01  6.05188704e+00 -6.52373791e+00  1.80351591e+00\n",
      " -1.55956507e+01 -7.73346007e-01 -2.26685286e+00  3.06650901e+00\n",
      "  1.51255047e+00 -2.34438729e+00 -1.49006662e+01  7.23530769e-01\n",
      " -2.03322387e+00 -1.17752438e+01 -1.59113379e+01 -1.16210403e+01\n",
      "  7.17840862e+00 -8.03913975e+00 -2.58289051e+01  8.21985626e+00\n",
      " -7.22494459e+00 -1.18160458e+01  2.59119153e+00 -9.75953293e+00\n",
      " -1.45682917e+01 -3.67307243e+01 -9.44399834e+00 -2.43249073e+01\n",
      " -1.40643845e+01 -1.34002006e+00 -2.66737151e+00  2.80589867e+00\n",
      " -3.16831608e+01 -1.04045238e+01 -6.59992599e+00 -2.60647297e+01\n",
      " -5.13045769e+01  3.59577012e+00  1.67118299e+00 -2.08660851e+01\n",
      " -2.13743901e+00 -1.04128246e+01 -3.44796677e+01 -3.71108484e+00\n",
      "  1.81957874e+01  6.01612329e+00 -1.31645622e+01 -1.15498047e+01\n",
      " -2.97572098e+01 -2.76248264e+01  7.19742727e+00 -1.14234428e+01\n",
      "  1.50624132e+00  9.57477283e+00 -2.12758884e+01 -5.92108679e+00\n",
      "  9.59035307e-02 -9.38235950e+00 -2.66158981e+01 -2.97165432e+01\n",
      " -8.69506264e+00  6.01660347e+00  2.35309529e+00 -9.78262043e+00\n",
      "  1.22189260e+00 -9.19809914e+00 -2.23056507e+01 -1.58762245e+01\n",
      " -1.10765810e+01 -1.23158121e+00 -2.54124203e+01 -2.63656158e+01\n",
      " -2.13621349e+01 -6.93019748e-01]' has dtype incompatible with int64, please explicitly cast to a compatible dtype first.\n",
      "  preds[val_index] = model.predict(dval_i)\n"
     ]
    },
    {
     "name": "stderr",
     "output_type": "stream",
     "text": [
      "\r",
      "100%|███████████████████████████████████████████████████████████████████████████████████████████████████████████████████████████████████████████████████| 10/10 [04:47<00:00, 28.92s/it]"
     ]
    },
    {
     "name": "stderr",
     "output_type": "stream",
     "text": [
      "\r",
      "100%|███████████████████████████████████████████████████████████████████████████████████████████████████████████████████████████████████████████████████| 10/10 [04:47<00:00, 28.72s/it]"
     ]
    },
    {
     "name": "stdout",
     "output_type": "stream",
     "text": [
      "OOF predictions complete\n"
     ]
    },
    {
     "name": "stderr",
     "output_type": "stream",
     "text": [
      "\n"
     ]
    }
   ],
   "source": [
    "# OOF予測\n",
    "oof_preds = []\n",
    "for i in tqdm(range(repeat_cv), leave=True, dynamic_ncols=True):\n",
    "    # 初期はターゲットの値で初期化（後で上書き）\n",
    "    preds = y.copy()\n",
    "    # 各 repeater 毎に独自の KFold を用いる（random_state = i）\n",
    "    kfold = KFold(n_splits=folds_splits, shuffle=True, random_state=i)    \n",
    "    for train_index, val_index in kfold.split(X, y):\n",
    "        dtrain_i = xgb.DMatrix(X.iloc[train_index], label=y.iloc[train_index])\n",
    "        dval_i   = xgb.DMatrix(X.iloc[val_index], label=y.iloc[val_index])\n",
    "\n",
    "        model = xgb.train(\n",
    "            params=param,\n",
    "            dtrain=dtrain_i,\n",
    "            num_boost_round=iteration_counts[i],\n",
    "            verbose_eval=50\n",
    "        )\n",
    "        preds[val_index] = model.predict(dval_i)\n",
    "    # 予測値を -30 ～ 30 にクリップ\n",
    "    oof_preds.append(np.clip(preds, -30, 30))\n",
    "\n",
    "print(\"OOF predictions complete\")"
   ]
  },
  {
   "cell_type": "code",
   "execution_count": 24,
   "id": "17d18c3c",
   "metadata": {
    "execution": {
     "iopub.execute_input": "2025-03-13T20:58:42.421766Z",
     "iopub.status.busy": "2025-03-13T20:58:42.421766Z",
     "iopub.status.idle": "2025-03-13T20:58:42.535217Z",
     "shell.execute_reply": "2025-03-13T20:58:42.535217Z"
    },
    "papermill": {
     "duration": 0.140155,
     "end_time": "2025-03-13T20:58:42.535217",
     "exception": false,
     "start_time": "2025-03-13T20:58:42.395062",
     "status": "completed"
    },
    "tags": []
   },
   "outputs": [
    {
     "data": {
      "text/plain": [
       "<Axes: >"
      ]
     },
     "execution_count": 24,
     "metadata": {},
     "output_type": "execute_result"
    },
    {
     "data": {
      "image/png": "[encoded data removed]",
      "text/plain": [
       "<Figure size 640x480 with 1 Axes>"
      ]
     },
     "metadata": {},
     "output_type": "display_data"
    }
   ],
   "source": [
    "oof_preds[0].hist()"
   ]
  },
  {
   "cell_type": "code",
   "execution_count": 25,
   "id": "d840284f",
   "metadata": {
    "execution": {
     "iopub.execute_input": "2025-03-13T20:58:42.566467Z",
     "iopub.status.busy": "2025-03-13T20:58:42.566467Z",
     "iopub.status.idle": "2025-03-13T20:58:42.599247Z",
     "shell.execute_reply": "2025-03-13T20:58:42.599247Z"
    },
    "papermill": {
     "duration": 0.055108,
     "end_time": "2025-03-13T20:58:42.601252",
     "exception": false,
     "start_time": "2025-03-13T20:58:42.546144",
     "status": "completed"
    },
    "tags": []
   },
   "outputs": [],
   "source": [
    "### simple spline, seed(1, 16)~(4, 13)は強制的にfiltaring,  \n",
    "### seed値に対応して予測スコアも同じ大小関係なら1or0に変換の3モデル\n",
    "def cal_logloss(pred_vals, y, i):\n",
    "    y_binary = np.where(y > 0, 1, 0)\n",
    "    loss = log_loss(y_binary, pred_vals)\n",
    "    print(f\"logloss of cvsplit {i}: {loss:.4f}\")\n",
    "\n",
    "\n",
    "    results.append(f\"Normal Spline - logloss of cvsplit {i}: {loss:.4f}\")\n",
    "    return loss\n",
    "\n",
    "#simple spline\n",
    "def make_normal_spline(df, y, repeat_cv):\n",
    "    spline_model1 = []\n",
    "    logloss_normal = []\n",
    "    \n",
    "    for i in range(repeat_cv):\n",
    "        dat = list(zip(df[i], np.where(y>0, 1, 0)))\n",
    "        dat = sorted(dat, key=lambda x:x[0])\n",
    "        datdict = {}\n",
    "        for k in range(len(dat)):\n",
    "            datdict[dat[k][0]] = dat[k][1]\n",
    "        \n",
    "        spline_model1.append(UnivariateSpline(list(datdict.keys()), list(datdict.values())))\n",
    "        spline_fit = spline_model1[i](df[i])\n",
    "        \n",
    "        loss = cal_logloss(spline_fit, y, i)    \n",
    "        logloss_normal.append(loss)\n",
    "\n",
    "    plot_df = pd.DataFrame({\n",
    "        \"pred\": df[0],\n",
    "        \"label\": np.where(y>0,1,0),\n",
    "        \"spline\": spline_model1[0](df[0])\n",
    "    })\n",
    "    plot_df[\"pred_int\"] = plot_df[\"pred\"].astype(int)\n",
    "    plot_df = plot_df.groupby('pred_int')[['spline','label']].mean().reset_index()\n",
    "    \n",
    "    plt.figure(figsize=(8, 5))\n",
    "    plt.plot(plot_df.pred_int, plot_df.label, marker='o', linestyle='-', label=\"True Label\")\n",
    "    plt.plot(plot_df.pred_int, plot_df.spline, marker='x', linestyle='--', label=\"Spline Approximation\")\n",
    "    plt.xlabel(\"Predicted Value (Integer)\")\n",
    "    plt.ylabel(\"Mean Value\")\n",
    "    plt.title(\"Normal Spline Fit Comparison\")\n",
    "    plt.legend()\n",
    "    plt.grid(True)\n",
    "    plt.savefig(os.path.join(OUTPUT_PATH, f\"normal_spline_fit_{PREDICT_YEAR}.png\"))\n",
    "    plt.close()\n",
    "    \n",
    "    \n",
    "    # 例として平均loglossもresultsに記録\n",
    "    avg_logloss = np.mean(logloss_normal) \n",
    "    results.append(f\"Average Normal Spline logloss: {avg_logloss:.4f}\" if avg_logloss is not None else \"No logloss computed\")\n",
    "    \n",
    "    return spline_model1\n",
    "            \n",
    "            \n",
    "#seed(1, 16)~(4, 13)は強制的にseed通りの結果にフィルタリング\n",
    "def make_seed1to4_chenge(df, y, repeat_cv):\n",
    "    spline_model2 = []\n",
    "    spline_fits = []\n",
    "    for i in range(repeat_cv):\n",
    "        dat = list(zip(df[i], np.where(y>0, 1, 0)))\n",
    "        dat = sorted(dat, key=lambda x:x[0])\n",
    "        datdict = {}\n",
    "        for k in range(len(dat)):\n",
    "            datdict[dat[k][0]] = dat[k][1]\n",
    "        \n",
    "        spline_model2.append(UnivariateSpline(list(datdict.keys()), list(datdict.values())))\n",
    "        spline_fit = spline_model2[i](df[i]) \n",
    "        \n",
    "        #add\n",
    "        spline_fit[(X.T1_seed==1) & (X.T2_seed==16)] = 1.0\n",
    "        spline_fit[(X.T1_seed==2) & (X.T2_seed==15)] = 0.9\n",
    "        spline_fit[(X.T1_seed==3) & (X.T2_seed==14)] = 0.8\n",
    "        spline_fit[(X.T1_seed==4) & (X.T2_seed==13)] = 0.7\n",
    "        spline_fit[(X.T1_seed==16) & (X.T2_seed==1)] = 0.0\n",
    "        spline_fit[(X.T1_seed==15) & (X.T2_seed==2)] = 0.1\n",
    "        spline_fit[(X.T1_seed==14) & (X.T2_seed==3)] = 0.2\n",
    "        spline_fit[(X.T1_seed==13) & (X.T2_seed==4)] = 0.3\n",
    "\n",
    "    \n",
    "        cal_logloss(spline_fit, y, i)   \n",
    "                \n",
    "        spline_fits.append(spline_fit)\n",
    "        cal_logloss(spline_fit, y, i)   \n",
    "                \n",
    "    \n",
    "    plot_df = pd.DataFrame({\n",
    "        \"pred\": df[0],\n",
    "        \"label\": np.where(y > 0, 1, 0),\n",
    "        \"spline\": spline_fits[0]  # 変更後の値を利用\n",
    "    })\n",
    "    plot_df[\"pred_int\"] = plot_df[\"pred\"].astype(int)\n",
    "    plot_df = plot_df.groupby(\"pred_int\")[[\"spline\", \"label\"]].mean().reset_index()\n",
    "\n",
    "    plt.figure()\n",
    "    plt.plot(plot_df.pred_int, plot_df.label, label=\"label\")\n",
    "    plt.plot(plot_df.pred_int, plot_df.spline, label=\"spline\")\n",
    "    plt.legend()\n",
    "    plt.show()\n",
    "    \n",
    "    return spline_model2\n",
    "    \n",
    "    \n",
    "#完全に値変換するのではなくてseed値に対応して予測スコアも同じ大小関係なら1or0に変換\n",
    "def make_seed1to4_base_on_score(df, y, repeat_cv):\n",
    "    spline_model3 = []\n",
    "    spline_fits = []\n",
    "\n",
    "    for i in range(repeat_cv):\n",
    "        dat = list(zip(df[i], np.where(y>0, 1, 0)))\n",
    "        dat = sorted(dat, key=lambda x:x[0])\n",
    "        datdict = {}\n",
    "        for k in range(len(dat)):\n",
    "            datdict[dat[k][0]] = dat[k][1]\n",
    "        \n",
    "        spline_model3.append(UnivariateSpline(list(datdict.keys()), list(datdict.values())))\n",
    "        spline_fit = spline_model3[i](df[i]) \n",
    "        \n",
    "        #add\n",
    "        spline_fit[(X.T1_seed==1) & (X.T2_seed==16) & (X.T1_Score > X.T2_Score)] = 1.0\n",
    "        spline_fit[(X.T1_seed==2) & (X.T2_seed==15) & (X.T1_Score > X.T2_Score)] = 1.0\n",
    "        spline_fit[(X.T1_seed==3) & (X.T2_seed==14) & (X.T1_Score > X.T2_Score)] = 1.0\n",
    "        spline_fit[(X.T1_seed==4) & (X.T2_seed==13) & (X.T1_Score > X.T2_Score)] = 1.0\n",
    "        spline_fit[(X.T1_seed==16) & (X.T2_seed==1) & (X.T1_Score < X.T2_Score)] = 0.0\n",
    "        spline_fit[(X.T1_seed==15) & (X.T2_seed==2) & (X.T1_Score < X.T2_Score)] = 0.0\n",
    "        spline_fit[(X.T1_seed==14) & (X.T2_seed==3) & (X.T1_Score < X.T2_Score)] = 0.0\n",
    "        spline_fit[(X.T1_seed==13) & (X.T2_seed==4) & (X.T1_Score < X.T2_Score)] = 0.0\n",
    "\n",
    "        spline_fits.append(spline_fit)\n",
    "        cal_logloss(spline_fit, y, i)   \n",
    "    \n",
    "    \n",
    "    plot_df = pd.DataFrame({\n",
    "        \"pred\": df[0],\n",
    "        \"label\": np.where(y > 0, 1, 0),\n",
    "        \"spline\": spline_fits[0]  # 変更後の値を利用\n",
    "    })\n",
    "    plot_df[\"pred_int\"] = plot_df[\"pred\"].astype(int)\n",
    "    plot_df = plot_df.groupby(\"pred_int\")[[\"spline\", \"label\"]].mean().reset_index()\n",
    "\n",
    "    plt.figure()\n",
    "    plt.plot(plot_df.pred_int, plot_df.label, label=\"label\")\n",
    "    plt.plot(plot_df.pred_int, plot_df.spline, label=\"spline\")\n",
    "    plt.legend()\n",
    "    plt.show()\n",
    "    return spline_model3\n",
    "\n",
    "\n",
    "\n",
    "# Platt Scalingを用いた補正曲線生成の関数 (ロジスティック回帰)\n",
    "def make_platt_scaling(df, y, repeat_cv):\n",
    "    platt_models = []\n",
    "    logloss_platt = []\n",
    "    \n",
    "    for i in range(repeat_cv):\n",
    "        X_train = np.array(df[i]).reshape(-1, 1)\n",
    "        y_binary = np.where(y > 0, 1, 0)\n",
    "        \n",
    "        model = LogisticRegression(random_state=42, solver='lbfgs')\n",
    "        model.fit(X_train, y_binary)\n",
    "        platt_models.append(model)\n",
    "        \n",
    "\n",
    "        platt_fit = model.predict_proba(X_train)[:, 1]\n",
    "        loss = cal_logloss(platt_fit, y, i)\n",
    "        logloss_platt.append(loss)\n",
    "    \n",
    "    \n",
    "    ###\n",
    "    plot_df = pd.DataFrame({\n",
    "        \"pred\": df[0],\n",
    "        \"label\": np.where(y > 0, 1, 0),\n",
    "        \"platt\": platt_models[0].predict_proba(np.array(df[0]).reshape(-1, 1))[:, 1]\n",
    "    })\n",
    "    plot_df[\"pred_int\"] = plot_df[\"pred\"].astype(int)\n",
    "    plot_df = plot_df.groupby(\"pred_int\")[[\"platt\", \"label\"]].mean().reset_index()\n",
    "    \n",
    "    plt.figure(figsize=(8, 5))\n",
    "    plt.plot(plot_df.pred_int, plot_df.label, marker='o', linestyle='-', label=\"True Label\")\n",
    "    plt.plot(plot_df.pred_int, plot_df.platt, marker='x', linestyle='--', label=\"Platt Scaling\")\n",
    "    plt.xlabel(\"Predicted Value (Integer)\")\n",
    "    plt.ylabel(\"Mean Value\")\n",
    "    plt.title(\"Platt Scaling Calibration Curve\")\n",
    "    plt.legend()\n",
    "    plt.grid(True)\n",
    "    plt.savefig(os.path.join(OUTPUT_PATH, f\"platt_scaling_fit_{PREDICT_YEAR}.png\"))\n",
    "    plt.close()\n",
    "    \n",
    "    avg_logloss = np.mean(logloss_platt)\n",
    "    results.append(f\"Average Platt Scaling logloss: {avg_logloss:.4f}\" if avg_logloss is not None else \"No logloss computed\")\n",
    "    \n",
    "    return platt_models\n",
    "\n",
    "def make_isotonic_regression(df, y, repeat_cv):\n",
    "    \"\"\" Isotonic Regression を用いた補正曲線生成 \"\"\"\n",
    "    isotonic_models = []\n",
    "    logloss_isotonic = []\n",
    "    \n",
    "    for i in range(repeat_cv):\n",
    "        X_train = np.array(df[i]).reshape(-1, 1)\n",
    "        y_binary = np.where(y > 0, 1, 0)\n",
    "        \n",
    "        model = IsotonicRegression(out_of_bounds=\"clip\")\n",
    "        model.fit(X_train.ravel(), y_binary)\n",
    "        isotonic_models.append(model)\n",
    "        \n",
    "        isotonic_fit = model.predict(X_train.ravel())\n",
    "        loss = cal_logloss(isotonic_fit, y, i)\n",
    "        logloss_isotonic.append(loss)\n",
    "    \n",
    "    plot_df = pd.DataFrame({\n",
    "        \"pred\": df[0],\n",
    "        \"label\": np.where(y > 0, 1, 0),\n",
    "        \"isotonic\": isotonic_models[0].predict(np.array(df[0]).reshape(-1, 1))\n",
    "    })\n",
    "    plot_df[\"pred_int\"] = plot_df[\"pred\"].astype(int)\n",
    "    plot_df = plot_df.groupby(\"pred_int\")[[\"isotonic\", \"label\"]].mean().reset_index()\n",
    "    \n",
    "    plt.figure(figsize=(8, 5))\n",
    "    plt.plot(plot_df.pred_int, plot_df.label, marker='o', linestyle='-', label=\"True Label\")\n",
    "    plt.plot(plot_df.pred_int, plot_df.isotonic, marker='x', linestyle='--', label=\"Isotonic Regression\")\n",
    "    plt.xlabel(\"Predicted Value (Integer)\")\n",
    "    plt.ylabel(\"Mean Value\")\n",
    "    plt.title(\"Isotonic Regression Calibration Curve\")\n",
    "    plt.legend()\n",
    "    plt.grid(True)\n",
    "    plt.savefig(os.path.join(OUTPUT_PATH, f\"isotonic_regression_fit_{PREDICT_YEAR}.png\"))\n",
    "    plt.close()\n",
    "    \n",
    "    avg_logloss = np.mean(logloss_isotonic)\n",
    "    results.append(f\"Average Isotonic Regression logloss: {avg_logloss:.4f}\" if avg_logloss is not None else \"No logloss computed\")\n",
    "    \n",
    "    return isotonic_models\n",
    "\n"
   ]
  },
  {
   "cell_type": "code",
   "execution_count": 26,
   "id": "77da397b",
   "metadata": {
    "execution": {
     "iopub.execute_input": "2025-03-13T20:58:42.632964Z",
     "iopub.status.busy": "2025-03-13T20:58:42.632964Z",
     "iopub.status.idle": "2025-03-13T20:58:42.639508Z",
     "shell.execute_reply": "2025-03-13T20:58:42.639508Z"
    },
    "papermill": {
     "duration": 0.024256,
     "end_time": "2025-03-13T20:58:42.639508",
     "exception": false,
     "start_time": "2025-03-13T20:58:42.615252",
     "status": "completed"
    },
    "tags": []
   },
   "outputs": [],
   "source": [
    "# キャリブレーションカーブの描画関数\n",
    "def plot_calibration_curve(y_true, y_pred_proba, method, save_path):\n",
    "    \"\"\" キャリブレーションカーブをプロットし保存 \"\"\"\n",
    "    y_binary = np.where(y_true > 0, 1, 0) \n",
    "    prob_true, prob_pred = calibration_curve(y_binary, y_pred_proba, n_bins=10)\n",
    "    \n",
    "    plt.figure(figsize=(6,6))\n",
    "    plt.plot(prob_pred, prob_true, marker=\"o\", label=f\"{method} Calibration\")\n",
    "    plt.plot([0, 1], [0, 1], linestyle=\"--\", label=\"Perfect Calibration\")\n",
    "    plt.xlabel(\"Predicted Probability\")\n",
    "    plt.ylabel(\"Actual Probability\")\n",
    "    plt.legend()\n",
    "    plt.title(f\"{method} Calibration Curve\")\n",
    "    plt.grid()\n",
    "    plt.savefig(save_path)\n",
    "    plt.close()\n",
    "\n"
   ]
  },
  {
   "cell_type": "code",
   "execution_count": 27,
   "id": "0395f994",
   "metadata": {
    "execution": {
     "iopub.execute_input": "2025-03-13T20:58:42.669293Z",
     "iopub.status.busy": "2025-03-13T20:58:42.669293Z",
     "iopub.status.idle": "2025-03-13T20:58:42.873403Z",
     "shell.execute_reply": "2025-03-13T20:58:42.873403Z"
    },
    "papermill": {
     "duration": 0.227187,
     "end_time": "2025-03-13T20:58:42.874414",
     "exception": false,
     "start_time": "2025-03-13T20:58:42.647227",
     "status": "completed"
    },
    "tags": []
   },
   "outputs": [
    {
     "name": "stdout",
     "output_type": "stream",
     "text": [
      "logloss of cvsplit 0: 0.5110\n",
      "logloss of cvsplit 1: 0.5090\n",
      "logloss of cvsplit 2: 0.5073\n",
      "logloss of cvsplit 3: 0.5056\n",
      "logloss of cvsplit 4: 0.5082\n",
      "logloss of cvsplit 5: 0.5065\n",
      "logloss of cvsplit 6: 0.5076\n",
      "logloss of cvsplit 7: 0.5104\n",
      "logloss of cvsplit 8: 0.5091\n",
      "logloss of cvsplit 9: 0.5071\n"
     ]
    }
   ],
   "source": [
    "# キャリブレーション手法の選択\n",
    "spline = MODEL.spline\n",
    "if spline == \"spline_normal\":\n",
    "    spline_model = make_normal_spline(oof_preds, y, repeat_cv)\n",
    "    calibrated_preds = spline_model[0](oof_preds[0])\n",
    "    plot_calibration_curve(y, calibrated_preds, \"Spline Normal\", os.path.join(OUTPUT_PATH, f\"spline_normal_calibration_{PREDICT_YEAR}.png\"))\n",
    "    \n",
    "elif spline == \"logistic\":\n",
    "    spline_model = make_platt_scaling(oof_preds, y, repeat_cv)\n",
    "    calibrated_preds = spline_model[0].predict_proba(np.array(oof_preds[0]).reshape(-1, 1))[:, 1]\n",
    "    plot_calibration_curve(y, calibrated_preds, \"Platt Scaling\", os.path.join(OUTPUT_PATH, f\"platt_scaling_calibration_{PREDICT_YEAR}.png\"))\n",
    "    \n",
    "elif spline == \"isotonic\":\n",
    "    spline_model = make_isotonic_regression(oof_preds, y, repeat_cv)\n",
    "    calibrated_preds = spline_model[0].predict(np.array(oof_preds[0]).reshape(-1, 1))\n",
    "    plot_calibration_curve(y, calibrated_preds, \"Isotonic Regression\", os.path.join(OUTPUT_PATH, f\"isotonic_regression_calibration_{PREDICT_YEAR}.png\"))"
   ]
  },
  {
   "cell_type": "markdown",
   "id": "a0209878",
   "metadata": {
    "papermill": {
     "duration": 0.015774,
     "end_time": "2025-03-13T20:58:42.905990",
     "exception": false,
     "start_time": "2025-03-13T20:58:42.890216",
     "status": "completed"
    },
    "tags": []
   },
   "source": [
    "# submmit\n",
    "\n",
    "同じfeature engineeringする.\n",
    "\n",
    "個々の扱うも考える。2025は最終提出用の関数を用意する、その他2024以前は過去コンペでの提出形式に合わせる、でも年度によって提出形式が変わるからとりあえず2023でやる"
   ]
  },
  {
   "cell_type": "code",
   "execution_count": 28,
   "id": "8769f42f",
   "metadata": {
    "execution": {
     "iopub.execute_input": "2025-03-13T20:58:42.941021Z",
     "iopub.status.busy": "2025-03-13T20:58:42.941021Z",
     "iopub.status.idle": "2025-03-13T20:58:42.946654Z",
     "shell.execute_reply": "2025-03-13T20:58:42.946654Z"
    },
    "papermill": {
     "duration": 0.024136,
     "end_time": "2025-03-13T20:58:42.947905",
     "exception": false,
     "start_time": "2025-03-13T20:58:42.923769",
     "status": "completed"
    },
    "tags": []
   },
   "outputs": [
    {
     "data": {
      "text/plain": [
       "'if PREDICT_YEAR==2022:\\n    sub = pd.read_csv(os.path.join(INPUT_PATH, \"SampleSubmission2022M.csv\"))\\n    sub[\\'Season\\'] = sub[\\'ID\\'].apply(lambda x: int(x.split(\\'_\\')[0]))\\n    sub[\"T1_TeamID\"] = sub[\\'ID\\'].apply(lambda x: int(x.split(\\'_\\')[1]))\\n    sub[\"T2_TeamID\"] = sub[\\'ID\\'].apply(lambda x: int(x.split(\\'_\\')[2]))\\n    sub_X, a = process_tourney(sub, mode = \"sub\")\\n    dtest = xgb.DMatrix(sub_X)\\nelif PREDICT_YEAR==2023:\\n    sub = pd.read_csv(os.path.join(INPUT_PATH, \"SampleSubmission2023.csv\"))\\n    sub[\\'Season\\'] = sub[\\'ID\\'].apply(lambda x: int(x.split(\\'_\\')[0]))\\n    sub[\"T1_TeamID\"] = sub[\\'ID\\'].apply(lambda x: int(x.split(\\'_\\')[1]))\\n    sub[\"T2_TeamID\"] = sub[\\'ID\\'].apply(lambda x: int(x.split(\\'_\\')[2]))\\n    sub_X, a = process_tourney(sub, mode = \"sub\")\\n    dtest = xgb.DMatrix(sub_X)\\nelif PREDICT_YEAR==2024:\\n    sub = pd.read_csv(os.path.join(INPUT_PATH, \"SampleSubmission2024.csv\"))\\n    sub[\\'Season\\'] = sub[\\'ID\\'].apply(lambda x: int(x.split(\\'_\\')[0]))\\n    sub[\"T1_TeamID\"] = sub[\\'ID\\'].apply(lambda x: int(x.split(\\'_\\')[1]))\\n    sub[\"T2_TeamID\"] = sub[\\'ID\\'].apply(lambda x: int(x.split(\\'_\\')[2]))\\n    sub_X, a = process_tourney(sub, mode = \"sub\")\\n    dtest = xgb.DMatrix(sub_X)\\nelif PREDICT_YEAR==2025:\\n    sub = pd.read_csv(os.path.join(INPUT_PATH, \"SampleSubmissionStage2.csv\"))\\n    sub[\\'Season\\'] = sub[\\'ID\\'].apply(lambda x: int(x.split(\\'_\\')[0]))\\n    sub[\"T1_TeamID\"] = sub[\\'ID\\'].apply(lambda x: int(x.split(\\'_\\')[1]))\\n    sub[\"T2_TeamID\"] = sub[\\'ID\\'].apply(lambda x: int(x.split(\\'_\\')[2]))   \\n    sub_X, a = process_tourney(sub, mode = \"sub\")\\n    dtest = xgb.DMatrix(sub_X)'"
      ]
     },
     "execution_count": 28,
     "metadata": {},
     "output_type": "execute_result"
    }
   ],
   "source": [
    "\"\"\"if PREDICT_YEAR==2022:\n",
    "    sub = pd.read_csv(os.path.join(INPUT_PATH, \"SampleSubmission2022M.csv\"))\n",
    "    sub['Season'] = sub['ID'].apply(lambda x: int(x.split('_')[0]))\n",
    "    sub[\"T1_TeamID\"] = sub['ID'].apply(lambda x: int(x.split('_')[1]))\n",
    "    sub[\"T2_TeamID\"] = sub['ID'].apply(lambda x: int(x.split('_')[2]))\n",
    "    sub_X, a = process_tourney(sub, mode = \"sub\")\n",
    "    dtest = xgb.DMatrix(sub_X)\n",
    "elif PREDICT_YEAR==2023:\n",
    "    sub = pd.read_csv(os.path.join(INPUT_PATH, \"SampleSubmission2023.csv\"))\n",
    "    sub['Season'] = sub['ID'].apply(lambda x: int(x.split('_')[0]))\n",
    "    sub[\"T1_TeamID\"] = sub['ID'].apply(lambda x: int(x.split('_')[1]))\n",
    "    sub[\"T2_TeamID\"] = sub['ID'].apply(lambda x: int(x.split('_')[2]))\n",
    "    sub_X, a = process_tourney(sub, mode = \"sub\")\n",
    "    dtest = xgb.DMatrix(sub_X)\n",
    "elif PREDICT_YEAR==2024:\n",
    "    sub = pd.read_csv(os.path.join(INPUT_PATH, \"SampleSubmission2024.csv\"))\n",
    "    sub['Season'] = sub['ID'].apply(lambda x: int(x.split('_')[0]))\n",
    "    sub[\"T1_TeamID\"] = sub['ID'].apply(lambda x: int(x.split('_')[1]))\n",
    "    sub[\"T2_TeamID\"] = sub['ID'].apply(lambda x: int(x.split('_')[2]))\n",
    "    sub_X, a = process_tourney(sub, mode = \"sub\")\n",
    "    dtest = xgb.DMatrix(sub_X)\n",
    "elif PREDICT_YEAR==2025:\n",
    "    sub = pd.read_csv(os.path.join(INPUT_PATH, \"SampleSubmissionStage2.csv\"))\n",
    "    sub['Season'] = sub['ID'].apply(lambda x: int(x.split('_')[0]))\n",
    "    sub[\"T1_TeamID\"] = sub['ID'].apply(lambda x: int(x.split('_')[1]))\n",
    "    sub[\"T2_TeamID\"] = sub['ID'].apply(lambda x: int(x.split('_')[2]))   \n",
    "    sub_X, a = process_tourney(sub, mode = \"sub\")\n",
    "    dtest = xgb.DMatrix(sub_X)\"\"\"\n",
    "    "
   ]
  },
  {
   "cell_type": "code",
   "execution_count": 29,
   "id": "2dbd8a29",
   "metadata": {
    "execution": {
     "iopub.execute_input": "2025-03-13T20:58:42.983722Z",
     "iopub.status.busy": "2025-03-13T20:58:42.983722Z",
     "iopub.status.idle": "2025-03-13T20:58:43.008370Z",
     "shell.execute_reply": "2025-03-13T20:58:43.008370Z"
    },
    "papermill": {
     "duration": 0.04551,
     "end_time": "2025-03-13T20:58:43.010373",
     "exception": false,
     "start_time": "2025-03-13T20:58:42.964863",
     "status": "completed"
    },
    "tags": []
   },
   "outputs": [
    {
     "name": "stdout",
     "output_type": "stream",
     "text": [
      "no fillna, use nan\n"
     ]
    }
   ],
   "source": [
    "sub = notexist.copy()\n",
    "sub = sub.rename(columns={\"WTeamID\": \"T1_TeamID\", \"LTeamID\": \"T2_TeamID\"})\n",
    "sub = sub[[\"Season\", \"T1_TeamID\", \"T2_TeamID\"]]\n",
    "temp = sub.copy()\n",
    "temp = temp.rename(columns={\"T1_TeamID\": \"T2_TeamID\", \"T2_TeamID\": \"T1_TeamID\"})\n",
    "sub = pd.concat([sub, temp]).reset_index()\n",
    "sub_X, a = process_tourney(sub, mode=\"sub\")\n",
    "sub_X = drop_columns(sub_X, drop_col)\n",
    "dtest = xgb.DMatrix(sub_X)"
   ]
  },
  {
   "cell_type": "code",
   "execution_count": 30,
   "id": "1e92796a",
   "metadata": {
    "execution": {
     "iopub.execute_input": "2025-03-13T20:58:43.056437Z",
     "iopub.status.busy": "2025-03-13T20:58:43.056437Z",
     "iopub.status.idle": "2025-03-13T20:59:50.859205Z",
     "shell.execute_reply": "2025-03-13T20:59:50.859205Z"
    },
    "papermill": {
     "duration": 67.854876,
     "end_time": "2025-03-13T20:59:50.887025",
     "exception": false,
     "start_time": "2025-03-13T20:58:43.032149",
     "status": "completed"
    },
    "tags": []
   },
   "outputs": [
    {
     "name": "stderr",
     "output_type": "stream",
     "text": [
      "\r",
      "  0%|                                                                                                                                                            | 0/10 [00:00<?, ?it/s]"
     ]
    },
    {
     "name": "stderr",
     "output_type": "stream",
     "text": [
      "\r",
      " 10%|██████████████▊                                                                                                                                     | 1/10 [00:06<00:55,  6.19s/it]"
     ]
    },
    {
     "name": "stderr",
     "output_type": "stream",
     "text": [
      "\r",
      " 20%|█████████████████████████████▌                                                                                                                      | 2/10 [00:13<00:52,  6.59s/it]"
     ]
    },
    {
     "name": "stderr",
     "output_type": "stream",
     "text": [
      "\r",
      " 30%|████████████████████████████████████████████▍                                                                                                       | 3/10 [00:19<00:46,  6.62s/it]"
     ]
    },
    {
     "name": "stderr",
     "output_type": "stream",
     "text": [
      "\r",
      " 40%|███████████████████████████████████████████████████████████▏                                                                                        | 4/10 [00:26<00:40,  6.79s/it]"
     ]
    },
    {
     "name": "stderr",
     "output_type": "stream",
     "text": [
      "\r",
      " 50%|██████████████████████████████████████████████████████████████████████████                                                                          | 5/10 [00:33<00:34,  6.83s/it]"
     ]
    },
    {
     "name": "stderr",
     "output_type": "stream",
     "text": [
      "\r",
      " 60%|████████████████████████████████████████████████████████████████████████████████████████▊                                                           | 6/10 [00:40<00:27,  6.96s/it]"
     ]
    },
    {
     "name": "stderr",
     "output_type": "stream",
     "text": [
      "\r",
      " 70%|███████████████████████████████████████████████████████████████████████████████████████████████████████▌                                            | 7/10 [00:47<00:20,  6.93s/it]"
     ]
    },
    {
     "name": "stderr",
     "output_type": "stream",
     "text": [
      "\r",
      " 80%|██████████████████████████████████████████████████████████████████████████████████████████████████████████████████████▍                             | 8/10 [00:53<00:13,  6.68s/it]"
     ]
    },
    {
     "name": "stderr",
     "output_type": "stream",
     "text": [
      "\r",
      " 90%|█████████████████████████████████████████████████████████████████████████████████████████████████████████████████████████████████████▏              | 9/10 [01:00<00:06,  6.74s/it]"
     ]
    },
    {
     "name": "stderr",
     "output_type": "stream",
     "text": [
      "\r",
      "100%|███████████████████████████████████████████████████████████████████████████████████████████████████████████████████████████████████████████████████| 10/10 [01:07<00:00,  6.83s/it]"
     ]
    },
    {
     "name": "stderr",
     "output_type": "stream",
     "text": [
      "\r",
      "100%|███████████████████████████████████████████████████████████████████████████████████████████████████████████████████████████████████████████████████| 10/10 [01:07<00:00,  6.78s/it]"
     ]
    },
    {
     "name": "stderr",
     "output_type": "stream",
     "text": [
      "\n"
     ]
    }
   ],
   "source": [
    "sub_models = []\n",
    "#sokutionではカスタム関数の指定、早期停止の言及がここではなかった。検討する\n",
    "for i in tqdm(range(repeat_cv), leave=True, dynamic_ncols=True):\n",
    "    sub_models.append(\n",
    "        xgb.train(\n",
    "          params = param,\n",
    "          dtrain = dtrain,\n",
    "          obj=cauchyobj,\n",
    "          num_boost_round = int(iteration_counts[i] * 1.05),\n",
    "          #early_stopping_rounds=early_stopping_rounds, #これ指定してない、指定するのかあと、指定するとしても少し遅くさせるとか\n",
    "          verbose_eval = 50\n",
    "        )\n",
    "    )"
   ]
  },
  {
   "cell_type": "markdown",
   "id": "bf70c66c",
   "metadata": {
    "papermill": {
     "duration": 0.029843,
     "end_time": "2025-03-13T20:59:50.944187",
     "exception": false,
     "start_time": "2025-03-13T20:59:50.914344",
     "status": "completed"
    },
    "tags": []
   },
   "source": [
    "各特徴量の寄与度を算出"
   ]
  },
  {
   "cell_type": "code",
   "execution_count": 31,
   "id": "956afb88",
   "metadata": {
    "execution": {
     "iopub.execute_input": "2025-03-13T20:59:50.994784Z",
     "iopub.status.busy": "2025-03-13T20:59:50.994784Z",
     "iopub.status.idle": "2025-03-13T20:59:51.655955Z",
     "shell.execute_reply": "2025-03-13T20:59:51.655955Z"
    },
    "papermill": {
     "duration": 0.685633,
     "end_time": "2025-03-13T20:59:51.655955",
     "exception": false,
     "start_time": "2025-03-13T20:59:50.970322",
     "status": "completed"
    },
    "tags": []
   },
   "outputs": [
    {
     "data": {
      "image/png": "[encoded data removed]",
      "text/plain": [
       "<Figure size 1000x600 with 1 Axes>"
      ]
     },
     "metadata": {},
     "output_type": "display_data"
    }
   ],
   "source": [
    "feature_importances = collections.defaultdict(list)\n",
    "for model in sub_models:\n",
    "    importance = model.get_score(importance_type='gain')\n",
    "    for feat, score in importance.items():\n",
    "        feature_importances[feat].append(score)\n",
    "\n",
    "avg_importance = {feat: sum(scores) / len(scores) for feat, scores in feature_importances.items()}\n",
    "fi_df = pd.DataFrame(list(avg_importance.items()), columns=['Feature', 'Avg_Gain'])\n",
    "fi_df.sort_values(by='Avg_Gain', ascending=False, inplace=True)\n",
    "results.append(\"\")\n",
    "fi_log = \"-----Feature Importance (Average Gain)-----\\n\"\n",
    "for feat, score in fi_df.values:\n",
    "    fi_log += f\"{feat}: {score:.4f}\\n\"\n",
    "results.append(fi_log)\n",
    "results.append(\"\")\n",
    "\n",
    "plt.figure(figsize=(10, 6))\n",
    "plt.bar(fi_df['Feature'], fi_df['Avg_Gain'])\n",
    "plt.xlabel('Feature')\n",
    "plt.ylabel('Average Gain')\n",
    "plt.title('Feature Importance (Average Gain)')\n",
    "plt.xticks(rotation=45)\n",
    "plt.tight_layout() \n",
    "\n",
    "plt.savefig(os.path.join(OUTPUT_PATH, f\"feature_importance_{PREDICT_YEAR}.png\"))\n",
    "plt.show()"
   ]
  },
  {
   "cell_type": "code",
   "execution_count": 32,
   "id": "6beddd15",
   "metadata": {
    "execution": {
     "iopub.execute_input": "2025-03-13T20:59:51.699375Z",
     "iopub.status.busy": "2025-03-13T20:59:51.699375Z",
     "iopub.status.idle": "2025-03-13T20:59:51.770376Z",
     "shell.execute_reply": "2025-03-13T20:59:51.770376Z"
    },
    "papermill": {
     "duration": 0.103094,
     "end_time": "2025-03-13T20:59:51.772379",
     "exception": false,
     "start_time": "2025-03-13T20:59:51.669285",
     "status": "completed"
    },
    "tags": []
   },
   "outputs": [
    {
     "name": "stderr",
     "output_type": "stream",
     "text": [
      "\r",
      "  0%|                                                                                                                                                            | 0/10 [00:00<?, ?it/s]"
     ]
    },
    {
     "name": "stderr",
     "output_type": "stream",
     "text": [
      "\r",
      "100%|██████████████████████████████████████████████████████████████████████████████████████████████████████████████████████████████████████████████████| 10/10 [00:00<00:00, 150.28it/s]"
     ]
    },
    {
     "name": "stderr",
     "output_type": "stream",
     "text": [
      "\n"
     ]
    }
   ],
   "source": [
    "sub_preds = []\n",
    "for i in tqdm(range(repeat_cv)):\n",
    "    if spline == \"spline_normal\":\n",
    "        sub_preds.append(np.clip(spline_model[i](np.clip(sub_models[i].predict(dtest), -30, 30)), 0.025, 0.975))\n",
    "    \n",
    "    elif spline == \"logistic\":\n",
    "        X_input = np.clip(sub_models[i].predict(dtest), -30, 30).reshape(-1, 1)\n",
    "        platt_pred = spline_model[i].predict_proba(X_input)[:, 1]\n",
    "        sub_preds.append(np.clip(platt_pred, 0.025, 0.975))\n",
    "\n",
    "    elif spline == \"isotonic\":\n",
    "        X_input = np.clip(sub_models[i].predict(dtest), -30, 30).reshape(-1, 1)\n",
    "        iso_pred = spline_model[i].predict(X_input)  # Isotonic Regression の適用\n",
    "        sub_preds.append(np.clip(iso_pred, 0.025, 0.975))\n",
    "\n",
    "sub[\"Pred\"] = np.mean(np.vstack(sub_preds), axis=0)"
   ]
  },
  {
   "cell_type": "code",
   "execution_count": 33,
   "id": "138de83b",
   "metadata": {
    "execution": {
     "iopub.execute_input": "2025-03-13T20:59:51.827455Z",
     "iopub.status.busy": "2025-03-13T20:59:51.827455Z",
     "iopub.status.idle": "2025-03-13T20:59:51.933211Z",
     "shell.execute_reply": "2025-03-13T20:59:51.933211Z"
    },
    "papermill": {
     "duration": 0.137291,
     "end_time": "2025-03-13T20:59:51.935214",
     "exception": false,
     "start_time": "2025-03-13T20:59:51.797923",
     "status": "completed"
    },
    "tags": []
   },
   "outputs": [
    {
     "name": "stdout",
     "output_type": "stream",
     "text": [
      "----- data flip -----\n",
      "no fillna, use nan\n"
     ]
    },
    {
     "name": "stderr",
     "output_type": "stream",
     "text": [
      "\r",
      "  0%|                                                                                                                                                            | 0/10 [00:00<?, ?it/s]"
     ]
    },
    {
     "name": "stderr",
     "output_type": "stream",
     "text": [
      "\r",
      "100%|██████████████████████████████████████████████████████████████████████████████████████████████████████████████████████████████████████████████████| 10/10 [00:00<00:00, 175.19it/s]"
     ]
    },
    {
     "name": "stderr",
     "output_type": "stream",
     "text": [
      "\n"
     ]
    }
   ],
   "source": [
    "# 予測時にテストデータID反転させて予測して平均取る\n",
    "# dtestの用意とsub_predsの算出を同じようにやる\n",
    "# sub[\"Pred\"]を反転させたやつとの平均取ったやつにする\n",
    "TEST_REVERSE = MODEL.test_reverse\n",
    "\n",
    "if TEST_REVERSE:\n",
    "    print(\"----- data flip -----\") \n",
    "    sub_reverse = notexist.copy()\n",
    "    sub_reverse = sub_reverse.rename(columns={\"WTeamID\": \"T2_TeamID\", \"LTeamID\": \"T1_TeamID\"})#reverse!!\n",
    "    temp_reverse = sub_reverse.copy()\n",
    "    temp = temp.rename(columns={\"T1_TeamID\": \"T2_TeamID\", \"T2_TeamID\": \"T1_TeamID\"})\n",
    "    sub_reverse = pd.concat([sub_reverse, temp_reverse]).reset_index()\n",
    "    sub_reverse_X, a = process_tourney(sub_reverse, mode=\"sub\")\n",
    "    sub_reverse_X = drop_columns(sub_reverse_X, drop_col)\n",
    "    dtest_reverse = xgb.DMatrix(sub_reverse_X)\n",
    "    \n",
    "    sub_preds_reverse = []\n",
    "    for i in tqdm(range(repeat_cv)):\n",
    "        if spline == \"spline_normal\":\n",
    "            sub_preds_reverse.append(np.clip(spline_model[i](np.clip(sub_models[i].predict(dtest_reverse), -30, 30)), 0.025, 0.975))\n",
    "        \n",
    "        elif spline == \"logistic\":\n",
    "            X_input = np.clip(sub_models[i].predict(dtest_reverse), -30, 30).reshape(-1, 1)\n",
    "            platt_pred = spline_model[i].predict_proba(X_input)[:, 1]\n",
    "            sub_preds_reverse.append(np.clip(platt_pred, 0.025, 0.975))\n",
    "\n",
    "        elif spline == \"isotonic\":\n",
    "            X_input = np.clip(sub_models[i].predict(dtest_reverse), -30, 30).reshape(-1, 1)\n",
    "            iso_pred = spline_model[i].predict(X_input)  # Isotonic Regression の適用\n",
    "            sub_preds_reverse.append(np.clip(iso_pred, 0.025, 0.975))\n",
    "\n",
    "    sub_reverse[\"Pred\"] = np.mean(np.vstack(sub_preds_reverse), axis=0)\n",
    "    \n",
    " \n",
    "    #sub[\"Pred\"]を (sub[\"Pred\"] + (1-sub_reverse[\"Pred\"]))/2に塗り替える(平均取る)\n",
    "    sub[\"Pred\"] = (sub[\"Pred\"] + (1-sub_reverse[\"Pred\"]))/2\n",
    "\n",
    "\n",
    "else:\n",
    "    print(\"skip data flip\")"
   ]
  },
  {
   "cell_type": "code",
   "execution_count": 34,
   "id": "3fba35b5",
   "metadata": {
    "execution": {
     "iopub.execute_input": "2025-03-13T20:59:51.994562Z",
     "iopub.status.busy": "2025-03-13T20:59:51.994562Z",
     "iopub.status.idle": "2025-03-13T20:59:52.003631Z",
     "shell.execute_reply": "2025-03-13T20:59:52.002626Z"
    },
    "papermill": {
     "duration": 0.042625,
     "end_time": "2025-03-13T20:59:52.005631",
     "exception": false,
     "start_time": "2025-03-13T20:59:51.963006",
     "status": "completed"
    },
    "tags": []
   },
   "outputs": [],
   "source": [
    "# teams:64team, targetを受け取って、そのtarget teamの試合可能性のある全63試合を抽出する関数\n",
    "def extract_target_team_records(submission_df, teams, target_team):\n",
    "    if target_team not in teams:\n",
    "        raise ValueError(f\"target_team {target_team} は teams 内に存在しません\")\n",
    "\n",
    "    remaining_teams = [t for t in teams if t != target_team]\n",
    "    \n",
    "    records = []\n",
    "    for other_team in remaining_teams:\n",
    "        lower = min(target_team, other_team)\n",
    "        higher = max(target_team, other_team)\n",
    "        row = submission_df[(submission_df['T1_TeamID'] == lower) & (submission_df['T2_TeamID'] == higher)]\n",
    "        if row.empty:\n",
    "            print(f\"Warning: 対戦 {lower} vs {higher} に対応するレコードが見つかりませんでした\")\n",
    "        else:\n",
    "            records.append(row)\n",
    "    \n",
    "    if records:\n",
    "        final_records = pd.concat(records, ignore_index=True)\n",
    "    else:\n",
    "        final_records = pd.DataFrame()\n",
    "    \n",
    "    if len(final_records) != 63:\n",
    "        print(f\"Warning: 期待される63件ではなく、{len(final_records)}件のレコードが抽出されました。\")\n",
    "    \n",
    "    return final_records\n"
   ]
  },
  {
   "cell_type": "code",
   "execution_count": 35,
   "id": "b94382b9",
   "metadata": {
    "execution": {
     "iopub.execute_input": "2025-03-13T20:59:52.056038Z",
     "iopub.status.busy": "2025-03-13T20:59:52.056038Z",
     "iopub.status.idle": "2025-03-13T20:59:52.069352Z",
     "shell.execute_reply": "2025-03-13T20:59:52.069352Z"
    },
    "papermill": {
     "duration": 0.031136,
     "end_time": "2025-03-13T20:59:52.069352",
     "exception": false,
     "start_time": "2025-03-13T20:59:52.038216",
     "status": "completed"
    },
    "tags": []
   },
   "outputs": [],
   "source": [
    "tourney_teams_2023 = [\n",
    "    1395, 1113,   # TCU1395, アリゾナ・ステイト1113\n",
    "    1231, 1245,   # インディアナ1231, ケント・ステイト1245\n",
    "    1243, 1286,   # カンザス・ステイト1243, モンタナ・ステイト1286\n",
    "    1272, 1194,   # メンフィス1272, ﾌﾛﾘﾀﾞ･ｱﾄﾗﾝﾃｨｯｸ1194\n",
    "    1211, 1213,   # ゴンザガ1211, グランド・キャニオン1213\n",
    "    1274, 1179,   # マイアミ（フロリダ）1274, ドレイク1179\n",
    "    1243, 1286,   # ケンタッキー1243, プロビデンス1286\n",
    "    1345, 1192,   # パデュー1345, ﾌｪｱﾘｰ･ﾃﾞｨｷﾝｿﾝ1192\n",
    "    1163, 1233,   # コネチカット1163, アイオナ1233\n",
    "    1166, 1301,   # クレイトン1166, ﾉｰｽｶﾛﾗｲﾅ･ｽﾃｲﾄ1301\n",
    "    1235, 1338,   # アイオワ・ステイト1235, ピッツバーグ1338\n",
    "    1266, 1436,   # マーケット1266, バーモント1436\n",
    "    1388, 1433,   # ｾﾝﾄﾒｱﾘｰｽﾞ（ｶﾘﾌｫﾙﾆｱ）1388, VCU1433\n",
    "    1124, 1364,   # ベイラー1124, UCサンタバーバラ1364\n",
    "    1462, 1244,   # ザビエル1462, ケネソー・ステイト1244\n",
    "    1277, 1425,   # ミシガン・ステイト1277, USC トロージャンズ1425\n",
    "\n",
    "    1417, 1421,   # UCLA1417, UNC アシュビル1421\n",
    "    1401, 1336,   # テキサス A＆M1401, ﾍﾟﾝｼﾞﾙﾍﾞﾆｱ･ｽﾃｲﾄ1336\n",
    "    1397, 1418,   # テネシー1397, ﾙｲｼﾞｱﾅ･ﾗﾌｧｲｴｯﾄ1418\n",
    "    1222, 1297,   # ヒューストン1222, ノーザンケンタッキー1297\n",
    "    1321, 1129,   # ノースウェスタン1321, ボイシ・ステイト1129\n",
    "    1400, 1159,   # テキサス1400, コルゲート1159\n",
    "    1181, 1331,   # デューク1181, オーラル・ロバーツ1331\n",
    "    1234, 1120,   # アイオワ1234, オーバーン1120\n",
    "    1116, 1228,   # アーカンソー1116, イリノイ1228\n",
    "    1112, 1343,   # アリゾナ1112, プリンストン1343\n",
    "    1361, 1158,   # ｻﾝﾃﾞｴｺﾞ･ｽﾃｲﾄ1361, チャールストン1158\n",
    "    1104, 1394,   # アラバマ1104, テキサス A＆M CC1394\n",
    "    1242, 1224,   # カンザス1242, ハワード1224\n",
    "    1281, 1429,   # ミズーリ1281, ユタ・ステイト1429\n",
    "    1438, 1202,   # バージニア1438, ファーマン1202\n",
    "    1268, 1452    # メリーランド1268, ウェストバージニア1452\n",
    "]\n",
    "\n",
    "#Connecticut_vs = extract_target_team_records(sub, tourney_teams_2023, 1163 )"
   ]
  },
  {
   "cell_type": "code",
   "execution_count": 36,
   "id": "858a3d45",
   "metadata": {
    "execution": {
     "iopub.execute_input": "2025-03-13T20:59:52.106222Z",
     "iopub.status.busy": "2025-03-13T20:59:52.106222Z",
     "iopub.status.idle": "2025-03-13T20:59:52.119351Z",
     "shell.execute_reply": "2025-03-13T20:59:52.118812Z"
    },
    "papermill": {
     "duration": 0.026808,
     "end_time": "2025-03-13T20:59:52.119351",
     "exception": false,
     "start_time": "2025-03-13T20:59:52.092543",
     "status": "completed"
    },
    "tags": []
   },
   "outputs": [],
   "source": [
    "#handlabelingを行う関数\n",
    "def make_handlabeling(df, season, T1, T2, labeling_pred, tourney_teams):\n",
    "    if T1 not in tourney_teams or T2 not in tourney_teams: \n",
    "        print(f\"トーナメント対象チームに属していません\")\n",
    "        return \n",
    "    \n",
    "    if T1>T2: \n",
    "        T1, T2 = T2, T1\n",
    "        print(f\"{T1}, {T2}ID逆だけど大丈夫？？\")\n",
    "    id = f\"{season}_{T1}_{T2}\"\n",
    "\n",
    "    print(f\"before: {df[df['ID']==id]}\")\n",
    "    df.loc[df[\"ID\"] == id, \"Pred\"] = labeling_pred\n",
    "    print(f\"after: {df[df['ID']==id]}\")\n",
    "    \n",
    "    results.append(f\"-----handolabeling-----\")\n",
    "    results.append(f\"before:  {df[df['ID']==id]} -----> after: {df[df['ID']==id]}\")\n",
    "    results.appedn(\"\")\n",
    "    return df"
   ]
  },
  {
   "cell_type": "code",
   "execution_count": 37,
   "id": "8d3a35d9",
   "metadata": {
    "execution": {
     "iopub.execute_input": "2025-03-13T20:59:52.165509Z",
     "iopub.status.busy": "2025-03-13T20:59:52.165509Z",
     "iopub.status.idle": "2025-03-13T20:59:52.169386Z",
     "shell.execute_reply": "2025-03-13T20:59:52.169386Z"
    },
    "papermill": {
     "duration": 0.034026,
     "end_time": "2025-03-13T20:59:52.170391",
     "exception": false,
     "start_time": "2025-03-13T20:59:52.136365",
     "status": "completed"
    },
    "tags": []
   },
   "outputs": [],
   "source": [
    "labeling = cfg.exp.hand_labeling\n",
    "if labeling is not None:\n",
    "    for i in range(len(labeling)):\n",
    "        T1 = labeling[i][0]\n",
    "        T2 = labeling[i][1]\n",
    "        labeling_pred = labeling[i][2]\n",
    "        \n",
    "        print(f\"{T1} vs {T2} result labeling {labeling_pred}\")\n",
    "        \n",
    "        sub = make_handlabeling(sub, PREDICT_YEAR, T1, T2, labeling_pred, tourney_teams_2023)"
   ]
  },
  {
   "cell_type": "code",
   "execution_count": 38,
   "id": "fc4aa5f0",
   "metadata": {
    "execution": {
     "iopub.execute_input": "2025-03-13T20:59:52.215930Z",
     "iopub.status.busy": "2025-03-13T20:59:52.215463Z",
     "iopub.status.idle": "2025-03-13T20:59:52.509172Z",
     "shell.execute_reply": "2025-03-13T20:59:52.509172Z"
    },
    "papermill": {
     "duration": 0.316432,
     "end_time": "2025-03-13T20:59:52.509172",
     "exception": false,
     "start_time": "2025-03-13T20:59:52.192740",
     "status": "completed"
    },
    "tags": []
   },
   "outputs": [
    {
     "name": "stdout",
     "output_type": "stream",
     "text": [
      "Tournament matchups only - Pred Mean: 0.5907005195729451\n"
     ]
    },
    {
     "data": {
      "image/png": "[encoded data removed]",
      "text/plain": [
       "<Figure size 640x480 with 1 Axes>"
      ]
     },
     "metadata": {},
     "output_type": "display_data"
    }
   ],
   "source": [
    "tourney_filtered = notexist[notexist[\"Season\"] == PREDICT_YEAR].copy()\n",
    "a = tourney_filtered.rename(columns={'WTeamID': 'T1_TeamID', 'LTeamID': 'T2_TeamID'})\n",
    "b = tourney_filtered.rename(columns={'WTeamID': 'T2_TeamID', 'LTeamID': 'T1_TeamID'})\n",
    "ab = pd.concat([a, b]).reset_index(drop=True) \n",
    "filtered_sub = sub.merge(ab[['Season', 'T1_TeamID', 'T2_TeamID']], \n",
    "                         on=['Season', 'T1_TeamID', 'T2_TeamID'], \n",
    "                         how='inner')\n",
    "\n",
    "filtered_sub[\"Pred\"].astype(int)\n",
    "pred_mean = filtered_sub[\"Pred\"].mean()\n",
    "print(\"Tournament matchups only - Pred Mean:\", pred_mean)\n",
    "\n",
    "filtered_sub[\"Pred\"].hist(bins=50)\n",
    "results+=[\"\", f\"Tournament matchups only - Pred Mean:, {pred_mean}\", \"\"]\n",
    "plt.figure(figsize=(8, 6))\n",
    "filtered_sub[\"Pred\"].hist(bins=50)\n",
    "plt.title(\"Prediction Histogram\")\n",
    "plt.xlabel(\"Pred\")\n",
    "plt.ylabel(\"Frequency\")\n",
    "plt.grid(True)\n",
    "\n",
    "# 画像として保存\n",
    "plt.savefig(os.path.join(OUTPUT_PATH, f\"Prediction_Histgram_filtered_{PREDICT_YEAR}.png\"))\n",
    "plt.close()"
   ]
  },
  {
   "cell_type": "markdown",
   "id": "47b92463",
   "metadata": {
    "papermill": {
     "duration": 0.019781,
     "end_time": "2025-03-13T20:59:52.548998",
     "exception": false,
     "start_time": "2025-03-13T20:59:52.529217",
     "status": "completed"
    },
    "tags": []
   },
   "source": [
    "# スコア算出、まとめ、\n",
    "ここまでで提出ファイル作成。ここからは過去年度のシミュレーションに対してBrier scoreやその他指標の算出"
   ]
  },
  {
   "cell_type": "code",
   "execution_count": 39,
   "id": "dc10edae",
   "metadata": {
    "execution": {
     "iopub.execute_input": "2025-03-13T20:59:52.587319Z",
     "iopub.status.busy": "2025-03-13T20:59:52.587319Z",
     "iopub.status.idle": "2025-03-13T20:59:52.763846Z",
     "shell.execute_reply": "2025-03-13T20:59:52.763846Z"
    },
    "papermill": {
     "duration": 0.197334,
     "end_time": "2025-03-13T20:59:52.763846",
     "exception": false,
     "start_time": "2025-03-13T20:59:52.566512",
     "status": "completed"
    },
    "tags": []
   },
   "outputs": [
    {
     "data": {
      "image/png": "[encoded data removed]",
      "text/plain": [
       "<Figure size 640x480 with 1 Axes>"
      ]
     },
     "metadata": {},
     "output_type": "display_data"
    }
   ],
   "source": [
    "sub[\"Pred\"].hist()\n",
    "results+=[\"\", f\"Pred mean: {sub['Pred'].mean()}\", \"\"]\n",
    "\n",
    "plt.figure(figsize=(8, 6))\n",
    "sub[\"Pred\"].hist(bins=50)\n",
    "plt.title(\"Prediction Histogram\")\n",
    "plt.xlabel(\"Pred\")\n",
    "plt.ylabel(\"Frequency\")\n",
    "plt.grid(True)\n",
    "\n",
    "# 画像として保存\n",
    "plt.savefig(os.path.join(OUTPUT_PATH, f\"Prediction_Histgram_{PREDICT_YEAR}.png\"))\n",
    "plt.close()"
   ]
  },
  {
   "cell_type": "markdown",
   "id": "ec0762c8",
   "metadata": {
    "papermill": {
     "duration": 0.018171,
     "end_time": "2025-03-13T20:59:52.793303",
     "exception": false,
     "start_time": "2025-03-13T20:59:52.775132",
     "status": "completed"
    },
    "tags": []
   },
   "source": [
    "存在するはずのない予測年度のトーナメント結果をもとに(Pred, label)を取り出し、以下を行う。\n",
    "\n",
    "- 各評価指標の計算\n",
    "- キャリブレーション可視化\n",
    "- AUC可視化"
   ]
  },
  {
   "cell_type": "code",
   "execution_count": 40,
   "id": "a021346b",
   "metadata": {
    "execution": {
     "iopub.execute_input": "2025-03-13T20:59:52.832471Z",
     "iopub.status.busy": "2025-03-13T20:59:52.832471Z",
     "iopub.status.idle": "2025-03-13T20:59:52.846537Z",
     "shell.execute_reply": "2025-03-13T20:59:52.846537Z"
    },
    "papermill": {
     "duration": 0.041447,
     "end_time": "2025-03-13T20:59:52.848876",
     "exception": false,
     "start_time": "2025-03-13T20:59:52.807429",
     "status": "completed"
    },
    "tags": []
   },
   "outputs": [],
   "source": [
    "def extract_labels_and_preds(sub, tourney):\n",
    "    \"\"\" 試合データから予測値 (Pred) と正解ラベル (label) を抽出する \"\"\"\n",
    "    label_data = tourney[[\"WTeamID\", \"LTeamID\", \"WScore\", \"LScore\"]]\n",
    "    label_data = label_data.rename(columns={\"WTeamID\": \"T1_TeamID\", \"LTeamID\": \"T2_TeamID\", \"WScore\": \"T1_Score\", \"LScore\": \"T2_Score\"})\n",
    "    temp = label_data.copy()\n",
    "    temp = temp.rename(columns={\"T1_TeamID\": \"T2_TeamID\", \"T2_TeamID\": \"T1_TeamID\", \"T1_Score\": \"T2_Score\", \"T2_Score\": \"T1_Score\"})\n",
    "    label_data = pd.concat([label_data, temp]).reset_index(drop=True)\n",
    "    \n",
    "    label_data = pd.merge(label_data, sub, on=[\"T1_TeamID\", \"T2_TeamID\"], how=\"left\")\n",
    "    label_data[\"label\"] = np.where(label_data[\"T1_Score\"] - label_data[\"T2_Score\"] > 0, 1, 0)\n",
    "    label_data = label_data.dropna(subset=[\"Pred\"])  # 欠損値を削除\n",
    "    \n",
    "    return label_data[[\"label\", \"Pred\"]]\n",
    "\n",
    "def calculate_metrics(label_data):\n",
    "    \"\"\" 各評価指標を計算 \"\"\"\n",
    "    brier_score = round(mean_squared_error(label_data[\"label\"], label_data[\"Pred\"]), 5)  # Brier Score (MSEと同じ)\n",
    "    rmse_score = round(mean_squared_error(label_data[\"label\"], label_data[\"Pred\"], squared=False), 5)  # RMSE\n",
    "    logloss_score = round(log_loss(label_data[\"label\"], label_data[\"Pred\"]), 5)  # Log Loss\n",
    "    mae_score = round(mean_absolute_error(label_data[\"label\"], label_data[\"Pred\"]), 5)  # MAE\n",
    "    \n",
    "    return {\n",
    "        \"Brier Score\": brier_score,\n",
    "        \"RMSE\": rmse_score,\n",
    "        \"Log Loss\": logloss_score,\n",
    "        \"MAE\": mae_score\n",
    "    }\n",
    "\n",
    "def plot_calibration_curve(label_data, n_bins=10):\n",
    "    \"\"\" キャリブレーションカーブをプロット \"\"\"\n",
    "    prob_true, prob_pred = calibration_curve(label_data[\"label\"], label_data[\"Pred\"], n_bins=n_bins)\n",
    "    \n",
    "    plt.figure(figsize=(6,6))\n",
    "    plt.plot(prob_pred, prob_true, marker=\"o\", label=\"Model Calibration\")\n",
    "    plt.plot([0, 1], [0, 1], linestyle=\"--\", label=\"Perfect Calibration\")\n",
    "    plt.xlabel(\"Predicted Probability\")\n",
    "    plt.ylabel(\"Actual Probability\")\n",
    "    plt.legend()\n",
    "    plt.title(\"Calibration Curve\")\n",
    "    plt.show()\n",
    "\n",
    "def calculate_auc_metrics(label_data):\n",
    "    global results\n",
    "    \"\"\" AUC-ROCとAUC-PRを計算 \"\"\"\n",
    "    auc_roc = roc_auc_score(label_data[\"label\"], label_data[\"Pred\"])\n",
    "    auc_pr = average_precision_score(label_data[\"label\"], label_data[\"Pred\"])\n",
    "    \n",
    "    print(f\"AUC-ROC: {auc_roc:.4f}\")\n",
    "    print(f\"AUC-PR: {auc_pr:.4f}\")\n",
    "    results += [\"---- AUC -----\", f\"AUC-ROC: {auc_roc:.4f}\", f\"AUC-PR: {auc_pr:.4f}\"]\n",
    "    "
   ]
  },
  {
   "cell_type": "code",
   "execution_count": 41,
   "id": "f13a877b",
   "metadata": {
    "execution": {
     "iopub.execute_input": "2025-03-13T20:59:52.890306Z",
     "iopub.status.busy": "2025-03-13T20:59:52.890306Z",
     "iopub.status.idle": "2025-03-13T20:59:52.979979Z",
     "shell.execute_reply": "2025-03-13T20:59:52.979979Z"
    },
    "papermill": {
     "duration": 0.11251,
     "end_time": "2025-03-13T20:59:52.979979",
     "exception": false,
     "start_time": "2025-03-13T20:59:52.867469",
     "status": "completed"
    },
    "tags": []
   },
   "outputs": [
    {
     "name": "stderr",
     "output_type": "stream",
     "text": [
      "C:\\Users\\81809\\anaconda3\\envs\\deep_learning_pytorch\\Lib\\site-packages\\sklearn\\metrics\\_regression.py:492: FutureWarning: 'squared' is deprecated in version 1.4 and will be removed in 1.6. To calculate the root mean squared error, use the function'root_mean_squared_error'.\n",
      "  warnings.warn(\n"
     ]
    },
    {
     "data": {
      "image/png": "[encoded data removed]",
      "text/plain": [
       "<Figure size 600x600 with 1 Axes>"
      ]
     },
     "metadata": {},
     "output_type": "display_data"
    },
    {
     "name": "stdout",
     "output_type": "stream",
     "text": [
      "AUC-ROC: 0.7615\n",
      "AUC-PR: 0.8733\n",
      "MAE: 0.4093\n",
      "\n",
      "---- AUC -----\n",
      "AUC-ROC: 0.7615\n",
      "AUC-PR: 0.8733\n"
     ]
    }
   ],
   "source": [
    "if PREDICT_YEAR == 2022:\n",
    "    notexist_MAN = notexist[notexist[\"WTeamID\"].astype(str).str.startswith(\"1\")]\n",
    "    notexist_WOMAN = notexist[notexist[\"WTeamID\"].astype(str).str.startswith(\"3\")]\n",
    "    label_data = extract_labels_and_preds(sub, notexist) ######\n",
    "else:\n",
    "    label_data = extract_labels_and_preds(sub, notexist)\n",
    "\n",
    "# 評価指標の計算\n",
    "score = calculate_metrics(label_data)\n",
    "results += [\"\",\"-----eval metrics-----\",\n",
    "            f\"Brier Score: {score['Brier Score']}\", \n",
    "            f\"RMSE: {score['RMSE']}\", \n",
    "            f\"Log Loss: {score['Log Loss']}\", \n",
    "            f\"MAE: {score['MAE']}\", \"\"]\n",
    "\n",
    "# キャリブレーションの確認\n",
    "plot_calibration_curve(label_data)\n",
    "\n",
    "# AUCの評価\n",
    "calculate_auc_metrics(label_data)\n",
    "\n",
    "for temp in range(-5, 0):\n",
    "    print(results[temp])"
   ]
  },
  {
   "cell_type": "code",
   "execution_count": 42,
   "id": "41ee8a6f",
   "metadata": {
    "execution": {
     "iopub.execute_input": "2025-03-13T20:59:53.023344Z",
     "iopub.status.busy": "2025-03-13T20:59:53.023344Z",
     "iopub.status.idle": "2025-03-13T20:59:53.028340Z",
     "shell.execute_reply": "2025-03-13T20:59:53.028340Z"
    },
    "papermill": {
     "duration": 0.028099,
     "end_time": "2025-03-13T20:59:53.029774",
     "exception": false,
     "start_time": "2025-03-13T20:59:53.001675",
     "status": "completed"
    },
    "tags": []
   },
   "outputs": [
    {
     "data": {
      "text/plain": [
       "'if PREDICT_YEAR!=2025:\\n    predict_year_label =notexist[[\"WTeamID\", \"LTeamID\", \"WScore\", \"LScore\"]].copy()\\n    predict_year_label.loc[:, \"Win\"] = np.where(predict_year_label[\"WScore\"] - predict_year_label[\"LScore\"] > 0, 1, 0)\\n    predict_year_label = predict_year_label[[\"WTeamID\", \"LTeamID\", \"Win\"]]\\n   \\n    predict_year_label.columns = [\"T1_TeamID\", \"T2_TeamID\", \"Win\"]\\n\\n    predict_year_label = pd.merge(predict_year_label, sub, on=[\"T1_TeamID\", \"T2_TeamID\"], how=\"left\")\\n    brier_score = np.mean((predict_year_label[\"Pred\"] - predict_year_label[\"Win\"])**2)\\n\\n    print(\"Brier Score:\", brier_score)\\n    results+=[f\"Brier Score: {brier_score}\", \"\"]\\n    predict_year_label.info()\\n'"
      ]
     },
     "execution_count": 42,
     "metadata": {},
     "output_type": "execute_result"
    }
   ],
   "source": [
    "\"\"\"if PREDICT_YEAR!=2025:\n",
    "    predict_year_label =notexist[[\"WTeamID\", \"LTeamID\", \"WScore\", \"LScore\"]].copy()\n",
    "    predict_year_label.loc[:, \"Win\"] = np.where(predict_year_label[\"WScore\"] - predict_year_label[\"LScore\"] > 0, 1, 0)\n",
    "    predict_year_label = predict_year_label[[\"WTeamID\", \"LTeamID\", \"Win\"]]\n",
    "   \n",
    "    predict_year_label.columns = [\"T1_TeamID\", \"T2_TeamID\", \"Win\"]\n",
    "\n",
    "    predict_year_label = pd.merge(predict_year_label, sub, on=[\"T1_TeamID\", \"T2_TeamID\"], how=\"left\")\n",
    "    brier_score = np.mean((predict_year_label[\"Pred\"] - predict_year_label[\"Win\"])**2)\n",
    "\n",
    "    print(\"Brier Score:\", brier_score)\n",
    "    results+=[f\"Brier Score: {brier_score}\", \"\"]\n",
    "    predict_year_label.info()\n",
    "\"\"\""
   ]
  },
  {
   "cell_type": "code",
   "execution_count": 43,
   "id": "ab192872",
   "metadata": {
    "execution": {
     "iopub.execute_input": "2025-03-13T20:59:53.071220Z",
     "iopub.status.busy": "2025-03-13T20:59:53.071220Z",
     "iopub.status.idle": "2025-03-13T20:59:53.076416Z",
     "shell.execute_reply": "2025-03-13T20:59:53.076416Z"
    },
    "papermill": {
     "duration": 0.02966,
     "end_time": "2025-03-13T20:59:53.078447",
     "exception": false,
     "start_time": "2025-03-13T20:59:53.048787",
     "status": "completed"
    },
    "tags": []
   },
   "outputs": [
    {
     "name": "stdout",
     "output_type": "stream",
     "text": [
      "実行時間： 693.8秒\n"
     ]
    }
   ],
   "source": [
    "END_TIME = time.time()\n",
    "ELAPSED_TIME = END_TIME - START_TIME\n",
    "print(f\"実行時間： {ELAPSED_TIME:.1f}秒\")\n",
    "results.append(f\"実行時間： {ELAPSED_TIME:.1f}秒\")\n",
    "\n",
    "with open(os.path.join(OUTPUT_PATH, \"result.txt\"), \"a\", encoding=\"utf-8\") as f:\n",
    "    for line in results:\n",
    "        f.write(line + \"\\n\")"
   ]
  },
  {
   "cell_type": "code",
   "execution_count": 44,
   "id": "8a85dc5b",
   "metadata": {
    "execution": {
     "iopub.execute_input": "2025-03-13T20:59:53.116859Z",
     "iopub.status.busy": "2025-03-13T20:59:53.116859Z",
     "iopub.status.idle": "2025-03-13T20:59:53.122028Z",
     "shell.execute_reply": "2025-03-13T20:59:53.122028Z"
    },
    "papermill": {
     "duration": 0.024255,
     "end_time": "2025-03-13T20:59:53.122028",
     "exception": false,
     "start_time": "2025-03-13T20:59:53.097773",
     "status": "completed"
    },
    "tags": []
   },
   "outputs": [],
   "source": [
    "logger.remove()"
   ]
  }
 ],
 "metadata": {
  "kernelspec": {
   "display_name": "deep_learning_pytorch",
   "language": "python",
   "name": "python3"
  },
  "language_info": {
   "codemirror_mode": {
    "name": "ipython",
    "version": 3
   },
   "file_extension": ".py",
   "mimetype": "text/x-python",
   "name": "python",
   "nbconvert_exporter": "python",
   "pygments_lexer": "ipython3",
   "version": "3.11.9"
  },
  "papermill": {
   "default_parameters": {},
   "duration": 697.770872,
   "end_time": "2025-03-13T20:59:53.702863",
   "environment_variables": {},
   "exception": null,
   "input_path": "c:\\Users\\81809\\Documents\\ALL_CODE\\kaggle\\March Machine Learning Mania 2025\\notebook\\1stplace_solution_2023.ipynb",
   "output_path": "exp076_20250314_054815.ipynb",
   "parameters": {
    "EXP_NUM": "exp076"
   },
   "start_time": "2025-03-13T20:48:15.931991",
   "version": "2.6.0"
  }
 },
 "nbformat": 4,
 "nbformat_minor": 5
}