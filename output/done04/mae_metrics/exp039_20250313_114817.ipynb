{
 "cells": [
  {
   "cell_type": "code",
   "execution_count": 1,
   "id": "3d802487",
   "metadata": {
    "execution": {
     "iopub.execute_input": "2025-03-13T02:48:19.670062Z",
     "iopub.status.busy": "2025-03-13T02:48:19.670062Z",
     "iopub.status.idle": "2025-03-13T02:48:19.686747Z",
     "shell.execute_reply": "2025-03-13T02:48:19.686747Z"
    },
    "papermill": {
     "duration": 0.0183,
     "end_time": "2025-03-13T02:48:19.686747",
     "exception": false,
     "start_time": "2025-03-13T02:48:19.668447",
     "status": "completed"
    },
    "tags": [
     "parameters"
    ]
   },
   "outputs": [],
   "source": [
    "# Parameters\n",
    "EXP_NUM = \"default\""
   ]
  },
  {
   "cell_type": "code",
   "execution_count": 2,
   "id": "f25c3a55",
   "metadata": {
    "execution": {
     "iopub.execute_input": "2025-03-13T02:48:19.702817Z",
     "iopub.status.busy": "2025-03-13T02:48:19.702260Z",
     "iopub.status.idle": "2025-03-13T02:48:19.706545Z",
     "shell.execute_reply": "2025-03-13T02:48:19.706545Z"
    },
    "papermill": {
     "duration": 0.014198,
     "end_time": "2025-03-13T02:48:19.708571",
     "exception": false,
     "start_time": "2025-03-13T02:48:19.694373",
     "status": "completed"
    },
    "tags": [
     "injected-parameters"
    ]
   },
   "outputs": [],
   "source": [
    "# Parameters\n",
    "EXP_NUM = \"exp039\"\n"
   ]
  },
  {
   "cell_type": "markdown",
   "id": "6e5a6ead",
   "metadata": {
    "papermill": {
     "duration": 0.012471,
     "end_time": "2025-03-13T02:48:19.721042",
     "exception": false,
     "start_time": "2025-03-13T02:48:19.708571",
     "status": "completed"
    },
    "tags": []
   },
   "source": [
    "# 2023 1st place solution\n",
    "[kaggle notebook](https://www.kaggle.com/code/rustyb/paris-madness-2023#Load-the-data!)"
   ]
  },
  {
   "cell_type": "markdown",
   "id": "09d9bf05",
   "metadata": {
    "papermill": {
     "duration": 0.014136,
     "end_time": "2025-03-13T02:48:19.738076",
     "exception": false,
     "start_time": "2025-03-13T02:48:19.723940",
     "status": "completed"
    },
    "tags": []
   },
   "source": [
    "# コードの流れ\n",
    "1. hydraからハイパラ取得し、パスなどを設定\n",
    "\n",
    "    regular&tourney Detaile Result, Seedを使用し、tourneyを目的変数としてモデルを予測していく\n",
    "\n",
    "    regular_data->season_statistics->\n",
    "\n",
    "    以下の前処理をする\n",
    "\n",
    "2. データ２倍にかさまし\n",
    "3. regularに対して特徴量の追加\n",
    "    各チームごとに加えるもの\n",
    "   - EFFG: フィールドゴール成功率\n",
    "   - EFFG3: フィールドゴール3p成功率\n",
    "   - DARE: フィールドゴールにおける3P率\n",
    "   - \"win\"を目的変数とする(Team, Season)のロジスティック回帰した各係数\n",
    "    対戦カードごとに加える特徴量\n",
    "    - PointDiff: ポイント差\n",
    "    - win: 1 if PointDiff>0 else 0\n",
    "4. (Team, Season)ごとに特徴量season_statixtics追加\n",
    "    - win_ratio_14d\n",
    "    - box score mean\n",
    "    - quality\n",
    "    - seed\n",
    "5. season_average.enabled=trueなら直近３シーズンの加重平均の処理加える\n",
    "6. tourneyをteamID, Season, score(y)のみ取り出してこれに対してseason_statisticsの結合と特徴量微調整\n",
    "   - seed->seeddiff\n",
    "   - fillna()\n",
    "\n",
    "7. モデル構築\n",
    "8. KFOLD->OOF予測->spline曲線求めてlogloss算出\n",
    "    - KFOLDによる交差検証（CV）\n",
    "        repeat_cv 回のループで、各反復ごとにKFold（folds_splits個）によりデータを分割し、XGBoostのCVを実行しています。\n",
    "        各foldでの結果（例えば、訓練MAE、検証MAEの平均値や標準偏差）がcv_resultとして得られ、それをxgb_cvリストに格納します。\n",
    "        この段階で重要なのは、各反復での検証用MAEの平均値 (test-mae-mean) の最小値と、そのときのブーストラウンド数です。\n",
    "        それらは後で、最適なイテレーション数 (iteration_counts) として計算され、val_mae にも格納されます。\n",
    "    - OOF予測の流れ\n",
    "\n",
    "        各反復ごとに、新たなKFoldを用いてデータを分割。\n",
    "        各foldごとに、学習データでモデルを訓練し、検証データに対して予測を実施。\n",
    "        すべてのfold分の予測結果を1つの予測配列にまとめ、最後に -30～30 の範囲にクリップしています。\n",
    "        重要な結果\n",
    "\n",
    "        OOF予測結果（oof_preds）自体は後段で別途評価指標に使用できるほか、各反復ごとの予測精度や誤差を算出する際の基礎データ\n",
    "9.  提出フェーズ\n",
    "    - 最適paramで全データ使って訓練\n",
    "    - 提出試合の予測"
   ]
  },
  {
   "cell_type": "markdown",
   "id": "87e08638",
   "metadata": {
    "papermill": {
     "duration": 0.006076,
     "end_time": "2025-03-13T02:48:19.745735",
     "exception": false,
     "start_time": "2025-03-13T02:48:19.739659",
     "status": "completed"
    },
    "tags": []
   },
   "source": [
    "memo\n",
    "\n",
    "欠損値が発生していいのか検討して保管について考える\n",
    "seedがかけているのはregularに対してseedを与えているから大丈夫。最終的なtourneyには欠損０で追加できているから問題ない"
   ]
  },
  {
   "cell_type": "code",
   "execution_count": 3,
   "id": "ac6e7f36",
   "metadata": {
    "execution": {
     "iopub.execute_input": "2025-03-13T02:48:19.753466Z",
     "iopub.status.busy": "2025-03-13T02:48:19.753466Z",
     "iopub.status.idle": "2025-03-13T02:48:19.773795Z",
     "shell.execute_reply": "2025-03-13T02:48:19.773795Z"
    },
    "papermill": {
     "duration": 0.020329,
     "end_time": "2025-03-13T02:48:19.773795",
     "exception": false,
     "start_time": "2025-03-13T02:48:19.753466",
     "status": "completed"
    },
    "tags": []
   },
   "outputs": [
    {
     "name": "stdout",
     "output_type": "stream",
     "text": [
      "Current working directory: c:\\Users\\81809\\Documents\\ALL_CODE\\kaggle\\March Machine Learning Mania 2025\\notebook\n",
      "これ出力されてんの？\n"
     ]
    }
   ],
   "source": [
    "import os\n",
    "print(\"Current working directory:\", os.getcwd())\n",
    "print(\"これ出力されてんの？\")"
   ]
  },
  {
   "cell_type": "code",
   "execution_count": 4,
   "id": "4a174634",
   "metadata": {
    "execution": {
     "iopub.execute_input": "2025-03-13T02:48:19.786508Z",
     "iopub.status.busy": "2025-03-13T02:48:19.786508Z",
     "iopub.status.idle": "2025-03-13T02:48:22.123293Z",
     "shell.execute_reply": "2025-03-13T02:48:22.123293Z"
    },
    "papermill": {
     "duration": 2.349498,
     "end_time": "2025-03-13T02:48:22.123293",
     "exception": false,
     "start_time": "2025-03-13T02:48:19.773795",
     "status": "completed"
    },
    "tags": []
   },
   "outputs": [
    {
     "name": "stderr",
     "output_type": "stream",
     "text": [
      "C:\\Users\\81809\\anaconda3\\envs\\deep_learning_pytorch\\Lib\\site-packages\\tqdm\\auto.py:21: TqdmWarning: IProgress not found. Please update jupyter and ipywidgets. See https://ipywidgets.readthedocs.io/en/stable/user_install.html\n",
      "  from .autonotebook import tqdm as notebook_tqdm\n"
     ]
    },
    {
     "name": "stdout",
     "output_type": "stream",
     "text": [
      "exp039\n",
      "Omega conf is below\n",
      "dir:\n",
      "  input_dir: ../input\n",
      "  output_dir: ../output\n",
      "  src_path: ../src\n",
      "  conf_path: ../conf\n",
      "exp:\n",
      "  name: mae_metrics\n",
      "  print_name: base change mae metrics\n",
      "  tournament:\n",
      "    use_start_season: 1985\n",
      "    target_season: 2021\n",
      "  features:\n",
      "    cal_mean_boxscore:\n",
      "      T1_Score: true\n",
      "      T2_Score: true\n",
      "      PointDiff: true\n",
      "      T1_FGM: true\n",
      "      T2_FGM: true\n",
      "      T1_FGA: true\n",
      "      T2_FGA: true\n",
      "      T1_FGM3: true\n",
      "      T2_FGM3: true\n",
      "      T1_FGA3: true\n",
      "      T2_FGA3: true\n",
      "      T1_FTM: true\n",
      "      T2_FTM: true\n",
      "      T1_FTA: true\n",
      "      T2_FTA: true\n",
      "      T1_EFFG: false\n",
      "      T2_EFFG: false\n",
      "      T1_EFFG3: false\n",
      "      T2_EFFG3: false\n",
      "      T1_EFG_SUM: true\n",
      "      T2_EFG_SUM: true\n",
      "      T1_TO_RATIO: true\n",
      "      T2_TO_RATIO: true\n",
      "      T1_OR: true\n",
      "      T2_OR: true\n",
      "      T1_DR: true\n",
      "      T2_DR: true\n",
      "      T1_REB_RATE: true\n",
      "      T2_REB_RATE: true\n",
      "      T1_FT_RATE: true\n",
      "      T2_FT_RATE: true\n",
      "      T1_RATING: false\n",
      "      T2_RATING: false\n",
      "      T1_POSS_RATE: true\n",
      "      T2_POSS_RATE: true\n",
      "      T1_Ast: true\n",
      "      T2_Ast: true\n",
      "      T1_TO: true\n",
      "      T2_TO: true\n",
      "      T1_Stl: true\n",
      "      T2_Stl: true\n",
      "      T1_Blk: true\n",
      "      T2_Blk: true\n",
      "      T1_PF: true\n",
      "      T2_PF: true\n",
      "      T1_DARE: false\n",
      "      T2_DARE: false\n",
      "      T1_TOQUETOQUE: false\n",
      "      T2_TOQUETOQUE: false\n",
      "    rank_diff: true\n",
      "    start_quality_season: 2003\n",
      "    season_average:\n",
      "      enabled: false\n",
      "      past_years: 3\n",
      "      weights:\n",
      "      - 1\n",
      "      - 2\n",
      "      - 3\n",
      "    fillna:\n",
      "      quality: 'nan'\n",
      "  model:\n",
      "    repeat_cv: 10\n",
      "    optuna_enabled: false\n",
      "    xgb_model:\n",
      "      param:\n",
      "        eval_metric: mae\n",
      "        booster: gbtree\n",
      "        eta: 0.02\n",
      "        subsample: 0.35\n",
      "        colsample_bytree: 0.7\n",
      "        num_parallel_tree: 10\n",
      "        min_child_weight: 40\n",
      "        gamma: 10\n",
      "        max_depth: 3\n",
      "      obj: cauchyoj\n",
      "      num_boost_round: 3000\n",
      "      folds_splits: 5\n",
      "      early_stopping_rounds: 25\n",
      "      optuna:\n",
      "        max_depth:\n",
      "        - 3\n",
      "        - 7\n",
      "        eta:\n",
      "        - 0.001\n",
      "        - 0.03\n",
      "        subsample:\n",
      "        - 0.2\n",
      "        - 0.5\n",
      "        colsample_bytree:\n",
      "        - 0.5\n",
      "        - 1.0\n",
      "        num_parallel_tree:\n",
      "        - 7\n",
      "        - 12\n",
      "        min_child_weight:\n",
      "        - 30\n",
      "        - 50\n",
      "        reg_alpha:\n",
      "        - 0.0\n",
      "        - 1.0\n",
      "        reg_lambda:\n",
      "        - 0.0\n",
      "        - 1.0\n",
      "        gamma:\n",
      "        - 0\n",
      "        - 10\n",
      "        n_trials: 1000\n",
      "        timeout: 28800\n",
      "        n_jobs: -1\n",
      "        n_warmup_steps: 3\n",
      "    spline: logistic\n",
      "  hand_labeling: null\n",
      "\n"
     ]
    }
   ],
   "source": [
    "\n",
    "import os\n",
    "import sys\n",
    "from pathlib import Path\n",
    "import collections\n",
    "from datetime import datetime\n",
    "import shutil\n",
    "import yaml\n",
    "from tqdm import tqdm\n",
    "import time\n",
    "import optuna\n",
    "from loguru import logger\n",
    "import collections\n",
    "\n",
    "from hydra import initialize, initialize_config_module, initialize_config_dir, compose\n",
    "from omegaconf import OmegaConf\n",
    "\n",
    "import numpy as np\n",
    "import pandas as pd\n",
    "import matplotlib.pyplot as plt\n",
    "import seaborn as sns\n",
    "from scipy.interpolate import UnivariateSpline\n",
    "\n",
    "import xgboost as xgb\n",
    "from xgboost import XGBRegressor\n",
    "from sklearn.model_selection import KFold\n",
    "from sklearn.calibration import calibration_curve\n",
    "from sklearn.metrics import log_loss,mean_squared_error, mean_absolute_error, roc_auc_score, average_precision_score\n",
    "from sklearn.metrics import make_scorer\n",
    "from sklearn.model_selection import cross_val_score, KFold\n",
    "from sklearn.linear_model import LogisticRegression\n",
    "from sklearn.preprocessing import OneHotEncoder\n",
    "from sklearn.isotonic import IsotonicRegression\n",
    "\n",
    "import statsmodels.api as sm\n",
    "\n",
    "START_TIME = time.time()\n",
    "\n",
    "\n",
    "#####\n",
    "#EXP_NUM = \"exp030\"\n",
    "#####\n",
    "print(EXP_NUM)\n",
    "\n",
    "# hydraの初期設定と指定ハイパラの取得\n",
    "sys.path.append(os.path.abspath(\"/workspace\"))\n",
    "sys.path.append(\"C:\\\\Users\\\\81809\\\\Documents\\\\ALL_CODE\\\\kaggle\\\\March Machine Learning Mania 2025\")\n",
    "with initialize_config_module(version_base=None, config_module=\"conf\"):\n",
    "    cfg = compose(\n",
    "        config_name=\"base.yaml\",\n",
    "        overrides=[\n",
    "            f\"+exp={EXP_NUM}\" #defaultexp001->exp002のオーバーライド\n",
    "        ],\n",
    "    )\n",
    "    \n",
    "    OmegaConf.resolve(cfg)\n",
    "    print(\"Omega conf is below\")\n",
    "    print(OmegaConf.to_yaml(cfg))\n"
   ]
  },
  {
   "cell_type": "code",
   "execution_count": 5,
   "id": "a4942019",
   "metadata": {
    "execution": {
     "iopub.execute_input": "2025-03-13T02:48:22.133897Z",
     "iopub.status.busy": "2025-03-13T02:48:22.133897Z",
     "iopub.status.idle": "2025-03-13T02:48:22.152017Z",
     "shell.execute_reply": "2025-03-13T02:48:22.151637Z"
    },
    "papermill": {
     "duration": 0.031394,
     "end_time": "2025-03-13T02:48:22.154687",
     "exception": false,
     "start_time": "2025-03-13T02:48:22.123293",
     "status": "completed"
    },
    "tags": []
   },
   "outputs": [
    {
     "name": "stdout",
     "output_type": "stream",
     "text": [
      "########\n",
      "output dir name: mae_metrics\n",
      "Run on 2025-03-13 11:48:22.133897\n",
      "base change mae metrics\n",
      "########\n"
     ]
    }
   ],
   "source": [
    "PREDICT_YEAR = cfg.exp.tournament.target_season\n",
    "name = f\"{cfg.exp.name}\"\n",
    "now = str(datetime.now())\n",
    "print(\"########\")\n",
    "print(f\"output dir name: {name}\")\n",
    "print(f\"Run on {now}\")\n",
    "print(cfg.exp.print_name)\n",
    "print(\"########\")\n",
    "\n",
    "BASE_DIR = os.path.abspath(os.path.join(os.getcwd(), \"..\"))\n",
    "CONF_PATH = os.path.join(BASE_DIR, \"conf\")\n",
    "INPUT_PATH = os.path.join(BASE_DIR, \"input\")\n",
    "EXP_PATH = os.path.join(CONF_PATH, \"exp\", f\"{EXP_NUM}.yaml\")\n",
    "OUTPUT_PATH = os.path.join(BASE_DIR, \"output\", name)\n",
    "SRC_PATH = cfg.dir.src_path\n",
    "sys.path.append(SRC_PATH)\n",
    "\n",
    "os.makedirs(OUTPUT_PATH, exist_ok=True)  \n",
    "with open(EXP_PATH, \"r\", encoding=\"utf-8\") as f:\n",
    "    config = yaml.safe_load(f)\n",
    "shutil.copyfile(EXP_PATH, os.path.join(OUTPUT_PATH, f\"{EXP_NUM}.yaml\"))\n",
    "\n",
    "\n",
    "y_season = cfg.exp.tournament.target_season\n",
    "FEATURES = cfg.exp.features\n",
    "MODEL = cfg.exp.model\n",
    "results = [\"\", f\"-----{PREDICT_YEAR}-----\", now ,name, cfg.exp.print_name,\"\"]"
   ]
  },
  {
   "cell_type": "code",
   "execution_count": 6,
   "id": "70f4a8ea",
   "metadata": {
    "execution": {
     "iopub.execute_input": "2025-03-13T02:48:22.174248Z",
     "iopub.status.busy": "2025-03-13T02:48:22.174248Z",
     "iopub.status.idle": "2025-03-13T02:48:23.821454Z",
     "shell.execute_reply": "2025-03-13T02:48:23.821454Z"
    },
    "papermill": {
     "duration": 1.657825,
     "end_time": "2025-03-13T02:48:23.821454",
     "exception": false,
     "start_time": "2025-03-13T02:48:22.163629",
     "status": "completed"
    },
    "tags": []
   },
   "outputs": [],
   "source": [
    "tourney_results = pd.concat([\n",
    "    pd.read_csv(os.path.join(INPUT_PATH,\"MNCAATourneyDetailedResults.csv\")),\n",
    "    pd.read_csv(os.path.join(INPUT_PATH,\"WNCAATourneyDetailedResults.csv\")),\n",
    "], ignore_index=True)\n",
    "\n",
    "seeds = pd.concat([\n",
    "    pd.read_csv(os.path.join(INPUT_PATH,\"MNCAATourneySeeds.csv\")),\n",
    "    pd.read_csv(os.path.join(INPUT_PATH,\"WNCAATourneySeeds.csv\")),\n",
    "], ignore_index=True)\n",
    "\n",
    "regular_results = pd.concat([\n",
    "    pd.read_csv(os.path.join(INPUT_PATH, \"MRegularSeasonDetailedResults.csv\")),\n",
    "    pd.read_csv(os.path.join(INPUT_PATH,\"WRegularSeasonDetailedResults.csv\")),\n",
    "], ignore_index=True)\n",
    "\n",
    "ordinal_rank = pd.read_csv(os.path.join(INPUT_PATH, \"MMasseyOrdinals.csv\"))\n",
    "\n",
    "# 1試合情報からWin,Lose反転させてデータ数２倍にかさまし and WLoc -> location(0 or -1 or 1)\n",
    "def prepare_data(df1):\n",
    "    df = df1.copy()\n",
    "    ### add new box score\n",
    "    #type1: normal EFG\n",
    "    df['WEFFG'] = df['WFGM'] / df['WFGA']\n",
    "    df['LEFFG'] = df['LFGM'] / df['LFGA']\n",
    "    #type2: 1stfeature EFG\n",
    "    df['WEFFG3'] = np.where(df['WFGA3'] == 0, 0, df['WFGM3'] / df['WFGA3'])\n",
    "    df['LEFFG3'] = np.where(df['LFGA3'] == 0, 0, df['LFGM3'] / df['LFGA3'])\n",
    "    df['WDARE'] = df['WFGM3'] / df['WFGM']\n",
    "    df['LDARE'] = df['LFGM3'] / df['LFGM']\n",
    "    df['WTOQUETOQUE'] = df['WAst'] / df['WFGM']\n",
    "    df['LTOQUETOQUE'] = df['LAst'] / df['LFGM']\n",
    "    #type3: OFF/DEF FGE\n",
    "    df[\"WEFG_SUM\"] = (df[\"WFGM\"]+0.5*df[\"WFGM3\"])/df[\"WFGA\"]\n",
    "    df[\"LEFG_SUM\"] = (df[\"LFGM\"]+0.5*df[\"LFGM3\"])/df[\"LFGA\"]\n",
    "\n",
    "    #POSS RATE\n",
    "    df[\"WPOSS\"] = df[\"WFGA\"] + 0.44*df[\"WFTA\"] - df[\"WOR\"] + df[\"WTO\"]\n",
    "    df[\"LPOSS\"] = df[\"LFGA\"] + 0.44*df[\"LFTA\"] - df[\"LOR\"] + df[\"LTO\"]\n",
    "    df[\"WPOSS_RATE\"] = df[\"WPOSS\"]/(df[\"WPOSS\"]+df[\"LPOSS\"])\n",
    "    df[\"LPOSS_RATE\"] = df[\"LPOSS\"]/(df[\"WPOSS\"]+df[\"LPOSS\"])\n",
    "    \n",
    "    #TO Ratio \n",
    "    df[\"WTO_RATIO\"] = df[\"WTO\"]/(df[\"WFGA\"]+0.44*df[\"WFTA\"]+df[\"WTO\"])#POSS RATEと違ってOR入っていない\n",
    "    df[\"LTO_RATIO\"] = df[\"LTO\"]/(df[\"LFGA\"]+0.44*df[\"LFTA\"]+df[\"LTO\"])\n",
    "    \n",
    "    # REB%\n",
    "    df[\"WREB_RATE\"] = df[\"WOR\"]/(df[\"WOR\"]+df[\"LDR\"])\n",
    "    df[\"LREB_RATE\"] = df[\"LOR\"]/(df[\"LOR\"]+df[\"WDR\"])\n",
    "    \n",
    "    #FT %\n",
    "    df[\"WFT_RATE\"] = df[\"WFTA\"]/df[\"WFGA\"]\n",
    "    df[\"LFT_RATE\"] = df[\"LFTA\"]/df[\"LFGA\"]\n",
    "    \n",
    "    #rating\n",
    "    df[\"WRATING\"] = df[\"WScore\"]/df[\"WPOSS\"]\n",
    "    df[\"LRATING\"] = df[\"LScore\"]/df[\"LPOSS\"]\n",
    "        \n",
    "    #0除算補完\n",
    "    print(df.info())\n",
    "        \n",
    "    #かさましに伴う反転カラム\n",
    "    dfswap = df.copy()\n",
    "    # Home, Away変換して反転\n",
    "    dfswap.loc[df['WLoc'] == 'H', 'WLoc'] = 'A'\n",
    "    dfswap.loc[df['WLoc'] == 'A', 'WLoc'] = 'H'\n",
    "    df.columns.values[6] = 'location'\n",
    "    dfswap.columns.values[6] = 'location'    \n",
    "    #反転\n",
    "    df.columns = [x.replace('W','T1_').replace('L','T2_') for x in list(df.columns)]\n",
    "    dfswap.columns = [x.replace('L','T1_').replace('W','T2_') for x in list(dfswap.columns)]\n",
    "    output = pd.concat([df, dfswap]).reset_index(drop=True)\n",
    "    \n",
    "    \n",
    "    #add new feature\n",
    "    #locationを数値に変換\n",
    "    output.loc[output.location=='N','location'] = '0'\n",
    "    output.loc[output.location=='H','location'] = '1'\n",
    "    output.loc[output.location=='A','location'] = '-1'\n",
    "    output.location = output.location.astype(int)\n",
    "    \n",
    "    #add PointDiff&win\n",
    "    output['PointDiff'] = output['T1_Score'] - output['T2_Score']\n",
    "    output[\"win\"] = np.where(output['PointDiff']>0,1,0)\n",
    "    \n",
    "    \n",
    "    print(f\"feature cols after prepare()\")\n",
    "    print(output.columns)\n",
    "    return output\n",
    "\n"
   ]
  },
  {
   "cell_type": "code",
   "execution_count": 7,
   "id": "7dc51fc2",
   "metadata": {
    "execution": {
     "iopub.execute_input": "2025-03-13T02:48:23.837433Z",
     "iopub.status.busy": "2025-03-13T02:48:23.837433Z",
     "iopub.status.idle": "2025-03-13T02:48:23.907742Z",
     "shell.execute_reply": "2025-03-13T02:48:23.907742Z"
    },
    "papermill": {
     "duration": 0.079212,
     "end_time": "2025-03-13T02:48:23.907742",
     "exception": false,
     "start_time": "2025-03-13T02:48:23.828530",
     "status": "completed"
    },
    "tags": []
   },
   "outputs": [
    {
     "name": "stdout",
     "output_type": "stream",
     "text": [
      "各カラムの異常値の個数を表示します。\n",
      "\n"
     ]
    }
   ],
   "source": [
    "import numpy as np\n",
    "\n",
    "# 異常値のチェック\n",
    "def check_abnormal_values(df):\n",
    "    print(\"各カラムの異常値の個数を表示します。\\n\")\n",
    "\n",
    "    for col in df.columns:\n",
    "        nan_count = df[col].isna().sum()  # NaN の数\n",
    "        inf_count = (df[col] == np.inf).sum()  # inf の数\n",
    "        neg_inf_count = (df[col] == -np.inf).sum()  # -inf の数\n",
    "\n",
    "        if nan_count > 0 or inf_count > 0 or neg_inf_count > 0:\n",
    "            print(f\"Column: {col}\")\n",
    "            print(f\"  NaN    : {nan_count}\")\n",
    "            print(f\"  Inf    : {inf_count}\")\n",
    "            print(f\"  -Inf   : {neg_inf_count}\")\n",
    "            print(\"-\" * 30)\n",
    "\n",
    "# 関数を実行\n",
    "check_abnormal_values(regular_results)\n"
   ]
  },
  {
   "cell_type": "code",
   "execution_count": 8,
   "id": "908315f3",
   "metadata": {
    "execution": {
     "iopub.execute_input": "2025-03-13T02:48:23.919786Z",
     "iopub.status.busy": "2025-03-13T02:48:23.919786Z",
     "iopub.status.idle": "2025-03-13T02:48:24.419437Z",
     "shell.execute_reply": "2025-03-13T02:48:24.419437Z"
    },
    "papermill": {
     "duration": 0.511695,
     "end_time": "2025-03-13T02:48:24.419437",
     "exception": false,
     "start_time": "2025-03-13T02:48:23.907742",
     "status": "completed"
    },
    "tags": []
   },
   "outputs": [
    {
     "name": "stdout",
     "output_type": "stream",
     "text": [
      "<class 'pandas.core.frame.DataFrame'>\n",
      "Index: 157103 entries, 0 to 178864\n",
      "Data columns (total 56 columns):\n",
      " #   Column       Non-Null Count   Dtype  \n",
      "---  ------       --------------   -----  \n",
      " 0   Season       157103 non-null  int64  \n",
      " 1   DayNum       157103 non-null  int64  \n",
      " 2   WTeamID      157103 non-null  int64  \n",
      " 3   WScore       157103 non-null  int64  \n",
      " 4   LTeamID      157103 non-null  int64  \n",
      " 5   LScore       157103 non-null  int64  \n",
      " 6   WLoc         157103 non-null  object \n",
      " 7   NumOT        157103 non-null  int64  \n",
      " 8   WFGM         157103 non-null  int64  \n",
      " 9   WFGA         157103 non-null  int64  \n",
      " 10  WFGM3        157103 non-null  int64  \n",
      " 11  WFGA3        157103 non-null  int64  \n",
      " 12  WFTM         157103 non-null  int64  \n",
      " 13  WFTA         157103 non-null  int64  \n",
      " 14  WOR          157103 non-null  int64  \n",
      " 15  WDR          157103 non-null  int64  \n",
      " 16  WAst         157103 non-null  int64  \n",
      " 17  WTO          157103 non-null  int64  \n",
      " 18  WStl         157103 non-null  int64  \n",
      " 19  WBlk         157103 non-null  int64  \n",
      " 20  WPF          157103 non-null  int64  \n",
      " 21  LFGM         157103 non-null  int64  \n",
      " 22  LFGA         157103 non-null  int64  \n",
      " 23  LFGM3        157103 non-null  int64  \n",
      " 24  LFGA3        157103 non-null  int64  \n",
      " 25  LFTM         157103 non-null  int64  \n",
      " 26  LFTA         157103 non-null  int64  \n",
      " 27  LOR          157103 non-null  int64  \n",
      " 28  LDR          157103 non-null  int64  \n",
      " 29  LAst         157103 non-null  int64  \n",
      " 30  LTO          157103 non-null  int64  \n",
      " 31  LStl         157103 non-null  int64  \n",
      " 32  LBlk         157103 non-null  int64  \n",
      " 33  LPF          157103 non-null  int64  \n",
      " 34  WEFFG        157103 non-null  float64\n",
      " 35  LEFFG        157103 non-null  float64\n",
      " 36  WEFFG3       157103 non-null  float64\n",
      " 37  LEFFG3       157103 non-null  float64\n",
      " 38  WDARE        157103 non-null  float64\n",
      " 39  LDARE        157103 non-null  float64\n",
      " 40  WTOQUETOQUE  157103 non-null  float64\n",
      " 41  LTOQUETOQUE  157103 non-null  float64\n",
      " 42  WEFG_SUM     157103 non-null  float64\n",
      " 43  LEFG_SUM     157103 non-null  float64\n",
      " 44  WPOSS        157103 non-null  float64\n",
      " 45  LPOSS        157103 non-null  float64\n",
      " 46  WPOSS_RATE   157103 non-null  float64\n",
      " 47  LPOSS_RATE   157103 non-null  float64\n",
      " 48  WTO_RATIO    157103 non-null  float64\n",
      " 49  LTO_RATIO    157103 non-null  float64\n",
      " 50  WREB_RATE    157103 non-null  float64\n",
      " 51  LREB_RATE    157103 non-null  float64\n",
      " 52  WFT_RATE     157103 non-null  float64\n",
      " 53  LFT_RATE     157103 non-null  float64\n",
      " 54  WRATING      157103 non-null  float64\n",
      " 55  LRATING      157103 non-null  float64\n",
      "dtypes: float64(22), int64(33), object(1)\n",
      "memory usage: 68.3+ MB\n",
      "None\n"
     ]
    },
    {
     "name": "stdout",
     "output_type": "stream",
     "text": [
      "feature cols after prepare()\n",
      "Index(['Season', 'DayNum', 'T1_TeamID', 'T1_Score', 'T2_TeamID', 'T2_Score',\n",
      "       'location', 'NumOT', 'T1_FGM', 'T1_FGA', 'T1_FGM3', 'T1_FGA3', 'T1_FTM',\n",
      "       'T1_FTA', 'T1_OR', 'T1_DR', 'T1_Ast', 'T1_TO', 'T1_Stl', 'T1_Blk',\n",
      "       'T1_PF', 'T2_FGM', 'T2_FGA', 'T2_FGM3', 'T2_FGA3', 'T2_FTM', 'T2_FTA',\n",
      "       'T2_OR', 'T2_DR', 'T2_Ast', 'T2_TO', 'T2_Stl', 'T2_Blk', 'T2_PF',\n",
      "       'T1_EFFG', 'T2_EFFG', 'T1_EFFG3', 'T2_EFFG3', 'T1_DARE', 'T2_DARE',\n",
      "       'T1_TOQUETOQUE', 'T2_TOQUETOQUE', 'T1_EFG_SUM', 'T2_EFG_SUM', 'T1_POSS',\n",
      "       'T2_POSS', 'T1_POSS_RATE', 'T2_POSS_RATE', 'T1_TO_RATIO', 'T2_TO_RATIO',\n",
      "       'T1_REB_RATE', 'T2_REB_RATE', 'T1_FT_RATE', 'T2_FT_RATE', 'T1_RATING',\n",
      "       'T2_RATING', 'PointDiff', 'win'],\n",
      "      dtype='object')\n",
      "<class 'pandas.core.frame.DataFrame'>\n",
      "RangeIndex: 314206 entries, 0 to 314205\n",
      "Data columns (total 58 columns):\n",
      " #   Column         Non-Null Count   Dtype  \n",
      "---  ------         --------------   -----  \n",
      " 0   Season         314206 non-null  int64  \n",
      " 1   DayNum         314206 non-null  int64  \n",
      " 2   T1_TeamID      314206 non-null  int64  \n",
      " 3   T1_Score       314206 non-null  int64  \n",
      " 4   T2_TeamID      314206 non-null  int64  \n",
      " 5   T2_Score       314206 non-null  int64  \n",
      " 6   location       314206 non-null  int32  \n",
      " 7   NumOT          314206 non-null  int64  \n",
      " 8   T1_FGM         314206 non-null  int64  \n",
      " 9   T1_FGA         314206 non-null  int64  \n",
      " 10  T1_FGM3        314206 non-null  int64  \n",
      " 11  T1_FGA3        314206 non-null  int64  \n",
      " 12  T1_FTM         314206 non-null  int64  \n",
      " 13  T1_FTA         314206 non-null  int64  \n",
      " 14  T1_OR          314206 non-null  int64  \n",
      " 15  T1_DR          314206 non-null  int64  \n",
      " 16  T1_Ast         314206 non-null  int64  \n",
      " 17  T1_TO          314206 non-null  int64  \n",
      " 18  T1_Stl         314206 non-null  int64  \n",
      " 19  T1_Blk         314206 non-null  int64  \n",
      " 20  T1_PF          314206 non-null  int64  \n",
      " 21  T2_FGM         314206 non-null  int64  \n",
      " 22  T2_FGA         314206 non-null  int64  \n",
      " 23  T2_FGM3        314206 non-null  int64  \n",
      " 24  T2_FGA3        314206 non-null  int64  \n",
      " 25  T2_FTM         314206 non-null  int64  \n",
      " 26  T2_FTA         314206 non-null  int64  \n",
      " 27  T2_OR          314206 non-null  int64  \n",
      " 28  T2_DR          314206 non-null  int64  \n",
      " 29  T2_Ast         314206 non-null  int64  \n",
      " 30  T2_TO          314206 non-null  int64  \n",
      " 31  T2_Stl         314206 non-null  int64  \n",
      " 32  T2_Blk         314206 non-null  int64  \n",
      " 33  T2_PF          314206 non-null  int64  \n",
      " 34  T1_EFFG        314206 non-null  float64\n",
      " 35  T2_EFFG        314206 non-null  float64\n",
      " 36  T1_EFFG3       314206 non-null  float64\n",
      " 37  T2_EFFG3       314206 non-null  float64\n",
      " 38  T1_DARE        314206 non-null  float64\n",
      " 39  T2_DARE        314206 non-null  float64\n",
      " 40  T1_TOQUETOQUE  314206 non-null  float64\n",
      " 41  T2_TOQUETOQUE  314206 non-null  float64\n",
      " 42  T1_EFG_SUM     314206 non-null  float64\n",
      " 43  T2_EFG_SUM     314206 non-null  float64\n",
      " 44  T1_POSS        314206 non-null  float64\n",
      " 45  T2_POSS        314206 non-null  float64\n",
      " 46  T1_POSS_RATE   314206 non-null  float64\n",
      " 47  T2_POSS_RATE   314206 non-null  float64\n",
      " 48  T1_TO_RATIO    314206 non-null  float64\n",
      " 49  T2_TO_RATIO    314206 non-null  float64\n",
      " 50  T1_REB_RATE    314206 non-null  float64\n",
      " 51  T2_REB_RATE    314206 non-null  float64\n",
      " 52  T1_FT_RATE     314206 non-null  float64\n",
      " 53  T2_FT_RATE     314206 non-null  float64\n",
      " 54  T1_RATING      314206 non-null  float64\n",
      " 55  T2_RATING      314206 non-null  float64\n",
      " 56  PointDiff      314206 non-null  int64  \n",
      " 57  win            314206 non-null  int32  \n",
      "dtypes: float64(22), int32(2), int64(34)\n",
      "memory usage: 136.6 MB\n"
     ]
    },
    {
     "data": {
      "text/html": [
       "<div>\n",
       "<style scoped>\n",
       "    .dataframe tbody tr th:only-of-type {\n",
       "        vertical-align: middle;\n",
       "    }\n",
       "\n",
       "    .dataframe tbody tr th {\n",
       "        vertical-align: top;\n",
       "    }\n",
       "\n",
       "    .dataframe thead th {\n",
       "        text-align: right;\n",
       "    }\n",
       "</style>\n",
       "<table border=\"1\" class=\"dataframe\">\n",
       "  <thead>\n",
       "    <tr style=\"text-align: right;\">\n",
       "      <th></th>\n",
       "      <th>Season</th>\n",
       "      <th>DayNum</th>\n",
       "      <th>T1_TeamID</th>\n",
       "      <th>T1_Score</th>\n",
       "      <th>T2_TeamID</th>\n",
       "      <th>T2_Score</th>\n",
       "      <th>location</th>\n",
       "      <th>NumOT</th>\n",
       "      <th>T1_FGM</th>\n",
       "      <th>T1_FGA</th>\n",
       "      <th>...</th>\n",
       "      <th>T1_TO_RATIO</th>\n",
       "      <th>T2_TO_RATIO</th>\n",
       "      <th>T1_REB_RATE</th>\n",
       "      <th>T2_REB_RATE</th>\n",
       "      <th>T1_FT_RATE</th>\n",
       "      <th>T2_FT_RATE</th>\n",
       "      <th>T1_RATING</th>\n",
       "      <th>T2_RATING</th>\n",
       "      <th>PointDiff</th>\n",
       "      <th>win</th>\n",
       "    </tr>\n",
       "  </thead>\n",
       "  <tbody>\n",
       "    <tr>\n",
       "      <th>0</th>\n",
       "      <td>2003</td>\n",
       "      <td>10</td>\n",
       "      <td>1104</td>\n",
       "      <td>68</td>\n",
       "      <td>1328</td>\n",
       "      <td>62</td>\n",
       "      <td>0</td>\n",
       "      <td>0</td>\n",
       "      <td>27</td>\n",
       "      <td>58</td>\n",
       "      <td>...</td>\n",
       "      <td>0.258659</td>\n",
       "      <td>0.223104</td>\n",
       "      <td>0.388889</td>\n",
       "      <td>0.294118</td>\n",
       "      <td>0.310345</td>\n",
       "      <td>0.415094</td>\n",
       "      <td>0.907635</td>\n",
       "      <td>0.877193</td>\n",
       "      <td>6</td>\n",
       "      <td>1</td>\n",
       "    </tr>\n",
       "    <tr>\n",
       "      <th>1</th>\n",
       "      <td>2003</td>\n",
       "      <td>10</td>\n",
       "      <td>1272</td>\n",
       "      <td>70</td>\n",
       "      <td>1393</td>\n",
       "      <td>63</td>\n",
       "      <td>0</td>\n",
       "      <td>0</td>\n",
       "      <td>26</td>\n",
       "      <td>62</td>\n",
       "      <td>...</td>\n",
       "      <td>0.155950</td>\n",
       "      <td>0.136674</td>\n",
       "      <td>0.375000</td>\n",
       "      <td>0.416667</td>\n",
       "      <td>0.306452</td>\n",
       "      <td>0.298507</td>\n",
       "      <td>1.023991</td>\n",
       "      <td>0.929204</td>\n",
       "      <td>7</td>\n",
       "      <td>1</td>\n",
       "    </tr>\n",
       "    <tr>\n",
       "      <th>2</th>\n",
       "      <td>2003</td>\n",
       "      <td>11</td>\n",
       "      <td>1266</td>\n",
       "      <td>73</td>\n",
       "      <td>1437</td>\n",
       "      <td>61</td>\n",
       "      <td>0</td>\n",
       "      <td>0</td>\n",
       "      <td>24</td>\n",
       "      <td>58</td>\n",
       "      <td>...</td>\n",
       "      <td>0.123824</td>\n",
       "      <td>0.126156</td>\n",
       "      <td>0.435897</td>\n",
       "      <td>0.543860</td>\n",
       "      <td>0.500000</td>\n",
       "      <td>0.315068</td>\n",
       "      <td>1.144918</td>\n",
       "      <td>0.951341</td>\n",
       "      <td>12</td>\n",
       "      <td>1</td>\n",
       "    </tr>\n",
       "    <tr>\n",
       "      <th>3</th>\n",
       "      <td>2003</td>\n",
       "      <td>11</td>\n",
       "      <td>1296</td>\n",
       "      <td>56</td>\n",
       "      <td>1457</td>\n",
       "      <td>50</td>\n",
       "      <td>0</td>\n",
       "      <td>0</td>\n",
       "      <td>18</td>\n",
       "      <td>38</td>\n",
       "      <td>...</td>\n",
       "      <td>0.188561</td>\n",
       "      <td>0.254692</td>\n",
       "      <td>0.230769</td>\n",
       "      <td>0.472222</td>\n",
       "      <td>0.815789</td>\n",
       "      <td>0.306122</td>\n",
       "      <td>0.971548</td>\n",
       "      <td>0.868056</td>\n",
       "      <td>6</td>\n",
       "      <td>1</td>\n",
       "    </tr>\n",
       "    <tr>\n",
       "      <th>4</th>\n",
       "      <td>2003</td>\n",
       "      <td>11</td>\n",
       "      <td>1400</td>\n",
       "      <td>77</td>\n",
       "      <td>1208</td>\n",
       "      <td>71</td>\n",
       "      <td>0</td>\n",
       "      <td>0</td>\n",
       "      <td>30</td>\n",
       "      <td>61</td>\n",
       "      <td>...</td>\n",
       "      <td>0.173439</td>\n",
       "      <td>0.119218</td>\n",
       "      <td>0.531250</td>\n",
       "      <td>0.488372</td>\n",
       "      <td>0.213115</td>\n",
       "      <td>0.435484</td>\n",
       "      <td>1.208412</td>\n",
       "      <td>1.129135</td>\n",
       "      <td>6</td>\n",
       "      <td>1</td>\n",
       "    </tr>\n",
       "  </tbody>\n",
       "</table>\n",
       "<p>5 rows × 58 columns</p>\n",
       "</div>"
      ],
      "text/plain": [
       "   Season  DayNum  T1_TeamID  T1_Score  T2_TeamID  T2_Score  location  NumOT  \\\n",
       "0    2003      10       1104        68       1328        62         0      0   \n",
       "1    2003      10       1272        70       1393        63         0      0   \n",
       "2    2003      11       1266        73       1437        61         0      0   \n",
       "3    2003      11       1296        56       1457        50         0      0   \n",
       "4    2003      11       1400        77       1208        71         0      0   \n",
       "\n",
       "   T1_FGM  T1_FGA  ...  T1_TO_RATIO  T2_TO_RATIO  T1_REB_RATE  T2_REB_RATE  \\\n",
       "0      27      58  ...     0.258659     0.223104     0.388889     0.294118   \n",
       "1      26      62  ...     0.155950     0.136674     0.375000     0.416667   \n",
       "2      24      58  ...     0.123824     0.126156     0.435897     0.543860   \n",
       "3      18      38  ...     0.188561     0.254692     0.230769     0.472222   \n",
       "4      30      61  ...     0.173439     0.119218     0.531250     0.488372   \n",
       "\n",
       "   T1_FT_RATE  T2_FT_RATE  T1_RATING  T2_RATING  PointDiff  win  \n",
       "0    0.310345    0.415094   0.907635   0.877193          6    1  \n",
       "1    0.306452    0.298507   1.023991   0.929204          7    1  \n",
       "2    0.500000    0.315068   1.144918   0.951341         12    1  \n",
       "3    0.815789    0.306122   0.971548   0.868056          6    1  \n",
       "4    0.213115    0.435484   1.208412   1.129135          6    1  \n",
       "\n",
       "[5 rows x 58 columns]"
      ]
     },
     "metadata": {},
     "output_type": "display_data"
    },
    {
     "data": {
      "text/plain": [
       "None"
      ]
     },
     "metadata": {},
     "output_type": "display_data"
    }
   ],
   "source": [
    "#予測する年以降の情報はフィルタリング\n",
    "USE_START_YEAR = cfg.exp.tournament.use_start_season\n",
    "notexist = tourney_results[tourney_results[\"Season\"] == PREDICT_YEAR]\n",
    "tourney_results = tourney_results[(tourney_results[\"Season\"] >= USE_START_YEAR) & (tourney_results[\"Season\"] < PREDICT_YEAR)]\n",
    "seeds = seeds[(seeds[\"Season\"] >= USE_START_YEAR) & (seeds[\"Season\"] <= PREDICT_YEAR)]\n",
    "regular_results = regular_results[(regular_results[\"Season\"] >= USE_START_YEAR) & (regular_results[\"Season\"] <= PREDICT_YEAR)]\n",
    "\n",
    "regular_data = prepare_data(regular_results)\n",
    "display(regular_data.head(), regular_data.info())"
   ]
  },
  {
   "cell_type": "code",
   "execution_count": 9,
   "id": "4f5bd448",
   "metadata": {
    "execution": {
     "iopub.execute_input": "2025-03-13T02:48:24.421218Z",
     "iopub.status.busy": "2025-03-13T02:48:24.421218Z",
     "iopub.status.idle": "2025-03-13T02:48:24.456131Z",
     "shell.execute_reply": "2025-03-13T02:48:24.456131Z"
    },
    "papermill": {
     "duration": 0.034913,
     "end_time": "2025-03-13T02:48:24.456131",
     "exception": false,
     "start_time": "2025-03-13T02:48:24.421218",
     "status": "completed"
    },
    "tags": []
   },
   "outputs": [],
   "source": [
    "#使用特徴量(boxscore_cols)を取得してそれに対して(\"Season\", 'T1_TeamID')でまとめた特徴量の追加\n",
    "#### 1. win_ration_14d ####\n",
    "def add_win_ratio_14d(df):\n",
    "    df_filtered = df[df['DayNum'] > 118].copy()\n",
    "    df_filtered['Win'] = (df_filtered['PointDiff'] > 0).astype(int)\n",
    "    \n",
    "    win_ratio_t1 = df_filtered.groupby(['Season', 'T1_TeamID'])['Win'].mean().reset_index()\n",
    "    win_ratio_t1.rename(columns={'Win': 'T1_win_ratio_14d'}, inplace=True)\n",
    "    \n",
    "    win_ratio_t2 = df_filtered.groupby(['Season', 'T2_TeamID'])['Win'].mean().reset_index()\n",
    "    win_ratio_t2.rename(columns={'Win': 'T2_win_ratio_14d'}, inplace=True)\n",
    "    \n",
    "    df = df.merge(win_ratio_t1, on=['Season', 'T1_TeamID'], how='left')\n",
    "    df = df.merge(win_ratio_t2, on=['Season', 'T2_TeamID'], how='left')\n",
    "    \n",
    "    return df\n",
    "\n",
    "##### 2. add mean of boxscore ####\n",
    "def make_col_avg(df, boxscore, group = [\"Season\", \"T1_TeamID\"], func= [np.mean]):\n",
    "    df_stat = df.groupby(group)[boxscore].agg(func)\n",
    "    df_stat.columns = [''.join(col).strip() for col in df_stat.columns.values]\n",
    "    df_stat = df_stat.reset_index()\n",
    "\n",
    "    win_ratio_cols = ['T1_win_ratio_14d'] #ここマージの関係からT2_win_ratio_14dを外したけど大丈夫か考える\n",
    "    df_win_ratio = df[group + win_ratio_cols].drop_duplicates()\n",
    "    df_stat = df_stat.merge(df_win_ratio, on=group, how='left')\n",
    "    \n",
    "    return df_stat\n",
    "\n",
    "#### 3. add team quality ####\n",
    "# 3.0 ロジスティックを行うためのregular_season_effectsデータフレームの作成\n",
    "def make_regular_season_effects(df):\n",
    "    regular_season_effects = df[['Season', 'T1_TeamID', 'T2_TeamID', 'PointDiff']].copy()\n",
    "    regular_season_effects['win'] = np.where(regular_season_effects['PointDiff'] > 0, 1, 0)\n",
    "    return regular_season_effects\n",
    "\n",
    "# 3.1\n",
    "#各シーズンごとの総当たりに対するロジスティック回帰を行う\n",
    "#目的変数はfeatureenginneringから作成したPointDiffの正負に依存するWinとする.\n",
    "#新たな特徴量\"quarity\"をseasonごとの戦績をもとにロジスティックの回帰係数として導入している\n",
    "def team_quality(season,df):\n",
    "    season_data = df[df[\"Season\"] == season]\n",
    "    X = season_data[['T1_TeamID', 'T2_TeamID']]\n",
    "    y = season_data['win']\n",
    "    print(X.shape, y.shape)\n",
    "    encoder = OneHotEncoder(sparse_output=False) #多重共線性防止, 密行列指定\n",
    "    X_encoded = encoder.fit_transform(X)\n",
    "    \n",
    "    model = LogisticRegression(fit_intercept=False)\n",
    "    model.fit(X_encoded, y)\n",
    "    team_ids = encoder.get_feature_names_out(['T1_TeamID', 'T2_TeamID'])\n",
    "\n",
    "    \n",
    "    #quarity: (チーム数)*2(ID, 回帰係数)\n",
    "    quality = pd.DataFrame({\n",
    "        'TeamID': team_ids,\n",
    "        'quality': model.coef_.flatten() #T1_TeamID_1112,,,の形でチーム数分の回帰係数が入る\n",
    "    })\n",
    "\n",
    "    # 値をint 1112 のように整形\n",
    "    quality = quality[quality['TeamID'].str.contains('T1_TeamID')]\n",
    "    quality['TeamID'] = quality['TeamID'].str.replace('T1_TeamID_', '', regex=True).astype(int)\n",
    "    quality['Season'] = season\n",
    "\n",
    "    #display(quality.head())\n",
    "    print(f\"fin make {season}'s team quarity\")\n",
    "    return quality\n",
    "\n",
    "# 4. add seed\n",
    "def add_seed(df, seeds):\n",
    "    temp = seeds.copy()\n",
    "    temp['Seed'] = temp['Seed'].apply(lambda x: int(x[1:3]))\n",
    "    temp.columns = ['Season','T1_seed','T1_TeamID']\n",
    "    df = pd.merge(df, temp, on=[\"Season\", \"T1_TeamID\"], how=\"left\")\n",
    "    return df \n",
    "\n",
    "# 5. add Ordinal rank\n",
    "def add_ordinalrank(df, ordinal):\n",
    "    df_rank = ordinal.groupby([\"Season\", \"TeamID\"])[\"OrdinalRank\"].agg(np.mean).reset_index()\n",
    "    df_rank.head()\n",
    "    ranks = df_rank.rename(columns={'TeamID': 'T1_TeamID', 'OrdinalRank': 'T1_OrdinalRank'})\n",
    "    df = pd.merge(df,ranks,on = [\"Season\",\"T1_TeamID\"],how = \"left\")\n",
    "    return df\n",
    "\n",
    "# main \n",
    "def make_season_statistics(df, boxscore, seeds, func = [np.mean]):\n",
    "    # 1. Win Ratio の計算と追加\n",
    "    add_win = add_win_ratio_14d(df)\n",
    "    print(\"after add win ratio\")\n",
    "    print(add_win.columns)  \n",
    "    \n",
    "    #2. \n",
    "    add_mean = make_col_avg(add_win, boxscore)\n",
    "    print(\"after mean of boxscore\")\n",
    "    print(add_mean.columns)\n",
    "    \n",
    "    #3. \n",
    "    global PREDICT_YEAR, USE_START_YEAR\n",
    "    start_season = max(FEATURES.start_quality_season, USE_START_YEAR)\n",
    "    print(f\"use season for quality feature is: {start_season}\")\n",
    "    regular_season_effects = make_regular_season_effects(df)\n",
    "    glm_season = [i for i in range(start_season, PREDICT_YEAR+1)]\n",
    "    glm_season.remove(2020)\n",
    "    glm_quality = pd.concat([team_quality(season, regular_season_effects) for season in glm_season]).reset_index(drop=True)\n",
    "    # add glm quality \n",
    "    glm_quality_T1 = glm_quality.rename(columns={'TeamID': 'T1_TeamID', 'quality': 'T1_quality'})\n",
    "    add_glm = add_mean.merge(glm_quality_T1, on=['Season', 'T1_TeamID'], how='left')\n",
    "\n",
    "    print(\"add glm quality\")\n",
    "    print(add_glm.columns)\n",
    "    \n",
    "    #4. \n",
    "    add_seeds = add_seed(add_glm, seeds)\n",
    "    print(\"add seeds (final form)\")\n",
    "    print(add_seeds.columns)\n",
    "    \n",
    "    #5. \n",
    "    add_rank = add_ordinalrank(add_seeds, ordinal_rank)\n",
    "    print(\"add ordinal rank\")\n",
    "    print(add_rank.columns)  \n",
    "    return add_rank"
   ]
  },
  {
   "cell_type": "code",
   "execution_count": 10,
   "id": "3cebed7e",
   "metadata": {
    "execution": {
     "iopub.execute_input": "2025-03-13T02:48:24.474447Z",
     "iopub.status.busy": "2025-03-13T02:48:24.473406Z",
     "iopub.status.idle": "2025-03-13T02:48:27.803012Z",
     "shell.execute_reply": "2025-03-13T02:48:27.803012Z"
    },
    "papermill": {
     "duration": 3.346881,
     "end_time": "2025-03-13T02:48:27.803012",
     "exception": false,
     "start_time": "2025-03-13T02:48:24.456131",
     "status": "completed"
    },
    "tags": []
   },
   "outputs": [
    {
     "name": "stdout",
     "output_type": "stream",
     "text": [
      "use boxscore col is\n",
      "['T1_Score', 'T2_Score', 'PointDiff', 'T1_FGM', 'T2_FGM', 'T1_FGA', 'T2_FGA', 'T1_FGM3', 'T2_FGM3', 'T1_FGA3', 'T2_FGA3', 'T1_FTM', 'T2_FTM', 'T1_FTA', 'T2_FTA', 'T1_EFG_SUM', 'T2_EFG_SUM', 'T1_TO_RATIO', 'T2_TO_RATIO', 'T1_OR', 'T2_OR', 'T1_DR', 'T2_DR', 'T1_REB_RATE', 'T2_REB_RATE', 'T1_FT_RATE', 'T2_FT_RATE', 'T1_POSS_RATE', 'T2_POSS_RATE', 'T1_Ast', 'T2_Ast', 'T1_TO', 'T2_TO', 'T1_Stl', 'T2_Stl', 'T1_Blk', 'T2_Blk', 'T1_PF', 'T2_PF']\n"
     ]
    },
    {
     "name": "stdout",
     "output_type": "stream",
     "text": [
      "after add win ratio\n",
      "Index(['Season', 'DayNum', 'T1_TeamID', 'T1_Score', 'T2_TeamID', 'T2_Score',\n",
      "       'location', 'NumOT', 'T1_FGM', 'T1_FGA', 'T1_FGM3', 'T1_FGA3', 'T1_FTM',\n",
      "       'T1_FTA', 'T1_OR', 'T1_DR', 'T1_Ast', 'T1_TO', 'T1_Stl', 'T1_Blk',\n",
      "       'T1_PF', 'T2_FGM', 'T2_FGA', 'T2_FGM3', 'T2_FGA3', 'T2_FTM', 'T2_FTA',\n",
      "       'T2_OR', 'T2_DR', 'T2_Ast', 'T2_TO', 'T2_Stl', 'T2_Blk', 'T2_PF',\n",
      "       'T1_EFFG', 'T2_EFFG', 'T1_EFFG3', 'T2_EFFG3', 'T1_DARE', 'T2_DARE',\n",
      "       'T1_TOQUETOQUE', 'T2_TOQUETOQUE', 'T1_EFG_SUM', 'T2_EFG_SUM', 'T1_POSS',\n",
      "       'T2_POSS', 'T1_POSS_RATE', 'T2_POSS_RATE', 'T1_TO_RATIO', 'T2_TO_RATIO',\n",
      "       'T1_REB_RATE', 'T2_REB_RATE', 'T1_FT_RATE', 'T2_FT_RATE', 'T1_RATING',\n",
      "       'T2_RATING', 'PointDiff', 'win', 'T1_win_ratio_14d',\n",
      "       'T2_win_ratio_14d'],\n",
      "      dtype='object')\n",
      "after mean of boxscore\n",
      "Index(['Season', 'T1_TeamID', 'T1_Scoremean', 'T2_Scoremean', 'PointDiffmean',\n",
      "       'T1_FGMmean', 'T2_FGMmean', 'T1_FGAmean', 'T2_FGAmean', 'T1_FGM3mean',\n",
      "       'T2_FGM3mean', 'T1_FGA3mean', 'T2_FGA3mean', 'T1_FTMmean', 'T2_FTMmean',\n",
      "       'T1_FTAmean', 'T2_FTAmean', 'T1_EFG_SUMmean', 'T2_EFG_SUMmean',\n",
      "       'T1_TO_RATIOmean', 'T2_TO_RATIOmean', 'T1_ORmean', 'T2_ORmean',\n",
      "       'T1_DRmean', 'T2_DRmean', 'T1_REB_RATEmean', 'T2_REB_RATEmean',\n",
      "       'T1_FT_RATEmean', 'T2_FT_RATEmean', 'T1_POSS_RATEmean',\n",
      "       'T2_POSS_RATEmean', 'T1_Astmean', 'T2_Astmean', 'T1_TOmean',\n",
      "       'T2_TOmean', 'T1_Stlmean', 'T2_Stlmean', 'T1_Blkmean', 'T2_Blkmean',\n",
      "       'T1_PFmean', 'T2_PFmean', 'T1_win_ratio_14d'],\n",
      "      dtype='object')\n",
      "use season for quality feature is: 2003\n",
      "(9232, 2) (9232,)\n"
     ]
    },
    {
     "name": "stderr",
     "output_type": "stream",
     "text": [
      "C:\\Users\\81809\\AppData\\Local\\Temp\\ipykernel_9756\\830681465.py:20: FutureWarning: The provided callable <function mean at 0x000001998269A5C0> is currently using SeriesGroupBy.mean. In a future version of pandas, the provided callable will be used directly. To keep current behavior pass the string \"mean\" instead.\n",
      "  df_stat = df.groupby(group)[boxscore].agg(func)\n"
     ]
    },
    {
     "name": "stdout",
     "output_type": "stream",
     "text": [
      "fin make 2003's team quarity\n",
      "(9142, 2) (9142,)\n",
      "fin make 2004's team quarity\n",
      "(9350, 2) (9350,)\n",
      "fin make 2005's team quarity\n",
      "(9514, 2) (9514,)\n",
      "fin make 2006's team quarity\n",
      "(10086, 2) (10086,)\n"
     ]
    },
    {
     "name": "stdout",
     "output_type": "stream",
     "text": [
      "fin make 2007's team quarity\n",
      "(10326, 2) (10326,)\n",
      "fin make 2008's team quarity\n",
      "(10498, 2) (10498,)\n",
      "fin make 2009's team quarity\n",
      "(20600, 2) (20600,)\n"
     ]
    },
    {
     "name": "stdout",
     "output_type": "stream",
     "text": [
      "fin make 2010's team quarity\n",
      "(20660, 2) (20660,)\n",
      "fin make 2011's team quarity\n",
      "(20606, 2) (20606,)\n"
     ]
    },
    {
     "name": "stdout",
     "output_type": "stream",
     "text": [
      "fin make 2012's team quarity\n",
      "(21008, 2) (21008,)\n"
     ]
    },
    {
     "name": "stdout",
     "output_type": "stream",
     "text": [
      "fin make 2013's team quarity\n",
      "(21228, 2) (21228,)\n",
      "fin make 2014's team quarity\n",
      "(21136, 2) (21136,)\n"
     ]
    },
    {
     "name": "stdout",
     "output_type": "stream",
     "text": [
      "fin make 2015's team quarity\n",
      "(21156, 2) (21156,)\n",
      "fin make 2016's team quarity\n",
      "(21210, 2) (21210,)\n"
     ]
    },
    {
     "name": "stdout",
     "output_type": "stream",
     "text": [
      "fin make 2017's team quarity\n",
      "(21228, 2) (21228,)\n"
     ]
    },
    {
     "name": "stdout",
     "output_type": "stream",
     "text": [
      "fin make 2018's team quarity\n",
      "(21406, 2) (21406,)\n",
      "fin make 2019's team quarity\n",
      "(14822, 2) (14822,)\n"
     ]
    },
    {
     "name": "stdout",
     "output_type": "stream",
     "text": [
      "fin make 2021's team quarity\n",
      "add glm quality\n",
      "Index(['Season', 'T1_TeamID', 'T1_Scoremean', 'T2_Scoremean', 'PointDiffmean',\n",
      "       'T1_FGMmean', 'T2_FGMmean', 'T1_FGAmean', 'T2_FGAmean', 'T1_FGM3mean',\n",
      "       'T2_FGM3mean', 'T1_FGA3mean', 'T2_FGA3mean', 'T1_FTMmean', 'T2_FTMmean',\n",
      "       'T1_FTAmean', 'T2_FTAmean', 'T1_EFG_SUMmean', 'T2_EFG_SUMmean',\n",
      "       'T1_TO_RATIOmean', 'T2_TO_RATIOmean', 'T1_ORmean', 'T2_ORmean',\n",
      "       'T1_DRmean', 'T2_DRmean', 'T1_REB_RATEmean', 'T2_REB_RATEmean',\n",
      "       'T1_FT_RATEmean', 'T2_FT_RATEmean', 'T1_POSS_RATEmean',\n",
      "       'T2_POSS_RATEmean', 'T1_Astmean', 'T2_Astmean', 'T1_TOmean',\n",
      "       'T2_TOmean', 'T1_Stlmean', 'T2_Stlmean', 'T1_Blkmean', 'T2_Blkmean',\n",
      "       'T1_PFmean', 'T2_PFmean', 'T1_win_ratio_14d', 'T1_quality'],\n",
      "      dtype='object')\n",
      "add seeds (final form)\n",
      "Index(['Season', 'T1_TeamID', 'T1_Scoremean', 'T2_Scoremean', 'PointDiffmean',\n",
      "       'T1_FGMmean', 'T2_FGMmean', 'T1_FGAmean', 'T2_FGAmean', 'T1_FGM3mean',\n",
      "       'T2_FGM3mean', 'T1_FGA3mean', 'T2_FGA3mean', 'T1_FTMmean', 'T2_FTMmean',\n",
      "       'T1_FTAmean', 'T2_FTAmean', 'T1_EFG_SUMmean', 'T2_EFG_SUMmean',\n",
      "       'T1_TO_RATIOmean', 'T2_TO_RATIOmean', 'T1_ORmean', 'T2_ORmean',\n",
      "       'T1_DRmean', 'T2_DRmean', 'T1_REB_RATEmean', 'T2_REB_RATEmean',\n",
      "       'T1_FT_RATEmean', 'T2_FT_RATEmean', 'T1_POSS_RATEmean',\n",
      "       'T2_POSS_RATEmean', 'T1_Astmean', 'T2_Astmean', 'T1_TOmean',\n",
      "       'T2_TOmean', 'T1_Stlmean', 'T2_Stlmean', 'T1_Blkmean', 'T2_Blkmean',\n",
      "       'T1_PFmean', 'T2_PFmean', 'T1_win_ratio_14d', 'T1_quality', 'T1_seed'],\n",
      "      dtype='object')\n"
     ]
    },
    {
     "name": "stderr",
     "output_type": "stream",
     "text": [
      "C:\\Users\\81809\\AppData\\Local\\Temp\\ipykernel_9756\\830681465.py:79: FutureWarning: The provided callable <function mean at 0x000001998269A5C0> is currently using SeriesGroupBy.mean. In a future version of pandas, the provided callable will be used directly. To keep current behavior pass the string \"mean\" instead.\n",
      "  df_rank = ordinal.groupby([\"Season\", \"TeamID\"])[\"OrdinalRank\"].agg(np.mean).reset_index()\n"
     ]
    },
    {
     "name": "stdout",
     "output_type": "stream",
     "text": [
      "add ordinal rank\n",
      "Index(['Season', 'T1_TeamID', 'T1_Scoremean', 'T2_Scoremean', 'PointDiffmean',\n",
      "       'T1_FGMmean', 'T2_FGMmean', 'T1_FGAmean', 'T2_FGAmean', 'T1_FGM3mean',\n",
      "       'T2_FGM3mean', 'T1_FGA3mean', 'T2_FGA3mean', 'T1_FTMmean', 'T2_FTMmean',\n",
      "       'T1_FTAmean', 'T2_FTAmean', 'T1_EFG_SUMmean', 'T2_EFG_SUMmean',\n",
      "       'T1_TO_RATIOmean', 'T2_TO_RATIOmean', 'T1_ORmean', 'T2_ORmean',\n",
      "       'T1_DRmean', 'T2_DRmean', 'T1_REB_RATEmean', 'T2_REB_RATEmean',\n",
      "       'T1_FT_RATEmean', 'T2_FT_RATEmean', 'T1_POSS_RATEmean',\n",
      "       'T2_POSS_RATEmean', 'T1_Astmean', 'T2_Astmean', 'T1_TOmean',\n",
      "       'T2_TOmean', 'T1_Stlmean', 'T2_Stlmean', 'T1_Blkmean', 'T2_Blkmean',\n",
      "       'T1_PFmean', 'T2_PFmean', 'T1_win_ratio_14d', 'T1_quality', 'T1_seed',\n",
      "       'T1_OrdinalRank'],\n",
      "      dtype='object')\n"
     ]
    },
    {
     "data": {
      "text/html": [
       "<div>\n",
       "<style scoped>\n",
       "    .dataframe tbody tr th:only-of-type {\n",
       "        vertical-align: middle;\n",
       "    }\n",
       "\n",
       "    .dataframe tbody tr th {\n",
       "        vertical-align: top;\n",
       "    }\n",
       "\n",
       "    .dataframe thead th {\n",
       "        text-align: right;\n",
       "    }\n",
       "</style>\n",
       "<table border=\"1\" class=\"dataframe\">\n",
       "  <thead>\n",
       "    <tr style=\"text-align: right;\">\n",
       "      <th></th>\n",
       "      <th>Season</th>\n",
       "      <th>T1_TeamID</th>\n",
       "      <th>T1_Scoremean</th>\n",
       "      <th>T2_Scoremean</th>\n",
       "      <th>PointDiffmean</th>\n",
       "      <th>T1_FGMmean</th>\n",
       "      <th>T2_FGMmean</th>\n",
       "      <th>T1_FGAmean</th>\n",
       "      <th>T2_FGAmean</th>\n",
       "      <th>T1_FGM3mean</th>\n",
       "      <th>...</th>\n",
       "      <th>T1_Stlmean</th>\n",
       "      <th>T2_Stlmean</th>\n",
       "      <th>T1_Blkmean</th>\n",
       "      <th>T2_Blkmean</th>\n",
       "      <th>T1_PFmean</th>\n",
       "      <th>T2_PFmean</th>\n",
       "      <th>T1_win_ratio_14d</th>\n",
       "      <th>T1_quality</th>\n",
       "      <th>T1_seed</th>\n",
       "      <th>T1_OrdinalRank</th>\n",
       "    </tr>\n",
       "  </thead>\n",
       "  <tbody>\n",
       "    <tr>\n",
       "      <th>10692</th>\n",
       "      <td>2021</td>\n",
       "      <td>3467</td>\n",
       "      <td>64.666667</td>\n",
       "      <td>67.333333</td>\n",
       "      <td>-2.666667</td>\n",
       "      <td>23.400000</td>\n",
       "      <td>24.466667</td>\n",
       "      <td>59.066667</td>\n",
       "      <td>59.600000</td>\n",
       "      <td>7.866667</td>\n",
       "      <td>...</td>\n",
       "      <td>9.066667</td>\n",
       "      <td>9.400000</td>\n",
       "      <td>1.800000</td>\n",
       "      <td>4.000000</td>\n",
       "      <td>17.800000</td>\n",
       "      <td>14.666667</td>\n",
       "      <td>1.00</td>\n",
       "      <td>-0.507544</td>\n",
       "      <td>NaN</td>\n",
       "      <td>NaN</td>\n",
       "    </tr>\n",
       "    <tr>\n",
       "      <th>10693</th>\n",
       "      <td>2021</td>\n",
       "      <td>3468</td>\n",
       "      <td>62.772727</td>\n",
       "      <td>77.181818</td>\n",
       "      <td>-14.409091</td>\n",
       "      <td>21.909091</td>\n",
       "      <td>28.772727</td>\n",
       "      <td>60.454545</td>\n",
       "      <td>60.181818</td>\n",
       "      <td>5.409091</td>\n",
       "      <td>...</td>\n",
       "      <td>7.409091</td>\n",
       "      <td>8.727273</td>\n",
       "      <td>2.181818</td>\n",
       "      <td>4.363636</td>\n",
       "      <td>17.727273</td>\n",
       "      <td>18.681818</td>\n",
       "      <td>0.00</td>\n",
       "      <td>-1.258597</td>\n",
       "      <td>NaN</td>\n",
       "      <td>NaN</td>\n",
       "    </tr>\n",
       "    <tr>\n",
       "      <th>10694</th>\n",
       "      <td>2021</td>\n",
       "      <td>3469</td>\n",
       "      <td>48.500000</td>\n",
       "      <td>71.500000</td>\n",
       "      <td>-23.000000</td>\n",
       "      <td>17.000000</td>\n",
       "      <td>25.500000</td>\n",
       "      <td>55.500000</td>\n",
       "      <td>61.500000</td>\n",
       "      <td>5.000000</td>\n",
       "      <td>...</td>\n",
       "      <td>3.000000</td>\n",
       "      <td>11.500000</td>\n",
       "      <td>4.500000</td>\n",
       "      <td>2.500000</td>\n",
       "      <td>20.000000</td>\n",
       "      <td>14.000000</td>\n",
       "      <td>NaN</td>\n",
       "      <td>-0.439471</td>\n",
       "      <td>NaN</td>\n",
       "      <td>NaN</td>\n",
       "    </tr>\n",
       "    <tr>\n",
       "      <th>10695</th>\n",
       "      <td>2021</td>\n",
       "      <td>3470</td>\n",
       "      <td>58.571429</td>\n",
       "      <td>67.000000</td>\n",
       "      <td>-8.428571</td>\n",
       "      <td>18.428571</td>\n",
       "      <td>25.000000</td>\n",
       "      <td>54.333333</td>\n",
       "      <td>59.333333</td>\n",
       "      <td>5.047619</td>\n",
       "      <td>...</td>\n",
       "      <td>7.047619</td>\n",
       "      <td>7.380952</td>\n",
       "      <td>2.666667</td>\n",
       "      <td>2.666667</td>\n",
       "      <td>14.761905</td>\n",
       "      <td>21.714286</td>\n",
       "      <td>0.25</td>\n",
       "      <td>-1.180630</td>\n",
       "      <td>NaN</td>\n",
       "      <td>NaN</td>\n",
       "    </tr>\n",
       "    <tr>\n",
       "      <th>10696</th>\n",
       "      <td>2021</td>\n",
       "      <td>3471</td>\n",
       "      <td>61.066667</td>\n",
       "      <td>66.666667</td>\n",
       "      <td>-5.600000</td>\n",
       "      <td>21.400000</td>\n",
       "      <td>24.733333</td>\n",
       "      <td>59.066667</td>\n",
       "      <td>59.266667</td>\n",
       "      <td>8.933333</td>\n",
       "      <td>...</td>\n",
       "      <td>5.600000</td>\n",
       "      <td>8.066667</td>\n",
       "      <td>2.066667</td>\n",
       "      <td>3.133333</td>\n",
       "      <td>15.333333</td>\n",
       "      <td>14.800000</td>\n",
       "      <td>0.50</td>\n",
       "      <td>-0.411866</td>\n",
       "      <td>NaN</td>\n",
       "      <td>NaN</td>\n",
       "    </tr>\n",
       "  </tbody>\n",
       "</table>\n",
       "<p>5 rows × 45 columns</p>\n",
       "</div>"
      ],
      "text/plain": [
       "       Season  T1_TeamID  T1_Scoremean  T2_Scoremean  PointDiffmean  \\\n",
       "10692    2021       3467     64.666667     67.333333      -2.666667   \n",
       "10693    2021       3468     62.772727     77.181818     -14.409091   \n",
       "10694    2021       3469     48.500000     71.500000     -23.000000   \n",
       "10695    2021       3470     58.571429     67.000000      -8.428571   \n",
       "10696    2021       3471     61.066667     66.666667      -5.600000   \n",
       "\n",
       "       T1_FGMmean  T2_FGMmean  T1_FGAmean  T2_FGAmean  T1_FGM3mean  ...  \\\n",
       "10692   23.400000   24.466667   59.066667   59.600000     7.866667  ...   \n",
       "10693   21.909091   28.772727   60.454545   60.181818     5.409091  ...   \n",
       "10694   17.000000   25.500000   55.500000   61.500000     5.000000  ...   \n",
       "10695   18.428571   25.000000   54.333333   59.333333     5.047619  ...   \n",
       "10696   21.400000   24.733333   59.066667   59.266667     8.933333  ...   \n",
       "\n",
       "       T1_Stlmean  T2_Stlmean  T1_Blkmean  T2_Blkmean  T1_PFmean  T2_PFmean  \\\n",
       "10692    9.066667    9.400000    1.800000    4.000000  17.800000  14.666667   \n",
       "10693    7.409091    8.727273    2.181818    4.363636  17.727273  18.681818   \n",
       "10694    3.000000   11.500000    4.500000    2.500000  20.000000  14.000000   \n",
       "10695    7.047619    7.380952    2.666667    2.666667  14.761905  21.714286   \n",
       "10696    5.600000    8.066667    2.066667    3.133333  15.333333  14.800000   \n",
       "\n",
       "       T1_win_ratio_14d  T1_quality  T1_seed  T1_OrdinalRank  \n",
       "10692              1.00   -0.507544      NaN             NaN  \n",
       "10693              0.00   -1.258597      NaN             NaN  \n",
       "10694               NaN   -0.439471      NaN             NaN  \n",
       "10695              0.25   -1.180630      NaN             NaN  \n",
       "10696              0.50   -0.411866      NaN             NaN  \n",
       "\n",
       "[5 rows x 45 columns]"
      ]
     },
     "execution_count": 10,
     "metadata": {},
     "output_type": "execute_result"
    }
   ],
   "source": [
    "features = FEATURES.cal_mean_boxscore\n",
    "boxscore_cols = [col for col, use in features.items() if use]\n",
    "print(\"use boxscore col is\")\n",
    "print(boxscore_cols)\n",
    "\n",
    "season_statistics = make_season_statistics(regular_data, boxscore_cols, seeds, func = [np.mean])\n",
    "season_statistics.tail()"
   ]
  },
  {
   "cell_type": "code",
   "execution_count": 11,
   "id": "86491a9b",
   "metadata": {
    "execution": {
     "iopub.execute_input": "2025-03-13T02:48:27.820477Z",
     "iopub.status.busy": "2025-03-13T02:48:27.820477Z",
     "iopub.status.idle": "2025-03-13T02:48:27.832878Z",
     "shell.execute_reply": "2025-03-13T02:48:27.832878Z"
    },
    "papermill": {
     "duration": 0.028622,
     "end_time": "2025-03-13T02:48:27.838610",
     "exception": false,
     "start_time": "2025-03-13T02:48:27.809988",
     "status": "completed"
    },
    "tags": []
   },
   "outputs": [
    {
     "name": "stdout",
     "output_type": "stream",
     "text": [
      "<class 'pandas.core.frame.DataFrame'>\n",
      "RangeIndex: 10697 entries, 0 to 10696\n",
      "Data columns (total 45 columns):\n",
      " #   Column            Non-Null Count  Dtype  \n",
      "---  ------            --------------  -----  \n",
      " 0   Season            10697 non-null  int64  \n",
      " 1   T1_TeamID         10697 non-null  int64  \n",
      " 2   T1_Scoremean      10697 non-null  float64\n",
      " 3   T2_Scoremean      10697 non-null  float64\n",
      " 4   PointDiffmean     10697 non-null  float64\n",
      " 5   T1_FGMmean        10697 non-null  float64\n",
      " 6   T2_FGMmean        10697 non-null  float64\n",
      " 7   T1_FGAmean        10697 non-null  float64\n",
      " 8   T2_FGAmean        10697 non-null  float64\n",
      " 9   T1_FGM3mean       10697 non-null  float64\n",
      " 10  T2_FGM3mean       10697 non-null  float64\n",
      " 11  T1_FGA3mean       10697 non-null  float64\n",
      " 12  T2_FGA3mean       10697 non-null  float64\n",
      " 13  T1_FTMmean        10697 non-null  float64\n",
      " 14  T2_FTMmean        10697 non-null  float64\n",
      " 15  T1_FTAmean        10697 non-null  float64\n",
      " 16  T2_FTAmean        10697 non-null  float64\n",
      " 17  T1_EFG_SUMmean    10697 non-null  float64\n",
      " 18  T2_EFG_SUMmean    10697 non-null  float64\n",
      " 19  T1_TO_RATIOmean   10697 non-null  float64\n",
      " 20  T2_TO_RATIOmean   10697 non-null  float64\n",
      " 21  T1_ORmean         10697 non-null  float64\n",
      " 22  T2_ORmean         10697 non-null  float64\n",
      " 23  T1_DRmean         10697 non-null  float64\n",
      " 24  T2_DRmean         10697 non-null  float64\n",
      " 25  T1_REB_RATEmean   10697 non-null  float64\n",
      " 26  T2_REB_RATEmean   10697 non-null  float64\n",
      " 27  T1_FT_RATEmean    10697 non-null  float64\n",
      " 28  T2_FT_RATEmean    10697 non-null  float64\n",
      " 29  T1_POSS_RATEmean  10697 non-null  float64\n",
      " 30  T2_POSS_RATEmean  10697 non-null  float64\n",
      " 31  T1_Astmean        10697 non-null  float64\n",
      " 32  T2_Astmean        10697 non-null  float64\n",
      " 33  T1_TOmean         10697 non-null  float64\n",
      " 34  T2_TOmean         10697 non-null  float64\n",
      " 35  T1_Stlmean        10697 non-null  float64\n",
      " 36  T2_Stlmean        10697 non-null  float64\n",
      " 37  T1_Blkmean        10697 non-null  float64\n",
      " 38  T2_Blkmean        10697 non-null  float64\n",
      " 39  T1_PFmean         10697 non-null  float64\n",
      " 40  T2_PFmean         10697 non-null  float64\n",
      " 41  T1_win_ratio_14d  10312 non-null  float64\n",
      " 42  T1_quality        9993 non-null   float64\n",
      " 43  T1_seed           1904 non-null   float64\n",
      " 44  T1_OrdinalRank    6534 non-null   float64\n",
      "dtypes: float64(43), int64(2)\n",
      "memory usage: 3.7 MB\n"
     ]
    }
   ],
   "source": [
    "season_statistics.info()"
   ]
  },
  {
   "cell_type": "code",
   "execution_count": 12,
   "id": "797dac73",
   "metadata": {
    "execution": {
     "iopub.execute_input": "2025-03-13T02:48:27.855038Z",
     "iopub.status.busy": "2025-03-13T02:48:27.855038Z",
     "iopub.status.idle": "2025-03-13T02:48:27.893363Z",
     "shell.execute_reply": "2025-03-13T02:48:27.893363Z"
    },
    "papermill": {
     "duration": 0.053949,
     "end_time": "2025-03-13T02:48:27.893363",
     "exception": false,
     "start_time": "2025-03-13T02:48:27.839414",
     "status": "completed"
    },
    "tags": []
   },
   "outputs": [],
   "source": [
    "####ボックスscoreの平均に対して、過去３年の加重平均を取るときの処理 ####\n",
    "def get_mean_of_3_season(val_2ps, val_1ps, val_0ps, \n",
    "                         weight_2, weight_1, weight_0, \n",
    "                         degree_weight=1.0\n",
    "                         ):\n",
    "    weight_2 = weight_2**degree_weight\n",
    "    weight_1 = weight_1**degree_weight\n",
    "    weight_0 = weight_0**degree_weight\n",
    "    if val_2ps == 0  and val_1ps == 0:\n",
    "        return val_0ps\n",
    "    elif val_2ps == 0:\n",
    "        return (val_1ps*weight_2 + val_0ps*weight_1)/(weight_2 + weight_1)\n",
    "    else:\n",
    "        sum_of_values = val_2ps*weight_2 + val_1ps*weight_1 + val_0ps*weight_0\n",
    "        return sum_of_values/(weight_2 + weight_1 + weight_0)\n",
    "\n",
    "def get_3_feature(df_team, feature):\n",
    "    value_2_seasons_ago = 0\n",
    "    value_1_season_ago = 0\n",
    "    value_0_season_ago = 0\n",
    "    for _, val in df_team.iterrows():\n",
    "        value_2_seasons_ago = value_1_season_ago\n",
    "        value_1_season_ago = value_0_season_ago\n",
    "        value_0_season_ago = val[feature]\n",
    "    return value_2_seasons_ago, value_1_season_ago, value_0_season_ago\n",
    "\n",
    "def write_mean_of_3_seasons(df, features, weight, degree_weight=1.0):\n",
    "    \"\"\"\n",
    "    val_0ps - current season value\n",
    "    weight_0 - current season weight\n",
    "    val_1ps - last season value\n",
    "    val_2ps - the value of the season before last\n",
    "    \"\"\"\n",
    "    weight_2=weight[0]\n",
    "    weight_1=weight[1]\n",
    "    weight_0=weight[2]\n",
    "    df_copy = df.copy()\n",
    "    suffix = \"_mn3s\"\n",
    "    \n",
    "    for ft in features:\n",
    "        df_copy[ft + suffix] = 0\n",
    "    for idx, val in tqdm(df_copy.iterrows(), total=len(df_copy)):\n",
    "        team = val.T1_TeamID\n",
    "        season = val.Season\n",
    "        df_team = df_copy[(df_copy.T1_TeamID == team)&\n",
    "                          (df_copy.Season <= season)&\n",
    "                          (df_copy.Season > season-3)]\n",
    "        for ft in features:\n",
    "            val_2ps, val_1ps, val_0ps = get_3_feature(df_team, ft)\n",
    "            ft_mean_3 = get_mean_of_3_season(val_2ps, val_1ps, val_0ps, weight_2, weight_1, weight_0, degree_weight=degree_weight)\n",
    "            df_copy.loc[idx, ft + suffix] = ft_mean_3\n",
    "    return df_copy"
   ]
  },
  {
   "cell_type": "code",
   "execution_count": 13,
   "id": "96d983cb",
   "metadata": {
    "execution": {
     "iopub.execute_input": "2025-03-13T02:48:27.903078Z",
     "iopub.status.busy": "2025-03-13T02:48:27.903078Z",
     "iopub.status.idle": "2025-03-13T02:48:27.938546Z",
     "shell.execute_reply": "2025-03-13T02:48:27.938546Z"
    },
    "papermill": {
     "duration": 0.045183,
     "end_time": "2025-03-13T02:48:27.938546",
     "exception": false,
     "start_time": "2025-03-13T02:48:27.893363",
     "status": "completed"
    },
    "tags": []
   },
   "outputs": [
    {
     "name": "stdout",
     "output_type": "stream",
     "text": [
      "#####\n",
      "skip 3 season verage\n",
      "#####\n"
     ]
    },
    {
     "data": {
      "text/html": [
       "<div>\n",
       "<style scoped>\n",
       "    .dataframe tbody tr th:only-of-type {\n",
       "        vertical-align: middle;\n",
       "    }\n",
       "\n",
       "    .dataframe tbody tr th {\n",
       "        vertical-align: top;\n",
       "    }\n",
       "\n",
       "    .dataframe thead th {\n",
       "        text-align: right;\n",
       "    }\n",
       "</style>\n",
       "<table border=\"1\" class=\"dataframe\">\n",
       "  <thead>\n",
       "    <tr style=\"text-align: right;\">\n",
       "      <th></th>\n",
       "      <th>Season</th>\n",
       "      <th>T1_TeamID</th>\n",
       "      <th>T1_Scoremean</th>\n",
       "      <th>T1_opponent_Scoremean</th>\n",
       "      <th>T1_PointDiffmean</th>\n",
       "      <th>T1_FGMmean</th>\n",
       "      <th>T1_opponent_FGMmean</th>\n",
       "      <th>T1_FGAmean</th>\n",
       "      <th>T1_opponent_FGAmean</th>\n",
       "      <th>T1_FGM3mean</th>\n",
       "      <th>...</th>\n",
       "      <th>T1_Stlmean</th>\n",
       "      <th>T1_opponent_Stlmean</th>\n",
       "      <th>T1_Blkmean</th>\n",
       "      <th>T1_opponent_Blkmean</th>\n",
       "      <th>T1_PFmean</th>\n",
       "      <th>T1_opponent_PFmean</th>\n",
       "      <th>T1_win_ratio_14d</th>\n",
       "      <th>T1_quality</th>\n",
       "      <th>T1_seed</th>\n",
       "      <th>T1_OrdinalRank</th>\n",
       "    </tr>\n",
       "  </thead>\n",
       "  <tbody>\n",
       "    <tr>\n",
       "      <th>0</th>\n",
       "      <td>2003</td>\n",
       "      <td>1102</td>\n",
       "      <td>57.250000</td>\n",
       "      <td>57.000000</td>\n",
       "      <td>0.25000</td>\n",
       "      <td>19.142857</td>\n",
       "      <td>19.285714</td>\n",
       "      <td>39.785714</td>\n",
       "      <td>42.428571</td>\n",
       "      <td>7.821429</td>\n",
       "      <td>...</td>\n",
       "      <td>5.964286</td>\n",
       "      <td>5.428571</td>\n",
       "      <td>1.785714</td>\n",
       "      <td>1.571429</td>\n",
       "      <td>18.750000</td>\n",
       "      <td>18.357143</td>\n",
       "      <td>0.333333</td>\n",
       "      <td>-0.070776</td>\n",
       "      <td>NaN</td>\n",
       "      <td>144.2875</td>\n",
       "    </tr>\n",
       "    <tr>\n",
       "      <th>1</th>\n",
       "      <td>2003</td>\n",
       "      <td>1103</td>\n",
       "      <td>78.777778</td>\n",
       "      <td>78.148148</td>\n",
       "      <td>0.62963</td>\n",
       "      <td>27.148148</td>\n",
       "      <td>27.777778</td>\n",
       "      <td>55.851852</td>\n",
       "      <td>57.000000</td>\n",
       "      <td>5.444444</td>\n",
       "      <td>...</td>\n",
       "      <td>7.259259</td>\n",
       "      <td>6.407407</td>\n",
       "      <td>2.333333</td>\n",
       "      <td>2.851852</td>\n",
       "      <td>19.851852</td>\n",
       "      <td>22.444444</td>\n",
       "      <td>0.333333</td>\n",
       "      <td>-0.116192</td>\n",
       "      <td>NaN</td>\n",
       "      <td>182.2050</td>\n",
       "    </tr>\n",
       "  </tbody>\n",
       "</table>\n",
       "<p>2 rows × 45 columns</p>\n",
       "</div>"
      ],
      "text/plain": [
       "   Season  T1_TeamID  T1_Scoremean  T1_opponent_Scoremean  T1_PointDiffmean  \\\n",
       "0    2003       1102     57.250000              57.000000           0.25000   \n",
       "1    2003       1103     78.777778              78.148148           0.62963   \n",
       "\n",
       "   T1_FGMmean  T1_opponent_FGMmean  T1_FGAmean  T1_opponent_FGAmean  \\\n",
       "0   19.142857            19.285714   39.785714            42.428571   \n",
       "1   27.148148            27.777778   55.851852            57.000000   \n",
       "\n",
       "   T1_FGM3mean  ...  T1_Stlmean  T1_opponent_Stlmean  T1_Blkmean  \\\n",
       "0     7.821429  ...    5.964286             5.428571    1.785714   \n",
       "1     5.444444  ...    7.259259             6.407407    2.333333   \n",
       "\n",
       "   T1_opponent_Blkmean  T1_PFmean  T1_opponent_PFmean  T1_win_ratio_14d  \\\n",
       "0             1.571429  18.750000           18.357143          0.333333   \n",
       "1             2.851852  19.851852           22.444444          0.333333   \n",
       "\n",
       "   T1_quality  T1_seed  T1_OrdinalRank  \n",
       "0   -0.070776      NaN        144.2875  \n",
       "1   -0.116192      NaN        182.2050  \n",
       "\n",
       "[2 rows x 45 columns]"
      ]
     },
     "metadata": {},
     "output_type": "display_data"
    },
    {
     "data": {
      "text/html": [
       "<div>\n",
       "<style scoped>\n",
       "    .dataframe tbody tr th:only-of-type {\n",
       "        vertical-align: middle;\n",
       "    }\n",
       "\n",
       "    .dataframe tbody tr th {\n",
       "        vertical-align: top;\n",
       "    }\n",
       "\n",
       "    .dataframe thead th {\n",
       "        text-align: right;\n",
       "    }\n",
       "</style>\n",
       "<table border=\"1\" class=\"dataframe\">\n",
       "  <thead>\n",
       "    <tr style=\"text-align: right;\">\n",
       "      <th></th>\n",
       "      <th>Season</th>\n",
       "      <th>T2_TeamID</th>\n",
       "      <th>T2_Scoremean</th>\n",
       "      <th>T2_opponent_Scoremean</th>\n",
       "      <th>T2_PointDiffmean</th>\n",
       "      <th>T2_FGMmean</th>\n",
       "      <th>T2_opponent_FGMmean</th>\n",
       "      <th>T2_FGAmean</th>\n",
       "      <th>T2_opponent_FGAmean</th>\n",
       "      <th>T2_FGM3mean</th>\n",
       "      <th>...</th>\n",
       "      <th>T2_Stlmean</th>\n",
       "      <th>T2_opponent_Stlmean</th>\n",
       "      <th>T2_Blkmean</th>\n",
       "      <th>T2_opponent_Blkmean</th>\n",
       "      <th>T2_PFmean</th>\n",
       "      <th>T2_opponent_PFmean</th>\n",
       "      <th>T2_win_ratio_14d</th>\n",
       "      <th>T2_quality</th>\n",
       "      <th>T2_seed</th>\n",
       "      <th>T2_OrdinalRank</th>\n",
       "    </tr>\n",
       "  </thead>\n",
       "  <tbody>\n",
       "    <tr>\n",
       "      <th>10695</th>\n",
       "      <td>2021</td>\n",
       "      <td>3470</td>\n",
       "      <td>58.571429</td>\n",
       "      <td>67.000000</td>\n",
       "      <td>-8.428571</td>\n",
       "      <td>18.428571</td>\n",
       "      <td>25.000000</td>\n",
       "      <td>54.333333</td>\n",
       "      <td>59.333333</td>\n",
       "      <td>5.047619</td>\n",
       "      <td>...</td>\n",
       "      <td>7.047619</td>\n",
       "      <td>7.380952</td>\n",
       "      <td>2.666667</td>\n",
       "      <td>2.666667</td>\n",
       "      <td>14.761905</td>\n",
       "      <td>21.714286</td>\n",
       "      <td>0.25</td>\n",
       "      <td>-1.180630</td>\n",
       "      <td>NaN</td>\n",
       "      <td>NaN</td>\n",
       "    </tr>\n",
       "    <tr>\n",
       "      <th>10696</th>\n",
       "      <td>2021</td>\n",
       "      <td>3471</td>\n",
       "      <td>61.066667</td>\n",
       "      <td>66.666667</td>\n",
       "      <td>-5.600000</td>\n",
       "      <td>21.400000</td>\n",
       "      <td>24.733333</td>\n",
       "      <td>59.066667</td>\n",
       "      <td>59.266667</td>\n",
       "      <td>8.933333</td>\n",
       "      <td>...</td>\n",
       "      <td>5.600000</td>\n",
       "      <td>8.066667</td>\n",
       "      <td>2.066667</td>\n",
       "      <td>3.133333</td>\n",
       "      <td>15.333333</td>\n",
       "      <td>14.800000</td>\n",
       "      <td>0.50</td>\n",
       "      <td>-0.411866</td>\n",
       "      <td>NaN</td>\n",
       "      <td>NaN</td>\n",
       "    </tr>\n",
       "  </tbody>\n",
       "</table>\n",
       "<p>2 rows × 45 columns</p>\n",
       "</div>"
      ],
      "text/plain": [
       "       Season  T2_TeamID  T2_Scoremean  T2_opponent_Scoremean  \\\n",
       "10695    2021       3470     58.571429              67.000000   \n",
       "10696    2021       3471     61.066667              66.666667   \n",
       "\n",
       "       T2_PointDiffmean  T2_FGMmean  T2_opponent_FGMmean  T2_FGAmean  \\\n",
       "10695         -8.428571   18.428571            25.000000   54.333333   \n",
       "10696         -5.600000   21.400000            24.733333   59.066667   \n",
       "\n",
       "       T2_opponent_FGAmean  T2_FGM3mean  ...  T2_Stlmean  T2_opponent_Stlmean  \\\n",
       "10695            59.333333     5.047619  ...    7.047619             7.380952   \n",
       "10696            59.266667     8.933333  ...    5.600000             8.066667   \n",
       "\n",
       "       T2_Blkmean  T2_opponent_Blkmean  T2_PFmean  T2_opponent_PFmean  \\\n",
       "10695    2.666667             2.666667  14.761905           21.714286   \n",
       "10696    2.066667             3.133333  15.333333           14.800000   \n",
       "\n",
       "       T2_win_ratio_14d  T2_quality  T2_seed  T2_OrdinalRank  \n",
       "10695              0.25   -1.180630      NaN             NaN  \n",
       "10696              0.50   -0.411866      NaN             NaN  \n",
       "\n",
       "[2 rows x 45 columns]"
      ]
     },
     "metadata": {},
     "output_type": "display_data"
    }
   ],
   "source": [
    "flag_3season_avg = FEATURES.season_average.enabled\n",
    "\n",
    "#trueのときの処理理解してfalseと一致させる\n",
    "if flag_3season_avg:\n",
    "    print(\"#####\")\n",
    "    print(\"use 3 season average\")\n",
    "    print(\"#####\")\n",
    "    weight = FEATURES.season_average.weights\n",
    "    years = FEATURES.season_average.past_years\n",
    "    assert years==len(weight)\n",
    "    \n",
    "    features_for_calc = [\"T1_Scoremean\", \"T1_FGAmean\",  \"T1_FGA3mean\"]\n",
    "    season_statistics_with_3_seas = write_mean_of_3_seasons(\n",
    "        season_statistics, features_for_calc, weight, degree_weight=1.0\n",
    "    )\n",
    "    \n",
    "    season_statistics_T1 = season_statistics_with_3_seas.copy()\n",
    "    season_statistics_T2 = season_statistics_with_3_seas.copy()\n",
    "    \n",
    "else:\n",
    "    print(\"#####\")\n",
    "    print(\"skip 3 season verage\")\n",
    "    print(\"#####\")\n",
    "    season_statistics_T1 = season_statistics.copy()\n",
    "    season_statistics_T2 = season_statistics.copy()\n",
    "\n",
    "season_statistics_T1.columns = [\"T1_\" + x.replace(\"T1_\",\"\").replace(\"T2_\",\"opponent_\") for x in list(season_statistics_T1.columns)]\n",
    "season_statistics_T2.columns = [\"T2_\" + x.replace(\"T1_\",\"\").replace(\"T2_\",\"opponent_\") for x in list(season_statistics_T2.columns)]\n",
    "season_statistics_T1.columns.values[0] = \"Season\"\n",
    "season_statistics_T2.columns.values[0] = \"Season\"\n",
    "\n",
    "\n",
    "season_statistics_T2.rename(columns = {\n",
    "    \"T1_TeamID\": \"T2_TeamID\"\n",
    "}, inplace=True)\n",
    "display(season_statistics_T1.head(2), season_statistics_T2.tail(2))"
   ]
  },
  {
   "cell_type": "markdown",
   "id": "f5cd0a94",
   "metadata": {
    "papermill": {
     "duration": 0.012517,
     "end_time": "2025-03-13T02:48:27.951063",
     "exception": false,
     "start_time": "2025-03-13T02:48:27.938546",
     "status": "completed"
    },
    "tags": []
   },
   "source": [
    "# Toureney dataの処理\n",
    "1. pointdiff, pointが目的変数となるのでそれはyに分離\n",
    "2. seasonstatisticを結合したものをXとして作る"
   ]
  },
  {
   "cell_type": "code",
   "execution_count": 14,
   "id": "a65afbb6",
   "metadata": {
    "execution": {
     "iopub.execute_input": "2025-03-13T02:48:27.973019Z",
     "iopub.status.busy": "2025-03-13T02:48:27.973019Z",
     "iopub.status.idle": "2025-03-13T02:48:27.978128Z",
     "shell.execute_reply": "2025-03-13T02:48:27.978128Z"
    },
    "papermill": {
     "duration": 0.016116,
     "end_time": "2025-03-13T02:48:27.979142",
     "exception": false,
     "start_time": "2025-03-13T02:48:27.963026",
     "status": "completed"
    },
    "tags": []
   },
   "outputs": [],
   "source": [
    "\n",
    "def process_tourney(df1, mode=\"tourney\"):\n",
    "    #Season, teamid ->X, team_score->y\n",
    "    df = df1.copy()\n",
    "    if mode==\"tourney\":\n",
    "        df = prepare_data(df) \n",
    "        y = df[\"T1_Score\"]-df[\"T2_Score\"]\n",
    "    X = df[['Season', 'T1_TeamID', 'T2_TeamID']]\n",
    "    X = pd.merge(X, season_statistics_T1, on = ['Season', 'T1_TeamID'], how = 'left')\n",
    "    X = pd.merge(X, season_statistics_T2, on = ['Season', 'T2_TeamID'], how = 'left')\n",
    "    \n",
    "    #seed->seed diff\n",
    "    X[\"seed_diff\"] = X[\"T1_seed\"] - X[\"T2_seed\"]\n",
    "    #rank->rank diff\n",
    "    X[\"rank_diff\"] = X[\"T1_OrdinalRank\"] - X[\"T2_OrdinalRank\"]\n",
    "    #quality->quality diff\n",
    "    X[\"quality_diff\"] = X[\"T1_quality\"] - X[\"T2_quality\"]\n",
    "    #win_ratio_14d -> win_raio_14d_diff\n",
    "    X[\"win_ratio_14d_diff\"] = X[\"T1_win_ratio_14d\"] - X[\"T2_win_ratio_14d\"]\n",
    "    #tourney_data.drop(columns=[\"T1_seed\", \"T2_seed\"], inplace=True)\n",
    "\n",
    "    X = X.drop(columns=[\"T1_seed\", \"T2_seed\", \"T1_OrdinalRank\", \"T2_OrdinalRank\", \n",
    "                        \"T1_quality\", \"T2_quality\", \"T1_win_ratio_14d\", \"T2_win_ratio_14d\"\n",
    "                        ])\n",
    "\n",
    "\n",
    "    # if fillna is true-> run fillna()\n",
    "    FILLNA = FEATURES.fillna.quality\n",
    "    if FILLNA==\"nan\":\n",
    "        print(f\"no fillna, use nan\")\n",
    "        X[\"quality_diff\"] = X[\"quality_diff\"].fillna(np.nan)\n",
    "    else:\n",
    "        print(f\"fillna quality feature for {FILLNA}\")\n",
    "        X[\"quality_diff\"] = X[\"quality_diff\"].fillna(FILLNA)\n",
    "\n",
    "        \n",
    "    return X, y if mode==\"tourney\" else X"
   ]
  },
  {
   "cell_type": "code",
   "execution_count": 15,
   "id": "677f6593",
   "metadata": {
    "execution": {
     "iopub.execute_input": "2025-03-13T02:48:27.990157Z",
     "iopub.status.busy": "2025-03-13T02:48:27.990157Z",
     "iopub.status.idle": "2025-03-13T02:48:28.040136Z",
     "shell.execute_reply": "2025-03-13T02:48:28.040136Z"
    },
    "papermill": {
     "duration": 0.055126,
     "end_time": "2025-03-13T02:48:28.042269",
     "exception": false,
     "start_time": "2025-03-13T02:48:27.987143",
     "status": "completed"
    },
    "tags": []
   },
   "outputs": [
    {
     "name": "stdout",
     "output_type": "stream",
     "text": [
      "<class 'pandas.core.frame.DataFrame'>\n",
      "Index: 1745 entries, 0 to 2011\n",
      "Data columns (total 56 columns):\n",
      " #   Column       Non-Null Count  Dtype  \n",
      "---  ------       --------------  -----  \n",
      " 0   Season       1745 non-null   int64  \n",
      " 1   DayNum       1745 non-null   int64  \n",
      " 2   WTeamID      1745 non-null   int64  \n",
      " 3   WScore       1745 non-null   int64  \n",
      " 4   LTeamID      1745 non-null   int64  \n",
      " 5   LScore       1745 non-null   int64  \n",
      " 6   WLoc         1745 non-null   object \n",
      " 7   NumOT        1745 non-null   int64  \n",
      " 8   WFGM         1745 non-null   int64  \n",
      " 9   WFGA         1745 non-null   int64  \n",
      " 10  WFGM3        1745 non-null   int64  \n",
      " 11  WFGA3        1745 non-null   int64  \n",
      " 12  WFTM         1745 non-null   int64  \n",
      " 13  WFTA         1745 non-null   int64  \n",
      " 14  WOR          1745 non-null   int64  \n",
      " 15  WDR          1745 non-null   int64  \n",
      " 16  WAst         1745 non-null   int64  \n",
      " 17  WTO          1745 non-null   int64  \n",
      " 18  WStl         1745 non-null   int64  \n",
      " 19  WBlk         1745 non-null   int64  \n",
      " 20  WPF          1745 non-null   int64  \n",
      " 21  LFGM         1745 non-null   int64  \n",
      " 22  LFGA         1745 non-null   int64  \n",
      " 23  LFGM3        1745 non-null   int64  \n",
      " 24  LFGA3        1745 non-null   int64  \n",
      " 25  LFTM         1745 non-null   int64  \n",
      " 26  LFTA         1745 non-null   int64  \n",
      " 27  LOR          1745 non-null   int64  \n",
      " 28  LDR          1745 non-null   int64  \n",
      " 29  LAst         1745 non-null   int64  \n",
      " 30  LTO          1745 non-null   int64  \n",
      " 31  LStl         1745 non-null   int64  \n",
      " 32  LBlk         1745 non-null   int64  \n",
      " 33  LPF          1745 non-null   int64  \n",
      " 34  WEFFG        1745 non-null   float64\n",
      " 35  LEFFG        1745 non-null   float64\n",
      " 36  WEFFG3       1745 non-null   float64\n",
      " 37  LEFFG3       1745 non-null   float64\n",
      " 38  WDARE        1745 non-null   float64\n",
      " 39  LDARE        1745 non-null   float64\n",
      " 40  WTOQUETOQUE  1745 non-null   float64\n",
      " 41  LTOQUETOQUE  1745 non-null   float64\n",
      " 42  WEFG_SUM     1745 non-null   float64\n",
      " 43  LEFG_SUM     1745 non-null   float64\n",
      " 44  WPOSS        1745 non-null   float64\n",
      " 45  LPOSS        1745 non-null   float64\n",
      " 46  WPOSS_RATE   1745 non-null   float64\n",
      " 47  LPOSS_RATE   1745 non-null   float64\n",
      " 48  WTO_RATIO    1745 non-null   float64\n",
      " 49  LTO_RATIO    1745 non-null   float64\n",
      " 50  WREB_RATE    1745 non-null   float64\n",
      " 51  LREB_RATE    1745 non-null   float64\n",
      " 52  WFT_RATE     1745 non-null   float64\n",
      " 53  LFT_RATE     1745 non-null   float64\n",
      " 54  WRATING      1745 non-null   float64\n",
      " 55  LRATING      1745 non-null   float64\n",
      "dtypes: float64(22), int64(33), object(1)\n",
      "memory usage: 777.1+ KB\n",
      "None\n",
      "feature cols after prepare()\n",
      "Index(['Season', 'DayNum', 'T1_TeamID', 'T1_Score', 'T2_TeamID', 'T2_Score',\n",
      "       'location', 'NumOT', 'T1_FGM', 'T1_FGA', 'T1_FGM3', 'T1_FGA3', 'T1_FTM',\n",
      "       'T1_FTA', 'T1_OR', 'T1_DR', 'T1_Ast', 'T1_TO', 'T1_Stl', 'T1_Blk',\n",
      "       'T1_PF', 'T2_FGM', 'T2_FGA', 'T2_FGM3', 'T2_FGA3', 'T2_FTM', 'T2_FTA',\n",
      "       'T2_OR', 'T2_DR', 'T2_Ast', 'T2_TO', 'T2_Stl', 'T2_Blk', 'T2_PF',\n",
      "       'T1_EFFG', 'T2_EFFG', 'T1_EFFG3', 'T2_EFFG3', 'T1_DARE', 'T2_DARE',\n",
      "       'T1_TOQUETOQUE', 'T2_TOQUETOQUE', 'T1_EFG_SUM', 'T2_EFG_SUM', 'T1_POSS',\n",
      "       'T2_POSS', 'T1_POSS_RATE', 'T2_POSS_RATE', 'T1_TO_RATIO', 'T2_TO_RATIO',\n",
      "       'T1_REB_RATE', 'T2_REB_RATE', 'T1_FT_RATE', 'T2_FT_RATE', 'T1_RATING',\n",
      "       'T2_RATING', 'PointDiff', 'win'],\n",
      "      dtype='object')\n",
      "no fillna, use nan\n"
     ]
    }
   ],
   "source": [
    "X, y = process_tourney(tourney_results)"
   ]
  },
  {
   "cell_type": "code",
   "execution_count": 16,
   "id": "1efe66e2",
   "metadata": {
    "execution": {
     "iopub.execute_input": "2025-03-13T02:48:28.056966Z",
     "iopub.status.busy": "2025-03-13T02:48:28.056966Z",
     "iopub.status.idle": "2025-03-13T02:48:28.061944Z",
     "shell.execute_reply": "2025-03-13T02:48:28.061944Z"
    },
    "papermill": {
     "duration": 0.012626,
     "end_time": "2025-03-13T02:48:28.061944",
     "exception": false,
     "start_time": "2025-03-13T02:48:28.049318",
     "status": "completed"
    },
    "tags": []
   },
   "outputs": [
    {
     "name": "stdout",
     "output_type": "stream",
     "text": [
      "最終的な X の特徴量\n",
      "Index(['Season', 'T1_TeamID', 'T2_TeamID', 'T1_Scoremean',\n",
      "       'T1_opponent_Scoremean', 'T1_PointDiffmean', 'T1_FGMmean',\n",
      "       'T1_opponent_FGMmean', 'T1_FGAmean', 'T1_opponent_FGAmean',\n",
      "       'T1_FGM3mean', 'T1_opponent_FGM3mean', 'T1_FGA3mean',\n",
      "       'T1_opponent_FGA3mean', 'T1_FTMmean', 'T1_opponent_FTMmean',\n",
      "       'T1_FTAmean', 'T1_opponent_FTAmean', 'T1_EFG_SUMmean',\n",
      "       'T1_opponent_EFG_SUMmean', 'T1_TO_RATIOmean',\n",
      "       'T1_opponent_TO_RATIOmean', 'T1_ORmean', 'T1_opponent_ORmean',\n",
      "       'T1_DRmean', 'T1_opponent_DRmean', 'T1_REB_RATEmean',\n",
      "       'T1_opponent_REB_RATEmean', 'T1_FT_RATEmean', 'T1_opponent_FT_RATEmean',\n",
      "       'T1_POSS_RATEmean', 'T1_opponent_POSS_RATEmean', 'T1_Astmean',\n",
      "       'T1_opponent_Astmean', 'T1_TOmean', 'T1_opponent_TOmean', 'T1_Stlmean',\n",
      "       'T1_opponent_Stlmean', 'T1_Blkmean', 'T1_opponent_Blkmean', 'T1_PFmean',\n",
      "       'T1_opponent_PFmean', 'T2_Scoremean', 'T2_opponent_Scoremean',\n",
      "       'T2_PointDiffmean', 'T2_FGMmean', 'T2_opponent_FGMmean', 'T2_FGAmean',\n",
      "       'T2_opponent_FGAmean', 'T2_FGM3mean', 'T2_opponent_FGM3mean',\n",
      "       'T2_FGA3mean', 'T2_opponent_FGA3mean', 'T2_FTMmean',\n",
      "       'T2_opponent_FTMmean', 'T2_FTAmean', 'T2_opponent_FTAmean',\n",
      "       'T2_EFG_SUMmean', 'T2_opponent_EFG_SUMmean', 'T2_TO_RATIOmean',\n",
      "       'T2_opponent_TO_RATIOmean', 'T2_ORmean', 'T2_opponent_ORmean',\n",
      "       'T2_DRmean', 'T2_opponent_DRmean', 'T2_REB_RATEmean',\n",
      "       'T2_opponent_REB_RATEmean', 'T2_FT_RATEmean', 'T2_opponent_FT_RATEmean',\n",
      "       'T2_POSS_RATEmean', 'T2_opponent_POSS_RATEmean', 'T2_Astmean',\n",
      "       'T2_opponent_Astmean', 'T2_TOmean', 'T2_opponent_TOmean', 'T2_Stlmean',\n",
      "       'T2_opponent_Stlmean', 'T2_Blkmean', 'T2_opponent_Blkmean', 'T2_PFmean',\n",
      "       'T2_opponent_PFmean', 'seed_diff', 'rank_diff', 'quality_diff',\n",
      "       'win_ratio_14d_diff'],\n",
      "      dtype='object')\n"
     ]
    }
   ],
   "source": [
    "print(\"最終的な X の特徴量\")\n",
    "print(X.columns)"
   ]
  },
  {
   "cell_type": "code",
   "execution_count": 17,
   "id": "048578ec",
   "metadata": {
    "execution": {
     "iopub.execute_input": "2025-03-13T02:48:28.087692Z",
     "iopub.status.busy": "2025-03-13T02:48:28.087692Z",
     "iopub.status.idle": "2025-03-13T02:48:28.099994Z",
     "shell.execute_reply": "2025-03-13T02:48:28.099994Z"
    },
    "papermill": {
     "duration": 0.02828,
     "end_time": "2025-03-13T02:48:28.099994",
     "exception": false,
     "start_time": "2025-03-13T02:48:28.071714",
     "status": "completed"
    },
    "tags": []
   },
   "outputs": [
    {
     "name": "stdout",
     "output_type": "stream",
     "text": [
      "<class 'pandas.core.frame.DataFrame'>\n",
      "RangeIndex: 3490 entries, 0 to 3489\n",
      "Data columns (total 85 columns):\n",
      " #   Column                     Non-Null Count  Dtype  \n",
      "---  ------                     --------------  -----  \n",
      " 0   Season                     3490 non-null   int64  \n",
      " 1   T1_TeamID                  3490 non-null   int64  \n",
      " 2   T2_TeamID                  3490 non-null   int64  \n",
      " 3   T1_Scoremean               3490 non-null   float64\n",
      " 4   T1_opponent_Scoremean      3490 non-null   float64\n",
      " 5   T1_PointDiffmean           3490 non-null   float64\n",
      " 6   T1_FGMmean                 3490 non-null   float64\n",
      " 7   T1_opponent_FGMmean        3490 non-null   float64\n",
      " 8   T1_FGAmean                 3490 non-null   float64\n",
      " 9   T1_opponent_FGAmean        3490 non-null   float64\n",
      " 10  T1_FGM3mean                3490 non-null   float64\n",
      " 11  T1_opponent_FGM3mean       3490 non-null   float64\n",
      " 12  T1_FGA3mean                3490 non-null   float64\n",
      " 13  T1_opponent_FGA3mean       3490 non-null   float64\n",
      " 14  T1_FTMmean                 3490 non-null   float64\n",
      " 15  T1_opponent_FTMmean        3490 non-null   float64\n",
      " 16  T1_FTAmean                 3490 non-null   float64\n",
      " 17  T1_opponent_FTAmean        3490 non-null   float64\n",
      " 18  T1_EFG_SUMmean             3490 non-null   float64\n",
      " 19  T1_opponent_EFG_SUMmean    3490 non-null   float64\n",
      " 20  T1_TO_RATIOmean            3490 non-null   float64\n",
      " 21  T1_opponent_TO_RATIOmean   3490 non-null   float64\n",
      " 22  T1_ORmean                  3490 non-null   float64\n",
      " 23  T1_opponent_ORmean         3490 non-null   float64\n",
      " 24  T1_DRmean                  3490 non-null   float64\n",
      " 25  T1_opponent_DRmean         3490 non-null   float64\n",
      " 26  T1_REB_RATEmean            3490 non-null   float64\n",
      " 27  T1_opponent_REB_RATEmean   3490 non-null   float64\n",
      " 28  T1_FT_RATEmean             3490 non-null   float64\n",
      " 29  T1_opponent_FT_RATEmean    3490 non-null   float64\n",
      " 30  T1_POSS_RATEmean           3490 non-null   float64\n",
      " 31  T1_opponent_POSS_RATEmean  3490 non-null   float64\n",
      " 32  T1_Astmean                 3490 non-null   float64\n",
      " 33  T1_opponent_Astmean        3490 non-null   float64\n",
      " 34  T1_TOmean                  3490 non-null   float64\n",
      " 35  T1_opponent_TOmean         3490 non-null   float64\n",
      " 36  T1_Stlmean                 3490 non-null   float64\n",
      " 37  T1_opponent_Stlmean        3490 non-null   float64\n",
      " 38  T1_Blkmean                 3490 non-null   float64\n",
      " 39  T1_opponent_Blkmean        3490 non-null   float64\n",
      " 40  T1_PFmean                  3490 non-null   float64\n",
      " 41  T1_opponent_PFmean         3490 non-null   float64\n",
      " 42  T2_Scoremean               3490 non-null   float64\n",
      " 43  T2_opponent_Scoremean      3490 non-null   float64\n",
      " 44  T2_PointDiffmean           3490 non-null   float64\n",
      " 45  T2_FGMmean                 3490 non-null   float64\n",
      " 46  T2_opponent_FGMmean        3490 non-null   float64\n",
      " 47  T2_FGAmean                 3490 non-null   float64\n",
      " 48  T2_opponent_FGAmean        3490 non-null   float64\n",
      " 49  T2_FGM3mean                3490 non-null   float64\n",
      " 50  T2_opponent_FGM3mean       3490 non-null   float64\n",
      " 51  T2_FGA3mean                3490 non-null   float64\n",
      " 52  T2_opponent_FGA3mean       3490 non-null   float64\n",
      " 53  T2_FTMmean                 3490 non-null   float64\n",
      " 54  T2_opponent_FTMmean        3490 non-null   float64\n",
      " 55  T2_FTAmean                 3490 non-null   float64\n",
      " 56  T2_opponent_FTAmean        3490 non-null   float64\n",
      " 57  T2_EFG_SUMmean             3490 non-null   float64\n",
      " 58  T2_opponent_EFG_SUMmean    3490 non-null   float64\n",
      " 59  T2_TO_RATIOmean            3490 non-null   float64\n",
      " 60  T2_opponent_TO_RATIOmean   3490 non-null   float64\n",
      " 61  T2_ORmean                  3490 non-null   float64\n",
      " 62  T2_opponent_ORmean         3490 non-null   float64\n",
      " 63  T2_DRmean                  3490 non-null   float64\n",
      " 64  T2_opponent_DRmean         3490 non-null   float64\n",
      " 65  T2_REB_RATEmean            3490 non-null   float64\n",
      " 66  T2_opponent_REB_RATEmean   3490 non-null   float64\n",
      " 67  T2_FT_RATEmean             3490 non-null   float64\n",
      " 68  T2_opponent_FT_RATEmean    3490 non-null   float64\n",
      " 69  T2_POSS_RATEmean           3490 non-null   float64\n",
      " 70  T2_opponent_POSS_RATEmean  3490 non-null   float64\n",
      " 71  T2_Astmean                 3490 non-null   float64\n",
      " 72  T2_opponent_Astmean        3490 non-null   float64\n",
      " 73  T2_TOmean                  3490 non-null   float64\n",
      " 74  T2_opponent_TOmean         3490 non-null   float64\n",
      " 75  T2_Stlmean                 3490 non-null   float64\n",
      " 76  T2_opponent_Stlmean        3490 non-null   float64\n",
      " 77  T2_Blkmean                 3490 non-null   float64\n",
      " 78  T2_opponent_Blkmean        3490 non-null   float64\n",
      " 79  T2_PFmean                  3490 non-null   float64\n",
      " 80  T2_opponent_PFmean         3490 non-null   float64\n",
      " 81  seed_diff                  3490 non-null   float64\n",
      " 82  rank_diff                  2230 non-null   float64\n",
      " 83  quality_diff               3490 non-null   float64\n",
      " 84  win_ratio_14d_diff         3490 non-null   float64\n",
      "dtypes: float64(82), int64(3)\n",
      "memory usage: 2.3 MB\n"
     ]
    }
   ],
   "source": [
    "X.info()"
   ]
  },
  {
   "cell_type": "markdown",
   "id": "d192f68a",
   "metadata": {
    "papermill": {
     "duration": 0.007582,
     "end_time": "2025-03-13T02:48:28.117656",
     "exception": false,
     "start_time": "2025-03-13T02:48:28.110074",
     "status": "completed"
    },
    "tags": []
   },
   "source": [
    "# build models"
   ]
  },
  {
   "cell_type": "code",
   "execution_count": 18,
   "id": "534568af",
   "metadata": {
    "execution": {
     "iopub.execute_input": "2025-03-13T02:48:28.136087Z",
     "iopub.status.busy": "2025-03-13T02:48:28.136087Z",
     "iopub.status.idle": "2025-03-13T02:48:28.156010Z",
     "shell.execute_reply": "2025-03-13T02:48:28.156010Z"
    },
    "papermill": {
     "duration": 0.030958,
     "end_time": "2025-03-13T02:48:28.157022",
     "exception": false,
     "start_time": "2025-03-13T02:48:28.126064",
     "status": "completed"
    },
    "tags": []
   },
   "outputs": [],
   "source": [
    "\n",
    "val_mae = []\n",
    "iteration_counts = []\n",
    "xgb_cv = []\n",
    "dtrain = xgb.DMatrix(X, label=y)\n",
    "\n",
    "repeat_cv = MODEL.repeat_cv\n",
    "param = dict(MODEL.xgb_model.param)\n",
    "num_boost_round = MODEL.xgb_model.num_boost_round\n",
    "folds_splits = MODEL.xgb_model.folds_splits\n",
    "early_stopping_rounds = MODEL.xgb_model.early_stopping_rounds\n",
    "\n",
    "# コーシー損失関数\n",
    "def cauchyobj(preds, dtrain):\n",
    "    labels = dtrain.get_label()\n",
    "    c = 5000\n",
    "    x = preds - labels    \n",
    "    grad = x / (x**2/c**2 + 1)\n",
    "    hess = -c**2 * (x**2 - c**2) / (x**2 + c**2)**2\n",
    "    return grad, hess"
   ]
  },
  {
   "cell_type": "code",
   "execution_count": 19,
   "id": "3f123dd4",
   "metadata": {
    "execution": {
     "iopub.execute_input": "2025-03-13T02:48:28.180825Z",
     "iopub.status.busy": "2025-03-13T02:48:28.180825Z",
     "iopub.status.idle": "2025-03-13T02:48:28.195286Z",
     "shell.execute_reply": "2025-03-13T02:48:28.195286Z"
    },
    "papermill": {
     "duration": 0.028496,
     "end_time": "2025-03-13T02:48:28.197292",
     "exception": false,
     "start_time": "2025-03-13T02:48:28.168796",
     "status": "completed"
    },
    "tags": []
   },
   "outputs": [],
   "source": [
    "#########################################\n",
    "# 1. Optunaあり：ハイパーパラメータ最適化 #\n",
    "#########################################\n",
    "def run_optuna_optimization(param, optuna_conf):\n",
    "    def objective(trial):  \n",
    "        logger.info(f\"Trial {trial.number} 開始\")\n",
    "        \n",
    "        current_param = param.copy()  \n",
    "        max_depth_range = optuna_conf.max_depth        \n",
    "        eta_range = optuna_conf.eta\n",
    "        subsample_range = optuna_conf.subsample          \n",
    "        colsample_bytree_range = optuna_conf.colsample_bytree\n",
    "        num_parallel_tree_range = optuna_conf.num_parallel_tree \n",
    "        min_child_weight_range = optuna_conf.min_child_weight \n",
    "        reg_alpha_range = optuna_conf.reg_alpha         \n",
    "        reg_lambda_range = optuna_conf.reg_lambda    \n",
    "        reg_gamma_range = optuna_conf.gamma  \n",
    "\n",
    "        current_param[\"max_depth\"] = trial.suggest_int(\"max_depth\", max_depth_range[0], max_depth_range[1])\n",
    "        current_param[\"eta\"] = trial.suggest_float(\"eta\", eta_range[0], eta_range[1], log=True)\n",
    "        current_param[\"subsample\"] = trial.suggest_float(\"subsample\", subsample_range[0], subsample_range[1])\n",
    "        current_param[\"colsample_bytree\"] = trial.suggest_float(\"colsample_bytree\", colsample_bytree_range[0], colsample_bytree_range[1])\n",
    "        current_param[\"num_parallel_tree\"] = trial.suggest_int(\"num_parallel_tree\", num_parallel_tree_range[0], num_parallel_tree_range[1])\n",
    "        current_param[\"min_child_weight\"] = trial.suggest_int(\"min_child_weight\", min_child_weight_range[0], min_child_weight_range[1])\n",
    "        current_param[\"reg_alpha\"] = trial.suggest_float(\"reg_alpha\", reg_alpha_range[0], reg_alpha_range[1])\n",
    "        current_param[\"reg_lambda\"] = trial.suggest_float(\"reg_lambda\", reg_lambda_range[0], reg_lambda_range[1])\n",
    "        current_param[\"gamma\"] = trial.suggest_float(\"gamma\", reg_gamma_range[0], reg_gamma_range[1])\n",
    "        \n",
    "        if current_param.get(\"eval_metric\", \"mae\") == \"rmse\":\n",
    "            score_name = \"test-rmse-mean\"\n",
    "        elif current_param.get(\"eval_metric\", \"mae\") == \"mae\":\n",
    "            score_name = \"test-mae-mean\"\n",
    "        elif  current_param.get(\"eval_metric\", \"mae\") == \"logloss\":\n",
    "            score_name = \"test-logloss-mean\"\n",
    "        \n",
    "        print(current_param)  \n",
    "        cv_scores = []\n",
    "        for i in range(repeat_cv):\n",
    "            cv_result = xgb.cv(\n",
    "                params=current_param,\n",
    "                dtrain=dtrain,\n",
    "                obj=cauchyobj,\n",
    "                num_boost_round=num_boost_round,\n",
    "                folds=KFold(n_splits=folds_splits, shuffle=True, random_state=i),\n",
    "                early_stopping_rounds=early_stopping_rounds,\n",
    "                verbose_eval=False\n",
    "            )\n",
    "            fold_score = np.min(cv_result[score_name].values)\n",
    "            cv_scores.append(fold_score)\n",
    "        mean_score = np.mean(cv_scores)\n",
    "        logger.info(f\"Trial {trial.number} 終了: スコア {mean_score}\")\n",
    "        \n",
    "        return mean_score\n",
    "\n",
    "    logger.info(\"Optuna最適化開始\")\n",
    "    N_WARMUP_STEPS = optuna_conf.n_warmup_steps\n",
    "    TIMEOUT = optuna_conf.timeout\n",
    "    N_JOBS = optuna_conf.n_jobs\n",
    "    N_TRIALS = optuna_conf.n_trials\n",
    "    \n",
    "    sampler = optuna.samplers.TPESampler(seed=42)\n",
    "    pruner = optuna.pruners.MedianPruner(n_warmup_steps=N_WARMUP_STEPS)\n",
    "\n",
    "    study = optuna.create_study(direction=\"minimize\", sampler=sampler, pruner=pruner)\n",
    "    study.optimize(objective, n_trials=N_TRIALS, timeout=TIMEOUT, n_jobs=N_JOBS)\n",
    "\n",
    "    best_trial = study.best_trial\n",
    "    logger.info(\"Best trial:\")\n",
    "    logger.info(f\"  Value: {best_trial.value}\")\n",
    "    \n",
    "    for key, value in best_trial.params.items():\n",
    "        print(f\"    {key}: {value}\")\n",
    "    param.update(best_trial.params)\n",
    "\n",
    "    logger.info(\"Optuna最適化終了\")\n",
    "    return param"
   ]
  },
  {
   "cell_type": "code",
   "execution_count": 20,
   "id": "984afbf2",
   "metadata": {
    "execution": {
     "iopub.execute_input": "2025-03-13T02:48:28.225944Z",
     "iopub.status.busy": "2025-03-13T02:48:28.225944Z",
     "iopub.status.idle": "2025-03-13T02:48:28.232912Z",
     "shell.execute_reply": "2025-03-13T02:48:28.232912Z"
    },
    "papermill": {
     "duration": 0.022118,
     "end_time": "2025-03-13T02:48:28.232912",
     "exception": false,
     "start_time": "2025-03-13T02:48:28.210794",
     "status": "completed"
    },
    "tags": []
   },
   "outputs": [
    {
     "name": "stdout",
     "output_type": "stream",
     "text": [
      "not use Optuna, use xgb_model.param\n",
      "param: {'eval_metric': 'mae', 'booster': 'gbtree', 'eta': 0.02, 'subsample': 0.35, 'colsample_bytree': 0.7, 'num_parallel_tree': 10, 'min_child_weight': 40, 'gamma': 10, 'max_depth': 3}\n",
      "repeat_cv: 10\n",
      "num_boost_round: 3000\n",
      "folds_splits: 5\n",
      "early_stopping_rounds: 25\n"
     ]
    }
   ],
   "source": [
    "IS_OPTUNA = MODEL.optuna_enabled\n",
    "if IS_OPTUNA:\n",
    "    print(\"Optuna use mode\") \n",
    "    optuna_conf = MODEL.xgb_model.optuna\n",
    "    logger.add(os.path.join(OUTPUT_PATH, \"results.log\"), format=\"{time:YYYY-MM-DD at HH:mm:ss} - {level} - {message}\", level=\"INFO\")\n",
    "    param = run_optuna_optimization(param, optuna_conf)\n",
    "    print(\"param updated by optuna\")\n",
    "    results+= [\"param set after optuna is below\", f\"{param}\", \"\"]\n",
    "else:    \n",
    "    print(\"not use Optuna, use xgb_model.param\")\n",
    "\n",
    "\n",
    "\n",
    "print(\"param:\", param)\n",
    "print(\"repeat_cv:\", repeat_cv)\n",
    "print(\"num_boost_round:\", num_boost_round)\n",
    "print(\"folds_splits:\", folds_splits)\n",
    "print(\"early_stopping_rounds:\", early_stopping_rounds)"
   ]
  },
  {
   "cell_type": "code",
   "execution_count": 21,
   "id": "9eb46bbb",
   "metadata": {
    "execution": {
     "iopub.execute_input": "2025-03-13T02:48:28.253088Z",
     "iopub.status.busy": "2025-03-13T02:48:28.253088Z",
     "iopub.status.idle": "2025-03-13T02:55:58.087599Z",
     "shell.execute_reply": "2025-03-13T02:55:58.087599Z"
    },
    "papermill": {
     "duration": 449.844381,
     "end_time": "2025-03-13T02:55:58.087599",
     "exception": false,
     "start_time": "2025-03-13T02:48:28.243218",
     "status": "completed"
    },
    "tags": []
   },
   "outputs": [
    {
     "name": "stderr",
     "output_type": "stream",
     "text": [
      "\r",
      "  0%|                                                                                                                                                                                                                                                                       | 0/10 [00:00<?, ?it/s]"
     ]
    },
    {
     "name": "stdout",
     "output_type": "stream",
     "text": [
      "[0]\ttrain-mae:13.38502+0.11662\ttest-mae:13.38802+0.46852\n"
     ]
    },
    {
     "name": "stdout",
     "output_type": "stream",
     "text": [
      "[50]\ttrain-mae:10.16380+0.04743\ttest-mae:10.31330+0.28694\n"
     ]
    },
    {
     "name": "stdout",
     "output_type": "stream",
     "text": [
      "[100]\ttrain-mae:9.39034+0.03951\ttest-mae:9.66864+0.21795\n"
     ]
    },
    {
     "name": "stdout",
     "output_type": "stream",
     "text": [
      "[150]\ttrain-mae:9.09249+0.04017\ttest-mae:9.49536+0.20296\n"
     ]
    },
    {
     "name": "stdout",
     "output_type": "stream",
     "text": [
      "[200]\ttrain-mae:8.89916+0.03473\ttest-mae:9.41777+0.20165\n"
     ]
    },
    {
     "name": "stdout",
     "output_type": "stream",
     "text": [
      "[250]\ttrain-mae:8.74443+0.03242\ttest-mae:9.37379+0.19569\n"
     ]
    },
    {
     "name": "stdout",
     "output_type": "stream",
     "text": [
      "[300]\ttrain-mae:8.60876+0.03214\ttest-mae:9.35101+0.19401\n"
     ]
    },
    {
     "name": "stdout",
     "output_type": "stream",
     "text": [
      "[350]\ttrain-mae:8.48591+0.03072\ttest-mae:9.33189+0.19124\n"
     ]
    },
    {
     "name": "stdout",
     "output_type": "stream",
     "text": [
      "[400]\ttrain-mae:8.37199+0.02781\ttest-mae:9.32055+0.18741\n"
     ]
    },
    {
     "name": "stdout",
     "output_type": "stream",
     "text": [
      "[450]\ttrain-mae:8.26549+0.02631\ttest-mae:9.31583+0.18676\n"
     ]
    },
    {
     "name": "stdout",
     "output_type": "stream",
     "text": [
      "[500]\ttrain-mae:8.16491+0.02748\ttest-mae:9.30923+0.18576\n"
     ]
    },
    {
     "name": "stdout",
     "output_type": "stream",
     "text": [
      "[531]\ttrain-mae:8.10464+0.02796\ttest-mae:9.30881+0.18585\n"
     ]
    },
    {
     "name": "stderr",
     "output_type": "stream",
     "text": [
      "\r",
      " 10%|█████████████████████████▌                                                                                                                                                                                                                                     | 1/10 [00:38<05:46, 38.49s/it]"
     ]
    },
    {
     "name": "stdout",
     "output_type": "stream",
     "text": [
      "[0]\ttrain-mae:13.38378+0.03668\ttest-mae:13.38695+0.15039\n"
     ]
    },
    {
     "name": "stdout",
     "output_type": "stream",
     "text": [
      "[50]\ttrain-mae:10.16440+0.06982\ttest-mae:10.32529+0.29936\n"
     ]
    },
    {
     "name": "stdout",
     "output_type": "stream",
     "text": [
      "[100]\ttrain-mae:9.38606+0.07365\ttest-mae:9.68471+0.32052\n"
     ]
    },
    {
     "name": "stdout",
     "output_type": "stream",
     "text": [
      "[150]\ttrain-mae:9.08644+0.06779\ttest-mae:9.51874+0.31892\n"
     ]
    },
    {
     "name": "stdout",
     "output_type": "stream",
     "text": [
      "[200]\ttrain-mae:8.89092+0.06095\ttest-mae:9.44099+0.32118\n"
     ]
    },
    {
     "name": "stdout",
     "output_type": "stream",
     "text": [
      "[250]\ttrain-mae:8.73442+0.05978\ttest-mae:9.40290+0.31520\n"
     ]
    },
    {
     "name": "stdout",
     "output_type": "stream",
     "text": [
      "[300]\ttrain-mae:8.59701+0.05604\ttest-mae:9.37770+0.30659\n"
     ]
    },
    {
     "name": "stdout",
     "output_type": "stream",
     "text": [
      "[350]\ttrain-mae:8.47418+0.05253\ttest-mae:9.36218+0.29437\n"
     ]
    },
    {
     "name": "stdout",
     "output_type": "stream",
     "text": [
      "[400]\ttrain-mae:8.36141+0.04870\ttest-mae:9.35581+0.28724\n"
     ]
    },
    {
     "name": "stdout",
     "output_type": "stream",
     "text": [
      "[450]\ttrain-mae:8.25548+0.04825\ttest-mae:9.34756+0.28258\n"
     ]
    },
    {
     "name": "stdout",
     "output_type": "stream",
     "text": [
      "[500]\ttrain-mae:8.15508+0.04736\ttest-mae:9.34163+0.27201\n"
     ]
    },
    {
     "name": "stdout",
     "output_type": "stream",
     "text": [
      "[538]\ttrain-mae:8.08133+0.04743\ttest-mae:9.34253+0.26680\n"
     ]
    },
    {
     "name": "stderr",
     "output_type": "stream",
     "text": [
      "\r",
      " 20%|███████████████████████████████████████████████████                                                                                                                                                                                                            | 2/10 [01:22<05:35, 41.95s/it]"
     ]
    },
    {
     "name": "stdout",
     "output_type": "stream",
     "text": [
      "[0]\ttrain-mae:13.38483+0.03835\ttest-mae:13.38799+0.15672\n"
     ]
    },
    {
     "name": "stdout",
     "output_type": "stream",
     "text": [
      "[50]\ttrain-mae:10.16301+0.03678\ttest-mae:10.31820+0.20095\n"
     ]
    },
    {
     "name": "stdout",
     "output_type": "stream",
     "text": [
      "[100]\ttrain-mae:9.38652+0.04538\ttest-mae:9.67756+0.19742\n"
     ]
    },
    {
     "name": "stdout",
     "output_type": "stream",
     "text": [
      "[150]\ttrain-mae:9.08912+0.04610\ttest-mae:9.50244+0.18117\n"
     ]
    },
    {
     "name": "stdout",
     "output_type": "stream",
     "text": [
      "[200]\ttrain-mae:8.89475+0.04351\ttest-mae:9.42608+0.16862\n"
     ]
    },
    {
     "name": "stdout",
     "output_type": "stream",
     "text": [
      "[250]\ttrain-mae:8.73853+0.04351\ttest-mae:9.38339+0.15234\n"
     ]
    },
    {
     "name": "stdout",
     "output_type": "stream",
     "text": [
      "[300]\ttrain-mae:8.60206+0.04101\ttest-mae:9.36140+0.14001\n"
     ]
    },
    {
     "name": "stdout",
     "output_type": "stream",
     "text": [
      "[350]\ttrain-mae:8.48019+0.04154\ttest-mae:9.34512+0.13122\n"
     ]
    },
    {
     "name": "stdout",
     "output_type": "stream",
     "text": [
      "[400]\ttrain-mae:8.36732+0.04054\ttest-mae:9.33457+0.12313\n"
     ]
    },
    {
     "name": "stdout",
     "output_type": "stream",
     "text": [
      "[450]\ttrain-mae:8.25992+0.03929\ttest-mae:9.32956+0.11626\n"
     ]
    },
    {
     "name": "stdout",
     "output_type": "stream",
     "text": [
      "[500]\ttrain-mae:8.15897+0.03938\ttest-mae:9.32365+0.10945\n"
     ]
    },
    {
     "name": "stdout",
     "output_type": "stream",
     "text": [
      "[550]\ttrain-mae:8.06226+0.04137\ttest-mae:9.32006+0.10334\n"
     ]
    },
    {
     "name": "stdout",
     "output_type": "stream",
     "text": [
      "[600]\ttrain-mae:7.96978+0.04104\ttest-mae:9.31820+0.10238\n"
     ]
    },
    {
     "name": "stdout",
     "output_type": "stream",
     "text": [
      "[646]\ttrain-mae:7.88794+0.04115\ttest-mae:9.32130+0.10187\n"
     ]
    },
    {
     "name": "stderr",
     "output_type": "stream",
     "text": [
      "\r",
      " 30%|████████████████████████████████████████████████████████████████████████████▌                                                                                                                                                                                  | 3/10 [02:17<05:32, 47.57s/it]"
     ]
    },
    {
     "name": "stdout",
     "output_type": "stream",
     "text": [
      "[0]\ttrain-mae:13.38427+0.15118\ttest-mae:13.38709+0.61357\n"
     ]
    },
    {
     "name": "stdout",
     "output_type": "stream",
     "text": [
      "[50]\ttrain-mae:10.16642+0.10358\ttest-mae:10.30536+0.51031\n"
     ]
    },
    {
     "name": "stdout",
     "output_type": "stream",
     "text": [
      "[100]\ttrain-mae:9.38893+0.08460\ttest-mae:9.66113+0.42901\n"
     ]
    },
    {
     "name": "stdout",
     "output_type": "stream",
     "text": [
      "[150]\ttrain-mae:9.09022+0.07621\ttest-mae:9.48424+0.39902\n"
     ]
    },
    {
     "name": "stdout",
     "output_type": "stream",
     "text": [
      "[200]\ttrain-mae:8.89551+0.07325\ttest-mae:9.40750+0.37667\n"
     ]
    },
    {
     "name": "stdout",
     "output_type": "stream",
     "text": [
      "[250]\ttrain-mae:8.73764+0.07053\ttest-mae:9.36960+0.35768\n"
     ]
    },
    {
     "name": "stdout",
     "output_type": "stream",
     "text": [
      "[300]\ttrain-mae:8.60098+0.06845\ttest-mae:9.34964+0.34662\n"
     ]
    },
    {
     "name": "stdout",
     "output_type": "stream",
     "text": [
      "[350]\ttrain-mae:8.47786+0.06639\ttest-mae:9.33945+0.33609\n"
     ]
    },
    {
     "name": "stdout",
     "output_type": "stream",
     "text": [
      "[400]\ttrain-mae:8.36542+0.06507\ttest-mae:9.33115+0.33039\n"
     ]
    },
    {
     "name": "stdout",
     "output_type": "stream",
     "text": [
      "[450]\ttrain-mae:8.25829+0.06284\ttest-mae:9.32487+0.32014\n"
     ]
    },
    {
     "name": "stdout",
     "output_type": "stream",
     "text": [
      "[479]\ttrain-mae:8.19897+0.06226\ttest-mae:9.32574+0.31750\n"
     ]
    },
    {
     "name": "stderr",
     "output_type": "stream",
     "text": [
      "\r",
      " 40%|██████████████████████████████████████████████████████████████████████████████████████████████████████                                                                                                                                                         | 4/10 [02:56<04:25, 44.22s/it]"
     ]
    },
    {
     "name": "stdout",
     "output_type": "stream",
     "text": [
      "[0]\ttrain-mae:13.38403+0.11152\ttest-mae:13.38708+0.45296\n"
     ]
    },
    {
     "name": "stdout",
     "output_type": "stream",
     "text": [
      "[50]\ttrain-mae:10.15925+0.04799\ttest-mae:10.30477+0.25434\n"
     ]
    },
    {
     "name": "stdout",
     "output_type": "stream",
     "text": [
      "[100]\ttrain-mae:9.38628+0.05486\ttest-mae:9.65129+0.22017\n"
     ]
    },
    {
     "name": "stdout",
     "output_type": "stream",
     "text": [
      "[150]\ttrain-mae:9.08944+0.05701\ttest-mae:9.47039+0.21630\n"
     ]
    },
    {
     "name": "stdout",
     "output_type": "stream",
     "text": [
      "[200]\ttrain-mae:8.89525+0.05805\ttest-mae:9.39135+0.21255\n"
     ]
    },
    {
     "name": "stdout",
     "output_type": "stream",
     "text": [
      "[250]\ttrain-mae:8.73990+0.05984\ttest-mae:9.35029+0.21744\n"
     ]
    },
    {
     "name": "stdout",
     "output_type": "stream",
     "text": [
      "[300]\ttrain-mae:8.60331+0.06051\ttest-mae:9.32454+0.22330\n"
     ]
    },
    {
     "name": "stdout",
     "output_type": "stream",
     "text": [
      "[350]\ttrain-mae:8.48030+0.06237\ttest-mae:9.31479+0.23010\n"
     ]
    },
    {
     "name": "stdout",
     "output_type": "stream",
     "text": [
      "[400]\ttrain-mae:8.36680+0.06294\ttest-mae:9.30414+0.23586\n"
     ]
    },
    {
     "name": "stdout",
     "output_type": "stream",
     "text": [
      "[450]\ttrain-mae:8.26059+0.06322\ttest-mae:9.29826+0.23550\n"
     ]
    },
    {
     "name": "stdout",
     "output_type": "stream",
     "text": [
      "[500]\ttrain-mae:8.15994+0.06431\ttest-mae:9.29325+0.23609\n"
     ]
    },
    {
     "name": "stdout",
     "output_type": "stream",
     "text": [
      "[550]\ttrain-mae:8.06236+0.06429\ttest-mae:9.29384+0.23738\n"
     ]
    },
    {
     "name": "stderr",
     "output_type": "stream",
     "text": [
      "\r",
      " 50%|███████████████████████████████████████████████████████████████████████████████████████████████████████████████████████████████▌                                                                                                                               | 5/10 [03:41<03:43, 44.67s/it]"
     ]
    },
    {
     "name": "stdout",
     "output_type": "stream",
     "text": [
      "[0]\ttrain-mae:13.38497+0.06899\ttest-mae:13.38803+0.27749"
     ]
    },
    {
     "name": "stdout",
     "output_type": "stream",
     "text": [
      "\n"
     ]
    },
    {
     "name": "stdout",
     "output_type": "stream",
     "text": [
      "[50]\ttrain-mae:10.16294+0.04266\ttest-mae:10.30404+0.19366\n"
     ]
    },
    {
     "name": "stdout",
     "output_type": "stream",
     "text": [
      "[100]\ttrain-mae:9.39114+0.04681\ttest-mae:9.66886+0.19795\n"
     ]
    },
    {
     "name": "stdout",
     "output_type": "stream",
     "text": [
      "[150]\ttrain-mae:9.09169+0.04567\ttest-mae:9.49309+0.21076\n"
     ]
    },
    {
     "name": "stdout",
     "output_type": "stream",
     "text": [
      "[200]\ttrain-mae:8.89574+0.04570\ttest-mae:9.41393+0.21583\n"
     ]
    },
    {
     "name": "stdout",
     "output_type": "stream",
     "text": [
      "[250]\ttrain-mae:8.74150+0.04562\ttest-mae:9.37567+0.21570\n"
     ]
    },
    {
     "name": "stdout",
     "output_type": "stream",
     "text": [
      "[300]\ttrain-mae:8.60438+0.04309\ttest-mae:9.35271+0.21524\n"
     ]
    },
    {
     "name": "stdout",
     "output_type": "stream",
     "text": [
      "[350]\ttrain-mae:8.48249+0.04096\ttest-mae:9.34144+0.21525\n"
     ]
    },
    {
     "name": "stdout",
     "output_type": "stream",
     "text": [
      "[400]\ttrain-mae:8.36718+0.03866\ttest-mae:9.33851+0.21183\n"
     ]
    },
    {
     "name": "stdout",
     "output_type": "stream",
     "text": [
      "[450]\ttrain-mae:8.26015+0.03567\ttest-mae:9.33665+0.20850\n"
     ]
    },
    {
     "name": "stdout",
     "output_type": "stream",
     "text": [
      "[477]\ttrain-mae:8.20463+0.03527\ttest-mae:9.33875+0.20587\n"
     ]
    },
    {
     "name": "stderr",
     "output_type": "stream",
     "text": [
      "\r",
      " 60%|█████████████████████████████████████████████████████████████████████████████████████████████████████████████████████████████████████████████████████████                                                                                                      | 6/10 [04:21<02:52, 43.17s/it]"
     ]
    },
    {
     "name": "stdout",
     "output_type": "stream",
     "text": [
      "[0]\ttrain-mae:13.38481+0.06446\ttest-mae:13.38716+0.25900\n"
     ]
    },
    {
     "name": "stdout",
     "output_type": "stream",
     "text": [
      "[50]\ttrain-mae:10.16274+0.03220\ttest-mae:10.29898+0.13282\n"
     ]
    },
    {
     "name": "stdout",
     "output_type": "stream",
     "text": [
      "[100]\ttrain-mae:9.38767+0.02840\ttest-mae:9.65757+0.08722\n"
     ]
    },
    {
     "name": "stdout",
     "output_type": "stream",
     "text": [
      "[150]\ttrain-mae:9.09240+0.02568\ttest-mae:9.47941+0.08101\n"
     ]
    },
    {
     "name": "stdout",
     "output_type": "stream",
     "text": [
      "[200]\ttrain-mae:8.89844+0.02155\ttest-mae:9.39757+0.08346\n"
     ]
    },
    {
     "name": "stdout",
     "output_type": "stream",
     "text": [
      "[250]\ttrain-mae:8.74210+0.01646\ttest-mae:9.35635+0.08660\n"
     ]
    },
    {
     "name": "stdout",
     "output_type": "stream",
     "text": [
      "[300]\ttrain-mae:8.60664+0.01450\ttest-mae:9.32960+0.08551\n"
     ]
    },
    {
     "name": "stdout",
     "output_type": "stream",
     "text": [
      "[350]\ttrain-mae:8.48484+0.01179\ttest-mae:9.31210+0.08686\n"
     ]
    },
    {
     "name": "stdout",
     "output_type": "stream",
     "text": [
      "[400]\ttrain-mae:8.37191+0.01063\ttest-mae:9.30233+0.08312\n"
     ]
    },
    {
     "name": "stdout",
     "output_type": "stream",
     "text": [
      "[450]\ttrain-mae:8.26310+0.01068\ttest-mae:9.29500+0.07654\n"
     ]
    },
    {
     "name": "stdout",
     "output_type": "stream",
     "text": [
      "[500]\ttrain-mae:8.16227+0.01086\ttest-mae:9.29126+0.07132\n"
     ]
    },
    {
     "name": "stdout",
     "output_type": "stream",
     "text": [
      "[550]\ttrain-mae:8.06472+0.01144\ttest-mae:9.28585+0.07012\n"
     ]
    },
    {
     "name": "stdout",
     "output_type": "stream",
     "text": [
      "[600]\ttrain-mae:7.97055+0.01256\ttest-mae:9.28569+0.06813\n"
     ]
    },
    {
     "name": "stdout",
     "output_type": "stream",
     "text": [
      "[606]\ttrain-mae:7.95992+0.01265\ttest-mae:9.28540+0.06749\n"
     ]
    },
    {
     "name": "stderr",
     "output_type": "stream",
     "text": [
      "\r",
      " 70%|██████████████████████████████████████████████████████████████████████████████████████████████████████████████████████████████████████████████████████████████████████████████████▌                                                                            | 7/10 [05:27<02:31, 50.45s/it]"
     ]
    },
    {
     "name": "stdout",
     "output_type": "stream",
     "text": [
      "[0]\ttrain-mae:13.38567+0.01405\ttest-mae:13.38825+0.04975\n"
     ]
    },
    {
     "name": "stdout",
     "output_type": "stream",
     "text": [
      "[50]\ttrain-mae:10.16097+0.02870\ttest-mae:10.31199+0.13121\n"
     ]
    },
    {
     "name": "stdout",
     "output_type": "stream",
     "text": [
      "[100]\ttrain-mae:9.38757+0.02251\ttest-mae:9.66744+0.11264\n"
     ]
    },
    {
     "name": "stdout",
     "output_type": "stream",
     "text": [
      "[150]\ttrain-mae:9.09071+0.02060\ttest-mae:9.48407+0.10511\n"
     ]
    },
    {
     "name": "stdout",
     "output_type": "stream",
     "text": [
      "[200]\ttrain-mae:8.89742+0.01944\ttest-mae:9.40329+0.11140\n"
     ]
    },
    {
     "name": "stdout",
     "output_type": "stream",
     "text": [
      "[250]\ttrain-mae:8.74062+0.01929\ttest-mae:9.35987+0.11169\n"
     ]
    },
    {
     "name": "stdout",
     "output_type": "stream",
     "text": [
      "[300]\ttrain-mae:8.60519+0.02136\ttest-mae:9.33917+0.11118\n"
     ]
    },
    {
     "name": "stdout",
     "output_type": "stream",
     "text": [
      "[350]\ttrain-mae:8.48485+0.02381\ttest-mae:9.32476+0.11016\n"
     ]
    },
    {
     "name": "stdout",
     "output_type": "stream",
     "text": [
      "[400]\ttrain-mae:8.37244+0.02584\ttest-mae:9.31667+0.10957\n"
     ]
    },
    {
     "name": "stdout",
     "output_type": "stream",
     "text": [
      "[419]\ttrain-mae:8.33082+0.02649\ttest-mae:9.31631+0.10966\n"
     ]
    },
    {
     "name": "stderr",
     "output_type": "stream",
     "text": [
      "\r",
      " 80%|████████████████████████████████████████████████████████████████████████████████████████████████████████████████████████████████████████████████████████████████████████████████████████████████████████████                                                   | 8/10 [06:01<01:30, 45.31s/it]"
     ]
    },
    {
     "name": "stdout",
     "output_type": "stream",
     "text": [
      "[0]\ttrain-mae:13.38444+0.07019\ttest-mae:13.38733+0.27761\n"
     ]
    },
    {
     "name": "stdout",
     "output_type": "stream",
     "text": [
      "[50]\ttrain-mae:10.16062+0.06886\ttest-mae:10.31170+0.30509\n"
     ]
    },
    {
     "name": "stdout",
     "output_type": "stream",
     "text": [
      "[100]\ttrain-mae:9.38882+0.07133\ttest-mae:9.66479+0.28315\n"
     ]
    },
    {
     "name": "stdout",
     "output_type": "stream",
     "text": [
      "[150]\ttrain-mae:9.09374+0.07573\ttest-mae:9.48816+0.27885\n"
     ]
    },
    {
     "name": "stdout",
     "output_type": "stream",
     "text": [
      "[200]\ttrain-mae:8.89842+0.07601\ttest-mae:9.40705+0.28300\n"
     ]
    },
    {
     "name": "stdout",
     "output_type": "stream",
     "text": [
      "[250]\ttrain-mae:8.74234+0.07714\ttest-mae:9.36395+0.28189\n"
     ]
    },
    {
     "name": "stdout",
     "output_type": "stream",
     "text": [
      "[300]\ttrain-mae:8.60783+0.07739\ttest-mae:9.34046+0.28126\n"
     ]
    },
    {
     "name": "stdout",
     "output_type": "stream",
     "text": [
      "[350]\ttrain-mae:8.48578+0.07519\ttest-mae:9.32691+0.28284\n"
     ]
    },
    {
     "name": "stdout",
     "output_type": "stream",
     "text": [
      "[400]\ttrain-mae:8.37212+0.07715\ttest-mae:9.31733+0.28527\n"
     ]
    },
    {
     "name": "stdout",
     "output_type": "stream",
     "text": [
      "[450]\ttrain-mae:8.26514+0.07743\ttest-mae:9.31140+0.28525\n"
     ]
    },
    {
     "name": "stdout",
     "output_type": "stream",
     "text": [
      "[500]\ttrain-mae:8.16547+0.07601\ttest-mae:9.30467+0.27963\n"
     ]
    },
    {
     "name": "stdout",
     "output_type": "stream",
     "text": [
      "[550]\ttrain-mae:8.06832+0.07518\ttest-mae:9.30229+0.27796\n"
     ]
    },
    {
     "name": "stdout",
     "output_type": "stream",
     "text": [
      "[578]\ttrain-mae:8.01521+0.07445\ttest-mae:9.30294+0.27747\n"
     ]
    },
    {
     "name": "stderr",
     "output_type": "stream",
     "text": [
      "\r",
      " 90%|█████████████████████████████████████████████████████████████████████████████████████████████████████████████████████████████████████████████████████████████████████████████████████████████████████████████████████████████████████▌                         | 9/10 [06:47<00:45, 45.51s/it]"
     ]
    },
    {
     "name": "stdout",
     "output_type": "stream",
     "text": [
      "[0]\ttrain-mae:13.38401+0.11914\ttest-mae:13.38670+0.48767\n"
     ]
    },
    {
     "name": "stdout",
     "output_type": "stream",
     "text": [
      "[50]\ttrain-mae:10.16510+0.02038\ttest-mae:10.31474+0.24923\n"
     ]
    },
    {
     "name": "stdout",
     "output_type": "stream",
     "text": [
      "[100]\ttrain-mae:9.39060+0.01568\ttest-mae:9.67126+0.14785\n"
     ]
    },
    {
     "name": "stdout",
     "output_type": "stream",
     "text": [
      "[150]\ttrain-mae:9.09413+0.01458\ttest-mae:9.49052+0.11995\n"
     ]
    },
    {
     "name": "stdout",
     "output_type": "stream",
     "text": [
      "[200]\ttrain-mae:8.89821+0.01518\ttest-mae:9.41361+0.12097\n"
     ]
    },
    {
     "name": "stdout",
     "output_type": "stream",
     "text": [
      "[250]\ttrain-mae:8.74028+0.01616\ttest-mae:9.37448+0.12438\n"
     ]
    },
    {
     "name": "stdout",
     "output_type": "stream",
     "text": [
      "[300]\ttrain-mae:8.60486+0.01964\ttest-mae:9.35428+0.13144\n"
     ]
    },
    {
     "name": "stdout",
     "output_type": "stream",
     "text": [
      "[350]\ttrain-mae:8.48309+0.02158\ttest-mae:9.34013+0.13475\n"
     ]
    },
    {
     "name": "stdout",
     "output_type": "stream",
     "text": [
      "[400]\ttrain-mae:8.36864+0.02319\ttest-mae:9.33415+0.13954\n"
     ]
    },
    {
     "name": "stdout",
     "output_type": "stream",
     "text": [
      "[450]\ttrain-mae:8.26063+0.02461\ttest-mae:9.32738+0.14314\n"
     ]
    },
    {
     "name": "stdout",
     "output_type": "stream",
     "text": [
      "[499]\ttrain-mae:8.16173+0.02575\ttest-mae:9.32581+0.14691\n"
     ]
    },
    {
     "name": "stderr",
     "output_type": "stream",
     "text": [
      "\r",
      "100%|██████████████████████████████████████████████████████████████████████████████████████████████████████████████████████████████████████████████████████████████████████████████████████████████████████████████████████████████████████████████████████████████| 10/10 [07:29<00:00, 44.42s/it]"
     ]
    },
    {
     "name": "stderr",
     "output_type": "stream",
     "text": [
      "\r",
      "100%|██████████████████████████████████████████████████████████████████████████████████████████████████████████████████████████████████████████████████████████████████████████████████████████████████████████████████████████████████████████████████████████████| 10/10 [07:29<00:00, 44.96s/it]"
     ]
    },
    {
     "name": "stderr",
     "output_type": "stream",
     "text": [
      "\n"
     ]
    }
   ],
   "source": [
    "if param.get(\"eval_metric\", \"mae\") == \"rmse\":\n",
    "    score_key = \"test-rmse-mean\"\n",
    "    ylabel = \"Test RMSE Mean\"\n",
    "    title = \"Learning Curve: Test RMSE vs Boosting Rounds\"\n",
    "elif param.get(\"eval_metric\", \"mae\") == \"mae\":\n",
    "    score_key = \"test-mae-mean\"\n",
    "    ylabel = \"Test MAE Mean\"\n",
    "    title = \"Learning Curve: Test MAE vs Boosting Rounds\"\n",
    "elif param.get(\"eval_metric\", \"mae\") == \"logloss\":\n",
    "    score_key = \"test-logloss-mean\"\n",
    "    ylabel = \"Test Logloss Mean\"\n",
    "    title = \"Learning Curve: Test Logloss vs Boosting Rounds\"\n",
    "\n",
    "\n",
    "for i in tqdm(range(repeat_cv), leave=True, dynamic_ncols=True): \n",
    "    cv_result = xgb.cv(\n",
    "        params=param,\n",
    "        dtrain=dtrain,\n",
    "        obj=cauchyobj,\n",
    "        num_boost_round=num_boost_round,\n",
    "        folds=KFold(n_splits=folds_splits, shuffle=True, random_state=i),\n",
    "        early_stopping_rounds=early_stopping_rounds,\n",
    "        verbose_eval=50\n",
    "    )\n",
    "    \"\"\"\n",
    "    train-mae-mean: 各fold における訓練データの MAE の平均値。\n",
    "    train-mae-std: 訓練データの MAE の標準偏差。\n",
    "    test-mae-mean: 各fold における検証データの MAE の平均値。\n",
    "    test-mae-std: 検証データの MAE の標準偏差。\n",
    "    \"\"\"\n",
    "    xgb_cv.append(cv_result)\n",
    "    \n",
    "\n",
    "\n",
    "\n",
    "# 各 repeater ごとの最適ブーストラウンド数と検証MAE\n",
    "iteration_counts = [np.argmin(cv[score_key].values) for cv in xgb_cv]\n",
    "val_mae = [np.min(cv[score_key].values) for cv in xgb_cv]\n",
    "\n",
    "mean_iteration = np.mean(iteration_counts)\n",
    "mean_val_mae = np.mean(val_mae)\n",
    "min_val_mae = np.min(val_mae)\n",
    "results.append(f\"mean_iteration: {mean_iteration}\")\n",
    "results.append(f\"mean_val_{param['eval_metric']}: {mean_val_mae}\")\n",
    "results.append(f\"min_val_{param['eval_metric']}: {min_val_mae}\")\n",
    "results.append(\"\")\n",
    "\n",
    "###\n",
    "plt.figure(figsize=(10, 6))\n",
    "for i, cv_result in enumerate(xgb_cv):\n",
    "    rounds = np.arange(len(cv_result[score_key]))\n",
    "    plt.plot(rounds, cv_result[score_key], label=f\"CV repeater {i+1}\")\n",
    "    \n",
    "plt.xlabel(\"Boosting Round\")\n",
    "plt.ylabel(ylabel)\n",
    "plt.title(title)\n",
    "plt.legend()\n",
    "plt.grid(True)\n",
    "\n",
    "plt.savefig(os.path.join(OUTPUT_PATH, f\"learning_curve_{PREDICT_YEAR}.png\"))\n",
    "plt.close()\n",
    "###\n"
   ]
  },
  {
   "cell_type": "code",
   "execution_count": 22,
   "id": "f3d75eb4",
   "metadata": {
    "execution": {
     "iopub.execute_input": "2025-03-13T02:55:58.115960Z",
     "iopub.status.busy": "2025-03-13T02:55:58.105957Z",
     "iopub.status.idle": "2025-03-13T02:55:58.119411Z",
     "shell.execute_reply": "2025-03-13T02:55:58.119411Z"
    },
    "papermill": {
     "duration": 0.029397,
     "end_time": "2025-03-13T02:55:58.119411",
     "exception": false,
     "start_time": "2025-03-13T02:55:58.090014",
     "status": "completed"
    },
    "tags": []
   },
   "outputs": [
    {
     "name": "stdout",
     "output_type": "stream",
     "text": [
      "最適ブーストラウンド数: [507, 513, 621, 455, 525, 452, 581, 395, 554, 474]\n",
      "test-mae-mean: [9.308539114281919, 9.340142439207579, 9.317993650241704, 9.32435105178281, 9.292717045255241, 9.33605530897321, 9.283745421567414, 9.316192913089576, 9.301904785052411, 9.32498360788583]\n"
     ]
    }
   ],
   "source": [
    "print(\"最適ブーストラウンド数:\", iteration_counts)\n",
    "print(f\"{score_key}:\", val_mae)\n",
    "results.append(f\"最適ブーストラウンド: {iteration_counts}\")\n",
    "results.append(f\"{score_key}: {val_mae}\")\n",
    "results.append(\"\")"
   ]
  },
  {
   "cell_type": "code",
   "execution_count": 23,
   "id": "1560c42f",
   "metadata": {
    "execution": {
     "iopub.execute_input": "2025-03-13T02:55:58.145295Z",
     "iopub.status.busy": "2025-03-13T02:55:58.145295Z",
     "iopub.status.idle": "2025-03-13T03:02:34.067661Z",
     "shell.execute_reply": "2025-03-13T03:02:34.066653Z"
    },
    "papermill": {
     "duration": 395.967356,
     "end_time": "2025-03-13T03:02:34.096840",
     "exception": false,
     "start_time": "2025-03-13T02:55:58.129484",
     "status": "completed"
    },
    "tags": []
   },
   "outputs": [
    {
     "name": "stderr",
     "output_type": "stream",
     "text": [
      "\r",
      "  0%|                                                                                                                                                                                                                                                                       | 0/10 [00:00<?, ?it/s]"
     ]
    },
    {
     "name": "stderr",
     "output_type": "stream",
     "text": [
      "C:\\Users\\81809\\AppData\\Local\\Temp\\ipykernel_9756\\3386215446.py:18: FutureWarning: Setting an item of incompatible dtype is deprecated and will raise an error in a future version of pandas. Value '[ 1.93397045e+01 -4.73912811e+00  4.07188356e-01  6.70849895e+00\n",
      " -7.32891941e+00 -2.00010419e+00  7.99825525e+00  8.52853680e+00\n",
      "  5.60247183e-01  9.73725224e+00  6.72081137e+00 -4.91975117e+00\n",
      "  7.02441883e+00  3.29036164e+00 -4.62200832e+00 -1.74803555e+00\n",
      "  4.76740074e+00  9.15852547e+00  2.32056785e+00  2.69921994e+00\n",
      "  4.76811743e+00  3.28215528e+00 -1.73840359e-01  2.06101646e+01\n",
      "  5.76858425e+00  7.88146448e+00 -1.57758510e+00  1.46913710e+01\n",
      "  6.82824612e+00  4.61504030e+00  1.78526103e+00  4.37382877e-01\n",
      " -5.46327877e+00 -2.80475354e+00  1.02925453e+01  5.75337267e+00\n",
      "  5.37419200e-01  1.59299791e+00  1.96242371e+01  9.24787331e+00\n",
      " -7.80390501e+00 -4.12432766e+00 -2.82604957e+00  6.94915676e+00\n",
      " -1.22025023e+01  8.21287537e+00  2.12010241e+00  6.10873079e+00\n",
      "  8.21002388e+00  4.76506615e+00 -1.28252859e+01  4.30979156e+00\n",
      " -1.70001769e+00  2.25379314e+01 -2.28870201e+00  5.12866068e+00\n",
      "  6.45174551e+00 -2.47052097e+00  8.22693920e+00  2.58205533e+00\n",
      " -1.59287381e+00  5.78781557e+00  2.43041801e+00  2.78046918e+00\n",
      "  9.95240307e+00 -6.25821781e+00 -1.45705748e+00  2.38586636e+01\n",
      "  6.44316375e-01  9.13875961e+00  4.12424278e+00 -7.40830517e+00\n",
      " -6.94412804e+00 -2.42661524e+00 -1.83904386e+00  4.15354204e+00\n",
      "  5.03403902e+00  6.33744180e-01  2.63967972e+01 -6.02574158e+00\n",
      "  3.25929189e+00  9.37800503e+00  1.68551579e+01 -5.45491982e+00\n",
      "  4.68886995e+00  6.07646179e+00 -2.44329500e+00 -1.94213414e+00\n",
      "  2.38506718e+01  1.60771255e+01  3.59233260e+00 -4.61410189e+00\n",
      "  6.00732118e-02  2.54105911e+01 -3.58604848e-01  1.76203728e+00\n",
      "  4.44573879e+00  5.19042015e+00  2.66379690e+00 -1.03535872e+01\n",
      " -3.05422783e+00 -3.20421600e+00  9.53458023e+00  5.29305029e+00\n",
      "  2.05002236e+00  1.56160583e+01  2.02419796e+01 -3.77009273e+00\n",
      "  2.00097065e+01  5.84884644e+00  2.04901199e+01 -2.55138707e+00\n",
      " -3.63612032e+00  1.51167889e+01  1.72901669e+01  1.19421558e+01\n",
      " -3.02813864e+00 -7.13717127e+00  1.21328187e+00 -3.80940437e+00\n",
      "  1.25002995e+01  8.14936161e+00 -6.30081511e+00 -2.06801081e+00\n",
      " -1.73397332e-01 -4.24992037e+00  8.07891846e+00 -6.95844698e+00\n",
      " -1.48731890e+01 -1.49571657e+00  5.77564907e+00 -2.95409012e+00\n",
      " -1.88817418e+00 -1.73037004e+00  2.85775013e+01  5.52985620e+00\n",
      "  5.03273249e+00  1.66722417e+00  1.06247940e+01  1.09110394e+01\n",
      "  9.16595554e+00  6.81485033e+00  1.32421684e+01 -1.93208826e+00\n",
      " -1.09029841e+00  1.34948611e+00  2.08749123e+01 -1.79120219e+00\n",
      "  1.18410616e+01 -1.16852112e+01  4.63705826e+00  3.83171582e+00\n",
      "  8.46049595e+00  8.53239059e+00 -2.34133434e+00  9.55365241e-01\n",
      " -2.69199085e+00  7.77455616e+00  8.09010124e+00  1.78165591e+00\n",
      "  1.23706257e+00  8.10981941e+00  4.91098690e+00  2.83161235e+00\n",
      " -2.72978574e-01  2.22401581e+01  3.12471437e+00  5.95153999e+00\n",
      "  2.14634571e+01 -2.53800988e+00  3.78059459e+00 -5.48570752e-01\n",
      " -1.59185100e+00  2.40537241e-01  8.26616669e+00  1.44980116e+01\n",
      " -9.41431522e-01  1.73528900e+01  4.28752089e+00  2.22196198e+00\n",
      "  8.53081322e+00  9.41594064e-01 -6.07816935e-01  3.20748377e+00\n",
      " -4.90213060e+00  6.49730444e+00  2.16651936e+01  1.98013287e+01\n",
      "  1.61561413e+01  6.02126932e+00 -2.77261329e+00  2.83136225e+00\n",
      "  3.82513857e+00 -6.34723902e+00 -1.25838494e+00  1.32245576e+00\n",
      "  5.67294717e-01  8.21507454e+00  2.04104500e+01  2.13221493e+01\n",
      "  3.85580707e+00  1.28970385e+01  5.77394819e+00  5.42396212e+00\n",
      " -4.44849205e+00  1.18231220e+01 -2.19966888e+00  3.57947063e+00\n",
      "  3.77442408e+00 -4.48853910e-01  9.21670628e+00  1.87951927e+01\n",
      "  1.03754091e+01  9.79294491e+00  6.63418472e-01  1.98069859e+01\n",
      "  2.30585694e+00  1.64691079e+00  6.84821606e+00  5.48665571e+00\n",
      "  1.14640970e+01  3.93094373e+00  4.33688116e+00 -4.05156046e-01\n",
      "  6.04867172e+00  5.68801537e-02  7.55116940e+00  1.28198500e+01\n",
      "  1.69131641e+01  1.32457056e+01  8.17119122e+00  1.21558094e+01\n",
      "  9.71870708e+00  1.44673359e+00  1.66767192e+00 -3.38412821e-01\n",
      "  2.33849907e+00  6.08995438e+00  2.55089211e+00  3.10622616e+01\n",
      "  3.31656456e+01 -1.04822006e+01 -7.33235598e+00 -1.24349475e+00\n",
      "  2.17933393e+00  1.06237688e+01  8.07700157e-01  8.11383724e+00\n",
      " -5.34975624e+00  4.04219818e+01  1.72885208e+01 -9.98430103e-02\n",
      "  1.54869413e+00  2.72427788e+01  2.94450092e+00  5.21097422e+00\n",
      "  1.52120752e+01  2.77873802e+00  1.38927937e+01  8.59573364e+00\n",
      "  1.30788479e+01  1.12022076e+01  1.58447676e+01  5.84217501e+00\n",
      "  1.43794823e+01  1.15967655e+01  6.47769976e+00  8.88684559e+00\n",
      " -1.16941767e+01  8.27699089e+00 -2.34090805e+01  1.99633086e+00\n",
      "  2.52175503e+01 -2.68665695e+00  4.24620008e+00  9.83034611e+00\n",
      " -2.14298725e+00  7.18342876e+00  1.36330688e+00  2.85086250e+01\n",
      "  3.70329022e+00  6.76963949e+00  1.62139702e+01  1.10980835e+01\n",
      "  3.70171213e+00  4.10600805e+00  1.51489096e+01  3.64961624e+01\n",
      "  6.53953218e+00  9.93048191e+00  4.28424168e+00  1.01392574e+01\n",
      "  1.72393951e+01  1.06266880e+00  1.27590275e+01  3.26481285e+01\n",
      "  1.39837980e+00  1.38629055e+01 -1.66480207e+00  1.53049278e+01\n",
      "  1.99531765e+01  2.55017877e+00  3.19677486e+01  1.94957237e+01\n",
      "  3.37956848e+01 -1.77481403e+01 -9.34350967e-01  6.65432882e+00\n",
      "  5.57220793e+00  8.24342060e+00  2.86822662e+01  3.68849754e+01\n",
      " -1.66063511e+00  3.75987768e+00  2.24850330e+01  7.12825871e+00\n",
      "  1.81937230e+00  1.47791586e+01 -6.30874932e-01  2.84981632e+01\n",
      "  3.49464760e+01  6.89480209e+00  3.80734673e+01 -2.11119843e+00\n",
      "  7.26306534e+00  2.39568729e+01  1.80936031e+01  2.28011780e+01\n",
      "  2.49829350e+01 -7.19599104e+00  1.06325130e+01  6.33116102e+00\n",
      "  4.04772806e+00  4.02144890e+01  9.93446827e+00  9.24531937e+00\n",
      "  1.80955148e+00  3.59976053e+00  1.89425850e+01 -6.07648230e+00\n",
      "  6.95302546e-01 -3.69946748e-01 -3.94426703e+00 -2.00476963e-02\n",
      " -1.69516411e+01 -1.11104994e+01  3.97492313e+00 -7.39566231e+00\n",
      " -7.11931753e+00 -1.78649368e+01 -2.59807453e+01 -1.85253596e+00\n",
      " -6.65772390e+00  1.87061691e+00  4.31552744e+00 -7.86318064e+00\n",
      " -5.07958937e+00  4.35311413e+00 -1.95508862e+01 -6.71515048e-01\n",
      " -4.57179928e+00 -6.57007694e+00 -9.21775532e+00 -1.96657860e+00\n",
      " -6.53165293e+00 -1.55945897e+00  6.28050518e+00 -5.91584778e+00\n",
      " -1.20636921e+01  2.38827753e+00 -4.43941212e+00 -1.50096407e+01\n",
      " -1.18242273e+01 -4.75170374e+00 -6.06922030e-01  3.65559268e+00\n",
      "  1.43003285e+00 -7.57051373e+00 -9.63679790e+00  3.64900923e+00\n",
      "  3.90515375e+00 -2.25928707e+01  1.11629210e+01  2.68577051e+00\n",
      " -9.05061245e+00  2.78485966e+00 -9.05073071e+00 -4.03911972e+00\n",
      "  2.00707364e+00  1.02470052e+00 -1.81529655e+01 -4.64901352e+00\n",
      " -2.22503319e+01 -8.09781361e+00 -3.57279825e+00 -5.28934574e+00\n",
      " -9.77340317e+00  4.10526133e+00 -5.66125011e+00 -2.91645360e+00\n",
      " -5.16133690e+00 -2.11319757e+00  1.55650544e+00 -3.59718776e+00\n",
      " -1.23925142e+01 -4.60242510e+00  7.65157282e-01 -1.68070374e+01\n",
      " -1.05358572e+01  3.79377747e+00 -1.92076647e+00  5.00371838e+00\n",
      "  8.99854839e-01 -3.21489954e+00 -6.83406496e+00 -1.17481680e+01\n",
      "  8.51133537e+00  3.42398834e+00 -9.82740307e+00 -6.67197895e+00\n",
      "  2.62388992e+00 -5.71296453e+00  2.75099134e+00 -5.08278322e+00\n",
      " -1.64967098e+01 -7.75427461e-01 -1.54447250e+01  3.65172434e+00\n",
      "  2.96755147e+00  1.71064687e+00 -9.83354187e+00 -1.49556713e+01\n",
      " -4.08124733e+00  5.05817032e+00 -9.90767479e+00 -3.67175746e+00\n",
      "  2.42133307e+00 -4.14524937e+00 -2.65645742e+00 -8.61049175e+00\n",
      " -2.34837685e+01 -2.09941883e+01 -2.38786983e+00 -1.95745220e+01\n",
      "  1.18063736e+00  5.37702143e-01 -1.76210194e+01  6.10539722e+00\n",
      " -3.35680366e+00  8.99411583e+00 -8.84183121e+00 -5.99372673e+00\n",
      " -1.45212317e+00 -7.18606472e+00  1.94149053e+00  5.37924099e+00\n",
      " -6.92610931e+00  1.31980634e+00 -6.92001820e+00 -4.34906530e+00\n",
      " -1.13349380e+01  6.00836754e+00 -9.96104717e+00  1.51265550e+00\n",
      " -8.29370689e+00 -2.81961679e+00 -8.38666821e+00 -7.86669922e+00\n",
      " -5.01748466e+00 -1.15752850e+01 -7.72996044e+00 -1.70814629e+01\n",
      "  2.12767053e+00  2.90869665e+00 -9.29583931e+00 -1.39435320e+01\n",
      "  2.31004477e+00  3.98242325e-01  1.47532761e+00  5.85113287e+00\n",
      " -1.24829950e+01 -1.08054161e+01 -2.99416518e+00 -8.91389656e+00\n",
      " -2.75309062e+00 -3.07194948e+00 -5.22884369e+00  7.44267225e+00\n",
      "  2.66586870e-01 -1.17798710e+01  6.04565096e+00 -2.21368623e+00\n",
      "  2.83184838e+00 -3.90712118e+00 -3.48077130e+00 -1.85482807e+01\n",
      " -1.25238428e+01 -7.07861233e+00 -1.14266911e+01 -6.56842422e+00\n",
      " -3.94747329e+00 -3.89025903e+00  6.47482204e+00 -4.47172546e+00\n",
      " -4.37129354e+00 -1.71495640e+00  4.48121834e+00 -2.02209353e+00\n",
      "  4.00342178e+00 -1.16548719e+01 -5.79848433e+00 -2.52629299e+01\n",
      "  3.44121528e+00 -4.27331734e+00 -7.00490189e+00 -2.23227531e-01\n",
      " -1.65222406e+00 -1.92762527e+01  5.50197601e+00 -1.23380690e+01\n",
      " -9.22263920e-01  4.11697960e+00 -2.50840688e+00  6.19326448e+00\n",
      " -2.20086727e+01 -9.04291534e+00 -1.86032927e+00 -5.33701086e+00\n",
      " -1.21436958e+01  5.07432699e-01  7.20434952e+00 -5.07291269e+00\n",
      " -9.34340668e+00 -6.83316422e+00  4.42914438e+00 -1.49630156e+01\n",
      "  3.94558001e+00 -2.15275311e+00 -1.39613018e+01 -4.53419065e+00\n",
      " -2.44950867e+00  1.52099979e+00 -6.26638293e-01  2.34363995e+01\n",
      " -4.50857115e+00 -4.87456703e+00  9.54004574e+00  6.80375338e+00\n",
      " -1.05355339e+01  3.74156952e+00  1.37924635e+00 -9.89373922e-01\n",
      " -5.20001650e+00 -2.21029043e+00 -4.58392650e-01 -7.79969645e+00\n",
      " -2.84855995e+01 -1.71032581e+01 -1.08466063e+01  8.68280315e+00\n",
      "  5.12883472e+00  4.27060890e+00 -1.60261154e+00 -6.78739643e+00\n",
      " -1.91158271e+00 -2.30762935e+00 -5.03744888e+00 -9.37411022e+00\n",
      "  1.98338187e+00  6.74836874e+00 -8.52632713e+00  1.45604336e+00\n",
      " -3.32573814e+01 -2.71833630e+01 -4.62351646e+01 -2.66470470e+01\n",
      " -1.61964626e+01 -1.92142320e+00 -4.12733555e+00  1.20717354e+01\n",
      " -8.06577206e+00 -2.41501961e+01 -2.37338753e+01 -1.49064474e+01\n",
      " -5.10351276e+00 -7.45352697e+00 -4.39136744e+00 -2.02469453e-01\n",
      " -4.02489891e+01 -2.32995915e+00 -1.65338898e+01 -1.04441223e+01\n",
      " -2.53881569e+01 -1.79820461e+01 -9.17642212e+00 -8.64490128e+00\n",
      "  3.74986625e+00  1.00385380e+01 -1.18715990e+00 -2.90034723e+00\n",
      "  4.57198352e-01 -2.47434444e+01  7.58263350e+00 -1.99946232e+01\n",
      " -2.39809494e+01 -5.30632925e+00 -6.81770802e+00  3.75716591e+00\n",
      " -2.35284863e+01 -1.30897007e+01 -1.38159456e+01 -2.93781147e+01\n",
      "  3.42650342e+00 -6.92088699e+00 -1.88148365e+01 -3.63945007e+01\n",
      "  3.00826216e+00  5.97782516e+00 -4.72568989e+00 -2.59982281e+01\n",
      " -1.38266964e+01  2.30159969e+01 -2.31103516e+00 -2.30237999e+01\n",
      " -5.16764402e+00 -1.21405573e+01 -1.31546106e+01 -4.76436806e+00\n",
      " -1.50491488e+00 -3.63375168e+01  9.05818105e-01 -1.02941341e+01\n",
      " -5.49789906e+00 -1.25878410e+01  4.81861544e+00  3.49536633e+00\n",
      " -4.54172516e+01  9.81450856e-01 -7.95584857e-01 -2.87950535e+01\n",
      " -4.01310349e+00 -5.44531202e+00 -1.75478458e+01 -1.27202930e+01\n",
      " -3.20946999e+01 -1.05648623e+01 -6.58511043e-01 -3.32791901e+01\n",
      " -1.63471127e+01  3.06911492e+00 -6.38929176e+00 -2.02170467e+01\n",
      " -3.19533138e+01 -5.10903645e+00 -3.38409119e+01 -2.52407002e+00\n",
      " -2.06330395e+01  1.01010571e+01  7.07138395e+00  1.10787191e+01\n",
      " -2.16508331e+01 -1.54440606e+00  7.62502861e+00 -2.35838246e+00\n",
      "  1.51503074e+00 -6.29679060e+00 -1.93040600e+01 -3.87195444e+00\n",
      "  1.35055742e+01 -6.33588266e+00 -5.00266886e+00  5.99491549e+00\n",
      " -4.27727242e+01  9.27169895e+00 -3.80361023e+01 -4.19889069e+00\n",
      " -2.30036983e+01 -2.56332054e+01 -1.98613586e+01  1.32368517e+01\n",
      " -2.99560928e+01 -2.25448394e+00  1.66537991e+01 -2.44817085e+01\n",
      " -1.70410805e+01 -7.76530600e+00 -2.10531998e+01 -5.96227694e+00\n",
      " -4.74349308e+00 -2.52653432e+00 -1.59096050e+01 -2.13881340e+01\n",
      " -4.40114174e+01 -3.82384586e+00  3.61676717e+00  4.38077497e+00\n",
      " -2.35276928e+01 -2.44241810e+01]' has dtype incompatible with int64, please explicitly cast to a compatible dtype first.\n",
      "  preds[val_index] = model.predict(dval_i)\n"
     ]
    },
    {
     "name": "stderr",
     "output_type": "stream",
     "text": [
      "\r",
      " 10%|█████████████████████████▌                                                                                                                                                                                                                                     | 1/10 [00:37<05:33, 37.10s/it]"
     ]
    },
    {
     "name": "stderr",
     "output_type": "stream",
     "text": [
      "C:\\Users\\81809\\AppData\\Local\\Temp\\ipykernel_9756\\3386215446.py:18: FutureWarning: Setting an item of incompatible dtype is deprecated and will raise an error in a future version of pandas. Value '[-1.08513479e+01  1.17731333e+00  1.62284451e+01 -2.16563320e+00\n",
      "  5.64881134e+00  3.50174952e+00  2.11588612e+01  1.36169786e+01\n",
      "  1.13357401e+01  7.23100996e+00 -3.64128256e+00 -5.19757605e+00\n",
      "  5.81489849e+00 -1.91965616e+00  2.10031586e+01  2.50895095e+00\n",
      "  9.51011562e+00  3.76696563e+00  2.69962692e+00  9.23682117e+00\n",
      "  6.87979650e+00  3.70126486e+00  7.47054577e+00 -8.64462566e+00\n",
      "  1.45875716e+00  7.17792368e+00 -5.39714146e+00  2.48058186e+01\n",
      "  1.47766209e+01 -9.28383648e-01  3.06395864e+00  6.92849112e+00\n",
      " -2.33549619e+00  4.28141737e+00 -4.65932465e+00  7.54653072e+00\n",
      " -6.64798856e-01  2.06030865e+01  1.37477055e+01  1.04118052e+01\n",
      "  1.89003391e+01 -1.17596645e+01  1.70554848e+01  7.97962999e+00\n",
      "  4.53397751e+00  2.20296502e+00  5.56376171e+00 -9.42425132e-01\n",
      "  5.55682373e+00 -3.49165112e-01 -1.73279166e+00  8.36793900e+00\n",
      "  2.49699039e+01  2.52274990e+01  4.49230862e+00  6.72127819e+00\n",
      " -8.32445547e-02  8.41651344e+00  6.16754627e+00  5.32398844e+00\n",
      " -2.97987771e+00  9.73675609e-01 -1.51516807e+00  4.17080784e+00\n",
      "  1.97977734e+01  1.15798655e+01  7.36653388e-01  2.79926033e+01\n",
      "  1.37629452e+01  2.65496135e+00  1.91851864e+01 -7.00938797e+00\n",
      "  1.40504627e+01  5.89831161e+00  2.82058620e+00  3.11903429e+00\n",
      "  1.19053662e+00 -1.77337691e-01  1.75492039e+01  8.80654716e+00\n",
      " -2.14088225e+00  6.38371468e+00 -4.58312941e+00 -1.10003223e+01\n",
      "  1.75760138e+00  9.53916264e+00  9.38000679e+00 -3.00682020e+00\n",
      "  5.07432842e+00  2.71283436e+00 -4.37877703e+00  1.66901474e+01\n",
      " -3.50309110e+00  1.68404350e+01 -3.58394122e+00  1.70871143e+01\n",
      "  3.28548121e+00 -6.03392935e+00  1.08885632e+01  7.50840616e+00\n",
      "  8.67440701e+00  3.52074099e+00 -5.84378242e-01  1.76024723e+01\n",
      " -3.75319099e+00 -3.21967793e+00  1.04972672e+00  1.54310074e+01\n",
      "  1.50016994e+01  1.79224815e+01 -3.07340264e+00  2.35197926e+00\n",
      "  6.96452761e+00  8.57282543e+00 -5.22070217e+00 -9.86286163e+00\n",
      " -7.59370613e+00 -7.29767847e+00  1.42644882e+00  6.02771640e-01\n",
      " -3.48469448e+00 -6.42900050e-01  5.41480684e+00  1.97974765e+00\n",
      "  5.26338339e+00  2.78062725e+01  5.68766403e+00 -7.54348099e-01\n",
      " -8.80939102e+00 -5.65582705e+00  1.23620734e-01  4.64882642e-01\n",
      "  1.97526053e-01 -1.20209587e+00 -4.58302641e+00  8.48944378e+00\n",
      "  4.46994019e+00 -1.97189138e-03  2.20230160e+01  5.33166933e+00\n",
      " -1.27041292e+00 -4.03361291e-01 -8.34689200e-01 -2.03140646e-01\n",
      "  2.21660519e+01 -1.51133466e+00  2.66218615e+00 -7.04660296e-01\n",
      "  3.20689726e+00  5.65508175e+00 -7.32557106e+00  5.38127327e+00\n",
      " -5.37685931e-01 -3.49512672e+00 -5.81763124e+00  5.03359735e-01\n",
      "  2.25843601e+01  2.99970646e+01  8.27510834e+00 -5.11146212e+00\n",
      "  3.57915664e+00 -8.23978335e-02  1.78959637e+01  1.35009241e+01\n",
      "  5.92310476e+00  1.93978996e+01  6.20122480e+00  4.48350573e+00\n",
      "  3.09481716e+00 -2.02433169e-01 -2.90440035e+00  5.09872103e+00\n",
      " -2.75293398e+00  1.18734379e+01 -4.63994169e+00 -1.73433971e+01\n",
      "  2.49224496e+00  2.38056469e+01  2.06567631e+01  3.84897447e+00\n",
      "  6.38885641e+00  2.47965240e+00  3.04192114e+00 -3.94829273e-01\n",
      " -2.46209240e+00  9.78975868e+00  3.05289960e+00  3.66893888e+00\n",
      "  2.52698269e+01  7.57430887e+00 -2.38460922e+00  8.81537628e+00\n",
      "  2.45890865e+01  4.48367214e+00 -8.26351833e+00  5.54086971e+00\n",
      "  2.92498827e+00  4.23370361e+00 -4.24450493e+00 -2.07998443e+00\n",
      " -7.22411728e+00 -3.76130700e+00  9.29665184e+00 -1.33003509e+00\n",
      "  2.70057940e+00  1.84311066e+01 -2.20709991e+00  4.35418606e+00\n",
      " -4.52327585e+00 -9.05773544e+00  1.36365499e+01  2.67079139e+00\n",
      "  2.21752071e+00 -7.93074667e-01  4.44436884e+00 -6.09950840e-01\n",
      "  4.19991016e+00  3.79085970e+00  3.24064970e-01 -2.15256619e+00\n",
      "  1.28543272e+01 -9.97712898e+00  1.60677834e+01  1.27794180e+01\n",
      " -1.93414664e+00  1.17966328e+01  2.22345495e+00  3.73088861e+00\n",
      "  9.07696533e+00  5.28487396e+00  7.73767173e-01  3.18287048e+01\n",
      "  1.70264870e-01  4.59813156e+01  1.60707512e+01  2.69762373e+00\n",
      "  5.09830189e+00  4.63558578e+00  1.98031082e+01  5.29122877e+00\n",
      "  1.22548914e+01  7.39448738e+00 -5.46273804e+00  1.49392309e+01\n",
      "  2.61670704e+01 -1.36566229e+01  8.89116192e+00  2.52515965e+01\n",
      "  3.90746727e+01  3.95879631e+01  4.23798895e+00  1.94440308e+01\n",
      " -2.75135851e+00  2.36107845e+01 -6.09334707e+00  1.80859966e+01\n",
      "  9.75153923e+00 -6.16466427e+00 -1.49837008e+01 -2.85938048e+00\n",
      "  2.98211098e+01 -7.20268965e-01 -1.25388203e+01  1.32347803e+01\n",
      "  2.55777702e+01  3.15660133e+01  1.39344120e+01  8.01958847e+00\n",
      "  4.51975403e+01  2.28893166e+01  1.32371330e+01 -1.91434598e+00\n",
      "  2.79015303e+00  7.37136078e+00  1.96981602e+01 -8.29244900e+00\n",
      "  2.72237892e+01  2.31824074e+01 -2.59821033e+01  6.34691954e+00\n",
      "  9.11178875e+00 -2.53879881e+00  6.75765610e+00  1.78748488e+00\n",
      "  3.04379158e+01 -8.46652222e+00  2.22662201e+01 -7.12726057e-01\n",
      "  1.37873449e+01 -7.45365047e+00  3.04751167e+01 -1.12778209e-01\n",
      "  8.48655987e+00  7.28353834e+00 -6.36797142e+00  3.57340584e+01\n",
      "  1.16416864e+01 -1.02833757e+01 -1.15843642e+00  6.98143625e+00\n",
      "  1.80905666e+01  2.11198187e+00  1.54114656e+01 -5.76418877e+00\n",
      "  6.02147055e+00  2.90214825e+01 -3.95239687e+00  1.86739266e+00\n",
      "  4.75964546e+01 -2.52309585e+00  3.60910034e+00  4.41919422e+00\n",
      "  3.25733900e+00 -1.05548410e+01  3.11430817e+01  6.59809399e+00\n",
      "  3.62761736e+00  2.61078091e+01  5.95898211e-01  1.02031059e+01\n",
      "  8.22448134e-01  9.64587703e-02  5.58289194e+00  6.97501898e+00\n",
      "  8.02663088e-01 -2.51461906e+01 -8.96624660e+00  1.75864010e+01\n",
      " -5.59682655e+00 -2.49839067e+00  2.17954159e+01 -2.42188168e+00\n",
      "  1.41784124e+01 -1.14491291e+01  3.08072414e+01 -2.14889946e+01\n",
      " -4.79216433e+00  1.45308952e+01  1.46508408e+01  8.78030205e+00\n",
      "  1.72404461e+01  3.32414322e+01  9.52992725e+00  1.23783503e+01\n",
      "  1.35368710e+01  4.12275772e+01  2.45768108e+01  2.27726984e+00\n",
      " -2.82554245e+00 -9.68816757e+00 -2.21919537e+00  2.34632263e+01\n",
      "  2.11480751e+01  2.37663879e+01 -1.60599017e+00  1.71112614e+01\n",
      "  8.81968021e+00 -1.25157487e+00 -1.57039957e+01 -1.19970951e+01\n",
      "  6.78265476e+00 -6.00906324e+00  1.49238670e+00 -1.22158737e+01\n",
      " -7.46766853e+00 -9.60890484e+00 -7.38870525e+00  9.74379718e-01\n",
      " -4.61360455e+00 -1.44757223e+00  1.11337566e+00 -2.20277004e+01\n",
      " -4.25742054e+00 -1.33069258e+01 -1.86169338e+00 -1.97366962e+01\n",
      " -4.62267160e+00 -5.32346964e+00  4.61775064e+00 -2.86042857e+00\n",
      " -4.21332550e+00  1.67029992e-01 -6.80907965e+00 -1.37755575e+01\n",
      "  5.94705164e-01 -1.33883924e+01 -9.30243778e+00 -1.22718124e+01\n",
      " -4.23209620e+00 -2.42511272e+01 -4.90890646e+00  3.22374034e+00\n",
      " -1.34767609e+01 -1.08362532e+01 -5.20445395e+00 -6.19284201e+00\n",
      "  6.44731939e-01 -1.92201805e+01 -6.15433979e+00 -2.16540933e+00\n",
      " -2.20751762e+01  2.70752311e+00  1.06444321e+01  3.34902978e+00\n",
      " -1.53122711e+01 -5.08029795e+00  2.98101974e+00  1.88600993e+00\n",
      "  5.05613923e-01 -4.93360472e+00 -1.98520145e+01 -2.24026642e+01\n",
      "  3.79169881e-01 -2.42565422e+01 -2.26551399e+01 -6.79189539e+00\n",
      " -4.97527933e+00 -5.19884920e+00 -3.64756608e+00 -3.77106428e+00\n",
      "  3.42883253e+00 -2.14950538e+00 -8.54917622e+00  1.00096488e+00\n",
      "  2.64510250e+00 -4.35588598e+00 -8.35382462e+00 -2.83011227e+01\n",
      "  6.31004047e+00 -1.42489252e+01 -8.29508972e+00  1.88029659e+00\n",
      " -1.90833664e+01 -6.52873945e+00 -7.95435619e+00 -1.45104980e+01\n",
      " -1.48893070e+01 -2.26081390e+01 -8.91588497e+00 -6.51530981e+00\n",
      "  3.55913711e+00  2.39830518e+00 -9.59097099e+00 -1.09143133e+01\n",
      " -3.70923233e+00 -8.88461494e+00 -7.24924517e+00 -5.13152981e+00\n",
      " -1.25139294e+01 -2.48706508e+00  3.91885519e+00 -1.16237450e+01\n",
      "  3.41453338e+00 -1.77292085e+00 -5.22861910e+00 -1.38629847e+01\n",
      " -4.77743912e+00 -5.22426653e+00  6.23056769e-01 -4.59326887e+00\n",
      " -5.14547729e+00 -2.13432331e+01 -2.46678429e+01 -1.88978329e+01\n",
      " -3.43050933e+00  3.58454347e+00  9.17130053e-01 -1.09933443e+01\n",
      "  2.50668621e+00 -1.71091938e+01  1.86289463e+01 -2.07316113e+01\n",
      "  9.69589293e-01  5.02062702e+00 -1.26839743e+01  1.39053094e+00\n",
      "  5.09138060e+00 -3.74036551e+00 -9.49916649e+00 -7.84747505e+00\n",
      " -1.35880175e+01  4.52801466e-01 -4.72645617e+00 -3.19602275e+00\n",
      " -3.92204881e+00 -3.43485810e-02 -1.38810263e+01 -7.88361835e+00\n",
      " -4.02190179e-01 -1.79411106e+01 -4.07988596e+00 -2.15013847e+01\n",
      "  2.47391462e+00 -6.09402370e+00  1.37710357e+00 -1.04616404e+01\n",
      "  3.61383653e+00 -1.17268734e+01 -1.51490521e+00 -8.31879520e+00\n",
      " -4.14671719e-01  2.68708277e+00 -1.13399725e+01 -3.48840380e+00\n",
      " -9.70037556e+00 -3.46895051e+00  3.23189712e+00 -1.96824777e+00\n",
      " -5.12349486e-01  2.23448110e+00 -2.04158249e+01 -6.44987822e+00\n",
      "  1.00624228e+01 -2.95230217e+01 -1.35702429e+01 -1.78601265e+01\n",
      "  3.74540734e+00 -5.47903967e+00 -1.76393642e+01  7.68262625e-01\n",
      " -3.08423233e+00  2.55291390e+00 -1.67517459e+00 -1.05395484e+00\n",
      " -2.41102390e+01 -2.04007816e+01 -5.54140472e+00 -6.57307768e+00\n",
      " -1.60321636e+01 -2.59769988e+00  1.06086206e+00 -4.45793533e+00\n",
      "  2.89232489e-02 -7.22471952e+00 -3.10803628e+00 -9.94048691e+00\n",
      " -8.35155487e+00 -2.16814861e+01 -1.18876316e-01  5.10409641e+00\n",
      " -1.14461288e+01 -8.65248966e+00 -5.51050615e+00  1.98668563e+00\n",
      " -1.69622631e+01 -3.90736413e+00 -3.29565310e+00 -9.37105656e+00\n",
      " -2.10595341e+01  1.31373949e+01 -2.05288258e+01  1.83810616e+00\n",
      " -5.04865551e+00  3.92009425e+00 -5.12849760e+00  7.07648182e+00\n",
      "  5.63535309e+00 -5.73633337e+00 -1.95235329e+01 -1.31894798e+01\n",
      " -2.56295624e+01 -1.56583223e+01  5.89787388e+00 -2.01743450e+01\n",
      " -1.24103270e+01 -1.20504255e+01 -5.16430759e+00  3.86113453e+00\n",
      " -1.40573227e+00 -2.04426789e+00 -1.70822601e+01 -8.42122459e+00\n",
      "  1.10985839e+00 -3.30010109e+01 -3.24458580e+01 -2.86709843e+01\n",
      " -2.82351804e+00 -7.45039701e-01 -1.23926611e+01  1.25327997e+01\n",
      " -1.70984306e+01 -4.45676756e+00 -1.53425283e+01  1.29785979e+00\n",
      " -1.47179289e+01 -9.71785736e+00 -4.23000450e+01 -1.23278713e+01\n",
      " -2.64046135e+01 -2.09467297e+01 -1.30854998e+01  7.32361984e+00\n",
      " -5.13250494e+00 -4.29601212e+01 -1.84378490e+01 -1.38743973e+01\n",
      " -4.99699926e+00 -1.93850470e+00 -9.33862495e+00 -1.48322570e+00\n",
      " -2.01520252e+01 -1.94569170e+00 -1.72577991e+01 -1.02202044e+01\n",
      "  2.02585697e+00 -1.69687328e+01 -4.48661308e+01  3.70999098e+00\n",
      " -1.42071133e+01 -1.54482489e+01 -2.31899691e+00 -7.97677946e+00\n",
      "  8.39675963e-01  5.83591604e+00 -8.19350243e+00 -2.35682507e+01\n",
      " -1.77281475e+01 -2.46437240e+00 -2.20486999e+00 -4.67692261e+01\n",
      " -4.71815437e-01  7.34368229e+00 -1.54281034e+01  6.44077253e+00\n",
      " -3.38017311e+01 -3.26507950e+00 -1.21550493e+01  6.47252893e+00\n",
      " -6.56260681e+00 -4.48094320e+00 -1.24934225e+01 -3.60009613e+01\n",
      " -1.06171675e+01 -1.89066429e+01 -3.02661972e+01  8.73757935e+00\n",
      " -2.36675568e+01 -2.97940845e+01  2.35826612e+00 -4.90529203e+00\n",
      " -4.46203995e+00 -5.30772209e+00 -1.55339746e+01 -1.09636497e+01\n",
      " -6.81956673e+00 -3.40677214e+00  7.40943611e-01 -1.24645262e+01\n",
      " -1.04074764e+01 -1.61131020e+01 -2.60677109e+01 -2.57327900e+01\n",
      " -7.29669428e+00  2.92111897e+00 -5.14212914e+01  6.65233254e-01\n",
      " -1.97751598e+01 -4.00748711e+01 -3.34849586e+01  5.52679443e+00\n",
      " -2.14130173e+01  1.05352840e+01  1.14471130e+01 -5.21227551e+00\n",
      " -5.81088829e+00 -3.22945747e+01 -2.78425598e+01  1.32147121e+00\n",
      " -2.45489941e+01 -2.33706093e+01 -3.28192749e+01 -8.25107753e-01\n",
      " -1.35491095e+01  1.19968224e+01 -2.54051018e+00 -9.09841824e+00\n",
      " -7.93926811e+00 -8.02975941e+00 -2.30013371e+01 -4.42887259e+00\n",
      " -3.47521678e-02 -5.47022676e+00  3.55332613e+00 -1.93064556e+01\n",
      " -2.60494080e+01 -8.20978642e+00 -1.15552254e+01  7.31803846e+00\n",
      " -2.69041729e+00 -6.13656855e+00  3.30548954e+00 -3.07504101e+01\n",
      " -2.90842915e+01 -7.00910854e+00 -2.69019756e+01  5.83460379e+00\n",
      " -1.11775255e+01 -7.82064915e+00]' has dtype incompatible with int64, please explicitly cast to a compatible dtype first.\n",
      "  preds[val_index] = model.predict(dval_i)\n"
     ]
    },
    {
     "name": "stderr",
     "output_type": "stream",
     "text": [
      "\r",
      " 20%|███████████████████████████████████████████████████                                                                                                                                                                                                            | 2/10 [01:17<05:11, 38.92s/it]"
     ]
    },
    {
     "name": "stderr",
     "output_type": "stream",
     "text": [
      "C:\\Users\\81809\\AppData\\Local\\Temp\\ipykernel_9756\\3386215446.py:18: FutureWarning: Setting an item of incompatible dtype is deprecated and will raise an error in a future version of pandas. Value '[-3.76212060e-01  3.98148942e+00 -6.40703773e+00 -4.76834393e+00\n",
      " -1.05661526e-01  8.26510048e+00 -1.95846009e+00  8.32105350e+00\n",
      "  7.76444817e+00  1.01277208e+00 -8.04785073e-01 -4.23166132e+00\n",
      "  2.70946999e+01  2.17517014e+01  5.71960592e+00 -1.14616740e+00\n",
      "  2.44023666e+01  2.50292492e+01  7.57119322e+00  9.83154964e+00\n",
      "  7.47086859e+00 -1.00755978e+01  6.45423079e+00  6.85373116e+00\n",
      "  9.24279881e+00  6.72967291e+00  6.11948967e+00  7.39888430e+00\n",
      " -6.06904459e+00 -4.80827713e+00  7.95151711e+00  1.33853412e+00\n",
      "  5.06735706e+00  1.08985176e+01  2.44738770e+00  2.47694550e+01\n",
      " -1.90865517e+00  2.86159935e+01  4.74341726e+00  5.83888245e+00\n",
      "  3.85735202e+00 -7.89154673e+00  5.65286255e+00  7.93125916e+00\n",
      "  8.93010807e+00  6.67619169e-01 -3.29939747e+00 -5.30675459e+00\n",
      "  7.43171024e+00 -1.20933819e+01  4.97502851e+00  1.05126512e+00\n",
      "  6.80145645e+00  6.63712740e+00 -1.81249046e+00  8.77145100e+00\n",
      " -4.46643412e-01  2.67882514e+00  1.75429134e+01  4.83804083e+00\n",
      "  2.17140923e+01  2.94736594e-01  4.53180647e+00  6.71408844e+00\n",
      "  6.73139477e+00  1.01993942e+01  2.09512830e+00  1.98568428e+00\n",
      "  3.40329552e+00 -8.82178545e-01  2.30834675e+01  5.39742470e-01\n",
      "  5.69910574e+00  1.66508083e+01  4.53971910e+00  1.70302334e+01\n",
      " -8.98074245e+00  1.40709138e+00  4.88232756e+00  3.33718397e-02\n",
      "  1.29731884e+01  5.83417892e+00  1.01371598e+00  3.66686749e+00\n",
      "  2.84799552e+00  1.42221661e+01 -3.93786216e+00 -6.94901705e-01\n",
      " -3.19647044e-01  1.46445227e+01  5.11014509e+00  2.09316063e+01\n",
      "  6.36122465e-01 -8.60548496e+00  8.40898037e+00  9.25546360e+00\n",
      "  4.37754440e+00 -9.14473891e-01  2.50734115e+00  4.10602331e+00\n",
      " -4.88606155e-01  2.00840950e+01 -3.30838251e+00  9.51367092e+00\n",
      "  1.86941166e+01  2.50696272e-01  2.22847652e+01  5.33008003e+00\n",
      "  5.24821758e+00 -2.15061736e+00  1.01091785e+01 -7.20827436e+00\n",
      " -1.35047710e+00 -8.62770304e-02 -2.49713993e+00 -5.96963335e-03\n",
      " -6.59998941e+00  5.79750156e+00 -4.18389052e-01  6.36194754e+00\n",
      "  6.92317963e+00  2.57237301e+01  3.83829141e+00  5.25988197e+00\n",
      " -2.04285431e+00  1.97475147e+00  2.15685081e+00 -2.70181149e-01\n",
      "  7.42523193e-01 -1.15262461e+00  7.57021606e-01 -1.61332645e+01\n",
      "  1.38105497e+01  1.28679361e+01  2.29587135e+01 -3.88152623e+00\n",
      " -4.17149484e-01  8.76228142e+00 -6.38016510e+00  4.36352634e+00\n",
      "  1.13904357e+00 -1.70449984e+00  1.61543674e+01  1.59138937e+01\n",
      "  2.29802189e+01  2.48673940e+00 -5.60245180e+00 -1.15595925e+00\n",
      "  5.34693336e+00 -7.69501686e+00  2.49653101e+00  4.12416124e+00\n",
      "  1.20787888e+01 -9.75231409e-01  2.35291939e+01  4.60963821e+00\n",
      "  1.55250132e+00  8.41120338e+00  3.08806839e+01 -3.95896673e-01\n",
      " -4.51318681e-01  6.20402002e+00  1.00303555e+01  1.81312954e+00\n",
      " -2.54365563e-01 -9.09128726e-01 -1.74850941e+00  5.73887014e+00\n",
      " -1.35518694e+00  5.22509634e-01  3.51909351e+00  1.12793770e+01\n",
      " -2.99776793e+00 -6.05011988e+00  7.47354603e+00  2.18802032e+01\n",
      "  1.82996788e+01  6.42876577e+00  2.66940761e+00 -7.72516668e-01\n",
      "  7.51085949e+00  3.04755116e+00  9.56239891e+00  6.75011826e+00\n",
      "  3.66236520e+00  2.38801727e+01  4.13442087e+00  1.97189248e+00\n",
      "  2.20420284e+01 -8.01448059e+00  7.21158981e-01  7.12420082e+00\n",
      " -9.35647202e+00  5.76578045e+00  2.00349855e+00 -1.02413130e+01\n",
      "  5.13987923e+00  8.08603668e+00 -1.83505702e+00 -6.28554773e+00\n",
      " -4.93228388e+00  1.04700766e+01 -1.56208074e+00  3.42387605e+00\n",
      " -1.60961890e+00 -9.66558456e+00 -5.01788378e+00 -2.44876051e+00\n",
      "  2.84209290e+01  1.36710386e+01 -4.65682125e+00  1.56215401e+01\n",
      " -1.60479605e+00  1.75771952e+00  9.66784596e-01 -3.47858095e+00\n",
      "  2.57374406e+00  1.93492184e+01  7.30464888e+00  3.35370660e+00\n",
      "  5.27911544e-01  3.33970413e+01  2.98585281e+01  1.18180342e+01\n",
      " -2.22257674e-02  3.32449651e+00  1.16503448e+01 -9.51999092e+00\n",
      "  5.47818041e+00  1.68471432e+01 -3.79270220e+00 -1.94047844e+00\n",
      "  1.45633192e+01  8.30328751e+00  1.13733082e+01  3.83330116e+01\n",
      "  6.97647476e+00  9.81366825e+00 -7.38797235e+00  4.57781363e+00\n",
      "  2.79646626e+01  7.93770027e+00  1.82236462e+01 -4.25419521e+00\n",
      " -1.53688450e+01  8.72393990e+00 -2.83136070e-01  2.24080518e-01\n",
      "  1.91700280e+00 -8.92120540e-01  2.27063427e+01  7.15133095e+00\n",
      "  1.34636581e+00  9.29387951e+00  1.92006207e+00  1.12418318e+01\n",
      "  1.46718121e+01  1.72464523e+01  8.37915421e+00  2.60754814e+01\n",
      " -2.85566235e+00  2.90775452e+01  2.57916927e+00  4.90288506e+01\n",
      "  3.09078579e+01 -3.19000888e+00  1.12446404e+01  3.34888458e+01\n",
      "  1.73758736e+01  3.89282513e+00  1.11933346e+01  3.63913956e+01\n",
      "  4.05925636e+01  7.22012329e+00  3.26018753e+01  2.19437099e+00\n",
      "  1.10720835e+01  7.70721436e+00  8.13643360e+00  9.49833965e+00\n",
      "  3.10783119e+01  2.20916104e+00  2.66063671e+01 -5.31798077e+00\n",
      "  4.06381369e+00 -1.66808772e+00  2.49974327e+01  9.81642723e+00\n",
      " -3.98686504e+00  2.92918453e+01  2.34235687e+01  6.16235828e+00\n",
      "  2.85039577e+01  1.10734391e+00 -6.86151028e+00  6.74323559e+00\n",
      "  1.94387608e+01  8.50555956e-01  3.04418621e+01  4.40281563e+01\n",
      "  1.07854500e+01  7.08546686e+00  2.56625233e+01  2.19806499e+01\n",
      " -2.66471863e+00 -1.33655081e+01  3.31347084e+01 -3.24141932e+00\n",
      "  1.02867546e+01 -6.47907877e+00  3.71663551e+01  3.32192307e+01\n",
      "  3.25461731e+01  1.13147008e+00  9.08792210e+00  7.47124338e+00\n",
      "  5.32158184e+00  3.14957294e+01  2.84580636e+00  8.43972683e+00\n",
      "  2.03232613e+01  1.96063652e+01  3.33319712e+00  2.26105452e+00\n",
      " -1.59890127e+01  5.39384937e+00 -1.16009998e+01 -9.54858303e+00\n",
      " -2.83501244e+00  2.30398202e+00 -8.05704880e+00  3.89284563e+00\n",
      " -7.66899443e+00 -5.50924492e+00  4.97971296e+00 -4.45378637e+00\n",
      " -4.09859657e+00 -2.10430336e+00 -5.61517429e+00  1.41884220e+00\n",
      " -1.99991913e+01 -1.00606594e+01 -2.26113796e+01 -3.68207216e+00\n",
      " -4.72549391e+00 -2.45510244e+00 -6.91298342e+00 -2.31916833e+00\n",
      "  6.18436003e+00 -4.60528880e-01  4.80858040e+00 -1.40842509e+00\n",
      " -2.38114033e+01 -1.39566259e+01 -2.75440140e+01 -1.11187334e+01\n",
      " -1.54179888e+01 -3.81313419e+00  5.68341970e+00 -2.67087078e+00\n",
      " -5.86806107e+00 -5.32641268e+00 -8.65474892e+00 -6.07384729e+00\n",
      "  2.21831292e-01 -9.53668308e+00 -9.10530269e-01 -1.80558720e+01\n",
      " -4.49794054e+00 -1.00027251e+00  3.47923112e+00 -6.55710697e+00\n",
      "  2.56575918e+00  3.20451975e+00  3.68511128e+00 -2.83732319e+00\n",
      "  1.24621439e+00 -3.05615783e+00 -1.39427433e+01 -2.13052692e+01\n",
      " -1.19471712e+01  1.15432572e+00  1.68022215e+00 -2.82076883e+00\n",
      "  1.94116330e+00 -1.03868065e+01 -7.54203415e+00 -3.23936057e+00\n",
      "  6.77628636e-01 -5.62898302e+00 -1.83263838e+00 -9.39157581e+00\n",
      " -5.10678244e+00 -1.98796713e+00 -1.72400105e+00 -1.24032583e+01\n",
      " -1.32467346e+01 -4.66415435e-01  3.13506961e+00 -1.37574301e+01\n",
      " -3.80078959e+00 -4.39641714e+00 -1.32338343e+01 -7.27462769e-01\n",
      " -9.70878720e-01 -1.74844913e+01 -1.93216515e+00  4.71587801e+00\n",
      " -1.76969662e+01  6.20016766e+00 -9.80255032e+00 -2.23078537e+00\n",
      " -2.17521210e+01 -8.30405712e+00 -1.00300360e+01 -8.06132603e+00\n",
      " -9.49701214e+00  4.46842521e-01 -5.06285191e+00 -5.62191105e+00\n",
      " -2.95226264e+00 -1.36748657e+01 -1.74680252e+01 -3.38641739e+00\n",
      "  2.19910479e+00 -1.28938427e+01  5.45918822e-01 -1.02159033e+01\n",
      " -4.48076916e+00 -1.78777905e+01 -1.05582476e+00 -4.40692759e+00\n",
      " -1.88124168e+00  1.07282829e+01  2.90008736e+00  1.16231060e+00\n",
      " -3.95319867e+00 -7.02657461e+00 -1.00776730e+01 -3.64399791e-01\n",
      " -1.83212709e+00 -6.61043108e-01  1.27355042e+01 -2.70839787e+00\n",
      "  9.65321481e-01 -2.73760815e+01 -1.78536587e+01 -3.30123878e+00\n",
      " -2.83719152e-01 -4.67369080e+00  3.70870566e+00  1.12080657e+00\n",
      " -1.19873676e+01 -7.25261593e+00  1.01470780e+00 -2.32044768e+00\n",
      " -7.82742310e+00  1.83050671e+01  4.84945679e+00  8.91505405e-02\n",
      "  9.25014615e-01 -1.47505732e+01 -1.49446201e+00 -2.18619967e+00\n",
      "  4.35584486e-01  7.66800821e-01 -1.24528208e+01  8.41683924e-01\n",
      "  3.77387428e+00  1.16745138e+01 -1.91843243e+01 -1.62551708e+01\n",
      "  3.86709046e+00  1.40051627e+00 -8.54823399e+00  6.39460611e+00\n",
      "  6.69444084e-01 -2.03152418e+00 -3.70110726e+00  3.30373383e+00\n",
      " -8.34631824e+00 -2.94276500e+00 -5.33768892e-01  1.96719933e+00\n",
      " -1.71890373e+01 -1.66551037e+01 -4.54022980e+00 -3.05130816e+00\n",
      " -1.25400031e+00  1.68787611e+00  1.32983923e+00  5.31009722e+00\n",
      "  1.57453132e+00 -2.31547432e+01 -8.48481655e+00  1.01795378e+01\n",
      " -3.10954571e+01  3.39893246e+00 -2.32518940e+01 -2.33123755e+00\n",
      " -5.57393837e+00  5.90243673e+00 -2.97286129e+00 -8.49715614e+00\n",
      " -3.13735890e+00 -4.18487906e-01  4.30412912e+00 -1.48877907e+00\n",
      " -6.14496517e+00 -1.91776550e+00 -1.92401028e+00 -1.27198954e+01\n",
      " -2.23532333e+01 -1.18090367e+00 -1.27406874e+01 -3.12616706e+00\n",
      " -8.92414188e+00 -3.60029531e+00  8.37717831e-01  5.19111574e-01\n",
      "  2.59598327e+00 -1.63570297e+00 -2.33459244e+01 -1.32387841e+00\n",
      " -2.20214005e+01 -7.39626741e+00 -3.93210149e+00 -3.20001960e-01\n",
      "  2.74762726e+00 -4.90358734e+00  4.18549538e+00 -1.68524284e+01\n",
      " -7.45138109e-01 -1.33056526e+01  9.39016283e-01 -2.12079740e+00\n",
      " -1.67097092e+01 -1.82854843e+01 -1.65119737e-01 -6.17621803e+00\n",
      " -5.69935703e+00  6.56581926e+00  2.75997567e+00 -5.14781475e+00\n",
      " -1.35399599e+01 -2.60844307e+01 -2.28159981e+01 -1.40949783e+01\n",
      " -7.19796038e+00  2.57410526e+00  3.44601679e+00  1.26985535e-01\n",
      " -2.18919277e+00 -3.37663460e+01 -1.05224171e+01 -2.02269154e+01\n",
      " -1.16620855e+01 -3.18440571e+01 -3.44194794e+01 -2.94956055e+01\n",
      " -2.68531761e+01 -2.99729786e+01 -3.18443680e+00 -2.08586464e+01\n",
      " -3.57917900e+01 -3.91223121e+00  1.39732723e+01 -1.68730755e+01\n",
      " -8.37965775e+00 -2.21546555e+01 -1.44159555e+01 -4.92985964e+00\n",
      " -2.70828629e+01 -4.09114037e+01 -1.10836005e+00 -3.49495773e+01\n",
      " -2.08472939e+01 -1.41937151e+01  4.64868116e+00  7.00265169e+00\n",
      " -4.07366848e+00 -1.86072302e+00  5.10061216e+00 -7.61987400e+00\n",
      "  1.34175463e+01 -2.19608974e+00 -2.65799713e+00 -3.70826073e+01\n",
      " -2.73507710e+01  6.30196476e+00  1.69362140e+00 -1.42864342e+01\n",
      "  8.89464378e+00 -4.79210711e+00 -1.82282219e+01  1.67965269e+00\n",
      " -5.72282219e+00  5.80620289e+00 -1.93853760e+01 -4.62518234e+01\n",
      "  7.11757612e+00  8.43814373e+00 -1.85338135e+01 -2.14885483e+01\n",
      " -3.09668159e+01 -6.11709642e+00  9.00173664e+00  4.96124649e+00\n",
      " -2.54581547e+01  2.37780647e+01 -1.19193852e+00 -8.32231236e+00\n",
      " -2.12458820e+01  3.27860236e+00  1.55609918e+00 -2.81525040e+01\n",
      " -3.10639496e+01 -5.53240347e+00 -1.63940048e+01 -6.52337670e-01\n",
      "  5.35441017e+00  1.59484589e+00 -3.10889530e+00 -1.31771934e+00\n",
      " -2.53824234e+01 -1.13690758e+01 -4.83124018e+00  7.71024752e+00\n",
      " -7.55708790e+00  5.07625723e+00 -3.76957855e+01 -2.38011703e+01\n",
      " -3.45801735e+01 -2.35732460e+00 -6.04790211e+00 -2.45901155e+00\n",
      " -1.45002794e+01  1.07158709e+01 -3.68573642e+00 -2.93796864e+01\n",
      " -1.22171240e+01 -9.46896076e+00 -1.01485214e+01 -1.60260296e+01\n",
      " -6.79982042e+00 -2.86083527e+01  7.11270094e-01 -3.26008534e+00\n",
      " -2.10480328e+01 -1.65747452e+00 -2.89504242e+00  3.74329448e+00\n",
      " -1.42224979e+00 -4.52193165e+00  1.08039217e+01  6.65982199e+00\n",
      " -5.11990547e+00 -5.96274090e+00 -5.48408890e+00 -1.39271965e+01\n",
      " -3.64257660e+01  1.06762886e+00 -2.49019814e+01 -1.60146332e+01\n",
      "  2.11058736e+00  1.45530577e+01 -2.58684807e+01 -7.44438589e-01\n",
      "  9.66349030e+00 -3.69888153e+01 -2.97472839e+01 -5.93863964e+00\n",
      " -2.90749207e+01 -1.01046162e+01  5.24311447e+00  6.16703415e+00\n",
      " -7.85792542e+00 -2.12013130e+01 -1.98029709e+01  1.14004431e+01\n",
      " -7.31150103e+00  7.32923460e+00 -4.64617586e+00  5.04761994e-01\n",
      "  8.78970528e+00 -8.34154415e+00 -1.56202519e+00 -1.48117542e+01\n",
      " -7.88242769e+00 -6.11801910e+00 -3.19983435e+00 -1.85811436e+00\n",
      " -2.98384418e+01  1.08003387e+01 -2.10230598e+01 -2.41368103e+01\n",
      "  3.85122371e+00 -2.05755348e+01]' has dtype incompatible with int64, please explicitly cast to a compatible dtype first.\n",
      "  preds[val_index] = model.predict(dval_i)\n"
     ]
    },
    {
     "name": "stderr",
     "output_type": "stream",
     "text": [
      "\r",
      " 30%|████████████████████████████████████████████████████████████████████████████▌                                                                                                                                                                                  | 3/10 [02:02<04:52, 41.77s/it]"
     ]
    },
    {
     "name": "stderr",
     "output_type": "stream",
     "text": [
      "C:\\Users\\81809\\AppData\\Local\\Temp\\ipykernel_9756\\3386215446.py:18: FutureWarning: Setting an item of incompatible dtype is deprecated and will raise an error in a future version of pandas. Value '[-1.59500718e+00 -8.84625912e+00  1.46628590e+01  2.26007900e+01\n",
      "  7.76436901e+00  3.48828173e+00 -2.14424825e+00  8.13216507e-01\n",
      " -4.51372766e+00  1.31857669e+00 -7.30484867e+00 -1.26350641e+00\n",
      "  2.14983826e+01 -2.58845210e+00 -8.31203818e-01  2.43274803e+01\n",
      "  9.07293081e-01  3.70620561e+00 -4.13150978e+00 -5.64122498e-01\n",
      " -4.74874210e+00  5.21329212e+00  9.08767509e+00 -7.12873161e-01\n",
      "  4.21925354e+00  3.90313530e+00 -2.17604685e+00 -5.60095549e+00\n",
      "  2.27377391e+00  1.38753538e+01  1.14008582e+00  4.91624975e+00\n",
      "  8.05451202e+00  1.81123579e+00  9.23397732e+00  2.69629002e+00\n",
      "  5.66912651e+00 -6.79502583e+00  4.54103279e+00  3.35731316e+00\n",
      " -8.00494862e+00 -2.83748746e+00  1.95488834e+00  2.05734921e+01\n",
      "  1.52131948e+01  2.68232942e+00  7.68352866e-01 -1.52025688e+00\n",
      " -2.02472997e+00  9.08025074e+00  4.50833130e+00  1.41934919e+00\n",
      " -1.94316745e+00  4.46126604e+00  1.27844973e+01 -2.21734715e+00\n",
      "  2.44765053e+01  4.02205372e+00 -1.86695075e+00  1.00554478e+00\n",
      "  2.29544497e+00 -1.10424221e+00  3.12100291e+00  2.24084606e+01\n",
      " -3.18289566e+00  8.45068550e+00  6.07262850e+00  8.09484720e-01\n",
      "  1.34495441e-02  4.54347944e+00 -2.19187236e+00  3.69304800e+00\n",
      " -9.62964916e+00  1.87897224e+01  7.34373379e+00  1.24280214e+01\n",
      " -2.97936726e+00  5.27698803e+00  1.96381056e+00 -2.55011034e+00\n",
      "  2.71518459e+01  1.10625181e+01 -9.35672283e+00 -4.32556057e+00\n",
      "  2.06988335e+00  1.63947372e+01 -1.65119898e+00  4.54972601e+00\n",
      "  1.26312956e-01  1.23218479e+01  2.55909300e+00 -3.06110001e+00\n",
      "  2.77865505e+00  2.14085922e+01 -1.50228472e+01 -2.33414721e+00\n",
      "  1.06472301e+01  3.84629107e+00  7.42841864e+00  7.70724440e+00\n",
      " -2.05127072e+00  4.39109182e+00  1.58501463e+01  4.88542223e+00\n",
      "  1.19422150e+00  2.79709435e+00  2.21856270e+01 -1.92307770e+00\n",
      "  1.38867302e+01  1.72378750e+01  6.88456726e+00  6.63117123e+00\n",
      "  9.48723221e+00  8.65645313e+00 -4.81421328e+00  6.78916931e-01\n",
      " -2.24068856e+00 -4.70192242e+00  2.08413386e+00  5.71574593e+00\n",
      "  3.26750612e+00  9.38619804e+00 -1.58807325e+00  1.25876970e+01\n",
      " -2.23177147e+00  5.48834372e+00  7.72753954e+00  1.21105337e+00\n",
      " -4.80951643e+00  9.11634636e+00 -2.31781936e+00  2.88495243e-01\n",
      "  2.28746910e+01  8.62550640e+00  2.38143749e+01  6.66154432e+00\n",
      "  7.56023932e+00  2.52293849e+00  7.62395048e+00 -1.15862942e+00\n",
      "  8.17745781e+00 -2.57688189e+00  2.28515530e+01  3.53314567e+00\n",
      " -1.14110928e+01 -1.36183262e+00  1.01415157e+00 -3.98655701e+00\n",
      "  1.23690109e+01  8.05908775e+00 -1.11501179e+01  2.39588991e-01\n",
      "  9.38105297e+00  4.58915710e+00  5.56982183e+00 -2.63834190e+00\n",
      " -1.41321689e-01  7.38317817e-02  1.25067253e+01 -6.23000288e+00\n",
      "  5.70714426e+00 -1.52918711e+01 -3.24358773e+00  6.07507050e-01\n",
      "  1.93397846e+01  2.94558287e+00  1.86147583e+00  8.52463627e+00\n",
      "  4.24288368e+00 -1.02453196e+00  1.17271032e+01 -1.54125601e-01\n",
      "  3.72699642e+00 -3.01283908e+00  2.64518032e+01 -9.60317731e-01\n",
      "  3.71257544e-01  2.18136444e+01 -3.76275563e+00  6.86637878e+00\n",
      "  4.38154173e+00  1.98922014e+00 -5.08858013e+00 -4.47270298e+00\n",
      "  2.79806328e+00  2.35195408e+01  1.53947639e+01  1.55323529e+00\n",
      "  3.81585383e+00  1.30910006e+01 -1.39992523e+00  1.18996773e+01\n",
      " -1.46094847e+00  4.18927956e+00  4.89748621e+00  2.32678342e+00\n",
      "  5.29520941e+00 -3.31752777e+00  1.18009453e+01  1.36237202e+01\n",
      "  2.89404602e+01 -3.63941646e+00 -1.95388496e+00  2.29166293e+00\n",
      "  8.52556419e+00  1.32676010e+01  3.01126456e+00  6.11417961e+00\n",
      "  1.10197103e+00  2.01575685e+00 -4.96460342e+00  3.05267677e+01\n",
      "  7.11685944e+00  7.16823959e+00  2.88962746e+01 -2.27871823e+00\n",
      "  8.99816692e-01  3.56047630e+01  5.69246387e+00 -1.19069786e+01\n",
      "  2.67601128e+01  9.74186802e+00 -5.53662586e+00 -2.52838302e+00\n",
      " -5.64879417e-01  8.06291103e+00  6.73008871e+00  3.36906013e+01\n",
      "  2.50052032e+01  1.48812551e+01  4.07505751e+00  1.87492714e+01\n",
      "  3.29386292e+01  4.93601990e+00  2.90042801e+01  9.01519871e+00\n",
      "  2.42459831e+01  1.63699360e+01  1.36598749e+01  1.69083462e+01\n",
      "  9.11839390e+00  1.64382505e+00  2.90208168e+01  1.20546618e+01\n",
      "  1.40202284e+01  2.53582592e+01  3.15402961e+00  3.14305191e+01\n",
      "  2.36174488e+00  1.72124691e+01  7.31586361e+00  5.96528196e+00\n",
      "  4.16880798e+00  2.30593085e+00  2.99693623e+01  2.95220127e+01\n",
      " -4.47541571e+00 -1.30444326e+01  2.89699879e+01  3.37588429e+00\n",
      "  1.58829594e+01 -7.18257308e-01  2.82610092e+01  2.62756467e+00\n",
      "  1.53720245e+01  3.54377251e+01  2.92168083e+01  2.38545971e+01\n",
      "  1.17046947e+01 -5.28524971e+00  2.91951203e+00  2.97938347e+01\n",
      "  1.23255615e+01  6.47823191e+00  3.49819970e+00  3.58364716e+01\n",
      "  2.36178818e+01  1.05448771e+00  5.86606264e+00  3.46382561e+01\n",
      "  6.09276772e+00  2.16372833e+01 -1.07501202e+01  9.29866409e+00\n",
      "  1.26334162e+01  1.47497473e+01  3.29875565e+01  3.22349243e+01\n",
      "  5.81368113e+00  2.60312843e+01  2.80223904e+01  2.79483433e+01\n",
      " -2.92313099e+00  1.12668676e+01 -1.89169896e+00 -1.56570661e+00\n",
      " -8.74163055e+00  2.23217659e+01 -1.96112614e+01 -6.39293766e+00\n",
      "  1.43112154e+01 -1.65578997e+00  2.32882214e+00 -2.02403474e+00\n",
      "  5.91465759e+00 -1.15301447e+01  1.41151371e+01  4.18925256e-01\n",
      "  8.84198093e+00  2.70889606e+01  3.91176248e+00  6.31475830e+00\n",
      "  1.57845249e+01 -5.10227585e+00  4.65200424e+00 -3.25442290e+00\n",
      "  7.94141197e+00  2.01665993e+01  1.67249603e+01 -1.16999798e+01\n",
      "  2.67240028e+01  1.49349785e+01  1.03640642e+01 -1.14565630e+01\n",
      "  8.76919079e+00  3.09575729e+01  1.41835225e+00  2.38370495e+01\n",
      "  2.37173319e-01  2.17583809e+01  1.78616791e+01  8.66126728e+00\n",
      "  2.77729297e+00 -2.09871521e+01  9.14580345e+00 -5.86989784e+00\n",
      " -8.54877472e+00 -2.00445862e+01 -9.44228840e+00 -7.25848627e+00\n",
      "  2.51595592e+00 -5.86819744e+00 -5.87384081e+00  5.11867809e+00\n",
      " -6.95876789e+00 -7.56519127e+00 -4.30421209e+00  3.63531590e+00\n",
      " -1.44356942e+00 -3.46015155e-01 -5.38275766e+00  8.53517592e-01\n",
      " -2.02468514e+00 -2.17551918e+01 -2.51180592e+01 -1.24738522e+01\n",
      " -2.17959709e+01 -2.53207231e+00 -1.86523008e+00 -2.50822186e+00\n",
      " -5.84186077e+00  3.05386364e-01 -7.76975965e+00 -8.76522350e+00\n",
      " -2.02151527e+01  1.58130002e+00 -7.60955667e+00  1.37024832e+00\n",
      " -7.83763218e+00  1.48612368e+00 -6.44052649e+00 -6.30461597e+00\n",
      "  1.00943398e+00 -1.21488905e+01  6.25985813e+00 -1.08306861e+00\n",
      " -2.19456520e+01 -4.49286366e+00 -5.59036684e+00 -6.22257376e+00\n",
      " -5.93865490e+00 -3.75526047e+00  9.27914619e-01 -4.35362482e+00\n",
      " -3.78977585e+00 -3.54169250e+00 -1.85247440e+01 -2.58499908e+01\n",
      "  5.56237996e-01 -2.58446331e+01 -1.56214428e+01 -7.18144178e+00\n",
      "  5.56413174e-01 -1.28388345e+00 -3.14694953e+00 -8.49417400e+00\n",
      "  1.31393170e+00 -1.54240866e+01  6.29997492e+00  7.02865458e+00\n",
      "  3.42064261e+00 -4.47110319e+00 -2.04604740e+01 -9.16548729e+00\n",
      " -5.90672433e-01 -4.11036873e+00 -1.38414869e+01  2.04470253e+00\n",
      " -2.24303951e+01 -9.44470978e+00 -2.11742344e+01 -2.53155422e+00\n",
      " -1.84664841e+01  2.63743234e+00  2.62206340e+00 -1.11185570e+01\n",
      " -1.49115789e+00 -4.72663689e+00 -1.13064127e+01 -5.81329250e+00\n",
      " -1.38346548e+01 -1.77804070e+01 -1.57480459e+01 -2.65663338e+01\n",
      " -9.75994968e+00 -1.87414207e+01  2.16721392e+00 -7.66506672e-01\n",
      "  1.84250712e+00 -2.27213812e+00  1.06571455e+01 -5.08357906e+00\n",
      " -8.71473730e-01  7.57929206e-01  3.60975099e+00  2.08906865e+00\n",
      " -2.40562096e+01  3.17250919e+00 -2.67275786e+00 -1.99034739e+00\n",
      " -2.36750007e-01 -7.32594967e+00  5.15104818e+00  3.00915861e+00\n",
      " -9.54559743e-01  1.38624203e+00 -1.79515660e+00 -1.46207447e+01\n",
      " -2.42459831e+01  4.70572615e+00 -9.21518230e+00  1.10725379e+00\n",
      " -8.66338348e+00 -1.91616952e+00 -8.06346130e+00 -5.30878067e+00\n",
      " -1.38851368e+00 -8.56051540e+00 -4.95649481e+00 -8.14408302e+00\n",
      " -2.68267179e+00 -1.16671400e+01 -4.05562496e+00  2.76668024e+00\n",
      "  1.50768316e+00  1.30340300e+01 -1.98465157e+01  7.91009808e+00\n",
      " -3.72474766e+00 -6.47970295e+00  1.26387334e+00 -5.69369888e+00\n",
      " -2.42935443e+00 -2.73887229e+00  3.38089585e+00 -1.32512531e+01\n",
      "  3.23043168e-01 -1.16361296e+00 -9.98620892e+00 -3.73314190e+00\n",
      " -3.81588840e+00 -1.26566448e+01  6.69795132e+00 -4.32098913e+00\n",
      " -3.69952536e+00  4.39068604e+00  2.65977526e+00 -1.78441036e+00\n",
      " -8.19752884e+00  1.69405818e-01  5.49425220e+00 -3.90838742e+00\n",
      " -2.00089931e+01 -4.79051208e+00 -1.91508083e+01  1.05808229e+01\n",
      "  6.98993254e+00  2.37315702e+00 -1.22783399e+00 -3.70088005e+00\n",
      " -1.51250372e+01 -2.20160389e+01 -1.44024193e+00 -4.38073635e+00\n",
      " -5.02404451e+00 -5.82551956e+00 -3.55887508e+00 -3.21936202e+00\n",
      " -4.68123055e+00 -1.15949488e+00 -3.14663023e-01 -2.70380859e+01\n",
      " -5.90412855e+00 -2.30057850e+01 -6.68244410e+00 -9.98796082e+00\n",
      " -2.14504623e+01 -2.23789101e+01 -1.67585516e+00  4.72748727e-01\n",
      " -1.57980909e+01 -8.02317238e+00 -4.28931093e+00 -5.34011221e+00\n",
      "  3.15821099e+00 -1.75380859e+01 -4.28024244e+00 -1.33301342e+00\n",
      "  2.81287980e+00 -1.86772573e+00 -9.14795208e+00 -1.49597197e+01\n",
      "  4.60685158e+00 -6.55649328e+00 -1.65514565e+00  1.47305548e-01\n",
      " -3.14255309e+00  4.69662380e+00  4.87891769e+00  1.43455386e+00\n",
      "  2.12017107e+00  2.26193738e+00 -4.50124836e+00 -3.25365186e+00\n",
      " -6.27650261e+00 -9.32050610e+00 -2.60505066e+01  3.24375343e+00\n",
      "  3.10199046e+00 -1.66092968e+01  8.67731857e+00 -2.07855797e+01\n",
      " -1.32821341e+01 -2.15565705e+00 -5.27649546e+00 -1.16172230e+00\n",
      " -1.22155323e+01 -1.86659737e+01 -1.71899879e+00 -8.46958733e+00\n",
      " -4.65840816e+00 -4.35746727e+01  6.62075818e-01  5.75056744e+00\n",
      " -1.95617981e+01  2.62029219e+00 -3.45053520e+01 -3.36085200e+00\n",
      "  1.28324480e+01 -1.06763382e+01 -1.08414288e+01  9.44280243e+00\n",
      " -9.63718987e+00 -2.75511150e+01  1.79314744e+00 -1.20284185e+01\n",
      "  1.17850590e+00 -2.52454643e+01 -6.41241407e+00  1.99687183e+00\n",
      " -1.75497513e+01 -2.38455467e+01  1.08653116e+01  6.56050873e+00\n",
      " -1.72841930e+01  4.86584806e+00  1.21747780e+01 -5.08045578e+00\n",
      " -3.92458992e+01 -2.08750987e+00 -2.30248108e+01 -1.25343828e+01\n",
      " -2.69999237e+01 -3.31764488e+01 -2.72045727e+01 -1.16166306e+01\n",
      " -2.20787659e-01 -2.34447880e+01 -3.17531586e+01  1.58642130e+01\n",
      " -2.17261906e+01 -4.66713428e+00 -2.06211452e+01 -4.51996155e+01\n",
      "  2.99694389e-01 -8.60102081e+00 -9.69002819e+00 -3.51251831e+01\n",
      "  8.82534027e+00 -4.59138727e+00 -2.72145290e+01 -2.53963070e+01\n",
      " -1.76195889e+01  2.50170345e+01 -1.01174712e+00  2.45396686e+00\n",
      " -1.53542147e+01 -3.48639183e+01 -3.17737269e+00 -4.47310677e+01\n",
      " -4.38332462e+00  4.36497784e+00  6.28679466e+00 -3.24182053e+01\n",
      " -1.01536207e+01 -9.55221951e-01 -3.55383224e+01 -1.44367723e+01\n",
      " -1.25074244e+01 -6.98681498e+00  2.82952619e+00 -4.29169998e+01\n",
      "  4.72475320e-01  1.17850313e+01 -7.45992756e+00  3.81293327e-01\n",
      "  5.60822368e-01 -1.57492304e+01  7.94024515e+00 -1.35413504e+01\n",
      " -2.77936954e+01 -9.68135071e+00 -2.04343548e+01 -3.74897346e+01\n",
      " -2.87479019e+00 -1.26478205e+01 -2.07195520e+00 -1.95708961e+01\n",
      " -3.23403320e+01 -2.22222652e+01  7.16725922e+00 -1.28159094e+01\n",
      "  9.38675106e-01 -1.85101032e+01 -2.01707649e+01 -2.53278828e+01\n",
      " -3.04261780e+00 -2.77077751e+01 -3.45072865e+00  1.99591279e+00\n",
      " -9.88204861e+00  9.71875370e-01 -1.88607960e+01 -6.20332003e+00\n",
      " -1.92475338e+01 -2.96701927e+01  1.38986378e+01 -7.70796776e+00\n",
      " -1.11205518e+00 -2.47904181e+00  1.21671844e+00  6.55731738e-01\n",
      "  1.54240489e+00 -7.41969156e+00 -3.02028332e+01 -7.78275299e+00\n",
      " -5.55809498e+00 -2.23769398e+01 -3.72905350e+01 -1.80471957e-01\n",
      "  1.23114882e+01 -1.53927231e+01  1.03156042e+01 -4.97893047e+00\n",
      "  6.63097763e+00 -4.66210127e+00 -1.40500867e+00 -1.02999916e+01\n",
      " -2.73601604e+00 -1.38512363e+01  2.82786083e+00 -2.14395237e+01\n",
      "  4.46137953e+00 -2.53739119e-01 -2.45599976e+01 -2.39246006e+01\n",
      " -2.17508621e+01  3.41231942e+00]' has dtype incompatible with int64, please explicitly cast to a compatible dtype first.\n",
      "  preds[val_index] = model.predict(dval_i)\n"
     ]
    },
    {
     "name": "stderr",
     "output_type": "stream",
     "text": [
      "\r",
      " 40%|██████████████████████████████████████████████████████████████████████████████████████████████████████                                                                                                                                                         | 4/10 [02:38<03:57, 39.53s/it]"
     ]
    },
    {
     "name": "stderr",
     "output_type": "stream",
     "text": [
      "C:\\Users\\81809\\AppData\\Local\\Temp\\ipykernel_9756\\3386215446.py:18: FutureWarning: Setting an item of incompatible dtype is deprecated and will raise an error in a future version of pandas. Value '[-4.71629524e+00  2.17173443e+01  1.84495697e+01  1.01736975e+01\n",
      "  7.01554346e+00  5.59923792e+00 -3.48171067e+00 -2.53343463e+00\n",
      "  1.92977345e+00  2.67029476e+01 -5.95508575e-01  3.82235241e+00\n",
      "  1.26975965e+01  1.49087083e+00  2.10174561e+01  9.28886604e+00\n",
      "  3.80483413e+00  1.28392696e+00 -3.96964729e-01  6.94437838e+00\n",
      " -3.56509924e+00  5.39923525e+00  2.87657499e+00  2.95343542e+00\n",
      " -1.56977618e+00  1.67911892e+01 -1.17517030e+00  4.28902006e+00\n",
      " -7.63150406e+00  3.50963902e+00  1.33152084e+01  4.55037117e+00\n",
      " -5.94519806e+00  3.00860286e+00 -2.53438544e+00  3.30648088e+00\n",
      "  7.33169842e+00  9.37079716e+00 -4.10501957e+00 -8.31535053e+00\n",
      " -6.86644554e-01  6.35722828e+00  1.54651995e+01  7.50141525e+00\n",
      "  6.44262314e+00  7.79832602e+00 -7.21617270e+00 -2.21792626e+00\n",
      "  4.37088537e+00 -1.07369986e+01 -1.03184307e+00  6.43871641e+00\n",
      "  2.31870022e+01  2.57908154e+01  5.16166639e+00  6.93360662e+00\n",
      "  2.42375803e+00  3.46316838e+00 -7.11156785e-01  5.84971762e+00\n",
      "  7.52202702e+00 -1.29893064e+00  1.10749853e+00  2.74908137e+00\n",
      "  1.56440878e+00 -1.37727022e+00  1.71921086e+00 -1.97046065e+00\n",
      "  6.70605135e+00  8.52221906e-01  2.71467094e+01  7.69923544e+00\n",
      " -8.31423342e-01  6.02433300e+00 -6.68325806e+00 -1.53261960e-01\n",
      "  9.93415070e+00  8.07392418e-01  1.26162739e+01  2.07148242e+00\n",
      "  1.23447361e+01  1.74354279e+00  2.37253227e+01  1.29568453e+01\n",
      " -5.69969940e+00  1.72248631e+01 -5.35640836e-01  1.13022251e+01\n",
      "  6.59086990e+00  2.24838161e+00  1.24823885e+01 -3.34187078e+00\n",
      "  4.47892380e+00 -1.03866625e+00 -1.31046653e+00 -2.58643794e+00\n",
      "  2.06993923e+01  6.05158627e-01 -9.68113995e+00  1.30977936e+01\n",
      " -2.54632115e-01  1.98946810e+00  4.12041569e+00 -8.95896149e+00\n",
      " -2.95584631e+00  4.65817451e+00  2.28134942e+00  5.40595198e+00\n",
      "  9.24106061e-01 -1.90112770e+00  7.26512718e+00  2.73306561e+00\n",
      "  4.46878481e+00  3.21763828e-02  6.81790876e+00  1.55446377e+01\n",
      "  2.40879936e+01  4.98267603e+00 -1.89253387e+01 -1.03008878e+00\n",
      "  2.61700511e+00  1.46558893e+00  8.48128319e+00  1.27988398e+00\n",
      "  5.40002298e+00  1.15404234e+01 -2.03614068e+00  1.74305744e+01\n",
      "  2.37325897e+01 -3.76224875e+00 -5.37357450e-01  1.96453142e+00\n",
      "  7.53998852e+00  1.56829939e+01 -2.61461806e+00  4.74630022e+00\n",
      "  2.12268519e+00  1.49686170e+00  7.63230181e+00  2.17512226e+01\n",
      "  3.72940040e+00  1.11622429e+01  1.06942377e+01  3.34583950e+00\n",
      "  1.14754295e+01 -1.03438883e+01 -9.03907967e+00  6.92767143e+00\n",
      "  7.03949869e-01 -1.64673567e+00  3.06374335e+00 -3.96919203e+00\n",
      " -1.86551714e+00  4.48848057e+00 -1.12247410e+01  5.46480596e-01\n",
      "  1.11806841e+01 -6.50306225e-01  6.66928339e+00  5.71209192e+00\n",
      "  1.66875756e+00 -5.66422558e+00  1.86456382e+00  7.49009752e+00\n",
      " -1.44912744e+00  3.45672154e+00 -3.65417933e+00  4.87642765e+00\n",
      "  4.45684910e+00  2.42975140e+01 -1.20251250e+00  1.07881136e+01\n",
      " -5.04013252e+00 -1.20450201e+01 -5.48663807e+00  2.34337401e+00\n",
      "  1.16042118e+01  4.00762939e+00  6.39861917e+00  5.31278753e+00\n",
      " -2.38676739e+00 -1.86532748e+00  2.18090076e+01  9.82841587e+00\n",
      "  2.36172352e+01  4.95614147e+00  1.88977107e-01  8.62302780e+00\n",
      " -7.35075045e+00  1.91235459e+00  3.23577404e+00  4.56736946e+00\n",
      " -5.59949040e-01 -5.12443066e+00  3.41005063e+00  8.02540684e+00\n",
      " -3.30333662e+00  1.84951198e+00  1.22322130e+01 -1.12324679e+00\n",
      "  2.20923977e+01  5.17409086e+00  5.84852934e+00  3.61299300e+00\n",
      " -6.74671459e+00 -6.85980082e+00 -1.17927110e+00  8.22272110e+00\n",
      "  5.03475380e+00  2.93615103e+00  3.59126687e+00  2.75043869e+01\n",
      "  1.14405355e+01 -1.75592244e+00  6.29062128e+00  1.34303105e+00\n",
      "  1.11701965e+00  5.48138320e-01 -6.91368008e+00  1.20114148e+00\n",
      " -1.87775075e+00  2.08635759e+00  2.03071308e+00  2.45799685e+00\n",
      "  7.70627594e+00  2.80218077e+00  3.57780647e+00  5.55473757e+00\n",
      "  2.12166233e+01  1.28473625e+01  4.62888718e+00 -3.17959523e+00\n",
      "  2.80194874e+01  8.59650230e+00 -5.66353893e+00 -6.91570997e-01\n",
      "  9.16682911e+00  1.38888779e+01  6.60087299e+00  2.73764038e+01\n",
      "  2.49142170e+01  3.63407440e+01  2.90458083e+00  1.69563446e+01\n",
      "  2.00951672e+01  2.54450550e+01 -2.47786355e+00  2.69521542e+01\n",
      " -6.39268208e+00 -5.13849783e+00  7.31316137e+00  2.04899673e+01\n",
      "  2.38588066e+01  2.57644920e+01  9.86892509e+00  1.55563917e+01\n",
      "  3.95534754e+00 -1.59849463e+01  5.32062232e-01  7.40443087e+00\n",
      "  1.24568138e+01  1.40709629e+01  6.49420977e+00 -6.21050358e+00\n",
      "  2.03946705e+01  1.46016731e+01  7.13856602e+00  4.46391678e+00\n",
      "  1.40226545e+01  1.93816447e+00  1.05183010e+01  4.30729151e+00\n",
      "  3.32166901e+01  6.08102417e+00  4.80210209e+00 -6.49007750e+00\n",
      "  1.49776287e+01 -2.72925568e+01  6.47562504e+00 -2.26727748e+00\n",
      "  8.78326130e+00  2.78915958e+01  7.06960344e+00  1.08199539e+01\n",
      "  2.90847874e+01  3.39271712e+00  2.79870644e+01  1.95385189e+01\n",
      "  4.19300646e-01  3.12372723e+01  2.99590677e-01  1.41511183e+01\n",
      "  3.38791809e+01  1.13024206e+01 -7.97639799e+00  1.12425222e+01\n",
      "  7.64258385e+00 -7.84796333e+00  2.67584229e+01  1.20190706e+01\n",
      "  3.74406166e+01  5.58032465e+00  7.02270889e+00  3.61346436e+01\n",
      "  7.83179104e-01  2.31823540e+01  4.59073162e+00  3.44520035e+01\n",
      "  3.49227691e+00  1.42249813e+01 -1.89182532e+00  3.47711563e+01\n",
      "  1.45684338e+01  3.31026421e+01  6.90642309e+00  1.95935476e+00\n",
      " -4.30156755e+00 -7.29526901e+00  9.30810165e+00 -8.17981529e+00\n",
      "  6.56266499e+00  3.89775887e+01 -7.81351900e+00  2.37674103e+01\n",
      " -1.76548705e-01  6.51548624e+00  5.66928816e+00  4.04993553e+01\n",
      "  1.03366432e+01  1.56880512e+01  6.33370972e+00 -4.65311813e+00\n",
      "  4.14260941e+01 -1.07761650e+01  9.16232491e+00  6.41997337e+00\n",
      "  2.65331211e+01  2.36302528e+01  1.21970100e+01 -8.96126938e+00\n",
      " -5.36715746e+00  1.22503338e+01  1.33828859e+01  8.01758671e+00\n",
      "  3.28223190e+01  1.85523281e+01  6.07752514e+00  3.04162254e+01\n",
      "  7.20197773e+00  4.29341221e+00 -7.30068684e+00  2.89050527e-02\n",
      " -6.20445728e+00 -1.72937126e+01 -2.37390156e+01 -3.54158807e+00\n",
      "  8.42800498e-01  3.30669808e+00  3.73657537e+00  2.36541605e+00\n",
      " -6.21736109e-01 -5.33931494e+00  1.33833969e+00  3.11989975e+00\n",
      " -3.01456046e+00 -5.43149757e+00 -1.22927542e+01 -2.19120049e+00\n",
      " -3.69818926e+00 -6.46413660e+00 -3.67741919e+00 -2.55408020e+01\n",
      " -2.11028728e+01 -2.76405926e+01 -1.73808026e+00 -8.76963234e+00\n",
      " -2.99385047e+00 -6.57904530e+00  1.10392916e+00 -5.04001856e+00\n",
      " -1.81342163e+01 -4.51217365e+00  2.87184095e+00 -1.98420200e+01\n",
      " -8.88679600e+00 -3.03410268e+00  2.10564995e+00  2.56783915e+00\n",
      "  1.17754507e+01 -1.75997276e+01 -6.78185177e+00  2.54278898e+00\n",
      " -6.29840183e+00 -9.82241058e+00 -5.85327768e+00 -2.93590569e+00\n",
      " -3.25715351e+00  1.95596623e+00  1.16920865e+00  1.10494969e-02\n",
      " -2.57463169e+01 -2.18481617e+01 -1.19047289e+01 -9.85321701e-01\n",
      " -2.34579353e+01  2.22839281e-01 -7.34949446e+00 -4.49247456e+00\n",
      " -4.45646477e+00  3.69761944e+00  2.75258231e+00 -2.08635139e+00\n",
      "  1.88218069e+00 -1.77814960e+00 -2.01238251e+00  2.65421939e+00\n",
      " -6.36167336e+00 -1.49998064e+01  6.30620861e+00 -1.58443890e+01\n",
      " -6.87188339e+00 -2.87334895e+00  1.13187277e+00 -9.17390156e+00\n",
      " -4.03013563e+00 -1.92930639e+00 -1.92522068e+01 -3.47755265e+00\n",
      " -8.61921406e+00 -1.05933647e+01 -6.92204773e-01 -8.69847679e+00\n",
      " -6.69129229e+00 -5.51102734e+00 -2.11271644e+00 -5.14401865e+00\n",
      "  8.05376649e-01 -2.40785389e+01  1.58905640e+01  3.61607409e+00\n",
      " -2.87537518e+01 -1.32108231e+01 -3.83624554e+00 -9.31121922e+00\n",
      "  5.02610970e+00  2.74950218e+00 -3.17447782e+00  1.03761029e+00\n",
      "  1.46750677e+00 -3.72468114e+00 -2.43835926e+00 -2.12084255e+01\n",
      "  2.01817250e+00 -1.36940753e+00 -4.22542286e+00 -4.24034262e+00\n",
      " -7.68117142e+00  6.68398571e+00  3.23879695e+00 -1.16413832e+01\n",
      "  5.33906364e+00 -6.96213722e+00 -8.40621662e+00 -1.79616718e+01\n",
      " -2.02624607e+01  5.78995705e+00 -4.36107248e-01 -1.06151991e+01\n",
      " -1.99746285e-02 -2.45522529e-01  4.34087372e+00 -3.02244949e+01\n",
      " -9.18933964e+00  1.40789938e+00 -4.62192822e+00 -4.42926675e-01\n",
      " -1.68316250e+01  5.40281677e+00 -5.38847160e+00  4.61611569e-01\n",
      "  3.18045402e+00 -3.22930503e+00  1.91510653e+00 -2.40053821e+00\n",
      " -1.08822036e+00 -2.11676044e+01  6.34325171e+00 -1.29706869e+01\n",
      " -1.09432440e+01 -5.66271830e+00 -2.00064907e+01 -1.63155403e+01\n",
      " -1.48263919e+00 -1.09992018e+01 -4.50559318e-01 -4.50899935e+00\n",
      " -6.96057320e+00 -4.11469173e+00 -2.50456786e+00  4.06696939e+00\n",
      "  3.26596594e+00 -4.70086384e+00 -4.55092669e+00  1.13647985e+01\n",
      "  1.52287979e+01  4.56525803e+00 -1.23764849e+01 -1.85188313e+01\n",
      " -4.83938789e+00 -3.97050810e+00 -2.38054967e+00 -2.64799619e+00\n",
      " -1.22645545e+00  8.10563982e-01 -6.30641460e+00  4.17112732e+00\n",
      " -4.70660305e+00  1.56167393e+01 -2.79136348e+00 -3.61996675e+00\n",
      " -4.69440746e+00 -3.32477880e+00 -3.46405339e+00  3.62396574e+00\n",
      " -9.06083584e+00 -1.12832642e+01 -3.34253199e-02 -3.02031946e+00\n",
      "  4.74918795e+00 -2.13129959e+01 -6.28539753e+00 -3.81529188e+00\n",
      " -1.42418299e+01 -8.33635902e+00  7.20409453e-02 -2.17028275e+01\n",
      "  1.95986998e+00 -1.32307587e+01 -5.72409725e+00 -7.28661823e+00\n",
      " -5.49128532e+00 -4.74652052e+00 -3.25437498e+00 -2.57617912e+01\n",
      "  4.65803194e+00 -2.01773586e+01  6.71134293e-01  1.29732027e+01\n",
      " -6.52016211e+00 -5.86141920e+00  4.22145414e+00  1.83346465e-01\n",
      "  2.73153520e+00 -4.60434723e+00  2.23176885e+00 -4.08867240e-01\n",
      " -7.09480715e+00 -5.47894180e-01 -8.16713715e+00 -2.88455734e+01\n",
      " -2.49131298e+00 -1.17544518e+01  3.60061002e+00 -6.19771957e+00\n",
      " -2.96614666e+01 -1.10815296e+01 -7.74250412e+00 -1.25084991e+01\n",
      " -1.44595499e+01 -8.19887733e+00 -1.96081676e+01 -1.24987974e+01\n",
      "  5.48977137e+00 -3.79186440e+01  6.41879082e-01  1.30117922e+01\n",
      "  3.00150204e+00 -2.45141182e+01 -6.91448784e+00 -6.89060307e+00\n",
      " -3.85975723e+01 -4.03300247e+01 -7.18365383e+00 -4.73105955e+00\n",
      "  3.32473207e+00 -2.82098541e+01 -1.56089249e+01  5.23978567e+00\n",
      "  2.84147787e+00 -4.35347710e+01  3.14949781e-01 -2.05445690e+01\n",
      " -2.55851269e+01 -1.02751236e+01 -3.48651433e+00 -6.79536343e-01\n",
      " -4.54595947e+00 -1.45557470e+01 -1.93532982e+01 -1.33362961e+01\n",
      " -1.55410147e+01  1.56327140e+00 -1.36526566e+01 -6.90107536e+00\n",
      " -2.39803076e+00 -1.33627281e+01 -7.84885526e-01 -3.51545601e+01\n",
      " -1.30411539e+01 -3.80626488e+00 -2.94274063e+01 -1.96798682e+00\n",
      " -1.85297716e+00 -1.66984844e+01 -1.26275396e+01 -7.51837373e-01\n",
      " -4.85732422e+01  7.42151690e+00 -3.88352537e+00 -1.30140810e+01\n",
      "  5.03063345e+00 -1.43085032e+01  5.94341183e+00  9.87396717e+00\n",
      " -1.29063778e+01 -2.38308167e+00 -1.68901682e+00 -3.77139435e+01\n",
      "  7.38327551e+00 -2.65736504e+01 -5.33841848e+00 -4.67368126e+00\n",
      " -2.08269119e+01 -3.59174805e+01 -4.59287567e+01 -3.82013626e+01\n",
      " -5.73838949e-01  1.19620237e+01 -7.46973038e+00 -4.05791903e+00\n",
      " -5.79254198e+00  1.38993645e+00 -1.24348736e+01 -2.76765990e+00\n",
      "  8.57949448e+00 -7.90568161e+00 -2.88770638e+01 -3.46194954e+01\n",
      " -2.58429623e+01 -6.77112865e+00  2.23384523e+00  2.55126238e+00\n",
      " -2.03695469e+01  1.46031904e+00 -2.12805700e+00 -3.00864353e+01\n",
      " -1.90516777e+01  1.03706474e+01 -1.98122902e+01 -8.88064003e+00\n",
      " -1.18644104e+01  9.69530487e+00 -1.98124142e+01 -2.33379116e+01\n",
      "  5.92031777e-01 -2.44160404e+01 -1.42100706e+01 -6.02451324e-01\n",
      " -2.86652374e+01 -2.15142250e+01 -7.67718315e+00  9.27714252e+00\n",
      " -4.21928215e+00  1.71581876e+00 -1.62202110e+01 -1.23192177e+01\n",
      " -4.49732447e+00 -2.49484844e+01  5.38373041e+00 -1.45699234e+01\n",
      " -9.91190338e+00 -1.88425598e+01  7.90211630e+00  3.86935663e+00\n",
      " -3.10569839e+01 -1.66248398e+01 -6.97598028e+00 -8.40339947e+00\n",
      " -2.00388336e+01 -2.41914310e+01 -1.84410439e+01  7.78335238e+00\n",
      " -2.87377625e+01 -2.64580727e+01 -8.02333534e-01 -2.54793215e+00\n",
      " -9.43716812e+00 -8.49978924e+00]' has dtype incompatible with int64, please explicitly cast to a compatible dtype first.\n",
      "  preds[val_index] = model.predict(dval_i)\n"
     ]
    },
    {
     "name": "stderr",
     "output_type": "stream",
     "text": [
      "\r",
      " 50%|███████████████████████████████████████████████████████████████████████████████████████████████████████████████████████████████▌                                                                                                                               | 5/10 [03:18<03:18, 39.71s/it]"
     ]
    },
    {
     "name": "stderr",
     "output_type": "stream",
     "text": [
      "C:\\Users\\81809\\AppData\\Local\\Temp\\ipykernel_9756\\3386215446.py:18: FutureWarning: Setting an item of incompatible dtype is deprecated and will raise an error in a future version of pandas. Value '[-2.88353980e-01  1.46230841e+00  1.67997456e+01  1.69051113e+01\n",
      "  2.53982067e+00 -1.80322611e+00  2.50162983e+01  1.81326342e+00\n",
      "  2.41048470e+01  3.47355247e+00  5.17121983e+00  2.12779484e+01\n",
      "  6.10719395e+00  9.21569943e-01 -9.11548805e+00  5.88225317e+00\n",
      "  1.22665191e+00  2.89720088e-01 -3.99217868e+00 -3.13583064e+00\n",
      "  2.58269334e+00  2.52646694e+01  2.76980305e+01  1.40735064e+01\n",
      "  7.86320114e+00  3.19784713e+00 -2.50136328e+00  7.55295038e+00\n",
      "  4.61489248e+00 -9.95628595e-01 -1.82678843e+00  3.95024133e+00\n",
      "  2.13042045e+00  4.76911879e+00  1.42782583e+01  1.05017328e+00\n",
      "  1.80075035e+01  5.63926554e+00  1.90681458e+00 -2.39852384e-01\n",
      "  8.24307346e+00 -5.26582861e+00 -1.03231773e+01  1.57767820e+01\n",
      "  5.92845583e+00  6.26715660e+00  9.00625527e-01  4.89776993e+00\n",
      " -1.59437275e+00 -2.83084846e+00  8.72762680e+00  1.37373190e+01\n",
      "  3.68234301e+00  1.66072826e+01 -6.27498865e-01  6.39062643e+00\n",
      "  2.35275292e+00  3.47975564e+00  5.78930664e+00  6.43291855e+00\n",
      "  4.65000677e+00 -1.11025858e+00  9.77193546e+00 -8.99233580e-01\n",
      " -1.41585255e+00  1.77635231e+01  7.79560804e+00  1.16719456e+01\n",
      "  3.59562635e+00 -8.08904839e+00  1.14703321e+01  1.07643833e+01\n",
      "  4.68949509e+00  1.30843031e+00  4.16592884e+00  2.42895336e+01\n",
      "  8.89289093e+00  2.40272026e+01 -1.03392255e+00  7.98424768e+00\n",
      "  8.47220707e+00  2.21747115e-01  3.72738242e+00  6.23518229e+00\n",
      "  1.28894901e+01  4.46988106e+00 -2.07660770e+00  4.65146160e+00\n",
      "  1.84195843e+01 -3.48090839e+00 -3.50874400e+00 -2.57919192e+00\n",
      "  2.65614834e+01 -9.65631247e-01  1.93995724e+01  8.11832547e-01\n",
      "  3.64981103e+00  2.20808887e+00  1.65207024e+01 -3.10236979e+00\n",
      "  8.53489494e+00  1.83692436e+01 -4.18890190e+00  1.08587875e+01\n",
      "  1.09324465e+01 -6.88916016e+00 -5.45644760e+00  7.22329044e+00\n",
      " -1.63144875e+01 -1.76987243e+00 -2.86316133e+00  2.90201817e+01\n",
      "  1.69434395e+01  4.46218872e+00  1.03131723e+01  8.85138988e+00\n",
      "  1.87162399e+01  1.36289930e+00  9.56466675e+00  5.38722134e+00\n",
      " -6.37669444e-01  7.21904898e+00 -1.56811631e+00  3.85643172e+00\n",
      "  4.26790667e+00  4.10657978e+00 -6.58107758e-01  2.98343849e+01\n",
      "  1.67259560e+01 -1.25051384e+01 -7.30565023e+00  1.68023148e+01\n",
      " -1.66271985e+00  4.41107798e+00  7.19974577e-01  6.12938786e+00\n",
      " -2.58030152e+00  1.51096210e+01  1.26883526e+01 -7.32196987e-01\n",
      " -5.91445971e+00  1.86422596e+01  1.59380770e+01  2.34439106e+01\n",
      "  3.36958790e+00  1.18749542e+01  5.14755058e+00 -4.29911804e+00\n",
      "  4.97394228e+00  6.25403166e+00 -3.75248122e+00  5.93969870e+00\n",
      "  3.51759577e+00  1.11250365e+00  1.07358530e-01  1.54777937e+01\n",
      " -1.61654778e+01  3.89486742e+00  4.08467865e+00  6.12980509e+00\n",
      "  9.38878059e-01  1.17945690e+01  3.98842645e+00  6.66930962e+00\n",
      "  2.76256204e+00 -2.45982695e+00  1.90060878e+00  3.82757187e-02\n",
      " -1.34782124e+00  5.01979733e+00  5.08279371e+00  9.28042698e+00\n",
      " -4.39499187e+00  5.05067301e+00  1.74211197e+01  5.47443485e+00\n",
      "  1.07562847e+01  7.88846493e+00  2.45166569e+01  2.22136116e+01\n",
      "  2.10291939e+01  2.47259197e+01  1.32019081e+01  4.97901964e+00\n",
      "  2.00315379e-02  5.71894979e+00  5.14774036e+00  3.75637341e+00\n",
      "  4.18594217e+00  9.59654140e+00  3.53051019e+00  9.78227329e+00\n",
      "  2.33604279e+01  7.31513119e+00  2.65620184e+00 -9.20613766e-01\n",
      "  5.34271908e+00  2.97886992e+00 -2.78139329e+00  2.74679923e+00\n",
      " -3.14147830e-01  5.18599367e+00  2.85517616e+01  8.98271847e+00\n",
      "  1.19575148e+01  2.04683990e+01 -1.26159346e+00  1.25246611e+01\n",
      "  1.34346569e+00  7.05190849e+00 -7.10987425e+00 -3.81090808e+00\n",
      "  2.61931076e+01  2.29178562e+01  6.94911480e+00  1.22035217e+01\n",
      "  2.13448882e+00  9.10851097e+00  1.11944828e+01 -1.50140727e+00\n",
      " -5.28698206e+00  5.29546928e+00 -1.55089945e-01  3.87168837e+00\n",
      " -1.27686131e+00 -4.32774591e+00  2.22001576e+00  4.91541862e+00\n",
      "  4.32271630e-01  5.32790124e-01  3.44615517e+01  4.07142305e+00\n",
      " -5.51263475e+00  1.77530556e+01  2.49351978e+01  2.22342377e+01\n",
      "  7.04291677e+00  3.44803543e+01  2.71087856e+01  3.42159233e+01\n",
      "  1.67824497e+01  2.07109585e+01 -5.67363834e+00  6.37606084e-01\n",
      "  1.37593498e+01  8.43268585e+00 -1.53906989e+00  9.49671650e+00\n",
      "  2.47490883e+01  3.65058022e+01  3.33156662e+01  1.12849064e+01\n",
      "  1.55782557e+01  2.43143535e+00  1.32538486e+00  1.61757851e+01\n",
      " -2.61302543e+00  1.58850574e+01  7.87133503e+00 -3.44519925e+00\n",
      "  2.24981976e+01  1.78020401e+01  4.04936981e+01 -1.81183112e+00\n",
      " -3.47316527e+00  4.40174961e+00 -2.80244660e+00 -6.12770653e+00\n",
      "  3.60631204e+00 -8.34845352e+00  1.10966711e+01  2.34058571e+01\n",
      "  2.77110939e+01 -4.08625698e+00  3.12152386e+00  1.40306177e+01\n",
      "  2.40542817e+00  8.59402847e+00  4.37807178e+00  7.34947586e+00\n",
      "  1.11781359e+01  1.32296505e+01  2.25248299e+01  2.01836824e+00\n",
      "  4.18397064e+01 -8.11246097e-01  2.83620620e+00  2.36415529e+00\n",
      "  1.47767076e+01  9.57561779e+00  2.92586637e+00  5.15489674e+00\n",
      "  4.77573891e+01 -2.70142245e+00  1.99277477e+01  3.12893524e+01\n",
      "  1.93349946e+00 -5.19027567e+00  1.23926382e+01  1.94480495e+01\n",
      "  4.44089174e+00  5.52915668e+00  4.45537758e+00  2.75248718e+01\n",
      " -2.00679564e+00  3.78926069e-01 -8.70915699e+00  1.50519037e+01\n",
      "  6.61658049e+00  1.33213854e+00  9.78390789e+00  2.88002033e+01\n",
      "  2.20419598e+00  7.90163755e+00 -8.19452190e+00  2.80317802e+01\n",
      " -8.05029202e+00 -6.54226184e-01  1.56047621e+01  1.34353886e+01\n",
      " -7.16797972e+00  9.26241112e+00  2.97625618e+01  4.03802834e+01\n",
      "  3.05699615e+01  2.49384403e+00  1.61193905e+01  4.04868126e+01\n",
      "  7.73980141e+00  1.65527763e+01 -1.03900194e+00  2.20574532e+01\n",
      "  3.14972949e+00  5.93527031e+00  1.82783329e+00 -1.86480629e+00\n",
      "  2.21884608e+00 -8.82644939e+00 -6.71438599e+00 -8.95365953e-01\n",
      "  3.96495318e+00 -2.97212100e+00  6.34114170e+00  2.20853710e+00\n",
      " -2.17239819e+01 -6.38995314e+00 -2.34191704e+01 -8.20429146e-01\n",
      " -7.91434097e+00 -5.74139690e+00 -4.74321222e+00 -5.37592268e+00\n",
      " -9.72006381e-01  4.07839060e+00 -1.06922836e+01 -1.38163414e+01\n",
      " -2.80886154e+01 -2.05280781e+01 -4.31965208e+00  5.92199421e+00\n",
      " -7.43458939e+00  2.32485151e+00 -9.02765274e+00 -9.95126534e+00\n",
      " -2.21390972e+01 -2.20344067e+01  2.29043794e+00 -5.60925627e+00\n",
      " -2.30705013e+01 -7.80081320e+00 -6.31227016e+00 -7.33990622e+00\n",
      "  1.05820251e+00 -1.53123875e+01 -3.31992173e+00  2.54666162e+00\n",
      "  1.08573818e+01 -3.65388012e+00 -2.24642873e+00 -9.06160259e+00\n",
      " -2.68619037e+00 -1.40999470e+01 -5.63821793e+00 -4.15968084e+00\n",
      " -2.71102214e+00 -5.52471161e+00 -1.11062841e+01 -7.62174082e+00\n",
      " -1.22891884e+01 -1.53790464e+01 -3.85551453e+00  8.18956757e+00\n",
      " -7.31299996e-01 -1.82538071e+01 -1.47920666e+01 -4.23703480e+00\n",
      "  3.37601590e+00 -2.61036472e+01 -1.96447010e+01 -2.01682043e+00\n",
      "  2.73908710e+00  3.82210183e+00 -2.29302559e+01  1.06376493e+00\n",
      " -6.03438437e-01 -9.37588787e+00  1.03976226e+00 -2.39922643e+00\n",
      " -4.76821327e+00  4.43941641e+00 -3.95867944e+00 -2.32548785e+00\n",
      "  1.88197041e+00 -1.59442568e+00  1.87488461e+00 -6.35269928e+00\n",
      " -2.18829966e+00 -1.00842218e+01 -4.16447210e+00 -1.09252656e+00\n",
      "  3.06421375e+00 -3.84034252e+00 -1.02534950e+00 -1.31992662e+00\n",
      " -1.71574938e+00 -1.65684624e+01 -4.24206972e+00 -8.25460815e+00\n",
      " -5.22690248e+00 -4.42837387e-01  1.05211866e+00  2.16149378e+00\n",
      " -1.97340572e+00 -3.03307271e+00 -8.51790714e+00 -6.92692041e-01\n",
      "  6.21605825e+00 -6.79700470e+00  5.66140175e+00 -3.43323445e+00\n",
      " -3.12136784e+01  3.69102979e+00  8.30279648e-01 -8.01612568e+00\n",
      " -2.31886711e+01  7.11604929e+00 -1.19524641e+01 -6.55858397e-01\n",
      "  4.63879156e+00 -3.18361044e+00 -7.18260145e+00  1.82454991e+00\n",
      "  4.34523076e-01 -1.11220655e+01  2.37413788e+00 -1.59543276e+01\n",
      " -1.73459935e+00  2.69440651e+00 -8.27459526e+00  2.94569039e+00\n",
      "  3.32561278e+00 -7.94506609e-01 -2.26028681e+00  5.93458414e+00\n",
      " -1.85997467e+01  1.43996286e+00 -1.04305058e+01 -4.02593851e+00\n",
      " -1.16661291e+01 -2.21744576e+01 -2.43802242e+01 -6.09927034e+00\n",
      " -1.96393418e+00 -4.91009998e+00 -1.70339751e+00 -4.87597990e+00\n",
      "  4.84027100e+00  1.72964120e+00 -5.51455355e+00  1.43126650e+01\n",
      " -1.97600288e+01 -9.95661545e+00 -3.35370708e+00 -9.99172020e+00\n",
      " -1.91087475e+01 -9.44282532e+00 -1.96884918e+01 -1.89794254e+01\n",
      " -9.70313489e-01 -2.94058299e+00 -1.58515406e+00  1.29292512e+00\n",
      "  4.11818075e+00 -2.69367619e+01 -2.46383324e+01 -6.00637388e+00\n",
      "  1.71821270e+01  1.10851326e+01 -2.12236071e+00 -2.03869343e+01\n",
      " -3.02899981e+00 -1.12391815e+01 -7.67514420e+00 -3.39286256e+00\n",
      " -3.03981566e+00 -2.55684114e+00  2.27856398e+00 -2.32448673e+01\n",
      " -1.37396584e+01 -9.55198956e+00  1.76784575e+00  5.74698210e+00\n",
      " -4.61197233e+00 -2.37642574e+00  1.12552691e+00 -7.79576361e-01\n",
      " -1.54659414e+01 -1.68643391e+00 -8.64956951e+00 -4.50024033e+00\n",
      " -1.00291548e+01 -1.83798695e+01  1.79084766e+00  4.80335522e+00\n",
      " -3.81358886e+00  5.56884050e-01  2.33373451e+00 -1.28175914e+00\n",
      "  1.32862911e-01 -9.28551614e-01 -2.75862656e+01 -8.03395462e+00\n",
      " -2.08704205e+01  2.97110653e+00 -2.77390633e+01  2.67807937e+00\n",
      " -1.59171247e+01  7.67823100e-01 -9.94799554e-01 -6.49473476e+00\n",
      " -7.77572250e+00 -8.55585456e-01 -3.60046029e+00 -1.27766905e+01\n",
      "  9.29003048e+00  4.18994570e+00 -3.72781563e+00 -1.03405304e+01\n",
      " -3.34647446e+01 -3.84215403e+00 -3.58864021e+01  1.99518251e+00\n",
      " -3.02585163e+01  3.17977500e+00 -2.14794540e+01 -2.62160397e+01\n",
      " -4.03551483e+00 -7.40331554e+00 -9.82444063e-02 -2.10934743e-01\n",
      "  8.99366570e+00  3.34972882e+00  4.94838297e-01 -9.21718001e-01\n",
      " -4.84745407e+00 -1.06808548e+01 -3.14481640e+01 -2.92781563e+01\n",
      " -1.29191074e+01 -1.96789951e+01 -1.37755527e+01 -7.09743595e+00\n",
      " -2.84180717e+01 -2.76863041e+01 -2.21853657e+01 -2.50109291e+01\n",
      " -4.79025602e+00 -3.01815510e+01 -1.60209999e+01  1.10981903e+01\n",
      "  2.32415414e+00 -2.14374065e+00 -2.93851414e+01 -3.27386782e-02\n",
      " -5.19814432e-01 -8.99832249e+00 -3.98338079e-01 -4.81473351e+00\n",
      " -5.13796663e+00 -2.31773987e+01 -1.90362263e+01  1.23642182e+00\n",
      " -1.49825964e+01 -6.29189825e+00  6.36605930e+00  6.56458092e+00\n",
      " -1.69136982e+01  7.74080038e+00 -3.50754189e+00 -1.44383228e+00\n",
      " -1.29158840e+01 -4.34330940e+01 -1.12513075e+01 -4.91845989e+00\n",
      " -4.16940498e+00 -7.38841295e+00 -2.72283382e+01 -1.50201244e+01\n",
      " -1.95782413e+01 -1.76506484e+00  7.08110809e-01 -7.29150391e+00\n",
      " -2.20958672e+01  7.31006050e+00 -2.63116550e+00 -2.18955994e+00\n",
      " -4.69294281e+01  5.15004587e+00 -8.61453247e+00  6.37967730e+00\n",
      " -3.22370262e+01 -1.69090252e+01 -6.42154551e+00 -1.12842417e+01\n",
      " -1.71879733e+00 -5.45243084e-01 -1.98935652e+00 -9.53234005e+00\n",
      "  2.04522800e+00 -3.78477173e+01 -3.20982513e+01 -1.25372305e+01\n",
      " -3.73585969e-01 -2.83336091e+00 -6.21084309e+00 -1.62247086e+01\n",
      " -1.28266258e+01 -1.44772577e+01 -9.41617680e+00 -8.04962397e-01\n",
      " -3.44178629e+00 -1.28282833e+01 -2.62079179e-01 -4.60455799e+00\n",
      " -2.76126957e+01 -2.02060390e+00 -1.13044147e+01 -1.92119579e+01\n",
      " -3.95465088e+01 -1.32880926e+00 -3.88581276e+00 -3.12982082e+01\n",
      " -4.91814995e+00  9.14029217e+00 -6.22995663e+00  1.84840832e+01\n",
      " -5.19637537e+00 -2.99381485e+01 -1.54786348e+01 -2.16485190e+00\n",
      " -6.30678701e+00 -4.82848740e+00  1.01999618e-01 -3.72774458e+00\n",
      " -3.04711246e+01  6.66619205e+00 -3.65964661e+01 -8.74823189e+00\n",
      " -2.09187489e+01 -5.39772034e+00 -4.16202545e+01 -1.44792967e+01\n",
      " -1.32331514e+00 -1.81114793e+00 -6.26770115e+00 -2.89597359e+01\n",
      " -1.75981486e+00 -6.73742151e+00 -1.16015129e+01  1.93727646e+01\n",
      "  5.80288315e+00 -1.24326496e+01 -2.81508946e+00  1.29121790e+01\n",
      "  2.06874990e+00  1.13615119e+00 -8.13072300e+00 -1.18806219e+01\n",
      " -3.55550308e+01 -1.65107131e+00 -4.21876144e+01 -2.35544739e+01\n",
      " -1.69072139e+00  6.21389771e+00 -1.23791304e+01 -1.05927646e+00\n",
      " -1.93006496e+01  4.73877716e+00]' has dtype incompatible with int64, please explicitly cast to a compatible dtype first.\n",
      "  preds[val_index] = model.predict(dval_i)\n"
     ]
    },
    {
     "name": "stderr",
     "output_type": "stream",
     "text": [
      "\r",
      " 60%|█████████████████████████████████████████████████████████████████████████████████████████████████████████████████████████████████████████████████████████                                                                                                      | 6/10 [03:53<02:31, 38.00s/it]"
     ]
    },
    {
     "name": "stderr",
     "output_type": "stream",
     "text": [
      "C:\\Users\\81809\\AppData\\Local\\Temp\\ipykernel_9756\\3386215446.py:18: FutureWarning: Setting an item of incompatible dtype is deprecated and will raise an error in a future version of pandas. Value '[ 4.75624752e+00  1.22621384e+01 -7.71312714e+00  9.10912037e+00\n",
      "  4.27415800e+00  2.52588100e+01  6.70854282e+00 -3.61126757e+00\n",
      "  1.64068055e+00  6.29910278e+00  5.09658289e+00  3.12237549e+00\n",
      "  2.09699368e+00 -1.08748460e+00  5.48592329e+00  2.45502663e+00\n",
      "  1.65476704e+00  1.90454845e+01  2.31072617e+01 -1.13230438e+01\n",
      "  6.72219419e+00 -1.56549364e-01  3.13892365e+00  4.68653297e+00\n",
      "  2.33264232e+00 -6.73975372e+00  3.57478452e+00  4.13333029e-01\n",
      "  7.88279009e+00  1.44790859e+01 -1.78253484e+00  5.03756094e+00\n",
      "  2.77233505e+01  8.11853027e+00  2.69104233e+01  2.56674957e+00\n",
      "  1.11482992e+01  1.44052658e+01  8.51488686e+00  2.88774061e+00\n",
      "  2.59973669e+00  1.20591211e+01  1.52327704e+00  1.35223699e+00\n",
      " -1.41459632e+00  1.74199164e-01  7.96284389e+00  3.93256760e+00\n",
      "  3.17744422e+00  7.62164116e+00  1.35892308e+00 -1.80653036e+00\n",
      " -4.46186304e+00 -2.21121240e+00  4.30548716e+00 -9.15717185e-01\n",
      "  1.33066196e+01 -2.57596231e+00  3.48870218e-01  9.96368027e+00\n",
      "  2.58681355e+01  2.27693539e+01 -9.84011233e-01  5.50684595e+00\n",
      " -3.58032775e+00  6.81936932e+00  1.99717546e+00  1.85859680e+00\n",
      "  1.43449676e+00 -2.43087411e+00  1.31921072e+01  1.79912071e+01\n",
      " -7.04983139e+00  2.34395981e+00  6.22696400e+00  1.41057062e+00\n",
      "  1.80491600e+01 -4.12833643e+00  1.67905025e+01  1.15926800e+01\n",
      "  8.64430130e-01  8.13351250e+00  1.51513910e+00 -2.89168286e+00\n",
      "  1.78038430e+00 -3.60813236e+00  1.25558071e+01 -5.50728273e+00\n",
      " -1.20634067e+00 -4.72781181e+00  6.20668745e+00  2.67281723e+01\n",
      "  1.42634239e+01 -3.23596865e-01  5.61993122e-01  2.02337284e+01\n",
      "  1.21069756e+01 -1.05599670e+01  1.25123777e+01 -4.07037640e+00\n",
      "  4.58618975e+00  9.93178844e+00 -7.89376211e+00  5.29531193e+00\n",
      "  1.00056772e+01  1.98792204e-01 -3.81281567e+00  6.77167252e-02\n",
      "  5.90955400e+00  1.84530487e+01  1.16262350e+01 -6.16216040e+00\n",
      "  1.98078811e-01  1.42513537e+00  8.95109272e+00 -4.95886183e+00\n",
      "  1.33178627e+00 -5.46243286e+00  8.06779480e+00 -1.56501317e+00\n",
      "  6.37691164e+00  7.99624547e-02  2.67178974e+01 -3.50197506e+00\n",
      " -8.11531639e+00 -1.84625340e+01 -4.83163452e+00 -4.97508574e+00\n",
      "  9.27891254e+00  5.47111094e-01  2.63136744e+00  8.00936413e+00\n",
      "  1.39886503e+01 -2.11919546e+00  5.16100216e+00  5.59225941e+00\n",
      "  2.39471364e+00  5.03949356e+00  1.92080669e+01 -1.86570480e-01\n",
      " -7.37537289e+00  9.88995969e-01  2.48428273e+00  5.53269958e+00\n",
      "  1.26898689e+01  4.81840992e+00  1.11570683e+01  1.74253035e+00\n",
      "  5.37171888e+00  8.06421340e-01  3.00452924e+00 -9.29188788e-01\n",
      "  2.29068089e+01  5.06370366e-01 -3.21997050e-03  1.11699972e+01\n",
      "  1.09927692e+01  2.13208389e+00  5.20158815e+00 -5.90141821e+00\n",
      "  1.02606516e+01  3.71295118e+00  1.04507313e+01  7.92731810e+00\n",
      " -2.47783542e+00  7.36735392e+00  4.73627615e+00  2.00287704e+01\n",
      " -6.74744463e+00  6.11711359e+00  2.88006854e+00 -4.09911346e+00\n",
      "  7.76041865e-01  2.38228989e+00  1.60350227e+01 -1.25229883e+00\n",
      "  1.06395645e+01  4.43314600e+00  3.42674136e+00  7.57167721e+00\n",
      " -4.71384786e-02  8.64200115e+00  2.12334270e+01  1.33888998e+01\n",
      " -5.84324121e+00 -4.39041424e+00  6.50006628e+00 -4.05340290e+00\n",
      "  2.87282610e+00  7.06945610e+00  1.05812712e+01  9.14563656e+00\n",
      "  2.47894096e+01  1.69631786e+01  4.91880846e+00  2.33723278e+01\n",
      "  2.66684556e+00  1.41165190e+01 -1.56570196e-01  3.81606984e+00\n",
      " -3.43976188e+00  2.74002528e+00  7.42116642e+00 -1.41541517e+00\n",
      "  6.47804785e+00  4.77731657e+00  1.14076605e+01  7.13803434e+00\n",
      "  2.01939750e+00  1.96626186e+01  1.62645359e+01  2.64665279e+01\n",
      "  2.83723497e+00 -7.58048058e+00  1.72108288e+01 -2.11739683e+00\n",
      "  1.19364595e+01  1.21496763e+01 -3.12281227e+00  2.33254642e+01\n",
      "  1.31224327e+01  7.64635086e+00  3.17007732e+01  6.57240486e+00\n",
      "  3.09988365e+01  8.57736683e+00  2.50722456e+00  1.38469973e+01\n",
      " -4.76823235e+00  3.03973732e+01 -8.07746601e+00 -6.47785473e+00\n",
      " -1.11085784e+00  1.40705228e+00  1.63369045e+01  1.21420460e+01\n",
      "  1.99428236e+00  1.06008615e+01  6.06867075e-01  1.44267807e+01\n",
      "  1.55951762e+00  7.92115831e+00  2.73703213e+01 -7.30548620e+00\n",
      "  3.23456917e+01 -1.77328720e+01  1.12567501e+01 -2.32772160e+00\n",
      "  8.13087749e+00 -1.26649356e+00  2.59827518e+00  3.34001732e+01\n",
      "  3.75488853e+01 -3.00112557e+00 -5.79563618e+00  9.64218044e+00\n",
      "  8.28699875e+00  4.55943298e+00  3.10131016e+01  6.99961424e+00\n",
      "  1.08864486e+00  1.12130141e+00  2.90953827e+01  3.02049875e+00\n",
      "  6.43119860e+00  2.77948723e+01  1.34916568e+00  2.13971443e+01\n",
      " -5.53185511e+00  2.89221978e+00  1.41222715e+01  7.72510242e+00\n",
      "  2.01734047e+01  1.43815022e+01  2.26716671e+01  2.81461263e+00\n",
      " -8.88093853e+00  6.57415056e+00  5.29693937e+00  3.77057958e+00\n",
      "  5.44964790e-01 -7.98551702e+00  2.53183937e+00  1.09304724e+01\n",
      "  1.10226383e+01  6.69971561e+00  3.49027863e+01  3.49728889e+01\n",
      "  1.27579184e+01 -2.22928357e+00 -2.91608930e-01 -9.73678112e+00\n",
      "  8.80672932e+00  2.44010949e+00  2.94022026e+01 -1.57838178e+00\n",
      "  1.96806164e+01 -1.05659342e+01  1.88854866e+01  2.60900993e+01\n",
      "  3.32046356e+01  1.15828502e+00 -8.55915833e+00  1.69026356e+01\n",
      "  5.23997164e+00  1.36791265e+00  1.58150280e+00  8.39691257e+00\n",
      "  3.87536716e+00 -6.49498415e+00 -4.47423697e+00  4.29253006e+01\n",
      "  7.77606392e+00  2.31754608e+01 -4.96838140e+00  2.62572136e+01\n",
      "  1.51118898e+01  1.16533680e+01  3.57599258e+00 -5.50278902e+00\n",
      "  3.63465309e+01  6.33509350e+00  1.23261595e+01  4.42195892e+00\n",
      "  5.94535160e+00  3.23203278e+01  2.66665955e+01  6.68927655e-02\n",
      "  9.35253048e+00 -9.90398452e-02  9.37687683e+00 -5.60966539e+00\n",
      " -8.11796761e+00 -5.82340527e+00  2.06699848e+00 -2.33148708e+01\n",
      " -8.25552559e+00 -1.09103003e+01  3.88482690e-01 -1.10983477e+01\n",
      "  3.81759548e+00 -1.60123780e-01 -6.35250473e+00 -2.71652699e+00\n",
      " -2.26496124e+01 -1.32745476e+01 -5.87943649e+00 -2.00746822e+01\n",
      " -1.99644203e+01 -1.79128802e+00  4.83726501e-01 -3.79668474e+00\n",
      " -3.45397592e+00 -8.80084693e-01 -5.74614334e+00 -4.16463196e-01\n",
      " -3.79219234e-01 -1.63784428e+01 -3.82801270e+00 -2.59972935e+01\n",
      " -3.68165946e+00  6.63822031e+00 -4.33107233e+00 -1.61830378e+00\n",
      "  5.08730316e+00 -1.35977530e+00 -5.60568428e+00 -3.27303219e+00\n",
      " -2.00655079e+01  1.48511851e+00 -7.68990850e+00 -1.53014421e+00\n",
      " -8.48380566e+00 -1.10143013e+01 -5.57685661e+00  1.70567691e+00\n",
      " -4.56073731e-01 -4.15490961e+00 -7.30245638e+00 -1.31521082e+01\n",
      " -2.34642754e+01 -2.14971924e+00 -7.02425575e+00 -6.39617872e+00\n",
      "  2.17600083e+00  2.16278458e+00  1.83504415e+00 -5.43552113e+00\n",
      " -6.40225935e+00 -1.03831663e+01 -4.09659481e+00 -1.43460493e+01\n",
      " -1.53210487e+01 -1.57775793e+01  6.64159203e+00  1.13398707e+00\n",
      " -4.70281750e-01  3.02485752e+00  1.46663412e-01 -9.47148609e+00\n",
      " -1.31644039e+01 -8.14023685e+00 -3.35690558e-01  1.11045039e+00\n",
      " -9.66575336e+00 -7.56882524e+00 -5.43978024e+00 -7.39863873e-01\n",
      "  5.23727655e-01 -3.17749763e+00 -1.11998549e+01  3.58669829e+00\n",
      " -1.34820824e+01  1.47258139e+01 -1.09307945e+00  2.82355094e+00\n",
      "  4.77081203e+00 -1.24567270e+01 -1.25213547e+01  2.20180273e+00\n",
      " -2.98528504e+00 -1.09607903e-02 -3.75440031e-01 -1.96320591e+01\n",
      "  3.20680046e+00 -2.10415897e+01 -2.58765564e+01  7.69394827e+00\n",
      " -1.21595693e+00 -1.21712046e+01  1.02633727e+00 -5.90669012e+00\n",
      " -1.82349086e+00  2.86675640e-04 -2.99777584e+01 -6.99664068e+00\n",
      " -4.72172403e+00  1.79506264e+01  5.93539000e+00 -1.04303131e+01\n",
      " -1.59200840e+01 -5.40098858e+00  3.50727296e+00 -2.14670873e+00\n",
      " -8.16141415e+00 -1.88863897e+00 -3.92340636e+00 -8.76885033e+00\n",
      " -2.43516159e+00 -1.07106323e+01 -5.98000336e+00 -5.43964291e+00\n",
      "  3.67647862e+00 -1.81006145e+01  3.72987437e+00 -5.18231106e+00\n",
      " -1.65159740e+01 -2.52559805e+00  3.61763120e+00  2.54725552e+00\n",
      "  2.74180198e+00  5.57041883e-01 -1.11300259e+01 -4.90211916e+00\n",
      " -3.73056269e+00 -2.29819355e+01 -8.88832951e+00 -2.42445397e+00\n",
      "  1.14645548e+01  4.73255825e+00 -9.34497261e+00 -5.08072853e+00\n",
      " -8.31024721e-02  9.48184109e+00  1.75911307e+00 -2.11024914e+01\n",
      "  1.18979750e+01  1.69318676e-01  3.28075385e+00 -1.83214321e+01\n",
      " -1.57918572e+00 -1.87025738e+01  1.08438025e+01 -3.29671955e+00\n",
      " -1.10172291e+01  5.19603872e+00 -7.78387499e+00  2.27904963e+00\n",
      " -4.87476873e+00 -4.46881390e+00  5.29668140e+00 -2.37108922e+00\n",
      " -2.91348815e-01 -6.17516184e+00  3.19656777e+00  4.86748934e-01\n",
      " -9.05990982e+00  6.97865629e+00  5.78610849e+00 -1.93342090e+00\n",
      " -3.43377924e+00  1.02464676e+00  2.89524508e+00 -3.37899208e+00\n",
      " -2.59413981e+00 -2.68919635e+00 -2.45914822e+01 -1.47605925e+01\n",
      " -2.02802181e+01 -2.15364857e+01  1.27765834e+00 -5.56582737e+00\n",
      "  4.70082998e+00  7.65229940e+00  1.86748135e+00 -1.33304214e+01\n",
      " -5.02075076e-01  6.45025682e+00 -2.57885361e+01 -3.30016971e+00\n",
      " -5.41951370e+00  4.97277737e+00 -2.50131035e+00 -1.05433416e+01\n",
      " -9.27814102e+00 -2.23127518e+01 -3.75284696e+00  2.33940525e+01\n",
      "  1.04581614e+01 -5.37178946e+00  3.37331963e+00 -1.01938903e+00\n",
      " -2.45861292e+00  4.78968477e+00 -2.61100235e+01 -1.85758293e-01\n",
      "  2.27083111e+00 -1.60453644e+01  9.10435581e+00  1.50305462e+00\n",
      " -2.79768157e+00 -5.76672125e+00 -5.09809971e+00 -4.02058220e+00\n",
      " -1.19488144e+01 -1.97015798e+00  2.82113504e+00  3.23466301e+00\n",
      "  8.79159546e+00  5.37859619e-01  6.28406096e+00 -2.79434252e+00\n",
      " -1.06185789e+01 -2.56422615e+00 -4.51846275e+01 -2.72460213e+01\n",
      " -2.36190567e+01  1.01334083e+00 -1.77943373e+00 -2.54256935e+01\n",
      " -7.93021345e+00 -2.44074059e+01 -1.37189817e+01 -1.48677111e+01\n",
      " -4.33161736e+00 -8.60581017e+00 -8.15657425e+00 -3.88181567e-01\n",
      " -5.58897066e+00 -4.30636263e+00 -3.70084038e+01 -4.92264700e+00\n",
      " -1.74985564e+00 -2.60726280e+01 -1.58728099e+00 -1.35577364e+01\n",
      "  9.03368092e+00 -1.47388868e+01 -9.62566471e+00 -1.54444304e+01\n",
      "  9.42101836e-01 -1.01886940e+01 -2.69077988e+01 -6.08842969e-01\n",
      " -3.07873611e+01 -1.67268884e+00  1.38082685e+01 -7.57141399e+00\n",
      "  9.33498859e-01 -2.55744743e+01 -1.57689409e+01 -5.33817625e+00\n",
      " -1.82969666e+01 -8.50541973e+00 -2.07170010e+00 -6.85149336e+00\n",
      " -1.96361313e+01  6.85529375e+00 -1.55404835e+01 -6.90157843e+00\n",
      " -3.04293561e+00 -2.23275795e+01 -1.83093567e+01 -1.22978716e+01\n",
      " -1.42079229e+01 -3.11582832e+01  1.10086262e+00 -6.41586351e+00\n",
      " -1.82909927e+01 -4.65391731e+00 -1.49585714e+01 -5.56751347e+00\n",
      " -2.29280243e+01  1.07234163e+01 -2.98525124e+01 -1.58968935e+01\n",
      "  2.87822413e+00 -3.19680614e+01 -1.26634340e+01 -2.13541174e+00\n",
      " -2.94868088e+01 -2.82241058e+01  1.05403891e+01  1.37191641e+00\n",
      " -1.32924414e+01 -2.35129857e+00 -2.27647839e+01 -1.22547722e+01\n",
      " -5.90270662e+00 -3.16826916e+00 -1.27691774e+01  9.70025444e+00\n",
      " -2.94381070e+00 -1.83874416e+01 -8.74830151e+00 -4.48647404e+00\n",
      "  1.01828718e+01 -7.23573416e-02 -3.22244072e+01 -2.52896805e+01\n",
      "  6.77677929e-01  8.08924484e+00 -1.25781631e+00 -2.46558833e+00\n",
      "  8.67314243e+00 -5.80026245e+00 -2.12866936e+01 -1.37307758e+01\n",
      "  4.86861992e+00  8.94705486e+00 -8.75782204e+00 -2.05905724e+01\n",
      " -4.76090288e+00 -8.16806889e+00 -9.24703789e+00 -3.25418205e+01\n",
      " -2.97377930e+01 -4.50624037e+00 -2.85446091e+01 -3.55778694e+01\n",
      "  3.47491920e-01  9.02171075e-01 -1.17316055e+01 -2.24072342e+01\n",
      " -2.72700043e+01 -7.43825006e+00  1.32067785e+01 -1.62123013e+00\n",
      "  1.17706404e+01  1.69310415e+00 -2.91263027e+01 -6.57278824e+00\n",
      " -3.86169357e+01 -3.90150414e+01 -5.62751353e-01 -2.21380768e+01\n",
      " -1.92184429e+01 -2.63924122e+01 -1.88098888e+01  4.68752527e+00\n",
      " -7.27679157e+00 -1.68035393e+01 -7.52617407e+00 -3.84779739e+01\n",
      " -2.85640278e+01 -1.14886260e+00 -3.84125023e+01 -6.99455309e+00\n",
      " -4.56371498e+00 -2.12812576e+01  1.63554966e+00  1.25540268e+00\n",
      " -1.16808786e+01 -1.73098361e+00  7.15873051e+00 -1.61602364e+01\n",
      " -8.85801220e+00 -4.73356366e-01]' has dtype incompatible with int64, please explicitly cast to a compatible dtype first.\n",
      "  preds[val_index] = model.predict(dval_i)\n"
     ]
    },
    {
     "name": "stderr",
     "output_type": "stream",
     "text": [
      "\r",
      " 70%|██████████████████████████████████████████████████████████████████████████████████████████████████████████████████████████████████████████████████████████████████████████████████▌                                                                            | 7/10 [04:42<02:04, 41.66s/it]"
     ]
    },
    {
     "name": "stderr",
     "output_type": "stream",
     "text": [
      "C:\\Users\\81809\\AppData\\Local\\Temp\\ipykernel_9756\\3386215446.py:18: FutureWarning: Setting an item of incompatible dtype is deprecated and will raise an error in a future version of pandas. Value '[-5.20513821e+00  8.79171848e+00  3.60082555e+00  2.69879198e+00\n",
      "  1.79857802e+00  5.01639694e-02  9.19823265e+00  2.63147235e+00\n",
      " -5.37997305e-01 -2.07354546e+00  2.25563354e+01  4.79941893e+00\n",
      "  1.17264271e+00  6.12357998e+00  6.13648462e+00 -6.96759605e+00\n",
      " -7.55698442e+00  3.83482480e+00  8.97566700e+00  9.16989148e-01\n",
      "  4.21498194e-02  2.36748958e+00  1.99505119e+01  2.98308716e+01\n",
      "  1.14262981e+01 -4.37061644e+00  1.62363720e+01 -3.42193931e-01\n",
      "  3.64282250e+00  2.40682292e+00 -4.38496447e+00  7.29985952e+00\n",
      "  9.41544342e+00  9.83686829e+00  1.43791533e+00  9.11197376e+00\n",
      "  5.50273323e+00  6.98110771e+00  2.85230875e+00  4.44331551e+00\n",
      " -1.53621167e-01  1.61094341e+01  1.12951689e+01  2.32735748e+01\n",
      "  1.62971056e+00  1.51629248e+01  6.77690172e+00  2.73813558e+00\n",
      " -3.51230597e+00  6.37667418e+00 -1.47493660e+00  3.40779424e+00\n",
      "  7.85073566e+00  1.34391670e+01  2.56006742e+00  8.97161388e+00\n",
      " -3.96237206e+00 -4.24377728e+00  3.08515477e+00 -1.19523275e+00\n",
      "  1.75316167e+00  8.15412903e+00  7.49240494e+00  3.59560561e+00\n",
      "  1.65767269e+01  7.93910599e+00 -7.39519438e-03 -1.84832513e+00\n",
      " -5.76872110e+00  7.86489439e+00  7.68349075e+00  1.02700853e+01\n",
      "  1.60134816e+00  3.94353747e+00  7.91459227e+00  1.24749594e+01\n",
      "  5.01604223e+00  3.35298920e+00 -4.37864876e+00  6.28875637e+00\n",
      " -1.48011780e+00 -3.94538641e-01  1.26663914e+01  3.46732736e+00\n",
      "  2.81888747e+00  1.36433296e+01  9.03206253e+00  7.56206179e+00\n",
      " -9.64839363e+00  4.95038223e+00  4.57393122e+00  9.26004982e+00\n",
      "  3.61393595e+00  4.26668453e+00 -5.44073641e-01  1.06467891e+00\n",
      "  3.27534938e+00  7.65114880e+00 -1.02015524e+01  2.06653442e+01\n",
      "  4.33170700e+00  1.41031086e+00 -6.05100930e-01 -3.53876877e+00\n",
      "  3.65994263e+00  7.31020498e+00 -6.40435171e+00 -4.15166426e+00\n",
      "  1.10574503e+01 -6.69315624e+00 -1.45647788e+00  6.16216183e+00\n",
      " -3.91789645e-01 -5.92205048e+00  4.20601189e-01  7.30328941e+00\n",
      "  5.79441786e+00 -4.35718536e+00  5.85176051e-01  8.35212708e+00\n",
      " -5.67265463e+00  1.71755767e+00 -1.78714454e+00 -4.56146288e+00\n",
      "  6.54234552e+00  1.21546745e+01 -2.46034360e+00  3.38129950e+00\n",
      " -4.29308844e+00  3.04231024e+00  6.50517035e+00  5.63595200e+00\n",
      "  6.61880255e-01  1.60740280e+01  3.00347519e+00 -3.32085133e+00\n",
      " -7.03631938e-01  1.70326006e+00 -3.34882760e+00 -6.58058405e+00\n",
      "  4.53271723e+00  3.30226779e-01  2.02003908e+00 -1.38816130e+00\n",
      " -3.91177750e+00  5.74659538e+00 -3.77642417e+00 -7.18699932e+00\n",
      "  9.75527954e+00  1.60167046e+01  3.53808188e+00  2.19966888e+00\n",
      "  5.94659090e+00  1.11313653e+00  6.96366906e-01  2.14695764e+00\n",
      "  9.86625767e+00  5.19335508e+00  5.53104639e+00 -8.50951385e+00\n",
      "  4.50383997e+00 -5.14762688e+00 -9.46870613e+00 -1.58251181e+01\n",
      "  1.87994366e+01 -3.75136518e+00  2.17659531e+01  1.97846527e+01\n",
      "  2.70038700e+00  4.20426226e+00  8.99790192e+00  1.26982784e+01\n",
      "  7.33579159e+00  1.28948498e+00 -3.45079231e+00  3.56055570e+00\n",
      " -7.94456005e-02 -2.97920537e+00  2.22233829e+01  4.87669611e+00\n",
      "  2.34415555e+00 -5.14835215e+00  1.06955099e+01  2.46483064e+00\n",
      "  4.57188082e+00  5.04275370e+00 -3.56707263e+00  6.15414572e+00\n",
      "  1.07185545e+01  3.61395264e+00  2.33655109e+01 -1.94381809e+00\n",
      "  1.83499317e+01 -4.43708801e+00  4.55955076e+00  3.56927299e+00\n",
      " -1.67952788e+00  1.62995262e+01  2.17165184e+00  1.89826488e+01\n",
      "  4.69390726e+00  2.18942127e+01  1.23231134e+01 -1.89497459e+00\n",
      "  6.75178719e+00  3.52877378e-01  6.36972249e-01 -3.83683801e+00\n",
      "  1.28567915e+01  1.93275795e+01  7.70391750e+00  1.25526733e+01\n",
      "  1.04044628e+01  1.79686279e+01  1.32060361e+00 -2.31428671e+00\n",
      " -5.06093550e+00  1.84878788e+01  4.12823105e+00  7.63899994e+00\n",
      " -7.57748306e-01  2.69596653e+01  2.41354542e+01 -4.32566144e-02\n",
      "  2.25471840e+01  1.47388287e+01 -6.95431042e+00 -3.87676549e+00\n",
      "  3.94929314e+01  1.96657276e+01  2.81762390e+01  2.46555061e+01\n",
      " -9.36093426e+00 -7.56878376e+00  1.80328274e+01  9.96098900e+00\n",
      "  8.70585251e+00 -9.29056931e+00  2.06480145e+00  1.30389299e+01\n",
      "  3.68736763e+01 -5.03251970e-01  9.53146648e+00  1.18217361e+00\n",
      "  3.63747430e+00  8.36974716e+00  1.53898392e+01  2.65122819e+00\n",
      "  4.54887123e+01 -6.93541765e+00  4.78350210e+00 -2.99346261e-02\n",
      "  1.66617239e+00  9.64273167e+00  3.53509789e+01  4.35020924e+00\n",
      "  1.38424387e+01  1.02749100e+01  4.03490639e+00  8.16339588e+00\n",
      "  1.63484020e+01  1.43969498e+01  2.55996776e+00  2.96882381e+01\n",
      "  2.95490112e+01  2.27257538e+01  2.29889545e+01  1.26625004e+01\n",
      "  7.98228836e+00  1.73852787e+01  1.29231148e+01  2.37139297e+00\n",
      "  3.46018333e+01  1.53797162e+00  7.86381531e+00 -9.05654430e+00\n",
      "  3.76961479e+01  7.20699787e+00  2.09676533e+01  2.10943747e+00\n",
      "  8.97013950e+00  8.37595463e+00 -2.45745969e+00  1.44008408e+01\n",
      " -1.41666555e+00  7.65301704e+00 -9.83349609e+00  5.25648689e+00\n",
      "  1.45121021e+01 -2.29189086e+00  8.09483469e-01  3.74433212e+01\n",
      " -1.33581078e+00  2.07927608e+01  3.20923209e+00  2.08812542e+01\n",
      "  1.22852135e+01  2.45256019e+00 -1.04363108e+01 -8.93648052e+00\n",
      " -9.49590492e+00  1.36135006e+01  7.95416307e+00  2.05413647e+01\n",
      " -1.66516408e-01  4.10057974e+00  7.14332438e+00  9.99852276e+00\n",
      "  2.84303436e+01  6.41360474e+00  2.77511382e+00  2.97888966e+01\n",
      "  3.08753109e+00  4.17761993e+01  2.76664257e+01  3.47934031e+00\n",
      "  8.33484650e+00  3.72549400e+01  3.34658670e+00  5.99382305e+00\n",
      "  3.88708534e+01  2.22184048e+01  1.29629374e+01  6.25808525e+00\n",
      "  6.55496073e+00  1.84872723e+01  1.00231600e+01  3.05001717e+01\n",
      "  7.79944611e+00  1.61372433e+01 -3.24901390e+00  2.41520615e+01\n",
      "  2.99421444e+01 -4.57054794e-01 -5.79386652e-01 -2.39876413e+00\n",
      " -6.86909723e+00  2.07677898e+01  1.36261177e+01  8.06446552e+00\n",
      "  1.21732569e+00  9.66305161e+00 -2.08787575e+01 -1.06119146e+01\n",
      " -1.20080156e+01 -8.63772583e+00 -3.50794816e+00 -2.29852486e+01\n",
      " -1.86710720e+01 -8.36495781e+00  4.20868254e+00 -5.41043234e+00\n",
      " -7.25987053e+00 -4.79673576e+00 -2.87528777e+00  1.46952784e+00\n",
      " -7.00081110e-01 -2.14169502e+01 -5.06353045e+00 -7.35267758e-01\n",
      " -6.60646296e+00  7.34097242e+00 -2.01058578e+00  7.67051339e-01\n",
      " -4.40898275e+00  5.34285259e+00 -1.57576907e+00 -1.77423611e+01\n",
      " -3.47486544e+00 -4.54320049e+00 -4.39501524e+00  6.96050072e+00\n",
      " -6.50152254e+00 -4.94403219e+00  1.83262038e+00 -4.95092535e+00\n",
      " -2.30991578e+00  3.27635622e+00 -6.28770649e-01 -7.53256130e+00\n",
      " -9.88194752e+00  6.91396904e+00 -3.70454049e+00 -2.23808613e+01\n",
      " -4.03022385e+00 -2.20876503e+01  1.25022757e+00  2.85417771e+00\n",
      " -9.00788593e+00  3.18913150e+00 -7.67835617e+00 -5.81908894e+00\n",
      " -2.13975596e+00 -1.70414505e+01 -3.89384604e+00  2.49436760e+00\n",
      " -2.27477570e+01 -3.20588517e+00 -9.77990150e+00 -4.62773085e+00\n",
      " -7.62373590e+00 -2.37980723e+00 -7.20917177e+00 -2.26201725e+00\n",
      " -2.17739820e+00  1.32063675e+00 -3.42766333e+00 -3.38169932e+00\n",
      "  2.96528316e+00 -7.83086777e+00 -9.51214314e+00 -1.48577375e+01\n",
      "  1.01574402e+01 -1.15083694e+01 -2.66210407e-01 -5.05992937e+00\n",
      " -1.79831779e+00  3.08025861e+00 -2.42911510e+01  1.33454967e+00\n",
      " -1.90739899e+01  3.03778172e+00 -6.14449644e+00  3.60946321e+00\n",
      " -2.21320133e+01  1.93447042e+00  1.01482141e+00 -7.89280272e+00\n",
      " -8.18994713e+00 -3.21674657e+00 -7.85096884e+00 -1.20354831e+00\n",
      " -4.83957440e-01 -7.21623087e+00 -1.22323837e+01 -3.48276520e+00\n",
      " -1.12189999e+01 -1.04019680e+01  1.50247192e+00  2.13116956e+00\n",
      " -9.62812805e+00 -4.93112206e-02 -7.34376764e+00 -4.00032431e-01\n",
      "  5.78573227e+00  7.47038031e+00 -3.47747827e+00 -1.80609122e-01\n",
      " -2.13679385e+00  2.57422853e+00 -2.15119801e+01 -4.30933905e+00\n",
      " -1.80867064e+00  1.66447270e+00 -6.97318697e+00 -2.26255798e+00\n",
      " -1.35375748e+01  5.70667839e+00  4.30584526e+00  3.94202209e+00\n",
      "  6.25899935e+00 -4.29897118e+00 -5.67028999e+00  2.71420002e+00\n",
      " -1.00483389e+01 -6.71032238e+00 -6.40315485e+00 -4.53437805e+00\n",
      " -8.99982166e+00 -2.21671200e+01  5.01835442e+00  1.62003353e-01\n",
      " -6.46972799e+00  4.06303501e+00  2.28754234e+00 -5.39426565e+00\n",
      "  5.35160899e-01 -5.03323615e-01 -4.14177036e+00 -2.65734863e+00\n",
      "  3.89316964e+00 -8.15184402e+00 -9.67286110e+00 -1.10132217e+01\n",
      "  1.83082306e+00 -2.36055298e+01  6.24074697e+00 -5.22724867e+00\n",
      "  9.52091813e-01  4.86015701e+00 -7.29870379e-01 -1.18975410e+01\n",
      " -4.82242966e+00 -3.67770553e+00 -5.35711336e+00 -1.73396473e+01\n",
      " -1.25021944e+01 -2.28700848e+01 -1.03584919e+01 -4.84006500e+00\n",
      "  2.68079090e+00  6.27307987e+00 -1.17345309e+00  3.53791642e+00\n",
      " -2.15764832e+00  5.39608657e-01  7.17462480e-01 -3.96053338e+00\n",
      " -1.41399300e+00  1.01734753e+01  1.30620599e-01 -5.76251686e-01\n",
      " -2.00160027e+01 -4.76521015e+00 -2.22113037e+00 -9.23740196e+00\n",
      " -8.15273583e-01 -2.08567214e+00 -5.60907316e+00 -5.08923149e+00\n",
      " -5.31546533e-01 -1.08974104e+01  2.45312858e+00  3.09427023e+00\n",
      " -5.10986185e+00 -2.16292381e+01 -4.88731575e+00  4.44561779e-01\n",
      " -5.99185801e+00 -1.11167965e+01 -1.61950886e+00 -3.85055828e+00\n",
      " -4.58049250e+00  3.17138481e+00 -3.24857521e+00  6.13689363e-01\n",
      " -3.82931441e-01 -6.23112774e+00 -2.52868843e+00 -4.04199600e+00\n",
      " -8.53582764e+00 -1.96559448e+01 -2.12351723e+01 -3.66830587e+00\n",
      " -1.05331647e+00 -7.59850979e-01  4.45766735e+00 -5.45839310e+00\n",
      "  2.79719543e+00  6.72865582e+00 -1.08380699e+00 -3.08141446e+00\n",
      "  1.28601580e+01  4.13337708e+00 -5.01673889e+00  1.51718748e+00\n",
      " -7.25218391e+00 -1.23435652e+00  6.54451549e-01 -1.32554846e+01\n",
      "  2.12115407e+00 -2.18470783e+01 -7.46527672e+00 -1.37290573e+01\n",
      "  6.06867981e+00 -1.11932838e+00  9.81372070e+00 -2.77086496e+00\n",
      " -8.58742619e+00 -1.70900369e+00 -3.28022881e+01 -9.27107906e+00\n",
      " -5.93885469e+00 -2.59024441e-01 -2.61715565e+01 -2.58056202e+01\n",
      " -1.35432281e+01 -6.91020966e-01 -2.14838076e+00 -6.90178156e+00\n",
      "  2.50173163e+00 -3.59441590e+00 -1.16974230e+01 -2.68981571e+01\n",
      " -2.33723450e+01  5.68078995e+00 -1.21971979e+01 -1.36233406e+01\n",
      " -8.44676971e+00 -7.86570358e+00  3.95539117e+00  1.09987049e+01\n",
      " -1.60314751e+00 -2.03005714e+01 -4.17841196e-01  5.91365194e+00\n",
      " -3.34177017e+01 -5.20599508e+00 -1.94225803e-01 -2.28067760e+01\n",
      " -1.94094734e+01 -1.36446829e+01 -5.24661064e+00  4.93814039e+00\n",
      " -6.96197808e-01 -1.19024734e+01 -1.72089901e+01 -2.94876003e+01\n",
      " -5.99771619e-01 -1.45207682e+01 -4.44099712e+00 -4.21023655e+00\n",
      "  3.90117526e+00  6.57525587e+00 -3.89957666e-01 -7.01201248e+00\n",
      "  3.99960184e+00 -1.24574881e+01 -3.35505676e+01 -2.74704914e+01\n",
      " -1.19503152e+00 -1.83193054e+01 -7.74591255e+00 -8.48578548e+00\n",
      " -6.39857626e+00  6.32870865e+00 -5.76688433e+00 -1.27980061e+01\n",
      " -1.01924038e+01 -2.03134036e+00 -2.47426395e+01 -4.97555941e-01\n",
      " -5.69543505e+00  8.08680439e+00 -3.94104481e+00 -1.90525780e+01\n",
      " -2.74800241e-01 -7.91445255e+00  4.41777468e-01 -2.15882874e+01\n",
      "  2.37252450e+00 -6.19911003e+00 -6.69387388e+00 -8.50716782e+00\n",
      " -4.00688934e+00 -1.30259581e+01 -9.52803040e+00 -9.82323933e+00\n",
      " -2.40823793e+00 -1.05771494e+01 -3.19981918e+01  4.71163988e+00\n",
      " -2.66929188e+01 -2.66920414e+01 -1.16587801e+01 -1.81970844e+01\n",
      " -3.50842361e+01 -2.13039923e+00 -1.06838408e+01  8.59916306e+00\n",
      " -5.41522503e+00 -1.25294151e+01  1.15708208e+00 -7.46448517e+00\n",
      " -2.54174385e+01 -6.47549391e+00 -3.89092636e+01  1.42124546e+00\n",
      " -3.63543549e+01  9.41707075e-01 -1.45231543e+01 -2.23776684e+01\n",
      "  3.35993841e-02 -1.88106976e+01  8.89423084e+00 -1.01053925e+01\n",
      " -2.66067052e+00  1.03405657e+01  3.97441655e-01 -1.51603308e+01\n",
      "  1.45679128e+00 -2.01459217e+01 -1.45973396e+00 -2.16042404e+01\n",
      " -2.91731644e+00 -1.28981962e+01  1.20933657e+01 -4.86191320e+00\n",
      " -3.53577662e+00 -1.07480841e+01 -2.23372364e+00 -8.61539078e+00\n",
      " -1.89147739e+01 -3.01670980e+00 -2.18916054e+01 -2.02210312e+01\n",
      " -1.10195465e+01 -6.26789689e-01]' has dtype incompatible with int64, please explicitly cast to a compatible dtype first.\n",
      "  preds[val_index] = model.predict(dval_i)\n"
     ]
    },
    {
     "name": "stderr",
     "output_type": "stream",
     "text": [
      "\r",
      " 80%|████████████████████████████████████████████████████████████████████████████████████████████████████████████████████████████████████████████████████████████████████████████████████████████████████████████                                                   | 8/10 [05:15<01:17, 38.98s/it]"
     ]
    },
    {
     "name": "stderr",
     "output_type": "stream",
     "text": [
      "C:\\Users\\81809\\AppData\\Local\\Temp\\ipykernel_9756\\3386215446.py:18: FutureWarning: Setting an item of incompatible dtype is deprecated and will raise an error in a future version of pandas. Value '[-1.13439727e+00 -7.32917404e+00  8.12090111e+00  1.43588269e+00\n",
      "  7.14391994e+00  4.81679249e+00  6.20555973e+00  6.73088312e+00\n",
      " -3.85661387e+00 -3.12025476e+00 -2.22413111e+00  3.75371647e+00\n",
      "  1.30863965e-01  2.06917305e+01  2.51417041e+00  1.09975700e+01\n",
      "  4.10700226e+00  2.19944038e+01  2.83691621e+00  2.73572946e+00\n",
      "  5.19523382e+00  2.70558882e+00  1.76072285e-01  1.12378082e+01\n",
      " -1.66280758e+00  1.22224693e+01  5.84533691e+00  2.17906189e+00\n",
      "  2.59399357e+01  4.10279083e+00 -7.59862995e+00  1.49416456e+01\n",
      " -7.77472782e+00  4.56843424e+00  1.89012551e+00  7.34814942e-01\n",
      " -5.29906273e+00 -2.05319214e+00  1.44624197e+00  1.30542517e+00\n",
      "  6.82446718e+00  2.02243919e+01  2.17894115e+01  8.36550903e+00\n",
      " -1.66208386e+00 -3.45334673e+00 -1.11820102e+00  5.47547531e+00\n",
      "  4.97119904e+00 -5.99277914e-01  1.85480034e+00  1.72181816e+01\n",
      "  4.84593391e+00  1.03792620e+01  2.23045578e+01  8.74043083e+00\n",
      "  2.93639636e+00  1.22801924e+00  3.35895157e+00 -9.45550129e-02\n",
      "  4.70031977e+00  8.41254616e+00  1.24516029e+01  1.47347031e+01\n",
      "  2.55204601e+01  8.16613674e+00  1.31165564e+00  1.72488821e+00\n",
      "  8.68373680e+00  1.97422791e+00  2.89123440e+00  2.31795216e+01\n",
      "  6.80012608e+00  1.11791782e+01  2.53100348e+00 -1.62411295e-02\n",
      "  9.62272167e+00  1.23416586e+01  7.00712061e+00  4.29957628e+00\n",
      " -3.07946699e-03  5.84762526e+00  2.19428992e+00 -3.29765844e+00\n",
      "  4.66844702e+00  2.25063496e+01  1.80183735e+01 -2.78057313e+00\n",
      "  1.59694386e+01  8.56067538e-02  4.20100498e+00 -5.84828615e+00\n",
      " -3.57590008e+00 -4.46957159e+00 -7.68385696e+00  4.32270050e+00\n",
      " -1.79110396e+00  4.14131284e-01  1.81068933e+00 -1.19617996e+01\n",
      "  2.63683009e+00 -2.51699543e+00  7.07667992e-02 -4.68555880e+00\n",
      "  1.34893541e+01  1.27122850e+01  5.19952917e+00  1.36803675e+00\n",
      "  5.58231306e+00 -3.72479296e+00  9.73106670e+00 -1.12111511e+01\n",
      " -1.32571352e+00  1.42173350e+00  7.57808352e+00 -4.01950455e+00\n",
      "  4.03081369e+00 -9.60768414e+00  8.72070026e+00  4.53395307e-01\n",
      "  1.08493723e-01  7.97158003e+00  9.76690483e+00 -3.11503744e+00\n",
      "  1.12693272e+01  5.83614159e+00  5.05407763e+00 -7.90922832e+00\n",
      "  1.41329279e+01 -3.70969439e+00  1.02791986e+01  4.75136709e+00\n",
      "  7.05050802e+00  5.43726206e-01 -5.47980130e-01  1.41120939e+01\n",
      "  1.15567169e+01  3.37995887e+00 -6.39816713e+00  1.13039274e+01\n",
      "  1.71542187e+01  2.21080742e+01  4.62229919e+00  9.53849792e+00\n",
      "  1.32192981e+00  2.15395050e+01  5.40139151e+00 -5.25956035e-01\n",
      "  4.22467518e+00  3.73588324e+00  1.27447958e+01 -2.00314403e+00\n",
      " -5.73699236e-01  2.30380487e+00 -1.08039312e+01 -4.09094906e+00\n",
      "  1.21237688e+01  4.74889088e+00  9.78024673e+00  1.84263954e+01\n",
      "  2.52375036e-01  2.56159663e-01 -1.68126249e+00  6.09662390e+00\n",
      " -2.83084106e+00  1.29869306e+00  2.40532780e+00 -9.68999445e-01\n",
      "  5.24657536e+00  1.97305870e+01  5.05959606e+00  1.32017117e+01\n",
      " -7.12448549e+00  2.06952972e+01 -1.20404415e+01  1.68001347e+01\n",
      " -1.28920007e+00  6.97442055e+00  5.64336824e+00  3.57624435e+00\n",
      "  1.03176761e+00  8.03944778e+00 -6.43056154e+00  2.12515392e+01\n",
      "  6.16893578e+00  8.08393383e+00  1.36220007e+01  1.85944614e+01\n",
      "  2.33631115e+01 -2.13410354e+00  4.00537205e+00  4.45757580e+00\n",
      " -3.80817342e+00  4.00767136e+00 -8.72716546e-01  7.31967783e+00\n",
      "  7.45304918e+00  2.13448181e+01  1.71387806e+01  1.36732709e+00\n",
      " -1.21925917e+01  1.76555367e+01  5.37011814e+00  5.64166832e+00\n",
      " -1.95985839e-01 -6.56137562e+00 -1.98939800e+00  1.94536901e+00\n",
      "  9.49302292e+00  3.95862913e+00  2.64841862e+01 -2.50835896e+00\n",
      "  2.39261246e+01  1.26703320e+01  5.14753294e+00  1.97955918e+00\n",
      " -2.01024270e+00 -2.16291070e+00  1.86921425e+01 -1.56942582e+00\n",
      "  2.82923913e+00 -2.52933323e-01  2.19467602e+01  3.86358795e+01\n",
      "  1.64270267e+01 -1.19129028e+01  1.52235146e+01  3.59914398e+01\n",
      "  2.79753838e+01  3.37707138e+00  6.25763845e+00  2.79943390e+01\n",
      "  6.19850874e+00  2.04840775e+01  4.95180130e+00  3.02552509e+01\n",
      "  5.89319658e+00  2.05869884e+01 -6.01412821e+00 -5.01305246e+00\n",
      " -2.64719963e-01  2.22135377e+00  2.11409187e+01  3.49009438e+01\n",
      "  1.03859987e+01 -2.69358516e+00  1.18668330e+00  1.55004368e+01\n",
      "  2.57988300e+01  1.51863468e+00  1.34350939e+01 -1.19273388e+00\n",
      " -6.12309599e+00  1.58977098e+01  1.93583167e+00  5.41336441e+00\n",
      "  5.49630821e-01  2.31538067e+01  1.87673550e+01 -2.06367183e+00\n",
      "  6.18590546e+00  1.46760187e+01 -3.75758052e+00  2.75942650e+01\n",
      "  1.43601952e+01 -2.50962105e+01  3.19653339e+01  1.48224831e+00\n",
      "  2.39035869e+00  2.53555250e+00 -9.95031738e+00  8.72298050e+00\n",
      "  1.45652695e+01  2.06916285e+00 -1.93975425e+00  8.93447781e+00\n",
      "  1.06245680e+01  3.39680367e+01  9.16531372e+00  2.91819310e+00\n",
      "  1.15629387e+01  1.29451866e+01  3.81303144e+00  4.01996613e+01\n",
      "  5.59250784e+00  3.35716934e+01  1.46892834e+01  8.77754509e-01\n",
      "  2.02438164e+01  1.52352610e+01  9.51262951e-01  6.44342232e+00\n",
      "  3.05276489e+01  6.13911271e-01  3.27338266e+00  5.22707129e+00\n",
      "  1.83317432e+01  9.16173935e+00 -4.50636089e-01  3.20146322e+00\n",
      "  8.16514492e+00  3.84276390e+01  3.24719429e+01  1.56778870e+01\n",
      "  1.61938953e+00  1.87141633e+00  3.30445766e+00 -8.36670303e+00\n",
      " -1.13034210e+01  1.87076321e+01  2.11065083e+01  2.62257652e+01\n",
      "  4.18443718e+01  1.53591239e+00  4.05761623e+00  4.80058575e+00\n",
      "  2.30993481e+01  2.15172729e+01  6.06857967e+00  1.49395943e+01\n",
      "  3.05083728e+00 -7.09337473e+00 -4.90516216e-01  1.96011806e+00\n",
      "  2.70443802e+01 -5.46533823e+00  2.99007559e+00  4.11731453e+01\n",
      " -8.93919563e+00  2.81423359e+01 -4.24048567e+00  2.09211087e+00\n",
      " -8.02736664e+00  4.70790768e+00  8.35903835e+00  1.51994619e+01\n",
      "  9.87227821e+00  1.90507984e+01 -6.00795555e+00  4.44447565e+00\n",
      "  3.16300335e+01  8.80589485e+00  2.17532873e+00  1.97936058e+01\n",
      " -2.45322776e+00  4.34961510e+01  6.38156366e+00  5.68177462e+00\n",
      "  2.45492496e+01  1.68878212e+01  2.70761561e+00 -1.39069533e+00\n",
      "  3.00763588e+01  6.13613844e+00  7.19639206e+00  1.28376684e+01\n",
      "  7.01513350e-01  2.33674335e+01  2.01281376e+01  2.09432435e+00\n",
      "  1.79474401e+00 -1.13738422e+01  8.38699627e+00 -2.27986336e+01\n",
      " -7.99511194e+00 -6.69342232e+00  3.58589959e+00 -6.51979446e+00\n",
      "  3.75328445e+00 -6.44764996e+00  1.82000303e+00 -1.26093807e+01\n",
      " -6.71878195e+00 -4.15544081e+00 -5.86453581e+00 -7.73355198e+00\n",
      " -4.56526136e+00 -3.14321017e+00 -4.64201307e+00  4.47669601e+00\n",
      " -4.83488846e+00 -3.48285770e+00  9.08402145e-01 -1.84428167e+00\n",
      " -3.83440852e+00 -1.52173777e+01  3.23201227e+00 -2.12747536e+01\n",
      " -2.73710251e+01 -3.52747703e+00  7.93594360e-01  2.06226563e+00\n",
      " -4.87650728e+00 -1.01806259e+00 -2.08503494e+01 -9.96854973e+00\n",
      " -5.08590031e+00 -5.58821154e+00 -8.04097176e+00 -2.15822172e+00\n",
      " -6.14708138e+00  4.46313190e+00 -7.89851379e+00 -7.39810753e+00\n",
      "  3.23225164e+00 -1.35183210e+01 -1.10810680e+01 -2.36600628e+01\n",
      " -5.99656725e+00 -4.38051033e+00 -6.95278692e+00 -3.12105250e+00\n",
      "  5.22027111e+00  9.63481903e-01 -2.35866213e+00 -8.18904102e-01\n",
      " -6.44713736e+00 -8.67017365e+00 -7.16614103e+00 -1.33865614e+01\n",
      "  8.10432673e-01 -1.01333141e+01  2.61079168e+00 -1.22588997e+01\n",
      " -3.33677721e+00  7.86484957e-01 -1.39973383e+01 -2.49369287e+00\n",
      " -3.68286061e+00 -1.39013443e+01  1.07954073e+00 -2.35402203e+01\n",
      " -2.67188129e+01 -6.75816774e-01 -6.69576883e+00  5.25664759e+00\n",
      " -1.66804771e+01  2.44388771e+00 -1.07222557e+01 -6.68660831e+00\n",
      " -5.68753576e+00 -4.33099699e+00 -1.27685642e+01 -2.66330814e+00\n",
      " -1.44963491e+00  2.30962420e+00 -2.69160690e+01 -2.32091999e+01\n",
      " -1.48859253e+01  3.73424077e+00  1.80715096e+00  2.10366082e+00\n",
      " -2.81307030e+00  6.93526506e+00 -1.04375196e+00 -1.92033303e+00\n",
      " -4.92666483e+00  7.13678241e-01  6.19229913e-01 -2.17478619e+01\n",
      " -2.05178809e+00 -2.25132198e+01 -2.64639549e+01  2.67189074e+00\n",
      " -2.52132082e+00 -1.03926353e+01  5.19602489e+00  1.42116938e+01\n",
      " -5.35021019e+00  2.42145562e+00 -2.05003425e-01  5.39787471e-01\n",
      "  1.31908882e+00 -3.19221096e+01 -3.80212641e+00 -8.37532902e+00\n",
      " -4.73126888e+00 -8.77852345e+00 -1.78430996e+01  2.33120108e+00\n",
      "  6.68961823e-01 -2.41008735e+00 -1.33664131e+01 -5.13922358e+00\n",
      "  3.80580759e+00 -9.78286076e+00 -6.77734137e+00 -4.49793243e+00\n",
      " -3.24661751e+01 -1.87146211e+00 -1.23370018e+01  2.90550852e+00\n",
      "  2.93772030e+00 -4.94661450e-01  4.36843204e+00  5.10460019e-01\n",
      "  1.41638541e+00 -4.94112444e+00 -2.49375496e+01 -4.78050041e+00\n",
      " -2.22548127e+00  1.37572312e+00 -4.41272736e+00 -3.77636337e+00\n",
      " -4.06443071e+00 -2.63399094e-01  8.37385356e-01  2.92246771e+00\n",
      " -4.65564537e+00 -8.61765921e-01 -8.13625050e+00  1.09367208e+01\n",
      " -8.46991158e+00  9.49877441e-01  4.32221603e+00 -2.38259716e+01\n",
      " -1.95259228e+01 -2.62360573e+00 -1.11513653e+01 -1.11531413e+00\n",
      " -8.36676979e+00 -6.31432962e+00  1.06485682e+01  1.11312449e+00\n",
      " -3.49991345e+00 -4.15648127e+00 -1.35863533e+01  1.07471228e+00\n",
      " -2.77313995e+00 -5.88788414e+00 -5.20119190e+00 -1.22355558e-01\n",
      " -3.80796283e-01  6.93927109e-02  2.72067094e+00 -3.49587250e+00\n",
      " -2.61514626e+01 -1.51586330e+00 -6.35287285e+00 -3.71718502e+00\n",
      "  1.43879366e+00 -2.09961727e-01  2.54528713e+00  6.49214363e+00\n",
      "  4.36705875e+00 -2.33936920e+01 -8.27355289e+00 -9.55346489e+00\n",
      " -5.50067186e+00 -2.89138794e+00 -2.13567901e+00 -2.51677728e+00\n",
      " -6.71776867e+00 -2.03415451e+01  5.91149569e+00 -2.33720760e+01\n",
      " -4.62840986e+00  6.61706114e+00 -4.37421131e+00 -5.79715109e+00\n",
      " -3.81639671e+00 -1.36166687e+01  1.17257285e+00 -3.76082033e-01\n",
      " -9.90890312e+00 -4.74973345e+00 -1.14073219e+01  2.72196144e-01\n",
      " -1.64919147e+01  8.75239313e-01 -6.45916319e+00 -1.20823202e+01\n",
      " -1.23943195e+01 -1.64217377e+01 -1.26508780e+01 -1.11858397e+01\n",
      "  4.49013519e+00  2.23583505e-02 -1.25869570e+01 -8.62070441e-01\n",
      "  2.42796332e-01  1.35705733e+00  5.17082930e+00  1.55011725e+00\n",
      "  1.85833812e+00 -2.23418083e+01 -1.22274828e+01 -4.21391106e+01\n",
      " -1.51038895e+01  1.72403753e+00 -1.45849419e+01 -2.03486900e+01\n",
      " -2.92463799e+01 -9.62443733e+00 -3.86918736e+00 -3.01603165e+01\n",
      "  8.83269691e+00 -5.71111679e+00 -1.27307453e+01  3.75924289e-01\n",
      " -1.92909098e+00 -3.58310747e+00 -4.43689804e+01 -2.61525707e+01\n",
      " -1.78071213e+01  1.63515925e+00 -2.59991676e-01 -1.00353775e+01\n",
      " -1.23379076e+00 -8.04910064e-02 -2.39439774e+01  1.96156347e+00\n",
      " -2.04492970e+01 -3.76037335e+00 -4.79700012e+01  6.02598763e+00\n",
      " -2.07129211e+01 -3.73022842e+01 -2.54257545e+01 -7.58897257e+00\n",
      " -1.08519754e+01 -1.74827118e+01  2.35176620e+01 -8.97299230e-01\n",
      " -9.55148315e+00  4.58999014e+00 -1.78419292e+00 -3.68411708e+00\n",
      " -2.27366409e+01 -9.15557384e+00 -3.16200886e+01  1.57272732e+00\n",
      " -3.41757050e+01 -1.18578892e+01 -4.46609306e+00 -1.48089962e+01\n",
      " -7.97988319e+00 -9.96312237e+00 -2.14985008e+01 -6.22219372e+00\n",
      " -4.33863997e-01  9.53573585e-01  3.37732852e-01 -3.56636786e+00\n",
      " -4.85540533e+00 -1.02838826e+00 -1.54033794e+01 -1.24499292e+01\n",
      " -1.06265507e+01 -4.97833300e+00 -5.74348688e+00 -1.09204998e+01\n",
      "  1.29008901e+00 -1.40074861e+00 -3.47093582e+01 -1.18568726e+01\n",
      "  1.10615950e+01 -5.88093615e+00  4.81945181e+00  7.69479370e+00\n",
      " -3.30400765e-01 -5.81042051e+00 -2.14543285e+01 -2.80991783e+01\n",
      " -4.26553011e+00 -1.52454271e+01 -2.15867767e+01 -3.28037453e+01\n",
      "  9.82937050e+00 -7.66930771e+00 -9.09346294e+00  2.57904243e+01\n",
      "  7.34711981e+00 -4.32620239e+01 -2.66600933e+01 -8.31121540e+00\n",
      " -2.84491920e+01 -9.40364170e+00 -3.67475009e+00  8.25033188e+00\n",
      " -1.15169764e+01  1.93349609e+01 -2.78576813e+01 -1.03291512e+01\n",
      " -1.41904221e+01 -5.29544449e+00  8.44229877e-01 -1.09854784e+01\n",
      " -1.37916338e+00 -4.20431252e+01 -7.93982840e+00 -2.44198151e+01\n",
      " -6.41569901e+00 -1.62099400e+01  1.07201653e+01 -8.65050793e-01\n",
      " -2.83654861e+01 -7.84188461e+00]' has dtype incompatible with int64, please explicitly cast to a compatible dtype first.\n",
      "  preds[val_index] = model.predict(dval_i)\n"
     ]
    },
    {
     "name": "stderr",
     "output_type": "stream",
     "text": [
      "\r",
      " 90%|█████████████████████████████████████████████████████████████████████████████████████████████████████████████████████████████████████████████████████████████████████████████████████████████████████████████████████████████████████▌                         | 9/10 [05:58<00:40, 40.27s/it]"
     ]
    },
    {
     "name": "stderr",
     "output_type": "stream",
     "text": [
      "C:\\Users\\81809\\AppData\\Local\\Temp\\ipykernel_9756\\3386215446.py:18: FutureWarning: Setting an item of incompatible dtype is deprecated and will raise an error in a future version of pandas. Value '[ 3.18807554e+00  1.56527815e+01 -4.37993050e+00  1.39172010e+01\n",
      "  2.18223419e+01  1.04843950e+00  4.19406843e+00 -5.73459053e+00\n",
      "  2.99959517e+00 -7.71408081e+00 -1.33938980e+00  1.85023003e+01\n",
      "  2.56291771e+01  3.56973290e-01  1.30185449e+00  8.75274777e-01\n",
      "  1.97259474e+00  8.22971535e+00  1.96854007e+00  1.20328999e+00\n",
      "  2.09055257e+00  2.84457779e+00  2.48405457e+00  4.24919462e+00\n",
      "  3.19707870e+00  5.59683204e-01  7.45523214e+00 -3.50077152e+00\n",
      "  9.69267178e+00 -1.62216401e+00 -3.19903302e+00  4.83962440e+00\n",
      " -1.57360345e-01  2.66118793e+01  1.48274717e+01  6.87978342e-02\n",
      "  8.19632053e-01 -2.04475355e+00 -3.40415835e+00  7.20344114e+00\n",
      "  8.87449169e+00 -7.19202638e-01  2.18212152e+00 -4.50319290e+00\n",
      "  8.15396547e-01 -9.34156799e+00  3.72808695e+00  1.79885960e+01\n",
      "  7.10513830e+00 -7.33603430e+00  6.97146940e+00 -3.64687610e+00\n",
      "  6.42132759e+00 -2.25891098e-01 -6.16366386e-01  2.51954174e+00\n",
      " -3.72229767e+00  1.00362320e+01  2.41119881e+01  1.49365082e+01\n",
      "  7.23610210e+00  1.86874843e+00  3.70574951e+00  1.64059620e+01\n",
      "  3.62462234e+00 -1.48799443e+00  2.68028569e+00  5.09595013e+00\n",
      "  5.86991405e+00  1.93311386e+01  5.68266153e+00  1.48118162e+00\n",
      "  8.40199566e+00  4.22889328e+00 -4.84806240e-01  6.03250170e+00\n",
      "  2.45141048e+01  8.72549534e-01 -3.29594922e+00  2.24266744e+00\n",
      "  3.13507771e+00 -2.18211007e+00  7.89346361e+00  2.36089373e+00\n",
      "  1.94094241e+00  1.10501747e+01  2.67143192e+01  7.88281584e+00\n",
      "  1.21771669e+01 -1.06582947e+01 -5.49421883e+00  2.74278402e+00\n",
      "  2.15279541e+01 -3.06636739e+00  3.87264585e+00  5.56445885e+00\n",
      "  1.26733456e+01  3.14033896e-01  4.63583183e+00 -5.30256510e+00\n",
      "  2.30737400e+00  1.31728277e+01 -9.75465202e+00 -6.46836519e+00\n",
      "  1.03291454e+01  8.18694305e+00  1.43849647e+00  2.83521557e+00\n",
      " -2.71872926e+00  4.16929865e+00 -6.99726224e-01 -9.42024827e-01\n",
      "  2.04582291e+01  1.49749060e+01  1.83739815e+01  5.15140390e+00\n",
      "  9.49139118e-01 -1.47089624e+01  5.43420982e+00 -1.79378653e+00\n",
      " -1.66044593e+00  9.21596813e+00 -6.20392418e+00 -1.03530185e-02\n",
      "  2.42600880e+01  6.37737656e+00  3.53683615e+00 -7.93723965e+00\n",
      "  5.72419405e-01 -2.83552825e-01  3.58266145e-01  3.59980845e+00\n",
      "  6.20593309e+00  3.73198420e-01  6.82037163e+00 -2.80267835e+00\n",
      "  1.02885628e+01  1.52066460e+01  3.24397922e-01  1.58597827e+00\n",
      "  1.35193586e+00 -3.32714272e+00 -6.20192862e+00 -1.05121508e-01\n",
      " -2.19978404e+00 -1.61041808e+00  8.60201418e-01  1.51445341e+01\n",
      "  1.09986687e+01  3.23286629e+00 -1.17845078e+01  6.33299589e+00\n",
      "  5.15013313e+00  5.33559990e+00 -6.80554581e+00  8.44687998e-01\n",
      "  4.52007151e+00  2.98250008e+00 -8.56600285e+00  1.29351497e+00\n",
      "  4.34578753e+00 -4.08034134e+00  2.68175197e+00  4.36742640e+00\n",
      " -6.17419815e+00 -2.09358263e+00  1.56382608e+00 -2.24184847e+00\n",
      "  2.33682079e+01  9.28256798e+00 -4.59090137e+00 -6.42045450e+00\n",
      "  5.66765881e+00 -1.82931538e+01 -2.56622887e+00  2.20785675e+01\n",
      " -2.99644780e+00  1.87769737e+01  1.63053584e+00  1.09424381e+01\n",
      "  5.00259209e+00  8.21321964e+00  4.37964296e+00  3.67914438e+00\n",
      " -2.49431682e+00  1.30671099e-01  8.00446224e+00  3.24347448e+00\n",
      "  9.84972858e+00  2.11203918e+01  3.88344193e+00 -4.92112875e+00\n",
      " -4.13180113e+00 -8.60078782e-02  1.44451418e+01 -4.96559590e-01\n",
      "  4.96513987e+00  8.42372537e-01  1.58083782e+01  6.04779053e+00\n",
      "  8.97359657e+00  1.03755760e+01  2.16786690e+01 -2.01483011e-01\n",
      " -2.00504589e+00  1.45524526e+00  1.68723583e+01 -2.28965740e+01\n",
      "  5.74116659e+00  4.33459711e+00  6.37412500e+00 -4.62205887e+00\n",
      "  3.67546844e+00  4.29928446e+00 -3.35089159e+00 -1.53345525e+00\n",
      "  3.99149108e+00  4.80199337e+00  6.04591250e-01  1.26646769e+00\n",
      " -3.30166268e+00  1.12110891e+01  2.72840095e+00  1.95027542e+01\n",
      "  2.59813175e+01 -1.48817074e+00  8.77069384e-02  9.95218182e+00\n",
      "  9.29565012e-01 -3.29777956e+00  1.06794729e+01  1.80135307e+01\n",
      "  5.93987799e+00  1.93696289e+01  2.57424378e+00  4.87216282e+00\n",
      "  3.24669075e+00  9.95776749e+00  4.52454262e+01  2.68535614e+01\n",
      " -5.12077618e+00  2.12724228e+01 -2.11750126e+00  4.62012053e+00\n",
      "  1.48758535e+01  2.14872494e+01 -8.08990192e+00 -2.82440567e+00\n",
      "  7.80572605e+00 -2.57348728e+00  3.55288887e+01  2.77459316e+01\n",
      "  1.18979543e-01  3.51327591e+01  1.40283957e+01  4.73833990e+00\n",
      "  2.06149940e+01 -5.09415054e+00 -5.72802210e+00  1.92786674e+01\n",
      "  8.88504219e+00  1.84950387e+00  4.05509109e+01  1.16229355e+00\n",
      "  2.50545444e+01 -1.25741062e+01  3.43495369e+01  6.58119842e-02\n",
      "  2.04363060e+00  1.68277054e+01  4.77865744e+00  1.52396126e+01\n",
      " -5.34150219e+00 -4.93843526e-01  1.40904636e+01  1.25185881e+01\n",
      "  1.58125550e-01  1.40261612e+01 -2.61211371e+00  7.98261213e+00\n",
      "  7.32437801e+00  4.64483404e+00  2.92439747e+01  2.36144428e+01\n",
      " -5.43329668e+00  1.55188112e+01  5.86752057e-01 -5.15003729e+00\n",
      " -9.11983967e+00 -1.32835913e+00  1.07170620e+01  3.17602754e+00\n",
      " -5.34128380e+00  1.54316025e+01 -4.54743433e+00  2.33553467e+01\n",
      " -4.64271641e+00  1.96047854e+00  2.96042767e+01  1.28805237e+01\n",
      "  1.54777527e+00 -8.51044941e+00  1.95219481e+00  1.01758728e+01\n",
      "  2.88013077e+01 -7.29816020e-01 -8.79302883e+00 -1.35032761e+00\n",
      "  6.81539726e+00  6.00882053e+00  3.20799756e+00  1.76479950e+01\n",
      "  9.18069077e+00  1.05237656e+01 -3.57614070e-01  2.90015812e+01\n",
      "  1.04921474e+01 -3.65509272e+00  4.86789589e+01  3.08186579e+00\n",
      " -4.45454359e+00  3.65324249e+01 -5.08817625e+00  3.26315651e+01\n",
      "  1.25727546e+00  4.77797937e+00 -2.13048887e+00  2.37806950e+01\n",
      "  7.49014139e+00  1.13498497e+01  2.12699623e+01  6.53570700e+00\n",
      "  2.37831059e+01  3.46840744e+01  6.19179964e+00  1.50005591e+00\n",
      "  2.92850475e+01 -2.56432953e+01 -7.04612613e-01  2.77840958e+01\n",
      "  1.00559521e+01  2.13031769e+01  3.86557922e+01  2.29356766e+01\n",
      "  2.55341625e+00  1.46855240e+01  1.80896893e+01 -5.53776169e+00\n",
      "  8.41653919e+00  2.15164890e+01  2.98473358e+01  7.91009092e+00\n",
      "  1.66355629e+01  4.74256039e+00 -2.15563393e+00  2.50111465e+01\n",
      "  2.95428238e+01  4.78691578e-01 -7.30519724e+00  1.64250469e+00\n",
      "  7.21990204e+00  4.29229212e+00  1.01115913e+01 -4.44408894e+00\n",
      "  1.09739614e+00 -1.64607773e+01 -2.15652523e+01 -1.11048279e+01\n",
      "  2.78039598e+00 -1.18227806e+01 -4.00015831e+00 -2.48642826e+01\n",
      "  5.18177223e+00 -6.80416679e+00 -5.10495424e+00  3.87818766e+00\n",
      " -4.47959328e+00  3.26316261e+00 -7.13530540e+00 -3.30560827e+00\n",
      "  2.94455266e+00 -1.49028511e+01 -9.11664295e+00 -1.59830694e+01\n",
      " -8.69449520e+00 -4.49011755e+00  5.02477598e+00  3.36398911e+00\n",
      " -7.19694757e+00 -9.81410027e+00 -4.16618013e+00 -6.69212151e+00\n",
      " -4.33950186e+00 -5.33888769e+00 -8.48463440e+00  4.34612656e+00\n",
      " -4.40215206e+00  2.32623458e+00 -5.80805206e+00  7.34631419e-01\n",
      "  4.48253918e+00  1.04119072e+01 -4.53581238e+00 -2.15439663e+01\n",
      " -2.27631588e+01  2.06035566e+00 -1.96665156e+00  2.25993848e+00\n",
      "  4.84154415e+00 -9.25037670e+00 -4.13267326e+00 -4.67491817e+00\n",
      "  2.75980282e+00 -1.93881092e+01  2.94095063e+00 -1.09004784e+01\n",
      " -1.41796951e+01  9.53506565e+00 -4.10603285e+00 -3.66447711e+00\n",
      " -5.18811083e+00  3.39817357e+00 -9.97137928e+00 -1.77816343e+00\n",
      " -7.84143066e+00 -4.93802071e+00 -8.95227730e-01 -2.51386571e+00\n",
      " -2.80669556e+01 -1.78365746e+01  6.17549801e+00 -7.98549032e+00\n",
      "  4.88048935e+00 -2.35250645e+01 -7.74844933e+00 -1.83266723e+00\n",
      " -1.77397614e+01  2.00327468e+00 -1.62366161e+01 -1.01605453e+01\n",
      " -1.60511131e+01 -8.36918831e+00 -5.01901674e+00 -4.43701458e+00\n",
      " -5.13398695e+00 -3.45540714e+00 -2.10207901e+01 -2.51925278e+00\n",
      " -7.25858974e+00 -3.40290189e+00  3.07952285e+00 -1.43060417e+01\n",
      "  2.64541316e+00 -3.22082090e+00 -5.96575165e+00  5.21383762e+00\n",
      " -7.84915543e+00 -1.97969472e+00  1.46478117e+00  5.84058762e+00\n",
      " -2.53044281e+01  6.51880920e-01 -1.75206146e+01  5.64231443e+00\n",
      " -8.88570309e+00 -2.57444119e+00 -1.12936583e+01 -5.44591856e+00\n",
      "  1.88658610e-01 -5.33026361e+00  5.69605827e+00 -9.35802269e+00\n",
      " -5.48495829e-01 -9.48765182e+00  4.41842705e-01 -7.02305841e+00\n",
      " -2.09263730e+00 -3.70054746e+00  2.33668238e-01 -7.99861431e+00\n",
      "  1.07348454e+00  1.23719759e+01  4.57644463e+00  5.61110830e+00\n",
      " -4.88511562e+00 -6.79284239e+00 -1.48893940e+00  2.45607424e+00\n",
      " -7.79394925e-01 -4.83207703e+00 -1.51299620e+00 -6.25532198e+00\n",
      " -2.02828503e+01 -1.44884844e+01 -3.16365600e+00 -3.34675455e+00\n",
      "  6.59818840e+00 -2.72346187e+00 -6.44882488e+00 -1.48380697e-01\n",
      "  2.21277070e+00 -1.01562233e+01  8.54496777e-01  4.14881277e+00\n",
      " -1.32017107e+01 -1.18698196e+01 -3.22069812e+00  1.17563248e+01\n",
      " -4.67477655e+00 -1.37661276e+01  4.26569253e-01 -9.44373226e+00\n",
      "  2.78013134e+00 -3.11648756e-01 -5.02267027e+00 -1.51216078e+01\n",
      "  4.30658197e+00 -5.28748417e+00  5.78063190e-01 -1.77353745e+01\n",
      " -3.29648924e+00  5.89039612e+00 -3.40285230e+00 -7.96568298e+00\n",
      " -7.73566365e-01  1.97085559e-01  1.89173222e+00  7.88370466e+00\n",
      " -1.44939470e+00  4.39847565e+00 -2.32058392e+01 -2.67113380e+01\n",
      " -1.60019855e+01 -2.15600681e+01  9.75161672e-01  3.40443879e-01\n",
      " -4.43999004e+00 -1.37447605e+01 -4.96365166e+00 -1.19016066e+01\n",
      " -5.27938962e-01 -7.45817041e+00 -1.51011295e+01  2.43374276e+00\n",
      " -4.90603590e+00  2.76732850e+00 -8.07319832e+00 -3.31838131e+00\n",
      " -1.79787655e+01 -1.72145786e+01  1.84951758e+00 -5.35932159e+00\n",
      "  5.97999144e+00 -1.46093111e+01  1.49929857e+00  2.17038374e-02\n",
      " -1.55167599e+01 -1.86023960e+01  3.01260567e+00 -2.94989929e+01\n",
      " -1.39833202e+01  6.02103519e+00  8.77873003e-01 -6.45209408e+00\n",
      " -1.10940228e+01  7.61409426e+00 -1.80875206e+01 -1.77851257e+01\n",
      " -5.59311056e+00 -6.02964401e-01  2.50088477e+00 -2.67375107e+01\n",
      " -6.89709234e+00  2.59466124e+00 -4.58285761e+00 -8.05720711e+00\n",
      " -3.80433917e+00 -1.19270697e+01 -3.70904579e+01  1.35652218e+01\n",
      " -5.24927902e+00  9.00893593e+00 -6.37415648e+00 -1.58796282e+01\n",
      " -1.48918066e+01 -1.48022575e+01 -9.70659637e+00 -8.01793480e+00\n",
      " -6.13952494e+00 -2.66053734e+01 -8.06441593e+00 -1.74348605e+00\n",
      " -1.48745985e+01  3.59750843e+00 -1.90653400e+01 -1.12581825e+00\n",
      " -2.12461510e+01 -2.57631245e+01  6.56287670e+00 -2.24047222e+01\n",
      " -2.80000234e+00 -3.16637211e+01 -1.25168037e+01 -3.54447441e+01\n",
      " -1.20353830e+00  9.42362595e+00  1.67978973e+01 -2.57227058e+01\n",
      " -1.57348852e+01 -1.55007095e+01 -1.21311789e+01 -7.10359859e+00\n",
      " -8.54370117e+00 -3.39894485e+01 -3.65118370e+01  3.54810023e+00\n",
      " -2.66999187e+01  6.44677222e-01 -1.03927565e+01 -3.09308033e+01\n",
      " -6.34258509e+00  5.52774012e-01 -2.93324623e+01 -1.06329751e+00\n",
      " -2.26975765e+01 -1.51399174e+01  5.06669223e-01 -1.44709902e+01\n",
      " -1.16495218e+01 -6.35200596e+00 -8.47000182e-01  5.39111233e+00\n",
      " -1.28256626e+01 -3.18120010e-02 -3.73491597e+00 -2.25330887e+01\n",
      "  4.90225887e+00 -4.47420502e+01 -1.03435335e+01 -3.33751678e+00\n",
      " -1.23770084e+01 -3.74588752e+00 -1.03625596e+00 -1.57254534e+01\n",
      " -5.97640991e+00 -5.20828342e+00 -1.54415741e+01 -5.03587389e+00\n",
      " -2.34757233e+01 -4.95783844e+01  1.87859297e-01 -1.92618828e+01\n",
      " -3.39404607e+00 -9.75937176e+00  2.02869072e+01 -8.14340687e+00\n",
      " -7.92465687e+00 -3.32669144e+01 -3.31133118e+01 -2.80171375e+01\n",
      "  1.52844632e+00 -2.95024052e+01  4.17529774e+00 -4.90829945e+00\n",
      " -5.29564714e+00 -2.05846367e+01 -4.85630751e+00 -5.84575653e+00\n",
      "  1.62938023e+01  9.36880875e+00 -8.91870117e+00  2.65811768e+01\n",
      " -3.12718248e+00 -3.34729576e+01 -3.25265007e+01 -4.82291985e+00\n",
      "  3.76735210e+00  1.04945602e+01 -2.58777161e+01  1.81932425e+00\n",
      " -1.89908447e+01 -3.11020145e+01 -3.35236311e+00 -2.03270531e+01\n",
      " -1.35162668e+01 -4.02290392e+00  1.43205538e+01  7.22507668e+00\n",
      " -1.85722408e+01 -3.06850758e+01 -1.10589952e+01 -7.92605305e+00\n",
      " -1.62365189e+01 -2.44528008e+01 -1.71935387e+01  5.03187609e+00\n",
      "  2.05238536e-01 -2.69387779e+01]' has dtype incompatible with int64, please explicitly cast to a compatible dtype first.\n",
      "  preds[val_index] = model.predict(dval_i)\n"
     ]
    },
    {
     "name": "stderr",
     "output_type": "stream",
     "text": [
      "\r",
      "100%|██████████████████████████████████████████████████████████████████████████████████████████████████████████| 10/10 [06:35<00:00, 39.30s/it]                                                                                                                                                    "
     ]
    },
    {
     "name": "stderr",
     "output_type": "stream",
     "text": [
      "\r",
      "100%|██████████████████████████████████████████████████████████████████████████████████████████████████████████| 10/10 [06:35<00:00, 39.59s/it]"
     ]
    },
    {
     "name": "stdout",
     "output_type": "stream",
     "text": [
      "OOF predictions complete\n"
     ]
    },
    {
     "name": "stderr",
     "output_type": "stream",
     "text": [
      "\n"
     ]
    }
   ],
   "source": [
    "# OOF予測\n",
    "oof_preds = []\n",
    "for i in tqdm(range(repeat_cv), leave=True, dynamic_ncols=True):\n",
    "    # 初期はターゲットの値で初期化（後で上書き）\n",
    "    preds = y.copy()\n",
    "    # 各 repeater 毎に独自の KFold を用いる（random_state = i）\n",
    "    kfold = KFold(n_splits=folds_splits, shuffle=True, random_state=i)    \n",
    "    for train_index, val_index in kfold.split(X, y):\n",
    "        dtrain_i = xgb.DMatrix(X.iloc[train_index], label=y.iloc[train_index])\n",
    "        dval_i   = xgb.DMatrix(X.iloc[val_index], label=y.iloc[val_index])\n",
    "\n",
    "        model = xgb.train(\n",
    "            params=param,\n",
    "            dtrain=dtrain_i,\n",
    "            num_boost_round=iteration_counts[i],\n",
    "            verbose_eval=50\n",
    "        )\n",
    "        preds[val_index] = model.predict(dval_i)\n",
    "    # 予測値を -30 ～ 30 にクリップ\n",
    "    oof_preds.append(np.clip(preds, -30, 30))\n",
    "\n",
    "print(\"OOF predictions complete\")"
   ]
  },
  {
   "cell_type": "code",
   "execution_count": 24,
   "id": "c255024c",
   "metadata": {
    "execution": {
     "iopub.execute_input": "2025-03-13T03:02:34.156528Z",
     "iopub.status.busy": "2025-03-13T03:02:34.156528Z",
     "iopub.status.idle": "2025-03-13T03:02:34.265785Z",
     "shell.execute_reply": "2025-03-13T03:02:34.265785Z"
    },
    "papermill": {
     "duration": 0.140257,
     "end_time": "2025-03-13T03:02:34.265785",
     "exception": false,
     "start_time": "2025-03-13T03:02:34.125528",
     "status": "completed"
    },
    "tags": []
   },
   "outputs": [
    {
     "data": {
      "text/plain": [
       "<Axes: >"
      ]
     },
     "execution_count": 24,
     "metadata": {},
     "output_type": "execute_result"
    },
    {
     "data": {
      "image/png": "[encoded data removed]",
      "text/plain": [
       "<Figure size 640x480 with 1 Axes>"
      ]
     },
     "metadata": {},
     "output_type": "display_data"
    }
   ],
   "source": [
    "oof_preds[0].hist()"
   ]
  },
  {
   "cell_type": "code",
   "execution_count": 25,
   "id": "09b86ad6",
   "metadata": {
    "execution": {
     "iopub.execute_input": "2025-03-13T03:02:34.305476Z",
     "iopub.status.busy": "2025-03-13T03:02:34.305476Z",
     "iopub.status.idle": "2025-03-13T03:02:34.332194Z",
     "shell.execute_reply": "2025-03-13T03:02:34.331166Z"
    },
    "papermill": {
     "duration": 0.058035,
     "end_time": "2025-03-13T03:02:34.333189",
     "exception": false,
     "start_time": "2025-03-13T03:02:34.275154",
     "status": "completed"
    },
    "tags": []
   },
   "outputs": [],
   "source": [
    "### simple spline, seed(1, 16)~(4, 13)は強制的にfiltaring,  \n",
    "### seed値に対応して予測スコアも同じ大小関係なら1or0に変換の3モデル\n",
    "def cal_logloss(pred_vals, y, i):\n",
    "    y_binary = np.where(y > 0, 1, 0)\n",
    "    loss = log_loss(y_binary, pred_vals)\n",
    "    print(f\"logloss of cvsplit {i}: {loss:.4f}\")\n",
    "\n",
    "\n",
    "    results.append(f\"Normal Spline - logloss of cvsplit {i}: {loss:.4f}\")\n",
    "    return loss\n",
    "\n",
    "#simple spline\n",
    "def make_normal_spline(df, y, repeat_cv):\n",
    "    spline_model1 = []\n",
    "    logloss_normal = []\n",
    "    \n",
    "    for i in range(repeat_cv):\n",
    "        dat = list(zip(df[i], np.where(y>0, 1, 0)))\n",
    "        dat = sorted(dat, key=lambda x:x[0])\n",
    "        datdict = {}\n",
    "        for k in range(len(dat)):\n",
    "            datdict[dat[k][0]] = dat[k][1]\n",
    "        \n",
    "        spline_model1.append(UnivariateSpline(list(datdict.keys()), list(datdict.values())))\n",
    "        spline_fit = spline_model1[i](df[i])\n",
    "        \n",
    "        loss = cal_logloss(spline_fit, y, i)    \n",
    "        logloss_normal.append(loss)\n",
    "\n",
    "    plot_df = pd.DataFrame({\n",
    "        \"pred\": df[0],\n",
    "        \"label\": np.where(y>0,1,0),\n",
    "        \"spline\": spline_model1[0](df[0])\n",
    "    })\n",
    "    plot_df[\"pred_int\"] = plot_df[\"pred\"].astype(int)\n",
    "    plot_df = plot_df.groupby('pred_int')[['spline','label']].mean().reset_index()\n",
    "    \n",
    "    plt.figure(figsize=(8, 5))\n",
    "    plt.plot(plot_df.pred_int, plot_df.label, marker='o', linestyle='-', label=\"True Label\")\n",
    "    plt.plot(plot_df.pred_int, plot_df.spline, marker='x', linestyle='--', label=\"Spline Approximation\")\n",
    "    plt.xlabel(\"Predicted Value (Integer)\")\n",
    "    plt.ylabel(\"Mean Value\")\n",
    "    plt.title(\"Normal Spline Fit Comparison\")\n",
    "    plt.legend()\n",
    "    plt.grid(True)\n",
    "    plt.savefig(os.path.join(OUTPUT_PATH, f\"normal_spline_fit_{PREDICT_YEAR}.png\"))\n",
    "    plt.close()\n",
    "    \n",
    "    \n",
    "    # 例として平均loglossもresultsに記録\n",
    "    avg_logloss = np.mean(logloss_normal) \n",
    "    results.append(f\"Average Normal Spline logloss: {avg_logloss:.4f}\" if avg_logloss is not None else \"No logloss computed\")\n",
    "    \n",
    "    return spline_model1\n",
    "            \n",
    "            \n",
    "#seed(1, 16)~(4, 13)は強制的にseed通りの結果にフィルタリング\n",
    "def make_seed1to4_chenge(df, y, repeat_cv):\n",
    "    spline_model2 = []\n",
    "    spline_fits = []\n",
    "    for i in range(repeat_cv):\n",
    "        dat = list(zip(df[i], np.where(y>0, 1, 0)))\n",
    "        dat = sorted(dat, key=lambda x:x[0])\n",
    "        datdict = {}\n",
    "        for k in range(len(dat)):\n",
    "            datdict[dat[k][0]] = dat[k][1]\n",
    "        \n",
    "        spline_model2.append(UnivariateSpline(list(datdict.keys()), list(datdict.values())))\n",
    "        spline_fit = spline_model2[i](df[i]) \n",
    "        \n",
    "        #add\n",
    "        spline_fit[(X.T1_seed==1) & (X.T2_seed==16)] = 1.0\n",
    "        spline_fit[(X.T1_seed==2) & (X.T2_seed==15)] = 0.9\n",
    "        spline_fit[(X.T1_seed==3) & (X.T2_seed==14)] = 0.8\n",
    "        spline_fit[(X.T1_seed==4) & (X.T2_seed==13)] = 0.7\n",
    "        spline_fit[(X.T1_seed==16) & (X.T2_seed==1)] = 0.0\n",
    "        spline_fit[(X.T1_seed==15) & (X.T2_seed==2)] = 0.1\n",
    "        spline_fit[(X.T1_seed==14) & (X.T2_seed==3)] = 0.2\n",
    "        spline_fit[(X.T1_seed==13) & (X.T2_seed==4)] = 0.3\n",
    "\n",
    "    \n",
    "        cal_logloss(spline_fit, y, i)   \n",
    "                \n",
    "        spline_fits.append(spline_fit)\n",
    "        cal_logloss(spline_fit, y, i)   \n",
    "                \n",
    "    \n",
    "    plot_df = pd.DataFrame({\n",
    "        \"pred\": df[0],\n",
    "        \"label\": np.where(y > 0, 1, 0),\n",
    "        \"spline\": spline_fits[0]  # 変更後の値を利用\n",
    "    })\n",
    "    plot_df[\"pred_int\"] = plot_df[\"pred\"].astype(int)\n",
    "    plot_df = plot_df.groupby(\"pred_int\")[[\"spline\", \"label\"]].mean().reset_index()\n",
    "\n",
    "    plt.figure()\n",
    "    plt.plot(plot_df.pred_int, plot_df.label, label=\"label\")\n",
    "    plt.plot(plot_df.pred_int, plot_df.spline, label=\"spline\")\n",
    "    plt.legend()\n",
    "    plt.show()\n",
    "    \n",
    "    return spline_model2\n",
    "    \n",
    "    \n",
    "#完全に値変換するのではなくてseed値に対応して予測スコアも同じ大小関係なら1or0に変換\n",
    "def make_seed1to4_base_on_score(df, y, repeat_cv):\n",
    "    spline_model3 = []\n",
    "    spline_fits = []\n",
    "\n",
    "    for i in range(repeat_cv):\n",
    "        dat = list(zip(df[i], np.where(y>0, 1, 0)))\n",
    "        dat = sorted(dat, key=lambda x:x[0])\n",
    "        datdict = {}\n",
    "        for k in range(len(dat)):\n",
    "            datdict[dat[k][0]] = dat[k][1]\n",
    "        \n",
    "        spline_model3.append(UnivariateSpline(list(datdict.keys()), list(datdict.values())))\n",
    "        spline_fit = spline_model3[i](df[i]) \n",
    "        \n",
    "        #add\n",
    "        spline_fit[(X.T1_seed==1) & (X.T2_seed==16) & (X.T1_Score > X.T2_Score)] = 1.0\n",
    "        spline_fit[(X.T1_seed==2) & (X.T2_seed==15) & (X.T1_Score > X.T2_Score)] = 1.0\n",
    "        spline_fit[(X.T1_seed==3) & (X.T2_seed==14) & (X.T1_Score > X.T2_Score)] = 1.0\n",
    "        spline_fit[(X.T1_seed==4) & (X.T2_seed==13) & (X.T1_Score > X.T2_Score)] = 1.0\n",
    "        spline_fit[(X.T1_seed==16) & (X.T2_seed==1) & (X.T1_Score < X.T2_Score)] = 0.0\n",
    "        spline_fit[(X.T1_seed==15) & (X.T2_seed==2) & (X.T1_Score < X.T2_Score)] = 0.0\n",
    "        spline_fit[(X.T1_seed==14) & (X.T2_seed==3) & (X.T1_Score < X.T2_Score)] = 0.0\n",
    "        spline_fit[(X.T1_seed==13) & (X.T2_seed==4) & (X.T1_Score < X.T2_Score)] = 0.0\n",
    "\n",
    "        spline_fits.append(spline_fit)\n",
    "        cal_logloss(spline_fit, y, i)   \n",
    "    \n",
    "    \n",
    "    plot_df = pd.DataFrame({\n",
    "        \"pred\": df[0],\n",
    "        \"label\": np.where(y > 0, 1, 0),\n",
    "        \"spline\": spline_fits[0]  # 変更後の値を利用\n",
    "    })\n",
    "    plot_df[\"pred_int\"] = plot_df[\"pred\"].astype(int)\n",
    "    plot_df = plot_df.groupby(\"pred_int\")[[\"spline\", \"label\"]].mean().reset_index()\n",
    "\n",
    "    plt.figure()\n",
    "    plt.plot(plot_df.pred_int, plot_df.label, label=\"label\")\n",
    "    plt.plot(plot_df.pred_int, plot_df.spline, label=\"spline\")\n",
    "    plt.legend()\n",
    "    plt.show()\n",
    "    return spline_model3\n",
    "\n",
    "\n",
    "\n",
    "# Platt Scalingを用いた補正曲線生成の関数 (ロジスティック回帰)\n",
    "def make_platt_scaling(df, y, repeat_cv):\n",
    "    platt_models = []\n",
    "    logloss_platt = []\n",
    "    \n",
    "    for i in range(repeat_cv):\n",
    "        X_train = np.array(df[i]).reshape(-1, 1)\n",
    "        y_binary = np.where(y > 0, 1, 0)\n",
    "        \n",
    "        model = LogisticRegression(random_state=42, solver='lbfgs')\n",
    "        model.fit(X_train, y_binary)\n",
    "        platt_models.append(model)\n",
    "        \n",
    "\n",
    "        platt_fit = model.predict_proba(X_train)[:, 1]\n",
    "        loss = cal_logloss(platt_fit, y, i)\n",
    "        logloss_platt.append(loss)\n",
    "    \n",
    "    \n",
    "    ###\n",
    "    plot_df = pd.DataFrame({\n",
    "        \"pred\": df[0],\n",
    "        \"label\": np.where(y > 0, 1, 0),\n",
    "        \"platt\": platt_models[0].predict_proba(np.array(df[0]).reshape(-1, 1))[:, 1]\n",
    "    })\n",
    "    plot_df[\"pred_int\"] = plot_df[\"pred\"].astype(int)\n",
    "    plot_df = plot_df.groupby(\"pred_int\")[[\"platt\", \"label\"]].mean().reset_index()\n",
    "    \n",
    "    plt.figure(figsize=(8, 5))\n",
    "    plt.plot(plot_df.pred_int, plot_df.label, marker='o', linestyle='-', label=\"True Label\")\n",
    "    plt.plot(plot_df.pred_int, plot_df.platt, marker='x', linestyle='--', label=\"Platt Scaling\")\n",
    "    plt.xlabel(\"Predicted Value (Integer)\")\n",
    "    plt.ylabel(\"Mean Value\")\n",
    "    plt.title(\"Platt Scaling Calibration Curve\")\n",
    "    plt.legend()\n",
    "    plt.grid(True)\n",
    "    plt.savefig(os.path.join(OUTPUT_PATH, f\"platt_scaling_fit_{PREDICT_YEAR}.png\"))\n",
    "    plt.close()\n",
    "    \n",
    "    avg_logloss = np.mean(logloss_platt)\n",
    "    results.append(f\"Average Platt Scaling logloss: {avg_logloss:.4f}\" if avg_logloss is not None else \"No logloss computed\")\n",
    "    \n",
    "    return platt_models\n",
    "\n",
    "def make_isotonic_regression(df, y, repeat_cv):\n",
    "    \"\"\" Isotonic Regression を用いた補正曲線生成 \"\"\"\n",
    "    isotonic_models = []\n",
    "    logloss_isotonic = []\n",
    "    \n",
    "    for i in range(repeat_cv):\n",
    "        X_train = np.array(df[i]).reshape(-1, 1)\n",
    "        y_binary = np.where(y > 0, 1, 0)\n",
    "        \n",
    "        model = IsotonicRegression(out_of_bounds=\"clip\")\n",
    "        model.fit(X_train.ravel(), y_binary)\n",
    "        isotonic_models.append(model)\n",
    "        \n",
    "        isotonic_fit = model.predict(X_train.ravel())\n",
    "        loss = cal_logloss(isotonic_fit, y, i)\n",
    "        logloss_isotonic.append(loss)\n",
    "    \n",
    "    plot_df = pd.DataFrame({\n",
    "        \"pred\": df[0],\n",
    "        \"label\": np.where(y > 0, 1, 0),\n",
    "        \"isotonic\": isotonic_models[0].predict(np.array(df[0]).reshape(-1, 1))\n",
    "    })\n",
    "    plot_df[\"pred_int\"] = plot_df[\"pred\"].astype(int)\n",
    "    plot_df = plot_df.groupby(\"pred_int\")[[\"isotonic\", \"label\"]].mean().reset_index()\n",
    "    \n",
    "    plt.figure(figsize=(8, 5))\n",
    "    plt.plot(plot_df.pred_int, plot_df.label, marker='o', linestyle='-', label=\"True Label\")\n",
    "    plt.plot(plot_df.pred_int, plot_df.isotonic, marker='x', linestyle='--', label=\"Isotonic Regression\")\n",
    "    plt.xlabel(\"Predicted Value (Integer)\")\n",
    "    plt.ylabel(\"Mean Value\")\n",
    "    plt.title(\"Isotonic Regression Calibration Curve\")\n",
    "    plt.legend()\n",
    "    plt.grid(True)\n",
    "    plt.savefig(os.path.join(OUTPUT_PATH, f\"isotonic_regression_fit_{PREDICT_YEAR}.png\"))\n",
    "    plt.close()\n",
    "    \n",
    "    avg_logloss = np.mean(logloss_isotonic)\n",
    "    results.append(f\"Average Isotonic Regression logloss: {avg_logloss:.4f}\" if avg_logloss is not None else \"No logloss computed\")\n",
    "    \n",
    "    return isotonic_models\n",
    "\n"
   ]
  },
  {
   "cell_type": "code",
   "execution_count": 26,
   "id": "0658aeb7",
   "metadata": {
    "execution": {
     "iopub.execute_input": "2025-03-13T03:02:34.357477Z",
     "iopub.status.busy": "2025-03-13T03:02:34.357477Z",
     "iopub.status.idle": "2025-03-13T03:02:34.372325Z",
     "shell.execute_reply": "2025-03-13T03:02:34.372325Z"
    },
    "papermill": {
     "duration": 0.02481,
     "end_time": "2025-03-13T03:02:34.374939",
     "exception": false,
     "start_time": "2025-03-13T03:02:34.350129",
     "status": "completed"
    },
    "tags": []
   },
   "outputs": [],
   "source": [
    "# キャリブレーションカーブの描画関数\n",
    "def plot_calibration_curve(y_true, y_pred_proba, method, save_path):\n",
    "    \"\"\" キャリブレーションカーブをプロットし保存 \"\"\"\n",
    "    y_binary = np.where(y_true > 0, 1, 0) \n",
    "    prob_true, prob_pred = calibration_curve(y_binary, y_pred_proba, n_bins=10)\n",
    "    \n",
    "    plt.figure(figsize=(6,6))\n",
    "    plt.plot(prob_pred, prob_true, marker=\"o\", label=f\"{method} Calibration\")\n",
    "    plt.plot([0, 1], [0, 1], linestyle=\"--\", label=\"Perfect Calibration\")\n",
    "    plt.xlabel(\"Predicted Probability\")\n",
    "    plt.ylabel(\"Actual Probability\")\n",
    "    plt.legend()\n",
    "    plt.title(f\"{method} Calibration Curve\")\n",
    "    plt.grid()\n",
    "    plt.savefig(save_path)\n",
    "    plt.close()\n",
    "\n"
   ]
  },
  {
   "cell_type": "code",
   "execution_count": 27,
   "id": "bbae7f77",
   "metadata": {
    "execution": {
     "iopub.execute_input": "2025-03-13T03:02:34.409522Z",
     "iopub.status.busy": "2025-03-13T03:02:34.409522Z",
     "iopub.status.idle": "2025-03-13T03:02:34.632170Z",
     "shell.execute_reply": "2025-03-13T03:02:34.632170Z"
    },
    "papermill": {
     "duration": 0.241335,
     "end_time": "2025-03-13T03:02:34.632170",
     "exception": false,
     "start_time": "2025-03-13T03:02:34.390835",
     "status": "completed"
    },
    "tags": []
   },
   "outputs": [
    {
     "name": "stdout",
     "output_type": "stream",
     "text": [
      "logloss of cvsplit 0: 0.5049\n",
      "logloss of cvsplit 1: 0.5062\n",
      "logloss of cvsplit 2: 0.5043\n",
      "logloss of cvsplit 3: 0.5033\n",
      "logloss of cvsplit 4: 0.5051\n",
      "logloss of cvsplit 5: 0.5032\n",
      "logloss of cvsplit 6: 0.5024\n",
      "logloss of cvsplit 7: 0.5040\n",
      "logloss of cvsplit 8: 0.5029\n",
      "logloss of cvsplit 9: 0.5051\n"
     ]
    }
   ],
   "source": [
    "# キャリブレーション手法の選択\n",
    "spline = MODEL.spline\n",
    "if spline == \"spline_normal\":\n",
    "    spline_model = make_normal_spline(oof_preds, y, repeat_cv)\n",
    "    calibrated_preds = spline_model[0](oof_preds[0])\n",
    "    plot_calibration_curve(y, calibrated_preds, \"Spline Normal\", os.path.join(OUTPUT_PATH, f\"spline_normal_calibration_{PREDICT_YEAR}.png\"))\n",
    "    \n",
    "elif spline == \"logistic\":\n",
    "    spline_model = make_platt_scaling(oof_preds, y, repeat_cv)\n",
    "    calibrated_preds = spline_model[0].predict_proba(np.array(oof_preds[0]).reshape(-1, 1))[:, 1]\n",
    "    plot_calibration_curve(y, calibrated_preds, \"Platt Scaling\", os.path.join(OUTPUT_PATH, f\"platt_scaling_calibration_{PREDICT_YEAR}.png\"))\n",
    "    \n",
    "elif spline == \"isotonic\":\n",
    "    spline_model = make_isotonic_regression(oof_preds, y, repeat_cv)\n",
    "    calibrated_preds = spline_model[0].predict(np.array(oof_preds[0]).reshape(-1, 1))\n",
    "    plot_calibration_curve(y, calibrated_preds, \"Isotonic Regression\", os.path.join(OUTPUT_PATH, f\"isotonic_regression_calibration_{PREDICT_YEAR}.png\"))"
   ]
  },
  {
   "cell_type": "markdown",
   "id": "c6a4c066",
   "metadata": {
    "papermill": {
     "duration": 0.015051,
     "end_time": "2025-03-13T03:02:34.668499",
     "exception": false,
     "start_time": "2025-03-13T03:02:34.653448",
     "status": "completed"
    },
    "tags": []
   },
   "source": [
    "# submmit\n",
    "\n",
    "同じfeature engineeringする.\n",
    "\n",
    "個々の扱うも考える。2025は最終提出用の関数を用意する、その他2024以前は過去コンペでの提出形式に合わせる、でも年度によって提出形式が変わるからとりあえず2023でやる"
   ]
  },
  {
   "cell_type": "code",
   "execution_count": 28,
   "id": "3102c7dc",
   "metadata": {
    "execution": {
     "iopub.execute_input": "2025-03-13T03:02:34.700029Z",
     "iopub.status.busy": "2025-03-13T03:02:34.700029Z",
     "iopub.status.idle": "2025-03-13T03:02:34.705354Z",
     "shell.execute_reply": "2025-03-13T03:02:34.705354Z"
    },
    "papermill": {
     "duration": 0.032482,
     "end_time": "2025-03-13T03:02:34.707031",
     "exception": false,
     "start_time": "2025-03-13T03:02:34.674549",
     "status": "completed"
    },
    "tags": []
   },
   "outputs": [
    {
     "data": {
      "text/plain": [
       "'if PREDICT_YEAR==2022:\\n    sub = pd.read_csv(os.path.join(INPUT_PATH, \"SampleSubmission2022M.csv\"))\\n    sub[\\'Season\\'] = sub[\\'ID\\'].apply(lambda x: int(x.split(\\'_\\')[0]))\\n    sub[\"T1_TeamID\"] = sub[\\'ID\\'].apply(lambda x: int(x.split(\\'_\\')[1]))\\n    sub[\"T2_TeamID\"] = sub[\\'ID\\'].apply(lambda x: int(x.split(\\'_\\')[2]))\\n    sub_X, a = process_tourney(sub, mode = \"sub\")\\n    dtest = xgb.DMatrix(sub_X)\\nelif PREDICT_YEAR==2023:\\n    sub = pd.read_csv(os.path.join(INPUT_PATH, \"SampleSubmission2023.csv\"))\\n    sub[\\'Season\\'] = sub[\\'ID\\'].apply(lambda x: int(x.split(\\'_\\')[0]))\\n    sub[\"T1_TeamID\"] = sub[\\'ID\\'].apply(lambda x: int(x.split(\\'_\\')[1]))\\n    sub[\"T2_TeamID\"] = sub[\\'ID\\'].apply(lambda x: int(x.split(\\'_\\')[2]))\\n    sub_X, a = process_tourney(sub, mode = \"sub\")\\n    dtest = xgb.DMatrix(sub_X)\\nelif PREDICT_YEAR==2024:\\n    sub = pd.read_csv(os.path.join(INPUT_PATH, \"SampleSubmission2024.csv\"))\\n    sub[\\'Season\\'] = sub[\\'ID\\'].apply(lambda x: int(x.split(\\'_\\')[0]))\\n    sub[\"T1_TeamID\"] = sub[\\'ID\\'].apply(lambda x: int(x.split(\\'_\\')[1]))\\n    sub[\"T2_TeamID\"] = sub[\\'ID\\'].apply(lambda x: int(x.split(\\'_\\')[2]))\\n    sub_X, a = process_tourney(sub, mode = \"sub\")\\n    dtest = xgb.DMatrix(sub_X)\\nelif PREDICT_YEAR==2025:\\n    sub = pd.read_csv(os.path.join(INPUT_PATH, \"SampleSubmissionStage2.csv\"))\\n    sub[\\'Season\\'] = sub[\\'ID\\'].apply(lambda x: int(x.split(\\'_\\')[0]))\\n    sub[\"T1_TeamID\"] = sub[\\'ID\\'].apply(lambda x: int(x.split(\\'_\\')[1]))\\n    sub[\"T2_TeamID\"] = sub[\\'ID\\'].apply(lambda x: int(x.split(\\'_\\')[2]))   \\n    sub_X, a = process_tourney(sub, mode = \"sub\")\\n    dtest = xgb.DMatrix(sub_X)'"
      ]
     },
     "execution_count": 28,
     "metadata": {},
     "output_type": "execute_result"
    }
   ],
   "source": [
    "\"\"\"if PREDICT_YEAR==2022:\n",
    "    sub = pd.read_csv(os.path.join(INPUT_PATH, \"SampleSubmission2022M.csv\"))\n",
    "    sub['Season'] = sub['ID'].apply(lambda x: int(x.split('_')[0]))\n",
    "    sub[\"T1_TeamID\"] = sub['ID'].apply(lambda x: int(x.split('_')[1]))\n",
    "    sub[\"T2_TeamID\"] = sub['ID'].apply(lambda x: int(x.split('_')[2]))\n",
    "    sub_X, a = process_tourney(sub, mode = \"sub\")\n",
    "    dtest = xgb.DMatrix(sub_X)\n",
    "elif PREDICT_YEAR==2023:\n",
    "    sub = pd.read_csv(os.path.join(INPUT_PATH, \"SampleSubmission2023.csv\"))\n",
    "    sub['Season'] = sub['ID'].apply(lambda x: int(x.split('_')[0]))\n",
    "    sub[\"T1_TeamID\"] = sub['ID'].apply(lambda x: int(x.split('_')[1]))\n",
    "    sub[\"T2_TeamID\"] = sub['ID'].apply(lambda x: int(x.split('_')[2]))\n",
    "    sub_X, a = process_tourney(sub, mode = \"sub\")\n",
    "    dtest = xgb.DMatrix(sub_X)\n",
    "elif PREDICT_YEAR==2024:\n",
    "    sub = pd.read_csv(os.path.join(INPUT_PATH, \"SampleSubmission2024.csv\"))\n",
    "    sub['Season'] = sub['ID'].apply(lambda x: int(x.split('_')[0]))\n",
    "    sub[\"T1_TeamID\"] = sub['ID'].apply(lambda x: int(x.split('_')[1]))\n",
    "    sub[\"T2_TeamID\"] = sub['ID'].apply(lambda x: int(x.split('_')[2]))\n",
    "    sub_X, a = process_tourney(sub, mode = \"sub\")\n",
    "    dtest = xgb.DMatrix(sub_X)\n",
    "elif PREDICT_YEAR==2025:\n",
    "    sub = pd.read_csv(os.path.join(INPUT_PATH, \"SampleSubmissionStage2.csv\"))\n",
    "    sub['Season'] = sub['ID'].apply(lambda x: int(x.split('_')[0]))\n",
    "    sub[\"T1_TeamID\"] = sub['ID'].apply(lambda x: int(x.split('_')[1]))\n",
    "    sub[\"T2_TeamID\"] = sub['ID'].apply(lambda x: int(x.split('_')[2]))   \n",
    "    sub_X, a = process_tourney(sub, mode = \"sub\")\n",
    "    dtest = xgb.DMatrix(sub_X)\"\"\"\n",
    "    "
   ]
  },
  {
   "cell_type": "code",
   "execution_count": 29,
   "id": "d4a7bdb3",
   "metadata": {
    "execution": {
     "iopub.execute_input": "2025-03-13T03:02:34.738832Z",
     "iopub.status.busy": "2025-03-13T03:02:34.738832Z",
     "iopub.status.idle": "2025-03-13T03:02:34.765085Z",
     "shell.execute_reply": "2025-03-13T03:02:34.765085Z"
    },
    "papermill": {
     "duration": 0.044306,
     "end_time": "2025-03-13T03:02:34.767093",
     "exception": false,
     "start_time": "2025-03-13T03:02:34.722787",
     "status": "completed"
    },
    "tags": []
   },
   "outputs": [
    {
     "name": "stdout",
     "output_type": "stream",
     "text": [
      "no fillna, use nan\n"
     ]
    }
   ],
   "source": [
    "sub = notexist.copy()\n",
    "sub = sub.rename(columns={\"WTeamID\": \"T1_TeamID\", \"LTeamID\": \"T2_TeamID\"})\n",
    "sub = sub[[\"Season\", \"T1_TeamID\", \"T2_TeamID\"]]\n",
    "temp = sub.copy()\n",
    "temp = temp.rename(columns={\"T1_TeamID\": \"T2_TeamID\", \"T2_TeamID\": \"T1_TeamID\"})\n",
    "sub = pd.concat([sub, temp]).reset_index()\n",
    "sub_X, a = process_tourney(sub, mode=\"sub\")\n",
    "dtest = xgb.DMatrix(sub_X)"
   ]
  },
  {
   "cell_type": "code",
   "execution_count": 30,
   "id": "063ba168",
   "metadata": {
    "execution": {
     "iopub.execute_input": "2025-03-13T03:02:34.813676Z",
     "iopub.status.busy": "2025-03-13T03:02:34.813676Z",
     "iopub.status.idle": "2025-03-13T03:04:05.036593Z",
     "shell.execute_reply": "2025-03-13T03:04:05.036593Z"
    },
    "papermill": {
     "duration": 90.249918,
     "end_time": "2025-03-13T03:04:05.038515",
     "exception": false,
     "start_time": "2025-03-13T03:02:34.788597",
     "status": "completed"
    },
    "tags": []
   },
   "outputs": [
    {
     "name": "stderr",
     "output_type": "stream",
     "text": [
      "\r",
      "  0%|                                                                                                                   | 0/10 [00:00<?, ?it/s]"
     ]
    },
    {
     "name": "stderr",
     "output_type": "stream",
     "text": [
      "\r",
      " 10%|██████████▋                                                                                                | 1/10 [00:08<01:17,  8.62s/it]"
     ]
    },
    {
     "name": "stderr",
     "output_type": "stream",
     "text": [
      "\r",
      " 20%|█████████████████████▍                                                                                     | 2/10 [00:17<01:08,  8.53s/it]"
     ]
    },
    {
     "name": "stderr",
     "output_type": "stream",
     "text": [
      "\r",
      " 30%|████████████████████████████████                                                                           | 3/10 [00:27<01:06,  9.49s/it]"
     ]
    },
    {
     "name": "stderr",
     "output_type": "stream",
     "text": [
      "\r",
      " 40%|██████████████████████████████████████████▊                                                                | 4/10 [00:35<00:53,  8.97s/it]"
     ]
    },
    {
     "name": "stderr",
     "output_type": "stream",
     "text": [
      "\r",
      " 50%|█████████████████████████████████████████████████████▌                                                     | 5/10 [00:45<00:45,  9.16s/it]"
     ]
    },
    {
     "name": "stderr",
     "output_type": "stream",
     "text": [
      "\r",
      " 60%|████████████████████████████████████████████████████████████████▏                                          | 6/10 [00:53<00:34,  8.73s/it]"
     ]
    },
    {
     "name": "stderr",
     "output_type": "stream",
     "text": [
      "\r",
      " 70%|██████████████████████████████████████████████████████████████████████████▉                                | 7/10 [01:04<00:28,  9.41s/it]"
     ]
    },
    {
     "name": "stderr",
     "output_type": "stream",
     "text": [
      "\r",
      " 80%|█████████████████████████████████████████████████████████████████████████████████████▌                     | 8/10 [01:11<00:17,  8.69s/it]"
     ]
    },
    {
     "name": "stderr",
     "output_type": "stream",
     "text": [
      "\r",
      " 90%|████████████████████████████████████████████████████████████████████████████████████████████████▎          | 9/10 [01:21<00:09,  9.17s/it]"
     ]
    },
    {
     "name": "stderr",
     "output_type": "stream",
     "text": [
      "\r",
      "100%|██████████████████████████████████████████████████████████████████████████████████████████████████████████| 10/10 [01:30<00:00,  9.04s/it]"
     ]
    },
    {
     "name": "stderr",
     "output_type": "stream",
     "text": [
      "\r",
      "100%|██████████████████████████████████████████████████████████████████████████████████████████████████████████| 10/10 [01:30<00:00,  9.02s/it]"
     ]
    },
    {
     "name": "stderr",
     "output_type": "stream",
     "text": [
      "\n"
     ]
    }
   ],
   "source": [
    "sub_models = []\n",
    "#sokutionではカスタム関数の指定、早期停止の言及がここではなかった。検討する\n",
    "for i in tqdm(range(repeat_cv), leave=True, dynamic_ncols=True):\n",
    "    sub_models.append(\n",
    "        xgb.train(\n",
    "          params = param,\n",
    "          dtrain = dtrain,\n",
    "          obj=cauchyobj,\n",
    "          num_boost_round = int(iteration_counts[i] * 1.05),\n",
    "          #early_stopping_rounds=early_stopping_rounds, #これ指定してない、指定するのかあと、指定するとしても少し遅くさせるとか\n",
    "          verbose_eval = 50\n",
    "        )\n",
    "    )"
   ]
  },
  {
   "cell_type": "markdown",
   "id": "4d284e91",
   "metadata": {
    "papermill": {
     "duration": 0.034962,
     "end_time": "2025-03-13T03:04:05.103035",
     "exception": false,
     "start_time": "2025-03-13T03:04:05.068073",
     "status": "completed"
    },
    "tags": []
   },
   "source": [
    "各特徴量の寄与度を算出"
   ]
  },
  {
   "cell_type": "code",
   "execution_count": 31,
   "id": "3420b5f4",
   "metadata": {
    "execution": {
     "iopub.execute_input": "2025-03-13T03:04:05.175003Z",
     "iopub.status.busy": "2025-03-13T03:04:05.173997Z",
     "iopub.status.idle": "2025-03-13T03:04:06.480432Z",
     "shell.execute_reply": "2025-03-13T03:04:06.480432Z"
    },
    "papermill": {
     "duration": 1.352681,
     "end_time": "2025-03-13T03:04:06.482699",
     "exception": false,
     "start_time": "2025-03-13T03:04:05.130018",
     "status": "completed"
    },
    "tags": []
   },
   "outputs": [
    {
     "data": {
      "image/png": "[encoded data removed]",
      "text/plain": [
       "<Figure size 1000x600 with 1 Axes>"
      ]
     },
     "metadata": {},
     "output_type": "display_data"
    }
   ],
   "source": [
    "feature_importances = collections.defaultdict(list)\n",
    "for model in sub_models:\n",
    "    importance = model.get_score(importance_type='gain')\n",
    "    for feat, score in importance.items():\n",
    "        feature_importances[feat].append(score)\n",
    "\n",
    "avg_importance = {feat: sum(scores) / len(scores) for feat, scores in feature_importances.items()}\n",
    "fi_df = pd.DataFrame(list(avg_importance.items()), columns=['Feature', 'Avg_Gain'])\n",
    "fi_df.sort_values(by='Avg_Gain', ascending=False, inplace=True)\n",
    "results.append(\"\")\n",
    "fi_log = \"-----Feature Importance (Average Gain)-----\\n\"\n",
    "for feat, score in fi_df.values:\n",
    "    fi_log += f\"{feat}: {score:.4f}\\n\"\n",
    "results.append(fi_log)\n",
    "results.append(\"\")\n",
    "\n",
    "plt.figure(figsize=(10, 6))\n",
    "plt.bar(fi_df['Feature'], fi_df['Avg_Gain'])\n",
    "plt.xlabel('Feature')\n",
    "plt.ylabel('Average Gain')\n",
    "plt.title('Feature Importance (Average Gain)')\n",
    "plt.xticks(rotation=45)\n",
    "plt.tight_layout() \n",
    "\n",
    "plt.savefig(os.path.join(OUTPUT_PATH, f\"feature_importance_{PREDICT_YEAR}.png\"))\n",
    "plt.show()"
   ]
  },
  {
   "cell_type": "code",
   "execution_count": 32,
   "id": "f93f8a31",
   "metadata": {
    "execution": {
     "iopub.execute_input": "2025-03-13T03:04:06.547088Z",
     "iopub.status.busy": "2025-03-13T03:04:06.547088Z",
     "iopub.status.idle": "2025-03-13T03:04:06.623195Z",
     "shell.execute_reply": "2025-03-13T03:04:06.623195Z"
    },
    "papermill": {
     "duration": 0.108027,
     "end_time": "2025-03-13T03:04:06.624163",
     "exception": false,
     "start_time": "2025-03-13T03:04:06.516136",
     "status": "completed"
    },
    "tags": []
   },
   "outputs": [
    {
     "name": "stderr",
     "output_type": "stream",
     "text": [
      "\r",
      "  0%|                                                                                                                   | 0/10 [00:00<?, ?it/s]"
     ]
    },
    {
     "name": "stderr",
     "output_type": "stream",
     "text": [
      "\r",
      "100%|█████████████████████████████████████████████████████████████████████████████████████████████████████████| 10/10 [00:00<00:00, 178.99it/s]"
     ]
    },
    {
     "name": "stderr",
     "output_type": "stream",
     "text": [
      "\n"
     ]
    }
   ],
   "source": [
    "sub_preds = []\n",
    "for i in tqdm(range(repeat_cv)):\n",
    "    if spline == \"spline_normal\":\n",
    "        sub_preds.append(np.clip(spline_model[i](np.clip(sub_models[i].predict(dtest), -30, 30)), 0.025, 0.975))\n",
    "    \n",
    "    elif spline == \"logistic\":\n",
    "        X_input = np.clip(sub_models[i].predict(dtest), -30, 30).reshape(-1, 1)\n",
    "        platt_pred = spline_model[i].predict_proba(X_input)[:, 1]\n",
    "        sub_preds.append(np.clip(platt_pred, 0.025, 0.975))\n",
    "\n",
    "    elif spline == \"isotonic\":\n",
    "        X_input = np.clip(sub_models[i].predict(dtest), -30, 30).reshape(-1, 1)\n",
    "        iso_pred = spline_model[i].predict(X_input)  # Isotonic Regression の適用\n",
    "        sub_preds.append(np.clip(iso_pred, 0.025, 0.975))\n",
    "\n",
    "sub[\"Pred\"] = np.mean(np.vstack(sub_preds), axis=0)"
   ]
  },
  {
   "cell_type": "code",
   "execution_count": 33,
   "id": "fa6c07c0",
   "metadata": {
    "execution": {
     "iopub.execute_input": "2025-03-13T03:04:06.680808Z",
     "iopub.status.busy": "2025-03-13T03:04:06.680808Z",
     "iopub.status.idle": "2025-03-13T03:04:06.687382Z",
     "shell.execute_reply": "2025-03-13T03:04:06.687382Z"
    },
    "papermill": {
     "duration": 0.037254,
     "end_time": "2025-03-13T03:04:06.688563",
     "exception": false,
     "start_time": "2025-03-13T03:04:06.651309",
     "status": "completed"
    },
    "tags": []
   },
   "outputs": [],
   "source": [
    "# teams:64team, targetを受け取って、そのtarget teamの試合可能性のある全63試合を抽出する関数\n",
    "def extract_target_team_records(submission_df, teams, target_team):\n",
    "    if target_team not in teams:\n",
    "        raise ValueError(f\"target_team {target_team} は teams 内に存在しません\")\n",
    "\n",
    "    remaining_teams = [t for t in teams if t != target_team]\n",
    "    \n",
    "    records = []\n",
    "    for other_team in remaining_teams:\n",
    "        lower = min(target_team, other_team)\n",
    "        higher = max(target_team, other_team)\n",
    "        row = submission_df[(submission_df['T1_TeamID'] == lower) & (submission_df['T2_TeamID'] == higher)]\n",
    "        if row.empty:\n",
    "            print(f\"Warning: 対戦 {lower} vs {higher} に対応するレコードが見つかりませんでした\")\n",
    "        else:\n",
    "            records.append(row)\n",
    "    \n",
    "    if records:\n",
    "        final_records = pd.concat(records, ignore_index=True)\n",
    "    else:\n",
    "        final_records = pd.DataFrame()\n",
    "    \n",
    "    if len(final_records) != 63:\n",
    "        print(f\"Warning: 期待される63件ではなく、{len(final_records)}件のレコードが抽出されました。\")\n",
    "    \n",
    "    return final_records\n"
   ]
  },
  {
   "cell_type": "code",
   "execution_count": 34,
   "id": "4611dbe0",
   "metadata": {
    "execution": {
     "iopub.execute_input": "2025-03-13T03:04:06.746074Z",
     "iopub.status.busy": "2025-03-13T03:04:06.746074Z",
     "iopub.status.idle": "2025-03-13T03:04:06.752997Z",
     "shell.execute_reply": "2025-03-13T03:04:06.752997Z"
    },
    "papermill": {
     "duration": 0.035285,
     "end_time": "2025-03-13T03:04:06.754020",
     "exception": false,
     "start_time": "2025-03-13T03:04:06.718735",
     "status": "completed"
    },
    "tags": []
   },
   "outputs": [],
   "source": [
    "tourney_teams_2023 = [\n",
    "    1395, 1113,   # TCU1395, アリゾナ・ステイト1113\n",
    "    1231, 1245,   # インディアナ1231, ケント・ステイト1245\n",
    "    1243, 1286,   # カンザス・ステイト1243, モンタナ・ステイト1286\n",
    "    1272, 1194,   # メンフィス1272, ﾌﾛﾘﾀﾞ･ｱﾄﾗﾝﾃｨｯｸ1194\n",
    "    1211, 1213,   # ゴンザガ1211, グランド・キャニオン1213\n",
    "    1274, 1179,   # マイアミ（フロリダ）1274, ドレイク1179\n",
    "    1243, 1286,   # ケンタッキー1243, プロビデンス1286\n",
    "    1345, 1192,   # パデュー1345, ﾌｪｱﾘｰ･ﾃﾞｨｷﾝｿﾝ1192\n",
    "    1163, 1233,   # コネチカット1163, アイオナ1233\n",
    "    1166, 1301,   # クレイトン1166, ﾉｰｽｶﾛﾗｲﾅ･ｽﾃｲﾄ1301\n",
    "    1235, 1338,   # アイオワ・ステイト1235, ピッツバーグ1338\n",
    "    1266, 1436,   # マーケット1266, バーモント1436\n",
    "    1388, 1433,   # ｾﾝﾄﾒｱﾘｰｽﾞ（ｶﾘﾌｫﾙﾆｱ）1388, VCU1433\n",
    "    1124, 1364,   # ベイラー1124, UCサンタバーバラ1364\n",
    "    1462, 1244,   # ザビエル1462, ケネソー・ステイト1244\n",
    "    1277, 1425,   # ミシガン・ステイト1277, USC トロージャンズ1425\n",
    "\n",
    "    1417, 1421,   # UCLA1417, UNC アシュビル1421\n",
    "    1401, 1336,   # テキサス A＆M1401, ﾍﾟﾝｼﾞﾙﾍﾞﾆｱ･ｽﾃｲﾄ1336\n",
    "    1397, 1418,   # テネシー1397, ﾙｲｼﾞｱﾅ･ﾗﾌｧｲｴｯﾄ1418\n",
    "    1222, 1297,   # ヒューストン1222, ノーザンケンタッキー1297\n",
    "    1321, 1129,   # ノースウェスタン1321, ボイシ・ステイト1129\n",
    "    1400, 1159,   # テキサス1400, コルゲート1159\n",
    "    1181, 1331,   # デューク1181, オーラル・ロバーツ1331\n",
    "    1234, 1120,   # アイオワ1234, オーバーン1120\n",
    "    1116, 1228,   # アーカンソー1116, イリノイ1228\n",
    "    1112, 1343,   # アリゾナ1112, プリンストン1343\n",
    "    1361, 1158,   # ｻﾝﾃﾞｴｺﾞ･ｽﾃｲﾄ1361, チャールストン1158\n",
    "    1104, 1394,   # アラバマ1104, テキサス A＆M CC1394\n",
    "    1242, 1224,   # カンザス1242, ハワード1224\n",
    "    1281, 1429,   # ミズーリ1281, ユタ・ステイト1429\n",
    "    1438, 1202,   # バージニア1438, ファーマン1202\n",
    "    1268, 1452    # メリーランド1268, ウェストバージニア1452\n",
    "]\n",
    "\n",
    "#Connecticut_vs = extract_target_team_records(sub, tourney_teams_2023, 1163 )"
   ]
  },
  {
   "cell_type": "code",
   "execution_count": 35,
   "id": "bd19698c",
   "metadata": {
    "execution": {
     "iopub.execute_input": "2025-03-13T03:04:06.808773Z",
     "iopub.status.busy": "2025-03-13T03:04:06.808773Z",
     "iopub.status.idle": "2025-03-13T03:04:06.815101Z",
     "shell.execute_reply": "2025-03-13T03:04:06.815101Z"
    },
    "papermill": {
     "duration": 0.033749,
     "end_time": "2025-03-13T03:04:06.815101",
     "exception": false,
     "start_time": "2025-03-13T03:04:06.781352",
     "status": "completed"
    },
    "tags": []
   },
   "outputs": [],
   "source": [
    "#handlabelingを行う関数\n",
    "def make_handlabeling(df, season, T1, T2, labeling_pred, tourney_teams):\n",
    "    if T1 not in tourney_teams or T2 not in tourney_teams: \n",
    "        print(f\"トーナメント対象チームに属していません\")\n",
    "        return \n",
    "    \n",
    "    if T1>T2: \n",
    "        T1, T2 = T2, T1\n",
    "        print(f\"{T1}, {T2}ID逆だけど大丈夫？？\")\n",
    "    id = f\"{season}_{T1}_{T2}\"\n",
    "\n",
    "    print(f\"before: {df[df['ID']==id]}\")\n",
    "    df.loc[df[\"ID\"] == id, \"Pred\"] = labeling_pred\n",
    "    print(f\"after: {df[df['ID']==id]}\")\n",
    "    \n",
    "    results.append(f\"-----handolabeling-----\")\n",
    "    results.append(f\"before:  {df[df['ID']==id]} -----> after: {df[df['ID']==id]}\")\n",
    "    results.appedn(\"\")\n",
    "    return df"
   ]
  },
  {
   "cell_type": "code",
   "execution_count": 36,
   "id": "fb6c9b2f",
   "metadata": {
    "execution": {
     "iopub.execute_input": "2025-03-13T03:04:06.857794Z",
     "iopub.status.busy": "2025-03-13T03:04:06.856778Z",
     "iopub.status.idle": "2025-03-13T03:04:06.863306Z",
     "shell.execute_reply": "2025-03-13T03:04:06.861781Z"
    },
    "papermill": {
     "duration": 0.036402,
     "end_time": "2025-03-13T03:04:06.865096",
     "exception": false,
     "start_time": "2025-03-13T03:04:06.828694",
     "status": "completed"
    },
    "tags": []
   },
   "outputs": [],
   "source": [
    "labeling = cfg.exp.hand_labeling\n",
    "if labeling is not None:\n",
    "    for i in range(len(labeling)):\n",
    "        T1 = labeling[i][0]\n",
    "        T2 = labeling[i][1]\n",
    "        labeling_pred = labeling[i][2]\n",
    "        \n",
    "        print(f\"{T1} vs {T2} result labeling {labeling_pred}\")\n",
    "        \n",
    "        sub = make_handlabeling(sub, PREDICT_YEAR, T1, T2, labeling_pred, tourney_teams_2023)"
   ]
  },
  {
   "cell_type": "code",
   "execution_count": 37,
   "id": "42041dbe",
   "metadata": {
    "execution": {
     "iopub.execute_input": "2025-03-13T03:04:06.914035Z",
     "iopub.status.busy": "2025-03-13T03:04:06.914035Z",
     "iopub.status.idle": "2025-03-13T03:04:07.362688Z",
     "shell.execute_reply": "2025-03-13T03:04:07.362688Z"
    },
    "papermill": {
     "duration": 0.462248,
     "end_time": "2025-03-13T03:04:07.362688",
     "exception": false,
     "start_time": "2025-03-13T03:04:06.900440",
     "status": "completed"
    },
    "tags": []
   },
   "outputs": [
    {
     "name": "stdout",
     "output_type": "stream",
     "text": [
      "Tournament matchups only - Pred Mean: 0.5002393528681932\n"
     ]
    },
    {
     "data": {
      "image/png": "[encoded data removed]",
      "text/plain": [
       "<Figure size 640x480 with 1 Axes>"
      ]
     },
     "metadata": {},
     "output_type": "display_data"
    }
   ],
   "source": [
    "tourney_filtered = notexist[notexist[\"Season\"] == PREDICT_YEAR].copy()\n",
    "a = tourney_filtered.rename(columns={'WTeamID': 'T1_TeamID', 'LTeamID': 'T2_TeamID'})\n",
    "b = tourney_filtered.rename(columns={'WTeamID': 'T2_TeamID', 'LTeamID': 'T1_TeamID'})\n",
    "ab = pd.concat([a, b]).reset_index(drop=True) \n",
    "filtered_sub = sub.merge(ab[['Season', 'T1_TeamID', 'T2_TeamID']], \n",
    "                         on=['Season', 'T1_TeamID', 'T2_TeamID'], \n",
    "                         how='inner')\n",
    "\n",
    "filtered_sub[\"Pred\"].astype(int)\n",
    "pred_mean = filtered_sub[\"Pred\"].mean()\n",
    "print(\"Tournament matchups only - Pred Mean:\", pred_mean)\n",
    "\n",
    "filtered_sub[\"Pred\"].hist(bins=50)\n",
    "results+=[\"\", f\"Tournament matchups only - Pred Mean:, {pred_mean}\", \"\"]\n",
    "plt.figure(figsize=(8, 6))\n",
    "filtered_sub[\"Pred\"].hist(bins=50)\n",
    "plt.title(\"Prediction Histogram\")\n",
    "plt.xlabel(\"Pred\")\n",
    "plt.ylabel(\"Frequency\")\n",
    "plt.grid(True)\n",
    "\n",
    "# 画像として保存\n",
    "plt.savefig(os.path.join(OUTPUT_PATH, f\"Prediction_Histgram_filtered_{PREDICT_YEAR}.png\"))\n",
    "plt.close()"
   ]
  },
  {
   "cell_type": "markdown",
   "id": "f93b150f",
   "metadata": {
    "papermill": {
     "duration": 0.035527,
     "end_time": "2025-03-13T03:04:07.433664",
     "exception": false,
     "start_time": "2025-03-13T03:04:07.398137",
     "status": "completed"
    },
    "tags": []
   },
   "source": [
    "# スコア算出、まとめ、\n",
    "ここまでで提出ファイル作成。ここからは過去年度のシミュレーションに対してBrier scoreやその他指標の算出"
   ]
  },
  {
   "cell_type": "code",
   "execution_count": 38,
   "id": "a4ec1953",
   "metadata": {
    "execution": {
     "iopub.execute_input": "2025-03-13T03:04:07.495959Z",
     "iopub.status.busy": "2025-03-13T03:04:07.495959Z",
     "iopub.status.idle": "2025-03-13T03:04:07.839412Z",
     "shell.execute_reply": "2025-03-13T03:04:07.839412Z"
    },
    "papermill": {
     "duration": 0.377384,
     "end_time": "2025-03-13T03:04:07.841422",
     "exception": false,
     "start_time": "2025-03-13T03:04:07.464038",
     "status": "completed"
    },
    "tags": []
   },
   "outputs": [
    {
     "data": {
      "image/png": "[encoded data removed]",
      "text/plain": [
       "<Figure size 640x480 with 1 Axes>"
      ]
     },
     "metadata": {},
     "output_type": "display_data"
    }
   ],
   "source": [
    "sub[\"Pred\"].hist()\n",
    "results+=[\"\", f\"Pred mean: {sub['Pred'].mean()}\", \"\"]\n",
    "\n",
    "plt.figure(figsize=(8, 6))\n",
    "sub[\"Pred\"].hist(bins=50)\n",
    "plt.title(\"Prediction Histogram\")\n",
    "plt.xlabel(\"Pred\")\n",
    "plt.ylabel(\"Frequency\")\n",
    "plt.grid(True)\n",
    "\n",
    "# 画像として保存\n",
    "plt.savefig(os.path.join(OUTPUT_PATH, f\"Prediction_Histgram_{PREDICT_YEAR}.png\"))\n",
    "plt.close()"
   ]
  },
  {
   "cell_type": "markdown",
   "id": "2aa80c92",
   "metadata": {
    "papermill": {
     "duration": 0.034024,
     "end_time": "2025-03-13T03:04:07.910191",
     "exception": false,
     "start_time": "2025-03-13T03:04:07.876167",
     "status": "completed"
    },
    "tags": []
   },
   "source": [
    "存在するはずのない予測年度のトーナメント結果をもとに(Pred, label)を取り出し、以下を行う。\n",
    "\n",
    "- 各評価指標の計算\n",
    "- キャリブレーション可視化\n",
    "- AUC可視化"
   ]
  },
  {
   "cell_type": "code",
   "execution_count": 39,
   "id": "d2600e28",
   "metadata": {
    "execution": {
     "iopub.execute_input": "2025-03-13T03:04:07.987624Z",
     "iopub.status.busy": "2025-03-13T03:04:07.986625Z",
     "iopub.status.idle": "2025-03-13T03:04:08.000401Z",
     "shell.execute_reply": "2025-03-13T03:04:07.999297Z"
    },
    "papermill": {
     "duration": 0.053077,
     "end_time": "2025-03-13T03:04:08.001341",
     "exception": false,
     "start_time": "2025-03-13T03:04:07.948264",
     "status": "completed"
    },
    "tags": []
   },
   "outputs": [],
   "source": [
    "def extract_labels_and_preds(sub, tourney):\n",
    "    \"\"\" 試合データから予測値 (Pred) と正解ラベル (label) を抽出する \"\"\"\n",
    "    label_data = tourney[[\"WTeamID\", \"LTeamID\", \"WScore\", \"LScore\"]]\n",
    "    label_data = label_data.rename(columns={\"WTeamID\": \"T1_TeamID\", \"LTeamID\": \"T2_TeamID\", \"WScore\": \"T1_Score\", \"LScore\": \"T2_Score\"})\n",
    "    temp = label_data.copy()\n",
    "    temp = temp.rename(columns={\"T1_TeamID\": \"T2_TeamID\", \"T2_TeamID\": \"T1_TeamID\", \"T1_Score\": \"T2_Score\", \"T2_Score\": \"T1_Score\"})\n",
    "    label_data = pd.concat([label_data, temp]).reset_index(drop=True)\n",
    "    \n",
    "    label_data = pd.merge(label_data, sub, on=[\"T1_TeamID\", \"T2_TeamID\"], how=\"left\")\n",
    "    label_data[\"label\"] = np.where(label_data[\"T1_Score\"] - label_data[\"T2_Score\"] > 0, 1, 0)\n",
    "    label_data = label_data.dropna(subset=[\"Pred\"])  # 欠損値を削除\n",
    "    \n",
    "    return label_data[[\"label\", \"Pred\"]]\n",
    "\n",
    "def calculate_metrics(label_data):\n",
    "    \"\"\" 各評価指標を計算 \"\"\"\n",
    "    brier_score = round(mean_squared_error(label_data[\"label\"], label_data[\"Pred\"]), 5)  # Brier Score (MSEと同じ)\n",
    "    rmse_score = round(mean_squared_error(label_data[\"label\"], label_data[\"Pred\"], squared=False), 5)  # RMSE\n",
    "    logloss_score = round(log_loss(label_data[\"label\"], label_data[\"Pred\"]), 5)  # Log Loss\n",
    "    mae_score = round(mean_absolute_error(label_data[\"label\"], label_data[\"Pred\"]), 5)  # MAE\n",
    "    \n",
    "    return {\n",
    "        \"Brier Score\": brier_score,\n",
    "        \"RMSE\": rmse_score,\n",
    "        \"Log Loss\": logloss_score,\n",
    "        \"MAE\": mae_score\n",
    "    }\n",
    "\n",
    "def plot_calibration_curve(label_data, n_bins=10):\n",
    "    \"\"\" キャリブレーションカーブをプロット \"\"\"\n",
    "    prob_true, prob_pred = calibration_curve(label_data[\"label\"], label_data[\"Pred\"], n_bins=n_bins)\n",
    "    \n",
    "    plt.figure(figsize=(6,6))\n",
    "    plt.plot(prob_pred, prob_true, marker=\"o\", label=\"Model Calibration\")\n",
    "    plt.plot([0, 1], [0, 1], linestyle=\"--\", label=\"Perfect Calibration\")\n",
    "    plt.xlabel(\"Predicted Probability\")\n",
    "    plt.ylabel(\"Actual Probability\")\n",
    "    plt.legend()\n",
    "    plt.title(\"Calibration Curve\")\n",
    "    plt.show()\n",
    "\n",
    "def calculate_auc_metrics(label_data):\n",
    "    global results\n",
    "    \"\"\" AUC-ROCとAUC-PRを計算 \"\"\"\n",
    "    auc_roc = roc_auc_score(label_data[\"label\"], label_data[\"Pred\"])\n",
    "    auc_pr = average_precision_score(label_data[\"label\"], label_data[\"Pred\"])\n",
    "    \n",
    "    print(f\"AUC-ROC: {auc_roc:.4f}\")\n",
    "    print(f\"AUC-PR: {auc_pr:.4f}\")\n",
    "    results += [\"---- AUC -----\", f\"AUC-ROC: {auc_roc:.4f}\", f\"AUC-PR: {auc_pr:.4f}\"]\n",
    "    "
   ]
  },
  {
   "cell_type": "code",
   "execution_count": 40,
   "id": "752fdee0",
   "metadata": {
    "execution": {
     "iopub.execute_input": "2025-03-13T03:04:08.074071Z",
     "iopub.status.busy": "2025-03-13T03:04:08.073156Z",
     "iopub.status.idle": "2025-03-13T03:04:08.240651Z",
     "shell.execute_reply": "2025-03-13T03:04:08.240139Z"
    },
    "papermill": {
     "duration": 0.213405,
     "end_time": "2025-03-13T03:04:08.242663",
     "exception": false,
     "start_time": "2025-03-13T03:04:08.029258",
     "status": "completed"
    },
    "tags": []
   },
   "outputs": [
    {
     "name": "stderr",
     "output_type": "stream",
     "text": [
      "C:\\Users\\81809\\anaconda3\\envs\\deep_learning_pytorch\\Lib\\site-packages\\sklearn\\metrics\\_regression.py:492: FutureWarning: 'squared' is deprecated in version 1.4 and will be removed in 1.6. To calculate the root mean squared error, use the function'root_mean_squared_error'.\n",
      "  warnings.warn(\n"
     ]
    },
    {
     "data": {
      "image/png": "[encoded data removed]",
      "text/plain": [
       "<Figure size 600x600 with 1 Axes>"
      ]
     },
     "metadata": {},
     "output_type": "display_data"
    },
    {
     "name": "stdout",
     "output_type": "stream",
     "text": [
      "AUC-ROC: 0.7948\n",
      "AUC-PR: 0.8044\n",
      "MAE: 0.34499\n",
      "\n",
      "---- AUC -----\n",
      "AUC-ROC: 0.7948\n",
      "AUC-PR: 0.8044\n"
     ]
    }
   ],
   "source": [
    "if PREDICT_YEAR == 2022:\n",
    "    notexist_MAN = notexist[notexist[\"WTeamID\"].astype(str).str.startswith(\"1\")]\n",
    "    notexist_WOMAN = notexist[notexist[\"WTeamID\"].astype(str).str.startswith(\"3\")]\n",
    "    label_data = extract_labels_and_preds(sub, notexist) ######\n",
    "else:\n",
    "    label_data = extract_labels_and_preds(sub, notexist)\n",
    "\n",
    "# 評価指標の計算\n",
    "score = calculate_metrics(label_data)\n",
    "results += [\"\",\"-----eval metrics-----\",\n",
    "            f\"Brier Score: {score['Brier Score']}\", \n",
    "            f\"RMSE: {score['RMSE']}\", \n",
    "            f\"Log Loss: {score['Log Loss']}\", \n",
    "            f\"MAE: {score['MAE']}\", \"\"]\n",
    "\n",
    "# キャリブレーションの確認\n",
    "plot_calibration_curve(label_data)\n",
    "\n",
    "# AUCの評価\n",
    "calculate_auc_metrics(label_data)\n",
    "\n",
    "for temp in range(-5, 0):\n",
    "    print(results[temp])"
   ]
  },
  {
   "cell_type": "code",
   "execution_count": 41,
   "id": "0adefcee",
   "metadata": {
    "execution": {
     "iopub.execute_input": "2025-03-13T03:04:08.313001Z",
     "iopub.status.busy": "2025-03-13T03:04:08.313001Z",
     "iopub.status.idle": "2025-03-13T03:04:08.321950Z",
     "shell.execute_reply": "2025-03-13T03:04:08.321950Z"
    },
    "papermill": {
     "duration": 0.044537,
     "end_time": "2025-03-13T03:04:08.321950",
     "exception": false,
     "start_time": "2025-03-13T03:04:08.277413",
     "status": "completed"
    },
    "tags": []
   },
   "outputs": [
    {
     "data": {
      "text/plain": [
       "'if PREDICT_YEAR!=2025:\\n    predict_year_label =notexist[[\"WTeamID\", \"LTeamID\", \"WScore\", \"LScore\"]].copy()\\n    predict_year_label.loc[:, \"Win\"] = np.where(predict_year_label[\"WScore\"] - predict_year_label[\"LScore\"] > 0, 1, 0)\\n    predict_year_label = predict_year_label[[\"WTeamID\", \"LTeamID\", \"Win\"]]\\n   \\n    predict_year_label.columns = [\"T1_TeamID\", \"T2_TeamID\", \"Win\"]\\n\\n    predict_year_label = pd.merge(predict_year_label, sub, on=[\"T1_TeamID\", \"T2_TeamID\"], how=\"left\")\\n    brier_score = np.mean((predict_year_label[\"Pred\"] - predict_year_label[\"Win\"])**2)\\n\\n    print(\"Brier Score:\", brier_score)\\n    results+=[f\"Brier Score: {brier_score}\", \"\"]\\n    predict_year_label.info()\\n'"
      ]
     },
     "execution_count": 41,
     "metadata": {},
     "output_type": "execute_result"
    }
   ],
   "source": [
    "\"\"\"if PREDICT_YEAR!=2025:\n",
    "    predict_year_label =notexist[[\"WTeamID\", \"LTeamID\", \"WScore\", \"LScore\"]].copy()\n",
    "    predict_year_label.loc[:, \"Win\"] = np.where(predict_year_label[\"WScore\"] - predict_year_label[\"LScore\"] > 0, 1, 0)\n",
    "    predict_year_label = predict_year_label[[\"WTeamID\", \"LTeamID\", \"Win\"]]\n",
    "   \n",
    "    predict_year_label.columns = [\"T1_TeamID\", \"T2_TeamID\", \"Win\"]\n",
    "\n",
    "    predict_year_label = pd.merge(predict_year_label, sub, on=[\"T1_TeamID\", \"T2_TeamID\"], how=\"left\")\n",
    "    brier_score = np.mean((predict_year_label[\"Pred\"] - predict_year_label[\"Win\"])**2)\n",
    "\n",
    "    print(\"Brier Score:\", brier_score)\n",
    "    results+=[f\"Brier Score: {brier_score}\", \"\"]\n",
    "    predict_year_label.info()\n",
    "\"\"\""
   ]
  },
  {
   "cell_type": "code",
   "execution_count": 42,
   "id": "52a5e784",
   "metadata": {
    "execution": {
     "iopub.execute_input": "2025-03-13T03:04:08.400306Z",
     "iopub.status.busy": "2025-03-13T03:04:08.400306Z",
     "iopub.status.idle": "2025-03-13T03:04:08.407431Z",
     "shell.execute_reply": "2025-03-13T03:04:08.407431Z"
    },
    "papermill": {
     "duration": 0.049931,
     "end_time": "2025-03-13T03:04:08.410504",
     "exception": false,
     "start_time": "2025-03-13T03:04:08.360573",
     "status": "completed"
    },
    "tags": []
   },
   "outputs": [
    {
     "name": "stdout",
     "output_type": "stream",
     "text": [
      "実行時間： 946.4秒\n"
     ]
    }
   ],
   "source": [
    "END_TIME = time.time()\n",
    "ELAPSED_TIME = END_TIME - START_TIME\n",
    "print(f\"実行時間： {ELAPSED_TIME:.1f}秒\")\n",
    "results.append(f\"実行時間： {ELAPSED_TIME:.1f}秒\")\n",
    "\n",
    "with open(os.path.join(OUTPUT_PATH, \"result.txt\"), \"a\", encoding=\"utf-8\") as f:\n",
    "    for line in results:\n",
    "        f.write(line + \"\\n\")"
   ]
  },
  {
   "cell_type": "code",
   "execution_count": 43,
   "id": "87c3c45f",
   "metadata": {
    "execution": {
     "iopub.execute_input": "2025-03-13T03:04:08.478276Z",
     "iopub.status.busy": "2025-03-13T03:04:08.478276Z",
     "iopub.status.idle": "2025-03-13T03:04:08.483197Z",
     "shell.execute_reply": "2025-03-13T03:04:08.483197Z"
    },
    "papermill": {
     "duration": 0.043765,
     "end_time": "2025-03-13T03:04:08.483197",
     "exception": false,
     "start_time": "2025-03-13T03:04:08.439432",
     "status": "completed"
    },
    "tags": []
   },
   "outputs": [],
   "source": [
    "logger.remove()"
   ]
  }
 ],
 "metadata": {
  "kernelspec": {
   "display_name": "deep_learning_pytorch",
   "language": "python",
   "name": "python3"
  },
  "language_info": {
   "codemirror_mode": {
    "name": "ipython",
    "version": 3
   },
   "file_extension": ".py",
   "mimetype": "text/x-python",
   "name": "python",
   "nbconvert_exporter": "python",
   "pygments_lexer": "ipython3",
   "version": "3.11.9"
  },
  "papermill": {
   "default_parameters": {},
   "duration": 951.415772,
   "end_time": "2025-03-13T03:04:09.385454",
   "environment_variables": {},
   "exception": null,
   "input_path": "c:\\Users\\81809\\Documents\\ALL_CODE\\kaggle\\March Machine Learning Mania 2025\\notebook\\1stplace_solution_2023.ipynb",
   "output_path": "exp039_20250313_114817.ipynb",
   "parameters": {
    "EXP_NUM": "exp039"
   },
   "start_time": "2025-03-13T02:48:17.969682",
   "version": "2.6.0"
  }
 },
 "nbformat": 4,
 "nbformat_minor": 5
}