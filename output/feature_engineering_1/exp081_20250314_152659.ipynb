{
 "cells": [
  {
   "cell_type": "code",
   "execution_count": 1,
   "id": "e882eaa9",
   "metadata": {
    "execution": {
     "iopub.execute_input": "2025-03-14T06:27:01.873266Z",
     "iopub.status.busy": "2025-03-14T06:27:01.873266Z",
     "iopub.status.idle": "2025-03-14T06:27:01.884164Z",
     "shell.execute_reply": "2025-03-14T06:27:01.884164Z"
    },
    "papermill": {
     "duration": 0.012895,
     "end_time": "2025-03-14T06:27:01.884164",
     "exception": false,
     "start_time": "2025-03-14T06:27:01.871269",
     "status": "completed"
    },
    "tags": [
     "parameters"
    ]
   },
   "outputs": [],
   "source": [
    "# Parameters\n",
    "EXP_NUM = \"default\""
   ]
  },
  {
   "cell_type": "code",
   "execution_count": 2,
   "id": "4886f1fe",
   "metadata": {
    "execution": {
     "iopub.execute_input": "2025-03-14T06:27:01.889016Z",
     "iopub.status.busy": "2025-03-14T06:27:01.889016Z",
     "iopub.status.idle": "2025-03-14T06:27:01.901209Z",
     "shell.execute_reply": "2025-03-14T06:27:01.901209Z"
    },
    "papermill": {
     "duration": 0.012193,
     "end_time": "2025-03-14T06:27:01.901209",
     "exception": false,
     "start_time": "2025-03-14T06:27:01.889016",
     "status": "completed"
    },
    "tags": [
     "injected-parameters"
    ]
   },
   "outputs": [],
   "source": [
    "# Parameters\n",
    "EXP_NUM = \"exp081\"\n"
   ]
  },
  {
   "cell_type": "markdown",
   "id": "e4cfca20",
   "metadata": {
    "papermill": {
     "duration": 0.001998,
     "end_time": "2025-03-14T06:27:01.911525",
     "exception": false,
     "start_time": "2025-03-14T06:27:01.909527",
     "status": "completed"
    },
    "tags": []
   },
   "source": [
    "# 2023 1st place solution\n",
    "[kaggle notebook](https://www.kaggle.com/code/rustyb/paris-madness-2023#Load-the-data!)"
   ]
  },
  {
   "cell_type": "markdown",
   "id": "56e295b3",
   "metadata": {
    "papermill": {
     "duration": 0.012221,
     "end_time": "2025-03-14T06:27:01.923746",
     "exception": false,
     "start_time": "2025-03-14T06:27:01.911525",
     "status": "completed"
    },
    "tags": []
   },
   "source": [
    "# コードの流れ\n",
    "1. hydraからハイパラ取得し、パスなどを設定\n",
    "\n",
    "    regular&tourney Detaile Result, Seedを使用し、tourneyを目的変数としてモデルを予測していく\n",
    "\n",
    "    regular_data->season_statistics->\n",
    "\n",
    "    以下の前処理をする\n",
    "\n",
    "2. データ２倍にかさまし\n",
    "3. regularに対して特徴量の追加\n",
    "    各チームごとに加えるもの\n",
    "   - EFFG: フィールドゴール成功率\n",
    "   - EFFG3: フィールドゴール3p成功率\n",
    "   - DARE: フィールドゴールにおける3P率\n",
    "   - \"win\"を目的変数とする(Team, Season)のロジスティック回帰した各係数\n",
    "    対戦カードごとに加える特徴量\n",
    "    - PointDiff: ポイント差\n",
    "    - win: 1 if PointDiff>0 else 0\n",
    "4. (Team, Season)ごとに特徴量season_statixtics追加\n",
    "    - win_ratio_14d\n",
    "    - box score mean\n",
    "    - quality\n",
    "    - seed\n",
    "5. season_average.enabled=trueなら直近３シーズンの加重平均の処理加える\n",
    "6. tourneyをteamID, Season, score(y)のみ取り出してこれに対してseason_statisticsの結合と特徴量微調整\n",
    "   - seed->seeddiff\n",
    "   - fillna()\n",
    "\n",
    "7. モデル構築\n",
    "8. KFOLD->OOF予測->spline曲線求めてlogloss算出\n",
    "    - KFOLDによる交差検証（CV）\n",
    "        repeat_cv 回のループで、各反復ごとにKFold（folds_splits個）によりデータを分割し、XGBoostのCVを実行しています。\n",
    "        各foldでの結果（例えば、訓練MAE、検証MAEの平均値や標準偏差）がcv_resultとして得られ、それをxgb_cvリストに格納します。\n",
    "        この段階で重要なのは、各反復での検証用MAEの平均値 (test-mae-mean) の最小値と、そのときのブーストラウンド数です。\n",
    "        それらは後で、最適なイテレーション数 (iteration_counts) として計算され、val_mae にも格納されます。\n",
    "    - OOF予測の流れ\n",
    "\n",
    "        各反復ごとに、新たなKFoldを用いてデータを分割。\n",
    "        各foldごとに、学習データでモデルを訓練し、検証データに対して予測を実施。\n",
    "        すべてのfold分の予測結果を1つの予測配列にまとめ、最後に -30～30 の範囲にクリップしています。\n",
    "        重要な結果\n",
    "\n",
    "        OOF予測結果（oof_preds）自体は後段で別途評価指標に使用できるほか、各反復ごとの予測精度や誤差を算出する際の基礎データ\n",
    "9.  提出フェーズ\n",
    "    - 最適paramで全データ使って訓練\n",
    "    - 提出試合の予測"
   ]
  },
  {
   "cell_type": "markdown",
   "id": "a632730d",
   "metadata": {
    "papermill": {
     "duration": 0.005151,
     "end_time": "2025-03-14T06:27:01.939265",
     "exception": false,
     "start_time": "2025-03-14T06:27:01.934114",
     "status": "completed"
    },
    "tags": []
   },
   "source": [
    "memo\n",
    "\n",
    "欠損値が発生していいのか検討して保管について考える\n",
    "seedがかけているのはregularに対してseedを与えているから大丈夫。最終的なtourneyには欠損０で追加できているから問題ない"
   ]
  },
  {
   "cell_type": "code",
   "execution_count": 3,
   "id": "f3ef1eec",
   "metadata": {
    "execution": {
     "iopub.execute_input": "2025-03-14T06:27:01.952544Z",
     "iopub.status.busy": "2025-03-14T06:27:01.951550Z",
     "iopub.status.idle": "2025-03-14T06:27:05.761477Z",
     "shell.execute_reply": "2025-03-14T06:27:05.760914Z"
    },
    "papermill": {
     "duration": 3.818001,
     "end_time": "2025-03-14T06:27:05.762547",
     "exception": false,
     "start_time": "2025-03-14T06:27:01.944546",
     "status": "completed"
    },
    "tags": []
   },
   "outputs": [
    {
     "name": "stderr",
     "output_type": "stream",
     "text": [
      "C:\\Users\\81809\\anaconda3\\envs\\deep_learning_pytorch\\Lib\\site-packages\\tqdm\\auto.py:21: TqdmWarning: IProgress not found. Please update jupyter and ipywidgets. See https://ipywidgets.readthedocs.io/en/stable/user_install.html\n",
      "  from .autonotebook import tqdm as notebook_tqdm\n"
     ]
    },
    {
     "name": "stdout",
     "output_type": "stream",
     "text": [
      "exp081\n",
      "Omega conf is below\n",
      "dir:\n",
      "  input_dir: ../input\n",
      "  output_dir: ../output\n",
      "  src_path: ../src\n",
      "  conf_path: ../conf\n",
      "exp:\n",
      "  name: feature_engineering_1\n",
      "  print_name: 'best model (3/14): extract feature '\n",
      "  tournament:\n",
      "    use_start_season: 1985\n",
      "    target_season: 2019\n",
      "  features:\n",
      "    cal_mean_boxscore:\n",
      "      T1_Score: true\n",
      "      T2_Score: true\n",
      "      PointDiff: true\n",
      "      T1_FGM: true\n",
      "      T2_FGM: true\n",
      "      T1_FGA: true\n",
      "      T2_FGA: true\n",
      "      T1_FGM3: false\n",
      "      T2_FGM3: false\n",
      "      T1_FGA3: false\n",
      "      T2_FGA3: false\n",
      "      T1_FTM: false\n",
      "      T2_FTM: false\n",
      "      T1_FTA: false\n",
      "      T2_FTA: false\n",
      "      T1_EFFG: false\n",
      "      T2_EFFG: false\n",
      "      T1_EFFG3: false\n",
      "      T2_EFFG3: false\n",
      "      T1_EFG_SUM: true\n",
      "      T2_EFG_SUM: true\n",
      "      T1_TO_RATIO: true\n",
      "      T2_TO_RATIO: true\n",
      "      T1_OR: true\n",
      "      T2_OR: true\n",
      "      T1_DR: true\n",
      "      T2_DR: true\n",
      "      T1_REB_RATE: true\n",
      "      T2_REB_RATE: true\n",
      "      T1_FT_RATE: true\n",
      "      T2_FT_RATE: true\n",
      "      T1_RATING: false\n",
      "      T2_RATING: false\n",
      "      T1_POSS_RATE: true\n",
      "      T2_POSS_RATE: true\n",
      "      T1_Ast: true\n",
      "      T2_Ast: true\n",
      "      T1_TO: true\n",
      "      T2_TO: true\n",
      "      T1_Stl: true\n",
      "      T2_Stl: true\n",
      "      T1_Blk: true\n",
      "      T2_Blk: true\n",
      "      T1_PF: true\n",
      "      T2_PF: true\n",
      "      T1_DARE: false\n",
      "      T2_DARE: false\n",
      "      T1_TOQUETOQUE: false\n",
      "      T2_TOQUETOQUE: false\n",
      "    rank_diff: true\n",
      "    start_quality_season: 2003\n",
      "    dropfeatures:\n",
      "    - T1_TOmean\n",
      "    - T2_TOmean\n",
      "    - T1_opponent_POSS_RATEmean\n",
      "    - T2_opponent_POSS_RATEmean\n",
      "    - T1_opponent_Astmean\n",
      "    - T2_opponent_Astmean\n",
      "    - T1_opponent_FT_RATEmean\n",
      "    - T2_opponent_FT_RATEmean\n",
      "    - T1_opponent_Stlmean\n",
      "    - T2_opponent_Stlmean\n",
      "    - T1_ORmean\n",
      "    - T2_ORmean\n",
      "    - T1_opponent_ORmean\n",
      "    - T2_opponent_ORmean\n",
      "    season_average:\n",
      "      enabled: false\n",
      "      past_years: 3\n",
      "      weights:\n",
      "      - 1\n",
      "      - 2\n",
      "      - 3\n",
      "    fillna:\n",
      "      quality: 'nan'\n",
      "  model:\n",
      "    repeat_cv: 10\n",
      "    optuna_enabled: false\n",
      "    test_reverse: false\n",
      "    xgb_model:\n",
      "      param:\n",
      "        eval_metric: rmse\n",
      "        booster: gbtree\n",
      "        eta: 0.02\n",
      "        subsample: 0.35\n",
      "        colsample_bytree: 0.7\n",
      "        num_parallel_tree: 10\n",
      "        min_child_weight: 40\n",
      "        gamma: 10\n",
      "        max_depth: 3\n",
      "      obj: cauchyoj\n",
      "      num_boost_round: 3000\n",
      "      folds_splits: 5\n",
      "      early_stopping_rounds: 25\n",
      "      optuna:\n",
      "        max_depth:\n",
      "        - 3\n",
      "        - 7\n",
      "        eta:\n",
      "        - 0.001\n",
      "        - 0.03\n",
      "        subsample:\n",
      "        - 0.2\n",
      "        - 0.5\n",
      "        colsample_bytree:\n",
      "        - 0.5\n",
      "        - 1.0\n",
      "        num_parallel_tree:\n",
      "        - 7\n",
      "        - 12\n",
      "        min_child_weight:\n",
      "        - 30\n",
      "        - 50\n",
      "        reg_alpha:\n",
      "        - 0.0\n",
      "        - 1.0\n",
      "        reg_lambda:\n",
      "        - 0.0\n",
      "        - 1.0\n",
      "        gamma:\n",
      "        - 0\n",
      "        - 10\n",
      "        n_trials: 1000\n",
      "        timeout: 28800\n",
      "        n_jobs: -1\n",
      "        n_warmup_steps: 3\n",
      "    spline: logistic\n",
      "  hand_labeling: null\n",
      "\n"
     ]
    }
   ],
   "source": [
    "\n",
    "import os\n",
    "import sys\n",
    "from pathlib import Path\n",
    "import collections\n",
    "from datetime import datetime\n",
    "import shutil\n",
    "import yaml\n",
    "from tqdm import tqdm\n",
    "import time\n",
    "import optuna\n",
    "from loguru import logger\n",
    "import collections\n",
    "\n",
    "from hydra import initialize, initialize_config_module, initialize_config_dir, compose\n",
    "from omegaconf import OmegaConf\n",
    "\n",
    "import numpy as np\n",
    "import pandas as pd\n",
    "import matplotlib.pyplot as plt\n",
    "import seaborn as sns\n",
    "from scipy.interpolate import UnivariateSpline\n",
    "\n",
    "import xgboost as xgb\n",
    "from xgboost import XGBRegressor\n",
    "from sklearn.model_selection import KFold\n",
    "from sklearn.calibration import calibration_curve\n",
    "from sklearn.metrics import log_loss,mean_squared_error, mean_absolute_error, roc_auc_score, average_precision_score\n",
    "from sklearn.metrics import make_scorer\n",
    "from sklearn.model_selection import cross_val_score, KFold\n",
    "from sklearn.linear_model import LogisticRegression\n",
    "from sklearn.preprocessing import OneHotEncoder\n",
    "from sklearn.isotonic import IsotonicRegression\n",
    "\n",
    "import statsmodels.api as sm\n",
    "\n",
    "START_TIME = time.time()\n",
    "\n",
    "\n",
    "#####\n",
    "#EXP_NUM = \"test\"\n",
    "#####\n",
    "print(EXP_NUM)\n",
    "\n",
    "# hydraの初期設定と指定ハイパラの取得\n",
    "sys.path.append(os.path.abspath(\"/workspace\"))\n",
    "sys.path.append(\"C:\\\\Users\\\\81809\\\\Documents\\\\ALL_CODE\\\\kaggle\\\\March Machine Learning Mania 2025\")\n",
    "with initialize_config_module(version_base=None, config_module=\"conf\"):\n",
    "    cfg = compose(\n",
    "        config_name=\"base.yaml\",\n",
    "        overrides=[\n",
    "            f\"+exp={EXP_NUM}\" #defaultexp001->exp002のオーバーライド\n",
    "        ],\n",
    "    )\n",
    "    \n",
    "    OmegaConf.resolve(cfg)\n",
    "    print(\"Omega conf is below\")\n",
    "    print(OmegaConf.to_yaml(cfg))\n"
   ]
  },
  {
   "cell_type": "code",
   "execution_count": 4,
   "id": "ab9c2664",
   "metadata": {
    "execution": {
     "iopub.execute_input": "2025-03-14T06:27:05.781254Z",
     "iopub.status.busy": "2025-03-14T06:27:05.780199Z",
     "iopub.status.idle": "2025-03-14T06:27:05.799766Z",
     "shell.execute_reply": "2025-03-14T06:27:05.799766Z"
    },
    "papermill": {
     "duration": 0.029233,
     "end_time": "2025-03-14T06:27:05.799766",
     "exception": false,
     "start_time": "2025-03-14T06:27:05.770533",
     "status": "completed"
    },
    "tags": []
   },
   "outputs": [
    {
     "name": "stdout",
     "output_type": "stream",
     "text": [
      "########\n",
      "output dir name: feature_engineering_1\n",
      "Run on 2025-03-14 15:27:05.784289\n",
      "best model (3/14): extract feature \n",
      "########\n"
     ]
    }
   ],
   "source": [
    "PREDICT_YEAR = cfg.exp.tournament.target_season\n",
    "name = f\"{cfg.exp.name}\"\n",
    "now = str(datetime.now())\n",
    "print(\"########\")\n",
    "print(f\"output dir name: {name}\")\n",
    "print(f\"Run on {now}\")\n",
    "print(cfg.exp.print_name)\n",
    "print(\"########\")\n",
    "\n",
    "BASE_DIR = os.path.abspath(os.path.join(os.getcwd(), \"..\"))\n",
    "CONF_PATH = os.path.join(BASE_DIR, \"conf\")\n",
    "INPUT_PATH = os.path.join(BASE_DIR, \"input\")\n",
    "EXP_PATH = os.path.join(CONF_PATH, \"exp\", f\"{EXP_NUM}.yaml\")\n",
    "OUTPUT_PATH = os.path.join(BASE_DIR, \"output\", name)\n",
    "SRC_PATH = cfg.dir.src_path\n",
    "sys.path.append(SRC_PATH)\n",
    "\n",
    "os.makedirs(OUTPUT_PATH, exist_ok=True)  \n",
    "with open(EXP_PATH, \"r\", encoding=\"utf-8\") as f:\n",
    "    config = yaml.safe_load(f)\n",
    "shutil.copyfile(EXP_PATH, os.path.join(OUTPUT_PATH, f\"{EXP_NUM}.yaml\"))\n",
    "\n",
    "\n",
    "y_season = cfg.exp.tournament.target_season\n",
    "FEATURES = cfg.exp.features\n",
    "MODEL = cfg.exp.model\n",
    "results = [\"\", f\"-----{PREDICT_YEAR}-----\", now ,name, cfg.exp.print_name,\"\"]"
   ]
  },
  {
   "cell_type": "code",
   "execution_count": 5,
   "id": "6614671b",
   "metadata": {
    "execution": {
     "iopub.execute_input": "2025-03-14T06:27:05.807534Z",
     "iopub.status.busy": "2025-03-14T06:27:05.807534Z",
     "iopub.status.idle": "2025-03-14T06:27:07.937782Z",
     "shell.execute_reply": "2025-03-14T06:27:07.937782Z"
    },
    "papermill": {
     "duration": 2.130248,
     "end_time": "2025-03-14T06:27:07.937782",
     "exception": false,
     "start_time": "2025-03-14T06:27:05.807534",
     "status": "completed"
    },
    "tags": []
   },
   "outputs": [],
   "source": [
    "tourney_results = pd.concat([\n",
    "    pd.read_csv(os.path.join(INPUT_PATH,\"MNCAATourneyDetailedResults.csv\")),\n",
    "    pd.read_csv(os.path.join(INPUT_PATH,\"WNCAATourneyDetailedResults.csv\")),\n",
    "], ignore_index=True)\n",
    "\n",
    "seeds = pd.concat([\n",
    "    pd.read_csv(os.path.join(INPUT_PATH,\"MNCAATourneySeeds.csv\")),\n",
    "    pd.read_csv(os.path.join(INPUT_PATH,\"WNCAATourneySeeds.csv\")),\n",
    "], ignore_index=True)\n",
    "\n",
    "regular_results = pd.concat([\n",
    "    pd.read_csv(os.path.join(INPUT_PATH, \"MRegularSeasonDetailedResults.csv\")),\n",
    "    pd.read_csv(os.path.join(INPUT_PATH,\"WRegularSeasonDetailedResults.csv\")),\n",
    "], ignore_index=True)\n",
    "\n",
    "ordinal_rank = pd.read_csv(os.path.join(INPUT_PATH, \"MMasseyOrdinals.csv\"))\n",
    "\n",
    "# 1試合情報からWin,Lose反転させてデータ数２倍にかさまし and WLoc -> location(0 or -1 or 1)\n",
    "def prepare_data(df1):\n",
    "    df = df1.copy()\n",
    "    ### add new box score\n",
    "    #type1: normal EFG\n",
    "    df['WEFFG'] = df['WFGM'] / df['WFGA']\n",
    "    df['LEFFG'] = df['LFGM'] / df['LFGA']\n",
    "    #type2: 1stfeature EFG\n",
    "    df['WEFFG3'] = np.where(df['WFGA3'] == 0, 0, df['WFGM3'] / df['WFGA3'])\n",
    "    df['LEFFG3'] = np.where(df['LFGA3'] == 0, 0, df['LFGM3'] / df['LFGA3'])\n",
    "    df['WDARE'] = df['WFGM3'] / df['WFGM']\n",
    "    df['LDARE'] = df['LFGM3'] / df['LFGM']\n",
    "    df['WTOQUETOQUE'] = df['WAst'] / df['WFGM']\n",
    "    df['LTOQUETOQUE'] = df['LAst'] / df['LFGM']\n",
    "    #type3: OFF/DEF FGE\n",
    "    df[\"WEFG_SUM\"] = (df[\"WFGM\"]+0.5*df[\"WFGM3\"])/df[\"WFGA\"]\n",
    "    df[\"LEFG_SUM\"] = (df[\"LFGM\"]+0.5*df[\"LFGM3\"])/df[\"LFGA\"]\n",
    "\n",
    "    #POSS RATE\n",
    "    df[\"WPOSS\"] = df[\"WFGA\"] + 0.44*df[\"WFTA\"] - df[\"WOR\"] + df[\"WTO\"]\n",
    "    df[\"LPOSS\"] = df[\"LFGA\"] + 0.44*df[\"LFTA\"] - df[\"LOR\"] + df[\"LTO\"]\n",
    "    df[\"WPOSS_RATE\"] = df[\"WPOSS\"]/(df[\"WPOSS\"]+df[\"LPOSS\"])\n",
    "    df[\"LPOSS_RATE\"] = df[\"LPOSS\"]/(df[\"WPOSS\"]+df[\"LPOSS\"])\n",
    "    \n",
    "    #TO Ratio \n",
    "    df[\"WTO_RATIO\"] = df[\"WTO\"]/(df[\"WFGA\"]+0.44*df[\"WFTA\"]+df[\"WTO\"])#POSS RATEと違ってOR入っていない\n",
    "    df[\"LTO_RATIO\"] = df[\"LTO\"]/(df[\"LFGA\"]+0.44*df[\"LFTA\"]+df[\"LTO\"])\n",
    "    \n",
    "    # REB%\n",
    "    df[\"WREB_RATE\"] = df[\"WOR\"]/(df[\"WOR\"]+df[\"LDR\"])\n",
    "    df[\"LREB_RATE\"] = df[\"LOR\"]/(df[\"LOR\"]+df[\"WDR\"])\n",
    "    \n",
    "    #FT %\n",
    "    df[\"WFT_RATE\"] = df[\"WFTA\"]/df[\"WFGA\"]\n",
    "    df[\"LFT_RATE\"] = df[\"LFTA\"]/df[\"LFGA\"]\n",
    "    \n",
    "    #rating\n",
    "    df[\"WRATING\"] = df[\"WScore\"]/df[\"WPOSS\"]\n",
    "    df[\"LRATING\"] = df[\"LScore\"]/df[\"LPOSS\"]\n",
    "        \n",
    "    #0除算補完\n",
    "    print(df.info())\n",
    "        \n",
    "    #かさましに伴う反転カラム\n",
    "    dfswap = df.copy()\n",
    "    # Home, Away変換して反転\n",
    "    dfswap.loc[df['WLoc'] == 'H', 'WLoc'] = 'A'\n",
    "    dfswap.loc[df['WLoc'] == 'A', 'WLoc'] = 'H'\n",
    "    df.columns.values[6] = 'location'\n",
    "    dfswap.columns.values[6] = 'location'    \n",
    "    #反転\n",
    "    df.columns = [x.replace('W','T1_').replace('L','T2_') for x in list(df.columns)]\n",
    "    dfswap.columns = [x.replace('L','T1_').replace('W','T2_') for x in list(dfswap.columns)]\n",
    "    output = pd.concat([df, dfswap]).reset_index(drop=True)\n",
    "    \n",
    "    \n",
    "    #add new feature\n",
    "    #locationを数値に変換\n",
    "    output.loc[output.location=='N','location'] = '0'\n",
    "    output.loc[output.location=='H','location'] = '1'\n",
    "    output.loc[output.location=='A','location'] = '-1'\n",
    "    output.location = output.location.astype(int)\n",
    "    \n",
    "    #add PointDiff&win\n",
    "    output['PointDiff'] = output['T1_Score'] - output['T2_Score']\n",
    "    output[\"win\"] = np.where(output['PointDiff']>0,1,0)\n",
    "    \n",
    "    \n",
    "    print(f\"feature cols after prepare()\")\n",
    "    print(output.columns)\n",
    "    return output\n",
    "\n"
   ]
  },
  {
   "cell_type": "code",
   "execution_count": 6,
   "id": "8b3b16a9",
   "metadata": {
    "execution": {
     "iopub.execute_input": "2025-03-14T06:27:07.961278Z",
     "iopub.status.busy": "2025-03-14T06:27:07.961278Z",
     "iopub.status.idle": "2025-03-14T06:27:08.036437Z",
     "shell.execute_reply": "2025-03-14T06:27:08.035869Z"
    },
    "papermill": {
     "duration": 0.10072,
     "end_time": "2025-03-14T06:27:08.038502",
     "exception": false,
     "start_time": "2025-03-14T06:27:07.937782",
     "status": "completed"
    },
    "tags": []
   },
   "outputs": [
    {
     "name": "stdout",
     "output_type": "stream",
     "text": [
      "各カラムの異常値の個数を表示します。\n",
      "\n"
     ]
    }
   ],
   "source": [
    "import numpy as np\n",
    "\n",
    "# 異常値のチェック\n",
    "def check_abnormal_values(df):\n",
    "    print(\"各カラムの異常値の個数を表示します。\\n\")\n",
    "\n",
    "    for col in df.columns:\n",
    "        nan_count = df[col].isna().sum()  # NaN の数\n",
    "        inf_count = (df[col] == np.inf).sum()  # inf の数\n",
    "        neg_inf_count = (df[col] == -np.inf).sum()  # -inf の数\n",
    "\n",
    "        if nan_count > 0 or inf_count > 0 or neg_inf_count > 0:\n",
    "            print(f\"Column: {col}\")\n",
    "            print(f\"  NaN    : {nan_count}\")\n",
    "            print(f\"  Inf    : {inf_count}\")\n",
    "            print(f\"  -Inf   : {neg_inf_count}\")\n",
    "            print(\"-\" * 30)\n",
    "\n",
    "# 関数を実行\n",
    "check_abnormal_values(regular_results)\n"
   ]
  },
  {
   "cell_type": "code",
   "execution_count": 7,
   "id": "cd05c661",
   "metadata": {
    "execution": {
     "iopub.execute_input": "2025-03-14T06:27:08.055782Z",
     "iopub.status.busy": "2025-03-14T06:27:08.055782Z",
     "iopub.status.idle": "2025-03-14T06:27:08.642330Z",
     "shell.execute_reply": "2025-03-14T06:27:08.641767Z"
    },
    "papermill": {
     "duration": 0.596562,
     "end_time": "2025-03-14T06:27:08.643350",
     "exception": false,
     "start_time": "2025-03-14T06:27:08.046788",
     "status": "completed"
    },
    "tags": []
   },
   "outputs": [
    {
     "name": "stdout",
     "output_type": "stream",
     "text": [
      "<class 'pandas.core.frame.DataFrame'>\n",
      "Index: 139193 entries, 0 to 170137\n",
      "Data columns (total 56 columns):\n",
      " #   Column       Non-Null Count   Dtype  \n",
      "---  ------       --------------   -----  \n",
      " 0   Season       139193 non-null  int64  \n",
      " 1   DayNum       139193 non-null  int64  \n",
      " 2   WTeamID      139193 non-null  int64  \n",
      " 3   WScore       139193 non-null  int64  \n",
      " 4   LTeamID      139193 non-null  int64  \n",
      " 5   LScore       139193 non-null  int64  \n",
      " 6   WLoc         139193 non-null  object \n",
      " 7   NumOT        139193 non-null  int64  \n",
      " 8   WFGM         139193 non-null  int64  \n",
      " 9   WFGA         139193 non-null  int64  \n",
      " 10  WFGM3        139193 non-null  int64  \n",
      " 11  WFGA3        139193 non-null  int64  \n",
      " 12  WFTM         139193 non-null  int64  \n",
      " 13  WFTA         139193 non-null  int64  \n",
      " 14  WOR          139193 non-null  int64  \n",
      " 15  WDR          139193 non-null  int64  \n",
      " 16  WAst         139193 non-null  int64  \n",
      " 17  WTO          139193 non-null  int64  \n",
      " 18  WStl         139193 non-null  int64  \n",
      " 19  WBlk         139193 non-null  int64  \n",
      " 20  WPF          139193 non-null  int64  \n",
      " 21  LFGM         139193 non-null  int64  \n",
      " 22  LFGA         139193 non-null  int64  \n",
      " 23  LFGM3        139193 non-null  int64  \n",
      " 24  LFGA3        139193 non-null  int64  \n",
      " 25  LFTM         139193 non-null  int64  \n",
      " 26  LFTA         139193 non-null  int64  \n",
      " 27  LOR          139193 non-null  int64  \n",
      " 28  LDR          139193 non-null  int64  \n",
      " 29  LAst         139193 non-null  int64  \n",
      " 30  LTO          139193 non-null  int64  \n",
      " 31  LStl         139193 non-null  int64  \n",
      " 32  LBlk         139193 non-null  int64  \n",
      " 33  LPF          139193 non-null  int64  \n",
      " 34  WEFFG        139193 non-null  float64\n",
      " 35  LEFFG        139193 non-null  float64\n",
      " 36  WEFFG3       139193 non-null  float64\n",
      " 37  LEFFG3       139193 non-null  float64\n",
      " 38  WDARE        139193 non-null  float64\n",
      " 39  LDARE        139193 non-null  float64\n",
      " 40  WTOQUETOQUE  139193 non-null  float64\n",
      " 41  LTOQUETOQUE  139193 non-null  float64\n",
      " 42  WEFG_SUM     139193 non-null  float64\n",
      " 43  LEFG_SUM     139193 non-null  float64\n",
      " 44  WPOSS        139193 non-null  float64\n",
      " 45  LPOSS        139193 non-null  float64\n",
      " 46  WPOSS_RATE   139193 non-null  float64\n",
      " 47  LPOSS_RATE   139193 non-null  float64\n",
      " 48  WTO_RATIO    139193 non-null  float64\n",
      " 49  LTO_RATIO    139193 non-null  float64\n",
      " 50  WREB_RATE    139193 non-null  float64\n",
      " 51  LREB_RATE    139193 non-null  float64\n",
      " 52  WFT_RATE     139193 non-null  float64\n",
      " 53  LFT_RATE     139193 non-null  float64\n",
      " 54  WRATING      139193 non-null  float64\n",
      " 55  LRATING      139193 non-null  float64\n",
      "dtypes: float64(22), int64(33), object(1)\n",
      "memory usage: 60.5+ MB\n",
      "None\n"
     ]
    },
    {
     "name": "stdout",
     "output_type": "stream",
     "text": [
      "feature cols after prepare()\n",
      "Index(['Season', 'DayNum', 'T1_TeamID', 'T1_Score', 'T2_TeamID', 'T2_Score',\n",
      "       'location', 'NumOT', 'T1_FGM', 'T1_FGA', 'T1_FGM3', 'T1_FGA3', 'T1_FTM',\n",
      "       'T1_FTA', 'T1_OR', 'T1_DR', 'T1_Ast', 'T1_TO', 'T1_Stl', 'T1_Blk',\n",
      "       'T1_PF', 'T2_FGM', 'T2_FGA', 'T2_FGM3', 'T2_FGA3', 'T2_FTM', 'T2_FTA',\n",
      "       'T2_OR', 'T2_DR', 'T2_Ast', 'T2_TO', 'T2_Stl', 'T2_Blk', 'T2_PF',\n",
      "       'T1_EFFG', 'T2_EFFG', 'T1_EFFG3', 'T2_EFFG3', 'T1_DARE', 'T2_DARE',\n",
      "       'T1_TOQUETOQUE', 'T2_TOQUETOQUE', 'T1_EFG_SUM', 'T2_EFG_SUM', 'T1_POSS',\n",
      "       'T2_POSS', 'T1_POSS_RATE', 'T2_POSS_RATE', 'T1_TO_RATIO', 'T2_TO_RATIO',\n",
      "       'T1_REB_RATE', 'T2_REB_RATE', 'T1_FT_RATE', 'T2_FT_RATE', 'T1_RATING',\n",
      "       'T2_RATING', 'PointDiff', 'win'],\n",
      "      dtype='object')\n",
      "<class 'pandas.core.frame.DataFrame'>\n",
      "RangeIndex: 278386 entries, 0 to 278385\n",
      "Data columns (total 58 columns):\n",
      " #   Column         Non-Null Count   Dtype  \n",
      "---  ------         --------------   -----  \n",
      " 0   Season         278386 non-null  int64  \n",
      " 1   DayNum         278386 non-null  int64  \n",
      " 2   T1_TeamID      278386 non-null  int64  \n",
      " 3   T1_Score       278386 non-null  int64  \n",
      " 4   T2_TeamID      278386 non-null  int64  \n",
      " 5   T2_Score       278386 non-null  int64  \n",
      " 6   location       278386 non-null  int32  \n",
      " 7   NumOT          278386 non-null  int64  \n",
      " 8   T1_FGM         278386 non-null  int64  \n",
      " 9   T1_FGA         278386 non-null  int64  \n",
      " 10  T1_FGM3        278386 non-null  int64  \n",
      " 11  T1_FGA3        278386 non-null  int64  \n",
      " 12  T1_FTM         278386 non-null  int64  \n",
      " 13  T1_FTA         278386 non-null  int64  \n",
      " 14  T1_OR          278386 non-null  int64  \n",
      " 15  T1_DR          278386 non-null  int64  \n",
      " 16  T1_Ast         278386 non-null  int64  \n",
      " 17  T1_TO          278386 non-null  int64  \n",
      " 18  T1_Stl         278386 non-null  int64  \n",
      " 19  T1_Blk         278386 non-null  int64  \n",
      " 20  T1_PF          278386 non-null  int64  \n",
      " 21  T2_FGM         278386 non-null  int64  \n",
      " 22  T2_FGA         278386 non-null  int64  \n",
      " 23  T2_FGM3        278386 non-null  int64  \n",
      " 24  T2_FGA3        278386 non-null  int64  \n",
      " 25  T2_FTM         278386 non-null  int64  \n",
      " 26  T2_FTA         278386 non-null  int64  \n",
      " 27  T2_OR          278386 non-null  int64  \n",
      " 28  T2_DR          278386 non-null  int64  \n",
      " 29  T2_Ast         278386 non-null  int64  \n",
      " 30  T2_TO          278386 non-null  int64  \n",
      " 31  T2_Stl         278386 non-null  int64  \n",
      " 32  T2_Blk         278386 non-null  int64  \n",
      " 33  T2_PF          278386 non-null  int64  \n",
      " 34  T1_EFFG        278386 non-null  float64\n",
      " 35  T2_EFFG        278386 non-null  float64\n",
      " 36  T1_EFFG3       278386 non-null  float64\n",
      " 37  T2_EFFG3       278386 non-null  float64\n",
      " 38  T1_DARE        278386 non-null  float64\n",
      " 39  T2_DARE        278386 non-null  float64\n",
      " 40  T1_TOQUETOQUE  278386 non-null  float64\n",
      " 41  T2_TOQUETOQUE  278386 non-null  float64\n",
      " 42  T1_EFG_SUM     278386 non-null  float64\n",
      " 43  T2_EFG_SUM     278386 non-null  float64\n",
      " 44  T1_POSS        278386 non-null  float64\n",
      " 45  T2_POSS        278386 non-null  float64\n",
      " 46  T1_POSS_RATE   278386 non-null  float64\n",
      " 47  T2_POSS_RATE   278386 non-null  float64\n",
      " 48  T1_TO_RATIO    278386 non-null  float64\n",
      " 49  T2_TO_RATIO    278386 non-null  float64\n",
      " 50  T1_REB_RATE    278386 non-null  float64\n",
      " 51  T2_REB_RATE    278386 non-null  float64\n",
      " 52  T1_FT_RATE     278386 non-null  float64\n",
      " 53  T2_FT_RATE     278386 non-null  float64\n",
      " 54  T1_RATING      278386 non-null  float64\n",
      " 55  T2_RATING      278386 non-null  float64\n",
      " 56  PointDiff      278386 non-null  int64  \n",
      " 57  win            278386 non-null  int32  \n",
      "dtypes: float64(22), int32(2), int64(34)\n",
      "memory usage: 121.1 MB\n"
     ]
    },
    {
     "data": {
      "text/html": [
       "<div>\n",
       "<style scoped>\n",
       "    .dataframe tbody tr th:only-of-type {\n",
       "        vertical-align: middle;\n",
       "    }\n",
       "\n",
       "    .dataframe tbody tr th {\n",
       "        vertical-align: top;\n",
       "    }\n",
       "\n",
       "    .dataframe thead th {\n",
       "        text-align: right;\n",
       "    }\n",
       "</style>\n",
       "<table border=\"1\" class=\"dataframe\">\n",
       "  <thead>\n",
       "    <tr style=\"text-align: right;\">\n",
       "      <th></th>\n",
       "      <th>Season</th>\n",
       "      <th>DayNum</th>\n",
       "      <th>T1_TeamID</th>\n",
       "      <th>T1_Score</th>\n",
       "      <th>T2_TeamID</th>\n",
       "      <th>T2_Score</th>\n",
       "      <th>location</th>\n",
       "      <th>NumOT</th>\n",
       "      <th>T1_FGM</th>\n",
       "      <th>T1_FGA</th>\n",
       "      <th>...</th>\n",
       "      <th>T1_TO_RATIO</th>\n",
       "      <th>T2_TO_RATIO</th>\n",
       "      <th>T1_REB_RATE</th>\n",
       "      <th>T2_REB_RATE</th>\n",
       "      <th>T1_FT_RATE</th>\n",
       "      <th>T2_FT_RATE</th>\n",
       "      <th>T1_RATING</th>\n",
       "      <th>T2_RATING</th>\n",
       "      <th>PointDiff</th>\n",
       "      <th>win</th>\n",
       "    </tr>\n",
       "  </thead>\n",
       "  <tbody>\n",
       "    <tr>\n",
       "      <th>0</th>\n",
       "      <td>2003</td>\n",
       "      <td>10</td>\n",
       "      <td>1104</td>\n",
       "      <td>68</td>\n",
       "      <td>1328</td>\n",
       "      <td>62</td>\n",
       "      <td>0</td>\n",
       "      <td>0</td>\n",
       "      <td>27</td>\n",
       "      <td>58</td>\n",
       "      <td>...</td>\n",
       "      <td>0.258659</td>\n",
       "      <td>0.223104</td>\n",
       "      <td>0.388889</td>\n",
       "      <td>0.294118</td>\n",
       "      <td>0.310345</td>\n",
       "      <td>0.415094</td>\n",
       "      <td>0.907635</td>\n",
       "      <td>0.877193</td>\n",
       "      <td>6</td>\n",
       "      <td>1</td>\n",
       "    </tr>\n",
       "    <tr>\n",
       "      <th>1</th>\n",
       "      <td>2003</td>\n",
       "      <td>10</td>\n",
       "      <td>1272</td>\n",
       "      <td>70</td>\n",
       "      <td>1393</td>\n",
       "      <td>63</td>\n",
       "      <td>0</td>\n",
       "      <td>0</td>\n",
       "      <td>26</td>\n",
       "      <td>62</td>\n",
       "      <td>...</td>\n",
       "      <td>0.155950</td>\n",
       "      <td>0.136674</td>\n",
       "      <td>0.375000</td>\n",
       "      <td>0.416667</td>\n",
       "      <td>0.306452</td>\n",
       "      <td>0.298507</td>\n",
       "      <td>1.023991</td>\n",
       "      <td>0.929204</td>\n",
       "      <td>7</td>\n",
       "      <td>1</td>\n",
       "    </tr>\n",
       "    <tr>\n",
       "      <th>2</th>\n",
       "      <td>2003</td>\n",
       "      <td>11</td>\n",
       "      <td>1266</td>\n",
       "      <td>73</td>\n",
       "      <td>1437</td>\n",
       "      <td>61</td>\n",
       "      <td>0</td>\n",
       "      <td>0</td>\n",
       "      <td>24</td>\n",
       "      <td>58</td>\n",
       "      <td>...</td>\n",
       "      <td>0.123824</td>\n",
       "      <td>0.126156</td>\n",
       "      <td>0.435897</td>\n",
       "      <td>0.543860</td>\n",
       "      <td>0.500000</td>\n",
       "      <td>0.315068</td>\n",
       "      <td>1.144918</td>\n",
       "      <td>0.951341</td>\n",
       "      <td>12</td>\n",
       "      <td>1</td>\n",
       "    </tr>\n",
       "    <tr>\n",
       "      <th>3</th>\n",
       "      <td>2003</td>\n",
       "      <td>11</td>\n",
       "      <td>1296</td>\n",
       "      <td>56</td>\n",
       "      <td>1457</td>\n",
       "      <td>50</td>\n",
       "      <td>0</td>\n",
       "      <td>0</td>\n",
       "      <td>18</td>\n",
       "      <td>38</td>\n",
       "      <td>...</td>\n",
       "      <td>0.188561</td>\n",
       "      <td>0.254692</td>\n",
       "      <td>0.230769</td>\n",
       "      <td>0.472222</td>\n",
       "      <td>0.815789</td>\n",
       "      <td>0.306122</td>\n",
       "      <td>0.971548</td>\n",
       "      <td>0.868056</td>\n",
       "      <td>6</td>\n",
       "      <td>1</td>\n",
       "    </tr>\n",
       "    <tr>\n",
       "      <th>4</th>\n",
       "      <td>2003</td>\n",
       "      <td>11</td>\n",
       "      <td>1400</td>\n",
       "      <td>77</td>\n",
       "      <td>1208</td>\n",
       "      <td>71</td>\n",
       "      <td>0</td>\n",
       "      <td>0</td>\n",
       "      <td>30</td>\n",
       "      <td>61</td>\n",
       "      <td>...</td>\n",
       "      <td>0.173439</td>\n",
       "      <td>0.119218</td>\n",
       "      <td>0.531250</td>\n",
       "      <td>0.488372</td>\n",
       "      <td>0.213115</td>\n",
       "      <td>0.435484</td>\n",
       "      <td>1.208412</td>\n",
       "      <td>1.129135</td>\n",
       "      <td>6</td>\n",
       "      <td>1</td>\n",
       "    </tr>\n",
       "  </tbody>\n",
       "</table>\n",
       "<p>5 rows × 58 columns</p>\n",
       "</div>"
      ],
      "text/plain": [
       "   Season  DayNum  T1_TeamID  T1_Score  T2_TeamID  T2_Score  location  NumOT  \\\n",
       "0    2003      10       1104        68       1328        62         0      0   \n",
       "1    2003      10       1272        70       1393        63         0      0   \n",
       "2    2003      11       1266        73       1437        61         0      0   \n",
       "3    2003      11       1296        56       1457        50         0      0   \n",
       "4    2003      11       1400        77       1208        71         0      0   \n",
       "\n",
       "   T1_FGM  T1_FGA  ...  T1_TO_RATIO  T2_TO_RATIO  T1_REB_RATE  T2_REB_RATE  \\\n",
       "0      27      58  ...     0.258659     0.223104     0.388889     0.294118   \n",
       "1      26      62  ...     0.155950     0.136674     0.375000     0.416667   \n",
       "2      24      58  ...     0.123824     0.126156     0.435897     0.543860   \n",
       "3      18      38  ...     0.188561     0.254692     0.230769     0.472222   \n",
       "4      30      61  ...     0.173439     0.119218     0.531250     0.488372   \n",
       "\n",
       "   T1_FT_RATE  T2_FT_RATE  T1_RATING  T2_RATING  PointDiff  win  \n",
       "0    0.310345    0.415094   0.907635   0.877193          6    1  \n",
       "1    0.306452    0.298507   1.023991   0.929204          7    1  \n",
       "2    0.500000    0.315068   1.144918   0.951341         12    1  \n",
       "3    0.815789    0.306122   0.971548   0.868056          6    1  \n",
       "4    0.213115    0.435484   1.208412   1.129135          6    1  \n",
       "\n",
       "[5 rows x 58 columns]"
      ]
     },
     "metadata": {},
     "output_type": "display_data"
    },
    {
     "data": {
      "text/plain": [
       "None"
      ]
     },
     "metadata": {},
     "output_type": "display_data"
    }
   ],
   "source": [
    "#予測する年以降の情報はフィルタリング\n",
    "USE_START_YEAR = cfg.exp.tournament.use_start_season\n",
    "notexist = tourney_results[tourney_results[\"Season\"] == PREDICT_YEAR]\n",
    "tourney_results = tourney_results[(tourney_results[\"Season\"] >= USE_START_YEAR) & (tourney_results[\"Season\"] < PREDICT_YEAR)]\n",
    "seeds = seeds[(seeds[\"Season\"] >= USE_START_YEAR) & (seeds[\"Season\"] <= PREDICT_YEAR)]\n",
    "regular_results = regular_results[(regular_results[\"Season\"] >= USE_START_YEAR) & (regular_results[\"Season\"] <= PREDICT_YEAR)]\n",
    "\n",
    "regular_data = prepare_data(regular_results)\n",
    "display(regular_data.head(), regular_data.info())"
   ]
  },
  {
   "cell_type": "code",
   "execution_count": 8,
   "id": "7bcc9107",
   "metadata": {
    "execution": {
     "iopub.execute_input": "2025-03-14T06:27:08.663857Z",
     "iopub.status.busy": "2025-03-14T06:27:08.662864Z",
     "iopub.status.idle": "2025-03-14T06:27:08.680452Z",
     "shell.execute_reply": "2025-03-14T06:27:08.680452Z"
    },
    "papermill": {
     "duration": 0.028055,
     "end_time": "2025-03-14T06:27:08.680452",
     "exception": false,
     "start_time": "2025-03-14T06:27:08.652397",
     "status": "completed"
    },
    "tags": []
   },
   "outputs": [],
   "source": [
    "#使用特徴量(boxscore_cols)を取得してそれに対して(\"Season\", 'T1_TeamID')でまとめた特徴量の追加\n",
    "#### 1. win_ration_14d ####\n",
    "def add_win_ratio_14d(df):\n",
    "    df_filtered = df[df['DayNum'] > 118].copy()\n",
    "    df_filtered['Win'] = (df_filtered['PointDiff'] > 0).astype(int)\n",
    "    \n",
    "    win_ratio_t1 = df_filtered.groupby(['Season', 'T1_TeamID'])['Win'].mean().reset_index()\n",
    "    win_ratio_t1.rename(columns={'Win': 'T1_win_ratio_14d'}, inplace=True)\n",
    "    \n",
    "    win_ratio_t2 = df_filtered.groupby(['Season', 'T2_TeamID'])['Win'].mean().reset_index()\n",
    "    win_ratio_t2.rename(columns={'Win': 'T2_win_ratio_14d'}, inplace=True)\n",
    "    \n",
    "    df = df.merge(win_ratio_t1, on=['Season', 'T1_TeamID'], how='left')\n",
    "    df = df.merge(win_ratio_t2, on=['Season', 'T2_TeamID'], how='left')\n",
    "    \n",
    "    return df\n",
    "\n",
    "##### 2. add mean of boxscore ####\n",
    "def make_col_avg(df, boxscore, group = [\"Season\", \"T1_TeamID\"], func= [np.mean]):\n",
    "    df_stat = df.groupby(group)[boxscore].agg(func)\n",
    "    df_stat.columns = [''.join(col).strip() for col in df_stat.columns.values]\n",
    "    df_stat = df_stat.reset_index()\n",
    "\n",
    "    win_ratio_cols = ['T1_win_ratio_14d'] #ここマージの関係からT2_win_ratio_14dを外したけど大丈夫か考える\n",
    "    df_win_ratio = df[group + win_ratio_cols].drop_duplicates()\n",
    "    df_stat = df_stat.merge(df_win_ratio, on=group, how='left')\n",
    "    \n",
    "    return df_stat\n",
    "\n",
    "#### 3. add team quality ####\n",
    "# 3.0 ロジスティックを行うためのregular_season_effectsデータフレームの作成\n",
    "def make_regular_season_effects(df):\n",
    "    regular_season_effects = df[['Season', 'T1_TeamID', 'T2_TeamID', 'PointDiff']].copy()\n",
    "    regular_season_effects['win'] = np.where(regular_season_effects['PointDiff'] > 0, 1, 0)\n",
    "    return regular_season_effects\n",
    "\n",
    "# 3.1\n",
    "#各シーズンごとの総当たりに対するロジスティック回帰を行う\n",
    "#目的変数はfeatureenginneringから作成したPointDiffの正負に依存するWinとする.\n",
    "#新たな特徴量\"quarity\"をseasonごとの戦績をもとにロジスティックの回帰係数として導入している\n",
    "def team_quality(season,df):\n",
    "    season_data = df[df[\"Season\"] == season]\n",
    "    X = season_data[['T1_TeamID', 'T2_TeamID']]\n",
    "    y = season_data['win']\n",
    "    print(X.shape, y.shape)\n",
    "    encoder = OneHotEncoder(sparse_output=False) #多重共線性防止, 密行列指定\n",
    "    X_encoded = encoder.fit_transform(X)\n",
    "    \n",
    "    model = LogisticRegression(fit_intercept=False)\n",
    "    model.fit(X_encoded, y)\n",
    "    team_ids = encoder.get_feature_names_out(['T1_TeamID', 'T2_TeamID'])\n",
    "\n",
    "    \n",
    "    #quarity: (チーム数)*2(ID, 回帰係数)\n",
    "    quality = pd.DataFrame({\n",
    "        'TeamID': team_ids,\n",
    "        'quality': model.coef_.flatten() #T1_TeamID_1112,,,の形でチーム数分の回帰係数が入る\n",
    "    })\n",
    "\n",
    "    # 値をint 1112 のように整形\n",
    "    quality = quality[quality['TeamID'].str.contains('T1_TeamID')]\n",
    "    quality['TeamID'] = quality['TeamID'].str.replace('T1_TeamID_', '', regex=True).astype(int)\n",
    "    quality['Season'] = season\n",
    "\n",
    "    #display(quality.head())\n",
    "    print(f\"fin make {season}'s team quarity\")\n",
    "    return quality\n",
    "\n",
    "# 4. add seed\n",
    "def add_seed(df, seeds):\n",
    "    temp = seeds.copy()\n",
    "    temp['Seed'] = temp['Seed'].apply(lambda x: int(x[1:3]))\n",
    "    temp.columns = ['Season','T1_seed','T1_TeamID']\n",
    "    df = pd.merge(df, temp, on=[\"Season\", \"T1_TeamID\"], how=\"left\")\n",
    "    return df \n",
    "\n",
    "# 5. add Ordinal rank\n",
    "def add_ordinalrank(df, ordinal):\n",
    "    df_rank = ordinal.groupby([\"Season\", \"TeamID\"])[\"OrdinalRank\"].agg(np.mean).reset_index()\n",
    "    df_rank.head()\n",
    "    ranks = df_rank.rename(columns={'TeamID': 'T1_TeamID', 'OrdinalRank': 'T1_OrdinalRank'})\n",
    "    df = pd.merge(df,ranks,on = [\"Season\",\"T1_TeamID\"],how = \"left\")\n",
    "    return df\n",
    "\n",
    "# main \n",
    "def make_season_statistics(df, boxscore, seeds, func = [np.mean]):\n",
    "    # 1. Win Ratio の計算と追加\n",
    "    add_win = add_win_ratio_14d(df)\n",
    "    print(\"after add win ratio\")\n",
    "    print(add_win.columns)  \n",
    "    \n",
    "    #2. \n",
    "    add_mean = make_col_avg(add_win, boxscore)\n",
    "    print(\"after mean of boxscore\")\n",
    "    print(add_mean.columns)\n",
    "    \n",
    "    #3. \n",
    "    global PREDICT_YEAR, USE_START_YEAR\n",
    "    start_season = max(FEATURES.start_quality_season, USE_START_YEAR)\n",
    "    print(f\"use season for quality feature is: {start_season}\")\n",
    "    regular_season_effects = make_regular_season_effects(df)\n",
    "    glm_season = [i for i in range(start_season, PREDICT_YEAR+1)]\n",
    "\n",
    "    if 2020 in glm_season:\n",
    "        glm_season.remove(2020)\n",
    "    glm_quality = pd.concat([team_quality(season, regular_season_effects) for season in glm_season]).reset_index(drop=True)\n",
    "    # add glm quality \n",
    "    glm_quality_T1 = glm_quality.rename(columns={'TeamID': 'T1_TeamID', 'quality': 'T1_quality'})\n",
    "    add_glm = add_mean.merge(glm_quality_T1, on=['Season', 'T1_TeamID'], how='left')\n",
    "\n",
    "    print(\"add glm quality\")\n",
    "    print(add_glm.columns)\n",
    "    \n",
    "    #4. \n",
    "    add_seeds = add_seed(add_glm, seeds)\n",
    "    print(\"add seeds (final form)\")\n",
    "    print(add_seeds.columns)\n",
    "    \n",
    "    #5. \n",
    "    add_rank = add_ordinalrank(add_seeds, ordinal_rank)\n",
    "    print(\"add ordinal rank\")\n",
    "    print(add_rank.columns)  \n",
    "    return add_rank"
   ]
  },
  {
   "cell_type": "code",
   "execution_count": 9,
   "id": "58d3c6ee",
   "metadata": {
    "execution": {
     "iopub.execute_input": "2025-03-14T06:27:08.692376Z",
     "iopub.status.busy": "2025-03-14T06:27:08.692376Z",
     "iopub.status.idle": "2025-03-14T06:27:12.343871Z",
     "shell.execute_reply": "2025-03-14T06:27:12.343871Z"
    },
    "papermill": {
     "duration": 3.651495,
     "end_time": "2025-03-14T06:27:12.343871",
     "exception": false,
     "start_time": "2025-03-14T06:27:08.692376",
     "status": "completed"
    },
    "tags": []
   },
   "outputs": [
    {
     "name": "stdout",
     "output_type": "stream",
     "text": [
      "use boxscore col is\n",
      "['T1_Score', 'T2_Score', 'PointDiff', 'T1_FGM', 'T2_FGM', 'T1_FGA', 'T2_FGA', 'T1_EFG_SUM', 'T2_EFG_SUM', 'T1_TO_RATIO', 'T2_TO_RATIO', 'T1_OR', 'T2_OR', 'T1_DR', 'T2_DR', 'T1_REB_RATE', 'T2_REB_RATE', 'T1_FT_RATE', 'T2_FT_RATE', 'T1_POSS_RATE', 'T2_POSS_RATE', 'T1_Ast', 'T2_Ast', 'T1_TO', 'T2_TO', 'T1_Stl', 'T2_Stl', 'T1_Blk', 'T2_Blk', 'T1_PF', 'T2_PF']\n"
     ]
    },
    {
     "name": "stdout",
     "output_type": "stream",
     "text": [
      "after add win ratio\n",
      "Index(['Season', 'DayNum', 'T1_TeamID', 'T1_Score', 'T2_TeamID', 'T2_Score',\n",
      "       'location', 'NumOT', 'T1_FGM', 'T1_FGA', 'T1_FGM3', 'T1_FGA3', 'T1_FTM',\n",
      "       'T1_FTA', 'T1_OR', 'T1_DR', 'T1_Ast', 'T1_TO', 'T1_Stl', 'T1_Blk',\n",
      "       'T1_PF', 'T2_FGM', 'T2_FGA', 'T2_FGM3', 'T2_FGA3', 'T2_FTM', 'T2_FTA',\n",
      "       'T2_OR', 'T2_DR', 'T2_Ast', 'T2_TO', 'T2_Stl', 'T2_Blk', 'T2_PF',\n",
      "       'T1_EFFG', 'T2_EFFG', 'T1_EFFG3', 'T2_EFFG3', 'T1_DARE', 'T2_DARE',\n",
      "       'T1_TOQUETOQUE', 'T2_TOQUETOQUE', 'T1_EFG_SUM', 'T2_EFG_SUM', 'T1_POSS',\n",
      "       'T2_POSS', 'T1_POSS_RATE', 'T2_POSS_RATE', 'T1_TO_RATIO', 'T2_TO_RATIO',\n",
      "       'T1_REB_RATE', 'T2_REB_RATE', 'T1_FT_RATE', 'T2_FT_RATE', 'T1_RATING',\n",
      "       'T2_RATING', 'PointDiff', 'win', 'T1_win_ratio_14d',\n",
      "       'T2_win_ratio_14d'],\n",
      "      dtype='object')\n",
      "after mean of boxscore\n",
      "Index(['Season', 'T1_TeamID', 'T1_Scoremean', 'T2_Scoremean', 'PointDiffmean',\n",
      "       'T1_FGMmean', 'T2_FGMmean', 'T1_FGAmean', 'T2_FGAmean',\n",
      "       'T1_EFG_SUMmean', 'T2_EFG_SUMmean', 'T1_TO_RATIOmean',\n",
      "       'T2_TO_RATIOmean', 'T1_ORmean', 'T2_ORmean', 'T1_DRmean', 'T2_DRmean',\n",
      "       'T1_REB_RATEmean', 'T2_REB_RATEmean', 'T1_FT_RATEmean',\n",
      "       'T2_FT_RATEmean', 'T1_POSS_RATEmean', 'T2_POSS_RATEmean', 'T1_Astmean',\n",
      "       'T2_Astmean', 'T1_TOmean', 'T2_TOmean', 'T1_Stlmean', 'T2_Stlmean',\n",
      "       'T1_Blkmean', 'T2_Blkmean', 'T1_PFmean', 'T2_PFmean',\n",
      "       'T1_win_ratio_14d'],\n",
      "      dtype='object')\n",
      "use season for quality feature is: 2003\n",
      "(9232, 2) (9232,)\n"
     ]
    },
    {
     "name": "stderr",
     "output_type": "stream",
     "text": [
      "C:\\Users\\81809\\AppData\\Local\\Temp\\ipykernel_7320\\386782032.py:20: FutureWarning: The provided callable <function mean at 0x000002BFC3B56520> is currently using SeriesGroupBy.mean. In a future version of pandas, the provided callable will be used directly. To keep current behavior pass the string \"mean\" instead.\n",
      "  df_stat = df.groupby(group)[boxscore].agg(func)\n"
     ]
    },
    {
     "name": "stdout",
     "output_type": "stream",
     "text": [
      "fin make 2003's team quarity\n",
      "(9142, 2) (9142,)\n",
      "fin make 2004's team quarity\n",
      "(9350, 2) (9350,)\n",
      "fin make 2005's team quarity\n",
      "(9514, 2) (9514,)\n",
      "fin make 2006's team quarity\n",
      "(10086, 2) (10086,)\n"
     ]
    },
    {
     "name": "stdout",
     "output_type": "stream",
     "text": [
      "fin make 2007's team quarity\n",
      "(10326, 2) (10326,)\n",
      "fin make 2008's team quarity\n",
      "(10498, 2) (10498,)\n",
      "fin make 2009's team quarity\n",
      "(20600, 2) (20600,)\n"
     ]
    },
    {
     "name": "stdout",
     "output_type": "stream",
     "text": [
      "fin make 2010's team quarity\n",
      "(20660, 2) (20660,)\n"
     ]
    },
    {
     "name": "stdout",
     "output_type": "stream",
     "text": [
      "fin make 2011's team quarity\n",
      "(20606, 2) (20606,)\n"
     ]
    },
    {
     "name": "stdout",
     "output_type": "stream",
     "text": [
      "fin make 2012's team quarity\n",
      "(21008, 2) (21008,)\n"
     ]
    },
    {
     "name": "stdout",
     "output_type": "stream",
     "text": [
      "fin make 2013's team quarity\n",
      "(21228, 2) (21228,)\n"
     ]
    },
    {
     "name": "stdout",
     "output_type": "stream",
     "text": [
      "fin make 2014's team quarity\n",
      "(21136, 2) (21136,)\n"
     ]
    },
    {
     "name": "stdout",
     "output_type": "stream",
     "text": [
      "fin make 2015's team quarity\n",
      "(21156, 2) (21156,)\n"
     ]
    },
    {
     "name": "stdout",
     "output_type": "stream",
     "text": [
      "fin make 2016's team quarity\n",
      "(21210, 2) (21210,)\n"
     ]
    },
    {
     "name": "stdout",
     "output_type": "stream",
     "text": [
      "fin make 2017's team quarity\n",
      "(21228, 2) (21228,)\n"
     ]
    },
    {
     "name": "stdout",
     "output_type": "stream",
     "text": [
      "fin make 2018's team quarity\n",
      "(21406, 2) (21406,)\n"
     ]
    },
    {
     "name": "stdout",
     "output_type": "stream",
     "text": [
      "fin make 2019's team quarity\n",
      "add glm quality\n",
      "Index(['Season', 'T1_TeamID', 'T1_Scoremean', 'T2_Scoremean', 'PointDiffmean',\n",
      "       'T1_FGMmean', 'T2_FGMmean', 'T1_FGAmean', 'T2_FGAmean',\n",
      "       'T1_EFG_SUMmean', 'T2_EFG_SUMmean', 'T1_TO_RATIOmean',\n",
      "       'T2_TO_RATIOmean', 'T1_ORmean', 'T2_ORmean', 'T1_DRmean', 'T2_DRmean',\n",
      "       'T1_REB_RATEmean', 'T2_REB_RATEmean', 'T1_FT_RATEmean',\n",
      "       'T2_FT_RATEmean', 'T1_POSS_RATEmean', 'T2_POSS_RATEmean', 'T1_Astmean',\n",
      "       'T2_Astmean', 'T1_TOmean', 'T2_TOmean', 'T1_Stlmean', 'T2_Stlmean',\n",
      "       'T1_Blkmean', 'T2_Blkmean', 'T1_PFmean', 'T2_PFmean',\n",
      "       'T1_win_ratio_14d', 'T1_quality'],\n",
      "      dtype='object')\n",
      "add seeds (final form)\n",
      "Index(['Season', 'T1_TeamID', 'T1_Scoremean', 'T2_Scoremean', 'PointDiffmean',\n",
      "       'T1_FGMmean', 'T2_FGMmean', 'T1_FGAmean', 'T2_FGAmean',\n",
      "       'T1_EFG_SUMmean', 'T2_EFG_SUMmean', 'T1_TO_RATIOmean',\n",
      "       'T2_TO_RATIOmean', 'T1_ORmean', 'T2_ORmean', 'T1_DRmean', 'T2_DRmean',\n",
      "       'T1_REB_RATEmean', 'T2_REB_RATEmean', 'T1_FT_RATEmean',\n",
      "       'T2_FT_RATEmean', 'T1_POSS_RATEmean', 'T2_POSS_RATEmean', 'T1_Astmean',\n",
      "       'T2_Astmean', 'T1_TOmean', 'T2_TOmean', 'T1_Stlmean', 'T2_Stlmean',\n",
      "       'T1_Blkmean', 'T2_Blkmean', 'T1_PFmean', 'T2_PFmean',\n",
      "       'T1_win_ratio_14d', 'T1_quality', 'T1_seed'],\n",
      "      dtype='object')\n"
     ]
    },
    {
     "name": "stderr",
     "output_type": "stream",
     "text": [
      "C:\\Users\\81809\\AppData\\Local\\Temp\\ipykernel_7320\\386782032.py:79: FutureWarning: The provided callable <function mean at 0x000002BFC3B56520> is currently using SeriesGroupBy.mean. In a future version of pandas, the provided callable will be used directly. To keep current behavior pass the string \"mean\" instead.\n",
      "  df_rank = ordinal.groupby([\"Season\", \"TeamID\"])[\"OrdinalRank\"].agg(np.mean).reset_index()\n"
     ]
    },
    {
     "name": "stdout",
     "output_type": "stream",
     "text": [
      "add ordinal rank\n",
      "Index(['Season', 'T1_TeamID', 'T1_Scoremean', 'T2_Scoremean', 'PointDiffmean',\n",
      "       'T1_FGMmean', 'T2_FGMmean', 'T1_FGAmean', 'T2_FGAmean',\n",
      "       'T1_EFG_SUMmean', 'T2_EFG_SUMmean', 'T1_TO_RATIOmean',\n",
      "       'T2_TO_RATIOmean', 'T1_ORmean', 'T2_ORmean', 'T1_DRmean', 'T2_DRmean',\n",
      "       'T1_REB_RATEmean', 'T2_REB_RATEmean', 'T1_FT_RATEmean',\n",
      "       'T2_FT_RATEmean', 'T1_POSS_RATEmean', 'T2_POSS_RATEmean', 'T1_Astmean',\n",
      "       'T2_Astmean', 'T1_TOmean', 'T2_TOmean', 'T1_Stlmean', 'T2_Stlmean',\n",
      "       'T1_Blkmean', 'T2_Blkmean', 'T1_PFmean', 'T2_PFmean',\n",
      "       'T1_win_ratio_14d', 'T1_quality', 'T1_seed', 'T1_OrdinalRank'],\n",
      "      dtype='object')\n"
     ]
    },
    {
     "data": {
      "text/html": [
       "<div>\n",
       "<style scoped>\n",
       "    .dataframe tbody tr th:only-of-type {\n",
       "        vertical-align: middle;\n",
       "    }\n",
       "\n",
       "    .dataframe tbody tr th {\n",
       "        vertical-align: top;\n",
       "    }\n",
       "\n",
       "    .dataframe thead th {\n",
       "        text-align: right;\n",
       "    }\n",
       "</style>\n",
       "<table border=\"1\" class=\"dataframe\">\n",
       "  <thead>\n",
       "    <tr style=\"text-align: right;\">\n",
       "      <th></th>\n",
       "      <th>Season</th>\n",
       "      <th>T1_TeamID</th>\n",
       "      <th>T1_Scoremean</th>\n",
       "      <th>T2_Scoremean</th>\n",
       "      <th>PointDiffmean</th>\n",
       "      <th>T1_FGMmean</th>\n",
       "      <th>T2_FGMmean</th>\n",
       "      <th>T1_FGAmean</th>\n",
       "      <th>T2_FGAmean</th>\n",
       "      <th>T1_EFG_SUMmean</th>\n",
       "      <th>...</th>\n",
       "      <th>T1_Stlmean</th>\n",
       "      <th>T2_Stlmean</th>\n",
       "      <th>T1_Blkmean</th>\n",
       "      <th>T2_Blkmean</th>\n",
       "      <th>T1_PFmean</th>\n",
       "      <th>T2_PFmean</th>\n",
       "      <th>T1_win_ratio_14d</th>\n",
       "      <th>T1_quality</th>\n",
       "      <th>T1_seed</th>\n",
       "      <th>T1_OrdinalRank</th>\n",
       "    </tr>\n",
       "  </thead>\n",
       "  <tbody>\n",
       "    <tr>\n",
       "      <th>9298</th>\n",
       "      <td>2019</td>\n",
       "      <td>3462</td>\n",
       "      <td>60.862069</td>\n",
       "      <td>66.482759</td>\n",
       "      <td>-5.620690</td>\n",
       "      <td>21.896552</td>\n",
       "      <td>24.448276</td>\n",
       "      <td>57.517241</td>\n",
       "      <td>59.758621</td>\n",
       "      <td>0.448019</td>\n",
       "      <td>...</td>\n",
       "      <td>7.586207</td>\n",
       "      <td>7.758621</td>\n",
       "      <td>2.586207</td>\n",
       "      <td>3.172414</td>\n",
       "      <td>15.241379</td>\n",
       "      <td>15.172414</td>\n",
       "      <td>0.0</td>\n",
       "      <td>-0.296941</td>\n",
       "      <td>NaN</td>\n",
       "      <td>NaN</td>\n",
       "    </tr>\n",
       "    <tr>\n",
       "      <th>9299</th>\n",
       "      <td>2019</td>\n",
       "      <td>3463</td>\n",
       "      <td>63.344828</td>\n",
       "      <td>61.551724</td>\n",
       "      <td>1.793103</td>\n",
       "      <td>23.724138</td>\n",
       "      <td>21.965517</td>\n",
       "      <td>60.517241</td>\n",
       "      <td>60.379310</td>\n",
       "      <td>0.438814</td>\n",
       "      <td>...</td>\n",
       "      <td>5.172414</td>\n",
       "      <td>8.344828</td>\n",
       "      <td>3.586207</td>\n",
       "      <td>2.517241</td>\n",
       "      <td>16.448276</td>\n",
       "      <td>17.551724</td>\n",
       "      <td>0.0</td>\n",
       "      <td>0.134368</td>\n",
       "      <td>NaN</td>\n",
       "      <td>NaN</td>\n",
       "    </tr>\n",
       "    <tr>\n",
       "      <th>9300</th>\n",
       "      <td>2019</td>\n",
       "      <td>3464</td>\n",
       "      <td>68.137931</td>\n",
       "      <td>58.000000</td>\n",
       "      <td>10.137931</td>\n",
       "      <td>23.241379</td>\n",
       "      <td>21.862069</td>\n",
       "      <td>55.758621</td>\n",
       "      <td>58.655172</td>\n",
       "      <td>0.494845</td>\n",
       "      <td>...</td>\n",
       "      <td>4.344828</td>\n",
       "      <td>7.448276</td>\n",
       "      <td>3.482759</td>\n",
       "      <td>3.482759</td>\n",
       "      <td>13.862069</td>\n",
       "      <td>17.896552</td>\n",
       "      <td>0.5</td>\n",
       "      <td>0.638405</td>\n",
       "      <td>NaN</td>\n",
       "      <td>NaN</td>\n",
       "    </tr>\n",
       "    <tr>\n",
       "      <th>9301</th>\n",
       "      <td>2019</td>\n",
       "      <td>3465</td>\n",
       "      <td>76.200000</td>\n",
       "      <td>69.840000</td>\n",
       "      <td>6.360000</td>\n",
       "      <td>28.560000</td>\n",
       "      <td>26.600000</td>\n",
       "      <td>67.520000</td>\n",
       "      <td>69.200000</td>\n",
       "      <td>0.493625</td>\n",
       "      <td>...</td>\n",
       "      <td>7.280000</td>\n",
       "      <td>7.920000</td>\n",
       "      <td>3.160000</td>\n",
       "      <td>3.160000</td>\n",
       "      <td>15.520000</td>\n",
       "      <td>15.440000</td>\n",
       "      <td>0.5</td>\n",
       "      <td>-0.182555</td>\n",
       "      <td>NaN</td>\n",
       "      <td>NaN</td>\n",
       "    </tr>\n",
       "    <tr>\n",
       "      <th>9302</th>\n",
       "      <td>2019</td>\n",
       "      <td>3466</td>\n",
       "      <td>69.521739</td>\n",
       "      <td>63.217391</td>\n",
       "      <td>6.304348</td>\n",
       "      <td>24.869565</td>\n",
       "      <td>23.913043</td>\n",
       "      <td>58.434783</td>\n",
       "      <td>58.260870</td>\n",
       "      <td>0.478102</td>\n",
       "      <td>...</td>\n",
       "      <td>8.478261</td>\n",
       "      <td>8.478261</td>\n",
       "      <td>3.695652</td>\n",
       "      <td>3.217391</td>\n",
       "      <td>17.478261</td>\n",
       "      <td>19.173913</td>\n",
       "      <td>0.0</td>\n",
       "      <td>0.107970</td>\n",
       "      <td>NaN</td>\n",
       "      <td>NaN</td>\n",
       "    </tr>\n",
       "  </tbody>\n",
       "</table>\n",
       "<p>5 rows × 37 columns</p>\n",
       "</div>"
      ],
      "text/plain": [
       "      Season  T1_TeamID  T1_Scoremean  T2_Scoremean  PointDiffmean  \\\n",
       "9298    2019       3462     60.862069     66.482759      -5.620690   \n",
       "9299    2019       3463     63.344828     61.551724       1.793103   \n",
       "9300    2019       3464     68.137931     58.000000      10.137931   \n",
       "9301    2019       3465     76.200000     69.840000       6.360000   \n",
       "9302    2019       3466     69.521739     63.217391       6.304348   \n",
       "\n",
       "      T1_FGMmean  T2_FGMmean  T1_FGAmean  T2_FGAmean  T1_EFG_SUMmean  ...  \\\n",
       "9298   21.896552   24.448276   57.517241   59.758621        0.448019  ...   \n",
       "9299   23.724138   21.965517   60.517241   60.379310        0.438814  ...   \n",
       "9300   23.241379   21.862069   55.758621   58.655172        0.494845  ...   \n",
       "9301   28.560000   26.600000   67.520000   69.200000        0.493625  ...   \n",
       "9302   24.869565   23.913043   58.434783   58.260870        0.478102  ...   \n",
       "\n",
       "      T1_Stlmean  T2_Stlmean  T1_Blkmean  T2_Blkmean  T1_PFmean  T2_PFmean  \\\n",
       "9298    7.586207    7.758621    2.586207    3.172414  15.241379  15.172414   \n",
       "9299    5.172414    8.344828    3.586207    2.517241  16.448276  17.551724   \n",
       "9300    4.344828    7.448276    3.482759    3.482759  13.862069  17.896552   \n",
       "9301    7.280000    7.920000    3.160000    3.160000  15.520000  15.440000   \n",
       "9302    8.478261    8.478261    3.695652    3.217391  17.478261  19.173913   \n",
       "\n",
       "      T1_win_ratio_14d  T1_quality  T1_seed  T1_OrdinalRank  \n",
       "9298               0.0   -0.296941      NaN             NaN  \n",
       "9299               0.0    0.134368      NaN             NaN  \n",
       "9300               0.5    0.638405      NaN             NaN  \n",
       "9301               0.5   -0.182555      NaN             NaN  \n",
       "9302               0.0    0.107970      NaN             NaN  \n",
       "\n",
       "[5 rows x 37 columns]"
      ]
     },
     "execution_count": 9,
     "metadata": {},
     "output_type": "execute_result"
    }
   ],
   "source": [
    "features = FEATURES.cal_mean_boxscore\n",
    "boxscore_cols = [col for col, use in features.items() if use]\n",
    "print(\"use boxscore col is\")\n",
    "print(boxscore_cols)\n",
    "\n",
    "season_statistics = make_season_statistics(regular_data, boxscore_cols, seeds, func = [np.mean])\n",
    "season_statistics.tail()"
   ]
  },
  {
   "cell_type": "code",
   "execution_count": 10,
   "id": "b5075884",
   "metadata": {
    "execution": {
     "iopub.execute_input": "2025-03-14T06:27:12.366277Z",
     "iopub.status.busy": "2025-03-14T06:27:12.366277Z",
     "iopub.status.idle": "2025-03-14T06:27:12.377364Z",
     "shell.execute_reply": "2025-03-14T06:27:12.377364Z"
    },
    "papermill": {
     "duration": 0.026971,
     "end_time": "2025-03-14T06:27:12.377364",
     "exception": false,
     "start_time": "2025-03-14T06:27:12.350393",
     "status": "completed"
    },
    "tags": []
   },
   "outputs": [
    {
     "name": "stdout",
     "output_type": "stream",
     "text": [
      "<class 'pandas.core.frame.DataFrame'>\n",
      "RangeIndex: 9303 entries, 0 to 9302\n",
      "Data columns (total 37 columns):\n",
      " #   Column            Non-Null Count  Dtype  \n",
      "---  ------            --------------  -----  \n",
      " 0   Season            9303 non-null   int64  \n",
      " 1   T1_TeamID         9303 non-null   int64  \n",
      " 2   T1_Scoremean      9303 non-null   float64\n",
      " 3   T2_Scoremean      9303 non-null   float64\n",
      " 4   PointDiffmean     9303 non-null   float64\n",
      " 5   T1_FGMmean        9303 non-null   float64\n",
      " 6   T2_FGMmean        9303 non-null   float64\n",
      " 7   T1_FGAmean        9303 non-null   float64\n",
      " 8   T2_FGAmean        9303 non-null   float64\n",
      " 9   T1_EFG_SUMmean    9303 non-null   float64\n",
      " 10  T2_EFG_SUMmean    9303 non-null   float64\n",
      " 11  T1_TO_RATIOmean   9303 non-null   float64\n",
      " 12  T2_TO_RATIOmean   9303 non-null   float64\n",
      " 13  T1_ORmean         9303 non-null   float64\n",
      " 14  T2_ORmean         9303 non-null   float64\n",
      " 15  T1_DRmean         9303 non-null   float64\n",
      " 16  T2_DRmean         9303 non-null   float64\n",
      " 17  T1_REB_RATEmean   9303 non-null   float64\n",
      " 18  T2_REB_RATEmean   9303 non-null   float64\n",
      " 19  T1_FT_RATEmean    9303 non-null   float64\n",
      " 20  T2_FT_RATEmean    9303 non-null   float64\n",
      " 21  T1_POSS_RATEmean  9303 non-null   float64\n",
      " 22  T2_POSS_RATEmean  9303 non-null   float64\n",
      " 23  T1_Astmean        9303 non-null   float64\n",
      " 24  T2_Astmean        9303 non-null   float64\n",
      " 25  T1_TOmean         9303 non-null   float64\n",
      " 26  T2_TOmean         9303 non-null   float64\n",
      " 27  T1_Stlmean        9303 non-null   float64\n",
      " 28  T2_Stlmean        9303 non-null   float64\n",
      " 29  T1_Blkmean        9303 non-null   float64\n",
      " 30  T2_Blkmean        9303 non-null   float64\n",
      " 31  T1_PFmean         9303 non-null   float64\n",
      " 32  T2_PFmean         9303 non-null   float64\n",
      " 33  T1_win_ratio_14d  9000 non-null   float64\n",
      " 34  T1_quality        9303 non-null   float64\n",
      " 35  T1_seed           1772 non-null   float64\n",
      " 36  T1_OrdinalRank    5834 non-null   float64\n",
      "dtypes: float64(35), int64(2)\n",
      "memory usage: 2.6 MB\n"
     ]
    }
   ],
   "source": [
    "season_statistics.info()"
   ]
  },
  {
   "cell_type": "code",
   "execution_count": 11,
   "id": "ee7204bb",
   "metadata": {
    "execution": {
     "iopub.execute_input": "2025-03-14T06:27:12.399638Z",
     "iopub.status.busy": "2025-03-14T06:27:12.399638Z",
     "iopub.status.idle": "2025-03-14T06:27:12.429194Z",
     "shell.execute_reply": "2025-03-14T06:27:12.429194Z"
    },
    "papermill": {
     "duration": 0.053703,
     "end_time": "2025-03-14T06:27:12.431067",
     "exception": false,
     "start_time": "2025-03-14T06:27:12.377364",
     "status": "completed"
    },
    "tags": []
   },
   "outputs": [],
   "source": [
    "####ボックスscoreの平均に対して、過去３年の加重平均を取るときの処理 ####\n",
    "def get_mean_of_3_season(val_2ps, val_1ps, val_0ps, \n",
    "                         weight_2, weight_1, weight_0, \n",
    "                         degree_weight=1.0\n",
    "                         ):\n",
    "    weight_2 = weight_2**degree_weight\n",
    "    weight_1 = weight_1**degree_weight\n",
    "    weight_0 = weight_0**degree_weight\n",
    "    if val_2ps == 0  and val_1ps == 0:\n",
    "        return val_0ps\n",
    "    elif val_2ps == 0:\n",
    "        return (val_1ps*weight_2 + val_0ps*weight_1)/(weight_2 + weight_1)\n",
    "    else:\n",
    "        sum_of_values = val_2ps*weight_2 + val_1ps*weight_1 + val_0ps*weight_0\n",
    "        return sum_of_values/(weight_2 + weight_1 + weight_0)\n",
    "\n",
    "def get_3_feature(df_team, feature):\n",
    "    value_2_seasons_ago = 0\n",
    "    value_1_season_ago = 0\n",
    "    value_0_season_ago = 0\n",
    "    for _, val in df_team.iterrows():\n",
    "        value_2_seasons_ago = value_1_season_ago\n",
    "        value_1_season_ago = value_0_season_ago\n",
    "        value_0_season_ago = val[feature]\n",
    "    return value_2_seasons_ago, value_1_season_ago, value_0_season_ago\n",
    "\n",
    "def write_mean_of_3_seasons(df, features, weight, degree_weight=1.0):\n",
    "    \"\"\"\n",
    "    val_0ps - current season value\n",
    "    weight_0 - current season weight\n",
    "    val_1ps - last season value\n",
    "    val_2ps - the value of the season before last\n",
    "    \"\"\"\n",
    "    weight_2=weight[0]\n",
    "    weight_1=weight[1]\n",
    "    weight_0=weight[2]\n",
    "    df_copy = df.copy()\n",
    "    suffix = \"_mn3s\"\n",
    "    \n",
    "    for ft in features:\n",
    "        df_copy[ft + suffix] = 0\n",
    "    for idx, val in tqdm(df_copy.iterrows(), total=len(df_copy)):\n",
    "        team = val.T1_TeamID\n",
    "        season = val.Season\n",
    "        df_team = df_copy[(df_copy.T1_TeamID == team)&\n",
    "                          (df_copy.Season <= season)&\n",
    "                          (df_copy.Season > season-3)]\n",
    "        for ft in features:\n",
    "            val_2ps, val_1ps, val_0ps = get_3_feature(df_team, ft)\n",
    "            ft_mean_3 = get_mean_of_3_season(val_2ps, val_1ps, val_0ps, weight_2, weight_1, weight_0, degree_weight=degree_weight)\n",
    "            df_copy.loc[idx, ft + suffix] = ft_mean_3\n",
    "    return df_copy"
   ]
  },
  {
   "cell_type": "code",
   "execution_count": 12,
   "id": "501d3537",
   "metadata": {
    "execution": {
     "iopub.execute_input": "2025-03-14T06:27:12.453805Z",
     "iopub.status.busy": "2025-03-14T06:27:12.451797Z",
     "iopub.status.idle": "2025-03-14T06:27:12.486382Z",
     "shell.execute_reply": "2025-03-14T06:27:12.486382Z"
    },
    "papermill": {
     "duration": 0.045682,
     "end_time": "2025-03-14T06:27:12.487437",
     "exception": false,
     "start_time": "2025-03-14T06:27:12.441755",
     "status": "completed"
    },
    "tags": []
   },
   "outputs": [
    {
     "name": "stdout",
     "output_type": "stream",
     "text": [
      "#####\n",
      "skip 3 season verage\n",
      "#####\n"
     ]
    },
    {
     "data": {
      "text/html": [
       "<div>\n",
       "<style scoped>\n",
       "    .dataframe tbody tr th:only-of-type {\n",
       "        vertical-align: middle;\n",
       "    }\n",
       "\n",
       "    .dataframe tbody tr th {\n",
       "        vertical-align: top;\n",
       "    }\n",
       "\n",
       "    .dataframe thead th {\n",
       "        text-align: right;\n",
       "    }\n",
       "</style>\n",
       "<table border=\"1\" class=\"dataframe\">\n",
       "  <thead>\n",
       "    <tr style=\"text-align: right;\">\n",
       "      <th></th>\n",
       "      <th>Season</th>\n",
       "      <th>T1_TeamID</th>\n",
       "      <th>T1_Scoremean</th>\n",
       "      <th>T1_opponent_Scoremean</th>\n",
       "      <th>T1_PointDiffmean</th>\n",
       "      <th>T1_FGMmean</th>\n",
       "      <th>T1_opponent_FGMmean</th>\n",
       "      <th>T1_FGAmean</th>\n",
       "      <th>T1_opponent_FGAmean</th>\n",
       "      <th>T1_EFG_SUMmean</th>\n",
       "      <th>...</th>\n",
       "      <th>T1_Stlmean</th>\n",
       "      <th>T1_opponent_Stlmean</th>\n",
       "      <th>T1_Blkmean</th>\n",
       "      <th>T1_opponent_Blkmean</th>\n",
       "      <th>T1_PFmean</th>\n",
       "      <th>T1_opponent_PFmean</th>\n",
       "      <th>T1_win_ratio_14d</th>\n",
       "      <th>T1_quality</th>\n",
       "      <th>T1_seed</th>\n",
       "      <th>T1_OrdinalRank</th>\n",
       "    </tr>\n",
       "  </thead>\n",
       "  <tbody>\n",
       "    <tr>\n",
       "      <th>0</th>\n",
       "      <td>2003</td>\n",
       "      <td>1102</td>\n",
       "      <td>57.250000</td>\n",
       "      <td>57.000000</td>\n",
       "      <td>0.25000</td>\n",
       "      <td>19.142857</td>\n",
       "      <td>19.285714</td>\n",
       "      <td>39.785714</td>\n",
       "      <td>42.428571</td>\n",
       "      <td>0.584407</td>\n",
       "      <td>...</td>\n",
       "      <td>5.964286</td>\n",
       "      <td>5.428571</td>\n",
       "      <td>1.785714</td>\n",
       "      <td>1.571429</td>\n",
       "      <td>18.750000</td>\n",
       "      <td>18.357143</td>\n",
       "      <td>0.333333</td>\n",
       "      <td>-0.070776</td>\n",
       "      <td>NaN</td>\n",
       "      <td>144.2875</td>\n",
       "    </tr>\n",
       "    <tr>\n",
       "      <th>1</th>\n",
       "      <td>2003</td>\n",
       "      <td>1103</td>\n",
       "      <td>78.777778</td>\n",
       "      <td>78.148148</td>\n",
       "      <td>0.62963</td>\n",
       "      <td>27.148148</td>\n",
       "      <td>27.777778</td>\n",
       "      <td>55.851852</td>\n",
       "      <td>57.000000</td>\n",
       "      <td>0.536564</td>\n",
       "      <td>...</td>\n",
       "      <td>7.259259</td>\n",
       "      <td>6.407407</td>\n",
       "      <td>2.333333</td>\n",
       "      <td>2.851852</td>\n",
       "      <td>19.851852</td>\n",
       "      <td>22.444444</td>\n",
       "      <td>0.333333</td>\n",
       "      <td>-0.116192</td>\n",
       "      <td>NaN</td>\n",
       "      <td>182.2050</td>\n",
       "    </tr>\n",
       "  </tbody>\n",
       "</table>\n",
       "<p>2 rows × 37 columns</p>\n",
       "</div>"
      ],
      "text/plain": [
       "   Season  T1_TeamID  T1_Scoremean  T1_opponent_Scoremean  T1_PointDiffmean  \\\n",
       "0    2003       1102     57.250000              57.000000           0.25000   \n",
       "1    2003       1103     78.777778              78.148148           0.62963   \n",
       "\n",
       "   T1_FGMmean  T1_opponent_FGMmean  T1_FGAmean  T1_opponent_FGAmean  \\\n",
       "0   19.142857            19.285714   39.785714            42.428571   \n",
       "1   27.148148            27.777778   55.851852            57.000000   \n",
       "\n",
       "   T1_EFG_SUMmean  ...  T1_Stlmean  T1_opponent_Stlmean  T1_Blkmean  \\\n",
       "0        0.584407  ...    5.964286             5.428571    1.785714   \n",
       "1        0.536564  ...    7.259259             6.407407    2.333333   \n",
       "\n",
       "   T1_opponent_Blkmean  T1_PFmean  T1_opponent_PFmean  T1_win_ratio_14d  \\\n",
       "0             1.571429  18.750000           18.357143          0.333333   \n",
       "1             2.851852  19.851852           22.444444          0.333333   \n",
       "\n",
       "   T1_quality  T1_seed  T1_OrdinalRank  \n",
       "0   -0.070776      NaN        144.2875  \n",
       "1   -0.116192      NaN        182.2050  \n",
       "\n",
       "[2 rows x 37 columns]"
      ]
     },
     "metadata": {},
     "output_type": "display_data"
    },
    {
     "data": {
      "text/html": [
       "<div>\n",
       "<style scoped>\n",
       "    .dataframe tbody tr th:only-of-type {\n",
       "        vertical-align: middle;\n",
       "    }\n",
       "\n",
       "    .dataframe tbody tr th {\n",
       "        vertical-align: top;\n",
       "    }\n",
       "\n",
       "    .dataframe thead th {\n",
       "        text-align: right;\n",
       "    }\n",
       "</style>\n",
       "<table border=\"1\" class=\"dataframe\">\n",
       "  <thead>\n",
       "    <tr style=\"text-align: right;\">\n",
       "      <th></th>\n",
       "      <th>Season</th>\n",
       "      <th>T2_TeamID</th>\n",
       "      <th>T2_Scoremean</th>\n",
       "      <th>T2_opponent_Scoremean</th>\n",
       "      <th>T2_PointDiffmean</th>\n",
       "      <th>T2_FGMmean</th>\n",
       "      <th>T2_opponent_FGMmean</th>\n",
       "      <th>T2_FGAmean</th>\n",
       "      <th>T2_opponent_FGAmean</th>\n",
       "      <th>T2_EFG_SUMmean</th>\n",
       "      <th>...</th>\n",
       "      <th>T2_Stlmean</th>\n",
       "      <th>T2_opponent_Stlmean</th>\n",
       "      <th>T2_Blkmean</th>\n",
       "      <th>T2_opponent_Blkmean</th>\n",
       "      <th>T2_PFmean</th>\n",
       "      <th>T2_opponent_PFmean</th>\n",
       "      <th>T2_win_ratio_14d</th>\n",
       "      <th>T2_quality</th>\n",
       "      <th>T2_seed</th>\n",
       "      <th>T2_OrdinalRank</th>\n",
       "    </tr>\n",
       "  </thead>\n",
       "  <tbody>\n",
       "    <tr>\n",
       "      <th>9301</th>\n",
       "      <td>2019</td>\n",
       "      <td>3465</td>\n",
       "      <td>76.200000</td>\n",
       "      <td>69.840000</td>\n",
       "      <td>6.360000</td>\n",
       "      <td>28.560000</td>\n",
       "      <td>26.600000</td>\n",
       "      <td>67.520000</td>\n",
       "      <td>69.20000</td>\n",
       "      <td>0.493625</td>\n",
       "      <td>...</td>\n",
       "      <td>7.280000</td>\n",
       "      <td>7.920000</td>\n",
       "      <td>3.160000</td>\n",
       "      <td>3.160000</td>\n",
       "      <td>15.520000</td>\n",
       "      <td>15.440000</td>\n",
       "      <td>0.5</td>\n",
       "      <td>-0.182555</td>\n",
       "      <td>NaN</td>\n",
       "      <td>NaN</td>\n",
       "    </tr>\n",
       "    <tr>\n",
       "      <th>9302</th>\n",
       "      <td>2019</td>\n",
       "      <td>3466</td>\n",
       "      <td>69.521739</td>\n",
       "      <td>63.217391</td>\n",
       "      <td>6.304348</td>\n",
       "      <td>24.869565</td>\n",
       "      <td>23.913043</td>\n",
       "      <td>58.434783</td>\n",
       "      <td>58.26087</td>\n",
       "      <td>0.478102</td>\n",
       "      <td>...</td>\n",
       "      <td>8.478261</td>\n",
       "      <td>8.478261</td>\n",
       "      <td>3.695652</td>\n",
       "      <td>3.217391</td>\n",
       "      <td>17.478261</td>\n",
       "      <td>19.173913</td>\n",
       "      <td>0.0</td>\n",
       "      <td>0.107970</td>\n",
       "      <td>NaN</td>\n",
       "      <td>NaN</td>\n",
       "    </tr>\n",
       "  </tbody>\n",
       "</table>\n",
       "<p>2 rows × 37 columns</p>\n",
       "</div>"
      ],
      "text/plain": [
       "      Season  T2_TeamID  T2_Scoremean  T2_opponent_Scoremean  \\\n",
       "9301    2019       3465     76.200000              69.840000   \n",
       "9302    2019       3466     69.521739              63.217391   \n",
       "\n",
       "      T2_PointDiffmean  T2_FGMmean  T2_opponent_FGMmean  T2_FGAmean  \\\n",
       "9301          6.360000   28.560000            26.600000   67.520000   \n",
       "9302          6.304348   24.869565            23.913043   58.434783   \n",
       "\n",
       "      T2_opponent_FGAmean  T2_EFG_SUMmean  ...  T2_Stlmean  \\\n",
       "9301             69.20000        0.493625  ...    7.280000   \n",
       "9302             58.26087        0.478102  ...    8.478261   \n",
       "\n",
       "      T2_opponent_Stlmean  T2_Blkmean  T2_opponent_Blkmean  T2_PFmean  \\\n",
       "9301             7.920000    3.160000             3.160000  15.520000   \n",
       "9302             8.478261    3.695652             3.217391  17.478261   \n",
       "\n",
       "      T2_opponent_PFmean  T2_win_ratio_14d  T2_quality  T2_seed  \\\n",
       "9301           15.440000               0.5   -0.182555      NaN   \n",
       "9302           19.173913               0.0    0.107970      NaN   \n",
       "\n",
       "      T2_OrdinalRank  \n",
       "9301             NaN  \n",
       "9302             NaN  \n",
       "\n",
       "[2 rows x 37 columns]"
      ]
     },
     "metadata": {},
     "output_type": "display_data"
    }
   ],
   "source": [
    "flag_3season_avg = FEATURES.season_average.enabled\n",
    "\n",
    "#trueのときの処理理解してfalseと一致させる\n",
    "if flag_3season_avg:\n",
    "    print(\"#####\")\n",
    "    print(\"use 3 season average\")\n",
    "    print(\"#####\")\n",
    "    weight = FEATURES.season_average.weights\n",
    "    years = FEATURES.season_average.past_years\n",
    "    assert years==len(weight)\n",
    "    \n",
    "    features_for_calc = [\"T1_Scoremean\", \"T1_FGAmean\",  \"T1_FGA3mean\"]\n",
    "    season_statistics_with_3_seas = write_mean_of_3_seasons(\n",
    "        season_statistics, features_for_calc, weight, degree_weight=1.0\n",
    "    )\n",
    "    \n",
    "    season_statistics_T1 = season_statistics_with_3_seas.copy()\n",
    "    season_statistics_T2 = season_statistics_with_3_seas.copy()\n",
    "    \n",
    "else:\n",
    "    print(\"#####\")\n",
    "    print(\"skip 3 season verage\")\n",
    "    print(\"#####\")\n",
    "    season_statistics_T1 = season_statistics.copy()\n",
    "    season_statistics_T2 = season_statistics.copy()\n",
    "\n",
    "season_statistics_T1.columns = [\"T1_\" + x.replace(\"T1_\",\"\").replace(\"T2_\",\"opponent_\") for x in list(season_statistics_T1.columns)]\n",
    "season_statistics_T2.columns = [\"T2_\" + x.replace(\"T1_\",\"\").replace(\"T2_\",\"opponent_\") for x in list(season_statistics_T2.columns)]\n",
    "season_statistics_T1.columns.values[0] = \"Season\"\n",
    "season_statistics_T2.columns.values[0] = \"Season\"\n",
    "\n",
    "\n",
    "season_statistics_T2.rename(columns = {\n",
    "    \"T1_TeamID\": \"T2_TeamID\"\n",
    "}, inplace=True)\n",
    "display(season_statistics_T1.head(2), season_statistics_T2.tail(2))"
   ]
  },
  {
   "cell_type": "markdown",
   "id": "f1266492",
   "metadata": {
    "papermill": {
     "duration": 0.02186,
     "end_time": "2025-03-14T06:27:12.509297",
     "exception": false,
     "start_time": "2025-03-14T06:27:12.487437",
     "status": "completed"
    },
    "tags": []
   },
   "source": [
    "# Toureney dataの処理\n",
    "1. pointdiff, pointが目的変数となるのでそれはyに分離\n",
    "2. seasonstatisticを結合したものをXとして作る"
   ]
  },
  {
   "cell_type": "code",
   "execution_count": 13,
   "id": "04987426",
   "metadata": {
    "execution": {
     "iopub.execute_input": "2025-03-14T06:27:12.525510Z",
     "iopub.status.busy": "2025-03-14T06:27:12.525510Z",
     "iopub.status.idle": "2025-03-14T06:27:12.536771Z",
     "shell.execute_reply": "2025-03-14T06:27:12.536771Z"
    },
    "papermill": {
     "duration": 0.019435,
     "end_time": "2025-03-14T06:27:12.536771",
     "exception": false,
     "start_time": "2025-03-14T06:27:12.517336",
     "status": "completed"
    },
    "tags": []
   },
   "outputs": [],
   "source": [
    "\n",
    "def process_tourney(df1, mode=\"tourney\"):\n",
    "    #Season, teamid ->X, team_score->y\n",
    "    df = df1.copy()\n",
    "    if mode==\"tourney\":\n",
    "        df = prepare_data(df) \n",
    "        y = df[\"T1_Score\"]-df[\"T2_Score\"]\n",
    "    X = df[['Season', 'T1_TeamID', 'T2_TeamID']]\n",
    "    X = pd.merge(X, season_statistics_T1, on = ['Season', 'T1_TeamID'], how = 'left')\n",
    "    X = pd.merge(X, season_statistics_T2, on = ['Season', 'T2_TeamID'], how = 'left')\n",
    "    \n",
    "    #seed->seed diff\n",
    "    X[\"seed_diff\"] = X[\"T1_seed\"] - X[\"T2_seed\"]\n",
    "    #rank->rank diff\n",
    "    X[\"rank_diff\"] = X[\"T1_OrdinalRank\"] - X[\"T2_OrdinalRank\"]\n",
    "    #quality->quality diff\n",
    "    X[\"quality_diff\"] = X[\"T1_quality\"] - X[\"T2_quality\"]\n",
    "    #win_ratio_14d -> win_raio_14d_diff\n",
    "    X[\"win_ratio_14d_diff\"] = X[\"T1_win_ratio_14d\"] - X[\"T2_win_ratio_14d\"]\n",
    "    #tourney_data.drop(columns=[\"T1_seed\", \"T2_seed\"], inplace=True)\n",
    "\n",
    "    X = X.drop(columns=[\"T1_seed\", \"T2_seed\", \"T1_OrdinalRank\", \"T2_OrdinalRank\", \n",
    "                        \"T1_quality\", \"T2_quality\", \"T1_win_ratio_14d\", \"T2_win_ratio_14d\"\n",
    "                        ])\n",
    "\n",
    "    # if rank_diff is False, drop.\n",
    "    IS_RANKDIFF = FEATURES.rank_diff\n",
    "    if not IS_RANKDIFF:\n",
    "        X = X.drop(columns=[\"rank_diff\"])\n",
    "        print(\"drop rank_diff\")\n",
    "    \n",
    "    # if fillna is true-> run fillna()\n",
    "    FILLNA = FEATURES.fillna.quality\n",
    "    if FILLNA==\"nan\":\n",
    "        print(f\"no fillna, use nan\")\n",
    "        X[\"quality_diff\"] = X[\"quality_diff\"].fillna(np.nan)\n",
    "    else:\n",
    "        print(f\"fillna quality feature for {FILLNA}\")\n",
    "        X[\"quality_diff\"] = X[\"quality_diff\"].fillna(FILLNA)\n",
    "\n",
    "        \n",
    "    return X, y if mode==\"tourney\" else X"
   ]
  },
  {
   "cell_type": "code",
   "execution_count": 14,
   "id": "f9d33302",
   "metadata": {
    "execution": {
     "iopub.execute_input": "2025-03-14T06:27:12.558528Z",
     "iopub.status.busy": "2025-03-14T06:27:12.558528Z",
     "iopub.status.idle": "2025-03-14T06:27:12.617846Z",
     "shell.execute_reply": "2025-03-14T06:27:12.617846Z"
    },
    "papermill": {
     "duration": 0.070112,
     "end_time": "2025-03-14T06:27:12.617846",
     "exception": false,
     "start_time": "2025-03-14T06:27:12.547734",
     "status": "completed"
    },
    "tags": []
   },
   "outputs": [
    {
     "name": "stdout",
     "output_type": "stream",
     "text": [
      "<class 'pandas.core.frame.DataFrame'>\n",
      "Index: 1615 entries, 0 to 1948\n",
      "Data columns (total 56 columns):\n",
      " #   Column       Non-Null Count  Dtype  \n",
      "---  ------       --------------  -----  \n",
      " 0   Season       1615 non-null   int64  \n",
      " 1   DayNum       1615 non-null   int64  \n",
      " 2   WTeamID      1615 non-null   int64  \n",
      " 3   WScore       1615 non-null   int64  \n",
      " 4   LTeamID      1615 non-null   int64  \n",
      " 5   LScore       1615 non-null   int64  \n",
      " 6   WLoc         1615 non-null   object \n",
      " 7   NumOT        1615 non-null   int64  \n",
      " 8   WFGM         1615 non-null   int64  \n",
      " 9   WFGA         1615 non-null   int64  \n",
      " 10  WFGM3        1615 non-null   int64  \n",
      " 11  WFGA3        1615 non-null   int64  \n",
      " 12  WFTM         1615 non-null   int64  \n",
      " 13  WFTA         1615 non-null   int64  \n",
      " 14  WOR          1615 non-null   int64  \n",
      " 15  WDR          1615 non-null   int64  \n",
      " 16  WAst         1615 non-null   int64  \n",
      " 17  WTO          1615 non-null   int64  \n",
      " 18  WStl         1615 non-null   int64  \n",
      " 19  WBlk         1615 non-null   int64  \n",
      " 20  WPF          1615 non-null   int64  \n",
      " 21  LFGM         1615 non-null   int64  \n",
      " 22  LFGA         1615 non-null   int64  \n",
      " 23  LFGM3        1615 non-null   int64  \n",
      " 24  LFGA3        1615 non-null   int64  \n",
      " 25  LFTM         1615 non-null   int64  \n",
      " 26  LFTA         1615 non-null   int64  \n",
      " 27  LOR          1615 non-null   int64  \n",
      " 28  LDR          1615 non-null   int64  \n",
      " 29  LAst         1615 non-null   int64  \n",
      " 30  LTO          1615 non-null   int64  \n",
      " 31  LStl         1615 non-null   int64  \n",
      " 32  LBlk         1615 non-null   int64  \n",
      " 33  LPF          1615 non-null   int64  \n",
      " 34  WEFFG        1615 non-null   float64\n",
      " 35  LEFFG        1615 non-null   float64\n",
      " 36  WEFFG3       1615 non-null   float64\n",
      " 37  LEFFG3       1615 non-null   float64\n",
      " 38  WDARE        1615 non-null   float64\n",
      " 39  LDARE        1615 non-null   float64\n",
      " 40  WTOQUETOQUE  1615 non-null   float64\n",
      " 41  LTOQUETOQUE  1615 non-null   float64\n",
      " 42  WEFG_SUM     1615 non-null   float64\n",
      " 43  LEFG_SUM     1615 non-null   float64\n",
      " 44  WPOSS        1615 non-null   float64\n",
      " 45  LPOSS        1615 non-null   float64\n",
      " 46  WPOSS_RATE   1615 non-null   float64\n",
      " 47  LPOSS_RATE   1615 non-null   float64\n",
      " 48  WTO_RATIO    1615 non-null   float64\n",
      " 49  LTO_RATIO    1615 non-null   float64\n",
      " 50  WREB_RATE    1615 non-null   float64\n",
      " 51  LREB_RATE    1615 non-null   float64\n",
      " 52  WFT_RATE     1615 non-null   float64\n",
      " 53  LFT_RATE     1615 non-null   float64\n",
      " 54  WRATING      1615 non-null   float64\n",
      " 55  LRATING      1615 non-null   float64\n",
      "dtypes: float64(22), int64(33), object(1)\n",
      "memory usage: 719.2+ KB\n",
      "None\n"
     ]
    },
    {
     "name": "stdout",
     "output_type": "stream",
     "text": [
      "feature cols after prepare()\n",
      "Index(['Season', 'DayNum', 'T1_TeamID', 'T1_Score', 'T2_TeamID', 'T2_Score',\n",
      "       'location', 'NumOT', 'T1_FGM', 'T1_FGA', 'T1_FGM3', 'T1_FGA3', 'T1_FTM',\n",
      "       'T1_FTA', 'T1_OR', 'T1_DR', 'T1_Ast', 'T1_TO', 'T1_Stl', 'T1_Blk',\n",
      "       'T1_PF', 'T2_FGM', 'T2_FGA', 'T2_FGM3', 'T2_FGA3', 'T2_FTM', 'T2_FTA',\n",
      "       'T2_OR', 'T2_DR', 'T2_Ast', 'T2_TO', 'T2_Stl', 'T2_Blk', 'T2_PF',\n",
      "       'T1_EFFG', 'T2_EFFG', 'T1_EFFG3', 'T2_EFFG3', 'T1_DARE', 'T2_DARE',\n",
      "       'T1_TOQUETOQUE', 'T2_TOQUETOQUE', 'T1_EFG_SUM', 'T2_EFG_SUM', 'T1_POSS',\n",
      "       'T2_POSS', 'T1_POSS_RATE', 'T2_POSS_RATE', 'T1_TO_RATIO', 'T2_TO_RATIO',\n",
      "       'T1_REB_RATE', 'T2_REB_RATE', 'T1_FT_RATE', 'T2_FT_RATE', 'T1_RATING',\n",
      "       'T2_RATING', 'PointDiff', 'win'],\n",
      "      dtype='object')\n",
      "no fillna, use nan\n"
     ]
    }
   ],
   "source": [
    "X, y = process_tourney(tourney_results)"
   ]
  },
  {
   "cell_type": "code",
   "execution_count": 15,
   "id": "f2cfd5e1",
   "metadata": {
    "execution": {
     "iopub.execute_input": "2025-03-14T06:27:12.642562Z",
     "iopub.status.busy": "2025-03-14T06:27:12.641613Z",
     "iopub.status.idle": "2025-03-14T06:27:12.647829Z",
     "shell.execute_reply": "2025-03-14T06:27:12.647829Z"
    },
    "papermill": {
     "duration": 0.022141,
     "end_time": "2025-03-14T06:27:12.647829",
     "exception": false,
     "start_time": "2025-03-14T06:27:12.625688",
     "status": "completed"
    },
    "tags": []
   },
   "outputs": [
    {
     "name": "stdout",
     "output_type": "stream",
     "text": [
      "drop col list: ['T1_TOmean', 'T2_TOmean', 'T1_opponent_POSS_RATEmean', 'T2_opponent_POSS_RATEmean', 'T1_opponent_Astmean', 'T2_opponent_Astmean', 'T1_opponent_FT_RATEmean', 'T2_opponent_FT_RATEmean', 'T1_opponent_Stlmean', 'T2_opponent_Stlmean', 'T1_ORmean', 'T2_ORmean', 'T1_opponent_ORmean', 'T2_opponent_ORmean']\n"
     ]
    }
   ],
   "source": [
    "#opponentなど明示的に特徴量選出に基づいて落とす\n",
    "def drop_columns(df, cols):\n",
    "    if not cols: return df\n",
    "    existing_cols = [col for col in cols if col in df.columns]\n",
    "    print(f\"drop col list: {existing_cols}\")\n",
    "    return df.drop(columns=existing_cols)\n",
    "\n",
    "drop_col = FEATURES.dropfeatures\n",
    "X = drop_columns(X, drop_col)"
   ]
  },
  {
   "cell_type": "code",
   "execution_count": 16,
   "id": "8d0792b0",
   "metadata": {
    "execution": {
     "iopub.execute_input": "2025-03-14T06:27:12.658288Z",
     "iopub.status.busy": "2025-03-14T06:27:12.658288Z",
     "iopub.status.idle": "2025-03-14T06:27:12.673772Z",
     "shell.execute_reply": "2025-03-14T06:27:12.672758Z"
    },
    "papermill": {
     "duration": 0.016482,
     "end_time": "2025-03-14T06:27:12.674770",
     "exception": false,
     "start_time": "2025-03-14T06:27:12.658288",
     "status": "completed"
    },
    "tags": []
   },
   "outputs": [
    {
     "name": "stdout",
     "output_type": "stream",
     "text": [
      "最終的な X の特徴量\n",
      "Index(['Season', 'T1_TeamID', 'T2_TeamID', 'T1_Scoremean',\n",
      "       'T1_opponent_Scoremean', 'T1_PointDiffmean', 'T1_FGMmean',\n",
      "       'T1_opponent_FGMmean', 'T1_FGAmean', 'T1_opponent_FGAmean',\n",
      "       'T1_EFG_SUMmean', 'T1_opponent_EFG_SUMmean', 'T1_TO_RATIOmean',\n",
      "       'T1_opponent_TO_RATIOmean', 'T1_DRmean', 'T1_opponent_DRmean',\n",
      "       'T1_REB_RATEmean', 'T1_opponent_REB_RATEmean', 'T1_FT_RATEmean',\n",
      "       'T1_POSS_RATEmean', 'T1_Astmean', 'T1_opponent_TOmean', 'T1_Stlmean',\n",
      "       'T1_Blkmean', 'T1_opponent_Blkmean', 'T1_PFmean', 'T1_opponent_PFmean',\n",
      "       'T2_Scoremean', 'T2_opponent_Scoremean', 'T2_PointDiffmean',\n",
      "       'T2_FGMmean', 'T2_opponent_FGMmean', 'T2_FGAmean',\n",
      "       'T2_opponent_FGAmean', 'T2_EFG_SUMmean', 'T2_opponent_EFG_SUMmean',\n",
      "       'T2_TO_RATIOmean', 'T2_opponent_TO_RATIOmean', 'T2_DRmean',\n",
      "       'T2_opponent_DRmean', 'T2_REB_RATEmean', 'T2_opponent_REB_RATEmean',\n",
      "       'T2_FT_RATEmean', 'T2_POSS_RATEmean', 'T2_Astmean',\n",
      "       'T2_opponent_TOmean', 'T2_Stlmean', 'T2_Blkmean', 'T2_opponent_Blkmean',\n",
      "       'T2_PFmean', 'T2_opponent_PFmean', 'seed_diff', 'rank_diff',\n",
      "       'quality_diff', 'win_ratio_14d_diff'],\n",
      "      dtype='object')\n"
     ]
    }
   ],
   "source": [
    "print(\"最終的な X の特徴量\")\n",
    "print(X.columns)"
   ]
  },
  {
   "cell_type": "code",
   "execution_count": 17,
   "id": "f6952a43",
   "metadata": {
    "execution": {
     "iopub.execute_input": "2025-03-14T06:27:12.691546Z",
     "iopub.status.busy": "2025-03-14T06:27:12.691546Z",
     "iopub.status.idle": "2025-03-14T06:27:12.708874Z",
     "shell.execute_reply": "2025-03-14T06:27:12.707222Z"
    },
    "papermill": {
     "duration": 0.035914,
     "end_time": "2025-03-14T06:27:12.710684",
     "exception": false,
     "start_time": "2025-03-14T06:27:12.674770",
     "status": "completed"
    },
    "tags": []
   },
   "outputs": [
    {
     "name": "stdout",
     "output_type": "stream",
     "text": [
      "<class 'pandas.core.frame.DataFrame'>\n",
      "RangeIndex: 3230 entries, 0 to 3229\n",
      "Data columns (total 55 columns):\n",
      " #   Column                    Non-Null Count  Dtype  \n",
      "---  ------                    --------------  -----  \n",
      " 0   Season                    3230 non-null   int64  \n",
      " 1   T1_TeamID                 3230 non-null   int64  \n",
      " 2   T2_TeamID                 3230 non-null   int64  \n",
      " 3   T1_Scoremean              3230 non-null   float64\n",
      " 4   T1_opponent_Scoremean     3230 non-null   float64\n",
      " 5   T1_PointDiffmean          3230 non-null   float64\n",
      " 6   T1_FGMmean                3230 non-null   float64\n",
      " 7   T1_opponent_FGMmean       3230 non-null   float64\n",
      " 8   T1_FGAmean                3230 non-null   float64\n",
      " 9   T1_opponent_FGAmean       3230 non-null   float64\n",
      " 10  T1_EFG_SUMmean            3230 non-null   float64\n",
      " 11  T1_opponent_EFG_SUMmean   3230 non-null   float64\n",
      " 12  T1_TO_RATIOmean           3230 non-null   float64\n",
      " 13  T1_opponent_TO_RATIOmean  3230 non-null   float64\n",
      " 14  T1_DRmean                 3230 non-null   float64\n",
      " 15  T1_opponent_DRmean        3230 non-null   float64\n",
      " 16  T1_REB_RATEmean           3230 non-null   float64\n",
      " 17  T1_opponent_REB_RATEmean  3230 non-null   float64\n",
      " 18  T1_FT_RATEmean            3230 non-null   float64\n",
      " 19  T1_POSS_RATEmean          3230 non-null   float64\n",
      " 20  T1_Astmean                3230 non-null   float64\n",
      " 21  T1_opponent_TOmean        3230 non-null   float64\n",
      " 22  T1_Stlmean                3230 non-null   float64\n",
      " 23  T1_Blkmean                3230 non-null   float64\n",
      " 24  T1_opponent_Blkmean       3230 non-null   float64\n",
      " 25  T1_PFmean                 3230 non-null   float64\n",
      " 26  T1_opponent_PFmean        3230 non-null   float64\n",
      " 27  T2_Scoremean              3230 non-null   float64\n",
      " 28  T2_opponent_Scoremean     3230 non-null   float64\n",
      " 29  T2_PointDiffmean          3230 non-null   float64\n",
      " 30  T2_FGMmean                3230 non-null   float64\n",
      " 31  T2_opponent_FGMmean       3230 non-null   float64\n",
      " 32  T2_FGAmean                3230 non-null   float64\n",
      " 33  T2_opponent_FGAmean       3230 non-null   float64\n",
      " 34  T2_EFG_SUMmean            3230 non-null   float64\n",
      " 35  T2_opponent_EFG_SUMmean   3230 non-null   float64\n",
      " 36  T2_TO_RATIOmean           3230 non-null   float64\n",
      " 37  T2_opponent_TO_RATIOmean  3230 non-null   float64\n",
      " 38  T2_DRmean                 3230 non-null   float64\n",
      " 39  T2_opponent_DRmean        3230 non-null   float64\n",
      " 40  T2_REB_RATEmean           3230 non-null   float64\n",
      " 41  T2_opponent_REB_RATEmean  3230 non-null   float64\n",
      " 42  T2_FT_RATEmean            3230 non-null   float64\n",
      " 43  T2_POSS_RATEmean          3230 non-null   float64\n",
      " 44  T2_Astmean                3230 non-null   float64\n",
      " 45  T2_opponent_TOmean        3230 non-null   float64\n",
      " 46  T2_Stlmean                3230 non-null   float64\n",
      " 47  T2_Blkmean                3230 non-null   float64\n",
      " 48  T2_opponent_Blkmean       3230 non-null   float64\n",
      " 49  T2_PFmean                 3230 non-null   float64\n",
      " 50  T2_opponent_PFmean        3230 non-null   float64\n",
      " 51  seed_diff                 3230 non-null   float64\n",
      " 52  rank_diff                 2096 non-null   float64\n",
      " 53  quality_diff              3230 non-null   float64\n",
      " 54  win_ratio_14d_diff        3230 non-null   float64\n",
      "dtypes: float64(52), int64(3)\n",
      "memory usage: 1.4 MB\n"
     ]
    }
   ],
   "source": [
    "X.info()"
   ]
  },
  {
   "cell_type": "markdown",
   "id": "77203492",
   "metadata": {
    "papermill": {
     "duration": 0.020348,
     "end_time": "2025-03-14T06:27:12.731032",
     "exception": false,
     "start_time": "2025-03-14T06:27:12.710684",
     "status": "completed"
    },
    "tags": []
   },
   "source": [
    "# build models"
   ]
  },
  {
   "cell_type": "code",
   "execution_count": 18,
   "id": "1fc98fc9",
   "metadata": {
    "execution": {
     "iopub.execute_input": "2025-03-14T06:27:12.753149Z",
     "iopub.status.busy": "2025-03-14T06:27:12.753149Z",
     "iopub.status.idle": "2025-03-14T06:27:12.794299Z",
     "shell.execute_reply": "2025-03-14T06:27:12.792281Z"
    },
    "papermill": {
     "duration": 0.055838,
     "end_time": "2025-03-14T06:27:12.797986",
     "exception": false,
     "start_time": "2025-03-14T06:27:12.742148",
     "status": "completed"
    },
    "tags": []
   },
   "outputs": [],
   "source": [
    "\n",
    "val_mae = []\n",
    "iteration_counts = []\n",
    "xgb_cv = []\n",
    "dtrain = xgb.DMatrix(X, label=y)\n",
    "\n",
    "repeat_cv = MODEL.repeat_cv\n",
    "param = dict(MODEL.xgb_model.param)\n",
    "num_boost_round = MODEL.xgb_model.num_boost_round\n",
    "folds_splits = MODEL.xgb_model.folds_splits\n",
    "early_stopping_rounds = MODEL.xgb_model.early_stopping_rounds\n",
    "\n",
    "# コーシー損失関数\n",
    "def cauchyobj(preds, dtrain):\n",
    "    labels = dtrain.get_label()\n",
    "    c = 5000\n",
    "    x = preds - labels    \n",
    "    grad = x / (x**2/c**2 + 1)\n",
    "    hess = -c**2 * (x**2 - c**2) / (x**2 + c**2)**2\n",
    "    return grad, hess"
   ]
  },
  {
   "cell_type": "code",
   "execution_count": 19,
   "id": "22e2cb72",
   "metadata": {
    "execution": {
     "iopub.execute_input": "2025-03-14T06:27:12.832883Z",
     "iopub.status.busy": "2025-03-14T06:27:12.831882Z",
     "iopub.status.idle": "2025-03-14T06:27:12.848895Z",
     "shell.execute_reply": "2025-03-14T06:27:12.848895Z"
    },
    "papermill": {
     "duration": 0.032415,
     "end_time": "2025-03-14T06:27:12.848895",
     "exception": false,
     "start_time": "2025-03-14T06:27:12.816480",
     "status": "completed"
    },
    "tags": []
   },
   "outputs": [],
   "source": [
    "#########################################\n",
    "# 1. Optunaあり：ハイパーパラメータ最適化 #\n",
    "#########################################\n",
    "def run_optuna_optimization(param, optuna_conf):\n",
    "    def objective(trial):  \n",
    "        logger.info(f\"Trial {trial.number} 開始\")\n",
    "        \n",
    "        current_param = param.copy()  \n",
    "        max_depth_range = optuna_conf.max_depth        \n",
    "        eta_range = optuna_conf.eta\n",
    "        subsample_range = optuna_conf.subsample          \n",
    "        colsample_bytree_range = optuna_conf.colsample_bytree\n",
    "        num_parallel_tree_range = optuna_conf.num_parallel_tree \n",
    "        min_child_weight_range = optuna_conf.min_child_weight \n",
    "        reg_alpha_range = optuna_conf.reg_alpha         \n",
    "        reg_lambda_range = optuna_conf.reg_lambda    \n",
    "        reg_gamma_range = optuna_conf.gamma  \n",
    "\n",
    "        current_param[\"max_depth\"] = trial.suggest_int(\"max_depth\", max_depth_range[0], max_depth_range[1])\n",
    "        current_param[\"eta\"] = trial.suggest_float(\"eta\", eta_range[0], eta_range[1], log=True)\n",
    "        current_param[\"subsample\"] = trial.suggest_float(\"subsample\", subsample_range[0], subsample_range[1])\n",
    "        current_param[\"colsample_bytree\"] = trial.suggest_float(\"colsample_bytree\", colsample_bytree_range[0], colsample_bytree_range[1])\n",
    "        current_param[\"num_parallel_tree\"] = trial.suggest_int(\"num_parallel_tree\", num_parallel_tree_range[0], num_parallel_tree_range[1])\n",
    "        current_param[\"min_child_weight\"] = trial.suggest_int(\"min_child_weight\", min_child_weight_range[0], min_child_weight_range[1])\n",
    "        current_param[\"reg_alpha\"] = trial.suggest_float(\"reg_alpha\", reg_alpha_range[0], reg_alpha_range[1])\n",
    "        current_param[\"reg_lambda\"] = trial.suggest_float(\"reg_lambda\", reg_lambda_range[0], reg_lambda_range[1])\n",
    "        current_param[\"gamma\"] = trial.suggest_float(\"gamma\", reg_gamma_range[0], reg_gamma_range[1])\n",
    "        \n",
    "        if current_param.get(\"eval_metric\", \"mae\") == \"rmse\":\n",
    "            score_name = \"test-rmse-mean\"\n",
    "        elif current_param.get(\"eval_metric\", \"mae\") == \"mae\":\n",
    "            score_name = \"test-mae-mean\"\n",
    "        elif  current_param.get(\"eval_metric\", \"mae\") == \"logloss\":\n",
    "            score_name = \"test-logloss-mean\"\n",
    "        \n",
    "        print(current_param)  \n",
    "        cv_scores = []\n",
    "        for i in range(repeat_cv):\n",
    "            cv_result = xgb.cv(\n",
    "                params=current_param,\n",
    "                dtrain=dtrain,\n",
    "                obj=cauchyobj,\n",
    "                num_boost_round=num_boost_round,\n",
    "                folds=KFold(n_splits=folds_splits, shuffle=True, random_state=i),\n",
    "                early_stopping_rounds=early_stopping_rounds,\n",
    "                verbose_eval=False\n",
    "            )\n",
    "            fold_score = np.min(cv_result[score_name].values)\n",
    "            cv_scores.append(fold_score)\n",
    "        mean_score = np.mean(cv_scores)\n",
    "        logger.info(f\"Trial {trial.number} 終了: スコア {mean_score}\")\n",
    "        \n",
    "        return mean_score\n",
    "\n",
    "    logger.info(\"Optuna最適化開始\")\n",
    "    N_WARMUP_STEPS = optuna_conf.n_warmup_steps\n",
    "    TIMEOUT = optuna_conf.timeout\n",
    "    N_JOBS = optuna_conf.n_jobs\n",
    "    N_TRIALS = optuna_conf.n_trials\n",
    "    \n",
    "    sampler = optuna.samplers.TPESampler(seed=42)\n",
    "    pruner = optuna.pruners.MedianPruner(n_warmup_steps=N_WARMUP_STEPS)\n",
    "\n",
    "    study = optuna.create_study(direction=\"minimize\", sampler=sampler, pruner=pruner)\n",
    "    study.optimize(objective, n_trials=N_TRIALS, timeout=TIMEOUT, n_jobs=N_JOBS)\n",
    "\n",
    "    best_trial = study.best_trial\n",
    "    logger.info(\"Best trial:\")\n",
    "    logger.info(f\"  Value: {best_trial.value}\")\n",
    "    \n",
    "    for key, value in best_trial.params.items():\n",
    "        print(f\"    {key}: {value}\")\n",
    "    param.update(best_trial.params)\n",
    "\n",
    "    logger.info(\"Optuna最適化終了\")\n",
    "    return param"
   ]
  },
  {
   "cell_type": "code",
   "execution_count": 20,
   "id": "9e4ad9a9",
   "metadata": {
    "execution": {
     "iopub.execute_input": "2025-03-14T06:27:12.882538Z",
     "iopub.status.busy": "2025-03-14T06:27:12.880529Z",
     "iopub.status.idle": "2025-03-14T06:27:12.890287Z",
     "shell.execute_reply": "2025-03-14T06:27:12.889579Z"
    },
    "papermill": {
     "duration": 0.028308,
     "end_time": "2025-03-14T06:27:12.893352",
     "exception": false,
     "start_time": "2025-03-14T06:27:12.865044",
     "status": "completed"
    },
    "tags": []
   },
   "outputs": [
    {
     "name": "stdout",
     "output_type": "stream",
     "text": [
      "not use Optuna, use xgb_model.param\n",
      "param: {'eval_metric': 'rmse', 'booster': 'gbtree', 'eta': 0.02, 'subsample': 0.35, 'colsample_bytree': 0.7, 'num_parallel_tree': 10, 'min_child_weight': 40, 'gamma': 10, 'max_depth': 3}\n",
      "repeat_cv: 10\n",
      "num_boost_round: 3000\n",
      "folds_splits: 5\n",
      "early_stopping_rounds: 25\n"
     ]
    }
   ],
   "source": [
    "IS_OPTUNA = MODEL.optuna_enabled\n",
    "if IS_OPTUNA:\n",
    "    print(\"Optuna use mode\") \n",
    "    optuna_conf = MODEL.xgb_model.optuna\n",
    "    logger.add(os.path.join(OUTPUT_PATH, \"results.log\"), format=\"{time:YYYY-MM-DD at HH:mm:ss} - {level} - {message}\", level=\"INFO\")\n",
    "    param = run_optuna_optimization(param, optuna_conf)\n",
    "    print(\"param updated by optuna\")\n",
    "    results+= [\"param set after optuna is below\", f\"{param}\", \"\"]\n",
    "else:    \n",
    "    print(\"not use Optuna, use xgb_model.param\")\n",
    "\n",
    "\n",
    "\n",
    "print(\"param:\", param)\n",
    "print(\"repeat_cv:\", repeat_cv)\n",
    "print(\"num_boost_round:\", num_boost_round)\n",
    "print(\"folds_splits:\", folds_splits)\n",
    "print(\"early_stopping_rounds:\", early_stopping_rounds)"
   ]
  },
  {
   "cell_type": "code",
   "execution_count": 21,
   "id": "ebc9f1ff",
   "metadata": {
    "execution": {
     "iopub.execute_input": "2025-03-14T06:27:12.906642Z",
     "iopub.status.busy": "2025-03-14T06:27:12.906642Z",
     "iopub.status.idle": "2025-03-14T06:33:20.287235Z",
     "shell.execute_reply": "2025-03-14T06:33:20.287235Z"
    },
    "papermill": {
     "duration": 367.393883,
     "end_time": "2025-03-14T06:33:20.287235",
     "exception": false,
     "start_time": "2025-03-14T06:27:12.893352",
     "status": "completed"
    },
    "tags": []
   },
   "outputs": [
    {
     "name": "stderr",
     "output_type": "stream",
     "text": [
      "\r",
      "  0%|                                                                                                                                                                                                                                      | 0/10 [00:00<?, ?it/s]"
     ]
    },
    {
     "name": "stdout",
     "output_type": "stream",
     "text": [
      "[0]\ttrain-rmse:17.08936+0.03218\ttest-rmse:17.09320+0.13418\n"
     ]
    },
    {
     "name": "stdout",
     "output_type": "stream",
     "text": [
      "[50]\ttrain-rmse:13.07885+0.04512\ttest-rmse:13.28314+0.18232\n"
     ]
    },
    {
     "name": "stdout",
     "output_type": "stream",
     "text": [
      "[100]\ttrain-rmse:11.98538+0.04388\ttest-rmse:12.35853+0.19028\n"
     ]
    },
    {
     "name": "stdout",
     "output_type": "stream",
     "text": [
      "[150]\ttrain-rmse:11.56992+0.04310\ttest-rmse:12.09583+0.18248\n"
     ]
    },
    {
     "name": "stdout",
     "output_type": "stream",
     "text": [
      "[200]\ttrain-rmse:11.31459+0.04220\ttest-rmse:11.98524+0.18073\n"
     ]
    },
    {
     "name": "stdout",
     "output_type": "stream",
     "text": [
      "[250]\ttrain-rmse:11.11771+0.04066\ttest-rmse:11.92939+0.17868\n"
     ]
    },
    {
     "name": "stdout",
     "output_type": "stream",
     "text": [
      "[300]\ttrain-rmse:10.94894+0.04174\ttest-rmse:11.89747+0.17658\n"
     ]
    },
    {
     "name": "stdout",
     "output_type": "stream",
     "text": [
      "[350]\ttrain-rmse:10.79852+0.04222\ttest-rmse:11.88053+0.17307\n"
     ]
    },
    {
     "name": "stdout",
     "output_type": "stream",
     "text": [
      "[400]\ttrain-rmse:10.66071+0.04005\ttest-rmse:11.87361+0.17067\n"
     ]
    },
    {
     "name": "stdout",
     "output_type": "stream",
     "text": [
      "[450]\ttrain-rmse:10.53241+0.04035\ttest-rmse:11.86726+0.16591\n"
     ]
    },
    {
     "name": "stdout",
     "output_type": "stream",
     "text": [
      "[481]\ttrain-rmse:10.45577+0.04096\ttest-rmse:11.86664+0.16630\n"
     ]
    },
    {
     "name": "stderr",
     "output_type": "stream",
     "text": [
      "\r",
      " 10%|█████████                                                                                 | 1/10 [00:42<06:21, 42.41s/it]                                                                                                                                    "
     ]
    },
    {
     "name": "stdout",
     "output_type": "stream",
     "text": [
      "[0]\ttrain-rmse:17.08740+0.15489\ttest-rmse:17.08020+0.62728\n"
     ]
    },
    {
     "name": "stdout",
     "output_type": "stream",
     "text": [
      "[50]\ttrain-rmse:13.07935+0.10538\ttest-rmse:13.26283+0.50740\n"
     ]
    },
    {
     "name": "stdout",
     "output_type": "stream",
     "text": [
      "[100]\ttrain-rmse:11.99015+0.09886\ttest-rmse:12.34252+0.44221\n"
     ]
    },
    {
     "name": "stdout",
     "output_type": "stream",
     "text": [
      "[150]\ttrain-rmse:11.57017+0.09646\ttest-rmse:12.06548+0.42056\n"
     ]
    },
    {
     "name": "stdout",
     "output_type": "stream",
     "text": [
      "[200]\ttrain-rmse:11.31448+0.09469\ttest-rmse:11.95680+0.41172\n"
     ]
    },
    {
     "name": "stdout",
     "output_type": "stream",
     "text": [
      "[250]\ttrain-rmse:11.11710+0.09298\ttest-rmse:11.90095+0.40756\n"
     ]
    },
    {
     "name": "stdout",
     "output_type": "stream",
     "text": [
      "[300]\ttrain-rmse:10.94727+0.09342\ttest-rmse:11.87264+0.40702\n"
     ]
    },
    {
     "name": "stdout",
     "output_type": "stream",
     "text": [
      "[350]\ttrain-rmse:10.79889+0.09449\ttest-rmse:11.85728+0.40622\n"
     ]
    },
    {
     "name": "stdout",
     "output_type": "stream",
     "text": [
      "[400]\ttrain-rmse:10.66103+0.09632\ttest-rmse:11.84504+0.40209\n"
     ]
    },
    {
     "name": "stdout",
     "output_type": "stream",
     "text": [
      "[450]\ttrain-rmse:10.53204+0.09740\ttest-rmse:11.83855+0.39753\n"
     ]
    },
    {
     "name": "stdout",
     "output_type": "stream",
     "text": [
      "[464]\ttrain-rmse:10.49740+0.09684\ttest-rmse:11.84027+0.39853\n"
     ]
    },
    {
     "name": "stderr",
     "output_type": "stream",
     "text": [
      "\r",
      " 20%|██████████████████                                                                        | 2/10 [01:15<04:57, 37.15s/it]"
     ]
    },
    {
     "name": "stdout",
     "output_type": "stream",
     "text": [
      "[0]\ttrain-rmse:17.08881+0.11976\ttest-rmse:17.08398+0.49295\n"
     ]
    },
    {
     "name": "stdout",
     "output_type": "stream",
     "text": [
      "[50]\ttrain-rmse:13.08315+0.07567\ttest-rmse:13.25497+0.36199\n"
     ]
    },
    {
     "name": "stdout",
     "output_type": "stream",
     "text": [
      "[100]\ttrain-rmse:11.98953+0.06501\ttest-rmse:12.31980+0.30797\n"
     ]
    },
    {
     "name": "stdout",
     "output_type": "stream",
     "text": [
      "[150]\ttrain-rmse:11.57545+0.06231\ttest-rmse:12.04508+0.29351\n"
     ]
    },
    {
     "name": "stdout",
     "output_type": "stream",
     "text": [
      "[200]\ttrain-rmse:11.32005+0.06275\ttest-rmse:11.93218+0.28767\n"
     ]
    },
    {
     "name": "stdout",
     "output_type": "stream",
     "text": [
      "[250]\ttrain-rmse:11.12341+0.05924\ttest-rmse:11.87746+0.28345\n"
     ]
    },
    {
     "name": "stdout",
     "output_type": "stream",
     "text": [
      "[300]\ttrain-rmse:10.95471+0.05763\ttest-rmse:11.84547+0.28164\n"
     ]
    },
    {
     "name": "stdout",
     "output_type": "stream",
     "text": [
      "[350]\ttrain-rmse:10.80525+0.05850\ttest-rmse:11.82536+0.27707\n"
     ]
    },
    {
     "name": "stdout",
     "output_type": "stream",
     "text": [
      "[400]\ttrain-rmse:10.66831+0.05849\ttest-rmse:11.81507+0.27291\n"
     ]
    },
    {
     "name": "stdout",
     "output_type": "stream",
     "text": [
      "[450]\ttrain-rmse:10.54065+0.05733\ttest-rmse:11.81016+0.26786\n"
     ]
    },
    {
     "name": "stdout",
     "output_type": "stream",
     "text": [
      "[479]\ttrain-rmse:10.46882+0.05633\ttest-rmse:11.81128+0.26554\n"
     ]
    },
    {
     "name": "stderr",
     "output_type": "stream",
     "text": [
      "\r",
      " 30%|███████████████████████████                                                               | 3/10 [01:56<04:32, 38.93s/it]"
     ]
    },
    {
     "name": "stdout",
     "output_type": "stream",
     "text": [
      "[0]\ttrain-rmse:17.08814+0.07519\ttest-rmse:17.08835+0.30651\n"
     ]
    },
    {
     "name": "stdout",
     "output_type": "stream",
     "text": [
      "[50]\ttrain-rmse:13.08260+0.04624\ttest-rmse:13.25517+0.29879\n"
     ]
    },
    {
     "name": "stdout",
     "output_type": "stream",
     "text": [
      "[100]\ttrain-rmse:11.99226+0.05056\ttest-rmse:12.32283+0.24810\n"
     ]
    },
    {
     "name": "stdout",
     "output_type": "stream",
     "text": [
      "[150]\ttrain-rmse:11.57828+0.05395\ttest-rmse:12.05009+0.22537\n"
     ]
    },
    {
     "name": "stdout",
     "output_type": "stream",
     "text": [
      "[200]\ttrain-rmse:11.32027+0.05745\ttest-rmse:11.93586+0.21850\n"
     ]
    },
    {
     "name": "stdout",
     "output_type": "stream",
     "text": [
      "[250]\ttrain-rmse:11.12629+0.05937\ttest-rmse:11.87726+0.21858\n"
     ]
    },
    {
     "name": "stdout",
     "output_type": "stream",
     "text": [
      "[300]\ttrain-rmse:10.95667+0.05952\ttest-rmse:11.84583+0.22434\n"
     ]
    },
    {
     "name": "stdout",
     "output_type": "stream",
     "text": [
      "[350]\ttrain-rmse:10.80636+0.06179\ttest-rmse:11.82688+0.22802\n"
     ]
    },
    {
     "name": "stdout",
     "output_type": "stream",
     "text": [
      "[400]\ttrain-rmse:10.67095+0.06600\ttest-rmse:11.81786+0.23167\n"
     ]
    },
    {
     "name": "stdout",
     "output_type": "stream",
     "text": [
      "[450]\ttrain-rmse:10.54294+0.06539\ttest-rmse:11.81029+0.23301\n"
     ]
    },
    {
     "name": "stdout",
     "output_type": "stream",
     "text": [
      "[500]\ttrain-rmse:10.42116+0.06604\ttest-rmse:11.80635+0.24014\n"
     ]
    },
    {
     "name": "stdout",
     "output_type": "stream",
     "text": [
      "[550]\ttrain-rmse:10.30445+0.06891\ttest-rmse:11.80444+0.24310\n"
     ]
    },
    {
     "name": "stdout",
     "output_type": "stream",
     "text": [
      "[552]\ttrain-rmse:10.29985+0.06872\ttest-rmse:11.80440+0.24355\n"
     ]
    },
    {
     "name": "stderr",
     "output_type": "stream",
     "text": [
      "\r",
      " 40%|████████████████████████████████████                                                      | 4/10 [02:41<04:06, 41.02s/it]"
     ]
    },
    {
     "name": "stdout",
     "output_type": "stream",
     "text": [
      "[0]\ttrain-rmse:17.08683+0.08377\ttest-rmse:17.08692+0.33589\n"
     ]
    },
    {
     "name": "stdout",
     "output_type": "stream",
     "text": [
      "[50]\ttrain-rmse:13.08054+0.10226\ttest-rmse:13.26816+0.47993\n"
     ]
    },
    {
     "name": "stdout",
     "output_type": "stream",
     "text": [
      "[100]\ttrain-rmse:11.98751+0.10003\ttest-rmse:12.33949+0.47080\n"
     ]
    },
    {
     "name": "stdout",
     "output_type": "stream",
     "text": [
      "[150]\ttrain-rmse:11.57374+0.09853\ttest-rmse:12.06452+0.45006\n"
     ]
    },
    {
     "name": "stdout",
     "output_type": "stream",
     "text": [
      "[200]\ttrain-rmse:11.31837+0.09694\ttest-rmse:11.94819+0.43796\n"
     ]
    },
    {
     "name": "stdout",
     "output_type": "stream",
     "text": [
      "[250]\ttrain-rmse:11.12180+0.09464\ttest-rmse:11.88986+0.42544\n"
     ]
    },
    {
     "name": "stdout",
     "output_type": "stream",
     "text": [
      "[300]\ttrain-rmse:10.95478+0.09185\ttest-rmse:11.85597+0.41558\n"
     ]
    },
    {
     "name": "stdout",
     "output_type": "stream",
     "text": [
      "[350]\ttrain-rmse:10.80464+0.08979\ttest-rmse:11.83453+0.40848\n"
     ]
    },
    {
     "name": "stdout",
     "output_type": "stream",
     "text": [
      "[400]\ttrain-rmse:10.66857+0.08918\ttest-rmse:11.82564+0.40246\n"
     ]
    },
    {
     "name": "stdout",
     "output_type": "stream",
     "text": [
      "[450]\ttrain-rmse:10.53963+0.08820\ttest-rmse:11.81804+0.39859\n"
     ]
    },
    {
     "name": "stdout",
     "output_type": "stream",
     "text": [
      "[500]\ttrain-rmse:10.42030+0.08802\ttest-rmse:11.81717+0.39318\n"
     ]
    },
    {
     "name": "stdout",
     "output_type": "stream",
     "text": [
      "[550]\ttrain-rmse:10.30540+0.08732\ttest-rmse:11.81347+0.39130\n"
     ]
    },
    {
     "name": "stdout",
     "output_type": "stream",
     "text": [
      "[572]\ttrain-rmse:10.25677+0.08830\ttest-rmse:11.81465+0.38900\n"
     ]
    },
    {
     "name": "stderr",
     "output_type": "stream",
     "text": [
      "\r",
      " 50%|█████████████████████████████████████████████                                             | 5/10 [03:15<03:13, 38.67s/it]"
     ]
    },
    {
     "name": "stdout",
     "output_type": "stream",
     "text": [
      "[0]\ttrain-rmse:17.08794+0.07271\ttest-rmse:17.08858+0.29811\n"
     ]
    },
    {
     "name": "stdout",
     "output_type": "stream",
     "text": [
      "[50]\ttrain-rmse:13.08054+0.06374\ttest-rmse:13.25290+0.25826\n"
     ]
    },
    {
     "name": "stdout",
     "output_type": "stream",
     "text": [
      "[100]\ttrain-rmse:11.98894+0.06766\ttest-rmse:12.31136+0.27071\n"
     ]
    },
    {
     "name": "stdout",
     "output_type": "stream",
     "text": [
      "[150]\ttrain-rmse:11.57672+0.06686\ttest-rmse:12.03856+0.27198\n"
     ]
    },
    {
     "name": "stdout",
     "output_type": "stream",
     "text": [
      "[200]\ttrain-rmse:11.31961+0.06420\ttest-rmse:11.92191+0.27101\n"
     ]
    },
    {
     "name": "stdout",
     "output_type": "stream",
     "text": [
      "[250]\ttrain-rmse:11.12370+0.06416\ttest-rmse:11.86608+0.26860\n"
     ]
    },
    {
     "name": "stdout",
     "output_type": "stream",
     "text": [
      "[300]\ttrain-rmse:10.95546+0.06528\ttest-rmse:11.82994+0.26389\n"
     ]
    },
    {
     "name": "stdout",
     "output_type": "stream",
     "text": [
      "[350]\ttrain-rmse:10.80668+0.06755\ttest-rmse:11.80931+0.25988\n"
     ]
    },
    {
     "name": "stdout",
     "output_type": "stream",
     "text": [
      "[400]\ttrain-rmse:10.66832+0.06902\ttest-rmse:11.79587+0.25792\n"
     ]
    },
    {
     "name": "stdout",
     "output_type": "stream",
     "text": [
      "[450]\ttrain-rmse:10.54093+0.07138\ttest-rmse:11.79279+0.25308\n"
     ]
    },
    {
     "name": "stdout",
     "output_type": "stream",
     "text": [
      "[495]\ttrain-rmse:10.43302+0.07292\ttest-rmse:11.79054+0.25105\n"
     ]
    },
    {
     "name": "stderr",
     "output_type": "stream",
     "text": [
      "\r",
      " 60%|██████████████████████████████████████████████████████                                    | 6/10 [03:40<02:16, 34.02s/it]"
     ]
    },
    {
     "name": "stdout",
     "output_type": "stream",
     "text": [
      "[0]\ttrain-rmse:17.08871+0.09970\ttest-rmse:17.08800+0.40287\n"
     ]
    },
    {
     "name": "stdout",
     "output_type": "stream",
     "text": [
      "[50]\ttrain-rmse:13.08111+0.02093\ttest-rmse:13.27666+0.17110\n"
     ]
    },
    {
     "name": "stdout",
     "output_type": "stream",
     "text": [
      "[100]\ttrain-rmse:11.98502+0.01529\ttest-rmse:12.34204+0.10384\n"
     ]
    },
    {
     "name": "stdout",
     "output_type": "stream",
     "text": [
      "[150]\ttrain-rmse:11.57148+0.02660\ttest-rmse:12.07560+0.11351\n"
     ]
    },
    {
     "name": "stdout",
     "output_type": "stream",
     "text": [
      "[200]\ttrain-rmse:11.31561+0.03014\ttest-rmse:11.95997+0.13122\n"
     ]
    },
    {
     "name": "stdout",
     "output_type": "stream",
     "text": [
      "[250]\ttrain-rmse:11.11755+0.03249\ttest-rmse:11.89914+0.14109\n"
     ]
    },
    {
     "name": "stdout",
     "output_type": "stream",
     "text": [
      "[300]\ttrain-rmse:10.95043+0.03340\ttest-rmse:11.86581+0.14580\n"
     ]
    },
    {
     "name": "stdout",
     "output_type": "stream",
     "text": [
      "[350]\ttrain-rmse:10.80122+0.03379\ttest-rmse:11.84585+0.14811\n"
     ]
    },
    {
     "name": "stdout",
     "output_type": "stream",
     "text": [
      "[400]\ttrain-rmse:10.66545+0.03338\ttest-rmse:11.83475+0.14889\n"
     ]
    },
    {
     "name": "stdout",
     "output_type": "stream",
     "text": [
      "[450]\ttrain-rmse:10.53856+0.03456\ttest-rmse:11.83205+0.15025\n"
     ]
    },
    {
     "name": "stdout",
     "output_type": "stream",
     "text": [
      "[492]\ttrain-rmse:10.43694+0.03473\ttest-rmse:11.83271+0.15213\n"
     ]
    },
    {
     "name": "stderr",
     "output_type": "stream",
     "text": [
      "\r",
      " 70%|██████████████████████████████████████████████████████████████▉                           | 7/10 [04:19<01:47, 35.68s/it]"
     ]
    },
    {
     "name": "stdout",
     "output_type": "stream",
     "text": [
      "[0]\ttrain-rmse:17.08673+0.20668\ttest-rmse:17.07185+0.81310\n"
     ]
    },
    {
     "name": "stdout",
     "output_type": "stream",
     "text": [
      "[50]\ttrain-rmse:13.07581+0.11779\ttest-rmse:13.26188+0.68522\n"
     ]
    },
    {
     "name": "stdout",
     "output_type": "stream",
     "text": [
      "[100]\ttrain-rmse:11.98261+0.10193\ttest-rmse:12.34221+0.56113\n"
     ]
    },
    {
     "name": "stdout",
     "output_type": "stream",
     "text": [
      "[150]\ttrain-rmse:11.56413+0.09652\ttest-rmse:12.08555+0.50252\n"
     ]
    },
    {
     "name": "stdout",
     "output_type": "stream",
     "text": [
      "[200]\ttrain-rmse:11.30583+0.09505\ttest-rmse:11.98239+0.47259\n"
     ]
    },
    {
     "name": "stdout",
     "output_type": "stream",
     "text": [
      "[250]\ttrain-rmse:11.10878+0.09501\ttest-rmse:11.93235+0.45053\n"
     ]
    },
    {
     "name": "stdout",
     "output_type": "stream",
     "text": [
      "[300]\ttrain-rmse:10.93925+0.09435\ttest-rmse:11.90599+0.43951\n"
     ]
    },
    {
     "name": "stdout",
     "output_type": "stream",
     "text": [
      "[350]\ttrain-rmse:10.78956+0.09598\ttest-rmse:11.89044+0.43212\n"
     ]
    },
    {
     "name": "stdout",
     "output_type": "stream",
     "text": [
      "[400]\ttrain-rmse:10.65195+0.09643\ttest-rmse:11.88689+0.42708\n"
     ]
    },
    {
     "name": "stdout",
     "output_type": "stream",
     "text": [
      "[450]\ttrain-rmse:10.52357+0.09826\ttest-rmse:11.88435+0.42462\n"
     ]
    },
    {
     "name": "stdout",
     "output_type": "stream",
     "text": [
      "[468]\ttrain-rmse:10.47968+0.09834\ttest-rmse:11.88556+0.42365\n"
     ]
    },
    {
     "name": "stderr",
     "output_type": "stream",
     "text": [
      "\r",
      " 80%|████████████████████████████████████████████████████████████████████████                  | 8/10 [04:56<01:12, 36.09s/it]"
     ]
    },
    {
     "name": "stdout",
     "output_type": "stream",
     "text": [
      "[0]\ttrain-rmse:17.08778+0.19960\ttest-rmse:17.07238+0.83867\n"
     ]
    },
    {
     "name": "stdout",
     "output_type": "stream",
     "text": [
      "[50]\ttrain-rmse:13.07670+0.11542\ttest-rmse:13.27428+0.68527\n"
     ]
    },
    {
     "name": "stdout",
     "output_type": "stream",
     "text": [
      "[100]\ttrain-rmse:11.98205+0.08706\ttest-rmse:12.36277+0.52515\n"
     ]
    },
    {
     "name": "stdout",
     "output_type": "stream",
     "text": [
      "[150]\ttrain-rmse:11.56404+0.07575\ttest-rmse:12.10071+0.43506\n"
     ]
    },
    {
     "name": "stdout",
     "output_type": "stream",
     "text": [
      "[200]\ttrain-rmse:11.31088+0.07162\ttest-rmse:11.99103+0.38291\n"
     ]
    },
    {
     "name": "stdout",
     "output_type": "stream",
     "text": [
      "[250]\ttrain-rmse:11.11655+0.07070\ttest-rmse:11.93359+0.35272\n"
     ]
    },
    {
     "name": "stdout",
     "output_type": "stream",
     "text": [
      "[300]\ttrain-rmse:10.94988+0.07121\ttest-rmse:11.90325+0.33210\n"
     ]
    },
    {
     "name": "stdout",
     "output_type": "stream",
     "text": [
      "[350]\ttrain-rmse:10.80090+0.07180\ttest-rmse:11.88203+0.31819\n"
     ]
    },
    {
     "name": "stdout",
     "output_type": "stream",
     "text": [
      "[400]\ttrain-rmse:10.66469+0.07324\ttest-rmse:11.86817+0.31208\n"
     ]
    },
    {
     "name": "stdout",
     "output_type": "stream",
     "text": [
      "[450]\ttrain-rmse:10.53590+0.07250\ttest-rmse:11.86087+0.30567\n"
     ]
    },
    {
     "name": "stdout",
     "output_type": "stream",
     "text": [
      "[499]\ttrain-rmse:10.41669+0.07262\ttest-rmse:11.85837+0.30276\n"
     ]
    },
    {
     "name": "stderr",
     "output_type": "stream",
     "text": [
      "\r",
      " 90%|███████████████████████████████████████████████████████████████████████████████████████████████████████████████████████████████████████████████████████████████████████████████████████████████████████▊                      | 9/10 [05:23<00:33, 33.25s/it]"
     ]
    },
    {
     "name": "stdout",
     "output_type": "stream",
     "text": [
      "[0]\ttrain-rmse:17.08863+0.13559\ttest-rmse:17.08354+0.55158\n"
     ]
    },
    {
     "name": "stdout",
     "output_type": "stream",
     "text": [
      "[50]\ttrain-rmse:13.07924+0.08826\ttest-rmse:13.25751+0.49467\n"
     ]
    },
    {
     "name": "stdout",
     "output_type": "stream",
     "text": [
      "[100]\ttrain-rmse:11.98520+0.08079\ttest-rmse:12.33218+0.41503\n"
     ]
    },
    {
     "name": "stdout",
     "output_type": "stream",
     "text": [
      "[150]\ttrain-rmse:11.57184+0.07849\ttest-rmse:12.06316+0.38098\n"
     ]
    },
    {
     "name": "stdout",
     "output_type": "stream",
     "text": [
      "[200]\ttrain-rmse:11.31839+0.07743\ttest-rmse:11.95178+0.36634\n"
     ]
    },
    {
     "name": "stdout",
     "output_type": "stream",
     "text": [
      "[250]\ttrain-rmse:11.12468+0.07435\ttest-rmse:11.89199+0.35749\n"
     ]
    },
    {
     "name": "stdout",
     "output_type": "stream",
     "text": [
      "[300]\ttrain-rmse:10.95843+0.07491\ttest-rmse:11.85886+0.34770\n"
     ]
    },
    {
     "name": "stdout",
     "output_type": "stream",
     "text": [
      "[350]\ttrain-rmse:10.80928+0.07419\ttest-rmse:11.83881+0.34098\n"
     ]
    },
    {
     "name": "stdout",
     "output_type": "stream",
     "text": [
      "[400]\ttrain-rmse:10.67346+0.07224\ttest-rmse:11.82463+0.33338\n"
     ]
    },
    {
     "name": "stdout",
     "output_type": "stream",
     "text": [
      "[450]\ttrain-rmse:10.54585+0.07355\ttest-rmse:11.81785+0.33035\n"
     ]
    },
    {
     "name": "stdout",
     "output_type": "stream",
     "text": [
      "[500]\ttrain-rmse:10.42552+0.07457\ttest-rmse:11.81246+0.32534\n"
     ]
    },
    {
     "name": "stdout",
     "output_type": "stream",
     "text": [
      "[550]\ttrain-rmse:10.31134+0.07445\ttest-rmse:11.80695+0.31979\n"
     ]
    },
    {
     "name": "stdout",
     "output_type": "stream",
     "text": [
      "[576]\ttrain-rmse:10.25318+0.07509\ttest-rmse:11.80809+0.31870\n"
     ]
    },
    {
     "name": "stderr",
     "output_type": "stream",
     "text": [
      "\r",
      "100%|█████████████████████████████████████████████████████████████████████████████████████████████████████████████████████████████████████████████████████████████████████████████████████████████████████████████████████████████| 10/10 [06:07<00:00, 36.39s/it]"
     ]
    },
    {
     "name": "stderr",
     "output_type": "stream",
     "text": [
      "\r",
      "100%|█████████████████████████████████████████████████████████████████████████████████████████████████████████████████████████████████████████████████████████████████████████████████████████████████████████████████████████████| 10/10 [06:07<00:00, 36.71s/it]"
     ]
    },
    {
     "name": "stderr",
     "output_type": "stream",
     "text": [
      "\n"
     ]
    }
   ],
   "source": [
    "if param.get(\"eval_metric\", \"mae\") == \"rmse\":\n",
    "    score_key = \"test-rmse-mean\"\n",
    "    ylabel = \"Test RMSE Mean\"\n",
    "    title = \"Learning Curve: Test RMSE vs Boosting Rounds\"\n",
    "elif param.get(\"eval_metric\", \"mae\") == \"mae\":\n",
    "    score_key = \"test-mae-mean\"\n",
    "    ylabel = \"Test MAE Mean\"\n",
    "    title = \"Learning Curve: Test MAE vs Boosting Rounds\"\n",
    "elif param.get(\"eval_metric\", \"mae\") == \"logloss\":\n",
    "    score_key = \"test-logloss-mean\"\n",
    "    ylabel = \"Test Logloss Mean\"\n",
    "    title = \"Learning Curve: Test Logloss vs Boosting Rounds\"\n",
    "\n",
    "\n",
    "for i in tqdm(range(repeat_cv), leave=True, dynamic_ncols=True): \n",
    "    cv_result = xgb.cv(\n",
    "        params=param,\n",
    "        dtrain=dtrain,\n",
    "        obj=cauchyobj,\n",
    "        num_boost_round=num_boost_round,\n",
    "        folds=KFold(n_splits=folds_splits, shuffle=True, random_state=i),\n",
    "        early_stopping_rounds=early_stopping_rounds,\n",
    "        verbose_eval=50\n",
    "    )\n",
    "    \"\"\"\n",
    "    train-mae-mean: 各fold における訓練データの MAE の平均値。\n",
    "    train-mae-std: 訓練データの MAE の標準偏差。\n",
    "    test-mae-mean: 各fold における検証データの MAE の平均値。\n",
    "    test-mae-std: 検証データの MAE の標準偏差。\n",
    "    \"\"\"\n",
    "    xgb_cv.append(cv_result)\n",
    "    \n",
    "\n",
    "\n",
    "\n",
    "# 各 repeater ごとの最適ブーストラウンド数と検証MAE\n",
    "iteration_counts = [np.argmin(cv[score_key].values) for cv in xgb_cv]\n",
    "val_mae = [np.min(cv[score_key].values) for cv in xgb_cv]\n",
    "\n",
    "mean_iteration = np.mean(iteration_counts)\n",
    "mean_val_mae = np.mean(val_mae)\n",
    "min_val_mae = np.min(val_mae)\n",
    "results.append(f\"mean_iteration: {mean_iteration}\")\n",
    "results.append(f\"mean_val_{param['eval_metric']}: {mean_val_mae}\")\n",
    "results.append(f\"min_val_{param['eval_metric']}: {min_val_mae}\")\n",
    "results.append(\"\")\n",
    "\n",
    "###\n",
    "plt.figure(figsize=(10, 6))\n",
    "for i, cv_result in enumerate(xgb_cv):\n",
    "    rounds = np.arange(len(cv_result[score_key]))\n",
    "    plt.plot(rounds, cv_result[score_key], label=f\"CV repeater {i+1}\")\n",
    "    \n",
    "plt.xlabel(\"Boosting Round\")\n",
    "plt.ylabel(ylabel)\n",
    "plt.title(title)\n",
    "plt.legend()\n",
    "plt.grid(True)\n",
    "\n",
    "plt.savefig(os.path.join(OUTPUT_PATH, f\"learning_curve_{PREDICT_YEAR}.png\"))\n",
    "plt.close()\n",
    "###\n"
   ]
  },
  {
   "cell_type": "code",
   "execution_count": 22,
   "id": "10bff4b9",
   "metadata": {
    "execution": {
     "iopub.execute_input": "2025-03-14T06:33:20.306892Z",
     "iopub.status.busy": "2025-03-14T06:33:20.306892Z",
     "iopub.status.idle": "2025-03-14T06:33:20.324262Z",
     "shell.execute_reply": "2025-03-14T06:33:20.323584Z"
    },
    "papermill": {
     "duration": 0.034546,
     "end_time": "2025-03-14T06:33:20.325329",
     "exception": false,
     "start_time": "2025-03-14T06:33:20.290783",
     "status": "completed"
    },
    "tags": []
   },
   "outputs": [
    {
     "name": "stdout",
     "output_type": "stream",
     "text": [
      "最適ブーストラウンド数: [457, 440, 455, 527, 548, 471, 467, 444, 475, 552]\n",
      "test-rmse-mean: [11.866155380222727, 11.838342340210989, 11.810028543424105, 11.803542541469241, 11.813089687451368, 11.789703930883395, 11.830941243811669, 11.882932495423796, 11.858266766510082, 11.806768660994198]\n"
     ]
    }
   ],
   "source": [
    "print(\"最適ブーストラウンド数:\", iteration_counts)\n",
    "print(f\"{score_key}:\", val_mae)\n",
    "results.append(f\"最適ブーストラウンド: {iteration_counts}\")\n",
    "results.append(f\"{score_key}: {val_mae}\")\n",
    "results.append(\"\")"
   ]
  },
  {
   "cell_type": "code",
   "execution_count": 23,
   "id": "d847e92f",
   "metadata": {
    "execution": {
     "iopub.execute_input": "2025-03-14T06:33:20.345386Z",
     "iopub.status.busy": "2025-03-14T06:33:20.345386Z",
     "iopub.status.idle": "2025-03-14T06:38:53.093348Z",
     "shell.execute_reply": "2025-03-14T06:38:53.092341Z"
    },
    "papermill": {
     "duration": 332.801875,
     "end_time": "2025-03-14T06:38:53.131195",
     "exception": false,
     "start_time": "2025-03-14T06:33:20.329320",
     "status": "completed"
    },
    "tags": []
   },
   "outputs": [
    {
     "name": "stderr",
     "output_type": "stream",
     "text": [
      "\r",
      "  0%|                                                                                                                                                                                                                                      | 0/10 [00:00<?, ?it/s]"
     ]
    },
    {
     "name": "stderr",
     "output_type": "stream",
     "text": [
      "C:\\Users\\81809\\AppData\\Local\\Temp\\ipykernel_7320\\3386215446.py:18: FutureWarning: Setting an item of incompatible dtype is deprecated and will raise an error in a future version of pandas. Value '[ 2.08157387e+01  4.53805625e-01  1.77401543e+01  6.66724730e+00\n",
      " -5.81001091e+00 -1.18314338e+00  7.66517925e+00  7.82016993e+00\n",
      "  2.34885120e+01  2.03665829e+00  1.12673931e+01  6.75703382e+00\n",
      "  6.98382854e+00  7.55525446e+00 -4.08256626e+00  2.14024296e+01\n",
      " -2.19207096e+00  7.07780123e+00  9.77468491e+00  2.89048481e+00\n",
      "  3.62489223e+00  3.78059602e+00 -5.93753338e-01 -8.53266478e-01\n",
      "  6.07439470e+00  6.42870569e+00  3.23624825e+00  1.68761921e+01\n",
      "  3.93749380e+00 -6.19650698e+00 -3.33583283e+00  5.00956678e+00\n",
      "  2.03622252e-01  1.99535179e+01  8.27598286e+00 -6.42826080e+00\n",
      " -2.08847475e+00  7.90270424e+00  6.02733421e+00  4.93513727e+00\n",
      "  8.28919113e-01  8.91447353e+00 -4.20975876e+00  1.40008211e+01\n",
      "  3.21827865e+00  5.11611986e+00 -1.16583090e+01  2.87844253e+00\n",
      "  1.52253942e+01 -6.42867446e-01  2.15779858e+01 -1.40359008e+00\n",
      "  5.11946535e+00  4.58359194e+00 -3.56458497e+00  7.37668610e+00\n",
      "  1.73903835e+00  5.64921284e+00  1.51595438e+00  9.64972019e+00\n",
      " -5.15490866e+00 -6.26270950e-01  1.10655129e+00  2.32443218e+01\n",
      " -1.57179379e+00  8.27260113e+00  2.69652867e+00 -5.45788145e+00\n",
      "  1.16542368e+01 -2.82923198e+00  5.04693699e+00  2.39228001e+01\n",
      " -5.89670420e+00 -2.30335855e+00  3.06495237e+00  5.35382938e+00\n",
      " -2.97097540e+00  6.02515650e+00  1.62175426e+01  1.99647751e+01\n",
      "  2.56334472e+00 -4.80157709e+00  1.89272523e+00 -7.71631837e-01\n",
      "  1.07222939e+00  3.28240681e+00  1.65811777e+00 -1.00213184e+01\n",
      " -3.08202505e+00 -2.47289658e+00  8.85981274e+00  6.48289537e+00\n",
      "  3.65688992e+00  1.38195264e+00 -3.34942365e+00  1.80095043e+01\n",
      "  1.58984804e+00  5.34299517e+00  2.09460239e+01 -1.65483761e+00\n",
      " -4.39897490e+00  1.52461538e+01  1.85932751e+01  1.24875145e+01\n",
      "  4.12999296e+00 -5.62365294e+00 -8.60894799e-01  1.22259398e+01\n",
      "  5.65539646e+00 -4.47320557e+00  1.13613629e+00 -5.13050461e+00\n",
      "  6.43790293e+00 -5.76140451e+00 -1.53875618e+01  4.64807987e+00\n",
      "  2.75941223e-01  9.21405911e-01  3.19173646e+00  3.47511864e+00\n",
      "  2.79048491e+00  1.37900782e+00  1.02751007e+01  1.06734037e+01\n",
      "  7.24927235e+00  6.21512270e+00  1.15832510e+01 -2.16452670e+00\n",
      " -1.79844272e+00  2.59847188e+00  1.90994320e+01 -2.43858838e+00\n",
      "  1.17386084e+01 -1.35979834e+01 -7.13019276e+00  1.45152054e+01\n",
      "  3.16133738e+00  8.03409004e+00  7.76562500e+00 -1.63461304e+00\n",
      "  1.31539679e+00 -3.61788130e+00  7.66107225e+00  5.33819580e+00\n",
      "  2.09885550e+00 -1.44482875e+00  1.03279924e+01  7.67998517e-01\n",
      "  6.35224676e+00 -1.42708206e+00  1.93309939e+00  9.94378328e-01\n",
      "  2.01116028e+01  1.63979492e+01  9.62957287e+00  5.08543396e+00\n",
      "  4.94449329e+00  2.86277199e+00 -6.25231326e-01  1.10223186e+00\n",
      "  8.78401637e-01  3.21899317e-02  9.95788002e+00  1.35204020e+01\n",
      " -1.73747122e+00  3.35699534e+00 -5.06167531e-01  3.52638412e+00\n",
      "  2.15651894e+00  3.52227545e+00  7.42773819e+00  1.57920635e+00\n",
      " -2.42766762e+00 -1.52092531e-01  5.89431000e+00  1.16876030e+00\n",
      "  1.82786312e+01  3.06508040e+00  6.33794546e+00  3.43912935e+00\n",
      " -2.43331981e+00  4.11692381e+00  8.77961445e+00 -7.96275282e+00\n",
      "  3.73608923e+00  2.09691486e+01  1.11857195e+01 -2.15353236e-01\n",
      "  1.88121974e+00  6.45338535e+00  2.90953088e+00  1.41953936e+01\n",
      " -2.62842234e-02  3.45744133e+00  7.92778158e+00  5.71637487e+00\n",
      "  3.11753201e+00  9.37774944e+00  1.50338869e+01  1.11935368e+01\n",
      "  2.16618323e+00 -2.27575321e+01  5.55433559e+00  4.23369646e+00\n",
      "  6.63586664e+00  4.42441320e+00  4.89784288e+00  4.05940580e+00\n",
      "  4.76738214e+00  1.73641849e+00  1.86802845e+01  1.02057991e+01\n",
      "  2.98176136e+01  4.17398682e+01  2.65178127e+01  2.41857777e+01\n",
      "  2.01510944e+01  2.27514324e+01  8.89948940e+00  4.56452608e-01\n",
      "  1.30412302e+01  5.84518194e+00 -5.24275970e+00  4.78046560e+00\n",
      "  1.96365032e+01  2.48335171e+01  8.56579018e+00  2.19144554e+01\n",
      "  1.23768377e+01  9.33580017e+00  7.31164217e+00  9.61631107e+00\n",
      " -3.17287087e+00  3.36445541e+01  1.44675808e+01  4.35136986e+00\n",
      "  3.57658119e+01  4.16235542e+00 -3.40275645e+00  2.17493610e+01\n",
      "  2.25686598e+00  1.30631027e+01  1.53860826e+01  5.14885378e+00\n",
      "  2.95144320e+00  1.13181219e+01  1.93908062e+01  3.54560890e+01\n",
      "  1.37095070e+01 -1.40358651e+00 -1.33976829e+00  1.77418172e+00\n",
      " -1.44208040e+01  6.34290171e+00  1.48659115e+01 -7.15602040e-01\n",
      "  2.20506897e+01  4.40016823e+01 -5.26677084e+00  1.06222057e+00\n",
      "  1.52261152e+01  2.95947719e+00 -5.38459587e+00  8.27420616e+00\n",
      "  2.66785851e+01  1.22362404e+01  8.15857315e+00  4.73870373e+00\n",
      " -2.48878741e+00  2.92038107e+00  2.90618248e+01  9.89061737e+00\n",
      "  1.61849670e+01  1.39776897e+01 -9.36869907e+00  1.38233271e+01\n",
      "  1.10503912e+01  3.36138535e+00 -4.62343788e+00  3.71736360e+00\n",
      "  2.20379305e+00  2.97983742e+00  3.77289314e+01  1.37742195e+01\n",
      "  3.49159584e+01  3.45877228e+01 -1.10711503e+00  2.95540104e+01\n",
      " -1.34736371e+00 -2.29925513e+00  7.35381699e+00  1.32682152e+01\n",
      "  1.32309513e+01  1.37671518e+01  9.34749699e+00  4.12478209e+00\n",
      "  1.18358955e+01 -2.91223431e+00  1.14369984e+01 -3.87686992e+00\n",
      "  1.86268539e+01  2.59993000e+01  1.15725031e+01 -8.47319961e-01\n",
      " -1.20064270e+00  1.35734785e+00  8.38387203e+00 -2.12740231e+01\n",
      " -1.11357708e+01 -9.39465618e+00  1.85878646e+00  4.81724024e+00\n",
      "  8.49773598e+00  9.42184067e+00  3.12567558e+01  1.61730938e+01\n",
      "  3.78556156e+00  3.75688591e+01 -2.08598351e+00  1.04853153e+01\n",
      "  4.99316931e+00  2.68095422e+00  3.98867655e+00  2.01853299e+00\n",
      "  1.37263203e+00  5.30492353e+00 -4.59886694e+00  7.07611465e+00\n",
      " -5.17586529e-01  7.29875278e+00 -5.49504995e+00  2.01271477e+01\n",
      "  1.23454027e+01 -1.17310352e+01  2.17641354e+01 -7.55364656e+00\n",
      " -5.04433885e-02  9.21510887e+00 -3.34112263e+00 -1.22952890e+01\n",
      " -2.38982058e+00 -2.24181194e+01 -1.77680740e+01 -8.42483521e+00\n",
      " -4.39807367e+00  3.85794568e+00 -5.51751995e+00  1.86559153e+00\n",
      " -3.67714834e+00 -4.23953629e+00 -5.66599369e+00  5.51412249e+00\n",
      " -7.28787661e+00 -3.45257187e+00 -1.89001122e+01  2.09502053e+00\n",
      "  4.08464384e+00 -5.99402952e+00 -4.13243628e+00  2.28490496e+00\n",
      "  6.00393915e+00 -3.71202111e+00 -6.75038576e+00 -3.49977732e+00\n",
      " -1.58563638e+00 -1.69229996e+00 -2.26908970e+01 -1.91009358e-01\n",
      "  2.07205558e+00 -6.30998564e+00 -7.31686068e+00 -5.45550156e+00\n",
      " -8.15112495e+00 -7.45446730e+00 -2.39916134e+00 -6.07087040e+00\n",
      "  8.77986670e-01 -6.23238564e+00  4.58499193e-01  1.85158217e+00\n",
      " -1.01845808e+01 -7.24531603e+00 -5.43586445e+00 -3.19095373e+00\n",
      " -1.00298176e+01 -4.16953850e+00 -1.58984003e+01 -2.54249420e+01\n",
      " -3.86458039e+00 -1.81313744e+01 -1.77529418e+00 -6.88199377e+00\n",
      " -2.90139198e+00 -2.40022588e+00 -7.90148354e+00  7.82655701e-02\n",
      " -7.12331438e+00 -2.53472977e+01  3.30657148e+00 -2.14169292e+01\n",
      " -6.49624491e+00 -1.12796545e+01  4.67951345e+00  3.40183282e+00\n",
      " -8.73296547e+00  3.07392311e+00 -4.93724012e+00 -4.99982309e+00\n",
      " -4.20621061e+00 -6.25598764e+00 -9.85861015e+00 -1.72091794e+00\n",
      "  3.95632362e+00 -4.94006798e-02 -1.11747618e+01 -6.05378294e+00\n",
      "  2.28466177e+00  2.38927007e+00  1.11010408e+00 -6.67153406e+00\n",
      " -2.81044364e+00  6.24611950e+00 -1.12329159e+01  2.32453442e+00\n",
      " -1.04285879e+01 -3.25941634e+00 -9.03630924e+00 -4.28470945e+00\n",
      " -1.93122423e+00 -1.18014545e+01 -3.27034521e+00 -2.16876450e+01\n",
      " -1.55915232e+01 -2.30387521e+00 -1.27833164e+00 -2.42259669e+00\n",
      " -2.48179770e+00 -2.43789124e+00 -4.73216832e-01  1.68545735e+00\n",
      " -1.18537390e+00 -3.05738125e+01 -4.32150602e+00 -8.90838623e+00\n",
      " -8.38118839e+00  1.16188717e+00  1.63861620e+00 -6.63480568e+00\n",
      " -1.67200506e+00  1.70022368e+00 -3.29548091e-01 -8.44498634e+00\n",
      "  1.63847172e+00  6.43343639e+00 -3.72340798e-01 -7.80918121e+00\n",
      " -8.82673919e-01 -1.49785576e+01 -1.22536650e+01 -2.63269258e+00\n",
      " -1.95163620e+00 -2.60347104e+00 -2.53469372e+00 -6.61709738e+00\n",
      " -1.58056955e+01 -9.07094097e+00 -2.53152990e+00  3.12426782e+00\n",
      " -8.52387428e+00 -2.29024734e+01 -2.36034900e-01 -3.15330672e+00\n",
      " -4.25467014e+00  3.33206439e+00  8.53289795e+00 -2.00724378e-01\n",
      "  4.84775633e-01  2.43370414e+00  1.66221488e+00 -1.37315559e+01\n",
      " -8.52692127e+00 -1.75235214e+01 -4.54461765e+00 -4.04805040e+00\n",
      "  9.98945594e-01 -1.07256117e+01  1.96996236e+00 -1.76289332e+00\n",
      " -2.49983845e+01 -2.56278725e+01 -1.72050591e+01 -4.46240091e+00\n",
      " -3.63954186e+00 -4.58788586e+00  3.85369122e-01 -8.92060757e+00\n",
      " -7.75905704e+00 -1.46383595e+00 -2.74853182e+00  3.10750484e+00\n",
      " -1.60543022e+01 -1.55876946e+00  3.71714497e+00 -5.69511461e+00\n",
      "  8.19806767e+00 -6.48427248e+00  5.75425291e+00 -7.23328638e+00\n",
      " -1.69060631e+01 -1.53995037e+01 -3.28210974e+00  6.97385263e+00\n",
      " -9.86448383e+00 -3.66095209e+00 -2.28879303e-01  2.92318678e+00\n",
      " -1.55707493e+01  1.98734432e-01 -1.76014404e+01 -2.52778149e+00\n",
      " -5.95800638e+00 -4.78951788e+00 -3.45907211e+00 -1.52797198e+00\n",
      " -1.48351173e+01  3.17570597e-01  4.76816320e+00  4.06118059e+00\n",
      " -1.06784744e+01  3.89000148e-01 -1.92259228e+00 -5.91929770e+00\n",
      " -4.02517319e+00 -4.32988882e+00 -3.21744156e+00  4.84011793e+00\n",
      " -1.94764805e+01 -3.56713257e+01 -2.85823154e+00 -4.79114819e+00\n",
      " -5.12932062e+00  3.51325798e+00 -1.15790806e+01 -2.82244625e+01\n",
      " -6.34761667e+00  4.53175783e+00  2.46236253e+00 -3.50117989e+01\n",
      " -3.81297417e+01  1.27513433e+00 -4.08296537e+00 -2.61066132e+01\n",
      "  6.64985418e+00 -2.40135326e+01 -2.99686146e+00 -1.22248495e+00\n",
      " -9.90402317e+00 -2.92869530e+01 -3.22222710e-01 -1.62932453e+01\n",
      " -1.77724018e+01 -5.70920801e+00 -2.77251244e+00  4.03669882e+00\n",
      " -3.94377098e+01  6.69248998e-01 -5.43604326e+00 -1.29591618e+01\n",
      "  7.79882956e+00  1.51615500e+00  6.38056517e+00 -1.04124002e+01\n",
      " -3.59292150e+00 -1.77546558e+01 -8.91168308e+00 -7.97456789e+00\n",
      " -2.22831082e+00  2.45194697e+00  5.83598089e+00 -3.10905533e+01\n",
      " -1.15540562e+01 -2.92391777e+00  1.16283903e+01 -3.14507370e+01\n",
      " -4.49085665e+00 -8.35460567e+00 -1.25051308e+00  4.48071766e+00\n",
      " -2.86848593e+00 -3.08387113e+00  7.10834265e+00  3.16589856e+00\n",
      " -1.31363325e+01 -9.94639397e+00 -3.45924683e+01 -6.40826416e+00\n",
      " -2.37736435e+01 -2.85937443e+01 -8.17776585e+00 -1.61099529e+01\n",
      " -1.26653490e+01 -3.42149687e+00 -3.81052933e+01 -3.00605698e+01\n",
      " -1.43605423e+01 -4.54663181e+00 -5.76504230e+00 -3.30126152e+01\n",
      " -8.75416660e+00  8.94294548e+00 -1.07940845e+01 -3.01362777e+00\n",
      " -7.60106707e+00 -1.19688816e+01 -8.49399090e+00 -2.55911942e+01\n",
      " -2.77822056e+01  3.30725551e+00 -5.24848223e+00 -7.88707924e+00\n",
      " -2.45523834e+01 -3.55517101e+00 -2.78464108e+01  1.08266220e+01\n",
      " -1.73121905e+00  8.32910728e+00  2.63588071e+00 -2.62948952e+01\n",
      " -4.50779819e+00 -3.07785816e+01 -1.53674755e+01 -8.78839302e+00\n",
      "  1.08011496e+00  4.22439814e+00 -2.57589149e+01  5.42083073e+00\n",
      " -1.29468517e+01 -1.75643933e+00 -3.46007156e+01 -1.27805567e+01\n",
      "  1.65509205e+01  4.48735952e+00 -1.45941830e+01 -1.44942455e+01\n",
      " -5.13656473e+00  8.07296944e+00]' has dtype incompatible with int64, please explicitly cast to a compatible dtype first.\n",
      "  preds[val_index] = model.predict(dval_i)\n"
     ]
    },
    {
     "name": "stderr",
     "output_type": "stream",
     "text": [
      "\r",
      " 10%|██████████████████████▏                                                                                                                                                                                                       | 1/10 [00:19<02:55, 19.46s/it]"
     ]
    },
    {
     "name": "stderr",
     "output_type": "stream",
     "text": [
      "C:\\Users\\81809\\AppData\\Local\\Temp\\ipykernel_7320\\3386215446.py:18: FutureWarning: Setting an item of incompatible dtype is deprecated and will raise an error in a future version of pandas. Value '[-7.66919136e+00  1.36891663e+00  1.56002283e+01 -2.27914348e-01\n",
      "  7.08108187e+00  5.21826220e+00  2.15118752e+01 -1.86394095e+00\n",
      "  1.28715982e+01  6.66079903e+00 -3.68215156e+00 -5.67312145e+00\n",
      "  5.80044270e+00  8.63516712e+00 -2.75777149e+00  2.34957314e+01\n",
      "  6.47458673e-01  2.64914584e+00  1.06654520e+01  9.25523186e+00\n",
      "  8.20457649e+00  4.71049929e+00  6.72325993e+00  4.24776363e+00\n",
      " -6.71527386e+00  2.59041739e+00  7.93584681e+00 -2.12896824e+00\n",
      "  2.50191460e+01  1.60990238e+01  1.27472658e+01  4.22336292e+00\n",
      "  6.58944225e+00 -2.78701997e+00  6.43077374e+00  6.17001104e+00\n",
      " -3.96125627e+00  4.00752157e-01  8.32599640e+00  2.25100651e+01\n",
      "  1.21950388e+01  1.08961048e+01  1.83051395e+01  7.93791008e+00\n",
      "  1.70117207e+01  7.27654266e+00  7.31032658e+00  5.22209549e+00\n",
      " -2.67236710e-01  6.48521948e+00  8.72827828e-01 -8.00583184e-01\n",
      "  1.79377949e+00  6.46882105e+00  8.49498844e+00  2.47959328e+01\n",
      "  7.21976709e+00 -5.83971322e-01  9.98700619e+00  9.32030773e+00\n",
      "  6.09969854e+00  7.14861631e+00 -1.43686211e+00 -3.36451077e+00\n",
      " -1.27875113e+00  2.91761684e+00 -1.53232336e+00  1.12740076e+00\n",
      "  1.94374542e+01  1.16764383e+01  7.75493324e-01  2.85620728e+01\n",
      "  1.36823540e+01  3.86268950e+00  1.98718109e+01 -8.01105404e+00\n",
      "  5.96342325e+00  5.62407446e+00  3.59077549e+00  3.91801715e+00\n",
      "  3.01962435e-01 -3.94828528e-01  1.77053814e+01  7.69700956e+00\n",
      " -2.01992822e+00 -1.05839205e+01  4.77294540e+00  8.88339996e+00\n",
      "  2.85499907e+00  1.60091102e+00  2.27262568e+00 -5.05503416e+00\n",
      " -3.44543028e+00  1.81001263e+01 -2.39561081e+00 -2.08782578e+00\n",
      " -2.17496777e+00  1.38193073e+01  1.07778587e+01  1.51879644e+01\n",
      "  3.91571045e+00 -5.93347883e+00  1.24532461e+01  8.06010151e+00\n",
      "  1.16581793e+01  2.56296492e+00  9.74143982e+00 -1.15638459e+00\n",
      "  1.76374245e+01 -2.30289793e+00  2.10729771e+01 -2.83740473e+00\n",
      "  1.34930241e+00  1.37585630e+01  1.90913639e+01 -3.08302569e+00\n",
      "  2.68159628e+00 -4.08520222e+00 -9.23918533e+00 -6.49341297e+00\n",
      "  2.17170453e+00  1.26219845e+00  9.46193695e-01 -1.24903584e+00\n",
      " -2.35042000e+00  3.96297909e-02 -5.43122578e+00  6.80163813e+00\n",
      "  2.73846793e+00  3.01481647e+01  7.21721220e+00  2.71619263e+01\n",
      "  5.36785173e+00 -7.94792235e-01  1.02179689e+01 -7.45230341e+00\n",
      " -5.26626587e+00  1.46608555e+00 -6.91319084e+00 -6.15130246e-01\n",
      "  6.52049780e+00 -7.99789131e-01  2.26334915e+01  1.67462425e+01\n",
      "  3.64630079e+00  2.31242612e-01 -4.45276320e-01  7.45416939e-01\n",
      "  1.96233407e-01  7.59864986e-01 -2.78333330e+00 -1.69741347e-01\n",
      "  2.86665606e+00 -6.45236206e+00 -1.40471506e+00  3.55701518e+00\n",
      "  2.13800678e+01  4.54582781e-01  3.13823533e+00  6.72565985e+00\n",
      " -7.28328419e+00  3.27764010e+00 -1.01317382e+00 -4.24986982e+00\n",
      " -4.13981533e+00  4.84717041e-01  3.05053005e+01  1.44108355e+00\n",
      "  6.86169195e+00 -3.92063999e+00  4.17701632e-01  1.21068954e+01\n",
      "  2.05657539e+01  9.78748035e+00  4.32716608e+00 -1.00225508e+00\n",
      "  1.23195477e+01 -5.73545504e+00 -1.80011120e+01 -5.48789883e+00\n",
      "  4.59236622e+00  7.86565208e+00 -2.60579157e+00  8.16461563e+00\n",
      "  2.07598591e+01  9.73058510e+00  1.36569369e+00  2.35225048e+01\n",
      " -1.01737404e+00  9.03453636e+00  2.42223682e+01 -2.19105864e+00\n",
      " -1.17208469e+00  4.42736864e+00  1.99171329e+00  5.58952665e+00\n",
      " -4.58455753e+00  2.36773109e+00 -7.57324839e+00  1.24294055e+00\n",
      "  3.44940925e+00 -2.48745680e+00  2.19563351e+01 -7.63591051e-01\n",
      "  1.57303591e+01  1.69353695e+01  1.79679813e+01 -3.40621924e+00\n",
      "  2.06800461e+01  2.46710801e+00 -9.88150787e+00 -1.07645950e+01\n",
      "  1.09641047e+01  2.44481945e+00 -5.22225440e-01 -3.27838898e+00\n",
      "  5.37405300e+00  4.98037815e+00  4.45168495e+00  2.01931610e+01\n",
      " -3.12351799e+00  1.95561218e+00  5.37626076e+00  2.02586308e+01\n",
      " -3.38419199e+00  1.87770534e+00  1.90555573e+01  2.78616962e+01\n",
      " -8.64871788e+00 -3.40153980e+00  7.84774828e+00  2.74409809e+01\n",
      "  3.73509140e+01 -9.97777522e-01  5.46323824e+00  2.02971153e+01\n",
      "  7.39711857e+00  2.30173607e+01 -6.48573780e+00 -6.79433823e+00\n",
      "  7.12915754e+00  9.21624851e+00  6.82598162e+00 -7.77132273e+00\n",
      "  2.22957268e+01  6.09456539e-01 -5.22893286e+00  1.25446577e+01\n",
      "  8.91593099e-01  1.73921764e+00  1.32177362e+01 -1.26798296e+01\n",
      "  1.59398232e+01  2.04189568e+01  6.81246340e-01  8.35993481e+00\n",
      "  1.02678709e+01  9.20562840e+00  3.43134537e+01  2.16510658e+01\n",
      "  5.02955389e+00 -8.23825741e+00  3.33397713e+01  1.42566652e+01\n",
      "  3.47238874e+00  7.35037231e+00  2.11901207e+01  4.59680824e+01\n",
      "  2.11977940e+01 -6.35551596e+00  3.19928398e+01  1.25781689e+01\n",
      "  3.57815781e+01  1.19544907e+01  2.63171053e+00  4.11008120e+00\n",
      "  1.16590796e+01  7.58204985e+00  4.66570187e+00  2.49060879e+01\n",
      "  2.89374828e+01  8.21380138e+00  7.60439301e+00  2.80219150e+00\n",
      "  2.77357197e+01 -4.36601067e+00  1.09618034e+01  2.65787735e+01\n",
      " -1.57509327e+00  2.07219934e+00  7.22462982e-02  1.39111366e+01\n",
      "  3.04490128e+01  2.77938938e+00  1.86728611e+01  8.64797974e+00\n",
      "  2.64993401e+01 -7.33905971e-01 -6.17160082e+00  2.48172021e+00\n",
      "  6.66515112e+00  1.14094782e+01  2.83398986e+00  4.75733519e+00\n",
      " -1.16624966e+01  2.00529170e+00 -1.96811473e+00 -7.12407637e+00\n",
      " -1.99288583e+00  2.36654282e+00 -1.06498981e+00  3.93767090e+01\n",
      "  2.58437443e+01  6.86394119e+00  6.23037672e+00 -4.93473530e+00\n",
      "  6.19257689e+00  2.14923115e+01 -5.53467131e+00  1.92612457e+01\n",
      "  1.34647441e+00 -1.16335239e+01 -1.26275196e+01  2.82859383e+01\n",
      "  4.84954977e+00  5.76715422e+00  1.15867844e+01 -1.04246521e+01\n",
      "  4.81803417e+00 -1.66586952e+01 -2.33145924e+01  3.34297204e+00\n",
      " -1.19540524e+00 -7.15798676e-01 -8.37182808e+00  4.42016506e+00\n",
      " -6.78830338e+00  4.47862625e+00 -6.70182085e+00 -6.61163044e+00\n",
      " -1.15767799e-01  8.82877636e+00  1.20069396e+00  2.49300838e+00\n",
      " -2.19911499e+01 -2.53863239e+01 -2.13363400e+01 -6.61445904e+00\n",
      " -1.66742551e+00 -8.00018668e-01 -8.07299805e+00 -3.67556763e+00\n",
      " -1.95840025e+00 -2.55246758e+00 -1.64860415e+00  8.83011147e-02\n",
      "  5.02092838e+00 -6.47962332e+00  3.57104063e-01 -9.54752731e+00\n",
      " -7.96166468e+00 -1.91274471e+01 -1.44744396e+01  1.84305692e+00\n",
      "  3.76671052e+00  8.17630291e+00 -1.48668356e+01  3.36408234e+00\n",
      "  7.26418018e+00 -1.43581021e+00 -2.68903875e+00  9.28529561e-01\n",
      "  7.27163982e+00 -5.64058781e+00  4.95060325e-01 -7.98322725e+00\n",
      " -1.99697614e+00 -2.20614758e+01 -5.34179115e+00  1.58291268e+00\n",
      "  4.70462036e+00  3.70407820e+00 -8.57777882e+00 -7.68298960e+00\n",
      "  1.94956946e+00  2.74846601e+00  3.57057363e-01 -5.88832378e+00\n",
      " -1.28326979e+01 -6.18277454e+00 -8.50200367e+00  2.27960992e+00\n",
      " -7.99577761e+00 -6.58219481e+00 -7.03818750e+00 -2.20461106e+00\n",
      "  1.16231203e+00 -1.20979719e+01 -2.91504803e+01  1.45342183e+00\n",
      " -3.90452719e+00 -2.45147152e+01 -2.70425081e+00 -3.46780944e+00\n",
      " -1.26754208e+01  7.47272253e-01 -2.51859798e+01 -2.08819160e+01\n",
      "  1.02295506e+00 -6.34390175e-01 -1.45393506e-01  2.30739236e+00\n",
      " -6.89578009e+00  1.47164316e+01 -2.90689754e+01  3.67370844e+00\n",
      " -1.55851526e+01 -3.68444705e+00 -1.58968747e+00  4.80362940e+00\n",
      " -1.17587442e+01 -3.98856306e+00  1.82843494e+00 -1.59454644e-01\n",
      " -7.10916936e-01  1.86840236e+00 -2.85132074e+00 -2.30173182e+00\n",
      "  6.17837143e+00 -3.57152390e+00  1.00714703e+01  6.14890194e+00\n",
      "  4.57764101e+00  1.48510933e+01 -6.59485832e-02  3.18545151e+00\n",
      "  2.08793759e+00 -3.04794750e+01 -7.26051760e+00 -6.98235226e+00\n",
      "  2.17419362e+00  3.25345302e+00 -2.87233186e+00  2.80835629e-01\n",
      " -4.90067101e+00 -9.93816280e+00 -1.00001141e-01  2.62244892e+00\n",
      " -3.83627272e+00 -1.24580708e+01 -2.60671949e+00 -3.09125829e+00\n",
      " -7.29701853e+00 -1.67792835e+01 -3.27457714e+00  7.23126698e+00\n",
      " -1.20287585e+00  1.76092279e+00 -1.01117392e+01  5.21672249e+00\n",
      "  6.23952866e+00  6.82902873e-01 -7.61446619e+00  2.75860429e+00\n",
      " -2.22492809e+01 -5.15197563e+00 -4.20145035e+00 -2.28309002e+01\n",
      " -1.08929443e+01 -1.86617720e+00 -2.56997967e+00  7.46697426e-01\n",
      "  4.20182323e+00 -2.19777374e+01 -2.28037090e+01 -4.44623232e+00\n",
      " -6.38764620e+00 -3.52800608e+00 -2.81902122e+00 -4.52722549e+00\n",
      " -3.62468624e+00  3.98232341e+00  3.86272103e-01 -2.26820126e+01\n",
      "  3.06342125e+00 -6.17343187e-01 -3.27152419e+00  7.09220052e-01\n",
      " -3.79855722e-01 -2.01581650e+01 -2.09195480e+01 -4.75569534e+00\n",
      " -3.05229336e-01 -1.26758938e+01 -3.54763579e+00  2.65447521e+00\n",
      " -1.11570215e+00  1.73205268e+00 -4.25238848e-01 -5.94164181e+00\n",
      " -1.30573285e+00 -5.62797785e+00 -2.78831244e+00 -3.81858826e+00\n",
      " -3.46674871e+00 -2.32397866e+00 -1.13466252e-02 -1.56074786e+00\n",
      "  3.31782937e+00  4.99145317e+00 -8.96112442e+00 -3.65429378e+00\n",
      " -2.26627464e+01 -5.49921656e+00 -1.75715084e+01 -2.11073627e+01\n",
      "  5.94989014e+00  6.56298065e+00 -7.93302917e+00 -6.40057278e+00\n",
      "  4.82427406e+00 -1.08742409e+01 -2.38867855e+00 -1.90606304e-02\n",
      " -1.55969601e+01 -5.76968288e+00  2.40622520e+00 -1.00664988e+01\n",
      " -2.32683144e+01  4.49075794e+00  2.51030469e+00  7.56422520e-01\n",
      "  4.82195586e-01 -5.81503296e+00 -3.12840915e+00 -2.97351418e+01\n",
      " -4.34694099e+01 -2.85818996e+01 -2.56863365e+01 -2.51993227e+00\n",
      " -7.00335121e+00 -1.78757000e+01 -2.41510224e+00 -1.19929492e+00\n",
      " -1.99406643e+01 -4.47329044e+00 -1.67111568e+01 -2.63432121e+01\n",
      " -1.32029188e+00 -3.42276621e+00 -1.52620783e+01 -2.78027420e+01\n",
      "  4.22158766e+00 -5.91456127e+00  5.75276995e+00 -1.17713213e+01\n",
      " -1.77058964e+01 -3.00999546e+01 -1.04655218e+01 -1.70388758e+00\n",
      " -1.31532001e+01 -1.67697564e-01 -6.80086756e+00  5.05502605e+00\n",
      " -7.40669918e+00 -3.05497189e+01 -1.09289341e+01 -1.55835438e+01\n",
      " -3.37205086e+01 -4.94850254e+00  2.15124655e+00 -2.21744671e+01\n",
      " -1.43286667e+01 -1.01450424e+01 -4.27009869e+00 -8.45633221e+00\n",
      "  7.12989187e+00 -1.83606398e+00  1.44133484e+00 -3.23785706e+01\n",
      " -2.91025219e+01 -4.20708122e+01  4.58786678e+00 -1.17784286e+00\n",
      " -1.50054770e+01 -1.71976852e+00 -9.73359108e+00 -1.48737707e+01\n",
      " -3.97278094e+00 -1.06708689e+01 -6.42310572e+00 -1.14289320e+00\n",
      " -3.71099663e+00 -1.00128832e+01 -2.20584087e+01  3.84383225e+00\n",
      " -3.33616295e+01 -7.91943979e+00  1.01431904e+01 -2.99831009e+01\n",
      "  6.14946604e+00 -1.65084896e+01 -7.75356293e+00 -3.19311428e+01\n",
      " -2.54794369e+01 -5.49103642e+00  1.88126481e+00 -1.30200148e+01\n",
      "  3.34886146e+00 -3.10580564e+00 -1.43308086e+01 -3.63489270e+00\n",
      " -5.17302752e-01  6.24675214e-01 -1.82683487e+01 -7.91889286e+00\n",
      " -2.09269161e+01  8.82254988e-02 -1.03804207e+01 -4.83217573e+00\n",
      " -6.47991323e+00  1.72476196e+00 -1.21650085e+01 -1.76274776e+01\n",
      " -2.02964091e+00 -1.66736717e+01 -5.58742189e+00 -2.01698542e+00\n",
      " -8.20426559e+00 -2.64430389e+01 -6.41992903e+00  2.26543503e+01\n",
      "  1.37260418e+01 -6.35199404e+00 -3.81165161e+01 -1.03839264e+01\n",
      " -2.40589714e+01 -6.74429417e+00 -2.46637421e+01  4.86796236e+00\n",
      " -1.84175606e+01 -9.34414577e+00 -1.20925350e+01 -1.19617720e+01\n",
      " -1.07327414e+01 -3.95622635e+00]' has dtype incompatible with int64, please explicitly cast to a compatible dtype first.\n",
      "  preds[val_index] = model.predict(dval_i)\n"
     ]
    },
    {
     "name": "stderr",
     "output_type": "stream",
     "text": [
      "\r",
      " 20%|████████████████████████████████████████████▍                                                                                                                                                                                 | 2/10 [00:39<02:40, 20.06s/it]"
     ]
    },
    {
     "name": "stderr",
     "output_type": "stream",
     "text": [
      "C:\\Users\\81809\\AppData\\Local\\Temp\\ipykernel_7320\\3386215446.py:18: FutureWarning: Setting an item of incompatible dtype is deprecated and will raise an error in a future version of pandas. Value '[ 1.11095357e+00 -5.26169634e+00 -6.36388540e+00 -4.08940673e-01\n",
      "  7.85905647e+00 -1.59350145e+00  6.39456558e+00  8.42991352e+00\n",
      "  3.38853550e+00 -6.92979753e-01 -3.81030989e+00  2.62743511e+01\n",
      "  2.18313026e+01 -9.21173096e-01  2.31500435e+01  2.53937588e+01\n",
      "  5.48325062e+00  9.58924961e+00  6.84099054e+00 -9.06886959e+00\n",
      "  5.07271910e+00  6.23751640e+00  9.00083256e+00  6.96048832e+00\n",
      "  1.88148189e+00  3.85882568e+00  7.85909081e+00  1.86982989e+00\n",
      " -6.73240566e+00 -4.79319286e+00 -5.50670385e-01  9.24020195e+00\n",
      "  1.01824379e+01  2.35877824e+00  2.47156258e+01 -1.39532614e+00\n",
      "  3.16203451e+00  2.90187454e+01  3.50754404e+00  5.54328346e+00\n",
      "  4.56813526e+00 -7.47146082e+00  5.50299644e+00  1.73905060e-01\n",
      "  2.61162400e+00  7.17074537e+00 -4.28284407e+00 -6.37387371e+00\n",
      "  7.49262142e+00 -9.61226559e+00  5.37026501e+00  6.03300810e+00\n",
      "  5.84214830e+00 -1.86143649e+00  8.40267944e+00 -6.70383632e-01\n",
      "  4.24055576e+00  1.80452347e+01  5.81825113e+00 -9.43308353e-01\n",
      "  2.21736393e+01 -3.29801607e+00  1.62684608e+00  2.62073574e+01\n",
      "  6.67656422e+00  7.35582590e+00  6.50218534e+00  1.97113681e+00\n",
      "  3.14006901e+00  3.08527040e+00 -1.34331858e+00  2.39738579e+01\n",
      "  8.52557564e+00  1.41713634e-01  4.74227238e+00  1.52363462e+01\n",
      "  2.81901932e+00  1.73996277e+01 -7.48550367e+00  1.82404613e+00\n",
      "  5.09486246e+00  7.26395941e+00 -4.54162931e+00  3.39911014e-01\n",
      "  1.45878344e+01 -4.92548561e+00  2.73471241e+01  1.21640168e-01\n",
      " -1.08368778e+00  1.43620958e+01  6.21220112e+00  2.32880001e+01\n",
      "  1.68218806e-01 -6.51984358e+00  1.05450516e+01  8.68028259e+00\n",
      "  3.45736289e+00 -2.52805996e+00  1.82947278e+00  4.61590767e+00\n",
      "  1.58386481e+00  1.92777081e+01 -3.74710155e+00  7.86017084e+00\n",
      "  2.01135006e+01  1.03482878e+00  2.37071991e+01  5.60156107e+00\n",
      "  4.39608145e+00 -3.32318234e+00  9.27538490e+00 -5.35390759e+00\n",
      " -1.29149175e+00  8.97001445e-01 -7.03087687e-01 -6.96237803e+00\n",
      "  1.89968705e-01  5.98634529e+00 -9.12152231e-01  6.83364153e+00\n",
      "  2.54398727e+01  3.51751518e+00  1.08938618e+01 -1.89753854e+00\n",
      "  1.33196616e+00 -5.62901878e+00 -2.30996490e+00  2.30716658e+00\n",
      " -4.39667165e-01  9.81112063e-01 -1.50663033e+01  1.10565596e+01\n",
      "  1.11103516e+01  2.19705658e+01 -5.44920254e+00 -3.02398264e-01\n",
      "  7.25501823e+00 -6.37691307e+00  9.65423644e-01 -3.22895932e+00\n",
      "  1.24276626e+00  1.67681866e+01  1.20393829e+01  2.11033010e+00\n",
      "  2.27584410e+00 -1.63796568e+00  4.41688728e+00 -6.90112543e+00\n",
      "  3.47266936e+00  1.35932446e+01 -2.11979556e+00  2.54018831e+00\n",
      " -1.00992203e+00  2.25713711e+01  2.77764606e+00  2.22181559e+00\n",
      "  3.01997280e+01  3.66001940e+00  3.38024402e+00  8.23778629e+00\n",
      "  1.25675428e+00  9.21610165e+00 -2.22256994e+00  2.92998171e+00\n",
      "  4.00885296e+00  5.96991062e+00  1.24575729e+01  2.66174278e+01\n",
      "  4.68276167e+00  6.09469843e+00 -3.51505685e+00  7.29367590e+00\n",
      "  2.96042061e+00  3.85852957e+00  1.93058264e+00  2.30879192e+01\n",
      " -4.35661338e-02  5.11133862e+00 -8.23173237e+00  3.23017621e+00\n",
      " -5.94443560e+00 -9.29881215e-01 -9.45072079e+00  7.06398058e+00\n",
      "  7.53913975e+00  3.62309122e+00 -2.65963745e+00  2.42637801e+00\n",
      " -4.12107289e-01 -6.33340025e+00  3.82955503e+00  3.10631905e+01\n",
      "  2.99707565e+01  4.39420166e+01  2.93933430e+01  1.81225281e+01\n",
      " -3.70701742e+00  3.02077556e+00  1.45592451e-01  1.32393980e+01\n",
      "  1.00233078e+01 -1.18262405e+01  6.51235437e+00  2.61308026e+00\n",
      "  9.39557362e+00  2.86350327e+01  4.96171981e-01  3.93015709e+01\n",
      "  8.21175194e+00 -1.12545214e+01  1.69791088e+01  1.05671539e+01\n",
      "  1.35820427e+01  1.63012142e+01  2.72283707e+01  1.65733223e+01\n",
      "  5.03631067e+00  3.45256925e+00  3.59435921e+01 -3.94521523e+00\n",
      "  1.23966694e+01  1.01233692e+01  2.49656925e+01  1.52735491e+01\n",
      "  1.91128864e+01  1.18869591e+01  2.36043143e+00 -5.25183249e+00\n",
      "  2.14222469e+01 -6.39303446e+00 -1.24538720e+00  2.91466599e+01\n",
      " -1.99496281e+00  1.22594271e+01  2.21890062e-01  9.33007145e+00\n",
      " -8.02723980e+00  2.70165596e+01  9.06795025e+00 -2.28635445e+01\n",
      "  3.22567635e+01  1.48022203e+01 -1.97155011e+00 -6.26555777e+00\n",
      "  3.73777461e+00  3.04754925e+00  1.48878670e+01  1.39706955e+01\n",
      "  2.09313250e+00  6.72235346e+00  4.02447605e+00  9.04547691e+00\n",
      "  3.86075516e+01  6.44370556e+00 -4.30435848e+00 -1.66454697e+00\n",
      "  8.75219536e+00  1.26844044e+01  3.72522736e+00  2.42778988e+01\n",
      "  2.93973255e+01 -6.62937307e+00  8.51217079e+00  7.61773968e+00\n",
      "  2.96356773e+01 -8.89601612e+00  4.02410173e+00  3.04670119e+00\n",
      "  1.19626398e+01  1.25505817e+00 -6.39885044e+00 -2.88642621e+00\n",
      "  3.66133957e+01  3.15748482e+01  1.40787973e+01  2.30731344e+00\n",
      " -1.59390473e+00  9.69933224e+00  1.91114273e+01  3.14915504e+01\n",
      " -4.49742889e+00 -1.09398699e+01 -9.77670574e+00  2.88513641e+01\n",
      " -7.87720680e+00  7.39436102e+00  2.32420673e+01  9.55149555e+00\n",
      "  2.65064926e+01  3.01853142e+01  7.57929468e+00  7.30289578e-01\n",
      " -2.43564148e+01  3.62050843e+00 -1.13901734e+00  5.88505983e+00\n",
      "  1.62536488e+01 -5.24888706e+00  3.84946518e+01  8.24487782e+00\n",
      "  2.16865864e+01  2.62590637e+01  1.25111246e+01  1.50822639e+01\n",
      " -6.53270185e-01  9.53307343e+00  2.68881768e-01 -3.95239806e+00\n",
      "  2.97077417e+00 -9.88317490e+00 -2.26886768e+01 -7.11665392e+00\n",
      " -1.72198486e+01 -1.78045368e+01 -6.82728767e+00  4.04686928e+00\n",
      "  5.11524916e+00 -6.66991901e+00 -8.40398598e+00  3.04351068e+00\n",
      " -7.43568230e+00 -4.79176331e+00 -5.71439791e+00 -1.49084198e+00\n",
      " -5.23109818e+00 -2.12404194e+01  9.77296162e+00 -4.02776432e+00\n",
      " -3.71354389e+00 -6.84121847e+00  6.18825972e-01 -8.90352440e+00\n",
      " -6.99496555e+00 -7.41643524e+00 -2.64650536e+00 -9.73767638e-01\n",
      " -4.76421404e+00 -1.60415955e+01  1.58082509e+00 -1.95015430e+01\n",
      "  1.23829508e+01 -8.06718445e+00 -1.14393539e+01 -3.50628281e+00\n",
      " -1.51221247e+01 -5.79893398e+00  7.38836765e+00 -4.82115364e+00\n",
      "  2.63899255e+00 -6.31952000e+00 -2.60184073e+00 -7.62570000e+00\n",
      " -8.62332153e+00 -1.94216490e+00 -2.87880945e+00  6.48565388e+00\n",
      "  2.92305207e+00 -1.52270479e+01 -7.54003429e+00  2.25676823e+00\n",
      " -1.07471762e+01 -1.45557108e+01 -2.90214467e+00 -4.94836044e+00\n",
      "  4.51073837e+00 -7.34040678e-01 -2.23146725e+00 -3.62887144e+00\n",
      " -2.60659370e+01 -1.08678837e+01  2.76221681e+00 -2.12112516e-01\n",
      " -1.45327921e+01  8.91487956e-01  1.24246252e+00 -3.31057405e+00\n",
      "  2.12494636e+00 -2.00946212e+00 -7.75071859e+00 -4.12404251e+00\n",
      " -3.01231325e-01 -1.74058628e+01 -2.45083857e+00 -1.06037688e+00\n",
      " -3.69851780e+00 -1.82082043e+01 -5.42343378e+00 -1.94408131e+00\n",
      " -1.20471764e+01 -5.83746624e+00 -5.34643233e-01  4.05305862e-01\n",
      " -2.34021015e+01 -2.14295483e+00  3.63801074e+00  5.33125448e+00\n",
      " -2.43984556e+00 -2.22292480e+01  4.24810553e+00 -7.49407768e+00\n",
      " -1.15584927e+01 -4.50388336e+00 -1.14619064e+01 -5.50773501e-01\n",
      "  3.02884388e+00  4.18299913e+00 -3.96309912e-01 -3.25411248e+00\n",
      "  2.08638501e+00  5.79528790e-03  2.36521673e+00  1.97943318e+00\n",
      " -1.51078157e+01 -1.00784779e+01 -6.46456289e+00  7.12073374e+00\n",
      "  7.62894273e-01 -1.32973468e+00 -2.35804319e+00 -1.20982752e+01\n",
      "  2.02544594e+00 -2.24289799e+01  3.91018796e+00 -6.11994362e+00\n",
      " -1.65840018e+00 -2.60554552e+00  2.72736788e+00  8.63035297e+00\n",
      " -1.34091127e+00 -7.56989908e+00 -1.86348772e+00  1.62501431e+01\n",
      " -2.85598516e-01 -2.86122971e+01 -7.97484112e+00 -7.77827215e+00\n",
      "  1.76280522e+00 -1.82583637e+01  9.02937508e+00 -8.37206364e-01\n",
      " -1.25744638e+01 -1.10030785e+01 -2.80634022e+00 -2.54103827e+00\n",
      " -2.13439140e+01  1.53720722e+01 -3.53709888e+00  1.74832213e+00\n",
      " -1.25565710e+01  1.15149727e+01  3.74733782e+00 -1.66397209e+01\n",
      "  6.77902460e-01 -1.04121027e+01 -6.22506666e+00 -6.26726723e+00\n",
      "  2.70283699e+00 -3.23900270e+00 -2.08156853e+01 -4.23379707e+00\n",
      " -2.16223755e+01 -4.40614605e+00 -5.06757975e+00 -4.19556093e+00\n",
      " -8.52552414e-01  2.45403695e+00  1.92066506e-01 -7.74761772e+00\n",
      " -2.13294581e-01 -4.49761438e+00 -9.26243496e+00 -2.49280310e+00\n",
      "  6.59553826e-01 -9.62057590e+00  1.47773266e-01 -5.44307804e+00\n",
      " -3.28178740e+00 -6.26174361e-02  1.66737938e+00  2.60531998e+00\n",
      "  3.34352553e-01 -2.32331600e+01 -7.94226599e+00  5.39204502e+00\n",
      "  3.76836252e+00 -1.95519352e+00 -1.76231041e+01 -2.17061782e+00\n",
      " -5.32571602e+00 -8.20463371e+00  1.60586202e+00 -1.58231944e-01\n",
      " -1.98113174e+01 -7.21687412e+00 -2.07659554e+00 -1.44628057e+01\n",
      " -2.14080639e+01 -2.47657242e+01 -1.98928032e+01  1.46393180e+00\n",
      " -3.36965919e+00  5.13107872e+00 -4.99109554e+00 -2.72020340e+00\n",
      "  7.28198099e+00  1.54841959e+00  1.16273606e+00 -3.40842772e+00\n",
      " -2.24884338e+01 -8.21735764e+00  2.55597663e+00  6.44362867e-01\n",
      " -1.65450072e+00 -3.38722277e+00  3.48657775e+00 -1.43671200e-01\n",
      "  2.55498362e+00  7.41692209e+00  3.06904483e+00 -8.67962360e+00\n",
      " -2.93122005e+00  2.97607481e-01 -1.10080891e+01 -2.76737938e+01\n",
      " -1.43205137e+01  4.37722826e+00 -2.07272553e+00  3.38303298e-01\n",
      " -1.73741093e+01 -1.43705034e+01  2.89952159e+00 -2.65804787e+01\n",
      "  2.02225494e+00 -2.21705418e+01 -2.36948891e+01 -8.01804543e+00\n",
      " -3.55460129e+01 -1.38108263e+01 -3.41885109e+01 -2.11399326e+01\n",
      " -6.38459730e+00  2.58565402e+00  1.15689526e+01  7.07608128e+00\n",
      " -3.20649338e+01 -2.48075581e+01 -1.15906458e+01 -3.09255829e+01\n",
      "  1.66158524e+01 -6.12243605e+00 -2.43314915e+01 -6.46078587e+00\n",
      " -5.49728870e+00 -1.35144434e+01  4.91063118e+00 -1.26955299e+01\n",
      " -2.97872620e+01  1.01240367e-01 -3.41969490e+00 -2.09734421e+01\n",
      " -1.00201750e+01 -2.80209732e+01 -1.21036577e+01 -1.93256359e+01\n",
      "  1.37071171e+01 -1.52301950e+01 -3.25539131e+01 -7.93162966e+00\n",
      " -4.19322920e+00 -6.42264605e+00  5.94079304e+00 -1.79714251e+00\n",
      " -8.07753468e+00 -2.84985428e+01  3.71702611e-01 -1.22957335e+01\n",
      " -4.08594818e+01 -1.21604681e+00 -1.53358431e+01 -8.92519236e-01\n",
      "  3.24862909e+00 -1.69889545e+01  4.80595779e+00 -3.20853119e+01\n",
      "  5.93977404e+00 -1.71051085e+00 -1.32219677e+01 -4.24584579e+00\n",
      " -1.28908348e+01 -6.20853710e+00 -2.73348379e+00 -2.14243107e+01\n",
      " -1.06649122e+01 -4.36871386e+00  2.74460125e+00  9.43941498e+00\n",
      " -8.38509655e+00 -6.75941324e+00 -2.30963078e+01  3.59023428e+00\n",
      "  8.17191410e+00  2.47560382e+00 -5.87475777e+00 -6.25756741e+00\n",
      "  9.15892220e+00  3.22443724e-01 -9.94827461e+00 -4.54611359e+01\n",
      "  3.41776204e+00 -2.91644459e+01  5.93195295e+00 -1.30317802e+01\n",
      " -2.81070042e+01 -3.86191940e+00 -9.58207798e+00  1.11034946e+01\n",
      " -1.31397839e+01 -1.87597389e+01 -8.69358540e+00 -2.43233204e+01\n",
      " -2.99196892e+01 -7.75131941e+00 -3.40597677e+00  8.77529263e-01\n",
      " -2.87904549e+01 -1.97892532e+01 -2.29280472e+01 -2.04358864e+00\n",
      " -6.08938408e+00 -4.09319067e+00 -1.07636995e+01 -7.07170439e+00\n",
      " -2.67791367e+00  7.62982321e+00 -2.92862206e+01  1.23188095e+01\n",
      " -7.48958063e+00 -5.00044870e+00  3.22018600e+00 -3.85291443e+01\n",
      " -5.86973381e+00 -2.26739216e+01 -1.83353221e+00  3.70578313e+00\n",
      " -1.50031319e+01 -4.37283134e+00]' has dtype incompatible with int64, please explicitly cast to a compatible dtype first.\n",
      "  preds[val_index] = model.predict(dval_i)\n"
     ]
    },
    {
     "name": "stderr",
     "output_type": "stream",
     "text": [
      "\r",
      " 30%|██████████████████████████████████████████████████████████████████▌                                                                                                                                                           | 3/10 [01:06<02:41, 23.14s/it]"
     ]
    },
    {
     "name": "stderr",
     "output_type": "stream",
     "text": [
      "C:\\Users\\81809\\AppData\\Local\\Temp\\ipykernel_7320\\3386215446.py:18: FutureWarning: Setting an item of incompatible dtype is deprecated and will raise an error in a future version of pandas. Value '[ 1.96159470e+00 -7.91639805e+00  5.43919182e+00  1.47982798e+01\n",
      "  2.20007706e+01  8.48620129e+00  4.41688967e+00 -2.75494862e+00\n",
      "  2.47369194e+00  1.04566240e+00 -2.67944002e+00 -2.87558722e+00\n",
      "  3.21163714e-01 -1.52778780e+00 -4.46583271e+00  2.06009102e+01\n",
      " -2.44821572e+00 -1.46788037e+00  2.14925785e+01  1.00837469e+00\n",
      "  6.04738379e+00  2.93919015e+00  7.21890926e-01  5.70300579e+00\n",
      " -4.32370472e+00  8.10078716e+00 -1.01004690e-01 -3.57308006e+00\n",
      "  2.99499178e+00  5.14766359e+00  7.27642357e-01  1.57099476e+01\n",
      "  3.89570928e+00  3.62983513e+00 -5.30999422e-01  7.66311359e+00\n",
      "  5.97379684e-01  1.77263813e+01  2.45318413e+00 -6.95002985e+00\n",
      "  6.94355726e+00 -4.97858375e-01  7.91096354e+00  4.76561356e+00\n",
      " -6.30869722e+00  6.52271605e+00  2.81734705e+00 -8.58364773e+00\n",
      " -1.57710624e+00 -2.05520082e+00  2.10407333e+01  7.93030679e-01\n",
      "  6.45175278e-01 -1.95100152e+00  7.46621704e+00  1.50018454e+00\n",
      " -2.46799922e+00 -6.96467578e-01  2.26048641e+01  1.27350235e+01\n",
      " -3.49543715e+00 -5.22784233e-01  2.50293293e+01 -2.51808214e+00\n",
      "  2.61675191e+00 -9.84215081e-01  7.19669938e-01  9.92379069e-01\n",
      " -2.27510428e+00 -9.91018713e-02  2.18184052e+01 -2.31513262e+00\n",
      "  7.58880949e+00  7.19353247e+00  8.15082848e-01 -2.38822412e+00\n",
      "  4.29658461e+00 -1.61626112e+00  2.25600553e+00 -9.77741909e+00\n",
      "  1.70256672e+01  3.60606623e+00  7.80325937e+00  1.09247036e+01\n",
      " -2.40060735e+00  4.54155207e+00  3.82424402e+00 -2.60145974e+00\n",
      "  2.57031002e+01  1.28493776e+01 -1.03397655e+01 -5.48241997e+00\n",
      "  1.70887642e+01 -2.79776192e+00 -1.53831375e+00  5.03976870e+00\n",
      " -6.99157655e-01  1.10276537e+01  4.83038664e+00 -2.24538565e+00\n",
      " -3.82447171e+00  3.44108200e+00  2.20034904e+01  1.56495390e+01\n",
      " -1.46092463e+01 -2.77409166e-01 -3.27286983e+00  1.06337805e+01\n",
      " -1.61925983e+00  4.11440849e+00  7.68295097e+00  6.91197824e+00\n",
      "  1.63530178e+01  5.37654114e+00  1.49868298e+00  2.58433700e+00\n",
      " -2.33393955e+00  1.38058701e+01  1.78660030e+01  5.46142578e+00\n",
      "  6.19509125e+00  9.69772148e+00 -2.04034424e+00  6.77774668e+00\n",
      " -6.35765028e+00  1.53390396e+00  1.11432991e+01 -6.92199755e+00\n",
      "  7.15127754e+00  7.05530262e+00  4.16552401e+00  9.49429131e+00\n",
      "  9.59667492e+00  1.82286243e+01  1.29800749e+01  9.03968430e+00\n",
      "  1.81380406e-01 -3.99930406e+00  7.09732151e+00 -3.62459326e+00\n",
      " -3.97739553e+00  2.23052330e+01  9.31058025e+00 -1.90899253e+00\n",
      " -3.05742574e+00  6.19059515e+00  5.81777859e+00 -6.52637333e-03\n",
      "  6.27565193e+00 -1.83721519e+00  2.34131222e+01  4.77099323e+00\n",
      "  1.56417046e+01 -1.01793089e+01 -4.40015602e+00 -6.14365876e-01\n",
      " -7.08138275e+00  1.37136924e+00  2.22418356e+00  6.88871717e+00\n",
      "  5.89855242e+00 -1.19262171e+01  1.00243914e+00  1.69630396e+00\n",
      "  4.66044044e+00  4.31302261e+00  9.49140167e+00  3.48782659e+00\n",
      "  2.50124693e+00 -2.22174501e+00  4.49270630e+00 -6.48369837e+00\n",
      " -1.60469437e+01 -3.66651845e+00  5.70997298e-01  1.78869247e+01\n",
      "  3.18838787e+00 -1.89551961e+00  6.22641516e+00  3.85570502e+00\n",
      " -1.31014907e+00 -5.79033911e-01 -3.28102255e+00 -4.83353376e+00\n",
      "  2.58289146e+01  2.35916114e+00  2.24880924e+01 -5.81379938e+00\n",
      "  3.44861627e+00  5.03155518e+00 -4.25518084e+00 -3.05286193e+00\n",
      "  5.93179166e-01  7.66200972e+00  1.43006277e+01  8.35959435e-01\n",
      "  2.68634617e-01  1.68629684e+01 -2.25166492e+01 -2.28475237e+00\n",
      " -1.03472605e+01  1.28464518e+01  2.77526164e+00 -3.37552023e+00\n",
      "  2.66429782e+00  3.79400325e+00  2.07031059e+00  3.44472051e+00\n",
      "  8.97360516e+00  9.56771469e+00  2.26378942e+00  3.02207890e+01\n",
      "  3.02261333e+01  3.35217309e+00  9.43078423e+00 -1.70573294e+00\n",
      "  3.63111725e+01  2.15046167e+00  1.57515450e+01  1.18148499e+01\n",
      " -3.61528015e+00 -1.67176116e+00  1.96975756e+00  3.63845520e+01\n",
      "  1.24685984e+01  2.53570175e+01  3.59904594e+01  6.51562357e+00\n",
      " -6.70634687e-01  7.71579552e+00 -9.10654354e+00  5.94791460e+00\n",
      "  3.80747986e+00  2.78157253e+01  1.06223860e+01  1.79292469e+01\n",
      "  4.56508577e-01 -6.53736496e+00  1.58447850e+00 -1.47080860e+01\n",
      "  3.63420525e+01  1.17467566e+01 -2.26188153e-01  1.99047637e+00\n",
      "  2.57543945e+01  1.97681046e+01  2.06857166e+01  5.53402090e+00\n",
      " -1.91665506e+00 -4.42829418e+00  1.91214447e+01  1.40403471e+01\n",
      "  3.00666027e+01  4.25921869e+00  7.36401844e+00  2.31919250e+01\n",
      "  3.50895047e+00 -1.38986998e+01  1.15070047e+01 -1.88954508e+00\n",
      "  2.97623134e+00 -4.59751844e+00  2.38437366e+01 -3.31633782e+00\n",
      "  2.95241013e+01  1.27321148e+01  3.77783489e+00  4.30182028e+00\n",
      "  1.40277517e+00  1.06122313e+01  3.48341560e+01  1.49129791e+01\n",
      "  5.02935457e+00  1.38635559e+01  3.48054085e+01  4.83720452e-01\n",
      "  6.64765739e+00 -8.45994759e+00  2.56501293e+00 -1.49542129e+00\n",
      "  1.34615326e+01  1.39786797e+01  2.17528648e+01 -2.10349703e+00\n",
      " -1.24098749e+01 -8.08523178e+00  1.72949684e+00 -6.88689375e+00\n",
      "  2.13604498e+00  2.17293549e+01  6.20002842e+00 -1.24057007e+01\n",
      "  3.53099179e+00  7.68281794e+00 -4.69135463e-01  3.33105612e+00\n",
      "  2.02800541e+01 -7.55936003e+00 -1.28068991e+01  3.85526428e+01\n",
      "  7.52916002e+00 -4.87198257e+00  3.05856171e+01  1.23435965e+01\n",
      "  2.20264874e+01  1.41335793e+01  4.26712704e+00 -3.38387847e+00\n",
      " -1.31855087e+01  2.83432841e-01 -6.06501627e+00 -1.20045433e+01\n",
      " -2.90121818e+00 -1.23283310e+01 -1.59195185e+01 -9.14221191e+00\n",
      " -7.45547295e+00 -7.60977650e+00 -6.78914642e+00 -5.47279358e+00\n",
      "  4.96167517e+00 -6.22153044e+00  3.35495472e+00  2.54703689e+00\n",
      "  1.79962707e+00 -2.31563721e+01 -1.99790066e-03 -1.39700012e+01\n",
      " -2.18624840e+01 -1.27697766e+00 -6.18860674e+00 -1.36446631e+00\n",
      "  5.30976534e+00  4.07762623e+00 -1.11583042e+00 -7.49154043e+00\n",
      " -9.04992580e+00  9.90713477e-01 -5.66952085e+00  2.00686264e+00\n",
      "  4.76670027e-01 -7.39107370e-01 -4.94856215e+00 -2.67640095e+01\n",
      " -9.87997055e+00 -5.89529848e+00 -1.63194828e+01 -2.58622789e+00\n",
      " -6.25629282e+00 -1.92694702e+01 -7.46247435e+00  5.38618803e-01\n",
      " -5.72635794e+00  6.62239456e+00 -1.90536842e+01  8.48711109e+00\n",
      " -5.76434994e+00 -2.54137344e+01 -6.52548122e+00 -9.42070901e-01\n",
      " -5.15452576e+00 -8.99189663e+00 -5.26126575e+00 -4.14883852e+00\n",
      "  2.43434858e+00 -1.18080673e+01  3.35866022e+00 -1.43865738e+01\n",
      "  1.52497470e+00 -6.07460833e+00 -4.76335192e+00 -2.81026292e+00\n",
      " -2.25193977e+01 -8.66689396e+00 -5.02882624e+00 -8.68545914e+00\n",
      " -7.02983952e+00  7.16027319e-01  1.77001089e-01 -1.61733475e+01\n",
      " -2.67403584e+01 -2.72976732e+00 -1.06620693e+00 -1.72415113e+00\n",
      " -1.78189011e+01 -7.61121392e-01 -4.91317701e+00 -1.66886079e+00\n",
      "  9.77146864e-01 -2.54225349e+01 -1.92605286e+01  1.92602146e+00\n",
      " -1.15549774e+01  2.84561658e+00 -6.15191031e+00 -2.45239019e+00\n",
      " -5.66122484e+00 -1.14308605e+01 -5.35424089e+00 -5.03602934e+00\n",
      " -2.41590233e+01  1.48834524e+01  4.42813969e+00 -2.73127651e+01\n",
      " -1.55954151e+01 -1.62138519e+01 -1.80184765e+01 -6.65769815e+00\n",
      " -3.49081421e+00 -4.00660467e+00  9.00624371e+00 -4.70593691e+00\n",
      " -8.91141224e+00 -3.96326661e+00  4.81571257e-01  2.78265858e+00\n",
      "  7.40566179e-02 -1.07585335e+00 -1.53943338e+01  2.09627867e+00\n",
      "  4.83106971e-01  4.99052906e+00 -1.89381199e+01 -1.12381420e+01\n",
      " -2.81652832e+00 -4.84703636e+00  2.61907387e+00 -1.06835489e+01\n",
      " -1.21942549e+01 -2.66003227e+00 -1.16117314e-01 -4.64557111e-01\n",
      "  1.23572364e-01 -5.46617889e+00  6.59430623e-01  6.50233999e-02\n",
      " -4.20604420e+00 -5.18856955e+00 -9.07504654e+00 -9.80536366e+00\n",
      " -5.91082859e+00 -3.99879694e+00  3.20806444e-01 -6.53253126e+00\n",
      "  9.87536073e-01 -1.86423087e+00 -2.20178471e+01  1.31511724e+00\n",
      "  3.40173149e+00 -1.73807011e+01 -2.70815372e+00 -1.85034990e+00\n",
      "  3.35155654e+00 -2.30661201e+00 -5.17022848e+00 -5.67458677e+00\n",
      " -3.09538198e+00  3.90468335e+00  2.51809692e+00 -2.18638458e+01\n",
      "  5.75143918e-02 -4.44267464e+00 -3.69680929e+00  9.74104941e-01\n",
      " -3.63462043e+00 -2.70496678e+00  3.78735709e+00 -2.77212739e+00\n",
      " -1.58520489e+01 -2.29531550e+00 -5.46150303e+00  9.19868797e-02\n",
      " -4.14606094e+00 -1.24699373e+01 -5.52545071e+00 -6.61091137e+00\n",
      " -2.13134480e+00 -4.43116665e+00 -1.30068493e+01 -2.27737045e+01\n",
      " -1.38339748e+01 -2.39565353e+01  5.32261610e+00 -2.45983362e+00\n",
      "  1.29976721e+01  5.00816536e+00  4.18986797e+00 -1.16479864e+01\n",
      " -5.57533693e+00  3.68324614e+00 -3.73829174e+00  4.85814857e+00\n",
      " -2.14183064e+01  3.38869810e-01 -4.61148357e+00 -1.81040745e+01\n",
      " -4.16767979e+00  1.71712339e+00 -7.60040339e-03 -1.75604904e+00\n",
      " -6.47151136e+00  6.86268091e+00 -1.18004303e+01 -4.34175968e+00\n",
      " -1.45516005e+01 -6.86497164e+00 -2.28627825e+00 -2.54976597e+01\n",
      " -1.56917095e+01  3.02211261e+00  1.03883171e+00 -4.04266357e+00\n",
      "  1.07687893e+01 -4.58525467e+00 -1.60556946e+01 -4.86842012e+00\n",
      "  3.14818454e+00 -5.86291838e+00 -3.47687626e+00 -8.73206806e+00\n",
      " -1.07889929e+01 -3.36551628e+01  2.38638258e+00 -2.53671856e+01\n",
      " -1.21383562e+01  5.70776606e+00 -1.86350670e+01 -1.43285294e+01\n",
      "  2.75904059e+00 -9.89281273e+00  2.24996758e+00 -2.70445347e+01\n",
      " -2.89810047e+01  3.81232190e+00 -3.40363731e+01 -2.65919666e+01\n",
      " -1.31838827e+01 -8.51924801e+00 -4.39306116e+00 -2.60554008e+01\n",
      " -2.08969927e+00 -1.40504637e+01  5.91129971e+00 -1.26030838e+00\n",
      " -4.16953468e+00 -5.81998885e-01 -4.32195320e+01 -1.24054110e+00\n",
      " -3.20105028e+00  7.40254831e+00 -2.07016716e+01 -2.42621326e+01\n",
      " -2.74035854e+01 -1.18857584e+01  1.24170089e+00 -8.99773502e+00\n",
      "  5.87033331e-01 -1.65982497e+00 -8.21240139e+00 -2.56722946e+01\n",
      "  5.07837892e-01 -7.51201630e+00 -2.38938227e-01 -1.68462543e+01\n",
      " -9.68599892e+00 -6.05027533e+00 -3.26252055e+00 -1.33337431e+01\n",
      " -1.40491962e+01 -3.09896431e+01 -2.62610769e+00 -4.93330956e+00\n",
      " -3.12635918e+01 -3.57803230e+01 -3.86555061e+01 -7.91153574e+00\n",
      " -8.93415356e+00 -2.88281250e+01 -6.48704767e+00 -1.85825596e+01\n",
      "  2.20111847e+00 -1.61365051e+01 -1.10564737e+01  1.11560078e+01\n",
      "  3.03575563e+00  1.94384289e+00 -4.44359732e+00 -5.25806284e+00\n",
      " -1.17487698e+01 -6.97727725e-02 -1.35405750e+01 -3.58319950e+00\n",
      "  3.78408957e+00  4.42871857e+00 -7.21174431e+00  3.42390418e-01\n",
      " -7.03276968e+00 -1.54852076e+01 -1.80234814e+01 -3.74615574e+00\n",
      "  9.16863728e+00 -6.93093443e+00 -3.15315247e+00 -1.15669069e+01\n",
      " -1.16462841e+01  2.85283208e+00 -1.76930676e+01 -2.51049347e+01\n",
      "  2.83690834e+00 -3.58848953e+00  9.02906477e-01 -1.97236824e+01\n",
      " -5.07014275e+00 -4.60646152e+00 -2.21121655e+01 -3.75834608e+00\n",
      "  9.68997574e+00 -2.96422895e-02 -6.49232721e+00  7.28885794e+00\n",
      " -8.05797672e+00 -2.44282436e+01 -4.26748633e-01 -2.84317532e+01\n",
      " -1.52347441e+01  4.73516893e+00 -1.71787853e+01 -5.87565374e+00\n",
      " -6.36516571e+00  8.46401310e+00 -1.82230186e+01 -3.03796425e+01\n",
      " -3.90817451e+01 -1.01355000e+01 -7.23948860e+00 -3.70905914e+01\n",
      " -2.96544228e+01 -3.79686642e+00 -2.01309910e+01  6.01789808e+00\n",
      "  9.13210678e+00 -3.49965973e+01 -2.84367085e+00 -2.85901184e+01\n",
      " -1.58665791e+01 -2.33170567e+01]' has dtype incompatible with int64, please explicitly cast to a compatible dtype first.\n",
      "  preds[val_index] = model.predict(dval_i)\n"
     ]
    },
    {
     "name": "stderr",
     "output_type": "stream",
     "text": [
      "\r",
      " 40%|████████████████████████████████████████████████████████████████████████████████████████▊                                                                                                                                     | 4/10 [01:47<03:00, 30.13s/it]"
     ]
    },
    {
     "name": "stderr",
     "output_type": "stream",
     "text": [
      "C:\\Users\\81809\\AppData\\Local\\Temp\\ipykernel_7320\\3386215446.py:18: FutureWarning: Setting an item of incompatible dtype is deprecated and will raise an error in a future version of pandas. Value '[-9.64682770e+00  9.58661512e-02  2.15681667e+01  1.15436821e+01\n",
      "  2.17190952e+01  1.78515549e+01 -9.84924853e-01  6.28332806e+00\n",
      "  9.12429237e+00  7.65459204e+00  8.21255112e+00 -4.25728607e+00\n",
      " -4.29766560e+00  2.95501804e+00  2.49316864e+01  2.22418385e+01\n",
      " -1.37808859e+00  6.39065742e+00 -1.03611445e+00  3.22263646e+00\n",
      "  1.08456535e+01  1.45351052e+00  1.93558006e+01  2.06109238e+01\n",
      "  2.19496322e+00 -5.50170565e+00  1.31905961e+00  1.70305991e+00\n",
      "  6.57905436e+00 -5.36815262e+00  6.81987429e+00 -1.02137470e+00\n",
      "  1.88954182e+01 -1.09958780e+00 -8.00881767e+00  3.25786066e+00\n",
      "  1.73908234e+01 -6.06460571e+00  8.71161819e-01 -3.20806384e+00\n",
      "  2.57592058e+00  7.71170568e+00 -4.87552977e+00 -7.92909050e+00\n",
      " -2.44317460e+00  8.09144592e+00  6.38254786e+00  1.43774548e+01\n",
      "  7.39477873e+00  7.21223450e+00  5.58883667e+00 -5.13725185e+00\n",
      " -3.12966561e+00  5.95745087e+00 -1.23658171e+01  5.28612852e+00\n",
      "  8.27221870e+00  2.31495209e+01  2.11610718e+01  4.54945135e+00\n",
      "  5.39677095e+00  2.29314375e+00  4.35220242e+00 -2.09260559e+00\n",
      "  6.34720945e+00  6.04772139e+00 -1.60685837e+00  2.35933542e+00\n",
      "  3.46183729e+00  1.91590917e+00 -2.07060385e+00  2.23164988e+00\n",
      " -1.75408256e+00  4.75530720e+00  4.51697171e-01  2.78971863e+01\n",
      "  8.11140347e+00 -2.25763106e+00 -6.71682405e+00 -1.89038241e+00\n",
      "  1.21137438e+01  2.08707142e+00 -2.47975588e+00  2.64249730e+00\n",
      "  9.05648422e+00  1.69849348e+00  1.28905373e+01  1.28424406e+00\n",
      "  2.34309711e+01  1.11397314e+01 -1.08966608e+01 -6.38624477e+00\n",
      "  2.24740276e+01 -4.46841383e+00  7.57509518e+00  1.17273340e+01\n",
      "  3.31402683e+00  1.16134586e+01 -1.07218552e+00 -2.69318247e+00\n",
      " -8.70487452e-01  1.13734808e+01  2.34495697e+01 -8.63919926e+00\n",
      " -6.71613455e+00  1.30767708e+01 -2.34907746e+00  4.84150600e+00\n",
      "  2.95672512e+00  3.10597372e+00 -7.74385691e+00 -1.62369394e+00\n",
      "  1.05750585e+00  5.43271160e+00  1.25551343e+00  2.51588893e+00\n",
      " -1.09470186e+01  6.06369925e+00 -2.00384688e+00  4.27168816e-01\n",
      " -2.80721593e+00  6.84921646e+00  4.45120716e+00 -2.96414852e+00\n",
      "  3.79985714e+00  2.05532241e+00  7.41518831e+00  6.30026531e+00\n",
      "  1.41555672e+01  3.60437679e+00 -1.86776428e+01 -7.51694918e-01\n",
      "  2.83511329e+00  3.72379869e-02  8.11720562e+00 -3.75360441e+00\n",
      "  8.88834968e-02  5.23358774e+00  2.97016869e+01  1.23309031e+01\n",
      " -1.80254602e+00  1.68385162e+01  2.18502464e+01 -3.36213517e+00\n",
      " -7.56237459e+00  1.52826405e+01 -8.43443424e-02  8.47975349e+00\n",
      "  1.58679187e+00  6.08100748e+00  5.73039722e+00 -3.69470096e+00\n",
      "  1.44232569e+01  3.54501915e+00  1.65918016e+00  1.77138650e+00\n",
      "  7.37065268e+00  2.14877796e+01  2.62072086e+00 -1.05684080e+01\n",
      "  2.87185526e+00 -8.05280399e+00 -3.91901612e-01  3.25355172e+00\n",
      " -4.12012577e+00  5.30329704e+00  3.91419083e-01  6.39694870e-01\n",
      "  2.73259759e+00  9.99633121e+00 -9.37833190e-01  7.75104856e+00\n",
      "  1.00269747e+01 -7.19960499e+00  3.93058562e+00  3.10610223e+00\n",
      "  4.37251061e-01  6.32591820e+00  5.09561825e+00  2.83926988e+00\n",
      " -2.29231882e+00  6.83934832e+00 -2.61258602e+00 -5.14773083e+00\n",
      " -6.13873100e+00  1.23342247e+01  3.46186638e+00  6.69334841e+00\n",
      " -1.72418749e+00 -1.59941435e+00  2.67839222e+01  5.27190304e+00\n",
      "  2.54897766e+01 -5.93956470e-01 -8.29742813e+00  1.39959450e+01\n",
      "  1.18260803e+01  4.29366541e+00 -1.28949970e-01 -4.74507380e+00\n",
      "  9.47331238e+00  1.67586746e+01 -2.97958827e+00 -2.74719095e+00\n",
      "  5.11815882e+00  5.24884081e+00 -1.02050505e+01  3.89257240e+00\n",
      " -5.23921347e+00 -7.08477736e+00 -1.31160963e+00  1.72549105e+00\n",
      "  1.23179998e+01  1.31395597e+01 -6.15232754e+00  2.74995537e+01\n",
      "  8.63132572e+00  1.00529232e+01  5.15664244e+00  1.20793095e+01\n",
      " -4.45559978e+00  3.36019440e+01 -1.50768733e+00  1.78687592e+01\n",
      " -1.82856691e+00  2.53756828e+01  2.35459538e+01 -5.24125624e+00\n",
      " -5.83654308e+00  1.01012068e+01  1.33321819e+01  1.78279305e+01\n",
      " -7.02647877e+00 -3.82832003e+00 -2.93598413e+00  1.57102609e+00\n",
      "  1.95933506e-01  1.91824245e+01  3.73849602e+01  4.42427069e-01\n",
      "  2.10562658e+00  8.27806187e+00 -1.46430266e+00  2.03672333e+01\n",
      "  1.52297096e+01  2.11458549e+01  1.96286602e+01  1.61663151e+01\n",
      "  8.13673210e+00  1.31864381e+00  8.49834251e+00  2.41567421e+01\n",
      "  4.65337610e+00  4.43511534e+00  2.55313072e+01  6.95660448e+00\n",
      " -8.59059238e+00  2.51398926e+01  1.56949558e+01  2.10528793e+01\n",
      " -7.61005044e-01  2.63964534e+00  2.46912155e+01  9.38475323e+00\n",
      "  1.76153011e+01  2.09646940e+00 -1.08857613e+01 -3.10882598e-01\n",
      "  1.48954093e+00  2.98836384e+01  1.18304043e+01  1.58521566e+01\n",
      " -8.23475075e+00  1.32134647e+01  3.69116898e+01  1.17008991e+01\n",
      "  5.59952116e+00  1.45255508e+01 -4.43250275e+00  3.54531937e+01\n",
      "  2.92424291e-01 -1.77726829e+00  4.19168510e+01  9.35618496e+00\n",
      "  4.88629341e+00 -7.92119884e+00  4.63433456e+00  3.74897842e+01\n",
      "  4.13233995e+00  2.92225885e+00 -6.44364297e-01  1.69607353e+01\n",
      "  1.45687761e+01  2.85545063e+01  1.30264339e+01 -2.66054773e+00\n",
      " -3.45403123e+00  1.26214008e+01  2.06831379e+01 -2.82445216e+00\n",
      "  5.21360207e+00  1.04941750e+01  3.42132711e+00  2.90531616e+01\n",
      "  1.75415440e+01  4.96048784e+00  1.39320450e+01  3.62303591e+00\n",
      "  1.39584503e+01  5.02558756e+00  7.94214010e+00 -3.79815483e+00\n",
      " -4.00215769e+00  9.43722916e+00  1.35013466e+01  5.09927750e+00\n",
      "  1.52922640e+01  2.91756082e+00  9.29597989e-02  2.53369069e+00\n",
      " -6.80491745e-01 -3.70907354e+00  2.33801770e+00 -8.24531174e+00\n",
      " -8.92425156e+00 -4.72394371e+00 -1.85145569e+01 -9.80587864e+00\n",
      " -8.41907084e-01  2.77710605e+00 -6.63433456e+00 -7.03082800e+00\n",
      " -7.91746712e+00 -3.79151177e+00 -2.45401192e+00 -6.59237432e+00\n",
      " -2.04910908e+01 -4.16397047e+00 -2.70581532e+00 -8.71762466e+00\n",
      " -1.00586195e+01 -7.82547569e+00  1.83891928e+00 -5.01067352e+00\n",
      " -3.31235886e+00 -8.82367909e-01  7.63237619e+00 -7.95519209e+00\n",
      " -1.10443093e-01  3.79278517e+00 -2.52021861e+00 -1.38642178e+01\n",
      " -1.17728271e+01 -1.55516350e+00  2.86871701e-01  1.24557555e+00\n",
      " -2.37922835e+00 -3.97335315e+00  3.56070352e+00 -6.02952003e+00\n",
      " -8.38825226e+00  3.68934655e+00 -8.82240963e+00 -2.33311343e+00\n",
      " -1.33026915e+01  2.78444791e+00 -6.42674303e+00 -1.01178551e+00\n",
      " -7.73342562e+00 -6.03099823e+00  4.75269508e+00  3.80572653e+00\n",
      " -8.45750713e+00 -3.48147583e+00 -5.95191336e+00 -5.27526760e+00\n",
      " -2.41380062e+01 -1.41665487e+01  9.30109739e-01 -7.24207640e+00\n",
      " -2.87331939e+00 -6.42046118e+00 -1.05107851e+01 -6.90433836e+00\n",
      " -2.77790356e+00  1.31408012e+00 -1.92536816e-01 -1.88576088e+01\n",
      " -2.41845112e+01 -7.29824257e+00  2.72232413e+00  1.81770134e+00\n",
      "  7.26649380e+00 -1.90148277e+01 -4.76663113e+00  9.78462398e-01\n",
      " -8.85101414e+00 -1.45038767e+01  4.41787767e+00 -1.97081566e+01\n",
      " -5.31323373e-01 -5.80832005e-01 -1.44071817e+01  2.18673491e+00\n",
      " -1.78202038e+01 -9.61890936e-01  8.44952011e+00 -8.88483906e+00\n",
      "  3.62717199e+00 -9.91479683e+00 -1.03338528e+01 -5.27634144e+00\n",
      " -5.42840719e+00 -5.85366774e+00  2.00473857e+00 -5.94850922e+00\n",
      " -2.59616852e+00 -2.43610344e+01  2.95492840e+00  1.61619415e+01\n",
      "  1.63735032e+00 -1.06873283e+01 -1.01383524e+01 -5.80993795e+00\n",
      "  1.11414707e+00  2.10692358e+00 -8.92940235e+00 -4.64385891e+00\n",
      " -4.77824545e+00 -8.49348068e-01  7.31870413e-01 -1.49244976e+00\n",
      "  2.40045238e+00 -3.15466261e+00 -7.40549231e+00  8.92349005e-01\n",
      "  5.48704720e+00 -4.64900970e+00  2.68399455e-02 -6.59974003e+00\n",
      " -2.30752707e+00 -8.77968311e+00  3.56483793e+00  2.08858356e+01\n",
      " -2.14410801e+01 -5.85674858e+00 -3.98260427e+00 -3.41193700e+00\n",
      " -1.97640266e+01 -4.07725430e+00  1.29501438e+00 -1.75260887e+01\n",
      "  5.40451145e+00 -6.48682266e-02 -1.63332951e+00 -1.00475445e+01\n",
      "  4.82308674e+00 -4.78766966e+00 -5.36263561e+00  2.49839449e+00\n",
      "  3.77994822e-03 -3.47958159e+00 -7.84275293e+00 -1.18145429e-01\n",
      "  6.95364094e+00 -1.20307865e+01 -1.28508341e+00 -1.69809952e+01\n",
      " -2.24342632e+00 -3.82498312e+00 -6.39266062e+00  8.66857529e+00\n",
      "  5.99200201e+00 -4.27748346e+00 -3.09253669e+00  6.72142982e+00\n",
      " -1.90775096e-01  1.69546592e+00  4.81546021e+00 -3.14517951e+00\n",
      " -2.07893143e+01 -1.24027929e+01 -2.93749905e+00  9.61004019e-01\n",
      "  1.19963007e+01 -8.26713264e-01 -4.20550406e-01 -8.74131489e+00\n",
      " -2.80382323e+00 -6.46192026e+00 -3.89032316e+00 -2.87496996e+00\n",
      " -7.74163914e+00  1.16104496e+00 -1.30989885e+01 -2.11040821e+01\n",
      " -7.11510086e+00 -4.58582258e+00 -1.15719013e+01 -1.96557636e+01\n",
      " -3.30670214e+00 -4.09400749e+00  2.24016190e+00  8.59640598e+00\n",
      " -2.63052902e+01 -2.96579456e+00 -1.70790482e+00 -1.49225073e+01\n",
      " -6.73353314e-01 -2.19529991e+01 -2.12684135e+01  7.04287291e-01\n",
      " -7.07767582e+00 -5.84989214e+00 -4.77119732e+00  5.34125865e-02\n",
      " -8.50666046e+00 -4.08347893e+00 -5.43322659e+00 -6.11439085e+00\n",
      "  3.44142854e-01  1.16966200e+01  2.29823532e+01 -4.68668699e+00\n",
      "  3.60968041e+00  4.22724676e+00 -5.35919380e+00 -5.10856295e+00\n",
      " -4.02030754e+00 -3.07597141e+01 -5.68351030e+00 -2.47804852e+01\n",
      " -2.97433338e+01 -4.50109196e+00 -3.59725952e+01  1.22384062e+01\n",
      " -1.27709093e+01 -1.54819241e+01  8.87150478e+00 -5.99574423e+00\n",
      " -8.81066990e+00 -2.92222176e+01 -2.52512150e+01 -2.50577946e+01\n",
      " -3.81866860e+00 -3.70706482e+01 -2.51343346e+01 -8.37503242e+00\n",
      " -4.07460880e+00 -2.24522247e+01 -2.82621059e+01 -1.50225744e+01\n",
      " -1.96748981e+01 -1.16962261e+01 -2.29991264e+01 -3.52297058e+01\n",
      " -5.87600805e-02 -3.09931445e+00 -6.22272015e+00 -4.33861303e+00\n",
      " -4.45668182e+01  5.66957569e+00 -1.81010418e+01 -9.75069714e+00\n",
      " -1.27466726e+01 -9.97804224e-01  2.55824351e+00 -2.80293727e+00\n",
      " -1.34449768e+01 -1.14853916e+01  1.30797853e+01  2.20291843e+01\n",
      " -3.82256794e+00 -2.78471768e-01 -1.98831615e+01 -1.24694595e+01\n",
      " -2.90709362e+01 -2.96852779e+01  3.47167015e+00 -1.69123974e+01\n",
      "  7.72096014e+00  1.14781370e+01 -3.03760223e+01 -1.44685650e+01\n",
      " -3.03659477e+01 -3.28070335e+01 -1.14802151e+01 -4.12808228e+00\n",
      " -3.64021072e+01 -4.66709328e+00 -3.58184509e+01  1.25840511e+01\n",
      " -1.10045099e+01 -2.33472633e+01 -2.74529076e+01 -6.39363956e+00\n",
      " -2.06803858e-01 -6.07330227e+00 -1.38590384e+01 -6.54813051e-01\n",
      " -2.92810059e+01 -1.31640921e+01 -2.46571369e+01  3.54501820e+00\n",
      " -8.10568619e+00  3.43262482e+00 -3.34809017e+00 -3.08764000e+01\n",
      " -1.18037438e+00 -1.76620269e+00 -7.89445019e+00 -1.41049061e+01\n",
      "  2.13604689e+00 -6.22180748e+00 -9.38260269e+00 -2.90456319e+00\n",
      " -4.22591496e+00 -2.44953022e+01 -2.96058044e+01 -2.82721062e+01\n",
      " -1.76207275e+01 -5.39014864e+00 -2.77799454e+01 -2.03137913e+01\n",
      " -6.40917301e+00  1.18557339e+01 -5.93864107e+00 -1.09656601e+01\n",
      " -1.36219082e+01 -5.96204901e+00  1.78854072e+00  8.85568333e+00\n",
      " -3.92691689e+01  2.88157272e+00 -2.44080944e+01  3.88268971e+00\n",
      " -1.17215948e+01  4.17946070e-01 -1.11041327e+01 -2.89431119e+00\n",
      " -1.70905900e+00  1.83205986e+01 -7.86777020e+00 -1.86891365e+01\n",
      " -3.47266150e+00 -3.20305634e+00]' has dtype incompatible with int64, please explicitly cast to a compatible dtype first.\n",
      "  preds[val_index] = model.predict(dval_i)\n"
     ]
    },
    {
     "name": "stderr",
     "output_type": "stream",
     "text": [
      "\r",
      " 50%|███████████████████████████████████████████████████████████████████████████████████████████████████████████████                                                                                                               | 5/10 [02:30<02:53, 34.65s/it]"
     ]
    },
    {
     "name": "stderr",
     "output_type": "stream",
     "text": [
      "C:\\Users\\81809\\AppData\\Local\\Temp\\ipykernel_7320\\3386215446.py:18: FutureWarning: Setting an item of incompatible dtype is deprecated and will raise an error in a future version of pandas. Value '[ 2.93333387e+00  6.86309993e-01  1.45437450e+01  4.14368439e+00\n",
      " -5.59376431e+00 -5.63569009e-01  1.93640709e+01  7.35589027e+00\n",
      "  1.02556877e+01  7.34519434e+00  1.87264335e+00  5.64431715e+00\n",
      "  6.51013041e+00  2.44968605e+01  3.23284173e+00  2.13247662e+01\n",
      "  2.32073555e+01 -9.44890785e+00  2.26619601e+00  1.42139220e+00\n",
      "  3.50703508e-01 -3.39101791e+00  2.59445381e+01  2.91920090e+01\n",
      "  1.16226492e+01  3.68746614e+00 -3.84955573e+00  8.20180607e+00\n",
      "  4.16755962e+00 -8.58105361e-01 -2.71694589e+00  5.77381563e+00\n",
      "  2.56323671e+00  4.98640060e+00  1.64026871e+01  2.55843019e+00\n",
      "  2.33627394e-01  1.99771233e+01 -3.10168767e+00  4.85174656e+00\n",
      "  2.14073229e+00 -3.94558549e+00 -1.20292020e+00  7.34130526e+00\n",
      " -6.13722372e+00 -8.55911255e+00  1.72353458e+01  5.06581736e+00\n",
      "  2.30093536e+01  6.41892529e+00  2.03518128e+00  5.62797546e+00\n",
      " -1.65629458e+00 -2.51488400e+00  1.77331960e+00  1.23799448e+01\n",
      "  1.34663544e+01  6.38478708e+00  1.72871149e+00  3.86541796e+00\n",
      "  2.94978356e+00  4.67565584e+00  5.42210817e+00  6.98104906e+00\n",
      " -1.09516466e+00 -1.63430488e+00  1.67238293e+01  7.39233065e+00\n",
      "  1.15627613e+01  2.80936565e+01  4.02661133e+00  2.60788441e+01\n",
      " -9.15694618e+00  1.14567537e+01  1.08618498e+01  9.62546408e-01\n",
      "  4.10891294e+00  2.66849461e+01  8.11565304e+00  2.22919750e+01\n",
      " -9.49416220e-01  9.18100262e+00  8.15432549e+00 -1.97136569e+00\n",
      "  3.13170171e+00  1.24097967e+01  2.84914231e+00  1.11053257e+01\n",
      " -1.84031391e+00 -9.92711544e-01  2.57836189e+01 -3.23326731e+00\n",
      " -2.95997286e+00 -3.30785346e+00  2.64771996e+01 -3.73208195e-01\n",
      "  1.72432995e+01  3.37215155e-01  1.23134451e+01  1.33944488e+00\n",
      " -3.43755889e+00  3.27920914e+00  1.10326242e+00  1.55937119e+01\n",
      "  1.32520571e+01  2.06926880e+01 -4.92954826e+00  7.94378853e+00\n",
      " -3.62282395e+00  8.68737984e+00  1.06974993e+01  4.74002504e+00\n",
      " -1.47591600e+01 -3.46600461e+00 -2.74844265e+00  1.07825003e+01\n",
      " -4.66876775e-01  2.97980499e+01  1.43182611e+01  4.78132486e+00\n",
      "  9.68624115e+00  8.29561234e+00  1.63820820e+01  4.37735140e-01\n",
      "  1.14705544e+01  3.58796239e+00 -1.21161902e+00  7.73826647e+00\n",
      " -1.13917470e+00  2.51567316e+00  3.48111629e+00  3.86724091e+00\n",
      "  5.46504796e-01  7.83154535e+00 -1.19590588e+01 -8.39279532e-01\n",
      " -3.07819939e+00 -5.53264952e+00  5.96317673e+00  2.50525355e+00\n",
      " -2.08540320e+00  1.64605808e+01  1.28651705e+01 -5.83296347e+00\n",
      "  1.83608799e+01  1.74753361e+01  2.35912113e+01  3.63484311e+00\n",
      "  5.43826628e+00  4.74970293e+00 -1.46236014e+00  6.42759943e+00\n",
      "  3.51012039e+00  1.28767681e+01 -1.59826291e+00  2.29397535e+00\n",
      "  5.39824128e-01 -4.01915026e+00  4.39274406e+00  2.03899174e+01\n",
      "  6.16841698e+00  5.37739849e+00  1.33852851e+00  7.98306656e+00\n",
      "  8.85866821e-01 -5.17106839e-02  4.56278181e+00  6.26932859e+00\n",
      "  1.14379959e+01 -5.31766176e+00  2.20919075e+01  3.24884391e+00\n",
      "  1.27586794e+01  8.02321529e+00  6.87522840e+00 -2.24155354e+00\n",
      "  1.65326858e+00  1.11795282e+01  4.63522243e+00  2.45596733e+01\n",
      "  6.42526722e+00  1.01697531e+01  1.02198439e+01  3.45759821e+00\n",
      "  2.56284733e+01  5.99972439e+00  5.85516787e+00  6.10228348e+00\n",
      "  4.61515570e+00  9.09559250e+00  1.00947952e+01  9.03614426e+00\n",
      "  7.01483917e+00 -2.26169252e+00  1.69194107e+01 -1.54682136e+00\n",
      "  3.27376175e+00 -9.23009634e-01  4.39094257e+00  1.16816721e+01\n",
      "  3.32221947e+01 -1.99648571e+00  4.25343666e+01 -1.89058149e+00\n",
      "  1.48875780e+01 -6.99459672e-01  3.26478815e+00 -6.41040564e+00\n",
      "  8.74014378e+00  2.37296653e+00  1.35773144e+01  5.07673931e+00\n",
      " -7.68592978e+00 -2.34202528e+00  2.26424522e+01  2.36179237e+01\n",
      "  9.07527065e+00  1.38977647e+00  3.37048111e+01  3.58167572e+01\n",
      "  4.88463068e+00  1.98275909e+01  8.92223263e+00  1.39632130e+01\n",
      "  1.72332573e+01 -6.39820194e+00  1.26539049e+01  7.32249260e+00\n",
      " -4.99981451e+00 -2.95038104e+00  2.08828473e+00 -7.28598690e+00\n",
      "  1.02698240e+01  3.42211199e+00  1.82111244e+01  3.54725533e+01\n",
      "  1.71075249e+00  3.21341743e+01  1.69598484e+00 -2.35722780e-01\n",
      " -5.85315488e-02  6.01764774e+00  5.23257923e+00  1.68800759e+00\n",
      " -5.83313608e+00  9.57398534e-01  1.63226681e+01  3.52585053e+00\n",
      "  9.98649597e+00  1.41441107e+01  3.31229210e+01  4.26564884e+00\n",
      " -5.68336964e+00  1.50134745e+01  2.12689075e+01  1.08981361e+01\n",
      "  7.69804239e+00  7.41329145e+00  3.06654167e+00  2.49077797e+00\n",
      "  4.41043625e+01 -3.58969235e+00  2.47497158e+01 -3.12080288e+00\n",
      " -4.78529263e+00  1.54033604e+01  3.21935005e+01  5.94450855e+00\n",
      "  1.32201138e+01  1.03901243e+01 -1.77270734e+00  8.24216557e+00\n",
      "  1.59057550e+01  3.26619606e+01  7.75965810e-01  3.24056864e+00\n",
      "  6.26708651e+00 -2.19660473e+00  8.74480629e+00  4.49458981e+00\n",
      "  4.57073212e+01 -3.14638329e+00 -2.36107826e+00 -1.20018685e+00\n",
      "  2.96751938e+01 -5.76205587e+00  2.60154667e+01  2.13464947e+01\n",
      "  4.14543819e+00 -1.25211926e+01  1.07046623e+01  2.02451439e+01\n",
      "  8.02794361e+00  7.86440313e-01  6.56490040e+00  3.60451927e+01\n",
      " -3.62877250e+00  1.14922523e+01  5.34794378e+00  1.58238134e+01\n",
      "  2.88529420e+00  6.05895901e+00  4.61457682e+00 -1.04382467e+01\n",
      " -8.01791477e+00  1.26136339e+00 -9.63202286e+00 -1.33867919e+00\n",
      "  7.87061787e+00  8.99020672e+00  3.02629318e+01  1.41082516e+01\n",
      "  2.15743713e+01  6.07556868e+00  1.59676015e-01  1.96406631e+01\n",
      "  3.64478230e+00  7.85619068e+00  2.20082169e+01  1.45066671e+01\n",
      "  2.02169762e+01 -3.75207663e-01 -5.20404053e+00 -1.56356514e+00\n",
      " -2.03370991e+01 -7.58781385e+00 -1.09805889e+01 -2.93832660e-01\n",
      " -6.44926119e+00  2.86369991e+00 -6.26033497e+00 -6.10408258e+00\n",
      "  7.40546465e+00  3.05586600e+00  4.51825666e+00 -3.27267075e+00\n",
      "  2.44589353e+00 -6.01570797e+00 -2.87740564e+00 -8.93625617e-01\n",
      " -1.96369095e+01 -3.38192844e+00 -3.83309937e+00 -2.48071194e+00\n",
      " -1.26546025e+00 -3.45098686e+00 -3.45670033e+00  1.01087511e+00\n",
      " -9.66343117e+00 -1.88270226e+01 -2.77067757e+01 -3.07407427e+00\n",
      " -9.16057396e+00 -4.56990337e+00 -8.79740715e+00 -2.50886381e-01\n",
      " -2.09346205e-01 -4.35030174e+00 -1.04386568e+01 -1.58337128e+00\n",
      " -9.81599712e+00 -7.67796803e+00  8.53579044e-01 -5.83577013e+00\n",
      " -5.40317869e+00 -1.41455736e+01 -2.13271332e+01 -6.25163364e+00\n",
      " -3.06233025e+00 -1.85347164e+00 -5.51965427e+00  4.37081528e+00\n",
      "  3.12041140e+00 -7.94401789e+00  6.44620240e-01 -1.88627577e+00\n",
      " -1.39985189e+01 -5.96969509e+00 -2.92398334e-01 -1.46131706e+01\n",
      " -6.27252293e+00  4.34352589e+00 -7.22324753e+00 -9.11273384e+00\n",
      " -5.57117891e+00  4.31300831e+00  1.24774480e+00 -6.87914801e+00\n",
      " -9.49004078e+00  8.34675407e+00 -1.64717197e+01 -1.17366304e+01\n",
      " -7.54697263e-01 -4.78587770e+00 -1.04563463e+00 -1.23631411e+01\n",
      " -1.83619347e+01  2.29554605e+00  6.23754644e+00 -6.29077959e+00\n",
      "  4.29327822e+00 -1.77884502e+01 -1.07747717e+01 -5.92985010e+00\n",
      " -3.21997595e+00 -5.45050859e+00 -1.44752705e+00 -1.16991596e+01\n",
      " -8.83978653e+00 -3.55144382e+00 -1.44086647e+01 -1.08939533e+01\n",
      " -3.03006434e+00 -1.03449459e+01 -7.19114959e-01 -1.23319447e+00\n",
      " -3.73619008e+00 -1.17252712e+01 -1.90446510e+01  3.15852666e+00\n",
      " -2.33830585e+01 -1.19885921e+01 -5.47074699e+00 -1.92095196e+00\n",
      " -5.92913818e+00 -1.85162759e+00 -1.31112623e+01  4.28941536e+00\n",
      "  6.03246975e+00 -4.13019687e-01 -8.58106732e-01 -6.49520969e+00\n",
      " -3.98172712e+00 -6.33052588e+00  9.00946617e+00 -2.12309608e+01\n",
      " -2.98638749e+00 -6.19293785e+00 -1.33814430e+00  3.38114977e-01\n",
      " -9.14062691e+00 -1.15715513e+01  3.12776947e+00 -4.82591248e+00\n",
      " -3.70571470e+00 -3.75292635e+00  1.55629749e+01 -3.26042962e+00\n",
      "  2.90408158e+00  1.38279324e+01 -1.54101248e+01  3.99950075e+00\n",
      " -1.55029869e+01  3.30197001e+00 -8.68772697e+00 -5.29988050e+00\n",
      "  5.19542813e-01 -1.08533049e+00 -2.75752020e+00 -4.73236752e+00\n",
      " -2.01472569e+01 -1.06122007e+01 -8.66267109e+00 -2.16193466e+01\n",
      "  7.91775036e+00 -1.12694430e+00  5.22412062e+00  4.44356203e+00\n",
      " -2.23309803e+01 -2.10651517e+00 -7.01957655e+00  1.06883183e+01\n",
      " -3.97886992e-01 -1.71882324e+01  9.90803957e-01 -4.55055618e+00\n",
      " -1.81749859e+01 -3.70815635e-01 -8.80006611e-01 -4.19109583e+00\n",
      " -3.23935211e-01 -9.77124023e+00  2.55094051e+00  5.54903269e-01\n",
      "  6.70021653e-01  5.66340971e+00 -1.37946520e+01  4.50964069e+00\n",
      " -3.34263325e+00 -3.72881126e+00 -7.46421528e+00  3.31199455e+00\n",
      " -2.66840878e+01 -3.55670476e+00 -9.57396889e+00  3.85213780e+00\n",
      " -3.88998985e+00  6.41002083e+00  6.44462705e-01  3.38969159e+00\n",
      " -3.90333343e+00 -5.14789438e+00  4.27325964e+00 -9.35188103e+00\n",
      " -6.39248848e+00  8.51462078e+00  2.17175508e+00  4.79867220e+00\n",
      " -4.61909741e-01 -1.67698975e+01 -3.02606773e+00 -7.83987045e+00\n",
      " -3.01799345e+00 -9.75185633e-01 -3.88719916e+00 -3.24548817e+00\n",
      " -1.46836388e+00  2.54883790e+00  2.40755215e+01 -1.95120602e+01\n",
      " -5.63338089e+00 -3.94414616e+00 -1.69910202e+01 -4.94733000e+00\n",
      "  1.02957926e+01 -3.32035089e+00  7.88559675e-01 -3.51726222e+00\n",
      " -9.58916092e+00 -1.03386240e+01 -6.86321974e+00 -3.04754663e+00\n",
      " -1.07182083e+01 -9.78089619e+00 -6.88883591e+00  4.66653490e+00\n",
      " -1.37866974e+01 -4.26558447e+00 -1.69193802e+01 -1.02631388e+01\n",
      " -2.51582870e+01  4.37400675e+00 -1.02282925e+01 -3.59533691e+00\n",
      "  5.62778534e-03 -9.89691257e+00 -2.88773575e+01 -3.30568733e+01\n",
      "  1.37209358e+01 -7.17294884e+00 -2.10676372e-01 -1.06121659e+00\n",
      " -5.04822016e+00 -2.42447033e+01 -2.25139713e+01 -6.30096722e+00\n",
      " -8.71920586e+00  4.05948019e+00 -1.99189091e+01 -1.66173077e+01\n",
      " -6.23065710e+00 -5.13004208e+00 -2.27327003e+01 -1.15609360e+01\n",
      "  6.08816051e+00  5.93301487e+00  1.03600144e+00 -4.70895481e+00\n",
      " -2.71825771e+01 -1.01890736e+01 -1.70005360e+01  2.06282768e+01\n",
      " -1.68251896e+01  5.76886988e+00 -1.51036768e+01 -1.15897875e+01\n",
      " -3.51863861e+01 -7.20670748e+00 -2.00256014e+00 -2.67532778e+00\n",
      " -5.83818674e-01 -6.84614849e+00 -7.08394384e+00 -1.56865015e+01\n",
      " -1.66095905e+01 -3.12166042e+01  1.71299243e+00 -1.62280521e+01\n",
      " -3.33013268e+01 -7.43383646e+00 -2.66889324e+01 -1.61885052e+01\n",
      "  8.38987923e+00 -1.38926172e+01 -2.00056000e+01 -1.35317621e+01\n",
      " -4.43556786e+00 -1.38196182e+01 -9.65253448e+00 -3.35145683e+01\n",
      "  1.20768654e+00 -6.14769363e+00 -3.39676881e+00 -7.39010632e-01\n",
      " -2.92927437e+01 -2.71051388e+01 -2.61867371e+01 -5.06802130e+00\n",
      " -4.80969543e+01  1.95304430e+00 -3.72810860e+01 -2.60757303e+00\n",
      "  4.32116795e+00 -1.06380281e+01  8.09037018e+00  8.32316113e+00\n",
      " -8.04515457e+00 -3.19683876e+01  1.09979451e+00 -3.71642990e+01\n",
      "  2.94131947e+00 -3.78234529e+00 -1.04573259e+01 -1.66009521e+01\n",
      " -2.27221394e+01 -3.20954628e+01  1.31649666e+01 -1.79164088e+00\n",
      " -1.91835093e+00 -2.79502640e+01 -5.70297432e+00 -1.87320690e+01\n",
      " -2.85851536e+01 -2.39959431e+00  1.01026237e+00 -7.02436018e+00\n",
      " -6.19852543e+00 -7.58234501e+00  2.47017789e+00 -8.27247620e+00\n",
      " -3.81986237e+01 -7.30978966e+00 -1.20025330e+01 -5.78816652e+00\n",
      " -1.07317400e+01 -1.90273037e+01]' has dtype incompatible with int64, please explicitly cast to a compatible dtype first.\n",
      "  preds[val_index] = model.predict(dval_i)\n"
     ]
    },
    {
     "name": "stderr",
     "output_type": "stream",
     "text": [
      "\r",
      " 60%|█████████████████████████████████████████████████████████████████████████████████████████████████████████████████████████████████████▏                                                                                        | 6/10 [03:06<02:20, 35.10s/it]"
     ]
    },
    {
     "name": "stderr",
     "output_type": "stream",
     "text": [
      "C:\\Users\\81809\\AppData\\Local\\Temp\\ipykernel_7320\\3386215446.py:18: FutureWarning: Setting an item of incompatible dtype is deprecated and will raise an error in a future version of pandas. Value '[ 4.40756321e+00  1.29185238e+01 -6.05915594e+00  1.01825552e+01\n",
      "  4.15731955e+00  2.36743908e+01  6.39525747e+00  1.83200741e+00\n",
      "  5.95110607e+00  5.53503132e+00  2.19296265e+00  1.65801144e+00\n",
      "  5.02324045e-01  6.91630173e+00 -4.26517814e-01  2.09140110e+01\n",
      "  2.16333027e+01 -8.67673492e+00  5.85694790e+00 -1.85533866e-01\n",
      "  5.63856554e+00  7.99019873e-01 -4.50852633e+00  6.17193079e+00\n",
      "  8.23536110e+00  1.68509617e+01 -7.66884089e-01  2.80856857e+01\n",
      "  8.87740803e+00 -3.20318532e+00  4.23858166e+00  9.28859520e+00\n",
      "  1.41648998e+01  9.49434185e+00  6.96440887e+00  1.39279473e+00\n",
      "  1.61518860e+01  9.58070695e-01  1.56699824e+00  1.51119030e+00\n",
      " -4.33880597e-01  1.77897811e+00  7.57043982e+00  1.83577669e+00\n",
      "  6.75290442e+00  1.71654320e+01  1.50318890e+01  1.70159626e+00\n",
      " -2.49667120e+00 -1.34590638e+00  6.16575193e+00 -1.54284871e+00\n",
      "  1.35927477e+01 -2.44022393e+00 -4.50492501e-01  1.03177328e+01\n",
      "  2.40350704e+01  2.49628277e+01  8.41009200e-01  5.82265520e+00\n",
      "  9.03069592e+00 -4.65376711e+00  8.77845478e+00  1.86206686e+00\n",
      "  5.67768335e-01 -2.86195683e+00  1.83159161e+01  5.24320030e+00\n",
      "  1.42146425e+01  1.78694801e+01 -6.52818823e+00  1.82985976e-01\n",
      "  5.84642076e+00  1.70787296e+01 -2.81211376e+00  1.76807785e+01\n",
      "  1.08010769e+01  1.21366472e+01  3.12550092e+00 -3.02088678e-01\n",
      "  7.91737175e+00  2.33808899e+00  1.57054501e+01  1.09157343e+01\n",
      " -4.62912130e+00 -1.45104766e-01 -5.07194102e-01 -4.04801941e+00\n",
      "  4.33536148e+00  1.57052135e+01 -1.15486288e+00 -4.09602785e+00\n",
      "  2.38831863e+01  4.23177528e+00  1.36078501e+01 -1.03353043e+01\n",
      "  1.30186224e+01  2.76080012e+00  1.33257332e+01 -8.28042221e+00\n",
      "  4.41189528e+00  9.82736588e+00 -3.55555964e+00 -7.40530938e-02\n",
      "  1.32870092e+01  1.79873180e+00 -5.25946236e+00  1.83409750e+00\n",
      " -3.30910468e+00  1.47493470e+00 -2.97203772e-02  6.52536011e+00\n",
      "  8.58639622e+00  2.56665592e+01 -3.21534705e+00 -7.88131523e+00\n",
      " -4.27877235e+00  4.67582035e+00 -1.59167171e+00  2.77274895e+00\n",
      "  8.14931583e+00  1.18199596e+01 -1.18159473e+00  3.81807446e+00\n",
      "  4.76091242e+00  2.58715844e+00  7.27065945e+00  1.59362221e+01\n",
      " -1.39829707e+00 -2.20640802e+00  6.59291172e+00  4.06080782e-01\n",
      "  7.42888033e-01  1.81134439e+00  3.33296037e+00  1.18617487e+01\n",
      "  2.61110878e+00  6.18261051e+00  5.61749995e-01 -9.11581039e+00\n",
      "  2.12387581e+01  4.43347394e-01  3.78902054e+00  7.95422268e+00\n",
      "  1.63052959e+01 -4.41577816e+00 -1.85015976e-01  1.25200338e+01\n",
      "  1.23539715e+01 -2.12572503e+00 -4.31571186e-01  4.02494287e+00\n",
      "  1.75282180e+00 -6.56398058e+00  9.15649986e+00  1.30293007e+01\n",
      "  4.15446615e+00  1.32209671e+00 -3.44954276e+00 -2.87500978e+00\n",
      "  4.99159479e+00  4.93924189e+00  2.33017712e+01  2.16152430e+00\n",
      "  4.97814322e+00  2.78569132e-01  3.24341863e-01  1.85179501e+01\n",
      "  3.02914000e+00 -7.51600266e-01  6.10560036e+00  4.05154943e+00\n",
      "  8.38370609e+00  8.37771893e+00  6.86883852e-02  4.21740818e+00\n",
      "  2.31140375e+00  2.44038048e+01  6.54114342e+00 -5.02825928e+00\n",
      "  8.25444794e+00  3.15601826e-01  6.22795248e+00  9.32364082e+00\n",
      "  2.32834568e+01  1.92802887e+01  3.94835067e+00  2.18272362e+01\n",
      "  1.62394886e+01  2.81820178e+00  4.95454359e+00 -2.24394917e+00\n",
      "  1.00552673e+01  1.59842272e+01  5.52876949e-01  3.57580910e+01\n",
      "  1.46269264e+01 -7.04199982e+00  6.71743870e+00 -4.09204960e+00\n",
      "  1.33554096e+01  8.94235325e+00  3.71215286e+01  7.15143585e+00\n",
      " -5.37328273e-02  2.39626789e+01  6.53498793e+00  8.19190884e+00\n",
      " -4.46859419e-01 -3.30653167e+00  1.00132408e+01  7.14021730e+00\n",
      " -1.03020697e+01  2.90793490e+00  2.60664101e+01  3.56292415e+00\n",
      "  2.12471500e-01  9.93532598e-01  9.26997662e+00  1.79686356e+00\n",
      " -9.20990753e+00  1.14825840e+01  2.57198792e+01  5.04551220e+00\n",
      "  1.62066460e+00  2.06098690e+01  1.44710569e+01  9.15770435e+00\n",
      "  5.25047398e+00 -7.30772781e+00  4.30610962e+01  1.78444922e+00\n",
      "  9.23576164e+00  2.36608791e+01  1.51070566e+01  3.07845974e+01\n",
      "  6.29289448e-02  8.56226158e+00  7.06111193e+00  3.52353477e+01\n",
      "  3.59080925e+01  6.12771034e+00  4.59904528e+00  1.74686337e+01\n",
      "  1.11882532e+00  1.52117062e+00  2.97097149e+01 -2.56727815e+00\n",
      " -1.71996728e-01  8.92471790e+00  1.89573612e+01  1.20080242e+01\n",
      "  1.72638206e+01  1.51504993e+01  1.21787596e+01 -5.32055473e+00\n",
      "  1.22493620e+01  1.11433303e+00  3.05795836e+00  1.49308081e+01\n",
      "  1.04010782e+01 -4.90448666e+00  4.16536484e+01  3.54902611e+01\n",
      " -9.50970840e+00  7.94444990e+00  1.37136400e+00  1.34115610e+01\n",
      "  1.35018997e+01  2.99659233e+01  1.71538620e+01  4.57013245e+01\n",
      "  6.77122295e-01  2.90730019e+01  2.24575195e+01  6.11400700e+00\n",
      "  2.33031616e+01  4.35613108e+00 -9.18128777e+00  5.11900616e+00\n",
      " -6.99423933e+00  1.92755795e+01  6.56153488e+00  3.76330781e+00\n",
      "  2.69937267e+01  3.61950226e+01  7.87024260e-01  6.87171268e+00\n",
      "  1.91258163e+01  2.12427731e+01  1.86878223e+01  5.95235968e+00\n",
      "  6.18316889e+00  2.04984331e+00 -6.67661762e+00 -1.28251219e+00\n",
      "  2.50534382e+01  3.91121745e+00  2.96817265e+01  2.27059031e+00\n",
      " -9.15602565e-01  2.28749065e+01 -2.99429274e+00  2.23125706e+01\n",
      "  2.73384781e+01  4.47847414e+00  9.58364105e+00  1.19790974e+01\n",
      " -4.84551764e+00 -1.36795454e+01 -1.01736708e+01 -9.43939400e+00\n",
      " -4.95801878e+00 -1.11341677e+01 -6.44342232e+00  1.04874647e+00\n",
      " -6.31766176e+00 -6.83961201e+00 -7.62223721e+00  4.70845079e+00\n",
      "  4.12172270e+00 -1.26097250e+01 -2.08073158e+01 -2.05091515e+01\n",
      " -6.86709452e+00  7.37516499e+00 -5.17859840e+00 -1.02576089e+00\n",
      " -6.69982862e+00  4.96237421e+00  2.14040756e+00  1.96604216e+00\n",
      " -8.06918240e+00 -2.31713696e+01 -1.67935123e+01 -1.11551409e+01\n",
      " -4.71307755e+00 -6.93528509e+00 -1.21057034e+00  6.86911011e+00\n",
      "  6.86015701e+00 -3.65970194e-01  3.61487460e+00 -7.05705023e+00\n",
      " -5.67128563e+00 -8.51311493e+00 -9.77458858e+00  3.01310778e+00\n",
      "  5.01177883e+00  6.37310886e+00 -2.22055321e+01  1.01281118e+01\n",
      " -3.11000019e-01 -1.56826010e+01 -2.44498672e+01 -1.36644554e+00\n",
      " -4.15807533e+00 -7.42202616e+00  1.56541407e+00 -1.43912542e+00\n",
      " -2.78964877e+00 -2.80821776e+00  1.16679132e+00 -6.07784796e+00\n",
      " -3.35100383e-01 -2.76233959e+01  1.19586217e+00 -1.50701532e+01\n",
      " -2.38765488e+01 -1.69661713e+01 -8.72449219e-01  3.57537174e+00\n",
      " -1.26195879e+01 -4.81083012e+00 -3.19783831e+00 -3.86798000e+00\n",
      " -4.81340647e+00 -5.31304979e+00  2.65756655e+00 -6.04617214e+00\n",
      " -1.03278029e+00 -1.51794167e+01  3.17630857e-01 -5.96193838e+00\n",
      " -7.19259739e+00  3.87384224e+00 -2.99215770e+00  1.46092739e+01\n",
      " -4.86348677e+00  3.45668387e+00  7.16764271e-01 -8.53452301e+00\n",
      " -1.73782694e+00  1.00915861e+01  5.39626884e+00  1.85343170e+00\n",
      "  7.98227215e+00 -4.52838993e+00 -4.16704702e+00  2.15972614e+00\n",
      " -2.09259582e+00 -3.48267984e+00  3.41498852e+00 -2.43185482e+01\n",
      " -1.80724335e+01 -2.39107943e+00 -4.40652704e+00 -2.61574864e+00\n",
      " -7.16442108e+00  4.40054512e+00  4.81145763e+00  1.54459894e+00\n",
      "  3.07510424e+00  2.88165641e+00 -1.02400169e+01  9.14090574e-01\n",
      " -2.10935345e+01 -5.02696848e+00 -1.24865522e+01 -6.57672787e+00\n",
      " -2.73308063e+00  4.36254549e+00 -3.00126362e+01 -9.40884304e+00\n",
      "  1.22845612e+01 -1.56963816e+01  5.90480947e+00 -1.48719902e+01\n",
      "  5.26161337e+00 -2.61795807e+00  2.27553701e+00 -4.75741911e+00\n",
      " -5.65907335e+00 -2.36462331e+00 -5.24536419e+00 -1.19508686e+01\n",
      " -1.24097700e+01  7.76972994e-02 -1.26181355e+01  1.39786088e+00\n",
      " -2.15691829e+00 -2.09464817e+01 -4.61965752e+00 -9.02936459e+00\n",
      " -3.94635916e+00 -1.03866081e+01 -2.07075634e+01  2.20558739e+00\n",
      " -3.77794600e+00  1.40108883e-01 -3.87003160e+00 -5.34001637e+00\n",
      " -3.08965087e+00 -3.76907253e+00  5.41169167e-01  1.72901688e+01\n",
      "  3.89667779e-01 -3.83418727e+00 -2.00933075e+01 -1.01704102e+01\n",
      " -2.42291284e+00 -3.60504270e+00 -9.90739727e+00 -6.39461040e+00\n",
      " -7.32454777e+00 -3.68523288e+00 -2.17377605e+01  5.83691216e+00\n",
      "  5.81571579e+00 -1.84972417e+00  6.10279655e+00 -1.38007832e+00\n",
      " -6.17247343e+00 -2.75313044e+00 -2.01607203e+00 -4.96090460e+00\n",
      "  1.52135050e+00  7.88946301e-02  6.30126524e+00 -2.90318727e+00\n",
      "  1.83647537e+00  3.89440060e+00 -9.65604901e-01  1.30392325e+00\n",
      " -3.19889712e+00 -2.35760612e+01 -1.62887135e+01 -2.89404249e+00\n",
      " -2.31653500e+01 -2.85037577e-01 -1.22937860e+01 -4.90184879e+00\n",
      "  4.67272568e+00 -4.48207998e+00 -7.25113344e+00 -1.29928370e+01\n",
      " -8.50525188e+00 -2.89861798e-01 -1.67364635e+01 -8.71130168e-01\n",
      " -4.22694635e+00 -4.90587616e+00 -5.17585087e+00  8.19752693e+00\n",
      "  4.48348427e+00 -3.59909654e+00 -3.93039727e+00 -1.07569098e+00\n",
      " -2.91002045e+01 -4.16371346e+01  1.18449891e+00 -2.42078614e+00\n",
      " -5.43388414e+00  4.58596992e+00 -2.13396239e+00 -4.62665462e+00\n",
      " -3.36994820e+01 -4.10221148e+00 -1.29872036e+01  4.36026096e+00\n",
      "  1.01280012e+01 -9.85015678e+00 -1.50200195e+01 -7.21148539e+00\n",
      " -2.79005885e+00 -2.72800179e+01 -3.30968094e+01 -2.55331573e+01\n",
      " -3.69408951e+01 -1.40528049e+01 -1.68821926e+01 -3.40205727e+01\n",
      " -2.82294521e+01  9.48180008e+00 -2.03097668e+01 -7.29342365e+00\n",
      " -3.75987411e-01  3.29763341e+00 -3.90781713e+00  6.83417416e+00\n",
      " -9.01348352e-01 -3.05707817e+01 -1.23352661e+01  6.88292086e-01\n",
      "  4.38232279e+00 -1.83171070e+00  1.14908862e+00 -1.49557602e+00\n",
      " -2.94602757e+01 -1.67245758e+00 -6.05744457e+00 -4.86108589e+00\n",
      " -1.62665520e+01 -6.86198139e+00  3.92850113e+00  7.29747105e+00\n",
      " -6.45363808e+00 -2.34527836e+01 -1.43390932e+01 -1.31590443e+01\n",
      " -1.50921690e+00 -1.24022570e+01  1.70440018e+00 -3.53959250e+00\n",
      " -1.09794321e+01 -3.45432854e+01 -6.22145939e+00  1.07627213e+00\n",
      "  5.30038786e+00 -1.82945194e+01 -3.73920178e+00 -2.56804523e+01\n",
      " -2.34283390e+01 -2.88271828e+01 -7.11604071e+00 -1.19192839e+01\n",
      " -1.51150489e+00 -1.35473788e+00 -2.18370247e+00 -2.86290951e+01\n",
      " -1.15111074e+01  3.67481208e+00 -1.13479004e+01 -3.44003754e+01\n",
      " -1.01970601e+00 -1.25003777e+01 -5.68697751e-01 -2.61010628e+01\n",
      " -7.61302233e+00  2.65144944e-01 -3.33109999e+00 -6.38149929e+00\n",
      " -9.31405640e+00 -3.38018227e+01  1.16506600e+00 -2.85164146e+01\n",
      "  1.15084040e+00 -1.17663984e+01 -2.41365452e+01 -2.89973297e+01\n",
      " -1.89177666e+01 -5.84336948e+00 -2.19206023e+00 -1.33770189e+01\n",
      " -1.81361408e+01 -2.63085003e+01  1.78589928e+00 -4.50896530e+01\n",
      " -2.97429676e+01 -1.25910339e+01 -3.29509621e+01 -2.66479802e+00\n",
      " -2.11003742e+01  1.00537653e+01 -1.25487032e+01 -9.41095161e+00\n",
      "  6.27505589e+00 -1.67611809e+01 -1.10461819e+00 -6.94229698e+00\n",
      " -9.32040095e-01  1.67695522e+00 -2.05506611e+00 -2.96094398e+01\n",
      " -5.49175549e+00 -9.42556763e+00 -1.30122194e+01 -3.59026003e+00\n",
      "  2.40197124e+01 -3.25897121e+00 -3.33916817e+01 -3.06187859e+01\n",
      " -4.46540308e+00  2.17763710e+00 -3.87440529e+01  2.07382727e+00\n",
      " -3.68792076e+01 -2.32970066e+01 -1.87651691e+01 -1.30418844e+01\n",
      " -1.39541855e+01 -1.84865417e+01 -9.74954605e+00 -1.73830185e+01\n",
      " -3.30593348e+00  1.94156480e+00]' has dtype incompatible with int64, please explicitly cast to a compatible dtype first.\n",
      "  preds[val_index] = model.predict(dval_i)\n"
     ]
    },
    {
     "name": "stderr",
     "output_type": "stream",
     "text": [
      "\r",
      " 70%|███████████████████████████████████████████████████████████████████████████████████████████████████████████████████████████████████████████████████████████▍                                                                  | 7/10 [03:41<01:45, 35.24s/it]"
     ]
    },
    {
     "name": "stderr",
     "output_type": "stream",
     "text": [
      "C:\\Users\\81809\\AppData\\Local\\Temp\\ipykernel_7320\\3386215446.py:18: FutureWarning: Setting an item of incompatible dtype is deprecated and will raise an error in a future version of pandas. Value '[ 1.24446797e+00 -4.97760439e+00  2.99053550e+00  1.99036264e+00\n",
      "  1.75603065e+01  1.05427086e+00 -6.52307644e-02  9.67862034e+00\n",
      " -4.32384205e+00  3.72573757e+00 -2.56046700e+00  6.98881149e+00\n",
      "  4.10897493e+00  1.91767955e+00  6.78522635e+00  7.32772636e+00\n",
      " -7.55191374e+00 -4.87609386e+00  4.26603889e+00  9.23914051e+00\n",
      " -4.99723256e-02 -8.79111588e-01  2.56476593e+00  2.91511192e+01\n",
      "  1.07297087e+01  1.07059073e+00 -6.37281322e+00  1.80835590e+01\n",
      "  7.68832266e-02  4.71037149e+00  8.73487473e-01 -3.48847222e+00\n",
      "  6.86592627e+00 -1.70222425e+00  8.89247131e+00  8.86493301e+00\n",
      "  7.76334524e+00 -9.21880341e+00  7.10112906e+00  1.48672795e+00\n",
      " -1.93462026e+00  5.40024233e+00  1.67502995e+01  1.08225775e+01\n",
      "  2.27133789e+01 -4.28550661e-01 -3.89439195e-01  1.42696352e+01\n",
      "  6.35235596e+00  1.47051966e+00  8.93469334e+00  4.57997417e+00\n",
      " -4.37278843e+00 -1.45837951e+00  6.08598375e+00 -2.33800626e+00\n",
      "  1.38978899e+00  7.14101744e+00  6.08800554e+00  3.61509418e+00\n",
      "  1.15619841e+01  1.05014620e+01 -3.69987202e+00 -3.44910049e+00\n",
      "  3.36578846e+00  2.53693509e+00 -1.52060902e+00  1.45548189e+00\n",
      "  1.89328136e+01  8.32637024e+00  5.92647219e+00  1.78706856e+01\n",
      "  7.61359453e+00 -1.06889975e+00 -2.49996567e+00 -5.64766550e+00\n",
      "  9.19115067e+00  7.16538763e+00  1.01822929e+01  1.14862478e+00\n",
      "  3.63205957e+00  8.04901505e+00  6.12132168e+00  1.25687790e+01\n",
      "  4.02845812e+00  1.06342316e+00  4.95152760e+00  3.10607529e+00\n",
      "  2.22374096e+01  1.53212652e+01  7.39091158e-01  8.78092480e+00\n",
      " -1.11616297e+01  3.46677709e+00  5.28709173e+00  1.17256796e+00\n",
      "  1.25172818e+00  9.88682461e+00 -2.76402664e+00  2.08817673e+01\n",
      "  8.41727734e-01 -1.79515505e+00 -1.60014904e+00  2.06747127e+00\n",
      "  1.53093898e+00  7.29335165e+00 -6.18819761e+00  1.24260683e+01\n",
      " -2.01186204e+00 -2.25441188e-01 -5.89583683e+00 -1.91447496e+00\n",
      "  6.24766159e+00 -3.25904560e+00 -1.93030679e+00  8.24973488e+00\n",
      " -5.59081268e+00  1.27614725e+00 -2.68249702e+00 -3.12550163e+00\n",
      "  6.82829142e+00  1.23761253e+01 -3.49307585e+00 -6.23463988e-01\n",
      "  3.73776722e+00 -4.39231968e+00  3.39160848e+00  7.21803284e+00\n",
      "  1.39079437e-01  1.62529984e+01  1.47577143e+01  4.66356516e+00\n",
      " -4.79152822e+00 -6.59143400e+00 -1.76757717e+00  2.09799170e+00\n",
      "  5.79140282e+00 -5.63758659e+00  3.72750926e+00  1.24442215e+01\n",
      " -1.63289976e+00 -2.79995894e+00  7.00341165e-01  6.10280693e-01\n",
      "  6.01311350e+00 -6.36564350e+00  9.24026394e+00  1.54406090e+01\n",
      "  1.46042957e+01  1.07084904e+01  1.81408918e+00  1.14547920e+01\n",
      "  9.75186229e-01  2.07436785e-01  9.56465530e+00  2.20153122e+01\n",
      " -5.64180970e-01 -8.85513496e+00  2.77374434e+00  5.74072266e+00\n",
      "  3.35398984e+00 -5.34373820e-01  1.90779448e+00  1.07749939e+01\n",
      " -3.73774576e+00  1.38834655e+00 -1.65430470e+01  1.70256805e+01\n",
      " -4.25793791e+00  2.25807152e+01  2.91973662e+00  9.93513465e-01\n",
      "  9.07625198e+00  5.41925049e+00  1.14487953e+01  3.44800186e+00\n",
      "  4.37376595e+00  2.37949634e+00  2.78881812e+00  2.18289122e-01\n",
      "  3.82346392e+00 -1.77728868e+00  4.63196850e+00 -4.71241283e+00\n",
      "  2.19500637e+01  2.18414383e+01  2.17969298e-01  1.84717095e+00\n",
      " -6.44016695e+00  6.07979774e+00  4.67006540e+00 -3.81743860e+00\n",
      "  4.18481159e+00  6.84440994e+00  9.67450237e+00  2.85719442e+00\n",
      "  2.16829414e+01 -3.26722217e+00  1.00523682e+01  2.57594376e+01\n",
      " -3.65150738e+00 -9.94291902e-01 -4.12634039e+00 -1.83200014e+00\n",
      " -3.83204460e+00  2.71297884e+00  5.67650890e+00 -2.68214989e+00\n",
      "  1.57783518e+01 -3.48470998e+00 -1.87319696e+00  1.00398111e+00\n",
      "  1.90226669e+01  3.76210713e+00  4.33804941e+00  1.20767899e+01\n",
      "  2.07689452e+00 -2.03362060e+00  4.29358530e+00  2.02493858e+01\n",
      "  2.99719830e+01 -1.08327484e+00  2.59837742e+01  4.02134514e+00\n",
      "  3.76891875e+00  1.93500824e+01  6.04106855e+00  1.71595722e-01\n",
      "  2.09866524e+01 -9.99010277e+00 -1.04718781e+01 -4.45326710e+00\n",
      "  6.04897356e+00 -4.59702873e+00  3.50462379e+01  1.59120893e+01\n",
      "  2.04349213e+01  4.44670486e+00  2.00776119e+01  6.55109930e+00\n",
      "  6.32140875e+00 -3.44999695e+00  3.17733479e+01  1.24852057e+01\n",
      "  2.97301712e+01  8.30387175e-01 -1.68817729e-01  2.85877914e+01\n",
      "  1.21613445e+01  2.48398571e+01  1.87442188e+01  1.49401445e+01\n",
      "  2.00812302e+01  5.74028730e+00  1.30839462e+01  1.64294267e+00\n",
      "  1.59745951e+01 -7.01191664e+00  8.15719223e+00 -1.39357626e+00\n",
      "  1.61108279e+00  1.14385538e+01 -4.87261248e+00  2.30114384e+01\n",
      "  2.76497459e+01  8.25257969e+00  1.52633867e+01  7.75104618e+00\n",
      "  1.85166225e-02  1.40818424e+01  3.58482265e+00  1.76813450e+01\n",
      "  1.67019117e+00  1.62635918e+01  1.36955013e+01 -4.31278259e-01\n",
      " -9.73874283e+00  6.40115356e+00  1.90019379e+01 -1.12434969e+01\n",
      "  9.34272957e+00  2.49364853e+00  2.93317146e+01  2.08556235e-01\n",
      " -9.19253731e+00  7.43209028e+00 -8.79235268e+00  3.62515306e+00\n",
      "  3.06463933e+00  7.14475751e-01  3.06349068e+01  1.91583805e+01\n",
      "  2.68176422e+01  4.57737827e+00  4.80820045e+01  1.20248175e+01\n",
      "  3.68749580e+01  1.51939440e+01  1.47883248e+00  4.75058031e+00\n",
      "  2.10558949e+01  8.19203377e+00  1.21768255e+01 -8.86987782e+00\n",
      " -9.90498066e+00  8.26029396e+00  2.10379982e+00  3.12515869e+01\n",
      "  3.60986948e-01 -2.13381127e-01 -3.16509819e+00  2.04033899e+00\n",
      " -1.73240364e+00  1.62078209e+01  5.51423740e+00  8.70543098e+00\n",
      "  3.07796326e+01 -1.00280743e+01  8.14696026e+00  1.32571211e+01\n",
      "  7.77181339e+00  2.05078659e+01 -8.91810417e+00  2.91540432e+01\n",
      " -1.50273638e+01  4.00241318e+01 -6.13528681e+00  3.12383423e+01\n",
      "  7.05119848e+00  1.92946835e+01  2.03467445e+01  1.06018865e+00\n",
      " -1.31136665e+01  2.52917709e+01  9.81256866e+00  1.16328754e+01\n",
      "  7.06908417e+00  1.85260277e+01  3.45165968e+00 -1.08091593e+01\n",
      "  8.87259424e-01  2.68625855e+00 -1.14345760e+01 -6.06813812e+00\n",
      " -2.59518433e+00 -8.50349236e+00 -7.39864254e+00 -5.48498440e+00\n",
      " -7.83262682e+00 -6.66697264e+00 -7.29682827e+00 -2.11698093e+01\n",
      "  9.76108265e+00 -7.45204067e+00 -2.46017075e+00 -6.36021471e+00\n",
      " -5.68340898e-01 -3.00185013e+00 -5.02026939e+00 -7.52033144e-02\n",
      " -3.82276297e-01 -6.07289505e+00 -9.55204678e+00 -2.36084023e+01\n",
      " -3.38780451e+00  1.74861038e+00 -4.78527784e+00 -2.72396412e+01\n",
      " -5.06600857e+00 -5.98887110e+00  3.64869690e+00 -2.32544065e+00\n",
      " -1.03285360e+01 -4.79676217e-01 -9.35150146e+00 -6.92627048e+00\n",
      "  5.39331961e+00  1.44160962e+00  4.07356203e-01 -4.38513565e+00\n",
      " -6.75893879e+00 -9.17335129e+00 -8.93212795e+00 -1.34560165e+01\n",
      " -4.94634438e+00  1.78125131e+00 -1.37737298e+00 -1.47583663e+00\n",
      " -6.07927132e+00 -8.99744129e+00 -1.14295549e+01  2.54654598e+00\n",
      " -1.01491976e+01 -4.89335012e+00 -6.45914793e+00 -3.77687263e+00\n",
      "  1.26277351e+00 -8.43259525e+00 -6.78245640e+00 -2.38448715e+01\n",
      " -7.40105534e+00 -7.79627991e+00  1.48549914e+00 -1.37936287e+01\n",
      " -2.55955715e+01  6.77465141e-01 -2.41833401e+00  1.05061369e+01\n",
      " -1.79707947e+01 -1.15391922e+01 -1.07629168e+00 -1.82863884e+01\n",
      " -4.49428654e+00 -6.17634535e-01  4.84949827e+00 -1.15942135e+01\n",
      " -7.07927036e+00  1.08549204e+01 -1.55787687e+01 -1.62830009e+01\n",
      " -4.41511631e+00  4.70131016e+00 -6.49000216e+00  1.93384039e+00\n",
      " -9.29925537e+00 -5.69977856e+00 -1.44226141e+01  6.13060474e+00\n",
      "  8.91021729e+00 -4.06510639e+00  1.92695475e+00 -1.22407377e+00\n",
      " -1.63846660e+00 -1.25265703e+01  1.19823561e+01 -2.10544930e+01\n",
      " -5.56715488e+00 -1.68673754e+00 -2.28402386e+01 -1.78677616e+01\n",
      " -1.12425337e+01 -1.90710092e+00 -9.53153551e-01  9.36144412e-01\n",
      "  1.38330736e+01  6.73527002e+00 -1.03957319e+00 -6.58469868e+00\n",
      " -3.66346860e+00  2.25004300e-01  9.28254986e+00  1.69302235e+01\n",
      "  5.25020075e+00 -9.50511932e+00 -5.94816780e+00 -4.10722876e+00\n",
      "  1.33638942e+00  2.27890015e+00 -2.10218239e+01  6.81417990e+00\n",
      " -4.59237218e-01 -1.71234214e+00 -1.45755380e-01 -1.31115065e+01\n",
      " -2.17655563e+00  5.77780962e+00 -1.74610748e+01 -1.59753780e+01\n",
      " -2.24172230e+01 -1.02042866e+01 -1.10737238e+01  1.03497086e+01\n",
      " -2.27331829e+01 -2.61265779e+00 -3.09648305e-01  6.68816710e+00\n",
      " -4.48721266e+00  4.59034824e+00  8.72181535e-01  8.53840411e-01\n",
      " -3.17179823e+00 -8.50383663e+00 -9.00012434e-01 -1.83012810e+01\n",
      " -5.66897774e+00 -3.88945913e+00 -4.34006548e+00 -2.47354412e+00\n",
      "  5.51200867e+00 -5.31700325e+00  3.58893722e-01 -6.45841885e+00\n",
      " -2.29747128e+00 -1.07455528e+00 -1.46948433e+00 -3.50519872e+00\n",
      "  3.59245825e+00 -2.39789944e+01  1.68329029e+01  3.59940362e+00\n",
      "  1.18852444e+01 -3.78497458e+00  2.96850204e+00 -4.12925482e+00\n",
      " -2.65672350e+00 -1.06956282e+01  3.38913012e+00 -1.58852839e+00\n",
      " -2.67742748e+01 -6.83650160e+00 -5.08124888e-01 -1.00369930e+00\n",
      " -2.65095592e+00 -6.10816765e+00 -1.64898968e+01 -5.34421682e+00\n",
      " -7.17604685e+00 -9.07102489e+00 -7.95590162e+00 -2.16785073e+00\n",
      " -3.90715957e+00  7.88681269e+00 -6.47920322e+00  8.95035553e+00\n",
      " -3.92069244e+00 -5.90193462e+00 -3.01315422e+01 -1.92637577e+01\n",
      " -9.66441917e+00 -5.51771164e+00 -4.24005890e+00 -2.79069691e+01\n",
      " -1.09421997e+01 -2.75308056e+01 -1.34823236e+01 -2.32173896e+00\n",
      " -3.13474584e+00 -9.58413601e+00 -3.47989655e+01 -2.08640575e+00\n",
      " -1.22378902e+01 -8.50783348e+00  1.68725681e+00 -9.95445728e+00\n",
      " -6.53345251e+00 -6.48436689e+00 -1.28773699e+01 -1.36680660e+01\n",
      " -3.25730057e+01 -2.67551060e+01 -3.60034676e+01 -9.45735872e-01\n",
      "  1.79885495e+00 -1.90247669e+01 -2.48860302e+01 -2.83705101e+01\n",
      "  6.27799463e+00  9.47375584e+00 -6.03208661e-01 -7.75387430e+00\n",
      " -3.91708183e+01 -3.79169017e-01 -2.94125233e+01 -3.25525322e+01\n",
      " -1.37588434e+01 -3.03239307e+01 -1.32161164e+00 -1.58705997e+01\n",
      " -7.80433941e+00 -4.24580460e+01  5.93651342e+00 -6.05022073e-01\n",
      " -2.17067146e+01 -1.94177971e+01 -4.41018671e-01 -7.28391361e+00\n",
      " -1.92638206e+01 -3.42554245e+01 -3.22004738e+01 -4.85025835e+00\n",
      "  2.38743258e+00  9.68140602e+00 -2.55129719e+01 -9.61133766e+00\n",
      " -1.36239061e+01 -3.58268595e+00 -2.01993866e+01 -1.20021200e+01\n",
      " -4.26085777e+01  4.99233389e+00 -8.34672153e-01 -1.46378243e+00\n",
      " -1.93951588e+01  7.03553057e+00 -3.31321716e+00 -6.05474329e+00\n",
      " -7.34614515e+00  4.86621237e+00 -3.55459175e+01 -6.06749964e+00\n",
      "  8.88950920e+00 -8.17945671e+00  7.83297968e+00 -1.50390968e+01\n",
      "  3.49090242e+00 -5.91926908e+00 -1.11203394e+01 -1.55031357e+01\n",
      " -1.03186455e+01 -2.62396450e+01 -1.31020470e+01  2.96509600e+00\n",
      "  1.91361213e+00  2.37826777e+00  6.13219213e+00 -1.97570133e+01\n",
      " -6.98639154e+00 -1.03439970e+01  4.94204140e+00  7.72097874e+00\n",
      " -2.76262779e+01 -1.07865985e-02 -2.41788521e+01 -2.99340000e+01\n",
      "  2.30776381e+00 -1.62192261e+00  7.43242073e+00 -7.35430241e+00\n",
      " -1.19290400e+01 -1.54987192e+01 -2.27972832e+01  1.01352310e+01\n",
      " -2.37829423e+00 -9.33927155e+00 -3.40980983e+00 -2.51362915e+01\n",
      " -3.58656349e+01 -3.59813881e+01 -1.75151958e+01  6.32760715e+00\n",
      " -1.49713554e+01 -1.62396870e+01  1.34699135e+01 -2.43420200e+01\n",
      " -1.77992420e+01 -2.38026118e+00]' has dtype incompatible with int64, please explicitly cast to a compatible dtype first.\n",
      "  preds[val_index] = model.predict(dval_i)\n"
     ]
    },
    {
     "name": "stderr",
     "output_type": "stream",
     "text": [
      "\r",
      " 80%|█████████████████████████████████████████████████████████████████████████████████████████████████████████████████████████████████████████████████████████████████████████████████▌                                            | 8/10 [04:15<01:09, 34.75s/it]"
     ]
    },
    {
     "name": "stderr",
     "output_type": "stream",
     "text": [
      "C:\\Users\\81809\\AppData\\Local\\Temp\\ipykernel_7320\\3386215446.py:18: FutureWarning: Setting an item of incompatible dtype is deprecated and will raise an error in a future version of pandas. Value '[ 7.74444723e+00 -6.14089060e+00  1.07391691e+01  7.77653933e+00\n",
      "  6.60059309e+00  6.82156324e+00  5.74789667e+00  2.00397635e+00\n",
      " -5.48657417e-01  3.09392715e+00 -3.16864228e+00  3.22887540e+00\n",
      " -8.47834706e-01  2.09861126e+01  2.13338923e+00  1.30014019e+01\n",
      "  4.17704964e+00  3.81039882e+00  7.56110096e+00  2.97840405e+00\n",
      "  6.43170977e+00  3.94586515e+00  1.05994406e+01 -1.60419011e+00\n",
      "  7.13415194e+00  3.74936509e+00  1.05911407e+01  6.17638540e+00\n",
      "  2.04213476e+00  2.59268532e+01  4.91002321e+00 -8.19914818e+00\n",
      "  4.23890018e+00  1.53151588e+01  8.83584785e+00 -6.12008238e+00\n",
      "  5.15595436e+00  1.71307611e+00 -5.46481133e-01 -7.77436876e+00\n",
      " -3.06434941e+00  1.10271511e+01  2.99486685e+00  6.98897648e+00\n",
      "  2.11997108e+01  9.16467094e+00  6.23995638e+00  3.45972002e-01\n",
      " -2.36022282e+00  2.36013246e+00  4.67560005e+00  4.09329081e+00\n",
      "  6.34745657e-01  1.63222427e+01  3.59727764e+00  1.07047682e+01\n",
      "  2.26137218e+01  8.78754330e+00 -3.83759499e+00  7.07980633e+00\n",
      "  3.61366820e+00  2.95924735e+00  3.56470132e+00  9.25069153e-01\n",
      "  7.69178009e+00  1.01858139e+01  3.67603087e+00  3.59908485e+00\n",
      "  1.46110249e+01  2.49499378e+01 -4.15744638e+00  5.92419147e+00\n",
      "  1.59673238e+00  1.08727350e+01  2.55778718e+00  5.09506226e-01\n",
      "  2.28378887e+01  8.34962177e+00  1.21461544e+01  2.99606419e+00\n",
      "  1.63044987e+01 -2.29536247e+00  1.01095762e+01  8.27789879e+00\n",
      "  3.38667893e+00 -2.35924691e-01 -1.12666070e+00  7.27173281e+00\n",
      "  1.96115279e+00  7.54615593e+00  1.73737717e+01 -4.73040009e+00\n",
      "  3.21008474e-01  3.56919241e+00 -6.33569193e+00 -2.64449048e+00\n",
      " -3.15541530e+00 -7.61927319e+00  2.05139488e-01  4.57036734e-01\n",
      "  2.29710269e+00  1.83717147e-01 -1.06934814e+01  2.73412013e+00\n",
      " -2.38094878e+00  1.03313458e+00  2.26152325e+01 -5.04124975e+00\n",
      "  1.34578152e+01  1.39982309e+01  6.85568428e+00 -1.90747809e+00\n",
      "  9.68004227e+00 -9.18528748e+00 -1.39662349e+00 -3.29896069e+00\n",
      "  4.14698648e+00 -8.52666569e+00  2.54926419e+00 -1.46651995e+00\n",
      "  9.07046223e+00  8.34884071e+00 -3.68068552e+00  1.22749481e+01\n",
      "  7.19289732e+00  7.45678663e+00  2.10125809e+01 -7.37943077e+00\n",
      "  1.51749821e+01  9.59998703e+00 -2.59073567e+00  6.08248806e+00\n",
      "  5.04114485e+00  1.26285791e+00 -2.82405857e-02 -7.64057338e-02\n",
      "  1.24333506e+01  1.22987385e+01 -6.02230883e+00  1.08350840e+01\n",
      "  2.18795395e+00  9.87391949e+00  2.08996258e+01  3.12818837e+00\n",
      "  1.45777905e+00  1.39225149e+00 -2.86388278e-01  9.38689053e-01\n",
      "  4.14682817e+00  6.39829111e+00  2.99869704e+00  1.17700682e+01\n",
      " -1.43036771e+00 -3.63249969e+00  2.14554095e+00 -1.14212675e+01\n",
      "  2.93283138e+01  1.48289824e+01 -2.62947607e+00  1.80342999e+01\n",
      "  1.24375582e+01  3.06370234e+00  1.03402405e+01  9.41412151e-01\n",
      "  1.37374854e+00 -8.46125662e-01 -3.74997354e+00  3.61057115e+00\n",
      " -1.79649246e+00  1.03214455e+00 -8.42711031e-01 -1.17294919e+00\n",
      "  1.07085645e+00 -1.43162644e+00  3.93262672e+00  1.97831116e+01\n",
      "  6.44109011e+00  1.41769371e+01 -6.21224928e+00  2.02295074e+01\n",
      " -1.91197217e+00  3.58680415e+00  5.04228878e+00  1.00462186e+00\n",
      "  8.07894993e+00 -7.69390297e+00  1.89398479e+01  3.93063116e+00\n",
      "  6.42331648e+00 -1.65463209e+00  9.76596355e+00  1.49866743e+01\n",
      "  2.10518761e+01 -3.04583669e+00  2.10123658e+00  2.44616821e-01\n",
      "  5.72338438e+00  5.10743475e+00  4.31641340e+00 -5.36585474e+00\n",
      "  8.13893890e+00  8.42774010e+00  9.72233772e+00  2.36277981e+01\n",
      "  4.52677393e+00  2.62946796e+00  2.31228185e+00  4.93968439e+00\n",
      "  5.53562832e+00 -7.96627283e-01  1.15833578e+01  6.07723618e+00\n",
      "  1.90604897e+01  8.13533974e+00  3.45600605e+00 -1.12182713e+00\n",
      "  3.78424568e+01 -1.01856937e+01  5.23062944e+00 -1.00210257e+01\n",
      " -6.77288771e+00  1.28456640e+01  3.44956219e-01  4.16101027e+00\n",
      "  7.36246443e+00 -9.74726975e-01  2.52536983e+01  5.99143696e+00\n",
      "  8.42500782e+00  2.47637825e+01  5.07381535e+00  2.03528805e+01\n",
      " -7.86018658e+00  2.94781265e+01  3.09170723e+01  4.55023229e-01\n",
      " -1.49602928e+01  1.65767086e+00  2.12436271e+00  6.29469967e+00\n",
      "  7.52530098e+00  1.74092827e+01  7.02715397e+00  1.57028351e+01\n",
      "  2.94538918e+01  1.06999102e+01  3.59348488e+01 -1.96577823e+00\n",
      "  9.75728512e+00  1.69101298e-01  1.70208073e+01  1.29301338e+01\n",
      "  2.68878384e+01 -5.55437756e+00  2.46727734e+01  1.34606009e+01\n",
      "  9.77242374e+00  3.25966682e+01  1.08122339e+01  2.72118912e+01\n",
      "  3.23957467e+00  6.61130238e+00  2.65070667e+01  2.07240391e+00\n",
      "  6.03167248e+00  7.63356972e+00  9.77450275e+00 -6.10852289e+00\n",
      "  1.37393866e+01  4.22995148e+01  8.44725800e+00 -1.07374706e+01\n",
      "  9.69703865e+00 -3.04125047e+00 -8.99663639e+00  3.25870466e+00\n",
      " -4.31065178e+00  1.15224142e+01  4.53895092e+00  5.86507940e+00\n",
      " -1.73955381e+00  3.69336281e+01  1.42469912e+01  3.02702751e+01\n",
      "  2.17967510e+01  2.02253151e+00  9.03584766e+00  1.71660938e+01\n",
      "  5.27127123e+00 -7.83724356e+00  2.01786442e+01  6.46023035e+00\n",
      "  2.53501582e+00  2.24051380e+01  9.22337151e+00  3.15274410e+01\n",
      "  7.74183130e+00  3.04243660e+01  3.61817408e+00 -9.37087631e+00\n",
      "  4.82301807e+00  3.69178820e+00  6.71907663e+00  6.42400360e+00\n",
      " -1.09845829e+01  1.49746113e+01  2.84023018e+01 -2.22916722e+00\n",
      "  3.94982872e+01  9.69738483e+00  2.54133720e+01  3.72548676e+01\n",
      " -5.81412268e+00  3.72984886e+01  5.27371740e+00  1.31088800e+01\n",
      "  2.64012051e+00  3.35547209e+00  1.14397783e+01  2.55714970e+01\n",
      "  1.17511854e+01 -1.61970997e+00 -2.17951527e+01 -5.63108873e+00\n",
      "  3.90787292e+00 -1.34031219e+01 -2.35863781e+01 -7.79726267e+00\n",
      " -2.97478819e+00 -8.44775867e+00 -5.38382149e+00 -2.89242315e+00\n",
      " -2.07859840e+01 -3.02974415e+00 -2.56515961e+01 -4.19057226e+00\n",
      " -8.28253365e+00 -9.06877875e-01 -6.68690872e+00 -2.93724656e+00\n",
      " -7.24726439e+00 -9.42575264e+00  6.34966373e+00 -1.91189170e+00\n",
      "  6.65554762e+00  4.93694782e+00 -7.98842573e+00 -4.74311924e+00\n",
      "  3.67962033e-01 -2.51610489e+01  6.26714945e-01  2.65459180e-01\n",
      " -2.85901527e+01  1.50809145e+00  1.23112507e+01 -7.55672836e+00\n",
      "  7.65998316e+00 -8.60504246e+00 -5.27420330e+00 -5.54603386e+00\n",
      " -5.98069954e+00  3.52357531e+00  2.10033536e+00 -1.03132319e+00\n",
      " -9.77342796e+00 -2.22786274e+01 -8.72908211e+00 -1.31616659e+01\n",
      "  6.02406502e+00 -2.82399178e+00  2.09341645e+00  7.75216937e-01\n",
      " -1.65692444e+01 -6.03360939e+00 -2.35568295e+01 -1.64129710e+00\n",
      "  2.26966786e+00 -8.02600956e+00 -5.25140953e+00  2.82052517e+00\n",
      " -2.48222351e+01 -1.12166100e+01 -1.38848019e+01 -1.27129531e+00\n",
      " -7.55346596e-01  1.36399651e+00  1.51990712e+00 -1.30888677e+00\n",
      " -3.01390100e+00  6.57909214e-01 -2.64722729e+00 -4.66333818e+00\n",
      " -7.46827555e+00 -2.03361950e+01  5.43282747e+00  2.83655453e+00\n",
      " -1.25410497e+00 -3.81385899e+00 -3.09418964e+00 -7.76354313e+00\n",
      " -1.72670479e+01 -8.53182226e-02  6.74748719e-01 -6.19247139e-01\n",
      "  2.12525988e+00 -8.30993652e+00 -2.41023026e+01 -1.67493610e+01\n",
      " -8.90566921e+00 -1.09165926e+01 -8.25624084e+00 -3.19152236e+00\n",
      " -5.98609066e+00 -3.61248946e+00 -5.38696098e+00 -1.84261703e+01\n",
      "  1.87905955e+00  3.74003386e+00  1.44491730e+01 -1.79847151e-01\n",
      "  4.07714319e+00  4.48975205e-01 -2.36175861e+01  1.97455287e-01\n",
      " -1.38980684e+01 -1.66790521e+00  8.61874104e+00  2.77051950e+00\n",
      " -5.47896242e+00  3.60670686e-01 -1.65422115e+01 -1.22786081e+00\n",
      " -6.65701628e+00  1.74457514e+00 -1.44929857e+01 -1.75733757e+01\n",
      " -3.71963739e+00  5.55437708e+00 -2.63457775e+00  7.79141331e+00\n",
      " -7.77845860e+00 -2.18982291e+00 -1.08940639e+01  6.19782400e+00\n",
      " -5.76417494e+00  5.73267937e+00 -2.71381397e+01 -4.96652365e+00\n",
      " -9.27332306e+00 -1.92401466e+01  4.58067751e+00 -7.05759954e+00\n",
      "  4.11246157e+00 -1.32103481e+01 -2.02171860e+01  4.70961362e-01\n",
      " -1.66576016e+00 -4.33123678e-01 -9.28060246e+00 -5.15563631e+00\n",
      " -1.32204437e+01  2.67610288e+00 -2.76690888e+00 -2.18744373e+00\n",
      " -7.58513546e+00  2.14674687e+00 -1.36257005e+00 -1.05811768e+01\n",
      " -5.08297110e+00 -3.88754392e+00 -1.25602016e+01  9.97592068e+00\n",
      " -2.17475224e+01 -5.88237667e+00 -4.05148792e+00 -5.55562675e-01\n",
      "  5.66230011e+00 -3.50424457e+00 -3.31226635e+00 -4.93938303e+00\n",
      "  4.77392912e+00 -9.39296424e-01  3.68794227e+00  1.46047223e+00\n",
      "  4.31066370e+00 -3.09775591e+00  1.19533014e+00  1.59181267e-01\n",
      "  9.87301064e+00  9.68986452e-01 -1.39311924e+01  2.98066115e+00\n",
      " -4.17172575e+00 -2.22100811e+01  1.16443710e+01 -2.53921092e-01\n",
      " -1.23871255e+00 -5.13883448e+00  5.04970908e-01 -1.33731012e+01\n",
      " -2.28516579e+00  2.92548513e+00 -2.62006035e+01  5.43634367e+00\n",
      "  3.88122225e+00  1.11330538e+01 -5.50076723e-01 -7.37457132e+00\n",
      " -1.44895864e+00 -1.05940485e+01 -4.97413349e+00 -5.10019445e+00\n",
      " -1.51743212e+01 -7.48114586e+00  1.04623353e+00  5.79149151e+00\n",
      " -5.75948477e+00  2.83296794e-01 -6.04903889e+00 -3.40887856e+00\n",
      " -1.58500652e+01  3.63629270e+00 -7.52235126e+00 -3.28584528e+00\n",
      " -2.28994350e+01 -1.21253300e+01 -1.42821884e+00  8.34559059e+00\n",
      "  7.08181572e+00 -5.38163614e+00 -1.92577209e+01 -3.04719019e+00\n",
      " -1.25079374e+01 -3.04689445e+01 -3.41441803e+01 -2.78915653e+01\n",
      " -5.27062654e+00 -2.00585499e+01 -2.15966988e+01  9.55031753e-01\n",
      " -8.61811161e+00 -5.55755949e+00 -2.49420905e+00  8.56728077e+00\n",
      " -6.81872666e-02 -6.27799320e+00  4.67052817e-01 -3.34025669e+00\n",
      " -1.80592775e+00 -3.71877556e+01 -3.05821800e+01 -2.59278278e+01\n",
      " -3.83142138e+00 -2.25829029e+01 -7.62256289e+00 -6.02741289e+00\n",
      " -6.77602053e+00 -4.70163345e+00  7.70053446e-01 -1.96088371e+01\n",
      " -4.42798004e+01 -2.79525709e+00 -2.20861149e+01 -1.85562935e+01\n",
      " -1.33012419e+01 -1.18810081e+01 -3.13060074e+01  6.71605289e-01\n",
      " -3.22325478e+01 -7.62984467e+00 -2.29249439e+01 -2.91575203e+01\n",
      "  1.40555656e+00 -5.48069620e+00 -2.08659286e+01  5.35112476e+00\n",
      " -9.92895126e+00  2.44608784e+00 -3.02611160e+01 -1.65909691e+01\n",
      " -1.07540359e+01 -1.69874573e+01 -7.73577547e+00 -3.62733936e+00\n",
      "  4.26204777e+00 -5.90122032e+00  5.82605124e-01 -2.55709410e+00\n",
      " -1.64984798e+00 -2.30918007e+01 -9.81700611e+00  2.02094242e-01\n",
      " -1.83817978e+01 -1.75229621e+00 -1.22472668e+01  3.38992405e+00\n",
      " -3.41354942e+01 -2.87590828e-03  8.55224419e+00  5.62086535e+00\n",
      " -2.89422321e+01  8.73291910e-01  1.72512859e-01  5.41820347e-01\n",
      "  5.61199760e+00 -1.75672090e+00 -1.52936182e+01 -2.46585522e+01\n",
      " -1.63703334e+00 -1.01399364e+01  1.08975306e+01  1.37280202e+00\n",
      "  5.64863348e+00 -1.07731323e+01 -2.55346050e+01 -8.43223095e+00\n",
      " -3.62395058e+01 -3.03957233e+01  4.71115255e+00 -1.50936203e+01\n",
      " -2.34820194e+01 -4.98255634e+00 -6.81037569e+00  9.00636613e-01\n",
      "  1.11142960e+01  3.82886195e+00 -2.56680703e+00 -2.89894505e+01\n",
      " -1.60689220e+01 -8.38860321e+00 -4.02312469e+00  1.32187355e+00\n",
      "  9.61107635e+00  2.87028766e+00 -1.54285741e+00 -2.31042023e+01\n",
      "  6.74999189e+00 -1.94106808e+01 -1.12402582e+01 -3.40183401e+00\n",
      " -6.22533023e-01  1.30690727e+01 -2.97464905e+01 -9.38045502e+00\n",
      " -2.55691795e+01 -8.48245335e+00]' has dtype incompatible with int64, please explicitly cast to a compatible dtype first.\n",
      "  preds[val_index] = model.predict(dval_i)\n"
     ]
    },
    {
     "name": "stderr",
     "output_type": "stream",
     "text": [
      "\r",
      " 90%|███████████████████████████████████████████████████████████████████████████████████████████████████████████████████████████████████████████████████████████████████████████████████████████████████████▊                      | 9/10 [04:51<00:35, 35.07s/it]"
     ]
    },
    {
     "name": "stderr",
     "output_type": "stream",
     "text": [
      "C:\\Users\\81809\\AppData\\Local\\Temp\\ipykernel_7320\\3386215446.py:18: FutureWarning: Setting an item of incompatible dtype is deprecated and will raise an error in a future version of pandas. Value '[ 3.95071483e+00 -5.90698099e+00  2.14054508e+01  2.20345592e+00\n",
      "  4.75611353e+00 -5.06381512e+00  4.56746054e+00  2.80881286e+00\n",
      " -8.06543636e+00  1.23980987e+00 -3.38075233e+00  1.82056065e+01\n",
      "  2.71463680e+01 -2.36743855e+00  2.04936924e+01  1.74630165e+00\n",
      "  8.40285587e+00  2.49102116e+00  1.73644996e+00  2.19033480e+00\n",
      " -1.28467441e+00  1.10761070e+00  2.18119398e-02  5.05595922e+00\n",
      "  4.51609087e+00  9.47828293e+00 -4.01578367e-01  1.00547295e+01\n",
      "  2.85984921e+00  2.14956951e+01 -3.04166007e+00 -3.41775084e+00\n",
      "  5.19257069e+00  1.23205734e-03  3.34192586e+00 -1.07161462e+00\n",
      " -3.63968563e+00  8.42349052e+00  2.36334920e-01  3.62688065e-01\n",
      "  1.87493820e+01 -5.07944489e+00  2.31690526e+00 -7.85024261e+00\n",
      " -1.17563224e+00 -1.10257196e+01  1.67863255e+01  1.42087774e+01\n",
      "  5.14067793e+00  1.37549400e+00 -2.40822172e+00  6.70422649e+00\n",
      " -3.82109571e+00  4.70509005e+00  1.44105637e+00 -1.47933841e+00\n",
      "  1.10731542e+00 -3.88258958e+00  9.82743549e+00  2.44402351e+01\n",
      "  1.46038303e+01  5.42903423e+00  5.75419188e+00  1.49194689e+01\n",
      " -2.99753332e+00  3.48332191e+00 -4.16491699e+00 -2.18811274e+00\n",
      "  4.10429144e+00  5.02989388e+00 -3.61935824e-01  1.80719242e+01\n",
      "  7.83322334e+00  4.37478352e+00 -2.17676854e+00  3.74186015e+00\n",
      " -1.57045901e+00  5.50735378e+00  2.43202648e+01  2.26456022e+00\n",
      " -3.45163918e+00 -2.97743034e+00  2.28873014e+00  4.19792986e+00\n",
      "  2.70396519e+00  1.10179162e+00  1.23012981e+01  2.57267628e+01\n",
      "  6.73512459e+00  1.44660330e+01 -1.16272230e+01  1.45075488e+00\n",
      "  2.29701557e+01  4.27073050e+00  4.53224945e+00  1.22483416e+01\n",
      " -1.06311071e+00  6.26470709e+00  5.41885567e+00  1.68060923e+00\n",
      "  1.54290142e+01  8.88529301e+00  1.47928057e+01  2.54479861e+00\n",
      "  1.26207438e+01 -1.12009821e+01 -7.00059462e+00  9.64480591e+00\n",
      "  8.39900780e+00  1.54450369e+00  3.64618659e+00 -2.63369298e+00\n",
      "  4.86532545e+00  1.48426145e-01  1.91975536e+01  4.87953615e+00\n",
      "  1.99145451e+01  4.59476089e+00  2.42916417e+00 -1.53282852e+01\n",
      "  5.67359161e+00 -1.95937014e+00 -1.94964170e+00 -5.93035126e+00\n",
      "  2.77461243e+00  2.54302578e+01  3.94681644e+00  4.55570650e+00\n",
      " -5.77916050e+00  1.37138300e+01  3.28351736e+00 -9.40561295e-01\n",
      " -8.51234317e-01  3.76092863e+00  9.69157887e+00  2.20331120e+00\n",
      "  7.04752588e+00 -1.75428891e+00  1.49389191e+01 -2.96659350e-01\n",
      "  1.54143143e+00 -8.87553513e-01  2.80110025e+00 -3.26723909e+00\n",
      " -5.39380980e+00  8.10257375e-01  1.00052750e+00  1.26469958e+00\n",
      "  2.24205627e+01  1.44745369e+01  2.91905880e+00  2.83982182e+00\n",
      " -9.41055298e+00  2.10656395e+01  3.57411170e+00  3.48917294e+00\n",
      " -5.41511536e+00  1.29334223e+00  2.76361585e+00  4.94158459e+00\n",
      " -8.84201050e+00  1.42349081e+01 -5.22683477e+00  7.92391872e+00\n",
      "  2.94195690e+01 -3.56303477e+00  4.05583715e+00  3.71472621e+00\n",
      "  1.30685067e+00 -4.93269968e+00  4.13888788e+00  6.83541059e+00\n",
      " -4.22007847e+00 -4.47987223e+00  5.34429693e+00  2.03046322e+01\n",
      " -4.69049788e+00 -3.85937601e-01  1.95777397e+01  2.97778797e+00\n",
      " -3.94725418e+00  1.11327763e+01  3.96946979e+00  5.92921829e+00\n",
      "  6.30375481e+00  1.63655773e-01  2.69233084e+00 -2.85797286e+00\n",
      "  7.65875530e+00 -7.08941984e+00 -6.05870724e-01  5.19359303e+00\n",
      "  2.43320577e-02  3.86266899e+00 -3.42088819e-01  1.01775208e+01\n",
      "  2.01591873e+01  3.17159796e+00  2.35705414e+01 -2.70651460e+00\n",
      "  1.55089810e-01 -2.19550371e-01  4.77523136e+00 -1.44581985e+00\n",
      "  3.73689723e+00  1.26412668e+01  5.49472904e+00  1.06527452e+01\n",
      "  2.13712158e+01  5.97727835e-01  3.18756223e+00 -5.19275129e-01\n",
      "  6.81864798e-01  1.60002708e+01  4.79534817e+00  4.15926695e+00\n",
      "  4.81267977e+00  3.72118664e+00 -8.37534145e-02  3.92012215e+00\n",
      "  3.41276169e+00  2.09648728e+00  2.05350513e+01  1.09389668e+01\n",
      "  2.54369068e+00  1.41052599e+01  4.15758276e+00  2.49783154e+01\n",
      " -1.26899838e+00  3.40524107e-01  6.96515226e+00  1.07501955e+01\n",
      " -1.15219793e+01 -8.59704554e-01  1.17565422e+01  6.84270239e+00\n",
      "  3.19986267e+01  2.71913548e+01  5.60514545e+00  1.89120903e+01\n",
      "  2.63201675e+01  1.25770350e+01  7.55496550e+00 -1.70883417e+00\n",
      " -7.62436867e+00 -8.60519505e+00 -7.57219172e+00  2.58658562e+01\n",
      " -2.81704974e+00  4.81577682e+00  4.07163849e+01  8.21337605e+00\n",
      "  2.78746843e+00  1.95239048e+01  1.24002924e+01 -7.71686792e-01\n",
      " -2.61379790e+00 -1.45716467e+01  1.42142239e+01  1.62650471e+01\n",
      "  1.30671883e+01  6.42753410e+00  9.81367493e+00  3.50994263e+01\n",
      " -8.27219677e+00  2.19875507e+01 -2.42210903e+01  8.02802658e+00\n",
      "  9.78818989e+00  3.02946987e+01  1.81545429e+01  2.87119675e+01\n",
      "  1.22408562e+01  2.54132633e+01  4.47309971e+00  7.97886229e+00\n",
      "  1.30367002e+01  3.38584633e+01  3.38666801e+01 -1.22763954e-01\n",
      "  9.91880417e+00  7.76369333e+00 -1.42072356e+00  1.57505150e+01\n",
      "  1.78483486e+01  8.64651680e+00  3.46777802e+01  7.93941689e+00\n",
      " -4.84343243e+00  5.01883388e-01  6.11291409e-01 -3.42162418e+00\n",
      "  9.24892807e+00  1.66021023e+01  7.15204191e+00 -8.98365974e+00\n",
      "  1.94185162e+01  7.77933359e+00  6.19247103e+00  2.40796566e+01\n",
      "  9.95611572e+00  3.15648270e+01  3.01276150e+01  4.41476971e-01\n",
      "  3.68261070e+01 -1.03529382e+00  1.23631678e+01  1.69283257e+01\n",
      "  2.59602871e+01  3.02973614e+01 -2.38573837e+01  3.88144112e+01\n",
      "  7.73584938e+00  4.14277315e+00  2.35525246e+01 -1.66794881e-01\n",
      "  1.88973484e+01  1.67770615e+01  1.78068125e+00  3.33767700e+00\n",
      "  1.48481836e+01 -1.70921268e+01  1.50623932e+01  5.54772663e+00\n",
      " -1.60532970e+01 -5.69627762e+00 -4.83454943e+00 -1.92656021e+01\n",
      "  2.94910336e+00 -2.24119682e+01 -2.27742290e+00 -7.76611090e+00\n",
      " -6.82136345e+00 -7.39314175e+00 -6.59906101e+00 -4.88964748e+00\n",
      "  1.98688805e-01 -1.08686459e+00 -2.20193787e+01 -2.39409313e+01\n",
      " -3.95692968e+00 -7.32181549e-01 -5.01167631e+00 -5.27355289e+00\n",
      " -4.91117191e+00  1.05673475e+01 -6.56215477e+00 -1.00640416e+00\n",
      "  1.59782732e+00 -8.18101883e+00 -1.39551477e+01  4.22319984e+00\n",
      " -1.19543743e+01 -1.38433895e+01 -4.91492331e-01 -7.49640083e+00\n",
      " -1.80031357e+01  6.41590929e+00  4.21754789e+00 -4.38934708e+00\n",
      " -3.42830396e+00  4.77409983e+00 -6.77130032e+00 -1.01859560e+01\n",
      " -5.22813511e+00 -8.43777084e+00 -7.31276393e-01 -1.08906469e+01\n",
      "  6.77567387e+00 -2.07501869e+01  2.10805464e+00 -5.88372278e+00\n",
      " -1.63270683e+01 -2.42574120e+01 -8.91602612e+00 -8.00099373e+00\n",
      " -4.28215885e+00  2.50047684e+00  1.75170147e+00 -2.68978748e+01\n",
      "  1.98481703e+00 -2.55318108e+01  6.68188930e-01 -2.54921608e+01\n",
      " -2.11542320e+00 -5.88680983e+00 -1.15508013e+01 -7.39266491e+00\n",
      " -7.40169621e+00 -1.77209795e+00 -3.71902847e+00 -7.60574150e+00\n",
      " -5.03005123e+00 -2.45853043e+00 -8.32251167e+00 -7.88076544e+00\n",
      " -1.22884464e+01 -1.55592365e+01  3.76652741e+00 -4.92928362e+00\n",
      " -2.15390158e+00 -4.42239523e+00 -5.24000120e+00  9.47313681e-02\n",
      "  1.21762443e+00 -1.98385391e+01 -6.34642124e-01 -1.17540789e+01\n",
      " -8.38078785e+00  6.92573428e-01 -3.69656539e+00 -1.05248375e+01\n",
      "  4.80450726e+00  2.90342879e+00 -6.46511030e+00 -1.47348082e+00\n",
      " -2.56018906e+01  2.88370538e+00 -2.03891525e+01  3.12991619e+00\n",
      " -2.80122223e+01 -8.85760307e+00 -1.59697933e+01 -5.99701023e+00\n",
      " -1.83515339e+01 -2.56436515e+00  2.37261200e+00 -5.30328798e+00\n",
      "  2.79835892e+00 -1.63753521e+00 -2.10769391e+00 -7.96594143e-01\n",
      " -1.35023963e+00 -9.88034904e-01  6.04408264e+00 -4.98406172e+00\n",
      " -1.04437475e+01 -7.08649254e+00  5.71788740e+00  2.77694750e+00\n",
      " -6.48802185e+00 -6.23787880e+00 -4.57691240e+00  1.91621265e+01\n",
      "  1.51378274e+00 -1.40209758e+00 -1.24468346e+01 -4.39225864e+00\n",
      "  4.06074190e+00 -3.47874045e+00 -1.01865520e+01 -5.42646837e+00\n",
      "  3.58944750e+00 -2.20975380e+01 -7.35052633e+00 -1.22456360e+01\n",
      " -5.59080076e+00 -3.86428690e+00 -2.26613827e+01  1.75663039e-01\n",
      " -8.90091228e+00 -8.61736965e+00 -5.76347542e+00  1.36182261e+00\n",
      " -1.19056826e+01 -9.21752378e-02 -6.57215500e+00 -3.17874575e+00\n",
      "  1.63344300e+00  2.29432154e+00  5.49853516e+00 -4.31743479e+00\n",
      " -6.51910400e+00 -1.75480843e+01 -1.76334929e+00 -2.39094663e+00\n",
      " -2.15105081e+00  7.60273075e+00  2.01315331e+00  5.62848759e+00\n",
      "  1.97845101e+00 -2.55089211e+00  1.09025135e+01 -6.81389451e-01\n",
      " -9.00097668e-01 -4.35357618e+00  3.05162698e-01 -3.67763257e+00\n",
      " -3.75880885e+00 -3.67622995e+00 -2.72733474e+00  3.98212731e-01\n",
      " -8.98471260e+00 -1.51035118e+00 -6.64624119e+00  2.01950908e+00\n",
      " -3.95431209e+00  1.70483208e+00 -2.45953808e+01 -7.50767529e-01\n",
      "  3.17896104e+00 -5.99304152e+00 -9.65228271e+00 -3.63784266e+00\n",
      " -4.49892426e+00 -1.55405719e-02 -5.13246536e+00  6.95971668e-01\n",
      " -6.79334688e+00  2.49539375e+00  4.02468348e+00 -2.04525032e+01\n",
      " -1.02376575e+01 -2.78533554e+01 -6.26503587e-01 -4.92256308e+00\n",
      " -3.26663232e+00 -2.42112732e+01 -8.06550217e+00 -8.62887001e+00\n",
      " -1.96087418e+01  7.05522490e+00  7.84350443e+00 -3.52974683e-02\n",
      "  7.84830153e-02  5.81805134e+00 -1.20045891e+01  2.23040080e+00\n",
      " -1.97431207e+00 -1.02274780e+01 -1.04034004e+01 -9.28941131e-01\n",
      " -2.33940201e+01 -2.08357334e+01 -1.73418026e+01 -5.24114799e+00\n",
      " -4.39587021e+00  5.41177034e+00 -1.26525803e+01 -1.93870239e+01\n",
      " -3.21442223e+01 -2.67732258e+01 -6.93344641e+00 -3.65218973e+00\n",
      "  4.04663754e+00 -7.47193336e+00 -2.26055794e+01  7.44424105e+00\n",
      " -2.90028915e+01  4.47985500e-01 -2.51221981e+01 -4.25685692e+00\n",
      " -3.84653549e+01 -1.26024561e+01  4.77958536e+00 -4.08425140e+01\n",
      "  2.26562381e+00  3.48752826e-01 -3.89846396e+00 -2.36890392e+01\n",
      " -3.49873328e+00 -2.63555717e+01  7.56289721e+00 -2.86380653e+01\n",
      " -4.24233389e+00 -2.91062999e+00 -3.40314941e+01 -2.49061813e+01\n",
      " -5.17799187e+00  7.80237615e-02 -9.21605682e+00 -6.85070181e+00\n",
      " -2.11157970e+01  6.10052681e+00 -7.56074190e+00  2.12308621e+00\n",
      " -1.39592485e+01 -5.79256475e-01 -1.61076736e+00  2.57809186e+00\n",
      "  1.48878598e+00 -2.41592097e+00 -1.57296391e+01  1.02178681e+00\n",
      " -2.65784621e+00 -1.17377834e+01 -1.63889294e+01 -1.11993065e+01\n",
      "  6.33492804e+00 -7.76690149e+00 -2.64512215e+01  8.33079052e+00\n",
      " -7.38395071e+00 -1.21022902e+01  3.13435507e+00 -1.13568583e+01\n",
      " -1.36423531e+01 -3.74578781e+01 -8.45762730e+00 -2.37633457e+01\n",
      " -1.40250864e+01 -1.22529340e+00 -1.54224265e+00  4.75059366e+00\n",
      " -2.95100899e+01 -1.26914740e+01 -6.90417099e+00 -2.71380386e+01\n",
      " -5.08549919e+01  3.52834034e+00  9.30910587e-01 -1.99960842e+01\n",
      " -1.42895353e+00 -9.76700211e+00 -3.53794899e+01 -3.46574950e+00\n",
      "  1.73298779e+01  6.73011589e+00 -1.17223644e+01 -1.05342627e+01\n",
      " -2.98969269e+01 -2.76502609e+01  5.76450872e+00 -1.09292736e+01\n",
      "  1.75973821e+00  7.41102266e+00 -1.99828644e+01 -6.74128723e+00\n",
      "  8.57323468e-01 -8.56955051e+00 -2.68873978e+01 -2.90425301e+01\n",
      " -9.04406071e+00  6.35723925e+00  2.73768020e+00 -9.25446892e+00\n",
      "  1.71394897e+00 -9.26109886e+00 -2.23772621e+01 -1.50817747e+01\n",
      " -1.20350962e+01 -1.73473549e+00 -2.63054981e+01 -2.73381195e+01\n",
      " -2.06843281e+01 -5.47266722e-01]' has dtype incompatible with int64, please explicitly cast to a compatible dtype first.\n",
      "  preds[val_index] = model.predict(dval_i)\n"
     ]
    },
    {
     "name": "stderr",
     "output_type": "stream",
     "text": [
      "\r",
      "100%|█████████████████████████████████████████████████████████████████████████████████████████████████████████████████████████████████████████████████████████████████████████████████████████████████████████████████████████████| 10/10 [05:32<00:00, 37.06s/it]"
     ]
    },
    {
     "name": "stderr",
     "output_type": "stream",
     "text": [
      "\r",
      "100%|█████████████████████████████████████████████████████████████████████████████████████████████████████████████████████████████████████████████████████████████████████████████████████████████████████████████████████████████| 10/10 [05:32<00:00, 33.27s/it]"
     ]
    },
    {
     "name": "stdout",
     "output_type": "stream",
     "text": [
      "OOF predictions complete\n"
     ]
    },
    {
     "name": "stderr",
     "output_type": "stream",
     "text": [
      "\n"
     ]
    }
   ],
   "source": [
    "# OOF予測\n",
    "oof_preds = []\n",
    "for i in tqdm(range(repeat_cv), leave=True, dynamic_ncols=True):\n",
    "    # 初期はターゲットの値で初期化（後で上書き）\n",
    "    preds = y.copy()\n",
    "    # 各 repeater 毎に独自の KFold を用いる（random_state = i）\n",
    "    kfold = KFold(n_splits=folds_splits, shuffle=True, random_state=i)    \n",
    "    for train_index, val_index in kfold.split(X, y):\n",
    "        dtrain_i = xgb.DMatrix(X.iloc[train_index], label=y.iloc[train_index])\n",
    "        dval_i   = xgb.DMatrix(X.iloc[val_index], label=y.iloc[val_index])\n",
    "\n",
    "        model = xgb.train(\n",
    "            params=param,\n",
    "            dtrain=dtrain_i,\n",
    "            num_boost_round=iteration_counts[i],\n",
    "            verbose_eval=50\n",
    "        )\n",
    "        preds[val_index] = model.predict(dval_i)\n",
    "    # 予測値を -30 ～ 30 にクリップ\n",
    "    oof_preds.append(np.clip(preds, -30, 30))\n",
    "\n",
    "print(\"OOF predictions complete\")"
   ]
  },
  {
   "cell_type": "code",
   "execution_count": 24,
   "id": "d31f9a5b",
   "metadata": {
    "execution": {
     "iopub.execute_input": "2025-03-14T06:38:53.206692Z",
     "iopub.status.busy": "2025-03-14T06:38:53.205692Z",
     "iopub.status.idle": "2025-03-14T06:38:53.479585Z",
     "shell.execute_reply": "2025-03-14T06:38:53.479076Z"
    },
    "papermill": {
     "duration": 0.314782,
     "end_time": "2025-03-14T06:38:53.481614",
     "exception": false,
     "start_time": "2025-03-14T06:38:53.166832",
     "status": "completed"
    },
    "tags": []
   },
   "outputs": [
    {
     "data": {
      "text/plain": [
       "<Axes: >"
      ]
     },
     "execution_count": 24,
     "metadata": {},
     "output_type": "execute_result"
    },
    {
     "data": {
      "image/png": "[encoded data removed]",
      "text/plain": [
       "<Figure size 640x480 with 1 Axes>"
      ]
     },
     "metadata": {},
     "output_type": "display_data"
    }
   ],
   "source": [
    "oof_preds[0].hist()"
   ]
  },
  {
   "cell_type": "code",
   "execution_count": 25,
   "id": "ee467c83",
   "metadata": {
    "execution": {
     "iopub.execute_input": "2025-03-14T06:38:53.547688Z",
     "iopub.status.busy": "2025-03-14T06:38:53.547688Z",
     "iopub.status.idle": "2025-03-14T06:38:53.617004Z",
     "shell.execute_reply": "2025-03-14T06:38:53.615962Z"
    },
    "papermill": {
     "duration": 0.098911,
     "end_time": "2025-03-14T06:38:53.618998",
     "exception": false,
     "start_time": "2025-03-14T06:38:53.520087",
     "status": "completed"
    },
    "tags": []
   },
   "outputs": [],
   "source": [
    "### simple spline, seed(1, 16)~(4, 13)は強制的にfiltaring,  \n",
    "### seed値に対応して予測スコアも同じ大小関係なら1or0に変換の3モデル\n",
    "def cal_logloss(pred_vals, y, i):\n",
    "    y_binary = np.where(y > 0, 1, 0)\n",
    "    loss = log_loss(y_binary, pred_vals)\n",
    "    print(f\"logloss of cvsplit {i}: {loss:.4f}\")\n",
    "\n",
    "\n",
    "    results.append(f\"Normal Spline - logloss of cvsplit {i}: {loss:.4f}\")\n",
    "    return loss\n",
    "\n",
    "#simple spline\n",
    "def make_normal_spline(df, y, repeat_cv):\n",
    "    spline_model1 = []\n",
    "    logloss_normal = []\n",
    "    \n",
    "    for i in range(repeat_cv):\n",
    "        dat = list(zip(df[i], np.where(y>0, 1, 0)))\n",
    "        dat = sorted(dat, key=lambda x:x[0])\n",
    "        datdict = {}\n",
    "        for k in range(len(dat)):\n",
    "            datdict[dat[k][0]] = dat[k][1]\n",
    "        \n",
    "        spline_model1.append(UnivariateSpline(list(datdict.keys()), list(datdict.values())))\n",
    "        spline_fit = spline_model1[i](df[i])\n",
    "        \n",
    "        loss = cal_logloss(spline_fit, y, i)    \n",
    "        logloss_normal.append(loss)\n",
    "\n",
    "    plot_df = pd.DataFrame({\n",
    "        \"pred\": df[0],\n",
    "        \"label\": np.where(y>0,1,0),\n",
    "        \"spline\": spline_model1[0](df[0])\n",
    "    })\n",
    "    plot_df[\"pred_int\"] = plot_df[\"pred\"].astype(int)\n",
    "    plot_df = plot_df.groupby('pred_int')[['spline','label']].mean().reset_index()\n",
    "    \n",
    "    plt.figure(figsize=(8, 5))\n",
    "    plt.plot(plot_df.pred_int, plot_df.label, marker='o', linestyle='-', label=\"True Label\")\n",
    "    plt.plot(plot_df.pred_int, plot_df.spline, marker='x', linestyle='--', label=\"Spline Approximation\")\n",
    "    plt.xlabel(\"Predicted Value (Integer)\")\n",
    "    plt.ylabel(\"Mean Value\")\n",
    "    plt.title(\"Normal Spline Fit Comparison\")\n",
    "    plt.legend()\n",
    "    plt.grid(True)\n",
    "    plt.savefig(os.path.join(OUTPUT_PATH, f\"normal_spline_fit_{PREDICT_YEAR}.png\"))\n",
    "    plt.close()\n",
    "    \n",
    "    \n",
    "    # 例として平均loglossもresultsに記録\n",
    "    avg_logloss = np.mean(logloss_normal) \n",
    "    results.append(f\"Average Normal Spline logloss: {avg_logloss:.4f}\" if avg_logloss is not None else \"No logloss computed\")\n",
    "    \n",
    "    return spline_model1\n",
    "            \n",
    "            \n",
    "#seed(1, 16)~(4, 13)は強制的にseed通りの結果にフィルタリング\n",
    "def make_seed1to4_chenge(df, y, repeat_cv):\n",
    "    spline_model2 = []\n",
    "    spline_fits = []\n",
    "    for i in range(repeat_cv):\n",
    "        dat = list(zip(df[i], np.where(y>0, 1, 0)))\n",
    "        dat = sorted(dat, key=lambda x:x[0])\n",
    "        datdict = {}\n",
    "        for k in range(len(dat)):\n",
    "            datdict[dat[k][0]] = dat[k][1]\n",
    "        \n",
    "        spline_model2.append(UnivariateSpline(list(datdict.keys()), list(datdict.values())))\n",
    "        spline_fit = spline_model2[i](df[i]) \n",
    "        \n",
    "        #add\n",
    "        spline_fit[(X.T1_seed==1) & (X.T2_seed==16)] = 1.0\n",
    "        spline_fit[(X.T1_seed==2) & (X.T2_seed==15)] = 0.9\n",
    "        spline_fit[(X.T1_seed==3) & (X.T2_seed==14)] = 0.8\n",
    "        spline_fit[(X.T1_seed==4) & (X.T2_seed==13)] = 0.7\n",
    "        spline_fit[(X.T1_seed==16) & (X.T2_seed==1)] = 0.0\n",
    "        spline_fit[(X.T1_seed==15) & (X.T2_seed==2)] = 0.1\n",
    "        spline_fit[(X.T1_seed==14) & (X.T2_seed==3)] = 0.2\n",
    "        spline_fit[(X.T1_seed==13) & (X.T2_seed==4)] = 0.3\n",
    "\n",
    "    \n",
    "        cal_logloss(spline_fit, y, i)   \n",
    "                \n",
    "        spline_fits.append(spline_fit)\n",
    "        cal_logloss(spline_fit, y, i)   \n",
    "                \n",
    "    \n",
    "    plot_df = pd.DataFrame({\n",
    "        \"pred\": df[0],\n",
    "        \"label\": np.where(y > 0, 1, 0),\n",
    "        \"spline\": spline_fits[0]  # 変更後の値を利用\n",
    "    })\n",
    "    plot_df[\"pred_int\"] = plot_df[\"pred\"].astype(int)\n",
    "    plot_df = plot_df.groupby(\"pred_int\")[[\"spline\", \"label\"]].mean().reset_index()\n",
    "\n",
    "    plt.figure()\n",
    "    plt.plot(plot_df.pred_int, plot_df.label, label=\"label\")\n",
    "    plt.plot(plot_df.pred_int, plot_df.spline, label=\"spline\")\n",
    "    plt.legend()\n",
    "    plt.show()\n",
    "    \n",
    "    return spline_model2\n",
    "    \n",
    "    \n",
    "#完全に値変換するのではなくてseed値に対応して予測スコアも同じ大小関係なら1or0に変換\n",
    "def make_seed1to4_base_on_score(df, y, repeat_cv):\n",
    "    spline_model3 = []\n",
    "    spline_fits = []\n",
    "\n",
    "    for i in range(repeat_cv):\n",
    "        dat = list(zip(df[i], np.where(y>0, 1, 0)))\n",
    "        dat = sorted(dat, key=lambda x:x[0])\n",
    "        datdict = {}\n",
    "        for k in range(len(dat)):\n",
    "            datdict[dat[k][0]] = dat[k][1]\n",
    "        \n",
    "        spline_model3.append(UnivariateSpline(list(datdict.keys()), list(datdict.values())))\n",
    "        spline_fit = spline_model3[i](df[i]) \n",
    "        \n",
    "        #add\n",
    "        spline_fit[(X.T1_seed==1) & (X.T2_seed==16) & (X.T1_Score > X.T2_Score)] = 1.0\n",
    "        spline_fit[(X.T1_seed==2) & (X.T2_seed==15) & (X.T1_Score > X.T2_Score)] = 1.0\n",
    "        spline_fit[(X.T1_seed==3) & (X.T2_seed==14) & (X.T1_Score > X.T2_Score)] = 1.0\n",
    "        spline_fit[(X.T1_seed==4) & (X.T2_seed==13) & (X.T1_Score > X.T2_Score)] = 1.0\n",
    "        spline_fit[(X.T1_seed==16) & (X.T2_seed==1) & (X.T1_Score < X.T2_Score)] = 0.0\n",
    "        spline_fit[(X.T1_seed==15) & (X.T2_seed==2) & (X.T1_Score < X.T2_Score)] = 0.0\n",
    "        spline_fit[(X.T1_seed==14) & (X.T2_seed==3) & (X.T1_Score < X.T2_Score)] = 0.0\n",
    "        spline_fit[(X.T1_seed==13) & (X.T2_seed==4) & (X.T1_Score < X.T2_Score)] = 0.0\n",
    "\n",
    "        spline_fits.append(spline_fit)\n",
    "        cal_logloss(spline_fit, y, i)   \n",
    "    \n",
    "    \n",
    "    plot_df = pd.DataFrame({\n",
    "        \"pred\": df[0],\n",
    "        \"label\": np.where(y > 0, 1, 0),\n",
    "        \"spline\": spline_fits[0]  # 変更後の値を利用\n",
    "    })\n",
    "    plot_df[\"pred_int\"] = plot_df[\"pred\"].astype(int)\n",
    "    plot_df = plot_df.groupby(\"pred_int\")[[\"spline\", \"label\"]].mean().reset_index()\n",
    "\n",
    "    plt.figure()\n",
    "    plt.plot(plot_df.pred_int, plot_df.label, label=\"label\")\n",
    "    plt.plot(plot_df.pred_int, plot_df.spline, label=\"spline\")\n",
    "    plt.legend()\n",
    "    plt.show()\n",
    "    return spline_model3\n",
    "\n",
    "\n",
    "\n",
    "# Platt Scalingを用いた補正曲線生成の関数 (ロジスティック回帰)\n",
    "def make_platt_scaling(df, y, repeat_cv):\n",
    "    platt_models = []\n",
    "    logloss_platt = []\n",
    "    \n",
    "    for i in range(repeat_cv):\n",
    "        X_train = np.array(df[i]).reshape(-1, 1)\n",
    "        y_binary = np.where(y > 0, 1, 0)\n",
    "        \n",
    "        model = LogisticRegression(random_state=42, solver='lbfgs')\n",
    "        model.fit(X_train, y_binary)\n",
    "        platt_models.append(model)\n",
    "        \n",
    "\n",
    "        platt_fit = model.predict_proba(X_train)[:, 1]\n",
    "        loss = cal_logloss(platt_fit, y, i)\n",
    "        logloss_platt.append(loss)\n",
    "    \n",
    "    \n",
    "    ###\n",
    "    plot_df = pd.DataFrame({\n",
    "        \"pred\": df[0],\n",
    "        \"label\": np.where(y > 0, 1, 0),\n",
    "        \"platt\": platt_models[0].predict_proba(np.array(df[0]).reshape(-1, 1))[:, 1]\n",
    "    })\n",
    "    plot_df[\"pred_int\"] = plot_df[\"pred\"].astype(int)\n",
    "    plot_df = plot_df.groupby(\"pred_int\")[[\"platt\", \"label\"]].mean().reset_index()\n",
    "    \n",
    "    plt.figure(figsize=(8, 5))\n",
    "    plt.plot(plot_df.pred_int, plot_df.label, marker='o', linestyle='-', label=\"True Label\")\n",
    "    plt.plot(plot_df.pred_int, plot_df.platt, marker='x', linestyle='--', label=\"Platt Scaling\")\n",
    "    plt.xlabel(\"Predicted Value (Integer)\")\n",
    "    plt.ylabel(\"Mean Value\")\n",
    "    plt.title(\"Platt Scaling Calibration Curve\")\n",
    "    plt.legend()\n",
    "    plt.grid(True)\n",
    "    plt.savefig(os.path.join(OUTPUT_PATH, f\"platt_scaling_fit_{PREDICT_YEAR}.png\"))\n",
    "    plt.close()\n",
    "    \n",
    "    avg_logloss = np.mean(logloss_platt)\n",
    "    results.append(f\"Average Platt Scaling logloss: {avg_logloss:.4f}\" if avg_logloss is not None else \"No logloss computed\")\n",
    "    \n",
    "    return platt_models\n",
    "\n",
    "def make_isotonic_regression(df, y, repeat_cv):\n",
    "    \"\"\" Isotonic Regression を用いた補正曲線生成 \"\"\"\n",
    "    isotonic_models = []\n",
    "    logloss_isotonic = []\n",
    "    \n",
    "    for i in range(repeat_cv):\n",
    "        X_train = np.array(df[i]).reshape(-1, 1)\n",
    "        y_binary = np.where(y > 0, 1, 0)\n",
    "        \n",
    "        model = IsotonicRegression(out_of_bounds=\"clip\")\n",
    "        model.fit(X_train.ravel(), y_binary)\n",
    "        isotonic_models.append(model)\n",
    "        \n",
    "        isotonic_fit = model.predict(X_train.ravel())\n",
    "        loss = cal_logloss(isotonic_fit, y, i)\n",
    "        logloss_isotonic.append(loss)\n",
    "    \n",
    "    plot_df = pd.DataFrame({\n",
    "        \"pred\": df[0],\n",
    "        \"label\": np.where(y > 0, 1, 0),\n",
    "        \"isotonic\": isotonic_models[0].predict(np.array(df[0]).reshape(-1, 1))\n",
    "    })\n",
    "    plot_df[\"pred_int\"] = plot_df[\"pred\"].astype(int)\n",
    "    plot_df = plot_df.groupby(\"pred_int\")[[\"isotonic\", \"label\"]].mean().reset_index()\n",
    "    \n",
    "    plt.figure(figsize=(8, 5))\n",
    "    plt.plot(plot_df.pred_int, plot_df.label, marker='o', linestyle='-', label=\"True Label\")\n",
    "    plt.plot(plot_df.pred_int, plot_df.isotonic, marker='x', linestyle='--', label=\"Isotonic Regression\")\n",
    "    plt.xlabel(\"Predicted Value (Integer)\")\n",
    "    plt.ylabel(\"Mean Value\")\n",
    "    plt.title(\"Isotonic Regression Calibration Curve\")\n",
    "    plt.legend()\n",
    "    plt.grid(True)\n",
    "    plt.savefig(os.path.join(OUTPUT_PATH, f\"isotonic_regression_fit_{PREDICT_YEAR}.png\"))\n",
    "    plt.close()\n",
    "    \n",
    "    avg_logloss = np.mean(logloss_isotonic)\n",
    "    results.append(f\"Average Isotonic Regression logloss: {avg_logloss:.4f}\" if avg_logloss is not None else \"No logloss computed\")\n",
    "    \n",
    "    return isotonic_models\n",
    "\n"
   ]
  },
  {
   "cell_type": "code",
   "execution_count": 26,
   "id": "12724f41",
   "metadata": {
    "execution": {
     "iopub.execute_input": "2025-03-14T06:38:53.719283Z",
     "iopub.status.busy": "2025-03-14T06:38:53.718234Z",
     "iopub.status.idle": "2025-03-14T06:38:53.732265Z",
     "shell.execute_reply": "2025-03-14T06:38:53.730190Z"
    },
    "papermill": {
     "duration": 0.067012,
     "end_time": "2025-03-14T06:38:53.735259",
     "exception": false,
     "start_time": "2025-03-14T06:38:53.668247",
     "status": "completed"
    },
    "tags": []
   },
   "outputs": [],
   "source": [
    "# キャリブレーションカーブの描画関数\n",
    "def plot_calibration_curve(y_true, y_pred_proba, method, save_path):\n",
    "    \"\"\" キャリブレーションカーブをプロットし保存 \"\"\"\n",
    "    y_binary = np.where(y_true > 0, 1, 0) \n",
    "    prob_true, prob_pred = calibration_curve(y_binary, y_pred_proba, n_bins=10)\n",
    "    \n",
    "    plt.figure(figsize=(6,6))\n",
    "    plt.plot(prob_pred, prob_true, marker=\"o\", label=f\"{method} Calibration\")\n",
    "    plt.plot([0, 1], [0, 1], linestyle=\"--\", label=\"Perfect Calibration\")\n",
    "    plt.xlabel(\"Predicted Probability\")\n",
    "    plt.ylabel(\"Actual Probability\")\n",
    "    plt.legend()\n",
    "    plt.title(f\"{method} Calibration Curve\")\n",
    "    plt.grid()\n",
    "    plt.savefig(save_path)\n",
    "    plt.close()\n",
    "\n"
   ]
  },
  {
   "cell_type": "code",
   "execution_count": 27,
   "id": "87ad3ef9",
   "metadata": {
    "execution": {
     "iopub.execute_input": "2025-03-14T06:38:53.848118Z",
     "iopub.status.busy": "2025-03-14T06:38:53.848118Z",
     "iopub.status.idle": "2025-03-14T06:38:54.561698Z",
     "shell.execute_reply": "2025-03-14T06:38:54.560232Z"
    },
    "papermill": {
     "duration": 0.773299,
     "end_time": "2025-03-14T06:38:54.563799",
     "exception": false,
     "start_time": "2025-03-14T06:38:53.790500",
     "status": "completed"
    },
    "tags": []
   },
   "outputs": [
    {
     "name": "stdout",
     "output_type": "stream",
     "text": [
      "logloss of cvsplit 0: 0.5086\n",
      "logloss of cvsplit 1: 0.5059\n",
      "logloss of cvsplit 2: 0.5054\n",
      "logloss of cvsplit 3: 0.5031\n",
      "logloss of cvsplit 4: 0.5059\n",
      "logloss of cvsplit 5: 0.5049\n",
      "logloss of cvsplit 6: 0.5058\n",
      "logloss of cvsplit 7: 0.5084\n",
      "logloss of cvsplit 8: 0.5064\n",
      "logloss of cvsplit 9: 0.5049\n"
     ]
    }
   ],
   "source": [
    "# キャリブレーション手法の選択\n",
    "spline = MODEL.spline\n",
    "if spline == \"spline_normal\":\n",
    "    spline_model = make_normal_spline(oof_preds, y, repeat_cv)\n",
    "    calibrated_preds = spline_model[0](oof_preds[0])\n",
    "    plot_calibration_curve(y, calibrated_preds, \"Spline Normal\", os.path.join(OUTPUT_PATH, f\"spline_normal_calibration_{PREDICT_YEAR}.png\"))\n",
    "    \n",
    "elif spline == \"logistic\":\n",
    "    spline_model = make_platt_scaling(oof_preds, y, repeat_cv)\n",
    "    calibrated_preds = spline_model[0].predict_proba(np.array(oof_preds[0]).reshape(-1, 1))[:, 1]\n",
    "    plot_calibration_curve(y, calibrated_preds, \"Platt Scaling\", os.path.join(OUTPUT_PATH, f\"platt_scaling_calibration_{PREDICT_YEAR}.png\"))\n",
    "    \n",
    "elif spline == \"isotonic\":\n",
    "    spline_model = make_isotonic_regression(oof_preds, y, repeat_cv)\n",
    "    calibrated_preds = spline_model[0].predict(np.array(oof_preds[0]).reshape(-1, 1))\n",
    "    plot_calibration_curve(y, calibrated_preds, \"Isotonic Regression\", os.path.join(OUTPUT_PATH, f\"isotonic_regression_calibration_{PREDICT_YEAR}.png\"))"
   ]
  },
  {
   "cell_type": "markdown",
   "id": "9bb6d88c",
   "metadata": {
    "papermill": {
     "duration": 0.040496,
     "end_time": "2025-03-14T06:38:54.643490",
     "exception": false,
     "start_time": "2025-03-14T06:38:54.602994",
     "status": "completed"
    },
    "tags": []
   },
   "source": [
    "# submmit\n",
    "\n",
    "同じfeature engineeringする.\n",
    "\n",
    "個々の扱うも考える。2025は最終提出用の関数を用意する、その他2024以前は過去コンペでの提出形式に合わせる、でも年度によって提出形式が変わるからとりあえず2023でやる"
   ]
  },
  {
   "cell_type": "code",
   "execution_count": 28,
   "id": "2a761256",
   "metadata": {
    "execution": {
     "iopub.execute_input": "2025-03-14T06:38:54.761733Z",
     "iopub.status.busy": "2025-03-14T06:38:54.761097Z",
     "iopub.status.idle": "2025-03-14T06:38:54.771505Z",
     "shell.execute_reply": "2025-03-14T06:38:54.770494Z"
    },
    "papermill": {
     "duration": 0.073181,
     "end_time": "2025-03-14T06:38:54.773509",
     "exception": false,
     "start_time": "2025-03-14T06:38:54.700328",
     "status": "completed"
    },
    "tags": []
   },
   "outputs": [
    {
     "data": {
      "text/plain": [
       "'if PREDICT_YEAR==2022:\\n    sub = pd.read_csv(os.path.join(INPUT_PATH, \"SampleSubmission2022M.csv\"))\\n    sub[\\'Season\\'] = sub[\\'ID\\'].apply(lambda x: int(x.split(\\'_\\')[0]))\\n    sub[\"T1_TeamID\"] = sub[\\'ID\\'].apply(lambda x: int(x.split(\\'_\\')[1]))\\n    sub[\"T2_TeamID\"] = sub[\\'ID\\'].apply(lambda x: int(x.split(\\'_\\')[2]))\\n    sub_X, a = process_tourney(sub, mode = \"sub\")\\n    dtest = xgb.DMatrix(sub_X)\\nelif PREDICT_YEAR==2023:\\n    sub = pd.read_csv(os.path.join(INPUT_PATH, \"SampleSubmission2023.csv\"))\\n    sub[\\'Season\\'] = sub[\\'ID\\'].apply(lambda x: int(x.split(\\'_\\')[0]))\\n    sub[\"T1_TeamID\"] = sub[\\'ID\\'].apply(lambda x: int(x.split(\\'_\\')[1]))\\n    sub[\"T2_TeamID\"] = sub[\\'ID\\'].apply(lambda x: int(x.split(\\'_\\')[2]))\\n    sub_X, a = process_tourney(sub, mode = \"sub\")\\n    dtest = xgb.DMatrix(sub_X)\\nelif PREDICT_YEAR==2024:\\n    sub = pd.read_csv(os.path.join(INPUT_PATH, \"SampleSubmission2024.csv\"))\\n    sub[\\'Season\\'] = sub[\\'ID\\'].apply(lambda x: int(x.split(\\'_\\')[0]))\\n    sub[\"T1_TeamID\"] = sub[\\'ID\\'].apply(lambda x: int(x.split(\\'_\\')[1]))\\n    sub[\"T2_TeamID\"] = sub[\\'ID\\'].apply(lambda x: int(x.split(\\'_\\')[2]))\\n    sub_X, a = process_tourney(sub, mode = \"sub\")\\n    dtest = xgb.DMatrix(sub_X)\\nelif PREDICT_YEAR==2025:\\n    sub = pd.read_csv(os.path.join(INPUT_PATH, \"SampleSubmissionStage2.csv\"))\\n    sub[\\'Season\\'] = sub[\\'ID\\'].apply(lambda x: int(x.split(\\'_\\')[0]))\\n    sub[\"T1_TeamID\"] = sub[\\'ID\\'].apply(lambda x: int(x.split(\\'_\\')[1]))\\n    sub[\"T2_TeamID\"] = sub[\\'ID\\'].apply(lambda x: int(x.split(\\'_\\')[2]))   \\n    sub_X, a = process_tourney(sub, mode = \"sub\")\\n    dtest = xgb.DMatrix(sub_X)'"
      ]
     },
     "execution_count": 28,
     "metadata": {},
     "output_type": "execute_result"
    }
   ],
   "source": [
    "\"\"\"if PREDICT_YEAR==2022:\n",
    "    sub = pd.read_csv(os.path.join(INPUT_PATH, \"SampleSubmission2022M.csv\"))\n",
    "    sub['Season'] = sub['ID'].apply(lambda x: int(x.split('_')[0]))\n",
    "    sub[\"T1_TeamID\"] = sub['ID'].apply(lambda x: int(x.split('_')[1]))\n",
    "    sub[\"T2_TeamID\"] = sub['ID'].apply(lambda x: int(x.split('_')[2]))\n",
    "    sub_X, a = process_tourney(sub, mode = \"sub\")\n",
    "    dtest = xgb.DMatrix(sub_X)\n",
    "elif PREDICT_YEAR==2023:\n",
    "    sub = pd.read_csv(os.path.join(INPUT_PATH, \"SampleSubmission2023.csv\"))\n",
    "    sub['Season'] = sub['ID'].apply(lambda x: int(x.split('_')[0]))\n",
    "    sub[\"T1_TeamID\"] = sub['ID'].apply(lambda x: int(x.split('_')[1]))\n",
    "    sub[\"T2_TeamID\"] = sub['ID'].apply(lambda x: int(x.split('_')[2]))\n",
    "    sub_X, a = process_tourney(sub, mode = \"sub\")\n",
    "    dtest = xgb.DMatrix(sub_X)\n",
    "elif PREDICT_YEAR==2024:\n",
    "    sub = pd.read_csv(os.path.join(INPUT_PATH, \"SampleSubmission2024.csv\"))\n",
    "    sub['Season'] = sub['ID'].apply(lambda x: int(x.split('_')[0]))\n",
    "    sub[\"T1_TeamID\"] = sub['ID'].apply(lambda x: int(x.split('_')[1]))\n",
    "    sub[\"T2_TeamID\"] = sub['ID'].apply(lambda x: int(x.split('_')[2]))\n",
    "    sub_X, a = process_tourney(sub, mode = \"sub\")\n",
    "    dtest = xgb.DMatrix(sub_X)\n",
    "elif PREDICT_YEAR==2025:\n",
    "    sub = pd.read_csv(os.path.join(INPUT_PATH, \"SampleSubmissionStage2.csv\"))\n",
    "    sub['Season'] = sub['ID'].apply(lambda x: int(x.split('_')[0]))\n",
    "    sub[\"T1_TeamID\"] = sub['ID'].apply(lambda x: int(x.split('_')[1]))\n",
    "    sub[\"T2_TeamID\"] = sub['ID'].apply(lambda x: int(x.split('_')[2]))   \n",
    "    sub_X, a = process_tourney(sub, mode = \"sub\")\n",
    "    dtest = xgb.DMatrix(sub_X)\"\"\"\n",
    "    "
   ]
  },
  {
   "cell_type": "code",
   "execution_count": 29,
   "id": "db90560a",
   "metadata": {
    "execution": {
     "iopub.execute_input": "2025-03-14T06:38:54.878188Z",
     "iopub.status.busy": "2025-03-14T06:38:54.876759Z",
     "iopub.status.idle": "2025-03-14T06:38:54.948115Z",
     "shell.execute_reply": "2025-03-14T06:38:54.944368Z"
    },
    "papermill": {
     "duration": 0.132698,
     "end_time": "2025-03-14T06:38:54.953425",
     "exception": false,
     "start_time": "2025-03-14T06:38:54.820727",
     "status": "completed"
    },
    "tags": []
   },
   "outputs": [
    {
     "name": "stdout",
     "output_type": "stream",
     "text": [
      "no fillna, use nan\n",
      "drop col list: ['T1_TOmean', 'T2_TOmean', 'T1_opponent_POSS_RATEmean', 'T2_opponent_POSS_RATEmean', 'T1_opponent_Astmean', 'T2_opponent_Astmean', 'T1_opponent_FT_RATEmean', 'T2_opponent_FT_RATEmean', 'T1_opponent_Stlmean', 'T2_opponent_Stlmean', 'T1_ORmean', 'T2_ORmean', 'T1_opponent_ORmean', 'T2_opponent_ORmean']\n"
     ]
    }
   ],
   "source": [
    "sub = notexist.copy()\n",
    "sub = sub.rename(columns={\"WTeamID\": \"T1_TeamID\", \"LTeamID\": \"T2_TeamID\"})\n",
    "sub = sub[[\"Season\", \"T1_TeamID\", \"T2_TeamID\"]]\n",
    "temp = sub.copy()\n",
    "temp = temp.rename(columns={\"T1_TeamID\": \"T2_TeamID\", \"T2_TeamID\": \"T1_TeamID\"})\n",
    "sub = pd.concat([sub, temp]).reset_index()\n",
    "sub_X, a = process_tourney(sub, mode=\"sub\")\n",
    "sub_X = drop_columns(sub_X, drop_col)\n",
    "dtest = xgb.DMatrix(sub_X)"
   ]
  },
  {
   "cell_type": "code",
   "execution_count": 30,
   "id": "9eec7404",
   "metadata": {
    "execution": {
     "iopub.execute_input": "2025-03-14T06:38:55.078126Z",
     "iopub.status.busy": "2025-03-14T06:38:55.077547Z",
     "iopub.status.idle": "2025-03-14T06:39:52.511221Z",
     "shell.execute_reply": "2025-03-14T06:39:52.510103Z"
    },
    "papermill": {
     "duration": 57.477803,
     "end_time": "2025-03-14T06:39:52.514721",
     "exception": false,
     "start_time": "2025-03-14T06:38:55.036918",
     "status": "completed"
    },
    "tags": []
   },
   "outputs": [
    {
     "name": "stderr",
     "output_type": "stream",
     "text": [
      "\r",
      "  0%|                                                                                                                                                                                                                                      | 0/10 [00:00<?, ?it/s]"
     ]
    },
    {
     "name": "stderr",
     "output_type": "stream",
     "text": [
      "\r",
      " 10%|██████████████████████▏                                                                                                                                                                                                       | 1/10 [00:07<01:10,  7.79s/it]"
     ]
    },
    {
     "name": "stderr",
     "output_type": "stream",
     "text": [
      "\r",
      " 20%|████████████████████████████████████████████▍                                                                                                                                                                                 | 2/10 [00:15<01:02,  7.83s/it]"
     ]
    },
    {
     "name": "stderr",
     "output_type": "stream",
     "text": [
      "\r",
      " 30%|██████████████████████████████████████████████████████████████████▌                                                                                                                                                           | 3/10 [00:20<00:46,  6.69s/it]"
     ]
    },
    {
     "name": "stderr",
     "output_type": "stream",
     "text": [
      "\r",
      " 40%|████████████████████████████████████████████████████████████████████████████████████████▊                                                                                                                                     | 4/10 [00:26<00:36,  6.08s/it]"
     ]
    },
    {
     "name": "stderr",
     "output_type": "stream",
     "text": [
      "\r",
      " 50%|███████████████████████████████████████████████████████████████████████████████████████████████████████████████                                                                                                               | 5/10 [00:31<00:28,  5.77s/it]"
     ]
    },
    {
     "name": "stderr",
     "output_type": "stream",
     "text": [
      "\r",
      " 60%|█████████████████████████████████████████████████████████████████████████████████████████████████████████████████████████████████████▏                                                                                        | 6/10 [00:35<00:21,  5.35s/it]"
     ]
    },
    {
     "name": "stderr",
     "output_type": "stream",
     "text": [
      "\r",
      " 70%|███████████████████████████████████████████████████████████████████████████████████████████████████████████████████████████████████████████████████████████▍                                                                  | 7/10 [00:40<00:15,  5.27s/it]"
     ]
    },
    {
     "name": "stderr",
     "output_type": "stream",
     "text": [
      "\r",
      " 80%|█████████████████████████████████████████████████████████████████████████████████████████████████████████████████████████████████████████████████████████████████████████████████▌                                            | 8/10 [00:46<00:10,  5.21s/it]"
     ]
    },
    {
     "name": "stderr",
     "output_type": "stream",
     "text": [
      "\r",
      " 90%|███████████████████████████████████████████████████████████████████████████████████████████████████████████████████████████████████████████████████████████████████████████████████████████████████████▊                      | 9/10 [00:51<00:05,  5.16s/it]"
     ]
    },
    {
     "name": "stderr",
     "output_type": "stream",
     "text": [
      "\r",
      "100%|█████████████████████████████████████████████████████████████████████████████████████████████████████████████████████████████████████████████████████████████████████████████████████████████████████████████████████████████| 10/10 [00:57<00:00,  5.51s/it]"
     ]
    },
    {
     "name": "stderr",
     "output_type": "stream",
     "text": [
      "\r",
      "100%|█████████████████████████████████████████████████████████████████████████████████████████████████████████████████████████████████████████████████████████████████████████████████████████████████████████████████████████████| 10/10 [00:57<00:00,  5.74s/it]"
     ]
    },
    {
     "name": "stderr",
     "output_type": "stream",
     "text": [
      "\n"
     ]
    }
   ],
   "source": [
    "sub_models = []\n",
    "#sokutionではカスタム関数の指定、早期停止の言及がここではなかった。検討する\n",
    "for i in tqdm(range(repeat_cv), leave=True, dynamic_ncols=True):\n",
    "    sub_models.append(\n",
    "        xgb.train(\n",
    "          params = param,\n",
    "          dtrain = dtrain,\n",
    "          obj=cauchyobj,\n",
    "          num_boost_round = int(iteration_counts[i] * 1.05),\n",
    "          #early_stopping_rounds=early_stopping_rounds, #これ指定してない、指定するのかあと、指定するとしても少し遅くさせるとか\n",
    "          verbose_eval = 50\n",
    "        )\n",
    "    )"
   ]
  },
  {
   "cell_type": "markdown",
   "id": "d5e04c4d",
   "metadata": {
    "papermill": {
     "duration": 0.031771,
     "end_time": "2025-03-14T06:39:52.580455",
     "exception": false,
     "start_time": "2025-03-14T06:39:52.548684",
     "status": "completed"
    },
    "tags": []
   },
   "source": [
    "各特徴量の寄与度を算出"
   ]
  },
  {
   "cell_type": "code",
   "execution_count": 31,
   "id": "11e44537",
   "metadata": {
    "execution": {
     "iopub.execute_input": "2025-03-14T06:39:52.613877Z",
     "iopub.status.busy": "2025-03-14T06:39:52.613877Z",
     "iopub.status.idle": "2025-03-14T06:39:53.120718Z",
     "shell.execute_reply": "2025-03-14T06:39:53.120718Z"
    },
    "papermill": {
     "duration": 0.519946,
     "end_time": "2025-03-14T06:39:53.120718",
     "exception": false,
     "start_time": "2025-03-14T06:39:52.600772",
     "status": "completed"
    },
    "tags": []
   },
   "outputs": [
    {
     "data": {
      "image/png": "[encoded data removed]",
      "text/plain": [
       "<Figure size 1000x600 with 1 Axes>"
      ]
     },
     "metadata": {},
     "output_type": "display_data"
    }
   ],
   "source": [
    "feature_importances = collections.defaultdict(list)\n",
    "for model in sub_models:\n",
    "    importance = model.get_score(importance_type='gain')\n",
    "    for feat, score in importance.items():\n",
    "        feature_importances[feat].append(score)\n",
    "\n",
    "avg_importance = {feat: sum(scores) / len(scores) for feat, scores in feature_importances.items()}\n",
    "fi_df = pd.DataFrame(list(avg_importance.items()), columns=['Feature', 'Avg_Gain'])\n",
    "fi_df.sort_values(by='Avg_Gain', ascending=False, inplace=True)\n",
    "results.append(\"\")\n",
    "fi_log = \"-----Feature Importance (Average Gain)-----\\n\"\n",
    "for feat, score in fi_df.values:\n",
    "    fi_log += f\"{feat}: {score:.4f}\\n\"\n",
    "results.append(fi_log)\n",
    "results.append(\"\")\n",
    "\n",
    "plt.figure(figsize=(10, 6))\n",
    "plt.bar(fi_df['Feature'], fi_df['Avg_Gain'])\n",
    "plt.xlabel('Feature')\n",
    "plt.ylabel('Average Gain')\n",
    "plt.title('Feature Importance (Average Gain)')\n",
    "plt.xticks(rotation=45)\n",
    "plt.tight_layout() \n",
    "\n",
    "plt.savefig(os.path.join(OUTPUT_PATH, f\"feature_importance_{PREDICT_YEAR}.png\"))\n",
    "plt.show()"
   ]
  },
  {
   "cell_type": "code",
   "execution_count": 32,
   "id": "e5ab7207",
   "metadata": {
    "execution": {
     "iopub.execute_input": "2025-03-14T06:39:53.162888Z",
     "iopub.status.busy": "2025-03-14T06:39:53.162888Z",
     "iopub.status.idle": "2025-03-14T06:39:53.225644Z",
     "shell.execute_reply": "2025-03-14T06:39:53.225644Z"
    },
    "papermill": {
     "duration": 0.096953,
     "end_time": "2025-03-14T06:39:53.225644",
     "exception": false,
     "start_time": "2025-03-14T06:39:53.128691",
     "status": "completed"
    },
    "tags": []
   },
   "outputs": [
    {
     "name": "stderr",
     "output_type": "stream",
     "text": [
      "\r",
      "  0%|                                                                                                                                                                                                                                      | 0/10 [00:00<?, ?it/s]"
     ]
    },
    {
     "name": "stderr",
     "output_type": "stream",
     "text": [
      "\r",
      "100%|████████████████████████████████████████████████████████████████████████████████████████████████████████████████████████████████████████████████████████████████████████████████████████████████████████████████████████████| 10/10 [00:00<00:00, 187.37it/s]"
     ]
    },
    {
     "name": "stderr",
     "output_type": "stream",
     "text": [
      "\n"
     ]
    }
   ],
   "source": [
    "sub_preds = []\n",
    "for i in tqdm(range(repeat_cv)):\n",
    "    if spline == \"spline_normal\":\n",
    "        sub_preds.append(np.clip(spline_model[i](np.clip(sub_models[i].predict(dtest), -30, 30)), 0.025, 0.975))\n",
    "    \n",
    "    elif spline == \"logistic\":\n",
    "        X_input = np.clip(sub_models[i].predict(dtest), -30, 30).reshape(-1, 1)\n",
    "        platt_pred = spline_model[i].predict_proba(X_input)[:, 1]\n",
    "        sub_preds.append(np.clip(platt_pred, 0.025, 0.975))\n",
    "\n",
    "    elif spline == \"isotonic\":\n",
    "        X_input = np.clip(sub_models[i].predict(dtest), -30, 30).reshape(-1, 1)\n",
    "        iso_pred = spline_model[i].predict(X_input)  # Isotonic Regression の適用\n",
    "        sub_preds.append(np.clip(iso_pred, 0.025, 0.975))\n",
    "\n",
    "sub[\"Pred\"] = np.mean(np.vstack(sub_preds), axis=0)"
   ]
  },
  {
   "cell_type": "code",
   "execution_count": 33,
   "id": "ebe2ab41",
   "metadata": {
    "execution": {
     "iopub.execute_input": "2025-03-14T06:39:53.289901Z",
     "iopub.status.busy": "2025-03-14T06:39:53.287897Z",
     "iopub.status.idle": "2025-03-14T06:39:53.300007Z",
     "shell.execute_reply": "2025-03-14T06:39:53.300007Z"
    },
    "papermill": {
     "duration": 0.047465,
     "end_time": "2025-03-14T06:39:53.302012",
     "exception": false,
     "start_time": "2025-03-14T06:39:53.254547",
     "status": "completed"
    },
    "tags": []
   },
   "outputs": [
    {
     "name": "stdout",
     "output_type": "stream",
     "text": [
      "skip data flip\n"
     ]
    }
   ],
   "source": [
    "# 予測時にテストデータID反転させて予測して平均取る\n",
    "# dtestの用意とsub_predsの算出を同じようにやる\n",
    "# sub[\"Pred\"]を反転させたやつとの平均取ったやつにする\n",
    "TEST_REVERSE = MODEL.test_reverse\n",
    "\n",
    "if TEST_REVERSE:\n",
    "    print(\"----- data flip -----\") \n",
    "    sub_reverse = notexist.copy()\n",
    "    sub_reverse = sub_reverse.rename(columns={\"WTeamID\": \"T2_TeamID\", \"LTeamID\": \"T1_TeamID\"})#reverse!!\n",
    "    temp_reverse = sub_reverse.copy()\n",
    "    temp = temp.rename(columns={\"T1_TeamID\": \"T2_TeamID\", \"T2_TeamID\": \"T1_TeamID\"})\n",
    "    sub_reverse = pd.concat([sub_reverse, temp_reverse]).reset_index()\n",
    "    sub_reverse_X, a = process_tourney(sub_reverse, mode=\"sub\")\n",
    "    sub_reverse_X = drop_columns(sub_reverse_X, drop_col)\n",
    "    dtest_reverse = xgb.DMatrix(sub_reverse_X)\n",
    "    \n",
    "    sub_preds_reverse = []\n",
    "    for i in tqdm(range(repeat_cv)):\n",
    "        if spline == \"spline_normal\":\n",
    "            sub_preds_reverse.append(np.clip(spline_model[i](np.clip(sub_models[i].predict(dtest_reverse), -30, 30)), 0.025, 0.975))\n",
    "        \n",
    "        elif spline == \"logistic\":\n",
    "            X_input = np.clip(sub_models[i].predict(dtest_reverse), -30, 30).reshape(-1, 1)\n",
    "            platt_pred = spline_model[i].predict_proba(X_input)[:, 1]\n",
    "            sub_preds_reverse.append(np.clip(platt_pred, 0.025, 0.975))\n",
    "\n",
    "        elif spline == \"isotonic\":\n",
    "            X_input = np.clip(sub_models[i].predict(dtest_reverse), -30, 30).reshape(-1, 1)\n",
    "            iso_pred = spline_model[i].predict(X_input)  # Isotonic Regression の適用\n",
    "            sub_preds_reverse.append(np.clip(iso_pred, 0.025, 0.975))\n",
    "\n",
    "    sub_reverse[\"Pred\"] = np.mean(np.vstack(sub_preds_reverse), axis=0)\n",
    "    \n",
    " \n",
    "    #sub[\"Pred\"]を (sub[\"Pred\"] + (1-sub_reverse[\"Pred\"]))/2に塗り替える(平均取る)\n",
    "    sub[\"Pred\"] = (sub[\"Pred\"] + (1-sub_reverse[\"Pred\"]))/2\n",
    "\n",
    "\n",
    "else:\n",
    "    print(\"skip data flip\")"
   ]
  },
  {
   "cell_type": "code",
   "execution_count": 34,
   "id": "dc3b882e",
   "metadata": {
    "execution": {
     "iopub.execute_input": "2025-03-14T06:39:53.347211Z",
     "iopub.status.busy": "2025-03-14T06:39:53.347211Z",
     "iopub.status.idle": "2025-03-14T06:39:53.357402Z",
     "shell.execute_reply": "2025-03-14T06:39:53.357402Z"
    },
    "papermill": {
     "duration": 0.02677,
     "end_time": "2025-03-14T06:39:53.357402",
     "exception": false,
     "start_time": "2025-03-14T06:39:53.330632",
     "status": "completed"
    },
    "tags": []
   },
   "outputs": [],
   "source": [
    "# teams:64team, targetを受け取って、そのtarget teamの試合可能性のある全63試合を抽出する関数\n",
    "def extract_target_team_records(submission_df, teams, target_team):\n",
    "    if target_team not in teams:\n",
    "        raise ValueError(f\"target_team {target_team} は teams 内に存在しません\")\n",
    "\n",
    "    remaining_teams = [t for t in teams if t != target_team]\n",
    "    \n",
    "    records = []\n",
    "    for other_team in remaining_teams:\n",
    "        lower = min(target_team, other_team)\n",
    "        higher = max(target_team, other_team)\n",
    "        row = submission_df[(submission_df['T1_TeamID'] == lower) & (submission_df['T2_TeamID'] == higher)]\n",
    "        if row.empty:\n",
    "            print(f\"Warning: 対戦 {lower} vs {higher} に対応するレコードが見つかりませんでした\")\n",
    "        else:\n",
    "            records.append(row)\n",
    "    \n",
    "    if records:\n",
    "        final_records = pd.concat(records, ignore_index=True)\n",
    "    else:\n",
    "        final_records = pd.DataFrame()\n",
    "    \n",
    "    if len(final_records) != 63:\n",
    "        print(f\"Warning: 期待される63件ではなく、{len(final_records)}件のレコードが抽出されました。\")\n",
    "    \n",
    "    return final_records\n"
   ]
  },
  {
   "cell_type": "code",
   "execution_count": 35,
   "id": "50f342bb",
   "metadata": {
    "execution": {
     "iopub.execute_input": "2025-03-14T06:39:53.398154Z",
     "iopub.status.busy": "2025-03-14T06:39:53.398154Z",
     "iopub.status.idle": "2025-03-14T06:39:53.402454Z",
     "shell.execute_reply": "2025-03-14T06:39:53.402454Z"
    },
    "papermill": {
     "duration": 0.025646,
     "end_time": "2025-03-14T06:39:53.403495",
     "exception": false,
     "start_time": "2025-03-14T06:39:53.377849",
     "status": "completed"
    },
    "tags": []
   },
   "outputs": [],
   "source": [
    "tourney_teams_2023 = [\n",
    "    1395, 1113,   # TCU1395, アリゾナ・ステイト1113\n",
    "    1231, 1245,   # インディアナ1231, ケント・ステイト1245\n",
    "    1243, 1286,   # カンザス・ステイト1243, モンタナ・ステイト1286\n",
    "    1272, 1194,   # メンフィス1272, ﾌﾛﾘﾀﾞ･ｱﾄﾗﾝﾃｨｯｸ1194\n",
    "    1211, 1213,   # ゴンザガ1211, グランド・キャニオン1213\n",
    "    1274, 1179,   # マイアミ（フロリダ）1274, ドレイク1179\n",
    "    1243, 1286,   # ケンタッキー1243, プロビデンス1286\n",
    "    1345, 1192,   # パデュー1345, ﾌｪｱﾘｰ･ﾃﾞｨｷﾝｿﾝ1192\n",
    "    1163, 1233,   # コネチカット1163, アイオナ1233\n",
    "    1166, 1301,   # クレイトン1166, ﾉｰｽｶﾛﾗｲﾅ･ｽﾃｲﾄ1301\n",
    "    1235, 1338,   # アイオワ・ステイト1235, ピッツバーグ1338\n",
    "    1266, 1436,   # マーケット1266, バーモント1436\n",
    "    1388, 1433,   # ｾﾝﾄﾒｱﾘｰｽﾞ（ｶﾘﾌｫﾙﾆｱ）1388, VCU1433\n",
    "    1124, 1364,   # ベイラー1124, UCサンタバーバラ1364\n",
    "    1462, 1244,   # ザビエル1462, ケネソー・ステイト1244\n",
    "    1277, 1425,   # ミシガン・ステイト1277, USC トロージャンズ1425\n",
    "\n",
    "    1417, 1421,   # UCLA1417, UNC アシュビル1421\n",
    "    1401, 1336,   # テキサス A＆M1401, ﾍﾟﾝｼﾞﾙﾍﾞﾆｱ･ｽﾃｲﾄ1336\n",
    "    1397, 1418,   # テネシー1397, ﾙｲｼﾞｱﾅ･ﾗﾌｧｲｴｯﾄ1418\n",
    "    1222, 1297,   # ヒューストン1222, ノーザンケンタッキー1297\n",
    "    1321, 1129,   # ノースウェスタン1321, ボイシ・ステイト1129\n",
    "    1400, 1159,   # テキサス1400, コルゲート1159\n",
    "    1181, 1331,   # デューク1181, オーラル・ロバーツ1331\n",
    "    1234, 1120,   # アイオワ1234, オーバーン1120\n",
    "    1116, 1228,   # アーカンソー1116, イリノイ1228\n",
    "    1112, 1343,   # アリゾナ1112, プリンストン1343\n",
    "    1361, 1158,   # ｻﾝﾃﾞｴｺﾞ･ｽﾃｲﾄ1361, チャールストン1158\n",
    "    1104, 1394,   # アラバマ1104, テキサス A＆M CC1394\n",
    "    1242, 1224,   # カンザス1242, ハワード1224\n",
    "    1281, 1429,   # ミズーリ1281, ユタ・ステイト1429\n",
    "    1438, 1202,   # バージニア1438, ファーマン1202\n",
    "    1268, 1452    # メリーランド1268, ウェストバージニア1452\n",
    "]\n",
    "\n",
    "#Connecticut_vs = extract_target_team_records(sub, tourney_teams_2023, 1163 )"
   ]
  },
  {
   "cell_type": "code",
   "execution_count": 36,
   "id": "90688343",
   "metadata": {
    "execution": {
     "iopub.execute_input": "2025-03-14T06:39:53.432300Z",
     "iopub.status.busy": "2025-03-14T06:39:53.432300Z",
     "iopub.status.idle": "2025-03-14T06:39:53.447401Z",
     "shell.execute_reply": "2025-03-14T06:39:53.447401Z"
    },
    "papermill": {
     "duration": 0.030777,
     "end_time": "2025-03-14T06:39:53.447401",
     "exception": false,
     "start_time": "2025-03-14T06:39:53.416624",
     "status": "completed"
    },
    "tags": []
   },
   "outputs": [],
   "source": [
    "#handlabelingを行う関数\n",
    "def make_handlabeling(df, season, T1, T2, labeling_pred, tourney_teams):\n",
    "    if T1 not in tourney_teams or T2 not in tourney_teams: \n",
    "        print(f\"トーナメント対象チームに属していません\")\n",
    "        return \n",
    "    \n",
    "    if T1>T2: \n",
    "        T1, T2 = T2, T1\n",
    "        print(f\"{T1}, {T2}ID逆だけど大丈夫？？\")\n",
    "    id = f\"{season}_{T1}_{T2}\"\n",
    "\n",
    "    print(f\"before: {df[df['ID']==id]}\")\n",
    "    df.loc[df[\"ID\"] == id, \"Pred\"] = labeling_pred\n",
    "    print(f\"after: {df[df['ID']==id]}\")\n",
    "    \n",
    "    results.append(f\"-----handolabeling-----\")\n",
    "    results.append(f\"before:  {df[df['ID']==id]} -----> after: {df[df['ID']==id]}\")\n",
    "    results.appedn(\"\")\n",
    "    return df"
   ]
  },
  {
   "cell_type": "code",
   "execution_count": 37,
   "id": "dbf63366",
   "metadata": {
    "execution": {
     "iopub.execute_input": "2025-03-14T06:39:53.485791Z",
     "iopub.status.busy": "2025-03-14T06:39:53.485791Z",
     "iopub.status.idle": "2025-03-14T06:39:53.493649Z",
     "shell.execute_reply": "2025-03-14T06:39:53.493649Z"
    },
    "papermill": {
     "duration": 0.030337,
     "end_time": "2025-03-14T06:39:53.496252",
     "exception": false,
     "start_time": "2025-03-14T06:39:53.465915",
     "status": "completed"
    },
    "tags": []
   },
   "outputs": [],
   "source": [
    "labeling = cfg.exp.hand_labeling\n",
    "if labeling is not None:\n",
    "    for i in range(len(labeling)):\n",
    "        T1 = labeling[i][0]\n",
    "        T2 = labeling[i][1]\n",
    "        labeling_pred = labeling[i][2]\n",
    "        \n",
    "        print(f\"{T1} vs {T2} result labeling {labeling_pred}\")\n",
    "        \n",
    "        sub = make_handlabeling(sub, PREDICT_YEAR, T1, T2, labeling_pred, tourney_teams_2023)"
   ]
  },
  {
   "cell_type": "code",
   "execution_count": 38,
   "id": "75360e0e",
   "metadata": {
    "execution": {
     "iopub.execute_input": "2025-03-14T06:39:53.529609Z",
     "iopub.status.busy": "2025-03-14T06:39:53.529609Z",
     "iopub.status.idle": "2025-03-14T06:39:53.822256Z",
     "shell.execute_reply": "2025-03-14T06:39:53.822256Z"
    },
    "papermill": {
     "duration": 0.30924,
     "end_time": "2025-03-14T06:39:53.822256",
     "exception": false,
     "start_time": "2025-03-14T06:39:53.513016",
     "status": "completed"
    },
    "tags": []
   },
   "outputs": [
    {
     "name": "stdout",
     "output_type": "stream",
     "text": [
      "Tournament matchups only - Pred Mean: 0.5006696053352557\n"
     ]
    },
    {
     "data": {
      "image/png": "[encoded data removed]",
      "text/plain": [
       "<Figure size 640x480 with 1 Axes>"
      ]
     },
     "metadata": {},
     "output_type": "display_data"
    }
   ],
   "source": [
    "tourney_filtered = notexist[notexist[\"Season\"] == PREDICT_YEAR].copy()\n",
    "a = tourney_filtered.rename(columns={'WTeamID': 'T1_TeamID', 'LTeamID': 'T2_TeamID'})\n",
    "b = tourney_filtered.rename(columns={'WTeamID': 'T2_TeamID', 'LTeamID': 'T1_TeamID'})\n",
    "ab = pd.concat([a, b]).reset_index(drop=True) \n",
    "filtered_sub = sub.merge(ab[['Season', 'T1_TeamID', 'T2_TeamID']], \n",
    "                         on=['Season', 'T1_TeamID', 'T2_TeamID'], \n",
    "                         how='inner')\n",
    "\n",
    "filtered_sub[\"Pred\"].astype(int)\n",
    "pred_mean = filtered_sub[\"Pred\"].mean()\n",
    "print(\"Tournament matchups only - Pred Mean:\", pred_mean)\n",
    "\n",
    "filtered_sub[\"Pred\"].hist(bins=50)\n",
    "results+=[\"\", f\"Tournament matchups only - Pred Mean:, {pred_mean}\", \"\"]\n",
    "plt.figure(figsize=(8, 6))\n",
    "filtered_sub[\"Pred\"].hist(bins=50)\n",
    "plt.title(\"Prediction Histogram\")\n",
    "plt.xlabel(\"Pred\")\n",
    "plt.ylabel(\"Frequency\")\n",
    "plt.grid(True)\n",
    "\n",
    "# 画像として保存\n",
    "plt.savefig(os.path.join(OUTPUT_PATH, f\"Prediction_Histgram_filtered_{PREDICT_YEAR}.png\"))\n",
    "plt.close()"
   ]
  },
  {
   "cell_type": "markdown",
   "id": "d62da2db",
   "metadata": {
    "papermill": {
     "duration": 0.020519,
     "end_time": "2025-03-14T06:39:53.865717",
     "exception": false,
     "start_time": "2025-03-14T06:39:53.845198",
     "status": "completed"
    },
    "tags": []
   },
   "source": [
    "# スコア算出、まとめ、\n",
    "ここまでで提出ファイル作成。ここからは過去年度のシミュレーションに対してBrier scoreやその他指標の算出"
   ]
  },
  {
   "cell_type": "code",
   "execution_count": 39,
   "id": "637e00cd",
   "metadata": {
    "execution": {
     "iopub.execute_input": "2025-03-14T06:39:53.895228Z",
     "iopub.status.busy": "2025-03-14T06:39:53.895228Z",
     "iopub.status.idle": "2025-03-14T06:39:54.089607Z",
     "shell.execute_reply": "2025-03-14T06:39:54.089607Z"
    },
    "papermill": {
     "duration": 0.211383,
     "end_time": "2025-03-14T06:39:54.089607",
     "exception": false,
     "start_time": "2025-03-14T06:39:53.878224",
     "status": "completed"
    },
    "tags": []
   },
   "outputs": [
    {
     "data": {
      "image/png": "[encoded data removed]",
      "text/plain": [
       "<Figure size 640x480 with 1 Axes>"
      ]
     },
     "metadata": {},
     "output_type": "display_data"
    }
   ],
   "source": [
    "sub[\"Pred\"].hist()\n",
    "results+=[\"\", f\"Pred mean: {sub['Pred'].mean()}\", \"\"]\n",
    "\n",
    "plt.figure(figsize=(8, 6))\n",
    "sub[\"Pred\"].hist(bins=50)\n",
    "plt.title(\"Prediction Histogram\")\n",
    "plt.xlabel(\"Pred\")\n",
    "plt.ylabel(\"Frequency\")\n",
    "plt.grid(True)\n",
    "\n",
    "# 画像として保存\n",
    "plt.savefig(os.path.join(OUTPUT_PATH, f\"Prediction_Histgram_{PREDICT_YEAR}.png\"))\n",
    "plt.close()"
   ]
  },
  {
   "cell_type": "markdown",
   "id": "3ec0218b",
   "metadata": {
    "papermill": {
     "duration": 0.018,
     "end_time": "2025-03-14T06:39:54.129673",
     "exception": false,
     "start_time": "2025-03-14T06:39:54.111673",
     "status": "completed"
    },
    "tags": []
   },
   "source": [
    "存在するはずのない予測年度のトーナメント結果をもとに(Pred, label)を取り出し、以下を行う。\n",
    "\n",
    "- 各評価指標の計算\n",
    "- キャリブレーション可視化\n",
    "- AUC可視化"
   ]
  },
  {
   "cell_type": "code",
   "execution_count": 40,
   "id": "b01465e1",
   "metadata": {
    "execution": {
     "iopub.execute_input": "2025-03-14T06:39:54.162928Z",
     "iopub.status.busy": "2025-03-14T06:39:54.162928Z",
     "iopub.status.idle": "2025-03-14T06:39:54.183663Z",
     "shell.execute_reply": "2025-03-14T06:39:54.183663Z"
    },
    "papermill": {
     "duration": 0.03208,
     "end_time": "2025-03-14T06:39:54.183663",
     "exception": false,
     "start_time": "2025-03-14T06:39:54.151583",
     "status": "completed"
    },
    "tags": []
   },
   "outputs": [],
   "source": [
    "def extract_labels_and_preds(sub, tourney):\n",
    "    \"\"\" 試合データから予測値 (Pred) と正解ラベル (label) を抽出する \"\"\"\n",
    "    label_data = tourney[[\"WTeamID\", \"LTeamID\", \"WScore\", \"LScore\"]]\n",
    "    label_data = label_data.rename(columns={\"WTeamID\": \"T1_TeamID\", \"LTeamID\": \"T2_TeamID\", \"WScore\": \"T1_Score\", \"LScore\": \"T2_Score\"})\n",
    "    temp = label_data.copy()\n",
    "    temp = temp.rename(columns={\"T1_TeamID\": \"T2_TeamID\", \"T2_TeamID\": \"T1_TeamID\", \"T1_Score\": \"T2_Score\", \"T2_Score\": \"T1_Score\"})\n",
    "    label_data = pd.concat([label_data, temp]).reset_index(drop=True)\n",
    "    \n",
    "    label_data = pd.merge(label_data, sub, on=[\"T1_TeamID\", \"T2_TeamID\"], how=\"left\")\n",
    "    label_data[\"label\"] = np.where(label_data[\"T1_Score\"] - label_data[\"T2_Score\"] > 0, 1, 0)\n",
    "    label_data = label_data.dropna(subset=[\"Pred\"])  # 欠損値を削除\n",
    "    \n",
    "    return label_data[[\"label\", \"Pred\"]]\n",
    "\n",
    "def calculate_metrics(label_data):\n",
    "    \"\"\" 各評価指標を計算 \"\"\"\n",
    "    brier_score = round(mean_squared_error(label_data[\"label\"], label_data[\"Pred\"]), 5)  # Brier Score (MSEと同じ)\n",
    "    rmse_score = round(mean_squared_error(label_data[\"label\"], label_data[\"Pred\"], squared=False), 5)  # RMSE\n",
    "    logloss_score = round(log_loss(label_data[\"label\"], label_data[\"Pred\"]), 5)  # Log Loss\n",
    "    mae_score = round(mean_absolute_error(label_data[\"label\"], label_data[\"Pred\"]), 5)  # MAE\n",
    "    \n",
    "    return {\n",
    "        \"Brier Score\": brier_score,\n",
    "        \"RMSE\": rmse_score,\n",
    "        \"Log Loss\": logloss_score,\n",
    "        \"MAE\": mae_score\n",
    "    }\n",
    "\n",
    "def plot_calibration_curve(label_data, n_bins=10):\n",
    "    \"\"\" キャリブレーションカーブをプロット \"\"\"\n",
    "    prob_true, prob_pred = calibration_curve(label_data[\"label\"], label_data[\"Pred\"], n_bins=n_bins)\n",
    "    \n",
    "    plt.figure(figsize=(6,6))\n",
    "    plt.plot(prob_pred, prob_true, marker=\"o\", label=\"Model Calibration\")\n",
    "    plt.plot([0, 1], [0, 1], linestyle=\"--\", label=\"Perfect Calibration\")\n",
    "    plt.xlabel(\"Predicted Probability\")\n",
    "    plt.ylabel(\"Actual Probability\")\n",
    "    plt.legend()\n",
    "    plt.title(\"Calibration Curve\")\n",
    "    plt.show()\n",
    "\n",
    "def calculate_auc_metrics(label_data):\n",
    "    global results\n",
    "    \"\"\" AUC-ROCとAUC-PRを計算 \"\"\"\n",
    "    auc_roc = roc_auc_score(label_data[\"label\"], label_data[\"Pred\"])\n",
    "    auc_pr = average_precision_score(label_data[\"label\"], label_data[\"Pred\"])\n",
    "    \n",
    "    print(f\"AUC-ROC: {auc_roc:.4f}\")\n",
    "    print(f\"AUC-PR: {auc_pr:.4f}\")\n",
    "    results += [\"---- AUC -----\", f\"AUC-ROC: {auc_roc:.4f}\", f\"AUC-PR: {auc_pr:.4f}\"]\n",
    "    "
   ]
  },
  {
   "cell_type": "code",
   "execution_count": 41,
   "id": "498e9121",
   "metadata": {
    "execution": {
     "iopub.execute_input": "2025-03-14T06:39:54.212126Z",
     "iopub.status.busy": "2025-03-14T06:39:54.212126Z",
     "iopub.status.idle": "2025-03-14T06:39:54.321464Z",
     "shell.execute_reply": "2025-03-14T06:39:54.321464Z"
    },
    "papermill": {
     "duration": 0.125037,
     "end_time": "2025-03-14T06:39:54.321464",
     "exception": false,
     "start_time": "2025-03-14T06:39:54.196427",
     "status": "completed"
    },
    "tags": []
   },
   "outputs": [
    {
     "name": "stderr",
     "output_type": "stream",
     "text": [
      "C:\\Users\\81809\\anaconda3\\envs\\deep_learning_pytorch\\Lib\\site-packages\\sklearn\\metrics\\_regression.py:492: FutureWarning: 'squared' is deprecated in version 1.4 and will be removed in 1.6. To calculate the root mean squared error, use the function'root_mean_squared_error'.\n",
      "  warnings.warn(\n"
     ]
    },
    {
     "data": {
      "image/png": "[encoded data removed]",
      "text/plain": [
       "<Figure size 600x600 with 1 Axes>"
      ]
     },
     "metadata": {},
     "output_type": "display_data"
    },
    {
     "name": "stdout",
     "output_type": "stream",
     "text": [
      "AUC-ROC: 0.8556\n",
      "AUC-PR: 0.8676\n",
      "MAE: 0.31552\n",
      "\n",
      "---- AUC -----\n",
      "AUC-ROC: 0.8556\n",
      "AUC-PR: 0.8676\n"
     ]
    }
   ],
   "source": [
    "if PREDICT_YEAR == 2022:\n",
    "    notexist_MAN = notexist[notexist[\"WTeamID\"].astype(str).str.startswith(\"1\")]\n",
    "    notexist_WOMAN = notexist[notexist[\"WTeamID\"].astype(str).str.startswith(\"3\")]\n",
    "    label_data = extract_labels_and_preds(sub, notexist) ######\n",
    "else:\n",
    "    label_data = extract_labels_and_preds(sub, notexist)\n",
    "\n",
    "# 評価指標の計算\n",
    "score = calculate_metrics(label_data)\n",
    "results += [\"\",\"-----eval metrics-----\",\n",
    "            f\"Brier Score: {score['Brier Score']}\", \n",
    "            f\"RMSE: {score['RMSE']}\", \n",
    "            f\"Log Loss: {score['Log Loss']}\", \n",
    "            f\"MAE: {score['MAE']}\", \"\"]\n",
    "\n",
    "# キャリブレーションの確認\n",
    "plot_calibration_curve(label_data)\n",
    "\n",
    "# AUCの評価\n",
    "calculate_auc_metrics(label_data)\n",
    "\n",
    "for temp in range(-5, 0):\n",
    "    print(results[temp])"
   ]
  },
  {
   "cell_type": "code",
   "execution_count": 42,
   "id": "99ccbebb",
   "metadata": {
    "execution": {
     "iopub.execute_input": "2025-03-14T06:39:54.363183Z",
     "iopub.status.busy": "2025-03-14T06:39:54.363183Z",
     "iopub.status.idle": "2025-03-14T06:39:54.371678Z",
     "shell.execute_reply": "2025-03-14T06:39:54.371678Z"
    },
    "papermill": {
     "duration": 0.042111,
     "end_time": "2025-03-14T06:39:54.371678",
     "exception": false,
     "start_time": "2025-03-14T06:39:54.329567",
     "status": "completed"
    },
    "tags": []
   },
   "outputs": [
    {
     "data": {
      "text/plain": [
       "'if PREDICT_YEAR!=2025:\\n    predict_year_label =notexist[[\"WTeamID\", \"LTeamID\", \"WScore\", \"LScore\"]].copy()\\n    predict_year_label.loc[:, \"Win\"] = np.where(predict_year_label[\"WScore\"] - predict_year_label[\"LScore\"] > 0, 1, 0)\\n    predict_year_label = predict_year_label[[\"WTeamID\", \"LTeamID\", \"Win\"]]\\n   \\n    predict_year_label.columns = [\"T1_TeamID\", \"T2_TeamID\", \"Win\"]\\n\\n    predict_year_label = pd.merge(predict_year_label, sub, on=[\"T1_TeamID\", \"T2_TeamID\"], how=\"left\")\\n    brier_score = np.mean((predict_year_label[\"Pred\"] - predict_year_label[\"Win\"])**2)\\n\\n    print(\"Brier Score:\", brier_score)\\n    results+=[f\"Brier Score: {brier_score}\", \"\"]\\n    predict_year_label.info()\\n'"
      ]
     },
     "execution_count": 42,
     "metadata": {},
     "output_type": "execute_result"
    }
   ],
   "source": [
    "\"\"\"if PREDICT_YEAR!=2025:\n",
    "    predict_year_label =notexist[[\"WTeamID\", \"LTeamID\", \"WScore\", \"LScore\"]].copy()\n",
    "    predict_year_label.loc[:, \"Win\"] = np.where(predict_year_label[\"WScore\"] - predict_year_label[\"LScore\"] > 0, 1, 0)\n",
    "    predict_year_label = predict_year_label[[\"WTeamID\", \"LTeamID\", \"Win\"]]\n",
    "   \n",
    "    predict_year_label.columns = [\"T1_TeamID\", \"T2_TeamID\", \"Win\"]\n",
    "\n",
    "    predict_year_label = pd.merge(predict_year_label, sub, on=[\"T1_TeamID\", \"T2_TeamID\"], how=\"left\")\n",
    "    brier_score = np.mean((predict_year_label[\"Pred\"] - predict_year_label[\"Win\"])**2)\n",
    "\n",
    "    print(\"Brier Score:\", brier_score)\n",
    "    results+=[f\"Brier Score: {brier_score}\", \"\"]\n",
    "    predict_year_label.info()\n",
    "\"\"\""
   ]
  },
  {
   "cell_type": "code",
   "execution_count": 43,
   "id": "61496314",
   "metadata": {
    "execution": {
     "iopub.execute_input": "2025-03-14T06:39:54.413606Z",
     "iopub.status.busy": "2025-03-14T06:39:54.413606Z",
     "iopub.status.idle": "2025-03-14T06:39:54.421692Z",
     "shell.execute_reply": "2025-03-14T06:39:54.421692Z"
    },
    "papermill": {
     "duration": 0.026989,
     "end_time": "2025-03-14T06:39:54.421692",
     "exception": false,
     "start_time": "2025-03-14T06:39:54.394703",
     "status": "completed"
    },
    "tags": []
   },
   "outputs": [
    {
     "name": "stdout",
     "output_type": "stream",
     "text": [
      "実行時間： 768.9秒\n"
     ]
    }
   ],
   "source": [
    "END_TIME = time.time()\n",
    "ELAPSED_TIME = END_TIME - START_TIME\n",
    "print(f\"実行時間： {ELAPSED_TIME:.1f}秒\")\n",
    "results.append(f\"実行時間： {ELAPSED_TIME:.1f}秒\")\n",
    "\n",
    "with open(os.path.join(OUTPUT_PATH, \"result.txt\"), \"a\", encoding=\"utf-8\") as f:\n",
    "    for line in results:\n",
    "        f.write(line + \"\\n\")"
   ]
  },
  {
   "cell_type": "code",
   "execution_count": 44,
   "id": "0046efe0",
   "metadata": {
    "execution": {
     "iopub.execute_input": "2025-03-14T06:39:54.467846Z",
     "iopub.status.busy": "2025-03-14T06:39:54.466778Z",
     "iopub.status.idle": "2025-03-14T06:39:54.470695Z",
     "shell.execute_reply": "2025-03-14T06:39:54.470695Z"
    },
    "papermill": {
     "duration": 0.040955,
     "end_time": "2025-03-14T06:39:54.470695",
     "exception": false,
     "start_time": "2025-03-14T06:39:54.429740",
     "status": "completed"
    },
    "tags": []
   },
   "outputs": [],
   "source": [
    "logger.remove()"
   ]
  }
 ],
 "metadata": {
  "kernelspec": {
   "display_name": "deep_learning_pytorch",
   "language": "python",
   "name": "python3"
  },
  "language_info": {
   "codemirror_mode": {
    "name": "ipython",
    "version": 3
   },
   "file_extension": ".py",
   "mimetype": "text/x-python",
   "name": "python",
   "nbconvert_exporter": "python",
   "pygments_lexer": "ipython3",
   "version": "3.11.9"
  },
  "papermill": {
   "default_parameters": {},
   "duration": 775.211293,
   "end_time": "2025-03-14T06:39:55.168174",
   "environment_variables": {},
   "exception": null,
   "input_path": "c:\\Users\\81809\\Documents\\ALL_CODE\\kaggle\\March Machine Learning Mania 2025\\notebook\\1stplace_solution_2023.ipynb",
   "output_path": "exp081_20250314_152659.ipynb",
   "parameters": {
    "EXP_NUM": "exp081"
   },
   "start_time": "2025-03-14T06:26:59.956881",
   "version": "2.6.0"
  }
 },
 "nbformat": 4,
 "nbformat_minor": 5
}