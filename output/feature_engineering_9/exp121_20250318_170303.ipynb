{
 "cells": [
  {
   "cell_type": "code",
   "execution_count": 1,
   "id": "06fc78bf",
   "metadata": {
    "execution": {
     "iopub.execute_input": "2025-03-18T08:03:05.902469Z",
     "iopub.status.busy": "2025-03-18T08:03:05.902469Z",
     "iopub.status.idle": "2025-03-18T08:03:05.913760Z",
     "shell.execute_reply": "2025-03-18T08:03:05.913760Z"
    },
    "papermill": {
     "duration": 0.028091,
     "end_time": "2025-03-18T08:03:05.913760",
     "exception": false,
     "start_time": "2025-03-18T08:03:05.885669",
     "status": "completed"
    },
    "tags": [
     "parameters"
    ]
   },
   "outputs": [],
   "source": [
    "# Parameters\n",
    "EXP_NUM = \"default\""
   ]
  },
  {
   "cell_type": "code",
   "execution_count": 2,
   "id": "fa5dbfa1",
   "metadata": {
    "execution": {
     "iopub.execute_input": "2025-03-18T08:03:05.928960Z",
     "iopub.status.busy": "2025-03-18T08:03:05.928960Z",
     "iopub.status.idle": "2025-03-18T08:03:05.935491Z",
     "shell.execute_reply": "2025-03-18T08:03:05.934603Z"
    },
    "papermill": {
     "duration": 0.019368,
     "end_time": "2025-03-18T08:03:05.936947",
     "exception": false,
     "start_time": "2025-03-18T08:03:05.917579",
     "status": "completed"
    },
    "tags": [
     "injected-parameters"
    ]
   },
   "outputs": [],
   "source": [
    "# Parameters\n",
    "EXP_NUM = \"exp121\"\n"
   ]
  },
  {
   "cell_type": "markdown",
   "id": "07dafa0e",
   "metadata": {
    "papermill": {
     "duration": 0.005633,
     "end_time": "2025-03-18T08:03:05.948759",
     "exception": false,
     "start_time": "2025-03-18T08:03:05.943126",
     "status": "completed"
    },
    "tags": []
   },
   "source": [
    "# 2023 1st place solution\n",
    "[kaggle notebook](https://www.kaggle.com/code/rustyb/paris-madness-2023#Load-the-data!)"
   ]
  },
  {
   "cell_type": "markdown",
   "id": "72c2ab7d",
   "metadata": {
    "papermill": {
     "duration": 0.00832,
     "end_time": "2025-03-18T08:03:05.965898",
     "exception": false,
     "start_time": "2025-03-18T08:03:05.957578",
     "status": "completed"
    },
    "tags": []
   },
   "source": [
    "# コードの流れ\n",
    "1. hydraからハイパラ取得し、パスなどを設定\n",
    "\n",
    "    regular&tourney Detaile Result, Seedを使用し、tourneyを目的変数としてモデルを予測していく\n",
    "\n",
    "    regular_data->season_statistics->\n",
    "\n",
    "    以下の前処理をする\n",
    "\n",
    "2. データ２倍にかさまし\n",
    "3. regularに対して特徴量の追加\n",
    "    各チームごとに加えるもの\n",
    "   - EFFG: フィールドゴール成功率\n",
    "   - EFFG3: フィールドゴール3p成功率\n",
    "   - DARE: フィールドゴールにおける3P率\n",
    "   - \"win\"を目的変数とする(Team, Season)のロジスティック回帰した各係数\n",
    "    対戦カードごとに加える特徴量\n",
    "    - PointDiff: ポイント差\n",
    "    - win: 1 if PointDiff>0 else 0\n",
    "4. (Team, Season)ごとに特徴量season_statixtics追加\n",
    "    - win_ratio_14d\n",
    "    - box score mean\n",
    "    - quality\n",
    "    - seed\n",
    "5. season_average.enabled=trueなら直近３シーズンの加重平均の処理加える\n",
    "6. tourneyをteamID, Season, score(y)のみ取り出してこれに対してseason_statisticsの結合と特徴量微調整\n",
    "   - seed->seeddiff\n",
    "   - fillna()\n",
    "\n",
    "7. モデル構築\n",
    "8. KFOLD->OOF予測->spline曲線求めてlogloss算出\n",
    "    - KFOLDによる交差検証（CV）\n",
    "        repeat_cv 回のループで、各反復ごとにKFold（folds_splits個）によりデータを分割し、XGBoostのCVを実行しています。\n",
    "        各foldでの結果（例えば、訓練MAE、検証MAEの平均値や標準偏差）がcv_resultとして得られ、それをxgb_cvリストに格納します。\n",
    "        この段階で重要なのは、各反復での検証用MAEの平均値 (test-mae-mean) の最小値と、そのときのブーストラウンド数です。\n",
    "        それらは後で、最適なイテレーション数 (iteration_counts) として計算され、val_mae にも格納されます。\n",
    "    - OOF予測の流れ\n",
    "\n",
    "        各反復ごとに、新たなKFoldを用いてデータを分割。\n",
    "        各foldごとに、学習データでモデルを訓練し、検証データに対して予測を実施。\n",
    "        すべてのfold分の予測結果を1つの予測配列にまとめ、最後に -30～30 の範囲にクリップしています。\n",
    "        重要な結果\n",
    "\n",
    "        OOF予測結果（oof_preds）自体は後段で別途評価指標に使用できるほか、各反復ごとの予測精度や誤差を算出する際の基礎データ\n",
    "9.  提出フェーズ\n",
    "    - 最適paramで全データ使って訓練\n",
    "    - 提出試合の予測"
   ]
  },
  {
   "cell_type": "markdown",
   "id": "ff9aafb6",
   "metadata": {
    "papermill": {
     "duration": 0.008387,
     "end_time": "2025-03-18T08:03:05.982725",
     "exception": false,
     "start_time": "2025-03-18T08:03:05.974338",
     "status": "completed"
    },
    "tags": []
   },
   "source": [
    "memo\n",
    "\n",
    "欠損値が発生していいのか検討して保管について考える\n",
    "seedがかけているのはregularに対してseedを与えているから大丈夫。最終的なtourneyには欠損０で追加できているから問題ない"
   ]
  },
  {
   "cell_type": "code",
   "execution_count": 3,
   "id": "7f0206a5",
   "metadata": {
    "execution": {
     "iopub.execute_input": "2025-03-18T08:03:05.999501Z",
     "iopub.status.busy": "2025-03-18T08:03:05.991218Z",
     "iopub.status.idle": "2025-03-18T08:03:09.511092Z",
     "shell.execute_reply": "2025-03-18T08:03:09.511092Z"
    },
    "papermill": {
     "duration": 3.519874,
     "end_time": "2025-03-18T08:03:09.511092",
     "exception": false,
     "start_time": "2025-03-18T08:03:05.991218",
     "status": "completed"
    },
    "tags": []
   },
   "outputs": [
    {
     "name": "stderr",
     "output_type": "stream",
     "text": [
      "C:\\Users\\81809\\anaconda3\\envs\\deep_learning_pytorch\\Lib\\site-packages\\tqdm\\auto.py:21: TqdmWarning: IProgress not found. Please update jupyter and ipywidgets. See https://ipywidgets.readthedocs.io/en/stable/user_install.html\n",
      "  from .autonotebook import tqdm as notebook_tqdm\n"
     ]
    },
    {
     "name": "stdout",
     "output_type": "stream",
     "text": [
      "exp121\n",
      "Omega conf is below\n",
      "dir:\n",
      "  input_dir: ../input\n",
      "  output_dir: ../output\n",
      "  src_path: ../src\n",
      "  conf_path: ../conf\n",
      "exp:\n",
      "  name: feature_engineering_9\n",
      "  print_name: 'best model (3/18) & FGA ->FGAmean '\n",
      "  tournament:\n",
      "    use_start_season: 1985\n",
      "    target_season: 2019\n",
      "  features:\n",
      "    cal_mean_boxscore:\n",
      "      T1_Score: true\n",
      "      T2_Score: true\n",
      "      PointDiff: true\n",
      "      T1_FGA: true\n",
      "      T2_FGA: true\n",
      "      T1_FTA: false\n",
      "      T2_FTA: false\n",
      "      T1_FGA3: false\n",
      "      T2_FGA3: false\n",
      "      T1_FGM: true\n",
      "      T2_FGM: true\n",
      "      T1_FGM3: false\n",
      "      T2_FGM3: false\n",
      "      T1_FTM: false\n",
      "      T2_FTM: false\n",
      "      T1_EFFG: false\n",
      "      T2_EFFG: false\n",
      "      T1_EFFG3: false\n",
      "      T2_EFFG3: false\n",
      "      T1_EFG_SUM: true\n",
      "      T2_EFG_SUM: true\n",
      "      T1_TO_RATIO: true\n",
      "      T2_TO_RATIO: true\n",
      "      T1_OR: true\n",
      "      T2_OR: true\n",
      "      T1_DR: true\n",
      "      T2_DR: true\n",
      "      T1_REB_RATE: true\n",
      "      T2_REB_RATE: true\n",
      "      T1_FT_RATE: true\n",
      "      T2_FT_RATE: true\n",
      "      T1_RATING: false\n",
      "      T2_RATING: false\n",
      "      T1_POSS_RATE: true\n",
      "      T2_POSS_RATE: true\n",
      "      T1_Ast: true\n",
      "      T2_Ast: true\n",
      "      T1_TO: true\n",
      "      T2_TO: true\n",
      "      T1_Stl: true\n",
      "      T2_Stl: true\n",
      "      T1_Blk: true\n",
      "      T2_Blk: true\n",
      "      T1_PF: true\n",
      "      T2_PF: true\n",
      "      T1_DARE: false\n",
      "      T2_DARE: false\n",
      "      T1_TOQUETOQUE: false\n",
      "      T2_TOQUETOQUE: false\n",
      "    rank_diff: true\n",
      "    T1_FGAdiff: true\n",
      "    T2_FGAdiff: true\n",
      "    start_quality_season: 2003\n",
      "    dropfeatures:\n",
      "    - T1_TOmean\n",
      "    - T2_TOmean\n",
      "    - T1_opponent_POSS_RATEmean\n",
      "    - T2_opponent_POSS_RATEmean\n",
      "    - T1_opponent_Astmean\n",
      "    - T2_opponent_Astmean\n",
      "    - T1_opponent_FT_RATEmean\n",
      "    - T2_opponent_FT_RATEmean\n",
      "    - T1_opponent_Stlmean\n",
      "    - T2_opponent_Stlmean\n",
      "    - T1_ORmean\n",
      "    - T2_ORmean\n",
      "    - T1_opponent_ORmean\n",
      "    - T2_opponent_ORmean\n",
      "    - T1_TeamID\n",
      "    - T2_TeamID\n",
      "    - Season\n",
      "    - T1_FGAmean\n",
      "    - T2_FGAmean\n",
      "    - T1_opponent_FGAmean\n",
      "    - T2_opponent_FGAmean\n",
      "    season_average:\n",
      "      enabled: false\n",
      "      past_years: 3\n",
      "      weights:\n",
      "      - 1\n",
      "      - 2\n",
      "      - 3\n",
      "    fillna:\n",
      "      quality: 'nan'\n",
      "  model:\n",
      "    repeat_cv: 10\n",
      "    optuna_enabled: false\n",
      "    test_reverse: false\n",
      "    xgb_model:\n",
      "      param:\n",
      "        eval_metric: rmse\n",
      "        booster: gbtree\n",
      "        eta: 0.02\n",
      "        subsample: 0.35\n",
      "        colsample_bytree: 0.7\n",
      "        num_parallel_tree: 10\n",
      "        min_child_weight: 40\n",
      "        gamma: 10\n",
      "        max_depth: 3\n",
      "      obj: cauchyoj\n",
      "      num_boost_round: 3000\n",
      "      folds_splits: 5\n",
      "      early_stopping_rounds: 25\n",
      "      optuna:\n",
      "        max_depth:\n",
      "        - 3\n",
      "        - 7\n",
      "        eta:\n",
      "        - 0.001\n",
      "        - 0.03\n",
      "        subsample:\n",
      "        - 0.2\n",
      "        - 0.5\n",
      "        colsample_bytree:\n",
      "        - 0.5\n",
      "        - 1.0\n",
      "        num_parallel_tree:\n",
      "        - 7\n",
      "        - 12\n",
      "        min_child_weight:\n",
      "        - 30\n",
      "        - 50\n",
      "        reg_alpha:\n",
      "        - 0.0\n",
      "        - 1.0\n",
      "        reg_lambda:\n",
      "        - 0.0\n",
      "        - 1.0\n",
      "        gamma:\n",
      "        - 0\n",
      "        - 10\n",
      "        n_trials: 1000\n",
      "        timeout: 28800\n",
      "        n_jobs: -1\n",
      "        n_warmup_steps: 3\n",
      "    spline: logistic\n",
      "  hand_labeling: null\n",
      "\n"
     ]
    }
   ],
   "source": [
    "\n",
    "import os\n",
    "import sys\n",
    "from pathlib import Path\n",
    "import collections\n",
    "from datetime import datetime\n",
    "import shutil\n",
    "import yaml\n",
    "from tqdm import tqdm\n",
    "import time\n",
    "import optuna\n",
    "from loguru import logger\n",
    "import collections\n",
    "\n",
    "from hydra import initialize, initialize_config_module, initialize_config_dir, compose\n",
    "from omegaconf import OmegaConf\n",
    "\n",
    "import numpy as np\n",
    "import pandas as pd\n",
    "import matplotlib.pyplot as plt\n",
    "import seaborn as sns\n",
    "from scipy.interpolate import UnivariateSpline\n",
    "\n",
    "import xgboost as xgb\n",
    "from xgboost import XGBRegressor\n",
    "from sklearn.model_selection import KFold\n",
    "from sklearn.calibration import calibration_curve\n",
    "from sklearn.metrics import log_loss,mean_squared_error, mean_absolute_error, roc_auc_score, average_precision_score\n",
    "from sklearn.metrics import make_scorer\n",
    "from sklearn.model_selection import cross_val_score, KFold\n",
    "from sklearn.linear_model import LogisticRegression\n",
    "from sklearn.preprocessing import OneHotEncoder\n",
    "from sklearn.isotonic import IsotonicRegression\n",
    "\n",
    "import statsmodels.api as sm\n",
    "\n",
    "START_TIME = time.time()\n",
    "\n",
    "\n",
    "#####\n",
    "#EXP_NUM = \"exp121\"\n",
    "#####\n",
    "print(EXP_NUM)\n",
    "\n",
    "# hydraの初期設定と指定ハイパラの取得\n",
    "sys.path.append(os.path.abspath(\"/workspace\"))\n",
    "sys.path.append(\"C:\\\\Users\\\\81809\\\\Documents\\\\ALL_CODE\\\\kaggle\\\\March Machine Learning Mania 2025\")\n",
    "with initialize_config_module(version_base=None, config_module=\"conf\"):\n",
    "    cfg = compose(\n",
    "        config_name=\"base.yaml\",\n",
    "        overrides=[\n",
    "            f\"+exp={EXP_NUM}\" #defaultexp001->exp002のオーバーライド\n",
    "        ],\n",
    "    )\n",
    "    \n",
    "    OmegaConf.resolve(cfg)\n",
    "    print(\"Omega conf is below\")\n",
    "    print(OmegaConf.to_yaml(cfg))\n"
   ]
  },
  {
   "cell_type": "code",
   "execution_count": 4,
   "id": "c9ab2a09",
   "metadata": {
    "execution": {
     "iopub.execute_input": "2025-03-18T08:03:09.537856Z",
     "iopub.status.busy": "2025-03-18T08:03:09.537856Z",
     "iopub.status.idle": "2025-03-18T08:03:09.559956Z",
     "shell.execute_reply": "2025-03-18T08:03:09.559956Z"
    },
    "papermill": {
     "duration": 0.036632,
     "end_time": "2025-03-18T08:03:09.559956",
     "exception": false,
     "start_time": "2025-03-18T08:03:09.523324",
     "status": "completed"
    },
    "tags": []
   },
   "outputs": [
    {
     "name": "stdout",
     "output_type": "stream",
     "text": [
      "########\n",
      "output dir name: feature_engineering_9\n",
      "Run on 2025-03-18 17:03:09.537856\n",
      "best model (3/18) & FGA ->FGAmean \n",
      "########\n"
     ]
    }
   ],
   "source": [
    "PREDICT_YEAR = cfg.exp.tournament.target_season\n",
    "name = f\"{cfg.exp.name}\"\n",
    "now = str(datetime.now())\n",
    "print(\"########\")\n",
    "print(f\"output dir name: {name}\")\n",
    "print(f\"Run on {now}\")\n",
    "print(cfg.exp.print_name)\n",
    "print(\"########\")\n",
    "\n",
    "BASE_DIR = os.path.abspath(os.path.join(os.getcwd(), \"..\"))\n",
    "CONF_PATH = os.path.join(BASE_DIR, \"conf\")\n",
    "INPUT_PATH = os.path.join(BASE_DIR, \"input\")\n",
    "EXP_PATH = os.path.join(CONF_PATH, \"exp\", f\"{EXP_NUM}.yaml\")\n",
    "OUTPUT_PATH = os.path.join(BASE_DIR, \"output\", name)\n",
    "SRC_PATH = cfg.dir.src_path\n",
    "sys.path.append(SRC_PATH)\n",
    "\n",
    "os.makedirs(OUTPUT_PATH, exist_ok=True)  \n",
    "with open(EXP_PATH, \"r\", encoding=\"utf-8\") as f:\n",
    "    config = yaml.safe_load(f)\n",
    "shutil.copyfile(EXP_PATH, os.path.join(OUTPUT_PATH, f\"{EXP_NUM}.yaml\"))\n",
    "\n",
    "\n",
    "y_season = cfg.exp.tournament.target_season\n",
    "FEATURES = cfg.exp.features\n",
    "MODEL = cfg.exp.model\n",
    "results = [\"\", f\"-----{PREDICT_YEAR}-----\", now ,name, cfg.exp.print_name,\"\"]"
   ]
  },
  {
   "cell_type": "code",
   "execution_count": 5,
   "id": "f98d7d7d",
   "metadata": {
    "execution": {
     "iopub.execute_input": "2025-03-18T08:03:09.579346Z",
     "iopub.status.busy": "2025-03-18T08:03:09.571234Z",
     "iopub.status.idle": "2025-03-18T08:03:11.607779Z",
     "shell.execute_reply": "2025-03-18T08:03:11.607779Z"
    },
    "papermill": {
     "duration": 2.043616,
     "end_time": "2025-03-18T08:03:11.607779",
     "exception": false,
     "start_time": "2025-03-18T08:03:09.564163",
     "status": "completed"
    },
    "tags": []
   },
   "outputs": [],
   "source": [
    "tourney_results = pd.concat([\n",
    "    pd.read_csv(os.path.join(INPUT_PATH,\"MNCAATourneyDetailedResults.csv\")),\n",
    "    pd.read_csv(os.path.join(INPUT_PATH,\"WNCAATourneyDetailedResults.csv\")),\n",
    "], ignore_index=True)\n",
    "\n",
    "seeds = pd.concat([\n",
    "    pd.read_csv(os.path.join(INPUT_PATH,\"MNCAATourneySeeds.csv\")),\n",
    "    pd.read_csv(os.path.join(INPUT_PATH,\"WNCAATourneySeeds.csv\")),\n",
    "], ignore_index=True)\n",
    "\n",
    "regular_results = pd.concat([\n",
    "    pd.read_csv(os.path.join(INPUT_PATH, \"MRegularSeasonDetailedResults.csv\")),\n",
    "    pd.read_csv(os.path.join(INPUT_PATH,\"WRegularSeasonDetailedResults.csv\")),\n",
    "], ignore_index=True)\n",
    "\n",
    "ordinal_rank = pd.read_csv(os.path.join(INPUT_PATH, \"MMasseyOrdinals.csv\"))\n",
    "\n",
    "# 1試合情報からWin,Lose反転させてデータ数２倍にかさまし and WLoc -> location(0 or -1 or 1)\n",
    "def prepare_data(df1):\n",
    "    df = df1.copy()\n",
    "    ### add new box score\n",
    "    #type1: normal EFG\n",
    "    df['WEFFG'] = df['WFGM'] / df['WFGA']\n",
    "    df['LEFFG'] = df['LFGM'] / df['LFGA']\n",
    "    #type2: 1stfeature EFG\n",
    "    df['WEFFG3'] = np.where(df['WFGA3'] == 0, 0, df['WFGM3'] / df['WFGA3'])\n",
    "    df['LEFFG3'] = np.where(df['LFGA3'] == 0, 0, df['LFGM3'] / df['LFGA3'])\n",
    "    df['WDARE'] = df['WFGM3'] / df['WFGM']\n",
    "    df['LDARE'] = df['LFGM3'] / df['LFGM']\n",
    "    df['WTOQUETOQUE'] = df['WAst'] / df['WFGM']\n",
    "    df['LTOQUETOQUE'] = df['LAst'] / df['LFGM']\n",
    "    #type3: OFF/DEF FGE\n",
    "    df[\"WEFG_SUM\"] = (df[\"WFGM\"]+0.5*df[\"WFGM3\"])/df[\"WFGA\"]\n",
    "    df[\"LEFG_SUM\"] = (df[\"LFGM\"]+0.5*df[\"LFGM3\"])/df[\"LFGA\"]\n",
    "\n",
    "    #POSS RATE\n",
    "    df[\"WPOSS\"] = df[\"WFGA\"] + 0.44*df[\"WFTA\"] - df[\"WOR\"] + df[\"WTO\"]\n",
    "    df[\"LPOSS\"] = df[\"LFGA\"] + 0.44*df[\"LFTA\"] - df[\"LOR\"] + df[\"LTO\"]\n",
    "    df[\"WPOSS_RATE\"] = df[\"WPOSS\"]/(df[\"WPOSS\"]+df[\"LPOSS\"])\n",
    "    df[\"LPOSS_RATE\"] = df[\"LPOSS\"]/(df[\"WPOSS\"]+df[\"LPOSS\"])\n",
    "    \n",
    "    #TO Ratio \n",
    "    df[\"WTO_RATIO\"] = df[\"WTO\"]/(df[\"WFGA\"]+0.44*df[\"WFTA\"]+df[\"WTO\"])#POSS RATEと違ってOR入っていない\n",
    "    df[\"LTO_RATIO\"] = df[\"LTO\"]/(df[\"LFGA\"]+0.44*df[\"LFTA\"]+df[\"LTO\"])\n",
    "    \n",
    "    # REB%\n",
    "    df[\"WREB_RATE\"] = df[\"WOR\"]/(df[\"WOR\"]+df[\"LDR\"])\n",
    "    df[\"LREB_RATE\"] = df[\"LOR\"]/(df[\"LOR\"]+df[\"WDR\"])\n",
    "    \n",
    "    #FT %\n",
    "    df[\"WFT_RATE\"] = df[\"WFTA\"]/df[\"WFGA\"]\n",
    "    df[\"LFT_RATE\"] = df[\"LFTA\"]/df[\"LFGA\"]\n",
    "    \n",
    "    #rating\n",
    "    df[\"WRATING\"] = df[\"WScore\"]/df[\"WPOSS\"]\n",
    "    df[\"LRATING\"] = df[\"LScore\"]/df[\"LPOSS\"]\n",
    "    \n",
    "        \n",
    "    #0除算補完\n",
    "    print(df.info())\n",
    "        \n",
    "    #かさましに伴う反転カラム\n",
    "    dfswap = df.copy()\n",
    "    # Home, Away変換して反転\n",
    "    dfswap.loc[df['WLoc'] == 'H', 'WLoc'] = 'A'\n",
    "    dfswap.loc[df['WLoc'] == 'A', 'WLoc'] = 'H'\n",
    "    df.columns.values[6] = 'location'\n",
    "    dfswap.columns.values[6] = 'location'    \n",
    "    #反転\n",
    "    df.columns = [x.replace('W','T1_').replace('L','T2_') for x in list(df.columns)]\n",
    "    dfswap.columns = [x.replace('L','T1_').replace('W','T2_') for x in list(dfswap.columns)]\n",
    "    output = pd.concat([df, dfswap]).reset_index(drop=True)\n",
    "    \n",
    "    \n",
    "    #add new feature\n",
    "    #locationを数値に変換\n",
    "    output.loc[output.location=='N','location'] = '0'\n",
    "    output.loc[output.location=='H','location'] = '1'\n",
    "    output.loc[output.location=='A','location'] = '-1'\n",
    "    output.location = output.location.astype(int)\n",
    "    \n",
    "    #add PointDiff&win\n",
    "    output['PointDiff'] = output['T1_Score'] - output['T2_Score']\n",
    "    output[\"win\"] = np.where(output['PointDiff']>0,1,0)\n",
    "    \n",
    "    \n",
    "    print(f\"feature cols after prepare()\")\n",
    "    print(output.columns)\n",
    "    return output\n",
    "\n"
   ]
  },
  {
   "cell_type": "code",
   "execution_count": 6,
   "id": "9cec28ba",
   "metadata": {
    "execution": {
     "iopub.execute_input": "2025-03-18T08:03:11.634249Z",
     "iopub.status.busy": "2025-03-18T08:03:11.633421Z",
     "iopub.status.idle": "2025-03-18T08:03:11.718005Z",
     "shell.execute_reply": "2025-03-18T08:03:11.718005Z"
    },
    "papermill": {
     "duration": 0.10075,
     "end_time": "2025-03-18T08:03:11.720154",
     "exception": false,
     "start_time": "2025-03-18T08:03:11.619404",
     "status": "completed"
    },
    "tags": []
   },
   "outputs": [
    {
     "name": "stdout",
     "output_type": "stream",
     "text": [
      "各カラムの異常値の個数を表示します。\n",
      "\n"
     ]
    }
   ],
   "source": [
    "import numpy as np\n",
    "\n",
    "# 異常値のチェック\n",
    "def check_abnormal_values(df):\n",
    "    print(\"各カラムの異常値の個数を表示します。\\n\")\n",
    "\n",
    "    for col in df.columns:\n",
    "        nan_count = df[col].isna().sum()  # NaN の数\n",
    "        inf_count = (df[col] == np.inf).sum()  # inf の数\n",
    "        neg_inf_count = (df[col] == -np.inf).sum()  # -inf の数\n",
    "\n",
    "        if nan_count > 0 or inf_count > 0 or neg_inf_count > 0:\n",
    "            print(f\"Column: {col}\")\n",
    "            print(f\"  NaN    : {nan_count}\")\n",
    "            print(f\"  Inf    : {inf_count}\")\n",
    "            print(f\"  -Inf   : {neg_inf_count}\")\n",
    "            print(\"-\" * 30)\n",
    "\n",
    "# 関数を実行\n",
    "check_abnormal_values(regular_results)\n"
   ]
  },
  {
   "cell_type": "code",
   "execution_count": 7,
   "id": "17309390",
   "metadata": {
    "execution": {
     "iopub.execute_input": "2025-03-18T08:03:11.747850Z",
     "iopub.status.busy": "2025-03-18T08:03:11.747850Z",
     "iopub.status.idle": "2025-03-18T08:03:12.254267Z",
     "shell.execute_reply": "2025-03-18T08:03:12.254267Z"
    },
    "papermill": {
     "duration": 0.52224,
     "end_time": "2025-03-18T08:03:12.254267",
     "exception": false,
     "start_time": "2025-03-18T08:03:11.732027",
     "status": "completed"
    },
    "tags": []
   },
   "outputs": [
    {
     "name": "stdout",
     "output_type": "stream",
     "text": [
      "<class 'pandas.core.frame.DataFrame'>\n",
      "Index: 139193 entries, 0 to 170570\n",
      "Data columns (total 56 columns):\n",
      " #   Column       Non-Null Count   Dtype  \n",
      "---  ------       --------------   -----  \n",
      " 0   Season       139193 non-null  int64  \n",
      " 1   DayNum       139193 non-null  int64  \n",
      " 2   WTeamID      139193 non-null  int64  \n",
      " 3   WScore       139193 non-null  int64  \n",
      " 4   LTeamID      139193 non-null  int64  \n",
      " 5   LScore       139193 non-null  int64  \n",
      " 6   WLoc         139193 non-null  object \n",
      " 7   NumOT        139193 non-null  int64  \n",
      " 8   WFGM         139193 non-null  int64  \n",
      " 9   WFGA         139193 non-null  int64  \n",
      " 10  WFGM3        139193 non-null  int64  \n",
      " 11  WFGA3        139193 non-null  int64  \n",
      " 12  WFTM         139193 non-null  int64  \n",
      " 13  WFTA         139193 non-null  int64  \n",
      " 14  WOR          139193 non-null  int64  \n",
      " 15  WDR          139193 non-null  int64  \n",
      " 16  WAst         139193 non-null  int64  \n",
      " 17  WTO          139193 non-null  int64  \n",
      " 18  WStl         139193 non-null  int64  \n",
      " 19  WBlk         139193 non-null  int64  \n",
      " 20  WPF          139193 non-null  int64  \n",
      " 21  LFGM         139193 non-null  int64  \n",
      " 22  LFGA         139193 non-null  int64  \n",
      " 23  LFGM3        139193 non-null  int64  \n",
      " 24  LFGA3        139193 non-null  int64  \n",
      " 25  LFTM         139193 non-null  int64  \n",
      " 26  LFTA         139193 non-null  int64  \n",
      " 27  LOR          139193 non-null  int64  \n",
      " 28  LDR          139193 non-null  int64  \n",
      " 29  LAst         139193 non-null  int64  \n",
      " 30  LTO          139193 non-null  int64  \n",
      " 31  LStl         139193 non-null  int64  \n",
      " 32  LBlk         139193 non-null  int64  \n",
      " 33  LPF          139193 non-null  int64  \n",
      " 34  WEFFG        139193 non-null  float64\n",
      " 35  LEFFG        139193 non-null  float64\n",
      " 36  WEFFG3       139193 non-null  float64\n",
      " 37  LEFFG3       139193 non-null  float64\n",
      " 38  WDARE        139193 non-null  float64\n",
      " 39  LDARE        139193 non-null  float64\n",
      " 40  WTOQUETOQUE  139193 non-null  float64\n",
      " 41  LTOQUETOQUE  139193 non-null  float64\n",
      " 42  WEFG_SUM     139193 non-null  float64\n",
      " 43  LEFG_SUM     139193 non-null  float64\n",
      " 44  WPOSS        139193 non-null  float64\n",
      " 45  LPOSS        139193 non-null  float64\n",
      " 46  WPOSS_RATE   139193 non-null  float64\n",
      " 47  LPOSS_RATE   139193 non-null  float64\n",
      " 48  WTO_RATIO    139193 non-null  float64\n",
      " 49  LTO_RATIO    139193 non-null  float64\n",
      " 50  WREB_RATE    139193 non-null  float64\n",
      " 51  LREB_RATE    139193 non-null  float64\n",
      " 52  WFT_RATE     139193 non-null  float64\n",
      " 53  LFT_RATE     139193 non-null  float64\n",
      " 54  WRATING      139193 non-null  float64\n",
      " 55  LRATING      139193 non-null  float64\n",
      "dtypes: float64(22), int64(33), object(1)\n",
      "memory usage: 60.5+ MB\n",
      "None\n"
     ]
    },
    {
     "name": "stdout",
     "output_type": "stream",
     "text": [
      "feature cols after prepare()\n",
      "Index(['Season', 'DayNum', 'T1_TeamID', 'T1_Score', 'T2_TeamID', 'T2_Score',\n",
      "       'location', 'NumOT', 'T1_FGM', 'T1_FGA', 'T1_FGM3', 'T1_FGA3', 'T1_FTM',\n",
      "       'T1_FTA', 'T1_OR', 'T1_DR', 'T1_Ast', 'T1_TO', 'T1_Stl', 'T1_Blk',\n",
      "       'T1_PF', 'T2_FGM', 'T2_FGA', 'T2_FGM3', 'T2_FGA3', 'T2_FTM', 'T2_FTA',\n",
      "       'T2_OR', 'T2_DR', 'T2_Ast', 'T2_TO', 'T2_Stl', 'T2_Blk', 'T2_PF',\n",
      "       'T1_EFFG', 'T2_EFFG', 'T1_EFFG3', 'T2_EFFG3', 'T1_DARE', 'T2_DARE',\n",
      "       'T1_TOQUETOQUE', 'T2_TOQUETOQUE', 'T1_EFG_SUM', 'T2_EFG_SUM', 'T1_POSS',\n",
      "       'T2_POSS', 'T1_POSS_RATE', 'T2_POSS_RATE', 'T1_TO_RATIO', 'T2_TO_RATIO',\n",
      "       'T1_REB_RATE', 'T2_REB_RATE', 'T1_FT_RATE', 'T2_FT_RATE', 'T1_RATING',\n",
      "       'T2_RATING', 'PointDiff', 'win'],\n",
      "      dtype='object')\n",
      "<class 'pandas.core.frame.DataFrame'>\n",
      "RangeIndex: 278386 entries, 0 to 278385\n",
      "Data columns (total 58 columns):\n",
      " #   Column         Non-Null Count   Dtype  \n",
      "---  ------         --------------   -----  \n",
      " 0   Season         278386 non-null  int64  \n",
      " 1   DayNum         278386 non-null  int64  \n",
      " 2   T1_TeamID      278386 non-null  int64  \n",
      " 3   T1_Score       278386 non-null  int64  \n",
      " 4   T2_TeamID      278386 non-null  int64  \n",
      " 5   T2_Score       278386 non-null  int64  \n",
      " 6   location       278386 non-null  int32  \n",
      " 7   NumOT          278386 non-null  int64  \n",
      " 8   T1_FGM         278386 non-null  int64  \n",
      " 9   T1_FGA         278386 non-null  int64  \n",
      " 10  T1_FGM3        278386 non-null  int64  \n",
      " 11  T1_FGA3        278386 non-null  int64  \n",
      " 12  T1_FTM         278386 non-null  int64  \n",
      " 13  T1_FTA         278386 non-null  int64  \n",
      " 14  T1_OR          278386 non-null  int64  \n",
      " 15  T1_DR          278386 non-null  int64  \n",
      " 16  T1_Ast         278386 non-null  int64  \n",
      " 17  T1_TO          278386 non-null  int64  \n",
      " 18  T1_Stl         278386 non-null  int64  \n",
      " 19  T1_Blk         278386 non-null  int64  \n",
      " 20  T1_PF          278386 non-null  int64  \n",
      " 21  T2_FGM         278386 non-null  int64  \n",
      " 22  T2_FGA         278386 non-null  int64  \n",
      " 23  T2_FGM3        278386 non-null  int64  \n",
      " 24  T2_FGA3        278386 non-null  int64  \n",
      " 25  T2_FTM         278386 non-null  int64  \n",
      " 26  T2_FTA         278386 non-null  int64  \n",
      " 27  T2_OR          278386 non-null  int64  \n",
      " 28  T2_DR          278386 non-null  int64  \n",
      " 29  T2_Ast         278386 non-null  int64  \n",
      " 30  T2_TO          278386 non-null  int64  \n",
      " 31  T2_Stl         278386 non-null  int64  \n",
      " 32  T2_Blk         278386 non-null  int64  \n",
      " 33  T2_PF          278386 non-null  int64  \n",
      " 34  T1_EFFG        278386 non-null  float64\n",
      " 35  T2_EFFG        278386 non-null  float64\n",
      " 36  T1_EFFG3       278386 non-null  float64\n",
      " 37  T2_EFFG3       278386 non-null  float64\n",
      " 38  T1_DARE        278386 non-null  float64\n",
      " 39  T2_DARE        278386 non-null  float64\n",
      " 40  T1_TOQUETOQUE  278386 non-null  float64\n",
      " 41  T2_TOQUETOQUE  278386 non-null  float64\n",
      " 42  T1_EFG_SUM     278386 non-null  float64\n",
      " 43  T2_EFG_SUM     278386 non-null  float64\n",
      " 44  T1_POSS        278386 non-null  float64\n",
      " 45  T2_POSS        278386 non-null  float64\n",
      " 46  T1_POSS_RATE   278386 non-null  float64\n",
      " 47  T2_POSS_RATE   278386 non-null  float64\n",
      " 48  T1_TO_RATIO    278386 non-null  float64\n",
      " 49  T2_TO_RATIO    278386 non-null  float64\n",
      " 50  T1_REB_RATE    278386 non-null  float64\n",
      " 51  T2_REB_RATE    278386 non-null  float64\n",
      " 52  T1_FT_RATE     278386 non-null  float64\n",
      " 53  T2_FT_RATE     278386 non-null  float64\n",
      " 54  T1_RATING      278386 non-null  float64\n",
      " 55  T2_RATING      278386 non-null  float64\n",
      " 56  PointDiff      278386 non-null  int64  \n",
      " 57  win            278386 non-null  int32  \n",
      "dtypes: float64(22), int32(2), int64(34)\n",
      "memory usage: 121.1 MB\n"
     ]
    },
    {
     "data": {
      "text/html": [
       "<div>\n",
       "<style scoped>\n",
       "    .dataframe tbody tr th:only-of-type {\n",
       "        vertical-align: middle;\n",
       "    }\n",
       "\n",
       "    .dataframe tbody tr th {\n",
       "        vertical-align: top;\n",
       "    }\n",
       "\n",
       "    .dataframe thead th {\n",
       "        text-align: right;\n",
       "    }\n",
       "</style>\n",
       "<table border=\"1\" class=\"dataframe\">\n",
       "  <thead>\n",
       "    <tr style=\"text-align: right;\">\n",
       "      <th></th>\n",
       "      <th>Season</th>\n",
       "      <th>DayNum</th>\n",
       "      <th>T1_TeamID</th>\n",
       "      <th>T1_Score</th>\n",
       "      <th>T2_TeamID</th>\n",
       "      <th>T2_Score</th>\n",
       "      <th>location</th>\n",
       "      <th>NumOT</th>\n",
       "      <th>T1_FGM</th>\n",
       "      <th>T1_FGA</th>\n",
       "      <th>...</th>\n",
       "      <th>T1_TO_RATIO</th>\n",
       "      <th>T2_TO_RATIO</th>\n",
       "      <th>T1_REB_RATE</th>\n",
       "      <th>T2_REB_RATE</th>\n",
       "      <th>T1_FT_RATE</th>\n",
       "      <th>T2_FT_RATE</th>\n",
       "      <th>T1_RATING</th>\n",
       "      <th>T2_RATING</th>\n",
       "      <th>PointDiff</th>\n",
       "      <th>win</th>\n",
       "    </tr>\n",
       "  </thead>\n",
       "  <tbody>\n",
       "    <tr>\n",
       "      <th>0</th>\n",
       "      <td>2003</td>\n",
       "      <td>10</td>\n",
       "      <td>1104</td>\n",
       "      <td>68</td>\n",
       "      <td>1328</td>\n",
       "      <td>62</td>\n",
       "      <td>0</td>\n",
       "      <td>0</td>\n",
       "      <td>27</td>\n",
       "      <td>58</td>\n",
       "      <td>...</td>\n",
       "      <td>0.258659</td>\n",
       "      <td>0.223104</td>\n",
       "      <td>0.388889</td>\n",
       "      <td>0.294118</td>\n",
       "      <td>0.310345</td>\n",
       "      <td>0.415094</td>\n",
       "      <td>0.907635</td>\n",
       "      <td>0.877193</td>\n",
       "      <td>6</td>\n",
       "      <td>1</td>\n",
       "    </tr>\n",
       "    <tr>\n",
       "      <th>1</th>\n",
       "      <td>2003</td>\n",
       "      <td>10</td>\n",
       "      <td>1272</td>\n",
       "      <td>70</td>\n",
       "      <td>1393</td>\n",
       "      <td>63</td>\n",
       "      <td>0</td>\n",
       "      <td>0</td>\n",
       "      <td>26</td>\n",
       "      <td>62</td>\n",
       "      <td>...</td>\n",
       "      <td>0.155950</td>\n",
       "      <td>0.136674</td>\n",
       "      <td>0.375000</td>\n",
       "      <td>0.416667</td>\n",
       "      <td>0.306452</td>\n",
       "      <td>0.298507</td>\n",
       "      <td>1.023991</td>\n",
       "      <td>0.929204</td>\n",
       "      <td>7</td>\n",
       "      <td>1</td>\n",
       "    </tr>\n",
       "    <tr>\n",
       "      <th>2</th>\n",
       "      <td>2003</td>\n",
       "      <td>11</td>\n",
       "      <td>1266</td>\n",
       "      <td>73</td>\n",
       "      <td>1437</td>\n",
       "      <td>61</td>\n",
       "      <td>0</td>\n",
       "      <td>0</td>\n",
       "      <td>24</td>\n",
       "      <td>58</td>\n",
       "      <td>...</td>\n",
       "      <td>0.123824</td>\n",
       "      <td>0.126156</td>\n",
       "      <td>0.435897</td>\n",
       "      <td>0.543860</td>\n",
       "      <td>0.500000</td>\n",
       "      <td>0.315068</td>\n",
       "      <td>1.144918</td>\n",
       "      <td>0.951341</td>\n",
       "      <td>12</td>\n",
       "      <td>1</td>\n",
       "    </tr>\n",
       "    <tr>\n",
       "      <th>3</th>\n",
       "      <td>2003</td>\n",
       "      <td>11</td>\n",
       "      <td>1296</td>\n",
       "      <td>56</td>\n",
       "      <td>1457</td>\n",
       "      <td>50</td>\n",
       "      <td>0</td>\n",
       "      <td>0</td>\n",
       "      <td>18</td>\n",
       "      <td>38</td>\n",
       "      <td>...</td>\n",
       "      <td>0.188561</td>\n",
       "      <td>0.254692</td>\n",
       "      <td>0.230769</td>\n",
       "      <td>0.472222</td>\n",
       "      <td>0.815789</td>\n",
       "      <td>0.306122</td>\n",
       "      <td>0.971548</td>\n",
       "      <td>0.868056</td>\n",
       "      <td>6</td>\n",
       "      <td>1</td>\n",
       "    </tr>\n",
       "    <tr>\n",
       "      <th>4</th>\n",
       "      <td>2003</td>\n",
       "      <td>11</td>\n",
       "      <td>1400</td>\n",
       "      <td>77</td>\n",
       "      <td>1208</td>\n",
       "      <td>71</td>\n",
       "      <td>0</td>\n",
       "      <td>0</td>\n",
       "      <td>30</td>\n",
       "      <td>61</td>\n",
       "      <td>...</td>\n",
       "      <td>0.173439</td>\n",
       "      <td>0.119218</td>\n",
       "      <td>0.531250</td>\n",
       "      <td>0.488372</td>\n",
       "      <td>0.213115</td>\n",
       "      <td>0.435484</td>\n",
       "      <td>1.208412</td>\n",
       "      <td>1.129135</td>\n",
       "      <td>6</td>\n",
       "      <td>1</td>\n",
       "    </tr>\n",
       "  </tbody>\n",
       "</table>\n",
       "<p>5 rows × 58 columns</p>\n",
       "</div>"
      ],
      "text/plain": [
       "   Season  DayNum  T1_TeamID  T1_Score  T2_TeamID  T2_Score  location  NumOT  \\\n",
       "0    2003      10       1104        68       1328        62         0      0   \n",
       "1    2003      10       1272        70       1393        63         0      0   \n",
       "2    2003      11       1266        73       1437        61         0      0   \n",
       "3    2003      11       1296        56       1457        50         0      0   \n",
       "4    2003      11       1400        77       1208        71         0      0   \n",
       "\n",
       "   T1_FGM  T1_FGA  ...  T1_TO_RATIO  T2_TO_RATIO  T1_REB_RATE  T2_REB_RATE  \\\n",
       "0      27      58  ...     0.258659     0.223104     0.388889     0.294118   \n",
       "1      26      62  ...     0.155950     0.136674     0.375000     0.416667   \n",
       "2      24      58  ...     0.123824     0.126156     0.435897     0.543860   \n",
       "3      18      38  ...     0.188561     0.254692     0.230769     0.472222   \n",
       "4      30      61  ...     0.173439     0.119218     0.531250     0.488372   \n",
       "\n",
       "   T1_FT_RATE  T2_FT_RATE  T1_RATING  T2_RATING  PointDiff  win  \n",
       "0    0.310345    0.415094   0.907635   0.877193          6    1  \n",
       "1    0.306452    0.298507   1.023991   0.929204          7    1  \n",
       "2    0.500000    0.315068   1.144918   0.951341         12    1  \n",
       "3    0.815789    0.306122   0.971548   0.868056          6    1  \n",
       "4    0.213115    0.435484   1.208412   1.129135          6    1  \n",
       "\n",
       "[5 rows x 58 columns]"
      ]
     },
     "metadata": {},
     "output_type": "display_data"
    },
    {
     "data": {
      "text/plain": [
       "None"
      ]
     },
     "metadata": {},
     "output_type": "display_data"
    }
   ],
   "source": [
    "#予測する年以降の情報はフィルタリング\n",
    "USE_START_YEAR = cfg.exp.tournament.use_start_season\n",
    "notexist = tourney_results[tourney_results[\"Season\"] == PREDICT_YEAR]\n",
    "tourney_results = tourney_results[(tourney_results[\"Season\"] >= USE_START_YEAR) & (tourney_results[\"Season\"] < PREDICT_YEAR)]\n",
    "seeds = seeds[(seeds[\"Season\"] >= USE_START_YEAR) & (seeds[\"Season\"] <= PREDICT_YEAR)]\n",
    "regular_results = regular_results[(regular_results[\"Season\"] >= USE_START_YEAR) & (regular_results[\"Season\"] <= PREDICT_YEAR)]\n",
    "\n",
    "regular_data = prepare_data(regular_results)\n",
    "display(regular_data.head(), regular_data.info())"
   ]
  },
  {
   "cell_type": "code",
   "execution_count": 8,
   "id": "6c208874",
   "metadata": {
    "execution": {
     "iopub.execute_input": "2025-03-18T08:03:12.280575Z",
     "iopub.status.busy": "2025-03-18T08:03:12.280575Z",
     "iopub.status.idle": "2025-03-18T08:03:12.302996Z",
     "shell.execute_reply": "2025-03-18T08:03:12.302996Z"
    },
    "papermill": {
     "duration": 0.035277,
     "end_time": "2025-03-18T08:03:12.302996",
     "exception": false,
     "start_time": "2025-03-18T08:03:12.267719",
     "status": "completed"
    },
    "tags": []
   },
   "outputs": [],
   "source": [
    "#使用特徴量(boxscore_cols)を取得してそれに対して(\"Season\", 'T1_TeamID')でまとめた特徴量の追加\n",
    "#### 1. win_ration_14d ####\n",
    "def add_win_ratio_14d(df):\n",
    "    df_filtered = df[df['DayNum'] > 118].copy()\n",
    "    df_filtered['Win'] = (df_filtered['PointDiff'] > 0).astype(int)\n",
    "    \n",
    "    win_ratio_t1 = df_filtered.groupby(['Season', 'T1_TeamID'])['Win'].mean().reset_index()\n",
    "    win_ratio_t1.rename(columns={'Win': 'T1_win_ratio_14d'}, inplace=True)\n",
    "    \n",
    "    win_ratio_t2 = df_filtered.groupby(['Season', 'T2_TeamID'])['Win'].mean().reset_index()\n",
    "    win_ratio_t2.rename(columns={'Win': 'T2_win_ratio_14d'}, inplace=True)\n",
    "    \n",
    "    df = df.merge(win_ratio_t1, on=['Season', 'T1_TeamID'], how='left')\n",
    "    df = df.merge(win_ratio_t2, on=['Season', 'T2_TeamID'], how='left')\n",
    "    \n",
    "    return df\n",
    "\n",
    "##### 2. add mean of boxscore ####\n",
    "def make_col_avg(df, boxscore, group = [\"Season\", \"T1_TeamID\"], func= [np.mean]):\n",
    "    df_stat = df.groupby(group)[boxscore].agg(func)\n",
    "    df_stat.columns = [''.join(col).strip() for col in df_stat.columns.values]\n",
    "    df_stat = df_stat.reset_index()\n",
    "\n",
    "    win_ratio_cols = ['T1_win_ratio_14d'] #ここマージの関係からT2_win_ratio_14dを外したけど大丈夫か考える\n",
    "    df_win_ratio = df[group + win_ratio_cols].drop_duplicates()\n",
    "    df_stat = df_stat.merge(df_win_ratio, on=group, how='left')\n",
    "    \n",
    "    return df_stat\n",
    "\n",
    "#### 3. add team quality ####\n",
    "# 3.0 ロジスティックを行うためのregular_season_effectsデータフレームの作成\n",
    "def make_regular_season_effects(df):\n",
    "    regular_season_effects = df[['Season', 'T1_TeamID', 'T2_TeamID', 'PointDiff']].copy()\n",
    "    regular_season_effects['win'] = np.where(regular_season_effects['PointDiff'] > 0, 1, 0)\n",
    "    return regular_season_effects\n",
    "\n",
    "# 3.1\n",
    "#各シーズンごとの総当たりに対するロジスティック回帰を行う\n",
    "#目的変数はfeatureenginneringから作成したPointDiffの正負に依存するWinとする.\n",
    "#新たな特徴量\"quarity\"をseasonごとの戦績をもとにロジスティックの回帰係数として導入している\n",
    "def team_quality(season,df):\n",
    "    season_data = df[df[\"Season\"] == season]\n",
    "    X = season_data[['T1_TeamID', 'T2_TeamID']]\n",
    "    y = season_data['win']\n",
    "    print(X.shape, y.shape)\n",
    "    encoder = OneHotEncoder(sparse_output=False) #多重共線性防止, 密行列指定\n",
    "    X_encoded = encoder.fit_transform(X)\n",
    "    \n",
    "    model = LogisticRegression(fit_intercept=False)\n",
    "    model.fit(X_encoded, y)\n",
    "    team_ids = encoder.get_feature_names_out(['T1_TeamID', 'T2_TeamID'])\n",
    "\n",
    "    \n",
    "    #quarity: (チーム数)*2(ID, 回帰係数)\n",
    "    quality = pd.DataFrame({\n",
    "        'TeamID': team_ids,\n",
    "        'quality': model.coef_.flatten() #T1_TeamID_1112,,,の形でチーム数分の回帰係数が入る\n",
    "    })\n",
    "\n",
    "    # 値をint 1112 のように整形\n",
    "    quality = quality[quality['TeamID'].str.contains('T1_TeamID')]\n",
    "    quality['TeamID'] = quality['TeamID'].str.replace('T1_TeamID_', '', regex=True).astype(int)\n",
    "    quality['Season'] = season\n",
    "\n",
    "    #display(quality.head())\n",
    "    print(f\"fin make {season}'s team quarity\")\n",
    "    return quality\n",
    "\n",
    "# 4. add seed\n",
    "def add_seed(df, seeds):\n",
    "    temp = seeds.copy()\n",
    "    temp['Seed'] = temp['Seed'].apply(lambda x: int(x[1:3]))\n",
    "    temp.columns = ['Season','T1_seed','T1_TeamID']\n",
    "    df = pd.merge(df, temp, on=[\"Season\", \"T1_TeamID\"], how=\"left\")\n",
    "    return df \n",
    "\n",
    "# 5. add Ordinal rank\n",
    "def add_ordinalrank(df, ordinal):\n",
    "    df_rank = ordinal.groupby([\"Season\", \"TeamID\"])[\"OrdinalRank\"].agg(np.mean).reset_index()\n",
    "    df_rank.head()\n",
    "    ranks = df_rank.rename(columns={'TeamID': 'T1_TeamID', 'OrdinalRank': 'T1_OrdinalRank'})\n",
    "    df = pd.merge(df,ranks,on = [\"Season\",\"T1_TeamID\"],how = \"left\")\n",
    "    return df\n",
    "\n",
    "# main \n",
    "def make_season_statistics(df, boxscore, seeds, func = [np.mean]):\n",
    "    # 1. Win Ratio の計算と追加\n",
    "    add_win = add_win_ratio_14d(df)\n",
    "    print(\"after add win ratio\")\n",
    "    print(add_win.columns)  \n",
    "    \n",
    "    #2. \n",
    "    add_mean = make_col_avg(add_win, boxscore)\n",
    "    print(\"after mean of boxscore\")\n",
    "    print(add_mean.columns)\n",
    "    \n",
    "    #3. \n",
    "    global PREDICT_YEAR, USE_START_YEAR\n",
    "    start_season = max(FEATURES.start_quality_season, USE_START_YEAR)\n",
    "    print(f\"use season for quality feature is: {start_season}\")\n",
    "    regular_season_effects = make_regular_season_effects(df)\n",
    "    glm_season = [i for i in range(start_season, PREDICT_YEAR+1)]\n",
    "\n",
    "    if 2020 in glm_season:\n",
    "        glm_season.remove(2020)\n",
    "    glm_quality = pd.concat([team_quality(season, regular_season_effects) for season in glm_season]).reset_index(drop=True)\n",
    "    # add glm quality \n",
    "    glm_quality_T1 = glm_quality.rename(columns={'TeamID': 'T1_TeamID', 'quality': 'T1_quality'})\n",
    "    add_glm = add_mean.merge(glm_quality_T1, on=['Season', 'T1_TeamID'], how='left')\n",
    "\n",
    "    print(\"add glm quality\")\n",
    "    print(add_glm.columns)\n",
    "    \n",
    "    #4. \n",
    "    add_seeds = add_seed(add_glm, seeds)\n",
    "    print(\"add seeds (final form)\")\n",
    "    print(add_seeds.columns)\n",
    "    \n",
    "    #5. \n",
    "    add_rank = add_ordinalrank(add_seeds, ordinal_rank)\n",
    "    print(\"add ordinal rank\")\n",
    "    print(add_rank.columns)  \n",
    "    return add_rank"
   ]
  },
  {
   "cell_type": "code",
   "execution_count": 9,
   "id": "bec9e65d",
   "metadata": {
    "execution": {
     "iopub.execute_input": "2025-03-18T08:03:12.323512Z",
     "iopub.status.busy": "2025-03-18T08:03:12.323512Z",
     "iopub.status.idle": "2025-03-18T08:03:15.692719Z",
     "shell.execute_reply": "2025-03-18T08:03:15.692719Z"
    },
    "papermill": {
     "duration": 3.380337,
     "end_time": "2025-03-18T08:03:15.692719",
     "exception": false,
     "start_time": "2025-03-18T08:03:12.312382",
     "status": "completed"
    },
    "tags": []
   },
   "outputs": [
    {
     "name": "stdout",
     "output_type": "stream",
     "text": [
      "use boxscore col is\n",
      "['T1_Score', 'T2_Score', 'PointDiff', 'T1_FGA', 'T2_FGA', 'T1_FGM', 'T2_FGM', 'T1_EFG_SUM', 'T2_EFG_SUM', 'T1_TO_RATIO', 'T2_TO_RATIO', 'T1_OR', 'T2_OR', 'T1_DR', 'T2_DR', 'T1_REB_RATE', 'T2_REB_RATE', 'T1_FT_RATE', 'T2_FT_RATE', 'T1_POSS_RATE', 'T2_POSS_RATE', 'T1_Ast', 'T2_Ast', 'T1_TO', 'T2_TO', 'T1_Stl', 'T2_Stl', 'T1_Blk', 'T2_Blk', 'T1_PF', 'T2_PF']\n"
     ]
    },
    {
     "name": "stdout",
     "output_type": "stream",
     "text": [
      "after add win ratio\n",
      "Index(['Season', 'DayNum', 'T1_TeamID', 'T1_Score', 'T2_TeamID', 'T2_Score',\n",
      "       'location', 'NumOT', 'T1_FGM', 'T1_FGA', 'T1_FGM3', 'T1_FGA3', 'T1_FTM',\n",
      "       'T1_FTA', 'T1_OR', 'T1_DR', 'T1_Ast', 'T1_TO', 'T1_Stl', 'T1_Blk',\n",
      "       'T1_PF', 'T2_FGM', 'T2_FGA', 'T2_FGM3', 'T2_FGA3', 'T2_FTM', 'T2_FTA',\n",
      "       'T2_OR', 'T2_DR', 'T2_Ast', 'T2_TO', 'T2_Stl', 'T2_Blk', 'T2_PF',\n",
      "       'T1_EFFG', 'T2_EFFG', 'T1_EFFG3', 'T2_EFFG3', 'T1_DARE', 'T2_DARE',\n",
      "       'T1_TOQUETOQUE', 'T2_TOQUETOQUE', 'T1_EFG_SUM', 'T2_EFG_SUM', 'T1_POSS',\n",
      "       'T2_POSS', 'T1_POSS_RATE', 'T2_POSS_RATE', 'T1_TO_RATIO', 'T2_TO_RATIO',\n",
      "       'T1_REB_RATE', 'T2_REB_RATE', 'T1_FT_RATE', 'T2_FT_RATE', 'T1_RATING',\n",
      "       'T2_RATING', 'PointDiff', 'win', 'T1_win_ratio_14d',\n",
      "       'T2_win_ratio_14d'],\n",
      "      dtype='object')\n",
      "after mean of boxscore\n",
      "Index(['Season', 'T1_TeamID', 'T1_Scoremean', 'T2_Scoremean', 'PointDiffmean',\n",
      "       'T1_FGAmean', 'T2_FGAmean', 'T1_FGMmean', 'T2_FGMmean',\n",
      "       'T1_EFG_SUMmean', 'T2_EFG_SUMmean', 'T1_TO_RATIOmean',\n",
      "       'T2_TO_RATIOmean', 'T1_ORmean', 'T2_ORmean', 'T1_DRmean', 'T2_DRmean',\n",
      "       'T1_REB_RATEmean', 'T2_REB_RATEmean', 'T1_FT_RATEmean',\n",
      "       'T2_FT_RATEmean', 'T1_POSS_RATEmean', 'T2_POSS_RATEmean', 'T1_Astmean',\n",
      "       'T2_Astmean', 'T1_TOmean', 'T2_TOmean', 'T1_Stlmean', 'T2_Stlmean',\n",
      "       'T1_Blkmean', 'T2_Blkmean', 'T1_PFmean', 'T2_PFmean',\n",
      "       'T1_win_ratio_14d'],\n",
      "      dtype='object')\n",
      "use season for quality feature is: 2003\n",
      "(9232, 2) (9232,)\n"
     ]
    },
    {
     "name": "stderr",
     "output_type": "stream",
     "text": [
      "C:\\Users\\81809\\AppData\\Local\\Temp\\ipykernel_11780\\386782032.py:20: FutureWarning: The provided callable <function mean at 0x00000295AD6E6520> is currently using SeriesGroupBy.mean. In a future version of pandas, the provided callable will be used directly. To keep current behavior pass the string \"mean\" instead.\n",
      "  df_stat = df.groupby(group)[boxscore].agg(func)\n"
     ]
    },
    {
     "name": "stdout",
     "output_type": "stream",
     "text": [
      "fin make 2003's team quarity\n",
      "(9142, 2) (9142,)\n",
      "fin make 2004's team quarity\n",
      "(9350, 2) (9350,)\n",
      "fin make 2005's team quarity\n",
      "(9514, 2) (9514,)\n",
      "fin make 2006's team quarity\n",
      "(10086, 2) (10086,)\n"
     ]
    },
    {
     "name": "stdout",
     "output_type": "stream",
     "text": [
      "fin make 2007's team quarity\n",
      "(10326, 2) (10326,)\n",
      "fin make 2008's team quarity\n",
      "(10498, 2) (10498,)\n",
      "fin make 2009's team quarity\n",
      "(20600, 2) (20600,)\n"
     ]
    },
    {
     "name": "stdout",
     "output_type": "stream",
     "text": [
      "fin make 2010's team quarity\n",
      "(20660, 2) (20660,)\n",
      "fin make 2011's team quarity\n",
      "(20606, 2) (20606,)\n"
     ]
    },
    {
     "name": "stdout",
     "output_type": "stream",
     "text": [
      "fin make 2012's team quarity\n",
      "(21008, 2) (21008,)\n"
     ]
    },
    {
     "name": "stdout",
     "output_type": "stream",
     "text": [
      "fin make 2013's team quarity\n",
      "(21228, 2) (21228,)\n"
     ]
    },
    {
     "name": "stdout",
     "output_type": "stream",
     "text": [
      "fin make 2014's team quarity\n",
      "(21136, 2) (21136,)\n",
      "fin make 2015's team quarity\n",
      "(21156, 2) (21156,)\n"
     ]
    },
    {
     "name": "stdout",
     "output_type": "stream",
     "text": [
      "fin make 2016's team quarity\n",
      "(21210, 2) (21210,)\n"
     ]
    },
    {
     "name": "stdout",
     "output_type": "stream",
     "text": [
      "fin make 2017's team quarity\n",
      "(21228, 2) (21228,)\n"
     ]
    },
    {
     "name": "stdout",
     "output_type": "stream",
     "text": [
      "fin make 2018's team quarity\n",
      "(21406, 2) (21406,)\n"
     ]
    },
    {
     "name": "stdout",
     "output_type": "stream",
     "text": [
      "fin make 2019's team quarity\n",
      "add glm quality\n",
      "Index(['Season', 'T1_TeamID', 'T1_Scoremean', 'T2_Scoremean', 'PointDiffmean',\n",
      "       'T1_FGAmean', 'T2_FGAmean', 'T1_FGMmean', 'T2_FGMmean',\n",
      "       'T1_EFG_SUMmean', 'T2_EFG_SUMmean', 'T1_TO_RATIOmean',\n",
      "       'T2_TO_RATIOmean', 'T1_ORmean', 'T2_ORmean', 'T1_DRmean', 'T2_DRmean',\n",
      "       'T1_REB_RATEmean', 'T2_REB_RATEmean', 'T1_FT_RATEmean',\n",
      "       'T2_FT_RATEmean', 'T1_POSS_RATEmean', 'T2_POSS_RATEmean', 'T1_Astmean',\n",
      "       'T2_Astmean', 'T1_TOmean', 'T2_TOmean', 'T1_Stlmean', 'T2_Stlmean',\n",
      "       'T1_Blkmean', 'T2_Blkmean', 'T1_PFmean', 'T2_PFmean',\n",
      "       'T1_win_ratio_14d', 'T1_quality'],\n",
      "      dtype='object')\n",
      "add seeds (final form)\n",
      "Index(['Season', 'T1_TeamID', 'T1_Scoremean', 'T2_Scoremean', 'PointDiffmean',\n",
      "       'T1_FGAmean', 'T2_FGAmean', 'T1_FGMmean', 'T2_FGMmean',\n",
      "       'T1_EFG_SUMmean', 'T2_EFG_SUMmean', 'T1_TO_RATIOmean',\n",
      "       'T2_TO_RATIOmean', 'T1_ORmean', 'T2_ORmean', 'T1_DRmean', 'T2_DRmean',\n",
      "       'T1_REB_RATEmean', 'T2_REB_RATEmean', 'T1_FT_RATEmean',\n",
      "       'T2_FT_RATEmean', 'T1_POSS_RATEmean', 'T2_POSS_RATEmean', 'T1_Astmean',\n",
      "       'T2_Astmean', 'T1_TOmean', 'T2_TOmean', 'T1_Stlmean', 'T2_Stlmean',\n",
      "       'T1_Blkmean', 'T2_Blkmean', 'T1_PFmean', 'T2_PFmean',\n",
      "       'T1_win_ratio_14d', 'T1_quality', 'T1_seed'],\n",
      "      dtype='object')\n"
     ]
    },
    {
     "name": "stderr",
     "output_type": "stream",
     "text": [
      "C:\\Users\\81809\\AppData\\Local\\Temp\\ipykernel_11780\\386782032.py:79: FutureWarning: The provided callable <function mean at 0x00000295AD6E6520> is currently using SeriesGroupBy.mean. In a future version of pandas, the provided callable will be used directly. To keep current behavior pass the string \"mean\" instead.\n",
      "  df_rank = ordinal.groupby([\"Season\", \"TeamID\"])[\"OrdinalRank\"].agg(np.mean).reset_index()\n"
     ]
    },
    {
     "name": "stdout",
     "output_type": "stream",
     "text": [
      "add ordinal rank\n",
      "Index(['Season', 'T1_TeamID', 'T1_Scoremean', 'T2_Scoremean', 'PointDiffmean',\n",
      "       'T1_FGAmean', 'T2_FGAmean', 'T1_FGMmean', 'T2_FGMmean',\n",
      "       'T1_EFG_SUMmean', 'T2_EFG_SUMmean', 'T1_TO_RATIOmean',\n",
      "       'T2_TO_RATIOmean', 'T1_ORmean', 'T2_ORmean', 'T1_DRmean', 'T2_DRmean',\n",
      "       'T1_REB_RATEmean', 'T2_REB_RATEmean', 'T1_FT_RATEmean',\n",
      "       'T2_FT_RATEmean', 'T1_POSS_RATEmean', 'T2_POSS_RATEmean', 'T1_Astmean',\n",
      "       'T2_Astmean', 'T1_TOmean', 'T2_TOmean', 'T1_Stlmean', 'T2_Stlmean',\n",
      "       'T1_Blkmean', 'T2_Blkmean', 'T1_PFmean', 'T2_PFmean',\n",
      "       'T1_win_ratio_14d', 'T1_quality', 'T1_seed', 'T1_OrdinalRank'],\n",
      "      dtype='object')\n"
     ]
    },
    {
     "data": {
      "text/html": [
       "<div>\n",
       "<style scoped>\n",
       "    .dataframe tbody tr th:only-of-type {\n",
       "        vertical-align: middle;\n",
       "    }\n",
       "\n",
       "    .dataframe tbody tr th {\n",
       "        vertical-align: top;\n",
       "    }\n",
       "\n",
       "    .dataframe thead th {\n",
       "        text-align: right;\n",
       "    }\n",
       "</style>\n",
       "<table border=\"1\" class=\"dataframe\">\n",
       "  <thead>\n",
       "    <tr style=\"text-align: right;\">\n",
       "      <th></th>\n",
       "      <th>Season</th>\n",
       "      <th>T1_TeamID</th>\n",
       "      <th>T1_Scoremean</th>\n",
       "      <th>T2_Scoremean</th>\n",
       "      <th>PointDiffmean</th>\n",
       "      <th>T1_FGAmean</th>\n",
       "      <th>T2_FGAmean</th>\n",
       "      <th>T1_FGMmean</th>\n",
       "      <th>T2_FGMmean</th>\n",
       "      <th>T1_EFG_SUMmean</th>\n",
       "      <th>...</th>\n",
       "      <th>T1_Stlmean</th>\n",
       "      <th>T2_Stlmean</th>\n",
       "      <th>T1_Blkmean</th>\n",
       "      <th>T2_Blkmean</th>\n",
       "      <th>T1_PFmean</th>\n",
       "      <th>T2_PFmean</th>\n",
       "      <th>T1_win_ratio_14d</th>\n",
       "      <th>T1_quality</th>\n",
       "      <th>T1_seed</th>\n",
       "      <th>T1_OrdinalRank</th>\n",
       "    </tr>\n",
       "  </thead>\n",
       "  <tbody>\n",
       "    <tr>\n",
       "      <th>9298</th>\n",
       "      <td>2019</td>\n",
       "      <td>3462</td>\n",
       "      <td>60.862069</td>\n",
       "      <td>66.482759</td>\n",
       "      <td>-5.620690</td>\n",
       "      <td>57.517241</td>\n",
       "      <td>59.758621</td>\n",
       "      <td>21.896552</td>\n",
       "      <td>24.448276</td>\n",
       "      <td>0.448019</td>\n",
       "      <td>...</td>\n",
       "      <td>7.586207</td>\n",
       "      <td>7.758621</td>\n",
       "      <td>2.586207</td>\n",
       "      <td>3.172414</td>\n",
       "      <td>15.241379</td>\n",
       "      <td>15.172414</td>\n",
       "      <td>0.0</td>\n",
       "      <td>-0.296941</td>\n",
       "      <td>NaN</td>\n",
       "      <td>NaN</td>\n",
       "    </tr>\n",
       "    <tr>\n",
       "      <th>9299</th>\n",
       "      <td>2019</td>\n",
       "      <td>3463</td>\n",
       "      <td>63.344828</td>\n",
       "      <td>61.551724</td>\n",
       "      <td>1.793103</td>\n",
       "      <td>60.517241</td>\n",
       "      <td>60.379310</td>\n",
       "      <td>23.724138</td>\n",
       "      <td>21.965517</td>\n",
       "      <td>0.438814</td>\n",
       "      <td>...</td>\n",
       "      <td>5.172414</td>\n",
       "      <td>8.344828</td>\n",
       "      <td>3.586207</td>\n",
       "      <td>2.517241</td>\n",
       "      <td>16.448276</td>\n",
       "      <td>17.551724</td>\n",
       "      <td>0.0</td>\n",
       "      <td>0.134368</td>\n",
       "      <td>NaN</td>\n",
       "      <td>NaN</td>\n",
       "    </tr>\n",
       "    <tr>\n",
       "      <th>9300</th>\n",
       "      <td>2019</td>\n",
       "      <td>3464</td>\n",
       "      <td>68.137931</td>\n",
       "      <td>58.000000</td>\n",
       "      <td>10.137931</td>\n",
       "      <td>55.758621</td>\n",
       "      <td>58.655172</td>\n",
       "      <td>23.241379</td>\n",
       "      <td>21.862069</td>\n",
       "      <td>0.494845</td>\n",
       "      <td>...</td>\n",
       "      <td>4.344828</td>\n",
       "      <td>7.448276</td>\n",
       "      <td>3.482759</td>\n",
       "      <td>3.482759</td>\n",
       "      <td>13.862069</td>\n",
       "      <td>17.896552</td>\n",
       "      <td>0.5</td>\n",
       "      <td>0.638405</td>\n",
       "      <td>NaN</td>\n",
       "      <td>NaN</td>\n",
       "    </tr>\n",
       "    <tr>\n",
       "      <th>9301</th>\n",
       "      <td>2019</td>\n",
       "      <td>3465</td>\n",
       "      <td>76.200000</td>\n",
       "      <td>69.840000</td>\n",
       "      <td>6.360000</td>\n",
       "      <td>67.520000</td>\n",
       "      <td>69.200000</td>\n",
       "      <td>28.560000</td>\n",
       "      <td>26.600000</td>\n",
       "      <td>0.493625</td>\n",
       "      <td>...</td>\n",
       "      <td>7.280000</td>\n",
       "      <td>7.920000</td>\n",
       "      <td>3.160000</td>\n",
       "      <td>3.160000</td>\n",
       "      <td>15.520000</td>\n",
       "      <td>15.440000</td>\n",
       "      <td>0.5</td>\n",
       "      <td>-0.182555</td>\n",
       "      <td>NaN</td>\n",
       "      <td>NaN</td>\n",
       "    </tr>\n",
       "    <tr>\n",
       "      <th>9302</th>\n",
       "      <td>2019</td>\n",
       "      <td>3466</td>\n",
       "      <td>69.521739</td>\n",
       "      <td>63.217391</td>\n",
       "      <td>6.304348</td>\n",
       "      <td>58.434783</td>\n",
       "      <td>58.260870</td>\n",
       "      <td>24.869565</td>\n",
       "      <td>23.913043</td>\n",
       "      <td>0.478102</td>\n",
       "      <td>...</td>\n",
       "      <td>8.478261</td>\n",
       "      <td>8.478261</td>\n",
       "      <td>3.695652</td>\n",
       "      <td>3.217391</td>\n",
       "      <td>17.478261</td>\n",
       "      <td>19.173913</td>\n",
       "      <td>0.0</td>\n",
       "      <td>0.107970</td>\n",
       "      <td>NaN</td>\n",
       "      <td>NaN</td>\n",
       "    </tr>\n",
       "  </tbody>\n",
       "</table>\n",
       "<p>5 rows × 37 columns</p>\n",
       "</div>"
      ],
      "text/plain": [
       "      Season  T1_TeamID  T1_Scoremean  T2_Scoremean  PointDiffmean  \\\n",
       "9298    2019       3462     60.862069     66.482759      -5.620690   \n",
       "9299    2019       3463     63.344828     61.551724       1.793103   \n",
       "9300    2019       3464     68.137931     58.000000      10.137931   \n",
       "9301    2019       3465     76.200000     69.840000       6.360000   \n",
       "9302    2019       3466     69.521739     63.217391       6.304348   \n",
       "\n",
       "      T1_FGAmean  T2_FGAmean  T1_FGMmean  T2_FGMmean  T1_EFG_SUMmean  ...  \\\n",
       "9298   57.517241   59.758621   21.896552   24.448276        0.448019  ...   \n",
       "9299   60.517241   60.379310   23.724138   21.965517        0.438814  ...   \n",
       "9300   55.758621   58.655172   23.241379   21.862069        0.494845  ...   \n",
       "9301   67.520000   69.200000   28.560000   26.600000        0.493625  ...   \n",
       "9302   58.434783   58.260870   24.869565   23.913043        0.478102  ...   \n",
       "\n",
       "      T1_Stlmean  T2_Stlmean  T1_Blkmean  T2_Blkmean  T1_PFmean  T2_PFmean  \\\n",
       "9298    7.586207    7.758621    2.586207    3.172414  15.241379  15.172414   \n",
       "9299    5.172414    8.344828    3.586207    2.517241  16.448276  17.551724   \n",
       "9300    4.344828    7.448276    3.482759    3.482759  13.862069  17.896552   \n",
       "9301    7.280000    7.920000    3.160000    3.160000  15.520000  15.440000   \n",
       "9302    8.478261    8.478261    3.695652    3.217391  17.478261  19.173913   \n",
       "\n",
       "      T1_win_ratio_14d  T1_quality  T1_seed  T1_OrdinalRank  \n",
       "9298               0.0   -0.296941      NaN             NaN  \n",
       "9299               0.0    0.134368      NaN             NaN  \n",
       "9300               0.5    0.638405      NaN             NaN  \n",
       "9301               0.5   -0.182555      NaN             NaN  \n",
       "9302               0.0    0.107970      NaN             NaN  \n",
       "\n",
       "[5 rows x 37 columns]"
      ]
     },
     "execution_count": 9,
     "metadata": {},
     "output_type": "execute_result"
    }
   ],
   "source": [
    "features = FEATURES.cal_mean_boxscore\n",
    "boxscore_cols = [col for col, use in features.items() if use]\n",
    "print(\"use boxscore col is\")\n",
    "print(boxscore_cols)\n",
    "\n",
    "season_statistics = make_season_statistics(regular_data, boxscore_cols, seeds, func = [np.mean])\n",
    "season_statistics.tail()"
   ]
  },
  {
   "cell_type": "code",
   "execution_count": 10,
   "id": "a9c41ccb",
   "metadata": {
    "execution": {
     "iopub.execute_input": "2025-03-18T08:03:15.704421Z",
     "iopub.status.busy": "2025-03-18T08:03:15.704421Z",
     "iopub.status.idle": "2025-03-18T08:03:15.730783Z",
     "shell.execute_reply": "2025-03-18T08:03:15.729168Z"
    },
    "papermill": {
     "duration": 0.028911,
     "end_time": "2025-03-18T08:03:15.733332",
     "exception": false,
     "start_time": "2025-03-18T08:03:15.704421",
     "status": "completed"
    },
    "tags": []
   },
   "outputs": [
    {
     "name": "stdout",
     "output_type": "stream",
     "text": [
      "<class 'pandas.core.frame.DataFrame'>\n",
      "RangeIndex: 9303 entries, 0 to 9302\n",
      "Data columns (total 37 columns):\n",
      " #   Column            Non-Null Count  Dtype  \n",
      "---  ------            --------------  -----  \n",
      " 0   Season            9303 non-null   int64  \n",
      " 1   T1_TeamID         9303 non-null   int64  \n",
      " 2   T1_Scoremean      9303 non-null   float64\n",
      " 3   T2_Scoremean      9303 non-null   float64\n",
      " 4   PointDiffmean     9303 non-null   float64\n",
      " 5   T1_FGAmean        9303 non-null   float64\n",
      " 6   T2_FGAmean        9303 non-null   float64\n",
      " 7   T1_FGMmean        9303 non-null   float64\n",
      " 8   T2_FGMmean        9303 non-null   float64\n",
      " 9   T1_EFG_SUMmean    9303 non-null   float64\n",
      " 10  T2_EFG_SUMmean    9303 non-null   float64\n",
      " 11  T1_TO_RATIOmean   9303 non-null   float64\n",
      " 12  T2_TO_RATIOmean   9303 non-null   float64\n",
      " 13  T1_ORmean         9303 non-null   float64\n",
      " 14  T2_ORmean         9303 non-null   float64\n",
      " 15  T1_DRmean         9303 non-null   float64\n",
      " 16  T2_DRmean         9303 non-null   float64\n",
      " 17  T1_REB_RATEmean   9303 non-null   float64\n",
      " 18  T2_REB_RATEmean   9303 non-null   float64\n",
      " 19  T1_FT_RATEmean    9303 non-null   float64\n",
      " 20  T2_FT_RATEmean    9303 non-null   float64\n",
      " 21  T1_POSS_RATEmean  9303 non-null   float64\n",
      " 22  T2_POSS_RATEmean  9303 non-null   float64\n",
      " 23  T1_Astmean        9303 non-null   float64\n",
      " 24  T2_Astmean        9303 non-null   float64\n",
      " 25  T1_TOmean         9303 non-null   float64\n",
      " 26  T2_TOmean         9303 non-null   float64\n",
      " 27  T1_Stlmean        9303 non-null   float64\n",
      " 28  T2_Stlmean        9303 non-null   float64\n",
      " 29  T1_Blkmean        9303 non-null   float64\n",
      " 30  T2_Blkmean        9303 non-null   float64\n",
      " 31  T1_PFmean         9303 non-null   float64\n",
      " 32  T2_PFmean         9303 non-null   float64\n",
      " 33  T1_win_ratio_14d  9000 non-null   float64\n",
      " 34  T1_quality        9303 non-null   float64\n",
      " 35  T1_seed           1772 non-null   float64\n",
      " 36  T1_OrdinalRank    5834 non-null   float64\n",
      "dtypes: float64(35), int64(2)\n",
      "memory usage: 2.6 MB\n"
     ]
    }
   ],
   "source": [
    "season_statistics.info()"
   ]
  },
  {
   "cell_type": "code",
   "execution_count": 11,
   "id": "4c83d19e",
   "metadata": {
    "execution": {
     "iopub.execute_input": "2025-03-18T08:03:15.758428Z",
     "iopub.status.busy": "2025-03-18T08:03:15.758428Z",
     "iopub.status.idle": "2025-03-18T08:03:15.812136Z",
     "shell.execute_reply": "2025-03-18T08:03:15.812136Z"
    },
    "papermill": {
     "duration": 0.070062,
     "end_time": "2025-03-18T08:03:15.812136",
     "exception": false,
     "start_time": "2025-03-18T08:03:15.742074",
     "status": "completed"
    },
    "tags": []
   },
   "outputs": [],
   "source": [
    "####ボックスscoreの平均に対して、過去３年の加重平均を取るときの処理 ####\n",
    "def get_mean_of_3_season(val_2ps, val_1ps, val_0ps, \n",
    "                         weight_2, weight_1, weight_0, \n",
    "                         degree_weight=1.0\n",
    "                         ):\n",
    "    weight_2 = weight_2**degree_weight\n",
    "    weight_1 = weight_1**degree_weight\n",
    "    weight_0 = weight_0**degree_weight\n",
    "    if val_2ps == 0  and val_1ps == 0:\n",
    "        return val_0ps\n",
    "    elif val_2ps == 0:\n",
    "        return (val_1ps*weight_2 + val_0ps*weight_1)/(weight_2 + weight_1)\n",
    "    else:\n",
    "        sum_of_values = val_2ps*weight_2 + val_1ps*weight_1 + val_0ps*weight_0\n",
    "        return sum_of_values/(weight_2 + weight_1 + weight_0)\n",
    "\n",
    "def get_3_feature(df_team, feature):\n",
    "    value_2_seasons_ago = 0\n",
    "    value_1_season_ago = 0\n",
    "    value_0_season_ago = 0\n",
    "    for _, val in df_team.iterrows():\n",
    "        value_2_seasons_ago = value_1_season_ago\n",
    "        value_1_season_ago = value_0_season_ago\n",
    "        value_0_season_ago = val[feature]\n",
    "    return value_2_seasons_ago, value_1_season_ago, value_0_season_ago\n",
    "\n",
    "def write_mean_of_3_seasons(df, features, weight, degree_weight=1.0):\n",
    "    \"\"\"\n",
    "    val_0ps - current season value\n",
    "    weight_0 - current season weight\n",
    "    val_1ps - last season value\n",
    "    val_2ps - the value of the season before last\n",
    "    \"\"\"\n",
    "    weight_2=weight[0]\n",
    "    weight_1=weight[1]\n",
    "    weight_0=weight[2]\n",
    "    df_copy = df.copy()\n",
    "    suffix = \"_mn3s\"\n",
    "    \n",
    "    for ft in features:\n",
    "        df_copy[ft + suffix] = 0\n",
    "    for idx, val in tqdm(df_copy.iterrows(), total=len(df_copy)):\n",
    "        team = val.T1_TeamID\n",
    "        season = val.Season\n",
    "        df_team = df_copy[(df_copy.T1_TeamID == team)&\n",
    "                          (df_copy.Season <= season)&\n",
    "                          (df_copy.Season > season-3)]\n",
    "        for ft in features:\n",
    "            val_2ps, val_1ps, val_0ps = get_3_feature(df_team, ft)\n",
    "            ft_mean_3 = get_mean_of_3_season(val_2ps, val_1ps, val_0ps, weight_2, weight_1, weight_0, degree_weight=degree_weight)\n",
    "            df_copy.loc[idx, ft + suffix] = ft_mean_3\n",
    "    return df_copy"
   ]
  },
  {
   "cell_type": "code",
   "execution_count": 12,
   "id": "6e7ba91b",
   "metadata": {
    "execution": {
     "iopub.execute_input": "2025-03-18T08:03:15.834404Z",
     "iopub.status.busy": "2025-03-18T08:03:15.834404Z",
     "iopub.status.idle": "2025-03-18T08:03:15.871407Z",
     "shell.execute_reply": "2025-03-18T08:03:15.871407Z"
    },
    "papermill": {
     "duration": 0.048751,
     "end_time": "2025-03-18T08:03:15.871407",
     "exception": false,
     "start_time": "2025-03-18T08:03:15.822656",
     "status": "completed"
    },
    "tags": []
   },
   "outputs": [
    {
     "name": "stdout",
     "output_type": "stream",
     "text": [
      "#####\n",
      "skip 3 season verage\n",
      "#####\n"
     ]
    },
    {
     "data": {
      "text/html": [
       "<div>\n",
       "<style scoped>\n",
       "    .dataframe tbody tr th:only-of-type {\n",
       "        vertical-align: middle;\n",
       "    }\n",
       "\n",
       "    .dataframe tbody tr th {\n",
       "        vertical-align: top;\n",
       "    }\n",
       "\n",
       "    .dataframe thead th {\n",
       "        text-align: right;\n",
       "    }\n",
       "</style>\n",
       "<table border=\"1\" class=\"dataframe\">\n",
       "  <thead>\n",
       "    <tr style=\"text-align: right;\">\n",
       "      <th></th>\n",
       "      <th>Season</th>\n",
       "      <th>T1_TeamID</th>\n",
       "      <th>T1_Scoremean</th>\n",
       "      <th>T1_opponent_Scoremean</th>\n",
       "      <th>T1_PointDiffmean</th>\n",
       "      <th>T1_FGAmean</th>\n",
       "      <th>T1_opponent_FGAmean</th>\n",
       "      <th>T1_FGMmean</th>\n",
       "      <th>T1_opponent_FGMmean</th>\n",
       "      <th>T1_EFG_SUMmean</th>\n",
       "      <th>...</th>\n",
       "      <th>T1_Stlmean</th>\n",
       "      <th>T1_opponent_Stlmean</th>\n",
       "      <th>T1_Blkmean</th>\n",
       "      <th>T1_opponent_Blkmean</th>\n",
       "      <th>T1_PFmean</th>\n",
       "      <th>T1_opponent_PFmean</th>\n",
       "      <th>T1_win_ratio_14d</th>\n",
       "      <th>T1_quality</th>\n",
       "      <th>T1_seed</th>\n",
       "      <th>T1_OrdinalRank</th>\n",
       "    </tr>\n",
       "  </thead>\n",
       "  <tbody>\n",
       "    <tr>\n",
       "      <th>0</th>\n",
       "      <td>2003</td>\n",
       "      <td>1102</td>\n",
       "      <td>57.250000</td>\n",
       "      <td>57.000000</td>\n",
       "      <td>0.25000</td>\n",
       "      <td>39.785714</td>\n",
       "      <td>42.428571</td>\n",
       "      <td>19.142857</td>\n",
       "      <td>19.285714</td>\n",
       "      <td>0.584407</td>\n",
       "      <td>...</td>\n",
       "      <td>5.964286</td>\n",
       "      <td>5.428571</td>\n",
       "      <td>1.785714</td>\n",
       "      <td>1.571429</td>\n",
       "      <td>18.750000</td>\n",
       "      <td>18.357143</td>\n",
       "      <td>0.333333</td>\n",
       "      <td>-0.070776</td>\n",
       "      <td>NaN</td>\n",
       "      <td>144.2875</td>\n",
       "    </tr>\n",
       "    <tr>\n",
       "      <th>1</th>\n",
       "      <td>2003</td>\n",
       "      <td>1103</td>\n",
       "      <td>78.777778</td>\n",
       "      <td>78.148148</td>\n",
       "      <td>0.62963</td>\n",
       "      <td>55.851852</td>\n",
       "      <td>57.000000</td>\n",
       "      <td>27.148148</td>\n",
       "      <td>27.777778</td>\n",
       "      <td>0.536564</td>\n",
       "      <td>...</td>\n",
       "      <td>7.259259</td>\n",
       "      <td>6.407407</td>\n",
       "      <td>2.333333</td>\n",
       "      <td>2.851852</td>\n",
       "      <td>19.851852</td>\n",
       "      <td>22.444444</td>\n",
       "      <td>0.333333</td>\n",
       "      <td>-0.116192</td>\n",
       "      <td>NaN</td>\n",
       "      <td>182.2050</td>\n",
       "    </tr>\n",
       "  </tbody>\n",
       "</table>\n",
       "<p>2 rows × 37 columns</p>\n",
       "</div>"
      ],
      "text/plain": [
       "   Season  T1_TeamID  T1_Scoremean  T1_opponent_Scoremean  T1_PointDiffmean  \\\n",
       "0    2003       1102     57.250000              57.000000           0.25000   \n",
       "1    2003       1103     78.777778              78.148148           0.62963   \n",
       "\n",
       "   T1_FGAmean  T1_opponent_FGAmean  T1_FGMmean  T1_opponent_FGMmean  \\\n",
       "0   39.785714            42.428571   19.142857            19.285714   \n",
       "1   55.851852            57.000000   27.148148            27.777778   \n",
       "\n",
       "   T1_EFG_SUMmean  ...  T1_Stlmean  T1_opponent_Stlmean  T1_Blkmean  \\\n",
       "0        0.584407  ...    5.964286             5.428571    1.785714   \n",
       "1        0.536564  ...    7.259259             6.407407    2.333333   \n",
       "\n",
       "   T1_opponent_Blkmean  T1_PFmean  T1_opponent_PFmean  T1_win_ratio_14d  \\\n",
       "0             1.571429  18.750000           18.357143          0.333333   \n",
       "1             2.851852  19.851852           22.444444          0.333333   \n",
       "\n",
       "   T1_quality  T1_seed  T1_OrdinalRank  \n",
       "0   -0.070776      NaN        144.2875  \n",
       "1   -0.116192      NaN        182.2050  \n",
       "\n",
       "[2 rows x 37 columns]"
      ]
     },
     "metadata": {},
     "output_type": "display_data"
    },
    {
     "data": {
      "text/html": [
       "<div>\n",
       "<style scoped>\n",
       "    .dataframe tbody tr th:only-of-type {\n",
       "        vertical-align: middle;\n",
       "    }\n",
       "\n",
       "    .dataframe tbody tr th {\n",
       "        vertical-align: top;\n",
       "    }\n",
       "\n",
       "    .dataframe thead th {\n",
       "        text-align: right;\n",
       "    }\n",
       "</style>\n",
       "<table border=\"1\" class=\"dataframe\">\n",
       "  <thead>\n",
       "    <tr style=\"text-align: right;\">\n",
       "      <th></th>\n",
       "      <th>Season</th>\n",
       "      <th>T2_TeamID</th>\n",
       "      <th>T2_Scoremean</th>\n",
       "      <th>T2_opponent_Scoremean</th>\n",
       "      <th>T2_PointDiffmean</th>\n",
       "      <th>T2_FGAmean</th>\n",
       "      <th>T2_opponent_FGAmean</th>\n",
       "      <th>T2_FGMmean</th>\n",
       "      <th>T2_opponent_FGMmean</th>\n",
       "      <th>T2_EFG_SUMmean</th>\n",
       "      <th>...</th>\n",
       "      <th>T2_Stlmean</th>\n",
       "      <th>T2_opponent_Stlmean</th>\n",
       "      <th>T2_Blkmean</th>\n",
       "      <th>T2_opponent_Blkmean</th>\n",
       "      <th>T2_PFmean</th>\n",
       "      <th>T2_opponent_PFmean</th>\n",
       "      <th>T2_win_ratio_14d</th>\n",
       "      <th>T2_quality</th>\n",
       "      <th>T2_seed</th>\n",
       "      <th>T2_OrdinalRank</th>\n",
       "    </tr>\n",
       "  </thead>\n",
       "  <tbody>\n",
       "    <tr>\n",
       "      <th>9301</th>\n",
       "      <td>2019</td>\n",
       "      <td>3465</td>\n",
       "      <td>76.200000</td>\n",
       "      <td>69.840000</td>\n",
       "      <td>6.360000</td>\n",
       "      <td>67.520000</td>\n",
       "      <td>69.20000</td>\n",
       "      <td>28.560000</td>\n",
       "      <td>26.600000</td>\n",
       "      <td>0.493625</td>\n",
       "      <td>...</td>\n",
       "      <td>7.280000</td>\n",
       "      <td>7.920000</td>\n",
       "      <td>3.160000</td>\n",
       "      <td>3.160000</td>\n",
       "      <td>15.520000</td>\n",
       "      <td>15.440000</td>\n",
       "      <td>0.5</td>\n",
       "      <td>-0.182555</td>\n",
       "      <td>NaN</td>\n",
       "      <td>NaN</td>\n",
       "    </tr>\n",
       "    <tr>\n",
       "      <th>9302</th>\n",
       "      <td>2019</td>\n",
       "      <td>3466</td>\n",
       "      <td>69.521739</td>\n",
       "      <td>63.217391</td>\n",
       "      <td>6.304348</td>\n",
       "      <td>58.434783</td>\n",
       "      <td>58.26087</td>\n",
       "      <td>24.869565</td>\n",
       "      <td>23.913043</td>\n",
       "      <td>0.478102</td>\n",
       "      <td>...</td>\n",
       "      <td>8.478261</td>\n",
       "      <td>8.478261</td>\n",
       "      <td>3.695652</td>\n",
       "      <td>3.217391</td>\n",
       "      <td>17.478261</td>\n",
       "      <td>19.173913</td>\n",
       "      <td>0.0</td>\n",
       "      <td>0.107970</td>\n",
       "      <td>NaN</td>\n",
       "      <td>NaN</td>\n",
       "    </tr>\n",
       "  </tbody>\n",
       "</table>\n",
       "<p>2 rows × 37 columns</p>\n",
       "</div>"
      ],
      "text/plain": [
       "      Season  T2_TeamID  T2_Scoremean  T2_opponent_Scoremean  \\\n",
       "9301    2019       3465     76.200000              69.840000   \n",
       "9302    2019       3466     69.521739              63.217391   \n",
       "\n",
       "      T2_PointDiffmean  T2_FGAmean  T2_opponent_FGAmean  T2_FGMmean  \\\n",
       "9301          6.360000   67.520000             69.20000   28.560000   \n",
       "9302          6.304348   58.434783             58.26087   24.869565   \n",
       "\n",
       "      T2_opponent_FGMmean  T2_EFG_SUMmean  ...  T2_Stlmean  \\\n",
       "9301            26.600000        0.493625  ...    7.280000   \n",
       "9302            23.913043        0.478102  ...    8.478261   \n",
       "\n",
       "      T2_opponent_Stlmean  T2_Blkmean  T2_opponent_Blkmean  T2_PFmean  \\\n",
       "9301             7.920000    3.160000             3.160000  15.520000   \n",
       "9302             8.478261    3.695652             3.217391  17.478261   \n",
       "\n",
       "      T2_opponent_PFmean  T2_win_ratio_14d  T2_quality  T2_seed  \\\n",
       "9301           15.440000               0.5   -0.182555      NaN   \n",
       "9302           19.173913               0.0    0.107970      NaN   \n",
       "\n",
       "      T2_OrdinalRank  \n",
       "9301             NaN  \n",
       "9302             NaN  \n",
       "\n",
       "[2 rows x 37 columns]"
      ]
     },
     "metadata": {},
     "output_type": "display_data"
    }
   ],
   "source": [
    "flag_3season_avg = FEATURES.season_average.enabled\n",
    "\n",
    "#trueのときの処理理解してfalseと一致させる\n",
    "if flag_3season_avg:\n",
    "    print(\"#####\")\n",
    "    print(\"use 3 season average\")\n",
    "    print(\"#####\")\n",
    "    weight = FEATURES.season_average.weights\n",
    "    years = FEATURES.season_average.past_years\n",
    "    assert years==len(weight)\n",
    "    \n",
    "    features_for_calc = [\"T1_Scoremean\", \"T1_FGAmean\",  \"T1_FGA3mean\"]\n",
    "    season_statistics_with_3_seas = write_mean_of_3_seasons(\n",
    "        season_statistics, features_for_calc, weight, degree_weight=1.0\n",
    "    )\n",
    "    \n",
    "    season_statistics_T1 = season_statistics_with_3_seas.copy()\n",
    "    season_statistics_T2 = season_statistics_with_3_seas.copy()\n",
    "    \n",
    "else:\n",
    "    print(\"#####\")\n",
    "    print(\"skip 3 season verage\")\n",
    "    print(\"#####\")\n",
    "    season_statistics_T1 = season_statistics.copy()\n",
    "    season_statistics_T2 = season_statistics.copy()\n",
    "\n",
    "season_statistics_T1.columns = [\"T1_\" + x.replace(\"T1_\",\"\").replace(\"T2_\",\"opponent_\") for x in list(season_statistics_T1.columns)]\n",
    "season_statistics_T2.columns = [\"T2_\" + x.replace(\"T1_\",\"\").replace(\"T2_\",\"opponent_\") for x in list(season_statistics_T2.columns)]\n",
    "season_statistics_T1.columns.values[0] = \"Season\"\n",
    "season_statistics_T2.columns.values[0] = \"Season\"\n",
    "\n",
    "\n",
    "season_statistics_T2.rename(columns = {\n",
    "    \"T1_TeamID\": \"T2_TeamID\"\n",
    "}, inplace=True)\n",
    "display(season_statistics_T1.head(2), season_statistics_T2.tail(2))"
   ]
  },
  {
   "cell_type": "markdown",
   "id": "7b842452",
   "metadata": {
    "papermill": {
     "duration": 0.006476,
     "end_time": "2025-03-18T08:03:15.887556",
     "exception": false,
     "start_time": "2025-03-18T08:03:15.881080",
     "status": "completed"
    },
    "tags": []
   },
   "source": [
    "# Toureney dataの処理\n",
    "1. pointdiff, pointが目的変数となるのでそれはyに分離\n",
    "2. seasonstatisticを結合したものをXとして作る"
   ]
  },
  {
   "cell_type": "code",
   "execution_count": 13,
   "id": "c4cdfaa3",
   "metadata": {
    "execution": {
     "iopub.execute_input": "2025-03-18T08:03:15.918801Z",
     "iopub.status.busy": "2025-03-18T08:03:15.918801Z",
     "iopub.status.idle": "2025-03-18T08:03:15.929521Z",
     "shell.execute_reply": "2025-03-18T08:03:15.929521Z"
    },
    "papermill": {
     "duration": 0.025912,
     "end_time": "2025-03-18T08:03:15.931311",
     "exception": false,
     "start_time": "2025-03-18T08:03:15.905399",
     "status": "completed"
    },
    "tags": []
   },
   "outputs": [],
   "source": [
    "\n",
    "def process_tourney(df1, mode=\"tourney\"):\n",
    "    #Season, teamid ->X, team_score->y\n",
    "    df = df1.copy()\n",
    "    if mode==\"tourney\":\n",
    "        df = prepare_data(df) \n",
    "        y = df[\"T1_Score\"]-df[\"T2_Score\"]\n",
    "    X = df[['Season', 'T1_TeamID', 'T2_TeamID']]\n",
    "    X = pd.merge(X, season_statistics_T1, on = ['Season', 'T1_TeamID'], how = 'left')\n",
    "    X = pd.merge(X, season_statistics_T2, on = ['Season', 'T2_TeamID'], how = 'left')\n",
    "    \n",
    "    #seed->seed diff\n",
    "    X[\"seed_diff\"] = X[\"T1_seed\"] - X[\"T2_seed\"]\n",
    "    #rank->rank diff\n",
    "    X[\"rank_diff\"] = X[\"T1_OrdinalRank\"] - X[\"T2_OrdinalRank\"]\n",
    "    #quality->quality diff\n",
    "    X[\"quality_diff\"] = X[\"T1_quality\"] - X[\"T2_quality\"]\n",
    "    #win_ratio_14d -> win_raio_14d_diff\n",
    "    X[\"win_ratio_14d_diff\"] = X[\"T1_win_ratio_14d\"] - X[\"T2_win_ratio_14d\"]\n",
    "    #tourney_data.drop(columns=[\"T1_seed\", \"T2_seed\"], inplace=True)\n",
    "\n",
    "    X = X.drop(columns=[\"T1_seed\", \"T2_seed\", \"T1_OrdinalRank\", \"T2_OrdinalRank\", \n",
    "                        \"T1_quality\", \"T2_quality\", \"T1_win_ratio_14d\", \"T2_win_ratio_14d\"\n",
    "                        ])\n",
    "    \n",
    "    if FEATURES.T1_FGAdiff: \n",
    "        X[\"T1_FGA_diff\"] = X[\"T1_FGAmean\"] - X[\"T1_opponent_FGAmean\"]\n",
    "        X[\"T2_FGA_diff\"] = X[\"T2_FGAmean\"] - X[\"T2_opponent_FGAmean\"]\n",
    "        X = X.drop(columns=[\"T1_FGAmean\", \"T2_FGAmean\", \"T1_opponent_FGAmean\", \"T2_opponent_FGAmean\"])\n",
    "        \n",
    "    # if rank_diff is False, drop.\n",
    "    IS_RANKDIFF = FEATURES.rank_diff\n",
    "    if not IS_RANKDIFF:\n",
    "        X = X.drop(columns=[\"rank_diff\"])\n",
    "        print(\"drop rank_diff\")\n",
    "    \n",
    "    # if fillna is true-> run fillna()\n",
    "    FILLNA = FEATURES.fillna.quality\n",
    "    if FILLNA==\"nan\":\n",
    "        print(f\"no fillna, use nan\")\n",
    "        X[\"quality_diff\"] = X[\"quality_diff\"].fillna(np.nan)\n",
    "    else:\n",
    "        print(f\"fillna quality feature for {FILLNA}\")\n",
    "        X[\"quality_diff\"] = X[\"quality_diff\"].fillna(FILLNA)\n",
    "\n",
    "        \n",
    "    return X, y if mode==\"tourney\" else X"
   ]
  },
  {
   "cell_type": "code",
   "execution_count": 14,
   "id": "fb72c390",
   "metadata": {
    "execution": {
     "iopub.execute_input": "2025-03-18T08:03:15.962255Z",
     "iopub.status.busy": "2025-03-18T08:03:15.962255Z",
     "iopub.status.idle": "2025-03-18T08:03:16.002265Z",
     "shell.execute_reply": "2025-03-18T08:03:16.002265Z"
    },
    "papermill": {
     "duration": 0.054633,
     "end_time": "2025-03-18T08:03:16.002265",
     "exception": false,
     "start_time": "2025-03-18T08:03:15.947632",
     "status": "completed"
    },
    "tags": []
   },
   "outputs": [
    {
     "name": "stdout",
     "output_type": "stream",
     "text": [
      "<class 'pandas.core.frame.DataFrame'>\n",
      "Index: 1615 entries, 0 to 1948\n",
      "Data columns (total 56 columns):\n",
      " #   Column       Non-Null Count  Dtype  \n",
      "---  ------       --------------  -----  \n",
      " 0   Season       1615 non-null   int64  \n",
      " 1   DayNum       1615 non-null   int64  \n",
      " 2   WTeamID      1615 non-null   int64  \n",
      " 3   WScore       1615 non-null   int64  \n",
      " 4   LTeamID      1615 non-null   int64  \n",
      " 5   LScore       1615 non-null   int64  \n",
      " 6   WLoc         1615 non-null   object \n",
      " 7   NumOT        1615 non-null   int64  \n",
      " 8   WFGM         1615 non-null   int64  \n",
      " 9   WFGA         1615 non-null   int64  \n",
      " 10  WFGM3        1615 non-null   int64  \n",
      " 11  WFGA3        1615 non-null   int64  \n",
      " 12  WFTM         1615 non-null   int64  \n",
      " 13  WFTA         1615 non-null   int64  \n",
      " 14  WOR          1615 non-null   int64  \n",
      " 15  WDR          1615 non-null   int64  \n",
      " 16  WAst         1615 non-null   int64  \n",
      " 17  WTO          1615 non-null   int64  \n",
      " 18  WStl         1615 non-null   int64  \n",
      " 19  WBlk         1615 non-null   int64  \n",
      " 20  WPF          1615 non-null   int64  \n",
      " 21  LFGM         1615 non-null   int64  \n",
      " 22  LFGA         1615 non-null   int64  \n",
      " 23  LFGM3        1615 non-null   int64  \n",
      " 24  LFGA3        1615 non-null   int64  \n",
      " 25  LFTM         1615 non-null   int64  \n",
      " 26  LFTA         1615 non-null   int64  \n",
      " 27  LOR          1615 non-null   int64  \n",
      " 28  LDR          1615 non-null   int64  \n",
      " 29  LAst         1615 non-null   int64  \n",
      " 30  LTO          1615 non-null   int64  \n",
      " 31  LStl         1615 non-null   int64  \n",
      " 32  LBlk         1615 non-null   int64  \n",
      " 33  LPF          1615 non-null   int64  \n",
      " 34  WEFFG        1615 non-null   float64\n",
      " 35  LEFFG        1615 non-null   float64\n",
      " 36  WEFFG3       1615 non-null   float64\n",
      " 37  LEFFG3       1615 non-null   float64\n",
      " 38  WDARE        1615 non-null   float64\n",
      " 39  LDARE        1615 non-null   float64\n",
      " 40  WTOQUETOQUE  1615 non-null   float64\n",
      " 41  LTOQUETOQUE  1615 non-null   float64\n",
      " 42  WEFG_SUM     1615 non-null   float64\n",
      " 43  LEFG_SUM     1615 non-null   float64\n",
      " 44  WPOSS        1615 non-null   float64\n",
      " 45  LPOSS        1615 non-null   float64\n",
      " 46  WPOSS_RATE   1615 non-null   float64\n",
      " 47  LPOSS_RATE   1615 non-null   float64\n",
      " 48  WTO_RATIO    1615 non-null   float64\n",
      " 49  LTO_RATIO    1615 non-null   float64\n",
      " 50  WREB_RATE    1615 non-null   float64\n",
      " 51  LREB_RATE    1615 non-null   float64\n",
      " 52  WFT_RATE     1615 non-null   float64\n",
      " 53  LFT_RATE     1615 non-null   float64\n",
      " 54  WRATING      1615 non-null   float64\n",
      " 55  LRATING      1615 non-null   float64\n",
      "dtypes: float64(22), int64(33), object(1)\n",
      "memory usage: 719.2+ KB\n",
      "None\n",
      "feature cols after prepare()\n",
      "Index(['Season', 'DayNum', 'T1_TeamID', 'T1_Score', 'T2_TeamID', 'T2_Score',\n",
      "       'location', 'NumOT', 'T1_FGM', 'T1_FGA', 'T1_FGM3', 'T1_FGA3', 'T1_FTM',\n",
      "       'T1_FTA', 'T1_OR', 'T1_DR', 'T1_Ast', 'T1_TO', 'T1_Stl', 'T1_Blk',\n",
      "       'T1_PF', 'T2_FGM', 'T2_FGA', 'T2_FGM3', 'T2_FGA3', 'T2_FTM', 'T2_FTA',\n",
      "       'T2_OR', 'T2_DR', 'T2_Ast', 'T2_TO', 'T2_Stl', 'T2_Blk', 'T2_PF',\n",
      "       'T1_EFFG', 'T2_EFFG', 'T1_EFFG3', 'T2_EFFG3', 'T1_DARE', 'T2_DARE',\n",
      "       'T1_TOQUETOQUE', 'T2_TOQUETOQUE', 'T1_EFG_SUM', 'T2_EFG_SUM', 'T1_POSS',\n",
      "       'T2_POSS', 'T1_POSS_RATE', 'T2_POSS_RATE', 'T1_TO_RATIO', 'T2_TO_RATIO',\n",
      "       'T1_REB_RATE', 'T2_REB_RATE', 'T1_FT_RATE', 'T2_FT_RATE', 'T1_RATING',\n",
      "       'T2_RATING', 'PointDiff', 'win'],\n",
      "      dtype='object')\n",
      "no fillna, use nan\n"
     ]
    }
   ],
   "source": [
    "X, y = process_tourney(tourney_results)"
   ]
  },
  {
   "cell_type": "code",
   "execution_count": 15,
   "id": "68c14eec",
   "metadata": {
    "execution": {
     "iopub.execute_input": "2025-03-18T08:03:16.024667Z",
     "iopub.status.busy": "2025-03-18T08:03:16.024667Z",
     "iopub.status.idle": "2025-03-18T08:03:16.033096Z",
     "shell.execute_reply": "2025-03-18T08:03:16.032086Z"
    },
    "papermill": {
     "duration": 0.024956,
     "end_time": "2025-03-18T08:03:16.033096",
     "exception": false,
     "start_time": "2025-03-18T08:03:16.008140",
     "status": "completed"
    },
    "tags": []
   },
   "outputs": [
    {
     "name": "stdout",
     "output_type": "stream",
     "text": [
      "drop col list: ['T1_TOmean', 'T2_TOmean', 'T1_opponent_POSS_RATEmean', 'T2_opponent_POSS_RATEmean', 'T1_opponent_Astmean', 'T2_opponent_Astmean', 'T1_opponent_FT_RATEmean', 'T2_opponent_FT_RATEmean', 'T1_opponent_Stlmean', 'T2_opponent_Stlmean', 'T1_ORmean', 'T2_ORmean', 'T1_opponent_ORmean', 'T2_opponent_ORmean', 'T1_TeamID', 'T2_TeamID', 'Season']\n"
     ]
    }
   ],
   "source": [
    "#opponentなど明示的に特徴量選出に基づいて落とす\n",
    "def drop_columns(df, cols):\n",
    "    if not cols: return df\n",
    "    existing_cols = [col for col in cols if col in df.columns]\n",
    "    print(f\"drop col list: {existing_cols}\")\n",
    "    return df.drop(columns=existing_cols)\n",
    "\n",
    "drop_col = FEATURES.dropfeatures\n",
    "X = drop_columns(X, drop_col)"
   ]
  },
  {
   "cell_type": "code",
   "execution_count": 16,
   "id": "a0f2a34f",
   "metadata": {
    "execution": {
     "iopub.execute_input": "2025-03-18T08:03:16.048996Z",
     "iopub.status.busy": "2025-03-18T08:03:16.048996Z",
     "iopub.status.idle": "2025-03-18T08:03:16.059067Z",
     "shell.execute_reply": "2025-03-18T08:03:16.059067Z"
    },
    "papermill": {
     "duration": 0.025971,
     "end_time": "2025-03-18T08:03:16.059067",
     "exception": false,
     "start_time": "2025-03-18T08:03:16.033096",
     "status": "completed"
    },
    "tags": []
   },
   "outputs": [
    {
     "name": "stdout",
     "output_type": "stream",
     "text": [
      "最終的な X の特徴量\n",
      "Index(['T1_Scoremean', 'T1_opponent_Scoremean', 'T1_PointDiffmean',\n",
      "       'T1_FGMmean', 'T1_opponent_FGMmean', 'T1_EFG_SUMmean',\n",
      "       'T1_opponent_EFG_SUMmean', 'T1_TO_RATIOmean',\n",
      "       'T1_opponent_TO_RATIOmean', 'T1_DRmean', 'T1_opponent_DRmean',\n",
      "       'T1_REB_RATEmean', 'T1_opponent_REB_RATEmean', 'T1_FT_RATEmean',\n",
      "       'T1_POSS_RATEmean', 'T1_Astmean', 'T1_opponent_TOmean', 'T1_Stlmean',\n",
      "       'T1_Blkmean', 'T1_opponent_Blkmean', 'T1_PFmean', 'T1_opponent_PFmean',\n",
      "       'T2_Scoremean', 'T2_opponent_Scoremean', 'T2_PointDiffmean',\n",
      "       'T2_FGMmean', 'T2_opponent_FGMmean', 'T2_EFG_SUMmean',\n",
      "       'T2_opponent_EFG_SUMmean', 'T2_TO_RATIOmean',\n",
      "       'T2_opponent_TO_RATIOmean', 'T2_DRmean', 'T2_opponent_DRmean',\n",
      "       'T2_REB_RATEmean', 'T2_opponent_REB_RATEmean', 'T2_FT_RATEmean',\n",
      "       'T2_POSS_RATEmean', 'T2_Astmean', 'T2_opponent_TOmean', 'T2_Stlmean',\n",
      "       'T2_Blkmean', 'T2_opponent_Blkmean', 'T2_PFmean', 'T2_opponent_PFmean',\n",
      "       'seed_diff', 'rank_diff', 'quality_diff', 'win_ratio_14d_diff',\n",
      "       'T1_FGA_diff', 'T2_FGA_diff'],\n",
      "      dtype='object')\n"
     ]
    }
   ],
   "source": [
    "print(\"最終的な X の特徴量\")\n",
    "print(X.columns)"
   ]
  },
  {
   "cell_type": "code",
   "execution_count": 17,
   "id": "6eb77d49",
   "metadata": {
    "execution": {
     "iopub.execute_input": "2025-03-18T08:03:16.084238Z",
     "iopub.status.busy": "2025-03-18T08:03:16.083914Z",
     "iopub.status.idle": "2025-03-18T08:03:16.094603Z",
     "shell.execute_reply": "2025-03-18T08:03:16.094603Z"
    },
    "papermill": {
     "duration": 0.02941,
     "end_time": "2025-03-18T08:03:16.094603",
     "exception": false,
     "start_time": "2025-03-18T08:03:16.065193",
     "status": "completed"
    },
    "tags": []
   },
   "outputs": [
    {
     "name": "stdout",
     "output_type": "stream",
     "text": [
      "<class 'pandas.core.frame.DataFrame'>\n",
      "RangeIndex: 3230 entries, 0 to 3229\n",
      "Data columns (total 50 columns):\n",
      " #   Column                    Non-Null Count  Dtype  \n",
      "---  ------                    --------------  -----  \n",
      " 0   T1_Scoremean              3230 non-null   float64\n",
      " 1   T1_opponent_Scoremean     3230 non-null   float64\n",
      " 2   T1_PointDiffmean          3230 non-null   float64\n",
      " 3   T1_FGMmean                3230 non-null   float64\n",
      " 4   T1_opponent_FGMmean       3230 non-null   float64\n",
      " 5   T1_EFG_SUMmean            3230 non-null   float64\n",
      " 6   T1_opponent_EFG_SUMmean   3230 non-null   float64\n",
      " 7   T1_TO_RATIOmean           3230 non-null   float64\n",
      " 8   T1_opponent_TO_RATIOmean  3230 non-null   float64\n",
      " 9   T1_DRmean                 3230 non-null   float64\n",
      " 10  T1_opponent_DRmean        3230 non-null   float64\n",
      " 11  T1_REB_RATEmean           3230 non-null   float64\n",
      " 12  T1_opponent_REB_RATEmean  3230 non-null   float64\n",
      " 13  T1_FT_RATEmean            3230 non-null   float64\n",
      " 14  T1_POSS_RATEmean          3230 non-null   float64\n",
      " 15  T1_Astmean                3230 non-null   float64\n",
      " 16  T1_opponent_TOmean        3230 non-null   float64\n",
      " 17  T1_Stlmean                3230 non-null   float64\n",
      " 18  T1_Blkmean                3230 non-null   float64\n",
      " 19  T1_opponent_Blkmean       3230 non-null   float64\n",
      " 20  T1_PFmean                 3230 non-null   float64\n",
      " 21  T1_opponent_PFmean        3230 non-null   float64\n",
      " 22  T2_Scoremean              3230 non-null   float64\n",
      " 23  T2_opponent_Scoremean     3230 non-null   float64\n",
      " 24  T2_PointDiffmean          3230 non-null   float64\n",
      " 25  T2_FGMmean                3230 non-null   float64\n",
      " 26  T2_opponent_FGMmean       3230 non-null   float64\n",
      " 27  T2_EFG_SUMmean            3230 non-null   float64\n",
      " 28  T2_opponent_EFG_SUMmean   3230 non-null   float64\n",
      " 29  T2_TO_RATIOmean           3230 non-null   float64\n",
      " 30  T2_opponent_TO_RATIOmean  3230 non-null   float64\n",
      " 31  T2_DRmean                 3230 non-null   float64\n",
      " 32  T2_opponent_DRmean        3230 non-null   float64\n",
      " 33  T2_REB_RATEmean           3230 non-null   float64\n",
      " 34  T2_opponent_REB_RATEmean  3230 non-null   float64\n",
      " 35  T2_FT_RATEmean            3230 non-null   float64\n",
      " 36  T2_POSS_RATEmean          3230 non-null   float64\n",
      " 37  T2_Astmean                3230 non-null   float64\n",
      " 38  T2_opponent_TOmean        3230 non-null   float64\n",
      " 39  T2_Stlmean                3230 non-null   float64\n",
      " 40  T2_Blkmean                3230 non-null   float64\n",
      " 41  T2_opponent_Blkmean       3230 non-null   float64\n",
      " 42  T2_PFmean                 3230 non-null   float64\n",
      " 43  T2_opponent_PFmean        3230 non-null   float64\n",
      " 44  seed_diff                 3230 non-null   float64\n",
      " 45  rank_diff                 2096 non-null   float64\n",
      " 46  quality_diff              3230 non-null   float64\n",
      " 47  win_ratio_14d_diff        3230 non-null   float64\n",
      " 48  T1_FGA_diff               3230 non-null   float64\n",
      " 49  T2_FGA_diff               3230 non-null   float64\n",
      "dtypes: float64(50)\n",
      "memory usage: 1.2 MB\n"
     ]
    }
   ],
   "source": [
    "X.info()"
   ]
  },
  {
   "cell_type": "markdown",
   "id": "a2f0af48",
   "metadata": {
    "papermill": {
     "duration": 0.015003,
     "end_time": "2025-03-18T08:03:16.114156",
     "exception": false,
     "start_time": "2025-03-18T08:03:16.099153",
     "status": "completed"
    },
    "tags": []
   },
   "source": [
    "# build models"
   ]
  },
  {
   "cell_type": "code",
   "execution_count": 18,
   "id": "79814379",
   "metadata": {
    "execution": {
     "iopub.execute_input": "2025-03-18T08:03:16.138712Z",
     "iopub.status.busy": "2025-03-18T08:03:16.138712Z",
     "iopub.status.idle": "2025-03-18T08:03:16.157864Z",
     "shell.execute_reply": "2025-03-18T08:03:16.157309Z"
    },
    "papermill": {
     "duration": 0.036438,
     "end_time": "2025-03-18T08:03:16.158613",
     "exception": false,
     "start_time": "2025-03-18T08:03:16.122175",
     "status": "completed"
    },
    "tags": []
   },
   "outputs": [],
   "source": [
    "\n",
    "val_mae = []\n",
    "iteration_counts = []\n",
    "xgb_cv = []\n",
    "dtrain = xgb.DMatrix(X, label=y)\n",
    "\n",
    "repeat_cv = MODEL.repeat_cv\n",
    "param = dict(MODEL.xgb_model.param)\n",
    "num_boost_round = MODEL.xgb_model.num_boost_round\n",
    "folds_splits = MODEL.xgb_model.folds_splits\n",
    "early_stopping_rounds = MODEL.xgb_model.early_stopping_rounds\n",
    "\n",
    "# コーシー損失関数\n",
    "def cauchyobj(preds, dtrain):\n",
    "    labels = dtrain.get_label()\n",
    "    c = 5000\n",
    "    x = preds - labels    \n",
    "    grad = x / (x**2/c**2 + 1)\n",
    "    hess = -c**2 * (x**2 - c**2) / (x**2 + c**2)**2\n",
    "    return grad, hess"
   ]
  },
  {
   "cell_type": "code",
   "execution_count": 19,
   "id": "6d387a7b",
   "metadata": {
    "execution": {
     "iopub.execute_input": "2025-03-18T08:03:16.193414Z",
     "iopub.status.busy": "2025-03-18T08:03:16.193414Z",
     "iopub.status.idle": "2025-03-18T08:03:16.210483Z",
     "shell.execute_reply": "2025-03-18T08:03:16.210483Z"
    },
    "papermill": {
     "duration": 0.037862,
     "end_time": "2025-03-18T08:03:16.212539",
     "exception": false,
     "start_time": "2025-03-18T08:03:16.174677",
     "status": "completed"
    },
    "tags": []
   },
   "outputs": [],
   "source": [
    "#########################################\n",
    "# 1. Optunaあり：ハイパーパラメータ最適化 #\n",
    "#########################################\n",
    "def run_optuna_optimization(param, optuna_conf):\n",
    "    def objective(trial):  \n",
    "        logger.info(f\"Trial {trial.number} 開始\")\n",
    "        \n",
    "        current_param = param.copy()  \n",
    "        max_depth_range = optuna_conf.max_depth        \n",
    "        eta_range = optuna_conf.eta\n",
    "        subsample_range = optuna_conf.subsample          \n",
    "        colsample_bytree_range = optuna_conf.colsample_bytree\n",
    "        num_parallel_tree_range = optuna_conf.num_parallel_tree \n",
    "        min_child_weight_range = optuna_conf.min_child_weight \n",
    "        reg_alpha_range = optuna_conf.reg_alpha         \n",
    "        reg_lambda_range = optuna_conf.reg_lambda    \n",
    "        reg_gamma_range = optuna_conf.gamma  \n",
    "\n",
    "        current_param[\"max_depth\"] = trial.suggest_int(\"max_depth\", max_depth_range[0], max_depth_range[1])\n",
    "        current_param[\"eta\"] = trial.suggest_float(\"eta\", eta_range[0], eta_range[1], log=True)\n",
    "        current_param[\"subsample\"] = trial.suggest_float(\"subsample\", subsample_range[0], subsample_range[1])\n",
    "        current_param[\"colsample_bytree\"] = trial.suggest_float(\"colsample_bytree\", colsample_bytree_range[0], colsample_bytree_range[1])\n",
    "        current_param[\"num_parallel_tree\"] = trial.suggest_int(\"num_parallel_tree\", num_parallel_tree_range[0], num_parallel_tree_range[1])\n",
    "        current_param[\"min_child_weight\"] = trial.suggest_int(\"min_child_weight\", min_child_weight_range[0], min_child_weight_range[1])\n",
    "        current_param[\"reg_alpha\"] = trial.suggest_float(\"reg_alpha\", reg_alpha_range[0], reg_alpha_range[1])\n",
    "        current_param[\"reg_lambda\"] = trial.suggest_float(\"reg_lambda\", reg_lambda_range[0], reg_lambda_range[1])\n",
    "        current_param[\"gamma\"] = trial.suggest_float(\"gamma\", reg_gamma_range[0], reg_gamma_range[1])\n",
    "        \n",
    "        if current_param.get(\"eval_metric\", \"mae\") == \"rmse\":\n",
    "            score_name = \"test-rmse-mean\"\n",
    "        elif current_param.get(\"eval_metric\", \"mae\") == \"mae\":\n",
    "            score_name = \"test-mae-mean\"\n",
    "        elif  current_param.get(\"eval_metric\", \"mae\") == \"logloss\":\n",
    "            score_name = \"test-logloss-mean\"\n",
    "        \n",
    "        print(current_param)  \n",
    "        cv_scores = []\n",
    "        for i in range(repeat_cv):\n",
    "            cv_result = xgb.cv(\n",
    "                params=current_param,\n",
    "                dtrain=dtrain,\n",
    "                obj=cauchyobj,\n",
    "                num_boost_round=num_boost_round,\n",
    "                folds=KFold(n_splits=folds_splits, shuffle=True, random_state=i),\n",
    "                early_stopping_rounds=early_stopping_rounds,\n",
    "                verbose_eval=False\n",
    "            )\n",
    "            fold_score = np.min(cv_result[score_name].values)\n",
    "            cv_scores.append(fold_score)\n",
    "        mean_score = np.mean(cv_scores)\n",
    "        logger.info(f\"Trial {trial.number} 終了: スコア {mean_score}\")\n",
    "        \n",
    "        return mean_score\n",
    "\n",
    "    logger.info(\"Optuna最適化開始\")\n",
    "    N_WARMUP_STEPS = optuna_conf.n_warmup_steps\n",
    "    TIMEOUT = optuna_conf.timeout\n",
    "    N_JOBS = optuna_conf.n_jobs\n",
    "    N_TRIALS = optuna_conf.n_trials\n",
    "    \n",
    "    sampler = optuna.samplers.TPESampler(seed=42)\n",
    "    pruner = optuna.pruners.MedianPruner(n_warmup_steps=N_WARMUP_STEPS)\n",
    "\n",
    "    study = optuna.create_study(direction=\"minimize\", sampler=sampler, pruner=pruner)\n",
    "    study.optimize(objective, n_trials=N_TRIALS, timeout=TIMEOUT, n_jobs=N_JOBS)\n",
    "\n",
    "    best_trial = study.best_trial\n",
    "    logger.info(\"Best trial:\")\n",
    "    logger.info(f\"  Value: {best_trial.value}\")\n",
    "    \n",
    "    for key, value in best_trial.params.items():\n",
    "        print(f\"    {key}: {value}\")\n",
    "    param.update(best_trial.params)\n",
    "\n",
    "    logger.info(\"Optuna最適化終了\")\n",
    "    return param"
   ]
  },
  {
   "cell_type": "code",
   "execution_count": 20,
   "id": "28f0e327",
   "metadata": {
    "execution": {
     "iopub.execute_input": "2025-03-18T08:03:16.243876Z",
     "iopub.status.busy": "2025-03-18T08:03:16.241873Z",
     "iopub.status.idle": "2025-03-18T08:03:16.251687Z",
     "shell.execute_reply": "2025-03-18T08:03:16.251078Z"
    },
    "papermill": {
     "duration": 0.026149,
     "end_time": "2025-03-18T08:03:16.253695",
     "exception": false,
     "start_time": "2025-03-18T08:03:16.227546",
     "status": "completed"
    },
    "tags": []
   },
   "outputs": [
    {
     "name": "stdout",
     "output_type": "stream",
     "text": [
      "not use Optuna, use xgb_model.param\n",
      "param: {'eval_metric': 'rmse', 'booster': 'gbtree', 'eta': 0.02, 'subsample': 0.35, 'colsample_bytree': 0.7, 'num_parallel_tree': 10, 'min_child_weight': 40, 'gamma': 10, 'max_depth': 3}\n",
      "repeat_cv: 10\n",
      "num_boost_round: 3000\n",
      "folds_splits: 5\n",
      "early_stopping_rounds: 25\n"
     ]
    }
   ],
   "source": [
    "IS_OPTUNA = MODEL.optuna_enabled\n",
    "if IS_OPTUNA:\n",
    "    print(\"Optuna use mode\") \n",
    "    optuna_conf = MODEL.xgb_model.optuna\n",
    "    logger.add(os.path.join(OUTPUT_PATH, \"results.log\"), format=\"{time:YYYY-MM-DD at HH:mm:ss} - {level} - {message}\", level=\"INFO\")\n",
    "    param = run_optuna_optimization(param, optuna_conf)\n",
    "    print(\"param updated by optuna\")\n",
    "    results+= [\"param set after optuna is below\", f\"{param}\", \"\"]\n",
    "else:    \n",
    "    print(\"not use Optuna, use xgb_model.param\")\n",
    "\n",
    "\n",
    "\n",
    "print(\"param:\", param)\n",
    "print(\"repeat_cv:\", repeat_cv)\n",
    "print(\"num_boost_round:\", num_boost_round)\n",
    "print(\"folds_splits:\", folds_splits)\n",
    "print(\"early_stopping_rounds:\", early_stopping_rounds)"
   ]
  },
  {
   "cell_type": "code",
   "execution_count": 21,
   "id": "80ff3728",
   "metadata": {
    "execution": {
     "iopub.execute_input": "2025-03-18T08:03:16.275762Z",
     "iopub.status.busy": "2025-03-18T08:03:16.275762Z",
     "iopub.status.idle": "2025-03-18T08:10:18.150577Z",
     "shell.execute_reply": "2025-03-18T08:10:18.150577Z"
    },
    "papermill": {
     "duration": 421.886855,
     "end_time": "2025-03-18T08:10:18.150577",
     "exception": false,
     "start_time": "2025-03-18T08:03:16.263722",
     "status": "completed"
    },
    "tags": []
   },
   "outputs": [
    {
     "name": "stderr",
     "output_type": "stream",
     "text": [
      "\r",
      "  0%|                                                                                                                                                                                                                                      | 0/10 [00:00<?, ?it/s]"
     ]
    },
    {
     "name": "stdout",
     "output_type": "stream",
     "text": [
      "[0]\ttrain-rmse:17.09429+0.03275\ttest-rmse:17.09772+0.13388\n"
     ]
    },
    {
     "name": "stdout",
     "output_type": "stream",
     "text": [
      "[50]\ttrain-rmse:13.06930+0.04651\ttest-rmse:13.26756+0.18297\n"
     ]
    },
    {
     "name": "stdout",
     "output_type": "stream",
     "text": [
      "[100]\ttrain-rmse:11.98375+0.04495\ttest-rmse:12.34637+0.19553\n"
     ]
    },
    {
     "name": "stdout",
     "output_type": "stream",
     "text": [
      "[150]\ttrain-rmse:11.56830+0.04595\ttest-rmse:12.07908+0.18793\n"
     ]
    },
    {
     "name": "stdout",
     "output_type": "stream",
     "text": [
      "[200]\ttrain-rmse:11.31416+0.04696\ttest-rmse:11.96935+0.18814\n"
     ]
    },
    {
     "name": "stdout",
     "output_type": "stream",
     "text": [
      "[250]\ttrain-rmse:11.11876+0.04578\ttest-rmse:11.91442+0.18741\n"
     ]
    },
    {
     "name": "stdout",
     "output_type": "stream",
     "text": [
      "[300]\ttrain-rmse:10.95300+0.04702\ttest-rmse:11.88318+0.18537\n"
     ]
    },
    {
     "name": "stdout",
     "output_type": "stream",
     "text": [
      "[350]\ttrain-rmse:10.80329+0.04672\ttest-rmse:11.86573+0.18292\n"
     ]
    },
    {
     "name": "stdout",
     "output_type": "stream",
     "text": [
      "[400]\ttrain-rmse:10.66838+0.04838\ttest-rmse:11.85919+0.18481\n"
     ]
    },
    {
     "name": "stdout",
     "output_type": "stream",
     "text": [
      "[450]\ttrain-rmse:10.54157+0.04806\ttest-rmse:11.85409+0.18449\n"
     ]
    },
    {
     "name": "stdout",
     "output_type": "stream",
     "text": [
      "[500]\ttrain-rmse:10.42057+0.04825\ttest-rmse:11.85204+0.18347\n"
     ]
    },
    {
     "name": "stdout",
     "output_type": "stream",
     "text": [
      "[548]\ttrain-rmse:10.30986+0.04914\ttest-rmse:11.85052+0.18589\n"
     ]
    },
    {
     "name": "stderr",
     "output_type": "stream",
     "text": [
      "\r",
      " 10%|██████████████████████▏                                                                                                                                                                                                       | 1/10 [00:32<04:52, 32.49s/it]"
     ]
    },
    {
     "name": "stdout",
     "output_type": "stream",
     "text": [
      "[0]\ttrain-rmse:17.09263+0.15466\ttest-rmse:17.08560+0.62792\n"
     ]
    },
    {
     "name": "stdout",
     "output_type": "stream",
     "text": [
      "[50]\ttrain-rmse:13.06814+0.10387\ttest-rmse:13.25269+0.50980\n"
     ]
    },
    {
     "name": "stdout",
     "output_type": "stream",
     "text": [
      "[100]\ttrain-rmse:11.98593+0.09770\ttest-rmse:12.33966+0.44642\n"
     ]
    },
    {
     "name": "stdout",
     "output_type": "stream",
     "text": [
      "[150]\ttrain-rmse:11.57050+0.09738\ttest-rmse:12.06843+0.42008\n"
     ]
    },
    {
     "name": "stdout",
     "output_type": "stream",
     "text": [
      "[200]\ttrain-rmse:11.31899+0.09809\ttest-rmse:11.96012+0.40935\n"
     ]
    },
    {
     "name": "stdout",
     "output_type": "stream",
     "text": [
      "[250]\ttrain-rmse:11.12442+0.09831\ttest-rmse:11.90331+0.40191\n"
     ]
    },
    {
     "name": "stdout",
     "output_type": "stream",
     "text": [
      "[300]\ttrain-rmse:10.95964+0.09977\ttest-rmse:11.86905+0.40145\n"
     ]
    },
    {
     "name": "stdout",
     "output_type": "stream",
     "text": [
      "[350]\ttrain-rmse:10.81423+0.09952\ttest-rmse:11.85549+0.40230\n"
     ]
    },
    {
     "name": "stdout",
     "output_type": "stream",
     "text": [
      "[400]\ttrain-rmse:10.67908+0.10093\ttest-rmse:11.84427+0.40202\n"
     ]
    },
    {
     "name": "stdout",
     "output_type": "stream",
     "text": [
      "[450]\ttrain-rmse:10.55157+0.10287\ttest-rmse:11.83824+0.40183\n"
     ]
    },
    {
     "name": "stdout",
     "output_type": "stream",
     "text": [
      "[474]\ttrain-rmse:10.49308+0.10241\ttest-rmse:11.84003+0.40235\n"
     ]
    },
    {
     "name": "stderr",
     "output_type": "stream",
     "text": [
      "\r",
      " 20%|████████████████████████████████████████████▍                                                                                                                                                                                 | 2/10 [01:10<04:47, 35.90s/it]"
     ]
    },
    {
     "name": "stdout",
     "output_type": "stream",
     "text": [
      "[0]\ttrain-rmse:17.09486+0.11999\ttest-rmse:17.09018+0.49261\n"
     ]
    },
    {
     "name": "stdout",
     "output_type": "stream",
     "text": [
      "[50]\ttrain-rmse:13.07188+0.07447\ttest-rmse:13.23900+0.36102\n"
     ]
    },
    {
     "name": "stdout",
     "output_type": "stream",
     "text": [
      "[100]\ttrain-rmse:11.98746+0.06489\ttest-rmse:12.31484+0.31011\n"
     ]
    },
    {
     "name": "stdout",
     "output_type": "stream",
     "text": [
      "[150]\ttrain-rmse:11.57503+0.06336\ttest-rmse:12.04315+0.29533\n"
     ]
    },
    {
     "name": "stdout",
     "output_type": "stream",
     "text": [
      "[200]\ttrain-rmse:11.32141+0.06183\ttest-rmse:11.92924+0.28944\n"
     ]
    },
    {
     "name": "stdout",
     "output_type": "stream",
     "text": [
      "[250]\ttrain-rmse:11.12850+0.05850\ttest-rmse:11.87150+0.28716\n"
     ]
    },
    {
     "name": "stdout",
     "output_type": "stream",
     "text": [
      "[300]\ttrain-rmse:10.96305+0.05624\ttest-rmse:11.84062+0.28061\n"
     ]
    },
    {
     "name": "stdout",
     "output_type": "stream",
     "text": [
      "[350]\ttrain-rmse:10.81595+0.05802\ttest-rmse:11.82481+0.27494\n"
     ]
    },
    {
     "name": "stdout",
     "output_type": "stream",
     "text": [
      "[400]\ttrain-rmse:10.68129+0.05709\ttest-rmse:11.81474+0.27407\n"
     ]
    },
    {
     "name": "stdout",
     "output_type": "stream",
     "text": [
      "[450]\ttrain-rmse:10.55386+0.05585\ttest-rmse:11.81010+0.26732\n"
     ]
    },
    {
     "name": "stdout",
     "output_type": "stream",
     "text": [
      "[490]\ttrain-rmse:10.45730+0.05490\ttest-rmse:11.81015+0.26346\n"
     ]
    },
    {
     "name": "stderr",
     "output_type": "stream",
     "text": [
      "\r",
      " 30%|██████████████████████████████████████████████████████████████████▌                                                                                                                                                           | 3/10 [01:50<04:22, 37.45s/it]"
     ]
    },
    {
     "name": "stdout",
     "output_type": "stream",
     "text": [
      "[0]\ttrain-rmse:17.09360+0.07557\ttest-rmse:17.09451+0.30717\n"
     ]
    },
    {
     "name": "stdout",
     "output_type": "stream",
     "text": [
      "[50]\ttrain-rmse:13.07332+0.04744\ttest-rmse:13.24715+0.29854\n"
     ]
    },
    {
     "name": "stdout",
     "output_type": "stream",
     "text": [
      "[100]\ttrain-rmse:11.99249+0.05042\ttest-rmse:12.32121+0.24907\n"
     ]
    },
    {
     "name": "stdout",
     "output_type": "stream",
     "text": [
      "[150]\ttrain-rmse:11.57870+0.05430\ttest-rmse:12.04761+0.22450\n"
     ]
    },
    {
     "name": "stdout",
     "output_type": "stream",
     "text": [
      "[200]\ttrain-rmse:11.32593+0.05827\ttest-rmse:11.93061+0.21558\n"
     ]
    },
    {
     "name": "stdout",
     "output_type": "stream",
     "text": [
      "[250]\ttrain-rmse:11.13414+0.06215\ttest-rmse:11.86526+0.21624\n"
     ]
    },
    {
     "name": "stdout",
     "output_type": "stream",
     "text": [
      "[300]\ttrain-rmse:10.96828+0.06221\ttest-rmse:11.82987+0.22023\n"
     ]
    },
    {
     "name": "stdout",
     "output_type": "stream",
     "text": [
      "[350]\ttrain-rmse:10.82132+0.06435\ttest-rmse:11.80954+0.22326\n"
     ]
    },
    {
     "name": "stdout",
     "output_type": "stream",
     "text": [
      "[400]\ttrain-rmse:10.68658+0.06644\ttest-rmse:11.79481+0.22699\n"
     ]
    },
    {
     "name": "stdout",
     "output_type": "stream",
     "text": [
      "[450]\ttrain-rmse:10.56069+0.06821\ttest-rmse:11.78531+0.22976\n"
     ]
    },
    {
     "name": "stdout",
     "output_type": "stream",
     "text": [
      "[500]\ttrain-rmse:10.44025+0.07013\ttest-rmse:11.77913+0.23242\n"
     ]
    },
    {
     "name": "stdout",
     "output_type": "stream",
     "text": [
      "[547]\ttrain-rmse:10.33356+0.07168\ttest-rmse:11.77713+0.23594\n"
     ]
    },
    {
     "name": "stderr",
     "output_type": "stream",
     "text": [
      "\r",
      " 40%|████████████████████████████████████████████████████████████████████████████████████████▊                                                                                                                                     | 4/10 [02:35<04:03, 40.63s/it]"
     ]
    },
    {
     "name": "stdout",
     "output_type": "stream",
     "text": [
      "[0]\ttrain-rmse:17.09237+0.08357\ttest-rmse:17.09351+0.33590\n"
     ]
    },
    {
     "name": "stdout",
     "output_type": "stream",
     "text": [
      "[50]\ttrain-rmse:13.07030+0.09742\ttest-rmse:13.25033+0.47978\n"
     ]
    },
    {
     "name": "stdout",
     "output_type": "stream",
     "text": [
      "[100]\ttrain-rmse:11.98259+0.09950\ttest-rmse:12.32623+0.46384\n"
     ]
    },
    {
     "name": "stdout",
     "output_type": "stream",
     "text": [
      "[150]\ttrain-rmse:11.57298+0.09968\ttest-rmse:12.05404+0.44345\n"
     ]
    },
    {
     "name": "stdout",
     "output_type": "stream",
     "text": [
      "[200]\ttrain-rmse:11.32207+0.09716\ttest-rmse:11.94236+0.43068\n"
     ]
    },
    {
     "name": "stdout",
     "output_type": "stream",
     "text": [
      "[250]\ttrain-rmse:11.12977+0.09325\ttest-rmse:11.88533+0.41921\n"
     ]
    },
    {
     "name": "stdout",
     "output_type": "stream",
     "text": [
      "[300]\ttrain-rmse:10.96743+0.09281\ttest-rmse:11.85391+0.40743\n"
     ]
    },
    {
     "name": "stdout",
     "output_type": "stream",
     "text": [
      "[350]\ttrain-rmse:10.82040+0.09197\ttest-rmse:11.83192+0.39911\n"
     ]
    },
    {
     "name": "stdout",
     "output_type": "stream",
     "text": [
      "[400]\ttrain-rmse:10.68641+0.09259\ttest-rmse:11.82171+0.39319\n"
     ]
    },
    {
     "name": "stdout",
     "output_type": "stream",
     "text": [
      "[450]\ttrain-rmse:10.56088+0.09240\ttest-rmse:11.81547+0.38872\n"
     ]
    },
    {
     "name": "stdout",
     "output_type": "stream",
     "text": [
      "[500]\ttrain-rmse:10.44189+0.09245\ttest-rmse:11.81165+0.38685\n"
     ]
    },
    {
     "name": "stdout",
     "output_type": "stream",
     "text": [
      "[550]\ttrain-rmse:10.32803+0.09344\ttest-rmse:11.80701+0.38181\n"
     ]
    },
    {
     "name": "stdout",
     "output_type": "stream",
     "text": [
      "[597]\ttrain-rmse:10.22615+0.09288\ttest-rmse:11.80847+0.37770\n"
     ]
    },
    {
     "name": "stderr",
     "output_type": "stream",
     "text": [
      "\r",
      " 50%|███████████████████████████████████████████████████████████████████████████████████████████████████████████████                                                                                                               | 5/10 [03:22<03:35, 43.04s/it]"
     ]
    },
    {
     "name": "stdout",
     "output_type": "stream",
     "text": [
      "[0]\ttrain-rmse:17.09284+0.07315\ttest-rmse:17.09466+0.29774\n"
     ]
    },
    {
     "name": "stdout",
     "output_type": "stream",
     "text": [
      "[50]\ttrain-rmse:13.07175+0.06546\ttest-rmse:13.24065+0.25874\n"
     ]
    },
    {
     "name": "stdout",
     "output_type": "stream",
     "text": [
      "[100]\ttrain-rmse:11.98935+0.07050\ttest-rmse:12.31142+0.26470\n"
     ]
    },
    {
     "name": "stdout",
     "output_type": "stream",
     "text": [
      "[150]\ttrain-rmse:11.58032+0.06872\ttest-rmse:12.03554+0.26100\n"
     ]
    },
    {
     "name": "stdout",
     "output_type": "stream",
     "text": [
      "[200]\ttrain-rmse:11.32576+0.06557\ttest-rmse:11.91582+0.25874\n"
     ]
    },
    {
     "name": "stdout",
     "output_type": "stream",
     "text": [
      "[250]\ttrain-rmse:11.13182+0.06421\ttest-rmse:11.85630+0.25444\n"
     ]
    },
    {
     "name": "stdout",
     "output_type": "stream",
     "text": [
      "[300]\ttrain-rmse:10.96616+0.06465\ttest-rmse:11.82166+0.24870\n"
     ]
    },
    {
     "name": "stdout",
     "output_type": "stream",
     "text": [
      "[350]\ttrain-rmse:10.82020+0.06730\ttest-rmse:11.80109+0.24386\n"
     ]
    },
    {
     "name": "stdout",
     "output_type": "stream",
     "text": [
      "[400]\ttrain-rmse:10.68440+0.06952\ttest-rmse:11.78947+0.24332\n"
     ]
    },
    {
     "name": "stdout",
     "output_type": "stream",
     "text": [
      "[450]\ttrain-rmse:10.55740+0.06988\ttest-rmse:11.78415+0.24117\n"
     ]
    },
    {
     "name": "stdout",
     "output_type": "stream",
     "text": [
      "[500]\ttrain-rmse:10.43823+0.07125\ttest-rmse:11.77959+0.24134\n"
     ]
    },
    {
     "name": "stdout",
     "output_type": "stream",
     "text": [
      "[545]\ttrain-rmse:10.33589+0.07124\ttest-rmse:11.77926+0.24348\n"
     ]
    },
    {
     "name": "stderr",
     "output_type": "stream",
     "text": [
      "\r",
      " 60%|█████████████████████████████████████████████████████████████████████████████████████████████████████████████████████████████████████▏                                                                                        | 6/10 [04:07<02:54, 43.69s/it]"
     ]
    },
    {
     "name": "stdout",
     "output_type": "stream",
     "text": [
      "[0]\ttrain-rmse:17.09349+0.10024\ttest-rmse:17.09237+0.40175\n"
     ]
    },
    {
     "name": "stdout",
     "output_type": "stream",
     "text": [
      "[50]\ttrain-rmse:13.07136+0.01798\ttest-rmse:13.26097+0.17076\n"
     ]
    },
    {
     "name": "stdout",
     "output_type": "stream",
     "text": [
      "[100]\ttrain-rmse:11.98712+0.02063\ttest-rmse:12.33515+0.10443\n"
     ]
    },
    {
     "name": "stdout",
     "output_type": "stream",
     "text": [
      "[150]\ttrain-rmse:11.57343+0.03035\ttest-rmse:12.06093+0.11795\n"
     ]
    },
    {
     "name": "stdout",
     "output_type": "stream",
     "text": [
      "[200]\ttrain-rmse:11.31999+0.03329\ttest-rmse:11.94865+0.13694\n"
     ]
    },
    {
     "name": "stdout",
     "output_type": "stream",
     "text": [
      "[250]\ttrain-rmse:11.12832+0.03703\ttest-rmse:11.88782+0.14776\n"
     ]
    },
    {
     "name": "stdout",
     "output_type": "stream",
     "text": [
      "[300]\ttrain-rmse:10.96374+0.03740\ttest-rmse:11.85261+0.15104\n"
     ]
    },
    {
     "name": "stdout",
     "output_type": "stream",
     "text": [
      "[350]\ttrain-rmse:10.81759+0.03590\ttest-rmse:11.83078+0.15503\n"
     ]
    },
    {
     "name": "stdout",
     "output_type": "stream",
     "text": [
      "[400]\ttrain-rmse:10.68251+0.03457\ttest-rmse:11.82166+0.15884\n"
     ]
    },
    {
     "name": "stdout",
     "output_type": "stream",
     "text": [
      "[450]\ttrain-rmse:10.55696+0.03303\ttest-rmse:11.81772+0.16017\n"
     ]
    },
    {
     "name": "stdout",
     "output_type": "stream",
     "text": [
      "[500]\ttrain-rmse:10.43652+0.03274\ttest-rmse:11.81466+0.16537\n"
     ]
    },
    {
     "name": "stdout",
     "output_type": "stream",
     "text": [
      "[542]\ttrain-rmse:10.34081+0.03336\ttest-rmse:11.81481+0.16504\n"
     ]
    },
    {
     "name": "stderr",
     "output_type": "stream",
     "text": [
      "\r",
      " 70%|███████████████████████████████████████████████████████████████████████████████████████████████████████████████████████████████████████████████████████████▍                                                                  | 7/10 [04:50<02:10, 43.46s/it]"
     ]
    },
    {
     "name": "stdout",
     "output_type": "stream",
     "text": [
      "[0]\ttrain-rmse:17.09191+0.20686\ttest-rmse:17.07695+0.81259\n"
     ]
    },
    {
     "name": "stdout",
     "output_type": "stream",
     "text": [
      "[50]\ttrain-rmse:13.06888+0.11681\ttest-rmse:13.25196+0.68240\n"
     ]
    },
    {
     "name": "stdout",
     "output_type": "stream",
     "text": [
      "[100]\ttrain-rmse:11.98043+0.09842\ttest-rmse:12.34350+0.56245\n"
     ]
    },
    {
     "name": "stdout",
     "output_type": "stream",
     "text": [
      "[150]\ttrain-rmse:11.56503+0.09485\ttest-rmse:12.09094+0.51254\n"
     ]
    },
    {
     "name": "stdout",
     "output_type": "stream",
     "text": [
      "[200]\ttrain-rmse:11.30896+0.09361\ttest-rmse:11.98644+0.48073\n"
     ]
    },
    {
     "name": "stdout",
     "output_type": "stream",
     "text": [
      "[250]\ttrain-rmse:11.11381+0.09343\ttest-rmse:11.93337+0.45934\n"
     ]
    },
    {
     "name": "stdout",
     "output_type": "stream",
     "text": [
      "[300]\ttrain-rmse:10.94814+0.09357\ttest-rmse:11.90921+0.44865\n"
     ]
    },
    {
     "name": "stdout",
     "output_type": "stream",
     "text": [
      "[350]\ttrain-rmse:10.80128+0.09429\ttest-rmse:11.89556+0.44073\n"
     ]
    },
    {
     "name": "stdout",
     "output_type": "stream",
     "text": [
      "[400]\ttrain-rmse:10.66574+0.09510\ttest-rmse:11.88938+0.43453\n"
     ]
    },
    {
     "name": "stdout",
     "output_type": "stream",
     "text": [
      "[450]\ttrain-rmse:10.53939+0.09603\ttest-rmse:11.88720+0.42867\n"
     ]
    },
    {
     "name": "stdout",
     "output_type": "stream",
     "text": [
      "[500]\ttrain-rmse:10.41917+0.09618\ttest-rmse:11.88666+0.42714\n"
     ]
    },
    {
     "name": "stdout",
     "output_type": "stream",
     "text": [
      "[506]\ttrain-rmse:10.40475+0.09644\ttest-rmse:11.88622+0.42656\n"
     ]
    },
    {
     "name": "stderr",
     "output_type": "stream",
     "text": [
      "\r",
      " 80%|█████████████████████████████████████████████████████████████████████████████████████████████████████████████████████████████████████████████████████████████████████████████████▌                                            | 8/10 [05:31<01:24, 42.49s/it]"
     ]
    },
    {
     "name": "stdout",
     "output_type": "stream",
     "text": [
      "[0]\ttrain-rmse:17.09235+0.19993\ttest-rmse:17.07694+0.83880\n"
     ]
    },
    {
     "name": "stdout",
     "output_type": "stream",
     "text": [
      "[50]\ttrain-rmse:13.06670+0.11501\ttest-rmse:13.25883+0.68657\n"
     ]
    },
    {
     "name": "stdout",
     "output_type": "stream",
     "text": [
      "[100]\ttrain-rmse:11.98225+0.08875\ttest-rmse:12.35030+0.53051\n"
     ]
    },
    {
     "name": "stdout",
     "output_type": "stream",
     "text": [
      "[150]\ttrain-rmse:11.56128+0.07812\ttest-rmse:12.08524+0.44289\n"
     ]
    },
    {
     "name": "stdout",
     "output_type": "stream",
     "text": [
      "[200]\ttrain-rmse:11.31154+0.07255\ttest-rmse:11.97535+0.39204\n"
     ]
    },
    {
     "name": "stdout",
     "output_type": "stream",
     "text": [
      "[250]\ttrain-rmse:11.11835+0.07133\ttest-rmse:11.91772+0.36121\n"
     ]
    },
    {
     "name": "stdout",
     "output_type": "stream",
     "text": [
      "[300]\ttrain-rmse:10.95543+0.07166\ttest-rmse:11.88842+0.33853\n"
     ]
    },
    {
     "name": "stdout",
     "output_type": "stream",
     "text": [
      "[350]\ttrain-rmse:10.80819+0.07149\ttest-rmse:11.86833+0.32696\n"
     ]
    },
    {
     "name": "stdout",
     "output_type": "stream",
     "text": [
      "[400]\ttrain-rmse:10.67287+0.07344\ttest-rmse:11.85960+0.31961\n"
     ]
    },
    {
     "name": "stdout",
     "output_type": "stream",
     "text": [
      "[450]\ttrain-rmse:10.54478+0.07351\ttest-rmse:11.84866+0.30870\n"
     ]
    },
    {
     "name": "stdout",
     "output_type": "stream",
     "text": [
      "[500]\ttrain-rmse:10.42691+0.07301\ttest-rmse:11.84552+0.30669\n"
     ]
    },
    {
     "name": "stdout",
     "output_type": "stream",
     "text": [
      "[536]\ttrain-rmse:10.34428+0.07459\ttest-rmse:11.84549+0.30512\n"
     ]
    },
    {
     "name": "stderr",
     "output_type": "stream",
     "text": [
      "\r",
      " 90%|███████████████████████████████████████████████████████████████████████████████████████████████████████████████████████████████████████████████████████████████████████████████████████████████████████▊                      | 9/10 [06:15<00:42, 42.92s/it]"
     ]
    },
    {
     "name": "stdout",
     "output_type": "stream",
     "text": [
      "[0]\ttrain-rmse:17.09439+0.13499\ttest-rmse:17.08940+0.55190\n"
     ]
    },
    {
     "name": "stdout",
     "output_type": "stream",
     "text": [
      "[50]\ttrain-rmse:13.07103+0.08919\ttest-rmse:13.24830+0.49562\n"
     ]
    },
    {
     "name": "stdout",
     "output_type": "stream",
     "text": [
      "[100]\ttrain-rmse:11.98640+0.08070\ttest-rmse:12.32761+0.41500\n"
     ]
    },
    {
     "name": "stdout",
     "output_type": "stream",
     "text": [
      "[150]\ttrain-rmse:11.57425+0.08033\ttest-rmse:12.06306+0.38201\n"
     ]
    },
    {
     "name": "stdout",
     "output_type": "stream",
     "text": [
      "[200]\ttrain-rmse:11.32241+0.07898\ttest-rmse:11.95140+0.36738\n"
     ]
    },
    {
     "name": "stdout",
     "output_type": "stream",
     "text": [
      "[250]\ttrain-rmse:11.12920+0.07642\ttest-rmse:11.89166+0.35651\n"
     ]
    },
    {
     "name": "stdout",
     "output_type": "stream",
     "text": [
      "[300]\ttrain-rmse:10.96353+0.07728\ttest-rmse:11.85791+0.34699\n"
     ]
    },
    {
     "name": "stdout",
     "output_type": "stream",
     "text": [
      "[350]\ttrain-rmse:10.81767+0.07696\ttest-rmse:11.83929+0.34089\n"
     ]
    },
    {
     "name": "stdout",
     "output_type": "stream",
     "text": [
      "[400]\ttrain-rmse:10.68352+0.07602\ttest-rmse:11.83026+0.33507\n"
     ]
    },
    {
     "name": "stdout",
     "output_type": "stream",
     "text": [
      "[450]\ttrain-rmse:10.55682+0.07657\ttest-rmse:11.82202+0.32580\n"
     ]
    },
    {
     "name": "stdout",
     "output_type": "stream",
     "text": [
      "[500]\ttrain-rmse:10.43596+0.07665\ttest-rmse:11.81941+0.32042\n"
     ]
    },
    {
     "name": "stdout",
     "output_type": "stream",
     "text": [
      "[550]\ttrain-rmse:10.32279+0.07635\ttest-rmse:11.81451+0.31526\n"
     ]
    },
    {
     "name": "stdout",
     "output_type": "stream",
     "text": [
      "[580]\ttrain-rmse:10.25581+0.07641\ttest-rmse:11.81562+0.31654\n"
     ]
    },
    {
     "name": "stderr",
     "output_type": "stream",
     "text": [
      "\r",
      "100%|█████████████████████████████████████████████████████████████████████████████████████████████████████████████████████████████████████████████████████████████████████████████████████████████████████████████████████████████| 10/10 [07:01<00:00, 44.03s/it]"
     ]
    },
    {
     "name": "stderr",
     "output_type": "stream",
     "text": [
      "\r",
      "100%|█████████████████████████████████████████████████████████████████████████████████████████████████████████████████████████████████████████████████████████████████████████████████████████████████████████████████████████████| 10/10 [07:01<00:00, 42.16s/it]"
     ]
    },
    {
     "name": "stderr",
     "output_type": "stream",
     "text": [
      "\n"
     ]
    }
   ],
   "source": [
    "if param.get(\"eval_metric\", \"mae\") == \"rmse\":\n",
    "    score_key = \"test-rmse-mean\"\n",
    "    ylabel = \"Test RMSE Mean\"\n",
    "    title = \"Learning Curve: Test RMSE vs Boosting Rounds\"\n",
    "elif param.get(\"eval_metric\", \"mae\") == \"mae\":\n",
    "    score_key = \"test-mae-mean\"\n",
    "    ylabel = \"Test MAE Mean\"\n",
    "    title = \"Learning Curve: Test MAE vs Boosting Rounds\"\n",
    "elif param.get(\"eval_metric\", \"mae\") == \"logloss\":\n",
    "    score_key = \"test-logloss-mean\"\n",
    "    ylabel = \"Test Logloss Mean\"\n",
    "    title = \"Learning Curve: Test Logloss vs Boosting Rounds\"\n",
    "\n",
    "\n",
    "for i in tqdm(range(repeat_cv), leave=True, dynamic_ncols=True): \n",
    "    cv_result = xgb.cv(\n",
    "        params=param,\n",
    "        dtrain=dtrain,\n",
    "        obj=cauchyobj,\n",
    "        num_boost_round=num_boost_round,\n",
    "        folds=KFold(n_splits=folds_splits, shuffle=True, random_state=i),\n",
    "        early_stopping_rounds=early_stopping_rounds,\n",
    "        verbose_eval=50\n",
    "    )\n",
    "    \"\"\"\n",
    "    train-mae-mean: 各fold における訓練データの MAE の平均値。\n",
    "    train-mae-std: 訓練データの MAE の標準偏差。\n",
    "    test-mae-mean: 各fold における検証データの MAE の平均値。\n",
    "    test-mae-std: 検証データの MAE の標準偏差。\n",
    "    \"\"\"\n",
    "    xgb_cv.append(cv_result)\n",
    "    \n",
    "\n",
    "\n",
    "\n",
    "# 各 repeater ごとの最適ブーストラウンド数と検証MAE\n",
    "iteration_counts = [np.argmin(cv[score_key].values) for cv in xgb_cv]\n",
    "val_mae = [np.min(cv[score_key].values) for cv in xgb_cv]\n",
    "\n",
    "mean_iteration = np.mean(iteration_counts)\n",
    "mean_val_mae = np.mean(val_mae)\n",
    "min_val_mae = np.min(val_mae)\n",
    "results.append(f\"mean_iteration: {mean_iteration}\")\n",
    "results.append(f\"mean_val_{param['eval_metric']}: {mean_val_mae}\")\n",
    "results.append(f\"min_val_{param['eval_metric']}: {min_val_mae}\")\n",
    "results.append(\"\")\n",
    "\n",
    "###\n",
    "plt.figure(figsize=(10, 6))\n",
    "for i, cv_result in enumerate(xgb_cv):\n",
    "    rounds = np.arange(len(cv_result[score_key]))\n",
    "    plt.plot(rounds, cv_result[score_key], label=f\"CV repeater {i+1}\")\n",
    "    \n",
    "plt.xlabel(\"Boosting Round\")\n",
    "plt.ylabel(ylabel)\n",
    "plt.title(title)\n",
    "plt.legend()\n",
    "plt.grid(True)\n",
    "\n",
    "plt.savefig(os.path.join(OUTPUT_PATH, f\"learning_curve_{PREDICT_YEAR}.png\"))\n",
    "plt.close()\n",
    "###\n"
   ]
  },
  {
   "cell_type": "code",
   "execution_count": 22,
   "id": "4a8f17cd",
   "metadata": {
    "execution": {
     "iopub.execute_input": "2025-03-18T08:10:18.203909Z",
     "iopub.status.busy": "2025-03-18T08:10:18.203909Z",
     "iopub.status.idle": "2025-03-18T08:10:18.217077Z",
     "shell.execute_reply": "2025-03-18T08:10:18.215869Z"
    },
    "papermill": {
     "duration": 0.039851,
     "end_time": "2025-03-18T08:10:18.217077",
     "exception": false,
     "start_time": "2025-03-18T08:10:18.177226",
     "status": "completed"
    },
    "tags": []
   },
   "outputs": [
    {
     "name": "stdout",
     "output_type": "stream",
     "text": [
      "最適ブーストラウンド数: [523, 449, 465, 523, 572, 521, 517, 482, 512, 556]\n",
      "test-rmse-mean: [11.848697867130506, 11.838028904239078, 11.808617299945436, 11.776545434783232, 11.806432364432279, 11.776849661706725, 11.813086685918025, 11.885286766735863, 11.843614297656933, 11.814104158792542]\n"
     ]
    }
   ],
   "source": [
    "print(\"最適ブーストラウンド数:\", iteration_counts)\n",
    "print(f\"{score_key}:\", val_mae)\n",
    "results.append(f\"最適ブーストラウンド: {iteration_counts}\")\n",
    "results.append(f\"{score_key}: {val_mae}\")\n",
    "results.append(\"\")"
   ]
  },
  {
   "cell_type": "code",
   "execution_count": 23,
   "id": "90fa2469",
   "metadata": {
    "execution": {
     "iopub.execute_input": "2025-03-18T08:10:18.250594Z",
     "iopub.status.busy": "2025-03-18T08:10:18.250594Z",
     "iopub.status.idle": "2025-03-18T08:16:26.077462Z",
     "shell.execute_reply": "2025-03-18T08:16:26.077462Z"
    },
    "papermill": {
     "duration": 367.859445,
     "end_time": "2025-03-18T08:16:26.101457",
     "exception": false,
     "start_time": "2025-03-18T08:10:18.242012",
     "status": "completed"
    },
    "tags": []
   },
   "outputs": [
    {
     "name": "stderr",
     "output_type": "stream",
     "text": [
      "\r",
      "  0%|                                                                                                                                                                                                                                      | 0/10 [00:00<?, ?it/s]"
     ]
    },
    {
     "name": "stderr",
     "output_type": "stream",
     "text": [
      "C:\\Users\\81809\\AppData\\Local\\Temp\\ipykernel_11780\\3386215446.py:18: FutureWarning: Setting an item of incompatible dtype is deprecated and will raise an error in a future version of pandas. Value '[ 2.04268665e+01  4.63837743e-01  1.77432766e+01  6.67969131e+00\n",
      " -5.58251905e+00 -3.13519806e-01  6.62551546e+00  8.53923321e+00\n",
      "  2.32491913e+01  1.97495639e+00  1.03251944e+01  6.48313379e+00\n",
      "  7.05821705e+00  7.68284273e+00 -4.39793396e+00  2.11579494e+01\n",
      " -2.22263145e+00  6.89637995e+00  9.81707764e+00  2.33900595e+00\n",
      "  3.50904202e+00  3.11943173e+00 -5.67694724e-01 -1.24078667e+00\n",
      "  6.35935068e+00  6.39050150e+00  3.61199355e+00  1.67708721e+01\n",
      "  2.98125029e+00 -6.46604300e+00 -4.05656052e+00  5.44719982e+00\n",
      "  4.66774344e-01  2.05865269e+01  8.50888634e+00 -6.91150379e+00\n",
      " -1.92125916e+00  7.78028917e+00  6.28722620e+00  4.63496780e+00\n",
      "  1.06164552e-01  8.04474258e+00 -3.59141541e+00  1.41289196e+01\n",
      "  3.37358403e+00  5.58760548e+00 -1.13855495e+01  2.49880266e+00\n",
      "  1.55667791e+01 -9.70390856e-01  2.19511261e+01 -1.31260264e+00\n",
      "  5.29063320e+00  5.15617752e+00 -3.21312881e+00  8.13200760e+00\n",
      "  2.16598296e+00  5.59064150e+00  1.33779919e+00  9.71433830e+00\n",
      " -6.10316038e+00 -1.39351904e+00  9.46575522e-01  2.32119255e+01\n",
      " -1.57161260e+00  8.01089478e+00  3.44421935e+00 -5.64432287e+00\n",
      "  1.19594240e+01 -2.60331321e+00  5.31693697e+00  2.43801785e+01\n",
      " -5.79302597e+00 -2.32093263e+00  2.32540822e+00  4.82007313e+00\n",
      " -3.17939067e+00  6.11392212e+00  1.66815224e+01  2.03649120e+01\n",
      "  2.88499928e+00 -4.47004175e+00  1.72521448e+00 -6.79985106e-01\n",
      "  5.60813308e-01  3.12650681e+00  9.02834594e-01 -1.02209206e+01\n",
      " -3.41231728e+00 -2.48522282e+00  9.21350956e+00  6.28443289e+00\n",
      "  3.73784685e+00  4.20249283e-01 -3.19007874e+00  1.84447098e+01\n",
      "  1.37639952e+00  6.26500320e+00  2.08663940e+01 -1.36477447e+00\n",
      " -4.55624342e+00  1.52112122e+01  1.93567619e+01  1.31839542e+01\n",
      "  4.23986340e+00 -6.27620316e+00 -7.68355668e-01  1.27222967e+01\n",
      "  5.66306925e+00 -4.88373327e+00  1.18271923e+00 -5.03667402e+00\n",
      "  5.83571672e+00 -6.50992012e+00 -1.47537537e+01  4.49081516e+00\n",
      "  2.26196095e-01  1.26804626e+00  3.10727406e+00  3.42700934e+00\n",
      "  2.61107469e+00  1.60462141e+00  1.07964478e+01  1.04327030e+01\n",
      "  7.56429672e+00  5.53990269e+00  1.20909986e+01 -2.22115660e+00\n",
      " -1.83985949e+00  3.51842451e+00  1.95309372e+01 -2.53603435e+00\n",
      "  1.29948301e+01 -1.30637999e+01 -6.68228626e+00  1.45164156e+01\n",
      "  3.76040316e+00  9.17731190e+00  8.39828396e+00 -1.28249156e+00\n",
      "  1.58296931e+00 -3.60158873e+00  8.18275261e+00  4.38591719e+00\n",
      "  2.17285252e+00 -1.45046961e+00  1.09973516e+01  1.40195823e+00\n",
      "  6.69422483e+00 -1.50438035e+00  1.50949001e+00  1.34764814e+00\n",
      "  2.07542572e+01  1.64562016e+01  9.95782757e+00  5.18772364e+00\n",
      "  4.70295763e+00  2.41361260e+00  9.10245255e-02  1.22822917e+00\n",
      "  1.57656085e+00 -2.34551966e-01  9.83802319e+00  1.40980082e+01\n",
      " -1.52879190e+00  3.24905729e+00 -5.12754321e-01  2.91568661e+00\n",
      "  2.28914118e+00  3.74628067e+00  7.54368687e+00  1.70476794e+00\n",
      " -2.27501941e+00 -2.37553075e-01  6.22621250e+00  6.34133339e-01\n",
      "  1.87963943e+01  2.92883635e+00  6.84347820e+00  3.13439441e+00\n",
      " -1.53989911e+00  4.32179737e+00  8.93040848e+00 -7.61601830e+00\n",
      "  4.27748442e+00  2.09667568e+01  1.08891106e+01 -1.93380099e-02\n",
      "  1.55889392e+00  6.68902349e+00  3.59334302e+00  1.46686907e+01\n",
      " -6.01262331e-01  3.40525556e+00  8.26859474e+00  6.11455011e+00\n",
      "  3.26469946e+00  9.92353249e+00  1.47773409e+01  1.10921183e+01\n",
      "  2.81342816e+00 -2.31997471e+01  4.77829981e+00  3.57944250e+00\n",
      "  6.85279465e+00  4.52821112e+00  4.62081051e+00  5.03389025e+00\n",
      "  5.40532351e+00  1.26020885e+00  1.90837288e+01  9.66588688e+00\n",
      "  2.87135315e+01  4.38716354e+01  2.69576607e+01  2.31103745e+01\n",
      "  2.12049541e+01  2.38516655e+01  8.79794884e+00 -4.66428697e-02\n",
      "  1.30943565e+01  5.68029261e+00 -4.45505238e+00  4.74483156e+00\n",
      "  1.99000835e+01  2.46826859e+01  8.83168411e+00  2.24729843e+01\n",
      "  1.18238916e+01  9.30734539e+00  7.53431177e+00  9.85947990e+00\n",
      " -2.97990870e+00  3.41532707e+01  1.57817020e+01  4.61090708e+00\n",
      "  3.67602425e+01  4.59399319e+00 -3.44611454e+00  2.10570278e+01\n",
      "  2.08340383e+00  1.27401505e+01  1.62968864e+01  5.41975307e+00\n",
      "  2.83323240e+00  1.14223185e+01  2.06349411e+01  3.55388374e+01\n",
      "  1.35495386e+01 -1.17355180e+00 -8.02360773e-01  1.06607664e+00\n",
      " -1.36037197e+01  5.32644558e+00  1.44633942e+01 -4.97606397e-01\n",
      "  2.13491592e+01  4.43254395e+01 -5.44290161e+00  8.03762972e-01\n",
      "  1.44202595e+01  2.62129450e+00 -5.63842010e+00  7.91022110e+00\n",
      "  2.70474586e+01  1.06299257e+01  8.98999119e+00  5.84801531e+00\n",
      " -2.88765168e+00  2.98183155e+00  2.77310638e+01  9.81644344e+00\n",
      "  1.68318520e+01  1.49414139e+01 -1.06784601e+01  1.39002037e+01\n",
      "  1.12026176e+01  3.94126129e+00 -4.77283716e+00  4.54541111e+00\n",
      "  2.35888767e+00  2.19780087e+00  3.80204849e+01  1.36205492e+01\n",
      "  3.52847214e+01  3.52209282e+01 -1.71768427e+00  2.78880291e+01\n",
      " -8.72494057e-02 -1.60042775e+00  6.27364588e+00  1.22323818e+01\n",
      "  1.36119814e+01  1.43930359e+01  8.58036327e+00  4.50140095e+00\n",
      "  1.24500561e+01 -4.17999840e+00  1.22415876e+01 -3.27969909e+00\n",
      "  1.89311275e+01  2.62580070e+01  1.16346445e+01 -1.02371067e-01\n",
      " -2.40046963e-01  1.33157074e+00  7.25222731e+00 -2.05301476e+01\n",
      " -1.11555700e+01 -9.61638069e+00  1.42726719e+00  4.08571768e+00\n",
      "  9.07422447e+00  9.77328014e+00  3.16638355e+01  1.71457806e+01\n",
      "  4.82513762e+00  3.83029022e+01 -2.10844398e+00  1.09369431e+01\n",
      "  5.61157179e+00  2.29817748e+00  3.09946871e+00  1.59074366e+00\n",
      "  1.21920347e+00  5.85978746e+00 -5.24162579e+00  7.54703188e+00\n",
      " -9.33803797e-01  7.19664288e+00 -5.19639778e+00  1.79612999e+01\n",
      "  1.12102985e+01 -1.14815407e+01  2.22044106e+01 -7.89080048e+00\n",
      " -2.45840564e-01  9.89431667e+00 -4.38680744e+00 -1.24195204e+01\n",
      " -2.71535754e+00 -2.26183014e+01 -1.67237301e+01 -8.87283230e+00\n",
      " -5.74100590e+00  3.83263278e+00 -5.83589935e+00  1.60935152e+00\n",
      " -3.72366261e+00 -4.63323164e+00 -5.17612123e+00  5.62756777e+00\n",
      " -7.60236359e+00 -3.46731496e+00 -1.74351654e+01  2.06158853e+00\n",
      "  4.31898069e+00 -6.49797440e+00 -3.85907340e+00  2.91548419e+00\n",
      "  6.52862549e+00 -3.44814038e+00 -7.22199631e+00 -3.33455825e+00\n",
      " -1.67640364e+00 -1.53441679e+00 -2.33135548e+01 -4.78442341e-01\n",
      "  2.51569223e+00 -6.61565828e+00 -6.73500299e+00 -5.62862730e+00\n",
      " -8.13730621e+00 -7.71246433e+00 -2.39958739e+00 -6.41156054e+00\n",
      "  5.42645633e-01 -5.70762634e+00  1.10229385e+00  2.22633839e+00\n",
      " -1.10518303e+01 -7.07081795e+00 -6.51012802e+00 -2.83145070e+00\n",
      " -9.50675869e+00 -4.02674770e+00 -1.55234318e+01 -2.57372017e+01\n",
      " -3.31046128e+00 -1.80188313e+01 -1.80281329e+00 -6.33977604e+00\n",
      " -1.79120612e+00 -1.25785756e+00 -8.15015316e+00 -5.34666330e-02\n",
      " -6.27448893e+00 -2.56037445e+01  3.28778768e+00 -2.20707760e+01\n",
      " -6.47713900e+00 -1.15427198e+01  4.31237602e+00  2.92741418e+00\n",
      " -8.51257229e+00  3.78108382e+00 -4.93160343e+00 -5.60580969e+00\n",
      " -3.32439971e+00 -6.26257849e+00 -9.09721470e+00 -1.41034305e+00\n",
      "  4.02473259e+00  4.58827205e-02 -1.24395027e+01 -6.67461634e+00\n",
      "  2.69556594e+00  2.36373830e+00  7.43280470e-01 -5.76717520e+00\n",
      " -3.50750875e+00  5.90434980e+00 -1.17081718e+01  3.12534499e+00\n",
      " -1.05095940e+01 -2.42875767e+00 -9.54592991e+00 -4.44188023e+00\n",
      " -1.63666487e+00 -1.25142012e+01 -3.39015341e+00 -2.20998917e+01\n",
      " -1.53729982e+01 -1.57751024e+00 -1.63279295e+00 -2.50390244e+00\n",
      " -2.76751494e+00 -2.96329021e+00 -2.30621353e-01  1.62333357e+00\n",
      " -7.14213312e-01 -3.14731445e+01 -4.32351160e+00 -9.32972717e+00\n",
      " -8.14776516e+00  1.23173440e+00  1.49743128e+00 -6.37338448e+00\n",
      " -1.63015628e+00  2.15747905e+00 -3.67054880e-01 -8.69877243e+00\n",
      "  2.26070786e+00  6.98541451e+00 -5.78374863e-01 -7.70846748e+00\n",
      " -9.55841243e-01 -1.47248192e+01 -1.27966843e+01 -3.23832607e+00\n",
      " -2.29052854e+00 -2.33255243e+00 -3.06916118e+00 -6.59683132e+00\n",
      " -1.54374933e+01 -9.19905281e+00 -2.13831925e+00  2.87205052e+00\n",
      " -8.58351135e+00 -2.30019512e+01 -1.24231905e-01 -3.20675302e+00\n",
      " -4.36767769e+00  2.97090411e+00  8.17637920e+00  2.25249723e-01\n",
      "  4.90659297e-01  1.93830585e+00  2.30797029e+00 -1.41644564e+01\n",
      " -7.95861292e+00 -1.74423981e+01 -4.61165524e+00 -4.28022814e+00\n",
      "  1.45893073e+00 -1.02683716e+01  1.81361496e+00 -1.68580651e+00\n",
      " -2.47872181e+01 -2.63220997e+01 -1.58569107e+01 -4.72835779e+00\n",
      " -3.52700186e+00 -4.51001358e+00  1.12660699e-01 -9.10435390e+00\n",
      " -8.05490971e+00 -5.29297292e-01 -1.91057336e+00  3.20456219e+00\n",
      " -1.57777538e+01 -1.83711505e+00  3.76338506e+00 -5.01986742e+00\n",
      "  7.92170811e+00 -6.19686699e+00  5.55614424e+00 -7.06259584e+00\n",
      " -1.64529419e+01 -1.61388149e+01 -3.80888295e+00  6.82963753e+00\n",
      " -1.02248573e+01 -3.43998647e+00 -5.63008010e-01  2.34323382e+00\n",
      " -1.51992493e+01  1.07761383e+00 -1.69156666e+01 -1.71958351e+00\n",
      " -4.79640102e+00 -4.98173714e+00 -2.80714560e+00 -6.41560495e-01\n",
      " -1.50281162e+01 -4.59322691e-01  3.20004106e+00  3.97976685e+00\n",
      " -1.02300377e+01  1.21956301e+00 -1.58486199e+00 -6.02064657e+00\n",
      " -3.93535614e+00 -4.48242855e+00 -3.25456905e+00  5.67513037e+00\n",
      " -2.08583012e+01 -3.66592789e+01 -2.63371897e+00 -5.17295504e+00\n",
      " -5.45712757e+00  2.80597997e+00 -1.22807169e+01 -2.78937397e+01\n",
      " -6.34226465e+00  4.84738111e+00  2.21559882e+00 -3.40831642e+01\n",
      " -3.81270905e+01  1.21556222e+00 -3.88051605e+00 -2.48456249e+01\n",
      "  7.61864614e+00 -2.37112598e+01 -3.06904364e+00 -3.85296613e-01\n",
      " -9.40292263e+00 -2.91335182e+01 -8.72780919e-01 -1.67279873e+01\n",
      " -1.90812054e+01 -6.19272375e+00 -3.14778709e+00  4.67552900e+00\n",
      " -4.02354851e+01  9.48878706e-01 -6.23483944e+00 -1.20997324e+01\n",
      "  7.19170952e+00  1.14262950e+00  6.44562197e+00 -1.04948397e+01\n",
      " -3.64203525e+00 -1.74342384e+01 -7.91140079e+00 -7.85149717e+00\n",
      " -3.28945804e+00  2.58120728e+00  5.14990473e+00 -2.95702820e+01\n",
      " -1.17400188e+01 -2.27473831e+00  1.27648525e+01 -3.24756737e+01\n",
      " -4.40108109e+00 -8.88519478e+00 -2.75019693e+00  4.26211691e+00\n",
      " -2.84311008e+00 -3.32991433e+00  6.67793036e+00  2.81343293e+00\n",
      " -1.36817951e+01 -9.17373562e+00 -3.48966179e+01 -5.84263134e+00\n",
      " -2.33562317e+01 -2.88085289e+01 -9.02749348e+00 -1.57235765e+01\n",
      " -1.31366692e+01 -4.09996319e+00 -3.75020332e+01 -3.09734688e+01\n",
      " -1.36760626e+01 -5.28201675e+00 -6.67710781e+00 -3.38914032e+01\n",
      " -8.30976486e+00  8.98990822e+00 -1.11835508e+01 -2.89359546e+00\n",
      " -8.10098076e+00 -1.18801632e+01 -8.59088707e+00 -2.59809570e+01\n",
      " -2.85977268e+01  3.62153769e+00 -4.85690165e+00 -8.35307884e+00\n",
      " -2.39348583e+01 -3.16091084e+00 -2.82708778e+01  1.11421900e+01\n",
      " -1.71046352e+00  8.25588036e+00  3.22128630e+00 -2.59483929e+01\n",
      " -4.58535290e+00 -3.05117512e+01 -1.47094717e+01 -9.81812191e+00\n",
      "  3.36392462e-01  5.27982330e+00 -2.60794907e+01  5.97459078e+00\n",
      " -1.28759747e+01 -2.45380545e+00 -3.47754745e+01 -1.23071156e+01\n",
      "  1.72246723e+01  6.05354357e+00 -1.35777483e+01 -1.44371367e+01\n",
      " -5.33697748e+00  7.83618164e+00]' has dtype incompatible with int64, please explicitly cast to a compatible dtype first.\n",
      "  preds[val_index] = model.predict(dval_i)\n"
     ]
    },
    {
     "name": "stderr",
     "output_type": "stream",
     "text": [
      "\r",
      " 10%|██████████████████████▏                                                                                                                                                                                                       | 1/10 [00:36<05:31, 36.80s/it]"
     ]
    },
    {
     "name": "stderr",
     "output_type": "stream",
     "text": [
      "C:\\Users\\81809\\AppData\\Local\\Temp\\ipykernel_11780\\3386215446.py:18: FutureWarning: Setting an item of incompatible dtype is deprecated and will raise an error in a future version of pandas. Value '[-7.86449003e+00  1.68205857e+00  1.61391563e+01 -3.80241066e-01\n",
      "  7.10836744e+00  5.16572380e+00  2.16552944e+01 -1.92906916e+00\n",
      "  1.29719162e+01  6.64839268e+00 -3.23549080e+00 -5.84024906e+00\n",
      "  5.89901924e+00  8.72671890e+00 -3.02152824e+00  2.39205189e+01\n",
      "  8.67043614e-01  2.72472382e+00  1.11147537e+01  8.91676617e+00\n",
      "  8.18134689e+00  4.63821745e+00  7.23731089e+00  4.30046463e+00\n",
      " -6.61372328e+00  2.28021026e+00  8.11664295e+00 -1.81568611e+00\n",
      "  2.55624657e+01  1.63400269e+01  1.30044718e+01  4.16961145e+00\n",
      "  6.72639132e+00 -2.89523649e+00  5.82220650e+00  6.13401031e+00\n",
      " -4.19901705e+00  9.05740261e-03  8.46239948e+00  2.22914104e+01\n",
      "  1.18298216e+01  1.11496954e+01  1.78292351e+01  8.36360455e+00\n",
      "  1.67070160e+01  6.83369780e+00  7.16464472e+00  5.58575964e+00\n",
      " -7.02995718e-01  6.41274214e+00  9.53605592e-01 -9.42354560e-01\n",
      "  2.68587041e+00  6.15334272e+00  8.14579010e+00  2.59300098e+01\n",
      "  6.84820843e+00 -8.15057099e-01  1.00348454e+01  9.89330196e+00\n",
      "  6.27098989e+00  7.11526442e+00 -1.88469768e+00 -3.76983595e+00\n",
      " -1.48702896e+00  3.17042494e+00 -1.31064856e+00  1.81733394e+00\n",
      "  1.87035313e+01  1.23183784e+01  4.14887577e-01  2.94337654e+01\n",
      "  1.36061277e+01  3.75937414e+00  1.96564560e+01 -8.32943439e+00\n",
      "  6.18254662e+00  5.84055996e+00  2.86857057e+00  3.81944895e+00\n",
      "  5.45184314e-01 -6.48081303e-01  1.78677788e+01  8.35774803e+00\n",
      " -2.66006565e+00 -1.12874088e+01  4.17231655e+00  8.00167465e+00\n",
      "  2.53299165e+00  1.20634007e+00  3.14211726e+00 -4.82005692e+00\n",
      " -3.33297420e+00  1.87122250e+01 -2.80999899e+00 -2.73429990e+00\n",
      " -2.66241813e+00  1.34431429e+01  1.08537493e+01  1.57918844e+01\n",
      "  4.04540825e+00 -5.71590233e+00  1.24166584e+01  8.11389923e+00\n",
      "  1.21617727e+01  2.30581975e+00  1.02342882e+01 -1.27057278e+00\n",
      "  1.79862633e+01 -2.07309222e+00  2.17213669e+01 -2.19688177e+00\n",
      "  1.24949741e+00  1.50392303e+01  1.93687363e+01 -2.74341106e+00\n",
      "  1.96149302e+00 -3.01001811e+00 -8.85812092e+00 -6.31347561e+00\n",
      "  2.19175196e+00  7.24290431e-01  5.52355587e-01 -1.93470132e+00\n",
      " -2.74318194e+00  5.11583149e-01 -5.60739517e+00  6.37686491e+00\n",
      "  2.41659093e+00  3.04088497e+01  7.44228506e+00  2.69918461e+01\n",
      "  4.80966902e+00 -1.04207659e+00  9.93713093e+00 -7.82861328e+00\n",
      " -5.65437174e+00  6.22171223e-01 -6.71945620e+00 -3.40214431e-01\n",
      "  6.64928627e+00 -1.31122315e+00  2.29780884e+01  1.64313793e+01\n",
      "  3.62719631e+00  6.15341783e-01 -5.12892425e-01  6.10639393e-01\n",
      " -3.48766968e-02  4.29887831e-01 -2.87901068e+00 -3.53099793e-01\n",
      "  2.06670523e+00 -6.46632957e+00 -1.65490925e+00  2.97837543e+00\n",
      "  2.13258400e+01  9.41048861e-01  2.94071794e+00  6.62456894e+00\n",
      " -7.54395103e+00  2.77452278e+00 -1.28721750e+00 -4.98774767e+00\n",
      " -3.69176912e+00  4.86094475e-01  3.18929825e+01  1.39995968e+00\n",
      "  6.79611874e+00 -3.04112601e+00  3.83313537e-01  1.26792803e+01\n",
      "  2.02780380e+01  9.80209541e+00  4.54580736e+00 -7.04052508e-01\n",
      "  1.15284529e+01 -5.63787270e+00 -1.91456070e+01 -5.12561274e+00\n",
      "  5.00096703e+00  7.54404449e+00 -2.64745235e+00  7.61961555e+00\n",
      "  2.07886620e+01  9.83479500e+00  9.59337711e-01  2.41473484e+01\n",
      " -1.22733057e+00  9.16314125e+00  2.47590122e+01 -2.29274631e+00\n",
      " -1.11861467e+00  3.67488647e+00  2.26652980e+00  5.02352428e+00\n",
      " -5.31227303e+00  2.35788441e+00 -7.31909704e+00  1.09669626e+00\n",
      "  3.71946335e+00 -2.43895221e+00  2.16514282e+01 -8.37703705e-01\n",
      "  1.58444042e+01  1.62080765e+01  1.81834984e+01 -3.08112478e+00\n",
      "  2.05183315e+01  2.22197556e+00 -9.38587284e+00 -1.06192141e+01\n",
      "  1.10886908e+01  2.13023400e+00 -5.26856124e-01 -3.28042269e+00\n",
      "  6.04628229e+00  4.85998964e+00  4.77447748e+00  2.00282726e+01\n",
      " -2.77200198e+00  1.94507599e+00  5.98603058e+00  2.09072399e+01\n",
      " -2.61709261e+00  1.12865889e+00  1.94886246e+01  2.77239151e+01\n",
      " -8.05004883e+00 -4.05737829e+00  7.85695314e+00  2.83737354e+01\n",
      "  3.79325333e+01 -1.58035266e+00  4.93676567e+00  2.20689125e+01\n",
      "  7.25614214e+00  2.19360771e+01 -6.96413517e+00 -6.26331186e+00\n",
      "  6.50741291e+00  9.49249458e+00  6.91222334e+00 -7.85991287e+00\n",
      "  2.25860519e+01  1.60780177e-01 -5.61705017e+00  1.15166225e+01\n",
      "  1.01246428e+00  1.72086787e+00  1.23889008e+01 -1.21254930e+01\n",
      "  1.53501530e+01  2.00515461e+01  3.75935048e-01  7.69458628e+00\n",
      "  1.04115744e+01  9.91734314e+00  3.31370010e+01  2.16824627e+01\n",
      "  5.37311125e+00 -8.48284435e+00  3.35148010e+01  1.48055544e+01\n",
      "  3.90552306e+00  6.80458736e+00  2.14069099e+01  4.48514709e+01\n",
      "  2.13373547e+01 -7.21370459e+00  3.22029305e+01  1.19941454e+01\n",
      "  3.58627930e+01  1.19371691e+01  1.77449143e+00  4.64457369e+00\n",
      "  1.24919376e+01  8.27607250e+00  3.91547203e+00  2.53628330e+01\n",
      "  2.84806690e+01  8.20921707e+00  8.14509487e+00  3.36103487e+00\n",
      "  2.72647915e+01 -4.09407282e+00  1.15686913e+01  2.58450108e+01\n",
      " -1.36936438e+00  1.81008124e+00  1.00351536e+00  1.34661922e+01\n",
      "  3.07816887e+01  2.93108630e+00  1.77364655e+01  8.69147968e+00\n",
      "  2.66263390e+01 -1.69864345e+00 -6.59287882e+00  3.56977224e+00\n",
      "  6.61085415e+00  1.12855377e+01  2.41837239e+00  4.79093409e+00\n",
      " -1.18745127e+01  1.97454107e+00 -2.13108373e+00 -6.24704266e+00\n",
      " -1.87537944e+00  2.63995028e+00 -5.69331348e-01  3.83572617e+01\n",
      "  2.49784374e+01  6.72356081e+00  5.09672022e+00 -5.48678064e+00\n",
      "  7.44273520e+00  2.17662373e+01 -4.85087156e+00  1.84687767e+01\n",
      "  1.03536713e+00 -1.16401682e+01 -1.31595621e+01  2.75403690e+01\n",
      "  5.14288378e+00  5.76105976e+00  1.27214146e+01 -9.80448914e+00\n",
      "  5.08531761e+00 -1.64407387e+01 -2.32700214e+01  3.05345464e+00\n",
      " -7.45825171e-01  4.38766629e-01 -8.69303417e+00  3.90517831e+00\n",
      " -7.22788191e+00  4.58997583e+00 -7.25969124e+00 -5.50428009e+00\n",
      "  2.35295951e-01  8.61387157e+00  1.37625968e+00  2.49089622e+00\n",
      " -2.20813255e+01 -2.66391087e+01 -2.14067860e+01 -6.02887106e+00\n",
      " -1.47940624e+00 -8.26192439e-01 -7.97674608e+00 -3.61109376e+00\n",
      " -2.16320848e+00 -2.86484790e+00 -1.71072531e+00  5.56003571e-01\n",
      "  5.41685867e+00 -6.70107460e+00  6.48889780e-01 -9.51610470e+00\n",
      " -7.93585587e+00 -1.91801472e+01 -1.38858986e+01  1.81371963e+00\n",
      "  3.59016752e+00  8.32042503e+00 -1.52763729e+01  3.30437922e+00\n",
      "  7.77464342e+00 -1.10385346e+00 -2.19892454e+00  1.16114902e+00\n",
      "  7.10191441e+00 -6.01402283e+00  7.70712674e-01 -8.07372284e+00\n",
      " -1.25572121e+00 -2.23111115e+01 -5.37862349e+00  1.88059926e+00\n",
      "  4.98369503e+00  3.05181742e+00 -8.47867203e+00 -8.36939907e+00\n",
      "  2.01596498e+00  3.09126806e+00  2.77375430e-01 -6.31238079e+00\n",
      " -1.34016047e+01 -5.14332724e+00 -8.68712807e+00  2.31647301e+00\n",
      " -8.05780125e+00 -6.52510309e+00 -6.27211285e+00 -2.96386695e+00\n",
      "  1.09863031e+00 -1.29250069e+01 -2.93722553e+01  1.54374480e+00\n",
      " -3.22604847e+00 -2.44549923e+01 -3.29945970e+00 -3.87120628e+00\n",
      " -1.31152010e+01  5.29473662e-01 -2.50953789e+01 -2.15257378e+01\n",
      "  1.04951374e-01 -1.25306702e+00  6.48994744e-01  2.52349973e+00\n",
      " -7.02019024e+00  1.48206453e+01 -2.94421654e+01  3.85568070e+00\n",
      " -1.63617783e+01 -3.37285542e+00 -2.01750326e+00  4.25130224e+00\n",
      " -1.16449022e+01 -4.11658716e+00  1.98044086e+00 -1.82549506e-01\n",
      " -7.48417318e-01  2.16875076e+00 -3.20369339e+00 -2.10013795e+00\n",
      "  6.76705790e+00 -3.95866966e+00  9.98159695e+00  5.88560104e+00\n",
      "  4.19630718e+00  1.46019144e+01  3.81428003e-01  3.22611403e+00\n",
      "  1.07133186e+00 -3.11261654e+01 -7.51973104e+00 -6.79479456e+00\n",
      "  2.25084138e+00  2.98935461e+00 -3.45887446e+00 -1.44941196e-01\n",
      " -5.58343029e+00 -9.89135551e+00 -5.62648773e-02  2.66233802e+00\n",
      " -3.88386297e+00 -1.26510553e+01 -3.32379508e+00 -3.30345869e+00\n",
      " -7.17081928e+00 -1.72253971e+01 -3.33024859e+00  7.01223087e+00\n",
      " -1.27515078e+00  1.91314483e+00 -9.98854065e+00  5.31056404e+00\n",
      "  6.33405161e+00  5.10715008e-01 -8.09324360e+00  3.49603486e+00\n",
      " -2.28916798e+01 -5.09134293e+00 -4.73902130e+00 -2.36674957e+01\n",
      " -1.10346432e+01 -1.80462408e+00 -2.66269660e+00  2.24156067e-01\n",
      "  3.27305722e+00 -2.20935860e+01 -2.28045368e+01 -4.37250376e+00\n",
      " -6.92090273e+00 -3.56500983e+00 -2.44103098e+00 -4.32146931e+00\n",
      " -3.12972784e+00  4.44214010e+00  1.01965797e+00 -2.33498077e+01\n",
      "  3.35478306e+00 -8.23794901e-01 -3.86435318e+00  2.11032242e-01\n",
      " -6.03652477e-01 -2.04940758e+01 -2.03346691e+01 -4.61136198e+00\n",
      " -8.61167252e-01 -1.24795761e+01 -3.80150104e+00  2.98380327e+00\n",
      " -1.23283851e+00  1.75407588e+00 -1.28455490e-01 -5.19638205e+00\n",
      " -1.06652772e+00 -4.84190893e+00 -2.34670305e+00 -4.07560396e+00\n",
      " -3.77805185e+00 -2.72520137e+00 -2.11078711e-02 -1.75800848e+00\n",
      "  3.33075809e+00  5.02435398e+00 -8.58588696e+00 -3.33532119e+00\n",
      " -2.21669044e+01 -5.73443604e+00 -1.63458176e+01 -2.08675232e+01\n",
      "  5.50886059e+00  7.49334669e+00 -8.13033009e+00 -6.43167639e+00\n",
      "  4.38469982e+00 -1.06702642e+01 -2.23148799e+00 -2.53161639e-01\n",
      " -1.54211292e+01 -5.07862663e+00  2.78476763e+00 -9.96677780e+00\n",
      " -2.25360374e+01  4.31854534e+00  2.45463657e+00  1.14048994e+00\n",
      "  1.21155357e+00 -5.73921967e+00 -2.96739960e+00 -2.89411354e+01\n",
      " -4.39551163e+01 -2.81105480e+01 -2.45268764e+01 -2.16016245e+00\n",
      " -7.42900658e+00 -1.84373627e+01 -2.38975310e+00 -8.89104486e-01\n",
      " -1.94062958e+01 -4.24407148e+00 -1.65837975e+01 -2.65164471e+01\n",
      " -1.87410533e+00 -3.31802392e+00 -1.46337671e+01 -2.80224419e+01\n",
      "  4.65666533e+00 -6.55022717e+00  6.51279449e+00 -1.10554466e+01\n",
      " -1.87224178e+01 -3.08931694e+01 -9.88507271e+00 -1.93495715e+00\n",
      " -1.30207214e+01 -8.57720554e-01 -7.19138718e+00  4.48870039e+00\n",
      " -7.34620762e+00 -3.10139713e+01 -1.11871672e+01 -1.50823011e+01\n",
      " -3.39652481e+01 -5.26722002e+00  2.71480846e+00 -2.20940418e+01\n",
      " -1.46401987e+01 -9.74958038e+00 -4.38510847e+00 -8.35643673e+00\n",
      "  7.45103073e+00 -1.62881124e+00  1.40746784e+00 -3.19993458e+01\n",
      " -2.83598156e+01 -4.16742249e+01  3.69298863e+00 -9.85282362e-01\n",
      " -1.41319752e+01 -8.29288423e-01 -9.28899479e+00 -1.47162638e+01\n",
      " -3.22952914e+00 -1.04048176e+01 -5.82144833e+00 -1.57894945e+00\n",
      " -4.03369808e+00 -1.08694735e+01 -2.10309830e+01  4.45404625e+00\n",
      " -3.37167892e+01 -8.74048519e+00  1.07578087e+01 -3.09229984e+01\n",
      "  5.59291363e+00 -1.63034534e+01 -8.03809452e+00 -3.22585106e+01\n",
      " -2.61973972e+01 -5.37094879e+00  2.30087376e+00 -1.34073544e+01\n",
      "  4.05167675e+00 -2.70136428e+00 -1.38016644e+01 -4.11174107e+00\n",
      " -5.35950780e-01  2.14220095e+00 -1.80776997e+01 -7.84205580e+00\n",
      " -2.17772713e+01  2.28107810e-01 -1.06237793e+01 -4.58226347e+00\n",
      " -5.72391891e+00  2.15227485e+00 -1.23923407e+01 -1.67245731e+01\n",
      " -1.54497468e+00 -1.71321049e+01 -5.80196333e+00 -2.36359882e+00\n",
      " -7.88725042e+00 -2.59261284e+01 -6.84422970e+00  2.26635208e+01\n",
      "  1.44652176e+01 -6.57541180e+00 -3.71588516e+01 -1.02112665e+01\n",
      " -2.40540886e+01 -5.76453543e+00 -2.45653706e+01  4.73355961e+00\n",
      " -1.83773518e+01 -9.28360271e+00 -1.13153782e+01 -1.16180325e+01\n",
      " -1.04983950e+01 -3.97611046e+00]' has dtype incompatible with int64, please explicitly cast to a compatible dtype first.\n",
      "  preds[val_index] = model.predict(dval_i)\n"
     ]
    },
    {
     "name": "stderr",
     "output_type": "stream",
     "text": [
      "\r",
      " 20%|████████████████████████████████████████████▍                                                                                                                                                                                 | 2/10 [01:08<04:30, 33.80s/it]"
     ]
    },
    {
     "name": "stderr",
     "output_type": "stream",
     "text": [
      "C:\\Users\\81809\\AppData\\Local\\Temp\\ipykernel_11780\\3386215446.py:18: FutureWarning: Setting an item of incompatible dtype is deprecated and will raise an error in a future version of pandas. Value '[ 9.45518911e-01 -5.34551954e+00 -6.83501863e+00 -1.79169983e-01\n",
      "  8.35612011e+00 -9.23072219e-01  5.70324898e+00  7.97543001e+00\n",
      "  3.03013062e+00 -1.39656043e+00 -3.70069289e+00  2.67372189e+01\n",
      "  2.15815830e+01 -6.21023536e-01  2.37125130e+01  2.56419678e+01\n",
      "  4.90334415e+00  9.75879574e+00  6.14721394e+00 -9.64048100e+00\n",
      "  4.93669701e+00  6.53006458e+00  9.41224575e+00  7.46227503e+00\n",
      "  2.57516217e+00  4.30988598e+00  9.06095505e+00  1.87127697e+00\n",
      " -5.64229679e+00 -4.99244404e+00 -6.65017903e-01  9.59408951e+00\n",
      "  1.05055456e+01  2.61521459e+00  2.52281094e+01 -1.64903450e+00\n",
      "  3.60381389e+00  2.92156143e+01  2.82969856e+00  6.18045235e+00\n",
      "  4.57671928e+00 -7.79158545e+00  6.01161003e+00 -7.42857933e-01\n",
      "  2.43300962e+00  6.67518568e+00 -4.60468721e+00 -6.49759007e+00\n",
      "  7.19277859e+00 -9.99841595e+00  5.15803194e+00  6.38992119e+00\n",
      "  6.44923925e+00 -1.89121175e+00  8.48591328e+00  1.78275242e-01\n",
      "  4.63655949e+00  1.77770443e+01  6.17340088e+00 -7.54162312e-01\n",
      "  2.21975842e+01 -3.75015497e+00  1.87544644e+00  2.66545181e+01\n",
      "  6.77700901e+00  7.39180565e+00  6.66546535e+00  1.79171193e+00\n",
      "  2.56670666e+00  3.03304529e+00 -1.08616400e+00  2.40259094e+01\n",
      "  7.78463650e+00 -1.58466563e-01  5.26741266e+00  1.49293547e+01\n",
      "  2.95847774e+00  1.75708294e+01 -7.01385832e+00  1.99622083e+00\n",
      "  5.66223955e+00  6.42593670e+00 -3.48817539e+00 -1.85829505e-01\n",
      "  1.52484961e+01 -4.93043184e+00  2.72615337e+01  5.70560526e-03\n",
      " -7.26608217e-01  1.46810455e+01  5.23096657e+00  2.33392067e+01\n",
      "  6.71259403e-01 -6.38653088e+00  1.06594887e+01  9.41499996e+00\n",
      "  3.82142568e+00 -2.72449303e+00  1.91142368e+00  4.28110218e+00\n",
      "  1.61099863e+00  1.98807526e+01 -3.42306972e+00  8.37155628e+00\n",
      "  1.97757301e+01  8.99927616e-01  2.38344193e+01  5.66137171e+00\n",
      "  4.82210064e+00 -3.48469830e+00  9.51960564e+00 -5.17000055e+00\n",
      " -1.07334089e+00  7.85492778e-01 -9.96924520e-01 -6.87199593e+00\n",
      "  3.95437807e-01  5.52233124e+00 -3.56871575e-01  6.87181473e+00\n",
      "  2.50079575e+01  3.38092160e+00  1.11597834e+01 -1.83343613e+00\n",
      "  1.69732296e+00 -5.80536461e+00 -2.28426099e+00  2.22481418e+00\n",
      "  3.04994106e-01  5.94078898e-01 -1.51109982e+01  1.10667572e+01\n",
      "  1.09933777e+01  2.19612350e+01 -4.84143782e+00  4.85707223e-02\n",
      "  7.08894491e+00 -6.03658819e+00  7.26293921e-01 -3.07453799e+00\n",
      "  9.15035725e-01  1.63397102e+01  1.17184010e+01  2.06364608e+00\n",
      "  1.77376473e+00 -9.07747090e-01  3.82605410e+00 -7.01574469e+00\n",
      "  3.51947045e+00  1.42726355e+01 -1.97283208e+00  1.35156226e+00\n",
      " -1.82418275e+00  2.37607327e+01  2.45924568e+00  1.66863739e+00\n",
      "  3.06121941e+01  4.39863110e+00  4.72534609e+00  8.44090176e+00\n",
      "  2.14743328e+00  9.03517914e+00 -2.28210521e+00  3.02675676e+00\n",
      "  5.54486990e+00  5.74253416e+00  1.16619263e+01  2.55938053e+01\n",
      "  5.18286467e+00  6.17922688e+00 -3.54559469e+00  7.46471548e+00\n",
      "  2.48095107e+00  4.46923590e+00  2.69030547e+00  2.27194977e+01\n",
      "  2.18303233e-01  4.72637177e+00 -8.40810204e+00  3.75374246e+00\n",
      " -5.53675222e+00 -9.30151284e-01 -9.62886810e+00  7.48916388e+00\n",
      "  8.30316544e+00  3.71130300e+00 -2.40591955e+00  2.01615214e+00\n",
      " -6.86576962e-01 -5.01911783e+00  2.63965368e+00  3.10724697e+01\n",
      "  3.03894558e+01  4.46207275e+01  2.89899750e+01  1.83857422e+01\n",
      " -2.03292632e+00  2.94180202e+00  2.61135310e-01  1.30573540e+01\n",
      "  9.93217468e+00 -1.17906542e+01  6.42042685e+00  2.33082032e+00\n",
      "  7.92273188e+00  2.89649620e+01  1.67392659e+00  3.93544731e+01\n",
      "  7.75691032e+00 -1.23747454e+01  1.74432907e+01  1.06772461e+01\n",
      "  1.54094276e+01  1.66475010e+01  2.72833385e+01  1.70520134e+01\n",
      "  4.99462938e+00  3.99604177e+00  3.64997215e+01 -4.34894276e+00\n",
      "  1.17353687e+01  1.04176464e+01  2.53162670e+01  1.55155678e+01\n",
      "  1.86342602e+01  1.22992849e+01  2.95014286e+00 -4.74612331e+00\n",
      "  2.14741669e+01 -5.93286514e+00 -1.03742886e+00  2.85652275e+01\n",
      " -1.55502605e+00  1.20372133e+01 -2.19099447e-01  9.75063324e+00\n",
      " -7.55230808e+00  2.68496552e+01  9.51378822e+00 -2.33830185e+01\n",
      "  3.15916328e+01  1.52796221e+01 -2.18940973e+00 -5.70328569e+00\n",
      "  4.21668243e+00  2.44344878e+00  1.49723072e+01  1.35254116e+01\n",
      "  2.67417026e+00  6.58176517e+00  4.43407631e+00  9.21018410e+00\n",
      "  3.85376053e+01  7.72800016e+00 -3.06686568e+00 -1.84139824e+00\n",
      "  9.60409737e+00  1.21014395e+01  2.62145543e+00  2.42588673e+01\n",
      "  2.98518047e+01 -6.84675407e+00  8.29872417e+00  8.27163982e+00\n",
      "  2.98579025e+01 -7.84741211e+00  3.82999778e+00  2.36035991e+00\n",
      "  1.23634071e+01  1.72712767e+00 -7.36434698e+00 -2.96555638e+00\n",
      "  3.67461586e+01  3.11398354e+01  1.43916998e+01  3.13246107e+00\n",
      " -1.41129279e+00  9.62861443e+00  1.92374687e+01  3.11564655e+01\n",
      " -4.80268574e+00 -9.99477100e+00 -9.12158108e+00  2.89481258e+01\n",
      " -8.46886063e+00  6.79784203e+00  2.28727150e+01  8.61196804e+00\n",
      "  2.70180454e+01  2.90536900e+01  7.55111265e+00  4.66152549e-01\n",
      " -2.43377590e+01  3.92290592e+00 -9.51262176e-01  5.00380039e+00\n",
      "  1.62160053e+01 -4.54681301e+00  3.81417160e+01  7.85306072e+00\n",
      "  2.18159904e+01  2.58485851e+01  1.24118338e+01  1.53978786e+01\n",
      " -1.47442982e-01  1.01063089e+01 -7.63356149e-01 -4.04723406e+00\n",
      "  2.53289676e+00 -9.71958923e+00 -2.26066055e+01 -6.67596817e+00\n",
      " -1.72188091e+01 -1.73262424e+01 -7.98749208e+00  4.63469410e+00\n",
      "  5.11084890e+00 -6.21853781e+00 -8.51625824e+00  3.06491160e+00\n",
      " -6.61414337e+00 -4.36801529e+00 -6.24443007e+00 -1.01598740e+00\n",
      " -5.02819252e+00 -2.08215485e+01  1.12436657e+01 -3.64280248e+00\n",
      " -3.60415292e+00 -7.32429934e+00 -1.68431342e-01 -8.48819256e+00\n",
      " -7.38655853e+00 -7.53288555e+00 -2.41970372e+00 -3.34392637e-01\n",
      " -4.83208227e+00 -1.57418480e+01  1.58748353e+00 -1.90577488e+01\n",
      "  1.26590433e+01 -8.22122002e+00 -1.17520065e+01 -3.47408032e+00\n",
      " -1.61376572e+01 -6.20169544e+00  8.28244209e+00 -5.00854063e+00\n",
      "  3.65510392e+00 -7.16817999e+00 -2.82820129e+00 -8.29316330e+00\n",
      " -8.86904716e+00 -2.52775741e+00 -2.47480941e+00  6.99645662e+00\n",
      "  2.73916340e+00 -1.50235043e+01 -7.67304945e+00  1.89317918e+00\n",
      " -1.03303690e+01 -1.41014919e+01 -2.80438948e+00 -4.91416264e+00\n",
      "  4.21981716e+00 -1.39506185e+00 -2.03028059e+00 -3.44236851e+00\n",
      " -2.64694920e+01 -1.08762808e+01  3.88424397e+00  5.57465613e-01\n",
      " -1.42371454e+01  8.23832810e-01  1.81053555e+00 -3.85483956e+00\n",
      "  2.66039300e+00 -1.56693006e+00 -8.12341309e+00 -4.46702290e+00\n",
      " -5.38079679e-01 -1.70249729e+01 -2.42975903e+00  3.81100118e-01\n",
      " -4.01513004e+00 -1.76326427e+01 -5.63975096e+00 -1.62970698e+00\n",
      " -1.16613007e+01 -5.00849485e+00  4.85862464e-01  9.86792624e-01\n",
      " -2.33098297e+01 -2.44580531e+00  3.05728412e+00  5.72942591e+00\n",
      " -2.78012443e+00 -2.11405716e+01  4.79864502e+00 -6.74718142e+00\n",
      " -1.15910149e+01 -4.49202681e+00 -1.10445366e+01  8.43926251e-01\n",
      "  2.71722198e+00  4.43285942e+00 -1.25509784e-01 -3.45253062e+00\n",
      "  2.14757466e+00 -7.68660605e-01  3.09373498e+00  2.68385196e+00\n",
      " -1.55791359e+01 -9.75399685e+00 -5.53420687e+00  7.47507477e+00\n",
      "  1.17051530e+00 -1.45359898e+00 -2.40809178e+00 -1.24376516e+01\n",
      "  1.58757567e+00 -2.29350224e+01  4.13456488e+00 -6.22475338e+00\n",
      " -2.08105421e+00 -2.75208426e+00  2.98021364e+00  8.44181728e+00\n",
      "  6.60782680e-02 -6.59525347e+00 -1.36414361e+00  1.66009026e+01\n",
      " -1.02793381e-01 -2.96597385e+01 -8.11042404e+00 -8.15193558e+00\n",
      "  1.54025006e+00 -1.83027020e+01  9.33420849e+00 -1.14497173e+00\n",
      " -1.23306313e+01 -1.00250168e+01 -2.94249606e+00 -2.58884883e+00\n",
      " -2.20355721e+01  1.60458393e+01 -3.37817621e+00  1.87075472e+00\n",
      " -1.29637747e+01  1.16727371e+01  3.60013485e+00 -1.55807657e+01\n",
      "  6.73249543e-01 -1.13313684e+01 -6.19744062e+00 -5.30627489e+00\n",
      "  2.49890304e+00 -2.85275984e+00 -2.14299316e+01 -4.94153738e+00\n",
      " -2.13564529e+01 -5.11532021e+00 -4.79610872e+00 -4.53521824e+00\n",
      " -8.87707233e-01  2.96278119e+00  1.96169287e-01 -8.29111862e+00\n",
      " -5.33818245e-01 -4.37499952e+00 -9.40458870e+00 -3.15993214e+00\n",
      "  1.41885924e+00 -8.93405914e+00 -3.49152714e-01 -4.95718002e+00\n",
      " -3.74608779e+00 -7.36829042e-01  9.08136904e-01  3.08960772e+00\n",
      "  6.27960041e-02 -2.28118820e+01 -7.10508442e+00  5.64359760e+00\n",
      "  4.02762461e+00 -2.55645704e+00 -1.71724129e+01 -2.12251949e+00\n",
      " -4.53899050e+00 -7.29464626e+00  2.29106188e+00 -5.56862168e-02\n",
      " -1.99791946e+01 -6.97436619e+00 -2.38684750e+00 -1.35487795e+01\n",
      " -2.14739704e+01 -2.48772926e+01 -1.91509895e+01  1.80737317e+00\n",
      " -4.09695148e+00  4.83666754e+00 -4.94095850e+00 -2.35228086e+00\n",
      "  7.88547659e+00  1.79809594e+00  9.66259480e-01 -2.92881417e+00\n",
      " -2.18732433e+01 -8.46075344e+00  2.59422374e+00  5.53928137e-01\n",
      " -1.88096583e+00 -3.49019170e+00  3.12871599e+00 -3.29973817e-01\n",
      "  2.17013693e+00  7.60720348e+00  2.72034717e+00 -8.64015675e+00\n",
      " -3.27955222e+00  3.09882939e-01 -1.19702797e+01 -2.70483036e+01\n",
      " -1.29301386e+01  5.63861036e+00 -1.43559933e+00  3.04269284e-01\n",
      " -1.73064766e+01 -1.36707706e+01  1.94854891e+00 -2.64955654e+01\n",
      "  2.98400807e+00 -2.18229256e+01 -2.41138859e+01 -7.16454506e+00\n",
      " -3.64317627e+01 -1.42177792e+01 -3.44109344e+01 -2.05826054e+01\n",
      " -7.44541025e+00  2.75630808e+00  1.17430487e+01  6.73518801e+00\n",
      " -3.22828064e+01 -2.49681702e+01 -1.23940411e+01 -3.13425789e+01\n",
      "  1.62728348e+01 -7.11089611e+00 -2.37138195e+01 -6.58813763e+00\n",
      " -4.82292604e+00 -1.43706188e+01  4.43958759e+00 -1.16815033e+01\n",
      " -3.02138004e+01  3.25390726e-01 -3.41116786e+00 -2.01300259e+01\n",
      " -9.88980770e+00 -2.73029995e+01 -1.16008301e+01 -1.92780361e+01\n",
      "  1.48338060e+01 -1.56673899e+01 -3.21339951e+01 -7.90452909e+00\n",
      " -4.95326900e+00 -6.48746872e+00  6.67999887e+00 -2.44826484e+00\n",
      " -8.12953377e+00 -2.78370304e+01  2.07173601e-02 -1.20000114e+01\n",
      " -4.02015953e+01 -7.27155507e-01 -1.39323549e+01 -7.90009797e-01\n",
      "  3.34286451e+00 -1.80229683e+01  6.19247246e+00 -3.10788879e+01\n",
      "  6.29880238e+00 -2.61183047e+00 -1.31064215e+01 -4.76257324e+00\n",
      " -1.27295914e+01 -5.31530237e+00 -2.93566346e+00 -2.02797737e+01\n",
      " -9.78202915e+00 -3.47679543e+00  3.20459151e+00  9.35556602e+00\n",
      " -8.32410526e+00 -6.84642506e+00 -2.36521091e+01  2.79088855e+00\n",
      "  8.59945679e+00  2.37341380e+00 -6.66867542e+00 -6.79225683e+00\n",
      "  9.08102989e+00 -3.73665452e-01 -1.03483076e+01 -4.55582581e+01\n",
      "  3.91698146e+00 -3.00278416e+01  5.57905531e+00 -1.22964821e+01\n",
      " -2.88973675e+01 -2.63962460e+00 -1.02831697e+01  1.11917219e+01\n",
      " -1.39769230e+01 -1.88969479e+01 -8.56223202e+00 -2.33197880e+01\n",
      " -3.03347912e+01 -6.45245647e+00 -4.55785131e+00  2.04039598e+00\n",
      " -2.84698467e+01 -1.89204845e+01 -2.23365803e+01 -1.45189881e+00\n",
      " -6.61382675e+00 -3.01052165e+00 -1.04599066e+01 -7.62173557e+00\n",
      " -2.87641311e+00  7.23841095e+00 -2.88423367e+01  1.25163469e+01\n",
      " -7.81301594e+00 -5.77688503e+00  4.32110167e+00 -3.74611320e+01\n",
      " -5.15917158e+00 -2.36495934e+01 -4.36658293e-01  4.57643127e+00\n",
      " -1.55806675e+01 -4.55384445e+00]' has dtype incompatible with int64, please explicitly cast to a compatible dtype first.\n",
      "  preds[val_index] = model.predict(dval_i)\n"
     ]
    },
    {
     "name": "stderr",
     "output_type": "stream",
     "text": [
      "\r",
      " 30%|██████████████████████████████████████████████████████████████████▌                                                                                                                                                           | 3/10 [01:42<03:58, 34.11s/it]"
     ]
    },
    {
     "name": "stderr",
     "output_type": "stream",
     "text": [
      "C:\\Users\\81809\\AppData\\Local\\Temp\\ipykernel_11780\\3386215446.py:18: FutureWarning: Setting an item of incompatible dtype is deprecated and will raise an error in a future version of pandas. Value '[ 2.15777588e+00 -8.21831989e+00  5.14736938e+00  1.51212435e+01\n",
      "  2.15266476e+01  9.03916740e+00  4.60207176e+00 -2.17911458e+00\n",
      "  1.27413702e+00  1.27276713e-02 -2.58127236e+00 -2.38031793e+00\n",
      "  1.14144313e+00 -1.51633322e+00 -5.08173132e+00  2.03301849e+01\n",
      " -2.63088608e+00 -1.25270820e+00  2.18129253e+01  9.26821470e-01\n",
      "  6.35364437e+00  3.47784591e+00  4.64196920e-01  5.65618563e+00\n",
      " -4.15616894e+00  8.52385807e+00 -2.92290241e-01 -3.05414748e+00\n",
      "  2.51520109e+00  4.88669634e+00  2.39436656e-01  1.66947269e+01\n",
      "  3.78242445e+00  3.17166686e+00  3.85147840e-01  7.82616758e+00\n",
      " -1.19004434e-03  1.83065586e+01  2.47005486e+00 -6.98857450e+00\n",
      "  7.74934626e+00  1.86805189e-01  8.24616814e+00  4.11563683e+00\n",
      " -6.38025618e+00  6.02637529e+00  3.98842645e+00 -8.78236103e+00\n",
      " -1.89820111e+00 -1.95639515e+00  2.08100643e+01  4.03639048e-01\n",
      "  3.85215998e-01 -2.42813730e+00  7.09629726e+00  2.15401411e+00\n",
      " -2.78543425e+00 -9.65741813e-01  2.30863304e+01  1.31800089e+01\n",
      " -3.85224104e+00  2.06426114e-01  2.61085129e+01 -3.22535443e+00\n",
      "  3.60425925e+00 -7.15852618e-01  1.83056092e+00  1.43704283e+00\n",
      " -2.29540086e+00  8.06273744e-02  2.22566395e+01 -1.99751806e+00\n",
      "  7.71732092e+00  6.46273232e+00  9.31565523e-01 -2.27559376e+00\n",
      "  4.35352421e+00 -1.91858315e+00  2.29640174e+00 -8.61276340e+00\n",
      "  1.66542053e+01  3.56237793e+00  7.51712561e+00  1.11064854e+01\n",
      " -2.66094184e+00  3.87625766e+00  4.10111666e+00 -2.45614386e+00\n",
      "  2.56720867e+01  1.32595577e+01 -1.06245708e+01 -6.11317396e+00\n",
      "  1.79640007e+01 -2.35356236e+00 -2.11511660e+00  4.85983610e+00\n",
      " -4.19072121e-01  1.05646629e+01  4.79731321e+00 -2.78588653e+00\n",
      " -3.93516803e+00  3.88232732e+00  2.25120506e+01  1.57301130e+01\n",
      " -1.45379438e+01 -8.46210063e-01 -3.98260260e+00  1.12218151e+01\n",
      " -6.42331004e-01  4.70578051e+00  8.54575062e+00  7.09476280e+00\n",
      "  1.53206358e+01  5.24425554e+00  1.28762114e+00  2.19585800e+00\n",
      " -1.70353508e+00  1.51278296e+01  1.81626167e+01  4.99140739e+00\n",
      "  6.21929502e+00  8.97461700e+00 -2.27891803e+00  6.54582644e+00\n",
      " -6.31208944e+00  1.18993235e+00  1.11645737e+01 -6.76143122e+00\n",
      "  7.10469866e+00  7.75309420e+00  4.65335369e+00  9.20707130e+00\n",
      "  9.95096874e+00  1.92413216e+01  1.29068346e+01  8.80005455e+00\n",
      "  5.16702533e-01 -4.26983786e+00  6.67765999e+00 -3.82171512e+00\n",
      " -3.92048168e+00  2.28397236e+01  1.00448580e+01 -1.96958828e+00\n",
      " -2.57277322e+00  5.53651571e+00  6.08650112e+00 -2.03845471e-01\n",
      "  5.39839220e+00 -2.25890064e+00  2.34760818e+01  4.49609375e+00\n",
      "  1.65454674e+01 -9.67234230e+00 -4.14594889e+00 -4.38911468e-01\n",
      " -8.15744209e+00  1.21263063e+00  2.06339526e+00  7.10371637e+00\n",
      "  6.16203976e+00 -1.11160793e+01  1.24265373e+00  7.07964838e-01\n",
      "  4.53518867e+00  4.88578844e+00  1.00189304e+01  3.09842420e+00\n",
      "  2.64338923e+00 -1.88017011e+00  4.48266506e+00 -6.89185286e+00\n",
      " -1.65718403e+01 -4.30240488e+00  5.57193339e-01  1.75003242e+01\n",
      "  2.59255004e+00 -1.90292108e+00  6.53806782e+00  3.99551582e+00\n",
      " -1.53999126e+00 -6.47428572e-01 -2.65847611e+00 -4.73583221e+00\n",
      "  2.62773209e+01  3.05606151e+00  2.26966743e+01 -5.43694925e+00\n",
      "  3.88702464e+00  4.57901144e+00 -4.18999004e+00 -2.87403893e+00\n",
      "  7.25528955e-01  8.64883232e+00  1.33622608e+01  1.17422283e+00\n",
      " -5.70089996e-01  1.77032433e+01 -2.20900192e+01 -1.38474846e+00\n",
      " -9.83397770e+00  1.28811932e+01  2.82068968e+00 -3.54120278e+00\n",
      "  2.64532280e+00  4.23737144e+00  2.12484694e+00  4.19004345e+00\n",
      "  8.84318733e+00  9.46697903e+00  1.92026269e+00  3.02558880e+01\n",
      "  3.00946674e+01  3.75462770e+00  9.67763519e+00 -2.02946877e+00\n",
      "  3.66256447e+01  1.37712383e+00  1.61507301e+01  1.09987774e+01\n",
      " -3.55759549e+00 -1.84384096e+00  2.02209687e+00  3.70504341e+01\n",
      "  1.16617117e+01  2.49203873e+01  3.62529373e+01  5.92363119e+00\n",
      "  2.20228299e-01  6.85151625e+00 -9.70994663e+00  6.34739876e+00\n",
      "  3.65683770e+00  2.79591427e+01  1.04158344e+01  1.82689972e+01\n",
      " -5.34496844e-01 -7.11050892e+00  1.41477680e+00 -1.38341894e+01\n",
      "  3.64084206e+01  1.13519459e+01 -8.88395496e-03  2.26322579e+00\n",
      "  2.62714443e+01  1.93318520e+01  2.07863121e+01  5.08755350e+00\n",
      " -1.96807051e+00 -4.92961454e+00  1.93036671e+01  1.40616074e+01\n",
      "  2.91894093e+01  3.89871764e+00  7.97356844e+00  2.30279675e+01\n",
      "  2.93480539e+00 -1.46670332e+01  1.06032057e+01 -2.31387663e+00\n",
      "  2.34216785e+00 -3.53006124e+00  2.46480846e+01 -2.78832340e+00\n",
      "  2.97861614e+01  1.27215862e+01  3.44274807e+00  4.02562809e+00\n",
      "  1.27670169e+00  1.01697454e+01  3.47391663e+01  1.52745228e+01\n",
      "  4.24966431e+00  1.44455481e+01  3.46891708e+01  4.92460847e-01\n",
      "  7.25173092e+00 -8.48097038e+00  2.72173119e+00 -1.39452255e+00\n",
      "  1.28768482e+01  1.36622124e+01  2.12535706e+01 -2.86891103e+00\n",
      " -1.12088737e+01 -8.03035641e+00  5.66291153e-01 -7.00483084e+00\n",
      "  1.94843566e+00  2.22420845e+01  5.53925467e+00 -1.23241081e+01\n",
      "  3.33500075e+00  7.62847471e+00 -5.74074566e-01  3.77335763e+00\n",
      "  2.03461781e+01 -7.51390314e+00 -1.38685884e+01  3.80628853e+01\n",
      "  7.16275454e+00 -5.13395071e+00  3.09724064e+01  1.19528189e+01\n",
      "  2.23888283e+01  1.45868025e+01  4.05093908e+00 -3.64002848e+00\n",
      " -1.28601694e+01  3.60051572e-01 -6.78144979e+00 -1.19608231e+01\n",
      " -3.41468930e+00 -1.13443193e+01 -1.54708834e+01 -8.19295120e+00\n",
      " -7.33740234e+00 -7.30186176e+00 -6.45166111e+00 -5.95844603e+00\n",
      "  4.79667473e+00 -5.15808153e+00  3.69625521e+00  2.70085025e+00\n",
      "  1.64132619e+00 -2.30338211e+01 -4.71480072e-01 -1.40362816e+01\n",
      " -2.13274822e+01 -1.46574092e+00 -5.50444221e+00 -7.82944560e-01\n",
      "  5.10918808e+00  3.87489676e+00 -6.55874968e-01 -7.49455070e+00\n",
      " -8.44067764e+00  1.02612591e+00 -6.22740269e+00  1.64100313e+00\n",
      "  3.63408744e-01 -3.52902323e-01 -5.84760523e+00 -2.71097870e+01\n",
      " -9.86672783e+00 -5.72357082e+00 -1.58684664e+01 -2.12753057e+00\n",
      " -6.97684813e+00 -1.89939632e+01 -7.32116175e+00  2.45035470e-01\n",
      " -5.79558945e+00  6.81218863e+00 -1.88697701e+01  9.18331814e+00\n",
      " -5.98962355e+00 -2.51858807e+01 -6.82706261e+00 -9.33534563e-01\n",
      " -6.11233330e+00 -8.25469685e+00 -5.71536398e+00 -3.59212828e+00\n",
      "  2.97797799e+00 -1.14997358e+01  3.73437166e+00 -1.46493149e+01\n",
      "  1.55410850e+00 -6.44906807e+00 -3.97502756e+00 -2.73401546e+00\n",
      " -2.19341183e+01 -8.61248779e+00 -4.57116127e+00 -8.35439968e+00\n",
      " -7.15173483e+00  8.02902937e-01  6.37163579e-01 -1.74074306e+01\n",
      " -2.66922989e+01 -3.14506912e+00 -1.38293946e+00 -1.22676384e+00\n",
      " -1.72956047e+01 -6.26086771e-01 -4.41930485e+00 -9.66142416e-01\n",
      "  6.99518681e-01 -2.54649487e+01 -1.97096901e+01  1.64262331e+00\n",
      " -1.23003035e+01  2.71941447e+00 -6.21320105e+00 -3.40788102e+00\n",
      " -4.26626968e+00 -1.11394968e+01 -5.35050154e+00 -5.50093555e+00\n",
      " -2.40690689e+01  1.46924219e+01  4.27579880e+00 -2.75924702e+01\n",
      " -1.54754868e+01 -1.66436577e+01 -1.74663448e+01 -6.50063801e+00\n",
      " -3.25432944e+00 -4.04426146e+00  9.01844883e+00 -4.52538776e+00\n",
      " -1.01905279e+01 -4.17348433e+00  8.42048109e-01  3.25768590e+00\n",
      " -3.88405740e-01 -1.49158633e+00 -1.54842901e+01  1.73194647e+00\n",
      " -1.56751916e-01  4.44021320e+00 -1.84780903e+01 -1.15087280e+01\n",
      " -2.39057636e+00 -4.39203787e+00  2.64476776e+00 -1.07967176e+01\n",
      " -1.22574978e+01 -2.53479433e+00  1.11500323e-01 -3.84764433e-01\n",
      " -1.24202058e-01 -5.73220205e+00  1.46491385e+00 -2.37922668e-01\n",
      " -4.63560677e+00 -5.33875179e+00 -9.16913891e+00 -9.60800171e+00\n",
      " -6.10967779e+00 -4.39824724e+00  8.82828142e-03 -6.90941334e+00\n",
      "  6.20522439e-01 -2.06857562e+00 -2.23230667e+01  1.61654210e+00\n",
      "  2.90716958e+00 -1.71021729e+01 -2.50928664e+00 -2.36855268e+00\n",
      "  2.80750132e+00 -1.98077917e+00 -4.74131823e+00 -5.50684786e+00\n",
      " -3.39778972e+00  3.88892174e+00  1.89471257e+00 -2.18499393e+01\n",
      "  1.73652880e-02 -4.20541239e+00 -3.18141484e+00  1.24468589e+00\n",
      " -3.97403574e+00 -2.59207869e+00  3.62152314e+00 -2.09227252e+00\n",
      " -1.59019642e+01 -2.41309834e+00 -6.46587229e+00 -5.97191095e-01\n",
      " -4.48581600e+00 -1.30140915e+01 -5.87637520e+00 -7.13214350e+00\n",
      " -2.16904163e+00 -4.77971649e+00 -1.18565578e+01 -2.30292320e+01\n",
      " -1.43786240e+01 -2.39476757e+01  5.76466799e+00 -2.43995690e+00\n",
      "  1.33312387e+01  4.82378101e+00  4.45483589e+00 -1.09955959e+01\n",
      " -5.25482941e+00  3.75692940e+00 -3.16464090e+00  5.36855078e+00\n",
      " -2.15278606e+01  8.94015253e-01 -4.51684141e+00 -1.75613289e+01\n",
      " -3.92744136e+00  2.30967498e+00  3.99672955e-01 -1.85537815e+00\n",
      " -5.62469769e+00  7.21884394e+00 -1.08290138e+01 -4.90294313e+00\n",
      " -1.48549709e+01 -6.92260027e+00 -2.48615050e+00 -2.46465588e+01\n",
      " -1.50802221e+01  3.40113616e+00  7.87726998e-01 -3.13378048e+00\n",
      "  1.10497990e+01 -3.62992907e+00 -1.61358757e+01 -4.44285679e+00\n",
      "  2.45844436e+00 -5.39954948e+00 -4.11075878e+00 -8.47024727e+00\n",
      " -1.02792091e+01 -3.41120682e+01  2.66889668e+00 -2.47763462e+01\n",
      " -1.19019556e+01  6.00863218e+00 -1.91081696e+01 -1.37747364e+01\n",
      "  3.12868404e+00 -9.82604027e+00  1.59136379e+00 -2.67011585e+01\n",
      " -2.83059540e+01  3.94399810e+00 -3.42546883e+01 -2.74481449e+01\n",
      " -1.39931583e+01 -8.39042187e+00 -4.33227158e+00 -2.56734257e+01\n",
      " -1.28716457e+00 -1.41235762e+01  6.01904011e+00 -1.80856776e+00\n",
      " -4.57832813e+00  4.12244350e-02 -4.36480942e+01 -1.52247715e+00\n",
      " -3.80019522e+00  7.15214348e+00 -2.10964260e+01 -2.47084885e+01\n",
      " -2.77414742e+01 -1.23921452e+01  1.91063797e+00 -8.55870724e+00\n",
      "  3.71976674e-01 -2.21970606e+00 -8.07008362e+00 -2.54321232e+01\n",
      "  2.71285534e-01 -8.05595779e+00 -1.57316709e+00 -1.63902893e+01\n",
      " -8.84827995e+00 -6.77338123e+00 -2.56067467e+00 -1.25800047e+01\n",
      " -1.34518776e+01 -3.14397831e+01 -2.98302817e+00 -4.77405548e+00\n",
      " -3.02287560e+01 -3.58599129e+01 -3.81679535e+01 -7.87376070e+00\n",
      " -8.61193466e+00 -2.89869442e+01 -6.20777321e+00 -1.98832741e+01\n",
      "  2.44598031e+00 -1.57154894e+01 -1.11574202e+01  9.79780769e+00\n",
      "  2.38495922e+00  2.02454877e+00 -4.67055178e+00 -6.66667891e+00\n",
      " -1.13338423e+01 -5.61942220e-01 -1.30823879e+01 -4.11558867e+00\n",
      "  3.85190439e+00  4.72373581e+00 -6.69238377e+00 -6.84403479e-01\n",
      " -7.02967691e+00 -1.55841770e+01 -1.77618198e+01 -5.09102058e+00\n",
      "  8.48690414e+00 -6.67510414e+00 -2.60642314e+00 -1.21530123e+01\n",
      " -1.16660776e+01  1.84161079e+00 -1.77902470e+01 -2.55382576e+01\n",
      "  2.43401241e+00 -4.42824602e+00  1.05201316e+00 -1.90028038e+01\n",
      " -4.51364517e+00 -3.69572830e+00 -2.20047455e+01 -2.78906178e+00\n",
      "  9.26220036e+00 -4.49649766e-02 -5.68075991e+00  7.01285982e+00\n",
      " -8.25532341e+00 -2.53710880e+01 -8.26657057e-01 -2.79270020e+01\n",
      " -1.55796003e+01  4.83054924e+00 -1.71379147e+01 -6.24764347e+00\n",
      " -6.83927250e+00  7.67665195e+00 -1.92329483e+01 -2.97220459e+01\n",
      " -3.84579773e+01 -8.96549892e+00 -7.71811199e+00 -3.68003311e+01\n",
      " -2.93748474e+01 -3.96956635e+00 -2.00438995e+01  6.17395878e+00\n",
      "  8.82310772e+00 -3.47185478e+01 -3.17992640e+00 -2.82541618e+01\n",
      " -1.47609968e+01 -2.27900009e+01]' has dtype incompatible with int64, please explicitly cast to a compatible dtype first.\n",
      "  preds[val_index] = model.predict(dval_i)\n"
     ]
    },
    {
     "name": "stderr",
     "output_type": "stream",
     "text": [
      "\r",
      " 40%|████████████████████████████████████████████████████████████████████████████████████████▊                                                                                                                                     | 4/10 [02:20<03:32, 35.36s/it]"
     ]
    },
    {
     "name": "stderr",
     "output_type": "stream",
     "text": [
      "C:\\Users\\81809\\AppData\\Local\\Temp\\ipykernel_11780\\3386215446.py:18: FutureWarning: Setting an item of incompatible dtype is deprecated and will raise an error in a future version of pandas. Value '[-1.05150032e+01 -8.31909105e-02  2.08419971e+01  1.14867620e+01\n",
      "  2.09942932e+01  1.69741592e+01 -2.06600213e+00  5.92115116e+00\n",
      "  9.90066624e+00  6.76816273e+00  8.58296871e+00 -4.32398891e+00\n",
      " -4.30955791e+00  2.86844325e+00  2.62272034e+01  2.20866318e+01\n",
      " -1.94383347e+00  6.61361027e+00 -9.14880157e-01  3.77777028e+00\n",
      "  1.04549427e+01  1.57691216e+00  1.97543507e+01  2.14606705e+01\n",
      "  2.02752399e+00 -5.94688797e+00  8.46288204e-01  2.15721083e+00\n",
      "  6.85276031e+00 -5.14296675e+00  6.48071718e+00 -1.65925777e+00\n",
      "  1.83363609e+01 -2.09235787e+00 -7.55871201e+00  2.37787032e+00\n",
      "  1.72230968e+01 -5.41598415e+00  3.76145005e-01 -3.82619047e+00\n",
      "  2.70689321e+00  8.41596603e+00 -5.28554296e+00 -8.09717751e+00\n",
      " -2.48335361e+00  8.37699986e+00  6.59833765e+00  1.48611650e+01\n",
      "  6.34662199e+00  7.63330889e+00  6.37106848e+00 -4.86613607e+00\n",
      " -3.33136487e+00  6.31486416e+00 -1.14897690e+01  5.07275105e+00\n",
      "  8.61728764e+00  2.36759205e+01  2.16735687e+01  4.61777973e+00\n",
      "  4.06904650e+00  2.12606478e+00  4.43134737e+00 -2.63101816e+00\n",
      "  6.25242853e+00  7.20599270e+00 -1.20912504e+00  3.00544238e+00\n",
      "  3.16401505e+00  2.04023075e+00 -1.87984574e+00  2.49506211e+00\n",
      " -2.32451677e+00  4.61728859e+00  4.05258626e-01  2.79681282e+01\n",
      "  8.20661259e+00 -2.25896764e+00 -7.17536592e+00 -1.09480846e+00\n",
      "  1.16539259e+01  2.81010413e+00 -3.02045822e+00  2.99232054e+00\n",
      "  9.09121609e+00  2.10751486e+00  1.36507149e+01  1.65791154e+00\n",
      "  2.27564678e+01  1.12489367e+01 -1.02727575e+01 -7.31873560e+00\n",
      "  2.32323208e+01 -5.06926870e+00  7.43041277e+00  1.16175537e+01\n",
      "  3.80944538e+00  1.14447041e+01 -1.62819111e+00 -1.72585166e+00\n",
      " -3.47803622e-01  1.30539942e+01  2.39211617e+01 -8.46761513e+00\n",
      " -5.75950146e+00  1.24738750e+01 -2.43440557e+00  4.76486826e+00\n",
      "  3.03938293e+00  2.21379018e+00 -7.71055031e+00 -2.56170034e+00\n",
      "  1.14127529e+00  5.58114719e+00  8.64411235e-01  2.60288930e+00\n",
      " -1.06851387e+01  5.94407797e+00 -1.40495563e+00  1.09388089e+00\n",
      " -2.99915028e+00  6.50054932e+00  4.31295633e+00 -3.23244977e+00\n",
      "  3.86926246e+00  2.22826767e+00  7.59533310e+00  6.51976109e+00\n",
      "  1.43456221e+01  4.71045876e+00 -1.89153671e+01 -1.21260345e+00\n",
      "  3.10268617e+00 -6.12337172e-01  7.94968462e+00 -4.08134556e+00\n",
      "  3.63309234e-01  5.87881756e+00  3.03559628e+01  1.29894333e+01\n",
      " -1.97436655e+00  1.70125141e+01  2.22747364e+01 -3.59929228e+00\n",
      " -7.10437822e+00  1.46763821e+01 -7.99123347e-01  9.31096268e+00\n",
      "  1.82524073e+00  6.97733450e+00  5.99426413e+00 -3.77280760e+00\n",
      "  1.47836380e+01  3.05165744e+00  1.31405449e+00  1.63364196e+00\n",
      "  7.71154070e+00  2.12585773e+01  2.39381838e+00 -1.06538458e+01\n",
      "  2.85156059e+00 -9.00534153e+00 -5.73295295e-01  4.17497063e+00\n",
      " -3.78939056e+00  5.66355324e+00  5.65013349e-01  7.52794206e-01\n",
      "  3.55941772e+00  1.01396732e+01 -1.96389228e-01  7.34150553e+00\n",
      "  1.04640875e+01 -7.22583723e+00  4.43626499e+00  3.25665879e+00\n",
      "  2.59077132e-01  5.70591879e+00  5.68545103e+00  2.80076647e+00\n",
      " -2.56646299e+00  6.36059713e+00 -1.49085152e+00 -5.44492865e+00\n",
      " -5.53264046e+00  1.24547853e+01  3.26453686e+00  5.92766428e+00\n",
      " -1.67023122e+00 -1.90422094e+00  2.63994751e+01  6.48668289e+00\n",
      "  2.49683228e+01 -2.93225616e-01 -8.76214886e+00  1.46240959e+01\n",
      "  1.17894211e+01  3.96952009e+00  5.07069826e-01 -4.60616493e+00\n",
      "  1.02067509e+01  1.61456261e+01 -3.28152990e+00 -2.91790748e+00\n",
      "  5.29632235e+00  5.04546452e+00 -1.00361223e+01  4.77285194e+00\n",
      " -4.41205788e+00 -7.50262737e+00 -1.18489504e+00  1.54777658e+00\n",
      "  1.12028599e+01  1.36056547e+01 -7.11899662e+00  2.67700844e+01\n",
      "  8.84704113e+00  1.00370893e+01  5.40869713e+00  1.16617746e+01\n",
      " -4.15001440e+00  3.36027832e+01 -1.79997146e+00  1.66619129e+01\n",
      " -1.58911991e+00  2.48737640e+01  2.33781166e+01 -5.38938856e+00\n",
      " -6.10818624e+00  1.02806492e+01  1.47493687e+01  1.79439411e+01\n",
      " -8.22280502e+00 -3.87604833e+00 -3.46658230e+00  2.24713016e+00\n",
      "  3.49627674e-01  1.82321777e+01  3.67759705e+01 -6.46062493e-02\n",
      "  5.83442748e-01  7.46608639e+00 -1.34952509e+00  2.03010921e+01\n",
      "  1.62091885e+01  2.07449856e+01  1.97211781e+01  1.53773270e+01\n",
      "  7.88037300e+00  1.97107315e+00  9.01434517e+00  2.34188290e+01\n",
      "  4.91267586e+00  5.04830265e+00  2.57474232e+01  6.62462521e+00\n",
      " -7.95393276e+00  2.48528042e+01  1.53296967e+01  2.19591389e+01\n",
      " -8.28824580e-01  2.75582218e+00  2.61746864e+01  8.77177811e+00\n",
      "  1.63992844e+01  1.06775188e+00 -9.83240414e+00 -1.45405042e+00\n",
      "  1.91647577e+00  2.97090740e+01  1.21005726e+01  1.58881178e+01\n",
      " -7.47533131e+00  1.25289879e+01  3.66276398e+01  1.14707518e+01\n",
      "  6.05171204e+00  1.47209473e+01 -4.21387434e+00  3.43507195e+01\n",
      " -3.65541428e-01 -2.47258711e+00  4.17567520e+01  9.29692268e+00\n",
      "  4.83800650e+00 -7.74245644e+00  4.96975231e+00  3.80015030e+01\n",
      "  4.82728863e+00  3.13392377e+00 -1.14715791e+00  1.65529537e+01\n",
      "  1.47643909e+01  2.83532295e+01  1.45504599e+01 -1.64162195e+00\n",
      " -3.69071698e+00  1.21835241e+01  2.01509533e+01 -3.48703909e+00\n",
      "  5.46484423e+00  1.03164186e+01  2.75547075e+00  2.85808277e+01\n",
      "  1.76998863e+01  5.30283976e+00  1.40744476e+01  2.14685059e+00\n",
      "  1.47913380e+01  5.01023626e+00  7.76946926e+00 -4.75415754e+00\n",
      " -3.98603272e+00  9.24964809e+00  1.26832962e+01  5.83590746e+00\n",
      "  1.53265896e+01  2.78857279e+00  9.46959496e-01  3.15380621e+00\n",
      " -9.36970115e-01 -4.72460890e+00  1.87673330e+00 -8.31504440e+00\n",
      " -9.61369514e+00 -5.35144472e+00 -1.84231224e+01 -9.46109200e+00\n",
      " -9.02072668e-01  2.84361196e+00 -6.82327747e+00 -7.55783892e+00\n",
      " -8.55747986e+00 -4.17439556e+00 -3.20679450e+00 -6.33071184e+00\n",
      " -2.11063862e+01 -5.00785685e+00 -3.32383108e+00 -8.78312016e+00\n",
      " -9.08309555e+00 -7.80790520e+00  2.12677598e+00 -5.78260994e+00\n",
      " -3.70702600e+00 -3.57332341e-02  7.53764963e+00 -7.73365498e+00\n",
      " -7.70894289e-01  3.49150705e+00 -2.76951456e+00 -1.34702702e+01\n",
      " -1.33586559e+01 -1.20304894e+00  5.28133214e-01  6.16926789e-01\n",
      " -2.03583431e+00 -3.94088292e+00  4.73026609e+00 -5.75949574e+00\n",
      " -8.85793209e+00  2.70130610e+00 -9.35315132e+00 -2.49098182e+00\n",
      " -1.28005457e+01  2.89303613e+00 -6.40729761e+00 -1.18856776e+00\n",
      " -7.60756922e+00 -5.66706181e+00  4.99904776e+00  3.55454946e+00\n",
      " -8.08984470e+00 -4.39092541e+00 -5.56064939e+00 -4.99188471e+00\n",
      " -2.42254066e+01 -1.53597956e+01  1.08212125e+00 -7.09797430e+00\n",
      " -3.83418894e+00 -6.28952408e+00 -1.04199886e+01 -6.66412926e+00\n",
      " -2.24507260e+00  1.75481999e+00  2.25376830e-01 -1.83855743e+01\n",
      " -2.44607868e+01 -7.59904289e+00  2.94900084e+00  1.40645325e+00\n",
      "  6.55003214e+00 -1.88136501e+01 -5.19838953e+00  1.12133360e+00\n",
      " -8.38957977e+00 -1.45190210e+01  4.30953979e+00 -2.05654640e+01\n",
      " -3.02148640e-01 -1.93740591e-01 -1.61138115e+01  2.12214589e+00\n",
      " -1.86920567e+01 -1.24440384e+00  9.12627506e+00 -8.62950897e+00\n",
      "  3.62896705e+00 -1.01311531e+01 -9.70070457e+00 -4.89587545e+00\n",
      " -5.04799366e+00 -5.75561810e+00  1.34674501e+00 -6.11688375e+00\n",
      " -1.53497767e+00 -2.45476570e+01  2.59329271e+00  1.61638794e+01\n",
      "  2.56067681e+00 -1.08043547e+01 -9.05114174e+00 -6.61985874e+00\n",
      "  1.75256753e+00  2.33270240e+00 -8.73250198e+00 -4.38445902e+00\n",
      " -4.10658216e+00 -2.61123553e-02  7.93818891e-01 -1.84011543e+00\n",
      "  2.25929689e+00 -3.09503198e+00 -7.16720772e+00  9.23222423e-01\n",
      "  5.90775347e+00 -4.51048708e+00 -4.24051672e-01 -6.08984709e+00\n",
      " -1.80273890e+00 -8.70603752e+00  3.41446948e+00  2.09207516e+01\n",
      " -2.03552704e+01 -5.94818592e+00 -3.98024774e+00 -3.64355826e+00\n",
      " -1.98610325e+01 -4.56424284e+00  1.37441933e+00 -1.74753304e+01\n",
      "  4.52408934e+00 -4.88036007e-01 -2.04759455e+00 -8.93368626e+00\n",
      "  5.38764620e+00 -3.98680186e+00 -5.57635498e+00  3.05436850e+00\n",
      "  4.60033625e-01 -3.25239182e+00 -7.88859892e+00  1.31014466e-01\n",
      "  6.71202850e+00 -1.19448862e+01 -7.46799469e-01 -1.63938999e+01\n",
      " -2.34365654e+00 -3.65343165e+00 -6.34219360e+00  8.76817608e+00\n",
      "  6.60388422e+00 -4.29891729e+00 -3.00897694e+00  7.55637503e+00\n",
      " -3.89104009e-01  1.89016783e+00  4.55517006e+00 -2.48665810e+00\n",
      " -2.16251411e+01 -1.32054090e+01 -3.44380498e+00 -3.62720519e-01\n",
      "  1.11415644e+01 -1.49539602e+00 -9.70307589e-01 -9.20571804e+00\n",
      " -3.07491159e+00 -6.53923225e+00 -3.41483593e+00 -3.74945736e+00\n",
      " -8.50313282e+00  3.36877674e-01 -1.24533968e+01 -2.15449715e+01\n",
      " -7.48043966e+00 -4.98437691e+00 -1.15101891e+01 -2.02768383e+01\n",
      " -2.83708477e+00 -4.30847740e+00  1.57772636e+00  8.96702766e+00\n",
      " -2.65594921e+01 -2.67713428e+00 -2.70231080e+00 -1.40369244e+01\n",
      " -1.34754181e+00 -2.18642178e+01 -2.01552963e+01  1.46558630e+00\n",
      " -7.39947844e+00 -6.44182873e+00 -5.21616697e+00 -4.30262357e-01\n",
      " -9.07427311e+00 -4.76330519e+00 -5.53653193e+00 -7.48393250e+00\n",
      "  1.84191748e-01  1.18673248e+01  2.23617859e+01 -5.06105471e+00\n",
      "  2.96192431e+00  4.15346956e+00 -5.09688616e+00 -6.60663080e+00\n",
      " -3.94217324e+00 -3.11811924e+01 -5.64744806e+00 -2.56762409e+01\n",
      " -2.90312195e+01 -4.46197939e+00 -3.69458542e+01  1.23249016e+01\n",
      " -1.28795328e+01 -1.48964643e+01  8.73955631e+00 -5.85323381e+00\n",
      " -7.73110342e+00 -2.95450687e+01 -2.62881031e+01 -2.51285477e+01\n",
      " -4.13654137e+00 -3.69665451e+01 -2.36031189e+01 -8.18182182e+00\n",
      " -4.01928663e+00 -2.11264324e+01 -2.79206829e+01 -1.64999676e+01\n",
      " -1.94022045e+01 -1.18752031e+01 -2.25439854e+01 -3.60161819e+01\n",
      " -9.16816652e-01 -3.22381115e+00 -6.27944422e+00 -4.04183865e+00\n",
      " -4.44931030e+01  5.39844465e+00 -1.87800026e+01 -9.22373867e+00\n",
      " -1.31185989e+01 -5.49601495e-01  2.58755064e+00 -2.59115100e+00\n",
      " -1.27006445e+01 -1.02635841e+01  1.34904528e+01  2.31446877e+01\n",
      " -3.16478157e+00  1.91854499e-02 -1.93330593e+01 -1.09337311e+01\n",
      " -2.77860222e+01 -2.85992470e+01  2.03122687e+00 -1.67242718e+01\n",
      "  7.82793236e+00  1.21443214e+01 -3.00903549e+01 -1.41573305e+01\n",
      " -3.00218296e+01 -3.26037331e+01 -1.23374157e+01 -3.69883537e+00\n",
      " -3.62279015e+01 -5.58324957e+00 -3.57359695e+01  1.19316883e+01\n",
      " -1.10059137e+01 -2.34605484e+01 -2.72072754e+01 -5.87447596e+00\n",
      "  1.12693766e-02 -6.11702347e+00 -1.40816145e+01 -1.56617689e+00\n",
      " -2.87790031e+01 -1.24894867e+01 -2.54899178e+01  3.26712608e+00\n",
      " -8.74026299e+00  3.52350235e+00 -3.05291104e+00 -3.04756222e+01\n",
      " -8.27191353e-01 -1.08563280e+00 -7.54503298e+00 -1.32807379e+01\n",
      "  2.61083388e+00 -5.90091372e+00 -9.25708675e+00 -2.67159510e+00\n",
      " -3.83636022e+00 -2.36984634e+01 -2.96326180e+01 -2.71405182e+01\n",
      " -1.84568367e+01 -5.89331961e+00 -2.87044182e+01 -2.12029667e+01\n",
      " -6.22452927e+00  1.18572588e+01 -5.46228170e+00 -1.01024971e+01\n",
      " -1.40605984e+01 -6.49533653e+00  1.66173065e+00  9.04791069e+00\n",
      " -3.80807228e+01  2.26408362e+00 -2.47028351e+01  3.54294801e+00\n",
      " -1.17230129e+01  6.88800216e-01 -1.03128862e+01 -2.72694659e+00\n",
      " -1.66720271e+00  1.85314560e+01 -9.23292923e+00 -1.88758545e+01\n",
      " -3.24252200e+00 -2.14361477e+00]' has dtype incompatible with int64, please explicitly cast to a compatible dtype first.\n",
      "  preds[val_index] = model.predict(dval_i)\n"
     ]
    },
    {
     "name": "stderr",
     "output_type": "stream",
     "text": [
      "\r",
      " 50%|███████████████████████████████████████████████████████████████████████████████████████████████████████████████                                                                                                               | 5/10 [03:01<03:06, 37.33s/it]"
     ]
    },
    {
     "name": "stderr",
     "output_type": "stream",
     "text": [
      "C:\\Users\\81809\\AppData\\Local\\Temp\\ipykernel_11780\\3386215446.py:18: FutureWarning: Setting an item of incompatible dtype is deprecated and will raise an error in a future version of pandas. Value '[ 2.68691468e+00  5.19638240e-01  1.54892216e+01  3.87058234e+00\n",
      " -4.89494944e+00 -6.24350965e-01  1.96821632e+01  6.41914749e+00\n",
      "  9.74597454e+00  6.42913103e+00  1.58284068e+00  5.92976332e+00\n",
      "  6.96519518e+00  2.54178257e+01  2.27931070e+00  2.18703403e+01\n",
      "  2.26170673e+01 -8.91495609e+00  2.19081330e+00  1.03027844e+00\n",
      "  7.38836467e-01 -3.78748751e+00  2.66784115e+01  2.92514496e+01\n",
      "  1.08252831e+01  4.06065702e+00 -3.79799747e+00  9.12458897e+00\n",
      "  3.99817991e+00 -3.32871795e-01 -2.60517192e+00  4.81992054e+00\n",
      "  2.08850861e+00  4.99606085e+00  1.69594364e+01  2.42072916e+00\n",
      " -2.18287572e-01  2.04442463e+01 -3.79186893e+00  5.90066433e+00\n",
      "  2.16889048e+00 -4.37152243e+00 -6.18843615e-01  8.06360245e+00\n",
      " -5.96566153e+00 -8.86683846e+00  1.67009525e+01  5.50219631e+00\n",
      "  2.37859650e+01  6.88295984e+00  1.45883274e+00  4.78060627e+00\n",
      " -1.44238937e+00 -1.66228545e+00  1.73281741e+00  1.27792034e+01\n",
      "  1.44614601e+01  6.02558184e+00  1.19287241e+00  3.70546079e+00\n",
      "  3.09106946e+00  4.91952181e+00  4.98635340e+00  7.34917402e+00\n",
      " -1.08957958e+00 -1.90992534e+00  1.64543819e+01  7.78844643e+00\n",
      "  1.19592142e+01  2.81893711e+01  4.72607660e+00  2.61649151e+01\n",
      " -8.32741451e+00  1.13309603e+01  1.10997486e+01  6.67975485e-01\n",
      "  4.02991295e+00  2.65346470e+01  8.33824730e+00  2.24140644e+01\n",
      " -5.54378092e-01  9.43680477e+00  8.09130764e+00 -1.60524917e+00\n",
      "  3.14020562e+00  1.17181072e+01  2.26641440e+00  1.07410460e+01\n",
      " -1.74358535e+00 -2.25703090e-01  2.55830441e+01 -3.27237988e+00\n",
      " -3.24566531e+00 -4.12475586e+00  2.74127235e+01 -4.51360978e-02\n",
      "  1.77141571e+01  4.83437479e-01  1.20135775e+01  1.06600440e+00\n",
      " -2.34572148e+00  3.27049637e+00  1.10841548e+00  1.57999935e+01\n",
      "  1.40248041e+01  2.09189510e+01 -4.79443407e+00  8.50519943e+00\n",
      " -3.38544917e+00  8.44085217e+00  1.05764580e+01  4.51442003e+00\n",
      " -1.45287275e+01 -4.21478891e+00 -1.74892700e+00  1.10224695e+01\n",
      "  4.64026541e-01  3.04347000e+01  1.49082670e+01  4.87102842e+00\n",
      "  1.01727057e+01  9.05592918e+00  1.86802273e+01  3.35138172e-01\n",
      "  1.25543222e+01  3.65565205e+00 -1.18120933e+00  8.17058945e+00\n",
      " -1.52031708e+00  2.86419868e+00  3.83216286e+00  4.17242002e+00\n",
      "  2.03706399e-01  8.67491341e+00 -1.14808540e+01 -1.26957500e+00\n",
      " -2.52580786e+00 -5.20166349e+00  7.10838413e+00  2.49759984e+00\n",
      " -2.72426295e+00  1.67740440e+01  1.32239256e+01 -5.75151062e+00\n",
      "  1.84264870e+01  1.92159920e+01  2.41777115e+01  3.40113354e+00\n",
      "  5.00619555e+00  4.12409496e+00 -1.46150291e+00  6.98976707e+00\n",
      "  3.92531800e+00  1.38616800e+01 -1.10653174e+00  1.93427563e+00\n",
      "  8.55492651e-01 -2.89465404e+00  3.99340844e+00  2.10108299e+01\n",
      "  6.25537252e+00  5.31489372e+00  1.96768987e+00  8.21691036e+00\n",
      "  1.24247169e+00  2.57272810e-01  4.34895849e+00  6.51169348e+00\n",
      "  1.09231949e+01 -4.99740076e+00  2.18914280e+01  2.68455815e+00\n",
      "  1.19283276e+01  7.92556858e+00  7.27265835e+00 -2.38054323e+00\n",
      "  2.38248658e+00  1.05053272e+01  4.92996407e+00  2.43328972e+01\n",
      "  6.65161514e+00  1.01093359e+01  9.55635262e+00  3.99265504e+00\n",
      "  2.45453854e+01  4.85787344e+00  6.21207905e+00  6.35951519e+00\n",
      "  4.11471510e+00  9.69444942e+00  1.04967909e+01  8.74343300e+00\n",
      "  6.08059502e+00 -1.81690359e+00  1.69539967e+01 -1.58820117e+00\n",
      "  2.80351639e+00 -1.30656719e+00  4.71027374e+00  1.08964443e+01\n",
      "  3.42444191e+01 -2.29679751e+00  4.40951233e+01 -2.01627040e+00\n",
      "  1.40339956e+01 -3.59552443e-01  3.33397865e+00 -6.96180916e+00\n",
      "  9.66564560e+00  2.55467081e+00  1.37261972e+01  5.93355179e+00\n",
      " -8.25638771e+00 -2.09521699e+00  2.25071373e+01  2.39552593e+01\n",
      "  9.18908501e+00  1.03679979e+00  3.42569275e+01  3.54236336e+01\n",
      "  6.24382448e+00  2.10526276e+01  8.90781975e+00  1.45026932e+01\n",
      "  1.67413006e+01 -7.23497295e+00  1.33948412e+01  8.01604939e+00\n",
      " -5.31766033e+00 -2.25946069e+00  1.93699551e+00 -6.70870066e+00\n",
      "  9.90499592e+00  4.34354925e+00  1.73156853e+01  3.50105476e+01\n",
      "  1.86965001e+00  3.21477165e+01  1.73723578e+00  1.27425766e+00\n",
      "  2.77033329e-01  5.13486147e+00  5.29610872e+00  1.49638331e+00\n",
      " -6.94025946e+00  6.72692358e-01  1.62438107e+01  4.52859116e+00\n",
      "  1.04542990e+01  1.37888346e+01  3.32294846e+01  4.83462286e+00\n",
      " -7.19530439e+00  1.47931137e+01  2.18991127e+01  1.17620630e+01\n",
      "  7.47308588e+00  7.81998968e+00  2.79295087e+00  3.48275423e+00\n",
      "  4.33969154e+01 -2.73934460e+00  2.42763329e+01 -2.93580723e+00\n",
      " -5.07999802e+00  1.55235720e+01  3.10432510e+01  7.45100832e+00\n",
      "  1.26977282e+01  1.06843624e+01 -2.31227136e+00  8.13138390e+00\n",
      "  1.53280897e+01  3.36291122e+01  9.57999229e-01  2.87577200e+00\n",
      "  6.49473238e+00 -2.03101444e+00  9.44651604e+00  5.16759157e+00\n",
      "  4.69194946e+01 -3.54940867e+00 -3.37450457e+00 -9.17610526e-01\n",
      "  2.96943569e+01 -5.80656910e+00  2.51911583e+01  2.13595982e+01\n",
      "  3.29814219e+00 -1.19085369e+01  1.04190245e+01  2.19189358e+01\n",
      "  8.81754017e+00 -5.91150463e-01  5.91322470e+00  3.73357315e+01\n",
      " -3.41175628e+00  1.18279486e+01  4.99150419e+00  1.56878405e+01\n",
      "  1.74776769e+00  6.56845617e+00  5.36329174e+00 -9.74164295e+00\n",
      " -7.96627998e+00  1.68755758e+00 -1.05943489e+01 -1.41123569e+00\n",
      "  7.56529760e+00  7.78438473e+00  2.93401966e+01  1.33917885e+01\n",
      "  2.16301918e+01  6.40686846e+00 -1.88963056e-01  1.85854645e+01\n",
      "  4.26699066e+00  8.57371521e+00  2.19179649e+01  1.55081835e+01\n",
      "  2.10675659e+01 -9.28351343e-01 -5.65786505e+00 -2.25575924e+00\n",
      " -2.07391815e+01 -7.79551840e+00 -1.05308790e+01  9.75335240e-02\n",
      " -6.25729513e+00  1.70540917e+00 -6.11924553e+00 -4.68152189e+00\n",
      "  7.52090788e+00  3.59756947e+00  4.29679585e+00 -2.94606113e+00\n",
      "  1.94037092e+00 -5.99303055e+00 -3.56091714e+00 -8.33821118e-01\n",
      " -1.97071857e+01 -3.49080515e+00 -3.58652520e+00 -2.15607429e+00\n",
      " -1.78624403e+00 -4.05491829e+00 -3.41599059e+00  1.12749338e+00\n",
      " -9.59177685e+00 -1.85733070e+01 -2.75276222e+01 -2.40273905e+00\n",
      " -1.00891533e+01 -4.14662409e+00 -8.73652935e+00 -3.36420953e-01\n",
      "  1.10317838e+00 -4.62491941e+00 -1.01247759e+01 -1.49192715e+00\n",
      " -1.01378794e+01 -7.85830402e+00  5.48767090e-01 -5.47882080e+00\n",
      " -4.99311543e+00 -1.41557064e+01 -2.20804329e+01 -5.69203234e+00\n",
      " -2.64142895e+00 -1.02243304e+00 -5.51949596e+00  4.83010530e+00\n",
      "  3.60999131e+00 -7.77165174e+00  8.19675744e-01 -1.73521996e+00\n",
      " -1.35972195e+01 -5.25195074e+00 -1.20011576e-01 -1.51420202e+01\n",
      " -6.02818251e+00  4.47622538e+00 -7.23384953e+00 -8.83235264e+00\n",
      " -5.70412540e+00  4.98633766e+00  1.52219474e+00 -6.63320637e+00\n",
      " -9.51657963e+00  8.11642933e+00 -1.60822830e+01 -1.21110878e+01\n",
      " -9.02659833e-01 -4.43018484e+00 -7.72711098e-01 -1.28945112e+01\n",
      " -1.85668392e+01  3.10632658e+00  6.26849556e+00 -8.08135319e+00\n",
      "  4.82102728e+00 -1.61879463e+01 -1.01374722e+01 -5.77870989e+00\n",
      " -2.55935764e+00 -5.43037558e+00 -5.16797006e-01 -1.22543201e+01\n",
      " -8.06009579e+00 -3.25556755e+00 -1.32731276e+01 -1.05184975e+01\n",
      " -2.64061451e+00 -1.05339537e+01 -8.09982777e-01 -9.33139026e-01\n",
      " -3.42279935e+00 -1.17649107e+01 -1.86802425e+01  2.83134842e+00\n",
      " -2.33523369e+01 -1.33736057e+01 -4.88786459e+00 -2.65025973e+00\n",
      " -5.49752617e+00 -2.11714721e+00 -1.25341396e+01  4.01524782e+00\n",
      "  6.51692581e+00 -1.00656033e-01 -3.99961323e-01 -6.26622200e+00\n",
      " -3.58707619e+00 -6.63208294e+00  9.76016998e+00 -2.09514027e+01\n",
      " -2.89305973e+00 -6.20826101e+00 -1.23097801e+00  2.48748690e-01\n",
      " -8.34727287e+00 -1.17876720e+01  3.67502499e+00 -5.03033876e+00\n",
      " -4.36750364e+00 -3.80930328e+00  1.61037407e+01 -2.73758888e+00\n",
      "  3.10166478e+00  1.35558834e+01 -1.54075518e+01  3.64859390e+00\n",
      " -1.46821566e+01  3.10571671e+00 -8.19733906e+00 -4.95095873e+00\n",
      "  1.21186757e+00 -1.24298108e+00 -3.02582598e+00 -4.35027742e+00\n",
      " -2.01100788e+01 -1.05780516e+01 -8.05764484e+00 -2.13074951e+01\n",
      "  8.97151184e+00 -9.36633646e-01  5.04352045e+00  4.52831650e+00\n",
      " -2.25576115e+01 -2.18862438e+00 -7.17608404e+00  1.11581001e+01\n",
      " -6.97699308e-01 -1.68230572e+01  9.89929974e-01 -4.17277813e+00\n",
      " -1.73560066e+01 -6.91322148e-01 -9.15838718e-01 -4.00061321e+00\n",
      " -1.27208531e-01 -9.66114807e+00  1.74743092e+00 -1.57728240e-01\n",
      "  5.61313570e-01  5.89207554e+00 -1.33094406e+01  4.19780588e+00\n",
      " -3.75392437e+00 -4.05383015e+00 -7.71714735e+00  3.34810376e+00\n",
      " -2.78338509e+01 -2.80252957e+00 -9.21038151e+00  4.12975407e+00\n",
      " -3.23964643e+00  7.20712137e+00  5.07843554e-01  3.06810594e+00\n",
      " -2.96196723e+00 -5.26573133e+00  3.65291572e+00 -9.46910477e+00\n",
      " -6.22154617e+00  8.62200165e+00  1.71287346e+00  4.90754461e+00\n",
      " -5.77829301e-01 -1.73485947e+01 -2.96636581e+00 -8.60216808e+00\n",
      " -3.08409667e+00 -1.15661418e+00 -4.41788960e+00 -3.67672443e+00\n",
      " -1.83481300e+00  2.92852974e+00  2.44840946e+01 -1.98251858e+01\n",
      " -5.73106146e+00 -3.93386364e+00 -1.70439110e+01 -5.52164507e+00\n",
      "  9.07718372e+00 -3.95888400e+00  1.52409291e+00 -3.46547222e+00\n",
      " -1.01241674e+01 -9.76823616e+00 -7.32660151e+00 -3.00948834e+00\n",
      " -1.14710178e+01 -9.13508797e+00 -6.83045053e+00  4.73254204e+00\n",
      " -1.51655922e+01 -5.26512051e+00 -1.66496162e+01 -9.83412075e+00\n",
      " -2.45276642e+01  4.55972719e+00 -1.01929712e+01 -3.19599009e+00\n",
      " -1.35951117e-01 -1.03535757e+01 -2.84936466e+01 -3.38883820e+01\n",
      "  1.32617168e+01 -7.33996964e+00 -1.14698589e+00 -1.38613737e+00\n",
      " -5.14352369e+00 -2.43282051e+01 -2.20193825e+01 -5.92870903e+00\n",
      " -8.92119312e+00  4.22329283e+00 -1.90153027e+01 -1.70185871e+01\n",
      " -6.97126055e+00 -5.78673935e+00 -2.21093311e+01 -1.10397425e+01\n",
      "  5.94108200e+00  6.88359261e+00  1.61116254e+00 -5.01186132e+00\n",
      " -2.69747105e+01 -9.60353470e+00 -1.70262985e+01  2.05567532e+01\n",
      " -1.78748989e+01  5.67403221e+00 -1.43537102e+01 -1.22068310e+01\n",
      " -3.56213188e+01 -7.27340364e+00 -1.90784597e+00 -3.55958295e+00\n",
      " -4.65653330e-01 -7.21124744e+00 -6.48894644e+00 -1.62595425e+01\n",
      " -1.65141506e+01 -3.09918747e+01  1.82275128e+00 -1.54690742e+01\n",
      " -3.28594170e+01 -7.91805840e+00 -2.63775158e+01 -1.50769281e+01\n",
      "  8.66703129e+00 -1.34294224e+01 -1.87155209e+01 -1.41525106e+01\n",
      " -3.96445012e+00 -1.48195047e+01 -1.06591787e+01 -3.42545052e+01\n",
      "  1.47872555e+00 -6.06587267e+00 -4.30629110e+00 -1.53322804e+00\n",
      " -2.89337788e+01 -2.68160381e+01 -2.65133762e+01 -5.71623182e+00\n",
      " -4.90752106e+01  2.23465610e+00 -3.79904366e+01 -2.34530234e+00\n",
      "  4.34637785e+00 -1.06523275e+01  7.48690605e+00  7.60365438e+00\n",
      " -8.21417904e+00 -3.23234138e+01  1.80735147e+00 -3.76021805e+01\n",
      "  3.01219988e+00 -4.41463232e+00 -1.02981157e+01 -1.76087685e+01\n",
      " -2.27185154e+01 -3.20408897e+01  1.27289219e+01 -2.06887960e+00\n",
      " -1.35923374e+00 -2.75166054e+01 -6.08413410e+00 -1.95616150e+01\n",
      " -2.76774750e+01 -2.35099888e+00  5.97289264e-01 -7.63082457e+00\n",
      " -6.21929264e+00 -7.98819160e+00  1.61391556e+00 -9.26942253e+00\n",
      " -3.80570030e+01 -7.78642416e+00 -1.12561483e+01 -4.68618345e+00\n",
      " -1.03014593e+01 -1.94767513e+01]' has dtype incompatible with int64, please explicitly cast to a compatible dtype first.\n",
      "  preds[val_index] = model.predict(dval_i)\n"
     ]
    },
    {
     "name": "stderr",
     "output_type": "stream",
     "text": [
      "\r",
      " 60%|█████████████████████████████████████████████████████████████████████████████████████████████████████████████████████████████████████▏                                                                                        | 6/10 [03:39<02:31, 37.87s/it]"
     ]
    },
    {
     "name": "stderr",
     "output_type": "stream",
     "text": [
      "C:\\Users\\81809\\AppData\\Local\\Temp\\ipykernel_11780\\3386215446.py:18: FutureWarning: Setting an item of incompatible dtype is deprecated and will raise an error in a future version of pandas. Value '[ 4.19523525e+00  1.31567898e+01 -5.56601429e+00  1.07512636e+01\n",
      "  4.50258017e+00  2.29834003e+01  6.38033724e+00  8.65344584e-01\n",
      "  6.05192375e+00  5.68935776e+00  2.23179722e+00  1.65963030e+00\n",
      "  1.03597248e+00  6.90623283e+00 -4.78090137e-01  2.04975338e+01\n",
      "  2.18007889e+01 -9.32945728e+00  5.92748547e+00  9.19881836e-02\n",
      "  5.85029793e+00  9.36337948e-01 -4.23171616e+00  5.81912804e+00\n",
      "  8.00436687e+00  1.69201412e+01 -6.77464604e-01  2.82961082e+01\n",
      "  9.34049892e+00 -3.09543109e+00  4.19778728e+00  1.07081127e+01\n",
      "  1.50052958e+01  1.00690279e+01  6.06135416e+00  9.34685826e-01\n",
      "  1.69821148e+01  1.02748775e+00  1.67214429e+00  2.29561234e+00\n",
      " -3.33605297e-02  1.46567309e+00  8.22832298e+00  2.30864096e+00\n",
      "  6.60870647e+00  1.61567574e+01  1.45981503e+01  1.18552625e+00\n",
      " -2.04407072e+00 -1.76827109e+00  6.85767555e+00 -1.83461356e+00\n",
      "  1.37235298e+01 -2.98607469e+00 -3.76982391e-01  1.10058517e+01\n",
      "  2.48447495e+01  2.42324162e+01  2.21145844e+00  6.16089344e+00\n",
      "  9.64576435e+00 -4.72492647e+00  9.37896633e+00  1.89575231e+00\n",
      "  4.92172807e-01 -3.15901852e+00  1.78425350e+01  5.71396494e+00\n",
      "  1.40831261e+01  1.72145481e+01 -6.94650698e+00  8.21264982e-01\n",
      "  6.06326723e+00  1.74893818e+01 -2.05865383e+00  1.88321762e+01\n",
      "  1.07512245e+01  1.26880064e+01  3.00275826e+00 -3.03449929e-01\n",
      "  7.44847298e+00  2.19764113e+00  1.58196077e+01  1.07165756e+01\n",
      " -5.37382412e+00 -5.59654176e-01  1.27050474e-01 -3.81712484e+00\n",
      "  4.22978687e+00  1.49181452e+01 -5.75008988e-01 -4.32097340e+00\n",
      "  2.33753815e+01  5.23907137e+00  1.28748970e+01 -1.03829584e+01\n",
      "  1.30266161e+01  3.05126834e+00  1.37185640e+01 -8.94888783e+00\n",
      "  4.38726187e+00  1.00543013e+01 -3.44878030e+00 -4.46069986e-01\n",
      "  1.37114124e+01  1.96280682e+00 -4.96943188e+00  2.52300453e+00\n",
      " -3.01215577e+00  1.83563530e+00 -1.22932458e+00  6.42874336e+00\n",
      "  8.97556019e+00  2.56445808e+01 -3.08771420e+00 -7.59187317e+00\n",
      " -4.05998135e+00  4.96462154e+00 -1.78998184e+00  2.48818398e+00\n",
      "  8.12665081e+00  1.11358547e+01 -1.45627165e+00  3.91931796e+00\n",
      "  5.01912212e+00  2.90089297e+00  7.09032202e+00  1.62870960e+01\n",
      " -1.26007354e+00 -2.21447444e+00  6.77539158e+00 -6.54858589e-01\n",
      "  1.01190984e+00  1.95687699e+00  2.97850728e+00  1.15816193e+01\n",
      "  2.66266894e+00  5.78696299e+00  6.63750231e-01 -9.01485538e+00\n",
      "  2.07937660e+01  1.11803138e+00  3.85419536e+00  8.08579254e+00\n",
      "  1.60832481e+01 -3.67533112e+00  6.85579106e-02  1.29398079e+01\n",
      "  1.20903530e+01 -2.42864203e+00 -6.17160439e-01  4.28467512e+00\n",
      "  1.15331781e+00 -6.55581474e+00  9.59336948e+00  1.31597157e+01\n",
      "  5.38058233e+00  1.39364278e+00 -3.03330421e+00 -3.22975516e+00\n",
      "  4.62267303e+00  5.30608225e+00  2.29756737e+01  1.97880554e+00\n",
      "  4.90202761e+00  4.33767110e-01  3.13659012e-01  1.79926929e+01\n",
      "  2.91535044e+00 -7.28318214e-01  6.38509989e+00  3.94696927e+00\n",
      "  8.36064625e+00  7.79253864e+00 -1.06395818e-02  3.60670638e+00\n",
      "  3.38097882e+00  2.27210026e+01  7.53019238e+00 -5.39828682e+00\n",
      "  9.44558430e+00 -3.29847574e-01  6.39523125e+00  9.53395367e+00\n",
      "  2.29831562e+01  1.90122395e+01  3.62888765e+00  2.15155640e+01\n",
      "  1.56603193e+01  2.30317140e+00  5.08622694e+00 -2.10631633e+00\n",
      "  1.05737886e+01  1.52260733e+01  8.23370814e-01  3.69464340e+01\n",
      "  1.48088436e+01 -6.66639423e+00  6.20188379e+00 -4.45163870e+00\n",
      "  1.41864119e+01  8.60861683e+00  3.82428017e+01  6.31936741e+00\n",
      "  5.65330386e-01  2.35941315e+01  7.13880873e+00  8.38077259e+00\n",
      " -3.65102887e-01 -3.87500548e+00  9.67811966e+00  7.39452076e+00\n",
      " -1.01682405e+01  4.02395535e+00  2.60885944e+01  4.00136709e+00\n",
      " -1.49838459e+00  8.55334044e-01  9.10368729e+00  2.13297844e+00\n",
      " -9.55228806e+00  1.03682919e+01  2.55785084e+01  5.94040966e+00\n",
      "  1.94033980e+00  2.07054443e+01  1.48089714e+01  7.92105007e+00\n",
      "  5.03275442e+00 -7.04137087e+00  4.41843948e+01  2.45481014e+00\n",
      "  8.14211369e+00  2.17246151e+01  1.42340240e+01  3.13594303e+01\n",
      "  5.54742694e-01  9.18071365e+00  7.56317425e+00  3.52257996e+01\n",
      "  3.58816414e+01  6.73252296e+00  4.84952593e+00  1.65776596e+01\n",
      "  2.13444853e+00  1.16933739e+00  2.90519371e+01 -1.62280142e+00\n",
      " -2.95064956e-01  8.40312004e+00  1.98076572e+01  1.31531210e+01\n",
      "  1.69965458e+01  1.39097881e+01  1.17895794e+01 -5.04679060e+00\n",
      "  1.22009401e+01  1.71176052e+00  2.90222406e+00  1.42791014e+01\n",
      "  1.18058205e+01 -5.10284042e+00  4.09401703e+01  3.67917709e+01\n",
      " -9.50897884e+00  7.95551729e+00  1.14679837e+00  1.26736698e+01\n",
      "  1.31017866e+01  2.96988297e+01  1.82365780e+01  4.69180107e+01\n",
      "  5.00747301e-02  2.98364811e+01  2.08880558e+01  5.86758852e+00\n",
      "  2.43876705e+01  2.45923376e+00 -9.58614063e+00  4.65009737e+00\n",
      " -7.38701725e+00  1.94323101e+01  6.79345798e+00  3.22850680e+00\n",
      "  2.76944103e+01  3.73960915e+01  1.50145844e-01  6.18633938e+00\n",
      "  1.86246395e+01  2.06285286e+01  1.91403694e+01  6.42707443e+00\n",
      "  5.26610231e+00  1.27188158e+00 -6.71111202e+00 -1.58564091e+00\n",
      "  2.54075890e+01  4.40991306e+00  2.92087364e+01  2.17211580e+00\n",
      " -1.39957201e+00  2.38786697e+01 -3.50487089e+00  2.35853806e+01\n",
      "  2.72313004e+01  4.36919022e+00  1.12697906e+01  1.22336702e+01\n",
      " -4.25676727e+00 -1.44598646e+01 -1.07331553e+01 -9.47234344e+00\n",
      " -5.48964500e+00 -1.05398359e+01 -7.07660484e+00  1.86877024e+00\n",
      " -6.20013857e+00 -6.63470411e+00 -8.00375366e+00  4.10995340e+00\n",
      "  4.35611439e+00 -1.32767000e+01 -2.05953884e+01 -2.14088097e+01\n",
      " -6.87184143e+00  7.53433323e+00 -4.90365553e+00 -1.31077230e+00\n",
      " -6.55713224e+00  4.98301172e+00  2.06485128e+00  1.96197021e+00\n",
      " -7.42750978e+00 -2.37362175e+01 -1.64677773e+01 -1.09704485e+01\n",
      " -4.81603146e+00 -6.60124016e+00 -7.98045397e-01  6.41933060e+00\n",
      "  7.63048697e+00  4.05846447e-01  4.13675547e+00 -7.10863543e+00\n",
      " -6.53627157e+00 -8.57476425e+00 -1.06211863e+01  3.34920359e+00\n",
      "  5.46294260e+00  7.20282888e+00 -2.14971619e+01  1.11989851e+01\n",
      "  1.94221307e-02 -1.51936321e+01 -2.48308010e+01 -1.14524233e+00\n",
      " -4.23815823e+00 -8.17625618e+00  1.38217998e+00 -1.43986881e+00\n",
      " -3.25443530e+00 -2.63830781e+00  1.57508922e+00 -6.07877493e+00\n",
      " -6.66493416e-01 -2.77412910e+01  1.12944257e+00 -1.63905621e+01\n",
      " -2.33275566e+01 -1.70550880e+01 -9.97833014e-01  3.15206790e+00\n",
      " -1.20908298e+01 -5.44990730e+00 -2.87136579e+00 -3.45166898e+00\n",
      " -4.30572462e+00 -4.96963406e+00  3.10376835e+00 -7.18429422e+00\n",
      " -1.14481246e+00 -1.47968740e+01  6.06396139e-01 -5.87850857e+00\n",
      " -6.45111227e+00  4.34513664e+00 -2.98493528e+00  1.53073521e+01\n",
      " -4.83601141e+00  3.90570688e+00  4.47524905e-01 -9.06414318e+00\n",
      " -1.69942904e+00  9.62884617e+00  5.37670517e+00  1.80265152e+00\n",
      "  7.97998285e+00 -3.96640825e+00 -4.36656284e+00  2.37949395e+00\n",
      " -2.43590784e+00 -3.46632886e+00  3.41569161e+00 -2.50541058e+01\n",
      " -1.83109379e+01 -2.15059257e+00 -3.94793987e+00 -2.17811394e+00\n",
      " -7.58379412e+00  5.01751852e+00  4.58479929e+00  1.35916245e+00\n",
      "  2.63433719e+00  2.88576317e+00 -1.04220800e+01  5.79093516e-01\n",
      " -2.06606197e+01 -5.02499294e+00 -1.24002514e+01 -6.89807081e+00\n",
      " -1.87012863e+00  3.98492551e+00 -3.09457417e+01 -9.65903950e+00\n",
      "  1.24951229e+01 -1.54842434e+01  5.31640291e+00 -1.50830860e+01\n",
      "  5.02938032e+00 -3.38920307e+00  2.21753025e+00 -5.16715240e+00\n",
      " -5.12818384e+00 -3.22893262e+00 -4.53950977e+00 -1.19738655e+01\n",
      " -1.25029631e+01 -1.78018793e-01 -1.26273947e+01  9.92325366e-01\n",
      " -1.30758595e+00 -2.14387074e+01 -4.63939571e+00 -8.80362225e+00\n",
      " -3.89298797e+00 -1.09378920e+01 -2.10374279e+01  2.07257891e+00\n",
      " -3.88783312e+00  1.26228797e+00 -3.72373486e+00 -5.71317577e+00\n",
      " -2.39119029e+00 -2.80067301e+00  6.95295751e-01  1.69412041e+01\n",
      "  4.32064503e-01 -3.50235724e+00 -2.03576374e+01 -1.04876375e+01\n",
      " -2.62887669e+00 -4.17563486e+00 -9.89304352e+00 -6.08869362e+00\n",
      " -7.29749155e+00 -3.82704186e+00 -2.23546677e+01  6.12136412e+00\n",
      "  5.67813349e+00 -1.24470937e+00  5.78713655e+00 -9.75730896e-01\n",
      " -5.53996801e+00 -1.88366771e+00 -2.29391885e+00 -4.54136562e+00\n",
      "  1.96835399e+00 -6.65823996e-01  5.86434460e+00 -2.79969478e+00\n",
      "  1.56851733e+00  3.78575730e+00 -1.30836701e+00  1.78042138e+00\n",
      " -2.89287424e+00 -2.35618610e+01 -1.58048887e+01 -3.23682809e+00\n",
      " -2.29054279e+01  4.69705224e-01 -1.31688681e+01 -4.30362940e+00\n",
      "  4.53908157e+00 -5.28945398e+00 -7.86121988e+00 -1.22977037e+01\n",
      " -8.18802261e+00 -9.14783552e-02 -1.77371597e+01 -9.23372507e-01\n",
      " -4.14228392e+00 -4.61080360e+00 -5.01537228e+00  8.29754257e+00\n",
      "  4.74976540e+00 -3.28145766e+00 -4.26667404e+00 -2.96094120e-01\n",
      " -2.90146523e+01 -4.30842972e+01  7.80933976e-01 -1.88844156e+00\n",
      " -5.48320007e+00  4.95255423e+00 -1.70065439e+00 -5.04707098e+00\n",
      " -3.49575500e+01 -5.21220732e+00 -1.16145248e+01  4.18132353e+00\n",
      "  1.06176157e+01 -9.64200592e+00 -1.47224855e+01 -7.11826324e+00\n",
      " -2.97191072e+00 -2.70238304e+01 -3.34088173e+01 -2.57523003e+01\n",
      " -3.72777786e+01 -1.42443657e+01 -1.67208157e+01 -3.47538605e+01\n",
      " -2.86225548e+01  9.66226864e+00 -1.97683029e+01 -7.97277212e+00\n",
      "  3.73659283e-01  3.52132821e+00 -4.41226625e+00  6.69423342e+00\n",
      " -1.10847127e+00 -3.07303276e+01 -1.33107834e+01  1.49735284e+00\n",
      "  4.45926189e+00 -2.54192328e+00  1.11735605e-01 -1.62532353e+00\n",
      " -2.91857948e+01 -1.72029150e+00 -5.47902775e+00 -4.08311129e+00\n",
      " -1.62671375e+01 -7.31373596e+00  4.02525473e+00  6.34201288e+00\n",
      " -6.47232771e+00 -2.25041904e+01 -1.36505461e+01 -1.23408670e+01\n",
      " -1.09930825e+00 -1.31830654e+01  5.71122944e-01 -4.35736036e+00\n",
      " -1.14250593e+01 -3.51171875e+01 -6.34640026e+00  1.16771805e+00\n",
      "  5.88356161e+00 -1.71031876e+01 -4.04021645e+00 -2.60527744e+01\n",
      " -2.35907707e+01 -2.80093803e+01 -7.48920441e+00 -1.19569883e+01\n",
      " -1.54111576e+00 -1.73485565e+00 -2.57478046e+00 -2.83995667e+01\n",
      " -1.19383926e+01  4.27107525e+00 -1.10406408e+01 -3.49059486e+01\n",
      " -1.48121297e+00 -1.23144836e+01 -9.82517600e-01 -2.66008282e+01\n",
      " -7.76800871e+00  7.36412466e-01 -3.62997842e+00 -6.54648542e+00\n",
      " -8.97711372e+00 -3.35317307e+01  1.50396419e+00 -2.68085461e+01\n",
      " -1.35331735e-01 -1.23489752e+01 -2.37006016e+01 -2.93443394e+01\n",
      " -1.81235752e+01 -6.47880697e+00 -9.67791080e-01 -1.36907492e+01\n",
      " -1.82859268e+01 -2.53697491e+01  1.30284083e+00 -4.60443268e+01\n",
      " -3.05268707e+01 -1.29689436e+01 -3.37960091e+01 -1.64036334e+00\n",
      " -2.20913658e+01  1.00305090e+01 -1.24468946e+01 -9.09814358e+00\n",
      "  5.82468271e+00 -1.87439728e+01  3.09285909e-01 -7.03887510e+00\n",
      " -6.76701367e-01  1.76688874e+00 -7.61633456e-01 -2.96753693e+01\n",
      " -5.29692745e+00 -9.75833416e+00 -1.30725212e+01 -4.01750755e+00\n",
      "  2.35319595e+01 -3.00814319e+00 -3.31599617e+01 -2.99217663e+01\n",
      " -3.53032374e+00  3.81949234e+00 -3.87711296e+01  2.18358994e+00\n",
      " -3.65621948e+01 -2.36483574e+01 -1.78861713e+01 -1.27356806e+01\n",
      " -1.35463896e+01 -1.85552902e+01 -9.28152084e+00 -1.79196968e+01\n",
      " -3.29370356e+00  1.96730042e+00]' has dtype incompatible with int64, please explicitly cast to a compatible dtype first.\n",
      "  preds[val_index] = model.predict(dval_i)\n"
     ]
    },
    {
     "name": "stderr",
     "output_type": "stream",
     "text": [
      "\r",
      " 70%|███████████████████████████████████████████████████████████████████████████████████████████████████████████████████████████████████████████████████████████▍                                                                  | 7/10 [04:16<01:52, 37.50s/it]"
     ]
    },
    {
     "name": "stderr",
     "output_type": "stream",
     "text": [
      "C:\\Users\\81809\\AppData\\Local\\Temp\\ipykernel_11780\\3386215446.py:18: FutureWarning: Setting an item of incompatible dtype is deprecated and will raise an error in a future version of pandas. Value '[ 1.30457485e+00 -4.75159931e+00  2.99110985e+00  1.59815669e+00\n",
      "  1.81746712e+01  3.32694858e-01 -1.25250131e-01  1.06710920e+01\n",
      " -4.11809731e+00  3.99169564e+00 -2.75113654e+00  7.20197487e+00\n",
      "  4.36197186e+00  2.37811470e+00  7.08453465e+00  7.59437513e+00\n",
      " -7.17946815e+00 -4.33137703e+00  4.23069954e+00  9.00614452e+00\n",
      "  9.59486514e-02 -3.01761478e-01  2.69089699e+00  2.88149071e+01\n",
      "  1.10840368e+01  9.31488216e-01 -6.49395657e+00  1.85560493e+01\n",
      " -6.16491556e-01  5.21204424e+00  9.37843978e-01 -4.03510761e+00\n",
      "  8.03787899e+00 -6.37082636e-01  9.05622959e+00  9.81872845e+00\n",
      "  8.19940853e+00 -9.38901806e+00  7.18248463e+00  1.36362791e+00\n",
      " -7.43689716e-01  4.99124670e+00  1.69897175e+01  1.06173506e+01\n",
      "  2.30158176e+01 -4.65306908e-01  1.01624198e-01  1.38887520e+01\n",
      "  6.20046806e+00  1.36689281e+00  9.19993877e+00  4.60745382e+00\n",
      " -4.98843431e+00 -1.51698279e+00  6.17438078e+00 -2.90795875e+00\n",
      "  1.58526480e+00  7.47900152e+00  6.13464165e+00  3.45309305e+00\n",
      "  1.13015356e+01  1.08353672e+01 -4.29331779e+00 -4.44224024e+00\n",
      "  3.08599544e+00  3.11178041e+00 -1.55516064e+00  1.90679777e+00\n",
      "  1.94317303e+01  7.85964060e+00  5.10856771e+00  1.77656956e+01\n",
      "  7.17132902e+00 -7.48675048e-01 -3.23943329e+00 -6.26350498e+00\n",
      "  8.84153652e+00  7.18062067e+00  1.03455591e+01  9.36066329e-01\n",
      "  4.23880482e+00  6.96535015e+00  6.39665890e+00  1.26456261e+01\n",
      "  3.59018469e+00  1.13087451e+00  5.03738928e+00  4.04683828e+00\n",
      "  2.16921387e+01  1.51666069e+01  1.07923937e+00  7.96876001e+00\n",
      " -1.14857674e+01  4.51874352e+00  5.92314053e+00  5.60733259e-01\n",
      "  4.80171204e-01  9.88408089e+00 -2.83241034e+00  2.11773663e+01\n",
      "  6.28920078e-01 -7.99934626e-01 -1.37582910e+00  2.27409577e+00\n",
      "  1.62756598e+00  7.11134195e+00 -5.93546295e+00  1.22682533e+01\n",
      " -1.79593015e+00 -1.01962641e-01 -5.19677591e+00 -1.41904628e+00\n",
      "  6.12738323e+00 -3.26657248e+00 -2.29546380e+00  8.22799397e+00\n",
      " -5.36193943e+00  9.03210223e-01 -2.45204377e+00 -3.43924713e+00\n",
      "  7.32879210e+00  1.21648006e+01 -3.54497290e+00  7.92585686e-02\n",
      "  4.07158518e+00 -3.92053699e+00  4.28721189e+00  7.20968580e+00\n",
      " -5.69635272e-01  1.61866722e+01  1.53810606e+01  4.72169685e+00\n",
      " -4.46582174e+00 -5.63368845e+00 -1.71675134e+00  2.15635633e+00\n",
      "  5.90592766e+00 -6.22153997e+00  3.74700236e+00  1.25655365e+01\n",
      " -1.44151020e+00 -2.86416364e+00  4.98004496e-01  1.07802844e+00\n",
      "  6.12844896e+00 -6.40962601e+00  9.19236946e+00  1.67640495e+01\n",
      "  1.47260284e+01  1.08426504e+01  1.95263553e+00  1.18580294e+01\n",
      "  1.42896688e+00 -6.60042837e-02  9.63693428e+00  2.24295006e+01\n",
      "  1.14002109e-01 -9.75762653e+00  3.00867271e+00  5.50925303e+00\n",
      "  4.21082211e+00 -9.05767858e-01  2.75893784e+00  1.09882278e+01\n",
      " -3.72313905e+00  9.90230024e-01 -1.72497959e+01  1.65294838e+01\n",
      " -4.54636812e+00  2.26169872e+01  3.49341202e+00  1.15956652e+00\n",
      "  9.49588013e+00  5.46749735e+00  1.20233240e+01  3.02139163e+00\n",
      "  4.51426172e+00  2.50595307e+00  2.50972843e+00  1.10741270e+00\n",
      "  4.03784990e+00 -1.76197457e+00  4.25564671e+00 -4.85478783e+00\n",
      "  2.22764416e+01  2.23137703e+01  3.34537625e-02  1.45243931e+00\n",
      " -6.27447796e+00  6.33106089e+00  4.67918491e+00 -3.14197922e+00\n",
      "  4.81210279e+00  6.98613596e+00  9.40192509e+00  3.50707817e+00\n",
      "  2.13668022e+01 -3.08315992e+00  1.07800398e+01  2.49030457e+01\n",
      " -3.40877271e+00 -1.29790008e+00 -3.78547001e+00 -1.59224820e+00\n",
      " -3.61155415e+00  2.18195319e+00  6.11360359e+00 -1.84285891e+00\n",
      "  1.57966576e+01 -3.67994595e+00 -1.51735365e+00  5.32733440e-01\n",
      "  1.84462624e+01  3.94779921e+00  3.73307252e+00  1.20054407e+01\n",
      "  2.31965280e+00 -2.13283348e+00  5.71188068e+00  2.06379128e+01\n",
      "  2.90046959e+01 -1.40250754e+00  2.56374969e+01  3.37888074e+00\n",
      "  4.61141062e+00  1.99955406e+01  5.20072079e+00  1.99663758e-01\n",
      "  1.99318237e+01 -9.95687008e+00 -1.03917074e+01 -4.63273430e+00\n",
      "  6.59008980e+00 -4.15114403e+00  3.53209648e+01  1.69597893e+01\n",
      "  2.09026241e+01  4.03745317e+00  1.94107971e+01  6.74248838e+00\n",
      "  5.89491653e+00 -3.96859407e+00  3.19918652e+01  1.24565010e+01\n",
      "  2.96700230e+01  1.08309627e+00  1.08162105e+00  2.92069874e+01\n",
      "  1.18617926e+01  2.52869225e+01  1.87059784e+01  1.62002144e+01\n",
      "  1.97879524e+01  5.29785872e+00  1.37665243e+01  1.84951699e+00\n",
      "  1.63123016e+01 -6.82586575e+00  8.00329685e+00 -1.56007338e+00\n",
      "  1.53921807e+00  1.22883902e+01 -4.87508583e+00  2.30394039e+01\n",
      "  2.70744915e+01  8.03912258e+00  1.68162727e+01  8.08270359e+00\n",
      "  1.41301140e-01  1.34805317e+01  2.87439227e+00  1.67755394e+01\n",
      "  2.20031309e+00  1.62002602e+01  1.32680149e+01 -7.68184721e-01\n",
      " -9.80329323e+00  6.52257633e+00  2.03610115e+01 -1.15952291e+01\n",
      "  9.72146511e+00  2.64039564e+00  3.00454216e+01  6.97221339e-01\n",
      " -9.11402988e+00  6.75747108e+00 -9.12151432e+00  3.77681637e+00\n",
      "  2.87984776e+00  1.25028312e+00  3.01701851e+01  1.93689537e+01\n",
      "  2.67627048e+01  5.14665270e+00  4.92498093e+01  1.31249008e+01\n",
      "  3.68573914e+01  1.50083714e+01  1.52719128e+00  4.65065432e+00\n",
      "  2.06903343e+01  7.67372322e+00  1.26367941e+01 -8.42358685e+00\n",
      " -9.13221073e+00  7.64222288e+00  1.52340937e+00  3.15716743e+01\n",
      " -2.45275181e-02 -5.75319886e-01 -3.27936983e+00  1.76486802e+00\n",
      " -1.77415812e+00  1.65666428e+01  5.42721796e+00  9.38355732e+00\n",
      "  3.14905338e+01 -9.58770180e+00  8.10765839e+00  1.37063513e+01\n",
      "  8.82936192e+00  2.10009060e+01 -1.01865816e+01  2.85728073e+01\n",
      " -1.55548801e+01  4.00525131e+01 -6.76804018e+00  3.05650501e+01\n",
      "  6.60467148e+00  1.93554974e+01  1.89644871e+01  9.70203876e-01\n",
      " -1.23966579e+01  2.55481091e+01  1.06914139e+01  1.12471237e+01\n",
      "  6.56657362e+00  1.91281528e+01  3.98346019e+00 -1.09696970e+01\n",
      "  9.78494585e-01  2.36830926e+00 -1.17326612e+01 -6.14406252e+00\n",
      " -2.83821225e+00 -8.49177170e+00 -8.70654583e+00 -5.37181234e+00\n",
      " -6.64663029e+00 -6.22776747e+00 -7.00161076e+00 -2.13009033e+01\n",
      "  1.08821793e+01 -6.99178076e+00 -2.42931151e+00 -6.86517286e+00\n",
      " -5.22950113e-01 -3.17239809e+00 -5.14671278e+00  5.29668808e-01\n",
      " -3.71558845e-01 -6.25748825e+00 -9.72427940e+00 -2.42370472e+01\n",
      " -3.11202049e+00  1.95145476e+00 -4.85315037e+00 -2.73027935e+01\n",
      " -4.63494110e+00 -5.85416937e+00  3.88432884e+00 -2.07592344e+00\n",
      " -1.10776672e+01 -4.64607775e-01 -9.38200855e+00 -7.55899239e+00\n",
      "  5.51357889e+00  1.47470093e+00  6.00780845e-01 -3.80765200e+00\n",
      " -6.06488657e+00 -8.99967766e+00 -9.58029270e+00 -1.35554895e+01\n",
      " -4.17696190e+00  1.81132114e+00 -1.93769526e+00 -1.76613307e+00\n",
      " -6.28317308e+00 -8.94494438e+00 -1.16625376e+01  3.32810235e+00\n",
      " -1.02154026e+01 -4.33781481e+00 -7.44728661e+00 -3.91635776e+00\n",
      "  1.12607956e+00 -9.03665447e+00 -7.09694242e+00 -2.39723892e+01\n",
      " -8.44840145e+00 -7.34236765e+00  1.64677823e+00 -1.43716822e+01\n",
      " -2.55631695e+01  3.61019373e-01 -2.74195600e+00  1.03384590e+01\n",
      " -1.81177616e+01 -1.21765318e+01 -1.01195180e+00 -1.89988861e+01\n",
      " -4.27271843e+00 -9.82976317e-01  5.35512924e+00 -1.21836033e+01\n",
      " -7.14827251e+00  1.10908356e+01 -1.60030594e+01 -1.59362297e+01\n",
      " -4.54867506e+00  4.73435688e+00 -6.93383217e+00  2.61615944e+00\n",
      " -9.62170506e+00 -5.18193674e+00 -1.35453978e+01  6.01255608e+00\n",
      "  8.75467873e+00 -4.14681387e+00  1.80219615e+00 -1.18588436e+00\n",
      " -1.81404686e+00 -1.26534834e+01  1.26196766e+01 -2.12055073e+01\n",
      " -5.67367411e+00 -1.73389173e+00 -2.25309410e+01 -1.84292908e+01\n",
      " -1.18066425e+01 -2.25792193e+00 -7.51717329e-01  1.21744323e+00\n",
      "  1.33640900e+01  5.71754837e+00 -8.23841512e-01 -6.54551697e+00\n",
      " -4.35410070e+00  4.04207051e-01  9.38566589e+00  1.70345402e+01\n",
      "  5.09100056e+00 -9.35234356e+00 -5.60309553e+00 -4.45150995e+00\n",
      "  2.14075947e+00  2.45899343e+00 -2.13477287e+01  6.37459040e+00\n",
      " -3.36870968e-01 -2.15937757e+00  4.92681652e-01 -1.36929798e+01\n",
      " -1.64613175e+00  6.16937542e+00 -1.75943775e+01 -1.63294353e+01\n",
      " -2.25111961e+01 -9.63327980e+00 -1.19611816e+01  1.02692623e+01\n",
      " -2.27928467e+01 -2.89948392e+00 -4.26873118e-01  6.49119568e+00\n",
      " -4.08719110e+00  4.57466602e+00  7.24864125e-01  1.11507580e-01\n",
      " -3.11879158e+00 -8.55480671e+00 -1.10256445e+00 -1.83228893e+01\n",
      " -6.21431112e+00 -4.38635015e+00 -4.22182608e+00 -2.43142247e+00\n",
      "  5.78423643e+00 -5.84003830e+00  3.86731058e-01 -6.43974066e+00\n",
      " -2.35413456e+00 -1.24090827e+00 -1.58178532e+00 -4.03707790e+00\n",
      "  3.57608342e+00 -2.37794552e+01  1.73375454e+01  3.90957689e+00\n",
      "  1.20073195e+01 -3.50250316e+00  3.55099010e+00 -4.51878214e+00\n",
      " -2.79608440e+00 -1.04727030e+01  2.91583061e+00 -1.50671709e+00\n",
      " -2.66627121e+01 -6.55246162e+00  8.71841982e-02 -8.59973788e-01\n",
      " -2.57128429e+00 -6.26607275e+00 -1.65057125e+01 -4.97124052e+00\n",
      " -7.08004093e+00 -8.72690392e+00 -7.41731691e+00 -2.05813074e+00\n",
      " -3.64062476e+00  7.90893221e+00 -6.26676512e+00  8.50441647e+00\n",
      " -3.56680846e+00 -6.24277020e+00 -3.10871258e+01 -1.92601318e+01\n",
      " -9.87141228e+00 -5.06684160e+00 -4.67266512e+00 -2.82916050e+01\n",
      " -1.08489542e+01 -2.71836166e+01 -1.32060976e+01 -1.89388740e+00\n",
      " -3.12057996e+00 -1.02121563e+01 -3.59145622e+01 -1.31959403e+00\n",
      " -1.26959772e+01 -8.27425385e+00  1.50628448e+00 -1.05396080e+01\n",
      " -6.44512892e+00 -6.58279228e+00 -1.32762022e+01 -1.25348015e+01\n",
      " -3.24324303e+01 -2.69828491e+01 -3.71665421e+01 -4.40491915e-01\n",
      "  2.03487134e+00 -1.87488728e+01 -2.57879848e+01 -2.87436085e+01\n",
      "  5.66065836e+00  9.08818626e+00 -1.00398779e+00 -7.20213366e+00\n",
      " -3.95548782e+01 -9.42205727e-01 -2.93456745e+01 -3.34509010e+01\n",
      " -1.34580173e+01 -3.09006786e+01 -1.81842577e+00 -1.60505371e+01\n",
      " -7.26730061e+00 -4.25424690e+01  6.23280287e+00 -1.16363466e+00\n",
      " -2.13194942e+01 -2.01626663e+01 -3.23061705e-01 -7.58036470e+00\n",
      " -1.94711266e+01 -3.42460899e+01 -3.28396530e+01 -5.19498348e+00\n",
      "  2.75094891e+00  1.01973009e+01 -2.52007809e+01 -1.02875948e+01\n",
      " -1.53280725e+01 -3.96839666e+00 -2.13488712e+01 -1.16649714e+01\n",
      " -4.23209953e+01  3.98297429e+00 -9.54341054e-01 -1.90555394e+00\n",
      " -1.99609089e+01  7.08480215e+00 -2.83915710e+00 -5.95892859e+00\n",
      " -8.54157734e+00  4.44501448e+00 -3.63483086e+01 -5.32927418e+00\n",
      "  8.13942337e+00 -8.18763447e+00  7.28568459e+00 -1.52278891e+01\n",
      "  3.34381962e+00 -7.43944979e+00 -1.18534460e+01 -1.60545959e+01\n",
      " -1.05040674e+01 -2.69376621e+01 -1.34677906e+01  1.97302890e+00\n",
      "  1.66899741e+00  1.38329840e+00  6.38819456e+00 -1.94844055e+01\n",
      " -7.34535170e+00 -9.29245472e+00  4.41054392e+00  7.36373043e+00\n",
      " -2.87370548e+01  3.37290406e-01 -2.39793434e+01 -2.92359657e+01\n",
      "  2.83808112e+00 -1.29425800e+00  8.23858166e+00 -7.29619694e+00\n",
      " -1.16022415e+01 -1.52532492e+01 -2.22001057e+01  1.03408775e+01\n",
      " -2.51788068e+00 -9.40688992e+00 -3.35662293e+00 -2.53513508e+01\n",
      " -3.63119469e+01 -3.60216713e+01 -1.75577240e+01  6.23594284e+00\n",
      " -1.55541687e+01 -1.50674353e+01  1.34567509e+01 -2.42164421e+01\n",
      " -1.83270473e+01 -2.83801866e+00]' has dtype incompatible with int64, please explicitly cast to a compatible dtype first.\n",
      "  preds[val_index] = model.predict(dval_i)\n"
     ]
    },
    {
     "name": "stderr",
     "output_type": "stream",
     "text": [
      "\r",
      " 80%|█████████████████████████████████████████████████████████████████████████████████████████████████████████████████████████████████████████████████████████████████████████████████▌                                            | 8/10 [04:52<01:13, 36.99s/it]"
     ]
    },
    {
     "name": "stderr",
     "output_type": "stream",
     "text": [
      "C:\\Users\\81809\\AppData\\Local\\Temp\\ipykernel_11780\\3386215446.py:18: FutureWarning: Setting an item of incompatible dtype is deprecated and will raise an error in a future version of pandas. Value '[ 8.52664185e+00 -6.29130840e+00  1.15945759e+01  8.60577869e+00\n",
      "  6.38212442e+00  6.98955107e+00  5.54526424e+00  2.24280524e+00\n",
      " -1.14488304e+00  3.58392930e+00 -3.07536983e+00  3.02987790e+00\n",
      " -2.60258615e-01  2.10448818e+01  2.78438926e+00  1.36211329e+01\n",
      "  4.68266439e+00  3.10147572e+00  7.34581709e+00  3.19647002e+00\n",
      "  6.59434986e+00  4.72533464e+00  1.04173851e+01 -1.42378938e+00\n",
      "  6.64794683e+00  4.23032904e+00  1.11126356e+01  6.20334625e+00\n",
      "  2.24792671e+00  2.60021114e+01  4.97267103e+00 -8.18944645e+00\n",
      "  4.15277672e+00  1.56435757e+01  9.01821232e+00 -6.46244669e+00\n",
      "  4.11140299e+00  1.36271548e+00 -3.88051063e-01 -7.43366098e+00\n",
      " -4.00166512e+00  1.08561411e+01  3.15560365e+00  7.32884789e+00\n",
      "  2.21177654e+01  9.85505581e+00  6.54824209e+00  6.92417085e-01\n",
      " -2.44866753e+00  2.77490592e+00  4.52357531e+00  3.83703518e+00\n",
      "  7.26161420e-01  1.72021961e+01  4.31994295e+00  1.07479210e+01\n",
      "  2.26309319e+01  8.70238304e+00 -3.84224868e+00  7.39266539e+00\n",
      "  3.62834406e+00  3.03115439e+00  3.34697556e+00  1.04877639e+00\n",
      "  8.02917862e+00  1.08615303e+01  4.44291830e+00  3.89150381e+00\n",
      "  1.52676296e+01  2.46258488e+01 -4.11975765e+00  6.02368641e+00\n",
      "  1.22251414e-01  9.71018696e+00  2.27780437e+00  9.78181362e-02\n",
      "  2.35751247e+01  8.11617088e+00  1.27640619e+01  3.23832726e+00\n",
      "  1.62688274e+01 -2.56264043e+00  9.20196724e+00  8.01516628e+00\n",
      "  3.97722268e+00 -7.14843094e-01 -1.19508040e+00  7.74615908e+00\n",
      "  2.94615054e+00  7.38579845e+00  1.85342693e+01 -5.44378233e+00\n",
      "  7.82784894e-02  4.58151054e+00 -6.30347252e+00 -2.91520333e+00\n",
      " -2.94197416e+00 -8.05753994e+00  2.49007910e-01 -8.65381658e-02\n",
      "  1.93090749e+00  1.18783250e-01 -1.10463371e+01  2.58644271e+00\n",
      " -1.98753607e+00  9.86337662e-01  2.29810200e+01 -4.84480476e+00\n",
      "  1.45204268e+01  1.49561520e+01  6.64879560e+00 -2.26922297e+00\n",
      "  8.80807495e+00 -8.88285446e+00 -1.47679496e+00 -3.19762874e+00\n",
      "  4.65970659e+00 -8.99431801e+00  2.59709120e+00 -1.27027464e+00\n",
      "  8.79375172e+00  9.22180748e+00 -3.63653731e+00  1.30261173e+01\n",
      "  6.97279978e+00  6.96569157e+00  2.13304424e+01 -7.79369354e+00\n",
      "  1.53250008e+01  1.03471603e+01 -2.85023952e+00  7.25813437e+00\n",
      "  5.01983738e+00  1.31969595e+00  5.62496744e-02 -2.41828993e-01\n",
      "  1.31912766e+01  1.24815855e+01 -6.58056450e+00  1.11835718e+01\n",
      "  2.43117642e+00  9.30002213e+00  2.09993172e+01  3.62519217e+00\n",
      "  1.57279277e+00  1.57782543e+00 -2.48435810e-01  7.46578932e-01\n",
      "  3.55245042e+00  6.19126844e+00  2.91887069e+00  1.21400909e+01\n",
      " -9.89180446e-01 -3.24304366e+00  2.27483010e+00 -1.21725054e+01\n",
      "  2.99726868e+01  1.64218807e+01 -2.11813092e+00  1.72723083e+01\n",
      "  1.29235315e+01  3.72288513e+00  1.05039549e+01  1.81030822e+00\n",
      "  5.48663080e-01 -9.30301547e-01 -4.18612909e+00  3.03206658e+00\n",
      " -1.77383780e+00  1.00228786e+00 -1.48575500e-01 -1.03355134e+00\n",
      "  1.30180109e+00 -7.59961843e-01  4.35268307e+00  2.02860603e+01\n",
      "  6.57798910e+00  1.47323332e+01 -6.24970531e+00  2.06748676e+01\n",
      " -2.03020334e+00  3.81634879e+00  5.02436972e+00  1.33226645e+00\n",
      "  8.08703041e+00 -7.99715948e+00  1.88458614e+01  5.18096876e+00\n",
      "  6.69174814e+00 -1.73422468e+00  1.01549006e+01  1.51984768e+01\n",
      "  2.08150368e+01 -3.22625732e+00  1.91142607e+00 -7.95563236e-02\n",
      "  5.98489571e+00  4.77387857e+00  3.60162330e+00 -4.87233829e+00\n",
      "  8.17514896e+00  8.88423634e+00  9.09605598e+00  2.30371971e+01\n",
      "  5.33377504e+00  2.72891641e+00  2.17816758e+00  5.29840231e+00\n",
      "  5.36899900e+00 -5.80824912e-01  1.02317610e+01  6.92116785e+00\n",
      "  1.93427505e+01  8.18608665e+00  2.82538080e+00 -5.50634980e-01\n",
      "  3.80115738e+01 -9.38808155e+00  5.13245296e+00 -1.05376263e+01\n",
      " -6.22241926e+00  1.14137115e+01  5.25985897e-01  3.67684174e+00\n",
      "  8.17400932e+00  3.73696648e-02  2.73548927e+01  5.34208155e+00\n",
      "  8.78965282e+00  2.48358192e+01  4.11755800e+00  2.05417023e+01\n",
      " -8.24201870e+00  2.95963707e+01  3.24505310e+01  5.80665946e-01\n",
      " -1.51501465e+01  1.55483818e+00  2.44841957e+00  5.83728790e+00\n",
      "  6.66615105e+00  1.77940006e+01  6.84277296e+00  1.57537937e+01\n",
      "  2.85718575e+01  1.19744806e+01  3.62765694e+01 -2.70945549e+00\n",
      "  1.01716700e+01  1.97467744e-01  1.61255302e+01  1.24482031e+01\n",
      "  2.49276657e+01 -3.88049030e+00  2.42748985e+01  1.19477310e+01\n",
      "  9.90153313e+00  3.23558540e+01  1.06787195e+01  2.77883778e+01\n",
      "  3.21563625e+00  6.07570744e+00  2.62311707e+01  2.41674376e+00\n",
      "  5.23279715e+00  8.99668789e+00  1.00167971e+01 -5.64239550e+00\n",
      "  1.44135303e+01  4.18042450e+01  8.80437469e+00 -9.53797531e+00\n",
      "  9.69535923e+00 -2.75341606e+00 -9.20781040e+00  3.65651608e+00\n",
      " -5.33086634e+00  1.14950180e+01  5.05137587e+00  6.36155605e+00\n",
      " -2.25704145e+00  3.67002525e+01  1.36256618e+01  3.05779533e+01\n",
      "  2.09967270e+01  2.70509386e+00  8.80788708e+00  1.63789978e+01\n",
      "  5.57440233e+00 -7.61498690e+00  2.05937405e+01  5.95298719e+00\n",
      "  2.10806179e+00  2.17219200e+01  9.32831955e+00  3.10512009e+01\n",
      "  6.42093658e+00  2.95084743e+01  4.43334055e+00 -9.46323776e+00\n",
      "  4.62644053e+00  4.32490683e+00  8.12992287e+00  6.77186012e+00\n",
      " -1.13010168e+01  1.59140692e+01  2.81184959e+01 -2.82146239e+00\n",
      "  3.82808609e+01  9.25996208e+00  2.58690052e+01  3.67833900e+01\n",
      " -5.60803890e+00  3.62722702e+01  5.13479471e+00  1.22181587e+01\n",
      "  2.71200728e+00  3.19438004e+00  1.11515312e+01  2.50811710e+01\n",
      "  1.15832825e+01 -1.40978098e+00 -2.20008221e+01 -6.33981848e+00\n",
      "  4.69883585e+00 -1.36150980e+01 -2.39321671e+01 -8.25433540e+00\n",
      " -3.56163931e+00 -8.05790710e+00 -5.74275303e+00 -2.56911397e+00\n",
      " -2.03989906e+01 -2.79973316e+00 -2.69492188e+01 -4.06975222e+00\n",
      " -7.69011641e+00 -1.03473651e+00 -6.60331583e+00 -3.09114456e+00\n",
      " -7.79583883e+00 -9.41162586e+00  6.33249140e+00 -1.74407697e+00\n",
      "  6.36585331e+00  5.02740955e+00 -8.28179836e+00 -4.83682728e+00\n",
      "  1.64316952e-01 -2.58624535e+01  8.80349874e-01  8.81913066e-01\n",
      " -2.77927971e+01  1.76308775e+00  1.38815413e+01 -8.07408428e+00\n",
      "  7.46467876e+00 -9.55447197e+00 -5.81361437e+00 -4.95380688e+00\n",
      " -5.76250696e+00  4.13446760e+00  1.75706315e+00  2.97111541e-01\n",
      " -9.62598228e+00 -2.12808380e+01 -9.45509815e+00 -1.33212986e+01\n",
      "  6.18524361e+00 -3.52273107e+00  2.13163781e+00  5.02398312e-01\n",
      " -1.63259525e+01 -6.45069981e+00 -2.31361027e+01 -2.08081102e+00\n",
      "  2.48502326e+00 -7.41892099e+00 -4.38619041e+00  2.59501576e+00\n",
      " -2.47950058e+01 -1.11051598e+01 -1.39019384e+01 -1.36939824e+00\n",
      " -1.83931693e-01  8.34733605e-01  1.12348425e+00 -2.50063586e+00\n",
      " -2.95697594e+00  9.01160300e-01 -2.40865564e+00 -5.29985523e+00\n",
      " -7.86582994e+00 -1.97710724e+01  6.05992460e+00  3.14276075e+00\n",
      " -5.04819155e-01 -3.86263275e+00 -3.12432814e+00 -6.98646975e+00\n",
      " -1.76889973e+01 -5.86978316e-01  6.23307943e-01 -5.20667315e-01\n",
      "  2.98137522e+00 -9.34243679e+00 -2.46111107e+01 -1.68761234e+01\n",
      " -8.26554966e+00 -1.10673962e+01 -7.67055511e+00 -3.56768990e+00\n",
      " -6.02017546e+00 -3.28539705e+00 -5.78678274e+00 -1.84395828e+01\n",
      "  1.66741681e+00  3.34821868e+00  1.48207674e+01  8.76289457e-02\n",
      "  3.22869277e+00  5.49914181e-01 -2.34181595e+01 -1.01163507e-01\n",
      " -1.33388596e+01 -1.85754883e+00  8.28994751e+00  3.25741410e+00\n",
      " -6.44749117e+00  2.37845361e-01 -1.62501926e+01 -1.11131179e+00\n",
      " -7.03661823e+00  1.35183930e+00 -1.37473946e+01 -1.68467331e+01\n",
      " -3.04124975e+00  5.61347532e+00 -2.73576093e+00  7.95328665e+00\n",
      " -7.09691763e+00 -1.71586680e+00 -1.05825844e+01  6.60454750e+00\n",
      " -5.77056932e+00  5.44734812e+00 -2.74280186e+01 -5.11713409e+00\n",
      " -9.67586040e+00 -1.99726810e+01  4.15787172e+00 -7.55597782e+00\n",
      "  4.55914593e+00 -1.28368473e+01 -2.06534290e+01 -4.63905901e-01\n",
      " -1.95091808e+00 -4.30873722e-01 -9.51383686e+00 -4.19074821e+00\n",
      " -1.32224588e+01  2.87274766e+00 -2.10563660e+00 -1.74530673e+00\n",
      " -7.90760803e+00  2.50571394e+00 -1.45449626e+00 -1.05323114e+01\n",
      " -5.24734592e+00 -3.67638898e+00 -1.14242468e+01  9.92785740e+00\n",
      " -2.15537376e+01 -6.01165533e+00 -4.34611845e+00 -4.61675912e-01\n",
      "  5.92148495e+00 -3.81542778e+00 -3.80596161e+00 -5.09882689e+00\n",
      "  4.81492329e+00 -1.03076291e+00  3.91633224e+00  1.83424926e+00\n",
      "  4.26528502e+00 -2.60247421e+00  1.58036256e+00  4.93949622e-01\n",
      "  1.07436333e+01  8.13000977e-01 -1.38735094e+01  2.57338691e+00\n",
      " -4.36812592e+00 -2.33159943e+01  1.00344572e+01 -2.58342505e-01\n",
      " -1.03650832e+00 -5.57006836e+00  5.45247912e-01 -1.34082985e+01\n",
      " -2.55979276e+00  3.39143372e+00 -2.60249043e+01  5.81551790e+00\n",
      "  3.99701786e+00  1.12599659e+01 -6.88915014e-01 -7.28928947e+00\n",
      " -1.20089626e+00 -9.93262577e+00 -4.76871395e+00 -4.51028728e+00\n",
      " -1.47085104e+01 -7.37887430e+00  1.99741304e+00  5.65103912e+00\n",
      " -6.34860897e+00  3.71138230e-02 -5.58535290e+00 -3.79848981e+00\n",
      " -1.60766563e+01  3.36090684e+00 -7.72855234e+00 -3.30844808e+00\n",
      " -2.26079006e+01 -1.18973198e+01 -1.13088393e+00  7.88694143e+00\n",
      "  6.69005585e+00 -6.43006563e+00 -1.94485054e+01 -3.20849204e+00\n",
      " -1.10309134e+01 -3.05815201e+01 -3.42476921e+01 -2.78926125e+01\n",
      " -5.64625931e+00 -2.00703659e+01 -2.23101749e+01  7.11473286e-01\n",
      " -8.27648640e+00 -6.35753059e+00 -2.01333165e+00  8.94930744e+00\n",
      " -8.00576866e-01 -6.65113926e+00  3.70292842e-01 -3.65948081e+00\n",
      " -7.63703167e-01 -3.75184937e+01 -3.04069538e+01 -2.67331581e+01\n",
      " -3.25350642e+00 -2.28306007e+01 -7.94888592e+00 -4.61909437e+00\n",
      " -7.14925098e+00 -3.95269775e+00  3.59016418e-01 -1.94620495e+01\n",
      " -4.53432083e+01 -1.89624643e+00 -2.18420219e+01 -1.86747475e+01\n",
      " -1.30131168e+01 -1.09340467e+01 -3.19464760e+01  9.54101801e-01\n",
      " -3.18139362e+01 -7.83043432e+00 -2.31983261e+01 -2.86269779e+01\n",
      "  9.95951414e-01 -5.62349463e+00 -2.24177437e+01  5.44420433e+00\n",
      " -9.07511330e+00  2.56666851e+00 -2.98997517e+01 -1.51956396e+01\n",
      " -9.29533005e+00 -1.75237045e+01 -7.09647846e+00 -3.87781310e+00\n",
      "  4.39089108e+00 -5.99564838e+00  5.75740516e-01 -3.18921447e+00\n",
      " -1.96512568e+00 -2.14225540e+01 -9.91011333e+00 -1.62853405e-01\n",
      " -1.84763660e+01 -2.20869827e+00 -1.27270527e+01  2.68250728e+00\n",
      " -3.45696068e+01 -2.16957301e-01  7.73529387e+00  6.15001726e+00\n",
      " -2.93206806e+01  1.22411191e-01  1.16679862e-01  7.66185105e-01\n",
      "  6.09961843e+00 -2.59747434e+00 -1.50161543e+01 -2.53710270e+01\n",
      " -8.19805503e-01 -1.03707943e+01  1.03724632e+01  1.60454476e+00\n",
      "  4.83567142e+00 -1.10975246e+01 -2.48370533e+01 -6.46820116e+00\n",
      " -3.72703476e+01 -3.08641052e+01  4.03607702e+00 -1.38799019e+01\n",
      " -2.32358742e+01 -4.13683271e+00 -6.48225927e+00  1.74883091e+00\n",
      "  1.19877701e+01  3.26061749e+00 -2.94258285e+00 -2.89141369e+01\n",
      " -1.52830629e+01 -8.75297070e+00 -4.01460648e+00  1.50361693e+00\n",
      "  9.26500511e+00  4.18778372e+00 -1.12840700e+00 -2.42591286e+01\n",
      "  6.45678377e+00 -1.82668934e+01 -1.13765860e+01 -3.35255218e+00\n",
      " -1.41444433e+00  1.27719698e+01 -3.05347652e+01 -9.83302116e+00\n",
      " -2.59648876e+01 -8.76300430e+00]' has dtype incompatible with int64, please explicitly cast to a compatible dtype first.\n",
      "  preds[val_index] = model.predict(dval_i)\n"
     ]
    },
    {
     "name": "stderr",
     "output_type": "stream",
     "text": [
      "\r",
      " 90%|███████████████████████████████████████████████████████████████████████████████████████████████████████████████████████████████████████████████████████████████████████████████████████████████████████▊                      | 9/10 [05:28<00:36, 36.79s/it]"
     ]
    },
    {
     "name": "stderr",
     "output_type": "stream",
     "text": [
      "C:\\Users\\81809\\AppData\\Local\\Temp\\ipykernel_11780\\3386215446.py:18: FutureWarning: Setting an item of incompatible dtype is deprecated and will raise an error in a future version of pandas. Value '[ 3.05779147e+00 -6.13619184e+00  2.10309792e+01  1.29958367e+00\n",
      "  5.29247093e+00 -5.26377106e+00  3.04908419e+00  3.53703451e+00\n",
      " -8.16131973e+00  5.07415116e-01 -3.01977015e+00  1.79115429e+01\n",
      "  2.81389599e+01 -1.57403648e+00  2.10758972e+01  1.90539360e+00\n",
      "  7.65874004e+00  2.00471139e+00  1.56890929e+00  2.48068810e+00\n",
      " -1.53649664e+00  1.88250911e+00  7.69540727e-01  5.34260893e+00\n",
      "  5.39297438e+00  8.47547817e+00  1.36510760e-01  1.07860126e+01\n",
      "  3.43168712e+00  2.16966953e+01 -3.19764566e+00 -3.86024475e+00\n",
      "  5.09834623e+00  4.57650959e-01  2.46921968e+00 -1.52683043e+00\n",
      " -3.93608165e+00  8.16830063e+00  1.27999330e+00  2.64017910e-01\n",
      "  1.85898857e+01 -5.19118643e+00  3.22173429e+00 -7.89473009e+00\n",
      " -1.80301940e+00 -1.10629778e+01  1.60907478e+01  1.44289589e+01\n",
      "  4.75833511e+00  6.76980615e-01 -2.57887220e+00  5.54566908e+00\n",
      " -3.83159232e+00  4.32755232e+00  9.37335372e-01 -1.59605920e+00\n",
      "  9.36933875e-01 -4.50625229e+00  1.02930803e+01  2.49549484e+01\n",
      "  1.50180178e+01  5.08767033e+00  5.67662716e+00  1.55855131e+01\n",
      " -2.47960186e+00  3.76595926e+00 -3.66135359e+00 -1.93903196e+00\n",
      "  3.57601380e+00  5.17326117e+00 -2.35763527e-02  1.79684601e+01\n",
      "  8.09862804e+00  4.33475113e+00 -2.08349824e+00  4.04759550e+00\n",
      " -1.51147258e+00  4.82001495e+00  2.41504669e+01  2.08095646e+00\n",
      " -4.63523865e+00 -3.35410666e+00  1.15146983e+00  3.99281955e+00\n",
      "  3.09159970e+00  1.16208947e+00  1.29678297e+01  2.60811844e+01\n",
      "  7.50775719e+00  1.43699665e+01 -1.17257233e+01  1.88199449e+00\n",
      "  2.26714268e+01  4.62930965e+00  3.93817234e+00  1.20263634e+01\n",
      " -1.99132526e+00  6.30387640e+00  5.61684418e+00  1.99013543e+00\n",
      "  1.63441772e+01  1.03400469e+01  1.54360113e+01  2.31065369e+00\n",
      "  1.20232086e+01 -1.14437933e+01 -5.82815933e+00  9.22453594e+00\n",
      "  8.32517147e+00  1.36186969e+00  3.88240933e+00 -2.90248966e+00\n",
      "  4.69323492e+00  1.14511453e-01  1.94221935e+01  5.27357483e+00\n",
      "  2.03917770e+01  4.84219933e+00  2.34256673e+00 -1.49473810e+01\n",
      "  6.06371641e+00 -2.59823298e+00 -2.37273932e+00 -5.81978416e+00\n",
      "  2.98932743e+00  2.56920948e+01  3.71135712e+00  4.92728090e+00\n",
      " -5.37183428e+00  1.35513000e+01  3.05354643e+00 -6.22124672e-01\n",
      " -1.15818918e+00  4.03765011e+00  1.02675285e+01  2.57185984e+00\n",
      "  6.80368900e+00 -1.69317853e+00  1.47646618e+01  1.66911542e-01\n",
      "  1.86268878e+00 -6.15666449e-01  2.90531683e+00 -3.12854528e+00\n",
      " -5.63914919e+00  1.11886621e+00  1.41893733e+00  1.01551020e+00\n",
      "  2.23289318e+01  1.55005856e+01  2.09909105e+00  1.86574686e+00\n",
      " -9.61388779e+00  2.08936977e+01  3.10258794e+00  3.48351598e+00\n",
      " -5.64096308e+00  1.15789890e+00  2.46999645e+00  5.60438776e+00\n",
      " -9.05320549e+00  1.38821850e+01 -5.68088865e+00  8.58477116e+00\n",
      "  3.01714458e+01 -3.77467108e+00  4.51035309e+00  3.83873224e+00\n",
      "  9.25501049e-01 -5.43280602e+00  4.43776751e+00  6.02117538e+00\n",
      " -4.71664190e+00 -5.18468475e+00  5.78302479e+00  2.06932716e+01\n",
      " -4.49092102e+00 -1.04564130e+00  1.97894192e+01  3.65222144e+00\n",
      " -3.78324223e+00  1.09160233e+01  2.94616556e+00  6.72530890e+00\n",
      "  6.06919336e+00 -1.47474110e-02  3.19154096e+00 -3.43132877e+00\n",
      "  7.84971571e+00 -7.18966341e+00 -1.43297362e+00  5.31419611e+00\n",
      " -5.03951490e-01  3.28486013e+00 -1.77726328e-01  1.05929556e+01\n",
      "  2.08619576e+01  3.32840562e+00  2.39399071e+01 -2.64687181e+00\n",
      "  1.03615642e+00 -5.38091481e-01  4.37124586e+00 -4.15806115e-01\n",
      "  2.72804070e+00  1.26180449e+01  5.90917349e+00  1.09235630e+01\n",
      "  2.10916386e+01 -2.14350119e-01  3.12676096e+00 -1.68028831e-01\n",
      "  2.68160164e-01  1.61325035e+01  4.38971710e+00  4.82060003e+00\n",
      "  5.45171976e+00  4.51438379e+00 -8.24576497e-01  3.91854167e+00\n",
      "  3.55160356e+00  1.80530488e+00  2.07468987e+01  1.04066181e+01\n",
      "  2.24680805e+00  1.42466021e+01  3.71375895e+00  2.54541111e+01\n",
      " -1.17660975e+00  5.01738489e-02  6.97428465e+00  1.04562740e+01\n",
      " -1.15929003e+01 -4.53113049e-01  1.11383181e+01  6.96520901e+00\n",
      "  3.33667755e+01  2.77034683e+01  5.93072796e+00  1.80669193e+01\n",
      "  2.65631981e+01  1.33344221e+01  7.49666405e+00 -2.21965814e+00\n",
      " -8.80291939e+00 -9.27516842e+00 -7.90800238e+00  2.57122097e+01\n",
      " -2.35050416e+00  4.61333799e+00  4.11723557e+01  7.68252707e+00\n",
      "  2.07311726e+00  1.90457897e+01  1.24488134e+01 -3.44265074e-01\n",
      " -2.61720896e+00 -1.37214518e+01  1.47465048e+01  1.66205330e+01\n",
      "  1.27718306e+01  7.67334080e+00  9.77083683e+00  3.45823822e+01\n",
      " -8.02040482e+00  2.23661919e+01 -2.49696865e+01  7.93124390e+00\n",
      "  9.20043278e+00  2.96604767e+01  1.75340233e+01  2.82826633e+01\n",
      "  1.21441717e+01  2.55315456e+01  4.18931007e+00  9.08985424e+00\n",
      "  1.32648630e+01  3.30859718e+01  3.43247108e+01  3.07355583e-01\n",
      "  9.90105343e+00  8.46580315e+00 -8.89431477e-01  1.54946585e+01\n",
      "  1.80941696e+01  8.45837688e+00  3.41523666e+01  7.32765436e+00\n",
      " -4.74521017e+00 -4.75738734e-01  1.60316277e+00 -4.56678534e+00\n",
      "  9.70436287e+00  1.63748760e+01  6.94544411e+00 -8.68550968e+00\n",
      "  2.03086605e+01  7.89449835e+00  6.12413406e+00  2.39151058e+01\n",
      "  1.04436922e+01  3.18357677e+01  2.99984093e+01 -8.04909050e-01\n",
      "  3.73812981e+01 -2.03213763e+00  1.16856146e+01  1.68823109e+01\n",
      "  2.66035957e+01  3.14430752e+01 -2.34430084e+01  3.75789757e+01\n",
      "  6.99435806e+00  3.55310249e+00  2.38580780e+01 -5.83048344e-01\n",
      "  1.87194691e+01  1.60574207e+01  7.71769464e-01  3.34686255e+00\n",
      "  1.41944628e+01 -1.85749779e+01  1.47417831e+01  5.37842703e+00\n",
      " -1.68796234e+01 -4.88042450e+00 -4.41781998e+00 -1.92274857e+01\n",
      "  2.27567148e+00 -2.23401947e+01 -1.42379153e+00 -6.26360464e+00\n",
      " -6.14220285e+00 -6.68496323e+00 -7.91236448e+00 -4.52873611e+00\n",
      "  4.14377183e-01 -7.84806311e-01 -2.18727856e+01 -2.42825260e+01\n",
      " -3.71764445e+00 -5.71537793e-01 -3.75496936e+00 -5.17554903e+00\n",
      " -4.89061165e+00  9.79683876e+00 -6.91015577e+00 -7.91112542e-01\n",
      "  1.92462826e+00 -8.22919750e+00 -1.36053925e+01  4.66776896e+00\n",
      " -1.29942913e+01 -1.42874603e+01  4.01640311e-04 -8.10293674e+00\n",
      " -1.76515656e+01  5.85564041e+00  4.76764774e+00 -4.04869890e+00\n",
      " -3.45661879e+00  5.03145075e+00 -7.45245695e+00 -1.05060520e+01\n",
      " -5.03186464e+00 -8.58187771e+00 -6.34500027e-01 -1.07214022e+01\n",
      "  7.06665897e+00 -2.02014923e+01  2.14400625e+00 -5.58495283e+00\n",
      " -1.68383751e+01 -2.48343620e+01 -8.18884087e+00 -7.50062704e+00\n",
      " -4.80845356e+00  2.53693581e+00  2.20233250e+00 -2.69497108e+01\n",
      "  2.82734418e+00 -2.61947250e+01  1.25278234e+00 -2.51037674e+01\n",
      " -1.91873336e+00 -6.12636280e+00 -1.10163202e+01 -7.43355799e+00\n",
      " -7.99738073e+00 -1.61981583e+00 -3.35156107e+00 -7.05524635e+00\n",
      " -4.85154819e+00 -2.23014879e+00 -7.80139685e+00 -7.69017553e+00\n",
      " -1.28257513e+01 -1.54828968e+01  3.41394544e+00 -4.62071848e+00\n",
      " -2.53474712e+00 -4.00684166e+00 -4.96494055e+00 -4.00098354e-01\n",
      "  9.85289514e-01 -1.99982452e+01 -6.60696745e-01 -1.05903044e+01\n",
      " -7.60428572e+00  1.01770031e+00 -3.58017516e+00 -1.04860268e+01\n",
      "  4.65621281e+00  3.50672197e+00 -7.20441580e+00 -1.73191547e+00\n",
      " -2.61712627e+01  3.16316128e+00 -2.01947746e+01  3.11394644e+00\n",
      " -2.89643307e+01 -9.26745319e+00 -1.62527275e+01 -5.71262217e+00\n",
      " -1.78244209e+01 -2.31872869e+00  2.34212017e+00 -4.89630985e+00\n",
      "  3.38058686e+00 -2.09995747e+00 -1.91490746e+00 -3.37345481e-01\n",
      " -1.26123476e+00 -1.53459954e+00  6.48576784e+00 -5.17286825e+00\n",
      " -9.96563339e+00 -6.50073767e+00  5.99923134e+00  2.94322681e+00\n",
      " -6.22364855e+00 -6.69335699e+00 -4.99317074e+00  1.87294674e+01\n",
      "  1.91183662e+00 -1.24878478e+00 -1.32228222e+01 -4.40951633e+00\n",
      "  4.19728613e+00 -3.89001083e+00 -1.04978895e+01 -6.35740614e+00\n",
      "  3.09196377e+00 -2.27260571e+01 -6.99344254e+00 -1.22524347e+01\n",
      " -5.18678617e+00 -3.63803625e+00 -2.35753040e+01  1.71071038e-01\n",
      " -1.04901066e+01 -8.50889015e+00 -7.41709137e+00  1.05961382e+00\n",
      " -1.23618975e+01  7.81867579e-02 -6.55493784e+00 -2.88310218e+00\n",
      "  1.71534204e+00  2.94800472e+00  5.24443579e+00 -3.72250700e+00\n",
      " -6.89809370e+00 -1.73151379e+01 -1.43670774e+00 -2.08065653e+00\n",
      " -1.85635519e+00  7.57831860e+00  1.72620595e+00  5.60730553e+00\n",
      "  1.56653368e+00 -2.51909590e+00  1.17677746e+01 -3.49674791e-01\n",
      " -1.08986175e+00 -5.09190321e+00  7.29180947e-02 -3.01154113e+00\n",
      " -4.12253475e+00 -4.39886761e+00 -3.34264064e+00  5.96091986e-01\n",
      " -8.84535217e+00 -1.87820101e+00 -7.05295944e+00  2.26797795e+00\n",
      " -3.84661531e+00  9.30297017e-01 -2.42715034e+01 -9.61855650e-01\n",
      "  3.28349328e+00 -5.53909254e+00 -9.15017509e+00 -2.99247718e+00\n",
      " -5.20186996e+00  8.97731483e-02 -4.74767447e+00  1.09226966e+00\n",
      " -6.40118456e+00  2.52852726e+00  4.20021820e+00 -2.06425610e+01\n",
      " -1.07560930e+01 -2.84190598e+01  1.13802858e-01 -5.35478592e+00\n",
      " -3.30858445e+00 -2.35432148e+01 -8.41321468e+00 -9.10933304e+00\n",
      " -1.92789879e+01  6.38393545e+00  9.18845463e+00 -1.16951667e-01\n",
      " -4.78268802e-01  6.17487955e+00 -1.14305344e+01  2.65362453e+00\n",
      " -1.48419058e+00 -1.06152811e+01 -1.06622114e+01 -7.87999511e-01\n",
      " -2.33112774e+01 -2.00259209e+01 -1.71494923e+01 -4.57465506e+00\n",
      " -4.29491234e+00  5.66758633e+00 -1.25546608e+01 -1.94286270e+01\n",
      " -3.15715218e+01 -2.58777313e+01 -7.72769499e+00 -3.83949041e+00\n",
      "  4.53895092e+00 -7.68732643e+00 -2.11054535e+01  7.75786352e+00\n",
      " -2.89601650e+01  6.60833597e-01 -2.54817924e+01 -3.88331866e+00\n",
      " -3.80319748e+01 -1.16830225e+01  5.39672565e+00 -4.03268356e+01\n",
      "  2.88382912e+00  5.42343676e-01 -3.91239715e+00 -2.38255253e+01\n",
      " -2.55578470e+00 -2.65335388e+01  8.53690720e+00 -2.88925838e+01\n",
      " -4.73563337e+00 -2.58134294e+00 -3.52038269e+01 -2.53948421e+01\n",
      " -5.27670193e+00 -1.49947017e-01 -8.87279987e+00 -6.38911915e+00\n",
      " -2.07200985e+01  5.72964478e+00 -6.78316498e+00  2.64142489e+00\n",
      " -1.39710531e+01  3.56501251e-01 -2.52526712e+00  2.47824240e+00\n",
      "  2.00311446e+00 -2.87361431e+00 -1.58482180e+01  1.06431532e+00\n",
      " -1.99462974e+00 -1.10431604e+01 -1.65348301e+01 -1.16145582e+01\n",
      "  6.39950800e+00 -7.55243397e+00 -2.69794712e+01  8.38229561e+00\n",
      " -6.91845942e+00 -1.20490456e+01  2.47704101e+00 -1.06925335e+01\n",
      " -1.38112335e+01 -3.76725006e+01 -8.59014320e+00 -2.29491119e+01\n",
      " -1.46175385e+01 -1.64095831e+00 -2.15387273e+00  4.10021877e+00\n",
      " -2.94370193e+01 -1.31147947e+01 -6.92311764e+00 -2.64471817e+01\n",
      " -5.13458252e+01  2.98611212e+00  4.74326968e-01 -1.91811066e+01\n",
      " -1.64539230e+00 -9.22205734e+00 -3.45746384e+01 -3.11600065e+00\n",
      "  1.74802837e+01  6.74454689e+00 -1.28568802e+01 -9.92958164e+00\n",
      " -2.99830437e+01 -2.73792305e+01  5.66370296e+00 -1.07146235e+01\n",
      "  1.94867301e+00  7.98046017e+00 -1.96297607e+01 -6.96434355e+00\n",
      "  7.40345597e-01 -8.42608833e+00 -2.59494343e+01 -2.86655712e+01\n",
      " -9.07318306e+00  6.60375786e+00  3.58441591e+00 -9.67983913e+00\n",
      "  1.37075543e+00 -8.75131607e+00 -2.19884624e+01 -1.50239010e+01\n",
      " -1.22997055e+01 -7.57506311e-01 -2.55712872e+01 -2.68087082e+01\n",
      " -2.04044552e+01 -1.37046385e+00]' has dtype incompatible with int64, please explicitly cast to a compatible dtype first.\n",
      "  preds[val_index] = model.predict(dval_i)\n"
     ]
    },
    {
     "name": "stderr",
     "output_type": "stream",
     "text": [
      "\r",
      "100%|█████████████████████████████████████████████████████████████████████████████████████████████████████████████████████████████████████████████████████████████████████████████████████████████████████████████████████████████| 10/10 [06:07<00:00, 37.42s/it]"
     ]
    },
    {
     "name": "stderr",
     "output_type": "stream",
     "text": [
      "\r",
      "100%|█████████████████████████████████████████████████████████████████████████████████████████████████████████████████████████████████████████████████████████████████████████████████████████████████████████████████████████████| 10/10 [06:07<00:00, 36.78s/it]"
     ]
    },
    {
     "name": "stdout",
     "output_type": "stream",
     "text": [
      "OOF predictions complete\n"
     ]
    },
    {
     "name": "stderr",
     "output_type": "stream",
     "text": [
      "\n"
     ]
    }
   ],
   "source": [
    "# OOF予測\n",
    "oof_preds = []\n",
    "for i in tqdm(range(repeat_cv), leave=True, dynamic_ncols=True):\n",
    "    # 初期はターゲットの値で初期化（後で上書き）\n",
    "    preds = y.copy()\n",
    "    # 各 repeater 毎に独自の KFold を用いる（random_state = i）\n",
    "    kfold = KFold(n_splits=folds_splits, shuffle=True, random_state=i)    \n",
    "    for train_index, val_index in kfold.split(X, y):\n",
    "        dtrain_i = xgb.DMatrix(X.iloc[train_index], label=y.iloc[train_index])\n",
    "        dval_i   = xgb.DMatrix(X.iloc[val_index], label=y.iloc[val_index])\n",
    "\n",
    "        model = xgb.train(\n",
    "            params=param,\n",
    "            dtrain=dtrain_i,\n",
    "            num_boost_round=iteration_counts[i],\n",
    "            verbose_eval=50\n",
    "        )\n",
    "        preds[val_index] = model.predict(dval_i)\n",
    "    # 予測値を -30 ～ 30 にクリップ\n",
    "    oof_preds.append(np.clip(preds, -30, 30))\n",
    "\n",
    "print(\"OOF predictions complete\")"
   ]
  },
  {
   "cell_type": "code",
   "execution_count": 24,
   "id": "193a1a33",
   "metadata": {
    "execution": {
     "iopub.execute_input": "2025-03-18T08:16:26.170070Z",
     "iopub.status.busy": "2025-03-18T08:16:26.170070Z",
     "iopub.status.idle": "2025-03-18T08:16:26.323654Z",
     "shell.execute_reply": "2025-03-18T08:16:26.323654Z"
    },
    "papermill": {
     "duration": 0.187964,
     "end_time": "2025-03-18T08:16:26.323654",
     "exception": false,
     "start_time": "2025-03-18T08:16:26.135690",
     "status": "completed"
    },
    "tags": []
   },
   "outputs": [
    {
     "data": {
      "text/plain": [
       "<Axes: >"
      ]
     },
     "execution_count": 24,
     "metadata": {},
     "output_type": "execute_result"
    },
    {
     "data": {
      "image/png": "[encoded data removed]",
      "text/plain": [
       "<Figure size 640x480 with 1 Axes>"
      ]
     },
     "metadata": {},
     "output_type": "display_data"
    }
   ],
   "source": [
    "oof_preds[0].hist()"
   ]
  },
  {
   "cell_type": "code",
   "execution_count": 25,
   "id": "46302583",
   "metadata": {
    "execution": {
     "iopub.execute_input": "2025-03-18T08:16:26.372624Z",
     "iopub.status.busy": "2025-03-18T08:16:26.372624Z",
     "iopub.status.idle": "2025-03-18T08:16:26.418133Z",
     "shell.execute_reply": "2025-03-18T08:16:26.418133Z"
    },
    "papermill": {
     "duration": 0.078995,
     "end_time": "2025-03-18T08:16:26.418133",
     "exception": false,
     "start_time": "2025-03-18T08:16:26.339138",
     "status": "completed"
    },
    "tags": []
   },
   "outputs": [],
   "source": [
    "### simple spline, seed(1, 16)~(4, 13)は強制的にfiltaring,  \n",
    "### seed値に対応して予測スコアも同じ大小関係なら1or0に変換の3モデル\n",
    "def cal_logloss(pred_vals, y, i):\n",
    "    y_binary = np.where(y > 0, 1, 0)\n",
    "    loss = log_loss(y_binary, pred_vals)\n",
    "    print(f\"logloss of cvsplit {i}: {loss:.4f}\")\n",
    "\n",
    "\n",
    "    results.append(f\"Normal Spline - logloss of cvsplit {i}: {loss:.4f}\")\n",
    "    return loss\n",
    "\n",
    "#simple spline\n",
    "def make_normal_spline(df, y, repeat_cv):\n",
    "    spline_model1 = []\n",
    "    logloss_normal = []\n",
    "    \n",
    "    for i in range(repeat_cv):\n",
    "        dat = list(zip(df[i], np.where(y>0, 1, 0)))\n",
    "        dat = sorted(dat, key=lambda x:x[0])\n",
    "        datdict = {}\n",
    "        for k in range(len(dat)):\n",
    "            datdict[dat[k][0]] = dat[k][1]\n",
    "        \n",
    "        spline_model1.append(UnivariateSpline(list(datdict.keys()), list(datdict.values())))\n",
    "        spline_fit = spline_model1[i](df[i])\n",
    "        \n",
    "        loss = cal_logloss(spline_fit, y, i)    \n",
    "        logloss_normal.append(loss)\n",
    "\n",
    "    plot_df = pd.DataFrame({\n",
    "        \"pred\": df[0],\n",
    "        \"label\": np.where(y>0,1,0),\n",
    "        \"spline\": spline_model1[0](df[0])\n",
    "    })\n",
    "    plot_df[\"pred_int\"] = plot_df[\"pred\"].astype(int)\n",
    "    plot_df = plot_df.groupby('pred_int')[['spline','label']].mean().reset_index()\n",
    "    \n",
    "    plt.figure(figsize=(8, 5))\n",
    "    plt.plot(plot_df.pred_int, plot_df.label, marker='o', linestyle='-', label=\"True Label\")\n",
    "    plt.plot(plot_df.pred_int, plot_df.spline, marker='x', linestyle='--', label=\"Spline Approximation\")\n",
    "    plt.xlabel(\"Predicted Value (Integer)\")\n",
    "    plt.ylabel(\"Mean Value\")\n",
    "    plt.title(\"Normal Spline Fit Comparison\")\n",
    "    plt.legend()\n",
    "    plt.grid(True)\n",
    "    plt.savefig(os.path.join(OUTPUT_PATH, f\"normal_spline_fit_{PREDICT_YEAR}.png\"))\n",
    "    plt.close()\n",
    "    \n",
    "    \n",
    "    # 例として平均loglossもresultsに記録\n",
    "    avg_logloss = np.mean(logloss_normal) \n",
    "    results.append(f\"Average Normal Spline logloss: {avg_logloss:.4f}\" if avg_logloss is not None else \"No logloss computed\")\n",
    "    \n",
    "    return spline_model1\n",
    "            \n",
    "            \n",
    "#seed(1, 16)~(4, 13)は強制的にseed通りの結果にフィルタリング\n",
    "def make_seed1to4_chenge(df, y, repeat_cv):\n",
    "    spline_model2 = []\n",
    "    spline_fits = []\n",
    "    for i in range(repeat_cv):\n",
    "        dat = list(zip(df[i], np.where(y>0, 1, 0)))\n",
    "        dat = sorted(dat, key=lambda x:x[0])\n",
    "        datdict = {}\n",
    "        for k in range(len(dat)):\n",
    "            datdict[dat[k][0]] = dat[k][1]\n",
    "        \n",
    "        spline_model2.append(UnivariateSpline(list(datdict.keys()), list(datdict.values())))\n",
    "        spline_fit = spline_model2[i](df[i]) \n",
    "        \n",
    "        #add\n",
    "        spline_fit[(X.T1_seed==1) & (X.T2_seed==16)] = 1.0\n",
    "        spline_fit[(X.T1_seed==2) & (X.T2_seed==15)] = 0.9\n",
    "        spline_fit[(X.T1_seed==3) & (X.T2_seed==14)] = 0.8\n",
    "        spline_fit[(X.T1_seed==4) & (X.T2_seed==13)] = 0.7\n",
    "        spline_fit[(X.T1_seed==16) & (X.T2_seed==1)] = 0.0\n",
    "        spline_fit[(X.T1_seed==15) & (X.T2_seed==2)] = 0.1\n",
    "        spline_fit[(X.T1_seed==14) & (X.T2_seed==3)] = 0.2\n",
    "        spline_fit[(X.T1_seed==13) & (X.T2_seed==4)] = 0.3\n",
    "\n",
    "    \n",
    "        cal_logloss(spline_fit, y, i)   \n",
    "                \n",
    "        spline_fits.append(spline_fit)\n",
    "        cal_logloss(spline_fit, y, i)   \n",
    "                \n",
    "    \n",
    "    plot_df = pd.DataFrame({\n",
    "        \"pred\": df[0],\n",
    "        \"label\": np.where(y > 0, 1, 0),\n",
    "        \"spline\": spline_fits[0]  # 変更後の値を利用\n",
    "    })\n",
    "    plot_df[\"pred_int\"] = plot_df[\"pred\"].astype(int)\n",
    "    plot_df = plot_df.groupby(\"pred_int\")[[\"spline\", \"label\"]].mean().reset_index()\n",
    "\n",
    "    plt.figure()\n",
    "    plt.plot(plot_df.pred_int, plot_df.label, label=\"label\")\n",
    "    plt.plot(plot_df.pred_int, plot_df.spline, label=\"spline\")\n",
    "    plt.legend()\n",
    "    plt.show()\n",
    "    \n",
    "    return spline_model2\n",
    "    \n",
    "    \n",
    "#完全に値変換するのではなくてseed値に対応して予測スコアも同じ大小関係なら1or0に変換\n",
    "def make_seed1to4_base_on_score(df, y, repeat_cv):\n",
    "    spline_model3 = []\n",
    "    spline_fits = []\n",
    "\n",
    "    for i in range(repeat_cv):\n",
    "        dat = list(zip(df[i], np.where(y>0, 1, 0)))\n",
    "        dat = sorted(dat, key=lambda x:x[0])\n",
    "        datdict = {}\n",
    "        for k in range(len(dat)):\n",
    "            datdict[dat[k][0]] = dat[k][1]\n",
    "        \n",
    "        spline_model3.append(UnivariateSpline(list(datdict.keys()), list(datdict.values())))\n",
    "        spline_fit = spline_model3[i](df[i]) \n",
    "        \n",
    "        #add\n",
    "        spline_fit[(X.T1_seed==1) & (X.T2_seed==16) & (X.T1_Score > X.T2_Score)] = 1.0\n",
    "        spline_fit[(X.T1_seed==2) & (X.T2_seed==15) & (X.T1_Score > X.T2_Score)] = 1.0\n",
    "        spline_fit[(X.T1_seed==3) & (X.T2_seed==14) & (X.T1_Score > X.T2_Score)] = 1.0\n",
    "        spline_fit[(X.T1_seed==4) & (X.T2_seed==13) & (X.T1_Score > X.T2_Score)] = 1.0\n",
    "        spline_fit[(X.T1_seed==16) & (X.T2_seed==1) & (X.T1_Score < X.T2_Score)] = 0.0\n",
    "        spline_fit[(X.T1_seed==15) & (X.T2_seed==2) & (X.T1_Score < X.T2_Score)] = 0.0\n",
    "        spline_fit[(X.T1_seed==14) & (X.T2_seed==3) & (X.T1_Score < X.T2_Score)] = 0.0\n",
    "        spline_fit[(X.T1_seed==13) & (X.T2_seed==4) & (X.T1_Score < X.T2_Score)] = 0.0\n",
    "\n",
    "        spline_fits.append(spline_fit)\n",
    "        cal_logloss(spline_fit, y, i)   \n",
    "    \n",
    "    \n",
    "    plot_df = pd.DataFrame({\n",
    "        \"pred\": df[0],\n",
    "        \"label\": np.where(y > 0, 1, 0),\n",
    "        \"spline\": spline_fits[0]  # 変更後の値を利用\n",
    "    })\n",
    "    plot_df[\"pred_int\"] = plot_df[\"pred\"].astype(int)\n",
    "    plot_df = plot_df.groupby(\"pred_int\")[[\"spline\", \"label\"]].mean().reset_index()\n",
    "\n",
    "    plt.figure()\n",
    "    plt.plot(plot_df.pred_int, plot_df.label, label=\"label\")\n",
    "    plt.plot(plot_df.pred_int, plot_df.spline, label=\"spline\")\n",
    "    plt.legend()\n",
    "    plt.show()\n",
    "    return spline_model3\n",
    "\n",
    "\n",
    "\n",
    "# Platt Scalingを用いた補正曲線生成の関数 (ロジスティック回帰)\n",
    "def make_platt_scaling(df, y, repeat_cv):\n",
    "    platt_models = []\n",
    "    logloss_platt = []\n",
    "    \n",
    "    for i in range(repeat_cv):\n",
    "        X_train = np.array(df[i]).reshape(-1, 1)\n",
    "        y_binary = np.where(y > 0, 1, 0)\n",
    "        \n",
    "        model = LogisticRegression(random_state=42, solver='lbfgs')\n",
    "        model.fit(X_train, y_binary)\n",
    "        platt_models.append(model)\n",
    "        \n",
    "\n",
    "        platt_fit = model.predict_proba(X_train)[:, 1]\n",
    "        loss = cal_logloss(platt_fit, y, i)\n",
    "        logloss_platt.append(loss)\n",
    "    \n",
    "    \n",
    "    ###\n",
    "    plot_df = pd.DataFrame({\n",
    "        \"pred\": df[0],\n",
    "        \"label\": np.where(y > 0, 1, 0),\n",
    "        \"platt\": platt_models[0].predict_proba(np.array(df[0]).reshape(-1, 1))[:, 1]\n",
    "    })\n",
    "    plot_df[\"pred_int\"] = plot_df[\"pred\"].astype(int)\n",
    "    plot_df = plot_df.groupby(\"pred_int\")[[\"platt\", \"label\"]].mean().reset_index()\n",
    "    \n",
    "    plt.figure(figsize=(8, 5))\n",
    "    plt.plot(plot_df.pred_int, plot_df.label, marker='o', linestyle='-', label=\"True Label\")\n",
    "    plt.plot(plot_df.pred_int, plot_df.platt, marker='x', linestyle='--', label=\"Platt Scaling\")\n",
    "    plt.xlabel(\"Predicted Value (Integer)\")\n",
    "    plt.ylabel(\"Mean Value\")\n",
    "    plt.title(\"Platt Scaling Calibration Curve\")\n",
    "    plt.legend()\n",
    "    plt.grid(True)\n",
    "    plt.savefig(os.path.join(OUTPUT_PATH, f\"platt_scaling_fit_{PREDICT_YEAR}.png\"))\n",
    "    plt.close()\n",
    "    \n",
    "    avg_logloss = np.mean(logloss_platt)\n",
    "    results.append(f\"Average Platt Scaling logloss: {avg_logloss:.4f}\" if avg_logloss is not None else \"No logloss computed\")\n",
    "    \n",
    "    return platt_models\n",
    "\n",
    "def make_isotonic_regression(df, y, repeat_cv):\n",
    "    \"\"\" Isotonic Regression を用いた補正曲線生成 \"\"\"\n",
    "    isotonic_models = []\n",
    "    logloss_isotonic = []\n",
    "    \n",
    "    for i in range(repeat_cv):\n",
    "        X_train = np.array(df[i]).reshape(-1, 1)\n",
    "        y_binary = np.where(y > 0, 1, 0)\n",
    "        \n",
    "        model = IsotonicRegression(out_of_bounds=\"clip\")\n",
    "        model.fit(X_train.ravel(), y_binary)\n",
    "        isotonic_models.append(model)\n",
    "        \n",
    "        isotonic_fit = model.predict(X_train.ravel())\n",
    "        loss = cal_logloss(isotonic_fit, y, i)\n",
    "        logloss_isotonic.append(loss)\n",
    "    \n",
    "    plot_df = pd.DataFrame({\n",
    "        \"pred\": df[0],\n",
    "        \"label\": np.where(y > 0, 1, 0),\n",
    "        \"isotonic\": isotonic_models[0].predict(np.array(df[0]).reshape(-1, 1))\n",
    "    })\n",
    "    plot_df[\"pred_int\"] = plot_df[\"pred\"].astype(int)\n",
    "    plot_df = plot_df.groupby(\"pred_int\")[[\"isotonic\", \"label\"]].mean().reset_index()\n",
    "    \n",
    "    plt.figure(figsize=(8, 5))\n",
    "    plt.plot(plot_df.pred_int, plot_df.label, marker='o', linestyle='-', label=\"True Label\")\n",
    "    plt.plot(plot_df.pred_int, plot_df.isotonic, marker='x', linestyle='--', label=\"Isotonic Regression\")\n",
    "    plt.xlabel(\"Predicted Value (Integer)\")\n",
    "    plt.ylabel(\"Mean Value\")\n",
    "    plt.title(\"Isotonic Regression Calibration Curve\")\n",
    "    plt.legend()\n",
    "    plt.grid(True)\n",
    "    plt.savefig(os.path.join(OUTPUT_PATH, f\"isotonic_regression_fit_{PREDICT_YEAR}.png\"))\n",
    "    plt.close()\n",
    "    \n",
    "    avg_logloss = np.mean(logloss_isotonic)\n",
    "    results.append(f\"Average Isotonic Regression logloss: {avg_logloss:.4f}\" if avg_logloss is not None else \"No logloss computed\")\n",
    "    \n",
    "    return isotonic_models\n",
    "\n"
   ]
  },
  {
   "cell_type": "code",
   "execution_count": 26,
   "id": "64cb53b5",
   "metadata": {
    "execution": {
     "iopub.execute_input": "2025-03-18T08:16:26.458303Z",
     "iopub.status.busy": "2025-03-18T08:16:26.458303Z",
     "iopub.status.idle": "2025-03-18T08:16:26.479277Z",
     "shell.execute_reply": "2025-03-18T08:16:26.479277Z"
    },
    "papermill": {
     "duration": 0.036769,
     "end_time": "2025-03-18T08:16:26.479277",
     "exception": false,
     "start_time": "2025-03-18T08:16:26.442508",
     "status": "completed"
    },
    "tags": []
   },
   "outputs": [],
   "source": [
    "# キャリブレーションカーブの描画関数\n",
    "def plot_calibration_curve(y_true, y_pred_proba, method, save_path):\n",
    "    \"\"\" キャリブレーションカーブをプロットし保存 \"\"\"\n",
    "    y_binary = np.where(y_true > 0, 1, 0) \n",
    "    prob_true, prob_pred = calibration_curve(y_binary, y_pred_proba, n_bins=10)\n",
    "    \n",
    "    plt.figure(figsize=(6,6))\n",
    "    plt.plot(prob_pred, prob_true, marker=\"o\", label=f\"{method} Calibration\")\n",
    "    plt.plot([0, 1], [0, 1], linestyle=\"--\", label=\"Perfect Calibration\")\n",
    "    plt.xlabel(\"Predicted Probability\")\n",
    "    plt.ylabel(\"Actual Probability\")\n",
    "    plt.legend()\n",
    "    plt.title(f\"{method} Calibration Curve\")\n",
    "    plt.grid()\n",
    "    plt.savefig(save_path)\n",
    "    plt.close()\n",
    "\n"
   ]
  },
  {
   "cell_type": "code",
   "execution_count": 27,
   "id": "c31b4a08",
   "metadata": {
    "execution": {
     "iopub.execute_input": "2025-03-18T08:16:26.530619Z",
     "iopub.status.busy": "2025-03-18T08:16:26.530619Z",
     "iopub.status.idle": "2025-03-18T08:16:26.869892Z",
     "shell.execute_reply": "2025-03-18T08:16:26.869892Z"
    },
    "papermill": {
     "duration": 0.379585,
     "end_time": "2025-03-18T08:16:26.869892",
     "exception": false,
     "start_time": "2025-03-18T08:16:26.490307",
     "status": "completed"
    },
    "tags": []
   },
   "outputs": [
    {
     "name": "stdout",
     "output_type": "stream",
     "text": [
      "logloss of cvsplit 0: 0.5094\n",
      "logloss of cvsplit 1: 0.5067\n",
      "logloss of cvsplit 2: 0.5061\n",
      "logloss of cvsplit 3: 0.5033\n",
      "logloss of cvsplit 4: 0.5058\n",
      "logloss of cvsplit 5: 0.5046\n",
      "logloss of cvsplit 6: 0.5063\n",
      "logloss of cvsplit 7: 0.5091\n",
      "logloss of cvsplit 8: 0.5067\n",
      "logloss of cvsplit 9: 0.5046\n"
     ]
    }
   ],
   "source": [
    "# キャリブレーション手法の選択\n",
    "spline = MODEL.spline\n",
    "if spline == \"spline_normal\":\n",
    "    spline_model = make_normal_spline(oof_preds, y, repeat_cv)\n",
    "    calibrated_preds = spline_model[0](oof_preds[0])\n",
    "    plot_calibration_curve(y, calibrated_preds, \"Spline Normal\", os.path.join(OUTPUT_PATH, f\"spline_normal_calibration_{PREDICT_YEAR}.png\"))\n",
    "    \n",
    "elif spline == \"logistic\":\n",
    "    spline_model = make_platt_scaling(oof_preds, y, repeat_cv)\n",
    "    calibrated_preds = spline_model[0].predict_proba(np.array(oof_preds[0]).reshape(-1, 1))[:, 1]\n",
    "    plot_calibration_curve(y, calibrated_preds, \"Platt Scaling\", os.path.join(OUTPUT_PATH, f\"platt_scaling_calibration_{PREDICT_YEAR}.png\"))\n",
    "    \n",
    "elif spline == \"isotonic\":\n",
    "    spline_model = make_isotonic_regression(oof_preds, y, repeat_cv)\n",
    "    calibrated_preds = spline_model[0].predict(np.array(oof_preds[0]).reshape(-1, 1))\n",
    "    plot_calibration_curve(y, calibrated_preds, \"Isotonic Regression\", os.path.join(OUTPUT_PATH, f\"isotonic_regression_calibration_{PREDICT_YEAR}.png\"))"
   ]
  },
  {
   "cell_type": "markdown",
   "id": "897606de",
   "metadata": {
    "papermill": {
     "duration": 0.015854,
     "end_time": "2025-03-18T08:16:26.905214",
     "exception": false,
     "start_time": "2025-03-18T08:16:26.889360",
     "status": "completed"
    },
    "tags": []
   },
   "source": [
    "# submmit\n",
    "\n",
    "同じfeature engineeringする.\n",
    "\n",
    "個々の扱うも考える。2025は最終提出用の関数を用意する、その他2024以前は過去コンペでの提出形式に合わせる、でも年度によって提出形式が変わるからとりあえず2023でやる"
   ]
  },
  {
   "cell_type": "code",
   "execution_count": 28,
   "id": "0e84bc43",
   "metadata": {
    "execution": {
     "iopub.execute_input": "2025-03-18T08:16:26.971390Z",
     "iopub.status.busy": "2025-03-18T08:16:26.971390Z",
     "iopub.status.idle": "2025-03-18T08:16:26.981284Z",
     "shell.execute_reply": "2025-03-18T08:16:26.981284Z"
    },
    "papermill": {
     "duration": 0.044015,
     "end_time": "2025-03-18T08:16:26.981284",
     "exception": false,
     "start_time": "2025-03-18T08:16:26.937269",
     "status": "completed"
    },
    "tags": []
   },
   "outputs": [
    {
     "data": {
      "text/plain": [
       "'if PREDICT_YEAR==2022:\\n    sub = pd.read_csv(os.path.join(INPUT_PATH, \"SampleSubmission2022M.csv\"))\\n    sub[\\'Season\\'] = sub[\\'ID\\'].apply(lambda x: int(x.split(\\'_\\')[0]))\\n    sub[\"T1_TeamID\"] = sub[\\'ID\\'].apply(lambda x: int(x.split(\\'_\\')[1]))\\n    sub[\"T2_TeamID\"] = sub[\\'ID\\'].apply(lambda x: int(x.split(\\'_\\')[2]))\\n    sub_X, a = process_tourney(sub, mode = \"sub\")\\n    dtest = xgb.DMatrix(sub_X)\\nelif PREDICT_YEAR==2023:\\n    sub = pd.read_csv(os.path.join(INPUT_PATH, \"SampleSubmission2023.csv\"))\\n    sub[\\'Season\\'] = sub[\\'ID\\'].apply(lambda x: int(x.split(\\'_\\')[0]))\\n    sub[\"T1_TeamID\"] = sub[\\'ID\\'].apply(lambda x: int(x.split(\\'_\\')[1]))\\n    sub[\"T2_TeamID\"] = sub[\\'ID\\'].apply(lambda x: int(x.split(\\'_\\')[2]))\\n    sub_X, a = process_tourney(sub, mode = \"sub\")\\n    dtest = xgb.DMatrix(sub_X)\\nelif PREDICT_YEAR==2024:\\n    sub = pd.read_csv(os.path.join(INPUT_PATH, \"SampleSubmission2024.csv\"))\\n    sub[\\'Season\\'] = sub[\\'ID\\'].apply(lambda x: int(x.split(\\'_\\')[0]))\\n    sub[\"T1_TeamID\"] = sub[\\'ID\\'].apply(lambda x: int(x.split(\\'_\\')[1]))\\n    sub[\"T2_TeamID\"] = sub[\\'ID\\'].apply(lambda x: int(x.split(\\'_\\')[2]))\\n    sub_X, a = process_tourney(sub, mode = \"sub\")\\n    dtest = xgb.DMatrix(sub_X)\\nelif PREDICT_YEAR==2025:\\n    sub = pd.read_csv(os.path.join(INPUT_PATH, \"SampleSubmissionStage2.csv\"))\\n    sub[\\'Season\\'] = sub[\\'ID\\'].apply(lambda x: int(x.split(\\'_\\')[0]))\\n    sub[\"T1_TeamID\"] = sub[\\'ID\\'].apply(lambda x: int(x.split(\\'_\\')[1]))\\n    sub[\"T2_TeamID\"] = sub[\\'ID\\'].apply(lambda x: int(x.split(\\'_\\')[2]))   \\n    sub_X, a = process_tourney(sub, mode = \"sub\")\\n    dtest = xgb.DMatrix(sub_X)'"
      ]
     },
     "execution_count": 28,
     "metadata": {},
     "output_type": "execute_result"
    }
   ],
   "source": [
    "\"\"\"if PREDICT_YEAR==2022:\n",
    "    sub = pd.read_csv(os.path.join(INPUT_PATH, \"SampleSubmission2022M.csv\"))\n",
    "    sub['Season'] = sub['ID'].apply(lambda x: int(x.split('_')[0]))\n",
    "    sub[\"T1_TeamID\"] = sub['ID'].apply(lambda x: int(x.split('_')[1]))\n",
    "    sub[\"T2_TeamID\"] = sub['ID'].apply(lambda x: int(x.split('_')[2]))\n",
    "    sub_X, a = process_tourney(sub, mode = \"sub\")\n",
    "    dtest = xgb.DMatrix(sub_X)\n",
    "elif PREDICT_YEAR==2023:\n",
    "    sub = pd.read_csv(os.path.join(INPUT_PATH, \"SampleSubmission2023.csv\"))\n",
    "    sub['Season'] = sub['ID'].apply(lambda x: int(x.split('_')[0]))\n",
    "    sub[\"T1_TeamID\"] = sub['ID'].apply(lambda x: int(x.split('_')[1]))\n",
    "    sub[\"T2_TeamID\"] = sub['ID'].apply(lambda x: int(x.split('_')[2]))\n",
    "    sub_X, a = process_tourney(sub, mode = \"sub\")\n",
    "    dtest = xgb.DMatrix(sub_X)\n",
    "elif PREDICT_YEAR==2024:\n",
    "    sub = pd.read_csv(os.path.join(INPUT_PATH, \"SampleSubmission2024.csv\"))\n",
    "    sub['Season'] = sub['ID'].apply(lambda x: int(x.split('_')[0]))\n",
    "    sub[\"T1_TeamID\"] = sub['ID'].apply(lambda x: int(x.split('_')[1]))\n",
    "    sub[\"T2_TeamID\"] = sub['ID'].apply(lambda x: int(x.split('_')[2]))\n",
    "    sub_X, a = process_tourney(sub, mode = \"sub\")\n",
    "    dtest = xgb.DMatrix(sub_X)\n",
    "elif PREDICT_YEAR==2025:\n",
    "    sub = pd.read_csv(os.path.join(INPUT_PATH, \"SampleSubmissionStage2.csv\"))\n",
    "    sub['Season'] = sub['ID'].apply(lambda x: int(x.split('_')[0]))\n",
    "    sub[\"T1_TeamID\"] = sub['ID'].apply(lambda x: int(x.split('_')[1]))\n",
    "    sub[\"T2_TeamID\"] = sub['ID'].apply(lambda x: int(x.split('_')[2]))   \n",
    "    sub_X, a = process_tourney(sub, mode = \"sub\")\n",
    "    dtest = xgb.DMatrix(sub_X)\"\"\"\n",
    "    "
   ]
  },
  {
   "cell_type": "code",
   "execution_count": 29,
   "id": "85a1a7ff",
   "metadata": {
    "execution": {
     "iopub.execute_input": "2025-03-18T08:16:27.042532Z",
     "iopub.status.busy": "2025-03-18T08:16:27.042532Z",
     "iopub.status.idle": "2025-03-18T08:16:27.144897Z",
     "shell.execute_reply": "2025-03-18T08:16:27.144897Z"
    },
    "papermill": {
     "duration": 0.141807,
     "end_time": "2025-03-18T08:16:27.144897",
     "exception": false,
     "start_time": "2025-03-18T08:16:27.003090",
     "status": "completed"
    },
    "tags": []
   },
   "outputs": [
    {
     "name": "stdout",
     "output_type": "stream",
     "text": [
      "no fillna, use nan\n",
      "drop col list: ['T1_TOmean', 'T2_TOmean', 'T1_opponent_POSS_RATEmean', 'T2_opponent_POSS_RATEmean', 'T1_opponent_Astmean', 'T2_opponent_Astmean', 'T1_opponent_FT_RATEmean', 'T2_opponent_FT_RATEmean', 'T1_opponent_Stlmean', 'T2_opponent_Stlmean', 'T1_ORmean', 'T2_ORmean', 'T1_opponent_ORmean', 'T2_opponent_ORmean', 'T1_TeamID', 'T2_TeamID', 'Season']\n"
     ]
    }
   ],
   "source": [
    "sub = notexist.copy()\n",
    "sub = sub.rename(columns={\"WTeamID\": \"T1_TeamID\", \"LTeamID\": \"T2_TeamID\"})\n",
    "sub = sub[[\"Season\", \"T1_TeamID\", \"T2_TeamID\"]]\n",
    "temp = sub.copy()\n",
    "temp = temp.rename(columns={\"T1_TeamID\": \"T2_TeamID\", \"T2_TeamID\": \"T1_TeamID\"})\n",
    "sub = pd.concat([sub, temp]).reset_index()\n",
    "sub_X, a = process_tourney(sub, mode=\"sub\")\n",
    "sub_X = drop_columns(sub_X, drop_col)\n",
    "dtest = xgb.DMatrix(sub_X)"
   ]
  },
  {
   "cell_type": "code",
   "execution_count": 30,
   "id": "56ba4e62",
   "metadata": {
    "execution": {
     "iopub.execute_input": "2025-03-18T08:16:27.224663Z",
     "iopub.status.busy": "2025-03-18T08:16:27.224663Z",
     "iopub.status.idle": "2025-03-18T08:17:52.580305Z",
     "shell.execute_reply": "2025-03-18T08:17:52.580305Z"
    },
    "papermill": {
     "duration": 85.406238,
     "end_time": "2025-03-18T08:17:52.582312",
     "exception": false,
     "start_time": "2025-03-18T08:16:27.176074",
     "status": "completed"
    },
    "tags": []
   },
   "outputs": [
    {
     "name": "stderr",
     "output_type": "stream",
     "text": [
      "\r",
      "  0%|                                                                                                                                                                                                                                      | 0/10 [00:00<?, ?it/s]"
     ]
    },
    {
     "name": "stderr",
     "output_type": "stream",
     "text": [
      "\r",
      " 10%|██████████████████████▏                                                                                                                                                                                                       | 1/10 [00:08<01:13,  8.20s/it]"
     ]
    },
    {
     "name": "stderr",
     "output_type": "stream",
     "text": [
      "\r",
      " 20%|████████████████████████████████████████████▍                                                                                                                                                                                 | 2/10 [00:15<01:02,  7.83s/it]"
     ]
    },
    {
     "name": "stderr",
     "output_type": "stream",
     "text": [
      "\r",
      " 30%|██████████████████████████████████████████████████████████████████▌                                                                                                                                                           | 3/10 [00:23<00:54,  7.85s/it]"
     ]
    },
    {
     "name": "stderr",
     "output_type": "stream",
     "text": [
      "\r",
      " 40%|████████████████████████████████████████████████████████████████████████████████████████▊                                                                                                                                     | 4/10 [00:32<00:49,  8.22s/it]"
     ]
    },
    {
     "name": "stderr",
     "output_type": "stream",
     "text": [
      "\r",
      " 50%|███████████████████████████████████████████████████████████████████████████████████████████████████████████████                                                                                                               | 5/10 [00:41<00:43,  8.69s/it]"
     ]
    },
    {
     "name": "stderr",
     "output_type": "stream",
     "text": [
      "\r",
      " 60%|█████████████████████████████████████████████████████████████████████████████████████████████████████████████████████████████████████▏                                                                                        | 6/10 [00:50<00:34,  8.69s/it]"
     ]
    },
    {
     "name": "stderr",
     "output_type": "stream",
     "text": [
      "\r",
      " 70%|███████████████████████████████████████████████████████████████████████████████████████████████████████████████████████████████████████████████████████████▍                                                                  | 7/10 [00:59<00:26,  8.70s/it]"
     ]
    },
    {
     "name": "stderr",
     "output_type": "stream",
     "text": [
      "\r",
      " 80%|█████████████████████████████████████████████████████████████████████████████████████████████████████████████████████████████████████████████████████████████████████████████████▌                                            | 8/10 [01:07<00:17,  8.53s/it]"
     ]
    },
    {
     "name": "stderr",
     "output_type": "stream",
     "text": [
      "\r",
      " 90%|███████████████████████████████████████████████████████████████████████████████████████████████████████████████████████████████████████████████████████████████████████████████████████████████████████▊                      | 9/10 [01:16<00:08,  8.57s/it]"
     ]
    },
    {
     "name": "stderr",
     "output_type": "stream",
     "text": [
      "\r",
      "100%|█████████████████████████████████████████████████████████████████████████████████████████████████████████████████████████████████████████████████████████████████████████████████████████████████████████████████████████████| 10/10 [01:25<00:00,  8.75s/it]"
     ]
    },
    {
     "name": "stderr",
     "output_type": "stream",
     "text": [
      "\r",
      "100%|█████████████████████████████████████████████████████████████████████████████████████████████████████████████████████████████████████████████████████████████████████████████████████████████████████████████████████████████| 10/10 [01:25<00:00,  8.54s/it]"
     ]
    },
    {
     "name": "stderr",
     "output_type": "stream",
     "text": [
      "\n"
     ]
    }
   ],
   "source": [
    "sub_models = []\n",
    "#sokutionではカスタム関数の指定、早期停止の言及がここではなかった。検討する\n",
    "for i in tqdm(range(repeat_cv), leave=True, dynamic_ncols=True):\n",
    "    sub_models.append(\n",
    "        xgb.train(\n",
    "          params = param,\n",
    "          dtrain = dtrain,\n",
    "          obj=cauchyobj,\n",
    "          num_boost_round = int(iteration_counts[i] * 1.05),\n",
    "          #early_stopping_rounds=early_stopping_rounds, #これ指定してない、指定するのかあと、指定するとしても少し遅くさせるとか\n",
    "          verbose_eval = 50\n",
    "        )\n",
    "    )"
   ]
  },
  {
   "cell_type": "markdown",
   "id": "6393d76a",
   "metadata": {
    "papermill": {
     "duration": 0.034182,
     "end_time": "2025-03-18T08:17:52.653528",
     "exception": false,
     "start_time": "2025-03-18T08:17:52.619346",
     "status": "completed"
    },
    "tags": []
   },
   "source": [
    "各特徴量の寄与度を算出"
   ]
  },
  {
   "cell_type": "code",
   "execution_count": 31,
   "id": "eb2458ff",
   "metadata": {
    "execution": {
     "iopub.execute_input": "2025-03-18T08:17:52.709188Z",
     "iopub.status.busy": "2025-03-18T08:17:52.693411Z",
     "iopub.status.idle": "2025-03-18T08:17:53.424307Z",
     "shell.execute_reply": "2025-03-18T08:17:53.424307Z"
    },
    "papermill": {
     "duration": 0.747468,
     "end_time": "2025-03-18T08:17:53.424307",
     "exception": false,
     "start_time": "2025-03-18T08:17:52.676839",
     "status": "completed"
    },
    "tags": []
   },
   "outputs": [
    {
     "data": {
      "image/png": "[encoded data removed]",
      "text/plain": [
       "<Figure size 1000x600 with 1 Axes>"
      ]
     },
     "metadata": {},
     "output_type": "display_data"
    }
   ],
   "source": [
    "feature_importances = collections.defaultdict(list)\n",
    "for model in sub_models:\n",
    "    importance = model.get_score(importance_type='gain')\n",
    "    for feat, score in importance.items():\n",
    "        feature_importances[feat].append(score)\n",
    "\n",
    "avg_importance = {feat: sum(scores) / len(scores) for feat, scores in feature_importances.items()}\n",
    "fi_df = pd.DataFrame(list(avg_importance.items()), columns=['Feature', 'Avg_Gain'])\n",
    "fi_df.sort_values(by='Avg_Gain', ascending=False, inplace=True)\n",
    "results.append(\"\")\n",
    "fi_log = \"-----Feature Importance (Average Gain)-----\\n\"\n",
    "for feat, score in fi_df.values:\n",
    "    fi_log += f\"{feat}: {score:.4f}\\n\"\n",
    "results.append(fi_log)\n",
    "results.append(\"\")\n",
    "\n",
    "plt.figure(figsize=(10, 6))\n",
    "plt.bar(fi_df['Feature'], fi_df['Avg_Gain'])\n",
    "plt.xlabel('Feature')\n",
    "plt.ylabel('Average Gain')\n",
    "plt.title('Feature Importance (Average Gain)')\n",
    "plt.xticks(rotation=45)\n",
    "plt.tight_layout() \n",
    "\n",
    "plt.savefig(os.path.join(OUTPUT_PATH, f\"feature_importance_{PREDICT_YEAR}.png\"))\n",
    "plt.show()"
   ]
  },
  {
   "cell_type": "code",
   "execution_count": 32,
   "id": "8f4dbde9",
   "metadata": {
    "execution": {
     "iopub.execute_input": "2025-03-18T08:17:53.487032Z",
     "iopub.status.busy": "2025-03-18T08:17:53.487032Z",
     "iopub.status.idle": "2025-03-18T08:17:53.595054Z",
     "shell.execute_reply": "2025-03-18T08:17:53.595054Z"
    },
    "papermill": {
     "duration": 0.148388,
     "end_time": "2025-03-18T08:17:53.597065",
     "exception": false,
     "start_time": "2025-03-18T08:17:53.448677",
     "status": "completed"
    },
    "tags": []
   },
   "outputs": [
    {
     "name": "stderr",
     "output_type": "stream",
     "text": [
      "\r",
      "  0%|                                                                                                                                                                                                                                      | 0/10 [00:00<?, ?it/s]"
     ]
    },
    {
     "name": "stderr",
     "output_type": "stream",
     "text": [
      "\r",
      "100%|████████████████████████████████████████████████████████████████████████████████████████████████████████████████████████████████████████████████████████████████████████████████████████████████████████████████████████████| 10/10 [00:00<00:00, 105.23it/s]"
     ]
    },
    {
     "name": "stderr",
     "output_type": "stream",
     "text": [
      "\n"
     ]
    }
   ],
   "source": [
    "sub_preds = []\n",
    "for i in tqdm(range(repeat_cv)):\n",
    "    if spline == \"spline_normal\":\n",
    "        sub_preds.append(np.clip(spline_model[i](np.clip(sub_models[i].predict(dtest), -30, 30)), 0.025, 0.975))\n",
    "    \n",
    "    elif spline == \"logistic\":\n",
    "        X_input = np.clip(sub_models[i].predict(dtest), -30, 30).reshape(-1, 1)\n",
    "        platt_pred = spline_model[i].predict_proba(X_input)[:, 1]\n",
    "        sub_preds.append(np.clip(platt_pred, 0.025, 0.975))\n",
    "\n",
    "    elif spline == \"isotonic\":\n",
    "        X_input = np.clip(sub_models[i].predict(dtest), -30, 30).reshape(-1, 1)\n",
    "        iso_pred = spline_model[i].predict(X_input)  # Isotonic Regression の適用\n",
    "        sub_preds.append(np.clip(iso_pred, 0.025, 0.975))\n",
    "\n",
    "sub[\"Pred\"] = np.mean(np.vstack(sub_preds), axis=0)"
   ]
  },
  {
   "cell_type": "code",
   "execution_count": 33,
   "id": "4370166f",
   "metadata": {
    "execution": {
     "iopub.execute_input": "2025-03-18T08:17:53.682676Z",
     "iopub.status.busy": "2025-03-18T08:17:53.680663Z",
     "iopub.status.idle": "2025-03-18T08:17:53.696581Z",
     "shell.execute_reply": "2025-03-18T08:17:53.696581Z"
    },
    "papermill": {
     "duration": 0.059462,
     "end_time": "2025-03-18T08:17:53.696581",
     "exception": false,
     "start_time": "2025-03-18T08:17:53.637119",
     "status": "completed"
    },
    "tags": []
   },
   "outputs": [
    {
     "name": "stdout",
     "output_type": "stream",
     "text": [
      "skip data flip\n"
     ]
    }
   ],
   "source": [
    "# 予測時にテストデータID反転させて予測して平均取る\n",
    "# dtestの用意とsub_predsの算出を同じようにやる\n",
    "# sub[\"Pred\"]を反転させたやつとの平均取ったやつにする\n",
    "TEST_REVERSE = MODEL.test_reverse\n",
    "\n",
    "if TEST_REVERSE:\n",
    "    print(\"----- data flip -----\") \n",
    "    sub_reverse = notexist.copy()\n",
    "    sub_reverse = sub_reverse.rename(columns={\"WTeamID\": \"T2_TeamID\", \"LTeamID\": \"T1_TeamID\"})#reverse!!\n",
    "    temp_reverse = sub_reverse.copy()\n",
    "    temp = temp.rename(columns={\"T1_TeamID\": \"T2_TeamID\", \"T2_TeamID\": \"T1_TeamID\"})\n",
    "    sub_reverse = pd.concat([sub_reverse, temp_reverse]).reset_index()\n",
    "    sub_reverse_X, a = process_tourney(sub_reverse, mode=\"sub\")\n",
    "    sub_reverse_X = drop_columns(sub_reverse_X, drop_col)\n",
    "    dtest_reverse = xgb.DMatrix(sub_reverse_X)\n",
    "    \n",
    "    sub_preds_reverse = []\n",
    "    for i in tqdm(range(repeat_cv)):\n",
    "        if spline == \"spline_normal\":\n",
    "            sub_preds_reverse.append(np.clip(spline_model[i](np.clip(sub_models[i].predict(dtest_reverse), -30, 30)), 0.025, 0.975))\n",
    "        \n",
    "        elif spline == \"logistic\":\n",
    "            X_input = np.clip(sub_models[i].predict(dtest_reverse), -30, 30).reshape(-1, 1)\n",
    "            platt_pred = spline_model[i].predict_proba(X_input)[:, 1]\n",
    "            sub_preds_reverse.append(np.clip(platt_pred, 0.025, 0.975))\n",
    "\n",
    "        elif spline == \"isotonic\":\n",
    "            X_input = np.clip(sub_models[i].predict(dtest_reverse), -30, 30).reshape(-1, 1)\n",
    "            iso_pred = spline_model[i].predict(X_input)  # Isotonic Regression の適用\n",
    "            sub_preds_reverse.append(np.clip(iso_pred, 0.025, 0.975))\n",
    "\n",
    "    sub_reverse[\"Pred\"] = np.mean(np.vstack(sub_preds_reverse), axis=0)\n",
    "    \n",
    " \n",
    "    #sub[\"Pred\"]を (sub[\"Pred\"] + (1-sub_reverse[\"Pred\"]))/2に塗り替える(平均取る)\n",
    "    sub[\"Pred\"] = (sub[\"Pred\"] + (1-sub_reverse[\"Pred\"]))/2\n",
    "\n",
    "\n",
    "else:\n",
    "    print(\"skip data flip\")"
   ]
  },
  {
   "cell_type": "code",
   "execution_count": 34,
   "id": "76665f8d",
   "metadata": {
    "execution": {
     "iopub.execute_input": "2025-03-18T08:17:53.743069Z",
     "iopub.status.busy": "2025-03-18T08:17:53.743069Z",
     "iopub.status.idle": "2025-03-18T08:17:53.764139Z",
     "shell.execute_reply": "2025-03-18T08:17:53.764139Z"
    },
    "papermill": {
     "duration": 0.05269,
     "end_time": "2025-03-18T08:17:53.764139",
     "exception": false,
     "start_time": "2025-03-18T08:17:53.711449",
     "status": "completed"
    },
    "tags": []
   },
   "outputs": [],
   "source": [
    "# teams:64team, targetを受け取って、そのtarget teamの試合可能性のある全63試合を抽出する関数\n",
    "def extract_target_team_records(submission_df, teams, target_team):\n",
    "    if target_team not in teams:\n",
    "        raise ValueError(f\"target_team {target_team} は teams 内に存在しません\")\n",
    "\n",
    "    remaining_teams = [t for t in teams if t != target_team]\n",
    "    \n",
    "    records = []\n",
    "    for other_team in remaining_teams:\n",
    "        lower = min(target_team, other_team)\n",
    "        higher = max(target_team, other_team)\n",
    "        row = submission_df[(submission_df['T1_TeamID'] == lower) & (submission_df['T2_TeamID'] == higher)]\n",
    "        if row.empty:\n",
    "            print(f\"Warning: 対戦 {lower} vs {higher} に対応するレコードが見つかりませんでした\")\n",
    "        else:\n",
    "            records.append(row)\n",
    "    \n",
    "    if records:\n",
    "        final_records = pd.concat(records, ignore_index=True)\n",
    "    else:\n",
    "        final_records = pd.DataFrame()\n",
    "    \n",
    "    if len(final_records) != 63:\n",
    "        print(f\"Warning: 期待される63件ではなく、{len(final_records)}件のレコードが抽出されました。\")\n",
    "    \n",
    "    return final_records\n"
   ]
  },
  {
   "cell_type": "code",
   "execution_count": 35,
   "id": "2bce46a3",
   "metadata": {
    "execution": {
     "iopub.execute_input": "2025-03-18T08:17:53.831339Z",
     "iopub.status.busy": "2025-03-18T08:17:53.831339Z",
     "iopub.status.idle": "2025-03-18T08:17:53.839843Z",
     "shell.execute_reply": "2025-03-18T08:17:53.839313Z"
    },
    "papermill": {
     "duration": 0.048852,
     "end_time": "2025-03-18T08:17:53.839843",
     "exception": false,
     "start_time": "2025-03-18T08:17:53.790991",
     "status": "completed"
    },
    "tags": []
   },
   "outputs": [],
   "source": [
    "tourney_teams_2023 = [\n",
    "    1395, 1113,   # TCU1395, アリゾナ・ステイト1113\n",
    "    1231, 1245,   # インディアナ1231, ケント・ステイト1245\n",
    "    1243, 1286,   # カンザス・ステイト1243, モンタナ・ステイト1286\n",
    "    1272, 1194,   # メンフィス1272, ﾌﾛﾘﾀﾞ･ｱﾄﾗﾝﾃｨｯｸ1194\n",
    "    1211, 1213,   # ゴンザガ1211, グランド・キャニオン1213\n",
    "    1274, 1179,   # マイアミ（フロリダ）1274, ドレイク1179\n",
    "    1243, 1286,   # ケンタッキー1243, プロビデンス1286\n",
    "    1345, 1192,   # パデュー1345, ﾌｪｱﾘｰ･ﾃﾞｨｷﾝｿﾝ1192\n",
    "    1163, 1233,   # コネチカット1163, アイオナ1233\n",
    "    1166, 1301,   # クレイトン1166, ﾉｰｽｶﾛﾗｲﾅ･ｽﾃｲﾄ1301\n",
    "    1235, 1338,   # アイオワ・ステイト1235, ピッツバーグ1338\n",
    "    1266, 1436,   # マーケット1266, バーモント1436\n",
    "    1388, 1433,   # ｾﾝﾄﾒｱﾘｰｽﾞ（ｶﾘﾌｫﾙﾆｱ）1388, VCU1433\n",
    "    1124, 1364,   # ベイラー1124, UCサンタバーバラ1364\n",
    "    1462, 1244,   # ザビエル1462, ケネソー・ステイト1244\n",
    "    1277, 1425,   # ミシガン・ステイト1277, USC トロージャンズ1425\n",
    "\n",
    "    1417, 1421,   # UCLA1417, UNC アシュビル1421\n",
    "    1401, 1336,   # テキサス A＆M1401, ﾍﾟﾝｼﾞﾙﾍﾞﾆｱ･ｽﾃｲﾄ1336\n",
    "    1397, 1418,   # テネシー1397, ﾙｲｼﾞｱﾅ･ﾗﾌｧｲｴｯﾄ1418\n",
    "    1222, 1297,   # ヒューストン1222, ノーザンケンタッキー1297\n",
    "    1321, 1129,   # ノースウェスタン1321, ボイシ・ステイト1129\n",
    "    1400, 1159,   # テキサス1400, コルゲート1159\n",
    "    1181, 1331,   # デューク1181, オーラル・ロバーツ1331\n",
    "    1234, 1120,   # アイオワ1234, オーバーン1120\n",
    "    1116, 1228,   # アーカンソー1116, イリノイ1228\n",
    "    1112, 1343,   # アリゾナ1112, プリンストン1343\n",
    "    1361, 1158,   # ｻﾝﾃﾞｴｺﾞ･ｽﾃｲﾄ1361, チャールストン1158\n",
    "    1104, 1394,   # アラバマ1104, テキサス A＆M CC1394\n",
    "    1242, 1224,   # カンザス1242, ハワード1224\n",
    "    1281, 1429,   # ミズーリ1281, ユタ・ステイト1429\n",
    "    1438, 1202,   # バージニア1438, ファーマン1202\n",
    "    1268, 1452    # メリーランド1268, ウェストバージニア1452\n",
    "]\n",
    "\n",
    "#Connecticut_vs = extract_target_team_records(sub, tourney_teams_2023, 1163 )"
   ]
  },
  {
   "cell_type": "code",
   "execution_count": 36,
   "id": "4c5d6132",
   "metadata": {
    "execution": {
     "iopub.execute_input": "2025-03-18T08:17:53.891008Z",
     "iopub.status.busy": "2025-03-18T08:17:53.891008Z",
     "iopub.status.idle": "2025-03-18T08:17:53.905898Z",
     "shell.execute_reply": "2025-03-18T08:17:53.905898Z"
    },
    "papermill": {
     "duration": 0.041518,
     "end_time": "2025-03-18T08:17:53.905898",
     "exception": false,
     "start_time": "2025-03-18T08:17:53.864380",
     "status": "completed"
    },
    "tags": []
   },
   "outputs": [],
   "source": [
    "#handlabelingを行う関数\n",
    "def make_handlabeling(df, season, T1, T2, labeling_pred, tourney_teams):\n",
    "    if T1 not in tourney_teams or T2 not in tourney_teams: \n",
    "        print(f\"トーナメント対象チームに属していません\")\n",
    "        return \n",
    "    \n",
    "    if T1>T2: \n",
    "        T1, T2 = T2, T1\n",
    "        print(f\"{T1}, {T2}ID逆だけど大丈夫？？\")\n",
    "    id = f\"{season}_{T1}_{T2}\"\n",
    "\n",
    "    print(f\"before: {df[df['ID']==id]}\")\n",
    "    df.loc[df[\"ID\"] == id, \"Pred\"] = labeling_pred\n",
    "    print(f\"after: {df[df['ID']==id]}\")\n",
    "    \n",
    "    results.append(f\"-----handolabeling-----\")\n",
    "    results.append(f\"before:  {df[df['ID']==id]} -----> after: {df[df['ID']==id]}\")\n",
    "    results.appedn(\"\")\n",
    "    return df"
   ]
  },
  {
   "cell_type": "code",
   "execution_count": 37,
   "id": "29cc68e8",
   "metadata": {
    "execution": {
     "iopub.execute_input": "2025-03-18T08:17:53.960647Z",
     "iopub.status.busy": "2025-03-18T08:17:53.960647Z",
     "iopub.status.idle": "2025-03-18T08:17:53.974495Z",
     "shell.execute_reply": "2025-03-18T08:17:53.974495Z"
    },
    "papermill": {
     "duration": 0.038254,
     "end_time": "2025-03-18T08:17:53.974495",
     "exception": false,
     "start_time": "2025-03-18T08:17:53.936241",
     "status": "completed"
    },
    "tags": []
   },
   "outputs": [],
   "source": [
    "labeling = cfg.exp.hand_labeling\n",
    "if labeling is not None:\n",
    "    for i in range(len(labeling)):\n",
    "        T1 = labeling[i][0]\n",
    "        T2 = labeling[i][1]\n",
    "        labeling_pred = labeling[i][2]\n",
    "        \n",
    "        print(f\"{T1} vs {T2} result labeling {labeling_pred}\")\n",
    "        \n",
    "        sub = make_handlabeling(sub, PREDICT_YEAR, T1, T2, labeling_pred, tourney_teams_2023)"
   ]
  },
  {
   "cell_type": "code",
   "execution_count": 38,
   "id": "79c2343c",
   "metadata": {
    "execution": {
     "iopub.execute_input": "2025-03-18T08:17:54.029456Z",
     "iopub.status.busy": "2025-03-18T08:17:54.029456Z",
     "iopub.status.idle": "2025-03-18T08:17:54.352198Z",
     "shell.execute_reply": "2025-03-18T08:17:54.352198Z"
    },
    "papermill": {
     "duration": 0.348372,
     "end_time": "2025-03-18T08:17:54.352198",
     "exception": false,
     "start_time": "2025-03-18T08:17:54.003826",
     "status": "completed"
    },
    "tags": []
   },
   "outputs": [
    {
     "name": "stdout",
     "output_type": "stream",
     "text": [
      "Tournament matchups only - Pred Mean: 0.5000953046324943\n"
     ]
    },
    {
     "data": {
      "image/png": "[encoded data removed]",
      "text/plain": [
       "<Figure size 640x480 with 1 Axes>"
      ]
     },
     "metadata": {},
     "output_type": "display_data"
    }
   ],
   "source": [
    "tourney_filtered = notexist[notexist[\"Season\"] == PREDICT_YEAR].copy()\n",
    "a = tourney_filtered.rename(columns={'WTeamID': 'T1_TeamID', 'LTeamID': 'T2_TeamID'})\n",
    "b = tourney_filtered.rename(columns={'WTeamID': 'T2_TeamID', 'LTeamID': 'T1_TeamID'})\n",
    "ab = pd.concat([a, b]).reset_index(drop=True) \n",
    "filtered_sub = sub.merge(ab[['Season', 'T1_TeamID', 'T2_TeamID']], \n",
    "                         on=['Season', 'T1_TeamID', 'T2_TeamID'], \n",
    "                         how='inner')\n",
    "\n",
    "filtered_sub[\"Pred\"].astype(int)\n",
    "pred_mean = filtered_sub[\"Pred\"].mean()\n",
    "print(\"Tournament matchups only - Pred Mean:\", pred_mean)\n",
    "\n",
    "filtered_sub[\"Pred\"].hist(bins=50)\n",
    "results+=[\"\", f\"Tournament matchups only - Pred Mean:, {pred_mean}\", \"\"]\n",
    "plt.figure(figsize=(8, 6))\n",
    "filtered_sub[\"Pred\"].hist(bins=50)\n",
    "plt.title(\"Prediction Histogram\")\n",
    "plt.xlabel(\"Pred\")\n",
    "plt.ylabel(\"Frequency\")\n",
    "plt.grid(True)\n",
    "\n",
    "# 画像として保存\n",
    "plt.savefig(os.path.join(OUTPUT_PATH, f\"Prediction_Histgram_filtered_{PREDICT_YEAR}.png\"))\n",
    "plt.close()"
   ]
  },
  {
   "cell_type": "markdown",
   "id": "452868a0",
   "metadata": {
    "papermill": {
     "duration": 0.024177,
     "end_time": "2025-03-18T08:17:54.405881",
     "exception": false,
     "start_time": "2025-03-18T08:17:54.381704",
     "status": "completed"
    },
    "tags": []
   },
   "source": [
    "# スコア算出、まとめ、\n",
    "ここまでで提出ファイル作成。ここからは過去年度のシミュレーションに対してBrier scoreやその他指標の算出"
   ]
  },
  {
   "cell_type": "code",
   "execution_count": 39,
   "id": "78ca7a09",
   "metadata": {
    "execution": {
     "iopub.execute_input": "2025-03-18T08:17:54.485690Z",
     "iopub.status.busy": "2025-03-18T08:17:54.485690Z",
     "iopub.status.idle": "2025-03-18T08:17:54.923171Z",
     "shell.execute_reply": "2025-03-18T08:17:54.923171Z"
    },
    "papermill": {
     "duration": 0.469097,
     "end_time": "2025-03-18T08:17:54.923171",
     "exception": false,
     "start_time": "2025-03-18T08:17:54.454074",
     "status": "completed"
    },
    "tags": []
   },
   "outputs": [
    {
     "data": {
      "image/png": "[encoded data removed]",
      "text/plain": [
       "<Figure size 640x480 with 1 Axes>"
      ]
     },
     "metadata": {},
     "output_type": "display_data"
    }
   ],
   "source": [
    "sub[\"Pred\"].hist()\n",
    "results+=[\"\", f\"Pred mean: {sub['Pred'].mean()}\", \"\"]\n",
    "\n",
    "plt.figure(figsize=(8, 6))\n",
    "sub[\"Pred\"].hist(bins=50)\n",
    "plt.title(\"Prediction Histogram\")\n",
    "plt.xlabel(\"Pred\")\n",
    "plt.ylabel(\"Frequency\")\n",
    "plt.grid(True)\n",
    "\n",
    "# 画像として保存\n",
    "plt.savefig(os.path.join(OUTPUT_PATH, f\"Prediction_Histgram_{PREDICT_YEAR}.png\"))\n",
    "plt.close()"
   ]
  },
  {
   "cell_type": "markdown",
   "id": "73773127",
   "metadata": {
    "papermill": {
     "duration": 0.041993,
     "end_time": "2025-03-18T08:17:54.989547",
     "exception": false,
     "start_time": "2025-03-18T08:17:54.947554",
     "status": "completed"
    },
    "tags": []
   },
   "source": [
    "存在するはずのない予測年度のトーナメント結果をもとに(Pred, label)を取り出し、以下を行う。\n",
    "\n",
    "- 各評価指標の計算\n",
    "- キャリブレーション可視化\n",
    "- AUC可視化"
   ]
  },
  {
   "cell_type": "code",
   "execution_count": 40,
   "id": "d2e0da31",
   "metadata": {
    "execution": {
     "iopub.execute_input": "2025-03-18T08:17:55.045587Z",
     "iopub.status.busy": "2025-03-18T08:17:55.045587Z",
     "iopub.status.idle": "2025-03-18T08:17:55.065646Z",
     "shell.execute_reply": "2025-03-18T08:17:55.065646Z"
    },
    "papermill": {
     "duration": 0.044985,
     "end_time": "2025-03-18T08:17:55.065646",
     "exception": false,
     "start_time": "2025-03-18T08:17:55.020661",
     "status": "completed"
    },
    "tags": []
   },
   "outputs": [],
   "source": [
    "def extract_labels_and_preds(sub, tourney):\n",
    "    \"\"\" 試合データから予測値 (Pred) と正解ラベル (label) を抽出する \"\"\"\n",
    "    label_data = tourney[[\"WTeamID\", \"LTeamID\", \"WScore\", \"LScore\"]]\n",
    "    label_data = label_data.rename(columns={\"WTeamID\": \"T1_TeamID\", \"LTeamID\": \"T2_TeamID\", \"WScore\": \"T1_Score\", \"LScore\": \"T2_Score\"})\n",
    "    temp = label_data.copy()\n",
    "    temp = temp.rename(columns={\"T1_TeamID\": \"T2_TeamID\", \"T2_TeamID\": \"T1_TeamID\", \"T1_Score\": \"T2_Score\", \"T2_Score\": \"T1_Score\"})\n",
    "    label_data = pd.concat([label_data, temp]).reset_index(drop=True)\n",
    "    \n",
    "    label_data = pd.merge(label_data, sub, on=[\"T1_TeamID\", \"T2_TeamID\"], how=\"left\")\n",
    "    label_data[\"label\"] = np.where(label_data[\"T1_Score\"] - label_data[\"T2_Score\"] > 0, 1, 0)\n",
    "    label_data = label_data.dropna(subset=[\"Pred\"])  # 欠損値を削除\n",
    "    \n",
    "    return label_data[[\"label\", \"Pred\"]]\n",
    "\n",
    "def calculate_metrics(label_data):\n",
    "    \"\"\" 各評価指標を計算 \"\"\"\n",
    "    brier_score = round(mean_squared_error(label_data[\"label\"], label_data[\"Pred\"]), 5)  # Brier Score (MSEと同じ)\n",
    "    rmse_score = round(mean_squared_error(label_data[\"label\"], label_data[\"Pred\"], squared=False), 5)  # RMSE\n",
    "    logloss_score = round(log_loss(label_data[\"label\"], label_data[\"Pred\"]), 5)  # Log Loss\n",
    "    mae_score = round(mean_absolute_error(label_data[\"label\"], label_data[\"Pred\"]), 5)  # MAE\n",
    "    \n",
    "    return {\n",
    "        \"Brier Score\": brier_score,\n",
    "        \"RMSE\": rmse_score,\n",
    "        \"Log Loss\": logloss_score,\n",
    "        \"MAE\": mae_score\n",
    "    }\n",
    "\n",
    "def plot_calibration_curve(label_data, n_bins=10):\n",
    "    \"\"\" キャリブレーションカーブをプロット \"\"\"\n",
    "    prob_true, prob_pred = calibration_curve(label_data[\"label\"], label_data[\"Pred\"], n_bins=n_bins)\n",
    "    \n",
    "    plt.figure(figsize=(6,6))\n",
    "    plt.plot(prob_pred, prob_true, marker=\"o\", label=\"Model Calibration\")\n",
    "    plt.plot([0, 1], [0, 1], linestyle=\"--\", label=\"Perfect Calibration\")\n",
    "    plt.xlabel(\"Predicted Probability\")\n",
    "    plt.ylabel(\"Actual Probability\")\n",
    "    plt.legend()\n",
    "    plt.title(\"Calibration Curve\")\n",
    "    plt.show()\n",
    "\n",
    "def calculate_auc_metrics(label_data):\n",
    "    global results\n",
    "    \"\"\" AUC-ROCとAUC-PRを計算 \"\"\"\n",
    "    auc_roc = roc_auc_score(label_data[\"label\"], label_data[\"Pred\"])\n",
    "    auc_pr = average_precision_score(label_data[\"label\"], label_data[\"Pred\"])\n",
    "    \n",
    "    print(f\"AUC-ROC: {auc_roc:.4f}\")\n",
    "    print(f\"AUC-PR: {auc_pr:.4f}\")\n",
    "    results += [\"---- AUC -----\", f\"AUC-ROC: {auc_roc:.4f}\", f\"AUC-PR: {auc_pr:.4f}\"]\n",
    "    "
   ]
  },
  {
   "cell_type": "code",
   "execution_count": 41,
   "id": "38d0eff8",
   "metadata": {
    "execution": {
     "iopub.execute_input": "2025-03-18T08:17:55.138369Z",
     "iopub.status.busy": "2025-03-18T08:17:55.138369Z",
     "iopub.status.idle": "2025-03-18T08:17:55.320236Z",
     "shell.execute_reply": "2025-03-18T08:17:55.319800Z"
    },
    "papermill": {
     "duration": 0.225617,
     "end_time": "2025-03-18T08:17:55.320236",
     "exception": false,
     "start_time": "2025-03-18T08:17:55.094619",
     "status": "completed"
    },
    "tags": []
   },
   "outputs": [
    {
     "name": "stderr",
     "output_type": "stream",
     "text": [
      "C:\\Users\\81809\\anaconda3\\envs\\deep_learning_pytorch\\Lib\\site-packages\\sklearn\\metrics\\_regression.py:492: FutureWarning: 'squared' is deprecated in version 1.4 and will be removed in 1.6. To calculate the root mean squared error, use the function'root_mean_squared_error'.\n",
      "  warnings.warn(\n"
     ]
    },
    {
     "data": {
      "image/png": "[encoded data removed]",
      "text/plain": [
       "<Figure size 600x600 with 1 Axes>"
      ]
     },
     "metadata": {},
     "output_type": "display_data"
    },
    {
     "name": "stdout",
     "output_type": "stream",
     "text": [
      "AUC-ROC: 0.8543\n",
      "AUC-PR: 0.8663\n",
      "MAE: 0.31706\n",
      "\n",
      "---- AUC -----\n",
      "AUC-ROC: 0.8543\n",
      "AUC-PR: 0.8663\n"
     ]
    }
   ],
   "source": [
    "if PREDICT_YEAR == 2022:\n",
    "    notexist_MAN = notexist[notexist[\"WTeamID\"].astype(str).str.startswith(\"1\")]\n",
    "    notexist_WOMAN = notexist[notexist[\"WTeamID\"].astype(str).str.startswith(\"3\")]\n",
    "    label_data = extract_labels_and_preds(sub, notexist) ######\n",
    "else:\n",
    "    label_data = extract_labels_and_preds(sub, notexist)\n",
    "\n",
    "# 評価指標の計算\n",
    "score = calculate_metrics(label_data)\n",
    "results += [\"\",\"-----eval metrics-----\",\n",
    "            f\"Brier Score: {score['Brier Score']}\", \n",
    "            f\"RMSE: {score['RMSE']}\", \n",
    "            f\"Log Loss: {score['Log Loss']}\", \n",
    "            f\"MAE: {score['MAE']}\", \"\"]\n",
    "\n",
    "# キャリブレーションの確認\n",
    "plot_calibration_curve(label_data)\n",
    "\n",
    "# AUCの評価\n",
    "calculate_auc_metrics(label_data)\n",
    "\n",
    "for temp in range(-5, 0):\n",
    "    print(results[temp])"
   ]
  },
  {
   "cell_type": "code",
   "execution_count": 42,
   "id": "1633f99d",
   "metadata": {
    "execution": {
     "iopub.execute_input": "2025-03-18T08:17:55.389238Z",
     "iopub.status.busy": "2025-03-18T08:17:55.387235Z",
     "iopub.status.idle": "2025-03-18T08:17:55.397462Z",
     "shell.execute_reply": "2025-03-18T08:17:55.397462Z"
    },
    "papermill": {
     "duration": 0.047189,
     "end_time": "2025-03-18T08:17:55.397462",
     "exception": false,
     "start_time": "2025-03-18T08:17:55.350273",
     "status": "completed"
    },
    "tags": []
   },
   "outputs": [
    {
     "data": {
      "text/plain": [
       "'if PREDICT_YEAR!=2025:\\n    predict_year_label =notexist[[\"WTeamID\", \"LTeamID\", \"WScore\", \"LScore\"]].copy()\\n    predict_year_label.loc[:, \"Win\"] = np.where(predict_year_label[\"WScore\"] - predict_year_label[\"LScore\"] > 0, 1, 0)\\n    predict_year_label = predict_year_label[[\"WTeamID\", \"LTeamID\", \"Win\"]]\\n   \\n    predict_year_label.columns = [\"T1_TeamID\", \"T2_TeamID\", \"Win\"]\\n\\n    predict_year_label = pd.merge(predict_year_label, sub, on=[\"T1_TeamID\", \"T2_TeamID\"], how=\"left\")\\n    brier_score = np.mean((predict_year_label[\"Pred\"] - predict_year_label[\"Win\"])**2)\\n\\n    print(\"Brier Score:\", brier_score)\\n    results+=[f\"Brier Score: {brier_score}\", \"\"]\\n    predict_year_label.info()\\n'"
      ]
     },
     "execution_count": 42,
     "metadata": {},
     "output_type": "execute_result"
    }
   ],
   "source": [
    "\"\"\"if PREDICT_YEAR!=2025:\n",
    "    predict_year_label =notexist[[\"WTeamID\", \"LTeamID\", \"WScore\", \"LScore\"]].copy()\n",
    "    predict_year_label.loc[:, \"Win\"] = np.where(predict_year_label[\"WScore\"] - predict_year_label[\"LScore\"] > 0, 1, 0)\n",
    "    predict_year_label = predict_year_label[[\"WTeamID\", \"LTeamID\", \"Win\"]]\n",
    "   \n",
    "    predict_year_label.columns = [\"T1_TeamID\", \"T2_TeamID\", \"Win\"]\n",
    "\n",
    "    predict_year_label = pd.merge(predict_year_label, sub, on=[\"T1_TeamID\", \"T2_TeamID\"], how=\"left\")\n",
    "    brier_score = np.mean((predict_year_label[\"Pred\"] - predict_year_label[\"Win\"])**2)\n",
    "\n",
    "    print(\"Brier Score:\", brier_score)\n",
    "    results+=[f\"Brier Score: {brier_score}\", \"\"]\n",
    "    predict_year_label.info()\n",
    "\"\"\""
   ]
  },
  {
   "cell_type": "code",
   "execution_count": 43,
   "id": "657da5b4",
   "metadata": {
    "execution": {
     "iopub.execute_input": "2025-03-18T08:17:55.438821Z",
     "iopub.status.busy": "2025-03-18T08:17:55.438821Z",
     "iopub.status.idle": "2025-03-18T08:17:55.459588Z",
     "shell.execute_reply": "2025-03-18T08:17:55.459588Z"
    },
    "papermill": {
     "duration": 0.037131,
     "end_time": "2025-03-18T08:17:55.459588",
     "exception": false,
     "start_time": "2025-03-18T08:17:55.422457",
     "status": "completed"
    },
    "tags": []
   },
   "outputs": [
    {
     "name": "stdout",
     "output_type": "stream",
     "text": [
      "実行時間： 886.1秒\n"
     ]
    }
   ],
   "source": [
    "END_TIME = time.time()\n",
    "ELAPSED_TIME = END_TIME - START_TIME\n",
    "print(f\"実行時間： {ELAPSED_TIME:.1f}秒\")\n",
    "results.append(f\"実行時間： {ELAPSED_TIME:.1f}秒\")\n",
    "\n",
    "with open(os.path.join(OUTPUT_PATH, \"result.txt\"), \"a\", encoding=\"utf-8\") as f:\n",
    "    for line in results:\n",
    "        f.write(line + \"\\n\")"
   ]
  },
  {
   "cell_type": "code",
   "execution_count": 44,
   "id": "6e51e92c",
   "metadata": {
    "execution": {
     "iopub.execute_input": "2025-03-18T08:17:55.511117Z",
     "iopub.status.busy": "2025-03-18T08:17:55.511117Z",
     "iopub.status.idle": "2025-03-18T08:17:55.518687Z",
     "shell.execute_reply": "2025-03-18T08:17:55.518687Z"
    },
    "papermill": {
     "duration": 0.04947,
     "end_time": "2025-03-18T08:17:55.520176",
     "exception": false,
     "start_time": "2025-03-18T08:17:55.470706",
     "status": "completed"
    },
    "tags": []
   },
   "outputs": [],
   "source": [
    "logger.remove()"
   ]
  }
 ],
 "metadata": {
  "kernelspec": {
   "display_name": "deep_learning_pytorch",
   "language": "python",
   "name": "python3"
  },
  "language_info": {
   "codemirror_mode": {
    "name": "ipython",
    "version": 3
   },
   "file_extension": ".py",
   "mimetype": "text/x-python",
   "name": "python",
   "nbconvert_exporter": "python",
   "pygments_lexer": "ipython3",
   "version": "3.11.9"
  },
  "papermill": {
   "default_parameters": {},
   "duration": 892.727339,
   "end_time": "2025-03-18T08:17:56.209472",
   "environment_variables": {},
   "exception": null,
   "input_path": "c:\\Users\\81809\\Documents\\ALL_CODE\\kaggle\\March Machine Learning Mania 2025\\notebook\\1stplace_solution_2023.ipynb",
   "output_path": "exp121_20250318_170303.ipynb",
   "parameters": {
    "EXP_NUM": "exp121"
   },
   "start_time": "2025-03-18T08:03:03.482133",
   "version": "2.6.0"
  }
 },
 "nbformat": 4,
 "nbformat_minor": 5
}