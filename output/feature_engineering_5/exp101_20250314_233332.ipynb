{
 "cells": [
  {
   "cell_type": "code",
   "execution_count": 1,
   "id": "f78d231f",
   "metadata": {
    "execution": {
     "iopub.execute_input": "2025-03-14T14:33:34.987286Z",
     "iopub.status.busy": "2025-03-14T14:33:34.987286Z",
     "iopub.status.idle": "2025-03-14T14:33:35.001162Z",
     "shell.execute_reply": "2025-03-14T14:33:35.001162Z"
    },
    "papermill": {
     "duration": 0.031938,
     "end_time": "2025-03-14T14:33:35.003302",
     "exception": false,
     "start_time": "2025-03-14T14:33:34.971364",
     "status": "completed"
    },
    "tags": [
     "parameters"
    ]
   },
   "outputs": [],
   "source": [
    "# Parameters\n",
    "EXP_NUM = \"default\""
   ]
  },
  {
   "cell_type": "code",
   "execution_count": 2,
   "id": "4959bde8",
   "metadata": {
    "execution": {
     "iopub.execute_input": "2025-03-14T14:33:35.019170Z",
     "iopub.status.busy": "2025-03-14T14:33:35.019170Z",
     "iopub.status.idle": "2025-03-14T14:33:35.031471Z",
     "shell.execute_reply": "2025-03-14T14:33:35.031471Z"
    },
    "papermill": {
     "duration": 0.028169,
     "end_time": "2025-03-14T14:33:35.031471",
     "exception": false,
     "start_time": "2025-03-14T14:33:35.003302",
     "status": "completed"
    },
    "tags": [
     "injected-parameters"
    ]
   },
   "outputs": [],
   "source": [
    "# Parameters\n",
    "EXP_NUM = \"exp101\"\n"
   ]
  },
  {
   "cell_type": "markdown",
   "id": "db8b3db3",
   "metadata": {
    "papermill": {
     "duration": 0.004206,
     "end_time": "2025-03-14T14:33:35.043522",
     "exception": false,
     "start_time": "2025-03-14T14:33:35.039316",
     "status": "completed"
    },
    "tags": []
   },
   "source": [
    "# 2023 1st place solution\n",
    "[kaggle notebook](https://www.kaggle.com/code/rustyb/paris-madness-2023#Load-the-data!)"
   ]
  },
  {
   "cell_type": "markdown",
   "id": "2f725203",
   "metadata": {
    "papermill": {
     "duration": 0.008484,
     "end_time": "2025-03-14T14:33:35.059380",
     "exception": false,
     "start_time": "2025-03-14T14:33:35.050896",
     "status": "completed"
    },
    "tags": []
   },
   "source": [
    "# コードの流れ\n",
    "1. hydraからハイパラ取得し、パスなどを設定\n",
    "\n",
    "    regular&tourney Detaile Result, Seedを使用し、tourneyを目的変数としてモデルを予測していく\n",
    "\n",
    "    regular_data->season_statistics->\n",
    "\n",
    "    以下の前処理をする\n",
    "\n",
    "2. データ２倍にかさまし\n",
    "3. regularに対して特徴量の追加\n",
    "    各チームごとに加えるもの\n",
    "   - EFFG: フィールドゴール成功率\n",
    "   - EFFG3: フィールドゴール3p成功率\n",
    "   - DARE: フィールドゴールにおける3P率\n",
    "   - \"win\"を目的変数とする(Team, Season)のロジスティック回帰した各係数\n",
    "    対戦カードごとに加える特徴量\n",
    "    - PointDiff: ポイント差\n",
    "    - win: 1 if PointDiff>0 else 0\n",
    "4. (Team, Season)ごとに特徴量season_statixtics追加\n",
    "    - win_ratio_14d\n",
    "    - box score mean\n",
    "    - quality\n",
    "    - seed\n",
    "5. season_average.enabled=trueなら直近３シーズンの加重平均の処理加える\n",
    "6. tourneyをteamID, Season, score(y)のみ取り出してこれに対してseason_statisticsの結合と特徴量微調整\n",
    "   - seed->seeddiff\n",
    "   - fillna()\n",
    "\n",
    "7. モデル構築\n",
    "8. KFOLD->OOF予測->spline曲線求めてlogloss算出\n",
    "    - KFOLDによる交差検証（CV）\n",
    "        repeat_cv 回のループで、各反復ごとにKFold（folds_splits個）によりデータを分割し、XGBoostのCVを実行しています。\n",
    "        各foldでの結果（例えば、訓練MAE、検証MAEの平均値や標準偏差）がcv_resultとして得られ、それをxgb_cvリストに格納します。\n",
    "        この段階で重要なのは、各反復での検証用MAEの平均値 (test-mae-mean) の最小値と、そのときのブーストラウンド数です。\n",
    "        それらは後で、最適なイテレーション数 (iteration_counts) として計算され、val_mae にも格納されます。\n",
    "    - OOF予測の流れ\n",
    "\n",
    "        各反復ごとに、新たなKFoldを用いてデータを分割。\n",
    "        各foldごとに、学習データでモデルを訓練し、検証データに対して予測を実施。\n",
    "        すべてのfold分の予測結果を1つの予測配列にまとめ、最後に -30～30 の範囲にクリップしています。\n",
    "        重要な結果\n",
    "\n",
    "        OOF予測結果（oof_preds）自体は後段で別途評価指標に使用できるほか、各反復ごとの予測精度や誤差を算出する際の基礎データ\n",
    "9.  提出フェーズ\n",
    "    - 最適paramで全データ使って訓練\n",
    "    - 提出試合の予測"
   ]
  },
  {
   "cell_type": "markdown",
   "id": "c0a844c5",
   "metadata": {
    "papermill": {
     "duration": 0.006054,
     "end_time": "2025-03-14T14:33:35.076218",
     "exception": false,
     "start_time": "2025-03-14T14:33:35.070164",
     "status": "completed"
    },
    "tags": []
   },
   "source": [
    "memo\n",
    "\n",
    "欠損値が発生していいのか検討して保管について考える\n",
    "seedがかけているのはregularに対してseedを与えているから大丈夫。最終的なtourneyには欠損０で追加できているから問題ない"
   ]
  },
  {
   "cell_type": "code",
   "execution_count": 3,
   "id": "42377cd3",
   "metadata": {
    "execution": {
     "iopub.execute_input": "2025-03-14T14:33:35.084955Z",
     "iopub.status.busy": "2025-03-14T14:33:35.084955Z",
     "iopub.status.idle": "2025-03-14T14:33:38.681028Z",
     "shell.execute_reply": "2025-03-14T14:33:38.681028Z"
    },
    "papermill": {
     "duration": 3.597946,
     "end_time": "2025-03-14T14:33:38.681028",
     "exception": false,
     "start_time": "2025-03-14T14:33:35.083082",
     "status": "completed"
    },
    "tags": []
   },
   "outputs": [
    {
     "name": "stderr",
     "output_type": "stream",
     "text": [
      "C:\\Users\\81809\\anaconda3\\envs\\deep_learning_pytorch\\Lib\\site-packages\\tqdm\\auto.py:21: TqdmWarning: IProgress not found. Please update jupyter and ipywidgets. See https://ipywidgets.readthedocs.io/en/stable/user_install.html\n",
      "  from .autonotebook import tqdm as notebook_tqdm\n"
     ]
    },
    {
     "name": "stdout",
     "output_type": "stream",
     "text": [
      "exp101\n",
      "Omega conf is below\n",
      "dir:\n",
      "  input_dir: ../input\n",
      "  output_dir: ../output\n",
      "  src_path: ../src\n",
      "  conf_path: ../conf\n",
      "exp:\n",
      "  name: feature_engineering_5\n",
      "  print_name: delete Scoremean\n",
      "  tournament:\n",
      "    use_start_season: 1985\n",
      "    target_season: 2019\n",
      "  features:\n",
      "    cal_mean_boxscore:\n",
      "      T1_Score: false\n",
      "      T2_Score: false\n",
      "      PointDiff: true\n",
      "      T1_FGM: true\n",
      "      T2_FGM: true\n",
      "      T1_FGA: true\n",
      "      T2_FGA: true\n",
      "      T1_FGM3: false\n",
      "      T2_FGM3: false\n",
      "      T1_FGA3: false\n",
      "      T2_FGA3: false\n",
      "      T1_FTM: false\n",
      "      T2_FTM: false\n",
      "      T1_FTA: false\n",
      "      T2_FTA: false\n",
      "      T1_EFFG: false\n",
      "      T2_EFFG: false\n",
      "      T1_EFFG3: false\n",
      "      T2_EFFG3: false\n",
      "      T1_EFG_SUM: true\n",
      "      T2_EFG_SUM: true\n",
      "      T1_TO_RATIO: true\n",
      "      T2_TO_RATIO: true\n",
      "      T1_OR: true\n",
      "      T2_OR: true\n",
      "      T1_DR: true\n",
      "      T2_DR: true\n",
      "      T1_REB_RATE: true\n",
      "      T2_REB_RATE: true\n",
      "      T1_FT_RATE: true\n",
      "      T2_FT_RATE: true\n",
      "      T1_RATING: false\n",
      "      T2_RATING: false\n",
      "      T1_POSS_RATE: true\n",
      "      T2_POSS_RATE: true\n",
      "      T1_Ast: true\n",
      "      T2_Ast: true\n",
      "      T1_TO: true\n",
      "      T2_TO: true\n",
      "      T1_Stl: true\n",
      "      T2_Stl: true\n",
      "      T1_Blk: true\n",
      "      T2_Blk: true\n",
      "      T1_PF: true\n",
      "      T2_PF: true\n",
      "      T1_DARE: false\n",
      "      T2_DARE: false\n",
      "      T1_TOQUETOQUE: false\n",
      "      T2_TOQUETOQUE: false\n",
      "    rank_diff: true\n",
      "    start_quality_season: 2003\n",
      "    dropfeatures:\n",
      "    - T1_TOmean\n",
      "    - T2_TOmean\n",
      "    - T1_opponent_POSS_RATEmean\n",
      "    - T2_opponent_POSS_RATEmean\n",
      "    - T1_opponent_Astmean\n",
      "    - T2_opponent_Astmean\n",
      "    - T1_opponent_FT_RATEmean\n",
      "    - T2_opponent_FT_RATEmean\n",
      "    - T1_opponent_Stlmean\n",
      "    - T2_opponent_Stlmean\n",
      "    - T1_ORmean\n",
      "    - T2_ORmean\n",
      "    - T1_opponent_ORmean\n",
      "    - T2_opponent_ORmean\n",
      "    season_average:\n",
      "      enabled: false\n",
      "      past_years: 3\n",
      "      weights:\n",
      "      - 1\n",
      "      - 2\n",
      "      - 3\n",
      "    fillna:\n",
      "      quality: 'nan'\n",
      "  model:\n",
      "    repeat_cv: 10\n",
      "    optuna_enabled: false\n",
      "    test_reverse: false\n",
      "    xgb_model:\n",
      "      param:\n",
      "        eval_metric: rmse\n",
      "        booster: gbtree\n",
      "        eta: 0.02\n",
      "        subsample: 0.35\n",
      "        colsample_bytree: 0.7\n",
      "        num_parallel_tree: 10\n",
      "        min_child_weight: 40\n",
      "        gamma: 10\n",
      "        max_depth: 3\n",
      "      obj: cauchyoj\n",
      "      num_boost_round: 3000\n",
      "      folds_splits: 5\n",
      "      early_stopping_rounds: 25\n",
      "      optuna:\n",
      "        max_depth:\n",
      "        - 3\n",
      "        - 7\n",
      "        eta:\n",
      "        - 0.001\n",
      "        - 0.03\n",
      "        subsample:\n",
      "        - 0.2\n",
      "        - 0.5\n",
      "        colsample_bytree:\n",
      "        - 0.5\n",
      "        - 1.0\n",
      "        num_parallel_tree:\n",
      "        - 7\n",
      "        - 12\n",
      "        min_child_weight:\n",
      "        - 30\n",
      "        - 50\n",
      "        reg_alpha:\n",
      "        - 0.0\n",
      "        - 1.0\n",
      "        reg_lambda:\n",
      "        - 0.0\n",
      "        - 1.0\n",
      "        gamma:\n",
      "        - 0\n",
      "        - 10\n",
      "        n_trials: 1000\n",
      "        timeout: 28800\n",
      "        n_jobs: -1\n",
      "        n_warmup_steps: 3\n",
      "    spline: logistic\n",
      "  hand_labeling: null\n",
      "\n"
     ]
    }
   ],
   "source": [
    "\n",
    "import os\n",
    "import sys\n",
    "from pathlib import Path\n",
    "import collections\n",
    "from datetime import datetime\n",
    "import shutil\n",
    "import yaml\n",
    "from tqdm import tqdm\n",
    "import time\n",
    "import optuna\n",
    "from loguru import logger\n",
    "import collections\n",
    "\n",
    "from hydra import initialize, initialize_config_module, initialize_config_dir, compose\n",
    "from omegaconf import OmegaConf\n",
    "\n",
    "import numpy as np\n",
    "import pandas as pd\n",
    "import matplotlib.pyplot as plt\n",
    "import seaborn as sns\n",
    "from scipy.interpolate import UnivariateSpline\n",
    "\n",
    "import xgboost as xgb\n",
    "from xgboost import XGBRegressor\n",
    "from sklearn.model_selection import KFold\n",
    "from sklearn.calibration import calibration_curve\n",
    "from sklearn.metrics import log_loss,mean_squared_error, mean_absolute_error, roc_auc_score, average_precision_score\n",
    "from sklearn.metrics import make_scorer\n",
    "from sklearn.model_selection import cross_val_score, KFold\n",
    "from sklearn.linear_model import LogisticRegression\n",
    "from sklearn.preprocessing import OneHotEncoder\n",
    "from sklearn.isotonic import IsotonicRegression\n",
    "\n",
    "import statsmodels.api as sm\n",
    "\n",
    "START_TIME = time.time()\n",
    "\n",
    "\n",
    "#####\n",
    "#EXP_NUM = \"test\"\n",
    "#####\n",
    "print(EXP_NUM)\n",
    "\n",
    "# hydraの初期設定と指定ハイパラの取得\n",
    "sys.path.append(os.path.abspath(\"/workspace\"))\n",
    "sys.path.append(\"C:\\\\Users\\\\81809\\\\Documents\\\\ALL_CODE\\\\kaggle\\\\March Machine Learning Mania 2025\")\n",
    "with initialize_config_module(version_base=None, config_module=\"conf\"):\n",
    "    cfg = compose(\n",
    "        config_name=\"base.yaml\",\n",
    "        overrides=[\n",
    "            f\"+exp={EXP_NUM}\" #defaultexp001->exp002のオーバーライド\n",
    "        ],\n",
    "    )\n",
    "    \n",
    "    OmegaConf.resolve(cfg)\n",
    "    print(\"Omega conf is below\")\n",
    "    print(OmegaConf.to_yaml(cfg))\n"
   ]
  },
  {
   "cell_type": "code",
   "execution_count": 4,
   "id": "8893354e",
   "metadata": {
    "execution": {
     "iopub.execute_input": "2025-03-14T14:33:38.696835Z",
     "iopub.status.busy": "2025-03-14T14:33:38.696835Z",
     "iopub.status.idle": "2025-03-14T14:33:38.723363Z",
     "shell.execute_reply": "2025-03-14T14:33:38.723363Z"
    },
    "papermill": {
     "duration": 0.042335,
     "end_time": "2025-03-14T14:33:38.723363",
     "exception": false,
     "start_time": "2025-03-14T14:33:38.681028",
     "status": "completed"
    },
    "tags": []
   },
   "outputs": [
    {
     "name": "stdout",
     "output_type": "stream",
     "text": [
      "########\n",
      "output dir name: feature_engineering_5\n",
      "Run on 2025-03-14 23:33:38.700846\n",
      "delete Scoremean\n",
      "########\n"
     ]
    }
   ],
   "source": [
    "PREDICT_YEAR = cfg.exp.tournament.target_season\n",
    "name = f\"{cfg.exp.name}\"\n",
    "now = str(datetime.now())\n",
    "print(\"########\")\n",
    "print(f\"output dir name: {name}\")\n",
    "print(f\"Run on {now}\")\n",
    "print(cfg.exp.print_name)\n",
    "print(\"########\")\n",
    "\n",
    "BASE_DIR = os.path.abspath(os.path.join(os.getcwd(), \"..\"))\n",
    "CONF_PATH = os.path.join(BASE_DIR, \"conf\")\n",
    "INPUT_PATH = os.path.join(BASE_DIR, \"input\")\n",
    "EXP_PATH = os.path.join(CONF_PATH, \"exp\", f\"{EXP_NUM}.yaml\")\n",
    "OUTPUT_PATH = os.path.join(BASE_DIR, \"output\", name)\n",
    "SRC_PATH = cfg.dir.src_path\n",
    "sys.path.append(SRC_PATH)\n",
    "\n",
    "os.makedirs(OUTPUT_PATH, exist_ok=True)  \n",
    "with open(EXP_PATH, \"r\", encoding=\"utf-8\") as f:\n",
    "    config = yaml.safe_load(f)\n",
    "shutil.copyfile(EXP_PATH, os.path.join(OUTPUT_PATH, f\"{EXP_NUM}.yaml\"))\n",
    "\n",
    "\n",
    "y_season = cfg.exp.tournament.target_season\n",
    "FEATURES = cfg.exp.features\n",
    "MODEL = cfg.exp.model\n",
    "results = [\"\", f\"-----{PREDICT_YEAR}-----\", now ,name, cfg.exp.print_name,\"\"]"
   ]
  },
  {
   "cell_type": "code",
   "execution_count": 5,
   "id": "8455e100",
   "metadata": {
    "execution": {
     "iopub.execute_input": "2025-03-14T14:33:38.741916Z",
     "iopub.status.busy": "2025-03-14T14:33:38.741916Z",
     "iopub.status.idle": "2025-03-14T14:33:40.805756Z",
     "shell.execute_reply": "2025-03-14T14:33:40.805756Z"
    },
    "papermill": {
     "duration": 2.074513,
     "end_time": "2025-03-14T14:33:40.807763",
     "exception": false,
     "start_time": "2025-03-14T14:33:38.733250",
     "status": "completed"
    },
    "tags": []
   },
   "outputs": [],
   "source": [
    "tourney_results = pd.concat([\n",
    "    pd.read_csv(os.path.join(INPUT_PATH,\"MNCAATourneyDetailedResults.csv\")),\n",
    "    pd.read_csv(os.path.join(INPUT_PATH,\"WNCAATourneyDetailedResults.csv\")),\n",
    "], ignore_index=True)\n",
    "\n",
    "seeds = pd.concat([\n",
    "    pd.read_csv(os.path.join(INPUT_PATH,\"MNCAATourneySeeds.csv\")),\n",
    "    pd.read_csv(os.path.join(INPUT_PATH,\"WNCAATourneySeeds.csv\")),\n",
    "], ignore_index=True)\n",
    "\n",
    "regular_results = pd.concat([\n",
    "    pd.read_csv(os.path.join(INPUT_PATH, \"MRegularSeasonDetailedResults.csv\")),\n",
    "    pd.read_csv(os.path.join(INPUT_PATH,\"WRegularSeasonDetailedResults.csv\")),\n",
    "], ignore_index=True)\n",
    "\n",
    "ordinal_rank = pd.read_csv(os.path.join(INPUT_PATH, \"MMasseyOrdinals.csv\"))\n",
    "\n",
    "# 1試合情報からWin,Lose反転させてデータ数２倍にかさまし and WLoc -> location(0 or -1 or 1)\n",
    "def prepare_data(df1):\n",
    "    df = df1.copy()\n",
    "    ### add new box score\n",
    "    #type1: normal EFG\n",
    "    df['WEFFG'] = df['WFGM'] / df['WFGA']\n",
    "    df['LEFFG'] = df['LFGM'] / df['LFGA']\n",
    "    #type2: 1stfeature EFG\n",
    "    df['WEFFG3'] = np.where(df['WFGA3'] == 0, 0, df['WFGM3'] / df['WFGA3'])\n",
    "    df['LEFFG3'] = np.where(df['LFGA3'] == 0, 0, df['LFGM3'] / df['LFGA3'])\n",
    "    df['WDARE'] = df['WFGM3'] / df['WFGM']\n",
    "    df['LDARE'] = df['LFGM3'] / df['LFGM']\n",
    "    df['WTOQUETOQUE'] = df['WAst'] / df['WFGM']\n",
    "    df['LTOQUETOQUE'] = df['LAst'] / df['LFGM']\n",
    "    #type3: OFF/DEF FGE\n",
    "    df[\"WEFG_SUM\"] = (df[\"WFGM\"]+0.5*df[\"WFGM3\"])/df[\"WFGA\"]\n",
    "    df[\"LEFG_SUM\"] = (df[\"LFGM\"]+0.5*df[\"LFGM3\"])/df[\"LFGA\"]\n",
    "\n",
    "    #POSS RATE\n",
    "    df[\"WPOSS\"] = df[\"WFGA\"] + 0.44*df[\"WFTA\"] - df[\"WOR\"] + df[\"WTO\"]\n",
    "    df[\"LPOSS\"] = df[\"LFGA\"] + 0.44*df[\"LFTA\"] - df[\"LOR\"] + df[\"LTO\"]\n",
    "    df[\"WPOSS_RATE\"] = df[\"WPOSS\"]/(df[\"WPOSS\"]+df[\"LPOSS\"])\n",
    "    df[\"LPOSS_RATE\"] = df[\"LPOSS\"]/(df[\"WPOSS\"]+df[\"LPOSS\"])\n",
    "    \n",
    "    #TO Ratio \n",
    "    df[\"WTO_RATIO\"] = df[\"WTO\"]/(df[\"WFGA\"]+0.44*df[\"WFTA\"]+df[\"WTO\"])#POSS RATEと違ってOR入っていない\n",
    "    df[\"LTO_RATIO\"] = df[\"LTO\"]/(df[\"LFGA\"]+0.44*df[\"LFTA\"]+df[\"LTO\"])\n",
    "    \n",
    "    # REB%\n",
    "    df[\"WREB_RATE\"] = df[\"WOR\"]/(df[\"WOR\"]+df[\"LDR\"])\n",
    "    df[\"LREB_RATE\"] = df[\"LOR\"]/(df[\"LOR\"]+df[\"WDR\"])\n",
    "    \n",
    "    #FT %\n",
    "    df[\"WFT_RATE\"] = df[\"WFTA\"]/df[\"WFGA\"]\n",
    "    df[\"LFT_RATE\"] = df[\"LFTA\"]/df[\"LFGA\"]\n",
    "    \n",
    "    #rating\n",
    "    df[\"WRATING\"] = df[\"WScore\"]/df[\"WPOSS\"]\n",
    "    df[\"LRATING\"] = df[\"LScore\"]/df[\"LPOSS\"]\n",
    "        \n",
    "    #0除算補完\n",
    "    print(df.info())\n",
    "        \n",
    "    #かさましに伴う反転カラム\n",
    "    dfswap = df.copy()\n",
    "    # Home, Away変換して反転\n",
    "    dfswap.loc[df['WLoc'] == 'H', 'WLoc'] = 'A'\n",
    "    dfswap.loc[df['WLoc'] == 'A', 'WLoc'] = 'H'\n",
    "    df.columns.values[6] = 'location'\n",
    "    dfswap.columns.values[6] = 'location'    \n",
    "    #反転\n",
    "    df.columns = [x.replace('W','T1_').replace('L','T2_') for x in list(df.columns)]\n",
    "    dfswap.columns = [x.replace('L','T1_').replace('W','T2_') for x in list(dfswap.columns)]\n",
    "    output = pd.concat([df, dfswap]).reset_index(drop=True)\n",
    "    \n",
    "    \n",
    "    #add new feature\n",
    "    #locationを数値に変換\n",
    "    output.loc[output.location=='N','location'] = '0'\n",
    "    output.loc[output.location=='H','location'] = '1'\n",
    "    output.loc[output.location=='A','location'] = '-1'\n",
    "    output.location = output.location.astype(int)\n",
    "    \n",
    "    #add PointDiff&win\n",
    "    output['PointDiff'] = output['T1_Score'] - output['T2_Score']\n",
    "    output[\"win\"] = np.where(output['PointDiff']>0,1,0)\n",
    "    \n",
    "    \n",
    "    print(f\"feature cols after prepare()\")\n",
    "    print(output.columns)\n",
    "    return output\n",
    "\n"
   ]
  },
  {
   "cell_type": "code",
   "execution_count": 6,
   "id": "17a59b87",
   "metadata": {
    "execution": {
     "iopub.execute_input": "2025-03-14T14:33:40.835999Z",
     "iopub.status.busy": "2025-03-14T14:33:40.835999Z",
     "iopub.status.idle": "2025-03-14T14:33:40.920307Z",
     "shell.execute_reply": "2025-03-14T14:33:40.920307Z"
    },
    "papermill": {
     "duration": 0.100525,
     "end_time": "2025-03-14T14:33:40.921829",
     "exception": false,
     "start_time": "2025-03-14T14:33:40.821304",
     "status": "completed"
    },
    "tags": []
   },
   "outputs": [
    {
     "name": "stdout",
     "output_type": "stream",
     "text": [
      "各カラムの異常値の個数を表示します。\n",
      "\n"
     ]
    }
   ],
   "source": [
    "import numpy as np\n",
    "\n",
    "# 異常値のチェック\n",
    "def check_abnormal_values(df):\n",
    "    print(\"各カラムの異常値の個数を表示します。\\n\")\n",
    "\n",
    "    for col in df.columns:\n",
    "        nan_count = df[col].isna().sum()  # NaN の数\n",
    "        inf_count = (df[col] == np.inf).sum()  # inf の数\n",
    "        neg_inf_count = (df[col] == -np.inf).sum()  # -inf の数\n",
    "\n",
    "        if nan_count > 0 or inf_count > 0 or neg_inf_count > 0:\n",
    "            print(f\"Column: {col}\")\n",
    "            print(f\"  NaN    : {nan_count}\")\n",
    "            print(f\"  Inf    : {inf_count}\")\n",
    "            print(f\"  -Inf   : {neg_inf_count}\")\n",
    "            print(\"-\" * 30)\n",
    "\n",
    "# 関数を実行\n",
    "check_abnormal_values(regular_results)\n"
   ]
  },
  {
   "cell_type": "code",
   "execution_count": 7,
   "id": "24ce7957",
   "metadata": {
    "execution": {
     "iopub.execute_input": "2025-03-14T14:33:40.938664Z",
     "iopub.status.busy": "2025-03-14T14:33:40.938664Z",
     "iopub.status.idle": "2025-03-14T14:33:41.429933Z",
     "shell.execute_reply": "2025-03-14T14:33:41.429933Z"
    },
    "papermill": {
     "duration": 0.507606,
     "end_time": "2025-03-14T14:33:41.431440",
     "exception": false,
     "start_time": "2025-03-14T14:33:40.923834",
     "status": "completed"
    },
    "tags": []
   },
   "outputs": [
    {
     "name": "stdout",
     "output_type": "stream",
     "text": [
      "<class 'pandas.core.frame.DataFrame'>\n",
      "Index: 139193 entries, 0 to 170137\n",
      "Data columns (total 56 columns):\n",
      " #   Column       Non-Null Count   Dtype  \n",
      "---  ------       --------------   -----  \n",
      " 0   Season       139193 non-null  int64  \n",
      " 1   DayNum       139193 non-null  int64  \n",
      " 2   WTeamID      139193 non-null  int64  \n",
      " 3   WScore       139193 non-null  int64  \n",
      " 4   LTeamID      139193 non-null  int64  \n",
      " 5   LScore       139193 non-null  int64  \n",
      " 6   WLoc         139193 non-null  object \n",
      " 7   NumOT        139193 non-null  int64  \n",
      " 8   WFGM         139193 non-null  int64  \n",
      " 9   WFGA         139193 non-null  int64  \n",
      " 10  WFGM3        139193 non-null  int64  \n",
      " 11  WFGA3        139193 non-null  int64  \n",
      " 12  WFTM         139193 non-null  int64  \n",
      " 13  WFTA         139193 non-null  int64  \n",
      " 14  WOR          139193 non-null  int64  \n",
      " 15  WDR          139193 non-null  int64  \n",
      " 16  WAst         139193 non-null  int64  \n",
      " 17  WTO          139193 non-null  int64  \n",
      " 18  WStl         139193 non-null  int64  \n",
      " 19  WBlk         139193 non-null  int64  \n",
      " 20  WPF          139193 non-null  int64  \n",
      " 21  LFGM         139193 non-null  int64  \n",
      " 22  LFGA         139193 non-null  int64  \n",
      " 23  LFGM3        139193 non-null  int64  \n",
      " 24  LFGA3        139193 non-null  int64  \n",
      " 25  LFTM         139193 non-null  int64  \n",
      " 26  LFTA         139193 non-null  int64  \n",
      " 27  LOR          139193 non-null  int64  \n",
      " 28  LDR          139193 non-null  int64  \n",
      " 29  LAst         139193 non-null  int64  \n",
      " 30  LTO          139193 non-null  int64  \n",
      " 31  LStl         139193 non-null  int64  \n",
      " 32  LBlk         139193 non-null  int64  \n",
      " 33  LPF          139193 non-null  int64  \n",
      " 34  WEFFG        139193 non-null  float64\n",
      " 35  LEFFG        139193 non-null  float64\n",
      " 36  WEFFG3       139193 non-null  float64\n",
      " 37  LEFFG3       139193 non-null  float64\n",
      " 38  WDARE        139193 non-null  float64\n",
      " 39  LDARE        139193 non-null  float64\n",
      " 40  WTOQUETOQUE  139193 non-null  float64\n",
      " 41  LTOQUETOQUE  139193 non-null  float64\n",
      " 42  WEFG_SUM     139193 non-null  float64\n",
      " 43  LEFG_SUM     139193 non-null  float64\n",
      " 44  WPOSS        139193 non-null  float64\n",
      " 45  LPOSS        139193 non-null  float64\n",
      " 46  WPOSS_RATE   139193 non-null  float64\n",
      " 47  LPOSS_RATE   139193 non-null  float64\n",
      " 48  WTO_RATIO    139193 non-null  float64\n",
      " 49  LTO_RATIO    139193 non-null  float64\n",
      " 50  WREB_RATE    139193 non-null  float64\n",
      " 51  LREB_RATE    139193 non-null  float64\n",
      " 52  WFT_RATE     139193 non-null  float64\n",
      " 53  LFT_RATE     139193 non-null  float64\n",
      " 54  WRATING      139193 non-null  float64\n",
      " 55  LRATING      139193 non-null  float64\n",
      "dtypes: float64(22), int64(33), object(1)\n",
      "memory usage: 60.5+ MB\n",
      "None\n"
     ]
    },
    {
     "name": "stdout",
     "output_type": "stream",
     "text": [
      "feature cols after prepare()\n",
      "Index(['Season', 'DayNum', 'T1_TeamID', 'T1_Score', 'T2_TeamID', 'T2_Score',\n",
      "       'location', 'NumOT', 'T1_FGM', 'T1_FGA', 'T1_FGM3', 'T1_FGA3', 'T1_FTM',\n",
      "       'T1_FTA', 'T1_OR', 'T1_DR', 'T1_Ast', 'T1_TO', 'T1_Stl', 'T1_Blk',\n",
      "       'T1_PF', 'T2_FGM', 'T2_FGA', 'T2_FGM3', 'T2_FGA3', 'T2_FTM', 'T2_FTA',\n",
      "       'T2_OR', 'T2_DR', 'T2_Ast', 'T2_TO', 'T2_Stl', 'T2_Blk', 'T2_PF',\n",
      "       'T1_EFFG', 'T2_EFFG', 'T1_EFFG3', 'T2_EFFG3', 'T1_DARE', 'T2_DARE',\n",
      "       'T1_TOQUETOQUE', 'T2_TOQUETOQUE', 'T1_EFG_SUM', 'T2_EFG_SUM', 'T1_POSS',\n",
      "       'T2_POSS', 'T1_POSS_RATE', 'T2_POSS_RATE', 'T1_TO_RATIO', 'T2_TO_RATIO',\n",
      "       'T1_REB_RATE', 'T2_REB_RATE', 'T1_FT_RATE', 'T2_FT_RATE', 'T1_RATING',\n",
      "       'T2_RATING', 'PointDiff', 'win'],\n",
      "      dtype='object')\n",
      "<class 'pandas.core.frame.DataFrame'>\n",
      "RangeIndex: 278386 entries, 0 to 278385\n",
      "Data columns (total 58 columns):\n",
      " #   Column         Non-Null Count   Dtype  \n",
      "---  ------         --------------   -----  \n",
      " 0   Season         278386 non-null  int64  \n",
      " 1   DayNum         278386 non-null  int64  \n",
      " 2   T1_TeamID      278386 non-null  int64  \n",
      " 3   T1_Score       278386 non-null  int64  \n",
      " 4   T2_TeamID      278386 non-null  int64  \n",
      " 5   T2_Score       278386 non-null  int64  \n",
      " 6   location       278386 non-null  int32  \n",
      " 7   NumOT          278386 non-null  int64  \n",
      " 8   T1_FGM         278386 non-null  int64  \n",
      " 9   T1_FGA         278386 non-null  int64  \n",
      " 10  T1_FGM3        278386 non-null  int64  \n",
      " 11  T1_FGA3        278386 non-null  int64  \n",
      " 12  T1_FTM         278386 non-null  int64  \n",
      " 13  T1_FTA         278386 non-null  int64  \n",
      " 14  T1_OR          278386 non-null  int64  \n",
      " 15  T1_DR          278386 non-null  int64  \n",
      " 16  T1_Ast         278386 non-null  int64  \n",
      " 17  T1_TO          278386 non-null  int64  \n",
      " 18  T1_Stl         278386 non-null  int64  \n",
      " 19  T1_Blk         278386 non-null  int64  \n",
      " 20  T1_PF          278386 non-null  int64  \n",
      " 21  T2_FGM         278386 non-null  int64  \n",
      " 22  T2_FGA         278386 non-null  int64  \n",
      " 23  T2_FGM3        278386 non-null  int64  \n",
      " 24  T2_FGA3        278386 non-null  int64  \n",
      " 25  T2_FTM         278386 non-null  int64  \n",
      " 26  T2_FTA         278386 non-null  int64  \n",
      " 27  T2_OR          278386 non-null  int64  \n",
      " 28  T2_DR          278386 non-null  int64  \n",
      " 29  T2_Ast         278386 non-null  int64  \n",
      " 30  T2_TO          278386 non-null  int64  \n",
      " 31  T2_Stl         278386 non-null  int64  \n",
      " 32  T2_Blk         278386 non-null  int64  \n",
      " 33  T2_PF          278386 non-null  int64  \n",
      " 34  T1_EFFG        278386 non-null  float64\n",
      " 35  T2_EFFG        278386 non-null  float64\n",
      " 36  T1_EFFG3       278386 non-null  float64\n",
      " 37  T2_EFFG3       278386 non-null  float64\n",
      " 38  T1_DARE        278386 non-null  float64\n",
      " 39  T2_DARE        278386 non-null  float64\n",
      " 40  T1_TOQUETOQUE  278386 non-null  float64\n",
      " 41  T2_TOQUETOQUE  278386 non-null  float64\n",
      " 42  T1_EFG_SUM     278386 non-null  float64\n",
      " 43  T2_EFG_SUM     278386 non-null  float64\n",
      " 44  T1_POSS        278386 non-null  float64\n",
      " 45  T2_POSS        278386 non-null  float64\n",
      " 46  T1_POSS_RATE   278386 non-null  float64\n",
      " 47  T2_POSS_RATE   278386 non-null  float64\n",
      " 48  T1_TO_RATIO    278386 non-null  float64\n",
      " 49  T2_TO_RATIO    278386 non-null  float64\n",
      " 50  T1_REB_RATE    278386 non-null  float64\n",
      " 51  T2_REB_RATE    278386 non-null  float64\n",
      " 52  T1_FT_RATE     278386 non-null  float64\n",
      " 53  T2_FT_RATE     278386 non-null  float64\n",
      " 54  T1_RATING      278386 non-null  float64\n",
      " 55  T2_RATING      278386 non-null  float64\n",
      " 56  PointDiff      278386 non-null  int64  \n",
      " 57  win            278386 non-null  int32  \n",
      "dtypes: float64(22), int32(2), int64(34)\n",
      "memory usage: 121.1 MB\n"
     ]
    },
    {
     "data": {
      "text/html": [
       "<div>\n",
       "<style scoped>\n",
       "    .dataframe tbody tr th:only-of-type {\n",
       "        vertical-align: middle;\n",
       "    }\n",
       "\n",
       "    .dataframe tbody tr th {\n",
       "        vertical-align: top;\n",
       "    }\n",
       "\n",
       "    .dataframe thead th {\n",
       "        text-align: right;\n",
       "    }\n",
       "</style>\n",
       "<table border=\"1\" class=\"dataframe\">\n",
       "  <thead>\n",
       "    <tr style=\"text-align: right;\">\n",
       "      <th></th>\n",
       "      <th>Season</th>\n",
       "      <th>DayNum</th>\n",
       "      <th>T1_TeamID</th>\n",
       "      <th>T1_Score</th>\n",
       "      <th>T2_TeamID</th>\n",
       "      <th>T2_Score</th>\n",
       "      <th>location</th>\n",
       "      <th>NumOT</th>\n",
       "      <th>T1_FGM</th>\n",
       "      <th>T1_FGA</th>\n",
       "      <th>...</th>\n",
       "      <th>T1_TO_RATIO</th>\n",
       "      <th>T2_TO_RATIO</th>\n",
       "      <th>T1_REB_RATE</th>\n",
       "      <th>T2_REB_RATE</th>\n",
       "      <th>T1_FT_RATE</th>\n",
       "      <th>T2_FT_RATE</th>\n",
       "      <th>T1_RATING</th>\n",
       "      <th>T2_RATING</th>\n",
       "      <th>PointDiff</th>\n",
       "      <th>win</th>\n",
       "    </tr>\n",
       "  </thead>\n",
       "  <tbody>\n",
       "    <tr>\n",
       "      <th>0</th>\n",
       "      <td>2003</td>\n",
       "      <td>10</td>\n",
       "      <td>1104</td>\n",
       "      <td>68</td>\n",
       "      <td>1328</td>\n",
       "      <td>62</td>\n",
       "      <td>0</td>\n",
       "      <td>0</td>\n",
       "      <td>27</td>\n",
       "      <td>58</td>\n",
       "      <td>...</td>\n",
       "      <td>0.258659</td>\n",
       "      <td>0.223104</td>\n",
       "      <td>0.388889</td>\n",
       "      <td>0.294118</td>\n",
       "      <td>0.310345</td>\n",
       "      <td>0.415094</td>\n",
       "      <td>0.907635</td>\n",
       "      <td>0.877193</td>\n",
       "      <td>6</td>\n",
       "      <td>1</td>\n",
       "    </tr>\n",
       "    <tr>\n",
       "      <th>1</th>\n",
       "      <td>2003</td>\n",
       "      <td>10</td>\n",
       "      <td>1272</td>\n",
       "      <td>70</td>\n",
       "      <td>1393</td>\n",
       "      <td>63</td>\n",
       "      <td>0</td>\n",
       "      <td>0</td>\n",
       "      <td>26</td>\n",
       "      <td>62</td>\n",
       "      <td>...</td>\n",
       "      <td>0.155950</td>\n",
       "      <td>0.136674</td>\n",
       "      <td>0.375000</td>\n",
       "      <td>0.416667</td>\n",
       "      <td>0.306452</td>\n",
       "      <td>0.298507</td>\n",
       "      <td>1.023991</td>\n",
       "      <td>0.929204</td>\n",
       "      <td>7</td>\n",
       "      <td>1</td>\n",
       "    </tr>\n",
       "    <tr>\n",
       "      <th>2</th>\n",
       "      <td>2003</td>\n",
       "      <td>11</td>\n",
       "      <td>1266</td>\n",
       "      <td>73</td>\n",
       "      <td>1437</td>\n",
       "      <td>61</td>\n",
       "      <td>0</td>\n",
       "      <td>0</td>\n",
       "      <td>24</td>\n",
       "      <td>58</td>\n",
       "      <td>...</td>\n",
       "      <td>0.123824</td>\n",
       "      <td>0.126156</td>\n",
       "      <td>0.435897</td>\n",
       "      <td>0.543860</td>\n",
       "      <td>0.500000</td>\n",
       "      <td>0.315068</td>\n",
       "      <td>1.144918</td>\n",
       "      <td>0.951341</td>\n",
       "      <td>12</td>\n",
       "      <td>1</td>\n",
       "    </tr>\n",
       "    <tr>\n",
       "      <th>3</th>\n",
       "      <td>2003</td>\n",
       "      <td>11</td>\n",
       "      <td>1296</td>\n",
       "      <td>56</td>\n",
       "      <td>1457</td>\n",
       "      <td>50</td>\n",
       "      <td>0</td>\n",
       "      <td>0</td>\n",
       "      <td>18</td>\n",
       "      <td>38</td>\n",
       "      <td>...</td>\n",
       "      <td>0.188561</td>\n",
       "      <td>0.254692</td>\n",
       "      <td>0.230769</td>\n",
       "      <td>0.472222</td>\n",
       "      <td>0.815789</td>\n",
       "      <td>0.306122</td>\n",
       "      <td>0.971548</td>\n",
       "      <td>0.868056</td>\n",
       "      <td>6</td>\n",
       "      <td>1</td>\n",
       "    </tr>\n",
       "    <tr>\n",
       "      <th>4</th>\n",
       "      <td>2003</td>\n",
       "      <td>11</td>\n",
       "      <td>1400</td>\n",
       "      <td>77</td>\n",
       "      <td>1208</td>\n",
       "      <td>71</td>\n",
       "      <td>0</td>\n",
       "      <td>0</td>\n",
       "      <td>30</td>\n",
       "      <td>61</td>\n",
       "      <td>...</td>\n",
       "      <td>0.173439</td>\n",
       "      <td>0.119218</td>\n",
       "      <td>0.531250</td>\n",
       "      <td>0.488372</td>\n",
       "      <td>0.213115</td>\n",
       "      <td>0.435484</td>\n",
       "      <td>1.208412</td>\n",
       "      <td>1.129135</td>\n",
       "      <td>6</td>\n",
       "      <td>1</td>\n",
       "    </tr>\n",
       "  </tbody>\n",
       "</table>\n",
       "<p>5 rows × 58 columns</p>\n",
       "</div>"
      ],
      "text/plain": [
       "   Season  DayNum  T1_TeamID  T1_Score  T2_TeamID  T2_Score  location  NumOT  \\\n",
       "0    2003      10       1104        68       1328        62         0      0   \n",
       "1    2003      10       1272        70       1393        63         0      0   \n",
       "2    2003      11       1266        73       1437        61         0      0   \n",
       "3    2003      11       1296        56       1457        50         0      0   \n",
       "4    2003      11       1400        77       1208        71         0      0   \n",
       "\n",
       "   T1_FGM  T1_FGA  ...  T1_TO_RATIO  T2_TO_RATIO  T1_REB_RATE  T2_REB_RATE  \\\n",
       "0      27      58  ...     0.258659     0.223104     0.388889     0.294118   \n",
       "1      26      62  ...     0.155950     0.136674     0.375000     0.416667   \n",
       "2      24      58  ...     0.123824     0.126156     0.435897     0.543860   \n",
       "3      18      38  ...     0.188561     0.254692     0.230769     0.472222   \n",
       "4      30      61  ...     0.173439     0.119218     0.531250     0.488372   \n",
       "\n",
       "   T1_FT_RATE  T2_FT_RATE  T1_RATING  T2_RATING  PointDiff  win  \n",
       "0    0.310345    0.415094   0.907635   0.877193          6    1  \n",
       "1    0.306452    0.298507   1.023991   0.929204          7    1  \n",
       "2    0.500000    0.315068   1.144918   0.951341         12    1  \n",
       "3    0.815789    0.306122   0.971548   0.868056          6    1  \n",
       "4    0.213115    0.435484   1.208412   1.129135          6    1  \n",
       "\n",
       "[5 rows x 58 columns]"
      ]
     },
     "metadata": {},
     "output_type": "display_data"
    },
    {
     "data": {
      "text/plain": [
       "None"
      ]
     },
     "metadata": {},
     "output_type": "display_data"
    }
   ],
   "source": [
    "#予測する年以降の情報はフィルタリング\n",
    "USE_START_YEAR = cfg.exp.tournament.use_start_season\n",
    "notexist = tourney_results[tourney_results[\"Season\"] == PREDICT_YEAR]\n",
    "tourney_results = tourney_results[(tourney_results[\"Season\"] >= USE_START_YEAR) & (tourney_results[\"Season\"] < PREDICT_YEAR)]\n",
    "seeds = seeds[(seeds[\"Season\"] >= USE_START_YEAR) & (seeds[\"Season\"] <= PREDICT_YEAR)]\n",
    "regular_results = regular_results[(regular_results[\"Season\"] >= USE_START_YEAR) & (regular_results[\"Season\"] <= PREDICT_YEAR)]\n",
    "\n",
    "regular_data = prepare_data(regular_results)\n",
    "display(regular_data.head(), regular_data.info())"
   ]
  },
  {
   "cell_type": "code",
   "execution_count": 8,
   "id": "787dba5e",
   "metadata": {
    "execution": {
     "iopub.execute_input": "2025-03-14T14:33:41.450006Z",
     "iopub.status.busy": "2025-03-14T14:33:41.450006Z",
     "iopub.status.idle": "2025-03-14T14:33:41.470332Z",
     "shell.execute_reply": "2025-03-14T14:33:41.470332Z"
    },
    "papermill": {
     "duration": 0.041354,
     "end_time": "2025-03-14T14:33:41.472794",
     "exception": false,
     "start_time": "2025-03-14T14:33:41.431440",
     "status": "completed"
    },
    "tags": []
   },
   "outputs": [],
   "source": [
    "#使用特徴量(boxscore_cols)を取得してそれに対して(\"Season\", 'T1_TeamID')でまとめた特徴量の追加\n",
    "#### 1. win_ration_14d ####\n",
    "def add_win_ratio_14d(df):\n",
    "    df_filtered = df[df['DayNum'] > 118].copy()\n",
    "    df_filtered['Win'] = (df_filtered['PointDiff'] > 0).astype(int)\n",
    "    \n",
    "    win_ratio_t1 = df_filtered.groupby(['Season', 'T1_TeamID'])['Win'].mean().reset_index()\n",
    "    win_ratio_t1.rename(columns={'Win': 'T1_win_ratio_14d'}, inplace=True)\n",
    "    \n",
    "    win_ratio_t2 = df_filtered.groupby(['Season', 'T2_TeamID'])['Win'].mean().reset_index()\n",
    "    win_ratio_t2.rename(columns={'Win': 'T2_win_ratio_14d'}, inplace=True)\n",
    "    \n",
    "    df = df.merge(win_ratio_t1, on=['Season', 'T1_TeamID'], how='left')\n",
    "    df = df.merge(win_ratio_t2, on=['Season', 'T2_TeamID'], how='left')\n",
    "    \n",
    "    return df\n",
    "\n",
    "##### 2. add mean of boxscore ####\n",
    "def make_col_avg(df, boxscore, group = [\"Season\", \"T1_TeamID\"], func= [np.mean]):\n",
    "    df_stat = df.groupby(group)[boxscore].agg(func)\n",
    "    df_stat.columns = [''.join(col).strip() for col in df_stat.columns.values]\n",
    "    df_stat = df_stat.reset_index()\n",
    "\n",
    "    win_ratio_cols = ['T1_win_ratio_14d'] #ここマージの関係からT2_win_ratio_14dを外したけど大丈夫か考える\n",
    "    df_win_ratio = df[group + win_ratio_cols].drop_duplicates()\n",
    "    df_stat = df_stat.merge(df_win_ratio, on=group, how='left')\n",
    "    \n",
    "    return df_stat\n",
    "\n",
    "#### 3. add team quality ####\n",
    "# 3.0 ロジスティックを行うためのregular_season_effectsデータフレームの作成\n",
    "def make_regular_season_effects(df):\n",
    "    regular_season_effects = df[['Season', 'T1_TeamID', 'T2_TeamID', 'PointDiff']].copy()\n",
    "    regular_season_effects['win'] = np.where(regular_season_effects['PointDiff'] > 0, 1, 0)\n",
    "    return regular_season_effects\n",
    "\n",
    "# 3.1\n",
    "#各シーズンごとの総当たりに対するロジスティック回帰を行う\n",
    "#目的変数はfeatureenginneringから作成したPointDiffの正負に依存するWinとする.\n",
    "#新たな特徴量\"quarity\"をseasonごとの戦績をもとにロジスティックの回帰係数として導入している\n",
    "def team_quality(season,df):\n",
    "    season_data = df[df[\"Season\"] == season]\n",
    "    X = season_data[['T1_TeamID', 'T2_TeamID']]\n",
    "    y = season_data['win']\n",
    "    print(X.shape, y.shape)\n",
    "    encoder = OneHotEncoder(sparse_output=False) #多重共線性防止, 密行列指定\n",
    "    X_encoded = encoder.fit_transform(X)\n",
    "    \n",
    "    model = LogisticRegression(fit_intercept=False)\n",
    "    model.fit(X_encoded, y)\n",
    "    team_ids = encoder.get_feature_names_out(['T1_TeamID', 'T2_TeamID'])\n",
    "\n",
    "    \n",
    "    #quarity: (チーム数)*2(ID, 回帰係数)\n",
    "    quality = pd.DataFrame({\n",
    "        'TeamID': team_ids,\n",
    "        'quality': model.coef_.flatten() #T1_TeamID_1112,,,の形でチーム数分の回帰係数が入る\n",
    "    })\n",
    "\n",
    "    # 値をint 1112 のように整形\n",
    "    quality = quality[quality['TeamID'].str.contains('T1_TeamID')]\n",
    "    quality['TeamID'] = quality['TeamID'].str.replace('T1_TeamID_', '', regex=True).astype(int)\n",
    "    quality['Season'] = season\n",
    "\n",
    "    #display(quality.head())\n",
    "    print(f\"fin make {season}'s team quarity\")\n",
    "    return quality\n",
    "\n",
    "# 4. add seed\n",
    "def add_seed(df, seeds):\n",
    "    temp = seeds.copy()\n",
    "    temp['Seed'] = temp['Seed'].apply(lambda x: int(x[1:3]))\n",
    "    temp.columns = ['Season','T1_seed','T1_TeamID']\n",
    "    df = pd.merge(df, temp, on=[\"Season\", \"T1_TeamID\"], how=\"left\")\n",
    "    return df \n",
    "\n",
    "# 5. add Ordinal rank\n",
    "def add_ordinalrank(df, ordinal):\n",
    "    df_rank = ordinal.groupby([\"Season\", \"TeamID\"])[\"OrdinalRank\"].agg(np.mean).reset_index()\n",
    "    df_rank.head()\n",
    "    ranks = df_rank.rename(columns={'TeamID': 'T1_TeamID', 'OrdinalRank': 'T1_OrdinalRank'})\n",
    "    df = pd.merge(df,ranks,on = [\"Season\",\"T1_TeamID\"],how = \"left\")\n",
    "    return df\n",
    "\n",
    "# main \n",
    "def make_season_statistics(df, boxscore, seeds, func = [np.mean]):\n",
    "    # 1. Win Ratio の計算と追加\n",
    "    add_win = add_win_ratio_14d(df)\n",
    "    print(\"after add win ratio\")\n",
    "    print(add_win.columns)  \n",
    "    \n",
    "    #2. \n",
    "    add_mean = make_col_avg(add_win, boxscore)\n",
    "    print(\"after mean of boxscore\")\n",
    "    print(add_mean.columns)\n",
    "    \n",
    "    #3. \n",
    "    global PREDICT_YEAR, USE_START_YEAR\n",
    "    start_season = max(FEATURES.start_quality_season, USE_START_YEAR)\n",
    "    print(f\"use season for quality feature is: {start_season}\")\n",
    "    regular_season_effects = make_regular_season_effects(df)\n",
    "    glm_season = [i for i in range(start_season, PREDICT_YEAR+1)]\n",
    "\n",
    "    if 2020 in glm_season:\n",
    "        glm_season.remove(2020)\n",
    "    glm_quality = pd.concat([team_quality(season, regular_season_effects) for season in glm_season]).reset_index(drop=True)\n",
    "    # add glm quality \n",
    "    glm_quality_T1 = glm_quality.rename(columns={'TeamID': 'T1_TeamID', 'quality': 'T1_quality'})\n",
    "    add_glm = add_mean.merge(glm_quality_T1, on=['Season', 'T1_TeamID'], how='left')\n",
    "\n",
    "    print(\"add glm quality\")\n",
    "    print(add_glm.columns)\n",
    "    \n",
    "    #4. \n",
    "    add_seeds = add_seed(add_glm, seeds)\n",
    "    print(\"add seeds (final form)\")\n",
    "    print(add_seeds.columns)\n",
    "    \n",
    "    #5. \n",
    "    add_rank = add_ordinalrank(add_seeds, ordinal_rank)\n",
    "    print(\"add ordinal rank\")\n",
    "    print(add_rank.columns)  \n",
    "    return add_rank"
   ]
  },
  {
   "cell_type": "code",
   "execution_count": 9,
   "id": "cf526db4",
   "metadata": {
    "execution": {
     "iopub.execute_input": "2025-03-14T14:33:41.493966Z",
     "iopub.status.busy": "2025-03-14T14:33:41.493966Z",
     "iopub.status.idle": "2025-03-14T14:33:44.879492Z",
     "shell.execute_reply": "2025-03-14T14:33:44.879492Z"
    },
    "papermill": {
     "duration": 3.394919,
     "end_time": "2025-03-14T14:33:44.879492",
     "exception": false,
     "start_time": "2025-03-14T14:33:41.484573",
     "status": "completed"
    },
    "tags": []
   },
   "outputs": [
    {
     "name": "stdout",
     "output_type": "stream",
     "text": [
      "use boxscore col is\n",
      "['PointDiff', 'T1_FGM', 'T2_FGM', 'T1_FGA', 'T2_FGA', 'T1_EFG_SUM', 'T2_EFG_SUM', 'T1_TO_RATIO', 'T2_TO_RATIO', 'T1_OR', 'T2_OR', 'T1_DR', 'T2_DR', 'T1_REB_RATE', 'T2_REB_RATE', 'T1_FT_RATE', 'T2_FT_RATE', 'T1_POSS_RATE', 'T2_POSS_RATE', 'T1_Ast', 'T2_Ast', 'T1_TO', 'T2_TO', 'T1_Stl', 'T2_Stl', 'T1_Blk', 'T2_Blk', 'T1_PF', 'T2_PF']\n"
     ]
    },
    {
     "name": "stdout",
     "output_type": "stream",
     "text": [
      "after add win ratio\n",
      "Index(['Season', 'DayNum', 'T1_TeamID', 'T1_Score', 'T2_TeamID', 'T2_Score',\n",
      "       'location', 'NumOT', 'T1_FGM', 'T1_FGA', 'T1_FGM3', 'T1_FGA3', 'T1_FTM',\n",
      "       'T1_FTA', 'T1_OR', 'T1_DR', 'T1_Ast', 'T1_TO', 'T1_Stl', 'T1_Blk',\n",
      "       'T1_PF', 'T2_FGM', 'T2_FGA', 'T2_FGM3', 'T2_FGA3', 'T2_FTM', 'T2_FTA',\n",
      "       'T2_OR', 'T2_DR', 'T2_Ast', 'T2_TO', 'T2_Stl', 'T2_Blk', 'T2_PF',\n",
      "       'T1_EFFG', 'T2_EFFG', 'T1_EFFG3', 'T2_EFFG3', 'T1_DARE', 'T2_DARE',\n",
      "       'T1_TOQUETOQUE', 'T2_TOQUETOQUE', 'T1_EFG_SUM', 'T2_EFG_SUM', 'T1_POSS',\n",
      "       'T2_POSS', 'T1_POSS_RATE', 'T2_POSS_RATE', 'T1_TO_RATIO', 'T2_TO_RATIO',\n",
      "       'T1_REB_RATE', 'T2_REB_RATE', 'T1_FT_RATE', 'T2_FT_RATE', 'T1_RATING',\n",
      "       'T2_RATING', 'PointDiff', 'win', 'T1_win_ratio_14d',\n",
      "       'T2_win_ratio_14d'],\n",
      "      dtype='object')\n",
      "after mean of boxscore\n",
      "Index(['Season', 'T1_TeamID', 'PointDiffmean', 'T1_FGMmean', 'T2_FGMmean',\n",
      "       'T1_FGAmean', 'T2_FGAmean', 'T1_EFG_SUMmean', 'T2_EFG_SUMmean',\n",
      "       'T1_TO_RATIOmean', 'T2_TO_RATIOmean', 'T1_ORmean', 'T2_ORmean',\n",
      "       'T1_DRmean', 'T2_DRmean', 'T1_REB_RATEmean', 'T2_REB_RATEmean',\n",
      "       'T1_FT_RATEmean', 'T2_FT_RATEmean', 'T1_POSS_RATEmean',\n",
      "       'T2_POSS_RATEmean', 'T1_Astmean', 'T2_Astmean', 'T1_TOmean',\n",
      "       'T2_TOmean', 'T1_Stlmean', 'T2_Stlmean', 'T1_Blkmean', 'T2_Blkmean',\n",
      "       'T1_PFmean', 'T2_PFmean', 'T1_win_ratio_14d'],\n",
      "      dtype='object')\n",
      "use season for quality feature is: 2003\n",
      "(9232, 2) (9232,)\n"
     ]
    },
    {
     "name": "stderr",
     "output_type": "stream",
     "text": [
      "C:\\Users\\81809\\AppData\\Local\\Temp\\ipykernel_12368\\386782032.py:20: FutureWarning: The provided callable <function mean at 0x000001EEBE0DA520> is currently using SeriesGroupBy.mean. In a future version of pandas, the provided callable will be used directly. To keep current behavior pass the string \"mean\" instead.\n",
      "  df_stat = df.groupby(group)[boxscore].agg(func)\n"
     ]
    },
    {
     "name": "stdout",
     "output_type": "stream",
     "text": [
      "fin make 2003's team quarity\n",
      "(9142, 2) (9142,)\n",
      "fin make 2004's team quarity\n",
      "(9350, 2) (9350,)\n",
      "fin make 2005's team quarity\n",
      "(9514, 2) (9514,)\n",
      "fin make 2006's team quarity\n",
      "(10086, 2) (10086,)\n",
      "fin make 2007's team quarity\n",
      "(10326, 2) (10326,)\n"
     ]
    },
    {
     "name": "stdout",
     "output_type": "stream",
     "text": [
      "fin make 2008's team quarity\n",
      "(10498, 2) (10498,)\n",
      "fin make 2009's team quarity\n",
      "(20600, 2) (20600,)\n"
     ]
    },
    {
     "name": "stdout",
     "output_type": "stream",
     "text": [
      "fin make 2010's team quarity\n",
      "(20660, 2) (20660,)\n",
      "fin make 2011's team quarity\n"
     ]
    },
    {
     "name": "stdout",
     "output_type": "stream",
     "text": [
      "(20606, 2) (20606,)\n",
      "fin make 2012's team quarity\n",
      "(21008, 2) (21008,)\n"
     ]
    },
    {
     "name": "stdout",
     "output_type": "stream",
     "text": [
      "fin make 2013's team quarity\n",
      "(21228, 2) (21228,)\n"
     ]
    },
    {
     "name": "stdout",
     "output_type": "stream",
     "text": [
      "fin make 2014's team quarity\n",
      "(21136, 2) (21136,)\n"
     ]
    },
    {
     "name": "stdout",
     "output_type": "stream",
     "text": [
      "fin make 2015's team quarity\n",
      "(21156, 2) (21156,)\n"
     ]
    },
    {
     "name": "stdout",
     "output_type": "stream",
     "text": [
      "fin make 2016's team quarity\n",
      "(21210, 2) (21210,)\n"
     ]
    },
    {
     "name": "stdout",
     "output_type": "stream",
     "text": [
      "fin make 2017's team quarity\n",
      "(21228, 2) (21228,)\n"
     ]
    },
    {
     "name": "stdout",
     "output_type": "stream",
     "text": [
      "fin make 2018's team quarity\n",
      "(21406, 2) (21406,)\n"
     ]
    },
    {
     "name": "stdout",
     "output_type": "stream",
     "text": [
      "fin make 2019's team quarity\n",
      "add glm quality\n",
      "Index(['Season', 'T1_TeamID', 'PointDiffmean', 'T1_FGMmean', 'T2_FGMmean',\n",
      "       'T1_FGAmean', 'T2_FGAmean', 'T1_EFG_SUMmean', 'T2_EFG_SUMmean',\n",
      "       'T1_TO_RATIOmean', 'T2_TO_RATIOmean', 'T1_ORmean', 'T2_ORmean',\n",
      "       'T1_DRmean', 'T2_DRmean', 'T1_REB_RATEmean', 'T2_REB_RATEmean',\n",
      "       'T1_FT_RATEmean', 'T2_FT_RATEmean', 'T1_POSS_RATEmean',\n",
      "       'T2_POSS_RATEmean', 'T1_Astmean', 'T2_Astmean', 'T1_TOmean',\n",
      "       'T2_TOmean', 'T1_Stlmean', 'T2_Stlmean', 'T1_Blkmean', 'T2_Blkmean',\n",
      "       'T1_PFmean', 'T2_PFmean', 'T1_win_ratio_14d', 'T1_quality'],\n",
      "      dtype='object')\n",
      "add seeds (final form)\n",
      "Index(['Season', 'T1_TeamID', 'PointDiffmean', 'T1_FGMmean', 'T2_FGMmean',\n",
      "       'T1_FGAmean', 'T2_FGAmean', 'T1_EFG_SUMmean', 'T2_EFG_SUMmean',\n",
      "       'T1_TO_RATIOmean', 'T2_TO_RATIOmean', 'T1_ORmean', 'T2_ORmean',\n",
      "       'T1_DRmean', 'T2_DRmean', 'T1_REB_RATEmean', 'T2_REB_RATEmean',\n",
      "       'T1_FT_RATEmean', 'T2_FT_RATEmean', 'T1_POSS_RATEmean',\n",
      "       'T2_POSS_RATEmean', 'T1_Astmean', 'T2_Astmean', 'T1_TOmean',\n",
      "       'T2_TOmean', 'T1_Stlmean', 'T2_Stlmean', 'T1_Blkmean', 'T2_Blkmean',\n",
      "       'T1_PFmean', 'T2_PFmean', 'T1_win_ratio_14d', 'T1_quality', 'T1_seed'],\n",
      "      dtype='object')\n"
     ]
    },
    {
     "name": "stderr",
     "output_type": "stream",
     "text": [
      "C:\\Users\\81809\\AppData\\Local\\Temp\\ipykernel_12368\\386782032.py:79: FutureWarning: The provided callable <function mean at 0x000001EEBE0DA520> is currently using SeriesGroupBy.mean. In a future version of pandas, the provided callable will be used directly. To keep current behavior pass the string \"mean\" instead.\n",
      "  df_rank = ordinal.groupby([\"Season\", \"TeamID\"])[\"OrdinalRank\"].agg(np.mean).reset_index()\n"
     ]
    },
    {
     "name": "stdout",
     "output_type": "stream",
     "text": [
      "add ordinal rank\n",
      "Index(['Season', 'T1_TeamID', 'PointDiffmean', 'T1_FGMmean', 'T2_FGMmean',\n",
      "       'T1_FGAmean', 'T2_FGAmean', 'T1_EFG_SUMmean', 'T2_EFG_SUMmean',\n",
      "       'T1_TO_RATIOmean', 'T2_TO_RATIOmean', 'T1_ORmean', 'T2_ORmean',\n",
      "       'T1_DRmean', 'T2_DRmean', 'T1_REB_RATEmean', 'T2_REB_RATEmean',\n",
      "       'T1_FT_RATEmean', 'T2_FT_RATEmean', 'T1_POSS_RATEmean',\n",
      "       'T2_POSS_RATEmean', 'T1_Astmean', 'T2_Astmean', 'T1_TOmean',\n",
      "       'T2_TOmean', 'T1_Stlmean', 'T2_Stlmean', 'T1_Blkmean', 'T2_Blkmean',\n",
      "       'T1_PFmean', 'T2_PFmean', 'T1_win_ratio_14d', 'T1_quality', 'T1_seed',\n",
      "       'T1_OrdinalRank'],\n",
      "      dtype='object')\n"
     ]
    },
    {
     "data": {
      "text/html": [
       "<div>\n",
       "<style scoped>\n",
       "    .dataframe tbody tr th:only-of-type {\n",
       "        vertical-align: middle;\n",
       "    }\n",
       "\n",
       "    .dataframe tbody tr th {\n",
       "        vertical-align: top;\n",
       "    }\n",
       "\n",
       "    .dataframe thead th {\n",
       "        text-align: right;\n",
       "    }\n",
       "</style>\n",
       "<table border=\"1\" class=\"dataframe\">\n",
       "  <thead>\n",
       "    <tr style=\"text-align: right;\">\n",
       "      <th></th>\n",
       "      <th>Season</th>\n",
       "      <th>T1_TeamID</th>\n",
       "      <th>PointDiffmean</th>\n",
       "      <th>T1_FGMmean</th>\n",
       "      <th>T2_FGMmean</th>\n",
       "      <th>T1_FGAmean</th>\n",
       "      <th>T2_FGAmean</th>\n",
       "      <th>T1_EFG_SUMmean</th>\n",
       "      <th>T2_EFG_SUMmean</th>\n",
       "      <th>T1_TO_RATIOmean</th>\n",
       "      <th>...</th>\n",
       "      <th>T1_Stlmean</th>\n",
       "      <th>T2_Stlmean</th>\n",
       "      <th>T1_Blkmean</th>\n",
       "      <th>T2_Blkmean</th>\n",
       "      <th>T1_PFmean</th>\n",
       "      <th>T2_PFmean</th>\n",
       "      <th>T1_win_ratio_14d</th>\n",
       "      <th>T1_quality</th>\n",
       "      <th>T1_seed</th>\n",
       "      <th>T1_OrdinalRank</th>\n",
       "    </tr>\n",
       "  </thead>\n",
       "  <tbody>\n",
       "    <tr>\n",
       "      <th>9298</th>\n",
       "      <td>2019</td>\n",
       "      <td>3462</td>\n",
       "      <td>-5.620690</td>\n",
       "      <td>21.896552</td>\n",
       "      <td>24.448276</td>\n",
       "      <td>57.517241</td>\n",
       "      <td>59.758621</td>\n",
       "      <td>0.448019</td>\n",
       "      <td>0.466845</td>\n",
       "      <td>0.183177</td>\n",
       "      <td>...</td>\n",
       "      <td>7.586207</td>\n",
       "      <td>7.758621</td>\n",
       "      <td>2.586207</td>\n",
       "      <td>3.172414</td>\n",
       "      <td>15.241379</td>\n",
       "      <td>15.172414</td>\n",
       "      <td>0.0</td>\n",
       "      <td>-0.296941</td>\n",
       "      <td>NaN</td>\n",
       "      <td>NaN</td>\n",
       "    </tr>\n",
       "    <tr>\n",
       "      <th>9299</th>\n",
       "      <td>2019</td>\n",
       "      <td>3463</td>\n",
       "      <td>1.793103</td>\n",
       "      <td>23.724138</td>\n",
       "      <td>21.965517</td>\n",
       "      <td>60.517241</td>\n",
       "      <td>60.379310</td>\n",
       "      <td>0.438814</td>\n",
       "      <td>0.412859</td>\n",
       "      <td>0.186032</td>\n",
       "      <td>...</td>\n",
       "      <td>5.172414</td>\n",
       "      <td>8.344828</td>\n",
       "      <td>3.586207</td>\n",
       "      <td>2.517241</td>\n",
       "      <td>16.448276</td>\n",
       "      <td>17.551724</td>\n",
       "      <td>0.0</td>\n",
       "      <td>0.134368</td>\n",
       "      <td>NaN</td>\n",
       "      <td>NaN</td>\n",
       "    </tr>\n",
       "    <tr>\n",
       "      <th>9300</th>\n",
       "      <td>2019</td>\n",
       "      <td>3464</td>\n",
       "      <td>10.137931</td>\n",
       "      <td>23.241379</td>\n",
       "      <td>21.862069</td>\n",
       "      <td>55.758621</td>\n",
       "      <td>58.655172</td>\n",
       "      <td>0.494845</td>\n",
       "      <td>0.420867</td>\n",
       "      <td>0.181827</td>\n",
       "      <td>...</td>\n",
       "      <td>4.344828</td>\n",
       "      <td>7.448276</td>\n",
       "      <td>3.482759</td>\n",
       "      <td>3.482759</td>\n",
       "      <td>13.862069</td>\n",
       "      <td>17.896552</td>\n",
       "      <td>0.5</td>\n",
       "      <td>0.638405</td>\n",
       "      <td>NaN</td>\n",
       "      <td>NaN</td>\n",
       "    </tr>\n",
       "    <tr>\n",
       "      <th>9301</th>\n",
       "      <td>2019</td>\n",
       "      <td>3465</td>\n",
       "      <td>6.360000</td>\n",
       "      <td>28.560000</td>\n",
       "      <td>26.600000</td>\n",
       "      <td>67.520000</td>\n",
       "      <td>69.200000</td>\n",
       "      <td>0.493625</td>\n",
       "      <td>0.426567</td>\n",
       "      <td>0.179404</td>\n",
       "      <td>...</td>\n",
       "      <td>7.280000</td>\n",
       "      <td>7.920000</td>\n",
       "      <td>3.160000</td>\n",
       "      <td>3.160000</td>\n",
       "      <td>15.520000</td>\n",
       "      <td>15.440000</td>\n",
       "      <td>0.5</td>\n",
       "      <td>-0.182555</td>\n",
       "      <td>NaN</td>\n",
       "      <td>NaN</td>\n",
       "    </tr>\n",
       "    <tr>\n",
       "      <th>9302</th>\n",
       "      <td>2019</td>\n",
       "      <td>3466</td>\n",
       "      <td>6.304348</td>\n",
       "      <td>24.869565</td>\n",
       "      <td>23.913043</td>\n",
       "      <td>58.434783</td>\n",
       "      <td>58.260870</td>\n",
       "      <td>0.478102</td>\n",
       "      <td>0.449836</td>\n",
       "      <td>0.211154</td>\n",
       "      <td>...</td>\n",
       "      <td>8.478261</td>\n",
       "      <td>8.478261</td>\n",
       "      <td>3.695652</td>\n",
       "      <td>3.217391</td>\n",
       "      <td>17.478261</td>\n",
       "      <td>19.173913</td>\n",
       "      <td>0.0</td>\n",
       "      <td>0.107970</td>\n",
       "      <td>NaN</td>\n",
       "      <td>NaN</td>\n",
       "    </tr>\n",
       "  </tbody>\n",
       "</table>\n",
       "<p>5 rows × 35 columns</p>\n",
       "</div>"
      ],
      "text/plain": [
       "      Season  T1_TeamID  PointDiffmean  T1_FGMmean  T2_FGMmean  T1_FGAmean  \\\n",
       "9298    2019       3462      -5.620690   21.896552   24.448276   57.517241   \n",
       "9299    2019       3463       1.793103   23.724138   21.965517   60.517241   \n",
       "9300    2019       3464      10.137931   23.241379   21.862069   55.758621   \n",
       "9301    2019       3465       6.360000   28.560000   26.600000   67.520000   \n",
       "9302    2019       3466       6.304348   24.869565   23.913043   58.434783   \n",
       "\n",
       "      T2_FGAmean  T1_EFG_SUMmean  T2_EFG_SUMmean  T1_TO_RATIOmean  ...  \\\n",
       "9298   59.758621        0.448019        0.466845         0.183177  ...   \n",
       "9299   60.379310        0.438814        0.412859         0.186032  ...   \n",
       "9300   58.655172        0.494845        0.420867         0.181827  ...   \n",
       "9301   69.200000        0.493625        0.426567         0.179404  ...   \n",
       "9302   58.260870        0.478102        0.449836         0.211154  ...   \n",
       "\n",
       "      T1_Stlmean  T2_Stlmean  T1_Blkmean  T2_Blkmean  T1_PFmean  T2_PFmean  \\\n",
       "9298    7.586207    7.758621    2.586207    3.172414  15.241379  15.172414   \n",
       "9299    5.172414    8.344828    3.586207    2.517241  16.448276  17.551724   \n",
       "9300    4.344828    7.448276    3.482759    3.482759  13.862069  17.896552   \n",
       "9301    7.280000    7.920000    3.160000    3.160000  15.520000  15.440000   \n",
       "9302    8.478261    8.478261    3.695652    3.217391  17.478261  19.173913   \n",
       "\n",
       "      T1_win_ratio_14d  T1_quality  T1_seed  T1_OrdinalRank  \n",
       "9298               0.0   -0.296941      NaN             NaN  \n",
       "9299               0.0    0.134368      NaN             NaN  \n",
       "9300               0.5    0.638405      NaN             NaN  \n",
       "9301               0.5   -0.182555      NaN             NaN  \n",
       "9302               0.0    0.107970      NaN             NaN  \n",
       "\n",
       "[5 rows x 35 columns]"
      ]
     },
     "execution_count": 9,
     "metadata": {},
     "output_type": "execute_result"
    }
   ],
   "source": [
    "features = FEATURES.cal_mean_boxscore\n",
    "boxscore_cols = [col for col, use in features.items() if use]\n",
    "print(\"use boxscore col is\")\n",
    "print(boxscore_cols)\n",
    "\n",
    "season_statistics = make_season_statistics(regular_data, boxscore_cols, seeds, func = [np.mean])\n",
    "season_statistics.tail()"
   ]
  },
  {
   "cell_type": "code",
   "execution_count": 10,
   "id": "f7d166c2",
   "metadata": {
    "execution": {
     "iopub.execute_input": "2025-03-14T14:33:44.904779Z",
     "iopub.status.busy": "2025-03-14T14:33:44.904779Z",
     "iopub.status.idle": "2025-03-14T14:33:44.919002Z",
     "shell.execute_reply": "2025-03-14T14:33:44.919002Z"
    },
    "papermill": {
     "duration": 0.030588,
     "end_time": "2025-03-14T14:33:44.919002",
     "exception": false,
     "start_time": "2025-03-14T14:33:44.888414",
     "status": "completed"
    },
    "tags": []
   },
   "outputs": [
    {
     "name": "stdout",
     "output_type": "stream",
     "text": [
      "<class 'pandas.core.frame.DataFrame'>\n",
      "RangeIndex: 9303 entries, 0 to 9302\n",
      "Data columns (total 35 columns):\n",
      " #   Column            Non-Null Count  Dtype  \n",
      "---  ------            --------------  -----  \n",
      " 0   Season            9303 non-null   int64  \n",
      " 1   T1_TeamID         9303 non-null   int64  \n",
      " 2   PointDiffmean     9303 non-null   float64\n",
      " 3   T1_FGMmean        9303 non-null   float64\n",
      " 4   T2_FGMmean        9303 non-null   float64\n",
      " 5   T1_FGAmean        9303 non-null   float64\n",
      " 6   T2_FGAmean        9303 non-null   float64\n",
      " 7   T1_EFG_SUMmean    9303 non-null   float64\n",
      " 8   T2_EFG_SUMmean    9303 non-null   float64\n",
      " 9   T1_TO_RATIOmean   9303 non-null   float64\n",
      " 10  T2_TO_RATIOmean   9303 non-null   float64\n",
      " 11  T1_ORmean         9303 non-null   float64\n",
      " 12  T2_ORmean         9303 non-null   float64\n",
      " 13  T1_DRmean         9303 non-null   float64\n",
      " 14  T2_DRmean         9303 non-null   float64\n",
      " 15  T1_REB_RATEmean   9303 non-null   float64\n",
      " 16  T2_REB_RATEmean   9303 non-null   float64\n",
      " 17  T1_FT_RATEmean    9303 non-null   float64\n",
      " 18  T2_FT_RATEmean    9303 non-null   float64\n",
      " 19  T1_POSS_RATEmean  9303 non-null   float64\n",
      " 20  T2_POSS_RATEmean  9303 non-null   float64\n",
      " 21  T1_Astmean        9303 non-null   float64\n",
      " 22  T2_Astmean        9303 non-null   float64\n",
      " 23  T1_TOmean         9303 non-null   float64\n",
      " 24  T2_TOmean         9303 non-null   float64\n",
      " 25  T1_Stlmean        9303 non-null   float64\n",
      " 26  T2_Stlmean        9303 non-null   float64\n",
      " 27  T1_Blkmean        9303 non-null   float64\n",
      " 28  T2_Blkmean        9303 non-null   float64\n",
      " 29  T1_PFmean         9303 non-null   float64\n",
      " 30  T2_PFmean         9303 non-null   float64\n",
      " 31  T1_win_ratio_14d  9000 non-null   float64\n",
      " 32  T1_quality        9303 non-null   float64\n",
      " 33  T1_seed           1772 non-null   float64\n",
      " 34  T1_OrdinalRank    5834 non-null   float64\n",
      "dtypes: float64(33), int64(2)\n",
      "memory usage: 2.5 MB\n"
     ]
    }
   ],
   "source": [
    "season_statistics.info()"
   ]
  },
  {
   "cell_type": "code",
   "execution_count": 11,
   "id": "0dbf0f1d",
   "metadata": {
    "execution": {
     "iopub.execute_input": "2025-03-14T14:33:44.935408Z",
     "iopub.status.busy": "2025-03-14T14:33:44.935408Z",
     "iopub.status.idle": "2025-03-14T14:33:44.975093Z",
     "shell.execute_reply": "2025-03-14T14:33:44.975093Z"
    },
    "papermill": {
     "duration": 0.04781,
     "end_time": "2025-03-14T14:33:44.975093",
     "exception": false,
     "start_time": "2025-03-14T14:33:44.927283",
     "status": "completed"
    },
    "tags": []
   },
   "outputs": [],
   "source": [
    "####ボックスscoreの平均に対して、過去３年の加重平均を取るときの処理 ####\n",
    "def get_mean_of_3_season(val_2ps, val_1ps, val_0ps, \n",
    "                         weight_2, weight_1, weight_0, \n",
    "                         degree_weight=1.0\n",
    "                         ):\n",
    "    weight_2 = weight_2**degree_weight\n",
    "    weight_1 = weight_1**degree_weight\n",
    "    weight_0 = weight_0**degree_weight\n",
    "    if val_2ps == 0  and val_1ps == 0:\n",
    "        return val_0ps\n",
    "    elif val_2ps == 0:\n",
    "        return (val_1ps*weight_2 + val_0ps*weight_1)/(weight_2 + weight_1)\n",
    "    else:\n",
    "        sum_of_values = val_2ps*weight_2 + val_1ps*weight_1 + val_0ps*weight_0\n",
    "        return sum_of_values/(weight_2 + weight_1 + weight_0)\n",
    "\n",
    "def get_3_feature(df_team, feature):\n",
    "    value_2_seasons_ago = 0\n",
    "    value_1_season_ago = 0\n",
    "    value_0_season_ago = 0\n",
    "    for _, val in df_team.iterrows():\n",
    "        value_2_seasons_ago = value_1_season_ago\n",
    "        value_1_season_ago = value_0_season_ago\n",
    "        value_0_season_ago = val[feature]\n",
    "    return value_2_seasons_ago, value_1_season_ago, value_0_season_ago\n",
    "\n",
    "def write_mean_of_3_seasons(df, features, weight, degree_weight=1.0):\n",
    "    \"\"\"\n",
    "    val_0ps - current season value\n",
    "    weight_0 - current season weight\n",
    "    val_1ps - last season value\n",
    "    val_2ps - the value of the season before last\n",
    "    \"\"\"\n",
    "    weight_2=weight[0]\n",
    "    weight_1=weight[1]\n",
    "    weight_0=weight[2]\n",
    "    df_copy = df.copy()\n",
    "    suffix = \"_mn3s\"\n",
    "    \n",
    "    for ft in features:\n",
    "        df_copy[ft + suffix] = 0\n",
    "    for idx, val in tqdm(df_copy.iterrows(), total=len(df_copy)):\n",
    "        team = val.T1_TeamID\n",
    "        season = val.Season\n",
    "        df_team = df_copy[(df_copy.T1_TeamID == team)&\n",
    "                          (df_copy.Season <= season)&\n",
    "                          (df_copy.Season > season-3)]\n",
    "        for ft in features:\n",
    "            val_2ps, val_1ps, val_0ps = get_3_feature(df_team, ft)\n",
    "            ft_mean_3 = get_mean_of_3_season(val_2ps, val_1ps, val_0ps, weight_2, weight_1, weight_0, degree_weight=degree_weight)\n",
    "            df_copy.loc[idx, ft + suffix] = ft_mean_3\n",
    "    return df_copy"
   ]
  },
  {
   "cell_type": "code",
   "execution_count": 12,
   "id": "f0c46275",
   "metadata": {
    "execution": {
     "iopub.execute_input": "2025-03-14T14:33:44.999661Z",
     "iopub.status.busy": "2025-03-14T14:33:44.999661Z",
     "iopub.status.idle": "2025-03-14T14:33:45.037069Z",
     "shell.execute_reply": "2025-03-14T14:33:45.037069Z"
    },
    "papermill": {
     "duration": 0.05342,
     "end_time": "2025-03-14T14:33:45.037069",
     "exception": false,
     "start_time": "2025-03-14T14:33:44.983649",
     "status": "completed"
    },
    "tags": []
   },
   "outputs": [
    {
     "name": "stdout",
     "output_type": "stream",
     "text": [
      "#####\n",
      "skip 3 season verage\n",
      "#####\n"
     ]
    },
    {
     "data": {
      "text/html": [
       "<div>\n",
       "<style scoped>\n",
       "    .dataframe tbody tr th:only-of-type {\n",
       "        vertical-align: middle;\n",
       "    }\n",
       "\n",
       "    .dataframe tbody tr th {\n",
       "        vertical-align: top;\n",
       "    }\n",
       "\n",
       "    .dataframe thead th {\n",
       "        text-align: right;\n",
       "    }\n",
       "</style>\n",
       "<table border=\"1\" class=\"dataframe\">\n",
       "  <thead>\n",
       "    <tr style=\"text-align: right;\">\n",
       "      <th></th>\n",
       "      <th>Season</th>\n",
       "      <th>T1_TeamID</th>\n",
       "      <th>T1_PointDiffmean</th>\n",
       "      <th>T1_FGMmean</th>\n",
       "      <th>T1_opponent_FGMmean</th>\n",
       "      <th>T1_FGAmean</th>\n",
       "      <th>T1_opponent_FGAmean</th>\n",
       "      <th>T1_EFG_SUMmean</th>\n",
       "      <th>T1_opponent_EFG_SUMmean</th>\n",
       "      <th>T1_TO_RATIOmean</th>\n",
       "      <th>...</th>\n",
       "      <th>T1_Stlmean</th>\n",
       "      <th>T1_opponent_Stlmean</th>\n",
       "      <th>T1_Blkmean</th>\n",
       "      <th>T1_opponent_Blkmean</th>\n",
       "      <th>T1_PFmean</th>\n",
       "      <th>T1_opponent_PFmean</th>\n",
       "      <th>T1_win_ratio_14d</th>\n",
       "      <th>T1_quality</th>\n",
       "      <th>T1_seed</th>\n",
       "      <th>T1_OrdinalRank</th>\n",
       "    </tr>\n",
       "  </thead>\n",
       "  <tbody>\n",
       "    <tr>\n",
       "      <th>0</th>\n",
       "      <td>2003</td>\n",
       "      <td>1102</td>\n",
       "      <td>0.25000</td>\n",
       "      <td>19.142857</td>\n",
       "      <td>19.285714</td>\n",
       "      <td>39.785714</td>\n",
       "      <td>42.428571</td>\n",
       "      <td>0.584407</td>\n",
       "      <td>0.514142</td>\n",
       "      <td>0.193121</td>\n",
       "      <td>...</td>\n",
       "      <td>5.964286</td>\n",
       "      <td>5.428571</td>\n",
       "      <td>1.785714</td>\n",
       "      <td>1.571429</td>\n",
       "      <td>18.750000</td>\n",
       "      <td>18.357143</td>\n",
       "      <td>0.333333</td>\n",
       "      <td>-0.070776</td>\n",
       "      <td>NaN</td>\n",
       "      <td>144.2875</td>\n",
       "    </tr>\n",
       "    <tr>\n",
       "      <th>1</th>\n",
       "      <td>2003</td>\n",
       "      <td>1103</td>\n",
       "      <td>0.62963</td>\n",
       "      <td>27.148148</td>\n",
       "      <td>27.777778</td>\n",
       "      <td>55.851852</td>\n",
       "      <td>57.000000</td>\n",
       "      <td>0.536564</td>\n",
       "      <td>0.549098</td>\n",
       "      <td>0.159805</td>\n",
       "      <td>...</td>\n",
       "      <td>7.259259</td>\n",
       "      <td>6.407407</td>\n",
       "      <td>2.333333</td>\n",
       "      <td>2.851852</td>\n",
       "      <td>19.851852</td>\n",
       "      <td>22.444444</td>\n",
       "      <td>0.333333</td>\n",
       "      <td>-0.116192</td>\n",
       "      <td>NaN</td>\n",
       "      <td>182.2050</td>\n",
       "    </tr>\n",
       "  </tbody>\n",
       "</table>\n",
       "<p>2 rows × 35 columns</p>\n",
       "</div>"
      ],
      "text/plain": [
       "   Season  T1_TeamID  T1_PointDiffmean  T1_FGMmean  T1_opponent_FGMmean  \\\n",
       "0    2003       1102           0.25000   19.142857            19.285714   \n",
       "1    2003       1103           0.62963   27.148148            27.777778   \n",
       "\n",
       "   T1_FGAmean  T1_opponent_FGAmean  T1_EFG_SUMmean  T1_opponent_EFG_SUMmean  \\\n",
       "0   39.785714            42.428571        0.584407                 0.514142   \n",
       "1   55.851852            57.000000        0.536564                 0.549098   \n",
       "\n",
       "   T1_TO_RATIOmean  ...  T1_Stlmean  T1_opponent_Stlmean  T1_Blkmean  \\\n",
       "0         0.193121  ...    5.964286             5.428571    1.785714   \n",
       "1         0.159805  ...    7.259259             6.407407    2.333333   \n",
       "\n",
       "   T1_opponent_Blkmean  T1_PFmean  T1_opponent_PFmean  T1_win_ratio_14d  \\\n",
       "0             1.571429  18.750000           18.357143          0.333333   \n",
       "1             2.851852  19.851852           22.444444          0.333333   \n",
       "\n",
       "   T1_quality  T1_seed  T1_OrdinalRank  \n",
       "0   -0.070776      NaN        144.2875  \n",
       "1   -0.116192      NaN        182.2050  \n",
       "\n",
       "[2 rows x 35 columns]"
      ]
     },
     "metadata": {},
     "output_type": "display_data"
    },
    {
     "data": {
      "text/html": [
       "<div>\n",
       "<style scoped>\n",
       "    .dataframe tbody tr th:only-of-type {\n",
       "        vertical-align: middle;\n",
       "    }\n",
       "\n",
       "    .dataframe tbody tr th {\n",
       "        vertical-align: top;\n",
       "    }\n",
       "\n",
       "    .dataframe thead th {\n",
       "        text-align: right;\n",
       "    }\n",
       "</style>\n",
       "<table border=\"1\" class=\"dataframe\">\n",
       "  <thead>\n",
       "    <tr style=\"text-align: right;\">\n",
       "      <th></th>\n",
       "      <th>Season</th>\n",
       "      <th>T2_TeamID</th>\n",
       "      <th>T2_PointDiffmean</th>\n",
       "      <th>T2_FGMmean</th>\n",
       "      <th>T2_opponent_FGMmean</th>\n",
       "      <th>T2_FGAmean</th>\n",
       "      <th>T2_opponent_FGAmean</th>\n",
       "      <th>T2_EFG_SUMmean</th>\n",
       "      <th>T2_opponent_EFG_SUMmean</th>\n",
       "      <th>T2_TO_RATIOmean</th>\n",
       "      <th>...</th>\n",
       "      <th>T2_Stlmean</th>\n",
       "      <th>T2_opponent_Stlmean</th>\n",
       "      <th>T2_Blkmean</th>\n",
       "      <th>T2_opponent_Blkmean</th>\n",
       "      <th>T2_PFmean</th>\n",
       "      <th>T2_opponent_PFmean</th>\n",
       "      <th>T2_win_ratio_14d</th>\n",
       "      <th>T2_quality</th>\n",
       "      <th>T2_seed</th>\n",
       "      <th>T2_OrdinalRank</th>\n",
       "    </tr>\n",
       "  </thead>\n",
       "  <tbody>\n",
       "    <tr>\n",
       "      <th>9301</th>\n",
       "      <td>2019</td>\n",
       "      <td>3465</td>\n",
       "      <td>6.360000</td>\n",
       "      <td>28.560000</td>\n",
       "      <td>26.600000</td>\n",
       "      <td>67.520000</td>\n",
       "      <td>69.20000</td>\n",
       "      <td>0.493625</td>\n",
       "      <td>0.426567</td>\n",
       "      <td>0.179404</td>\n",
       "      <td>...</td>\n",
       "      <td>7.280000</td>\n",
       "      <td>7.920000</td>\n",
       "      <td>3.160000</td>\n",
       "      <td>3.160000</td>\n",
       "      <td>15.520000</td>\n",
       "      <td>15.440000</td>\n",
       "      <td>0.5</td>\n",
       "      <td>-0.182555</td>\n",
       "      <td>NaN</td>\n",
       "      <td>NaN</td>\n",
       "    </tr>\n",
       "    <tr>\n",
       "      <th>9302</th>\n",
       "      <td>2019</td>\n",
       "      <td>3466</td>\n",
       "      <td>6.304348</td>\n",
       "      <td>24.869565</td>\n",
       "      <td>23.913043</td>\n",
       "      <td>58.434783</td>\n",
       "      <td>58.26087</td>\n",
       "      <td>0.478102</td>\n",
       "      <td>0.449836</td>\n",
       "      <td>0.211154</td>\n",
       "      <td>...</td>\n",
       "      <td>8.478261</td>\n",
       "      <td>8.478261</td>\n",
       "      <td>3.695652</td>\n",
       "      <td>3.217391</td>\n",
       "      <td>17.478261</td>\n",
       "      <td>19.173913</td>\n",
       "      <td>0.0</td>\n",
       "      <td>0.107970</td>\n",
       "      <td>NaN</td>\n",
       "      <td>NaN</td>\n",
       "    </tr>\n",
       "  </tbody>\n",
       "</table>\n",
       "<p>2 rows × 35 columns</p>\n",
       "</div>"
      ],
      "text/plain": [
       "      Season  T2_TeamID  T2_PointDiffmean  T2_FGMmean  T2_opponent_FGMmean  \\\n",
       "9301    2019       3465          6.360000   28.560000            26.600000   \n",
       "9302    2019       3466          6.304348   24.869565            23.913043   \n",
       "\n",
       "      T2_FGAmean  T2_opponent_FGAmean  T2_EFG_SUMmean  \\\n",
       "9301   67.520000             69.20000        0.493625   \n",
       "9302   58.434783             58.26087        0.478102   \n",
       "\n",
       "      T2_opponent_EFG_SUMmean  T2_TO_RATIOmean  ...  T2_Stlmean  \\\n",
       "9301                 0.426567         0.179404  ...    7.280000   \n",
       "9302                 0.449836         0.211154  ...    8.478261   \n",
       "\n",
       "      T2_opponent_Stlmean  T2_Blkmean  T2_opponent_Blkmean  T2_PFmean  \\\n",
       "9301             7.920000    3.160000             3.160000  15.520000   \n",
       "9302             8.478261    3.695652             3.217391  17.478261   \n",
       "\n",
       "      T2_opponent_PFmean  T2_win_ratio_14d  T2_quality  T2_seed  \\\n",
       "9301           15.440000               0.5   -0.182555      NaN   \n",
       "9302           19.173913               0.0    0.107970      NaN   \n",
       "\n",
       "      T2_OrdinalRank  \n",
       "9301             NaN  \n",
       "9302             NaN  \n",
       "\n",
       "[2 rows x 35 columns]"
      ]
     },
     "metadata": {},
     "output_type": "display_data"
    }
   ],
   "source": [
    "flag_3season_avg = FEATURES.season_average.enabled\n",
    "\n",
    "#trueのときの処理理解してfalseと一致させる\n",
    "if flag_3season_avg:\n",
    "    print(\"#####\")\n",
    "    print(\"use 3 season average\")\n",
    "    print(\"#####\")\n",
    "    weight = FEATURES.season_average.weights\n",
    "    years = FEATURES.season_average.past_years\n",
    "    assert years==len(weight)\n",
    "    \n",
    "    features_for_calc = [\"T1_Scoremean\", \"T1_FGAmean\",  \"T1_FGA3mean\"]\n",
    "    season_statistics_with_3_seas = write_mean_of_3_seasons(\n",
    "        season_statistics, features_for_calc, weight, degree_weight=1.0\n",
    "    )\n",
    "    \n",
    "    season_statistics_T1 = season_statistics_with_3_seas.copy()\n",
    "    season_statistics_T2 = season_statistics_with_3_seas.copy()\n",
    "    \n",
    "else:\n",
    "    print(\"#####\")\n",
    "    print(\"skip 3 season verage\")\n",
    "    print(\"#####\")\n",
    "    season_statistics_T1 = season_statistics.copy()\n",
    "    season_statistics_T2 = season_statistics.copy()\n",
    "\n",
    "season_statistics_T1.columns = [\"T1_\" + x.replace(\"T1_\",\"\").replace(\"T2_\",\"opponent_\") for x in list(season_statistics_T1.columns)]\n",
    "season_statistics_T2.columns = [\"T2_\" + x.replace(\"T1_\",\"\").replace(\"T2_\",\"opponent_\") for x in list(season_statistics_T2.columns)]\n",
    "season_statistics_T1.columns.values[0] = \"Season\"\n",
    "season_statistics_T2.columns.values[0] = \"Season\"\n",
    "\n",
    "\n",
    "season_statistics_T2.rename(columns = {\n",
    "    \"T1_TeamID\": \"T2_TeamID\"\n",
    "}, inplace=True)\n",
    "display(season_statistics_T1.head(2), season_statistics_T2.tail(2))"
   ]
  },
  {
   "cell_type": "markdown",
   "id": "af5b5270",
   "metadata": {
    "papermill": {
     "duration": 0.0,
     "end_time": "2025-03-14T14:33:45.047650",
     "exception": false,
     "start_time": "2025-03-14T14:33:45.047650",
     "status": "completed"
    },
    "tags": []
   },
   "source": [
    "# Toureney dataの処理\n",
    "1. pointdiff, pointが目的変数となるのでそれはyに分離\n",
    "2. seasonstatisticを結合したものをXとして作る"
   ]
  },
  {
   "cell_type": "code",
   "execution_count": 13,
   "id": "a05a0def",
   "metadata": {
    "execution": {
     "iopub.execute_input": "2025-03-14T14:33:45.071846Z",
     "iopub.status.busy": "2025-03-14T14:33:45.071846Z",
     "iopub.status.idle": "2025-03-14T14:33:45.089760Z",
     "shell.execute_reply": "2025-03-14T14:33:45.089760Z"
    },
    "papermill": {
     "duration": 0.023378,
     "end_time": "2025-03-14T14:33:45.089760",
     "exception": false,
     "start_time": "2025-03-14T14:33:45.066382",
     "status": "completed"
    },
    "tags": []
   },
   "outputs": [],
   "source": [
    "\n",
    "def process_tourney(df1, mode=\"tourney\"):\n",
    "    #Season, teamid ->X, team_score->y\n",
    "    df = df1.copy()\n",
    "    if mode==\"tourney\":\n",
    "        df = prepare_data(df) \n",
    "        y = df[\"T1_Score\"]-df[\"T2_Score\"]\n",
    "    X = df[['Season', 'T1_TeamID', 'T2_TeamID']]\n",
    "    X = pd.merge(X, season_statistics_T1, on = ['Season', 'T1_TeamID'], how = 'left')\n",
    "    X = pd.merge(X, season_statistics_T2, on = ['Season', 'T2_TeamID'], how = 'left')\n",
    "    \n",
    "    #seed->seed diff\n",
    "    X[\"seed_diff\"] = X[\"T1_seed\"] - X[\"T2_seed\"]\n",
    "    #rank->rank diff\n",
    "    X[\"rank_diff\"] = X[\"T1_OrdinalRank\"] - X[\"T2_OrdinalRank\"]\n",
    "    #quality->quality diff\n",
    "    X[\"quality_diff\"] = X[\"T1_quality\"] - X[\"T2_quality\"]\n",
    "    #win_ratio_14d -> win_raio_14d_diff\n",
    "    X[\"win_ratio_14d_diff\"] = X[\"T1_win_ratio_14d\"] - X[\"T2_win_ratio_14d\"]\n",
    "    #tourney_data.drop(columns=[\"T1_seed\", \"T2_seed\"], inplace=True)\n",
    "\n",
    "    X = X.drop(columns=[\"T1_seed\", \"T2_seed\", \"T1_OrdinalRank\", \"T2_OrdinalRank\", \n",
    "                        \"T1_quality\", \"T2_quality\", \"T1_win_ratio_14d\", \"T2_win_ratio_14d\"\n",
    "                        ])\n",
    "\n",
    "    # if rank_diff is False, drop.\n",
    "    IS_RANKDIFF = FEATURES.rank_diff\n",
    "    if not IS_RANKDIFF:\n",
    "        X = X.drop(columns=[\"rank_diff\"])\n",
    "        print(\"drop rank_diff\")\n",
    "    \n",
    "    # if fillna is true-> run fillna()\n",
    "    FILLNA = FEATURES.fillna.quality\n",
    "    if FILLNA==\"nan\":\n",
    "        print(f\"no fillna, use nan\")\n",
    "        X[\"quality_diff\"] = X[\"quality_diff\"].fillna(np.nan)\n",
    "    else:\n",
    "        print(f\"fillna quality feature for {FILLNA}\")\n",
    "        X[\"quality_diff\"] = X[\"quality_diff\"].fillna(FILLNA)\n",
    "\n",
    "        \n",
    "    return X, y if mode==\"tourney\" else X"
   ]
  },
  {
   "cell_type": "code",
   "execution_count": 14,
   "id": "cf46bfc1",
   "metadata": {
    "execution": {
     "iopub.execute_input": "2025-03-14T14:33:45.106882Z",
     "iopub.status.busy": "2025-03-14T14:33:45.106882Z",
     "iopub.status.idle": "2025-03-14T14:33:45.180257Z",
     "shell.execute_reply": "2025-03-14T14:33:45.180257Z"
    },
    "papermill": {
     "duration": 0.080954,
     "end_time": "2025-03-14T14:33:45.180257",
     "exception": false,
     "start_time": "2025-03-14T14:33:45.099303",
     "status": "completed"
    },
    "tags": []
   },
   "outputs": [
    {
     "name": "stdout",
     "output_type": "stream",
     "text": [
      "<class 'pandas.core.frame.DataFrame'>\n",
      "Index: 1615 entries, 0 to 1948\n",
      "Data columns (total 56 columns):\n",
      " #   Column       Non-Null Count  Dtype  \n",
      "---  ------       --------------  -----  \n",
      " 0   Season       1615 non-null   int64  \n",
      " 1   DayNum       1615 non-null   int64  \n",
      " 2   WTeamID      1615 non-null   int64  \n",
      " 3   WScore       1615 non-null   int64  \n",
      " 4   LTeamID      1615 non-null   int64  \n",
      " 5   LScore       1615 non-null   int64  \n",
      " 6   WLoc         1615 non-null   object \n",
      " 7   NumOT        1615 non-null   int64  \n",
      " 8   WFGM         1615 non-null   int64  \n",
      " 9   WFGA         1615 non-null   int64  \n",
      " 10  WFGM3        1615 non-null   int64  \n",
      " 11  WFGA3        1615 non-null   int64  \n",
      " 12  WFTM         1615 non-null   int64  \n",
      " 13  WFTA         1615 non-null   int64  \n",
      " 14  WOR          1615 non-null   int64  \n",
      " 15  WDR          1615 non-null   int64  \n",
      " 16  WAst         1615 non-null   int64  \n",
      " 17  WTO          1615 non-null   int64  \n",
      " 18  WStl         1615 non-null   int64  \n",
      " 19  WBlk         1615 non-null   int64  \n",
      " 20  WPF          1615 non-null   int64  \n",
      " 21  LFGM         1615 non-null   int64  \n",
      " 22  LFGA         1615 non-null   int64  \n",
      " 23  LFGM3        1615 non-null   int64  \n",
      " 24  LFGA3        1615 non-null   int64  \n",
      " 25  LFTM         1615 non-null   int64  \n",
      " 26  LFTA         1615 non-null   int64  \n",
      " 27  LOR          1615 non-null   int64  \n",
      " 28  LDR          1615 non-null   int64  \n",
      " 29  LAst         1615 non-null   int64  \n",
      " 30  LTO          1615 non-null   int64  \n",
      " 31  LStl         1615 non-null   int64  \n",
      " 32  LBlk         1615 non-null   int64  \n",
      " 33  LPF          1615 non-null   int64  \n",
      " 34  WEFFG        1615 non-null   float64\n",
      " 35  LEFFG        1615 non-null   float64\n",
      " 36  WEFFG3       1615 non-null   float64\n",
      " 37  LEFFG3       1615 non-null   float64\n",
      " 38  WDARE        1615 non-null   float64\n",
      " 39  LDARE        1615 non-null   float64\n",
      " 40  WTOQUETOQUE  1615 non-null   float64\n",
      " 41  LTOQUETOQUE  1615 non-null   float64\n",
      " 42  WEFG_SUM     1615 non-null   float64\n",
      " 43  LEFG_SUM     1615 non-null   float64\n",
      " 44  WPOSS        1615 non-null   float64\n",
      " 45  LPOSS        1615 non-null   float64\n",
      " 46  WPOSS_RATE   1615 non-null   float64\n",
      " 47  LPOSS_RATE   1615 non-null   float64\n",
      " 48  WTO_RATIO    1615 non-null   float64\n",
      " 49  LTO_RATIO    1615 non-null   float64\n",
      " 50  WREB_RATE    1615 non-null   float64\n",
      " 51  LREB_RATE    1615 non-null   float64\n",
      " 52  WFT_RATE     1615 non-null   float64\n",
      " 53  LFT_RATE     1615 non-null   float64\n",
      " 54  WRATING      1615 non-null   float64\n",
      " 55  LRATING      1615 non-null   float64\n",
      "dtypes: float64(22), int64(33), object(1)\n",
      "memory usage: 719.2+ KB\n",
      "None\n",
      "feature cols after prepare()\n",
      "Index(['Season', 'DayNum', 'T1_TeamID', 'T1_Score', 'T2_TeamID', 'T2_Score',\n",
      "       'location', 'NumOT', 'T1_FGM', 'T1_FGA', 'T1_FGM3', 'T1_FGA3', 'T1_FTM',\n",
      "       'T1_FTA', 'T1_OR', 'T1_DR', 'T1_Ast', 'T1_TO', 'T1_Stl', 'T1_Blk',\n",
      "       'T1_PF', 'T2_FGM', 'T2_FGA', 'T2_FGM3', 'T2_FGA3', 'T2_FTM', 'T2_FTA',\n",
      "       'T2_OR', 'T2_DR', 'T2_Ast', 'T2_TO', 'T2_Stl', 'T2_Blk', 'T2_PF',\n",
      "       'T1_EFFG', 'T2_EFFG', 'T1_EFFG3', 'T2_EFFG3', 'T1_DARE', 'T2_DARE',\n",
      "       'T1_TOQUETOQUE', 'T2_TOQUETOQUE', 'T1_EFG_SUM', 'T2_EFG_SUM', 'T1_POSS',\n",
      "       'T2_POSS', 'T1_POSS_RATE', 'T2_POSS_RATE', 'T1_TO_RATIO', 'T2_TO_RATIO',\n",
      "       'T1_REB_RATE', 'T2_REB_RATE', 'T1_FT_RATE', 'T2_FT_RATE', 'T1_RATING',\n",
      "       'T2_RATING', 'PointDiff', 'win'],\n",
      "      dtype='object')\n",
      "no fillna, use nan\n"
     ]
    }
   ],
   "source": [
    "X, y = process_tourney(tourney_results)"
   ]
  },
  {
   "cell_type": "code",
   "execution_count": 15,
   "id": "af947466",
   "metadata": {
    "execution": {
     "iopub.execute_input": "2025-03-14T14:33:45.204240Z",
     "iopub.status.busy": "2025-03-14T14:33:45.203119Z",
     "iopub.status.idle": "2025-03-14T14:33:45.211255Z",
     "shell.execute_reply": "2025-03-14T14:33:45.211255Z"
    },
    "papermill": {
     "duration": 0.023959,
     "end_time": "2025-03-14T14:33:45.211255",
     "exception": false,
     "start_time": "2025-03-14T14:33:45.187296",
     "status": "completed"
    },
    "tags": []
   },
   "outputs": [
    {
     "name": "stdout",
     "output_type": "stream",
     "text": [
      "drop col list: ['T1_TOmean', 'T2_TOmean', 'T1_opponent_POSS_RATEmean', 'T2_opponent_POSS_RATEmean', 'T1_opponent_Astmean', 'T2_opponent_Astmean', 'T1_opponent_FT_RATEmean', 'T2_opponent_FT_RATEmean', 'T1_opponent_Stlmean', 'T2_opponent_Stlmean', 'T1_ORmean', 'T2_ORmean', 'T1_opponent_ORmean', 'T2_opponent_ORmean']\n"
     ]
    }
   ],
   "source": [
    "#opponentなど明示的に特徴量選出に基づいて落とす\n",
    "def drop_columns(df, cols):\n",
    "    if not cols: return df\n",
    "    existing_cols = [col for col in cols if col in df.columns]\n",
    "    print(f\"drop col list: {existing_cols}\")\n",
    "    return df.drop(columns=existing_cols)\n",
    "\n",
    "drop_col = FEATURES.dropfeatures\n",
    "X = drop_columns(X, drop_col)"
   ]
  },
  {
   "cell_type": "code",
   "execution_count": 16,
   "id": "1934933f",
   "metadata": {
    "execution": {
     "iopub.execute_input": "2025-03-14T14:33:45.234713Z",
     "iopub.status.busy": "2025-03-14T14:33:45.234713Z",
     "iopub.status.idle": "2025-03-14T14:33:45.238468Z",
     "shell.execute_reply": "2025-03-14T14:33:45.238468Z"
    },
    "papermill": {
     "duration": 0.021097,
     "end_time": "2025-03-14T14:33:45.238468",
     "exception": false,
     "start_time": "2025-03-14T14:33:45.217371",
     "status": "completed"
    },
    "tags": []
   },
   "outputs": [
    {
     "name": "stdout",
     "output_type": "stream",
     "text": [
      "最終的な X の特徴量\n",
      "Index(['Season', 'T1_TeamID', 'T2_TeamID', 'T1_PointDiffmean', 'T1_FGMmean',\n",
      "       'T1_opponent_FGMmean', 'T1_FGAmean', 'T1_opponent_FGAmean',\n",
      "       'T1_EFG_SUMmean', 'T1_opponent_EFG_SUMmean', 'T1_TO_RATIOmean',\n",
      "       'T1_opponent_TO_RATIOmean', 'T1_DRmean', 'T1_opponent_DRmean',\n",
      "       'T1_REB_RATEmean', 'T1_opponent_REB_RATEmean', 'T1_FT_RATEmean',\n",
      "       'T1_POSS_RATEmean', 'T1_Astmean', 'T1_opponent_TOmean', 'T1_Stlmean',\n",
      "       'T1_Blkmean', 'T1_opponent_Blkmean', 'T1_PFmean', 'T1_opponent_PFmean',\n",
      "       'T2_PointDiffmean', 'T2_FGMmean', 'T2_opponent_FGMmean', 'T2_FGAmean',\n",
      "       'T2_opponent_FGAmean', 'T2_EFG_SUMmean', 'T2_opponent_EFG_SUMmean',\n",
      "       'T2_TO_RATIOmean', 'T2_opponent_TO_RATIOmean', 'T2_DRmean',\n",
      "       'T2_opponent_DRmean', 'T2_REB_RATEmean', 'T2_opponent_REB_RATEmean',\n",
      "       'T2_FT_RATEmean', 'T2_POSS_RATEmean', 'T2_Astmean',\n",
      "       'T2_opponent_TOmean', 'T2_Stlmean', 'T2_Blkmean', 'T2_opponent_Blkmean',\n",
      "       'T2_PFmean', 'T2_opponent_PFmean', 'seed_diff', 'rank_diff',\n",
      "       'quality_diff', 'win_ratio_14d_diff'],\n",
      "      dtype='object')\n"
     ]
    }
   ],
   "source": [
    "print(\"最終的な X の特徴量\")\n",
    "print(X.columns)"
   ]
  },
  {
   "cell_type": "code",
   "execution_count": 17,
   "id": "cc78e679",
   "metadata": {
    "execution": {
     "iopub.execute_input": "2025-03-14T14:33:45.259807Z",
     "iopub.status.busy": "2025-03-14T14:33:45.259807Z",
     "iopub.status.idle": "2025-03-14T14:33:45.270954Z",
     "shell.execute_reply": "2025-03-14T14:33:45.270954Z"
    },
    "papermill": {
     "duration": 0.021273,
     "end_time": "2025-03-14T14:33:45.270954",
     "exception": false,
     "start_time": "2025-03-14T14:33:45.249681",
     "status": "completed"
    },
    "tags": []
   },
   "outputs": [
    {
     "name": "stdout",
     "output_type": "stream",
     "text": [
      "<class 'pandas.core.frame.DataFrame'>\n",
      "RangeIndex: 3230 entries, 0 to 3229\n",
      "Data columns (total 51 columns):\n",
      " #   Column                    Non-Null Count  Dtype  \n",
      "---  ------                    --------------  -----  \n",
      " 0   Season                    3230 non-null   int64  \n",
      " 1   T1_TeamID                 3230 non-null   int64  \n",
      " 2   T2_TeamID                 3230 non-null   int64  \n",
      " 3   T1_PointDiffmean          3230 non-null   float64\n",
      " 4   T1_FGMmean                3230 non-null   float64\n",
      " 5   T1_opponent_FGMmean       3230 non-null   float64\n",
      " 6   T1_FGAmean                3230 non-null   float64\n",
      " 7   T1_opponent_FGAmean       3230 non-null   float64\n",
      " 8   T1_EFG_SUMmean            3230 non-null   float64\n",
      " 9   T1_opponent_EFG_SUMmean   3230 non-null   float64\n",
      " 10  T1_TO_RATIOmean           3230 non-null   float64\n",
      " 11  T1_opponent_TO_RATIOmean  3230 non-null   float64\n",
      " 12  T1_DRmean                 3230 non-null   float64\n",
      " 13  T1_opponent_DRmean        3230 non-null   float64\n",
      " 14  T1_REB_RATEmean           3230 non-null   float64\n",
      " 15  T1_opponent_REB_RATEmean  3230 non-null   float64\n",
      " 16  T1_FT_RATEmean            3230 non-null   float64\n",
      " 17  T1_POSS_RATEmean          3230 non-null   float64\n",
      " 18  T1_Astmean                3230 non-null   float64\n",
      " 19  T1_opponent_TOmean        3230 non-null   float64\n",
      " 20  T1_Stlmean                3230 non-null   float64\n",
      " 21  T1_Blkmean                3230 non-null   float64\n",
      " 22  T1_opponent_Blkmean       3230 non-null   float64\n",
      " 23  T1_PFmean                 3230 non-null   float64\n",
      " 24  T1_opponent_PFmean        3230 non-null   float64\n",
      " 25  T2_PointDiffmean          3230 non-null   float64\n",
      " 26  T2_FGMmean                3230 non-null   float64\n",
      " 27  T2_opponent_FGMmean       3230 non-null   float64\n",
      " 28  T2_FGAmean                3230 non-null   float64\n",
      " 29  T2_opponent_FGAmean       3230 non-null   float64\n",
      " 30  T2_EFG_SUMmean            3230 non-null   float64\n",
      " 31  T2_opponent_EFG_SUMmean   3230 non-null   float64\n",
      " 32  T2_TO_RATIOmean           3230 non-null   float64\n",
      " 33  T2_opponent_TO_RATIOmean  3230 non-null   float64\n",
      " 34  T2_DRmean                 3230 non-null   float64\n",
      " 35  T2_opponent_DRmean        3230 non-null   float64\n",
      " 36  T2_REB_RATEmean           3230 non-null   float64\n",
      " 37  T2_opponent_REB_RATEmean  3230 non-null   float64\n",
      " 38  T2_FT_RATEmean            3230 non-null   float64\n",
      " 39  T2_POSS_RATEmean          3230 non-null   float64\n",
      " 40  T2_Astmean                3230 non-null   float64\n",
      " 41  T2_opponent_TOmean        3230 non-null   float64\n",
      " 42  T2_Stlmean                3230 non-null   float64\n",
      " 43  T2_Blkmean                3230 non-null   float64\n",
      " 44  T2_opponent_Blkmean       3230 non-null   float64\n",
      " 45  T2_PFmean                 3230 non-null   float64\n",
      " 46  T2_opponent_PFmean        3230 non-null   float64\n",
      " 47  seed_diff                 3230 non-null   float64\n",
      " 48  rank_diff                 2096 non-null   float64\n",
      " 49  quality_diff              3230 non-null   float64\n",
      " 50  win_ratio_14d_diff        3230 non-null   float64\n",
      "dtypes: float64(48), int64(3)\n",
      "memory usage: 1.3 MB\n"
     ]
    }
   ],
   "source": [
    "X.info()"
   ]
  },
  {
   "cell_type": "markdown",
   "id": "7e1852c2",
   "metadata": {
    "papermill": {
     "duration": 0.019839,
     "end_time": "2025-03-14T14:33:45.290793",
     "exception": false,
     "start_time": "2025-03-14T14:33:45.270954",
     "status": "completed"
    },
    "tags": []
   },
   "source": [
    "# build models"
   ]
  },
  {
   "cell_type": "code",
   "execution_count": 18,
   "id": "71fa8a21",
   "metadata": {
    "execution": {
     "iopub.execute_input": "2025-03-14T14:33:45.300170Z",
     "iopub.status.busy": "2025-03-14T14:33:45.300170Z",
     "iopub.status.idle": "2025-03-14T14:33:45.340535Z",
     "shell.execute_reply": "2025-03-14T14:33:45.340535Z"
    },
    "papermill": {
     "duration": 0.04237,
     "end_time": "2025-03-14T14:33:45.342540",
     "exception": false,
     "start_time": "2025-03-14T14:33:45.300170",
     "status": "completed"
    },
    "tags": []
   },
   "outputs": [],
   "source": [
    "\n",
    "val_mae = []\n",
    "iteration_counts = []\n",
    "xgb_cv = []\n",
    "dtrain = xgb.DMatrix(X, label=y)\n",
    "\n",
    "repeat_cv = MODEL.repeat_cv\n",
    "param = dict(MODEL.xgb_model.param)\n",
    "num_boost_round = MODEL.xgb_model.num_boost_round\n",
    "folds_splits = MODEL.xgb_model.folds_splits\n",
    "early_stopping_rounds = MODEL.xgb_model.early_stopping_rounds\n",
    "\n",
    "# コーシー損失関数\n",
    "def cauchyobj(preds, dtrain):\n",
    "    labels = dtrain.get_label()\n",
    "    c = 5000\n",
    "    x = preds - labels    \n",
    "    grad = x / (x**2/c**2 + 1)\n",
    "    hess = -c**2 * (x**2 - c**2) / (x**2 + c**2)**2\n",
    "    return grad, hess"
   ]
  },
  {
   "cell_type": "code",
   "execution_count": 19,
   "id": "e5987904",
   "metadata": {
    "execution": {
     "iopub.execute_input": "2025-03-14T14:33:45.375181Z",
     "iopub.status.busy": "2025-03-14T14:33:45.373175Z",
     "iopub.status.idle": "2025-03-14T14:33:45.389365Z",
     "shell.execute_reply": "2025-03-14T14:33:45.389365Z"
    },
    "papermill": {
     "duration": 0.032584,
     "end_time": "2025-03-14T14:33:45.391373",
     "exception": false,
     "start_time": "2025-03-14T14:33:45.358789",
     "status": "completed"
    },
    "tags": []
   },
   "outputs": [],
   "source": [
    "#########################################\n",
    "# 1. Optunaあり：ハイパーパラメータ最適化 #\n",
    "#########################################\n",
    "def run_optuna_optimization(param, optuna_conf):\n",
    "    def objective(trial):  \n",
    "        logger.info(f\"Trial {trial.number} 開始\")\n",
    "        \n",
    "        current_param = param.copy()  \n",
    "        max_depth_range = optuna_conf.max_depth        \n",
    "        eta_range = optuna_conf.eta\n",
    "        subsample_range = optuna_conf.subsample          \n",
    "        colsample_bytree_range = optuna_conf.colsample_bytree\n",
    "        num_parallel_tree_range = optuna_conf.num_parallel_tree \n",
    "        min_child_weight_range = optuna_conf.min_child_weight \n",
    "        reg_alpha_range = optuna_conf.reg_alpha         \n",
    "        reg_lambda_range = optuna_conf.reg_lambda    \n",
    "        reg_gamma_range = optuna_conf.gamma  \n",
    "\n",
    "        current_param[\"max_depth\"] = trial.suggest_int(\"max_depth\", max_depth_range[0], max_depth_range[1])\n",
    "        current_param[\"eta\"] = trial.suggest_float(\"eta\", eta_range[0], eta_range[1], log=True)\n",
    "        current_param[\"subsample\"] = trial.suggest_float(\"subsample\", subsample_range[0], subsample_range[1])\n",
    "        current_param[\"colsample_bytree\"] = trial.suggest_float(\"colsample_bytree\", colsample_bytree_range[0], colsample_bytree_range[1])\n",
    "        current_param[\"num_parallel_tree\"] = trial.suggest_int(\"num_parallel_tree\", num_parallel_tree_range[0], num_parallel_tree_range[1])\n",
    "        current_param[\"min_child_weight\"] = trial.suggest_int(\"min_child_weight\", min_child_weight_range[0], min_child_weight_range[1])\n",
    "        current_param[\"reg_alpha\"] = trial.suggest_float(\"reg_alpha\", reg_alpha_range[0], reg_alpha_range[1])\n",
    "        current_param[\"reg_lambda\"] = trial.suggest_float(\"reg_lambda\", reg_lambda_range[0], reg_lambda_range[1])\n",
    "        current_param[\"gamma\"] = trial.suggest_float(\"gamma\", reg_gamma_range[0], reg_gamma_range[1])\n",
    "        \n",
    "        if current_param.get(\"eval_metric\", \"mae\") == \"rmse\":\n",
    "            score_name = \"test-rmse-mean\"\n",
    "        elif current_param.get(\"eval_metric\", \"mae\") == \"mae\":\n",
    "            score_name = \"test-mae-mean\"\n",
    "        elif  current_param.get(\"eval_metric\", \"mae\") == \"logloss\":\n",
    "            score_name = \"test-logloss-mean\"\n",
    "        \n",
    "        print(current_param)  \n",
    "        cv_scores = []\n",
    "        for i in range(repeat_cv):\n",
    "            cv_result = xgb.cv(\n",
    "                params=current_param,\n",
    "                dtrain=dtrain,\n",
    "                obj=cauchyobj,\n",
    "                num_boost_round=num_boost_round,\n",
    "                folds=KFold(n_splits=folds_splits, shuffle=True, random_state=i),\n",
    "                early_stopping_rounds=early_stopping_rounds,\n",
    "                verbose_eval=False\n",
    "            )\n",
    "            fold_score = np.min(cv_result[score_name].values)\n",
    "            cv_scores.append(fold_score)\n",
    "        mean_score = np.mean(cv_scores)\n",
    "        logger.info(f\"Trial {trial.number} 終了: スコア {mean_score}\")\n",
    "        \n",
    "        return mean_score\n",
    "\n",
    "    logger.info(\"Optuna最適化開始\")\n",
    "    N_WARMUP_STEPS = optuna_conf.n_warmup_steps\n",
    "    TIMEOUT = optuna_conf.timeout\n",
    "    N_JOBS = optuna_conf.n_jobs\n",
    "    N_TRIALS = optuna_conf.n_trials\n",
    "    \n",
    "    sampler = optuna.samplers.TPESampler(seed=42)\n",
    "    pruner = optuna.pruners.MedianPruner(n_warmup_steps=N_WARMUP_STEPS)\n",
    "\n",
    "    study = optuna.create_study(direction=\"minimize\", sampler=sampler, pruner=pruner)\n",
    "    study.optimize(objective, n_trials=N_TRIALS, timeout=TIMEOUT, n_jobs=N_JOBS)\n",
    "\n",
    "    best_trial = study.best_trial\n",
    "    logger.info(\"Best trial:\")\n",
    "    logger.info(f\"  Value: {best_trial.value}\")\n",
    "    \n",
    "    for key, value in best_trial.params.items():\n",
    "        print(f\"    {key}: {value}\")\n",
    "    param.update(best_trial.params)\n",
    "\n",
    "    logger.info(\"Optuna最適化終了\")\n",
    "    return param"
   ]
  },
  {
   "cell_type": "code",
   "execution_count": 20,
   "id": "08aab789",
   "metadata": {
    "execution": {
     "iopub.execute_input": "2025-03-14T14:33:45.423358Z",
     "iopub.status.busy": "2025-03-14T14:33:45.423358Z",
     "iopub.status.idle": "2025-03-14T14:33:45.430624Z",
     "shell.execute_reply": "2025-03-14T14:33:45.430624Z"
    },
    "papermill": {
     "duration": 0.02746,
     "end_time": "2025-03-14T14:33:45.432609",
     "exception": false,
     "start_time": "2025-03-14T14:33:45.405149",
     "status": "completed"
    },
    "tags": []
   },
   "outputs": [
    {
     "name": "stdout",
     "output_type": "stream",
     "text": [
      "not use Optuna, use xgb_model.param\n",
      "param: {'eval_metric': 'rmse', 'booster': 'gbtree', 'eta': 0.02, 'subsample': 0.35, 'colsample_bytree': 0.7, 'num_parallel_tree': 10, 'min_child_weight': 40, 'gamma': 10, 'max_depth': 3}\n",
      "repeat_cv: 10\n",
      "num_boost_round: 3000\n",
      "folds_splits: 5\n",
      "early_stopping_rounds: 25\n"
     ]
    }
   ],
   "source": [
    "IS_OPTUNA = MODEL.optuna_enabled\n",
    "if IS_OPTUNA:\n",
    "    print(\"Optuna use mode\") \n",
    "    optuna_conf = MODEL.xgb_model.optuna\n",
    "    logger.add(os.path.join(OUTPUT_PATH, \"results.log\"), format=\"{time:YYYY-MM-DD at HH:mm:ss} - {level} - {message}\", level=\"INFO\")\n",
    "    param = run_optuna_optimization(param, optuna_conf)\n",
    "    print(\"param updated by optuna\")\n",
    "    results+= [\"param set after optuna is below\", f\"{param}\", \"\"]\n",
    "else:    \n",
    "    print(\"not use Optuna, use xgb_model.param\")\n",
    "\n",
    "\n",
    "\n",
    "print(\"param:\", param)\n",
    "print(\"repeat_cv:\", repeat_cv)\n",
    "print(\"num_boost_round:\", num_boost_round)\n",
    "print(\"folds_splits:\", folds_splits)\n",
    "print(\"early_stopping_rounds:\", early_stopping_rounds)"
   ]
  },
  {
   "cell_type": "code",
   "execution_count": 21,
   "id": "9f29b258",
   "metadata": {
    "execution": {
     "iopub.execute_input": "2025-03-14T14:33:45.449639Z",
     "iopub.status.busy": "2025-03-14T14:33:45.449639Z",
     "iopub.status.idle": "2025-03-14T14:39:46.835104Z",
     "shell.execute_reply": "2025-03-14T14:39:46.835104Z"
    },
    "papermill": {
     "duration": 361.392211,
     "end_time": "2025-03-14T14:39:46.835104",
     "exception": false,
     "start_time": "2025-03-14T14:33:45.442893",
     "status": "completed"
    },
    "tags": []
   },
   "outputs": [
    {
     "name": "stderr",
     "output_type": "stream",
     "text": [
      "\r",
      "  0%|                                                                                                                                                                                                                                      | 0/10 [00:00<?, ?it/s]"
     ]
    },
    {
     "name": "stdout",
     "output_type": "stream",
     "text": [
      "[0]\ttrain-rmse:17.10650+0.03259\ttest-rmse:17.11090+0.13440\n"
     ]
    },
    {
     "name": "stdout",
     "output_type": "stream",
     "text": [
      "[50]\ttrain-rmse:13.08973+0.04705\ttest-rmse:13.29009+0.17428\n"
     ]
    },
    {
     "name": "stdout",
     "output_type": "stream",
     "text": [
      "[100]\ttrain-rmse:11.99115+0.04600\ttest-rmse:12.35215+0.18579\n"
     ]
    },
    {
     "name": "stdout",
     "output_type": "stream",
     "text": [
      "[150]\ttrain-rmse:11.57806+0.04426\ttest-rmse:12.08859+0.17789\n"
     ]
    },
    {
     "name": "stdout",
     "output_type": "stream",
     "text": [
      "[200]\ttrain-rmse:11.32501+0.04497\ttest-rmse:11.98098+0.17562\n"
     ]
    },
    {
     "name": "stdout",
     "output_type": "stream",
     "text": [
      "[250]\ttrain-rmse:11.13144+0.04333\ttest-rmse:11.92655+0.17145\n"
     ]
    },
    {
     "name": "stdout",
     "output_type": "stream",
     "text": [
      "[300]\ttrain-rmse:10.96730+0.04312\ttest-rmse:11.89852+0.17138\n"
     ]
    },
    {
     "name": "stdout",
     "output_type": "stream",
     "text": [
      "[350]\ttrain-rmse:10.82024+0.04186\ttest-rmse:11.88437+0.16790\n"
     ]
    },
    {
     "name": "stdout",
     "output_type": "stream",
     "text": [
      "[400]\ttrain-rmse:10.68502+0.04055\ttest-rmse:11.87793+0.16811\n"
     ]
    },
    {
     "name": "stdout",
     "output_type": "stream",
     "text": [
      "[450]\ttrain-rmse:10.55877+0.04025\ttest-rmse:11.87497+0.16405\n"
     ]
    },
    {
     "name": "stdout",
     "output_type": "stream",
     "text": [
      "[500]\ttrain-rmse:10.43850+0.04001\ttest-rmse:11.87268+0.16431\n"
     ]
    },
    {
     "name": "stdout",
     "output_type": "stream",
     "text": [
      "[508]\ttrain-rmse:10.42008+0.04052\ttest-rmse:11.87304+0.16400\n"
     ]
    },
    {
     "name": "stderr",
     "output_type": "stream",
     "text": [
      "\r",
      " 10%|██████████████████████▏                                                                                                                                                                                                       | 1/10 [00:29<04:23, 29.31s/it]"
     ]
    },
    {
     "name": "stdout",
     "output_type": "stream",
     "text": [
      "[0]\ttrain-rmse:17.10552+0.15431\ttest-rmse:17.09871+0.62810\n"
     ]
    },
    {
     "name": "stdout",
     "output_type": "stream",
     "text": [
      "[50]\ttrain-rmse:13.08701+0.10596\ttest-rmse:13.27145+0.50773\n"
     ]
    },
    {
     "name": "stdout",
     "output_type": "stream",
     "text": [
      "[100]\ttrain-rmse:11.99241+0.10136\ttest-rmse:12.34304+0.44029\n"
     ]
    },
    {
     "name": "stdout",
     "output_type": "stream",
     "text": [
      "[150]\ttrain-rmse:11.57632+0.10019\ttest-rmse:12.07020+0.41883\n"
     ]
    },
    {
     "name": "stdout",
     "output_type": "stream",
     "text": [
      "[200]\ttrain-rmse:11.32773+0.09979\ttest-rmse:11.96524+0.40835\n"
     ]
    },
    {
     "name": "stdout",
     "output_type": "stream",
     "text": [
      "[250]\ttrain-rmse:11.13472+0.09941\ttest-rmse:11.91411+0.40276\n"
     ]
    },
    {
     "name": "stdout",
     "output_type": "stream",
     "text": [
      "[300]\ttrain-rmse:10.96866+0.10146\ttest-rmse:11.88614+0.40126\n"
     ]
    },
    {
     "name": "stdout",
     "output_type": "stream",
     "text": [
      "[350]\ttrain-rmse:10.82070+0.10051\ttest-rmse:11.87615+0.40244\n"
     ]
    },
    {
     "name": "stdout",
     "output_type": "stream",
     "text": [
      "[400]\ttrain-rmse:10.68872+0.10225\ttest-rmse:11.86718+0.40025\n"
     ]
    },
    {
     "name": "stdout",
     "output_type": "stream",
     "text": [
      "[450]\ttrain-rmse:10.56246+0.10379\ttest-rmse:11.86372+0.39931\n"
     ]
    },
    {
     "name": "stdout",
     "output_type": "stream",
     "text": [
      "[462]\ttrain-rmse:10.53266+0.10295\ttest-rmse:11.86493+0.40129\n"
     ]
    },
    {
     "name": "stderr",
     "output_type": "stream",
     "text": [
      "\r",
      " 20%|████████████████████████████████████████████▍                                                                                                                                                                                 | 2/10 [01:04<04:22, 32.87s/it]"
     ]
    },
    {
     "name": "stdout",
     "output_type": "stream",
     "text": [
      "[0]\ttrain-rmse:17.10680+0.11875\ttest-rmse:17.10382+0.49339\n"
     ]
    },
    {
     "name": "stdout",
     "output_type": "stream",
     "text": [
      "[50]\ttrain-rmse:13.09138+0.07314\ttest-rmse:13.26090+0.36251\n"
     ]
    },
    {
     "name": "stdout",
     "output_type": "stream",
     "text": [
      "[100]\ttrain-rmse:11.99102+0.06615\ttest-rmse:12.32106+0.31512\n"
     ]
    },
    {
     "name": "stdout",
     "output_type": "stream",
     "text": [
      "[150]\ttrain-rmse:11.57915+0.06511\ttest-rmse:12.04863+0.29887\n"
     ]
    },
    {
     "name": "stdout",
     "output_type": "stream",
     "text": [
      "[200]\ttrain-rmse:11.32764+0.06327\ttest-rmse:11.93802+0.29084\n"
     ]
    },
    {
     "name": "stdout",
     "output_type": "stream",
     "text": [
      "[250]\ttrain-rmse:11.13425+0.06259\ttest-rmse:11.88328+0.28818\n"
     ]
    },
    {
     "name": "stdout",
     "output_type": "stream",
     "text": [
      "[300]\ttrain-rmse:10.97053+0.06191\ttest-rmse:11.85575+0.28549\n"
     ]
    },
    {
     "name": "stdout",
     "output_type": "stream",
     "text": [
      "[350]\ttrain-rmse:10.82522+0.06247\ttest-rmse:11.84030+0.27896\n"
     ]
    },
    {
     "name": "stdout",
     "output_type": "stream",
     "text": [
      "[400]\ttrain-rmse:10.68983+0.06303\ttest-rmse:11.83223+0.27593\n"
     ]
    },
    {
     "name": "stdout",
     "output_type": "stream",
     "text": [
      "[450]\ttrain-rmse:10.56477+0.06239\ttest-rmse:11.82833+0.27103\n"
     ]
    },
    {
     "name": "stdout",
     "output_type": "stream",
     "text": [
      "[469]\ttrain-rmse:10.51836+0.06317\ttest-rmse:11.82976+0.26828\n"
     ]
    },
    {
     "name": "stderr",
     "output_type": "stream",
     "text": [
      "\r",
      " 30%|██████████████████████████████████████████████████████████████████▌                                                                                                                                                           | 3/10 [01:42<04:04, 34.96s/it]"
     ]
    },
    {
     "name": "stdout",
     "output_type": "stream",
     "text": [
      "[0]\ttrain-rmse:17.10544+0.07574\ttest-rmse:17.10658+0.30693\n"
     ]
    },
    {
     "name": "stdout",
     "output_type": "stream",
     "text": [
      "[50]\ttrain-rmse:13.09029+0.04827\ttest-rmse:13.26116+0.30131\n"
     ]
    },
    {
     "name": "stdout",
     "output_type": "stream",
     "text": [
      "[100]\ttrain-rmse:11.99210+0.05405\ttest-rmse:12.31689+0.24606\n"
     ]
    },
    {
     "name": "stdout",
     "output_type": "stream",
     "text": [
      "[150]\ttrain-rmse:11.57872+0.05725\ttest-rmse:12.04276+0.22273\n"
     ]
    },
    {
     "name": "stdout",
     "output_type": "stream",
     "text": [
      "[200]\ttrain-rmse:11.32600+0.06125\ttest-rmse:11.93158+0.21428\n"
     ]
    },
    {
     "name": "stdout",
     "output_type": "stream",
     "text": [
      "[250]\ttrain-rmse:11.13648+0.06426\ttest-rmse:11.87532+0.21233\n"
     ]
    },
    {
     "name": "stdout",
     "output_type": "stream",
     "text": [
      "[300]\ttrain-rmse:10.97212+0.06544\ttest-rmse:11.84459+0.21491\n"
     ]
    },
    {
     "name": "stdout",
     "output_type": "stream",
     "text": [
      "[350]\ttrain-rmse:10.82522+0.06857\ttest-rmse:11.82917+0.21940\n"
     ]
    },
    {
     "name": "stdout",
     "output_type": "stream",
     "text": [
      "[400]\ttrain-rmse:10.69258+0.07034\ttest-rmse:11.81878+0.22369\n"
     ]
    },
    {
     "name": "stdout",
     "output_type": "stream",
     "text": [
      "[450]\ttrain-rmse:10.56807+0.07074\ttest-rmse:11.81181+0.22803\n"
     ]
    },
    {
     "name": "stdout",
     "output_type": "stream",
     "text": [
      "[498]\ttrain-rmse:10.45271+0.07196\ttest-rmse:11.81117+0.23433\n"
     ]
    },
    {
     "name": "stderr",
     "output_type": "stream",
     "text": [
      "\r",
      " 40%|████████████████████████████████████████████████████████████████████████████████████████▊                                                                                                                                     | 4/10 [02:21<03:39, 36.55s/it]"
     ]
    },
    {
     "name": "stdout",
     "output_type": "stream",
     "text": [
      "[0]\ttrain-rmse:17.10454+0.08388\ttest-rmse:17.10717+0.33590\n"
     ]
    },
    {
     "name": "stdout",
     "output_type": "stream",
     "text": [
      "[50]\ttrain-rmse:13.09135+0.10049\ttest-rmse:13.27871+0.47929\n"
     ]
    },
    {
     "name": "stdout",
     "output_type": "stream",
     "text": [
      "[100]\ttrain-rmse:11.99028+0.09894\ttest-rmse:12.33608+0.46671\n"
     ]
    },
    {
     "name": "stdout",
     "output_type": "stream",
     "text": [
      "[150]\ttrain-rmse:11.57933+0.09898\ttest-rmse:12.06874+0.44805\n"
     ]
    },
    {
     "name": "stdout",
     "output_type": "stream",
     "text": [
      "[200]\ttrain-rmse:11.32809+0.09700\ttest-rmse:11.95364+0.43383\n"
     ]
    },
    {
     "name": "stdout",
     "output_type": "stream",
     "text": [
      "[250]\ttrain-rmse:11.13629+0.09477\ttest-rmse:11.89922+0.42220\n"
     ]
    },
    {
     "name": "stdout",
     "output_type": "stream",
     "text": [
      "[300]\ttrain-rmse:10.97252+0.09425\ttest-rmse:11.86962+0.41141\n"
     ]
    },
    {
     "name": "stdout",
     "output_type": "stream",
     "text": [
      "[350]\ttrain-rmse:10.82736+0.09410\ttest-rmse:11.85225+0.40378\n"
     ]
    },
    {
     "name": "stdout",
     "output_type": "stream",
     "text": [
      "[400]\ttrain-rmse:10.69419+0.09492\ttest-rmse:11.84335+0.39792\n"
     ]
    },
    {
     "name": "stdout",
     "output_type": "stream",
     "text": [
      "[449]\ttrain-rmse:10.57012+0.09556\ttest-rmse:11.83932+0.39281\n"
     ]
    },
    {
     "name": "stderr",
     "output_type": "stream",
     "text": [
      "\r",
      " 50%|███████████████████████████████████████████████████████████████████████████████████████████████████████████████                                                                                                               | 5/10 [02:56<03:00, 36.15s/it]"
     ]
    },
    {
     "name": "stdout",
     "output_type": "stream",
     "text": [
      "[0]\ttrain-rmse:17.10582+0.07345\ttest-rmse:17.10785+0.29751\n"
     ]
    },
    {
     "name": "stdout",
     "output_type": "stream",
     "text": [
      "[50]\ttrain-rmse:13.08987+0.06662\ttest-rmse:13.26307+0.26173\n"
     ]
    },
    {
     "name": "stdout",
     "output_type": "stream",
     "text": [
      "[100]\ttrain-rmse:11.99293+0.07168\ttest-rmse:12.31413+0.27285\n"
     ]
    },
    {
     "name": "stdout",
     "output_type": "stream",
     "text": [
      "[150]\ttrain-rmse:11.58203+0.07064\ttest-rmse:12.04038+0.27081\n"
     ]
    },
    {
     "name": "stdout",
     "output_type": "stream",
     "text": [
      "[200]\ttrain-rmse:11.33058+0.06842\ttest-rmse:11.92436+0.26469\n"
     ]
    },
    {
     "name": "stdout",
     "output_type": "stream",
     "text": [
      "[250]\ttrain-rmse:11.13742+0.06611\ttest-rmse:11.86816+0.26119\n"
     ]
    },
    {
     "name": "stdout",
     "output_type": "stream",
     "text": [
      "[300]\ttrain-rmse:10.97401+0.06745\ttest-rmse:11.83848+0.25398\n"
     ]
    },
    {
     "name": "stdout",
     "output_type": "stream",
     "text": [
      "[350]\ttrain-rmse:10.82868+0.06922\ttest-rmse:11.82396+0.25176\n"
     ]
    },
    {
     "name": "stdout",
     "output_type": "stream",
     "text": [
      "[400]\ttrain-rmse:10.69336+0.06998\ttest-rmse:11.81374+0.25362\n"
     ]
    },
    {
     "name": "stdout",
     "output_type": "stream",
     "text": [
      "[450]\ttrain-rmse:10.56906+0.07074\ttest-rmse:11.81051+0.25284\n"
     ]
    },
    {
     "name": "stdout",
     "output_type": "stream",
     "text": [
      "[495]\ttrain-rmse:10.46252+0.07148\ttest-rmse:11.80851+0.25152\n"
     ]
    },
    {
     "name": "stderr",
     "output_type": "stream",
     "text": [
      "\r",
      " 60%|█████████████████████████████████████████████████████████████████████████████████████████████████████████████████████████████████████▏                                                                                        | 6/10 [03:37<02:30, 37.71s/it]"
     ]
    },
    {
     "name": "stdout",
     "output_type": "stream",
     "text": [
      "[0]\ttrain-rmse:17.10613+0.10019\ttest-rmse:17.10492+0.40118\n"
     ]
    },
    {
     "name": "stdout",
     "output_type": "stream",
     "text": [
      "[50]\ttrain-rmse:13.08955+0.02127\ttest-rmse:13.28478+0.17182\n"
     ]
    },
    {
     "name": "stdout",
     "output_type": "stream",
     "text": [
      "[100]\ttrain-rmse:11.98961+0.01687\ttest-rmse:12.34706+0.10743\n"
     ]
    },
    {
     "name": "stdout",
     "output_type": "stream",
     "text": [
      "[150]\ttrain-rmse:11.57477+0.02420\ttest-rmse:12.07451+0.11575\n"
     ]
    },
    {
     "name": "stdout",
     "output_type": "stream",
     "text": [
      "[200]\ttrain-rmse:11.32134+0.02858\ttest-rmse:11.96434+0.12969\n"
     ]
    },
    {
     "name": "stdout",
     "output_type": "stream",
     "text": [
      "[250]\ttrain-rmse:11.13058+0.03257\ttest-rmse:11.90824+0.13969\n"
     ]
    },
    {
     "name": "stdout",
     "output_type": "stream",
     "text": [
      "[300]\ttrain-rmse:10.96893+0.03390\ttest-rmse:11.87674+0.14795\n"
     ]
    },
    {
     "name": "stdout",
     "output_type": "stream",
     "text": [
      "[350]\ttrain-rmse:10.82383+0.03483\ttest-rmse:11.86473+0.14691\n"
     ]
    },
    {
     "name": "stdout",
     "output_type": "stream",
     "text": [
      "[400]\ttrain-rmse:10.69111+0.03545\ttest-rmse:11.85860+0.14809\n"
     ]
    },
    {
     "name": "stdout",
     "output_type": "stream",
     "text": [
      "[425]\ttrain-rmse:10.62712+0.03566\ttest-rmse:11.85826+0.15006\n"
     ]
    },
    {
     "name": "stderr",
     "output_type": "stream",
     "text": [
      "\r",
      " 70%|███████████████████████████████████████████████████████████████████████████████████████████████████████████████████████████████████████████████████████████▍                                                                  | 7/10 [04:11<01:49, 36.48s/it]"
     ]
    },
    {
     "name": "stdout",
     "output_type": "stream",
     "text": [
      "[0]\ttrain-rmse:17.10361+0.20764\ttest-rmse:17.08904+0.81246\n"
     ]
    },
    {
     "name": "stdout",
     "output_type": "stream",
     "text": [
      "[50]\ttrain-rmse:13.08376+0.12043\ttest-rmse:13.26913+0.68654\n"
     ]
    },
    {
     "name": "stdout",
     "output_type": "stream",
     "text": [
      "[100]\ttrain-rmse:11.98514+0.10057\ttest-rmse:12.34620+0.56265\n"
     ]
    },
    {
     "name": "stdout",
     "output_type": "stream",
     "text": [
      "[150]\ttrain-rmse:11.56902+0.09726\ttest-rmse:12.08824+0.50425\n"
     ]
    },
    {
     "name": "stdout",
     "output_type": "stream",
     "text": [
      "[200]\ttrain-rmse:11.31461+0.09640\ttest-rmse:11.98714+0.46972\n"
     ]
    },
    {
     "name": "stdout",
     "output_type": "stream",
     "text": [
      "[250]\ttrain-rmse:11.12233+0.09783\ttest-rmse:11.93745+0.44758\n"
     ]
    },
    {
     "name": "stdout",
     "output_type": "stream",
     "text": [
      "[300]\ttrain-rmse:10.95708+0.09680\ttest-rmse:11.91598+0.43763\n"
     ]
    },
    {
     "name": "stdout",
     "output_type": "stream",
     "text": [
      "[350]\ttrain-rmse:10.81104+0.09937\ttest-rmse:11.90154+0.42746\n"
     ]
    },
    {
     "name": "stdout",
     "output_type": "stream",
     "text": [
      "[400]\ttrain-rmse:10.67662+0.09890\ttest-rmse:11.89981+0.42360\n"
     ]
    },
    {
     "name": "stdout",
     "output_type": "stream",
     "text": [
      "[402]\ttrain-rmse:10.67121+0.09919\ttest-rmse:11.89977+0.42297\n"
     ]
    },
    {
     "name": "stderr",
     "output_type": "stream",
     "text": [
      "\r",
      " 80%|█████████████████████████████████████████████████████████████████████████████████████████████████████████████████████████████████████████████████████████████████████████████████▌                                            | 8/10 [04:43<01:10, 35.03s/it]"
     ]
    },
    {
     "name": "stdout",
     "output_type": "stream",
     "text": [
      "[0]\ttrain-rmse:17.10442+0.20043\ttest-rmse:17.09036+0.83793\n"
     ]
    },
    {
     "name": "stdout",
     "output_type": "stream",
     "text": [
      "[50]\ttrain-rmse:13.08748+0.11767\ttest-rmse:13.27991+0.68688\n"
     ]
    },
    {
     "name": "stdout",
     "output_type": "stream",
     "text": [
      "[100]\ttrain-rmse:11.98627+0.08929\ttest-rmse:12.35471+0.52652\n"
     ]
    },
    {
     "name": "stdout",
     "output_type": "stream",
     "text": [
      "[150]\ttrain-rmse:11.56967+0.07706\ttest-rmse:12.09008+0.43642\n"
     ]
    },
    {
     "name": "stdout",
     "output_type": "stream",
     "text": [
      "[200]\ttrain-rmse:11.32220+0.07357\ttest-rmse:11.98517+0.38266\n"
     ]
    },
    {
     "name": "stdout",
     "output_type": "stream",
     "text": [
      "[250]\ttrain-rmse:11.12942+0.07045\ttest-rmse:11.93173+0.35307\n"
     ]
    },
    {
     "name": "stdout",
     "output_type": "stream",
     "text": [
      "[300]\ttrain-rmse:10.96635+0.07133\ttest-rmse:11.90401+0.33212\n"
     ]
    },
    {
     "name": "stdout",
     "output_type": "stream",
     "text": [
      "[350]\ttrain-rmse:10.81890+0.07004\ttest-rmse:11.88537+0.32011\n"
     ]
    },
    {
     "name": "stdout",
     "output_type": "stream",
     "text": [
      "[400]\ttrain-rmse:10.68604+0.07190\ttest-rmse:11.87604+0.31454\n"
     ]
    },
    {
     "name": "stdout",
     "output_type": "stream",
     "text": [
      "[450]\ttrain-rmse:10.56090+0.07027\ttest-rmse:11.87220+0.30431\n"
     ]
    },
    {
     "name": "stdout",
     "output_type": "stream",
     "text": [
      "[499]\ttrain-rmse:10.44298+0.07075\ttest-rmse:11.87202+0.29933\n"
     ]
    },
    {
     "name": "stderr",
     "output_type": "stream",
     "text": [
      "\r",
      " 90%|███████████████████████████████████████████████████████████████████████████████████████████████████████████████████████████████████████████████████████████████████████████████████████████████████████▊                      | 9/10 [05:22<00:36, 36.41s/it]"
     ]
    },
    {
     "name": "stdout",
     "output_type": "stream",
     "text": [
      "[0]\ttrain-rmse:17.10612+0.13570\ttest-rmse:17.10099+0.55069\n"
     ]
    },
    {
     "name": "stdout",
     "output_type": "stream",
     "text": [
      "[50]\ttrain-rmse:13.09291+0.08924\ttest-rmse:13.27054+0.49484\n"
     ]
    },
    {
     "name": "stdout",
     "output_type": "stream",
     "text": [
      "[100]\ttrain-rmse:11.99296+0.07906\ttest-rmse:12.33259+0.41552\n"
     ]
    },
    {
     "name": "stdout",
     "output_type": "stream",
     "text": [
      "[150]\ttrain-rmse:11.57958+0.08025\ttest-rmse:12.05992+0.38426\n"
     ]
    },
    {
     "name": "stdout",
     "output_type": "stream",
     "text": [
      "[200]\ttrain-rmse:11.33033+0.07991\ttest-rmse:11.94899+0.37317\n"
     ]
    },
    {
     "name": "stdout",
     "output_type": "stream",
     "text": [
      "[250]\ttrain-rmse:11.14038+0.07862\ttest-rmse:11.89231+0.36544\n"
     ]
    },
    {
     "name": "stdout",
     "output_type": "stream",
     "text": [
      "[300]\ttrain-rmse:10.97574+0.07677\ttest-rmse:11.86055+0.35893\n"
     ]
    },
    {
     "name": "stdout",
     "output_type": "stream",
     "text": [
      "[350]\ttrain-rmse:10.83033+0.07452\ttest-rmse:11.84616+0.35382\n"
     ]
    },
    {
     "name": "stdout",
     "output_type": "stream",
     "text": [
      "[400]\ttrain-rmse:10.69757+0.07238\ttest-rmse:11.83758+0.34522\n"
     ]
    },
    {
     "name": "stdout",
     "output_type": "stream",
     "text": [
      "[450]\ttrain-rmse:10.57206+0.07176\ttest-rmse:11.83261+0.34287\n"
     ]
    },
    {
     "name": "stdout",
     "output_type": "stream",
     "text": [
      "[473]\ttrain-rmse:10.51737+0.07186\ttest-rmse:11.83294+0.33904\n"
     ]
    },
    {
     "name": "stderr",
     "output_type": "stream",
     "text": [
      "\r",
      "100%|█████████████████████████████████████████████████████████████████████████████████████████████████████████████████████████████████████████████████████████████████████████████████████████████████████████████████████████████| 10/10 [06:01<00:00, 37.05s/it]"
     ]
    },
    {
     "name": "stderr",
     "output_type": "stream",
     "text": [
      "\r",
      "100%|█████████████████████████████████████████████████████████████████████████████████████████████████████████████████████████████████████████████████████████████████████████████████████████████████████████████████████████████| 10/10 [06:01<00:00, 36.11s/it]"
     ]
    },
    {
     "name": "stderr",
     "output_type": "stream",
     "text": [
      "\n"
     ]
    }
   ],
   "source": [
    "if param.get(\"eval_metric\", \"mae\") == \"rmse\":\n",
    "    score_key = \"test-rmse-mean\"\n",
    "    ylabel = \"Test RMSE Mean\"\n",
    "    title = \"Learning Curve: Test RMSE vs Boosting Rounds\"\n",
    "elif param.get(\"eval_metric\", \"mae\") == \"mae\":\n",
    "    score_key = \"test-mae-mean\"\n",
    "    ylabel = \"Test MAE Mean\"\n",
    "    title = \"Learning Curve: Test MAE vs Boosting Rounds\"\n",
    "elif param.get(\"eval_metric\", \"mae\") == \"logloss\":\n",
    "    score_key = \"test-logloss-mean\"\n",
    "    ylabel = \"Test Logloss Mean\"\n",
    "    title = \"Learning Curve: Test Logloss vs Boosting Rounds\"\n",
    "\n",
    "\n",
    "for i in tqdm(range(repeat_cv), leave=True, dynamic_ncols=True): \n",
    "    cv_result = xgb.cv(\n",
    "        params=param,\n",
    "        dtrain=dtrain,\n",
    "        obj=cauchyobj,\n",
    "        num_boost_round=num_boost_round,\n",
    "        folds=KFold(n_splits=folds_splits, shuffle=True, random_state=i),\n",
    "        early_stopping_rounds=early_stopping_rounds,\n",
    "        verbose_eval=50\n",
    "    )\n",
    "    \"\"\"\n",
    "    train-mae-mean: 各fold における訓練データの MAE の平均値。\n",
    "    train-mae-std: 訓練データの MAE の標準偏差。\n",
    "    test-mae-mean: 各fold における検証データの MAE の平均値。\n",
    "    test-mae-std: 検証データの MAE の標準偏差。\n",
    "    \"\"\"\n",
    "    xgb_cv.append(cv_result)\n",
    "    \n",
    "\n",
    "\n",
    "\n",
    "# 各 repeater ごとの最適ブーストラウンド数と検証MAE\n",
    "iteration_counts = [np.argmin(cv[score_key].values) for cv in xgb_cv]\n",
    "val_mae = [np.min(cv[score_key].values) for cv in xgb_cv]\n",
    "\n",
    "mean_iteration = np.mean(iteration_counts)\n",
    "mean_val_mae = np.mean(val_mae)\n",
    "min_val_mae = np.min(val_mae)\n",
    "results.append(f\"mean_iteration: {mean_iteration}\")\n",
    "results.append(f\"mean_val_{param['eval_metric']}: {mean_val_mae}\")\n",
    "results.append(f\"min_val_{param['eval_metric']}: {min_val_mae}\")\n",
    "results.append(\"\")\n",
    "\n",
    "###\n",
    "plt.figure(figsize=(10, 6))\n",
    "for i, cv_result in enumerate(xgb_cv):\n",
    "    rounds = np.arange(len(cv_result[score_key]))\n",
    "    plt.plot(rounds, cv_result[score_key], label=f\"CV repeater {i+1}\")\n",
    "    \n",
    "plt.xlabel(\"Boosting Round\")\n",
    "plt.ylabel(ylabel)\n",
    "plt.title(title)\n",
    "plt.legend()\n",
    "plt.grid(True)\n",
    "\n",
    "plt.savefig(os.path.join(OUTPUT_PATH, f\"learning_curve_{PREDICT_YEAR}.png\"))\n",
    "plt.close()\n",
    "###\n"
   ]
  },
  {
   "cell_type": "code",
   "execution_count": 22,
   "id": "0cb58f16",
   "metadata": {
    "execution": {
     "iopub.execute_input": "2025-03-14T14:39:46.883367Z",
     "iopub.status.busy": "2025-03-14T14:39:46.883367Z",
     "iopub.status.idle": "2025-03-14T14:39:46.893532Z",
     "shell.execute_reply": "2025-03-14T14:39:46.893532Z"
    },
    "papermill": {
     "duration": 0.038469,
     "end_time": "2025-03-14T14:39:46.893532",
     "exception": false,
     "start_time": "2025-03-14T14:39:46.855063",
     "status": "completed"
    },
    "tags": []
   },
   "outputs": [
    {
     "name": "stdout",
     "output_type": "stream",
     "text": [
      "最適ブーストラウンド数: [484, 438, 445, 474, 425, 471, 401, 378, 475, 449]\n",
      "test-rmse-mean: [11.871687187908963, 11.863600466481063, 11.827671857342027, 11.81051059768082, 11.838853667224221, 11.807245215108246, 11.85813040668657, 11.897745749711532, 11.871035460440773, 11.832336905980746]\n"
     ]
    }
   ],
   "source": [
    "print(\"最適ブーストラウンド数:\", iteration_counts)\n",
    "print(f\"{score_key}:\", val_mae)\n",
    "results.append(f\"最適ブーストラウンド: {iteration_counts}\")\n",
    "results.append(f\"{score_key}: {val_mae}\")\n",
    "results.append(\"\")"
   ]
  },
  {
   "cell_type": "code",
   "execution_count": 23,
   "id": "52a9f54f",
   "metadata": {
    "execution": {
     "iopub.execute_input": "2025-03-14T14:39:46.931280Z",
     "iopub.status.busy": "2025-03-14T14:39:46.931280Z",
     "iopub.status.idle": "2025-03-14T14:45:03.275155Z",
     "shell.execute_reply": "2025-03-14T14:45:03.275155Z"
    },
    "papermill": {
     "duration": 316.389691,
     "end_time": "2025-03-14T14:45:03.306498",
     "exception": false,
     "start_time": "2025-03-14T14:39:46.916807",
     "status": "completed"
    },
    "tags": []
   },
   "outputs": [
    {
     "name": "stderr",
     "output_type": "stream",
     "text": [
      "\r",
      "  0%|                                                                                                                                                                                                                                      | 0/10 [00:00<?, ?it/s]"
     ]
    },
    {
     "name": "stderr",
     "output_type": "stream",
     "text": [
      "C:\\Users\\81809\\AppData\\Local\\Temp\\ipykernel_12368\\3386215446.py:18: FutureWarning: Setting an item of incompatible dtype is deprecated and will raise an error in a future version of pandas. Value '[ 2.07799892e+01  4.48565453e-01  1.77538471e+01  6.82130718e+00\n",
      " -5.93772984e+00 -1.37084937e+00  7.86628437e+00  8.76567078e+00\n",
      "  2.36646690e+01  1.26541495e+00  1.08479853e+01  6.69151497e+00\n",
      "  7.10707998e+00  6.70503473e+00 -4.41984606e+00  2.09706669e+01\n",
      " -2.53088093e+00  7.16578388e+00  9.04303932e+00  3.32276726e+00\n",
      "  3.15257144e+00  3.35029912e+00 -8.04489791e-01 -1.22985780e+00\n",
      "  5.70581007e+00  6.17720270e+00  3.46036577e+00  1.64716854e+01\n",
      "  3.92809224e+00 -6.88288641e+00 -3.77385330e+00  5.38665581e+00\n",
      "  2.29648188e-01  2.01926689e+01  8.68470478e+00 -6.27788639e+00\n",
      " -2.28817272e+00  7.90604019e+00  5.22863102e+00  5.10383844e+00\n",
      "  1.02901089e+00  8.75104713e+00 -4.46771908e+00  1.46903648e+01\n",
      "  2.94887733e+00  5.50169611e+00 -1.18296967e+01  2.93718648e+00\n",
      "  1.54494915e+01 -7.41522536e-02  2.07985210e+01 -1.23603547e+00\n",
      "  5.68531513e+00  5.04617596e+00 -3.75452042e+00  7.06404972e+00\n",
      "  1.59011030e+00  5.13839293e+00  1.44933212e+00  9.92834377e+00\n",
      " -5.14522839e+00 -1.20003510e+00  6.57680333e-01  2.28722420e+01\n",
      " -1.51822984e+00  7.77685118e+00  2.83209586e+00 -5.46975040e+00\n",
      "  1.17935734e+01 -2.63723135e+00  5.10596991e+00  2.32967854e+01\n",
      " -6.29674482e+00 -2.46985507e+00  3.03221202e+00  5.65605831e+00\n",
      " -2.63969278e+00  6.18963480e+00  1.67292156e+01  2.00860634e+01\n",
      "  2.65241766e+00 -5.72845984e+00  1.51264501e+00 -6.47143900e-01\n",
      "  8.87479961e-01  3.05719447e+00  1.18308222e+00 -8.88593102e+00\n",
      " -3.15676904e+00 -2.22566986e+00  8.86338425e+00  6.93900681e+00\n",
      "  2.40314889e+00  1.27856731e+00 -3.10802984e+00  1.80825958e+01\n",
      "  1.74608076e+00  5.56426382e+00  2.18820248e+01 -1.74108422e+00\n",
      " -4.42549896e+00  1.51407452e+01  1.95904980e+01  1.16917534e+01\n",
      "  4.15371656e+00 -5.54544735e+00 -5.24803519e-01  1.26404171e+01\n",
      "  5.97755337e+00 -4.33296204e+00  6.28789783e-01 -5.40426016e+00\n",
      "  6.38933659e+00 -6.02165556e+00 -1.53073511e+01  4.56756496e+00\n",
      "  6.74463987e-01  7.85516083e-01  2.78439069e+00  2.52089214e+00\n",
      "  2.80157137e+00  1.38608611e+00  1.06685810e+01  1.03902397e+01\n",
      "  6.24475145e+00  5.75415897e+00  1.22032204e+01 -2.66475558e+00\n",
      " -2.22803855e+00  2.97906208e+00  1.89411926e+01 -2.31919599e+00\n",
      "  1.17789698e+01 -1.40191593e+01 -7.26096964e+00  1.43443851e+01\n",
      "  3.18779111e+00  8.55954456e+00  8.08236599e+00 -1.25433302e+00\n",
      "  1.41735256e+00 -3.51239681e+00  8.16791534e+00  5.65180826e+00\n",
      "  2.63328433e+00 -1.80747354e+00  1.05024977e+01  8.38835478e-01\n",
      "  6.29110241e+00 -1.89902413e+00  1.79335690e+00  6.38837934e-01\n",
      "  2.00160828e+01  1.61674747e+01  9.77899837e+00  4.23813248e+00\n",
      "  5.32960987e+00  3.69865608e+00 -8.74789476e-01  1.34573066e+00\n",
      "  1.02140427e+00 -5.38881682e-02  9.56538582e+00  1.37630367e+01\n",
      " -1.59881508e+00  2.67820263e+00 -8.26611102e-01  3.25576901e+00\n",
      "  1.68834066e+00  3.99303436e+00  8.42296791e+00  1.90575671e+00\n",
      " -1.71041346e+00  2.18967810e-01  6.10534716e+00  2.53122032e-01\n",
      "  1.82971592e+01  3.76423120e+00  5.72687244e+00  3.72180796e+00\n",
      " -2.63096929e+00  4.57622671e+00  8.45337009e+00 -7.13028336e+00\n",
      "  3.62660527e+00  2.12917709e+01  1.21926537e+01 -2.02627361e-01\n",
      "  2.15806651e+00  6.53183174e+00  3.61864495e+00  1.47181644e+01\n",
      " -8.32133055e-01  4.21505022e+00  8.32293797e+00  5.45886850e+00\n",
      "  2.40038133e+00  1.03827848e+01  1.55148544e+01  1.15445089e+01\n",
      "  3.11312103e+00 -2.37464256e+01  5.65418863e+00  3.57279515e+00\n",
      "  6.34356546e+00  5.00637484e+00  3.34235859e+00  4.69784689e+00\n",
      "  5.01414156e+00  1.85493326e+00  1.97875652e+01  9.94361877e+00\n",
      "  2.99433537e+01  4.19370041e+01  2.60166988e+01  2.40348797e+01\n",
      "  2.12026596e+01  2.29076977e+01  8.67212677e+00  1.26005161e+00\n",
      "  1.33055973e+01  4.62705564e+00 -4.37375879e+00  4.87894011e+00\n",
      "  1.88027954e+01  2.39591560e+01  9.15667057e+00  2.21408215e+01\n",
      "  1.31497917e+01  9.86662579e+00  7.79636621e+00  1.02668304e+01\n",
      " -2.91528702e+00  3.38956032e+01  1.43533859e+01  4.91595268e+00\n",
      "  3.65629387e+01  5.01844215e+00 -3.46317863e+00  2.07457809e+01\n",
      "  1.70729160e+00  1.32632818e+01  1.66435452e+01  6.56688070e+00\n",
      "  2.86509633e+00  1.13136110e+01  1.94642296e+01  3.52226448e+01\n",
      "  1.35276031e+01 -9.70618844e-01 -1.42974269e+00  1.14068890e+00\n",
      " -1.48179502e+01  6.34770727e+00  1.47470512e+01 -4.55710799e-01\n",
      "  2.14344215e+01  4.42982368e+01 -4.81597614e+00  1.92937303e+00\n",
      "  1.46541328e+01  3.04706621e+00 -5.25416231e+00  7.75465775e+00\n",
      "  2.65066051e+01  1.05118742e+01  7.65057278e+00  5.03482294e+00\n",
      " -2.39107299e+00  2.38690233e+00  2.80798187e+01  1.06754799e+01\n",
      "  1.68295479e+01  1.43318462e+01 -9.28711224e+00  1.37755280e+01\n",
      "  1.11972904e+01  2.59391880e+00 -5.90072536e+00  3.42970991e+00\n",
      "  1.68862879e+00  3.06238866e+00  3.83387032e+01  1.38640804e+01\n",
      "  3.53668709e+01  3.48159752e+01 -3.35450172e-01  2.94658146e+01\n",
      " -1.15471017e-02 -2.12579298e+00  7.96920490e+00  1.32039032e+01\n",
      "  1.29367695e+01  1.45443316e+01  9.16833782e+00  4.27996397e+00\n",
      "  1.19208326e+01 -2.29844999e+00  1.05858507e+01 -3.05693078e+00\n",
      "  1.76444187e+01  2.65950336e+01  1.23012209e+01  6.48901612e-02\n",
      " -2.11261439e+00  5.67849576e-01  8.18138123e+00 -2.09097824e+01\n",
      " -1.13644991e+01 -9.22561073e+00  3.26176763e+00  5.80172253e+00\n",
      "  8.63107395e+00  1.02689009e+01  3.18143635e+01  1.48186808e+01\n",
      "  3.92266369e+00  3.78063622e+01 -1.76406932e+00  1.08990421e+01\n",
      "  5.83300781e+00  3.46994495e+00  4.22106457e+00  1.78722835e+00\n",
      "  2.87143922e+00  6.04195642e+00 -5.18864679e+00  8.15003777e+00\n",
      " -5.98387182e-01  7.27032995e+00 -5.00215960e+00  1.95837631e+01\n",
      "  1.26272831e+01 -1.22599020e+01  2.17383919e+01 -7.32580614e+00\n",
      " -6.61255300e-01  8.85155773e+00 -4.52058649e+00 -1.37083750e+01\n",
      " -2.62508249e+00 -2.30000076e+01 -1.75689011e+01 -8.46263027e+00\n",
      " -4.44491339e+00  3.42444396e+00 -6.26733589e+00  1.52291453e+00\n",
      " -3.84162831e+00 -4.07310152e+00 -4.86968040e+00  5.39358425e+00\n",
      " -7.22586823e+00 -3.33293438e+00 -1.92097569e+01  2.08532810e+00\n",
      "  4.52228022e+00 -5.96869993e+00 -4.21710300e+00  2.46079731e+00\n",
      "  6.59926605e+00 -3.79394770e+00 -7.49961424e+00 -3.30261707e+00\n",
      " -1.61021519e+00 -1.32294464e+00 -2.28331089e+01 -5.56246877e-01\n",
      "  2.26514387e+00 -6.34735346e+00 -6.04039288e+00 -5.57810402e+00\n",
      " -7.28992605e+00 -6.99265909e+00 -2.60785508e+00 -5.57325697e+00\n",
      " -4.15219888e-02 -6.80837822e+00  3.82224530e-01  2.41435170e+00\n",
      " -1.04299059e+01 -6.75457001e+00 -5.17636251e+00 -2.91259909e+00\n",
      " -8.78736496e+00 -4.41517973e+00 -1.63467941e+01 -2.51922474e+01\n",
      " -3.20790911e+00 -1.87462940e+01 -1.96445143e+00 -7.90938568e+00\n",
      " -3.53086090e+00 -2.52318120e+00 -8.23309326e+00  3.24670464e-01\n",
      " -7.58268404e+00 -2.45903854e+01  3.47579694e+00 -2.13023872e+01\n",
      " -7.07457209e+00 -1.17476177e+01  5.09235525e+00  2.70447659e+00\n",
      " -9.53930569e+00  3.33262253e+00 -5.12408447e+00 -5.53438044e+00\n",
      " -3.20432091e+00 -5.79863453e+00 -9.63844872e+00 -1.33739948e+00\n",
      "  3.37667179e+00  8.61236513e-01 -1.16668806e+01 -6.09689808e+00\n",
      "  2.19800019e+00  2.09768581e+00  9.97281730e-01 -5.86479235e+00\n",
      " -3.11416292e+00  7.49617195e+00 -1.11668530e+01  3.23753500e+00\n",
      " -1.10804052e+01 -2.99644423e+00 -8.57809830e+00 -2.83347631e+00\n",
      " -1.49379456e+00 -1.21488113e+01 -3.69035268e+00 -2.18097496e+01\n",
      " -1.52266445e+01 -2.77278566e+00 -9.84418571e-01 -2.31346464e+00\n",
      " -2.00969172e+00 -2.61956620e+00  4.66288328e-02  8.71304214e-01\n",
      " -1.16538751e+00 -3.01666908e+01 -4.43458176e+00 -8.66938972e+00\n",
      " -8.63824749e+00  1.24371254e+00  1.67281544e+00 -6.45804453e+00\n",
      " -1.40710664e+00  1.43849993e+00  7.46008428e-03 -8.90022659e+00\n",
      "  2.08811498e+00  6.97408342e+00 -5.20343602e-01 -7.60781193e+00\n",
      " -5.32477975e-01 -1.50044479e+01 -1.24294224e+01 -2.92010379e+00\n",
      " -1.99127924e+00 -2.55015302e+00 -3.01776743e+00 -6.79628754e+00\n",
      " -1.55420513e+01 -8.96692753e+00 -2.27184725e+00  3.28497672e+00\n",
      " -9.69036007e+00 -2.29435272e+01 -4.71484028e-02 -3.33489561e+00\n",
      " -4.17785025e+00  3.19306684e+00  7.91867256e+00 -3.21942478e-01\n",
      "  5.43113649e-01  2.01104379e+00  1.92644644e+00 -1.29675360e+01\n",
      " -7.72163200e+00 -1.65316982e+01 -4.60437536e+00 -3.54734135e+00\n",
      "  1.93565154e+00 -9.99206924e+00  2.07789421e+00 -7.81514227e-01\n",
      " -2.51647587e+01 -2.58077774e+01 -1.80275822e+01 -4.90449572e+00\n",
      " -3.38728213e+00 -4.52007723e+00  5.42552471e-01 -9.17179585e+00\n",
      " -7.65780878e+00 -1.21552765e+00 -2.35485673e+00  2.17874670e+00\n",
      " -1.58710089e+01 -1.15625679e+00  3.56536818e+00 -6.28326511e+00\n",
      "  8.54776573e+00 -8.08868599e+00  6.04695940e+00 -7.06523371e+00\n",
      " -1.65523415e+01 -1.59175215e+01 -3.18838739e+00  7.39480877e+00\n",
      " -9.92478466e+00 -2.94722676e+00 -2.11462998e+00  2.69868279e+00\n",
      " -1.49298086e+01 -9.64283526e-01 -1.78450851e+01 -1.34833801e+00\n",
      " -5.87714481e+00 -4.62886190e+00 -3.64109397e+00 -1.15936196e+00\n",
      " -1.51660290e+01  1.27680147e+00  3.81504941e+00  4.19052982e+00\n",
      " -1.09138184e+01  1.08623397e+00 -2.17312765e+00 -7.43363714e+00\n",
      " -3.30644155e+00 -4.86181831e+00 -2.70560884e+00  4.96296692e+00\n",
      " -2.09497585e+01 -3.44914856e+01 -3.97658920e+00 -3.73063016e+00\n",
      " -5.63294840e+00  3.04206443e+00 -1.12045031e+01 -2.81044254e+01\n",
      " -6.58019590e+00  3.99833989e+00  2.30105591e+00 -3.48195534e+01\n",
      " -3.81624756e+01  1.06945729e+00 -4.05427980e+00 -2.65534554e+01\n",
      "  6.50634289e+00 -2.39339600e+01 -2.76577163e+00 -1.81348777e+00\n",
      " -9.33442879e+00 -2.91994572e+01 -4.87075716e-01 -1.53367224e+01\n",
      " -1.84967079e+01 -5.49313116e+00 -2.95875573e+00  4.49698830e+00\n",
      " -3.99491730e+01  1.16080141e+00 -3.87199545e+00 -1.40280886e+01\n",
      "  8.25049019e+00  1.10114753e+00  7.31924438e+00 -9.44403267e+00\n",
      " -3.38909721e+00 -1.59525919e+01 -9.34696007e+00 -6.98141432e+00\n",
      " -2.31882071e+00  3.39218926e+00  6.09380150e+00 -3.15063572e+01\n",
      " -1.13067474e+01 -2.90246201e+00  1.15630322e+01 -3.18520432e+01\n",
      " -4.59614754e+00 -9.38852596e+00 -1.09570861e+00  4.99963570e+00\n",
      " -2.91448045e+00 -3.00079417e+00  5.99729347e+00  2.48677468e+00\n",
      " -1.38139620e+01 -9.34114265e+00 -3.50584068e+01 -6.11176825e+00\n",
      " -2.39399967e+01 -2.77815037e+01 -7.90511942e+00 -1.62859688e+01\n",
      " -1.24628210e+01 -3.91530395e+00 -3.77388573e+01 -3.10890255e+01\n",
      " -1.41949234e+01 -3.18002796e+00 -5.33484125e+00 -3.36030197e+01\n",
      " -9.23066235e+00  9.03794479e+00 -1.12408228e+01 -4.26873636e+00\n",
      " -8.38741493e+00 -1.14734173e+01 -8.10391808e+00 -2.54033279e+01\n",
      " -2.88685455e+01  3.71776748e+00 -4.08450365e+00 -7.79105282e+00\n",
      " -2.34590416e+01 -3.89951921e+00 -2.73723621e+01  1.14155655e+01\n",
      " -1.98609114e+00  7.80525684e+00  3.12373829e+00 -2.63268108e+01\n",
      " -4.98419094e+00 -3.08876743e+01 -1.38458567e+01 -8.96157551e+00\n",
      "  8.86584222e-01  4.36519814e+00 -2.62727814e+01  5.26341677e+00\n",
      " -1.23867998e+01 -2.78972769e+00 -3.43837242e+01 -1.22239466e+01\n",
      "  1.67702656e+01  5.16392565e+00 -1.43551550e+01 -1.45380583e+01\n",
      " -5.13760281e+00  8.14213467e+00]' has dtype incompatible with int64, please explicitly cast to a compatible dtype first.\n",
      "  preds[val_index] = model.predict(dval_i)\n"
     ]
    },
    {
     "name": "stderr",
     "output_type": "stream",
     "text": [
      "\r",
      " 10%|██████████████████████▏                                                                                                                                                                                                       | 1/10 [00:35<05:21, 35.73s/it]"
     ]
    },
    {
     "name": "stderr",
     "output_type": "stream",
     "text": [
      "C:\\Users\\81809\\AppData\\Local\\Temp\\ipykernel_12368\\3386215446.py:18: FutureWarning: Setting an item of incompatible dtype is deprecated and will raise an error in a future version of pandas. Value '[-7.42964411e+00  1.35739648e+00  1.57122755e+01 -2.57524580e-01\n",
      "  7.44037724e+00  5.53644371e+00  2.16867104e+01 -1.44162309e+00\n",
      "  1.27292528e+01  6.97419596e+00 -4.14292145e+00 -6.01155996e+00\n",
      "  4.78123808e+00  8.66392708e+00 -2.70178628e+00  2.34806881e+01\n",
      "  3.73557180e-01  2.91265345e+00  1.06999807e+01  8.76931763e+00\n",
      "  8.21994972e+00  4.32515049e+00  7.13687134e+00  3.71083617e+00\n",
      " -6.35391617e+00  3.09830618e+00  8.03872395e+00 -1.35988009e+00\n",
      "  2.49843578e+01  1.59797182e+01  1.29144773e+01  4.87951803e+00\n",
      "  6.19536066e+00 -2.48439193e+00  5.98666811e+00  5.88783884e+00\n",
      " -4.13875866e+00  8.24507475e-01  8.55675602e+00  2.26769276e+01\n",
      "  1.14018202e+01  1.21142054e+01  1.71308117e+01  8.32793427e+00\n",
      "  1.59924097e+01  6.26421642e+00  7.00045967e+00  5.22178173e+00\n",
      "  6.72941148e-01  5.53811646e+00  1.19980109e+00 -8.81471395e-01\n",
      "  1.95910645e+00  6.09308100e+00  8.43563938e+00  2.47770977e+01\n",
      "  7.59188080e+00 -9.16483462e-01  1.00549107e+01  9.21798611e+00\n",
      "  6.02534389e+00  6.46734524e+00 -1.16691327e+00 -3.41815996e+00\n",
      " -1.69748354e+00  2.58743310e+00 -1.22963035e+00  1.41344893e+00\n",
      "  1.94847984e+01  1.11082010e+01  3.94595593e-01  2.81729622e+01\n",
      "  1.29862309e+01  3.49995255e+00  2.03243275e+01 -7.77419090e+00\n",
      "  6.91250658e+00  5.54105997e+00  3.31533504e+00  3.03821945e+00\n",
      "  5.60314171e-02  1.52436599e-01  1.76974983e+01  7.92059660e+00\n",
      " -2.37566447e+00 -1.10622578e+01  4.57256794e+00  8.87114334e+00\n",
      "  2.18881416e+00  1.20346546e+00  2.32947779e+00 -4.71245718e+00\n",
      " -3.48370695e+00  1.82339001e+01 -8.94602060e-01 -2.18152428e+00\n",
      " -1.75569344e+00  1.33334389e+01  1.02996311e+01  1.47110977e+01\n",
      "  3.72044325e+00 -6.93479681e+00  1.25464077e+01  7.90408421e+00\n",
      "  1.19836617e+01  2.31698322e+00  9.12459183e+00 -1.73227215e+00\n",
      "  1.80257130e+01 -2.32070947e+00  2.08691998e+01 -2.65992236e+00\n",
      "  1.06481838e+00  1.37988958e+01  1.87353840e+01 -3.44625998e+00\n",
      "  2.88612294e+00 -4.20636797e+00 -8.85131741e+00 -6.42528725e+00\n",
      "  2.28925800e+00  1.19420898e+00  5.76741040e-01 -1.47202182e+00\n",
      " -1.61392438e+00  4.40742612e-01 -5.34363365e+00  6.65462160e+00\n",
      "  2.84744835e+00  2.99177151e+01  6.57815313e+00  2.69621391e+01\n",
      "  5.87464714e+00 -1.06081593e+00  9.80493546e+00 -8.04253292e+00\n",
      " -5.65633965e+00  9.77718294e-01 -6.84657669e+00 -6.05902910e-01\n",
      "  6.44034863e+00 -1.61101747e+00  2.26219158e+01  1.60439053e+01\n",
      "  4.26001835e+00  4.43300992e-01 -1.02970588e+00  4.41423774e-01\n",
      " -2.60596991e-01  4.46323246e-01 -3.17730737e+00 -6.99905515e-01\n",
      "  2.66118765e+00 -6.42365503e+00 -1.11586404e+00  4.71427345e+00\n",
      "  2.07287064e+01  3.08829665e-01  1.91318548e+00  6.25310612e+00\n",
      " -7.41640091e+00  3.10653853e+00 -2.19875169e+00 -4.91449594e+00\n",
      " -4.12142992e+00  2.58231193e-01  3.07898140e+01  1.51741743e+00\n",
      "  6.36305809e+00 -4.00416565e+00 -3.53158936e-02  1.17842731e+01\n",
      "  2.11027851e+01  9.74935055e+00  4.10404062e+00 -1.19857621e+00\n",
      "  1.28761301e+01 -6.28446007e+00 -1.78159161e+01 -4.88308334e+00\n",
      "  4.90919209e+00  7.50907087e+00 -2.79442906e+00  8.47093296e+00\n",
      "  2.13805885e+01  1.04168720e+01  1.62284088e+00  2.37069530e+01\n",
      " -5.92554092e-01  9.16993809e+00  2.49429436e+01 -2.68592787e+00\n",
      " -1.22307646e+00  4.25116205e+00  1.50803173e+00  5.37026691e+00\n",
      " -4.95814943e+00  2.65239811e+00 -7.35254526e+00  1.39228439e+00\n",
      "  3.35068345e+00 -3.13664150e+00  2.15789413e+01 -2.18937978e-01\n",
      "  1.56310463e+01  1.74561729e+01  1.79830418e+01 -3.53640604e+00\n",
      "  2.16431885e+01  2.47833061e+00 -8.91616249e+00 -1.10593100e+01\n",
      "  1.09352722e+01  2.45335078e+00 -1.05730236e+00 -3.28054261e+00\n",
      "  5.82177973e+00  4.74069643e+00  4.64455366e+00  2.02635517e+01\n",
      " -2.79484987e+00  3.76287580e+00  6.29766369e+00  2.14487057e+01\n",
      " -2.90400219e+00  2.69095159e+00  1.83851280e+01  2.68454247e+01\n",
      " -8.30364609e+00 -3.13076639e+00  8.05609035e+00  2.84510384e+01\n",
      "  3.71972961e+01 -9.20668900e-01  5.31889248e+00  2.00650387e+01\n",
      "  7.34860039e+00  2.20378399e+01 -5.98122120e+00 -6.87028503e+00\n",
      "  6.74055147e+00  9.40819263e+00  5.77689266e+00 -7.37617493e+00\n",
      "  2.19274673e+01  1.06502223e+00 -5.23186207e+00  1.18997459e+01\n",
      "  8.38439167e-01  1.43927848e+00  1.33170462e+01 -1.33444090e+01\n",
      "  1.55438318e+01  2.00277557e+01  6.46156818e-02  8.76250267e+00\n",
      "  1.08294230e+01  8.45771408e+00  3.39618645e+01  2.25767593e+01\n",
      "  4.11768675e+00 -8.07214069e+00  3.36360321e+01  1.42204237e+01\n",
      "  2.87745214e+00  7.70058441e+00  2.12091465e+01  4.57247314e+01\n",
      "  2.15822201e+01 -6.42563915e+00  3.24717979e+01  1.23154087e+01\n",
      "  3.62743950e+01  1.23032436e+01  2.86057186e+00  4.38556337e+00\n",
      "  1.16848354e+01  6.56627226e+00  5.41376734e+00  2.58896713e+01\n",
      "  2.79631996e+01  8.70234489e+00  7.71558666e+00  2.42888808e+00\n",
      "  2.75899506e+01 -3.74037480e+00  1.05302658e+01  2.63483696e+01\n",
      " -1.55436003e+00  1.74894798e+00 -1.23559070e+00  1.46807299e+01\n",
      "  3.16620502e+01  1.55360818e+00  1.85330048e+01  9.76011658e+00\n",
      "  2.60136623e+01 -5.30398786e-01 -6.26830482e+00  3.31517458e+00\n",
      "  7.25557089e+00  1.12718735e+01  3.47645140e+00  5.19962072e+00\n",
      " -1.16474924e+01  1.60104918e+00 -1.93777549e+00 -6.45688868e+00\n",
      " -2.45136142e+00  2.20002294e+00 -1.75877333e+00  3.96470528e+01\n",
      "  2.57461662e+01  5.83214045e+00  6.60742474e+00 -5.01864052e+00\n",
      "  7.10378218e+00  2.10149765e+01 -5.05090570e+00  1.83892746e+01\n",
      "  1.91376698e+00 -1.15998526e+01 -1.22541122e+01  2.87993984e+01\n",
      "  5.40881968e+00  6.29700851e+00  1.21725063e+01 -1.06970510e+01\n",
      "  4.50472403e+00 -1.63110790e+01 -2.31394596e+01  3.57279277e+00\n",
      " -2.04492360e-01 -5.79766631e-01 -8.94492149e+00  4.75534534e+00\n",
      " -7.11524725e+00  4.66321468e+00 -6.91426611e+00 -6.68110800e+00\n",
      " -1.14632592e-01  8.54901981e+00  1.07508516e+00  2.31304765e+00\n",
      " -2.19388924e+01 -2.45176277e+01 -2.17687836e+01 -7.03473949e+00\n",
      " -8.09755445e-01 -9.05699551e-01 -8.21974754e+00 -4.37352467e+00\n",
      " -2.42620587e+00 -2.24847293e+00 -1.60908484e+00 -3.14944208e-01\n",
      "  5.08541584e+00 -6.40760517e+00  1.30473781e+00 -9.94855595e+00\n",
      " -8.34433365e+00 -1.91959496e+01 -1.38678570e+01  2.08684874e+00\n",
      "  3.15076017e+00  8.05453682e+00 -1.49618549e+01  3.51568127e+00\n",
      "  7.00983143e+00 -1.65492237e+00 -2.43755794e+00  8.27119827e-01\n",
      "  7.22231007e+00 -5.57036400e+00  4.64016259e-01 -6.06947041e+00\n",
      " -2.05461144e+00 -2.31120777e+01 -4.95415115e+00  1.15604341e+00\n",
      "  4.68600988e+00  4.09271193e+00 -8.28138351e+00 -7.92107201e+00\n",
      "  1.96715605e+00  3.18036771e+00  1.35231223e-02 -5.18225193e+00\n",
      " -1.20023813e+01 -5.39583445e+00 -8.06945038e+00  1.85051024e+00\n",
      " -7.60935116e+00 -6.92405653e+00 -6.21749973e+00 -2.80684519e+00\n",
      "  7.73450315e-01 -1.19759569e+01 -2.84178944e+01  1.43075621e+00\n",
      " -3.23111176e+00 -2.51955509e+01 -2.79205084e+00 -3.64969945e+00\n",
      " -1.29539042e+01  1.73093557e-01 -2.47365360e+01 -2.07479591e+01\n",
      "  1.27195299e+00 -3.32440257e-01 -5.69567144e-01  1.90842211e+00\n",
      " -6.27437258e+00  1.49810677e+01 -2.88976212e+01  2.93434477e+00\n",
      " -1.53415165e+01 -3.60075307e+00 -1.68306303e+00  5.43960047e+00\n",
      " -1.16580906e+01 -2.37665629e+00  1.58444810e+00 -3.80932353e-02\n",
      " -5.72265267e-01  2.55725598e+00 -2.10442829e+00 -1.94347703e+00\n",
      "  5.78685045e+00 -4.19305611e+00  9.65998745e+00  5.76520014e+00\n",
      "  4.14263439e+00  1.53623362e+01 -4.41960059e-02  3.33223462e+00\n",
      "  1.85584033e+00 -2.99993973e+01 -7.85238600e+00 -6.78652763e+00\n",
      "  1.67792916e+00  2.76190877e+00 -3.36528802e+00 -4.99501348e-01\n",
      " -5.34334326e+00 -9.66662598e+00 -2.85768300e-01  2.23962879e+00\n",
      " -3.95972276e+00 -1.30211287e+01 -2.56065893e+00 -3.00717449e+00\n",
      " -7.15106440e+00 -1.64760265e+01 -3.51344109e+00  7.12795258e+00\n",
      " -1.19981635e+00  1.99099362e+00 -9.84556580e+00  5.16547012e+00\n",
      "  5.85281515e+00  6.66477859e-01 -7.56104803e+00  2.43129873e+00\n",
      " -2.16884441e+01 -4.51561499e+00 -3.71800947e+00 -2.28938808e+01\n",
      " -1.07199879e+01 -1.16781127e+00 -2.73882103e+00  4.26410735e-01\n",
      "  3.57922840e+00 -2.29258518e+01 -2.17846718e+01 -3.95130587e+00\n",
      " -5.85974360e+00 -2.14946723e+00 -3.14935017e+00 -5.48284006e+00\n",
      " -2.65009618e+00  4.22440910e+00  6.91911280e-01 -2.23585300e+01\n",
      "  3.02444601e+00 -3.85326892e-01 -3.29548669e+00  3.60997647e-01\n",
      " -1.56518614e+00 -2.10285206e+01 -2.03641491e+01 -4.10482883e+00\n",
      " -2.82458603e-01 -1.31432199e+01 -3.65980840e+00  2.71100831e+00\n",
      " -9.48639333e-01  1.36040699e+00 -4.18959469e-01 -5.34262848e+00\n",
      "  3.50380003e-01 -5.30529928e+00 -3.70603848e+00 -4.44151688e+00\n",
      " -4.46944618e+00 -2.46857762e+00 -6.77069724e-01 -1.68707967e+00\n",
      "  4.11975718e+00  4.34650517e+00 -8.28769398e+00 -4.40045929e+00\n",
      " -2.22328091e+01 -5.58716726e+00 -1.71352882e+01 -2.17424698e+01\n",
      "  5.56081676e+00  6.58644676e+00 -7.27990055e+00 -6.36620855e+00\n",
      "  4.99476624e+00 -1.06170073e+01 -2.62805581e+00 -2.50952184e-01\n",
      " -1.58605337e+01 -5.79513788e+00  2.52158904e+00 -1.04422884e+01\n",
      " -2.32442226e+01  4.63794851e+00  2.59949493e+00  1.57774282e+00\n",
      "  9.63826835e-01 -6.10137367e+00 -2.99980330e+00 -2.96824741e+01\n",
      " -4.32212944e+01 -2.84270897e+01 -2.52862568e+01 -3.71094108e+00\n",
      " -7.22848415e+00 -1.85499516e+01 -2.67283297e+00 -1.62842619e+00\n",
      " -2.02644691e+01 -5.71019840e+00 -1.57741261e+01 -2.53904839e+01\n",
      " -1.29641974e+00 -3.78507805e+00 -1.50176449e+01 -2.80436935e+01\n",
      "  4.33915949e+00 -6.69404507e+00  6.03313303e+00 -1.10514345e+01\n",
      " -1.79326935e+01 -3.10299377e+01 -9.55294895e+00 -2.15283394e+00\n",
      " -1.39052238e+01 -8.71170685e-03 -7.11474085e+00  4.34287930e+00\n",
      " -7.92701244e+00 -3.08138065e+01 -1.05003853e+01 -1.53789539e+01\n",
      " -3.35745354e+01 -5.64567423e+00  2.45644236e+00 -2.29194660e+01\n",
      " -1.28737173e+01 -9.95623684e+00 -3.69399691e+00 -8.92794800e+00\n",
      "  7.65844631e+00 -1.18344116e+00  1.37636626e+00 -3.31201630e+01\n",
      " -2.82485142e+01 -4.18459015e+01  5.21444082e+00 -4.74375755e-01\n",
      " -1.46250210e+01 -8.97975743e-01 -1.04137945e+01 -1.51012192e+01\n",
      " -4.03792715e+00 -9.08863640e+00 -5.85850048e+00 -1.28192520e+00\n",
      " -3.14652824e+00 -1.04213877e+01 -2.25004578e+01  3.96963286e+00\n",
      " -3.33792839e+01 -6.59884977e+00  1.05639544e+01 -2.90867519e+01\n",
      "  6.74318981e+00 -1.68508568e+01 -7.60288143e+00 -3.17327175e+01\n",
      " -2.49135532e+01 -5.20600700e+00  2.30442142e+00 -1.26912422e+01\n",
      "  4.31709766e+00 -2.89189386e+00 -1.39702644e+01 -2.68488812e+00\n",
      " -5.33250570e-01  8.20703149e-01 -1.84282207e+01 -7.78828382e+00\n",
      " -2.09046841e+01 -3.71001661e-01 -1.07107038e+01 -4.05500364e+00\n",
      " -7.44578981e+00  1.99448407e+00 -1.21175747e+01 -1.79318047e+01\n",
      " -3.27557206e+00 -1.56928234e+01 -5.12648916e+00 -3.02918029e+00\n",
      " -7.41701603e+00 -2.67203827e+01 -5.69164848e+00  2.31490822e+01\n",
      "  1.31105223e+01 -6.68183899e+00 -3.81754913e+01 -1.02473536e+01\n",
      " -2.33852158e+01 -6.53286123e+00 -2.53954811e+01  4.43896341e+00\n",
      " -1.90719814e+01 -8.54182816e+00 -1.08335686e+01 -1.22441769e+01\n",
      " -1.21500206e+01 -3.79950762e+00]' has dtype incompatible with int64, please explicitly cast to a compatible dtype first.\n",
      "  preds[val_index] = model.predict(dval_i)\n"
     ]
    },
    {
     "name": "stderr",
     "output_type": "stream",
     "text": [
      "\r",
      " 20%|████████████████████████████████████████████▍                                                                                                                                                                                 | 2/10 [01:06<04:23, 32.98s/it]"
     ]
    },
    {
     "name": "stderr",
     "output_type": "stream",
     "text": [
      "C:\\Users\\81809\\AppData\\Local\\Temp\\ipykernel_12368\\3386215446.py:18: FutureWarning: Setting an item of incompatible dtype is deprecated and will raise an error in a future version of pandas. Value '[ 1.35260856e+00 -5.40887737e+00 -6.35680628e+00 -1.52737483e-01\n",
      "  8.52732944e+00 -1.78436065e+00  6.45885563e+00  8.32952690e+00\n",
      "  3.41031837e+00 -5.25790989e-01 -3.65474272e+00  2.58864079e+01\n",
      "  2.18409805e+01 -1.84830874e-01  2.34311161e+01  2.48569660e+01\n",
      "  4.87834406e+00  9.78059864e+00  6.35036039e+00 -9.12274647e+00\n",
      "  4.91466236e+00  6.08564234e+00  9.16682053e+00  6.85789680e+00\n",
      "  1.93720782e+00  3.90244937e+00  7.95523024e+00  1.57470703e+00\n",
      " -6.27442408e+00 -4.80198288e+00 -6.21615887e-01  1.01210041e+01\n",
      "  1.01440506e+01  2.49831176e+00  2.46949024e+01 -1.07996535e+00\n",
      "  3.08897328e+00  2.90910034e+01  3.69564605e+00  5.09933138e+00\n",
      "  5.11588526e+00 -7.54889393e+00  5.36140633e+00  6.82165474e-02\n",
      "  2.66703391e+00  7.04966640e+00 -4.86516142e+00 -6.08715963e+00\n",
      "  7.30819416e+00 -9.13757229e+00  5.40665865e+00  6.08545303e+00\n",
      "  6.19158268e+00 -1.84994113e+00  8.58451653e+00 -1.16459572e+00\n",
      "  4.47430944e+00  1.79378281e+01  5.56993008e+00 -6.52258158e-01\n",
      "  2.21099052e+01 -3.17105031e+00  2.18068147e+00  2.63285275e+01\n",
      "  6.50528288e+00  7.73821783e+00  6.53715515e+00  1.34390044e+00\n",
      "  3.09496737e+00  2.98949838e+00 -1.27560627e+00  2.45173607e+01\n",
      "  8.21826744e+00 -1.47297410e-02  4.40209246e+00  1.47934494e+01\n",
      "  3.05164981e+00  1.62583008e+01 -7.30709171e+00  1.80430019e+00\n",
      "  4.91029596e+00  7.71480417e+00 -4.85633135e+00  8.76044512e-01\n",
      "  1.48146057e+01 -5.25565147e+00  2.73235893e+01  2.87936717e-01\n",
      " -6.41327977e-01  1.40708008e+01  6.11020041e+00  2.37814732e+01\n",
      "  4.86592561e-01 -6.24037457e+00  1.03486223e+01  8.18485737e+00\n",
      "  3.37768173e+00 -3.10352087e+00  1.58106995e+00  4.50143623e+00\n",
      "  1.47693813e+00  1.94567413e+01 -3.67872047e+00  7.88897943e+00\n",
      "  2.03348579e+01  6.67859316e-01  2.38886356e+01  5.70213699e+00\n",
      "  4.53464556e+00 -3.25209093e+00  8.53612423e+00 -5.27937126e+00\n",
      " -1.25057411e+00  6.76681459e-01 -7.36220241e-01 -6.87723446e+00\n",
      "  2.66359180e-01  5.72222328e+00 -9.15402830e-01  7.00071096e+00\n",
      "  2.50417995e+01  3.46832108e+00  1.00979586e+01 -1.61200750e+00\n",
      "  1.34598303e+00 -5.80474663e+00 -1.79629397e+00  2.18867922e+00\n",
      " -1.50752708e-01  1.27692831e+00 -1.52936182e+01  1.13630371e+01\n",
      "  1.11830883e+01  2.16442795e+01 -6.17301416e+00 -1.24690466e-01\n",
      "  6.79203796e+00 -6.08298683e+00  1.07030916e+00 -3.45072317e+00\n",
      "  7.40303338e-01  1.68354721e+01  1.22016182e+01  1.47789955e+00\n",
      "  2.24153566e+00 -1.81619871e+00  4.17635202e+00 -7.02521133e+00\n",
      "  3.25842905e+00  1.35288992e+01 -1.74152863e+00  1.65948343e+00\n",
      " -1.37651682e+00  2.21537342e+01  2.35149574e+00  2.95951605e+00\n",
      "  3.00554333e+01  3.82231951e+00  4.20391750e+00  7.77159166e+00\n",
      "  9.07851994e-01  8.96043873e+00 -2.00725055e+00  2.99193931e+00\n",
      "  3.70525336e+00  6.65973330e+00  1.23245506e+01  2.66515503e+01\n",
      "  4.89937592e+00  7.16726589e+00 -3.02131724e+00  7.82173157e+00\n",
      "  2.25181031e+00  3.44191575e+00  2.71120906e+00  2.27773342e+01\n",
      "  7.71691278e-02  5.49668503e+00 -8.90981007e+00  3.15079713e+00\n",
      " -5.56820107e+00 -1.76085079e+00 -9.17278004e+00  6.63141251e+00\n",
      "  7.83331394e+00  3.58143520e+00 -2.91618299e+00  2.37525296e+00\n",
      " -1.35421789e+00 -6.31204700e+00  3.29435158e+00  3.06823845e+01\n",
      "  3.06436176e+01  4.35927010e+01  2.90959949e+01  1.90399952e+01\n",
      " -3.63986516e+00  3.69280005e+00  1.18154716e+00  1.21727934e+01\n",
      "  9.96659184e+00 -1.19415989e+01  6.88930511e+00  1.26610506e+00\n",
      "  9.16591740e+00  2.91865978e+01  4.00241405e-01  3.86394119e+01\n",
      "  8.68394375e+00 -1.14828215e+01  1.71415787e+01  1.09492865e+01\n",
      "  1.45169315e+01  1.71162701e+01  2.68678913e+01  1.63727856e+01\n",
      "  5.45953894e+00  2.20055485e+00  3.60665588e+01 -4.26729345e+00\n",
      "  1.25002823e+01  9.46968651e+00  2.46631508e+01  1.53573370e+01\n",
      "  1.88920803e+01  1.14153376e+01  2.22258282e+00 -4.56931210e+00\n",
      "  2.13674145e+01 -6.07027721e+00 -1.55953503e+00  2.84830799e+01\n",
      " -2.54275131e+00  1.17525558e+01 -3.56436282e-01  9.17288780e+00\n",
      " -8.84290886e+00  2.63064022e+01  8.82796097e+00 -2.34091797e+01\n",
      "  3.21936455e+01  1.44731417e+01 -2.09542274e+00 -6.44150639e+00\n",
      "  3.03123975e+00  2.38638210e+00  1.60479717e+01  1.48945513e+01\n",
      "  1.79909456e+00  6.88075018e+00  5.32092476e+00  9.08806419e+00\n",
      "  3.86475983e+01  6.50618505e+00 -3.71749020e+00 -9.11811888e-01\n",
      "  8.20677757e+00  1.28446627e+01  4.74290514e+00  2.45664082e+01\n",
      "  2.94679050e+01 -6.83714581e+00  8.57285976e+00  7.34622049e+00\n",
      "  2.96746635e+01 -8.26778984e+00  3.75491261e+00  2.69395852e+00\n",
      "  1.20536118e+01  1.24833751e+00 -7.13355255e+00 -4.19158697e+00\n",
      "  3.58838272e+01  3.10685520e+01  1.42901831e+01  1.05514467e+00\n",
      " -1.18444264e+00  9.14501953e+00  1.87223244e+01  3.13864841e+01\n",
      " -5.09021425e+00 -1.11467352e+01 -9.56405544e+00  2.84226913e+01\n",
      " -7.68158674e+00  8.31604099e+00  2.36060467e+01  9.47645092e+00\n",
      "  2.57467842e+01  2.99806957e+01  7.22687435e+00  1.43630874e+00\n",
      " -2.49534187e+01  3.78818607e+00 -1.94719493e+00  6.11728907e+00\n",
      "  1.51302834e+01 -4.84273434e+00  3.87553368e+01  8.35413361e+00\n",
      "  2.15691071e+01  2.69621296e+01  1.25715065e+01  1.50326281e+01\n",
      " -7.77770638e-01  9.12912083e+00  1.48207575e-01 -4.99155998e+00\n",
      "  2.57495379e+00 -9.57648659e+00 -2.25095329e+01 -7.00719786e+00\n",
      " -1.70188465e+01 -1.75862370e+01 -7.31785202e+00  3.86357498e+00\n",
      "  5.69484234e+00 -6.23111725e+00 -8.01153755e+00  3.40314507e+00\n",
      " -7.84013796e+00 -4.59093142e+00 -6.88410807e+00 -5.00277996e-01\n",
      " -4.67464590e+00 -2.10225048e+01  9.53679466e+00 -3.85548735e+00\n",
      " -3.87661576e+00 -6.62142181e+00 -1.73363760e-01 -8.94788456e+00\n",
      " -7.55339622e+00 -7.09920025e+00 -2.19293165e+00 -1.03604734e+00\n",
      " -4.42264700e+00 -1.56973400e+01  1.31405306e+00 -1.98162975e+01\n",
      "  1.24857044e+01 -7.81979704e+00 -1.13980503e+01 -3.94975138e+00\n",
      " -1.54297342e+01 -5.96211243e+00  8.31476593e+00 -4.61009455e+00\n",
      "  2.94742870e+00 -6.97721863e+00 -2.40727949e+00 -7.72141647e+00\n",
      " -8.76520157e+00 -1.75953078e+00 -2.00634742e+00  6.04251385e+00\n",
      "  1.97355711e+00 -1.52300444e+01 -7.70957470e+00  2.71667671e+00\n",
      " -1.04780846e+01 -1.46354198e+01 -2.59511614e+00 -5.31989861e+00\n",
      "  4.26211548e+00 -4.70592439e-01 -2.06220961e+00 -2.88551140e+00\n",
      " -2.61126060e+01 -1.01426115e+01  2.98212361e+00  1.12443522e-01\n",
      " -1.37848568e+01  1.06781328e+00  1.93824911e+00 -2.95606899e+00\n",
      "  2.26799393e+00 -2.02199817e+00 -7.17252827e+00 -4.80542660e+00\n",
      " -2.66562819e-01 -1.71207409e+01 -2.69035244e+00 -5.76703370e-01\n",
      " -3.61682820e+00 -1.85421677e+01 -5.04797411e+00 -1.84119606e+00\n",
      " -1.17657185e+01 -5.99711943e+00 -4.44465637e-01  1.81821331e-01\n",
      " -2.35880508e+01 -2.38428283e+00  4.07775354e+00  4.93491125e+00\n",
      " -2.71597791e+00 -2.17762737e+01  4.21826363e+00 -7.66954851e+00\n",
      " -1.13665514e+01 -4.04471684e+00 -1.05204659e+01 -1.10371697e+00\n",
      "  2.84201097e+00  3.83636785e+00 -5.94803751e-01 -3.27997565e+00\n",
      "  1.46479905e+00  2.72053540e-01  3.12208581e+00  2.03419328e+00\n",
      " -1.42814445e+01 -1.00497637e+01 -6.51615858e+00  7.90627527e+00\n",
      "  7.63397038e-01 -1.39558852e+00 -1.87365592e+00 -1.22016420e+01\n",
      "  1.63847041e+00 -2.19519100e+01  4.32768536e+00 -6.65923500e+00\n",
      " -1.52536440e+00 -3.10143876e+00  2.99042559e+00  8.49603367e+00\n",
      "  1.73132807e-01 -7.22527885e+00 -1.44279253e+00  1.67414360e+01\n",
      " -8.56903791e-02 -2.81320610e+01 -7.60707474e+00 -7.85064888e+00\n",
      "  1.99634457e+00 -1.85280037e+01  8.99505806e+00 -9.42842185e-01\n",
      " -1.27985229e+01 -1.09579439e+01 -2.83070183e+00 -1.83954406e+00\n",
      " -2.10723076e+01  1.54506454e+01 -3.25850368e+00  1.56519699e+00\n",
      " -1.24417076e+01  1.22447739e+01  3.65312171e+00 -1.60885410e+01\n",
      "  5.87178349e-01 -1.05689688e+01 -6.76729345e+00 -6.18108749e+00\n",
      "  2.78149891e+00 -2.88058543e+00 -2.05781784e+01 -4.35472727e+00\n",
      " -2.13862915e+01 -4.41774178e+00 -4.70126772e+00 -3.89326358e+00\n",
      " -8.09243798e-01  2.54533696e+00 -1.45023465e-02 -7.20165491e+00\n",
      "  3.74285042e-01 -4.52607584e+00 -8.33948421e+00 -2.51871061e+00\n",
      " -3.13941091e-02 -9.29082489e+00 -1.11975111e-01 -5.00737047e+00\n",
      " -4.15771008e+00 -1.25739411e-01  1.55034614e+00  2.28853178e+00\n",
      " -1.85355976e-01 -2.33150692e+01 -7.73762369e+00  5.13742161e+00\n",
      "  3.58875084e+00 -2.05767035e+00 -1.86376419e+01 -2.57158446e+00\n",
      " -4.34990311e+00 -7.87289524e+00  1.83186936e+00 -7.24255368e-02\n",
      " -1.93602333e+01 -7.09256649e+00 -2.34507179e+00 -1.47143574e+01\n",
      " -2.21311493e+01 -2.50985870e+01 -1.94869766e+01  2.53672218e+00\n",
      " -4.34100342e+00  5.33430529e+00 -5.18328238e+00 -2.88190961e+00\n",
      "  7.02020407e+00  2.14411879e+00  5.76577365e-01 -3.30096316e+00\n",
      " -2.18441677e+01 -8.86581516e+00  2.66957045e+00  1.25135231e+00\n",
      " -2.09739780e+00 -3.31689692e+00  3.80414224e+00  8.94290209e-01\n",
      "  2.91447330e+00  7.43383980e+00  2.87689805e+00 -8.95721436e+00\n",
      " -2.11499023e+00  5.20645320e-01 -1.10234699e+01 -2.75026321e+01\n",
      " -1.41242876e+01  4.58245897e+00 -1.70377481e+00  9.57330167e-01\n",
      " -1.71532421e+01 -1.34733562e+01  2.13529086e+00 -2.53609028e+01\n",
      "  2.64332128e+00 -2.16660194e+01 -2.35897598e+01 -7.46370029e+00\n",
      " -3.51143723e+01 -1.32813282e+01 -3.42058449e+01 -2.05775070e+01\n",
      " -6.87575769e+00  2.76710224e+00  1.08289270e+01  6.34589767e+00\n",
      " -3.12788830e+01 -2.44024982e+01 -1.11562576e+01 -3.17787075e+01\n",
      "  1.69456158e+01 -7.37573862e+00 -2.39326267e+01 -6.91838264e+00\n",
      " -5.58020592e+00 -1.36221972e+01  5.43246555e+00 -1.22969589e+01\n",
      " -2.85442314e+01 -5.15887022e-01 -4.03769779e+00 -2.04452343e+01\n",
      " -1.01744823e+01 -2.80122356e+01 -1.18236656e+01 -1.91350784e+01\n",
      "  1.28158770e+01 -1.56069908e+01 -3.31113205e+01 -8.27355957e+00\n",
      " -4.40050173e+00 -6.46835327e+00  6.49339104e+00 -1.26806319e+00\n",
      " -8.74149132e+00 -2.97446346e+01  4.75979120e-01 -1.31079321e+01\n",
      " -4.03609543e+01 -8.65585625e-01 -1.45617027e+01 -8.15028608e-01\n",
      "  3.90028119e+00 -1.73272610e+01  5.00802088e+00 -3.28234558e+01\n",
      "  6.42823982e+00 -1.04673934e+00 -1.33915262e+01 -4.01357365e+00\n",
      " -1.17630835e+01 -5.35858727e+00 -2.76195836e+00 -2.14648724e+01\n",
      " -9.95117378e+00 -4.41524172e+00  2.06127858e+00  1.00982952e+01\n",
      " -8.53085232e+00 -6.08961010e+00 -2.37857723e+01  3.48019052e+00\n",
      "  8.21231365e+00  2.01578021e+00 -5.83669090e+00 -5.31199932e+00\n",
      "  9.19831371e+00  7.46250033e-01 -9.84120274e+00 -4.48398972e+01\n",
      "  4.97739983e+00 -2.89263477e+01  6.03962135e+00 -1.41381884e+01\n",
      " -2.78901157e+01 -4.48135805e+00 -9.62052631e+00  1.03841457e+01\n",
      " -1.33731890e+01 -1.81377144e+01 -8.20892429e+00 -2.42138500e+01\n",
      " -2.97003193e+01 -8.80217648e+00 -3.96332264e+00  1.20073509e+00\n",
      " -2.82503433e+01 -1.94158955e+01 -2.26952095e+01 -2.94756436e+00\n",
      " -6.37523842e+00 -4.23536015e+00 -1.01635284e+01 -6.43552351e+00\n",
      " -2.40923071e+00  7.46905661e+00 -3.03020420e+01  1.15258265e+01\n",
      " -7.21293640e+00 -5.87932491e+00  3.10414553e+00 -3.79789505e+01\n",
      " -5.96852160e+00 -2.29072247e+01 -1.19822121e+00  3.53781247e+00\n",
      " -1.45827007e+01 -5.20916986e+00]' has dtype incompatible with int64, please explicitly cast to a compatible dtype first.\n",
      "  preds[val_index] = model.predict(dval_i)\n"
     ]
    },
    {
     "name": "stderr",
     "output_type": "stream",
     "text": [
      "\r",
      " 30%|██████████████████████████████████████████████████████████████████▌                                                                                                                                                           | 3/10 [01:37<03:44, 32.13s/it]"
     ]
    },
    {
     "name": "stderr",
     "output_type": "stream",
     "text": [
      "C:\\Users\\81809\\AppData\\Local\\Temp\\ipykernel_12368\\3386215446.py:18: FutureWarning: Setting an item of incompatible dtype is deprecated and will raise an error in a future version of pandas. Value '[ 2.34715867e+00 -7.76186562e+00  6.56137705e+00  1.54747925e+01\n",
      "  2.17121716e+01  9.91464043e+00  4.73292637e+00 -2.91565442e+00\n",
      "  8.20129097e-01  1.59158325e+00 -1.93955040e+00 -2.91191244e+00\n",
      "  4.24019307e-01 -1.05325389e+00 -4.25396252e+00  2.16839104e+01\n",
      " -2.90853834e+00 -1.20099187e+00  2.15925770e+01  8.18469167e-01\n",
      "  5.46214676e+00  3.17307639e+00  8.03576708e-01  4.69665718e+00\n",
      " -4.00210714e+00  8.51174450e+00 -1.75247371e-01 -3.59695268e+00\n",
      "  3.05748153e+00  5.03600979e+00  7.00040460e-01  1.52426500e+01\n",
      "  4.36605930e+00  4.20274687e+00 -6.65007651e-01  9.06873035e+00\n",
      "  1.74655163e+00  1.76078701e+01  2.38662100e+00 -7.26011658e+00\n",
      "  7.78031921e+00  5.43835223e-01  8.24301434e+00  5.45059395e+00\n",
      " -5.63642311e+00  6.38265705e+00  3.02165556e+00 -8.34030437e+00\n",
      " -1.10407484e+00 -2.03195286e+00  2.18226528e+01  1.55916131e+00\n",
      "  1.96006846e+00 -1.59492409e+00  6.88916302e+00  1.51947320e+00\n",
      " -3.07428122e+00 -1.44554242e-01  2.29243641e+01  1.26324911e+01\n",
      " -3.65537262e+00 -1.76064998e-01  2.45012608e+01 -2.61602259e+00\n",
      "  3.09308577e+00 -1.76884308e-01  6.45413578e-01  1.10042548e+00\n",
      " -2.05706620e+00  9.84302089e-02  2.23965092e+01 -2.05429888e+00\n",
      "  7.39080524e+00  5.71894789e+00  5.97528994e-01 -2.30004954e+00\n",
      "  4.36830330e+00 -1.97703660e+00  1.96548545e+00 -9.34866810e+00\n",
      "  1.66210842e+01  3.70169497e+00  8.56933022e+00  1.12081165e+01\n",
      " -3.85553980e+00  6.13681221e+00  3.25835729e+00 -2.69718289e+00\n",
      "  2.57291756e+01  1.26502428e+01 -1.06876240e+01 -5.04860878e+00\n",
      "  1.78361073e+01 -2.10074544e+00 -1.63493824e+00  5.33441067e+00\n",
      " -8.29930127e-01  1.10664930e+01  6.16018057e+00 -2.32878804e+00\n",
      " -3.98895574e+00  4.28181219e+00  2.16219711e+01  1.51318026e+01\n",
      " -1.49454603e+01 -3.35559040e-01 -3.80351830e+00  1.00050640e+01\n",
      " -1.33612764e+00  4.13563251e+00  7.69143391e+00  7.08089542e+00\n",
      "  1.67621021e+01  4.88067865e+00  1.22476530e+00  2.83584189e+00\n",
      " -2.18783283e+00  1.32296534e+01  1.76802330e+01  6.55878878e+00\n",
      "  5.72958183e+00  1.00221729e+01 -2.36952066e+00  6.79125357e+00\n",
      " -6.38576984e+00  1.66745222e+00  1.10039129e+01 -6.21866512e+00\n",
      "  7.16533232e+00  6.66976213e+00  2.30786085e+00  9.61719513e+00\n",
      "  8.74126244e+00  1.89411373e+01  1.26802893e+01  9.53989697e+00\n",
      "  7.94244409e-01 -3.64544368e+00  7.33889055e+00 -4.01657152e+00\n",
      " -3.64371085e+00  2.19087753e+01  1.02882338e+01 -1.76603472e+00\n",
      " -2.75779581e+00  6.55665779e+00  5.70423937e+00  1.16342586e-03\n",
      "  5.86742306e+00 -2.08860588e+00  2.26202946e+01  5.28451729e+00\n",
      "  1.58319759e+01 -9.90907669e+00 -4.47696733e+00 -1.00845850e+00\n",
      " -6.99807310e+00  1.30167449e+00  1.18935144e+00  6.72666025e+00\n",
      "  6.25033998e+00 -1.14812880e+01  7.09834218e-01  1.48534691e+00\n",
      "  4.97928762e+00  3.61938763e+00  9.62903500e+00  3.17614675e+00\n",
      "  2.66161704e+00 -1.65628493e+00  4.81435442e+00 -6.15192461e+00\n",
      " -1.56195583e+01 -3.53265643e+00  1.82229102e-01  1.75473900e+01\n",
      "  4.12021494e+00 -1.30846596e+00  5.66632891e+00  3.87280679e+00\n",
      " -1.70189345e+00 -1.00162852e+00 -3.23307681e+00 -3.62279987e+00\n",
      "  2.65273724e+01  2.56649446e+00  2.19591045e+01 -5.91105032e+00\n",
      "  3.75197196e+00  6.50484419e+00 -4.61675358e+00 -3.49579144e+00\n",
      "  7.53786922e-01  8.01414013e+00  1.42750072e+01  2.95401424e-01\n",
      "  2.08715534e+00  1.77421627e+01 -2.41912613e+01 -2.77191925e+00\n",
      " -9.20438766e+00  1.17636862e+01  2.40432167e+00 -2.97210336e+00\n",
      "  1.92222023e+00  4.55710554e+00  2.57633805e+00  4.41553831e+00\n",
      "  8.99474812e+00  9.50643349e+00  1.53742993e+00  3.01737843e+01\n",
      "  3.00188713e+01  3.13993216e+00  1.02287741e+01 -6.39878213e-01\n",
      "  3.52314758e+01  3.47962666e+00  1.50654469e+01  1.11431398e+01\n",
      " -3.96065164e+00 -1.60083914e+00  2.81471419e+00  3.67830124e+01\n",
      "  1.28414869e+01  2.54567604e+01  3.61133537e+01  6.17455626e+00\n",
      "  4.02714133e-01  7.03792953e+00 -8.90684891e+00  7.01047325e+00\n",
      "  2.45729041e+00  2.81822071e+01  1.04721937e+01  1.80781651e+01\n",
      "  1.27866316e+00 -6.72389317e+00  1.39836359e+00 -1.29983549e+01\n",
      "  3.65557327e+01  1.14018688e+01  2.38018617e-01  1.85739362e+00\n",
      "  2.62607861e+01  2.03667603e+01  2.05317402e+01  4.54274464e+00\n",
      " -1.74552202e+00 -3.80681467e+00  1.90329781e+01  1.33966255e+01\n",
      "  3.04987049e+01  5.03858662e+00  6.32577419e+00  2.37843342e+01\n",
      "  3.16731310e+00 -1.25127773e+01  1.01006317e+01 -2.01730013e+00\n",
      "  3.20562768e+00 -5.64998960e+00  2.40724602e+01 -3.59126878e+00\n",
      "  3.05377636e+01  1.29554558e+01  4.31893492e+00  3.34172964e+00\n",
      "  4.16683584e-01  9.42982674e+00  3.48519020e+01  1.54040680e+01\n",
      "  6.32336903e+00  1.47474422e+01  3.42154465e+01  1.13139045e+00\n",
      "  5.12899971e+00 -8.34584045e+00  3.50007200e+00 -1.80140674e+00\n",
      "  1.39004078e+01  1.41430855e+01  2.16095524e+01 -1.87213361e+00\n",
      " -1.24451380e+01 -8.20884991e+00  2.43501949e+00 -6.92692232e+00\n",
      "  2.81455779e+00  2.18258896e+01  6.06117392e+00 -1.33962708e+01\n",
      "  2.89695716e+00  8.50011158e+00  4.07826692e-01  2.12714171e+00\n",
      "  2.02404213e+01 -7.04379368e+00 -1.28477945e+01  3.84377823e+01\n",
      "  6.54950857e+00 -5.23706388e+00  3.07711430e+01  1.17871866e+01\n",
      "  2.19827824e+01  1.31679630e+01  3.64520144e+00 -4.41012764e+00\n",
      " -1.37016478e+01  6.47820830e-01 -5.99017715e+00 -1.22074680e+01\n",
      " -3.44395208e+00 -1.21109362e+01 -1.53308544e+01 -9.43800449e+00\n",
      " -7.98108959e+00 -7.70352697e+00 -7.39805984e+00 -4.68696213e+00\n",
      "  4.90128899e+00 -6.74437714e+00  3.74316478e+00  2.55451465e+00\n",
      "  1.68611538e+00 -2.32941456e+01  1.11913390e-01 -1.40434227e+01\n",
      " -2.14048042e+01 -1.57677317e+00 -6.35031796e+00 -1.27578783e+00\n",
      "  5.18314886e+00  4.51655436e+00 -6.56303644e-01 -7.17410851e+00\n",
      " -9.24906158e+00  9.82318640e-01 -6.38231993e+00  1.77978933e+00\n",
      "  2.99679458e-01 -1.46615541e+00 -4.77465248e+00 -2.68293419e+01\n",
      " -9.62868595e+00 -5.78436613e+00 -1.57770109e+01 -3.11943197e+00\n",
      " -6.21583128e+00 -1.91691170e+01 -7.15709639e+00  5.69932282e-01\n",
      " -6.75173998e+00  5.80640841e+00 -1.80300579e+01  8.67167377e+00\n",
      " -5.91437674e+00 -2.44531631e+01 -6.75934410e+00 -1.87256145e+00\n",
      " -5.70611238e+00 -9.53724575e+00 -4.65001392e+00 -3.75571322e+00\n",
      "  2.81136441e+00 -1.16049290e+01  3.28375363e+00 -1.38540869e+01\n",
      "  1.66417778e+00 -5.79224300e+00 -3.90632796e+00 -2.47262812e+00\n",
      " -2.29417381e+01 -8.30435753e+00 -5.23416710e+00 -8.71008492e+00\n",
      " -6.02104282e+00  6.67509079e-01 -1.90045685e-02 -1.48800306e+01\n",
      " -2.62902832e+01 -2.87413645e+00 -1.01698720e+00 -2.26620555e+00\n",
      " -1.75198727e+01 -3.39217961e-01 -4.56477642e+00 -1.12103426e+00\n",
      "  8.06996167e-01 -2.53960304e+01 -1.94967957e+01  2.47614408e+00\n",
      " -1.10902710e+01  2.63103652e+00 -5.95786285e+00 -1.97034693e+00\n",
      " -6.22592831e+00 -1.00794840e+01 -5.36241436e+00 -5.31960440e+00\n",
      " -2.43137379e+01  1.44846554e+01  5.55547476e+00 -2.67941723e+01\n",
      " -1.57718048e+01 -1.55424042e+01 -1.76628208e+01 -7.14922380e+00\n",
      " -3.00705886e+00 -4.21867037e+00  8.97242451e+00 -4.84339476e+00\n",
      " -8.80644989e+00 -1.77766275e+00  7.00559676e-01  3.47145724e+00\n",
      " -9.21849459e-02 -1.03618956e+00 -1.59568558e+01  1.93915546e+00\n",
      "  7.64071569e-02  4.37659740e+00 -1.83171749e+01 -9.47040558e+00\n",
      " -2.68213034e+00 -5.16950607e+00  2.84927869e+00 -1.04648733e+01\n",
      " -1.29494572e+01 -1.26222086e+00  2.26463288e-01 -4.60960902e-02\n",
      "  2.35394970e-01 -5.17541075e+00  1.20146358e+00 -3.60714853e-01\n",
      " -2.48254347e+00 -3.51300883e+00 -9.47306919e+00 -9.31309128e+00\n",
      " -5.75230646e+00 -4.11300945e+00 -3.83269712e-02 -6.89377928e+00\n",
      "  6.99205101e-01 -1.97837985e+00 -2.18384171e+01  1.58996153e+00\n",
      "  3.10157800e+00 -1.69958553e+01 -2.42640615e+00 -2.58368635e+00\n",
      "  2.47128248e+00 -2.28107476e+00 -4.69378328e+00 -5.36413527e+00\n",
      " -5.59298992e+00  4.23255730e+00  2.49566841e+00 -2.24071598e+01\n",
      "  8.23478520e-01 -4.67107582e+00 -1.58002532e+00 -2.15510633e-02\n",
      " -3.14736533e+00 -4.16961098e+00  3.67476606e+00 -2.49266887e+00\n",
      " -1.56919518e+01 -2.35372233e+00 -5.95507097e+00 -8.28214735e-02\n",
      " -3.91262007e+00 -1.37113390e+01 -5.39947081e+00 -7.75799417e+00\n",
      " -2.49763680e+00 -4.26087713e+00 -1.32711687e+01 -2.26125278e+01\n",
      " -1.38937340e+01 -2.37377319e+01  5.11548996e+00 -2.48798656e+00\n",
      "  1.23940639e+01  4.62466812e+00  4.48812342e+00 -1.21266298e+01\n",
      " -5.46316147e+00  4.81702280e+00 -3.89019203e+00  4.29063797e+00\n",
      " -2.11337261e+01  7.67605126e-01 -4.09202671e+00 -1.76908054e+01\n",
      " -2.76030326e+00  2.59804010e+00 -2.89909035e-01 -9.30380702e-01\n",
      " -7.10436296e+00  8.08778667e+00 -1.19452858e+01 -4.10227060e+00\n",
      " -1.47920494e+01 -7.13254881e+00 -1.35204339e+00 -2.53593712e+01\n",
      " -1.54597788e+01  3.19800711e+00  1.69058704e+00 -3.79788876e+00\n",
      "  1.11571884e+01 -4.51316404e+00 -1.61051006e+01 -3.57410455e+00\n",
      "  3.22065187e+00 -5.64928341e+00 -3.08816504e+00 -6.08218050e+00\n",
      " -1.08240728e+01 -3.29577293e+01  2.49461198e+00 -2.55614815e+01\n",
      " -1.25354528e+01  4.89385891e+00 -1.90466728e+01 -1.37641096e+01\n",
      "  3.65203547e+00 -1.08328066e+01  2.15454388e+00 -2.65412464e+01\n",
      " -2.94655476e+01  3.83430696e+00 -3.51679649e+01 -2.80576515e+01\n",
      " -1.19886274e+01 -8.88131332e+00 -5.21051836e+00 -2.63744812e+01\n",
      " -1.58611730e-01 -1.40272894e+01  6.31199455e+00 -5.74164927e-01\n",
      " -4.51152182e+00 -1.08286314e-01 -4.22452126e+01 -1.71556759e+00\n",
      " -2.68099904e+00  7.25396585e+00 -1.88982925e+01 -2.35618706e+01\n",
      " -2.74027824e+01 -1.20097237e+01  1.32610881e+00 -8.55790138e+00\n",
      " -3.24673265e-01 -4.92794394e-01 -8.95724773e+00 -2.41914272e+01\n",
      " -8.71683240e-01 -7.83029985e+00 -3.53658795e-02 -1.62747135e+01\n",
      " -8.73218632e+00 -5.15124750e+00 -3.42994595e+00 -1.38483362e+01\n",
      " -1.39577856e+01 -2.95831490e+01 -2.61025739e+00 -5.23800755e+00\n",
      " -3.15531044e+01 -3.59231377e+01 -3.76013680e+01 -7.72335625e+00\n",
      " -8.98811340e+00 -2.92203655e+01 -6.75492668e+00 -1.90936661e+01\n",
      "  2.11991096e+00 -1.58384705e+01 -1.01018133e+01  1.04723902e+01\n",
      "  3.58453822e+00  2.32972240e+00 -5.26758528e+00 -6.47953701e+00\n",
      " -1.21236649e+01 -5.75253725e-01 -1.30658226e+01 -3.74438834e+00\n",
      "  4.31272602e+00  4.22327662e+00 -6.72113895e+00  3.18642110e-01\n",
      " -5.40616369e+00 -1.49077549e+01 -1.86075249e+01 -3.08115935e+00\n",
      "  8.93782616e+00 -7.27842665e+00 -2.48732638e+00 -1.13524885e+01\n",
      " -1.06583595e+01  2.40575314e+00 -1.52040939e+01 -2.38072300e+01\n",
      "  3.21530819e+00 -4.19423342e+00  2.72555256e+00 -1.97627945e+01\n",
      " -3.43153644e+00 -5.84772635e+00 -2.22017059e+01 -3.79514146e+00\n",
      "  8.32071877e+00 -1.14802110e+00 -7.09438848e+00  7.57291079e+00\n",
      " -7.68404198e+00 -2.43539047e+01 -1.47189450e+00 -2.76747494e+01\n",
      " -1.27515116e+01  4.79783297e+00 -1.75326519e+01 -5.63657618e+00\n",
      " -5.68280649e+00  8.32995892e+00 -1.85110340e+01 -3.08143845e+01\n",
      " -3.90760727e+01 -9.99682808e+00 -6.61997032e+00 -3.67204285e+01\n",
      " -3.00307922e+01 -4.40588808e+00 -1.98158531e+01  5.06941938e+00\n",
      "  9.52694035e+00 -3.54089127e+01 -3.81343579e+00 -2.82873650e+01\n",
      " -1.62585907e+01 -2.33059311e+01]' has dtype incompatible with int64, please explicitly cast to a compatible dtype first.\n",
      "  preds[val_index] = model.predict(dval_i)\n"
     ]
    },
    {
     "name": "stderr",
     "output_type": "stream",
     "text": [
      "\r",
      " 40%|████████████████████████████████████████████████████████████████████████████████████████▊                                                                                                                                     | 4/10 [02:12<03:17, 32.93s/it]"
     ]
    },
    {
     "name": "stderr",
     "output_type": "stream",
     "text": [
      "C:\\Users\\81809\\AppData\\Local\\Temp\\ipykernel_12368\\3386215446.py:18: FutureWarning: Setting an item of incompatible dtype is deprecated and will raise an error in a future version of pandas. Value '[-8.39179420e+00 -4.19375002e-01  2.10063114e+01  1.16611099e+01\n",
      "  2.15474434e+01  1.75670547e+01 -9.51082408e-01  6.06356955e+00\n",
      "  9.31112194e+00  7.20577002e+00  7.12090254e+00 -3.62438297e+00\n",
      " -3.88795829e+00  2.24448133e+00  2.41695957e+01  2.28156948e+01\n",
      " -2.32624650e+00  6.91233158e+00 -8.17386985e-01  3.85687470e+00\n",
      "  1.03834448e+01  1.48761082e+00  1.94270878e+01  2.06132603e+01\n",
      "  1.59729421e+00 -5.61631346e+00  8.99075508e-01  5.70803642e-01\n",
      "  6.42424011e+00 -5.47612143e+00  5.99577379e+00 -1.11645854e+00\n",
      "  1.97313023e+01 -1.74040079e+00 -7.99272823e+00  3.29261732e+00\n",
      "  1.68926640e+01 -6.10949755e+00  7.76021302e-01 -2.83239627e+00\n",
      "  3.12421322e+00  9.19854450e+00 -5.31789827e+00 -8.13910389e+00\n",
      " -2.89218664e+00  7.94391680e+00  6.29384947e+00  1.42648783e+01\n",
      "  5.11725664e+00  7.65722847e+00  5.93041229e+00 -4.95253468e+00\n",
      " -2.93797779e+00  5.45923233e+00 -1.30221434e+01  4.76601934e+00\n",
      "  7.44658470e+00  2.27200718e+01  2.07115612e+01  5.25068951e+00\n",
      "  4.96111488e+00  3.20001030e+00  3.59512281e+00 -2.14931941e+00\n",
      "  6.75233173e+00  5.65617895e+00 -7.36963093e-01  2.65591550e+00\n",
      "  2.67903304e+00  2.54159069e+00 -1.87078631e+00  3.01291919e+00\n",
      " -2.16263080e+00  3.43333054e+00  7.44030997e-02  2.72853699e+01\n",
      "  8.46570206e+00 -2.48045301e+00 -6.29602766e+00 -1.78899992e+00\n",
      "  1.15882921e+01  2.07453012e+00 -3.17323256e+00  2.66428638e+00\n",
      "  9.87911892e+00  1.64840055e+00  1.28047686e+01  1.68134665e+00\n",
      "  2.26566296e+01  1.08317623e+01 -1.09993305e+01 -5.68083763e+00\n",
      "  2.23843040e+01 -4.61079359e+00  7.48307800e+00  1.25291033e+01\n",
      "  4.24238348e+00  1.08295450e+01  1.49468228e-01 -1.75515544e+00\n",
      " -1.14722764e+00  1.15177231e+01  2.38449478e+01 -7.06229591e+00\n",
      " -6.28405905e+00  1.23489017e+01 -2.18382120e+00  5.09029388e+00\n",
      "  3.05517650e+00  2.87967324e+00 -7.86042786e+00 -2.01783252e+00\n",
      "  3.30377638e-01  5.36041260e+00  5.41479826e-01  1.68397748e+00\n",
      " -1.03059387e+01  5.43610764e+00 -2.05311608e+00  3.79875809e-01\n",
      " -3.66959023e+00  7.49264765e+00  5.02365780e+00 -3.04001927e+00\n",
      "  3.69569778e+00  1.75312901e+00  7.38960791e+00  6.69334936e+00\n",
      "  1.45841770e+01  2.34305429e+00 -1.91296806e+01 -1.08325827e+00\n",
      "  2.76384330e+00  3.02617401e-01  7.68735027e+00 -4.14447117e+00\n",
      "  8.86684060e-02  4.31481028e+00  2.87357349e+01  1.24606581e+01\n",
      " -2.49591565e+00  1.63182182e+01  2.18969173e+01 -2.98232818e+00\n",
      " -7.15436029e+00  1.52279024e+01 -5.18740535e-01  8.49600792e+00\n",
      "  1.55190885e+00  6.44254351e+00  5.70314312e+00 -3.52617359e+00\n",
      "  1.51982012e+01  3.46228004e+00  1.74998271e+00  4.56483573e-01\n",
      "  6.96655989e+00  2.11000462e+01  4.01264048e+00 -1.01835270e+01\n",
      "  3.41415596e+00 -7.45570326e+00  2.52269268e-01  3.75962877e+00\n",
      " -4.41405582e+00  5.42314768e+00  4.57206041e-01  5.18509388e-01\n",
      "  3.28316665e+00  1.01807194e+01 -2.75351703e-01  7.38220978e+00\n",
      "  9.43277931e+00 -7.53240681e+00  4.12547827e+00  2.47343040e+00\n",
      "  9.97390747e-01  6.32785511e+00  5.68545818e+00  2.33253741e+00\n",
      " -2.11190820e+00  6.52362299e+00 -2.84353566e+00 -4.76022720e+00\n",
      " -5.35806561e+00  1.25616522e+01  3.46635199e+00  5.94905138e+00\n",
      " -2.92073011e+00 -2.69157863e+00  2.70004311e+01  5.45476484e+00\n",
      "  2.45318260e+01  1.02139199e+00 -7.46661139e+00  1.47786465e+01\n",
      "  1.08972511e+01  4.05026054e+00  4.10062224e-01 -5.52134943e+00\n",
      "  1.03950624e+01  1.70691757e+01 -3.17149687e+00 -3.66993046e+00\n",
      "  5.38355064e+00  5.64645195e+00 -8.83613968e+00  4.79264021e+00\n",
      " -6.18845797e+00 -6.36025810e+00 -2.15441751e+00  2.00054455e+00\n",
      "  1.18395729e+01  1.33647623e+01 -7.16903448e+00  2.59826374e+01\n",
      "  8.69218445e+00  9.37967968e+00  6.23470545e+00  1.23950443e+01\n",
      " -4.08460855e+00  3.40148544e+01 -6.50782883e-01  1.76237602e+01\n",
      " -1.91071641e+00  2.57592278e+01  2.39624691e+01 -5.25078917e+00\n",
      " -5.39200926e+00  1.06382847e+01  1.45940256e+01  1.71988983e+01\n",
      " -7.57254553e+00 -5.24050856e+00 -4.07423735e+00  1.53006041e+00\n",
      "  7.58584499e-01  1.82044964e+01  3.60932312e+01 -2.98538804e-01\n",
      "  1.18798232e+00  9.10160160e+00  5.62398732e-01  1.96642284e+01\n",
      "  1.43580713e+01  2.05274868e+01  1.87898216e+01  1.55464735e+01\n",
      "  7.53645134e+00  1.25680506e+00  7.98060083e+00  2.37469501e+01\n",
      "  2.91369319e+00  4.36216259e+00  2.65104446e+01  7.18695354e+00\n",
      " -8.39572239e+00  2.54489193e+01  1.45559206e+01  2.07099380e+01\n",
      " -9.21727002e-01  2.88579535e+00  2.39812164e+01  1.00928802e+01\n",
      "  1.75469303e+01  1.87231362e+00 -9.79441738e+00  4.97009158e-02\n",
      " -4.49615568e-01  3.03592606e+01  1.10746489e+01  1.57937860e+01\n",
      " -7.20759678e+00  1.29948072e+01  3.67883148e+01  1.16577444e+01\n",
      "  5.98060226e+00  1.48374596e+01 -3.61708689e+00  3.48495598e+01\n",
      "  5.31265736e-01 -1.39948416e+00  4.05774269e+01  8.84778976e+00\n",
      "  6.06802702e+00 -8.63155937e+00  4.68478298e+00  3.61349907e+01\n",
      "  4.51458693e+00  2.96786189e+00  3.77700418e-01  1.79742737e+01\n",
      "  1.42542963e+01  2.78096371e+01  1.24190388e+01 -3.34383559e+00\n",
      " -3.25540972e+00  1.23015900e+01  2.06557350e+01 -1.69882095e+00\n",
      "  5.87106180e+00  9.67032242e+00  3.45503807e+00  2.88473454e+01\n",
      "  1.47727757e+01  4.50066471e+00  1.30357008e+01  4.60275841e+00\n",
      "  1.37666807e+01  4.69478559e+00  6.59827948e+00 -4.28284645e+00\n",
      " -3.95876050e+00  8.80610847e+00  1.31831160e+01  3.75176358e+00\n",
      "  1.51482220e+01  3.08293390e+00 -3.55802327e-01  2.14624286e+00\n",
      " -1.56337416e+00 -3.79024363e+00  1.57652879e+00 -9.66332054e+00\n",
      " -8.29461288e+00 -4.92386389e+00 -1.81184845e+01 -9.66254997e+00\n",
      " -1.30544853e+00  2.68539119e+00 -6.84296036e+00 -6.84210014e+00\n",
      " -8.29050255e+00 -3.85658193e+00 -2.46541953e+00 -6.61320305e+00\n",
      " -2.08977833e+01 -4.36410666e+00 -2.67372990e+00 -8.21008110e+00\n",
      " -9.51444721e+00 -7.86700773e+00  1.23113322e+00 -5.13019991e+00\n",
      " -3.57390785e+00 -1.85356617e+00  7.66025972e+00 -7.75003433e+00\n",
      " -8.22774351e-01  3.19356823e+00 -2.83769107e+00 -1.41553020e+01\n",
      " -1.24630537e+01 -1.85775530e+00  9.48651731e-01  1.75601721e+00\n",
      " -1.83889580e+00 -4.42307043e+00  3.50862622e+00 -6.19296694e+00\n",
      " -8.24356174e+00  3.97741675e+00 -7.80811739e+00 -2.59018779e+00\n",
      " -1.15078430e+01  2.23336482e+00 -6.87475872e+00 -2.42886996e+00\n",
      " -7.48161268e+00 -6.01761866e+00  4.56501675e+00  3.62194657e+00\n",
      " -7.60483932e+00 -4.72198820e+00 -4.43345690e+00 -5.28496075e+00\n",
      " -2.29968739e+01 -1.42108507e+01  9.43289340e-01 -7.35943937e+00\n",
      " -3.49872971e+00 -6.29896593e+00 -9.35272884e+00 -6.63358641e+00\n",
      " -2.57038546e+00  1.69236720e+00 -4.59101588e-01 -1.81435452e+01\n",
      " -2.45291672e+01 -7.37540722e+00  1.99702179e+00  1.02445173e+00\n",
      "  7.19132662e+00 -1.99987659e+01 -4.75142956e+00  1.67829967e+00\n",
      " -9.12401962e+00 -1.38462658e+01  5.22306728e+00 -1.97339306e+01\n",
      " -1.08461574e-01 -8.56943309e-01 -1.38131742e+01  2.18947482e+00\n",
      " -1.83788109e+01 -8.98178577e-01  8.74792767e+00 -8.83636189e+00\n",
      "  3.33940864e+00 -9.56591129e+00 -1.03056393e+01 -5.61024523e+00\n",
      " -5.94244194e+00 -5.46815348e+00  1.70782959e+00 -5.27768946e+00\n",
      " -3.39375663e+00 -2.41407242e+01  3.06448984e+00  1.62529221e+01\n",
      "  1.50225616e+00 -9.96143436e+00 -9.21612453e+00 -5.01918745e+00\n",
      "  7.88668633e-01  2.00295854e+00 -8.18481636e+00 -3.20959997e+00\n",
      " -4.04060936e+00 -6.57154441e-01  3.41702491e-01 -1.36951280e+00\n",
      "  2.58305621e+00 -3.15344906e+00 -7.41200924e+00  1.08163166e+00\n",
      "  5.17170858e+00 -4.38295889e+00 -5.84946454e-01 -6.67470026e+00\n",
      " -2.84615684e+00 -8.39202499e+00  3.73039699e+00  2.07814331e+01\n",
      " -2.21605568e+01 -5.81981564e+00 -4.59993601e+00 -2.72187042e+00\n",
      " -1.99767990e+01 -4.12339687e+00  1.92718983e+00 -1.75205135e+01\n",
      "  6.18474913e+00 -9.89450097e-01 -1.97258174e+00 -9.13609505e+00\n",
      "  5.31671047e+00 -5.48567533e+00 -5.10982323e+00  2.51976252e+00\n",
      "  9.10479248e-01 -3.64462543e+00 -7.58395529e+00  6.82606339e-01\n",
      "  6.41077232e+00 -1.14707642e+01 -1.38438749e+00 -1.62416592e+01\n",
      " -3.04206514e+00 -1.61215472e+00 -6.08377361e+00  8.77568340e+00\n",
      "  6.01864433e+00 -3.73536038e+00 -3.29477096e+00  7.33053064e+00\n",
      " -4.58391160e-02  1.74518263e+00  4.35494804e+00 -1.58550894e+00\n",
      " -2.10764961e+01 -1.27470932e+01 -3.26521206e+00  1.25758171e-01\n",
      "  1.20745382e+01 -1.40345895e+00 -7.11768150e-01 -7.47721529e+00\n",
      " -2.74909973e+00 -6.77881813e+00 -3.86156988e+00 -2.74554801e+00\n",
      " -7.32028294e+00  1.45966744e+00 -1.19728451e+01 -2.06042767e+01\n",
      " -7.43103027e+00 -4.28129482e+00 -1.24009314e+01 -1.96093979e+01\n",
      " -3.82569742e+00 -4.07061481e+00  3.58505225e+00  8.89163113e+00\n",
      " -2.59661388e+01 -2.82925129e+00 -2.52379704e+00 -1.46295176e+01\n",
      " -1.57555771e+00 -2.32497177e+01 -2.14005203e+01  1.32114768e+00\n",
      " -6.48501921e+00 -5.78985500e+00 -4.97681570e+00 -4.58192825e-01\n",
      " -7.70781088e+00 -3.20043683e+00 -5.29986334e+00 -5.84428453e+00\n",
      "  1.59970880e+00  1.16217117e+01  2.28570919e+01 -5.27407837e+00\n",
      "  3.95564723e+00  4.96731234e+00 -4.91082668e+00 -5.24318600e+00\n",
      " -4.16251373e+00 -3.02237778e+01 -6.02272940e+00 -2.46386986e+01\n",
      " -2.87180309e+01 -5.18154860e+00 -3.42244759e+01  1.26030245e+01\n",
      " -1.11245565e+01 -1.35184774e+01  9.66587639e+00 -5.78813982e+00\n",
      " -8.71863365e+00 -2.99405785e+01 -2.58899670e+01 -2.43423595e+01\n",
      " -3.90489244e+00 -3.53596954e+01 -2.59675350e+01 -8.44524288e+00\n",
      " -1.88530302e+00 -2.21676102e+01 -2.80474930e+01 -1.60927048e+01\n",
      " -2.04222107e+01 -1.27347651e+01 -2.10633221e+01 -3.40903206e+01\n",
      " -6.04356587e-01 -2.06142187e+00 -6.78808928e+00 -4.37567425e+00\n",
      " -4.34053001e+01  5.62645531e+00 -1.70196667e+01 -9.78832722e+00\n",
      " -1.17826319e+01  3.51051182e-01  2.89454055e+00 -2.36935616e+00\n",
      " -1.33493910e+01 -1.15382338e+01  1.18403387e+01  2.27019367e+01\n",
      " -2.99341702e+00  2.83427894e-01 -1.85568390e+01 -1.23168259e+01\n",
      " -2.83671970e+01 -2.85358887e+01  4.57091618e+00 -1.73978958e+01\n",
      "  8.13263226e+00  9.76320648e+00 -3.00090485e+01 -1.45736227e+01\n",
      " -3.03774338e+01 -3.31684227e+01 -1.15269918e+01 -3.99226475e+00\n",
      " -3.55147018e+01 -4.28125429e+00 -3.44090157e+01  1.29352913e+01\n",
      " -1.08726091e+01 -2.40114079e+01 -2.66242485e+01 -6.87932444e+00\n",
      " -5.82886696e-01 -6.52564001e+00 -1.22971859e+01 -3.46999228e-01\n",
      " -3.00630836e+01 -1.30772076e+01 -2.38498764e+01  3.47738576e+00\n",
      " -7.43999624e+00  3.08908057e+00 -3.02724409e+00 -3.02880707e+01\n",
      "  1.26287013e-01 -2.68600440e+00 -7.78830910e+00 -1.52724819e+01\n",
      "  1.34666955e+00 -5.95786047e+00 -8.63734150e+00 -3.20893931e+00\n",
      " -4.48018551e+00 -2.29782295e+01 -2.81882153e+01 -2.81677608e+01\n",
      " -1.52714014e+01 -4.68154573e+00 -2.80557365e+01 -2.20500851e+01\n",
      " -5.98252964e+00  1.26996241e+01 -7.12906218e+00 -1.04796562e+01\n",
      " -1.37426510e+01 -5.34875774e+00 -1.31385744e-01  7.91336060e+00\n",
      " -3.79016762e+01  3.14250588e+00 -2.40732136e+01  3.65690136e+00\n",
      " -1.08860703e+01  4.05515432e-02 -1.13990049e+01 -2.19397449e+00\n",
      " -2.35857034e+00  1.87748432e+01 -9.26300144e+00 -1.87861500e+01\n",
      " -3.16680264e+00 -3.66622305e+00]' has dtype incompatible with int64, please explicitly cast to a compatible dtype first.\n",
      "  preds[val_index] = model.predict(dval_i)\n"
     ]
    },
    {
     "name": "stderr",
     "output_type": "stream",
     "text": [
      "\r",
      " 50%|███████████████████████████████████████████████████████████████████████████████████████████████████████████████                                                                                                               | 5/10 [02:42<02:39, 31.96s/it]"
     ]
    },
    {
     "name": "stderr",
     "output_type": "stream",
     "text": [
      "C:\\Users\\81809\\AppData\\Local\\Temp\\ipykernel_12368\\3386215446.py:18: FutureWarning: Setting an item of incompatible dtype is deprecated and will raise an error in a future version of pandas. Value '[ 3.00532365e+00  6.45529211e-01  1.48420382e+01  4.25932264e+00\n",
      " -5.61098576e+00 -8.32272291e-01  1.90155258e+01  6.49556923e+00\n",
      "  9.92799187e+00  6.86072111e+00  2.52295232e+00  5.53724623e+00\n",
      "  6.75182867e+00  2.38028622e+01  3.06262040e+00  2.13047104e+01\n",
      "  2.23542995e+01 -9.65739250e+00  2.05199814e+00  1.12726247e+00\n",
      "  3.07077795e-01 -4.08111477e+00  2.54208813e+01  2.88128853e+01\n",
      "  1.15273991e+01  3.54999328e+00 -3.73733068e+00  8.13348389e+00\n",
      "  4.24610090e+00 -9.58775640e-01 -2.63239145e+00  5.83583593e+00\n",
      "  2.92180014e+00  4.96449614e+00  1.66720390e+01  2.33148098e+00\n",
      "  2.12314561e-01  1.96838894e+01 -2.82617474e+00  5.01250935e+00\n",
      "  2.17733264e+00 -4.10313225e+00 -1.25892353e+00  7.74023581e+00\n",
      " -5.48742199e+00 -8.63018131e+00  1.71325321e+01  5.49015188e+00\n",
      "  2.26951675e+01  6.87696743e+00  2.30864763e+00  5.76566696e+00\n",
      " -1.13338327e+00 -2.91456556e+00  1.89594758e+00  1.20410681e+01\n",
      "  1.36636515e+01  6.01274157e+00  1.83017373e+00  3.69928455e+00\n",
      "  2.60946369e+00  5.11273384e+00  5.47840786e+00  6.34846687e+00\n",
      " -6.54881775e-01 -1.39502692e+00  1.67457714e+01  7.23790836e+00\n",
      "  1.11522903e+01  2.75014133e+01  3.87758517e+00  2.65690384e+01\n",
      " -9.11316490e+00  1.17135868e+01  1.12238235e+01  3.21910352e-01\n",
      "  4.16846132e+00  2.60272293e+01  7.91598797e+00  2.17571888e+01\n",
      " -1.57813370e+00  1.00703974e+01  8.53315830e+00 -1.56289172e+00\n",
      "  2.59468818e+00  1.11791468e+01  2.34652495e+00  1.09751358e+01\n",
      " -1.79605055e+00 -2.63784856e-01  2.54785671e+01 -3.85861158e+00\n",
      " -2.55134702e+00 -3.89328289e+00  2.62042675e+01 -7.73510754e-01\n",
      "  1.70633297e+01  1.79493517e-01  1.21902790e+01  1.60275650e+00\n",
      " -3.27217460e+00  3.44368434e+00  1.07649231e+00  1.64323616e+01\n",
      "  1.38669176e+01  2.05612240e+01 -5.16636944e+00  7.62521935e+00\n",
      " -4.07895136e+00  8.96494484e+00  1.15334320e+01  4.55418873e+00\n",
      " -1.49670515e+01 -4.16764259e+00 -2.19899869e+00  1.09707260e+01\n",
      " -5.27750969e-01  2.91359100e+01  1.41676874e+01  4.59462500e+00\n",
      "  9.66433811e+00  7.89350128e+00  1.55504799e+01  6.93156958e-01\n",
      "  1.21028385e+01  3.57591343e+00 -1.61601007e+00  8.00584412e+00\n",
      " -1.46653628e+00  3.03993964e+00  3.40613103e+00  3.69656372e+00\n",
      "  1.62373453e-01  7.94076538e+00 -1.28305445e+01 -7.82900631e-01\n",
      " -2.64742351e+00 -5.13749933e+00  6.66275597e+00  2.60107088e+00\n",
      " -1.88995111e+00  1.66765709e+01  1.21401005e+01 -5.90696096e+00\n",
      "  1.78821430e+01  1.68329391e+01  2.33200474e+01  3.32558894e+00\n",
      "  5.13848686e+00  3.96561790e+00 -1.63599610e+00  5.76551914e+00\n",
      "  2.36977649e+00  1.29540691e+01 -1.37744963e+00  1.44402194e+00\n",
      "  1.75276652e-01 -3.39167881e+00  4.20583487e+00  2.18720512e+01\n",
      "  6.18155861e+00  5.50991821e+00  7.75670588e-01  8.69878483e+00\n",
      "  1.21392643e+00  5.23695230e-01  5.37254953e+00  6.22841644e+00\n",
      "  1.04672928e+01 -5.59993315e+00  2.16422367e+01  4.05455685e+00\n",
      "  1.33480167e+01  6.78941822e+00  6.72629118e+00 -1.34292567e+00\n",
      "  1.45187843e+00  1.04298925e+01  4.42357492e+00  2.43562717e+01\n",
      "  6.16282463e+00  9.81339550e+00  9.78237057e+00  2.86010146e+00\n",
      "  2.57156906e+01  6.38640594e+00  6.06954861e+00  6.33428097e+00\n",
      "  3.86414433e+00  1.04719696e+01  1.04321814e+01  9.38132763e+00\n",
      "  7.62382603e+00 -2.95302105e+00  1.66137428e+01 -1.41397834e+00\n",
      "  3.05391479e+00 -1.37904227e+00  4.10160017e+00  1.18388128e+01\n",
      "  3.25491943e+01 -2.38814783e+00  4.20245934e+01 -1.82922304e+00\n",
      "  1.45796347e+01  5.54044098e-02  5.42866039e+00 -6.40371656e+00\n",
      "  9.16620731e+00  3.64943123e+00  1.33533354e+01  5.86037493e+00\n",
      " -7.71840715e+00 -3.08708954e+00  2.26706638e+01  2.38531055e+01\n",
      "  9.33700752e+00  7.10606217e-01  3.44931602e+01  3.54678154e+01\n",
      "  5.76928329e+00  1.94950867e+01  8.42113495e+00  1.36224337e+01\n",
      "  1.74826756e+01 -6.22327614e+00  1.36317596e+01  7.67759514e+00\n",
      " -4.75817394e+00 -2.86688590e+00  1.50845921e+00 -7.03214407e+00\n",
      "  1.01901627e+01  3.89253330e+00  1.78008366e+01  3.44582977e+01\n",
      "  2.78737259e+00  3.19805527e+01  1.65774274e+00  5.27460933e-01\n",
      " -6.73360050e-01  5.63647413e+00  4.86837721e+00  1.43921661e+00\n",
      " -5.68409348e+00  1.84981191e+00  1.39262505e+01  2.52341413e+00\n",
      "  9.18465042e+00  1.45430231e+01  3.29606743e+01  5.81959152e+00\n",
      " -6.03211784e+00  1.57149248e+01  2.12273178e+01  1.09939156e+01\n",
      "  7.36852264e+00  7.35245275e+00  3.63286161e+00  2.45931315e+00\n",
      "  4.41363487e+01 -4.28054190e+00  2.46651382e+01 -3.37880039e+00\n",
      " -4.39468431e+00  1.53645926e+01  3.25557137e+01  6.34936666e+00\n",
      "  1.30550346e+01  9.41951180e+00 -2.31673861e+00  7.39419985e+00\n",
      "  1.58805733e+01  3.25135612e+01  1.07008803e+00  2.83750343e+00\n",
      "  6.42079163e+00 -1.28447759e+00  7.71005917e+00  4.97764826e+00\n",
      "  4.60528450e+01 -3.56435442e+00 -3.65520239e+00 -1.23455107e+00\n",
      "  2.97832127e+01 -5.94626617e+00  2.59330177e+01  2.17224865e+01\n",
      "  4.27833986e+00 -1.26697578e+01  1.08704805e+01  2.06236591e+01\n",
      "  7.79947567e+00  1.05079377e+00  7.35054016e+00  3.60645447e+01\n",
      " -3.65207314e+00  1.16147041e+01  5.57439661e+00  1.52903471e+01\n",
      "  4.20607376e+00  6.89619827e+00  4.67035484e+00 -1.10475264e+01\n",
      " -8.25816345e+00  2.16949725e+00 -9.17757607e+00 -1.49226725e+00\n",
      "  6.88043499e+00  8.75550842e+00  3.02089558e+01  1.28873568e+01\n",
      "  2.10099297e+01  5.10022688e+00  2.46630564e-01  1.97472153e+01\n",
      "  3.69666719e+00  7.84522581e+00  2.19895134e+01  1.44499035e+01\n",
      "  2.06669159e+01 -6.28680646e-01 -5.86583328e+00 -1.56315970e+00\n",
      " -2.03181973e+01 -8.20705414e+00 -1.19033670e+01 -4.21322554e-01\n",
      " -6.25933790e+00  2.10433650e+00 -6.57599545e+00 -6.60479832e+00\n",
      "  7.04880524e+00  3.04318357e+00  3.92631340e+00 -2.65248370e+00\n",
      "  2.82987642e+00 -6.89801502e+00 -3.28325987e+00 -7.23972321e-01\n",
      " -1.99527702e+01 -3.47077203e+00 -3.21469355e+00 -3.38207698e+00\n",
      " -1.83434129e+00 -2.93984890e+00 -3.22433019e+00  1.23904252e+00\n",
      " -9.64391899e+00 -1.87778778e+01 -2.80417404e+01 -2.91591024e+00\n",
      " -9.26702404e+00 -4.49350214e+00 -9.51932335e+00 -2.24224940e-01\n",
      " -1.99342668e-01 -4.35111380e+00 -9.97548580e+00 -1.42244148e+00\n",
      " -8.75936413e+00 -8.52161121e+00  8.91630590e-01 -6.21606922e+00\n",
      " -5.66978645e+00 -1.43440857e+01 -2.14459553e+01 -6.01474047e+00\n",
      " -3.45852923e+00 -1.88154674e+00 -5.98128605e+00  4.30709648e+00\n",
      "  3.23294115e+00 -7.27559233e+00  4.60011214e-01 -2.05830073e+00\n",
      " -1.31318922e+01 -5.10107183e+00 -1.39926285e-01 -1.41908665e+01\n",
      " -6.50022459e+00  4.07263470e+00 -6.62611389e+00 -8.48564816e+00\n",
      " -5.03896618e+00  3.88198256e+00  8.00675213e-01 -6.75686455e+00\n",
      " -9.14048862e+00  7.93946123e+00 -1.62568340e+01 -1.22596512e+01\n",
      " -9.35142517e-01 -4.70954227e+00 -1.80775750e+00 -1.27319822e+01\n",
      " -1.83039436e+01  2.32019877e+00  7.10750198e+00 -6.34671926e+00\n",
      "  3.63114333e+00 -1.80212669e+01 -1.07318802e+01 -6.45174170e+00\n",
      " -2.72284627e+00 -6.15539265e+00 -1.80604875e+00 -1.18928747e+01\n",
      " -8.16170692e+00 -3.36369419e+00 -1.41586027e+01 -1.02598162e+01\n",
      " -3.10739017e+00 -1.08130808e+01 -6.63429618e-01 -1.10683763e+00\n",
      " -2.91314340e+00 -1.18446836e+01 -1.83457203e+01  3.22314811e+00\n",
      " -2.32223186e+01 -1.13373947e+01 -5.60373259e+00 -1.94962561e+00\n",
      " -5.36177444e+00 -2.14003301e+00 -1.33358278e+01  4.78671741e+00\n",
      "  5.77141905e+00 -2.75800824e-01 -1.28927672e+00 -6.56330967e+00\n",
      " -3.98208594e+00 -6.73143816e+00  8.81743145e+00 -2.15088501e+01\n",
      " -3.34618568e+00 -6.32265377e+00 -2.26460147e+00 -2.01409131e-01\n",
      " -7.76159811e+00 -1.20852232e+01  3.18610215e+00 -3.99610257e+00\n",
      " -3.72457480e+00 -3.67827129e+00  1.56729059e+01 -2.78845048e+00\n",
      "  2.66437268e+00  1.41881495e+01 -1.56904440e+01  3.17968512e+00\n",
      " -1.49061747e+01  2.92617607e+00 -8.54114342e+00 -5.02032280e+00\n",
      "  7.64903545e-01 -9.32833552e-01 -2.83970976e+00 -4.31147194e+00\n",
      " -1.98909531e+01 -1.03639889e+01 -9.27489185e+00 -2.15522442e+01\n",
      "  6.85867786e+00 -6.70154214e-01  5.24060106e+00  4.17948961e+00\n",
      " -2.20568638e+01 -3.44554996e+00 -6.27608109e+00  1.07914753e+01\n",
      " -2.81523377e-01 -1.67392197e+01  9.60294902e-01 -4.42862225e+00\n",
      " -1.67315388e+01 -4.59012687e-02 -8.34116817e-01 -4.19934607e+00\n",
      " -8.76168847e-01 -1.01666708e+01  2.76893139e+00  5.40098190e-01\n",
      "  1.73390970e-01  5.69969034e+00 -1.30748558e+01  4.66821003e+00\n",
      " -3.73278213e+00 -2.79848075e+00 -7.67358732e+00  3.55116367e+00\n",
      " -2.71013203e+01 -3.31628776e+00 -9.47896576e+00  4.34197187e+00\n",
      " -2.09131455e+00  6.14251995e+00  7.56087065e-01  3.79705024e+00\n",
      " -3.78661323e+00 -4.83414888e+00  4.38732004e+00 -9.28110409e+00\n",
      " -5.32037067e+00  7.97396564e+00  2.28040457e+00  4.89922523e+00\n",
      "  5.21817803e-01 -1.71253319e+01 -3.53697610e+00 -8.14628601e+00\n",
      " -2.27993131e+00 -7.34576821e-01 -3.98739052e+00 -3.14990020e+00\n",
      " -2.16725779e+00  2.95319510e+00  2.40689583e+01 -2.05502262e+01\n",
      " -6.08754730e+00 -3.44085789e+00 -1.68723907e+01 -5.05422211e+00\n",
      "  9.32970524e+00 -3.38171387e+00  1.18338072e+00 -3.60757470e+00\n",
      " -9.85416222e+00 -1.08219213e+01 -7.06500149e+00 -3.66753125e+00\n",
      " -1.03464537e+01 -1.09086199e+01 -6.82898331e+00  4.65402126e+00\n",
      " -1.33593092e+01 -4.87512493e+00 -1.70860291e+01 -9.83709145e+00\n",
      " -2.47634926e+01  3.61700916e+00 -9.86536789e+00 -3.10034680e+00\n",
      "  1.73709288e-01 -1.00511580e+01 -2.91959534e+01 -3.36312981e+01\n",
      "  1.25808582e+01 -6.75807667e+00 -7.64580593e-02 -1.40405715e+00\n",
      " -4.30867386e+00 -2.40545368e+01 -2.21310177e+01 -5.88084078e+00\n",
      " -9.03428745e+00  3.93384981e+00 -2.05769577e+01 -1.57617254e+01\n",
      " -6.70696402e+00 -4.76225328e+00 -2.33021355e+01 -1.19182863e+01\n",
      "  7.17723370e+00  5.92819166e+00  8.09236586e-01 -4.90670443e+00\n",
      " -2.72265224e+01 -1.07051792e+01 -1.72091961e+01  2.08066959e+01\n",
      " -1.73405552e+01  5.69535828e+00 -1.46006041e+01 -1.26530418e+01\n",
      " -3.59520111e+01 -6.92436552e+00 -2.47508144e+00 -2.57515955e+00\n",
      " -2.96252906e-01 -6.89736938e+00 -7.23789024e+00 -1.61838493e+01\n",
      " -1.60094795e+01 -3.16084881e+01  2.48718333e+00 -1.60115814e+01\n",
      " -3.39965897e+01 -6.99290466e+00 -2.75364475e+01 -1.70462608e+01\n",
      "  7.76630688e+00 -1.36266794e+01 -2.03240070e+01 -1.36176071e+01\n",
      " -4.41484976e+00 -1.50563221e+01 -1.04040651e+01 -3.25110321e+01\n",
      "  2.10363364e+00 -6.81314182e+00 -2.89405870e+00 -4.78934616e-01\n",
      " -3.02954178e+01 -2.71750450e+01 -2.56751080e+01 -4.68255806e+00\n",
      " -4.81136703e+01  3.36960459e+00 -3.75052414e+01 -2.08223248e+00\n",
      "  4.31753635e+00 -9.49363327e+00  8.99015713e+00  7.95014954e+00\n",
      " -7.75331211e+00 -3.21906662e+01  1.84851789e+00 -3.83602524e+01\n",
      "  3.59390688e+00 -3.02530766e+00 -1.08711319e+01 -1.68001385e+01\n",
      " -2.25742264e+01 -3.26776505e+01  1.34712162e+01 -2.02421904e+00\n",
      " -2.67850876e+00 -2.81579800e+01 -4.21466827e+00 -1.99267025e+01\n",
      " -2.93247852e+01 -1.60703349e+00  1.81355083e+00 -6.25750256e+00\n",
      " -5.96977997e+00 -6.97833014e+00  1.95361567e+00 -8.93352795e+00\n",
      " -3.86619186e+01 -7.11211014e+00 -1.22990408e+01 -5.43483067e+00\n",
      " -1.19197979e+01 -1.96986561e+01]' has dtype incompatible with int64, please explicitly cast to a compatible dtype first.\n",
      "  preds[val_index] = model.predict(dval_i)\n"
     ]
    },
    {
     "name": "stderr",
     "output_type": "stream",
     "text": [
      "\r",
      " 60%|█████████████████████████████████████████████████████████████████████████████████████████████████████████████████████████████████████▏                                                                                        | 6/10 [03:15<02:09, 32.30s/it]"
     ]
    },
    {
     "name": "stderr",
     "output_type": "stream",
     "text": [
      "C:\\Users\\81809\\AppData\\Local\\Temp\\ipykernel_12368\\3386215446.py:18: FutureWarning: Setting an item of incompatible dtype is deprecated and will raise an error in a future version of pandas. Value '[ 5.52258158e+00  1.24769812e+01 -5.75983810e+00  1.10403442e+01\n",
      "  4.35670662e+00  2.36466770e+01  6.65550709e+00  2.42150950e+00\n",
      "  4.59023809e+00  5.61201382e+00  1.86340892e+00  1.03703952e+00\n",
      " -6.24276578e-01  8.28500271e+00 -6.91934600e-02  2.11233120e+01\n",
      "  2.11744537e+01 -8.80421448e+00  5.68023014e+00 -3.28321695e-01\n",
      "  4.46472883e+00  1.19864798e+00 -4.73011065e+00  5.80646086e+00\n",
      "  8.13546371e+00  1.58688612e+01 -3.26241672e-01  2.85407562e+01\n",
      "  8.98772335e+00 -3.19256306e+00  4.47391987e+00  9.53699970e+00\n",
      "  1.41711750e+01  1.03791399e+01  6.57387066e+00  2.02953458e+00\n",
      "  1.66780109e+01  1.16137338e+00  2.47672105e+00  1.93691242e+00\n",
      " -7.31760502e-01  1.92997146e+00  8.46147728e+00  1.69875765e+00\n",
      "  7.56421328e+00  1.66520309e+01  1.49760027e+01  2.77788091e+00\n",
      " -3.33907461e+00 -9.62553024e-01  6.04430771e+00 -9.67031181e-01\n",
      "  1.30689106e+01 -2.56771541e+00  2.88965195e-01  1.09918804e+01\n",
      "  2.32208576e+01  2.41427517e+01  5.04007876e-01  6.01060772e+00\n",
      "  8.87281895e+00 -4.43985987e+00  8.79186153e+00  1.53900516e+00\n",
      "  7.11357296e-01 -2.84944296e+00  1.80379162e+01  4.98215961e+00\n",
      "  1.44222689e+01  1.75820732e+01 -6.33444738e+00  3.98769081e-01\n",
      "  6.52833223e+00  1.73356953e+01 -4.64541578e+00  1.88451653e+01\n",
      "  1.08047562e+01  1.30152731e+01  3.04985404e+00  2.71628588e-01\n",
      "  7.68540192e+00  2.47925305e+00  1.58122368e+01  1.14027691e+01\n",
      " -4.29899454e+00  1.32209313e+00 -3.92931283e-01 -3.81414485e+00\n",
      "  3.94712090e+00  1.55117989e+01 -9.74676609e-01 -3.48332858e+00\n",
      "  2.49617081e+01  4.24930859e+00  1.27529516e+01 -9.00343800e+00\n",
      "  1.24531183e+01  3.34692383e+00  1.33873196e+01 -8.82423496e+00\n",
      "  4.71390152e+00  9.69462776e+00 -3.46671414e+00  2.52034634e-01\n",
      "  1.20113077e+01  1.82602453e+00 -5.11551857e+00  6.09915257e-01\n",
      " -3.36403060e+00  1.11370087e+00 -2.14330450e-01  6.63347864e+00\n",
      "  8.60598946e+00  2.48744507e+01 -2.88028026e+00 -8.16367245e+00\n",
      " -3.88695931e+00  4.59580469e+00 -1.72706187e+00  2.63172340e+00\n",
      "  8.30159569e+00  1.27767563e+01 -1.58634317e+00  3.90818143e+00\n",
      "  4.88964653e+00  2.81706905e+00  6.63901234e+00  1.63287220e+01\n",
      " -9.10048723e-01 -2.40177345e+00  6.17203093e+00  8.62273812e-01\n",
      "  3.93930823e-01  1.48157036e+00  3.69473863e+00  1.20343008e+01\n",
      "  2.96333241e+00  7.76025152e+00  9.41449821e-01 -9.11047268e+00\n",
      "  2.14269371e+01 -3.68821830e-01  2.13787150e+00  7.53156137e+00\n",
      "  1.58305206e+01 -4.32550287e+00  3.53691459e-01  1.22727289e+01\n",
      "  1.17172613e+01 -1.83196282e+00  8.05808604e-01  4.00733185e+00\n",
      "  8.97460461e-01 -7.44095755e+00  9.63827229e+00  1.31704769e+01\n",
      "  5.11316586e+00  9.63246703e-01 -3.07328749e+00 -2.78656507e+00\n",
      "  5.49681807e+00  5.89876461e+00  2.33789654e+01  5.91420650e-01\n",
      "  4.94240284e+00 -2.64901090e-02 -2.18266100e-01  1.94373951e+01\n",
      "  4.50763845e+00  1.62022814e-01  5.50022030e+00  4.23452425e+00\n",
      "  8.16781330e+00  7.92683983e+00  5.88731408e-01  2.56173301e+00\n",
      "  3.33110142e+00  2.46338902e+01  6.79251814e+00 -5.73821068e+00\n",
      "  8.05546379e+00  4.58547175e-01  6.31650019e+00  9.41712761e+00\n",
      "  2.29774036e+01  1.80310459e+01  3.83366251e+00  2.33450851e+01\n",
      "  1.62887821e+01  2.53086567e+00  5.24652863e+00 -1.59249735e+00\n",
      "  1.00919485e+01  1.58765469e+01  1.30494297e+00  3.50827065e+01\n",
      "  1.40389786e+01 -6.95823288e+00  6.94328642e+00 -4.31558847e+00\n",
      "  1.27994480e+01  9.34857559e+00  3.64364929e+01  6.64581871e+00\n",
      " -1.43411636e-01  2.32256851e+01  6.28787184e+00  7.94819832e+00\n",
      "  2.50259936e-01 -3.33648872e+00  1.07468472e+01  6.54597521e+00\n",
      " -9.47492981e+00  1.62126482e+00  2.48902111e+01  4.34336901e+00\n",
      "  4.73648369e-01  1.37421644e+00  8.68624496e+00  1.38573360e+00\n",
      " -8.73956966e+00  1.14105225e+01  2.49795952e+01  4.24147892e+00\n",
      " -3.97104211e-02  2.13771095e+01  1.33860798e+01  1.03155842e+01\n",
      "  5.74636412e+00 -6.63933563e+00  4.37030792e+01  1.64004540e+00\n",
      "  1.01089964e+01  2.35973816e+01  1.52061710e+01  2.97381859e+01\n",
      " -4.62616295e-01  8.08690834e+00  6.87881327e+00  3.53472404e+01\n",
      "  3.47304039e+01  5.73836565e+00  3.91626287e+00  1.71432076e+01\n",
      "  1.03703201e+00  1.72717261e+00  2.90314274e+01 -4.09616613e+00\n",
      "  4.58553493e-01  7.78283215e+00  1.96715012e+01  1.21642408e+01\n",
      "  1.76253662e+01  1.43852291e+01  1.09357967e+01 -5.45000458e+00\n",
      "  1.24188414e+01  1.75542426e+00  3.28732777e+00  1.51720333e+01\n",
      "  1.08025331e+01 -4.41826677e+00  4.04030075e+01  3.51276894e+01\n",
      " -1.11866999e+01  7.32590389e+00  2.01359773e+00  1.40427704e+01\n",
      "  1.43499355e+01  3.14446278e+01  1.59074516e+01  4.50000153e+01\n",
      "  9.53779519e-01  2.87155209e+01  2.11119881e+01  6.19314146e+00\n",
      "  2.49015999e+01  4.40672302e+00 -8.44415379e+00  4.91497469e+00\n",
      " -8.11212635e+00  1.70237160e+01  6.74038839e+00  3.70440364e+00\n",
      "  2.77420254e+01  3.62639122e+01  9.40185308e-01  6.08778524e+00\n",
      "  1.82937298e+01  2.21330414e+01  1.83119717e+01  6.44111204e+00\n",
      "  6.55801582e+00  1.75819004e+00 -5.87663221e+00 -8.80243421e-01\n",
      "  2.51985931e+01  4.72651672e+00  2.90876770e+01  2.84202337e+00\n",
      " -1.21257615e+00  2.20779266e+01 -3.28559089e+00  2.20562592e+01\n",
      "  2.81015606e+01  4.71896744e+00  9.94582844e+00  1.22686930e+01\n",
      " -5.32025719e+00 -1.44025850e+01 -9.46215248e+00 -1.00085726e+01\n",
      " -4.53914690e+00 -1.12944136e+01 -6.93926525e+00  6.69291854e-01\n",
      " -6.10290670e+00 -7.42865896e+00 -8.12828827e+00  3.71159506e+00\n",
      "  3.88397384e+00 -1.30495186e+01 -2.09018459e+01 -2.02719669e+01\n",
      " -7.21223736e+00  7.66893673e+00 -3.89431691e+00 -1.12589228e+00\n",
      " -5.19073534e+00  4.90709257e+00  2.28387547e+00  1.69918787e+00\n",
      " -8.19710445e+00 -2.29522190e+01 -1.89791145e+01 -1.13032207e+01\n",
      " -4.85206795e+00 -7.46415377e+00 -2.21217012e+00  6.71636200e+00\n",
      "  7.27090931e+00 -5.52569702e-03  4.06378412e+00 -6.92247343e+00\n",
      " -7.13272762e+00 -8.35288525e+00 -9.87270927e+00  3.86322379e+00\n",
      "  5.15684128e+00  7.01878214e+00 -2.21421509e+01  1.02535343e+01\n",
      " -1.65938902e+00 -1.56817951e+01 -2.36790218e+01 -9.29764092e-01\n",
      " -5.21792555e+00 -6.75611544e+00  8.00199926e-01 -1.41646862e+00\n",
      " -3.11265516e+00 -2.69696045e+00  1.53013778e+00 -4.41681385e+00\n",
      " -3.08407962e-01 -2.64699211e+01  1.14956641e+00 -1.38891983e+01\n",
      " -2.36379547e+01 -1.62989445e+01 -1.07497656e+00  3.50662351e+00\n",
      " -1.32768736e+01 -5.00945759e+00 -3.22150612e+00 -3.57070112e+00\n",
      " -5.63443136e+00 -5.30480385e+00  2.76135039e+00 -6.39536762e+00\n",
      " -9.25026894e-01 -1.49432535e+01  1.11308968e+00 -6.84266329e+00\n",
      " -6.34019661e+00  3.63302851e+00 -3.71125793e+00  1.44495726e+01\n",
      " -4.25263166e+00  2.68173575e+00  4.48578686e-01 -8.29240513e+00\n",
      " -9.14298713e-01  8.53181458e+00  6.31698275e+00  1.55899096e+00\n",
      "  8.24866867e+00 -3.81746125e+00 -2.98346782e+00  2.87257147e+00\n",
      " -1.69378316e+00 -2.38967538e+00  3.23753095e+00 -2.35874786e+01\n",
      " -1.80840282e+01 -3.19986558e+00 -5.08654690e+00 -2.24943542e+00\n",
      " -7.45783138e+00  4.53086662e+00  4.85509300e+00  6.34794950e-01\n",
      "  3.10197949e+00  2.43455458e+00 -1.02710142e+01  1.22338903e+00\n",
      " -2.09875755e+01 -4.92921638e+00 -1.31196804e+01 -7.25015688e+00\n",
      " -2.71082306e+00  4.58204794e+00 -2.90052376e+01 -9.34675598e+00\n",
      "  1.31424141e+01 -1.60830135e+01  6.26273346e+00 -1.50440483e+01\n",
      "  5.70692825e+00 -2.70069528e+00  1.42018402e+00 -4.44845438e+00\n",
      " -6.45559645e+00 -2.25931025e+00 -5.06312847e+00 -1.31745691e+01\n",
      " -1.21737967e+01  4.98811156e-01 -1.30790644e+01  2.30289459e+00\n",
      " -3.11043358e+00 -2.05938511e+01 -5.04900217e+00 -9.82136250e+00\n",
      " -6.83563757e+00 -1.04156237e+01 -2.08120308e+01  2.02890933e-01\n",
      " -3.53175068e+00 -1.39384735e+00 -4.65765619e+00 -4.75820827e+00\n",
      " -1.64729917e+00 -2.75425029e+00  5.82738280e-01  1.70010357e+01\n",
      "  6.74013197e-01 -3.37802672e+00 -1.90242805e+01 -8.69371796e+00\n",
      " -1.98465788e+00 -3.61716604e+00 -9.82385635e+00 -5.98656416e+00\n",
      " -8.24637508e+00 -3.26070166e+00 -2.18687134e+01  6.10323620e+00\n",
      "  5.37585592e+00 -3.22599840e+00  6.08910990e+00 -1.82158422e+00\n",
      " -5.07300234e+00 -2.89628100e+00 -3.36899853e+00 -4.65420151e+00\n",
      "  1.11943901e+00 -1.79407105e-01  6.59455347e+00 -1.79451501e+00\n",
      "  1.60992301e+00  3.24653721e+00 -1.40865421e+00  1.93191576e+00\n",
      " -2.88599968e+00 -2.24467812e+01 -1.57966499e+01 -2.01103210e+00\n",
      " -2.36215458e+01 -6.89861417e-01 -1.31200943e+01 -4.81010437e+00\n",
      "  4.74300385e+00 -3.13480043e+00 -6.37157393e+00 -1.30813904e+01\n",
      " -8.71501446e+00 -1.17898524e+00 -1.63242798e+01 -2.30718303e+00\n",
      " -4.69824409e+00 -4.91561365e+00 -4.69090271e+00  8.51967239e+00\n",
      "  4.56634188e+00 -3.80200481e+00 -3.93959689e+00 -6.79901242e-01\n",
      " -2.86384544e+01 -4.03448105e+01  1.51043594e+00 -3.05657387e+00\n",
      " -5.68704367e+00  3.97446418e+00 -2.15988874e+00 -5.10832691e+00\n",
      " -3.23992577e+01 -3.76216817e+00 -1.26439400e+01  3.50942636e+00\n",
      "  1.01178064e+01 -9.45198154e+00 -1.47635651e+01 -7.07298565e+00\n",
      " -2.99220181e+00 -2.75105247e+01 -3.35629044e+01 -2.63197346e+01\n",
      " -3.63528061e+01 -1.30655880e+01 -1.63506069e+01 -3.32776947e+01\n",
      " -2.82142353e+01  1.01643209e+01 -1.90751858e+01 -7.88587570e+00\n",
      " -1.58977044e+00  3.62429714e+00 -3.52901053e+00  6.24368048e+00\n",
      " -1.76650703e+00 -3.00341721e+01 -1.28326063e+01  4.19989318e-01\n",
      "  4.12790823e+00 -8.22812557e-01 -7.34420866e-02 -2.19030476e+00\n",
      " -2.91035652e+01 -2.57517242e+00 -5.61179543e+00 -4.77345562e+00\n",
      " -1.59031019e+01 -5.73889923e+00  4.02355385e+00  8.18073273e+00\n",
      " -6.24618721e+00 -2.32776222e+01 -1.46239719e+01 -1.25662422e+01\n",
      " -1.74572086e+00 -1.17123013e+01  2.41016054e+00 -3.78282285e+00\n",
      " -1.01662626e+01 -3.35042610e+01 -5.32437563e+00  1.78062177e+00\n",
      "  5.24184418e+00 -1.87583981e+01 -3.42170262e+00 -2.62913647e+01\n",
      " -2.27029896e+01 -2.86983128e+01 -6.54072666e+00 -1.01815376e+01\n",
      " -1.65099609e+00 -8.41022670e-01 -1.10554230e+00 -2.88731022e+01\n",
      " -1.06149015e+01  4.74924231e+00 -1.11991148e+01 -3.43976707e+01\n",
      " -9.61044550e-01 -1.26696396e+01 -8.74228477e-01 -2.55980835e+01\n",
      " -7.59960127e+00 -2.44136244e-01 -2.59171295e+00 -5.71831751e+00\n",
      " -9.07656002e+00 -3.34780540e+01  2.98281878e-01 -2.86385918e+01\n",
      "  1.42957580e+00 -1.16749983e+01 -2.47507706e+01 -2.78118763e+01\n",
      " -1.89863262e+01 -5.69819260e+00 -1.40382469e+00 -1.22056065e+01\n",
      " -1.63885651e+01 -2.64047985e+01  1.59318733e+00 -4.34952087e+01\n",
      " -2.95970612e+01 -1.20582409e+01 -3.23321533e+01 -2.36928320e+00\n",
      " -2.20074062e+01  9.49891090e+00 -1.37722206e+01 -8.89491653e+00\n",
      "  7.12110424e+00 -1.62848930e+01 -1.17637694e+00 -6.89236164e+00\n",
      " -9.14311230e-01  2.61702347e+00 -2.76866460e+00 -2.98401604e+01\n",
      " -5.27422905e+00 -9.96837997e+00 -1.29233465e+01 -2.51333475e+00\n",
      "  2.37746983e+01 -3.15779209e+00 -3.30813255e+01 -3.11624947e+01\n",
      " -4.16178274e+00  2.03465247e+00 -3.77597008e+01  3.45749927e+00\n",
      " -3.64149857e+01 -2.15293636e+01 -1.96063175e+01 -1.26190948e+01\n",
      " -1.41530600e+01 -1.81232090e+01 -1.03426876e+01 -1.73554001e+01\n",
      " -3.32085991e+00  1.77516901e+00]' has dtype incompatible with int64, please explicitly cast to a compatible dtype first.\n",
      "  preds[val_index] = model.predict(dval_i)\n"
     ]
    },
    {
     "name": "stderr",
     "output_type": "stream",
     "text": [
      "\r",
      " 70%|███████████████████████████████████████████████████████████████████████████████████████████████████████████████████████████████████████████████████████████▍                                                                  | 7/10 [03:45<01:34, 31.50s/it]"
     ]
    },
    {
     "name": "stderr",
     "output_type": "stream",
     "text": [
      "C:\\Users\\81809\\AppData\\Local\\Temp\\ipykernel_12368\\3386215446.py:18: FutureWarning: Setting an item of incompatible dtype is deprecated and will raise an error in a future version of pandas. Value '[ 8.89671147e-01 -4.15390873e+00  3.56799293e+00  1.80742025e+00\n",
      "  1.76174984e+01  2.90527135e-01  6.21357322e-01  9.76396084e+00\n",
      " -4.39781618e+00  4.22613907e+00 -3.10218644e+00  6.76878691e+00\n",
      "  3.63620520e+00  1.45066059e+00  6.27730417e+00  7.69263363e+00\n",
      " -7.98318243e+00 -5.44394541e+00  4.38595057e+00  9.44560623e+00\n",
      "  1.23960450e-01 -6.50848031e-01  2.86143494e+00  2.92198906e+01\n",
      "  1.09284868e+01  1.97473335e+00 -6.85528660e+00  1.78596172e+01\n",
      " -1.37120277e-01  4.90465069e+00  1.83089924e+00 -3.36392999e+00\n",
      "  7.06116390e+00 -1.51869094e+00  8.69008636e+00  1.07316494e+01\n",
      "  8.35525036e+00 -8.83871365e+00  6.35787916e+00  2.06220746e+00\n",
      " -2.81382394e+00  5.12176228e+00  1.67104435e+01  1.10893164e+01\n",
      "  2.24564133e+01  1.34173989e-01  2.08610699e-01  1.33594761e+01\n",
      "  6.86762238e+00  1.43579912e+00  8.79079533e+00  4.70114899e+00\n",
      " -4.25075388e+00 -4.92713869e-01  5.87448406e+00 -2.21117115e+00\n",
      "  1.60221255e+00  7.22044659e+00  4.45463943e+00  3.55526972e+00\n",
      "  1.16794558e+01  1.06769199e+01 -4.16010380e+00 -3.65157628e+00\n",
      "  3.40268803e+00  4.13582802e+00 -2.57339454e+00  1.50895298e+00\n",
      "  1.89059944e+01  8.42876339e+00  6.66781855e+00  1.79247952e+01\n",
      "  7.45427990e+00 -1.48282206e+00 -3.03539872e+00 -5.28024054e+00\n",
      "  9.03291130e+00  7.63714170e+00  1.11391563e+01  7.87279904e-01\n",
      "  3.71202803e+00  7.34927320e+00  6.60994911e+00  1.15143623e+01\n",
      "  3.51998544e+00  2.75226712e-01  5.05521870e+00  3.28522730e+00\n",
      "  2.20728779e+01  1.45526619e+01  8.61985050e-03  8.31757164e+00\n",
      " -1.00628891e+01  3.33452535e+00  5.56206465e+00  1.04929817e+00\n",
      "  1.35971010e+00  9.52033901e+00 -2.52799988e+00  2.15611134e+01\n",
      "  6.82463408e-01 -1.63068223e+00 -1.46220756e+00  2.81074905e+00\n",
      "  8.14544797e-01  7.88147306e+00 -6.74188137e+00  1.25961990e+01\n",
      " -2.62449360e+00 -1.69263989e-01 -6.33921099e+00 -2.10948634e+00\n",
      "  6.37003946e+00 -3.58831906e+00 -1.58300912e+00  7.40276289e+00\n",
      " -5.46375227e+00  8.18184257e-01 -2.58637166e+00 -2.97266960e+00\n",
      "  7.05019903e+00  1.30313625e+01 -3.70430207e+00 -2.24540919e-01\n",
      "  3.57294273e+00 -4.75848913e+00  3.57991695e+00  7.38688850e+00\n",
      " -1.64392963e-01  1.58774099e+01  1.52993355e+01  4.09653664e+00\n",
      " -4.27981567e+00 -6.60541058e+00 -1.81517231e+00  2.53561306e+00\n",
      "  5.35365009e+00 -6.45492554e+00  4.02295732e+00  1.23695488e+01\n",
      " -1.68827176e+00 -3.36164975e+00 -5.02124690e-02 -4.11218047e-01\n",
      "  5.20952559e+00 -6.20823240e+00  8.88116455e+00  1.54958382e+01\n",
      "  1.37241430e+01  1.00033121e+01  1.20615482e+00  1.20018206e+01\n",
      "  1.13004684e+00  4.32782620e-01  1.03595009e+01  2.17953777e+01\n",
      " -1.22282410e+00 -8.79992962e+00  3.69880629e+00  5.40847063e+00\n",
      "  3.10008335e+00 -1.02723503e+00  7.66169846e-01  1.06561098e+01\n",
      " -3.85969257e+00  1.43029976e+00 -1.70655422e+01  1.72768860e+01\n",
      " -3.83015513e+00  2.19956436e+01  2.52171493e+00  6.75835669e-01\n",
      "  8.04158497e+00  6.04722834e+00  1.28175001e+01  3.15841603e+00\n",
      "  5.29326344e+00  2.73432374e+00  2.51159525e+00  4.60026294e-01\n",
      "  3.36072779e+00 -9.07873631e-01  5.47823238e+00 -4.29524040e+00\n",
      "  2.13074360e+01  2.15072861e+01 -4.25202966e-01  3.47133684e+00\n",
      " -6.02452421e+00  5.47318888e+00  4.65345335e+00 -4.81614161e+00\n",
      "  4.39841843e+00  6.57347775e+00  1.07655544e+01  3.39009786e+00\n",
      "  2.11150684e+01 -2.75075507e+00  1.04431915e+01  2.53100300e+01\n",
      " -4.32016087e+00 -3.67848754e-01 -4.56182289e+00 -2.72344685e+00\n",
      " -3.26562285e+00  2.97591782e+00  5.28972578e+00 -2.86097193e+00\n",
      "  1.61464176e+01 -3.62585044e+00 -2.24841523e+00  1.27582514e+00\n",
      "  1.95911865e+01  2.88044953e+00  3.95088959e+00  1.05806723e+01\n",
      "  2.47514129e+00 -2.65290332e+00  4.73550606e+00  2.06768017e+01\n",
      "  2.99004669e+01 -1.85763645e+00  2.68767948e+01  4.85368967e+00\n",
      "  3.65249133e+00  1.91495132e+01  6.15612078e+00  1.20646584e+00\n",
      "  2.19893169e+01 -9.71198177e+00 -1.09182043e+01 -5.06123972e+00\n",
      "  7.09003115e+00 -3.41997695e+00  3.47733574e+01  1.64128914e+01\n",
      "  1.94078045e+01  4.48747873e+00  1.98156490e+01  7.33630514e+00\n",
      "  6.50638533e+00 -4.18917513e+00  3.16876202e+01  1.32912436e+01\n",
      "  2.92045975e+01  3.44074756e-01  8.59896839e-01  2.88459492e+01\n",
      "  1.23417635e+01  2.46996765e+01  1.86224060e+01  1.43109627e+01\n",
      "  1.98458023e+01  6.00332117e+00  1.35498562e+01  1.57580817e+00\n",
      "  1.56661377e+01 -8.86253166e+00  8.06493282e+00 -2.20995402e+00\n",
      "  2.33097887e+00  1.02662802e+01 -4.36342096e+00  2.44818954e+01\n",
      "  2.77588711e+01  7.76618958e+00  1.48922777e+01  6.97710276e+00\n",
      " -7.27046430e-01  1.43258753e+01  2.40779495e+00  1.66508675e+01\n",
      "  4.85365361e-01  1.70411491e+01  1.36870213e+01 -2.85027362e-02\n",
      " -9.22486687e+00  5.49118853e+00  1.93816929e+01 -1.12904787e+01\n",
      "  8.95901203e+00  2.42452121e+00  2.81453972e+01  7.15937853e-01\n",
      " -9.21737766e+00  7.08985853e+00 -8.74024200e+00  4.39952278e+00\n",
      "  2.51066089e+00  1.08790088e+00  3.10659542e+01  1.79613667e+01\n",
      "  2.68527985e+01  4.53466988e+00  4.65169411e+01  1.25397263e+01\n",
      "  3.69274406e+01  1.47088671e+01  4.68832076e-01  4.76261377e+00\n",
      "  2.17739735e+01  8.94843960e+00  1.26489048e+01 -9.21958447e+00\n",
      " -1.00155439e+01  7.69055605e+00  2.36894155e+00  3.10741615e+01\n",
      "  8.63878906e-01 -5.22441149e-01 -3.18451643e+00  1.84690785e+00\n",
      " -1.69495261e+00  1.54796562e+01  6.94421911e+00  8.21407604e+00\n",
      "  3.22232704e+01 -9.73587990e+00  8.73387527e+00  1.37764702e+01\n",
      "  7.91283703e+00  2.04539127e+01 -8.41622543e+00  2.97860489e+01\n",
      " -1.42754812e+01  3.97563057e+01 -6.84087610e+00  3.13921165e+01\n",
      "  6.56141186e+00  1.96420135e+01  1.95479889e+01  1.25216448e+00\n",
      " -1.22875099e+01  2.62688694e+01  9.61578369e+00  1.16860781e+01\n",
      "  7.64467812e+00  1.84025650e+01  3.25364089e+00 -1.00815840e+01\n",
      "  4.84717458e-01  3.04301906e+00 -1.14166451e+01 -6.39085865e+00\n",
      " -2.71837616e+00 -8.43279648e+00 -7.21705294e+00 -6.32909060e+00\n",
      " -7.35200214e+00 -5.91214991e+00 -7.53638887e+00 -2.08078728e+01\n",
      "  9.68632984e+00 -7.52158165e+00 -2.85190988e+00 -6.30550909e+00\n",
      "  1.46489078e-02 -3.56064153e+00 -5.34386683e+00 -2.79313952e-01\n",
      "  1.10478066e-02 -5.61266994e+00 -9.17945194e+00 -2.35648632e+01\n",
      " -3.61873865e+00  1.68799591e+00 -4.95306969e+00 -2.71428833e+01\n",
      " -5.42303896e+00 -5.86364269e+00  3.75201750e+00 -2.51016641e+00\n",
      " -1.00748367e+01 -1.25733173e+00 -1.06434669e+01 -7.86435032e+00\n",
      "  5.24451065e+00  1.26120913e+00  1.14073623e-02 -4.78685665e+00\n",
      " -6.90962601e+00 -9.21346283e+00 -9.41735172e+00 -1.43921871e+01\n",
      " -4.88645697e+00  1.41998756e+00 -1.46127224e+00 -1.82698321e+00\n",
      " -5.22172546e+00 -8.62104416e+00 -1.12415457e+01  2.92260432e+00\n",
      " -1.05411854e+01 -4.75401020e+00 -6.06594515e+00 -3.86827707e+00\n",
      "  3.03675741e-01 -7.42743444e+00 -6.23744774e+00 -2.33207893e+01\n",
      " -7.53646612e+00 -7.87105417e+00  1.44821680e+00 -1.30377178e+01\n",
      " -2.50384464e+01  3.90260011e-01 -2.40931726e+00  1.03134747e+01\n",
      " -1.71719608e+01 -1.16528645e+01 -1.60119629e+00 -1.82164440e+01\n",
      " -4.75597143e+00 -5.91169357e-01  4.39840746e+00 -1.08269205e+01\n",
      " -7.38404608e+00  1.10179358e+01 -1.57940731e+01 -1.69552345e+01\n",
      " -4.72011709e+00  4.69612026e+00 -6.54059410e+00  1.84746504e+00\n",
      " -9.08922482e+00 -6.10182142e+00 -1.42352705e+01  5.71231747e+00\n",
      "  9.23846722e+00 -2.27667427e+00  1.56558442e+00 -1.56408465e+00\n",
      " -1.68915546e+00 -1.23872108e+01  1.25450830e+01 -2.14381256e+01\n",
      " -5.13998175e+00 -2.37010050e+00 -2.27752457e+01 -1.80668354e+01\n",
      " -1.02095594e+01 -2.01086426e+00 -7.36453295e-01  9.87473488e-01\n",
      "  1.42808037e+01  6.28343678e+00 -1.58118832e+00 -6.83382654e+00\n",
      " -2.81738782e+00  1.85769334e-01  9.31648731e+00  1.69393559e+01\n",
      "  5.49032402e+00 -9.53934097e+00 -5.41351461e+00 -4.01455164e+00\n",
      "  2.00840831e+00  2.37973070e+00 -2.14120426e+01  6.60967684e+00\n",
      " -5.99330366e-01 -1.56189263e+00 -2.35597342e-01 -1.41210260e+01\n",
      " -7.35354066e-01  5.45505047e+00 -1.76969872e+01 -1.47645760e+01\n",
      " -2.21907692e+01 -1.04197006e+01 -1.08495264e+01  1.00732431e+01\n",
      " -2.24755898e+01 -1.19321799e+00 -1.42607474e+00  6.75190687e+00\n",
      " -4.82616520e+00  4.50231552e+00  7.75117397e-01  3.60155046e-01\n",
      " -2.59737277e+00 -7.18429995e+00 -2.16937160e+00 -1.84214172e+01\n",
      " -5.89495707e+00 -4.34518909e+00 -4.92265654e+00 -1.26928163e+00\n",
      "  6.02038670e+00 -5.19419909e+00 -6.32379577e-02 -6.67121220e+00\n",
      " -2.07019734e+00 -7.76158273e-01 -1.38634026e+00 -3.33719659e+00\n",
      "  3.22057366e+00 -2.34808578e+01  1.71715508e+01  3.25736594e+00\n",
      "  1.12803335e+01 -4.25699139e+00  4.71601915e+00 -4.88586140e+00\n",
      " -2.71544600e+00 -1.12237701e+01  2.93938017e+00 -2.23880267e+00\n",
      " -2.64801140e+01 -5.79120302e+00 -1.12997222e+00 -3.68523806e-01\n",
      " -2.89145017e+00 -5.95424652e+00 -1.65418816e+01 -4.33569717e+00\n",
      " -6.73801947e+00 -8.90273571e+00 -8.31675434e+00 -2.26502180e+00\n",
      " -3.79854059e+00  6.73552513e+00 -6.51825380e+00  9.67654896e+00\n",
      " -4.34770298e+00 -6.28732252e+00 -2.97610340e+01 -1.91395988e+01\n",
      " -9.02298069e+00 -5.98194313e+00 -4.04901505e+00 -2.80777817e+01\n",
      " -9.84002304e+00 -2.75422134e+01 -1.37168865e+01 -3.21750474e+00\n",
      " -3.28801727e+00 -1.02348566e+01 -3.31815567e+01 -2.16093564e+00\n",
      " -1.31855888e+01 -8.56574631e+00  1.41909206e+00 -9.50480461e+00\n",
      " -6.63496161e+00 -6.36524820e+00 -1.27927694e+01 -1.42032871e+01\n",
      " -3.28445358e+01 -2.74728603e+01 -3.61979828e+01  1.10879563e-01\n",
      "  1.89673114e+00 -1.92753448e+01 -2.56269779e+01 -2.82436275e+01\n",
      "  5.05862713e+00  9.10253525e+00  1.01987220e-01 -7.66251898e+00\n",
      " -3.81403732e+01 -7.59291947e-01 -2.92351608e+01 -3.23255539e+01\n",
      " -1.41672783e+01 -2.99542580e+01 -7.23918676e-01 -1.44545803e+01\n",
      " -8.58409119e+00 -4.16446495e+01  5.78309917e+00 -6.40725970e-01\n",
      " -2.18007431e+01 -1.84299450e+01 -6.96956336e-01 -7.30985069e+00\n",
      " -1.99428272e+01 -3.37450409e+01 -3.14580383e+01 -4.28525639e+00\n",
      "  2.78969026e+00  9.60472870e+00 -2.55124149e+01 -9.33211231e+00\n",
      " -1.32986937e+01 -3.35833073e+00 -2.01364307e+01 -1.27385187e+01\n",
      " -4.20765381e+01  5.62772751e+00 -8.45831275e-01 -1.85348317e-01\n",
      " -1.97260227e+01  7.00941896e+00 -4.09507990e+00 -6.25894594e+00\n",
      " -7.11152601e+00  5.61642504e+00 -3.45234070e+01 -6.38017511e+00\n",
      "  9.15058899e+00 -7.61411715e+00  8.55712605e+00 -1.47952280e+01\n",
      "  2.99163342e+00 -5.74292517e+00 -1.09199114e+01 -1.52193022e+01\n",
      " -1.12222652e+01 -2.60227413e+01 -1.26128616e+01  2.58528686e+00\n",
      "  1.27705550e+00  2.67362452e+00  6.74808025e+00 -2.00291576e+01\n",
      " -6.81965971e+00 -1.04423599e+01  5.95685911e+00  7.68241739e+00\n",
      " -2.65488567e+01 -9.26572204e-01 -2.39193211e+01 -2.91887913e+01\n",
      "  2.77899241e+00 -1.31639791e+00  7.44750166e+00 -6.97052717e+00\n",
      " -1.18629951e+01 -1.58178425e+01 -2.30112438e+01  1.05106421e+01\n",
      " -2.34921432e+00 -1.00963373e+01 -3.33854008e+00 -2.52427025e+01\n",
      " -3.53757286e+01 -3.55630188e+01 -1.74176846e+01  5.47746086e+00\n",
      " -1.48651543e+01 -1.50275640e+01  1.41643305e+01 -2.42609425e+01\n",
      " -1.79532318e+01 -2.89013362e+00]' has dtype incompatible with int64, please explicitly cast to a compatible dtype first.\n",
      "  preds[val_index] = model.predict(dval_i)\n"
     ]
    },
    {
     "name": "stderr",
     "output_type": "stream",
     "text": [
      "\r",
      " 80%|█████████████████████████████████████████████████████████████████████████████████████████████████████████████████████████████████████████████████████████████████████████████████▌                                            | 8/10 [04:11<00:59, 29.90s/it]"
     ]
    },
    {
     "name": "stderr",
     "output_type": "stream",
     "text": [
      "C:\\Users\\81809\\AppData\\Local\\Temp\\ipykernel_12368\\3386215446.py:18: FutureWarning: Setting an item of incompatible dtype is deprecated and will raise an error in a future version of pandas. Value '[ 7.90817451e+00 -6.67426729e+00  1.03482313e+01  8.76726818e+00\n",
      "  7.00206995e+00  6.76752949e+00  5.96508980e+00  2.31588292e+00\n",
      " -4.54794258e-01  3.11272359e+00 -3.29232955e+00  2.73793674e+00\n",
      " -7.07033515e-01  2.05151863e+01  1.91847336e+00  1.34488277e+01\n",
      "  4.11855412e+00  3.39767909e+00  7.19250774e+00  2.72339797e+00\n",
      "  6.01578474e+00  3.87671113e+00  9.67336273e+00 -1.99398208e+00\n",
      "  6.78330755e+00  3.79238844e+00  1.07169075e+01  5.77413893e+00\n",
      "  1.80592155e+00  2.58111382e+01  4.99300718e+00 -8.57076550e+00\n",
      "  3.93820763e+00  1.52807350e+01  9.88143826e+00 -6.25161648e+00\n",
      "  5.18972874e+00  2.00046730e+00 -6.86493635e-01 -7.43524313e+00\n",
      " -3.31590629e+00  1.06846933e+01  2.76618814e+00  7.83928347e+00\n",
      "  2.04344482e+01  7.68514585e+00  5.70083237e+00  1.04186237e+00\n",
      " -3.13938189e+00  2.48535252e+00  4.58598804e+00  3.71676326e+00\n",
      "  7.40309656e-01  1.62986240e+01  3.40931988e+00  1.09423561e+01\n",
      "  2.27772770e+01  8.83939457e+00 -3.74585414e+00  6.50528908e+00\n",
      "  3.44436669e+00  2.96173644e+00  3.28999543e+00  7.72896290e-01\n",
      "  7.20212698e+00  1.00192518e+01  3.55812311e+00  3.72993350e+00\n",
      "  1.35999603e+01  2.50832176e+01 -4.41030979e+00  7.24918222e+00\n",
      "  1.14942288e+00  1.02986479e+01  2.49567914e+00  8.94681931e-01\n",
      "  2.21527176e+01  7.94862270e+00  1.21858644e+01  2.81002235e+00\n",
      "  1.57284908e+01 -1.91187012e+00  1.00378733e+01  8.46710014e+00\n",
      "  3.15195370e+00  6.48312151e-01 -2.67981619e-01  7.16548634e+00\n",
      "  1.53145313e+00  7.53060627e+00  1.80684566e+01 -5.09236813e+00\n",
      "  2.91400015e-01  3.49519563e+00 -7.60775518e+00 -2.79025555e+00\n",
      " -2.55381370e+00 -7.75889063e+00  1.29338607e-01  3.93115617e-02\n",
      "  1.81437469e+00 -7.21555829e-01 -1.07256746e+01  2.83369350e+00\n",
      " -2.20366693e+00  7.73825407e-01  2.27012997e+01 -4.85894775e+00\n",
      "  1.28234167e+01  1.36280985e+01  7.41044807e+00 -2.07487178e+00\n",
      "  9.58408451e+00 -9.01453590e+00 -1.64991438e+00 -3.39662266e+00\n",
      "  2.19697976e+00 -8.60455704e+00  2.89153695e+00 -1.52362907e+00\n",
      "  8.24874306e+00  8.98378658e+00 -3.49492168e+00  1.21893663e+01\n",
      "  6.88819695e+00  7.58623934e+00  2.04022579e+01 -8.02077389e+00\n",
      "  1.50009212e+01  9.12142181e+00 -2.70884800e+00  6.19637251e+00\n",
      "  5.64390612e+00  1.56919408e+00  3.56061578e-01 -7.72064805e-01\n",
      "  1.31891012e+01  1.21819401e+01 -6.57130432e+00  1.07575455e+01\n",
      "  1.97622764e+00  8.99453163e+00  2.06625328e+01  3.27945590e+00\n",
      "  1.64174008e+00  9.58300769e-01 -9.49457467e-01  5.59423566e-01\n",
      "  3.98077393e+00  6.14718342e+00  2.68432140e+00  1.17596607e+01\n",
      " -1.06349230e+00 -3.68892479e+00  3.62300825e+00 -1.14396534e+01\n",
      "  2.97561207e+01  1.48124475e+01 -1.82919610e+00  1.78326931e+01\n",
      "  1.18878956e+01  2.76041365e+00  1.06444769e+01  4.56030071e-01\n",
      "  5.94505131e-01  1.25016063e-01 -3.30604315e+00  3.68982315e+00\n",
      " -2.23896623e+00  1.03471541e+00 -3.45838338e-01 -5.31723499e-01\n",
      "  6.80761933e-01 -1.35713792e+00  4.50314760e+00  1.93652172e+01\n",
      "  6.29276896e+00  1.41105986e+01 -6.23337698e+00  1.94616032e+01\n",
      " -1.60883856e+00  2.95438337e+00  4.77735138e+00  4.53765661e-01\n",
      "  8.06927395e+00 -7.42673635e+00  1.85609760e+01  3.75465989e+00\n",
      "  6.11498213e+00 -1.23674345e+00  9.54246902e+00  1.50107946e+01\n",
      "  2.05502338e+01 -4.00859022e+00  6.77283406e-01  2.00077638e-01\n",
      "  5.25674629e+00  6.12721205e+00  3.95262599e+00 -5.43898392e+00\n",
      "  7.75221634e+00  7.89407587e+00  9.55735302e+00  2.31451397e+01\n",
      "  6.01739502e+00  3.82816529e+00  2.16201091e+00  5.49664593e+00\n",
      "  5.68405724e+00 -2.05163169e+00  1.12002115e+01  6.01754856e+00\n",
      "  2.01313820e+01  7.56137228e+00  4.61374283e+00 -1.32527626e+00\n",
      "  3.64992599e+01 -9.84559917e+00  5.61368322e+00 -1.07053871e+01\n",
      " -6.06373787e+00  1.21057367e+01 -1.94663033e-01  4.31421185e+00\n",
      "  8.25884438e+00 -4.64027673e-01  2.66942635e+01  6.04503727e+00\n",
      "  9.37235260e+00  2.48922062e+01  4.89552736e+00  1.99958649e+01\n",
      " -8.34367943e+00  2.90376816e+01  3.17426376e+01  1.13760662e+00\n",
      " -1.43874044e+01  1.39686525e+00  1.05347478e+00  6.85319233e+00\n",
      "  7.42226744e+00  1.80934162e+01  7.16914225e+00  1.48075275e+01\n",
      "  2.99684181e+01  1.00269012e+01  3.49403381e+01 -1.33820617e+00\n",
      "  9.68828297e+00  1.01143253e+00  1.70685863e+01  1.26594315e+01\n",
      "  2.68143997e+01 -5.52929688e+00  2.46992512e+01  1.30174503e+01\n",
      "  1.03669844e+01  3.32253609e+01  1.04413109e+01  2.78141117e+01\n",
      "  3.22177815e+00  6.04597044e+00  2.57645626e+01  2.02239323e+00\n",
      "  4.85527277e+00  7.66296482e+00  9.25324726e+00 -5.65756989e+00\n",
      "  1.50437984e+01  4.22415657e+01  7.57978392e+00 -1.14544525e+01\n",
      "  9.08526325e+00 -2.36950755e+00 -9.17127132e+00  3.40451026e+00\n",
      " -4.23024035e+00  1.28231869e+01  4.79385710e+00  6.17952251e+00\n",
      " -2.74869013e+00  3.67055435e+01  1.49777899e+01  3.15133133e+01\n",
      "  2.18009396e+01  1.63362896e+00  8.15240192e+00  1.68836784e+01\n",
      "  5.37112045e+00 -8.97605419e+00  1.94527512e+01  6.60915756e+00\n",
      "  3.09219050e+00  2.24912701e+01  9.53486156e+00  3.22112122e+01\n",
      "  8.35023499e+00  3.02802067e+01  3.75861740e+00 -9.54875088e+00\n",
      "  4.59853458e+00  4.78866625e+00  6.51241112e+00  6.18257856e+00\n",
      " -1.20768719e+01  1.56118670e+01  2.89348145e+01 -2.37854147e+00\n",
      "  3.92265434e+01  9.52259159e+00  2.53438187e+01  3.70164299e+01\n",
      " -5.49175215e+00  3.74042397e+01  3.91994667e+00  1.31468925e+01\n",
      "  2.50946975e+00  3.60712004e+00  1.16587696e+01  2.57938747e+01\n",
      "  1.21392565e+01 -1.52353954e+00 -2.08364811e+01 -5.73138428e+00\n",
      "  4.61928320e+00 -1.39145260e+01 -2.33679848e+01 -8.48032093e+00\n",
      " -3.09274769e+00 -8.70700359e+00 -5.21124315e+00 -3.37077427e+00\n",
      " -2.04354725e+01 -2.84009004e+00 -2.53300743e+01 -4.03968048e+00\n",
      " -8.36255836e+00 -3.42993796e-01 -6.13003206e+00 -2.87339497e+00\n",
      " -7.36152506e+00 -8.95580482e+00  6.47528839e+00 -1.98494899e+00\n",
      "  6.43736315e+00  4.66864443e+00 -6.79440498e+00 -4.61756897e+00\n",
      "  1.75796390e-01 -2.42741337e+01  1.05128431e+00  3.42958868e-01\n",
      " -2.85448399e+01  1.37162304e+00  1.19759054e+01 -7.39548159e+00\n",
      "  7.63107634e+00 -8.71411800e+00 -5.07474327e+00 -5.60091639e+00\n",
      " -5.65253544e+00  3.44118810e+00  2.18180299e+00 -1.05438042e+00\n",
      " -1.04184465e+01 -2.25159645e+01 -7.36105490e+00 -1.28368826e+01\n",
      "  6.14142418e+00 -3.02740955e+00  2.59738421e+00  4.57033187e-01\n",
      " -1.67513885e+01 -6.65160894e+00 -2.25560188e+01 -1.95807135e+00\n",
      "  3.28752041e+00 -7.27812099e+00 -4.08942986e+00  3.26985383e+00\n",
      " -2.48959332e+01 -1.06152010e+01 -1.34352560e+01 -1.53248739e+00\n",
      " -5.84144592e-01  1.04681385e+00  2.59932780e+00 -1.59730065e+00\n",
      " -2.80642533e+00  9.87255991e-01 -3.07309508e+00 -4.56606436e+00\n",
      " -6.96673489e+00 -2.06805305e+01  5.55350828e+00  2.78188515e+00\n",
      " -1.10912025e+00 -3.50004053e+00 -2.98071146e+00 -7.30860281e+00\n",
      " -1.72295647e+01  3.72443378e-01  4.68485534e-01 -4.17973310e-01\n",
      "  2.50132942e+00 -8.90697670e+00 -2.37990799e+01 -1.72681789e+01\n",
      " -8.78078270e+00 -1.05335617e+01 -8.32345963e+00 -3.41680717e+00\n",
      " -5.92120886e+00 -3.83893919e+00 -5.49664259e+00 -1.88123970e+01\n",
      "  2.24041462e+00  1.32172906e+00  1.42982903e+01 -4.58690882e-01\n",
      "  4.41039944e+00  6.23366833e-01 -2.40807991e+01  9.19607207e-02\n",
      " -1.30447865e+01 -1.92791796e+00  8.96952152e+00  2.73219728e+00\n",
      " -5.54796791e+00  5.38232267e-01 -1.65725975e+01 -1.15860796e+00\n",
      " -6.00156164e+00  1.63098025e+00 -1.45285082e+01 -1.76819992e+01\n",
      " -3.96977496e+00  5.38655090e+00 -2.71740818e+00  7.46245909e+00\n",
      " -7.06916428e+00 -1.54286158e+00 -1.10735798e+01  5.94663334e+00\n",
      " -6.07128286e+00  5.17730331e+00 -2.60213528e+01 -4.39794922e+00\n",
      " -9.32363415e+00 -1.94267712e+01  4.21262789e+00 -6.86439753e+00\n",
      "  3.75516462e+00 -1.32882843e+01 -1.99062386e+01  3.21102142e-01\n",
      " -1.51162505e+00  7.68422633e-02 -9.13417912e+00 -4.67420340e+00\n",
      " -1.39377317e+01  2.50787425e+00 -2.97587132e+00 -1.74072981e+00\n",
      " -8.06659698e+00  2.24904585e+00 -9.76690173e-01 -1.07787714e+01\n",
      " -4.26768970e+00 -4.36511803e+00 -1.17857513e+01  9.67408466e+00\n",
      " -2.22530251e+01 -5.80388021e+00 -3.97657561e+00 -9.59733605e-01\n",
      "  6.06436014e+00 -3.50038147e+00 -4.64455175e+00 -4.49731684e+00\n",
      "  4.41644430e+00 -6.60767138e-01  3.69928432e+00  9.62862134e-01\n",
      "  4.13492060e+00 -2.08013606e+00  8.24784040e-01  2.48436108e-01\n",
      "  1.05752192e+01  5.86822391e-01 -1.45486670e+01  2.96029115e+00\n",
      " -3.90053177e+00 -2.26193581e+01  1.13193188e+01  3.57512474e-01\n",
      " -1.13792622e+00 -5.33622265e+00 -5.28888702e-01 -1.40479631e+01\n",
      " -2.85238075e+00  3.64301848e+00 -2.67475815e+01  5.96221590e+00\n",
      "  3.94351816e+00  1.11919689e+01  9.42599028e-02 -8.10278893e+00\n",
      " -2.19637251e+00 -1.10977268e+01 -5.17708397e+00 -4.53051090e+00\n",
      " -1.62792053e+01 -7.02212095e+00  2.07630324e+00  6.50380564e+00\n",
      " -6.32308912e+00  8.55364427e-02 -6.00656700e+00 -4.16764545e+00\n",
      " -1.66433163e+01  3.35828876e+00 -7.61778355e+00 -2.61885905e+00\n",
      " -2.22687550e+01 -1.26567221e+01 -1.91848183e+00  7.49250126e+00\n",
      "  5.93755007e+00 -5.75583935e+00 -1.95979519e+01 -2.91647124e+00\n",
      " -1.23828583e+01 -3.06209602e+01 -3.36067085e+01 -2.74913940e+01\n",
      " -5.20860863e+00 -2.04604397e+01 -2.17685852e+01  1.43464848e-01\n",
      " -8.11862755e+00 -6.13580608e+00 -2.78502941e+00  9.08878422e+00\n",
      "  9.85092282e-01 -7.16758013e+00  1.19517469e+00 -3.65495586e+00\n",
      " -1.98160553e+00 -3.68960190e+01 -3.08665752e+01 -2.58241386e+01\n",
      " -3.92179465e+00 -2.26791401e+01 -7.64108753e+00 -5.95714140e+00\n",
      " -6.76885653e+00 -3.82797742e+00  1.16638756e+00 -1.92438965e+01\n",
      " -4.41969070e+01 -3.21352792e+00 -2.19289989e+01 -1.75066853e+01\n",
      " -1.37372808e+01 -1.22388382e+01 -3.06468849e+01  1.09004760e+00\n",
      " -3.13324585e+01 -7.04141617e+00 -2.40451870e+01 -2.87257423e+01\n",
      "  1.35112429e+00 -4.89353180e+00 -2.05212574e+01  5.64721823e+00\n",
      " -1.00650835e+01  2.73069572e+00 -3.04547939e+01 -1.68683586e+01\n",
      " -1.13695669e+01 -1.71431293e+01 -8.59820557e+00 -2.84992528e+00\n",
      "  4.35005522e+00 -6.55005741e+00 -2.01836437e-01 -1.95127773e+00\n",
      " -1.47132671e+00 -2.31870480e+01 -9.23917198e+00 -2.49286398e-01\n",
      " -1.91744213e+01 -2.28823733e+00 -1.22281780e+01  3.49305463e+00\n",
      " -3.44085770e+01 -2.02717081e-01  8.71425915e+00  6.19887447e+00\n",
      " -2.99027557e+01 -3.99549343e-02  4.63564217e-01  1.39012718e+00\n",
      "  6.32126141e+00 -6.83032691e-01 -1.56442280e+01 -2.48524742e+01\n",
      " -1.55181646e+00 -1.06906118e+01  9.06984234e+00  1.16851225e-01\n",
      "  6.49033689e+00 -1.11122398e+01 -2.48225307e+01 -8.03812885e+00\n",
      " -3.63650131e+01 -3.09967422e+01  4.03170443e+00 -1.40872087e+01\n",
      " -2.42755070e+01 -5.42328930e+00 -7.17301464e+00  2.56140232e-01\n",
      "  1.11705742e+01  3.33419847e+00 -1.96741247e+00 -2.90291500e+01\n",
      " -1.40753374e+01 -7.80675888e+00 -4.02148390e+00  1.36836374e+00\n",
      "  9.10582733e+00  3.00165939e+00 -1.33541262e+00 -2.37870197e+01\n",
      "  6.58053637e+00 -1.91535015e+01 -1.06411552e+01 -3.55251789e+00\n",
      " -2.34075952e-02  1.27633934e+01 -3.00477562e+01 -9.36751842e+00\n",
      " -2.55098248e+01 -8.22129250e+00]' has dtype incompatible with int64, please explicitly cast to a compatible dtype first.\n",
      "  preds[val_index] = model.predict(dval_i)\n"
     ]
    },
    {
     "name": "stderr",
     "output_type": "stream",
     "text": [
      "\r",
      " 90%|███████████████████████████████████████████████████████████████████████████████████████████████████████████████████████████████████████████████████████████████████████████████████████████████████████▊                      | 9/10 [04:44<00:30, 30.82s/it]"
     ]
    },
    {
     "name": "stderr",
     "output_type": "stream",
     "text": [
      "C:\\Users\\81809\\AppData\\Local\\Temp\\ipykernel_12368\\3386215446.py:18: FutureWarning: Setting an item of incompatible dtype is deprecated and will raise an error in a future version of pandas. Value '[ 5.10283852e+00 -6.07667875e+00  2.16392326e+01  2.29773021e+00\n",
      "  4.41021442e+00 -6.31474686e+00  4.85180950e+00  2.51423144e+00\n",
      " -7.43460131e+00  9.31364775e-01 -3.34420466e+00  1.77880821e+01\n",
      "  2.60175266e+01 -1.68796754e+00  2.10999641e+01  1.82558227e+00\n",
      "  7.36671829e+00  1.35680699e+00  3.03035283e+00  2.51697946e+00\n",
      " -1.58193564e+00  1.38541245e+00  1.28510344e+00  4.70114088e+00\n",
      "  5.00076199e+00  8.36733055e+00 -2.20304877e-01  9.79177761e+00\n",
      "  2.33088923e+00  2.05838871e+01 -2.88650870e+00 -3.39103842e+00\n",
      "  5.03338385e+00 -4.86866236e-01  2.84368992e+00 -1.08307147e+00\n",
      " -4.01282501e+00  7.86897612e+00  1.29062057e-01  9.24795210e-01\n",
      "  1.95093613e+01 -6.26106596e+00  1.90649939e+00 -7.69069433e+00\n",
      " -1.00302470e+00 -1.11067162e+01  1.56853647e+01  1.41259584e+01\n",
      "  4.76186752e+00  1.83175635e+00 -3.55567169e+00  6.78200340e+00\n",
      " -4.16951323e+00  4.48517847e+00  1.31918335e+00 -1.40049624e+00\n",
      "  1.32773244e+00 -4.01313114e+00  1.05676022e+01  2.38940792e+01\n",
      "  1.40712986e+01  6.29105234e+00  4.34204674e+00  1.44465208e+01\n",
      " -2.59334970e+00  3.00685978e+00 -4.08666849e+00 -1.63436985e+00\n",
      "  3.36823559e+00  5.06220293e+00  1.49874747e-01  1.73664684e+01\n",
      "  8.33891010e+00  4.31426001e+00 -2.16103625e+00  3.26308942e+00\n",
      " -1.94905460e+00  5.02216816e+00  2.44887390e+01  2.12476277e+00\n",
      " -3.86296606e+00 -3.74077702e+00  2.04010367e+00  4.09238195e+00\n",
      "  3.02687407e+00  1.40909421e+00  1.23407831e+01  2.56009274e+01\n",
      "  6.86799335e+00  1.40011730e+01 -1.17785072e+01  1.50587404e+00\n",
      "  2.20062485e+01  3.92569804e+00  5.23192406e+00  1.03498688e+01\n",
      "  4.71768916e-01  5.91983080e+00  5.38866568e+00  3.48731112e+00\n",
      "  1.53329353e+01  8.62691212e+00  1.42241478e+01  1.81620836e+00\n",
      "  1.22026262e+01 -9.20703602e+00 -7.55015993e+00  9.52842522e+00\n",
      "  7.81764317e+00  2.10281515e+00  1.94624519e+00 -2.93301821e+00\n",
      "  4.41010427e+00  4.94069636e-01  1.82571487e+01  4.42405701e+00\n",
      "  1.90350685e+01  5.18392849e+00  1.56903553e+00 -1.55478897e+01\n",
      "  5.94843197e+00 -3.20336461e+00 -2.05412459e+00 -5.58215046e+00\n",
      "  2.79669404e+00  2.43697510e+01  5.62566853e+00  3.33262134e+00\n",
      " -5.87427998e+00  1.33495598e+01  3.21916032e+00 -1.31183827e+00\n",
      " -1.42046034e-01  4.05424500e+00  8.56313038e+00  2.18351483e+00\n",
      "  6.74250746e+00 -1.94607186e+00  1.44985065e+01  1.61959007e-01\n",
      "  1.96762133e+00 -5.93235493e-01  2.80315232e+00 -3.08434558e+00\n",
      " -5.74376726e+00 -1.29111290e-01 -2.43203878e-01  7.47358143e-01\n",
      "  2.18476105e+01  1.45583839e+01  3.81222105e+00  1.68464005e+00\n",
      " -9.76914024e+00  2.18159504e+01  3.87217140e+00  1.60318470e+00\n",
      " -5.62980080e+00  2.66672897e+00  3.78814125e+00  4.22280216e+00\n",
      " -8.82866859e+00  1.36429911e+01 -5.09835577e+00  6.98073196e+00\n",
      "  2.89293327e+01 -3.74632359e+00  3.73819590e+00  3.75077415e+00\n",
      "  8.19638848e-01 -5.98216391e+00  4.41547155e+00  7.47027922e+00\n",
      " -4.72939444e+00 -4.96170568e+00  4.95597219e+00  2.02799053e+01\n",
      " -4.16640949e+00 -1.31775343e+00  1.94074993e+01  2.38730240e+00\n",
      " -3.31404996e+00  1.14492493e+01  3.85444856e+00  6.38840771e+00\n",
      "  6.12578440e+00  2.84492463e-01  2.14306498e+00 -2.87893748e+00\n",
      "  8.08727551e+00 -7.41302681e+00 -3.16190541e-01  5.65934849e+00\n",
      "  9.48853433e-01  4.18810654e+00 -1.42509684e-01  1.00037231e+01\n",
      "  2.11493244e+01  2.31962419e+00  2.40160923e+01 -3.45746231e+00\n",
      "  7.66345501e-01 -1.06080484e+00  4.56262398e+00 -1.33074665e+00\n",
      "  2.71159863e+00  1.37937984e+01  5.24584579e+00  1.13810816e+01\n",
      "  2.11789761e+01  1.32953078e-01  2.87463999e+00 -1.58213913e+00\n",
      "  1.84587896e+00  1.65260239e+01  5.17148352e+00  4.76398993e+00\n",
      "  4.39429665e+00  4.24150372e+00 -5.31193972e-01  2.50189805e+00\n",
      "  3.23129249e+00  2.31450772e+00  2.02578583e+01  1.04016371e+01\n",
      "  2.12973857e+00  1.48612461e+01  5.34072685e+00  2.45343800e+01\n",
      " -1.45973727e-01  4.39435780e-01  7.19020700e+00  1.11057072e+01\n",
      " -1.22099161e+01 -8.21454078e-02  1.07159386e+01  7.40603828e+00\n",
      "  3.32854843e+01  2.77023220e+01  5.22740459e+00  1.83902817e+01\n",
      "  2.62603588e+01  1.31562223e+01  7.14731741e+00 -1.81851041e+00\n",
      " -7.61398935e+00 -1.00209894e+01 -7.36984968e+00  2.57450790e+01\n",
      " -3.36475015e+00  5.76746988e+00  3.99101715e+01  7.79562950e+00\n",
      "  3.29153466e+00  1.93421192e+01  1.23828440e+01 -7.57180214e-01\n",
      " -2.40952992e+00 -1.56127863e+01  1.38728199e+01  1.61329288e+01\n",
      "  1.34207916e+01  4.97222137e+00  9.31888580e+00  3.39361916e+01\n",
      " -8.28020000e+00  2.21899967e+01 -2.51540737e+01  7.05871820e+00\n",
      "  9.18401051e+00  3.07724876e+01  1.82196045e+01  2.82900467e+01\n",
      "  1.10000229e+01  2.53892002e+01  3.78294826e+00  7.08593702e+00\n",
      "  1.33567228e+01  3.40378189e+01  3.36994896e+01 -6.85265601e-01\n",
      "  9.30622864e+00  7.37575197e+00 -1.67090809e+00  1.57627726e+01\n",
      "  1.86316280e+01  7.98971653e+00  3.44073677e+01  7.90750408e+00\n",
      " -4.45258760e+00 -2.18974304e+00 -1.18285447e-01 -3.31833315e+00\n",
      "  9.26445770e+00  1.73622513e+01  6.31565237e+00 -9.67351818e+00\n",
      "  2.02920113e+01  6.88987303e+00  6.55920458e+00  2.33756561e+01\n",
      "  1.02198696e+01  3.02367668e+01  2.95437546e+01 -7.03942776e-01\n",
      "  3.68464813e+01 -1.83654761e+00  1.17816896e+01  1.58758163e+01\n",
      "  2.61596947e+01  3.07546272e+01 -2.36615849e+01  3.75916252e+01\n",
      "  7.41316366e+00  4.16696787e+00  2.23670216e+01  4.46518920e-02\n",
      "  1.94775276e+01  1.69089413e+01  1.21960688e+00  3.55839276e+00\n",
      "  1.49812698e+01 -1.71574230e+01  1.54296541e+01  4.68067408e+00\n",
      " -1.49597683e+01 -5.06982422e+00 -3.86507511e+00 -1.91388912e+01\n",
      "  2.58714080e+00 -2.28644962e+01 -2.63541579e-01 -7.30511475e+00\n",
      " -6.30651903e+00 -7.65505838e+00 -5.79707909e+00 -5.49739218e+00\n",
      "  4.14441861e-02 -1.32691026e+00 -2.21438923e+01 -2.35995846e+01\n",
      " -4.55300617e+00 -9.85921621e-02 -3.86500359e+00 -5.93166637e+00\n",
      " -4.12054014e+00  1.02872782e+01 -6.45909595e+00 -1.47618961e+00\n",
      "  2.04091477e+00 -8.23267841e+00 -1.37273579e+01  3.88839412e+00\n",
      " -1.21550684e+01 -1.38528214e+01 -2.93741107e-01 -6.90098238e+00\n",
      " -1.77246284e+01  6.28614902e+00  4.23793268e+00 -3.88084412e+00\n",
      " -4.20289564e+00  4.49326992e+00 -7.16255045e+00 -9.91988564e+00\n",
      " -5.97501373e+00 -6.76059008e+00 -9.37210500e-01 -1.19749184e+01\n",
      "  6.48714018e+00 -2.13751335e+01  1.24942374e+00 -5.98923254e+00\n",
      " -1.57820320e+01 -2.35384235e+01 -9.07747936e+00 -7.44314051e+00\n",
      " -4.68452978e+00  2.12923121e+00  1.88202286e+00 -2.67738094e+01\n",
      "  1.88239837e+00 -2.53960667e+01  4.83175032e-02 -2.41325760e+01\n",
      " -2.24637246e+00 -6.31862020e+00 -1.09725380e+01 -7.10818863e+00\n",
      " -6.67449808e+00 -1.54670012e+00 -3.00157833e+00 -7.35589504e+00\n",
      " -4.66024303e+00 -2.77092123e+00 -7.87618542e+00 -6.03798151e+00\n",
      " -1.18636761e+01 -1.58106537e+01  3.36325455e+00 -4.09351635e+00\n",
      " -2.09376907e+00 -4.43368626e+00 -4.72689533e+00 -1.05138099e+00\n",
      "  4.58545268e-01 -1.91341629e+01 -9.97241437e-01 -1.15262232e+01\n",
      " -8.18537903e+00 -1.01842237e+00 -3.20878506e+00 -1.08242855e+01\n",
      "  3.94323969e+00  2.76197982e+00 -6.33224344e+00 -2.61374044e+00\n",
      " -2.50752945e+01  2.98601651e+00 -2.15273342e+01  2.12870598e+00\n",
      " -2.79400597e+01 -8.56344223e+00 -1.52585077e+01 -6.95589161e+00\n",
      " -1.86159306e+01 -2.92580247e+00  2.22293568e+00 -2.30552316e+00\n",
      "  3.03009748e+00 -2.05480194e+00 -1.67618096e+00 -1.12591624e+00\n",
      " -1.52294850e+00 -1.84757459e+00  6.25210810e+00 -5.67083120e+00\n",
      " -1.02596951e+01 -7.12320137e+00  5.81821489e+00  1.74819636e+00\n",
      " -6.51771212e+00 -6.42553186e+00 -2.51700616e+00  1.92519073e+01\n",
      "  1.41139650e+00 -1.01583159e+00 -1.34824553e+01 -4.00466537e+00\n",
      "  3.81428576e+00 -3.44818020e+00 -8.30047989e+00 -5.54047871e+00\n",
      "  3.99677181e+00 -2.19869576e+01 -7.67645931e+00 -1.19786110e+01\n",
      " -5.68229675e+00 -3.59484506e+00 -2.32361431e+01 -2.05661077e-02\n",
      " -9.17040825e+00 -8.29669094e+00 -5.92689657e+00  9.85513270e-01\n",
      " -1.21549816e+01  8.53632033e-01 -6.74287987e+00 -3.82454991e+00\n",
      "  4.65426415e-01  2.51224065e+00  5.64606237e+00 -5.16244793e+00\n",
      " -6.23297596e+00 -1.66864986e+01 -1.41581368e+00 -3.17465711e+00\n",
      " -1.53547835e+00  8.26584148e+00  1.93298817e+00  5.68619013e+00\n",
      "  2.10842657e+00 -2.13848066e+00  1.08603821e+01 -2.86454022e-01\n",
      " -1.17122257e+00 -4.32477093e+00 -2.45390788e-01 -3.16637564e+00\n",
      " -2.23283863e+00 -3.83410597e+00 -2.14406252e+00 -2.68174801e-02\n",
      " -9.60626507e+00 -1.97021461e+00 -6.42050362e+00  2.34529281e+00\n",
      " -4.74069405e+00  3.12589312e+00 -2.39993114e+01 -9.06377077e-01\n",
      "  2.18730044e+00 -6.76991987e+00 -1.01626225e+01 -3.55901122e+00\n",
      " -4.28483295e+00 -7.57589757e-01 -4.31304455e+00  1.40571982e-01\n",
      " -7.49400997e+00  3.53508711e+00  3.55210900e+00 -2.04150867e+01\n",
      " -1.00244799e+01 -2.72934151e+01  1.94203749e-01 -4.97527170e+00\n",
      " -3.56779957e+00 -2.33346596e+01 -7.05747890e+00 -8.29957104e+00\n",
      " -1.95444202e+01  6.16477966e+00  6.58651829e+00  2.61368781e-01\n",
      "  1.00538921e+00  5.91369200e+00 -1.06836367e+01  3.08316350e+00\n",
      " -1.96948075e+00 -1.04203968e+01 -1.03165550e+01 -4.63659540e-02\n",
      " -2.32126560e+01 -1.99521408e+01 -1.81776257e+01 -5.80752516e+00\n",
      " -3.72512579e+00  5.44705439e+00 -1.19901571e+01 -1.94060097e+01\n",
      " -3.13621922e+01 -2.66654415e+01 -7.32323551e+00 -3.29778552e+00\n",
      "  4.23854208e+00 -8.14987755e+00 -2.29055576e+01  8.00193024e+00\n",
      " -2.81108952e+01  1.83095694e+00 -2.59910946e+01 -4.46297026e+00\n",
      " -3.82297096e+01 -1.29081898e+01  4.50525713e+00 -3.89814377e+01\n",
      "  2.18605018e+00  9.39743102e-01 -4.20509052e+00 -2.25267735e+01\n",
      " -1.77999270e+00 -2.63302135e+01  7.45936203e+00 -2.88413391e+01\n",
      " -5.35479879e+00 -2.21933794e+00 -3.34273529e+01 -2.42051544e+01\n",
      " -5.69808054e+00 -5.64864218e-01 -8.26303291e+00 -6.00313139e+00\n",
      " -2.13882713e+01  4.56383419e+00 -8.42912674e+00  2.18831062e+00\n",
      " -1.37283287e+01 -7.11077511e-01 -2.35474658e+00  2.61639667e+00\n",
      "  7.03103542e-01 -1.93665779e+00 -1.57983370e+01  1.26112175e+00\n",
      " -3.02673841e+00 -1.21526413e+01 -1.63134689e+01 -1.08630323e+01\n",
      "  6.38874912e+00 -7.86767578e+00 -2.64316483e+01  6.94285250e+00\n",
      " -5.32824421e+00 -1.13863773e+01  3.40437937e+00 -1.00790033e+01\n",
      " -1.40391073e+01 -3.64039078e+01 -8.13832092e+00 -2.42646847e+01\n",
      " -1.41495638e+01 -1.77492213e+00 -1.99508286e+00  4.16636419e+00\n",
      " -3.06695595e+01 -1.30536804e+01 -6.38782835e+00 -2.78023777e+01\n",
      " -4.84001923e+01  3.29206657e+00  9.28776503e-01 -2.01306038e+01\n",
      " -1.67724574e+00 -8.99618340e+00 -3.42041054e+01 -3.75166225e+00\n",
      "  1.82651119e+01  7.27297306e+00 -1.30544643e+01 -9.38039684e+00\n",
      " -2.86683216e+01 -2.82695923e+01  6.02679682e+00 -1.15013332e+01\n",
      "  2.27768350e+00  6.90628719e+00 -1.99922009e+01 -6.84946871e+00\n",
      "  1.75727054e-01 -8.57304478e+00 -2.61464634e+01 -3.01509895e+01\n",
      " -8.15561867e+00  5.76726913e+00  2.85621738e+00 -9.89232254e+00\n",
      "  1.87444043e+00 -9.07819557e+00 -2.19892712e+01 -1.59055824e+01\n",
      " -1.16780939e+01 -1.75437939e+00 -2.71379509e+01 -2.72290688e+01\n",
      " -2.05519390e+01 -1.91254437e+00]' has dtype incompatible with int64, please explicitly cast to a compatible dtype first.\n",
      "  preds[val_index] = model.predict(dval_i)\n"
     ]
    },
    {
     "name": "stderr",
     "output_type": "stream",
     "text": [
      "\r",
      "100%|█████████████████████████████████████████████████████████████████████████████████████████████████████████████████████████████████████████████████████████████████████████████████████████████████████████████████████████████| 10/10 [05:16<00:00, 31.15s/it]"
     ]
    },
    {
     "name": "stderr",
     "output_type": "stream",
     "text": [
      "\r",
      "100%|█████████████████████████████████████████████████████████████████████████████████████████████████████████████████████████████████████████████████████████████████████████████████████████████████████████████████████████████| 10/10 [05:16<00:00, 31.63s/it]"
     ]
    },
    {
     "name": "stdout",
     "output_type": "stream",
     "text": [
      "OOF predictions complete\n"
     ]
    },
    {
     "name": "stderr",
     "output_type": "stream",
     "text": [
      "\n"
     ]
    }
   ],
   "source": [
    "# OOF予測\n",
    "oof_preds = []\n",
    "for i in tqdm(range(repeat_cv), leave=True, dynamic_ncols=True):\n",
    "    # 初期はターゲットの値で初期化（後で上書き）\n",
    "    preds = y.copy()\n",
    "    # 各 repeater 毎に独自の KFold を用いる（random_state = i）\n",
    "    kfold = KFold(n_splits=folds_splits, shuffle=True, random_state=i)    \n",
    "    for train_index, val_index in kfold.split(X, y):\n",
    "        dtrain_i = xgb.DMatrix(X.iloc[train_index], label=y.iloc[train_index])\n",
    "        dval_i   = xgb.DMatrix(X.iloc[val_index], label=y.iloc[val_index])\n",
    "\n",
    "        model = xgb.train(\n",
    "            params=param,\n",
    "            dtrain=dtrain_i,\n",
    "            num_boost_round=iteration_counts[i],\n",
    "            verbose_eval=50\n",
    "        )\n",
    "        preds[val_index] = model.predict(dval_i)\n",
    "    # 予測値を -30 ～ 30 にクリップ\n",
    "    oof_preds.append(np.clip(preds, -30, 30))\n",
    "\n",
    "print(\"OOF predictions complete\")"
   ]
  },
  {
   "cell_type": "code",
   "execution_count": 24,
   "id": "7720fe59",
   "metadata": {
    "execution": {
     "iopub.execute_input": "2025-03-14T14:45:03.370678Z",
     "iopub.status.busy": "2025-03-14T14:45:03.369191Z",
     "iopub.status.idle": "2025-03-14T14:45:03.520874Z",
     "shell.execute_reply": "2025-03-14T14:45:03.520874Z"
    },
    "papermill": {
     "duration": 0.186562,
     "end_time": "2025-03-14T14:45:03.522884",
     "exception": false,
     "start_time": "2025-03-14T14:45:03.336322",
     "status": "completed"
    },
    "tags": []
   },
   "outputs": [
    {
     "data": {
      "text/plain": [
       "<Axes: >"
      ]
     },
     "execution_count": 24,
     "metadata": {},
     "output_type": "execute_result"
    },
    {
     "data": {
      "image/png": "[encoded data removed]",
      "text/plain": [
       "<Figure size 640x480 with 1 Axes>"
      ]
     },
     "metadata": {},
     "output_type": "display_data"
    }
   ],
   "source": [
    "oof_preds[0].hist()"
   ]
  },
  {
   "cell_type": "code",
   "execution_count": 25,
   "id": "988f5da6",
   "metadata": {
    "execution": {
     "iopub.execute_input": "2025-03-14T14:45:03.578780Z",
     "iopub.status.busy": "2025-03-14T14:45:03.578780Z",
     "iopub.status.idle": "2025-03-14T14:45:03.623556Z",
     "shell.execute_reply": "2025-03-14T14:45:03.623556Z"
    },
    "papermill": {
     "duration": 0.076867,
     "end_time": "2025-03-14T14:45:03.623556",
     "exception": false,
     "start_time": "2025-03-14T14:45:03.546689",
     "status": "completed"
    },
    "tags": []
   },
   "outputs": [],
   "source": [
    "### simple spline, seed(1, 16)~(4, 13)は強制的にfiltaring,  \n",
    "### seed値に対応して予測スコアも同じ大小関係なら1or0に変換の3モデル\n",
    "def cal_logloss(pred_vals, y, i):\n",
    "    y_binary = np.where(y > 0, 1, 0)\n",
    "    loss = log_loss(y_binary, pred_vals)\n",
    "    print(f\"logloss of cvsplit {i}: {loss:.4f}\")\n",
    "\n",
    "\n",
    "    results.append(f\"Normal Spline - logloss of cvsplit {i}: {loss:.4f}\")\n",
    "    return loss\n",
    "\n",
    "#simple spline\n",
    "def make_normal_spline(df, y, repeat_cv):\n",
    "    spline_model1 = []\n",
    "    logloss_normal = []\n",
    "    \n",
    "    for i in range(repeat_cv):\n",
    "        dat = list(zip(df[i], np.where(y>0, 1, 0)))\n",
    "        dat = sorted(dat, key=lambda x:x[0])\n",
    "        datdict = {}\n",
    "        for k in range(len(dat)):\n",
    "            datdict[dat[k][0]] = dat[k][1]\n",
    "        \n",
    "        spline_model1.append(UnivariateSpline(list(datdict.keys()), list(datdict.values())))\n",
    "        spline_fit = spline_model1[i](df[i])\n",
    "        \n",
    "        loss = cal_logloss(spline_fit, y, i)    \n",
    "        logloss_normal.append(loss)\n",
    "\n",
    "    plot_df = pd.DataFrame({\n",
    "        \"pred\": df[0],\n",
    "        \"label\": np.where(y>0,1,0),\n",
    "        \"spline\": spline_model1[0](df[0])\n",
    "    })\n",
    "    plot_df[\"pred_int\"] = plot_df[\"pred\"].astype(int)\n",
    "    plot_df = plot_df.groupby('pred_int')[['spline','label']].mean().reset_index()\n",
    "    \n",
    "    plt.figure(figsize=(8, 5))\n",
    "    plt.plot(plot_df.pred_int, plot_df.label, marker='o', linestyle='-', label=\"True Label\")\n",
    "    plt.plot(plot_df.pred_int, plot_df.spline, marker='x', linestyle='--', label=\"Spline Approximation\")\n",
    "    plt.xlabel(\"Predicted Value (Integer)\")\n",
    "    plt.ylabel(\"Mean Value\")\n",
    "    plt.title(\"Normal Spline Fit Comparison\")\n",
    "    plt.legend()\n",
    "    plt.grid(True)\n",
    "    plt.savefig(os.path.join(OUTPUT_PATH, f\"normal_spline_fit_{PREDICT_YEAR}.png\"))\n",
    "    plt.close()\n",
    "    \n",
    "    \n",
    "    # 例として平均loglossもresultsに記録\n",
    "    avg_logloss = np.mean(logloss_normal) \n",
    "    results.append(f\"Average Normal Spline logloss: {avg_logloss:.4f}\" if avg_logloss is not None else \"No logloss computed\")\n",
    "    \n",
    "    return spline_model1\n",
    "            \n",
    "            \n",
    "#seed(1, 16)~(4, 13)は強制的にseed通りの結果にフィルタリング\n",
    "def make_seed1to4_chenge(df, y, repeat_cv):\n",
    "    spline_model2 = []\n",
    "    spline_fits = []\n",
    "    for i in range(repeat_cv):\n",
    "        dat = list(zip(df[i], np.where(y>0, 1, 0)))\n",
    "        dat = sorted(dat, key=lambda x:x[0])\n",
    "        datdict = {}\n",
    "        for k in range(len(dat)):\n",
    "            datdict[dat[k][0]] = dat[k][1]\n",
    "        \n",
    "        spline_model2.append(UnivariateSpline(list(datdict.keys()), list(datdict.values())))\n",
    "        spline_fit = spline_model2[i](df[i]) \n",
    "        \n",
    "        #add\n",
    "        spline_fit[(X.T1_seed==1) & (X.T2_seed==16)] = 1.0\n",
    "        spline_fit[(X.T1_seed==2) & (X.T2_seed==15)] = 0.9\n",
    "        spline_fit[(X.T1_seed==3) & (X.T2_seed==14)] = 0.8\n",
    "        spline_fit[(X.T1_seed==4) & (X.T2_seed==13)] = 0.7\n",
    "        spline_fit[(X.T1_seed==16) & (X.T2_seed==1)] = 0.0\n",
    "        spline_fit[(X.T1_seed==15) & (X.T2_seed==2)] = 0.1\n",
    "        spline_fit[(X.T1_seed==14) & (X.T2_seed==3)] = 0.2\n",
    "        spline_fit[(X.T1_seed==13) & (X.T2_seed==4)] = 0.3\n",
    "\n",
    "    \n",
    "        cal_logloss(spline_fit, y, i)   \n",
    "                \n",
    "        spline_fits.append(spline_fit)\n",
    "        cal_logloss(spline_fit, y, i)   \n",
    "                \n",
    "    \n",
    "    plot_df = pd.DataFrame({\n",
    "        \"pred\": df[0],\n",
    "        \"label\": np.where(y > 0, 1, 0),\n",
    "        \"spline\": spline_fits[0]  # 変更後の値を利用\n",
    "    })\n",
    "    plot_df[\"pred_int\"] = plot_df[\"pred\"].astype(int)\n",
    "    plot_df = plot_df.groupby(\"pred_int\")[[\"spline\", \"label\"]].mean().reset_index()\n",
    "\n",
    "    plt.figure()\n",
    "    plt.plot(plot_df.pred_int, plot_df.label, label=\"label\")\n",
    "    plt.plot(plot_df.pred_int, plot_df.spline, label=\"spline\")\n",
    "    plt.legend()\n",
    "    plt.show()\n",
    "    \n",
    "    return spline_model2\n",
    "    \n",
    "    \n",
    "#完全に値変換するのではなくてseed値に対応して予測スコアも同じ大小関係なら1or0に変換\n",
    "def make_seed1to4_base_on_score(df, y, repeat_cv):\n",
    "    spline_model3 = []\n",
    "    spline_fits = []\n",
    "\n",
    "    for i in range(repeat_cv):\n",
    "        dat = list(zip(df[i], np.where(y>0, 1, 0)))\n",
    "        dat = sorted(dat, key=lambda x:x[0])\n",
    "        datdict = {}\n",
    "        for k in range(len(dat)):\n",
    "            datdict[dat[k][0]] = dat[k][1]\n",
    "        \n",
    "        spline_model3.append(UnivariateSpline(list(datdict.keys()), list(datdict.values())))\n",
    "        spline_fit = spline_model3[i](df[i]) \n",
    "        \n",
    "        #add\n",
    "        spline_fit[(X.T1_seed==1) & (X.T2_seed==16) & (X.T1_Score > X.T2_Score)] = 1.0\n",
    "        spline_fit[(X.T1_seed==2) & (X.T2_seed==15) & (X.T1_Score > X.T2_Score)] = 1.0\n",
    "        spline_fit[(X.T1_seed==3) & (X.T2_seed==14) & (X.T1_Score > X.T2_Score)] = 1.0\n",
    "        spline_fit[(X.T1_seed==4) & (X.T2_seed==13) & (X.T1_Score > X.T2_Score)] = 1.0\n",
    "        spline_fit[(X.T1_seed==16) & (X.T2_seed==1) & (X.T1_Score < X.T2_Score)] = 0.0\n",
    "        spline_fit[(X.T1_seed==15) & (X.T2_seed==2) & (X.T1_Score < X.T2_Score)] = 0.0\n",
    "        spline_fit[(X.T1_seed==14) & (X.T2_seed==3) & (X.T1_Score < X.T2_Score)] = 0.0\n",
    "        spline_fit[(X.T1_seed==13) & (X.T2_seed==4) & (X.T1_Score < X.T2_Score)] = 0.0\n",
    "\n",
    "        spline_fits.append(spline_fit)\n",
    "        cal_logloss(spline_fit, y, i)   \n",
    "    \n",
    "    \n",
    "    plot_df = pd.DataFrame({\n",
    "        \"pred\": df[0],\n",
    "        \"label\": np.where(y > 0, 1, 0),\n",
    "        \"spline\": spline_fits[0]  # 変更後の値を利用\n",
    "    })\n",
    "    plot_df[\"pred_int\"] = plot_df[\"pred\"].astype(int)\n",
    "    plot_df = plot_df.groupby(\"pred_int\")[[\"spline\", \"label\"]].mean().reset_index()\n",
    "\n",
    "    plt.figure()\n",
    "    plt.plot(plot_df.pred_int, plot_df.label, label=\"label\")\n",
    "    plt.plot(plot_df.pred_int, plot_df.spline, label=\"spline\")\n",
    "    plt.legend()\n",
    "    plt.show()\n",
    "    return spline_model3\n",
    "\n",
    "\n",
    "\n",
    "# Platt Scalingを用いた補正曲線生成の関数 (ロジスティック回帰)\n",
    "def make_platt_scaling(df, y, repeat_cv):\n",
    "    platt_models = []\n",
    "    logloss_platt = []\n",
    "    \n",
    "    for i in range(repeat_cv):\n",
    "        X_train = np.array(df[i]).reshape(-1, 1)\n",
    "        y_binary = np.where(y > 0, 1, 0)\n",
    "        \n",
    "        model = LogisticRegression(random_state=42, solver='lbfgs')\n",
    "        model.fit(X_train, y_binary)\n",
    "        platt_models.append(model)\n",
    "        \n",
    "\n",
    "        platt_fit = model.predict_proba(X_train)[:, 1]\n",
    "        loss = cal_logloss(platt_fit, y, i)\n",
    "        logloss_platt.append(loss)\n",
    "    \n",
    "    \n",
    "    ###\n",
    "    plot_df = pd.DataFrame({\n",
    "        \"pred\": df[0],\n",
    "        \"label\": np.where(y > 0, 1, 0),\n",
    "        \"platt\": platt_models[0].predict_proba(np.array(df[0]).reshape(-1, 1))[:, 1]\n",
    "    })\n",
    "    plot_df[\"pred_int\"] = plot_df[\"pred\"].astype(int)\n",
    "    plot_df = plot_df.groupby(\"pred_int\")[[\"platt\", \"label\"]].mean().reset_index()\n",
    "    \n",
    "    plt.figure(figsize=(8, 5))\n",
    "    plt.plot(plot_df.pred_int, plot_df.label, marker='o', linestyle='-', label=\"True Label\")\n",
    "    plt.plot(plot_df.pred_int, plot_df.platt, marker='x', linestyle='--', label=\"Platt Scaling\")\n",
    "    plt.xlabel(\"Predicted Value (Integer)\")\n",
    "    plt.ylabel(\"Mean Value\")\n",
    "    plt.title(\"Platt Scaling Calibration Curve\")\n",
    "    plt.legend()\n",
    "    plt.grid(True)\n",
    "    plt.savefig(os.path.join(OUTPUT_PATH, f\"platt_scaling_fit_{PREDICT_YEAR}.png\"))\n",
    "    plt.close()\n",
    "    \n",
    "    avg_logloss = np.mean(logloss_platt)\n",
    "    results.append(f\"Average Platt Scaling logloss: {avg_logloss:.4f}\" if avg_logloss is not None else \"No logloss computed\")\n",
    "    \n",
    "    return platt_models\n",
    "\n",
    "def make_isotonic_regression(df, y, repeat_cv):\n",
    "    \"\"\" Isotonic Regression を用いた補正曲線生成 \"\"\"\n",
    "    isotonic_models = []\n",
    "    logloss_isotonic = []\n",
    "    \n",
    "    for i in range(repeat_cv):\n",
    "        X_train = np.array(df[i]).reshape(-1, 1)\n",
    "        y_binary = np.where(y > 0, 1, 0)\n",
    "        \n",
    "        model = IsotonicRegression(out_of_bounds=\"clip\")\n",
    "        model.fit(X_train.ravel(), y_binary)\n",
    "        isotonic_models.append(model)\n",
    "        \n",
    "        isotonic_fit = model.predict(X_train.ravel())\n",
    "        loss = cal_logloss(isotonic_fit, y, i)\n",
    "        logloss_isotonic.append(loss)\n",
    "    \n",
    "    plot_df = pd.DataFrame({\n",
    "        \"pred\": df[0],\n",
    "        \"label\": np.where(y > 0, 1, 0),\n",
    "        \"isotonic\": isotonic_models[0].predict(np.array(df[0]).reshape(-1, 1))\n",
    "    })\n",
    "    plot_df[\"pred_int\"] = plot_df[\"pred\"].astype(int)\n",
    "    plot_df = plot_df.groupby(\"pred_int\")[[\"isotonic\", \"label\"]].mean().reset_index()\n",
    "    \n",
    "    plt.figure(figsize=(8, 5))\n",
    "    plt.plot(plot_df.pred_int, plot_df.label, marker='o', linestyle='-', label=\"True Label\")\n",
    "    plt.plot(plot_df.pred_int, plot_df.isotonic, marker='x', linestyle='--', label=\"Isotonic Regression\")\n",
    "    plt.xlabel(\"Predicted Value (Integer)\")\n",
    "    plt.ylabel(\"Mean Value\")\n",
    "    plt.title(\"Isotonic Regression Calibration Curve\")\n",
    "    plt.legend()\n",
    "    plt.grid(True)\n",
    "    plt.savefig(os.path.join(OUTPUT_PATH, f\"isotonic_regression_fit_{PREDICT_YEAR}.png\"))\n",
    "    plt.close()\n",
    "    \n",
    "    avg_logloss = np.mean(logloss_isotonic)\n",
    "    results.append(f\"Average Isotonic Regression logloss: {avg_logloss:.4f}\" if avg_logloss is not None else \"No logloss computed\")\n",
    "    \n",
    "    return isotonic_models\n",
    "\n"
   ]
  },
  {
   "cell_type": "code",
   "execution_count": 26,
   "id": "adbac481",
   "metadata": {
    "execution": {
     "iopub.execute_input": "2025-03-14T14:45:03.659984Z",
     "iopub.status.busy": "2025-03-14T14:45:03.659984Z",
     "iopub.status.idle": "2025-03-14T14:45:03.681246Z",
     "shell.execute_reply": "2025-03-14T14:45:03.679968Z"
    },
    "papermill": {
     "duration": 0.037099,
     "end_time": "2025-03-14T14:45:03.681246",
     "exception": false,
     "start_time": "2025-03-14T14:45:03.644147",
     "status": "completed"
    },
    "tags": []
   },
   "outputs": [],
   "source": [
    "# キャリブレーションカーブの描画関数\n",
    "def plot_calibration_curve(y_true, y_pred_proba, method, save_path):\n",
    "    \"\"\" キャリブレーションカーブをプロットし保存 \"\"\"\n",
    "    y_binary = np.where(y_true > 0, 1, 0) \n",
    "    prob_true, prob_pred = calibration_curve(y_binary, y_pred_proba, n_bins=10)\n",
    "    \n",
    "    plt.figure(figsize=(6,6))\n",
    "    plt.plot(prob_pred, prob_true, marker=\"o\", label=f\"{method} Calibration\")\n",
    "    plt.plot([0, 1], [0, 1], linestyle=\"--\", label=\"Perfect Calibration\")\n",
    "    plt.xlabel(\"Predicted Probability\")\n",
    "    plt.ylabel(\"Actual Probability\")\n",
    "    plt.legend()\n",
    "    plt.title(f\"{method} Calibration Curve\")\n",
    "    plt.grid()\n",
    "    plt.savefig(save_path)\n",
    "    plt.close()\n",
    "\n"
   ]
  },
  {
   "cell_type": "code",
   "execution_count": 27,
   "id": "1d6c373c",
   "metadata": {
    "execution": {
     "iopub.execute_input": "2025-03-14T14:45:03.738668Z",
     "iopub.status.busy": "2025-03-14T14:45:03.738668Z",
     "iopub.status.idle": "2025-03-14T14:45:04.092914Z",
     "shell.execute_reply": "2025-03-14T14:45:04.092914Z"
    },
    "papermill": {
     "duration": 0.385374,
     "end_time": "2025-03-14T14:45:04.092914",
     "exception": false,
     "start_time": "2025-03-14T14:45:03.707540",
     "status": "completed"
    },
    "tags": []
   },
   "outputs": [
    {
     "name": "stdout",
     "output_type": "stream",
     "text": [
      "logloss of cvsplit 0: 0.5102\n",
      "logloss of cvsplit 1: 0.5073\n",
      "logloss of cvsplit 2: 0.5070\n",
      "logloss of cvsplit 3: 0.5042\n",
      "logloss of cvsplit 4: 0.5070\n",
      "logloss of cvsplit 5: 0.5050\n",
      "logloss of cvsplit 6: 0.5071\n",
      "logloss of cvsplit 7: 0.5095\n",
      "logloss of cvsplit 8: 0.5074\n",
      "logloss of cvsplit 9: 0.5064\n"
     ]
    }
   ],
   "source": [
    "# キャリブレーション手法の選択\n",
    "spline = MODEL.spline\n",
    "if spline == \"spline_normal\":\n",
    "    spline_model = make_normal_spline(oof_preds, y, repeat_cv)\n",
    "    calibrated_preds = spline_model[0](oof_preds[0])\n",
    "    plot_calibration_curve(y, calibrated_preds, \"Spline Normal\", os.path.join(OUTPUT_PATH, f\"spline_normal_calibration_{PREDICT_YEAR}.png\"))\n",
    "    \n",
    "elif spline == \"logistic\":\n",
    "    spline_model = make_platt_scaling(oof_preds, y, repeat_cv)\n",
    "    calibrated_preds = spline_model[0].predict_proba(np.array(oof_preds[0]).reshape(-1, 1))[:, 1]\n",
    "    plot_calibration_curve(y, calibrated_preds, \"Platt Scaling\", os.path.join(OUTPUT_PATH, f\"platt_scaling_calibration_{PREDICT_YEAR}.png\"))\n",
    "    \n",
    "elif spline == \"isotonic\":\n",
    "    spline_model = make_isotonic_regression(oof_preds, y, repeat_cv)\n",
    "    calibrated_preds = spline_model[0].predict(np.array(oof_preds[0]).reshape(-1, 1))\n",
    "    plot_calibration_curve(y, calibrated_preds, \"Isotonic Regression\", os.path.join(OUTPUT_PATH, f\"isotonic_regression_calibration_{PREDICT_YEAR}.png\"))"
   ]
  },
  {
   "cell_type": "markdown",
   "id": "a68f7074",
   "metadata": {
    "papermill": {
     "duration": 0.019538,
     "end_time": "2025-03-14T14:45:04.138306",
     "exception": false,
     "start_time": "2025-03-14T14:45:04.118768",
     "status": "completed"
    },
    "tags": []
   },
   "source": [
    "# submmit\n",
    "\n",
    "同じfeature engineeringする.\n",
    "\n",
    "個々の扱うも考える。2025は最終提出用の関数を用意する、その他2024以前は過去コンペでの提出形式に合わせる、でも年度によって提出形式が変わるからとりあえず2023でやる"
   ]
  },
  {
   "cell_type": "code",
   "execution_count": 28,
   "id": "cff0eeb7",
   "metadata": {
    "execution": {
     "iopub.execute_input": "2025-03-14T14:45:04.194383Z",
     "iopub.status.busy": "2025-03-14T14:45:04.194383Z",
     "iopub.status.idle": "2025-03-14T14:45:04.205141Z",
     "shell.execute_reply": "2025-03-14T14:45:04.203817Z"
    },
    "papermill": {
     "duration": 0.038017,
     "end_time": "2025-03-14T14:45:04.205141",
     "exception": false,
     "start_time": "2025-03-14T14:45:04.167124",
     "status": "completed"
    },
    "tags": []
   },
   "outputs": [
    {
     "data": {
      "text/plain": [
       "'if PREDICT_YEAR==2022:\\n    sub = pd.read_csv(os.path.join(INPUT_PATH, \"SampleSubmission2022M.csv\"))\\n    sub[\\'Season\\'] = sub[\\'ID\\'].apply(lambda x: int(x.split(\\'_\\')[0]))\\n    sub[\"T1_TeamID\"] = sub[\\'ID\\'].apply(lambda x: int(x.split(\\'_\\')[1]))\\n    sub[\"T2_TeamID\"] = sub[\\'ID\\'].apply(lambda x: int(x.split(\\'_\\')[2]))\\n    sub_X, a = process_tourney(sub, mode = \"sub\")\\n    dtest = xgb.DMatrix(sub_X)\\nelif PREDICT_YEAR==2023:\\n    sub = pd.read_csv(os.path.join(INPUT_PATH, \"SampleSubmission2023.csv\"))\\n    sub[\\'Season\\'] = sub[\\'ID\\'].apply(lambda x: int(x.split(\\'_\\')[0]))\\n    sub[\"T1_TeamID\"] = sub[\\'ID\\'].apply(lambda x: int(x.split(\\'_\\')[1]))\\n    sub[\"T2_TeamID\"] = sub[\\'ID\\'].apply(lambda x: int(x.split(\\'_\\')[2]))\\n    sub_X, a = process_tourney(sub, mode = \"sub\")\\n    dtest = xgb.DMatrix(sub_X)\\nelif PREDICT_YEAR==2024:\\n    sub = pd.read_csv(os.path.join(INPUT_PATH, \"SampleSubmission2024.csv\"))\\n    sub[\\'Season\\'] = sub[\\'ID\\'].apply(lambda x: int(x.split(\\'_\\')[0]))\\n    sub[\"T1_TeamID\"] = sub[\\'ID\\'].apply(lambda x: int(x.split(\\'_\\')[1]))\\n    sub[\"T2_TeamID\"] = sub[\\'ID\\'].apply(lambda x: int(x.split(\\'_\\')[2]))\\n    sub_X, a = process_tourney(sub, mode = \"sub\")\\n    dtest = xgb.DMatrix(sub_X)\\nelif PREDICT_YEAR==2025:\\n    sub = pd.read_csv(os.path.join(INPUT_PATH, \"SampleSubmissionStage2.csv\"))\\n    sub[\\'Season\\'] = sub[\\'ID\\'].apply(lambda x: int(x.split(\\'_\\')[0]))\\n    sub[\"T1_TeamID\"] = sub[\\'ID\\'].apply(lambda x: int(x.split(\\'_\\')[1]))\\n    sub[\"T2_TeamID\"] = sub[\\'ID\\'].apply(lambda x: int(x.split(\\'_\\')[2]))   \\n    sub_X, a = process_tourney(sub, mode = \"sub\")\\n    dtest = xgb.DMatrix(sub_X)'"
      ]
     },
     "execution_count": 28,
     "metadata": {},
     "output_type": "execute_result"
    }
   ],
   "source": [
    "\"\"\"if PREDICT_YEAR==2022:\n",
    "    sub = pd.read_csv(os.path.join(INPUT_PATH, \"SampleSubmission2022M.csv\"))\n",
    "    sub['Season'] = sub['ID'].apply(lambda x: int(x.split('_')[0]))\n",
    "    sub[\"T1_TeamID\"] = sub['ID'].apply(lambda x: int(x.split('_')[1]))\n",
    "    sub[\"T2_TeamID\"] = sub['ID'].apply(lambda x: int(x.split('_')[2]))\n",
    "    sub_X, a = process_tourney(sub, mode = \"sub\")\n",
    "    dtest = xgb.DMatrix(sub_X)\n",
    "elif PREDICT_YEAR==2023:\n",
    "    sub = pd.read_csv(os.path.join(INPUT_PATH, \"SampleSubmission2023.csv\"))\n",
    "    sub['Season'] = sub['ID'].apply(lambda x: int(x.split('_')[0]))\n",
    "    sub[\"T1_TeamID\"] = sub['ID'].apply(lambda x: int(x.split('_')[1]))\n",
    "    sub[\"T2_TeamID\"] = sub['ID'].apply(lambda x: int(x.split('_')[2]))\n",
    "    sub_X, a = process_tourney(sub, mode = \"sub\")\n",
    "    dtest = xgb.DMatrix(sub_X)\n",
    "elif PREDICT_YEAR==2024:\n",
    "    sub = pd.read_csv(os.path.join(INPUT_PATH, \"SampleSubmission2024.csv\"))\n",
    "    sub['Season'] = sub['ID'].apply(lambda x: int(x.split('_')[0]))\n",
    "    sub[\"T1_TeamID\"] = sub['ID'].apply(lambda x: int(x.split('_')[1]))\n",
    "    sub[\"T2_TeamID\"] = sub['ID'].apply(lambda x: int(x.split('_')[2]))\n",
    "    sub_X, a = process_tourney(sub, mode = \"sub\")\n",
    "    dtest = xgb.DMatrix(sub_X)\n",
    "elif PREDICT_YEAR==2025:\n",
    "    sub = pd.read_csv(os.path.join(INPUT_PATH, \"SampleSubmissionStage2.csv\"))\n",
    "    sub['Season'] = sub['ID'].apply(lambda x: int(x.split('_')[0]))\n",
    "    sub[\"T1_TeamID\"] = sub['ID'].apply(lambda x: int(x.split('_')[1]))\n",
    "    sub[\"T2_TeamID\"] = sub['ID'].apply(lambda x: int(x.split('_')[2]))   \n",
    "    sub_X, a = process_tourney(sub, mode = \"sub\")\n",
    "    dtest = xgb.DMatrix(sub_X)\"\"\"\n",
    "    "
   ]
  },
  {
   "cell_type": "code",
   "execution_count": 29,
   "id": "5bd76f07",
   "metadata": {
    "execution": {
     "iopub.execute_input": "2025-03-14T14:45:04.256214Z",
     "iopub.status.busy": "2025-03-14T14:45:04.256214Z",
     "iopub.status.idle": "2025-03-14T14:45:04.293107Z",
     "shell.execute_reply": "2025-03-14T14:45:04.292106Z"
    },
    "papermill": {
     "duration": 0.063882,
     "end_time": "2025-03-14T14:45:04.293751",
     "exception": false,
     "start_time": "2025-03-14T14:45:04.229869",
     "status": "completed"
    },
    "tags": []
   },
   "outputs": [
    {
     "name": "stdout",
     "output_type": "stream",
     "text": [
      "no fillna, use nan\n",
      "drop col list: ['T1_TOmean', 'T2_TOmean', 'T1_opponent_POSS_RATEmean', 'T2_opponent_POSS_RATEmean', 'T1_opponent_Astmean', 'T2_opponent_Astmean', 'T1_opponent_FT_RATEmean', 'T2_opponent_FT_RATEmean', 'T1_opponent_Stlmean', 'T2_opponent_Stlmean', 'T1_ORmean', 'T2_ORmean', 'T1_opponent_ORmean', 'T2_opponent_ORmean']\n"
     ]
    }
   ],
   "source": [
    "sub = notexist.copy()\n",
    "sub = sub.rename(columns={\"WTeamID\": \"T1_TeamID\", \"LTeamID\": \"T2_TeamID\"})\n",
    "sub = sub[[\"Season\", \"T1_TeamID\", \"T2_TeamID\"]]\n",
    "temp = sub.copy()\n",
    "temp = temp.rename(columns={\"T1_TeamID\": \"T2_TeamID\", \"T2_TeamID\": \"T1_TeamID\"})\n",
    "sub = pd.concat([sub, temp]).reset_index()\n",
    "sub_X, a = process_tourney(sub, mode=\"sub\")\n",
    "sub_X = drop_columns(sub_X, drop_col)\n",
    "dtest = xgb.DMatrix(sub_X)"
   ]
  },
  {
   "cell_type": "code",
   "execution_count": 30,
   "id": "13feea17",
   "metadata": {
    "execution": {
     "iopub.execute_input": "2025-03-14T14:45:04.366401Z",
     "iopub.status.busy": "2025-03-14T14:45:04.364389Z",
     "iopub.status.idle": "2025-03-14T14:46:20.009473Z",
     "shell.execute_reply": "2025-03-14T14:46:20.009473Z"
    },
    "papermill": {
     "duration": 75.683451,
     "end_time": "2025-03-14T14:46:20.010708",
     "exception": false,
     "start_time": "2025-03-14T14:45:04.327257",
     "status": "completed"
    },
    "tags": []
   },
   "outputs": [
    {
     "name": "stderr",
     "output_type": "stream",
     "text": [
      "\r",
      "  0%|                                                                                                                                                                                                                                      | 0/10 [00:00<?, ?it/s]"
     ]
    },
    {
     "name": "stderr",
     "output_type": "stream",
     "text": [
      "\r",
      " 10%|██████████████████████▏                                                                                                                                                                                                       | 1/10 [00:07<01:06,  7.41s/it]"
     ]
    },
    {
     "name": "stderr",
     "output_type": "stream",
     "text": [
      "\r",
      " 20%|████████████████████████████████████████████▍                                                                                                                                                                                 | 2/10 [00:14<00:58,  7.30s/it]"
     ]
    },
    {
     "name": "stderr",
     "output_type": "stream",
     "text": [
      "\r",
      " 30%|██████████████████████████████████████████████████████████████████▌                                                                                                                                                           | 3/10 [00:21<00:51,  7.32s/it]"
     ]
    },
    {
     "name": "stderr",
     "output_type": "stream",
     "text": [
      "\r",
      " 40%|████████████████████████████████████████████████████████████████████████████████████████▊                                                                                                                                     | 4/10 [00:29<00:45,  7.56s/it]"
     ]
    },
    {
     "name": "stderr",
     "output_type": "stream",
     "text": [
      "\r",
      " 50%|███████████████████████████████████████████████████████████████████████████████████████████████████████████████                                                                                                               | 5/10 [00:36<00:36,  7.35s/it]"
     ]
    },
    {
     "name": "stderr",
     "output_type": "stream",
     "text": [
      "\r",
      " 60%|█████████████████████████████████████████████████████████████████████████████████████████████████████████████████████████████████████▏                                                                                        | 6/10 [00:44<00:30,  7.59s/it]"
     ]
    },
    {
     "name": "stderr",
     "output_type": "stream",
     "text": [
      "\r",
      " 70%|███████████████████████████████████████████████████████████████████████████████████████████████████████████████████████████████████████████████████████████▍                                                                  | 7/10 [00:51<00:21,  7.33s/it]"
     ]
    },
    {
     "name": "stderr",
     "output_type": "stream",
     "text": [
      "\r",
      " 80%|█████████████████████████████████████████████████████████████████████████████████████████████████████████████████████████████████████████████████████████████████████████████████▌                                            | 8/10 [00:58<00:14,  7.16s/it]"
     ]
    },
    {
     "name": "stderr",
     "output_type": "stream",
     "text": [
      "\r",
      " 90%|███████████████████████████████████████████████████████████████████████████████████████████████████████████████████████████████████████████████████████████████████████████████████████████████████████▊                      | 9/10 [01:07<00:07,  7.65s/it]"
     ]
    },
    {
     "name": "stderr",
     "output_type": "stream",
     "text": [
      "\r",
      "100%|█████████████████████████████████████████████████████████████████████████████████████████████████████████████████████████████████████████████████████████████████████████████████████████████████████████████████████████████| 10/10 [01:15<00:00,  7.87s/it]"
     ]
    },
    {
     "name": "stderr",
     "output_type": "stream",
     "text": [
      "\r",
      "100%|█████████████████████████████████████████████████████████████████████████████████████████████████████████████████████████████████████████████████████████████████████████████████████████████████████████████████████████████| 10/10 [01:15<00:00,  7.56s/it]"
     ]
    },
    {
     "name": "stderr",
     "output_type": "stream",
     "text": [
      "\n"
     ]
    }
   ],
   "source": [
    "sub_models = []\n",
    "#sokutionではカスタム関数の指定、早期停止の言及がここではなかった。検討する\n",
    "for i in tqdm(range(repeat_cv), leave=True, dynamic_ncols=True):\n",
    "    sub_models.append(\n",
    "        xgb.train(\n",
    "          params = param,\n",
    "          dtrain = dtrain,\n",
    "          obj=cauchyobj,\n",
    "          num_boost_round = int(iteration_counts[i] * 1.05),\n",
    "          #early_stopping_rounds=early_stopping_rounds, #これ指定してない、指定するのかあと、指定するとしても少し遅くさせるとか\n",
    "          verbose_eval = 50\n",
    "        )\n",
    "    )"
   ]
  },
  {
   "cell_type": "markdown",
   "id": "748278c1",
   "metadata": {
    "papermill": {
     "duration": 0.034683,
     "end_time": "2025-03-14T14:46:20.077582",
     "exception": false,
     "start_time": "2025-03-14T14:46:20.042899",
     "status": "completed"
    },
    "tags": []
   },
   "source": [
    "各特徴量の寄与度を算出"
   ]
  },
  {
   "cell_type": "code",
   "execution_count": 31,
   "id": "aebd86a6",
   "metadata": {
    "execution": {
     "iopub.execute_input": "2025-03-14T14:46:20.127210Z",
     "iopub.status.busy": "2025-03-14T14:46:20.127210Z",
     "iopub.status.idle": "2025-03-14T14:46:20.850360Z",
     "shell.execute_reply": "2025-03-14T14:46:20.850360Z"
    },
    "papermill": {
     "duration": 0.74562,
     "end_time": "2025-03-14T14:46:20.850360",
     "exception": false,
     "start_time": "2025-03-14T14:46:20.104740",
     "status": "completed"
    },
    "tags": []
   },
   "outputs": [
    {
     "data": {
      "image/png": "[encoded data removed]",
      "text/plain": [
       "<Figure size 1000x600 with 1 Axes>"
      ]
     },
     "metadata": {},
     "output_type": "display_data"
    }
   ],
   "source": [
    "feature_importances = collections.defaultdict(list)\n",
    "for model in sub_models:\n",
    "    importance = model.get_score(importance_type='gain')\n",
    "    for feat, score in importance.items():\n",
    "        feature_importances[feat].append(score)\n",
    "\n",
    "avg_importance = {feat: sum(scores) / len(scores) for feat, scores in feature_importances.items()}\n",
    "fi_df = pd.DataFrame(list(avg_importance.items()), columns=['Feature', 'Avg_Gain'])\n",
    "fi_df.sort_values(by='Avg_Gain', ascending=False, inplace=True)\n",
    "results.append(\"\")\n",
    "fi_log = \"-----Feature Importance (Average Gain)-----\\n\"\n",
    "for feat, score in fi_df.values:\n",
    "    fi_log += f\"{feat}: {score:.4f}\\n\"\n",
    "results.append(fi_log)\n",
    "results.append(\"\")\n",
    "\n",
    "plt.figure(figsize=(10, 6))\n",
    "plt.bar(fi_df['Feature'], fi_df['Avg_Gain'])\n",
    "plt.xlabel('Feature')\n",
    "plt.ylabel('Average Gain')\n",
    "plt.title('Feature Importance (Average Gain)')\n",
    "plt.xticks(rotation=45)\n",
    "plt.tight_layout() \n",
    "\n",
    "plt.savefig(os.path.join(OUTPUT_PATH, f\"feature_importance_{PREDICT_YEAR}.png\"))\n",
    "plt.show()"
   ]
  },
  {
   "cell_type": "code",
   "execution_count": 32,
   "id": "968d44e0",
   "metadata": {
    "execution": {
     "iopub.execute_input": "2025-03-14T14:46:20.911613Z",
     "iopub.status.busy": "2025-03-14T14:46:20.911613Z",
     "iopub.status.idle": "2025-03-14T14:46:21.024756Z",
     "shell.execute_reply": "2025-03-14T14:46:21.024756Z"
    },
    "papermill": {
     "duration": 0.1544,
     "end_time": "2025-03-14T14:46:21.027099",
     "exception": false,
     "start_time": "2025-03-14T14:46:20.872699",
     "status": "completed"
    },
    "tags": []
   },
   "outputs": [
    {
     "name": "stderr",
     "output_type": "stream",
     "text": [
      "\r",
      "  0%|                                                                                                                                                                                                                                      | 0/10 [00:00<?, ?it/s]"
     ]
    },
    {
     "name": "stderr",
     "output_type": "stream",
     "text": [
      "\r",
      "100%|████████████████████████████████████████████████████████████████████████████████████████████████████████████████████████████████████████████████████████████████████████████████████████████████████████████████████████████| 10/10 [00:00<00:00, 104.22it/s]"
     ]
    },
    {
     "name": "stderr",
     "output_type": "stream",
     "text": [
      "\n"
     ]
    }
   ],
   "source": [
    "sub_preds = []\n",
    "for i in tqdm(range(repeat_cv)):\n",
    "    if spline == \"spline_normal\":\n",
    "        sub_preds.append(np.clip(spline_model[i](np.clip(sub_models[i].predict(dtest), -30, 30)), 0.025, 0.975))\n",
    "    \n",
    "    elif spline == \"logistic\":\n",
    "        X_input = np.clip(sub_models[i].predict(dtest), -30, 30).reshape(-1, 1)\n",
    "        platt_pred = spline_model[i].predict_proba(X_input)[:, 1]\n",
    "        sub_preds.append(np.clip(platt_pred, 0.025, 0.975))\n",
    "\n",
    "    elif spline == \"isotonic\":\n",
    "        X_input = np.clip(sub_models[i].predict(dtest), -30, 30).reshape(-1, 1)\n",
    "        iso_pred = spline_model[i].predict(X_input)  # Isotonic Regression の適用\n",
    "        sub_preds.append(np.clip(iso_pred, 0.025, 0.975))\n",
    "\n",
    "sub[\"Pred\"] = np.mean(np.vstack(sub_preds), axis=0)"
   ]
  },
  {
   "cell_type": "code",
   "execution_count": 33,
   "id": "1507d81b",
   "metadata": {
    "execution": {
     "iopub.execute_input": "2025-03-14T14:46:21.108495Z",
     "iopub.status.busy": "2025-03-14T14:46:21.108495Z",
     "iopub.status.idle": "2025-03-14T14:46:21.123275Z",
     "shell.execute_reply": "2025-03-14T14:46:21.123275Z"
    },
    "papermill": {
     "duration": 0.058609,
     "end_time": "2025-03-14T14:46:21.125286",
     "exception": false,
     "start_time": "2025-03-14T14:46:21.066677",
     "status": "completed"
    },
    "tags": []
   },
   "outputs": [
    {
     "name": "stdout",
     "output_type": "stream",
     "text": [
      "skip data flip\n"
     ]
    }
   ],
   "source": [
    "# 予測時にテストデータID反転させて予測して平均取る\n",
    "# dtestの用意とsub_predsの算出を同じようにやる\n",
    "# sub[\"Pred\"]を反転させたやつとの平均取ったやつにする\n",
    "TEST_REVERSE = MODEL.test_reverse\n",
    "\n",
    "if TEST_REVERSE:\n",
    "    print(\"----- data flip -----\") \n",
    "    sub_reverse = notexist.copy()\n",
    "    sub_reverse = sub_reverse.rename(columns={\"WTeamID\": \"T2_TeamID\", \"LTeamID\": \"T1_TeamID\"})#reverse!!\n",
    "    temp_reverse = sub_reverse.copy()\n",
    "    temp = temp.rename(columns={\"T1_TeamID\": \"T2_TeamID\", \"T2_TeamID\": \"T1_TeamID\"})\n",
    "    sub_reverse = pd.concat([sub_reverse, temp_reverse]).reset_index()\n",
    "    sub_reverse_X, a = process_tourney(sub_reverse, mode=\"sub\")\n",
    "    sub_reverse_X = drop_columns(sub_reverse_X, drop_col)\n",
    "    dtest_reverse = xgb.DMatrix(sub_reverse_X)\n",
    "    \n",
    "    sub_preds_reverse = []\n",
    "    for i in tqdm(range(repeat_cv)):\n",
    "        if spline == \"spline_normal\":\n",
    "            sub_preds_reverse.append(np.clip(spline_model[i](np.clip(sub_models[i].predict(dtest_reverse), -30, 30)), 0.025, 0.975))\n",
    "        \n",
    "        elif spline == \"logistic\":\n",
    "            X_input = np.clip(sub_models[i].predict(dtest_reverse), -30, 30).reshape(-1, 1)\n",
    "            platt_pred = spline_model[i].predict_proba(X_input)[:, 1]\n",
    "            sub_preds_reverse.append(np.clip(platt_pred, 0.025, 0.975))\n",
    "\n",
    "        elif spline == \"isotonic\":\n",
    "            X_input = np.clip(sub_models[i].predict(dtest_reverse), -30, 30).reshape(-1, 1)\n",
    "            iso_pred = spline_model[i].predict(X_input)  # Isotonic Regression の適用\n",
    "            sub_preds_reverse.append(np.clip(iso_pred, 0.025, 0.975))\n",
    "\n",
    "    sub_reverse[\"Pred\"] = np.mean(np.vstack(sub_preds_reverse), axis=0)\n",
    "    \n",
    " \n",
    "    #sub[\"Pred\"]を (sub[\"Pred\"] + (1-sub_reverse[\"Pred\"]))/2に塗り替える(平均取る)\n",
    "    sub[\"Pred\"] = (sub[\"Pred\"] + (1-sub_reverse[\"Pred\"]))/2\n",
    "\n",
    "\n",
    "else:\n",
    "    print(\"skip data flip\")"
   ]
  },
  {
   "cell_type": "code",
   "execution_count": 34,
   "id": "0a1d5458",
   "metadata": {
    "execution": {
     "iopub.execute_input": "2025-03-14T14:46:21.186428Z",
     "iopub.status.busy": "2025-03-14T14:46:21.186428Z",
     "iopub.status.idle": "2025-03-14T14:46:21.195515Z",
     "shell.execute_reply": "2025-03-14T14:46:21.195515Z"
    },
    "papermill": {
     "duration": 0.040769,
     "end_time": "2025-03-14T14:46:21.195515",
     "exception": false,
     "start_time": "2025-03-14T14:46:21.154746",
     "status": "completed"
    },
    "tags": []
   },
   "outputs": [],
   "source": [
    "# teams:64team, targetを受け取って、そのtarget teamの試合可能性のある全63試合を抽出する関数\n",
    "def extract_target_team_records(submission_df, teams, target_team):\n",
    "    if target_team not in teams:\n",
    "        raise ValueError(f\"target_team {target_team} は teams 内に存在しません\")\n",
    "\n",
    "    remaining_teams = [t for t in teams if t != target_team]\n",
    "    \n",
    "    records = []\n",
    "    for other_team in remaining_teams:\n",
    "        lower = min(target_team, other_team)\n",
    "        higher = max(target_team, other_team)\n",
    "        row = submission_df[(submission_df['T1_TeamID'] == lower) & (submission_df['T2_TeamID'] == higher)]\n",
    "        if row.empty:\n",
    "            print(f\"Warning: 対戦 {lower} vs {higher} に対応するレコードが見つかりませんでした\")\n",
    "        else:\n",
    "            records.append(row)\n",
    "    \n",
    "    if records:\n",
    "        final_records = pd.concat(records, ignore_index=True)\n",
    "    else:\n",
    "        final_records = pd.DataFrame()\n",
    "    \n",
    "    if len(final_records) != 63:\n",
    "        print(f\"Warning: 期待される63件ではなく、{len(final_records)}件のレコードが抽出されました。\")\n",
    "    \n",
    "    return final_records\n"
   ]
  },
  {
   "cell_type": "code",
   "execution_count": 35,
   "id": "087bb7c5",
   "metadata": {
    "execution": {
     "iopub.execute_input": "2025-03-14T14:46:21.267591Z",
     "iopub.status.busy": "2025-03-14T14:46:21.267591Z",
     "iopub.status.idle": "2025-03-14T14:46:21.278067Z",
     "shell.execute_reply": "2025-03-14T14:46:21.278067Z"
    },
    "papermill": {
     "duration": 0.054433,
     "end_time": "2025-03-14T14:46:21.278067",
     "exception": false,
     "start_time": "2025-03-14T14:46:21.223634",
     "status": "completed"
    },
    "tags": []
   },
   "outputs": [],
   "source": [
    "tourney_teams_2023 = [\n",
    "    1395, 1113,   # TCU1395, アリゾナ・ステイト1113\n",
    "    1231, 1245,   # インディアナ1231, ケント・ステイト1245\n",
    "    1243, 1286,   # カンザス・ステイト1243, モンタナ・ステイト1286\n",
    "    1272, 1194,   # メンフィス1272, ﾌﾛﾘﾀﾞ･ｱﾄﾗﾝﾃｨｯｸ1194\n",
    "    1211, 1213,   # ゴンザガ1211, グランド・キャニオン1213\n",
    "    1274, 1179,   # マイアミ（フロリダ）1274, ドレイク1179\n",
    "    1243, 1286,   # ケンタッキー1243, プロビデンス1286\n",
    "    1345, 1192,   # パデュー1345, ﾌｪｱﾘｰ･ﾃﾞｨｷﾝｿﾝ1192\n",
    "    1163, 1233,   # コネチカット1163, アイオナ1233\n",
    "    1166, 1301,   # クレイトン1166, ﾉｰｽｶﾛﾗｲﾅ･ｽﾃｲﾄ1301\n",
    "    1235, 1338,   # アイオワ・ステイト1235, ピッツバーグ1338\n",
    "    1266, 1436,   # マーケット1266, バーモント1436\n",
    "    1388, 1433,   # ｾﾝﾄﾒｱﾘｰｽﾞ（ｶﾘﾌｫﾙﾆｱ）1388, VCU1433\n",
    "    1124, 1364,   # ベイラー1124, UCサンタバーバラ1364\n",
    "    1462, 1244,   # ザビエル1462, ケネソー・ステイト1244\n",
    "    1277, 1425,   # ミシガン・ステイト1277, USC トロージャンズ1425\n",
    "\n",
    "    1417, 1421,   # UCLA1417, UNC アシュビル1421\n",
    "    1401, 1336,   # テキサス A＆M1401, ﾍﾟﾝｼﾞﾙﾍﾞﾆｱ･ｽﾃｲﾄ1336\n",
    "    1397, 1418,   # テネシー1397, ﾙｲｼﾞｱﾅ･ﾗﾌｧｲｴｯﾄ1418\n",
    "    1222, 1297,   # ヒューストン1222, ノーザンケンタッキー1297\n",
    "    1321, 1129,   # ノースウェスタン1321, ボイシ・ステイト1129\n",
    "    1400, 1159,   # テキサス1400, コルゲート1159\n",
    "    1181, 1331,   # デューク1181, オーラル・ロバーツ1331\n",
    "    1234, 1120,   # アイオワ1234, オーバーン1120\n",
    "    1116, 1228,   # アーカンソー1116, イリノイ1228\n",
    "    1112, 1343,   # アリゾナ1112, プリンストン1343\n",
    "    1361, 1158,   # ｻﾝﾃﾞｴｺﾞ･ｽﾃｲﾄ1361, チャールストン1158\n",
    "    1104, 1394,   # アラバマ1104, テキサス A＆M CC1394\n",
    "    1242, 1224,   # カンザス1242, ハワード1224\n",
    "    1281, 1429,   # ミズーリ1281, ユタ・ステイト1429\n",
    "    1438, 1202,   # バージニア1438, ファーマン1202\n",
    "    1268, 1452    # メリーランド1268, ウェストバージニア1452\n",
    "]\n",
    "\n",
    "#Connecticut_vs = extract_target_team_records(sub, tourney_teams_2023, 1163 )"
   ]
  },
  {
   "cell_type": "code",
   "execution_count": 36,
   "id": "b4c23f71",
   "metadata": {
    "execution": {
     "iopub.execute_input": "2025-03-14T14:46:21.341308Z",
     "iopub.status.busy": "2025-03-14T14:46:21.341308Z",
     "iopub.status.idle": "2025-03-14T14:46:21.348928Z",
     "shell.execute_reply": "2025-03-14T14:46:21.348928Z"
    },
    "papermill": {
     "duration": 0.043165,
     "end_time": "2025-03-14T14:46:21.348928",
     "exception": false,
     "start_time": "2025-03-14T14:46:21.305763",
     "status": "completed"
    },
    "tags": []
   },
   "outputs": [],
   "source": [
    "#handlabelingを行う関数\n",
    "def make_handlabeling(df, season, T1, T2, labeling_pred, tourney_teams):\n",
    "    if T1 not in tourney_teams or T2 not in tourney_teams: \n",
    "        print(f\"トーナメント対象チームに属していません\")\n",
    "        return \n",
    "    \n",
    "    if T1>T2: \n",
    "        T1, T2 = T2, T1\n",
    "        print(f\"{T1}, {T2}ID逆だけど大丈夫？？\")\n",
    "    id = f\"{season}_{T1}_{T2}\"\n",
    "\n",
    "    print(f\"before: {df[df['ID']==id]}\")\n",
    "    df.loc[df[\"ID\"] == id, \"Pred\"] = labeling_pred\n",
    "    print(f\"after: {df[df['ID']==id]}\")\n",
    "    \n",
    "    results.append(f\"-----handolabeling-----\")\n",
    "    results.append(f\"before:  {df[df['ID']==id]} -----> after: {df[df['ID']==id]}\")\n",
    "    results.appedn(\"\")\n",
    "    return df"
   ]
  },
  {
   "cell_type": "code",
   "execution_count": 37,
   "id": "96fe2b33",
   "metadata": {
    "execution": {
     "iopub.execute_input": "2025-03-14T14:46:21.406780Z",
     "iopub.status.busy": "2025-03-14T14:46:21.406780Z",
     "iopub.status.idle": "2025-03-14T14:46:21.416278Z",
     "shell.execute_reply": "2025-03-14T14:46:21.416278Z"
    },
    "papermill": {
     "duration": 0.043093,
     "end_time": "2025-03-14T14:46:21.416278",
     "exception": false,
     "start_time": "2025-03-14T14:46:21.373185",
     "status": "completed"
    },
    "tags": []
   },
   "outputs": [],
   "source": [
    "labeling = cfg.exp.hand_labeling\n",
    "if labeling is not None:\n",
    "    for i in range(len(labeling)):\n",
    "        T1 = labeling[i][0]\n",
    "        T2 = labeling[i][1]\n",
    "        labeling_pred = labeling[i][2]\n",
    "        \n",
    "        print(f\"{T1} vs {T2} result labeling {labeling_pred}\")\n",
    "        \n",
    "        sub = make_handlabeling(sub, PREDICT_YEAR, T1, T2, labeling_pred, tourney_teams_2023)"
   ]
  },
  {
   "cell_type": "code",
   "execution_count": 38,
   "id": "e4c9ac2f",
   "metadata": {
    "execution": {
     "iopub.execute_input": "2025-03-14T14:46:21.479164Z",
     "iopub.status.busy": "2025-03-14T14:46:21.479164Z",
     "iopub.status.idle": "2025-03-14T14:46:21.810345Z",
     "shell.execute_reply": "2025-03-14T14:46:21.810345Z"
    },
    "papermill": {
     "duration": 0.36557,
     "end_time": "2025-03-14T14:46:21.812206",
     "exception": false,
     "start_time": "2025-03-14T14:46:21.446636",
     "status": "completed"
    },
    "tags": []
   },
   "outputs": [
    {
     "name": "stdout",
     "output_type": "stream",
     "text": [
      "Tournament matchups only - Pred Mean: 0.5014395206805209\n"
     ]
    },
    {
     "data": {
      "image/png": "[encoded data removed]",
      "text/plain": [
       "<Figure size 640x480 with 1 Axes>"
      ]
     },
     "metadata": {},
     "output_type": "display_data"
    }
   ],
   "source": [
    "tourney_filtered = notexist[notexist[\"Season\"] == PREDICT_YEAR].copy()\n",
    "a = tourney_filtered.rename(columns={'WTeamID': 'T1_TeamID', 'LTeamID': 'T2_TeamID'})\n",
    "b = tourney_filtered.rename(columns={'WTeamID': 'T2_TeamID', 'LTeamID': 'T1_TeamID'})\n",
    "ab = pd.concat([a, b]).reset_index(drop=True) \n",
    "filtered_sub = sub.merge(ab[['Season', 'T1_TeamID', 'T2_TeamID']], \n",
    "                         on=['Season', 'T1_TeamID', 'T2_TeamID'], \n",
    "                         how='inner')\n",
    "\n",
    "filtered_sub[\"Pred\"].astype(int)\n",
    "pred_mean = filtered_sub[\"Pred\"].mean()\n",
    "print(\"Tournament matchups only - Pred Mean:\", pred_mean)\n",
    "\n",
    "filtered_sub[\"Pred\"].hist(bins=50)\n",
    "results+=[\"\", f\"Tournament matchups only - Pred Mean:, {pred_mean}\", \"\"]\n",
    "plt.figure(figsize=(8, 6))\n",
    "filtered_sub[\"Pred\"].hist(bins=50)\n",
    "plt.title(\"Prediction Histogram\")\n",
    "plt.xlabel(\"Pred\")\n",
    "plt.ylabel(\"Frequency\")\n",
    "plt.grid(True)\n",
    "\n",
    "# 画像として保存\n",
    "plt.savefig(os.path.join(OUTPUT_PATH, f\"Prediction_Histgram_filtered_{PREDICT_YEAR}.png\"))\n",
    "plt.close()"
   ]
  },
  {
   "cell_type": "markdown",
   "id": "12177f1f",
   "metadata": {
    "papermill": {
     "duration": 0.040207,
     "end_time": "2025-03-14T14:46:21.868251",
     "exception": false,
     "start_time": "2025-03-14T14:46:21.828044",
     "status": "completed"
    },
    "tags": []
   },
   "source": [
    "# スコア算出、まとめ、\n",
    "ここまでで提出ファイル作成。ここからは過去年度のシミュレーションに対してBrier scoreやその他指標の算出"
   ]
  },
  {
   "cell_type": "code",
   "execution_count": 39,
   "id": "7b47a98d",
   "metadata": {
    "execution": {
     "iopub.execute_input": "2025-03-14T14:46:21.925659Z",
     "iopub.status.busy": "2025-03-14T14:46:21.925659Z",
     "iopub.status.idle": "2025-03-14T14:46:22.353521Z",
     "shell.execute_reply": "2025-03-14T14:46:22.353521Z"
    },
    "papermill": {
     "duration": 0.460636,
     "end_time": "2025-03-14T14:46:22.353521",
     "exception": false,
     "start_time": "2025-03-14T14:46:21.892885",
     "status": "completed"
    },
    "tags": []
   },
   "outputs": [
    {
     "data": {
      "image/png": "[encoded data removed]",
      "text/plain": [
       "<Figure size 640x480 with 1 Axes>"
      ]
     },
     "metadata": {},
     "output_type": "display_data"
    }
   ],
   "source": [
    "sub[\"Pred\"].hist()\n",
    "results+=[\"\", f\"Pred mean: {sub['Pred'].mean()}\", \"\"]\n",
    "\n",
    "plt.figure(figsize=(8, 6))\n",
    "sub[\"Pred\"].hist(bins=50)\n",
    "plt.title(\"Prediction Histogram\")\n",
    "plt.xlabel(\"Pred\")\n",
    "plt.ylabel(\"Frequency\")\n",
    "plt.grid(True)\n",
    "\n",
    "# 画像として保存\n",
    "plt.savefig(os.path.join(OUTPUT_PATH, f\"Prediction_Histgram_{PREDICT_YEAR}.png\"))\n",
    "plt.close()"
   ]
  },
  {
   "cell_type": "markdown",
   "id": "46739f71",
   "metadata": {
    "papermill": {
     "duration": 0.039883,
     "end_time": "2025-03-14T14:46:22.412863",
     "exception": false,
     "start_time": "2025-03-14T14:46:22.372980",
     "status": "completed"
    },
    "tags": []
   },
   "source": [
    "存在するはずのない予測年度のトーナメント結果をもとに(Pred, label)を取り出し、以下を行う。\n",
    "\n",
    "- 各評価指標の計算\n",
    "- キャリブレーション可視化\n",
    "- AUC可視化"
   ]
  },
  {
   "cell_type": "code",
   "execution_count": 40,
   "id": "42e1da41",
   "metadata": {
    "execution": {
     "iopub.execute_input": "2025-03-14T14:46:22.478471Z",
     "iopub.status.busy": "2025-03-14T14:46:22.478471Z",
     "iopub.status.idle": "2025-03-14T14:46:22.490578Z",
     "shell.execute_reply": "2025-03-14T14:46:22.490578Z"
    },
    "papermill": {
     "duration": 0.04479,
     "end_time": "2025-03-14T14:46:22.490578",
     "exception": false,
     "start_time": "2025-03-14T14:46:22.445788",
     "status": "completed"
    },
    "tags": []
   },
   "outputs": [],
   "source": [
    "def extract_labels_and_preds(sub, tourney):\n",
    "    \"\"\" 試合データから予測値 (Pred) と正解ラベル (label) を抽出する \"\"\"\n",
    "    label_data = tourney[[\"WTeamID\", \"LTeamID\", \"WScore\", \"LScore\"]]\n",
    "    label_data = label_data.rename(columns={\"WTeamID\": \"T1_TeamID\", \"LTeamID\": \"T2_TeamID\", \"WScore\": \"T1_Score\", \"LScore\": \"T2_Score\"})\n",
    "    temp = label_data.copy()\n",
    "    temp = temp.rename(columns={\"T1_TeamID\": \"T2_TeamID\", \"T2_TeamID\": \"T1_TeamID\", \"T1_Score\": \"T2_Score\", \"T2_Score\": \"T1_Score\"})\n",
    "    label_data = pd.concat([label_data, temp]).reset_index(drop=True)\n",
    "    \n",
    "    label_data = pd.merge(label_data, sub, on=[\"T1_TeamID\", \"T2_TeamID\"], how=\"left\")\n",
    "    label_data[\"label\"] = np.where(label_data[\"T1_Score\"] - label_data[\"T2_Score\"] > 0, 1, 0)\n",
    "    label_data = label_data.dropna(subset=[\"Pred\"])  # 欠損値を削除\n",
    "    \n",
    "    return label_data[[\"label\", \"Pred\"]]\n",
    "\n",
    "def calculate_metrics(label_data):\n",
    "    \"\"\" 各評価指標を計算 \"\"\"\n",
    "    brier_score = round(mean_squared_error(label_data[\"label\"], label_data[\"Pred\"]), 5)  # Brier Score (MSEと同じ)\n",
    "    rmse_score = round(mean_squared_error(label_data[\"label\"], label_data[\"Pred\"], squared=False), 5)  # RMSE\n",
    "    logloss_score = round(log_loss(label_data[\"label\"], label_data[\"Pred\"]), 5)  # Log Loss\n",
    "    mae_score = round(mean_absolute_error(label_data[\"label\"], label_data[\"Pred\"]), 5)  # MAE\n",
    "    \n",
    "    return {\n",
    "        \"Brier Score\": brier_score,\n",
    "        \"RMSE\": rmse_score,\n",
    "        \"Log Loss\": logloss_score,\n",
    "        \"MAE\": mae_score\n",
    "    }\n",
    "\n",
    "def plot_calibration_curve(label_data, n_bins=10):\n",
    "    \"\"\" キャリブレーションカーブをプロット \"\"\"\n",
    "    prob_true, prob_pred = calibration_curve(label_data[\"label\"], label_data[\"Pred\"], n_bins=n_bins)\n",
    "    \n",
    "    plt.figure(figsize=(6,6))\n",
    "    plt.plot(prob_pred, prob_true, marker=\"o\", label=\"Model Calibration\")\n",
    "    plt.plot([0, 1], [0, 1], linestyle=\"--\", label=\"Perfect Calibration\")\n",
    "    plt.xlabel(\"Predicted Probability\")\n",
    "    plt.ylabel(\"Actual Probability\")\n",
    "    plt.legend()\n",
    "    plt.title(\"Calibration Curve\")\n",
    "    plt.show()\n",
    "\n",
    "def calculate_auc_metrics(label_data):\n",
    "    global results\n",
    "    \"\"\" AUC-ROCとAUC-PRを計算 \"\"\"\n",
    "    auc_roc = roc_auc_score(label_data[\"label\"], label_data[\"Pred\"])\n",
    "    auc_pr = average_precision_score(label_data[\"label\"], label_data[\"Pred\"])\n",
    "    \n",
    "    print(f\"AUC-ROC: {auc_roc:.4f}\")\n",
    "    print(f\"AUC-PR: {auc_pr:.4f}\")\n",
    "    results += [\"---- AUC -----\", f\"AUC-ROC: {auc_roc:.4f}\", f\"AUC-PR: {auc_pr:.4f}\"]\n",
    "    "
   ]
  },
  {
   "cell_type": "code",
   "execution_count": 41,
   "id": "ddda7bd9",
   "metadata": {
    "execution": {
     "iopub.execute_input": "2025-03-14T14:46:22.556245Z",
     "iopub.status.busy": "2025-03-14T14:46:22.556245Z",
     "iopub.status.idle": "2025-03-14T14:46:22.759715Z",
     "shell.execute_reply": "2025-03-14T14:46:22.759715Z"
    },
    "papermill": {
     "duration": 0.249545,
     "end_time": "2025-03-14T14:46:22.759715",
     "exception": false,
     "start_time": "2025-03-14T14:46:22.510170",
     "status": "completed"
    },
    "tags": []
   },
   "outputs": [
    {
     "name": "stderr",
     "output_type": "stream",
     "text": [
      "C:\\Users\\81809\\anaconda3\\envs\\deep_learning_pytorch\\Lib\\site-packages\\sklearn\\metrics\\_regression.py:492: FutureWarning: 'squared' is deprecated in version 1.4 and will be removed in 1.6. To calculate the root mean squared error, use the function'root_mean_squared_error'.\n",
      "  warnings.warn(\n"
     ]
    },
    {
     "data": {
      "image/png": "[encoded data removed]",
      "text/plain": [
       "<Figure size 600x600 with 1 Axes>"
      ]
     },
     "metadata": {},
     "output_type": "display_data"
    },
    {
     "name": "stdout",
     "output_type": "stream",
     "text": [
      "AUC-ROC: 0.8557\n",
      "AUC-PR: 0.8672\n",
      "MAE: 0.31574\n",
      "\n",
      "---- AUC -----\n",
      "AUC-ROC: 0.8557\n",
      "AUC-PR: 0.8672\n"
     ]
    }
   ],
   "source": [
    "if PREDICT_YEAR == 2022:\n",
    "    notexist_MAN = notexist[notexist[\"WTeamID\"].astype(str).str.startswith(\"1\")]\n",
    "    notexist_WOMAN = notexist[notexist[\"WTeamID\"].astype(str).str.startswith(\"3\")]\n",
    "    label_data = extract_labels_and_preds(sub, notexist) ######\n",
    "else:\n",
    "    label_data = extract_labels_and_preds(sub, notexist)\n",
    "\n",
    "# 評価指標の計算\n",
    "score = calculate_metrics(label_data)\n",
    "results += [\"\",\"-----eval metrics-----\",\n",
    "            f\"Brier Score: {score['Brier Score']}\", \n",
    "            f\"RMSE: {score['RMSE']}\", \n",
    "            f\"Log Loss: {score['Log Loss']}\", \n",
    "            f\"MAE: {score['MAE']}\", \"\"]\n",
    "\n",
    "# キャリブレーションの確認\n",
    "plot_calibration_curve(label_data)\n",
    "\n",
    "# AUCの評価\n",
    "calculate_auc_metrics(label_data)\n",
    "\n",
    "for temp in range(-5, 0):\n",
    "    print(results[temp])"
   ]
  },
  {
   "cell_type": "code",
   "execution_count": 42,
   "id": "f4d2d0e5",
   "metadata": {
    "execution": {
     "iopub.execute_input": "2025-03-14T14:46:22.823085Z",
     "iopub.status.busy": "2025-03-14T14:46:22.823085Z",
     "iopub.status.idle": "2025-03-14T14:46:22.831972Z",
     "shell.execute_reply": "2025-03-14T14:46:22.831972Z"
    },
    "papermill": {
     "duration": 0.048471,
     "end_time": "2025-03-14T14:46:22.836052",
     "exception": false,
     "start_time": "2025-03-14T14:46:22.787581",
     "status": "completed"
    },
    "tags": []
   },
   "outputs": [
    {
     "data": {
      "text/plain": [
       "'if PREDICT_YEAR!=2025:\\n    predict_year_label =notexist[[\"WTeamID\", \"LTeamID\", \"WScore\", \"LScore\"]].copy()\\n    predict_year_label.loc[:, \"Win\"] = np.where(predict_year_label[\"WScore\"] - predict_year_label[\"LScore\"] > 0, 1, 0)\\n    predict_year_label = predict_year_label[[\"WTeamID\", \"LTeamID\", \"Win\"]]\\n   \\n    predict_year_label.columns = [\"T1_TeamID\", \"T2_TeamID\", \"Win\"]\\n\\n    predict_year_label = pd.merge(predict_year_label, sub, on=[\"T1_TeamID\", \"T2_TeamID\"], how=\"left\")\\n    brier_score = np.mean((predict_year_label[\"Pred\"] - predict_year_label[\"Win\"])**2)\\n\\n    print(\"Brier Score:\", brier_score)\\n    results+=[f\"Brier Score: {brier_score}\", \"\"]\\n    predict_year_label.info()\\n'"
      ]
     },
     "execution_count": 42,
     "metadata": {},
     "output_type": "execute_result"
    }
   ],
   "source": [
    "\"\"\"if PREDICT_YEAR!=2025:\n",
    "    predict_year_label =notexist[[\"WTeamID\", \"LTeamID\", \"WScore\", \"LScore\"]].copy()\n",
    "    predict_year_label.loc[:, \"Win\"] = np.where(predict_year_label[\"WScore\"] - predict_year_label[\"LScore\"] > 0, 1, 0)\n",
    "    predict_year_label = predict_year_label[[\"WTeamID\", \"LTeamID\", \"Win\"]]\n",
    "   \n",
    "    predict_year_label.columns = [\"T1_TeamID\", \"T2_TeamID\", \"Win\"]\n",
    "\n",
    "    predict_year_label = pd.merge(predict_year_label, sub, on=[\"T1_TeamID\", \"T2_TeamID\"], how=\"left\")\n",
    "    brier_score = np.mean((predict_year_label[\"Pred\"] - predict_year_label[\"Win\"])**2)\n",
    "\n",
    "    print(\"Brier Score:\", brier_score)\n",
    "    results+=[f\"Brier Score: {brier_score}\", \"\"]\n",
    "    predict_year_label.info()\n",
    "\"\"\""
   ]
  },
  {
   "cell_type": "code",
   "execution_count": 43,
   "id": "f2b25dad",
   "metadata": {
    "execution": {
     "iopub.execute_input": "2025-03-14T14:46:22.893021Z",
     "iopub.status.busy": "2025-03-14T14:46:22.893021Z",
     "iopub.status.idle": "2025-03-14T14:46:22.902602Z",
     "shell.execute_reply": "2025-03-14T14:46:22.902602Z"
    },
    "papermill": {
     "duration": 0.041766,
     "end_time": "2025-03-14T14:46:22.902602",
     "exception": false,
     "start_time": "2025-03-14T14:46:22.860836",
     "status": "completed"
    },
    "tags": []
   },
   "outputs": [
    {
     "name": "stdout",
     "output_type": "stream",
     "text": [
      "実行時間： 764.4秒\n"
     ]
    }
   ],
   "source": [
    "END_TIME = time.time()\n",
    "ELAPSED_TIME = END_TIME - START_TIME\n",
    "print(f\"実行時間： {ELAPSED_TIME:.1f}秒\")\n",
    "results.append(f\"実行時間： {ELAPSED_TIME:.1f}秒\")\n",
    "\n",
    "with open(os.path.join(OUTPUT_PATH, \"result.txt\"), \"a\", encoding=\"utf-8\") as f:\n",
    "    for line in results:\n",
    "        f.write(line + \"\\n\")"
   ]
  },
  {
   "cell_type": "code",
   "execution_count": 44,
   "id": "228e9de3",
   "metadata": {
    "execution": {
     "iopub.execute_input": "2025-03-14T14:46:22.971421Z",
     "iopub.status.busy": "2025-03-14T14:46:22.971421Z",
     "iopub.status.idle": "2025-03-14T14:46:22.977437Z",
     "shell.execute_reply": "2025-03-14T14:46:22.977437Z"
    },
    "papermill": {
     "duration": 0.052363,
     "end_time": "2025-03-14T14:46:22.977437",
     "exception": false,
     "start_time": "2025-03-14T14:46:22.925074",
     "status": "completed"
    },
    "tags": []
   },
   "outputs": [],
   "source": [
    "logger.remove()"
   ]
  }
 ],
 "metadata": {
  "kernelspec": {
   "display_name": "deep_learning_pytorch",
   "language": "python",
   "name": "python3"
  },
  "language_info": {
   "codemirror_mode": {
    "name": "ipython",
    "version": 3
   },
   "file_extension": ".py",
   "mimetype": "text/x-python",
   "name": "python",
   "nbconvert_exporter": "python",
   "pygments_lexer": "ipython3",
   "version": "3.11.9"
  },
  "papermill": {
   "default_parameters": {},
   "duration": 771.071679,
   "end_time": "2025-03-14T14:46:23.682633",
   "environment_variables": {},
   "exception": null,
   "input_path": "c:\\Users\\81809\\Documents\\ALL_CODE\\kaggle\\March Machine Learning Mania 2025\\notebook\\1stplace_solution_2023.ipynb",
   "output_path": "exp101_20250314_233332.ipynb",
   "parameters": {
    "EXP_NUM": "exp101"
   },
   "start_time": "2025-03-14T14:33:32.610954",
   "version": "2.6.0"
  }
 },
 "nbformat": 4,
 "nbformat_minor": 5
}