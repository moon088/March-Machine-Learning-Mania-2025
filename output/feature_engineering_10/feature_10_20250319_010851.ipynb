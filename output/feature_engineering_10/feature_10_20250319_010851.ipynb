{
 "cells": [
  {
   "cell_type": "code",
   "execution_count": 1,
   "id": "f813206c",
   "metadata": {
    "execution": {
     "iopub.execute_input": "2025-03-18T16:08:52.897446Z",
     "iopub.status.busy": "2025-03-18T16:08:52.897446Z",
     "iopub.status.idle": "2025-03-18T16:08:52.913478Z",
     "shell.execute_reply": "2025-03-18T16:08:52.912643Z"
    },
    "papermill": {
     "duration": 0.016635,
     "end_time": "2025-03-18T16:08:52.913478",
     "exception": false,
     "start_time": "2025-03-18T16:08:52.896843",
     "status": "completed"
    },
    "tags": [
     "parameters"
    ]
   },
   "outputs": [],
   "source": [
    "# Parameters\n",
    "EXP_NUM = \"default\"       # papermillで上書き可能\n",
    "PREDICT_YEAR = None       # papermillで上書きされなければYAMLから取得する"
   ]
  },
  {
   "cell_type": "code",
   "execution_count": 2,
   "id": "75d9f2e6",
   "metadata": {
    "execution": {
     "iopub.execute_input": "2025-03-18T16:08:52.930306Z",
     "iopub.status.busy": "2025-03-18T16:08:52.930306Z",
     "iopub.status.idle": "2025-03-18T16:08:52.934204Z",
     "shell.execute_reply": "2025-03-18T16:08:52.933848Z"
    },
    "papermill": {
     "duration": 0.021742,
     "end_time": "2025-03-18T16:08:52.935220",
     "exception": false,
     "start_time": "2025-03-18T16:08:52.913478",
     "status": "completed"
    },
    "tags": [
     "injected-parameters"
    ]
   },
   "outputs": [],
   "source": [
    "# Parameters\n",
    "EXP_NUM = \"feature_10\"\n",
    "PREDICT_YEAR = 2019\n"
   ]
  },
  {
   "cell_type": "markdown",
   "id": "b27a55b8",
   "metadata": {
    "papermill": {
     "duration": 0.011382,
     "end_time": "2025-03-18T16:08:52.947605",
     "exception": false,
     "start_time": "2025-03-18T16:08:52.936223",
     "status": "completed"
    },
    "tags": []
   },
   "source": [
    "# 2023 1st place solution\n",
    "[kaggle notebook](https://www.kaggle.com/code/rustyb/paris-madness-2023#Load-the-data!)"
   ]
  },
  {
   "cell_type": "markdown",
   "id": "6374ccb0",
   "metadata": {
    "papermill": {
     "duration": 0.0,
     "end_time": "2025-03-18T16:08:52.950495",
     "exception": false,
     "start_time": "2025-03-18T16:08:52.950495",
     "status": "completed"
    },
    "tags": []
   },
   "source": [
    "# コードの流れ\n",
    "1. hydraからハイパラ取得し、パスなどを設定\n",
    "\n",
    "    regular&tourney Detaile Result, Seedを使用し、tourneyを目的変数としてモデルを予測していく\n",
    "\n",
    "    regular_data->season_statistics->\n",
    "\n",
    "    以下の前処理をする\n",
    "\n",
    "2. データ２倍にかさまし\n",
    "3. regularに対して特徴量の追加\n",
    "    各チームごとに加えるもの\n",
    "   - EFFG: フィールドゴール成功率\n",
    "   - EFFG3: フィールドゴール3p成功率\n",
    "   - DARE: フィールドゴールにおける3P率\n",
    "   - \"win\"を目的変数とする(Team, Season)のロジスティック回帰した各係数\n",
    "    対戦カードごとに加える特徴量\n",
    "    - PointDiff: ポイント差\n",
    "    - win: 1 if PointDiff>0 else 0\n",
    "4. (Team, Season)ごとに特徴量season_statixtics追加\n",
    "    - win_ratio_14d\n",
    "    - box score mean\n",
    "    - quality\n",
    "    - seed\n",
    "5. season_average.enabled=trueなら直近３シーズンの加重平均の処理加える\n",
    "6. tourneyをteamID, Season, score(y)のみ取り出してこれに対してseason_statisticsの結合と特徴量微調整\n",
    "   - seed->seeddiff\n",
    "   - fillna()\n",
    "\n",
    "7. モデル構築\n",
    "8. KFOLD->OOF予測->spline曲線求めてlogloss算出\n",
    "    - KFOLDによる交差検証（CV）\n",
    "        repeat_cv 回のループで、各反復ごとにKFold（folds_splits個）によりデータを分割し、XGBoostのCVを実行しています。\n",
    "        各foldでの結果（例えば、訓練MAE、検証MAEの平均値や標準偏差）がcv_resultとして得られ、それをxgb_cvリストに格納します。\n",
    "        この段階で重要なのは、各反復での検証用MAEの平均値 (test-mae-mean) の最小値と、そのときのブーストラウンド数です。\n",
    "        それらは後で、最適なイテレーション数 (iteration_counts) として計算され、val_mae にも格納されます。\n",
    "    - OOF予測の流れ\n",
    "\n",
    "        各反復ごとに、新たなKFoldを用いてデータを分割。\n",
    "        各foldごとに、学習データでモデルを訓練し、検証データに対して予測を実施。\n",
    "        すべてのfold分の予測結果を1つの予測配列にまとめ、最後に -30～30 の範囲にクリップしています。\n",
    "        重要な結果\n",
    "\n",
    "        OOF予測結果（oof_preds）自体は後段で別途評価指標に使用できるほか、各反復ごとの予測精度や誤差を算出する際の基礎データ\n",
    "9.  提出フェーズ\n",
    "    - 最適paramで全データ使って訓練\n",
    "    - 提出試合の予測"
   ]
  },
  {
   "cell_type": "markdown",
   "id": "5a36cb9c",
   "metadata": {
    "papermill": {
     "duration": 0.000999,
     "end_time": "2025-03-18T16:08:52.966299",
     "exception": false,
     "start_time": "2025-03-18T16:08:52.965300",
     "status": "completed"
    },
    "tags": []
   },
   "source": [
    "memo\n",
    "\n",
    "欠損値が発生していいのか検討して保管について考える\n",
    "seedがかけているのはregularに対してseedを与えているから大丈夫。最終的なtourneyには欠損０で追加できているから問題ない"
   ]
  },
  {
   "cell_type": "code",
   "execution_count": 3,
   "id": "d23e8c02",
   "metadata": {
    "execution": {
     "iopub.execute_input": "2025-03-18T16:08:52.979748Z",
     "iopub.status.busy": "2025-03-18T16:08:52.979748Z",
     "iopub.status.idle": "2025-03-18T16:08:55.371335Z",
     "shell.execute_reply": "2025-03-18T16:08:55.371335Z"
    },
    "papermill": {
     "duration": 2.405036,
     "end_time": "2025-03-18T16:08:55.371335",
     "exception": false,
     "start_time": "2025-03-18T16:08:52.966299",
     "status": "completed"
    },
    "tags": []
   },
   "outputs": [
    {
     "name": "stderr",
     "output_type": "stream",
     "text": [
      "C:\\Users\\81809\\anaconda3\\envs\\deep_learning_pytorch\\Lib\\site-packages\\tqdm\\auto.py:21: TqdmWarning: IProgress not found. Please update jupyter and ipywidgets. See https://ipywidgets.readthedocs.io/en/stable/user_install.html\n",
      "  from .autonotebook import tqdm as notebook_tqdm\n"
     ]
    },
    {
     "name": "stdout",
     "output_type": "stream",
     "text": [
      "feature_10\n",
      "Omega conf is below\n",
      "dir:\n",
      "  input_dir: ../input\n",
      "  output_dir: ../output\n",
      "  src_path: ../src\n",
      "  conf_path: ../conf\n",
      "exp:\n",
      "  name: feature_engineering_10\n",
      "  print_name: 'best model (3/18): extract feature'\n",
      "  tournament:\n",
      "    use_start_season: 1985\n",
      "    target_season: 2019\n",
      "  features:\n",
      "    cal_mean_boxscore:\n",
      "      T1_Score: true\n",
      "      T2_Score: true\n",
      "      PointDiff: true\n",
      "      T1_FGA: true\n",
      "      T2_FGA: true\n",
      "      T1_FGA3: false\n",
      "      T2_FGA3: false\n",
      "      T1_FGM: true\n",
      "      T2_FGM: true\n",
      "      T1_FGM3: false\n",
      "      T2_FGM3: false\n",
      "      T1_FTM: false\n",
      "      T2_FTM: false\n",
      "      T1_FTA: false\n",
      "      T2_FTA: false\n",
      "      T1_EFFG: false\n",
      "      T2_EFFG: false\n",
      "      T1_EFFG3: false\n",
      "      T2_EFFG3: false\n",
      "      T1_EFG_SUM: true\n",
      "      T2_EFG_SUM: true\n",
      "      T1_TO_RATIO: true\n",
      "      T2_TO_RATIO: true\n",
      "      T1_OR: true\n",
      "      T2_OR: true\n",
      "      T1_DR: true\n",
      "      T2_DR: true\n",
      "      T1_REB_RATE: true\n",
      "      T2_REB_RATE: true\n",
      "      T1_FT_RATE: true\n",
      "      T2_FT_RATE: true\n",
      "      T1_RATING: false\n",
      "      T2_RATING: false\n",
      "      T1_POSS_RATE: true\n",
      "      T2_POSS_RATE: true\n",
      "      T1_Ast: true\n",
      "      T2_Ast: true\n",
      "      T1_TO: true\n",
      "      T2_TO: true\n",
      "      T1_Stl: true\n",
      "      T2_Stl: true\n",
      "      T1_Blk: true\n",
      "      T2_Blk: true\n",
      "      T1_PF: true\n",
      "      T2_PF: true\n",
      "      T1_DARE: false\n",
      "      T2_DARE: false\n",
      "      T1_TOQUETOQUE: false\n",
      "      T2_TOQUETOQUE: false\n",
      "    rank_diff: true\n",
      "    T1_FGAdiff: true\n",
      "    T2_FFGAdiff: true\n",
      "    start_quality_season: 2003\n",
      "    dropfeatures:\n",
      "    - T1_TOmean\n",
      "    - T2_TOmean\n",
      "    - T1_opponent_POSS_RATEmean\n",
      "    - T2_opponent_POSS_RATEmean\n",
      "    - T1_opponent_Astmean\n",
      "    - T2_opponent_Astmean\n",
      "    - T1_opponent_FT_RATEmean\n",
      "    - T2_opponent_FT_RATEmean\n",
      "    - T1_opponent_Stlmean\n",
      "    - T2_opponent_Stlmean\n",
      "    - T1_ORmean\n",
      "    - T2_ORmean\n",
      "    - T1_opponent_ORmean\n",
      "    - T2_opponent_ORmean\n",
      "    - Season\n",
      "    season_average:\n",
      "      enabled: false\n",
      "      past_years: 3\n",
      "      weights:\n",
      "      - 1\n",
      "      - 2\n",
      "      - 3\n",
      "    fillna:\n",
      "      quality: 'nan'\n",
      "  model:\n",
      "    repeat_cv: 10\n",
      "    optuna_enabled: false\n",
      "    test_reverse: false\n",
      "    xgb_model:\n",
      "      param:\n",
      "        eval_metric: rmse\n",
      "        booster: gbtree\n",
      "        eta: 0.02\n",
      "        subsample: 0.35\n",
      "        colsample_bytree: 0.7\n",
      "        num_parallel_tree: 10\n",
      "        min_child_weight: 40\n",
      "        gamma: 10\n",
      "        max_depth: 3\n",
      "      obj: cauchyoj\n",
      "      num_boost_round: 3000\n",
      "      folds_splits: 5\n",
      "      early_stopping_rounds: 25\n",
      "      optuna:\n",
      "        max_depth:\n",
      "        - 3\n",
      "        - 7\n",
      "        eta:\n",
      "        - 0.001\n",
      "        - 0.03\n",
      "        subsample:\n",
      "        - 0.2\n",
      "        - 0.5\n",
      "        colsample_bytree:\n",
      "        - 0.5\n",
      "        - 1.0\n",
      "        num_parallel_tree:\n",
      "        - 7\n",
      "        - 12\n",
      "        min_child_weight:\n",
      "        - 30\n",
      "        - 50\n",
      "        reg_alpha:\n",
      "        - 0.0\n",
      "        - 1.0\n",
      "        reg_lambda:\n",
      "        - 0.0\n",
      "        - 1.0\n",
      "        gamma:\n",
      "        - 0\n",
      "        - 10\n",
      "        n_trials: 1000\n",
      "        timeout: 28800\n",
      "        n_jobs: -1\n",
      "        n_warmup_steps: 3\n",
      "    spline: logistic\n",
      "  hand_labeling: null\n",
      "\n"
     ]
    }
   ],
   "source": [
    "\n",
    "import os\n",
    "import sys\n",
    "from pathlib import Path\n",
    "import collections\n",
    "from datetime import datetime\n",
    "import shutil\n",
    "import yaml\n",
    "from tqdm import tqdm\n",
    "import time\n",
    "import optuna\n",
    "from loguru import logger\n",
    "import collections\n",
    "\n",
    "from hydra import initialize, initialize_config_module, initialize_config_dir, compose\n",
    "from omegaconf import OmegaConf\n",
    "\n",
    "import numpy as np\n",
    "import pandas as pd\n",
    "import matplotlib.pyplot as plt\n",
    "import seaborn as sns\n",
    "from scipy.interpolate import UnivariateSpline\n",
    "\n",
    "import xgboost as xgb\n",
    "from xgboost import XGBRegressor\n",
    "from sklearn.model_selection import KFold\n",
    "from sklearn.calibration import calibration_curve\n",
    "from sklearn.metrics import log_loss,mean_squared_error, mean_absolute_error, roc_auc_score, average_precision_score\n",
    "from sklearn.metrics import make_scorer\n",
    "from sklearn.model_selection import cross_val_score, KFold\n",
    "from sklearn.linear_model import LogisticRegression\n",
    "from sklearn.preprocessing import OneHotEncoder\n",
    "from sklearn.isotonic import IsotonicRegression\n",
    "\n",
    "import statsmodels.api as sm\n",
    "\n",
    "START_TIME = time.time()\n",
    "\n",
    "\n",
    "#####\n",
    "#EXP_NUM = \"test\"\n",
    "#####\n",
    "print(EXP_NUM)\n",
    "\n",
    "# hydraの初期設定と指定ハイパラの取得\n",
    "sys.path.append(os.path.abspath(\"/workspace\"))\n",
    "sys.path.append(\"C:\\\\Users\\\\81809\\\\Documents\\\\ALL_CODE\\\\kaggle\\\\March Machine Learning Mania 2025\")\n",
    "with initialize_config_module(version_base=None, config_module=\"conf\"):\n",
    "    cfg = compose(\n",
    "        config_name=\"base.yaml\",\n",
    "        overrides=[\n",
    "            f\"+exp={EXP_NUM}\" #defaultexp001->exp002のオーバーライド\n",
    "        ],\n",
    "    )\n",
    "    \n",
    "    OmegaConf.resolve(cfg)\n",
    "    print(\"Omega conf is below\")\n",
    "    print(OmegaConf.to_yaml(cfg))\n"
   ]
  },
  {
   "cell_type": "code",
   "execution_count": 4,
   "id": "cd3b8f83",
   "metadata": {
    "execution": {
     "iopub.execute_input": "2025-03-18T16:08:55.384833Z",
     "iopub.status.busy": "2025-03-18T16:08:55.384833Z",
     "iopub.status.idle": "2025-03-18T16:08:55.402943Z",
     "shell.execute_reply": "2025-03-18T16:08:55.402943Z"
    },
    "papermill": {
     "duration": 0.024503,
     "end_time": "2025-03-18T16:08:55.402943",
     "exception": false,
     "start_time": "2025-03-18T16:08:55.378440",
     "status": "completed"
    },
    "tags": []
   },
   "outputs": [
    {
     "name": "stdout",
     "output_type": "stream",
     "text": [
      "2019\n",
      "########\n",
      "output dir name: feature_engineering_10\n",
      "Run on 2025-03-19 01:08:55.389021\n",
      "best model (3/18): extract feature\n",
      "########\n"
     ]
    }
   ],
   "source": [
    "if PREDICT_YEAR is None:\n",
    "    PREDICT_YEAR = cfg.exp.tournament.target_season\n",
    "print(PREDICT_YEAR)\n",
    "name = f\"{cfg.exp.name}\"\n",
    "now = str(datetime.now())\n",
    "print(\"########\")\n",
    "print(f\"output dir name: {name}\")\n",
    "print(f\"Run on {now}\")\n",
    "print(cfg.exp.print_name)\n",
    "print(\"########\")\n",
    "\n",
    "BASE_DIR = os.path.abspath(os.path.join(os.getcwd(), \"..\"))\n",
    "CONF_PATH = os.path.join(BASE_DIR, \"conf\")\n",
    "INPUT_PATH = os.path.join(BASE_DIR, \"input\")\n",
    "EXP_PATH = os.path.join(CONF_PATH, \"exp\", f\"{EXP_NUM}.yaml\")\n",
    "OUTPUT_PATH = os.path.join(BASE_DIR, \"output\", name)\n",
    "SRC_PATH = cfg.dir.src_path\n",
    "sys.path.append(SRC_PATH)\n",
    "\n",
    "os.makedirs(OUTPUT_PATH, exist_ok=True)  \n",
    "with open(EXP_PATH, \"r\", encoding=\"utf-8\") as f:\n",
    "    config = yaml.safe_load(f)\n",
    "shutil.copyfile(EXP_PATH, os.path.join(OUTPUT_PATH, f\"{EXP_NUM}.yaml\"))\n",
    "\n",
    "\n",
    "y_season = cfg.exp.tournament.target_season\n",
    "FEATURES = cfg.exp.features\n",
    "MODEL = cfg.exp.model\n",
    "results = [\"\", f\"-----{PREDICT_YEAR}-----\", now ,name, cfg.exp.print_name,\"\"]"
   ]
  },
  {
   "cell_type": "code",
   "execution_count": 5,
   "id": "ca889fcb",
   "metadata": {
    "execution": {
     "iopub.execute_input": "2025-03-18T16:08:55.413318Z",
     "iopub.status.busy": "2025-03-18T16:08:55.413318Z",
     "iopub.status.idle": "2025-03-18T16:08:56.941520Z",
     "shell.execute_reply": "2025-03-18T16:08:56.941520Z"
    },
    "papermill": {
     "duration": 1.528202,
     "end_time": "2025-03-18T16:08:56.941520",
     "exception": false,
     "start_time": "2025-03-18T16:08:55.413318",
     "status": "completed"
    },
    "tags": []
   },
   "outputs": [],
   "source": [
    "tourney_results = pd.concat([\n",
    "    pd.read_csv(os.path.join(INPUT_PATH,\"MNCAATourneyDetailedResults.csv\")),\n",
    "    pd.read_csv(os.path.join(INPUT_PATH,\"WNCAATourneyDetailedResults.csv\")),\n",
    "], ignore_index=True)\n",
    "\n",
    "seeds = pd.concat([\n",
    "    pd.read_csv(os.path.join(INPUT_PATH,\"MNCAATourneySeeds.csv\")),\n",
    "    pd.read_csv(os.path.join(INPUT_PATH,\"WNCAATourneySeeds.csv\")),\n",
    "], ignore_index=True)\n",
    "\n",
    "regular_results = pd.concat([\n",
    "    pd.read_csv(os.path.join(INPUT_PATH, \"MRegularSeasonDetailedResults.csv\")),\n",
    "    pd.read_csv(os.path.join(INPUT_PATH,\"WRegularSeasonDetailedResults.csv\")),\n",
    "], ignore_index=True)\n",
    "\n",
    "ordinal_rank = pd.read_csv(os.path.join(INPUT_PATH, \"MMasseyOrdinals.csv\"))\n",
    "\n",
    "# 1試合情報からWin,Lose反転させてデータ数２倍にかさまし and WLoc -> location(0 or -1 or 1)\n",
    "def prepare_data(df1):\n",
    "    df = df1.copy()\n",
    "    ### add new box score\n",
    "    #type1: normal EFG\n",
    "    df['WEFFG'] = df['WFGM'] / df['WFGA']\n",
    "    df['LEFFG'] = df['LFGM'] / df['LFGA']\n",
    "    #type2: 1stfeature EFG\n",
    "    df['WEFFG3'] = np.where(df['WFGA3'] == 0, 0, df['WFGM3'] / df['WFGA3'])\n",
    "    df['LEFFG3'] = np.where(df['LFGA3'] == 0, 0, df['LFGM3'] / df['LFGA3'])\n",
    "    df['WDARE'] = df['WFGM3'] / df['WFGM']\n",
    "    df['LDARE'] = df['LFGM3'] / df['LFGM']\n",
    "    df['WTOQUETOQUE'] = df['WAst'] / df['WFGM']\n",
    "    df['LTOQUETOQUE'] = df['LAst'] / df['LFGM']\n",
    "    #type3: OFF/DEF FGE\n",
    "    df[\"WEFG_SUM\"] = (df[\"WFGM\"]+0.5*df[\"WFGM3\"])/df[\"WFGA\"]\n",
    "    df[\"LEFG_SUM\"] = (df[\"LFGM\"]+0.5*df[\"LFGM3\"])/df[\"LFGA\"]\n",
    "\n",
    "    #POSS RATE\n",
    "    df[\"WPOSS\"] = df[\"WFGA\"] + 0.44*df[\"WFTA\"] - df[\"WOR\"] + df[\"WTO\"]\n",
    "    df[\"LPOSS\"] = df[\"LFGA\"] + 0.44*df[\"LFTA\"] - df[\"LOR\"] + df[\"LTO\"]\n",
    "    df[\"WPOSS_RATE\"] = df[\"WPOSS\"]/(df[\"WPOSS\"]+df[\"LPOSS\"])\n",
    "    df[\"LPOSS_RATE\"] = df[\"LPOSS\"]/(df[\"WPOSS\"]+df[\"LPOSS\"])\n",
    "    \n",
    "    #TO Ratio \n",
    "    df[\"WTO_RATIO\"] = df[\"WTO\"]/(df[\"WFGA\"]+0.44*df[\"WFTA\"]+df[\"WTO\"])#POSS RATEと違ってOR入っていない\n",
    "    df[\"LTO_RATIO\"] = df[\"LTO\"]/(df[\"LFGA\"]+0.44*df[\"LFTA\"]+df[\"LTO\"])\n",
    "    \n",
    "    # REB%\n",
    "    df[\"WREB_RATE\"] = df[\"WOR\"]/(df[\"WOR\"]+df[\"LDR\"])\n",
    "    df[\"LREB_RATE\"] = df[\"LOR\"]/(df[\"LOR\"]+df[\"WDR\"])\n",
    "    \n",
    "    #FT %\n",
    "    df[\"WFT_RATE\"] = df[\"WFTA\"]/df[\"WFGA\"]\n",
    "    df[\"LFT_RATE\"] = df[\"LFTA\"]/df[\"LFGA\"]\n",
    "    \n",
    "    #rating\n",
    "    df[\"WRATING\"] = df[\"WScore\"]/df[\"WPOSS\"]\n",
    "    df[\"LRATING\"] = df[\"LScore\"]/df[\"LPOSS\"]\n",
    "    \n",
    "        \n",
    "    #0除算補完\n",
    "    print(df.info())\n",
    "        \n",
    "    #かさましに伴う反転カラム\n",
    "    dfswap = df.copy()\n",
    "    # Home, Away変換して反転\n",
    "    dfswap.loc[df['WLoc'] == 'H', 'WLoc'] = 'A'\n",
    "    dfswap.loc[df['WLoc'] == 'A', 'WLoc'] = 'H'\n",
    "    df.columns.values[6] = 'location'\n",
    "    dfswap.columns.values[6] = 'location'    \n",
    "    #反転\n",
    "    df.columns = [x.replace('W','T1_').replace('L','T2_') for x in list(df.columns)]\n",
    "    dfswap.columns = [x.replace('L','T1_').replace('W','T2_') for x in list(dfswap.columns)]\n",
    "    output = pd.concat([df, dfswap]).reset_index(drop=True)\n",
    "    \n",
    "    \n",
    "    #add new feature\n",
    "    #locationを数値に変換\n",
    "    output.loc[output.location=='N','location'] = '0'\n",
    "    output.loc[output.location=='H','location'] = '1'\n",
    "    output.loc[output.location=='A','location'] = '-1'\n",
    "    output.location = output.location.astype(int)\n",
    "    \n",
    "    #add PointDiff&win\n",
    "    output['PointDiff'] = output['T1_Score'] - output['T2_Score']\n",
    "    output[\"win\"] = np.where(output['PointDiff']>0,1,0)\n",
    "    \n",
    "    \n",
    "    print(f\"feature cols after prepare()\")\n",
    "    print(output.columns)\n",
    "    return output\n",
    "\n"
   ]
  },
  {
   "cell_type": "code",
   "execution_count": 6,
   "id": "7f377e91",
   "metadata": {
    "execution": {
     "iopub.execute_input": "2025-03-18T16:08:56.950382Z",
     "iopub.status.busy": "2025-03-18T16:08:56.950382Z",
     "iopub.status.idle": "2025-03-18T16:08:57.012263Z",
     "shell.execute_reply": "2025-03-18T16:08:57.011608Z"
    },
    "papermill": {
     "duration": 0.062494,
     "end_time": "2025-03-18T16:08:57.012876",
     "exception": false,
     "start_time": "2025-03-18T16:08:56.950382",
     "status": "completed"
    },
    "tags": []
   },
   "outputs": [
    {
     "name": "stdout",
     "output_type": "stream",
     "text": [
      "各カラムの異常値の個数を表示します。\n",
      "\n"
     ]
    }
   ],
   "source": [
    "import numpy as np\n",
    "\n",
    "# 異常値のチェック\n",
    "def check_abnormal_values(df):\n",
    "    print(\"各カラムの異常値の個数を表示します。\\n\")\n",
    "\n",
    "    for col in df.columns:\n",
    "        nan_count = df[col].isna().sum()  # NaN の数\n",
    "        inf_count = (df[col] == np.inf).sum()  # inf の数\n",
    "        neg_inf_count = (df[col] == -np.inf).sum()  # -inf の数\n",
    "\n",
    "        if nan_count > 0 or inf_count > 0 or neg_inf_count > 0:\n",
    "            print(f\"Column: {col}\")\n",
    "            print(f\"  NaN    : {nan_count}\")\n",
    "            print(f\"  Inf    : {inf_count}\")\n",
    "            print(f\"  -Inf   : {neg_inf_count}\")\n",
    "            print(\"-\" * 30)\n",
    "\n",
    "# 関数を実行\n",
    "check_abnormal_values(regular_results)\n"
   ]
  },
  {
   "cell_type": "code",
   "execution_count": 7,
   "id": "69b2a48f",
   "metadata": {
    "execution": {
     "iopub.execute_input": "2025-03-18T16:08:57.028729Z",
     "iopub.status.busy": "2025-03-18T16:08:57.028218Z",
     "iopub.status.idle": "2025-03-18T16:08:57.434996Z",
     "shell.execute_reply": "2025-03-18T16:08:57.434996Z"
    },
    "papermill": {
     "duration": 0.42212,
     "end_time": "2025-03-18T16:08:57.434996",
     "exception": false,
     "start_time": "2025-03-18T16:08:57.012876",
     "status": "completed"
    },
    "tags": []
   },
   "outputs": [
    {
     "name": "stdout",
     "output_type": "stream",
     "text": [
      "<class 'pandas.core.frame.DataFrame'>\n",
      "Index: 139193 entries, 0 to 170570\n",
      "Data columns (total 56 columns):\n",
      " #   Column       Non-Null Count   Dtype  \n",
      "---  ------       --------------   -----  \n",
      " 0   Season       139193 non-null  int64  \n",
      " 1   DayNum       139193 non-null  int64  \n",
      " 2   WTeamID      139193 non-null  int64  \n",
      " 3   WScore       139193 non-null  int64  \n",
      " 4   LTeamID      139193 non-null  int64  \n",
      " 5   LScore       139193 non-null  int64  \n",
      " 6   WLoc         139193 non-null  object \n",
      " 7   NumOT        139193 non-null  int64  \n",
      " 8   WFGM         139193 non-null  int64  \n",
      " 9   WFGA         139193 non-null  int64  \n",
      " 10  WFGM3        139193 non-null  int64  \n",
      " 11  WFGA3        139193 non-null  int64  \n",
      " 12  WFTM         139193 non-null  int64  \n",
      " 13  WFTA         139193 non-null  int64  \n",
      " 14  WOR          139193 non-null  int64  \n",
      " 15  WDR          139193 non-null  int64  \n",
      " 16  WAst         139193 non-null  int64  \n",
      " 17  WTO          139193 non-null  int64  \n",
      " 18  WStl         139193 non-null  int64  \n",
      " 19  WBlk         139193 non-null  int64  \n",
      " 20  WPF          139193 non-null  int64  \n",
      " 21  LFGM         139193 non-null  int64  \n",
      " 22  LFGA         139193 non-null  int64  \n",
      " 23  LFGM3        139193 non-null  int64  \n",
      " 24  LFGA3        139193 non-null  int64  \n",
      " 25  LFTM         139193 non-null  int64  \n",
      " 26  LFTA         139193 non-null  int64  \n",
      " 27  LOR          139193 non-null  int64  \n",
      " 28  LDR          139193 non-null  int64  \n",
      " 29  LAst         139193 non-null  int64  \n",
      " 30  LTO          139193 non-null  int64  \n",
      " 31  LStl         139193 non-null  int64  \n",
      " 32  LBlk         139193 non-null  int64  \n",
      " 33  LPF          139193 non-null  int64  \n",
      " 34  WEFFG        139193 non-null  float64\n",
      " 35  LEFFG        139193 non-null  float64\n",
      " 36  WEFFG3       139193 non-null  float64\n",
      " 37  LEFFG3       139193 non-null  float64\n",
      " 38  WDARE        139193 non-null  float64\n",
      " 39  LDARE        139193 non-null  float64\n",
      " 40  WTOQUETOQUE  139193 non-null  float64\n",
      " 41  LTOQUETOQUE  139193 non-null  float64\n",
      " 42  WEFG_SUM     139193 non-null  float64\n",
      " 43  LEFG_SUM     139193 non-null  float64\n",
      " 44  WPOSS        139193 non-null  float64\n",
      " 45  LPOSS        139193 non-null  float64\n",
      " 46  WPOSS_RATE   139193 non-null  float64\n",
      " 47  LPOSS_RATE   139193 non-null  float64\n",
      " 48  WTO_RATIO    139193 non-null  float64\n",
      " 49  LTO_RATIO    139193 non-null  float64\n",
      " 50  WREB_RATE    139193 non-null  float64\n",
      " 51  LREB_RATE    139193 non-null  float64\n",
      " 52  WFT_RATE     139193 non-null  float64\n",
      " 53  LFT_RATE     139193 non-null  float64\n",
      " 54  WRATING      139193 non-null  float64\n",
      " 55  LRATING      139193 non-null  float64\n",
      "dtypes: float64(22), int64(33), object(1)\n",
      "memory usage: 60.5+ MB\n",
      "None\n"
     ]
    },
    {
     "name": "stdout",
     "output_type": "stream",
     "text": [
      "feature cols after prepare()\n",
      "Index(['Season', 'DayNum', 'T1_TeamID', 'T1_Score', 'T2_TeamID', 'T2_Score',\n",
      "       'location', 'NumOT', 'T1_FGM', 'T1_FGA', 'T1_FGM3', 'T1_FGA3', 'T1_FTM',\n",
      "       'T1_FTA', 'T1_OR', 'T1_DR', 'T1_Ast', 'T1_TO', 'T1_Stl', 'T1_Blk',\n",
      "       'T1_PF', 'T2_FGM', 'T2_FGA', 'T2_FGM3', 'T2_FGA3', 'T2_FTM', 'T2_FTA',\n",
      "       'T2_OR', 'T2_DR', 'T2_Ast', 'T2_TO', 'T2_Stl', 'T2_Blk', 'T2_PF',\n",
      "       'T1_EFFG', 'T2_EFFG', 'T1_EFFG3', 'T2_EFFG3', 'T1_DARE', 'T2_DARE',\n",
      "       'T1_TOQUETOQUE', 'T2_TOQUETOQUE', 'T1_EFG_SUM', 'T2_EFG_SUM', 'T1_POSS',\n",
      "       'T2_POSS', 'T1_POSS_RATE', 'T2_POSS_RATE', 'T1_TO_RATIO', 'T2_TO_RATIO',\n",
      "       'T1_REB_RATE', 'T2_REB_RATE', 'T1_FT_RATE', 'T2_FT_RATE', 'T1_RATING',\n",
      "       'T2_RATING', 'PointDiff', 'win'],\n",
      "      dtype='object')\n",
      "<class 'pandas.core.frame.DataFrame'>\n",
      "RangeIndex: 278386 entries, 0 to 278385\n",
      "Data columns (total 58 columns):\n",
      " #   Column         Non-Null Count   Dtype  \n",
      "---  ------         --------------   -----  \n",
      " 0   Season         278386 non-null  int64  \n",
      " 1   DayNum         278386 non-null  int64  \n",
      " 2   T1_TeamID      278386 non-null  int64  \n",
      " 3   T1_Score       278386 non-null  int64  \n",
      " 4   T2_TeamID      278386 non-null  int64  \n",
      " 5   T2_Score       278386 non-null  int64  \n",
      " 6   location       278386 non-null  int32  \n",
      " 7   NumOT          278386 non-null  int64  \n",
      " 8   T1_FGM         278386 non-null  int64  \n",
      " 9   T1_FGA         278386 non-null  int64  \n",
      " 10  T1_FGM3        278386 non-null  int64  \n",
      " 11  T1_FGA3        278386 non-null  int64  \n",
      " 12  T1_FTM         278386 non-null  int64  \n",
      " 13  T1_FTA         278386 non-null  int64  \n",
      " 14  T1_OR          278386 non-null  int64  \n",
      " 15  T1_DR          278386 non-null  int64  \n",
      " 16  T1_Ast         278386 non-null  int64  \n",
      " 17  T1_TO          278386 non-null  int64  \n",
      " 18  T1_Stl         278386 non-null  int64  \n",
      " 19  T1_Blk         278386 non-null  int64  \n",
      " 20  T1_PF          278386 non-null  int64  \n",
      " 21  T2_FGM         278386 non-null  int64  \n",
      " 22  T2_FGA         278386 non-null  int64  \n",
      " 23  T2_FGM3        278386 non-null  int64  \n",
      " 24  T2_FGA3        278386 non-null  int64  \n",
      " 25  T2_FTM         278386 non-null  int64  \n",
      " 26  T2_FTA         278386 non-null  int64  \n",
      " 27  T2_OR          278386 non-null  int64  \n",
      " 28  T2_DR          278386 non-null  int64  \n",
      " 29  T2_Ast         278386 non-null  int64  \n",
      " 30  T2_TO          278386 non-null  int64  \n",
      " 31  T2_Stl         278386 non-null  int64  \n",
      " 32  T2_Blk         278386 non-null  int64  \n",
      " 33  T2_PF          278386 non-null  int64  \n",
      " 34  T1_EFFG        278386 non-null  float64\n",
      " 35  T2_EFFG        278386 non-null  float64\n",
      " 36  T1_EFFG3       278386 non-null  float64\n",
      " 37  T2_EFFG3       278386 non-null  float64\n",
      " 38  T1_DARE        278386 non-null  float64\n",
      " 39  T2_DARE        278386 non-null  float64\n",
      " 40  T1_TOQUETOQUE  278386 non-null  float64\n",
      " 41  T2_TOQUETOQUE  278386 non-null  float64\n",
      " 42  T1_EFG_SUM     278386 non-null  float64\n",
      " 43  T2_EFG_SUM     278386 non-null  float64\n",
      " 44  T1_POSS        278386 non-null  float64\n",
      " 45  T2_POSS        278386 non-null  float64\n",
      " 46  T1_POSS_RATE   278386 non-null  float64\n",
      " 47  T2_POSS_RATE   278386 non-null  float64\n",
      " 48  T1_TO_RATIO    278386 non-null  float64\n",
      " 49  T2_TO_RATIO    278386 non-null  float64\n",
      " 50  T1_REB_RATE    278386 non-null  float64\n",
      " 51  T2_REB_RATE    278386 non-null  float64\n",
      " 52  T1_FT_RATE     278386 non-null  float64\n",
      " 53  T2_FT_RATE     278386 non-null  float64\n",
      " 54  T1_RATING      278386 non-null  float64\n",
      " 55  T2_RATING      278386 non-null  float64\n",
      " 56  PointDiff      278386 non-null  int64  \n",
      " 57  win            278386 non-null  int32  \n",
      "dtypes: float64(22), int32(2), int64(34)\n",
      "memory usage: 121.1 MB\n"
     ]
    },
    {
     "data": {
      "text/html": [
       "<div>\n",
       "<style scoped>\n",
       "    .dataframe tbody tr th:only-of-type {\n",
       "        vertical-align: middle;\n",
       "    }\n",
       "\n",
       "    .dataframe tbody tr th {\n",
       "        vertical-align: top;\n",
       "    }\n",
       "\n",
       "    .dataframe thead th {\n",
       "        text-align: right;\n",
       "    }\n",
       "</style>\n",
       "<table border=\"1\" class=\"dataframe\">\n",
       "  <thead>\n",
       "    <tr style=\"text-align: right;\">\n",
       "      <th></th>\n",
       "      <th>Season</th>\n",
       "      <th>DayNum</th>\n",
       "      <th>T1_TeamID</th>\n",
       "      <th>T1_Score</th>\n",
       "      <th>T2_TeamID</th>\n",
       "      <th>T2_Score</th>\n",
       "      <th>location</th>\n",
       "      <th>NumOT</th>\n",
       "      <th>T1_FGM</th>\n",
       "      <th>T1_FGA</th>\n",
       "      <th>...</th>\n",
       "      <th>T1_TO_RATIO</th>\n",
       "      <th>T2_TO_RATIO</th>\n",
       "      <th>T1_REB_RATE</th>\n",
       "      <th>T2_REB_RATE</th>\n",
       "      <th>T1_FT_RATE</th>\n",
       "      <th>T2_FT_RATE</th>\n",
       "      <th>T1_RATING</th>\n",
       "      <th>T2_RATING</th>\n",
       "      <th>PointDiff</th>\n",
       "      <th>win</th>\n",
       "    </tr>\n",
       "  </thead>\n",
       "  <tbody>\n",
       "    <tr>\n",
       "      <th>0</th>\n",
       "      <td>2003</td>\n",
       "      <td>10</td>\n",
       "      <td>1104</td>\n",
       "      <td>68</td>\n",
       "      <td>1328</td>\n",
       "      <td>62</td>\n",
       "      <td>0</td>\n",
       "      <td>0</td>\n",
       "      <td>27</td>\n",
       "      <td>58</td>\n",
       "      <td>...</td>\n",
       "      <td>0.258659</td>\n",
       "      <td>0.223104</td>\n",
       "      <td>0.388889</td>\n",
       "      <td>0.294118</td>\n",
       "      <td>0.310345</td>\n",
       "      <td>0.415094</td>\n",
       "      <td>0.907635</td>\n",
       "      <td>0.877193</td>\n",
       "      <td>6</td>\n",
       "      <td>1</td>\n",
       "    </tr>\n",
       "    <tr>\n",
       "      <th>1</th>\n",
       "      <td>2003</td>\n",
       "      <td>10</td>\n",
       "      <td>1272</td>\n",
       "      <td>70</td>\n",
       "      <td>1393</td>\n",
       "      <td>63</td>\n",
       "      <td>0</td>\n",
       "      <td>0</td>\n",
       "      <td>26</td>\n",
       "      <td>62</td>\n",
       "      <td>...</td>\n",
       "      <td>0.155950</td>\n",
       "      <td>0.136674</td>\n",
       "      <td>0.375000</td>\n",
       "      <td>0.416667</td>\n",
       "      <td>0.306452</td>\n",
       "      <td>0.298507</td>\n",
       "      <td>1.023991</td>\n",
       "      <td>0.929204</td>\n",
       "      <td>7</td>\n",
       "      <td>1</td>\n",
       "    </tr>\n",
       "    <tr>\n",
       "      <th>2</th>\n",
       "      <td>2003</td>\n",
       "      <td>11</td>\n",
       "      <td>1266</td>\n",
       "      <td>73</td>\n",
       "      <td>1437</td>\n",
       "      <td>61</td>\n",
       "      <td>0</td>\n",
       "      <td>0</td>\n",
       "      <td>24</td>\n",
       "      <td>58</td>\n",
       "      <td>...</td>\n",
       "      <td>0.123824</td>\n",
       "      <td>0.126156</td>\n",
       "      <td>0.435897</td>\n",
       "      <td>0.543860</td>\n",
       "      <td>0.500000</td>\n",
       "      <td>0.315068</td>\n",
       "      <td>1.144918</td>\n",
       "      <td>0.951341</td>\n",
       "      <td>12</td>\n",
       "      <td>1</td>\n",
       "    </tr>\n",
       "    <tr>\n",
       "      <th>3</th>\n",
       "      <td>2003</td>\n",
       "      <td>11</td>\n",
       "      <td>1296</td>\n",
       "      <td>56</td>\n",
       "      <td>1457</td>\n",
       "      <td>50</td>\n",
       "      <td>0</td>\n",
       "      <td>0</td>\n",
       "      <td>18</td>\n",
       "      <td>38</td>\n",
       "      <td>...</td>\n",
       "      <td>0.188561</td>\n",
       "      <td>0.254692</td>\n",
       "      <td>0.230769</td>\n",
       "      <td>0.472222</td>\n",
       "      <td>0.815789</td>\n",
       "      <td>0.306122</td>\n",
       "      <td>0.971548</td>\n",
       "      <td>0.868056</td>\n",
       "      <td>6</td>\n",
       "      <td>1</td>\n",
       "    </tr>\n",
       "    <tr>\n",
       "      <th>4</th>\n",
       "      <td>2003</td>\n",
       "      <td>11</td>\n",
       "      <td>1400</td>\n",
       "      <td>77</td>\n",
       "      <td>1208</td>\n",
       "      <td>71</td>\n",
       "      <td>0</td>\n",
       "      <td>0</td>\n",
       "      <td>30</td>\n",
       "      <td>61</td>\n",
       "      <td>...</td>\n",
       "      <td>0.173439</td>\n",
       "      <td>0.119218</td>\n",
       "      <td>0.531250</td>\n",
       "      <td>0.488372</td>\n",
       "      <td>0.213115</td>\n",
       "      <td>0.435484</td>\n",
       "      <td>1.208412</td>\n",
       "      <td>1.129135</td>\n",
       "      <td>6</td>\n",
       "      <td>1</td>\n",
       "    </tr>\n",
       "  </tbody>\n",
       "</table>\n",
       "<p>5 rows × 58 columns</p>\n",
       "</div>"
      ],
      "text/plain": [
       "   Season  DayNum  T1_TeamID  T1_Score  T2_TeamID  T2_Score  location  NumOT  \\\n",
       "0    2003      10       1104        68       1328        62         0      0   \n",
       "1    2003      10       1272        70       1393        63         0      0   \n",
       "2    2003      11       1266        73       1437        61         0      0   \n",
       "3    2003      11       1296        56       1457        50         0      0   \n",
       "4    2003      11       1400        77       1208        71         0      0   \n",
       "\n",
       "   T1_FGM  T1_FGA  ...  T1_TO_RATIO  T2_TO_RATIO  T1_REB_RATE  T2_REB_RATE  \\\n",
       "0      27      58  ...     0.258659     0.223104     0.388889     0.294118   \n",
       "1      26      62  ...     0.155950     0.136674     0.375000     0.416667   \n",
       "2      24      58  ...     0.123824     0.126156     0.435897     0.543860   \n",
       "3      18      38  ...     0.188561     0.254692     0.230769     0.472222   \n",
       "4      30      61  ...     0.173439     0.119218     0.531250     0.488372   \n",
       "\n",
       "   T1_FT_RATE  T2_FT_RATE  T1_RATING  T2_RATING  PointDiff  win  \n",
       "0    0.310345    0.415094   0.907635   0.877193          6    1  \n",
       "1    0.306452    0.298507   1.023991   0.929204          7    1  \n",
       "2    0.500000    0.315068   1.144918   0.951341         12    1  \n",
       "3    0.815789    0.306122   0.971548   0.868056          6    1  \n",
       "4    0.213115    0.435484   1.208412   1.129135          6    1  \n",
       "\n",
       "[5 rows x 58 columns]"
      ]
     },
     "metadata": {},
     "output_type": "display_data"
    },
    {
     "data": {
      "text/plain": [
       "None"
      ]
     },
     "metadata": {},
     "output_type": "display_data"
    }
   ],
   "source": [
    "#予測する年以降の情報はフィルタリング\n",
    "USE_START_YEAR = cfg.exp.tournament.use_start_season\n",
    "notexist = tourney_results[tourney_results[\"Season\"] == PREDICT_YEAR]\n",
    "tourney_results = tourney_results[(tourney_results[\"Season\"] >= USE_START_YEAR) & (tourney_results[\"Season\"] < PREDICT_YEAR)]\n",
    "seeds = seeds[(seeds[\"Season\"] >= USE_START_YEAR) & (seeds[\"Season\"] <= PREDICT_YEAR)]\n",
    "regular_results = regular_results[(regular_results[\"Season\"] >= USE_START_YEAR) & (regular_results[\"Season\"] <= PREDICT_YEAR)]\n",
    "\n",
    "regular_data = prepare_data(regular_results)\n",
    "display(regular_data.head(), regular_data.info())"
   ]
  },
  {
   "cell_type": "code",
   "execution_count": 8,
   "id": "d1317241",
   "metadata": {
    "execution": {
     "iopub.execute_input": "2025-03-18T16:08:57.450778Z",
     "iopub.status.busy": "2025-03-18T16:08:57.450778Z",
     "iopub.status.idle": "2025-03-18T16:08:57.466239Z",
     "shell.execute_reply": "2025-03-18T16:08:57.465174Z"
    },
    "papermill": {
     "duration": 0.032192,
     "end_time": "2025-03-18T16:08:57.467188",
     "exception": false,
     "start_time": "2025-03-18T16:08:57.434996",
     "status": "completed"
    },
    "tags": []
   },
   "outputs": [],
   "source": [
    "#使用特徴量(boxscore_cols)を取得してそれに対して(\"Season\", 'T1_TeamID')でまとめた特徴量の追加\n",
    "#### 1. win_ration_14d ####\n",
    "def add_win_ratio_14d(df):\n",
    "    df_filtered = df[df['DayNum'] > 118].copy()\n",
    "    df_filtered['Win'] = (df_filtered['PointDiff'] > 0).astype(int)\n",
    "    \n",
    "    win_ratio_t1 = df_filtered.groupby(['Season', 'T1_TeamID'])['Win'].mean().reset_index()\n",
    "    win_ratio_t1.rename(columns={'Win': 'T1_win_ratio_14d'}, inplace=True)\n",
    "    \n",
    "    win_ratio_t2 = df_filtered.groupby(['Season', 'T2_TeamID'])['Win'].mean().reset_index()\n",
    "    win_ratio_t2.rename(columns={'Win': 'T2_win_ratio_14d'}, inplace=True)\n",
    "    \n",
    "    df = df.merge(win_ratio_t1, on=['Season', 'T1_TeamID'], how='left')\n",
    "    df = df.merge(win_ratio_t2, on=['Season', 'T2_TeamID'], how='left')\n",
    "    \n",
    "    return df\n",
    "\n",
    "##### 2. add mean of boxscore ####\n",
    "def make_col_avg(df, boxscore, group = [\"Season\", \"T1_TeamID\"], func= [np.mean]):\n",
    "    df_stat = df.groupby(group)[boxscore].agg(func)\n",
    "    df_stat.columns = [''.join(col).strip() for col in df_stat.columns.values]\n",
    "    df_stat = df_stat.reset_index()\n",
    "\n",
    "    win_ratio_cols = ['T1_win_ratio_14d'] #ここマージの関係からT2_win_ratio_14dを外したけど大丈夫か考える\n",
    "    df_win_ratio = df[group + win_ratio_cols].drop_duplicates()\n",
    "    df_stat = df_stat.merge(df_win_ratio, on=group, how='left')\n",
    "    \n",
    "    return df_stat\n",
    "\n",
    "#### 3. add team quality ####\n",
    "# 3.0 ロジスティックを行うためのregular_season_effectsデータフレームの作成\n",
    "def make_regular_season_effects(df):\n",
    "    regular_season_effects = df[['Season', 'T1_TeamID', 'T2_TeamID', 'PointDiff']].copy()\n",
    "    regular_season_effects['win'] = np.where(regular_season_effects['PointDiff'] > 0, 1, 0)\n",
    "    return regular_season_effects\n",
    "\n",
    "# 3.1\n",
    "#各シーズンごとの総当たりに対するロジスティック回帰を行う\n",
    "#目的変数はfeatureenginneringから作成したPointDiffの正負に依存するWinとする.\n",
    "#新たな特徴量\"quarity\"をseasonごとの戦績をもとにロジスティックの回帰係数として導入している\n",
    "def team_quality(season,df):\n",
    "    season_data = df[df[\"Season\"] == season]\n",
    "    X = season_data[['T1_TeamID', 'T2_TeamID']]\n",
    "    y = season_data['win']\n",
    "    print(X.shape, y.shape)\n",
    "    encoder = OneHotEncoder(sparse_output=False) #多重共線性防止, 密行列指定\n",
    "    X_encoded = encoder.fit_transform(X)\n",
    "    \n",
    "    model = LogisticRegression(fit_intercept=False)\n",
    "    model.fit(X_encoded, y)\n",
    "    team_ids = encoder.get_feature_names_out(['T1_TeamID', 'T2_TeamID'])\n",
    "\n",
    "    \n",
    "    #quarity: (チーム数)*2(ID, 回帰係数)\n",
    "    quality = pd.DataFrame({\n",
    "        'TeamID': team_ids,\n",
    "        'quality': model.coef_.flatten() #T1_TeamID_1112,,,の形でチーム数分の回帰係数が入る\n",
    "    })\n",
    "\n",
    "    # 値をint 1112 のように整形\n",
    "    quality = quality[quality['TeamID'].str.contains('T1_TeamID')]\n",
    "    quality['TeamID'] = quality['TeamID'].str.replace('T1_TeamID_', '', regex=True).astype(int)\n",
    "    quality['Season'] = season\n",
    "\n",
    "    #display(quality.head())\n",
    "    print(f\"fin make {season}'s team quarity\")\n",
    "    return quality\n",
    "\n",
    "# 4. add seed\n",
    "def add_seed(df, seeds):\n",
    "    temp = seeds.copy()\n",
    "    temp['Seed'] = temp['Seed'].apply(lambda x: int(x[1:3]))\n",
    "    temp.columns = ['Season','T1_seed','T1_TeamID']\n",
    "    df = pd.merge(df, temp, on=[\"Season\", \"T1_TeamID\"], how=\"left\")\n",
    "    return df \n",
    "\n",
    "# 5. add Ordinal rank\n",
    "def add_ordinalrank(df, ordinal):\n",
    "    df_rank = ordinal.groupby([\"Season\", \"TeamID\"])[\"OrdinalRank\"].agg(np.mean).reset_index()\n",
    "    df_rank.head()\n",
    "    ranks = df_rank.rename(columns={'TeamID': 'T1_TeamID', 'OrdinalRank': 'T1_OrdinalRank'})\n",
    "    df = pd.merge(df,ranks,on = [\"Season\",\"T1_TeamID\"],how = \"left\")\n",
    "    return df\n",
    "\n",
    "# main \n",
    "def make_season_statistics(df, boxscore, seeds, func = [np.mean]):\n",
    "    # 1. Win Ratio の計算と追加\n",
    "    add_win = add_win_ratio_14d(df)\n",
    "    print(\"after add win ratio\")\n",
    "    print(add_win.columns)  \n",
    "    \n",
    "    #2. \n",
    "    add_mean = make_col_avg(add_win, boxscore)\n",
    "    print(\"after mean of boxscore\")\n",
    "    print(add_mean.columns)\n",
    "    \n",
    "    #3. \n",
    "    global PREDICT_YEAR, USE_START_YEAR\n",
    "    start_season = max(FEATURES.start_quality_season, USE_START_YEAR)\n",
    "    print(f\"use season for quality feature is: {start_season}\")\n",
    "    regular_season_effects = make_regular_season_effects(df)\n",
    "    glm_season = [i for i in range(start_season, PREDICT_YEAR+1)]\n",
    "\n",
    "    if 2020 in glm_season:\n",
    "        glm_season.remove(2020)\n",
    "    glm_quality = pd.concat([team_quality(season, regular_season_effects) for season in glm_season]).reset_index(drop=True)\n",
    "    # add glm quality \n",
    "    glm_quality_T1 = glm_quality.rename(columns={'TeamID': 'T1_TeamID', 'quality': 'T1_quality'})\n",
    "    add_glm = add_mean.merge(glm_quality_T1, on=['Season', 'T1_TeamID'], how='left')\n",
    "\n",
    "    print(\"add glm quality\")\n",
    "    print(add_glm.columns)\n",
    "    \n",
    "    #4. \n",
    "    add_seeds = add_seed(add_glm, seeds)\n",
    "    print(\"add seeds (final form)\")\n",
    "    print(add_seeds.columns)\n",
    "    \n",
    "    #5. \n",
    "    add_rank = add_ordinalrank(add_seeds, ordinal_rank)\n",
    "    print(\"add ordinal rank\")\n",
    "    print(add_rank.columns)  \n",
    "    return add_rank"
   ]
  },
  {
   "cell_type": "code",
   "execution_count": 9,
   "id": "0a60d6e3",
   "metadata": {
    "execution": {
     "iopub.execute_input": "2025-03-18T16:08:57.483698Z",
     "iopub.status.busy": "2025-03-18T16:08:57.482655Z",
     "iopub.status.idle": "2025-03-18T16:09:00.553261Z",
     "shell.execute_reply": "2025-03-18T16:09:00.553261Z"
    },
    "papermill": {
     "duration": 3.079072,
     "end_time": "2025-03-18T16:09:00.553261",
     "exception": false,
     "start_time": "2025-03-18T16:08:57.474189",
     "status": "completed"
    },
    "tags": []
   },
   "outputs": [
    {
     "name": "stdout",
     "output_type": "stream",
     "text": [
      "use boxscore col is\n",
      "['T1_Score', 'T2_Score', 'PointDiff', 'T1_FGA', 'T2_FGA', 'T1_FGM', 'T2_FGM', 'T1_EFG_SUM', 'T2_EFG_SUM', 'T1_TO_RATIO', 'T2_TO_RATIO', 'T1_OR', 'T2_OR', 'T1_DR', 'T2_DR', 'T1_REB_RATE', 'T2_REB_RATE', 'T1_FT_RATE', 'T2_FT_RATE', 'T1_POSS_RATE', 'T2_POSS_RATE', 'T1_Ast', 'T2_Ast', 'T1_TO', 'T2_TO', 'T1_Stl', 'T2_Stl', 'T1_Blk', 'T2_Blk', 'T1_PF', 'T2_PF']\n"
     ]
    },
    {
     "name": "stdout",
     "output_type": "stream",
     "text": [
      "after add win ratio\n",
      "Index(['Season', 'DayNum', 'T1_TeamID', 'T1_Score', 'T2_TeamID', 'T2_Score',\n",
      "       'location', 'NumOT', 'T1_FGM', 'T1_FGA', 'T1_FGM3', 'T1_FGA3', 'T1_FTM',\n",
      "       'T1_FTA', 'T1_OR', 'T1_DR', 'T1_Ast', 'T1_TO', 'T1_Stl', 'T1_Blk',\n",
      "       'T1_PF', 'T2_FGM', 'T2_FGA', 'T2_FGM3', 'T2_FGA3', 'T2_FTM', 'T2_FTA',\n",
      "       'T2_OR', 'T2_DR', 'T2_Ast', 'T2_TO', 'T2_Stl', 'T2_Blk', 'T2_PF',\n",
      "       'T1_EFFG', 'T2_EFFG', 'T1_EFFG3', 'T2_EFFG3', 'T1_DARE', 'T2_DARE',\n",
      "       'T1_TOQUETOQUE', 'T2_TOQUETOQUE', 'T1_EFG_SUM', 'T2_EFG_SUM', 'T1_POSS',\n",
      "       'T2_POSS', 'T1_POSS_RATE', 'T2_POSS_RATE', 'T1_TO_RATIO', 'T2_TO_RATIO',\n",
      "       'T1_REB_RATE', 'T2_REB_RATE', 'T1_FT_RATE', 'T2_FT_RATE', 'T1_RATING',\n",
      "       'T2_RATING', 'PointDiff', 'win', 'T1_win_ratio_14d',\n",
      "       'T2_win_ratio_14d'],\n",
      "      dtype='object')\n"
     ]
    },
    {
     "name": "stdout",
     "output_type": "stream",
     "text": [
      "after mean of boxscore\n",
      "Index(['Season', 'T1_TeamID', 'T1_Scoremean', 'T2_Scoremean', 'PointDiffmean',\n",
      "       'T1_FGAmean', 'T2_FGAmean', 'T1_FGMmean', 'T2_FGMmean',\n",
      "       'T1_EFG_SUMmean', 'T2_EFG_SUMmean', 'T1_TO_RATIOmean',\n",
      "       'T2_TO_RATIOmean', 'T1_ORmean', 'T2_ORmean', 'T1_DRmean', 'T2_DRmean',\n",
      "       'T1_REB_RATEmean', 'T2_REB_RATEmean', 'T1_FT_RATEmean',\n",
      "       'T2_FT_RATEmean', 'T1_POSS_RATEmean', 'T2_POSS_RATEmean', 'T1_Astmean',\n",
      "       'T2_Astmean', 'T1_TOmean', 'T2_TOmean', 'T1_Stlmean', 'T2_Stlmean',\n",
      "       'T1_Blkmean', 'T2_Blkmean', 'T1_PFmean', 'T2_PFmean',\n",
      "       'T1_win_ratio_14d'],\n",
      "      dtype='object')\n",
      "use season for quality feature is: 2003\n",
      "(9232, 2) (9232,)\n",
      "fin make 2003's team quarity\n",
      "(9142, 2) (9142,)\n",
      "fin make 2004's team quarity\n",
      "(9350, 2) (9350,)\n"
     ]
    },
    {
     "name": "stderr",
     "output_type": "stream",
     "text": [
      "C:\\Users\\81809\\AppData\\Local\\Temp\\ipykernel_22492\\386782032.py:20: FutureWarning: The provided callable <function mean at 0x000001B2F5E46520> is currently using SeriesGroupBy.mean. In a future version of pandas, the provided callable will be used directly. To keep current behavior pass the string \"mean\" instead.\n",
      "  df_stat = df.groupby(group)[boxscore].agg(func)\n"
     ]
    },
    {
     "name": "stdout",
     "output_type": "stream",
     "text": [
      "fin make 2005's team quarity\n",
      "(9514, 2) (9514,)\n",
      "fin make 2006's team quarity\n",
      "(10086, 2) (10086,)\n"
     ]
    },
    {
     "name": "stdout",
     "output_type": "stream",
     "text": [
      "fin make 2007's team quarity\n",
      "(10326, 2) (10326,)\n",
      "fin make 2008's team quarity\n",
      "(10498, 2) (10498,)\n",
      "fin make 2009's team quarity\n",
      "(20600, 2) (20600,)\n"
     ]
    },
    {
     "name": "stdout",
     "output_type": "stream",
     "text": [
      "fin make 2010's team quarity\n",
      "(20660, 2) (20660,)\n",
      "fin make 2011's team quarity\n",
      "(20606, 2) (20606,)\n"
     ]
    },
    {
     "name": "stdout",
     "output_type": "stream",
     "text": [
      "fin make 2012's team quarity\n",
      "(21008, 2) (21008,)\n"
     ]
    },
    {
     "name": "stdout",
     "output_type": "stream",
     "text": [
      "fin make 2013's team quarity\n",
      "(21228, 2) (21228,)\n",
      "fin make 2014's team quarity\n",
      "(21136, 2) (21136,)\n"
     ]
    },
    {
     "name": "stdout",
     "output_type": "stream",
     "text": [
      "fin make 2015's team quarity\n",
      "(21156, 2) (21156,)\n",
      "fin make 2016's team quarity\n",
      "(21210, 2) (21210,)\n"
     ]
    },
    {
     "name": "stdout",
     "output_type": "stream",
     "text": [
      "fin make 2017's team quarity\n",
      "(21228, 2) (21228,)\n"
     ]
    },
    {
     "name": "stdout",
     "output_type": "stream",
     "text": [
      "fin make 2018's team quarity\n",
      "(21406, 2) (21406,)\n",
      "fin make 2019's team quarity\n",
      "add glm quality\n",
      "Index(['Season', 'T1_TeamID', 'T1_Scoremean', 'T2_Scoremean', 'PointDiffmean',\n",
      "       'T1_FGAmean', 'T2_FGAmean', 'T1_FGMmean', 'T2_FGMmean',\n",
      "       'T1_EFG_SUMmean', 'T2_EFG_SUMmean', 'T1_TO_RATIOmean',\n",
      "       'T2_TO_RATIOmean', 'T1_ORmean', 'T2_ORmean', 'T1_DRmean', 'T2_DRmean',\n",
      "       'T1_REB_RATEmean', 'T2_REB_RATEmean', 'T1_FT_RATEmean',\n",
      "       'T2_FT_RATEmean', 'T1_POSS_RATEmean', 'T2_POSS_RATEmean', 'T1_Astmean',\n",
      "       'T2_Astmean', 'T1_TOmean', 'T2_TOmean', 'T1_Stlmean', 'T2_Stlmean',\n",
      "       'T1_Blkmean', 'T2_Blkmean', 'T1_PFmean', 'T2_PFmean',\n",
      "       'T1_win_ratio_14d', 'T1_quality'],\n",
      "      dtype='object')\n",
      "add seeds (final form)\n",
      "Index(['Season', 'T1_TeamID', 'T1_Scoremean', 'T2_Scoremean', 'PointDiffmean',\n",
      "       'T1_FGAmean', 'T2_FGAmean', 'T1_FGMmean', 'T2_FGMmean',\n",
      "       'T1_EFG_SUMmean', 'T2_EFG_SUMmean', 'T1_TO_RATIOmean',\n",
      "       'T2_TO_RATIOmean', 'T1_ORmean', 'T2_ORmean', 'T1_DRmean', 'T2_DRmean',\n",
      "       'T1_REB_RATEmean', 'T2_REB_RATEmean', 'T1_FT_RATEmean',\n",
      "       'T2_FT_RATEmean', 'T1_POSS_RATEmean', 'T2_POSS_RATEmean', 'T1_Astmean',\n",
      "       'T2_Astmean', 'T1_TOmean', 'T2_TOmean', 'T1_Stlmean', 'T2_Stlmean',\n",
      "       'T1_Blkmean', 'T2_Blkmean', 'T1_PFmean', 'T2_PFmean',\n",
      "       'T1_win_ratio_14d', 'T1_quality', 'T1_seed'],\n",
      "      dtype='object')\n"
     ]
    },
    {
     "name": "stderr",
     "output_type": "stream",
     "text": [
      "C:\\Users\\81809\\AppData\\Local\\Temp\\ipykernel_22492\\386782032.py:79: FutureWarning: The provided callable <function mean at 0x000001B2F5E46520> is currently using SeriesGroupBy.mean. In a future version of pandas, the provided callable will be used directly. To keep current behavior pass the string \"mean\" instead.\n",
      "  df_rank = ordinal.groupby([\"Season\", \"TeamID\"])[\"OrdinalRank\"].agg(np.mean).reset_index()\n"
     ]
    },
    {
     "name": "stdout",
     "output_type": "stream",
     "text": [
      "add ordinal rank\n",
      "Index(['Season', 'T1_TeamID', 'T1_Scoremean', 'T2_Scoremean', 'PointDiffmean',\n",
      "       'T1_FGAmean', 'T2_FGAmean', 'T1_FGMmean', 'T2_FGMmean',\n",
      "       'T1_EFG_SUMmean', 'T2_EFG_SUMmean', 'T1_TO_RATIOmean',\n",
      "       'T2_TO_RATIOmean', 'T1_ORmean', 'T2_ORmean', 'T1_DRmean', 'T2_DRmean',\n",
      "       'T1_REB_RATEmean', 'T2_REB_RATEmean', 'T1_FT_RATEmean',\n",
      "       'T2_FT_RATEmean', 'T1_POSS_RATEmean', 'T2_POSS_RATEmean', 'T1_Astmean',\n",
      "       'T2_Astmean', 'T1_TOmean', 'T2_TOmean', 'T1_Stlmean', 'T2_Stlmean',\n",
      "       'T1_Blkmean', 'T2_Blkmean', 'T1_PFmean', 'T2_PFmean',\n",
      "       'T1_win_ratio_14d', 'T1_quality', 'T1_seed', 'T1_OrdinalRank'],\n",
      "      dtype='object')\n"
     ]
    },
    {
     "data": {
      "text/html": [
       "<div>\n",
       "<style scoped>\n",
       "    .dataframe tbody tr th:only-of-type {\n",
       "        vertical-align: middle;\n",
       "    }\n",
       "\n",
       "    .dataframe tbody tr th {\n",
       "        vertical-align: top;\n",
       "    }\n",
       "\n",
       "    .dataframe thead th {\n",
       "        text-align: right;\n",
       "    }\n",
       "</style>\n",
       "<table border=\"1\" class=\"dataframe\">\n",
       "  <thead>\n",
       "    <tr style=\"text-align: right;\">\n",
       "      <th></th>\n",
       "      <th>Season</th>\n",
       "      <th>T1_TeamID</th>\n",
       "      <th>T1_Scoremean</th>\n",
       "      <th>T2_Scoremean</th>\n",
       "      <th>PointDiffmean</th>\n",
       "      <th>T1_FGAmean</th>\n",
       "      <th>T2_FGAmean</th>\n",
       "      <th>T1_FGMmean</th>\n",
       "      <th>T2_FGMmean</th>\n",
       "      <th>T1_EFG_SUMmean</th>\n",
       "      <th>...</th>\n",
       "      <th>T1_Stlmean</th>\n",
       "      <th>T2_Stlmean</th>\n",
       "      <th>T1_Blkmean</th>\n",
       "      <th>T2_Blkmean</th>\n",
       "      <th>T1_PFmean</th>\n",
       "      <th>T2_PFmean</th>\n",
       "      <th>T1_win_ratio_14d</th>\n",
       "      <th>T1_quality</th>\n",
       "      <th>T1_seed</th>\n",
       "      <th>T1_OrdinalRank</th>\n",
       "    </tr>\n",
       "  </thead>\n",
       "  <tbody>\n",
       "    <tr>\n",
       "      <th>9298</th>\n",
       "      <td>2019</td>\n",
       "      <td>3462</td>\n",
       "      <td>60.862069</td>\n",
       "      <td>66.482759</td>\n",
       "      <td>-5.620690</td>\n",
       "      <td>57.517241</td>\n",
       "      <td>59.758621</td>\n",
       "      <td>21.896552</td>\n",
       "      <td>24.448276</td>\n",
       "      <td>0.448019</td>\n",
       "      <td>...</td>\n",
       "      <td>7.586207</td>\n",
       "      <td>7.758621</td>\n",
       "      <td>2.586207</td>\n",
       "      <td>3.172414</td>\n",
       "      <td>15.241379</td>\n",
       "      <td>15.172414</td>\n",
       "      <td>0.0</td>\n",
       "      <td>-0.296941</td>\n",
       "      <td>NaN</td>\n",
       "      <td>NaN</td>\n",
       "    </tr>\n",
       "    <tr>\n",
       "      <th>9299</th>\n",
       "      <td>2019</td>\n",
       "      <td>3463</td>\n",
       "      <td>63.344828</td>\n",
       "      <td>61.551724</td>\n",
       "      <td>1.793103</td>\n",
       "      <td>60.517241</td>\n",
       "      <td>60.379310</td>\n",
       "      <td>23.724138</td>\n",
       "      <td>21.965517</td>\n",
       "      <td>0.438814</td>\n",
       "      <td>...</td>\n",
       "      <td>5.172414</td>\n",
       "      <td>8.344828</td>\n",
       "      <td>3.586207</td>\n",
       "      <td>2.517241</td>\n",
       "      <td>16.448276</td>\n",
       "      <td>17.551724</td>\n",
       "      <td>0.0</td>\n",
       "      <td>0.134368</td>\n",
       "      <td>NaN</td>\n",
       "      <td>NaN</td>\n",
       "    </tr>\n",
       "    <tr>\n",
       "      <th>9300</th>\n",
       "      <td>2019</td>\n",
       "      <td>3464</td>\n",
       "      <td>68.137931</td>\n",
       "      <td>58.000000</td>\n",
       "      <td>10.137931</td>\n",
       "      <td>55.758621</td>\n",
       "      <td>58.655172</td>\n",
       "      <td>23.241379</td>\n",
       "      <td>21.862069</td>\n",
       "      <td>0.494845</td>\n",
       "      <td>...</td>\n",
       "      <td>4.344828</td>\n",
       "      <td>7.448276</td>\n",
       "      <td>3.482759</td>\n",
       "      <td>3.482759</td>\n",
       "      <td>13.862069</td>\n",
       "      <td>17.896552</td>\n",
       "      <td>0.5</td>\n",
       "      <td>0.638405</td>\n",
       "      <td>NaN</td>\n",
       "      <td>NaN</td>\n",
       "    </tr>\n",
       "    <tr>\n",
       "      <th>9301</th>\n",
       "      <td>2019</td>\n",
       "      <td>3465</td>\n",
       "      <td>76.200000</td>\n",
       "      <td>69.840000</td>\n",
       "      <td>6.360000</td>\n",
       "      <td>67.520000</td>\n",
       "      <td>69.200000</td>\n",
       "      <td>28.560000</td>\n",
       "      <td>26.600000</td>\n",
       "      <td>0.493625</td>\n",
       "      <td>...</td>\n",
       "      <td>7.280000</td>\n",
       "      <td>7.920000</td>\n",
       "      <td>3.160000</td>\n",
       "      <td>3.160000</td>\n",
       "      <td>15.520000</td>\n",
       "      <td>15.440000</td>\n",
       "      <td>0.5</td>\n",
       "      <td>-0.182555</td>\n",
       "      <td>NaN</td>\n",
       "      <td>NaN</td>\n",
       "    </tr>\n",
       "    <tr>\n",
       "      <th>9302</th>\n",
       "      <td>2019</td>\n",
       "      <td>3466</td>\n",
       "      <td>69.521739</td>\n",
       "      <td>63.217391</td>\n",
       "      <td>6.304348</td>\n",
       "      <td>58.434783</td>\n",
       "      <td>58.260870</td>\n",
       "      <td>24.869565</td>\n",
       "      <td>23.913043</td>\n",
       "      <td>0.478102</td>\n",
       "      <td>...</td>\n",
       "      <td>8.478261</td>\n",
       "      <td>8.478261</td>\n",
       "      <td>3.695652</td>\n",
       "      <td>3.217391</td>\n",
       "      <td>17.478261</td>\n",
       "      <td>19.173913</td>\n",
       "      <td>0.0</td>\n",
       "      <td>0.107970</td>\n",
       "      <td>NaN</td>\n",
       "      <td>NaN</td>\n",
       "    </tr>\n",
       "  </tbody>\n",
       "</table>\n",
       "<p>5 rows × 37 columns</p>\n",
       "</div>"
      ],
      "text/plain": [
       "      Season  T1_TeamID  T1_Scoremean  T2_Scoremean  PointDiffmean  \\\n",
       "9298    2019       3462     60.862069     66.482759      -5.620690   \n",
       "9299    2019       3463     63.344828     61.551724       1.793103   \n",
       "9300    2019       3464     68.137931     58.000000      10.137931   \n",
       "9301    2019       3465     76.200000     69.840000       6.360000   \n",
       "9302    2019       3466     69.521739     63.217391       6.304348   \n",
       "\n",
       "      T1_FGAmean  T2_FGAmean  T1_FGMmean  T2_FGMmean  T1_EFG_SUMmean  ...  \\\n",
       "9298   57.517241   59.758621   21.896552   24.448276        0.448019  ...   \n",
       "9299   60.517241   60.379310   23.724138   21.965517        0.438814  ...   \n",
       "9300   55.758621   58.655172   23.241379   21.862069        0.494845  ...   \n",
       "9301   67.520000   69.200000   28.560000   26.600000        0.493625  ...   \n",
       "9302   58.434783   58.260870   24.869565   23.913043        0.478102  ...   \n",
       "\n",
       "      T1_Stlmean  T2_Stlmean  T1_Blkmean  T2_Blkmean  T1_PFmean  T2_PFmean  \\\n",
       "9298    7.586207    7.758621    2.586207    3.172414  15.241379  15.172414   \n",
       "9299    5.172414    8.344828    3.586207    2.517241  16.448276  17.551724   \n",
       "9300    4.344828    7.448276    3.482759    3.482759  13.862069  17.896552   \n",
       "9301    7.280000    7.920000    3.160000    3.160000  15.520000  15.440000   \n",
       "9302    8.478261    8.478261    3.695652    3.217391  17.478261  19.173913   \n",
       "\n",
       "      T1_win_ratio_14d  T1_quality  T1_seed  T1_OrdinalRank  \n",
       "9298               0.0   -0.296941      NaN             NaN  \n",
       "9299               0.0    0.134368      NaN             NaN  \n",
       "9300               0.5    0.638405      NaN             NaN  \n",
       "9301               0.5   -0.182555      NaN             NaN  \n",
       "9302               0.0    0.107970      NaN             NaN  \n",
       "\n",
       "[5 rows x 37 columns]"
      ]
     },
     "execution_count": 9,
     "metadata": {},
     "output_type": "execute_result"
    }
   ],
   "source": [
    "features = FEATURES.cal_mean_boxscore\n",
    "boxscore_cols = [col for col, use in features.items() if use]\n",
    "print(\"use boxscore col is\")\n",
    "print(boxscore_cols)\n",
    "\n",
    "season_statistics = make_season_statistics(regular_data, boxscore_cols, seeds, func = [np.mean])\n",
    "season_statistics.tail()"
   ]
  },
  {
   "cell_type": "code",
   "execution_count": 10,
   "id": "ef0107b9",
   "metadata": {
    "execution": {
     "iopub.execute_input": "2025-03-18T16:09:00.565123Z",
     "iopub.status.busy": "2025-03-18T16:09:00.565123Z",
     "iopub.status.idle": "2025-03-18T16:09:00.580349Z",
     "shell.execute_reply": "2025-03-18T16:09:00.580349Z"
    },
    "papermill": {
     "duration": 0.019001,
     "end_time": "2025-03-18T16:09:00.582430",
     "exception": false,
     "start_time": "2025-03-18T16:09:00.563429",
     "status": "completed"
    },
    "tags": []
   },
   "outputs": [
    {
     "name": "stdout",
     "output_type": "stream",
     "text": [
      "<class 'pandas.core.frame.DataFrame'>\n",
      "RangeIndex: 9303 entries, 0 to 9302\n",
      "Data columns (total 37 columns):\n",
      " #   Column            Non-Null Count  Dtype  \n",
      "---  ------            --------------  -----  \n",
      " 0   Season            9303 non-null   int64  \n",
      " 1   T1_TeamID         9303 non-null   int64  \n",
      " 2   T1_Scoremean      9303 non-null   float64\n",
      " 3   T2_Scoremean      9303 non-null   float64\n",
      " 4   PointDiffmean     9303 non-null   float64\n",
      " 5   T1_FGAmean        9303 non-null   float64\n",
      " 6   T2_FGAmean        9303 non-null   float64\n",
      " 7   T1_FGMmean        9303 non-null   float64\n",
      " 8   T2_FGMmean        9303 non-null   float64\n",
      " 9   T1_EFG_SUMmean    9303 non-null   float64\n",
      " 10  T2_EFG_SUMmean    9303 non-null   float64\n",
      " 11  T1_TO_RATIOmean   9303 non-null   float64\n",
      " 12  T2_TO_RATIOmean   9303 non-null   float64\n",
      " 13  T1_ORmean         9303 non-null   float64\n",
      " 14  T2_ORmean         9303 non-null   float64\n",
      " 15  T1_DRmean         9303 non-null   float64\n",
      " 16  T2_DRmean         9303 non-null   float64\n",
      " 17  T1_REB_RATEmean   9303 non-null   float64\n",
      " 18  T2_REB_RATEmean   9303 non-null   float64\n",
      " 19  T1_FT_RATEmean    9303 non-null   float64\n",
      " 20  T2_FT_RATEmean    9303 non-null   float64\n",
      " 21  T1_POSS_RATEmean  9303 non-null   float64\n",
      " 22  T2_POSS_RATEmean  9303 non-null   float64\n",
      " 23  T1_Astmean        9303 non-null   float64\n",
      " 24  T2_Astmean        9303 non-null   float64\n",
      " 25  T1_TOmean         9303 non-null   float64\n",
      " 26  T2_TOmean         9303 non-null   float64\n",
      " 27  T1_Stlmean        9303 non-null   float64\n",
      " 28  T2_Stlmean        9303 non-null   float64\n",
      " 29  T1_Blkmean        9303 non-null   float64\n",
      " 30  T2_Blkmean        9303 non-null   float64\n",
      " 31  T1_PFmean         9303 non-null   float64\n",
      " 32  T2_PFmean         9303 non-null   float64\n",
      " 33  T1_win_ratio_14d  9000 non-null   float64\n",
      " 34  T1_quality        9303 non-null   float64\n",
      " 35  T1_seed           1772 non-null   float64\n",
      " 36  T1_OrdinalRank    5834 non-null   float64\n",
      "dtypes: float64(35), int64(2)\n",
      "memory usage: 2.6 MB\n"
     ]
    }
   ],
   "source": [
    "season_statistics.info()"
   ]
  },
  {
   "cell_type": "code",
   "execution_count": 11,
   "id": "998183c6",
   "metadata": {
    "execution": {
     "iopub.execute_input": "2025-03-18T16:09:00.598682Z",
     "iopub.status.busy": "2025-03-18T16:09:00.598682Z",
     "iopub.status.idle": "2025-03-18T16:09:00.648855Z",
     "shell.execute_reply": "2025-03-18T16:09:00.648855Z"
    },
    "papermill": {
     "duration": 0.063425,
     "end_time": "2025-03-18T16:09:00.648855",
     "exception": false,
     "start_time": "2025-03-18T16:09:00.585430",
     "status": "completed"
    },
    "tags": []
   },
   "outputs": [],
   "source": [
    "####ボックスscoreの平均に対して、過去３年の加重平均を取るときの処理 ####\n",
    "def get_mean_of_3_season(val_2ps, val_1ps, val_0ps, \n",
    "                         weight_2, weight_1, weight_0, \n",
    "                         degree_weight=1.0\n",
    "                         ):\n",
    "    weight_2 = weight_2**degree_weight\n",
    "    weight_1 = weight_1**degree_weight\n",
    "    weight_0 = weight_0**degree_weight\n",
    "    if val_2ps == 0  and val_1ps == 0:\n",
    "        return val_0ps\n",
    "    elif val_2ps == 0:\n",
    "        return (val_1ps*weight_2 + val_0ps*weight_1)/(weight_2 + weight_1)\n",
    "    else:\n",
    "        sum_of_values = val_2ps*weight_2 + val_1ps*weight_1 + val_0ps*weight_0\n",
    "        return sum_of_values/(weight_2 + weight_1 + weight_0)\n",
    "\n",
    "def get_3_feature(df_team, feature):\n",
    "    value_2_seasons_ago = 0\n",
    "    value_1_season_ago = 0\n",
    "    value_0_season_ago = 0\n",
    "    for _, val in df_team.iterrows():\n",
    "        value_2_seasons_ago = value_1_season_ago\n",
    "        value_1_season_ago = value_0_season_ago\n",
    "        value_0_season_ago = val[feature]\n",
    "    return value_2_seasons_ago, value_1_season_ago, value_0_season_ago\n",
    "\n",
    "def write_mean_of_3_seasons(df, features, weight, degree_weight=1.0):\n",
    "    \"\"\"\n",
    "    val_0ps - current season value\n",
    "    weight_0 - current season weight\n",
    "    val_1ps - last season value\n",
    "    val_2ps - the value of the season before last\n",
    "    \"\"\"\n",
    "    weight_2=weight[0]\n",
    "    weight_1=weight[1]\n",
    "    weight_0=weight[2]\n",
    "    df_copy = df.copy()\n",
    "    suffix = \"_mn3s\"\n",
    "    \n",
    "    for ft in features:\n",
    "        df_copy[ft + suffix] = 0\n",
    "    for idx, val in tqdm(df_copy.iterrows(), total=len(df_copy)):\n",
    "        team = val.T1_TeamID\n",
    "        season = val.Season\n",
    "        df_team = df_copy[(df_copy.T1_TeamID == team)&\n",
    "                          (df_copy.Season <= season)&\n",
    "                          (df_copy.Season > season-3)]\n",
    "        for ft in features:\n",
    "            val_2ps, val_1ps, val_0ps = get_3_feature(df_team, ft)\n",
    "            ft_mean_3 = get_mean_of_3_season(val_2ps, val_1ps, val_0ps, weight_2, weight_1, weight_0, degree_weight=degree_weight)\n",
    "            df_copy.loc[idx, ft + suffix] = ft_mean_3\n",
    "    return df_copy"
   ]
  },
  {
   "cell_type": "code",
   "execution_count": 12,
   "id": "523e6427",
   "metadata": {
    "execution": {
     "iopub.execute_input": "2025-03-18T16:09:00.662987Z",
     "iopub.status.busy": "2025-03-18T16:09:00.662987Z",
     "iopub.status.idle": "2025-03-18T16:09:00.696829Z",
     "shell.execute_reply": "2025-03-18T16:09:00.695748Z"
    },
    "papermill": {
     "duration": 0.048957,
     "end_time": "2025-03-18T16:09:00.697812",
     "exception": false,
     "start_time": "2025-03-18T16:09:00.648855",
     "status": "completed"
    },
    "tags": []
   },
   "outputs": [
    {
     "name": "stdout",
     "output_type": "stream",
     "text": [
      "#####\n",
      "skip 3 season verage\n",
      "#####\n"
     ]
    },
    {
     "data": {
      "text/html": [
       "<div>\n",
       "<style scoped>\n",
       "    .dataframe tbody tr th:only-of-type {\n",
       "        vertical-align: middle;\n",
       "    }\n",
       "\n",
       "    .dataframe tbody tr th {\n",
       "        vertical-align: top;\n",
       "    }\n",
       "\n",
       "    .dataframe thead th {\n",
       "        text-align: right;\n",
       "    }\n",
       "</style>\n",
       "<table border=\"1\" class=\"dataframe\">\n",
       "  <thead>\n",
       "    <tr style=\"text-align: right;\">\n",
       "      <th></th>\n",
       "      <th>Season</th>\n",
       "      <th>T1_TeamID</th>\n",
       "      <th>T1_Scoremean</th>\n",
       "      <th>T1_opponent_Scoremean</th>\n",
       "      <th>T1_PointDiffmean</th>\n",
       "      <th>T1_FGAmean</th>\n",
       "      <th>T1_opponent_FGAmean</th>\n",
       "      <th>T1_FGMmean</th>\n",
       "      <th>T1_opponent_FGMmean</th>\n",
       "      <th>T1_EFG_SUMmean</th>\n",
       "      <th>...</th>\n",
       "      <th>T1_Stlmean</th>\n",
       "      <th>T1_opponent_Stlmean</th>\n",
       "      <th>T1_Blkmean</th>\n",
       "      <th>T1_opponent_Blkmean</th>\n",
       "      <th>T1_PFmean</th>\n",
       "      <th>T1_opponent_PFmean</th>\n",
       "      <th>T1_win_ratio_14d</th>\n",
       "      <th>T1_quality</th>\n",
       "      <th>T1_seed</th>\n",
       "      <th>T1_OrdinalRank</th>\n",
       "    </tr>\n",
       "  </thead>\n",
       "  <tbody>\n",
       "    <tr>\n",
       "      <th>0</th>\n",
       "      <td>2003</td>\n",
       "      <td>1102</td>\n",
       "      <td>57.250000</td>\n",
       "      <td>57.000000</td>\n",
       "      <td>0.25000</td>\n",
       "      <td>39.785714</td>\n",
       "      <td>42.428571</td>\n",
       "      <td>19.142857</td>\n",
       "      <td>19.285714</td>\n",
       "      <td>0.584407</td>\n",
       "      <td>...</td>\n",
       "      <td>5.964286</td>\n",
       "      <td>5.428571</td>\n",
       "      <td>1.785714</td>\n",
       "      <td>1.571429</td>\n",
       "      <td>18.750000</td>\n",
       "      <td>18.357143</td>\n",
       "      <td>0.333333</td>\n",
       "      <td>-0.070776</td>\n",
       "      <td>NaN</td>\n",
       "      <td>144.2875</td>\n",
       "    </tr>\n",
       "    <tr>\n",
       "      <th>1</th>\n",
       "      <td>2003</td>\n",
       "      <td>1103</td>\n",
       "      <td>78.777778</td>\n",
       "      <td>78.148148</td>\n",
       "      <td>0.62963</td>\n",
       "      <td>55.851852</td>\n",
       "      <td>57.000000</td>\n",
       "      <td>27.148148</td>\n",
       "      <td>27.777778</td>\n",
       "      <td>0.536564</td>\n",
       "      <td>...</td>\n",
       "      <td>7.259259</td>\n",
       "      <td>6.407407</td>\n",
       "      <td>2.333333</td>\n",
       "      <td>2.851852</td>\n",
       "      <td>19.851852</td>\n",
       "      <td>22.444444</td>\n",
       "      <td>0.333333</td>\n",
       "      <td>-0.116192</td>\n",
       "      <td>NaN</td>\n",
       "      <td>182.2050</td>\n",
       "    </tr>\n",
       "  </tbody>\n",
       "</table>\n",
       "<p>2 rows × 37 columns</p>\n",
       "</div>"
      ],
      "text/plain": [
       "   Season  T1_TeamID  T1_Scoremean  T1_opponent_Scoremean  T1_PointDiffmean  \\\n",
       "0    2003       1102     57.250000              57.000000           0.25000   \n",
       "1    2003       1103     78.777778              78.148148           0.62963   \n",
       "\n",
       "   T1_FGAmean  T1_opponent_FGAmean  T1_FGMmean  T1_opponent_FGMmean  \\\n",
       "0   39.785714            42.428571   19.142857            19.285714   \n",
       "1   55.851852            57.000000   27.148148            27.777778   \n",
       "\n",
       "   T1_EFG_SUMmean  ...  T1_Stlmean  T1_opponent_Stlmean  T1_Blkmean  \\\n",
       "0        0.584407  ...    5.964286             5.428571    1.785714   \n",
       "1        0.536564  ...    7.259259             6.407407    2.333333   \n",
       "\n",
       "   T1_opponent_Blkmean  T1_PFmean  T1_opponent_PFmean  T1_win_ratio_14d  \\\n",
       "0             1.571429  18.750000           18.357143          0.333333   \n",
       "1             2.851852  19.851852           22.444444          0.333333   \n",
       "\n",
       "   T1_quality  T1_seed  T1_OrdinalRank  \n",
       "0   -0.070776      NaN        144.2875  \n",
       "1   -0.116192      NaN        182.2050  \n",
       "\n",
       "[2 rows x 37 columns]"
      ]
     },
     "metadata": {},
     "output_type": "display_data"
    },
    {
     "data": {
      "text/html": [
       "<div>\n",
       "<style scoped>\n",
       "    .dataframe tbody tr th:only-of-type {\n",
       "        vertical-align: middle;\n",
       "    }\n",
       "\n",
       "    .dataframe tbody tr th {\n",
       "        vertical-align: top;\n",
       "    }\n",
       "\n",
       "    .dataframe thead th {\n",
       "        text-align: right;\n",
       "    }\n",
       "</style>\n",
       "<table border=\"1\" class=\"dataframe\">\n",
       "  <thead>\n",
       "    <tr style=\"text-align: right;\">\n",
       "      <th></th>\n",
       "      <th>Season</th>\n",
       "      <th>T2_TeamID</th>\n",
       "      <th>T2_Scoremean</th>\n",
       "      <th>T2_opponent_Scoremean</th>\n",
       "      <th>T2_PointDiffmean</th>\n",
       "      <th>T2_FGAmean</th>\n",
       "      <th>T2_opponent_FGAmean</th>\n",
       "      <th>T2_FGMmean</th>\n",
       "      <th>T2_opponent_FGMmean</th>\n",
       "      <th>T2_EFG_SUMmean</th>\n",
       "      <th>...</th>\n",
       "      <th>T2_Stlmean</th>\n",
       "      <th>T2_opponent_Stlmean</th>\n",
       "      <th>T2_Blkmean</th>\n",
       "      <th>T2_opponent_Blkmean</th>\n",
       "      <th>T2_PFmean</th>\n",
       "      <th>T2_opponent_PFmean</th>\n",
       "      <th>T2_win_ratio_14d</th>\n",
       "      <th>T2_quality</th>\n",
       "      <th>T2_seed</th>\n",
       "      <th>T2_OrdinalRank</th>\n",
       "    </tr>\n",
       "  </thead>\n",
       "  <tbody>\n",
       "    <tr>\n",
       "      <th>9301</th>\n",
       "      <td>2019</td>\n",
       "      <td>3465</td>\n",
       "      <td>76.200000</td>\n",
       "      <td>69.840000</td>\n",
       "      <td>6.360000</td>\n",
       "      <td>67.520000</td>\n",
       "      <td>69.20000</td>\n",
       "      <td>28.560000</td>\n",
       "      <td>26.600000</td>\n",
       "      <td>0.493625</td>\n",
       "      <td>...</td>\n",
       "      <td>7.280000</td>\n",
       "      <td>7.920000</td>\n",
       "      <td>3.160000</td>\n",
       "      <td>3.160000</td>\n",
       "      <td>15.520000</td>\n",
       "      <td>15.440000</td>\n",
       "      <td>0.5</td>\n",
       "      <td>-0.182555</td>\n",
       "      <td>NaN</td>\n",
       "      <td>NaN</td>\n",
       "    </tr>\n",
       "    <tr>\n",
       "      <th>9302</th>\n",
       "      <td>2019</td>\n",
       "      <td>3466</td>\n",
       "      <td>69.521739</td>\n",
       "      <td>63.217391</td>\n",
       "      <td>6.304348</td>\n",
       "      <td>58.434783</td>\n",
       "      <td>58.26087</td>\n",
       "      <td>24.869565</td>\n",
       "      <td>23.913043</td>\n",
       "      <td>0.478102</td>\n",
       "      <td>...</td>\n",
       "      <td>8.478261</td>\n",
       "      <td>8.478261</td>\n",
       "      <td>3.695652</td>\n",
       "      <td>3.217391</td>\n",
       "      <td>17.478261</td>\n",
       "      <td>19.173913</td>\n",
       "      <td>0.0</td>\n",
       "      <td>0.107970</td>\n",
       "      <td>NaN</td>\n",
       "      <td>NaN</td>\n",
       "    </tr>\n",
       "  </tbody>\n",
       "</table>\n",
       "<p>2 rows × 37 columns</p>\n",
       "</div>"
      ],
      "text/plain": [
       "      Season  T2_TeamID  T2_Scoremean  T2_opponent_Scoremean  \\\n",
       "9301    2019       3465     76.200000              69.840000   \n",
       "9302    2019       3466     69.521739              63.217391   \n",
       "\n",
       "      T2_PointDiffmean  T2_FGAmean  T2_opponent_FGAmean  T2_FGMmean  \\\n",
       "9301          6.360000   67.520000             69.20000   28.560000   \n",
       "9302          6.304348   58.434783             58.26087   24.869565   \n",
       "\n",
       "      T2_opponent_FGMmean  T2_EFG_SUMmean  ...  T2_Stlmean  \\\n",
       "9301            26.600000        0.493625  ...    7.280000   \n",
       "9302            23.913043        0.478102  ...    8.478261   \n",
       "\n",
       "      T2_opponent_Stlmean  T2_Blkmean  T2_opponent_Blkmean  T2_PFmean  \\\n",
       "9301             7.920000    3.160000             3.160000  15.520000   \n",
       "9302             8.478261    3.695652             3.217391  17.478261   \n",
       "\n",
       "      T2_opponent_PFmean  T2_win_ratio_14d  T2_quality  T2_seed  \\\n",
       "9301           15.440000               0.5   -0.182555      NaN   \n",
       "9302           19.173913               0.0    0.107970      NaN   \n",
       "\n",
       "      T2_OrdinalRank  \n",
       "9301             NaN  \n",
       "9302             NaN  \n",
       "\n",
       "[2 rows x 37 columns]"
      ]
     },
     "metadata": {},
     "output_type": "display_data"
    }
   ],
   "source": [
    "flag_3season_avg = FEATURES.season_average.enabled\n",
    "\n",
    "#trueのときの処理理解してfalseと一致させる\n",
    "if flag_3season_avg:\n",
    "    print(\"#####\")\n",
    "    print(\"use 3 season average\")\n",
    "    print(\"#####\")\n",
    "    weight = FEATURES.season_average.weights\n",
    "    years = FEATURES.season_average.past_years\n",
    "    assert years==len(weight)\n",
    "    \n",
    "    features_for_calc = [\"T1_Scoremean\", \"T1_FGAmean\",  \"T1_FGA3mean\"]\n",
    "    season_statistics_with_3_seas = write_mean_of_3_seasons(\n",
    "        season_statistics, features_for_calc, weight, degree_weight=1.0\n",
    "    )\n",
    "    \n",
    "    season_statistics_T1 = season_statistics_with_3_seas.copy()\n",
    "    season_statistics_T2 = season_statistics_with_3_seas.copy()\n",
    "    \n",
    "else:\n",
    "    print(\"#####\")\n",
    "    print(\"skip 3 season verage\")\n",
    "    print(\"#####\")\n",
    "    season_statistics_T1 = season_statistics.copy()\n",
    "    season_statistics_T2 = season_statistics.copy()\n",
    "\n",
    "season_statistics_T1.columns = [\"T1_\" + x.replace(\"T1_\",\"\").replace(\"T2_\",\"opponent_\") for x in list(season_statistics_T1.columns)]\n",
    "season_statistics_T2.columns = [\"T2_\" + x.replace(\"T1_\",\"\").replace(\"T2_\",\"opponent_\") for x in list(season_statistics_T2.columns)]\n",
    "season_statistics_T1.columns.values[0] = \"Season\"\n",
    "season_statistics_T2.columns.values[0] = \"Season\"\n",
    "\n",
    "\n",
    "season_statistics_T2.rename(columns = {\n",
    "    \"T1_TeamID\": \"T2_TeamID\"\n",
    "}, inplace=True)\n",
    "display(season_statistics_T1.head(2), season_statistics_T2.tail(2))"
   ]
  },
  {
   "cell_type": "markdown",
   "id": "cbe82051",
   "metadata": {
    "papermill": {
     "duration": 0.012291,
     "end_time": "2025-03-18T16:09:00.713162",
     "exception": false,
     "start_time": "2025-03-18T16:09:00.700871",
     "status": "completed"
    },
    "tags": []
   },
   "source": [
    "# Toureney dataの処理\n",
    "1. pointdiff, pointが目的変数となるのでそれはyに分離\n",
    "2. seasonstatisticを結合したものをXとして作る"
   ]
  },
  {
   "cell_type": "code",
   "execution_count": 13,
   "id": "6d3d35b9",
   "metadata": {
    "execution": {
     "iopub.execute_input": "2025-03-18T16:09:00.733480Z",
     "iopub.status.busy": "2025-03-18T16:09:00.733480Z",
     "iopub.status.idle": "2025-03-18T16:09:00.740800Z",
     "shell.execute_reply": "2025-03-18T16:09:00.740800Z"
    },
    "papermill": {
     "duration": 0.017885,
     "end_time": "2025-03-18T16:09:00.740800",
     "exception": false,
     "start_time": "2025-03-18T16:09:00.722915",
     "status": "completed"
    },
    "tags": []
   },
   "outputs": [],
   "source": [
    "\n",
    "def process_tourney(df1, mode=\"tourney\"):\n",
    "    #Season, teamid ->X, team_score->y\n",
    "    df = df1.copy()\n",
    "    if mode==\"tourney\":\n",
    "        df = prepare_data(df) \n",
    "        y = df[\"T1_Score\"]-df[\"T2_Score\"]\n",
    "    X = df[['Season', 'T1_TeamID', 'T2_TeamID']]\n",
    "    X = pd.merge(X, season_statistics_T1, on = ['Season', 'T1_TeamID'], how = 'left')\n",
    "    X = pd.merge(X, season_statistics_T2, on = ['Season', 'T2_TeamID'], how = 'left')\n",
    "    \n",
    "    #seed->seed diff\n",
    "    X[\"seed_diff\"] = X[\"T1_seed\"] - X[\"T2_seed\"]\n",
    "    #rank->rank diff\n",
    "    X[\"rank_diff\"] = X[\"T1_OrdinalRank\"] - X[\"T2_OrdinalRank\"]\n",
    "    #quality->quality diff\n",
    "    X[\"quality_diff\"] = X[\"T1_quality\"] - X[\"T2_quality\"]\n",
    "    #win_ratio_14d -> win_raio_14d_diff\n",
    "    X[\"win_ratio_14d_diff\"] = X[\"T1_win_ratio_14d\"] - X[\"T2_win_ratio_14d\"]\n",
    "    #tourney_data.drop(columns=[\"T1_seed\", \"T2_seed\"], inplace=True)\n",
    "\n",
    "    X = X.drop(columns=[\"T1_seed\", \"T2_seed\", \"T1_OrdinalRank\", \"T2_OrdinalRank\", \n",
    "                        \"T1_quality\", \"T2_quality\", \"T1_win_ratio_14d\", \"T2_win_ratio_14d\"\n",
    "                        ])\n",
    "    \n",
    "    if FEATURES.T1_FGAdiff: \n",
    "        X[\"T1_FGA_diff\"] = X[\"T1_FGAmean\"] - X[\"T1_opponent_FGAmean\"]\n",
    "        X[\"T2_FGA_diff\"] = X[\"T2_FGAmean\"] - X[\"T2_opponent_FGAmean\"]\n",
    "        X = X.drop(columns=[\"T1_FGAmean\", \"T2_FGAmean\", \"T1_opponent_FGAmean\", \"T2_opponent_FGAmean\"])\n",
    "        \n",
    "    # if rank_diff is False, drop.\n",
    "    IS_RANKDIFF = FEATURES.rank_diff\n",
    "    if not IS_RANKDIFF:\n",
    "        X = X.drop(columns=[\"rank_diff\"])\n",
    "        print(\"drop rank_diff\")\n",
    "    \n",
    "    # if fillna is true-> run fillna()\n",
    "    FILLNA = FEATURES.fillna.quality\n",
    "    if FILLNA==\"nan\":\n",
    "        print(f\"no fillna, use nan\")\n",
    "        X[\"quality_diff\"] = X[\"quality_diff\"].fillna(np.nan)\n",
    "    else:\n",
    "        print(f\"fillna quality feature for {FILLNA}\")\n",
    "        X[\"quality_diff\"] = X[\"quality_diff\"].fillna(FILLNA)\n",
    "\n",
    "        \n",
    "    return X, y if mode==\"tourney\" else X"
   ]
  },
  {
   "cell_type": "code",
   "execution_count": 14,
   "id": "c7c8f6d9",
   "metadata": {
    "execution": {
     "iopub.execute_input": "2025-03-18T16:09:00.749103Z",
     "iopub.status.busy": "2025-03-18T16:09:00.749103Z",
     "iopub.status.idle": "2025-03-18T16:09:00.790707Z",
     "shell.execute_reply": "2025-03-18T16:09:00.790707Z"
    },
    "papermill": {
     "duration": 0.041604,
     "end_time": "2025-03-18T16:09:00.790707",
     "exception": false,
     "start_time": "2025-03-18T16:09:00.749103",
     "status": "completed"
    },
    "tags": []
   },
   "outputs": [
    {
     "name": "stdout",
     "output_type": "stream",
     "text": [
      "<class 'pandas.core.frame.DataFrame'>\n",
      "Index: 1615 entries, 0 to 1948\n",
      "Data columns (total 56 columns):\n",
      " #   Column       Non-Null Count  Dtype  \n",
      "---  ------       --------------  -----  \n",
      " 0   Season       1615 non-null   int64  \n",
      " 1   DayNum       1615 non-null   int64  \n",
      " 2   WTeamID      1615 non-null   int64  \n",
      " 3   WScore       1615 non-null   int64  \n",
      " 4   LTeamID      1615 non-null   int64  \n",
      " 5   LScore       1615 non-null   int64  \n",
      " 6   WLoc         1615 non-null   object \n",
      " 7   NumOT        1615 non-null   int64  \n",
      " 8   WFGM         1615 non-null   int64  \n",
      " 9   WFGA         1615 non-null   int64  \n",
      " 10  WFGM3        1615 non-null   int64  \n",
      " 11  WFGA3        1615 non-null   int64  \n",
      " 12  WFTM         1615 non-null   int64  \n",
      " 13  WFTA         1615 non-null   int64  \n",
      " 14  WOR          1615 non-null   int64  \n",
      " 15  WDR          1615 non-null   int64  \n",
      " 16  WAst         1615 non-null   int64  \n",
      " 17  WTO          1615 non-null   int64  \n",
      " 18  WStl         1615 non-null   int64  \n",
      " 19  WBlk         1615 non-null   int64  \n",
      " 20  WPF          1615 non-null   int64  \n",
      " 21  LFGM         1615 non-null   int64  \n",
      " 22  LFGA         1615 non-null   int64  \n",
      " 23  LFGM3        1615 non-null   int64  \n",
      " 24  LFGA3        1615 non-null   int64  \n",
      " 25  LFTM         1615 non-null   int64  \n",
      " 26  LFTA         1615 non-null   int64  \n",
      " 27  LOR          1615 non-null   int64  \n",
      " 28  LDR          1615 non-null   int64  \n",
      " 29  LAst         1615 non-null   int64  \n",
      " 30  LTO          1615 non-null   int64  \n",
      " 31  LStl         1615 non-null   int64  \n",
      " 32  LBlk         1615 non-null   int64  \n",
      " 33  LPF          1615 non-null   int64  \n",
      " 34  WEFFG        1615 non-null   float64\n",
      " 35  LEFFG        1615 non-null   float64\n",
      " 36  WEFFG3       1615 non-null   float64\n",
      " 37  LEFFG3       1615 non-null   float64\n",
      " 38  WDARE        1615 non-null   float64\n",
      " 39  LDARE        1615 non-null   float64\n",
      " 40  WTOQUETOQUE  1615 non-null   float64\n",
      " 41  LTOQUETOQUE  1615 non-null   float64\n",
      " 42  WEFG_SUM     1615 non-null   float64\n",
      " 43  LEFG_SUM     1615 non-null   float64\n",
      " 44  WPOSS        1615 non-null   float64\n",
      " 45  LPOSS        1615 non-null   float64\n",
      " 46  WPOSS_RATE   1615 non-null   float64\n",
      " 47  LPOSS_RATE   1615 non-null   float64\n",
      " 48  WTO_RATIO    1615 non-null   float64\n",
      " 49  LTO_RATIO    1615 non-null   float64\n",
      " 50  WREB_RATE    1615 non-null   float64\n",
      " 51  LREB_RATE    1615 non-null   float64\n",
      " 52  WFT_RATE     1615 non-null   float64\n",
      " 53  LFT_RATE     1615 non-null   float64\n",
      " 54  WRATING      1615 non-null   float64\n",
      " 55  LRATING      1615 non-null   float64\n",
      "dtypes: float64(22), int64(33), object(1)\n",
      "memory usage: 719.2+ KB\n",
      "None\n"
     ]
    },
    {
     "name": "stdout",
     "output_type": "stream",
     "text": [
      "feature cols after prepare()\n",
      "Index(['Season', 'DayNum', 'T1_TeamID', 'T1_Score', 'T2_TeamID', 'T2_Score',\n",
      "       'location', 'NumOT', 'T1_FGM', 'T1_FGA', 'T1_FGM3', 'T1_FGA3', 'T1_FTM',\n",
      "       'T1_FTA', 'T1_OR', 'T1_DR', 'T1_Ast', 'T1_TO', 'T1_Stl', 'T1_Blk',\n",
      "       'T1_PF', 'T2_FGM', 'T2_FGA', 'T2_FGM3', 'T2_FGA3', 'T2_FTM', 'T2_FTA',\n",
      "       'T2_OR', 'T2_DR', 'T2_Ast', 'T2_TO', 'T2_Stl', 'T2_Blk', 'T2_PF',\n",
      "       'T1_EFFG', 'T2_EFFG', 'T1_EFFG3', 'T2_EFFG3', 'T1_DARE', 'T2_DARE',\n",
      "       'T1_TOQUETOQUE', 'T2_TOQUETOQUE', 'T1_EFG_SUM', 'T2_EFG_SUM', 'T1_POSS',\n",
      "       'T2_POSS', 'T1_POSS_RATE', 'T2_POSS_RATE', 'T1_TO_RATIO', 'T2_TO_RATIO',\n",
      "       'T1_REB_RATE', 'T2_REB_RATE', 'T1_FT_RATE', 'T2_FT_RATE', 'T1_RATING',\n",
      "       'T2_RATING', 'PointDiff', 'win'],\n",
      "      dtype='object')\n",
      "no fillna, use nan\n"
     ]
    }
   ],
   "source": [
    "X, y = process_tourney(tourney_results)"
   ]
  },
  {
   "cell_type": "code",
   "execution_count": 15,
   "id": "5ac715df",
   "metadata": {
    "execution": {
     "iopub.execute_input": "2025-03-18T16:09:00.798242Z",
     "iopub.status.busy": "2025-03-18T16:09:00.798242Z",
     "iopub.status.idle": "2025-03-18T16:09:00.815984Z",
     "shell.execute_reply": "2025-03-18T16:09:00.815984Z"
    },
    "papermill": {
     "duration": 0.017742,
     "end_time": "2025-03-18T16:09:00.815984",
     "exception": false,
     "start_time": "2025-03-18T16:09:00.798242",
     "status": "completed"
    },
    "tags": []
   },
   "outputs": [
    {
     "name": "stdout",
     "output_type": "stream",
     "text": [
      "drop col list: ['T1_TOmean', 'T2_TOmean', 'T1_opponent_POSS_RATEmean', 'T2_opponent_POSS_RATEmean', 'T1_opponent_Astmean', 'T2_opponent_Astmean', 'T1_opponent_FT_RATEmean', 'T2_opponent_FT_RATEmean', 'T1_opponent_Stlmean', 'T2_opponent_Stlmean', 'T1_ORmean', 'T2_ORmean', 'T1_opponent_ORmean', 'T2_opponent_ORmean', 'Season']\n"
     ]
    }
   ],
   "source": [
    "#opponentなど明示的に特徴量選出に基づいて落とす\n",
    "def drop_columns(df, cols):\n",
    "    if not cols: return df\n",
    "    existing_cols = [col for col in cols if col in df.columns]\n",
    "    print(f\"drop col list: {existing_cols}\")\n",
    "    return df.drop(columns=existing_cols)\n",
    "\n",
    "drop_col = FEATURES.dropfeatures\n",
    "X = drop_columns(X, drop_col)"
   ]
  },
  {
   "cell_type": "code",
   "execution_count": 16,
   "id": "b1048652",
   "metadata": {
    "execution": {
     "iopub.execute_input": "2025-03-18T16:09:00.834139Z",
     "iopub.status.busy": "2025-03-18T16:09:00.834139Z",
     "iopub.status.idle": "2025-03-18T16:09:00.839747Z",
     "shell.execute_reply": "2025-03-18T16:09:00.839747Z"
    },
    "papermill": {
     "duration": 0.023763,
     "end_time": "2025-03-18T16:09:00.839747",
     "exception": false,
     "start_time": "2025-03-18T16:09:00.815984",
     "status": "completed"
    },
    "tags": []
   },
   "outputs": [
    {
     "name": "stdout",
     "output_type": "stream",
     "text": [
      "最終的な X の特徴量\n",
      "Index(['T1_TeamID', 'T2_TeamID', 'T1_Scoremean', 'T1_opponent_Scoremean',\n",
      "       'T1_PointDiffmean', 'T1_FGMmean', 'T1_opponent_FGMmean',\n",
      "       'T1_EFG_SUMmean', 'T1_opponent_EFG_SUMmean', 'T1_TO_RATIOmean',\n",
      "       'T1_opponent_TO_RATIOmean', 'T1_DRmean', 'T1_opponent_DRmean',\n",
      "       'T1_REB_RATEmean', 'T1_opponent_REB_RATEmean', 'T1_FT_RATEmean',\n",
      "       'T1_POSS_RATEmean', 'T1_Astmean', 'T1_opponent_TOmean', 'T1_Stlmean',\n",
      "       'T1_Blkmean', 'T1_opponent_Blkmean', 'T1_PFmean', 'T1_opponent_PFmean',\n",
      "       'T2_Scoremean', 'T2_opponent_Scoremean', 'T2_PointDiffmean',\n",
      "       'T2_FGMmean', 'T2_opponent_FGMmean', 'T2_EFG_SUMmean',\n",
      "       'T2_opponent_EFG_SUMmean', 'T2_TO_RATIOmean',\n",
      "       'T2_opponent_TO_RATIOmean', 'T2_DRmean', 'T2_opponent_DRmean',\n",
      "       'T2_REB_RATEmean', 'T2_opponent_REB_RATEmean', 'T2_FT_RATEmean',\n",
      "       'T2_POSS_RATEmean', 'T2_Astmean', 'T2_opponent_TOmean', 'T2_Stlmean',\n",
      "       'T2_Blkmean', 'T2_opponent_Blkmean', 'T2_PFmean', 'T2_opponent_PFmean',\n",
      "       'seed_diff', 'rank_diff', 'quality_diff', 'win_ratio_14d_diff',\n",
      "       'T1_FGA_diff', 'T2_FGA_diff'],\n",
      "      dtype='object')\n"
     ]
    }
   ],
   "source": [
    "print(\"最終的な X の特徴量\")\n",
    "print(X.columns)"
   ]
  },
  {
   "cell_type": "code",
   "execution_count": 17,
   "id": "309f5d56",
   "metadata": {
    "execution": {
     "iopub.execute_input": "2025-03-18T16:09:00.853741Z",
     "iopub.status.busy": "2025-03-18T16:09:00.853741Z",
     "iopub.status.idle": "2025-03-18T16:09:00.870412Z",
     "shell.execute_reply": "2025-03-18T16:09:00.870412Z"
    },
    "papermill": {
     "duration": 0.017674,
     "end_time": "2025-03-18T16:09:00.870412",
     "exception": false,
     "start_time": "2025-03-18T16:09:00.852738",
     "status": "completed"
    },
    "tags": []
   },
   "outputs": [
    {
     "name": "stdout",
     "output_type": "stream",
     "text": [
      "<class 'pandas.core.frame.DataFrame'>\n",
      "RangeIndex: 3230 entries, 0 to 3229\n",
      "Data columns (total 52 columns):\n",
      " #   Column                    Non-Null Count  Dtype  \n",
      "---  ------                    --------------  -----  \n",
      " 0   T1_TeamID                 3230 non-null   int64  \n",
      " 1   T2_TeamID                 3230 non-null   int64  \n",
      " 2   T1_Scoremean              3230 non-null   float64\n",
      " 3   T1_opponent_Scoremean     3230 non-null   float64\n",
      " 4   T1_PointDiffmean          3230 non-null   float64\n",
      " 5   T1_FGMmean                3230 non-null   float64\n",
      " 6   T1_opponent_FGMmean       3230 non-null   float64\n",
      " 7   T1_EFG_SUMmean            3230 non-null   float64\n",
      " 8   T1_opponent_EFG_SUMmean   3230 non-null   float64\n",
      " 9   T1_TO_RATIOmean           3230 non-null   float64\n",
      " 10  T1_opponent_TO_RATIOmean  3230 non-null   float64\n",
      " 11  T1_DRmean                 3230 non-null   float64\n",
      " 12  T1_opponent_DRmean        3230 non-null   float64\n",
      " 13  T1_REB_RATEmean           3230 non-null   float64\n",
      " 14  T1_opponent_REB_RATEmean  3230 non-null   float64\n",
      " 15  T1_FT_RATEmean            3230 non-null   float64\n",
      " 16  T1_POSS_RATEmean          3230 non-null   float64\n",
      " 17  T1_Astmean                3230 non-null   float64\n",
      " 18  T1_opponent_TOmean        3230 non-null   float64\n",
      " 19  T1_Stlmean                3230 non-null   float64\n",
      " 20  T1_Blkmean                3230 non-null   float64\n",
      " 21  T1_opponent_Blkmean       3230 non-null   float64\n",
      " 22  T1_PFmean                 3230 non-null   float64\n",
      " 23  T1_opponent_PFmean        3230 non-null   float64\n",
      " 24  T2_Scoremean              3230 non-null   float64\n",
      " 25  T2_opponent_Scoremean     3230 non-null   float64\n",
      " 26  T2_PointDiffmean          3230 non-null   float64\n",
      " 27  T2_FGMmean                3230 non-null   float64\n",
      " 28  T2_opponent_FGMmean       3230 non-null   float64\n",
      " 29  T2_EFG_SUMmean            3230 non-null   float64\n",
      " 30  T2_opponent_EFG_SUMmean   3230 non-null   float64\n",
      " 31  T2_TO_RATIOmean           3230 non-null   float64\n",
      " 32  T2_opponent_TO_RATIOmean  3230 non-null   float64\n",
      " 33  T2_DRmean                 3230 non-null   float64\n",
      " 34  T2_opponent_DRmean        3230 non-null   float64\n",
      " 35  T2_REB_RATEmean           3230 non-null   float64\n",
      " 36  T2_opponent_REB_RATEmean  3230 non-null   float64\n",
      " 37  T2_FT_RATEmean            3230 non-null   float64\n",
      " 38  T2_POSS_RATEmean          3230 non-null   float64\n",
      " 39  T2_Astmean                3230 non-null   float64\n",
      " 40  T2_opponent_TOmean        3230 non-null   float64\n",
      " 41  T2_Stlmean                3230 non-null   float64\n",
      " 42  T2_Blkmean                3230 non-null   float64\n",
      " 43  T2_opponent_Blkmean       3230 non-null   float64\n",
      " 44  T2_PFmean                 3230 non-null   float64\n",
      " 45  T2_opponent_PFmean        3230 non-null   float64\n",
      " 46  seed_diff                 3230 non-null   float64\n",
      " 47  rank_diff                 2096 non-null   float64\n",
      " 48  quality_diff              3230 non-null   float64\n",
      " 49  win_ratio_14d_diff        3230 non-null   float64\n",
      " 50  T1_FGA_diff               3230 non-null   float64\n",
      " 51  T2_FGA_diff               3230 non-null   float64\n",
      "dtypes: float64(50), int64(2)\n",
      "memory usage: 1.3 MB\n"
     ]
    }
   ],
   "source": [
    "X.info()"
   ]
  },
  {
   "cell_type": "markdown",
   "id": "8b6dfe59",
   "metadata": {
    "papermill": {
     "duration": 0.001989,
     "end_time": "2025-03-18T16:09:00.882113",
     "exception": false,
     "start_time": "2025-03-18T16:09:00.880124",
     "status": "completed"
    },
    "tags": []
   },
   "source": [
    "# build models"
   ]
  },
  {
   "cell_type": "code",
   "execution_count": 18,
   "id": "523c967c",
   "metadata": {
    "execution": {
     "iopub.execute_input": "2025-03-18T16:09:00.899704Z",
     "iopub.status.busy": "2025-03-18T16:09:00.899704Z",
     "iopub.status.idle": "2025-03-18T16:09:00.922024Z",
     "shell.execute_reply": "2025-03-18T16:09:00.922024Z"
    },
    "papermill": {
     "duration": 0.028246,
     "end_time": "2025-03-18T16:09:00.924030",
     "exception": false,
     "start_time": "2025-03-18T16:09:00.895784",
     "status": "completed"
    },
    "tags": []
   },
   "outputs": [],
   "source": [
    "\n",
    "val_mae = []\n",
    "iteration_counts = []\n",
    "xgb_cv = []\n",
    "dtrain = xgb.DMatrix(X, label=y)\n",
    "\n",
    "repeat_cv = MODEL.repeat_cv\n",
    "param = dict(MODEL.xgb_model.param)\n",
    "num_boost_round = MODEL.xgb_model.num_boost_round\n",
    "folds_splits = MODEL.xgb_model.folds_splits\n",
    "early_stopping_rounds = MODEL.xgb_model.early_stopping_rounds\n",
    "\n",
    "# コーシー損失関数\n",
    "def cauchyobj(preds, dtrain):\n",
    "    labels = dtrain.get_label()\n",
    "    c = 5000\n",
    "    x = preds - labels    \n",
    "    grad = x / (x**2/c**2 + 1)\n",
    "    hess = -c**2 * (x**2 - c**2) / (x**2 + c**2)**2\n",
    "    return grad, hess"
   ]
  },
  {
   "cell_type": "code",
   "execution_count": 19,
   "id": "a72f4aa2",
   "metadata": {
    "execution": {
     "iopub.execute_input": "2025-03-18T16:09:00.950002Z",
     "iopub.status.busy": "2025-03-18T16:09:00.950002Z",
     "iopub.status.idle": "2025-03-18T16:09:00.964102Z",
     "shell.execute_reply": "2025-03-18T16:09:00.963095Z"
    },
    "papermill": {
     "duration": 0.029815,
     "end_time": "2025-03-18T16:09:00.965101",
     "exception": false,
     "start_time": "2025-03-18T16:09:00.935286",
     "status": "completed"
    },
    "tags": []
   },
   "outputs": [],
   "source": [
    "#########################################\n",
    "# 1. Optunaあり：ハイパーパラメータ最適化 #\n",
    "#########################################\n",
    "def run_optuna_optimization(param, optuna_conf):\n",
    "    def objective(trial):  \n",
    "        logger.info(f\"Trial {trial.number} 開始\")\n",
    "        \n",
    "        current_param = param.copy()  \n",
    "        max_depth_range = optuna_conf.max_depth        \n",
    "        eta_range = optuna_conf.eta\n",
    "        subsample_range = optuna_conf.subsample          \n",
    "        colsample_bytree_range = optuna_conf.colsample_bytree\n",
    "        num_parallel_tree_range = optuna_conf.num_parallel_tree \n",
    "        min_child_weight_range = optuna_conf.min_child_weight \n",
    "        reg_alpha_range = optuna_conf.reg_alpha         \n",
    "        reg_lambda_range = optuna_conf.reg_lambda    \n",
    "        reg_gamma_range = optuna_conf.gamma  \n",
    "\n",
    "        current_param[\"max_depth\"] = trial.suggest_int(\"max_depth\", max_depth_range[0], max_depth_range[1])\n",
    "        current_param[\"eta\"] = trial.suggest_float(\"eta\", eta_range[0], eta_range[1], log=True)\n",
    "        current_param[\"subsample\"] = trial.suggest_float(\"subsample\", subsample_range[0], subsample_range[1])\n",
    "        current_param[\"colsample_bytree\"] = trial.suggest_float(\"colsample_bytree\", colsample_bytree_range[0], colsample_bytree_range[1])\n",
    "        current_param[\"num_parallel_tree\"] = trial.suggest_int(\"num_parallel_tree\", num_parallel_tree_range[0], num_parallel_tree_range[1])\n",
    "        current_param[\"min_child_weight\"] = trial.suggest_int(\"min_child_weight\", min_child_weight_range[0], min_child_weight_range[1])\n",
    "        current_param[\"reg_alpha\"] = trial.suggest_float(\"reg_alpha\", reg_alpha_range[0], reg_alpha_range[1])\n",
    "        current_param[\"reg_lambda\"] = trial.suggest_float(\"reg_lambda\", reg_lambda_range[0], reg_lambda_range[1])\n",
    "        current_param[\"gamma\"] = trial.suggest_float(\"gamma\", reg_gamma_range[0], reg_gamma_range[1])\n",
    "        \n",
    "        if current_param.get(\"eval_metric\", \"mae\") == \"rmse\":\n",
    "            score_name = \"test-rmse-mean\"\n",
    "        elif current_param.get(\"eval_metric\", \"mae\") == \"mae\":\n",
    "            score_name = \"test-mae-mean\"\n",
    "        elif  current_param.get(\"eval_metric\", \"mae\") == \"logloss\":\n",
    "            score_name = \"test-logloss-mean\"\n",
    "        \n",
    "        print(current_param)  \n",
    "        cv_scores = []\n",
    "        for i in range(repeat_cv):\n",
    "            cv_result = xgb.cv(\n",
    "                params=current_param,\n",
    "                dtrain=dtrain,\n",
    "                obj=cauchyobj,\n",
    "                num_boost_round=num_boost_round,\n",
    "                folds=KFold(n_splits=folds_splits, shuffle=True, random_state=i),\n",
    "                early_stopping_rounds=early_stopping_rounds,\n",
    "                verbose_eval=False\n",
    "            )\n",
    "            fold_score = np.min(cv_result[score_name].values)\n",
    "            cv_scores.append(fold_score)\n",
    "        mean_score = np.mean(cv_scores)\n",
    "        logger.info(f\"Trial {trial.number} 終了: スコア {mean_score}\")\n",
    "        \n",
    "        return mean_score\n",
    "\n",
    "    logger.info(\"Optuna最適化開始\")\n",
    "    N_WARMUP_STEPS = optuna_conf.n_warmup_steps\n",
    "    TIMEOUT = optuna_conf.timeout\n",
    "    N_JOBS = optuna_conf.n_jobs\n",
    "    N_TRIALS = optuna_conf.n_trials\n",
    "    \n",
    "    sampler = optuna.samplers.TPESampler(seed=42)\n",
    "    pruner = optuna.pruners.MedianPruner(n_warmup_steps=N_WARMUP_STEPS)\n",
    "\n",
    "    study = optuna.create_study(direction=\"minimize\", sampler=sampler, pruner=pruner)\n",
    "    study.optimize(objective, n_trials=N_TRIALS, timeout=TIMEOUT, n_jobs=N_JOBS)\n",
    "\n",
    "    best_trial = study.best_trial\n",
    "    logger.info(\"Best trial:\")\n",
    "    logger.info(f\"  Value: {best_trial.value}\")\n",
    "    \n",
    "    for key, value in best_trial.params.items():\n",
    "        print(f\"    {key}: {value}\")\n",
    "    param.update(best_trial.params)\n",
    "\n",
    "    logger.info(\"Optuna最適化終了\")\n",
    "    return param"
   ]
  },
  {
   "cell_type": "code",
   "execution_count": 20,
   "id": "d0173403",
   "metadata": {
    "execution": {
     "iopub.execute_input": "2025-03-18T16:09:00.992098Z",
     "iopub.status.busy": "2025-03-18T16:09:00.992098Z",
     "iopub.status.idle": "2025-03-18T16:09:00.998485Z",
     "shell.execute_reply": "2025-03-18T16:09:00.998485Z"
    },
    "papermill": {
     "duration": 0.022094,
     "end_time": "2025-03-18T16:09:01.000195",
     "exception": false,
     "start_time": "2025-03-18T16:09:00.978101",
     "status": "completed"
    },
    "tags": []
   },
   "outputs": [
    {
     "name": "stdout",
     "output_type": "stream",
     "text": [
      "not use Optuna, use xgb_model.param\n",
      "param: {'eval_metric': 'rmse', 'booster': 'gbtree', 'eta': 0.02, 'subsample': 0.35, 'colsample_bytree': 0.7, 'num_parallel_tree': 10, 'min_child_weight': 40, 'gamma': 10, 'max_depth': 3}\n",
      "repeat_cv: 10\n",
      "num_boost_round: 3000\n",
      "folds_splits: 5\n",
      "early_stopping_rounds: 25\n"
     ]
    }
   ],
   "source": [
    "IS_OPTUNA = MODEL.optuna_enabled\n",
    "if IS_OPTUNA:\n",
    "    print(\"Optuna use mode\") \n",
    "    optuna_conf = MODEL.xgb_model.optuna\n",
    "    logger.add(os.path.join(OUTPUT_PATH, \"results.log\"), format=\"{time:YYYY-MM-DD at HH:mm:ss} - {level} - {message}\", level=\"INFO\")\n",
    "    param = run_optuna_optimization(param, optuna_conf)\n",
    "    print(\"param updated by optuna\")\n",
    "    results+= [\"param set after optuna is below\", f\"{param}\", \"\"]\n",
    "else:    \n",
    "    print(\"not use Optuna, use xgb_model.param\")\n",
    "\n",
    "\n",
    "\n",
    "print(\"param:\", param)\n",
    "print(\"repeat_cv:\", repeat_cv)\n",
    "print(\"num_boost_round:\", num_boost_round)\n",
    "print(\"folds_splits:\", folds_splits)\n",
    "print(\"early_stopping_rounds:\", early_stopping_rounds)"
   ]
  },
  {
   "cell_type": "code",
   "execution_count": 21,
   "id": "5f307c02",
   "metadata": {
    "execution": {
     "iopub.execute_input": "2025-03-18T16:09:01.024743Z",
     "iopub.status.busy": "2025-03-18T16:09:01.024743Z",
     "iopub.status.idle": "2025-03-18T16:13:53.397947Z",
     "shell.execute_reply": "2025-03-18T16:13:53.397187Z"
    },
    "papermill": {
     "duration": 292.388316,
     "end_time": "2025-03-18T16:13:53.401006",
     "exception": false,
     "start_time": "2025-03-18T16:09:01.012690",
     "status": "completed"
    },
    "tags": []
   },
   "outputs": [
    {
     "name": "stderr",
     "output_type": "stream",
     "text": [
      "\r",
      "  0%|                                                                                                                                                                                                                                      | 0/10 [00:00<?, ?it/s]"
     ]
    },
    {
     "name": "stdout",
     "output_type": "stream",
     "text": [
      "[0]\ttrain-rmse:17.10124+0.03236\ttest-rmse:17.10486+0.13414\n"
     ]
    },
    {
     "name": "stdout",
     "output_type": "stream",
     "text": [
      "[50]\ttrain-rmse:13.07832+0.04755\ttest-rmse:13.27982+0.18339\n"
     ]
    },
    {
     "name": "stdout",
     "output_type": "stream",
     "text": [
      "[100]\ttrain-rmse:11.98608+0.04597\ttest-rmse:12.35801+0.19167\n"
     ]
    },
    {
     "name": "stdout",
     "output_type": "stream",
     "text": [
      "[150]\ttrain-rmse:11.56880+0.04458\ttest-rmse:12.09285+0.18525\n"
     ]
    },
    {
     "name": "stdout",
     "output_type": "stream",
     "text": [
      "[200]\ttrain-rmse:11.31471+0.04560\ttest-rmse:11.98200+0.18224\n"
     ]
    },
    {
     "name": "stdout",
     "output_type": "stream",
     "text": [
      "[250]\ttrain-rmse:11.11981+0.04606\ttest-rmse:11.92852+0.18129\n"
     ]
    },
    {
     "name": "stdout",
     "output_type": "stream",
     "text": [
      "[300]\ttrain-rmse:10.95436+0.04573\ttest-rmse:11.89682+0.17947\n"
     ]
    },
    {
     "name": "stdout",
     "output_type": "stream",
     "text": [
      "[350]\ttrain-rmse:10.80428+0.04559\ttest-rmse:11.88231+0.17818\n"
     ]
    },
    {
     "name": "stdout",
     "output_type": "stream",
     "text": [
      "[400]\ttrain-rmse:10.66811+0.04421\ttest-rmse:11.87266+0.17527\n"
     ]
    },
    {
     "name": "stdout",
     "output_type": "stream",
     "text": [
      "[450]\ttrain-rmse:10.54125+0.04425\ttest-rmse:11.86651+0.17389\n"
     ]
    },
    {
     "name": "stdout",
     "output_type": "stream",
     "text": [
      "[500]\ttrain-rmse:10.42104+0.04500\ttest-rmse:11.86550+0.17607\n"
     ]
    },
    {
     "name": "stdout",
     "output_type": "stream",
     "text": [
      "[528]\ttrain-rmse:10.35589+0.04490\ttest-rmse:11.86585+0.17651\n"
     ]
    },
    {
     "name": "stderr",
     "output_type": "stream",
     "text": [
      "\r",
      " 10%|██████████████████████▏                                                                                                                                                                                                       | 1/10 [00:20<03:06, 20.75s/it]"
     ]
    },
    {
     "name": "stdout",
     "output_type": "stream",
     "text": [
      "[0]\ttrain-rmse:17.09960+0.15524\ttest-rmse:17.09256+0.62799\n"
     ]
    },
    {
     "name": "stdout",
     "output_type": "stream",
     "text": [
      "[50]\ttrain-rmse:13.07211+0.10342\ttest-rmse:13.26174+0.51074\n"
     ]
    },
    {
     "name": "stdout",
     "output_type": "stream",
     "text": [
      "[100]\ttrain-rmse:11.98512+0.10123\ttest-rmse:12.34155+0.43824\n"
     ]
    },
    {
     "name": "stdout",
     "output_type": "stream",
     "text": [
      "[150]\ttrain-rmse:11.56599+0.09994\ttest-rmse:12.06954+0.41324\n"
     ]
    },
    {
     "name": "stdout",
     "output_type": "stream",
     "text": [
      "[200]\ttrain-rmse:11.31423+0.09898\ttest-rmse:11.95950+0.40418\n"
     ]
    },
    {
     "name": "stdout",
     "output_type": "stream",
     "text": [
      "[250]\ttrain-rmse:11.12010+0.09910\ttest-rmse:11.90239+0.39863\n"
     ]
    },
    {
     "name": "stdout",
     "output_type": "stream",
     "text": [
      "[300]\ttrain-rmse:10.95558+0.10082\ttest-rmse:11.87260+0.39511\n"
     ]
    },
    {
     "name": "stdout",
     "output_type": "stream",
     "text": [
      "[350]\ttrain-rmse:10.80831+0.10066\ttest-rmse:11.85653+0.39889\n"
     ]
    },
    {
     "name": "stdout",
     "output_type": "stream",
     "text": [
      "[400]\ttrain-rmse:10.67412+0.10247\ttest-rmse:11.84463+0.39623\n"
     ]
    },
    {
     "name": "stdout",
     "output_type": "stream",
     "text": [
      "[450]\ttrain-rmse:10.54716+0.10287\ttest-rmse:11.84009+0.39698\n"
     ]
    },
    {
     "name": "stdout",
     "output_type": "stream",
     "text": [
      "[475]\ttrain-rmse:10.48632+0.10272\ttest-rmse:11.84152+0.39754\n"
     ]
    },
    {
     "name": "stderr",
     "output_type": "stream",
     "text": [
      "\r",
      " 20%|████████████████████████████████████████████▍                                                                                                                                                                                 | 2/10 [00:51<03:34, 26.80s/it]"
     ]
    },
    {
     "name": "stdout",
     "output_type": "stream",
     "text": [
      "[0]\ttrain-rmse:17.10099+0.11960\ttest-rmse:17.09716+0.49331\n"
     ]
    },
    {
     "name": "stdout",
     "output_type": "stream",
     "text": [
      "[50]\ttrain-rmse:13.07841+0.07486\ttest-rmse:13.24884+0.35905\n"
     ]
    },
    {
     "name": "stdout",
     "output_type": "stream",
     "text": [
      "[100]\ttrain-rmse:11.99000+0.06746\ttest-rmse:12.32230+0.30704\n"
     ]
    },
    {
     "name": "stdout",
     "output_type": "stream",
     "text": [
      "[150]\ttrain-rmse:11.57224+0.06389\ttest-rmse:12.04461+0.29233\n"
     ]
    },
    {
     "name": "stdout",
     "output_type": "stream",
     "text": [
      "[200]\ttrain-rmse:11.32055+0.06243\ttest-rmse:11.93227+0.28521\n"
     ]
    },
    {
     "name": "stdout",
     "output_type": "stream",
     "text": [
      "[250]\ttrain-rmse:11.12595+0.05823\ttest-rmse:11.87428+0.28282\n"
     ]
    },
    {
     "name": "stdout",
     "output_type": "stream",
     "text": [
      "[300]\ttrain-rmse:10.96163+0.05494\ttest-rmse:11.84289+0.28015\n"
     ]
    },
    {
     "name": "stdout",
     "output_type": "stream",
     "text": [
      "[350]\ttrain-rmse:10.81296+0.05588\ttest-rmse:11.82751+0.27425\n"
     ]
    },
    {
     "name": "stdout",
     "output_type": "stream",
     "text": [
      "[400]\ttrain-rmse:10.67746+0.05463\ttest-rmse:11.82048+0.27016\n"
     ]
    },
    {
     "name": "stdout",
     "output_type": "stream",
     "text": [
      "[450]\ttrain-rmse:10.55109+0.05441\ttest-rmse:11.81543+0.26244\n"
     ]
    },
    {
     "name": "stdout",
     "output_type": "stream",
     "text": [
      "[467]\ttrain-rmse:10.51026+0.05409\ttest-rmse:11.81591+0.26022\n"
     ]
    },
    {
     "name": "stderr",
     "output_type": "stream",
     "text": [
      "\r",
      " 30%|██████████████████████████████████████████████████████████████████▌                                                                                                                                                           | 3/10 [01:14<02:53, 24.72s/it]"
     ]
    },
    {
     "name": "stdout",
     "output_type": "stream",
     "text": [
      "[0]\ttrain-rmse:17.10044+0.07555\ttest-rmse:17.10048+0.30714\n"
     ]
    },
    {
     "name": "stdout",
     "output_type": "stream",
     "text": [
      "[50]\ttrain-rmse:13.07916+0.04614\ttest-rmse:13.24497+0.30029\n"
     ]
    },
    {
     "name": "stdout",
     "output_type": "stream",
     "text": [
      "[100]\ttrain-rmse:11.99092+0.04736\ttest-rmse:12.31340+0.24853\n"
     ]
    },
    {
     "name": "stdout",
     "output_type": "stream",
     "text": [
      "[150]\ttrain-rmse:11.57435+0.04997\ttest-rmse:12.03678+0.22727\n"
     ]
    },
    {
     "name": "stdout",
     "output_type": "stream",
     "text": [
      "[200]\ttrain-rmse:11.32101+0.05339\ttest-rmse:11.92191+0.22093\n"
     ]
    },
    {
     "name": "stdout",
     "output_type": "stream",
     "text": [
      "[250]\ttrain-rmse:11.12914+0.05620\ttest-rmse:11.86096+0.22067\n"
     ]
    },
    {
     "name": "stdout",
     "output_type": "stream",
     "text": [
      "[300]\ttrain-rmse:10.96141+0.05724\ttest-rmse:11.82753+0.22142\n"
     ]
    },
    {
     "name": "stdout",
     "output_type": "stream",
     "text": [
      "[350]\ttrain-rmse:10.81366+0.05937\ttest-rmse:11.80992+0.22421\n"
     ]
    },
    {
     "name": "stdout",
     "output_type": "stream",
     "text": [
      "[400]\ttrain-rmse:10.67824+0.06117\ttest-rmse:11.79803+0.22722\n"
     ]
    },
    {
     "name": "stdout",
     "output_type": "stream",
     "text": [
      "[450]\ttrain-rmse:10.55243+0.06165\ttest-rmse:11.79169+0.22624\n"
     ]
    },
    {
     "name": "stdout",
     "output_type": "stream",
     "text": [
      "[500]\ttrain-rmse:10.43206+0.06361\ttest-rmse:11.78669+0.22971\n"
     ]
    },
    {
     "name": "stdout",
     "output_type": "stream",
     "text": [
      "[548]\ttrain-rmse:10.32110+0.06718\ttest-rmse:11.78632+0.23530\n"
     ]
    },
    {
     "name": "stderr",
     "output_type": "stream",
     "text": [
      "\r",
      " 40%|████████████████████████████████████████████████████████████████████████████████████████▊                                                                                                                                     | 4/10 [01:44<02:42, 27.15s/it]"
     ]
    },
    {
     "name": "stdout",
     "output_type": "stream",
     "text": [
      "[0]\ttrain-rmse:17.09949+0.08319\ttest-rmse:17.10054+0.33724\n"
     ]
    },
    {
     "name": "stdout",
     "output_type": "stream",
     "text": [
      "[50]\ttrain-rmse:13.08141+0.10454\ttest-rmse:13.26353+0.47822\n"
     ]
    },
    {
     "name": "stdout",
     "output_type": "stream",
     "text": [
      "[100]\ttrain-rmse:11.98799+0.10309\ttest-rmse:12.34154+0.46617\n"
     ]
    },
    {
     "name": "stdout",
     "output_type": "stream",
     "text": [
      "[150]\ttrain-rmse:11.57266+0.10273\ttest-rmse:12.06267+0.44785\n"
     ]
    },
    {
     "name": "stdout",
     "output_type": "stream",
     "text": [
      "[200]\ttrain-rmse:11.32158+0.10124\ttest-rmse:11.95014+0.43830\n"
     ]
    },
    {
     "name": "stdout",
     "output_type": "stream",
     "text": [
      "[250]\ttrain-rmse:11.12795+0.09810\ttest-rmse:11.89129+0.42896\n"
     ]
    },
    {
     "name": "stdout",
     "output_type": "stream",
     "text": [
      "[300]\ttrain-rmse:10.96321+0.09816\ttest-rmse:11.85836+0.41634\n"
     ]
    },
    {
     "name": "stdout",
     "output_type": "stream",
     "text": [
      "[350]\ttrain-rmse:10.81792+0.09670\ttest-rmse:11.83981+0.41050\n"
     ]
    },
    {
     "name": "stdout",
     "output_type": "stream",
     "text": [
      "[400]\ttrain-rmse:10.68377+0.09585\ttest-rmse:11.82742+0.40318\n"
     ]
    },
    {
     "name": "stdout",
     "output_type": "stream",
     "text": [
      "[450]\ttrain-rmse:10.55840+0.09699\ttest-rmse:11.81948+0.39793\n"
     ]
    },
    {
     "name": "stdout",
     "output_type": "stream",
     "text": [
      "[471]\ttrain-rmse:10.50801+0.09720\ttest-rmse:11.81979+0.39608\n"
     ]
    },
    {
     "name": "stderr",
     "output_type": "stream",
     "text": [
      "\r",
      " 50%|███████████████████████████████████████████████████████████████████████████████████████████████████████████████                                                                                                               | 5/10 [02:14<02:20, 28.19s/it]"
     ]
    },
    {
     "name": "stdout",
     "output_type": "stream",
     "text": [
      "[0]\ttrain-rmse:17.10004+0.07347\ttest-rmse:17.10175+0.29866\n"
     ]
    },
    {
     "name": "stdout",
     "output_type": "stream",
     "text": [
      "[50]\ttrain-rmse:13.07656+0.06602\ttest-rmse:13.24969+0.25932\n"
     ]
    },
    {
     "name": "stdout",
     "output_type": "stream",
     "text": [
      "[100]\ttrain-rmse:11.98711+0.06982\ttest-rmse:12.31270+0.26709\n"
     ]
    },
    {
     "name": "stdout",
     "output_type": "stream",
     "text": [
      "[150]\ttrain-rmse:11.57467+0.06925\ttest-rmse:12.03739+0.26483\n"
     ]
    },
    {
     "name": "stdout",
     "output_type": "stream",
     "text": [
      "[200]\ttrain-rmse:11.31960+0.06674\ttest-rmse:11.92154+0.26197\n"
     ]
    },
    {
     "name": "stdout",
     "output_type": "stream",
     "text": [
      "[250]\ttrain-rmse:11.12456+0.06632\ttest-rmse:11.86367+0.25844\n"
     ]
    },
    {
     "name": "stdout",
     "output_type": "stream",
     "text": [
      "[300]\ttrain-rmse:10.96065+0.06690\ttest-rmse:11.83310+0.25368\n"
     ]
    },
    {
     "name": "stdout",
     "output_type": "stream",
     "text": [
      "[350]\ttrain-rmse:10.81374+0.06929\ttest-rmse:11.81108+0.24983\n"
     ]
    },
    {
     "name": "stdout",
     "output_type": "stream",
     "text": [
      "[400]\ttrain-rmse:10.67823+0.06963\ttest-rmse:11.80100+0.24993\n"
     ]
    },
    {
     "name": "stdout",
     "output_type": "stream",
     "text": [
      "[450]\ttrain-rmse:10.55250+0.07077\ttest-rmse:11.79668+0.24752\n"
     ]
    },
    {
     "name": "stdout",
     "output_type": "stream",
     "text": [
      "[500]\ttrain-rmse:10.43220+0.07276\ttest-rmse:11.79214+0.24840\n"
     ]
    },
    {
     "name": "stdout",
     "output_type": "stream",
     "text": [
      "[541]\ttrain-rmse:10.33901+0.07302\ttest-rmse:11.79160+0.25081\n"
     ]
    },
    {
     "name": "stderr",
     "output_type": "stream",
     "text": [
      "\r",
      " 60%|█████████████████████████████████████████████████████████████████████████████████████████████████████████████████████████████████████▏                                                                                        | 6/10 [02:41<01:51, 27.76s/it]"
     ]
    },
    {
     "name": "stdout",
     "output_type": "stream",
     "text": [
      "[0]\ttrain-rmse:17.10096+0.09964\ttest-rmse:17.10071+0.40151\n"
     ]
    },
    {
     "name": "stdout",
     "output_type": "stream",
     "text": [
      "[50]\ttrain-rmse:13.07620+0.01824\ttest-rmse:13.27135+0.16828\n"
     ]
    },
    {
     "name": "stdout",
     "output_type": "stream",
     "text": [
      "[100]\ttrain-rmse:11.98437+0.02122\ttest-rmse:12.34081+0.10532\n"
     ]
    },
    {
     "name": "stdout",
     "output_type": "stream",
     "text": [
      "[150]\ttrain-rmse:11.57018+0.03030\ttest-rmse:12.06912+0.11903\n"
     ]
    },
    {
     "name": "stdout",
     "output_type": "stream",
     "text": [
      "[200]\ttrain-rmse:11.31709+0.03236\ttest-rmse:11.95474+0.14003\n"
     ]
    },
    {
     "name": "stdout",
     "output_type": "stream",
     "text": [
      "[250]\ttrain-rmse:11.12557+0.03449\ttest-rmse:11.89894+0.15192\n"
     ]
    },
    {
     "name": "stdout",
     "output_type": "stream",
     "text": [
      "[300]\ttrain-rmse:10.96066+0.03651\ttest-rmse:11.86487+0.15586\n"
     ]
    },
    {
     "name": "stdout",
     "output_type": "stream",
     "text": [
      "[350]\ttrain-rmse:10.81458+0.03595\ttest-rmse:11.84546+0.15666\n"
     ]
    },
    {
     "name": "stdout",
     "output_type": "stream",
     "text": [
      "[400]\ttrain-rmse:10.68015+0.03530\ttest-rmse:11.83312+0.16068\n"
     ]
    },
    {
     "name": "stdout",
     "output_type": "stream",
     "text": [
      "[450]\ttrain-rmse:10.55402+0.03285\ttest-rmse:11.82818+0.16256\n"
     ]
    },
    {
     "name": "stdout",
     "output_type": "stream",
     "text": [
      "[500]\ttrain-rmse:10.43266+0.03389\ttest-rmse:11.82607+0.16464\n"
     ]
    },
    {
     "name": "stdout",
     "output_type": "stream",
     "text": [
      "[531]\ttrain-rmse:10.36006+0.03544\ttest-rmse:11.82649+0.16438\n"
     ]
    },
    {
     "name": "stderr",
     "output_type": "stream",
     "text": [
      "\r",
      " 70%|███████████████████████████████████████████████████████████████████████████████████████████████████████████████████████████████████████████████████████████▍                                                                  | 7/10 [03:14<01:27, 29.25s/it]"
     ]
    },
    {
     "name": "stdout",
     "output_type": "stream",
     "text": [
      "[0]\ttrain-rmse:17.09913+0.20699\ttest-rmse:17.08572+0.81302\n"
     ]
    },
    {
     "name": "stdout",
     "output_type": "stream",
     "text": [
      "[50]\ttrain-rmse:13.07506+0.11753\ttest-rmse:13.25888+0.68025\n"
     ]
    },
    {
     "name": "stdout",
     "output_type": "stream",
     "text": [
      "[100]\ttrain-rmse:11.98258+0.09593\ttest-rmse:12.34530+0.55985\n"
     ]
    },
    {
     "name": "stdout",
     "output_type": "stream",
     "text": [
      "[150]\ttrain-rmse:11.56100+0.09310\ttest-rmse:12.08798+0.50262\n"
     ]
    },
    {
     "name": "stdout",
     "output_type": "stream",
     "text": [
      "[200]\ttrain-rmse:11.30358+0.09275\ttest-rmse:11.98375+0.47257\n"
     ]
    },
    {
     "name": "stdout",
     "output_type": "stream",
     "text": [
      "[250]\ttrain-rmse:11.11101+0.09295\ttest-rmse:11.93439+0.45644\n"
     ]
    },
    {
     "name": "stdout",
     "output_type": "stream",
     "text": [
      "[300]\ttrain-rmse:10.94474+0.09331\ttest-rmse:11.90967+0.44817\n"
     ]
    },
    {
     "name": "stdout",
     "output_type": "stream",
     "text": [
      "[350]\ttrain-rmse:10.79583+0.09584\ttest-rmse:11.89418+0.43830\n"
     ]
    },
    {
     "name": "stdout",
     "output_type": "stream",
     "text": [
      "[400]\ttrain-rmse:10.66132+0.09636\ttest-rmse:11.88759+0.43058\n"
     ]
    },
    {
     "name": "stdout",
     "output_type": "stream",
     "text": [
      "[450]\ttrain-rmse:10.53443+0.09739\ttest-rmse:11.88693+0.42715\n"
     ]
    },
    {
     "name": "stdout",
     "output_type": "stream",
     "text": [
      "[455]\ttrain-rmse:10.52181+0.09679\ttest-rmse:11.88693+0.42722\n"
     ]
    },
    {
     "name": "stderr",
     "output_type": "stream",
     "text": [
      "\r",
      " 80%|█████████████████████████████████████████████████████████████████████████████████████████████████████████████████████████████████████████████████████████████████████████████████▌                                            | 8/10 [03:38<00:55, 27.79s/it]"
     ]
    },
    {
     "name": "stdout",
     "output_type": "stream",
     "text": [
      "[0]\ttrain-rmse:17.09973+0.19954\ttest-rmse:17.08566+0.83900\n"
     ]
    },
    {
     "name": "stdout",
     "output_type": "stream",
     "text": [
      "[50]\ttrain-rmse:13.07368+0.11667\ttest-rmse:13.26761+0.68619\n"
     ]
    },
    {
     "name": "stdout",
     "output_type": "stream",
     "text": [
      "[100]\ttrain-rmse:11.98166+0.08898\ttest-rmse:12.35348+0.52835\n"
     ]
    },
    {
     "name": "stdout",
     "output_type": "stream",
     "text": [
      "[150]\ttrain-rmse:11.56268+0.07933\ttest-rmse:12.08604+0.43669\n"
     ]
    },
    {
     "name": "stdout",
     "output_type": "stream",
     "text": [
      "[200]\ttrain-rmse:11.31310+0.07323\ttest-rmse:11.97645+0.38481\n"
     ]
    },
    {
     "name": "stdout",
     "output_type": "stream",
     "text": [
      "[250]\ttrain-rmse:11.12128+0.07072\ttest-rmse:11.91956+0.35600\n"
     ]
    },
    {
     "name": "stdout",
     "output_type": "stream",
     "text": [
      "[300]\ttrain-rmse:10.95771+0.07081\ttest-rmse:11.89030+0.33716\n"
     ]
    },
    {
     "name": "stdout",
     "output_type": "stream",
     "text": [
      "[350]\ttrain-rmse:10.80871+0.07092\ttest-rmse:11.87015+0.32417\n"
     ]
    },
    {
     "name": "stdout",
     "output_type": "stream",
     "text": [
      "[400]\ttrain-rmse:10.67238+0.07284\ttest-rmse:11.86007+0.31994\n"
     ]
    },
    {
     "name": "stdout",
     "output_type": "stream",
     "text": [
      "[450]\ttrain-rmse:10.54569+0.07301\ttest-rmse:11.85055+0.31178\n"
     ]
    },
    {
     "name": "stdout",
     "output_type": "stream",
     "text": [
      "[500]\ttrain-rmse:10.42470+0.07346\ttest-rmse:11.84727+0.30971\n"
     ]
    },
    {
     "name": "stdout",
     "output_type": "stream",
     "text": [
      "[534]\ttrain-rmse:10.34747+0.07468\ttest-rmse:11.84892+0.30953\n"
     ]
    },
    {
     "name": "stderr",
     "output_type": "stream",
     "text": [
      "\r",
      " 90%|███████████████████████████████████████████████████████████████████████████████████████████████████████████████████████████████████████████████████████████████████████████████████████████████████████▊                      | 9/10 [04:06<00:27, 27.69s/it]"
     ]
    },
    {
     "name": "stdout",
     "output_type": "stream",
     "text": [
      "[0]\ttrain-rmse:17.10096+0.13570\ttest-rmse:17.09636+0.55157\n"
     ]
    },
    {
     "name": "stdout",
     "output_type": "stream",
     "text": [
      "[50]\ttrain-rmse:13.07887+0.09058\ttest-rmse:13.26116+0.49248\n"
     ]
    },
    {
     "name": "stdout",
     "output_type": "stream",
     "text": [
      "[100]\ttrain-rmse:11.98685+0.07822\ttest-rmse:12.33401+0.41380\n"
     ]
    },
    {
     "name": "stdout",
     "output_type": "stream",
     "text": [
      "[150]\ttrain-rmse:11.57174+0.07962\ttest-rmse:12.06369+0.37844\n"
     ]
    },
    {
     "name": "stdout",
     "output_type": "stream",
     "text": [
      "[200]\ttrain-rmse:11.31776+0.07779\ttest-rmse:11.95163+0.36231\n"
     ]
    },
    {
     "name": "stdout",
     "output_type": "stream",
     "text": [
      "[250]\ttrain-rmse:11.12270+0.07327\ttest-rmse:11.89382+0.35158\n"
     ]
    },
    {
     "name": "stdout",
     "output_type": "stream",
     "text": [
      "[300]\ttrain-rmse:10.95988+0.07272\ttest-rmse:11.86139+0.34262\n"
     ]
    },
    {
     "name": "stdout",
     "output_type": "stream",
     "text": [
      "[350]\ttrain-rmse:10.81387+0.07087\ttest-rmse:11.84501+0.33516\n"
     ]
    },
    {
     "name": "stdout",
     "output_type": "stream",
     "text": [
      "[400]\ttrain-rmse:10.67946+0.06978\ttest-rmse:11.83330+0.32861\n"
     ]
    },
    {
     "name": "stdout",
     "output_type": "stream",
     "text": [
      "[450]\ttrain-rmse:10.55283+0.07200\ttest-rmse:11.82770+0.32204\n"
     ]
    },
    {
     "name": "stdout",
     "output_type": "stream",
     "text": [
      "[500]\ttrain-rmse:10.43221+0.07264\ttest-rmse:11.82303+0.31394\n"
     ]
    },
    {
     "name": "stdout",
     "output_type": "stream",
     "text": [
      "[550]\ttrain-rmse:10.31791+0.07145\ttest-rmse:11.82010+0.31162\n"
     ]
    },
    {
     "name": "stdout",
     "output_type": "stream",
     "text": [
      "[600]\ttrain-rmse:10.20949+0.07119\ttest-rmse:11.81949+0.30822\n"
     ]
    },
    {
     "name": "stdout",
     "output_type": "stream",
     "text": [
      "[602]\ttrain-rmse:10.20520+0.07116\ttest-rmse:11.81987+0.30782\n"
     ]
    },
    {
     "name": "stderr",
     "output_type": "stream",
     "text": [
      "\r",
      "100%|█████████████████████████████████████████████████████████████████████████████████████████████████████████████████████████████████████████████████████████████████████████████████████████████████████████████████████████████| 10/10 [04:52<00:00, 33.25s/it]"
     ]
    },
    {
     "name": "stderr",
     "output_type": "stream",
     "text": [
      "\r",
      "100%|█████████████████████████████████████████████████████████████████████████████████████████████████████████████████████████████████████████████████████████████████████████████████████████████████████████████████████████████| 10/10 [04:52<00:00, 29.20s/it]"
     ]
    },
    {
     "name": "stderr",
     "output_type": "stream",
     "text": [
      "\n"
     ]
    }
   ],
   "source": [
    "if param.get(\"eval_metric\", \"mae\") == \"rmse\":\n",
    "    score_key = \"test-rmse-mean\"\n",
    "    ylabel = \"Test RMSE Mean\"\n",
    "    title = \"Learning Curve: Test RMSE vs Boosting Rounds\"\n",
    "elif param.get(\"eval_metric\", \"mae\") == \"mae\":\n",
    "    score_key = \"test-mae-mean\"\n",
    "    ylabel = \"Test MAE Mean\"\n",
    "    title = \"Learning Curve: Test MAE vs Boosting Rounds\"\n",
    "elif param.get(\"eval_metric\", \"mae\") == \"logloss\":\n",
    "    score_key = \"test-logloss-mean\"\n",
    "    ylabel = \"Test Logloss Mean\"\n",
    "    title = \"Learning Curve: Test Logloss vs Boosting Rounds\"\n",
    "\n",
    "\n",
    "for i in tqdm(range(repeat_cv), leave=True, dynamic_ncols=True): \n",
    "    cv_result = xgb.cv(\n",
    "        params=param,\n",
    "        dtrain=dtrain,\n",
    "        obj=cauchyobj,\n",
    "        num_boost_round=num_boost_round,\n",
    "        folds=KFold(n_splits=folds_splits, shuffle=True, random_state=i),\n",
    "        early_stopping_rounds=early_stopping_rounds,\n",
    "        verbose_eval=50\n",
    "    )\n",
    "    \"\"\"\n",
    "    train-mae-mean: 各fold における訓練データの MAE の平均値。\n",
    "    train-mae-std: 訓練データの MAE の標準偏差。\n",
    "    test-mae-mean: 各fold における検証データの MAE の平均値。\n",
    "    test-mae-std: 検証データの MAE の標準偏差。\n",
    "    \"\"\"\n",
    "    xgb_cv.append(cv_result)\n",
    "    \n",
    "\n",
    "\n",
    "\n",
    "# 各 repeater ごとの最適ブーストラウンド数と検証MAE\n",
    "iteration_counts = [np.argmin(cv[score_key].values) for cv in xgb_cv]\n",
    "val_mae = [np.min(cv[score_key].values) for cv in xgb_cv]\n",
    "\n",
    "mean_iteration = np.mean(iteration_counts)\n",
    "mean_val_mae = np.mean(val_mae)\n",
    "min_val_mae = np.min(val_mae)\n",
    "results.append(f\"mean_iteration: {mean_iteration}\")\n",
    "results.append(f\"mean_val_{param['eval_metric']}: {mean_val_mae}\")\n",
    "results.append(f\"min_val_{param['eval_metric']}: {min_val_mae}\")\n",
    "results.append(\"\")\n",
    "\n",
    "###\n",
    "plt.figure(figsize=(10, 6))\n",
    "for i, cv_result in enumerate(xgb_cv):\n",
    "    rounds = np.arange(len(cv_result[score_key]))\n",
    "    plt.plot(rounds, cv_result[score_key], label=f\"CV repeater {i+1}\")\n",
    "    \n",
    "plt.xlabel(\"Boosting Round\")\n",
    "plt.ylabel(ylabel)\n",
    "plt.title(title)\n",
    "plt.legend()\n",
    "plt.grid(True)\n",
    "\n",
    "plt.savefig(os.path.join(OUTPUT_PATH, f\"learning_curve_{PREDICT_YEAR}.png\"))\n",
    "plt.close()\n",
    "###\n"
   ]
  },
  {
   "cell_type": "code",
   "execution_count": 22,
   "id": "a3466597",
   "metadata": {
    "execution": {
     "iopub.execute_input": "2025-03-18T16:13:53.508820Z",
     "iopub.status.busy": "2025-03-18T16:13:53.507788Z",
     "iopub.status.idle": "2025-03-18T16:13:53.515554Z",
     "shell.execute_reply": "2025-03-18T16:13:53.514291Z"
    },
    "papermill": {
     "duration": 0.045851,
     "end_time": "2025-03-18T16:13:53.518893",
     "exception": false,
     "start_time": "2025-03-18T16:13:53.473042",
     "status": "completed"
    },
    "tags": []
   },
   "outputs": [
    {
     "name": "stdout",
     "output_type": "stream",
     "text": [
      "最適ブーストラウンド数: [504, 451, 442, 523, 446, 517, 507, 430, 509, 577]\n",
      "test-rmse-mean: [11.864244098885667, 11.840011617170944, 11.814435029635186, 11.785532323598753, 11.819158609059087, 11.7899017250262, 11.824810263282808, 11.884147340264118, 11.846105374409987, 11.817078540937594]\n"
     ]
    }
   ],
   "source": [
    "print(\"最適ブーストラウンド数:\", iteration_counts)\n",
    "print(f\"{score_key}:\", val_mae)\n",
    "results.append(f\"最適ブーストラウンド: {iteration_counts}\")\n",
    "results.append(f\"{score_key}: {val_mae}\")\n",
    "results.append(\"\")"
   ]
  },
  {
   "cell_type": "code",
   "execution_count": 23,
   "id": "b85cc25a",
   "metadata": {
    "execution": {
     "iopub.execute_input": "2025-03-18T16:13:53.591013Z",
     "iopub.status.busy": "2025-03-18T16:13:53.591013Z",
     "iopub.status.idle": "2025-03-18T16:18:52.966942Z",
     "shell.execute_reply": "2025-03-18T16:18:52.966942Z"
    },
    "papermill": {
     "duration": 299.413674,
     "end_time": "2025-03-18T16:18:52.969097",
     "exception": false,
     "start_time": "2025-03-18T16:13:53.555423",
     "status": "completed"
    },
    "tags": []
   },
   "outputs": [
    {
     "name": "stderr",
     "output_type": "stream",
     "text": [
      "\r",
      "  0%|                                                                                                                                                                                                                                      | 0/10 [00:00<?, ?it/s]"
     ]
    },
    {
     "name": "stderr",
     "output_type": "stream",
     "text": [
      "C:\\Users\\81809\\AppData\\Local\\Temp\\ipykernel_22492\\3386215446.py:18: FutureWarning: Setting an item of incompatible dtype is deprecated and will raise an error in a future version of pandas. Value '[ 2.05601215e+01  3.65854502e-01  1.69345436e+01  6.53689051e+00\n",
      " -5.95279837e+00 -3.79393041e-01  7.43667841e+00  7.81915092e+00\n",
      "  2.28873367e+01  1.85647702e+00  1.04716377e+01  6.93282413e+00\n",
      "  7.32929277e+00  7.98129368e+00 -4.51638079e+00  2.12905426e+01\n",
      " -2.69581246e+00  6.99498510e+00  8.69098091e+00  2.52292395e+00\n",
      "  3.75529981e+00  3.19544196e+00 -8.74642074e-01 -1.04695010e+00\n",
      "  6.01786280e+00  6.43292999e+00  3.70078540e+00  1.67103043e+01\n",
      "  3.41529989e+00 -6.94552517e+00 -4.30018473e+00  5.40728664e+00\n",
      "  1.34069562e-01  2.03995304e+01  8.49462795e+00 -6.46271515e+00\n",
      " -1.87266505e+00  7.90326166e+00  6.09438467e+00  5.06276321e+00\n",
      " -1.73479483e-01  8.04820919e+00 -3.34629083e+00  1.41217470e+01\n",
      "  2.90883613e+00  5.72864676e+00 -1.14193249e+01  2.94397879e+00\n",
      "  1.52163057e+01 -1.06945062e+00  2.15940647e+01 -1.62884402e+00\n",
      "  4.76936436e+00  5.15540695e+00 -3.30965638e+00  7.48688745e+00\n",
      "  2.18556833e+00  5.35688925e+00  1.60334361e+00  9.79100704e+00\n",
      " -6.04331398e+00 -1.29760492e+00  6.57295406e-01  2.32462578e+01\n",
      " -1.70455062e+00  7.84469318e+00  3.21848631e+00 -5.88147736e+00\n",
      "  1.19882278e+01 -2.79911590e+00  4.52462101e+00  2.38011684e+01\n",
      " -5.88397312e+00 -2.87663484e+00  2.84623766e+00  4.92088938e+00\n",
      " -2.76707745e+00  5.92665243e+00  1.68507175e+01  2.01711960e+01\n",
      "  3.37149405e+00 -4.47000790e+00  2.11635566e+00 -2.26595491e-01\n",
      "  8.18667889e-01  2.99236560e+00  1.36432743e+00 -1.04978848e+01\n",
      " -3.51490855e+00 -2.58332253e+00  9.21094322e+00  6.92505169e+00\n",
      "  3.54049897e+00  6.05358183e-01 -3.09262705e+00  1.80876751e+01\n",
      "  1.34493446e+00  6.03413010e+00  2.08372421e+01 -1.65948403e+00\n",
      " -4.68782997e+00  1.53128490e+01  1.95242538e+01  1.30627441e+01\n",
      "  4.37236929e+00 -6.28740120e+00 -7.34326601e-01  1.22198429e+01\n",
      "  5.66187668e+00 -4.80001402e+00  1.09616327e+00 -5.24733973e+00\n",
      "  5.61937809e+00 -6.54728031e+00 -1.49617043e+01  4.75410271e+00\n",
      "  7.22010657e-02  9.60740387e-01  3.49305153e+00  3.90453458e+00\n",
      "  2.55417085e+00  1.47071075e+00  1.07755213e+01  1.02181139e+01\n",
      "  7.27636909e+00  6.02966070e+00  1.14758177e+01 -2.23226476e+00\n",
      " -1.56165648e+00  3.34900784e+00  1.93979740e+01 -2.49223232e+00\n",
      "  1.30646849e+01 -1.31285009e+01 -6.94165564e+00  1.45026054e+01\n",
      "  3.64636922e+00  9.23641586e+00  8.05632687e+00 -1.55888379e+00\n",
      "  1.48520684e+00 -3.58426189e+00  8.24795723e+00  4.29740238e+00\n",
      "  2.52093863e+00 -1.63827085e+00  1.08925323e+01  1.36464071e+00\n",
      "  6.77373838e+00 -1.63826895e+00  1.41408646e+00  1.18721187e+00\n",
      "  2.00401592e+01  1.59396324e+01  9.93494415e+00  4.71675825e+00\n",
      "  4.52338696e+00  2.72372818e+00  2.16960683e-02  1.52514589e+00\n",
      "  1.18712568e+00 -1.14254601e-01  9.30939579e+00  1.39503498e+01\n",
      " -1.92217708e+00  3.05970597e+00 -6.90346360e-01  2.70109773e+00\n",
      "  1.98382974e+00  3.72154188e+00  7.58767605e+00  2.03125548e+00\n",
      " -2.34463906e+00 -1.26704678e-01  5.62436295e+00  1.19211757e+00\n",
      "  1.86100292e+01  2.62211847e+00  6.67248344e+00  3.25417709e+00\n",
      " -1.68465650e+00  4.08869791e+00  8.60036182e+00 -8.01180553e+00\n",
      "  3.53209519e+00  2.09874973e+01  1.09702082e+01 -2.14911580e-01\n",
      "  1.67229688e+00  6.78576136e+00  3.65011024e+00  1.45966330e+01\n",
      " -7.33415902e-01  3.55468273e+00  8.18857193e+00  6.09625673e+00\n",
      "  3.21832013e+00  9.91518593e+00  1.41320524e+01  1.10073099e+01\n",
      "  2.31000662e+00 -2.40862141e+01  4.92938900e+00  3.60266137e+00\n",
      "  6.91200447e+00  4.31744862e+00  4.35871601e+00  4.63356876e+00\n",
      "  4.94518661e+00  1.90908802e+00  1.92558918e+01  9.47208595e+00\n",
      "  2.93514900e+01  4.38622131e+01  2.68975163e+01  2.37472420e+01\n",
      "  2.12037697e+01  2.41101608e+01  8.53737354e+00  1.40228659e-01\n",
      "  1.26695271e+01  5.26282215e+00 -4.97317362e+00  4.76417446e+00\n",
      "  1.90114441e+01  2.46622257e+01  8.73651409e+00  2.20259686e+01\n",
      "  1.15418110e+01  9.14574718e+00  7.57582998e+00  9.88030910e+00\n",
      " -3.15568066e+00  3.40608826e+01  1.59208040e+01  4.04163933e+00\n",
      "  3.63684158e+01  4.19608116e+00 -3.95925450e+00  2.14388237e+01\n",
      "  2.12599397e+00  1.28693132e+01  1.58362427e+01  4.96428156e+00\n",
      "  2.83697796e+00  1.14207144e+01  1.96431217e+01  3.61514168e+01\n",
      "  1.38320780e+01 -1.07488096e+00 -1.11964500e+00  6.76379383e-01\n",
      " -1.47771072e+01  5.26954460e+00  1.45319529e+01 -1.14490092e+00\n",
      "  2.10424194e+01  4.37314529e+01 -4.98907948e+00  8.18531156e-01\n",
      "  1.48560762e+01  2.67384386e+00 -5.38450718e+00  7.75255108e+00\n",
      "  2.74047813e+01  1.05687428e+01  8.58295059e+00  5.65411472e+00\n",
      " -2.43370438e+00  2.20113444e+00  2.82511711e+01  1.03484259e+01\n",
      "  1.70613594e+01  1.46115780e+01 -9.91512585e+00  1.35006161e+01\n",
      "  1.13904810e+01  4.08770084e+00 -4.61806631e+00  3.59334493e+00\n",
      "  2.20585966e+00  2.01813889e+00  3.82103958e+01  1.36682177e+01\n",
      "  3.52519989e+01  3.46234283e+01 -1.10608184e+00  2.87726212e+01\n",
      " -1.77699819e-01 -1.66483080e+00  6.22369623e+00  1.27113609e+01\n",
      "  1.37612762e+01  1.32504663e+01  8.90145683e+00  3.37262774e+00\n",
      "  1.19258633e+01 -3.38339400e+00  1.18762255e+01 -3.42699671e+00\n",
      "  1.89907074e+01  2.64160042e+01  1.17490387e+01 -2.50178337e-01\n",
      " -1.15965474e+00  9.51827645e-01  7.94028807e+00 -2.07120399e+01\n",
      " -1.13893948e+01 -9.97094250e+00  1.46934080e+00  4.07055712e+00\n",
      "  9.03394222e+00  9.81629753e+00  3.17544479e+01  1.66844273e+01\n",
      "  4.40451145e+00  3.85679626e+01 -1.56140995e+00  1.01382189e+01\n",
      "  5.31037664e+00  1.97944283e+00  3.14485049e+00  2.32471514e+00\n",
      "  1.57769275e+00  5.12763453e+00 -4.93260384e+00  7.45958948e+00\n",
      " -8.27622235e-01  7.15498400e+00 -5.15756607e+00  1.86315479e+01\n",
      "  1.20975094e+01 -1.10311079e+01  2.16584892e+01 -7.63238859e+00\n",
      " -4.65544611e-01  9.72237587e+00 -4.17544556e+00 -1.26404247e+01\n",
      " -2.22056985e+00 -2.26634254e+01 -1.71110020e+01 -8.54559612e+00\n",
      " -5.45339489e+00  3.87606740e+00 -5.46822929e+00  1.34333777e+00\n",
      " -4.12367630e+00 -4.47090530e+00 -5.73008108e+00  5.55370092e+00\n",
      " -7.74813223e+00 -4.01230860e+00 -1.80198822e+01  2.26784897e+00\n",
      "  4.34654188e+00 -5.68977451e+00 -3.87984610e+00  2.80764937e+00\n",
      "  6.57069588e+00 -3.89727831e+00 -7.57788944e+00 -3.51548338e+00\n",
      " -2.13751388e+00 -1.90603161e+00 -2.28039818e+01 -3.93796176e-01\n",
      "  2.05073881e+00 -6.63113499e+00 -6.99095535e+00 -5.27138758e+00\n",
      " -7.61387110e+00 -7.61978292e+00 -2.66976118e+00 -6.33425617e+00\n",
      "  4.44068015e-02 -5.81586790e+00  5.29243886e-01  2.32318354e+00\n",
      " -1.11575937e+01 -7.03895760e+00 -6.22654772e+00 -2.79225540e+00\n",
      " -9.50490856e+00 -4.47083712e+00 -1.60431786e+01 -2.55149860e+01\n",
      " -3.54349279e+00 -1.84711342e+01 -2.33342457e+00 -6.49471807e+00\n",
      " -2.66309929e+00 -1.56231129e+00 -8.10875988e+00 -2.41562411e-01\n",
      " -6.64554405e+00 -2.57692471e+01  3.27378201e+00 -2.15049496e+01\n",
      " -6.93261099e+00 -1.16700106e+01  4.36109829e+00  2.92156053e+00\n",
      " -8.77924061e+00  3.56890750e+00 -5.05810833e+00 -5.57403421e+00\n",
      " -3.61951375e+00 -6.04455280e+00 -9.34402275e+00 -1.53702092e+00\n",
      "  3.96430326e+00  3.99879009e-01 -1.19114809e+01 -6.26691389e+00\n",
      "  2.80888987e+00  2.28234291e+00  3.41957152e-01 -5.75767612e+00\n",
      " -3.16787553e+00  6.35907078e+00 -1.15796480e+01  3.62658596e+00\n",
      " -1.04461212e+01 -3.16412354e+00 -9.14416885e+00 -4.75809765e+00\n",
      " -2.35684657e+00 -1.18909292e+01 -3.28524566e+00 -2.23567429e+01\n",
      " -1.54518833e+01 -2.17331553e+00 -1.20591938e+00 -2.56338406e+00\n",
      " -2.49251223e+00 -2.66303420e+00 -8.52546096e-02  1.75020528e+00\n",
      " -9.92357016e-01 -3.09023781e+01 -3.98264503e+00 -9.26204872e+00\n",
      " -7.90824318e+00  9.33520973e-01  1.52370083e+00 -6.31412172e+00\n",
      " -1.70532119e+00  1.88460350e+00 -7.32221603e-02 -9.10130501e+00\n",
      "  1.91612506e+00  6.61868668e+00 -5.69488645e-01 -7.70218325e+00\n",
      " -1.13417506e+00 -1.47703695e+01 -1.29048786e+01 -3.05551028e+00\n",
      " -2.11182952e+00 -2.12363696e+00 -2.96468854e+00 -6.80471373e+00\n",
      " -1.52322788e+01 -9.07504559e+00 -2.01074076e+00  3.10350347e+00\n",
      " -9.07356548e+00 -2.26308746e+01  1.00896753e-01 -3.21239066e+00\n",
      " -4.31221819e+00  3.16934180e+00  7.56206989e+00 -7.05153123e-02\n",
      "  1.02496374e+00  2.02663088e+00  2.22818160e+00 -1.46821547e+01\n",
      " -7.80408669e+00 -1.74303150e+01 -4.73623276e+00 -4.33455038e+00\n",
      "  2.08789015e+00 -1.07826223e+01  1.96241093e+00 -1.26706421e+00\n",
      " -2.42617092e+01 -2.59236450e+01 -1.69275646e+01 -4.71270323e+00\n",
      " -3.55057764e+00 -4.75526762e+00 -4.54980642e-01 -9.04793072e+00\n",
      " -8.18938923e+00 -1.28448892e+00 -2.09015441e+00  3.03108740e+00\n",
      " -1.57305107e+01 -2.10519862e+00  3.96538663e+00 -5.45513487e+00\n",
      "  8.19164848e+00 -6.26048946e+00  5.40504122e+00 -7.13258123e+00\n",
      " -1.67448120e+01 -1.58846588e+01 -3.93560648e+00  6.44895840e+00\n",
      " -1.05667372e+01 -3.12587953e+00 -8.97485971e-01  2.55148411e+00\n",
      " -1.54536705e+01  3.27295512e-01 -1.71338959e+01 -2.16930366e+00\n",
      " -5.14069986e+00 -5.13740444e+00 -3.15967870e+00 -6.54538155e-01\n",
      " -1.53164921e+01  1.64654404e-01  3.84494209e+00  4.15544128e+00\n",
      " -9.52086830e+00  1.23150611e+00 -1.85726249e+00 -6.24261332e+00\n",
      " -4.32648897e+00 -4.42194986e+00 -3.19909406e+00  4.85243654e+00\n",
      " -2.01744843e+01 -3.67745552e+01 -3.18474150e+00 -5.07823515e+00\n",
      " -5.36977673e+00  2.89962578e+00 -1.25047264e+01 -2.89808464e+01\n",
      " -6.11034775e+00  4.90993690e+00  2.39319348e+00 -3.41389732e+01\n",
      " -3.74421463e+01  1.59925175e+00 -4.18101788e+00 -2.56544819e+01\n",
      "  7.88667965e+00 -2.36080189e+01 -2.68044901e+00 -8.16192806e-01\n",
      " -8.86663342e+00 -2.93406639e+01 -1.22380519e+00 -1.63095074e+01\n",
      " -1.81576385e+01 -5.55896950e+00 -2.88058877e+00  4.10512161e+00\n",
      " -4.04314117e+01  1.23797727e+00 -5.50739670e+00 -1.29358263e+01\n",
      "  7.80752325e+00  1.03487623e+00  6.85618496e+00 -1.00371380e+01\n",
      " -3.63434124e+00 -1.74557285e+01 -8.29911232e+00 -7.53483438e+00\n",
      " -2.79285431e+00  2.33104920e+00  5.31295443e+00 -3.05858860e+01\n",
      " -1.15434542e+01 -3.18267632e+00  1.21173792e+01 -3.17648487e+01\n",
      " -4.21112537e+00 -9.04481888e+00 -1.38877690e+00  4.27864075e+00\n",
      " -3.21438384e+00 -3.66274333e+00  6.32296658e+00  3.05660558e+00\n",
      " -1.35663395e+01 -9.74152756e+00 -3.39907494e+01 -5.96588564e+00\n",
      " -2.29015751e+01 -2.87486591e+01 -9.13370895e+00 -1.56605654e+01\n",
      " -1.34408655e+01 -3.61645460e+00 -3.72259445e+01 -3.02107277e+01\n",
      " -1.36961422e+01 -5.13451719e+00 -5.80510283e+00 -3.28618011e+01\n",
      " -8.18329144e+00  9.18367386e+00 -1.07479897e+01 -3.09171939e+00\n",
      " -8.68030167e+00 -1.19041233e+01 -8.95520878e+00 -2.49701252e+01\n",
      " -2.87354126e+01  3.85993791e+00 -4.12538958e+00 -7.81795883e+00\n",
      " -2.35434284e+01 -2.62917757e+00 -2.73311958e+01  1.10547857e+01\n",
      " -1.98241210e+00  8.36344433e+00  3.37777615e+00 -2.55086803e+01\n",
      " -4.35292244e+00 -2.96279640e+01 -1.44816217e+01 -9.42168999e+00\n",
      "  5.20255566e-01  5.04887247e+00 -2.64964790e+01  5.97529364e+00\n",
      " -1.32337027e+01 -2.63513541e+00 -3.45257721e+01 -1.27781591e+01\n",
      "  1.68390446e+01  5.46985769e+00 -1.41313353e+01 -1.48996620e+01\n",
      " -5.50525618e+00  7.77568102e+00]' has dtype incompatible with int64, please explicitly cast to a compatible dtype first.\n",
      "  preds[val_index] = model.predict(dval_i)\n"
     ]
    },
    {
     "name": "stderr",
     "output_type": "stream",
     "text": [
      "\r",
      " 10%|██████████████████████▏                                                                                                                                                                                                       | 1/10 [00:35<05:15, 35.06s/it]"
     ]
    },
    {
     "name": "stderr",
     "output_type": "stream",
     "text": [
      "C:\\Users\\81809\\AppData\\Local\\Temp\\ipykernel_22492\\3386215446.py:18: FutureWarning: Setting an item of incompatible dtype is deprecated and will raise an error in a future version of pandas. Value '[-8.23090172e+00  1.59163046e+00  1.57611952e+01 -9.74307358e-02\n",
      "  7.07872534e+00  5.52892590e+00  2.14463978e+01 -2.00613642e+00\n",
      "  1.26849947e+01  6.61888218e+00 -3.12749863e+00 -5.75720596e+00\n",
      "  6.00336170e+00  8.20120716e+00 -2.95289564e+00  2.35012207e+01\n",
      "  1.06471121e+00  2.85095572e+00  1.04013138e+01  8.90647888e+00\n",
      "  8.05713844e+00  4.45096922e+00  7.09644032e+00  4.39708281e+00\n",
      " -7.15353441e+00  2.38054776e+00  8.22009754e+00 -2.20227814e+00\n",
      "  2.55544701e+01  1.60963573e+01  1.30551462e+01  3.83732557e+00\n",
      "  6.53578472e+00 -3.02397680e+00  5.63616943e+00  6.29105806e+00\n",
      " -4.05957413e+00  3.63199234e-01  8.15829182e+00  2.13659477e+01\n",
      "  1.19785757e+01  1.11920214e+01  1.78533974e+01  8.05191612e+00\n",
      "  1.65169506e+01  6.43376684e+00  7.87850904e+00  5.57304573e+00\n",
      " -3.86587739e-01  6.56410980e+00  9.71938133e-01 -4.83286172e-01\n",
      "  2.90133929e+00  6.26659632e+00  7.93929625e+00  2.53740501e+01\n",
      "  6.86263943e+00 -3.45224470e-01  1.01102886e+01  9.70496559e+00\n",
      "  6.25291872e+00  6.81311321e+00 -1.71766388e+00 -3.71309280e+00\n",
      " -1.79193878e+00  2.64938903e+00 -1.46896589e+00  1.66885781e+00\n",
      "  1.87504826e+01  1.19902058e+01  9.23319280e-01  2.87797890e+01\n",
      "  1.31559334e+01  3.68797779e+00  2.00498009e+01 -8.49152565e+00\n",
      "  5.98583746e+00  6.27079582e+00  2.79190016e+00  3.56512117e+00\n",
      "  5.47051787e-01 -4.79495317e-01  1.72316341e+01  8.44485950e+00\n",
      " -2.31098604e+00 -1.10866518e+01  4.19493628e+00  8.21190453e+00\n",
      "  2.65525103e+00  1.10033500e+00  3.04696655e+00 -5.12293959e+00\n",
      " -3.34985852e+00  1.84020748e+01 -2.36280394e+00 -2.33095908e+00\n",
      " -2.82739854e+00  1.31082983e+01  1.04301329e+01  1.56881790e+01\n",
      "  4.07358694e+00 -5.50587177e+00  1.20830441e+01  8.08570290e+00\n",
      "  1.16371727e+01  2.11430764e+00  9.44712830e+00 -1.30293620e+00\n",
      "  1.82489853e+01 -2.39335918e+00  2.16381512e+01 -2.22332144e+00\n",
      "  1.14276505e+00  1.44668255e+01  1.95027828e+01 -3.07007599e+00\n",
      "  1.87953007e+00 -2.87568736e+00 -8.99612617e+00 -6.49532080e+00\n",
      "  2.68629432e+00  8.41143608e-01  4.91203070e-01 -2.11523390e+00\n",
      " -3.13214564e+00  1.83200806e-01 -5.74568558e+00  6.60181189e+00\n",
      "  2.36868000e+00  2.97755947e+01  6.92081594e+00  2.75608101e+01\n",
      "  4.91627550e+00 -8.45283508e-01  9.57928562e+00 -7.73524904e+00\n",
      " -5.32641411e+00  3.58971804e-01 -6.64789867e+00 -4.43904579e-01\n",
      "  6.43270302e+00 -7.34787881e-01  2.24424706e+01  1.65934601e+01\n",
      "  3.89742017e+00  8.55868936e-01 -5.67107320e-01  3.45061392e-01\n",
      "  1.20306350e-01  3.58328193e-01 -2.91466260e+00 -3.30886453e-01\n",
      "  2.38653564e+00 -6.50918245e+00 -1.33525670e+00  2.90384364e+00\n",
      "  2.12582989e+01  7.85090148e-01  2.93685007e+00  6.37748337e+00\n",
      " -7.89573097e+00  2.72388935e+00 -1.39959407e+00 -4.72145939e+00\n",
      " -3.88975787e+00 -8.20519179e-02  3.07866516e+01  1.70022607e+00\n",
      "  6.40244007e+00 -3.23777413e+00  6.51344240e-01  1.27407475e+01\n",
      "  2.04127159e+01  9.78241444e+00  4.04551697e+00 -8.00014198e-01\n",
      "  1.15929356e+01 -5.04382229e+00 -1.89623165e+01 -5.09321165e+00\n",
      "  4.55276299e+00  7.34612083e+00 -2.71741652e+00  7.78549671e+00\n",
      "  2.02992210e+01  9.53793240e+00  1.29622579e+00  2.36905613e+01\n",
      " -5.55267990e-01  8.82255745e+00  2.43087769e+01 -2.51752305e+00\n",
      " -1.06675446e+00  3.68499494e+00  1.48984325e+00  5.11985302e+00\n",
      " -5.40684462e+00  1.90754855e+00 -7.59131765e+00  9.80640054e-01\n",
      "  3.50578356e+00 -2.77603388e+00  2.16653862e+01 -5.71775854e-01\n",
      "  1.60871048e+01  1.66487598e+01  1.81260872e+01 -3.84203267e+00\n",
      "  2.14425869e+01  2.56546378e+00 -8.99092960e+00 -1.04712849e+01\n",
      "  1.16879797e+01  2.19958401e+00 -8.70147169e-01 -3.42241955e+00\n",
      "  5.67782688e+00  4.83619165e+00  4.50716829e+00  1.98936501e+01\n",
      " -3.25555849e+00  1.86145067e+00  5.55799198e+00  2.07666035e+01\n",
      " -2.86441040e+00  1.77377796e+00  1.93810654e+01  2.84662228e+01\n",
      " -7.96189022e+00 -3.76273441e+00  8.16095161e+00  2.72928753e+01\n",
      "  3.79418373e+01 -1.50399637e+00  5.61056519e+00  2.11964436e+01\n",
      "  7.09664869e+00  2.27188702e+01 -6.67413330e+00 -6.95867300e+00\n",
      "  7.21862459e+00  9.72276878e+00  6.95892143e+00 -8.22308826e+00\n",
      "  2.27977066e+01  7.38815544e-03 -5.37014484e+00  1.24315042e+01\n",
      "  9.61677969e-01  1.86578083e+00  1.33596458e+01 -1.19576406e+01\n",
      "  1.59712276e+01  2.01175594e+01  6.50592923e-01  8.01128960e+00\n",
      "  1.06312828e+01  9.33048058e+00  3.34796371e+01  2.16004219e+01\n",
      "  4.95208788e+00 -8.34102440e+00  3.30172882e+01  1.46063404e+01\n",
      "  3.32702446e+00  6.41827154e+00  2.12244015e+01  4.49130974e+01\n",
      "  2.09951019e+01 -6.42397881e+00  3.18980522e+01  1.23681555e+01\n",
      "  3.63109436e+01  1.21932077e+01  1.82281494e+00  4.47440147e+00\n",
      "  1.17963057e+01  7.56176138e+00  3.78421235e+00  2.46216068e+01\n",
      "  2.89804726e+01  8.65256691e+00  7.60805464e+00  3.08749700e+00\n",
      "  2.71706657e+01 -4.14752531e+00  1.14293947e+01  2.57476788e+01\n",
      " -1.58036077e+00  2.16930938e+00  3.94967735e-01  1.35395298e+01\n",
      "  3.04584198e+01  2.90494013e+00  1.79871883e+01  8.55268192e+00\n",
      "  2.66774845e+01 -1.49656284e+00 -6.28877974e+00  3.77256918e+00\n",
      "  6.81745672e+00  1.11279230e+01  2.18886209e+00  4.57575083e+00\n",
      " -1.14871759e+01  1.77585471e+00 -2.13988376e+00 -7.09095573e+00\n",
      " -1.84387696e+00  2.25246334e+00 -9.83972609e-01  3.89709854e+01\n",
      "  2.57303333e+01  7.26202774e+00  6.25122452e+00 -5.70732641e+00\n",
      "  7.08096170e+00  2.18884277e+01 -4.98942280e+00  1.85550690e+01\n",
      "  1.78839266e+00 -1.12522411e+01 -1.25524263e+01  2.77319660e+01\n",
      "  5.03979254e+00  6.28389359e+00  1.25736313e+01 -1.02033195e+01\n",
      "  5.04312897e+00 -1.61878738e+01 -2.32222824e+01  3.08357501e+00\n",
      " -7.19557703e-01  2.73041457e-01 -8.46982861e+00  3.73154402e+00\n",
      " -6.81995153e+00  4.44597340e+00 -6.39005470e+00 -5.62160778e+00\n",
      "  2.09044471e-01  8.69752598e+00  1.09260535e+00  2.85611486e+00\n",
      " -2.19529057e+01 -2.64096642e+01 -2.11635475e+01 -6.54597902e+00\n",
      " -1.44415700e+00 -7.57046223e-01 -7.82156658e+00 -3.49492598e+00\n",
      " -2.44227386e+00 -3.09594059e+00 -1.74532735e+00  2.12230653e-01\n",
      "  4.81804132e+00 -7.13983297e+00  8.48758340e-01 -9.36474991e+00\n",
      " -7.51721716e+00 -1.92502499e+01 -1.36290741e+01  1.85026503e+00\n",
      "  3.34629011e+00  8.54308510e+00 -1.53424149e+01  3.11079836e+00\n",
      "  7.31191492e+00 -1.36403418e+00 -2.32550788e+00  1.22305810e+00\n",
      "  6.86115456e+00 -5.98938465e+00  6.65207267e-01 -7.34265566e+00\n",
      " -2.03150845e+00 -2.21014996e+01 -5.42819309e+00  1.70031881e+00\n",
      "  4.81906128e+00  3.15504885e+00 -8.41973877e+00 -8.31553173e+00\n",
      "  1.67740929e+00  2.93712854e+00  4.38796766e-02 -6.23783922e+00\n",
      " -1.32612104e+01 -5.46184301e+00 -8.52804375e+00  2.34044838e+00\n",
      " -7.79433823e+00 -6.20977259e+00 -5.98815966e+00 -2.94586635e+00\n",
      "  1.07215571e+00 -1.26417484e+01 -2.90559597e+01  1.77654493e+00\n",
      " -3.19315219e+00 -2.43399086e+01 -3.08867264e+00 -3.43913054e+00\n",
      " -1.25077610e+01  5.36161602e-01 -2.52928791e+01 -2.13952694e+01\n",
      "  3.89095813e-01 -5.83685040e-01  5.00076354e-01  2.77546930e+00\n",
      " -6.94201612e+00  1.44233227e+01 -2.87366734e+01  3.45313168e+00\n",
      " -1.64487991e+01 -3.38796020e+00 -1.88611579e+00  4.09363174e+00\n",
      " -1.19004107e+01 -4.24022865e+00  1.87710595e+00 -1.38211042e-01\n",
      " -9.94050682e-01  2.19347548e+00 -3.25729442e+00 -1.59463084e+00\n",
      "  6.71588039e+00 -3.67334151e+00  1.00690823e+01  6.05572653e+00\n",
      "  4.14777422e+00  1.48855839e+01  3.81380022e-02  3.43039513e+00\n",
      "  1.29939258e+00 -3.04760876e+01 -7.42349100e+00 -6.59157276e+00\n",
      "  2.11994863e+00  2.55883718e+00 -2.98858857e+00 -2.44849280e-01\n",
      " -6.00493383e+00 -9.85616207e+00 -6.25561297e-01  2.58733940e+00\n",
      " -3.82147384e+00 -1.23556042e+01 -2.76720023e+00 -3.45075297e+00\n",
      " -7.53432369e+00 -1.67539806e+01 -2.79757953e+00  7.09431744e+00\n",
      " -1.27387500e+00  1.44786561e+00 -9.92528152e+00  5.58854866e+00\n",
      "  6.09634542e+00  7.41243064e-01 -8.19302750e+00  3.53655028e+00\n",
      " -2.24818096e+01 -5.02757788e+00 -4.73702717e+00 -2.32919292e+01\n",
      " -1.07889376e+01 -1.77857995e+00 -2.78474951e+00  5.97350359e-01\n",
      "  3.75431204e+00 -2.20100803e+01 -2.33114300e+01 -4.40458155e+00\n",
      " -6.28486776e+00 -3.71302152e+00 -2.40155268e+00 -4.12033129e+00\n",
      " -3.70583940e+00  3.86014628e+00  5.47358334e-01 -2.28511677e+01\n",
      "  2.69883037e+00 -9.13077295e-01 -3.29592919e+00  3.11500520e-01\n",
      " -5.81775486e-01 -2.04744606e+01 -2.04636936e+01 -4.22847939e+00\n",
      " -4.74158704e-01 -1.31057863e+01 -3.15365839e+00  3.10577130e+00\n",
      " -7.22184539e-01  1.30905986e+00 -1.89044610e-01 -5.57637835e+00\n",
      " -8.13566446e-01 -5.32595968e+00 -2.39003515e+00 -4.15729618e+00\n",
      " -3.77564001e+00 -2.94010234e+00  7.54283816e-02 -1.67984664e+00\n",
      "  2.85706258e+00  4.87093306e+00 -8.07056141e+00 -3.53015494e+00\n",
      " -2.26757202e+01 -5.60767078e+00 -1.67598896e+01 -2.07242374e+01\n",
      "  5.82130814e+00  7.12866879e+00 -7.99389935e+00 -6.23449087e+00\n",
      "  4.29266214e+00 -1.02654600e+01 -2.82421327e+00 -6.65207565e-01\n",
      " -1.53881159e+01 -5.10159874e+00  2.55730414e+00 -1.01700163e+01\n",
      " -2.31747894e+01  4.45453405e+00  2.42284799e+00  1.07554400e+00\n",
      "  6.73774481e-01 -6.02434301e+00 -2.74086952e+00 -2.93309536e+01\n",
      " -4.43195610e+01 -2.86281967e+01 -2.53776836e+01 -1.84640992e+00\n",
      " -7.10780525e+00 -1.82644939e+01 -2.36919737e+00 -9.80534732e-01\n",
      " -1.96373291e+01 -4.56796074e+00 -1.64872494e+01 -2.56992168e+01\n",
      " -1.54700780e+00 -3.23950553e+00 -1.53258381e+01 -2.82776852e+01\n",
      "  4.68539333e+00 -6.59367180e+00  6.36058426e+00 -1.13923597e+01\n",
      " -1.76247215e+01 -3.03762836e+01 -1.03051710e+01 -1.80472791e+00\n",
      " -1.29792089e+01 -7.15244591e-01 -6.72579002e+00  4.29623842e+00\n",
      " -7.99976397e+00 -3.10966816e+01 -1.12976885e+01 -1.55411234e+01\n",
      " -3.41679649e+01 -5.15394592e+00  2.64248371e+00 -2.18383274e+01\n",
      " -1.46512671e+01 -9.81795406e+00 -4.54363775e+00 -8.42180061e+00\n",
      "  7.79128599e+00 -1.99276400e+00  1.62890804e+00 -3.24890671e+01\n",
      " -2.78858795e+01 -4.14430809e+01  3.50325251e+00 -1.01109481e+00\n",
      " -1.50569286e+01 -8.11640561e-01 -1.00656252e+01 -1.50995035e+01\n",
      " -4.30619812e+00 -1.04744549e+01 -6.42690516e+00 -1.54657745e+00\n",
      " -3.93387961e+00 -1.09979906e+01 -2.19789162e+01  4.33466053e+00\n",
      " -3.40781555e+01 -8.02467442e+00  1.03063965e+01 -3.02989559e+01\n",
      "  6.68522072e+00 -1.66934147e+01 -8.24248791e+00 -3.19606857e+01\n",
      " -2.58696499e+01 -5.03956032e+00  2.05185914e+00 -1.32554054e+01\n",
      "  3.39035392e+00 -2.90184164e+00 -1.29830246e+01 -3.46240306e+00\n",
      " -2.23745033e-02  1.68964255e+00 -1.79340954e+01 -7.81781054e+00\n",
      " -2.17475796e+01  3.20229053e-01 -1.05359583e+01 -4.73550606e+00\n",
      " -6.03988552e+00  2.02116776e+00 -1.18043737e+01 -1.72633762e+01\n",
      " -1.46570575e+00 -1.61912785e+01 -6.54224586e+00 -2.74458480e+00\n",
      " -8.22351265e+00 -2.65960617e+01 -6.60544729e+00  2.20929527e+01\n",
      "  1.41079903e+01 -6.59301853e+00 -3.74410667e+01 -9.55389500e+00\n",
      " -2.35154133e+01 -6.22463322e+00 -2.52853756e+01  4.69215107e+00\n",
      " -1.85415573e+01 -9.42665386e+00 -1.18887110e+01 -1.22913141e+01\n",
      " -9.88131142e+00 -4.33890963e+00]' has dtype incompatible with int64, please explicitly cast to a compatible dtype first.\n",
      "  preds[val_index] = model.predict(dval_i)\n"
     ]
    },
    {
     "name": "stderr",
     "output_type": "stream",
     "text": [
      "\r",
      " 20%|████████████████████████████████████████████▍                                                                                                                                                                                 | 2/10 [01:06<04:25, 33.14s/it]"
     ]
    },
    {
     "name": "stderr",
     "output_type": "stream",
     "text": [
      "C:\\Users\\81809\\AppData\\Local\\Temp\\ipykernel_22492\\3386215446.py:18: FutureWarning: Setting an item of incompatible dtype is deprecated and will raise an error in a future version of pandas. Value '[ 1.35968900e+00 -5.56150723e+00 -6.70880604e+00 -2.76728809e-01\n",
      "  8.13371849e+00 -8.80083799e-01  5.65925407e+00  7.93448019e+00\n",
      "  3.27901244e+00 -1.28887606e+00 -3.67466474e+00  2.62318611e+01\n",
      "  2.15283546e+01 -5.99274457e-01  2.32633667e+01  2.58209648e+01\n",
      "  5.04557323e+00  9.53615379e+00  6.11769581e+00 -9.38589478e+00\n",
      "  4.88116789e+00  6.36983204e+00  9.41192245e+00  7.32036257e+00\n",
      "  2.57596684e+00  3.72980738e+00  8.90046215e+00  1.87745023e+00\n",
      " -6.14078236e+00 -4.81261778e+00 -6.55396521e-01  8.85661888e+00\n",
      "  1.01952019e+01  2.44748187e+00  2.53041325e+01 -1.46479034e+00\n",
      "  3.54268646e+00  2.88908844e+01  3.10827661e+00  5.96366739e+00\n",
      "  4.63232183e+00 -8.07399654e+00  5.73902893e+00 -7.32032955e-01\n",
      "  2.38720822e+00  6.82687902e+00 -4.69500923e+00 -6.29830837e+00\n",
      "  7.05365276e+00 -9.74603939e+00  5.57180643e+00  5.97202444e+00\n",
      "  5.96934557e+00 -2.02825022e+00  8.41281319e+00  2.25562245e-01\n",
      "  4.26394892e+00  1.80941219e+01  5.72782850e+00 -6.75029516e-01\n",
      "  2.25058918e+01 -3.73784590e+00  1.98064041e+00  2.65712357e+01\n",
      "  6.92638493e+00  7.89567041e+00  6.36999559e+00  1.27989805e+00\n",
      "  3.03280187e+00  2.90395546e+00 -1.29503489e+00  2.44277668e+01\n",
      "  8.13195038e+00  4.51108038e-01  5.08642340e+00  1.47248325e+01\n",
      "  3.03008533e+00  1.69895401e+01 -6.87937975e+00  1.78707826e+00\n",
      "  5.45281792e+00  6.66552687e+00 -4.19536448e+00  6.72421306e-02\n",
      "  1.52196751e+01 -4.50113916e+00  2.72914257e+01 -1.63082644e-01\n",
      " -4.30251777e-01  1.44018745e+01  5.46112728e+00  2.31811028e+01\n",
      "  3.46744061e-01 -6.48918056e+00  1.05091515e+01  8.87407780e+00\n",
      "  3.87363005e+00 -2.96072459e+00  2.37913489e+00  4.78351307e+00\n",
      "  1.49031210e+00  2.01089725e+01 -3.75561142e+00  7.82199478e+00\n",
      "  2.04853191e+01  5.69673300e-01  2.34037285e+01  5.30461550e+00\n",
      "  5.31644917e+00 -3.68994761e+00  8.93206787e+00 -5.48651028e+00\n",
      " -1.22323239e+00  2.98214078e-01 -9.05555904e-01 -6.80277252e+00\n",
      " -1.48818165e-01  5.62926149e+00 -6.07911766e-01  6.83076906e+00\n",
      "  2.51114960e+01  3.47237897e+00  1.07652073e+01 -2.06820560e+00\n",
      "  1.18722284e+00 -5.89081240e+00 -2.31437969e+00  2.27801180e+00\n",
      "  2.63066530e-01  9.70811605e-01 -1.45262270e+01  1.06817789e+01\n",
      "  1.10740166e+01  2.18112621e+01 -5.23122358e+00  1.80198699e-01\n",
      "  7.26723289e+00 -6.20866632e+00  9.66922462e-01 -3.34955788e+00\n",
      "  9.62338328e-01  1.73170414e+01  1.10548344e+01  1.90568757e+00\n",
      "  2.20312977e+00 -1.47599709e+00  4.36666775e+00 -6.27233648e+00\n",
      "  3.61167955e+00  1.41885557e+01 -2.16816807e+00  1.63036108e+00\n",
      " -1.78931510e+00  2.32361965e+01  1.92699265e+00  1.77090335e+00\n",
      "  3.04680061e+01  3.99670315e+00  4.64971542e+00  8.27562046e+00\n",
      "  1.96237695e+00  9.12806416e+00 -2.59373188e+00  2.80317140e+00\n",
      "  4.89298010e+00  5.98033428e+00  1.12619257e+01  2.56394081e+01\n",
      "  4.68806410e+00  5.83742476e+00 -2.85377073e+00  7.20947266e+00\n",
      "  2.20108557e+00  4.55844736e+00  2.36238384e+00  2.28109322e+01\n",
      " -2.19005212e-01  4.49846506e+00 -8.36450577e+00  3.65340590e+00\n",
      " -5.31248617e+00 -9.27675188e-01 -9.63164902e+00  6.95231295e+00\n",
      "  8.48345947e+00  3.19511032e+00 -2.40911460e+00  2.31228471e+00\n",
      " -4.46972162e-01 -5.42993641e+00  2.48773575e+00  3.16003094e+01\n",
      "  3.03108406e+01  4.43875847e+01  2.89234200e+01  1.82390518e+01\n",
      " -2.53802419e+00  3.23918438e+00  1.15903743e-01  1.34470959e+01\n",
      "  1.07318029e+01 -1.12454185e+01  6.72030735e+00  2.39325213e+00\n",
      "  8.74752235e+00  2.89344883e+01  1.13253653e+00  3.88451118e+01\n",
      "  8.09228134e+00 -1.18805017e+01  1.67323475e+01  1.04821482e+01\n",
      "  1.39831791e+01  1.58094139e+01  2.76474857e+01  1.68068314e+01\n",
      "  5.44014645e+00  3.25596189e+00  3.63116226e+01 -4.46960974e+00\n",
      "  1.25004206e+01  1.07030191e+01  2.49602432e+01  1.55709991e+01\n",
      "  1.80898972e+01  1.25147314e+01  2.71716237e+00 -4.61981344e+00\n",
      "  2.16649971e+01 -6.36048365e+00 -1.14520538e+00  2.84595165e+01\n",
      " -1.60318863e+00  1.24492397e+01 -1.98419690e-01  9.87620831e+00\n",
      " -7.39576674e+00  2.66740742e+01  8.86208439e+00 -2.31885223e+01\n",
      "  3.18422375e+01  1.46517696e+01 -2.11542058e+00 -6.04764414e+00\n",
      "  3.99605989e+00  2.44330788e+00  1.56289902e+01  1.40501890e+01\n",
      "  2.26907706e+00  7.50647068e+00  4.38748646e+00  9.98928547e+00\n",
      "  3.84715614e+01  7.49962664e+00 -3.85557723e+00 -1.20185733e+00\n",
      "  8.59437561e+00  1.22969151e+01  3.26106882e+00  2.44238987e+01\n",
      "  3.01288967e+01 -7.45410204e+00  8.55664253e+00  8.10190392e+00\n",
      "  2.97945004e+01 -7.69290304e+00  4.56856728e+00  3.11103415e+00\n",
      "  1.21035852e+01  2.30015135e+00 -6.57402134e+00 -2.68218565e+00\n",
      "  3.69395981e+01  3.04430885e+01  1.40015030e+01  2.44738007e+00\n",
      " -7.35627770e-01  9.95646667e+00  1.89312916e+01  3.10341148e+01\n",
      " -5.10934925e+00 -1.04877157e+01 -9.03906822e+00  2.85041313e+01\n",
      " -8.58602428e+00  6.64067888e+00  2.29510593e+01  8.77396011e+00\n",
      "  2.61605015e+01  2.93007984e+01  7.09211159e+00  9.50549960e-01\n",
      " -2.41077271e+01  3.91651917e+00 -7.91086972e-01  5.21465206e+00\n",
      "  1.52758503e+01 -5.47141361e+00  3.82842598e+01  8.06067371e+00\n",
      "  2.12170906e+01  2.60351028e+01  1.15990171e+01  1.55797825e+01\n",
      "  7.77137605e-03  1.00822792e+01 -3.48937631e-01 -3.87491488e+00\n",
      "  2.61052918e+00 -9.41320133e+00 -2.24197884e+01 -7.01051712e+00\n",
      " -1.73331299e+01 -1.72160912e+01 -7.34507704e+00  4.35594702e+00\n",
      "  5.13784504e+00 -6.03590536e+00 -8.28074360e+00  2.78823686e+00\n",
      " -6.81587887e+00 -4.51897669e+00 -6.52608919e+00 -1.17045832e+00\n",
      " -5.30202961e+00 -2.11848755e+01  1.09288321e+01 -3.35394716e+00\n",
      " -3.94987845e+00 -7.25817823e+00 -3.08558375e-01 -8.52469063e+00\n",
      " -7.26635361e+00 -7.71475840e+00 -2.68677735e+00 -8.61270726e-01\n",
      " -4.87302589e+00 -1.52998495e+01  1.52339983e+00 -1.96921406e+01\n",
      "  1.24927130e+01 -7.98367262e+00 -1.15251436e+01 -3.39569855e+00\n",
      " -1.52139606e+01 -5.96639872e+00  7.88380671e+00 -4.66350508e+00\n",
      "  3.74246311e+00 -7.37561178e+00 -2.76036024e+00 -8.50262833e+00\n",
      " -8.41947937e+00 -2.32563567e+00 -2.67271209e+00  6.96373510e+00\n",
      "  2.59173608e+00 -1.54809141e+01 -7.59929466e+00  2.11749434e+00\n",
      " -1.02360191e+01 -1.41432562e+01 -2.87405896e+00 -5.79194498e+00\n",
      "  4.47680569e+00 -1.65476787e+00 -2.08688617e+00 -3.34192181e+00\n",
      " -2.63129444e+01 -1.10075064e+01  3.48359418e+00  1.92686338e-02\n",
      " -1.42164288e+01  6.21948302e-01  1.89764714e+00 -3.66582346e+00\n",
      "  2.71251130e+00 -1.71981621e+00 -8.05894947e+00 -4.46642399e+00\n",
      " -6.35856986e-01 -1.76645260e+01 -2.54355192e+00 -5.11335582e-02\n",
      " -3.89782310e+00 -1.72279339e+01 -5.89277411e+00 -2.24287438e+00\n",
      " -1.14034538e+01 -5.04277563e+00  1.41241536e-01  1.11805129e+00\n",
      " -2.29579792e+01 -2.78860497e+00  3.21589637e+00  6.08480787e+00\n",
      " -2.54990697e+00 -2.17589664e+01  4.44399166e+00 -6.98385572e+00\n",
      " -1.15084934e+01 -4.57420778e+00 -1.14822998e+01  1.93539038e-01\n",
      "  2.86171508e+00  4.45697546e+00 -2.82994717e-01 -3.58558607e+00\n",
      "  2.01416206e+00 -4.77388680e-01  3.22284079e+00  2.44819808e+00\n",
      " -1.51670933e+01 -9.56719875e+00 -6.12454557e+00  7.56655407e+00\n",
      "  1.35998476e+00 -1.07811570e+00 -2.11226797e+00 -1.19334393e+01\n",
      "  1.68487108e+00 -2.27581387e+01  3.86893535e+00 -6.41886187e+00\n",
      " -2.34024906e+00 -2.44265628e+00  3.07631612e+00  8.69959450e+00\n",
      " -1.39912292e-01 -6.79726267e+00 -1.30191147e+00  1.69144249e+01\n",
      "  1.59264561e-02 -2.91401424e+01 -8.02035522e+00 -7.93881941e+00\n",
      "  1.82101941e+00 -1.82565403e+01  9.03795815e+00 -1.18292975e+00\n",
      " -1.25766897e+01 -9.94276428e+00 -2.84550810e+00 -2.50168657e+00\n",
      " -2.15181351e+01  1.61562786e+01 -3.63729882e+00  1.81365192e+00\n",
      " -1.31449709e+01  1.16243706e+01  3.45194793e+00 -1.57009706e+01\n",
      "  5.02206385e-01 -1.08022795e+01 -6.47165442e+00 -5.68661690e+00\n",
      "  2.72118855e+00 -2.86410141e+00 -2.12632980e+01 -5.31470108e+00\n",
      " -2.16687717e+01 -4.90657425e+00 -4.96785069e+00 -4.49493742e+00\n",
      " -9.00487781e-01  2.33338857e+00  3.86917084e-01 -7.96759462e+00\n",
      " -8.66437733e-01 -4.34820461e+00 -9.36619091e+00 -3.08200502e+00\n",
      "  8.60109210e-01 -9.68219280e+00  1.35032073e-01 -5.23879528e+00\n",
      " -3.53336287e+00 -3.84633750e-01  1.74318826e+00  2.69129038e+00\n",
      "  5.61811328e-02 -2.27091885e+01 -7.91580105e+00  4.99452257e+00\n",
      "  4.15768194e+00 -2.56311369e+00 -1.76147785e+01 -2.14933109e+00\n",
      " -4.82406044e+00 -7.53651190e+00  2.16364503e+00 -3.22159827e-01\n",
      " -1.95150185e+01 -6.94124508e+00 -2.45865345e+00 -1.37455759e+01\n",
      " -2.11883469e+01 -2.41768284e+01 -1.85808811e+01  1.91433311e+00\n",
      " -4.03928518e+00  4.92366505e+00 -5.30136490e+00 -2.75961542e+00\n",
      "  6.91433573e+00  2.24505377e+00  1.67967653e+00 -3.15075064e+00\n",
      " -2.15574760e+01 -8.61499882e+00  2.80809689e+00  1.12313628e+00\n",
      " -1.92439592e+00 -3.55113554e+00  3.01119661e+00 -5.15874475e-03\n",
      "  2.27257895e+00  7.02790451e+00  2.53762603e+00 -8.32488632e+00\n",
      " -3.30267024e+00 -3.16158056e-01 -1.14781513e+01 -2.72038231e+01\n",
      " -1.38561602e+01  4.42853355e+00 -1.27115333e+00 -2.22605690e-01\n",
      " -1.75594807e+01 -1.34756756e+01  1.94700813e+00 -2.67281399e+01\n",
      "  2.87000036e+00 -2.18559303e+01 -2.41534023e+01 -7.78682613e+00\n",
      " -3.63433342e+01 -1.50029001e+01 -3.39438477e+01 -2.09106312e+01\n",
      " -6.80321360e+00  3.56343389e+00  1.17551537e+01  6.90133047e+00\n",
      " -3.18691139e+01 -2.46277428e+01 -1.16572027e+01 -3.20920143e+01\n",
      "  1.70289764e+01 -7.14352655e+00 -2.39615498e+01 -6.65377235e+00\n",
      " -4.58165216e+00 -1.45104790e+01  4.45176697e+00 -1.26725264e+01\n",
      " -3.03399353e+01  3.18994612e-01 -3.40086699e+00 -2.02094059e+01\n",
      " -9.85367107e+00 -2.74802151e+01 -1.16331253e+01 -1.90825768e+01\n",
      "  1.37702560e+01 -1.56267729e+01 -3.18216591e+01 -7.83004570e+00\n",
      " -4.69957304e+00 -5.95224476e+00  6.23176575e+00 -2.37255073e+00\n",
      " -7.98935652e+00 -2.82080116e+01 -2.79537112e-01 -1.21130152e+01\n",
      " -4.00225754e+01 -8.51789117e-01 -1.41902266e+01 -6.38513386e-01\n",
      "  2.80387330e+00 -1.70156155e+01  5.87649250e+00 -3.15122242e+01\n",
      "  6.08221197e+00 -2.07522511e+00 -1.34588699e+01 -3.90237880e+00\n",
      " -1.26839504e+01 -5.80686235e+00 -2.81214452e+00 -2.05898819e+01\n",
      " -1.05581036e+01 -3.16692448e+00  2.25133109e+00  9.23768902e+00\n",
      " -8.91981792e+00 -6.88965130e+00 -2.30353699e+01  3.16151738e+00\n",
      "  8.68049526e+00  2.99507475e+00 -6.76168823e+00 -6.46119404e+00\n",
      "  8.63886833e+00 -2.23620042e-01 -9.77865696e+00 -4.53448868e+01\n",
      "  3.81062913e+00 -2.97673397e+01  5.59562159e+00 -1.27227554e+01\n",
      " -2.80780869e+01 -3.48556805e+00 -9.81005192e+00  1.09748917e+01\n",
      " -1.37160912e+01 -1.85964146e+01 -8.58579636e+00 -2.38019676e+01\n",
      " -3.04395943e+01 -7.15895796e+00 -4.15678406e+00  1.81318414e+00\n",
      " -2.84079571e+01 -1.95132370e+01 -2.25975914e+01 -1.67161286e+00\n",
      " -6.29699373e+00 -3.80029655e+00 -9.86077118e+00 -7.83745480e+00\n",
      " -2.99437499e+00  7.53092766e+00 -2.87886581e+01  1.29261494e+01\n",
      " -8.39555645e+00 -5.24506378e+00  3.61217952e+00 -3.79385757e+01\n",
      " -5.66805124e+00 -2.36842690e+01 -1.06098139e+00  4.42725468e+00\n",
      " -1.52443981e+01 -4.72149801e+00]' has dtype incompatible with int64, please explicitly cast to a compatible dtype first.\n",
      "  preds[val_index] = model.predict(dval_i)\n"
     ]
    },
    {
     "name": "stderr",
     "output_type": "stream",
     "text": [
      "\r",
      " 30%|██████████████████████████████████████████████████████████████████▌                                                                                                                                                           | 3/10 [01:37<03:43, 31.90s/it]"
     ]
    },
    {
     "name": "stderr",
     "output_type": "stream",
     "text": [
      "C:\\Users\\81809\\AppData\\Local\\Temp\\ipykernel_22492\\3386215446.py:18: FutureWarning: Setting an item of incompatible dtype is deprecated and will raise an error in a future version of pandas. Value '[ 1.99557638e+00 -8.07229519e+00  5.33908033e+00  1.48125200e+01\n",
      "  2.16486378e+01  9.11800289e+00  4.37050962e+00 -2.46759629e+00\n",
      "  1.02750528e+00  4.48543876e-01 -2.97849059e+00 -2.50135374e+00\n",
      "  9.38026011e-01 -1.36544037e+00 -4.82167625e+00  2.08138371e+01\n",
      " -2.64695406e+00 -1.05484736e+00  2.18044033e+01  9.94902253e-01\n",
      "  6.10310268e+00  3.37257957e+00  5.05239010e-01  5.94901991e+00\n",
      " -4.11646080e+00  8.29389668e+00 -1.84651524e-01 -3.48667169e+00\n",
      "  2.85901904e+00  4.80522108e+00 -1.43946335e-01  1.64988003e+01\n",
      "  3.65120029e+00  3.72091722e+00  4.05955613e-01  7.89227819e+00\n",
      "  5.15204132e-01  1.79657059e+01  2.49348330e+00 -7.37253237e+00\n",
      "  7.47768545e+00  2.85404213e-02  8.75450325e+00  4.30147409e+00\n",
      " -6.32334709e+00  6.27903938e+00  3.39281178e+00 -8.47020340e+00\n",
      " -1.92345119e+00 -2.03346324e+00  2.04761238e+01  8.99349451e-01\n",
      "  5.86010456e-01 -2.55978966e+00  7.33177328e+00  2.11337948e+00\n",
      " -2.77412653e+00 -1.49650443e+00  2.30697308e+01  1.35692854e+01\n",
      " -3.48386288e+00  4.03156251e-01  2.57295246e+01 -3.07919741e+00\n",
      "  3.46691036e+00 -8.78010213e-01  6.70464933e-01  1.07307160e+00\n",
      " -2.08398151e+00  1.51762247e-01  2.15817032e+01 -1.91680682e+00\n",
      "  7.80177927e+00  6.31205463e+00  5.53303778e-01 -2.06697464e+00\n",
      "  4.48522949e+00 -1.67523336e+00  2.37765288e+00 -8.57530403e+00\n",
      "  1.67548790e+01  3.47155857e+00  7.58864403e+00  1.08589067e+01\n",
      " -2.22259903e+00  4.05664110e+00  4.25866508e+00 -2.48753095e+00\n",
      "  2.56321983e+01  1.32927713e+01 -1.07534943e+01 -6.19621658e+00\n",
      "  1.70476055e+01 -2.63348222e+00 -1.79419935e+00  4.96801901e+00\n",
      " -5.84151268e-01  1.04783516e+01  4.71973658e+00 -2.49982619e+00\n",
      " -3.93110538e+00  3.80134201e+00  2.24783173e+01  1.53357124e+01\n",
      " -1.44267845e+01 -6.81681931e-01 -3.49974561e+00  1.11337824e+01\n",
      " -1.21505260e+00  5.20310402e+00  8.20115089e+00  7.45222616e+00\n",
      "  1.59417667e+01  5.48794317e+00  1.39506292e+00  2.54894948e+00\n",
      " -2.00854778e+00  1.51613331e+01  1.82597694e+01  5.25764942e+00\n",
      "  6.17343807e+00  9.27975368e+00 -2.08180642e+00  6.73588753e+00\n",
      " -6.10192871e+00  1.36365569e+00  1.13242989e+01 -6.46344614e+00\n",
      "  6.91972113e+00  7.12699652e+00  4.31739092e+00  9.22629547e+00\n",
      "  9.60163403e+00  1.92182255e+01  1.30719995e+01  8.87572575e+00\n",
      "  1.11199260e+00 -4.02074289e+00  6.95373631e+00 -4.06785679e+00\n",
      " -3.99138761e+00  2.23952332e+01  9.99772930e+00 -2.10187531e+00\n",
      " -3.01215720e+00  5.18925285e+00  6.20552254e+00 -4.60083127e-01\n",
      "  5.18461561e+00 -2.16863775e+00  2.35553875e+01  4.45431423e+00\n",
      "  1.65939350e+01 -9.56894588e+00 -4.39677620e+00 -3.39646161e-01\n",
      " -7.84897518e+00  1.42738974e+00  2.09037113e+00  7.06769657e+00\n",
      "  5.44609642e+00 -1.13602552e+01  1.21549726e+00  1.07803559e+00\n",
      "  5.18881226e+00  4.42516518e+00  9.78972340e+00  3.22877860e+00\n",
      "  2.81653762e+00 -2.18791652e+00  4.43897152e+00 -6.71559143e+00\n",
      " -1.71736717e+01 -4.19357586e+00  4.12317783e-01  1.81914444e+01\n",
      "  2.88702679e+00 -1.97201073e+00  6.52892160e+00  4.08335209e+00\n",
      " -1.34824300e+00 -2.53957063e-01 -3.23220921e+00 -4.65714169e+00\n",
      "  2.64044971e+01  2.59790063e+00  2.23483639e+01 -5.58145285e+00\n",
      "  3.97615433e+00  4.61568975e+00 -4.39367294e+00 -3.42092538e+00\n",
      "  2.24109814e-01  8.96033573e+00  1.36493540e+01  1.19133532e+00\n",
      " -8.50054264e-01  1.70321140e+01 -2.21711998e+01 -1.63147783e+00\n",
      " -1.00931940e+01  1.28940268e+01  2.21479440e+00 -3.63436198e+00\n",
      "  2.79506469e+00  4.52498007e+00  2.58181930e+00  4.62739134e+00\n",
      "  8.86548901e+00  9.67705631e+00  1.90049994e+00  3.04007587e+01\n",
      "  3.01581326e+01  4.17851114e+00  9.07371807e+00 -1.60384941e+00\n",
      "  3.72500343e+01  2.08630991e+00  1.65312977e+01  1.13037758e+01\n",
      " -3.91689253e+00 -1.81085706e+00  2.48363137e+00  3.73068542e+01\n",
      "  1.19793806e+01  2.56204987e+01  3.67473831e+01  6.48796654e+00\n",
      " -1.94072679e-01  8.06871223e+00 -9.30940723e+00  5.38776016e+00\n",
      "  4.32083893e+00  2.82013779e+01  1.07302704e+01  1.79137096e+01\n",
      " -4.44962561e-01 -6.44675493e+00  1.31647897e+00 -1.41420517e+01\n",
      "  3.62441597e+01  1.15080223e+01 -8.60153511e-02  1.42750943e+00\n",
      "  2.57011642e+01  1.95775738e+01  2.05115318e+01  5.53689051e+00\n",
      " -2.29883385e+00 -4.25309038e+00  1.89990425e+01  1.45494995e+01\n",
      "  2.97518959e+01  4.13212967e+00  8.75848293e+00  2.30932255e+01\n",
      "  3.63915944e+00 -1.40393038e+01  1.15021219e+01 -1.82234704e+00\n",
      "  2.64260697e+00 -3.79591250e+00  2.41768742e+01 -2.95038271e+00\n",
      "  2.99054146e+01  1.27205114e+01  3.44658446e+00  3.71101856e+00\n",
      "  9.43900347e-01  1.03516598e+01  3.45354156e+01  1.54870996e+01\n",
      "  5.14134979e+00  1.47459574e+01  3.45968208e+01  5.72339475e-01\n",
      "  7.44857311e+00 -7.79847765e+00  2.33108735e+00 -1.55883229e+00\n",
      "  1.32118959e+01  1.32994452e+01  2.04925957e+01 -2.73251772e+00\n",
      " -1.12244110e+01 -8.41728020e+00  1.28915739e+00 -6.99596739e+00\n",
      "  2.04848766e+00  2.16693764e+01  4.94073868e+00 -1.18885612e+01\n",
      "  2.98237419e+00  7.81642485e+00 -5.33237457e-01  3.88923812e+00\n",
      "  2.05007133e+01 -7.96814966e+00 -1.39230509e+01  3.86391106e+01\n",
      "  7.25430870e+00 -4.88933134e+00  3.05758629e+01  1.15588217e+01\n",
      "  2.29183617e+01  1.46548882e+01  3.81513786e+00 -3.23025775e+00\n",
      " -1.29114676e+01  6.26414776e-01 -6.55874729e+00 -1.18779945e+01\n",
      " -3.38527703e+00 -1.14827375e+01 -1.57190256e+01 -8.32229424e+00\n",
      " -7.15018225e+00 -7.36943197e+00 -6.99030209e+00 -5.86974716e+00\n",
      "  4.88321877e+00 -5.07368803e+00  3.37003207e+00  2.94534063e+00\n",
      "  1.41937459e+00 -2.34559498e+01 -4.65483248e-01 -1.36847258e+01\n",
      " -2.11522064e+01 -1.58605397e+00 -5.59602404e+00 -1.04891407e+00\n",
      "  4.59534740e+00  4.11198759e+00 -1.15979528e+00 -7.91013670e+00\n",
      " -8.63615704e+00  7.07497597e-01 -6.04941893e+00  1.87523687e+00\n",
      "  3.05746436e-01 -4.56314087e-01 -5.32786036e+00 -2.66973553e+01\n",
      " -1.04096308e+01 -5.89224482e+00 -1.60190144e+01 -2.95467734e+00\n",
      " -6.52991629e+00 -1.91588173e+01 -6.99155903e+00  1.31237775e-01\n",
      " -5.61858988e+00  6.51112127e+00 -1.88105698e+01  9.27525711e+00\n",
      " -6.03970242e+00 -2.56600418e+01 -6.76685047e+00 -7.06836343e-01\n",
      " -5.88921738e+00 -7.91243649e+00 -5.25022793e+00 -3.17152357e+00\n",
      "  2.74475026e+00 -1.21056681e+01  3.52365637e+00 -1.47060251e+01\n",
      "  1.11803949e+00 -6.55261517e+00 -4.16870260e+00 -2.37575483e+00\n",
      " -2.23197994e+01 -8.76002121e+00 -4.34647751e+00 -8.42982674e+00\n",
      " -6.49303102e+00  4.52372849e-01  5.31640947e-01 -1.63866482e+01\n",
      " -2.65072765e+01 -3.25379276e+00 -1.43681657e+00 -1.76152289e+00\n",
      " -1.74428539e+01 -6.61760032e-01 -4.81291580e+00 -1.33323812e+00\n",
      "  1.02824521e+00 -2.49820290e+01 -1.91022816e+01  2.12775040e+00\n",
      " -1.24167757e+01  2.88989043e+00 -6.59482813e+00 -2.84756851e+00\n",
      " -4.89348793e+00 -1.14947987e+01 -5.20615578e+00 -5.35609961e+00\n",
      " -2.40637264e+01  1.47636328e+01  4.15471697e+00 -2.65748692e+01\n",
      " -1.54634924e+01 -1.71757336e+01 -1.77310162e+01 -6.73125982e+00\n",
      " -3.38005328e+00 -4.05742979e+00  8.72599125e+00 -4.26743650e+00\n",
      " -9.47942162e+00 -4.47270250e+00  5.02451479e-01  3.16519761e+00\n",
      " -5.59868097e-01 -1.09019816e+00 -1.55319624e+01  1.35221171e+00\n",
      "  9.60480869e-02  4.68001509e+00 -1.91192417e+01 -1.16575680e+01\n",
      " -3.07635474e+00 -5.09725714e+00  2.65328860e+00 -1.06789026e+01\n",
      " -1.24262915e+01 -2.84543252e+00 -3.39003026e-01 -2.55049080e-01\n",
      " -1.88112006e-01 -6.03998852e+00  9.73130763e-01 -7.87608996e-02\n",
      " -5.07661867e+00 -5.40029907e+00 -9.80186939e+00 -9.68838024e+00\n",
      " -5.98641205e+00 -4.21304131e+00 -2.40654141e-01 -6.48057413e+00\n",
      "  4.90559936e-01 -1.89322913e+00 -2.24384327e+01  1.24451613e+00\n",
      "  2.98694897e+00 -1.67524452e+01 -2.43620729e+00 -1.93430281e+00\n",
      "  2.82177973e+00 -1.87536395e+00 -5.26960564e+00 -5.93214846e+00\n",
      " -3.58210754e+00  4.05889797e+00  1.43004405e+00 -2.17073364e+01\n",
      " -1.32686928e-01 -4.70700932e+00 -3.87425566e+00  8.43125224e-01\n",
      " -4.09254408e+00 -2.59778881e+00  3.62430072e+00 -2.16251516e+00\n",
      " -1.61246719e+01 -2.48201895e+00 -5.91657972e+00 -7.99290180e-01\n",
      " -4.42963886e+00 -1.26492023e+01 -5.46319723e+00 -6.83925486e+00\n",
      " -2.47612047e+00 -4.67786169e+00 -1.18318510e+01 -2.23532410e+01\n",
      " -1.37217913e+01 -2.37699566e+01  5.95118093e+00 -2.58201170e+00\n",
      "  1.29906034e+01  4.43394613e+00  3.72949553e+00 -1.16404114e+01\n",
      " -5.44024229e+00  3.63740134e+00 -3.75719786e+00  5.21494913e+00\n",
      " -2.10274525e+01  8.88087988e-01 -4.65225124e+00 -1.74601135e+01\n",
      " -4.30745506e+00  2.08845234e+00  3.17000747e-01 -1.59076262e+00\n",
      " -5.96340036e+00  7.05908680e+00 -1.13695965e+01 -4.45677137e+00\n",
      " -1.46824417e+01 -6.60226393e+00 -2.13128567e+00 -2.50203876e+01\n",
      " -1.51788034e+01  3.40536833e+00  8.66494596e-01 -3.61628008e+00\n",
      "  1.13069315e+01 -4.59226847e+00 -1.61744385e+01 -4.15268612e+00\n",
      "  2.83346248e+00 -5.65442085e+00 -3.93327236e+00 -8.08622742e+00\n",
      " -1.03926105e+01 -3.37075920e+01  3.10182595e+00 -2.50598354e+01\n",
      " -1.20100727e+01  4.95390463e+00 -1.86345882e+01 -1.41055555e+01\n",
      "  3.26752877e+00 -9.99579048e+00  1.98921776e+00 -2.68884430e+01\n",
      " -2.85888519e+01  3.75459480e+00 -3.44515877e+01 -2.63668022e+01\n",
      " -1.39436941e+01 -7.47058630e+00 -4.95129108e+00 -2.62690430e+01\n",
      " -1.54753435e+00 -1.43498993e+01  5.58350849e+00 -1.54182673e+00\n",
      " -4.51408195e+00 -3.37308824e-01 -4.31778374e+01 -1.74112236e+00\n",
      " -3.42595029e+00  6.98621702e+00 -2.09832993e+01 -2.44480762e+01\n",
      " -2.74697800e+01 -1.25695066e+01  8.43031406e-01 -8.86696243e+00\n",
      " -2.39018649e-01 -2.09516501e+00 -8.07839203e+00 -2.53940582e+01\n",
      "  6.09226190e-02 -7.48428059e+00 -6.57530963e-01 -1.61259785e+01\n",
      " -9.13754559e+00 -6.26618528e+00 -2.54922915e+00 -1.29190369e+01\n",
      " -1.46439342e+01 -3.14350548e+01 -2.29849935e+00 -4.76633072e+00\n",
      " -3.08164062e+01 -3.67753830e+01 -3.81436310e+01 -7.42064333e+00\n",
      " -9.22030258e+00 -2.86265602e+01 -6.40577269e+00 -1.97034149e+01\n",
      "  2.00899863e+00 -1.56147842e+01 -1.12636652e+01  1.01470108e+01\n",
      "  2.55365992e+00  1.44762313e+00 -4.59173489e+00 -5.98921919e+00\n",
      " -1.18041906e+01 -9.63124335e-01 -1.31572361e+01 -4.84516668e+00\n",
      "  3.85882282e+00  4.19037867e+00 -6.81015921e+00 -3.95277023e-01\n",
      " -6.62043619e+00 -1.55417938e+01 -1.82929649e+01 -4.75800371e+00\n",
      "  8.58691788e+00 -6.98813963e+00 -2.89516783e+00 -1.21547422e+01\n",
      " -1.17931128e+01  2.06196713e+00 -1.76284828e+01 -2.49737225e+01\n",
      "  2.14521122e+00 -4.11399126e+00  1.37661672e+00 -1.97591782e+01\n",
      " -4.23478174e+00 -4.21443796e+00 -2.24506130e+01 -3.45819283e+00\n",
      "  9.92564964e+00 -1.85034290e-01 -6.26498270e+00  7.64206886e+00\n",
      " -8.02042103e+00 -2.49745712e+01 -1.03287685e+00 -2.83104782e+01\n",
      " -1.55096722e+01  4.86082220e+00 -1.75859356e+01 -5.61631966e+00\n",
      " -7.03022957e+00  8.71307182e+00 -1.86154671e+01 -2.98908253e+01\n",
      " -3.86612091e+01 -9.23626137e+00 -7.65265322e+00 -3.64478874e+01\n",
      " -2.95315819e+01 -4.02518272e+00 -1.99052200e+01  6.06324577e+00\n",
      "  9.01902008e+00 -3.52753258e+01 -3.07880306e+00 -2.81517773e+01\n",
      " -1.53050385e+01 -2.38657284e+01]' has dtype incompatible with int64, please explicitly cast to a compatible dtype first.\n",
      "  preds[val_index] = model.predict(dval_i)\n"
     ]
    },
    {
     "name": "stderr",
     "output_type": "stream",
     "text": [
      "\r",
      " 40%|████████████████████████████████████████████████████████████████████████████████████████▊                                                                                                                                     | 4/10 [02:13<03:22, 33.71s/it]"
     ]
    },
    {
     "name": "stderr",
     "output_type": "stream",
     "text": [
      "C:\\Users\\81809\\AppData\\Local\\Temp\\ipykernel_22492\\3386215446.py:18: FutureWarning: Setting an item of incompatible dtype is deprecated and will raise an error in a future version of pandas. Value '[-9.66497421e+00 -4.81427550e-01  2.08924370e+01  1.13438282e+01\n",
      "  2.06769047e+01  1.75013885e+01 -1.79962409e+00  6.13128662e+00\n",
      "  9.35971165e+00  6.75385141e+00  7.81637144e+00 -3.86672664e+00\n",
      " -4.27810431e+00  2.46897554e+00  2.50024853e+01  2.17289715e+01\n",
      " -2.41849923e+00  5.71115875e+00 -3.16918850e-01  4.13145018e+00\n",
      "  1.06843634e+01  1.41511381e+00  1.96912556e+01  2.12091503e+01\n",
      "  1.72266996e+00 -5.98800325e+00  5.45928895e-01  1.60217321e+00\n",
      "  6.95481777e+00 -5.50318766e+00  6.06000185e+00 -1.01732075e+00\n",
      "  1.88542461e+01 -2.13696861e+00 -8.17966366e+00  2.87571359e+00\n",
      "  1.68677025e+01 -5.04449987e+00  8.93160164e-01 -3.56012225e+00\n",
      "  3.36096430e+00  7.81399679e+00 -5.11356688e+00 -8.44163799e+00\n",
      " -2.35868526e+00  8.41129684e+00  6.62813759e+00  1.49714146e+01\n",
      "  6.36004686e+00  7.75193834e+00  6.13062477e+00 -5.14745712e+00\n",
      " -3.29366350e+00  5.85217428e+00 -1.16199303e+01  4.98547411e+00\n",
      "  8.28974056e+00  2.32613277e+01  2.10661850e+01  5.56113625e+00\n",
      "  4.30812168e+00  2.39337397e+00  3.98285246e+00 -1.93175435e+00\n",
      "  7.00960112e+00  6.37614965e+00 -1.10797656e+00  3.09019780e+00\n",
      "  2.73672152e+00  1.77798223e+00 -2.18833923e+00  2.89852047e+00\n",
      " -2.44654727e+00  4.51946735e+00  4.39819276e-01  2.74656334e+01\n",
      "  8.62186813e+00 -2.38172889e+00 -6.36113214e+00 -1.32912493e+00\n",
      "  1.08230314e+01  2.40020061e+00 -2.62428164e+00  2.94841003e+00\n",
      "  9.61291599e+00  1.84197891e+00  1.30894423e+01  2.16961551e+00\n",
      "  2.26799068e+01  1.09261360e+01 -1.05680647e+01 -6.59401560e+00\n",
      "  2.26257324e+01 -4.62662888e+00  7.69420624e+00  1.17926540e+01\n",
      "  4.14080095e+00  1.10161467e+01 -1.00539970e+00 -1.84642696e+00\n",
      " -6.89228594e-01  1.18529129e+01  2.39412708e+01 -7.58806944e+00\n",
      " -5.49729967e+00  1.23847485e+01 -2.22243333e+00  4.89419174e+00\n",
      "  3.07374167e+00  2.81847692e+00 -7.59235191e+00 -1.88111293e+00\n",
      "  3.75982285e-01  5.71805382e+00  9.92522240e-01  2.42137957e+00\n",
      " -1.06704187e+01  6.02434540e+00 -1.91709661e+00  8.27575445e-01\n",
      " -2.92391562e+00  6.68493795e+00  4.61480808e+00 -2.79434896e+00\n",
      "  3.94543099e+00  2.12903619e+00  7.71356392e+00  6.91091967e+00\n",
      "  1.44611712e+01  3.35739207e+00 -1.90287800e+01 -1.26489878e+00\n",
      "  2.94041514e+00  5.65248802e-02  8.37143040e+00 -4.18829727e+00\n",
      "  7.79813766e-01  4.69574165e+00  2.91900196e+01  1.30238533e+01\n",
      " -2.59648871e+00  1.73881531e+01  2.20329609e+01 -3.45797205e+00\n",
      " -7.17878723e+00  1.49870558e+01 -6.54055536e-01  9.05876255e+00\n",
      "  1.20721900e+00  7.05448389e+00  5.79187632e+00 -3.71054745e+00\n",
      "  1.47632504e+01  3.38669419e+00  1.62527895e+00  1.14880133e+00\n",
      "  7.38776827e+00  2.10316143e+01  2.56685066e+00 -1.01479654e+01\n",
      "  3.42088556e+00 -8.50088978e+00 -5.22701219e-02  3.68175840e+00\n",
      " -4.56738853e+00  5.03302908e+00  7.53047764e-01  1.25284648e+00\n",
      "  3.41672802e+00  1.04683371e+01  2.72273391e-01  7.71106243e+00\n",
      "  1.01123552e+01 -7.63874245e+00  4.77372885e+00  2.80113006e+00\n",
      "  5.99020757e-02  5.57623720e+00  5.48860931e+00  2.71719933e+00\n",
      " -2.51703191e+00  6.11681509e+00 -1.17725980e+00 -5.18095970e+00\n",
      " -5.07468510e+00  1.21724033e+01  3.45290971e+00  5.72711277e+00\n",
      " -2.60584283e+00 -2.02029133e+00  2.69177361e+01  6.30393648e+00\n",
      "  2.48875256e+01  1.40040532e-01 -8.47275257e+00  1.54378309e+01\n",
      "  1.13047323e+01  4.13382816e+00  3.70453387e-01 -4.52989483e+00\n",
      "  1.02225885e+01  1.61410961e+01 -3.44640970e+00 -3.82168913e+00\n",
      "  4.94878149e+00  5.22414351e+00 -9.61557961e+00  5.10133743e+00\n",
      " -5.11162138e+00 -7.57617521e+00 -1.92253757e+00  1.68543613e+00\n",
      "  1.15468836e+01  1.38010263e+01 -7.67404985e+00  2.71838894e+01\n",
      "  9.09917450e+00  9.82712460e+00  5.53835917e+00  1.17053976e+01\n",
      " -4.01527500e+00  3.34640617e+01 -9.59147155e-01  1.71868820e+01\n",
      " -1.78578091e+00  2.55034122e+01  2.35677319e+01 -5.15837622e+00\n",
      " -5.96668148e+00  1.02212801e+01  1.37361250e+01  1.73780556e+01\n",
      " -7.17842484e+00 -4.74871778e+00 -3.62518191e+00  2.04168129e+00\n",
      "  1.13076174e+00  1.84378071e+01  3.65072708e+01 -4.89552647e-01\n",
      "  8.73950005e-01  8.60829639e+00 -7.41146684e-01  2.03851204e+01\n",
      "  1.43011837e+01  2.03321342e+01  1.88060093e+01  1.52727871e+01\n",
      "  6.91248989e+00  1.58124208e+00  8.08853626e+00  2.31681633e+01\n",
      "  4.16488934e+00  3.47842503e+00  2.58941784e+01  6.35841799e+00\n",
      " -8.32156563e+00  2.56010742e+01  1.62822075e+01  2.10543480e+01\n",
      " -7.99714923e-01  2.60396099e+00  2.48474922e+01  9.41642666e+00\n",
      "  1.62292576e+01  1.46323669e+00 -9.56913471e+00 -1.27170789e+00\n",
      "  2.66018718e-01  2.98218040e+01  1.21337061e+01  1.65345516e+01\n",
      " -7.53312635e+00  1.28014336e+01  3.59432564e+01  1.19685144e+01\n",
      "  5.61312151e+00  1.47278614e+01 -4.32156134e+00  3.43713493e+01\n",
      "  1.33356201e-02 -2.15038562e+00  4.13161163e+01  9.53576565e+00\n",
      "  4.40329313e+00 -8.05300236e+00  5.09621906e+00  3.69168282e+01\n",
      "  5.03817081e+00  2.94765759e+00 -3.48310441e-01  1.66178017e+01\n",
      "  1.36831331e+01  2.77312012e+01  1.37787495e+01 -2.85483766e+00\n",
      " -2.75083447e+00  1.23639288e+01  1.99117126e+01 -2.71719146e+00\n",
      "  5.04276228e+00  1.02147598e+01  3.64196754e+00  2.90694008e+01\n",
      "  1.68568344e+01  4.78350687e+00  1.39584503e+01  2.57668447e+00\n",
      "  1.36893139e+01  4.76525545e+00  6.84735870e+00 -5.57814312e+00\n",
      " -4.34008884e+00  9.03157139e+00  1.31356897e+01  4.07667446e+00\n",
      "  1.53210592e+01  3.07680607e+00  2.13380694e-01  2.36058187e+00\n",
      " -1.31884754e+00 -4.42396688e+00  1.71768677e+00 -9.22943211e+00\n",
      " -7.86921358e+00 -4.67409420e+00 -1.86858654e+01 -9.65927124e+00\n",
      " -1.46903682e+00  3.34921765e+00 -7.00789452e+00 -6.85571194e+00\n",
      " -8.60937786e+00 -4.60412312e+00 -2.73461294e+00 -6.34795141e+00\n",
      " -2.11423702e+01 -5.36779737e+00 -3.20553589e+00 -8.35728550e+00\n",
      " -9.28037262e+00 -7.83904028e+00  1.79909611e+00 -5.79361725e+00\n",
      " -4.06149578e+00 -1.40519452e+00  7.78680754e+00 -7.54235935e+00\n",
      " -1.07519138e+00  3.05998397e+00 -2.93711591e+00 -1.35010796e+01\n",
      " -1.26479187e+01 -1.57021320e+00  8.36109519e-01 -5.24356514e-02\n",
      " -2.26979375e+00 -4.66440344e+00  4.08745861e+00 -5.83263302e+00\n",
      " -8.26102543e+00  3.13397312e+00 -9.31948090e+00 -2.64629483e+00\n",
      " -1.18861332e+01  2.26012659e+00 -6.73282719e+00 -1.20967126e+00\n",
      " -7.04302502e+00 -6.14753389e+00  4.84268141e+00  3.73488045e+00\n",
      " -8.41051579e+00 -4.34023237e+00 -5.01184988e+00 -5.02390909e+00\n",
      " -2.39632244e+01 -1.48621006e+01  1.67491567e+00 -6.75402021e+00\n",
      " -4.12097073e+00 -5.85481739e+00 -1.02103291e+01 -6.12894058e+00\n",
      " -2.09140539e+00  1.75762606e+00 -2.39530459e-01 -1.77582340e+01\n",
      " -2.44983234e+01 -7.90219831e+00  2.24066186e+00  1.24895453e+00\n",
      "  6.79325914e+00 -1.93727856e+01 -5.23350763e+00  1.41891098e+00\n",
      " -8.22130871e+00 -1.39160767e+01  4.46173143e+00 -2.08047085e+01\n",
      "  3.92735064e-01 -1.62395492e-01 -1.50214930e+01  1.93607306e+00\n",
      " -1.85442314e+01 -1.21697795e+00  8.97633171e+00 -8.87957478e+00\n",
      "  3.47519374e+00 -9.65627670e+00 -1.04040813e+01 -5.63005590e+00\n",
      " -4.91498804e+00 -5.90575933e+00  1.88410878e+00 -5.14748526e+00\n",
      " -2.41007447e+00 -2.41070156e+01  2.53108335e+00  1.57819662e+01\n",
      "  2.45014691e+00 -1.04776850e+01 -9.03160000e+00 -5.53712559e+00\n",
      "  1.26245189e+00  1.64775550e+00 -9.09706211e+00 -4.15172148e+00\n",
      " -4.17447329e+00  2.28009999e-01  7.71183014e-01 -1.06875622e+00\n",
      "  2.10961556e+00 -2.72864437e+00 -7.11030436e+00  1.37551391e+00\n",
      "  5.76522875e+00 -4.92651749e+00 -5.05170301e-02 -6.49885225e+00\n",
      " -2.37374878e+00 -9.22880459e+00  4.15087795e+00  1.97702637e+01\n",
      " -2.07220154e+01 -6.28790665e+00 -4.52268553e+00 -3.45114660e+00\n",
      " -1.98600407e+01 -4.17695093e+00  2.38482594e+00 -1.72046146e+01\n",
      "  5.55864143e+00 -5.61208189e-01 -2.01528287e+00 -9.09149647e+00\n",
      "  5.10405493e+00 -5.17485332e+00 -6.08136988e+00  2.52537274e+00\n",
      "  8.86820495e-01 -3.17260957e+00 -7.94976854e+00  2.24504024e-01\n",
      "  6.45917606e+00 -1.18661060e+01 -1.55186546e+00 -1.65207272e+01\n",
      " -2.89549565e+00 -3.76820946e+00 -6.48581457e+00  8.09369087e+00\n",
      "  6.56499767e+00 -3.95216179e+00 -3.46929216e+00  7.11369419e+00\n",
      " -3.35487187e-01  1.75091410e+00  4.33193922e+00 -2.30551982e+00\n",
      " -2.09811077e+01 -1.31853428e+01 -3.98315954e+00 -8.99158493e-02\n",
      "  1.17914248e+01 -2.26216817e+00 -1.45127809e+00 -8.22936344e+00\n",
      " -3.99421000e+00 -6.71084356e+00 -4.16353798e+00 -2.97162271e+00\n",
      " -7.55865002e+00  1.27042139e+00 -1.18776293e+01 -2.13747597e+01\n",
      " -8.19818974e+00 -4.89934540e+00 -1.14263725e+01 -1.97467690e+01\n",
      " -2.74220324e+00 -4.35096884e+00  2.60211515e+00  9.22389889e+00\n",
      " -2.70169220e+01 -3.27049923e+00 -2.41765761e+00 -1.40175171e+01\n",
      " -1.23786235e+00 -2.14041653e+01 -2.02787914e+01  9.03379858e-01\n",
      " -7.31755590e+00 -6.31948137e+00 -4.92047071e+00 -6.48071408e-01\n",
      " -8.36560917e+00 -3.85928249e+00 -4.79331732e+00 -7.04294920e+00\n",
      "  6.67194426e-01  1.27950668e+01  2.26859856e+01 -4.94846201e+00\n",
      "  3.66809297e+00  4.39612341e+00 -4.85498238e+00 -6.39358377e+00\n",
      " -4.34958601e+00 -3.01887016e+01 -5.84568167e+00 -2.59260616e+01\n",
      " -2.82437153e+01 -3.95915937e+00 -3.57141991e+01  1.22562485e+01\n",
      " -1.27951450e+01 -1.42685032e+01  9.32867813e+00 -6.64279795e+00\n",
      " -8.34965992e+00 -3.01331158e+01 -2.65017185e+01 -2.50263195e+01\n",
      " -3.56669712e+00 -3.57977333e+01 -2.51930866e+01 -8.02049732e+00\n",
      " -3.29483843e+00 -2.12475967e+01 -2.81159306e+01 -1.50891504e+01\n",
      " -1.88499298e+01 -1.17246895e+01 -2.14959888e+01 -3.42958412e+01\n",
      " -1.41078901e+00 -2.98238921e+00 -6.75350142e+00 -4.21630764e+00\n",
      " -4.36610374e+01  5.41670656e+00 -1.67889423e+01 -1.10771618e+01\n",
      " -1.21202536e+01 -2.63147671e-02  2.34354877e+00 -2.53365898e+00\n",
      " -1.40419893e+01 -1.12716169e+01  1.29465408e+01  2.35338249e+01\n",
      " -3.37683415e+00  7.83487082e-01 -1.85130939e+01 -1.17762365e+01\n",
      " -2.77568092e+01 -2.83060875e+01  3.42598391e+00 -1.72008324e+01\n",
      "  7.72184706e+00  1.07404566e+01 -2.92969322e+01 -1.42489405e+01\n",
      " -2.97430534e+01 -3.34736366e+01 -1.10104685e+01 -4.02785683e+00\n",
      " -3.55467529e+01 -5.61024284e+00 -3.44984741e+01  1.18893194e+01\n",
      " -1.11058874e+01 -2.32085037e+01 -2.65762138e+01 -6.54084730e+00\n",
      " -8.45754206e-01 -6.38212967e+00 -1.25652771e+01 -1.35980475e+00\n",
      " -2.94721737e+01 -1.24922991e+01 -2.47689877e+01  3.39301348e+00\n",
      " -8.03049660e+00  2.76001263e+00 -3.62581158e+00 -2.89349270e+01\n",
      " -7.28625476e-01 -1.86172199e+00 -8.18065453e+00 -1.50864019e+01\n",
      "  2.38697171e+00 -4.87010098e+00 -8.83257580e+00 -2.67268229e+00\n",
      " -4.84638596e+00 -2.27792816e+01 -2.87435303e+01 -2.85630474e+01\n",
      " -1.74485779e+01 -4.76576138e+00 -2.79235268e+01 -2.09657001e+01\n",
      " -5.81190729e+00  1.25361872e+01 -5.98932791e+00 -9.91578484e+00\n",
      " -1.36676397e+01 -7.01670885e+00  8.46194446e-01  8.80633259e+00\n",
      " -3.71998405e+01  2.03874683e+00 -2.48291397e+01  3.66365170e+00\n",
      " -1.17662325e+01  4.93645132e-01 -1.09833345e+01 -2.08840561e+00\n",
      " -1.35952163e+00  1.85341721e+01 -9.17605686e+00 -1.90636215e+01\n",
      " -3.72231960e+00 -3.08868742e+00]' has dtype incompatible with int64, please explicitly cast to a compatible dtype first.\n",
      "  preds[val_index] = model.predict(dval_i)\n"
     ]
    },
    {
     "name": "stderr",
     "output_type": "stream",
     "text": [
      "\r",
      " 50%|███████████████████████████████████████████████████████████████████████████████████████████████████████████████                                                                                                               | 5/10 [02:45<02:44, 32.97s/it]"
     ]
    },
    {
     "name": "stderr",
     "output_type": "stream",
     "text": [
      "C:\\Users\\81809\\AppData\\Local\\Temp\\ipykernel_22492\\3386215446.py:18: FutureWarning: Setting an item of incompatible dtype is deprecated and will raise an error in a future version of pandas. Value '[ 2.31576991e+00  7.93003261e-01  1.51685743e+01  3.93066955e+00\n",
      " -5.19447947e+00 -8.47741842e-01  1.95452461e+01  6.56134510e+00\n",
      "  1.00103693e+01  6.17920399e+00  1.71339893e+00  5.48889446e+00\n",
      "  6.15460825e+00  2.52428036e+01  3.00261831e+00  2.16176167e+01\n",
      "  2.29582748e+01 -9.63341427e+00  2.35890651e+00  1.10562444e+00\n",
      "  6.92604601e-01 -3.30029416e+00  2.59605656e+01  2.88341389e+01\n",
      "  1.13204222e+01  4.07987213e+00 -3.58306670e+00  9.25945759e+00\n",
      "  3.75454545e+00 -2.80351579e-01 -2.12057471e+00  4.94901943e+00\n",
      "  2.34448361e+00  5.33466291e+00  1.65794697e+01  2.29386568e+00\n",
      " -4.72901911e-01  2.03043880e+01 -3.65426540e+00  5.53973675e+00\n",
      "  1.98447406e+00 -4.03580761e+00 -6.50688052e-01  7.90527534e+00\n",
      " -6.14186049e+00 -8.46192169e+00  1.64430809e+01  5.47141409e+00\n",
      "  2.35623837e+01  7.19388485e+00  1.19654298e+00  5.17223692e+00\n",
      " -1.45111549e+00 -1.22193718e+00  1.91048801e+00  1.26828232e+01\n",
      "  1.35475168e+01  6.08556032e+00  1.48178506e+00  4.01223421e+00\n",
      "  3.12932086e+00  4.71671581e+00  5.51391363e+00  7.48410225e+00\n",
      " -1.42631900e+00 -1.45097542e+00  1.64092445e+01  7.94832945e+00\n",
      "  1.20407286e+01  2.76204281e+01  4.36291742e+00  2.58771019e+01\n",
      " -8.64126110e+00  1.15075092e+01  1.05791597e+01  4.58007812e-01\n",
      "  3.68095183e+00  2.62991924e+01  8.66377449e+00  2.17627678e+01\n",
      " -6.01858020e-01  8.94271088e+00  8.25150204e+00 -1.37859762e+00\n",
      "  3.36275172e+00  1.14785881e+01  2.45321155e+00  1.06386757e+01\n",
      " -2.06632566e+00 -5.05358577e-01  2.53012943e+01 -3.08703136e+00\n",
      " -3.26480055e+00 -3.28909302e+00  2.73672905e+01 -1.32303536e-01\n",
      "  1.73676929e+01  5.24792910e-01  1.17358160e+01  1.18791580e+00\n",
      " -2.66105127e+00  3.63120079e+00  1.00320089e+00  1.57008591e+01\n",
      "  1.36942987e+01  2.09568615e+01 -4.82785797e+00  8.42152309e+00\n",
      " -3.26518941e+00  8.23126602e+00  1.08850451e+01  4.78158855e+00\n",
      " -1.45853786e+01 -4.32479239e+00 -1.89772689e+00  1.03278513e+01\n",
      "  5.51467687e-02  3.06535645e+01  1.42088175e+01  5.16261768e+00\n",
      "  9.71566200e+00  8.95567513e+00  1.84671783e+01  4.35125262e-01\n",
      "  1.21351004e+01  3.77237177e+00 -8.07495475e-01  8.86665726e+00\n",
      " -9.43638206e-01  2.49942756e+00  4.13972998e+00  3.85499120e+00\n",
      "  2.66824849e-04  8.73746872e+00 -1.13942175e+01 -8.45096707e-01\n",
      " -2.63255620e+00 -4.90264368e+00  6.87956429e+00  2.23682308e+00\n",
      " -2.54144835e+00  1.61292706e+01  1.25378189e+01 -5.66054869e+00\n",
      "  1.81080208e+01  1.89688854e+01  2.44946766e+01  3.61526132e+00\n",
      "  4.60235023e+00  4.70274973e+00 -1.39987826e+00  7.39545202e+00\n",
      "  4.15930748e+00  1.36567621e+01 -1.38573825e+00  1.96689057e+00\n",
      "  8.55987430e-01 -3.04509306e+00  4.27480888e+00  2.12588882e+01\n",
      "  6.29775524e+00  5.62070084e+00  1.67490602e+00  8.09110451e+00\n",
      "  1.28102565e+00 -1.94133982e-01  4.89075375e+00  6.17001724e+00\n",
      "  1.07443085e+01 -4.82967663e+00  2.18932495e+01  2.78590322e+00\n",
      "  1.21347628e+01  7.85820389e+00  7.11058331e+00 -2.68546844e+00\n",
      "  2.19570088e+00  1.05494528e+01  4.85140324e+00  2.41750221e+01\n",
      "  6.77498484e+00  1.02321987e+01  9.68019295e+00  3.90396380e+00\n",
      "  2.47007217e+01  4.68833208e+00  6.52188301e+00  5.85385942e+00\n",
      "  4.29535723e+00  9.69070339e+00  1.00421715e+01  8.92167473e+00\n",
      "  5.84726858e+00 -2.00004601e+00  1.66643410e+01 -1.72129822e+00\n",
      "  2.68857431e+00 -1.57894695e+00  4.43994951e+00  1.13780031e+01\n",
      "  3.34623489e+01 -2.30558968e+00  4.42450142e+01 -1.49794245e+00\n",
      "  1.46196699e+01 -2.04734206e-02  2.90821147e+00 -6.70281887e+00\n",
      "  9.09676838e+00  2.58311009e+00  1.40166245e+01  5.88370657e+00\n",
      " -8.35319233e+00 -2.40044546e+00  2.20544033e+01  2.40478306e+01\n",
      "  1.00839901e+01  9.50502157e-01  3.43479462e+01  3.58188286e+01\n",
      "  5.88571453e+00  2.07366524e+01  9.13375092e+00  1.44510069e+01\n",
      "  1.68732967e+01 -6.80909014e+00  1.26475744e+01  8.66433716e+00\n",
      " -5.24354267e+00 -2.91871548e+00  2.24617171e+00 -6.67995453e+00\n",
      "  1.04828024e+01  3.25322437e+00  1.77781506e+01  3.57752228e+01\n",
      "  1.54633796e+00  3.25861855e+01  2.02379298e+00  6.87330544e-01\n",
      "  5.81994832e-01  4.78852463e+00  5.61033678e+00  2.53504229e+00\n",
      " -6.66112757e+00  1.10446620e+00  1.60313339e+01  4.09101009e+00\n",
      "  1.00785103e+01  1.39412642e+01  3.37088203e+01  4.56189680e+00\n",
      " -6.51650810e+00  1.46308470e+01  2.19244595e+01  1.14760828e+01\n",
      "  8.05321407e+00  7.78189087e+00  3.43754745e+00  2.60000300e+00\n",
      "  4.41840630e+01 -2.70640779e+00  2.40849247e+01 -3.06769848e+00\n",
      " -5.40752029e+00  1.55454855e+01  3.17030106e+01  7.55295658e+00\n",
      "  1.28036671e+01  1.02962875e+01 -2.28802824e+00  8.07937241e+00\n",
      "  1.43905830e+01  3.35373344e+01  8.57572973e-01  2.86770129e+00\n",
      "  7.13562679e+00 -1.99847770e+00  8.92573833e+00  4.50606012e+00\n",
      "  4.72948036e+01 -3.18408608e+00 -3.01189137e+00 -8.72697651e-01\n",
      "  2.96514034e+01 -5.99468613e+00  2.51935444e+01  2.19479599e+01\n",
      "  3.07363582e+00 -1.15680180e+01  1.05806284e+01  2.20380516e+01\n",
      "  8.83500290e+00  1.31864727e-01  6.58535910e+00  3.65502815e+01\n",
      " -3.63146973e+00  1.19068727e+01  4.64203024e+00  1.55028296e+01\n",
      "  2.17664266e+00  6.13416386e+00  5.59907961e+00 -1.02682924e+01\n",
      " -8.46059227e+00  2.09038472e+00 -1.07091236e+01 -1.35600710e+00\n",
      "  7.85813856e+00  8.56335545e+00  2.93985310e+01  1.31910725e+01\n",
      "  2.11202202e+01  6.75649166e+00 -1.06202364e-01  1.92428036e+01\n",
      "  4.21672106e+00  8.38701439e+00  2.20738945e+01  1.53027258e+01\n",
      "  2.08534756e+01 -1.17578948e+00 -5.50668764e+00 -2.51860833e+00\n",
      " -2.02985497e+01 -7.34965754e+00 -1.00787344e+01 -2.06034750e-01\n",
      " -6.16324472e+00  1.75407422e+00 -6.61526394e+00 -4.92536449e+00\n",
      "  7.26892328e+00  3.73585320e+00  4.15691757e+00 -2.47708011e+00\n",
      "  1.97278464e+00 -6.08966827e+00 -3.22724676e+00 -6.26800299e-01\n",
      " -1.96779289e+01 -3.11993814e+00 -3.44010854e+00 -2.30650163e+00\n",
      " -1.92491603e+00 -3.88574982e+00 -3.34804106e+00  1.43440950e+00\n",
      " -9.18910313e+00 -1.87651615e+01 -2.79255810e+01 -2.82984829e+00\n",
      " -9.86661720e+00 -4.28674221e+00 -8.92317581e+00 -1.66269660e-01\n",
      "  6.95963740e-01 -4.36867857e+00 -9.99584293e+00 -1.66102529e+00\n",
      " -1.01792898e+01 -7.43483591e+00  1.04974532e+00 -5.73104525e+00\n",
      " -5.02403831e+00 -1.47875166e+01 -2.20139809e+01 -5.30596972e+00\n",
      " -2.64050722e+00 -1.51527727e+00 -5.89781094e+00  4.92464304e+00\n",
      "  3.80718255e+00 -7.58726597e+00  7.93926775e-01 -1.61987281e+00\n",
      " -1.37691441e+01 -4.72997332e+00 -1.37729183e-01 -1.48461256e+01\n",
      " -5.90956354e+00  4.45717812e+00 -7.80665922e+00 -8.69033051e+00\n",
      " -5.14988327e+00  4.85708523e+00  1.47361565e+00 -6.94361162e+00\n",
      " -9.45978928e+00  7.89330292e+00 -1.64432869e+01 -1.19686823e+01\n",
      " -1.07520390e+00 -4.53506279e+00 -1.10331833e-01 -1.24850597e+01\n",
      " -1.82737522e+01  2.86329746e+00  6.29292107e+00 -7.80447721e+00\n",
      "  5.07839918e+00 -1.62649326e+01 -1.05756102e+01 -5.31429577e+00\n",
      " -2.79237342e+00 -5.60436535e+00 -9.27905440e-01 -1.18193121e+01\n",
      " -7.93915749e+00 -2.89543772e+00 -1.38256245e+01 -1.08023272e+01\n",
      " -3.06534338e+00 -1.08536463e+01 -1.04710317e+00 -1.09656692e+00\n",
      " -3.81824708e+00 -1.18876610e+01 -1.89291019e+01  2.93046761e+00\n",
      " -2.31642914e+01 -1.29386187e+01 -5.02265406e+00 -2.51552439e+00\n",
      " -5.88814926e+00 -1.97205782e+00 -1.29974318e+01  3.98976493e+00\n",
      "  6.51976681e+00  4.97889221e-02 -7.76248157e-01 -6.12595654e+00\n",
      " -3.77021384e+00 -6.37490892e+00  9.59778690e+00 -2.06487312e+01\n",
      " -3.19008136e+00 -6.69199800e+00 -9.67540503e-01  1.24664612e-01\n",
      " -9.13965893e+00 -1.09065418e+01  3.29872441e+00 -5.27901173e+00\n",
      " -4.08388472e+00 -4.18590069e+00  1.59093790e+01 -3.39086032e+00\n",
      "  2.59901595e+00  1.35777569e+01 -1.50478010e+01  3.57918000e+00\n",
      " -1.47697268e+01  3.20709252e+00 -8.69097042e+00 -5.10404921e+00\n",
      "  8.66841078e-01 -8.97680759e-01 -2.92722344e+00 -4.70798302e+00\n",
      " -2.04829788e+01 -1.03436918e+01 -8.76659107e+00 -2.23497677e+01\n",
      "  9.00279713e+00 -9.33666825e-01  5.18549204e+00  4.15737295e+00\n",
      " -2.24745483e+01 -2.04788470e+00 -6.72335196e+00  1.09389124e+01\n",
      " -1.75726548e-01 -1.72268791e+01  5.10216177e-01 -4.28773737e+00\n",
      " -1.75944328e+01  1.93603206e-02 -9.99398649e-01 -3.83896399e+00\n",
      "  2.35818010e-02 -1.00853796e+01  2.23449492e+00  2.09176272e-01\n",
      "  2.52649665e-01  6.03154707e+00 -1.34636164e+01  4.48944187e+00\n",
      " -3.84921265e+00 -4.25643253e+00 -7.73742485e+00  2.92147040e+00\n",
      " -2.71032448e+01 -2.72457242e+00 -9.43800449e+00  4.27182770e+00\n",
      " -3.04617643e+00  6.90350962e+00  4.44703132e-01  3.22874284e+00\n",
      " -2.78683281e+00 -5.25067472e+00  3.95058823e+00 -9.66688061e+00\n",
      " -6.29854918e+00  8.50309849e+00  1.81910706e+00  4.88124037e+00\n",
      " -6.58769548e-01 -1.72138004e+01 -2.98517871e+00 -8.88662148e+00\n",
      " -3.35142422e+00 -1.04840171e+00 -3.78789401e+00 -3.31092119e+00\n",
      " -1.76865864e+00  2.42028260e+00  2.43346920e+01 -1.98995075e+01\n",
      " -5.90376425e+00 -4.00102663e+00 -1.75893974e+01 -5.37211323e+00\n",
      "  9.59010601e+00 -3.86786771e+00  1.48975801e+00 -3.43905544e+00\n",
      " -1.04822350e+01 -1.02807703e+01 -6.97208405e+00 -3.35329247e+00\n",
      " -1.15198822e+01 -9.09178162e+00 -6.69087172e+00  4.86152363e+00\n",
      " -1.52404051e+01 -5.52667236e+00 -1.65576515e+01 -9.80937481e+00\n",
      " -2.50822258e+01  4.47223902e+00 -1.05926933e+01 -3.09223390e+00\n",
      "  1.45561159e-01 -1.07538710e+01 -2.88413963e+01 -3.45586586e+01\n",
      "  1.41370211e+01 -7.91360950e+00 -6.74988687e-01 -1.36479092e+00\n",
      " -5.02325249e+00 -2.43411465e+01 -2.21900234e+01 -5.69923639e+00\n",
      " -8.05543709e+00  5.05315304e+00 -1.96696491e+01 -1.67059269e+01\n",
      " -6.94337034e+00 -5.54318523e+00 -2.20658112e+01 -1.16642866e+01\n",
      "  5.68439102e+00  6.55571556e+00  1.47241437e+00 -5.32324409e+00\n",
      " -2.72974510e+01 -9.63436604e+00 -1.71735802e+01  2.08788433e+01\n",
      " -1.72892323e+01  5.87548923e+00 -1.41099691e+01 -1.23092136e+01\n",
      " -3.58736496e+01 -7.34298325e+00 -2.64921403e+00 -3.27894330e+00\n",
      " -1.01169653e-01 -7.25875044e+00 -6.75991917e+00 -1.65703907e+01\n",
      " -1.61274929e+01 -3.09195442e+01  1.43481147e+00 -1.54772329e+01\n",
      " -3.29276047e+01 -7.46103525e+00 -2.66805515e+01 -1.55134621e+01\n",
      "  7.89175749e+00 -1.31663246e+01 -1.94514179e+01 -1.42106838e+01\n",
      " -4.27665424e+00 -1.47221708e+01 -1.08185196e+01 -3.38529396e+01\n",
      "  1.73436415e+00 -5.82202673e+00 -4.33987808e+00 -1.34696150e+00\n",
      " -2.91123981e+01 -2.68953171e+01 -2.67270966e+01 -6.03873014e+00\n",
      " -4.93833656e+01  1.85768318e+00 -3.80239677e+01 -2.56268287e+00\n",
      "  4.42926693e+00 -1.08235226e+01  8.17520142e+00  7.31417942e+00\n",
      " -8.52248955e+00 -3.24453735e+01  1.83418810e+00 -3.72155457e+01\n",
      "  3.01255012e+00 -4.27633476e+00 -1.01923933e+01 -1.76735477e+01\n",
      " -2.25014210e+01 -3.17521572e+01  1.31754847e+01 -2.13140726e+00\n",
      " -1.78824878e+00 -2.74771976e+01 -5.77147436e+00 -1.93592434e+01\n",
      " -2.75140724e+01 -2.26193428e+00  5.50842166e-01 -7.72246790e+00\n",
      " -6.26582813e+00 -7.58930492e+00  2.00623226e+00 -8.95248222e+00\n",
      " -3.79823647e+01 -7.71732616e+00 -1.16968479e+01 -4.99810171e+00\n",
      " -1.06018419e+01 -1.89642162e+01]' has dtype incompatible with int64, please explicitly cast to a compatible dtype first.\n",
      "  preds[val_index] = model.predict(dval_i)\n"
     ]
    },
    {
     "name": "stderr",
     "output_type": "stream",
     "text": [
      "\r",
      " 60%|█████████████████████████████████████████████████████████████████████████████████████████████████████████████████████████████████████▏                                                                                        | 6/10 [03:21<02:15, 33.92s/it]"
     ]
    },
    {
     "name": "stderr",
     "output_type": "stream",
     "text": [
      "C:\\Users\\81809\\AppData\\Local\\Temp\\ipykernel_22492\\3386215446.py:18: FutureWarning: Setting an item of incompatible dtype is deprecated and will raise an error in a future version of pandas. Value '[ 4.21475458e+00  1.30173950e+01 -6.05148602e+00  1.06150379e+01\n",
      "  4.48736811e+00  2.28623981e+01  6.51259375e+00  1.13897610e+00\n",
      "  5.77387762e+00  5.80999708e+00  2.32309914e+00  1.54462099e+00\n",
      "  9.47136700e-01  6.95313454e+00 -3.62491816e-01  2.05991154e+01\n",
      "  2.20164700e+01 -9.20628548e+00  5.72793245e+00 -3.40797067e-01\n",
      "  5.44435024e+00  8.11662376e-01 -4.30811071e+00  5.69401169e+00\n",
      "  8.26618767e+00  1.66177025e+01 -8.81345391e-01  2.86625481e+01\n",
      "  9.22095394e+00 -3.23604298e+00  4.47712469e+00  1.06961536e+01\n",
      "  1.48894234e+01  1.01206055e+01  6.14941311e+00  8.33759248e-01\n",
      "  1.63734207e+01  7.85455227e-01  1.64366329e+00  2.04354477e+00\n",
      " -3.47290337e-02  1.38709891e+00  7.84769869e+00  1.72768164e+00\n",
      "  6.38767529e+00  1.67098083e+01  1.52785263e+01  1.81244910e+00\n",
      " -1.98139799e+00 -1.77299559e+00  6.89207029e+00 -1.89934289e+00\n",
      "  1.39510174e+01 -2.92075229e+00  2.29839355e-01  1.15042009e+01\n",
      "  2.48959408e+01  2.40497265e+01  2.21075273e+00  5.62276602e+00\n",
      "  9.69318867e+00 -4.79353046e+00  9.13881493e+00  1.75895131e+00\n",
      "  7.80664504e-01 -2.74390173e+00  1.76376171e+01  5.63102484e+00\n",
      "  1.41865625e+01  1.79320335e+01 -6.40902948e+00  7.79489279e-01\n",
      "  5.76060200e+00  1.78439312e+01 -2.42586684e+00  1.82736530e+01\n",
      "  1.13459539e+01  1.24597492e+01  3.04049897e+00 -2.07471233e-02\n",
      "  7.75504112e+00  2.32435298e+00  1.54188013e+01  1.05873384e+01\n",
      " -4.89473486e+00  7.54205734e-02  5.88350184e-02 -4.14705038e+00\n",
      "  4.29739857e+00  1.51884308e+01 -6.26798809e-01 -4.09655190e+00\n",
      "  2.38610516e+01  5.18140221e+00  1.27230301e+01 -1.04821234e+01\n",
      "  1.28041277e+01  3.23319530e+00  1.33739824e+01 -8.50577641e+00\n",
      "  4.04222918e+00  1.03797131e+01 -3.30623674e+00 -2.64515877e-01\n",
      "  1.36411762e+01  2.08373237e+00 -4.76866341e+00  1.84268010e+00\n",
      " -2.99150181e+00  1.26505959e+00 -7.21669674e-01  6.80068922e+00\n",
      "  8.71605968e+00  2.61287689e+01 -3.06535101e+00 -7.94100904e+00\n",
      " -4.17374754e+00  4.78781366e+00 -1.89652705e+00  2.39350700e+00\n",
      "  8.37640858e+00  1.15692234e+01 -1.62113464e+00  3.59659457e+00\n",
      "  4.93893337e+00  3.11033750e+00  7.57034636e+00  1.61313381e+01\n",
      " -1.17679060e+00 -2.28940558e+00  6.88957930e+00 -1.32215932e-01\n",
      "  6.39201939e-01  2.41024780e+00  2.65161633e+00  1.10260963e+01\n",
      "  2.67601848e+00  5.21416903e+00  1.14269328e+00 -8.90937424e+00\n",
      "  2.12340927e+01  1.47235966e+00  3.66125894e+00  7.79920244e+00\n",
      "  1.74543552e+01 -3.71170926e+00  6.51261568e-01  1.25124598e+01\n",
      "  1.22748785e+01 -2.28292465e+00 -6.47280395e-01  3.81292701e+00\n",
      "  1.87869382e+00 -6.70639277e+00  9.29381943e+00  1.31034441e+01\n",
      "  4.39843798e+00  1.26855850e+00 -3.31545758e+00 -3.14330888e+00\n",
      "  4.72775507e+00  5.12098312e+00  2.35559158e+01  2.14300084e+00\n",
      "  4.19426298e+00  9.48931053e-02  8.56347680e-01  1.87313328e+01\n",
      "  2.68544269e+00 -9.01368678e-01  6.81125355e+00  3.93692899e+00\n",
      "  8.41283703e+00  8.01147842e+00  2.48288244e-01  3.53229594e+00\n",
      "  2.99592161e+00  2.33780212e+01  7.33606100e+00 -5.25342751e+00\n",
      "  9.38107109e+00 -1.86732143e-01  6.19987154e+00  9.80358028e+00\n",
      "  2.32132797e+01  1.92068367e+01  3.51372695e+00  2.16272984e+01\n",
      "  1.60326824e+01  2.57054877e+00  5.70106697e+00 -2.04939556e+00\n",
      "  1.06146803e+01  1.58016233e+01  9.27249610e-01  3.65705147e+01\n",
      "  1.48548603e+01 -6.97543001e+00  6.74940729e+00 -4.38773489e+00\n",
      "  1.41294203e+01  8.61919117e+00  3.84277153e+01  6.84750128e+00\n",
      "  9.29825425e-01  2.35639477e+01  7.04521132e+00  8.33693409e+00\n",
      " -7.39711106e-01 -3.82867956e+00  9.56935024e+00  6.94175100e+00\n",
      " -1.06878452e+01  3.53373361e+00  2.59414654e+01  3.68961906e+00\n",
      " -8.95831764e-01  1.36658025e+00  9.53760147e+00  2.13753843e+00\n",
      " -9.24690914e+00  1.05868206e+01  2.51309357e+01  5.29166460e+00\n",
      "  2.31907320e+00  2.09074478e+01  1.44643555e+01  8.55188656e+00\n",
      "  5.21665382e+00 -7.29790068e+00  4.42970848e+01  2.76201916e+00\n",
      "  9.33691216e+00  2.23570805e+01  1.41790247e+01  3.09420033e+01\n",
      "  2.58475602e-01  9.14210606e+00  7.35663652e+00  3.61453667e+01\n",
      "  3.60202560e+01  5.73879051e+00  5.05032587e+00  1.75945816e+01\n",
      "  9.67934489e-01  1.05532110e+00  2.96381912e+01 -2.33488059e+00\n",
      " -3.62729356e-02  8.44437218e+00  1.94115963e+01  1.35734043e+01\n",
      "  1.71419334e+01  1.41216354e+01  1.18349752e+01 -5.15846539e+00\n",
      "  1.28815241e+01  2.12914848e+00  2.99421668e+00  1.44299240e+01\n",
      "  1.19458094e+01 -4.76285982e+00  4.12437019e+01  3.57615013e+01\n",
      " -9.84941292e+00  8.12765694e+00  1.11190021e+00  1.29571400e+01\n",
      "  1.36188078e+01  2.95439548e+01  1.74068375e+01  4.71923904e+01\n",
      "  3.28339994e-01  2.95471382e+01  2.12295895e+01  6.42307949e+00\n",
      "  2.45696545e+01  2.74879956e+00 -9.80902195e+00  5.53593826e+00\n",
      " -7.59745455e+00  1.93069916e+01  7.02765274e+00  3.65101504e+00\n",
      "  2.83952961e+01  3.62179184e+01  5.20136058e-01  5.79647636e+00\n",
      "  1.89986343e+01  2.13450794e+01  1.84192142e+01  6.36191845e+00\n",
      "  5.68377972e+00  1.60391402e+00 -6.92556524e+00 -1.85500133e+00\n",
      "  2.45639534e+01  4.32336473e+00  2.93755932e+01  1.88371265e+00\n",
      " -2.04846215e+00  2.31167984e+01 -3.47289562e+00  2.35881805e+01\n",
      "  2.70314178e+01  4.71124935e+00  1.07780590e+01  1.19806566e+01\n",
      " -4.28305292e+00 -1.41625767e+01 -1.04905882e+01 -9.50414085e+00\n",
      " -5.33328915e+00 -1.09605875e+01 -6.31491518e+00  1.65266085e+00\n",
      " -6.25698328e+00 -6.45372772e+00 -7.12094545e+00  4.13556194e+00\n",
      "  4.29791832e+00 -1.32763653e+01 -2.11617336e+01 -2.11533833e+01\n",
      " -6.74057055e+00  7.41919708e+00 -4.64362144e+00 -1.44661796e+00\n",
      " -6.53252268e+00  4.76548004e+00  1.93321538e+00  1.92385066e+00\n",
      " -7.59385300e+00 -2.31133213e+01 -1.72208328e+01 -1.09064474e+01\n",
      " -4.40410757e+00 -6.37120533e+00 -1.13816488e+00  6.31141615e+00\n",
      "  7.59847212e+00  2.39808723e-01  4.45573616e+00 -7.45512819e+00\n",
      " -6.65053797e+00 -8.57153034e+00 -1.08539295e+01  3.69467402e+00\n",
      "  5.57611704e+00  6.81327629e+00 -2.18161068e+01  1.06468201e+01\n",
      " -3.62750888e-01 -1.48613997e+01 -2.47568207e+01 -8.57422948e-01\n",
      " -4.52193975e+00 -7.84549522e+00  1.51460803e+00 -1.02978778e+00\n",
      " -3.26288962e+00 -2.94850492e+00  1.42294919e+00 -5.40632915e+00\n",
      " -5.75706601e-01 -2.77136612e+01  1.41018069e+00 -1.63002338e+01\n",
      " -2.35517883e+01 -1.72600937e+01 -1.52955031e+00  3.49668550e+00\n",
      " -1.20905952e+01 -5.51649380e+00 -2.89796352e+00 -3.60211921e+00\n",
      " -4.84755087e+00 -5.30864859e+00  2.89598227e+00 -7.39022541e+00\n",
      " -1.10714197e+00 -1.50107403e+01  4.52024966e-01 -5.95295715e+00\n",
      " -6.57505512e+00  4.51484013e+00 -3.36628127e+00  1.45396128e+01\n",
      " -5.11741638e+00  3.38801003e+00  2.68824518e-01 -8.78089905e+00\n",
      " -1.60407305e+00  9.95952988e+00  5.07675266e+00  1.64792669e+00\n",
      "  8.10221767e+00 -4.23601723e+00 -4.58671665e+00  2.74117494e+00\n",
      " -2.22784662e+00 -3.01177382e+00  3.43185759e+00 -2.43317871e+01\n",
      " -1.87212334e+01 -2.06507516e+00 -4.27464056e+00 -2.27042460e+00\n",
      " -6.88199711e+00  5.26568556e+00  4.35430193e+00  1.85979104e+00\n",
      "  2.94927192e+00  2.64154315e+00 -1.04034977e+01  1.01674342e+00\n",
      " -2.07599926e+01 -4.37650347e+00 -1.28717003e+01 -7.12593079e+00\n",
      " -1.88132823e+00  4.18990564e+00 -2.99053402e+01 -8.98974705e+00\n",
      "  1.20419769e+01 -1.51626625e+01  5.46965218e+00 -1.53419390e+01\n",
      "  5.20061255e+00 -2.92176557e+00  1.55821550e+00 -4.67422199e+00\n",
      " -5.10597897e+00 -3.10951281e+00 -4.39060259e+00 -1.18054180e+01\n",
      " -1.19669619e+01 -8.05070937e-01 -1.25541325e+01  1.61407232e+00\n",
      " -1.52744997e+00 -2.15727005e+01 -4.53650570e+00 -9.16644764e+00\n",
      " -4.10170460e+00 -1.10657988e+01 -2.09415245e+01  1.66675067e+00\n",
      " -4.03919411e+00  9.86577570e-01 -3.34100533e+00 -5.49624729e+00\n",
      " -2.37080193e+00 -2.87200284e+00  9.88083065e-01  1.63292789e+01\n",
      " -4.12605889e-02 -3.26477885e+00 -1.99771500e+01 -1.03075895e+01\n",
      " -2.85884404e+00 -3.78707433e+00 -1.00530939e+01 -5.86428213e+00\n",
      " -7.62583256e+00 -3.78024983e+00 -2.12551460e+01  6.12754107e+00\n",
      "  5.60392666e+00 -1.37487590e+00  5.81824112e+00 -8.28179777e-01\n",
      " -5.82386923e+00 -2.17702794e+00 -1.77853429e+00 -4.38112450e+00\n",
      "  2.21516800e+00 -3.05487692e-01  6.55467319e+00 -2.77936220e+00\n",
      "  1.79718316e+00  4.03849030e+00 -1.22363305e+00  1.71485507e+00\n",
      " -2.60638261e+00 -2.35135193e+01 -1.53354053e+01 -3.24443555e+00\n",
      " -2.30808048e+01  5.88853955e-01 -1.28106909e+01 -4.08762503e+00\n",
      "  5.01567125e+00 -5.29478312e+00 -8.03521919e+00 -1.25344248e+01\n",
      " -8.91829491e+00 -8.49123299e-02 -1.71896496e+01 -1.25180554e+00\n",
      " -3.76065755e+00 -4.96303892e+00 -5.27194691e+00  8.34477615e+00\n",
      "  4.54749012e+00 -3.24002695e+00 -4.14681578e+00 -7.21235335e-01\n",
      " -2.89910603e+01 -4.28761482e+01  1.00120640e+00 -2.37750554e+00\n",
      " -4.92851210e+00  4.87214708e+00 -2.03760767e+00 -5.07441759e+00\n",
      " -3.49578018e+01 -4.76564693e+00 -1.19437351e+01  3.97517729e+00\n",
      "  9.99629021e+00 -1.00158539e+01 -1.45479774e+01 -6.81118536e+00\n",
      " -2.82058501e+00 -2.73384323e+01 -3.33316956e+01 -2.54534283e+01\n",
      " -3.74330101e+01 -1.47119675e+01 -1.67086411e+01 -3.47125092e+01\n",
      " -2.82144432e+01  8.91131210e+00 -1.95369244e+01 -8.77157784e+00\n",
      " -4.24387902e-01  3.48598194e+00 -3.93849182e+00  7.29547644e+00\n",
      " -1.29733717e+00 -3.10817814e+01 -1.26597147e+01  1.42050755e+00\n",
      "  4.08944893e+00 -1.79860163e+00 -4.15706187e-02 -1.61308742e+00\n",
      " -2.90991859e+01 -1.56005394e+00 -5.58222580e+00 -4.62731743e+00\n",
      " -1.67876396e+01 -7.10596800e+00  3.90742993e+00  7.01683140e+00\n",
      " -6.78618240e+00 -2.27952042e+01 -1.43833303e+01 -1.33688288e+01\n",
      " -1.07160807e+00 -1.26321688e+01  8.40700209e-01 -3.73784447e+00\n",
      " -1.05796480e+01 -3.53040695e+01 -6.46221161e+00  8.37854147e-01\n",
      "  6.12535954e+00 -1.76000195e+01 -4.00385237e+00 -2.59579601e+01\n",
      " -2.35172195e+01 -2.84804115e+01 -7.45589638e+00 -1.21326780e+01\n",
      " -1.84751952e+00 -1.50650084e+00 -2.42669654e+00 -2.85160961e+01\n",
      " -1.19347591e+01  4.46690798e+00 -1.17777357e+01 -3.44353523e+01\n",
      " -1.61064744e+00 -1.20764885e+01 -1.42782915e+00 -2.68460922e+01\n",
      " -7.70608950e+00  6.51038885e-02 -3.39042401e+00 -6.82335854e+00\n",
      " -9.66329002e+00 -3.39255829e+01  1.09734869e+00 -2.75070438e+01\n",
      "  2.04768702e-01 -1.14772301e+01 -2.36256981e+01 -2.89006214e+01\n",
      " -1.85805168e+01 -6.05066824e+00 -1.55974114e+00 -1.31924982e+01\n",
      " -1.81685333e+01 -2.55617714e+01  9.88861084e-01 -4.57939911e+01\n",
      " -3.02126560e+01 -1.23017359e+01 -3.32510414e+01 -2.19015121e+00\n",
      " -2.22314396e+01  9.91640759e+00 -1.27701283e+01 -9.01277351e+00\n",
      "  6.45435762e+00 -1.80039463e+01 -1.97825596e-01 -7.37265491e+00\n",
      " -7.75427282e-01  2.03422022e+00 -9.22225237e-01 -3.02880516e+01\n",
      " -5.47642088e+00 -9.91952801e+00 -1.29394159e+01 -3.78482294e+00\n",
      "  2.30726795e+01 -2.88267946e+00 -3.35702896e+01 -3.03548679e+01\n",
      " -3.46788049e+00  3.22801399e+00 -3.89557343e+01  2.64477944e+00\n",
      " -3.75313721e+01 -2.37824345e+01 -1.84983845e+01 -1.31684914e+01\n",
      " -1.33892336e+01 -1.89841061e+01 -9.68622875e+00 -1.80783978e+01\n",
      " -3.60807443e+00  1.47151113e+00]' has dtype incompatible with int64, please explicitly cast to a compatible dtype first.\n",
      "  preds[val_index] = model.predict(dval_i)\n"
     ]
    },
    {
     "name": "stderr",
     "output_type": "stream",
     "text": [
      "\r",
      " 70%|███████████████████████████████████████████████████████████████████████████████████████████████████████████████████████████████████████████████████████████▍                                                                  | 7/10 [03:41<01:28, 29.40s/it]"
     ]
    },
    {
     "name": "stderr",
     "output_type": "stream",
     "text": [
      "C:\\Users\\81809\\AppData\\Local\\Temp\\ipykernel_22492\\3386215446.py:18: FutureWarning: Setting an item of incompatible dtype is deprecated and will raise an error in a future version of pandas. Value '[ 1.22961724e+00 -4.92927361e+00  3.08515286e+00  1.17525518e+00\n",
      "  1.75285110e+01  4.85591799e-01 -3.09533060e-01  9.77779484e+00\n",
      " -4.60009766e+00  3.91009021e+00 -2.61045599e+00  7.19217920e+00\n",
      "  4.24692583e+00  1.23919451e+00  6.71628380e+00  7.65894127e+00\n",
      " -7.38564014e+00 -4.39374113e+00  3.88052011e+00  8.94038677e+00\n",
      " -3.57286006e-01 -4.82977867e-01  2.61094165e+00  2.88448048e+01\n",
      "  1.14820137e+01  1.29732656e+00 -6.31188297e+00  1.82903614e+01\n",
      " -7.46604085e-01  5.18860388e+00  1.60834444e+00 -3.83773518e+00\n",
      "  7.58309078e+00 -1.05661988e+00  9.13929844e+00  1.01835232e+01\n",
      "  8.36039162e+00 -9.66988087e+00  7.38681746e+00  1.78730249e+00\n",
      " -1.52720916e+00  5.08163548e+00  1.65891895e+01  1.08822298e+01\n",
      "  2.31600208e+01 -3.14011395e-01  1.67962417e-01  1.41264639e+01\n",
      "  7.27153587e+00  1.72847211e+00  9.05375671e+00  4.15576649e+00\n",
      " -4.87009335e+00 -8.92233610e-01  6.72639990e+00 -2.98254609e+00\n",
      "  1.64496982e+00  7.90225410e+00  5.81335163e+00  3.50911379e+00\n",
      "  1.15463276e+01  1.03681316e+01 -4.08216715e+00 -3.76649642e+00\n",
      "  3.06727004e+00  3.05964422e+00 -1.98066509e+00  2.22608709e+00\n",
      "  1.98554974e+01  8.40120125e+00  5.52614880e+00  1.75113163e+01\n",
      "  7.97174263e+00 -3.44780564e-01 -3.34038210e+00 -6.02025270e+00\n",
      "  9.20016575e+00  7.06460476e+00  1.03262558e+01  6.05069935e-01\n",
      "  3.92622972e+00  6.83839893e+00  6.20806742e+00  1.24148598e+01\n",
      "  3.64607859e+00  1.13840461e+00  4.80407476e+00  3.13976669e+00\n",
      "  2.19602051e+01  1.49007616e+01  7.38064766e-01  8.00328159e+00\n",
      " -1.08489008e+01  4.25465345e+00  5.75514698e+00  1.10234547e+00\n",
      "  1.03869224e+00  9.84644699e+00 -2.84011388e+00  2.13283901e+01\n",
      "  7.38553286e-01 -1.23315644e+00 -1.33124542e+00  2.68308902e+00\n",
      "  9.82367218e-01  7.30235863e+00 -5.92417574e+00  1.26667938e+01\n",
      " -2.29682636e+00 -4.31980193e-01 -6.13052034e+00 -1.64247870e+00\n",
      "  6.36121845e+00 -3.04383922e+00 -1.95960546e+00  7.92195702e+00\n",
      " -5.99630213e+00  7.41756916e-01 -2.59333348e+00 -3.30107594e+00\n",
      "  6.51589251e+00  1.28152685e+01 -3.71744466e+00 -2.21410781e-01\n",
      "  3.69720006e+00 -4.11547518e+00  3.85434127e+00  7.57606411e+00\n",
      " -5.66347361e-01  1.64150524e+01  1.50226240e+01  4.09916258e+00\n",
      " -4.25021505e+00 -6.07892179e+00 -1.60411882e+00  2.10192704e+00\n",
      "  5.57768631e+00 -5.94221592e+00  3.68898606e+00  1.22224903e+01\n",
      " -2.01924777e+00 -2.68284154e+00  2.71634966e-01  1.20537531e+00\n",
      "  5.92870617e+00 -5.68368912e+00  9.40895367e+00  1.64737682e+01\n",
      "  1.47175159e+01  1.07320623e+01  1.90530086e+00  1.23886700e+01\n",
      "  1.07258749e+00  3.18140477e-01  9.86199760e+00  2.28866730e+01\n",
      " -3.78894717e-01 -8.90778255e+00  3.14640927e+00  5.38300657e+00\n",
      "  4.14060497e+00 -4.76245463e-01  1.78359950e+00  1.14624653e+01\n",
      " -3.86558461e+00  9.39790308e-01 -1.65777168e+01  1.74898205e+01\n",
      " -4.30766726e+00  2.26648674e+01  3.10918951e+00  1.12971914e+00\n",
      "  9.13338947e+00  5.85688448e+00  1.20922670e+01  3.23040009e+00\n",
      "  5.21623325e+00  2.26424456e+00  2.77163720e+00  2.05064222e-01\n",
      "  3.77363682e+00 -1.76383090e+00  4.34381819e+00 -4.87229204e+00\n",
      "  2.20169601e+01  2.13622227e+01  3.53492171e-01  1.60557318e+00\n",
      " -6.38550806e+00  6.47742844e+00  4.90388203e+00 -3.27064657e+00\n",
      "  4.61671591e+00  6.87735558e+00  9.42635250e+00  3.33431721e+00\n",
      "  2.12419643e+01 -2.89728546e+00  1.06800585e+01  2.49287872e+01\n",
      " -3.80743599e+00 -1.02731168e+00 -4.14289570e+00 -1.57600904e+00\n",
      " -3.82604575e+00  2.32034159e+00  5.79155922e+00 -2.50817895e+00\n",
      "  1.56293821e+01 -3.85535669e+00 -1.73931181e+00  9.31323946e-01\n",
      "  1.90162144e+01  3.27107739e+00  4.03515530e+00  1.16494961e+01\n",
      "  2.09737229e+00 -1.68089283e+00  5.50864887e+00  2.03587551e+01\n",
      "  2.97350006e+01 -1.18113041e+00  2.61837692e+01  3.24246812e+00\n",
      "  3.96305251e+00  1.94284916e+01  5.94214582e+00 -5.43606840e-02\n",
      "  2.08320427e+01 -9.58662510e+00 -1.03871689e+01 -4.91705036e+00\n",
      "  6.00089836e+00 -4.24702168e+00  3.53272629e+01  1.63710766e+01\n",
      "  2.03672581e+01  3.96355343e+00  1.90336761e+01  6.51381302e+00\n",
      "  6.86883402e+00 -3.91700840e+00  3.23274612e+01  1.28971539e+01\n",
      "  2.92509480e+01  1.18303692e+00  6.58115208e-01  2.95533257e+01\n",
      "  1.20883036e+01  2.46283989e+01  1.92071800e+01  1.53381987e+01\n",
      "  1.97068062e+01  5.97242594e+00  1.29595928e+01  1.67874312e+00\n",
      "  1.66128006e+01 -7.33444118e+00  7.63084984e+00 -5.84303856e-01\n",
      "  1.27222359e+00  1.10521784e+01 -4.64596033e+00  2.34095230e+01\n",
      "  2.73969994e+01  8.47915649e+00  1.55912867e+01  7.22224379e+00\n",
      " -1.04999328e+00  1.37386465e+01  2.91337657e+00  1.68806133e+01\n",
      "  1.63816464e+00  1.62295418e+01  1.36733503e+01 -1.83854014e-01\n",
      " -9.63585377e+00  6.88695288e+00  2.02353783e+01 -1.08942308e+01\n",
      "  1.01807270e+01  2.69453955e+00  2.93469963e+01  4.69560921e-01\n",
      " -8.94814682e+00  7.21750259e+00 -8.91882229e+00  3.17448306e+00\n",
      "  2.82068777e+00  9.37536061e-01  3.02138824e+01  1.89758930e+01\n",
      "  2.60076485e+01  4.67202473e+00  4.80675087e+01  1.28824883e+01\n",
      "  3.62766991e+01  1.49955463e+01  9.38355029e-01  4.59017897e+00\n",
      "  2.17045765e+01  7.72069311e+00  1.23157101e+01 -8.27612591e+00\n",
      " -9.85074425e+00  7.93208981e+00  1.64273703e+00  3.07265797e+01\n",
      "  3.39894742e-01 -2.32729509e-01 -3.03519773e+00  2.10390592e+00\n",
      " -1.54302108e+00  1.63602829e+01  5.79241562e+00  8.97191906e+00\n",
      "  3.13409462e+01 -9.28919220e+00  7.83042812e+00  1.31289854e+01\n",
      "  9.09449387e+00  2.00591869e+01 -9.77540684e+00  2.87998848e+01\n",
      " -1.51652594e+01  3.95333176e+01 -6.62993431e+00  3.06550941e+01\n",
      "  7.17827797e+00  1.89822369e+01  1.93484077e+01  8.55794370e-01\n",
      " -1.18360643e+01  2.54170856e+01  9.86044598e+00  1.18165064e+01\n",
      "  7.39517450e+00  1.79500885e+01  3.57932806e+00 -1.06726103e+01\n",
      "  8.35479438e-01  2.49349928e+00 -1.15375690e+01 -6.50735378e+00\n",
      " -2.69378042e+00 -8.66318989e+00 -7.95459318e+00 -5.52949667e+00\n",
      " -7.13317347e+00 -5.54307461e+00 -7.14765835e+00 -2.12033024e+01\n",
      "  1.03359222e+01 -7.40739155e+00 -2.89443398e+00 -6.46414042e+00\n",
      " -4.51576412e-01 -3.74717903e+00 -4.99185991e+00  1.88589543e-01\n",
      " -6.34928167e-01 -6.19595814e+00 -9.49795818e+00 -2.37511864e+01\n",
      " -3.51333666e+00  1.90990722e+00 -4.89607859e+00 -2.74941921e+01\n",
      " -4.98504162e+00 -5.68942356e+00  3.63067245e+00 -2.57974648e+00\n",
      " -1.03769369e+01 -5.37685096e-01 -9.37696075e+00 -7.53422403e+00\n",
      "  4.94696140e+00  1.40025032e+00  4.94169563e-01 -3.95459104e+00\n",
      " -6.77742481e+00 -8.76176739e+00 -9.46708870e+00 -1.33266449e+01\n",
      " -4.51994562e+00  1.55685556e+00 -1.87859976e+00 -1.68148184e+00\n",
      " -6.24487352e+00 -8.79592133e+00 -1.20543528e+01  3.20365715e+00\n",
      " -1.05967665e+01 -4.88084459e+00 -6.71164894e+00 -3.91385722e+00\n",
      "  1.28729534e+00 -8.43722725e+00 -6.86407804e+00 -2.36632328e+01\n",
      " -8.03342056e+00 -7.37656736e+00  1.49688435e+00 -1.36726837e+01\n",
      " -2.49117832e+01  2.55309582e-01 -2.48856759e+00  1.03617210e+01\n",
      " -1.75826874e+01 -1.18883286e+01 -1.37678409e+00 -1.86437397e+01\n",
      " -4.37174129e+00 -1.07787967e+00  5.01572037e+00 -1.21668024e+01\n",
      " -7.58173800e+00  1.15164604e+01 -1.54406061e+01 -1.62604008e+01\n",
      " -4.62987566e+00  4.81254053e+00 -6.54592705e+00  2.23785520e+00\n",
      " -9.19760799e+00 -5.09135675e+00 -1.41240225e+01  5.87196636e+00\n",
      "  8.70306396e+00 -3.74908686e+00  1.65423036e+00 -9.50757444e-01\n",
      " -1.76049697e+00 -1.22693968e+01  1.25365105e+01 -2.10503826e+01\n",
      " -5.69281864e+00 -1.91446018e+00 -2.25819283e+01 -1.80732002e+01\n",
      " -1.15309381e+01 -2.50256824e+00 -8.75104070e-01  1.41432083e+00\n",
      "  1.41646061e+01  6.58546066e+00 -9.32229102e-01 -6.78190231e+00\n",
      " -4.46985960e+00  3.12383354e-01  9.46880913e+00  1.73417053e+01\n",
      "  5.55179310e+00 -9.85288811e+00 -5.82422447e+00 -4.11907434e+00\n",
      "  1.88207018e+00  2.41470504e+00 -2.07380886e+01  6.65500498e+00\n",
      " -2.29334220e-01 -1.52718091e+00  1.89015672e-01 -1.37711363e+01\n",
      " -1.40739524e+00  5.70335674e+00 -1.74464149e+01 -1.63039589e+01\n",
      " -2.21367340e+01 -1.02141333e+01 -1.15270643e+01  1.03580780e+01\n",
      " -2.27306614e+01 -2.75462627e+00 -8.36454153e-01  6.77576399e+00\n",
      " -4.44557571e+00  4.72214985e+00  7.56058335e-01  2.66208291e-01\n",
      " -2.94826174e+00 -8.61319542e+00 -1.45678830e+00 -1.81369934e+01\n",
      " -5.80334330e+00 -4.52577066e+00 -4.41295815e+00 -2.54869843e+00\n",
      "  5.94932079e+00 -5.68149376e+00  4.48366523e-01 -6.32311773e+00\n",
      " -2.33056569e+00 -8.05822015e-01 -2.00355411e+00 -3.98983049e+00\n",
      "  3.58055592e+00 -2.41750603e+01  1.76448307e+01  3.75436449e+00\n",
      "  1.22510252e+01 -3.47359705e+00  3.74083376e+00 -4.22895765e+00\n",
      " -2.83405495e+00 -1.04458866e+01  3.11683130e+00 -1.43947017e+00\n",
      " -2.63739738e+01 -6.37232971e+00 -4.21946049e-01 -9.74970341e-01\n",
      " -2.88494420e+00 -6.11042881e+00 -1.65092926e+01 -5.40324640e+00\n",
      " -7.56034660e+00 -9.13012791e+00 -7.46956444e+00 -2.01199174e+00\n",
      " -3.62609434e+00  7.62722015e+00 -5.96449041e+00  8.49503422e+00\n",
      " -3.56472564e+00 -6.29626369e+00 -3.09369259e+01 -1.88895702e+01\n",
      " -9.45296955e+00 -5.84420395e+00 -4.17574310e+00 -2.76904068e+01\n",
      " -1.07699890e+01 -2.76997833e+01 -1.40328970e+01 -1.44602489e+00\n",
      " -2.85174608e+00 -1.04441481e+01 -3.52648010e+01 -1.85975587e+00\n",
      " -1.33234587e+01 -8.27608204e+00  1.25851440e+00 -1.02041836e+01\n",
      " -6.27987480e+00 -6.41315699e+00 -1.31749115e+01 -1.35607548e+01\n",
      " -3.28292809e+01 -2.76168690e+01 -3.63545647e+01 -1.23901308e+00\n",
      "  2.01131010e+00 -1.87308712e+01 -2.52930374e+01 -2.84153805e+01\n",
      "  6.19839764e+00  8.91873169e+00 -6.85919702e-01 -7.40310097e+00\n",
      " -3.90439911e+01 -7.74139762e-01 -2.92683258e+01 -3.29850426e+01\n",
      " -1.36122856e+01 -3.02651367e+01 -1.86790490e+00 -1.56222210e+01\n",
      " -7.14454222e+00 -4.21836128e+01  6.07003784e+00 -9.10052538e-01\n",
      " -2.14739552e+01 -1.99196777e+01  3.01283412e-02 -7.69088030e+00\n",
      " -1.96187248e+01 -3.42131538e+01 -3.25291519e+01 -5.17285395e+00\n",
      "  2.92083883e+00  1.00734262e+01 -2.55082912e+01 -1.01920738e+01\n",
      " -1.46692686e+01 -4.31016541e+00 -2.11504784e+01 -1.23025827e+01\n",
      " -4.21548233e+01  4.22928190e+00 -7.33326316e-01 -1.38380766e+00\n",
      " -1.97194271e+01  6.94164228e+00 -3.32090831e+00 -6.06445789e+00\n",
      " -8.20317936e+00  5.36248493e+00 -3.55212135e+01 -5.66551590e+00\n",
      "  8.48893547e+00 -8.15623188e+00  7.99711180e+00 -1.49973249e+01\n",
      "  3.42163205e+00 -7.10764027e+00 -1.15253944e+01 -1.57778625e+01\n",
      " -1.03663139e+01 -2.63404408e+01 -1.31779728e+01  2.73300743e+00\n",
      "  1.67851460e+00  2.13974762e+00  6.24233294e+00 -1.93592682e+01\n",
      " -6.98081017e+00 -9.59992409e+00  5.02702951e+00  8.18374538e+00\n",
      " -2.78279400e+01  6.62214220e-01 -2.40979843e+01 -3.05694790e+01\n",
      "  2.84434819e+00 -1.33556557e+00  7.59281206e+00 -7.36792803e+00\n",
      " -1.13157921e+01 -1.54175920e+01 -2.30676003e+01  1.00652761e+01\n",
      " -2.64924192e+00 -9.05110455e+00 -3.41596270e+00 -2.48695183e+01\n",
      " -3.59514885e+01 -3.60365105e+01 -1.68603344e+01  6.27106524e+00\n",
      " -1.54168377e+01 -1.55822334e+01  1.39798250e+01 -2.42417927e+01\n",
      " -1.82240906e+01 -2.60984707e+00]' has dtype incompatible with int64, please explicitly cast to a compatible dtype first.\n",
      "  preds[val_index] = model.predict(dval_i)\n"
     ]
    },
    {
     "name": "stderr",
     "output_type": "stream",
     "text": [
      "\r",
      " 80%|█████████████████████████████████████████████████████████████████████████████████████████████████████████████████████████████████████████████████████████████████████████████████▌                                            | 8/10 [03:58<00:51, 25.57s/it]"
     ]
    },
    {
     "name": "stderr",
     "output_type": "stream",
     "text": [
      "C:\\Users\\81809\\AppData\\Local\\Temp\\ipykernel_22492\\3386215446.py:18: FutureWarning: Setting an item of incompatible dtype is deprecated and will raise an error in a future version of pandas. Value '[ 8.16240501e+00 -6.02619362e+00  1.09014492e+01  8.29021931e+00\n",
      "  6.94005728e+00  6.55405378e+00  5.35117245e+00  2.28140306e+00\n",
      " -5.33197343e-01  3.53097510e+00 -2.89255738e+00  2.63328862e+00\n",
      " -9.71672416e-01  2.08838921e+01  2.67074990e+00  1.36363859e+01\n",
      "  4.55444431e+00  3.39863801e+00  7.30468893e+00  3.24047542e+00\n",
      "  6.14733887e+00  4.46867561e+00  9.92908096e+00 -1.30900538e+00\n",
      "  6.76779747e+00  4.47646809e+00  1.06513367e+01  5.79455662e+00\n",
      "  2.15797400e+00  2.53965816e+01  4.93577766e+00 -8.58222771e+00\n",
      "  4.38796473e+00  1.61240139e+01  9.64966679e+00 -6.01299667e+00\n",
      "  4.44524240e+00  1.47508907e+00 -1.22708075e-01 -7.88895702e+00\n",
      " -4.03115797e+00  1.06265144e+01  3.37324190e+00  7.23714113e+00\n",
      "  2.19760151e+01  8.57964706e+00  6.31616402e+00  7.14388311e-01\n",
      " -3.25638032e+00  2.60327840e+00  4.28648853e+00  3.42482328e+00\n",
      "  2.26119801e-01  1.63702946e+01  3.73311710e+00  1.10932236e+01\n",
      "  2.23294868e+01  8.57820702e+00 -3.58046842e+00  6.97891426e+00\n",
      "  3.53297544e+00  3.31950092e+00  3.32535267e+00  1.02864230e+00\n",
      "  7.56033421e+00  1.05080004e+01  4.28677702e+00  3.77254725e+00\n",
      "  1.52598352e+01  2.47741623e+01 -4.01737595e+00  6.34375048e+00\n",
      "  3.95718098e-01  9.02540112e+00  2.21481180e+00  6.54297695e-02\n",
      "  2.30696011e+01  8.21608257e+00  1.30061064e+01  2.64530587e+00\n",
      "  1.57312679e+01 -2.47692823e+00  9.92615128e+00  7.94637489e+00\n",
      "  3.71481061e+00 -6.92033052e-01 -1.18379045e+00  7.78903389e+00\n",
      "  2.78775811e+00  7.07955503e+00  1.84675846e+01 -5.02463531e+00\n",
      " -4.76346500e-02  4.31884241e+00 -6.24495316e+00 -3.14313078e+00\n",
      " -2.82260442e+00 -8.05955982e+00 -4.64440919e-02  3.48003566e-01\n",
      "  2.15001321e+00  4.73539345e-02 -1.07407246e+01  2.63094163e+00\n",
      " -1.90770149e+00  1.02080727e+00  2.29268188e+01 -4.83073473e+00\n",
      "  1.42449055e+01  1.39056358e+01  6.54569864e+00 -2.63785887e+00\n",
      "  9.41811848e+00 -8.99982166e+00 -1.27505553e+00 -3.13818741e+00\n",
      "  5.08062792e+00 -9.10638332e+00  2.66342640e+00 -1.69260609e+00\n",
      "  8.66749191e+00  8.60013962e+00 -3.62940836e+00  1.24179420e+01\n",
      "  7.38617802e+00  6.90261126e+00  2.12250729e+01 -7.38855791e+00\n",
      "  1.50019531e+01  1.00783615e+01 -2.61597538e+00  6.94955301e+00\n",
      "  5.29193115e+00  1.19852412e+00 -8.25963840e-02 -1.41571060e-01\n",
      "  1.26142035e+01  1.16908722e+01 -6.41614628e+00  1.07617464e+01\n",
      "  2.16995883e+00  9.26111889e+00  2.10440903e+01  3.42586517e+00\n",
      "  1.54659998e+00  1.75450301e+00 -4.98607218e-01  2.51918972e-01\n",
      "  3.86193156e+00  6.11658859e+00  3.37024355e+00  1.20082293e+01\n",
      " -1.67988193e+00 -3.55833483e+00  2.40652895e+00 -1.22233639e+01\n",
      "  2.91573315e+01  1.64179020e+01 -1.98055434e+00  1.73744431e+01\n",
      "  1.29223900e+01  3.38148212e+00  1.03283234e+01  1.43613029e+00\n",
      "  8.09479713e-01 -5.16220331e-01 -4.01112366e+00  3.27928329e+00\n",
      " -1.11253297e+00  1.18787754e+00 -1.34457111e-01 -1.17068624e+00\n",
      "  1.46666300e+00 -1.27366662e+00  4.65283823e+00  1.95804729e+01\n",
      "  6.79090023e+00  1.47948179e+01 -6.21381426e+00  2.00594616e+01\n",
      " -1.46394706e+00  3.56864786e+00  5.02395725e+00  1.57931519e+00\n",
      "  7.71319342e+00 -8.38177299e+00  1.87524090e+01  4.85961008e+00\n",
      "  6.50701857e+00 -1.09104514e+00  9.90154171e+00  1.46522551e+01\n",
      "  2.06186886e+01 -3.69149399e+00  1.66049159e+00  1.75880715e-01\n",
      "  5.45744467e+00  4.62422228e+00  3.64559746e+00 -5.39324903e+00\n",
      "  8.16316032e+00  8.61626911e+00  9.76622391e+00  2.39186516e+01\n",
      "  4.50323868e+00  2.30909133e+00  2.26372623e+00  5.53997231e+00\n",
      "  5.30844021e+00 -7.54053473e-01  1.03661404e+01  6.69285107e+00\n",
      "  1.93730698e+01  8.51564121e+00  2.52133822e+00 -1.11417937e+00\n",
      "  3.78896599e+01 -9.91132164e+00  5.43715954e+00 -1.06222553e+01\n",
      " -5.95049429e+00  1.25533895e+01  4.08146232e-01  4.09696913e+00\n",
      "  8.44414902e+00 -6.69172525e-01  2.65310688e+01  6.21584654e+00\n",
      "  8.60525608e+00  2.46968784e+01  4.21821308e+00  1.98301926e+01\n",
      " -8.13714409e+00  2.89931870e+01  3.16617470e+01  8.46109509e-01\n",
      " -1.49349585e+01  1.62629342e+00  2.72160721e+00  6.03662300e+00\n",
      "  8.03090477e+00  1.73565769e+01  7.42013788e+00  1.55999250e+01\n",
      "  2.91003551e+01  1.15083694e+01  3.59116364e+01 -2.84153342e+00\n",
      "  9.77439499e+00  2.47689530e-01  1.68435841e+01  1.22423401e+01\n",
      "  2.60211868e+01 -3.36720896e+00  2.48227425e+01  1.29233932e+01\n",
      "  1.03809881e+01  3.27499580e+01  1.12715273e+01  2.77289810e+01\n",
      "  3.67386150e+00  5.92699575e+00  2.61793709e+01  2.43669152e+00\n",
      "  5.62796450e+00  9.74769878e+00  1.04736319e+01 -5.43788242e+00\n",
      "  1.46760969e+01  4.20778236e+01  8.83166790e+00 -1.00135508e+01\n",
      "  9.78492928e+00 -2.12475634e+00 -9.18228149e+00  3.87627196e+00\n",
      " -4.80240631e+00  1.19165344e+01  4.08508348e+00  6.54979801e+00\n",
      " -2.20895004e+00  3.71804657e+01  1.36040239e+01  2.99375343e+01\n",
      "  2.14610329e+01  2.37453151e+00  9.06734562e+00  1.64410667e+01\n",
      "  5.81082964e+00 -8.33849716e+00  2.06200199e+01  5.88203287e+00\n",
      "  2.38127661e+00  2.28318214e+01  9.44694519e+00  3.12534904e+01\n",
      "  7.24176741e+00  3.05426941e+01  3.86262798e+00 -9.92277813e+00\n",
      "  4.86466742e+00  4.22475386e+00  7.89147997e+00  7.20818233e+00\n",
      " -1.18844786e+01  1.62128544e+01  2.85320168e+01 -2.94247651e+00\n",
      "  3.89542923e+01  9.19735241e+00  2.60779610e+01  3.75105667e+01\n",
      " -5.63932228e+00  3.67657967e+01  4.76004171e+00  1.27210264e+01\n",
      "  2.45018554e+00  3.31595969e+00  1.10125256e+01  2.51527252e+01\n",
      "  1.20089121e+01 -1.02072048e+00 -2.12004375e+01 -6.09388113e+00\n",
      "  4.23999119e+00 -1.33914747e+01 -2.32583981e+01 -7.31274796e+00\n",
      " -2.99041414e+00 -8.00921726e+00 -5.28726530e+00 -2.93640757e+00\n",
      " -2.05938358e+01 -2.88736391e+00 -2.63182163e+01 -4.36003304e+00\n",
      " -7.74478054e+00 -3.67192656e-01 -6.33449793e+00 -2.64667058e+00\n",
      " -7.65556908e+00 -9.10139179e+00  6.61284637e+00 -1.70721483e+00\n",
      "  6.93094873e+00  5.25779152e+00 -7.97249126e+00 -5.03792620e+00\n",
      "  4.51757014e-01 -2.58136940e+01  1.35966563e+00  8.53647470e-01\n",
      " -2.83738937e+01  1.35341036e+00  1.31472998e+01 -7.85080051e+00\n",
      "  7.69370556e+00 -9.48545074e+00 -5.53940439e+00 -5.35889244e+00\n",
      " -5.76639414e+00  3.67175722e+00  1.47037268e+00 -4.39451426e-01\n",
      " -9.91389561e+00 -2.12379456e+01 -9.25391674e+00 -1.32026834e+01\n",
      "  5.91832876e+00 -3.70264101e+00  2.18052626e+00  4.23283130e-01\n",
      " -1.58855639e+01 -6.18477154e+00 -2.33157425e+01 -1.92411304e+00\n",
      "  2.19055057e+00 -7.42677546e+00 -3.67700768e+00  2.77735662e+00\n",
      " -2.52736492e+01 -1.13943577e+01 -1.41892223e+01 -1.25312269e+00\n",
      " -3.55224878e-01  8.95713210e-01  1.26268494e+00 -2.32126927e+00\n",
      " -3.38903189e+00  7.24332571e-01 -2.90632963e+00 -5.11440659e+00\n",
      " -7.59217501e+00 -2.05223160e+01  5.60007763e+00  2.65198994e+00\n",
      " -1.22344315e+00 -4.01117325e+00 -3.50842404e+00 -7.48584080e+00\n",
      " -1.77049179e+01 -3.67367953e-01  5.12512088e-01 -8.48533392e-01\n",
      "  2.16330957e+00 -9.02793312e+00 -2.44500008e+01 -1.68004723e+01\n",
      " -8.83561707e+00 -1.07061586e+01 -7.75817394e+00 -3.63382030e+00\n",
      " -6.11277342e+00 -3.46126628e+00 -5.53912497e+00 -1.84189739e+01\n",
      "  1.99717379e+00  3.41584492e+00  1.42741785e+01 -1.92776814e-01\n",
      "  3.86317730e+00  8.04880381e-01 -2.39158497e+01  3.96334454e-02\n",
      " -1.36617136e+01 -1.83329952e+00  9.19131756e+00  2.99730563e+00\n",
      " -6.33689451e+00  3.10110420e-01 -1.59965458e+01 -1.22750556e+00\n",
      " -7.17432880e+00  1.37689042e+00 -1.45604572e+01 -1.73617382e+01\n",
      " -3.37620091e+00  5.52024174e+00 -2.77731347e+00  8.63148880e+00\n",
      " -7.06228495e+00 -2.04974389e+00 -1.06199322e+01  6.09667301e+00\n",
      " -5.61689854e+00  5.45827913e+00 -2.70430927e+01 -4.79537153e+00\n",
      " -9.75127411e+00 -1.96578522e+01  4.91876459e+00 -7.52963638e+00\n",
      "  4.06728077e+00 -1.33428059e+01 -2.07295074e+01  7.47287041e-03\n",
      " -1.58276713e+00 -1.86281383e-01 -9.32681847e+00 -4.62834024e+00\n",
      " -1.31042833e+01  2.31219387e+00 -2.62049866e+00 -1.87806892e+00\n",
      " -7.77431059e+00  2.47292161e+00 -1.11259139e+00 -1.12571602e+01\n",
      " -5.33643007e+00 -3.97481990e+00 -1.14520674e+01  9.94276905e+00\n",
      " -2.14949684e+01 -5.79552412e+00 -4.90716171e+00 -2.20409557e-01\n",
      "  5.88893032e+00 -4.25231123e+00 -3.26969814e+00 -4.88269520e+00\n",
      "  4.06126022e+00 -1.28708935e+00  3.43172836e+00  2.24701905e+00\n",
      "  4.19185686e+00 -2.71271420e+00  1.19498336e+00  9.82427299e-01\n",
      "  1.04049778e+01  6.19689167e-01 -1.43825922e+01  2.37047648e+00\n",
      " -3.73804116e+00 -2.27477798e+01  1.11036816e+01 -1.92800090e-01\n",
      " -1.19468701e+00 -5.28251743e+00  5.57890654e-01 -1.31700144e+01\n",
      " -2.58361149e+00  3.06087971e+00 -2.58114986e+01  5.26713037e+00\n",
      "  4.00908041e+00  1.15156536e+01 -9.79494810e-01 -7.68954802e+00\n",
      " -1.31712890e+00 -9.88996696e+00 -4.32172394e+00 -5.07552910e+00\n",
      " -1.53589802e+01 -7.56978226e+00  1.53182268e+00  5.86051655e+00\n",
      " -6.27646208e+00  5.59529923e-02 -5.93786907e+00 -3.24243307e+00\n",
      " -1.58411865e+01  3.52516699e+00 -7.66839552e+00 -3.62058210e+00\n",
      " -2.23241596e+01 -1.22692480e+01 -1.04878724e+00  7.70531559e+00\n",
      "  6.87899446e+00 -6.02002716e+00 -1.96320839e+01 -2.88291860e+00\n",
      " -1.14853153e+01 -3.05591927e+01 -3.38305283e+01 -2.78377018e+01\n",
      " -4.87000656e+00 -1.97211494e+01 -2.22271614e+01  3.77927691e-01\n",
      " -8.82269573e+00 -5.78817797e+00 -2.25309873e+00  8.29428482e+00\n",
      " -2.78353125e-01 -5.85943317e+00  7.28780925e-01 -3.51002955e+00\n",
      " -6.99524224e-01 -3.81549110e+01 -3.12215557e+01 -2.67345848e+01\n",
      " -3.91784048e+00 -2.25365925e+01 -7.65329981e+00 -4.67176676e+00\n",
      " -6.77727079e+00 -4.47197056e+00  7.54330993e-01 -1.89134254e+01\n",
      " -4.48115959e+01 -2.02452064e+00 -2.12445946e+01 -1.89352589e+01\n",
      " -1.28327551e+01 -1.13238363e+01 -3.18466969e+01  5.66259801e-01\n",
      " -3.12994728e+01 -8.72119427e+00 -2.31211090e+01 -2.85224018e+01\n",
      "  8.39470446e-01 -5.63258219e+00 -2.19667892e+01  5.78009129e+00\n",
      " -9.21893787e+00  2.66804266e+00 -3.06980667e+01 -1.60730705e+01\n",
      " -1.02752571e+01 -1.70589199e+01 -7.41989231e+00 -3.90359902e+00\n",
      "  4.34927893e+00 -5.66370916e+00  8.07702720e-01 -2.40986395e+00\n",
      " -1.19371295e+00 -2.26563473e+01 -1.01545420e+01  2.33322784e-01\n",
      " -1.87689037e+01 -2.36839843e+00 -1.21915865e+01  3.34288049e+00\n",
      " -3.46977310e+01  8.79557580e-02  8.11554337e+00  6.51236582e+00\n",
      " -2.90426350e+01  8.53630185e-01 -2.86898822e-01  7.87379384e-01\n",
      "  6.34461641e+00 -2.41799521e+00 -1.43376932e+01 -2.53963928e+01\n",
      " -9.73748684e-01 -1.02338858e+01  1.07241030e+01  1.38649702e+00\n",
      "  4.67557859e+00 -1.13143206e+01 -2.47896233e+01 -7.34649754e+00\n",
      " -3.65294952e+01 -3.05261745e+01  4.68062067e+00 -1.35770597e+01\n",
      " -2.28403072e+01 -4.42225981e+00 -6.48484564e+00  1.57111752e+00\n",
      "  1.23229008e+01  4.10373402e+00 -2.90769935e+00 -2.84980431e+01\n",
      " -1.48509407e+01 -8.64519501e+00 -4.08009815e+00  8.61989200e-01\n",
      "  9.04540920e+00  3.43135881e+00 -8.58590007e-01 -2.32456264e+01\n",
      "  6.51050854e+00 -1.93521461e+01 -1.18058176e+01 -3.37999988e+00\n",
      " -7.77774990e-01  1.33636017e+01 -3.04370327e+01 -9.31516075e+00\n",
      " -2.57572765e+01 -7.96009636e+00]' has dtype incompatible with int64, please explicitly cast to a compatible dtype first.\n",
      "  preds[val_index] = model.predict(dval_i)\n"
     ]
    },
    {
     "name": "stderr",
     "output_type": "stream",
     "text": [
      "\r",
      " 90%|███████████████████████████████████████████████████████████████████████████████████████████████████████████████████████████████████████████████████████████████████████████████████████████████████████▊                      | 9/10 [04:30<00:27, 27.45s/it]"
     ]
    },
    {
     "name": "stderr",
     "output_type": "stream",
     "text": [
      "C:\\Users\\81809\\AppData\\Local\\Temp\\ipykernel_22492\\3386215446.py:18: FutureWarning: Setting an item of incompatible dtype is deprecated and will raise an error in a future version of pandas. Value '[ 3.50485611e+00 -6.12436676e+00  2.09853706e+01  1.69238448e+00\n",
      "  5.45333099e+00 -5.59035492e+00  3.44760084e+00  3.24054742e+00\n",
      " -8.14010143e+00  4.22951400e-01 -3.71758366e+00  1.77116737e+01\n",
      "  2.81453724e+01 -1.73469794e+00  2.07344818e+01  1.73388588e+00\n",
      "  7.88948870e+00  1.87936544e+00  2.03182125e+00  2.91699314e+00\n",
      " -1.56195140e+00  1.87054265e+00  3.49497378e-01  5.56632614e+00\n",
      "  5.29418373e+00  9.04798508e+00 -1.82067797e-01  1.06203060e+01\n",
      "  3.09470010e+00  2.17343044e+01 -3.09294653e+00 -3.80726576e+00\n",
      "  5.17725468e+00  9.45695162e-01  3.10946608e+00 -1.56035268e+00\n",
      " -4.61960793e+00  8.03699207e+00  1.40946221e+00  1.92766011e-01\n",
      "  1.78997078e+01 -5.37216377e+00  3.03254128e+00 -7.55068016e+00\n",
      " -9.82140183e-01 -1.11666374e+01  1.63443146e+01  1.46573782e+01\n",
      "  5.17700863e+00  5.06446302e-01 -2.14952874e+00  5.66463947e+00\n",
      " -4.02837181e+00  4.35295439e+00  1.27065146e+00 -1.55024779e+00\n",
      "  7.65963137e-01 -4.55965519e+00  1.12364340e+01  2.43639984e+01\n",
      "  1.55761757e+01  5.30607605e+00  5.50233841e+00  1.64202175e+01\n",
      " -2.62759638e+00  4.14625072e+00 -4.24228382e+00 -1.77673066e+00\n",
      "  3.57178998e+00  5.50253105e+00 -2.43982926e-01  1.85805588e+01\n",
      "  7.98763514e+00  5.04691029e+00 -2.10048795e+00  4.50169659e+00\n",
      " -1.53768289e+00  4.84827280e+00  2.35336628e+01  2.54704094e+00\n",
      " -3.84901643e+00 -3.62870669e+00  1.51994765e+00  4.00591612e+00\n",
      "  3.40656877e+00  1.12900531e+00  1.31515713e+01  2.55530071e+01\n",
      "  7.65986490e+00  1.50241241e+01 -1.19500980e+01  2.07320666e+00\n",
      "  2.22339153e+01  4.60431862e+00  4.07622242e+00  1.17910204e+01\n",
      " -1.21973884e+00  5.80558634e+00  5.37234831e+00  1.62278891e+00\n",
      "  1.55727577e+01  9.73996258e+00  1.51572857e+01  2.85001659e+00\n",
      "  1.19993820e+01 -1.12716980e+01 -6.27183819e+00  9.12679386e+00\n",
      "  8.46625423e+00  1.56564534e+00  3.44576383e+00 -2.97812891e+00\n",
      "  5.01373768e+00  7.78367445e-02  1.95679226e+01  4.81754732e+00\n",
      "  2.04939766e+01  4.54271936e+00  2.49090719e+00 -1.50582466e+01\n",
      "  6.11203623e+00 -2.52331448e+00 -1.42884088e+00 -5.65543222e+00\n",
      "  3.72318554e+00  2.61592770e+01  3.91387916e+00  4.98296356e+00\n",
      " -5.56656694e+00  1.29865446e+01  3.12507200e+00 -6.73616588e-01\n",
      " -6.56641901e-01  3.80592513e+00  9.50172615e+00  2.45101237e+00\n",
      "  6.97460890e+00 -2.03500581e+00  1.44378300e+01  3.28992635e-01\n",
      "  1.83593512e+00 -7.33142674e-01  2.67685437e+00 -3.17513227e+00\n",
      " -6.04842901e+00  8.71522963e-01  9.01588738e-01  8.52068186e-01\n",
      "  2.25319748e+01  1.47191095e+01  2.35036278e+00  2.51520777e+00\n",
      " -9.17299843e+00  2.10947609e+01  3.13656545e+00  3.60041809e+00\n",
      " -5.35420752e+00  1.85196364e+00  2.57513428e+00  5.64344311e+00\n",
      " -8.69259930e+00  1.40871925e+01 -5.46119928e+00  7.97051859e+00\n",
      "  3.00048847e+01 -3.59798741e+00  4.37056971e+00  3.76644611e+00\n",
      "  1.03503466e+00 -5.89629173e+00  4.15916967e+00  6.43454266e+00\n",
      " -3.80533338e+00 -4.68565416e+00  5.36336946e+00  2.00884380e+01\n",
      " -4.83520269e+00 -9.93903339e-01  2.01363220e+01  3.79477429e+00\n",
      " -3.77519894e+00  1.09848452e+01  3.23788428e+00  6.43506050e+00\n",
      "  5.27424097e+00 -2.30030045e-01  3.09516644e+00 -3.30364323e+00\n",
      "  7.50768328e+00 -7.55900669e+00 -1.03726625e+00  5.53239870e+00\n",
      " -5.40354788e-01  4.03219414e+00 -6.08392954e-02  1.01410704e+01\n",
      "  1.93641434e+01  3.46204424e+00  2.36051311e+01 -2.05514956e+00\n",
      "  8.06374967e-01 -5.90418339e-01  4.57385206e+00 -7.49710143e-01\n",
      "  3.53175974e+00  1.23966255e+01  6.12941599e+00  1.07813463e+01\n",
      "  2.13954430e+01  3.54970604e-01  2.93760514e+00 -3.27680081e-01\n",
      "  1.63922578e-01  1.59990911e+01  4.45754910e+00  4.66129398e+00\n",
      "  5.37452745e+00  4.41345501e+00 -1.03090119e+00  3.51160645e+00\n",
      "  3.58352065e+00  1.98548317e+00  2.07503223e+01  1.07179890e+01\n",
      "  2.25123715e+00  1.42924318e+01  4.09835672e+00  2.57519703e+01\n",
      " -1.03146350e+00  2.94744283e-01  6.87948513e+00  1.04172077e+01\n",
      " -1.14743071e+01 -6.33344173e-01  1.21720905e+01  6.48848724e+00\n",
      "  3.31603737e+01  2.80540142e+01  5.82614470e+00  1.82239933e+01\n",
      "  2.58482132e+01  1.33655710e+01  6.89341116e+00 -2.46017957e+00\n",
      " -8.58258438e+00 -8.87246895e+00 -7.52312946e+00  2.64762745e+01\n",
      " -2.00874257e+00  5.00472116e+00  4.11312981e+01  8.05025196e+00\n",
      "  2.45100760e+00  1.95968323e+01  1.29258490e+01 -3.06218922e-01\n",
      " -3.04098058e+00 -1.43766060e+01  1.44684343e+01  1.61441746e+01\n",
      "  1.28105536e+01  6.65787601e+00  1.01420956e+01  3.48927040e+01\n",
      " -8.07190132e+00  2.22886314e+01 -2.49903526e+01  7.53645277e+00\n",
      "  8.85649109e+00  2.99082718e+01  1.87784386e+01  2.78567982e+01\n",
      "  1.21814022e+01  2.52965546e+01  4.90468264e+00  9.23531342e+00\n",
      "  1.38082428e+01  3.34454956e+01  3.47520752e+01  3.99194628e-01\n",
      "  9.86111832e+00  7.71834326e+00 -1.27913260e+00  1.55257931e+01\n",
      "  1.73861256e+01  7.98998785e+00  3.46088486e+01  7.36133099e+00\n",
      " -4.87529898e+00 -6.52563453e-01  1.49750662e+00 -3.86352777e+00\n",
      "  9.60700893e+00  1.67984295e+01  6.74495411e+00 -8.69991493e+00\n",
      "  2.07263374e+01  7.69773531e+00  5.96939850e+00  2.45686340e+01\n",
      "  1.09111605e+01  3.24710846e+01  3.04547424e+01 -2.28161827e-01\n",
      "  3.80556717e+01 -2.09246278e+00  1.18567123e+01  1.67758446e+01\n",
      "  2.61940346e+01  3.13158798e+01 -2.35684128e+01  3.87315254e+01\n",
      "  6.85137749e+00  3.60809231e+00  2.36201172e+01 -7.55387425e-01\n",
      "  1.86505661e+01  1.60127621e+01  8.52253020e-01  3.04071951e+00\n",
      "  1.49163408e+01 -1.79022827e+01  1.47550058e+01  5.79733515e+00\n",
      " -1.62229500e+01 -4.57031727e+00 -4.31264067e+00 -1.97110081e+01\n",
      "  2.40346074e+00 -2.25894489e+01 -1.45947027e+00 -7.01565742e+00\n",
      " -6.96322584e+00 -7.00178051e+00 -7.15395641e+00 -4.52054548e+00\n",
      "  1.22078724e-01 -1.02947760e+00 -2.16508350e+01 -2.47421169e+01\n",
      " -4.02146339e+00  1.59853008e-02 -3.89589930e+00 -5.34596682e+00\n",
      " -4.59325790e+00  1.05095491e+01 -7.05336714e+00 -4.11441386e-01\n",
      "  2.08851552e+00 -7.48891449e+00 -1.39160843e+01  4.90382957e+00\n",
      " -1.24443865e+01 -1.44481640e+01 -2.47834310e-01 -7.83636284e+00\n",
      " -1.81543274e+01  6.06177282e+00  4.65582943e+00 -4.16916180e+00\n",
      " -3.26376081e+00  5.05023098e+00 -6.75337505e+00 -1.03141642e+01\n",
      " -4.48658514e+00 -7.71114826e+00 -8.48847628e-01 -1.06534815e+01\n",
      "  6.95232487e+00 -2.05618382e+01  2.05390835e+00 -6.21460152e+00\n",
      " -1.71237888e+01 -2.44741631e+01 -8.82797241e+00 -7.39180422e+00\n",
      " -4.49091959e+00  2.44127059e+00  2.08263230e+00 -2.66612549e+01\n",
      "  2.79538345e+00 -2.61156082e+01  1.46355355e+00 -2.50904102e+01\n",
      " -1.52807677e+00 -6.07628918e+00 -1.11187029e+01 -7.27771664e+00\n",
      " -7.84689522e+00 -1.58497572e+00 -3.35539031e+00 -7.20378971e+00\n",
      " -4.83058500e+00 -2.60662627e+00 -7.37716913e+00 -7.39986801e+00\n",
      " -1.30094442e+01 -1.59335690e+01  4.06207752e+00 -4.50102711e+00\n",
      " -2.22170830e+00 -4.40890312e+00 -5.20898104e+00 -5.00408292e-01\n",
      "  5.97820878e-01 -1.96924057e+01 -5.43387592e-01 -1.14097204e+01\n",
      " -7.59825182e+00  1.39393640e+00 -3.91442943e+00 -1.03079729e+01\n",
      "  4.29116106e+00  3.60967088e+00 -7.54857922e+00 -1.44508517e+00\n",
      " -2.59919529e+01  3.27644038e+00 -2.02690277e+01  2.94355750e+00\n",
      " -2.84199448e+01 -9.19899940e+00 -1.62672939e+01 -5.52728653e+00\n",
      " -1.83287716e+01 -2.31943440e+00  1.91974556e+00 -5.00653791e+00\n",
      "  3.35448503e+00 -1.81869102e+00 -1.90031886e+00 -7.94724822e-01\n",
      " -1.13625860e+00 -1.43567121e+00  6.61325979e+00 -4.68537283e+00\n",
      " -1.00489941e+01 -6.42269611e+00  6.30894232e+00  2.60651398e+00\n",
      " -6.18054390e+00 -6.52926159e+00 -4.63263893e+00  1.93993683e+01\n",
      "  2.06813002e+00 -1.03660882e+00 -1.31960640e+01 -4.67539263e+00\n",
      "  4.16688538e+00 -3.85182261e+00 -9.89762115e+00 -6.16880608e+00\n",
      "  3.44654560e+00 -2.26002331e+01 -7.13417435e+00 -1.20722218e+01\n",
      " -5.43361998e+00 -3.71574378e+00 -2.32126369e+01 -5.07008657e-02\n",
      " -1.00994682e+01 -8.71582699e+00 -7.18154049e+00  8.02421510e-01\n",
      " -1.21293087e+01 -4.30285186e-02 -6.92484856e+00 -2.89019942e+00\n",
      "  2.08929515e+00  3.10036778e+00  5.74199820e+00 -3.56185746e+00\n",
      " -6.87111330e+00 -1.73311291e+01 -1.18399501e+00 -2.06589174e+00\n",
      " -1.42967951e+00  7.42643929e+00  1.78097892e+00  5.92066097e+00\n",
      "  1.64143384e+00 -2.56121421e+00  1.09595642e+01 -9.33792710e-01\n",
      " -6.88472271e-01 -4.53206778e+00 -4.32185799e-01 -2.87379909e+00\n",
      " -3.99261808e+00 -4.47653198e+00 -3.22777033e+00  2.39851192e-01\n",
      " -9.28605080e+00 -1.85485411e+00 -7.26908207e+00  2.45478988e+00\n",
      " -4.53921843e+00  1.30577934e+00 -2.39064083e+01 -1.21345127e+00\n",
      "  3.13381481e+00 -5.69278097e+00 -8.84373951e+00 -3.16889524e+00\n",
      " -5.14794827e+00 -2.70815611e-01 -4.98495483e+00  1.25934708e+00\n",
      " -6.29755974e+00  2.46944809e+00  4.26430464e+00 -1.95641956e+01\n",
      " -9.69932270e+00 -2.72083492e+01  1.59546107e-01 -5.88863039e+00\n",
      " -3.30368996e+00 -2.35469227e+01 -8.44688892e+00 -8.53965950e+00\n",
      " -1.90751839e+01  6.78053999e+00  8.76555824e+00  6.52213842e-02\n",
      "  4.32398766e-01  6.33696222e+00 -1.19969902e+01  2.77225518e+00\n",
      " -1.60503244e+00 -1.02072878e+01 -1.06646748e+01 -9.21371818e-01\n",
      " -2.32879124e+01 -2.01569595e+01 -1.65137920e+01 -4.93854618e+00\n",
      " -4.17262411e+00  5.44755507e+00 -1.15362482e+01 -1.89281845e+01\n",
      " -3.11692371e+01 -2.58367443e+01 -7.46467924e+00 -4.13961649e+00\n",
      "  4.73600578e+00 -7.45410728e+00 -2.13077583e+01  7.63551235e+00\n",
      " -2.91647720e+01  7.17757523e-01 -2.62159843e+01 -4.02791452e+00\n",
      " -3.93859558e+01 -1.17359743e+01  5.63564110e+00 -4.04152489e+01\n",
      "  2.96519899e+00  3.63400906e-01 -3.67262483e+00 -2.33735199e+01\n",
      " -3.20302773e+00 -2.65855579e+01  7.66750908e+00 -2.92896023e+01\n",
      " -4.24984884e+00 -2.39718509e+00 -3.62723961e+01 -2.53297863e+01\n",
      " -4.97363091e+00 -4.51594442e-01 -8.49506664e+00 -6.84205198e+00\n",
      " -2.13930798e+01  5.23826838e+00 -6.86192322e+00  2.36843109e+00\n",
      " -1.44926252e+01  1.82579868e-02 -1.98406839e+00  2.36632061e+00\n",
      "  1.73472440e+00 -2.80654860e+00 -1.55789652e+01  5.50065517e-01\n",
      " -2.66874218e+00 -1.18682308e+01 -1.59994879e+01 -1.06261072e+01\n",
      "  6.60970592e+00 -7.62114573e+00 -2.66607857e+01  8.13266468e+00\n",
      " -6.93484783e+00 -1.19812641e+01  1.97804546e+00 -1.12440901e+01\n",
      " -1.41945572e+01 -3.75060768e+01 -8.35329151e+00 -2.29764233e+01\n",
      " -1.38750353e+01 -1.93758965e+00 -2.55723429e+00  4.12132120e+00\n",
      " -2.90834465e+01 -1.24546080e+01 -6.78912687e+00 -2.62921143e+01\n",
      " -5.14986916e+01  2.68542218e+00  3.57866228e-01 -2.01354694e+01\n",
      " -1.86193621e+00 -9.32181263e+00 -3.50202408e+01 -3.57770777e+00\n",
      "  1.75208282e+01  6.29646301e+00 -1.22441187e+01 -9.97808456e+00\n",
      " -2.97239971e+01 -2.73447590e+01  5.91056967e+00 -1.06707687e+01\n",
      "  1.34837222e+00  7.64547396e+00 -1.97143536e+01 -6.53592396e+00\n",
      "  1.52408767e+00 -7.98092365e+00 -2.58885345e+01 -2.94640083e+01\n",
      " -9.26271629e+00  6.70308924e+00  3.85938120e+00 -9.34733295e+00\n",
      "  1.67428744e+00 -9.10775948e+00 -2.26681480e+01 -1.51569185e+01\n",
      " -1.23721590e+01 -1.37356722e+00 -2.58676815e+01 -2.64862289e+01\n",
      " -2.06871128e+01 -1.03819764e+00]' has dtype incompatible with int64, please explicitly cast to a compatible dtype first.\n",
      "  preds[val_index] = model.predict(dval_i)\n"
     ]
    },
    {
     "name": "stderr",
     "output_type": "stream",
     "text": [
      "\r",
      "100%|█████████████████████████████████████████████████████████████████████████████████████████████████████████████████████████████████████████████████████████████████████████████████████████████████████████████████████████████| 10/10 [04:59<00:00, 27.97s/it]"
     ]
    },
    {
     "name": "stderr",
     "output_type": "stream",
     "text": [
      "\r",
      "100%|█████████████████████████████████████████████████████████████████████████████████████████████████████████████████████████████████████████████████████████████████████████████████████████████████████████████████████████████| 10/10 [04:59<00:00, 29.94s/it]"
     ]
    },
    {
     "name": "stdout",
     "output_type": "stream",
     "text": [
      "OOF predictions complete\n"
     ]
    },
    {
     "name": "stderr",
     "output_type": "stream",
     "text": [
      "\n"
     ]
    }
   ],
   "source": [
    "# OOF予測\n",
    "oof_preds = []\n",
    "for i in tqdm(range(repeat_cv), leave=True, dynamic_ncols=True):\n",
    "    # 初期はターゲットの値で初期化（後で上書き）\n",
    "    preds = y.copy()\n",
    "    # 各 repeater 毎に独自の KFold を用いる（random_state = i）\n",
    "    kfold = KFold(n_splits=folds_splits, shuffle=True, random_state=i)    \n",
    "    for train_index, val_index in kfold.split(X, y):\n",
    "        dtrain_i = xgb.DMatrix(X.iloc[train_index], label=y.iloc[train_index])\n",
    "        dval_i   = xgb.DMatrix(X.iloc[val_index], label=y.iloc[val_index])\n",
    "\n",
    "        model = xgb.train(\n",
    "            params=param,\n",
    "            dtrain=dtrain_i,\n",
    "            num_boost_round=iteration_counts[i],\n",
    "            verbose_eval=50\n",
    "        )\n",
    "        preds[val_index] = model.predict(dval_i)\n",
    "    # 予測値を -30 ～ 30 にクリップ\n",
    "    oof_preds.append(np.clip(preds, -30, 30))\n",
    "\n",
    "print(\"OOF predictions complete\")"
   ]
  },
  {
   "cell_type": "code",
   "execution_count": 24,
   "id": "31dfef0a",
   "metadata": {
    "execution": {
     "iopub.execute_input": "2025-03-18T16:18:53.023994Z",
     "iopub.status.busy": "2025-03-18T16:18:53.022996Z",
     "iopub.status.idle": "2025-03-18T16:18:53.131352Z",
     "shell.execute_reply": "2025-03-18T16:18:53.131352Z"
    },
    "papermill": {
     "duration": 0.136459,
     "end_time": "2025-03-18T16:18:53.131352",
     "exception": false,
     "start_time": "2025-03-18T16:18:52.994893",
     "status": "completed"
    },
    "tags": []
   },
   "outputs": [
    {
     "data": {
      "text/plain": [
       "<Axes: >"
      ]
     },
     "execution_count": 24,
     "metadata": {},
     "output_type": "execute_result"
    },
    {
     "data": {
      "image/png": "[encoded data removed]",
      "text/plain": [
       "<Figure size 640x480 with 1 Axes>"
      ]
     },
     "metadata": {},
     "output_type": "display_data"
    }
   ],
   "source": [
    "oof_preds[0].hist()"
   ]
  },
  {
   "cell_type": "code",
   "execution_count": 25,
   "id": "8d8c2582",
   "metadata": {
    "execution": {
     "iopub.execute_input": "2025-03-18T16:18:53.163516Z",
     "iopub.status.busy": "2025-03-18T16:18:53.163516Z",
     "iopub.status.idle": "2025-03-18T16:18:53.185577Z",
     "shell.execute_reply": "2025-03-18T16:18:53.185577Z"
    },
    "papermill": {
     "duration": 0.038134,
     "end_time": "2025-03-18T16:18:53.185577",
     "exception": false,
     "start_time": "2025-03-18T16:18:53.147443",
     "status": "completed"
    },
    "tags": []
   },
   "outputs": [],
   "source": [
    "### simple spline, seed(1, 16)~(4, 13)は強制的にfiltaring,  \n",
    "### seed値に対応して予測スコアも同じ大小関係なら1or0に変換の3モデル\n",
    "def cal_logloss(pred_vals, y, i):\n",
    "    y_binary = np.where(y > 0, 1, 0)\n",
    "    loss = log_loss(y_binary, pred_vals)\n",
    "    print(f\"logloss of cvsplit {i}: {loss:.4f}\")\n",
    "\n",
    "\n",
    "    results.append(f\"Normal Spline - logloss of cvsplit {i}: {loss:.4f}\")\n",
    "    return loss\n",
    "\n",
    "#simple spline\n",
    "def make_normal_spline(df, y, repeat_cv):\n",
    "    spline_model1 = []\n",
    "    logloss_normal = []\n",
    "    \n",
    "    for i in range(repeat_cv):\n",
    "        dat = list(zip(df[i], np.where(y>0, 1, 0)))\n",
    "        dat = sorted(dat, key=lambda x:x[0])\n",
    "        datdict = {}\n",
    "        for k in range(len(dat)):\n",
    "            datdict[dat[k][0]] = dat[k][1]\n",
    "        \n",
    "        spline_model1.append(UnivariateSpline(list(datdict.keys()), list(datdict.values())))\n",
    "        spline_fit = spline_model1[i](df[i])\n",
    "        \n",
    "        loss = cal_logloss(spline_fit, y, i)    \n",
    "        logloss_normal.append(loss)\n",
    "\n",
    "    plot_df = pd.DataFrame({\n",
    "        \"pred\": df[0],\n",
    "        \"label\": np.where(y>0,1,0),\n",
    "        \"spline\": spline_model1[0](df[0])\n",
    "    })\n",
    "    plot_df[\"pred_int\"] = plot_df[\"pred\"].astype(int)\n",
    "    plot_df = plot_df.groupby('pred_int')[['spline','label']].mean().reset_index()\n",
    "    \n",
    "    plt.figure(figsize=(8, 5))\n",
    "    plt.plot(plot_df.pred_int, plot_df.label, marker='o', linestyle='-', label=\"True Label\")\n",
    "    plt.plot(plot_df.pred_int, plot_df.spline, marker='x', linestyle='--', label=\"Spline Approximation\")\n",
    "    plt.xlabel(\"Predicted Value (Integer)\")\n",
    "    plt.ylabel(\"Mean Value\")\n",
    "    plt.title(\"Normal Spline Fit Comparison\")\n",
    "    plt.legend()\n",
    "    plt.grid(True)\n",
    "    plt.savefig(os.path.join(OUTPUT_PATH, f\"normal_spline_fit_{PREDICT_YEAR}.png\"))\n",
    "    plt.close()\n",
    "    \n",
    "    \n",
    "    # 例として平均loglossもresultsに記録\n",
    "    avg_logloss = np.mean(logloss_normal) \n",
    "    results.append(f\"Average Normal Spline logloss: {avg_logloss:.4f}\" if avg_logloss is not None else \"No logloss computed\")\n",
    "    \n",
    "    return spline_model1\n",
    "            \n",
    "            \n",
    "#seed(1, 16)~(4, 13)は強制的にseed通りの結果にフィルタリング\n",
    "def make_seed1to4_chenge(df, y, repeat_cv):\n",
    "    spline_model2 = []\n",
    "    spline_fits = []\n",
    "    for i in range(repeat_cv):\n",
    "        dat = list(zip(df[i], np.where(y>0, 1, 0)))\n",
    "        dat = sorted(dat, key=lambda x:x[0])\n",
    "        datdict = {}\n",
    "        for k in range(len(dat)):\n",
    "            datdict[dat[k][0]] = dat[k][1]\n",
    "        \n",
    "        spline_model2.append(UnivariateSpline(list(datdict.keys()), list(datdict.values())))\n",
    "        spline_fit = spline_model2[i](df[i]) \n",
    "        \n",
    "        #add\n",
    "        spline_fit[(X.T1_seed==1) & (X.T2_seed==16)] = 1.0\n",
    "        spline_fit[(X.T1_seed==2) & (X.T2_seed==15)] = 0.9\n",
    "        spline_fit[(X.T1_seed==3) & (X.T2_seed==14)] = 0.8\n",
    "        spline_fit[(X.T1_seed==4) & (X.T2_seed==13)] = 0.7\n",
    "        spline_fit[(X.T1_seed==16) & (X.T2_seed==1)] = 0.0\n",
    "        spline_fit[(X.T1_seed==15) & (X.T2_seed==2)] = 0.1\n",
    "        spline_fit[(X.T1_seed==14) & (X.T2_seed==3)] = 0.2\n",
    "        spline_fit[(X.T1_seed==13) & (X.T2_seed==4)] = 0.3\n",
    "\n",
    "    \n",
    "        cal_logloss(spline_fit, y, i)   \n",
    "                \n",
    "        spline_fits.append(spline_fit)\n",
    "        cal_logloss(spline_fit, y, i)   \n",
    "                \n",
    "    \n",
    "    plot_df = pd.DataFrame({\n",
    "        \"pred\": df[0],\n",
    "        \"label\": np.where(y > 0, 1, 0),\n",
    "        \"spline\": spline_fits[0]  # 変更後の値を利用\n",
    "    })\n",
    "    plot_df[\"pred_int\"] = plot_df[\"pred\"].astype(int)\n",
    "    plot_df = plot_df.groupby(\"pred_int\")[[\"spline\", \"label\"]].mean().reset_index()\n",
    "\n",
    "    plt.figure()\n",
    "    plt.plot(plot_df.pred_int, plot_df.label, label=\"label\")\n",
    "    plt.plot(plot_df.pred_int, plot_df.spline, label=\"spline\")\n",
    "    plt.legend()\n",
    "    plt.show()\n",
    "    \n",
    "    return spline_model2\n",
    "    \n",
    "    \n",
    "#完全に値変換するのではなくてseed値に対応して予測スコアも同じ大小関係なら1or0に変換\n",
    "def make_seed1to4_base_on_score(df, y, repeat_cv):\n",
    "    spline_model3 = []\n",
    "    spline_fits = []\n",
    "\n",
    "    for i in range(repeat_cv):\n",
    "        dat = list(zip(df[i], np.where(y>0, 1, 0)))\n",
    "        dat = sorted(dat, key=lambda x:x[0])\n",
    "        datdict = {}\n",
    "        for k in range(len(dat)):\n",
    "            datdict[dat[k][0]] = dat[k][1]\n",
    "        \n",
    "        spline_model3.append(UnivariateSpline(list(datdict.keys()), list(datdict.values())))\n",
    "        spline_fit = spline_model3[i](df[i]) \n",
    "        \n",
    "        #add\n",
    "        spline_fit[(X.T1_seed==1) & (X.T2_seed==16) & (X.T1_Score > X.T2_Score)] = 1.0\n",
    "        spline_fit[(X.T1_seed==2) & (X.T2_seed==15) & (X.T1_Score > X.T2_Score)] = 1.0\n",
    "        spline_fit[(X.T1_seed==3) & (X.T2_seed==14) & (X.T1_Score > X.T2_Score)] = 1.0\n",
    "        spline_fit[(X.T1_seed==4) & (X.T2_seed==13) & (X.T1_Score > X.T2_Score)] = 1.0\n",
    "        spline_fit[(X.T1_seed==16) & (X.T2_seed==1) & (X.T1_Score < X.T2_Score)] = 0.0\n",
    "        spline_fit[(X.T1_seed==15) & (X.T2_seed==2) & (X.T1_Score < X.T2_Score)] = 0.0\n",
    "        spline_fit[(X.T1_seed==14) & (X.T2_seed==3) & (X.T1_Score < X.T2_Score)] = 0.0\n",
    "        spline_fit[(X.T1_seed==13) & (X.T2_seed==4) & (X.T1_Score < X.T2_Score)] = 0.0\n",
    "\n",
    "        spline_fits.append(spline_fit)\n",
    "        cal_logloss(spline_fit, y, i)   \n",
    "    \n",
    "    \n",
    "    plot_df = pd.DataFrame({\n",
    "        \"pred\": df[0],\n",
    "        \"label\": np.where(y > 0, 1, 0),\n",
    "        \"spline\": spline_fits[0]  # 変更後の値を利用\n",
    "    })\n",
    "    plot_df[\"pred_int\"] = plot_df[\"pred\"].astype(int)\n",
    "    plot_df = plot_df.groupby(\"pred_int\")[[\"spline\", \"label\"]].mean().reset_index()\n",
    "\n",
    "    plt.figure()\n",
    "    plt.plot(plot_df.pred_int, plot_df.label, label=\"label\")\n",
    "    plt.plot(plot_df.pred_int, plot_df.spline, label=\"spline\")\n",
    "    plt.legend()\n",
    "    plt.show()\n",
    "    return spline_model3\n",
    "\n",
    "\n",
    "\n",
    "# Platt Scalingを用いた補正曲線生成の関数 (ロジスティック回帰)\n",
    "def make_platt_scaling(df, y, repeat_cv):\n",
    "    platt_models = []\n",
    "    logloss_platt = []\n",
    "    \n",
    "    for i in range(repeat_cv):\n",
    "        X_train = np.array(df[i]).reshape(-1, 1)\n",
    "        y_binary = np.where(y > 0, 1, 0)\n",
    "        \n",
    "        model = LogisticRegression(random_state=42, solver='lbfgs')\n",
    "        model.fit(X_train, y_binary)\n",
    "        platt_models.append(model)\n",
    "        \n",
    "\n",
    "        platt_fit = model.predict_proba(X_train)[:, 1]\n",
    "        loss = cal_logloss(platt_fit, y, i)\n",
    "        logloss_platt.append(loss)\n",
    "    \n",
    "    \n",
    "    ###\n",
    "    plot_df = pd.DataFrame({\n",
    "        \"pred\": df[0],\n",
    "        \"label\": np.where(y > 0, 1, 0),\n",
    "        \"platt\": platt_models[0].predict_proba(np.array(df[0]).reshape(-1, 1))[:, 1]\n",
    "    })\n",
    "    plot_df[\"pred_int\"] = plot_df[\"pred\"].astype(int)\n",
    "    plot_df = plot_df.groupby(\"pred_int\")[[\"platt\", \"label\"]].mean().reset_index()\n",
    "    \n",
    "    plt.figure(figsize=(8, 5))\n",
    "    plt.plot(plot_df.pred_int, plot_df.label, marker='o', linestyle='-', label=\"True Label\")\n",
    "    plt.plot(plot_df.pred_int, plot_df.platt, marker='x', linestyle='--', label=\"Platt Scaling\")\n",
    "    plt.xlabel(\"Predicted Value (Integer)\")\n",
    "    plt.ylabel(\"Mean Value\")\n",
    "    plt.title(\"Platt Scaling Calibration Curve\")\n",
    "    plt.legend()\n",
    "    plt.grid(True)\n",
    "    plt.savefig(os.path.join(OUTPUT_PATH, f\"platt_scaling_fit_{PREDICT_YEAR}.png\"))\n",
    "    plt.close()\n",
    "    \n",
    "    avg_logloss = np.mean(logloss_platt)\n",
    "    results.append(f\"Average Platt Scaling logloss: {avg_logloss:.4f}\" if avg_logloss is not None else \"No logloss computed\")\n",
    "    \n",
    "    return platt_models\n",
    "\n",
    "def make_isotonic_regression(df, y, repeat_cv):\n",
    "    \"\"\" Isotonic Regression を用いた補正曲線生成 \"\"\"\n",
    "    isotonic_models = []\n",
    "    logloss_isotonic = []\n",
    "    \n",
    "    for i in range(repeat_cv):\n",
    "        X_train = np.array(df[i]).reshape(-1, 1)\n",
    "        y_binary = np.where(y > 0, 1, 0)\n",
    "        \n",
    "        model = IsotonicRegression(out_of_bounds=\"clip\")\n",
    "        model.fit(X_train.ravel(), y_binary)\n",
    "        isotonic_models.append(model)\n",
    "        \n",
    "        isotonic_fit = model.predict(X_train.ravel())\n",
    "        loss = cal_logloss(isotonic_fit, y, i)\n",
    "        logloss_isotonic.append(loss)\n",
    "    \n",
    "    plot_df = pd.DataFrame({\n",
    "        \"pred\": df[0],\n",
    "        \"label\": np.where(y > 0, 1, 0),\n",
    "        \"isotonic\": isotonic_models[0].predict(np.array(df[0]).reshape(-1, 1))\n",
    "    })\n",
    "    plot_df[\"pred_int\"] = plot_df[\"pred\"].astype(int)\n",
    "    plot_df = plot_df.groupby(\"pred_int\")[[\"isotonic\", \"label\"]].mean().reset_index()\n",
    "    \n",
    "    plt.figure(figsize=(8, 5))\n",
    "    plt.plot(plot_df.pred_int, plot_df.label, marker='o', linestyle='-', label=\"True Label\")\n",
    "    plt.plot(plot_df.pred_int, plot_df.isotonic, marker='x', linestyle='--', label=\"Isotonic Regression\")\n",
    "    plt.xlabel(\"Predicted Value (Integer)\")\n",
    "    plt.ylabel(\"Mean Value\")\n",
    "    plt.title(\"Isotonic Regression Calibration Curve\")\n",
    "    plt.legend()\n",
    "    plt.grid(True)\n",
    "    plt.savefig(os.path.join(OUTPUT_PATH, f\"isotonic_regression_fit_{PREDICT_YEAR}.png\"))\n",
    "    plt.close()\n",
    "    \n",
    "    avg_logloss = np.mean(logloss_isotonic)\n",
    "    results.append(f\"Average Isotonic Regression logloss: {avg_logloss:.4f}\" if avg_logloss is not None else \"No logloss computed\")\n",
    "    \n",
    "    return isotonic_models\n",
    "\n"
   ]
  },
  {
   "cell_type": "code",
   "execution_count": 26,
   "id": "a5b2ccb1",
   "metadata": {
    "execution": {
     "iopub.execute_input": "2025-03-18T16:18:53.217634Z",
     "iopub.status.busy": "2025-03-18T16:18:53.217634Z",
     "iopub.status.idle": "2025-03-18T16:18:53.222993Z",
     "shell.execute_reply": "2025-03-18T16:18:53.222993Z"
    },
    "papermill": {
     "duration": 0.021317,
     "end_time": "2025-03-18T16:18:53.222993",
     "exception": false,
     "start_time": "2025-03-18T16:18:53.201676",
     "status": "completed"
    },
    "tags": []
   },
   "outputs": [],
   "source": [
    "# キャリブレーションカーブの描画関数\n",
    "def plot_calibration_curve(y_true, y_pred_proba, method, save_path):\n",
    "    \"\"\" キャリブレーションカーブをプロットし保存 \"\"\"\n",
    "    y_binary = np.where(y_true > 0, 1, 0) \n",
    "    prob_true, prob_pred = calibration_curve(y_binary, y_pred_proba, n_bins=10)\n",
    "    \n",
    "    plt.figure(figsize=(6,6))\n",
    "    plt.plot(prob_pred, prob_true, marker=\"o\", label=f\"{method} Calibration\")\n",
    "    plt.plot([0, 1], [0, 1], linestyle=\"--\", label=\"Perfect Calibration\")\n",
    "    plt.xlabel(\"Predicted Probability\")\n",
    "    plt.ylabel(\"Actual Probability\")\n",
    "    plt.legend()\n",
    "    plt.title(f\"{method} Calibration Curve\")\n",
    "    plt.grid()\n",
    "    plt.savefig(save_path)\n",
    "    plt.close()\n",
    "\n"
   ]
  },
  {
   "cell_type": "code",
   "execution_count": 27,
   "id": "5e2aeaf1",
   "metadata": {
    "execution": {
     "iopub.execute_input": "2025-03-18T16:18:53.249644Z",
     "iopub.status.busy": "2025-03-18T16:18:53.249644Z",
     "iopub.status.idle": "2025-03-18T16:18:53.442120Z",
     "shell.execute_reply": "2025-03-18T16:18:53.441804Z"
    },
    "papermill": {
     "duration": 0.203026,
     "end_time": "2025-03-18T16:18:53.442929",
     "exception": false,
     "start_time": "2025-03-18T16:18:53.239903",
     "status": "completed"
    },
    "tags": []
   },
   "outputs": [
    {
     "name": "stdout",
     "output_type": "stream",
     "text": [
      "logloss of cvsplit 0: 0.5094\n",
      "logloss of cvsplit 1: 0.5071\n",
      "logloss of cvsplit 2: 0.5059\n",
      "logloss of cvsplit 3: 0.5035\n",
      "logloss of cvsplit 4: 0.5068\n",
      "logloss of cvsplit 5: 0.5049\n",
      "logloss of cvsplit 6: 0.5066\n",
      "logloss of cvsplit 7: 0.5091\n",
      "logloss of cvsplit 8: 0.5073\n",
      "logloss of cvsplit 9: 0.5057\n"
     ]
    }
   ],
   "source": [
    "# キャリブレーション手法の選択\n",
    "spline = MODEL.spline\n",
    "if spline == \"spline_normal\":\n",
    "    spline_model = make_normal_spline(oof_preds, y, repeat_cv)\n",
    "    calibrated_preds = spline_model[0](oof_preds[0])\n",
    "    plot_calibration_curve(y, calibrated_preds, \"Spline Normal\", os.path.join(OUTPUT_PATH, f\"spline_normal_calibration_{PREDICT_YEAR}.png\"))\n",
    "    \n",
    "elif spline == \"logistic\":\n",
    "    spline_model = make_platt_scaling(oof_preds, y, repeat_cv)\n",
    "    calibrated_preds = spline_model[0].predict_proba(np.array(oof_preds[0]).reshape(-1, 1))[:, 1]\n",
    "    plot_calibration_curve(y, calibrated_preds, \"Platt Scaling\", os.path.join(OUTPUT_PATH, f\"platt_scaling_calibration_{PREDICT_YEAR}.png\"))\n",
    "    \n",
    "elif spline == \"isotonic\":\n",
    "    spline_model = make_isotonic_regression(oof_preds, y, repeat_cv)\n",
    "    calibrated_preds = spline_model[0].predict(np.array(oof_preds[0]).reshape(-1, 1))\n",
    "    plot_calibration_curve(y, calibrated_preds, \"Isotonic Regression\", os.path.join(OUTPUT_PATH, f\"isotonic_regression_calibration_{PREDICT_YEAR}.png\"))"
   ]
  },
  {
   "cell_type": "markdown",
   "id": "b1c7e317",
   "metadata": {
    "papermill": {
     "duration": 0.013363,
     "end_time": "2025-03-18T16:18:53.471582",
     "exception": false,
     "start_time": "2025-03-18T16:18:53.458219",
     "status": "completed"
    },
    "tags": []
   },
   "source": [
    "# submmit\n",
    "\n",
    "同じfeature engineeringする.\n",
    "\n",
    "個々の扱うも考える。2025は最終提出用の関数を用意する、その他2024以前は過去コンペでの提出形式に合わせる、でも年度によって提出形式が変わるからとりあえず2023でやる"
   ]
  },
  {
   "cell_type": "code",
   "execution_count": 28,
   "id": "dc45117e",
   "metadata": {
    "execution": {
     "iopub.execute_input": "2025-03-18T16:18:53.487527Z",
     "iopub.status.busy": "2025-03-18T16:18:53.487527Z",
     "iopub.status.idle": "2025-03-18T16:18:53.506626Z",
     "shell.execute_reply": "2025-03-18T16:18:53.506626Z"
    },
    "papermill": {
     "duration": 0.035044,
     "end_time": "2025-03-18T16:18:53.506626",
     "exception": false,
     "start_time": "2025-03-18T16:18:53.471582",
     "status": "completed"
    },
    "tags": []
   },
   "outputs": [
    {
     "data": {
      "text/plain": [
       "'if PREDICT_YEAR==2022:\\n    sub = pd.read_csv(os.path.join(INPUT_PATH, \"SampleSubmission2022M.csv\"))\\n    sub[\\'Season\\'] = sub[\\'ID\\'].apply(lambda x: int(x.split(\\'_\\')[0]))\\n    sub[\"T1_TeamID\"] = sub[\\'ID\\'].apply(lambda x: int(x.split(\\'_\\')[1]))\\n    sub[\"T2_TeamID\"] = sub[\\'ID\\'].apply(lambda x: int(x.split(\\'_\\')[2]))\\n    sub_X, a = process_tourney(sub, mode = \"sub\")\\n    dtest = xgb.DMatrix(sub_X)\\nelif PREDICT_YEAR==2023:\\n    sub = pd.read_csv(os.path.join(INPUT_PATH, \"SampleSubmission2023.csv\"))\\n    sub[\\'Season\\'] = sub[\\'ID\\'].apply(lambda x: int(x.split(\\'_\\')[0]))\\n    sub[\"T1_TeamID\"] = sub[\\'ID\\'].apply(lambda x: int(x.split(\\'_\\')[1]))\\n    sub[\"T2_TeamID\"] = sub[\\'ID\\'].apply(lambda x: int(x.split(\\'_\\')[2]))\\n    sub_X, a = process_tourney(sub, mode = \"sub\")\\n    dtest = xgb.DMatrix(sub_X)\\nelif PREDICT_YEAR==2024:\\n    sub = pd.read_csv(os.path.join(INPUT_PATH, \"SampleSubmission2024.csv\"))\\n    sub[\\'Season\\'] = sub[\\'ID\\'].apply(lambda x: int(x.split(\\'_\\')[0]))\\n    sub[\"T1_TeamID\"] = sub[\\'ID\\'].apply(lambda x: int(x.split(\\'_\\')[1]))\\n    sub[\"T2_TeamID\"] = sub[\\'ID\\'].apply(lambda x: int(x.split(\\'_\\')[2]))\\n    sub_X, a = process_tourney(sub, mode = \"sub\")\\n    dtest = xgb.DMatrix(sub_X)\\nelif PREDICT_YEAR==2025:\\n    sub = pd.read_csv(os.path.join(INPUT_PATH, \"SampleSubmissionStage2.csv\"))\\n    sub[\\'Season\\'] = sub[\\'ID\\'].apply(lambda x: int(x.split(\\'_\\')[0]))\\n    sub[\"T1_TeamID\"] = sub[\\'ID\\'].apply(lambda x: int(x.split(\\'_\\')[1]))\\n    sub[\"T2_TeamID\"] = sub[\\'ID\\'].apply(lambda x: int(x.split(\\'_\\')[2]))   \\n    sub_X, a = process_tourney(sub, mode = \"sub\")\\n    dtest = xgb.DMatrix(sub_X)'"
      ]
     },
     "execution_count": 28,
     "metadata": {},
     "output_type": "execute_result"
    }
   ],
   "source": [
    "\"\"\"if PREDICT_YEAR==2022:\n",
    "    sub = pd.read_csv(os.path.join(INPUT_PATH, \"SampleSubmission2022M.csv\"))\n",
    "    sub['Season'] = sub['ID'].apply(lambda x: int(x.split('_')[0]))\n",
    "    sub[\"T1_TeamID\"] = sub['ID'].apply(lambda x: int(x.split('_')[1]))\n",
    "    sub[\"T2_TeamID\"] = sub['ID'].apply(lambda x: int(x.split('_')[2]))\n",
    "    sub_X, a = process_tourney(sub, mode = \"sub\")\n",
    "    dtest = xgb.DMatrix(sub_X)\n",
    "elif PREDICT_YEAR==2023:\n",
    "    sub = pd.read_csv(os.path.join(INPUT_PATH, \"SampleSubmission2023.csv\"))\n",
    "    sub['Season'] = sub['ID'].apply(lambda x: int(x.split('_')[0]))\n",
    "    sub[\"T1_TeamID\"] = sub['ID'].apply(lambda x: int(x.split('_')[1]))\n",
    "    sub[\"T2_TeamID\"] = sub['ID'].apply(lambda x: int(x.split('_')[2]))\n",
    "    sub_X, a = process_tourney(sub, mode = \"sub\")\n",
    "    dtest = xgb.DMatrix(sub_X)\n",
    "elif PREDICT_YEAR==2024:\n",
    "    sub = pd.read_csv(os.path.join(INPUT_PATH, \"SampleSubmission2024.csv\"))\n",
    "    sub['Season'] = sub['ID'].apply(lambda x: int(x.split('_')[0]))\n",
    "    sub[\"T1_TeamID\"] = sub['ID'].apply(lambda x: int(x.split('_')[1]))\n",
    "    sub[\"T2_TeamID\"] = sub['ID'].apply(lambda x: int(x.split('_')[2]))\n",
    "    sub_X, a = process_tourney(sub, mode = \"sub\")\n",
    "    dtest = xgb.DMatrix(sub_X)\n",
    "elif PREDICT_YEAR==2025:\n",
    "    sub = pd.read_csv(os.path.join(INPUT_PATH, \"SampleSubmissionStage2.csv\"))\n",
    "    sub['Season'] = sub['ID'].apply(lambda x: int(x.split('_')[0]))\n",
    "    sub[\"T1_TeamID\"] = sub['ID'].apply(lambda x: int(x.split('_')[1]))\n",
    "    sub[\"T2_TeamID\"] = sub['ID'].apply(lambda x: int(x.split('_')[2]))   \n",
    "    sub_X, a = process_tourney(sub, mode = \"sub\")\n",
    "    dtest = xgb.DMatrix(sub_X)\"\"\"\n",
    "    "
   ]
  },
  {
   "cell_type": "code",
   "execution_count": 29,
   "id": "4b00254e",
   "metadata": {
    "execution": {
     "iopub.execute_input": "2025-03-18T16:18:53.536212Z",
     "iopub.status.busy": "2025-03-18T16:18:53.536212Z",
     "iopub.status.idle": "2025-03-18T16:18:53.560152Z",
     "shell.execute_reply": "2025-03-18T16:18:53.560152Z"
    },
    "papermill": {
     "duration": 0.041984,
     "end_time": "2025-03-18T16:18:53.561156",
     "exception": false,
     "start_time": "2025-03-18T16:18:53.519172",
     "status": "completed"
    },
    "tags": []
   },
   "outputs": [
    {
     "name": "stdout",
     "output_type": "stream",
     "text": [
      "no fillna, use nan\n",
      "drop col list: ['T1_TOmean', 'T2_TOmean', 'T1_opponent_POSS_RATEmean', 'T2_opponent_POSS_RATEmean', 'T1_opponent_Astmean', 'T2_opponent_Astmean', 'T1_opponent_FT_RATEmean', 'T2_opponent_FT_RATEmean', 'T1_opponent_Stlmean', 'T2_opponent_Stlmean', 'T1_ORmean', 'T2_ORmean', 'T1_opponent_ORmean', 'T2_opponent_ORmean', 'Season']\n"
     ]
    }
   ],
   "source": [
    "if PREDICT_YEAR==2025:\n",
    "    sub = pd.read_csv(os.path.join(INPUT_PATH, \"SampleSubmissionStage2.csv\"))\n",
    "    sub['Season'] = sub['ID'].apply(lambda x: int(x.split('_')[0]))\n",
    "    sub[\"T1_TeamID\"] = sub['ID'].apply(lambda x: int(x.split('_')[1]))\n",
    "    sub[\"T2_TeamID\"] = sub['ID'].apply(lambda x: int(x.split('_')[2]))   \n",
    "    sub_X, a = process_tourney(sub, mode = \"sub\")\n",
    "    sub_X = drop_columns(sub_X, drop_col)\n",
    "    dtest = xgb.DMatrix(sub_X)\n",
    "    print(sub_X.head())\n",
    "    \n",
    "else:\n",
    "    sub = notexist.copy()\n",
    "    sub = sub.rename(columns={\"WTeamID\": \"T1_TeamID\", \"LTeamID\": \"T2_TeamID\"})\n",
    "    sub = sub[[\"Season\", \"T1_TeamID\", \"T2_TeamID\"]]\n",
    "    temp = sub.copy()\n",
    "    temp = temp.rename(columns={\"T1_TeamID\": \"T2_TeamID\", \"T2_TeamID\": \"T1_TeamID\"})\n",
    "    sub = pd.concat([sub, temp]).reset_index()\n",
    "    sub_X, a = process_tourney(sub, mode=\"sub\")\n",
    "    sub_X = drop_columns(sub_X, drop_col)\n",
    "    dtest = xgb.DMatrix(sub_X)"
   ]
  },
  {
   "cell_type": "code",
   "execution_count": 30,
   "id": "d0b11705",
   "metadata": {
    "execution": {
     "iopub.execute_input": "2025-03-18T16:18:53.607595Z",
     "iopub.status.busy": "2025-03-18T16:18:53.607595Z",
     "iopub.status.idle": "2025-03-18T16:19:42.529120Z",
     "shell.execute_reply": "2025-03-18T16:19:42.529120Z"
    },
    "papermill": {
     "duration": 48.947975,
     "end_time": "2025-03-18T16:19:42.531127",
     "exception": false,
     "start_time": "2025-03-18T16:18:53.583152",
     "status": "completed"
    },
    "tags": []
   },
   "outputs": [
    {
     "name": "stderr",
     "output_type": "stream",
     "text": [
      "\r",
      "  0%|                                                                                                                                                                                                                                      | 0/10 [00:00<?, ?it/s]"
     ]
    },
    {
     "name": "stderr",
     "output_type": "stream",
     "text": [
      "\r",
      " 10%|██████████████████████▏                                                                                                                                                                                                       | 1/10 [00:04<00:43,  4.84s/it]"
     ]
    },
    {
     "name": "stderr",
     "output_type": "stream",
     "text": [
      "\r",
      " 20%|████████████████████████████████████████████▍                                                                                                                                                                                 | 2/10 [00:09<00:37,  4.63s/it]"
     ]
    },
    {
     "name": "stderr",
     "output_type": "stream",
     "text": [
      "\r",
      " 30%|██████████████████████████████████████████████████████████████████▌                                                                                                                                                           | 3/10 [00:14<00:33,  4.73s/it]"
     ]
    },
    {
     "name": "stderr",
     "output_type": "stream",
     "text": [
      "\r",
      " 40%|████████████████████████████████████████████████████████████████████████████████████████▊                                                                                                                                     | 4/10 [00:19<00:29,  4.84s/it]"
     ]
    },
    {
     "name": "stderr",
     "output_type": "stream",
     "text": [
      "\r",
      " 50%|███████████████████████████████████████████████████████████████████████████████████████████████████████████████                                                                                                               | 5/10 [00:23<00:23,  4.63s/it]"
     ]
    },
    {
     "name": "stderr",
     "output_type": "stream",
     "text": [
      "\r",
      " 60%|█████████████████████████████████████████████████████████████████████████████████████████████████████████████████████████████████████▏                                                                                        | 6/10 [00:28<00:18,  4.74s/it]"
     ]
    },
    {
     "name": "stderr",
     "output_type": "stream",
     "text": [
      "\r",
      " 70%|███████████████████████████████████████████████████████████████████████████████████████████████████████████████████████████████████████████████████████████▍                                                                  | 7/10 [00:33<00:14,  4.90s/it]"
     ]
    },
    {
     "name": "stderr",
     "output_type": "stream",
     "text": [
      "\r",
      " 80%|█████████████████████████████████████████████████████████████████████████████████████████████████████████████████████████████████████████████████████████████████████████████████▌                                            | 8/10 [00:37<00:09,  4.68s/it]"
     ]
    },
    {
     "name": "stderr",
     "output_type": "stream",
     "text": [
      "\r",
      " 90%|███████████████████████████████████████████████████████████████████████████████████████████████████████████████████████████████████████████████████████████████████████████████████████████████████████▊                      | 9/10 [00:42<00:04,  4.73s/it]"
     ]
    },
    {
     "name": "stderr",
     "output_type": "stream",
     "text": [
      "\r",
      "100%|█████████████████████████████████████████████████████████████████████████████████████████████████████████████████████████████████████████████████████████████████████████████████████████████████████████████████████████████| 10/10 [00:48<00:00,  5.20s/it]"
     ]
    },
    {
     "name": "stderr",
     "output_type": "stream",
     "text": [
      "\r",
      "100%|█████████████████████████████████████████████████████████████████████████████████████████████████████████████████████████████████████████████████████████████████████████████████████████████████████████████████████████████| 10/10 [00:48<00:00,  4.89s/it]"
     ]
    },
    {
     "name": "stderr",
     "output_type": "stream",
     "text": [
      "\n"
     ]
    }
   ],
   "source": [
    "sub_models = []\n",
    "#sokutionではカスタム関数の指定、早期停止の言及がここではなかった。検討する\n",
    "for i in tqdm(range(repeat_cv), leave=True, dynamic_ncols=True):\n",
    "    sub_models.append(\n",
    "        xgb.train(\n",
    "          params = param,\n",
    "          dtrain = dtrain,\n",
    "          obj=cauchyobj,\n",
    "          num_boost_round = int(iteration_counts[i] * 1.05),\n",
    "          #early_stopping_rounds=early_stopping_rounds, #これ指定してない、指定するのかあと、指定するとしても少し遅くさせるとか\n",
    "          verbose_eval = 50\n",
    "        )\n",
    "    )"
   ]
  },
  {
   "cell_type": "markdown",
   "id": "f19fe35d",
   "metadata": {
    "papermill": {
     "duration": 0.02847,
     "end_time": "2025-03-18T16:19:42.584456",
     "exception": false,
     "start_time": "2025-03-18T16:19:42.555986",
     "status": "completed"
    },
    "tags": []
   },
   "source": [
    "各特徴量の寄与度を算出"
   ]
  },
  {
   "cell_type": "code",
   "execution_count": 31,
   "id": "2621e89d",
   "metadata": {
    "execution": {
     "iopub.execute_input": "2025-03-18T16:19:42.619698Z",
     "iopub.status.busy": "2025-03-18T16:19:42.619698Z",
     "iopub.status.idle": "2025-03-18T16:19:43.056274Z",
     "shell.execute_reply": "2025-03-18T16:19:43.056274Z"
    },
    "papermill": {
     "duration": 0.44428,
     "end_time": "2025-03-18T16:19:43.056274",
     "exception": false,
     "start_time": "2025-03-18T16:19:42.611994",
     "status": "completed"
    },
    "tags": []
   },
   "outputs": [
    {
     "data": {
      "image/png": "[encoded data removed]",
      "text/plain": [
       "<Figure size 1000x600 with 1 Axes>"
      ]
     },
     "metadata": {},
     "output_type": "display_data"
    }
   ],
   "source": [
    "feature_importances = collections.defaultdict(list)\n",
    "for model in sub_models:\n",
    "    importance = model.get_score(importance_type='gain')\n",
    "    for feat, score in importance.items():\n",
    "        feature_importances[feat].append(score)\n",
    "\n",
    "avg_importance = {feat: sum(scores) / len(scores) for feat, scores in feature_importances.items()}\n",
    "fi_df = pd.DataFrame(list(avg_importance.items()), columns=['Feature', 'Avg_Gain'])\n",
    "fi_df.sort_values(by='Avg_Gain', ascending=False, inplace=True)\n",
    "results.append(\"\")\n",
    "fi_log = \"-----Feature Importance (Average Gain)-----\\n\"\n",
    "for feat, score in fi_df.values:\n",
    "    fi_log += f\"{feat}: {score:.4f}\\n\"\n",
    "results.append(fi_log)\n",
    "results.append(\"\")\n",
    "\n",
    "plt.figure(figsize=(10, 6))\n",
    "plt.bar(fi_df['Feature'], fi_df['Avg_Gain'])\n",
    "plt.xlabel('Feature')\n",
    "plt.ylabel('Average Gain')\n",
    "plt.title('Feature Importance (Average Gain)')\n",
    "plt.xticks(rotation=45)\n",
    "plt.tight_layout() \n",
    "\n",
    "plt.savefig(os.path.join(OUTPUT_PATH, f\"feature_importance_{PREDICT_YEAR}.png\"))\n",
    "plt.show()"
   ]
  },
  {
   "cell_type": "code",
   "execution_count": 32,
   "id": "6ef87cd3",
   "metadata": {
    "execution": {
     "iopub.execute_input": "2025-03-18T16:19:43.087766Z",
     "iopub.status.busy": "2025-03-18T16:19:43.087766Z",
     "iopub.status.idle": "2025-03-18T16:19:43.159309Z",
     "shell.execute_reply": "2025-03-18T16:19:43.158804Z"
    },
    "papermill": {
     "duration": 0.090747,
     "end_time": "2025-03-18T16:19:43.160315",
     "exception": false,
     "start_time": "2025-03-18T16:19:43.069568",
     "status": "completed"
    },
    "tags": []
   },
   "outputs": [
    {
     "name": "stderr",
     "output_type": "stream",
     "text": [
      "\r",
      "  0%|                                                                                                                                                                                                                                      | 0/10 [00:00<?, ?it/s]"
     ]
    },
    {
     "name": "stderr",
     "output_type": "stream",
     "text": [
      "\r",
      "100%|████████████████████████████████████████████████████████████████████████████████████████████████████████████████████████████████████████████████████████████████████████████████████████████████████████████████████████████| 10/10 [00:00<00:00, 149.21it/s]"
     ]
    },
    {
     "name": "stderr",
     "output_type": "stream",
     "text": [
      "\n"
     ]
    }
   ],
   "source": [
    "sub_preds = []\n",
    "for i in tqdm(range(repeat_cv)):\n",
    "    if spline == \"spline_normal\":\n",
    "        sub_preds.append(np.clip(spline_model[i](np.clip(sub_models[i].predict(dtest), -30, 30)), 0.025, 0.975))\n",
    "    \n",
    "    elif spline == \"logistic\":\n",
    "        X_input = np.clip(sub_models[i].predict(dtest), -30, 30).reshape(-1, 1)\n",
    "        platt_pred = spline_model[i].predict_proba(X_input)[:, 1]\n",
    "        sub_preds.append(np.clip(platt_pred, 0.025, 0.975))\n",
    "\n",
    "    elif spline == \"isotonic\":\n",
    "        X_input = np.clip(sub_models[i].predict(dtest), -30, 30).reshape(-1, 1)\n",
    "        iso_pred = spline_model[i].predict(X_input)  # Isotonic Regression の適用\n",
    "        sub_preds.append(np.clip(iso_pred, 0.025, 0.975))\n",
    "\n",
    "sub[\"Pred\"] = np.mean(np.vstack(sub_preds), axis=0)"
   ]
  },
  {
   "cell_type": "code",
   "execution_count": 33,
   "id": "fb92f788",
   "metadata": {
    "execution": {
     "iopub.execute_input": "2025-03-18T16:19:43.226215Z",
     "iopub.status.busy": "2025-03-18T16:19:43.226215Z",
     "iopub.status.idle": "2025-03-18T16:19:43.236949Z",
     "shell.execute_reply": "2025-03-18T16:19:43.236949Z"
    },
    "papermill": {
     "duration": 0.047221,
     "end_time": "2025-03-18T16:19:43.238956",
     "exception": false,
     "start_time": "2025-03-18T16:19:43.191735",
     "status": "completed"
    },
    "tags": []
   },
   "outputs": [
    {
     "name": "stdout",
     "output_type": "stream",
     "text": [
      "skip data flip\n"
     ]
    }
   ],
   "source": [
    "# 予測時にテストデータID反転させて予測して平均取る\n",
    "# dtestの用意とsub_predsの算出を同じようにやる\n",
    "# sub[\"Pred\"]を反転させたやつとの平均取ったやつにする\n",
    "TEST_REVERSE = MODEL.test_reverse\n",
    "\n",
    "if TEST_REVERSE:\n",
    "    print(\"----- data flip -----\") \n",
    "    sub_reverse = notexist.copy()\n",
    "    sub_reverse = sub_reverse.rename(columns={\"WTeamID\": \"T2_TeamID\", \"LTeamID\": \"T1_TeamID\"})#reverse!!\n",
    "    temp_reverse = sub_reverse.copy()\n",
    "    temp = temp.rename(columns={\"T1_TeamID\": \"T2_TeamID\", \"T2_TeamID\": \"T1_TeamID\"})\n",
    "    sub_reverse = pd.concat([sub_reverse, temp_reverse]).reset_index()\n",
    "    sub_reverse_X, a = process_tourney(sub_reverse, mode=\"sub\")\n",
    "    sub_reverse_X = drop_columns(sub_reverse_X, drop_col)\n",
    "    dtest_reverse = xgb.DMatrix(sub_reverse_X)\n",
    "    \n",
    "    sub_preds_reverse = []\n",
    "    for i in tqdm(range(repeat_cv)):\n",
    "        if spline == \"spline_normal\":\n",
    "            sub_preds_reverse.append(np.clip(spline_model[i](np.clip(sub_models[i].predict(dtest_reverse), -30, 30)), 0.025, 0.975))\n",
    "        \n",
    "        elif spline == \"logistic\":\n",
    "            X_input = np.clip(sub_models[i].predict(dtest_reverse), -30, 30).reshape(-1, 1)\n",
    "            platt_pred = spline_model[i].predict_proba(X_input)[:, 1]\n",
    "            sub_preds_reverse.append(np.clip(platt_pred, 0.025, 0.975))\n",
    "\n",
    "        elif spline == \"isotonic\":\n",
    "            X_input = np.clip(sub_models[i].predict(dtest_reverse), -30, 30).reshape(-1, 1)\n",
    "            iso_pred = spline_model[i].predict(X_input)  # Isotonic Regression の適用\n",
    "            sub_preds_reverse.append(np.clip(iso_pred, 0.025, 0.975))\n",
    "\n",
    "    sub_reverse[\"Pred\"] = np.mean(np.vstack(sub_preds_reverse), axis=0)\n",
    "    \n",
    " \n",
    "    #sub[\"Pred\"]を (sub[\"Pred\"] + (1-sub_reverse[\"Pred\"]))/2に塗り替える(平均取る)\n",
    "    sub[\"Pred\"] = (sub[\"Pred\"] + (1-sub_reverse[\"Pred\"]))/2\n",
    "\n",
    "\n",
    "else:\n",
    "    print(\"skip data flip\")"
   ]
  },
  {
   "cell_type": "code",
   "execution_count": 34,
   "id": "25a71c84",
   "metadata": {
    "execution": {
     "iopub.execute_input": "2025-03-18T16:19:43.285420Z",
     "iopub.status.busy": "2025-03-18T16:19:43.285420Z",
     "iopub.status.idle": "2025-03-18T16:19:43.290881Z",
     "shell.execute_reply": "2025-03-18T16:19:43.290881Z"
    },
    "papermill": {
     "duration": 0.039121,
     "end_time": "2025-03-18T16:19:43.292915",
     "exception": false,
     "start_time": "2025-03-18T16:19:43.253794",
     "status": "completed"
    },
    "tags": []
   },
   "outputs": [],
   "source": [
    "# teams:64team, targetを受け取って、そのtarget teamの試合可能性のある全63試合を抽出する関数\n",
    "def extract_target_team_records(submission_df, teams, target_team):\n",
    "    if target_team not in teams:\n",
    "        raise ValueError(f\"target_team {target_team} は teams 内に存在しません\")\n",
    "\n",
    "    remaining_teams = [t for t in teams if t != target_team]\n",
    "    \n",
    "    records = []\n",
    "    for other_team in remaining_teams:\n",
    "        lower = min(target_team, other_team)\n",
    "        higher = max(target_team, other_team)\n",
    "        row = submission_df[(submission_df['T1_TeamID'] == lower) & (submission_df['T2_TeamID'] == higher)]\n",
    "        if row.empty:\n",
    "            print(f\"Warning: 対戦 {lower} vs {higher} に対応するレコードが見つかりませんでした\")\n",
    "        else:\n",
    "            records.append(row)\n",
    "    \n",
    "    if records:\n",
    "        final_records = pd.concat(records, ignore_index=True)\n",
    "    else:\n",
    "        final_records = pd.DataFrame()\n",
    "    \n",
    "    if len(final_records) != 63:\n",
    "        print(f\"Warning: 期待される63件ではなく、{len(final_records)}件のレコードが抽出されました。\")\n",
    "    \n",
    "    return final_records\n"
   ]
  },
  {
   "cell_type": "code",
   "execution_count": 35,
   "id": "b46a24c3",
   "metadata": {
    "execution": {
     "iopub.execute_input": "2025-03-18T16:19:43.329906Z",
     "iopub.status.busy": "2025-03-18T16:19:43.329906Z",
     "iopub.status.idle": "2025-03-18T16:19:43.335376Z",
     "shell.execute_reply": "2025-03-18T16:19:43.335376Z"
    },
    "papermill": {
     "duration": 0.032808,
     "end_time": "2025-03-18T16:19:43.337470",
     "exception": false,
     "start_time": "2025-03-18T16:19:43.304662",
     "status": "completed"
    },
    "tags": []
   },
   "outputs": [],
   "source": [
    "tourney_teams_2023 = [\n",
    "    1395, 1113,   # TCU1395, アリゾナ・ステイト1113\n",
    "    1231, 1245,   # インディアナ1231, ケント・ステイト1245\n",
    "    1243, 1286,   # カンザス・ステイト1243, モンタナ・ステイト1286\n",
    "    1272, 1194,   # メンフィス1272, ﾌﾛﾘﾀﾞ･ｱﾄﾗﾝﾃｨｯｸ1194\n",
    "    1211, 1213,   # ゴンザガ1211, グランド・キャニオン1213\n",
    "    1274, 1179,   # マイアミ（フロリダ）1274, ドレイク1179\n",
    "    1243, 1286,   # ケンタッキー1243, プロビデンス1286\n",
    "    1345, 1192,   # パデュー1345, ﾌｪｱﾘｰ･ﾃﾞｨｷﾝｿﾝ1192\n",
    "    1163, 1233,   # コネチカット1163, アイオナ1233\n",
    "    1166, 1301,   # クレイトン1166, ﾉｰｽｶﾛﾗｲﾅ･ｽﾃｲﾄ1301\n",
    "    1235, 1338,   # アイオワ・ステイト1235, ピッツバーグ1338\n",
    "    1266, 1436,   # マーケット1266, バーモント1436\n",
    "    1388, 1433,   # ｾﾝﾄﾒｱﾘｰｽﾞ（ｶﾘﾌｫﾙﾆｱ）1388, VCU1433\n",
    "    1124, 1364,   # ベイラー1124, UCサンタバーバラ1364\n",
    "    1462, 1244,   # ザビエル1462, ケネソー・ステイト1244\n",
    "    1277, 1425,   # ミシガン・ステイト1277, USC トロージャンズ1425\n",
    "\n",
    "    1417, 1421,   # UCLA1417, UNC アシュビル1421\n",
    "    1401, 1336,   # テキサス A＆M1401, ﾍﾟﾝｼﾞﾙﾍﾞﾆｱ･ｽﾃｲﾄ1336\n",
    "    1397, 1418,   # テネシー1397, ﾙｲｼﾞｱﾅ･ﾗﾌｧｲｴｯﾄ1418\n",
    "    1222, 1297,   # ヒューストン1222, ノーザンケンタッキー1297\n",
    "    1321, 1129,   # ノースウェスタン1321, ボイシ・ステイト1129\n",
    "    1400, 1159,   # テキサス1400, コルゲート1159\n",
    "    1181, 1331,   # デューク1181, オーラル・ロバーツ1331\n",
    "    1234, 1120,   # アイオワ1234, オーバーン1120\n",
    "    1116, 1228,   # アーカンソー1116, イリノイ1228\n",
    "    1112, 1343,   # アリゾナ1112, プリンストン1343\n",
    "    1361, 1158,   # ｻﾝﾃﾞｴｺﾞ･ｽﾃｲﾄ1361, チャールストン1158\n",
    "    1104, 1394,   # アラバマ1104, テキサス A＆M CC1394\n",
    "    1242, 1224,   # カンザス1242, ハワード1224\n",
    "    1281, 1429,   # ミズーリ1281, ユタ・ステイト1429\n",
    "    1438, 1202,   # バージニア1438, ファーマン1202\n",
    "    1268, 1452    # メリーランド1268, ウェストバージニア1452\n",
    "]\n",
    "\n",
    "#Connecticut_vs = extract_target_team_records(sub, tourney_teams_2023, 1163 )"
   ]
  },
  {
   "cell_type": "code",
   "execution_count": 36,
   "id": "6c04c3e9",
   "metadata": {
    "execution": {
     "iopub.execute_input": "2025-03-18T16:19:43.369578Z",
     "iopub.status.busy": "2025-03-18T16:19:43.369578Z",
     "iopub.status.idle": "2025-03-18T16:19:43.379847Z",
     "shell.execute_reply": "2025-03-18T16:19:43.379847Z"
    },
    "papermill": {
     "duration": 0.031708,
     "end_time": "2025-03-18T16:19:43.381597",
     "exception": false,
     "start_time": "2025-03-18T16:19:43.349889",
     "status": "completed"
    },
    "tags": []
   },
   "outputs": [],
   "source": [
    "#handlabelingを行う関数\n",
    "def make_handlabeling(df, season, T1, T2, labeling_pred, tourney_teams):\n",
    "    if T1 not in tourney_teams or T2 not in tourney_teams: \n",
    "        print(f\"トーナメント対象チームに属していません\")\n",
    "        return \n",
    "    \n",
    "    if T1>T2: \n",
    "        T1, T2 = T2, T1\n",
    "        print(f\"{T1}, {T2}ID逆だけど大丈夫？？\")\n",
    "    id = f\"{season}_{T1}_{T2}\"\n",
    "\n",
    "    print(f\"before: {df[df['ID']==id]}\")\n",
    "    df.loc[df[\"ID\"] == id, \"Pred\"] = labeling_pred\n",
    "    print(f\"after: {df[df['ID']==id]}\")\n",
    "    \n",
    "    results.append(f\"-----handolabeling-----\")\n",
    "    results.append(f\"before:  {df[df['ID']==id]} -----> after: {df[df['ID']==id]}\")\n",
    "    results.appedn(\"\")\n",
    "    return df"
   ]
  },
  {
   "cell_type": "code",
   "execution_count": 37,
   "id": "6d885e46",
   "metadata": {
    "execution": {
     "iopub.execute_input": "2025-03-18T16:19:43.418873Z",
     "iopub.status.busy": "2025-03-18T16:19:43.417801Z",
     "iopub.status.idle": "2025-03-18T16:19:43.422493Z",
     "shell.execute_reply": "2025-03-18T16:19:43.422493Z"
    },
    "papermill": {
     "duration": 0.024707,
     "end_time": "2025-03-18T16:19:43.422493",
     "exception": false,
     "start_time": "2025-03-18T16:19:43.397786",
     "status": "completed"
    },
    "tags": []
   },
   "outputs": [],
   "source": [
    "labeling = cfg.exp.hand_labeling\n",
    "if labeling is not None:\n",
    "    for i in range(len(labeling)):\n",
    "        T1 = labeling[i][0]\n",
    "        T2 = labeling[i][1]\n",
    "        labeling_pred = labeling[i][2]\n",
    "        \n",
    "        print(f\"{T1} vs {T2} result labeling {labeling_pred}\")\n",
    "        \n",
    "        sub = make_handlabeling(sub, PREDICT_YEAR, T1, T2, labeling_pred, tourney_teams_2023)"
   ]
  },
  {
   "cell_type": "code",
   "execution_count": 38,
   "id": "761770e6",
   "metadata": {
    "execution": {
     "iopub.execute_input": "2025-03-18T16:19:43.452256Z",
     "iopub.status.busy": "2025-03-18T16:19:43.452256Z",
     "iopub.status.idle": "2025-03-18T16:19:43.649184Z",
     "shell.execute_reply": "2025-03-18T16:19:43.649184Z"
    },
    "papermill": {
     "duration": 0.213161,
     "end_time": "2025-03-18T16:19:43.649184",
     "exception": false,
     "start_time": "2025-03-18T16:19:43.436023",
     "status": "completed"
    },
    "tags": []
   },
   "outputs": [
    {
     "name": "stdout",
     "output_type": "stream",
     "text": [
      "Tournament matchups only - Pred Mean: 0.49958097214732733\n"
     ]
    },
    {
     "data": {
      "image/png": "[encoded data removed]",
      "text/plain": [
       "<Figure size 640x480 with 1 Axes>"
      ]
     },
     "metadata": {},
     "output_type": "display_data"
    }
   ],
   "source": [
    "if PREDICT_YEAR<=2024:\n",
    "    tourney_filtered = notexist[notexist[\"Season\"] == PREDICT_YEAR].copy()\n",
    "    a = tourney_filtered.rename(columns={'WTeamID': 'T1_TeamID', 'LTeamID': 'T2_TeamID'})\n",
    "    b = tourney_filtered.rename(columns={'WTeamID': 'T2_TeamID', 'LTeamID': 'T1_TeamID'})\n",
    "    ab = pd.concat([a, b]).reset_index(drop=True) \n",
    "    filtered_sub = sub.merge(ab[['Season', 'T1_TeamID', 'T2_TeamID']], \n",
    "                            on=['Season', 'T1_TeamID', 'T2_TeamID'], \n",
    "                            how='inner')\n",
    "\n",
    "    filtered_sub[\"Pred\"].astype(int)\n",
    "    pred_mean = filtered_sub[\"Pred\"].mean()\n",
    "    print(\"Tournament matchups only - Pred Mean:\", pred_mean)\n",
    "\n",
    "    filtered_sub[\"Pred\"].hist(bins=50)\n",
    "    results+=[\"\", f\"Tournament matchups only - Pred Mean:, {pred_mean}\", \"\"]\n",
    "    plt.figure(figsize=(8, 6))\n",
    "    filtered_sub[\"Pred\"].hist(bins=50)\n",
    "    plt.title(\"Prediction Histogram\")\n",
    "    plt.xlabel(\"Pred\")\n",
    "    plt.ylabel(\"Frequency\")\n",
    "    plt.grid(True)\n",
    "\n",
    "    # 画像として保存\n",
    "    plt.savefig(os.path.join(OUTPUT_PATH, f\"Prediction_Histgram_filtered_{PREDICT_YEAR}.png\"))\n",
    "    plt.close()"
   ]
  },
  {
   "cell_type": "markdown",
   "id": "0129eef5",
   "metadata": {
    "papermill": {
     "duration": 0.02022,
     "end_time": "2025-03-18T16:19:43.683912",
     "exception": false,
     "start_time": "2025-03-18T16:19:43.663692",
     "status": "completed"
    },
    "tags": []
   },
   "source": [
    "# スコア算出、まとめ、\n",
    "ここまでで提出ファイル作成。ここからは過去年度のシミュレーションに対してBrier scoreやその他指標の算出"
   ]
  },
  {
   "cell_type": "code",
   "execution_count": 39,
   "id": "30666679",
   "metadata": {
    "execution": {
     "iopub.execute_input": "2025-03-18T16:19:43.718104Z",
     "iopub.status.busy": "2025-03-18T16:19:43.718104Z",
     "iopub.status.idle": "2025-03-18T16:19:43.975163Z",
     "shell.execute_reply": "2025-03-18T16:19:43.975163Z"
    },
    "papermill": {
     "duration": 0.270011,
     "end_time": "2025-03-18T16:19:43.975163",
     "exception": false,
     "start_time": "2025-03-18T16:19:43.705152",
     "status": "completed"
    },
    "tags": []
   },
   "outputs": [
    {
     "data": {
      "image/png": "[encoded data removed]",
      "text/plain": [
       "<Figure size 640x480 with 1 Axes>"
      ]
     },
     "metadata": {},
     "output_type": "display_data"
    }
   ],
   "source": [
    "sub[\"Pred\"].hist()\n",
    "results+=[\"\", f\"Pred mean: {sub['Pred'].mean()}\", \"\"]\n",
    "\n",
    "plt.figure(figsize=(8, 6))\n",
    "sub[\"Pred\"].hist(bins=50)\n",
    "plt.title(\"Prediction Histogram\")\n",
    "plt.xlabel(\"Pred\")\n",
    "plt.ylabel(\"Frequency\")\n",
    "plt.grid(True)\n",
    "\n",
    "# 画像として保存\n",
    "plt.savefig(os.path.join(OUTPUT_PATH, f\"Prediction_Histgram_{PREDICT_YEAR}.png\"))\n",
    "plt.close()"
   ]
  },
  {
   "cell_type": "markdown",
   "id": "6aaa268b",
   "metadata": {
    "papermill": {
     "duration": 0.006036,
     "end_time": "2025-03-18T16:19:44.000862",
     "exception": false,
     "start_time": "2025-03-18T16:19:43.994826",
     "status": "completed"
    },
    "tags": []
   },
   "source": [
    "存在するはずのない予測年度のトーナメント結果をもとに(Pred, label)を取り出し、以下を行う。\n",
    "\n",
    "- 各評価指標の計算\n",
    "- キャリブレーション可視化\n",
    "- AUC可視化"
   ]
  },
  {
   "cell_type": "code",
   "execution_count": 40,
   "id": "b91c5b4b",
   "metadata": {
    "execution": {
     "iopub.execute_input": "2025-03-18T16:19:44.050722Z",
     "iopub.status.busy": "2025-03-18T16:19:44.050722Z",
     "iopub.status.idle": "2025-03-18T16:19:44.059394Z",
     "shell.execute_reply": "2025-03-18T16:19:44.059394Z"
    },
    "papermill": {
     "duration": 0.028674,
     "end_time": "2025-03-18T16:19:44.059394",
     "exception": false,
     "start_time": "2025-03-18T16:19:44.030720",
     "status": "completed"
    },
    "tags": []
   },
   "outputs": [],
   "source": [
    "def extract_labels_and_preds(sub, tourney):\n",
    "    \"\"\" 試合データから予測値 (Pred) と正解ラベル (label) を抽出する \"\"\"\n",
    "    label_data = tourney[[\"WTeamID\", \"LTeamID\", \"WScore\", \"LScore\"]]\n",
    "    label_data = label_data.rename(columns={\"WTeamID\": \"T1_TeamID\", \"LTeamID\": \"T2_TeamID\", \"WScore\": \"T1_Score\", \"LScore\": \"T2_Score\"})\n",
    "    temp = label_data.copy()\n",
    "    temp = temp.rename(columns={\"T1_TeamID\": \"T2_TeamID\", \"T2_TeamID\": \"T1_TeamID\", \"T1_Score\": \"T2_Score\", \"T2_Score\": \"T1_Score\"})\n",
    "    label_data = pd.concat([label_data, temp]).reset_index(drop=True)\n",
    "    \n",
    "    label_data = pd.merge(label_data, sub, on=[\"T1_TeamID\", \"T2_TeamID\"], how=\"left\")\n",
    "    label_data[\"label\"] = np.where(label_data[\"T1_Score\"] - label_data[\"T2_Score\"] > 0, 1, 0)\n",
    "    label_data = label_data.dropna(subset=[\"Pred\"])  # 欠損値を削除\n",
    "    \n",
    "    return label_data[[\"label\", \"Pred\"]]\n",
    "\n",
    "def calculate_metrics(label_data):\n",
    "    \"\"\" 各評価指標を計算 \"\"\"\n",
    "    brier_score = round(mean_squared_error(label_data[\"label\"], label_data[\"Pred\"]), 5)  # Brier Score (MSEと同じ)\n",
    "    rmse_score = round(mean_squared_error(label_data[\"label\"], label_data[\"Pred\"], squared=False), 5)  # RMSE\n",
    "    logloss_score = round(log_loss(label_data[\"label\"], label_data[\"Pred\"]), 5)  # Log Loss\n",
    "    mae_score = round(mean_absolute_error(label_data[\"label\"], label_data[\"Pred\"]), 5)  # MAE\n",
    "    \n",
    "    return {\n",
    "        \"Brier Score\": brier_score,\n",
    "        \"RMSE\": rmse_score,\n",
    "        \"Log Loss\": logloss_score,\n",
    "        \"MAE\": mae_score\n",
    "    }\n",
    "\n",
    "def plot_calibration_curve(label_data, n_bins=10):\n",
    "    \"\"\" キャリブレーションカーブをプロット \"\"\"\n",
    "    prob_true, prob_pred = calibration_curve(label_data[\"label\"], label_data[\"Pred\"], n_bins=n_bins)\n",
    "    \n",
    "    plt.figure(figsize=(6,6))\n",
    "    plt.plot(prob_pred, prob_true, marker=\"o\", label=\"Model Calibration\")\n",
    "    plt.plot([0, 1], [0, 1], linestyle=\"--\", label=\"Perfect Calibration\")\n",
    "    plt.xlabel(\"Predicted Probability\")\n",
    "    plt.ylabel(\"Actual Probability\")\n",
    "    plt.legend()\n",
    "    plt.title(\"Calibration Curve\")\n",
    "    plt.show()\n",
    "\n",
    "def calculate_auc_metrics(label_data):\n",
    "    global results\n",
    "    \"\"\" AUC-ROCとAUC-PRを計算 \"\"\"\n",
    "    auc_roc = roc_auc_score(label_data[\"label\"], label_data[\"Pred\"])\n",
    "    auc_pr = average_precision_score(label_data[\"label\"], label_data[\"Pred\"])\n",
    "    \n",
    "    print(f\"AUC-ROC: {auc_roc:.4f}\")\n",
    "    print(f\"AUC-PR: {auc_pr:.4f}\")\n",
    "    results += [\"---- AUC -----\", f\"AUC-ROC: {auc_roc:.4f}\", f\"AUC-PR: {auc_pr:.4f}\"]\n",
    "    "
   ]
  },
  {
   "cell_type": "code",
   "execution_count": 41,
   "id": "ec8fa3a4",
   "metadata": {
    "execution": {
     "iopub.execute_input": "2025-03-18T16:19:44.082136Z",
     "iopub.status.busy": "2025-03-18T16:19:44.082136Z",
     "iopub.status.idle": "2025-03-18T16:19:44.183399Z",
     "shell.execute_reply": "2025-03-18T16:19:44.183399Z"
    },
    "papermill": {
     "duration": 0.113157,
     "end_time": "2025-03-18T16:19:44.183399",
     "exception": false,
     "start_time": "2025-03-18T16:19:44.070242",
     "status": "completed"
    },
    "tags": []
   },
   "outputs": [
    {
     "name": "stderr",
     "output_type": "stream",
     "text": [
      "C:\\Users\\81809\\anaconda3\\envs\\deep_learning_pytorch\\Lib\\site-packages\\sklearn\\metrics\\_regression.py:492: FutureWarning: 'squared' is deprecated in version 1.4 and will be removed in 1.6. To calculate the root mean squared error, use the function'root_mean_squared_error'.\n",
      "  warnings.warn(\n"
     ]
    },
    {
     "data": {
      "image/png": "[encoded data removed]",
      "text/plain": [
       "<Figure size 600x600 with 1 Axes>"
      ]
     },
     "metadata": {},
     "output_type": "display_data"
    },
    {
     "name": "stdout",
     "output_type": "stream",
     "text": [
      "AUC-ROC: 0.8549\n",
      "AUC-PR: 0.8666\n",
      "MAE: 0.31646\n",
      "\n",
      "---- AUC -----\n",
      "AUC-ROC: 0.8549\n",
      "AUC-PR: 0.8666\n"
     ]
    }
   ],
   "source": [
    "if PREDICT_YEAR<=2024:\n",
    "    if PREDICT_YEAR == 2022:\n",
    "        notexist_MAN = notexist[notexist[\"WTeamID\"].astype(str).str.startswith(\"1\")]\n",
    "        notexist_WOMAN = notexist[notexist[\"WTeamID\"].astype(str).str.startswith(\"3\")]\n",
    "        label_data = extract_labels_and_preds(sub, notexist) ######\n",
    "    else:\n",
    "        label_data = extract_labels_and_preds(sub, notexist)\n",
    "\n",
    "    # 評価指標の計算\n",
    "    score = calculate_metrics(label_data)\n",
    "    results += [\"\",\"-----eval metrics-----\",\n",
    "                f\"Brier Score: {score['Brier Score']}\", \n",
    "                f\"RMSE: {score['RMSE']}\", \n",
    "                f\"Log Loss: {score['Log Loss']}\", \n",
    "                f\"MAE: {score['MAE']}\", \"\"]\n",
    "\n",
    "    # キャリブレーションの確認\n",
    "    plot_calibration_curve(label_data)\n",
    "\n",
    "    # AUCの評価\n",
    "    calculate_auc_metrics(label_data)\n",
    "\n",
    "    for temp in range(-5, 0):\n",
    "        print(results[temp])"
   ]
  },
  {
   "cell_type": "code",
   "execution_count": 42,
   "id": "95cb14a5",
   "metadata": {
    "execution": {
     "iopub.execute_input": "2025-03-18T16:19:44.216066Z",
     "iopub.status.busy": "2025-03-18T16:19:44.216066Z",
     "iopub.status.idle": "2025-03-18T16:19:44.234830Z",
     "shell.execute_reply": "2025-03-18T16:19:44.234438Z"
    },
    "papermill": {
     "duration": 0.04093,
     "end_time": "2025-03-18T16:19:44.234830",
     "exception": false,
     "start_time": "2025-03-18T16:19:44.193900",
     "status": "completed"
    },
    "tags": []
   },
   "outputs": [
    {
     "name": "stdout",
     "output_type": "stream",
     "text": [
      "   index  Season  T1_TeamID  T2_TeamID      Pred\n",
      "0   1048    2019       1125       1396  0.613177\n",
      "1   1049    2019       1192       1341  0.545312\n",
      "2   1050    2019       1113       1385  0.473351\n",
      "3   1051    2019       1295       1300  0.463674\n",
      "4   1052    2019       1120       1308  0.670642\n"
     ]
    }
   ],
   "source": [
    "if PREDICT_YEAR==2025:\n",
    "    print(sub.head())\n",
    "    csv_path = os.path.join(OUTPUT_PATH, f\"{name}_{PREDICT_YEAR}.csv\")\n",
    "    sub[[\"ID\", \"Pred\"]].to_csv(csv_path, index=False)\n",
    "else:\n",
    "    print(sub.head())\n",
    "    csv_path = os.path.join(OUTPUT_PATH, f\"{name}_{PREDICT_YEAR}.csv\")\n",
    "    sub[[\"Season\", \"T1_TeamID\", \"T2_TeamID\", \"Pred\"]].to_csv(csv_path, index=False)"
   ]
  },
  {
   "cell_type": "code",
   "execution_count": 43,
   "id": "bc675d73",
   "metadata": {
    "execution": {
     "iopub.execute_input": "2025-03-18T16:19:44.270688Z",
     "iopub.status.busy": "2025-03-18T16:19:44.270688Z",
     "iopub.status.idle": "2025-03-18T16:19:44.278581Z",
     "shell.execute_reply": "2025-03-18T16:19:44.278581Z"
    },
    "papermill": {
     "duration": 0.024285,
     "end_time": "2025-03-18T16:19:44.278581",
     "exception": false,
     "start_time": "2025-03-18T16:19:44.254296",
     "status": "completed"
    },
    "tags": []
   },
   "outputs": [
    {
     "name": "stdout",
     "output_type": "stream",
     "text": [
      "実行時間： 649.1秒\n"
     ]
    }
   ],
   "source": [
    "END_TIME = time.time()\n",
    "ELAPSED_TIME = END_TIME - START_TIME\n",
    "print(f\"実行時間： {ELAPSED_TIME:.1f}秒\")\n",
    "results.append(f\"実行時間： {ELAPSED_TIME:.1f}秒\")\n",
    "\n",
    "with open(os.path.join(OUTPUT_PATH, \"result.txt\"), \"a\", encoding=\"utf-8\") as f:\n",
    "    for line in results:\n",
    "        f.write(line + \"\\n\")"
   ]
  },
  {
   "cell_type": "code",
   "execution_count": 44,
   "id": "9c6ac81a",
   "metadata": {
    "execution": {
     "iopub.execute_input": "2025-03-18T16:19:44.317570Z",
     "iopub.status.busy": "2025-03-18T16:19:44.317570Z",
     "iopub.status.idle": "2025-03-18T16:19:44.324471Z",
     "shell.execute_reply": "2025-03-18T16:19:44.324471Z"
    },
    "papermill": {
     "duration": 0.037939,
     "end_time": "2025-03-18T16:19:44.324471",
     "exception": false,
     "start_time": "2025-03-18T16:19:44.286532",
     "status": "completed"
    },
    "tags": []
   },
   "outputs": [],
   "source": [
    "logger.remove()"
   ]
  }
 ],
 "metadata": {
  "kernelspec": {
   "display_name": "deep_learning_pytorch",
   "language": "python",
   "name": "python3"
  },
  "language_info": {
   "codemirror_mode": {
    "name": "ipython",
    "version": 3
   },
   "file_extension": ".py",
   "mimetype": "text/x-python",
   "name": "python",
   "nbconvert_exporter": "python",
   "pygments_lexer": "ipython3",
   "version": "3.11.9"
  },
  "papermill": {
   "default_parameters": {},
   "duration": 653.72322,
   "end_time": "2025-03-18T16:19:44.911256",
   "environment_variables": {},
   "exception": null,
   "input_path": "c:\\Users\\81809\\Documents\\ALL_CODE\\kaggle\\March Machine Learning Mania 2025\\notebook\\1stplace_solution_2023.ipynb",
   "output_path": "feature_10_20250319_010851.ipynb",
   "parameters": {
    "EXP_NUM": "feature_10",
    "PREDICT_YEAR": 2019
   },
   "start_time": "2025-03-18T16:08:51.188036",
   "version": "2.6.0"
  }
 },
 "nbformat": 4,
 "nbformat_minor": 5
}