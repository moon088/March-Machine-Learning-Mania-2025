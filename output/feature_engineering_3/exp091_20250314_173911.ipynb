{
 "cells": [
  {
   "cell_type": "code",
   "execution_count": 1,
   "id": "7ec51332",
   "metadata": {
    "execution": {
     "iopub.execute_input": "2025-03-14T08:39:12.907592Z",
     "iopub.status.busy": "2025-03-14T08:39:12.907592Z",
     "iopub.status.idle": "2025-03-14T08:39:12.915027Z",
     "shell.execute_reply": "2025-03-14T08:39:12.915027Z"
    },
    "papermill": {
     "duration": 0.023274,
     "end_time": "2025-03-14T08:39:12.915027",
     "exception": false,
     "start_time": "2025-03-14T08:39:12.891753",
     "status": "completed"
    },
    "tags": [
     "parameters"
    ]
   },
   "outputs": [],
   "source": [
    "# Parameters\n",
    "EXP_NUM = \"default\""
   ]
  },
  {
   "cell_type": "code",
   "execution_count": 2,
   "id": "5d0bc9e6",
   "metadata": {
    "execution": {
     "iopub.execute_input": "2025-03-14T08:39:12.924540Z",
     "iopub.status.busy": "2025-03-14T08:39:12.924540Z",
     "iopub.status.idle": "2025-03-14T08:39:12.938125Z",
     "shell.execute_reply": "2025-03-14T08:39:12.938125Z"
    },
    "papermill": {
     "duration": 0.016012,
     "end_time": "2025-03-14T08:39:12.940552",
     "exception": false,
     "start_time": "2025-03-14T08:39:12.924540",
     "status": "completed"
    },
    "tags": [
     "injected-parameters"
    ]
   },
   "outputs": [],
   "source": [
    "# Parameters\n",
    "EXP_NUM = \"exp091\"\n"
   ]
  },
  {
   "cell_type": "markdown",
   "id": "aed620c7",
   "metadata": {
    "papermill": {
     "duration": 0.0,
     "end_time": "2025-03-14T08:39:12.946223",
     "exception": false,
     "start_time": "2025-03-14T08:39:12.946223",
     "status": "completed"
    },
    "tags": []
   },
   "source": [
    "# 2023 1st place solution\n",
    "[kaggle notebook](https://www.kaggle.com/code/rustyb/paris-madness-2023#Load-the-data!)"
   ]
  },
  {
   "cell_type": "markdown",
   "id": "27c5d12a",
   "metadata": {
    "papermill": {
     "duration": 0.002158,
     "end_time": "2025-03-14T08:39:12.959012",
     "exception": false,
     "start_time": "2025-03-14T08:39:12.956854",
     "status": "completed"
    },
    "tags": []
   },
   "source": [
    "# コードの流れ\n",
    "1. hydraからハイパラ取得し、パスなどを設定\n",
    "\n",
    "    regular&tourney Detaile Result, Seedを使用し、tourneyを目的変数としてモデルを予測していく\n",
    "\n",
    "    regular_data->season_statistics->\n",
    "\n",
    "    以下の前処理をする\n",
    "\n",
    "2. データ２倍にかさまし\n",
    "3. regularに対して特徴量の追加\n",
    "    各チームごとに加えるもの\n",
    "   - EFFG: フィールドゴール成功率\n",
    "   - EFFG3: フィールドゴール3p成功率\n",
    "   - DARE: フィールドゴールにおける3P率\n",
    "   - \"win\"を目的変数とする(Team, Season)のロジスティック回帰した各係数\n",
    "    対戦カードごとに加える特徴量\n",
    "    - PointDiff: ポイント差\n",
    "    - win: 1 if PointDiff>0 else 0\n",
    "4. (Team, Season)ごとに特徴量season_statixtics追加\n",
    "    - win_ratio_14d\n",
    "    - box score mean\n",
    "    - quality\n",
    "    - seed\n",
    "5. season_average.enabled=trueなら直近３シーズンの加重平均の処理加える\n",
    "6. tourneyをteamID, Season, score(y)のみ取り出してこれに対してseason_statisticsの結合と特徴量微調整\n",
    "   - seed->seeddiff\n",
    "   - fillna()\n",
    "\n",
    "7. モデル構築\n",
    "8. KFOLD->OOF予測->spline曲線求めてlogloss算出\n",
    "    - KFOLDによる交差検証（CV）\n",
    "        repeat_cv 回のループで、各反復ごとにKFold（folds_splits個）によりデータを分割し、XGBoostのCVを実行しています。\n",
    "        各foldでの結果（例えば、訓練MAE、検証MAEの平均値や標準偏差）がcv_resultとして得られ、それをxgb_cvリストに格納します。\n",
    "        この段階で重要なのは、各反復での検証用MAEの平均値 (test-mae-mean) の最小値と、そのときのブーストラウンド数です。\n",
    "        それらは後で、最適なイテレーション数 (iteration_counts) として計算され、val_mae にも格納されます。\n",
    "    - OOF予測の流れ\n",
    "\n",
    "        各反復ごとに、新たなKFoldを用いてデータを分割。\n",
    "        各foldごとに、学習データでモデルを訓練し、検証データに対して予測を実施。\n",
    "        すべてのfold分の予測結果を1つの予測配列にまとめ、最後に -30～30 の範囲にクリップしています。\n",
    "        重要な結果\n",
    "\n",
    "        OOF予測結果（oof_preds）自体は後段で別途評価指標に使用できるほか、各反復ごとの予測精度や誤差を算出する際の基礎データ\n",
    "9.  提出フェーズ\n",
    "    - 最適paramで全データ使って訓練\n",
    "    - 提出試合の予測"
   ]
  },
  {
   "cell_type": "markdown",
   "id": "39908806",
   "metadata": {
    "papermill": {
     "duration": 0.014656,
     "end_time": "2025-03-14T08:39:12.973668",
     "exception": false,
     "start_time": "2025-03-14T08:39:12.959012",
     "status": "completed"
    },
    "tags": []
   },
   "source": [
    "memo\n",
    "\n",
    "欠損値が発生していいのか検討して保管について考える\n",
    "seedがかけているのはregularに対してseedを与えているから大丈夫。最終的なtourneyには欠損０で追加できているから問題ない"
   ]
  },
  {
   "cell_type": "code",
   "execution_count": 3,
   "id": "78989b17",
   "metadata": {
    "execution": {
     "iopub.execute_input": "2025-03-14T08:39:12.975683Z",
     "iopub.status.busy": "2025-03-14T08:39:12.975683Z",
     "iopub.status.idle": "2025-03-14T08:39:15.744755Z",
     "shell.execute_reply": "2025-03-14T08:39:15.744755Z"
    },
    "papermill": {
     "duration": 2.769072,
     "end_time": "2025-03-14T08:39:15.744755",
     "exception": false,
     "start_time": "2025-03-14T08:39:12.975683",
     "status": "completed"
    },
    "tags": []
   },
   "outputs": [
    {
     "name": "stderr",
     "output_type": "stream",
     "text": [
      "C:\\Users\\81809\\anaconda3\\envs\\deep_learning_pytorch\\Lib\\site-packages\\tqdm\\auto.py:21: TqdmWarning: IProgress not found. Please update jupyter and ipywidgets. See https://ipywidgets.readthedocs.io/en/stable/user_install.html\n",
      "  from .autonotebook import tqdm as notebook_tqdm\n"
     ]
    },
    {
     "name": "stdout",
     "output_type": "stream",
     "text": [
      "exp091\n",
      "Omega conf is below\n",
      "dir:\n",
      "  input_dir: ../input\n",
      "  output_dir: ../output\n",
      "  src_path: ../src\n",
      "  conf_path: ../conf\n",
      "exp:\n",
      "  name: feature_engineering_3\n",
      "  print_name: delete Ast\n",
      "  tournament:\n",
      "    use_start_season: 1985\n",
      "    target_season: 2019\n",
      "  features:\n",
      "    cal_mean_boxscore:\n",
      "      T1_Score: true\n",
      "      T2_Score: true\n",
      "      PointDiff: true\n",
      "      T1_FGM: true\n",
      "      T2_FGM: true\n",
      "      T1_FGA: true\n",
      "      T2_FGA: true\n",
      "      T1_FGM3: false\n",
      "      T2_FGM3: false\n",
      "      T1_FGA3: false\n",
      "      T2_FGA3: false\n",
      "      T1_FTM: false\n",
      "      T2_FTM: false\n",
      "      T1_FTA: false\n",
      "      T2_FTA: false\n",
      "      T1_EFFG: false\n",
      "      T2_EFFG: false\n",
      "      T1_EFFG3: false\n",
      "      T2_EFFG3: false\n",
      "      T1_EFG_SUM: true\n",
      "      T2_EFG_SUM: true\n",
      "      T1_TO_RATIO: true\n",
      "      T2_TO_RATIO: true\n",
      "      T1_OR: true\n",
      "      T2_OR: true\n",
      "      T1_DR: true\n",
      "      T2_DR: true\n",
      "      T1_REB_RATE: true\n",
      "      T2_REB_RATE: true\n",
      "      T1_FT_RATE: true\n",
      "      T2_FT_RATE: true\n",
      "      T1_RATING: false\n",
      "      T2_RATING: false\n",
      "      T1_POSS_RATE: true\n",
      "      T2_POSS_RATE: true\n",
      "      T1_Ast: false\n",
      "      T2_Ast: false\n",
      "      T1_TO: true\n",
      "      T2_TO: true\n",
      "      T1_Stl: true\n",
      "      T2_Stl: true\n",
      "      T1_Blk: true\n",
      "      T2_Blk: true\n",
      "      T1_PF: true\n",
      "      T2_PF: true\n",
      "      T1_DARE: false\n",
      "      T2_DARE: false\n",
      "      T1_TOQUETOQUE: false\n",
      "      T2_TOQUETOQUE: false\n",
      "    rank_diff: true\n",
      "    start_quality_season: 2003\n",
      "    dropfeatures:\n",
      "    - T1_TOmean\n",
      "    - T2_TOmean\n",
      "    - T1_opponent_POSS_RATEmean\n",
      "    - T2_opponent_POSS_RATEmean\n",
      "    - T1_opponent_Astmean\n",
      "    - T2_opponent_Astmean\n",
      "    - T1_opponent_FT_RATEmean\n",
      "    - T2_opponent_FT_RATEmean\n",
      "    - T1_opponent_Stlmean\n",
      "    - T2_opponent_Stlmean\n",
      "    - T1_ORmean\n",
      "    - T2_ORmean\n",
      "    - T1_opponent_ORmean\n",
      "    - T2_opponent_ORmean\n",
      "    season_average:\n",
      "      enabled: false\n",
      "      past_years: 3\n",
      "      weights:\n",
      "      - 1\n",
      "      - 2\n",
      "      - 3\n",
      "    fillna:\n",
      "      quality: 'nan'\n",
      "  model:\n",
      "    repeat_cv: 10\n",
      "    optuna_enabled: false\n",
      "    test_reverse: false\n",
      "    xgb_model:\n",
      "      param:\n",
      "        eval_metric: rmse\n",
      "        booster: gbtree\n",
      "        eta: 0.02\n",
      "        subsample: 0.35\n",
      "        colsample_bytree: 0.7\n",
      "        num_parallel_tree: 10\n",
      "        min_child_weight: 40\n",
      "        gamma: 10\n",
      "        max_depth: 3\n",
      "      obj: cauchyoj\n",
      "      num_boost_round: 3000\n",
      "      folds_splits: 5\n",
      "      early_stopping_rounds: 25\n",
      "      optuna:\n",
      "        max_depth:\n",
      "        - 3\n",
      "        - 7\n",
      "        eta:\n",
      "        - 0.001\n",
      "        - 0.03\n",
      "        subsample:\n",
      "        - 0.2\n",
      "        - 0.5\n",
      "        colsample_bytree:\n",
      "        - 0.5\n",
      "        - 1.0\n",
      "        num_parallel_tree:\n",
      "        - 7\n",
      "        - 12\n",
      "        min_child_weight:\n",
      "        - 30\n",
      "        - 50\n",
      "        reg_alpha:\n",
      "        - 0.0\n",
      "        - 1.0\n",
      "        reg_lambda:\n",
      "        - 0.0\n",
      "        - 1.0\n",
      "        gamma:\n",
      "        - 0\n",
      "        - 10\n",
      "        n_trials: 1000\n",
      "        timeout: 28800\n",
      "        n_jobs: -1\n",
      "        n_warmup_steps: 3\n",
      "    spline: logistic\n",
      "  hand_labeling: null\n",
      "\n"
     ]
    }
   ],
   "source": [
    "\n",
    "import os\n",
    "import sys\n",
    "from pathlib import Path\n",
    "import collections\n",
    "from datetime import datetime\n",
    "import shutil\n",
    "import yaml\n",
    "from tqdm import tqdm\n",
    "import time\n",
    "import optuna\n",
    "from loguru import logger\n",
    "import collections\n",
    "\n",
    "from hydra import initialize, initialize_config_module, initialize_config_dir, compose\n",
    "from omegaconf import OmegaConf\n",
    "\n",
    "import numpy as np\n",
    "import pandas as pd\n",
    "import matplotlib.pyplot as plt\n",
    "import seaborn as sns\n",
    "from scipy.interpolate import UnivariateSpline\n",
    "\n",
    "import xgboost as xgb\n",
    "from xgboost import XGBRegressor\n",
    "from sklearn.model_selection import KFold\n",
    "from sklearn.calibration import calibration_curve\n",
    "from sklearn.metrics import log_loss,mean_squared_error, mean_absolute_error, roc_auc_score, average_precision_score\n",
    "from sklearn.metrics import make_scorer\n",
    "from sklearn.model_selection import cross_val_score, KFold\n",
    "from sklearn.linear_model import LogisticRegression\n",
    "from sklearn.preprocessing import OneHotEncoder\n",
    "from sklearn.isotonic import IsotonicRegression\n",
    "\n",
    "import statsmodels.api as sm\n",
    "\n",
    "START_TIME = time.time()\n",
    "\n",
    "\n",
    "#####\n",
    "#EXP_NUM = \"test\"\n",
    "#####\n",
    "print(EXP_NUM)\n",
    "\n",
    "# hydraの初期設定と指定ハイパラの取得\n",
    "sys.path.append(os.path.abspath(\"/workspace\"))\n",
    "sys.path.append(\"C:\\\\Users\\\\81809\\\\Documents\\\\ALL_CODE\\\\kaggle\\\\March Machine Learning Mania 2025\")\n",
    "with initialize_config_module(version_base=None, config_module=\"conf\"):\n",
    "    cfg = compose(\n",
    "        config_name=\"base.yaml\",\n",
    "        overrides=[\n",
    "            f\"+exp={EXP_NUM}\" #defaultexp001->exp002のオーバーライド\n",
    "        ],\n",
    "    )\n",
    "    \n",
    "    OmegaConf.resolve(cfg)\n",
    "    print(\"Omega conf is below\")\n",
    "    print(OmegaConf.to_yaml(cfg))\n"
   ]
  },
  {
   "cell_type": "code",
   "execution_count": 4,
   "id": "94c8bad8",
   "metadata": {
    "execution": {
     "iopub.execute_input": "2025-03-14T08:39:15.754244Z",
     "iopub.status.busy": "2025-03-14T08:39:15.754244Z",
     "iopub.status.idle": "2025-03-14T08:39:15.774087Z",
     "shell.execute_reply": "2025-03-14T08:39:15.773772Z"
    },
    "papermill": {
     "duration": 0.029332,
     "end_time": "2025-03-14T08:39:15.774087",
     "exception": false,
     "start_time": "2025-03-14T08:39:15.744755",
     "status": "completed"
    },
    "tags": []
   },
   "outputs": [
    {
     "name": "stdout",
     "output_type": "stream",
     "text": [
      "########\n",
      "output dir name: feature_engineering_3\n",
      "Run on 2025-03-14 17:39:15.754244\n",
      "delete Ast\n",
      "########\n"
     ]
    }
   ],
   "source": [
    "PREDICT_YEAR = cfg.exp.tournament.target_season\n",
    "name = f\"{cfg.exp.name}\"\n",
    "now = str(datetime.now())\n",
    "print(\"########\")\n",
    "print(f\"output dir name: {name}\")\n",
    "print(f\"Run on {now}\")\n",
    "print(cfg.exp.print_name)\n",
    "print(\"########\")\n",
    "\n",
    "BASE_DIR = os.path.abspath(os.path.join(os.getcwd(), \"..\"))\n",
    "CONF_PATH = os.path.join(BASE_DIR, \"conf\")\n",
    "INPUT_PATH = os.path.join(BASE_DIR, \"input\")\n",
    "EXP_PATH = os.path.join(CONF_PATH, \"exp\", f\"{EXP_NUM}.yaml\")\n",
    "OUTPUT_PATH = os.path.join(BASE_DIR, \"output\", name)\n",
    "SRC_PATH = cfg.dir.src_path\n",
    "sys.path.append(SRC_PATH)\n",
    "\n",
    "os.makedirs(OUTPUT_PATH, exist_ok=True)  \n",
    "with open(EXP_PATH, \"r\", encoding=\"utf-8\") as f:\n",
    "    config = yaml.safe_load(f)\n",
    "shutil.copyfile(EXP_PATH, os.path.join(OUTPUT_PATH, f\"{EXP_NUM}.yaml\"))\n",
    "\n",
    "\n",
    "y_season = cfg.exp.tournament.target_season\n",
    "FEATURES = cfg.exp.features\n",
    "MODEL = cfg.exp.model\n",
    "results = [\"\", f\"-----{PREDICT_YEAR}-----\", now ,name, cfg.exp.print_name,\"\"]"
   ]
  },
  {
   "cell_type": "code",
   "execution_count": 5,
   "id": "068639fd",
   "metadata": {
    "execution": {
     "iopub.execute_input": "2025-03-14T08:39:15.790055Z",
     "iopub.status.busy": "2025-03-14T08:39:15.790055Z",
     "iopub.status.idle": "2025-03-14T08:39:17.190697Z",
     "shell.execute_reply": "2025-03-14T08:39:17.189807Z"
    },
    "papermill": {
     "duration": 1.41661,
     "end_time": "2025-03-14T08:39:17.190697",
     "exception": false,
     "start_time": "2025-03-14T08:39:15.774087",
     "status": "completed"
    },
    "tags": []
   },
   "outputs": [],
   "source": [
    "tourney_results = pd.concat([\n",
    "    pd.read_csv(os.path.join(INPUT_PATH,\"MNCAATourneyDetailedResults.csv\")),\n",
    "    pd.read_csv(os.path.join(INPUT_PATH,\"WNCAATourneyDetailedResults.csv\")),\n",
    "], ignore_index=True)\n",
    "\n",
    "seeds = pd.concat([\n",
    "    pd.read_csv(os.path.join(INPUT_PATH,\"MNCAATourneySeeds.csv\")),\n",
    "    pd.read_csv(os.path.join(INPUT_PATH,\"WNCAATourneySeeds.csv\")),\n",
    "], ignore_index=True)\n",
    "\n",
    "regular_results = pd.concat([\n",
    "    pd.read_csv(os.path.join(INPUT_PATH, \"MRegularSeasonDetailedResults.csv\")),\n",
    "    pd.read_csv(os.path.join(INPUT_PATH,\"WRegularSeasonDetailedResults.csv\")),\n",
    "], ignore_index=True)\n",
    "\n",
    "ordinal_rank = pd.read_csv(os.path.join(INPUT_PATH, \"MMasseyOrdinals.csv\"))\n",
    "\n",
    "# 1試合情報からWin,Lose反転させてデータ数２倍にかさまし and WLoc -> location(0 or -1 or 1)\n",
    "def prepare_data(df1):\n",
    "    df = df1.copy()\n",
    "    ### add new box score\n",
    "    #type1: normal EFG\n",
    "    df['WEFFG'] = df['WFGM'] / df['WFGA']\n",
    "    df['LEFFG'] = df['LFGM'] / df['LFGA']\n",
    "    #type2: 1stfeature EFG\n",
    "    df['WEFFG3'] = np.where(df['WFGA3'] == 0, 0, df['WFGM3'] / df['WFGA3'])\n",
    "    df['LEFFG3'] = np.where(df['LFGA3'] == 0, 0, df['LFGM3'] / df['LFGA3'])\n",
    "    df['WDARE'] = df['WFGM3'] / df['WFGM']\n",
    "    df['LDARE'] = df['LFGM3'] / df['LFGM']\n",
    "    df['WTOQUETOQUE'] = df['WAst'] / df['WFGM']\n",
    "    df['LTOQUETOQUE'] = df['LAst'] / df['LFGM']\n",
    "    #type3: OFF/DEF FGE\n",
    "    df[\"WEFG_SUM\"] = (df[\"WFGM\"]+0.5*df[\"WFGM3\"])/df[\"WFGA\"]\n",
    "    df[\"LEFG_SUM\"] = (df[\"LFGM\"]+0.5*df[\"LFGM3\"])/df[\"LFGA\"]\n",
    "\n",
    "    #POSS RATE\n",
    "    df[\"WPOSS\"] = df[\"WFGA\"] + 0.44*df[\"WFTA\"] - df[\"WOR\"] + df[\"WTO\"]\n",
    "    df[\"LPOSS\"] = df[\"LFGA\"] + 0.44*df[\"LFTA\"] - df[\"LOR\"] + df[\"LTO\"]\n",
    "    df[\"WPOSS_RATE\"] = df[\"WPOSS\"]/(df[\"WPOSS\"]+df[\"LPOSS\"])\n",
    "    df[\"LPOSS_RATE\"] = df[\"LPOSS\"]/(df[\"WPOSS\"]+df[\"LPOSS\"])\n",
    "    \n",
    "    #TO Ratio \n",
    "    df[\"WTO_RATIO\"] = df[\"WTO\"]/(df[\"WFGA\"]+0.44*df[\"WFTA\"]+df[\"WTO\"])#POSS RATEと違ってOR入っていない\n",
    "    df[\"LTO_RATIO\"] = df[\"LTO\"]/(df[\"LFGA\"]+0.44*df[\"LFTA\"]+df[\"LTO\"])\n",
    "    \n",
    "    # REB%\n",
    "    df[\"WREB_RATE\"] = df[\"WOR\"]/(df[\"WOR\"]+df[\"LDR\"])\n",
    "    df[\"LREB_RATE\"] = df[\"LOR\"]/(df[\"LOR\"]+df[\"WDR\"])\n",
    "    \n",
    "    #FT %\n",
    "    df[\"WFT_RATE\"] = df[\"WFTA\"]/df[\"WFGA\"]\n",
    "    df[\"LFT_RATE\"] = df[\"LFTA\"]/df[\"LFGA\"]\n",
    "    \n",
    "    #rating\n",
    "    df[\"WRATING\"] = df[\"WScore\"]/df[\"WPOSS\"]\n",
    "    df[\"LRATING\"] = df[\"LScore\"]/df[\"LPOSS\"]\n",
    "        \n",
    "    #0除算補完\n",
    "    print(df.info())\n",
    "        \n",
    "    #かさましに伴う反転カラム\n",
    "    dfswap = df.copy()\n",
    "    # Home, Away変換して反転\n",
    "    dfswap.loc[df['WLoc'] == 'H', 'WLoc'] = 'A'\n",
    "    dfswap.loc[df['WLoc'] == 'A', 'WLoc'] = 'H'\n",
    "    df.columns.values[6] = 'location'\n",
    "    dfswap.columns.values[6] = 'location'    \n",
    "    #反転\n",
    "    df.columns = [x.replace('W','T1_').replace('L','T2_') for x in list(df.columns)]\n",
    "    dfswap.columns = [x.replace('L','T1_').replace('W','T2_') for x in list(dfswap.columns)]\n",
    "    output = pd.concat([df, dfswap]).reset_index(drop=True)\n",
    "    \n",
    "    \n",
    "    #add new feature\n",
    "    #locationを数値に変換\n",
    "    output.loc[output.location=='N','location'] = '0'\n",
    "    output.loc[output.location=='H','location'] = '1'\n",
    "    output.loc[output.location=='A','location'] = '-1'\n",
    "    output.location = output.location.astype(int)\n",
    "    \n",
    "    #add PointDiff&win\n",
    "    output['PointDiff'] = output['T1_Score'] - output['T2_Score']\n",
    "    output[\"win\"] = np.where(output['PointDiff']>0,1,0)\n",
    "    \n",
    "    \n",
    "    print(f\"feature cols after prepare()\")\n",
    "    print(output.columns)\n",
    "    return output\n",
    "\n"
   ]
  },
  {
   "cell_type": "code",
   "execution_count": 6,
   "id": "94d3e470",
   "metadata": {
    "execution": {
     "iopub.execute_input": "2025-03-14T08:39:17.190697Z",
     "iopub.status.busy": "2025-03-14T08:39:17.190697Z",
     "iopub.status.idle": "2025-03-14T08:39:17.265849Z",
     "shell.execute_reply": "2025-03-14T08:39:17.265849Z"
    },
    "papermill": {
     "duration": 0.075152,
     "end_time": "2025-03-14T08:39:17.265849",
     "exception": false,
     "start_time": "2025-03-14T08:39:17.190697",
     "status": "completed"
    },
    "tags": []
   },
   "outputs": [
    {
     "name": "stdout",
     "output_type": "stream",
     "text": [
      "各カラムの異常値の個数を表示します。\n",
      "\n"
     ]
    }
   ],
   "source": [
    "import numpy as np\n",
    "\n",
    "# 異常値のチェック\n",
    "def check_abnormal_values(df):\n",
    "    print(\"各カラムの異常値の個数を表示します。\\n\")\n",
    "\n",
    "    for col in df.columns:\n",
    "        nan_count = df[col].isna().sum()  # NaN の数\n",
    "        inf_count = (df[col] == np.inf).sum()  # inf の数\n",
    "        neg_inf_count = (df[col] == -np.inf).sum()  # -inf の数\n",
    "\n",
    "        if nan_count > 0 or inf_count > 0 or neg_inf_count > 0:\n",
    "            print(f\"Column: {col}\")\n",
    "            print(f\"  NaN    : {nan_count}\")\n",
    "            print(f\"  Inf    : {inf_count}\")\n",
    "            print(f\"  -Inf   : {neg_inf_count}\")\n",
    "            print(\"-\" * 30)\n",
    "\n",
    "# 関数を実行\n",
    "check_abnormal_values(regular_results)\n"
   ]
  },
  {
   "cell_type": "code",
   "execution_count": 7,
   "id": "9bbcba4b",
   "metadata": {
    "execution": {
     "iopub.execute_input": "2025-03-14T08:39:17.273797Z",
     "iopub.status.busy": "2025-03-14T08:39:17.273797Z",
     "iopub.status.idle": "2025-03-14T08:39:17.658716Z",
     "shell.execute_reply": "2025-03-14T08:39:17.658716Z"
    },
    "papermill": {
     "duration": 0.385421,
     "end_time": "2025-03-14T08:39:17.658716",
     "exception": false,
     "start_time": "2025-03-14T08:39:17.273295",
     "status": "completed"
    },
    "tags": []
   },
   "outputs": [
    {
     "name": "stdout",
     "output_type": "stream",
     "text": [
      "<class 'pandas.core.frame.DataFrame'>\n",
      "Index: 139193 entries, 0 to 170137\n",
      "Data columns (total 56 columns):\n",
      " #   Column       Non-Null Count   Dtype  \n",
      "---  ------       --------------   -----  \n",
      " 0   Season       139193 non-null  int64  \n",
      " 1   DayNum       139193 non-null  int64  \n",
      " 2   WTeamID      139193 non-null  int64  \n",
      " 3   WScore       139193 non-null  int64  \n",
      " 4   LTeamID      139193 non-null  int64  \n",
      " 5   LScore       139193 non-null  int64  \n",
      " 6   WLoc         139193 non-null  object \n",
      " 7   NumOT        139193 non-null  int64  \n",
      " 8   WFGM         139193 non-null  int64  \n",
      " 9   WFGA         139193 non-null  int64  \n",
      " 10  WFGM3        139193 non-null  int64  \n",
      " 11  WFGA3        139193 non-null  int64  \n",
      " 12  WFTM         139193 non-null  int64  \n",
      " 13  WFTA         139193 non-null  int64  \n",
      " 14  WOR          139193 non-null  int64  \n",
      " 15  WDR          139193 non-null  int64  \n",
      " 16  WAst         139193 non-null  int64  \n",
      " 17  WTO          139193 non-null  int64  \n",
      " 18  WStl         139193 non-null  int64  \n",
      " 19  WBlk         139193 non-null  int64  \n",
      " 20  WPF          139193 non-null  int64  \n",
      " 21  LFGM         139193 non-null  int64  \n",
      " 22  LFGA         139193 non-null  int64  \n",
      " 23  LFGM3        139193 non-null  int64  \n",
      " 24  LFGA3        139193 non-null  int64  \n",
      " 25  LFTM         139193 non-null  int64  \n",
      " 26  LFTA         139193 non-null  int64  \n",
      " 27  LOR          139193 non-null  int64  \n",
      " 28  LDR          139193 non-null  int64  \n",
      " 29  LAst         139193 non-null  int64  \n",
      " 30  LTO          139193 non-null  int64  \n",
      " 31  LStl         139193 non-null  int64  \n",
      " 32  LBlk         139193 non-null  int64  \n",
      " 33  LPF          139193 non-null  int64  \n",
      " 34  WEFFG        139193 non-null  float64\n",
      " 35  LEFFG        139193 non-null  float64\n",
      " 36  WEFFG3       139193 non-null  float64\n",
      " 37  LEFFG3       139193 non-null  float64\n",
      " 38  WDARE        139193 non-null  float64\n",
      " 39  LDARE        139193 non-null  float64\n",
      " 40  WTOQUETOQUE  139193 non-null  float64\n",
      " 41  LTOQUETOQUE  139193 non-null  float64\n",
      " 42  WEFG_SUM     139193 non-null  float64\n",
      " 43  LEFG_SUM     139193 non-null  float64\n",
      " 44  WPOSS        139193 non-null  float64\n",
      " 45  LPOSS        139193 non-null  float64\n",
      " 46  WPOSS_RATE   139193 non-null  float64\n",
      " 47  LPOSS_RATE   139193 non-null  float64\n",
      " 48  WTO_RATIO    139193 non-null  float64\n",
      " 49  LTO_RATIO    139193 non-null  float64\n",
      " 50  WREB_RATE    139193 non-null  float64\n",
      " 51  LREB_RATE    139193 non-null  float64\n",
      " 52  WFT_RATE     139193 non-null  float64\n",
      " 53  LFT_RATE     139193 non-null  float64\n",
      " 54  WRATING      139193 non-null  float64\n",
      " 55  LRATING      139193 non-null  float64\n",
      "dtypes: float64(22), int64(33), object(1)\n",
      "memory usage: 60.5+ MB\n",
      "None\n"
     ]
    },
    {
     "name": "stdout",
     "output_type": "stream",
     "text": [
      "feature cols after prepare()\n",
      "Index(['Season', 'DayNum', 'T1_TeamID', 'T1_Score', 'T2_TeamID', 'T2_Score',\n",
      "       'location', 'NumOT', 'T1_FGM', 'T1_FGA', 'T1_FGM3', 'T1_FGA3', 'T1_FTM',\n",
      "       'T1_FTA', 'T1_OR', 'T1_DR', 'T1_Ast', 'T1_TO', 'T1_Stl', 'T1_Blk',\n",
      "       'T1_PF', 'T2_FGM', 'T2_FGA', 'T2_FGM3', 'T2_FGA3', 'T2_FTM', 'T2_FTA',\n",
      "       'T2_OR', 'T2_DR', 'T2_Ast', 'T2_TO', 'T2_Stl', 'T2_Blk', 'T2_PF',\n",
      "       'T1_EFFG', 'T2_EFFG', 'T1_EFFG3', 'T2_EFFG3', 'T1_DARE', 'T2_DARE',\n",
      "       'T1_TOQUETOQUE', 'T2_TOQUETOQUE', 'T1_EFG_SUM', 'T2_EFG_SUM', 'T1_POSS',\n",
      "       'T2_POSS', 'T1_POSS_RATE', 'T2_POSS_RATE', 'T1_TO_RATIO', 'T2_TO_RATIO',\n",
      "       'T1_REB_RATE', 'T2_REB_RATE', 'T1_FT_RATE', 'T2_FT_RATE', 'T1_RATING',\n",
      "       'T2_RATING', 'PointDiff', 'win'],\n",
      "      dtype='object')\n",
      "<class 'pandas.core.frame.DataFrame'>\n",
      "RangeIndex: 278386 entries, 0 to 278385\n",
      "Data columns (total 58 columns):\n",
      " #   Column         Non-Null Count   Dtype  \n",
      "---  ------         --------------   -----  \n",
      " 0   Season         278386 non-null  int64  \n",
      " 1   DayNum         278386 non-null  int64  \n",
      " 2   T1_TeamID      278386 non-null  int64  \n",
      " 3   T1_Score       278386 non-null  int64  \n",
      " 4   T2_TeamID      278386 non-null  int64  \n",
      " 5   T2_Score       278386 non-null  int64  \n",
      " 6   location       278386 non-null  int32  \n",
      " 7   NumOT          278386 non-null  int64  \n",
      " 8   T1_FGM         278386 non-null  int64  \n",
      " 9   T1_FGA         278386 non-null  int64  \n",
      " 10  T1_FGM3        278386 non-null  int64  \n",
      " 11  T1_FGA3        278386 non-null  int64  \n",
      " 12  T1_FTM         278386 non-null  int64  \n",
      " 13  T1_FTA         278386 non-null  int64  \n",
      " 14  T1_OR          278386 non-null  int64  \n",
      " 15  T1_DR          278386 non-null  int64  \n",
      " 16  T1_Ast         278386 non-null  int64  \n",
      " 17  T1_TO          278386 non-null  int64  \n",
      " 18  T1_Stl         278386 non-null  int64  \n",
      " 19  T1_Blk         278386 non-null  int64  \n",
      " 20  T1_PF          278386 non-null  int64  \n",
      " 21  T2_FGM         278386 non-null  int64  \n",
      " 22  T2_FGA         278386 non-null  int64  \n",
      " 23  T2_FGM3        278386 non-null  int64  \n",
      " 24  T2_FGA3        278386 non-null  int64  \n",
      " 25  T2_FTM         278386 non-null  int64  \n",
      " 26  T2_FTA         278386 non-null  int64  \n",
      " 27  T2_OR          278386 non-null  int64  \n",
      " 28  T2_DR          278386 non-null  int64  \n",
      " 29  T2_Ast         278386 non-null  int64  \n",
      " 30  T2_TO          278386 non-null  int64  \n",
      " 31  T2_Stl         278386 non-null  int64  \n",
      " 32  T2_Blk         278386 non-null  int64  \n",
      " 33  T2_PF          278386 non-null  int64  \n",
      " 34  T1_EFFG        278386 non-null  float64\n",
      " 35  T2_EFFG        278386 non-null  float64\n",
      " 36  T1_EFFG3       278386 non-null  float64\n",
      " 37  T2_EFFG3       278386 non-null  float64\n",
      " 38  T1_DARE        278386 non-null  float64\n",
      " 39  T2_DARE        278386 non-null  float64\n",
      " 40  T1_TOQUETOQUE  278386 non-null  float64\n",
      " 41  T2_TOQUETOQUE  278386 non-null  float64\n",
      " 42  T1_EFG_SUM     278386 non-null  float64\n",
      " 43  T2_EFG_SUM     278386 non-null  float64\n",
      " 44  T1_POSS        278386 non-null  float64\n",
      " 45  T2_POSS        278386 non-null  float64\n",
      " 46  T1_POSS_RATE   278386 non-null  float64\n",
      " 47  T2_POSS_RATE   278386 non-null  float64\n",
      " 48  T1_TO_RATIO    278386 non-null  float64\n",
      " 49  T2_TO_RATIO    278386 non-null  float64\n",
      " 50  T1_REB_RATE    278386 non-null  float64\n",
      " 51  T2_REB_RATE    278386 non-null  float64\n",
      " 52  T1_FT_RATE     278386 non-null  float64\n",
      " 53  T2_FT_RATE     278386 non-null  float64\n",
      " 54  T1_RATING      278386 non-null  float64\n",
      " 55  T2_RATING      278386 non-null  float64\n",
      " 56  PointDiff      278386 non-null  int64  \n",
      " 57  win            278386 non-null  int32  \n",
      "dtypes: float64(22), int32(2), int64(34)\n",
      "memory usage: 121.1 MB\n"
     ]
    },
    {
     "data": {
      "text/html": [
       "<div>\n",
       "<style scoped>\n",
       "    .dataframe tbody tr th:only-of-type {\n",
       "        vertical-align: middle;\n",
       "    }\n",
       "\n",
       "    .dataframe tbody tr th {\n",
       "        vertical-align: top;\n",
       "    }\n",
       "\n",
       "    .dataframe thead th {\n",
       "        text-align: right;\n",
       "    }\n",
       "</style>\n",
       "<table border=\"1\" class=\"dataframe\">\n",
       "  <thead>\n",
       "    <tr style=\"text-align: right;\">\n",
       "      <th></th>\n",
       "      <th>Season</th>\n",
       "      <th>DayNum</th>\n",
       "      <th>T1_TeamID</th>\n",
       "      <th>T1_Score</th>\n",
       "      <th>T2_TeamID</th>\n",
       "      <th>T2_Score</th>\n",
       "      <th>location</th>\n",
       "      <th>NumOT</th>\n",
       "      <th>T1_FGM</th>\n",
       "      <th>T1_FGA</th>\n",
       "      <th>...</th>\n",
       "      <th>T1_TO_RATIO</th>\n",
       "      <th>T2_TO_RATIO</th>\n",
       "      <th>T1_REB_RATE</th>\n",
       "      <th>T2_REB_RATE</th>\n",
       "      <th>T1_FT_RATE</th>\n",
       "      <th>T2_FT_RATE</th>\n",
       "      <th>T1_RATING</th>\n",
       "      <th>T2_RATING</th>\n",
       "      <th>PointDiff</th>\n",
       "      <th>win</th>\n",
       "    </tr>\n",
       "  </thead>\n",
       "  <tbody>\n",
       "    <tr>\n",
       "      <th>0</th>\n",
       "      <td>2003</td>\n",
       "      <td>10</td>\n",
       "      <td>1104</td>\n",
       "      <td>68</td>\n",
       "      <td>1328</td>\n",
       "      <td>62</td>\n",
       "      <td>0</td>\n",
       "      <td>0</td>\n",
       "      <td>27</td>\n",
       "      <td>58</td>\n",
       "      <td>...</td>\n",
       "      <td>0.258659</td>\n",
       "      <td>0.223104</td>\n",
       "      <td>0.388889</td>\n",
       "      <td>0.294118</td>\n",
       "      <td>0.310345</td>\n",
       "      <td>0.415094</td>\n",
       "      <td>0.907635</td>\n",
       "      <td>0.877193</td>\n",
       "      <td>6</td>\n",
       "      <td>1</td>\n",
       "    </tr>\n",
       "    <tr>\n",
       "      <th>1</th>\n",
       "      <td>2003</td>\n",
       "      <td>10</td>\n",
       "      <td>1272</td>\n",
       "      <td>70</td>\n",
       "      <td>1393</td>\n",
       "      <td>63</td>\n",
       "      <td>0</td>\n",
       "      <td>0</td>\n",
       "      <td>26</td>\n",
       "      <td>62</td>\n",
       "      <td>...</td>\n",
       "      <td>0.155950</td>\n",
       "      <td>0.136674</td>\n",
       "      <td>0.375000</td>\n",
       "      <td>0.416667</td>\n",
       "      <td>0.306452</td>\n",
       "      <td>0.298507</td>\n",
       "      <td>1.023991</td>\n",
       "      <td>0.929204</td>\n",
       "      <td>7</td>\n",
       "      <td>1</td>\n",
       "    </tr>\n",
       "    <tr>\n",
       "      <th>2</th>\n",
       "      <td>2003</td>\n",
       "      <td>11</td>\n",
       "      <td>1266</td>\n",
       "      <td>73</td>\n",
       "      <td>1437</td>\n",
       "      <td>61</td>\n",
       "      <td>0</td>\n",
       "      <td>0</td>\n",
       "      <td>24</td>\n",
       "      <td>58</td>\n",
       "      <td>...</td>\n",
       "      <td>0.123824</td>\n",
       "      <td>0.126156</td>\n",
       "      <td>0.435897</td>\n",
       "      <td>0.543860</td>\n",
       "      <td>0.500000</td>\n",
       "      <td>0.315068</td>\n",
       "      <td>1.144918</td>\n",
       "      <td>0.951341</td>\n",
       "      <td>12</td>\n",
       "      <td>1</td>\n",
       "    </tr>\n",
       "    <tr>\n",
       "      <th>3</th>\n",
       "      <td>2003</td>\n",
       "      <td>11</td>\n",
       "      <td>1296</td>\n",
       "      <td>56</td>\n",
       "      <td>1457</td>\n",
       "      <td>50</td>\n",
       "      <td>0</td>\n",
       "      <td>0</td>\n",
       "      <td>18</td>\n",
       "      <td>38</td>\n",
       "      <td>...</td>\n",
       "      <td>0.188561</td>\n",
       "      <td>0.254692</td>\n",
       "      <td>0.230769</td>\n",
       "      <td>0.472222</td>\n",
       "      <td>0.815789</td>\n",
       "      <td>0.306122</td>\n",
       "      <td>0.971548</td>\n",
       "      <td>0.868056</td>\n",
       "      <td>6</td>\n",
       "      <td>1</td>\n",
       "    </tr>\n",
       "    <tr>\n",
       "      <th>4</th>\n",
       "      <td>2003</td>\n",
       "      <td>11</td>\n",
       "      <td>1400</td>\n",
       "      <td>77</td>\n",
       "      <td>1208</td>\n",
       "      <td>71</td>\n",
       "      <td>0</td>\n",
       "      <td>0</td>\n",
       "      <td>30</td>\n",
       "      <td>61</td>\n",
       "      <td>...</td>\n",
       "      <td>0.173439</td>\n",
       "      <td>0.119218</td>\n",
       "      <td>0.531250</td>\n",
       "      <td>0.488372</td>\n",
       "      <td>0.213115</td>\n",
       "      <td>0.435484</td>\n",
       "      <td>1.208412</td>\n",
       "      <td>1.129135</td>\n",
       "      <td>6</td>\n",
       "      <td>1</td>\n",
       "    </tr>\n",
       "  </tbody>\n",
       "</table>\n",
       "<p>5 rows × 58 columns</p>\n",
       "</div>"
      ],
      "text/plain": [
       "   Season  DayNum  T1_TeamID  T1_Score  T2_TeamID  T2_Score  location  NumOT  \\\n",
       "0    2003      10       1104        68       1328        62         0      0   \n",
       "1    2003      10       1272        70       1393        63         0      0   \n",
       "2    2003      11       1266        73       1437        61         0      0   \n",
       "3    2003      11       1296        56       1457        50         0      0   \n",
       "4    2003      11       1400        77       1208        71         0      0   \n",
       "\n",
       "   T1_FGM  T1_FGA  ...  T1_TO_RATIO  T2_TO_RATIO  T1_REB_RATE  T2_REB_RATE  \\\n",
       "0      27      58  ...     0.258659     0.223104     0.388889     0.294118   \n",
       "1      26      62  ...     0.155950     0.136674     0.375000     0.416667   \n",
       "2      24      58  ...     0.123824     0.126156     0.435897     0.543860   \n",
       "3      18      38  ...     0.188561     0.254692     0.230769     0.472222   \n",
       "4      30      61  ...     0.173439     0.119218     0.531250     0.488372   \n",
       "\n",
       "   T1_FT_RATE  T2_FT_RATE  T1_RATING  T2_RATING  PointDiff  win  \n",
       "0    0.310345    0.415094   0.907635   0.877193          6    1  \n",
       "1    0.306452    0.298507   1.023991   0.929204          7    1  \n",
       "2    0.500000    0.315068   1.144918   0.951341         12    1  \n",
       "3    0.815789    0.306122   0.971548   0.868056          6    1  \n",
       "4    0.213115    0.435484   1.208412   1.129135          6    1  \n",
       "\n",
       "[5 rows x 58 columns]"
      ]
     },
     "metadata": {},
     "output_type": "display_data"
    },
    {
     "data": {
      "text/plain": [
       "None"
      ]
     },
     "metadata": {},
     "output_type": "display_data"
    }
   ],
   "source": [
    "#予測する年以降の情報はフィルタリング\n",
    "USE_START_YEAR = cfg.exp.tournament.use_start_season\n",
    "notexist = tourney_results[tourney_results[\"Season\"] == PREDICT_YEAR]\n",
    "tourney_results = tourney_results[(tourney_results[\"Season\"] >= USE_START_YEAR) & (tourney_results[\"Season\"] < PREDICT_YEAR)]\n",
    "seeds = seeds[(seeds[\"Season\"] >= USE_START_YEAR) & (seeds[\"Season\"] <= PREDICT_YEAR)]\n",
    "regular_results = regular_results[(regular_results[\"Season\"] >= USE_START_YEAR) & (regular_results[\"Season\"] <= PREDICT_YEAR)]\n",
    "\n",
    "regular_data = prepare_data(regular_results)\n",
    "display(regular_data.head(), regular_data.info())"
   ]
  },
  {
   "cell_type": "code",
   "execution_count": 8,
   "id": "fa2655d4",
   "metadata": {
    "execution": {
     "iopub.execute_input": "2025-03-14T08:39:17.674478Z",
     "iopub.status.busy": "2025-03-14T08:39:17.674478Z",
     "iopub.status.idle": "2025-03-14T08:39:17.687264Z",
     "shell.execute_reply": "2025-03-14T08:39:17.687264Z"
    },
    "papermill": {
     "duration": 0.028548,
     "end_time": "2025-03-14T08:39:17.687264",
     "exception": false,
     "start_time": "2025-03-14T08:39:17.658716",
     "status": "completed"
    },
    "tags": []
   },
   "outputs": [],
   "source": [
    "#使用特徴量(boxscore_cols)を取得してそれに対して(\"Season\", 'T1_TeamID')でまとめた特徴量の追加\n",
    "#### 1. win_ration_14d ####\n",
    "def add_win_ratio_14d(df):\n",
    "    df_filtered = df[df['DayNum'] > 118].copy()\n",
    "    df_filtered['Win'] = (df_filtered['PointDiff'] > 0).astype(int)\n",
    "    \n",
    "    win_ratio_t1 = df_filtered.groupby(['Season', 'T1_TeamID'])['Win'].mean().reset_index()\n",
    "    win_ratio_t1.rename(columns={'Win': 'T1_win_ratio_14d'}, inplace=True)\n",
    "    \n",
    "    win_ratio_t2 = df_filtered.groupby(['Season', 'T2_TeamID'])['Win'].mean().reset_index()\n",
    "    win_ratio_t2.rename(columns={'Win': 'T2_win_ratio_14d'}, inplace=True)\n",
    "    \n",
    "    df = df.merge(win_ratio_t1, on=['Season', 'T1_TeamID'], how='left')\n",
    "    df = df.merge(win_ratio_t2, on=['Season', 'T2_TeamID'], how='left')\n",
    "    \n",
    "    return df\n",
    "\n",
    "##### 2. add mean of boxscore ####\n",
    "def make_col_avg(df, boxscore, group = [\"Season\", \"T1_TeamID\"], func= [np.mean]):\n",
    "    df_stat = df.groupby(group)[boxscore].agg(func)\n",
    "    df_stat.columns = [''.join(col).strip() for col in df_stat.columns.values]\n",
    "    df_stat = df_stat.reset_index()\n",
    "\n",
    "    win_ratio_cols = ['T1_win_ratio_14d'] #ここマージの関係からT2_win_ratio_14dを外したけど大丈夫か考える\n",
    "    df_win_ratio = df[group + win_ratio_cols].drop_duplicates()\n",
    "    df_stat = df_stat.merge(df_win_ratio, on=group, how='left')\n",
    "    \n",
    "    return df_stat\n",
    "\n",
    "#### 3. add team quality ####\n",
    "# 3.0 ロジスティックを行うためのregular_season_effectsデータフレームの作成\n",
    "def make_regular_season_effects(df):\n",
    "    regular_season_effects = df[['Season', 'T1_TeamID', 'T2_TeamID', 'PointDiff']].copy()\n",
    "    regular_season_effects['win'] = np.where(regular_season_effects['PointDiff'] > 0, 1, 0)\n",
    "    return regular_season_effects\n",
    "\n",
    "# 3.1\n",
    "#各シーズンごとの総当たりに対するロジスティック回帰を行う\n",
    "#目的変数はfeatureenginneringから作成したPointDiffの正負に依存するWinとする.\n",
    "#新たな特徴量\"quarity\"をseasonごとの戦績をもとにロジスティックの回帰係数として導入している\n",
    "def team_quality(season,df):\n",
    "    season_data = df[df[\"Season\"] == season]\n",
    "    X = season_data[['T1_TeamID', 'T2_TeamID']]\n",
    "    y = season_data['win']\n",
    "    print(X.shape, y.shape)\n",
    "    encoder = OneHotEncoder(sparse_output=False) #多重共線性防止, 密行列指定\n",
    "    X_encoded = encoder.fit_transform(X)\n",
    "    \n",
    "    model = LogisticRegression(fit_intercept=False)\n",
    "    model.fit(X_encoded, y)\n",
    "    team_ids = encoder.get_feature_names_out(['T1_TeamID', 'T2_TeamID'])\n",
    "\n",
    "    \n",
    "    #quarity: (チーム数)*2(ID, 回帰係数)\n",
    "    quality = pd.DataFrame({\n",
    "        'TeamID': team_ids,\n",
    "        'quality': model.coef_.flatten() #T1_TeamID_1112,,,の形でチーム数分の回帰係数が入る\n",
    "    })\n",
    "\n",
    "    # 値をint 1112 のように整形\n",
    "    quality = quality[quality['TeamID'].str.contains('T1_TeamID')]\n",
    "    quality['TeamID'] = quality['TeamID'].str.replace('T1_TeamID_', '', regex=True).astype(int)\n",
    "    quality['Season'] = season\n",
    "\n",
    "    #display(quality.head())\n",
    "    print(f\"fin make {season}'s team quarity\")\n",
    "    return quality\n",
    "\n",
    "# 4. add seed\n",
    "def add_seed(df, seeds):\n",
    "    temp = seeds.copy()\n",
    "    temp['Seed'] = temp['Seed'].apply(lambda x: int(x[1:3]))\n",
    "    temp.columns = ['Season','T1_seed','T1_TeamID']\n",
    "    df = pd.merge(df, temp, on=[\"Season\", \"T1_TeamID\"], how=\"left\")\n",
    "    return df \n",
    "\n",
    "# 5. add Ordinal rank\n",
    "def add_ordinalrank(df, ordinal):\n",
    "    df_rank = ordinal.groupby([\"Season\", \"TeamID\"])[\"OrdinalRank\"].agg(np.mean).reset_index()\n",
    "    df_rank.head()\n",
    "    ranks = df_rank.rename(columns={'TeamID': 'T1_TeamID', 'OrdinalRank': 'T1_OrdinalRank'})\n",
    "    df = pd.merge(df,ranks,on = [\"Season\",\"T1_TeamID\"],how = \"left\")\n",
    "    return df\n",
    "\n",
    "# main \n",
    "def make_season_statistics(df, boxscore, seeds, func = [np.mean]):\n",
    "    # 1. Win Ratio の計算と追加\n",
    "    add_win = add_win_ratio_14d(df)\n",
    "    print(\"after add win ratio\")\n",
    "    print(add_win.columns)  \n",
    "    \n",
    "    #2. \n",
    "    add_mean = make_col_avg(add_win, boxscore)\n",
    "    print(\"after mean of boxscore\")\n",
    "    print(add_mean.columns)\n",
    "    \n",
    "    #3. \n",
    "    global PREDICT_YEAR, USE_START_YEAR\n",
    "    start_season = max(FEATURES.start_quality_season, USE_START_YEAR)\n",
    "    print(f\"use season for quality feature is: {start_season}\")\n",
    "    regular_season_effects = make_regular_season_effects(df)\n",
    "    glm_season = [i for i in range(start_season, PREDICT_YEAR+1)]\n",
    "\n",
    "    if 2020 in glm_season:\n",
    "        glm_season.remove(2020)\n",
    "    glm_quality = pd.concat([team_quality(season, regular_season_effects) for season in glm_season]).reset_index(drop=True)\n",
    "    # add glm quality \n",
    "    glm_quality_T1 = glm_quality.rename(columns={'TeamID': 'T1_TeamID', 'quality': 'T1_quality'})\n",
    "    add_glm = add_mean.merge(glm_quality_T1, on=['Season', 'T1_TeamID'], how='left')\n",
    "\n",
    "    print(\"add glm quality\")\n",
    "    print(add_glm.columns)\n",
    "    \n",
    "    #4. \n",
    "    add_seeds = add_seed(add_glm, seeds)\n",
    "    print(\"add seeds (final form)\")\n",
    "    print(add_seeds.columns)\n",
    "    \n",
    "    #5. \n",
    "    add_rank = add_ordinalrank(add_seeds, ordinal_rank)\n",
    "    print(\"add ordinal rank\")\n",
    "    print(add_rank.columns)  \n",
    "    return add_rank"
   ]
  },
  {
   "cell_type": "code",
   "execution_count": 9,
   "id": "5c5be990",
   "metadata": {
    "execution": {
     "iopub.execute_input": "2025-03-14T08:39:17.694160Z",
     "iopub.status.busy": "2025-03-14T08:39:17.694160Z",
     "iopub.status.idle": "2025-03-14T08:39:20.621597Z",
     "shell.execute_reply": "2025-03-14T08:39:20.621597Z"
    },
    "papermill": {
     "duration": 2.927437,
     "end_time": "2025-03-14T08:39:20.621597",
     "exception": false,
     "start_time": "2025-03-14T08:39:17.694160",
     "status": "completed"
    },
    "tags": []
   },
   "outputs": [
    {
     "name": "stdout",
     "output_type": "stream",
     "text": [
      "use boxscore col is\n",
      "['T1_Score', 'T2_Score', 'PointDiff', 'T1_FGM', 'T2_FGM', 'T1_FGA', 'T2_FGA', 'T1_EFG_SUM', 'T2_EFG_SUM', 'T1_TO_RATIO', 'T2_TO_RATIO', 'T1_OR', 'T2_OR', 'T1_DR', 'T2_DR', 'T1_REB_RATE', 'T2_REB_RATE', 'T1_FT_RATE', 'T2_FT_RATE', 'T1_POSS_RATE', 'T2_POSS_RATE', 'T1_TO', 'T2_TO', 'T1_Stl', 'T2_Stl', 'T1_Blk', 'T2_Blk', 'T1_PF', 'T2_PF']\n"
     ]
    },
    {
     "name": "stdout",
     "output_type": "stream",
     "text": [
      "after add win ratio\n",
      "Index(['Season', 'DayNum', 'T1_TeamID', 'T1_Score', 'T2_TeamID', 'T2_Score',\n",
      "       'location', 'NumOT', 'T1_FGM', 'T1_FGA', 'T1_FGM3', 'T1_FGA3', 'T1_FTM',\n",
      "       'T1_FTA', 'T1_OR', 'T1_DR', 'T1_Ast', 'T1_TO', 'T1_Stl', 'T1_Blk',\n",
      "       'T1_PF', 'T2_FGM', 'T2_FGA', 'T2_FGM3', 'T2_FGA3', 'T2_FTM', 'T2_FTA',\n",
      "       'T2_OR', 'T2_DR', 'T2_Ast', 'T2_TO', 'T2_Stl', 'T2_Blk', 'T2_PF',\n",
      "       'T1_EFFG', 'T2_EFFG', 'T1_EFFG3', 'T2_EFFG3', 'T1_DARE', 'T2_DARE',\n",
      "       'T1_TOQUETOQUE', 'T2_TOQUETOQUE', 'T1_EFG_SUM', 'T2_EFG_SUM', 'T1_POSS',\n",
      "       'T2_POSS', 'T1_POSS_RATE', 'T2_POSS_RATE', 'T1_TO_RATIO', 'T2_TO_RATIO',\n",
      "       'T1_REB_RATE', 'T2_REB_RATE', 'T1_FT_RATE', 'T2_FT_RATE', 'T1_RATING',\n",
      "       'T2_RATING', 'PointDiff', 'win', 'T1_win_ratio_14d',\n",
      "       'T2_win_ratio_14d'],\n",
      "      dtype='object')\n"
     ]
    },
    {
     "name": "stdout",
     "output_type": "stream",
     "text": [
      "after mean of boxscore\n",
      "Index(['Season', 'T1_TeamID', 'T1_Scoremean', 'T2_Scoremean', 'PointDiffmean',\n",
      "       'T1_FGMmean', 'T2_FGMmean', 'T1_FGAmean', 'T2_FGAmean',\n",
      "       'T1_EFG_SUMmean', 'T2_EFG_SUMmean', 'T1_TO_RATIOmean',\n",
      "       'T2_TO_RATIOmean', 'T1_ORmean', 'T2_ORmean', 'T1_DRmean', 'T2_DRmean',\n",
      "       'T1_REB_RATEmean', 'T2_REB_RATEmean', 'T1_FT_RATEmean',\n",
      "       'T2_FT_RATEmean', 'T1_POSS_RATEmean', 'T2_POSS_RATEmean', 'T1_TOmean',\n",
      "       'T2_TOmean', 'T1_Stlmean', 'T2_Stlmean', 'T1_Blkmean', 'T2_Blkmean',\n",
      "       'T1_PFmean', 'T2_PFmean', 'T1_win_ratio_14d'],\n",
      "      dtype='object')\n",
      "use season for quality feature is: 2003\n",
      "(9232, 2) (9232,)\n",
      "fin make 2003's team quarity\n",
      "(9142, 2) (9142,)\n"
     ]
    },
    {
     "name": "stderr",
     "output_type": "stream",
     "text": [
      "C:\\Users\\81809\\AppData\\Local\\Temp\\ipykernel_18960\\386782032.py:20: FutureWarning: The provided callable <function mean at 0x000001B524896520> is currently using SeriesGroupBy.mean. In a future version of pandas, the provided callable will be used directly. To keep current behavior pass the string \"mean\" instead.\n",
      "  df_stat = df.groupby(group)[boxscore].agg(func)\n"
     ]
    },
    {
     "name": "stdout",
     "output_type": "stream",
     "text": [
      "fin make 2004's team quarity\n",
      "(9350, 2) (9350,)\n",
      "fin make 2005's team quarity\n",
      "(9514, 2) (9514,)\n"
     ]
    },
    {
     "name": "stdout",
     "output_type": "stream",
     "text": [
      "fin make 2006's team quarity\n",
      "(10086, 2) (10086,)\n",
      "fin make 2007's team quarity\n",
      "(10326, 2) (10326,)\n",
      "fin make 2008's team quarity\n"
     ]
    },
    {
     "name": "stdout",
     "output_type": "stream",
     "text": [
      "(10498, 2) (10498,)\n",
      "fin make 2009's team quarity\n",
      "(20600, 2) (20600,)\n"
     ]
    },
    {
     "name": "stdout",
     "output_type": "stream",
     "text": [
      "fin make 2010's team quarity\n",
      "(20660, 2) (20660,)\n",
      "fin make 2011's team quarity\n",
      "(20606, 2) (20606,)\n"
     ]
    },
    {
     "name": "stdout",
     "output_type": "stream",
     "text": [
      "fin make 2012's team quarity\n",
      "(21008, 2) (21008,)\n"
     ]
    },
    {
     "name": "stdout",
     "output_type": "stream",
     "text": [
      "fin make 2013's team quarity\n",
      "(21228, 2) (21228,)\n",
      "fin make 2014's team quarity\n",
      "(21136, 2) (21136,)\n"
     ]
    },
    {
     "name": "stdout",
     "output_type": "stream",
     "text": [
      "fin make 2015's team quarity\n",
      "(21156, 2) (21156,)\n",
      "fin make 2016's team quarity\n",
      "(21210, 2) (21210,)\n"
     ]
    },
    {
     "name": "stdout",
     "output_type": "stream",
     "text": [
      "fin make 2017's team quarity\n",
      "(21228, 2) (21228,)\n"
     ]
    },
    {
     "name": "stdout",
     "output_type": "stream",
     "text": [
      "fin make 2018's team quarity\n",
      "(21406, 2) (21406,)\n"
     ]
    },
    {
     "name": "stdout",
     "output_type": "stream",
     "text": [
      "fin make 2019's team quarity\n",
      "add glm quality\n",
      "Index(['Season', 'T1_TeamID', 'T1_Scoremean', 'T2_Scoremean', 'PointDiffmean',\n",
      "       'T1_FGMmean', 'T2_FGMmean', 'T1_FGAmean', 'T2_FGAmean',\n",
      "       'T1_EFG_SUMmean', 'T2_EFG_SUMmean', 'T1_TO_RATIOmean',\n",
      "       'T2_TO_RATIOmean', 'T1_ORmean', 'T2_ORmean', 'T1_DRmean', 'T2_DRmean',\n",
      "       'T1_REB_RATEmean', 'T2_REB_RATEmean', 'T1_FT_RATEmean',\n",
      "       'T2_FT_RATEmean', 'T1_POSS_RATEmean', 'T2_POSS_RATEmean', 'T1_TOmean',\n",
      "       'T2_TOmean', 'T1_Stlmean', 'T2_Stlmean', 'T1_Blkmean', 'T2_Blkmean',\n",
      "       'T1_PFmean', 'T2_PFmean', 'T1_win_ratio_14d', 'T1_quality'],\n",
      "      dtype='object')\n",
      "add seeds (final form)\n",
      "Index(['Season', 'T1_TeamID', 'T1_Scoremean', 'T2_Scoremean', 'PointDiffmean',\n",
      "       'T1_FGMmean', 'T2_FGMmean', 'T1_FGAmean', 'T2_FGAmean',\n",
      "       'T1_EFG_SUMmean', 'T2_EFG_SUMmean', 'T1_TO_RATIOmean',\n",
      "       'T2_TO_RATIOmean', 'T1_ORmean', 'T2_ORmean', 'T1_DRmean', 'T2_DRmean',\n",
      "       'T1_REB_RATEmean', 'T2_REB_RATEmean', 'T1_FT_RATEmean',\n",
      "       'T2_FT_RATEmean', 'T1_POSS_RATEmean', 'T2_POSS_RATEmean', 'T1_TOmean',\n",
      "       'T2_TOmean', 'T1_Stlmean', 'T2_Stlmean', 'T1_Blkmean', 'T2_Blkmean',\n",
      "       'T1_PFmean', 'T2_PFmean', 'T1_win_ratio_14d', 'T1_quality', 'T1_seed'],\n",
      "      dtype='object')\n"
     ]
    },
    {
     "name": "stderr",
     "output_type": "stream",
     "text": [
      "C:\\Users\\81809\\AppData\\Local\\Temp\\ipykernel_18960\\386782032.py:79: FutureWarning: The provided callable <function mean at 0x000001B524896520> is currently using SeriesGroupBy.mean. In a future version of pandas, the provided callable will be used directly. To keep current behavior pass the string \"mean\" instead.\n",
      "  df_rank = ordinal.groupby([\"Season\", \"TeamID\"])[\"OrdinalRank\"].agg(np.mean).reset_index()\n"
     ]
    },
    {
     "name": "stdout",
     "output_type": "stream",
     "text": [
      "add ordinal rank\n",
      "Index(['Season', 'T1_TeamID', 'T1_Scoremean', 'T2_Scoremean', 'PointDiffmean',\n",
      "       'T1_FGMmean', 'T2_FGMmean', 'T1_FGAmean', 'T2_FGAmean',\n",
      "       'T1_EFG_SUMmean', 'T2_EFG_SUMmean', 'T1_TO_RATIOmean',\n",
      "       'T2_TO_RATIOmean', 'T1_ORmean', 'T2_ORmean', 'T1_DRmean', 'T2_DRmean',\n",
      "       'T1_REB_RATEmean', 'T2_REB_RATEmean', 'T1_FT_RATEmean',\n",
      "       'T2_FT_RATEmean', 'T1_POSS_RATEmean', 'T2_POSS_RATEmean', 'T1_TOmean',\n",
      "       'T2_TOmean', 'T1_Stlmean', 'T2_Stlmean', 'T1_Blkmean', 'T2_Blkmean',\n",
      "       'T1_PFmean', 'T2_PFmean', 'T1_win_ratio_14d', 'T1_quality', 'T1_seed',\n",
      "       'T1_OrdinalRank'],\n",
      "      dtype='object')\n"
     ]
    },
    {
     "data": {
      "text/html": [
       "<div>\n",
       "<style scoped>\n",
       "    .dataframe tbody tr th:only-of-type {\n",
       "        vertical-align: middle;\n",
       "    }\n",
       "\n",
       "    .dataframe tbody tr th {\n",
       "        vertical-align: top;\n",
       "    }\n",
       "\n",
       "    .dataframe thead th {\n",
       "        text-align: right;\n",
       "    }\n",
       "</style>\n",
       "<table border=\"1\" class=\"dataframe\">\n",
       "  <thead>\n",
       "    <tr style=\"text-align: right;\">\n",
       "      <th></th>\n",
       "      <th>Season</th>\n",
       "      <th>T1_TeamID</th>\n",
       "      <th>T1_Scoremean</th>\n",
       "      <th>T2_Scoremean</th>\n",
       "      <th>PointDiffmean</th>\n",
       "      <th>T1_FGMmean</th>\n",
       "      <th>T2_FGMmean</th>\n",
       "      <th>T1_FGAmean</th>\n",
       "      <th>T2_FGAmean</th>\n",
       "      <th>T1_EFG_SUMmean</th>\n",
       "      <th>...</th>\n",
       "      <th>T1_Stlmean</th>\n",
       "      <th>T2_Stlmean</th>\n",
       "      <th>T1_Blkmean</th>\n",
       "      <th>T2_Blkmean</th>\n",
       "      <th>T1_PFmean</th>\n",
       "      <th>T2_PFmean</th>\n",
       "      <th>T1_win_ratio_14d</th>\n",
       "      <th>T1_quality</th>\n",
       "      <th>T1_seed</th>\n",
       "      <th>T1_OrdinalRank</th>\n",
       "    </tr>\n",
       "  </thead>\n",
       "  <tbody>\n",
       "    <tr>\n",
       "      <th>9298</th>\n",
       "      <td>2019</td>\n",
       "      <td>3462</td>\n",
       "      <td>60.862069</td>\n",
       "      <td>66.482759</td>\n",
       "      <td>-5.620690</td>\n",
       "      <td>21.896552</td>\n",
       "      <td>24.448276</td>\n",
       "      <td>57.517241</td>\n",
       "      <td>59.758621</td>\n",
       "      <td>0.448019</td>\n",
       "      <td>...</td>\n",
       "      <td>7.586207</td>\n",
       "      <td>7.758621</td>\n",
       "      <td>2.586207</td>\n",
       "      <td>3.172414</td>\n",
       "      <td>15.241379</td>\n",
       "      <td>15.172414</td>\n",
       "      <td>0.0</td>\n",
       "      <td>-0.296941</td>\n",
       "      <td>NaN</td>\n",
       "      <td>NaN</td>\n",
       "    </tr>\n",
       "    <tr>\n",
       "      <th>9299</th>\n",
       "      <td>2019</td>\n",
       "      <td>3463</td>\n",
       "      <td>63.344828</td>\n",
       "      <td>61.551724</td>\n",
       "      <td>1.793103</td>\n",
       "      <td>23.724138</td>\n",
       "      <td>21.965517</td>\n",
       "      <td>60.517241</td>\n",
       "      <td>60.379310</td>\n",
       "      <td>0.438814</td>\n",
       "      <td>...</td>\n",
       "      <td>5.172414</td>\n",
       "      <td>8.344828</td>\n",
       "      <td>3.586207</td>\n",
       "      <td>2.517241</td>\n",
       "      <td>16.448276</td>\n",
       "      <td>17.551724</td>\n",
       "      <td>0.0</td>\n",
       "      <td>0.134368</td>\n",
       "      <td>NaN</td>\n",
       "      <td>NaN</td>\n",
       "    </tr>\n",
       "    <tr>\n",
       "      <th>9300</th>\n",
       "      <td>2019</td>\n",
       "      <td>3464</td>\n",
       "      <td>68.137931</td>\n",
       "      <td>58.000000</td>\n",
       "      <td>10.137931</td>\n",
       "      <td>23.241379</td>\n",
       "      <td>21.862069</td>\n",
       "      <td>55.758621</td>\n",
       "      <td>58.655172</td>\n",
       "      <td>0.494845</td>\n",
       "      <td>...</td>\n",
       "      <td>4.344828</td>\n",
       "      <td>7.448276</td>\n",
       "      <td>3.482759</td>\n",
       "      <td>3.482759</td>\n",
       "      <td>13.862069</td>\n",
       "      <td>17.896552</td>\n",
       "      <td>0.5</td>\n",
       "      <td>0.638405</td>\n",
       "      <td>NaN</td>\n",
       "      <td>NaN</td>\n",
       "    </tr>\n",
       "    <tr>\n",
       "      <th>9301</th>\n",
       "      <td>2019</td>\n",
       "      <td>3465</td>\n",
       "      <td>76.200000</td>\n",
       "      <td>69.840000</td>\n",
       "      <td>6.360000</td>\n",
       "      <td>28.560000</td>\n",
       "      <td>26.600000</td>\n",
       "      <td>67.520000</td>\n",
       "      <td>69.200000</td>\n",
       "      <td>0.493625</td>\n",
       "      <td>...</td>\n",
       "      <td>7.280000</td>\n",
       "      <td>7.920000</td>\n",
       "      <td>3.160000</td>\n",
       "      <td>3.160000</td>\n",
       "      <td>15.520000</td>\n",
       "      <td>15.440000</td>\n",
       "      <td>0.5</td>\n",
       "      <td>-0.182555</td>\n",
       "      <td>NaN</td>\n",
       "      <td>NaN</td>\n",
       "    </tr>\n",
       "    <tr>\n",
       "      <th>9302</th>\n",
       "      <td>2019</td>\n",
       "      <td>3466</td>\n",
       "      <td>69.521739</td>\n",
       "      <td>63.217391</td>\n",
       "      <td>6.304348</td>\n",
       "      <td>24.869565</td>\n",
       "      <td>23.913043</td>\n",
       "      <td>58.434783</td>\n",
       "      <td>58.260870</td>\n",
       "      <td>0.478102</td>\n",
       "      <td>...</td>\n",
       "      <td>8.478261</td>\n",
       "      <td>8.478261</td>\n",
       "      <td>3.695652</td>\n",
       "      <td>3.217391</td>\n",
       "      <td>17.478261</td>\n",
       "      <td>19.173913</td>\n",
       "      <td>0.0</td>\n",
       "      <td>0.107970</td>\n",
       "      <td>NaN</td>\n",
       "      <td>NaN</td>\n",
       "    </tr>\n",
       "  </tbody>\n",
       "</table>\n",
       "<p>5 rows × 35 columns</p>\n",
       "</div>"
      ],
      "text/plain": [
       "      Season  T1_TeamID  T1_Scoremean  T2_Scoremean  PointDiffmean  \\\n",
       "9298    2019       3462     60.862069     66.482759      -5.620690   \n",
       "9299    2019       3463     63.344828     61.551724       1.793103   \n",
       "9300    2019       3464     68.137931     58.000000      10.137931   \n",
       "9301    2019       3465     76.200000     69.840000       6.360000   \n",
       "9302    2019       3466     69.521739     63.217391       6.304348   \n",
       "\n",
       "      T1_FGMmean  T2_FGMmean  T1_FGAmean  T2_FGAmean  T1_EFG_SUMmean  ...  \\\n",
       "9298   21.896552   24.448276   57.517241   59.758621        0.448019  ...   \n",
       "9299   23.724138   21.965517   60.517241   60.379310        0.438814  ...   \n",
       "9300   23.241379   21.862069   55.758621   58.655172        0.494845  ...   \n",
       "9301   28.560000   26.600000   67.520000   69.200000        0.493625  ...   \n",
       "9302   24.869565   23.913043   58.434783   58.260870        0.478102  ...   \n",
       "\n",
       "      T1_Stlmean  T2_Stlmean  T1_Blkmean  T2_Blkmean  T1_PFmean  T2_PFmean  \\\n",
       "9298    7.586207    7.758621    2.586207    3.172414  15.241379  15.172414   \n",
       "9299    5.172414    8.344828    3.586207    2.517241  16.448276  17.551724   \n",
       "9300    4.344828    7.448276    3.482759    3.482759  13.862069  17.896552   \n",
       "9301    7.280000    7.920000    3.160000    3.160000  15.520000  15.440000   \n",
       "9302    8.478261    8.478261    3.695652    3.217391  17.478261  19.173913   \n",
       "\n",
       "      T1_win_ratio_14d  T1_quality  T1_seed  T1_OrdinalRank  \n",
       "9298               0.0   -0.296941      NaN             NaN  \n",
       "9299               0.0    0.134368      NaN             NaN  \n",
       "9300               0.5    0.638405      NaN             NaN  \n",
       "9301               0.5   -0.182555      NaN             NaN  \n",
       "9302               0.0    0.107970      NaN             NaN  \n",
       "\n",
       "[5 rows x 35 columns]"
      ]
     },
     "execution_count": 9,
     "metadata": {},
     "output_type": "execute_result"
    }
   ],
   "source": [
    "features = FEATURES.cal_mean_boxscore\n",
    "boxscore_cols = [col for col, use in features.items() if use]\n",
    "print(\"use boxscore col is\")\n",
    "print(boxscore_cols)\n",
    "\n",
    "season_statistics = make_season_statistics(regular_data, boxscore_cols, seeds, func = [np.mean])\n",
    "season_statistics.tail()"
   ]
  },
  {
   "cell_type": "code",
   "execution_count": 10,
   "id": "3100e154",
   "metadata": {
    "execution": {
     "iopub.execute_input": "2025-03-14T08:39:20.632536Z",
     "iopub.status.busy": "2025-03-14T08:39:20.632536Z",
     "iopub.status.idle": "2025-03-14T08:39:20.646336Z",
     "shell.execute_reply": "2025-03-14T08:39:20.646336Z"
    },
    "papermill": {
     "duration": 0.026778,
     "end_time": "2025-03-14T08:39:20.648375",
     "exception": false,
     "start_time": "2025-03-14T08:39:20.621597",
     "status": "completed"
    },
    "tags": []
   },
   "outputs": [
    {
     "name": "stdout",
     "output_type": "stream",
     "text": [
      "<class 'pandas.core.frame.DataFrame'>\n",
      "RangeIndex: 9303 entries, 0 to 9302\n",
      "Data columns (total 35 columns):\n",
      " #   Column            Non-Null Count  Dtype  \n",
      "---  ------            --------------  -----  \n",
      " 0   Season            9303 non-null   int64  \n",
      " 1   T1_TeamID         9303 non-null   int64  \n",
      " 2   T1_Scoremean      9303 non-null   float64\n",
      " 3   T2_Scoremean      9303 non-null   float64\n",
      " 4   PointDiffmean     9303 non-null   float64\n",
      " 5   T1_FGMmean        9303 non-null   float64\n",
      " 6   T2_FGMmean        9303 non-null   float64\n",
      " 7   T1_FGAmean        9303 non-null   float64\n",
      " 8   T2_FGAmean        9303 non-null   float64\n",
      " 9   T1_EFG_SUMmean    9303 non-null   float64\n",
      " 10  T2_EFG_SUMmean    9303 non-null   float64\n",
      " 11  T1_TO_RATIOmean   9303 non-null   float64\n",
      " 12  T2_TO_RATIOmean   9303 non-null   float64\n",
      " 13  T1_ORmean         9303 non-null   float64\n",
      " 14  T2_ORmean         9303 non-null   float64\n",
      " 15  T1_DRmean         9303 non-null   float64\n",
      " 16  T2_DRmean         9303 non-null   float64\n",
      " 17  T1_REB_RATEmean   9303 non-null   float64\n",
      " 18  T2_REB_RATEmean   9303 non-null   float64\n",
      " 19  T1_FT_RATEmean    9303 non-null   float64\n",
      " 20  T2_FT_RATEmean    9303 non-null   float64\n",
      " 21  T1_POSS_RATEmean  9303 non-null   float64\n",
      " 22  T2_POSS_RATEmean  9303 non-null   float64\n",
      " 23  T1_TOmean         9303 non-null   float64\n",
      " 24  T2_TOmean         9303 non-null   float64\n",
      " 25  T1_Stlmean        9303 non-null   float64\n",
      " 26  T2_Stlmean        9303 non-null   float64\n",
      " 27  T1_Blkmean        9303 non-null   float64\n",
      " 28  T2_Blkmean        9303 non-null   float64\n",
      " 29  T1_PFmean         9303 non-null   float64\n",
      " 30  T2_PFmean         9303 non-null   float64\n",
      " 31  T1_win_ratio_14d  9000 non-null   float64\n",
      " 32  T1_quality        9303 non-null   float64\n",
      " 33  T1_seed           1772 non-null   float64\n",
      " 34  T1_OrdinalRank    5834 non-null   float64\n",
      "dtypes: float64(33), int64(2)\n",
      "memory usage: 2.5 MB\n"
     ]
    }
   ],
   "source": [
    "season_statistics.info()"
   ]
  },
  {
   "cell_type": "code",
   "execution_count": 11,
   "id": "0955c9c3",
   "metadata": {
    "execution": {
     "iopub.execute_input": "2025-03-14T08:39:20.658741Z",
     "iopub.status.busy": "2025-03-14T08:39:20.658741Z",
     "iopub.status.idle": "2025-03-14T08:39:20.695374Z",
     "shell.execute_reply": "2025-03-14T08:39:20.694860Z"
    },
    "papermill": {
     "duration": 0.041274,
     "end_time": "2025-03-14T08:39:20.696386",
     "exception": false,
     "start_time": "2025-03-14T08:39:20.655112",
     "status": "completed"
    },
    "tags": []
   },
   "outputs": [],
   "source": [
    "####ボックスscoreの平均に対して、過去３年の加重平均を取るときの処理 ####\n",
    "def get_mean_of_3_season(val_2ps, val_1ps, val_0ps, \n",
    "                         weight_2, weight_1, weight_0, \n",
    "                         degree_weight=1.0\n",
    "                         ):\n",
    "    weight_2 = weight_2**degree_weight\n",
    "    weight_1 = weight_1**degree_weight\n",
    "    weight_0 = weight_0**degree_weight\n",
    "    if val_2ps == 0  and val_1ps == 0:\n",
    "        return val_0ps\n",
    "    elif val_2ps == 0:\n",
    "        return (val_1ps*weight_2 + val_0ps*weight_1)/(weight_2 + weight_1)\n",
    "    else:\n",
    "        sum_of_values = val_2ps*weight_2 + val_1ps*weight_1 + val_0ps*weight_0\n",
    "        return sum_of_values/(weight_2 + weight_1 + weight_0)\n",
    "\n",
    "def get_3_feature(df_team, feature):\n",
    "    value_2_seasons_ago = 0\n",
    "    value_1_season_ago = 0\n",
    "    value_0_season_ago = 0\n",
    "    for _, val in df_team.iterrows():\n",
    "        value_2_seasons_ago = value_1_season_ago\n",
    "        value_1_season_ago = value_0_season_ago\n",
    "        value_0_season_ago = val[feature]\n",
    "    return value_2_seasons_ago, value_1_season_ago, value_0_season_ago\n",
    "\n",
    "def write_mean_of_3_seasons(df, features, weight, degree_weight=1.0):\n",
    "    \"\"\"\n",
    "    val_0ps - current season value\n",
    "    weight_0 - current season weight\n",
    "    val_1ps - last season value\n",
    "    val_2ps - the value of the season before last\n",
    "    \"\"\"\n",
    "    weight_2=weight[0]\n",
    "    weight_1=weight[1]\n",
    "    weight_0=weight[2]\n",
    "    df_copy = df.copy()\n",
    "    suffix = \"_mn3s\"\n",
    "    \n",
    "    for ft in features:\n",
    "        df_copy[ft + suffix] = 0\n",
    "    for idx, val in tqdm(df_copy.iterrows(), total=len(df_copy)):\n",
    "        team = val.T1_TeamID\n",
    "        season = val.Season\n",
    "        df_team = df_copy[(df_copy.T1_TeamID == team)&\n",
    "                          (df_copy.Season <= season)&\n",
    "                          (df_copy.Season > season-3)]\n",
    "        for ft in features:\n",
    "            val_2ps, val_1ps, val_0ps = get_3_feature(df_team, ft)\n",
    "            ft_mean_3 = get_mean_of_3_season(val_2ps, val_1ps, val_0ps, weight_2, weight_1, weight_0, degree_weight=degree_weight)\n",
    "            df_copy.loc[idx, ft + suffix] = ft_mean_3\n",
    "    return df_copy"
   ]
  },
  {
   "cell_type": "code",
   "execution_count": 12,
   "id": "8e400ae3",
   "metadata": {
    "execution": {
     "iopub.execute_input": "2025-03-14T08:39:20.707504Z",
     "iopub.status.busy": "2025-03-14T08:39:20.707504Z",
     "iopub.status.idle": "2025-03-14T08:39:20.742563Z",
     "shell.execute_reply": "2025-03-14T08:39:20.742563Z"
    },
    "papermill": {
     "duration": 0.039076,
     "end_time": "2025-03-14T08:39:20.742563",
     "exception": false,
     "start_time": "2025-03-14T08:39:20.703487",
     "status": "completed"
    },
    "tags": []
   },
   "outputs": [
    {
     "name": "stdout",
     "output_type": "stream",
     "text": [
      "#####\n",
      "skip 3 season verage\n",
      "#####\n"
     ]
    },
    {
     "data": {
      "text/html": [
       "<div>\n",
       "<style scoped>\n",
       "    .dataframe tbody tr th:only-of-type {\n",
       "        vertical-align: middle;\n",
       "    }\n",
       "\n",
       "    .dataframe tbody tr th {\n",
       "        vertical-align: top;\n",
       "    }\n",
       "\n",
       "    .dataframe thead th {\n",
       "        text-align: right;\n",
       "    }\n",
       "</style>\n",
       "<table border=\"1\" class=\"dataframe\">\n",
       "  <thead>\n",
       "    <tr style=\"text-align: right;\">\n",
       "      <th></th>\n",
       "      <th>Season</th>\n",
       "      <th>T1_TeamID</th>\n",
       "      <th>T1_Scoremean</th>\n",
       "      <th>T1_opponent_Scoremean</th>\n",
       "      <th>T1_PointDiffmean</th>\n",
       "      <th>T1_FGMmean</th>\n",
       "      <th>T1_opponent_FGMmean</th>\n",
       "      <th>T1_FGAmean</th>\n",
       "      <th>T1_opponent_FGAmean</th>\n",
       "      <th>T1_EFG_SUMmean</th>\n",
       "      <th>...</th>\n",
       "      <th>T1_Stlmean</th>\n",
       "      <th>T1_opponent_Stlmean</th>\n",
       "      <th>T1_Blkmean</th>\n",
       "      <th>T1_opponent_Blkmean</th>\n",
       "      <th>T1_PFmean</th>\n",
       "      <th>T1_opponent_PFmean</th>\n",
       "      <th>T1_win_ratio_14d</th>\n",
       "      <th>T1_quality</th>\n",
       "      <th>T1_seed</th>\n",
       "      <th>T1_OrdinalRank</th>\n",
       "    </tr>\n",
       "  </thead>\n",
       "  <tbody>\n",
       "    <tr>\n",
       "      <th>0</th>\n",
       "      <td>2003</td>\n",
       "      <td>1102</td>\n",
       "      <td>57.250000</td>\n",
       "      <td>57.000000</td>\n",
       "      <td>0.25000</td>\n",
       "      <td>19.142857</td>\n",
       "      <td>19.285714</td>\n",
       "      <td>39.785714</td>\n",
       "      <td>42.428571</td>\n",
       "      <td>0.584407</td>\n",
       "      <td>...</td>\n",
       "      <td>5.964286</td>\n",
       "      <td>5.428571</td>\n",
       "      <td>1.785714</td>\n",
       "      <td>1.571429</td>\n",
       "      <td>18.750000</td>\n",
       "      <td>18.357143</td>\n",
       "      <td>0.333333</td>\n",
       "      <td>-0.070776</td>\n",
       "      <td>NaN</td>\n",
       "      <td>144.2875</td>\n",
       "    </tr>\n",
       "    <tr>\n",
       "      <th>1</th>\n",
       "      <td>2003</td>\n",
       "      <td>1103</td>\n",
       "      <td>78.777778</td>\n",
       "      <td>78.148148</td>\n",
       "      <td>0.62963</td>\n",
       "      <td>27.148148</td>\n",
       "      <td>27.777778</td>\n",
       "      <td>55.851852</td>\n",
       "      <td>57.000000</td>\n",
       "      <td>0.536564</td>\n",
       "      <td>...</td>\n",
       "      <td>7.259259</td>\n",
       "      <td>6.407407</td>\n",
       "      <td>2.333333</td>\n",
       "      <td>2.851852</td>\n",
       "      <td>19.851852</td>\n",
       "      <td>22.444444</td>\n",
       "      <td>0.333333</td>\n",
       "      <td>-0.116192</td>\n",
       "      <td>NaN</td>\n",
       "      <td>182.2050</td>\n",
       "    </tr>\n",
       "  </tbody>\n",
       "</table>\n",
       "<p>2 rows × 35 columns</p>\n",
       "</div>"
      ],
      "text/plain": [
       "   Season  T1_TeamID  T1_Scoremean  T1_opponent_Scoremean  T1_PointDiffmean  \\\n",
       "0    2003       1102     57.250000              57.000000           0.25000   \n",
       "1    2003       1103     78.777778              78.148148           0.62963   \n",
       "\n",
       "   T1_FGMmean  T1_opponent_FGMmean  T1_FGAmean  T1_opponent_FGAmean  \\\n",
       "0   19.142857            19.285714   39.785714            42.428571   \n",
       "1   27.148148            27.777778   55.851852            57.000000   \n",
       "\n",
       "   T1_EFG_SUMmean  ...  T1_Stlmean  T1_opponent_Stlmean  T1_Blkmean  \\\n",
       "0        0.584407  ...    5.964286             5.428571    1.785714   \n",
       "1        0.536564  ...    7.259259             6.407407    2.333333   \n",
       "\n",
       "   T1_opponent_Blkmean  T1_PFmean  T1_opponent_PFmean  T1_win_ratio_14d  \\\n",
       "0             1.571429  18.750000           18.357143          0.333333   \n",
       "1             2.851852  19.851852           22.444444          0.333333   \n",
       "\n",
       "   T1_quality  T1_seed  T1_OrdinalRank  \n",
       "0   -0.070776      NaN        144.2875  \n",
       "1   -0.116192      NaN        182.2050  \n",
       "\n",
       "[2 rows x 35 columns]"
      ]
     },
     "metadata": {},
     "output_type": "display_data"
    },
    {
     "data": {
      "text/html": [
       "<div>\n",
       "<style scoped>\n",
       "    .dataframe tbody tr th:only-of-type {\n",
       "        vertical-align: middle;\n",
       "    }\n",
       "\n",
       "    .dataframe tbody tr th {\n",
       "        vertical-align: top;\n",
       "    }\n",
       "\n",
       "    .dataframe thead th {\n",
       "        text-align: right;\n",
       "    }\n",
       "</style>\n",
       "<table border=\"1\" class=\"dataframe\">\n",
       "  <thead>\n",
       "    <tr style=\"text-align: right;\">\n",
       "      <th></th>\n",
       "      <th>Season</th>\n",
       "      <th>T2_TeamID</th>\n",
       "      <th>T2_Scoremean</th>\n",
       "      <th>T2_opponent_Scoremean</th>\n",
       "      <th>T2_PointDiffmean</th>\n",
       "      <th>T2_FGMmean</th>\n",
       "      <th>T2_opponent_FGMmean</th>\n",
       "      <th>T2_FGAmean</th>\n",
       "      <th>T2_opponent_FGAmean</th>\n",
       "      <th>T2_EFG_SUMmean</th>\n",
       "      <th>...</th>\n",
       "      <th>T2_Stlmean</th>\n",
       "      <th>T2_opponent_Stlmean</th>\n",
       "      <th>T2_Blkmean</th>\n",
       "      <th>T2_opponent_Blkmean</th>\n",
       "      <th>T2_PFmean</th>\n",
       "      <th>T2_opponent_PFmean</th>\n",
       "      <th>T2_win_ratio_14d</th>\n",
       "      <th>T2_quality</th>\n",
       "      <th>T2_seed</th>\n",
       "      <th>T2_OrdinalRank</th>\n",
       "    </tr>\n",
       "  </thead>\n",
       "  <tbody>\n",
       "    <tr>\n",
       "      <th>9301</th>\n",
       "      <td>2019</td>\n",
       "      <td>3465</td>\n",
       "      <td>76.200000</td>\n",
       "      <td>69.840000</td>\n",
       "      <td>6.360000</td>\n",
       "      <td>28.560000</td>\n",
       "      <td>26.600000</td>\n",
       "      <td>67.520000</td>\n",
       "      <td>69.20000</td>\n",
       "      <td>0.493625</td>\n",
       "      <td>...</td>\n",
       "      <td>7.280000</td>\n",
       "      <td>7.920000</td>\n",
       "      <td>3.160000</td>\n",
       "      <td>3.160000</td>\n",
       "      <td>15.520000</td>\n",
       "      <td>15.440000</td>\n",
       "      <td>0.5</td>\n",
       "      <td>-0.182555</td>\n",
       "      <td>NaN</td>\n",
       "      <td>NaN</td>\n",
       "    </tr>\n",
       "    <tr>\n",
       "      <th>9302</th>\n",
       "      <td>2019</td>\n",
       "      <td>3466</td>\n",
       "      <td>69.521739</td>\n",
       "      <td>63.217391</td>\n",
       "      <td>6.304348</td>\n",
       "      <td>24.869565</td>\n",
       "      <td>23.913043</td>\n",
       "      <td>58.434783</td>\n",
       "      <td>58.26087</td>\n",
       "      <td>0.478102</td>\n",
       "      <td>...</td>\n",
       "      <td>8.478261</td>\n",
       "      <td>8.478261</td>\n",
       "      <td>3.695652</td>\n",
       "      <td>3.217391</td>\n",
       "      <td>17.478261</td>\n",
       "      <td>19.173913</td>\n",
       "      <td>0.0</td>\n",
       "      <td>0.107970</td>\n",
       "      <td>NaN</td>\n",
       "      <td>NaN</td>\n",
       "    </tr>\n",
       "  </tbody>\n",
       "</table>\n",
       "<p>2 rows × 35 columns</p>\n",
       "</div>"
      ],
      "text/plain": [
       "      Season  T2_TeamID  T2_Scoremean  T2_opponent_Scoremean  \\\n",
       "9301    2019       3465     76.200000              69.840000   \n",
       "9302    2019       3466     69.521739              63.217391   \n",
       "\n",
       "      T2_PointDiffmean  T2_FGMmean  T2_opponent_FGMmean  T2_FGAmean  \\\n",
       "9301          6.360000   28.560000            26.600000   67.520000   \n",
       "9302          6.304348   24.869565            23.913043   58.434783   \n",
       "\n",
       "      T2_opponent_FGAmean  T2_EFG_SUMmean  ...  T2_Stlmean  \\\n",
       "9301             69.20000        0.493625  ...    7.280000   \n",
       "9302             58.26087        0.478102  ...    8.478261   \n",
       "\n",
       "      T2_opponent_Stlmean  T2_Blkmean  T2_opponent_Blkmean  T2_PFmean  \\\n",
       "9301             7.920000    3.160000             3.160000  15.520000   \n",
       "9302             8.478261    3.695652             3.217391  17.478261   \n",
       "\n",
       "      T2_opponent_PFmean  T2_win_ratio_14d  T2_quality  T2_seed  \\\n",
       "9301           15.440000               0.5   -0.182555      NaN   \n",
       "9302           19.173913               0.0    0.107970      NaN   \n",
       "\n",
       "      T2_OrdinalRank  \n",
       "9301             NaN  \n",
       "9302             NaN  \n",
       "\n",
       "[2 rows x 35 columns]"
      ]
     },
     "metadata": {},
     "output_type": "display_data"
    }
   ],
   "source": [
    "flag_3season_avg = FEATURES.season_average.enabled\n",
    "\n",
    "#trueのときの処理理解してfalseと一致させる\n",
    "if flag_3season_avg:\n",
    "    print(\"#####\")\n",
    "    print(\"use 3 season average\")\n",
    "    print(\"#####\")\n",
    "    weight = FEATURES.season_average.weights\n",
    "    years = FEATURES.season_average.past_years\n",
    "    assert years==len(weight)\n",
    "    \n",
    "    features_for_calc = [\"T1_Scoremean\", \"T1_FGAmean\",  \"T1_FGA3mean\"]\n",
    "    season_statistics_with_3_seas = write_mean_of_3_seasons(\n",
    "        season_statistics, features_for_calc, weight, degree_weight=1.0\n",
    "    )\n",
    "    \n",
    "    season_statistics_T1 = season_statistics_with_3_seas.copy()\n",
    "    season_statistics_T2 = season_statistics_with_3_seas.copy()\n",
    "    \n",
    "else:\n",
    "    print(\"#####\")\n",
    "    print(\"skip 3 season verage\")\n",
    "    print(\"#####\")\n",
    "    season_statistics_T1 = season_statistics.copy()\n",
    "    season_statistics_T2 = season_statistics.copy()\n",
    "\n",
    "season_statistics_T1.columns = [\"T1_\" + x.replace(\"T1_\",\"\").replace(\"T2_\",\"opponent_\") for x in list(season_statistics_T1.columns)]\n",
    "season_statistics_T2.columns = [\"T2_\" + x.replace(\"T1_\",\"\").replace(\"T2_\",\"opponent_\") for x in list(season_statistics_T2.columns)]\n",
    "season_statistics_T1.columns.values[0] = \"Season\"\n",
    "season_statistics_T2.columns.values[0] = \"Season\"\n",
    "\n",
    "\n",
    "season_statistics_T2.rename(columns = {\n",
    "    \"T1_TeamID\": \"T2_TeamID\"\n",
    "}, inplace=True)\n",
    "display(season_statistics_T1.head(2), season_statistics_T2.tail(2))"
   ]
  },
  {
   "cell_type": "markdown",
   "id": "17307992",
   "metadata": {
    "papermill": {
     "duration": 0.011984,
     "end_time": "2025-03-14T08:39:20.754547",
     "exception": false,
     "start_time": "2025-03-14T08:39:20.742563",
     "status": "completed"
    },
    "tags": []
   },
   "source": [
    "# Toureney dataの処理\n",
    "1. pointdiff, pointが目的変数となるのでそれはyに分離\n",
    "2. seasonstatisticを結合したものをXとして作る"
   ]
  },
  {
   "cell_type": "code",
   "execution_count": 13,
   "id": "87642954",
   "metadata": {
    "execution": {
     "iopub.execute_input": "2025-03-14T08:39:20.776475Z",
     "iopub.status.busy": "2025-03-14T08:39:20.776475Z",
     "iopub.status.idle": "2025-03-14T08:39:20.784380Z",
     "shell.execute_reply": "2025-03-14T08:39:20.784380Z"
    },
    "papermill": {
     "duration": 0.029833,
     "end_time": "2025-03-14T08:39:20.784380",
     "exception": false,
     "start_time": "2025-03-14T08:39:20.754547",
     "status": "completed"
    },
    "tags": []
   },
   "outputs": [],
   "source": [
    "\n",
    "def process_tourney(df1, mode=\"tourney\"):\n",
    "    #Season, teamid ->X, team_score->y\n",
    "    df = df1.copy()\n",
    "    if mode==\"tourney\":\n",
    "        df = prepare_data(df) \n",
    "        y = df[\"T1_Score\"]-df[\"T2_Score\"]\n",
    "    X = df[['Season', 'T1_TeamID', 'T2_TeamID']]\n",
    "    X = pd.merge(X, season_statistics_T1, on = ['Season', 'T1_TeamID'], how = 'left')\n",
    "    X = pd.merge(X, season_statistics_T2, on = ['Season', 'T2_TeamID'], how = 'left')\n",
    "    \n",
    "    #seed->seed diff\n",
    "    X[\"seed_diff\"] = X[\"T1_seed\"] - X[\"T2_seed\"]\n",
    "    #rank->rank diff\n",
    "    X[\"rank_diff\"] = X[\"T1_OrdinalRank\"] - X[\"T2_OrdinalRank\"]\n",
    "    #quality->quality diff\n",
    "    X[\"quality_diff\"] = X[\"T1_quality\"] - X[\"T2_quality\"]\n",
    "    #win_ratio_14d -> win_raio_14d_diff\n",
    "    X[\"win_ratio_14d_diff\"] = X[\"T1_win_ratio_14d\"] - X[\"T2_win_ratio_14d\"]\n",
    "    #tourney_data.drop(columns=[\"T1_seed\", \"T2_seed\"], inplace=True)\n",
    "\n",
    "    X = X.drop(columns=[\"T1_seed\", \"T2_seed\", \"T1_OrdinalRank\", \"T2_OrdinalRank\", \n",
    "                        \"T1_quality\", \"T2_quality\", \"T1_win_ratio_14d\", \"T2_win_ratio_14d\"\n",
    "                        ])\n",
    "\n",
    "    # if rank_diff is False, drop.\n",
    "    IS_RANKDIFF = FEATURES.rank_diff\n",
    "    if not IS_RANKDIFF:\n",
    "        X = X.drop(columns=[\"rank_diff\"])\n",
    "        print(\"drop rank_diff\")\n",
    "    \n",
    "    # if fillna is true-> run fillna()\n",
    "    FILLNA = FEATURES.fillna.quality\n",
    "    if FILLNA==\"nan\":\n",
    "        print(f\"no fillna, use nan\")\n",
    "        X[\"quality_diff\"] = X[\"quality_diff\"].fillna(np.nan)\n",
    "    else:\n",
    "        print(f\"fillna quality feature for {FILLNA}\")\n",
    "        X[\"quality_diff\"] = X[\"quality_diff\"].fillna(FILLNA)\n",
    "\n",
    "        \n",
    "    return X, y if mode==\"tourney\" else X"
   ]
  },
  {
   "cell_type": "code",
   "execution_count": 14,
   "id": "6192e49c",
   "metadata": {
    "execution": {
     "iopub.execute_input": "2025-03-14T08:39:20.790999Z",
     "iopub.status.busy": "2025-03-14T08:39:20.790999Z",
     "iopub.status.idle": "2025-03-14T08:39:20.833641Z",
     "shell.execute_reply": "2025-03-14T08:39:20.833641Z"
    },
    "papermill": {
     "duration": 0.043657,
     "end_time": "2025-03-14T08:39:20.834656",
     "exception": false,
     "start_time": "2025-03-14T08:39:20.790999",
     "status": "completed"
    },
    "tags": []
   },
   "outputs": [
    {
     "name": "stdout",
     "output_type": "stream",
     "text": [
      "<class 'pandas.core.frame.DataFrame'>\n",
      "Index: 1615 entries, 0 to 1948\n",
      "Data columns (total 56 columns):\n",
      " #   Column       Non-Null Count  Dtype  \n",
      "---  ------       --------------  -----  \n",
      " 0   Season       1615 non-null   int64  \n",
      " 1   DayNum       1615 non-null   int64  \n",
      " 2   WTeamID      1615 non-null   int64  \n",
      " 3   WScore       1615 non-null   int64  \n",
      " 4   LTeamID      1615 non-null   int64  \n",
      " 5   LScore       1615 non-null   int64  \n",
      " 6   WLoc         1615 non-null   object \n",
      " 7   NumOT        1615 non-null   int64  \n",
      " 8   WFGM         1615 non-null   int64  \n",
      " 9   WFGA         1615 non-null   int64  \n",
      " 10  WFGM3        1615 non-null   int64  \n",
      " 11  WFGA3        1615 non-null   int64  \n",
      " 12  WFTM         1615 non-null   int64  \n",
      " 13  WFTA         1615 non-null   int64  \n",
      " 14  WOR          1615 non-null   int64  \n",
      " 15  WDR          1615 non-null   int64  \n",
      " 16  WAst         1615 non-null   int64  \n",
      " 17  WTO          1615 non-null   int64  \n",
      " 18  WStl         1615 non-null   int64  \n",
      " 19  WBlk         1615 non-null   int64  \n",
      " 20  WPF          1615 non-null   int64  \n",
      " 21  LFGM         1615 non-null   int64  \n",
      " 22  LFGA         1615 non-null   int64  \n",
      " 23  LFGM3        1615 non-null   int64  \n",
      " 24  LFGA3        1615 non-null   int64  \n",
      " 25  LFTM         1615 non-null   int64  \n",
      " 26  LFTA         1615 non-null   int64  \n",
      " 27  LOR          1615 non-null   int64  \n",
      " 28  LDR          1615 non-null   int64  \n",
      " 29  LAst         1615 non-null   int64  \n",
      " 30  LTO          1615 non-null   int64  \n",
      " 31  LStl         1615 non-null   int64  \n",
      " 32  LBlk         1615 non-null   int64  \n",
      " 33  LPF          1615 non-null   int64  \n",
      " 34  WEFFG        1615 non-null   float64\n",
      " 35  LEFFG        1615 non-null   float64\n",
      " 36  WEFFG3       1615 non-null   float64\n",
      " 37  LEFFG3       1615 non-null   float64\n",
      " 38  WDARE        1615 non-null   float64\n",
      " 39  LDARE        1615 non-null   float64\n",
      " 40  WTOQUETOQUE  1615 non-null   float64\n",
      " 41  LTOQUETOQUE  1615 non-null   float64\n",
      " 42  WEFG_SUM     1615 non-null   float64\n",
      " 43  LEFG_SUM     1615 non-null   float64\n",
      " 44  WPOSS        1615 non-null   float64\n",
      " 45  LPOSS        1615 non-null   float64\n",
      " 46  WPOSS_RATE   1615 non-null   float64\n",
      " 47  LPOSS_RATE   1615 non-null   float64\n",
      " 48  WTO_RATIO    1615 non-null   float64\n",
      " 49  LTO_RATIO    1615 non-null   float64\n",
      " 50  WREB_RATE    1615 non-null   float64\n",
      " 51  LREB_RATE    1615 non-null   float64\n",
      " 52  WFT_RATE     1615 non-null   float64\n",
      " 53  LFT_RATE     1615 non-null   float64\n",
      " 54  WRATING      1615 non-null   float64\n",
      " 55  LRATING      1615 non-null   float64\n",
      "dtypes: float64(22), int64(33), object(1)\n",
      "memory usage: 719.2+ KB\n",
      "None\n",
      "feature cols after prepare()\n",
      "Index(['Season', 'DayNum', 'T1_TeamID', 'T1_Score', 'T2_TeamID', 'T2_Score',\n",
      "       'location', 'NumOT', 'T1_FGM', 'T1_FGA', 'T1_FGM3', 'T1_FGA3', 'T1_FTM',\n",
      "       'T1_FTA', 'T1_OR', 'T1_DR', 'T1_Ast', 'T1_TO', 'T1_Stl', 'T1_Blk',\n",
      "       'T1_PF', 'T2_FGM', 'T2_FGA', 'T2_FGM3', 'T2_FGA3', 'T2_FTM', 'T2_FTA',\n",
      "       'T2_OR', 'T2_DR', 'T2_Ast', 'T2_TO', 'T2_Stl', 'T2_Blk', 'T2_PF',\n",
      "       'T1_EFFG', 'T2_EFFG', 'T1_EFFG3', 'T2_EFFG3', 'T1_DARE', 'T2_DARE',\n",
      "       'T1_TOQUETOQUE', 'T2_TOQUETOQUE', 'T1_EFG_SUM', 'T2_EFG_SUM', 'T1_POSS',\n",
      "       'T2_POSS', 'T1_POSS_RATE', 'T2_POSS_RATE', 'T1_TO_RATIO', 'T2_TO_RATIO',\n",
      "       'T1_REB_RATE', 'T2_REB_RATE', 'T1_FT_RATE', 'T2_FT_RATE', 'T1_RATING',\n",
      "       'T2_RATING', 'PointDiff', 'win'],\n",
      "      dtype='object')\n",
      "no fillna, use nan\n"
     ]
    }
   ],
   "source": [
    "X, y = process_tourney(tourney_results)"
   ]
  },
  {
   "cell_type": "code",
   "execution_count": 15,
   "id": "5f1c55b6",
   "metadata": {
    "execution": {
     "iopub.execute_input": "2025-03-14T08:39:20.840657Z",
     "iopub.status.busy": "2025-03-14T08:39:20.840657Z",
     "iopub.status.idle": "2025-03-14T08:39:20.857703Z",
     "shell.execute_reply": "2025-03-14T08:39:20.857703Z"
    },
    "papermill": {
     "duration": 0.017046,
     "end_time": "2025-03-14T08:39:20.857703",
     "exception": false,
     "start_time": "2025-03-14T08:39:20.840657",
     "status": "completed"
    },
    "tags": []
   },
   "outputs": [
    {
     "name": "stdout",
     "output_type": "stream",
     "text": [
      "drop col list: ['T1_TOmean', 'T2_TOmean', 'T1_opponent_POSS_RATEmean', 'T2_opponent_POSS_RATEmean', 'T1_opponent_FT_RATEmean', 'T2_opponent_FT_RATEmean', 'T1_opponent_Stlmean', 'T2_opponent_Stlmean', 'T1_ORmean', 'T2_ORmean', 'T1_opponent_ORmean', 'T2_opponent_ORmean']\n"
     ]
    }
   ],
   "source": [
    "#opponentなど明示的に特徴量選出に基づいて落とす\n",
    "def drop_columns(df, cols):\n",
    "    if not cols: return df\n",
    "    existing_cols = [col for col in cols if col in df.columns]\n",
    "    print(f\"drop col list: {existing_cols}\")\n",
    "    return df.drop(columns=existing_cols)\n",
    "\n",
    "drop_col = FEATURES.dropfeatures\n",
    "X = drop_columns(X, drop_col)"
   ]
  },
  {
   "cell_type": "code",
   "execution_count": 16,
   "id": "16c227c4",
   "metadata": {
    "execution": {
     "iopub.execute_input": "2025-03-14T08:39:20.872274Z",
     "iopub.status.busy": "2025-03-14T08:39:20.872274Z",
     "iopub.status.idle": "2025-03-14T08:39:20.881829Z",
     "shell.execute_reply": "2025-03-14T08:39:20.881829Z"
    },
    "papermill": {
     "duration": 0.024126,
     "end_time": "2025-03-14T08:39:20.881829",
     "exception": false,
     "start_time": "2025-03-14T08:39:20.857703",
     "status": "completed"
    },
    "tags": []
   },
   "outputs": [
    {
     "name": "stdout",
     "output_type": "stream",
     "text": [
      "最終的な X の特徴量\n",
      "Index(['Season', 'T1_TeamID', 'T2_TeamID', 'T1_Scoremean',\n",
      "       'T1_opponent_Scoremean', 'T1_PointDiffmean', 'T1_FGMmean',\n",
      "       'T1_opponent_FGMmean', 'T1_FGAmean', 'T1_opponent_FGAmean',\n",
      "       'T1_EFG_SUMmean', 'T1_opponent_EFG_SUMmean', 'T1_TO_RATIOmean',\n",
      "       'T1_opponent_TO_RATIOmean', 'T1_DRmean', 'T1_opponent_DRmean',\n",
      "       'T1_REB_RATEmean', 'T1_opponent_REB_RATEmean', 'T1_FT_RATEmean',\n",
      "       'T1_POSS_RATEmean', 'T1_opponent_TOmean', 'T1_Stlmean', 'T1_Blkmean',\n",
      "       'T1_opponent_Blkmean', 'T1_PFmean', 'T1_opponent_PFmean',\n",
      "       'T2_Scoremean', 'T2_opponent_Scoremean', 'T2_PointDiffmean',\n",
      "       'T2_FGMmean', 'T2_opponent_FGMmean', 'T2_FGAmean',\n",
      "       'T2_opponent_FGAmean', 'T2_EFG_SUMmean', 'T2_opponent_EFG_SUMmean',\n",
      "       'T2_TO_RATIOmean', 'T2_opponent_TO_RATIOmean', 'T2_DRmean',\n",
      "       'T2_opponent_DRmean', 'T2_REB_RATEmean', 'T2_opponent_REB_RATEmean',\n",
      "       'T2_FT_RATEmean', 'T2_POSS_RATEmean', 'T2_opponent_TOmean',\n",
      "       'T2_Stlmean', 'T2_Blkmean', 'T2_opponent_Blkmean', 'T2_PFmean',\n",
      "       'T2_opponent_PFmean', 'seed_diff', 'rank_diff', 'quality_diff',\n",
      "       'win_ratio_14d_diff'],\n",
      "      dtype='object')\n"
     ]
    }
   ],
   "source": [
    "print(\"最終的な X の特徴量\")\n",
    "print(X.columns)"
   ]
  },
  {
   "cell_type": "code",
   "execution_count": 17,
   "id": "62897b61",
   "metadata": {
    "execution": {
     "iopub.execute_input": "2025-03-14T08:39:20.895200Z",
     "iopub.status.busy": "2025-03-14T08:39:20.895200Z",
     "iopub.status.idle": "2025-03-14T08:39:20.911045Z",
     "shell.execute_reply": "2025-03-14T08:39:20.911045Z"
    },
    "papermill": {
     "duration": 0.018491,
     "end_time": "2025-03-14T08:39:20.911045",
     "exception": false,
     "start_time": "2025-03-14T08:39:20.892554",
     "status": "completed"
    },
    "tags": []
   },
   "outputs": [
    {
     "name": "stdout",
     "output_type": "stream",
     "text": [
      "<class 'pandas.core.frame.DataFrame'>\n",
      "RangeIndex: 3230 entries, 0 to 3229\n",
      "Data columns (total 53 columns):\n",
      " #   Column                    Non-Null Count  Dtype  \n",
      "---  ------                    --------------  -----  \n",
      " 0   Season                    3230 non-null   int64  \n",
      " 1   T1_TeamID                 3230 non-null   int64  \n",
      " 2   T2_TeamID                 3230 non-null   int64  \n",
      " 3   T1_Scoremean              3230 non-null   float64\n",
      " 4   T1_opponent_Scoremean     3230 non-null   float64\n",
      " 5   T1_PointDiffmean          3230 non-null   float64\n",
      " 6   T1_FGMmean                3230 non-null   float64\n",
      " 7   T1_opponent_FGMmean       3230 non-null   float64\n",
      " 8   T1_FGAmean                3230 non-null   float64\n",
      " 9   T1_opponent_FGAmean       3230 non-null   float64\n",
      " 10  T1_EFG_SUMmean            3230 non-null   float64\n",
      " 11  T1_opponent_EFG_SUMmean   3230 non-null   float64\n",
      " 12  T1_TO_RATIOmean           3230 non-null   float64\n",
      " 13  T1_opponent_TO_RATIOmean  3230 non-null   float64\n",
      " 14  T1_DRmean                 3230 non-null   float64\n",
      " 15  T1_opponent_DRmean        3230 non-null   float64\n",
      " 16  T1_REB_RATEmean           3230 non-null   float64\n",
      " 17  T1_opponent_REB_RATEmean  3230 non-null   float64\n",
      " 18  T1_FT_RATEmean            3230 non-null   float64\n",
      " 19  T1_POSS_RATEmean          3230 non-null   float64\n",
      " 20  T1_opponent_TOmean        3230 non-null   float64\n",
      " 21  T1_Stlmean                3230 non-null   float64\n",
      " 22  T1_Blkmean                3230 non-null   float64\n",
      " 23  T1_opponent_Blkmean       3230 non-null   float64\n",
      " 24  T1_PFmean                 3230 non-null   float64\n",
      " 25  T1_opponent_PFmean        3230 non-null   float64\n",
      " 26  T2_Scoremean              3230 non-null   float64\n",
      " 27  T2_opponent_Scoremean     3230 non-null   float64\n",
      " 28  T2_PointDiffmean          3230 non-null   float64\n",
      " 29  T2_FGMmean                3230 non-null   float64\n",
      " 30  T2_opponent_FGMmean       3230 non-null   float64\n",
      " 31  T2_FGAmean                3230 non-null   float64\n",
      " 32  T2_opponent_FGAmean       3230 non-null   float64\n",
      " 33  T2_EFG_SUMmean            3230 non-null   float64\n",
      " 34  T2_opponent_EFG_SUMmean   3230 non-null   float64\n",
      " 35  T2_TO_RATIOmean           3230 non-null   float64\n",
      " 36  T2_opponent_TO_RATIOmean  3230 non-null   float64\n",
      " 37  T2_DRmean                 3230 non-null   float64\n",
      " 38  T2_opponent_DRmean        3230 non-null   float64\n",
      " 39  T2_REB_RATEmean           3230 non-null   float64\n",
      " 40  T2_opponent_REB_RATEmean  3230 non-null   float64\n",
      " 41  T2_FT_RATEmean            3230 non-null   float64\n",
      " 42  T2_POSS_RATEmean          3230 non-null   float64\n",
      " 43  T2_opponent_TOmean        3230 non-null   float64\n",
      " 44  T2_Stlmean                3230 non-null   float64\n",
      " 45  T2_Blkmean                3230 non-null   float64\n",
      " 46  T2_opponent_Blkmean       3230 non-null   float64\n",
      " 47  T2_PFmean                 3230 non-null   float64\n",
      " 48  T2_opponent_PFmean        3230 non-null   float64\n",
      " 49  seed_diff                 3230 non-null   float64\n",
      " 50  rank_diff                 2096 non-null   float64\n",
      " 51  quality_diff              3230 non-null   float64\n",
      " 52  win_ratio_14d_diff        3230 non-null   float64\n",
      "dtypes: float64(50), int64(3)\n",
      "memory usage: 1.3 MB\n"
     ]
    }
   ],
   "source": [
    "X.info()"
   ]
  },
  {
   "cell_type": "markdown",
   "id": "ad38b1ed",
   "metadata": {
    "papermill": {
     "duration": 0.018451,
     "end_time": "2025-03-14T08:39:20.929496",
     "exception": false,
     "start_time": "2025-03-14T08:39:20.911045",
     "status": "completed"
    },
    "tags": []
   },
   "source": [
    "# build models"
   ]
  },
  {
   "cell_type": "code",
   "execution_count": 18,
   "id": "916a5903",
   "metadata": {
    "execution": {
     "iopub.execute_input": "2025-03-14T08:39:20.948512Z",
     "iopub.status.busy": "2025-03-14T08:39:20.948512Z",
     "iopub.status.idle": "2025-03-14T08:39:20.967034Z",
     "shell.execute_reply": "2025-03-14T08:39:20.967034Z"
    },
    "papermill": {
     "duration": 0.031519,
     "end_time": "2025-03-14T08:39:20.969040",
     "exception": false,
     "start_time": "2025-03-14T08:39:20.937521",
     "status": "completed"
    },
    "tags": []
   },
   "outputs": [],
   "source": [
    "\n",
    "val_mae = []\n",
    "iteration_counts = []\n",
    "xgb_cv = []\n",
    "dtrain = xgb.DMatrix(X, label=y)\n",
    "\n",
    "repeat_cv = MODEL.repeat_cv\n",
    "param = dict(MODEL.xgb_model.param)\n",
    "num_boost_round = MODEL.xgb_model.num_boost_round\n",
    "folds_splits = MODEL.xgb_model.folds_splits\n",
    "early_stopping_rounds = MODEL.xgb_model.early_stopping_rounds\n",
    "\n",
    "# コーシー損失関数\n",
    "def cauchyobj(preds, dtrain):\n",
    "    labels = dtrain.get_label()\n",
    "    c = 5000\n",
    "    x = preds - labels    \n",
    "    grad = x / (x**2/c**2 + 1)\n",
    "    hess = -c**2 * (x**2 - c**2) / (x**2 + c**2)**2\n",
    "    return grad, hess"
   ]
  },
  {
   "cell_type": "code",
   "execution_count": 19,
   "id": "336b64a6",
   "metadata": {
    "execution": {
     "iopub.execute_input": "2025-03-14T08:39:20.994326Z",
     "iopub.status.busy": "2025-03-14T08:39:20.994326Z",
     "iopub.status.idle": "2025-03-14T08:39:21.007539Z",
     "shell.execute_reply": "2025-03-14T08:39:21.007539Z"
    },
    "papermill": {
     "duration": 0.028981,
     "end_time": "2025-03-14T08:39:21.009549",
     "exception": false,
     "start_time": "2025-03-14T08:39:20.980568",
     "status": "completed"
    },
    "tags": []
   },
   "outputs": [],
   "source": [
    "#########################################\n",
    "# 1. Optunaあり：ハイパーパラメータ最適化 #\n",
    "#########################################\n",
    "def run_optuna_optimization(param, optuna_conf):\n",
    "    def objective(trial):  \n",
    "        logger.info(f\"Trial {trial.number} 開始\")\n",
    "        \n",
    "        current_param = param.copy()  \n",
    "        max_depth_range = optuna_conf.max_depth        \n",
    "        eta_range = optuna_conf.eta\n",
    "        subsample_range = optuna_conf.subsample          \n",
    "        colsample_bytree_range = optuna_conf.colsample_bytree\n",
    "        num_parallel_tree_range = optuna_conf.num_parallel_tree \n",
    "        min_child_weight_range = optuna_conf.min_child_weight \n",
    "        reg_alpha_range = optuna_conf.reg_alpha         \n",
    "        reg_lambda_range = optuna_conf.reg_lambda    \n",
    "        reg_gamma_range = optuna_conf.gamma  \n",
    "\n",
    "        current_param[\"max_depth\"] = trial.suggest_int(\"max_depth\", max_depth_range[0], max_depth_range[1])\n",
    "        current_param[\"eta\"] = trial.suggest_float(\"eta\", eta_range[0], eta_range[1], log=True)\n",
    "        current_param[\"subsample\"] = trial.suggest_float(\"subsample\", subsample_range[0], subsample_range[1])\n",
    "        current_param[\"colsample_bytree\"] = trial.suggest_float(\"colsample_bytree\", colsample_bytree_range[0], colsample_bytree_range[1])\n",
    "        current_param[\"num_parallel_tree\"] = trial.suggest_int(\"num_parallel_tree\", num_parallel_tree_range[0], num_parallel_tree_range[1])\n",
    "        current_param[\"min_child_weight\"] = trial.suggest_int(\"min_child_weight\", min_child_weight_range[0], min_child_weight_range[1])\n",
    "        current_param[\"reg_alpha\"] = trial.suggest_float(\"reg_alpha\", reg_alpha_range[0], reg_alpha_range[1])\n",
    "        current_param[\"reg_lambda\"] = trial.suggest_float(\"reg_lambda\", reg_lambda_range[0], reg_lambda_range[1])\n",
    "        current_param[\"gamma\"] = trial.suggest_float(\"gamma\", reg_gamma_range[0], reg_gamma_range[1])\n",
    "        \n",
    "        if current_param.get(\"eval_metric\", \"mae\") == \"rmse\":\n",
    "            score_name = \"test-rmse-mean\"\n",
    "        elif current_param.get(\"eval_metric\", \"mae\") == \"mae\":\n",
    "            score_name = \"test-mae-mean\"\n",
    "        elif  current_param.get(\"eval_metric\", \"mae\") == \"logloss\":\n",
    "            score_name = \"test-logloss-mean\"\n",
    "        \n",
    "        print(current_param)  \n",
    "        cv_scores = []\n",
    "        for i in range(repeat_cv):\n",
    "            cv_result = xgb.cv(\n",
    "                params=current_param,\n",
    "                dtrain=dtrain,\n",
    "                obj=cauchyobj,\n",
    "                num_boost_round=num_boost_round,\n",
    "                folds=KFold(n_splits=folds_splits, shuffle=True, random_state=i),\n",
    "                early_stopping_rounds=early_stopping_rounds,\n",
    "                verbose_eval=False\n",
    "            )\n",
    "            fold_score = np.min(cv_result[score_name].values)\n",
    "            cv_scores.append(fold_score)\n",
    "        mean_score = np.mean(cv_scores)\n",
    "        logger.info(f\"Trial {trial.number} 終了: スコア {mean_score}\")\n",
    "        \n",
    "        return mean_score\n",
    "\n",
    "    logger.info(\"Optuna最適化開始\")\n",
    "    N_WARMUP_STEPS = optuna_conf.n_warmup_steps\n",
    "    TIMEOUT = optuna_conf.timeout\n",
    "    N_JOBS = optuna_conf.n_jobs\n",
    "    N_TRIALS = optuna_conf.n_trials\n",
    "    \n",
    "    sampler = optuna.samplers.TPESampler(seed=42)\n",
    "    pruner = optuna.pruners.MedianPruner(n_warmup_steps=N_WARMUP_STEPS)\n",
    "\n",
    "    study = optuna.create_study(direction=\"minimize\", sampler=sampler, pruner=pruner)\n",
    "    study.optimize(objective, n_trials=N_TRIALS, timeout=TIMEOUT, n_jobs=N_JOBS)\n",
    "\n",
    "    best_trial = study.best_trial\n",
    "    logger.info(\"Best trial:\")\n",
    "    logger.info(f\"  Value: {best_trial.value}\")\n",
    "    \n",
    "    for key, value in best_trial.params.items():\n",
    "        print(f\"    {key}: {value}\")\n",
    "    param.update(best_trial.params)\n",
    "\n",
    "    logger.info(\"Optuna最適化終了\")\n",
    "    return param"
   ]
  },
  {
   "cell_type": "code",
   "execution_count": 20,
   "id": "42532b8d",
   "metadata": {
    "execution": {
     "iopub.execute_input": "2025-03-14T08:39:21.035663Z",
     "iopub.status.busy": "2025-03-14T08:39:21.033656Z",
     "iopub.status.idle": "2025-03-14T08:39:21.041169Z",
     "shell.execute_reply": "2025-03-14T08:39:21.041169Z"
    },
    "papermill": {
     "duration": 0.021586,
     "end_time": "2025-03-14T08:39:21.043176",
     "exception": false,
     "start_time": "2025-03-14T08:39:21.021590",
     "status": "completed"
    },
    "tags": []
   },
   "outputs": [
    {
     "name": "stdout",
     "output_type": "stream",
     "text": [
      "not use Optuna, use xgb_model.param\n",
      "param: {'eval_metric': 'rmse', 'booster': 'gbtree', 'eta': 0.02, 'subsample': 0.35, 'colsample_bytree': 0.7, 'num_parallel_tree': 10, 'min_child_weight': 40, 'gamma': 10, 'max_depth': 3}\n",
      "repeat_cv: 10\n",
      "num_boost_round: 3000\n",
      "folds_splits: 5\n",
      "early_stopping_rounds: 25\n"
     ]
    }
   ],
   "source": [
    "IS_OPTUNA = MODEL.optuna_enabled\n",
    "if IS_OPTUNA:\n",
    "    print(\"Optuna use mode\") \n",
    "    optuna_conf = MODEL.xgb_model.optuna\n",
    "    logger.add(os.path.join(OUTPUT_PATH, \"results.log\"), format=\"{time:YYYY-MM-DD at HH:mm:ss} - {level} - {message}\", level=\"INFO\")\n",
    "    param = run_optuna_optimization(param, optuna_conf)\n",
    "    print(\"param updated by optuna\")\n",
    "    results+= [\"param set after optuna is below\", f\"{param}\", \"\"]\n",
    "else:    \n",
    "    print(\"not use Optuna, use xgb_model.param\")\n",
    "\n",
    "\n",
    "\n",
    "print(\"param:\", param)\n",
    "print(\"repeat_cv:\", repeat_cv)\n",
    "print(\"num_boost_round:\", num_boost_round)\n",
    "print(\"folds_splits:\", folds_splits)\n",
    "print(\"early_stopping_rounds:\", early_stopping_rounds)"
   ]
  },
  {
   "cell_type": "code",
   "execution_count": 21,
   "id": "d34a1d41",
   "metadata": {
    "execution": {
     "iopub.execute_input": "2025-03-14T08:39:21.065808Z",
     "iopub.status.busy": "2025-03-14T08:39:21.065808Z",
     "iopub.status.idle": "2025-03-14T08:42:56.199196Z",
     "shell.execute_reply": "2025-03-14T08:42:56.199196Z"
    },
    "papermill": {
     "duration": 215.145021,
     "end_time": "2025-03-14T08:42:56.199196",
     "exception": false,
     "start_time": "2025-03-14T08:39:21.054175",
     "status": "completed"
    },
    "tags": []
   },
   "outputs": [
    {
     "name": "stderr",
     "output_type": "stream",
     "text": [
      "\r",
      "  0%|                                                                                                                                                            | 0/10 [00:00<?, ?it/s]"
     ]
    },
    {
     "name": "stdout",
     "output_type": "stream",
     "text": [
      "[0]\ttrain-rmse:17.09099+0.03253\ttest-rmse:17.09462+0.13437\n"
     ]
    },
    {
     "name": "stdout",
     "output_type": "stream",
     "text": [
      "[50]\ttrain-rmse:13.07605+0.04923\ttest-rmse:13.27646+0.17901\n"
     ]
    },
    {
     "name": "stdout",
     "output_type": "stream",
     "text": [
      "[100]\ttrain-rmse:11.98494+0.04666\ttest-rmse:12.35002+0.19479\n"
     ]
    },
    {
     "name": "stdout",
     "output_type": "stream",
     "text": [
      "[150]\ttrain-rmse:11.56749+0.04634\ttest-rmse:12.08101+0.18860\n"
     ]
    },
    {
     "name": "stdout",
     "output_type": "stream",
     "text": [
      "[200]\ttrain-rmse:11.31290+0.04713\ttest-rmse:11.97026+0.18942\n"
     ]
    },
    {
     "name": "stdout",
     "output_type": "stream",
     "text": [
      "[250]\ttrain-rmse:11.11712+0.04676\ttest-rmse:11.91432+0.18678\n"
     ]
    },
    {
     "name": "stdout",
     "output_type": "stream",
     "text": [
      "[300]\ttrain-rmse:10.94922+0.04738\ttest-rmse:11.88094+0.18307\n"
     ]
    },
    {
     "name": "stdout",
     "output_type": "stream",
     "text": [
      "[350]\ttrain-rmse:10.80089+0.04739\ttest-rmse:11.86212+0.18160\n"
     ]
    },
    {
     "name": "stdout",
     "output_type": "stream",
     "text": [
      "[400]\ttrain-rmse:10.66581+0.04608\ttest-rmse:11.85444+0.18250\n"
     ]
    },
    {
     "name": "stdout",
     "output_type": "stream",
     "text": [
      "[431]\ttrain-rmse:10.58763+0.04674\ttest-rmse:11.85376+0.17994\n"
     ]
    },
    {
     "name": "stderr",
     "output_type": "stream",
     "text": [
      "\r",
      " 10%|██████████████▊                                                                                                                                     | 1/10 [00:16<02:27, 16.37s/it]"
     ]
    },
    {
     "name": "stdout",
     "output_type": "stream",
     "text": [
      "[0]\ttrain-rmse:17.08872+0.15467\ttest-rmse:17.08217+0.62826\n"
     ]
    },
    {
     "name": "stdout",
     "output_type": "stream",
     "text": [
      "[50]\ttrain-rmse:13.07446+0.10401\ttest-rmse:13.25763+0.50764\n"
     ]
    },
    {
     "name": "stdout",
     "output_type": "stream",
     "text": [
      "[100]\ttrain-rmse:11.98844+0.10050\ttest-rmse:12.33987+0.44176\n"
     ]
    },
    {
     "name": "stdout",
     "output_type": "stream",
     "text": [
      "[150]\ttrain-rmse:11.56998+0.09666\ttest-rmse:12.06427+0.42259\n"
     ]
    },
    {
     "name": "stdout",
     "output_type": "stream",
     "text": [
      "[200]\ttrain-rmse:11.31422+0.09688\ttest-rmse:11.95028+0.41095\n"
     ]
    },
    {
     "name": "stdout",
     "output_type": "stream",
     "text": [
      "[250]\ttrain-rmse:11.11835+0.09713\ttest-rmse:11.89159+0.40350\n"
     ]
    },
    {
     "name": "stdout",
     "output_type": "stream",
     "text": [
      "[300]\ttrain-rmse:10.95195+0.09731\ttest-rmse:11.85980+0.40141\n"
     ]
    },
    {
     "name": "stdout",
     "output_type": "stream",
     "text": [
      "[350]\ttrain-rmse:10.80505+0.09698\ttest-rmse:11.84530+0.39908\n"
     ]
    },
    {
     "name": "stdout",
     "output_type": "stream",
     "text": [
      "[400]\ttrain-rmse:10.67139+0.09752\ttest-rmse:11.83390+0.39659\n"
     ]
    },
    {
     "name": "stdout",
     "output_type": "stream",
     "text": [
      "[447]\ttrain-rmse:10.55296+0.09800\ttest-rmse:11.83155+0.39551\n"
     ]
    },
    {
     "name": "stderr",
     "output_type": "stream",
     "text": [
      "\r",
      " 20%|█████████████████████████████▌                                                                                                                      | 2/10 [00:33<02:15, 16.88s/it]"
     ]
    },
    {
     "name": "stdout",
     "output_type": "stream",
     "text": [
      "[0]\ttrain-rmse:17.09100+0.12076\ttest-rmse:17.08627+0.49299\n"
     ]
    },
    {
     "name": "stdout",
     "output_type": "stream",
     "text": [
      "[50]\ttrain-rmse:13.07878+0.07513\ttest-rmse:13.24461+0.36639\n"
     ]
    },
    {
     "name": "stdout",
     "output_type": "stream",
     "text": [
      "[100]\ttrain-rmse:11.99287+0.06639\ttest-rmse:12.31898+0.31504\n"
     ]
    },
    {
     "name": "stdout",
     "output_type": "stream",
     "text": [
      "[150]\ttrain-rmse:11.57573+0.06580\ttest-rmse:12.04199+0.30185\n"
     ]
    },
    {
     "name": "stdout",
     "output_type": "stream",
     "text": [
      "[200]\ttrain-rmse:11.32048+0.06393\ttest-rmse:11.92554+0.29664\n"
     ]
    },
    {
     "name": "stdout",
     "output_type": "stream",
     "text": [
      "[250]\ttrain-rmse:11.12327+0.06213\ttest-rmse:11.86656+0.28924\n"
     ]
    },
    {
     "name": "stdout",
     "output_type": "stream",
     "text": [
      "[300]\ttrain-rmse:10.95650+0.06065\ttest-rmse:11.83428+0.28336\n"
     ]
    },
    {
     "name": "stdout",
     "output_type": "stream",
     "text": [
      "[350]\ttrain-rmse:10.80945+0.06080\ttest-rmse:11.81909+0.27804\n"
     ]
    },
    {
     "name": "stdout",
     "output_type": "stream",
     "text": [
      "[400]\ttrain-rmse:10.67509+0.06075\ttest-rmse:11.81011+0.27614\n"
     ]
    },
    {
     "name": "stdout",
     "output_type": "stream",
     "text": [
      "[450]\ttrain-rmse:10.54924+0.05963\ttest-rmse:11.80487+0.26935\n"
     ]
    },
    {
     "name": "stdout",
     "output_type": "stream",
     "text": [
      "[479]\ttrain-rmse:10.48074+0.05958\ttest-rmse:11.80690+0.26748\n"
     ]
    },
    {
     "name": "stderr",
     "output_type": "stream",
     "text": [
      "\r",
      " 30%|████████████████████████████████████████████▍                                                                                                       | 3/10 [00:52<02:04, 17.79s/it]"
     ]
    },
    {
     "name": "stdout",
     "output_type": "stream",
     "text": [
      "[0]\ttrain-rmse:17.09013+0.07554\ttest-rmse:17.08994+0.30705\n"
     ]
    },
    {
     "name": "stdout",
     "output_type": "stream",
     "text": [
      "[50]\ttrain-rmse:13.07265+0.04678\ttest-rmse:13.24467+0.29957\n"
     ]
    },
    {
     "name": "stdout",
     "output_type": "stream",
     "text": [
      "[100]\ttrain-rmse:11.98820+0.05251\ttest-rmse:12.31501+0.24880\n"
     ]
    },
    {
     "name": "stdout",
     "output_type": "stream",
     "text": [
      "[150]\ttrain-rmse:11.57269+0.05533\ttest-rmse:12.03842+0.22808\n"
     ]
    },
    {
     "name": "stdout",
     "output_type": "stream",
     "text": [
      "[200]\ttrain-rmse:11.31868+0.05862\ttest-rmse:11.92253+0.22382\n"
     ]
    },
    {
     "name": "stdout",
     "output_type": "stream",
     "text": [
      "[250]\ttrain-rmse:11.12545+0.06021\ttest-rmse:11.86279+0.22378\n"
     ]
    },
    {
     "name": "stdout",
     "output_type": "stream",
     "text": [
      "[300]\ttrain-rmse:10.95905+0.06041\ttest-rmse:11.83119+0.22488\n"
     ]
    },
    {
     "name": "stdout",
     "output_type": "stream",
     "text": [
      "[350]\ttrain-rmse:10.81048+0.06406\ttest-rmse:11.81083+0.23044\n"
     ]
    },
    {
     "name": "stdout",
     "output_type": "stream",
     "text": [
      "[400]\ttrain-rmse:10.67704+0.06566\ttest-rmse:11.79913+0.23631\n"
     ]
    },
    {
     "name": "stdout",
     "output_type": "stream",
     "text": [
      "[450]\ttrain-rmse:10.55223+0.06643\ttest-rmse:11.79324+0.23759\n"
     ]
    },
    {
     "name": "stdout",
     "output_type": "stream",
     "text": [
      "[469]\ttrain-rmse:10.50699+0.06683\ttest-rmse:11.79292+0.23987\n"
     ]
    },
    {
     "name": "stderr",
     "output_type": "stream",
     "text": [
      "\r",
      " 40%|███████████████████████████████████████████████████████████▏                                                                                        | 4/10 [01:16<02:02, 20.40s/it]"
     ]
    },
    {
     "name": "stdout",
     "output_type": "stream",
     "text": [
      "[0]\ttrain-rmse:17.08961+0.08433\ttest-rmse:17.09037+0.33656\n"
     ]
    },
    {
     "name": "stdout",
     "output_type": "stream",
     "text": [
      "[50]\ttrain-rmse:13.07687+0.10439\ttest-rmse:13.25601+0.48112\n"
     ]
    },
    {
     "name": "stdout",
     "output_type": "stream",
     "text": [
      "[100]\ttrain-rmse:11.98648+0.10211\ttest-rmse:12.32879+0.47258\n"
     ]
    },
    {
     "name": "stdout",
     "output_type": "stream",
     "text": [
      "[150]\ttrain-rmse:11.57090+0.10197\ttest-rmse:12.05313+0.45219\n"
     ]
    },
    {
     "name": "stdout",
     "output_type": "stream",
     "text": [
      "[200]\ttrain-rmse:11.31556+0.10123\ttest-rmse:11.93859+0.44202\n"
     ]
    },
    {
     "name": "stdout",
     "output_type": "stream",
     "text": [
      "[250]\ttrain-rmse:11.12252+0.09791\ttest-rmse:11.87904+0.43408\n"
     ]
    },
    {
     "name": "stdout",
     "output_type": "stream",
     "text": [
      "[300]\ttrain-rmse:10.95735+0.09527\ttest-rmse:11.84661+0.42126\n"
     ]
    },
    {
     "name": "stdout",
     "output_type": "stream",
     "text": [
      "[350]\ttrain-rmse:10.81124+0.09348\ttest-rmse:11.82626+0.41269\n"
     ]
    },
    {
     "name": "stdout",
     "output_type": "stream",
     "text": [
      "[400]\ttrain-rmse:10.67693+0.09203\ttest-rmse:11.81710+0.40690\n"
     ]
    },
    {
     "name": "stdout",
     "output_type": "stream",
     "text": [
      "[450]\ttrain-rmse:10.55152+0.09147\ttest-rmse:11.80829+0.40014\n"
     ]
    },
    {
     "name": "stdout",
     "output_type": "stream",
     "text": [
      "[500]\ttrain-rmse:10.43433+0.09017\ttest-rmse:11.80478+0.39614\n"
     ]
    },
    {
     "name": "stdout",
     "output_type": "stream",
     "text": [
      "[527]\ttrain-rmse:10.37286+0.09076\ttest-rmse:11.80533+0.39527\n"
     ]
    },
    {
     "name": "stderr",
     "output_type": "stream",
     "text": [
      "\r",
      " 50%|██████████████████████████████████████████████████████████████████████████                                                                          | 5/10 [01:39<01:45, 21.15s/it]"
     ]
    },
    {
     "name": "stdout",
     "output_type": "stream",
     "text": [
      "[0]\ttrain-rmse:17.08974+0.07302\ttest-rmse:17.09013+0.29842\n"
     ]
    },
    {
     "name": "stdout",
     "output_type": "stream",
     "text": [
      "[50]\ttrain-rmse:13.07649+0.06405\ttest-rmse:13.24611+0.25801\n"
     ]
    },
    {
     "name": "stdout",
     "output_type": "stream",
     "text": [
      "[100]\ttrain-rmse:11.98774+0.07132\ttest-rmse:12.30845+0.26873\n"
     ]
    },
    {
     "name": "stdout",
     "output_type": "stream",
     "text": [
      "[150]\ttrain-rmse:11.57341+0.07003\ttest-rmse:12.03256+0.26619\n"
     ]
    },
    {
     "name": "stdout",
     "output_type": "stream",
     "text": [
      "[200]\ttrain-rmse:11.31720+0.06774\ttest-rmse:11.91643+0.25929\n"
     ]
    },
    {
     "name": "stdout",
     "output_type": "stream",
     "text": [
      "[250]\ttrain-rmse:11.12243+0.06754\ttest-rmse:11.85657+0.25417\n"
     ]
    },
    {
     "name": "stdout",
     "output_type": "stream",
     "text": [
      "[300]\ttrain-rmse:10.95854+0.06761\ttest-rmse:11.82216+0.24954\n"
     ]
    },
    {
     "name": "stdout",
     "output_type": "stream",
     "text": [
      "[350]\ttrain-rmse:10.81029+0.07142\ttest-rmse:11.80288+0.24999\n"
     ]
    },
    {
     "name": "stdout",
     "output_type": "stream",
     "text": [
      "[400]\ttrain-rmse:10.67683+0.07348\ttest-rmse:11.78689+0.24730\n"
     ]
    },
    {
     "name": "stdout",
     "output_type": "stream",
     "text": [
      "[450]\ttrain-rmse:10.55060+0.07373\ttest-rmse:11.78404+0.24292\n"
     ]
    },
    {
     "name": "stdout",
     "output_type": "stream",
     "text": [
      "[500]\ttrain-rmse:10.43250+0.07328\ttest-rmse:11.77891+0.24292\n"
     ]
    },
    {
     "name": "stdout",
     "output_type": "stream",
     "text": [
      "[550]\ttrain-rmse:10.32025+0.07319\ttest-rmse:11.77820+0.24579\n"
     ]
    },
    {
     "name": "stdout",
     "output_type": "stream",
     "text": [
      "[551]\ttrain-rmse:10.31805+0.07333\ttest-rmse:11.77823+0.24611\n"
     ]
    },
    {
     "name": "stderr",
     "output_type": "stream",
     "text": [
      "\r",
      " 60%|████████████████████████████████████████████████████████████████████████████████████████▊                                                           | 6/10 [02:02<01:26, 21.74s/it]"
     ]
    },
    {
     "name": "stdout",
     "output_type": "stream",
     "text": [
      "[0]\ttrain-rmse:17.09074+0.10020\ttest-rmse:17.08982+0.40214\n"
     ]
    },
    {
     "name": "stdout",
     "output_type": "stream",
     "text": [
      "[50]\ttrain-rmse:13.07712+0.02122\ttest-rmse:13.27247+0.16539\n"
     ]
    },
    {
     "name": "stdout",
     "output_type": "stream",
     "text": [
      "[100]\ttrain-rmse:11.98622+0.01748\ttest-rmse:12.34244+0.10092\n"
     ]
    },
    {
     "name": "stdout",
     "output_type": "stream",
     "text": [
      "[150]\ttrain-rmse:11.56991+0.02837\ttest-rmse:12.07150+0.11122\n"
     ]
    },
    {
     "name": "stdout",
     "output_type": "stream",
     "text": [
      "[200]\ttrain-rmse:11.31512+0.03244\ttest-rmse:11.95545+0.12893\n"
     ]
    },
    {
     "name": "stdout",
     "output_type": "stream",
     "text": [
      "[250]\ttrain-rmse:11.11911+0.03549\ttest-rmse:11.89333+0.14112\n"
     ]
    },
    {
     "name": "stdout",
     "output_type": "stream",
     "text": [
      "[300]\ttrain-rmse:10.95338+0.03640\ttest-rmse:11.85686+0.14651\n"
     ]
    },
    {
     "name": "stdout",
     "output_type": "stream",
     "text": [
      "[350]\ttrain-rmse:10.80738+0.03646\ttest-rmse:11.83915+0.14993\n"
     ]
    },
    {
     "name": "stdout",
     "output_type": "stream",
     "text": [
      "[400]\ttrain-rmse:10.67397+0.03712\ttest-rmse:11.82764+0.15066\n"
     ]
    },
    {
     "name": "stdout",
     "output_type": "stream",
     "text": [
      "[450]\ttrain-rmse:10.55205+0.03581\ttest-rmse:11.82314+0.15342\n"
     ]
    },
    {
     "name": "stdout",
     "output_type": "stream",
     "text": [
      "[500]\ttrain-rmse:10.43217+0.03517\ttest-rmse:11.81902+0.15619\n"
     ]
    },
    {
     "name": "stdout",
     "output_type": "stream",
     "text": [
      "[528]\ttrain-rmse:10.36763+0.03634\ttest-rmse:11.82268+0.15433\n"
     ]
    },
    {
     "name": "stderr",
     "output_type": "stream",
     "text": [
      "\r",
      " 70%|███████████████████████████████████████████████████████████████████████████████████████████████████████▌                                            | 7/10 [02:25<01:06, 22.08s/it]"
     ]
    },
    {
     "name": "stdout",
     "output_type": "stream",
     "text": [
      "[0]\ttrain-rmse:17.08880+0.20696\ttest-rmse:17.07413+0.81320\n"
     ]
    },
    {
     "name": "stdout",
     "output_type": "stream",
     "text": [
      "[50]\ttrain-rmse:13.06957+0.11953\ttest-rmse:13.25353+0.67878\n"
     ]
    },
    {
     "name": "stdout",
     "output_type": "stream",
     "text": [
      "[100]\ttrain-rmse:11.98000+0.09994\ttest-rmse:12.34097+0.55987\n"
     ]
    },
    {
     "name": "stdout",
     "output_type": "stream",
     "text": [
      "[150]\ttrain-rmse:11.56231+0.09672\ttest-rmse:12.08512+0.50251\n"
     ]
    },
    {
     "name": "stdout",
     "output_type": "stream",
     "text": [
      "[200]\ttrain-rmse:11.30459+0.09432\ttest-rmse:11.97984+0.47521\n"
     ]
    },
    {
     "name": "stdout",
     "output_type": "stream",
     "text": [
      "[250]\ttrain-rmse:11.11022+0.09344\ttest-rmse:11.92773+0.45541\n"
     ]
    },
    {
     "name": "stdout",
     "output_type": "stream",
     "text": [
      "[300]\ttrain-rmse:10.94229+0.09267\ttest-rmse:11.90004+0.44177\n"
     ]
    },
    {
     "name": "stdout",
     "output_type": "stream",
     "text": [
      "[350]\ttrain-rmse:10.79499+0.09596\ttest-rmse:11.88858+0.43046\n"
     ]
    },
    {
     "name": "stdout",
     "output_type": "stream",
     "text": [
      "[400]\ttrain-rmse:10.65823+0.09688\ttest-rmse:11.88310+0.42535\n"
     ]
    },
    {
     "name": "stdout",
     "output_type": "stream",
     "text": [
      "[450]\ttrain-rmse:10.53436+0.09792\ttest-rmse:11.88103+0.42188\n"
     ]
    },
    {
     "name": "stdout",
     "output_type": "stream",
     "text": [
      "[455]\ttrain-rmse:10.52289+0.09783\ttest-rmse:11.88082+0.42148\n"
     ]
    },
    {
     "name": "stderr",
     "output_type": "stream",
     "text": [
      "\r",
      " 80%|██████████████████████████████████████████████████████████████████████████████████████████████████████████████████████▍                             | 8/10 [02:44<00:42, 21.27s/it]"
     ]
    },
    {
     "name": "stdout",
     "output_type": "stream",
     "text": [
      "[0]\ttrain-rmse:17.08952+0.19919\ttest-rmse:17.07440+0.83925\n"
     ]
    },
    {
     "name": "stdout",
     "output_type": "stream",
     "text": [
      "[50]\ttrain-rmse:13.07246+0.11953\ttest-rmse:13.26765+0.68436\n"
     ]
    },
    {
     "name": "stdout",
     "output_type": "stream",
     "text": [
      "[100]\ttrain-rmse:11.98212+0.08899\ttest-rmse:12.35643+0.52577\n"
     ]
    },
    {
     "name": "stdout",
     "output_type": "stream",
     "text": [
      "[150]\ttrain-rmse:11.56235+0.07868\ttest-rmse:12.08559+0.43311\n"
     ]
    },
    {
     "name": "stdout",
     "output_type": "stream",
     "text": [
      "[200]\ttrain-rmse:11.30935+0.07478\ttest-rmse:11.97682+0.38017\n"
     ]
    },
    {
     "name": "stdout",
     "output_type": "stream",
     "text": [
      "[250]\ttrain-rmse:11.11249+0.07407\ttest-rmse:11.91799+0.34814\n"
     ]
    },
    {
     "name": "stdout",
     "output_type": "stream",
     "text": [
      "[300]\ttrain-rmse:10.94734+0.07437\ttest-rmse:11.88693+0.32907\n"
     ]
    },
    {
     "name": "stdout",
     "output_type": "stream",
     "text": [
      "[350]\ttrain-rmse:10.79872+0.07495\ttest-rmse:11.86889+0.31454\n"
     ]
    },
    {
     "name": "stdout",
     "output_type": "stream",
     "text": [
      "[400]\ttrain-rmse:10.66389+0.07559\ttest-rmse:11.85757+0.30912\n"
     ]
    },
    {
     "name": "stdout",
     "output_type": "stream",
     "text": [
      "[450]\ttrain-rmse:10.54036+0.07682\ttest-rmse:11.85132+0.30126\n"
     ]
    },
    {
     "name": "stdout",
     "output_type": "stream",
     "text": [
      "[500]\ttrain-rmse:10.42290+0.07646\ttest-rmse:11.84911+0.29854\n"
     ]
    },
    {
     "name": "stdout",
     "output_type": "stream",
     "text": [
      "[543]\ttrain-rmse:10.32586+0.07769\ttest-rmse:11.84952+0.29805\n"
     ]
    },
    {
     "name": "stderr",
     "output_type": "stream",
     "text": [
      "\r",
      " 90%|█████████████████████████████████████████████████████████████████████████████████████████████████████████████████████████████████████▏              | 9/10 [03:09<00:22, 22.29s/it]"
     ]
    },
    {
     "name": "stdout",
     "output_type": "stream",
     "text": [
      "[0]\ttrain-rmse:17.09100+0.13465\ttest-rmse:17.08608+0.55166\n"
     ]
    },
    {
     "name": "stdout",
     "output_type": "stream",
     "text": [
      "[50]\ttrain-rmse:13.07770+0.08793\ttest-rmse:13.25818+0.49528\n"
     ]
    },
    {
     "name": "stdout",
     "output_type": "stream",
     "text": [
      "[100]\ttrain-rmse:11.98868+0.07839\ttest-rmse:12.33082+0.41657\n"
     ]
    },
    {
     "name": "stdout",
     "output_type": "stream",
     "text": [
      "[150]\ttrain-rmse:11.57362+0.08076\ttest-rmse:12.05815+0.38271\n"
     ]
    },
    {
     "name": "stdout",
     "output_type": "stream",
     "text": [
      "[200]\ttrain-rmse:11.31936+0.08011\ttest-rmse:11.94660+0.36870\n"
     ]
    },
    {
     "name": "stdout",
     "output_type": "stream",
     "text": [
      "[250]\ttrain-rmse:11.12568+0.07646\ttest-rmse:11.88363+0.36400\n"
     ]
    },
    {
     "name": "stdout",
     "output_type": "stream",
     "text": [
      "[300]\ttrain-rmse:10.96018+0.07619\ttest-rmse:11.84868+0.35706\n"
     ]
    },
    {
     "name": "stdout",
     "output_type": "stream",
     "text": [
      "[350]\ttrain-rmse:10.81359+0.07590\ttest-rmse:11.82915+0.35146\n"
     ]
    },
    {
     "name": "stdout",
     "output_type": "stream",
     "text": [
      "[400]\ttrain-rmse:10.68006+0.07441\ttest-rmse:11.81871+0.34328\n"
     ]
    },
    {
     "name": "stdout",
     "output_type": "stream",
     "text": [
      "[450]\ttrain-rmse:10.55447+0.07484\ttest-rmse:11.81204+0.33846\n"
     ]
    },
    {
     "name": "stdout",
     "output_type": "stream",
     "text": [
      "[500]\ttrain-rmse:10.43626+0.07500\ttest-rmse:11.81013+0.33144\n"
     ]
    },
    {
     "name": "stdout",
     "output_type": "stream",
     "text": [
      "[550]\ttrain-rmse:10.32391+0.07437\ttest-rmse:11.80799+0.32608\n"
     ]
    },
    {
     "name": "stdout",
     "output_type": "stream",
     "text": [
      "[593]\ttrain-rmse:10.23116+0.07485\ttest-rmse:11.80901+0.32457\n"
     ]
    },
    {
     "name": "stderr",
     "output_type": "stream",
     "text": [
      "\r",
      "100%|███████████████████████████████████████████████████████████████████████████████████████████████████████████████████████████████████████████████████| 10/10 [03:34<00:00, 23.39s/it]"
     ]
    },
    {
     "name": "stderr",
     "output_type": "stream",
     "text": [
      "\r",
      "100%|███████████████████████████████████████████████████████████████████████████████████████████████████████████████████████████████████████████████████| 10/10 [03:34<00:00, 21.49s/it]"
     ]
    },
    {
     "name": "stderr",
     "output_type": "stream",
     "text": [
      "\n"
     ]
    }
   ],
   "source": [
    "if param.get(\"eval_metric\", \"mae\") == \"rmse\":\n",
    "    score_key = \"test-rmse-mean\"\n",
    "    ylabel = \"Test RMSE Mean\"\n",
    "    title = \"Learning Curve: Test RMSE vs Boosting Rounds\"\n",
    "elif param.get(\"eval_metric\", \"mae\") == \"mae\":\n",
    "    score_key = \"test-mae-mean\"\n",
    "    ylabel = \"Test MAE Mean\"\n",
    "    title = \"Learning Curve: Test MAE vs Boosting Rounds\"\n",
    "elif param.get(\"eval_metric\", \"mae\") == \"logloss\":\n",
    "    score_key = \"test-logloss-mean\"\n",
    "    ylabel = \"Test Logloss Mean\"\n",
    "    title = \"Learning Curve: Test Logloss vs Boosting Rounds\"\n",
    "\n",
    "\n",
    "for i in tqdm(range(repeat_cv), leave=True, dynamic_ncols=True): \n",
    "    cv_result = xgb.cv(\n",
    "        params=param,\n",
    "        dtrain=dtrain,\n",
    "        obj=cauchyobj,\n",
    "        num_boost_round=num_boost_round,\n",
    "        folds=KFold(n_splits=folds_splits, shuffle=True, random_state=i),\n",
    "        early_stopping_rounds=early_stopping_rounds,\n",
    "        verbose_eval=50\n",
    "    )\n",
    "    \"\"\"\n",
    "    train-mae-mean: 各fold における訓練データの MAE の平均値。\n",
    "    train-mae-std: 訓練データの MAE の標準偏差。\n",
    "    test-mae-mean: 各fold における検証データの MAE の平均値。\n",
    "    test-mae-std: 検証データの MAE の標準偏差。\n",
    "    \"\"\"\n",
    "    xgb_cv.append(cv_result)\n",
    "    \n",
    "\n",
    "\n",
    "\n",
    "# 各 repeater ごとの最適ブーストラウンド数と検証MAE\n",
    "iteration_counts = [np.argmin(cv[score_key].values) for cv in xgb_cv]\n",
    "val_mae = [np.min(cv[score_key].values) for cv in xgb_cv]\n",
    "\n",
    "mean_iteration = np.mean(iteration_counts)\n",
    "mean_val_mae = np.mean(val_mae)\n",
    "min_val_mae = np.min(val_mae)\n",
    "results.append(f\"mean_iteration: {mean_iteration}\")\n",
    "results.append(f\"mean_val_{param['eval_metric']}: {mean_val_mae}\")\n",
    "results.append(f\"min_val_{param['eval_metric']}: {min_val_mae}\")\n",
    "results.append(\"\")\n",
    "\n",
    "###\n",
    "plt.figure(figsize=(10, 6))\n",
    "for i, cv_result in enumerate(xgb_cv):\n",
    "    rounds = np.arange(len(cv_result[score_key]))\n",
    "    plt.plot(rounds, cv_result[score_key], label=f\"CV repeater {i+1}\")\n",
    "    \n",
    "plt.xlabel(\"Boosting Round\")\n",
    "plt.ylabel(ylabel)\n",
    "plt.title(title)\n",
    "plt.legend()\n",
    "plt.grid(True)\n",
    "\n",
    "plt.savefig(os.path.join(OUTPUT_PATH, f\"learning_curve_{PREDICT_YEAR}.png\"))\n",
    "plt.close()\n",
    "###\n"
   ]
  },
  {
   "cell_type": "code",
   "execution_count": 22,
   "id": "c7a2bce8",
   "metadata": {
    "execution": {
     "iopub.execute_input": "2025-03-14T08:42:56.226250Z",
     "iopub.status.busy": "2025-03-14T08:42:56.226250Z",
     "iopub.status.idle": "2025-03-14T08:42:56.233311Z",
     "shell.execute_reply": "2025-03-14T08:42:56.233311Z"
    },
    "papermill": {
     "duration": 0.030173,
     "end_time": "2025-03-14T08:42:56.233311",
     "exception": false,
     "start_time": "2025-03-14T08:42:56.203138",
     "status": "completed"
    },
    "tags": []
   },
   "outputs": [
    {
     "name": "stdout",
     "output_type": "stream",
     "text": [
      "最適ブーストラウンド数: [407, 422, 455, 444, 503, 526, 504, 430, 519, 568]\n",
      "test-rmse-mean: [11.85282292003321, 11.829915290902074, 11.804759772081985, 11.792046672313099, 11.804284271121052, 11.776792655070732, 11.818916829022639, 11.88026633334928, 11.848094796338572, 11.80743868540281]\n"
     ]
    }
   ],
   "source": [
    "print(\"最適ブーストラウンド数:\", iteration_counts)\n",
    "print(f\"{score_key}:\", val_mae)\n",
    "results.append(f\"最適ブーストラウンド: {iteration_counts}\")\n",
    "results.append(f\"{score_key}: {val_mae}\")\n",
    "results.append(\"\")"
   ]
  },
  {
   "cell_type": "code",
   "execution_count": 23,
   "id": "7cfc82a1",
   "metadata": {
    "execution": {
     "iopub.execute_input": "2025-03-14T08:42:56.262143Z",
     "iopub.status.busy": "2025-03-14T08:42:56.262143Z",
     "iopub.status.idle": "2025-03-14T08:46:04.204376Z",
     "shell.execute_reply": "2025-03-14T08:46:04.204376Z"
    },
    "papermill": {
     "duration": 187.990383,
     "end_time": "2025-03-14T08:46:04.230478",
     "exception": false,
     "start_time": "2025-03-14T08:42:56.240095",
     "status": "completed"
    },
    "tags": []
   },
   "outputs": [
    {
     "name": "stderr",
     "output_type": "stream",
     "text": [
      "\r",
      "  0%|                                                                                                                                                            | 0/10 [00:00<?, ?it/s]"
     ]
    },
    {
     "name": "stderr",
     "output_type": "stream",
     "text": [
      "C:\\Users\\81809\\AppData\\Local\\Temp\\ipykernel_18960\\3386215446.py:18: FutureWarning: Setting an item of incompatible dtype is deprecated and will raise an error in a future version of pandas. Value '[ 2.09098492e+01  7.28209019e-01  1.70340614e+01  6.82875061e+00\n",
      " -6.03034258e+00 -1.42670512e+00  7.28182745e+00  7.45813417e+00\n",
      "  2.39075756e+01  1.91951203e+00  1.07385292e+01  6.27208996e+00\n",
      "  6.52018213e+00  7.03225231e+00 -3.66673589e+00  2.12474651e+01\n",
      " -2.51965141e+00  7.27061510e+00  9.89274311e+00  2.70343494e+00\n",
      "  2.94810390e+00  4.05316114e+00 -3.76361728e-01 -1.00353169e+00\n",
      "  6.00559187e+00  6.65352726e+00  3.20008636e+00  1.61235504e+01\n",
      "  4.35777330e+00 -5.85952711e+00 -3.02340627e+00  5.00740433e+00\n",
      "  6.48275554e-01  2.08068485e+01  8.37229919e+00 -6.42709017e+00\n",
      " -1.53721738e+00  7.94393778e+00  5.90311575e+00  5.27951002e+00\n",
      "  9.30411577e-01  9.20465183e+00 -4.01682520e+00  1.44740772e+01\n",
      "  3.54020905e+00  4.78652620e+00 -1.15432882e+01  2.96417618e+00\n",
      "  1.51270399e+01 -6.59476101e-01  2.16099014e+01 -1.45953679e+00\n",
      "  5.60134077e+00  4.90519142e+00 -3.54100966e+00  7.19821692e+00\n",
      "  2.34121823e+00  5.44681072e+00  1.39450741e+00  1.00562687e+01\n",
      " -5.57185698e+00 -2.94884890e-01  1.32761025e+00  2.28438587e+01\n",
      " -1.72123396e+00  8.07706928e+00  2.49803686e+00 -5.22492981e+00\n",
      "  1.17537346e+01 -3.18687129e+00  5.30219746e+00  2.41734200e+01\n",
      " -6.11988831e+00 -2.51788664e+00  2.98724318e+00  4.93353319e+00\n",
      " -2.82410574e+00  6.14604950e+00  1.61474247e+01  2.00947189e+01\n",
      "  2.56249666e+00 -4.34158993e+00  1.20720053e+00 -4.94717151e-01\n",
      "  4.12324518e-01  2.89951992e+00  1.66194546e+00 -1.01981258e+01\n",
      " -3.10075951e+00 -3.19184256e+00  8.56381226e+00  5.86067963e+00\n",
      "  3.60914588e+00  1.49914050e+00 -2.64210248e+00  1.81389008e+01\n",
      "  2.08280635e+00  4.96726704e+00  2.14453182e+01 -1.76047182e+00\n",
      " -3.89644694e+00  1.53624525e+01  1.87204609e+01  1.17406349e+01\n",
      "  4.26320124e+00 -6.71305370e+00 -5.05922079e-01  1.20648508e+01\n",
      "  5.64298916e+00 -3.86678147e+00  7.14514613e-01 -5.32168436e+00\n",
      "  6.43456650e+00 -5.74952221e+00 -1.57207785e+01  4.29901075e+00\n",
      "  4.18929279e-01  7.06920862e-01  3.19291830e+00  3.34724832e+00\n",
      "  3.06530666e+00  8.39603066e-01  1.07802095e+01  9.52615738e+00\n",
      "  7.07154703e+00  6.07947540e+00  1.16799850e+01 -2.75924826e+00\n",
      " -1.73183191e+00  2.63791490e+00  1.95017033e+01 -2.68570709e+00\n",
      "  1.15944643e+01 -1.42716732e+01 -7.29214811e+00  1.43736715e+01\n",
      "  3.50319338e+00  7.91139555e+00  8.40918541e+00 -1.38753688e+00\n",
      "  1.23256934e+00 -3.80849600e+00  8.18633461e+00  4.98765516e+00\n",
      "  2.54726553e+00 -1.00471652e+00  1.10993109e+01  7.93989956e-01\n",
      "  7.13710690e+00 -1.59760165e+00  2.55416036e+00  8.29513788e-01\n",
      "  2.00420876e+01  1.64143791e+01  9.79080677e+00  5.02284622e+00\n",
      "  4.53601217e+00  2.94718814e+00 -1.13123155e+00  6.55415118e-01\n",
      "  1.21910417e+00 -6.66768923e-02  9.70969677e+00  1.39982309e+01\n",
      " -1.40744817e+00  3.31354499e+00 -2.38640606e-02  3.96937990e+00\n",
      "  1.28663838e+00  3.45700622e+00  7.44293356e+00  1.11331737e+00\n",
      " -2.40397143e+00 -2.40826234e-01  6.23942423e+00  8.12517345e-01\n",
      "  1.82537842e+01  2.63020182e+00  6.67968416e+00  3.55054402e+00\n",
      " -2.43270946e+00  4.39817715e+00  9.36574268e+00 -8.04797935e+00\n",
      "  3.59424019e+00  2.02651253e+01  1.16816797e+01 -2.98169017e-01\n",
      "  1.80438662e+00  6.32666731e+00  3.04006720e+00  1.46343355e+01\n",
      " -4.85817939e-01  3.75961399e+00  7.11151838e+00  4.65986204e+00\n",
      "  2.91120839e+00  9.97626400e+00  1.52227011e+01  1.16555338e+01\n",
      "  2.61271214e+00 -2.29535065e+01  5.87891054e+00  4.10926819e+00\n",
      "  6.67775536e+00  5.35505056e+00  4.68239880e+00  4.70383501e+00\n",
      "  5.13817310e+00  1.76050830e+00  1.90097218e+01  1.00497141e+01\n",
      "  3.01987610e+01  4.13010216e+01  2.65985489e+01  2.39412041e+01\n",
      "  2.00407715e+01  2.34347973e+01  8.87174702e+00  3.71951252e-01\n",
      "  1.38978443e+01  4.87629461e+00 -5.62682819e+00  4.92885590e+00\n",
      "  2.00590076e+01  2.44072552e+01  9.24135685e+00  2.15466232e+01\n",
      "  1.28962879e+01  9.60843468e+00  7.70155430e+00  9.74312305e+00\n",
      " -2.25478005e+00  3.35321465e+01  1.48999968e+01  4.13361645e+00\n",
      "  3.49577141e+01  3.77490449e+00 -2.66912961e+00  2.17688465e+01\n",
      "  1.99630272e+00  1.34355812e+01  1.53311195e+01  5.62754679e+00\n",
      "  3.83281684e+00  1.08565454e+01  1.87729244e+01  3.48982430e+01\n",
      "  1.37765293e+01 -1.05030262e+00 -1.46712410e+00  1.92997289e+00\n",
      " -1.48805428e+01  6.71998262e+00  1.40568781e+01  4.81840104e-01\n",
      "  2.22176056e+01  4.33602219e+01 -5.41083860e+00  1.11823511e+00\n",
      "  1.52031479e+01  2.53685069e+00 -5.36029243e+00  8.56505966e+00\n",
      "  2.70199356e+01  1.19056082e+01  8.82765865e+00  4.84695578e+00\n",
      " -2.52542686e+00  2.46293855e+00  2.88917580e+01  9.77429199e+00\n",
      "  1.67478161e+01  1.43650198e+01 -1.00825119e+01  1.45268250e+01\n",
      "  1.11711922e+01  2.95807409e+00 -5.04834223e+00  4.29790020e+00\n",
      "  2.34097648e+00  3.06921816e+00  3.74912529e+01  1.37144156e+01\n",
      "  3.47402000e+01  3.43263588e+01 -1.11198902e+00  2.95813904e+01\n",
      " -3.33318263e-01 -2.59834409e+00  7.79767418e+00  1.34387951e+01\n",
      "  1.32201900e+01  1.44049978e+01  9.22974300e+00  3.97633910e+00\n",
      "  1.11601791e+01 -3.28697610e+00  1.02023764e+01 -3.75561142e+00\n",
      "  1.86855392e+01  2.68498478e+01  1.17243538e+01 -8.14886868e-01\n",
      " -1.70423043e+00  1.59174418e+00  8.74129391e+00 -2.01938686e+01\n",
      " -1.06268120e+01 -9.45874310e+00  1.78442669e+00  4.73615122e+00\n",
      "  8.81540489e+00  9.09620667e+00  3.15821381e+01  1.56706867e+01\n",
      "  4.00942469e+00  3.77344627e+01 -1.48626721e+00  1.05865965e+01\n",
      "  6.58784056e+00  2.83396387e+00  3.73527503e+00  1.93465436e+00\n",
      "  2.26593947e+00  5.52692604e+00 -5.03053856e+00  6.93959713e+00\n",
      " -2.24941060e-01  7.28568649e+00 -5.45089006e+00  2.00127621e+01\n",
      "  1.31085768e+01 -1.14354105e+01  2.20253830e+01 -7.09382963e+00\n",
      "  1.46826237e-01  8.59119701e+00 -4.22416449e+00 -1.12057285e+01\n",
      " -2.57982898e+00 -2.28952503e+01 -1.76005974e+01 -9.02043724e+00\n",
      " -5.18437910e+00  3.65752363e+00 -5.62323618e+00  2.15132880e+00\n",
      " -4.08359623e+00 -3.76515126e+00 -5.14284039e+00  5.71693373e+00\n",
      " -7.01992083e+00 -3.66330457e+00 -1.90064430e+01  1.84608138e+00\n",
      "  4.11074066e+00 -6.09580135e+00 -3.90740418e+00  2.40851927e+00\n",
      "  6.52524042e+00 -3.66431928e+00 -6.63709784e+00 -3.58725190e+00\n",
      " -8.01458836e-01 -1.57070708e+00 -2.28393745e+01  3.11079115e-01\n",
      "  1.52530384e+00 -7.01129484e+00 -6.39095688e+00 -5.59607649e+00\n",
      " -8.23750496e+00 -7.51565075e+00 -2.48725438e+00 -5.59005928e+00\n",
      "  6.83367312e-01 -5.94354820e+00  5.81060886e-01  1.94788110e+00\n",
      " -1.04772329e+01 -7.50549650e+00 -5.82674456e+00 -2.50241685e+00\n",
      " -9.67598820e+00 -4.01732254e+00 -1.59033232e+01 -2.57601891e+01\n",
      " -3.00699115e+00 -1.89398022e+01 -1.81632197e+00 -7.04373169e+00\n",
      " -3.30904794e+00 -2.21048307e+00 -8.04160309e+00 -1.96943562e-02\n",
      " -7.83495092e+00 -2.54007740e+01  3.79802418e+00 -2.18102570e+01\n",
      " -6.68568134e+00 -1.13025265e+01  4.88014364e+00  3.32986760e+00\n",
      " -9.12842560e+00  3.13304901e+00 -4.75110722e+00 -5.11345053e+00\n",
      " -4.58520842e+00 -6.48799133e+00 -1.01357479e+01 -1.84052682e+00\n",
      "  4.15094995e+00  6.15755856e-01 -1.02544603e+01 -5.43161345e+00\n",
      "  2.62105727e+00  3.03466582e+00  8.33829045e-01 -6.39273834e+00\n",
      " -2.59716678e+00  5.83379269e+00 -1.18631067e+01  2.67662215e+00\n",
      " -9.68807888e+00 -3.49042082e+00 -8.94670010e+00 -4.24148607e+00\n",
      " -1.38460457e+00 -1.12177372e+01 -3.32275534e+00 -2.17465935e+01\n",
      " -1.62030106e+01 -2.65097499e+00 -9.26262140e-01 -2.14421129e+00\n",
      " -2.41927791e+00 -1.69453299e+00  1.98988598e-02  2.14887452e+00\n",
      " -1.46097684e+00 -3.04317532e+01 -4.77322960e+00 -8.11037731e+00\n",
      " -8.45002460e+00  1.78064406e+00  1.72303367e+00 -6.80750799e+00\n",
      " -1.48569179e+00  2.06641316e+00 -5.56093037e-01 -8.68413162e+00\n",
      "  9.76340413e-01  7.05146408e+00 -1.22360684e-01 -7.96156406e+00\n",
      " -8.61159563e-01 -1.48304434e+01 -1.23755846e+01 -2.40305018e+00\n",
      " -1.70063627e+00 -2.58279943e+00 -2.07705307e+00 -6.51436949e+00\n",
      " -1.59368629e+01 -9.68560600e+00 -2.97821426e+00  3.00674939e+00\n",
      " -9.26990509e+00 -2.31868324e+01 -6.04911089e-01 -3.51290941e+00\n",
      " -4.76490688e+00  3.54439402e+00  9.08126068e+00 -3.35045725e-01\n",
      "  7.41367757e-01  3.47881269e+00  1.52961373e+00 -1.36729622e+01\n",
      " -8.11642361e+00 -1.74991150e+01 -4.54677677e+00 -4.08551121e+00\n",
      "  5.65509081e-01 -1.13907280e+01  2.40882540e+00 -1.73368096e+00\n",
      " -2.59597511e+01 -2.55225964e+01 -1.76174355e+01 -4.86498165e+00\n",
      " -3.33157015e+00 -4.63127136e+00  1.99432060e-01 -8.56434345e+00\n",
      " -7.54040098e+00 -1.92695677e+00 -2.92031121e+00  2.48256826e+00\n",
      " -1.60562553e+01 -8.50434959e-01  4.22277737e+00 -5.42596006e+00\n",
      "  7.63275337e+00 -7.04116201e+00  5.43025303e+00 -7.23577452e+00\n",
      " -1.75718575e+01 -1.62569218e+01 -2.76514220e+00  6.45957279e+00\n",
      " -1.02892933e+01 -3.28686595e+00 -8.57712984e-01  3.22069597e+00\n",
      " -1.44674711e+01 -5.84293127e-01 -1.75391369e+01 -2.63488102e+00\n",
      " -6.18746948e+00 -5.48897791e+00 -3.88190174e+00 -1.57532823e+00\n",
      " -1.54843931e+01  5.44745445e-01  4.93719864e+00  3.58003259e+00\n",
      " -1.13643484e+01  5.50828874e-01 -1.64092624e+00 -6.24850798e+00\n",
      " -3.42384028e+00 -3.94202805e+00 -2.49992442e+00  4.71369219e+00\n",
      " -1.97287521e+01 -3.51908607e+01 -3.23495007e+00 -4.37260485e+00\n",
      " -5.33861685e+00  3.48401833e+00 -1.07791338e+01 -2.80297337e+01\n",
      " -6.44070482e+00  3.73130751e+00  2.87076735e+00 -3.43578949e+01\n",
      " -3.68963661e+01  1.28227293e+00 -4.00907660e+00 -2.61763573e+01\n",
      "  7.09630966e+00 -2.37822380e+01 -3.47874069e+00 -1.88871336e+00\n",
      " -1.05200796e+01 -2.89861507e+01 -4.45161201e-02 -1.51850147e+01\n",
      " -1.71058521e+01 -5.39896727e+00 -2.45811081e+00  4.75553465e+00\n",
      " -3.89473228e+01  8.81947100e-01 -5.52791929e+00 -1.38030806e+01\n",
      "  8.16662025e+00  2.03440666e+00  6.66979313e+00 -1.06909113e+01\n",
      " -3.48887777e+00 -1.76498833e+01 -9.23879337e+00 -8.61055088e+00\n",
      " -2.26922703e+00  2.70365000e+00  5.43390274e+00 -3.09125614e+01\n",
      " -1.11843634e+01 -2.85770321e+00  1.17814617e+01 -3.15803299e+01\n",
      " -4.55812311e+00 -8.94813442e+00 -1.45614159e+00  4.43390894e+00\n",
      " -2.18444633e+00 -2.67528725e+00  7.02171373e+00  3.58019924e+00\n",
      " -1.30210762e+01 -1.01274328e+01 -3.46462440e+01 -5.66892862e+00\n",
      " -2.38399429e+01 -2.73100929e+01 -8.65793324e+00 -1.59880695e+01\n",
      " -1.15112762e+01 -3.39603209e+00 -3.73060036e+01 -2.98920059e+01\n",
      " -1.38501425e+01 -4.37451315e+00 -5.75174332e+00 -3.24927177e+01\n",
      " -8.96954823e+00  9.09761524e+00 -1.10721560e+01 -2.45706439e+00\n",
      " -7.81960487e+00 -1.11329775e+01 -8.13185215e+00 -2.54729462e+01\n",
      " -2.85406418e+01  3.95642567e+00 -4.95782089e+00 -7.89906216e+00\n",
      " -2.40172386e+01 -3.65650845e+00 -2.72405319e+01  1.08516846e+01\n",
      " -1.65738523e+00  8.17372799e+00  3.05767322e+00 -2.61664543e+01\n",
      " -4.73950148e+00 -3.03409462e+01 -1.54705486e+01 -7.91790628e+00\n",
      "  1.81166947e+00  3.95388889e+00 -2.66335354e+01  5.05377007e+00\n",
      " -1.24556255e+01 -6.31719291e-01 -3.39344101e+01 -1.32877522e+01\n",
      "  1.75769386e+01  4.46750498e+00 -1.43829298e+01 -1.35427790e+01\n",
      " -5.11077452e+00  8.19383526e+00]' has dtype incompatible with int64, please explicitly cast to a compatible dtype first.\n",
      "  preds[val_index] = model.predict(dval_i)\n"
     ]
    },
    {
     "name": "stderr",
     "output_type": "stream",
     "text": [
      "\r",
      " 10%|██████████████▊                                                                                                                                     | 1/10 [00:16<02:31, 16.81s/it]"
     ]
    },
    {
     "name": "stderr",
     "output_type": "stream",
     "text": [
      "C:\\Users\\81809\\AppData\\Local\\Temp\\ipykernel_18960\\3386215446.py:18: FutureWarning: Setting an item of incompatible dtype is deprecated and will raise an error in a future version of pandas. Value '[-7.83416986e+00  1.48798192e+00  1.53278522e+01 -3.47508937e-01\n",
      "  7.19442225e+00  4.61311579e+00  2.15851002e+01 -1.88115799e+00\n",
      "  1.30480280e+01  6.40350342e+00 -3.94393206e+00 -5.91502953e+00\n",
      "  6.17311621e+00  8.67240620e+00 -2.58788347e+00  2.32511139e+01\n",
      "  1.54948485e+00  2.10095811e+00  1.04149580e+01  9.45015430e+00\n",
      "  8.46608353e+00  4.55482197e+00  6.45424080e+00  4.47927713e+00\n",
      " -6.87802410e+00  2.67994714e+00  8.19692421e+00 -1.94986355e+00\n",
      "  2.46249199e+01  1.60425968e+01  1.26115866e+01  3.59331894e+00\n",
      "  6.27738094e+00 -2.97671676e+00  6.35822535e+00  5.93664503e+00\n",
      " -3.49512029e+00  2.46779978e-01  7.95499754e+00  2.24077473e+01\n",
      "  1.20074024e+01  1.10881767e+01  1.73405628e+01  8.14883995e+00\n",
      "  1.60858822e+01  7.37452745e+00  7.14739323e+00  5.80996752e+00\n",
      " -4.57741708e-01  5.63460064e+00  8.53493094e-01 -6.37380123e-01\n",
      "  1.75666225e+00  6.61359787e+00  8.71063232e+00  2.56206551e+01\n",
      "  7.49971342e+00 -8.99586022e-01  9.89281750e+00  9.22406006e+00\n",
      "  6.83592844e+00  6.66690207e+00 -1.43629479e+00 -3.51945567e+00\n",
      " -9.40845191e-01  2.89430213e+00 -1.66200674e+00  1.54002798e+00\n",
      "  1.89520378e+01  1.15327263e+01 -9.30302292e-02  2.80815639e+01\n",
      "  1.34449234e+01  4.05569744e+00  2.02422085e+01 -7.52340841e+00\n",
      "  6.43164253e+00  5.82685471e+00  3.28808451e+00  3.89939952e+00\n",
      "  4.05338526e-01 -7.79534042e-01  1.73015862e+01  7.73576880e+00\n",
      " -2.49216390e+00 -1.04615860e+01  4.62142992e+00  8.49234295e+00\n",
      "  3.08639240e+00  1.80139363e+00  1.90207791e+00 -5.29516172e+00\n",
      " -3.34156990e+00  1.84156437e+01 -3.12277532e+00 -1.69052148e+00\n",
      " -2.57459331e+00  1.32244091e+01  1.06504240e+01  1.47497139e+01\n",
      "  3.43139243e+00 -5.07607126e+00  1.27727299e+01  8.06868744e+00\n",
      "  1.21889801e+01  2.83438611e+00  9.41985035e+00 -1.14616215e+00\n",
      "  1.80377979e+01 -2.25432134e+00  2.13866215e+01 -2.41052246e+00\n",
      "  1.35997844e+00  1.44232378e+01  1.88678131e+01 -3.47414851e+00\n",
      "  2.11401701e+00 -4.32519341e+00 -9.41694832e+00 -6.84421730e+00\n",
      "  2.10811353e+00  1.19750619e+00  2.58596331e-01 -9.80623722e-01\n",
      " -2.96265721e+00  1.93519503e-01 -5.68545246e+00  7.42106771e+00\n",
      "  2.75679183e+00  2.95618248e+01  7.33589983e+00  2.65436554e+01\n",
      "  4.87354565e+00 -4.08109486e-01  1.02138586e+01 -7.84963751e+00\n",
      " -5.18460703e+00  8.88058007e-01 -6.31547642e+00 -2.26695657e-01\n",
      "  6.06736994e+00 -3.36644828e-01  2.23805904e+01  1.59504728e+01\n",
      "  3.81134605e+00  4.72154796e-01 -8.39313626e-01  9.24531579e-01\n",
      "  3.95599425e-01  3.47216934e-01 -2.82384324e+00 -5.36450207e-01\n",
      "  2.78303576e+00 -6.15773869e+00 -1.21240604e+00  4.01172113e+00\n",
      "  2.08764019e+01  9.23464224e-02  2.77274370e+00  6.90661764e+00\n",
      " -7.61969328e+00  3.12464142e+00 -6.04961991e-01 -5.14261389e+00\n",
      " -3.87243271e+00  4.72179085e-01  3.04858341e+01  1.06004643e+00\n",
      "  7.01094151e+00 -4.46064329e+00  6.70541942e-01  1.24670506e+01\n",
      "  1.95964642e+01  1.02763615e+01  4.09595919e+00 -6.87544525e-01\n",
      "  1.17378359e+01 -5.60693693e+00 -1.85175037e+01 -5.73893166e+00\n",
      "  4.73287392e+00  7.58442068e+00 -2.44839191e+00  8.19053745e+00\n",
      "  2.06936588e+01  1.05753698e+01  2.05704618e+00  2.37548294e+01\n",
      " -6.14071012e-01  9.05471230e+00  2.44631863e+01 -2.25727034e+00\n",
      " -6.32866502e-01  4.01847887e+00  1.19623041e+00  5.50349188e+00\n",
      " -4.28311825e+00  2.18615890e+00 -7.40866137e+00  1.29664910e+00\n",
      "  3.69679308e+00 -1.89044225e+00  2.18361340e+01 -3.43307555e-01\n",
      "  1.67727242e+01  1.71094170e+01  1.80341530e+01 -3.40803409e+00\n",
      "  2.07513294e+01  2.74704289e+00 -9.85693264e+00 -1.04175358e+01\n",
      "  1.04154367e+01  2.72991371e+00 -7.67914355e-01 -3.36087728e+00\n",
      "  5.63403940e+00  4.52937365e+00  4.63003969e+00  2.02474308e+01\n",
      " -2.53096104e+00  1.99651742e+00  5.43876457e+00  2.08486595e+01\n",
      " -3.13592482e+00  1.17053246e+00  1.91308651e+01  2.82486916e+01\n",
      " -8.92003918e+00 -3.36210322e+00  7.74656916e+00  2.65836143e+01\n",
      "  3.69349327e+01 -1.30039644e+00  5.28011131e+00  2.04763222e+01\n",
      "  7.76366282e+00  2.33390446e+01 -6.86473846e+00 -6.36452723e+00\n",
      "  6.35351133e+00  9.68867207e+00  6.34984159e+00 -6.80338240e+00\n",
      "  2.25569401e+01  6.28173530e-01 -5.63220453e+00  1.19087782e+01\n",
      "  9.03880477e-01  1.56513393e+00  1.32891808e+01 -1.26343803e+01\n",
      "  1.54248447e+01  2.00554714e+01  6.74412370e-01  8.10801125e+00\n",
      "  1.04695311e+01  9.11449146e+00  3.43361816e+01  2.21417313e+01\n",
      "  5.00707960e+00 -8.56987476e+00  3.38830452e+01  1.41415205e+01\n",
      "  2.67062068e+00  7.19377613e+00  2.13395157e+01  4.57550049e+01\n",
      "  2.07997246e+01 -6.68656921e+00  3.15164261e+01  1.22416239e+01\n",
      "  3.56017303e+01  1.24834881e+01  2.19890738e+00  5.47667027e+00\n",
      "  1.16439486e+01  7.97524261e+00  4.72829866e+00  2.49514351e+01\n",
      "  2.84328232e+01  7.74114132e+00  7.52761126e+00  3.18862939e+00\n",
      "  2.75900021e+01 -3.97220564e+00  1.08085728e+01  2.66149273e+01\n",
      " -1.78809047e+00  1.44960523e+00  2.21407086e-01  1.37870712e+01\n",
      "  3.05977154e+01  3.33864951e+00  1.84688282e+01  9.40744400e+00\n",
      "  2.60280266e+01 -7.07241058e-01 -6.68921566e+00  3.23424578e+00\n",
      "  6.87357807e+00  1.07249613e+01  2.85605931e+00  4.61548233e+00\n",
      " -1.09111586e+01  1.70082939e+00 -1.24900949e+00 -6.71016741e+00\n",
      " -1.60061467e+00  2.52658486e+00 -7.30477154e-01  3.97410164e+01\n",
      "  2.54713249e+01  7.25223732e+00  6.59215117e+00 -4.62698030e+00\n",
      "  6.45915270e+00  2.20882263e+01 -5.26235962e+00  1.94060364e+01\n",
      "  1.88619816e+00 -1.07383270e+01 -1.25701971e+01  2.89643726e+01\n",
      "  4.53098631e+00  6.20656252e+00  1.23112736e+01 -1.07655172e+01\n",
      "  4.41304827e+00 -1.62583542e+01 -2.31936607e+01  3.45852780e+00\n",
      " -6.52201712e-01 -6.68082714e-01 -7.67149925e+00  4.48421907e+00\n",
      " -7.37146807e+00  4.29643536e+00 -7.18243694e+00 -6.32161856e+00\n",
      "  1.36893332e-01  8.35090637e+00  1.47242260e+00  2.93607736e+00\n",
      " -2.23734341e+01 -2.53053665e+01 -2.19875031e+01 -6.31802988e+00\n",
      " -1.81171143e+00 -7.21458852e-01 -7.89523554e+00 -3.25660300e+00\n",
      " -1.83970404e+00 -3.12985039e+00 -1.55850685e+00 -2.97098786e-01\n",
      "  5.23780823e+00 -6.88561010e+00  8.66235256e-01 -9.25065231e+00\n",
      " -8.31301117e+00 -1.91347618e+01 -1.41150618e+01  1.85629964e+00\n",
      "  3.15831637e+00  7.99157429e+00 -1.53935652e+01  3.33552933e+00\n",
      "  7.67834568e+00 -1.65133059e+00 -2.36920452e+00  1.33026993e+00\n",
      "  6.66677761e+00 -6.03262234e+00  8.03716898e-01 -8.33576202e+00\n",
      " -1.82535815e+00 -2.19539719e+01 -5.89129877e+00  1.57877934e+00\n",
      "  4.71494961e+00  3.41485786e+00 -8.98941517e+00 -8.60052109e+00\n",
      "  1.58557320e+00  2.76966405e+00 -1.07114084e-01 -5.42279339e+00\n",
      " -1.36037350e+01 -5.87542772e+00 -8.53447914e+00  1.59362638e+00\n",
      " -7.77695513e+00 -6.51080751e+00 -6.32033777e+00 -2.91777611e+00\n",
      "  1.34937096e+00 -1.16844673e+01 -2.88196583e+01  9.14849579e-01\n",
      " -3.34133697e+00 -2.46234741e+01 -2.66834283e+00 -3.21248627e+00\n",
      " -1.23430538e+01  1.78719997e-01 -2.52978783e+01 -2.13203621e+01\n",
      "  9.99547184e-01 -6.32216752e-01  3.59674633e-01  2.15352988e+00\n",
      " -6.77842045e+00  1.51406631e+01 -2.88932400e+01  3.49995828e+00\n",
      " -1.56538401e+01 -3.78130913e+00 -1.77148151e+00  4.35889626e+00\n",
      " -1.17409849e+01 -4.30707598e+00  1.84318960e+00 -1.38099520e-02\n",
      " -9.61791217e-01  1.65568948e+00 -2.69338894e+00 -2.45193481e+00\n",
      "  6.60825825e+00 -3.35873008e+00  9.65835476e+00  6.08264685e+00\n",
      "  4.85920811e+00  1.54978685e+01 -2.61496365e-01  2.56250787e+00\n",
      "  1.50573957e+00 -3.04957333e+01 -7.36333084e+00 -6.84841156e+00\n",
      "  2.43345761e+00  2.78961229e+00 -2.69178510e+00 -3.57229680e-01\n",
      " -5.53138256e+00 -9.74582958e+00 -2.19471216e-01  2.55278111e+00\n",
      " -4.27703571e+00 -1.25245762e+01 -2.42514849e+00 -3.51944900e+00\n",
      " -7.11021376e+00 -1.66773281e+01 -3.37744069e+00  6.97542620e+00\n",
      " -1.46087480e+00  1.86917472e+00 -1.00432053e+01  5.47981119e+00\n",
      "  6.33042002e+00  5.74184477e-01 -7.43642569e+00  3.25050616e+00\n",
      " -2.19205322e+01 -4.96648598e+00 -4.05557299e+00 -2.32484436e+01\n",
      " -1.13423567e+01 -1.67935014e+00 -2.06796098e+00  6.22036569e-02\n",
      "  4.81055880e+00 -2.19799080e+01 -2.23298607e+01 -4.13479757e+00\n",
      " -6.64343023e+00 -3.41855192e+00 -2.90960479e+00 -3.91039443e+00\n",
      " -3.42002368e+00  4.25989151e+00  4.98548687e-01 -2.24630356e+01\n",
      "  3.64912248e+00 -9.39089298e-01 -2.84347200e+00  1.22391391e+00\n",
      " -9.46372271e-01 -1.91952801e+01 -2.03670673e+01 -4.51301718e+00\n",
      " -8.20911229e-01 -1.26901436e+01 -4.08089972e+00  1.95872760e+00\n",
      " -1.19763851e+00  1.99684560e+00  8.78827125e-02 -5.00563908e+00\n",
      " -9.80076969e-01 -5.46115685e+00 -2.59654665e+00 -3.50685453e+00\n",
      " -3.59092140e+00 -3.19384074e+00 -2.02664763e-01 -1.57655430e+00\n",
      "  3.14250517e+00  4.40710354e+00 -8.30967331e+00 -4.25471926e+00\n",
      " -2.27985325e+01 -4.67587137e+00 -1.69658165e+01 -2.16496201e+01\n",
      "  5.26155472e+00  6.54631376e+00 -7.83239937e+00 -6.56290340e+00\n",
      "  5.05224562e+00 -1.13310642e+01 -2.12080121e+00 -1.58487707e-01\n",
      " -1.65060883e+01 -4.99176502e+00  2.13800359e+00 -9.86067963e+00\n",
      " -2.33489857e+01  4.37207508e+00  2.40597320e+00  4.44491535e-01\n",
      "  1.34582743e-01 -5.81488228e+00 -3.37244105e+00 -3.07243576e+01\n",
      " -4.30160637e+01 -2.90572777e+01 -2.57309036e+01 -2.12945938e+00\n",
      " -6.55848455e+00 -1.73608284e+01 -2.98308945e+00 -7.86016405e-01\n",
      " -2.03587284e+01 -4.77512407e+00 -1.65644951e+01 -2.57654285e+01\n",
      " -1.08761656e+00 -3.71504164e+00 -1.49641571e+01 -2.75285759e+01\n",
      "  4.83233500e+00 -7.32026052e+00  6.03979397e+00 -1.09999323e+01\n",
      " -1.73421154e+01 -3.09576759e+01 -9.73722744e+00 -1.95624018e+00\n",
      " -1.33147802e+01 -7.99775898e-01 -7.57379293e+00  3.85389900e+00\n",
      " -7.51420689e+00 -3.09334564e+01 -1.11094904e+01 -1.53203831e+01\n",
      " -3.36645851e+01 -4.52957678e+00  2.51043439e+00 -2.19782295e+01\n",
      " -1.46143265e+01 -9.91318798e+00 -4.04630995e+00 -8.23389721e+00\n",
      "  6.66567326e+00 -1.61081648e+00  1.11744356e+00 -3.27897606e+01\n",
      " -2.90676785e+01 -4.18319778e+01  4.94441414e+00 -7.67707825e-01\n",
      " -1.46087456e+01 -9.57371771e-01 -9.22166348e+00 -1.51157503e+01\n",
      " -3.97814488e+00 -1.02509422e+01 -6.47068310e+00 -3.98650348e-01\n",
      " -3.95518064e+00 -1.09965916e+01 -2.22796135e+01  3.99415278e+00\n",
      " -3.35787849e+01 -8.01610565e+00  9.89510822e+00 -2.93805122e+01\n",
      "  6.29283905e+00 -1.65371857e+01 -7.64803886e+00 -3.13232670e+01\n",
      " -2.56132927e+01 -5.41107607e+00  1.97261763e+00 -1.27517624e+01\n",
      "  3.20048308e+00 -3.11564112e+00 -1.34614382e+01 -4.02023411e+00\n",
      " -1.76756188e-01  1.71745098e+00 -1.84022713e+01 -7.96156263e+00\n",
      " -2.13129005e+01 -3.33431244e-01 -9.64623260e+00 -5.52307606e+00\n",
      " -7.17195415e+00  1.41936100e+00 -1.21928177e+01 -1.73921700e+01\n",
      " -2.39256907e+00 -1.72266521e+01 -5.68473864e+00 -2.44898415e+00\n",
      " -7.81923199e+00 -2.56707039e+01 -5.89796209e+00  2.27586002e+01\n",
      "  1.36049337e+01 -6.29477501e+00 -3.75591164e+01 -9.78526306e+00\n",
      " -2.41414948e+01 -6.74486399e+00 -2.54875355e+01  4.92783022e+00\n",
      " -1.91473503e+01 -9.59545803e+00 -1.18467016e+01 -1.26824093e+01\n",
      " -1.14398708e+01 -4.47660303e+00]' has dtype incompatible with int64, please explicitly cast to a compatible dtype first.\n",
      "  preds[val_index] = model.predict(dval_i)\n"
     ]
    },
    {
     "name": "stderr",
     "output_type": "stream",
     "text": [
      "\r",
      " 20%|█████████████████████████████▌                                                                                                                      | 2/10 [00:33<02:12, 16.60s/it]"
     ]
    },
    {
     "name": "stderr",
     "output_type": "stream",
     "text": [
      "C:\\Users\\81809\\AppData\\Local\\Temp\\ipykernel_18960\\3386215446.py:18: FutureWarning: Setting an item of incompatible dtype is deprecated and will raise an error in a future version of pandas. Value '[ 1.24435937e+00 -5.59962177e+00 -6.32492208e+00 -3.22539926e-01\n",
      "  7.10058641e+00 -1.34834409e+00  5.86749887e+00  8.04181099e+00\n",
      "  3.47299385e+00 -7.46724665e-01 -3.98693943e+00  2.59902916e+01\n",
      "  2.17366734e+01 -7.93348730e-01  2.32612839e+01  2.53574829e+01\n",
      "  5.24601221e+00  1.00807934e+01  6.79354286e+00 -9.60655212e+00\n",
      "  5.45152140e+00  5.60183811e+00  9.12620926e+00  6.82288074e+00\n",
      "  2.71931648e+00  4.07415247e+00  7.93098831e+00  1.87835813e+00\n",
      " -6.46063852e+00 -4.66966677e+00 -8.63655388e-01  8.57592297e+00\n",
      "  1.04956932e+01  2.36041069e+00  2.44340057e+01 -1.17086184e+00\n",
      "  2.93163347e+00  2.88083344e+01  3.46225452e+00  5.26270533e+00\n",
      "  4.29952908e+00 -7.58152246e+00  5.26625347e+00 -2.63277799e-01\n",
      "  2.40561628e+00  6.36530876e+00 -4.12504435e+00 -6.12749624e+00\n",
      "  6.80557299e+00 -8.98849583e+00  5.61330557e+00  6.28260422e+00\n",
      "  6.26861048e+00 -2.38724518e+00  8.45612431e+00 -2.42297709e-01\n",
      "  4.42630529e+00  1.78088036e+01  6.17155266e+00 -3.77404690e-01\n",
      "  2.24014874e+01 -3.52936006e+00  2.24680042e+00  2.65073071e+01\n",
      "  7.20817184e+00  7.56866121e+00  6.30121851e+00  1.94446528e+00\n",
      "  3.39980435e+00  3.22912407e+00 -1.23492169e+00  2.37943497e+01\n",
      "  8.74138737e+00  4.95842069e-01  3.84859562e+00  1.50632229e+01\n",
      "  2.50541806e+00  1.68211117e+01 -7.72580671e+00  1.64212835e+00\n",
      "  5.13507605e+00  6.92603970e+00 -4.87236691e+00 -3.76550928e-02\n",
      "  1.48088751e+01 -4.58125353e+00  2.71311283e+01 -3.58988643e-01\n",
      " -7.74533391e-01  1.43344069e+01  5.91417980e+00  2.24214001e+01\n",
      "  7.33817294e-02 -6.77410507e+00  9.90715218e+00  8.14881611e+00\n",
      "  3.31587124e+00 -2.41827083e+00  9.73300278e-01  4.20731640e+00\n",
      "  1.54494739e+00  1.98763065e+01 -3.36360145e+00  8.11324883e+00\n",
      "  2.02401543e+01  1.04220617e+00  2.39023552e+01  5.26665354e+00\n",
      "  4.50002193e+00 -3.43997216e+00  8.81147861e+00 -4.85215139e+00\n",
      " -1.27453279e+00  8.15161586e-01 -6.64788544e-01 -7.10400057e+00\n",
      "  1.47613794e-01  5.85771656e+00 -4.17976767e-01  6.80970764e+00\n",
      "  2.49901943e+01  3.12004089e+00  1.02994719e+01 -2.30194831e+00\n",
      "  1.69545913e+00 -5.30673122e+00 -2.25771713e+00  2.10993910e+00\n",
      " -9.83681530e-02  7.62771606e-01 -1.54550657e+01  1.09372435e+01\n",
      "  1.10725346e+01  2.15000782e+01 -5.51068974e+00 -4.09546524e-01\n",
      "  7.47962284e+00 -5.97609329e+00  1.07369769e+00 -2.89112806e+00\n",
      "  1.18526900e+00  1.72868347e+01  1.20494022e+01  2.23580146e+00\n",
      "  2.11804795e+00 -1.74532831e+00  4.36122942e+00 -6.90260553e+00\n",
      "  2.98980665e+00  1.36232367e+01 -1.96764064e+00  2.22950768e+00\n",
      " -1.29459286e+00  2.27747154e+01  3.03273344e+00  2.20985007e+00\n",
      "  3.02596664e+01  4.33312416e+00  3.77034330e+00  8.30424213e+00\n",
      "  1.12866104e+00  9.44015598e+00 -1.70615423e+00  2.86173344e+00\n",
      "  3.60840487e+00  6.28947926e+00  1.27111387e+01  2.70810204e+01\n",
      "  5.90820837e+00  7.17596388e+00 -2.87559009e+00  8.19024658e+00\n",
      "  2.68043232e+00  3.78230238e+00  1.90093970e+00  2.30383987e+01\n",
      "  4.07396764e-01  5.12527132e+00 -8.02014637e+00  3.62455940e+00\n",
      " -5.78218794e+00 -6.98217988e-01 -8.90468788e+00  7.04524040e+00\n",
      "  7.11283398e+00  3.23763919e+00 -2.80512905e+00  2.61126566e+00\n",
      " -7.36299381e-02 -6.09549475e+00  3.32216311e+00  3.00859337e+01\n",
      "  3.03472137e+01  4.38920517e+01  2.85817814e+01  1.85880680e+01\n",
      " -4.05294561e+00  3.47841501e+00  2.99139507e-02  1.23314638e+01\n",
      "  1.00959864e+01 -1.09790745e+01  6.57329893e+00  2.15546227e+00\n",
      "  9.15826321e+00  2.89821110e+01  3.62695679e-02  3.87435265e+01\n",
      "  8.18055725e+00 -1.12063923e+01  1.70480671e+01  1.17364225e+01\n",
      "  1.36449928e+01  1.67671432e+01  2.72817001e+01  1.69130230e+01\n",
      "  4.20350027e+00  3.42939782e+00  3.53050346e+01 -4.23073053e+00\n",
      "  1.25172472e+01  1.00998230e+01  2.57130318e+01  1.57866802e+01\n",
      "  1.87595596e+01  1.23164444e+01  3.37787366e+00 -4.47951269e+00\n",
      "  2.17407494e+01 -6.95813370e+00 -1.83451533e+00  2.89526138e+01\n",
      " -2.43475199e+00  1.21327543e+01 -5.64482622e-02  9.88006020e+00\n",
      " -7.79714489e+00  2.63309116e+01  8.66346931e+00 -2.23892479e+01\n",
      "  3.15001221e+01  1.48422413e+01 -2.41072941e+00 -6.53596640e+00\n",
      "  3.58371234e+00  2.90056348e+00  1.54033823e+01  1.38211279e+01\n",
      "  1.59650147e+00  7.28740788e+00  3.77117801e+00  9.25002193e+00\n",
      "  3.78356819e+01  5.86421633e+00 -4.38877392e+00 -1.29099381e+00\n",
      "  8.68395996e+00  1.24589691e+01  3.91749787e+00  2.42322254e+01\n",
      "  2.85383282e+01 -7.22768354e+00  7.43352032e+00  7.87912512e+00\n",
      "  2.96619968e+01 -8.98032665e+00  4.28124046e+00  3.41230965e+00\n",
      "  1.25422859e+01  1.33711159e+00 -6.72630405e+00 -3.09364319e+00\n",
      "  3.55243454e+01  3.06619530e+01  1.45100651e+01  2.60317278e+00\n",
      " -1.58538926e+00  1.02581673e+01  1.89995556e+01  3.15789509e+01\n",
      " -4.45399761e+00 -1.14728298e+01 -9.07838154e+00  2.85928898e+01\n",
      " -7.26878595e+00  6.97373152e+00  2.43424683e+01  8.79717731e+00\n",
      "  2.67339458e+01  2.98942547e+01  8.03308392e+00  8.19459558e-01\n",
      " -2.42726994e+01  4.32735157e+00 -9.98539925e-01  6.76025438e+00\n",
      "  1.61928673e+01 -5.28090191e+00  3.88419876e+01  8.67763329e+00\n",
      "  2.17826290e+01  2.69471455e+01  1.24916706e+01  1.42874870e+01\n",
      " -1.44426179e+00  9.32315063e+00  2.11173251e-01 -4.67737055e+00\n",
      "  2.72007561e+00 -9.41551399e+00 -2.25525951e+01 -6.88128567e+00\n",
      " -1.71876869e+01 -1.75047836e+01 -6.55959988e+00  3.35684943e+00\n",
      "  5.88161564e+00 -7.04939651e+00 -8.66366863e+00  3.03625774e+00\n",
      " -6.75975847e+00 -4.80739450e+00 -5.67941332e+00 -1.03178871e+00\n",
      " -5.77538729e+00 -2.10120316e+01  1.00370789e+01 -4.32064962e+00\n",
      " -3.88029146e+00 -6.78388453e+00  5.00999868e-01 -8.91718006e+00\n",
      " -6.86661816e+00 -7.35891485e+00 -2.36280632e+00 -8.97696614e-01\n",
      " -5.17407703e+00 -1.59681988e+01  1.07625532e+00 -1.96483994e+01\n",
      "  1.22488117e+01 -7.66971016e+00 -1.10221815e+01 -3.35961175e+00\n",
      " -1.49266548e+01 -6.06981945e+00  7.27461863e+00 -4.94195080e+00\n",
      "  2.53588820e+00 -6.31788254e+00 -2.22297764e+00 -7.67888546e+00\n",
      " -8.41279030e+00 -2.07296419e+00 -3.05102062e+00  6.11050081e+00\n",
      "  3.08678865e+00 -1.55742445e+01 -7.63711596e+00  2.50894213e+00\n",
      " -1.04644833e+01 -1.45554686e+01 -2.62913227e+00 -4.61550474e+00\n",
      "  4.31200504e+00  6.96055219e-02 -2.08946109e+00 -2.97131920e+00\n",
      " -2.61624470e+01 -1.09575930e+01  3.24299669e+00 -5.23071706e-01\n",
      " -1.37922812e+01  9.52914298e-01  1.03009450e+00 -3.60457826e+00\n",
      "  2.34761930e+00 -1.96764874e+00 -7.69508123e+00 -4.66554260e+00\n",
      "  9.70228314e-02 -1.66830215e+01 -3.28034496e+00 -7.09257722e-01\n",
      " -3.84404111e+00 -1.81511383e+01 -5.28476238e+00 -1.80731273e+00\n",
      " -1.12864513e+01 -5.89957857e+00 -2.45474771e-01  4.92998809e-01\n",
      " -2.36997280e+01 -2.34583974e+00  4.11806488e+00  5.40356874e+00\n",
      " -2.40328097e+00 -2.27982063e+01  4.62411737e+00 -7.55255795e+00\n",
      " -1.13455782e+01 -5.02655411e+00 -1.18429890e+01 -1.68880314e-01\n",
      "  2.61097264e+00  4.16096163e+00 -9.75341629e-03 -3.41454530e+00\n",
      "  2.51249695e+00  4.33724076e-01  2.33350635e+00  2.70744705e+00\n",
      " -1.46476374e+01 -1.05144653e+01 -6.44246149e+00  6.69594860e+00\n",
      "  5.77634871e-01 -9.49526072e-01 -1.80345047e+00 -1.18092422e+01\n",
      "  1.75240493e+00 -2.25141869e+01  4.11718130e+00 -5.26556969e+00\n",
      " -1.55697477e+00 -2.10542870e+00  2.75917697e+00  8.66130638e+00\n",
      " -9.52773333e-01 -7.62418985e+00 -1.46181715e+00  1.59451590e+01\n",
      "  3.80381159e-02 -2.86047821e+01 -7.97657537e+00 -7.47625256e+00\n",
      "  1.06040442e+00 -1.85835457e+01  8.76672173e+00 -1.36842632e+00\n",
      " -1.21523314e+01 -1.08769274e+01 -2.53116941e+00 -2.12089801e+00\n",
      " -2.11276588e+01  1.55063181e+01 -3.85813117e+00  1.74042618e+00\n",
      " -1.26350431e+01  1.18207951e+01  4.07803154e+00 -1.59577599e+01\n",
      "  3.10803175e-01 -9.99741650e+00 -6.00924492e+00 -5.87092781e+00\n",
      "  3.06263161e+00 -3.39237738e+00 -2.11029606e+01 -4.16565275e+00\n",
      " -2.16976624e+01 -4.65377045e+00 -5.02722502e+00 -4.72001362e+00\n",
      " -8.73682082e-01  2.80920434e+00  3.27142030e-01 -7.94948244e+00\n",
      " -7.21137166e-01 -4.27944183e+00 -9.87032986e+00 -2.52868199e+00\n",
      "  1.13315213e+00 -9.67883396e+00 -7.13467956e-01 -5.44226837e+00\n",
      " -3.98475504e+00  4.13362324e-01  1.87769771e+00  2.83934999e+00\n",
      "  5.63970149e-01 -2.38989601e+01 -8.70456409e+00  4.86310053e+00\n",
      "  3.73902607e+00 -1.54080594e+00 -1.76203957e+01 -2.27398396e+00\n",
      " -4.75298119e+00 -8.14791870e+00  2.06363511e+00 -2.53133714e-01\n",
      " -1.97183819e+01 -7.22455931e+00 -2.55993056e+00 -1.42893209e+01\n",
      " -2.16336975e+01 -2.51697273e+01 -1.99221764e+01  2.05402255e+00\n",
      " -3.77721477e+00  4.96321726e+00 -5.55726194e+00 -2.85632706e+00\n",
      "  7.10514069e+00  1.52223647e+00  1.90813506e+00 -3.72784424e+00\n",
      " -2.27366066e+01 -8.96302605e+00  2.41327763e+00  1.32754600e+00\n",
      " -2.17728519e+00 -3.55483580e+00  3.15874076e+00 -1.07172146e-01\n",
      "  2.81981492e+00  6.87988710e+00  2.64104486e+00 -9.05013466e+00\n",
      " -2.75806475e+00  6.79842055e-01 -1.14959278e+01 -2.78802376e+01\n",
      " -1.36189041e+01  4.77683640e+00 -2.05036259e+00 -1.08537950e-01\n",
      " -1.75346470e+01 -1.41508436e+01  2.24740624e+00 -2.61453991e+01\n",
      "  2.01936007e+00 -2.11642513e+01 -2.31409187e+01 -7.06566191e+00\n",
      " -3.53086548e+01 -1.37715292e+01 -3.40010452e+01 -2.13536682e+01\n",
      " -6.10174131e+00  3.09937477e+00  1.10965958e+01  6.31442308e+00\n",
      " -3.16633549e+01 -2.52316189e+01 -1.17666140e+01 -3.14241829e+01\n",
      "  1.64250641e+01 -6.54823112e+00 -2.40381470e+01 -6.69435024e+00\n",
      " -6.07655525e+00 -1.25243788e+01  4.43074226e+00 -1.30154724e+01\n",
      " -2.90698395e+01 -8.87382850e-02 -3.01767731e+00 -2.17385368e+01\n",
      " -1.03009253e+01 -2.73395805e+01 -1.26408386e+01 -1.90082722e+01\n",
      "  1.47534466e+01 -1.51190166e+01 -3.26863022e+01 -8.20520210e+00\n",
      " -3.35446668e+00 -6.86529636e+00  6.24456596e+00 -2.33715868e+00\n",
      " -8.37113571e+00 -2.88189297e+01  9.54845995e-02 -1.33153038e+01\n",
      " -4.04824219e+01 -1.34364903e+00 -1.52919569e+01 -8.77956092e-01\n",
      "  2.97833133e+00 -1.72507114e+01  5.44734526e+00 -3.23710480e+01\n",
      "  5.62780762e+00 -1.70415878e+00 -1.33713589e+01 -4.85390759e+00\n",
      " -1.23583984e+01 -6.41645956e+00 -2.22083378e+00 -2.14606838e+01\n",
      " -1.13051577e+01 -4.48904037e+00  2.80866337e+00  9.30176067e+00\n",
      " -8.84120655e+00 -6.48045444e+00 -2.31796684e+01  4.03300428e+00\n",
      "  7.96614695e+00  2.48601031e+00 -5.65935802e+00 -6.48667192e+00\n",
      "  9.58101273e+00  1.25390875e+00 -9.83734798e+00 -4.53435211e+01\n",
      "  3.95983100e+00 -2.96554947e+01  6.50795031e+00 -1.32657919e+01\n",
      " -2.78029633e+01 -4.42301893e+00 -9.33713150e+00  1.18444290e+01\n",
      " -1.26232967e+01 -1.81316605e+01 -8.89089203e+00 -2.48821926e+01\n",
      " -3.03311043e+01 -8.55819035e+00 -3.69235253e+00  1.19189620e+00\n",
      " -2.84587250e+01 -1.93128376e+01 -2.31989822e+01 -2.40862441e+00\n",
      " -6.11913443e+00 -3.85370374e+00 -1.02629395e+01 -6.65515804e+00\n",
      " -2.77614188e+00  7.34972143e+00 -2.99036484e+01  1.16088810e+01\n",
      " -8.23210621e+00 -5.12415361e+00  3.59921145e+00 -3.88107185e+01\n",
      " -6.62778950e+00 -2.39368229e+01 -1.64334631e+00  4.11859512e+00\n",
      " -1.53270149e+01 -4.94595098e+00]' has dtype incompatible with int64, please explicitly cast to a compatible dtype first.\n",
      "  preds[val_index] = model.predict(dval_i)\n"
     ]
    },
    {
     "name": "stderr",
     "output_type": "stream",
     "text": [
      "\r",
      " 30%|████████████████████████████████████████████▍                                                                                                       | 3/10 [00:51<02:00, 17.22s/it]"
     ]
    },
    {
     "name": "stderr",
     "output_type": "stream",
     "text": [
      "C:\\Users\\81809\\AppData\\Local\\Temp\\ipykernel_18960\\3386215446.py:18: FutureWarning: Setting an item of incompatible dtype is deprecated and will raise an error in a future version of pandas. Value '[ 1.60302484e+00 -8.30279064e+00  5.88735199e+00  1.42014532e+01\n",
      "  2.22593327e+01  8.89265442e+00  4.13554573e+00 -2.84764576e+00\n",
      "  1.35672784e+00  1.66204357e+00 -2.83652115e+00 -3.32054162e+00\n",
      "  9.40067172e-02 -1.75227582e+00 -4.35945511e+00  2.09482689e+01\n",
      " -2.85008764e+00 -1.47086644e+00  2.23317547e+01  8.84409428e-01\n",
      "  5.37850428e+00  3.96087360e+00  6.99056983e-01  5.64965248e+00\n",
      " -4.26577806e+00  8.37610245e+00 -6.98275538e-03 -3.28995872e+00\n",
      "  3.05900621e+00  4.39656830e+00  6.35074735e-01  1.62709961e+01\n",
      "  3.96687627e+00  3.14171576e+00  2.44548414e-02  8.01856136e+00\n",
      "  1.27650964e+00  1.70794621e+01  2.38544440e+00 -6.33411551e+00\n",
      "  6.50896978e+00 -2.96003163e-01  8.38695621e+00  4.62186432e+00\n",
      " -5.97478867e+00  6.02817345e+00  2.43838787e+00 -8.40471268e+00\n",
      " -1.80432963e+00 -2.08483624e+00  2.11770039e+01  4.70377684e-01\n",
      "  8.22315037e-01 -2.40906692e+00  7.55804110e+00  2.34118867e+00\n",
      " -3.20709991e+00 -1.74517855e-01  2.33020420e+01  1.29254990e+01\n",
      " -3.21412396e+00  2.18787804e-01  2.56836357e+01 -2.32562280e+00\n",
      "  3.49961114e+00 -4.85416621e-01  1.11415446e+00  1.17256427e+00\n",
      " -1.85943472e+00  8.27124119e-01  2.18412552e+01 -1.92728627e+00\n",
      "  7.78459454e+00  6.14626884e+00 -6.56398013e-02 -2.00303793e+00\n",
      "  4.24203539e+00 -8.28592539e-01  2.46040845e+00 -9.70224762e+00\n",
      "  1.64588070e+01  3.22056913e+00  8.69509411e+00  1.08126907e+01\n",
      " -2.80699801e+00  5.26059484e+00  3.15918231e+00 -2.45934963e+00\n",
      "  2.55456085e+01  1.24118509e+01 -1.07275820e+01 -5.21643305e+00\n",
      "  1.78291855e+01 -2.80900097e+00 -1.47058320e+00  4.82703781e+00\n",
      " -6.34594202e-01  1.16861677e+01  4.85522890e+00 -1.99875402e+00\n",
      " -3.20428586e+00  3.56267118e+00  2.13603611e+01  1.46268816e+01\n",
      " -1.45565786e+01 -2.59861588e-01 -3.25481415e+00  1.09480629e+01\n",
      " -1.22856617e+00  3.95231915e+00  7.63699245e+00  6.21863747e+00\n",
      "  1.55168142e+01  5.28851128e+00  1.52010238e+00  2.83966017e+00\n",
      " -2.22005701e+00  1.40920830e+01  1.75507355e+01  5.17349958e+00\n",
      "  5.64361000e+00  9.37609196e+00 -2.89264584e+00  7.15081024e+00\n",
      " -6.88400126e+00  1.31135142e+00  1.16453114e+01 -6.99128437e+00\n",
      "  7.18706131e+00  7.13764191e+00  3.80553675e+00  9.14577198e+00\n",
      "  8.63448238e+00  1.81525211e+01  1.26980143e+01  8.53819942e+00\n",
      "  5.11098504e-01 -3.84300709e+00  6.94363928e+00 -3.97314978e+00\n",
      " -4.58853340e+00  2.16699734e+01  9.76224899e+00 -2.32854867e+00\n",
      " -2.42841601e+00  6.34191275e+00  6.07747459e+00 -6.08220160e-01\n",
      "  5.83914995e+00 -2.23046088e+00  2.27071609e+01  4.62695408e+00\n",
      "  1.52732353e+01 -9.33861542e+00 -4.74987555e+00 -7.53748775e-01\n",
      " -7.32465553e+00  1.49190426e+00  1.91902971e+00  6.91032982e+00\n",
      "  5.93199205e+00 -1.16667795e+01  1.27564669e+00  1.43427956e+00\n",
      "  4.66587019e+00  3.89494109e+00  1.04895945e+01  3.43707466e+00\n",
      "  2.43015099e+00 -2.40347099e+00  4.62140751e+00 -6.04273987e+00\n",
      " -1.60911865e+01 -4.17033148e+00 -1.02061771e-01  1.76454792e+01\n",
      "  3.32603526e+00 -1.81395698e+00  6.37739325e+00  3.51625276e+00\n",
      " -1.09006894e+00  8.41178894e-02 -3.22260284e+00 -4.01332235e+00\n",
      "  2.66051788e+01  3.10824084e+00  2.15229092e+01 -5.14963150e+00\n",
      "  4.14951086e+00  4.57663584e+00 -4.41280317e+00 -2.95853662e+00\n",
      " -1.10284410e-01  7.49789000e+00  1.47044506e+01  9.74862158e-01\n",
      "  4.02936101e-01  1.71444054e+01 -2.21663399e+01 -3.16778922e+00\n",
      " -1.00980120e+01  1.24146137e+01  2.47247291e+00 -2.43040657e+00\n",
      "  2.84423876e+00  4.30569458e+00  1.84425950e+00  4.46604586e+00\n",
      "  8.14503193e+00  9.64627361e+00  1.38641584e+00  3.14335041e+01\n",
      "  3.05225964e+01  3.47293496e+00  1.04040270e+01 -3.04650211e+00\n",
      "  3.53933372e+01  1.40899658e+00  1.48258963e+01  1.20245018e+01\n",
      " -3.25275731e+00 -2.12306738e+00  2.13287902e+00  3.57787361e+01\n",
      "  1.18304701e+01  2.60538158e+01  3.57185287e+01  6.29809284e+00\n",
      "  8.50705653e-02  7.00392580e+00 -9.21238136e+00  6.15956450e+00\n",
      "  2.89581275e+00  2.77156258e+01  1.02231045e+01  1.68578415e+01\n",
      "  8.68617892e-01 -6.61870623e+00  6.30187809e-01 -1.43139791e+01\n",
      "  3.61067619e+01  1.18098326e+01  2.79871542e-02  2.10979176e+00\n",
      "  2.60481339e+01  1.97203865e+01  2.09410629e+01  6.32591915e+00\n",
      " -1.53754652e+00 -3.93144584e+00  1.96387596e+01  1.37682924e+01\n",
      "  2.97440529e+01  4.04028845e+00  7.80683851e+00  2.33849010e+01\n",
      "  3.27594447e+00 -1.42536869e+01  1.04536572e+01 -2.11328053e+00\n",
      "  2.94065642e+00 -4.91127300e+00  2.31917000e+01 -2.37794662e+00\n",
      "  2.99095612e+01  1.22124147e+01  4.05012512e+00  4.22251129e+00\n",
      "  1.50816023e+00  1.13252277e+01  3.57008171e+01  1.44876251e+01\n",
      "  5.51726627e+00  1.43822670e+01  3.45434113e+01  1.42011976e+00\n",
      "  6.76846838e+00 -8.48029995e+00  3.66105938e+00 -1.47135615e+00\n",
      "  1.31781464e+01  1.32821169e+01  2.13922005e+01 -1.93140221e+00\n",
      " -1.19203472e+01 -7.69739819e+00  1.82940555e+00 -7.13043499e+00\n",
      "  2.22048450e+00  2.19272175e+01  5.83349991e+00 -1.27702675e+01\n",
      "  3.16629744e+00  7.83232641e+00  3.03036124e-01  3.11499023e+00\n",
      "  2.06700954e+01 -7.38364506e+00 -1.33298845e+01  3.80185585e+01\n",
      "  6.25510550e+00 -5.03007650e+00  2.99178143e+01  1.19811125e+01\n",
      "  2.25360146e+01  1.38743429e+01  3.75322700e+00 -3.69264197e+00\n",
      " -1.29951210e+01  4.83697593e-01 -6.20467091e+00 -1.21389465e+01\n",
      " -3.01680374e+00 -1.18693447e+01 -1.59158411e+01 -9.49272728e+00\n",
      " -7.27401495e+00 -7.50148964e+00 -7.06414032e+00 -5.85267687e+00\n",
      "  4.86379480e+00 -6.54692554e+00  3.05374765e+00  2.70873952e+00\n",
      "  1.70336711e+00 -2.31007214e+01 -1.04404628e+00 -1.35979404e+01\n",
      " -2.17288189e+01 -1.30330205e+00 -7.09020901e+00 -1.11910546e+00\n",
      "  5.27696705e+00  4.47584486e+00 -7.12623358e-01 -7.66985559e+00\n",
      " -8.99610710e+00  1.59841764e+00 -6.30608368e+00  1.71003544e+00\n",
      "  4.15668786e-01 -5.09981036e-01 -4.60357714e+00 -2.70569134e+01\n",
      " -9.09682465e+00 -5.75266171e+00 -1.58378935e+01 -2.85728335e+00\n",
      " -6.75536108e+00 -1.92307148e+01 -7.01860762e+00  1.09997702e+00\n",
      " -5.47167826e+00  6.29594660e+00 -1.85072975e+01  8.50537491e+00\n",
      " -5.93587637e+00 -2.53212337e+01 -6.92527962e+00 -1.06822681e+00\n",
      " -5.36062431e+00 -9.84874630e+00 -5.16018295e+00 -4.06841135e+00\n",
      "  2.28952312e+00 -1.15753260e+01  3.22011352e+00 -1.43030882e+01\n",
      "  1.72885847e+00 -5.71657991e+00 -3.94070435e+00 -2.70656252e+00\n",
      " -2.24098797e+01 -8.27291393e+00 -5.37578392e+00 -9.15711975e+00\n",
      " -6.59000635e+00  3.65580648e-01  2.36253783e-01 -1.53049898e+01\n",
      " -2.66681461e+01 -2.85666227e+00 -1.13025951e+00 -1.89255631e+00\n",
      " -1.80359669e+01 -9.72629130e-01 -4.25065994e+00 -1.64539778e+00\n",
      "  4.97511715e-01 -2.55057297e+01 -1.94244232e+01  2.86693001e+00\n",
      " -1.17515049e+01  2.29821372e+00 -5.77275610e+00 -2.60594940e+00\n",
      " -5.88109779e+00 -1.14518223e+01 -4.66197443e+00 -5.27499866e+00\n",
      " -2.40271225e+01  1.51752815e+01  3.94479465e+00 -2.67171917e+01\n",
      " -1.55156803e+01 -1.59903507e+01 -1.77913647e+01 -7.04533958e+00\n",
      " -2.94240570e+00 -4.24554729e+00  8.49596405e+00 -4.81129026e+00\n",
      " -8.66868687e+00 -4.00453568e+00  6.76227689e-01  2.94531584e+00\n",
      " -8.41925681e-01 -1.81701779e+00 -1.50878820e+01  1.92805135e+00\n",
      "  2.67710268e-01  4.27505636e+00 -1.86633072e+01 -1.04073725e+01\n",
      " -2.41609573e+00 -4.93503571e+00  2.62676811e+00 -1.04722242e+01\n",
      " -1.26908026e+01 -2.32150507e+00  1.61905542e-01 -1.24334967e+00\n",
      " -2.16347411e-01 -5.06090593e+00 -1.16052583e-01 -3.93935770e-01\n",
      " -4.35867977e+00 -5.29294252e+00 -9.20663643e+00 -9.66743851e+00\n",
      " -5.98586321e+00 -3.78438282e+00  1.96010470e-01 -6.71392822e+00\n",
      "  5.02724648e-01 -1.58835447e+00 -2.22839165e+01  1.66175354e+00\n",
      "  3.84149122e+00 -1.78700523e+01 -2.16221118e+00 -2.42403388e+00\n",
      "  2.44419599e+00 -2.32384205e+00 -4.93687296e+00 -5.58072186e+00\n",
      " -4.35114527e+00  4.40994406e+00  2.21498036e+00 -2.16949997e+01\n",
      "  9.99982715e-01 -4.70145464e+00 -3.46416473e+00  3.96149099e-01\n",
      " -3.23926926e+00 -2.58770919e+00  3.18271589e+00 -2.67833996e+00\n",
      " -1.58136959e+01 -1.91247618e+00 -6.29304504e+00  6.92902803e-02\n",
      " -4.40516949e+00 -1.26001997e+01 -5.33186388e+00 -6.79804802e+00\n",
      " -2.06387639e+00 -4.24887705e+00 -1.30880919e+01 -2.27445183e+01\n",
      " -1.39925880e+01 -2.36680565e+01  4.75069094e+00 -2.21828485e+00\n",
      "  1.27326860e+01  4.58870459e+00  4.62188911e+00 -1.13115368e+01\n",
      " -5.84089804e+00  4.11806107e+00 -3.43443274e+00  3.99763012e+00\n",
      " -2.15472775e+01  1.01039112e+00 -4.54209280e+00 -1.74014473e+01\n",
      " -3.75049496e+00  2.75070667e+00  2.36986503e-01 -1.95220053e+00\n",
      " -6.41693401e+00  7.09514284e+00 -1.11356163e+01 -4.29432631e+00\n",
      " -1.50146637e+01 -7.04996347e+00 -2.19790339e+00 -2.51992226e+01\n",
      " -1.53073559e+01  2.62297297e+00  9.53328729e-01 -4.31325817e+00\n",
      "  1.03746481e+01 -4.80779600e+00 -1.62273769e+01 -4.29492044e+00\n",
      "  2.58869410e+00 -5.54460478e+00 -2.76093864e+00 -7.64210367e+00\n",
      " -1.11578856e+01 -3.31402893e+01  2.29556084e+00 -2.59931679e+01\n",
      " -1.19655876e+01  4.52819347e+00 -1.87387047e+01 -1.46012983e+01\n",
      "  3.84899259e+00 -9.94632435e+00  1.88550687e+00 -2.66219177e+01\n",
      " -2.92505322e+01  3.45137286e+00 -3.44990730e+01 -2.71288395e+01\n",
      " -1.29958754e+01 -7.31553555e+00 -3.89429927e+00 -2.62824745e+01\n",
      " -1.59283698e+00 -1.39813023e+01  6.22051859e+00 -9.29216802e-01\n",
      " -4.60919237e+00 -1.69128358e-01 -4.21544342e+01 -2.60723948e+00\n",
      " -3.18383670e+00  6.09475279e+00 -2.04210796e+01 -2.33462486e+01\n",
      " -2.68829403e+01 -1.33296089e+01  4.61003393e-01 -9.16190147e+00\n",
      " -2.33312055e-01 -1.30141723e+00 -9.09348488e+00 -2.51701488e+01\n",
      " -6.63265109e-01 -7.32026911e+00 -4.73008722e-01 -1.57627468e+01\n",
      " -8.93152523e+00 -5.26842022e+00 -3.31890082e+00 -1.33312712e+01\n",
      " -1.40183353e+01 -3.06973362e+01 -2.43607974e+00 -4.17317963e+00\n",
      " -3.10789585e+01 -3.57318382e+01 -3.70014839e+01 -7.75892067e+00\n",
      " -9.45223141e+00 -2.85984020e+01 -6.89901400e+00 -1.79654808e+01\n",
      "  1.87577057e+00 -1.60174961e+01 -1.12542658e+01  1.08666229e+01\n",
      "  2.19351816e+00  2.22474551e+00 -5.03396606e+00 -6.69082880e+00\n",
      " -1.15087147e+01  2.05143541e-01 -1.37539988e+01 -3.53007197e+00\n",
      "  5.83954477e+00  4.24722147e+00 -7.01574850e+00 -5.28751731e-01\n",
      " -6.19872570e+00 -1.58105068e+01 -1.78848209e+01 -3.63325334e+00\n",
      "  9.10070515e+00 -7.75534010e+00 -3.09274054e+00 -1.11307373e+01\n",
      " -1.08185997e+01  3.47983503e+00 -1.69451885e+01 -2.47785511e+01\n",
      "  2.87074208e+00 -3.61432600e+00  1.43031430e+00 -1.86396160e+01\n",
      " -5.08919287e+00 -5.44165373e+00 -2.22789879e+01 -4.17217541e+00\n",
      "  9.99013138e+00 -6.22903466e-01 -5.75623035e+00  7.17275238e+00\n",
      " -7.27447414e+00 -2.46285305e+01 -1.14030254e+00 -2.81048031e+01\n",
      " -1.42546110e+01  4.45710850e+00 -1.77357273e+01 -5.92359591e+00\n",
      " -5.96829224e+00  7.94742489e+00 -1.77836094e+01 -3.07221527e+01\n",
      " -3.82352295e+01 -9.29168701e+00 -7.57362318e+00 -3.66273117e+01\n",
      " -3.00481052e+01 -3.96253610e+00 -1.97606697e+01  6.12950850e+00\n",
      "  8.98858166e+00 -3.45061340e+01 -2.96577001e+00 -2.84865723e+01\n",
      " -1.62941952e+01 -2.24994278e+01]' has dtype incompatible with int64, please explicitly cast to a compatible dtype first.\n",
      "  preds[val_index] = model.predict(dval_i)\n"
     ]
    },
    {
     "name": "stderr",
     "output_type": "stream",
     "text": [
      "\r",
      " 40%|███████████████████████████████████████████████████████████▏                                                                                        | 4/10 [01:08<01:43, 17.24s/it]"
     ]
    },
    {
     "name": "stderr",
     "output_type": "stream",
     "text": [
      "C:\\Users\\81809\\AppData\\Local\\Temp\\ipykernel_18960\\3386215446.py:18: FutureWarning: Setting an item of incompatible dtype is deprecated and will raise an error in a future version of pandas. Value '[-9.72192860e+00  3.29794019e-01  2.12469044e+01  1.17196856e+01\n",
      "  2.18578396e+01  1.79622116e+01 -7.86319137e-01  5.81880093e+00\n",
      "  9.29261684e+00  7.16793299e+00  7.71519041e+00 -3.87669539e+00\n",
      " -3.74745774e+00  1.75714970e+00  2.40815620e+01  2.16642246e+01\n",
      " -1.60494244e+00  5.85115528e+00 -1.43470824e+00  3.65934610e+00\n",
      "  1.06602745e+01  1.70070529e+00  1.88901482e+01  2.01527500e+01\n",
      "  2.81653953e+00 -5.43412209e+00  1.07303214e+00  1.49594975e+00\n",
      "  6.56099987e+00 -5.31134462e+00  6.23535776e+00 -1.17036378e+00\n",
      "  1.91576519e+01 -1.50571656e+00 -7.23403788e+00  2.73961926e+00\n",
      "  1.66923656e+01 -6.51242828e+00  1.09327912e+00 -3.34353185e+00\n",
      "  2.60278869e+00  7.73630524e+00 -4.59907007e+00 -8.00961876e+00\n",
      " -2.27825928e+00  7.92876482e+00  6.64988279e+00  1.43430090e+01\n",
      "  7.38355064e+00  7.57169008e+00  5.70795155e+00 -4.63543701e+00\n",
      " -3.20364690e+00  4.90485191e+00 -1.21187658e+01  5.42993212e+00\n",
      "  8.10878181e+00  2.29429016e+01  2.19695663e+01  5.33743572e+00\n",
      "  5.88129473e+00  2.37500763e+00  4.35633898e+00 -2.35487700e+00\n",
      "  6.95705938e+00  6.02415657e+00 -1.52403343e+00  2.28104138e+00\n",
      "  2.31798291e+00  2.37605691e+00 -2.11999750e+00  3.15780854e+00\n",
      " -1.24607909e+00  5.19277239e+00 -3.86663616e-01  2.71562176e+01\n",
      "  8.27622509e+00 -2.32275867e+00 -6.29081202e+00 -2.02169466e+00\n",
      "  1.19079819e+01  1.67965782e+00 -2.89409089e+00  3.28137350e+00\n",
      "  9.40245724e+00  1.83445072e+00  1.28076286e+01  1.92358339e+00\n",
      "  2.32451153e+01  1.14167147e+01 -1.04862099e+01 -6.62005043e+00\n",
      "  2.26860294e+01 -4.45209217e+00  8.27753258e+00  1.18236952e+01\n",
      "  2.96254802e+00  1.24055910e+01 -1.67952335e+00 -2.18499017e+00\n",
      " -2.81584829e-01  1.04571419e+01  2.24002800e+01 -8.35220528e+00\n",
      " -5.31729126e+00  1.28014402e+01 -2.55668283e+00  4.56459141e+00\n",
      "  2.78849363e+00  2.86660790e+00 -7.97947598e+00 -1.52732170e+00\n",
      "  7.76191890e-01  4.97519875e+00  1.17785740e+00  2.29429984e+00\n",
      " -1.12635870e+01  5.84779835e+00 -2.11179972e+00  7.60183275e-01\n",
      " -3.82558346e+00  6.26284647e+00  4.20530128e+00 -2.87750244e+00\n",
      "  3.61590981e+00  1.91078675e+00  7.65963173e+00  6.69086123e+00\n",
      "  1.39415035e+01  4.06046581e+00 -1.89720592e+01 -1.39833724e+00\n",
      "  2.62022758e+00 -1.39121100e-01  7.77415419e+00 -4.29374743e+00\n",
      "  6.51644230e-01  4.48987532e+00  2.88730526e+01  1.31060247e+01\n",
      " -1.82695544e+00  1.63072910e+01  2.20172024e+01 -3.91018152e+00\n",
      " -7.20254612e+00  1.46993217e+01 -1.86734721e-01  8.50133801e+00\n",
      "  1.28320205e+00  6.09059238e+00  5.34296846e+00 -3.67095494e+00\n",
      "  1.49404602e+01  3.51158428e+00  2.69465351e+00  1.17097914e+00\n",
      "  7.38631201e+00  2.07844734e+01  2.83518624e+00 -1.02353878e+01\n",
      "  3.90045023e+00 -7.80665350e+00 -9.88993883e-01  3.68194914e+00\n",
      " -4.47956085e+00  5.51210833e+00  1.27895415e-01  1.26173067e+00\n",
      "  3.65695071e+00  9.92797947e+00 -1.23373723e+00  7.91906738e+00\n",
      "  9.85536480e+00 -6.62565708e+00  3.45820856e+00  3.27110291e+00\n",
      "  5.92495620e-01  5.62041807e+00  4.94969082e+00  3.08519983e+00\n",
      " -2.82304835e+00  5.93925047e+00 -1.71561289e+00 -4.01493025e+00\n",
      " -5.63468218e+00  1.22705660e+01  3.34333324e+00  5.83858061e+00\n",
      " -2.26631021e+00 -2.35232925e+00  2.70693684e+01  5.94565964e+00\n",
      "  2.54169273e+01 -8.33409786e-01 -8.47797394e+00  1.42751894e+01\n",
      "  1.23091869e+01  4.98990107e+00  2.97895342e-01 -5.28838539e+00\n",
      "  1.07604370e+01  1.70067387e+01 -2.74321079e+00 -3.13286662e+00\n",
      "  5.32487011e+00  5.67918730e+00 -1.00157785e+01  4.83692026e+00\n",
      " -5.24608517e+00 -7.18749857e+00 -1.05786943e+00  1.39990509e+00\n",
      "  1.27044191e+01  1.25409317e+01 -6.17072296e+00  2.76961842e+01\n",
      "  8.47085476e+00  1.01669693e+01  5.32754183e+00  1.18926640e+01\n",
      " -4.19145060e+00  3.39990540e+01 -1.28098333e+00  1.71811104e+01\n",
      " -1.80532575e+00  2.50465870e+01  2.38043327e+01 -5.53330135e+00\n",
      " -5.50782299e+00  1.03554831e+01  1.37854462e+01  1.74805164e+01\n",
      " -7.11645699e+00 -4.71831799e+00 -3.58620954e+00  1.98468697e+00\n",
      "  1.19967020e+00  1.85015850e+01  3.61045647e+01  3.03269029e-01\n",
      "  1.60535526e+00  8.36214066e+00 -8.21531236e-01  1.99431343e+01\n",
      "  1.56327400e+01  2.12060833e+01  1.94534874e+01  1.54456654e+01\n",
      "  7.37668514e+00  1.09363115e+00  8.28984165e+00  2.42951279e+01\n",
      "  4.25077438e+00  4.16455936e+00  2.57272778e+01  6.51000357e+00\n",
      " -8.64768600e+00  2.54361420e+01  1.58361282e+01  2.12641869e+01\n",
      " -9.62675273e-01  2.22325110e+00  2.46288452e+01  8.92410374e+00\n",
      "  1.83288612e+01  2.02320910e+00 -1.07769537e+01  2.63987541e-01\n",
      "  1.25202703e+00  2.92604542e+01  1.14260454e+01  1.58437004e+01\n",
      " -7.81195450e+00  1.21653528e+01  3.67808838e+01  1.19207306e+01\n",
      "  5.94573975e+00  1.42446146e+01 -3.41927862e+00  3.54339523e+01\n",
      " -9.70300287e-02 -1.97330451e+00  4.20298386e+01  9.06874275e+00\n",
      "  5.26182604e+00 -7.83289862e+00  5.09430456e+00  3.74775314e+01\n",
      "  4.60380554e+00  2.93046165e+00 -2.25549087e-01  1.68714809e+01\n",
      "  1.48323278e+01  2.85934715e+01  1.29729977e+01 -2.91771531e+00\n",
      " -3.30993271e+00  1.24034739e+01  2.04441166e+01 -3.06137657e+00\n",
      "  5.83433104e+00  9.59721279e+00  3.12220836e+00  2.87803059e+01\n",
      "  1.68211250e+01  5.31867361e+00  1.41325026e+01  3.80040359e+00\n",
      "  1.34921589e+01  5.69528246e+00  6.94643116e+00 -3.93367290e+00\n",
      " -4.49648952e+00  9.09825325e+00  1.34402437e+01  5.37566519e+00\n",
      "  1.54256363e+01  3.07915545e+00  6.97508920e-03  2.88928413e+00\n",
      " -1.06455970e+00 -4.05792522e+00  2.22532606e+00 -8.88035202e+00\n",
      " -8.60009384e+00 -5.06325817e+00 -1.93488464e+01 -9.56271744e+00\n",
      " -1.31679606e+00  2.27196002e+00 -7.61388159e+00 -7.28683949e+00\n",
      " -8.36772919e+00 -3.20060492e+00 -2.16812468e+00 -5.59779263e+00\n",
      " -2.07084904e+01 -5.24505043e+00 -3.06308293e+00 -8.71487713e+00\n",
      " -1.02985849e+01 -7.47820473e+00  1.38883865e+00 -5.96140766e+00\n",
      " -3.37804961e+00 -1.34556818e+00  7.12370014e+00 -7.70628166e+00\n",
      " -4.72867042e-01  3.64609742e+00 -2.65538001e+00 -1.45684538e+01\n",
      " -1.23683538e+01 -1.30710888e+00 -9.77351964e-02  7.36240506e-01\n",
      " -1.67305863e+00 -4.53647232e+00  2.88701558e+00 -5.65954161e+00\n",
      " -8.23673534e+00  3.48394847e+00 -9.09929752e+00 -2.74454713e+00\n",
      " -1.29365149e+01  2.48553848e+00 -6.76802969e+00 -8.54434311e-01\n",
      " -7.11929989e+00 -6.75248575e+00  4.57239962e+00  3.64422369e+00\n",
      " -9.16087818e+00 -3.55432367e+00 -5.94236517e+00 -5.21975327e+00\n",
      " -2.40244484e+01 -1.47370939e+01  7.15811789e-01 -7.39684725e+00\n",
      " -4.14814615e+00 -6.63028622e+00 -9.79095554e+00 -6.77300787e+00\n",
      " -2.10483193e+00  1.57073116e+00 -5.06626487e-01 -1.81811123e+01\n",
      " -2.43433914e+01 -7.99557495e+00  2.04186654e+00  1.85692978e+00\n",
      "  7.33213043e+00 -1.90868340e+01 -5.20358229e+00  8.95469606e-01\n",
      " -9.10945225e+00 -1.36562824e+01  4.49231529e+00 -1.95874233e+01\n",
      "  5.36959134e-02 -4.75354433e-01 -1.44413099e+01  2.88295150e+00\n",
      " -1.80881805e+01 -9.68327820e-01  8.92687988e+00 -9.00952148e+00\n",
      "  3.58132839e+00 -9.67395210e+00 -1.06682692e+01 -6.08468103e+00\n",
      " -5.74541187e+00 -6.50310373e+00  1.57763004e+00 -5.78066540e+00\n",
      " -2.72597098e+00 -2.41778336e+01  2.82055593e+00  1.66673794e+01\n",
      "  2.45180917e+00 -1.09012985e+01 -1.05631800e+01 -4.81286335e+00\n",
      "  1.00400162e+00  2.56698871e+00 -9.44396782e+00 -4.22601843e+00\n",
      " -4.25833321e+00 -6.11378491e-01  1.38310564e+00 -1.49578595e+00\n",
      "  2.51087427e+00 -2.67726707e+00 -7.95213461e+00  1.27663553e+00\n",
      "  5.19667387e+00 -4.97487593e+00 -3.73148113e-01 -6.96283007e+00\n",
      " -2.49377513e+00 -8.94866085e+00  3.51746225e+00  2.06113224e+01\n",
      " -2.17567978e+01 -5.92232037e+00 -4.31312180e+00 -3.37679434e+00\n",
      " -1.96983967e+01 -4.46487093e+00  2.28914952e+00 -1.74729271e+01\n",
      "  5.19550705e+00 -1.40502810e-01 -9.71872330e-01 -9.81525040e+00\n",
      "  5.33747196e+00 -5.21351480e+00 -5.42462158e+00  2.36602116e+00\n",
      "  1.82081744e-01 -3.91695690e+00 -7.99937153e+00  6.36416852e-01\n",
      "  6.23095274e+00 -1.30802011e+01 -1.74662590e+00 -1.64936810e+01\n",
      " -3.20770431e+00 -3.68860483e+00 -6.86846876e+00  8.58491516e+00\n",
      "  7.03689957e+00 -3.30984330e+00 -3.44518018e+00  7.00406170e+00\n",
      " -6.18025810e-02  1.84416509e+00  4.92565536e+00 -2.50323057e+00\n",
      " -2.11013565e+01 -1.25400906e+01 -3.77954078e+00  1.20237863e+00\n",
      "  1.23217659e+01 -1.54758346e+00 -9.79752779e-01 -8.50664330e+00\n",
      " -2.57944012e+00 -5.80479431e+00 -3.99402618e+00 -3.10862851e+00\n",
      " -7.08295202e+00  9.08181190e-01 -1.31609945e+01 -2.15745983e+01\n",
      " -8.08379459e+00 -4.20330048e+00 -1.08116369e+01 -2.00881596e+01\n",
      " -3.15262175e+00 -4.25407791e+00  1.96923161e+00  8.82025623e+00\n",
      " -2.67021885e+01 -3.61986184e+00 -1.81316841e+00 -1.51160431e+01\n",
      "  6.14377894e-02 -2.17833061e+01 -2.13830147e+01  6.46902084e-01\n",
      " -7.62218332e+00 -5.95668650e+00 -5.72616529e+00 -3.72430652e-01\n",
      " -8.21501350e+00 -3.67004395e+00 -4.48448992e+00 -6.43445873e+00\n",
      "  8.23827982e-01  1.20067854e+01  2.24644794e+01 -5.39538193e+00\n",
      "  3.59384394e+00  4.19533730e+00 -4.81971884e+00 -5.24197769e+00\n",
      " -3.91614389e+00 -3.01655712e+01 -5.62293768e+00 -2.48698101e+01\n",
      " -2.99345131e+01 -4.33935404e+00 -3.56722374e+01  1.21577339e+01\n",
      " -1.20340967e+01 -1.49743748e+01  9.43977737e+00 -6.10830641e+00\n",
      " -8.15443802e+00 -2.94416695e+01 -2.48751259e+01 -2.52366371e+01\n",
      " -3.60098505e+00 -3.58504829e+01 -2.55200748e+01 -8.62488747e+00\n",
      " -3.12469411e+00 -2.13691883e+01 -2.81605988e+01 -1.50963469e+01\n",
      " -1.96367912e+01 -1.12921295e+01 -2.23645973e+01 -3.53331795e+01\n",
      " -7.09675431e-01 -2.73406696e+00 -7.00847912e+00 -4.69777441e+00\n",
      " -4.46357307e+01  5.64548492e+00 -1.82577324e+01 -1.00437765e+01\n",
      " -1.28168077e+01 -3.53379428e-01  2.39655638e+00 -2.88357568e+00\n",
      " -1.32619915e+01 -1.13591833e+01  1.37698641e+01  2.25586987e+01\n",
      " -3.85669684e+00 -1.74747929e-02 -1.93216534e+01 -1.31675501e+01\n",
      " -3.00666885e+01 -2.95162392e+01  4.10388947e+00 -1.78553696e+01\n",
      "  7.75659370e+00  1.17580175e+01 -3.04075470e+01 -1.52885237e+01\n",
      " -3.05821171e+01 -3.31838646e+01 -1.15183382e+01 -4.79545736e+00\n",
      " -3.62099762e+01 -4.79806709e+00 -3.57864761e+01  1.25968065e+01\n",
      " -1.13360367e+01 -2.36493092e+01 -2.73809357e+01 -6.34411907e+00\n",
      " -4.00526345e-01 -6.41820621e+00 -1.33375454e+01 -7.30657876e-01\n",
      " -2.92768726e+01 -1.26428404e+01 -2.44926529e+01  3.91556692e+00\n",
      " -7.83458281e+00  3.71565294e+00 -2.42368793e+00 -3.01730385e+01\n",
      " -3.36764753e-01 -2.22973204e+00 -8.46022797e+00 -1.40685024e+01\n",
      "  1.68353975e+00 -5.64953470e+00 -9.11395454e+00 -2.77710223e+00\n",
      " -4.56021786e+00 -2.36532097e+01 -2.94954777e+01 -2.82900963e+01\n",
      " -1.71464996e+01 -5.08182383e+00 -2.75039997e+01 -2.08671112e+01\n",
      " -6.53059530e+00  1.24918413e+01 -6.02521372e+00 -1.00794792e+01\n",
      " -1.30999680e+01 -5.37630510e+00  1.27969980e+00  9.24814224e+00\n",
      " -3.89486046e+01  2.91222191e+00 -2.42983227e+01  4.29277611e+00\n",
      " -1.06851835e+01  1.04289077e-01 -1.12991409e+01 -2.68556714e+00\n",
      " -1.31059349e+00  1.79383087e+01 -8.95491505e+00 -1.91295891e+01\n",
      " -4.05333376e+00 -3.16178036e+00]' has dtype incompatible with int64, please explicitly cast to a compatible dtype first.\n",
      "  preds[val_index] = model.predict(dval_i)\n"
     ]
    },
    {
     "name": "stderr",
     "output_type": "stream",
     "text": [
      "\r",
      " 50%|██████████████████████████████████████████████████████████████████████████                                                                          | 5/10 [01:28<01:30, 18.08s/it]"
     ]
    },
    {
     "name": "stderr",
     "output_type": "stream",
     "text": [
      "C:\\Users\\81809\\AppData\\Local\\Temp\\ipykernel_18960\\3386215446.py:18: FutureWarning: Setting an item of incompatible dtype is deprecated and will raise an error in a future version of pandas. Value '[ 3.02236891e+00  9.87242818e-01  1.44207726e+01  3.65671110e+00\n",
      " -5.63800526e+00 -7.37180948e-01  1.95949860e+01  7.41472530e+00\n",
      "  9.97858143e+00  6.42568302e+00  1.74205232e+00  5.74657440e+00\n",
      "  6.13829088e+00  2.41206284e+01  3.16150165e+00  2.13060799e+01\n",
      "  2.28761749e+01 -9.54804802e+00  2.26619911e+00  1.78297603e+00\n",
      "  4.80578542e-01 -4.10140991e+00  2.54231491e+01  2.85024757e+01\n",
      "  1.18075857e+01  3.76552010e+00 -4.01144171e+00  8.61238766e+00\n",
      "  4.49837923e+00 -4.56748247e-01 -2.71063733e+00  5.86361170e+00\n",
      "  2.49448776e+00  4.83607006e+00  1.56178217e+01  2.55382729e+00\n",
      "  3.63345109e-02  1.95720654e+01 -2.65762496e+00  3.89704299e+00\n",
      "  1.07359493e+00 -3.97541499e+00 -1.56115401e+00  7.74237204e+00\n",
      " -5.51513958e+00 -8.08792877e+00  1.63678360e+01  5.56374884e+00\n",
      "  2.29196281e+01  7.12737513e+00  1.36212313e+00  5.05840540e+00\n",
      " -1.68277013e+00 -2.24001813e+00  1.75044727e+00  1.30261326e+01\n",
      "  1.33823662e+01  6.44863129e+00  1.48872280e+00  3.68743372e+00\n",
      "  3.16122937e+00  4.64825487e+00  5.48886204e+00  7.19891882e+00\n",
      " -9.80286062e-01 -1.37879205e+00  1.63629513e+01  7.66081047e+00\n",
      "  1.16446209e+01  2.78843670e+01  3.40630245e+00  2.64391823e+01\n",
      " -8.98948097e+00  1.12334948e+01  1.09550381e+01  1.78749606e-01\n",
      "  3.78013492e+00  2.73966236e+01  8.15472698e+00  2.22187634e+01\n",
      " -1.62147951e+00  9.39755630e+00  8.57301426e+00 -2.27336144e+00\n",
      "  3.33539271e+00  1.25174351e+01  2.39092827e+00  1.08865690e+01\n",
      " -1.52804446e+00 -1.08099043e+00  2.51757050e+01 -2.88609171e+00\n",
      " -3.84407187e+00 -3.06321287e+00  2.65195618e+01 -1.38952696e+00\n",
      "  1.77015095e+01 -2.28999197e-01  1.23460007e+01  1.34985924e+00\n",
      " -4.29972410e+00  3.15422463e+00  1.07953143e+00  1.53486738e+01\n",
      "  1.38083467e+01  2.08592052e+01 -5.58552170e+00  7.72025728e+00\n",
      " -3.72311854e+00  7.88396978e+00  1.05475349e+01  5.01771021e+00\n",
      " -1.47348328e+01 -3.43909025e+00 -2.37850070e+00  1.09851742e+01\n",
      " -1.45738885e-01  2.98473091e+01  1.40366478e+01  4.57547617e+00\n",
      "  9.47433949e+00  8.14004707e+00  1.71637230e+01  8.57984841e-01\n",
      "  1.19016676e+01  3.86931562e+00 -1.46106064e+00  7.83992767e+00\n",
      " -1.50017953e+00  3.25035644e+00  3.25450659e+00  4.54585886e+00\n",
      "  8.18848073e-01  8.26643085e+00 -1.13128691e+01 -7.37408876e-01\n",
      " -3.25036621e+00 -5.15190172e+00  5.96473074e+00  2.18565226e+00\n",
      " -2.16016912e+00  1.62113800e+01  1.26902161e+01 -6.23698568e+00\n",
      "  1.80847130e+01  1.76470623e+01  2.40199642e+01  3.62116575e+00\n",
      "  4.61152554e+00  4.45572329e+00 -2.02405572e+00  6.02070236e+00\n",
      "  2.94422126e+00  1.29937143e+01 -1.40839326e+00  1.91460168e+00\n",
      " -3.54956388e-02 -3.90144229e+00  3.45624948e+00  2.07215004e+01\n",
      "  6.48654842e+00  4.78940201e+00  1.63014567e+00  8.13283348e+00\n",
      "  1.03098094e+00 -4.02048558e-01  5.22302532e+00  6.28953695e+00\n",
      "  1.20142679e+01 -5.60174942e+00  2.17612381e+01  2.54396486e+00\n",
      "  1.29755812e+01  7.73492861e+00  7.30687809e+00 -1.78795373e+00\n",
      "  2.20911741e+00  1.09030170e+01  4.82872677e+00  2.42163219e+01\n",
      "  6.79516506e+00  1.07254648e+01  1.02602587e+01  3.53506947e+00\n",
      "  2.54050274e+01  5.78405142e+00  5.42163563e+00  6.42618561e+00\n",
      "  4.96825933e+00  9.79224396e+00  1.01305246e+01  8.97669601e+00\n",
      "  6.17311621e+00 -3.16076255e+00  1.65931396e+01 -1.93982291e+00\n",
      "  3.15411758e+00 -1.02717471e+00  3.96174765e+00  1.16980085e+01\n",
      "  3.33357544e+01 -2.43166780e+00  4.34605484e+01 -2.15489626e+00\n",
      "  1.50604858e+01  2.61824369e-01  3.21437526e+00 -6.97497129e+00\n",
      "  8.72557831e+00  2.92790151e+00  1.33538904e+01  6.15496302e+00\n",
      " -7.37949181e+00 -1.67279410e+00  2.27743244e+01  2.38587265e+01\n",
      "  9.68882751e+00  5.61917603e-01  3.33399620e+01  3.55488281e+01\n",
      "  5.48253775e+00  1.98080235e+01  9.13648033e+00  1.42755661e+01\n",
      "  1.69511490e+01 -6.43687582e+00  1.29593210e+01  7.62825537e+00\n",
      " -4.12841558e+00 -2.54916191e+00  1.98220372e+00 -7.04720545e+00\n",
      "  1.00577650e+01  3.47179317e+00  1.77864838e+01  3.48840141e+01\n",
      "  1.63956213e+00  3.19853611e+01  1.41912663e+00  2.28651777e-01\n",
      " -6.34784162e-01  5.94794083e+00  5.21475983e+00  1.33925581e+00\n",
      " -6.57098818e+00  1.53413033e+00  1.63261566e+01  3.76667881e+00\n",
      "  1.02150259e+01  1.44224443e+01  3.37803459e+01  4.17729044e+00\n",
      " -6.29385710e+00  1.47717257e+01  2.23675900e+01  1.13444757e+01\n",
      "  9.21238995e+00  7.60663986e+00  3.62193203e+00  2.32387805e+00\n",
      "  4.45525665e+01 -3.97220707e+00  2.44931126e+01 -2.76550245e+00\n",
      " -5.05827570e+00  1.55674038e+01  3.16229000e+01  6.54540730e+00\n",
      "  1.32605038e+01  1.00538559e+01 -2.15959477e+00  8.54803753e+00\n",
      "  1.59406052e+01  3.29942703e+01  1.22877192e+00  3.23799157e+00\n",
      "  5.56477308e+00 -2.68433046e+00  8.92081928e+00  4.89683628e+00\n",
      "  4.66667061e+01 -3.18156433e+00 -2.45423126e+00 -1.03111064e+00\n",
      "  2.96061592e+01 -6.38390970e+00  2.44643993e+01  2.11187553e+01\n",
      "  3.68517590e+00 -1.26823292e+01  1.01515779e+01  2.18420677e+01\n",
      "  8.32493782e+00  9.26048577e-01  7.63088131e+00  3.66455650e+01\n",
      " -3.02639890e+00  1.14380875e+01  5.41387987e+00  1.64090900e+01\n",
      "  3.10565877e+00  6.66320515e+00  4.13809824e+00 -9.83633423e+00\n",
      " -7.82127857e+00  1.73668408e+00 -1.03165426e+01 -1.60165119e+00\n",
      "  8.07630539e+00  8.71151733e+00  3.04398537e+01  1.42287617e+01\n",
      "  2.20903683e+01  6.01420641e+00  6.84253931e-01  1.93923359e+01\n",
      "  4.13103819e+00  8.22809315e+00  2.23840389e+01  1.39365025e+01\n",
      "  2.11927204e+01 -4.59327012e-01 -5.51169062e+00 -2.00928879e+00\n",
      " -2.06116257e+01 -8.26502037e+00 -1.19394636e+01 -4.06090230e-01\n",
      " -6.23510885e+00  2.48595047e+00 -6.32588911e+00 -6.64036894e+00\n",
      "  7.82361889e+00  3.15075922e+00  4.41268730e+00 -2.80128026e+00\n",
      "  2.11595488e+00 -6.17198372e+00 -3.20594883e+00 -5.23959994e-01\n",
      " -2.01454182e+01 -3.72411370e+00 -3.73690939e+00 -2.46760154e+00\n",
      " -1.30521631e+00 -2.63561583e+00 -4.01637650e+00  1.11551225e+00\n",
      " -8.96933270e+00 -1.89259624e+01 -2.81398926e+01 -3.70460415e+00\n",
      " -9.73304653e+00 -4.50951290e+00 -8.38665962e+00 -1.52686223e-01\n",
      " -9.52451676e-02 -4.24825573e+00 -9.88965797e+00 -1.13688254e+00\n",
      " -1.02267141e+01 -7.21353912e+00  1.04333699e+00 -5.56509686e+00\n",
      " -5.69511986e+00 -1.39707851e+01 -2.21559639e+01 -5.58442116e+00\n",
      " -2.39076591e+00 -7.74151444e-01 -4.83208418e+00  4.61542368e+00\n",
      "  3.28159356e+00 -8.17058086e+00  1.80209383e-01 -1.83777225e+00\n",
      " -1.37983236e+01 -5.91790485e+00  3.23937923e-01 -1.45182724e+01\n",
      " -6.44331837e+00  3.69716430e+00 -7.09107828e+00 -8.94360065e+00\n",
      " -5.31456375e+00  4.08983994e+00  1.05586565e+00 -6.89252520e+00\n",
      " -9.55989170e+00  8.44409084e+00 -1.63447838e+01 -1.21063509e+01\n",
      " -7.20713854e-01 -4.57934809e+00 -1.11649549e+00 -1.16835136e+01\n",
      " -1.79756165e+01  2.81453824e+00  6.64651585e+00 -6.97331190e+00\n",
      "  4.51521540e+00 -1.76551514e+01 -1.06535673e+01 -6.49595308e+00\n",
      " -3.42267966e+00 -5.78094244e+00 -7.37816215e-01 -1.21693602e+01\n",
      " -9.11205387e+00 -3.58836174e+00 -1.36618376e+01 -1.05988226e+01\n",
      " -3.53412271e+00 -1.04668036e+01 -7.52857089e-01 -9.31361914e-01\n",
      " -3.47301292e+00 -1.16912394e+01 -1.90392647e+01  2.94997740e+00\n",
      " -2.33965702e+01 -1.25458050e+01 -5.18408966e+00 -2.25570536e+00\n",
      " -5.55710268e+00 -2.12529397e+00 -1.29814253e+01  5.00187063e+00\n",
      "  5.99708223e+00 -3.75162423e-01 -1.13015544e+00 -6.45187807e+00\n",
      " -4.17717981e+00 -7.03730726e+00  8.73330784e+00 -2.13483734e+01\n",
      " -2.95416093e+00 -6.19910240e+00 -1.12782490e+00 -1.92357391e-01\n",
      " -8.55935764e+00 -1.12183294e+01  3.64749432e+00 -4.80073261e+00\n",
      " -3.60699701e+00 -4.43074465e+00  1.58188915e+01 -3.28208232e+00\n",
      "  2.65318346e+00  1.37628975e+01 -1.54738026e+01  4.31322145e+00\n",
      " -1.53347483e+01  2.82502508e+00 -8.67280293e+00 -4.88132000e+00\n",
      "  9.47559953e-01 -7.58288145e-01 -2.85031772e+00 -4.58980799e+00\n",
      " -2.06207504e+01 -1.12199898e+01 -9.18601418e+00 -2.20023327e+01\n",
      "  7.68072939e+00 -1.08020914e+00  4.96443081e+00  4.87766457e+00\n",
      " -2.18451519e+01 -2.27780914e+00 -7.18551397e+00  1.11525106e+01\n",
      " -1.84993774e-01 -1.70870094e+01  2.04675937e+00 -3.97633648e+00\n",
      " -1.74035225e+01 -4.24181342e-01 -3.49810094e-01 -4.05187273e+00\n",
      " -1.08599357e-01 -1.02935972e+01  2.04782343e+00  5.74206412e-02\n",
      "  4.78730887e-01  4.97698689e+00 -1.47259569e+01  5.18606520e+00\n",
      " -3.68544793e+00 -3.76910138e+00 -8.07463169e+00  2.86554575e+00\n",
      " -2.73255177e+01 -3.64444923e+00 -9.14990139e+00  3.44372988e+00\n",
      " -3.38710904e+00  7.13174486e+00  9.57472980e-01  3.37109303e+00\n",
      " -3.59945941e+00 -5.32277870e+00  4.07158804e+00 -1.02646751e+01\n",
      " -5.74048328e+00  7.76804304e+00  2.07755160e+00  4.57270861e+00\n",
      " -1.43865377e-01 -1.72207737e+01 -2.71100497e+00 -8.13831997e+00\n",
      " -3.60110545e+00 -1.14523935e+00 -3.54340696e+00 -3.91306257e+00\n",
      " -1.58050680e+00  2.86959076e+00  2.37496090e+01 -2.02055187e+01\n",
      " -5.66220617e+00 -3.88842583e+00 -1.73930664e+01 -4.82869053e+00\n",
      "  1.02712841e+01 -3.68071055e+00  1.10204184e+00 -3.08698654e+00\n",
      " -9.77126408e+00 -1.01750898e+01 -6.85736179e+00 -3.08253169e+00\n",
      " -1.01471710e+01 -1.03610811e+01 -6.48180485e+00  4.58818769e+00\n",
      " -1.47750559e+01 -4.91742420e+00 -1.72021942e+01 -9.85259438e+00\n",
      " -2.49104519e+01  3.88877225e+00 -1.02408981e+01 -3.25187349e+00\n",
      " -1.14430323e-01 -1.00551529e+01 -2.80881958e+01 -3.32804375e+01\n",
      "  1.41191778e+01 -8.17331123e+00 -5.79130530e-01 -2.04759693e+00\n",
      " -4.92313194e+00 -2.45038528e+01 -2.20942822e+01 -5.95803022e+00\n",
      " -9.15964127e+00  3.98219705e+00 -2.01310787e+01 -1.68068619e+01\n",
      " -6.93627739e+00 -5.42558718e+00 -2.26634674e+01 -1.16858215e+01\n",
      "  5.93093586e+00  5.87544584e+00  1.06602955e+00 -4.92070246e+00\n",
      " -2.69061623e+01 -1.06514730e+01 -1.64148769e+01  2.07109280e+01\n",
      " -1.70700321e+01  5.53829670e+00 -1.49797573e+01 -1.29768019e+01\n",
      " -3.56502876e+01 -7.74008226e+00 -2.94902039e+00 -2.17082644e+00\n",
      " -7.95594692e-01 -6.63545513e+00 -6.89575195e+00 -1.59254150e+01\n",
      " -1.57468653e+01 -3.12853737e+01  2.28783846e+00 -1.60949516e+01\n",
      " -3.38842087e+01 -7.65156269e+00 -2.73070030e+01 -1.66463604e+01\n",
      "  8.58570099e+00 -1.41012783e+01 -1.94083405e+01 -1.34945993e+01\n",
      " -4.48723888e+00 -1.41956635e+01 -1.00822859e+01 -3.33619537e+01\n",
      "  1.62419391e+00 -6.73529339e+00 -3.84647059e+00 -4.89367247e-01\n",
      " -3.02682400e+01 -2.71382732e+01 -2.55849667e+01 -6.15299463e+00\n",
      " -4.89344673e+01  1.45066452e+00 -3.78434105e+01 -1.73989761e+00\n",
      "  4.46218538e+00 -1.03099480e+01  8.00553513e+00  7.06808901e+00\n",
      " -7.52804852e+00 -3.23836250e+01  1.07497716e+00 -3.77846413e+01\n",
      "  2.87792277e+00 -3.99685836e+00 -1.03351631e+01 -1.78757858e+01\n",
      " -2.24490128e+01 -3.25850334e+01  1.30609055e+01 -1.57060778e+00\n",
      " -2.65265322e+00 -2.82495708e+01 -5.18417835e+00 -1.87891560e+01\n",
      " -2.85037212e+01 -1.54512966e+00  1.64863122e+00 -6.98787451e+00\n",
      " -5.92684221e+00 -7.82563066e+00  2.18738866e+00 -8.87640858e+00\n",
      " -3.82161980e+01 -7.18628693e+00 -1.19544382e+01 -4.81508017e+00\n",
      " -1.05145712e+01 -1.98590012e+01]' has dtype incompatible with int64, please explicitly cast to a compatible dtype first.\n",
      "  preds[val_index] = model.predict(dval_i)\n"
     ]
    },
    {
     "name": "stderr",
     "output_type": "stream",
     "text": [
      "\r",
      " 60%|████████████████████████████████████████████████████████████████████████████████████████▊                                                           | 6/10 [01:48<01:15, 18.85s/it]"
     ]
    },
    {
     "name": "stderr",
     "output_type": "stream",
     "text": [
      "C:\\Users\\81809\\AppData\\Local\\Temp\\ipykernel_18960\\3386215446.py:18: FutureWarning: Setting an item of incompatible dtype is deprecated and will raise an error in a future version of pandas. Value '[ 5.02587795e+00  1.30818338e+01 -5.85678387e+00  1.00252438e+01\n",
      "  4.22195911e+00  2.39460545e+01  6.92815542e+00  1.03406918e+00\n",
      "  6.05102205e+00  5.56930208e+00  1.52473593e+00  1.82641232e+00\n",
      "  1.24580932e+00  7.32095003e+00 -5.55510402e-01  2.10975342e+01\n",
      "  2.08579826e+01 -9.15194511e+00  5.75667715e+00 -6.55212700e-01\n",
      "  5.88472986e+00  5.04935682e-01 -4.73373795e+00  6.41888285e+00\n",
      "  8.48938465e+00  1.68589039e+01 -5.51748455e-01  2.86241646e+01\n",
      "  8.54869366e+00 -3.44367218e+00  4.00219870e+00  9.78717995e+00\n",
      "  1.45414667e+01  9.33176613e+00  7.16127682e+00  1.44139600e+00\n",
      "  1.63320255e+01  1.01126218e+00  1.36407685e+00  1.18640935e+00\n",
      " -3.68304074e-01  1.87781572e+00  7.58772278e+00  1.64950287e+00\n",
      "  6.04079247e+00  1.63259678e+01  1.56008043e+01  1.45910203e+00\n",
      " -1.73603606e+00 -1.65950727e+00  6.88662672e+00 -1.31806493e+00\n",
      "  1.32479486e+01 -2.64633703e+00 -1.79583684e-01  1.06825418e+01\n",
      "  2.40595303e+01  2.56436958e+01  1.18467796e+00  6.60585117e+00\n",
      "  8.90409660e+00 -4.19890165e+00  8.46134853e+00  2.27782798e+00\n",
      "  7.81004369e-01 -2.59565187e+00  1.84704723e+01  5.10677242e+00\n",
      "  1.44171171e+01  1.80643501e+01 -6.65941763e+00  1.29272795e+00\n",
      "  5.68781376e+00  1.81608124e+01 -2.75179672e+00  1.77646236e+01\n",
      "  1.16760550e+01  1.20142326e+01  2.56587672e+00 -2.00326135e-03\n",
      "  7.31874561e+00  2.43424773e+00  1.55001211e+01  1.07221193e+01\n",
      " -4.75025702e+00 -2.33419389e-01 -5.23491442e-01 -3.95777297e+00\n",
      "  4.74886513e+00  1.50781879e+01 -1.41384864e+00 -3.81641102e+00\n",
      "  2.31716709e+01  4.13936615e+00  1.33746204e+01 -1.02355633e+01\n",
      "  1.40488882e+01  3.11057591e+00  1.31289158e+01 -7.67319822e+00\n",
      "  5.11406279e+00  9.53638840e+00 -3.99033928e+00 -2.77159303e-01\n",
      "  1.40639725e+01  1.97514892e+00 -5.34477854e+00  2.34675097e+00\n",
      " -3.69196630e+00  1.73133099e+00 -3.45951796e-01  6.39878559e+00\n",
      "  8.58982277e+00  2.60256729e+01 -3.16444468e+00 -7.95821238e+00\n",
      " -4.22058868e+00  4.58813381e+00 -1.77489901e+00  2.57404900e+00\n",
      "  8.01706886e+00  1.19444218e+01 -1.13195813e+00  3.84523869e+00\n",
      "  4.99604845e+00  2.77070665e+00  7.07654762e+00  1.68736439e+01\n",
      " -1.33911002e+00 -2.13344717e+00  5.85808277e+00  2.52811491e-01\n",
      "  1.14832938e+00  2.16513896e+00  3.19126725e+00  1.21654768e+01\n",
      "  2.07970405e+00  6.17029428e+00  1.54553622e-01 -8.93958569e+00\n",
      "  2.09825573e+01  4.41630542e-01  3.66242647e+00  7.72613716e+00\n",
      "  1.59137545e+01 -4.46363831e+00  8.44570622e-02  1.19149961e+01\n",
      "  1.23455725e+01 -3.02802324e+00 -9.81954873e-01  4.24855137e+00\n",
      "  1.71518135e+00 -5.83071995e+00  9.66998386e+00  1.31309557e+01\n",
      "  4.85608912e+00  1.43578243e+00 -3.80303812e+00 -2.99725032e+00\n",
      "  4.87318563e+00  5.73186541e+00  2.31807194e+01  2.49939251e+00\n",
      "  5.41411734e+00  4.09389228e-01 -1.34681091e-01  1.85468140e+01\n",
      "  2.77871013e+00 -3.37817430e-01  6.06236172e+00  3.46703076e+00\n",
      "  8.57857227e+00  7.97826433e+00 -8.79096150e-01  3.89649081e+00\n",
      "  3.04644656e+00  2.34529839e+01  6.93046808e+00 -5.33054304e+00\n",
      "  8.44575500e+00  1.97234094e-01  5.54783487e+00  9.80424690e+00\n",
      "  2.31658497e+01  1.91965160e+01  4.17958498e+00  2.15395603e+01\n",
      "  1.65021954e+01  3.30304980e+00  5.46195936e+00 -2.67253709e+00\n",
      "  1.05376883e+01  1.63877926e+01  1.40549228e-01  3.58208084e+01\n",
      "  1.53228397e+01 -7.20339966e+00  6.48578596e+00 -4.73571444e+00\n",
      "  1.34420967e+01  9.68258095e+00  3.77626839e+01  6.37437296e+00\n",
      " -5.16857266e-01  2.45134525e+01  6.29981756e+00  9.34221363e+00\n",
      "  4.77807559e-02 -3.41546297e+00  9.41050053e+00  6.36098766e+00\n",
      " -9.67310047e+00  2.87809300e+00  2.59500618e+01  3.90113688e+00\n",
      " -4.72525418e-01  1.48316252e+00  9.53353214e+00  2.44900084e+00\n",
      " -9.67015839e+00  1.05012674e+01  2.63820210e+01  4.96966600e+00\n",
      "  1.35761023e+00  2.01719913e+01  1.46078472e+01  8.40573120e+00\n",
      "  5.57023048e+00 -6.89798021e+00  4.38811340e+01  1.31805515e+00\n",
      "  9.00855541e+00  2.34932137e+01  1.46791849e+01  3.11246796e+01\n",
      "  6.07302606e-01  8.82059097e+00  6.97795343e+00  3.56028824e+01\n",
      "  3.60974236e+01  6.80479765e+00  5.00964499e+00  1.76580238e+01\n",
      " -4.84583288e-01  2.05230260e+00  2.97654877e+01 -2.46408844e+00\n",
      " -1.39313936e-01  9.35398006e+00  1.84271812e+01  1.26208515e+01\n",
      "  1.70150337e+01  1.45592070e+01  1.25758476e+01 -5.37524748e+00\n",
      "  1.23814020e+01  8.97287428e-01  3.32020187e+00  1.48917093e+01\n",
      "  1.13894911e+01 -4.80390930e+00  4.11440277e+01  3.61261635e+01\n",
      " -1.01150684e+01  8.64681435e+00  1.47874773e+00  1.40990772e+01\n",
      "  1.26538010e+01  2.93187943e+01  1.72029762e+01  4.60999603e+01\n",
      "  5.17249167e-01  2.88567581e+01  2.17757931e+01  6.68493271e+00\n",
      "  2.43974056e+01  3.57772636e+00 -8.98336029e+00  5.05434227e+00\n",
      " -6.69763374e+00  1.87841930e+01  7.41176462e+00  3.40265465e+00\n",
      "  2.68282394e+01  3.64726181e+01  7.54608750e-01  6.43906832e+00\n",
      "  1.85698624e+01  2.13074303e+01  1.93157024e+01  6.06225395e+00\n",
      "  5.73859692e+00  1.23174179e+00 -6.49295568e+00 -1.53551877e+00\n",
      "  2.55687466e+01  4.75819254e+00  2.99153481e+01  2.31895089e+00\n",
      " -9.50075090e-01  2.32899055e+01 -3.48931694e+00  2.31212101e+01\n",
      "  2.76999302e+01  5.08296776e+00  1.02372913e+01  1.16942787e+01\n",
      " -4.55490017e+00 -1.37794228e+01 -1.00586224e+01 -9.60146618e+00\n",
      " -5.11679888e+00 -1.15740299e+01 -6.30753994e+00  1.54209352e+00\n",
      " -6.12400198e+00 -7.13348866e+00 -7.49266624e+00  4.04577541e+00\n",
      "  3.78447556e+00 -1.35113831e+01 -2.11260090e+01 -2.02566490e+01\n",
      " -6.65188599e+00  7.91028690e+00 -5.21896219e+00 -1.64185321e+00\n",
      " -6.32719946e+00  4.91097593e+00  1.83449948e+00  2.13059425e+00\n",
      " -7.76161194e+00 -2.27695904e+01 -1.74097481e+01 -1.01644392e+01\n",
      " -4.81283903e+00 -6.49948406e+00 -1.38831770e+00  6.99799013e+00\n",
      "  6.72040987e+00 -2.82036901e-01  3.69985819e+00 -6.95154715e+00\n",
      " -5.13624096e+00 -8.46160984e+00 -1.00951042e+01  3.00037932e+00\n",
      "  4.96612787e+00  6.11034155e+00 -2.24227257e+01  1.01189241e+01\n",
      " -3.41037363e-01 -1.58804712e+01 -2.45390320e+01 -8.69890988e-01\n",
      " -4.11969948e+00 -7.32593632e+00  1.76284194e+00 -1.40088320e+00\n",
      " -2.41503525e+00 -2.69940901e+00  1.22631752e+00 -6.41017151e+00\n",
      "  1.56485841e-01 -2.72701035e+01  1.58521855e+00 -1.55632210e+01\n",
      " -2.42581654e+01 -1.72891865e+01 -1.04869449e+00  3.13943124e+00\n",
      " -1.28992891e+01 -5.44849873e+00 -3.53729749e+00 -4.29688597e+00\n",
      " -5.23101044e+00 -5.36629438e+00  3.13027143e+00 -6.12230682e+00\n",
      " -7.48386085e-01 -1.52586184e+01  2.77279112e-02 -5.40846968e+00\n",
      " -7.49949312e+00  4.06520319e+00 -2.36357379e+00  1.55403051e+01\n",
      " -4.86452532e+00  3.43327188e+00  7.84414172e-01 -8.47770023e+00\n",
      " -1.28424966e+00  1.05459595e+01  5.40327644e+00  2.10499787e+00\n",
      "  7.08065271e+00 -4.13911486e+00 -4.76711416e+00  2.06594992e+00\n",
      " -2.24491882e+00 -3.20363355e+00  3.41050029e+00 -2.47317772e+01\n",
      " -1.82238941e+01 -2.01123857e+00 -3.96563935e+00 -2.32428741e+00\n",
      " -7.57630634e+00  4.24123192e+00  5.08644819e+00  1.63067257e+00\n",
      "  2.48125887e+00  2.66600728e+00 -1.04203901e+01  4.27453220e-01\n",
      " -2.10404873e+01 -5.04935122e+00 -1.26212072e+01 -6.99571943e+00\n",
      " -2.50888610e+00  4.37803984e+00 -3.00465050e+01 -9.47675800e+00\n",
      "  1.24044981e+01 -1.53397713e+01  5.85457706e+00 -1.51649914e+01\n",
      "  4.97048235e+00 -3.26481557e+00  2.05009866e+00 -4.19775105e+00\n",
      " -5.74229956e+00 -2.51162052e+00 -4.80516434e+00 -1.17080841e+01\n",
      " -1.23589516e+01 -3.48529726e-01 -1.27604189e+01  1.32327318e+00\n",
      " -1.99079740e+00 -2.17508430e+01 -4.23083591e+00 -9.63809586e+00\n",
      " -3.35034585e+00 -1.07362108e+01 -2.04207611e+01  2.96944308e+00\n",
      " -3.99768734e+00  5.54095507e-01 -3.36699033e+00 -5.41775894e+00\n",
      " -3.13918543e+00 -4.11883020e+00  9.05115008e-01  1.71876259e+01\n",
      " -2.60971099e-01 -3.62607718e+00 -2.03018246e+01 -1.06479492e+01\n",
      " -2.56710744e+00 -4.00031090e+00 -1.03114491e+01 -5.50161695e+00\n",
      " -7.51863050e+00 -3.59199691e+00 -2.18480473e+01  5.39503860e+00\n",
      "  6.02413654e+00 -1.27379894e+00  6.27412367e+00 -6.55996263e-01\n",
      " -5.53838682e+00 -2.41766047e+00 -2.31725574e+00 -4.63018227e+00\n",
      "  1.87566030e+00 -2.77805269e-01  6.49405098e+00 -3.41007829e+00\n",
      "  1.74862087e+00  3.56379080e+00 -1.03625417e+00  1.73490512e+00\n",
      " -3.77870345e+00 -2.31534424e+01 -1.60177307e+01 -3.67832565e+00\n",
      " -2.35666771e+01  2.74933517e-01 -1.25030241e+01 -4.45807123e+00\n",
      "  3.97539163e+00 -4.41713667e+00 -7.62772989e+00 -1.27736521e+01\n",
      " -8.72001553e+00 -8.29895288e-02 -1.67493267e+01 -1.00488222e+00\n",
      " -4.78616238e+00 -5.18725681e+00 -5.37604904e+00  9.30034256e+00\n",
      "  5.20055771e+00 -3.55017638e+00 -3.69965172e+00 -5.06797314e-01\n",
      " -2.88851109e+01 -4.17682304e+01  1.02943492e+00 -2.33274961e+00\n",
      " -4.44451761e+00  4.68418598e+00 -2.02478004e+00 -5.49443722e+00\n",
      " -3.43470001e+01 -4.19480324e+00 -1.22755699e+01  3.98357296e+00\n",
      "  1.01719065e+01 -1.04347944e+01 -1.45171022e+01 -7.51707697e+00\n",
      " -2.92466903e+00 -2.73808250e+01 -3.35979004e+01 -2.46733799e+01\n",
      " -3.67393303e+01 -1.45708733e+01 -1.67500305e+01 -3.43366737e+01\n",
      " -2.81754322e+01  9.64499569e+00 -1.99601936e+01 -8.46767998e+00\n",
      " -6.97081685e-01  3.23567104e+00 -4.41095400e+00  5.87785006e+00\n",
      " -1.45821381e+00 -3.11499615e+01 -1.23159151e+01  1.05067837e+00\n",
      "  4.63135338e+00 -2.21400189e+00  2.41163105e-01 -1.03757644e+00\n",
      " -2.88452148e+01 -2.03226590e+00 -6.74277163e+00 -4.29203224e+00\n",
      " -1.61310291e+01 -6.14686489e+00  3.68098044e+00  6.67033577e+00\n",
      " -6.84250307e+00 -2.34102840e+01 -1.39809885e+01 -1.30635929e+01\n",
      " -1.53352547e+00 -1.21672363e+01  1.63421047e+00 -3.93002844e+00\n",
      " -1.12417250e+01 -3.56681290e+01 -5.90517712e+00  1.15737915e+00\n",
      "  5.09176540e+00 -1.83447304e+01 -3.59598398e+00 -2.51909122e+01\n",
      " -2.34173260e+01 -2.91105347e+01 -7.25010204e+00 -1.21531763e+01\n",
      " -2.07799053e+00 -2.11317110e+00 -2.27773285e+00 -2.88906670e+01\n",
      " -1.19042921e+01  4.45526934e+00 -1.10226631e+01 -3.46296844e+01\n",
      " -1.79075384e+00 -1.21432104e+01 -8.53978157e-01 -2.65567741e+01\n",
      " -7.93070078e+00  7.85977066e-01 -2.58025670e+00 -5.61087227e+00\n",
      " -1.01578808e+01 -3.37650948e+01  1.55967569e+00 -2.77324848e+01\n",
      "  3.90730053e-01 -1.19094458e+01 -2.37654991e+01 -2.83138561e+01\n",
      " -1.84871788e+01 -5.94579172e+00 -2.10992694e+00 -1.34081059e+01\n",
      " -1.85740299e+01 -2.62201595e+01  2.32886910e+00 -4.55179253e+01\n",
      " -3.01742744e+01 -1.14500828e+01 -3.41111946e+01 -2.30867910e+00\n",
      " -2.11367168e+01  1.11306047e+01 -1.15250282e+01 -9.52762413e+00\n",
      "  5.32734728e+00 -1.77215786e+01 -4.15269673e-01 -6.94773245e+00\n",
      " -7.42541969e-01  1.67075849e+00 -2.21162271e+00 -2.97126751e+01\n",
      " -5.85722971e+00 -9.39079285e+00 -1.25473232e+01 -4.06288624e+00\n",
      "  2.33143826e+01 -3.38120270e+00 -3.33675575e+01 -3.01902599e+01\n",
      " -4.54583788e+00  2.77114105e+00 -3.90017090e+01  2.17443323e+00\n",
      " -3.73074455e+01 -2.40707970e+01 -1.84883499e+01 -1.39520712e+01\n",
      " -1.34563570e+01 -1.86507168e+01 -1.04985495e+01 -1.72388191e+01\n",
      " -3.68454361e+00  2.20936465e+00]' has dtype incompatible with int64, please explicitly cast to a compatible dtype first.\n",
      "  preds[val_index] = model.predict(dval_i)\n"
     ]
    },
    {
     "name": "stderr",
     "output_type": "stream",
     "text": [
      "\r",
      " 70%|███████████████████████████████████████████████████████████████████████████████████████████████████████▌                                            | 7/10 [02:08<00:57, 19.11s/it]"
     ]
    },
    {
     "name": "stderr",
     "output_type": "stream",
     "text": [
      "C:\\Users\\81809\\AppData\\Local\\Temp\\ipykernel_18960\\3386215446.py:18: FutureWarning: Setting an item of incompatible dtype is deprecated and will raise an error in a future version of pandas. Value '[  1.2723856   -4.6106195    2.8894444    2.1450138   17.31596\n",
      "   1.0738822    0.27574727  10.044996    -3.6783645    3.5372677\n",
      "  -2.9354618    6.0793076    4.3398614    1.7161802    6.6483374\n",
      "   7.3222427   -7.6399803   -4.6904473    5.369713     9.055639\n",
      "   0.5195376   -0.8426179    2.5679107   28.941235    10.538152\n",
      "   1.5358402   -6.4195957   17.719698    -0.06287797   5.0248895\n",
      "   1.498952    -3.4036708    6.180015    -2.2932608    8.804309\n",
      "   9.4101925    7.935335    -9.51416      7.697531     1.8250763\n",
      "  -1.7800866    5.3217525   16.573793    10.756932    22.789366\n",
      "  -0.4939368    0.16414239  13.742434     6.675737     1.3302107\n",
      "   8.8629       4.364524    -4.146681    -1.2947129    5.9745226\n",
      "  -2.7020772    2.028141     7.3629994    5.745482     3.3946633\n",
      "  11.369668    10.48479     -4.2668524   -3.3229427    3.4112597\n",
      "   3.0244412   -1.6827574    1.6991463   18.665888     8.348555\n",
      "   5.4579844   17.481709     7.3028684   -1.0086832   -2.8423805\n",
      "  -5.5049386    8.695527     7.629996    10.104664     0.8420733\n",
      "   4.2012806    7.4578996    5.6419907   12.684758     4.5221453\n",
      "   0.4816507    4.989694     3.24812     21.165218    14.698889\n",
      "   0.651208     8.662447   -11.291249     3.4595258    4.958938\n",
      "   0.814789     1.2334232    9.712478    -2.6554923   20.69569\n",
      "   0.76767766  -1.1771989   -1.613502     2.3773458    1.7484914\n",
      "   7.963544    -6.455153    12.774514    -1.9731276   -0.2915256\n",
      "  -6.0960484   -1.7077259    5.70921     -2.8903117   -1.5732464\n",
      "   7.473902    -5.8155704    1.4007541   -2.5601833   -2.9949033\n",
      "   6.4458966   12.480577    -3.5442343   -0.49882987   3.811212\n",
      "  -4.598878     3.4920485    7.0527043    0.24112074  15.849745\n",
      "  15.608805     4.343763    -4.466109    -6.6833663   -1.694708\n",
      "   2.0824513    5.5787883   -6.311754     3.4054804   12.394811\n",
      "  -2.2244847   -3.0498416    0.48017997   0.4605805    6.0977664\n",
      "  -6.5621853    9.117141    15.395844    14.748041    10.453038\n",
      "   1.4614564   11.852751     0.77971685   0.714716     9.916856\n",
      "  21.56267     -0.74094194  -9.2764225    3.8198957    6.0686812\n",
      "   3.2572844   -0.75431305   2.012171    10.820202    -4.011592\n",
      "   1.4335133  -17.336536    17.369776    -4.0315766   22.470757\n",
      "   2.534017     0.77775085   9.811482     5.3745356   12.077948\n",
      "   3.305454     5.3462195    2.539245     3.3078268    0.29585537\n",
      "   3.5515378   -1.9184932    4.5401583   -4.8171644   21.772835\n",
      "  22.116903    -0.05030313   1.8779436   -6.5105834    6.0935125\n",
      "   4.7185817   -3.855473     4.211502     6.6204576    9.669344\n",
      "   3.4940934   21.629358    -2.970659    10.51546     25.352198\n",
      "  -4.169019    -0.6588581   -4.4817863   -1.7804974   -2.752177\n",
      "   1.8851596    5.6481223   -3.1775806   15.674284    -3.457135\n",
      "  -2.1141658    1.1269327   18.874329     3.387457     4.2182736\n",
      "  11.706087     2.2230904   -1.8854831    4.73322     20.38419\n",
      "  30.968287    -1.4261893   26.735237     4.276342     4.015625\n",
      "  19.818806     6.297434     0.25092417  21.454567   -10.177685\n",
      " -10.86363     -4.8099923    6.2643504   -3.8120005   35.60991\n",
      "  16.470362    19.950773     3.6321726   20.23881      6.8065705\n",
      "   7.1586165   -4.120566    32.053524    13.221923    29.021576\n",
      "   0.7532596   -0.3319715   27.896326    11.213878    24.956133\n",
      "  18.513199    15.330679    19.477423     5.7732406   11.998603\n",
      "   1.3416798   16.50342     -7.228564     8.726254    -1.3755038\n",
      "   2.2509618   11.340468    -4.2237287   23.23732     27.481867\n",
      "   8.222911    14.8796425    8.050403    -0.6779978   14.04626\n",
      "   3.4114065   17.561789     1.2296818   16.002142    13.15076\n",
      "  -1.2779065   -9.228747     6.315058    19.663065   -11.279814\n",
      "  10.612545     2.6048944   28.455791     0.4566533   -8.50554\n",
      "   6.58528     -9.272264     4.595064     3.1753445    1.2182302\n",
      "  30.325602    19.252157    27.562534     4.3302245   48.072334\n",
      "  12.329484    36.352825    14.87138      1.6261711    4.501525\n",
      "  21.421246     7.935845    12.65228     -8.078171    -9.378776\n",
      "   8.017523     2.314065    32.43134      0.2270219   -0.75629616\n",
      "  -2.8313496    2.028025    -1.4810258   17.156088     5.8058944\n",
      "   9.010222    31.030354    -9.326712     8.421512    12.973368\n",
      "   7.928763    21.181389    -8.768442    29.207846   -14.905284\n",
      "  39.947346    -6.524946    30.723463     7.1923738   18.652935\n",
      "  20.089657     0.5485428  -12.438406    26.753128    10.149835\n",
      "  11.643684     7.328962    17.96167      3.700987    -9.999045\n",
      "   1.1477844    2.8594027  -11.507208    -6.020652    -2.1664917\n",
      "  -8.437777    -7.2888412   -5.3818617   -7.1519184   -6.478481\n",
      "  -7.177763   -20.5648      10.534239    -7.2978015   -2.2419255\n",
      "  -5.83215     -0.48998457  -2.9448729   -5.6564074    0.23943155\n",
      "   0.13219558  -5.172068    -9.829366   -23.281727    -3.4471776\n",
      "   1.6748284   -4.496045   -27.217077    -5.093318    -5.7628927\n",
      "   3.464559    -2.1518972  -10.44112     -0.5529435   -9.501713\n",
      "  -6.6460056    4.925569     1.4855236    0.23596008  -4.1984487\n",
      "  -7.3974643   -9.115471    -9.326194   -13.458963    -4.4758034\n",
      "   1.5624354   -1.2560251   -1.847241    -5.950754    -8.8461075\n",
      " -11.137128     2.3138995  -10.1758      -5.1695185   -5.9371004\n",
      "  -3.5967088    0.9538014   -8.167951    -6.4376545  -23.368338\n",
      "  -7.4996314   -7.7506647    1.3863642  -13.457973   -25.209093\n",
      "   0.32018778  -1.9606962   10.215792   -17.89267    -11.863608\n",
      "  -1.2721236  -18.452612    -5.0150733   -0.78873605   4.290686\n",
      " -11.752238    -7.550193    10.764349   -16.002491   -15.908227\n",
      "  -4.57584      5.0422773   -6.608679     2.159066    -9.647159\n",
      "  -5.9327116  -13.858825     6.01316      7.5305223   -4.2595773\n",
      "   1.5728102   -1.139366    -1.8117204  -12.780036    11.667055\n",
      " -21.191696    -5.6869445   -1.6233896  -22.654919   -18.039978\n",
      " -10.973718    -2.0920112   -1.2923313    1.3419818   13.931296\n",
      "   6.133077    -0.60678536  -6.4161386   -3.9193907    0.17337386\n",
      "   8.832302    17.15251      4.9509625   -9.593727    -6.031404\n",
      "  -4.0534782    1.6744014    2.4905946  -20.980997     7.0107636\n",
      "  -0.5020694   -1.6003737   -0.12567523 -13.11108     -1.5255386\n",
      "   5.840749   -17.160011   -15.989286   -22.469704   -10.43605\n",
      " -11.703851    10.064336   -22.735405    -2.4799263   -0.26561925\n",
      "   6.818602    -4.5235405    4.6010075    0.45292208   0.3341599\n",
      "  -3.4087045   -9.07739     -0.9769961  -18.343342    -5.667029\n",
      "  -4.011619    -4.4827347   -2.3438547    5.0655627   -5.781892\n",
      "   0.6993318   -6.133131    -2.8302567   -1.6121583   -1.6285969\n",
      "  -3.359155     3.8282065  -24.293608    15.987918     3.6866508\n",
      "  11.936992    -3.6606238    3.6342542   -4.971305    -3.1870809\n",
      " -10.908124     2.99474     -1.8351998  -27.190237    -6.6306906\n",
      "  -0.3829965   -0.5638965   -2.7648048   -5.611272   -16.95573\n",
      "  -4.6525984   -7.0925922   -8.891309    -8.068132    -2.022227\n",
      "  -4.0687757    8.145531    -6.8105607    8.3395405   -4.2379866\n",
      "  -6.1268454  -29.792744   -19.73295     -9.986362    -5.3410063\n",
      "  -4.1343412  -27.759882   -10.453588   -27.812532   -13.594722\n",
      "  -2.5802574   -3.1200588   -9.515742   -34.03046     -1.9934107\n",
      " -12.869302    -8.303491     1.445597    -9.429445    -6.5767126\n",
      "  -6.27878    -12.706303   -13.367452   -32.504856   -27.20246\n",
      " -36.646637    -0.8943422    1.9828608  -19.201662   -25.577541\n",
      " -28.731636     5.327167     8.786192     0.2761174   -7.285159\n",
      " -38.41734     -1.6179289  -29.378883   -32.70363    -13.724775\n",
      " -30.063894    -1.2201701  -15.42341     -7.7889266  -42.184574\n",
      "   6.5237517   -0.5278711  -21.523739   -19.332766    -0.19053024\n",
      "  -7.1679254  -20.08587    -33.55172    -32.174065    -4.8530345\n",
      "   2.5161288   10.079066   -25.029266   -10.244009   -14.331388\n",
      "  -2.598426   -20.928719   -12.124661   -42.302483     4.6103415\n",
      "  -1.3342618   -0.9108179  -19.772263     6.8744044   -3.144652\n",
      "  -5.061517    -7.0168633    5.498869   -35.023872    -6.0103197\n",
      "   9.158764    -8.123793     7.5213413  -15.59103      3.0570107\n",
      "  -6.6513267  -11.793357   -16.485506   -10.559667   -26.884985\n",
      " -13.181263     3.1107526    1.9742845    2.883398     6.5425644\n",
      " -19.893772    -6.985119    -9.835285     4.7693877    7.1636276\n",
      " -27.275875    -0.15700287 -24.3003     -30.082796     1.9637091\n",
      "  -1.5187551    8.08088     -6.9636464  -11.446475   -15.390946\n",
      " -22.713293    10.626695    -2.1261947   -9.70136     -3.4348266\n",
      " -24.997566   -35.807667   -35.622066   -17.278921     6.326529\n",
      " -15.5532055  -15.563984    12.892448   -23.88089    -17.805056\n",
      "  -2.4395232 ]' has dtype incompatible with int64, please explicitly cast to a compatible dtype first.\n",
      "  preds[val_index] = model.predict(dval_i)\n"
     ]
    },
    {
     "name": "stderr",
     "output_type": "stream",
     "text": [
      "\r",
      " 80%|██████████████████████████████████████████████████████████████████████████████████████████████████████████████████████▍                             | 8/10 [02:25<00:37, 18.59s/it]"
     ]
    },
    {
     "name": "stderr",
     "output_type": "stream",
     "text": [
      "C:\\Users\\81809\\AppData\\Local\\Temp\\ipykernel_18960\\3386215446.py:18: FutureWarning: Setting an item of incompatible dtype is deprecated and will raise an error in a future version of pandas. Value '[ 7.89867449e+00 -6.42992496e+00  1.09193287e+01  8.34260845e+00\n",
      "  6.26184225e+00  6.96197033e+00  5.92137909e+00  1.82460403e+00\n",
      " -4.41441357e-01  2.77313662e+00 -2.91716051e+00  2.87419963e+00\n",
      " -6.05258226e-01  2.09378948e+01  3.05788779e+00  1.36851950e+01\n",
      "  4.14500666e+00  3.66394877e+00  6.92024755e+00  2.86538243e+00\n",
      "  6.00057030e+00  3.83306575e+00  9.89384270e+00 -1.48770761e+00\n",
      "  6.88063860e+00  3.85478473e+00  1.03884811e+01  5.60844374e+00\n",
      "  1.74272919e+00  2.56777058e+01  4.48936796e+00 -8.59614944e+00\n",
      "  3.53457618e+00  1.54982405e+01  7.94781780e+00 -6.91816235e+00\n",
      "  5.12514782e+00  1.58328772e+00 -3.69417965e-01 -7.63185406e+00\n",
      " -3.74161077e+00  9.89921761e+00  2.77378154e+00  6.17058277e+00\n",
      "  2.13561668e+01  9.83543205e+00  5.62773085e+00  3.72378677e-01\n",
      " -2.72663975e+00  1.98180783e+00  5.11818600e+00  4.24021292e+00\n",
      "  4.88727987e-01  1.59048033e+01  4.08382797e+00  1.04778452e+01\n",
      "  2.25796242e+01  8.74454880e+00 -3.41496038e+00  7.93577147e+00\n",
      "  3.18077326e+00  2.93778896e+00  2.87989974e+00  1.49305916e+00\n",
      "  7.34475136e+00  1.01732235e+01  3.57560325e+00  3.41322780e+00\n",
      "  1.42144308e+01  2.53220825e+01 -3.45005870e+00  6.41186285e+00\n",
      "  1.50310946e+00  1.02849503e+01  2.67055583e+00  6.81442559e-01\n",
      "  2.32921352e+01  7.96879053e+00  1.23342915e+01  2.58980417e+00\n",
      "  1.60635929e+01 -1.85472095e+00  9.12537575e+00  8.09628487e+00\n",
      "  3.28275418e+00 -9.30531204e-01 -1.24762642e+00  7.45968151e+00\n",
      "  1.46126461e+00  7.60790396e+00  1.70956593e+01 -4.52942657e+00\n",
      "  1.06989685e-02  3.15230513e+00 -6.02348042e+00 -2.58772373e+00\n",
      " -3.54638767e+00 -6.96592903e+00  6.28911033e-02 -3.88690919e-01\n",
      "  2.09329605e+00  8.35235566e-02 -1.04574518e+01  2.74346089e+00\n",
      " -2.42561460e+00  1.17883527e+00  2.26262684e+01 -4.65334940e+00\n",
      "  1.40429058e+01  1.46858006e+01  6.64251041e+00 -2.23689032e+00\n",
      "  9.31666470e+00 -9.49535751e+00 -1.50160992e+00 -2.71576333e+00\n",
      "  4.33113337e+00 -8.78630638e+00  2.05074954e+00 -1.62953138e+00\n",
      "  8.67459965e+00  8.71380520e+00 -3.74962473e+00  1.25712843e+01\n",
      "  6.68258524e+00  7.24955225e+00  2.04280758e+01 -7.45155668e+00\n",
      "  1.52350464e+01  9.15412235e+00 -2.84902716e+00  5.80765676e+00\n",
      "  5.46280432e+00  1.17803943e+00 -4.41111885e-02 -4.48651910e-01\n",
      "  1.25311689e+01  1.26517916e+01 -6.45832157e+00  1.11654100e+01\n",
      "  2.37412429e+00  9.46086884e+00  2.04189644e+01  3.22220707e+00\n",
      "  5.16425848e-01  1.08893728e+00 -1.00000274e+00  1.28723800e+00\n",
      "  4.40375853e+00  6.39142084e+00  2.52833033e+00  1.18782425e+01\n",
      " -1.65391624e+00 -3.47404051e+00  2.04446197e+00 -1.17835217e+01\n",
      "  2.91155930e+01  1.58292875e+01 -2.81386876e+00  1.82258873e+01\n",
      "  1.13543587e+01  3.59253073e+00  1.02307072e+01  1.41289353e+00\n",
      "  7.17224360e-01 -8.17232192e-01 -3.21802783e+00  3.47572851e+00\n",
      " -1.91917729e+00  1.92547297e+00 -3.39569092e-01 -1.31069410e+00\n",
      "  1.52027094e+00 -1.72556841e+00  4.59967566e+00  1.95325336e+01\n",
      "  6.14350557e+00  1.43669376e+01 -5.63904858e+00  2.02640095e+01\n",
      " -1.72432137e+00  3.34275007e+00  5.10070086e+00  1.34801590e+00\n",
      "  7.98818016e+00 -7.72157812e+00  1.86211872e+01  4.12675667e+00\n",
      "  6.07788372e+00 -1.10038269e+00  9.43592358e+00  1.44722347e+01\n",
      "  2.06520691e+01 -3.91006565e+00  2.29258585e+00 -2.01566577e-01\n",
      "  6.23475790e+00  4.43601465e+00  4.32419300e+00 -5.38778973e+00\n",
      "  8.19121456e+00  9.12558365e+00  9.45661354e+00  2.36861496e+01\n",
      "  4.17827845e+00  3.17648745e+00  3.31050253e+00  5.40206099e+00\n",
      "  5.97529840e+00 -1.02131379e+00  1.16137486e+01  6.27732134e+00\n",
      "  1.94646130e+01  8.15846634e+00  3.32765722e+00 -1.58535039e+00\n",
      "  3.80163574e+01 -1.01190939e+01  5.56525803e+00 -9.70699024e+00\n",
      " -6.97398901e+00  1.24687300e+01  9.78072166e-01  4.78770542e+00\n",
      "  8.37681675e+00 -1.36887002e+00  2.54613590e+01  5.72480202e+00\n",
      "  8.12832355e+00  2.51888161e+01  4.53737307e+00  2.06033783e+01\n",
      " -7.52321100e+00  2.86877956e+01  3.17052383e+01  1.12380111e+00\n",
      " -1.50932207e+01  2.00594163e+00  2.36276793e+00  6.28062296e+00\n",
      "  7.84239817e+00  1.77043839e+01  6.90790033e+00  1.54006252e+01\n",
      "  3.01384029e+01  1.10182343e+01  3.68588104e+01 -1.82095981e+00\n",
      "  1.00582142e+01  2.84718722e-02  1.74469967e+01  1.37193279e+01\n",
      "  2.72609596e+01 -4.79529095e+00  2.45598621e+01  1.35853987e+01\n",
      "  1.01698885e+01  3.29201279e+01  1.11316738e+01  2.77620335e+01\n",
      "  2.62679076e+00  7.11992359e+00  2.68934669e+01  1.19781721e+00\n",
      "  5.54656506e+00  7.69530725e+00  1.02775383e+01 -5.63586330e+00\n",
      "  1.45352745e+01  4.26329460e+01  7.68046284e+00 -1.01560392e+01\n",
      "  1.07002020e+01 -3.34549332e+00 -9.54747295e+00  3.64531446e+00\n",
      " -4.68883753e+00  1.09665728e+01  3.98049641e+00  6.50638580e+00\n",
      " -2.07994914e+00  3.61576729e+01  1.41025257e+01  2.95259457e+01\n",
      "  2.17398434e+01  3.20338273e+00  9.55753040e+00  1.63673553e+01\n",
      "  5.35829926e+00 -7.40237856e+00  2.03921661e+01  6.02676535e+00\n",
      "  1.88339674e+00  2.33050346e+01  9.27772331e+00  3.21935654e+01\n",
      "  8.28849316e+00  3.00031509e+01  3.85533118e+00 -9.99232578e+00\n",
      "  5.05066681e+00  4.01779222e+00  6.55190516e+00  6.49758720e+00\n",
      " -1.19364805e+01  1.58352652e+01  2.85898304e+01 -2.71856141e+00\n",
      "  3.96707001e+01  9.14278030e+00  2.58276730e+01  3.75292664e+01\n",
      " -6.16321611e+00  3.86984291e+01  4.78823566e+00  1.31570683e+01\n",
      "  2.28652549e+00  2.95513988e+00  1.09216375e+01  2.53694286e+01\n",
      "  1.19007282e+01 -1.74385762e+00 -2.16025772e+01 -5.62613392e+00\n",
      "  4.26179695e+00 -1.37721558e+01 -2.36190434e+01 -7.80237341e+00\n",
      " -3.45502520e+00 -8.20275021e+00 -5.32725096e+00 -3.04372191e+00\n",
      " -2.10179768e+01 -2.60532856e+00 -2.52483101e+01 -4.26635838e+00\n",
      " -7.92595387e+00 -8.27840865e-01 -7.24962997e+00 -2.85966897e+00\n",
      " -7.11754799e+00 -9.76531315e+00  6.26081419e+00 -1.71605861e+00\n",
      "  5.94202232e+00  5.05204821e+00 -7.71691704e+00 -3.95920038e+00\n",
      "  2.74703830e-01 -2.47857609e+01  6.71778262e-01  4.12853241e-01\n",
      " -2.88516941e+01  1.25617909e+00  1.25474777e+01 -7.66092443e+00\n",
      "  7.13178730e+00 -8.65253067e+00 -5.07474947e+00 -5.76387215e+00\n",
      " -6.11068153e+00  3.70619774e+00  2.68148375e+00 -6.13213837e-01\n",
      " -9.96835613e+00 -2.14789429e+01 -8.98958302e+00 -1.33846016e+01\n",
      "  6.11993074e+00 -2.98326778e+00  2.21648383e+00  1.34991479e+00\n",
      " -1.66149750e+01 -6.61789227e+00 -2.32357273e+01 -1.26208568e+00\n",
      "  2.15666294e+00 -7.92608976e+00 -4.92065525e+00  3.29375196e+00\n",
      " -2.50305424e+01 -1.11496305e+01 -1.34152193e+01 -1.15030766e+00\n",
      " -4.96252984e-01  1.36302626e+00  1.21680570e+00 -1.36791718e+00\n",
      " -2.91934252e+00  8.46864402e-01 -3.21892047e+00 -4.74016523e+00\n",
      " -8.16853714e+00 -2.01226559e+01  5.53008556e+00  2.35757065e+00\n",
      " -1.25888205e+00 -3.56412029e+00 -3.19301152e+00 -7.41594696e+00\n",
      " -1.73179741e+01 -3.76045257e-01  3.21242325e-02 -6.56801879e-01\n",
      "  2.33593392e+00 -9.11866474e+00 -2.46853256e+01 -1.64360809e+01\n",
      " -8.70903301e+00 -1.09204111e+01 -8.00500965e+00 -3.70859766e+00\n",
      " -6.56044674e+00 -2.95892477e+00 -5.62969637e+00 -1.88179111e+01\n",
      "  1.76018012e+00  3.86801338e+00  1.52775421e+01 -3.05760413e-01\n",
      "  3.66543031e+00  7.80402005e-01 -2.35901680e+01  5.65970659e-01\n",
      " -1.32377548e+01 -1.51070023e+00  7.91707420e+00  2.57480264e+00\n",
      " -4.88903809e+00  3.20670426e-01 -1.58410263e+01 -1.17408764e+00\n",
      " -6.52647972e+00  1.63850284e+00 -1.46404190e+01 -1.81566238e+01\n",
      " -3.13741302e+00  5.16818142e+00 -2.98456812e+00  7.55177641e+00\n",
      " -7.50516129e+00 -2.10169268e+00 -1.07429247e+01  5.67564011e+00\n",
      " -5.50456238e+00  5.50676727e+00 -2.72539158e+01 -4.35833502e+00\n",
      " -9.46205044e+00 -1.98526268e+01  4.58205080e+00 -7.34861231e+00\n",
      "  4.25646305e+00 -1.28961000e+01 -2.06347580e+01  6.94759727e-01\n",
      " -1.79956567e+00  4.49839562e-01 -9.98712254e+00 -5.11115789e+00\n",
      " -1.28010197e+01  2.52729678e+00 -2.78016615e+00 -1.79873264e+00\n",
      " -8.42291832e+00  2.65105677e+00 -1.64138710e+00 -1.12842398e+01\n",
      " -5.48041439e+00 -3.91855764e+00 -1.26560144e+01  9.45779896e+00\n",
      " -2.21545563e+01 -5.51664019e+00 -4.23642540e+00 -6.93547487e-01\n",
      "  6.40997410e+00 -3.41245890e+00 -3.54476929e+00 -4.79812241e+00\n",
      "  4.42246485e+00 -4.94525611e-01  3.49600983e+00  1.88143516e+00\n",
      "  3.76509500e+00 -3.02319837e+00  1.51137519e+00  3.59321713e-01\n",
      "  1.00325937e+01  1.16648829e+00 -1.43914185e+01  3.24862981e+00\n",
      " -3.74508834e+00 -2.24373550e+01  1.17015104e+01 -2.62221038e-01\n",
      " -1.45870006e+00 -5.58234501e+00  2.78602868e-01 -1.27375765e+01\n",
      " -2.12989950e+00  3.32322931e+00 -2.66183243e+01  5.21892214e+00\n",
      "  3.85813737e+00  1.13831654e+01 -1.30343065e-01 -7.88642168e+00\n",
      " -1.56166148e+00 -1.05405483e+01 -5.54472446e+00 -5.28993082e+00\n",
      " -1.58192329e+01 -7.05718708e+00  1.17754924e+00  4.95348406e+00\n",
      " -6.41855001e+00 -3.31405550e-02 -5.74594784e+00 -3.62731934e+00\n",
      " -1.54692125e+01  4.28319407e+00 -8.09726143e+00 -3.88908243e+00\n",
      " -2.33624172e+01 -1.24719620e+01 -1.05997896e+00  8.59671497e+00\n",
      "  7.26394463e+00 -5.71560955e+00 -1.86230125e+01 -3.48828673e+00\n",
      " -1.21343470e+01 -3.16071606e+01 -3.36861725e+01 -2.71299648e+01\n",
      " -4.53003597e+00 -2.01275463e+01 -2.23868465e+01  7.56779432e-01\n",
      " -8.96265030e+00 -5.99248743e+00 -2.39659667e+00  8.85533142e+00\n",
      " -4.02437568e-01 -7.02457666e+00  1.90441698e-01 -3.29746342e+00\n",
      " -1.20190167e+00 -3.81088829e+01 -3.05018806e+01 -2.58187141e+01\n",
      " -4.14209461e+00 -2.29387131e+01 -7.62377834e+00 -5.98917294e+00\n",
      " -7.55023670e+00 -4.67320442e+00  5.07635117e-01 -1.98546658e+01\n",
      " -4.48777084e+01 -1.89316237e+00 -2.21846619e+01 -1.90828266e+01\n",
      " -1.30790501e+01 -1.10415964e+01 -3.12307434e+01  7.63593853e-01\n",
      " -3.22561111e+01 -7.11004543e+00 -2.22725430e+01 -2.86149368e+01\n",
      "  1.22469997e+00 -6.00792742e+00 -2.14694443e+01  4.73269463e+00\n",
      " -9.62658024e+00  3.07321095e+00 -3.18260422e+01 -1.68542519e+01\n",
      " -1.11207647e+01 -1.72799835e+01 -6.99810266e+00 -3.24343610e+00\n",
      "  4.34254742e+00 -5.74370527e+00  1.03754425e+00 -2.67103863e+00\n",
      " -2.11602640e+00 -2.35121727e+01 -1.00473633e+01  1.17879152e-01\n",
      " -1.92627735e+01 -1.76477718e+00 -1.21787539e+01  2.87054753e+00\n",
      " -3.46726952e+01  3.48220170e-02  8.84411335e+00  6.02663660e+00\n",
      " -2.89940128e+01  9.26236212e-01 -6.13069892e-01  5.49776196e-01\n",
      "  5.98605776e+00 -1.89431834e+00 -1.47757139e+01 -2.45010815e+01\n",
      " -1.26214755e+00 -9.16178799e+00  1.08499022e+01  7.93515205e-01\n",
      "  5.14614534e+00 -1.09384108e+01 -2.43337402e+01 -7.60535002e+00\n",
      " -3.62331047e+01 -3.04336300e+01  4.33844852e+00 -1.44455490e+01\n",
      " -2.34452991e+01 -5.06736088e+00 -6.48908424e+00  1.43742788e+00\n",
      "  1.14980907e+01  3.79508471e+00 -2.85572743e+00 -2.94754715e+01\n",
      " -1.60842342e+01 -8.06528282e+00 -4.44031715e+00  1.22644198e+00\n",
      "  9.15140343e+00  3.90579844e+00 -1.57120347e+00 -2.42646732e+01\n",
      "  6.87776423e+00 -1.93604164e+01 -1.08327932e+01 -3.15414906e+00\n",
      " -7.39488304e-01  1.37631798e+01 -3.09810848e+01 -8.95466232e+00\n",
      " -2.57661819e+01 -8.30923653e+00]' has dtype incompatible with int64, please explicitly cast to a compatible dtype first.\n",
      "  preds[val_index] = model.predict(dval_i)\n"
     ]
    },
    {
     "name": "stderr",
     "output_type": "stream",
     "text": [
      "\r",
      " 90%|█████████████████████████████████████████████████████████████████████████████████████████████████████████████████████████████████████▏              | 9/10 [02:45<00:19, 19.09s/it]"
     ]
    },
    {
     "name": "stderr",
     "output_type": "stream",
     "text": [
      "C:\\Users\\81809\\AppData\\Local\\Temp\\ipykernel_18960\\3386215446.py:18: FutureWarning: Setting an item of incompatible dtype is deprecated and will raise an error in a future version of pandas. Value '[ 3.89557743e+00 -6.12707138e+00  2.13406734e+01  1.48989749e+00\n",
      "  5.61831188e+00 -5.37468958e+00  4.57822323e+00  2.65918612e+00\n",
      " -8.44799042e+00  1.21968734e+00 -3.70586348e+00  1.82402439e+01\n",
      "  2.70908566e+01 -2.22704458e+00  2.11959858e+01  1.80267012e+00\n",
      "  8.27229881e+00  2.68046474e+00  1.33353448e+00  2.41403341e+00\n",
      " -1.58535099e+00  1.72858953e+00 -1.30509008e-02  4.79370737e+00\n",
      "  4.39947939e+00  9.16105270e+00 -6.01553023e-01  9.53088188e+00\n",
      "  2.52960086e+00  2.14989910e+01 -2.54037237e+00 -3.53050137e+00\n",
      "  5.08694458e+00  2.34458864e-01  3.11002064e+00 -1.62817121e+00\n",
      " -2.78080702e+00  8.09137154e+00 -3.38002384e-01 -1.29897464e-02\n",
      "  1.87323666e+01 -5.31872225e+00  2.64755011e+00 -7.60840893e+00\n",
      " -1.72080505e+00 -1.10252094e+01  1.63318348e+01  1.45548792e+01\n",
      "  5.27792215e+00  1.15055060e+00 -2.87232685e+00  6.23855972e+00\n",
      " -3.95119143e+00  4.72365904e+00  6.00824535e-01 -1.52464318e+00\n",
      "  1.37307584e+00 -4.19528675e+00  9.56441116e+00  2.48491268e+01\n",
      "  1.49860477e+01  5.42607403e+00  5.61605406e+00  1.44100370e+01\n",
      " -3.19849229e+00  3.25059462e+00 -3.45257807e+00 -2.64685941e+00\n",
      "  3.63830471e+00  4.49392939e+00  3.01919039e-02  1.81381207e+01\n",
      "  7.95153189e+00  4.45128536e+00 -1.95175350e+00  2.74913836e+00\n",
      " -1.38465643e+00  5.50128651e+00  2.47355938e+01  2.34956646e+00\n",
      " -2.82523823e+00 -3.07475305e+00  2.08820510e+00  4.03899765e+00\n",
      "  2.77032566e+00  1.33382559e+00  1.21789160e+01  2.63824730e+01\n",
      "  6.98687935e+00  1.47932386e+01 -1.21373043e+01  1.46315575e+00\n",
      "  2.34351501e+01  4.18369150e+00  3.39094734e+00  1.24687290e+01\n",
      " -1.60691369e+00  6.71317148e+00  5.57963657e+00  2.24245119e+00\n",
      "  1.59993277e+01  9.54705906e+00  1.48514128e+01  2.66846585e+00\n",
      "  1.19910421e+01 -1.12576122e+01 -6.26436090e+00  9.81305122e+00\n",
      "  8.36665916e+00  1.75414801e+00  3.26129150e+00 -2.50260544e+00\n",
      "  4.86809206e+00  1.61657408e-01  1.89911518e+01  5.16906452e+00\n",
      "  2.03066998e+01  4.18056393e+00  2.67477798e+00 -1.53162909e+01\n",
      "  5.60890198e+00 -1.81353807e+00 -2.05971193e+00 -6.38984919e+00\n",
      "  3.47589016e+00  2.53064442e+01  3.78421283e+00  4.88070250e+00\n",
      " -6.25032663e+00  1.29741669e+01  2.99096918e+00 -1.02223659e+00\n",
      " -8.69542539e-01  4.13545799e+00  9.81156635e+00  2.31868482e+00\n",
      "  6.52884388e+00 -1.78297758e+00  1.44853001e+01 -3.07199061e-01\n",
      "  1.53755558e+00 -5.78594387e-01  2.66621041e+00 -3.26738143e+00\n",
      " -5.38512421e+00  1.22429693e+00  2.92473763e-01  1.17785215e+00\n",
      "  2.24669666e+01  1.40226202e+01  2.55311108e+00  2.81351423e+00\n",
      " -9.05869770e+00  2.14195595e+01  3.93936396e+00  3.33440995e+00\n",
      " -5.57185411e+00  1.42867756e+00  2.96511316e+00  4.80158377e+00\n",
      " -8.66231155e+00  1.40896702e+01 -5.08314466e+00  8.44606876e+00\n",
      "  2.95068207e+01 -3.33611345e+00  3.81766653e+00  4.16679621e+00\n",
      "  1.71033728e+00 -4.78891039e+00  3.95531845e+00  8.08593369e+00\n",
      " -4.22270012e+00 -4.23477888e+00  5.90983343e+00  2.03995323e+01\n",
      " -4.76963806e+00 -8.06056559e-01  1.98154755e+01  2.90390873e+00\n",
      " -4.22338104e+00  1.15604496e+01  3.44179392e+00  6.11739922e+00\n",
      "  6.41378593e+00 -3.87115031e-01  3.05806780e+00 -2.97837162e+00\n",
      "  8.50804615e+00 -7.03836107e+00 -5.58601916e-01  5.11374664e+00\n",
      "  4.80130762e-01  3.82376981e+00  3.09245080e-01  1.04574366e+01\n",
      "  2.07634773e+01  2.76510954e+00  2.40974178e+01 -2.09658670e+00\n",
      "  6.06410980e-01 -9.45858285e-02  4.43267059e+00 -1.76881599e+00\n",
      "  4.14536715e+00  1.28732462e+01  4.92568016e+00  1.07343445e+01\n",
      "  2.15471363e+01  9.76228863e-02  3.74210596e+00 -9.23416793e-01\n",
      "  5.29030979e-01  1.59433308e+01  5.39759874e+00  4.82456923e+00\n",
      "  5.49125576e+00  3.62957859e+00 -3.82452548e-01  3.85653448e+00\n",
      "  2.96494699e+00  1.93107724e+00  2.11539726e+01  1.05492096e+01\n",
      "  3.23933077e+00  1.36162157e+01  4.02341557e+00  2.59198055e+01\n",
      " -1.17766047e+00  1.52928293e-01  6.76080084e+00  1.08609772e+01\n",
      " -1.17696199e+01 -1.48739350e+00  1.13880177e+01  6.70397902e+00\n",
      "  3.21023750e+01  2.74863605e+01  5.62385416e+00  1.90206642e+01\n",
      "  2.79801903e+01  1.28425646e+01  7.07920265e+00 -1.83804905e+00\n",
      " -8.42690086e+00 -9.04023933e+00 -7.73606014e+00  2.60919285e+01\n",
      " -2.97646475e+00  4.75088882e+00  4.02728920e+01  8.07755852e+00\n",
      "  2.57706285e+00  1.91975060e+01  1.27368336e+01 -3.44674885e-01\n",
      " -2.30357218e+00 -1.41447382e+01  1.40545549e+01  1.63204613e+01\n",
      "  1.35561781e+01  6.96109629e+00  1.01036100e+01  3.51695786e+01\n",
      " -9.22698307e+00  2.22651882e+01 -2.42451515e+01  8.42513943e+00\n",
      "  9.20811176e+00  3.09613380e+01  1.91469727e+01  2.86114273e+01\n",
      "  1.18272409e+01  2.57936840e+01  4.03038645e+00  8.36600876e+00\n",
      "  1.37365456e+01  3.45403976e+01  3.32933006e+01  4.48878221e-02\n",
      "  9.91747189e+00  7.63194561e+00 -1.01227486e+00  1.55646229e+01\n",
      "  1.73641720e+01  8.72288513e+00  3.55251236e+01  7.56775713e+00\n",
      " -4.37464380e+00  3.16199362e-01  7.37039447e-01 -4.13318491e+00\n",
      "  9.58712959e+00  1.66399651e+01  7.44562626e+00 -8.36063099e+00\n",
      "  2.01753922e+01  8.09675789e+00  6.14571524e+00  2.50702953e+01\n",
      "  1.03225250e+01  3.22939529e+01  3.01032219e+01 -3.06307733e-01\n",
      "  3.76504097e+01 -1.61471367e+00  1.21966753e+01  1.74026318e+01\n",
      "  2.61199722e+01  3.04952393e+01 -2.31408920e+01  3.88751373e+01\n",
      "  6.83191252e+00  4.04045486e+00  2.42744370e+01  2.35642582e-01\n",
      "  1.86027908e+01  1.68814812e+01  1.16297936e+00  2.54905343e+00\n",
      "  1.54944830e+01 -1.68375740e+01  1.57111597e+01  5.36984062e+00\n",
      " -1.49227753e+01 -4.92645645e+00 -4.97959375e+00 -1.91328411e+01\n",
      "  2.71616983e+00 -2.22398643e+01 -1.81009424e+00 -7.03428555e+00\n",
      " -6.56635475e+00 -6.95691204e+00 -6.31144047e+00 -4.94218636e+00\n",
      " -5.38376346e-02 -9.32940006e-01 -2.15368748e+01 -2.38410606e+01\n",
      " -3.89500999e+00 -1.03610003e+00 -4.94003820e+00 -5.27540731e+00\n",
      " -5.35151911e+00  1.06482038e+01 -6.51861191e+00 -9.74397659e-01\n",
      "  1.41325283e+00 -8.61991501e+00 -1.36518812e+01  4.53805590e+00\n",
      " -1.17514238e+01 -1.39706326e+01 -4.58198458e-01 -7.78899670e+00\n",
      " -1.75936184e+01  5.39859962e+00  4.35573769e+00 -4.21460104e+00\n",
      " -3.86674738e+00  4.68730545e+00 -7.06572962e+00 -1.00174084e+01\n",
      " -4.20431614e+00 -8.95112133e+00 -5.67161322e-01 -1.08237562e+01\n",
      "  6.60895157e+00 -2.11241550e+01  1.25939441e+00 -6.23954964e+00\n",
      " -1.64110126e+01 -2.43629150e+01 -9.20456982e+00 -7.63616800e+00\n",
      " -4.02596903e+00  2.44483638e+00  1.57373917e+00 -2.73635483e+01\n",
      "  2.44868731e+00 -2.58427277e+01  3.15167755e-01 -2.53971996e+01\n",
      " -1.56347430e+00 -6.18510389e+00 -1.09713831e+01 -7.30001736e+00\n",
      " -7.52141523e+00 -1.99055254e+00 -3.25805330e+00 -8.12465763e+00\n",
      " -4.63109159e+00 -2.68681335e+00 -8.78511715e+00 -7.41034365e+00\n",
      " -1.19538660e+01 -1.56086884e+01  3.79126620e+00 -4.73626757e+00\n",
      " -1.65150690e+00 -4.58877754e+00 -5.28801727e+00 -4.96299088e-01\n",
      "  2.89889216e-01 -1.90493946e+01 -5.80579400e-01 -1.12460766e+01\n",
      " -7.98535347e+00  4.84160036e-01 -3.84076667e+00 -1.03798447e+01\n",
      "  4.68445206e+00  2.97084451e+00 -6.99695206e+00 -1.68895102e+00\n",
      " -2.58602619e+01  2.97758460e+00 -2.02409077e+01  3.49888062e+00\n",
      " -2.78914871e+01 -9.07533932e+00 -1.60291176e+01 -5.91006041e+00\n",
      " -1.89897594e+01 -2.31370306e+00  3.05320406e+00 -4.96401453e+00\n",
      "  2.23769021e+00 -1.45455158e+00 -1.68810570e+00 -4.10954177e-01\n",
      " -1.61928105e+00 -6.27405941e-01  6.22437763e+00 -4.77357292e+00\n",
      " -1.01212502e+01 -7.22966146e+00  5.44451761e+00  2.75522566e+00\n",
      " -6.33251572e+00 -6.44278812e+00 -4.73419094e+00  1.95545750e+01\n",
      "  2.03191495e+00 -1.04144585e+00 -1.28760347e+01 -4.63982821e+00\n",
      "  4.52768278e+00 -3.96272588e+00 -1.02034588e+01 -5.51964378e+00\n",
      "  4.64688158e+00 -2.21585197e+01 -7.15380669e+00 -1.21708479e+01\n",
      " -5.01354980e+00 -4.06663465e+00 -2.22486496e+01 -1.18882712e-02\n",
      " -8.47214317e+00 -8.73072815e+00 -5.86598158e+00  1.16413426e+00\n",
      " -1.21568966e+01  1.53083861e-01 -6.51284885e+00 -3.87318611e+00\n",
      "  2.23502851e+00  2.60203457e+00  5.73623085e+00 -4.43334103e+00\n",
      " -6.89069366e+00 -1.74404469e+01 -1.00679600e+00 -2.05458045e+00\n",
      " -1.96543550e+00  8.05612850e+00  1.86163402e+00  5.76601982e+00\n",
      "  2.11744237e+00 -2.85054517e+00  1.13168707e+01 -8.12277257e-01\n",
      "  4.71601278e-01 -3.99111891e+00 -6.71177506e-02 -3.38047242e+00\n",
      " -3.95259905e+00 -3.72001266e+00 -2.65743661e+00  5.55393577e-01\n",
      " -9.16318989e+00 -1.46524131e+00 -6.24892235e+00  2.35593390e+00\n",
      " -4.19809055e+00  1.70927036e+00 -2.42888107e+01 -6.36470199e-01\n",
      "  3.23659348e+00 -6.27351952e+00 -9.59192371e+00 -2.57878041e+00\n",
      " -4.49125099e+00  7.01890469e-01 -5.12996292e+00  1.15361905e+00\n",
      " -7.03025341e+00  2.63097620e+00  3.91833329e+00 -2.01620274e+01\n",
      " -1.06665850e+01 -2.81010799e+01  3.93643826e-01 -4.99438524e+00\n",
      " -3.12804103e+00 -2.38574505e+01 -7.65666628e+00 -8.67418003e+00\n",
      " -1.99005222e+01  6.22033691e+00  8.21884823e+00  9.11122337e-02\n",
      " -3.07695325e-02  6.12897491e+00 -1.22110691e+01  2.11787605e+00\n",
      " -1.55151021e+00 -1.07359686e+01 -1.05867977e+01 -9.26187575e-01\n",
      " -2.37511463e+01 -2.12348957e+01 -1.86087303e+01 -5.86028242e+00\n",
      " -4.39523792e+00  5.94371128e+00 -1.25138159e+01 -1.92044277e+01\n",
      " -3.26181412e+01 -2.71188221e+01 -6.87602043e+00 -3.69728899e+00\n",
      "  4.41070175e+00 -7.52126741e+00 -2.24356155e+01  7.01628208e+00\n",
      " -2.91736565e+01  2.08083779e-01 -2.53207741e+01 -4.11820602e+00\n",
      " -3.82981758e+01 -1.25138435e+01  4.88468266e+00 -3.98858223e+01\n",
      "  2.60757351e+00  7.29849219e-01 -4.40174532e+00 -2.27428970e+01\n",
      " -2.85644650e+00 -2.62876186e+01  7.15576410e+00 -2.84491310e+01\n",
      " -4.74163294e+00 -2.91372323e+00 -3.47600632e+01 -2.50905209e+01\n",
      " -5.89329100e+00 -1.22108541e-01 -9.20758343e+00 -6.01629734e+00\n",
      " -2.19979382e+01  5.43225718e+00 -7.13359642e+00  2.48366451e+00\n",
      " -1.43930521e+01 -3.96100998e-01 -1.03019655e+00  2.53736377e+00\n",
      "  1.60361576e+00 -2.27121139e+00 -1.60384216e+01  1.29926920e+00\n",
      " -3.16657805e+00 -1.16428328e+01 -1.63689194e+01 -1.18183689e+01\n",
      "  6.23893881e+00 -7.82118893e+00 -2.59782543e+01  7.96392679e+00\n",
      " -7.14981270e+00 -1.21729584e+01  3.08125114e+00 -1.16151028e+01\n",
      " -1.42155962e+01 -3.69824066e+01 -8.83183098e+00 -2.31240883e+01\n",
      " -1.42310629e+01 -1.76742899e+00 -2.20098543e+00  4.45827818e+00\n",
      " -2.93056259e+01 -1.30438080e+01 -5.92635202e+00 -2.76945229e+01\n",
      " -5.08297348e+01  3.61890054e+00  6.98064744e-01 -2.01961269e+01\n",
      " -1.92857397e+00 -9.28351688e+00 -3.53032799e+01 -3.42386079e+00\n",
      "  1.68231754e+01  6.52115345e+00 -1.07516460e+01 -1.04073524e+01\n",
      " -2.95610924e+01 -2.72252026e+01  6.20851660e+00 -1.08094835e+01\n",
      "  1.83864737e+00  7.54270172e+00 -1.97215080e+01 -7.25375843e+00\n",
      "  7.06480742e-01 -8.22505569e+00 -2.70102100e+01 -2.93682308e+01\n",
      " -8.85247135e+00  6.75516129e+00  3.78125334e+00 -1.00501013e+01\n",
      "  1.68155682e+00 -9.02401447e+00 -2.31949635e+01 -1.58895254e+01\n",
      " -1.12423697e+01 -1.68472505e+00 -2.66900387e+01 -2.70695801e+01\n",
      " -2.10832691e+01 -9.94376719e-01]' has dtype incompatible with int64, please explicitly cast to a compatible dtype first.\n",
      "  preds[val_index] = model.predict(dval_i)\n"
     ]
    },
    {
     "name": "stderr",
     "output_type": "stream",
     "text": [
      "\r",
      "100%|███████████████████████████████████████████████████████████████████████████████████████████████████████████████████████████████████████████████████| 10/10 [03:07<00:00, 20.06s/it]"
     ]
    },
    {
     "name": "stderr",
     "output_type": "stream",
     "text": [
      "\r",
      "100%|███████████████████████████████████████████████████████████████████████████████████████████████████████████████████████████████████████████████████| 10/10 [03:07<00:00, 18.79s/it]"
     ]
    },
    {
     "name": "stdout",
     "output_type": "stream",
     "text": [
      "OOF predictions complete\n"
     ]
    },
    {
     "name": "stderr",
     "output_type": "stream",
     "text": [
      "\n"
     ]
    }
   ],
   "source": [
    "# OOF予測\n",
    "oof_preds = []\n",
    "for i in tqdm(range(repeat_cv), leave=True, dynamic_ncols=True):\n",
    "    # 初期はターゲットの値で初期化（後で上書き）\n",
    "    preds = y.copy()\n",
    "    # 各 repeater 毎に独自の KFold を用いる（random_state = i）\n",
    "    kfold = KFold(n_splits=folds_splits, shuffle=True, random_state=i)    \n",
    "    for train_index, val_index in kfold.split(X, y):\n",
    "        dtrain_i = xgb.DMatrix(X.iloc[train_index], label=y.iloc[train_index])\n",
    "        dval_i   = xgb.DMatrix(X.iloc[val_index], label=y.iloc[val_index])\n",
    "\n",
    "        model = xgb.train(\n",
    "            params=param,\n",
    "            dtrain=dtrain_i,\n",
    "            num_boost_round=iteration_counts[i],\n",
    "            verbose_eval=50\n",
    "        )\n",
    "        preds[val_index] = model.predict(dval_i)\n",
    "    # 予測値を -30 ～ 30 にクリップ\n",
    "    oof_preds.append(np.clip(preds, -30, 30))\n",
    "\n",
    "print(\"OOF predictions complete\")"
   ]
  },
  {
   "cell_type": "code",
   "execution_count": 24,
   "id": "6ba60cea",
   "metadata": {
    "execution": {
     "iopub.execute_input": "2025-03-14T08:46:04.280429Z",
     "iopub.status.busy": "2025-03-14T08:46:04.280429Z",
     "iopub.status.idle": "2025-03-14T08:46:04.385823Z",
     "shell.execute_reply": "2025-03-14T08:46:04.385823Z"
    },
    "papermill": {
     "duration": 0.132319,
     "end_time": "2025-03-14T08:46:04.385823",
     "exception": false,
     "start_time": "2025-03-14T08:46:04.253504",
     "status": "completed"
    },
    "tags": []
   },
   "outputs": [
    {
     "data": {
      "text/plain": [
       "<Axes: >"
      ]
     },
     "execution_count": 24,
     "metadata": {},
     "output_type": "execute_result"
    },
    {
     "data": {
      "image/png": "[encoded data removed]",
      "text/plain": [
       "<Figure size 640x480 with 1 Axes>"
      ]
     },
     "metadata": {},
     "output_type": "display_data"
    }
   ],
   "source": [
    "oof_preds[0].hist()"
   ]
  },
  {
   "cell_type": "code",
   "execution_count": 25,
   "id": "a3fc11bf",
   "metadata": {
    "execution": {
     "iopub.execute_input": "2025-03-14T08:46:04.422028Z",
     "iopub.status.busy": "2025-03-14T08:46:04.422028Z",
     "iopub.status.idle": "2025-03-14T08:46:04.447861Z",
     "shell.execute_reply": "2025-03-14T08:46:04.447861Z"
    },
    "papermill": {
     "duration": 0.045919,
     "end_time": "2025-03-14T08:46:04.447861",
     "exception": false,
     "start_time": "2025-03-14T08:46:04.401942",
     "status": "completed"
    },
    "tags": []
   },
   "outputs": [],
   "source": [
    "### simple spline, seed(1, 16)~(4, 13)は強制的にfiltaring,  \n",
    "### seed値に対応して予測スコアも同じ大小関係なら1or0に変換の3モデル\n",
    "def cal_logloss(pred_vals, y, i):\n",
    "    y_binary = np.where(y > 0, 1, 0)\n",
    "    loss = log_loss(y_binary, pred_vals)\n",
    "    print(f\"logloss of cvsplit {i}: {loss:.4f}\")\n",
    "\n",
    "\n",
    "    results.append(f\"Normal Spline - logloss of cvsplit {i}: {loss:.4f}\")\n",
    "    return loss\n",
    "\n",
    "#simple spline\n",
    "def make_normal_spline(df, y, repeat_cv):\n",
    "    spline_model1 = []\n",
    "    logloss_normal = []\n",
    "    \n",
    "    for i in range(repeat_cv):\n",
    "        dat = list(zip(df[i], np.where(y>0, 1, 0)))\n",
    "        dat = sorted(dat, key=lambda x:x[0])\n",
    "        datdict = {}\n",
    "        for k in range(len(dat)):\n",
    "            datdict[dat[k][0]] = dat[k][1]\n",
    "        \n",
    "        spline_model1.append(UnivariateSpline(list(datdict.keys()), list(datdict.values())))\n",
    "        spline_fit = spline_model1[i](df[i])\n",
    "        \n",
    "        loss = cal_logloss(spline_fit, y, i)    \n",
    "        logloss_normal.append(loss)\n",
    "\n",
    "    plot_df = pd.DataFrame({\n",
    "        \"pred\": df[0],\n",
    "        \"label\": np.where(y>0,1,0),\n",
    "        \"spline\": spline_model1[0](df[0])\n",
    "    })\n",
    "    plot_df[\"pred_int\"] = plot_df[\"pred\"].astype(int)\n",
    "    plot_df = plot_df.groupby('pred_int')[['spline','label']].mean().reset_index()\n",
    "    \n",
    "    plt.figure(figsize=(8, 5))\n",
    "    plt.plot(plot_df.pred_int, plot_df.label, marker='o', linestyle='-', label=\"True Label\")\n",
    "    plt.plot(plot_df.pred_int, plot_df.spline, marker='x', linestyle='--', label=\"Spline Approximation\")\n",
    "    plt.xlabel(\"Predicted Value (Integer)\")\n",
    "    plt.ylabel(\"Mean Value\")\n",
    "    plt.title(\"Normal Spline Fit Comparison\")\n",
    "    plt.legend()\n",
    "    plt.grid(True)\n",
    "    plt.savefig(os.path.join(OUTPUT_PATH, f\"normal_spline_fit_{PREDICT_YEAR}.png\"))\n",
    "    plt.close()\n",
    "    \n",
    "    \n",
    "    # 例として平均loglossもresultsに記録\n",
    "    avg_logloss = np.mean(logloss_normal) \n",
    "    results.append(f\"Average Normal Spline logloss: {avg_logloss:.4f}\" if avg_logloss is not None else \"No logloss computed\")\n",
    "    \n",
    "    return spline_model1\n",
    "            \n",
    "            \n",
    "#seed(1, 16)~(4, 13)は強制的にseed通りの結果にフィルタリング\n",
    "def make_seed1to4_chenge(df, y, repeat_cv):\n",
    "    spline_model2 = []\n",
    "    spline_fits = []\n",
    "    for i in range(repeat_cv):\n",
    "        dat = list(zip(df[i], np.where(y>0, 1, 0)))\n",
    "        dat = sorted(dat, key=lambda x:x[0])\n",
    "        datdict = {}\n",
    "        for k in range(len(dat)):\n",
    "            datdict[dat[k][0]] = dat[k][1]\n",
    "        \n",
    "        spline_model2.append(UnivariateSpline(list(datdict.keys()), list(datdict.values())))\n",
    "        spline_fit = spline_model2[i](df[i]) \n",
    "        \n",
    "        #add\n",
    "        spline_fit[(X.T1_seed==1) & (X.T2_seed==16)] = 1.0\n",
    "        spline_fit[(X.T1_seed==2) & (X.T2_seed==15)] = 0.9\n",
    "        spline_fit[(X.T1_seed==3) & (X.T2_seed==14)] = 0.8\n",
    "        spline_fit[(X.T1_seed==4) & (X.T2_seed==13)] = 0.7\n",
    "        spline_fit[(X.T1_seed==16) & (X.T2_seed==1)] = 0.0\n",
    "        spline_fit[(X.T1_seed==15) & (X.T2_seed==2)] = 0.1\n",
    "        spline_fit[(X.T1_seed==14) & (X.T2_seed==3)] = 0.2\n",
    "        spline_fit[(X.T1_seed==13) & (X.T2_seed==4)] = 0.3\n",
    "\n",
    "    \n",
    "        cal_logloss(spline_fit, y, i)   \n",
    "                \n",
    "        spline_fits.append(spline_fit)\n",
    "        cal_logloss(spline_fit, y, i)   \n",
    "                \n",
    "    \n",
    "    plot_df = pd.DataFrame({\n",
    "        \"pred\": df[0],\n",
    "        \"label\": np.where(y > 0, 1, 0),\n",
    "        \"spline\": spline_fits[0]  # 変更後の値を利用\n",
    "    })\n",
    "    plot_df[\"pred_int\"] = plot_df[\"pred\"].astype(int)\n",
    "    plot_df = plot_df.groupby(\"pred_int\")[[\"spline\", \"label\"]].mean().reset_index()\n",
    "\n",
    "    plt.figure()\n",
    "    plt.plot(plot_df.pred_int, plot_df.label, label=\"label\")\n",
    "    plt.plot(plot_df.pred_int, plot_df.spline, label=\"spline\")\n",
    "    plt.legend()\n",
    "    plt.show()\n",
    "    \n",
    "    return spline_model2\n",
    "    \n",
    "    \n",
    "#完全に値変換するのではなくてseed値に対応して予測スコアも同じ大小関係なら1or0に変換\n",
    "def make_seed1to4_base_on_score(df, y, repeat_cv):\n",
    "    spline_model3 = []\n",
    "    spline_fits = []\n",
    "\n",
    "    for i in range(repeat_cv):\n",
    "        dat = list(zip(df[i], np.where(y>0, 1, 0)))\n",
    "        dat = sorted(dat, key=lambda x:x[0])\n",
    "        datdict = {}\n",
    "        for k in range(len(dat)):\n",
    "            datdict[dat[k][0]] = dat[k][1]\n",
    "        \n",
    "        spline_model3.append(UnivariateSpline(list(datdict.keys()), list(datdict.values())))\n",
    "        spline_fit = spline_model3[i](df[i]) \n",
    "        \n",
    "        #add\n",
    "        spline_fit[(X.T1_seed==1) & (X.T2_seed==16) & (X.T1_Score > X.T2_Score)] = 1.0\n",
    "        spline_fit[(X.T1_seed==2) & (X.T2_seed==15) & (X.T1_Score > X.T2_Score)] = 1.0\n",
    "        spline_fit[(X.T1_seed==3) & (X.T2_seed==14) & (X.T1_Score > X.T2_Score)] = 1.0\n",
    "        spline_fit[(X.T1_seed==4) & (X.T2_seed==13) & (X.T1_Score > X.T2_Score)] = 1.0\n",
    "        spline_fit[(X.T1_seed==16) & (X.T2_seed==1) & (X.T1_Score < X.T2_Score)] = 0.0\n",
    "        spline_fit[(X.T1_seed==15) & (X.T2_seed==2) & (X.T1_Score < X.T2_Score)] = 0.0\n",
    "        spline_fit[(X.T1_seed==14) & (X.T2_seed==3) & (X.T1_Score < X.T2_Score)] = 0.0\n",
    "        spline_fit[(X.T1_seed==13) & (X.T2_seed==4) & (X.T1_Score < X.T2_Score)] = 0.0\n",
    "\n",
    "        spline_fits.append(spline_fit)\n",
    "        cal_logloss(spline_fit, y, i)   \n",
    "    \n",
    "    \n",
    "    plot_df = pd.DataFrame({\n",
    "        \"pred\": df[0],\n",
    "        \"label\": np.where(y > 0, 1, 0),\n",
    "        \"spline\": spline_fits[0]  # 変更後の値を利用\n",
    "    })\n",
    "    plot_df[\"pred_int\"] = plot_df[\"pred\"].astype(int)\n",
    "    plot_df = plot_df.groupby(\"pred_int\")[[\"spline\", \"label\"]].mean().reset_index()\n",
    "\n",
    "    plt.figure()\n",
    "    plt.plot(plot_df.pred_int, plot_df.label, label=\"label\")\n",
    "    plt.plot(plot_df.pred_int, plot_df.spline, label=\"spline\")\n",
    "    plt.legend()\n",
    "    plt.show()\n",
    "    return spline_model3\n",
    "\n",
    "\n",
    "\n",
    "# Platt Scalingを用いた補正曲線生成の関数 (ロジスティック回帰)\n",
    "def make_platt_scaling(df, y, repeat_cv):\n",
    "    platt_models = []\n",
    "    logloss_platt = []\n",
    "    \n",
    "    for i in range(repeat_cv):\n",
    "        X_train = np.array(df[i]).reshape(-1, 1)\n",
    "        y_binary = np.where(y > 0, 1, 0)\n",
    "        \n",
    "        model = LogisticRegression(random_state=42, solver='lbfgs')\n",
    "        model.fit(X_train, y_binary)\n",
    "        platt_models.append(model)\n",
    "        \n",
    "\n",
    "        platt_fit = model.predict_proba(X_train)[:, 1]\n",
    "        loss = cal_logloss(platt_fit, y, i)\n",
    "        logloss_platt.append(loss)\n",
    "    \n",
    "    \n",
    "    ###\n",
    "    plot_df = pd.DataFrame({\n",
    "        \"pred\": df[0],\n",
    "        \"label\": np.where(y > 0, 1, 0),\n",
    "        \"platt\": platt_models[0].predict_proba(np.array(df[0]).reshape(-1, 1))[:, 1]\n",
    "    })\n",
    "    plot_df[\"pred_int\"] = plot_df[\"pred\"].astype(int)\n",
    "    plot_df = plot_df.groupby(\"pred_int\")[[\"platt\", \"label\"]].mean().reset_index()\n",
    "    \n",
    "    plt.figure(figsize=(8, 5))\n",
    "    plt.plot(plot_df.pred_int, plot_df.label, marker='o', linestyle='-', label=\"True Label\")\n",
    "    plt.plot(plot_df.pred_int, plot_df.platt, marker='x', linestyle='--', label=\"Platt Scaling\")\n",
    "    plt.xlabel(\"Predicted Value (Integer)\")\n",
    "    plt.ylabel(\"Mean Value\")\n",
    "    plt.title(\"Platt Scaling Calibration Curve\")\n",
    "    plt.legend()\n",
    "    plt.grid(True)\n",
    "    plt.savefig(os.path.join(OUTPUT_PATH, f\"platt_scaling_fit_{PREDICT_YEAR}.png\"))\n",
    "    plt.close()\n",
    "    \n",
    "    avg_logloss = np.mean(logloss_platt)\n",
    "    results.append(f\"Average Platt Scaling logloss: {avg_logloss:.4f}\" if avg_logloss is not None else \"No logloss computed\")\n",
    "    \n",
    "    return platt_models\n",
    "\n",
    "def make_isotonic_regression(df, y, repeat_cv):\n",
    "    \"\"\" Isotonic Regression を用いた補正曲線生成 \"\"\"\n",
    "    isotonic_models = []\n",
    "    logloss_isotonic = []\n",
    "    \n",
    "    for i in range(repeat_cv):\n",
    "        X_train = np.array(df[i]).reshape(-1, 1)\n",
    "        y_binary = np.where(y > 0, 1, 0)\n",
    "        \n",
    "        model = IsotonicRegression(out_of_bounds=\"clip\")\n",
    "        model.fit(X_train.ravel(), y_binary)\n",
    "        isotonic_models.append(model)\n",
    "        \n",
    "        isotonic_fit = model.predict(X_train.ravel())\n",
    "        loss = cal_logloss(isotonic_fit, y, i)\n",
    "        logloss_isotonic.append(loss)\n",
    "    \n",
    "    plot_df = pd.DataFrame({\n",
    "        \"pred\": df[0],\n",
    "        \"label\": np.where(y > 0, 1, 0),\n",
    "        \"isotonic\": isotonic_models[0].predict(np.array(df[0]).reshape(-1, 1))\n",
    "    })\n",
    "    plot_df[\"pred_int\"] = plot_df[\"pred\"].astype(int)\n",
    "    plot_df = plot_df.groupby(\"pred_int\")[[\"isotonic\", \"label\"]].mean().reset_index()\n",
    "    \n",
    "    plt.figure(figsize=(8, 5))\n",
    "    plt.plot(plot_df.pred_int, plot_df.label, marker='o', linestyle='-', label=\"True Label\")\n",
    "    plt.plot(plot_df.pred_int, plot_df.isotonic, marker='x', linestyle='--', label=\"Isotonic Regression\")\n",
    "    plt.xlabel(\"Predicted Value (Integer)\")\n",
    "    plt.ylabel(\"Mean Value\")\n",
    "    plt.title(\"Isotonic Regression Calibration Curve\")\n",
    "    plt.legend()\n",
    "    plt.grid(True)\n",
    "    plt.savefig(os.path.join(OUTPUT_PATH, f\"isotonic_regression_fit_{PREDICT_YEAR}.png\"))\n",
    "    plt.close()\n",
    "    \n",
    "    avg_logloss = np.mean(logloss_isotonic)\n",
    "    results.append(f\"Average Isotonic Regression logloss: {avg_logloss:.4f}\" if avg_logloss is not None else \"No logloss computed\")\n",
    "    \n",
    "    return isotonic_models\n",
    "\n"
   ]
  },
  {
   "cell_type": "code",
   "execution_count": 26,
   "id": "7f428898",
   "metadata": {
    "execution": {
     "iopub.execute_input": "2025-03-14T08:46:04.483902Z",
     "iopub.status.busy": "2025-03-14T08:46:04.483902Z",
     "iopub.status.idle": "2025-03-14T08:46:04.490283Z",
     "shell.execute_reply": "2025-03-14T08:46:04.489604Z"
    },
    "papermill": {
     "duration": 0.035114,
     "end_time": "2025-03-14T08:46:04.491296",
     "exception": false,
     "start_time": "2025-03-14T08:46:04.456182",
     "status": "completed"
    },
    "tags": []
   },
   "outputs": [],
   "source": [
    "# キャリブレーションカーブの描画関数\n",
    "def plot_calibration_curve(y_true, y_pred_proba, method, save_path):\n",
    "    \"\"\" キャリブレーションカーブをプロットし保存 \"\"\"\n",
    "    y_binary = np.where(y_true > 0, 1, 0) \n",
    "    prob_true, prob_pred = calibration_curve(y_binary, y_pred_proba, n_bins=10)\n",
    "    \n",
    "    plt.figure(figsize=(6,6))\n",
    "    plt.plot(prob_pred, prob_true, marker=\"o\", label=f\"{method} Calibration\")\n",
    "    plt.plot([0, 1], [0, 1], linestyle=\"--\", label=\"Perfect Calibration\")\n",
    "    plt.xlabel(\"Predicted Probability\")\n",
    "    plt.ylabel(\"Actual Probability\")\n",
    "    plt.legend()\n",
    "    plt.title(f\"{method} Calibration Curve\")\n",
    "    plt.grid()\n",
    "    plt.savefig(save_path)\n",
    "    plt.close()\n",
    "\n"
   ]
  },
  {
   "cell_type": "code",
   "execution_count": 27,
   "id": "b6c5c58b",
   "metadata": {
    "execution": {
     "iopub.execute_input": "2025-03-14T08:46:04.524205Z",
     "iopub.status.busy": "2025-03-14T08:46:04.523481Z",
     "iopub.status.idle": "2025-03-14T08:46:04.722315Z",
     "shell.execute_reply": "2025-03-14T08:46:04.722315Z"
    },
    "papermill": {
     "duration": 0.217025,
     "end_time": "2025-03-14T08:46:04.722315",
     "exception": false,
     "start_time": "2025-03-14T08:46:04.505290",
     "status": "completed"
    },
    "tags": []
   },
   "outputs": [
    {
     "name": "stdout",
     "output_type": "stream",
     "text": [
      "logloss of cvsplit 0: 0.5088\n",
      "logloss of cvsplit 1: 0.5059\n",
      "logloss of cvsplit 2: 0.5055\n",
      "logloss of cvsplit 3: 0.5028\n",
      "logloss of cvsplit 4: 0.5061\n",
      "logloss of cvsplit 5: 0.5048\n",
      "logloss of cvsplit 6: 0.5062\n",
      "logloss of cvsplit 7: 0.5081\n",
      "logloss of cvsplit 8: 0.5060\n",
      "logloss of cvsplit 9: 0.5049\n"
     ]
    }
   ],
   "source": [
    "# キャリブレーション手法の選択\n",
    "spline = MODEL.spline\n",
    "if spline == \"spline_normal\":\n",
    "    spline_model = make_normal_spline(oof_preds, y, repeat_cv)\n",
    "    calibrated_preds = spline_model[0](oof_preds[0])\n",
    "    plot_calibration_curve(y, calibrated_preds, \"Spline Normal\", os.path.join(OUTPUT_PATH, f\"spline_normal_calibration_{PREDICT_YEAR}.png\"))\n",
    "    \n",
    "elif spline == \"logistic\":\n",
    "    spline_model = make_platt_scaling(oof_preds, y, repeat_cv)\n",
    "    calibrated_preds = spline_model[0].predict_proba(np.array(oof_preds[0]).reshape(-1, 1))[:, 1]\n",
    "    plot_calibration_curve(y, calibrated_preds, \"Platt Scaling\", os.path.join(OUTPUT_PATH, f\"platt_scaling_calibration_{PREDICT_YEAR}.png\"))\n",
    "    \n",
    "elif spline == \"isotonic\":\n",
    "    spline_model = make_isotonic_regression(oof_preds, y, repeat_cv)\n",
    "    calibrated_preds = spline_model[0].predict(np.array(oof_preds[0]).reshape(-1, 1))\n",
    "    plot_calibration_curve(y, calibrated_preds, \"Isotonic Regression\", os.path.join(OUTPUT_PATH, f\"isotonic_regression_calibration_{PREDICT_YEAR}.png\"))"
   ]
  },
  {
   "cell_type": "markdown",
   "id": "34f4e7a1",
   "metadata": {
    "papermill": {
     "duration": 0.015782,
     "end_time": "2025-03-14T08:46:04.748201",
     "exception": false,
     "start_time": "2025-03-14T08:46:04.732419",
     "status": "completed"
    },
    "tags": []
   },
   "source": [
    "# submmit\n",
    "\n",
    "同じfeature engineeringする.\n",
    "\n",
    "個々の扱うも考える。2025は最終提出用の関数を用意する、その他2024以前は過去コンペでの提出形式に合わせる、でも年度によって提出形式が変わるからとりあえず2023でやる"
   ]
  },
  {
   "cell_type": "code",
   "execution_count": 28,
   "id": "2ff8fdc6",
   "metadata": {
    "execution": {
     "iopub.execute_input": "2025-03-14T08:46:04.789818Z",
     "iopub.status.busy": "2025-03-14T08:46:04.789818Z",
     "iopub.status.idle": "2025-03-14T08:46:04.795980Z",
     "shell.execute_reply": "2025-03-14T08:46:04.795980Z"
    },
    "papermill": {
     "duration": 0.030011,
     "end_time": "2025-03-14T08:46:04.795980",
     "exception": false,
     "start_time": "2025-03-14T08:46:04.765969",
     "status": "completed"
    },
    "tags": []
   },
   "outputs": [
    {
     "data": {
      "text/plain": [
       "'if PREDICT_YEAR==2022:\\n    sub = pd.read_csv(os.path.join(INPUT_PATH, \"SampleSubmission2022M.csv\"))\\n    sub[\\'Season\\'] = sub[\\'ID\\'].apply(lambda x: int(x.split(\\'_\\')[0]))\\n    sub[\"T1_TeamID\"] = sub[\\'ID\\'].apply(lambda x: int(x.split(\\'_\\')[1]))\\n    sub[\"T2_TeamID\"] = sub[\\'ID\\'].apply(lambda x: int(x.split(\\'_\\')[2]))\\n    sub_X, a = process_tourney(sub, mode = \"sub\")\\n    dtest = xgb.DMatrix(sub_X)\\nelif PREDICT_YEAR==2023:\\n    sub = pd.read_csv(os.path.join(INPUT_PATH, \"SampleSubmission2023.csv\"))\\n    sub[\\'Season\\'] = sub[\\'ID\\'].apply(lambda x: int(x.split(\\'_\\')[0]))\\n    sub[\"T1_TeamID\"] = sub[\\'ID\\'].apply(lambda x: int(x.split(\\'_\\')[1]))\\n    sub[\"T2_TeamID\"] = sub[\\'ID\\'].apply(lambda x: int(x.split(\\'_\\')[2]))\\n    sub_X, a = process_tourney(sub, mode = \"sub\")\\n    dtest = xgb.DMatrix(sub_X)\\nelif PREDICT_YEAR==2024:\\n    sub = pd.read_csv(os.path.join(INPUT_PATH, \"SampleSubmission2024.csv\"))\\n    sub[\\'Season\\'] = sub[\\'ID\\'].apply(lambda x: int(x.split(\\'_\\')[0]))\\n    sub[\"T1_TeamID\"] = sub[\\'ID\\'].apply(lambda x: int(x.split(\\'_\\')[1]))\\n    sub[\"T2_TeamID\"] = sub[\\'ID\\'].apply(lambda x: int(x.split(\\'_\\')[2]))\\n    sub_X, a = process_tourney(sub, mode = \"sub\")\\n    dtest = xgb.DMatrix(sub_X)\\nelif PREDICT_YEAR==2025:\\n    sub = pd.read_csv(os.path.join(INPUT_PATH, \"SampleSubmissionStage2.csv\"))\\n    sub[\\'Season\\'] = sub[\\'ID\\'].apply(lambda x: int(x.split(\\'_\\')[0]))\\n    sub[\"T1_TeamID\"] = sub[\\'ID\\'].apply(lambda x: int(x.split(\\'_\\')[1]))\\n    sub[\"T2_TeamID\"] = sub[\\'ID\\'].apply(lambda x: int(x.split(\\'_\\')[2]))   \\n    sub_X, a = process_tourney(sub, mode = \"sub\")\\n    dtest = xgb.DMatrix(sub_X)'"
      ]
     },
     "execution_count": 28,
     "metadata": {},
     "output_type": "execute_result"
    }
   ],
   "source": [
    "\"\"\"if PREDICT_YEAR==2022:\n",
    "    sub = pd.read_csv(os.path.join(INPUT_PATH, \"SampleSubmission2022M.csv\"))\n",
    "    sub['Season'] = sub['ID'].apply(lambda x: int(x.split('_')[0]))\n",
    "    sub[\"T1_TeamID\"] = sub['ID'].apply(lambda x: int(x.split('_')[1]))\n",
    "    sub[\"T2_TeamID\"] = sub['ID'].apply(lambda x: int(x.split('_')[2]))\n",
    "    sub_X, a = process_tourney(sub, mode = \"sub\")\n",
    "    dtest = xgb.DMatrix(sub_X)\n",
    "elif PREDICT_YEAR==2023:\n",
    "    sub = pd.read_csv(os.path.join(INPUT_PATH, \"SampleSubmission2023.csv\"))\n",
    "    sub['Season'] = sub['ID'].apply(lambda x: int(x.split('_')[0]))\n",
    "    sub[\"T1_TeamID\"] = sub['ID'].apply(lambda x: int(x.split('_')[1]))\n",
    "    sub[\"T2_TeamID\"] = sub['ID'].apply(lambda x: int(x.split('_')[2]))\n",
    "    sub_X, a = process_tourney(sub, mode = \"sub\")\n",
    "    dtest = xgb.DMatrix(sub_X)\n",
    "elif PREDICT_YEAR==2024:\n",
    "    sub = pd.read_csv(os.path.join(INPUT_PATH, \"SampleSubmission2024.csv\"))\n",
    "    sub['Season'] = sub['ID'].apply(lambda x: int(x.split('_')[0]))\n",
    "    sub[\"T1_TeamID\"] = sub['ID'].apply(lambda x: int(x.split('_')[1]))\n",
    "    sub[\"T2_TeamID\"] = sub['ID'].apply(lambda x: int(x.split('_')[2]))\n",
    "    sub_X, a = process_tourney(sub, mode = \"sub\")\n",
    "    dtest = xgb.DMatrix(sub_X)\n",
    "elif PREDICT_YEAR==2025:\n",
    "    sub = pd.read_csv(os.path.join(INPUT_PATH, \"SampleSubmissionStage2.csv\"))\n",
    "    sub['Season'] = sub['ID'].apply(lambda x: int(x.split('_')[0]))\n",
    "    sub[\"T1_TeamID\"] = sub['ID'].apply(lambda x: int(x.split('_')[1]))\n",
    "    sub[\"T2_TeamID\"] = sub['ID'].apply(lambda x: int(x.split('_')[2]))   \n",
    "    sub_X, a = process_tourney(sub, mode = \"sub\")\n",
    "    dtest = xgb.DMatrix(sub_X)\"\"\"\n",
    "    "
   ]
  },
  {
   "cell_type": "code",
   "execution_count": 29,
   "id": "3f39c468",
   "metadata": {
    "execution": {
     "iopub.execute_input": "2025-03-14T08:46:04.831057Z",
     "iopub.status.busy": "2025-03-14T08:46:04.830054Z",
     "iopub.status.idle": "2025-03-14T08:46:04.851003Z",
     "shell.execute_reply": "2025-03-14T08:46:04.851003Z"
    },
    "papermill": {
     "duration": 0.038765,
     "end_time": "2025-03-14T08:46:04.853006",
     "exception": false,
     "start_time": "2025-03-14T08:46:04.814241",
     "status": "completed"
    },
    "tags": []
   },
   "outputs": [
    {
     "name": "stdout",
     "output_type": "stream",
     "text": [
      "no fillna, use nan\n",
      "drop col list: ['T1_TOmean', 'T2_TOmean', 'T1_opponent_POSS_RATEmean', 'T2_opponent_POSS_RATEmean', 'T1_opponent_FT_RATEmean', 'T2_opponent_FT_RATEmean', 'T1_opponent_Stlmean', 'T2_opponent_Stlmean', 'T1_ORmean', 'T2_ORmean', 'T1_opponent_ORmean', 'T2_opponent_ORmean']\n"
     ]
    }
   ],
   "source": [
    "sub = notexist.copy()\n",
    "sub = sub.rename(columns={\"WTeamID\": \"T1_TeamID\", \"LTeamID\": \"T2_TeamID\"})\n",
    "sub = sub[[\"Season\", \"T1_TeamID\", \"T2_TeamID\"]]\n",
    "temp = sub.copy()\n",
    "temp = temp.rename(columns={\"T1_TeamID\": \"T2_TeamID\", \"T2_TeamID\": \"T1_TeamID\"})\n",
    "sub = pd.concat([sub, temp]).reset_index()\n",
    "sub_X, a = process_tourney(sub, mode=\"sub\")\n",
    "sub_X = drop_columns(sub_X, drop_col)\n",
    "dtest = xgb.DMatrix(sub_X)"
   ]
  },
  {
   "cell_type": "code",
   "execution_count": 30,
   "id": "820410cb",
   "metadata": {
    "execution": {
     "iopub.execute_input": "2025-03-14T08:46:04.900042Z",
     "iopub.status.busy": "2025-03-14T08:46:04.900042Z",
     "iopub.status.idle": "2025-03-14T08:46:59.234102Z",
     "shell.execute_reply": "2025-03-14T08:46:59.234102Z"
    },
    "papermill": {
     "duration": 54.361846,
     "end_time": "2025-03-14T08:46:59.236106",
     "exception": false,
     "start_time": "2025-03-14T08:46:04.874260",
     "status": "completed"
    },
    "tags": []
   },
   "outputs": [
    {
     "name": "stderr",
     "output_type": "stream",
     "text": [
      "\r",
      "  0%|                                                                                                                                                            | 0/10 [00:00<?, ?it/s]"
     ]
    },
    {
     "name": "stderr",
     "output_type": "stream",
     "text": [
      "\r",
      " 10%|██████████████▊                                                                                                                                     | 1/10 [00:03<00:34,  3.86s/it]"
     ]
    },
    {
     "name": "stderr",
     "output_type": "stream",
     "text": [
      "\r",
      " 20%|█████████████████████████████▌                                                                                                                      | 2/10 [00:07<00:30,  3.86s/it]"
     ]
    },
    {
     "name": "stderr",
     "output_type": "stream",
     "text": [
      "\r",
      " 30%|████████████████████████████████████████████▍                                                                                                       | 3/10 [00:11<00:27,  3.99s/it]"
     ]
    },
    {
     "name": "stderr",
     "output_type": "stream",
     "text": [
      "\r",
      " 40%|███████████████████████████████████████████████████████████▏                                                                                        | 4/10 [00:15<00:24,  4.02s/it]"
     ]
    },
    {
     "name": "stderr",
     "output_type": "stream",
     "text": [
      "\r",
      " 50%|██████████████████████████████████████████████████████████████████████████                                                                          | 5/10 [00:20<00:21,  4.23s/it]"
     ]
    },
    {
     "name": "stderr",
     "output_type": "stream",
     "text": [
      "\r",
      " 60%|████████████████████████████████████████████████████████████████████████████████████████▊                                                           | 6/10 [00:25<00:17,  4.43s/it]"
     ]
    },
    {
     "name": "stderr",
     "output_type": "stream",
     "text": [
      "\r",
      " 70%|███████████████████████████████████████████████████████████████████████████████████████████████████████▌                                            | 7/10 [00:32<00:15,  5.30s/it]"
     ]
    },
    {
     "name": "stderr",
     "output_type": "stream",
     "text": [
      "\r",
      " 80%|██████████████████████████████████████████████████████████████████████████████████████████████████████████████████████▍                             | 8/10 [00:39<00:11,  5.82s/it]"
     ]
    },
    {
     "name": "stderr",
     "output_type": "stream",
     "text": [
      "\r",
      " 90%|█████████████████████████████████████████████████████████████████████████████████████████████████████████████████████████████████████▏              | 9/10 [00:46<00:06,  6.34s/it]"
     ]
    },
    {
     "name": "stderr",
     "output_type": "stream",
     "text": [
      "\r",
      "100%|███████████████████████████████████████████████████████████████████████████████████████████████████████████████████████████████████████████████████| 10/10 [00:54<00:00,  6.69s/it]"
     ]
    },
    {
     "name": "stderr",
     "output_type": "stream",
     "text": [
      "\r",
      "100%|███████████████████████████████████████████████████████████████████████████████████████████████████████████████████████████████████████████████████| 10/10 [00:54<00:00,  5.43s/it]"
     ]
    },
    {
     "name": "stderr",
     "output_type": "stream",
     "text": [
      "\n"
     ]
    }
   ],
   "source": [
    "sub_models = []\n",
    "#sokutionではカスタム関数の指定、早期停止の言及がここではなかった。検討する\n",
    "for i in tqdm(range(repeat_cv), leave=True, dynamic_ncols=True):\n",
    "    sub_models.append(\n",
    "        xgb.train(\n",
    "          params = param,\n",
    "          dtrain = dtrain,\n",
    "          obj=cauchyobj,\n",
    "          num_boost_round = int(iteration_counts[i] * 1.05),\n",
    "          #early_stopping_rounds=early_stopping_rounds, #これ指定してない、指定するのかあと、指定するとしても少し遅くさせるとか\n",
    "          verbose_eval = 50\n",
    "        )\n",
    "    )"
   ]
  },
  {
   "cell_type": "markdown",
   "id": "3291314d",
   "metadata": {
    "papermill": {
     "duration": 0.025786,
     "end_time": "2025-03-14T08:46:59.287683",
     "exception": false,
     "start_time": "2025-03-14T08:46:59.261897",
     "status": "completed"
    },
    "tags": []
   },
   "source": [
    "各特徴量の寄与度を算出"
   ]
  },
  {
   "cell_type": "code",
   "execution_count": 31,
   "id": "b75495de",
   "metadata": {
    "execution": {
     "iopub.execute_input": "2025-03-14T08:46:59.339088Z",
     "iopub.status.busy": "2025-03-14T08:46:59.339088Z",
     "iopub.status.idle": "2025-03-14T08:46:59.808546Z",
     "shell.execute_reply": "2025-03-14T08:46:59.808546Z"
    },
    "papermill": {
     "duration": 0.489983,
     "end_time": "2025-03-14T08:46:59.808546",
     "exception": false,
     "start_time": "2025-03-14T08:46:59.318563",
     "status": "completed"
    },
    "tags": []
   },
   "outputs": [
    {
     "data": {
      "image/png": "[encoded data removed]",
      "text/plain": [
       "<Figure size 1000x600 with 1 Axes>"
      ]
     },
     "metadata": {},
     "output_type": "display_data"
    }
   ],
   "source": [
    "feature_importances = collections.defaultdict(list)\n",
    "for model in sub_models:\n",
    "    importance = model.get_score(importance_type='gain')\n",
    "    for feat, score in importance.items():\n",
    "        feature_importances[feat].append(score)\n",
    "\n",
    "avg_importance = {feat: sum(scores) / len(scores) for feat, scores in feature_importances.items()}\n",
    "fi_df = pd.DataFrame(list(avg_importance.items()), columns=['Feature', 'Avg_Gain'])\n",
    "fi_df.sort_values(by='Avg_Gain', ascending=False, inplace=True)\n",
    "results.append(\"\")\n",
    "fi_log = \"-----Feature Importance (Average Gain)-----\\n\"\n",
    "for feat, score in fi_df.values:\n",
    "    fi_log += f\"{feat}: {score:.4f}\\n\"\n",
    "results.append(fi_log)\n",
    "results.append(\"\")\n",
    "\n",
    "plt.figure(figsize=(10, 6))\n",
    "plt.bar(fi_df['Feature'], fi_df['Avg_Gain'])\n",
    "plt.xlabel('Feature')\n",
    "plt.ylabel('Average Gain')\n",
    "plt.title('Feature Importance (Average Gain)')\n",
    "plt.xticks(rotation=45)\n",
    "plt.tight_layout() \n",
    "\n",
    "plt.savefig(os.path.join(OUTPUT_PATH, f\"feature_importance_{PREDICT_YEAR}.png\"))\n",
    "plt.show()"
   ]
  },
  {
   "cell_type": "code",
   "execution_count": 32,
   "id": "b9c55e68",
   "metadata": {
    "execution": {
     "iopub.execute_input": "2025-03-14T08:46:59.846565Z",
     "iopub.status.busy": "2025-03-14T08:46:59.846565Z",
     "iopub.status.idle": "2025-03-14T08:46:59.911122Z",
     "shell.execute_reply": "2025-03-14T08:46:59.910619Z"
    },
    "papermill": {
     "duration": 0.097346,
     "end_time": "2025-03-14T08:46:59.912126",
     "exception": false,
     "start_time": "2025-03-14T08:46:59.814780",
     "status": "completed"
    },
    "tags": []
   },
   "outputs": [
    {
     "name": "stderr",
     "output_type": "stream",
     "text": [
      "\r",
      "  0%|                                                                                                                                                            | 0/10 [00:00<?, ?it/s]"
     ]
    },
    {
     "name": "stderr",
     "output_type": "stream",
     "text": [
      "\r",
      "100%|██████████████████████████████████████████████████████████████████████████████████████████████████████████████████████████████████████████████████| 10/10 [00:00<00:00, 187.16it/s]"
     ]
    },
    {
     "name": "stderr",
     "output_type": "stream",
     "text": [
      "\n"
     ]
    }
   ],
   "source": [
    "sub_preds = []\n",
    "for i in tqdm(range(repeat_cv)):\n",
    "    if spline == \"spline_normal\":\n",
    "        sub_preds.append(np.clip(spline_model[i](np.clip(sub_models[i].predict(dtest), -30, 30)), 0.025, 0.975))\n",
    "    \n",
    "    elif spline == \"logistic\":\n",
    "        X_input = np.clip(sub_models[i].predict(dtest), -30, 30).reshape(-1, 1)\n",
    "        platt_pred = spline_model[i].predict_proba(X_input)[:, 1]\n",
    "        sub_preds.append(np.clip(platt_pred, 0.025, 0.975))\n",
    "\n",
    "    elif spline == \"isotonic\":\n",
    "        X_input = np.clip(sub_models[i].predict(dtest), -30, 30).reshape(-1, 1)\n",
    "        iso_pred = spline_model[i].predict(X_input)  # Isotonic Regression の適用\n",
    "        sub_preds.append(np.clip(iso_pred, 0.025, 0.975))\n",
    "\n",
    "sub[\"Pred\"] = np.mean(np.vstack(sub_preds), axis=0)"
   ]
  },
  {
   "cell_type": "code",
   "execution_count": 33,
   "id": "6b5207f5",
   "metadata": {
    "execution": {
     "iopub.execute_input": "2025-03-14T08:46:59.967081Z",
     "iopub.status.busy": "2025-03-14T08:46:59.967081Z",
     "iopub.status.idle": "2025-03-14T08:46:59.978142Z",
     "shell.execute_reply": "2025-03-14T08:46:59.978142Z"
    },
    "papermill": {
     "duration": 0.041675,
     "end_time": "2025-03-14T08:46:59.980145",
     "exception": false,
     "start_time": "2025-03-14T08:46:59.938470",
     "status": "completed"
    },
    "tags": []
   },
   "outputs": [
    {
     "name": "stdout",
     "output_type": "stream",
     "text": [
      "skip data flip\n"
     ]
    }
   ],
   "source": [
    "# 予測時にテストデータID反転させて予測して平均取る\n",
    "# dtestの用意とsub_predsの算出を同じようにやる\n",
    "# sub[\"Pred\"]を反転させたやつとの平均取ったやつにする\n",
    "TEST_REVERSE = MODEL.test_reverse\n",
    "\n",
    "if TEST_REVERSE:\n",
    "    print(\"----- data flip -----\") \n",
    "    sub_reverse = notexist.copy()\n",
    "    sub_reverse = sub_reverse.rename(columns={\"WTeamID\": \"T2_TeamID\", \"LTeamID\": \"T1_TeamID\"})#reverse!!\n",
    "    temp_reverse = sub_reverse.copy()\n",
    "    temp = temp.rename(columns={\"T1_TeamID\": \"T2_TeamID\", \"T2_TeamID\": \"T1_TeamID\"})\n",
    "    sub_reverse = pd.concat([sub_reverse, temp_reverse]).reset_index()\n",
    "    sub_reverse_X, a = process_tourney(sub_reverse, mode=\"sub\")\n",
    "    sub_reverse_X = drop_columns(sub_reverse_X, drop_col)\n",
    "    dtest_reverse = xgb.DMatrix(sub_reverse_X)\n",
    "    \n",
    "    sub_preds_reverse = []\n",
    "    for i in tqdm(range(repeat_cv)):\n",
    "        if spline == \"spline_normal\":\n",
    "            sub_preds_reverse.append(np.clip(spline_model[i](np.clip(sub_models[i].predict(dtest_reverse), -30, 30)), 0.025, 0.975))\n",
    "        \n",
    "        elif spline == \"logistic\":\n",
    "            X_input = np.clip(sub_models[i].predict(dtest_reverse), -30, 30).reshape(-1, 1)\n",
    "            platt_pred = spline_model[i].predict_proba(X_input)[:, 1]\n",
    "            sub_preds_reverse.append(np.clip(platt_pred, 0.025, 0.975))\n",
    "\n",
    "        elif spline == \"isotonic\":\n",
    "            X_input = np.clip(sub_models[i].predict(dtest_reverse), -30, 30).reshape(-1, 1)\n",
    "            iso_pred = spline_model[i].predict(X_input)  # Isotonic Regression の適用\n",
    "            sub_preds_reverse.append(np.clip(iso_pred, 0.025, 0.975))\n",
    "\n",
    "    sub_reverse[\"Pred\"] = np.mean(np.vstack(sub_preds_reverse), axis=0)\n",
    "    \n",
    " \n",
    "    #sub[\"Pred\"]を (sub[\"Pred\"] + (1-sub_reverse[\"Pred\"]))/2に塗り替える(平均取る)\n",
    "    sub[\"Pred\"] = (sub[\"Pred\"] + (1-sub_reverse[\"Pred\"]))/2\n",
    "\n",
    "\n",
    "else:\n",
    "    print(\"skip data flip\")"
   ]
  },
  {
   "cell_type": "code",
   "execution_count": 34,
   "id": "09fd2107",
   "metadata": {
    "execution": {
     "iopub.execute_input": "2025-03-14T08:47:00.024325Z",
     "iopub.status.busy": "2025-03-14T08:47:00.024325Z",
     "iopub.status.idle": "2025-03-14T08:47:00.038455Z",
     "shell.execute_reply": "2025-03-14T08:47:00.038455Z"
    },
    "papermill": {
     "duration": 0.032531,
     "end_time": "2025-03-14T08:47:00.040468",
     "exception": false,
     "start_time": "2025-03-14T08:47:00.007937",
     "status": "completed"
    },
    "tags": []
   },
   "outputs": [],
   "source": [
    "# teams:64team, targetを受け取って、そのtarget teamの試合可能性のある全63試合を抽出する関数\n",
    "def extract_target_team_records(submission_df, teams, target_team):\n",
    "    if target_team not in teams:\n",
    "        raise ValueError(f\"target_team {target_team} は teams 内に存在しません\")\n",
    "\n",
    "    remaining_teams = [t for t in teams if t != target_team]\n",
    "    \n",
    "    records = []\n",
    "    for other_team in remaining_teams:\n",
    "        lower = min(target_team, other_team)\n",
    "        higher = max(target_team, other_team)\n",
    "        row = submission_df[(submission_df['T1_TeamID'] == lower) & (submission_df['T2_TeamID'] == higher)]\n",
    "        if row.empty:\n",
    "            print(f\"Warning: 対戦 {lower} vs {higher} に対応するレコードが見つかりませんでした\")\n",
    "        else:\n",
    "            records.append(row)\n",
    "    \n",
    "    if records:\n",
    "        final_records = pd.concat(records, ignore_index=True)\n",
    "    else:\n",
    "        final_records = pd.DataFrame()\n",
    "    \n",
    "    if len(final_records) != 63:\n",
    "        print(f\"Warning: 期待される63件ではなく、{len(final_records)}件のレコードが抽出されました。\")\n",
    "    \n",
    "    return final_records\n"
   ]
  },
  {
   "cell_type": "code",
   "execution_count": 35,
   "id": "95c0c624",
   "metadata": {
    "execution": {
     "iopub.execute_input": "2025-03-14T08:47:00.071834Z",
     "iopub.status.busy": "2025-03-14T08:47:00.071834Z",
     "iopub.status.idle": "2025-03-14T08:47:00.083936Z",
     "shell.execute_reply": "2025-03-14T08:47:00.083936Z"
    },
    "papermill": {
     "duration": 0.0251,
     "end_time": "2025-03-14T08:47:00.083936",
     "exception": false,
     "start_time": "2025-03-14T08:47:00.058836",
     "status": "completed"
    },
    "tags": []
   },
   "outputs": [],
   "source": [
    "tourney_teams_2023 = [\n",
    "    1395, 1113,   # TCU1395, アリゾナ・ステイト1113\n",
    "    1231, 1245,   # インディアナ1231, ケント・ステイト1245\n",
    "    1243, 1286,   # カンザス・ステイト1243, モンタナ・ステイト1286\n",
    "    1272, 1194,   # メンフィス1272, ﾌﾛﾘﾀﾞ･ｱﾄﾗﾝﾃｨｯｸ1194\n",
    "    1211, 1213,   # ゴンザガ1211, グランド・キャニオン1213\n",
    "    1274, 1179,   # マイアミ（フロリダ）1274, ドレイク1179\n",
    "    1243, 1286,   # ケンタッキー1243, プロビデンス1286\n",
    "    1345, 1192,   # パデュー1345, ﾌｪｱﾘｰ･ﾃﾞｨｷﾝｿﾝ1192\n",
    "    1163, 1233,   # コネチカット1163, アイオナ1233\n",
    "    1166, 1301,   # クレイトン1166, ﾉｰｽｶﾛﾗｲﾅ･ｽﾃｲﾄ1301\n",
    "    1235, 1338,   # アイオワ・ステイト1235, ピッツバーグ1338\n",
    "    1266, 1436,   # マーケット1266, バーモント1436\n",
    "    1388, 1433,   # ｾﾝﾄﾒｱﾘｰｽﾞ（ｶﾘﾌｫﾙﾆｱ）1388, VCU1433\n",
    "    1124, 1364,   # ベイラー1124, UCサンタバーバラ1364\n",
    "    1462, 1244,   # ザビエル1462, ケネソー・ステイト1244\n",
    "    1277, 1425,   # ミシガン・ステイト1277, USC トロージャンズ1425\n",
    "\n",
    "    1417, 1421,   # UCLA1417, UNC アシュビル1421\n",
    "    1401, 1336,   # テキサス A＆M1401, ﾍﾟﾝｼﾞﾙﾍﾞﾆｱ･ｽﾃｲﾄ1336\n",
    "    1397, 1418,   # テネシー1397, ﾙｲｼﾞｱﾅ･ﾗﾌｧｲｴｯﾄ1418\n",
    "    1222, 1297,   # ヒューストン1222, ノーザンケンタッキー1297\n",
    "    1321, 1129,   # ノースウェスタン1321, ボイシ・ステイト1129\n",
    "    1400, 1159,   # テキサス1400, コルゲート1159\n",
    "    1181, 1331,   # デューク1181, オーラル・ロバーツ1331\n",
    "    1234, 1120,   # アイオワ1234, オーバーン1120\n",
    "    1116, 1228,   # アーカンソー1116, イリノイ1228\n",
    "    1112, 1343,   # アリゾナ1112, プリンストン1343\n",
    "    1361, 1158,   # ｻﾝﾃﾞｴｺﾞ･ｽﾃｲﾄ1361, チャールストン1158\n",
    "    1104, 1394,   # アラバマ1104, テキサス A＆M CC1394\n",
    "    1242, 1224,   # カンザス1242, ハワード1224\n",
    "    1281, 1429,   # ミズーリ1281, ユタ・ステイト1429\n",
    "    1438, 1202,   # バージニア1438, ファーマン1202\n",
    "    1268, 1452    # メリーランド1268, ウェストバージニア1452\n",
    "]\n",
    "\n",
    "#Connecticut_vs = extract_target_team_records(sub, tourney_teams_2023, 1163 )"
   ]
  },
  {
   "cell_type": "code",
   "execution_count": 36,
   "id": "76176887",
   "metadata": {
    "execution": {
     "iopub.execute_input": "2025-03-14T08:47:00.123493Z",
     "iopub.status.busy": "2025-03-14T08:47:00.123493Z",
     "iopub.status.idle": "2025-03-14T08:47:00.129271Z",
     "shell.execute_reply": "2025-03-14T08:47:00.129271Z"
    },
    "papermill": {
     "duration": 0.025501,
     "end_time": "2025-03-14T08:47:00.129271",
     "exception": false,
     "start_time": "2025-03-14T08:47:00.103770",
     "status": "completed"
    },
    "tags": []
   },
   "outputs": [],
   "source": [
    "#handlabelingを行う関数\n",
    "def make_handlabeling(df, season, T1, T2, labeling_pred, tourney_teams):\n",
    "    if T1 not in tourney_teams or T2 not in tourney_teams: \n",
    "        print(f\"トーナメント対象チームに属していません\")\n",
    "        return \n",
    "    \n",
    "    if T1>T2: \n",
    "        T1, T2 = T2, T1\n",
    "        print(f\"{T1}, {T2}ID逆だけど大丈夫？？\")\n",
    "    id = f\"{season}_{T1}_{T2}\"\n",
    "\n",
    "    print(f\"before: {df[df['ID']==id]}\")\n",
    "    df.loc[df[\"ID\"] == id, \"Pred\"] = labeling_pred\n",
    "    print(f\"after: {df[df['ID']==id]}\")\n",
    "    \n",
    "    results.append(f\"-----handolabeling-----\")\n",
    "    results.append(f\"before:  {df[df['ID']==id]} -----> after: {df[df['ID']==id]}\")\n",
    "    results.appedn(\"\")\n",
    "    return df"
   ]
  },
  {
   "cell_type": "code",
   "execution_count": 37,
   "id": "19d6dde6",
   "metadata": {
    "execution": {
     "iopub.execute_input": "2025-03-14T08:47:00.172915Z",
     "iopub.status.busy": "2025-03-14T08:47:00.171910Z",
     "iopub.status.idle": "2025-03-14T08:47:00.178456Z",
     "shell.execute_reply": "2025-03-14T08:47:00.178456Z"
    },
    "papermill": {
     "duration": 0.042869,
     "end_time": "2025-03-14T08:47:00.178456",
     "exception": false,
     "start_time": "2025-03-14T08:47:00.135587",
     "status": "completed"
    },
    "tags": []
   },
   "outputs": [],
   "source": [
    "labeling = cfg.exp.hand_labeling\n",
    "if labeling is not None:\n",
    "    for i in range(len(labeling)):\n",
    "        T1 = labeling[i][0]\n",
    "        T2 = labeling[i][1]\n",
    "        labeling_pred = labeling[i][2]\n",
    "        \n",
    "        print(f\"{T1} vs {T2} result labeling {labeling_pred}\")\n",
    "        \n",
    "        sub = make_handlabeling(sub, PREDICT_YEAR, T1, T2, labeling_pred, tourney_teams_2023)"
   ]
  },
  {
   "cell_type": "code",
   "execution_count": 38,
   "id": "3e5520ca",
   "metadata": {
    "execution": {
     "iopub.execute_input": "2025-03-14T08:47:00.221156Z",
     "iopub.status.busy": "2025-03-14T08:47:00.220184Z",
     "iopub.status.idle": "2025-03-14T08:47:00.427818Z",
     "shell.execute_reply": "2025-03-14T08:47:00.427818Z"
    },
    "papermill": {
     "duration": 0.228628,
     "end_time": "2025-03-14T08:47:00.427818",
     "exception": false,
     "start_time": "2025-03-14T08:47:00.199190",
     "status": "completed"
    },
    "tags": []
   },
   "outputs": [
    {
     "name": "stdout",
     "output_type": "stream",
     "text": [
      "Tournament matchups only - Pred Mean: 0.5015884153148341\n"
     ]
    },
    {
     "data": {
      "image/png": "[encoded data removed]",
      "text/plain": [
       "<Figure size 640x480 with 1 Axes>"
      ]
     },
     "metadata": {},
     "output_type": "display_data"
    }
   ],
   "source": [
    "tourney_filtered = notexist[notexist[\"Season\"] == PREDICT_YEAR].copy()\n",
    "a = tourney_filtered.rename(columns={'WTeamID': 'T1_TeamID', 'LTeamID': 'T2_TeamID'})\n",
    "b = tourney_filtered.rename(columns={'WTeamID': 'T2_TeamID', 'LTeamID': 'T1_TeamID'})\n",
    "ab = pd.concat([a, b]).reset_index(drop=True) \n",
    "filtered_sub = sub.merge(ab[['Season', 'T1_TeamID', 'T2_TeamID']], \n",
    "                         on=['Season', 'T1_TeamID', 'T2_TeamID'], \n",
    "                         how='inner')\n",
    "\n",
    "filtered_sub[\"Pred\"].astype(int)\n",
    "pred_mean = filtered_sub[\"Pred\"].mean()\n",
    "print(\"Tournament matchups only - Pred Mean:\", pred_mean)\n",
    "\n",
    "filtered_sub[\"Pred\"].hist(bins=50)\n",
    "results+=[\"\", f\"Tournament matchups only - Pred Mean:, {pred_mean}\", \"\"]\n",
    "plt.figure(figsize=(8, 6))\n",
    "filtered_sub[\"Pred\"].hist(bins=50)\n",
    "plt.title(\"Prediction Histogram\")\n",
    "plt.xlabel(\"Pred\")\n",
    "plt.ylabel(\"Frequency\")\n",
    "plt.grid(True)\n",
    "\n",
    "# 画像として保存\n",
    "plt.savefig(os.path.join(OUTPUT_PATH, f\"Prediction_Histgram_filtered_{PREDICT_YEAR}.png\"))\n",
    "plt.close()"
   ]
  },
  {
   "cell_type": "markdown",
   "id": "96e1dce5",
   "metadata": {
    "papermill": {
     "duration": 0.02278,
     "end_time": "2025-03-14T08:47:00.466000",
     "exception": false,
     "start_time": "2025-03-14T08:47:00.443220",
     "status": "completed"
    },
    "tags": []
   },
   "source": [
    "# スコア算出、まとめ、\n",
    "ここまでで提出ファイル作成。ここからは過去年度のシミュレーションに対してBrier scoreやその他指標の算出"
   ]
  },
  {
   "cell_type": "code",
   "execution_count": 39,
   "id": "de46e293",
   "metadata": {
    "execution": {
     "iopub.execute_input": "2025-03-14T08:47:00.507061Z",
     "iopub.status.busy": "2025-03-14T08:47:00.507061Z",
     "iopub.status.idle": "2025-03-14T08:47:00.767580Z",
     "shell.execute_reply": "2025-03-14T08:47:00.766567Z"
    },
    "papermill": {
     "duration": 0.295685,
     "end_time": "2025-03-14T08:47:00.768584",
     "exception": false,
     "start_time": "2025-03-14T08:47:00.472899",
     "status": "completed"
    },
    "tags": []
   },
   "outputs": [
    {
     "data": {
      "image/png": "[encoded data removed]",
      "text/plain": [
       "<Figure size 640x480 with 1 Axes>"
      ]
     },
     "metadata": {},
     "output_type": "display_data"
    }
   ],
   "source": [
    "sub[\"Pred\"].hist()\n",
    "results+=[\"\", f\"Pred mean: {sub['Pred'].mean()}\", \"\"]\n",
    "\n",
    "plt.figure(figsize=(8, 6))\n",
    "sub[\"Pred\"].hist(bins=50)\n",
    "plt.title(\"Prediction Histogram\")\n",
    "plt.xlabel(\"Pred\")\n",
    "plt.ylabel(\"Frequency\")\n",
    "plt.grid(True)\n",
    "\n",
    "# 画像として保存\n",
    "plt.savefig(os.path.join(OUTPUT_PATH, f\"Prediction_Histgram_{PREDICT_YEAR}.png\"))\n",
    "plt.close()"
   ]
  },
  {
   "cell_type": "markdown",
   "id": "9fe9373d",
   "metadata": {
    "papermill": {
     "duration": 0.033532,
     "end_time": "2025-03-14T08:47:00.826786",
     "exception": false,
     "start_time": "2025-03-14T08:47:00.793254",
     "status": "completed"
    },
    "tags": []
   },
   "source": [
    "存在するはずのない予測年度のトーナメント結果をもとに(Pred, label)を取り出し、以下を行う。\n",
    "\n",
    "- 各評価指標の計算\n",
    "- キャリブレーション可視化\n",
    "- AUC可視化"
   ]
  },
  {
   "cell_type": "code",
   "execution_count": 40,
   "id": "32afafb7",
   "metadata": {
    "execution": {
     "iopub.execute_input": "2025-03-14T08:47:00.875989Z",
     "iopub.status.busy": "2025-03-14T08:47:00.875355Z",
     "iopub.status.idle": "2025-03-14T08:47:00.883678Z",
     "shell.execute_reply": "2025-03-14T08:47:00.883678Z"
    },
    "papermill": {
     "duration": 0.038713,
     "end_time": "2025-03-14T08:47:00.883678",
     "exception": false,
     "start_time": "2025-03-14T08:47:00.844965",
     "status": "completed"
    },
    "tags": []
   },
   "outputs": [],
   "source": [
    "def extract_labels_and_preds(sub, tourney):\n",
    "    \"\"\" 試合データから予測値 (Pred) と正解ラベル (label) を抽出する \"\"\"\n",
    "    label_data = tourney[[\"WTeamID\", \"LTeamID\", \"WScore\", \"LScore\"]]\n",
    "    label_data = label_data.rename(columns={\"WTeamID\": \"T1_TeamID\", \"LTeamID\": \"T2_TeamID\", \"WScore\": \"T1_Score\", \"LScore\": \"T2_Score\"})\n",
    "    temp = label_data.copy()\n",
    "    temp = temp.rename(columns={\"T1_TeamID\": \"T2_TeamID\", \"T2_TeamID\": \"T1_TeamID\", \"T1_Score\": \"T2_Score\", \"T2_Score\": \"T1_Score\"})\n",
    "    label_data = pd.concat([label_data, temp]).reset_index(drop=True)\n",
    "    \n",
    "    label_data = pd.merge(label_data, sub, on=[\"T1_TeamID\", \"T2_TeamID\"], how=\"left\")\n",
    "    label_data[\"label\"] = np.where(label_data[\"T1_Score\"] - label_data[\"T2_Score\"] > 0, 1, 0)\n",
    "    label_data = label_data.dropna(subset=[\"Pred\"])  # 欠損値を削除\n",
    "    \n",
    "    return label_data[[\"label\", \"Pred\"]]\n",
    "\n",
    "def calculate_metrics(label_data):\n",
    "    \"\"\" 各評価指標を計算 \"\"\"\n",
    "    brier_score = round(mean_squared_error(label_data[\"label\"], label_data[\"Pred\"]), 5)  # Brier Score (MSEと同じ)\n",
    "    rmse_score = round(mean_squared_error(label_data[\"label\"], label_data[\"Pred\"], squared=False), 5)  # RMSE\n",
    "    logloss_score = round(log_loss(label_data[\"label\"], label_data[\"Pred\"]), 5)  # Log Loss\n",
    "    mae_score = round(mean_absolute_error(label_data[\"label\"], label_data[\"Pred\"]), 5)  # MAE\n",
    "    \n",
    "    return {\n",
    "        \"Brier Score\": brier_score,\n",
    "        \"RMSE\": rmse_score,\n",
    "        \"Log Loss\": logloss_score,\n",
    "        \"MAE\": mae_score\n",
    "    }\n",
    "\n",
    "def plot_calibration_curve(label_data, n_bins=10):\n",
    "    \"\"\" キャリブレーションカーブをプロット \"\"\"\n",
    "    prob_true, prob_pred = calibration_curve(label_data[\"label\"], label_data[\"Pred\"], n_bins=n_bins)\n",
    "    \n",
    "    plt.figure(figsize=(6,6))\n",
    "    plt.plot(prob_pred, prob_true, marker=\"o\", label=\"Model Calibration\")\n",
    "    plt.plot([0, 1], [0, 1], linestyle=\"--\", label=\"Perfect Calibration\")\n",
    "    plt.xlabel(\"Predicted Probability\")\n",
    "    plt.ylabel(\"Actual Probability\")\n",
    "    plt.legend()\n",
    "    plt.title(\"Calibration Curve\")\n",
    "    plt.show()\n",
    "\n",
    "def calculate_auc_metrics(label_data):\n",
    "    global results\n",
    "    \"\"\" AUC-ROCとAUC-PRを計算 \"\"\"\n",
    "    auc_roc = roc_auc_score(label_data[\"label\"], label_data[\"Pred\"])\n",
    "    auc_pr = average_precision_score(label_data[\"label\"], label_data[\"Pred\"])\n",
    "    \n",
    "    print(f\"AUC-ROC: {auc_roc:.4f}\")\n",
    "    print(f\"AUC-PR: {auc_pr:.4f}\")\n",
    "    results += [\"---- AUC -----\", f\"AUC-ROC: {auc_roc:.4f}\", f\"AUC-PR: {auc_pr:.4f}\"]\n",
    "    "
   ]
  },
  {
   "cell_type": "code",
   "execution_count": 41,
   "id": "32509d9c",
   "metadata": {
    "execution": {
     "iopub.execute_input": "2025-03-14T08:47:00.922939Z",
     "iopub.status.busy": "2025-03-14T08:47:00.922939Z",
     "iopub.status.idle": "2025-03-14T08:47:01.022067Z",
     "shell.execute_reply": "2025-03-14T08:47:01.022067Z"
    },
    "papermill": {
     "duration": 0.117001,
     "end_time": "2025-03-14T08:47:01.022067",
     "exception": false,
     "start_time": "2025-03-14T08:47:00.905066",
     "status": "completed"
    },
    "tags": []
   },
   "outputs": [
    {
     "name": "stderr",
     "output_type": "stream",
     "text": [
      "C:\\Users\\81809\\anaconda3\\envs\\deep_learning_pytorch\\Lib\\site-packages\\sklearn\\metrics\\_regression.py:492: FutureWarning: 'squared' is deprecated in version 1.4 and will be removed in 1.6. To calculate the root mean squared error, use the function'root_mean_squared_error'.\n",
      "  warnings.warn(\n"
     ]
    },
    {
     "data": {
      "image/png": "[encoded data removed]",
      "text/plain": [
       "<Figure size 600x600 with 1 Axes>"
      ]
     },
     "metadata": {},
     "output_type": "display_data"
    },
    {
     "name": "stdout",
     "output_type": "stream",
     "text": [
      "AUC-ROC: 0.8556\n",
      "AUC-PR: 0.8674\n",
      "MAE: 0.3159\n",
      "\n",
      "---- AUC -----\n",
      "AUC-ROC: 0.8556\n",
      "AUC-PR: 0.8674\n"
     ]
    }
   ],
   "source": [
    "if PREDICT_YEAR == 2022:\n",
    "    notexist_MAN = notexist[notexist[\"WTeamID\"].astype(str).str.startswith(\"1\")]\n",
    "    notexist_WOMAN = notexist[notexist[\"WTeamID\"].astype(str).str.startswith(\"3\")]\n",
    "    label_data = extract_labels_and_preds(sub, notexist) ######\n",
    "else:\n",
    "    label_data = extract_labels_and_preds(sub, notexist)\n",
    "\n",
    "# 評価指標の計算\n",
    "score = calculate_metrics(label_data)\n",
    "results += [\"\",\"-----eval metrics-----\",\n",
    "            f\"Brier Score: {score['Brier Score']}\", \n",
    "            f\"RMSE: {score['RMSE']}\", \n",
    "            f\"Log Loss: {score['Log Loss']}\", \n",
    "            f\"MAE: {score['MAE']}\", \"\"]\n",
    "\n",
    "# キャリブレーションの確認\n",
    "plot_calibration_curve(label_data)\n",
    "\n",
    "# AUCの評価\n",
    "calculate_auc_metrics(label_data)\n",
    "\n",
    "for temp in range(-5, 0):\n",
    "    print(results[temp])"
   ]
  },
  {
   "cell_type": "code",
   "execution_count": 42,
   "id": "024f2bec",
   "metadata": {
    "execution": {
     "iopub.execute_input": "2025-03-14T08:47:01.067034Z",
     "iopub.status.busy": "2025-03-14T08:47:01.067034Z",
     "iopub.status.idle": "2025-03-14T08:47:01.076130Z",
     "shell.execute_reply": "2025-03-14T08:47:01.076130Z"
    },
    "papermill": {
     "duration": 0.025032,
     "end_time": "2025-03-14T08:47:01.076130",
     "exception": false,
     "start_time": "2025-03-14T08:47:01.051098",
     "status": "completed"
    },
    "tags": []
   },
   "outputs": [
    {
     "data": {
      "text/plain": [
       "'if PREDICT_YEAR!=2025:\\n    predict_year_label =notexist[[\"WTeamID\", \"LTeamID\", \"WScore\", \"LScore\"]].copy()\\n    predict_year_label.loc[:, \"Win\"] = np.where(predict_year_label[\"WScore\"] - predict_year_label[\"LScore\"] > 0, 1, 0)\\n    predict_year_label = predict_year_label[[\"WTeamID\", \"LTeamID\", \"Win\"]]\\n   \\n    predict_year_label.columns = [\"T1_TeamID\", \"T2_TeamID\", \"Win\"]\\n\\n    predict_year_label = pd.merge(predict_year_label, sub, on=[\"T1_TeamID\", \"T2_TeamID\"], how=\"left\")\\n    brier_score = np.mean((predict_year_label[\"Pred\"] - predict_year_label[\"Win\"])**2)\\n\\n    print(\"Brier Score:\", brier_score)\\n    results+=[f\"Brier Score: {brier_score}\", \"\"]\\n    predict_year_label.info()\\n'"
      ]
     },
     "execution_count": 42,
     "metadata": {},
     "output_type": "execute_result"
    }
   ],
   "source": [
    "\"\"\"if PREDICT_YEAR!=2025:\n",
    "    predict_year_label =notexist[[\"WTeamID\", \"LTeamID\", \"WScore\", \"LScore\"]].copy()\n",
    "    predict_year_label.loc[:, \"Win\"] = np.where(predict_year_label[\"WScore\"] - predict_year_label[\"LScore\"] > 0, 1, 0)\n",
    "    predict_year_label = predict_year_label[[\"WTeamID\", \"LTeamID\", \"Win\"]]\n",
    "   \n",
    "    predict_year_label.columns = [\"T1_TeamID\", \"T2_TeamID\", \"Win\"]\n",
    "\n",
    "    predict_year_label = pd.merge(predict_year_label, sub, on=[\"T1_TeamID\", \"T2_TeamID\"], how=\"left\")\n",
    "    brier_score = np.mean((predict_year_label[\"Pred\"] - predict_year_label[\"Win\"])**2)\n",
    "\n",
    "    print(\"Brier Score:\", brier_score)\n",
    "    results+=[f\"Brier Score: {brier_score}\", \"\"]\n",
    "    predict_year_label.info()\n",
    "\"\"\""
   ]
  },
  {
   "cell_type": "code",
   "execution_count": 43,
   "id": "3bd7d38c",
   "metadata": {
    "execution": {
     "iopub.execute_input": "2025-03-14T08:47:01.120570Z",
     "iopub.status.busy": "2025-03-14T08:47:01.120570Z",
     "iopub.status.idle": "2025-03-14T08:47:01.126361Z",
     "shell.execute_reply": "2025-03-14T08:47:01.126361Z"
    },
    "papermill": {
     "duration": 0.027674,
     "end_time": "2025-03-14T08:47:01.126361",
     "exception": false,
     "start_time": "2025-03-14T08:47:01.098687",
     "status": "completed"
    },
    "tags": []
   },
   "outputs": [
    {
     "name": "stdout",
     "output_type": "stream",
     "text": [
      "実行時間： 465.5秒\n"
     ]
    }
   ],
   "source": [
    "END_TIME = time.time()\n",
    "ELAPSED_TIME = END_TIME - START_TIME\n",
    "print(f\"実行時間： {ELAPSED_TIME:.1f}秒\")\n",
    "results.append(f\"実行時間： {ELAPSED_TIME:.1f}秒\")\n",
    "\n",
    "with open(os.path.join(OUTPUT_PATH, \"result.txt\"), \"a\", encoding=\"utf-8\") as f:\n",
    "    for line in results:\n",
    "        f.write(line + \"\\n\")"
   ]
  },
  {
   "cell_type": "code",
   "execution_count": 44,
   "id": "98159059",
   "metadata": {
    "execution": {
     "iopub.execute_input": "2025-03-14T08:47:01.169177Z",
     "iopub.status.busy": "2025-03-14T08:47:01.169177Z",
     "iopub.status.idle": "2025-03-14T08:47:01.172889Z",
     "shell.execute_reply": "2025-03-14T08:47:01.172208Z"
    },
    "papermill": {
     "duration": 0.024674,
     "end_time": "2025-03-14T08:47:01.172889",
     "exception": false,
     "start_time": "2025-03-14T08:47:01.148215",
     "status": "completed"
    },
    "tags": []
   },
   "outputs": [],
   "source": [
    "logger.remove()"
   ]
  }
 ],
 "metadata": {
  "kernelspec": {
   "display_name": "deep_learning_pytorch",
   "language": "python",
   "name": "python3"
  },
  "language_info": {
   "codemirror_mode": {
    "name": "ipython",
    "version": 3
   },
   "file_extension": ".py",
   "mimetype": "text/x-python",
   "name": "python",
   "nbconvert_exporter": "python",
   "pygments_lexer": "ipython3",
   "version": "3.11.9"
  },
  "papermill": {
   "default_parameters": {},
   "duration": 470.168211,
   "end_time": "2025-03-14T08:47:01.761879",
   "environment_variables": {},
   "exception": null,
   "input_path": "c:\\Users\\81809\\Documents\\ALL_CODE\\kaggle\\March Machine Learning Mania 2025\\notebook\\1stplace_solution_2023.ipynb",
   "output_path": "exp091_20250314_173911.ipynb",
   "parameters": {
    "EXP_NUM": "exp091"
   },
   "start_time": "2025-03-14T08:39:11.593668",
   "version": "2.6.0"
  }
 },
 "nbformat": 4,
 "nbformat_minor": 5
}