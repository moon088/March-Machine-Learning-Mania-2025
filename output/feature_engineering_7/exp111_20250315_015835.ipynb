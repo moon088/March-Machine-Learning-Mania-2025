{
 "cells": [
  {
   "cell_type": "code",
   "execution_count": 1,
   "id": "e1d18509",
   "metadata": {
    "execution": {
     "iopub.execute_input": "2025-03-14T16:58:37.164286Z",
     "iopub.status.busy": "2025-03-14T16:58:37.164286Z",
     "iopub.status.idle": "2025-03-14T16:58:37.177371Z",
     "shell.execute_reply": "2025-03-14T16:58:37.177371Z"
    },
    "papermill": {
     "duration": 0.017573,
     "end_time": "2025-03-14T16:58:37.179684",
     "exception": false,
     "start_time": "2025-03-14T16:58:37.162111",
     "status": "completed"
    },
    "tags": [
     "parameters"
    ]
   },
   "outputs": [],
   "source": [
    "# Parameters\n",
    "EXP_NUM = \"default\""
   ]
  },
  {
   "cell_type": "code",
   "execution_count": 2,
   "id": "7663e813",
   "metadata": {
    "execution": {
     "iopub.execute_input": "2025-03-14T16:58:37.179684Z",
     "iopub.status.busy": "2025-03-14T16:58:37.179684Z",
     "iopub.status.idle": "2025-03-14T16:58:37.196569Z",
     "shell.execute_reply": "2025-03-14T16:58:37.195503Z"
    },
    "papermill": {
     "duration": 0.017864,
     "end_time": "2025-03-14T16:58:37.197548",
     "exception": false,
     "start_time": "2025-03-14T16:58:37.179684",
     "status": "completed"
    },
    "tags": [
     "injected-parameters"
    ]
   },
   "outputs": [],
   "source": [
    "# Parameters\n",
    "EXP_NUM = \"exp111\"\n"
   ]
  },
  {
   "cell_type": "markdown",
   "id": "a661343b",
   "metadata": {
    "papermill": {
     "duration": 0.0,
     "end_time": "2025-03-14T16:58:37.202596",
     "exception": false,
     "start_time": "2025-03-14T16:58:37.202596",
     "status": "completed"
    },
    "tags": []
   },
   "source": [
    "# 2023 1st place solution\n",
    "[kaggle notebook](https://www.kaggle.com/code/rustyb/paris-madness-2023#Load-the-data!)"
   ]
  },
  {
   "cell_type": "markdown",
   "id": "cb683379",
   "metadata": {
    "papermill": {
     "duration": 0.000683,
     "end_time": "2025-03-14T16:58:37.214278",
     "exception": false,
     "start_time": "2025-03-14T16:58:37.213595",
     "status": "completed"
    },
    "tags": []
   },
   "source": [
    "# コードの流れ\n",
    "1. hydraからハイパラ取得し、パスなどを設定\n",
    "\n",
    "    regular&tourney Detaile Result, Seedを使用し、tourneyを目的変数としてモデルを予測していく\n",
    "\n",
    "    regular_data->season_statistics->\n",
    "\n",
    "    以下の前処理をする\n",
    "\n",
    "2. データ２倍にかさまし\n",
    "3. regularに対して特徴量の追加\n",
    "    各チームごとに加えるもの\n",
    "   - EFFG: フィールドゴール成功率\n",
    "   - EFFG3: フィールドゴール3p成功率\n",
    "   - DARE: フィールドゴールにおける3P率\n",
    "   - \"win\"を目的変数とする(Team, Season)のロジスティック回帰した各係数\n",
    "    対戦カードごとに加える特徴量\n",
    "    - PointDiff: ポイント差\n",
    "    - win: 1 if PointDiff>0 else 0\n",
    "4. (Team, Season)ごとに特徴量season_statixtics追加\n",
    "    - win_ratio_14d\n",
    "    - box score mean\n",
    "    - quality\n",
    "    - seed\n",
    "5. season_average.enabled=trueなら直近３シーズンの加重平均の処理加える\n",
    "6. tourneyをteamID, Season, score(y)のみ取り出してこれに対してseason_statisticsの結合と特徴量微調整\n",
    "   - seed->seeddiff\n",
    "   - fillna()\n",
    "\n",
    "7. モデル構築\n",
    "8. KFOLD->OOF予測->spline曲線求めてlogloss算出\n",
    "    - KFOLDによる交差検証（CV）\n",
    "        repeat_cv 回のループで、各反復ごとにKFold（folds_splits個）によりデータを分割し、XGBoostのCVを実行しています。\n",
    "        各foldでの結果（例えば、訓練MAE、検証MAEの平均値や標準偏差）がcv_resultとして得られ、それをxgb_cvリストに格納します。\n",
    "        この段階で重要なのは、各反復での検証用MAEの平均値 (test-mae-mean) の最小値と、そのときのブーストラウンド数です。\n",
    "        それらは後で、最適なイテレーション数 (iteration_counts) として計算され、val_mae にも格納されます。\n",
    "    - OOF予測の流れ\n",
    "\n",
    "        各反復ごとに、新たなKFoldを用いてデータを分割。\n",
    "        各foldごとに、学習データでモデルを訓練し、検証データに対して予測を実施。\n",
    "        すべてのfold分の予測結果を1つの予測配列にまとめ、最後に -30～30 の範囲にクリップしています。\n",
    "        重要な結果\n",
    "\n",
    "        OOF予測結果（oof_preds）自体は後段で別途評価指標に使用できるほか、各反復ごとの予測精度や誤差を算出する際の基礎データ\n",
    "9.  提出フェーズ\n",
    "    - 最適paramで全データ使って訓練\n",
    "    - 提出試合の予測"
   ]
  },
  {
   "cell_type": "markdown",
   "id": "58dd7180",
   "metadata": {
    "papermill": {
     "duration": 0.014154,
     "end_time": "2025-03-14T16:58:37.228432",
     "exception": false,
     "start_time": "2025-03-14T16:58:37.214278",
     "status": "completed"
    },
    "tags": []
   },
   "source": [
    "memo\n",
    "\n",
    "欠損値が発生していいのか検討して保管について考える\n",
    "seedがかけているのはregularに対してseedを与えているから大丈夫。最終的なtourneyには欠損０で追加できているから問題ない"
   ]
  },
  {
   "cell_type": "code",
   "execution_count": 3,
   "id": "15e7b3d9",
   "metadata": {
    "execution": {
     "iopub.execute_input": "2025-03-14T16:58:37.241442Z",
     "iopub.status.busy": "2025-03-14T16:58:37.241442Z",
     "iopub.status.idle": "2025-03-14T16:58:39.460378Z",
     "shell.execute_reply": "2025-03-14T16:58:39.460378Z"
    },
    "papermill": {
     "duration": 2.227953,
     "end_time": "2025-03-14T16:58:39.462486",
     "exception": false,
     "start_time": "2025-03-14T16:58:37.234533",
     "status": "completed"
    },
    "tags": []
   },
   "outputs": [
    {
     "name": "stderr",
     "output_type": "stream",
     "text": [
      "C:\\Users\\81809\\anaconda3\\envs\\deep_learning_pytorch\\Lib\\site-packages\\tqdm\\auto.py:21: TqdmWarning: IProgress not found. Please update jupyter and ipywidgets. See https://ipywidgets.readthedocs.io/en/stable/user_install.html\n",
      "  from .autonotebook import tqdm as notebook_tqdm\n"
     ]
    },
    {
     "name": "stdout",
     "output_type": "stream",
     "text": [
      "exp111\n",
      "Omega conf is below\n",
      "dir:\n",
      "  input_dir: ../input\n",
      "  output_dir: ../output\n",
      "  src_path: ../src\n",
      "  conf_path: ../conf\n",
      "exp:\n",
      "  name: feature_engineering_7\n",
      "  print_name: delete TeamID\n",
      "  tournament:\n",
      "    use_start_season: 1985\n",
      "    target_season: 2019\n",
      "  features:\n",
      "    cal_mean_boxscore:\n",
      "      T1_Score: true\n",
      "      T2_Score: true\n",
      "      PointDiff: true\n",
      "      T1_FGM: true\n",
      "      T2_FGM: true\n",
      "      T1_FGA: true\n",
      "      T2_FGA: true\n",
      "      T1_FGM3: false\n",
      "      T2_FGM3: false\n",
      "      T1_FGA3: false\n",
      "      T2_FGA3: false\n",
      "      T1_FTM: false\n",
      "      T2_FTM: false\n",
      "      T1_FTA: false\n",
      "      T2_FTA: false\n",
      "      T1_EFFG: false\n",
      "      T2_EFFG: false\n",
      "      T1_EFFG3: false\n",
      "      T2_EFFG3: false\n",
      "      T1_EFG_SUM: true\n",
      "      T2_EFG_SUM: true\n",
      "      T1_TO_RATIO: true\n",
      "      T2_TO_RATIO: true\n",
      "      T1_OR: true\n",
      "      T2_OR: true\n",
      "      T1_DR: true\n",
      "      T2_DR: true\n",
      "      T1_REB_RATE: true\n",
      "      T2_REB_RATE: true\n",
      "      T1_FT_RATE: true\n",
      "      T2_FT_RATE: true\n",
      "      T1_RATING: false\n",
      "      T2_RATING: false\n",
      "      T1_POSS_RATE: true\n",
      "      T2_POSS_RATE: true\n",
      "      T1_Ast: true\n",
      "      T2_Ast: true\n",
      "      T1_TO: true\n",
      "      T2_TO: true\n",
      "      T1_Stl: true\n",
      "      T2_Stl: true\n",
      "      T1_Blk: true\n",
      "      T2_Blk: true\n",
      "      T1_PF: true\n",
      "      T2_PF: true\n",
      "      T1_DARE: false\n",
      "      T2_DARE: false\n",
      "      T1_TOQUETOQUE: false\n",
      "      T2_TOQUETOQUE: false\n",
      "    rank_diff: true\n",
      "    start_quality_season: 2003\n",
      "    dropfeatures:\n",
      "    - T1_TOmean\n",
      "    - T2_TOmean\n",
      "    - T1_opponent_POSS_RATEmean\n",
      "    - T2_opponent_POSS_RATEmean\n",
      "    - T1_opponent_Astmean\n",
      "    - T2_opponent_Astmean\n",
      "    - T1_opponent_FT_RATEmean\n",
      "    - T2_opponent_FT_RATEmean\n",
      "    - T1_opponent_Stlmean\n",
      "    - T2_opponent_Stlmean\n",
      "    - T1_ORmean\n",
      "    - T2_ORmean\n",
      "    - T1_opponent_ORmean\n",
      "    - T2_opponent_ORmean\n",
      "    - T1_TeamID\n",
      "    - T2_TemaID\n",
      "    season_average:\n",
      "      enabled: false\n",
      "      past_years: 3\n",
      "      weights:\n",
      "      - 1\n",
      "      - 2\n",
      "      - 3\n",
      "    fillna:\n",
      "      quality: 'nan'\n",
      "  model:\n",
      "    repeat_cv: 10\n",
      "    optuna_enabled: false\n",
      "    test_reverse: false\n",
      "    xgb_model:\n",
      "      param:\n",
      "        eval_metric: rmse\n",
      "        booster: gbtree\n",
      "        eta: 0.02\n",
      "        subsample: 0.35\n",
      "        colsample_bytree: 0.7\n",
      "        num_parallel_tree: 10\n",
      "        min_child_weight: 40\n",
      "        gamma: 10\n",
      "        max_depth: 3\n",
      "      obj: cauchyoj\n",
      "      num_boost_round: 3000\n",
      "      folds_splits: 5\n",
      "      early_stopping_rounds: 25\n",
      "      optuna:\n",
      "        max_depth:\n",
      "        - 3\n",
      "        - 7\n",
      "        eta:\n",
      "        - 0.001\n",
      "        - 0.03\n",
      "        subsample:\n",
      "        - 0.2\n",
      "        - 0.5\n",
      "        colsample_bytree:\n",
      "        - 0.5\n",
      "        - 1.0\n",
      "        num_parallel_tree:\n",
      "        - 7\n",
      "        - 12\n",
      "        min_child_weight:\n",
      "        - 30\n",
      "        - 50\n",
      "        reg_alpha:\n",
      "        - 0.0\n",
      "        - 1.0\n",
      "        reg_lambda:\n",
      "        - 0.0\n",
      "        - 1.0\n",
      "        gamma:\n",
      "        - 0\n",
      "        - 10\n",
      "        n_trials: 1000\n",
      "        timeout: 28800\n",
      "        n_jobs: -1\n",
      "        n_warmup_steps: 3\n",
      "    spline: logistic\n",
      "  hand_labeling: null\n",
      "\n"
     ]
    }
   ],
   "source": [
    "\n",
    "import os\n",
    "import sys\n",
    "from pathlib import Path\n",
    "import collections\n",
    "from datetime import datetime\n",
    "import shutil\n",
    "import yaml\n",
    "from tqdm import tqdm\n",
    "import time\n",
    "import optuna\n",
    "from loguru import logger\n",
    "import collections\n",
    "\n",
    "from hydra import initialize, initialize_config_module, initialize_config_dir, compose\n",
    "from omegaconf import OmegaConf\n",
    "\n",
    "import numpy as np\n",
    "import pandas as pd\n",
    "import matplotlib.pyplot as plt\n",
    "import seaborn as sns\n",
    "from scipy.interpolate import UnivariateSpline\n",
    "\n",
    "import xgboost as xgb\n",
    "from xgboost import XGBRegressor\n",
    "from sklearn.model_selection import KFold\n",
    "from sklearn.calibration import calibration_curve\n",
    "from sklearn.metrics import log_loss,mean_squared_error, mean_absolute_error, roc_auc_score, average_precision_score\n",
    "from sklearn.metrics import make_scorer\n",
    "from sklearn.model_selection import cross_val_score, KFold\n",
    "from sklearn.linear_model import LogisticRegression\n",
    "from sklearn.preprocessing import OneHotEncoder\n",
    "from sklearn.isotonic import IsotonicRegression\n",
    "\n",
    "import statsmodels.api as sm\n",
    "\n",
    "START_TIME = time.time()\n",
    "\n",
    "\n",
    "#####\n",
    "#EXP_NUM = \"test\"\n",
    "#####\n",
    "print(EXP_NUM)\n",
    "\n",
    "# hydraの初期設定と指定ハイパラの取得\n",
    "sys.path.append(os.path.abspath(\"/workspace\"))\n",
    "sys.path.append(\"C:\\\\Users\\\\81809\\\\Documents\\\\ALL_CODE\\\\kaggle\\\\March Machine Learning Mania 2025\")\n",
    "with initialize_config_module(version_base=None, config_module=\"conf\"):\n",
    "    cfg = compose(\n",
    "        config_name=\"base.yaml\",\n",
    "        overrides=[\n",
    "            f\"+exp={EXP_NUM}\" #defaultexp001->exp002のオーバーライド\n",
    "        ],\n",
    "    )\n",
    "    \n",
    "    OmegaConf.resolve(cfg)\n",
    "    print(\"Omega conf is below\")\n",
    "    print(OmegaConf.to_yaml(cfg))\n"
   ]
  },
  {
   "cell_type": "code",
   "execution_count": 4,
   "id": "f86fd35f",
   "metadata": {
    "execution": {
     "iopub.execute_input": "2025-03-14T16:58:39.462486Z",
     "iopub.status.busy": "2025-03-14T16:58:39.462486Z",
     "iopub.status.idle": "2025-03-14T16:58:39.488815Z",
     "shell.execute_reply": "2025-03-14T16:58:39.488815Z"
    },
    "papermill": {
     "duration": 0.026329,
     "end_time": "2025-03-14T16:58:39.488815",
     "exception": false,
     "start_time": "2025-03-14T16:58:39.462486",
     "status": "completed"
    },
    "tags": []
   },
   "outputs": [
    {
     "name": "stdout",
     "output_type": "stream",
     "text": [
      "########\n",
      "output dir name: feature_engineering_7\n",
      "Run on 2025-03-15 01:58:39.478358\n",
      "delete TeamID\n",
      "########\n"
     ]
    }
   ],
   "source": [
    "PREDICT_YEAR = cfg.exp.tournament.target_season\n",
    "name = f\"{cfg.exp.name}\"\n",
    "now = str(datetime.now())\n",
    "print(\"########\")\n",
    "print(f\"output dir name: {name}\")\n",
    "print(f\"Run on {now}\")\n",
    "print(cfg.exp.print_name)\n",
    "print(\"########\")\n",
    "\n",
    "BASE_DIR = os.path.abspath(os.path.join(os.getcwd(), \"..\"))\n",
    "CONF_PATH = os.path.join(BASE_DIR, \"conf\")\n",
    "INPUT_PATH = os.path.join(BASE_DIR, \"input\")\n",
    "EXP_PATH = os.path.join(CONF_PATH, \"exp\", f\"{EXP_NUM}.yaml\")\n",
    "OUTPUT_PATH = os.path.join(BASE_DIR, \"output\", name)\n",
    "SRC_PATH = cfg.dir.src_path\n",
    "sys.path.append(SRC_PATH)\n",
    "\n",
    "os.makedirs(OUTPUT_PATH, exist_ok=True)  \n",
    "with open(EXP_PATH, \"r\", encoding=\"utf-8\") as f:\n",
    "    config = yaml.safe_load(f)\n",
    "shutil.copyfile(EXP_PATH, os.path.join(OUTPUT_PATH, f\"{EXP_NUM}.yaml\"))\n",
    "\n",
    "\n",
    "y_season = cfg.exp.tournament.target_season\n",
    "FEATURES = cfg.exp.features\n",
    "MODEL = cfg.exp.model\n",
    "results = [\"\", f\"-----{PREDICT_YEAR}-----\", now ,name, cfg.exp.print_name,\"\"]"
   ]
  },
  {
   "cell_type": "code",
   "execution_count": 5,
   "id": "1c49bd4e",
   "metadata": {
    "execution": {
     "iopub.execute_input": "2025-03-14T16:58:39.500290Z",
     "iopub.status.busy": "2025-03-14T16:58:39.500290Z",
     "iopub.status.idle": "2025-03-14T16:58:40.872158Z",
     "shell.execute_reply": "2025-03-14T16:58:40.871104Z"
    },
    "papermill": {
     "duration": 1.383343,
     "end_time": "2025-03-14T16:58:40.872158",
     "exception": false,
     "start_time": "2025-03-14T16:58:39.488815",
     "status": "completed"
    },
    "tags": []
   },
   "outputs": [],
   "source": [
    "tourney_results = pd.concat([\n",
    "    pd.read_csv(os.path.join(INPUT_PATH,\"MNCAATourneyDetailedResults.csv\")),\n",
    "    pd.read_csv(os.path.join(INPUT_PATH,\"WNCAATourneyDetailedResults.csv\")),\n",
    "], ignore_index=True)\n",
    "\n",
    "seeds = pd.concat([\n",
    "    pd.read_csv(os.path.join(INPUT_PATH,\"MNCAATourneySeeds.csv\")),\n",
    "    pd.read_csv(os.path.join(INPUT_PATH,\"WNCAATourneySeeds.csv\")),\n",
    "], ignore_index=True)\n",
    "\n",
    "regular_results = pd.concat([\n",
    "    pd.read_csv(os.path.join(INPUT_PATH, \"MRegularSeasonDetailedResults.csv\")),\n",
    "    pd.read_csv(os.path.join(INPUT_PATH,\"WRegularSeasonDetailedResults.csv\")),\n",
    "], ignore_index=True)\n",
    "\n",
    "ordinal_rank = pd.read_csv(os.path.join(INPUT_PATH, \"MMasseyOrdinals.csv\"))\n",
    "\n",
    "# 1試合情報からWin,Lose反転させてデータ数２倍にかさまし and WLoc -> location(0 or -1 or 1)\n",
    "def prepare_data(df1):\n",
    "    df = df1.copy()\n",
    "    ### add new box score\n",
    "    #type1: normal EFG\n",
    "    df['WEFFG'] = df['WFGM'] / df['WFGA']\n",
    "    df['LEFFG'] = df['LFGM'] / df['LFGA']\n",
    "    #type2: 1stfeature EFG\n",
    "    df['WEFFG3'] = np.where(df['WFGA3'] == 0, 0, df['WFGM3'] / df['WFGA3'])\n",
    "    df['LEFFG3'] = np.where(df['LFGA3'] == 0, 0, df['LFGM3'] / df['LFGA3'])\n",
    "    df['WDARE'] = df['WFGM3'] / df['WFGM']\n",
    "    df['LDARE'] = df['LFGM3'] / df['LFGM']\n",
    "    df['WTOQUETOQUE'] = df['WAst'] / df['WFGM']\n",
    "    df['LTOQUETOQUE'] = df['LAst'] / df['LFGM']\n",
    "    #type3: OFF/DEF FGE\n",
    "    df[\"WEFG_SUM\"] = (df[\"WFGM\"]+0.5*df[\"WFGM3\"])/df[\"WFGA\"]\n",
    "    df[\"LEFG_SUM\"] = (df[\"LFGM\"]+0.5*df[\"LFGM3\"])/df[\"LFGA\"]\n",
    "\n",
    "    #POSS RATE\n",
    "    df[\"WPOSS\"] = df[\"WFGA\"] + 0.44*df[\"WFTA\"] - df[\"WOR\"] + df[\"WTO\"]\n",
    "    df[\"LPOSS\"] = df[\"LFGA\"] + 0.44*df[\"LFTA\"] - df[\"LOR\"] + df[\"LTO\"]\n",
    "    df[\"WPOSS_RATE\"] = df[\"WPOSS\"]/(df[\"WPOSS\"]+df[\"LPOSS\"])\n",
    "    df[\"LPOSS_RATE\"] = df[\"LPOSS\"]/(df[\"WPOSS\"]+df[\"LPOSS\"])\n",
    "    \n",
    "    #TO Ratio \n",
    "    df[\"WTO_RATIO\"] = df[\"WTO\"]/(df[\"WFGA\"]+0.44*df[\"WFTA\"]+df[\"WTO\"])#POSS RATEと違ってOR入っていない\n",
    "    df[\"LTO_RATIO\"] = df[\"LTO\"]/(df[\"LFGA\"]+0.44*df[\"LFTA\"]+df[\"LTO\"])\n",
    "    \n",
    "    # REB%\n",
    "    df[\"WREB_RATE\"] = df[\"WOR\"]/(df[\"WOR\"]+df[\"LDR\"])\n",
    "    df[\"LREB_RATE\"] = df[\"LOR\"]/(df[\"LOR\"]+df[\"WDR\"])\n",
    "    \n",
    "    #FT %\n",
    "    df[\"WFT_RATE\"] = df[\"WFTA\"]/df[\"WFGA\"]\n",
    "    df[\"LFT_RATE\"] = df[\"LFTA\"]/df[\"LFGA\"]\n",
    "    \n",
    "    #rating\n",
    "    df[\"WRATING\"] = df[\"WScore\"]/df[\"WPOSS\"]\n",
    "    df[\"LRATING\"] = df[\"LScore\"]/df[\"LPOSS\"]\n",
    "        \n",
    "    #0除算補完\n",
    "    print(df.info())\n",
    "        \n",
    "    #かさましに伴う反転カラム\n",
    "    dfswap = df.copy()\n",
    "    # Home, Away変換して反転\n",
    "    dfswap.loc[df['WLoc'] == 'H', 'WLoc'] = 'A'\n",
    "    dfswap.loc[df['WLoc'] == 'A', 'WLoc'] = 'H'\n",
    "    df.columns.values[6] = 'location'\n",
    "    dfswap.columns.values[6] = 'location'    \n",
    "    #反転\n",
    "    df.columns = [x.replace('W','T1_').replace('L','T2_') for x in list(df.columns)]\n",
    "    dfswap.columns = [x.replace('L','T1_').replace('W','T2_') for x in list(dfswap.columns)]\n",
    "    output = pd.concat([df, dfswap]).reset_index(drop=True)\n",
    "    \n",
    "    \n",
    "    #add new feature\n",
    "    #locationを数値に変換\n",
    "    output.loc[output.location=='N','location'] = '0'\n",
    "    output.loc[output.location=='H','location'] = '1'\n",
    "    output.loc[output.location=='A','location'] = '-1'\n",
    "    output.location = output.location.astype(int)\n",
    "    \n",
    "    #add PointDiff&win\n",
    "    output['PointDiff'] = output['T1_Score'] - output['T2_Score']\n",
    "    output[\"win\"] = np.where(output['PointDiff']>0,1,0)\n",
    "    \n",
    "    \n",
    "    print(f\"feature cols after prepare()\")\n",
    "    print(output.columns)\n",
    "    return output\n",
    "\n"
   ]
  },
  {
   "cell_type": "code",
   "execution_count": 6,
   "id": "c2a1d288",
   "metadata": {
    "execution": {
     "iopub.execute_input": "2025-03-14T16:58:40.872158Z",
     "iopub.status.busy": "2025-03-14T16:58:40.872158Z",
     "iopub.status.idle": "2025-03-14T16:58:40.936685Z",
     "shell.execute_reply": "2025-03-14T16:58:40.936685Z"
    },
    "papermill": {
     "duration": 0.064527,
     "end_time": "2025-03-14T16:58:40.936685",
     "exception": false,
     "start_time": "2025-03-14T16:58:40.872158",
     "status": "completed"
    },
    "tags": []
   },
   "outputs": [
    {
     "name": "stdout",
     "output_type": "stream",
     "text": [
      "各カラムの異常値の個数を表示します。\n",
      "\n"
     ]
    }
   ],
   "source": [
    "import numpy as np\n",
    "\n",
    "# 異常値のチェック\n",
    "def check_abnormal_values(df):\n",
    "    print(\"各カラムの異常値の個数を表示します。\\n\")\n",
    "\n",
    "    for col in df.columns:\n",
    "        nan_count = df[col].isna().sum()  # NaN の数\n",
    "        inf_count = (df[col] == np.inf).sum()  # inf の数\n",
    "        neg_inf_count = (df[col] == -np.inf).sum()  # -inf の数\n",
    "\n",
    "        if nan_count > 0 or inf_count > 0 or neg_inf_count > 0:\n",
    "            print(f\"Column: {col}\")\n",
    "            print(f\"  NaN    : {nan_count}\")\n",
    "            print(f\"  Inf    : {inf_count}\")\n",
    "            print(f\"  -Inf   : {neg_inf_count}\")\n",
    "            print(\"-\" * 30)\n",
    "\n",
    "# 関数を実行\n",
    "check_abnormal_values(regular_results)\n"
   ]
  },
  {
   "cell_type": "code",
   "execution_count": 7,
   "id": "9531641e",
   "metadata": {
    "execution": {
     "iopub.execute_input": "2025-03-14T16:58:40.942336Z",
     "iopub.status.busy": "2025-03-14T16:58:40.942336Z",
     "iopub.status.idle": "2025-03-14T16:58:41.301128Z",
     "shell.execute_reply": "2025-03-14T16:58:41.301128Z"
    },
    "papermill": {
     "duration": 0.358792,
     "end_time": "2025-03-14T16:58:41.301128",
     "exception": false,
     "start_time": "2025-03-14T16:58:40.942336",
     "status": "completed"
    },
    "tags": []
   },
   "outputs": [
    {
     "name": "stdout",
     "output_type": "stream",
     "text": [
      "<class 'pandas.core.frame.DataFrame'>\n",
      "Index: 139193 entries, 0 to 170137\n",
      "Data columns (total 56 columns):\n",
      " #   Column       Non-Null Count   Dtype  \n",
      "---  ------       --------------   -----  \n",
      " 0   Season       139193 non-null  int64  \n",
      " 1   DayNum       139193 non-null  int64  \n",
      " 2   WTeamID      139193 non-null  int64  \n",
      " 3   WScore       139193 non-null  int64  \n",
      " 4   LTeamID      139193 non-null  int64  \n",
      " 5   LScore       139193 non-null  int64  \n",
      " 6   WLoc         139193 non-null  object \n",
      " 7   NumOT        139193 non-null  int64  \n",
      " 8   WFGM         139193 non-null  int64  \n",
      " 9   WFGA         139193 non-null  int64  \n",
      " 10  WFGM3        139193 non-null  int64  \n",
      " 11  WFGA3        139193 non-null  int64  \n",
      " 12  WFTM         139193 non-null  int64  \n",
      " 13  WFTA         139193 non-null  int64  \n",
      " 14  WOR          139193 non-null  int64  \n",
      " 15  WDR          139193 non-null  int64  \n",
      " 16  WAst         139193 non-null  int64  \n",
      " 17  WTO          139193 non-null  int64  \n",
      " 18  WStl         139193 non-null  int64  \n",
      " 19  WBlk         139193 non-null  int64  \n",
      " 20  WPF          139193 non-null  int64  \n",
      " 21  LFGM         139193 non-null  int64  \n",
      " 22  LFGA         139193 non-null  int64  \n",
      " 23  LFGM3        139193 non-null  int64  \n",
      " 24  LFGA3        139193 non-null  int64  \n",
      " 25  LFTM         139193 non-null  int64  \n",
      " 26  LFTA         139193 non-null  int64  \n",
      " 27  LOR          139193 non-null  int64  \n",
      " 28  LDR          139193 non-null  int64  \n",
      " 29  LAst         139193 non-null  int64  \n",
      " 30  LTO          139193 non-null  int64  \n",
      " 31  LStl         139193 non-null  int64  \n",
      " 32  LBlk         139193 non-null  int64  \n",
      " 33  LPF          139193 non-null  int64  \n",
      " 34  WEFFG        139193 non-null  float64\n",
      " 35  LEFFG        139193 non-null  float64\n",
      " 36  WEFFG3       139193 non-null  float64\n",
      " 37  LEFFG3       139193 non-null  float64\n",
      " 38  WDARE        139193 non-null  float64\n",
      " 39  LDARE        139193 non-null  float64\n",
      " 40  WTOQUETOQUE  139193 non-null  float64\n",
      " 41  LTOQUETOQUE  139193 non-null  float64\n",
      " 42  WEFG_SUM     139193 non-null  float64\n",
      " 43  LEFG_SUM     139193 non-null  float64\n",
      " 44  WPOSS        139193 non-null  float64\n",
      " 45  LPOSS        139193 non-null  float64\n",
      " 46  WPOSS_RATE   139193 non-null  float64\n",
      " 47  LPOSS_RATE   139193 non-null  float64\n",
      " 48  WTO_RATIO    139193 non-null  float64\n",
      " 49  LTO_RATIO    139193 non-null  float64\n",
      " 50  WREB_RATE    139193 non-null  float64\n",
      " 51  LREB_RATE    139193 non-null  float64\n",
      " 52  WFT_RATE     139193 non-null  float64\n",
      " 53  LFT_RATE     139193 non-null  float64\n",
      " 54  WRATING      139193 non-null  float64\n",
      " 55  LRATING      139193 non-null  float64\n",
      "dtypes: float64(22), int64(33), object(1)\n",
      "memory usage: 60.5+ MB\n",
      "None\n"
     ]
    },
    {
     "name": "stdout",
     "output_type": "stream",
     "text": [
      "feature cols after prepare()\n",
      "Index(['Season', 'DayNum', 'T1_TeamID', 'T1_Score', 'T2_TeamID', 'T2_Score',\n",
      "       'location', 'NumOT', 'T1_FGM', 'T1_FGA', 'T1_FGM3', 'T1_FGA3', 'T1_FTM',\n",
      "       'T1_FTA', 'T1_OR', 'T1_DR', 'T1_Ast', 'T1_TO', 'T1_Stl', 'T1_Blk',\n",
      "       'T1_PF', 'T2_FGM', 'T2_FGA', 'T2_FGM3', 'T2_FGA3', 'T2_FTM', 'T2_FTA',\n",
      "       'T2_OR', 'T2_DR', 'T2_Ast', 'T2_TO', 'T2_Stl', 'T2_Blk', 'T2_PF',\n",
      "       'T1_EFFG', 'T2_EFFG', 'T1_EFFG3', 'T2_EFFG3', 'T1_DARE', 'T2_DARE',\n",
      "       'T1_TOQUETOQUE', 'T2_TOQUETOQUE', 'T1_EFG_SUM', 'T2_EFG_SUM', 'T1_POSS',\n",
      "       'T2_POSS', 'T1_POSS_RATE', 'T2_POSS_RATE', 'T1_TO_RATIO', 'T2_TO_RATIO',\n",
      "       'T1_REB_RATE', 'T2_REB_RATE', 'T1_FT_RATE', 'T2_FT_RATE', 'T1_RATING',\n",
      "       'T2_RATING', 'PointDiff', 'win'],\n",
      "      dtype='object')\n",
      "<class 'pandas.core.frame.DataFrame'>\n",
      "RangeIndex: 278386 entries, 0 to 278385\n",
      "Data columns (total 58 columns):\n",
      " #   Column         Non-Null Count   Dtype  \n",
      "---  ------         --------------   -----  \n",
      " 0   Season         278386 non-null  int64  \n",
      " 1   DayNum         278386 non-null  int64  \n",
      " 2   T1_TeamID      278386 non-null  int64  \n",
      " 3   T1_Score       278386 non-null  int64  \n",
      " 4   T2_TeamID      278386 non-null  int64  \n",
      " 5   T2_Score       278386 non-null  int64  \n",
      " 6   location       278386 non-null  int32  \n",
      " 7   NumOT          278386 non-null  int64  \n",
      " 8   T1_FGM         278386 non-null  int64  \n",
      " 9   T1_FGA         278386 non-null  int64  \n",
      " 10  T1_FGM3        278386 non-null  int64  \n",
      " 11  T1_FGA3        278386 non-null  int64  \n",
      " 12  T1_FTM         278386 non-null  int64  \n",
      " 13  T1_FTA         278386 non-null  int64  \n",
      " 14  T1_OR          278386 non-null  int64  \n",
      " 15  T1_DR          278386 non-null  int64  \n",
      " 16  T1_Ast         278386 non-null  int64  \n",
      " 17  T1_TO          278386 non-null  int64  \n",
      " 18  T1_Stl         278386 non-null  int64  \n",
      " 19  T1_Blk         278386 non-null  int64  \n",
      " 20  T1_PF          278386 non-null  int64  \n",
      " 21  T2_FGM         278386 non-null  int64  \n",
      " 22  T2_FGA         278386 non-null  int64  \n",
      " 23  T2_FGM3        278386 non-null  int64  \n",
      " 24  T2_FGA3        278386 non-null  int64  \n",
      " 25  T2_FTM         278386 non-null  int64  \n",
      " 26  T2_FTA         278386 non-null  int64  \n",
      " 27  T2_OR          278386 non-null  int64  \n",
      " 28  T2_DR          278386 non-null  int64  \n",
      " 29  T2_Ast         278386 non-null  int64  \n",
      " 30  T2_TO          278386 non-null  int64  \n",
      " 31  T2_Stl         278386 non-null  int64  \n",
      " 32  T2_Blk         278386 non-null  int64  \n",
      " 33  T2_PF          278386 non-null  int64  \n",
      " 34  T1_EFFG        278386 non-null  float64\n",
      " 35  T2_EFFG        278386 non-null  float64\n",
      " 36  T1_EFFG3       278386 non-null  float64\n",
      " 37  T2_EFFG3       278386 non-null  float64\n",
      " 38  T1_DARE        278386 non-null  float64\n",
      " 39  T2_DARE        278386 non-null  float64\n",
      " 40  T1_TOQUETOQUE  278386 non-null  float64\n",
      " 41  T2_TOQUETOQUE  278386 non-null  float64\n",
      " 42  T1_EFG_SUM     278386 non-null  float64\n",
      " 43  T2_EFG_SUM     278386 non-null  float64\n",
      " 44  T1_POSS        278386 non-null  float64\n",
      " 45  T2_POSS        278386 non-null  float64\n",
      " 46  T1_POSS_RATE   278386 non-null  float64\n",
      " 47  T2_POSS_RATE   278386 non-null  float64\n",
      " 48  T1_TO_RATIO    278386 non-null  float64\n",
      " 49  T2_TO_RATIO    278386 non-null  float64\n",
      " 50  T1_REB_RATE    278386 non-null  float64\n",
      " 51  T2_REB_RATE    278386 non-null  float64\n",
      " 52  T1_FT_RATE     278386 non-null  float64\n",
      " 53  T2_FT_RATE     278386 non-null  float64\n",
      " 54  T1_RATING      278386 non-null  float64\n",
      " 55  T2_RATING      278386 non-null  float64\n",
      " 56  PointDiff      278386 non-null  int64  \n",
      " 57  win            278386 non-null  int32  \n",
      "dtypes: float64(22), int32(2), int64(34)\n",
      "memory usage: 121.1 MB\n"
     ]
    },
    {
     "data": {
      "text/html": [
       "<div>\n",
       "<style scoped>\n",
       "    .dataframe tbody tr th:only-of-type {\n",
       "        vertical-align: middle;\n",
       "    }\n",
       "\n",
       "    .dataframe tbody tr th {\n",
       "        vertical-align: top;\n",
       "    }\n",
       "\n",
       "    .dataframe thead th {\n",
       "        text-align: right;\n",
       "    }\n",
       "</style>\n",
       "<table border=\"1\" class=\"dataframe\">\n",
       "  <thead>\n",
       "    <tr style=\"text-align: right;\">\n",
       "      <th></th>\n",
       "      <th>Season</th>\n",
       "      <th>DayNum</th>\n",
       "      <th>T1_TeamID</th>\n",
       "      <th>T1_Score</th>\n",
       "      <th>T2_TeamID</th>\n",
       "      <th>T2_Score</th>\n",
       "      <th>location</th>\n",
       "      <th>NumOT</th>\n",
       "      <th>T1_FGM</th>\n",
       "      <th>T1_FGA</th>\n",
       "      <th>...</th>\n",
       "      <th>T1_TO_RATIO</th>\n",
       "      <th>T2_TO_RATIO</th>\n",
       "      <th>T1_REB_RATE</th>\n",
       "      <th>T2_REB_RATE</th>\n",
       "      <th>T1_FT_RATE</th>\n",
       "      <th>T2_FT_RATE</th>\n",
       "      <th>T1_RATING</th>\n",
       "      <th>T2_RATING</th>\n",
       "      <th>PointDiff</th>\n",
       "      <th>win</th>\n",
       "    </tr>\n",
       "  </thead>\n",
       "  <tbody>\n",
       "    <tr>\n",
       "      <th>0</th>\n",
       "      <td>2003</td>\n",
       "      <td>10</td>\n",
       "      <td>1104</td>\n",
       "      <td>68</td>\n",
       "      <td>1328</td>\n",
       "      <td>62</td>\n",
       "      <td>0</td>\n",
       "      <td>0</td>\n",
       "      <td>27</td>\n",
       "      <td>58</td>\n",
       "      <td>...</td>\n",
       "      <td>0.258659</td>\n",
       "      <td>0.223104</td>\n",
       "      <td>0.388889</td>\n",
       "      <td>0.294118</td>\n",
       "      <td>0.310345</td>\n",
       "      <td>0.415094</td>\n",
       "      <td>0.907635</td>\n",
       "      <td>0.877193</td>\n",
       "      <td>6</td>\n",
       "      <td>1</td>\n",
       "    </tr>\n",
       "    <tr>\n",
       "      <th>1</th>\n",
       "      <td>2003</td>\n",
       "      <td>10</td>\n",
       "      <td>1272</td>\n",
       "      <td>70</td>\n",
       "      <td>1393</td>\n",
       "      <td>63</td>\n",
       "      <td>0</td>\n",
       "      <td>0</td>\n",
       "      <td>26</td>\n",
       "      <td>62</td>\n",
       "      <td>...</td>\n",
       "      <td>0.155950</td>\n",
       "      <td>0.136674</td>\n",
       "      <td>0.375000</td>\n",
       "      <td>0.416667</td>\n",
       "      <td>0.306452</td>\n",
       "      <td>0.298507</td>\n",
       "      <td>1.023991</td>\n",
       "      <td>0.929204</td>\n",
       "      <td>7</td>\n",
       "      <td>1</td>\n",
       "    </tr>\n",
       "    <tr>\n",
       "      <th>2</th>\n",
       "      <td>2003</td>\n",
       "      <td>11</td>\n",
       "      <td>1266</td>\n",
       "      <td>73</td>\n",
       "      <td>1437</td>\n",
       "      <td>61</td>\n",
       "      <td>0</td>\n",
       "      <td>0</td>\n",
       "      <td>24</td>\n",
       "      <td>58</td>\n",
       "      <td>...</td>\n",
       "      <td>0.123824</td>\n",
       "      <td>0.126156</td>\n",
       "      <td>0.435897</td>\n",
       "      <td>0.543860</td>\n",
       "      <td>0.500000</td>\n",
       "      <td>0.315068</td>\n",
       "      <td>1.144918</td>\n",
       "      <td>0.951341</td>\n",
       "      <td>12</td>\n",
       "      <td>1</td>\n",
       "    </tr>\n",
       "    <tr>\n",
       "      <th>3</th>\n",
       "      <td>2003</td>\n",
       "      <td>11</td>\n",
       "      <td>1296</td>\n",
       "      <td>56</td>\n",
       "      <td>1457</td>\n",
       "      <td>50</td>\n",
       "      <td>0</td>\n",
       "      <td>0</td>\n",
       "      <td>18</td>\n",
       "      <td>38</td>\n",
       "      <td>...</td>\n",
       "      <td>0.188561</td>\n",
       "      <td>0.254692</td>\n",
       "      <td>0.230769</td>\n",
       "      <td>0.472222</td>\n",
       "      <td>0.815789</td>\n",
       "      <td>0.306122</td>\n",
       "      <td>0.971548</td>\n",
       "      <td>0.868056</td>\n",
       "      <td>6</td>\n",
       "      <td>1</td>\n",
       "    </tr>\n",
       "    <tr>\n",
       "      <th>4</th>\n",
       "      <td>2003</td>\n",
       "      <td>11</td>\n",
       "      <td>1400</td>\n",
       "      <td>77</td>\n",
       "      <td>1208</td>\n",
       "      <td>71</td>\n",
       "      <td>0</td>\n",
       "      <td>0</td>\n",
       "      <td>30</td>\n",
       "      <td>61</td>\n",
       "      <td>...</td>\n",
       "      <td>0.173439</td>\n",
       "      <td>0.119218</td>\n",
       "      <td>0.531250</td>\n",
       "      <td>0.488372</td>\n",
       "      <td>0.213115</td>\n",
       "      <td>0.435484</td>\n",
       "      <td>1.208412</td>\n",
       "      <td>1.129135</td>\n",
       "      <td>6</td>\n",
       "      <td>1</td>\n",
       "    </tr>\n",
       "  </tbody>\n",
       "</table>\n",
       "<p>5 rows × 58 columns</p>\n",
       "</div>"
      ],
      "text/plain": [
       "   Season  DayNum  T1_TeamID  T1_Score  T2_TeamID  T2_Score  location  NumOT  \\\n",
       "0    2003      10       1104        68       1328        62         0      0   \n",
       "1    2003      10       1272        70       1393        63         0      0   \n",
       "2    2003      11       1266        73       1437        61         0      0   \n",
       "3    2003      11       1296        56       1457        50         0      0   \n",
       "4    2003      11       1400        77       1208        71         0      0   \n",
       "\n",
       "   T1_FGM  T1_FGA  ...  T1_TO_RATIO  T2_TO_RATIO  T1_REB_RATE  T2_REB_RATE  \\\n",
       "0      27      58  ...     0.258659     0.223104     0.388889     0.294118   \n",
       "1      26      62  ...     0.155950     0.136674     0.375000     0.416667   \n",
       "2      24      58  ...     0.123824     0.126156     0.435897     0.543860   \n",
       "3      18      38  ...     0.188561     0.254692     0.230769     0.472222   \n",
       "4      30      61  ...     0.173439     0.119218     0.531250     0.488372   \n",
       "\n",
       "   T1_FT_RATE  T2_FT_RATE  T1_RATING  T2_RATING  PointDiff  win  \n",
       "0    0.310345    0.415094   0.907635   0.877193          6    1  \n",
       "1    0.306452    0.298507   1.023991   0.929204          7    1  \n",
       "2    0.500000    0.315068   1.144918   0.951341         12    1  \n",
       "3    0.815789    0.306122   0.971548   0.868056          6    1  \n",
       "4    0.213115    0.435484   1.208412   1.129135          6    1  \n",
       "\n",
       "[5 rows x 58 columns]"
      ]
     },
     "metadata": {},
     "output_type": "display_data"
    },
    {
     "data": {
      "text/plain": [
       "None"
      ]
     },
     "metadata": {},
     "output_type": "display_data"
    }
   ],
   "source": [
    "#予測する年以降の情報はフィルタリング\n",
    "USE_START_YEAR = cfg.exp.tournament.use_start_season\n",
    "notexist = tourney_results[tourney_results[\"Season\"] == PREDICT_YEAR]\n",
    "tourney_results = tourney_results[(tourney_results[\"Season\"] >= USE_START_YEAR) & (tourney_results[\"Season\"] < PREDICT_YEAR)]\n",
    "seeds = seeds[(seeds[\"Season\"] >= USE_START_YEAR) & (seeds[\"Season\"] <= PREDICT_YEAR)]\n",
    "regular_results = regular_results[(regular_results[\"Season\"] >= USE_START_YEAR) & (regular_results[\"Season\"] <= PREDICT_YEAR)]\n",
    "\n",
    "regular_data = prepare_data(regular_results)\n",
    "display(regular_data.head(), regular_data.info())"
   ]
  },
  {
   "cell_type": "code",
   "execution_count": 8,
   "id": "00bc6783",
   "metadata": {
    "execution": {
     "iopub.execute_input": "2025-03-14T16:58:41.308254Z",
     "iopub.status.busy": "2025-03-14T16:58:41.308254Z",
     "iopub.status.idle": "2025-03-14T16:58:41.327693Z",
     "shell.execute_reply": "2025-03-14T16:58:41.327693Z"
    },
    "papermill": {
     "duration": 0.02155,
     "end_time": "2025-03-14T16:58:41.329804",
     "exception": false,
     "start_time": "2025-03-14T16:58:41.308254",
     "status": "completed"
    },
    "tags": []
   },
   "outputs": [],
   "source": [
    "#使用特徴量(boxscore_cols)を取得してそれに対して(\"Season\", 'T1_TeamID')でまとめた特徴量の追加\n",
    "#### 1. win_ration_14d ####\n",
    "def add_win_ratio_14d(df):\n",
    "    df_filtered = df[df['DayNum'] > 118].copy()\n",
    "    df_filtered['Win'] = (df_filtered['PointDiff'] > 0).astype(int)\n",
    "    \n",
    "    win_ratio_t1 = df_filtered.groupby(['Season', 'T1_TeamID'])['Win'].mean().reset_index()\n",
    "    win_ratio_t1.rename(columns={'Win': 'T1_win_ratio_14d'}, inplace=True)\n",
    "    \n",
    "    win_ratio_t2 = df_filtered.groupby(['Season', 'T2_TeamID'])['Win'].mean().reset_index()\n",
    "    win_ratio_t2.rename(columns={'Win': 'T2_win_ratio_14d'}, inplace=True)\n",
    "    \n",
    "    df = df.merge(win_ratio_t1, on=['Season', 'T1_TeamID'], how='left')\n",
    "    df = df.merge(win_ratio_t2, on=['Season', 'T2_TeamID'], how='left')\n",
    "    \n",
    "    return df\n",
    "\n",
    "##### 2. add mean of boxscore ####\n",
    "def make_col_avg(df, boxscore, group = [\"Season\", \"T1_TeamID\"], func= [np.mean]):\n",
    "    df_stat = df.groupby(group)[boxscore].agg(func)\n",
    "    df_stat.columns = [''.join(col).strip() for col in df_stat.columns.values]\n",
    "    df_stat = df_stat.reset_index()\n",
    "\n",
    "    win_ratio_cols = ['T1_win_ratio_14d'] #ここマージの関係からT2_win_ratio_14dを外したけど大丈夫か考える\n",
    "    df_win_ratio = df[group + win_ratio_cols].drop_duplicates()\n",
    "    df_stat = df_stat.merge(df_win_ratio, on=group, how='left')\n",
    "    \n",
    "    return df_stat\n",
    "\n",
    "#### 3. add team quality ####\n",
    "# 3.0 ロジスティックを行うためのregular_season_effectsデータフレームの作成\n",
    "def make_regular_season_effects(df):\n",
    "    regular_season_effects = df[['Season', 'T1_TeamID', 'T2_TeamID', 'PointDiff']].copy()\n",
    "    regular_season_effects['win'] = np.where(regular_season_effects['PointDiff'] > 0, 1, 0)\n",
    "    return regular_season_effects\n",
    "\n",
    "# 3.1\n",
    "#各シーズンごとの総当たりに対するロジスティック回帰を行う\n",
    "#目的変数はfeatureenginneringから作成したPointDiffの正負に依存するWinとする.\n",
    "#新たな特徴量\"quarity\"をseasonごとの戦績をもとにロジスティックの回帰係数として導入している\n",
    "def team_quality(season,df):\n",
    "    season_data = df[df[\"Season\"] == season]\n",
    "    X = season_data[['T1_TeamID', 'T2_TeamID']]\n",
    "    y = season_data['win']\n",
    "    print(X.shape, y.shape)\n",
    "    encoder = OneHotEncoder(sparse_output=False) #多重共線性防止, 密行列指定\n",
    "    X_encoded = encoder.fit_transform(X)\n",
    "    \n",
    "    model = LogisticRegression(fit_intercept=False)\n",
    "    model.fit(X_encoded, y)\n",
    "    team_ids = encoder.get_feature_names_out(['T1_TeamID', 'T2_TeamID'])\n",
    "\n",
    "    \n",
    "    #quarity: (チーム数)*2(ID, 回帰係数)\n",
    "    quality = pd.DataFrame({\n",
    "        'TeamID': team_ids,\n",
    "        'quality': model.coef_.flatten() #T1_TeamID_1112,,,の形でチーム数分の回帰係数が入る\n",
    "    })\n",
    "\n",
    "    # 値をint 1112 のように整形\n",
    "    quality = quality[quality['TeamID'].str.contains('T1_TeamID')]\n",
    "    quality['TeamID'] = quality['TeamID'].str.replace('T1_TeamID_', '', regex=True).astype(int)\n",
    "    quality['Season'] = season\n",
    "\n",
    "    #display(quality.head())\n",
    "    print(f\"fin make {season}'s team quarity\")\n",
    "    return quality\n",
    "\n",
    "# 4. add seed\n",
    "def add_seed(df, seeds):\n",
    "    temp = seeds.copy()\n",
    "    temp['Seed'] = temp['Seed'].apply(lambda x: int(x[1:3]))\n",
    "    temp.columns = ['Season','T1_seed','T1_TeamID']\n",
    "    df = pd.merge(df, temp, on=[\"Season\", \"T1_TeamID\"], how=\"left\")\n",
    "    return df \n",
    "\n",
    "# 5. add Ordinal rank\n",
    "def add_ordinalrank(df, ordinal):\n",
    "    df_rank = ordinal.groupby([\"Season\", \"TeamID\"])[\"OrdinalRank\"].agg(np.mean).reset_index()\n",
    "    df_rank.head()\n",
    "    ranks = df_rank.rename(columns={'TeamID': 'T1_TeamID', 'OrdinalRank': 'T1_OrdinalRank'})\n",
    "    df = pd.merge(df,ranks,on = [\"Season\",\"T1_TeamID\"],how = \"left\")\n",
    "    return df\n",
    "\n",
    "# main \n",
    "def make_season_statistics(df, boxscore, seeds, func = [np.mean]):\n",
    "    # 1. Win Ratio の計算と追加\n",
    "    add_win = add_win_ratio_14d(df)\n",
    "    print(\"after add win ratio\")\n",
    "    print(add_win.columns)  \n",
    "    \n",
    "    #2. \n",
    "    add_mean = make_col_avg(add_win, boxscore)\n",
    "    print(\"after mean of boxscore\")\n",
    "    print(add_mean.columns)\n",
    "    \n",
    "    #3. \n",
    "    global PREDICT_YEAR, USE_START_YEAR\n",
    "    start_season = max(FEATURES.start_quality_season, USE_START_YEAR)\n",
    "    print(f\"use season for quality feature is: {start_season}\")\n",
    "    regular_season_effects = make_regular_season_effects(df)\n",
    "    glm_season = [i for i in range(start_season, PREDICT_YEAR+1)]\n",
    "\n",
    "    if 2020 in glm_season:\n",
    "        glm_season.remove(2020)\n",
    "    glm_quality = pd.concat([team_quality(season, regular_season_effects) for season in glm_season]).reset_index(drop=True)\n",
    "    # add glm quality \n",
    "    glm_quality_T1 = glm_quality.rename(columns={'TeamID': 'T1_TeamID', 'quality': 'T1_quality'})\n",
    "    add_glm = add_mean.merge(glm_quality_T1, on=['Season', 'T1_TeamID'], how='left')\n",
    "\n",
    "    print(\"add glm quality\")\n",
    "    print(add_glm.columns)\n",
    "    \n",
    "    #4. \n",
    "    add_seeds = add_seed(add_glm, seeds)\n",
    "    print(\"add seeds (final form)\")\n",
    "    print(add_seeds.columns)\n",
    "    \n",
    "    #5. \n",
    "    add_rank = add_ordinalrank(add_seeds, ordinal_rank)\n",
    "    print(\"add ordinal rank\")\n",
    "    print(add_rank.columns)  \n",
    "    return add_rank"
   ]
  },
  {
   "cell_type": "code",
   "execution_count": 9,
   "id": "f5d51735",
   "metadata": {
    "execution": {
     "iopub.execute_input": "2025-03-14T16:58:41.330801Z",
     "iopub.status.busy": "2025-03-14T16:58:41.330801Z",
     "iopub.status.idle": "2025-03-14T16:58:44.226489Z",
     "shell.execute_reply": "2025-03-14T16:58:44.226489Z"
    },
    "papermill": {
     "duration": 2.895688,
     "end_time": "2025-03-14T16:58:44.226489",
     "exception": false,
     "start_time": "2025-03-14T16:58:41.330801",
     "status": "completed"
    },
    "tags": []
   },
   "outputs": [
    {
     "name": "stdout",
     "output_type": "stream",
     "text": [
      "use boxscore col is\n",
      "['T1_Score', 'T2_Score', 'PointDiff', 'T1_FGM', 'T2_FGM', 'T1_FGA', 'T2_FGA', 'T1_EFG_SUM', 'T2_EFG_SUM', 'T1_TO_RATIO', 'T2_TO_RATIO', 'T1_OR', 'T2_OR', 'T1_DR', 'T2_DR', 'T1_REB_RATE', 'T2_REB_RATE', 'T1_FT_RATE', 'T2_FT_RATE', 'T1_POSS_RATE', 'T2_POSS_RATE', 'T1_Ast', 'T2_Ast', 'T1_TO', 'T2_TO', 'T1_Stl', 'T2_Stl', 'T1_Blk', 'T2_Blk', 'T1_PF', 'T2_PF']\n"
     ]
    },
    {
     "name": "stdout",
     "output_type": "stream",
     "text": [
      "after add win ratio\n",
      "Index(['Season', 'DayNum', 'T1_TeamID', 'T1_Score', 'T2_TeamID', 'T2_Score',\n",
      "       'location', 'NumOT', 'T1_FGM', 'T1_FGA', 'T1_FGM3', 'T1_FGA3', 'T1_FTM',\n",
      "       'T1_FTA', 'T1_OR', 'T1_DR', 'T1_Ast', 'T1_TO', 'T1_Stl', 'T1_Blk',\n",
      "       'T1_PF', 'T2_FGM', 'T2_FGA', 'T2_FGM3', 'T2_FGA3', 'T2_FTM', 'T2_FTA',\n",
      "       'T2_OR', 'T2_DR', 'T2_Ast', 'T2_TO', 'T2_Stl', 'T2_Blk', 'T2_PF',\n",
      "       'T1_EFFG', 'T2_EFFG', 'T1_EFFG3', 'T2_EFFG3', 'T1_DARE', 'T2_DARE',\n",
      "       'T1_TOQUETOQUE', 'T2_TOQUETOQUE', 'T1_EFG_SUM', 'T2_EFG_SUM', 'T1_POSS',\n",
      "       'T2_POSS', 'T1_POSS_RATE', 'T2_POSS_RATE', 'T1_TO_RATIO', 'T2_TO_RATIO',\n",
      "       'T1_REB_RATE', 'T2_REB_RATE', 'T1_FT_RATE', 'T2_FT_RATE', 'T1_RATING',\n",
      "       'T2_RATING', 'PointDiff', 'win', 'T1_win_ratio_14d',\n",
      "       'T2_win_ratio_14d'],\n",
      "      dtype='object')\n"
     ]
    },
    {
     "name": "stdout",
     "output_type": "stream",
     "text": [
      "after mean of boxscore\n",
      "Index(['Season', 'T1_TeamID', 'T1_Scoremean', 'T2_Scoremean', 'PointDiffmean',\n",
      "       'T1_FGMmean', 'T2_FGMmean', 'T1_FGAmean', 'T2_FGAmean',\n",
      "       'T1_EFG_SUMmean', 'T2_EFG_SUMmean', 'T1_TO_RATIOmean',\n",
      "       'T2_TO_RATIOmean', 'T1_ORmean', 'T2_ORmean', 'T1_DRmean', 'T2_DRmean',\n",
      "       'T1_REB_RATEmean', 'T2_REB_RATEmean', 'T1_FT_RATEmean',\n",
      "       'T2_FT_RATEmean', 'T1_POSS_RATEmean', 'T2_POSS_RATEmean', 'T1_Astmean',\n",
      "       'T2_Astmean', 'T1_TOmean', 'T2_TOmean', 'T1_Stlmean', 'T2_Stlmean',\n",
      "       'T1_Blkmean', 'T2_Blkmean', 'T1_PFmean', 'T2_PFmean',\n",
      "       'T1_win_ratio_14d'],\n",
      "      dtype='object')\n",
      "use season for quality feature is: 2003\n",
      "(9232, 2) (9232,)\n",
      "fin make 2003's team quarity\n",
      "(9142, 2) (9142,)\n",
      "fin make 2004's team quarity\n"
     ]
    },
    {
     "name": "stderr",
     "output_type": "stream",
     "text": [
      "C:\\Users\\81809\\AppData\\Local\\Temp\\ipykernel_10116\\386782032.py:20: FutureWarning: The provided callable <function mean at 0x00000210D7726520> is currently using SeriesGroupBy.mean. In a future version of pandas, the provided callable will be used directly. To keep current behavior pass the string \"mean\" instead.\n",
      "  df_stat = df.groupby(group)[boxscore].agg(func)\n"
     ]
    },
    {
     "name": "stdout",
     "output_type": "stream",
     "text": [
      "(9350, 2) (9350,)\n",
      "fin make 2005's team quarity\n",
      "(9514, 2) (9514,)\n",
      "fin make 2006's team quarity\n",
      "(10086, 2) (10086,)\n"
     ]
    },
    {
     "name": "stdout",
     "output_type": "stream",
     "text": [
      "fin make 2007's team quarity\n",
      "(10326, 2) (10326,)\n",
      "fin make 2008's team quarity\n",
      "(10498, 2) (10498,)\n"
     ]
    },
    {
     "name": "stdout",
     "output_type": "stream",
     "text": [
      "fin make 2009's team quarity\n",
      "(20600, 2) (20600,)\n"
     ]
    },
    {
     "name": "stdout",
     "output_type": "stream",
     "text": [
      "fin make 2010's team quarity\n",
      "(20660, 2) (20660,)\n"
     ]
    },
    {
     "name": "stdout",
     "output_type": "stream",
     "text": [
      "fin make 2011's team quarity\n"
     ]
    },
    {
     "name": "stdout",
     "output_type": "stream",
     "text": [
      "(20606, 2) (20606,)\n"
     ]
    },
    {
     "name": "stdout",
     "output_type": "stream",
     "text": [
      "fin make 2012's team quarity\n"
     ]
    },
    {
     "name": "stdout",
     "output_type": "stream",
     "text": [
      "(21008, 2) (21008,)\n",
      "fin make 2013's team quarity\n",
      "(21228, 2) (21228,)\n"
     ]
    },
    {
     "name": "stdout",
     "output_type": "stream",
     "text": [
      "fin make 2014's team quarity\n",
      "(21136, 2) (21136,)\n",
      "fin make 2015's team quarity\n",
      "(21156, 2) (21156,)\n"
     ]
    },
    {
     "name": "stdout",
     "output_type": "stream",
     "text": [
      "fin make 2016's team quarity\n",
      "(21210, 2) (21210,)\n",
      "fin make 2017's team quarity\n",
      "(21228, 2) (21228,)\n"
     ]
    },
    {
     "name": "stdout",
     "output_type": "stream",
     "text": [
      "fin make 2018's team quarity\n",
      "(21406, 2) (21406,)\n",
      "fin make 2019's team quarity\n",
      "add glm quality\n",
      "Index(['Season', 'T1_TeamID', 'T1_Scoremean', 'T2_Scoremean', 'PointDiffmean',\n",
      "       'T1_FGMmean', 'T2_FGMmean', 'T1_FGAmean', 'T2_FGAmean',\n",
      "       'T1_EFG_SUMmean', 'T2_EFG_SUMmean', 'T1_TO_RATIOmean',\n",
      "       'T2_TO_RATIOmean', 'T1_ORmean', 'T2_ORmean', 'T1_DRmean', 'T2_DRmean',\n",
      "       'T1_REB_RATEmean', 'T2_REB_RATEmean', 'T1_FT_RATEmean',\n",
      "       'T2_FT_RATEmean', 'T1_POSS_RATEmean', 'T2_POSS_RATEmean', 'T1_Astmean',\n",
      "       'T2_Astmean', 'T1_TOmean', 'T2_TOmean', 'T1_Stlmean', 'T2_Stlmean',\n",
      "       'T1_Blkmean', 'T2_Blkmean', 'T1_PFmean', 'T2_PFmean',\n",
      "       'T1_win_ratio_14d', 'T1_quality'],\n",
      "      dtype='object')\n",
      "add seeds (final form)\n",
      "Index(['Season', 'T1_TeamID', 'T1_Scoremean', 'T2_Scoremean', 'PointDiffmean',\n",
      "       'T1_FGMmean', 'T2_FGMmean', 'T1_FGAmean', 'T2_FGAmean',\n",
      "       'T1_EFG_SUMmean', 'T2_EFG_SUMmean', 'T1_TO_RATIOmean',\n",
      "       'T2_TO_RATIOmean', 'T1_ORmean', 'T2_ORmean', 'T1_DRmean', 'T2_DRmean',\n",
      "       'T1_REB_RATEmean', 'T2_REB_RATEmean', 'T1_FT_RATEmean',\n",
      "       'T2_FT_RATEmean', 'T1_POSS_RATEmean', 'T2_POSS_RATEmean', 'T1_Astmean',\n",
      "       'T2_Astmean', 'T1_TOmean', 'T2_TOmean', 'T1_Stlmean', 'T2_Stlmean',\n",
      "       'T1_Blkmean', 'T2_Blkmean', 'T1_PFmean', 'T2_PFmean',\n",
      "       'T1_win_ratio_14d', 'T1_quality', 'T1_seed'],\n",
      "      dtype='object')\n"
     ]
    },
    {
     "name": "stderr",
     "output_type": "stream",
     "text": [
      "C:\\Users\\81809\\AppData\\Local\\Temp\\ipykernel_10116\\386782032.py:79: FutureWarning: The provided callable <function mean at 0x00000210D7726520> is currently using SeriesGroupBy.mean. In a future version of pandas, the provided callable will be used directly. To keep current behavior pass the string \"mean\" instead.\n",
      "  df_rank = ordinal.groupby([\"Season\", \"TeamID\"])[\"OrdinalRank\"].agg(np.mean).reset_index()\n"
     ]
    },
    {
     "name": "stdout",
     "output_type": "stream",
     "text": [
      "add ordinal rank\n",
      "Index(['Season', 'T1_TeamID', 'T1_Scoremean', 'T2_Scoremean', 'PointDiffmean',\n",
      "       'T1_FGMmean', 'T2_FGMmean', 'T1_FGAmean', 'T2_FGAmean',\n",
      "       'T1_EFG_SUMmean', 'T2_EFG_SUMmean', 'T1_TO_RATIOmean',\n",
      "       'T2_TO_RATIOmean', 'T1_ORmean', 'T2_ORmean', 'T1_DRmean', 'T2_DRmean',\n",
      "       'T1_REB_RATEmean', 'T2_REB_RATEmean', 'T1_FT_RATEmean',\n",
      "       'T2_FT_RATEmean', 'T1_POSS_RATEmean', 'T2_POSS_RATEmean', 'T1_Astmean',\n",
      "       'T2_Astmean', 'T1_TOmean', 'T2_TOmean', 'T1_Stlmean', 'T2_Stlmean',\n",
      "       'T1_Blkmean', 'T2_Blkmean', 'T1_PFmean', 'T2_PFmean',\n",
      "       'T1_win_ratio_14d', 'T1_quality', 'T1_seed', 'T1_OrdinalRank'],\n",
      "      dtype='object')\n"
     ]
    },
    {
     "data": {
      "text/html": [
       "<div>\n",
       "<style scoped>\n",
       "    .dataframe tbody tr th:only-of-type {\n",
       "        vertical-align: middle;\n",
       "    }\n",
       "\n",
       "    .dataframe tbody tr th {\n",
       "        vertical-align: top;\n",
       "    }\n",
       "\n",
       "    .dataframe thead th {\n",
       "        text-align: right;\n",
       "    }\n",
       "</style>\n",
       "<table border=\"1\" class=\"dataframe\">\n",
       "  <thead>\n",
       "    <tr style=\"text-align: right;\">\n",
       "      <th></th>\n",
       "      <th>Season</th>\n",
       "      <th>T1_TeamID</th>\n",
       "      <th>T1_Scoremean</th>\n",
       "      <th>T2_Scoremean</th>\n",
       "      <th>PointDiffmean</th>\n",
       "      <th>T1_FGMmean</th>\n",
       "      <th>T2_FGMmean</th>\n",
       "      <th>T1_FGAmean</th>\n",
       "      <th>T2_FGAmean</th>\n",
       "      <th>T1_EFG_SUMmean</th>\n",
       "      <th>...</th>\n",
       "      <th>T1_Stlmean</th>\n",
       "      <th>T2_Stlmean</th>\n",
       "      <th>T1_Blkmean</th>\n",
       "      <th>T2_Blkmean</th>\n",
       "      <th>T1_PFmean</th>\n",
       "      <th>T2_PFmean</th>\n",
       "      <th>T1_win_ratio_14d</th>\n",
       "      <th>T1_quality</th>\n",
       "      <th>T1_seed</th>\n",
       "      <th>T1_OrdinalRank</th>\n",
       "    </tr>\n",
       "  </thead>\n",
       "  <tbody>\n",
       "    <tr>\n",
       "      <th>9298</th>\n",
       "      <td>2019</td>\n",
       "      <td>3462</td>\n",
       "      <td>60.862069</td>\n",
       "      <td>66.482759</td>\n",
       "      <td>-5.620690</td>\n",
       "      <td>21.896552</td>\n",
       "      <td>24.448276</td>\n",
       "      <td>57.517241</td>\n",
       "      <td>59.758621</td>\n",
       "      <td>0.448019</td>\n",
       "      <td>...</td>\n",
       "      <td>7.586207</td>\n",
       "      <td>7.758621</td>\n",
       "      <td>2.586207</td>\n",
       "      <td>3.172414</td>\n",
       "      <td>15.241379</td>\n",
       "      <td>15.172414</td>\n",
       "      <td>0.0</td>\n",
       "      <td>-0.296941</td>\n",
       "      <td>NaN</td>\n",
       "      <td>NaN</td>\n",
       "    </tr>\n",
       "    <tr>\n",
       "      <th>9299</th>\n",
       "      <td>2019</td>\n",
       "      <td>3463</td>\n",
       "      <td>63.344828</td>\n",
       "      <td>61.551724</td>\n",
       "      <td>1.793103</td>\n",
       "      <td>23.724138</td>\n",
       "      <td>21.965517</td>\n",
       "      <td>60.517241</td>\n",
       "      <td>60.379310</td>\n",
       "      <td>0.438814</td>\n",
       "      <td>...</td>\n",
       "      <td>5.172414</td>\n",
       "      <td>8.344828</td>\n",
       "      <td>3.586207</td>\n",
       "      <td>2.517241</td>\n",
       "      <td>16.448276</td>\n",
       "      <td>17.551724</td>\n",
       "      <td>0.0</td>\n",
       "      <td>0.134368</td>\n",
       "      <td>NaN</td>\n",
       "      <td>NaN</td>\n",
       "    </tr>\n",
       "    <tr>\n",
       "      <th>9300</th>\n",
       "      <td>2019</td>\n",
       "      <td>3464</td>\n",
       "      <td>68.137931</td>\n",
       "      <td>58.000000</td>\n",
       "      <td>10.137931</td>\n",
       "      <td>23.241379</td>\n",
       "      <td>21.862069</td>\n",
       "      <td>55.758621</td>\n",
       "      <td>58.655172</td>\n",
       "      <td>0.494845</td>\n",
       "      <td>...</td>\n",
       "      <td>4.344828</td>\n",
       "      <td>7.448276</td>\n",
       "      <td>3.482759</td>\n",
       "      <td>3.482759</td>\n",
       "      <td>13.862069</td>\n",
       "      <td>17.896552</td>\n",
       "      <td>0.5</td>\n",
       "      <td>0.638405</td>\n",
       "      <td>NaN</td>\n",
       "      <td>NaN</td>\n",
       "    </tr>\n",
       "    <tr>\n",
       "      <th>9301</th>\n",
       "      <td>2019</td>\n",
       "      <td>3465</td>\n",
       "      <td>76.200000</td>\n",
       "      <td>69.840000</td>\n",
       "      <td>6.360000</td>\n",
       "      <td>28.560000</td>\n",
       "      <td>26.600000</td>\n",
       "      <td>67.520000</td>\n",
       "      <td>69.200000</td>\n",
       "      <td>0.493625</td>\n",
       "      <td>...</td>\n",
       "      <td>7.280000</td>\n",
       "      <td>7.920000</td>\n",
       "      <td>3.160000</td>\n",
       "      <td>3.160000</td>\n",
       "      <td>15.520000</td>\n",
       "      <td>15.440000</td>\n",
       "      <td>0.5</td>\n",
       "      <td>-0.182555</td>\n",
       "      <td>NaN</td>\n",
       "      <td>NaN</td>\n",
       "    </tr>\n",
       "    <tr>\n",
       "      <th>9302</th>\n",
       "      <td>2019</td>\n",
       "      <td>3466</td>\n",
       "      <td>69.521739</td>\n",
       "      <td>63.217391</td>\n",
       "      <td>6.304348</td>\n",
       "      <td>24.869565</td>\n",
       "      <td>23.913043</td>\n",
       "      <td>58.434783</td>\n",
       "      <td>58.260870</td>\n",
       "      <td>0.478102</td>\n",
       "      <td>...</td>\n",
       "      <td>8.478261</td>\n",
       "      <td>8.478261</td>\n",
       "      <td>3.695652</td>\n",
       "      <td>3.217391</td>\n",
       "      <td>17.478261</td>\n",
       "      <td>19.173913</td>\n",
       "      <td>0.0</td>\n",
       "      <td>0.107970</td>\n",
       "      <td>NaN</td>\n",
       "      <td>NaN</td>\n",
       "    </tr>\n",
       "  </tbody>\n",
       "</table>\n",
       "<p>5 rows × 37 columns</p>\n",
       "</div>"
      ],
      "text/plain": [
       "      Season  T1_TeamID  T1_Scoremean  T2_Scoremean  PointDiffmean  \\\n",
       "9298    2019       3462     60.862069     66.482759      -5.620690   \n",
       "9299    2019       3463     63.344828     61.551724       1.793103   \n",
       "9300    2019       3464     68.137931     58.000000      10.137931   \n",
       "9301    2019       3465     76.200000     69.840000       6.360000   \n",
       "9302    2019       3466     69.521739     63.217391       6.304348   \n",
       "\n",
       "      T1_FGMmean  T2_FGMmean  T1_FGAmean  T2_FGAmean  T1_EFG_SUMmean  ...  \\\n",
       "9298   21.896552   24.448276   57.517241   59.758621        0.448019  ...   \n",
       "9299   23.724138   21.965517   60.517241   60.379310        0.438814  ...   \n",
       "9300   23.241379   21.862069   55.758621   58.655172        0.494845  ...   \n",
       "9301   28.560000   26.600000   67.520000   69.200000        0.493625  ...   \n",
       "9302   24.869565   23.913043   58.434783   58.260870        0.478102  ...   \n",
       "\n",
       "      T1_Stlmean  T2_Stlmean  T1_Blkmean  T2_Blkmean  T1_PFmean  T2_PFmean  \\\n",
       "9298    7.586207    7.758621    2.586207    3.172414  15.241379  15.172414   \n",
       "9299    5.172414    8.344828    3.586207    2.517241  16.448276  17.551724   \n",
       "9300    4.344828    7.448276    3.482759    3.482759  13.862069  17.896552   \n",
       "9301    7.280000    7.920000    3.160000    3.160000  15.520000  15.440000   \n",
       "9302    8.478261    8.478261    3.695652    3.217391  17.478261  19.173913   \n",
       "\n",
       "      T1_win_ratio_14d  T1_quality  T1_seed  T1_OrdinalRank  \n",
       "9298               0.0   -0.296941      NaN             NaN  \n",
       "9299               0.0    0.134368      NaN             NaN  \n",
       "9300               0.5    0.638405      NaN             NaN  \n",
       "9301               0.5   -0.182555      NaN             NaN  \n",
       "9302               0.0    0.107970      NaN             NaN  \n",
       "\n",
       "[5 rows x 37 columns]"
      ]
     },
     "execution_count": 9,
     "metadata": {},
     "output_type": "execute_result"
    }
   ],
   "source": [
    "features = FEATURES.cal_mean_boxscore\n",
    "boxscore_cols = [col for col, use in features.items() if use]\n",
    "print(\"use boxscore col is\")\n",
    "print(boxscore_cols)\n",
    "\n",
    "season_statistics = make_season_statistics(regular_data, boxscore_cols, seeds, func = [np.mean])\n",
    "season_statistics.tail()"
   ]
  },
  {
   "cell_type": "code",
   "execution_count": 10,
   "id": "6f0cb7ab",
   "metadata": {
    "execution": {
     "iopub.execute_input": "2025-03-14T16:58:44.229568Z",
     "iopub.status.busy": "2025-03-14T16:58:44.229568Z",
     "iopub.status.idle": "2025-03-14T16:58:44.252206Z",
     "shell.execute_reply": "2025-03-14T16:58:44.252206Z"
    },
    "papermill": {
     "duration": 0.022638,
     "end_time": "2025-03-14T16:58:44.252206",
     "exception": false,
     "start_time": "2025-03-14T16:58:44.229568",
     "status": "completed"
    },
    "tags": []
   },
   "outputs": [
    {
     "name": "stdout",
     "output_type": "stream",
     "text": [
      "<class 'pandas.core.frame.DataFrame'>\n",
      "RangeIndex: 9303 entries, 0 to 9302\n",
      "Data columns (total 37 columns):\n",
      " #   Column            Non-Null Count  Dtype  \n",
      "---  ------            --------------  -----  \n",
      " 0   Season            9303 non-null   int64  \n",
      " 1   T1_TeamID         9303 non-null   int64  \n",
      " 2   T1_Scoremean      9303 non-null   float64\n",
      " 3   T2_Scoremean      9303 non-null   float64\n",
      " 4   PointDiffmean     9303 non-null   float64\n",
      " 5   T1_FGMmean        9303 non-null   float64\n",
      " 6   T2_FGMmean        9303 non-null   float64\n",
      " 7   T1_FGAmean        9303 non-null   float64\n",
      " 8   T2_FGAmean        9303 non-null   float64\n",
      " 9   T1_EFG_SUMmean    9303 non-null   float64\n",
      " 10  T2_EFG_SUMmean    9303 non-null   float64\n",
      " 11  T1_TO_RATIOmean   9303 non-null   float64\n",
      " 12  T2_TO_RATIOmean   9303 non-null   float64\n",
      " 13  T1_ORmean         9303 non-null   float64\n",
      " 14  T2_ORmean         9303 non-null   float64\n",
      " 15  T1_DRmean         9303 non-null   float64\n",
      " 16  T2_DRmean         9303 non-null   float64\n",
      " 17  T1_REB_RATEmean   9303 non-null   float64\n",
      " 18  T2_REB_RATEmean   9303 non-null   float64\n",
      " 19  T1_FT_RATEmean    9303 non-null   float64\n",
      " 20  T2_FT_RATEmean    9303 non-null   float64\n",
      " 21  T1_POSS_RATEmean  9303 non-null   float64\n",
      " 22  T2_POSS_RATEmean  9303 non-null   float64\n",
      " 23  T1_Astmean        9303 non-null   float64\n",
      " 24  T2_Astmean        9303 non-null   float64\n",
      " 25  T1_TOmean         9303 non-null   float64\n",
      " 26  T2_TOmean         9303 non-null   float64\n",
      " 27  T1_Stlmean        9303 non-null   float64\n",
      " 28  T2_Stlmean        9303 non-null   float64\n",
      " 29  T1_Blkmean        9303 non-null   float64\n",
      " 30  T2_Blkmean        9303 non-null   float64\n",
      " 31  T1_PFmean         9303 non-null   float64\n",
      " 32  T2_PFmean         9303 non-null   float64\n",
      " 33  T1_win_ratio_14d  9000 non-null   float64\n",
      " 34  T1_quality        9303 non-null   float64\n",
      " 35  T1_seed           1772 non-null   float64\n",
      " 36  T1_OrdinalRank    5834 non-null   float64\n",
      "dtypes: float64(35), int64(2)\n",
      "memory usage: 2.6 MB\n"
     ]
    }
   ],
   "source": [
    "season_statistics.info()"
   ]
  },
  {
   "cell_type": "code",
   "execution_count": 11,
   "id": "00ed60bd",
   "metadata": {
    "execution": {
     "iopub.execute_input": "2025-03-14T16:58:44.267949Z",
     "iopub.status.busy": "2025-03-14T16:58:44.267949Z",
     "iopub.status.idle": "2025-03-14T16:58:44.319520Z",
     "shell.execute_reply": "2025-03-14T16:58:44.319520Z"
    },
    "papermill": {
     "duration": 0.067314,
     "end_time": "2025-03-14T16:58:44.319520",
     "exception": false,
     "start_time": "2025-03-14T16:58:44.252206",
     "status": "completed"
    },
    "tags": []
   },
   "outputs": [],
   "source": [
    "####ボックスscoreの平均に対して、過去３年の加重平均を取るときの処理 ####\n",
    "def get_mean_of_3_season(val_2ps, val_1ps, val_0ps, \n",
    "                         weight_2, weight_1, weight_0, \n",
    "                         degree_weight=1.0\n",
    "                         ):\n",
    "    weight_2 = weight_2**degree_weight\n",
    "    weight_1 = weight_1**degree_weight\n",
    "    weight_0 = weight_0**degree_weight\n",
    "    if val_2ps == 0  and val_1ps == 0:\n",
    "        return val_0ps\n",
    "    elif val_2ps == 0:\n",
    "        return (val_1ps*weight_2 + val_0ps*weight_1)/(weight_2 + weight_1)\n",
    "    else:\n",
    "        sum_of_values = val_2ps*weight_2 + val_1ps*weight_1 + val_0ps*weight_0\n",
    "        return sum_of_values/(weight_2 + weight_1 + weight_0)\n",
    "\n",
    "def get_3_feature(df_team, feature):\n",
    "    value_2_seasons_ago = 0\n",
    "    value_1_season_ago = 0\n",
    "    value_0_season_ago = 0\n",
    "    for _, val in df_team.iterrows():\n",
    "        value_2_seasons_ago = value_1_season_ago\n",
    "        value_1_season_ago = value_0_season_ago\n",
    "        value_0_season_ago = val[feature]\n",
    "    return value_2_seasons_ago, value_1_season_ago, value_0_season_ago\n",
    "\n",
    "def write_mean_of_3_seasons(df, features, weight, degree_weight=1.0):\n",
    "    \"\"\"\n",
    "    val_0ps - current season value\n",
    "    weight_0 - current season weight\n",
    "    val_1ps - last season value\n",
    "    val_2ps - the value of the season before last\n",
    "    \"\"\"\n",
    "    weight_2=weight[0]\n",
    "    weight_1=weight[1]\n",
    "    weight_0=weight[2]\n",
    "    df_copy = df.copy()\n",
    "    suffix = \"_mn3s\"\n",
    "    \n",
    "    for ft in features:\n",
    "        df_copy[ft + suffix] = 0\n",
    "    for idx, val in tqdm(df_copy.iterrows(), total=len(df_copy)):\n",
    "        team = val.T1_TeamID\n",
    "        season = val.Season\n",
    "        df_team = df_copy[(df_copy.T1_TeamID == team)&\n",
    "                          (df_copy.Season <= season)&\n",
    "                          (df_copy.Season > season-3)]\n",
    "        for ft in features:\n",
    "            val_2ps, val_1ps, val_0ps = get_3_feature(df_team, ft)\n",
    "            ft_mean_3 = get_mean_of_3_season(val_2ps, val_1ps, val_0ps, weight_2, weight_1, weight_0, degree_weight=degree_weight)\n",
    "            df_copy.loc[idx, ft + suffix] = ft_mean_3\n",
    "    return df_copy"
   ]
  },
  {
   "cell_type": "code",
   "execution_count": 12,
   "id": "720ae7c5",
   "metadata": {
    "execution": {
     "iopub.execute_input": "2025-03-14T16:58:44.367135Z",
     "iopub.status.busy": "2025-03-14T16:58:44.367135Z",
     "iopub.status.idle": "2025-03-14T16:58:44.394805Z",
     "shell.execute_reply": "2025-03-14T16:58:44.394805Z"
    },
    "papermill": {
     "duration": 0.047795,
     "end_time": "2025-03-14T16:58:44.394805",
     "exception": false,
     "start_time": "2025-03-14T16:58:44.347010",
     "status": "completed"
    },
    "tags": []
   },
   "outputs": [
    {
     "name": "stdout",
     "output_type": "stream",
     "text": [
      "#####\n",
      "skip 3 season verage\n",
      "#####\n"
     ]
    },
    {
     "data": {
      "text/html": [
       "<div>\n",
       "<style scoped>\n",
       "    .dataframe tbody tr th:only-of-type {\n",
       "        vertical-align: middle;\n",
       "    }\n",
       "\n",
       "    .dataframe tbody tr th {\n",
       "        vertical-align: top;\n",
       "    }\n",
       "\n",
       "    .dataframe thead th {\n",
       "        text-align: right;\n",
       "    }\n",
       "</style>\n",
       "<table border=\"1\" class=\"dataframe\">\n",
       "  <thead>\n",
       "    <tr style=\"text-align: right;\">\n",
       "      <th></th>\n",
       "      <th>Season</th>\n",
       "      <th>T1_TeamID</th>\n",
       "      <th>T1_Scoremean</th>\n",
       "      <th>T1_opponent_Scoremean</th>\n",
       "      <th>T1_PointDiffmean</th>\n",
       "      <th>T1_FGMmean</th>\n",
       "      <th>T1_opponent_FGMmean</th>\n",
       "      <th>T1_FGAmean</th>\n",
       "      <th>T1_opponent_FGAmean</th>\n",
       "      <th>T1_EFG_SUMmean</th>\n",
       "      <th>...</th>\n",
       "      <th>T1_Stlmean</th>\n",
       "      <th>T1_opponent_Stlmean</th>\n",
       "      <th>T1_Blkmean</th>\n",
       "      <th>T1_opponent_Blkmean</th>\n",
       "      <th>T1_PFmean</th>\n",
       "      <th>T1_opponent_PFmean</th>\n",
       "      <th>T1_win_ratio_14d</th>\n",
       "      <th>T1_quality</th>\n",
       "      <th>T1_seed</th>\n",
       "      <th>T1_OrdinalRank</th>\n",
       "    </tr>\n",
       "  </thead>\n",
       "  <tbody>\n",
       "    <tr>\n",
       "      <th>0</th>\n",
       "      <td>2003</td>\n",
       "      <td>1102</td>\n",
       "      <td>57.250000</td>\n",
       "      <td>57.000000</td>\n",
       "      <td>0.25000</td>\n",
       "      <td>19.142857</td>\n",
       "      <td>19.285714</td>\n",
       "      <td>39.785714</td>\n",
       "      <td>42.428571</td>\n",
       "      <td>0.584407</td>\n",
       "      <td>...</td>\n",
       "      <td>5.964286</td>\n",
       "      <td>5.428571</td>\n",
       "      <td>1.785714</td>\n",
       "      <td>1.571429</td>\n",
       "      <td>18.750000</td>\n",
       "      <td>18.357143</td>\n",
       "      <td>0.333333</td>\n",
       "      <td>-0.070776</td>\n",
       "      <td>NaN</td>\n",
       "      <td>144.2875</td>\n",
       "    </tr>\n",
       "    <tr>\n",
       "      <th>1</th>\n",
       "      <td>2003</td>\n",
       "      <td>1103</td>\n",
       "      <td>78.777778</td>\n",
       "      <td>78.148148</td>\n",
       "      <td>0.62963</td>\n",
       "      <td>27.148148</td>\n",
       "      <td>27.777778</td>\n",
       "      <td>55.851852</td>\n",
       "      <td>57.000000</td>\n",
       "      <td>0.536564</td>\n",
       "      <td>...</td>\n",
       "      <td>7.259259</td>\n",
       "      <td>6.407407</td>\n",
       "      <td>2.333333</td>\n",
       "      <td>2.851852</td>\n",
       "      <td>19.851852</td>\n",
       "      <td>22.444444</td>\n",
       "      <td>0.333333</td>\n",
       "      <td>-0.116192</td>\n",
       "      <td>NaN</td>\n",
       "      <td>182.2050</td>\n",
       "    </tr>\n",
       "  </tbody>\n",
       "</table>\n",
       "<p>2 rows × 37 columns</p>\n",
       "</div>"
      ],
      "text/plain": [
       "   Season  T1_TeamID  T1_Scoremean  T1_opponent_Scoremean  T1_PointDiffmean  \\\n",
       "0    2003       1102     57.250000              57.000000           0.25000   \n",
       "1    2003       1103     78.777778              78.148148           0.62963   \n",
       "\n",
       "   T1_FGMmean  T1_opponent_FGMmean  T1_FGAmean  T1_opponent_FGAmean  \\\n",
       "0   19.142857            19.285714   39.785714            42.428571   \n",
       "1   27.148148            27.777778   55.851852            57.000000   \n",
       "\n",
       "   T1_EFG_SUMmean  ...  T1_Stlmean  T1_opponent_Stlmean  T1_Blkmean  \\\n",
       "0        0.584407  ...    5.964286             5.428571    1.785714   \n",
       "1        0.536564  ...    7.259259             6.407407    2.333333   \n",
       "\n",
       "   T1_opponent_Blkmean  T1_PFmean  T1_opponent_PFmean  T1_win_ratio_14d  \\\n",
       "0             1.571429  18.750000           18.357143          0.333333   \n",
       "1             2.851852  19.851852           22.444444          0.333333   \n",
       "\n",
       "   T1_quality  T1_seed  T1_OrdinalRank  \n",
       "0   -0.070776      NaN        144.2875  \n",
       "1   -0.116192      NaN        182.2050  \n",
       "\n",
       "[2 rows x 37 columns]"
      ]
     },
     "metadata": {},
     "output_type": "display_data"
    },
    {
     "data": {
      "text/html": [
       "<div>\n",
       "<style scoped>\n",
       "    .dataframe tbody tr th:only-of-type {\n",
       "        vertical-align: middle;\n",
       "    }\n",
       "\n",
       "    .dataframe tbody tr th {\n",
       "        vertical-align: top;\n",
       "    }\n",
       "\n",
       "    .dataframe thead th {\n",
       "        text-align: right;\n",
       "    }\n",
       "</style>\n",
       "<table border=\"1\" class=\"dataframe\">\n",
       "  <thead>\n",
       "    <tr style=\"text-align: right;\">\n",
       "      <th></th>\n",
       "      <th>Season</th>\n",
       "      <th>T2_TeamID</th>\n",
       "      <th>T2_Scoremean</th>\n",
       "      <th>T2_opponent_Scoremean</th>\n",
       "      <th>T2_PointDiffmean</th>\n",
       "      <th>T2_FGMmean</th>\n",
       "      <th>T2_opponent_FGMmean</th>\n",
       "      <th>T2_FGAmean</th>\n",
       "      <th>T2_opponent_FGAmean</th>\n",
       "      <th>T2_EFG_SUMmean</th>\n",
       "      <th>...</th>\n",
       "      <th>T2_Stlmean</th>\n",
       "      <th>T2_opponent_Stlmean</th>\n",
       "      <th>T2_Blkmean</th>\n",
       "      <th>T2_opponent_Blkmean</th>\n",
       "      <th>T2_PFmean</th>\n",
       "      <th>T2_opponent_PFmean</th>\n",
       "      <th>T2_win_ratio_14d</th>\n",
       "      <th>T2_quality</th>\n",
       "      <th>T2_seed</th>\n",
       "      <th>T2_OrdinalRank</th>\n",
       "    </tr>\n",
       "  </thead>\n",
       "  <tbody>\n",
       "    <tr>\n",
       "      <th>9301</th>\n",
       "      <td>2019</td>\n",
       "      <td>3465</td>\n",
       "      <td>76.200000</td>\n",
       "      <td>69.840000</td>\n",
       "      <td>6.360000</td>\n",
       "      <td>28.560000</td>\n",
       "      <td>26.600000</td>\n",
       "      <td>67.520000</td>\n",
       "      <td>69.20000</td>\n",
       "      <td>0.493625</td>\n",
       "      <td>...</td>\n",
       "      <td>7.280000</td>\n",
       "      <td>7.920000</td>\n",
       "      <td>3.160000</td>\n",
       "      <td>3.160000</td>\n",
       "      <td>15.520000</td>\n",
       "      <td>15.440000</td>\n",
       "      <td>0.5</td>\n",
       "      <td>-0.182555</td>\n",
       "      <td>NaN</td>\n",
       "      <td>NaN</td>\n",
       "    </tr>\n",
       "    <tr>\n",
       "      <th>9302</th>\n",
       "      <td>2019</td>\n",
       "      <td>3466</td>\n",
       "      <td>69.521739</td>\n",
       "      <td>63.217391</td>\n",
       "      <td>6.304348</td>\n",
       "      <td>24.869565</td>\n",
       "      <td>23.913043</td>\n",
       "      <td>58.434783</td>\n",
       "      <td>58.26087</td>\n",
       "      <td>0.478102</td>\n",
       "      <td>...</td>\n",
       "      <td>8.478261</td>\n",
       "      <td>8.478261</td>\n",
       "      <td>3.695652</td>\n",
       "      <td>3.217391</td>\n",
       "      <td>17.478261</td>\n",
       "      <td>19.173913</td>\n",
       "      <td>0.0</td>\n",
       "      <td>0.107970</td>\n",
       "      <td>NaN</td>\n",
       "      <td>NaN</td>\n",
       "    </tr>\n",
       "  </tbody>\n",
       "</table>\n",
       "<p>2 rows × 37 columns</p>\n",
       "</div>"
      ],
      "text/plain": [
       "      Season  T2_TeamID  T2_Scoremean  T2_opponent_Scoremean  \\\n",
       "9301    2019       3465     76.200000              69.840000   \n",
       "9302    2019       3466     69.521739              63.217391   \n",
       "\n",
       "      T2_PointDiffmean  T2_FGMmean  T2_opponent_FGMmean  T2_FGAmean  \\\n",
       "9301          6.360000   28.560000            26.600000   67.520000   \n",
       "9302          6.304348   24.869565            23.913043   58.434783   \n",
       "\n",
       "      T2_opponent_FGAmean  T2_EFG_SUMmean  ...  T2_Stlmean  \\\n",
       "9301             69.20000        0.493625  ...    7.280000   \n",
       "9302             58.26087        0.478102  ...    8.478261   \n",
       "\n",
       "      T2_opponent_Stlmean  T2_Blkmean  T2_opponent_Blkmean  T2_PFmean  \\\n",
       "9301             7.920000    3.160000             3.160000  15.520000   \n",
       "9302             8.478261    3.695652             3.217391  17.478261   \n",
       "\n",
       "      T2_opponent_PFmean  T2_win_ratio_14d  T2_quality  T2_seed  \\\n",
       "9301           15.440000               0.5   -0.182555      NaN   \n",
       "9302           19.173913               0.0    0.107970      NaN   \n",
       "\n",
       "      T2_OrdinalRank  \n",
       "9301             NaN  \n",
       "9302             NaN  \n",
       "\n",
       "[2 rows x 37 columns]"
      ]
     },
     "metadata": {},
     "output_type": "display_data"
    }
   ],
   "source": [
    "flag_3season_avg = FEATURES.season_average.enabled\n",
    "\n",
    "#trueのときの処理理解してfalseと一致させる\n",
    "if flag_3season_avg:\n",
    "    print(\"#####\")\n",
    "    print(\"use 3 season average\")\n",
    "    print(\"#####\")\n",
    "    weight = FEATURES.season_average.weights\n",
    "    years = FEATURES.season_average.past_years\n",
    "    assert years==len(weight)\n",
    "    \n",
    "    features_for_calc = [\"T1_Scoremean\", \"T1_FGAmean\",  \"T1_FGA3mean\"]\n",
    "    season_statistics_with_3_seas = write_mean_of_3_seasons(\n",
    "        season_statistics, features_for_calc, weight, degree_weight=1.0\n",
    "    )\n",
    "    \n",
    "    season_statistics_T1 = season_statistics_with_3_seas.copy()\n",
    "    season_statistics_T2 = season_statistics_with_3_seas.copy()\n",
    "    \n",
    "else:\n",
    "    print(\"#####\")\n",
    "    print(\"skip 3 season verage\")\n",
    "    print(\"#####\")\n",
    "    season_statistics_T1 = season_statistics.copy()\n",
    "    season_statistics_T2 = season_statistics.copy()\n",
    "\n",
    "season_statistics_T1.columns = [\"T1_\" + x.replace(\"T1_\",\"\").replace(\"T2_\",\"opponent_\") for x in list(season_statistics_T1.columns)]\n",
    "season_statistics_T2.columns = [\"T2_\" + x.replace(\"T1_\",\"\").replace(\"T2_\",\"opponent_\") for x in list(season_statistics_T2.columns)]\n",
    "season_statistics_T1.columns.values[0] = \"Season\"\n",
    "season_statistics_T2.columns.values[0] = \"Season\"\n",
    "\n",
    "\n",
    "season_statistics_T2.rename(columns = {\n",
    "    \"T1_TeamID\": \"T2_TeamID\"\n",
    "}, inplace=True)\n",
    "display(season_statistics_T1.head(2), season_statistics_T2.tail(2))"
   ]
  },
  {
   "cell_type": "markdown",
   "id": "96f4283a",
   "metadata": {
    "papermill": {
     "duration": 0.0,
     "end_time": "2025-03-14T16:58:44.401360",
     "exception": false,
     "start_time": "2025-03-14T16:58:44.401360",
     "status": "completed"
    },
    "tags": []
   },
   "source": [
    "# Toureney dataの処理\n",
    "1. pointdiff, pointが目的変数となるのでそれはyに分離\n",
    "2. seasonstatisticを結合したものをXとして作る"
   ]
  },
  {
   "cell_type": "code",
   "execution_count": 13,
   "id": "2f8114ca",
   "metadata": {
    "execution": {
     "iopub.execute_input": "2025-03-14T16:58:44.428419Z",
     "iopub.status.busy": "2025-03-14T16:58:44.428419Z",
     "iopub.status.idle": "2025-03-14T16:58:44.435169Z",
     "shell.execute_reply": "2025-03-14T16:58:44.435169Z"
    },
    "papermill": {
     "duration": 0.015652,
     "end_time": "2025-03-14T16:58:44.436218",
     "exception": false,
     "start_time": "2025-03-14T16:58:44.420566",
     "status": "completed"
    },
    "tags": []
   },
   "outputs": [],
   "source": [
    "\n",
    "def process_tourney(df1, mode=\"tourney\"):\n",
    "    #Season, teamid ->X, team_score->y\n",
    "    df = df1.copy()\n",
    "    if mode==\"tourney\":\n",
    "        df = prepare_data(df) \n",
    "        y = df[\"T1_Score\"]-df[\"T2_Score\"]\n",
    "    X = df[['Season', 'T1_TeamID', 'T2_TeamID']]\n",
    "    X = pd.merge(X, season_statistics_T1, on = ['Season', 'T1_TeamID'], how = 'left')\n",
    "    X = pd.merge(X, season_statistics_T2, on = ['Season', 'T2_TeamID'], how = 'left')\n",
    "    \n",
    "    #seed->seed diff\n",
    "    X[\"seed_diff\"] = X[\"T1_seed\"] - X[\"T2_seed\"]\n",
    "    #rank->rank diff\n",
    "    X[\"rank_diff\"] = X[\"T1_OrdinalRank\"] - X[\"T2_OrdinalRank\"]\n",
    "    #quality->quality diff\n",
    "    X[\"quality_diff\"] = X[\"T1_quality\"] - X[\"T2_quality\"]\n",
    "    #win_ratio_14d -> win_raio_14d_diff\n",
    "    X[\"win_ratio_14d_diff\"] = X[\"T1_win_ratio_14d\"] - X[\"T2_win_ratio_14d\"]\n",
    "    #tourney_data.drop(columns=[\"T1_seed\", \"T2_seed\"], inplace=True)\n",
    "\n",
    "    X = X.drop(columns=[\"T1_seed\", \"T2_seed\", \"T1_OrdinalRank\", \"T2_OrdinalRank\", \n",
    "                        \"T1_quality\", \"T2_quality\", \"T1_win_ratio_14d\", \"T2_win_ratio_14d\"\n",
    "                        ])\n",
    "\n",
    "    # if rank_diff is False, drop.\n",
    "    IS_RANKDIFF = FEATURES.rank_diff\n",
    "    if not IS_RANKDIFF:\n",
    "        X = X.drop(columns=[\"rank_diff\"])\n",
    "        print(\"drop rank_diff\")\n",
    "    \n",
    "    # if fillna is true-> run fillna()\n",
    "    FILLNA = FEATURES.fillna.quality\n",
    "    if FILLNA==\"nan\":\n",
    "        print(f\"no fillna, use nan\")\n",
    "        X[\"quality_diff\"] = X[\"quality_diff\"].fillna(np.nan)\n",
    "    else:\n",
    "        print(f\"fillna quality feature for {FILLNA}\")\n",
    "        X[\"quality_diff\"] = X[\"quality_diff\"].fillna(FILLNA)\n",
    "\n",
    "        \n",
    "    return X, y if mode==\"tourney\" else X"
   ]
  },
  {
   "cell_type": "code",
   "execution_count": 14,
   "id": "b4dbd6ce",
   "metadata": {
    "execution": {
     "iopub.execute_input": "2025-03-14T16:58:44.445022Z",
     "iopub.status.busy": "2025-03-14T16:58:44.445022Z",
     "iopub.status.idle": "2025-03-14T16:58:44.481126Z",
     "shell.execute_reply": "2025-03-14T16:58:44.481126Z"
    },
    "papermill": {
     "duration": 0.036826,
     "end_time": "2025-03-14T16:58:44.481126",
     "exception": false,
     "start_time": "2025-03-14T16:58:44.444300",
     "status": "completed"
    },
    "tags": []
   },
   "outputs": [
    {
     "name": "stdout",
     "output_type": "stream",
     "text": [
      "<class 'pandas.core.frame.DataFrame'>\n",
      "Index: 1615 entries, 0 to 1948\n",
      "Data columns (total 56 columns):\n",
      " #   Column       Non-Null Count  Dtype  \n",
      "---  ------       --------------  -----  \n",
      " 0   Season       1615 non-null   int64  \n",
      " 1   DayNum       1615 non-null   int64  \n",
      " 2   WTeamID      1615 non-null   int64  \n",
      " 3   WScore       1615 non-null   int64  \n",
      " 4   LTeamID      1615 non-null   int64  \n",
      " 5   LScore       1615 non-null   int64  \n",
      " 6   WLoc         1615 non-null   object \n",
      " 7   NumOT        1615 non-null   int64  \n",
      " 8   WFGM         1615 non-null   int64  \n",
      " 9   WFGA         1615 non-null   int64  \n",
      " 10  WFGM3        1615 non-null   int64  \n",
      " 11  WFGA3        1615 non-null   int64  \n",
      " 12  WFTM         1615 non-null   int64  \n",
      " 13  WFTA         1615 non-null   int64  \n",
      " 14  WOR          1615 non-null   int64  \n",
      " 15  WDR          1615 non-null   int64  \n",
      " 16  WAst         1615 non-null   int64  \n",
      " 17  WTO          1615 non-null   int64  \n",
      " 18  WStl         1615 non-null   int64  \n",
      " 19  WBlk         1615 non-null   int64  \n",
      " 20  WPF          1615 non-null   int64  \n",
      " 21  LFGM         1615 non-null   int64  \n",
      " 22  LFGA         1615 non-null   int64  \n",
      " 23  LFGM3        1615 non-null   int64  \n",
      " 24  LFGA3        1615 non-null   int64  \n",
      " 25  LFTM         1615 non-null   int64  \n",
      " 26  LFTA         1615 non-null   int64  \n",
      " 27  LOR          1615 non-null   int64  \n",
      " 28  LDR          1615 non-null   int64  \n",
      " 29  LAst         1615 non-null   int64  \n",
      " 30  LTO          1615 non-null   int64  \n",
      " 31  LStl         1615 non-null   int64  \n",
      " 32  LBlk         1615 non-null   int64  \n",
      " 33  LPF          1615 non-null   int64  \n",
      " 34  WEFFG        1615 non-null   float64\n",
      " 35  LEFFG        1615 non-null   float64\n",
      " 36  WEFFG3       1615 non-null   float64\n",
      " 37  LEFFG3       1615 non-null   float64\n",
      " 38  WDARE        1615 non-null   float64\n",
      " 39  LDARE        1615 non-null   float64\n",
      " 40  WTOQUETOQUE  1615 non-null   float64\n",
      " 41  LTOQUETOQUE  1615 non-null   float64\n",
      " 42  WEFG_SUM     1615 non-null   float64\n",
      " 43  LEFG_SUM     1615 non-null   float64\n",
      " 44  WPOSS        1615 non-null   float64\n",
      " 45  LPOSS        1615 non-null   float64\n",
      " 46  WPOSS_RATE   1615 non-null   float64\n",
      " 47  LPOSS_RATE   1615 non-null   float64\n",
      " 48  WTO_RATIO    1615 non-null   float64\n",
      " 49  LTO_RATIO    1615 non-null   float64\n",
      " 50  WREB_RATE    1615 non-null   float64\n",
      " 51  LREB_RATE    1615 non-null   float64\n",
      " 52  WFT_RATE     1615 non-null   float64\n",
      " 53  LFT_RATE     1615 non-null   float64\n",
      " 54  WRATING      1615 non-null   float64\n",
      " 55  LRATING      1615 non-null   float64\n",
      "dtypes: float64(22), int64(33), object(1)\n",
      "memory usage: 719.2+ KB\n",
      "None\n",
      "feature cols after prepare()\n",
      "Index(['Season', 'DayNum', 'T1_TeamID', 'T1_Score', 'T2_TeamID', 'T2_Score',\n",
      "       'location', 'NumOT', 'T1_FGM', 'T1_FGA', 'T1_FGM3', 'T1_FGA3', 'T1_FTM',\n",
      "       'T1_FTA', 'T1_OR', 'T1_DR', 'T1_Ast', 'T1_TO', 'T1_Stl', 'T1_Blk',\n",
      "       'T1_PF', 'T2_FGM', 'T2_FGA', 'T2_FGM3', 'T2_FGA3', 'T2_FTM', 'T2_FTA',\n",
      "       'T2_OR', 'T2_DR', 'T2_Ast', 'T2_TO', 'T2_Stl', 'T2_Blk', 'T2_PF',\n",
      "       'T1_EFFG', 'T2_EFFG', 'T1_EFFG3', 'T2_EFFG3', 'T1_DARE', 'T2_DARE',\n",
      "       'T1_TOQUETOQUE', 'T2_TOQUETOQUE', 'T1_EFG_SUM', 'T2_EFG_SUM', 'T1_POSS',\n",
      "       'T2_POSS', 'T1_POSS_RATE', 'T2_POSS_RATE', 'T1_TO_RATIO', 'T2_TO_RATIO',\n",
      "       'T1_REB_RATE', 'T2_REB_RATE', 'T1_FT_RATE', 'T2_FT_RATE', 'T1_RATING',\n",
      "       'T2_RATING', 'PointDiff', 'win'],\n",
      "      dtype='object')\n",
      "no fillna, use nan\n"
     ]
    }
   ],
   "source": [
    "X, y = process_tourney(tourney_results)"
   ]
  },
  {
   "cell_type": "code",
   "execution_count": 15,
   "id": "d88c25de",
   "metadata": {
    "execution": {
     "iopub.execute_input": "2025-03-14T16:58:44.492211Z",
     "iopub.status.busy": "2025-03-14T16:58:44.492211Z",
     "iopub.status.idle": "2025-03-14T16:58:44.505522Z",
     "shell.execute_reply": "2025-03-14T16:58:44.505522Z"
    },
    "papermill": {
     "duration": 0.024396,
     "end_time": "2025-03-14T16:58:44.505522",
     "exception": false,
     "start_time": "2025-03-14T16:58:44.481126",
     "status": "completed"
    },
    "tags": []
   },
   "outputs": [
    {
     "name": "stdout",
     "output_type": "stream",
     "text": [
      "drop col list: ['T1_TOmean', 'T2_TOmean', 'T1_opponent_POSS_RATEmean', 'T2_opponent_POSS_RATEmean', 'T1_opponent_Astmean', 'T2_opponent_Astmean', 'T1_opponent_FT_RATEmean', 'T2_opponent_FT_RATEmean', 'T1_opponent_Stlmean', 'T2_opponent_Stlmean', 'T1_ORmean', 'T2_ORmean', 'T1_opponent_ORmean', 'T2_opponent_ORmean', 'T1_TeamID']\n"
     ]
    }
   ],
   "source": [
    "#opponentなど明示的に特徴量選出に基づいて落とす\n",
    "def drop_columns(df, cols):\n",
    "    if not cols: return df\n",
    "    existing_cols = [col for col in cols if col in df.columns]\n",
    "    print(f\"drop col list: {existing_cols}\")\n",
    "    return df.drop(columns=existing_cols)\n",
    "\n",
    "drop_col = FEATURES.dropfeatures\n",
    "X = drop_columns(X, drop_col)"
   ]
  },
  {
   "cell_type": "code",
   "execution_count": 16,
   "id": "1dfc2d44",
   "metadata": {
    "execution": {
     "iopub.execute_input": "2025-03-14T16:58:44.514596Z",
     "iopub.status.busy": "2025-03-14T16:58:44.514596Z",
     "iopub.status.idle": "2025-03-14T16:58:44.528355Z",
     "shell.execute_reply": "2025-03-14T16:58:44.528355Z"
    },
    "papermill": {
     "duration": 0.015827,
     "end_time": "2025-03-14T16:58:44.530423",
     "exception": false,
     "start_time": "2025-03-14T16:58:44.514596",
     "status": "completed"
    },
    "tags": []
   },
   "outputs": [
    {
     "name": "stdout",
     "output_type": "stream",
     "text": [
      "最終的な X の特徴量\n",
      "Index(['Season', 'T2_TeamID', 'T1_Scoremean', 'T1_opponent_Scoremean',\n",
      "       'T1_PointDiffmean', 'T1_FGMmean', 'T1_opponent_FGMmean', 'T1_FGAmean',\n",
      "       'T1_opponent_FGAmean', 'T1_EFG_SUMmean', 'T1_opponent_EFG_SUMmean',\n",
      "       'T1_TO_RATIOmean', 'T1_opponent_TO_RATIOmean', 'T1_DRmean',\n",
      "       'T1_opponent_DRmean', 'T1_REB_RATEmean', 'T1_opponent_REB_RATEmean',\n",
      "       'T1_FT_RATEmean', 'T1_POSS_RATEmean', 'T1_Astmean',\n",
      "       'T1_opponent_TOmean', 'T1_Stlmean', 'T1_Blkmean', 'T1_opponent_Blkmean',\n",
      "       'T1_PFmean', 'T1_opponent_PFmean', 'T2_Scoremean',\n",
      "       'T2_opponent_Scoremean', 'T2_PointDiffmean', 'T2_FGMmean',\n",
      "       'T2_opponent_FGMmean', 'T2_FGAmean', 'T2_opponent_FGAmean',\n",
      "       'T2_EFG_SUMmean', 'T2_opponent_EFG_SUMmean', 'T2_TO_RATIOmean',\n",
      "       'T2_opponent_TO_RATIOmean', 'T2_DRmean', 'T2_opponent_DRmean',\n",
      "       'T2_REB_RATEmean', 'T2_opponent_REB_RATEmean', 'T2_FT_RATEmean',\n",
      "       'T2_POSS_RATEmean', 'T2_Astmean', 'T2_opponent_TOmean', 'T2_Stlmean',\n",
      "       'T2_Blkmean', 'T2_opponent_Blkmean', 'T2_PFmean', 'T2_opponent_PFmean',\n",
      "       'seed_diff', 'rank_diff', 'quality_diff', 'win_ratio_14d_diff'],\n",
      "      dtype='object')\n"
     ]
    }
   ],
   "source": [
    "print(\"最終的な X の特徴量\")\n",
    "print(X.columns)"
   ]
  },
  {
   "cell_type": "code",
   "execution_count": 17,
   "id": "c4b6fde6",
   "metadata": {
    "execution": {
     "iopub.execute_input": "2025-03-14T16:58:44.546431Z",
     "iopub.status.busy": "2025-03-14T16:58:44.546431Z",
     "iopub.status.idle": "2025-03-14T16:58:44.553988Z",
     "shell.execute_reply": "2025-03-14T16:58:44.553988Z"
    },
    "papermill": {
     "duration": 0.025572,
     "end_time": "2025-03-14T16:58:44.555995",
     "exception": false,
     "start_time": "2025-03-14T16:58:44.530423",
     "status": "completed"
    },
    "tags": []
   },
   "outputs": [
    {
     "name": "stdout",
     "output_type": "stream",
     "text": [
      "<class 'pandas.core.frame.DataFrame'>\n",
      "RangeIndex: 3230 entries, 0 to 3229\n",
      "Data columns (total 54 columns):\n",
      " #   Column                    Non-Null Count  Dtype  \n",
      "---  ------                    --------------  -----  \n",
      " 0   Season                    3230 non-null   int64  \n",
      " 1   T2_TeamID                 3230 non-null   int64  \n",
      " 2   T1_Scoremean              3230 non-null   float64\n",
      " 3   T1_opponent_Scoremean     3230 non-null   float64\n",
      " 4   T1_PointDiffmean          3230 non-null   float64\n",
      " 5   T1_FGMmean                3230 non-null   float64\n",
      " 6   T1_opponent_FGMmean       3230 non-null   float64\n",
      " 7   T1_FGAmean                3230 non-null   float64\n",
      " 8   T1_opponent_FGAmean       3230 non-null   float64\n",
      " 9   T1_EFG_SUMmean            3230 non-null   float64\n",
      " 10  T1_opponent_EFG_SUMmean   3230 non-null   float64\n",
      " 11  T1_TO_RATIOmean           3230 non-null   float64\n",
      " 12  T1_opponent_TO_RATIOmean  3230 non-null   float64\n",
      " 13  T1_DRmean                 3230 non-null   float64\n",
      " 14  T1_opponent_DRmean        3230 non-null   float64\n",
      " 15  T1_REB_RATEmean           3230 non-null   float64\n",
      " 16  T1_opponent_REB_RATEmean  3230 non-null   float64\n",
      " 17  T1_FT_RATEmean            3230 non-null   float64\n",
      " 18  T1_POSS_RATEmean          3230 non-null   float64\n",
      " 19  T1_Astmean                3230 non-null   float64\n",
      " 20  T1_opponent_TOmean        3230 non-null   float64\n",
      " 21  T1_Stlmean                3230 non-null   float64\n",
      " 22  T1_Blkmean                3230 non-null   float64\n",
      " 23  T1_opponent_Blkmean       3230 non-null   float64\n",
      " 24  T1_PFmean                 3230 non-null   float64\n",
      " 25  T1_opponent_PFmean        3230 non-null   float64\n",
      " 26  T2_Scoremean              3230 non-null   float64\n",
      " 27  T2_opponent_Scoremean     3230 non-null   float64\n",
      " 28  T2_PointDiffmean          3230 non-null   float64\n",
      " 29  T2_FGMmean                3230 non-null   float64\n",
      " 30  T2_opponent_FGMmean       3230 non-null   float64\n",
      " 31  T2_FGAmean                3230 non-null   float64\n",
      " 32  T2_opponent_FGAmean       3230 non-null   float64\n",
      " 33  T2_EFG_SUMmean            3230 non-null   float64\n",
      " 34  T2_opponent_EFG_SUMmean   3230 non-null   float64\n",
      " 35  T2_TO_RATIOmean           3230 non-null   float64\n",
      " 36  T2_opponent_TO_RATIOmean  3230 non-null   float64\n",
      " 37  T2_DRmean                 3230 non-null   float64\n",
      " 38  T2_opponent_DRmean        3230 non-null   float64\n",
      " 39  T2_REB_RATEmean           3230 non-null   float64\n",
      " 40  T2_opponent_REB_RATEmean  3230 non-null   float64\n",
      " 41  T2_FT_RATEmean            3230 non-null   float64\n",
      " 42  T2_POSS_RATEmean          3230 non-null   float64\n",
      " 43  T2_Astmean                3230 non-null   float64\n",
      " 44  T2_opponent_TOmean        3230 non-null   float64\n",
      " 45  T2_Stlmean                3230 non-null   float64\n",
      " 46  T2_Blkmean                3230 non-null   float64\n",
      " 47  T2_opponent_Blkmean       3230 non-null   float64\n",
      " 48  T2_PFmean                 3230 non-null   float64\n",
      " 49  T2_opponent_PFmean        3230 non-null   float64\n",
      " 50  seed_diff                 3230 non-null   float64\n",
      " 51  rank_diff                 2096 non-null   float64\n",
      " 52  quality_diff              3230 non-null   float64\n",
      " 53  win_ratio_14d_diff        3230 non-null   float64\n",
      "dtypes: float64(52), int64(2)\n",
      "memory usage: 1.3 MB\n"
     ]
    }
   ],
   "source": [
    "X.info()"
   ]
  },
  {
   "cell_type": "markdown",
   "id": "ede00bd0",
   "metadata": {
    "papermill": {
     "duration": 0.0,
     "end_time": "2025-03-14T16:58:44.562019",
     "exception": false,
     "start_time": "2025-03-14T16:58:44.562019",
     "status": "completed"
    },
    "tags": []
   },
   "source": [
    "# build models"
   ]
  },
  {
   "cell_type": "code",
   "execution_count": 18,
   "id": "68f03730",
   "metadata": {
    "execution": {
     "iopub.execute_input": "2025-03-14T16:58:44.591811Z",
     "iopub.status.busy": "2025-03-14T16:58:44.589802Z",
     "iopub.status.idle": "2025-03-14T16:58:44.608569Z",
     "shell.execute_reply": "2025-03-14T16:58:44.608569Z"
    },
    "papermill": {
     "duration": 0.026804,
     "end_time": "2025-03-14T16:58:44.608569",
     "exception": false,
     "start_time": "2025-03-14T16:58:44.581765",
     "status": "completed"
    },
    "tags": []
   },
   "outputs": [],
   "source": [
    "\n",
    "val_mae = []\n",
    "iteration_counts = []\n",
    "xgb_cv = []\n",
    "dtrain = xgb.DMatrix(X, label=y)\n",
    "\n",
    "repeat_cv = MODEL.repeat_cv\n",
    "param = dict(MODEL.xgb_model.param)\n",
    "num_boost_round = MODEL.xgb_model.num_boost_round\n",
    "folds_splits = MODEL.xgb_model.folds_splits\n",
    "early_stopping_rounds = MODEL.xgb_model.early_stopping_rounds\n",
    "\n",
    "# コーシー損失関数\n",
    "def cauchyobj(preds, dtrain):\n",
    "    labels = dtrain.get_label()\n",
    "    c = 5000\n",
    "    x = preds - labels    \n",
    "    grad = x / (x**2/c**2 + 1)\n",
    "    hess = -c**2 * (x**2 - c**2) / (x**2 + c**2)**2\n",
    "    return grad, hess"
   ]
  },
  {
   "cell_type": "code",
   "execution_count": 19,
   "id": "5d69bbfc",
   "metadata": {
    "execution": {
     "iopub.execute_input": "2025-03-14T16:58:44.637473Z",
     "iopub.status.busy": "2025-03-14T16:58:44.637473Z",
     "iopub.status.idle": "2025-03-14T16:58:44.650184Z",
     "shell.execute_reply": "2025-03-14T16:58:44.650184Z"
    },
    "papermill": {
     "duration": 0.03018,
     "end_time": "2025-03-14T16:58:44.652188",
     "exception": false,
     "start_time": "2025-03-14T16:58:44.622008",
     "status": "completed"
    },
    "tags": []
   },
   "outputs": [],
   "source": [
    "#########################################\n",
    "# 1. Optunaあり：ハイパーパラメータ最適化 #\n",
    "#########################################\n",
    "def run_optuna_optimization(param, optuna_conf):\n",
    "    def objective(trial):  \n",
    "        logger.info(f\"Trial {trial.number} 開始\")\n",
    "        \n",
    "        current_param = param.copy()  \n",
    "        max_depth_range = optuna_conf.max_depth        \n",
    "        eta_range = optuna_conf.eta\n",
    "        subsample_range = optuna_conf.subsample          \n",
    "        colsample_bytree_range = optuna_conf.colsample_bytree\n",
    "        num_parallel_tree_range = optuna_conf.num_parallel_tree \n",
    "        min_child_weight_range = optuna_conf.min_child_weight \n",
    "        reg_alpha_range = optuna_conf.reg_alpha         \n",
    "        reg_lambda_range = optuna_conf.reg_lambda    \n",
    "        reg_gamma_range = optuna_conf.gamma  \n",
    "\n",
    "        current_param[\"max_depth\"] = trial.suggest_int(\"max_depth\", max_depth_range[0], max_depth_range[1])\n",
    "        current_param[\"eta\"] = trial.suggest_float(\"eta\", eta_range[0], eta_range[1], log=True)\n",
    "        current_param[\"subsample\"] = trial.suggest_float(\"subsample\", subsample_range[0], subsample_range[1])\n",
    "        current_param[\"colsample_bytree\"] = trial.suggest_float(\"colsample_bytree\", colsample_bytree_range[0], colsample_bytree_range[1])\n",
    "        current_param[\"num_parallel_tree\"] = trial.suggest_int(\"num_parallel_tree\", num_parallel_tree_range[0], num_parallel_tree_range[1])\n",
    "        current_param[\"min_child_weight\"] = trial.suggest_int(\"min_child_weight\", min_child_weight_range[0], min_child_weight_range[1])\n",
    "        current_param[\"reg_alpha\"] = trial.suggest_float(\"reg_alpha\", reg_alpha_range[0], reg_alpha_range[1])\n",
    "        current_param[\"reg_lambda\"] = trial.suggest_float(\"reg_lambda\", reg_lambda_range[0], reg_lambda_range[1])\n",
    "        current_param[\"gamma\"] = trial.suggest_float(\"gamma\", reg_gamma_range[0], reg_gamma_range[1])\n",
    "        \n",
    "        if current_param.get(\"eval_metric\", \"mae\") == \"rmse\":\n",
    "            score_name = \"test-rmse-mean\"\n",
    "        elif current_param.get(\"eval_metric\", \"mae\") == \"mae\":\n",
    "            score_name = \"test-mae-mean\"\n",
    "        elif  current_param.get(\"eval_metric\", \"mae\") == \"logloss\":\n",
    "            score_name = \"test-logloss-mean\"\n",
    "        \n",
    "        print(current_param)  \n",
    "        cv_scores = []\n",
    "        for i in range(repeat_cv):\n",
    "            cv_result = xgb.cv(\n",
    "                params=current_param,\n",
    "                dtrain=dtrain,\n",
    "                obj=cauchyobj,\n",
    "                num_boost_round=num_boost_round,\n",
    "                folds=KFold(n_splits=folds_splits, shuffle=True, random_state=i),\n",
    "                early_stopping_rounds=early_stopping_rounds,\n",
    "                verbose_eval=False\n",
    "            )\n",
    "            fold_score = np.min(cv_result[score_name].values)\n",
    "            cv_scores.append(fold_score)\n",
    "        mean_score = np.mean(cv_scores)\n",
    "        logger.info(f\"Trial {trial.number} 終了: スコア {mean_score}\")\n",
    "        \n",
    "        return mean_score\n",
    "\n",
    "    logger.info(\"Optuna最適化開始\")\n",
    "    N_WARMUP_STEPS = optuna_conf.n_warmup_steps\n",
    "    TIMEOUT = optuna_conf.timeout\n",
    "    N_JOBS = optuna_conf.n_jobs\n",
    "    N_TRIALS = optuna_conf.n_trials\n",
    "    \n",
    "    sampler = optuna.samplers.TPESampler(seed=42)\n",
    "    pruner = optuna.pruners.MedianPruner(n_warmup_steps=N_WARMUP_STEPS)\n",
    "\n",
    "    study = optuna.create_study(direction=\"minimize\", sampler=sampler, pruner=pruner)\n",
    "    study.optimize(objective, n_trials=N_TRIALS, timeout=TIMEOUT, n_jobs=N_JOBS)\n",
    "\n",
    "    best_trial = study.best_trial\n",
    "    logger.info(\"Best trial:\")\n",
    "    logger.info(f\"  Value: {best_trial.value}\")\n",
    "    \n",
    "    for key, value in best_trial.params.items():\n",
    "        print(f\"    {key}: {value}\")\n",
    "    param.update(best_trial.params)\n",
    "\n",
    "    logger.info(\"Optuna最適化終了\")\n",
    "    return param"
   ]
  },
  {
   "cell_type": "code",
   "execution_count": 20,
   "id": "4a3b5685",
   "metadata": {
    "execution": {
     "iopub.execute_input": "2025-03-14T16:58:44.679646Z",
     "iopub.status.busy": "2025-03-14T16:58:44.678988Z",
     "iopub.status.idle": "2025-03-14T16:58:44.684903Z",
     "shell.execute_reply": "2025-03-14T16:58:44.684903Z"
    },
    "papermill": {
     "duration": 0.021267,
     "end_time": "2025-03-14T16:58:44.686486",
     "exception": false,
     "start_time": "2025-03-14T16:58:44.665219",
     "status": "completed"
    },
    "tags": []
   },
   "outputs": [
    {
     "name": "stdout",
     "output_type": "stream",
     "text": [
      "not use Optuna, use xgb_model.param\n",
      "param: {'eval_metric': 'rmse', 'booster': 'gbtree', 'eta': 0.02, 'subsample': 0.35, 'colsample_bytree': 0.7, 'num_parallel_tree': 10, 'min_child_weight': 40, 'gamma': 10, 'max_depth': 3}\n",
      "repeat_cv: 10\n",
      "num_boost_round: 3000\n",
      "folds_splits: 5\n",
      "early_stopping_rounds: 25\n"
     ]
    }
   ],
   "source": [
    "IS_OPTUNA = MODEL.optuna_enabled\n",
    "if IS_OPTUNA:\n",
    "    print(\"Optuna use mode\") \n",
    "    optuna_conf = MODEL.xgb_model.optuna\n",
    "    logger.add(os.path.join(OUTPUT_PATH, \"results.log\"), format=\"{time:YYYY-MM-DD at HH:mm:ss} - {level} - {message}\", level=\"INFO\")\n",
    "    param = run_optuna_optimization(param, optuna_conf)\n",
    "    print(\"param updated by optuna\")\n",
    "    results+= [\"param set after optuna is below\", f\"{param}\", \"\"]\n",
    "else:    \n",
    "    print(\"not use Optuna, use xgb_model.param\")\n",
    "\n",
    "\n",
    "\n",
    "print(\"param:\", param)\n",
    "print(\"repeat_cv:\", repeat_cv)\n",
    "print(\"num_boost_round:\", num_boost_round)\n",
    "print(\"folds_splits:\", folds_splits)\n",
    "print(\"early_stopping_rounds:\", early_stopping_rounds)"
   ]
  },
  {
   "cell_type": "code",
   "execution_count": 21,
   "id": "14cbe00e",
   "metadata": {
    "execution": {
     "iopub.execute_input": "2025-03-14T16:58:44.712416Z",
     "iopub.status.busy": "2025-03-14T16:58:44.711391Z",
     "iopub.status.idle": "2025-03-14T17:02:35.986110Z",
     "shell.execute_reply": "2025-03-14T17:02:35.986110Z"
    },
    "papermill": {
     "duration": 231.28578,
     "end_time": "2025-03-14T17:02:35.986110",
     "exception": false,
     "start_time": "2025-03-14T16:58:44.700330",
     "status": "completed"
    },
    "tags": []
   },
   "outputs": [
    {
     "name": "stderr",
     "output_type": "stream",
     "text": [
      "\r",
      "  0%|                                                                                                                                                            | 0/10 [00:00<?, ?it/s]"
     ]
    },
    {
     "name": "stdout",
     "output_type": "stream",
     "text": [
      "[0]\ttrain-rmse:17.09700+0.03178\ttest-rmse:17.09989+0.13413\n"
     ]
    },
    {
     "name": "stdout",
     "output_type": "stream",
     "text": [
      "[50]\ttrain-rmse:13.09147+0.05174\ttest-rmse:13.29419+0.17693\n"
     ]
    },
    {
     "name": "stdout",
     "output_type": "stream",
     "text": [
      "[100]\ttrain-rmse:11.98750+0.04670\ttest-rmse:12.36150+0.19070\n"
     ]
    },
    {
     "name": "stdout",
     "output_type": "stream",
     "text": [
      "[150]\ttrain-rmse:11.56889+0.04632\ttest-rmse:12.09445+0.18199\n"
     ]
    },
    {
     "name": "stdout",
     "output_type": "stream",
     "text": [
      "[200]\ttrain-rmse:11.31091+0.04484\ttest-rmse:11.98469+0.18109\n"
     ]
    },
    {
     "name": "stdout",
     "output_type": "stream",
     "text": [
      "[250]\ttrain-rmse:11.11508+0.04309\ttest-rmse:11.92529+0.18049\n"
     ]
    },
    {
     "name": "stdout",
     "output_type": "stream",
     "text": [
      "[300]\ttrain-rmse:10.94631+0.04255\ttest-rmse:11.89011+0.17950\n"
     ]
    },
    {
     "name": "stdout",
     "output_type": "stream",
     "text": [
      "[350]\ttrain-rmse:10.79419+0.04095\ttest-rmse:11.87327+0.17378\n"
     ]
    },
    {
     "name": "stdout",
     "output_type": "stream",
     "text": [
      "[400]\ttrain-rmse:10.65802+0.04063\ttest-rmse:11.86186+0.17288\n"
     ]
    },
    {
     "name": "stdout",
     "output_type": "stream",
     "text": [
      "[450]\ttrain-rmse:10.52811+0.04052\ttest-rmse:11.85686+0.17081\n"
     ]
    },
    {
     "name": "stdout",
     "output_type": "stream",
     "text": [
      "[480]\ttrain-rmse:10.45487+0.03964\ttest-rmse:11.85610+0.17157\n"
     ]
    },
    {
     "name": "stderr",
     "output_type": "stream",
     "text": [
      "\r",
      " 10%|██████████████▊                                                                                                                                     | 1/10 [00:18<02:46, 18.51s/it]"
     ]
    },
    {
     "name": "stdout",
     "output_type": "stream",
     "text": [
      "[0]\ttrain-rmse:17.09559+0.15609\ttest-rmse:17.08895+0.62623\n"
     ]
    },
    {
     "name": "stdout",
     "output_type": "stream",
     "text": [
      "[50]\ttrain-rmse:13.08897+0.10460\ttest-rmse:13.27716+0.50634\n"
     ]
    },
    {
     "name": "stdout",
     "output_type": "stream",
     "text": [
      "[100]\ttrain-rmse:11.98649+0.10003\ttest-rmse:12.34041+0.43595\n"
     ]
    },
    {
     "name": "stdout",
     "output_type": "stream",
     "text": [
      "[150]\ttrain-rmse:11.56903+0.10080\ttest-rmse:12.06515+0.40941\n"
     ]
    },
    {
     "name": "stdout",
     "output_type": "stream",
     "text": [
      "[200]\ttrain-rmse:11.31236+0.10028\ttest-rmse:11.95341+0.40242\n"
     ]
    },
    {
     "name": "stdout",
     "output_type": "stream",
     "text": [
      "[250]\ttrain-rmse:11.11588+0.09865\ttest-rmse:11.89480+0.39707\n"
     ]
    },
    {
     "name": "stdout",
     "output_type": "stream",
     "text": [
      "[300]\ttrain-rmse:10.94748+0.10012\ttest-rmse:11.86172+0.39533\n"
     ]
    },
    {
     "name": "stdout",
     "output_type": "stream",
     "text": [
      "[350]\ttrain-rmse:10.79723+0.10021\ttest-rmse:11.84372+0.39397\n"
     ]
    },
    {
     "name": "stdout",
     "output_type": "stream",
     "text": [
      "[400]\ttrain-rmse:10.66119+0.10066\ttest-rmse:11.83118+0.39054\n"
     ]
    },
    {
     "name": "stdout",
     "output_type": "stream",
     "text": [
      "[450]\ttrain-rmse:10.53279+0.10054\ttest-rmse:11.82470+0.39194\n"
     ]
    },
    {
     "name": "stdout",
     "output_type": "stream",
     "text": [
      "[485]\ttrain-rmse:10.44674+0.09926\ttest-rmse:11.82457+0.39627\n"
     ]
    },
    {
     "name": "stderr",
     "output_type": "stream",
     "text": [
      "\r",
      " 20%|█████████████████████████████▌                                                                                                                      | 2/10 [00:39<02:38, 19.85s/it]"
     ]
    },
    {
     "name": "stdout",
     "output_type": "stream",
     "text": [
      "[0]\ttrain-rmse:17.09636+0.11920\ttest-rmse:17.09232+0.49364\n"
     ]
    },
    {
     "name": "stdout",
     "output_type": "stream",
     "text": [
      "[50]\ttrain-rmse:13.09204+0.07611\ttest-rmse:13.26835+0.35873\n"
     ]
    },
    {
     "name": "stdout",
     "output_type": "stream",
     "text": [
      "[100]\ttrain-rmse:11.98772+0.06556\ttest-rmse:12.32257+0.31034\n"
     ]
    },
    {
     "name": "stdout",
     "output_type": "stream",
     "text": [
      "[150]\ttrain-rmse:11.57096+0.06427\ttest-rmse:12.04961+0.29535\n"
     ]
    },
    {
     "name": "stdout",
     "output_type": "stream",
     "text": [
      "[200]\ttrain-rmse:11.31652+0.06318\ttest-rmse:11.93122+0.29011\n"
     ]
    },
    {
     "name": "stdout",
     "output_type": "stream",
     "text": [
      "[250]\ttrain-rmse:11.12091+0.06119\ttest-rmse:11.87149+0.28908\n"
     ]
    },
    {
     "name": "stdout",
     "output_type": "stream",
     "text": [
      "[300]\ttrain-rmse:10.95252+0.05965\ttest-rmse:11.84089+0.28278\n"
     ]
    },
    {
     "name": "stdout",
     "output_type": "stream",
     "text": [
      "[350]\ttrain-rmse:10.80313+0.06194\ttest-rmse:11.82191+0.27859\n"
     ]
    },
    {
     "name": "stdout",
     "output_type": "stream",
     "text": [
      "[400]\ttrain-rmse:10.66518+0.06108\ttest-rmse:11.81070+0.27421\n"
     ]
    },
    {
     "name": "stdout",
     "output_type": "stream",
     "text": [
      "[450]\ttrain-rmse:10.53765+0.06222\ttest-rmse:11.80446+0.26896\n"
     ]
    },
    {
     "name": "stdout",
     "output_type": "stream",
     "text": [
      "[500]\ttrain-rmse:10.41635+0.06092\ttest-rmse:11.80172+0.26432\n"
     ]
    },
    {
     "name": "stdout",
     "output_type": "stream",
     "text": [
      "[523]\ttrain-rmse:10.36167+0.06124\ttest-rmse:11.80346+0.26374\n"
     ]
    },
    {
     "name": "stderr",
     "output_type": "stream",
     "text": [
      "\r",
      " 30%|████████████████████████████████████████████▍                                                                                                       | 3/10 [01:02<02:28, 21.23s/it]"
     ]
    },
    {
     "name": "stdout",
     "output_type": "stream",
     "text": [
      "[0]\ttrain-rmse:17.09697+0.07518\ttest-rmse:17.09721+0.30689\n"
     ]
    },
    {
     "name": "stdout",
     "output_type": "stream",
     "text": [
      "[50]\ttrain-rmse:13.09473+0.04919\ttest-rmse:13.26758+0.30021\n"
     ]
    },
    {
     "name": "stdout",
     "output_type": "stream",
     "text": [
      "[100]\ttrain-rmse:11.99407+0.04952\ttest-rmse:12.32146+0.24857\n"
     ]
    },
    {
     "name": "stdout",
     "output_type": "stream",
     "text": [
      "[150]\ttrain-rmse:11.57814+0.05518\ttest-rmse:12.04519+0.22505\n"
     ]
    },
    {
     "name": "stdout",
     "output_type": "stream",
     "text": [
      "[200]\ttrain-rmse:11.32098+0.05664\ttest-rmse:11.92990+0.21883\n"
     ]
    },
    {
     "name": "stdout",
     "output_type": "stream",
     "text": [
      "[250]\ttrain-rmse:11.12647+0.05864\ttest-rmse:11.86773+0.21668\n"
     ]
    },
    {
     "name": "stdout",
     "output_type": "stream",
     "text": [
      "[300]\ttrain-rmse:10.95943+0.05972\ttest-rmse:11.83337+0.21801\n"
     ]
    },
    {
     "name": "stdout",
     "output_type": "stream",
     "text": [
      "[350]\ttrain-rmse:10.81045+0.06306\ttest-rmse:11.81120+0.21875\n"
     ]
    },
    {
     "name": "stdout",
     "output_type": "stream",
     "text": [
      "[400]\ttrain-rmse:10.67532+0.06527\ttest-rmse:11.79784+0.22575\n"
     ]
    },
    {
     "name": "stdout",
     "output_type": "stream",
     "text": [
      "[450]\ttrain-rmse:10.54733+0.06622\ttest-rmse:11.79227+0.22682\n"
     ]
    },
    {
     "name": "stdout",
     "output_type": "stream",
     "text": [
      "[500]\ttrain-rmse:10.42786+0.06715\ttest-rmse:11.78733+0.23328\n"
     ]
    },
    {
     "name": "stdout",
     "output_type": "stream",
     "text": [
      "[550]\ttrain-rmse:10.31156+0.07133\ttest-rmse:11.78456+0.23586\n"
     ]
    },
    {
     "name": "stdout",
     "output_type": "stream",
     "text": [
      "[589]\ttrain-rmse:10.22573+0.07109\ttest-rmse:11.78398+0.23989\n"
     ]
    },
    {
     "name": "stderr",
     "output_type": "stream",
     "text": [
      "\r",
      " 40%|███████████████████████████████████████████████████████████▏                                                                                        | 4/10 [01:28<02:18, 23.08s/it]"
     ]
    },
    {
     "name": "stdout",
     "output_type": "stream",
     "text": [
      "[0]\ttrain-rmse:17.09570+0.08304\ttest-rmse:17.09679+0.33714\n"
     ]
    },
    {
     "name": "stdout",
     "output_type": "stream",
     "text": [
      "[50]\ttrain-rmse:13.09401+0.10317\ttest-rmse:13.27992+0.48098\n"
     ]
    },
    {
     "name": "stdout",
     "output_type": "stream",
     "text": [
      "[100]\ttrain-rmse:11.98676+0.10046\ttest-rmse:12.33650+0.46750\n"
     ]
    },
    {
     "name": "stdout",
     "output_type": "stream",
     "text": [
      "[150]\ttrain-rmse:11.57098+0.09986\ttest-rmse:12.06252+0.44768\n"
     ]
    },
    {
     "name": "stdout",
     "output_type": "stream",
     "text": [
      "[200]\ttrain-rmse:11.31779+0.09843\ttest-rmse:11.94583+0.43380\n"
     ]
    },
    {
     "name": "stdout",
     "output_type": "stream",
     "text": [
      "[250]\ttrain-rmse:11.12320+0.09733\ttest-rmse:11.88736+0.42339\n"
     ]
    },
    {
     "name": "stdout",
     "output_type": "stream",
     "text": [
      "[300]\ttrain-rmse:10.95701+0.09686\ttest-rmse:11.84986+0.41567\n"
     ]
    },
    {
     "name": "stdout",
     "output_type": "stream",
     "text": [
      "[350]\ttrain-rmse:10.80867+0.09644\ttest-rmse:11.82833+0.40837\n"
     ]
    },
    {
     "name": "stdout",
     "output_type": "stream",
     "text": [
      "[400]\ttrain-rmse:10.67238+0.09568\ttest-rmse:11.81605+0.40303\n"
     ]
    },
    {
     "name": "stdout",
     "output_type": "stream",
     "text": [
      "[450]\ttrain-rmse:10.54351+0.09688\ttest-rmse:11.80720+0.39940\n"
     ]
    },
    {
     "name": "stdout",
     "output_type": "stream",
     "text": [
      "[500]\ttrain-rmse:10.42424+0.09598\ttest-rmse:11.80319+0.39649\n"
     ]
    },
    {
     "name": "stdout",
     "output_type": "stream",
     "text": [
      "[545]\ttrain-rmse:10.32153+0.09705\ttest-rmse:11.80303+0.39305\n"
     ]
    },
    {
     "name": "stderr",
     "output_type": "stream",
     "text": [
      "\r",
      " 50%|██████████████████████████████████████████████████████████████████████████                                                                          | 5/10 [01:51<01:56, 23.34s/it]"
     ]
    },
    {
     "name": "stdout",
     "output_type": "stream",
     "text": [
      "[0]\ttrain-rmse:17.09577+0.07370\ttest-rmse:17.09780+0.29903\n"
     ]
    },
    {
     "name": "stdout",
     "output_type": "stream",
     "text": [
      "[50]\ttrain-rmse:13.09562+0.06494\ttest-rmse:13.27032+0.25571\n"
     ]
    },
    {
     "name": "stdout",
     "output_type": "stream",
     "text": [
      "[100]\ttrain-rmse:11.99073+0.06802\ttest-rmse:12.31846+0.26184\n"
     ]
    },
    {
     "name": "stdout",
     "output_type": "stream",
     "text": [
      "[150]\ttrain-rmse:11.57502+0.06594\ttest-rmse:12.03965+0.26294\n"
     ]
    },
    {
     "name": "stdout",
     "output_type": "stream",
     "text": [
      "[200]\ttrain-rmse:11.31883+0.06467\ttest-rmse:11.92262+0.25774\n"
     ]
    },
    {
     "name": "stdout",
     "output_type": "stream",
     "text": [
      "[250]\ttrain-rmse:11.12100+0.06408\ttest-rmse:11.86501+0.25710\n"
     ]
    },
    {
     "name": "stdout",
     "output_type": "stream",
     "text": [
      "[300]\ttrain-rmse:10.95394+0.06600\ttest-rmse:11.83401+0.25219\n"
     ]
    },
    {
     "name": "stdout",
     "output_type": "stream",
     "text": [
      "[350]\ttrain-rmse:10.80397+0.06870\ttest-rmse:11.81273+0.25119\n"
     ]
    },
    {
     "name": "stdout",
     "output_type": "stream",
     "text": [
      "[400]\ttrain-rmse:10.66694+0.07024\ttest-rmse:11.80127+0.24914\n"
     ]
    },
    {
     "name": "stdout",
     "output_type": "stream",
     "text": [
      "[450]\ttrain-rmse:10.53960+0.07245\ttest-rmse:11.79566+0.24998\n"
     ]
    },
    {
     "name": "stdout",
     "output_type": "stream",
     "text": [
      "[500]\ttrain-rmse:10.41866+0.07423\ttest-rmse:11.79368+0.24949\n"
     ]
    },
    {
     "name": "stdout",
     "output_type": "stream",
     "text": [
      "[550]\ttrain-rmse:10.30418+0.07447\ttest-rmse:11.79035+0.25263\n"
     ]
    },
    {
     "name": "stdout",
     "output_type": "stream",
     "text": [
      "[552]\ttrain-rmse:10.29975+0.07450\ttest-rmse:11.79039+0.25284\n"
     ]
    },
    {
     "name": "stderr",
     "output_type": "stream",
     "text": [
      "\r",
      " 60%|████████████████████████████████████████████████████████████████████████████████████████▊                                                           | 6/10 [02:16<01:34, 23.63s/it]"
     ]
    },
    {
     "name": "stdout",
     "output_type": "stream",
     "text": [
      "[0]\ttrain-rmse:17.09681+0.10060\ttest-rmse:17.09612+0.40078\n"
     ]
    },
    {
     "name": "stdout",
     "output_type": "stream",
     "text": [
      "[50]\ttrain-rmse:13.09684+0.02161\ttest-rmse:13.29058+0.16995\n"
     ]
    },
    {
     "name": "stdout",
     "output_type": "stream",
     "text": [
      "[100]\ttrain-rmse:11.98660+0.01751\ttest-rmse:12.34188+0.10312\n"
     ]
    },
    {
     "name": "stdout",
     "output_type": "stream",
     "text": [
      "[150]\ttrain-rmse:11.56821+0.02664\ttest-rmse:12.06952+0.11689\n"
     ]
    },
    {
     "name": "stdout",
     "output_type": "stream",
     "text": [
      "[200]\ttrain-rmse:11.31419+0.02791\ttest-rmse:11.95679+0.13666\n"
     ]
    },
    {
     "name": "stdout",
     "output_type": "stream",
     "text": [
      "[250]\ttrain-rmse:11.11833+0.03099\ttest-rmse:11.89401+0.14795\n"
     ]
    },
    {
     "name": "stdout",
     "output_type": "stream",
     "text": [
      "[300]\ttrain-rmse:10.95299+0.02970\ttest-rmse:11.85833+0.15336\n"
     ]
    },
    {
     "name": "stdout",
     "output_type": "stream",
     "text": [
      "[350]\ttrain-rmse:10.80524+0.03001\ttest-rmse:11.83803+0.15555\n"
     ]
    },
    {
     "name": "stdout",
     "output_type": "stream",
     "text": [
      "[400]\ttrain-rmse:10.66994+0.02977\ttest-rmse:11.82509+0.15747\n"
     ]
    },
    {
     "name": "stdout",
     "output_type": "stream",
     "text": [
      "[450]\ttrain-rmse:10.54240+0.02930\ttest-rmse:11.81938+0.16087\n"
     ]
    },
    {
     "name": "stdout",
     "output_type": "stream",
     "text": [
      "[500]\ttrain-rmse:10.42058+0.03120\ttest-rmse:11.81697+0.16247\n"
     ]
    },
    {
     "name": "stdout",
     "output_type": "stream",
     "text": [
      "[547]\ttrain-rmse:10.31207+0.03087\ttest-rmse:11.81727+0.15955\n"
     ]
    },
    {
     "name": "stderr",
     "output_type": "stream",
     "text": [
      "\r",
      " 70%|███████████████████████████████████████████████████████████████████████████████████████████████████████▌                                            | 7/10 [02:40<01:11, 23.76s/it]"
     ]
    },
    {
     "name": "stdout",
     "output_type": "stream",
     "text": [
      "[0]\ttrain-rmse:17.09494+0.20731\ttest-rmse:17.08056+0.81201\n"
     ]
    },
    {
     "name": "stdout",
     "output_type": "stream",
     "text": [
      "[50]\ttrain-rmse:13.08802+0.11993\ttest-rmse:13.27475+0.69332\n"
     ]
    },
    {
     "name": "stdout",
     "output_type": "stream",
     "text": [
      "[100]\ttrain-rmse:11.98145+0.09906\ttest-rmse:12.34798+0.56928\n"
     ]
    },
    {
     "name": "stdout",
     "output_type": "stream",
     "text": [
      "[150]\ttrain-rmse:11.56033+0.09661\ttest-rmse:12.08854+0.51677\n"
     ]
    },
    {
     "name": "stdout",
     "output_type": "stream",
     "text": [
      "[200]\ttrain-rmse:11.30174+0.09525\ttest-rmse:11.98083+0.48769\n"
     ]
    },
    {
     "name": "stdout",
     "output_type": "stream",
     "text": [
      "[250]\ttrain-rmse:11.10823+0.09709\ttest-rmse:11.93011+0.46333\n"
     ]
    },
    {
     "name": "stdout",
     "output_type": "stream",
     "text": [
      "[300]\ttrain-rmse:10.93868+0.09754\ttest-rmse:11.90581+0.44974\n"
     ]
    },
    {
     "name": "stdout",
     "output_type": "stream",
     "text": [
      "[350]\ttrain-rmse:10.78811+0.09948\ttest-rmse:11.89005+0.43972\n"
     ]
    },
    {
     "name": "stdout",
     "output_type": "stream",
     "text": [
      "[400]\ttrain-rmse:10.64847+0.10053\ttest-rmse:11.88131+0.43370\n"
     ]
    },
    {
     "name": "stdout",
     "output_type": "stream",
     "text": [
      "[446]\ttrain-rmse:10.53128+0.10189\ttest-rmse:11.87964+0.43042\n"
     ]
    },
    {
     "name": "stderr",
     "output_type": "stream",
     "text": [
      "\r",
      " 80%|██████████████████████████████████████████████████████████████████████████████████████████████████████████████████████▍                             | 8/10 [03:00<00:45, 22.68s/it]"
     ]
    },
    {
     "name": "stdout",
     "output_type": "stream",
     "text": [
      "[0]\ttrain-rmse:17.09567+0.19980\ttest-rmse:17.08040+0.83819\n"
     ]
    },
    {
     "name": "stdout",
     "output_type": "stream",
     "text": [
      "[50]\ttrain-rmse:13.08956+0.11536\ttest-rmse:13.28263+0.68637\n"
     ]
    },
    {
     "name": "stdout",
     "output_type": "stream",
     "text": [
      "[100]\ttrain-rmse:11.98221+0.08716\ttest-rmse:12.35588+0.52290\n"
     ]
    },
    {
     "name": "stdout",
     "output_type": "stream",
     "text": [
      "[150]\ttrain-rmse:11.56383+0.07517\ttest-rmse:12.08999+0.43072\n"
     ]
    },
    {
     "name": "stdout",
     "output_type": "stream",
     "text": [
      "[200]\ttrain-rmse:11.31017+0.07080\ttest-rmse:11.97881+0.37826\n"
     ]
    },
    {
     "name": "stdout",
     "output_type": "stream",
     "text": [
      "[250]\ttrain-rmse:11.11459+0.06991\ttest-rmse:11.92162+0.34419\n"
     ]
    },
    {
     "name": "stdout",
     "output_type": "stream",
     "text": [
      "[300]\ttrain-rmse:10.94970+0.07189\ttest-rmse:11.88904+0.32571\n"
     ]
    },
    {
     "name": "stdout",
     "output_type": "stream",
     "text": [
      "[350]\ttrain-rmse:10.79899+0.07176\ttest-rmse:11.86970+0.31395\n"
     ]
    },
    {
     "name": "stdout",
     "output_type": "stream",
     "text": [
      "[400]\ttrain-rmse:10.66376+0.07383\ttest-rmse:11.85626+0.31006\n"
     ]
    },
    {
     "name": "stdout",
     "output_type": "stream",
     "text": [
      "[450]\ttrain-rmse:10.53477+0.07322\ttest-rmse:11.84825+0.30162\n"
     ]
    },
    {
     "name": "stdout",
     "output_type": "stream",
     "text": [
      "[500]\ttrain-rmse:10.41394+0.07546\ttest-rmse:11.84160+0.29831\n"
     ]
    },
    {
     "name": "stdout",
     "output_type": "stream",
     "text": [
      "[539]\ttrain-rmse:10.32423+0.07493\ttest-rmse:11.84442+0.29376\n"
     ]
    },
    {
     "name": "stderr",
     "output_type": "stream",
     "text": [
      "\r",
      " 90%|█████████████████████████████████████████████████████████████████████████████████████████████████████████████████████████████████████▏              | 9/10 [03:24<00:22, 22.99s/it]"
     ]
    },
    {
     "name": "stdout",
     "output_type": "stream",
     "text": [
      "[0]\ttrain-rmse:17.09707+0.13550\ttest-rmse:17.09221+0.55146\n"
     ]
    },
    {
     "name": "stdout",
     "output_type": "stream",
     "text": [
      "[50]\ttrain-rmse:13.09177+0.08938\ttest-rmse:13.27270+0.49710\n"
     ]
    },
    {
     "name": "stdout",
     "output_type": "stream",
     "text": [
      "[100]\ttrain-rmse:11.98949+0.08131\ttest-rmse:12.33426+0.41514\n"
     ]
    },
    {
     "name": "stdout",
     "output_type": "stream",
     "text": [
      "[150]\ttrain-rmse:11.57417+0.08454\ttest-rmse:12.06682+0.38315\n"
     ]
    },
    {
     "name": "stdout",
     "output_type": "stream",
     "text": [
      "[200]\ttrain-rmse:11.31923+0.08214\ttest-rmse:11.95003+0.36877\n"
     ]
    },
    {
     "name": "stdout",
     "output_type": "stream",
     "text": [
      "[250]\ttrain-rmse:11.12503+0.08105\ttest-rmse:11.88915+0.35799\n"
     ]
    },
    {
     "name": "stdout",
     "output_type": "stream",
     "text": [
      "[300]\ttrain-rmse:10.95903+0.08106\ttest-rmse:11.85438+0.35061\n"
     ]
    },
    {
     "name": "stdout",
     "output_type": "stream",
     "text": [
      "[350]\ttrain-rmse:10.81091+0.07896\ttest-rmse:11.83734+0.34443\n"
     ]
    },
    {
     "name": "stdout",
     "output_type": "stream",
     "text": [
      "[400]\ttrain-rmse:10.67442+0.07775\ttest-rmse:11.82385+0.33570\n"
     ]
    },
    {
     "name": "stdout",
     "output_type": "stream",
     "text": [
      "[450]\ttrain-rmse:10.54619+0.08011\ttest-rmse:11.81705+0.33228\n"
     ]
    },
    {
     "name": "stdout",
     "output_type": "stream",
     "text": [
      "[500]\ttrain-rmse:10.42557+0.07914\ttest-rmse:11.81454+0.32611\n"
     ]
    },
    {
     "name": "stdout",
     "output_type": "stream",
     "text": [
      "[550]\ttrain-rmse:10.31068+0.07864\ttest-rmse:11.81078+0.32107\n"
     ]
    },
    {
     "name": "stdout",
     "output_type": "stream",
     "text": [
      "[600]\ttrain-rmse:10.20123+0.07897\ttest-rmse:11.81148+0.31921\n"
     ]
    },
    {
     "name": "stdout",
     "output_type": "stream",
     "text": [
      "[602]\ttrain-rmse:10.19694+0.07880\ttest-rmse:11.81184+0.31952\n"
     ]
    },
    {
     "name": "stderr",
     "output_type": "stream",
     "text": [
      "\r",
      "100%|███████████████████████████████████████████████████████████████████████████████████████████████████████████████████████████████████████████████████| 10/10 [03:51<00:00, 24.21s/it]"
     ]
    },
    {
     "name": "stderr",
     "output_type": "stream",
     "text": [
      "\r",
      "100%|███████████████████████████████████████████████████████████████████████████████████████████████████████████████████████████████████████████████████| 10/10 [03:51<00:00, 23.11s/it]"
     ]
    },
    {
     "name": "stderr",
     "output_type": "stream",
     "text": [
      "\n"
     ]
    }
   ],
   "source": [
    "if param.get(\"eval_metric\", \"mae\") == \"rmse\":\n",
    "    score_key = \"test-rmse-mean\"\n",
    "    ylabel = \"Test RMSE Mean\"\n",
    "    title = \"Learning Curve: Test RMSE vs Boosting Rounds\"\n",
    "elif param.get(\"eval_metric\", \"mae\") == \"mae\":\n",
    "    score_key = \"test-mae-mean\"\n",
    "    ylabel = \"Test MAE Mean\"\n",
    "    title = \"Learning Curve: Test MAE vs Boosting Rounds\"\n",
    "elif param.get(\"eval_metric\", \"mae\") == \"logloss\":\n",
    "    score_key = \"test-logloss-mean\"\n",
    "    ylabel = \"Test Logloss Mean\"\n",
    "    title = \"Learning Curve: Test Logloss vs Boosting Rounds\"\n",
    "\n",
    "\n",
    "for i in tqdm(range(repeat_cv), leave=True, dynamic_ncols=True): \n",
    "    cv_result = xgb.cv(\n",
    "        params=param,\n",
    "        dtrain=dtrain,\n",
    "        obj=cauchyobj,\n",
    "        num_boost_round=num_boost_round,\n",
    "        folds=KFold(n_splits=folds_splits, shuffle=True, random_state=i),\n",
    "        early_stopping_rounds=early_stopping_rounds,\n",
    "        verbose_eval=50\n",
    "    )\n",
    "    \"\"\"\n",
    "    train-mae-mean: 各fold における訓練データの MAE の平均値。\n",
    "    train-mae-std: 訓練データの MAE の標準偏差。\n",
    "    test-mae-mean: 各fold における検証データの MAE の平均値。\n",
    "    test-mae-std: 検証データの MAE の標準偏差。\n",
    "    \"\"\"\n",
    "    xgb_cv.append(cv_result)\n",
    "    \n",
    "\n",
    "\n",
    "\n",
    "# 各 repeater ごとの最適ブーストラウンド数と検証MAE\n",
    "iteration_counts = [np.argmin(cv[score_key].values) for cv in xgb_cv]\n",
    "val_mae = [np.min(cv[score_key].values) for cv in xgb_cv]\n",
    "\n",
    "mean_iteration = np.mean(iteration_counts)\n",
    "mean_val_mae = np.mean(val_mae)\n",
    "min_val_mae = np.min(val_mae)\n",
    "results.append(f\"mean_iteration: {mean_iteration}\")\n",
    "results.append(f\"mean_val_{param['eval_metric']}: {mean_val_mae}\")\n",
    "results.append(f\"min_val_{param['eval_metric']}: {min_val_mae}\")\n",
    "results.append(\"\")\n",
    "\n",
    "###\n",
    "plt.figure(figsize=(10, 6))\n",
    "for i, cv_result in enumerate(xgb_cv):\n",
    "    rounds = np.arange(len(cv_result[score_key]))\n",
    "    plt.plot(rounds, cv_result[score_key], label=f\"CV repeater {i+1}\")\n",
    "    \n",
    "plt.xlabel(\"Boosting Round\")\n",
    "plt.ylabel(ylabel)\n",
    "plt.title(title)\n",
    "plt.legend()\n",
    "plt.grid(True)\n",
    "\n",
    "plt.savefig(os.path.join(OUTPUT_PATH, f\"learning_curve_{PREDICT_YEAR}.png\"))\n",
    "plt.close()\n",
    "###\n"
   ]
  },
  {
   "cell_type": "code",
   "execution_count": 22,
   "id": "51aaddba",
   "metadata": {
    "execution": {
     "iopub.execute_input": "2025-03-14T17:02:36.002083Z",
     "iopub.status.busy": "2025-03-14T17:02:36.002083Z",
     "iopub.status.idle": "2025-03-14T17:02:36.020338Z",
     "shell.execute_reply": "2025-03-14T17:02:36.020338Z"
    },
    "papermill": {
     "duration": 0.020617,
     "end_time": "2025-03-14T17:02:36.022700",
     "exception": false,
     "start_time": "2025-03-14T17:02:36.002083",
     "status": "completed"
    },
    "tags": []
   },
   "outputs": [
    {
     "name": "stdout",
     "output_type": "stream",
     "text": [
      "最適ブーストラウンド数: [455, 460, 499, 565, 520, 527, 522, 421, 514, 577]\n",
      "test-rmse-mean: [11.855517416829425, 11.823998050808484, 11.801686224241887, 11.781487240242564, 11.802678905260843, 11.790124559436611, 11.81434496535779, 11.87811994041457, 11.840987836572735, 11.809112810659945]\n"
     ]
    }
   ],
   "source": [
    "print(\"最適ブーストラウンド数:\", iteration_counts)\n",
    "print(f\"{score_key}:\", val_mae)\n",
    "results.append(f\"最適ブーストラウンド: {iteration_counts}\")\n",
    "results.append(f\"{score_key}: {val_mae}\")\n",
    "results.append(\"\")"
   ]
  },
  {
   "cell_type": "code",
   "execution_count": 23,
   "id": "326695cc",
   "metadata": {
    "execution": {
     "iopub.execute_input": "2025-03-14T17:02:36.044020Z",
     "iopub.status.busy": "2025-03-14T17:02:36.044020Z",
     "iopub.status.idle": "2025-03-14T17:05:58.558033Z",
     "shell.execute_reply": "2025-03-14T17:05:58.558033Z"
    },
    "papermill": {
     "duration": 202.546226,
     "end_time": "2025-03-14T17:05:58.582596",
     "exception": false,
     "start_time": "2025-03-14T17:02:36.036370",
     "status": "completed"
    },
    "tags": []
   },
   "outputs": [
    {
     "name": "stderr",
     "output_type": "stream",
     "text": [
      "\r",
      "  0%|                                                                                                                                                            | 0/10 [00:00<?, ?it/s]"
     ]
    },
    {
     "name": "stderr",
     "output_type": "stream",
     "text": [
      "C:\\Users\\81809\\AppData\\Local\\Temp\\ipykernel_10116\\3386215446.py:18: FutureWarning: Setting an item of incompatible dtype is deprecated and will raise an error in a future version of pandas. Value '[ 2.08558464e+01  4.99091685e-01  1.67828197e+01  6.87322474e+00\n",
      " -5.72525406e+00 -1.25435090e+00  7.42691469e+00  7.76158857e+00\n",
      "  2.37709389e+01  2.35840178e+00  1.10305605e+01  7.05766964e+00\n",
      "  6.85018873e+00  7.47238064e+00 -4.20545912e+00  2.15589237e+01\n",
      " -1.63713992e+00  6.88239193e+00  9.26888657e+00  2.18084145e+00\n",
      "  3.40524316e+00  3.57593036e+00 -5.47570169e-01 -8.62425685e-01\n",
      "  5.68590975e+00  6.35094738e+00  3.21521544e+00  1.67937317e+01\n",
      "  4.22974825e+00 -6.23069477e+00 -3.46803308e+00  5.04919481e+00\n",
      "  3.81235838e-01  2.03423824e+01  8.40098381e+00 -6.77982998e+00\n",
      " -2.02035141e+00  7.63964081e+00  5.49388266e+00  4.92607927e+00\n",
      "  8.59606087e-01  8.91758347e+00 -4.34678602e+00  1.43078556e+01\n",
      "  3.76980710e+00  4.99864197e+00 -1.14028120e+01  2.78406239e+00\n",
      "  1.57577372e+01 -6.10252202e-01  2.17536049e+01 -1.96392870e+00\n",
      "  5.66739893e+00  5.02359200e+00 -3.63995218e+00  7.40175056e+00\n",
      "  1.64383936e+00  5.82650900e+00  1.34746766e+00  9.92374897e+00\n",
      " -4.93484545e+00 -8.02270830e-01  9.28510010e-01  2.32934074e+01\n",
      " -1.90484309e+00  7.80610800e+00  2.66562724e+00 -5.38524866e+00\n",
      "  1.19282589e+01 -2.52238536e+00  4.87399912e+00  2.44084225e+01\n",
      " -5.70347309e+00 -2.77911234e+00  2.69618559e+00  5.57991362e+00\n",
      " -2.97343135e+00  6.17531729e+00  1.70602341e+01  2.05326881e+01\n",
      "  2.64066243e+00 -4.80531216e+00  1.37206924e+00 -1.09843326e+00\n",
      "  5.77813685e-01  3.34934020e+00  1.74916446e+00 -1.03568697e+01\n",
      " -2.86904526e+00 -2.69626069e+00  8.76738930e+00  6.53449821e+00\n",
      "  3.54524589e+00  7.97370017e-01 -3.20998144e+00  1.80048199e+01\n",
      "  1.16387653e+00  5.61280251e+00  2.10062847e+01 -1.72632170e+00\n",
      " -4.32558966e+00  1.52195549e+01  1.88316593e+01  1.23920870e+01\n",
      "  4.28500652e+00 -5.45833635e+00 -7.57825613e-01  1.18607645e+01\n",
      "  5.63276291e+00 -3.86234879e+00  6.01957202e-01 -5.26873827e+00\n",
      "  6.78074455e+00 -6.05406094e+00 -1.44735699e+01  4.43362617e+00\n",
      "  2.77064085e-01  6.99082375e-01  3.33812284e+00  3.56895566e+00\n",
      "  3.17582464e+00  1.56844747e+00  1.06835070e+01  1.01099205e+01\n",
      "  7.37362528e+00  5.84265375e+00  1.21193514e+01 -2.11559272e+00\n",
      " -1.98633802e+00  3.45375824e+00  1.94878483e+01 -2.44721389e+00\n",
      "  1.19724216e+01 -1.34540186e+01 -6.81085825e+00  1.39832735e+01\n",
      "  3.28023124e+00  7.86142492e+00  8.33232403e+00 -1.87714732e+00\n",
      "  1.03817081e+00 -3.68129373e+00  8.19977665e+00  4.69998217e+00\n",
      "  2.42014980e+00 -9.94231403e-01  1.06424427e+01  1.02990758e+00\n",
      "  6.71652222e+00 -1.49722183e+00  1.99662852e+00  1.24691260e+00\n",
      "  2.01476383e+01  1.64808807e+01  9.84513378e+00  4.79865360e+00\n",
      "  5.05669880e+00  2.71030998e+00 -4.45757687e-01  8.55123281e-01\n",
      "  1.15410364e+00  1.49834514e-01  1.00869808e+01  1.34042330e+01\n",
      " -1.57942247e+00  3.09984326e+00 -1.60422787e-01  3.47893500e+00\n",
      "  1.74010432e+00  3.66850519e+00  6.74764109e+00  1.77299440e+00\n",
      " -2.28892040e+00 -3.65425438e-01  5.80727053e+00  1.03897464e+00\n",
      "  1.81991863e+01  2.82029724e+00  7.07706547e+00  3.32204151e+00\n",
      " -1.98503268e+00  3.63340878e+00  8.73623085e+00 -7.46700716e+00\n",
      "  4.45174599e+00  2.10180454e+01  1.13380795e+01  2.57850736e-02\n",
      "  1.53460550e+00  6.62551022e+00  3.06651020e+00  1.47702799e+01\n",
      " -4.45482463e-01  3.89650321e+00  7.50092268e+00  5.55599213e+00\n",
      "  3.09071517e+00  9.73318958e+00  1.51710882e+01  1.13415871e+01\n",
      "  2.27316618e+00 -2.35530281e+01  5.64118099e+00  4.20753813e+00\n",
      "  6.99354601e+00  5.12025118e+00  5.16184473e+00  4.47204542e+00\n",
      "  5.08328867e+00  1.45153284e+00  1.91120186e+01  9.72952271e+00\n",
      "  2.96645298e+01  4.22339363e+01  2.66890526e+01  2.42081261e+01\n",
      "  2.03832550e+01  2.33072548e+01  8.82295036e+00  1.06152274e-01\n",
      "  1.39268169e+01  5.34781027e+00 -4.77878237e+00  4.80886459e+00\n",
      "  1.94968758e+01  2.46645355e+01  8.49796963e+00  2.21792965e+01\n",
      "  1.26433277e+01  9.15934849e+00  7.87220383e+00  1.01053095e+01\n",
      " -2.49143910e+00  3.33880043e+01  1.53131170e+01  4.23299789e+00\n",
      "  3.54190750e+01  4.80018711e+00 -2.95782256e+00  2.09215584e+01\n",
      "  2.92354965e+00  1.29775705e+01  1.55490484e+01  5.59235859e+00\n",
      "  2.94385052e+00  1.11668921e+01  1.91584644e+01  3.48895187e+01\n",
      "  1.39954758e+01 -1.29636848e+00 -1.48697281e+00  1.87351918e+00\n",
      " -1.42230072e+01  6.49452829e+00  1.43445253e+01 -3.14152598e-01\n",
      "  2.17723179e+01  4.38444252e+01 -6.17272949e+00  1.14298987e+00\n",
      "  1.51312952e+01  2.79259276e+00 -5.32994747e+00  8.67700005e+00\n",
      "  2.66979046e+01  1.13841410e+01  7.98225117e+00  4.71158028e+00\n",
      " -2.94278312e+00  3.06326246e+00  2.89879951e+01  1.00292149e+01\n",
      "  1.69678841e+01  1.44045105e+01 -1.00128441e+01  1.42498169e+01\n",
      "  1.08970728e+01  3.88965631e+00 -4.90335178e+00  4.22827196e+00\n",
      "  2.46889806e+00  2.42383838e+00  3.78253479e+01  1.34834509e+01\n",
      "  3.50395126e+01  3.49468079e+01 -1.64214766e+00  2.95969276e+01\n",
      " -7.30763733e-01 -2.35333896e+00  7.14148760e+00  1.32196426e+01\n",
      "  1.32418547e+01  1.42635384e+01  9.03080273e+00  4.44392920e+00\n",
      "  1.13680573e+01 -3.82783675e+00  1.14350834e+01 -4.24678040e+00\n",
      "  1.88115730e+01  2.67706718e+01  1.14398174e+01 -6.40474916e-01\n",
      " -8.66012514e-01  1.41817868e+00  8.43633270e+00 -2.07009659e+01\n",
      " -1.07379847e+01 -1.01800070e+01  1.73826778e+00  4.61194897e+00\n",
      "  8.54568577e+00  9.35077572e+00  3.24063339e+01  1.65512619e+01\n",
      "  4.61441374e+00  3.80942764e+01 -1.91444623e+00  1.09414053e+01\n",
      "  5.48429966e+00  2.83930063e+00  3.52371383e+00  1.81604588e+00\n",
      "  1.64400339e+00  5.23010397e+00 -5.28323030e+00  6.95783615e+00\n",
      " -4.34062898e-01  7.60103035e+00 -5.54164743e+00  1.96355209e+01\n",
      "  1.31895914e+01 -1.21098442e+01  2.17763634e+01 -7.31338930e+00\n",
      "  2.47930557e-01  9.29699612e+00 -4.13914204e+00 -1.21309223e+01\n",
      " -2.86801314e+00 -2.30225983e+01 -1.77470531e+01 -8.93519592e+00\n",
      " -4.83435535e+00  3.64522266e+00 -5.77154493e+00  1.70294225e+00\n",
      " -4.14887714e+00 -4.20484924e+00 -5.94276857e+00  5.96162987e+00\n",
      " -7.08504534e+00 -3.77405667e+00 -1.88549557e+01  1.79915309e+00\n",
      "  4.13044977e+00 -6.03806448e+00 -4.08116722e+00  2.67877126e+00\n",
      "  6.58812714e+00 -3.58955026e+00 -7.27369308e+00 -3.24045038e+00\n",
      " -1.67150152e+00 -1.25282073e+00 -2.27861671e+01 -3.76002997e-01\n",
      "  1.92411458e+00 -6.22927809e+00 -6.89928341e+00 -5.79318094e+00\n",
      " -8.46370888e+00 -7.16208124e+00 -2.55253124e+00 -5.91680527e+00\n",
      "  8.81908774e-01 -6.02977467e+00  6.51359677e-01  2.05508137e+00\n",
      " -1.04775639e+01 -7.13891602e+00 -5.89830589e+00 -2.69000840e+00\n",
      " -9.33134747e+00 -4.42308474e+00 -1.59337540e+01 -2.56221638e+01\n",
      " -3.84941530e+00 -1.83198318e+01 -1.74820137e+00 -6.99507475e+00\n",
      " -2.89752173e+00 -2.39581919e+00 -7.96736717e+00  1.63939238e-01\n",
      " -7.08003473e+00 -2.56274681e+01  2.88303614e+00 -2.15185051e+01\n",
      " -6.78304672e+00 -1.14918575e+01  4.43994665e+00  3.34359574e+00\n",
      " -8.87295246e+00  3.13341045e+00 -4.61937523e+00 -5.56579065e+00\n",
      " -4.15214729e+00 -6.01776552e+00 -9.56384373e+00 -1.53165495e+00\n",
      "  4.22589493e+00  4.51499343e-01 -1.16511164e+01 -6.09030771e+00\n",
      "  2.59955263e+00  2.38090110e+00  1.01516986e+00 -6.23006248e+00\n",
      " -2.80155516e+00  6.02189732e+00 -1.14766264e+01  3.37391257e+00\n",
      " -1.03372307e+01 -3.37765503e+00 -9.13688946e+00 -4.42699003e+00\n",
      " -2.07051897e+00 -1.18499775e+01 -3.20029449e+00 -2.20898209e+01\n",
      " -1.52316685e+01 -2.08292699e+00 -9.33988452e-01 -2.37612104e+00\n",
      " -2.40120769e+00 -1.98075199e+00 -1.14718720e-01  1.69680107e+00\n",
      " -1.24376225e+00 -3.06043186e+01 -4.48080397e+00 -8.97307396e+00\n",
      " -8.45648575e+00  1.49339032e+00  1.74689507e+00 -6.65317440e+00\n",
      " -1.56733537e+00  1.82406688e+00  1.30469754e-01 -8.34151649e+00\n",
      "  1.52053106e+00  6.92637300e+00 -9.07482952e-02 -7.60686541e+00\n",
      " -6.32161379e-01 -1.47804651e+01 -1.27147474e+01 -2.73534560e+00\n",
      " -1.91414833e+00 -1.96970832e+00 -2.12309909e+00 -6.41964054e+00\n",
      " -1.60518494e+01 -9.01473904e+00 -2.18058372e+00  3.17732310e+00\n",
      " -8.64421749e+00 -2.35767384e+01 -6.56005263e-01 -2.62303638e+00\n",
      " -3.98303270e+00  3.08843946e+00  8.67759132e+00 -2.59808213e-01\n",
      "  8.09825361e-01  2.73004913e+00  1.89995265e+00 -1.33157568e+01\n",
      " -8.48545837e+00 -1.69053650e+01 -4.57499790e+00 -3.92716622e+00\n",
      "  1.09457326e+00 -1.01417561e+01  2.12852335e+00 -1.40843749e+00\n",
      " -2.55460815e+01 -2.57508354e+01 -1.74287796e+01 -4.58772135e+00\n",
      " -3.64058304e+00 -4.51503468e+00  4.43228036e-01 -8.44379807e+00\n",
      " -8.09654331e+00 -1.68746972e+00 -2.78738379e+00  2.68750072e+00\n",
      " -1.62198849e+01 -1.74298096e+00  3.51210189e+00 -6.15818262e+00\n",
      "  8.33019447e+00 -6.84805298e+00  5.13926506e+00 -7.05921221e+00\n",
      " -1.71389427e+01 -1.55501442e+01 -3.64238524e+00  6.79235363e+00\n",
      " -9.79358006e+00 -3.08161926e+00 -1.69094965e-01  2.73019886e+00\n",
      " -1.54280519e+01  2.17318416e-01 -1.75940685e+01 -2.19550610e+00\n",
      " -5.58438778e+00 -4.63808727e+00 -3.66255260e+00 -1.62985349e+00\n",
      " -1.49972630e+01  4.96089965e-01  4.10434008e+00  4.12561464e+00\n",
      " -1.05741434e+01  9.34500456e-01 -1.11974704e+00 -6.24470758e+00\n",
      " -4.15507126e+00 -4.43659878e+00 -2.99843955e+00  4.81338263e+00\n",
      " -2.04067211e+01 -3.56408272e+01 -2.69225025e+00 -4.98118114e+00\n",
      " -4.97480536e+00  3.77006125e+00 -1.17525902e+01 -2.79905891e+01\n",
      " -6.24573708e+00  3.94812036e+00  2.28889632e+00 -3.38188210e+01\n",
      " -3.83951378e+01  1.18235981e+00 -3.55234408e+00 -2.54595966e+01\n",
      "  7.08536530e+00 -2.42976360e+01 -3.10784888e+00 -1.33512723e+00\n",
      " -9.61789322e+00 -2.97800884e+01 -6.92231536e-01 -1.54981108e+01\n",
      " -1.82860298e+01 -5.69628620e+00 -3.35292912e+00  4.36631060e+00\n",
      " -3.94525375e+01  8.70800138e-01 -6.20588541e+00 -1.29620609e+01\n",
      "  8.03946209e+00  1.83686411e+00  6.61046076e+00 -1.08850555e+01\n",
      " -3.36175609e+00 -1.72275181e+01 -8.95807648e+00 -7.83490705e+00\n",
      " -2.88996959e+00  2.71866584e+00  5.39007330e+00 -2.98909702e+01\n",
      " -1.18131495e+01 -2.51106119e+00  1.18194084e+01 -3.20396233e+01\n",
      " -4.48496866e+00 -8.65142155e+00 -1.91371214e+00  4.66254520e+00\n",
      " -2.68814969e+00 -3.35434914e+00  6.88336515e+00  3.04872060e+00\n",
      " -1.35314827e+01 -1.01259146e+01 -3.44081116e+01 -5.76356554e+00\n",
      " -2.38059921e+01 -2.84312134e+01 -8.31377602e+00 -1.52570038e+01\n",
      " -1.28211613e+01 -3.05798912e+00 -3.85073547e+01 -3.08358364e+01\n",
      " -1.41747103e+01 -4.52784824e+00 -6.98262787e+00 -3.34022980e+01\n",
      " -8.52189827e+00  9.73924255e+00 -1.13225555e+01 -3.07631588e+00\n",
      " -7.71914244e+00 -1.19626732e+01 -8.29432297e+00 -2.56654358e+01\n",
      " -2.86176682e+01  3.71470571e+00 -4.79807281e+00 -8.44067955e+00\n",
      " -2.36347961e+01 -3.63060355e+00 -2.77483749e+01  1.13370886e+01\n",
      " -1.36566675e+00  8.37117672e+00  2.61296296e+00 -2.64380379e+01\n",
      " -4.36551332e+00 -3.05840168e+01 -1.53097267e+01 -9.05712318e+00\n",
      "  1.37464511e+00  3.84415150e+00 -2.58818226e+01  5.30925894e+00\n",
      " -1.30913401e+01 -1.58108473e+00 -3.43764076e+01 -1.19157047e+01\n",
      "  1.67799187e+01  5.15692282e+00 -1.34361467e+01 -1.52980576e+01\n",
      " -5.28056812e+00  7.85162354e+00]' has dtype incompatible with int64, please explicitly cast to a compatible dtype first.\n",
      "  preds[val_index] = model.predict(dval_i)\n"
     ]
    },
    {
     "name": "stderr",
     "output_type": "stream",
     "text": [
      "\r",
      " 10%|██████████████▊                                                                                                                                     | 1/10 [00:18<02:43, 18.15s/it]"
     ]
    },
    {
     "name": "stderr",
     "output_type": "stream",
     "text": [
      "C:\\Users\\81809\\AppData\\Local\\Temp\\ipykernel_10116\\3386215446.py:18: FutureWarning: Setting an item of incompatible dtype is deprecated and will raise an error in a future version of pandas. Value '[-7.91025591e+00  1.63117790e+00  1.55667200e+01 -2.06260949e-01\n",
      "  7.05433178e+00  5.52112675e+00  2.15341206e+01 -1.79372990e+00\n",
      "  1.31228151e+01  6.51805687e+00 -3.20495582e+00 -5.93702841e+00\n",
      "  5.85100079e+00  8.36745453e+00 -2.90966320e+00  2.31966324e+01\n",
      "  7.53506839e-01  2.63216853e+00  1.06416368e+01  9.42635536e+00\n",
      "  8.30796814e+00  4.25070286e+00  6.46063280e+00  3.99680328e+00\n",
      " -6.67094946e+00  2.41320443e+00  7.89952803e+00 -1.83175480e+00\n",
      "  2.52527046e+01  1.67908020e+01  1.27794962e+01  3.93810248e+00\n",
      "  6.93246126e+00 -2.52032828e+00  6.11782169e+00  6.30096960e+00\n",
      " -3.76380301e+00  2.65146822e-01  8.78311920e+00  2.20215664e+01\n",
      "  1.22392960e+01  1.10698462e+01  1.78802376e+01  8.20956516e+00\n",
      "  1.64501724e+01  7.84981537e+00  7.26875782e+00  5.35272741e+00\n",
      " -2.36222491e-01  6.65760136e+00  9.07611847e-01 -9.27676558e-01\n",
      "  2.03550172e+00  6.68227053e+00  8.85472107e+00  2.54405613e+01\n",
      "  7.18697405e+00 -3.67322773e-01  9.88370991e+00  9.19449997e+00\n",
      "  6.29149675e+00  6.91560221e+00 -1.73976028e+00 -3.56425881e+00\n",
      " -1.42363548e+00  2.56450415e+00 -1.58524382e+00  1.31988382e+00\n",
      "  1.93928986e+01  1.20678091e+01  7.15074599e-01  2.83569946e+01\n",
      "  1.39806938e+01  3.77094245e+00  1.92570801e+01 -7.66755342e+00\n",
      "  6.61529160e+00  6.20190144e+00  3.33571839e+00  3.64788556e+00\n",
      "  5.43595433e-01 -1.02705494e-01  1.72511311e+01  7.57020617e+00\n",
      " -2.22610831e+00 -1.01228151e+01  4.18730545e+00  8.46528912e+00\n",
      "  2.98548007e+00  1.59775233e+00  2.08611727e+00 -4.97086382e+00\n",
      " -3.32896161e+00  1.83368340e+01 -3.06949162e+00 -1.91500437e+00\n",
      " -2.29517102e+00  1.37189875e+01  1.07484741e+01  1.55170784e+01\n",
      "  3.93059158e+00 -6.07526207e+00  1.27388859e+01  8.67722607e+00\n",
      "  1.17789907e+01  2.55671787e+00  9.46924877e+00 -9.35534537e-01\n",
      "  1.81868935e+01 -2.35395598e+00  2.14236393e+01 -2.64645624e+00\n",
      "  1.08371568e+00  1.44228573e+01  1.88052158e+01 -2.93586159e+00\n",
      "  2.20267391e+00 -3.53101540e+00 -9.40165710e+00 -6.35279274e+00\n",
      "  2.50282836e+00  1.28009188e+00  5.84295452e-01 -1.53671622e+00\n",
      " -2.52790713e+00  4.38418016e-02 -5.76203585e+00  6.82035589e+00\n",
      "  2.84897709e+00  2.98041210e+01  7.16396141e+00  2.71267242e+01\n",
      "  4.81940651e+00 -7.40467012e-01  1.01811962e+01 -7.59231234e+00\n",
      " -5.40112448e+00  9.27632987e-01 -6.80819035e+00 -5.90339899e-01\n",
      "  6.33824062e+00 -1.25648034e+00  2.27067089e+01  1.59339104e+01\n",
      "  3.82762265e+00  3.97189558e-01 -1.11047363e+00  7.73312688e-01\n",
      " -1.68069795e-01  5.89255333e-01 -2.93711901e+00 -5.48179984e-01\n",
      "  2.82924056e+00 -6.39270973e+00 -1.05516374e+00  3.57862663e+00\n",
      "  2.11506672e+01  6.24504626e-01  2.77867699e+00  6.76456165e+00\n",
      " -7.86817265e+00  3.05301380e+00 -9.50927734e-01 -4.81370258e+00\n",
      " -4.19325733e+00  5.30991435e-01  3.06409531e+01  1.69258797e+00\n",
      "  6.93617439e+00 -3.66073966e+00  1.39570519e-01  1.17491131e+01\n",
      "  2.03031807e+01  9.96117115e+00  4.00903940e+00 -7.13873744e-01\n",
      "  1.23563108e+01 -5.41026115e+00 -1.91567364e+01 -5.17419004e+00\n",
      "  4.98940277e+00  7.24897003e+00 -2.95931911e+00  7.99525738e+00\n",
      "  2.12094440e+01  9.75642490e+00  1.14231336e+00  2.42876072e+01\n",
      " -9.23048794e-01  9.30832672e+00  2.44362831e+01 -1.60250902e+00\n",
      " -1.57676744e+00  4.14992809e+00  1.70424008e+00  5.40062809e+00\n",
      " -4.96231222e+00  2.10334826e+00 -7.29280567e+00  1.51656890e+00\n",
      "  3.65478206e+00 -2.71496463e+00  2.16596508e+01 -3.11965823e-01\n",
      "  1.61587448e+01  1.71341248e+01  1.78574657e+01 -3.30960965e+00\n",
      "  1.99487801e+01  2.72518539e+00 -9.87861443e+00 -1.08307781e+01\n",
      "  1.08870182e+01  2.07466865e+00 -5.95253050e-01 -3.80932975e+00\n",
      "  5.23190880e+00  4.57470179e+00  3.98846769e+00  2.05938244e+01\n",
      " -3.17643523e+00  2.13374519e+00  5.95022440e+00  2.07501640e+01\n",
      " -2.50831389e+00  1.91231525e+00  1.95891304e+01  2.80475388e+01\n",
      " -8.48648262e+00 -3.72069263e+00  8.20800877e+00  2.76174698e+01\n",
      "  3.78360405e+01 -1.43385887e+00  4.93489885e+00  2.07015762e+01\n",
      "  7.42307329e+00  2.27073288e+01 -7.19181108e+00 -6.12278509e+00\n",
      "  6.63025570e+00  9.47785378e+00  6.59190464e+00 -6.99805593e+00\n",
      "  2.27305698e+01  6.24148309e-01 -5.41830158e+00  1.22692966e+01\n",
      "  8.54590893e-01  1.52586269e+00  1.28603382e+01 -1.23554678e+01\n",
      "  1.57005110e+01  1.96654434e+01  5.31057775e-01  7.81846046e+00\n",
      "  1.04748926e+01  9.10219002e+00  3.42847710e+01  2.16407146e+01\n",
      "  4.77615404e+00 -8.77011204e+00  3.40432358e+01  1.38293266e+01\n",
      "  2.89509702e+00  7.20030165e+00  2.15136147e+01  4.58282127e+01\n",
      "  2.10778713e+01 -6.49502420e+00  3.21252022e+01  1.24050035e+01\n",
      "  3.58458710e+01  1.19207706e+01  2.54451561e+00  4.83804798e+00\n",
      "  1.18672514e+01  7.51545668e+00  4.54656982e+00  2.46880589e+01\n",
      "  2.84935970e+01  8.18951416e+00  7.69537306e+00  3.36870837e+00\n",
      "  2.81325836e+01 -4.33682156e+00  1.09950991e+01  2.55206299e+01\n",
      " -2.02442646e+00  1.94193864e+00  1.69269040e-01  1.40041847e+01\n",
      "  3.04914360e+01  3.27099395e+00  1.75551319e+01  9.38585186e+00\n",
      "  2.59683380e+01 -1.17189002e+00 -5.36251307e+00  2.82714438e+00\n",
      "  7.18785000e+00  1.12297173e+01  2.73897123e+00  4.43272114e+00\n",
      " -1.21866560e+01  1.95886755e+00 -2.16285563e+00 -7.07415104e+00\n",
      " -2.36543369e+00  2.66125059e+00 -9.61355805e-01  3.92104034e+01\n",
      "  2.56516132e+01  7.13787127e+00  6.96333456e+00 -5.53952456e+00\n",
      "  6.66948700e+00  2.21103249e+01 -5.25112391e+00  1.91641655e+01\n",
      "  2.18197131e+00 -1.18758631e+01 -1.24664478e+01  2.83441753e+01\n",
      "  4.74625683e+00  5.76607513e+00  1.19862051e+01 -1.00675087e+01\n",
      "  4.83406782e+00 -1.62244682e+01 -2.33347149e+01  3.22515988e+00\n",
      " -1.03186297e+00 -4.78993565e-01 -8.57794476e+00  4.00561953e+00\n",
      " -7.04737759e+00  4.42751074e+00 -6.79420853e+00 -6.10832071e+00\n",
      " -2.32969940e-01  8.55529022e+00  1.44800389e+00  3.06197095e+00\n",
      " -2.24707336e+01 -2.57421684e+01 -2.17379036e+01 -6.27061844e+00\n",
      " -1.49727309e+00 -7.64544189e-01 -7.80119658e+00 -3.50893402e+00\n",
      " -2.19102240e+00 -2.58290148e+00 -1.26294243e+00 -1.42823949e-01\n",
      "  5.10296583e+00 -6.55573082e+00  5.42956650e-01 -9.38866425e+00\n",
      " -7.81822681e+00 -1.94704323e+01 -1.40819139e+01  1.96443570e+00\n",
      "  3.65452456e+00  8.38771152e+00 -1.55501957e+01  3.50012660e+00\n",
      "  7.60382795e+00 -1.71535718e+00 -2.09748793e+00  1.03718019e+00\n",
      "  6.78826475e+00 -5.92155170e+00  2.41420493e-01 -7.74856567e+00\n",
      " -1.40996397e+00 -2.23928642e+01 -5.43471670e+00  1.28411758e+00\n",
      "  4.65467930e+00  3.53619504e+00 -8.43441677e+00 -8.29948425e+00\n",
      "  1.71247029e+00  2.94242644e+00  2.28373706e-02 -6.12307501e+00\n",
      " -1.31094742e+01 -6.19177055e+00 -8.55396938e+00  2.42741752e+00\n",
      " -7.81027937e+00 -6.38993168e+00 -6.94690895e+00 -2.75017595e+00\n",
      "  1.03888488e+00 -1.22034845e+01 -2.94001198e+01  1.27603352e+00\n",
      " -3.70181656e+00 -2.45273247e+01 -2.66554308e+00 -3.30895066e+00\n",
      " -1.25398731e+01  6.89680815e-01 -2.51109543e+01 -2.15005188e+01\n",
      "  1.12306225e+00 -6.79142833e-01 -6.80352896e-02  2.20558667e+00\n",
      " -6.90137243e+00  1.50357418e+01 -2.97029362e+01  3.53361940e+00\n",
      " -1.59264698e+01 -3.80651546e+00 -1.72593260e+00  4.96458244e+00\n",
      " -1.21173067e+01 -4.56411552e+00  1.81878269e+00  4.03106034e-01\n",
      " -6.59648120e-01  1.55247331e+00 -2.99586892e+00 -2.00869966e+00\n",
      "  6.24618244e+00 -3.98889327e+00  1.00644445e+01  6.40350294e+00\n",
      "  4.60928583e+00  1.49191589e+01  3.03939521e-01  3.36702085e+00\n",
      "  1.79496586e+00 -3.06031952e+01 -7.00030565e+00 -7.27787542e+00\n",
      "  2.02079487e+00  2.94648933e+00 -2.95077658e+00 -3.49524468e-02\n",
      " -4.82226992e+00 -9.94721031e+00  2.18733698e-02  2.35529447e+00\n",
      " -3.92246842e+00 -1.23343916e+01 -2.74911618e+00 -3.07690406e+00\n",
      " -7.61828470e+00 -1.71526012e+01 -3.50226712e+00  6.89834309e+00\n",
      " -1.23594630e+00  2.04424453e+00 -1.01781721e+01  5.36033630e+00\n",
      "  5.83224726e+00  7.22457230e-01 -7.71864223e+00  2.65402198e+00\n",
      " -2.28622284e+01 -4.80417776e+00 -3.83895135e+00 -2.26515217e+01\n",
      " -1.05539379e+01 -1.28220439e+00 -3.06185865e+00  3.63055885e-01\n",
      "  3.97661710e+00 -2.26146793e+01 -2.28404064e+01 -4.27395058e+00\n",
      " -6.56743145e+00 -3.37595868e+00 -1.97122061e+00 -4.33309031e+00\n",
      " -3.66368103e+00  4.02160931e+00  9.63952720e-01 -2.24024582e+01\n",
      "  3.20620441e+00 -4.24144149e-01 -3.68796134e+00  1.06990850e+00\n",
      " -4.95636135e-01 -2.00880604e+01 -2.12266026e+01 -3.93145871e+00\n",
      " -7.55424380e-01 -1.18078985e+01 -3.74885535e+00  2.98855019e+00\n",
      " -1.13772452e+00  1.73485434e+00 -3.15563202e-01 -5.27725363e+00\n",
      " -1.34286153e+00 -5.51016903e+00 -2.16616416e+00 -3.92987895e+00\n",
      " -3.76225591e+00 -3.17879057e+00 -4.89075333e-01 -1.51746619e+00\n",
      "  3.29185963e+00  5.32185459e+00 -8.64345837e+00 -3.80599856e+00\n",
      " -2.29467831e+01 -5.02212572e+00 -1.73044224e+01 -2.18706512e+01\n",
      "  5.78504515e+00  6.56607056e+00 -7.83573818e+00 -5.86926317e+00\n",
      "  4.65566969e+00 -1.16328497e+01 -1.87398803e+00 -2.56785840e-01\n",
      " -1.64130230e+01 -5.83635235e+00  2.18296337e+00 -9.66143894e+00\n",
      " -2.36310444e+01  4.19632339e+00  2.57166934e+00  3.90689373e-01\n",
      "  4.84141558e-01 -5.79529715e+00 -2.91641164e+00 -2.94609585e+01\n",
      " -4.40458069e+01 -2.90514259e+01 -2.51155472e+01 -2.30020499e+00\n",
      " -7.20909500e+00 -1.78060513e+01 -2.72339725e+00 -1.14686620e+00\n",
      " -1.98050346e+01 -4.69261408e+00 -1.61425743e+01 -2.61955433e+01\n",
      " -1.93848395e+00 -3.57283974e+00 -1.44862442e+01 -2.75676422e+01\n",
      "  4.24506807e+00 -6.24804306e+00  6.36190128e+00 -1.13956442e+01\n",
      " -1.79275246e+01 -3.02990074e+01 -9.82030392e+00 -1.74959779e+00\n",
      " -1.30188646e+01 -1.81536928e-01 -7.55064011e+00  4.56616402e+00\n",
      " -7.12849283e+00 -3.11878548e+01 -1.11578865e+01 -1.56054773e+01\n",
      " -3.33309364e+01 -5.37974024e+00  2.59564853e+00 -2.20266094e+01\n",
      " -1.38339710e+01 -1.03877811e+01 -4.75513840e+00 -8.54752350e+00\n",
      "  7.21083403e+00 -1.56088662e+00  1.67601478e+00 -3.18578720e+01\n",
      " -2.83112679e+01 -4.21802521e+01  4.58040571e+00 -1.31475830e+00\n",
      " -1.41439333e+01 -1.28137457e+00 -8.60783768e+00 -1.51410933e+01\n",
      " -3.71453381e+00 -1.00841475e+01 -6.46150255e+00 -2.18697250e-01\n",
      " -3.34504366e+00 -1.04194469e+01 -2.19187870e+01  4.21233892e+00\n",
      " -3.34318085e+01 -7.51136827e+00  1.01051960e+01 -3.04701500e+01\n",
      "  6.41894436e+00 -1.63399754e+01 -8.36636066e+00 -3.16845226e+01\n",
      " -2.52212505e+01 -5.58732605e+00  2.50960064e+00 -1.26594229e+01\n",
      "  2.92465401e+00 -3.31366515e+00 -1.38248386e+01 -3.95948887e+00\n",
      " -6.05703533e-01  1.16743755e+00 -1.76483498e+01 -8.58122635e+00\n",
      " -2.05643349e+01  4.27353323e-01 -1.09691792e+01 -4.90640593e+00\n",
      " -5.62019062e+00  1.13174367e+00 -1.18754349e+01 -1.72758636e+01\n",
      " -2.00595045e+00 -1.68988972e+01 -5.49744701e+00 -1.96984375e+00\n",
      " -8.04380226e+00 -2.61792603e+01 -6.56758976e+00  2.29163284e+01\n",
      "  1.40387611e+01 -6.65067673e+00 -3.80112457e+01 -9.61173058e+00\n",
      " -2.44884377e+01 -6.65953541e+00 -2.45494041e+01  4.97474146e+00\n",
      " -1.81668396e+01 -8.93460369e+00 -1.23377237e+01 -1.19588928e+01\n",
      " -1.07518930e+01 -4.04258919e+00]' has dtype incompatible with int64, please explicitly cast to a compatible dtype first.\n",
      "  preds[val_index] = model.predict(dval_i)\n"
     ]
    },
    {
     "name": "stderr",
     "output_type": "stream",
     "text": [
      "\r",
      " 20%|█████████████████████████████▌                                                                                                                      | 2/10 [00:36<02:25, 18.19s/it]"
     ]
    },
    {
     "name": "stderr",
     "output_type": "stream",
     "text": [
      "C:\\Users\\81809\\AppData\\Local\\Temp\\ipykernel_10116\\3386215446.py:18: FutureWarning: Setting an item of incompatible dtype is deprecated and will raise an error in a future version of pandas. Value '[ 1.25077891e+00 -5.46236038e+00 -5.98795605e+00 -3.83305758e-01\n",
      "  8.15243816e+00 -1.29454088e+00  5.82687330e+00  8.16917515e+00\n",
      "  3.22415876e+00 -9.24026966e-01 -3.79454827e+00  2.62608070e+01\n",
      "  2.18896084e+01 -8.41669798e-01  2.32356358e+01  2.51004715e+01\n",
      "  5.67256260e+00  1.02313023e+01  7.27862930e+00 -9.01949120e+00\n",
      "  5.48348093e+00  6.51566982e+00  9.51232910e+00  6.50498581e+00\n",
      "  2.53221941e+00  4.36418962e+00  7.45375633e+00  1.73480606e+00\n",
      " -6.28959179e+00 -5.11747456e+00 -1.73955068e-01  9.74027061e+00\n",
      "  1.03614492e+01  2.46467233e+00  2.46334724e+01 -1.30562747e+00\n",
      "  3.44819689e+00  2.88733845e+01  3.21767020e+00  5.45986605e+00\n",
      "  4.24665594e+00 -7.83496571e+00  5.50363350e+00 -4.35703814e-01\n",
      "  2.14834189e+00  7.00527334e+00 -4.26103449e+00 -6.13646936e+00\n",
      "  7.06464148e+00 -9.23081875e+00  5.26716709e+00  5.84578133e+00\n",
      "  5.94883013e+00 -2.00506949e+00  8.54487133e+00 -6.73621356e-01\n",
      "  4.62983751e+00  1.82251892e+01  5.93399382e+00 -8.37949574e-01\n",
      "  2.18725033e+01 -3.35520101e+00  2.08468914e+00  2.60328865e+01\n",
      "  6.80050230e+00  7.31174469e+00  6.99977875e+00  1.57758546e+00\n",
      "  3.48782253e+00  2.91549468e+00 -1.83657718e+00  2.37383022e+01\n",
      "  8.36015606e+00 -3.40773091e-02  3.93651128e+00  1.51354227e+01\n",
      "  2.56364655e+00  1.81962032e+01 -8.03307629e+00  1.65421689e+00\n",
      "  5.21759367e+00  6.53258371e+00 -4.74214506e+00  2.12058529e-01\n",
      "  1.47191086e+01 -4.97955227e+00  2.74317799e+01  1.35871783e-01\n",
      " -9.51936424e-01  1.42052908e+01  6.08244991e+00  2.33115349e+01\n",
      " -1.69188395e-01 -6.55157709e+00  1.07934809e+01  8.72044277e+00\n",
      "  3.44806075e+00 -2.56512094e+00  1.85072827e+00  4.38556767e+00\n",
      "  1.84276831e+00  1.98404255e+01 -3.85006356e+00  8.27382660e+00\n",
      "  1.97624340e+01  8.52702975e-01  2.31961498e+01  5.17256117e+00\n",
      "  4.81980228e+00 -3.50196457e+00  9.01335621e+00 -5.47810459e+00\n",
      " -8.91272306e-01  6.55031562e-01 -8.62590969e-01 -6.87056732e+00\n",
      "  5.15110902e-02  5.78797245e+00 -8.19259584e-01  6.21470642e+00\n",
      "  2.52296181e+01  3.27016902e+00  1.09665117e+01 -1.85287631e+00\n",
      "  1.26827228e+00 -5.69635773e+00 -2.27135825e+00  2.16895890e+00\n",
      " -5.25956869e-01  1.31543458e+00 -1.44495935e+01  1.13333340e+01\n",
      "  1.10657110e+01  2.12423306e+01 -5.72644424e+00 -7.56595850e-01\n",
      "  7.10438395e+00 -5.99679852e+00  1.02487791e+00 -3.19970798e+00\n",
      "  1.37115514e+00  1.69173756e+01  1.19241400e+01  2.35160065e+00\n",
      "  2.26333570e+00 -1.54247510e+00  3.99990082e+00 -6.47174692e+00\n",
      "  3.35204577e+00  1.40534220e+01 -1.85701394e+00  2.67651749e+00\n",
      " -1.26238382e+00  2.26011257e+01  2.86356878e+00  2.33012724e+00\n",
      "  3.05289669e+01  3.61930299e+00  3.37718534e+00  8.53808022e+00\n",
      "  5.67103207e-01  9.23969841e+00 -2.32840633e+00  2.90976048e+00\n",
      "  4.25568771e+00  5.99256229e+00  1.26050129e+01  2.63435326e+01\n",
      "  4.90193939e+00  6.45979357e+00 -3.42151046e+00  7.61576891e+00\n",
      "  3.26845169e+00  3.94752622e+00  2.19300675e+00  2.37769184e+01\n",
      "  5.18753715e-02  5.37450600e+00 -7.80870247e+00  3.19496274e+00\n",
      " -5.89984798e+00 -1.00364637e+00 -9.45014954e+00  6.82993364e+00\n",
      "  7.83522511e+00  3.98713136e+00 -2.52262783e+00  2.41686940e+00\n",
      "  3.22675854e-01 -5.59925270e+00  3.75892377e+00  3.09866467e+01\n",
      "  3.04721527e+01  4.42571602e+01  2.91297894e+01  1.95790291e+01\n",
      " -2.02567053e+00  2.79024291e+00 -5.67160733e-03  1.30932379e+01\n",
      "  9.56414413e+00 -1.18727446e+01  6.60263824e+00  2.37858891e+00\n",
      "  8.91711903e+00  2.84996128e+01  7.10579515e-01  3.95314789e+01\n",
      "  8.90419865e+00 -1.12985020e+01  1.71634865e+01  1.09064722e+01\n",
      "  1.36799040e+01  1.63695412e+01  2.68195229e+01  1.68871841e+01\n",
      "  4.71674347e+00  3.42263532e+00  3.59924812e+01 -3.92241383e+00\n",
      "  1.26529360e+01  1.03347044e+01  2.54858551e+01  1.61455173e+01\n",
      "  1.96161728e+01  1.19217491e+01  2.63349700e+00 -5.77832603e+00\n",
      "  2.11992226e+01 -6.83459282e+00 -1.59180415e+00  2.87381744e+01\n",
      " -2.17733812e+00  1.27970695e+01  8.29905868e-01  1.03690300e+01\n",
      " -7.62448215e+00  2.71179829e+01  9.17295647e+00 -2.30210400e+01\n",
      "  3.22701912e+01  1.54272585e+01 -2.56620264e+00 -6.16381454e+00\n",
      "  4.13343620e+00  3.53721237e+00  1.54019871e+01  1.47788553e+01\n",
      "  2.54735065e+00  6.70662260e+00  4.35689688e+00  9.66993713e+00\n",
      "  3.87457047e+01  6.91579008e+00 -3.25320363e+00 -1.81994486e+00\n",
      "  7.88804722e+00  1.28626213e+01  3.78630781e+00  2.50193386e+01\n",
      "  2.98512878e+01 -6.71309471e+00  8.56992531e+00  7.48512459e+00\n",
      "  3.05052872e+01 -8.60034847e+00  4.45470428e+00  2.96253109e+00\n",
      "  1.26567822e+01  1.26311278e+00 -6.98603201e+00 -3.23767328e+00\n",
      "  3.64181480e+01  3.22215576e+01  1.50426474e+01  2.99206305e+00\n",
      " -1.52278960e+00  9.20127773e+00  1.90344563e+01  3.16206627e+01\n",
      " -3.45842266e+00 -1.07914352e+01 -8.89197922e+00  2.93499413e+01\n",
      " -8.07593250e+00  7.42527723e+00  2.45099964e+01  9.33286381e+00\n",
      "  2.66282940e+01  2.91673012e+01  8.37049770e+00  1.08139729e+00\n",
      " -2.47435722e+01  4.33388376e+00 -1.14233518e+00  5.92394447e+00\n",
      "  1.68899574e+01 -5.38471508e+00  3.81721878e+01  8.00995350e+00\n",
      "  2.23029423e+01  2.63143559e+01  1.27824917e+01  1.45858898e+01\n",
      " -7.50696898e-01  9.71912956e+00  7.21313357e-02 -3.58821106e+00\n",
      "  2.54405308e+00 -9.69498253e+00 -2.24390564e+01 -6.72431612e+00\n",
      " -1.73777390e+01 -1.81660786e+01 -6.70950937e+00  4.32260132e+00\n",
      "  5.79328299e+00 -6.12677717e+00 -8.07966137e+00  2.67991877e+00\n",
      " -7.41228962e+00 -5.41170597e+00 -6.37132978e+00 -1.61266053e+00\n",
      " -5.24300289e+00 -2.05802097e+01  9.91933250e+00 -4.42308426e+00\n",
      " -3.94667053e+00 -7.52685261e+00 -1.02722973e-01 -9.20042896e+00\n",
      " -7.25459194e+00 -7.19107676e+00 -2.21134567e+00 -1.15458035e+00\n",
      " -5.07578802e+00 -1.60111504e+01  1.65687740e+00 -1.92849007e+01\n",
      "  1.23844366e+01 -7.27291298e+00 -1.16193810e+01 -3.29773211e+00\n",
      " -1.49707603e+01 -5.86395979e+00  7.95607567e+00 -4.66693830e+00\n",
      "  2.92054415e+00 -6.83824682e+00 -2.91397238e+00 -7.64886999e+00\n",
      " -8.53832245e+00 -2.20473480e+00 -2.30044389e+00  6.57706881e+00\n",
      "  3.19007230e+00 -1.49732418e+01 -7.52207088e+00  2.33957648e+00\n",
      " -1.05267811e+01 -1.47692375e+01 -2.62006044e+00 -4.68959808e+00\n",
      "  4.69655228e+00 -5.14064550e-01 -2.23421764e+00 -3.29343915e+00\n",
      " -2.62827988e+01 -1.06705437e+01  3.45402050e+00 -2.37352952e-01\n",
      " -1.47999506e+01  1.23086607e+00  1.30520105e+00 -3.37699056e+00\n",
      "  2.55110383e+00 -1.79410517e+00 -7.27480602e+00 -4.19911861e+00\n",
      "  8.85048211e-02 -1.75834751e+01 -2.54987693e+00 -5.02308369e-01\n",
      " -3.74923706e+00 -1.77037182e+01 -5.63925076e+00 -1.68657494e+00\n",
      " -1.19004412e+01 -5.58194542e+00 -2.78664440e-01  6.46824718e-01\n",
      " -2.37087955e+01 -2.48419261e+00  4.11016369e+00  5.50076914e+00\n",
      " -2.61600423e+00 -2.24078751e+01  4.56781435e+00 -7.53591442e+00\n",
      " -1.18658133e+01 -4.49826717e+00 -1.11046324e+01  2.43622258e-01\n",
      "  3.28731990e+00  4.33218384e+00 -5.66350333e-02 -3.39047647e+00\n",
      "  1.72572529e+00 -3.05853933e-01  2.29516363e+00  2.22778034e+00\n",
      " -1.47916775e+01 -9.85255432e+00 -6.96321630e+00  7.66366243e+00\n",
      "  1.07083690e+00 -1.48710918e+00 -2.45525694e+00 -1.23840408e+01\n",
      "  2.06713891e+00 -2.24816208e+01  3.87171936e+00 -5.98006105e+00\n",
      " -2.26062655e+00 -2.41987610e+00  3.04683280e+00  8.77297878e+00\n",
      " -8.66659343e-01 -7.35812759e+00 -1.59461164e+00  1.54576855e+01\n",
      "  4.95230332e-02 -2.92011032e+01 -7.72171068e+00 -8.18890572e+00\n",
      "  1.72581124e+00 -1.79286423e+01  8.58387184e+00 -1.21713424e+00\n",
      " -1.18444672e+01 -1.07533379e+01 -3.01101780e+00 -1.94374180e+00\n",
      " -2.14935074e+01  1.54670696e+01 -3.36045933e+00  1.51824331e+00\n",
      " -1.29077368e+01  1.19731016e+01  4.10250425e+00 -1.65288887e+01\n",
      "  2.92579979e-01 -1.01467333e+01 -6.60959196e+00 -5.90575409e+00\n",
      "  3.10448551e+00 -3.17217350e+00 -2.11938419e+01 -3.86582828e+00\n",
      " -2.15167713e+01 -4.92480135e+00 -4.66062927e+00 -4.42394972e+00\n",
      " -1.03200614e+00  2.48852372e+00  4.51185316e-01 -7.44034290e+00\n",
      " -6.49148878e-03 -4.83167648e+00 -9.63033581e+00 -2.50411248e+00\n",
      "  7.33329356e-01 -9.61723328e+00 -3.37837845e-01 -5.70348549e+00\n",
      " -3.61693478e+00  2.43458241e-01  1.99955881e+00  2.05893970e+00\n",
      "  4.82776105e-01 -2.31009426e+01 -8.20345020e+00  5.31010723e+00\n",
      "  3.96414804e+00 -2.28241038e+00 -1.76902695e+01 -2.10456061e+00\n",
      " -4.44258499e+00 -7.86463261e+00  1.90367568e+00  9.60683674e-02\n",
      " -1.96392841e+01 -7.22035980e+00 -2.34436154e+00 -1.43135176e+01\n",
      " -2.16896534e+01 -2.53365116e+01 -1.97747440e+01  1.37527740e+00\n",
      " -3.71609592e+00  5.45268774e+00 -4.83284616e+00 -2.66196036e+00\n",
      "  7.19875622e+00  2.11764932e+00  1.16191268e+00 -3.22038937e+00\n",
      " -2.27400703e+01 -8.68748379e+00  2.82163429e+00  1.03115177e+00\n",
      " -1.89254820e+00 -3.35761309e+00  3.73182344e+00 -2.25954503e-01\n",
      "  1.90655756e+00  7.64068365e+00  3.00245929e+00 -9.39635468e+00\n",
      " -3.40527630e+00  1.58831388e-01 -1.20275497e+01 -2.81338406e+01\n",
      " -1.35084991e+01  5.18513012e+00 -1.35451174e+00  4.29106355e-01\n",
      " -1.65380230e+01 -1.31405630e+01  2.71735668e+00 -2.64280796e+01\n",
      "  1.79626572e+00 -2.19297409e+01 -2.32182293e+01 -7.89082241e+00\n",
      " -3.61263695e+01 -1.35019379e+01 -3.49891777e+01 -2.04173412e+01\n",
      " -6.79480886e+00  2.25187063e+00  1.16317520e+01  6.74395943e+00\n",
      " -3.18503933e+01 -2.52056465e+01 -1.09973488e+01 -3.13812332e+01\n",
      "  1.65017452e+01 -6.40884304e+00 -2.46726742e+01 -6.77150202e+00\n",
      " -5.80505657e+00 -1.40357742e+01  4.49754667e+00 -1.24786930e+01\n",
      " -3.08949490e+01 -1.72158122e-01 -3.54489946e+00 -2.11779785e+01\n",
      " -1.06340456e+01 -2.71123734e+01 -1.17061195e+01 -1.97543278e+01\n",
      "  1.43726530e+01 -1.54688196e+01 -3.29390945e+01 -7.81587076e+00\n",
      " -4.59836054e+00 -6.84365225e+00  6.57894135e+00 -2.26608968e+00\n",
      " -8.67968273e+00 -2.88713818e+01 -1.10857241e-01 -1.28221073e+01\n",
      " -4.13124542e+01 -1.59220695e+00 -1.44942064e+01 -1.82768404e+00\n",
      "  3.16550469e+00 -1.71273003e+01  5.18843031e+00 -3.20440292e+01\n",
      "  6.78412580e+00 -1.78746390e+00 -1.31489077e+01 -4.61448765e+00\n",
      " -1.21166649e+01 -6.16132450e+00 -2.51426578e+00 -2.05359879e+01\n",
      " -9.36812878e+00 -5.03368330e+00  3.82993007e+00  8.97507191e+00\n",
      " -8.26416016e+00 -6.55087328e+00 -2.29185543e+01  3.61729765e+00\n",
      "  7.93426991e+00  2.05543303e+00 -5.47724819e+00 -6.76019049e+00\n",
      "  9.68044090e+00  8.38377401e-02 -1.05486708e+01 -4.60742111e+01\n",
      "  3.48807168e+00 -2.95283127e+01  5.95160913e+00 -1.26185255e+01\n",
      " -2.80157928e+01 -3.41901731e+00 -9.42743778e+00  1.11751881e+01\n",
      " -1.31088219e+01 -1.98585320e+01 -9.02688313e+00 -2.47827034e+01\n",
      " -3.01430302e+01 -7.06404448e+00 -3.74249315e+00  1.07243228e+00\n",
      " -2.90467129e+01 -1.88420143e+01 -2.22958126e+01 -2.33601999e+00\n",
      " -5.78160906e+00 -3.18884420e+00 -1.06714239e+01 -7.11726141e+00\n",
      " -3.52949047e+00  8.12202740e+00 -2.96623402e+01  1.26989088e+01\n",
      " -7.59107399e+00 -5.67956448e+00  3.02578020e+00 -3.86636696e+01\n",
      " -6.28904963e+00 -2.41050282e+01 -1.70289874e+00  4.22538853e+00\n",
      " -1.52128601e+01 -4.47491217e+00]' has dtype incompatible with int64, please explicitly cast to a compatible dtype first.\n",
      "  preds[val_index] = model.predict(dval_i)\n"
     ]
    },
    {
     "name": "stderr",
     "output_type": "stream",
     "text": [
      "\r",
      " 30%|████████████████████████████████████████████▍                                                                                                       | 3/10 [00:56<02:12, 18.96s/it]"
     ]
    },
    {
     "name": "stderr",
     "output_type": "stream",
     "text": [
      "C:\\Users\\81809\\AppData\\Local\\Temp\\ipykernel_10116\\3386215446.py:18: FutureWarning: Setting an item of incompatible dtype is deprecated and will raise an error in a future version of pandas. Value '[ 2.09121490e+00 -8.81615543e+00  5.16853952e+00  1.56948080e+01\n",
      "  2.22596626e+01  8.54811192e+00  4.44848824e+00 -2.60328698e+00\n",
      "  2.02474880e+00  1.16162646e+00 -2.63425040e+00 -3.18004346e+00\n",
      "  6.29550517e-01 -1.73678768e+00 -4.96224642e+00  2.05832214e+01\n",
      " -2.23291802e+00 -1.59887958e+00  2.15207577e+01  9.77409661e-01\n",
      "  6.49838591e+00  3.35948348e+00  6.37562275e-01  5.28449488e+00\n",
      " -4.27819729e+00  8.49394989e+00 -1.83009535e-01 -3.31109071e+00\n",
      "  2.67376280e+00  4.82915640e+00  6.58811331e-01  1.61801872e+01\n",
      "  4.27502632e+00  3.84424591e+00  2.02767327e-02  7.61953974e+00\n",
      "  6.17610574e-01  1.77306824e+01  2.75899172e+00 -7.35403442e+00\n",
      "  6.78298616e+00 -2.98307180e-01  8.03614426e+00  4.61064672e+00\n",
      " -6.17314053e+00  6.05675602e+00  2.52206612e+00 -8.71717262e+00\n",
      " -1.59750319e+00 -2.06019759e+00  2.11100807e+01  4.11201715e-01\n",
      "  4.51275259e-01 -2.28553653e+00  7.52892065e+00  1.62244081e+00\n",
      " -2.33633804e+00 -6.88253939e-01  2.26025562e+01  1.27031183e+01\n",
      " -3.36388397e+00 -9.01980847e-02  2.46586647e+01 -2.60078788e+00\n",
      "  2.34398746e+00 -9.81355429e-01  8.39549005e-01  1.15337515e+00\n",
      " -2.83403969e+00 -8.50675777e-02  2.18539772e+01 -1.92964649e+00\n",
      "  7.16673613e+00  7.54221153e+00  4.03055489e-01 -2.50146651e+00\n",
      "  4.35761023e+00 -1.94770789e+00  2.41333818e+00 -9.83452702e+00\n",
      "  1.71439018e+01  3.81953406e+00  8.08174610e+00  1.11421633e+01\n",
      " -2.35794663e+00  4.78232050e+00  3.72449923e+00 -2.41835904e+00\n",
      "  2.60324039e+01  1.26597366e+01 -1.08897429e+01 -5.87503004e+00\n",
      "  1.77176991e+01 -2.83128214e+00 -1.78767693e+00  5.00782394e+00\n",
      " -9.51802909e-01  1.15375223e+01  5.45252275e+00 -2.10555387e+00\n",
      " -3.92605591e+00  3.65085554e+00  2.19462185e+01  1.58098898e+01\n",
      " -1.49039955e+01 -1.80929095e-01 -3.54832053e+00  1.10093765e+01\n",
      " -1.94006693e+00  4.40251780e+00  7.71310806e+00  7.00773668e+00\n",
      "  1.55237083e+01  5.66136408e+00  1.31423616e+00  2.68225479e+00\n",
      " -2.83790207e+00  1.41961050e+01  1.82232533e+01  5.24015522e+00\n",
      "  5.85472965e+00  9.97954082e+00 -2.29526162e+00  6.80367899e+00\n",
      " -6.35219955e+00  1.74048865e+00  1.09619541e+01 -6.45098352e+00\n",
      "  7.40370512e+00  7.46979189e+00  4.30036116e+00  8.93494606e+00\n",
      "  9.46321297e+00  1.87416477e+01  1.26572046e+01  8.94090652e+00\n",
      "  1.64392918e-01 -4.20858908e+00  7.07516527e+00 -3.51308060e+00\n",
      " -4.63007498e+00  2.18707523e+01  9.84018326e+00 -1.77145135e+00\n",
      " -2.67879367e+00  6.57080984e+00  5.49505949e+00  2.58659329e-02\n",
      "  6.32372332e+00 -1.75867677e+00  2.36852283e+01  5.35137081e+00\n",
      "  1.55287123e+01 -9.67995644e+00 -4.13202429e+00 -7.50952423e-01\n",
      " -7.49187183e+00  1.42219973e+00  2.52993822e+00  6.68756676e+00\n",
      "  6.00529242e+00 -1.14037857e+01  6.80912673e-01  1.74547350e+00\n",
      "  4.78868628e+00  4.09934855e+00  8.96896267e+00  3.27044773e+00\n",
      "  2.83149028e+00 -1.98065281e+00  4.11512518e+00 -6.62114954e+00\n",
      " -1.57921581e+01 -3.64885449e+00  7.86451399e-01  1.72733803e+01\n",
      "  3.00458312e+00 -2.13595724e+00  6.01567221e+00  3.75748158e+00\n",
      " -1.87976086e+00 -1.12263381e+00 -3.63676548e+00 -4.92281389e+00\n",
      "  2.58594265e+01  2.46106291e+00  2.29552708e+01 -6.31379795e+00\n",
      "  3.50807238e+00  5.25872803e+00 -3.91861820e+00 -3.11358213e+00\n",
      "  6.70976043e-01  8.46547031e+00  1.46221428e+01  1.45870697e+00\n",
      "  2.29025498e-01  1.65643101e+01 -2.20264320e+01 -2.27259517e+00\n",
      " -1.10100546e+01  1.32944546e+01  2.98961473e+00 -3.32058597e+00\n",
      "  2.79593873e+00  3.66601372e+00  2.69065380e+00  3.51488519e+00\n",
      "  8.99371815e+00  9.15872860e+00  1.73636019e+00  3.09940605e+01\n",
      "  3.02191315e+01  3.81090713e+00  9.14496708e+00 -2.58719349e+00\n",
      "  3.63936882e+01  1.85158384e+00  1.57980947e+01  1.12284746e+01\n",
      " -3.59494901e+00 -2.11958408e+00  1.67359638e+00  3.71329842e+01\n",
      "  1.23940067e+01  2.52666759e+01  3.66490250e+01  6.46711779e+00\n",
      " -7.31080830e-01  7.69557810e+00 -9.41030884e+00  5.73965120e+00\n",
      "  3.51261330e+00  2.82590847e+01  1.04621229e+01  1.77293949e+01\n",
      "  3.63517493e-01 -6.91868782e+00  1.59009016e+00 -1.44777422e+01\n",
      "  3.67214279e+01  1.17411900e+01 -3.57947081e-01  2.11034703e+00\n",
      "  2.59908123e+01  1.93343067e+01  2.11437168e+01  5.39888191e+00\n",
      " -1.54817224e+00 -4.93390942e+00  1.95452919e+01  1.41372843e+01\n",
      "  3.01060429e+01  4.00758839e+00  7.69816971e+00  2.26346531e+01\n",
      "  3.84502602e+00 -1.40298243e+01  1.13947802e+01 -2.36844659e+00\n",
      "  3.11522269e+00 -5.13382292e+00  2.38610096e+01 -2.74102712e+00\n",
      "  2.99146500e+01  1.31410313e+01  3.16950965e+00  4.71514797e+00\n",
      "  1.86729169e+00  1.09219379e+01  3.57833900e+01  1.50311880e+01\n",
      "  5.80552197e+00  1.39252930e+01  3.43955612e+01  8.17281544e-01\n",
      "  6.75751305e+00 -8.73962402e+00  2.66889572e+00 -1.52757871e+00\n",
      "  1.32761345e+01  1.43116179e+01  2.27009087e+01 -2.39704132e+00\n",
      " -1.21946344e+01 -7.73116302e+00  1.43030989e+00 -6.42554712e+00\n",
      "  2.53960180e+00  2.18548565e+01  5.99212217e+00 -1.23640871e+01\n",
      "  3.79970789e+00  8.30410767e+00  5.69449328e-02  3.88514471e+00\n",
      "  2.05403023e+01 -7.21240568e+00 -1.31868935e+01  3.85572853e+01\n",
      "  6.89008093e+00 -5.21235275e+00  3.00316830e+01  1.23108788e+01\n",
      "  2.20756073e+01  1.42096577e+01  4.23936892e+00 -3.76557302e+00\n",
      " -1.31605043e+01  2.32718691e-01 -6.16413307e+00 -1.21137810e+01\n",
      " -3.62549305e+00 -1.24034882e+01 -1.64192486e+01 -9.55772209e+00\n",
      " -7.65219164e+00 -8.26013279e+00 -6.78412056e+00 -6.34874058e+00\n",
      "  4.44600058e+00 -7.02511072e+00  3.38607144e+00  2.16750455e+00\n",
      "  2.07359910e+00 -2.29076767e+01 -2.25916624e-01 -1.41397810e+01\n",
      " -2.09896603e+01 -1.36838889e+00 -6.07945681e+00 -1.37685311e+00\n",
      "  5.16189671e+00  3.87921476e+00 -7.88466573e-01 -8.03584385e+00\n",
      " -9.30494308e+00  1.29643714e+00 -5.96185112e+00  2.11376214e+00\n",
      "  5.51070094e-01 -5.50348341e-01 -5.30562067e+00 -2.65554371e+01\n",
      " -9.85249043e+00 -5.57859707e+00 -1.55623446e+01 -2.50126386e+00\n",
      " -6.68280840e+00 -1.82546940e+01 -7.90814352e+00  3.26284319e-01\n",
      " -5.47242689e+00  6.53787327e+00 -1.92896557e+01  8.67131996e+00\n",
      " -5.52983665e+00 -2.50131397e+01 -7.01880407e+00 -8.87524068e-01\n",
      " -4.92061567e+00 -9.05927563e+00 -5.69078207e+00 -4.11104631e+00\n",
      "  2.35676146e+00 -1.23734932e+01  3.13752460e+00 -1.48721981e+01\n",
      "  1.50656271e+00 -6.05693769e+00 -5.00380993e+00 -2.82407165e+00\n",
      " -2.20850105e+01 -8.91011429e+00 -4.76665401e+00 -8.77939224e+00\n",
      " -7.39582920e+00  7.76307762e-01  4.33758587e-01 -1.70615730e+01\n",
      " -2.69422531e+01 -2.64602256e+00 -1.21218348e+00 -9.57017303e-01\n",
      " -1.72754726e+01 -5.41366458e-01 -5.41887665e+00 -1.10083306e+00\n",
      "  8.99619460e-01 -2.54399719e+01 -1.93751659e+01  1.67546153e+00\n",
      " -1.19486475e+01  2.31434894e+00 -6.28755236e+00 -2.80108476e+00\n",
      " -5.40186882e+00 -1.13796949e+01 -5.17176533e+00 -5.18888426e+00\n",
      " -2.35346031e+01  1.47920494e+01  5.00984955e+00 -2.74238129e+01\n",
      " -1.57869740e+01 -1.62020321e+01 -1.78097744e+01 -6.70301342e+00\n",
      " -3.53713012e+00 -4.14459372e+00  8.90667820e+00 -4.85640907e+00\n",
      " -8.59350300e+00 -3.99868321e+00  8.94870579e-01  3.07044291e+00\n",
      " -3.48659068e-01 -1.05924380e+00 -1.48227205e+01  2.29093456e+00\n",
      "  1.74361974e-01  5.05560350e+00 -1.92487030e+01 -1.16408453e+01\n",
      " -2.36478758e+00 -4.56655359e+00  2.63029599e+00 -1.08763447e+01\n",
      " -1.20560436e+01 -2.99601340e+00 -5.39328992e-01 -5.76617777e-01\n",
      "  1.54707119e-01 -5.47609711e+00  4.51868296e-01  7.98557401e-02\n",
      " -4.62854815e+00 -5.77722692e+00 -9.37498569e+00 -9.92348576e+00\n",
      " -5.94943666e+00 -3.92030454e+00  2.36194775e-01 -6.57874060e+00\n",
      "  6.62341475e-01 -1.95425701e+00 -2.21853676e+01  1.57452869e+00\n",
      "  3.55733323e+00 -1.74212818e+01 -2.47760892e+00 -2.09236455e+00\n",
      "  3.20517015e+00 -1.47819638e+00 -4.70447922e+00 -5.58508492e+00\n",
      " -2.53216982e+00  3.95146036e+00  2.42437625e+00 -2.25693855e+01\n",
      "  2.56895244e-01 -4.53671312e+00 -3.62751150e+00  1.20883369e+00\n",
      " -3.52387881e+00 -2.64856148e+00  4.03936100e+00 -3.10599685e+00\n",
      " -1.53576927e+01 -2.60171652e+00 -6.19981003e+00  1.98343083e-01\n",
      " -4.37638092e+00 -1.19090271e+01 -5.88447142e+00 -6.40942812e+00\n",
      " -2.45010853e+00 -5.11801195e+00 -1.29880686e+01 -2.27479649e+01\n",
      " -1.43748016e+01 -2.43676376e+01  5.56301928e+00 -2.56708598e+00\n",
      "  1.27744036e+01  4.72521019e+00  4.25387573e+00 -1.14802351e+01\n",
      " -5.52611256e+00  3.47962213e+00 -3.84685397e+00  5.35241747e+00\n",
      " -2.12996387e+01  7.68373907e-01 -4.12283945e+00 -1.74662876e+01\n",
      " -4.36315870e+00  1.66564274e+00 -3.83891791e-01 -1.37506115e+00\n",
      " -6.78533030e+00  6.70338392e+00 -1.22954788e+01 -4.18156195e+00\n",
      " -1.39422369e+01 -6.51572752e+00 -1.83367062e+00 -2.55529385e+01\n",
      " -1.53623619e+01  3.09797287e+00  9.38053668e-01 -3.88436484e+00\n",
      "  1.10277252e+01 -4.37867355e+00 -1.64530582e+01 -5.04825354e+00\n",
      "  3.06873226e+00 -6.28637266e+00 -3.45552039e+00 -8.47305298e+00\n",
      " -1.16893320e+01 -3.40273590e+01  2.57696605e+00 -2.44474659e+01\n",
      " -1.28356152e+01  6.28268671e+00 -1.92430649e+01 -1.38415575e+01\n",
      "  1.82553995e+00 -9.61555576e+00  1.62263358e+00 -2.65709553e+01\n",
      " -2.81762829e+01  3.81612778e+00 -3.45624695e+01 -2.67110214e+01\n",
      " -1.34720936e+01 -8.30789280e+00 -4.87189770e+00 -2.59181881e+01\n",
      " -1.84232593e+00 -1.34220724e+01  4.92305803e+00 -1.53675437e+00\n",
      " -4.04322052e+00 -5.85474551e-01 -4.37771606e+01 -1.50344706e+00\n",
      " -3.43042874e+00  6.62805319e+00 -2.12030926e+01 -2.46884251e+01\n",
      " -2.80660400e+01 -1.18845329e+01  1.36716950e+00 -8.91380405e+00\n",
      "  5.91000378e-01 -1.90756845e+00 -8.62184238e+00 -2.51868553e+01\n",
      "  5.45132458e-01 -7.72642088e+00 -6.71766400e-01 -1.62016964e+01\n",
      " -9.57363892e+00 -6.66002369e+00 -3.75018811e+00 -1.27965889e+01\n",
      " -1.37047987e+01 -3.16379871e+01 -2.87645888e+00 -4.02499533e+00\n",
      " -3.07038956e+01 -3.69031219e+01 -3.83833580e+01 -8.35886860e+00\n",
      " -9.08409405e+00 -2.86170082e+01 -6.64184523e+00 -1.95417824e+01\n",
      "  2.46636176e+00 -1.61578350e+01 -1.16337786e+01  1.15935364e+01\n",
      "  2.38285756e+00  2.24599338e+00 -4.71955442e+00 -5.59245777e+00\n",
      " -1.21334372e+01  8.00261617e-01 -1.23210468e+01 -3.41477609e+00\n",
      "  3.72321105e+00  4.98309183e+00 -7.08969450e+00  3.61284733e-01\n",
      " -6.91102648e+00 -1.48098040e+01 -1.75210819e+01 -3.48291206e+00\n",
      "  9.43772030e+00 -6.75477314e+00 -2.33725691e+00 -1.19392576e+01\n",
      " -1.15302172e+01  2.32162738e+00 -1.77677917e+01 -2.57796879e+01\n",
      "  3.32347965e+00 -4.13909101e+00  4.69795763e-01 -1.96734009e+01\n",
      " -5.04399395e+00 -4.35689211e+00 -2.16375904e+01 -3.54866385e+00\n",
      "  1.05653162e+01  2.46460661e-01 -6.07101011e+00  7.36712217e+00\n",
      " -8.10758209e+00 -2.52042332e+01 -4.92049575e-01 -2.83455067e+01\n",
      " -1.52350321e+01  4.32645845e+00 -1.65669785e+01 -5.56479311e+00\n",
      " -6.14889717e+00  7.86345816e+00 -1.82855587e+01 -3.00304947e+01\n",
      " -3.97848244e+01 -1.00474215e+01 -7.09609890e+00 -3.76913605e+01\n",
      " -2.94797878e+01 -3.93039894e+00 -2.08775158e+01  6.03876972e+00\n",
      "  9.13957024e+00 -3.53548775e+01 -2.90326238e+00 -2.86488323e+01\n",
      " -1.55046272e+01 -2.29875183e+01]' has dtype incompatible with int64, please explicitly cast to a compatible dtype first.\n",
      "  preds[val_index] = model.predict(dval_i)\n"
     ]
    },
    {
     "name": "stderr",
     "output_type": "stream",
     "text": [
      "\r",
      " 40%|███████████████████████████████████████████████████████████▏                                                                                        | 4/10 [01:18<02:01, 20.28s/it]"
     ]
    },
    {
     "name": "stderr",
     "output_type": "stream",
     "text": [
      "C:\\Users\\81809\\AppData\\Local\\Temp\\ipykernel_10116\\3386215446.py:18: FutureWarning: Setting an item of incompatible dtype is deprecated and will raise an error in a future version of pandas. Value '[-9.32658100e+00 -2.45769963e-01  2.16965523e+01  1.14773693e+01\n",
      "  2.17592106e+01  1.68800373e+01 -1.18256712e+00  6.47181463e+00\n",
      "  9.17304993e+00  7.27783108e+00  8.08183956e+00 -3.99948931e+00\n",
      " -3.84395361e+00  2.41787958e+00  2.48120327e+01  2.26595936e+01\n",
      " -1.32261288e+00  6.69404650e+00 -1.21801221e+00  3.72727275e+00\n",
      "  1.04578648e+01  2.04095960e+00  1.93985786e+01  2.08737297e+01\n",
      "  2.62602592e+00 -5.80811405e+00  1.41332364e+00  1.58988595e+00\n",
      "  7.04773617e+00 -5.41911459e+00  6.59402800e+00 -1.14603209e+00\n",
      "  1.81297569e+01 -1.47548509e+00 -7.81654787e+00  2.93932915e+00\n",
      "  1.81082935e+01 -6.04902554e+00  8.49006236e-01 -3.11362195e+00\n",
      "  2.38886523e+00  7.91003609e+00 -4.63809824e+00 -7.57698536e+00\n",
      " -2.67277074e+00  8.56230259e+00  6.17451572e+00  1.45478611e+01\n",
      "  6.41673803e+00  7.95166159e+00  5.46316338e+00 -4.55227709e+00\n",
      " -3.65040803e+00  5.80605364e+00 -1.24942532e+01  5.51141834e+00\n",
      "  8.33099365e+00  2.23983688e+01  2.16840000e+01  4.78011990e+00\n",
      "  5.17893171e+00  1.80661833e+00  3.89795256e+00 -1.90137708e+00\n",
      "  6.62861347e+00  5.98077393e+00 -1.88563097e+00  2.52225900e+00\n",
      "  2.93581796e+00  2.21938610e+00 -1.79364300e+00  2.65774012e+00\n",
      " -2.25839305e+00  4.91355610e+00  3.68895113e-01  2.74034805e+01\n",
      "  8.37480640e+00 -2.46833134e+00 -6.69406748e+00 -1.69563663e+00\n",
      "  1.16821661e+01  2.06366277e+00 -2.83985710e+00  2.73887467e+00\n",
      "  9.20966148e+00  1.73607385e+00  1.32048817e+01  1.52216291e+00\n",
      "  2.31604214e+01  1.05347891e+01 -1.05413752e+01 -6.14836645e+00\n",
      "  2.32813034e+01 -5.69142628e+00  7.96628809e+00  1.24736338e+01\n",
      "  3.57804203e+00  1.20994577e+01 -1.06251907e+00 -2.42757154e+00\n",
      " -8.00298691e-01  1.17208767e+01  2.38395481e+01 -8.27100754e+00\n",
      " -6.10568905e+00  1.28369999e+01 -2.48711872e+00  5.15000725e+00\n",
      "  2.88596749e+00  2.60830641e+00 -7.86890030e+00 -1.76406670e+00\n",
      "  6.26851797e-01  4.95535278e+00  1.09404945e+00  2.88082600e+00\n",
      " -1.07516804e+01  5.97475433e+00 -2.36550140e+00  5.41816890e-01\n",
      " -3.31869888e+00  7.12437820e+00  4.32208633e+00 -3.16908693e+00\n",
      "  3.66231513e+00  2.04733181e+00  7.67257595e+00  6.48068190e+00\n",
      "  1.41282730e+01  3.80817962e+00 -1.96292038e+01 -1.56584775e+00\n",
      "  3.12752461e+00 -9.26786661e-01  7.55429411e+00 -4.17905807e+00\n",
      "  8.93473208e-01  4.62590599e+00  2.93927078e+01  1.26473322e+01\n",
      " -2.26552796e+00  1.65140667e+01  2.17296848e+01 -3.55687904e+00\n",
      " -7.23225832e+00  1.48891335e+01 -1.04988642e-01  8.58438587e+00\n",
      "  1.56944823e+00  6.11429644e+00  5.78572702e+00 -3.74341249e+00\n",
      "  1.50998650e+01  3.52406526e+00  1.94002128e+00  1.87261462e+00\n",
      "  7.68044519e+00  2.08940620e+01  2.52513742e+00 -1.03068228e+01\n",
      "  3.46991706e+00 -8.05780506e+00 -7.00532079e-01  3.73717475e+00\n",
      " -3.69596219e+00  5.28743410e+00  5.75981259e-01  3.50766838e-01\n",
      "  2.70873833e+00  1.00806437e+01 -9.73421097e-01  7.89268541e+00\n",
      "  1.02617826e+01 -7.04277802e+00  3.77007079e+00  3.09435630e+00\n",
      " -2.16219097e-01  5.87814188e+00  5.11485767e+00  3.06727505e+00\n",
      " -2.34877276e+00  6.27846718e+00 -2.23300433e+00 -4.97315264e+00\n",
      " -5.07484579e+00  1.27919016e+01  3.07103229e+00  6.21220779e+00\n",
      " -2.30402946e+00 -2.05273676e+00  2.72724228e+01  5.59928226e+00\n",
      "  2.45410881e+01 -4.04867709e-01 -8.29156399e+00  1.41719732e+01\n",
      "  1.18040314e+01  4.25791121e+00 -1.18724905e-01 -4.96348572e+00\n",
      "  1.01782494e+01  1.68680248e+01 -2.89203119e+00 -2.76183915e+00\n",
      "  5.08039999e+00  5.45562506e+00 -1.00768824e+01  5.16283512e+00\n",
      " -5.68281698e+00 -7.19615221e+00 -1.45855606e+00  1.45775676e+00\n",
      "  1.15253239e+01  1.30575771e+01 -6.30220222e+00  2.65250854e+01\n",
      "  8.51477146e+00  1.00782890e+01  5.25009680e+00  1.22340174e+01\n",
      " -4.67740250e+00  3.45482101e+01 -1.39347005e+00  1.79310875e+01\n",
      " -2.41524577e+00  2.57813148e+01  2.41174126e+01 -5.21235037e+00\n",
      " -5.68640041e+00  1.02193203e+01  1.39145861e+01  1.78921013e+01\n",
      " -7.76231289e+00 -4.43456602e+00 -3.49784780e+00  1.78655207e+00\n",
      "  8.83639991e-01  1.87451572e+01  3.65003891e+01 -5.21068335e-01\n",
      "  1.89167249e+00  8.76994419e+00 -1.36631060e+00  1.95823059e+01\n",
      "  1.51431007e+01  2.07415009e+01  1.97181606e+01  1.55631971e+01\n",
      "  7.70389557e+00  1.23330843e+00  8.05506706e+00  2.33949337e+01\n",
      "  4.24554682e+00  4.32737255e+00  2.57855110e+01  7.04640675e+00\n",
      " -8.20346928e+00  2.54867229e+01  1.52091398e+01  2.08625412e+01\n",
      " -1.09407306e+00  2.46180797e+00  2.46193256e+01  9.25628948e+00\n",
      "  1.81484566e+01  1.49312949e+00 -1.05732040e+01 -6.06139898e-01\n",
      "  1.50445807e+00  3.00371895e+01  1.15351744e+01  1.59283934e+01\n",
      " -7.44473886e+00  1.29406729e+01  3.63990440e+01  1.11883354e+01\n",
      "  5.66693163e+00  1.49520092e+01 -4.05374241e+00  3.57075691e+01\n",
      "  3.35124969e-01 -2.06692100e+00  4.15977440e+01  9.15866280e+00\n",
      "  5.46965265e+00 -7.97146797e+00  5.25353718e+00  3.73982010e+01\n",
      "  4.17417479e+00  3.10549307e+00 -3.66037548e-01  1.75419807e+01\n",
      "  1.46421556e+01  2.83881702e+01  1.30328064e+01 -3.30805182e+00\n",
      " -3.23043227e+00  1.29799900e+01  2.12135315e+01 -2.67098331e+00\n",
      "  5.37889242e+00  9.73647308e+00  3.51277447e+00  2.89654846e+01\n",
      "  1.66913242e+01  5.21546602e+00  1.34435930e+01  3.77176452e+00\n",
      "  1.38724680e+01  5.01797342e+00  6.92186594e+00 -3.58236194e+00\n",
      " -4.29087639e+00  9.37811089e+00  1.40084915e+01  4.96349049e+00\n",
      "  1.47400808e+01  2.55133486e+00 -8.35653543e-02  2.60974121e+00\n",
      " -7.20294416e-01 -3.85739064e+00  2.51488709e+00 -8.56124783e+00\n",
      " -8.51430511e+00 -5.04616594e+00 -1.91358490e+01 -9.86159325e+00\n",
      " -7.61985838e-01  2.54243040e+00 -7.04186869e+00 -7.17291594e+00\n",
      " -8.97189236e+00 -3.78691816e+00 -2.21480799e+00 -6.63589382e+00\n",
      " -2.05771942e+01 -4.44382143e+00 -3.15184355e+00 -8.63891697e+00\n",
      " -9.97059536e+00 -8.00897884e+00  1.85181475e+00 -4.67960262e+00\n",
      " -3.26186323e+00 -1.07387543e+00  7.91624308e+00 -7.89854622e+00\n",
      " -8.03681076e-01  3.66679955e+00 -2.77255940e+00 -1.40403156e+01\n",
      " -1.23112335e+01 -1.16637850e+00  5.88283420e-01  1.23873580e+00\n",
      " -2.40287805e+00 -4.35198689e+00  3.51759863e+00 -5.49701834e+00\n",
      " -8.02159595e+00  4.34409618e+00 -9.06405640e+00 -2.47263622e+00\n",
      " -1.30406876e+01  3.00149536e+00 -6.34558344e+00 -1.45203614e+00\n",
      " -7.68458080e+00 -6.93079758e+00  4.67808485e+00  3.70701742e+00\n",
      " -8.33597469e+00 -3.74595141e+00 -5.89744377e+00 -5.35522127e+00\n",
      " -2.40658989e+01 -1.49302959e+01  4.13799733e-01 -7.34225845e+00\n",
      " -3.58956528e+00 -6.57379532e+00 -1.00501509e+01 -6.80308294e+00\n",
      " -2.54797554e+00  1.06594479e+00 -2.56749928e-01 -1.88609276e+01\n",
      " -2.40708923e+01 -7.55748081e+00  2.37420440e+00  1.85410881e+00\n",
      "  6.91856098e+00 -1.91066170e+01 -4.85657263e+00  8.92055392e-01\n",
      " -8.91551781e+00 -1.42266960e+01  4.38316870e+00 -1.93629627e+01\n",
      " -3.28570843e-01  2.93903816e-02 -1.43381987e+01  2.38194919e+00\n",
      " -1.79274883e+01 -9.81034458e-01  8.17434025e+00 -8.76389599e+00\n",
      "  3.20455742e+00 -9.69450378e+00 -1.01408072e+01 -5.44422674e+00\n",
      " -5.38457537e+00 -5.92591858e+00  1.66935945e+00 -5.97059441e+00\n",
      " -1.73132014e+00 -2.42152309e+01  2.59788513e+00  1.66087284e+01\n",
      "  1.84172177e+00 -1.05220165e+01 -1.00250130e+01 -5.22273684e+00\n",
      "  9.59341764e-01  1.92697918e+00 -8.85334301e+00 -4.65826559e+00\n",
      " -4.29518604e+00 -4.61392313e-01  8.57165515e-01 -1.94320977e+00\n",
      "  2.32294464e+00 -3.47308588e+00 -7.20091009e+00  7.64975429e-01\n",
      "  5.46261930e+00 -4.37815952e+00 -3.56186301e-01 -7.02829170e+00\n",
      " -2.59661603e+00 -9.04020119e+00  3.09592605e+00  2.08528824e+01\n",
      " -2.11536808e+01 -5.48231602e+00 -3.90982175e+00 -2.99723482e+00\n",
      " -1.93548584e+01 -3.98312163e+00  1.68253016e+00 -1.73088131e+01\n",
      "  5.18426943e+00 -4.51908886e-01 -1.85983968e+00 -9.70460796e+00\n",
      "  4.83522034e+00 -5.01354074e+00 -5.08774662e+00  2.53329539e+00\n",
      " -1.66559499e-02 -3.39185214e+00 -7.91984224e+00 -1.28832415e-01\n",
      "  6.64343882e+00 -1.22014294e+01 -1.35730243e+00 -1.68089828e+01\n",
      " -2.58982229e+00 -4.27884960e+00 -6.23468161e+00  8.43051338e+00\n",
      "  6.60987854e+00 -4.00918007e+00 -2.58934808e+00  6.87040710e+00\n",
      " -8.53559561e-03  2.05165625e+00  4.62257767e+00 -2.79041457e+00\n",
      " -2.15640392e+01 -1.24437456e+01 -3.29693460e+00  9.32956457e-01\n",
      "  1.13870134e+01 -8.59301627e-01 -7.01697111e-01 -8.71189213e+00\n",
      " -2.95476723e+00 -6.51889467e+00 -4.07037544e+00 -2.56551003e+00\n",
      " -7.77278852e+00  1.07856464e+00 -1.29424677e+01 -2.12568283e+01\n",
      " -7.41941357e+00 -4.52623177e+00 -1.10206976e+01 -1.96088390e+01\n",
      " -3.11846614e+00 -4.57331085e+00  1.78553736e+00  8.36344719e+00\n",
      " -2.63205299e+01 -3.30623698e+00 -2.34467411e+00 -1.52958832e+01\n",
      " -3.42074037e-01 -2.16884232e+01 -2.13008862e+01  6.34101868e-01\n",
      " -7.20067596e+00 -6.06327820e+00 -4.82966995e+00 -4.97794747e-02\n",
      " -7.85140657e+00 -4.09561777e+00 -5.17181349e+00 -6.47167206e+00\n",
      "  7.43070781e-01  1.15476170e+01  2.21855888e+01 -4.80137205e+00\n",
      "  3.76185870e+00  4.34577751e+00 -5.82056904e+00 -5.34557056e+00\n",
      " -4.14202404e+00 -3.02868595e+01 -5.35689211e+00 -2.45410957e+01\n",
      " -2.92872677e+01 -4.32154894e+00 -3.52169952e+01  1.21682911e+01\n",
      " -1.15549335e+01 -1.47340775e+01  8.91345596e+00 -6.30863380e+00\n",
      " -9.11243153e+00 -2.93026123e+01 -2.52010460e+01 -2.44616985e+01\n",
      " -3.63346720e+00 -3.64295807e+01 -2.43181248e+01 -8.15971279e+00\n",
      " -2.70901418e+00 -2.17630291e+01 -2.81213303e+01 -1.49636049e+01\n",
      " -1.96822166e+01 -1.18499651e+01 -2.27807426e+01 -3.48750648e+01\n",
      "  1.28684804e-01 -2.73425698e+00 -6.33142853e+00 -5.26731491e+00\n",
      " -4.51296730e+01  5.31922913e+00 -1.81932716e+01 -9.86523247e+00\n",
      " -1.19328747e+01  6.71542808e-02  2.65305781e+00 -2.60512066e+00\n",
      " -1.32422838e+01 -1.11576548e+01  1.33353510e+01  2.22222672e+01\n",
      " -3.87891793e+00 -1.48311611e-02 -1.98294582e+01 -1.21455641e+01\n",
      " -2.84004421e+01 -2.96387043e+01  3.33153200e+00 -1.69921646e+01\n",
      "  7.73679495e+00  1.11963425e+01 -3.00384884e+01 -1.42636862e+01\n",
      " -3.02618790e+01 -3.34507942e+01 -1.21896648e+01 -4.46826649e+00\n",
      " -3.60232391e+01 -4.94186211e+00 -3.56508980e+01  1.20627327e+01\n",
      " -1.10237446e+01 -2.34507942e+01 -2.73865681e+01 -6.16782331e+00\n",
      " -2.81863213e-01 -6.59111118e+00 -1.41844978e+01 -9.01303530e-01\n",
      " -2.93133106e+01 -1.30087986e+01 -2.46733913e+01  3.55751991e+00\n",
      " -7.93276215e+00  4.00294352e+00 -3.22568703e+00 -3.04309692e+01\n",
      " -7.00376153e-01 -1.52201438e+00 -7.98484087e+00 -1.47777004e+01\n",
      "  2.28400564e+00 -5.53688240e+00 -8.82037544e+00 -3.48099446e+00\n",
      " -4.10503006e+00 -2.37344627e+01 -2.92210407e+01 -2.82200413e+01\n",
      " -1.74254818e+01 -4.91356325e+00 -2.84035683e+01 -2.08028622e+01\n",
      " -6.32535696e+00  1.23087463e+01 -5.74063301e+00 -1.07164316e+01\n",
      " -1.36744785e+01 -6.20359230e+00  1.25410104e+00  8.67261219e+00\n",
      " -3.90072517e+01  2.55001330e+00 -2.45108433e+01  3.74282026e+00\n",
      " -1.12073011e+01  8.00754368e-01 -1.11940842e+01 -2.83568883e+00\n",
      " -2.20198178e+00  1.89154377e+01 -8.06611347e+00 -1.91914978e+01\n",
      " -3.23847818e+00 -3.11277723e+00]' has dtype incompatible with int64, please explicitly cast to a compatible dtype first.\n",
      "  preds[val_index] = model.predict(dval_i)\n"
     ]
    },
    {
     "name": "stderr",
     "output_type": "stream",
     "text": [
      "\r",
      " 50%|██████████████████████████████████████████████████████████████████████████                                                                          | 5/10 [01:39<01:42, 20.53s/it]"
     ]
    },
    {
     "name": "stderr",
     "output_type": "stream",
     "text": [
      "C:\\Users\\81809\\AppData\\Local\\Temp\\ipykernel_10116\\3386215446.py:18: FutureWarning: Setting an item of incompatible dtype is deprecated and will raise an error in a future version of pandas. Value '[ 2.79919243e+00  8.96992147e-01  1.45217581e+01  3.86100554e+00\n",
      " -5.64860582e+00 -7.86952436e-01  2.00299015e+01  6.98648119e+00\n",
      "  1.01226845e+01  7.08642387e+00  1.96149826e+00  5.50749683e+00\n",
      "  6.68647194e+00  2.45070858e+01  2.39801741e+00  2.11538429e+01\n",
      "  2.26795902e+01 -9.65439320e+00  1.74537814e+00  1.33361709e+00\n",
      " -5.72802536e-02 -3.97801399e+00  2.57624931e+01  2.78752899e+01\n",
      "  1.17140388e+01  3.75205135e+00 -3.77787733e+00  8.52391911e+00\n",
      "  4.00384903e+00 -8.68855894e-01 -2.59145856e+00  5.49638319e+00\n",
      "  2.31722093e+00  4.95694256e+00  1.59784994e+01  2.54749608e+00\n",
      " -7.71021321e-02  1.98656178e+01 -3.03864503e+00  4.43894148e+00\n",
      "  1.60504484e+00 -4.18998575e+00 -1.49789119e+00  7.21668720e+00\n",
      " -5.59693527e+00 -8.64752674e+00  1.73419704e+01  5.42051077e+00\n",
      "  2.24929504e+01  6.71172857e+00  1.72072315e+00  5.19280910e+00\n",
      " -1.62174022e+00 -2.29900980e+00  1.78430247e+00  1.29577684e+01\n",
      "  1.40654669e+01  6.06206799e+00  1.92948616e+00  3.59816527e+00\n",
      "  2.95689726e+00  4.64572334e+00  5.02139950e+00  6.82656574e+00\n",
      " -1.17254734e+00 -1.79791784e+00  1.71810570e+01  7.26539755e+00\n",
      "  1.17196293e+01  2.76025143e+01  3.91848445e+00  2.67031746e+01\n",
      " -9.31321430e+00  1.14028826e+01  1.07575426e+01  3.53012085e-01\n",
      "  4.28124523e+00  2.67499104e+01  7.84969521e+00  2.16620693e+01\n",
      " -1.32291722e+00  8.82851982e+00  8.15944290e+00 -1.83168852e+00\n",
      "  3.12309623e+00  1.22946215e+01  2.50885034e+00  1.06561346e+01\n",
      " -1.73592591e+00 -9.87757564e-01  2.52831078e+01 -3.54837680e+00\n",
      " -3.66741371e+00 -3.57229972e+00  2.66143608e+01 -1.19015411e-01\n",
      "  1.68193588e+01  1.69790789e-01  1.24681683e+01  1.17897761e+00\n",
      " -3.14805055e+00  3.80501509e+00  5.22789359e-01  1.59664440e+01\n",
      "  1.39402714e+01  2.08892288e+01 -5.22108173e+00  7.93789053e+00\n",
      " -3.39874148e+00  8.71597862e+00  1.04673157e+01  4.43255758e+00\n",
      " -1.39754295e+01 -3.68706226e+00 -2.42213964e+00  1.08881416e+01\n",
      " -3.81011516e-01  3.01919403e+01  1.44741516e+01  5.14703751e+00\n",
      "  9.72129631e+00  8.86141968e+00  1.67835617e+01  9.33120728e-01\n",
      "  1.20069981e+01  3.58290482e+00 -1.16767597e+00  7.98395348e+00\n",
      " -1.50780106e+00  2.91714478e+00  3.82652736e+00  4.15572596e+00\n",
      "  8.25025439e-01  8.40632343e+00 -1.13282232e+01 -1.18067896e+00\n",
      " -2.96765971e+00 -5.22265148e+00  6.35519743e+00  2.38484955e+00\n",
      " -2.17018032e+00  1.66687889e+01  1.28144417e+01 -5.85564184e+00\n",
      "  1.84660168e+01  1.76803875e+01  2.40936298e+01  3.67735791e+00\n",
      "  4.89604282e+00  4.37691402e+00 -1.59069693e+00  6.51023149e+00\n",
      "  3.77066684e+00  1.32714901e+01 -1.24301529e+00  2.32312965e+00\n",
      "  1.84469417e-01 -3.71045661e+00  4.83398628e+00  2.07133865e+01\n",
      "  6.67820501e+00  4.97943163e+00  1.20958602e+00  8.35737324e+00\n",
      "  1.02490401e+00  2.20089648e-02  4.66507101e+00  6.14507008e+00\n",
      "  1.11665506e+01 -5.39623213e+00  2.15233631e+01  3.10736585e+00\n",
      "  1.32175226e+01  7.56041813e+00  6.82165337e+00 -1.82094860e+00\n",
      "  1.95580626e+00  1.11099586e+01  4.23546839e+00  2.47330952e+01\n",
      "  6.68432379e+00  1.07402868e+01  1.01535816e+01  3.45508313e+00\n",
      "  2.49770336e+01  5.69888496e+00  6.00065756e+00  6.64913893e+00\n",
      "  4.73321629e+00  9.51297665e+00  1.03087578e+01  9.13402557e+00\n",
      "  6.73457241e+00 -2.50239873e+00  1.72459545e+01 -1.67176187e+00\n",
      "  3.32180858e+00 -7.64341772e-01  5.16219664e+00  1.13058100e+01\n",
      "  3.33236504e+01 -2.69551563e+00  4.32122688e+01 -1.83851230e+00\n",
      "  1.48584490e+01 -3.70932609e-01  3.64503431e+00 -6.33469009e+00\n",
      "  9.18046093e+00  3.25495815e+00  1.36668568e+01  5.77803373e+00\n",
      " -8.05586720e+00 -2.30049992e+00  2.26586075e+01  2.32051907e+01\n",
      "  9.23931503e+00  1.14010084e+00  3.40119133e+01  3.63742905e+01\n",
      "  5.92566109e+00  2.09979038e+01  8.95449734e+00  1.40517073e+01\n",
      "  1.73341522e+01 -6.59336472e+00  1.33154049e+01  7.53292179e+00\n",
      " -4.65496969e+00 -2.30232859e+00  2.22091365e+00 -6.68801165e+00\n",
      "  1.00375690e+01  3.53854442e+00  1.83035011e+01  3.54478302e+01\n",
      "  1.99894392e+00  3.18360424e+01  1.55742681e+00  3.06569040e-01\n",
      " -4.38946754e-01  5.30759525e+00  4.36145401e+00  1.77437723e+00\n",
      " -6.97443676e+00  1.39449370e+00  1.60058651e+01  3.64744973e+00\n",
      "  9.69453335e+00  1.35184631e+01  3.35719986e+01  4.88333797e+00\n",
      " -5.68129110e+00  1.52947264e+01  2.18663006e+01  1.11714573e+01\n",
      "  8.32807159e+00  7.12413216e+00  3.37809372e+00  2.74546528e+00\n",
      "  4.42958298e+01 -3.61882544e+00  2.41443043e+01 -3.41003561e+00\n",
      " -4.42173576e+00  1.55102472e+01  3.18561630e+01  6.55796194e+00\n",
      "  1.29871807e+01  1.01601868e+01 -2.18241310e+00  8.42859745e+00\n",
      "  1.55794954e+01  3.28445358e+01  1.20485795e+00  3.23527408e+00\n",
      "  6.75633430e+00 -2.42918849e+00  8.75457287e+00  5.28050613e+00\n",
      "  4.64821777e+01 -3.44155025e+00 -2.17526770e+00 -1.32785153e+00\n",
      "  2.98298607e+01 -6.08945608e+00  2.48259544e+01  2.04807816e+01\n",
      "  4.45719147e+00 -1.34035225e+01  1.03818951e+01  2.10833588e+01\n",
      "  8.09181690e+00  1.06429052e+00  7.18118143e+00  3.66313095e+01\n",
      " -3.06728578e+00  1.11845493e+01  5.55682278e+00  1.61045666e+01\n",
      "  2.68091178e+00  6.00610590e+00  4.01081228e+00 -9.42693329e+00\n",
      " -8.15897465e+00  1.00850499e+00 -1.02153606e+01 -2.02071023e+00\n",
      "  7.62782431e+00  9.50969219e+00  3.00860310e+01  1.39611187e+01\n",
      "  2.22924538e+01  5.93388605e+00  3.51090916e-02  1.91225128e+01\n",
      "  4.10142088e+00  8.37599277e+00  2.19984894e+01  1.45283232e+01\n",
      "  2.06035366e+01 -9.24916565e-02 -5.36911964e+00 -1.96629608e+00\n",
      " -2.06763821e+01 -7.80239964e+00 -1.19990635e+01  9.08919722e-02\n",
      " -6.74601460e+00  1.97131586e+00 -6.42606163e+00 -6.31898975e+00\n",
      "  7.69871521e+00  2.68252516e+00  4.47978258e+00 -2.39151359e+00\n",
      "  2.10460639e+00 -6.49704075e+00 -2.70350671e+00 -6.13082528e-01\n",
      " -1.97061424e+01 -3.57721972e+00 -4.11500263e+00 -2.82393789e+00\n",
      " -1.16666794e+00 -3.33507824e+00 -3.28253388e+00  1.12132692e+00\n",
      " -9.45118332e+00 -1.85278168e+01 -2.75848122e+01 -3.05488467e+00\n",
      " -9.55710411e+00 -4.37198448e+00 -8.93445015e+00 -2.69104898e-01\n",
      "  9.28642899e-02 -4.28759336e+00 -1.00776911e+01 -1.44783223e+00\n",
      " -1.00525837e+01 -7.78155136e+00  6.36910737e-01 -4.92803621e+00\n",
      " -5.63827848e+00 -1.42641411e+01 -2.12983475e+01 -5.86348057e+00\n",
      " -2.83987284e+00 -1.33373940e+00 -5.26222563e+00  4.32455015e+00\n",
      "  3.45597744e+00 -7.77588511e+00  4.08013016e-01 -1.93167305e+00\n",
      " -1.38012762e+01 -5.60561419e+00 -2.85925210e-01 -1.46357260e+01\n",
      " -6.43967581e+00  4.12206411e+00 -7.34520340e+00 -9.29499817e+00\n",
      " -5.76957226e+00  3.71729970e+00  1.21344614e+00 -6.92940664e+00\n",
      " -9.73960209e+00  8.22402954e+00 -1.63581161e+01 -1.17513514e+01\n",
      " -5.22951245e-01 -4.80227423e+00 -1.47096241e+00 -1.24921360e+01\n",
      " -1.76630917e+01  2.68825984e+00  6.47963810e+00 -6.83381128e+00\n",
      "  4.37618351e+00 -1.73169689e+01 -1.05589523e+01 -6.32785130e+00\n",
      " -3.64553213e+00 -5.93801308e+00 -1.15181899e+00 -1.20842981e+01\n",
      " -8.45748615e+00 -3.72737479e+00 -1.36136255e+01 -1.03521700e+01\n",
      " -3.25692368e+00 -1.01937618e+01 -4.67098087e-01 -1.27716494e+00\n",
      " -3.95369053e+00 -1.20499659e+01 -1.85703926e+01  3.31756425e+00\n",
      " -2.30448399e+01 -1.22033129e+01 -4.95962238e+00 -1.79388607e+00\n",
      " -5.97538567e+00 -2.10911155e+00 -1.26449976e+01  4.76181126e+00\n",
      "  5.78233194e+00 -4.11915869e-01 -8.98128808e-01 -6.55070305e+00\n",
      " -4.12148666e+00 -6.77580881e+00  9.20024395e+00 -2.13488827e+01\n",
      " -3.48752260e+00 -5.92481041e+00 -9.09450352e-01  1.07696258e-01\n",
      " -8.77763557e+00 -1.13722820e+01  3.27972436e+00 -5.01313829e+00\n",
      " -4.32020521e+00 -4.06235552e+00  1.59055433e+01 -2.40949726e+00\n",
      "  3.03096223e+00  1.47454519e+01 -1.55802517e+01  3.94118071e+00\n",
      " -1.54771938e+01  3.25430226e+00 -9.11760330e+00 -5.18208694e+00\n",
      "  7.79308081e-01 -1.38356531e+00 -3.15809345e+00 -4.43176651e+00\n",
      " -2.00250454e+01 -1.06604643e+01 -8.79480267e+00 -2.13794556e+01\n",
      "  7.71026850e+00 -1.27617371e+00  4.82402515e+00  4.01185179e+00\n",
      " -2.26016712e+01 -2.30985236e+00 -7.03267145e+00  1.08701048e+01\n",
      " -3.72578174e-01 -1.71616554e+01  1.50533891e+00 -4.38660622e+00\n",
      " -1.79306011e+01  6.15428872e-02 -9.17969108e-01 -4.01851320e+00\n",
      " -1.42754033e-01 -9.99696827e+00  2.23563695e+00  2.80656427e-01\n",
      "  3.26846361e-01  5.31082344e+00 -1.37168255e+01  4.35341072e+00\n",
      " -3.38485646e+00 -3.83333540e+00 -7.49484921e+00  2.91081214e+00\n",
      " -2.69026699e+01 -3.25285172e+00 -9.41428280e+00  3.05689096e+00\n",
      " -3.82534409e+00  6.67075682e+00  2.68046826e-01  3.11761451e+00\n",
      " -3.83255625e+00 -5.07811689e+00  3.96010733e+00 -9.07498264e+00\n",
      " -6.09982157e+00  8.39442253e+00  2.18636870e+00  4.87520885e+00\n",
      " -3.65113050e-01 -1.67957172e+01 -2.49495268e+00 -8.03402424e+00\n",
      " -3.16773200e+00 -1.21871817e+00 -4.31504297e+00 -3.68977666e+00\n",
      " -1.29758871e+00  2.26924706e+00  2.36509628e+01 -1.94370041e+01\n",
      " -5.71266651e+00 -3.92097282e+00 -1.68018932e+01 -4.70497417e+00\n",
      "  1.04808607e+01 -3.55714250e+00  1.08673692e+00 -3.86843228e+00\n",
      " -9.96632195e+00 -1.02284288e+01 -7.32352066e+00 -3.04378033e+00\n",
      " -1.02204123e+01 -9.80560303e+00 -6.45948982e+00  5.09560823e+00\n",
      " -1.36904106e+01 -5.14244223e+00 -1.67480907e+01 -9.50834274e+00\n",
      " -2.42487316e+01  4.02571201e+00 -9.01079273e+00 -3.65844727e+00\n",
      " -2.90505916e-01 -9.91350555e+00 -2.90890980e+01 -3.33084297e+01\n",
      "  1.36421013e+01 -6.72673750e+00 -6.88798487e-01 -1.64091396e+00\n",
      " -5.20905542e+00 -2.47006245e+01 -2.21003017e+01 -5.81267214e+00\n",
      " -9.19501591e+00  4.64565325e+00 -1.91976929e+01 -1.66526108e+01\n",
      " -6.57123709e+00 -5.72346687e+00 -2.29755859e+01 -1.19007864e+01\n",
      "  5.60574055e+00  5.69286680e+00  1.49578261e+00 -5.31566954e+00\n",
      " -2.64096451e+01 -1.02988977e+01 -1.64629517e+01  2.02361164e+01\n",
      " -1.72669659e+01  5.76528406e+00 -1.49676542e+01 -1.20588160e+01\n",
      " -3.53890076e+01 -7.58874273e+00 -2.63902569e+00 -3.29707456e+00\n",
      " -7.32438743e-01 -6.80182743e+00 -6.36762905e+00 -1.53969641e+01\n",
      " -1.60143452e+01 -3.08189602e+01  1.75953853e+00 -1.51540442e+01\n",
      " -3.33395767e+01 -7.37406540e+00 -2.65710831e+01 -1.61218548e+01\n",
      "  8.39655781e+00 -1.40640955e+01 -1.91356926e+01 -1.33222437e+01\n",
      " -4.65574408e+00 -1.40999403e+01 -1.02177143e+01 -3.34945755e+01\n",
      "  1.67871344e+00 -5.99551010e+00 -3.80761766e+00 -4.76448864e-01\n",
      " -3.01550140e+01 -2.63453026e+01 -2.55255299e+01 -5.68152332e+00\n",
      " -4.91555939e+01  1.20413256e+00 -3.83420868e+01 -2.32780313e+00\n",
      "  4.25773907e+00 -1.03373728e+01  7.51159000e+00  7.21987009e+00\n",
      " -7.99004650e+00 -3.17257233e+01  6.64935529e-01 -3.71958275e+01\n",
      "  2.66300678e+00 -3.65649509e+00 -1.06710052e+01 -1.70635834e+01\n",
      " -2.28625393e+01 -3.14832382e+01  1.31584482e+01 -1.52871716e+00\n",
      " -1.78185081e+00 -2.69998798e+01 -5.91900873e+00 -1.91484947e+01\n",
      " -2.77108154e+01 -1.68239498e+00  8.32125604e-01 -6.89735603e+00\n",
      " -5.94008684e+00 -7.41972637e+00  1.98291564e+00 -8.78645611e+00\n",
      " -3.79956894e+01 -6.84144402e+00 -1.25093479e+01 -5.15385675e+00\n",
      " -1.07840471e+01 -1.88047943e+01]' has dtype incompatible with int64, please explicitly cast to a compatible dtype first.\n",
      "  preds[val_index] = model.predict(dval_i)\n"
     ]
    },
    {
     "name": "stderr",
     "output_type": "stream",
     "text": [
      "\r",
      " 60%|████████████████████████████████████████████████████████████████████████████████████████▊                                                           | 6/10 [02:01<01:23, 20.95s/it]"
     ]
    },
    {
     "name": "stderr",
     "output_type": "stream",
     "text": [
      "C:\\Users\\81809\\AppData\\Local\\Temp\\ipykernel_10116\\3386215446.py:18: FutureWarning: Setting an item of incompatible dtype is deprecated and will raise an error in a future version of pandas. Value '[ 4.44843578e+00  1.27934961e+01 -5.86739206e+00  9.89748478e+00\n",
      "  4.38256693e+00  2.33501186e+01  6.70958853e+00  1.77069950e+00\n",
      "  6.02412605e+00  5.82657290e+00  1.66484988e+00  1.25919104e+00\n",
      "  2.88400084e-01  6.73462772e+00 -5.55297852e-01  2.07465420e+01\n",
      "  2.09703960e+01 -8.92799950e+00  5.98037767e+00 -6.34541392e-01\n",
      "  5.68287373e+00  4.13945735e-01 -4.63160181e+00  6.20604324e+00\n",
      "  8.19548512e+00  1.63570442e+01 -5.82578301e-01  2.74495258e+01\n",
      "  8.72026634e+00 -3.85195518e+00  4.68904066e+00  9.95843410e+00\n",
      "  1.43270683e+01  9.41070175e+00  6.63380623e+00  1.05666327e+00\n",
      "  1.61110897e+01  9.83313799e-01  1.18457472e+00  1.24888611e+00\n",
      " -1.08587913e-01  1.83252120e+00  7.16451693e+00  1.77249801e+00\n",
      "  6.93156576e+00  1.69575462e+01  1.54286270e+01  1.70104051e+00\n",
      " -2.07917857e+00 -1.80096424e+00  6.62816572e+00 -1.43570113e+00\n",
      "  1.33863430e+01 -2.46599197e+00 -6.54983521e-01  1.01013489e+01\n",
      "  2.41262531e+01  2.54035473e+01  1.49878275e+00  6.13470840e+00\n",
      "  8.92371941e+00 -4.79187346e+00  8.55715084e+00  2.15735030e+00\n",
      "  7.22283661e-01 -2.69851518e+00  1.89861946e+01  5.02145863e+00\n",
      "  1.48265457e+01  1.77464466e+01 -5.96441650e+00  4.58980381e-01\n",
      "  5.68454981e+00  1.72615013e+01 -2.61785388e+00  1.81779842e+01\n",
      "  1.11618156e+01  1.26395760e+01  3.31668663e+00 -1.18581697e-01\n",
      "  7.87203455e+00  2.38910770e+00  1.60683537e+01  1.07336950e+01\n",
      " -4.39460039e+00  1.47775009e-01 -3.26652765e-01 -4.69454050e+00\n",
      "  4.10909414e+00  1.52013893e+01 -1.04591167e+00 -4.48544121e+00\n",
      "  2.39058819e+01  4.43275023e+00  1.36892185e+01 -1.01296329e+01\n",
      "  1.37210646e+01  3.30275202e+00  1.29705143e+01 -8.51363945e+00\n",
      "  4.42170620e+00  9.66988373e+00 -3.81339264e+00 -3.90421659e-01\n",
      "  1.34558830e+01  1.70303798e+00 -4.86089277e+00  1.98868370e+00\n",
      " -3.31495285e+00  2.01977611e+00 -1.92379057e-01  6.15075016e+00\n",
      "  8.58827305e+00  2.54118156e+01 -3.30544662e+00 -7.65123844e+00\n",
      " -4.51869535e+00  4.37711811e+00 -1.44567180e+00  2.77635837e+00\n",
      "  8.12762737e+00  1.18237104e+01 -1.35203111e+00  3.73071432e+00\n",
      "  4.52558327e+00  2.27299500e+00  6.99766064e+00  1.65947456e+01\n",
      " -1.36977637e+00 -2.29936218e+00  6.32538795e+00  7.83043215e-04\n",
      "  1.35873628e+00  1.57254362e+00  2.62498426e+00  1.17512970e+01\n",
      "  2.65656924e+00  5.70460463e+00  6.61124766e-01 -9.42455673e+00\n",
      "  2.02603683e+01  2.57301301e-01  4.03817797e+00  7.42738962e+00\n",
      "  1.53919954e+01 -3.95655894e+00 -3.42078209e-02  1.26536045e+01\n",
      "  1.28612719e+01 -2.85178852e+00 -4.51683700e-01  3.92485785e+00\n",
      "  1.78876567e+00 -6.18486643e+00  9.39454269e+00  1.19021177e+01\n",
      "  4.57790756e+00  1.81048405e+00 -3.11294436e+00 -2.64590359e+00\n",
      "  4.65513134e+00  5.39547348e+00  2.33451519e+01  2.79051256e+00\n",
      "  5.20238924e+00  2.84383446e-01  4.47336137e-01  1.82285309e+01\n",
      "  2.86774588e+00 -3.71625125e-01  6.38899231e+00  3.83207917e+00\n",
      "  8.81730556e+00  7.88091946e+00 -1.27923623e-01  4.36590719e+00\n",
      "  2.79920864e+00  2.42013340e+01  6.74950981e+00 -5.33908510e+00\n",
      "  8.69172573e+00 -3.25299148e-03  6.49207020e+00  9.26568604e+00\n",
      "  2.24569073e+01  1.93907738e+01  4.03120852e+00  2.13127365e+01\n",
      "  1.63553886e+01  3.10314918e+00  4.69391727e+00 -2.52020240e+00\n",
      "  1.03311262e+01  1.55754032e+01  7.16014087e-01  3.62678871e+01\n",
      "  1.47118607e+01 -6.07428074e+00  6.70866489e+00 -4.55579233e+00\n",
      "  1.36603642e+01  9.16356087e+00  3.74041939e+01  6.80984926e+00\n",
      "  1.22455381e-01  2.41847324e+01  7.01105022e+00  8.39272785e+00\n",
      " -2.88317382e-01 -3.18569732e+00  9.63110352e+00  7.52089453e+00\n",
      " -1.03174210e+01  3.30039597e+00  2.59687977e+01  3.16472673e+00\n",
      " -3.40584457e-01  1.76041138e+00  9.01758480e+00  2.10917807e+00\n",
      " -9.77783012e+00  1.05722017e+01  2.61612301e+01  5.28937101e+00\n",
      "  1.28376722e+00  2.04784527e+01  1.48965397e+01  8.69484711e+00\n",
      "  5.39250803e+00 -7.52212954e+00  4.38425865e+01  2.07231975e+00\n",
      "  8.60344219e+00  2.37047710e+01  1.52028952e+01  3.13184948e+01\n",
      "  3.55521683e-03  8.68189907e+00  6.53945112e+00  3.62143135e+01\n",
      "  3.60500412e+01  6.04998827e+00  4.57824373e+00  1.73548889e+01\n",
      "  8.71444881e-01  1.52215433e+00  2.93948822e+01 -2.25626945e+00\n",
      " -1.16289563e-01  9.16448689e+00  1.89312172e+01  1.23932428e+01\n",
      "  1.71146126e+01  1.48319550e+01  1.21910410e+01 -5.60613680e+00\n",
      "  1.26610603e+01  1.27184558e+00  3.36629057e+00  1.51476345e+01\n",
      "  1.15749254e+01 -4.93784380e+00  4.13604355e+01  3.55877686e+01\n",
      " -1.01400795e+01  8.43821144e+00  1.74470842e+00  1.32756500e+01\n",
      "  1.34478140e+01  2.96023960e+01  1.77695732e+01  4.66057701e+01\n",
      "  9.82641578e-01  2.93849945e+01  2.19194584e+01  6.41744566e+00\n",
      "  2.36430988e+01  4.02809477e+00 -9.28413963e+00  5.52399015e+00\n",
      " -6.62676334e+00  1.94044037e+01  6.73113203e+00  3.85223341e+00\n",
      "  2.78181343e+01  3.65898170e+01  8.29153538e-01  6.91047907e+00\n",
      "  1.89133015e+01  2.10240192e+01  1.84123726e+01  6.40216780e+00\n",
      "  5.55646753e+00  1.80201530e+00 -7.10263681e+00 -9.16356862e-01\n",
      "  2.50356312e+01  4.08661175e+00  2.99466553e+01  2.30337691e+00\n",
      " -3.72011006e-01  2.36622295e+01 -3.53112555e+00  2.33056870e+01\n",
      "  2.71862030e+01  5.11433554e+00  1.01661596e+01  1.20577822e+01\n",
      " -4.39181232e+00 -1.40042334e+01 -9.93922806e+00 -9.84760761e+00\n",
      " -4.67943001e+00 -1.14677353e+01 -6.14524317e+00  1.11709881e+00\n",
      " -6.30122852e+00 -6.78084612e+00 -7.36221838e+00  3.90720129e+00\n",
      "  4.05193520e+00 -1.34014912e+01 -2.11128731e+01 -2.04051323e+01\n",
      " -6.56761980e+00  7.84282017e+00 -5.38931370e+00 -1.58425617e+00\n",
      " -6.20226908e+00  5.12802315e+00  1.73696816e+00  2.10917521e+00\n",
      " -8.19112492e+00 -2.34303341e+01 -1.64760246e+01 -1.04827576e+01\n",
      " -4.65449762e+00 -6.33608389e+00 -9.02398288e-01  6.78292179e+00\n",
      "  7.30655146e+00  2.10360438e-01  3.64660454e+00 -7.19328547e+00\n",
      " -5.73205996e+00 -8.68864346e+00 -1.05721512e+01  2.83461142e+00\n",
      "  5.24823618e+00  6.71027327e+00 -2.21992798e+01  1.04504919e+01\n",
      " -2.07501501e-01 -1.52977104e+01 -2.45063362e+01 -1.22999930e+00\n",
      " -3.92358136e+00 -7.34595776e+00  1.06859756e+00 -1.59425223e+00\n",
      " -2.61476636e+00 -2.37959647e+00  1.47646248e+00 -5.78875542e+00\n",
      " -4.31100607e-01 -2.75078735e+01  1.53445113e+00 -1.61095886e+01\n",
      " -2.40373020e+01 -1.69658222e+01 -1.04631734e+00  3.36133981e+00\n",
      " -1.22882872e+01 -5.03652382e+00 -3.52233100e+00 -3.85130239e+00\n",
      " -4.86414576e+00 -5.40891218e+00  3.12618685e+00 -6.06355476e+00\n",
      " -7.22383142e-01 -1.48999634e+01  6.55652165e-01 -6.06115341e+00\n",
      " -7.71239328e+00  4.13765192e+00 -3.38117433e+00  1.56004448e+01\n",
      " -5.03913641e+00  3.37010098e+00  5.54123163e-01 -8.84777927e+00\n",
      " -1.76806784e+00  1.02528219e+01  5.49029207e+00  1.95325005e+00\n",
      "  7.36093569e+00 -4.39731646e+00 -4.34552383e+00  2.30505586e+00\n",
      " -2.31810999e+00 -3.39398193e+00  3.91977096e+00 -2.46067638e+01\n",
      " -1.82132587e+01 -2.39416599e+00 -4.44917154e+00 -1.89302433e+00\n",
      " -7.13985586e+00  4.32331038e+00  4.80706024e+00  1.58089459e+00\n",
      "  2.84106064e+00  3.19451714e+00 -1.03086700e+01  1.04693234e+00\n",
      " -2.06502285e+01 -4.73336267e+00 -1.23511381e+01 -7.24531269e+00\n",
      " -2.51640582e+00  4.16053057e+00 -3.04507751e+01 -9.31070423e+00\n",
      "  1.22491388e+01 -1.62736397e+01  5.81288052e+00 -1.49413109e+01\n",
      "  5.16263485e+00 -2.75306511e+00  1.48345530e+00 -4.77528620e+00\n",
      " -5.31279087e+00 -2.48010302e+00 -4.88052130e+00 -1.22837133e+01\n",
      " -1.23227444e+01 -5.33506930e-01 -1.27472391e+01  1.40441585e+00\n",
      " -1.88111353e+00 -2.13720932e+01 -4.04870939e+00 -9.16379166e+00\n",
      " -3.87629056e+00 -1.05519724e+01 -2.06102486e+01  1.91464937e+00\n",
      " -4.17394876e+00  1.10325778e+00 -3.14314246e+00 -5.60502386e+00\n",
      " -2.92423391e+00 -4.00808048e+00  8.15794408e-01  1.74470978e+01\n",
      "  4.07891780e-01 -3.41042137e+00 -1.96193943e+01 -1.02896461e+01\n",
      " -2.55226254e+00 -3.68583345e+00 -9.92016506e+00 -6.48146725e+00\n",
      " -7.54389238e+00 -4.20277977e+00 -2.17657528e+01  5.71548796e+00\n",
      "  5.79309988e+00 -1.49176478e+00  5.89842653e+00 -9.74627852e-01\n",
      " -5.33792830e+00 -2.75725269e+00 -2.59089398e+00 -4.28294706e+00\n",
      "  1.89282751e+00 -1.98601454e-01  5.71695948e+00 -3.13130021e+00\n",
      "  1.90693784e+00  4.29221869e+00 -1.02216113e+00  1.54548132e+00\n",
      " -3.32026577e+00 -2.36874771e+01 -1.57283964e+01 -3.42792082e+00\n",
      " -2.32717419e+01  6.76084831e-02 -1.23497419e+01 -5.41104794e+00\n",
      "  4.25655890e+00 -5.09602594e+00 -7.13073492e+00 -1.28686590e+01\n",
      " -9.02371025e+00  3.58492732e-01 -1.72093201e+01 -9.59915519e-01\n",
      " -4.37789726e+00 -4.33690500e+00 -5.54952574e+00  8.42846012e+00\n",
      "  4.90277386e+00 -3.70802140e+00 -3.54485846e+00 -6.84699297e-01\n",
      " -2.90502472e+01 -4.26461525e+01  6.15326464e-01 -2.26032352e+00\n",
      " -5.45660067e+00  5.20307684e+00 -2.50305438e+00 -4.77377987e+00\n",
      " -3.41906319e+01 -4.23521996e+00 -1.18428478e+01  4.40680218e+00\n",
      "  1.04223280e+01 -9.90604305e+00 -1.49610424e+01 -7.20020723e+00\n",
      " -2.60762310e+00 -2.61313934e+01 -3.30051689e+01 -2.49718800e+01\n",
      " -3.75726967e+01 -1.42180529e+01 -1.67313747e+01 -3.45318832e+01\n",
      " -2.83950405e+01  9.35756588e+00 -1.99588470e+01 -7.76709652e+00\n",
      " -5.98882511e-02  3.21789098e+00 -4.16188526e+00  6.59004450e+00\n",
      " -7.38070726e-01 -3.10112457e+01 -1.26054335e+01  1.30947089e+00\n",
      "  4.70643997e+00 -1.85865128e+00  4.32283998e-01 -1.16276407e+00\n",
      " -2.86410065e+01 -9.72821593e-01 -6.34813452e+00 -4.46939516e+00\n",
      " -1.60186768e+01 -7.03420734e+00  4.52244043e+00  7.07551622e+00\n",
      " -6.89627695e+00 -2.32054367e+01 -1.43558187e+01 -1.37529526e+01\n",
      " -1.31928003e+00 -1.25927067e+01  1.35494447e+00 -3.72563267e+00\n",
      " -1.11629229e+01 -3.53214417e+01 -6.77570772e+00  1.05841494e+00\n",
      "  5.32788706e+00 -1.77222996e+01 -3.25478148e+00 -2.57566128e+01\n",
      " -2.39280720e+01 -2.80923557e+01 -7.76411819e+00 -1.15562801e+01\n",
      " -1.71923482e+00 -1.75424695e+00 -3.25988317e+00 -2.86503048e+01\n",
      " -1.22338524e+01  3.99603391e+00 -1.12117796e+01 -3.46077499e+01\n",
      " -1.25160909e+00 -1.23465776e+01 -7.98022389e-01 -2.61936703e+01\n",
      " -7.98978662e+00  3.63996774e-01 -3.13170362e+00 -7.05681562e+00\n",
      " -9.49015427e+00 -3.35029831e+01  1.14583945e+00 -2.76807117e+01\n",
      "  1.63161516e+00 -1.20702715e+01 -2.32473392e+01 -2.97859592e+01\n",
      " -1.81300488e+01 -5.73509169e+00 -1.53009558e+00 -1.37747993e+01\n",
      " -1.86643810e+01 -2.60155067e+01  1.77252603e+00 -4.59617958e+01\n",
      " -3.01260986e+01 -1.25236053e+01 -3.40579033e+01 -2.52428889e+00\n",
      " -2.12976151e+01  1.05702963e+01 -1.19600582e+01 -9.82069206e+00\n",
      "  5.83743858e+00 -1.85576649e+01 -8.28948319e-01 -6.88433361e+00\n",
      " -3.76973867e-01  2.07403588e+00 -1.70294762e+00 -2.95987530e+01\n",
      " -5.66205788e+00 -9.93171692e+00 -1.29977655e+01 -3.71465826e+00\n",
      "  2.38539066e+01 -3.50506616e+00 -3.39858437e+01 -2.99459724e+01\n",
      " -3.79456878e+00  2.01341391e+00 -3.96775589e+01  2.23125720e+00\n",
      " -3.70635605e+01 -2.33395882e+01 -1.83907623e+01 -1.27821493e+01\n",
      " -1.34901323e+01 -1.84333668e+01 -9.40236759e+00 -1.74629211e+01\n",
      " -3.77709723e+00  1.46697628e+00]' has dtype incompatible with int64, please explicitly cast to a compatible dtype first.\n",
      "  preds[val_index] = model.predict(dval_i)\n"
     ]
    },
    {
     "name": "stderr",
     "output_type": "stream",
     "text": [
      "\r",
      " 70%|███████████████████████████████████████████████████████████████████████████████████████████████████████▌                                            | 7/10 [02:22<01:03, 21.10s/it]"
     ]
    },
    {
     "name": "stderr",
     "output_type": "stream",
     "text": [
      "C:\\Users\\81809\\AppData\\Local\\Temp\\ipykernel_10116\\3386215446.py:18: FutureWarning: Setting an item of incompatible dtype is deprecated and will raise an error in a future version of pandas. Value '[ 8.52047503e-01 -4.44812822e+00  2.71515083e+00  1.97911716e+00\n",
      "  1.75730972e+01  1.24803102e+00 -1.09011248e-01  9.65050125e+00\n",
      " -4.06031132e+00  3.79466152e+00 -2.56231141e+00  6.26098824e+00\n",
      "  4.04464960e+00  1.89405155e+00  6.19545412e+00  7.91937828e+00\n",
      " -7.19327974e+00 -4.93789721e+00  4.67208862e+00  9.45597172e+00\n",
      "  2.03651160e-01 -5.92071235e-01  2.58459258e+00  2.86426601e+01\n",
      "  1.10778103e+01  1.90698266e+00 -6.58511162e+00  1.79060955e+01\n",
      " -3.39687258e-01  4.93401957e+00  1.52210760e+00 -3.08106709e+00\n",
      "  6.78404999e+00 -1.49778235e+00  8.97248268e+00  9.65441799e+00\n",
      "  7.70064211e+00 -9.11577129e+00  7.22058773e+00  1.93771648e+00\n",
      " -1.80813575e+00  5.06407070e+00  1.67110386e+01  1.11536465e+01\n",
      "  2.22322731e+01 -8.56694221e-01  3.50627750e-02  1.39470139e+01\n",
      "  6.63033152e+00  1.49967754e+00  8.85309887e+00  4.25625992e+00\n",
      " -4.97091532e+00 -1.21835089e+00  6.45709419e+00 -2.34110856e+00\n",
      "  1.54428172e+00  7.28810263e+00  5.82050800e+00  3.75537872e+00\n",
      "  1.18790617e+01  1.03353949e+01 -3.90855002e+00 -3.17115045e+00\n",
      "  3.33174992e+00  2.86352801e+00 -1.44139552e+00  1.76887786e+00\n",
      "  1.87943859e+01  8.22383785e+00  5.45412874e+00  1.84213047e+01\n",
      "  7.03591299e+00 -1.01351392e+00 -3.03418684e+00 -5.59328604e+00\n",
      "  8.73577785e+00  7.86386061e+00  1.04047575e+01  9.93427396e-01\n",
      "  3.52703571e+00  7.71919060e+00  6.46406507e+00  1.28731871e+01\n",
      "  4.13122988e+00  7.81733632e-01  4.75821924e+00  3.57123899e+00\n",
      "  2.15688496e+01  1.49689159e+01  7.40303934e-01  8.40137959e+00\n",
      " -1.11442995e+01  3.84072900e+00  5.77561188e+00  5.05356610e-01\n",
      "  6.73906386e-01  9.52096653e+00 -2.92895818e+00  2.09137325e+01\n",
      "  1.11861730e+00 -1.37878919e+00 -1.53801012e+00  2.07804823e+00\n",
      "  1.70487845e+00  7.79924107e+00 -5.91623068e+00  1.34109306e+01\n",
      " -2.21448231e+00 -4.29074675e-01 -5.87486792e+00 -2.09003925e+00\n",
      "  6.18133497e+00 -3.61229110e+00 -1.88396871e+00  8.14352036e+00\n",
      " -5.84703255e+00  1.23681831e+00 -2.62051201e+00 -3.05299926e+00\n",
      "  6.96360731e+00  1.22307472e+01 -3.46789694e+00 -5.92185318e-01\n",
      "  4.16758919e+00 -4.29821205e+00  3.43398261e+00  7.16066360e+00\n",
      " -3.99297416e-01  1.63034096e+01  1.54767656e+01  4.01480150e+00\n",
      " -4.96545649e+00 -6.59233713e+00 -1.73069882e+00  2.32670999e+00\n",
      "  5.76431799e+00 -5.65585470e+00  3.44978309e+00  1.28594999e+01\n",
      " -1.26150382e+00 -2.85737801e+00  9.00924861e-01  6.61014795e-01\n",
      "  5.72042322e+00 -6.17220592e+00  9.01982117e+00  1.52205496e+01\n",
      "  1.47382479e+01  1.05247192e+01  1.60367620e+00  1.19056988e+01\n",
      "  1.13772714e+00 -6.10474795e-02  9.42971325e+00  2.19272022e+01\n",
      " -8.18482041e-01 -8.60016537e+00  3.12911296e+00  6.01338959e+00\n",
      "  3.38749981e+00 -5.49705446e-01  1.77581143e+00  1.06475134e+01\n",
      " -4.12037516e+00  1.55199134e+00 -1.69259319e+01  1.71684685e+01\n",
      " -4.03838539e+00  2.29369488e+01  2.64077806e+00  8.69601130e-01\n",
      "  9.66461277e+00  6.06319380e+00  1.16021528e+01  3.14650249e+00\n",
      "  4.49865913e+00  2.77250552e+00  2.81171131e+00  6.52130246e-01\n",
      "  3.73754358e+00 -1.70349979e+00  4.76508236e+00 -4.46695042e+00\n",
      "  2.17763252e+01  2.16662617e+01 -5.63570522e-02  2.22808361e+00\n",
      " -6.52922487e+00  5.63151073e+00  4.73100376e+00 -3.84438276e+00\n",
      "  4.68198729e+00  6.98118162e+00  9.79826069e+00  2.88607359e+00\n",
      "  2.13529453e+01 -3.76415920e+00  1.06176071e+01  2.51019611e+01\n",
      " -3.59034729e+00 -1.04228711e+00 -4.31410742e+00 -1.58600938e+00\n",
      " -3.95707226e+00  2.06376600e+00  5.43755674e+00 -2.19240236e+00\n",
      "  1.60168457e+01 -3.64081693e+00 -1.65961790e+00  7.48925447e-01\n",
      "  1.85118904e+01  3.34276938e+00  3.46114135e+00  1.13845778e+01\n",
      "  2.10947919e+00 -2.18613029e+00  4.40267467e+00  2.07358913e+01\n",
      "  2.98798714e+01 -1.17463553e+00  2.64802418e+01  3.97417212e+00\n",
      "  4.31185389e+00  1.92065907e+01  6.11100245e+00  3.00156057e-01\n",
      "  2.07783108e+01 -1.00143309e+01 -1.01126318e+01 -4.76050806e+00\n",
      "  5.98944807e+00 -4.18622112e+00  3.48308449e+01  1.52814932e+01\n",
      "  2.04608459e+01  4.75396585e+00  2.01539345e+01  6.81630516e+00\n",
      "  6.01276636e+00 -3.58196044e+00  3.24616165e+01  1.27437124e+01\n",
      "  2.91799812e+01  7.24025846e-01  9.84903648e-02  2.83247204e+01\n",
      "  1.22568865e+01  2.49685993e+01  1.80943851e+01  1.53929920e+01\n",
      "  1.91665306e+01  6.18866491e+00  1.29361181e+01  1.63174772e+00\n",
      "  1.61805496e+01 -7.76705980e+00  8.52662563e+00 -1.93240917e+00\n",
      "  1.85649741e+00  1.05959225e+01 -4.39404011e+00  2.31271820e+01\n",
      "  2.73014297e+01  7.93277884e+00  1.56854372e+01  7.52085066e+00\n",
      " -7.12194502e-01  1.31090946e+01  3.47116494e+00  1.72148170e+01\n",
      "  9.22377884e-01  1.64419327e+01  1.35966825e+01 -1.61210239e-01\n",
      " -9.58343792e+00  6.33674145e+00  1.95284157e+01 -1.13498163e+01\n",
      "  9.46794224e+00  2.52191114e+00  2.81437092e+01  5.51882982e-01\n",
      " -9.11120033e+00  7.04734612e+00 -8.83848763e+00  4.00322533e+00\n",
      "  2.66456652e+00  5.95506907e-01  3.00093212e+01  1.88262024e+01\n",
      "  2.68091965e+01  4.58294249e+00  4.78604012e+01  1.24126186e+01\n",
      "  3.70940399e+01  1.49321461e+01  1.51852024e+00  4.79516554e+00\n",
      "  2.08698082e+01  8.19241810e+00  1.26637468e+01 -7.96004677e+00\n",
      " -8.94470406e+00  8.77501202e+00  1.82677197e+00  3.17550545e+01\n",
      "  3.16832393e-01 -5.22606015e-01 -3.10842538e+00  1.90454447e+00\n",
      " -1.51517951e+00  1.64911842e+01  6.03237104e+00  8.27956772e+00\n",
      "  3.08453484e+01 -9.59809399e+00  8.31737804e+00  1.31140118e+01\n",
      "  8.63401318e+00  2.07190914e+01 -9.25413036e+00  2.88531475e+01\n",
      " -1.51182652e+01  3.96702385e+01 -7.60035229e+00  3.14919739e+01\n",
      "  6.66802835e+00  1.86581974e+01  1.99613743e+01  1.25694847e+00\n",
      " -1.31398106e+01  2.48918991e+01  1.01235313e+01  1.13890495e+01\n",
      "  6.94879436e+00  1.83988914e+01  3.37129736e+00 -1.06838484e+01\n",
      "  8.52619529e-01  2.77560091e+00 -1.11192751e+01 -6.15073395e+00\n",
      " -2.75403118e+00 -8.26317310e+00 -7.97520924e+00 -5.30782223e+00\n",
      " -7.68035793e+00 -6.38466024e+00 -7.27154398e+00 -2.09826393e+01\n",
      "  9.84785557e+00 -7.21241903e+00 -2.34226680e+00 -6.24915981e+00\n",
      " -3.26911777e-01 -2.94704056e+00 -5.17334843e+00 -2.66457200e-01\n",
      "  1.54321179e-01 -5.43862677e+00 -9.40733337e+00 -2.37205486e+01\n",
      " -3.71939921e+00  1.90403438e+00 -4.94491959e+00 -2.75772038e+01\n",
      " -5.20568132e+00 -5.81249619e+00  3.55764961e+00 -2.43079424e+00\n",
      " -1.05526934e+01 -4.59536076e-01 -9.73519611e+00 -7.22657871e+00\n",
      "  4.86907816e+00  1.05037594e+00  6.44783616e-01 -3.88549542e+00\n",
      " -6.58305597e+00 -8.93506813e+00 -8.93482304e+00 -1.35158367e+01\n",
      " -4.38251257e+00  1.89143121e+00 -1.31583261e+00 -1.63535821e+00\n",
      " -5.93616962e+00 -9.13421059e+00 -1.21270933e+01  2.80033374e+00\n",
      " -1.02487335e+01 -4.96887732e+00 -6.06275797e+00 -3.93326092e+00\n",
      "  9.20226932e-01 -8.16981220e+00 -7.17647171e+00 -2.37014160e+01\n",
      " -7.86754990e+00 -8.03207397e+00  1.23708332e+00 -1.41806021e+01\n",
      " -2.51995945e+01  3.48919421e-01 -2.25504541e+00  9.95120335e+00\n",
      " -1.77413330e+01 -1.21716404e+01 -1.48317647e+00 -1.82575970e+01\n",
      " -4.39903784e+00 -4.80111867e-01  5.10570049e+00 -1.16981668e+01\n",
      " -7.00402784e+00  1.07432404e+01 -1.59577847e+01 -1.64145336e+01\n",
      " -4.34747458e+00  5.07998705e+00 -6.68677092e+00  2.25072241e+00\n",
      " -9.51079273e+00 -5.72182703e+00 -1.39317684e+01  5.93654251e+00\n",
      "  8.31678104e+00 -4.46315145e+00  1.55085528e+00 -1.79849875e+00\n",
      " -1.51262474e+00 -1.28119431e+01  1.24193764e+01 -2.10399456e+01\n",
      " -5.96234512e+00 -1.85423815e+00 -2.24732094e+01 -1.77704315e+01\n",
      " -1.14214449e+01 -2.08591485e+00 -1.04541481e+00  1.41215432e+00\n",
      "  1.44095211e+01  5.90927029e+00 -1.10369885e+00 -6.23814869e+00\n",
      " -3.81764293e+00  6.13102615e-01  9.79662037e+00  1.70568924e+01\n",
      "  4.81641769e+00 -9.47477722e+00 -5.69523668e+00 -3.98952699e+00\n",
      "  1.43502164e+00  2.33479953e+00 -2.09337444e+01  6.30033207e+00\n",
      " -4.02579278e-01 -1.53363180e+00  2.48985201e-01 -1.37429409e+01\n",
      " -1.61364675e+00  5.48487568e+00 -1.72295170e+01 -1.54635525e+01\n",
      " -2.20612125e+01 -1.03208332e+01 -1.14334803e+01  1.01739950e+01\n",
      " -2.28738632e+01 -2.90265346e+00 -3.70023012e-01  6.57661724e+00\n",
      " -4.55455732e+00  4.92442369e+00  6.97610199e-01  5.58290482e-01\n",
      " -3.46640587e+00 -8.57081890e+00 -1.34874701e+00 -1.84564438e+01\n",
      " -5.92194462e+00 -4.03812361e+00 -4.73886681e+00 -2.34751248e+00\n",
      "  5.49167109e+00 -5.26913357e+00  5.21876216e-01 -6.75334692e+00\n",
      " -2.16153026e+00 -7.00307786e-01 -1.27414823e+00 -4.15738630e+00\n",
      "  3.63537765e+00 -2.39678516e+01  1.70530357e+01  3.66595244e+00\n",
      "  1.16650496e+01 -3.55506587e+00  3.48012066e+00 -4.40033674e+00\n",
      " -2.56498098e+00 -1.09762440e+01  3.30216265e+00 -1.85773218e+00\n",
      " -2.62933540e+01 -6.89188051e+00 -5.27032197e-01 -9.53320563e-01\n",
      " -2.57053947e+00 -5.73990059e+00 -1.67831554e+01 -5.20081425e+00\n",
      " -7.05253172e+00 -8.95063686e+00 -8.16547108e+00 -2.32832193e+00\n",
      " -4.10259628e+00  8.04695225e+00 -6.65678644e+00  9.46845913e+00\n",
      " -3.90333152e+00 -6.09371853e+00 -3.08388004e+01 -1.89109917e+01\n",
      " -9.53703785e+00 -5.14975071e+00 -3.83481336e+00 -2.80462570e+01\n",
      " -1.10058489e+01 -2.73904839e+01 -1.35135126e+01 -2.67302012e+00\n",
      " -3.22097898e+00 -9.86449242e+00 -3.47492523e+01 -1.57991374e+00\n",
      " -1.24723349e+01 -8.00983524e+00  1.90764773e+00 -9.45510197e+00\n",
      " -6.32905006e+00 -6.37461615e+00 -1.24226761e+01 -1.30499125e+01\n",
      " -3.22526245e+01 -2.69771843e+01 -3.65353088e+01 -5.12899697e-01\n",
      "  1.62559855e+00 -1.88001575e+01 -2.48712845e+01 -2.87659607e+01\n",
      "  5.86386442e+00  8.99873447e+00 -9.76685107e-01 -7.64764786e+00\n",
      " -3.88119087e+01 -7.34835029e-01 -2.96219215e+01 -3.23537064e+01\n",
      " -1.41658726e+01 -3.08758774e+01 -1.34836864e+00 -1.54941597e+01\n",
      " -8.32208443e+00 -4.23519936e+01  6.82160378e+00 -9.99789834e-01\n",
      " -2.19883747e+01 -1.96723099e+01 -3.48806649e-01 -6.84421015e+00\n",
      " -2.01269836e+01 -3.34947243e+01 -3.15618954e+01 -5.14897060e+00\n",
      "  2.90714908e+00  1.00805187e+01 -2.58578796e+01 -1.01851969e+01\n",
      " -1.41195421e+01 -4.10088778e+00 -2.07817020e+01 -1.24306078e+01\n",
      " -4.24438095e+01  4.47854280e+00 -1.13193202e+00 -1.16539371e+00\n",
      " -1.95703068e+01  7.73448992e+00 -3.51134419e+00 -5.91028833e+00\n",
      " -7.51737261e+00  5.57518339e+00 -3.56611290e+01 -5.99811554e+00\n",
      "  8.33662701e+00 -8.38173199e+00  7.89199495e+00 -1.51353607e+01\n",
      "  3.00457239e+00 -6.43633747e+00 -1.17834148e+01 -1.58636246e+01\n",
      " -1.12299528e+01 -2.68868103e+01 -1.28330050e+01  3.12237310e+00\n",
      "  1.77382290e+00  2.69820499e+00  6.59229851e+00 -1.97848816e+01\n",
      " -7.04113245e+00 -9.50052834e+00  5.06994295e+00  7.35954666e+00\n",
      " -2.68380127e+01 -2.42511973e-01 -2.49481926e+01 -2.96349468e+01\n",
      "  2.38791680e+00 -1.11843109e+00  7.29510307e+00 -7.11175251e+00\n",
      " -1.16427364e+01 -1.59891863e+01 -2.27210636e+01  1.02469845e+01\n",
      " -1.89916921e+00 -9.48268986e+00 -3.33366609e+00 -2.52569752e+01\n",
      " -3.57857094e+01 -3.53966141e+01 -1.75097408e+01  6.15634489e+00\n",
      " -1.53614511e+01 -1.56354647e+01  1.29887209e+01 -2.36251087e+01\n",
      " -1.79500294e+01 -2.02078629e+00]' has dtype incompatible with int64, please explicitly cast to a compatible dtype first.\n",
      "  preds[val_index] = model.predict(dval_i)\n"
     ]
    },
    {
     "name": "stderr",
     "output_type": "stream",
     "text": [
      "\r",
      " 80%|██████████████████████████████████████████████████████████████████████████████████████████████████████████████████████▍                             | 8/10 [02:39<00:39, 19.68s/it]"
     ]
    },
    {
     "name": "stderr",
     "output_type": "stream",
     "text": [
      "C:\\Users\\81809\\AppData\\Local\\Temp\\ipykernel_10116\\3386215446.py:18: FutureWarning: Setting an item of incompatible dtype is deprecated and will raise an error in a future version of pandas. Value '[ 8.22042370e+00 -6.23985863e+00  1.10679026e+01  8.07745457e+00\n",
      "  6.90597916e+00  6.84582281e+00  5.78025007e+00  1.62194967e+00\n",
      " -5.58043420e-01  2.88953567e+00 -2.98519325e+00  2.46967173e+00\n",
      " -9.57544267e-01  2.01274853e+01  3.10920548e+00  1.33197775e+01\n",
      "  3.84814882e+00  3.67170572e+00  6.61216450e+00  2.72018552e+00\n",
      "  6.29754353e+00  4.09952879e+00  9.99511337e+00 -1.79489470e+00\n",
      "  6.87471914e+00  4.44499063e+00  9.93081284e+00  6.46614742e+00\n",
      "  2.07955837e+00  2.53514538e+01  4.80290747e+00 -8.57829475e+00\n",
      "  4.46215820e+00  1.54285278e+01  8.33299828e+00 -6.61531973e+00\n",
      "  4.67268324e+00  1.60312009e+00 -3.89146268e-01 -7.94733381e+00\n",
      " -3.35508704e+00  1.05098133e+01  2.89748859e+00  7.06602240e+00\n",
      "  2.07975044e+01  8.96213818e+00  6.22101498e+00 -1.29492596e-01\n",
      " -2.14079976e+00  2.13853955e+00  4.85188961e+00  4.17010117e+00\n",
      "  8.29257786e-01  1.60124149e+01  4.12837791e+00  9.57671928e+00\n",
      "  2.27449284e+01  8.45313358e+00 -3.90819645e+00  6.74856138e+00\n",
      "  3.76146603e+00  2.91837955e+00  3.64153481e+00  1.14615488e+00\n",
      "  7.36691475e+00  1.00604839e+01  3.44985604e+00  3.72896647e+00\n",
      "  1.46600285e+01  2.52829533e+01 -3.45159841e+00  6.06800079e+00\n",
      "  8.88452351e-01  1.01235056e+01  2.44585037e+00  7.93308541e-02\n",
      "  2.32211189e+01  7.30680704e+00  1.23752699e+01  3.24129343e+00\n",
      "  1.57433109e+01 -2.30510545e+00  1.01484165e+01  8.23767185e+00\n",
      "  3.38401341e+00 -9.75984991e-01 -9.36900318e-01  7.19198132e+00\n",
      "  1.89555418e+00  7.61012983e+00  1.76427746e+01 -5.05694485e+00\n",
      "  1.63149625e-01  3.65697813e+00 -6.75510550e+00 -2.66509581e+00\n",
      " -3.25577092e+00 -7.44949436e+00  1.30603239e-01 -1.54054746e-01\n",
      "  1.84275258e+00  3.00352186e-01 -1.03787050e+01  3.11093044e+00\n",
      " -2.46581411e+00  1.10025656e+00  2.28249359e+01 -4.95223141e+00\n",
      "  1.37820120e+01  1.39923964e+01  7.00906897e+00 -1.67251015e+00\n",
      "  9.79537010e+00 -9.42253113e+00 -1.49246979e+00 -3.38564014e+00\n",
      "  4.00031948e+00 -8.47028542e+00  2.79025531e+00 -1.16972697e+00\n",
      "  8.46126080e+00  8.84497261e+00 -3.63278008e+00  1.23194675e+01\n",
      "  6.51772833e+00  7.04137039e+00  2.14174118e+01 -7.24788094e+00\n",
      "  1.50512819e+01  9.38439465e+00 -2.56563234e+00  6.79899263e+00\n",
      "  5.29986238e+00  1.20562410e+00  1.36708552e-02 -2.65855402e-01\n",
      "  1.22780380e+01  1.21590786e+01 -6.30633926e+00  1.12730074e+01\n",
      "  2.22652864e+00  9.53937244e+00  2.11008492e+01  3.45782828e+00\n",
      "  8.80324900e-01  1.13118541e+00 -1.12544462e-01  1.30669153e+00\n",
      "  4.27891397e+00  6.37145424e+00  2.59529757e+00  1.17480364e+01\n",
      " -1.48113728e+00 -3.64171696e+00  2.11261678e+00 -1.20154028e+01\n",
      "  2.94096355e+01  1.49140272e+01 -2.19792724e+00  1.73684425e+01\n",
      "  1.20451746e+01  3.18288708e+00  1.02592649e+01  1.06769037e+00\n",
      "  1.09900057e+00 -1.13486397e+00 -3.80390072e+00  3.49406505e+00\n",
      " -2.01641297e+00  1.61309445e+00 -8.03811014e-01 -1.42587709e+00\n",
      "  1.18228519e+00 -1.32949829e+00  4.07268620e+00  1.92617989e+01\n",
      "  6.87552786e+00  1.40953960e+01 -5.98995590e+00  1.99872017e+01\n",
      " -2.25771475e+00  3.39416718e+00  4.45401382e+00  5.46967626e-01\n",
      "  7.51369476e+00 -8.09069538e+00  1.89816704e+01  3.93417072e+00\n",
      "  6.33200073e+00 -1.10814524e+00  9.61724663e+00  1.47853270e+01\n",
      "  2.10873680e+01 -2.94174004e+00  2.32626319e+00  6.40398026e-01\n",
      "  5.53674030e+00  5.25884914e+00  4.09440947e+00 -4.95126104e+00\n",
      "  7.99311018e+00  8.72141838e+00  9.02330875e+00  2.32584553e+01\n",
      "  4.86577749e+00  2.81515646e+00  2.23003721e+00  5.18574476e+00\n",
      "  5.68523169e+00 -1.09258437e+00  1.11773109e+01  5.75434160e+00\n",
      "  1.90658188e+01  8.04790878e+00  3.59635496e+00  5.02289794e-02\n",
      "  3.78134079e+01 -1.00257511e+01  4.91235638e+00 -1.06397219e+01\n",
      " -6.80194139e+00  1.31610632e+01  9.63525102e-02  3.55712676e+00\n",
      "  8.21776581e+00 -1.23872304e+00  2.56156845e+01  5.64802885e+00\n",
      "  8.94114685e+00  2.41904945e+01  4.87683487e+00  2.03871059e+01\n",
      " -8.20634079e+00  2.91956310e+01  3.07194977e+01  7.88711786e-01\n",
      " -1.53508387e+01  1.78456652e+00  1.59247935e+00  6.03523159e+00\n",
      "  8.18303204e+00  1.81329460e+01  6.98263884e+00  1.50646591e+01\n",
      "  3.00842781e+01  1.10381317e+01  3.55405045e+01 -2.29428911e+00\n",
      "  1.00122557e+01  2.95798004e-01  1.72825108e+01  1.27090960e+01\n",
      "  2.65821133e+01 -4.84034586e+00  2.49118099e+01  1.28564434e+01\n",
      "  1.01122227e+01  3.26497650e+01  1.07120171e+01  2.75970478e+01\n",
      "  2.53699780e+00  6.36410713e+00  2.60508747e+01  1.64774978e+00\n",
      "  5.69599056e+00  8.22112846e+00  9.84243870e+00 -5.79421759e+00\n",
      "  1.41231794e+01  4.23026428e+01  7.94146919e+00 -1.08489037e+01\n",
      "  9.83594322e+00 -2.79291463e+00 -9.32791328e+00  3.58835959e+00\n",
      " -4.71470833e+00  1.15049925e+01  4.35061312e+00  6.40762234e+00\n",
      " -2.08455992e+00  3.68809280e+01  1.40344248e+01  3.03330669e+01\n",
      "  2.23092804e+01  2.98085833e+00  9.18542767e+00  1.64744511e+01\n",
      "  5.40866899e+00 -6.82713652e+00  2.03160324e+01  6.47659969e+00\n",
      "  2.68660593e+00  2.25221138e+01  9.51097107e+00  3.21912041e+01\n",
      "  8.27374077e+00  3.00040512e+01  3.99823022e+00 -9.53165340e+00\n",
      "  5.11323977e+00  3.97068572e+00  6.63055420e+00  5.99076843e+00\n",
      " -1.15423479e+01  1.59870472e+01  2.78865776e+01 -2.46647239e+00\n",
      "  3.97459373e+01  9.66448116e+00  2.55254498e+01  3.74061356e+01\n",
      " -5.60960579e+00  3.80587158e+01  4.39319181e+00  1.31740370e+01\n",
      "  2.67849946e+00  3.38604546e+00  1.14816980e+01  2.54081898e+01\n",
      "  1.12992258e+01 -1.99934578e+00 -2.14863720e+01 -5.74738503e+00\n",
      "  4.06127691e+00 -1.36311131e+01 -2.39541740e+01 -8.13691425e+00\n",
      " -3.05093670e+00 -8.31177044e+00 -5.74631882e+00 -3.13683987e+00\n",
      " -2.11115494e+01 -2.89872932e+00 -2.59215984e+01 -3.96733546e+00\n",
      " -8.17735481e+00 -7.54691243e-01 -7.04450560e+00 -2.72376466e+00\n",
      " -7.33146048e+00 -9.70167160e+00  6.16897821e+00 -2.08839583e+00\n",
      "  6.69429874e+00  4.88180161e+00 -7.94644642e+00 -4.65744877e+00\n",
      "  5.17281055e-01 -2.52478008e+01  6.51151896e-01  5.37497759e-01\n",
      " -2.92408352e+01  1.56061280e+00  1.28331356e+01 -7.59722662e+00\n",
      "  7.27957010e+00 -8.75800323e+00 -5.46569204e+00 -5.56757307e+00\n",
      " -6.11940479e+00  3.43732834e+00  2.39540625e+00 -7.64826834e-01\n",
      " -9.62143421e+00 -2.20523586e+01 -8.32370567e+00 -1.37100372e+01\n",
      "  6.40899658e+00 -3.37644219e+00  2.43513131e+00  7.24124968e-01\n",
      " -1.64697304e+01 -6.01397896e+00 -2.37565403e+01 -1.38943732e+00\n",
      "  2.22668719e+00 -7.94339943e+00 -5.30441284e+00  2.94736791e+00\n",
      " -2.48212376e+01 -1.11673431e+01 -1.37059488e+01 -1.03041697e+00\n",
      " -2.70902455e-01  1.18146098e+00  1.54195166e+00 -1.81369185e+00\n",
      " -3.14516115e+00  5.43288887e-01 -3.22973895e+00 -4.32403851e+00\n",
      " -7.50136662e+00 -1.94026260e+01  5.61669254e+00  2.96160293e+00\n",
      " -9.20308232e-01 -3.39021516e+00 -3.08948159e+00 -7.40154886e+00\n",
      " -1.74988956e+01  2.74355680e-01  3.09300482e-01 -5.07673204e-01\n",
      "  2.24593854e+00 -9.12373161e+00 -2.45089359e+01 -1.67779274e+01\n",
      " -9.13884258e+00 -1.12402382e+01 -8.41949081e+00 -3.11073232e+00\n",
      " -6.17047310e+00 -3.54779601e+00 -6.03651285e+00 -1.93316078e+01\n",
      "  1.66329527e+00  3.25281453e+00  1.49286747e+01 -1.61707535e-01\n",
      "  3.44222856e+00  5.36113918e-01 -2.38834476e+01 -1.11392371e-01\n",
      " -1.38838015e+01 -1.83410764e+00  7.87692928e+00  2.48121071e+00\n",
      " -5.51426315e+00  3.19250911e-01 -1.64816799e+01 -1.14568830e+00\n",
      " -7.22008276e+00  1.57275975e+00 -1.39652901e+01 -1.73876076e+01\n",
      " -3.40749359e+00  4.80368519e+00 -3.43612623e+00  7.68421936e+00\n",
      " -7.26684809e+00 -1.98865128e+00 -1.10376959e+01  5.76542950e+00\n",
      " -5.53657913e+00  4.92823458e+00 -2.75265274e+01 -4.77216053e+00\n",
      " -8.88511181e+00 -1.93836575e+01  4.12185144e+00 -7.40645027e+00\n",
      "  3.62714314e+00 -1.33167000e+01 -2.03232803e+01  4.02141750e-01\n",
      " -1.46866930e+00 -3.78136456e-01 -9.56499672e+00 -4.82941055e+00\n",
      " -1.33507919e+01  2.29836464e+00 -2.35190487e+00 -1.39959466e+00\n",
      " -8.20736885e+00  2.27357054e+00 -1.21723795e+00 -1.08305492e+01\n",
      " -4.62731504e+00 -3.94039416e+00 -1.21184368e+01  9.83964825e+00\n",
      " -2.18451366e+01 -6.08952808e+00 -4.22512484e+00 -4.00326312e-01\n",
      "  5.75572634e+00 -3.87524986e+00 -3.44935632e+00 -4.69418001e+00\n",
      "  4.60235023e+00 -6.78189576e-01  3.63454533e+00  1.24596083e+00\n",
      "  4.04896593e+00 -2.98407125e+00  1.51785731e+00  3.96026164e-01\n",
      "  1.02450266e+01  9.98163998e-01 -1.37575722e+01  2.93160129e+00\n",
      " -3.93825293e+00 -2.25910072e+01  1.09970608e+01  7.76801258e-02\n",
      " -1.39850497e+00 -5.35591745e+00  5.21529198e-01 -1.33143568e+01\n",
      " -2.42787266e+00  3.16290069e+00 -2.62730942e+01  5.82472515e+00\n",
      "  3.81176949e+00  1.06101437e+01 -1.42321050e-01 -7.51306152e+00\n",
      " -1.49680364e+00 -1.05046997e+01 -5.05322552e+00 -4.58734560e+00\n",
      " -1.52343235e+01 -7.17540550e+00  1.71750712e+00  5.59253120e+00\n",
      " -5.46259785e+00  1.53703585e-01 -5.37363720e+00 -3.53097892e+00\n",
      " -1.54689655e+01  3.25116158e+00 -7.26175117e+00 -3.04690385e+00\n",
      " -2.26516972e+01 -1.24235964e+01 -1.01315761e+00  8.58289909e+00\n",
      "  6.98011065e+00 -5.91074276e+00 -1.97843781e+01 -3.10201287e+00\n",
      " -1.18791018e+01 -2.99120770e+01 -3.38265724e+01 -2.74644356e+01\n",
      " -5.25939655e+00 -2.02396164e+01 -2.24514542e+01  3.21263015e-01\n",
      " -8.33941460e+00 -6.21771526e+00 -2.12252569e+00  8.60875797e+00\n",
      " -3.19632441e-01 -6.78019810e+00  2.97504187e-01 -3.47697592e+00\n",
      " -1.33045781e+00 -3.70841026e+01 -3.04579334e+01 -2.63174458e+01\n",
      " -3.66958904e+00 -2.33511581e+01 -7.88433504e+00 -6.37631083e+00\n",
      " -7.65253687e+00 -4.30607224e+00  9.08619702e-01 -1.98590755e+01\n",
      " -4.45928497e+01 -2.50438333e+00 -2.18597260e+01 -1.79675217e+01\n",
      " -1.35394583e+01 -1.15539570e+01 -3.15223103e+01  1.13579285e+00\n",
      " -3.15664577e+01 -8.23501015e+00 -2.32759418e+01 -2.92191811e+01\n",
      "  1.78841174e+00 -5.63477802e+00 -2.13000145e+01  5.38073158e+00\n",
      " -9.56153393e+00  3.01163673e+00 -2.94167576e+01 -1.65086994e+01\n",
      " -9.78907681e+00 -1.73340683e+01 -6.99188089e+00 -3.57207274e+00\n",
      "  4.31747246e+00 -6.17320299e+00  3.08970273e-01 -2.90227890e+00\n",
      " -1.56148911e+00 -2.24202003e+01 -8.93019867e+00  2.61435091e-01\n",
      " -1.97192097e+01 -1.66037929e+00 -1.28307819e+01  2.83228588e+00\n",
      " -3.45000687e+01 -3.79170269e-01  8.47224808e+00  6.24471664e+00\n",
      " -2.97399769e+01  7.34472394e-01  3.72487843e-01  2.94804666e-02\n",
      "  5.53072023e+00 -2.47968864e+00 -1.54251289e+01 -2.59762707e+01\n",
      " -1.72947931e+00 -1.04159317e+01  1.09879913e+01  8.89724433e-01\n",
      "  5.36917973e+00 -1.07022257e+01 -2.58232861e+01 -6.89174938e+00\n",
      " -3.67095413e+01 -3.02810917e+01  4.04131603e+00 -1.45946932e+01\n",
      " -2.35212345e+01 -5.09172058e+00 -6.54549599e+00  8.59005511e-01\n",
      "  1.15459185e+01  2.86550570e+00 -3.00022602e+00 -2.91303654e+01\n",
      " -1.54055815e+01 -8.58436108e+00 -4.44997215e+00  1.54370129e+00\n",
      "  9.58451748e+00  3.07843757e+00 -1.15728569e+00 -2.37818356e+01\n",
      "  6.34930086e+00 -1.88178043e+01 -1.17519636e+01 -2.74044967e+00\n",
      " -9.06266510e-01  1.35333910e+01 -2.99854317e+01 -9.22781754e+00\n",
      " -2.58957634e+01 -8.60042667e+00]' has dtype incompatible with int64, please explicitly cast to a compatible dtype first.\n",
      "  preds[val_index] = model.predict(dval_i)\n"
     ]
    },
    {
     "name": "stderr",
     "output_type": "stream",
     "text": [
      "\r",
      " 90%|█████████████████████████████████████████████████████████████████████████████████████████████████████████████████████████████████████▏              | 9/10 [02:59<00:19, 19.90s/it]"
     ]
    },
    {
     "name": "stderr",
     "output_type": "stream",
     "text": [
      "C:\\Users\\81809\\AppData\\Local\\Temp\\ipykernel_10116\\3386215446.py:18: FutureWarning: Setting an item of incompatible dtype is deprecated and will raise an error in a future version of pandas. Value '[ 3.65120745e+00 -5.97442245e+00  2.16449070e+01  1.59415758e+00\n",
      "  4.80113602e+00 -5.76843452e+00  4.53439808e+00  2.89549756e+00\n",
      " -8.08859730e+00  1.21180594e+00 -3.11727452e+00  1.85354176e+01\n",
      "  2.73516693e+01 -2.38644218e+00  2.11714630e+01  1.75978589e+00\n",
      "  8.38056087e+00  2.30684829e+00  7.97146678e-01  2.94036436e+00\n",
      " -1.10096538e+00  1.38411570e+00  9.08074453e-02  4.99691439e+00\n",
      "  4.90522766e+00  9.36555767e+00 -5.61675653e-02  9.93730068e+00\n",
      "  3.11453915e+00  2.17601414e+01 -2.74905825e+00 -3.48822784e+00\n",
      "  5.20088768e+00  3.26588005e-01  3.49464583e+00 -1.38642991e+00\n",
      " -3.81836843e+00  8.88453197e+00  5.45804977e-01  5.31194150e-01\n",
      "  1.90977974e+01 -5.56701708e+00  2.15296531e+00 -7.32146120e+00\n",
      " -1.52455091e+00 -1.07390108e+01  1.65033989e+01  1.46151400e+01\n",
      "  5.40884733e+00  1.55699503e+00 -2.89753246e+00  6.10395527e+00\n",
      " -4.12850428e+00  5.12948275e+00  1.39301562e+00 -1.32583869e+00\n",
      "  1.41386235e+00 -3.83155251e+00  9.41734219e+00  2.42278805e+01\n",
      "  1.50212717e+01  5.29509640e+00  5.30985928e+00  1.49125252e+01\n",
      " -2.91165519e+00  3.23758340e+00 -4.24585342e+00 -2.37999916e+00\n",
      "  4.12671661e+00  5.01668406e+00 -5.80201626e-01  1.86000786e+01\n",
      "  7.49552727e+00  4.40093279e+00 -2.27471399e+00  3.79872108e+00\n",
      " -1.31548917e+00  5.84404135e+00  2.49348679e+01  1.96214008e+00\n",
      " -3.39535165e+00 -2.82841754e+00  1.91624773e+00  4.22271299e+00\n",
      "  2.52665472e+00  1.36570597e+00  1.25373192e+01  2.59338341e+01\n",
      "  6.90474558e+00  1.42522631e+01 -1.20019855e+01  1.44215477e+00\n",
      "  2.32147923e+01  4.46811962e+00  4.39836740e+00  1.22064943e+01\n",
      " -7.64383912e-01  6.01702642e+00  5.28909445e+00  1.89333153e+00\n",
      "  1.54072409e+01  9.53374481e+00  1.56768732e+01  2.47053480e+00\n",
      "  1.19547663e+01 -1.10000944e+01 -6.53030443e+00  9.71818066e+00\n",
      "  8.68742085e+00  2.03622007e+00  3.45417404e+00 -2.27071714e+00\n",
      "  5.06478500e+00 -1.44230574e-01  1.94311657e+01  5.04805899e+00\n",
      "  2.07511063e+01  4.58413506e+00  2.46820068e+00 -1.47045212e+01\n",
      "  5.66725779e+00 -1.87353921e+00 -2.16981554e+00 -6.19435596e+00\n",
      "  3.20080709e+00  2.51177368e+01  3.59359384e+00  5.05987501e+00\n",
      " -5.65248585e+00  1.32170019e+01  3.30740404e+00 -1.91507772e-01\n",
      " -1.31323802e+00  4.04529953e+00  9.53612232e+00  2.20829868e+00\n",
      "  6.58503103e+00 -1.72845340e+00  1.49474735e+01  9.22441632e-02\n",
      "  1.75360584e+00 -6.78151548e-01  2.75502110e+00 -3.13597178e+00\n",
      " -5.76002502e+00  9.03204083e-01  8.70467663e-01  1.49899709e+00\n",
      "  2.27391624e+01  1.48712435e+01  3.37901711e+00  2.41550636e+00\n",
      " -9.43308258e+00  2.10340424e+01  3.73784232e+00  3.34196281e+00\n",
      " -5.26816750e+00  1.20050526e+00  2.85824633e+00  5.03327847e+00\n",
      " -8.94308949e+00  1.40788898e+01 -5.57185793e+00  8.08587170e+00\n",
      "  2.97639256e+01 -3.62618256e+00  4.36338520e+00  3.99690437e+00\n",
      "  1.03862739e+00 -4.72331285e+00  4.38721275e+00  6.71041298e+00\n",
      " -4.66930962e+00 -4.33041859e+00  5.34291601e+00  2.06506042e+01\n",
      " -5.23429728e+00 -9.52278852e-01  1.91564102e+01  3.25032854e+00\n",
      " -3.42010808e+00  1.14855738e+01  4.14188337e+00  5.94249916e+00\n",
      "  6.37421751e+00 -3.24600115e-02  2.62937284e+00 -3.11979795e+00\n",
      "  7.94052076e+00 -6.94782352e+00 -9.20918882e-01  5.39088154e+00\n",
      " -3.11128110e-01  3.49789023e+00 -3.54032636e-01  1.03560581e+01\n",
      "  2.01376038e+01  3.52524948e+00  2.41979370e+01 -2.62172341e+00\n",
      "  4.45048571e-01 -5.11556149e-01  4.20918179e+00 -8.45247149e-01\n",
      "  3.78961873e+00  1.31971722e+01  5.63249397e+00  1.07190952e+01\n",
      "  2.10703659e+01  3.13484490e-01  3.06583667e+00 -4.36492354e-01\n",
      "  9.47252885e-02  1.57893076e+01  4.48838472e+00  4.37370634e+00\n",
      "  5.34031725e+00  3.90078974e+00 -2.39765078e-01  4.09186411e+00\n",
      "  3.52376652e+00  2.14247227e+00  2.04464417e+01  1.01829481e+01\n",
      "  2.36698246e+00  1.37565784e+01  4.38102007e+00  2.47982807e+01\n",
      " -9.64022398e-01  4.94384080e-01  7.16418886e+00  1.03865337e+01\n",
      " -1.20578079e+01 -1.47884631e+00  1.18002262e+01  7.22561359e+00\n",
      "  3.25600471e+01  2.71053181e+01  5.45418739e+00  1.89128990e+01\n",
      "  2.67092800e+01  1.33746595e+01  7.35182238e+00 -2.12909698e+00\n",
      " -7.93747711e+00 -8.55801010e+00 -7.78768969e+00  2.63058414e+01\n",
      " -2.24647379e+00  4.98789597e+00  4.08848267e+01  8.48992538e+00\n",
      "  2.61093378e+00  1.96352673e+01  1.26697206e+01 -8.05158377e-01\n",
      " -2.39259577e+00 -1.48040848e+01  1.47732191e+01  1.63243866e+01\n",
      "  1.36485710e+01  6.43853188e+00  9.36574650e+00  3.51315575e+01\n",
      " -8.02805424e+00  2.28725681e+01 -2.45224266e+01  8.16756916e+00\n",
      "  8.88877773e+00  3.01881924e+01  1.85164795e+01  2.83760757e+01\n",
      "  1.18106546e+01  2.53389225e+01  4.37373972e+00  7.95271111e+00\n",
      "  1.33461103e+01  3.44069443e+01  3.41208267e+01 -2.97647536e-01\n",
      "  9.76078606e+00  7.91084671e+00 -1.45904338e+00  1.56175308e+01\n",
      "  1.79396343e+01  8.48236084e+00  3.45216370e+01  7.84753418e+00\n",
      " -4.49977827e+00  4.12874877e-01  7.13760078e-01 -3.62481546e+00\n",
      "  9.81579971e+00  1.68506012e+01  6.75573587e+00 -8.95952797e+00\n",
      "  1.94200268e+01  8.31809044e+00  6.37100315e+00  2.48027706e+01\n",
      "  1.03979902e+01  3.13599033e+01  3.01166286e+01  2.11484492e-01\n",
      "  3.74619370e+01 -1.70640802e+00  1.20661821e+01  1.70288391e+01\n",
      "  2.61492100e+01  3.03707695e+01 -2.37538681e+01  3.87391586e+01\n",
      "  7.50976753e+00  3.51921964e+00  2.36903095e+01  1.36437202e-02\n",
      "  1.86255703e+01  1.62024174e+01  1.04463875e+00  2.96178532e+00\n",
      "  1.49189386e+01 -1.73920879e+01  1.52029486e+01  5.56505108e+00\n",
      " -1.60062447e+01 -5.49456120e+00 -5.17883635e+00 -1.91970196e+01\n",
      "  3.00501108e+00 -2.28909912e+01 -2.20235753e+00 -7.12146378e+00\n",
      " -6.86298227e+00 -7.61590385e+00 -6.19250536e+00 -5.00434637e+00\n",
      "  3.27405870e-01 -1.21824706e+00 -2.19063053e+01 -2.44401436e+01\n",
      " -4.02487803e+00 -5.63882470e-01 -4.75452614e+00 -5.42185116e+00\n",
      " -5.46223068e+00  1.07046852e+01 -6.59675312e+00 -7.50921369e-01\n",
      "  2.09185457e+00 -7.75447130e+00 -1.37611361e+01  4.53939247e+00\n",
      " -1.13437481e+01 -1.37978182e+01 -5.76921642e-01 -7.71180964e+00\n",
      " -1.70784931e+01  6.14928341e+00  4.04113007e+00 -4.32660437e+00\n",
      " -3.54007387e+00  4.73393297e+00 -6.65842152e+00 -9.86534691e+00\n",
      " -4.49521494e+00 -8.06436348e+00 -4.12584573e-01 -1.06455393e+01\n",
      "  6.99792099e+00 -2.06810589e+01  2.26361847e+00 -5.91609812e+00\n",
      " -1.66057816e+01 -2.42702618e+01 -8.99809456e+00 -7.63904905e+00\n",
      " -4.61477423e+00  2.45669580e+00  1.99618769e+00 -2.67576714e+01\n",
      "  2.29878211e+00 -2.54863415e+01  8.83713961e-01 -2.49101448e+01\n",
      " -2.02779055e+00 -6.40304375e+00 -1.10959339e+01 -6.91941214e+00\n",
      " -7.32129335e+00 -1.80588067e+00 -3.71761060e+00 -7.40168190e+00\n",
      " -5.08325958e+00 -2.22416592e+00 -8.37787056e+00 -7.64279938e+00\n",
      " -1.22310476e+01 -1.59337006e+01  4.16775322e+00 -5.19528246e+00\n",
      " -1.66455555e+00 -4.10396814e+00 -5.51784134e+00 -7.59530723e-01\n",
      "  1.03653085e+00 -1.92634945e+01 -9.10509050e-01 -1.08477516e+01\n",
      " -7.96881390e+00  6.67431355e-01 -3.72159505e+00 -1.08059025e+01\n",
      "  4.48833323e+00  3.08144593e+00 -6.92719889e+00 -1.79912508e+00\n",
      " -2.57119064e+01  3.40229058e+00 -2.07143993e+01  3.23812270e+00\n",
      " -2.90292339e+01 -8.87239933e+00 -1.58383818e+01 -6.22899532e+00\n",
      " -1.87232952e+01 -2.18795180e+00  2.66473222e+00 -4.62612581e+00\n",
      "  2.67343712e+00 -1.92875910e+00 -2.20062232e+00 -9.67675745e-01\n",
      " -1.48069501e+00 -1.50630081e+00  6.12907696e+00 -5.07543135e+00\n",
      " -1.03408537e+01 -7.20812702e+00  5.59460449e+00  3.09785056e+00\n",
      " -6.41725874e+00 -6.20462084e+00 -4.74665117e+00  1.95067444e+01\n",
      "  1.17698979e+00 -1.18581212e+00 -1.22755432e+01 -4.03991127e+00\n",
      "  4.07831621e+00 -3.77483606e+00 -1.03788204e+01 -5.51717806e+00\n",
      "  4.23682976e+00 -2.15595322e+01 -7.58797121e+00 -1.29203682e+01\n",
      " -5.34418011e+00 -4.04529715e+00 -2.27366638e+01 -7.42802769e-03\n",
      " -8.37891769e+00 -9.07130241e+00 -5.86093998e+00  1.26548934e+00\n",
      " -1.25423117e+01 -2.94479638e-01 -6.97367668e+00 -3.25354338e+00\n",
      "  1.31229937e+00  2.57748175e+00  5.74677801e+00 -4.10006428e+00\n",
      " -6.59797764e+00 -1.74188690e+01 -1.57559633e+00 -2.93854451e+00\n",
      " -2.27108264e+00  7.58927155e+00  1.85001493e+00  5.78034163e+00\n",
      "  2.10195994e+00 -2.49239755e+00  1.14500113e+01 -9.35557485e-01\n",
      " -5.73586762e-01 -3.94697857e+00  3.93316567e-01 -2.47095323e+00\n",
      " -3.78519583e+00 -3.86985779e+00 -2.95740414e+00  1.45298094e-01\n",
      " -8.37689590e+00 -1.16858494e+00 -6.29500914e+00  2.22667670e+00\n",
      " -4.33568335e+00  1.73301077e+00 -2.49882793e+01 -8.86138201e-01\n",
      "  3.47949195e+00 -5.39704895e+00 -9.55939198e+00 -3.26085877e+00\n",
      " -4.22400188e+00  5.02568722e-01 -4.99351072e+00  7.57768452e-01\n",
      " -6.73276567e+00  2.12328434e+00  4.02844381e+00 -2.03880844e+01\n",
      " -1.09505634e+01 -2.76894894e+01 -3.51868302e-01 -5.29251003e+00\n",
      " -2.79586434e+00 -2.45589981e+01 -8.43784142e+00 -8.55746651e+00\n",
      " -1.98566113e+01  6.89645433e+00  8.10191727e+00 -1.30889833e-01\n",
      " -9.10540298e-02  6.04271889e+00 -1.17319221e+01  2.03452349e+00\n",
      " -1.84536266e+00 -1.00837965e+01 -1.00564003e+01 -5.82215190e-01\n",
      " -2.30284252e+01 -2.07215919e+01 -1.74692383e+01 -5.09683466e+00\n",
      " -4.15162992e+00  6.08178234e+00 -1.26087236e+01 -1.91138020e+01\n",
      " -3.20106926e+01 -2.62103939e+01 -7.45390797e+00 -3.62283444e+00\n",
      "  4.64275885e+00 -7.24965000e+00 -2.16669273e+01  7.23101044e+00\n",
      " -2.87691536e+01  9.38652813e-01 -2.52595234e+01 -3.06369996e+00\n",
      " -3.85659027e+01 -1.23341312e+01  5.51916265e+00 -4.03875885e+01\n",
      "  2.79935694e+00  2.66166598e-01 -3.86174631e+00 -2.39135895e+01\n",
      " -3.27462530e+00 -2.63478718e+01  7.50225258e+00 -2.82831936e+01\n",
      " -4.56272173e+00 -2.30679154e+00 -3.43977699e+01 -2.50763512e+01\n",
      " -5.28553963e+00 -5.38885176e-01 -8.83818245e+00 -6.77263212e+00\n",
      " -2.12950401e+01  6.18036652e+00 -7.14489126e+00  2.60096478e+00\n",
      " -1.37512121e+01  1.01873294e-01 -9.79271531e-01  2.23463726e+00\n",
      "  9.79197443e-01 -2.41869330e+00 -1.59926338e+01  1.13258994e+00\n",
      " -2.82969904e+00 -1.18318710e+01 -1.72881222e+01 -1.15281153e+01\n",
      "  6.09845352e+00 -8.25437450e+00 -2.64833012e+01  7.44568682e+00\n",
      " -7.28230715e+00 -1.23104477e+01  2.73651814e+00 -1.13948898e+01\n",
      " -1.39035187e+01 -3.75257378e+01 -8.73946476e+00 -2.35050678e+01\n",
      " -1.47711678e+01 -1.58435380e+00 -2.54576516e+00  3.83325458e+00\n",
      " -2.96539764e+01 -1.33424234e+01 -7.43392372e+00 -2.70415382e+01\n",
      " -5.12179298e+01  3.58832812e+00  9.33579147e-01 -2.05170879e+01\n",
      " -1.82750535e+00 -9.27255058e+00 -3.56453285e+01 -3.61228418e+00\n",
      "  1.74950466e+01  6.47997904e+00 -1.21816416e+01 -1.04060402e+01\n",
      " -2.96717625e+01 -2.78466129e+01  6.10792351e+00 -1.08393383e+01\n",
      "  2.03926539e+00  7.43329811e+00 -1.96710396e+01 -6.91374826e+00\n",
      "  4.97665226e-01 -9.39359665e+00 -2.65208626e+01 -2.99521160e+01\n",
      " -8.99179840e+00  5.89722490e+00  3.13996053e+00 -9.63523197e+00\n",
      "  1.63962805e+00 -9.12773895e+00 -2.31396255e+01 -1.51062593e+01\n",
      " -1.19694691e+01 -1.98867893e+00 -2.65993595e+01 -2.69006424e+01\n",
      " -2.05097046e+01 -8.95978391e-01]' has dtype incompatible with int64, please explicitly cast to a compatible dtype first.\n",
      "  preds[val_index] = model.predict(dval_i)\n"
     ]
    },
    {
     "name": "stderr",
     "output_type": "stream",
     "text": [
      "\r",
      "100%|███████████████████████████████████████████████████████████████████████████████████████████████████████████████████████████████████████████████████| 10/10 [03:22<00:00, 20.79s/it]"
     ]
    },
    {
     "name": "stderr",
     "output_type": "stream",
     "text": [
      "\r",
      "100%|███████████████████████████████████████████████████████████████████████████████████████████████████████████████████████████████████████████████████| 10/10 [03:22<00:00, 20.25s/it]"
     ]
    },
    {
     "name": "stdout",
     "output_type": "stream",
     "text": [
      "OOF predictions complete\n"
     ]
    },
    {
     "name": "stderr",
     "output_type": "stream",
     "text": [
      "\n"
     ]
    }
   ],
   "source": [
    "# OOF予測\n",
    "oof_preds = []\n",
    "for i in tqdm(range(repeat_cv), leave=True, dynamic_ncols=True):\n",
    "    # 初期はターゲットの値で初期化（後で上書き）\n",
    "    preds = y.copy()\n",
    "    # 各 repeater 毎に独自の KFold を用いる（random_state = i）\n",
    "    kfold = KFold(n_splits=folds_splits, shuffle=True, random_state=i)    \n",
    "    for train_index, val_index in kfold.split(X, y):\n",
    "        dtrain_i = xgb.DMatrix(X.iloc[train_index], label=y.iloc[train_index])\n",
    "        dval_i   = xgb.DMatrix(X.iloc[val_index], label=y.iloc[val_index])\n",
    "\n",
    "        model = xgb.train(\n",
    "            params=param,\n",
    "            dtrain=dtrain_i,\n",
    "            num_boost_round=iteration_counts[i],\n",
    "            verbose_eval=50\n",
    "        )\n",
    "        preds[val_index] = model.predict(dval_i)\n",
    "    # 予測値を -30 ～ 30 にクリップ\n",
    "    oof_preds.append(np.clip(preds, -30, 30))\n",
    "\n",
    "print(\"OOF predictions complete\")"
   ]
  },
  {
   "cell_type": "code",
   "execution_count": 24,
   "id": "207114bc",
   "metadata": {
    "execution": {
     "iopub.execute_input": "2025-03-14T17:05:58.634856Z",
     "iopub.status.busy": "2025-03-14T17:05:58.634856Z",
     "iopub.status.idle": "2025-03-14T17:05:58.741904Z",
     "shell.execute_reply": "2025-03-14T17:05:58.741904Z"
    },
    "papermill": {
     "duration": 0.134525,
     "end_time": "2025-03-14T17:05:58.741904",
     "exception": false,
     "start_time": "2025-03-14T17:05:58.607379",
     "status": "completed"
    },
    "tags": []
   },
   "outputs": [
    {
     "data": {
      "text/plain": [
       "<Axes: >"
      ]
     },
     "execution_count": 24,
     "metadata": {},
     "output_type": "execute_result"
    },
    {
     "data": {
      "image/png": "[encoded data removed]",
      "text/plain": [
       "<Figure size 640x480 with 1 Axes>"
      ]
     },
     "metadata": {},
     "output_type": "display_data"
    }
   ],
   "source": [
    "oof_preds[0].hist()"
   ]
  },
  {
   "cell_type": "code",
   "execution_count": 25,
   "id": "0a817233",
   "metadata": {
    "execution": {
     "iopub.execute_input": "2025-03-14T17:05:58.779677Z",
     "iopub.status.busy": "2025-03-14T17:05:58.779677Z",
     "iopub.status.idle": "2025-03-14T17:05:58.803373Z",
     "shell.execute_reply": "2025-03-14T17:05:58.803373Z"
    },
    "papermill": {
     "duration": 0.04546,
     "end_time": "2025-03-14T17:05:58.805383",
     "exception": false,
     "start_time": "2025-03-14T17:05:58.759923",
     "status": "completed"
    },
    "tags": []
   },
   "outputs": [],
   "source": [
    "### simple spline, seed(1, 16)~(4, 13)は強制的にfiltaring,  \n",
    "### seed値に対応して予測スコアも同じ大小関係なら1or0に変換の3モデル\n",
    "def cal_logloss(pred_vals, y, i):\n",
    "    y_binary = np.where(y > 0, 1, 0)\n",
    "    loss = log_loss(y_binary, pred_vals)\n",
    "    print(f\"logloss of cvsplit {i}: {loss:.4f}\")\n",
    "\n",
    "\n",
    "    results.append(f\"Normal Spline - logloss of cvsplit {i}: {loss:.4f}\")\n",
    "    return loss\n",
    "\n",
    "#simple spline\n",
    "def make_normal_spline(df, y, repeat_cv):\n",
    "    spline_model1 = []\n",
    "    logloss_normal = []\n",
    "    \n",
    "    for i in range(repeat_cv):\n",
    "        dat = list(zip(df[i], np.where(y>0, 1, 0)))\n",
    "        dat = sorted(dat, key=lambda x:x[0])\n",
    "        datdict = {}\n",
    "        for k in range(len(dat)):\n",
    "            datdict[dat[k][0]] = dat[k][1]\n",
    "        \n",
    "        spline_model1.append(UnivariateSpline(list(datdict.keys()), list(datdict.values())))\n",
    "        spline_fit = spline_model1[i](df[i])\n",
    "        \n",
    "        loss = cal_logloss(spline_fit, y, i)    \n",
    "        logloss_normal.append(loss)\n",
    "\n",
    "    plot_df = pd.DataFrame({\n",
    "        \"pred\": df[0],\n",
    "        \"label\": np.where(y>0,1,0),\n",
    "        \"spline\": spline_model1[0](df[0])\n",
    "    })\n",
    "    plot_df[\"pred_int\"] = plot_df[\"pred\"].astype(int)\n",
    "    plot_df = plot_df.groupby('pred_int')[['spline','label']].mean().reset_index()\n",
    "    \n",
    "    plt.figure(figsize=(8, 5))\n",
    "    plt.plot(plot_df.pred_int, plot_df.label, marker='o', linestyle='-', label=\"True Label\")\n",
    "    plt.plot(plot_df.pred_int, plot_df.spline, marker='x', linestyle='--', label=\"Spline Approximation\")\n",
    "    plt.xlabel(\"Predicted Value (Integer)\")\n",
    "    plt.ylabel(\"Mean Value\")\n",
    "    plt.title(\"Normal Spline Fit Comparison\")\n",
    "    plt.legend()\n",
    "    plt.grid(True)\n",
    "    plt.savefig(os.path.join(OUTPUT_PATH, f\"normal_spline_fit_{PREDICT_YEAR}.png\"))\n",
    "    plt.close()\n",
    "    \n",
    "    \n",
    "    # 例として平均loglossもresultsに記録\n",
    "    avg_logloss = np.mean(logloss_normal) \n",
    "    results.append(f\"Average Normal Spline logloss: {avg_logloss:.4f}\" if avg_logloss is not None else \"No logloss computed\")\n",
    "    \n",
    "    return spline_model1\n",
    "            \n",
    "            \n",
    "#seed(1, 16)~(4, 13)は強制的にseed通りの結果にフィルタリング\n",
    "def make_seed1to4_chenge(df, y, repeat_cv):\n",
    "    spline_model2 = []\n",
    "    spline_fits = []\n",
    "    for i in range(repeat_cv):\n",
    "        dat = list(zip(df[i], np.where(y>0, 1, 0)))\n",
    "        dat = sorted(dat, key=lambda x:x[0])\n",
    "        datdict = {}\n",
    "        for k in range(len(dat)):\n",
    "            datdict[dat[k][0]] = dat[k][1]\n",
    "        \n",
    "        spline_model2.append(UnivariateSpline(list(datdict.keys()), list(datdict.values())))\n",
    "        spline_fit = spline_model2[i](df[i]) \n",
    "        \n",
    "        #add\n",
    "        spline_fit[(X.T1_seed==1) & (X.T2_seed==16)] = 1.0\n",
    "        spline_fit[(X.T1_seed==2) & (X.T2_seed==15)] = 0.9\n",
    "        spline_fit[(X.T1_seed==3) & (X.T2_seed==14)] = 0.8\n",
    "        spline_fit[(X.T1_seed==4) & (X.T2_seed==13)] = 0.7\n",
    "        spline_fit[(X.T1_seed==16) & (X.T2_seed==1)] = 0.0\n",
    "        spline_fit[(X.T1_seed==15) & (X.T2_seed==2)] = 0.1\n",
    "        spline_fit[(X.T1_seed==14) & (X.T2_seed==3)] = 0.2\n",
    "        spline_fit[(X.T1_seed==13) & (X.T2_seed==4)] = 0.3\n",
    "\n",
    "    \n",
    "        cal_logloss(spline_fit, y, i)   \n",
    "                \n",
    "        spline_fits.append(spline_fit)\n",
    "        cal_logloss(spline_fit, y, i)   \n",
    "                \n",
    "    \n",
    "    plot_df = pd.DataFrame({\n",
    "        \"pred\": df[0],\n",
    "        \"label\": np.where(y > 0, 1, 0),\n",
    "        \"spline\": spline_fits[0]  # 変更後の値を利用\n",
    "    })\n",
    "    plot_df[\"pred_int\"] = plot_df[\"pred\"].astype(int)\n",
    "    plot_df = plot_df.groupby(\"pred_int\")[[\"spline\", \"label\"]].mean().reset_index()\n",
    "\n",
    "    plt.figure()\n",
    "    plt.plot(plot_df.pred_int, plot_df.label, label=\"label\")\n",
    "    plt.plot(plot_df.pred_int, plot_df.spline, label=\"spline\")\n",
    "    plt.legend()\n",
    "    plt.show()\n",
    "    \n",
    "    return spline_model2\n",
    "    \n",
    "    \n",
    "#完全に値変換するのではなくてseed値に対応して予測スコアも同じ大小関係なら1or0に変換\n",
    "def make_seed1to4_base_on_score(df, y, repeat_cv):\n",
    "    spline_model3 = []\n",
    "    spline_fits = []\n",
    "\n",
    "    for i in range(repeat_cv):\n",
    "        dat = list(zip(df[i], np.where(y>0, 1, 0)))\n",
    "        dat = sorted(dat, key=lambda x:x[0])\n",
    "        datdict = {}\n",
    "        for k in range(len(dat)):\n",
    "            datdict[dat[k][0]] = dat[k][1]\n",
    "        \n",
    "        spline_model3.append(UnivariateSpline(list(datdict.keys()), list(datdict.values())))\n",
    "        spline_fit = spline_model3[i](df[i]) \n",
    "        \n",
    "        #add\n",
    "        spline_fit[(X.T1_seed==1) & (X.T2_seed==16) & (X.T1_Score > X.T2_Score)] = 1.0\n",
    "        spline_fit[(X.T1_seed==2) & (X.T2_seed==15) & (X.T1_Score > X.T2_Score)] = 1.0\n",
    "        spline_fit[(X.T1_seed==3) & (X.T2_seed==14) & (X.T1_Score > X.T2_Score)] = 1.0\n",
    "        spline_fit[(X.T1_seed==4) & (X.T2_seed==13) & (X.T1_Score > X.T2_Score)] = 1.0\n",
    "        spline_fit[(X.T1_seed==16) & (X.T2_seed==1) & (X.T1_Score < X.T2_Score)] = 0.0\n",
    "        spline_fit[(X.T1_seed==15) & (X.T2_seed==2) & (X.T1_Score < X.T2_Score)] = 0.0\n",
    "        spline_fit[(X.T1_seed==14) & (X.T2_seed==3) & (X.T1_Score < X.T2_Score)] = 0.0\n",
    "        spline_fit[(X.T1_seed==13) & (X.T2_seed==4) & (X.T1_Score < X.T2_Score)] = 0.0\n",
    "\n",
    "        spline_fits.append(spline_fit)\n",
    "        cal_logloss(spline_fit, y, i)   \n",
    "    \n",
    "    \n",
    "    plot_df = pd.DataFrame({\n",
    "        \"pred\": df[0],\n",
    "        \"label\": np.where(y > 0, 1, 0),\n",
    "        \"spline\": spline_fits[0]  # 変更後の値を利用\n",
    "    })\n",
    "    plot_df[\"pred_int\"] = plot_df[\"pred\"].astype(int)\n",
    "    plot_df = plot_df.groupby(\"pred_int\")[[\"spline\", \"label\"]].mean().reset_index()\n",
    "\n",
    "    plt.figure()\n",
    "    plt.plot(plot_df.pred_int, plot_df.label, label=\"label\")\n",
    "    plt.plot(plot_df.pred_int, plot_df.spline, label=\"spline\")\n",
    "    plt.legend()\n",
    "    plt.show()\n",
    "    return spline_model3\n",
    "\n",
    "\n",
    "\n",
    "# Platt Scalingを用いた補正曲線生成の関数 (ロジスティック回帰)\n",
    "def make_platt_scaling(df, y, repeat_cv):\n",
    "    platt_models = []\n",
    "    logloss_platt = []\n",
    "    \n",
    "    for i in range(repeat_cv):\n",
    "        X_train = np.array(df[i]).reshape(-1, 1)\n",
    "        y_binary = np.where(y > 0, 1, 0)\n",
    "        \n",
    "        model = LogisticRegression(random_state=42, solver='lbfgs')\n",
    "        model.fit(X_train, y_binary)\n",
    "        platt_models.append(model)\n",
    "        \n",
    "\n",
    "        platt_fit = model.predict_proba(X_train)[:, 1]\n",
    "        loss = cal_logloss(platt_fit, y, i)\n",
    "        logloss_platt.append(loss)\n",
    "    \n",
    "    \n",
    "    ###\n",
    "    plot_df = pd.DataFrame({\n",
    "        \"pred\": df[0],\n",
    "        \"label\": np.where(y > 0, 1, 0),\n",
    "        \"platt\": platt_models[0].predict_proba(np.array(df[0]).reshape(-1, 1))[:, 1]\n",
    "    })\n",
    "    plot_df[\"pred_int\"] = plot_df[\"pred\"].astype(int)\n",
    "    plot_df = plot_df.groupby(\"pred_int\")[[\"platt\", \"label\"]].mean().reset_index()\n",
    "    \n",
    "    plt.figure(figsize=(8, 5))\n",
    "    plt.plot(plot_df.pred_int, plot_df.label, marker='o', linestyle='-', label=\"True Label\")\n",
    "    plt.plot(plot_df.pred_int, plot_df.platt, marker='x', linestyle='--', label=\"Platt Scaling\")\n",
    "    plt.xlabel(\"Predicted Value (Integer)\")\n",
    "    plt.ylabel(\"Mean Value\")\n",
    "    plt.title(\"Platt Scaling Calibration Curve\")\n",
    "    plt.legend()\n",
    "    plt.grid(True)\n",
    "    plt.savefig(os.path.join(OUTPUT_PATH, f\"platt_scaling_fit_{PREDICT_YEAR}.png\"))\n",
    "    plt.close()\n",
    "    \n",
    "    avg_logloss = np.mean(logloss_platt)\n",
    "    results.append(f\"Average Platt Scaling logloss: {avg_logloss:.4f}\" if avg_logloss is not None else \"No logloss computed\")\n",
    "    \n",
    "    return platt_models\n",
    "\n",
    "def make_isotonic_regression(df, y, repeat_cv):\n",
    "    \"\"\" Isotonic Regression を用いた補正曲線生成 \"\"\"\n",
    "    isotonic_models = []\n",
    "    logloss_isotonic = []\n",
    "    \n",
    "    for i in range(repeat_cv):\n",
    "        X_train = np.array(df[i]).reshape(-1, 1)\n",
    "        y_binary = np.where(y > 0, 1, 0)\n",
    "        \n",
    "        model = IsotonicRegression(out_of_bounds=\"clip\")\n",
    "        model.fit(X_train.ravel(), y_binary)\n",
    "        isotonic_models.append(model)\n",
    "        \n",
    "        isotonic_fit = model.predict(X_train.ravel())\n",
    "        loss = cal_logloss(isotonic_fit, y, i)\n",
    "        logloss_isotonic.append(loss)\n",
    "    \n",
    "    plot_df = pd.DataFrame({\n",
    "        \"pred\": df[0],\n",
    "        \"label\": np.where(y > 0, 1, 0),\n",
    "        \"isotonic\": isotonic_models[0].predict(np.array(df[0]).reshape(-1, 1))\n",
    "    })\n",
    "    plot_df[\"pred_int\"] = plot_df[\"pred\"].astype(int)\n",
    "    plot_df = plot_df.groupby(\"pred_int\")[[\"isotonic\", \"label\"]].mean().reset_index()\n",
    "    \n",
    "    plt.figure(figsize=(8, 5))\n",
    "    plt.plot(plot_df.pred_int, plot_df.label, marker='o', linestyle='-', label=\"True Label\")\n",
    "    plt.plot(plot_df.pred_int, plot_df.isotonic, marker='x', linestyle='--', label=\"Isotonic Regression\")\n",
    "    plt.xlabel(\"Predicted Value (Integer)\")\n",
    "    plt.ylabel(\"Mean Value\")\n",
    "    plt.title(\"Isotonic Regression Calibration Curve\")\n",
    "    plt.legend()\n",
    "    plt.grid(True)\n",
    "    plt.savefig(os.path.join(OUTPUT_PATH, f\"isotonic_regression_fit_{PREDICT_YEAR}.png\"))\n",
    "    plt.close()\n",
    "    \n",
    "    avg_logloss = np.mean(logloss_isotonic)\n",
    "    results.append(f\"Average Isotonic Regression logloss: {avg_logloss:.4f}\" if avg_logloss is not None else \"No logloss computed\")\n",
    "    \n",
    "    return isotonic_models\n",
    "\n"
   ]
  },
  {
   "cell_type": "code",
   "execution_count": 26,
   "id": "8283d86f",
   "metadata": {
    "execution": {
     "iopub.execute_input": "2025-03-14T17:05:58.821273Z",
     "iopub.status.busy": "2025-03-14T17:05:58.821273Z",
     "iopub.status.idle": "2025-03-14T17:05:58.841134Z",
     "shell.execute_reply": "2025-03-14T17:05:58.841134Z"
    },
    "papermill": {
     "duration": 0.035751,
     "end_time": "2025-03-14T17:05:58.841134",
     "exception": false,
     "start_time": "2025-03-14T17:05:58.805383",
     "status": "completed"
    },
    "tags": []
   },
   "outputs": [],
   "source": [
    "# キャリブレーションカーブの描画関数\n",
    "def plot_calibration_curve(y_true, y_pred_proba, method, save_path):\n",
    "    \"\"\" キャリブレーションカーブをプロットし保存 \"\"\"\n",
    "    y_binary = np.where(y_true > 0, 1, 0) \n",
    "    prob_true, prob_pred = calibration_curve(y_binary, y_pred_proba, n_bins=10)\n",
    "    \n",
    "    plt.figure(figsize=(6,6))\n",
    "    plt.plot(prob_pred, prob_true, marker=\"o\", label=f\"{method} Calibration\")\n",
    "    plt.plot([0, 1], [0, 1], linestyle=\"--\", label=\"Perfect Calibration\")\n",
    "    plt.xlabel(\"Predicted Probability\")\n",
    "    plt.ylabel(\"Actual Probability\")\n",
    "    plt.legend()\n",
    "    plt.title(f\"{method} Calibration Curve\")\n",
    "    plt.grid()\n",
    "    plt.savefig(save_path)\n",
    "    plt.close()\n",
    "\n"
   ]
  },
  {
   "cell_type": "code",
   "execution_count": 27,
   "id": "32ed4ed9",
   "metadata": {
    "execution": {
     "iopub.execute_input": "2025-03-14T17:05:58.880261Z",
     "iopub.status.busy": "2025-03-14T17:05:58.880261Z",
     "iopub.status.idle": "2025-03-14T17:05:59.076041Z",
     "shell.execute_reply": "2025-03-14T17:05:59.076041Z"
    },
    "papermill": {
     "duration": 0.211414,
     "end_time": "2025-03-14T17:05:59.076041",
     "exception": false,
     "start_time": "2025-03-14T17:05:58.864627",
     "status": "completed"
    },
    "tags": []
   },
   "outputs": [
    {
     "name": "stdout",
     "output_type": "stream",
     "text": [
      "logloss of cvsplit 0: 0.5087\n",
      "logloss of cvsplit 1: 0.5058\n",
      "logloss of cvsplit 2: 0.5056\n",
      "logloss of cvsplit 3: 0.5032\n",
      "logloss of cvsplit 4: 0.5060\n",
      "logloss of cvsplit 5: 0.5045\n",
      "logloss of cvsplit 6: 0.5059\n",
      "logloss of cvsplit 7: 0.5082\n",
      "logloss of cvsplit 8: 0.5064\n",
      "logloss of cvsplit 9: 0.5042\n"
     ]
    }
   ],
   "source": [
    "# キャリブレーション手法の選択\n",
    "spline = MODEL.spline\n",
    "if spline == \"spline_normal\":\n",
    "    spline_model = make_normal_spline(oof_preds, y, repeat_cv)\n",
    "    calibrated_preds = spline_model[0](oof_preds[0])\n",
    "    plot_calibration_curve(y, calibrated_preds, \"Spline Normal\", os.path.join(OUTPUT_PATH, f\"spline_normal_calibration_{PREDICT_YEAR}.png\"))\n",
    "    \n",
    "elif spline == \"logistic\":\n",
    "    spline_model = make_platt_scaling(oof_preds, y, repeat_cv)\n",
    "    calibrated_preds = spline_model[0].predict_proba(np.array(oof_preds[0]).reshape(-1, 1))[:, 1]\n",
    "    plot_calibration_curve(y, calibrated_preds, \"Platt Scaling\", os.path.join(OUTPUT_PATH, f\"platt_scaling_calibration_{PREDICT_YEAR}.png\"))\n",
    "    \n",
    "elif spline == \"isotonic\":\n",
    "    spline_model = make_isotonic_regression(oof_preds, y, repeat_cv)\n",
    "    calibrated_preds = spline_model[0].predict(np.array(oof_preds[0]).reshape(-1, 1))\n",
    "    plot_calibration_curve(y, calibrated_preds, \"Isotonic Regression\", os.path.join(OUTPUT_PATH, f\"isotonic_regression_calibration_{PREDICT_YEAR}.png\"))"
   ]
  },
  {
   "cell_type": "markdown",
   "id": "c7e5e5c6",
   "metadata": {
    "papermill": {
     "duration": 0.015771,
     "end_time": "2025-03-14T17:05:59.109500",
     "exception": false,
     "start_time": "2025-03-14T17:05:59.093729",
     "status": "completed"
    },
    "tags": []
   },
   "source": [
    "# submmit\n",
    "\n",
    "同じfeature engineeringする.\n",
    "\n",
    "個々の扱うも考える。2025は最終提出用の関数を用意する、その他2024以前は過去コンペでの提出形式に合わせる、でも年度によって提出形式が変わるからとりあえず2023でやる"
   ]
  },
  {
   "cell_type": "code",
   "execution_count": 28,
   "id": "8c4cd2b9",
   "metadata": {
    "execution": {
     "iopub.execute_input": "2025-03-14T17:05:59.142021Z",
     "iopub.status.busy": "2025-03-14T17:05:59.142021Z",
     "iopub.status.idle": "2025-03-14T17:05:59.146696Z",
     "shell.execute_reply": "2025-03-14T17:05:59.146696Z"
    },
    "papermill": {
     "duration": 0.021685,
     "end_time": "2025-03-14T17:05:59.146696",
     "exception": false,
     "start_time": "2025-03-14T17:05:59.125011",
     "status": "completed"
    },
    "tags": []
   },
   "outputs": [
    {
     "data": {
      "text/plain": [
       "'if PREDICT_YEAR==2022:\\n    sub = pd.read_csv(os.path.join(INPUT_PATH, \"SampleSubmission2022M.csv\"))\\n    sub[\\'Season\\'] = sub[\\'ID\\'].apply(lambda x: int(x.split(\\'_\\')[0]))\\n    sub[\"T1_TeamID\"] = sub[\\'ID\\'].apply(lambda x: int(x.split(\\'_\\')[1]))\\n    sub[\"T2_TeamID\"] = sub[\\'ID\\'].apply(lambda x: int(x.split(\\'_\\')[2]))\\n    sub_X, a = process_tourney(sub, mode = \"sub\")\\n    dtest = xgb.DMatrix(sub_X)\\nelif PREDICT_YEAR==2023:\\n    sub = pd.read_csv(os.path.join(INPUT_PATH, \"SampleSubmission2023.csv\"))\\n    sub[\\'Season\\'] = sub[\\'ID\\'].apply(lambda x: int(x.split(\\'_\\')[0]))\\n    sub[\"T1_TeamID\"] = sub[\\'ID\\'].apply(lambda x: int(x.split(\\'_\\')[1]))\\n    sub[\"T2_TeamID\"] = sub[\\'ID\\'].apply(lambda x: int(x.split(\\'_\\')[2]))\\n    sub_X, a = process_tourney(sub, mode = \"sub\")\\n    dtest = xgb.DMatrix(sub_X)\\nelif PREDICT_YEAR==2024:\\n    sub = pd.read_csv(os.path.join(INPUT_PATH, \"SampleSubmission2024.csv\"))\\n    sub[\\'Season\\'] = sub[\\'ID\\'].apply(lambda x: int(x.split(\\'_\\')[0]))\\n    sub[\"T1_TeamID\"] = sub[\\'ID\\'].apply(lambda x: int(x.split(\\'_\\')[1]))\\n    sub[\"T2_TeamID\"] = sub[\\'ID\\'].apply(lambda x: int(x.split(\\'_\\')[2]))\\n    sub_X, a = process_tourney(sub, mode = \"sub\")\\n    dtest = xgb.DMatrix(sub_X)\\nelif PREDICT_YEAR==2025:\\n    sub = pd.read_csv(os.path.join(INPUT_PATH, \"SampleSubmissionStage2.csv\"))\\n    sub[\\'Season\\'] = sub[\\'ID\\'].apply(lambda x: int(x.split(\\'_\\')[0]))\\n    sub[\"T1_TeamID\"] = sub[\\'ID\\'].apply(lambda x: int(x.split(\\'_\\')[1]))\\n    sub[\"T2_TeamID\"] = sub[\\'ID\\'].apply(lambda x: int(x.split(\\'_\\')[2]))   \\n    sub_X, a = process_tourney(sub, mode = \"sub\")\\n    dtest = xgb.DMatrix(sub_X)'"
      ]
     },
     "execution_count": 28,
     "metadata": {},
     "output_type": "execute_result"
    }
   ],
   "source": [
    "\"\"\"if PREDICT_YEAR==2022:\n",
    "    sub = pd.read_csv(os.path.join(INPUT_PATH, \"SampleSubmission2022M.csv\"))\n",
    "    sub['Season'] = sub['ID'].apply(lambda x: int(x.split('_')[0]))\n",
    "    sub[\"T1_TeamID\"] = sub['ID'].apply(lambda x: int(x.split('_')[1]))\n",
    "    sub[\"T2_TeamID\"] = sub['ID'].apply(lambda x: int(x.split('_')[2]))\n",
    "    sub_X, a = process_tourney(sub, mode = \"sub\")\n",
    "    dtest = xgb.DMatrix(sub_X)\n",
    "elif PREDICT_YEAR==2023:\n",
    "    sub = pd.read_csv(os.path.join(INPUT_PATH, \"SampleSubmission2023.csv\"))\n",
    "    sub['Season'] = sub['ID'].apply(lambda x: int(x.split('_')[0]))\n",
    "    sub[\"T1_TeamID\"] = sub['ID'].apply(lambda x: int(x.split('_')[1]))\n",
    "    sub[\"T2_TeamID\"] = sub['ID'].apply(lambda x: int(x.split('_')[2]))\n",
    "    sub_X, a = process_tourney(sub, mode = \"sub\")\n",
    "    dtest = xgb.DMatrix(sub_X)\n",
    "elif PREDICT_YEAR==2024:\n",
    "    sub = pd.read_csv(os.path.join(INPUT_PATH, \"SampleSubmission2024.csv\"))\n",
    "    sub['Season'] = sub['ID'].apply(lambda x: int(x.split('_')[0]))\n",
    "    sub[\"T1_TeamID\"] = sub['ID'].apply(lambda x: int(x.split('_')[1]))\n",
    "    sub[\"T2_TeamID\"] = sub['ID'].apply(lambda x: int(x.split('_')[2]))\n",
    "    sub_X, a = process_tourney(sub, mode = \"sub\")\n",
    "    dtest = xgb.DMatrix(sub_X)\n",
    "elif PREDICT_YEAR==2025:\n",
    "    sub = pd.read_csv(os.path.join(INPUT_PATH, \"SampleSubmissionStage2.csv\"))\n",
    "    sub['Season'] = sub['ID'].apply(lambda x: int(x.split('_')[0]))\n",
    "    sub[\"T1_TeamID\"] = sub['ID'].apply(lambda x: int(x.split('_')[1]))\n",
    "    sub[\"T2_TeamID\"] = sub['ID'].apply(lambda x: int(x.split('_')[2]))   \n",
    "    sub_X, a = process_tourney(sub, mode = \"sub\")\n",
    "    dtest = xgb.DMatrix(sub_X)\"\"\"\n",
    "    "
   ]
  },
  {
   "cell_type": "code",
   "execution_count": 29,
   "id": "df42e490",
   "metadata": {
    "execution": {
     "iopub.execute_input": "2025-03-14T17:05:59.180183Z",
     "iopub.status.busy": "2025-03-14T17:05:59.180183Z",
     "iopub.status.idle": "2025-03-14T17:05:59.202417Z",
     "shell.execute_reply": "2025-03-14T17:05:59.202417Z"
    },
    "papermill": {
     "duration": 0.041753,
     "end_time": "2025-03-14T17:05:59.204422",
     "exception": false,
     "start_time": "2025-03-14T17:05:59.162669",
     "status": "completed"
    },
    "tags": []
   },
   "outputs": [
    {
     "name": "stdout",
     "output_type": "stream",
     "text": [
      "no fillna, use nan\n",
      "drop col list: ['T1_TOmean', 'T2_TOmean', 'T1_opponent_POSS_RATEmean', 'T2_opponent_POSS_RATEmean', 'T1_opponent_Astmean', 'T2_opponent_Astmean', 'T1_opponent_FT_RATEmean', 'T2_opponent_FT_RATEmean', 'T1_opponent_Stlmean', 'T2_opponent_Stlmean', 'T1_ORmean', 'T2_ORmean', 'T1_opponent_ORmean', 'T2_opponent_ORmean', 'T1_TeamID']\n"
     ]
    }
   ],
   "source": [
    "sub = notexist.copy()\n",
    "sub = sub.rename(columns={\"WTeamID\": \"T1_TeamID\", \"LTeamID\": \"T2_TeamID\"})\n",
    "sub = sub[[\"Season\", \"T1_TeamID\", \"T2_TeamID\"]]\n",
    "temp = sub.copy()\n",
    "temp = temp.rename(columns={\"T1_TeamID\": \"T2_TeamID\", \"T2_TeamID\": \"T1_TeamID\"})\n",
    "sub = pd.concat([sub, temp]).reset_index()\n",
    "sub_X, a = process_tourney(sub, mode=\"sub\")\n",
    "sub_X = drop_columns(sub_X, drop_col)\n",
    "dtest = xgb.DMatrix(sub_X)"
   ]
  },
  {
   "cell_type": "code",
   "execution_count": 30,
   "id": "f508b813",
   "metadata": {
    "execution": {
     "iopub.execute_input": "2025-03-14T17:05:59.252010Z",
     "iopub.status.busy": "2025-03-14T17:05:59.249679Z",
     "iopub.status.idle": "2025-03-14T17:06:47.018240Z",
     "shell.execute_reply": "2025-03-14T17:06:47.018240Z"
    },
    "papermill": {
     "duration": 47.794307,
     "end_time": "2025-03-14T17:06:47.020244",
     "exception": false,
     "start_time": "2025-03-14T17:05:59.225937",
     "status": "completed"
    },
    "tags": []
   },
   "outputs": [
    {
     "name": "stderr",
     "output_type": "stream",
     "text": [
      "\r",
      "  0%|                                                                                                                                                            | 0/10 [00:00<?, ?it/s]"
     ]
    },
    {
     "name": "stderr",
     "output_type": "stream",
     "text": [
      "\r",
      " 10%|██████████████▊                                                                                                                                     | 1/10 [00:04<00:39,  4.36s/it]"
     ]
    },
    {
     "name": "stderr",
     "output_type": "stream",
     "text": [
      "\r",
      " 20%|█████████████████████████████▌                                                                                                                      | 2/10 [00:08<00:34,  4.35s/it]"
     ]
    },
    {
     "name": "stderr",
     "output_type": "stream",
     "text": [
      "\r",
      " 30%|████████████████████████████████████████████▍                                                                                                       | 3/10 [00:13<00:31,  4.50s/it]"
     ]
    },
    {
     "name": "stderr",
     "output_type": "stream",
     "text": [
      "\r",
      " 40%|███████████████████████████████████████████████████████████▏                                                                                        | 4/10 [00:18<00:28,  4.82s/it]"
     ]
    },
    {
     "name": "stderr",
     "output_type": "stream",
     "text": [
      "\r",
      " 50%|██████████████████████████████████████████████████████████████████████████                                                                          | 5/10 [00:23<00:24,  4.82s/it]"
     ]
    },
    {
     "name": "stderr",
     "output_type": "stream",
     "text": [
      "\r",
      " 60%|████████████████████████████████████████████████████████████████████████████████████████▊                                                           | 6/10 [00:28<00:19,  4.85s/it]"
     ]
    },
    {
     "name": "stderr",
     "output_type": "stream",
     "text": [
      "\r",
      " 70%|███████████████████████████████████████████████████████████████████████████████████████████████████████▌                                            | 7/10 [00:33<00:14,  4.84s/it]"
     ]
    },
    {
     "name": "stderr",
     "output_type": "stream",
     "text": [
      "\r",
      " 80%|██████████████████████████████████████████████████████████████████████████████████████████████████████████████████████▍                             | 8/10 [00:37<00:09,  4.66s/it]"
     ]
    },
    {
     "name": "stderr",
     "output_type": "stream",
     "text": [
      "\r",
      " 90%|█████████████████████████████████████████████████████████████████████████████████████████████████████████████████████████████████████▏              | 9/10 [00:42<00:04,  4.70s/it]"
     ]
    },
    {
     "name": "stderr",
     "output_type": "stream",
     "text": [
      "\r",
      "100%|███████████████████████████████████████████████████████████████████████████████████████████████████████████████████████████████████████████████████| 10/10 [00:47<00:00,  4.94s/it]"
     ]
    },
    {
     "name": "stderr",
     "output_type": "stream",
     "text": [
      "\r",
      "100%|███████████████████████████████████████████████████████████████████████████████████████████████████████████████████████████████████████████████████| 10/10 [00:47<00:00,  4.78s/it]"
     ]
    },
    {
     "name": "stderr",
     "output_type": "stream",
     "text": [
      "\n"
     ]
    }
   ],
   "source": [
    "sub_models = []\n",
    "#sokutionではカスタム関数の指定、早期停止の言及がここではなかった。検討する\n",
    "for i in tqdm(range(repeat_cv), leave=True, dynamic_ncols=True):\n",
    "    sub_models.append(\n",
    "        xgb.train(\n",
    "          params = param,\n",
    "          dtrain = dtrain,\n",
    "          obj=cauchyobj,\n",
    "          num_boost_round = int(iteration_counts[i] * 1.05),\n",
    "          #early_stopping_rounds=early_stopping_rounds, #これ指定してない、指定するのかあと、指定するとしても少し遅くさせるとか\n",
    "          verbose_eval = 50\n",
    "        )\n",
    "    )"
   ]
  },
  {
   "cell_type": "markdown",
   "id": "e481be5c",
   "metadata": {
    "papermill": {
     "duration": 0.024202,
     "end_time": "2025-03-14T17:06:47.071344",
     "exception": false,
     "start_time": "2025-03-14T17:06:47.047142",
     "status": "completed"
    },
    "tags": []
   },
   "source": [
    "各特徴量の寄与度を算出"
   ]
  },
  {
   "cell_type": "code",
   "execution_count": 31,
   "id": "20402829",
   "metadata": {
    "execution": {
     "iopub.execute_input": "2025-03-14T17:06:47.109802Z",
     "iopub.status.busy": "2025-03-14T17:06:47.109802Z",
     "iopub.status.idle": "2025-03-14T17:06:47.572444Z",
     "shell.execute_reply": "2025-03-14T17:06:47.572444Z"
    },
    "papermill": {
     "duration": 0.480315,
     "end_time": "2025-03-14T17:06:47.574450",
     "exception": false,
     "start_time": "2025-03-14T17:06:47.094135",
     "status": "completed"
    },
    "tags": []
   },
   "outputs": [
    {
     "data": {
      "image/png": "[encoded data removed]",
      "text/plain": [
       "<Figure size 1000x600 with 1 Axes>"
      ]
     },
     "metadata": {},
     "output_type": "display_data"
    }
   ],
   "source": [
    "feature_importances = collections.defaultdict(list)\n",
    "for model in sub_models:\n",
    "    importance = model.get_score(importance_type='gain')\n",
    "    for feat, score in importance.items():\n",
    "        feature_importances[feat].append(score)\n",
    "\n",
    "avg_importance = {feat: sum(scores) / len(scores) for feat, scores in feature_importances.items()}\n",
    "fi_df = pd.DataFrame(list(avg_importance.items()), columns=['Feature', 'Avg_Gain'])\n",
    "fi_df.sort_values(by='Avg_Gain', ascending=False, inplace=True)\n",
    "results.append(\"\")\n",
    "fi_log = \"-----Feature Importance (Average Gain)-----\\n\"\n",
    "for feat, score in fi_df.values:\n",
    "    fi_log += f\"{feat}: {score:.4f}\\n\"\n",
    "results.append(fi_log)\n",
    "results.append(\"\")\n",
    "\n",
    "plt.figure(figsize=(10, 6))\n",
    "plt.bar(fi_df['Feature'], fi_df['Avg_Gain'])\n",
    "plt.xlabel('Feature')\n",
    "plt.ylabel('Average Gain')\n",
    "plt.title('Feature Importance (Average Gain)')\n",
    "plt.xticks(rotation=45)\n",
    "plt.tight_layout() \n",
    "\n",
    "plt.savefig(os.path.join(OUTPUT_PATH, f\"feature_importance_{PREDICT_YEAR}.png\"))\n",
    "plt.show()"
   ]
  },
  {
   "cell_type": "code",
   "execution_count": 32,
   "id": "a55a655d",
   "metadata": {
    "execution": {
     "iopub.execute_input": "2025-03-14T17:06:47.611904Z",
     "iopub.status.busy": "2025-03-14T17:06:47.611904Z",
     "iopub.status.idle": "2025-03-14T17:06:47.676796Z",
     "shell.execute_reply": "2025-03-14T17:06:47.676796Z"
    },
    "papermill": {
     "duration": 0.087576,
     "end_time": "2025-03-14T17:06:47.678800",
     "exception": false,
     "start_time": "2025-03-14T17:06:47.591224",
     "status": "completed"
    },
    "tags": []
   },
   "outputs": [
    {
     "name": "stderr",
     "output_type": "stream",
     "text": [
      "\r",
      "  0%|                                                                                                                                                            | 0/10 [00:00<?, ?it/s]"
     ]
    },
    {
     "name": "stderr",
     "output_type": "stream",
     "text": [
      "\r",
      "100%|██████████████████████████████████████████████████████████████████████████████████████████████████████████████████████████████████████████████████| 10/10 [00:00<00:00, 171.48it/s]"
     ]
    },
    {
     "name": "stderr",
     "output_type": "stream",
     "text": [
      "\n"
     ]
    }
   ],
   "source": [
    "sub_preds = []\n",
    "for i in tqdm(range(repeat_cv)):\n",
    "    if spline == \"spline_normal\":\n",
    "        sub_preds.append(np.clip(spline_model[i](np.clip(sub_models[i].predict(dtest), -30, 30)), 0.025, 0.975))\n",
    "    \n",
    "    elif spline == \"logistic\":\n",
    "        X_input = np.clip(sub_models[i].predict(dtest), -30, 30).reshape(-1, 1)\n",
    "        platt_pred = spline_model[i].predict_proba(X_input)[:, 1]\n",
    "        sub_preds.append(np.clip(platt_pred, 0.025, 0.975))\n",
    "\n",
    "    elif spline == \"isotonic\":\n",
    "        X_input = np.clip(sub_models[i].predict(dtest), -30, 30).reshape(-1, 1)\n",
    "        iso_pred = spline_model[i].predict(X_input)  # Isotonic Regression の適用\n",
    "        sub_preds.append(np.clip(iso_pred, 0.025, 0.975))\n",
    "\n",
    "sub[\"Pred\"] = np.mean(np.vstack(sub_preds), axis=0)"
   ]
  },
  {
   "cell_type": "code",
   "execution_count": 33,
   "id": "c749a365",
   "metadata": {
    "execution": {
     "iopub.execute_input": "2025-03-14T17:06:47.738901Z",
     "iopub.status.busy": "2025-03-14T17:06:47.737134Z",
     "iopub.status.idle": "2025-03-14T17:06:47.747989Z",
     "shell.execute_reply": "2025-03-14T17:06:47.747989Z"
    },
    "papermill": {
     "duration": 0.040141,
     "end_time": "2025-03-14T17:06:47.747989",
     "exception": false,
     "start_time": "2025-03-14T17:06:47.707848",
     "status": "completed"
    },
    "tags": []
   },
   "outputs": [
    {
     "name": "stdout",
     "output_type": "stream",
     "text": [
      "skip data flip\n"
     ]
    }
   ],
   "source": [
    "# 予測時にテストデータID反転させて予測して平均取る\n",
    "# dtestの用意とsub_predsの算出を同じようにやる\n",
    "# sub[\"Pred\"]を反転させたやつとの平均取ったやつにする\n",
    "TEST_REVERSE = MODEL.test_reverse\n",
    "\n",
    "if TEST_REVERSE:\n",
    "    print(\"----- data flip -----\") \n",
    "    sub_reverse = notexist.copy()\n",
    "    sub_reverse = sub_reverse.rename(columns={\"WTeamID\": \"T2_TeamID\", \"LTeamID\": \"T1_TeamID\"})#reverse!!\n",
    "    temp_reverse = sub_reverse.copy()\n",
    "    temp = temp.rename(columns={\"T1_TeamID\": \"T2_TeamID\", \"T2_TeamID\": \"T1_TeamID\"})\n",
    "    sub_reverse = pd.concat([sub_reverse, temp_reverse]).reset_index()\n",
    "    sub_reverse_X, a = process_tourney(sub_reverse, mode=\"sub\")\n",
    "    sub_reverse_X = drop_columns(sub_reverse_X, drop_col)\n",
    "    dtest_reverse = xgb.DMatrix(sub_reverse_X)\n",
    "    \n",
    "    sub_preds_reverse = []\n",
    "    for i in tqdm(range(repeat_cv)):\n",
    "        if spline == \"spline_normal\":\n",
    "            sub_preds_reverse.append(np.clip(spline_model[i](np.clip(sub_models[i].predict(dtest_reverse), -30, 30)), 0.025, 0.975))\n",
    "        \n",
    "        elif spline == \"logistic\":\n",
    "            X_input = np.clip(sub_models[i].predict(dtest_reverse), -30, 30).reshape(-1, 1)\n",
    "            platt_pred = spline_model[i].predict_proba(X_input)[:, 1]\n",
    "            sub_preds_reverse.append(np.clip(platt_pred, 0.025, 0.975))\n",
    "\n",
    "        elif spline == \"isotonic\":\n",
    "            X_input = np.clip(sub_models[i].predict(dtest_reverse), -30, 30).reshape(-1, 1)\n",
    "            iso_pred = spline_model[i].predict(X_input)  # Isotonic Regression の適用\n",
    "            sub_preds_reverse.append(np.clip(iso_pred, 0.025, 0.975))\n",
    "\n",
    "    sub_reverse[\"Pred\"] = np.mean(np.vstack(sub_preds_reverse), axis=0)\n",
    "    \n",
    " \n",
    "    #sub[\"Pred\"]を (sub[\"Pred\"] + (1-sub_reverse[\"Pred\"]))/2に塗り替える(平均取る)\n",
    "    sub[\"Pred\"] = (sub[\"Pred\"] + (1-sub_reverse[\"Pred\"]))/2\n",
    "\n",
    "\n",
    "else:\n",
    "    print(\"skip data flip\")"
   ]
  },
  {
   "cell_type": "code",
   "execution_count": 34,
   "id": "b69221af",
   "metadata": {
    "execution": {
     "iopub.execute_input": "2025-03-14T17:06:47.797847Z",
     "iopub.status.busy": "2025-03-14T17:06:47.797847Z",
     "iopub.status.idle": "2025-03-14T17:06:47.805153Z",
     "shell.execute_reply": "2025-03-14T17:06:47.805153Z"
    },
    "papermill": {
     "duration": 0.026167,
     "end_time": "2025-03-14T17:06:47.805153",
     "exception": false,
     "start_time": "2025-03-14T17:06:47.778986",
     "status": "completed"
    },
    "tags": []
   },
   "outputs": [],
   "source": [
    "# teams:64team, targetを受け取って、そのtarget teamの試合可能性のある全63試合を抽出する関数\n",
    "def extract_target_team_records(submission_df, teams, target_team):\n",
    "    if target_team not in teams:\n",
    "        raise ValueError(f\"target_team {target_team} は teams 内に存在しません\")\n",
    "\n",
    "    remaining_teams = [t for t in teams if t != target_team]\n",
    "    \n",
    "    records = []\n",
    "    for other_team in remaining_teams:\n",
    "        lower = min(target_team, other_team)\n",
    "        higher = max(target_team, other_team)\n",
    "        row = submission_df[(submission_df['T1_TeamID'] == lower) & (submission_df['T2_TeamID'] == higher)]\n",
    "        if row.empty:\n",
    "            print(f\"Warning: 対戦 {lower} vs {higher} に対応するレコードが見つかりませんでした\")\n",
    "        else:\n",
    "            records.append(row)\n",
    "    \n",
    "    if records:\n",
    "        final_records = pd.concat(records, ignore_index=True)\n",
    "    else:\n",
    "        final_records = pd.DataFrame()\n",
    "    \n",
    "    if len(final_records) != 63:\n",
    "        print(f\"Warning: 期待される63件ではなく、{len(final_records)}件のレコードが抽出されました。\")\n",
    "    \n",
    "    return final_records\n"
   ]
  },
  {
   "cell_type": "code",
   "execution_count": 35,
   "id": "7366b9b5",
   "metadata": {
    "execution": {
     "iopub.execute_input": "2025-03-14T17:06:47.845203Z",
     "iopub.status.busy": "2025-03-14T17:06:47.845203Z",
     "iopub.status.idle": "2025-03-14T17:06:47.849987Z",
     "shell.execute_reply": "2025-03-14T17:06:47.849987Z"
    },
    "papermill": {
     "duration": 0.02431,
     "end_time": "2025-03-14T17:06:47.849987",
     "exception": false,
     "start_time": "2025-03-14T17:06:47.825677",
     "status": "completed"
    },
    "tags": []
   },
   "outputs": [],
   "source": [
    "tourney_teams_2023 = [\n",
    "    1395, 1113,   # TCU1395, アリゾナ・ステイト1113\n",
    "    1231, 1245,   # インディアナ1231, ケント・ステイト1245\n",
    "    1243, 1286,   # カンザス・ステイト1243, モンタナ・ステイト1286\n",
    "    1272, 1194,   # メンフィス1272, ﾌﾛﾘﾀﾞ･ｱﾄﾗﾝﾃｨｯｸ1194\n",
    "    1211, 1213,   # ゴンザガ1211, グランド・キャニオン1213\n",
    "    1274, 1179,   # マイアミ（フロリダ）1274, ドレイク1179\n",
    "    1243, 1286,   # ケンタッキー1243, プロビデンス1286\n",
    "    1345, 1192,   # パデュー1345, ﾌｪｱﾘｰ･ﾃﾞｨｷﾝｿﾝ1192\n",
    "    1163, 1233,   # コネチカット1163, アイオナ1233\n",
    "    1166, 1301,   # クレイトン1166, ﾉｰｽｶﾛﾗｲﾅ･ｽﾃｲﾄ1301\n",
    "    1235, 1338,   # アイオワ・ステイト1235, ピッツバーグ1338\n",
    "    1266, 1436,   # マーケット1266, バーモント1436\n",
    "    1388, 1433,   # ｾﾝﾄﾒｱﾘｰｽﾞ（ｶﾘﾌｫﾙﾆｱ）1388, VCU1433\n",
    "    1124, 1364,   # ベイラー1124, UCサンタバーバラ1364\n",
    "    1462, 1244,   # ザビエル1462, ケネソー・ステイト1244\n",
    "    1277, 1425,   # ミシガン・ステイト1277, USC トロージャンズ1425\n",
    "\n",
    "    1417, 1421,   # UCLA1417, UNC アシュビル1421\n",
    "    1401, 1336,   # テキサス A＆M1401, ﾍﾟﾝｼﾞﾙﾍﾞﾆｱ･ｽﾃｲﾄ1336\n",
    "    1397, 1418,   # テネシー1397, ﾙｲｼﾞｱﾅ･ﾗﾌｧｲｴｯﾄ1418\n",
    "    1222, 1297,   # ヒューストン1222, ノーザンケンタッキー1297\n",
    "    1321, 1129,   # ノースウェスタン1321, ボイシ・ステイト1129\n",
    "    1400, 1159,   # テキサス1400, コルゲート1159\n",
    "    1181, 1331,   # デューク1181, オーラル・ロバーツ1331\n",
    "    1234, 1120,   # アイオワ1234, オーバーン1120\n",
    "    1116, 1228,   # アーカンソー1116, イリノイ1228\n",
    "    1112, 1343,   # アリゾナ1112, プリンストン1343\n",
    "    1361, 1158,   # ｻﾝﾃﾞｴｺﾞ･ｽﾃｲﾄ1361, チャールストン1158\n",
    "    1104, 1394,   # アラバマ1104, テキサス A＆M CC1394\n",
    "    1242, 1224,   # カンザス1242, ハワード1224\n",
    "    1281, 1429,   # ミズーリ1281, ユタ・ステイト1429\n",
    "    1438, 1202,   # バージニア1438, ファーマン1202\n",
    "    1268, 1452    # メリーランド1268, ウェストバージニア1452\n",
    "]\n",
    "\n",
    "#Connecticut_vs = extract_target_team_records(sub, tourney_teams_2023, 1163 )"
   ]
  },
  {
   "cell_type": "code",
   "execution_count": 36,
   "id": "04c7035b",
   "metadata": {
    "execution": {
     "iopub.execute_input": "2025-03-14T17:06:47.888252Z",
     "iopub.status.busy": "2025-03-14T17:06:47.888252Z",
     "iopub.status.idle": "2025-03-14T17:06:47.895210Z",
     "shell.execute_reply": "2025-03-14T17:06:47.895210Z"
    },
    "papermill": {
     "duration": 0.026483,
     "end_time": "2025-03-14T17:06:47.895210",
     "exception": false,
     "start_time": "2025-03-14T17:06:47.868727",
     "status": "completed"
    },
    "tags": []
   },
   "outputs": [],
   "source": [
    "#handlabelingを行う関数\n",
    "def make_handlabeling(df, season, T1, T2, labeling_pred, tourney_teams):\n",
    "    if T1 not in tourney_teams or T2 not in tourney_teams: \n",
    "        print(f\"トーナメント対象チームに属していません\")\n",
    "        return \n",
    "    \n",
    "    if T1>T2: \n",
    "        T1, T2 = T2, T1\n",
    "        print(f\"{T1}, {T2}ID逆だけど大丈夫？？\")\n",
    "    id = f\"{season}_{T1}_{T2}\"\n",
    "\n",
    "    print(f\"before: {df[df['ID']==id]}\")\n",
    "    df.loc[df[\"ID\"] == id, \"Pred\"] = labeling_pred\n",
    "    print(f\"after: {df[df['ID']==id]}\")\n",
    "    \n",
    "    results.append(f\"-----handolabeling-----\")\n",
    "    results.append(f\"before:  {df[df['ID']==id]} -----> after: {df[df['ID']==id]}\")\n",
    "    results.appedn(\"\")\n",
    "    return df"
   ]
  },
  {
   "cell_type": "code",
   "execution_count": 37,
   "id": "f30a5de2",
   "metadata": {
    "execution": {
     "iopub.execute_input": "2025-03-14T17:06:47.922746Z",
     "iopub.status.busy": "2025-03-14T17:06:47.922746Z",
     "iopub.status.idle": "2025-03-14T17:06:47.942403Z",
     "shell.execute_reply": "2025-03-14T17:06:47.941916Z"
    },
    "papermill": {
     "duration": 0.027594,
     "end_time": "2025-03-14T17:06:47.944411",
     "exception": false,
     "start_time": "2025-03-14T17:06:47.916817",
     "status": "completed"
    },
    "tags": []
   },
   "outputs": [],
   "source": [
    "labeling = cfg.exp.hand_labeling\n",
    "if labeling is not None:\n",
    "    for i in range(len(labeling)):\n",
    "        T1 = labeling[i][0]\n",
    "        T2 = labeling[i][1]\n",
    "        labeling_pred = labeling[i][2]\n",
    "        \n",
    "        print(f\"{T1} vs {T2} result labeling {labeling_pred}\")\n",
    "        \n",
    "        sub = make_handlabeling(sub, PREDICT_YEAR, T1, T2, labeling_pred, tourney_teams_2023)"
   ]
  },
  {
   "cell_type": "code",
   "execution_count": 38,
   "id": "1aa9f1c1",
   "metadata": {
    "execution": {
     "iopub.execute_input": "2025-03-14T17:06:47.976396Z",
     "iopub.status.busy": "2025-03-14T17:06:47.976396Z",
     "iopub.status.idle": "2025-03-14T17:06:48.182313Z",
     "shell.execute_reply": "2025-03-14T17:06:48.182313Z"
    },
    "papermill": {
     "duration": 0.222926,
     "end_time": "2025-03-14T17:06:48.183318",
     "exception": false,
     "start_time": "2025-03-14T17:06:47.960392",
     "status": "completed"
    },
    "tags": []
   },
   "outputs": [
    {
     "name": "stdout",
     "output_type": "stream",
     "text": [
      "Tournament matchups only - Pred Mean: 0.4993666486793365\n"
     ]
    },
    {
     "data": {
      "image/png": "[encoded data removed]",
      "text/plain": [
       "<Figure size 640x480 with 1 Axes>"
      ]
     },
     "metadata": {},
     "output_type": "display_data"
    }
   ],
   "source": [
    "tourney_filtered = notexist[notexist[\"Season\"] == PREDICT_YEAR].copy()\n",
    "a = tourney_filtered.rename(columns={'WTeamID': 'T1_TeamID', 'LTeamID': 'T2_TeamID'})\n",
    "b = tourney_filtered.rename(columns={'WTeamID': 'T2_TeamID', 'LTeamID': 'T1_TeamID'})\n",
    "ab = pd.concat([a, b]).reset_index(drop=True) \n",
    "filtered_sub = sub.merge(ab[['Season', 'T1_TeamID', 'T2_TeamID']], \n",
    "                         on=['Season', 'T1_TeamID', 'T2_TeamID'], \n",
    "                         how='inner')\n",
    "\n",
    "filtered_sub[\"Pred\"].astype(int)\n",
    "pred_mean = filtered_sub[\"Pred\"].mean()\n",
    "print(\"Tournament matchups only - Pred Mean:\", pred_mean)\n",
    "\n",
    "filtered_sub[\"Pred\"].hist(bins=50)\n",
    "results+=[\"\", f\"Tournament matchups only - Pred Mean:, {pred_mean}\", \"\"]\n",
    "plt.figure(figsize=(8, 6))\n",
    "filtered_sub[\"Pred\"].hist(bins=50)\n",
    "plt.title(\"Prediction Histogram\")\n",
    "plt.xlabel(\"Pred\")\n",
    "plt.ylabel(\"Frequency\")\n",
    "plt.grid(True)\n",
    "\n",
    "# 画像として保存\n",
    "plt.savefig(os.path.join(OUTPUT_PATH, f\"Prediction_Histgram_filtered_{PREDICT_YEAR}.png\"))\n",
    "plt.close()"
   ]
  },
  {
   "cell_type": "markdown",
   "id": "a7342e20",
   "metadata": {
    "papermill": {
     "duration": 0.022079,
     "end_time": "2025-03-14T17:06:48.221154",
     "exception": false,
     "start_time": "2025-03-14T17:06:48.199075",
     "status": "completed"
    },
    "tags": []
   },
   "source": [
    "# スコア算出、まとめ、\n",
    "ここまでで提出ファイル作成。ここからは過去年度のシミュレーションに対してBrier scoreやその他指標の算出"
   ]
  },
  {
   "cell_type": "code",
   "execution_count": 39,
   "id": "306a46c7",
   "metadata": {
    "execution": {
     "iopub.execute_input": "2025-03-14T17:06:48.253075Z",
     "iopub.status.busy": "2025-03-14T17:06:48.253075Z",
     "iopub.status.idle": "2025-03-14T17:06:48.507889Z",
     "shell.execute_reply": "2025-03-14T17:06:48.507889Z"
    },
    "papermill": {
     "duration": 0.270791,
     "end_time": "2025-03-14T17:06:48.507889",
     "exception": false,
     "start_time": "2025-03-14T17:06:48.237098",
     "status": "completed"
    },
    "tags": []
   },
   "outputs": [
    {
     "data": {
      "image/png": "[encoded data removed]",
      "text/plain": [
       "<Figure size 640x480 with 1 Axes>"
      ]
     },
     "metadata": {},
     "output_type": "display_data"
    }
   ],
   "source": [
    "sub[\"Pred\"].hist()\n",
    "results+=[\"\", f\"Pred mean: {sub['Pred'].mean()}\", \"\"]\n",
    "\n",
    "plt.figure(figsize=(8, 6))\n",
    "sub[\"Pred\"].hist(bins=50)\n",
    "plt.title(\"Prediction Histogram\")\n",
    "plt.xlabel(\"Pred\")\n",
    "plt.ylabel(\"Frequency\")\n",
    "plt.grid(True)\n",
    "\n",
    "# 画像として保存\n",
    "plt.savefig(os.path.join(OUTPUT_PATH, f\"Prediction_Histgram_{PREDICT_YEAR}.png\"))\n",
    "plt.close()"
   ]
  },
  {
   "cell_type": "markdown",
   "id": "e793d113",
   "metadata": {
    "papermill": {
     "duration": 0.022218,
     "end_time": "2025-03-14T17:06:48.545561",
     "exception": false,
     "start_time": "2025-03-14T17:06:48.523343",
     "status": "completed"
    },
    "tags": []
   },
   "source": [
    "存在するはずのない予測年度のトーナメント結果をもとに(Pred, label)を取り出し、以下を行う。\n",
    "\n",
    "- 各評価指標の計算\n",
    "- キャリブレーション可視化\n",
    "- AUC可視化"
   ]
  },
  {
   "cell_type": "code",
   "execution_count": 40,
   "id": "30ec8539",
   "metadata": {
    "execution": {
     "iopub.execute_input": "2025-03-14T17:06:48.577528Z",
     "iopub.status.busy": "2025-03-14T17:06:48.577528Z",
     "iopub.status.idle": "2025-03-14T17:06:48.591399Z",
     "shell.execute_reply": "2025-03-14T17:06:48.591399Z"
    },
    "papermill": {
     "duration": 0.029755,
     "end_time": "2025-03-14T17:06:48.591399",
     "exception": false,
     "start_time": "2025-03-14T17:06:48.561644",
     "status": "completed"
    },
    "tags": []
   },
   "outputs": [],
   "source": [
    "def extract_labels_and_preds(sub, tourney):\n",
    "    \"\"\" 試合データから予測値 (Pred) と正解ラベル (label) を抽出する \"\"\"\n",
    "    label_data = tourney[[\"WTeamID\", \"LTeamID\", \"WScore\", \"LScore\"]]\n",
    "    label_data = label_data.rename(columns={\"WTeamID\": \"T1_TeamID\", \"LTeamID\": \"T2_TeamID\", \"WScore\": \"T1_Score\", \"LScore\": \"T2_Score\"})\n",
    "    temp = label_data.copy()\n",
    "    temp = temp.rename(columns={\"T1_TeamID\": \"T2_TeamID\", \"T2_TeamID\": \"T1_TeamID\", \"T1_Score\": \"T2_Score\", \"T2_Score\": \"T1_Score\"})\n",
    "    label_data = pd.concat([label_data, temp]).reset_index(drop=True)\n",
    "    \n",
    "    label_data = pd.merge(label_data, sub, on=[\"T1_TeamID\", \"T2_TeamID\"], how=\"left\")\n",
    "    label_data[\"label\"] = np.where(label_data[\"T1_Score\"] - label_data[\"T2_Score\"] > 0, 1, 0)\n",
    "    label_data = label_data.dropna(subset=[\"Pred\"])  # 欠損値を削除\n",
    "    \n",
    "    return label_data[[\"label\", \"Pred\"]]\n",
    "\n",
    "def calculate_metrics(label_data):\n",
    "    \"\"\" 各評価指標を計算 \"\"\"\n",
    "    brier_score = round(mean_squared_error(label_data[\"label\"], label_data[\"Pred\"]), 5)  # Brier Score (MSEと同じ)\n",
    "    rmse_score = round(mean_squared_error(label_data[\"label\"], label_data[\"Pred\"], squared=False), 5)  # RMSE\n",
    "    logloss_score = round(log_loss(label_data[\"label\"], label_data[\"Pred\"]), 5)  # Log Loss\n",
    "    mae_score = round(mean_absolute_error(label_data[\"label\"], label_data[\"Pred\"]), 5)  # MAE\n",
    "    \n",
    "    return {\n",
    "        \"Brier Score\": brier_score,\n",
    "        \"RMSE\": rmse_score,\n",
    "        \"Log Loss\": logloss_score,\n",
    "        \"MAE\": mae_score\n",
    "    }\n",
    "\n",
    "def plot_calibration_curve(label_data, n_bins=10):\n",
    "    \"\"\" キャリブレーションカーブをプロット \"\"\"\n",
    "    prob_true, prob_pred = calibration_curve(label_data[\"label\"], label_data[\"Pred\"], n_bins=n_bins)\n",
    "    \n",
    "    plt.figure(figsize=(6,6))\n",
    "    plt.plot(prob_pred, prob_true, marker=\"o\", label=\"Model Calibration\")\n",
    "    plt.plot([0, 1], [0, 1], linestyle=\"--\", label=\"Perfect Calibration\")\n",
    "    plt.xlabel(\"Predicted Probability\")\n",
    "    plt.ylabel(\"Actual Probability\")\n",
    "    plt.legend()\n",
    "    plt.title(\"Calibration Curve\")\n",
    "    plt.show()\n",
    "\n",
    "def calculate_auc_metrics(label_data):\n",
    "    global results\n",
    "    \"\"\" AUC-ROCとAUC-PRを計算 \"\"\"\n",
    "    auc_roc = roc_auc_score(label_data[\"label\"], label_data[\"Pred\"])\n",
    "    auc_pr = average_precision_score(label_data[\"label\"], label_data[\"Pred\"])\n",
    "    \n",
    "    print(f\"AUC-ROC: {auc_roc:.4f}\")\n",
    "    print(f\"AUC-PR: {auc_pr:.4f}\")\n",
    "    results += [\"---- AUC -----\", f\"AUC-ROC: {auc_roc:.4f}\", f\"AUC-PR: {auc_pr:.4f}\"]\n",
    "    "
   ]
  },
  {
   "cell_type": "code",
   "execution_count": 41,
   "id": "ea501d0c",
   "metadata": {
    "execution": {
     "iopub.execute_input": "2025-03-14T17:06:48.625568Z",
     "iopub.status.busy": "2025-03-14T17:06:48.625568Z",
     "iopub.status.idle": "2025-03-14T17:06:48.718433Z",
     "shell.execute_reply": "2025-03-14T17:06:48.718433Z"
    },
    "papermill": {
     "duration": 0.108882,
     "end_time": "2025-03-14T17:06:48.718433",
     "exception": false,
     "start_time": "2025-03-14T17:06:48.609551",
     "status": "completed"
    },
    "tags": []
   },
   "outputs": [
    {
     "name": "stderr",
     "output_type": "stream",
     "text": [
      "C:\\Users\\81809\\anaconda3\\envs\\deep_learning_pytorch\\Lib\\site-packages\\sklearn\\metrics\\_regression.py:492: FutureWarning: 'squared' is deprecated in version 1.4 and will be removed in 1.6. To calculate the root mean squared error, use the function'root_mean_squared_error'.\n",
      "  warnings.warn(\n"
     ]
    },
    {
     "data": {
      "image/png": "[encoded data removed]",
      "text/plain": [
       "<Figure size 600x600 with 1 Axes>"
      ]
     },
     "metadata": {},
     "output_type": "display_data"
    },
    {
     "name": "stdout",
     "output_type": "stream",
     "text": [
      "AUC-ROC: 0.8563\n",
      "AUC-PR: 0.8681\n",
      "MAE: 0.31488\n",
      "\n",
      "---- AUC -----\n",
      "AUC-ROC: 0.8563\n",
      "AUC-PR: 0.8681\n"
     ]
    }
   ],
   "source": [
    "if PREDICT_YEAR == 2022:\n",
    "    notexist_MAN = notexist[notexist[\"WTeamID\"].astype(str).str.startswith(\"1\")]\n",
    "    notexist_WOMAN = notexist[notexist[\"WTeamID\"].astype(str).str.startswith(\"3\")]\n",
    "    label_data = extract_labels_and_preds(sub, notexist) ######\n",
    "else:\n",
    "    label_data = extract_labels_and_preds(sub, notexist)\n",
    "\n",
    "# 評価指標の計算\n",
    "score = calculate_metrics(label_data)\n",
    "results += [\"\",\"-----eval metrics-----\",\n",
    "            f\"Brier Score: {score['Brier Score']}\", \n",
    "            f\"RMSE: {score['RMSE']}\", \n",
    "            f\"Log Loss: {score['Log Loss']}\", \n",
    "            f\"MAE: {score['MAE']}\", \"\"]\n",
    "\n",
    "# キャリブレーションの確認\n",
    "plot_calibration_curve(label_data)\n",
    "\n",
    "# AUCの評価\n",
    "calculate_auc_metrics(label_data)\n",
    "\n",
    "for temp in range(-5, 0):\n",
    "    print(results[temp])"
   ]
  },
  {
   "cell_type": "code",
   "execution_count": 42,
   "id": "1faed460",
   "metadata": {
    "execution": {
     "iopub.execute_input": "2025-03-14T17:06:48.759411Z",
     "iopub.status.busy": "2025-03-14T17:06:48.759411Z",
     "iopub.status.idle": "2025-03-14T17:06:48.767766Z",
     "shell.execute_reply": "2025-03-14T17:06:48.767766Z"
    },
    "papermill": {
     "duration": 0.030611,
     "end_time": "2025-03-14T17:06:48.767766",
     "exception": false,
     "start_time": "2025-03-14T17:06:48.737155",
     "status": "completed"
    },
    "tags": []
   },
   "outputs": [
    {
     "data": {
      "text/plain": [
       "'if PREDICT_YEAR!=2025:\\n    predict_year_label =notexist[[\"WTeamID\", \"LTeamID\", \"WScore\", \"LScore\"]].copy()\\n    predict_year_label.loc[:, \"Win\"] = np.where(predict_year_label[\"WScore\"] - predict_year_label[\"LScore\"] > 0, 1, 0)\\n    predict_year_label = predict_year_label[[\"WTeamID\", \"LTeamID\", \"Win\"]]\\n   \\n    predict_year_label.columns = [\"T1_TeamID\", \"T2_TeamID\", \"Win\"]\\n\\n    predict_year_label = pd.merge(predict_year_label, sub, on=[\"T1_TeamID\", \"T2_TeamID\"], how=\"left\")\\n    brier_score = np.mean((predict_year_label[\"Pred\"] - predict_year_label[\"Win\"])**2)\\n\\n    print(\"Brier Score:\", brier_score)\\n    results+=[f\"Brier Score: {brier_score}\", \"\"]\\n    predict_year_label.info()\\n'"
      ]
     },
     "execution_count": 42,
     "metadata": {},
     "output_type": "execute_result"
    }
   ],
   "source": [
    "\"\"\"if PREDICT_YEAR!=2025:\n",
    "    predict_year_label =notexist[[\"WTeamID\", \"LTeamID\", \"WScore\", \"LScore\"]].copy()\n",
    "    predict_year_label.loc[:, \"Win\"] = np.where(predict_year_label[\"WScore\"] - predict_year_label[\"LScore\"] > 0, 1, 0)\n",
    "    predict_year_label = predict_year_label[[\"WTeamID\", \"LTeamID\", \"Win\"]]\n",
    "   \n",
    "    predict_year_label.columns = [\"T1_TeamID\", \"T2_TeamID\", \"Win\"]\n",
    "\n",
    "    predict_year_label = pd.merge(predict_year_label, sub, on=[\"T1_TeamID\", \"T2_TeamID\"], how=\"left\")\n",
    "    brier_score = np.mean((predict_year_label[\"Pred\"] - predict_year_label[\"Win\"])**2)\n",
    "\n",
    "    print(\"Brier Score:\", brier_score)\n",
    "    results+=[f\"Brier Score: {brier_score}\", \"\"]\n",
    "    predict_year_label.info()\n",
    "\"\"\""
   ]
  },
  {
   "cell_type": "code",
   "execution_count": 43,
   "id": "e7aa9b49",
   "metadata": {
    "execution": {
     "iopub.execute_input": "2025-03-14T17:06:48.806922Z",
     "iopub.status.busy": "2025-03-14T17:06:48.806922Z",
     "iopub.status.idle": "2025-03-14T17:06:48.814066Z",
     "shell.execute_reply": "2025-03-14T17:06:48.814066Z"
    },
    "papermill": {
     "duration": 0.039007,
     "end_time": "2025-03-14T17:06:48.814066",
     "exception": false,
     "start_time": "2025-03-14T17:06:48.775059",
     "status": "completed"
    },
    "tags": []
   },
   "outputs": [
    {
     "name": "stdout",
     "output_type": "stream",
     "text": [
      "実行時間： 489.5秒\n"
     ]
    }
   ],
   "source": [
    "END_TIME = time.time()\n",
    "ELAPSED_TIME = END_TIME - START_TIME\n",
    "print(f\"実行時間： {ELAPSED_TIME:.1f}秒\")\n",
    "results.append(f\"実行時間： {ELAPSED_TIME:.1f}秒\")\n",
    "\n",
    "with open(os.path.join(OUTPUT_PATH, \"result.txt\"), \"a\", encoding=\"utf-8\") as f:\n",
    "    for line in results:\n",
    "        f.write(line + \"\\n\")"
   ]
  },
  {
   "cell_type": "code",
   "execution_count": 44,
   "id": "8d2d202d",
   "metadata": {
    "execution": {
     "iopub.execute_input": "2025-03-14T17:06:48.860956Z",
     "iopub.status.busy": "2025-03-14T17:06:48.860956Z",
     "iopub.status.idle": "2025-03-14T17:06:48.864317Z",
     "shell.execute_reply": "2025-03-14T17:06:48.864317Z"
    },
    "papermill": {
     "duration": 0.024985,
     "end_time": "2025-03-14T17:06:48.864317",
     "exception": false,
     "start_time": "2025-03-14T17:06:48.839332",
     "status": "completed"
    },
    "tags": []
   },
   "outputs": [],
   "source": [
    "logger.remove()"
   ]
  }
 ],
 "metadata": {
  "kernelspec": {
   "display_name": "deep_learning_pytorch",
   "language": "python",
   "name": "python3"
  },
  "language_info": {
   "codemirror_mode": {
    "name": "ipython",
    "version": 3
   },
   "file_extension": ".py",
   "mimetype": "text/x-python",
   "name": "python",
   "nbconvert_exporter": "python",
   "pygments_lexer": "ipython3",
   "version": "3.11.9"
  },
  "papermill": {
   "default_parameters": {},
   "duration": 493.588541,
   "end_time": "2025-03-14T17:06:49.456403",
   "environment_variables": {},
   "exception": null,
   "input_path": "c:\\Users\\81809\\Documents\\ALL_CODE\\kaggle\\March Machine Learning Mania 2025\\notebook\\1stplace_solution_2023.ipynb",
   "output_path": "exp111_20250315_015835.ipynb",
   "parameters": {
    "EXP_NUM": "exp111"
   },
   "start_time": "2025-03-14T16:58:35.867862",
   "version": "2.6.0"
  }
 },
 "nbformat": 4,
 "nbformat_minor": 5
}