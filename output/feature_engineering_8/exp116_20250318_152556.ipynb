{
 "cells": [
  {
   "cell_type": "code",
   "execution_count": 1,
   "id": "c1b1eab6",
   "metadata": {
    "execution": {
     "iopub.execute_input": "2025-03-18T06:25:58.701032Z",
     "iopub.status.busy": "2025-03-18T06:25:58.699931Z",
     "iopub.status.idle": "2025-03-18T06:25:58.705969Z",
     "shell.execute_reply": "2025-03-18T06:25:58.705969Z"
    },
    "papermill": {
     "duration": 0.017887,
     "end_time": "2025-03-18T06:25:58.707911",
     "exception": false,
     "start_time": "2025-03-18T06:25:58.690024",
     "status": "completed"
    },
    "tags": [
     "parameters"
    ]
   },
   "outputs": [],
   "source": [
    "# Parameters\n",
    "EXP_NUM = \"default\""
   ]
  },
  {
   "cell_type": "code",
   "execution_count": 2,
   "id": "6535b334",
   "metadata": {
    "execution": {
     "iopub.execute_input": "2025-03-18T06:25:58.710516Z",
     "iopub.status.busy": "2025-03-18T06:25:58.710516Z",
     "iopub.status.idle": "2025-03-18T06:25:58.723228Z",
     "shell.execute_reply": "2025-03-18T06:25:58.723228Z"
    },
    "papermill": {
     "duration": 0.01493,
     "end_time": "2025-03-18T06:25:58.725446",
     "exception": false,
     "start_time": "2025-03-18T06:25:58.710516",
     "status": "completed"
    },
    "tags": [
     "injected-parameters"
    ]
   },
   "outputs": [],
   "source": [
    "# Parameters\n",
    "EXP_NUM = \"exp116\"\n"
   ]
  },
  {
   "cell_type": "markdown",
   "id": "be0d79bf",
   "metadata": {
    "papermill": {
     "duration": 0.0,
     "end_time": "2025-03-18T06:25:58.729318",
     "exception": false,
     "start_time": "2025-03-18T06:25:58.729318",
     "status": "completed"
    },
    "tags": []
   },
   "source": [
    "# 2023 1st place solution\n",
    "[kaggle notebook](https://www.kaggle.com/code/rustyb/paris-madness-2023#Load-the-data!)"
   ]
  },
  {
   "cell_type": "markdown",
   "id": "ca04aa5f",
   "metadata": {
    "papermill": {
     "duration": 0.0,
     "end_time": "2025-03-18T06:25:58.742465",
     "exception": false,
     "start_time": "2025-03-18T06:25:58.742465",
     "status": "completed"
    },
    "tags": []
   },
   "source": [
    "# コードの流れ\n",
    "1. hydraからハイパラ取得し、パスなどを設定\n",
    "\n",
    "    regular&tourney Detaile Result, Seedを使用し、tourneyを目的変数としてモデルを予測していく\n",
    "\n",
    "    regular_data->season_statistics->\n",
    "\n",
    "    以下の前処理をする\n",
    "\n",
    "2. データ２倍にかさまし\n",
    "3. regularに対して特徴量の追加\n",
    "    各チームごとに加えるもの\n",
    "   - EFFG: フィールドゴール成功率\n",
    "   - EFFG3: フィールドゴール3p成功率\n",
    "   - DARE: フィールドゴールにおける3P率\n",
    "   - \"win\"を目的変数とする(Team, Season)のロジスティック回帰した各係数\n",
    "    対戦カードごとに加える特徴量\n",
    "    - PointDiff: ポイント差\n",
    "    - win: 1 if PointDiff>0 else 0\n",
    "4. (Team, Season)ごとに特徴量season_statixtics追加\n",
    "    - win_ratio_14d\n",
    "    - box score mean\n",
    "    - quality\n",
    "    - seed\n",
    "5. season_average.enabled=trueなら直近３シーズンの加重平均の処理加える\n",
    "6. tourneyをteamID, Season, score(y)のみ取り出してこれに対してseason_statisticsの結合と特徴量微調整\n",
    "   - seed->seeddiff\n",
    "   - fillna()\n",
    "\n",
    "7. モデル構築\n",
    "8. KFOLD->OOF予測->spline曲線求めてlogloss算出\n",
    "    - KFOLDによる交差検証（CV）\n",
    "        repeat_cv 回のループで、各反復ごとにKFold（folds_splits個）によりデータを分割し、XGBoostのCVを実行しています。\n",
    "        各foldでの結果（例えば、訓練MAE、検証MAEの平均値や標準偏差）がcv_resultとして得られ、それをxgb_cvリストに格納します。\n",
    "        この段階で重要なのは、各反復での検証用MAEの平均値 (test-mae-mean) の最小値と、そのときのブーストラウンド数です。\n",
    "        それらは後で、最適なイテレーション数 (iteration_counts) として計算され、val_mae にも格納されます。\n",
    "    - OOF予測の流れ\n",
    "\n",
    "        各反復ごとに、新たなKFoldを用いてデータを分割。\n",
    "        各foldごとに、学習データでモデルを訓練し、検証データに対して予測を実施。\n",
    "        すべてのfold分の予測結果を1つの予測配列にまとめ、最後に -30～30 の範囲にクリップしています。\n",
    "        重要な結果\n",
    "\n",
    "        OOF予測結果（oof_preds）自体は後段で別途評価指標に使用できるほか、各反復ごとの予測精度や誤差を算出する際の基礎データ\n",
    "9.  提出フェーズ\n",
    "    - 最適paramで全データ使って訓練\n",
    "    - 提出試合の予測"
   ]
  },
  {
   "cell_type": "markdown",
   "id": "0ca9e26b",
   "metadata": {
    "papermill": {
     "duration": 0.017279,
     "end_time": "2025-03-18T06:25:58.759744",
     "exception": false,
     "start_time": "2025-03-18T06:25:58.742465",
     "status": "completed"
    },
    "tags": []
   },
   "source": [
    "memo\n",
    "\n",
    "欠損値が発生していいのか検討して保管について考える\n",
    "seedがかけているのはregularに対してseedを与えているから大丈夫。最終的なtourneyには欠損０で追加できているから問題ない"
   ]
  },
  {
   "cell_type": "code",
   "execution_count": 3,
   "id": "b46e0c07",
   "metadata": {
    "execution": {
     "iopub.execute_input": "2025-03-18T06:25:58.772645Z",
     "iopub.status.busy": "2025-03-18T06:25:58.772645Z",
     "iopub.status.idle": "2025-03-18T06:26:01.099973Z",
     "shell.execute_reply": "2025-03-18T06:26:01.099973Z"
    },
    "papermill": {
     "duration": 2.334301,
     "end_time": "2025-03-18T06:26:01.099973",
     "exception": false,
     "start_time": "2025-03-18T06:25:58.765672",
     "status": "completed"
    },
    "tags": []
   },
   "outputs": [
    {
     "name": "stderr",
     "output_type": "stream",
     "text": [
      "C:\\Users\\81809\\anaconda3\\envs\\deep_learning_pytorch\\Lib\\site-packages\\tqdm\\auto.py:21: TqdmWarning: IProgress not found. Please update jupyter and ipywidgets. See https://ipywidgets.readthedocs.io/en/stable/user_install.html\n",
      "  from .autonotebook import tqdm as notebook_tqdm\n"
     ]
    },
    {
     "name": "stdout",
     "output_type": "stream",
     "text": [
      "exp116\n",
      "Omega conf is below\n",
      "dir:\n",
      "  input_dir: ../input\n",
      "  output_dir: ../output\n",
      "  src_path: ../src\n",
      "  conf_path: ../conf\n",
      "exp:\n",
      "  name: feature_engineering_8\n",
      "  print_name: 'best model (3/18): extract feature '\n",
      "  tournament:\n",
      "    use_start_season: 1985\n",
      "    target_season: 2019\n",
      "  features:\n",
      "    cal_mean_boxscore:\n",
      "      T1_Score: true\n",
      "      T2_Score: true\n",
      "      PointDiff: true\n",
      "      T1_FGA: true\n",
      "      T2_FGA: true\n",
      "      T1_FGA3: false\n",
      "      T2_FGA3: false\n",
      "      T1_FGM: true\n",
      "      T2_FGM: true\n",
      "      T1_FGM3: false\n",
      "      T2_FGM3: false\n",
      "      T1_FTM: false\n",
      "      T2_FTM: false\n",
      "      T1_FTA: false\n",
      "      T2_FTA: false\n",
      "      T1_EFFG: false\n",
      "      T2_EFFG: false\n",
      "      T1_EFFG3: false\n",
      "      T2_EFFG3: false\n",
      "      T1_EFG_SUM: true\n",
      "      T2_EFG_SUM: true\n",
      "      T1_TO_RATIO: true\n",
      "      T2_TO_RATIO: true\n",
      "      T1_OR: true\n",
      "      T2_OR: true\n",
      "      T1_DR: true\n",
      "      T2_DR: true\n",
      "      T1_REB_RATE: true\n",
      "      T2_REB_RATE: true\n",
      "      T1_FT_RATE: true\n",
      "      T2_FT_RATE: true\n",
      "      T1_RATING: false\n",
      "      T2_RATING: false\n",
      "      T1_POSS_RATE: true\n",
      "      T2_POSS_RATE: true\n",
      "      T1_Ast: true\n",
      "      T2_Ast: true\n",
      "      T1_TO: true\n",
      "      T2_TO: true\n",
      "      T1_Stl: true\n",
      "      T2_Stl: true\n",
      "      T1_Blk: true\n",
      "      T2_Blk: true\n",
      "      T1_PF: true\n",
      "      T2_PF: true\n",
      "      T1_DARE: false\n",
      "      T2_DARE: false\n",
      "      T1_TOQUETOQUE: false\n",
      "      T2_TOQUETOQUE: false\n",
      "    rank_diff: true\n",
      "    T1_FGAdiff: false\n",
      "    T2_FFGAdiff: false\n",
      "    start_quality_season: 2003\n",
      "    dropfeatures:\n",
      "    - T1_TOmean\n",
      "    - T2_TOmean\n",
      "    - T1_opponent_POSS_RATEmean\n",
      "    - T2_opponent_POSS_RATEmean\n",
      "    - T1_opponent_Astmean\n",
      "    - T2_opponent_Astmean\n",
      "    - T1_opponent_FT_RATEmean\n",
      "    - T2_opponent_FT_RATEmean\n",
      "    - T1_opponent_Stlmean\n",
      "    - T2_opponent_Stlmean\n",
      "    - T1_ORmean\n",
      "    - T2_ORmean\n",
      "    - T1_opponent_ORmean\n",
      "    - T2_opponent_ORmean\n",
      "    - T1_TeamID\n",
      "    - T2_TeamID\n",
      "    - Season\n",
      "    season_average:\n",
      "      enabled: false\n",
      "      past_years: 3\n",
      "      weights:\n",
      "      - 1\n",
      "      - 2\n",
      "      - 3\n",
      "    fillna:\n",
      "      quality: 'nan'\n",
      "  model:\n",
      "    repeat_cv: 10\n",
      "    optuna_enabled: false\n",
      "    test_reverse: false\n",
      "    xgb_model:\n",
      "      param:\n",
      "        eval_metric: rmse\n",
      "        booster: gbtree\n",
      "        eta: 0.02\n",
      "        subsample: 0.35\n",
      "        colsample_bytree: 0.7\n",
      "        num_parallel_tree: 10\n",
      "        min_child_weight: 40\n",
      "        gamma: 10\n",
      "        max_depth: 3\n",
      "      obj: cauchyoj\n",
      "      num_boost_round: 3000\n",
      "      folds_splits: 5\n",
      "      early_stopping_rounds: 25\n",
      "      optuna:\n",
      "        max_depth:\n",
      "        - 3\n",
      "        - 7\n",
      "        eta:\n",
      "        - 0.001\n",
      "        - 0.03\n",
      "        subsample:\n",
      "        - 0.2\n",
      "        - 0.5\n",
      "        colsample_bytree:\n",
      "        - 0.5\n",
      "        - 1.0\n",
      "        num_parallel_tree:\n",
      "        - 7\n",
      "        - 12\n",
      "        min_child_weight:\n",
      "        - 30\n",
      "        - 50\n",
      "        reg_alpha:\n",
      "        - 0.0\n",
      "        - 1.0\n",
      "        reg_lambda:\n",
      "        - 0.0\n",
      "        - 1.0\n",
      "        gamma:\n",
      "        - 0\n",
      "        - 10\n",
      "        n_trials: 1000\n",
      "        timeout: 28800\n",
      "        n_jobs: -1\n",
      "        n_warmup_steps: 3\n",
      "    spline: logistic\n",
      "  hand_labeling: null\n",
      "\n"
     ]
    }
   ],
   "source": [
    "\n",
    "import os\n",
    "import sys\n",
    "from pathlib import Path\n",
    "import collections\n",
    "from datetime import datetime\n",
    "import shutil\n",
    "import yaml\n",
    "from tqdm import tqdm\n",
    "import time\n",
    "import optuna\n",
    "from loguru import logger\n",
    "import collections\n",
    "\n",
    "from hydra import initialize, initialize_config_module, initialize_config_dir, compose\n",
    "from omegaconf import OmegaConf\n",
    "\n",
    "import numpy as np\n",
    "import pandas as pd\n",
    "import matplotlib.pyplot as plt\n",
    "import seaborn as sns\n",
    "from scipy.interpolate import UnivariateSpline\n",
    "\n",
    "import xgboost as xgb\n",
    "from xgboost import XGBRegressor\n",
    "from sklearn.model_selection import KFold\n",
    "from sklearn.calibration import calibration_curve\n",
    "from sklearn.metrics import log_loss,mean_squared_error, mean_absolute_error, roc_auc_score, average_precision_score\n",
    "from sklearn.metrics import make_scorer\n",
    "from sklearn.model_selection import cross_val_score, KFold\n",
    "from sklearn.linear_model import LogisticRegression\n",
    "from sklearn.preprocessing import OneHotEncoder\n",
    "from sklearn.isotonic import IsotonicRegression\n",
    "\n",
    "import statsmodels.api as sm\n",
    "\n",
    "START_TIME = time.time()\n",
    "\n",
    "\n",
    "#####\n",
    "#EXP_NUM = \"exp121\"\n",
    "#####\n",
    "print(EXP_NUM)\n",
    "\n",
    "# hydraの初期設定と指定ハイパラの取得\n",
    "sys.path.append(os.path.abspath(\"/workspace\"))\n",
    "sys.path.append(\"C:\\\\Users\\\\81809\\\\Documents\\\\ALL_CODE\\\\kaggle\\\\March Machine Learning Mania 2025\")\n",
    "with initialize_config_module(version_base=None, config_module=\"conf\"):\n",
    "    cfg = compose(\n",
    "        config_name=\"base.yaml\",\n",
    "        overrides=[\n",
    "            f\"+exp={EXP_NUM}\" #defaultexp001->exp002のオーバーライド\n",
    "        ],\n",
    "    )\n",
    "    \n",
    "    OmegaConf.resolve(cfg)\n",
    "    print(\"Omega conf is below\")\n",
    "    print(OmegaConf.to_yaml(cfg))\n"
   ]
  },
  {
   "cell_type": "code",
   "execution_count": 4,
   "id": "9bb43bdf",
   "metadata": {
    "execution": {
     "iopub.execute_input": "2025-03-18T06:26:01.105824Z",
     "iopub.status.busy": "2025-03-18T06:26:01.105824Z",
     "iopub.status.idle": "2025-03-18T06:26:01.129790Z",
     "shell.execute_reply": "2025-03-18T06:26:01.129228Z"
    },
    "papermill": {
     "duration": 0.025027,
     "end_time": "2025-03-18T06:26:01.130851",
     "exception": false,
     "start_time": "2025-03-18T06:26:01.105824",
     "status": "completed"
    },
    "tags": []
   },
   "outputs": [
    {
     "name": "stdout",
     "output_type": "stream",
     "text": [
      "########\n",
      "output dir name: feature_engineering_8\n",
      "Run on 2025-03-18 15:26:01.105824\n",
      "best model (3/18): extract feature \n",
      "########\n"
     ]
    }
   ],
   "source": [
    "PREDICT_YEAR = cfg.exp.tournament.target_season\n",
    "name = f\"{cfg.exp.name}\"\n",
    "now = str(datetime.now())\n",
    "print(\"########\")\n",
    "print(f\"output dir name: {name}\")\n",
    "print(f\"Run on {now}\")\n",
    "print(cfg.exp.print_name)\n",
    "print(\"########\")\n",
    "\n",
    "BASE_DIR = os.path.abspath(os.path.join(os.getcwd(), \"..\"))\n",
    "CONF_PATH = os.path.join(BASE_DIR, \"conf\")\n",
    "INPUT_PATH = os.path.join(BASE_DIR, \"input\")\n",
    "EXP_PATH = os.path.join(CONF_PATH, \"exp\", f\"{EXP_NUM}.yaml\")\n",
    "OUTPUT_PATH = os.path.join(BASE_DIR, \"output\", name)\n",
    "SRC_PATH = cfg.dir.src_path\n",
    "sys.path.append(SRC_PATH)\n",
    "\n",
    "os.makedirs(OUTPUT_PATH, exist_ok=True)  \n",
    "with open(EXP_PATH, \"r\", encoding=\"utf-8\") as f:\n",
    "    config = yaml.safe_load(f)\n",
    "shutil.copyfile(EXP_PATH, os.path.join(OUTPUT_PATH, f\"{EXP_NUM}.yaml\"))\n",
    "\n",
    "\n",
    "y_season = cfg.exp.tournament.target_season\n",
    "FEATURES = cfg.exp.features\n",
    "MODEL = cfg.exp.model\n",
    "results = [\"\", f\"-----{PREDICT_YEAR}-----\", now ,name, cfg.exp.print_name,\"\"]"
   ]
  },
  {
   "cell_type": "code",
   "execution_count": 5,
   "id": "b8555c41",
   "metadata": {
    "execution": {
     "iopub.execute_input": "2025-03-18T06:26:01.140826Z",
     "iopub.status.busy": "2025-03-18T06:26:01.140826Z",
     "iopub.status.idle": "2025-03-18T06:26:02.651701Z",
     "shell.execute_reply": "2025-03-18T06:26:02.651701Z"
    },
    "papermill": {
     "duration": 1.514848,
     "end_time": "2025-03-18T06:26:02.651701",
     "exception": false,
     "start_time": "2025-03-18T06:26:01.136853",
     "status": "completed"
    },
    "tags": []
   },
   "outputs": [],
   "source": [
    "tourney_results = pd.concat([\n",
    "    pd.read_csv(os.path.join(INPUT_PATH,\"MNCAATourneyDetailedResults.csv\")),\n",
    "    pd.read_csv(os.path.join(INPUT_PATH,\"WNCAATourneyDetailedResults.csv\")),\n",
    "], ignore_index=True)\n",
    "\n",
    "seeds = pd.concat([\n",
    "    pd.read_csv(os.path.join(INPUT_PATH,\"MNCAATourneySeeds.csv\")),\n",
    "    pd.read_csv(os.path.join(INPUT_PATH,\"WNCAATourneySeeds.csv\")),\n",
    "], ignore_index=True)\n",
    "\n",
    "regular_results = pd.concat([\n",
    "    pd.read_csv(os.path.join(INPUT_PATH, \"MRegularSeasonDetailedResults.csv\")),\n",
    "    pd.read_csv(os.path.join(INPUT_PATH,\"WRegularSeasonDetailedResults.csv\")),\n",
    "], ignore_index=True)\n",
    "\n",
    "ordinal_rank = pd.read_csv(os.path.join(INPUT_PATH, \"MMasseyOrdinals.csv\"))\n",
    "\n",
    "# 1試合情報からWin,Lose反転させてデータ数２倍にかさまし and WLoc -> location(0 or -1 or 1)\n",
    "def prepare_data(df1):\n",
    "    df = df1.copy()\n",
    "    ### add new box score\n",
    "    #type1: normal EFG\n",
    "    df['WEFFG'] = df['WFGM'] / df['WFGA']\n",
    "    df['LEFFG'] = df['LFGM'] / df['LFGA']\n",
    "    #type2: 1stfeature EFG\n",
    "    df['WEFFG3'] = np.where(df['WFGA3'] == 0, 0, df['WFGM3'] / df['WFGA3'])\n",
    "    df['LEFFG3'] = np.where(df['LFGA3'] == 0, 0, df['LFGM3'] / df['LFGA3'])\n",
    "    df['WDARE'] = df['WFGM3'] / df['WFGM']\n",
    "    df['LDARE'] = df['LFGM3'] / df['LFGM']\n",
    "    df['WTOQUETOQUE'] = df['WAst'] / df['WFGM']\n",
    "    df['LTOQUETOQUE'] = df['LAst'] / df['LFGM']\n",
    "    #type3: OFF/DEF FGE\n",
    "    df[\"WEFG_SUM\"] = (df[\"WFGM\"]+0.5*df[\"WFGM3\"])/df[\"WFGA\"]\n",
    "    df[\"LEFG_SUM\"] = (df[\"LFGM\"]+0.5*df[\"LFGM3\"])/df[\"LFGA\"]\n",
    "\n",
    "    #POSS RATE\n",
    "    df[\"WPOSS\"] = df[\"WFGA\"] + 0.44*df[\"WFTA\"] - df[\"WOR\"] + df[\"WTO\"]\n",
    "    df[\"LPOSS\"] = df[\"LFGA\"] + 0.44*df[\"LFTA\"] - df[\"LOR\"] + df[\"LTO\"]\n",
    "    df[\"WPOSS_RATE\"] = df[\"WPOSS\"]/(df[\"WPOSS\"]+df[\"LPOSS\"])\n",
    "    df[\"LPOSS_RATE\"] = df[\"LPOSS\"]/(df[\"WPOSS\"]+df[\"LPOSS\"])\n",
    "    \n",
    "    #TO Ratio \n",
    "    df[\"WTO_RATIO\"] = df[\"WTO\"]/(df[\"WFGA\"]+0.44*df[\"WFTA\"]+df[\"WTO\"])#POSS RATEと違ってOR入っていない\n",
    "    df[\"LTO_RATIO\"] = df[\"LTO\"]/(df[\"LFGA\"]+0.44*df[\"LFTA\"]+df[\"LTO\"])\n",
    "    \n",
    "    # REB%\n",
    "    df[\"WREB_RATE\"] = df[\"WOR\"]/(df[\"WOR\"]+df[\"LDR\"])\n",
    "    df[\"LREB_RATE\"] = df[\"LOR\"]/(df[\"LOR\"]+df[\"WDR\"])\n",
    "    \n",
    "    #FT %\n",
    "    df[\"WFT_RATE\"] = df[\"WFTA\"]/df[\"WFGA\"]\n",
    "    df[\"LFT_RATE\"] = df[\"LFTA\"]/df[\"LFGA\"]\n",
    "    \n",
    "    #rating\n",
    "    df[\"WRATING\"] = df[\"WScore\"]/df[\"WPOSS\"]\n",
    "    df[\"LRATING\"] = df[\"LScore\"]/df[\"LPOSS\"]\n",
    "    \n",
    "        \n",
    "    #0除算補完\n",
    "    print(df.info())\n",
    "        \n",
    "    #かさましに伴う反転カラム\n",
    "    dfswap = df.copy()\n",
    "    # Home, Away変換して反転\n",
    "    dfswap.loc[df['WLoc'] == 'H', 'WLoc'] = 'A'\n",
    "    dfswap.loc[df['WLoc'] == 'A', 'WLoc'] = 'H'\n",
    "    df.columns.values[6] = 'location'\n",
    "    dfswap.columns.values[6] = 'location'    \n",
    "    #反転\n",
    "    df.columns = [x.replace('W','T1_').replace('L','T2_') for x in list(df.columns)]\n",
    "    dfswap.columns = [x.replace('L','T1_').replace('W','T2_') for x in list(dfswap.columns)]\n",
    "    output = pd.concat([df, dfswap]).reset_index(drop=True)\n",
    "    \n",
    "    \n",
    "    #add new feature\n",
    "    #locationを数値に変換\n",
    "    output.loc[output.location=='N','location'] = '0'\n",
    "    output.loc[output.location=='H','location'] = '1'\n",
    "    output.loc[output.location=='A','location'] = '-1'\n",
    "    output.location = output.location.astype(int)\n",
    "    \n",
    "    #add PointDiff&win\n",
    "    output['PointDiff'] = output['T1_Score'] - output['T2_Score']\n",
    "    output[\"win\"] = np.where(output['PointDiff']>0,1,0)\n",
    "    \n",
    "    \n",
    "    print(f\"feature cols after prepare()\")\n",
    "    print(output.columns)\n",
    "    return output\n",
    "\n"
   ]
  },
  {
   "cell_type": "code",
   "execution_count": 6,
   "id": "8a0f12ce",
   "metadata": {
    "execution": {
     "iopub.execute_input": "2025-03-18T06:26:02.663557Z",
     "iopub.status.busy": "2025-03-18T06:26:02.663557Z",
     "iopub.status.idle": "2025-03-18T06:26:02.721050Z",
     "shell.execute_reply": "2025-03-18T06:26:02.721050Z"
    },
    "papermill": {
     "duration": 0.07041,
     "end_time": "2025-03-18T06:26:02.722111",
     "exception": false,
     "start_time": "2025-03-18T06:26:02.651701",
     "status": "completed"
    },
    "tags": []
   },
   "outputs": [
    {
     "name": "stdout",
     "output_type": "stream",
     "text": [
      "各カラムの異常値の個数を表示します。\n",
      "\n"
     ]
    }
   ],
   "source": [
    "import numpy as np\n",
    "\n",
    "# 異常値のチェック\n",
    "def check_abnormal_values(df):\n",
    "    print(\"各カラムの異常値の個数を表示します。\\n\")\n",
    "\n",
    "    for col in df.columns:\n",
    "        nan_count = df[col].isna().sum()  # NaN の数\n",
    "        inf_count = (df[col] == np.inf).sum()  # inf の数\n",
    "        neg_inf_count = (df[col] == -np.inf).sum()  # -inf の数\n",
    "\n",
    "        if nan_count > 0 or inf_count > 0 or neg_inf_count > 0:\n",
    "            print(f\"Column: {col}\")\n",
    "            print(f\"  NaN    : {nan_count}\")\n",
    "            print(f\"  Inf    : {inf_count}\")\n",
    "            print(f\"  -Inf   : {neg_inf_count}\")\n",
    "            print(\"-\" * 30)\n",
    "\n",
    "# 関数を実行\n",
    "check_abnormal_values(regular_results)\n"
   ]
  },
  {
   "cell_type": "code",
   "execution_count": 7,
   "id": "e3efb68b",
   "metadata": {
    "execution": {
     "iopub.execute_input": "2025-03-18T06:26:02.735539Z",
     "iopub.status.busy": "2025-03-18T06:26:02.734508Z",
     "iopub.status.idle": "2025-03-18T06:26:03.134522Z",
     "shell.execute_reply": "2025-03-18T06:26:03.134522Z"
    },
    "papermill": {
     "duration": 0.406009,
     "end_time": "2025-03-18T06:26:03.134522",
     "exception": false,
     "start_time": "2025-03-18T06:26:02.728513",
     "status": "completed"
    },
    "tags": []
   },
   "outputs": [
    {
     "name": "stdout",
     "output_type": "stream",
     "text": [
      "<class 'pandas.core.frame.DataFrame'>\n",
      "Index: 139193 entries, 0 to 170570\n",
      "Data columns (total 56 columns):\n",
      " #   Column       Non-Null Count   Dtype  \n",
      "---  ------       --------------   -----  \n",
      " 0   Season       139193 non-null  int64  \n",
      " 1   DayNum       139193 non-null  int64  \n",
      " 2   WTeamID      139193 non-null  int64  \n",
      " 3   WScore       139193 non-null  int64  \n",
      " 4   LTeamID      139193 non-null  int64  \n",
      " 5   LScore       139193 non-null  int64  \n",
      " 6   WLoc         139193 non-null  object \n",
      " 7   NumOT        139193 non-null  int64  \n",
      " 8   WFGM         139193 non-null  int64  \n",
      " 9   WFGA         139193 non-null  int64  \n",
      " 10  WFGM3        139193 non-null  int64  \n",
      " 11  WFGA3        139193 non-null  int64  \n",
      " 12  WFTM         139193 non-null  int64  \n",
      " 13  WFTA         139193 non-null  int64  \n",
      " 14  WOR          139193 non-null  int64  \n",
      " 15  WDR          139193 non-null  int64  \n",
      " 16  WAst         139193 non-null  int64  \n",
      " 17  WTO          139193 non-null  int64  \n",
      " 18  WStl         139193 non-null  int64  \n",
      " 19  WBlk         139193 non-null  int64  \n",
      " 20  WPF          139193 non-null  int64  \n",
      " 21  LFGM         139193 non-null  int64  \n",
      " 22  LFGA         139193 non-null  int64  \n",
      " 23  LFGM3        139193 non-null  int64  \n",
      " 24  LFGA3        139193 non-null  int64  \n",
      " 25  LFTM         139193 non-null  int64  \n",
      " 26  LFTA         139193 non-null  int64  \n",
      " 27  LOR          139193 non-null  int64  \n",
      " 28  LDR          139193 non-null  int64  \n",
      " 29  LAst         139193 non-null  int64  \n",
      " 30  LTO          139193 non-null  int64  \n",
      " 31  LStl         139193 non-null  int64  \n",
      " 32  LBlk         139193 non-null  int64  \n",
      " 33  LPF          139193 non-null  int64  \n",
      " 34  WEFFG        139193 non-null  float64\n",
      " 35  LEFFG        139193 non-null  float64\n",
      " 36  WEFFG3       139193 non-null  float64\n",
      " 37  LEFFG3       139193 non-null  float64\n",
      " 38  WDARE        139193 non-null  float64\n",
      " 39  LDARE        139193 non-null  float64\n",
      " 40  WTOQUETOQUE  139193 non-null  float64\n",
      " 41  LTOQUETOQUE  139193 non-null  float64\n",
      " 42  WEFG_SUM     139193 non-null  float64\n",
      " 43  LEFG_SUM     139193 non-null  float64\n",
      " 44  WPOSS        139193 non-null  float64\n",
      " 45  LPOSS        139193 non-null  float64\n",
      " 46  WPOSS_RATE   139193 non-null  float64\n",
      " 47  LPOSS_RATE   139193 non-null  float64\n",
      " 48  WTO_RATIO    139193 non-null  float64\n",
      " 49  LTO_RATIO    139193 non-null  float64\n",
      " 50  WREB_RATE    139193 non-null  float64\n",
      " 51  LREB_RATE    139193 non-null  float64\n",
      " 52  WFT_RATE     139193 non-null  float64\n",
      " 53  LFT_RATE     139193 non-null  float64\n",
      " 54  WRATING      139193 non-null  float64\n",
      " 55  LRATING      139193 non-null  float64\n",
      "dtypes: float64(22), int64(33), object(1)\n",
      "memory usage: 60.5+ MB\n",
      "None\n"
     ]
    },
    {
     "name": "stdout",
     "output_type": "stream",
     "text": [
      "feature cols after prepare()\n",
      "Index(['Season', 'DayNum', 'T1_TeamID', 'T1_Score', 'T2_TeamID', 'T2_Score',\n",
      "       'location', 'NumOT', 'T1_FGM', 'T1_FGA', 'T1_FGM3', 'T1_FGA3', 'T1_FTM',\n",
      "       'T1_FTA', 'T1_OR', 'T1_DR', 'T1_Ast', 'T1_TO', 'T1_Stl', 'T1_Blk',\n",
      "       'T1_PF', 'T2_FGM', 'T2_FGA', 'T2_FGM3', 'T2_FGA3', 'T2_FTM', 'T2_FTA',\n",
      "       'T2_OR', 'T2_DR', 'T2_Ast', 'T2_TO', 'T2_Stl', 'T2_Blk', 'T2_PF',\n",
      "       'T1_EFFG', 'T2_EFFG', 'T1_EFFG3', 'T2_EFFG3', 'T1_DARE', 'T2_DARE',\n",
      "       'T1_TOQUETOQUE', 'T2_TOQUETOQUE', 'T1_EFG_SUM', 'T2_EFG_SUM', 'T1_POSS',\n",
      "       'T2_POSS', 'T1_POSS_RATE', 'T2_POSS_RATE', 'T1_TO_RATIO', 'T2_TO_RATIO',\n",
      "       'T1_REB_RATE', 'T2_REB_RATE', 'T1_FT_RATE', 'T2_FT_RATE', 'T1_RATING',\n",
      "       'T2_RATING', 'PointDiff', 'win'],\n",
      "      dtype='object')\n",
      "<class 'pandas.core.frame.DataFrame'>\n",
      "RangeIndex: 278386 entries, 0 to 278385\n",
      "Data columns (total 58 columns):\n",
      " #   Column         Non-Null Count   Dtype  \n",
      "---  ------         --------------   -----  \n",
      " 0   Season         278386 non-null  int64  \n",
      " 1   DayNum         278386 non-null  int64  \n",
      " 2   T1_TeamID      278386 non-null  int64  \n",
      " 3   T1_Score       278386 non-null  int64  \n",
      " 4   T2_TeamID      278386 non-null  int64  \n",
      " 5   T2_Score       278386 non-null  int64  \n",
      " 6   location       278386 non-null  int32  \n",
      " 7   NumOT          278386 non-null  int64  \n",
      " 8   T1_FGM         278386 non-null  int64  \n",
      " 9   T1_FGA         278386 non-null  int64  \n",
      " 10  T1_FGM3        278386 non-null  int64  \n",
      " 11  T1_FGA3        278386 non-null  int64  \n",
      " 12  T1_FTM         278386 non-null  int64  \n",
      " 13  T1_FTA         278386 non-null  int64  \n",
      " 14  T1_OR          278386 non-null  int64  \n",
      " 15  T1_DR          278386 non-null  int64  \n",
      " 16  T1_Ast         278386 non-null  int64  \n",
      " 17  T1_TO          278386 non-null  int64  \n",
      " 18  T1_Stl         278386 non-null  int64  \n",
      " 19  T1_Blk         278386 non-null  int64  \n",
      " 20  T1_PF          278386 non-null  int64  \n",
      " 21  T2_FGM         278386 non-null  int64  \n",
      " 22  T2_FGA         278386 non-null  int64  \n",
      " 23  T2_FGM3        278386 non-null  int64  \n",
      " 24  T2_FGA3        278386 non-null  int64  \n",
      " 25  T2_FTM         278386 non-null  int64  \n",
      " 26  T2_FTA         278386 non-null  int64  \n",
      " 27  T2_OR          278386 non-null  int64  \n",
      " 28  T2_DR          278386 non-null  int64  \n",
      " 29  T2_Ast         278386 non-null  int64  \n",
      " 30  T2_TO          278386 non-null  int64  \n",
      " 31  T2_Stl         278386 non-null  int64  \n",
      " 32  T2_Blk         278386 non-null  int64  \n",
      " 33  T2_PF          278386 non-null  int64  \n",
      " 34  T1_EFFG        278386 non-null  float64\n",
      " 35  T2_EFFG        278386 non-null  float64\n",
      " 36  T1_EFFG3       278386 non-null  float64\n",
      " 37  T2_EFFG3       278386 non-null  float64\n",
      " 38  T1_DARE        278386 non-null  float64\n",
      " 39  T2_DARE        278386 non-null  float64\n",
      " 40  T1_TOQUETOQUE  278386 non-null  float64\n",
      " 41  T2_TOQUETOQUE  278386 non-null  float64\n",
      " 42  T1_EFG_SUM     278386 non-null  float64\n",
      " 43  T2_EFG_SUM     278386 non-null  float64\n",
      " 44  T1_POSS        278386 non-null  float64\n",
      " 45  T2_POSS        278386 non-null  float64\n",
      " 46  T1_POSS_RATE   278386 non-null  float64\n",
      " 47  T2_POSS_RATE   278386 non-null  float64\n",
      " 48  T1_TO_RATIO    278386 non-null  float64\n",
      " 49  T2_TO_RATIO    278386 non-null  float64\n",
      " 50  T1_REB_RATE    278386 non-null  float64\n",
      " 51  T2_REB_RATE    278386 non-null  float64\n",
      " 52  T1_FT_RATE     278386 non-null  float64\n",
      " 53  T2_FT_RATE     278386 non-null  float64\n",
      " 54  T1_RATING      278386 non-null  float64\n",
      " 55  T2_RATING      278386 non-null  float64\n",
      " 56  PointDiff      278386 non-null  int64  \n",
      " 57  win            278386 non-null  int32  \n",
      "dtypes: float64(22), int32(2), int64(34)\n",
      "memory usage: 121.1 MB\n"
     ]
    },
    {
     "data": {
      "text/html": [
       "<div>\n",
       "<style scoped>\n",
       "    .dataframe tbody tr th:only-of-type {\n",
       "        vertical-align: middle;\n",
       "    }\n",
       "\n",
       "    .dataframe tbody tr th {\n",
       "        vertical-align: top;\n",
       "    }\n",
       "\n",
       "    .dataframe thead th {\n",
       "        text-align: right;\n",
       "    }\n",
       "</style>\n",
       "<table border=\"1\" class=\"dataframe\">\n",
       "  <thead>\n",
       "    <tr style=\"text-align: right;\">\n",
       "      <th></th>\n",
       "      <th>Season</th>\n",
       "      <th>DayNum</th>\n",
       "      <th>T1_TeamID</th>\n",
       "      <th>T1_Score</th>\n",
       "      <th>T2_TeamID</th>\n",
       "      <th>T2_Score</th>\n",
       "      <th>location</th>\n",
       "      <th>NumOT</th>\n",
       "      <th>T1_FGM</th>\n",
       "      <th>T1_FGA</th>\n",
       "      <th>...</th>\n",
       "      <th>T1_TO_RATIO</th>\n",
       "      <th>T2_TO_RATIO</th>\n",
       "      <th>T1_REB_RATE</th>\n",
       "      <th>T2_REB_RATE</th>\n",
       "      <th>T1_FT_RATE</th>\n",
       "      <th>T2_FT_RATE</th>\n",
       "      <th>T1_RATING</th>\n",
       "      <th>T2_RATING</th>\n",
       "      <th>PointDiff</th>\n",
       "      <th>win</th>\n",
       "    </tr>\n",
       "  </thead>\n",
       "  <tbody>\n",
       "    <tr>\n",
       "      <th>0</th>\n",
       "      <td>2003</td>\n",
       "      <td>10</td>\n",
       "      <td>1104</td>\n",
       "      <td>68</td>\n",
       "      <td>1328</td>\n",
       "      <td>62</td>\n",
       "      <td>0</td>\n",
       "      <td>0</td>\n",
       "      <td>27</td>\n",
       "      <td>58</td>\n",
       "      <td>...</td>\n",
       "      <td>0.258659</td>\n",
       "      <td>0.223104</td>\n",
       "      <td>0.388889</td>\n",
       "      <td>0.294118</td>\n",
       "      <td>0.310345</td>\n",
       "      <td>0.415094</td>\n",
       "      <td>0.907635</td>\n",
       "      <td>0.877193</td>\n",
       "      <td>6</td>\n",
       "      <td>1</td>\n",
       "    </tr>\n",
       "    <tr>\n",
       "      <th>1</th>\n",
       "      <td>2003</td>\n",
       "      <td>10</td>\n",
       "      <td>1272</td>\n",
       "      <td>70</td>\n",
       "      <td>1393</td>\n",
       "      <td>63</td>\n",
       "      <td>0</td>\n",
       "      <td>0</td>\n",
       "      <td>26</td>\n",
       "      <td>62</td>\n",
       "      <td>...</td>\n",
       "      <td>0.155950</td>\n",
       "      <td>0.136674</td>\n",
       "      <td>0.375000</td>\n",
       "      <td>0.416667</td>\n",
       "      <td>0.306452</td>\n",
       "      <td>0.298507</td>\n",
       "      <td>1.023991</td>\n",
       "      <td>0.929204</td>\n",
       "      <td>7</td>\n",
       "      <td>1</td>\n",
       "    </tr>\n",
       "    <tr>\n",
       "      <th>2</th>\n",
       "      <td>2003</td>\n",
       "      <td>11</td>\n",
       "      <td>1266</td>\n",
       "      <td>73</td>\n",
       "      <td>1437</td>\n",
       "      <td>61</td>\n",
       "      <td>0</td>\n",
       "      <td>0</td>\n",
       "      <td>24</td>\n",
       "      <td>58</td>\n",
       "      <td>...</td>\n",
       "      <td>0.123824</td>\n",
       "      <td>0.126156</td>\n",
       "      <td>0.435897</td>\n",
       "      <td>0.543860</td>\n",
       "      <td>0.500000</td>\n",
       "      <td>0.315068</td>\n",
       "      <td>1.144918</td>\n",
       "      <td>0.951341</td>\n",
       "      <td>12</td>\n",
       "      <td>1</td>\n",
       "    </tr>\n",
       "    <tr>\n",
       "      <th>3</th>\n",
       "      <td>2003</td>\n",
       "      <td>11</td>\n",
       "      <td>1296</td>\n",
       "      <td>56</td>\n",
       "      <td>1457</td>\n",
       "      <td>50</td>\n",
       "      <td>0</td>\n",
       "      <td>0</td>\n",
       "      <td>18</td>\n",
       "      <td>38</td>\n",
       "      <td>...</td>\n",
       "      <td>0.188561</td>\n",
       "      <td>0.254692</td>\n",
       "      <td>0.230769</td>\n",
       "      <td>0.472222</td>\n",
       "      <td>0.815789</td>\n",
       "      <td>0.306122</td>\n",
       "      <td>0.971548</td>\n",
       "      <td>0.868056</td>\n",
       "      <td>6</td>\n",
       "      <td>1</td>\n",
       "    </tr>\n",
       "    <tr>\n",
       "      <th>4</th>\n",
       "      <td>2003</td>\n",
       "      <td>11</td>\n",
       "      <td>1400</td>\n",
       "      <td>77</td>\n",
       "      <td>1208</td>\n",
       "      <td>71</td>\n",
       "      <td>0</td>\n",
       "      <td>0</td>\n",
       "      <td>30</td>\n",
       "      <td>61</td>\n",
       "      <td>...</td>\n",
       "      <td>0.173439</td>\n",
       "      <td>0.119218</td>\n",
       "      <td>0.531250</td>\n",
       "      <td>0.488372</td>\n",
       "      <td>0.213115</td>\n",
       "      <td>0.435484</td>\n",
       "      <td>1.208412</td>\n",
       "      <td>1.129135</td>\n",
       "      <td>6</td>\n",
       "      <td>1</td>\n",
       "    </tr>\n",
       "  </tbody>\n",
       "</table>\n",
       "<p>5 rows × 58 columns</p>\n",
       "</div>"
      ],
      "text/plain": [
       "   Season  DayNum  T1_TeamID  T1_Score  T2_TeamID  T2_Score  location  NumOT  \\\n",
       "0    2003      10       1104        68       1328        62         0      0   \n",
       "1    2003      10       1272        70       1393        63         0      0   \n",
       "2    2003      11       1266        73       1437        61         0      0   \n",
       "3    2003      11       1296        56       1457        50         0      0   \n",
       "4    2003      11       1400        77       1208        71         0      0   \n",
       "\n",
       "   T1_FGM  T1_FGA  ...  T1_TO_RATIO  T2_TO_RATIO  T1_REB_RATE  T2_REB_RATE  \\\n",
       "0      27      58  ...     0.258659     0.223104     0.388889     0.294118   \n",
       "1      26      62  ...     0.155950     0.136674     0.375000     0.416667   \n",
       "2      24      58  ...     0.123824     0.126156     0.435897     0.543860   \n",
       "3      18      38  ...     0.188561     0.254692     0.230769     0.472222   \n",
       "4      30      61  ...     0.173439     0.119218     0.531250     0.488372   \n",
       "\n",
       "   T1_FT_RATE  T2_FT_RATE  T1_RATING  T2_RATING  PointDiff  win  \n",
       "0    0.310345    0.415094   0.907635   0.877193          6    1  \n",
       "1    0.306452    0.298507   1.023991   0.929204          7    1  \n",
       "2    0.500000    0.315068   1.144918   0.951341         12    1  \n",
       "3    0.815789    0.306122   0.971548   0.868056          6    1  \n",
       "4    0.213115    0.435484   1.208412   1.129135          6    1  \n",
       "\n",
       "[5 rows x 58 columns]"
      ]
     },
     "metadata": {},
     "output_type": "display_data"
    },
    {
     "data": {
      "text/plain": [
       "None"
      ]
     },
     "metadata": {},
     "output_type": "display_data"
    }
   ],
   "source": [
    "#予測する年以降の情報はフィルタリング\n",
    "USE_START_YEAR = cfg.exp.tournament.use_start_season\n",
    "notexist = tourney_results[tourney_results[\"Season\"] == PREDICT_YEAR]\n",
    "tourney_results = tourney_results[(tourney_results[\"Season\"] >= USE_START_YEAR) & (tourney_results[\"Season\"] < PREDICT_YEAR)]\n",
    "seeds = seeds[(seeds[\"Season\"] >= USE_START_YEAR) & (seeds[\"Season\"] <= PREDICT_YEAR)]\n",
    "regular_results = regular_results[(regular_results[\"Season\"] >= USE_START_YEAR) & (regular_results[\"Season\"] <= PREDICT_YEAR)]\n",
    "\n",
    "regular_data = prepare_data(regular_results)\n",
    "display(regular_data.head(), regular_data.info())"
   ]
  },
  {
   "cell_type": "code",
   "execution_count": 8,
   "id": "e446b787",
   "metadata": {
    "execution": {
     "iopub.execute_input": "2025-03-18T06:26:03.141542Z",
     "iopub.status.busy": "2025-03-18T06:26:03.141542Z",
     "iopub.status.idle": "2025-03-18T06:26:03.163784Z",
     "shell.execute_reply": "2025-03-18T06:26:03.163784Z"
    },
    "papermill": {
     "duration": 0.022242,
     "end_time": "2025-03-18T06:26:03.163784",
     "exception": false,
     "start_time": "2025-03-18T06:26:03.141542",
     "status": "completed"
    },
    "tags": []
   },
   "outputs": [],
   "source": [
    "#使用特徴量(boxscore_cols)を取得してそれに対して(\"Season\", 'T1_TeamID')でまとめた特徴量の追加\n",
    "#### 1. win_ration_14d ####\n",
    "def add_win_ratio_14d(df):\n",
    "    df_filtered = df[df['DayNum'] > 118].copy()\n",
    "    df_filtered['Win'] = (df_filtered['PointDiff'] > 0).astype(int)\n",
    "    \n",
    "    win_ratio_t1 = df_filtered.groupby(['Season', 'T1_TeamID'])['Win'].mean().reset_index()\n",
    "    win_ratio_t1.rename(columns={'Win': 'T1_win_ratio_14d'}, inplace=True)\n",
    "    \n",
    "    win_ratio_t2 = df_filtered.groupby(['Season', 'T2_TeamID'])['Win'].mean().reset_index()\n",
    "    win_ratio_t2.rename(columns={'Win': 'T2_win_ratio_14d'}, inplace=True)\n",
    "    \n",
    "    df = df.merge(win_ratio_t1, on=['Season', 'T1_TeamID'], how='left')\n",
    "    df = df.merge(win_ratio_t2, on=['Season', 'T2_TeamID'], how='left')\n",
    "    \n",
    "    return df\n",
    "\n",
    "##### 2. add mean of boxscore ####\n",
    "def make_col_avg(df, boxscore, group = [\"Season\", \"T1_TeamID\"], func= [np.mean]):\n",
    "    df_stat = df.groupby(group)[boxscore].agg(func)\n",
    "    df_stat.columns = [''.join(col).strip() for col in df_stat.columns.values]\n",
    "    df_stat = df_stat.reset_index()\n",
    "\n",
    "    win_ratio_cols = ['T1_win_ratio_14d'] #ここマージの関係からT2_win_ratio_14dを外したけど大丈夫か考える\n",
    "    df_win_ratio = df[group + win_ratio_cols].drop_duplicates()\n",
    "    df_stat = df_stat.merge(df_win_ratio, on=group, how='left')\n",
    "    \n",
    "    return df_stat\n",
    "\n",
    "#### 3. add team quality ####\n",
    "# 3.0 ロジスティックを行うためのregular_season_effectsデータフレームの作成\n",
    "def make_regular_season_effects(df):\n",
    "    regular_season_effects = df[['Season', 'T1_TeamID', 'T2_TeamID', 'PointDiff']].copy()\n",
    "    regular_season_effects['win'] = np.where(regular_season_effects['PointDiff'] > 0, 1, 0)\n",
    "    return regular_season_effects\n",
    "\n",
    "# 3.1\n",
    "#各シーズンごとの総当たりに対するロジスティック回帰を行う\n",
    "#目的変数はfeatureenginneringから作成したPointDiffの正負に依存するWinとする.\n",
    "#新たな特徴量\"quarity\"をseasonごとの戦績をもとにロジスティックの回帰係数として導入している\n",
    "def team_quality(season,df):\n",
    "    season_data = df[df[\"Season\"] == season]\n",
    "    X = season_data[['T1_TeamID', 'T2_TeamID']]\n",
    "    y = season_data['win']\n",
    "    print(X.shape, y.shape)\n",
    "    encoder = OneHotEncoder(sparse_output=False) #多重共線性防止, 密行列指定\n",
    "    X_encoded = encoder.fit_transform(X)\n",
    "    \n",
    "    model = LogisticRegression(fit_intercept=False)\n",
    "    model.fit(X_encoded, y)\n",
    "    team_ids = encoder.get_feature_names_out(['T1_TeamID', 'T2_TeamID'])\n",
    "\n",
    "    \n",
    "    #quarity: (チーム数)*2(ID, 回帰係数)\n",
    "    quality = pd.DataFrame({\n",
    "        'TeamID': team_ids,\n",
    "        'quality': model.coef_.flatten() #T1_TeamID_1112,,,の形でチーム数分の回帰係数が入る\n",
    "    })\n",
    "\n",
    "    # 値をint 1112 のように整形\n",
    "    quality = quality[quality['TeamID'].str.contains('T1_TeamID')]\n",
    "    quality['TeamID'] = quality['TeamID'].str.replace('T1_TeamID_', '', regex=True).astype(int)\n",
    "    quality['Season'] = season\n",
    "\n",
    "    #display(quality.head())\n",
    "    print(f\"fin make {season}'s team quarity\")\n",
    "    return quality\n",
    "\n",
    "# 4. add seed\n",
    "def add_seed(df, seeds):\n",
    "    temp = seeds.copy()\n",
    "    temp['Seed'] = temp['Seed'].apply(lambda x: int(x[1:3]))\n",
    "    temp.columns = ['Season','T1_seed','T1_TeamID']\n",
    "    df = pd.merge(df, temp, on=[\"Season\", \"T1_TeamID\"], how=\"left\")\n",
    "    return df \n",
    "\n",
    "# 5. add Ordinal rank\n",
    "def add_ordinalrank(df, ordinal):\n",
    "    df_rank = ordinal.groupby([\"Season\", \"TeamID\"])[\"OrdinalRank\"].agg(np.mean).reset_index()\n",
    "    df_rank.head()\n",
    "    ranks = df_rank.rename(columns={'TeamID': 'T1_TeamID', 'OrdinalRank': 'T1_OrdinalRank'})\n",
    "    df = pd.merge(df,ranks,on = [\"Season\",\"T1_TeamID\"],how = \"left\")\n",
    "    return df\n",
    "\n",
    "# main \n",
    "def make_season_statistics(df, boxscore, seeds, func = [np.mean]):\n",
    "    # 1. Win Ratio の計算と追加\n",
    "    add_win = add_win_ratio_14d(df)\n",
    "    print(\"after add win ratio\")\n",
    "    print(add_win.columns)  \n",
    "    \n",
    "    #2. \n",
    "    add_mean = make_col_avg(add_win, boxscore)\n",
    "    print(\"after mean of boxscore\")\n",
    "    print(add_mean.columns)\n",
    "    \n",
    "    #3. \n",
    "    global PREDICT_YEAR, USE_START_YEAR\n",
    "    start_season = max(FEATURES.start_quality_season, USE_START_YEAR)\n",
    "    print(f\"use season for quality feature is: {start_season}\")\n",
    "    regular_season_effects = make_regular_season_effects(df)\n",
    "    glm_season = [i for i in range(start_season, PREDICT_YEAR+1)]\n",
    "\n",
    "    if 2020 in glm_season:\n",
    "        glm_season.remove(2020)\n",
    "    glm_quality = pd.concat([team_quality(season, regular_season_effects) for season in glm_season]).reset_index(drop=True)\n",
    "    # add glm quality \n",
    "    glm_quality_T1 = glm_quality.rename(columns={'TeamID': 'T1_TeamID', 'quality': 'T1_quality'})\n",
    "    add_glm = add_mean.merge(glm_quality_T1, on=['Season', 'T1_TeamID'], how='left')\n",
    "\n",
    "    print(\"add glm quality\")\n",
    "    print(add_glm.columns)\n",
    "    \n",
    "    #4. \n",
    "    add_seeds = add_seed(add_glm, seeds)\n",
    "    print(\"add seeds (final form)\")\n",
    "    print(add_seeds.columns)\n",
    "    \n",
    "    #5. \n",
    "    add_rank = add_ordinalrank(add_seeds, ordinal_rank)\n",
    "    print(\"add ordinal rank\")\n",
    "    print(add_rank.columns)  \n",
    "    return add_rank"
   ]
  },
  {
   "cell_type": "code",
   "execution_count": 9,
   "id": "383df2bb",
   "metadata": {
    "execution": {
     "iopub.execute_input": "2025-03-18T06:26:03.180564Z",
     "iopub.status.busy": "2025-03-18T06:26:03.174748Z",
     "iopub.status.idle": "2025-03-18T06:26:06.207553Z",
     "shell.execute_reply": "2025-03-18T06:26:06.206785Z"
    },
    "papermill": {
     "duration": 3.043769,
     "end_time": "2025-03-18T06:26:06.207553",
     "exception": false,
     "start_time": "2025-03-18T06:26:03.163784",
     "status": "completed"
    },
    "tags": []
   },
   "outputs": [
    {
     "name": "stdout",
     "output_type": "stream",
     "text": [
      "use boxscore col is\n",
      "['T1_Score', 'T2_Score', 'PointDiff', 'T1_FGA', 'T2_FGA', 'T1_FGM', 'T2_FGM', 'T1_EFG_SUM', 'T2_EFG_SUM', 'T1_TO_RATIO', 'T2_TO_RATIO', 'T1_OR', 'T2_OR', 'T1_DR', 'T2_DR', 'T1_REB_RATE', 'T2_REB_RATE', 'T1_FT_RATE', 'T2_FT_RATE', 'T1_POSS_RATE', 'T2_POSS_RATE', 'T1_Ast', 'T2_Ast', 'T1_TO', 'T2_TO', 'T1_Stl', 'T2_Stl', 'T1_Blk', 'T2_Blk', 'T1_PF', 'T2_PF']\n"
     ]
    },
    {
     "name": "stdout",
     "output_type": "stream",
     "text": [
      "after add win ratio\n",
      "Index(['Season', 'DayNum', 'T1_TeamID', 'T1_Score', 'T2_TeamID', 'T2_Score',\n",
      "       'location', 'NumOT', 'T1_FGM', 'T1_FGA', 'T1_FGM3', 'T1_FGA3', 'T1_FTM',\n",
      "       'T1_FTA', 'T1_OR', 'T1_DR', 'T1_Ast', 'T1_TO', 'T1_Stl', 'T1_Blk',\n",
      "       'T1_PF', 'T2_FGM', 'T2_FGA', 'T2_FGM3', 'T2_FGA3', 'T2_FTM', 'T2_FTA',\n",
      "       'T2_OR', 'T2_DR', 'T2_Ast', 'T2_TO', 'T2_Stl', 'T2_Blk', 'T2_PF',\n",
      "       'T1_EFFG', 'T2_EFFG', 'T1_EFFG3', 'T2_EFFG3', 'T1_DARE', 'T2_DARE',\n",
      "       'T1_TOQUETOQUE', 'T2_TOQUETOQUE', 'T1_EFG_SUM', 'T2_EFG_SUM', 'T1_POSS',\n",
      "       'T2_POSS', 'T1_POSS_RATE', 'T2_POSS_RATE', 'T1_TO_RATIO', 'T2_TO_RATIO',\n",
      "       'T1_REB_RATE', 'T2_REB_RATE', 'T1_FT_RATE', 'T2_FT_RATE', 'T1_RATING',\n",
      "       'T2_RATING', 'PointDiff', 'win', 'T1_win_ratio_14d',\n",
      "       'T2_win_ratio_14d'],\n",
      "      dtype='object')\n",
      "after mean of boxscore\n",
      "Index(['Season', 'T1_TeamID', 'T1_Scoremean', 'T2_Scoremean', 'PointDiffmean',\n",
      "       'T1_FGAmean', 'T2_FGAmean', 'T1_FGMmean', 'T2_FGMmean',\n",
      "       'T1_EFG_SUMmean', 'T2_EFG_SUMmean', 'T1_TO_RATIOmean',\n",
      "       'T2_TO_RATIOmean', 'T1_ORmean', 'T2_ORmean', 'T1_DRmean', 'T2_DRmean',\n",
      "       'T1_REB_RATEmean', 'T2_REB_RATEmean', 'T1_FT_RATEmean',\n",
      "       'T2_FT_RATEmean', 'T1_POSS_RATEmean', 'T2_POSS_RATEmean', 'T1_Astmean',\n",
      "       'T2_Astmean', 'T1_TOmean', 'T2_TOmean', 'T1_Stlmean', 'T2_Stlmean',\n",
      "       'T1_Blkmean', 'T2_Blkmean', 'T1_PFmean', 'T2_PFmean',\n",
      "       'T1_win_ratio_14d'],\n",
      "      dtype='object')\n",
      "use season for quality feature is: 2003\n",
      "(9232, 2) (9232,)\n",
      "fin make 2003's team quarity\n",
      "(9142, 2) (9142,)\n"
     ]
    },
    {
     "name": "stderr",
     "output_type": "stream",
     "text": [
      "C:\\Users\\81809\\AppData\\Local\\Temp\\ipykernel_2040\\386782032.py:20: FutureWarning: The provided callable <function mean at 0x0000028316986520> is currently using SeriesGroupBy.mean. In a future version of pandas, the provided callable will be used directly. To keep current behavior pass the string \"mean\" instead.\n",
      "  df_stat = df.groupby(group)[boxscore].agg(func)\n"
     ]
    },
    {
     "name": "stdout",
     "output_type": "stream",
     "text": [
      "fin make 2004's team quarity\n",
      "(9350, 2) (9350,)\n",
      "fin make 2005's team quarity\n",
      "(9514, 2) (9514,)\n",
      "fin make 2006's team quarity\n",
      "(10086, 2) (10086,)\n",
      "fin make 2007's team quarity\n",
      "(10326, 2) (10326,)\n",
      "fin make 2008's team quarity\n",
      "(10498, 2) (10498,)\n"
     ]
    },
    {
     "name": "stdout",
     "output_type": "stream",
     "text": [
      "fin make 2009's team quarity\n",
      "(20600, 2) (20600,)\n",
      "fin make 2010's team quarity\n",
      "(20660, 2) (20660,)\n"
     ]
    },
    {
     "name": "stdout",
     "output_type": "stream",
     "text": [
      "fin make 2011's team quarity\n",
      "(20606, 2) (20606,)\n",
      "fin make 2012's team quarity\n",
      "(21008, 2) (21008,)\n"
     ]
    },
    {
     "name": "stdout",
     "output_type": "stream",
     "text": [
      "fin make 2013's team quarity\n",
      "(21228, 2) (21228,)\n",
      "fin make 2014's team quarity\n",
      "(21136, 2) (21136,)\n"
     ]
    },
    {
     "name": "stdout",
     "output_type": "stream",
     "text": [
      "fin make 2015's team quarity\n",
      "(21156, 2) (21156,)\n",
      "fin make 2016's team quarity\n",
      "(21210, 2) (21210,)\n"
     ]
    },
    {
     "name": "stdout",
     "output_type": "stream",
     "text": [
      "fin make 2017's team quarity\n",
      "(21228, 2) (21228,)\n"
     ]
    },
    {
     "name": "stdout",
     "output_type": "stream",
     "text": [
      "fin make 2018's team quarity\n",
      "(21406, 2) (21406,)\n",
      "fin make 2019's team quarity\n",
      "add glm quality\n",
      "Index(['Season', 'T1_TeamID', 'T1_Scoremean', 'T2_Scoremean', 'PointDiffmean',\n",
      "       'T1_FGAmean', 'T2_FGAmean', 'T1_FGMmean', 'T2_FGMmean',\n",
      "       'T1_EFG_SUMmean', 'T2_EFG_SUMmean', 'T1_TO_RATIOmean',\n",
      "       'T2_TO_RATIOmean', 'T1_ORmean', 'T2_ORmean', 'T1_DRmean', 'T2_DRmean',\n",
      "       'T1_REB_RATEmean', 'T2_REB_RATEmean', 'T1_FT_RATEmean',\n",
      "       'T2_FT_RATEmean', 'T1_POSS_RATEmean', 'T2_POSS_RATEmean', 'T1_Astmean',\n",
      "       'T2_Astmean', 'T1_TOmean', 'T2_TOmean', 'T1_Stlmean', 'T2_Stlmean',\n",
      "       'T1_Blkmean', 'T2_Blkmean', 'T1_PFmean', 'T2_PFmean',\n",
      "       'T1_win_ratio_14d', 'T1_quality'],\n",
      "      dtype='object')\n",
      "add seeds (final form)\n",
      "Index(['Season', 'T1_TeamID', 'T1_Scoremean', 'T2_Scoremean', 'PointDiffmean',\n",
      "       'T1_FGAmean', 'T2_FGAmean', 'T1_FGMmean', 'T2_FGMmean',\n",
      "       'T1_EFG_SUMmean', 'T2_EFG_SUMmean', 'T1_TO_RATIOmean',\n",
      "       'T2_TO_RATIOmean', 'T1_ORmean', 'T2_ORmean', 'T1_DRmean', 'T2_DRmean',\n",
      "       'T1_REB_RATEmean', 'T2_REB_RATEmean', 'T1_FT_RATEmean',\n",
      "       'T2_FT_RATEmean', 'T1_POSS_RATEmean', 'T2_POSS_RATEmean', 'T1_Astmean',\n",
      "       'T2_Astmean', 'T1_TOmean', 'T2_TOmean', 'T1_Stlmean', 'T2_Stlmean',\n",
      "       'T1_Blkmean', 'T2_Blkmean', 'T1_PFmean', 'T2_PFmean',\n",
      "       'T1_win_ratio_14d', 'T1_quality', 'T1_seed'],\n",
      "      dtype='object')\n"
     ]
    },
    {
     "name": "stderr",
     "output_type": "stream",
     "text": [
      "C:\\Users\\81809\\AppData\\Local\\Temp\\ipykernel_2040\\386782032.py:79: FutureWarning: The provided callable <function mean at 0x0000028316986520> is currently using SeriesGroupBy.mean. In a future version of pandas, the provided callable will be used directly. To keep current behavior pass the string \"mean\" instead.\n",
      "  df_rank = ordinal.groupby([\"Season\", \"TeamID\"])[\"OrdinalRank\"].agg(np.mean).reset_index()\n"
     ]
    },
    {
     "name": "stdout",
     "output_type": "stream",
     "text": [
      "add ordinal rank\n",
      "Index(['Season', 'T1_TeamID', 'T1_Scoremean', 'T2_Scoremean', 'PointDiffmean',\n",
      "       'T1_FGAmean', 'T2_FGAmean', 'T1_FGMmean', 'T2_FGMmean',\n",
      "       'T1_EFG_SUMmean', 'T2_EFG_SUMmean', 'T1_TO_RATIOmean',\n",
      "       'T2_TO_RATIOmean', 'T1_ORmean', 'T2_ORmean', 'T1_DRmean', 'T2_DRmean',\n",
      "       'T1_REB_RATEmean', 'T2_REB_RATEmean', 'T1_FT_RATEmean',\n",
      "       'T2_FT_RATEmean', 'T1_POSS_RATEmean', 'T2_POSS_RATEmean', 'T1_Astmean',\n",
      "       'T2_Astmean', 'T1_TOmean', 'T2_TOmean', 'T1_Stlmean', 'T2_Stlmean',\n",
      "       'T1_Blkmean', 'T2_Blkmean', 'T1_PFmean', 'T2_PFmean',\n",
      "       'T1_win_ratio_14d', 'T1_quality', 'T1_seed', 'T1_OrdinalRank'],\n",
      "      dtype='object')\n"
     ]
    },
    {
     "data": {
      "text/html": [
       "<div>\n",
       "<style scoped>\n",
       "    .dataframe tbody tr th:only-of-type {\n",
       "        vertical-align: middle;\n",
       "    }\n",
       "\n",
       "    .dataframe tbody tr th {\n",
       "        vertical-align: top;\n",
       "    }\n",
       "\n",
       "    .dataframe thead th {\n",
       "        text-align: right;\n",
       "    }\n",
       "</style>\n",
       "<table border=\"1\" class=\"dataframe\">\n",
       "  <thead>\n",
       "    <tr style=\"text-align: right;\">\n",
       "      <th></th>\n",
       "      <th>Season</th>\n",
       "      <th>T1_TeamID</th>\n",
       "      <th>T1_Scoremean</th>\n",
       "      <th>T2_Scoremean</th>\n",
       "      <th>PointDiffmean</th>\n",
       "      <th>T1_FGAmean</th>\n",
       "      <th>T2_FGAmean</th>\n",
       "      <th>T1_FGMmean</th>\n",
       "      <th>T2_FGMmean</th>\n",
       "      <th>T1_EFG_SUMmean</th>\n",
       "      <th>...</th>\n",
       "      <th>T1_Stlmean</th>\n",
       "      <th>T2_Stlmean</th>\n",
       "      <th>T1_Blkmean</th>\n",
       "      <th>T2_Blkmean</th>\n",
       "      <th>T1_PFmean</th>\n",
       "      <th>T2_PFmean</th>\n",
       "      <th>T1_win_ratio_14d</th>\n",
       "      <th>T1_quality</th>\n",
       "      <th>T1_seed</th>\n",
       "      <th>T1_OrdinalRank</th>\n",
       "    </tr>\n",
       "  </thead>\n",
       "  <tbody>\n",
       "    <tr>\n",
       "      <th>9298</th>\n",
       "      <td>2019</td>\n",
       "      <td>3462</td>\n",
       "      <td>60.862069</td>\n",
       "      <td>66.482759</td>\n",
       "      <td>-5.620690</td>\n",
       "      <td>57.517241</td>\n",
       "      <td>59.758621</td>\n",
       "      <td>21.896552</td>\n",
       "      <td>24.448276</td>\n",
       "      <td>0.448019</td>\n",
       "      <td>...</td>\n",
       "      <td>7.586207</td>\n",
       "      <td>7.758621</td>\n",
       "      <td>2.586207</td>\n",
       "      <td>3.172414</td>\n",
       "      <td>15.241379</td>\n",
       "      <td>15.172414</td>\n",
       "      <td>0.0</td>\n",
       "      <td>-0.296941</td>\n",
       "      <td>NaN</td>\n",
       "      <td>NaN</td>\n",
       "    </tr>\n",
       "    <tr>\n",
       "      <th>9299</th>\n",
       "      <td>2019</td>\n",
       "      <td>3463</td>\n",
       "      <td>63.344828</td>\n",
       "      <td>61.551724</td>\n",
       "      <td>1.793103</td>\n",
       "      <td>60.517241</td>\n",
       "      <td>60.379310</td>\n",
       "      <td>23.724138</td>\n",
       "      <td>21.965517</td>\n",
       "      <td>0.438814</td>\n",
       "      <td>...</td>\n",
       "      <td>5.172414</td>\n",
       "      <td>8.344828</td>\n",
       "      <td>3.586207</td>\n",
       "      <td>2.517241</td>\n",
       "      <td>16.448276</td>\n",
       "      <td>17.551724</td>\n",
       "      <td>0.0</td>\n",
       "      <td>0.134368</td>\n",
       "      <td>NaN</td>\n",
       "      <td>NaN</td>\n",
       "    </tr>\n",
       "    <tr>\n",
       "      <th>9300</th>\n",
       "      <td>2019</td>\n",
       "      <td>3464</td>\n",
       "      <td>68.137931</td>\n",
       "      <td>58.000000</td>\n",
       "      <td>10.137931</td>\n",
       "      <td>55.758621</td>\n",
       "      <td>58.655172</td>\n",
       "      <td>23.241379</td>\n",
       "      <td>21.862069</td>\n",
       "      <td>0.494845</td>\n",
       "      <td>...</td>\n",
       "      <td>4.344828</td>\n",
       "      <td>7.448276</td>\n",
       "      <td>3.482759</td>\n",
       "      <td>3.482759</td>\n",
       "      <td>13.862069</td>\n",
       "      <td>17.896552</td>\n",
       "      <td>0.5</td>\n",
       "      <td>0.638405</td>\n",
       "      <td>NaN</td>\n",
       "      <td>NaN</td>\n",
       "    </tr>\n",
       "    <tr>\n",
       "      <th>9301</th>\n",
       "      <td>2019</td>\n",
       "      <td>3465</td>\n",
       "      <td>76.200000</td>\n",
       "      <td>69.840000</td>\n",
       "      <td>6.360000</td>\n",
       "      <td>67.520000</td>\n",
       "      <td>69.200000</td>\n",
       "      <td>28.560000</td>\n",
       "      <td>26.600000</td>\n",
       "      <td>0.493625</td>\n",
       "      <td>...</td>\n",
       "      <td>7.280000</td>\n",
       "      <td>7.920000</td>\n",
       "      <td>3.160000</td>\n",
       "      <td>3.160000</td>\n",
       "      <td>15.520000</td>\n",
       "      <td>15.440000</td>\n",
       "      <td>0.5</td>\n",
       "      <td>-0.182555</td>\n",
       "      <td>NaN</td>\n",
       "      <td>NaN</td>\n",
       "    </tr>\n",
       "    <tr>\n",
       "      <th>9302</th>\n",
       "      <td>2019</td>\n",
       "      <td>3466</td>\n",
       "      <td>69.521739</td>\n",
       "      <td>63.217391</td>\n",
       "      <td>6.304348</td>\n",
       "      <td>58.434783</td>\n",
       "      <td>58.260870</td>\n",
       "      <td>24.869565</td>\n",
       "      <td>23.913043</td>\n",
       "      <td>0.478102</td>\n",
       "      <td>...</td>\n",
       "      <td>8.478261</td>\n",
       "      <td>8.478261</td>\n",
       "      <td>3.695652</td>\n",
       "      <td>3.217391</td>\n",
       "      <td>17.478261</td>\n",
       "      <td>19.173913</td>\n",
       "      <td>0.0</td>\n",
       "      <td>0.107970</td>\n",
       "      <td>NaN</td>\n",
       "      <td>NaN</td>\n",
       "    </tr>\n",
       "  </tbody>\n",
       "</table>\n",
       "<p>5 rows × 37 columns</p>\n",
       "</div>"
      ],
      "text/plain": [
       "      Season  T1_TeamID  T1_Scoremean  T2_Scoremean  PointDiffmean  \\\n",
       "9298    2019       3462     60.862069     66.482759      -5.620690   \n",
       "9299    2019       3463     63.344828     61.551724       1.793103   \n",
       "9300    2019       3464     68.137931     58.000000      10.137931   \n",
       "9301    2019       3465     76.200000     69.840000       6.360000   \n",
       "9302    2019       3466     69.521739     63.217391       6.304348   \n",
       "\n",
       "      T1_FGAmean  T2_FGAmean  T1_FGMmean  T2_FGMmean  T1_EFG_SUMmean  ...  \\\n",
       "9298   57.517241   59.758621   21.896552   24.448276        0.448019  ...   \n",
       "9299   60.517241   60.379310   23.724138   21.965517        0.438814  ...   \n",
       "9300   55.758621   58.655172   23.241379   21.862069        0.494845  ...   \n",
       "9301   67.520000   69.200000   28.560000   26.600000        0.493625  ...   \n",
       "9302   58.434783   58.260870   24.869565   23.913043        0.478102  ...   \n",
       "\n",
       "      T1_Stlmean  T2_Stlmean  T1_Blkmean  T2_Blkmean  T1_PFmean  T2_PFmean  \\\n",
       "9298    7.586207    7.758621    2.586207    3.172414  15.241379  15.172414   \n",
       "9299    5.172414    8.344828    3.586207    2.517241  16.448276  17.551724   \n",
       "9300    4.344828    7.448276    3.482759    3.482759  13.862069  17.896552   \n",
       "9301    7.280000    7.920000    3.160000    3.160000  15.520000  15.440000   \n",
       "9302    8.478261    8.478261    3.695652    3.217391  17.478261  19.173913   \n",
       "\n",
       "      T1_win_ratio_14d  T1_quality  T1_seed  T1_OrdinalRank  \n",
       "9298               0.0   -0.296941      NaN             NaN  \n",
       "9299               0.0    0.134368      NaN             NaN  \n",
       "9300               0.5    0.638405      NaN             NaN  \n",
       "9301               0.5   -0.182555      NaN             NaN  \n",
       "9302               0.0    0.107970      NaN             NaN  \n",
       "\n",
       "[5 rows x 37 columns]"
      ]
     },
     "execution_count": 9,
     "metadata": {},
     "output_type": "execute_result"
    }
   ],
   "source": [
    "features = FEATURES.cal_mean_boxscore\n",
    "boxscore_cols = [col for col, use in features.items() if use]\n",
    "print(\"use boxscore col is\")\n",
    "print(boxscore_cols)\n",
    "\n",
    "season_statistics = make_season_statistics(regular_data, boxscore_cols, seeds, func = [np.mean])\n",
    "season_statistics.tail()"
   ]
  },
  {
   "cell_type": "code",
   "execution_count": 10,
   "id": "b5f83887",
   "metadata": {
    "execution": {
     "iopub.execute_input": "2025-03-18T06:26:06.226324Z",
     "iopub.status.busy": "2025-03-18T06:26:06.225784Z",
     "iopub.status.idle": "2025-03-18T06:26:06.237339Z",
     "shell.execute_reply": "2025-03-18T06:26:06.237339Z"
    },
    "papermill": {
     "duration": 0.029786,
     "end_time": "2025-03-18T06:26:06.237339",
     "exception": false,
     "start_time": "2025-03-18T06:26:06.207553",
     "status": "completed"
    },
    "tags": []
   },
   "outputs": [
    {
     "name": "stdout",
     "output_type": "stream",
     "text": [
      "<class 'pandas.core.frame.DataFrame'>\n",
      "RangeIndex: 9303 entries, 0 to 9302\n",
      "Data columns (total 37 columns):\n",
      " #   Column            Non-Null Count  Dtype  \n",
      "---  ------            --------------  -----  \n",
      " 0   Season            9303 non-null   int64  \n",
      " 1   T1_TeamID         9303 non-null   int64  \n",
      " 2   T1_Scoremean      9303 non-null   float64\n",
      " 3   T2_Scoremean      9303 non-null   float64\n",
      " 4   PointDiffmean     9303 non-null   float64\n",
      " 5   T1_FGAmean        9303 non-null   float64\n",
      " 6   T2_FGAmean        9303 non-null   float64\n",
      " 7   T1_FGMmean        9303 non-null   float64\n",
      " 8   T2_FGMmean        9303 non-null   float64\n",
      " 9   T1_EFG_SUMmean    9303 non-null   float64\n",
      " 10  T2_EFG_SUMmean    9303 non-null   float64\n",
      " 11  T1_TO_RATIOmean   9303 non-null   float64\n",
      " 12  T2_TO_RATIOmean   9303 non-null   float64\n",
      " 13  T1_ORmean         9303 non-null   float64\n",
      " 14  T2_ORmean         9303 non-null   float64\n",
      " 15  T1_DRmean         9303 non-null   float64\n",
      " 16  T2_DRmean         9303 non-null   float64\n",
      " 17  T1_REB_RATEmean   9303 non-null   float64\n",
      " 18  T2_REB_RATEmean   9303 non-null   float64\n",
      " 19  T1_FT_RATEmean    9303 non-null   float64\n",
      " 20  T2_FT_RATEmean    9303 non-null   float64\n",
      " 21  T1_POSS_RATEmean  9303 non-null   float64\n",
      " 22  T2_POSS_RATEmean  9303 non-null   float64\n",
      " 23  T1_Astmean        9303 non-null   float64\n",
      " 24  T2_Astmean        9303 non-null   float64\n",
      " 25  T1_TOmean         9303 non-null   float64\n",
      " 26  T2_TOmean         9303 non-null   float64\n",
      " 27  T1_Stlmean        9303 non-null   float64\n",
      " 28  T2_Stlmean        9303 non-null   float64\n",
      " 29  T1_Blkmean        9303 non-null   float64\n",
      " 30  T2_Blkmean        9303 non-null   float64\n",
      " 31  T1_PFmean         9303 non-null   float64\n",
      " 32  T2_PFmean         9303 non-null   float64\n",
      " 33  T1_win_ratio_14d  9000 non-null   float64\n",
      " 34  T1_quality        9303 non-null   float64\n",
      " 35  T1_seed           1772 non-null   float64\n",
      " 36  T1_OrdinalRank    5834 non-null   float64\n",
      "dtypes: float64(35), int64(2)\n",
      "memory usage: 2.6 MB\n"
     ]
    }
   ],
   "source": [
    "season_statistics.info()"
   ]
  },
  {
   "cell_type": "code",
   "execution_count": 11,
   "id": "3ff77c5d",
   "metadata": {
    "execution": {
     "iopub.execute_input": "2025-03-18T06:26:06.243035Z",
     "iopub.status.busy": "2025-03-18T06:26:06.243035Z",
     "iopub.status.idle": "2025-03-18T06:26:06.307130Z",
     "shell.execute_reply": "2025-03-18T06:26:06.307130Z"
    },
    "papermill": {
     "duration": 0.064095,
     "end_time": "2025-03-18T06:26:06.307130",
     "exception": false,
     "start_time": "2025-03-18T06:26:06.243035",
     "status": "completed"
    },
    "tags": []
   },
   "outputs": [],
   "source": [
    "####ボックスscoreの平均に対して、過去３年の加重平均を取るときの処理 ####\n",
    "def get_mean_of_3_season(val_2ps, val_1ps, val_0ps, \n",
    "                         weight_2, weight_1, weight_0, \n",
    "                         degree_weight=1.0\n",
    "                         ):\n",
    "    weight_2 = weight_2**degree_weight\n",
    "    weight_1 = weight_1**degree_weight\n",
    "    weight_0 = weight_0**degree_weight\n",
    "    if val_2ps == 0  and val_1ps == 0:\n",
    "        return val_0ps\n",
    "    elif val_2ps == 0:\n",
    "        return (val_1ps*weight_2 + val_0ps*weight_1)/(weight_2 + weight_1)\n",
    "    else:\n",
    "        sum_of_values = val_2ps*weight_2 + val_1ps*weight_1 + val_0ps*weight_0\n",
    "        return sum_of_values/(weight_2 + weight_1 + weight_0)\n",
    "\n",
    "def get_3_feature(df_team, feature):\n",
    "    value_2_seasons_ago = 0\n",
    "    value_1_season_ago = 0\n",
    "    value_0_season_ago = 0\n",
    "    for _, val in df_team.iterrows():\n",
    "        value_2_seasons_ago = value_1_season_ago\n",
    "        value_1_season_ago = value_0_season_ago\n",
    "        value_0_season_ago = val[feature]\n",
    "    return value_2_seasons_ago, value_1_season_ago, value_0_season_ago\n",
    "\n",
    "def write_mean_of_3_seasons(df, features, weight, degree_weight=1.0):\n",
    "    \"\"\"\n",
    "    val_0ps - current season value\n",
    "    weight_0 - current season weight\n",
    "    val_1ps - last season value\n",
    "    val_2ps - the value of the season before last\n",
    "    \"\"\"\n",
    "    weight_2=weight[0]\n",
    "    weight_1=weight[1]\n",
    "    weight_0=weight[2]\n",
    "    df_copy = df.copy()\n",
    "    suffix = \"_mn3s\"\n",
    "    \n",
    "    for ft in features:\n",
    "        df_copy[ft + suffix] = 0\n",
    "    for idx, val in tqdm(df_copy.iterrows(), total=len(df_copy)):\n",
    "        team = val.T1_TeamID\n",
    "        season = val.Season\n",
    "        df_team = df_copy[(df_copy.T1_TeamID == team)&\n",
    "                          (df_copy.Season <= season)&\n",
    "                          (df_copy.Season > season-3)]\n",
    "        for ft in features:\n",
    "            val_2ps, val_1ps, val_0ps = get_3_feature(df_team, ft)\n",
    "            ft_mean_3 = get_mean_of_3_season(val_2ps, val_1ps, val_0ps, weight_2, weight_1, weight_0, degree_weight=degree_weight)\n",
    "            df_copy.loc[idx, ft + suffix] = ft_mean_3\n",
    "    return df_copy"
   ]
  },
  {
   "cell_type": "code",
   "execution_count": 12,
   "id": "f1c26810",
   "metadata": {
    "execution": {
     "iopub.execute_input": "2025-03-18T06:26:06.322766Z",
     "iopub.status.busy": "2025-03-18T06:26:06.322766Z",
     "iopub.status.idle": "2025-03-18T06:26:06.348194Z",
     "shell.execute_reply": "2025-03-18T06:26:06.348194Z"
    },
    "papermill": {
     "duration": 0.041064,
     "end_time": "2025-03-18T06:26:06.348194",
     "exception": false,
     "start_time": "2025-03-18T06:26:06.307130",
     "status": "completed"
    },
    "tags": []
   },
   "outputs": [
    {
     "name": "stdout",
     "output_type": "stream",
     "text": [
      "#####\n",
      "skip 3 season verage\n",
      "#####\n"
     ]
    },
    {
     "data": {
      "text/html": [
       "<div>\n",
       "<style scoped>\n",
       "    .dataframe tbody tr th:only-of-type {\n",
       "        vertical-align: middle;\n",
       "    }\n",
       "\n",
       "    .dataframe tbody tr th {\n",
       "        vertical-align: top;\n",
       "    }\n",
       "\n",
       "    .dataframe thead th {\n",
       "        text-align: right;\n",
       "    }\n",
       "</style>\n",
       "<table border=\"1\" class=\"dataframe\">\n",
       "  <thead>\n",
       "    <tr style=\"text-align: right;\">\n",
       "      <th></th>\n",
       "      <th>Season</th>\n",
       "      <th>T1_TeamID</th>\n",
       "      <th>T1_Scoremean</th>\n",
       "      <th>T1_opponent_Scoremean</th>\n",
       "      <th>T1_PointDiffmean</th>\n",
       "      <th>T1_FGAmean</th>\n",
       "      <th>T1_opponent_FGAmean</th>\n",
       "      <th>T1_FGMmean</th>\n",
       "      <th>T1_opponent_FGMmean</th>\n",
       "      <th>T1_EFG_SUMmean</th>\n",
       "      <th>...</th>\n",
       "      <th>T1_Stlmean</th>\n",
       "      <th>T1_opponent_Stlmean</th>\n",
       "      <th>T1_Blkmean</th>\n",
       "      <th>T1_opponent_Blkmean</th>\n",
       "      <th>T1_PFmean</th>\n",
       "      <th>T1_opponent_PFmean</th>\n",
       "      <th>T1_win_ratio_14d</th>\n",
       "      <th>T1_quality</th>\n",
       "      <th>T1_seed</th>\n",
       "      <th>T1_OrdinalRank</th>\n",
       "    </tr>\n",
       "  </thead>\n",
       "  <tbody>\n",
       "    <tr>\n",
       "      <th>0</th>\n",
       "      <td>2003</td>\n",
       "      <td>1102</td>\n",
       "      <td>57.250000</td>\n",
       "      <td>57.000000</td>\n",
       "      <td>0.25000</td>\n",
       "      <td>39.785714</td>\n",
       "      <td>42.428571</td>\n",
       "      <td>19.142857</td>\n",
       "      <td>19.285714</td>\n",
       "      <td>0.584407</td>\n",
       "      <td>...</td>\n",
       "      <td>5.964286</td>\n",
       "      <td>5.428571</td>\n",
       "      <td>1.785714</td>\n",
       "      <td>1.571429</td>\n",
       "      <td>18.750000</td>\n",
       "      <td>18.357143</td>\n",
       "      <td>0.333333</td>\n",
       "      <td>-0.070776</td>\n",
       "      <td>NaN</td>\n",
       "      <td>144.2875</td>\n",
       "    </tr>\n",
       "    <tr>\n",
       "      <th>1</th>\n",
       "      <td>2003</td>\n",
       "      <td>1103</td>\n",
       "      <td>78.777778</td>\n",
       "      <td>78.148148</td>\n",
       "      <td>0.62963</td>\n",
       "      <td>55.851852</td>\n",
       "      <td>57.000000</td>\n",
       "      <td>27.148148</td>\n",
       "      <td>27.777778</td>\n",
       "      <td>0.536564</td>\n",
       "      <td>...</td>\n",
       "      <td>7.259259</td>\n",
       "      <td>6.407407</td>\n",
       "      <td>2.333333</td>\n",
       "      <td>2.851852</td>\n",
       "      <td>19.851852</td>\n",
       "      <td>22.444444</td>\n",
       "      <td>0.333333</td>\n",
       "      <td>-0.116192</td>\n",
       "      <td>NaN</td>\n",
       "      <td>182.2050</td>\n",
       "    </tr>\n",
       "  </tbody>\n",
       "</table>\n",
       "<p>2 rows × 37 columns</p>\n",
       "</div>"
      ],
      "text/plain": [
       "   Season  T1_TeamID  T1_Scoremean  T1_opponent_Scoremean  T1_PointDiffmean  \\\n",
       "0    2003       1102     57.250000              57.000000           0.25000   \n",
       "1    2003       1103     78.777778              78.148148           0.62963   \n",
       "\n",
       "   T1_FGAmean  T1_opponent_FGAmean  T1_FGMmean  T1_opponent_FGMmean  \\\n",
       "0   39.785714            42.428571   19.142857            19.285714   \n",
       "1   55.851852            57.000000   27.148148            27.777778   \n",
       "\n",
       "   T1_EFG_SUMmean  ...  T1_Stlmean  T1_opponent_Stlmean  T1_Blkmean  \\\n",
       "0        0.584407  ...    5.964286             5.428571    1.785714   \n",
       "1        0.536564  ...    7.259259             6.407407    2.333333   \n",
       "\n",
       "   T1_opponent_Blkmean  T1_PFmean  T1_opponent_PFmean  T1_win_ratio_14d  \\\n",
       "0             1.571429  18.750000           18.357143          0.333333   \n",
       "1             2.851852  19.851852           22.444444          0.333333   \n",
       "\n",
       "   T1_quality  T1_seed  T1_OrdinalRank  \n",
       "0   -0.070776      NaN        144.2875  \n",
       "1   -0.116192      NaN        182.2050  \n",
       "\n",
       "[2 rows x 37 columns]"
      ]
     },
     "metadata": {},
     "output_type": "display_data"
    },
    {
     "data": {
      "text/html": [
       "<div>\n",
       "<style scoped>\n",
       "    .dataframe tbody tr th:only-of-type {\n",
       "        vertical-align: middle;\n",
       "    }\n",
       "\n",
       "    .dataframe tbody tr th {\n",
       "        vertical-align: top;\n",
       "    }\n",
       "\n",
       "    .dataframe thead th {\n",
       "        text-align: right;\n",
       "    }\n",
       "</style>\n",
       "<table border=\"1\" class=\"dataframe\">\n",
       "  <thead>\n",
       "    <tr style=\"text-align: right;\">\n",
       "      <th></th>\n",
       "      <th>Season</th>\n",
       "      <th>T2_TeamID</th>\n",
       "      <th>T2_Scoremean</th>\n",
       "      <th>T2_opponent_Scoremean</th>\n",
       "      <th>T2_PointDiffmean</th>\n",
       "      <th>T2_FGAmean</th>\n",
       "      <th>T2_opponent_FGAmean</th>\n",
       "      <th>T2_FGMmean</th>\n",
       "      <th>T2_opponent_FGMmean</th>\n",
       "      <th>T2_EFG_SUMmean</th>\n",
       "      <th>...</th>\n",
       "      <th>T2_Stlmean</th>\n",
       "      <th>T2_opponent_Stlmean</th>\n",
       "      <th>T2_Blkmean</th>\n",
       "      <th>T2_opponent_Blkmean</th>\n",
       "      <th>T2_PFmean</th>\n",
       "      <th>T2_opponent_PFmean</th>\n",
       "      <th>T2_win_ratio_14d</th>\n",
       "      <th>T2_quality</th>\n",
       "      <th>T2_seed</th>\n",
       "      <th>T2_OrdinalRank</th>\n",
       "    </tr>\n",
       "  </thead>\n",
       "  <tbody>\n",
       "    <tr>\n",
       "      <th>9301</th>\n",
       "      <td>2019</td>\n",
       "      <td>3465</td>\n",
       "      <td>76.200000</td>\n",
       "      <td>69.840000</td>\n",
       "      <td>6.360000</td>\n",
       "      <td>67.520000</td>\n",
       "      <td>69.20000</td>\n",
       "      <td>28.560000</td>\n",
       "      <td>26.600000</td>\n",
       "      <td>0.493625</td>\n",
       "      <td>...</td>\n",
       "      <td>7.280000</td>\n",
       "      <td>7.920000</td>\n",
       "      <td>3.160000</td>\n",
       "      <td>3.160000</td>\n",
       "      <td>15.520000</td>\n",
       "      <td>15.440000</td>\n",
       "      <td>0.5</td>\n",
       "      <td>-0.182555</td>\n",
       "      <td>NaN</td>\n",
       "      <td>NaN</td>\n",
       "    </tr>\n",
       "    <tr>\n",
       "      <th>9302</th>\n",
       "      <td>2019</td>\n",
       "      <td>3466</td>\n",
       "      <td>69.521739</td>\n",
       "      <td>63.217391</td>\n",
       "      <td>6.304348</td>\n",
       "      <td>58.434783</td>\n",
       "      <td>58.26087</td>\n",
       "      <td>24.869565</td>\n",
       "      <td>23.913043</td>\n",
       "      <td>0.478102</td>\n",
       "      <td>...</td>\n",
       "      <td>8.478261</td>\n",
       "      <td>8.478261</td>\n",
       "      <td>3.695652</td>\n",
       "      <td>3.217391</td>\n",
       "      <td>17.478261</td>\n",
       "      <td>19.173913</td>\n",
       "      <td>0.0</td>\n",
       "      <td>0.107970</td>\n",
       "      <td>NaN</td>\n",
       "      <td>NaN</td>\n",
       "    </tr>\n",
       "  </tbody>\n",
       "</table>\n",
       "<p>2 rows × 37 columns</p>\n",
       "</div>"
      ],
      "text/plain": [
       "      Season  T2_TeamID  T2_Scoremean  T2_opponent_Scoremean  \\\n",
       "9301    2019       3465     76.200000              69.840000   \n",
       "9302    2019       3466     69.521739              63.217391   \n",
       "\n",
       "      T2_PointDiffmean  T2_FGAmean  T2_opponent_FGAmean  T2_FGMmean  \\\n",
       "9301          6.360000   67.520000             69.20000   28.560000   \n",
       "9302          6.304348   58.434783             58.26087   24.869565   \n",
       "\n",
       "      T2_opponent_FGMmean  T2_EFG_SUMmean  ...  T2_Stlmean  \\\n",
       "9301            26.600000        0.493625  ...    7.280000   \n",
       "9302            23.913043        0.478102  ...    8.478261   \n",
       "\n",
       "      T2_opponent_Stlmean  T2_Blkmean  T2_opponent_Blkmean  T2_PFmean  \\\n",
       "9301             7.920000    3.160000             3.160000  15.520000   \n",
       "9302             8.478261    3.695652             3.217391  17.478261   \n",
       "\n",
       "      T2_opponent_PFmean  T2_win_ratio_14d  T2_quality  T2_seed  \\\n",
       "9301           15.440000               0.5   -0.182555      NaN   \n",
       "9302           19.173913               0.0    0.107970      NaN   \n",
       "\n",
       "      T2_OrdinalRank  \n",
       "9301             NaN  \n",
       "9302             NaN  \n",
       "\n",
       "[2 rows x 37 columns]"
      ]
     },
     "metadata": {},
     "output_type": "display_data"
    }
   ],
   "source": [
    "flag_3season_avg = FEATURES.season_average.enabled\n",
    "\n",
    "#trueのときの処理理解してfalseと一致させる\n",
    "if flag_3season_avg:\n",
    "    print(\"#####\")\n",
    "    print(\"use 3 season average\")\n",
    "    print(\"#####\")\n",
    "    weight = FEATURES.season_average.weights\n",
    "    years = FEATURES.season_average.past_years\n",
    "    assert years==len(weight)\n",
    "    \n",
    "    features_for_calc = [\"T1_Scoremean\", \"T1_FGAmean\",  \"T1_FGA3mean\"]\n",
    "    season_statistics_with_3_seas = write_mean_of_3_seasons(\n",
    "        season_statistics, features_for_calc, weight, degree_weight=1.0\n",
    "    )\n",
    "    \n",
    "    season_statistics_T1 = season_statistics_with_3_seas.copy()\n",
    "    season_statistics_T2 = season_statistics_with_3_seas.copy()\n",
    "    \n",
    "else:\n",
    "    print(\"#####\")\n",
    "    print(\"skip 3 season verage\")\n",
    "    print(\"#####\")\n",
    "    season_statistics_T1 = season_statistics.copy()\n",
    "    season_statistics_T2 = season_statistics.copy()\n",
    "\n",
    "season_statistics_T1.columns = [\"T1_\" + x.replace(\"T1_\",\"\").replace(\"T2_\",\"opponent_\") for x in list(season_statistics_T1.columns)]\n",
    "season_statistics_T2.columns = [\"T2_\" + x.replace(\"T1_\",\"\").replace(\"T2_\",\"opponent_\") for x in list(season_statistics_T2.columns)]\n",
    "season_statistics_T1.columns.values[0] = \"Season\"\n",
    "season_statistics_T2.columns.values[0] = \"Season\"\n",
    "\n",
    "\n",
    "season_statistics_T2.rename(columns = {\n",
    "    \"T1_TeamID\": \"T2_TeamID\"\n",
    "}, inplace=True)\n",
    "display(season_statistics_T1.head(2), season_statistics_T2.tail(2))"
   ]
  },
  {
   "cell_type": "markdown",
   "id": "828f6014",
   "metadata": {
    "papermill": {
     "duration": 0.0,
     "end_time": "2025-03-18T06:26:06.354352",
     "exception": false,
     "start_time": "2025-03-18T06:26:06.354352",
     "status": "completed"
    },
    "tags": []
   },
   "source": [
    "# Toureney dataの処理\n",
    "1. pointdiff, pointが目的変数となるのでそれはyに分離\n",
    "2. seasonstatisticを結合したものをXとして作る"
   ]
  },
  {
   "cell_type": "code",
   "execution_count": 13,
   "id": "6c1905a4",
   "metadata": {
    "execution": {
     "iopub.execute_input": "2025-03-18T06:26:06.376697Z",
     "iopub.status.busy": "2025-03-18T06:26:06.376697Z",
     "iopub.status.idle": "2025-03-18T06:26:06.387249Z",
     "shell.execute_reply": "2025-03-18T06:26:06.387249Z"
    },
    "papermill": {
     "duration": 0.01555,
     "end_time": "2025-03-18T06:26:06.387249",
     "exception": false,
     "start_time": "2025-03-18T06:26:06.371699",
     "status": "completed"
    },
    "tags": []
   },
   "outputs": [],
   "source": [
    "\n",
    "def process_tourney(df1, mode=\"tourney\"):\n",
    "    #Season, teamid ->X, team_score->y\n",
    "    df = df1.copy()\n",
    "    if mode==\"tourney\":\n",
    "        df = prepare_data(df) \n",
    "        y = df[\"T1_Score\"]-df[\"T2_Score\"]\n",
    "    X = df[['Season', 'T1_TeamID', 'T2_TeamID']]\n",
    "    X = pd.merge(X, season_statistics_T1, on = ['Season', 'T1_TeamID'], how = 'left')\n",
    "    X = pd.merge(X, season_statistics_T2, on = ['Season', 'T2_TeamID'], how = 'left')\n",
    "    \n",
    "    #seed->seed diff\n",
    "    X[\"seed_diff\"] = X[\"T1_seed\"] - X[\"T2_seed\"]\n",
    "    #rank->rank diff\n",
    "    X[\"rank_diff\"] = X[\"T1_OrdinalRank\"] - X[\"T2_OrdinalRank\"]\n",
    "    #quality->quality diff\n",
    "    X[\"quality_diff\"] = X[\"T1_quality\"] - X[\"T2_quality\"]\n",
    "    #win_ratio_14d -> win_raio_14d_diff\n",
    "    X[\"win_ratio_14d_diff\"] = X[\"T1_win_ratio_14d\"] - X[\"T2_win_ratio_14d\"]\n",
    "    #tourney_data.drop(columns=[\"T1_seed\", \"T2_seed\"], inplace=True)\n",
    "\n",
    "    X = X.drop(columns=[\"T1_seed\", \"T2_seed\", \"T1_OrdinalRank\", \"T2_OrdinalRank\", \n",
    "                        \"T1_quality\", \"T2_quality\", \"T1_win_ratio_14d\", \"T2_win_ratio_14d\"\n",
    "                        ])\n",
    "    \n",
    "    if FEATURES.T1_FGAdiff: \n",
    "        X[\"T1_FGA_diff\"] = X[\"T1_FGAmean\"] - X[\"T1_opponent_FGAmean\"]\n",
    "        X[\"T2_FGA_diff\"] = X[\"T2_FGAmean\"] - X[\"T2_opponent_FGAmean\"]\n",
    "        X = X.drop(columns=[\"T1_FGAmean\", \"T2_FGAmean\", \"T1_opponent_FGAmean\", \"T2_opponent_FGAmean\"])\n",
    "        \n",
    "    # if rank_diff is False, drop.\n",
    "    IS_RANKDIFF = FEATURES.rank_diff\n",
    "    if not IS_RANKDIFF:\n",
    "        X = X.drop(columns=[\"rank_diff\"])\n",
    "        print(\"drop rank_diff\")\n",
    "    \n",
    "    # if fillna is true-> run fillna()\n",
    "    FILLNA = FEATURES.fillna.quality\n",
    "    if FILLNA==\"nan\":\n",
    "        print(f\"no fillna, use nan\")\n",
    "        X[\"quality_diff\"] = X[\"quality_diff\"].fillna(np.nan)\n",
    "    else:\n",
    "        print(f\"fillna quality feature for {FILLNA}\")\n",
    "        X[\"quality_diff\"] = X[\"quality_diff\"].fillna(FILLNA)\n",
    "\n",
    "        \n",
    "    return X, y if mode==\"tourney\" else X"
   ]
  },
  {
   "cell_type": "code",
   "execution_count": 14,
   "id": "225b52df",
   "metadata": {
    "execution": {
     "iopub.execute_input": "2025-03-18T06:26:06.408831Z",
     "iopub.status.busy": "2025-03-18T06:26:06.408831Z",
     "iopub.status.idle": "2025-03-18T06:26:06.440921Z",
     "shell.execute_reply": "2025-03-18T06:26:06.439904Z"
    },
    "papermill": {
     "duration": 0.042544,
     "end_time": "2025-03-18T06:26:06.440921",
     "exception": false,
     "start_time": "2025-03-18T06:26:06.398377",
     "status": "completed"
    },
    "tags": []
   },
   "outputs": [
    {
     "name": "stdout",
     "output_type": "stream",
     "text": [
      "<class 'pandas.core.frame.DataFrame'>\n",
      "Index: 1615 entries, 0 to 1948\n",
      "Data columns (total 56 columns):\n",
      " #   Column       Non-Null Count  Dtype  \n",
      "---  ------       --------------  -----  \n",
      " 0   Season       1615 non-null   int64  \n",
      " 1   DayNum       1615 non-null   int64  \n",
      " 2   WTeamID      1615 non-null   int64  \n",
      " 3   WScore       1615 non-null   int64  \n",
      " 4   LTeamID      1615 non-null   int64  \n",
      " 5   LScore       1615 non-null   int64  \n",
      " 6   WLoc         1615 non-null   object \n",
      " 7   NumOT        1615 non-null   int64  \n",
      " 8   WFGM         1615 non-null   int64  \n",
      " 9   WFGA         1615 non-null   int64  \n",
      " 10  WFGM3        1615 non-null   int64  \n",
      " 11  WFGA3        1615 non-null   int64  \n",
      " 12  WFTM         1615 non-null   int64  \n",
      " 13  WFTA         1615 non-null   int64  \n",
      " 14  WOR          1615 non-null   int64  \n",
      " 15  WDR          1615 non-null   int64  \n",
      " 16  WAst         1615 non-null   int64  \n",
      " 17  WTO          1615 non-null   int64  \n",
      " 18  WStl         1615 non-null   int64  \n",
      " 19  WBlk         1615 non-null   int64  \n",
      " 20  WPF          1615 non-null   int64  \n",
      " 21  LFGM         1615 non-null   int64  \n",
      " 22  LFGA         1615 non-null   int64  \n",
      " 23  LFGM3        1615 non-null   int64  \n",
      " 24  LFGA3        1615 non-null   int64  \n",
      " 25  LFTM         1615 non-null   int64  \n",
      " 26  LFTA         1615 non-null   int64  \n",
      " 27  LOR          1615 non-null   int64  \n",
      " 28  LDR          1615 non-null   int64  \n",
      " 29  LAst         1615 non-null   int64  \n",
      " 30  LTO          1615 non-null   int64  \n",
      " 31  LStl         1615 non-null   int64  \n",
      " 32  LBlk         1615 non-null   int64  \n",
      " 33  LPF          1615 non-null   int64  \n",
      " 34  WEFFG        1615 non-null   float64\n",
      " 35  LEFFG        1615 non-null   float64\n",
      " 36  WEFFG3       1615 non-null   float64\n",
      " 37  LEFFG3       1615 non-null   float64\n",
      " 38  WDARE        1615 non-null   float64\n",
      " 39  LDARE        1615 non-null   float64\n",
      " 40  WTOQUETOQUE  1615 non-null   float64\n",
      " 41  LTOQUETOQUE  1615 non-null   float64\n",
      " 42  WEFG_SUM     1615 non-null   float64\n",
      " 43  LEFG_SUM     1615 non-null   float64\n",
      " 44  WPOSS        1615 non-null   float64\n",
      " 45  LPOSS        1615 non-null   float64\n",
      " 46  WPOSS_RATE   1615 non-null   float64\n",
      " 47  LPOSS_RATE   1615 non-null   float64\n",
      " 48  WTO_RATIO    1615 non-null   float64\n",
      " 49  LTO_RATIO    1615 non-null   float64\n",
      " 50  WREB_RATE    1615 non-null   float64\n",
      " 51  LREB_RATE    1615 non-null   float64\n",
      " 52  WFT_RATE     1615 non-null   float64\n",
      " 53  LFT_RATE     1615 non-null   float64\n",
      " 54  WRATING      1615 non-null   float64\n",
      " 55  LRATING      1615 non-null   float64\n",
      "dtypes: float64(22), int64(33), object(1)\n",
      "memory usage: 719.2+ KB\n",
      "None\n",
      "feature cols after prepare()\n",
      "Index(['Season', 'DayNum', 'T1_TeamID', 'T1_Score', 'T2_TeamID', 'T2_Score',\n",
      "       'location', 'NumOT', 'T1_FGM', 'T1_FGA', 'T1_FGM3', 'T1_FGA3', 'T1_FTM',\n",
      "       'T1_FTA', 'T1_OR', 'T1_DR', 'T1_Ast', 'T1_TO', 'T1_Stl', 'T1_Blk',\n",
      "       'T1_PF', 'T2_FGM', 'T2_FGA', 'T2_FGM3', 'T2_FGA3', 'T2_FTM', 'T2_FTA',\n",
      "       'T2_OR', 'T2_DR', 'T2_Ast', 'T2_TO', 'T2_Stl', 'T2_Blk', 'T2_PF',\n",
      "       'T1_EFFG', 'T2_EFFG', 'T1_EFFG3', 'T2_EFFG3', 'T1_DARE', 'T2_DARE',\n",
      "       'T1_TOQUETOQUE', 'T2_TOQUETOQUE', 'T1_EFG_SUM', 'T2_EFG_SUM', 'T1_POSS',\n",
      "       'T2_POSS', 'T1_POSS_RATE', 'T2_POSS_RATE', 'T1_TO_RATIO', 'T2_TO_RATIO',\n",
      "       'T1_REB_RATE', 'T2_REB_RATE', 'T1_FT_RATE', 'T2_FT_RATE', 'T1_RATING',\n",
      "       'T2_RATING', 'PointDiff', 'win'],\n",
      "      dtype='object')\n",
      "no fillna, use nan\n"
     ]
    }
   ],
   "source": [
    "X, y = process_tourney(tourney_results)"
   ]
  },
  {
   "cell_type": "code",
   "execution_count": 15,
   "id": "e5059fe6",
   "metadata": {
    "execution": {
     "iopub.execute_input": "2025-03-18T06:26:06.456838Z",
     "iopub.status.busy": "2025-03-18T06:26:06.456838Z",
     "iopub.status.idle": "2025-03-18T06:26:06.466665Z",
     "shell.execute_reply": "2025-03-18T06:26:06.466665Z"
    },
    "papermill": {
     "duration": 0.025744,
     "end_time": "2025-03-18T06:26:06.466665",
     "exception": false,
     "start_time": "2025-03-18T06:26:06.440921",
     "status": "completed"
    },
    "tags": []
   },
   "outputs": [
    {
     "name": "stdout",
     "output_type": "stream",
     "text": [
      "drop col list: ['T1_TOmean', 'T2_TOmean', 'T1_opponent_POSS_RATEmean', 'T2_opponent_POSS_RATEmean', 'T1_opponent_Astmean', 'T2_opponent_Astmean', 'T1_opponent_FT_RATEmean', 'T2_opponent_FT_RATEmean', 'T1_opponent_Stlmean', 'T2_opponent_Stlmean', 'T1_ORmean', 'T2_ORmean', 'T1_opponent_ORmean', 'T2_opponent_ORmean', 'T1_TeamID', 'T2_TeamID', 'Season']\n"
     ]
    }
   ],
   "source": [
    "#opponentなど明示的に特徴量選出に基づいて落とす\n",
    "def drop_columns(df, cols):\n",
    "    if not cols: return df\n",
    "    existing_cols = [col for col in cols if col in df.columns]\n",
    "    print(f\"drop col list: {existing_cols}\")\n",
    "    return df.drop(columns=existing_cols)\n",
    "\n",
    "drop_col = FEATURES.dropfeatures\n",
    "X = drop_columns(X, drop_col)"
   ]
  },
  {
   "cell_type": "code",
   "execution_count": 16,
   "id": "c0514e8c",
   "metadata": {
    "execution": {
     "iopub.execute_input": "2025-03-18T06:26:06.472726Z",
     "iopub.status.busy": "2025-03-18T06:26:06.472726Z",
     "iopub.status.idle": "2025-03-18T06:26:06.491522Z",
     "shell.execute_reply": "2025-03-18T06:26:06.490509Z"
    },
    "papermill": {
     "duration": 0.019798,
     "end_time": "2025-03-18T06:26:06.492524",
     "exception": false,
     "start_time": "2025-03-18T06:26:06.472726",
     "status": "completed"
    },
    "tags": []
   },
   "outputs": [
    {
     "name": "stdout",
     "output_type": "stream",
     "text": [
      "最終的な X の特徴量\n",
      "Index(['T1_Scoremean', 'T1_opponent_Scoremean', 'T1_PointDiffmean',\n",
      "       'T1_FGAmean', 'T1_opponent_FGAmean', 'T1_FGMmean',\n",
      "       'T1_opponent_FGMmean', 'T1_EFG_SUMmean', 'T1_opponent_EFG_SUMmean',\n",
      "       'T1_TO_RATIOmean', 'T1_opponent_TO_RATIOmean', 'T1_DRmean',\n",
      "       'T1_opponent_DRmean', 'T1_REB_RATEmean', 'T1_opponent_REB_RATEmean',\n",
      "       'T1_FT_RATEmean', 'T1_POSS_RATEmean', 'T1_Astmean',\n",
      "       'T1_opponent_TOmean', 'T1_Stlmean', 'T1_Blkmean', 'T1_opponent_Blkmean',\n",
      "       'T1_PFmean', 'T1_opponent_PFmean', 'T2_Scoremean',\n",
      "       'T2_opponent_Scoremean', 'T2_PointDiffmean', 'T2_FGAmean',\n",
      "       'T2_opponent_FGAmean', 'T2_FGMmean', 'T2_opponent_FGMmean',\n",
      "       'T2_EFG_SUMmean', 'T2_opponent_EFG_SUMmean', 'T2_TO_RATIOmean',\n",
      "       'T2_opponent_TO_RATIOmean', 'T2_DRmean', 'T2_opponent_DRmean',\n",
      "       'T2_REB_RATEmean', 'T2_opponent_REB_RATEmean', 'T2_FT_RATEmean',\n",
      "       'T2_POSS_RATEmean', 'T2_Astmean', 'T2_opponent_TOmean', 'T2_Stlmean',\n",
      "       'T2_Blkmean', 'T2_opponent_Blkmean', 'T2_PFmean', 'T2_opponent_PFmean',\n",
      "       'seed_diff', 'rank_diff', 'quality_diff', 'win_ratio_14d_diff'],\n",
      "      dtype='object')\n"
     ]
    }
   ],
   "source": [
    "print(\"最終的な X の特徴量\")\n",
    "print(X.columns)"
   ]
  },
  {
   "cell_type": "code",
   "execution_count": 17,
   "id": "2077aa67",
   "metadata": {
    "execution": {
     "iopub.execute_input": "2025-03-18T06:26:06.508060Z",
     "iopub.status.busy": "2025-03-18T06:26:06.508060Z",
     "iopub.status.idle": "2025-03-18T06:26:06.520266Z",
     "shell.execute_reply": "2025-03-18T06:26:06.520266Z"
    },
    "papermill": {
     "duration": 0.021755,
     "end_time": "2025-03-18T06:26:06.522279",
     "exception": false,
     "start_time": "2025-03-18T06:26:06.500524",
     "status": "completed"
    },
    "tags": []
   },
   "outputs": [
    {
     "name": "stdout",
     "output_type": "stream",
     "text": [
      "<class 'pandas.core.frame.DataFrame'>\n",
      "RangeIndex: 3230 entries, 0 to 3229\n",
      "Data columns (total 52 columns):\n",
      " #   Column                    Non-Null Count  Dtype  \n",
      "---  ------                    --------------  -----  \n",
      " 0   T1_Scoremean              3230 non-null   float64\n",
      " 1   T1_opponent_Scoremean     3230 non-null   float64\n",
      " 2   T1_PointDiffmean          3230 non-null   float64\n",
      " 3   T1_FGAmean                3230 non-null   float64\n",
      " 4   T1_opponent_FGAmean       3230 non-null   float64\n",
      " 5   T1_FGMmean                3230 non-null   float64\n",
      " 6   T1_opponent_FGMmean       3230 non-null   float64\n",
      " 7   T1_EFG_SUMmean            3230 non-null   float64\n",
      " 8   T1_opponent_EFG_SUMmean   3230 non-null   float64\n",
      " 9   T1_TO_RATIOmean           3230 non-null   float64\n",
      " 10  T1_opponent_TO_RATIOmean  3230 non-null   float64\n",
      " 11  T1_DRmean                 3230 non-null   float64\n",
      " 12  T1_opponent_DRmean        3230 non-null   float64\n",
      " 13  T1_REB_RATEmean           3230 non-null   float64\n",
      " 14  T1_opponent_REB_RATEmean  3230 non-null   float64\n",
      " 15  T1_FT_RATEmean            3230 non-null   float64\n",
      " 16  T1_POSS_RATEmean          3230 non-null   float64\n",
      " 17  T1_Astmean                3230 non-null   float64\n",
      " 18  T1_opponent_TOmean        3230 non-null   float64\n",
      " 19  T1_Stlmean                3230 non-null   float64\n",
      " 20  T1_Blkmean                3230 non-null   float64\n",
      " 21  T1_opponent_Blkmean       3230 non-null   float64\n",
      " 22  T1_PFmean                 3230 non-null   float64\n",
      " 23  T1_opponent_PFmean        3230 non-null   float64\n",
      " 24  T2_Scoremean              3230 non-null   float64\n",
      " 25  T2_opponent_Scoremean     3230 non-null   float64\n",
      " 26  T2_PointDiffmean          3230 non-null   float64\n",
      " 27  T2_FGAmean                3230 non-null   float64\n",
      " 28  T2_opponent_FGAmean       3230 non-null   float64\n",
      " 29  T2_FGMmean                3230 non-null   float64\n",
      " 30  T2_opponent_FGMmean       3230 non-null   float64\n",
      " 31  T2_EFG_SUMmean            3230 non-null   float64\n",
      " 32  T2_opponent_EFG_SUMmean   3230 non-null   float64\n",
      " 33  T2_TO_RATIOmean           3230 non-null   float64\n",
      " 34  T2_opponent_TO_RATIOmean  3230 non-null   float64\n",
      " 35  T2_DRmean                 3230 non-null   float64\n",
      " 36  T2_opponent_DRmean        3230 non-null   float64\n",
      " 37  T2_REB_RATEmean           3230 non-null   float64\n",
      " 38  T2_opponent_REB_RATEmean  3230 non-null   float64\n",
      " 39  T2_FT_RATEmean            3230 non-null   float64\n",
      " 40  T2_POSS_RATEmean          3230 non-null   float64\n",
      " 41  T2_Astmean                3230 non-null   float64\n",
      " 42  T2_opponent_TOmean        3230 non-null   float64\n",
      " 43  T2_Stlmean                3230 non-null   float64\n",
      " 44  T2_Blkmean                3230 non-null   float64\n",
      " 45  T2_opponent_Blkmean       3230 non-null   float64\n",
      " 46  T2_PFmean                 3230 non-null   float64\n",
      " 47  T2_opponent_PFmean        3230 non-null   float64\n",
      " 48  seed_diff                 3230 non-null   float64\n",
      " 49  rank_diff                 2096 non-null   float64\n",
      " 50  quality_diff              3230 non-null   float64\n",
      " 51  win_ratio_14d_diff        3230 non-null   float64\n",
      "dtypes: float64(52)\n",
      "memory usage: 1.3 MB\n"
     ]
    }
   ],
   "source": [
    "X.info()"
   ]
  },
  {
   "cell_type": "markdown",
   "id": "f2db0bba",
   "metadata": {
    "papermill": {
     "duration": 0.015655,
     "end_time": "2025-03-18T06:26:06.540651",
     "exception": false,
     "start_time": "2025-03-18T06:26:06.524996",
     "status": "completed"
    },
    "tags": []
   },
   "source": [
    "# build models"
   ]
  },
  {
   "cell_type": "code",
   "execution_count": 18,
   "id": "eb48dc5f",
   "metadata": {
    "execution": {
     "iopub.execute_input": "2025-03-18T06:26:06.557698Z",
     "iopub.status.busy": "2025-03-18T06:26:06.557698Z",
     "iopub.status.idle": "2025-03-18T06:26:06.574251Z",
     "shell.execute_reply": "2025-03-18T06:26:06.573744Z"
    },
    "papermill": {
     "duration": 0.026551,
     "end_time": "2025-03-18T06:26:06.575262",
     "exception": false,
     "start_time": "2025-03-18T06:26:06.548711",
     "status": "completed"
    },
    "tags": []
   },
   "outputs": [],
   "source": [
    "\n",
    "val_mae = []\n",
    "iteration_counts = []\n",
    "xgb_cv = []\n",
    "dtrain = xgb.DMatrix(X, label=y)\n",
    "\n",
    "repeat_cv = MODEL.repeat_cv\n",
    "param = dict(MODEL.xgb_model.param)\n",
    "num_boost_round = MODEL.xgb_model.num_boost_round\n",
    "folds_splits = MODEL.xgb_model.folds_splits\n",
    "early_stopping_rounds = MODEL.xgb_model.early_stopping_rounds\n",
    "\n",
    "# コーシー損失関数\n",
    "def cauchyobj(preds, dtrain):\n",
    "    labels = dtrain.get_label()\n",
    "    c = 5000\n",
    "    x = preds - labels    \n",
    "    grad = x / (x**2/c**2 + 1)\n",
    "    hess = -c**2 * (x**2 - c**2) / (x**2 + c**2)**2\n",
    "    return grad, hess"
   ]
  },
  {
   "cell_type": "code",
   "execution_count": 19,
   "id": "ba989c83",
   "metadata": {
    "execution": {
     "iopub.execute_input": "2025-03-18T06:26:06.600409Z",
     "iopub.status.busy": "2025-03-18T06:26:06.600409Z",
     "iopub.status.idle": "2025-03-18T06:26:06.616321Z",
     "shell.execute_reply": "2025-03-18T06:26:06.616321Z"
    },
    "papermill": {
     "duration": 0.030984,
     "end_time": "2025-03-18T06:26:06.618328",
     "exception": false,
     "start_time": "2025-03-18T06:26:06.587344",
     "status": "completed"
    },
    "tags": []
   },
   "outputs": [],
   "source": [
    "#########################################\n",
    "# 1. Optunaあり：ハイパーパラメータ最適化 #\n",
    "#########################################\n",
    "def run_optuna_optimization(param, optuna_conf):\n",
    "    def objective(trial):  \n",
    "        logger.info(f\"Trial {trial.number} 開始\")\n",
    "        \n",
    "        current_param = param.copy()  \n",
    "        max_depth_range = optuna_conf.max_depth        \n",
    "        eta_range = optuna_conf.eta\n",
    "        subsample_range = optuna_conf.subsample          \n",
    "        colsample_bytree_range = optuna_conf.colsample_bytree\n",
    "        num_parallel_tree_range = optuna_conf.num_parallel_tree \n",
    "        min_child_weight_range = optuna_conf.min_child_weight \n",
    "        reg_alpha_range = optuna_conf.reg_alpha         \n",
    "        reg_lambda_range = optuna_conf.reg_lambda    \n",
    "        reg_gamma_range = optuna_conf.gamma  \n",
    "\n",
    "        current_param[\"max_depth\"] = trial.suggest_int(\"max_depth\", max_depth_range[0], max_depth_range[1])\n",
    "        current_param[\"eta\"] = trial.suggest_float(\"eta\", eta_range[0], eta_range[1], log=True)\n",
    "        current_param[\"subsample\"] = trial.suggest_float(\"subsample\", subsample_range[0], subsample_range[1])\n",
    "        current_param[\"colsample_bytree\"] = trial.suggest_float(\"colsample_bytree\", colsample_bytree_range[0], colsample_bytree_range[1])\n",
    "        current_param[\"num_parallel_tree\"] = trial.suggest_int(\"num_parallel_tree\", num_parallel_tree_range[0], num_parallel_tree_range[1])\n",
    "        current_param[\"min_child_weight\"] = trial.suggest_int(\"min_child_weight\", min_child_weight_range[0], min_child_weight_range[1])\n",
    "        current_param[\"reg_alpha\"] = trial.suggest_float(\"reg_alpha\", reg_alpha_range[0], reg_alpha_range[1])\n",
    "        current_param[\"reg_lambda\"] = trial.suggest_float(\"reg_lambda\", reg_lambda_range[0], reg_lambda_range[1])\n",
    "        current_param[\"gamma\"] = trial.suggest_float(\"gamma\", reg_gamma_range[0], reg_gamma_range[1])\n",
    "        \n",
    "        if current_param.get(\"eval_metric\", \"mae\") == \"rmse\":\n",
    "            score_name = \"test-rmse-mean\"\n",
    "        elif current_param.get(\"eval_metric\", \"mae\") == \"mae\":\n",
    "            score_name = \"test-mae-mean\"\n",
    "        elif  current_param.get(\"eval_metric\", \"mae\") == \"logloss\":\n",
    "            score_name = \"test-logloss-mean\"\n",
    "        \n",
    "        print(current_param)  \n",
    "        cv_scores = []\n",
    "        for i in range(repeat_cv):\n",
    "            cv_result = xgb.cv(\n",
    "                params=current_param,\n",
    "                dtrain=dtrain,\n",
    "                obj=cauchyobj,\n",
    "                num_boost_round=num_boost_round,\n",
    "                folds=KFold(n_splits=folds_splits, shuffle=True, random_state=i),\n",
    "                early_stopping_rounds=early_stopping_rounds,\n",
    "                verbose_eval=False\n",
    "            )\n",
    "            fold_score = np.min(cv_result[score_name].values)\n",
    "            cv_scores.append(fold_score)\n",
    "        mean_score = np.mean(cv_scores)\n",
    "        logger.info(f\"Trial {trial.number} 終了: スコア {mean_score}\")\n",
    "        \n",
    "        return mean_score\n",
    "\n",
    "    logger.info(\"Optuna最適化開始\")\n",
    "    N_WARMUP_STEPS = optuna_conf.n_warmup_steps\n",
    "    TIMEOUT = optuna_conf.timeout\n",
    "    N_JOBS = optuna_conf.n_jobs\n",
    "    N_TRIALS = optuna_conf.n_trials\n",
    "    \n",
    "    sampler = optuna.samplers.TPESampler(seed=42)\n",
    "    pruner = optuna.pruners.MedianPruner(n_warmup_steps=N_WARMUP_STEPS)\n",
    "\n",
    "    study = optuna.create_study(direction=\"minimize\", sampler=sampler, pruner=pruner)\n",
    "    study.optimize(objective, n_trials=N_TRIALS, timeout=TIMEOUT, n_jobs=N_JOBS)\n",
    "\n",
    "    best_trial = study.best_trial\n",
    "    logger.info(\"Best trial:\")\n",
    "    logger.info(f\"  Value: {best_trial.value}\")\n",
    "    \n",
    "    for key, value in best_trial.params.items():\n",
    "        print(f\"    {key}: {value}\")\n",
    "    param.update(best_trial.params)\n",
    "\n",
    "    logger.info(\"Optuna最適化終了\")\n",
    "    return param"
   ]
  },
  {
   "cell_type": "code",
   "execution_count": 20,
   "id": "0cf77e77",
   "metadata": {
    "execution": {
     "iopub.execute_input": "2025-03-18T06:26:06.643583Z",
     "iopub.status.busy": "2025-03-18T06:26:06.643583Z",
     "iopub.status.idle": "2025-03-18T06:26:06.649941Z",
     "shell.execute_reply": "2025-03-18T06:26:06.649436Z"
    },
    "papermill": {
     "duration": 0.020613,
     "end_time": "2025-03-18T06:26:06.650949",
     "exception": false,
     "start_time": "2025-03-18T06:26:06.630336",
     "status": "completed"
    },
    "tags": []
   },
   "outputs": [
    {
     "name": "stdout",
     "output_type": "stream",
     "text": [
      "not use Optuna, use xgb_model.param\n",
      "param: {'eval_metric': 'rmse', 'booster': 'gbtree', 'eta': 0.02, 'subsample': 0.35, 'colsample_bytree': 0.7, 'num_parallel_tree': 10, 'min_child_weight': 40, 'gamma': 10, 'max_depth': 3}\n",
      "repeat_cv: 10\n",
      "num_boost_round: 3000\n",
      "folds_splits: 5\n",
      "early_stopping_rounds: 25\n"
     ]
    }
   ],
   "source": [
    "IS_OPTUNA = MODEL.optuna_enabled\n",
    "if IS_OPTUNA:\n",
    "    print(\"Optuna use mode\") \n",
    "    optuna_conf = MODEL.xgb_model.optuna\n",
    "    logger.add(os.path.join(OUTPUT_PATH, \"results.log\"), format=\"{time:YYYY-MM-DD at HH:mm:ss} - {level} - {message}\", level=\"INFO\")\n",
    "    param = run_optuna_optimization(param, optuna_conf)\n",
    "    print(\"param updated by optuna\")\n",
    "    results+= [\"param set after optuna is below\", f\"{param}\", \"\"]\n",
    "else:    \n",
    "    print(\"not use Optuna, use xgb_model.param\")\n",
    "\n",
    "\n",
    "\n",
    "print(\"param:\", param)\n",
    "print(\"repeat_cv:\", repeat_cv)\n",
    "print(\"num_boost_round:\", num_boost_round)\n",
    "print(\"folds_splits:\", folds_splits)\n",
    "print(\"early_stopping_rounds:\", early_stopping_rounds)"
   ]
  },
  {
   "cell_type": "code",
   "execution_count": 21,
   "id": "142f5f20",
   "metadata": {
    "execution": {
     "iopub.execute_input": "2025-03-18T06:26:06.675367Z",
     "iopub.status.busy": "2025-03-18T06:26:06.675367Z",
     "iopub.status.idle": "2025-03-18T06:32:54.561111Z",
     "shell.execute_reply": "2025-03-18T06:32:54.559265Z"
    },
    "papermill": {
     "duration": 407.900578,
     "end_time": "2025-03-18T06:32:54.563883",
     "exception": false,
     "start_time": "2025-03-18T06:26:06.663305",
     "status": "completed"
    },
    "tags": []
   },
   "outputs": [
    {
     "name": "stderr",
     "output_type": "stream",
     "text": [
      "\r",
      "  0%|                                                                                                                                                                                                                                      | 0/10 [00:00<?, ?it/s]"
     ]
    },
    {
     "name": "stdout",
     "output_type": "stream",
     "text": [
      "[0]\ttrain-rmse:17.10151+0.03203\ttest-rmse:17.10527+0.13450\n"
     ]
    },
    {
     "name": "stdout",
     "output_type": "stream",
     "text": [
      "[50]\ttrain-rmse:13.07364+0.04753\ttest-rmse:13.27344+0.18015\n"
     ]
    },
    {
     "name": "stdout",
     "output_type": "stream",
     "text": [
      "[100]\ttrain-rmse:11.98906+0.04486\ttest-rmse:12.35641+0.19264\n"
     ]
    },
    {
     "name": "stdout",
     "output_type": "stream",
     "text": [
      "[150]\ttrain-rmse:11.57037+0.04392\ttest-rmse:12.08807+0.18656\n"
     ]
    },
    {
     "name": "stdout",
     "output_type": "stream",
     "text": [
      "[200]\ttrain-rmse:11.31513+0.04605\ttest-rmse:11.97756+0.18588\n"
     ]
    },
    {
     "name": "stdout",
     "output_type": "stream",
     "text": [
      "[250]\ttrain-rmse:11.11827+0.04427\ttest-rmse:11.92285+0.18341\n"
     ]
    },
    {
     "name": "stdout",
     "output_type": "stream",
     "text": [
      "[300]\ttrain-rmse:10.95023+0.04410\ttest-rmse:11.88828+0.18164\n"
     ]
    },
    {
     "name": "stdout",
     "output_type": "stream",
     "text": [
      "[350]\ttrain-rmse:10.79917+0.04445\ttest-rmse:11.87194+0.17943\n"
     ]
    },
    {
     "name": "stdout",
     "output_type": "stream",
     "text": [
      "[400]\ttrain-rmse:10.66140+0.04401\ttest-rmse:11.86055+0.17966\n"
     ]
    },
    {
     "name": "stdout",
     "output_type": "stream",
     "text": [
      "[450]\ttrain-rmse:10.53381+0.04345\ttest-rmse:11.85417+0.17515\n"
     ]
    },
    {
     "name": "stdout",
     "output_type": "stream",
     "text": [
      "[491]\ttrain-rmse:10.43471+0.04295\ttest-rmse:11.85280+0.17431\n"
     ]
    },
    {
     "name": "stderr",
     "output_type": "stream",
     "text": [
      "\r",
      " 10%|██████████████████████▏                                                                                                                                                                                                       | 1/10 [00:32<04:55, 32.79s/it]"
     ]
    },
    {
     "name": "stdout",
     "output_type": "stream",
     "text": [
      "[0]\ttrain-rmse:17.10066+0.15434\ttest-rmse:17.09390+0.62871\n"
     ]
    },
    {
     "name": "stdout",
     "output_type": "stream",
     "text": [
      "[50]\ttrain-rmse:13.07115+0.10295\ttest-rmse:13.25396+0.50982\n"
     ]
    },
    {
     "name": "stdout",
     "output_type": "stream",
     "text": [
      "[100]\ttrain-rmse:11.99245+0.09999\ttest-rmse:12.34290+0.44145\n"
     ]
    },
    {
     "name": "stdout",
     "output_type": "stream",
     "text": [
      "[150]\ttrain-rmse:11.57213+0.09938\ttest-rmse:12.06781+0.41257\n"
     ]
    },
    {
     "name": "stdout",
     "output_type": "stream",
     "text": [
      "[200]\ttrain-rmse:11.31658+0.09901\ttest-rmse:11.95593+0.40427\n"
     ]
    },
    {
     "name": "stdout",
     "output_type": "stream",
     "text": [
      "[250]\ttrain-rmse:11.12121+0.09832\ttest-rmse:11.89913+0.40007\n"
     ]
    },
    {
     "name": "stdout",
     "output_type": "stream",
     "text": [
      "[300]\ttrain-rmse:10.95261+0.09846\ttest-rmse:11.86897+0.39831\n"
     ]
    },
    {
     "name": "stdout",
     "output_type": "stream",
     "text": [
      "[350]\ttrain-rmse:10.80321+0.09841\ttest-rmse:11.85322+0.39959\n"
     ]
    },
    {
     "name": "stdout",
     "output_type": "stream",
     "text": [
      "[400]\ttrain-rmse:10.66617+0.09919\ttest-rmse:11.84128+0.39611\n"
     ]
    },
    {
     "name": "stdout",
     "output_type": "stream",
     "text": [
      "[450]\ttrain-rmse:10.53753+0.09981\ttest-rmse:11.83586+0.39495\n"
     ]
    },
    {
     "name": "stdout",
     "output_type": "stream",
     "text": [
      "[473]\ttrain-rmse:10.48103+0.09995\ttest-rmse:11.83783+0.39664\n"
     ]
    },
    {
     "name": "stderr",
     "output_type": "stream",
     "text": [
      "\r",
      " 20%|████████████████████████████████████████████▍                                                                                                                                                                                 | 2/10 [01:08<04:36, 34.55s/it]"
     ]
    },
    {
     "name": "stdout",
     "output_type": "stream",
     "text": [
      "[0]\ttrain-rmse:17.10184+0.11959\ttest-rmse:17.09817+0.49223\n"
     ]
    },
    {
     "name": "stdout",
     "output_type": "stream",
     "text": [
      "[50]\ttrain-rmse:13.07464+0.07404\ttest-rmse:13.24200+0.36326\n"
     ]
    },
    {
     "name": "stdout",
     "output_type": "stream",
     "text": [
      "[100]\ttrain-rmse:11.99130+0.06602\ttest-rmse:12.32122+0.30764\n"
     ]
    },
    {
     "name": "stdout",
     "output_type": "stream",
     "text": [
      "[150]\ttrain-rmse:11.57429+0.06254\ttest-rmse:12.04421+0.29460\n"
     ]
    },
    {
     "name": "stdout",
     "output_type": "stream",
     "text": [
      "[200]\ttrain-rmse:11.32003+0.06152\ttest-rmse:11.92980+0.28841\n"
     ]
    },
    {
     "name": "stdout",
     "output_type": "stream",
     "text": [
      "[250]\ttrain-rmse:11.12329+0.05887\ttest-rmse:11.87159+0.28528\n"
     ]
    },
    {
     "name": "stdout",
     "output_type": "stream",
     "text": [
      "[300]\ttrain-rmse:10.95591+0.05619\ttest-rmse:11.83933+0.28102\n"
     ]
    },
    {
     "name": "stdout",
     "output_type": "stream",
     "text": [
      "[350]\ttrain-rmse:10.80658+0.05656\ttest-rmse:11.82208+0.27382\n"
     ]
    },
    {
     "name": "stdout",
     "output_type": "stream",
     "text": [
      "[400]\ttrain-rmse:10.66759+0.05548\ttest-rmse:11.81011+0.26993\n"
     ]
    },
    {
     "name": "stdout",
     "output_type": "stream",
     "text": [
      "[450]\ttrain-rmse:10.54005+0.05452\ttest-rmse:11.80308+0.26133\n"
     ]
    },
    {
     "name": "stdout",
     "output_type": "stream",
     "text": [
      "[500]\ttrain-rmse:10.42074+0.05516\ttest-rmse:11.80131+0.25693\n"
     ]
    },
    {
     "name": "stdout",
     "output_type": "stream",
     "text": [
      "[550]\ttrain-rmse:10.30423+0.05670\ttest-rmse:11.80249+0.25514\n"
     ]
    },
    {
     "name": "stderr",
     "output_type": "stream",
     "text": [
      "\r",
      " 30%|██████████████████████████████████████████████████████████████████▌                                                                                                                                                           | 3/10 [01:49<04:22, 37.47s/it]"
     ]
    },
    {
     "name": "stdout",
     "output_type": "stream",
     "text": [
      "[0]\ttrain-rmse:17.10019+0.07679\ttest-rmse:17.10076+0.30491\n"
     ]
    },
    {
     "name": "stdout",
     "output_type": "stream",
     "text": [
      "[50]\ttrain-rmse:13.07565+0.04580\ttest-rmse:13.24655+0.30025\n"
     ]
    },
    {
     "name": "stdout",
     "output_type": "stream",
     "text": [
      "[100]\ttrain-rmse:11.99638+0.04650\ttest-rmse:12.31736+0.25404\n"
     ]
    },
    {
     "name": "stdout",
     "output_type": "stream",
     "text": [
      "[150]\ttrain-rmse:11.58107+0.05121\ttest-rmse:12.04145+0.23249\n"
     ]
    },
    {
     "name": "stdout",
     "output_type": "stream",
     "text": [
      "[200]\ttrain-rmse:11.32611+0.05397\ttest-rmse:11.92643+0.22947\n"
     ]
    },
    {
     "name": "stdout",
     "output_type": "stream",
     "text": [
      "[250]\ttrain-rmse:11.13270+0.05653\ttest-rmse:11.86687+0.22802\n"
     ]
    },
    {
     "name": "stdout",
     "output_type": "stream",
     "text": [
      "[300]\ttrain-rmse:10.96413+0.05756\ttest-rmse:11.83153+0.23011\n"
     ]
    },
    {
     "name": "stdout",
     "output_type": "stream",
     "text": [
      "[350]\ttrain-rmse:10.81433+0.05934\ttest-rmse:11.81264+0.23291\n"
     ]
    },
    {
     "name": "stdout",
     "output_type": "stream",
     "text": [
      "[400]\ttrain-rmse:10.67826+0.06242\ttest-rmse:11.80087+0.23724\n"
     ]
    },
    {
     "name": "stdout",
     "output_type": "stream",
     "text": [
      "[450]\ttrain-rmse:10.54991+0.06300\ttest-rmse:11.79332+0.23902\n"
     ]
    },
    {
     "name": "stdout",
     "output_type": "stream",
     "text": [
      "[500]\ttrain-rmse:10.42859+0.06398\ttest-rmse:11.78825+0.24265\n"
     ]
    },
    {
     "name": "stdout",
     "output_type": "stream",
     "text": [
      "[534]\ttrain-rmse:10.34924+0.06675\ttest-rmse:11.78804+0.24483\n"
     ]
    },
    {
     "name": "stderr",
     "output_type": "stream",
     "text": [
      "\r",
      " 40%|████████████████████████████████████████████████████████████████████████████████████████▊                                                                                                                                     | 4/10 [02:29<03:51, 38.66s/it]"
     ]
    },
    {
     "name": "stdout",
     "output_type": "stream",
     "text": [
      "[0]\ttrain-rmse:17.09940+0.08441\ttest-rmse:17.10207+0.33608\n"
     ]
    },
    {
     "name": "stdout",
     "output_type": "stream",
     "text": [
      "[50]\ttrain-rmse:13.07392+0.10055\ttest-rmse:13.26235+0.48307\n"
     ]
    },
    {
     "name": "stdout",
     "output_type": "stream",
     "text": [
      "[100]\ttrain-rmse:11.98947+0.10142\ttest-rmse:12.34083+0.47169\n"
     ]
    },
    {
     "name": "stdout",
     "output_type": "stream",
     "text": [
      "[150]\ttrain-rmse:11.57517+0.10032\ttest-rmse:12.06878+0.45150\n"
     ]
    },
    {
     "name": "stdout",
     "output_type": "stream",
     "text": [
      "[200]\ttrain-rmse:11.32142+0.10035\ttest-rmse:11.95343+0.43822\n"
     ]
    },
    {
     "name": "stdout",
     "output_type": "stream",
     "text": [
      "[250]\ttrain-rmse:11.12788+0.09709\ttest-rmse:11.89259+0.42926\n"
     ]
    },
    {
     "name": "stdout",
     "output_type": "stream",
     "text": [
      "[300]\ttrain-rmse:10.96261+0.09578\ttest-rmse:11.85971+0.41885\n"
     ]
    },
    {
     "name": "stdout",
     "output_type": "stream",
     "text": [
      "[350]\ttrain-rmse:10.81384+0.09483\ttest-rmse:11.83800+0.41113\n"
     ]
    },
    {
     "name": "stdout",
     "output_type": "stream",
     "text": [
      "[400]\ttrain-rmse:10.67779+0.09483\ttest-rmse:11.82464+0.40276\n"
     ]
    },
    {
     "name": "stdout",
     "output_type": "stream",
     "text": [
      "[450]\ttrain-rmse:10.54896+0.09567\ttest-rmse:11.81332+0.39591\n"
     ]
    },
    {
     "name": "stdout",
     "output_type": "stream",
     "text": [
      "[500]\ttrain-rmse:10.42922+0.09505\ttest-rmse:11.80924+0.39305\n"
     ]
    },
    {
     "name": "stdout",
     "output_type": "stream",
     "text": [
      "[550]\ttrain-rmse:10.31503+0.09608\ttest-rmse:11.80351+0.38955\n"
     ]
    },
    {
     "name": "stdout",
     "output_type": "stream",
     "text": [
      "[600]\ttrain-rmse:10.20671+0.09549\ttest-rmse:11.80077+0.38770\n"
     ]
    },
    {
     "name": "stdout",
     "output_type": "stream",
     "text": [
      "[632]\ttrain-rmse:10.13800+0.09448\ttest-rmse:11.80081+0.38726\n"
     ]
    },
    {
     "name": "stderr",
     "output_type": "stream",
     "text": [
      "\r",
      " 50%|███████████████████████████████████████████████████████████████████████████████████████████████████████████████                                                                                                               | 5/10 [03:19<03:32, 42.42s/it]"
     ]
    },
    {
     "name": "stdout",
     "output_type": "stream",
     "text": [
      "[0]\ttrain-rmse:17.10059+0.07330\ttest-rmse:17.10198+0.29729\n"
     ]
    },
    {
     "name": "stdout",
     "output_type": "stream",
     "text": [
      "[50]\ttrain-rmse:13.07610+0.06373\ttest-rmse:13.24895+0.26028\n"
     ]
    },
    {
     "name": "stdout",
     "output_type": "stream",
     "text": [
      "[100]\ttrain-rmse:11.99332+0.06989\ttest-rmse:12.31737+0.26556\n"
     ]
    },
    {
     "name": "stdout",
     "output_type": "stream",
     "text": [
      "[150]\ttrain-rmse:11.57847+0.06752\ttest-rmse:12.04223+0.26759\n"
     ]
    },
    {
     "name": "stdout",
     "output_type": "stream",
     "text": [
      "[200]\ttrain-rmse:11.32343+0.06556\ttest-rmse:11.92758+0.26187\n"
     ]
    },
    {
     "name": "stdout",
     "output_type": "stream",
     "text": [
      "[250]\ttrain-rmse:11.12543+0.06682\ttest-rmse:11.87048+0.25907\n"
     ]
    },
    {
     "name": "stdout",
     "output_type": "stream",
     "text": [
      "[300]\ttrain-rmse:10.95761+0.06835\ttest-rmse:11.83654+0.25339\n"
     ]
    },
    {
     "name": "stdout",
     "output_type": "stream",
     "text": [
      "[350]\ttrain-rmse:10.80886+0.07233\ttest-rmse:11.81633+0.25200\n"
     ]
    },
    {
     "name": "stdout",
     "output_type": "stream",
     "text": [
      "[400]\ttrain-rmse:10.67055+0.07221\ttest-rmse:11.80353+0.25100\n"
     ]
    },
    {
     "name": "stdout",
     "output_type": "stream",
     "text": [
      "[450]\ttrain-rmse:10.54112+0.07386\ttest-rmse:11.79716+0.24935\n"
     ]
    },
    {
     "name": "stdout",
     "output_type": "stream",
     "text": [
      "[500]\ttrain-rmse:10.42026+0.07604\ttest-rmse:11.79236+0.24925\n"
     ]
    },
    {
     "name": "stdout",
     "output_type": "stream",
     "text": [
      "[550]\ttrain-rmse:10.30544+0.07601\ttest-rmse:11.78943+0.25173\n"
     ]
    },
    {
     "name": "stdout",
     "output_type": "stream",
     "text": [
      "[568]\ttrain-rmse:10.26614+0.07691\ttest-rmse:11.79011+0.25296\n"
     ]
    },
    {
     "name": "stderr",
     "output_type": "stream",
     "text": [
      "\r",
      " 60%|█████████████████████████████████████████████████████████████████████████████████████████████████████████████████████████████████████▏                                                                                        | 6/10 [04:03<02:51, 42.95s/it]"
     ]
    },
    {
     "name": "stdout",
     "output_type": "stream",
     "text": [
      "[0]\ttrain-rmse:17.10109+0.09934\ttest-rmse:17.09973+0.40184\n"
     ]
    },
    {
     "name": "stdout",
     "output_type": "stream",
     "text": [
      "[50]\ttrain-rmse:13.07451+0.02300\ttest-rmse:13.26974+0.16858\n"
     ]
    },
    {
     "name": "stdout",
     "output_type": "stream",
     "text": [
      "[100]\ttrain-rmse:11.98875+0.01653\ttest-rmse:12.34240+0.10460\n"
     ]
    },
    {
     "name": "stdout",
     "output_type": "stream",
     "text": [
      "[150]\ttrain-rmse:11.57183+0.02702\ttest-rmse:12.06679+0.11481\n"
     ]
    },
    {
     "name": "stdout",
     "output_type": "stream",
     "text": [
      "[200]\ttrain-rmse:11.31842+0.03048\ttest-rmse:11.94972+0.13338\n"
     ]
    },
    {
     "name": "stdout",
     "output_type": "stream",
     "text": [
      "[250]\ttrain-rmse:11.12358+0.03479\ttest-rmse:11.88825+0.14502\n"
     ]
    },
    {
     "name": "stdout",
     "output_type": "stream",
     "text": [
      "[300]\ttrain-rmse:10.95839+0.03490\ttest-rmse:11.85414+0.14807\n"
     ]
    },
    {
     "name": "stdout",
     "output_type": "stream",
     "text": [
      "[350]\ttrain-rmse:10.81060+0.03256\ttest-rmse:11.83311+0.15211\n"
     ]
    },
    {
     "name": "stdout",
     "output_type": "stream",
     "text": [
      "[400]\ttrain-rmse:10.67407+0.03118\ttest-rmse:11.81819+0.15507\n"
     ]
    },
    {
     "name": "stdout",
     "output_type": "stream",
     "text": [
      "[450]\ttrain-rmse:10.54664+0.03039\ttest-rmse:11.81312+0.15869\n"
     ]
    },
    {
     "name": "stdout",
     "output_type": "stream",
     "text": [
      "[500]\ttrain-rmse:10.42447+0.03076\ttest-rmse:11.81130+0.15967\n"
     ]
    },
    {
     "name": "stdout",
     "output_type": "stream",
     "text": [
      "[506]\ttrain-rmse:10.41042+0.03119\ttest-rmse:11.81120+0.15898\n"
     ]
    },
    {
     "name": "stderr",
     "output_type": "stream",
     "text": [
      "\r",
      " 70%|███████████████████████████████████████████████████████████████████████████████████████████████████████████████████████████████████████████████████████████▍                                                                  | 7/10 [04:42<02:05, 41.75s/it]"
     ]
    },
    {
     "name": "stdout",
     "output_type": "stream",
     "text": [
      "[0]\ttrain-rmse:17.09857+0.20724\ttest-rmse:17.08524+0.81257\n"
     ]
    },
    {
     "name": "stdout",
     "output_type": "stream",
     "text": [
      "[50]\ttrain-rmse:13.06952+0.12061\ttest-rmse:13.25387+0.68342\n"
     ]
    },
    {
     "name": "stdout",
     "output_type": "stream",
     "text": [
      "[100]\ttrain-rmse:11.98626+0.10055\ttest-rmse:12.34658+0.56340\n"
     ]
    },
    {
     "name": "stdout",
     "output_type": "stream",
     "text": [
      "[150]\ttrain-rmse:11.56584+0.09627\ttest-rmse:12.09129+0.50846\n"
     ]
    },
    {
     "name": "stdout",
     "output_type": "stream",
     "text": [
      "[200]\ttrain-rmse:11.30638+0.09627\ttest-rmse:11.98572+0.47830\n"
     ]
    },
    {
     "name": "stdout",
     "output_type": "stream",
     "text": [
      "[250]\ttrain-rmse:11.11114+0.09570\ttest-rmse:11.93429+0.45909\n"
     ]
    },
    {
     "name": "stdout",
     "output_type": "stream",
     "text": [
      "[300]\ttrain-rmse:10.94427+0.09542\ttest-rmse:11.90830+0.45300\n"
     ]
    },
    {
     "name": "stdout",
     "output_type": "stream",
     "text": [
      "[350]\ttrain-rmse:10.79363+0.09655\ttest-rmse:11.89358+0.44153\n"
     ]
    },
    {
     "name": "stdout",
     "output_type": "stream",
     "text": [
      "[400]\ttrain-rmse:10.65765+0.09864\ttest-rmse:11.88696+0.43534\n"
     ]
    },
    {
     "name": "stdout",
     "output_type": "stream",
     "text": [
      "[450]\ttrain-rmse:10.52863+0.09915\ttest-rmse:11.88510+0.43076\n"
     ]
    },
    {
     "name": "stdout",
     "output_type": "stream",
     "text": [
      "[500]\ttrain-rmse:10.40859+0.09999\ttest-rmse:11.88157+0.43013\n"
     ]
    },
    {
     "name": "stdout",
     "output_type": "stream",
     "text": [
      "[506]\ttrain-rmse:10.39485+0.10005\ttest-rmse:11.88195+0.42925\n"
     ]
    },
    {
     "name": "stderr",
     "output_type": "stream",
     "text": [
      "\r",
      " 80%|█████████████████████████████████████████████████████████████████████████████████████████████████████████████████████████████████████████████████████████████████████████████████▌                                            | 8/10 [05:21<01:22, 41.03s/it]"
     ]
    },
    {
     "name": "stdout",
     "output_type": "stream",
     "text": [
      "[0]\ttrain-rmse:17.09954+0.20052\ttest-rmse:17.08480+0.83779\n"
     ]
    },
    {
     "name": "stdout",
     "output_type": "stream",
     "text": [
      "[50]\ttrain-rmse:13.07104+0.11807\ttest-rmse:13.26911+0.68545\n"
     ]
    },
    {
     "name": "stdout",
     "output_type": "stream",
     "text": [
      "[100]\ttrain-rmse:11.98478+0.08939\ttest-rmse:12.36504+0.52417\n"
     ]
    },
    {
     "name": "stdout",
     "output_type": "stream",
     "text": [
      "[150]\ttrain-rmse:11.56371+0.07839\ttest-rmse:12.09361+0.43362\n"
     ]
    },
    {
     "name": "stdout",
     "output_type": "stream",
     "text": [
      "[200]\ttrain-rmse:11.31167+0.07333\ttest-rmse:11.98300+0.38294\n"
     ]
    },
    {
     "name": "stdout",
     "output_type": "stream",
     "text": [
      "[250]\ttrain-rmse:11.11693+0.07155\ttest-rmse:11.92235+0.35410\n"
     ]
    },
    {
     "name": "stdout",
     "output_type": "stream",
     "text": [
      "[300]\ttrain-rmse:10.95089+0.07361\ttest-rmse:11.88947+0.33569\n"
     ]
    },
    {
     "name": "stdout",
     "output_type": "stream",
     "text": [
      "[350]\ttrain-rmse:10.79948+0.07401\ttest-rmse:11.86937+0.32323\n"
     ]
    },
    {
     "name": "stdout",
     "output_type": "stream",
     "text": [
      "[400]\ttrain-rmse:10.66277+0.07551\ttest-rmse:11.85528+0.31645\n"
     ]
    },
    {
     "name": "stdout",
     "output_type": "stream",
     "text": [
      "[450]\ttrain-rmse:10.53571+0.07545\ttest-rmse:11.84667+0.30304\n"
     ]
    },
    {
     "name": "stdout",
     "output_type": "stream",
     "text": [
      "[500]\ttrain-rmse:10.41581+0.07580\ttest-rmse:11.84166+0.29680\n"
     ]
    },
    {
     "name": "stdout",
     "output_type": "stream",
     "text": [
      "[540]\ttrain-rmse:10.32496+0.07704\ttest-rmse:11.83986+0.29839\n"
     ]
    },
    {
     "name": "stderr",
     "output_type": "stream",
     "text": [
      "\r",
      " 90%|███████████████████████████████████████████████████████████████████████████████████████████████████████████████████████████████████████████████████████████████████████████████████████████████████████▊                      | 9/10 [06:04<00:41, 41.39s/it]"
     ]
    },
    {
     "name": "stdout",
     "output_type": "stream",
     "text": [
      "[0]\ttrain-rmse:17.10146+0.13558\ttest-rmse:17.09671+0.55094\n"
     ]
    },
    {
     "name": "stdout",
     "output_type": "stream",
     "text": [
      "[50]\ttrain-rmse:13.07593+0.09049\ttest-rmse:13.25554+0.49874\n"
     ]
    },
    {
     "name": "stdout",
     "output_type": "stream",
     "text": [
      "[100]\ttrain-rmse:11.99113+0.08234\ttest-rmse:12.33744+0.41698\n"
     ]
    },
    {
     "name": "stdout",
     "output_type": "stream",
     "text": [
      "[150]\ttrain-rmse:11.57516+0.08036\ttest-rmse:12.06632+0.38144\n"
     ]
    },
    {
     "name": "stdout",
     "output_type": "stream",
     "text": [
      "[200]\ttrain-rmse:11.31963+0.07826\ttest-rmse:11.94991+0.36445\n"
     ]
    },
    {
     "name": "stdout",
     "output_type": "stream",
     "text": [
      "[250]\ttrain-rmse:11.12477+0.07435\ttest-rmse:11.88719+0.35544\n"
     ]
    },
    {
     "name": "stdout",
     "output_type": "stream",
     "text": [
      "[300]\ttrain-rmse:10.95874+0.07555\ttest-rmse:11.85124+0.34481\n"
     ]
    },
    {
     "name": "stdout",
     "output_type": "stream",
     "text": [
      "[350]\ttrain-rmse:10.81109+0.07350\ttest-rmse:11.83242+0.33977\n"
     ]
    },
    {
     "name": "stdout",
     "output_type": "stream",
     "text": [
      "[400]\ttrain-rmse:10.67484+0.07217\ttest-rmse:11.81833+0.33302\n"
     ]
    },
    {
     "name": "stdout",
     "output_type": "stream",
     "text": [
      "[450]\ttrain-rmse:10.54709+0.07540\ttest-rmse:11.81103+0.32719\n"
     ]
    },
    {
     "name": "stdout",
     "output_type": "stream",
     "text": [
      "[500]\ttrain-rmse:10.42566+0.07436\ttest-rmse:11.80570+0.32388\n"
     ]
    },
    {
     "name": "stdout",
     "output_type": "stream",
     "text": [
      "[550]\ttrain-rmse:10.31149+0.07538\ttest-rmse:11.80280+0.31813\n"
     ]
    },
    {
     "name": "stdout",
     "output_type": "stream",
     "text": [
      "[558]\ttrain-rmse:10.29358+0.07570\ttest-rmse:11.80335+0.31858\n"
     ]
    },
    {
     "name": "stderr",
     "output_type": "stream",
     "text": [
      "\r",
      "100%|█████████████████████████████████████████████████████████████████████████████████████████████████████████████████████████████████████████████████████████████████████████████████████████████████████████████████████████████| 10/10 [06:47<00:00, 42.01s/it]"
     ]
    },
    {
     "name": "stderr",
     "output_type": "stream",
     "text": [
      "\r",
      "100%|█████████████████████████████████████████████████████████████████████████████████████████████████████████████████████████████████████████████████████████████████████████████████████████████████████████████████████████████| 10/10 [06:47<00:00, 40.74s/it]"
     ]
    },
    {
     "name": "stderr",
     "output_type": "stream",
     "text": [
      "\n"
     ]
    }
   ],
   "source": [
    "if param.get(\"eval_metric\", \"mae\") == \"rmse\":\n",
    "    score_key = \"test-rmse-mean\"\n",
    "    ylabel = \"Test RMSE Mean\"\n",
    "    title = \"Learning Curve: Test RMSE vs Boosting Rounds\"\n",
    "elif param.get(\"eval_metric\", \"mae\") == \"mae\":\n",
    "    score_key = \"test-mae-mean\"\n",
    "    ylabel = \"Test MAE Mean\"\n",
    "    title = \"Learning Curve: Test MAE vs Boosting Rounds\"\n",
    "elif param.get(\"eval_metric\", \"mae\") == \"logloss\":\n",
    "    score_key = \"test-logloss-mean\"\n",
    "    ylabel = \"Test Logloss Mean\"\n",
    "    title = \"Learning Curve: Test Logloss vs Boosting Rounds\"\n",
    "\n",
    "\n",
    "for i in tqdm(range(repeat_cv), leave=True, dynamic_ncols=True): \n",
    "    cv_result = xgb.cv(\n",
    "        params=param,\n",
    "        dtrain=dtrain,\n",
    "        obj=cauchyobj,\n",
    "        num_boost_round=num_boost_round,\n",
    "        folds=KFold(n_splits=folds_splits, shuffle=True, random_state=i),\n",
    "        early_stopping_rounds=early_stopping_rounds,\n",
    "        verbose_eval=50\n",
    "    )\n",
    "    \"\"\"\n",
    "    train-mae-mean: 各fold における訓練データの MAE の平均値。\n",
    "    train-mae-std: 訓練データの MAE の標準偏差。\n",
    "    test-mae-mean: 各fold における検証データの MAE の平均値。\n",
    "    test-mae-std: 検証データの MAE の標準偏差。\n",
    "    \"\"\"\n",
    "    xgb_cv.append(cv_result)\n",
    "    \n",
    "\n",
    "\n",
    "\n",
    "# 各 repeater ごとの最適ブーストラウンド数と検証MAE\n",
    "iteration_counts = [np.argmin(cv[score_key].values) for cv in xgb_cv]\n",
    "val_mae = [np.min(cv[score_key].values) for cv in xgb_cv]\n",
    "\n",
    "mean_iteration = np.mean(iteration_counts)\n",
    "mean_val_mae = np.mean(val_mae)\n",
    "min_val_mae = np.min(val_mae)\n",
    "results.append(f\"mean_iteration: {mean_iteration}\")\n",
    "results.append(f\"mean_val_{param['eval_metric']}: {mean_val_mae}\")\n",
    "results.append(f\"min_val_{param['eval_metric']}: {min_val_mae}\")\n",
    "results.append(\"\")\n",
    "\n",
    "###\n",
    "plt.figure(figsize=(10, 6))\n",
    "for i, cv_result in enumerate(xgb_cv):\n",
    "    rounds = np.arange(len(cv_result[score_key]))\n",
    "    plt.plot(rounds, cv_result[score_key], label=f\"CV repeater {i+1}\")\n",
    "    \n",
    "plt.xlabel(\"Boosting Round\")\n",
    "plt.ylabel(ylabel)\n",
    "plt.title(title)\n",
    "plt.legend()\n",
    "plt.grid(True)\n",
    "\n",
    "plt.savefig(os.path.join(OUTPUT_PATH, f\"learning_curve_{PREDICT_YEAR}.png\"))\n",
    "plt.close()\n",
    "###\n"
   ]
  },
  {
   "cell_type": "code",
   "execution_count": 22,
   "id": "0e0ea14e",
   "metadata": {
    "execution": {
     "iopub.execute_input": "2025-03-18T06:32:54.632665Z",
     "iopub.status.busy": "2025-03-18T06:32:54.632665Z",
     "iopub.status.idle": "2025-03-18T06:32:54.641303Z",
     "shell.execute_reply": "2025-03-18T06:32:54.641303Z"
    },
    "papermill": {
     "duration": 0.045959,
     "end_time": "2025-03-18T06:32:54.644935",
     "exception": false,
     "start_time": "2025-03-18T06:32:54.598976",
     "status": "completed"
    },
    "tags": []
   },
   "outputs": [
    {
     "name": "stdout",
     "output_type": "stream",
     "text": [
      "最適ブーストラウンド数: [467, 449, 526, 509, 608, 544, 481, 482, 515, 534]\n",
      "test-rmse-mean: [11.852146001817164, 11.835622831339396, 11.800770522596654, 11.787209071824119, 11.79984058120639, 11.788834176571168, 11.809099960519157, 11.880934658320653, 11.83944037954947, 11.801984051871873]\n"
     ]
    }
   ],
   "source": [
    "print(\"最適ブーストラウンド数:\", iteration_counts)\n",
    "print(f\"{score_key}:\", val_mae)\n",
    "results.append(f\"最適ブーストラウンド: {iteration_counts}\")\n",
    "results.append(f\"{score_key}: {val_mae}\")\n",
    "results.append(\"\")"
   ]
  },
  {
   "cell_type": "code",
   "execution_count": 23,
   "id": "f1d61008",
   "metadata": {
    "execution": {
     "iopub.execute_input": "2025-03-18T06:32:54.710625Z",
     "iopub.status.busy": "2025-03-18T06:32:54.710625Z",
     "iopub.status.idle": "2025-03-18T06:39:07.659569Z",
     "shell.execute_reply": "2025-03-18T06:39:07.658646Z"
    },
    "papermill": {
     "duration": 373.01673,
     "end_time": "2025-03-18T06:39:07.695880",
     "exception": false,
     "start_time": "2025-03-18T06:32:54.679150",
     "status": "completed"
    },
    "tags": []
   },
   "outputs": [
    {
     "name": "stderr",
     "output_type": "stream",
     "text": [
      "\r",
      "  0%|                                                                                                                                                                                                                                      | 0/10 [00:00<?, ?it/s]"
     ]
    },
    {
     "name": "stderr",
     "output_type": "stream",
     "text": [
      "C:\\Users\\81809\\AppData\\Local\\Temp\\ipykernel_2040\\3386215446.py:18: FutureWarning: Setting an item of incompatible dtype is deprecated and will raise an error in a future version of pandas. Value '[ 2.09779797e+01  1.82537943e-01  1.73776360e+01  7.39079523e+00\n",
      " -5.77505589e+00 -1.20167577e+00  7.20707273e+00  7.95040131e+00\n",
      "  2.37398872e+01  2.24027562e+00  1.09909534e+01  6.91160870e+00\n",
      "  7.05833483e+00  7.04430676e+00 -4.36143160e+00  2.10444584e+01\n",
      " -2.27432108e+00  6.82857895e+00  1.00181789e+01  2.49480534e+00\n",
      "  3.50687718e+00  3.56094289e+00 -5.81832230e-01 -9.64677513e-01\n",
      "  5.89628696e+00  6.31336260e+00  3.50920963e+00  1.65489197e+01\n",
      "  3.97400928e+00 -5.66565323e+00 -3.30308867e+00  5.46548176e+00\n",
      "  2.85295069e-01  2.05458679e+01  8.43933678e+00 -6.23111105e+00\n",
      " -2.17066932e+00  7.95154190e+00  5.83110952e+00  4.97581959e+00\n",
      "  6.33437574e-01  8.83089447e+00 -4.52686262e+00  1.43670053e+01\n",
      "  3.67024708e+00  4.91722393e+00 -1.22297211e+01  2.98793721e+00\n",
      "  1.49237919e+01 -7.72637904e-01  2.23160877e+01 -1.74224353e+00\n",
      "  5.16068840e+00  5.11980629e+00 -3.42287660e+00  7.41156530e+00\n",
      "  2.52822852e+00  5.42386103e+00  1.37502301e+00  1.00145359e+01\n",
      " -5.16382265e+00 -1.25823176e+00  9.05867159e-01  2.32985458e+01\n",
      " -1.61333823e+00  8.15602207e+00  2.56152558e+00 -5.74345446e+00\n",
      "  1.17364731e+01 -2.70596623e+00  5.17686987e+00  2.43614426e+01\n",
      " -5.59414482e+00 -2.83019471e+00  3.07087326e+00  5.08387280e+00\n",
      " -2.72371721e+00  6.12433481e+00  1.68784161e+01  2.02545185e+01\n",
      "  2.80261850e+00 -5.00387335e+00  1.85069382e+00 -9.95094776e-01\n",
      "  1.04031813e+00  3.63070202e+00  1.20714831e+00 -1.04540501e+01\n",
      " -2.88103747e+00 -2.63730168e+00  8.93860435e+00  6.54948425e+00\n",
      "  3.64124107e+00  6.75786018e-01 -3.23784852e+00  1.81966228e+01\n",
      "  1.64788532e+00  5.20426464e+00  2.14507065e+01 -1.86325860e+00\n",
      " -4.16211653e+00  1.49830847e+01  1.88994884e+01  1.29140501e+01\n",
      "  4.11569262e+00 -5.70026493e+00 -7.18114614e-01  1.25189276e+01\n",
      "  5.72442484e+00 -4.05260563e+00  8.77389610e-01 -5.28191614e+00\n",
      "  6.63227320e+00 -5.94369555e+00 -1.43838072e+01  4.32000208e+00\n",
      "  4.06953841e-01  9.88402784e-01  2.87344456e+00  3.66463757e+00\n",
      "  2.63917184e+00  1.49281728e+00  1.03287029e+01  1.01799746e+01\n",
      "  7.32612658e+00  6.11370897e+00  1.13214808e+01 -2.12728882e+00\n",
      " -1.64613473e+00  3.27803516e+00  1.93325710e+01 -2.27317166e+00\n",
      "  1.21247797e+01 -1.38355589e+01 -6.97400856e+00  1.44900532e+01\n",
      "  3.65667939e+00  7.91416073e+00  7.78146029e+00 -1.85323083e+00\n",
      "  1.78671515e+00 -3.43353629e+00  7.75460768e+00  5.37541914e+00\n",
      "  1.94418812e+00 -9.36356604e-01  1.06991053e+01  6.01875365e-01\n",
      "  6.68676901e+00 -1.63267255e+00  1.93534124e+00  1.25594771e+00\n",
      "  2.00047665e+01  1.61881886e+01  1.00168724e+01  4.48756456e+00\n",
      "  4.94999504e+00  2.81532788e+00 -7.62015700e-01  1.27940071e+00\n",
      "  1.19308877e+00  1.99559465e-01  9.98601532e+00  1.35272980e+01\n",
      " -1.38409317e+00  3.57095265e+00 -6.30902827e-01  3.60201478e+00\n",
      "  2.07617569e+00  3.34066129e+00  7.58142471e+00  1.85313070e+00\n",
      " -2.35424805e+00 -3.11681896e-01  6.16278505e+00  1.00945568e+00\n",
      "  1.82217369e+01  2.98830080e+00  6.72280741e+00  3.48447371e+00\n",
      " -1.67409348e+00  4.28906107e+00  8.95302677e+00 -7.42362165e+00\n",
      "  4.42914915e+00  2.09382267e+01  1.17953863e+01  3.60570759e-01\n",
      "  1.72440207e+00  6.33634949e+00  3.16446662e+00  1.47816105e+01\n",
      " -2.16727450e-01  2.87847590e+00  7.96809053e+00  5.93505001e+00\n",
      "  2.82827711e+00  1.01670904e+01  1.53983841e+01  1.13068180e+01\n",
      "  2.41845489e+00 -2.31939983e+01  5.04161978e+00  4.24519873e+00\n",
      "  6.90457439e+00  4.48081684e+00  4.65375471e+00  4.22233582e+00\n",
      "  4.86273670e+00  1.75917423e+00  1.88148632e+01  1.01094294e+01\n",
      "  2.95964527e+01  4.21898575e+01  2.63086796e+01  2.39607830e+01\n",
      "  2.05718899e+01  2.36581402e+01  8.71509075e+00  1.66668743e-02\n",
      "  1.37551556e+01  5.73382568e+00 -4.69254398e+00  4.62278986e+00\n",
      "  2.02030354e+01  2.49924526e+01  8.65445137e+00  2.19352970e+01\n",
      "  1.24540882e+01  9.45196915e+00  7.10329342e+00  1.00365677e+01\n",
      " -3.01559114e+00  3.36582413e+01  1.48320704e+01  4.56195831e+00\n",
      "  3.57957611e+01  4.40162277e+00 -3.05165696e+00  2.11997337e+01\n",
      "  2.28233099e+00  1.31905203e+01  1.54956961e+01  5.08040714e+00\n",
      "  3.27812934e+00  1.09412699e+01  1.97097321e+01  3.52502136e+01\n",
      "  1.34346094e+01 -1.28482437e+00 -1.28912163e+00  2.01802969e+00\n",
      " -1.42479563e+01  6.18400955e+00  1.43469019e+01  3.72311808e-02\n",
      "  2.16139050e+01  4.44066620e+01 -5.46757174e+00  1.01896703e+00\n",
      "  1.40707817e+01  2.73119545e+00 -5.53435183e+00  8.50808907e+00\n",
      "  2.69427299e+01  1.19501133e+01  8.83341312e+00  5.35673189e+00\n",
      " -2.73893952e+00  3.18226147e+00  2.84494648e+01  9.79204750e+00\n",
      "  1.69674072e+01  1.43286428e+01 -9.76610470e+00  1.47143993e+01\n",
      "  1.06810436e+01  3.99223447e+00 -4.63004827e+00  3.97046900e+00\n",
      "  1.87172222e+00  2.23128438e+00  3.77209854e+01  1.40372066e+01\n",
      "  3.51121407e+01  3.42274628e+01 -1.47672307e+00  2.92915421e+01\n",
      " -1.07369781e+00 -2.10524058e+00  6.77326345e+00  1.29873066e+01\n",
      "  1.34541864e+01  1.38697729e+01  9.12547112e+00  4.47789669e+00\n",
      "  1.18426323e+01 -3.36519742e+00  1.10935669e+01 -4.00062275e+00\n",
      "  1.90191841e+01  2.58885345e+01  1.13142147e+01 -4.14530307e-01\n",
      " -4.17524636e-01  1.46874201e+00  7.94985962e+00 -2.06283798e+01\n",
      " -1.05092974e+01 -9.96932983e+00  1.71909857e+00  4.29764795e+00\n",
      "  8.22616959e+00  1.00556784e+01  3.14588718e+01  1.64113064e+01\n",
      "  4.47933149e+00  3.74024315e+01 -1.70306993e+00  1.09641905e+01\n",
      "  5.87882185e+00  2.74141192e+00  3.70972180e+00  2.18983674e+00\n",
      "  1.52954841e+00  5.34794331e+00 -5.36912155e+00  7.32321501e+00\n",
      " -4.50289190e-01  8.08751583e+00 -5.66327095e+00  1.97045574e+01\n",
      "  1.21528788e+01 -1.15142174e+01  2.14887199e+01 -7.51229668e+00\n",
      "  6.09676354e-02  9.04054546e+00 -4.14123583e+00 -1.21428604e+01\n",
      " -3.22769547e+00 -2.26338654e+01 -1.70068607e+01 -8.55316830e+00\n",
      " -4.89860582e+00  3.64911532e+00 -5.60341692e+00  1.95746017e+00\n",
      " -3.60023475e+00 -4.12533569e+00 -5.63040876e+00  5.37812185e+00\n",
      " -7.46327972e+00 -3.29518390e+00 -1.77061348e+01  1.95112741e+00\n",
      "  4.66113615e+00 -6.11770773e+00 -3.75572801e+00  2.31880808e+00\n",
      "  6.42652893e+00 -3.55478835e+00 -6.86776829e+00 -3.11021161e+00\n",
      " -7.98916698e-01 -1.76876271e+00 -2.30156555e+01 -1.02262698e-01\n",
      "  1.61618912e+00 -6.70595646e+00 -6.89303064e+00 -5.82001352e+00\n",
      " -8.20799732e+00 -7.29383326e+00 -2.51480222e+00 -5.88570881e+00\n",
      "  7.55723238e-01 -5.64757776e+00  9.28303182e-01  2.11412311e+00\n",
      " -1.04137077e+01 -6.85053539e+00 -5.78283215e+00 -2.99249578e+00\n",
      " -9.79743576e+00 -4.53572178e+00 -1.59187841e+01 -2.60188446e+01\n",
      " -3.18625283e+00 -1.80667667e+01 -2.25758719e+00 -6.55953741e+00\n",
      " -2.68855333e+00 -2.41760063e+00 -8.20991135e+00  3.82462770e-01\n",
      " -7.17780495e+00 -2.61499157e+01  3.43277931e+00 -2.17083492e+01\n",
      " -6.56353664e+00 -1.08856373e+01  4.42220736e+00  3.40570545e+00\n",
      " -9.35724545e+00  3.45312405e+00 -4.72137070e+00 -5.29149437e+00\n",
      " -3.56431508e+00 -6.02006388e+00 -9.43166637e+00 -1.52275527e+00\n",
      "  4.05611563e+00  2.93760985e-01 -1.18046398e+01 -6.13161516e+00\n",
      "  2.80146861e+00  2.30276418e+00  8.50100160e-01 -6.57418537e+00\n",
      " -2.92975807e+00  6.45358944e+00 -1.14649849e+01  2.97924328e+00\n",
      " -1.02530079e+01 -3.06879950e+00 -9.05180740e+00 -4.43237209e+00\n",
      " -1.97508883e+00 -1.22409496e+01 -2.95292759e+00 -2.16719513e+01\n",
      " -1.53137836e+01 -2.00646257e+00 -1.04104054e+00 -2.40908003e+00\n",
      " -2.54832554e+00 -2.23094487e+00 -8.17919001e-02  1.50397098e+00\n",
      " -1.15363276e+00 -3.10251598e+01 -4.40615129e+00 -9.14537716e+00\n",
      " -8.67564583e+00  1.55484974e+00  1.90805888e+00 -6.89764261e+00\n",
      " -1.52244020e+00  1.99292457e+00 -3.20385337e-01 -8.81456375e+00\n",
      "  1.83309948e+00  6.66132784e+00 -1.14597276e-01 -7.50497389e+00\n",
      " -8.61774087e-01 -1.53355389e+01 -1.27419863e+01 -2.53209472e+00\n",
      " -2.13648272e+00 -2.52901030e+00 -2.72833943e+00 -6.81936884e+00\n",
      " -1.57221518e+01 -9.37916470e+00 -2.26905274e+00  2.45685410e+00\n",
      " -8.22782040e+00 -2.25927086e+01 -7.10655808e-01 -3.43707681e+00\n",
      " -4.11547089e+00  3.18523216e+00  8.36073112e+00 -1.67729542e-01\n",
      "  1.02355194e+00  2.50954175e+00  1.85061514e+00 -1.31851616e+01\n",
      " -7.80296898e+00 -1.68662376e+01 -4.35941553e+00 -4.20022964e+00\n",
      "  1.35751581e+00 -1.04259357e+01  2.27645993e+00 -1.50178134e+00\n",
      " -2.50911331e+01 -2.58747826e+01 -1.62964344e+01 -4.55186987e+00\n",
      " -3.44618535e+00 -4.51992846e+00 -3.21454331e-02 -9.27707386e+00\n",
      " -7.78327703e+00 -1.28695381e+00 -2.29115629e+00  3.02808547e+00\n",
      " -1.61053181e+01 -1.55040932e+00  3.05992961e+00 -5.88102055e+00\n",
      "  8.50922489e+00 -6.50627041e+00  5.69701672e+00 -6.94369602e+00\n",
      " -1.70324783e+01 -1.56959429e+01 -3.29013777e+00  6.53812122e+00\n",
      " -9.32812309e+00 -3.61330009e+00 -6.59446776e-01  2.31616235e+00\n",
      " -1.56284552e+01  2.04243466e-01 -1.76205940e+01 -1.75893164e+00\n",
      " -5.72297096e+00 -4.69535351e+00 -3.27255630e+00 -1.68623734e+00\n",
      " -1.48825541e+01 -6.29072562e-02  3.83528924e+00  4.17919016e+00\n",
      " -1.03915882e+01  5.09100974e-01 -1.41536283e+00 -5.42080593e+00\n",
      " -3.79123807e+00 -4.60611248e+00 -3.02583432e+00  4.53365278e+00\n",
      " -2.03604431e+01 -3.52571182e+01 -2.47472215e+00 -5.11949348e+00\n",
      " -4.87577629e+00  3.04271173e+00 -1.04619236e+01 -2.83104210e+01\n",
      " -6.52274370e+00  4.27123737e+00  1.73356307e+00 -3.41594467e+01\n",
      " -3.74322205e+01  2.01669931e+00 -3.80168748e+00 -2.52520905e+01\n",
      "  7.22297859e+00 -2.44396896e+01 -3.06225729e+00 -1.23866510e+00\n",
      " -1.01479425e+01 -2.94374084e+01 -4.78657514e-01 -1.59243078e+01\n",
      " -1.77559261e+01 -5.96446228e+00 -3.17939162e+00  3.73382092e+00\n",
      " -3.91425629e+01  1.26579475e+00 -5.51293993e+00 -1.26120977e+01\n",
      "  7.72204304e+00  1.64227045e+00  6.96174097e+00 -1.07731190e+01\n",
      " -3.27388477e+00 -1.74329052e+01 -8.58810711e+00 -8.33303547e+00\n",
      " -3.00397420e+00  3.20830917e+00  5.62720728e+00 -2.97237358e+01\n",
      " -1.24267035e+01 -2.94507480e+00  1.17886581e+01 -3.21541328e+01\n",
      " -4.90049410e+00 -8.03433704e+00 -2.11274886e+00  3.60431957e+00\n",
      " -2.66844797e+00 -2.66295004e+00  6.99736929e+00  3.27579474e+00\n",
      " -1.40472040e+01 -9.48783875e+00 -3.40442581e+01 -6.55715942e+00\n",
      " -2.36480255e+01 -2.84388561e+01 -8.16754055e+00 -1.56208010e+01\n",
      " -1.22766638e+01 -3.49664593e+00 -3.79310417e+01 -3.02156963e+01\n",
      " -1.41999874e+01 -5.48605204e+00 -6.57345629e+00 -3.32509689e+01\n",
      " -8.36253452e+00  8.85445213e+00 -1.07617235e+01 -2.72839355e+00\n",
      " -7.40694380e+00 -1.17149553e+01 -8.42841244e+00 -2.57911015e+01\n",
      " -2.79936523e+01  3.40202355e+00 -5.39235735e+00 -8.47380733e+00\n",
      " -2.32473907e+01 -3.54036808e+00 -2.79352303e+01  1.13056927e+01\n",
      " -1.72462440e+00  8.27544117e+00  2.80721164e+00 -2.57821617e+01\n",
      " -4.16005564e+00 -3.01839199e+01 -1.56477261e+01 -9.68882847e+00\n",
      "  9.01205242e-01  4.70833540e+00 -2.62524376e+01  5.18576622e+00\n",
      " -1.29727745e+01 -1.68549395e+00 -3.40508804e+01 -1.20631943e+01\n",
      "  1.62293491e+01  4.71924686e+00 -1.43408794e+01 -1.45799017e+01\n",
      " -6.04354143e+00  7.62524414e+00]' has dtype incompatible with int64, please explicitly cast to a compatible dtype first.\n",
      "  preds[val_index] = model.predict(dval_i)\n"
     ]
    },
    {
     "name": "stderr",
     "output_type": "stream",
     "text": [
      "\r",
      " 10%|██████████████████████▏                                                                                                                                                                                                       | 1/10 [00:34<05:07, 34.19s/it]"
     ]
    },
    {
     "name": "stderr",
     "output_type": "stream",
     "text": [
      "C:\\Users\\81809\\AppData\\Local\\Temp\\ipykernel_2040\\3386215446.py:18: FutureWarning: Setting an item of incompatible dtype is deprecated and will raise an error in a future version of pandas. Value '[-7.56079102e+00  1.42265892e+00  1.52872286e+01 -3.98100287e-01\n",
      "  7.23958731e+00  5.52954817e+00  2.19071369e+01 -1.63381398e+00\n",
      "  1.23726511e+01  6.94354153e+00 -3.19037938e+00 -5.61294413e+00\n",
      "  5.33170843e+00  8.41333389e+00 -2.76139808e+00  2.31681175e+01\n",
      "  5.30073404e-01  2.52307057e+00  1.05121698e+01  8.93052101e+00\n",
      "  8.49534702e+00  4.46321201e+00  6.51146460e+00  4.12263632e+00\n",
      " -6.85361719e+00  2.77489042e+00  8.19435978e+00 -1.96822774e+00\n",
      "  2.54797726e+01  1.66862869e+01  1.27899103e+01  4.15697813e+00\n",
      "  6.47713280e+00 -2.40039158e+00  5.91965199e+00  5.96056175e+00\n",
      " -3.66091394e+00  2.60905832e-01  8.79387379e+00  2.28972149e+01\n",
      "  1.24282265e+01  1.09974089e+01  1.76508408e+01  7.89493799e+00\n",
      "  1.69322701e+01  7.43976879e+00  7.80265284e+00  5.21548843e+00\n",
      " -7.58903846e-02  6.05698681e+00  1.04436171e+00 -5.46658993e-01\n",
      "  1.80170715e+00  6.65954018e+00  8.88512993e+00  2.55576515e+01\n",
      "  6.83285093e+00 -6.71771765e-01  9.70800304e+00  9.54401779e+00\n",
      "  6.09566450e+00  6.69920731e+00 -1.73749185e+00 -3.38460207e+00\n",
      " -1.35479140e+00  2.51722026e+00 -1.60465014e+00  1.35015094e+00\n",
      "  1.95432987e+01  1.20275278e+01  6.93796158e-01  2.88664036e+01\n",
      "  1.36552525e+01  4.11465931e+00  1.96379147e+01 -7.96736622e+00\n",
      "  6.16771126e+00  5.62143469e+00  3.19522452e+00  3.48706007e+00\n",
      " -3.73008758e-01 -4.66582954e-01  1.76824150e+01  7.86526299e+00\n",
      " -2.26269770e+00 -1.02430172e+01  4.26830339e+00  8.46101856e+00\n",
      "  2.53873467e+00  1.55229461e+00  2.28828955e+00 -5.26340389e+00\n",
      " -3.44188142e+00  1.85303326e+01 -2.76815391e+00 -1.99059129e+00\n",
      " -2.36143970e+00  1.34676447e+01  1.03310242e+01  1.49660921e+01\n",
      "  3.86544871e+00 -6.17829180e+00  1.27681475e+01  8.08054161e+00\n",
      "  1.20001221e+01  2.37307048e+00  9.51605320e+00 -1.34341502e+00\n",
      "  1.78207092e+01 -2.84066463e+00  2.12034588e+01 -2.51214147e+00\n",
      "  1.33157611e+00  1.39726028e+01  1.96105747e+01 -3.01557398e+00\n",
      "  2.41936421e+00 -3.48168278e+00 -9.53100491e+00 -6.54568148e+00\n",
      "  2.21011066e+00  1.06413245e+00  3.80922854e-01 -1.62277484e+00\n",
      " -2.67874980e+00  3.25458020e-01 -5.38960457e+00  6.95852089e+00\n",
      "  2.62537599e+00  3.06330490e+01  7.51018047e+00  2.74515533e+01\n",
      "  5.03203821e+00 -8.21135044e-01  9.96431351e+00 -7.50470066e+00\n",
      " -5.01137066e+00  1.31603277e+00 -7.10442305e+00 -8.80544484e-01\n",
      "  6.11395931e+00 -1.06373370e+00  2.31468105e+01  1.62420444e+01\n",
      "  3.99827981e+00  5.07974446e-01 -1.03670585e+00  6.33218110e-01\n",
      "  5.67314364e-02  3.87872696e-01 -2.76789975e+00 -5.90579689e-01\n",
      "  2.87166476e+00 -6.45248175e+00 -1.18804193e+00  3.55934262e+00\n",
      "  2.08994141e+01  4.90442812e-01  2.93660140e+00  6.80485916e+00\n",
      " -7.31570482e+00  3.00179982e+00 -1.39723265e+00 -4.78640604e+00\n",
      " -4.18674803e+00  4.87188816e-01  3.12433052e+01  1.53538024e+00\n",
      "  6.57326794e+00 -3.85701251e+00 -4.89472672e-02  1.23146582e+01\n",
      "  2.00510559e+01  9.53377151e+00  3.58978844e+00 -7.64588773e-01\n",
      "  1.27265272e+01 -5.64733458e+00 -1.85940857e+01 -5.44323587e+00\n",
      "  4.37798882e+00  7.28921127e+00 -2.50203586e+00  7.96409702e+00\n",
      "  2.14414158e+01  9.94478130e+00  1.60347629e+00  2.43641014e+01\n",
      " -5.57375371e-01  9.36501026e+00  2.46376610e+01 -1.77012873e+00\n",
      " -7.54423380e-01  4.17647266e+00  1.91200578e+00  5.63538265e+00\n",
      " -4.76279259e+00  2.50083494e+00 -7.75111532e+00  1.16036212e+00\n",
      "  3.40779901e+00 -2.57441354e+00  2.12322903e+01 -3.03116888e-01\n",
      "  1.64777336e+01  1.71426144e+01  1.81477242e+01 -3.30102324e+00\n",
      "  2.09378529e+01  2.86550307e+00 -9.81370926e+00 -1.05041647e+01\n",
      "  1.14319115e+01  2.19076467e+00 -1.89625412e-01 -3.25743556e+00\n",
      "  5.35320616e+00  4.78021002e+00  4.21014404e+00  2.05068607e+01\n",
      " -3.24609470e+00  2.57258582e+00  6.19192076e+00  2.09857845e+01\n",
      " -2.76761246e+00  1.68410254e+00  1.92141094e+01  2.84198837e+01\n",
      " -8.62224579e+00 -3.29628730e+00  7.64863491e+00  2.70145226e+01\n",
      "  3.78053780e+01 -1.18030882e+00  4.65683746e+00  2.12773666e+01\n",
      "  7.40805006e+00  2.28411064e+01 -7.00312138e+00 -6.49182558e+00\n",
      "  6.43876410e+00  9.14691830e+00  6.65013695e+00 -8.04649448e+00\n",
      "  2.30310917e+01  6.19708776e-01 -5.88622761e+00  1.20771933e+01\n",
      "  9.31298137e-01  1.86142242e+00  1.28238373e+01 -1.25945921e+01\n",
      "  1.55283709e+01  2.02408485e+01  4.48291421e-01  7.93192291e+00\n",
      "  1.05403013e+01  9.12411118e+00  3.39491348e+01  2.22480545e+01\n",
      "  4.68134308e+00 -8.71182346e+00  3.36072121e+01  1.40137901e+01\n",
      "  3.10835314e+00  6.42502117e+00  2.13654041e+01  4.50387878e+01\n",
      "  2.11624794e+01 -6.62429762e+00  3.17548237e+01  1.25774527e+01\n",
      "  3.59655800e+01  1.20290728e+01  1.86126399e+00  4.99597454e+00\n",
      "  1.17007751e+01  7.66857624e+00  4.80802631e+00  2.47276440e+01\n",
      "  2.88870163e+01  8.44073677e+00  8.04007053e+00  2.89881325e+00\n",
      "  2.79335556e+01 -4.19566345e+00  1.11619482e+01  2.61089191e+01\n",
      " -1.62642908e+00  1.83627272e+00 -3.18392180e-02  1.35938759e+01\n",
      "  3.10423470e+01  2.77522683e+00  1.87616634e+01  9.29532337e+00\n",
      "  2.58550682e+01 -8.66518617e-01 -6.12542915e+00  3.56349158e+00\n",
      "  7.37935877e+00  1.17853947e+01  2.65646482e+00  4.28185558e+00\n",
      " -1.12274027e+01  1.92408752e+00 -2.11429691e+00 -6.91619158e+00\n",
      " -1.46149111e+00  2.59662986e+00 -6.63896322e-01  3.93992424e+01\n",
      "  2.53358269e+01  7.01136589e+00  6.46197414e+00 -5.15817690e+00\n",
      "  7.22893906e+00  2.20182400e+01 -5.39745188e+00  1.89521904e+01\n",
      "  2.13246965e+00 -1.19232883e+01 -1.24531059e+01  2.85948734e+01\n",
      "  5.00784779e+00  5.96088219e+00  1.25435696e+01 -1.08822365e+01\n",
      "  4.52636099e+00 -1.65610561e+01 -2.35876579e+01  3.62448812e+00\n",
      " -1.10026944e+00 -6.69851422e-01 -8.04619789e+00  4.07961893e+00\n",
      " -6.91039038e+00  4.44601870e+00 -6.78643274e+00 -6.31732082e+00\n",
      " -2.64506012e-01  8.75381184e+00  1.05257761e+00  2.56430340e+00\n",
      " -2.20140266e+01 -2.58763561e+01 -2.20335560e+01 -6.22912884e+00\n",
      " -1.66360044e+00 -1.22677696e+00 -7.81742954e+00 -3.38470912e+00\n",
      " -1.96386397e+00 -2.64372015e+00 -1.32496870e+00 -3.79443824e-01\n",
      "  4.95832968e+00 -6.46990156e+00  9.42501843e-01 -9.40471458e+00\n",
      " -7.68569279e+00 -1.94183311e+01 -1.46920052e+01  1.71868253e+00\n",
      "  3.39033222e+00  8.17665958e+00 -1.54813995e+01  3.20448446e+00\n",
      "  7.26442862e+00 -1.40571773e+00 -2.73683858e+00  1.20404685e+00\n",
      "  6.82452440e+00 -6.27703094e+00  2.38398120e-01 -7.47245264e+00\n",
      " -1.60700476e+00 -2.24741974e+01 -5.62850094e+00  1.70793557e+00\n",
      "  4.26866198e+00  3.43732738e+00 -8.42887497e+00 -8.06612015e+00\n",
      "  1.98182487e+00  3.14098430e+00  2.84050584e-01 -6.02982569e+00\n",
      " -1.28820190e+01 -6.29308128e+00 -8.26279736e+00  2.55920911e+00\n",
      " -8.17020416e+00 -6.25628853e+00 -6.71886969e+00 -2.97595906e+00\n",
      "  4.43425030e-01 -1.21466932e+01 -2.97363052e+01  1.68575466e+00\n",
      " -3.49388099e+00 -2.46738415e+01 -2.83296514e+00 -3.63164520e+00\n",
      " -1.27292843e+01  3.70665103e-01 -2.54324818e+01 -2.16726780e+01\n",
      "  7.93395638e-01 -3.37476850e-01  1.17511556e-01  2.34633374e+00\n",
      " -7.06267691e+00  1.53264608e+01 -2.93207836e+01  3.31827998e+00\n",
      " -1.59997578e+01 -3.55024362e+00 -1.83749473e+00  4.89252329e+00\n",
      " -1.21423359e+01 -4.24576139e+00  1.67817545e+00 -2.43877873e-01\n",
      " -8.69154811e-01  1.60470235e+00 -3.25310421e+00 -1.57898700e+00\n",
      "  5.96069479e+00 -3.90032291e+00  1.02781076e+01  6.14842224e+00\n",
      "  4.46448374e+00  1.47886868e+01 -8.89940411e-02  2.72588634e+00\n",
      "  1.71737742e+00 -3.06606789e+01 -7.72934198e+00 -7.01160908e+00\n",
      "  1.66268384e+00  3.20987892e+00 -3.09788394e+00 -3.28722410e-02\n",
      " -5.24871016e+00 -9.48934460e+00  2.74744742e-02  2.16776991e+00\n",
      " -4.19377804e+00 -1.19229965e+01 -2.92164874e+00 -2.96226144e+00\n",
      " -7.58451319e+00 -1.74430141e+01 -3.24031568e+00  6.98480749e+00\n",
      " -9.29161310e-01  1.86246014e+00 -9.87024021e+00  5.06953478e+00\n",
      "  6.27789354e+00  6.16795063e-01 -7.69952822e+00  2.93201590e+00\n",
      " -2.22579231e+01 -4.85727167e+00 -4.12109041e+00 -2.31098881e+01\n",
      " -1.09469900e+01 -1.52699041e+00 -2.74620128e+00  8.64115298e-01\n",
      "  4.17427492e+00 -2.18012848e+01 -2.26403790e+01 -4.51405191e+00\n",
      " -6.38209391e+00 -3.42993951e+00 -2.62727308e+00 -4.64000320e+00\n",
      " -3.31223083e+00  3.95942235e+00  8.74467850e-01 -2.27532959e+01\n",
      "  2.86234736e+00 -2.89794296e-01 -3.39637160e+00  8.77825677e-01\n",
      " -6.90578640e-01 -2.01010590e+01 -2.02571392e+01 -4.78064823e+00\n",
      " -3.05599391e-01 -1.25001936e+01 -3.73889399e+00  2.52615047e+00\n",
      " -1.04307616e+00  1.35787714e+00 -2.55592406e-01 -5.36473513e+00\n",
      " -8.42076659e-01 -5.71235275e+00 -2.55634642e+00 -4.43832397e+00\n",
      " -3.27839780e+00 -2.43743014e+00 -3.97347867e-01 -1.70414126e+00\n",
      "  3.28605390e+00  4.92037392e+00 -8.42100334e+00 -3.90684867e+00\n",
      " -2.26509609e+01 -5.40047741e+00 -1.70343304e+01 -2.15102673e+01\n",
      "  6.00134134e+00  6.88420534e+00 -7.70197916e+00 -6.19122458e+00\n",
      "  4.88680935e+00 -1.10897055e+01 -2.19752502e+00 -1.09665036e-01\n",
      " -1.53091011e+01 -6.03850555e+00  2.61516857e+00 -9.44350052e+00\n",
      " -2.29668064e+01  4.52291679e+00  2.76625848e+00  8.20421576e-01\n",
      "  5.03719270e-01 -5.73450756e+00 -3.27649832e+00 -2.98869896e+01\n",
      " -4.36396027e+01 -2.89147339e+01 -2.49840488e+01 -2.53639841e+00\n",
      " -7.31994104e+00 -1.82471962e+01 -2.48918819e+00 -1.17613256e+00\n",
      " -2.05591888e+01 -3.73939395e+00 -1.60933838e+01 -2.62596169e+01\n",
      " -2.24466658e+00 -3.74174929e+00 -1.45306101e+01 -2.78211689e+01\n",
      "  3.95309782e+00 -6.94000483e+00  6.26647758e+00 -1.09777441e+01\n",
      " -1.84031525e+01 -3.00517979e+01 -9.35461521e+00 -2.61624002e+00\n",
      " -1.30037479e+01 -7.37189353e-01 -7.14680862e+00  4.86742306e+00\n",
      " -6.66627169e+00 -3.08709297e+01 -1.09338474e+01 -1.61202469e+01\n",
      " -3.37369347e+01 -4.95289373e+00  2.89975309e+00 -2.21395588e+01\n",
      " -1.50665417e+01 -1.05311251e+01 -5.02713776e+00 -8.64238644e+00\n",
      "  7.53349113e+00 -1.98918760e+00  1.35252011e+00 -3.23441010e+01\n",
      " -2.85288982e+01 -4.26658936e+01  4.70555782e+00 -1.38643241e+00\n",
      " -1.50467138e+01 -1.24913180e+00 -8.91920662e+00 -1.56538191e+01\n",
      " -3.57828093e+00 -1.03129501e+01 -6.86754036e+00 -1.01546144e+00\n",
      " -4.37445831e+00 -1.13281689e+01 -2.11358414e+01  4.47699404e+00\n",
      " -3.36950989e+01 -7.75788546e+00  9.89430904e+00 -3.06891022e+01\n",
      "  6.17695141e+00 -1.70782928e+01 -8.02459812e+00 -3.16915379e+01\n",
      " -2.52449532e+01 -5.17007685e+00  2.15417290e+00 -1.29587326e+01\n",
      "  3.42543912e+00 -3.17954183e+00 -1.39306593e+01 -3.88890147e+00\n",
      " -1.18615024e-01  1.92572260e+00 -1.85490074e+01 -8.08492947e+00\n",
      " -2.08804951e+01 -7.70065933e-02 -1.03118906e+01 -5.16878080e+00\n",
      " -5.63276196e+00  1.26485705e+00 -1.21729565e+01 -1.70889149e+01\n",
      " -2.04937887e+00 -1.68608742e+01 -5.88803673e+00 -2.17295051e+00\n",
      " -8.59323025e+00 -2.55472031e+01 -5.94623995e+00  2.33230419e+01\n",
      "  1.42381668e+01 -6.46528244e+00 -3.72963600e+01 -9.58712006e+00\n",
      " -2.40943432e+01 -6.02395296e+00 -2.52702274e+01  4.93789530e+00\n",
      " -1.83481712e+01 -9.17785740e+00 -1.18358593e+01 -1.14294109e+01\n",
      " -1.06139231e+01 -3.66407466e+00]' has dtype incompatible with int64, please explicitly cast to a compatible dtype first.\n",
      "  preds[val_index] = model.predict(dval_i)\n"
     ]
    },
    {
     "name": "stderr",
     "output_type": "stream",
     "text": [
      "\r",
      " 20%|████████████████████████████████████████████▍                                                                                                                                                                                 | 2/10 [01:07<04:27, 33.45s/it]"
     ]
    },
    {
     "name": "stderr",
     "output_type": "stream",
     "text": [
      "C:\\Users\\81809\\AppData\\Local\\Temp\\ipykernel_2040\\3386215446.py:18: FutureWarning: Setting an item of incompatible dtype is deprecated and will raise an error in a future version of pandas. Value '[ 7.21462369e-01 -5.61774063e+00 -6.19958830e+00 -6.38913393e-01\n",
      "  8.17328644e+00 -1.13965333e+00  5.69982719e+00  8.18688107e+00\n",
      "  2.89620328e+00 -1.12984705e+00 -4.02818298e+00  2.63515720e+01\n",
      "  2.17235661e+01 -8.28466117e-01  2.30557556e+01  2.56203613e+01\n",
      "  5.68395758e+00  1.06134443e+01  7.25311613e+00 -9.26606083e+00\n",
      "  5.74726009e+00  6.47653103e+00  9.05401802e+00  6.89405394e+00\n",
      "  2.57415056e+00  4.08386278e+00  7.84555817e+00  1.88080287e+00\n",
      " -5.71970844e+00 -4.95707464e+00 -7.79427886e-02  9.65095425e+00\n",
      "  1.06978436e+01  2.27772307e+00  2.52225227e+01 -1.69466221e+00\n",
      "  3.82859921e+00  2.88251171e+01  3.17778182e+00  5.44092417e+00\n",
      "  4.14202166e+00 -7.83168888e+00  5.47037601e+00  1.23454005e-01\n",
      "  3.11460423e+00  6.86412811e+00 -3.80826211e+00 -6.55192995e+00\n",
      "  6.91394901e+00 -9.80970001e+00  5.37077379e+00  5.96819019e+00\n",
      "  5.22681332e+00 -1.96557188e+00  8.85677242e+00 -3.79222602e-01\n",
      "  4.43967581e+00  1.81671677e+01  6.24504900e+00 -6.80580616e-01\n",
      "  2.19638081e+01 -3.86183262e+00  1.85822570e+00  2.66896210e+01\n",
      "  7.26254129e+00  7.67636251e+00  6.62673283e+00  1.85370827e+00\n",
      "  3.18891549e+00  2.58184719e+00 -2.12348485e+00  2.49328251e+01\n",
      "  8.53360844e+00 -1.53093532e-01  4.01719809e+00  1.44870310e+01\n",
      "  2.63325739e+00  1.79124908e+01 -7.49231005e+00  1.85786974e+00\n",
      "  5.36812067e+00  6.19702291e+00 -4.00930357e+00 -2.96383113e-01\n",
      "  1.47329788e+01 -4.89491177e+00  2.76367912e+01  2.01416612e-01\n",
      " -9.84758198e-01  1.43693886e+01  6.05093002e+00  2.34191704e+01\n",
      " -2.11494669e-01 -7.29455042e+00  1.03327961e+01  8.39090824e+00\n",
      "  3.50516796e+00 -2.15763307e+00  1.83788705e+00  4.30260897e+00\n",
      "  2.16374826e+00  1.99987221e+01 -3.71236968e+00  8.09920311e+00\n",
      "  2.01642151e+01  7.15263188e-01  2.31567097e+01  5.24850178e+00\n",
      "  5.01666260e+00 -3.13923955e+00  8.84738350e+00 -5.21966839e+00\n",
      " -1.14773262e+00  8.17375302e-01 -9.85595763e-01 -6.81575584e+00\n",
      " -3.78505476e-02  5.40833378e+00 -7.98462629e-01  6.64614296e+00\n",
      "  2.58343182e+01  3.61981535e+00  1.09724007e+01 -1.49611270e+00\n",
      "  1.22654116e+00 -5.81763506e+00 -2.21263885e+00  1.90441036e+00\n",
      " -4.50945973e-01  6.01150751e-01 -1.49195471e+01  1.13016338e+01\n",
      "  1.12579851e+01  2.14868488e+01 -5.28420019e+00 -3.52803797e-01\n",
      "  6.88247347e+00 -6.31081724e+00  7.83052683e-01 -3.06621695e+00\n",
      "  2.13658381e+00  1.67191887e+01  1.23809490e+01  1.89286053e+00\n",
      "  2.03697443e+00 -9.69935000e-01  3.80824804e+00 -6.60296726e+00\n",
      "  3.97358084e+00  1.38343019e+01 -2.12095714e+00  2.00332618e+00\n",
      " -1.79999065e+00  2.28942547e+01  2.83979964e+00  2.60469079e+00\n",
      "  3.04748955e+01  3.50250649e+00  3.23236537e+00  8.49124527e+00\n",
      "  9.69016433e-01  9.45280743e+00 -2.18082380e+00  2.68138528e+00\n",
      "  4.36179066e+00  5.81919146e+00  1.18663979e+01  2.65592670e+01\n",
      "  5.30286837e+00  5.97306061e+00 -3.16739869e+00  7.63907623e+00\n",
      "  3.08778858e+00  3.82507062e+00  1.95291066e+00  2.43502750e+01\n",
      " -8.92817378e-02  5.15165806e+00 -8.52165508e+00  3.22576237e+00\n",
      " -5.68966293e+00 -6.03929579e-01 -9.83381939e+00  6.60232782e+00\n",
      "  7.95184374e+00  3.76183915e+00 -2.72381210e+00  2.79423571e+00\n",
      " -1.51553854e-01 -5.77942371e+00  3.99511886e+00  3.08318920e+01\n",
      "  3.12092876e+01  4.49781036e+01  2.94323082e+01  1.93921356e+01\n",
      " -3.07756567e+00  3.04626060e+00  5.20910382e-01  1.28335581e+01\n",
      "  9.41886997e+00 -1.19202852e+01  6.86913872e+00  2.25337195e+00\n",
      "  9.48207951e+00  2.84371490e+01  9.67223465e-01  4.02237473e+01\n",
      "  8.75623608e+00 -1.11160650e+01  1.73752098e+01  1.06108265e+01\n",
      "  1.46691818e+01  1.73377876e+01  2.71102810e+01  1.72470188e+01\n",
      "  5.10748196e+00  3.29837966e+00  3.64256554e+01 -4.03030777e+00\n",
      "  1.28543558e+01  9.62719440e+00  2.47384434e+01  1.62990303e+01\n",
      "  1.94372253e+01  1.15709982e+01  2.34255338e+00 -5.80502987e+00\n",
      "  2.11116810e+01 -6.73518801e+00 -1.40511346e+00  2.92507858e+01\n",
      " -1.78123713e+00  1.26059055e+01  2.39791140e-01  9.91597652e+00\n",
      " -7.64525843e+00  2.72015762e+01  9.43032169e+00 -2.30702801e+01\n",
      "  3.22324142e+01  1.52092123e+01 -2.49996138e+00 -5.35863400e+00\n",
      "  4.72812510e+00  3.46770120e+00  1.54349136e+01  1.41288738e+01\n",
      "  2.65976310e+00  6.50854445e+00  4.22863817e+00  9.24814701e+00\n",
      "  3.94674377e+01  6.89388514e+00 -3.80890417e+00 -1.63723123e+00\n",
      "  8.45331383e+00  1.30331535e+01  3.41581559e+00  2.44296627e+01\n",
      "  3.01944065e+01 -6.28036404e+00  7.88958836e+00  7.93938589e+00\n",
      "  2.99058781e+01 -8.72380161e+00  4.19664097e+00  2.52324748e+00\n",
      "  1.27082987e+01  1.47106671e+00 -7.35452890e+00 -2.81788015e+00\n",
      "  3.63924828e+01  3.23559113e+01  1.50236425e+01  3.03317928e+00\n",
      " -1.48495030e+00  8.93799877e+00  1.86069012e+01  3.22576637e+01\n",
      " -3.27570486e+00 -1.07402554e+01 -8.83141232e+00  2.95452442e+01\n",
      " -8.27353001e+00  7.84964037e+00  2.37134647e+01  9.47778416e+00\n",
      "  2.70610638e+01  3.01448421e+01  8.28327942e+00  5.60892761e-01\n",
      " -2.51339321e+01  4.76826668e+00 -8.73801947e-01  6.14092159e+00\n",
      "  1.62267742e+01 -5.00769711e+00  3.83385925e+01  8.83775711e+00\n",
      "  2.19496517e+01  2.61563396e+01  1.28392973e+01  1.52090626e+01\n",
      " -4.55558300e-01  9.57292747e+00 -1.25795141e-01 -4.25108147e+00\n",
      "  2.53920770e+00 -9.76786423e+00 -2.30577221e+01 -7.41860628e+00\n",
      " -1.70753994e+01 -1.79992294e+01 -6.78308153e+00  4.35218716e+00\n",
      "  5.42926645e+00 -5.42034435e+00 -8.00083256e+00  2.79519510e+00\n",
      " -7.57872391e+00 -5.04280853e+00 -5.68660212e+00 -1.50247002e+00\n",
      " -5.67905903e+00 -2.07306156e+01  1.04192476e+01 -4.28772402e+00\n",
      " -4.21809578e+00 -6.81852007e+00  5.65640330e-01 -9.27552414e+00\n",
      " -7.35562420e+00 -7.07788134e+00 -1.79534864e+00 -7.44220912e-01\n",
      " -5.25919247e+00 -1.64409809e+01  1.59383273e+00 -1.90683289e+01\n",
      "  1.24551830e+01 -7.64515924e+00 -1.13907661e+01 -3.08542323e+00\n",
      " -1.50763350e+01 -6.27958107e+00  7.99214363e+00 -4.58593607e+00\n",
      "  3.24985480e+00 -6.42100286e+00 -2.25226545e+00 -7.69943714e+00\n",
      " -8.90986824e+00 -1.76982617e+00 -2.51412177e+00  6.68618727e+00\n",
      "  3.02062702e+00 -1.54307222e+01 -7.75774670e+00  2.62069225e+00\n",
      " -1.13799305e+01 -1.50377359e+01 -2.59168315e+00 -4.61945868e+00\n",
      "  4.63525581e+00 -4.34097409e-01 -2.59028339e+00 -3.30959821e+00\n",
      " -2.63890152e+01 -1.02019396e+01  3.43047428e+00  1.62913531e-01\n",
      " -1.42652235e+01  1.46491563e+00  1.09507513e+00 -3.24185967e+00\n",
      "  2.55557346e+00 -1.37691474e+00 -7.69117975e+00 -3.72821188e+00\n",
      "  1.84312671e-01 -1.71815605e+01 -2.75998235e+00  4.74362448e-02\n",
      " -3.72668147e+00 -1.80168343e+01 -5.03662443e+00 -1.20521486e+00\n",
      " -1.18817263e+01 -5.18032360e+00  2.27073416e-01  7.50147462e-01\n",
      " -2.43766479e+01 -2.18729758e+00  3.23667741e+00  5.42321539e+00\n",
      " -2.89364147e+00 -2.27144451e+01  4.34354639e+00 -8.03345203e+00\n",
      " -1.09832478e+01 -5.01308012e+00 -1.14580832e+01  5.08308411e-01\n",
      "  2.78827477e+00  4.17030859e+00 -2.70159751e-01 -3.58195543e+00\n",
      "  1.80520689e+00 -1.24178175e-03  2.70394182e+00  2.45645070e+00\n",
      " -1.47476997e+01 -1.01099672e+01 -6.61210489e+00  7.02622461e+00\n",
      "  4.64448005e-01 -1.08408868e+00 -2.65682030e+00 -1.24675226e+01\n",
      "  1.74969423e+00 -2.22442837e+01  3.76918793e+00 -6.48186207e+00\n",
      " -1.86206448e+00 -2.34417105e+00  2.59180641e+00  8.69011116e+00\n",
      " -1.38502944e+00 -7.60554218e+00 -1.79999864e+00  1.59359684e+01\n",
      "  7.85614550e-02 -2.94981270e+01 -7.92710924e+00 -7.79452324e+00\n",
      "  1.88956344e+00 -1.83738728e+01  8.37395668e+00 -1.15686822e+00\n",
      " -1.17400541e+01 -1.08028202e+01 -2.76834035e+00 -2.25906825e+00\n",
      " -2.22026348e+01  1.50644464e+01 -3.18585896e+00  1.46965396e+00\n",
      " -1.28702745e+01  1.12906075e+01  3.86451221e+00 -1.66186962e+01\n",
      "  2.77570695e-01 -1.05462017e+01 -6.00653315e+00 -6.08270311e+00\n",
      "  3.10198760e+00 -3.28245139e+00 -2.13457623e+01 -4.66745949e+00\n",
      " -2.11984272e+01 -4.76603746e+00 -4.67678070e+00 -4.46716404e+00\n",
      " -1.07961500e+00  2.15820193e+00 -7.30905831e-02 -8.05737782e+00\n",
      "  2.23579690e-01 -3.86853218e+00 -9.89043903e+00 -3.03555870e+00\n",
      "  9.50578094e-01 -9.21832371e+00 -3.63858998e-01 -5.47116137e+00\n",
      " -3.47942281e+00  1.54244244e-01  1.15350342e+00  1.95051634e+00\n",
      "  8.55942294e-02 -2.30754375e+01 -7.74227047e+00  5.11155653e+00\n",
      "  3.54703641e+00 -2.07177114e+00 -1.69408417e+01 -2.09314966e+00\n",
      " -4.16412830e+00 -7.37997961e+00  1.96686256e+00  4.92375940e-01\n",
      " -2.05943718e+01 -7.55968904e+00 -1.92906845e+00 -1.45360804e+01\n",
      " -2.14085293e+01 -2.48350601e+01 -2.01987400e+01  1.31592393e+00\n",
      " -4.41879416e+00  5.43139267e+00 -4.73986101e+00 -2.49040699e+00\n",
      "  7.51129198e+00  1.78386378e+00  3.71885836e-01 -3.93439651e+00\n",
      " -2.28803806e+01 -8.55743599e+00  2.48054600e+00  4.49972600e-01\n",
      " -1.95426142e+00 -3.17154956e+00  3.37909508e+00 -4.11100209e-01\n",
      "  1.66465473e+00  7.27176857e+00  3.22294974e+00 -9.29928684e+00\n",
      " -3.46922207e+00  3.25694710e-01 -1.16195984e+01 -2.77442188e+01\n",
      " -1.38666449e+01  5.08849716e+00 -1.34104741e+00  4.57314640e-01\n",
      " -1.73502979e+01 -1.29505739e+01  2.15012455e+00 -2.71564808e+01\n",
      "  1.65984190e+00 -2.21881828e+01 -2.37947674e+01 -8.45040321e+00\n",
      " -3.63169899e+01 -1.38883467e+01 -3.47738876e+01 -2.11967354e+01\n",
      " -6.89063358e+00  2.06044173e+00  1.15054064e+01  6.73783159e+00\n",
      " -3.27782784e+01 -2.56030617e+01 -1.13296156e+01 -3.14659901e+01\n",
      "  1.57111712e+01 -7.20840931e+00 -2.41651115e+01 -6.43574715e+00\n",
      " -5.99146843e+00 -1.33033867e+01  4.95981932e+00 -1.24987593e+01\n",
      " -3.07145500e+01  1.55774681e-02 -2.97702384e+00 -2.15146694e+01\n",
      " -1.08306656e+01 -2.76705780e+01 -1.23774424e+01 -1.99657345e+01\n",
      "  1.42871628e+01 -1.53540630e+01 -3.29481544e+01 -8.11226654e+00\n",
      " -4.85570335e+00 -7.11893320e+00  6.23212624e+00 -2.85809040e+00\n",
      " -8.65990162e+00 -2.84471245e+01  1.14516452e-01 -1.26902370e+01\n",
      " -4.08580475e+01 -1.13597798e+00 -1.48095322e+01 -1.81363523e+00\n",
      "  3.59175801e+00 -1.70876408e+01  5.54115248e+00 -3.16847019e+01\n",
      "  6.69701672e+00 -1.87491953e+00 -1.30997066e+01 -4.16081858e+00\n",
      " -1.23297014e+01 -5.52607107e+00 -2.21051431e+00 -2.04391060e+01\n",
      " -9.72401237e+00 -4.80625629e+00  3.62152648e+00  9.77344704e+00\n",
      " -7.54416513e+00 -6.29515028e+00 -2.36256084e+01  4.32168913e+00\n",
      "  8.18388844e+00  2.07660270e+00 -6.18205357e+00 -6.78677750e+00\n",
      "  9.88098335e+00  5.66335738e-01 -1.02210512e+01 -4.65317154e+01\n",
      "  3.71813440e+00 -2.93951263e+01  5.95507383e+00 -1.21350899e+01\n",
      " -2.90504208e+01 -3.39650702e+00 -9.66712570e+00  1.15227365e+01\n",
      " -1.28973341e+01 -1.99962406e+01 -8.77531242e+00 -2.39111633e+01\n",
      " -2.94249172e+01 -7.27383232e+00 -3.75352883e+00  1.44675910e+00\n",
      " -2.81925068e+01 -1.98634567e+01 -2.19941692e+01 -2.29807425e+00\n",
      " -5.29771471e+00 -3.47795701e+00 -1.06840458e+01 -6.84870672e+00\n",
      " -3.47313046e+00  7.70194626e+00 -2.96416340e+01  1.19982767e+01\n",
      " -8.23023129e+00 -5.46138716e+00  3.76143622e+00 -3.82332993e+01\n",
      " -6.37025070e+00 -2.38628044e+01 -1.20205927e+00  3.78241444e+00\n",
      " -1.50487490e+01 -4.15318632e+00]' has dtype incompatible with int64, please explicitly cast to a compatible dtype first.\n",
      "  preds[val_index] = model.predict(dval_i)\n"
     ]
    },
    {
     "name": "stderr",
     "output_type": "stream",
     "text": [
      "\r",
      " 30%|██████████████████████████████████████████████████████████████████▌                                                                                                                                                           | 3/10 [01:45<04:09, 35.65s/it]"
     ]
    },
    {
     "name": "stderr",
     "output_type": "stream",
     "text": [
      "C:\\Users\\81809\\AppData\\Local\\Temp\\ipykernel_2040\\3386215446.py:18: FutureWarning: Setting an item of incompatible dtype is deprecated and will raise an error in a future version of pandas. Value '[ 2.36747837e+00 -8.67833996e+00  5.40431404e+00  1.44618473e+01\n",
      "  2.20858173e+01  8.76107311e+00  4.19873810e+00 -2.77645874e+00\n",
      "  1.88122475e+00  8.13626647e-01 -2.92880702e+00 -3.19817924e+00\n",
      "  1.70746610e-01 -1.61921072e+00 -4.85735559e+00  2.11635094e+01\n",
      " -2.30010915e+00 -1.84400856e+00  2.21027985e+01  1.04029822e+00\n",
      "  6.49870205e+00  3.23358488e+00  4.34553683e-01  5.48910141e+00\n",
      " -4.46137619e+00  8.09317780e+00  4.47724342e-01 -3.20365334e+00\n",
      "  3.47648621e+00  5.06586599e+00  3.68457824e-01  1.61964741e+01\n",
      "  4.02221537e+00  3.42739868e+00 -2.94996381e-01  8.14197636e+00\n",
      "  5.94455302e-01  1.77283726e+01  2.83553767e+00 -7.15403748e+00\n",
      "  7.36790514e+00 -5.24133518e-02  8.02687454e+00  4.50325441e+00\n",
      " -6.27469254e+00  6.49527073e+00  2.55418539e+00 -8.44283962e+00\n",
      " -1.94022965e+00 -1.96191144e+00  2.15501175e+01  5.36015034e-01\n",
      "  1.06040514e+00 -2.36121798e+00  6.87761450e+00  2.01772428e+00\n",
      " -2.24106050e+00 -7.54162073e-01  2.35738106e+01  1.29990263e+01\n",
      " -3.52741289e+00 -4.42071736e-01  2.53360157e+01 -2.67178392e+00\n",
      "  2.89075541e+00 -7.48644531e-01  9.70834255e-01  1.44268489e+00\n",
      " -2.53296566e+00  4.57420111e-01  2.20283432e+01 -2.14769602e+00\n",
      "  7.48369026e+00  6.98300266e+00  3.12777936e-01 -2.68912792e+00\n",
      "  4.10734463e+00 -1.47116697e+00  2.25048113e+00 -9.07171345e+00\n",
      "  1.63845043e+01  3.63286567e+00  8.17800713e+00  1.09590673e+01\n",
      " -2.05796838e+00  4.75201988e+00  3.75393891e+00 -2.58416510e+00\n",
      "  2.57483482e+01  1.30118904e+01 -1.02142200e+01 -5.63065910e+00\n",
      "  1.78866196e+01 -2.91547847e+00 -1.86194086e+00  5.49935293e+00\n",
      " -9.88274932e-01  1.10772333e+01  5.63046932e+00 -1.85499215e+00\n",
      " -3.30271769e+00  3.56457353e+00  2.22985878e+01  1.53607969e+01\n",
      " -1.47345514e+01  1.82993069e-01 -3.14152575e+00  1.03625250e+01\n",
      " -1.58794904e+00  4.07715178e+00  8.03782940e+00  6.53479528e+00\n",
      "  1.49610128e+01  5.09718084e+00  1.30071163e+00  2.35293531e+00\n",
      " -2.49648786e+00  1.41175098e+01  1.82801456e+01  4.87554741e+00\n",
      "  5.90255165e+00  9.38210583e+00 -2.84449458e+00  6.73100948e+00\n",
      " -7.09137630e+00  1.82593119e+00  1.07082720e+01 -6.41461182e+00\n",
      "  7.31900740e+00  7.08440828e+00  3.93588400e+00  8.58206367e+00\n",
      "  9.28459072e+00  1.85814190e+01  1.28990746e+01  9.06035137e+00\n",
      "  3.87691483e-02 -4.09030104e+00  7.15890074e+00 -3.85261846e+00\n",
      " -4.35275364e+00  2.23576660e+01  9.65228748e+00 -1.70291829e+00\n",
      " -2.66576219e+00  5.98912287e+00  5.47242451e+00 -1.51312456e-01\n",
      "  5.99416828e+00 -2.00100231e+00  2.32375717e+01  4.61418390e+00\n",
      "  1.58309298e+01 -9.82111263e+00 -4.50359631e+00 -6.38967454e-01\n",
      " -7.29335165e+00  1.08877933e+00  2.36208487e+00  6.32708359e+00\n",
      "  5.84557962e+00 -1.14777060e+01  1.10734189e+00  1.59112144e+00\n",
      "  4.78408289e+00  3.88689709e+00  9.58363247e+00  3.30231595e+00\n",
      "  2.38916111e+00 -2.44747138e+00  4.25685644e+00 -6.59369564e+00\n",
      " -1.60973129e+01 -3.77523279e+00  4.40019637e-01  1.73127346e+01\n",
      "  2.96692395e+00 -2.00765109e+00  6.39628935e+00  3.67747664e+00\n",
      " -1.73906243e+00 -8.85197639e-01 -3.29799271e+00 -4.72607994e+00\n",
      "  2.63702240e+01  2.54774833e+00  2.24152851e+01 -5.89470291e+00\n",
      "  3.96120048e+00  4.91555738e+00 -3.99440575e+00 -2.81529331e+00\n",
      "  2.12365642e-01  8.25844955e+00  1.46589136e+01  1.26218998e+00\n",
      " -8.32469985e-02  1.70007877e+01 -2.16063614e+01 -2.10674787e+00\n",
      " -1.05616856e+01  1.25931253e+01  3.36742687e+00 -3.02384257e+00\n",
      "  3.14202356e+00  3.78157020e+00  1.84087002e+00  3.51680899e+00\n",
      "  9.83472729e+00  9.65155602e+00  2.04352474e+00  3.08320713e+01\n",
      "  3.06097946e+01  4.19029903e+00  1.00269861e+01 -1.91691267e+00\n",
      "  3.59577827e+01  1.67977548e+00  1.56669188e+01  1.12539921e+01\n",
      " -3.11976171e+00 -1.83803523e+00  2.22478533e+00  3.66142921e+01\n",
      "  1.25816956e+01  2.53282833e+01  3.59658661e+01  6.02511740e+00\n",
      " -2.73371577e-01  7.64636612e+00 -9.21017456e+00  6.01528835e+00\n",
      "  3.35148621e+00  2.81656456e+01  1.01034288e+01  1.82733440e+01\n",
      "  1.13418114e+00 -6.58965683e+00  9.92586911e-01 -1.41779385e+01\n",
      "  3.59828796e+01  1.20183878e+01  1.81274757e-01  2.45797157e+00\n",
      "  2.63238068e+01  1.95586548e+01  2.04474335e+01  5.36857843e+00\n",
      " -1.78992498e+00 -4.41684580e+00  1.88822117e+01  1.40278749e+01\n",
      "  2.94549313e+01  3.88681030e+00  7.72275209e+00  2.32517109e+01\n",
      "  3.72003126e+00 -1.47835369e+01  1.09223099e+01 -2.05835819e+00\n",
      "  3.04697299e+00 -4.58820581e+00  2.41580448e+01 -2.97086525e+00\n",
      "  3.03595333e+01  1.24825697e+01  3.75442576e+00  4.49389458e+00\n",
      "  1.46884799e+00  1.01101770e+01  3.48477097e+01  1.46480579e+01\n",
      "  5.14728832e+00  1.45694017e+01  3.44991913e+01  1.19731414e+00\n",
      "  6.74056625e+00 -8.31618404e+00  2.75507283e+00 -2.19031692e+00\n",
      "  1.32671814e+01  1.44747095e+01  2.16911087e+01 -2.38298225e+00\n",
      " -1.22444839e+01 -7.92618036e+00  1.19402063e+00 -7.15906000e+00\n",
      "  2.30249453e+00  2.17923126e+01  6.25539780e+00 -1.21121931e+01\n",
      "  3.38662958e+00  8.41323376e+00  5.27771860e-02  3.03914547e+00\n",
      "  2.05747128e+01 -7.46459818e+00 -1.33382845e+01  3.80982285e+01\n",
      "  7.26868773e+00 -5.00201368e+00  3.03060341e+01  1.24894819e+01\n",
      "  2.26014042e+01  1.45757084e+01  4.14132929e+00 -3.22842693e+00\n",
      " -1.35349436e+01  2.49902040e-01 -6.49953604e+00 -1.19869728e+01\n",
      " -3.58879185e+00 -1.17158918e+01 -1.57483711e+01 -9.31126595e+00\n",
      " -7.66679716e+00 -7.58217001e+00 -6.93689394e+00 -6.21310186e+00\n",
      "  5.24244022e+00 -6.41836834e+00  3.37158656e+00  1.98191118e+00\n",
      "  1.83797181e+00 -2.35531883e+01 -6.81603670e-01 -1.36607208e+01\n",
      " -2.13713703e+01 -1.37554765e+00 -5.75543451e+00 -9.72429335e-01\n",
      "  5.21043301e+00  4.29862356e+00 -1.31528223e+00 -8.14416122e+00\n",
      " -9.31757259e+00  1.02581632e+00 -5.47777700e+00  1.89320421e+00\n",
      "  4.30661410e-01 -5.39512336e-01 -5.08171177e+00 -2.74391441e+01\n",
      " -9.44720554e+00 -5.85395288e+00 -1.58461962e+01 -2.51287603e+00\n",
      " -6.25968075e+00 -1.88684349e+01 -7.31038284e+00  9.01937068e-01\n",
      " -5.53812790e+00  6.67057180e+00 -1.89391518e+01  8.77731800e+00\n",
      " -5.71235037e+00 -2.48853607e+01 -6.53647375e+00 -1.16872478e+00\n",
      " -5.35149765e+00 -9.53952408e+00 -5.52968740e+00 -4.41244793e+00\n",
      "  2.53221607e+00 -1.13593187e+01  3.46227098e+00 -1.46333504e+01\n",
      "  1.86230600e+00 -6.25921774e+00 -4.81881762e+00 -2.91010332e+00\n",
      " -2.21502399e+01 -8.72764015e+00 -5.24420309e+00 -9.04540443e+00\n",
      " -7.16624022e+00  8.83310199e-01  6.29540086e-01 -1.63522949e+01\n",
      " -2.71884193e+01 -2.69926000e+00 -1.01825774e+00 -1.43092752e+00\n",
      " -1.77029152e+01 -8.56521189e-01 -5.27088404e+00 -1.40047479e+00\n",
      "  6.63066804e-01 -2.58788605e+01 -2.03137817e+01  1.52127337e+00\n",
      " -1.12475252e+01  2.57634211e+00 -6.04335642e+00 -2.50265431e+00\n",
      " -5.68985462e+00 -1.13666639e+01 -4.97686434e+00 -5.37921143e+00\n",
      " -2.41057911e+01  1.50030756e+01  5.08056259e+00 -2.74602203e+01\n",
      " -1.64255619e+01 -1.60760059e+01 -1.79436665e+01 -5.99392700e+00\n",
      " -3.90795159e+00 -4.11834955e+00  9.15307236e+00 -5.30518532e+00\n",
      " -8.73973656e+00 -4.05031872e+00  8.31321537e-01  3.04247379e+00\n",
      " -3.80551159e-01 -1.12886250e+00 -1.51755991e+01  2.49453020e+00\n",
      " -3.04961894e-02  4.94937992e+00 -1.86135750e+01 -1.08658714e+01\n",
      " -2.73390889e+00 -4.83954096e+00  2.58814478e+00 -1.06530828e+01\n",
      " -1.26520653e+01 -2.80372524e+00 -2.43985742e-01 -8.65896583e-01\n",
      "  2.48696819e-01 -5.05169010e+00  6.19473636e-01 -5.74642599e-01\n",
      " -4.20308876e+00 -5.46504164e+00 -8.94638252e+00 -1.00098991e+01\n",
      " -5.88187504e+00 -4.20897341e+00  6.64193511e-01 -6.36288118e+00\n",
      "  5.84259391e-01 -1.82099891e+00 -2.20674343e+01  1.55885172e+00\n",
      "  3.47604966e+00 -1.71007595e+01 -2.88469934e+00 -1.94900942e+00\n",
      "  3.10103774e+00 -2.09491467e+00 -4.90726280e+00 -5.51799440e+00\n",
      " -3.21938729e+00  3.99523354e+00  1.98220730e+00 -2.18777046e+01\n",
      "  5.20721376e-01 -4.51125097e+00 -3.81793904e+00  7.35355794e-01\n",
      " -3.47951412e+00 -2.37805033e+00  3.93418574e+00 -3.11935115e+00\n",
      " -1.55352821e+01 -2.52836895e+00 -6.01325560e+00 -6.03726283e-02\n",
      " -3.97083044e+00 -1.23907280e+01 -5.58476925e+00 -6.91019058e+00\n",
      " -2.04626465e+00 -4.27592278e+00 -1.33102274e+01 -2.27278366e+01\n",
      " -1.43593740e+01 -2.41314983e+01  5.15160275e+00 -2.54072976e+00\n",
      "  1.25723553e+01  4.30910778e+00  4.07979155e+00 -1.15917645e+01\n",
      " -5.52232075e+00  3.38587642e+00 -3.43818045e+00  4.81024265e+00\n",
      " -2.13551540e+01  6.57254279e-01 -4.36439753e+00 -1.73915367e+01\n",
      " -3.93609214e+00  1.91275477e+00  2.52335012e-01 -1.82211900e+00\n",
      " -6.49412346e+00  6.88993549e+00 -1.19654732e+01 -4.43158340e+00\n",
      " -1.50235376e+01 -6.65032005e+00 -1.94942153e+00 -2.53688984e+01\n",
      " -1.55110817e+01  3.34382367e+00  4.19014037e-01 -3.67996740e+00\n",
      "  1.02136164e+01 -4.40800571e+00 -1.65685139e+01 -4.64936781e+00\n",
      "  2.55111599e+00 -5.06494856e+00 -3.60049033e+00 -8.09113026e+00\n",
      " -1.12832088e+01 -3.33458786e+01  2.61475849e+00 -2.54138126e+01\n",
      " -1.20226221e+01  5.28773117e+00 -1.89632835e+01 -1.39096870e+01\n",
      "  3.35806251e+00 -1.01192083e+01  1.96784055e+00 -2.67967319e+01\n",
      " -2.87930279e+01  4.11045790e+00 -3.42839813e+01 -2.67664967e+01\n",
      " -1.31640711e+01 -7.97111988e+00 -4.63570642e+00 -2.62012691e+01\n",
      " -1.49522114e+00 -1.35891504e+01  6.02460384e+00 -1.82568169e+00\n",
      " -4.92960167e+00 -7.87613750e-01 -4.34388695e+01 -1.57291508e+00\n",
      " -3.23892379e+00  6.77130985e+00 -2.11562157e+01 -2.38780231e+01\n",
      " -2.74727898e+01 -1.25632038e+01  1.23686838e+00 -8.34256935e+00\n",
      " -1.51024666e-02 -2.10987973e+00 -9.23693752e+00 -2.50505695e+01\n",
      " -1.56714037e-01 -7.65287876e+00 -2.93061703e-01 -1.64993973e+01\n",
      " -9.02626514e+00 -6.41112089e+00 -3.78277421e+00 -1.30478706e+01\n",
      " -1.33536558e+01 -3.12280293e+01 -2.42640042e+00 -4.25434256e+00\n",
      " -3.10395374e+01 -3.63508034e+01 -3.77421303e+01 -8.18062401e+00\n",
      " -8.70752811e+00 -2.90811386e+01 -7.07781887e+00 -1.92543297e+01\n",
      "  2.53410625e+00 -1.59116106e+01 -1.13653755e+01  1.00715704e+01\n",
      "  2.77830911e+00  1.97364187e+00 -4.48988390e+00 -6.42300320e+00\n",
      " -1.19076538e+01  8.67871046e-02 -1.38351793e+01 -3.92627549e+00\n",
      "  4.27599573e+00  4.95446348e+00 -6.91383886e+00  3.19504470e-01\n",
      " -6.74154663e+00 -1.54529772e+01 -1.78858452e+01 -4.33502007e+00\n",
      "  9.11069202e+00 -7.77482939e+00 -2.99555945e+00 -1.14613247e+01\n",
      " -1.14565735e+01  2.48353004e+00 -1.73340282e+01 -2.50494957e+01\n",
      "  2.94744563e+00 -3.92730188e+00  8.30792308e-01 -1.92101746e+01\n",
      " -5.19095707e+00 -4.82170153e+00 -2.18753796e+01 -3.98623919e+00\n",
      "  9.36791039e+00 -5.14196575e-01 -5.96603727e+00  7.68276310e+00\n",
      " -7.96662664e+00 -2.48017750e+01 -8.99044871e-01 -2.72648849e+01\n",
      " -1.43196850e+01  4.65862560e+00 -1.72104053e+01 -6.31286955e+00\n",
      " -6.43684149e+00  8.01331234e+00 -1.76034412e+01 -3.01455307e+01\n",
      " -3.89027901e+01 -9.86711311e+00 -7.25785065e+00 -3.71330795e+01\n",
      " -2.96520729e+01 -4.18853903e+00 -1.99318848e+01  6.01196671e+00\n",
      "  9.94824219e+00 -3.52866325e+01 -2.89013863e+00 -2.84480686e+01\n",
      " -1.57590628e+01 -2.27775764e+01]' has dtype incompatible with int64, please explicitly cast to a compatible dtype first.\n",
      "  preds[val_index] = model.predict(dval_i)\n"
     ]
    },
    {
     "name": "stderr",
     "output_type": "stream",
     "text": [
      "\r",
      " 40%|████████████████████████████████████████████████████████████████████████████████████████▊                                                                                                                                     | 4/10 [02:22<03:36, 36.14s/it]"
     ]
    },
    {
     "name": "stderr",
     "output_type": "stream",
     "text": [
      "C:\\Users\\81809\\AppData\\Local\\Temp\\ipykernel_2040\\3386215446.py:18: FutureWarning: Setting an item of incompatible dtype is deprecated and will raise an error in a future version of pandas. Value '[-1.01601334e+01 -3.85020554e-01  2.17062111e+01  1.17046108e+01\n",
      "  2.12445126e+01  1.80495777e+01 -1.62731481e+00  5.72331905e+00\n",
      "  9.11197758e+00  7.69234467e+00  8.23045063e+00 -4.07390642e+00\n",
      " -3.56299829e+00  2.77701950e+00  2.51055450e+01  2.22860718e+01\n",
      " -1.31058693e+00  7.23696709e+00 -1.04299021e+00  3.14441943e+00\n",
      "  9.65450287e+00  1.80222738e+00  1.92553673e+01  2.06961880e+01\n",
      "  2.49879670e+00 -5.86489868e+00  1.50558865e+00  2.24682355e+00\n",
      "  6.80253315e+00 -5.70083046e+00  6.74874020e+00 -1.37861121e+00\n",
      "  1.81840057e+01 -1.90269029e+00 -7.52850103e+00  2.64179492e+00\n",
      "  1.75515423e+01 -6.22005749e+00  7.91751385e-01 -3.11532140e+00\n",
      "  2.12279701e+00  7.64502048e+00 -5.21796417e+00 -8.07550526e+00\n",
      " -3.08070183e+00  8.21838665e+00  6.73768806e+00  1.40973063e+01\n",
      "  7.19057560e+00  7.93168068e+00  5.87423611e+00 -5.01865673e+00\n",
      " -3.76640630e+00  5.91657257e+00 -1.28491411e+01  6.12087536e+00\n",
      "  7.77442884e+00  2.31567135e+01  2.12463398e+01  4.91331482e+00\n",
      "  5.07355690e+00  1.56926644e+00  4.14455080e+00 -1.74013329e+00\n",
      "  5.89130116e+00  6.02493238e+00 -1.49196482e+00  2.36402583e+00\n",
      "  3.65502882e+00  2.35830307e+00 -1.41955817e+00  2.23251700e+00\n",
      " -2.00525856e+00  5.07110929e+00  8.24517608e-01  2.77870560e+01\n",
      "  8.32968140e+00 -2.34994221e+00 -6.83719301e+00 -2.04049850e+00\n",
      "  1.19036999e+01  2.10124159e+00 -2.56832814e+00  2.68991590e+00\n",
      "  9.54454517e+00  2.16313338e+00  1.33539343e+01  1.74581444e+00\n",
      "  2.31760406e+01  1.07120771e+01 -1.04404526e+01 -6.15230036e+00\n",
      "  2.24954491e+01 -5.08514786e+00  7.84019232e+00  1.21001778e+01\n",
      "  3.07009339e+00  1.19906864e+01 -1.33505857e+00 -2.54965091e+00\n",
      " -7.05503821e-01  1.22626753e+01  2.35227375e+01 -7.89225149e+00\n",
      " -6.41509390e+00  1.34815693e+01 -2.36906958e+00  4.58567619e+00\n",
      "  3.41106200e+00  2.41169643e+00 -7.56526566e+00 -1.83164299e+00\n",
      "  1.28026927e+00  5.22474670e+00  1.24153173e+00  2.84519196e+00\n",
      " -1.02990217e+01  6.49644184e+00 -1.96782696e+00  7.15156078e-01\n",
      " -3.19564295e+00  6.89180803e+00  4.17049742e+00 -2.94070482e+00\n",
      "  4.00911283e+00  2.56302452e+00  7.27610207e+00  6.35542583e+00\n",
      "  1.44120007e+01  4.38558197e+00 -1.96589813e+01 -1.25159025e+00\n",
      "  3.54975295e+00 -9.97421384e-01  7.56260204e+00 -3.72416854e+00\n",
      "  2.65807360e-01  5.58444452e+00  3.04255905e+01  1.28456860e+01\n",
      " -1.47900188e+00  1.69885025e+01  2.14095631e+01 -3.52622414e+00\n",
      " -7.34231663e+00  1.48013706e+01 -4.52059656e-01  8.14758873e+00\n",
      "  1.75122190e+00  6.01029730e+00  6.05838728e+00 -4.00295210e+00\n",
      "  1.44858665e+01  3.70443106e+00  1.71648312e+00  1.99572432e+00\n",
      "  7.89291477e+00  2.06814442e+01  2.85598922e+00 -1.04784451e+01\n",
      "  2.70877767e+00 -7.41948891e+00 -9.27881777e-01  3.79430461e+00\n",
      " -3.96309710e+00  5.94164228e+00  9.41723347e-01  4.37056571e-02\n",
      "  3.00512838e+00  1.02743292e+01 -9.14441168e-01  7.55422544e+00\n",
      "  1.04242630e+01 -6.82533598e+00  4.03382874e+00  3.44690490e+00\n",
      "  3.75185683e-02  6.65589190e+00  5.23350906e+00  2.89765692e+00\n",
      " -2.30309510e+00  5.98181915e+00 -2.54122090e+00 -5.30023003e+00\n",
      " -5.81951284e+00  1.27303820e+01  3.08158207e+00  6.18463802e+00\n",
      " -1.27277815e+00 -1.63826215e+00  2.69637814e+01  5.52443838e+00\n",
      "  2.48037109e+01 -1.00358045e+00 -8.97778606e+00  1.36847401e+01\n",
      "  1.22117300e+01  4.08241844e+00 -4.80486751e-01 -4.90999079e+00\n",
      "  1.00949612e+01  1.62398815e+01 -3.30946302e+00 -3.09196830e+00\n",
      "  4.80703974e+00  4.68028116e+00 -1.05298338e+01  4.34321165e+00\n",
      " -5.88995934e+00 -6.97759104e+00 -1.30456233e+00  1.49432552e+00\n",
      "  1.19092884e+01  1.32686892e+01 -5.98281145e+00  2.74894962e+01\n",
      "  8.10429573e+00  1.10473328e+01  5.37810087e+00  1.25001020e+01\n",
      " -5.12801456e+00  3.33828011e+01 -1.72860348e+00  1.77200394e+01\n",
      " -2.56853890e+00  2.46233807e+01  2.38763256e+01 -5.26636505e+00\n",
      " -6.77459431e+00  9.97413826e+00  1.48754778e+01  1.80802994e+01\n",
      " -7.61110353e+00 -3.52264929e+00 -2.56988955e+00  2.06974983e+00\n",
      "  2.48138309e-01  1.83217869e+01  3.66975060e+01 -9.39739810e-04\n",
      "  1.23351872e+00  7.56307554e+00 -1.88853574e+00  2.02717113e+01\n",
      "  1.53234921e+01  2.05560055e+01  2.05340252e+01  1.60481720e+01\n",
      "  8.67717934e+00  1.27656019e+00  8.62109375e+00  2.34965496e+01\n",
      "  4.77099133e+00  4.25968218e+00  2.62467861e+01  7.15948629e+00\n",
      " -8.28010178e+00  2.51251831e+01  1.50289469e+01  2.21462002e+01\n",
      " -9.29616630e-01  3.01772428e+00  2.52113323e+01  9.80512047e+00\n",
      "  1.73594112e+01  1.78192842e+00 -1.10480890e+01 -8.30436885e-01\n",
      "  1.95693064e+00  3.02273788e+01  1.17719765e+01  1.58899183e+01\n",
      " -7.42628431e+00  1.29913406e+01  3.74267540e+01  1.11348829e+01\n",
      "  6.53181791e+00  1.52054033e+01 -4.40686464e+00  3.54762306e+01\n",
      "  3.77627194e-01 -2.85264492e+00  4.19453506e+01  8.93284798e+00\n",
      "  5.14855242e+00 -7.42830944e+00  5.14577770e+00  3.86267700e+01\n",
      "  4.30926085e+00  2.96993685e+00 -9.36979949e-01  1.72206345e+01\n",
      "  1.44039564e+01  2.93279781e+01  1.39205704e+01 -2.68715119e+00\n",
      " -4.06213284e+00  1.22518988e+01  2.11494083e+01 -4.02135468e+00\n",
      "  5.85188150e+00  1.05060472e+01  3.64395976e+00  2.83181801e+01\n",
      "  1.70822716e+01  4.40230083e+00  1.38572016e+01  3.83400536e+00\n",
      "  1.43368740e+01  5.46798897e+00  7.35539103e+00 -2.98811865e+00\n",
      " -4.74475574e+00  9.70315552e+00  1.28164377e+01  5.68013430e+00\n",
      "  1.50902681e+01  2.30943418e+00  1.71641722e-01  2.60432076e+00\n",
      " -5.22359133e-01 -4.36710215e+00  2.78362989e+00 -8.17555332e+00\n",
      " -9.40960121e+00 -5.24155426e+00 -1.86943855e+01 -9.36759281e+00\n",
      " -1.01314533e+00  2.31595445e+00 -7.12922287e+00 -7.24901199e+00\n",
      " -8.48670673e+00 -4.12634277e+00 -2.89051747e+00 -6.97736216e+00\n",
      " -2.07972431e+01 -4.21824646e+00 -3.13326025e+00 -8.68839073e+00\n",
      " -1.01064110e+01 -7.62614822e+00  1.66075099e+00 -5.16747952e+00\n",
      " -3.02218843e+00 -2.03062877e-01  7.81275940e+00 -7.94675589e+00\n",
      " -2.60695100e-01  3.78417158e+00 -2.84058952e+00 -1.42713346e+01\n",
      " -1.19542513e+01 -1.39126301e+00  4.36954081e-01  1.35702455e+00\n",
      " -2.08882093e+00 -3.59562969e+00  3.81617856e+00 -5.90485287e+00\n",
      " -8.13247585e+00  4.41224003e+00 -9.18053436e+00 -1.94590485e+00\n",
      " -1.39904938e+01  3.34417081e+00 -6.24034595e+00 -1.41957688e+00\n",
      " -7.99235344e+00 -6.99267530e+00  4.63136816e+00  3.95254779e+00\n",
      " -8.67760658e+00 -3.95872831e+00 -6.36717749e+00 -5.65446138e+00\n",
      " -2.40302563e+01 -1.46105137e+01  4.14298475e-01 -7.63765240e+00\n",
      " -3.11355400e+00 -6.40689802e+00 -1.08162498e+01 -7.25875711e+00\n",
      " -2.54945159e+00  1.02058673e+00  3.43453944e-01 -1.88933048e+01\n",
      " -2.50656300e+01 -7.32325840e+00  2.61302710e+00  1.87834585e+00\n",
      "  6.74791622e+00 -1.78350010e+01 -4.91361856e+00  4.33520705e-01\n",
      " -9.17753983e+00 -1.40214815e+01  4.67445183e+00 -1.99532738e+01\n",
      " -3.38115662e-01 -1.05509174e+00 -1.48792257e+01  2.31962252e+00\n",
      " -1.79280376e+01 -1.24508488e+00  8.23516369e+00 -8.12954998e+00\n",
      "  3.63513041e+00 -9.70334244e+00 -9.76477528e+00 -5.07808304e+00\n",
      " -5.74454498e+00 -5.61304283e+00  1.65273547e+00 -6.61790466e+00\n",
      " -1.62204111e+00 -2.47875614e+01  3.16393685e+00  1.69625759e+01\n",
      "  2.33380151e+00 -1.08907967e+01 -9.41124535e+00 -5.82620955e+00\n",
      "  1.08168566e+00  1.94772422e+00 -8.56010246e+00 -4.70000648e+00\n",
      " -4.47819948e+00 -4.93392110e-01  1.83366346e+00 -1.53608203e+00\n",
      "  2.19440317e+00 -3.40445900e+00 -7.51086903e+00  1.04171896e+00\n",
      "  5.11091805e+00 -4.87257910e+00 -1.59446999e-01 -6.83303833e+00\n",
      " -2.40975761e+00 -8.45733547e+00  3.44023323e+00  2.14752064e+01\n",
      " -2.14190483e+01 -6.20697021e+00 -3.45381713e+00 -3.58637929e+00\n",
      " -1.96836910e+01 -3.49305916e+00  1.32491279e+00 -1.78725128e+01\n",
      "  4.68744802e+00 -2.74786294e-01 -1.85217702e+00 -9.59001064e+00\n",
      "  4.90657043e+00 -5.26403570e+00 -4.74230766e+00  2.64544415e+00\n",
      " -1.10692009e-02 -3.54512930e+00 -7.81044531e+00  2.51573145e-01\n",
      "  7.14637375e+00 -1.25716381e+01 -1.37759829e+00 -1.58255787e+01\n",
      " -2.23044014e+00 -3.68242216e+00 -5.83687353e+00  8.48879814e+00\n",
      "  5.79342413e+00 -4.32172108e+00 -2.42864537e+00  6.47178030e+00\n",
      " -4.04866159e-01  1.53433001e+00  5.30558109e+00 -3.28367352e+00\n",
      " -2.08846359e+01 -1.21418276e+01 -3.28220129e+00  9.35019970e-01\n",
      "  1.11583300e+01 -8.03640783e-01 -2.12030515e-01 -8.25313473e+00\n",
      " -2.99887991e+00 -6.43435287e+00 -3.84329438e+00 -2.32777858e+00\n",
      " -7.78381872e+00  1.37715757e+00 -1.41497164e+01 -2.13381138e+01\n",
      " -7.62978029e+00 -4.30646229e+00 -1.10163546e+01 -1.93877563e+01\n",
      " -3.68706584e+00 -4.34014606e+00  1.98775780e+00  7.88310194e+00\n",
      " -2.72913532e+01 -3.75588536e+00 -1.80544269e+00 -1.43587313e+01\n",
      " -1.16805462e-02 -2.27560730e+01 -2.12666626e+01  1.36547995e+00\n",
      " -7.82389021e+00 -5.84934950e+00 -4.92789555e+00 -6.33397773e-02\n",
      " -8.64649391e+00 -4.41811371e+00 -5.75148821e+00 -6.63982677e+00\n",
      "  5.31264544e-01  1.15109835e+01  2.15562134e+01 -5.03065538e+00\n",
      "  3.24809051e+00  4.23262501e+00 -5.86137342e+00 -5.51375914e+00\n",
      " -4.21517801e+00 -3.03400135e+01 -5.50924492e+00 -2.47428665e+01\n",
      " -3.00220318e+01 -4.84686232e+00 -3.65636978e+01  1.22936392e+01\n",
      " -1.18698854e+01 -1.51257315e+01  8.82921791e+00 -6.15334702e+00\n",
      " -8.30222225e+00 -2.91930122e+01 -2.49292145e+01 -2.43869877e+01\n",
      " -4.48447275e+00 -3.70088768e+01 -2.45324459e+01 -7.69126320e+00\n",
      " -4.34941483e+00 -2.17047901e+01 -2.83340092e+01 -1.54815750e+01\n",
      " -1.89800930e+01 -1.10629711e+01 -2.27284355e+01 -3.56300850e+01\n",
      " -2.27751866e-01 -2.56649828e+00 -5.68733644e+00 -4.30643654e+00\n",
      " -4.53648453e+01  5.11250687e+00 -1.89276485e+01 -9.92242050e+00\n",
      " -1.30548296e+01 -7.09972501e-01  2.32651901e+00 -2.61498737e+00\n",
      " -1.28768530e+01 -1.13187103e+01  1.34354954e+01  2.22459030e+01\n",
      " -3.54343891e+00 -7.65985966e-01 -1.96399727e+01 -1.24021521e+01\n",
      " -2.84466686e+01 -2.92463894e+01  3.56725574e+00 -1.66777020e+01\n",
      "  7.85353136e+00  1.12445040e+01 -3.06645985e+01 -1.40655470e+01\n",
      " -3.06212025e+01 -3.31320839e+01 -1.23717175e+01 -3.87130022e+00\n",
      " -3.62968063e+01 -5.17608738e+00 -3.61881447e+01  1.22000532e+01\n",
      " -1.15452938e+01 -2.30537663e+01 -2.71017475e+01 -5.99268818e+00\n",
      " -4.64539558e-01 -6.53112841e+00 -1.38764000e+01 -9.24750626e-01\n",
      " -2.90911274e+01 -1.38771763e+01 -2.43581085e+01  3.80142784e+00\n",
      " -8.69708347e+00  4.43092155e+00 -3.67066288e+00 -3.13046837e+01\n",
      " -1.46949279e+00 -1.80749142e+00 -7.59235954e+00 -1.39439936e+01\n",
      "  2.81193972e+00 -5.89037275e+00 -8.97826958e+00 -3.05272770e+00\n",
      " -4.84729671e+00 -2.42238178e+01 -2.91370964e+01 -2.75814819e+01\n",
      " -1.73770618e+01 -5.76093388e+00 -2.79593239e+01 -2.01584873e+01\n",
      " -6.92759228e+00  1.21938086e+01 -5.10371447e+00 -1.10164385e+01\n",
      " -1.38215036e+01 -6.44323111e+00  1.67478228e+00  9.50660515e+00\n",
      " -3.99927597e+01  2.43652272e+00 -2.47312412e+01  3.78652263e+00\n",
      " -1.11667461e+01  6.47924781e-01 -1.09009113e+01 -3.49811196e+00\n",
      " -2.01670718e+00  1.85622749e+01 -7.97228956e+00 -1.97380028e+01\n",
      " -3.39538717e+00 -2.63825488e+00]' has dtype incompatible with int64, please explicitly cast to a compatible dtype first.\n",
      "  preds[val_index] = model.predict(dval_i)\n"
     ]
    },
    {
     "name": "stderr",
     "output_type": "stream",
     "text": [
      "\r",
      " 50%|███████████████████████████████████████████████████████████████████████████████████████████████████████████████                                                                                                               | 5/10 [03:06<03:14, 38.95s/it]"
     ]
    },
    {
     "name": "stderr",
     "output_type": "stream",
     "text": [
      "C:\\Users\\81809\\AppData\\Local\\Temp\\ipykernel_2040\\3386215446.py:18: FutureWarning: Setting an item of incompatible dtype is deprecated and will raise an error in a future version of pandas. Value '[ 2.71958470e+00  4.51430053e-01  1.47375612e+01  4.11740685e+00\n",
      " -5.63084555e+00 -9.73889351e-01  1.98441238e+01  6.70918894e+00\n",
      "  1.04072590e+01  7.22664022e+00  2.03715849e+00  5.71213579e+00\n",
      "  6.79010201e+00  2.49473782e+01  2.79358697e+00  2.16159325e+01\n",
      "  2.28896809e+01 -9.04061031e+00  1.87465155e+00  1.55388510e+00\n",
      "  7.49856412e-01 -3.75279593e+00  2.66980114e+01  2.83484535e+01\n",
      "  1.14733181e+01  3.98847842e+00 -3.96486402e+00  8.47892380e+00\n",
      "  3.97125864e+00 -4.26395535e-01 -2.30544448e+00  5.40395737e+00\n",
      "  2.24995708e+00  5.05665112e+00  1.60934505e+01  2.58394670e+00\n",
      "  3.08796465e-01  1.96789227e+01 -2.78659821e+00  4.47419739e+00\n",
      "  1.54416859e+00 -3.93304992e+00 -1.22338760e+00  7.93543530e+00\n",
      " -5.64325476e+00 -8.58425331e+00  1.71777172e+01  5.51124668e+00\n",
      "  2.33144569e+01  6.82120705e+00  1.50591183e+00  5.26191330e+00\n",
      " -1.41808355e+00 -1.59502459e+00  1.97786701e+00  1.21918440e+01\n",
      "  1.41374569e+01  6.01686382e+00  1.91302121e+00  4.05050993e+00\n",
      "  2.76442671e+00  5.09198475e+00  5.09716654e+00  6.76035976e+00\n",
      " -7.89420545e-01 -1.91109133e+00  1.72421875e+01  7.74549007e+00\n",
      "  1.23004732e+01  2.81786919e+01  3.82410192e+00  2.70992088e+01\n",
      " -9.51858234e+00  1.20042467e+01  1.10871544e+01  7.83904433e-01\n",
      "  4.38614845e+00  2.72122135e+01  7.86983681e+00  2.25426693e+01\n",
      " -1.37592816e+00  9.44237709e+00  7.91076279e+00 -2.42510939e+00\n",
      "  3.10925937e+00  1.23605137e+01  2.71322680e+00  1.10510206e+01\n",
      " -1.42935777e+00 -5.27049541e-01  2.60336285e+01 -3.31549239e+00\n",
      " -3.40721798e+00 -3.12682819e+00  2.73186607e+01 -7.76173830e-01\n",
      "  1.65860252e+01  4.99268144e-01  1.25639591e+01  5.02270341e-01\n",
      " -3.40259957e+00  3.94154024e+00  9.62917328e-01  1.58763313e+01\n",
      "  1.42848301e+01  2.09454308e+01 -5.66717339e+00  8.21169281e+00\n",
      " -3.63404679e+00  8.50659752e+00  1.08579359e+01  4.53997135e+00\n",
      " -1.43904190e+01 -3.95917082e+00 -2.34591722e+00  1.07513447e+01\n",
      " -2.76920021e-01  3.09962769e+01  1.41289682e+01  4.94984484e+00\n",
      "  9.50954819e+00  8.38692379e+00  1.72444763e+01  8.18357289e-01\n",
      "  1.19888725e+01  3.57908297e+00 -1.49785626e+00  8.06854725e+00\n",
      " -1.47032642e+00  3.16944790e+00  3.84918356e+00  4.21883869e+00\n",
      "  1.24173202e-01  7.84229040e+00 -1.16700754e+01 -7.30149209e-01\n",
      " -2.80081940e+00 -5.09871483e+00  6.78206110e+00  2.74130154e+00\n",
      " -2.38726568e+00  1.66095276e+01  1.30208702e+01 -6.20842457e+00\n",
      "  1.83001709e+01  1.74676437e+01  2.35850601e+01  3.38035703e+00\n",
      "  4.62348461e+00  3.95373607e+00 -1.69227374e+00  6.63203621e+00\n",
      "  4.29231787e+00  1.27879992e+01 -1.38954449e+00  2.43708706e+00\n",
      "  1.17597468e-01 -3.13051510e+00  4.46978378e+00  2.09395638e+01\n",
      "  6.32773352e+00  5.17276859e+00  1.69241858e+00  7.52156448e+00\n",
      "  8.45404685e-01 -2.49064271e-03  4.41443443e+00  6.57494307e+00\n",
      "  1.11706104e+01 -5.80825377e+00  2.23206367e+01  3.18816829e+00\n",
      "  1.28454800e+01  7.20516872e+00  7.13400841e+00 -2.18602896e+00\n",
      "  2.06723547e+00  1.13898048e+01  4.09810448e+00  2.48871002e+01\n",
      "  7.34662628e+00  1.03206472e+01  1.03944855e+01  3.35192037e+00\n",
      "  2.56439590e+01  5.72177839e+00  5.20821953e+00  6.58814240e+00\n",
      "  4.67655659e+00  9.46131802e+00  1.00000105e+01  8.83227158e+00\n",
      "  6.33963299e+00 -2.51868057e+00  1.67331982e+01 -1.87247992e+00\n",
      "  3.27521467e+00 -8.34489942e-01  4.11178970e+00  1.18043814e+01\n",
      "  3.44640961e+01 -2.53631568e+00  4.37270241e+01 -2.27339029e+00\n",
      "  1.40727949e+01 -2.28648260e-01  3.82652521e+00 -6.73118067e+00\n",
      "  8.30765438e+00  2.06835938e+00  1.31366491e+01  5.56146955e+00\n",
      " -7.63321018e+00 -1.67739773e+00  2.22234554e+01  2.37269554e+01\n",
      "  1.01205139e+01  1.07337010e+00  3.41332588e+01  3.64389915e+01\n",
      "  5.72444439e+00  2.11982346e+01  9.45296669e+00  1.35077162e+01\n",
      "  1.69552479e+01 -6.35350370e+00  1.36267109e+01  7.40000010e+00\n",
      " -5.15288210e+00 -1.94463658e+00  2.15657401e+00 -7.38489103e+00\n",
      "  9.72996712e+00  3.11813736e+00  1.79124947e+01  3.51281662e+01\n",
      "  1.33779120e+00  3.17293530e+01  1.40180147e+00  1.37932539e-01\n",
      " -4.66194838e-01  5.50603819e+00  4.86860657e+00  1.65250027e+00\n",
      " -6.37222719e+00  1.56087148e+00  1.61681614e+01  4.09953356e+00\n",
      "  1.02198811e+01  1.38606644e+01  3.33645897e+01  4.51408291e+00\n",
      " -6.22845268e+00  1.48257971e+01  2.20554962e+01  1.14462118e+01\n",
      "  8.59217548e+00  7.37518787e+00  2.83191109e+00  3.02660584e+00\n",
      "  4.42469063e+01 -3.57960081e+00  2.48213673e+01 -3.73773384e+00\n",
      " -3.94741583e+00  1.62997074e+01  3.17454090e+01  7.04165697e+00\n",
      "  1.35007963e+01  1.03114805e+01 -1.23088789e+00  8.19804573e+00\n",
      "  1.58047190e+01  3.21499405e+01  1.25827503e+00  2.60341048e+00\n",
      "  6.32888269e+00 -2.63865280e+00  9.14183044e+00  4.88615704e+00\n",
      "  4.63215752e+01 -3.89018273e+00 -1.87363255e+00 -1.47652471e+00\n",
      "  2.98172321e+01 -5.59427357e+00  2.53539143e+01  2.07076168e+01\n",
      "  3.81757402e+00 -1.27530413e+01  1.02187624e+01  2.09369297e+01\n",
      "  8.01836205e+00  3.16313922e-01  6.40616655e+00  3.63031921e+01\n",
      " -3.07474184e+00  1.17280788e+01  5.72649765e+00  1.55974636e+01\n",
      "  2.80350447e+00  6.64500952e+00  4.32797909e+00 -9.34123516e+00\n",
      " -8.05182362e+00  1.11823702e+00 -1.02568512e+01 -1.74253833e+00\n",
      "  7.40588522e+00  9.30847931e+00  3.01689243e+01  1.37610302e+01\n",
      "  2.19353065e+01  6.15642595e+00  3.42992604e-01  1.93321018e+01\n",
      "  4.28025389e+00  8.22674370e+00  2.21268997e+01  1.47101727e+01\n",
      "  1.99787598e+01 -3.45354110e-01 -5.42109156e+00 -1.91194701e+00\n",
      " -2.06419830e+01 -8.15866280e+00 -1.17933941e+01  1.78551320e-02\n",
      " -6.78467083e+00  1.77924955e+00 -6.12882805e+00 -6.39267492e+00\n",
      "  8.29017830e+00  2.94410825e+00  4.66688633e+00 -2.78073096e+00\n",
      "  2.39165711e+00 -5.99796724e+00 -3.12770271e+00 -4.96710151e-01\n",
      " -2.01911755e+01 -3.65109921e+00 -4.04794884e+00 -2.06306744e+00\n",
      " -1.40742850e+00 -2.92793345e+00 -3.24120879e+00  1.52809298e+00\n",
      " -9.36368179e+00 -1.90440445e+01 -2.72643471e+01 -3.14971471e+00\n",
      " -9.85348320e+00 -4.39842415e+00 -8.26248074e+00 -2.50818282e-01\n",
      "  3.34255725e-01 -4.01768303e+00 -9.80949020e+00 -1.85435915e+00\n",
      " -1.05824862e+01 -7.02819395e+00  7.59835839e-01 -5.43405724e+00\n",
      " -5.11418247e+00 -1.43631287e+01 -2.16287498e+01 -5.77739763e+00\n",
      " -3.29558921e+00 -1.60199523e+00 -5.52274513e+00  4.81921053e+00\n",
      "  3.22092509e+00 -7.90718412e+00  8.61036122e-01 -1.39958906e+00\n",
      " -1.40827799e+01 -5.57386017e+00  2.52600282e-01 -1.39542961e+01\n",
      " -6.63955307e+00  4.76753235e+00 -7.40673590e+00 -9.26106739e+00\n",
      " -5.70507908e+00  3.76643658e+00  1.05737007e+00 -6.50400782e+00\n",
      " -9.35944366e+00  8.68961906e+00 -1.64186230e+01 -1.18577251e+01\n",
      " -7.11711526e-01 -5.02142143e+00 -8.95321727e-01 -1.25986738e+01\n",
      " -1.86912575e+01  2.51372933e+00  6.31245327e+00 -6.42374754e+00\n",
      "  4.45464516e+00 -1.74015446e+01 -1.10054474e+01 -6.20468473e+00\n",
      " -3.83062053e+00 -5.20275164e+00 -9.74031448e-01 -1.20826244e+01\n",
      " -8.29030800e+00 -3.59521747e+00 -1.41790276e+01 -1.07644815e+01\n",
      " -3.24179959e+00 -1.02553453e+01 -2.22856238e-01 -1.16267514e+00\n",
      " -4.10241175e+00 -1.21633263e+01 -1.87004433e+01  3.53597116e+00\n",
      " -2.33597717e+01 -1.21866217e+01 -5.74163866e+00 -2.18741202e+00\n",
      " -6.09602404e+00 -1.80639374e+00 -1.31410036e+01  4.60902357e+00\n",
      "  5.82857847e+00 -2.18137309e-01 -1.01856363e+00 -6.68571520e+00\n",
      " -4.08586788e+00 -6.42986584e+00  8.73062611e+00 -2.12728367e+01\n",
      " -3.29638171e+00 -6.52476931e+00 -1.39711249e+00  2.50318855e-01\n",
      " -9.59338570e+00 -1.15612087e+01  3.00330091e+00 -4.60284519e+00\n",
      " -4.54658461e+00 -4.40559387e+00  1.56039534e+01 -2.69692087e+00\n",
      "  2.64040923e+00  1.37815056e+01 -1.53251266e+01  3.80881524e+00\n",
      " -1.52775373e+01  2.77956080e+00 -8.89422131e+00 -5.05884075e+00\n",
      "  7.80986071e-01 -1.62548435e+00 -3.05688047e+00 -4.40866804e+00\n",
      " -1.96275921e+01 -1.04141092e+01 -8.53038216e+00 -2.18354836e+01\n",
      "  7.53711939e+00 -1.30304790e+00  4.77660275e+00  4.43133020e+00\n",
      " -2.25387974e+01 -2.65511632e+00 -7.31437254e+00  1.07076950e+01\n",
      " -4.13481086e-01 -1.66424198e+01  1.44648099e+00 -4.37593126e+00\n",
      " -1.79010239e+01  9.34482291e-02 -8.84230852e-01 -4.04936934e+00\n",
      "  1.15169510e-02 -9.84690666e+00  1.84495950e+00  7.45871365e-01\n",
      "  1.14498369e-01  5.24839687e+00 -1.32804022e+01  4.57129478e+00\n",
      " -3.24285793e+00 -3.76335311e+00 -7.48269701e+00  3.26066756e+00\n",
      " -2.71523533e+01 -3.00110459e+00 -9.50005722e+00  3.23269415e+00\n",
      " -3.65564299e+00  7.04408884e+00  4.93467867e-01  3.55460167e+00\n",
      " -3.56552553e+00 -5.14653301e+00  4.04368687e+00 -9.51030350e+00\n",
      " -5.72567272e+00  8.08233356e+00  2.56006098e+00  4.91352558e+00\n",
      " -3.68889242e-01 -1.68822803e+01 -2.76414800e+00 -8.76832867e+00\n",
      " -3.28894114e+00 -8.59309137e-01 -4.26235199e+00 -3.84202838e+00\n",
      " -1.40896738e+00  2.37808132e+00  2.38592873e+01 -1.94128513e+01\n",
      " -5.87595272e+00 -4.40864182e+00 -1.69909592e+01 -4.93970680e+00\n",
      "  1.03482590e+01 -3.20729995e+00  8.57749820e-01 -3.57096148e+00\n",
      " -9.71947670e+00 -1.06395302e+01 -7.82647467e+00 -2.86023998e+00\n",
      " -1.02050476e+01 -9.58005619e+00 -6.75737238e+00  5.32184076e+00\n",
      " -1.41121254e+01 -5.01609182e+00 -1.72947788e+01 -9.43402958e+00\n",
      " -2.49987736e+01  4.06207466e+00 -9.60452557e+00 -3.98033524e+00\n",
      "  9.22532737e-01 -9.73352528e+00 -2.88516579e+01 -3.34147949e+01\n",
      "  1.41837835e+01 -6.78813171e+00 -6.09979808e-01 -1.68340838e+00\n",
      " -5.33988762e+00 -2.46204376e+01 -2.20676460e+01 -6.01284122e+00\n",
      " -8.87045670e+00  4.52619362e+00 -1.96446953e+01 -1.64874001e+01\n",
      " -7.29879522e+00 -5.58321047e+00 -2.31286221e+01 -1.14577303e+01\n",
      "  5.53078699e+00  6.43383312e+00  1.24867523e+00 -5.13234138e+00\n",
      " -2.69305820e+01 -9.79699993e+00 -1.66098042e+01  1.99980907e+01\n",
      " -1.69398232e+01  5.62286139e+00 -1.41087761e+01 -1.23471880e+01\n",
      " -3.54328156e+01 -7.30501461e+00 -1.94723070e+00 -3.11706018e+00\n",
      " -7.51767755e-01 -6.56486702e+00 -5.95867491e+00 -1.62635155e+01\n",
      " -1.59148626e+01 -3.11134720e+01  1.59202290e+00 -1.56539974e+01\n",
      " -3.34032440e+01 -7.41150236e+00 -2.72473774e+01 -1.65353432e+01\n",
      "  8.00864983e+00 -1.39558334e+01 -1.84364090e+01 -1.30269270e+01\n",
      " -4.21316814e+00 -1.43369951e+01 -9.74227238e+00 -3.43080902e+01\n",
      "  1.99522924e+00 -6.44890118e+00 -3.70508313e+00 -7.67444193e-01\n",
      " -3.03160324e+01 -2.64207706e+01 -2.64205513e+01 -5.66370964e+00\n",
      " -4.91449127e+01  1.22367847e+00 -3.83411942e+01 -2.56522679e+00\n",
      "  3.67798615e+00 -1.00882368e+01  7.58565092e+00  7.70661688e+00\n",
      " -7.84211397e+00 -3.23363609e+01  1.44555223e+00 -3.67131920e+01\n",
      "  2.81996322e+00 -4.30092573e+00 -1.07206802e+01 -1.73321762e+01\n",
      " -2.27393646e+01 -3.11827755e+01  1.32455702e+01 -1.44110692e+00\n",
      " -2.04605865e+00 -2.69329376e+01 -5.67513132e+00 -1.90049648e+01\n",
      " -2.71212349e+01 -2.08249044e+00  8.49176109e-01 -6.74545813e+00\n",
      " -6.04511690e+00 -8.53863621e+00  2.28424311e+00 -9.46260071e+00\n",
      " -3.84150620e+01 -6.97922468e+00 -1.24736652e+01 -5.28877020e+00\n",
      " -1.10409651e+01 -1.96239033e+01]' has dtype incompatible with int64, please explicitly cast to a compatible dtype first.\n",
      "  preds[val_index] = model.predict(dval_i)\n"
     ]
    },
    {
     "name": "stderr",
     "output_type": "stream",
     "text": [
      "\r",
      " 60%|█████████████████████████████████████████████████████████████████████████████████████████████████████████████████████████████████████▏                                                                                        | 6/10 [03:45<02:36, 39.20s/it]"
     ]
    },
    {
     "name": "stderr",
     "output_type": "stream",
     "text": [
      "C:\\Users\\81809\\AppData\\Local\\Temp\\ipykernel_2040\\3386215446.py:18: FutureWarning: Setting an item of incompatible dtype is deprecated and will raise an error in a future version of pandas. Value '[ 4.57033682e+00  1.30684862e+01 -5.99114275e+00  9.86143875e+00\n",
      "  4.06908274e+00  2.36115665e+01  6.38377523e+00  1.48686433e+00\n",
      "  5.47223377e+00  5.37901306e+00  1.67695892e+00  1.24718094e+00\n",
      "  6.62280619e-01  7.12408113e+00 -3.18742186e-01  2.10677147e+01\n",
      "  2.08794804e+01 -8.99453926e+00  5.77535677e+00 -3.92044276e-01\n",
      "  5.45664263e+00  5.26806116e-01 -4.43207788e+00  5.98144722e+00\n",
      "  8.36979008e+00  1.65765553e+01 -4.34999973e-01  2.83572025e+01\n",
      "  8.70267296e+00 -3.04034305e+00  4.40723372e+00  9.89851284e+00\n",
      "  1.44964046e+01  9.44974422e+00  6.55966377e+00  1.42284572e+00\n",
      "  1.70191288e+01  1.16552484e+00  1.64342105e+00  1.55773568e+00\n",
      " -1.47642940e-01  1.59665453e+00  7.54861784e+00  2.07203603e+00\n",
      "  6.38050556e+00  1.68032570e+01  1.45458164e+01  1.89763618e+00\n",
      " -2.22766948e+00 -1.41296482e+00  6.82454586e+00 -1.47474480e+00\n",
      "  1.33255348e+01 -2.49754238e+00 -7.16226161e-01  1.02984848e+01\n",
      "  2.42977428e+01  2.51920891e+01  8.30778003e-01  6.36559105e+00\n",
      "  8.92465782e+00 -4.59380960e+00  8.57954121e+00  2.03293371e+00\n",
      "  6.23343229e-01 -2.71648383e+00  1.83875122e+01  4.95642519e+00\n",
      "  1.49096918e+01  1.75402164e+01 -6.41170835e+00  8.11736822e-01\n",
      "  6.17433262e+00  1.79497795e+01 -2.80919242e+00  1.81520824e+01\n",
      "  1.11222477e+01  1.23556585e+01  2.83978701e+00 -3.47738387e-03\n",
      "  7.48082399e+00  2.15123701e+00  1.55750017e+01  1.01988831e+01\n",
      " -4.68210888e+00  1.13821812e-01 -5.15327334e-01 -4.00564480e+00\n",
      "  4.38033056e+00  1.49864101e+01 -1.16762376e+00 -4.00561285e+00\n",
      "  2.42442284e+01  4.39052010e+00  1.39675236e+01 -1.07362986e+01\n",
      "  1.31647358e+01  3.53654194e+00  1.29302406e+01 -8.45052814e+00\n",
      "  4.57678890e+00  9.67950630e+00 -3.74121165e+00 -3.99307847e-01\n",
      "  1.35082397e+01  1.65752947e+00 -4.83874607e+00  2.06042314e+00\n",
      " -3.35258770e+00  1.71821678e+00 -3.22568536e-01  6.39931393e+00\n",
      "  8.62452793e+00  2.53813763e+01 -3.10763001e+00 -7.63602829e+00\n",
      " -4.02330399e+00  4.61981964e+00 -1.65935886e+00  2.62155557e+00\n",
      "  8.27542305e+00  1.21005745e+01 -1.21616518e+00  3.89302206e+00\n",
      "  5.15779638e+00  2.46056700e+00  7.12274408e+00  1.64269066e+01\n",
      " -1.18149054e+00 -2.21299481e+00  6.03745174e+00  9.41124558e-02\n",
      "  1.38088167e+00  1.83769369e+00  3.05966401e+00  1.21681585e+01\n",
      "  2.21736765e+00  5.75022507e+00  6.78660333e-01 -9.09585094e+00\n",
      "  2.03797302e+01  3.87752265e-01  4.00853300e+00  7.82787275e+00\n",
      "  1.52795372e+01 -4.26682806e+00 -9.76957455e-02  1.23648863e+01\n",
      "  1.25578308e+01 -2.63369536e+00 -4.22158748e-01  3.75501108e+00\n",
      "  2.12913966e+00 -6.54678679e+00  8.48174286e+00  1.31857386e+01\n",
      "  4.47442198e+00  1.23269618e+00 -3.11702561e+00 -2.63246989e+00\n",
      "  5.04578018e+00  4.89166689e+00  2.36314335e+01  1.98734176e+00\n",
      "  5.04301929e+00  4.35457677e-01  9.15532932e-02  1.77012234e+01\n",
      "  3.48159385e+00 -9.14431095e-01  6.26384735e+00  3.71112037e+00\n",
      "  8.60360718e+00  7.56975222e+00  3.06592971e-01  4.01910877e+00\n",
      "  2.90181446e+00  2.46124878e+01  6.41513824e+00 -4.95347452e+00\n",
      "  8.76039696e+00 -3.07000846e-01  6.27564287e+00  9.43965435e+00\n",
      "  2.29486027e+01  1.91104698e+01  3.63270044e+00  2.05559292e+01\n",
      "  1.57281122e+01  3.40158439e+00  4.80700541e+00 -2.31952977e+00\n",
      "  1.03173246e+01  1.52615566e+01  3.59657288e-01  3.65480461e+01\n",
      "  1.48253679e+01 -6.82433605e+00  6.37781954e+00 -4.55312777e+00\n",
      "  1.31395350e+01  9.89616203e+00  3.70418777e+01  6.57900572e+00\n",
      " -5.38373590e-01  2.35405884e+01  6.69747496e+00  8.04702473e+00\n",
      " -1.29095957e-01 -3.55051637e+00  1.00897951e+01  7.20588112e+00\n",
      " -1.00286455e+01  3.08173537e+00  2.60610981e+01  4.09623146e+00\n",
      " -4.80655253e-01  1.02971232e+00  8.46533012e+00  1.93572664e+00\n",
      " -9.58773136e+00  1.14726582e+01  2.56957436e+01  4.93622684e+00\n",
      "  1.16022766e+00  2.13314991e+01  1.45646305e+01  8.97390270e+00\n",
      "  5.05138874e+00 -6.78214741e+00  4.41420441e+01  1.80082548e+00\n",
      "  8.66539574e+00  2.29471550e+01  1.47112188e+01  3.04950695e+01\n",
      " -4.92313087e-01  9.03355694e+00  7.05321550e+00  3.50074081e+01\n",
      "  3.59727135e+01  6.67570353e+00  4.13859701e+00  1.76828671e+01\n",
      "  9.00619626e-01  1.31572735e+00  2.89574013e+01 -2.42185760e+00\n",
      " -4.82185513e-01  8.72177410e+00  1.89498329e+01  1.28358307e+01\n",
      "  1.74336605e+01  1.48604422e+01  1.22945852e+01 -5.90131617e+00\n",
      "  1.25561609e+01  1.80712330e+00  3.70090294e+00  1.48268061e+01\n",
      "  1.13954945e+01 -5.08427906e+00  4.10146523e+01  3.67598686e+01\n",
      " -9.79067993e+00  7.93407583e+00  1.32952273e+00  1.35380344e+01\n",
      "  1.31801691e+01  2.96821289e+01  1.74104385e+01  4.62152176e+01\n",
      "  9.56815481e-01  2.98538818e+01  2.20652905e+01  6.31123209e+00\n",
      "  2.35620518e+01  3.75761080e+00 -8.85137272e+00  4.90817022e+00\n",
      " -7.37743187e+00  1.86673832e+01  6.74986458e+00  3.89319706e+00\n",
      "  2.66095238e+01  3.74553452e+01  4.51489300e-01  7.53173637e+00\n",
      "  1.88087406e+01  2.15674820e+01  1.96077271e+01  6.45462847e+00\n",
      "  5.64753151e+00  1.32596898e+00 -6.43825579e+00 -8.90132427e-01\n",
      "  2.59617901e+01  4.33987522e+00  2.97113342e+01  2.77422881e+00\n",
      " -1.41659629e+00  2.37664566e+01 -3.73241997e+00  2.27086639e+01\n",
      "  2.69649563e+01  5.58962631e+00  1.06911068e+01  1.29568291e+01\n",
      " -4.56353283e+00 -1.41250982e+01 -9.72080994e+00 -9.55221272e+00\n",
      " -5.28409576e+00 -1.11599121e+01 -6.79392672e+00  1.18483555e+00\n",
      " -6.30911541e+00 -7.09941959e+00 -7.47912788e+00  3.96670890e+00\n",
      "  4.03435946e+00 -1.33416262e+01 -2.11859226e+01 -2.07440510e+01\n",
      " -7.09616613e+00  7.39815092e+00 -5.30099106e+00 -1.53940785e+00\n",
      " -6.30166245e+00  4.83790779e+00  1.81930292e+00  2.17316222e+00\n",
      " -7.97678137e+00 -2.33104763e+01 -1.73370495e+01 -1.07934923e+01\n",
      " -4.78945541e+00 -6.30501223e+00 -1.12728167e+00  6.78976917e+00\n",
      "  7.25853777e+00  2.97222361e-02  3.63892293e+00 -7.37811518e+00\n",
      " -5.24213600e+00 -8.49912262e+00 -1.01251640e+01  3.22347045e+00\n",
      "  4.88384342e+00  6.47703552e+00 -2.22125092e+01  1.07754364e+01\n",
      " -9.14081872e-01 -1.55171099e+01 -2.46584282e+01 -9.27378953e-01\n",
      " -4.22151041e+00 -7.72144794e+00  1.72404981e+00 -1.54956186e+00\n",
      " -2.88695216e+00 -2.53433514e+00  1.18025959e+00 -5.84499884e+00\n",
      " -4.07569706e-02 -2.75452461e+01  1.19245040e+00 -1.54952049e+01\n",
      " -2.40795593e+01 -1.64531822e+01 -7.42658794e-01  3.32821512e+00\n",
      " -1.24467735e+01 -5.03053331e+00 -3.35344696e+00 -3.99558687e+00\n",
      " -5.02979040e+00 -5.18758249e+00  2.83684826e+00 -6.01424551e+00\n",
      " -1.23907721e+00 -1.51872168e+01  4.94712293e-01 -6.13837528e+00\n",
      " -7.24622869e+00  4.09561014e+00 -2.82617736e+00  1.49092112e+01\n",
      " -4.94905806e+00  3.38298655e+00  5.94879568e-01 -8.55916786e+00\n",
      " -1.74321425e+00  1.02854900e+01  5.31795979e+00  1.79264748e+00\n",
      "  7.63389683e+00 -4.26607943e+00 -4.65256548e+00  2.13889480e+00\n",
      " -2.09957576e+00 -3.43478131e+00  3.56412172e+00 -2.47260075e+01\n",
      " -1.79874058e+01 -2.48190451e+00 -4.56245708e+00 -2.21360373e+00\n",
      " -7.23354053e+00  4.18427849e+00  4.88548660e+00  1.49010646e+00\n",
      "  3.14311433e+00  2.76841092e+00 -1.00911388e+01  8.54294419e-01\n",
      " -2.12624321e+01 -4.91495562e+00 -1.24475985e+01 -6.95786428e+00\n",
      " -2.68453479e+00  4.67987061e+00 -2.99947586e+01 -9.54303551e+00\n",
      "  1.26685781e+01 -1.58926201e+01  5.75750875e+00 -1.46093912e+01\n",
      "  5.29796171e+00 -2.51842141e+00  1.65801537e+00 -4.62845707e+00\n",
      " -6.25685501e+00 -2.96561408e+00 -4.71320963e+00 -1.27930965e+01\n",
      " -1.19324083e+01 -3.24120045e-01 -1.21663103e+01  1.25351298e+00\n",
      " -2.19329119e+00 -2.03542881e+01 -4.33955622e+00 -9.09050465e+00\n",
      " -3.86482978e+00 -1.00734777e+01 -2.01640358e+01  2.35914087e+00\n",
      " -3.77882314e+00  3.82818192e-01 -3.19454908e+00 -5.71933222e+00\n",
      " -2.90691853e+00 -3.90543509e+00  5.66538274e-01  1.74973011e+01\n",
      "  4.95773047e-01 -3.81109309e+00 -1.99794388e+01 -1.01204882e+01\n",
      " -2.29063797e+00 -3.44948459e+00 -1.00061493e+01 -6.51500559e+00\n",
      " -7.56956291e+00 -3.94080114e+00 -2.16752968e+01  5.95016813e+00\n",
      "  5.98291016e+00 -1.80004907e+00  5.93993425e+00 -1.31510854e+00\n",
      " -5.57913685e+00 -2.29206014e+00 -2.11262846e+00 -4.77202654e+00\n",
      "  1.70714736e+00 -2.23754048e-01  6.12152910e+00 -3.18257380e+00\n",
      "  1.60549998e+00  3.67897701e+00 -9.99609649e-01  1.44930017e+00\n",
      " -3.08404279e+00 -2.38071251e+01 -1.54442968e+01 -3.27511573e+00\n",
      " -2.32171841e+01  5.13917685e-01 -1.24518375e+01 -4.64236021e+00\n",
      "  4.63109875e+00 -4.93399334e+00 -7.36809874e+00 -1.24552078e+01\n",
      " -8.78641796e+00  1.36396840e-01 -1.68341522e+01 -7.62228072e-01\n",
      " -4.24780512e+00 -4.29607153e+00 -5.54262447e+00  8.97157669e+00\n",
      "  5.02155876e+00 -3.27802420e+00 -3.26817083e+00 -5.68961203e-01\n",
      " -2.91167870e+01 -4.19361229e+01  7.82519758e-01 -2.94840074e+00\n",
      " -5.85891914e+00  4.65782928e+00 -2.22201109e+00 -5.00759315e+00\n",
      " -3.38345680e+01 -4.56249905e+00 -1.18034630e+01  3.89043212e+00\n",
      "  1.01674604e+01 -1.00272589e+01 -1.51118631e+01 -6.77271557e+00\n",
      " -2.38187551e+00 -2.69395332e+01 -3.35546684e+01 -2.51618137e+01\n",
      " -3.69363480e+01 -1.37125368e+01 -1.70326385e+01 -3.41567688e+01\n",
      " -2.83286190e+01  9.51624489e+00 -2.05449047e+01 -8.08323574e+00\n",
      " -4.54234451e-01  3.41664195e+00 -3.94918013e+00  6.34309292e+00\n",
      " -1.04514468e+00 -3.10739117e+01 -1.33888350e+01  1.06766772e+00\n",
      "  4.54691553e+00 -1.56521261e+00  4.15312558e-01 -1.82186437e+00\n",
      " -2.90212841e+01 -1.88952374e+00 -5.89984846e+00 -4.73633146e+00\n",
      " -1.63567181e+01 -6.67516470e+00  3.76922035e+00  7.42905807e+00\n",
      " -7.20186090e+00 -2.31551075e+01 -1.41419039e+01 -1.29987717e+01\n",
      " -1.15644562e+00 -1.27574387e+01  1.24001241e+00 -3.65492034e+00\n",
      " -1.09232063e+01 -3.46906662e+01 -6.17208433e+00  1.29422796e+00\n",
      "  5.56734085e+00 -1.79886265e+01 -4.17947197e+00 -2.56903076e+01\n",
      " -2.36652546e+01 -2.76286201e+01 -7.51535702e+00 -1.14895897e+01\n",
      " -1.76624930e+00 -1.35810113e+00 -2.84293866e+00 -2.81605129e+01\n",
      " -1.21001930e+01  4.59273481e+00 -1.11166754e+01 -3.39141464e+01\n",
      " -1.83271062e+00 -1.22305746e+01 -4.56241012e-01 -2.58589191e+01\n",
      " -8.55934715e+00  4.33939248e-01 -3.13439536e+00 -5.92013741e+00\n",
      " -9.38376236e+00 -3.35752373e+01  1.17551708e+00 -2.82280273e+01\n",
      "  9.85633016e-01 -1.16670837e+01 -2.36093578e+01 -2.87129211e+01\n",
      " -1.87892017e+01 -5.85419416e+00 -1.66447186e+00 -1.33662930e+01\n",
      " -1.82125416e+01 -2.56334896e+01  1.46932387e+00 -4.49053192e+01\n",
      " -3.01198959e+01 -1.23488283e+01 -3.35847435e+01 -1.97475386e+00\n",
      " -2.13069878e+01  9.88563061e+00 -1.26646338e+01 -9.59802628e+00\n",
      "  5.83272552e+00 -1.72467213e+01  3.30513064e-03 -6.65269232e+00\n",
      " -8.05675626e-01  2.30137372e+00 -1.61501670e+00 -2.97619362e+01\n",
      " -5.15726089e+00 -1.04625711e+01 -1.29689169e+01 -3.36679053e+00\n",
      "  2.39906330e+01 -3.15934944e+00 -3.33576279e+01 -3.03404655e+01\n",
      " -3.77674532e+00  3.19169903e+00 -3.83917313e+01  2.96847010e+00\n",
      " -3.72742653e+01 -2.28621025e+01 -1.83966331e+01 -1.28872166e+01\n",
      " -1.34119902e+01 -1.82250500e+01 -9.39417744e+00 -1.74843292e+01\n",
      " -3.40714622e+00  1.34480786e+00]' has dtype incompatible with int64, please explicitly cast to a compatible dtype first.\n",
      "  preds[val_index] = model.predict(dval_i)\n"
     ]
    },
    {
     "name": "stderr",
     "output_type": "stream",
     "text": [
      "\r",
      " 70%|███████████████████████████████████████████████████████████████████████████████████████████████████████████████████████████████████████████████████████████▍                                                                  | 7/10 [04:21<01:53, 37.93s/it]"
     ]
    },
    {
     "name": "stderr",
     "output_type": "stream",
     "text": [
      "C:\\Users\\81809\\AppData\\Local\\Temp\\ipykernel_2040\\3386215446.py:18: FutureWarning: Setting an item of incompatible dtype is deprecated and will raise an error in a future version of pandas. Value '[ 1.35994589e+00 -4.77143574e+00  3.39048910e+00  1.89040434e+00\n",
      "  1.76648178e+01  1.12163627e+00 -2.17064023e-01  9.89605999e+00\n",
      " -3.97609591e+00  3.23950219e+00 -2.61070466e+00  6.65080404e+00\n",
      "  4.21168518e+00  1.93958461e+00  7.17895699e+00  7.64218903e+00\n",
      " -7.63249016e+00 -4.75231743e+00  4.29348564e+00  9.45633221e+00\n",
      " -1.31870970e-01 -7.44647235e-02  3.05751586e+00  2.83122845e+01\n",
      "  1.04152184e+01  1.21540427e+00 -6.60444021e+00  1.82322254e+01\n",
      " -3.89552951e-01  5.01253462e+00  1.05151832e+00 -3.37431312e+00\n",
      "  6.37928200e+00 -2.05556870e+00  8.87376976e+00  9.11161804e+00\n",
      "  7.76030445e+00 -9.19171906e+00  7.65254498e+00  1.62753975e+00\n",
      " -1.41966391e+00  5.33875942e+00  1.73353786e+01  1.06707468e+01\n",
      "  2.26305218e+01 -6.73301041e-01  1.01052344e-01  1.41131611e+01\n",
      "  6.92939806e+00  1.35753167e+00  8.30946541e+00  4.61554384e+00\n",
      " -4.50708485e+00 -1.62889469e+00  5.95298243e+00 -2.50350094e+00\n",
      "  1.46197426e+00  7.45911503e+00  6.23118258e+00  3.69685626e+00\n",
      "  1.13100872e+01  1.05256710e+01 -3.57104206e+00 -3.20954347e+00\n",
      "  3.35549998e+00  2.92420506e+00 -1.25405037e+00  1.27576315e+00\n",
      "  1.85438385e+01  8.08555984e+00  5.63195896e+00  1.83109131e+01\n",
      "  6.95571566e+00 -1.33769965e+00 -3.19920635e+00 -5.88966894e+00\n",
      "  9.02526093e+00  7.16072893e+00  1.05110836e+01  1.02466702e+00\n",
      "  3.82026291e+00  8.53723621e+00  5.98379850e+00  1.28643522e+01\n",
      "  4.50165796e+00  6.04863524e-01  5.12439537e+00  3.71784854e+00\n",
      "  2.22353954e+01  1.48092299e+01  1.10934424e+00  8.00925922e+00\n",
      " -1.12005739e+01  3.78054643e+00  5.16007137e+00  3.31789494e-01\n",
      "  8.11095893e-01  1.00910606e+01 -2.71586919e+00  2.09129543e+01\n",
      "  6.80484712e-01 -1.09359491e+00 -1.43652928e+00  1.76940203e+00\n",
      "  1.65003467e+00  7.29205513e+00 -5.84222078e+00  1.26000357e+01\n",
      " -2.14055514e+00 -2.86934942e-01 -5.60055780e+00 -1.95342135e+00\n",
      "  5.99500179e+00 -3.17915368e+00 -1.62538159e+00  8.16621208e+00\n",
      " -5.40010071e+00  1.28175282e+00 -2.26296592e+00 -2.91239071e+00\n",
      "  7.15404320e+00  1.25785408e+01 -3.74218225e+00 -7.29418755e-01\n",
      "  4.16831684e+00 -4.08467722e+00  3.50680256e+00  7.39364243e+00\n",
      "  4.24331315e-02  1.61993370e+01  1.54173365e+01  4.47609472e+00\n",
      " -4.77036476e+00 -6.17360687e+00 -1.79373658e+00  1.82134259e+00\n",
      "  6.09094048e+00 -6.24313259e+00  3.86280203e+00  1.25990763e+01\n",
      " -1.31599522e+00 -2.97878265e+00  7.40274191e-01  9.43173409e-01\n",
      "  5.90115452e+00 -6.18296099e+00  8.88541985e+00  1.60187798e+01\n",
      "  1.50135660e+01  1.03694925e+01  1.83066332e+00  1.15923491e+01\n",
      "  9.48547840e-01  1.14126295e-01  9.37201405e+00  2.19991112e+01\n",
      " -4.96529073e-01 -9.04013634e+00  2.62175512e+00  5.85668993e+00\n",
      "  3.65754461e+00 -1.02879393e+00  2.45213795e+00  1.05807533e+01\n",
      " -3.79624200e+00  1.38919866e+00 -1.69785576e+01  1.64662552e+01\n",
      " -3.95527434e+00  2.24655132e+01  2.87626672e+00  8.23671818e-01\n",
      "  9.25347424e+00  5.91333151e+00  1.16608381e+01  3.02661490e+00\n",
      "  4.18824530e+00  2.55327177e+00  2.96006942e+00  6.63109779e-01\n",
      "  3.66934443e+00 -1.41367340e+00  4.66901159e+00 -4.82780218e+00\n",
      "  2.20281353e+01  2.19110870e+01 -1.43162116e-01  2.07438779e+00\n",
      " -6.37363434e+00  5.73629618e+00  4.34467602e+00 -3.30595970e+00\n",
      "  4.15600872e+00  7.23683977e+00  9.39420795e+00  3.03588939e+00\n",
      "  2.11562138e+01 -3.43523932e+00  1.05733328e+01  2.57586517e+01\n",
      " -3.64874673e+00 -1.16208601e+00 -4.21446848e+00 -1.65400529e+00\n",
      " -3.57996821e+00  2.30530119e+00  6.11920691e+00 -2.37186337e+00\n",
      "  1.62423229e+01 -3.88162875e+00 -1.28334844e+00  9.57637787e-01\n",
      "  1.84762630e+01  3.87730336e+00  3.97302675e+00  1.18100910e+01\n",
      "  1.91884887e+00 -2.12717247e+00  4.54873133e+00  2.07968826e+01\n",
      "  3.02882061e+01 -9.79158103e-01  2.60627823e+01  4.70792580e+00\n",
      "  4.82493448e+00  1.93934822e+01  5.32543564e+00  5.87413371e-01\n",
      "  2.10571098e+01 -9.60904789e+00 -1.07668362e+01 -4.03144360e+00\n",
      "  6.47168064e+00 -4.45494986e+00  3.54207535e+01  1.61112576e+01\n",
      "  2.11481285e+01  4.71176672e+00  2.00035019e+01  6.74272013e+00\n",
      "  5.31441736e+00 -3.49193144e+00  3.21790390e+01  1.28719893e+01\n",
      "  3.01932831e+01  8.21790934e-01  3.01588736e-02  2.89520855e+01\n",
      "  1.18967056e+01  2.54587421e+01  1.89188023e+01  1.53430471e+01\n",
      "  1.98053856e+01  5.24982882e+00  1.28653660e+01  1.63476253e+00\n",
      "  1.59023619e+01 -7.10461760e+00  8.91020298e+00 -1.53082907e+00\n",
      "  1.52955019e+00  1.15107813e+01 -4.83918953e+00  2.33921719e+01\n",
      "  2.77132206e+01  7.96640158e+00  1.54256706e+01  7.86010075e+00\n",
      " -1.36874720e-01  1.34651861e+01  2.83396220e+00  1.74431553e+01\n",
      "  2.10349822e+00  1.68014431e+01  1.32113180e+01 -1.15309644e+00\n",
      " -9.60775375e+00  6.00901461e+00  1.94710007e+01 -1.14589643e+01\n",
      "  9.44107437e+00  2.93663645e+00  2.92716331e+01  6.72456086e-01\n",
      " -8.60887337e+00  6.38784170e+00 -9.38640118e+00  4.04174948e+00\n",
      "  2.39678168e+00  1.27069628e+00  3.01185760e+01  1.91686096e+01\n",
      "  2.70780087e+01  5.15210485e+00  4.89470978e+01  1.20093746e+01\n",
      "  3.70899811e+01  1.50526810e+01  1.55101562e+00  4.60768557e+00\n",
      "  2.07767487e+01  8.06092930e+00  1.24607372e+01 -7.92857170e+00\n",
      " -9.03175354e+00  8.10614681e+00  1.80083358e+00  3.16278534e+01\n",
      "  1.00439616e-01 -1.56995639e-01 -3.18596625e+00  1.87308967e+00\n",
      " -1.36839545e+00  1.59743690e+01  5.62500715e+00  9.32437801e+00\n",
      "  3.10082550e+01 -9.42341709e+00  8.24948788e+00  1.35204582e+01\n",
      "  8.13620567e+00  2.01712399e+01 -9.22295380e+00  2.87010479e+01\n",
      " -1.52291174e+01  4.05621681e+01 -6.05307102e+00  3.09209805e+01\n",
      "  6.31247330e+00  1.89230995e+01  1.94968128e+01  1.64196503e+00\n",
      " -1.33429174e+01  2.54631634e+01  1.01369743e+01  1.11978931e+01\n",
      "  6.14670277e+00  1.84411278e+01  3.82515860e+00 -1.08446474e+01\n",
      "  1.25524926e+00  2.75189662e+00 -1.12349434e+01 -5.48335552e+00\n",
      " -2.57783580e+00 -7.96343803e+00 -7.51804304e+00 -5.04919338e+00\n",
      " -7.49155951e+00 -6.33066559e+00 -7.33803797e+00 -2.07081757e+01\n",
      "  9.93123722e+00 -6.96236753e+00 -2.45199609e+00 -6.22238684e+00\n",
      " -5.07987618e-01 -2.74107814e+00 -5.21930552e+00 -5.70136666e-01\n",
      "  3.25348713e-02 -5.83723497e+00 -9.69377422e+00 -2.42249451e+01\n",
      " -3.17917299e+00  1.76738989e+00 -5.32710981e+00 -2.79807396e+01\n",
      " -5.14754677e+00 -5.64498186e+00  3.62155652e+00 -2.46413851e+00\n",
      " -1.04722891e+01 -4.04308975e-01 -9.37040997e+00 -6.85777807e+00\n",
      "  5.33579826e+00  1.14083302e+00  5.22312164e-01 -3.49065518e+00\n",
      " -6.29277611e+00 -8.63881302e+00 -9.25218296e+00 -1.33311806e+01\n",
      " -4.52214527e+00  1.96556008e+00 -8.93468440e-01 -1.25814521e+00\n",
      " -6.20881414e+00 -9.43156528e+00 -1.19633894e+01  2.90772915e+00\n",
      " -9.72650909e+00 -4.77338076e+00 -6.29052639e+00 -3.90369034e+00\n",
      "  1.25429642e+00 -8.68443680e+00 -6.92998314e+00 -2.42727222e+01\n",
      " -7.69593525e+00 -7.60949135e+00  1.52575922e+00 -1.36622438e+01\n",
      " -2.53293495e+01  5.07432520e-01 -2.57976341e+00  1.11787319e+01\n",
      " -1.80470371e+01 -1.16598892e+01 -6.89702928e-01 -1.84134369e+01\n",
      " -4.41854763e+00 -6.80525780e-01  4.95822144e+00 -1.16736469e+01\n",
      " -7.03327656e+00  1.10942478e+01 -1.58937178e+01 -1.62505493e+01\n",
      " -4.02307749e+00  4.93505001e+00 -7.07302332e+00  1.88774908e+00\n",
      " -9.84754181e+00 -6.01682472e+00 -1.44745073e+01  6.55465221e+00\n",
      "  9.11606407e+00 -4.13033962e+00  1.47854054e+00 -1.29807854e+00\n",
      " -1.26541102e+00 -1.32291899e+01  1.22659874e+01 -2.13100700e+01\n",
      " -5.94843626e+00 -1.93651175e+00 -2.27262306e+01 -1.83105106e+01\n",
      " -1.19017181e+01 -2.30753779e+00 -1.08418036e+00  1.62840724e+00\n",
      "  1.36227875e+01  6.58935404e+00 -9.01510179e-01 -5.93046379e+00\n",
      " -3.59532332e+00  4.55765754e-01  9.12222958e+00  1.68127499e+01\n",
      "  5.32470322e+00 -9.39118767e+00 -5.81613588e+00 -4.68762684e+00\n",
      "  1.52145898e+00  2.41637158e+00 -2.10439167e+01  6.52237558e+00\n",
      " -4.02192563e-01 -1.87675977e+00  5.21357775e-01 -1.34059038e+01\n",
      " -2.06515360e+00  5.87755108e+00 -1.75868130e+01 -1.56865435e+01\n",
      " -2.23001976e+01 -1.03095512e+01 -1.09156065e+01  1.07066164e+01\n",
      " -2.21354923e+01 -2.93910694e+00 -1.28301919e-01  6.75283384e+00\n",
      " -4.63504314e+00  4.72771597e+00  4.80108052e-01  5.31240284e-01\n",
      " -3.71926427e+00 -8.80513000e+00 -1.52095759e+00 -1.84430580e+01\n",
      " -5.72579193e+00 -4.04718256e+00 -4.15631294e+00 -2.38256335e+00\n",
      "  5.21817017e+00 -5.03430557e+00  5.06273389e-01 -6.46722507e+00\n",
      " -2.55439186e+00 -1.37894106e+00 -1.49141502e+00 -4.01242018e+00\n",
      "  3.42284584e+00 -2.44203911e+01  1.65095673e+01  3.30315661e+00\n",
      "  1.18628817e+01 -3.68303704e+00  3.13956594e+00 -4.26430845e+00\n",
      " -2.76617336e+00 -1.06489058e+01  3.68779635e+00 -1.66269672e+00\n",
      " -2.66613483e+01 -7.04416895e+00 -3.24501365e-01 -8.58779430e-01\n",
      " -2.79179168e+00 -6.18200350e+00 -1.62865810e+01 -5.51721191e+00\n",
      " -7.56680489e+00 -9.32895184e+00 -8.18325520e+00 -2.50223637e+00\n",
      " -3.73224974e+00  7.99981165e+00 -6.54821539e+00  9.02535629e+00\n",
      " -3.62914181e+00 -5.75039244e+00 -3.06526718e+01 -1.93288383e+01\n",
      " -9.40748596e+00 -4.58587027e+00 -3.82357502e+00 -2.80139198e+01\n",
      " -1.09542503e+01 -2.69540920e+01 -1.31156769e+01 -2.71641326e+00\n",
      " -3.02074862e+00 -9.56336594e+00 -3.49703407e+01 -9.72339809e-01\n",
      " -1.20897160e+01 -8.10317898e+00  1.41318500e+00 -1.02820511e+01\n",
      " -6.52802753e+00 -6.44308043e+00 -1.29267139e+01 -1.40862017e+01\n",
      " -3.21367798e+01 -2.71115646e+01 -3.65320930e+01 -1.30513012e+00\n",
      "  1.57994330e+00 -1.90401287e+01 -2.50889549e+01 -2.85106602e+01\n",
      "  6.37087870e+00  8.72059727e+00 -1.19816148e+00 -6.82806921e+00\n",
      " -3.91737556e+01 -6.19288564e-01 -2.94138565e+01 -3.26182823e+01\n",
      " -1.35959835e+01 -3.14657230e+01 -1.04645991e+00 -1.62921486e+01\n",
      " -8.07212353e+00 -4.31441765e+01  6.26099825e+00 -7.71613121e-01\n",
      " -2.14529839e+01 -1.97909088e+01 -4.71181393e-01 -6.95964956e+00\n",
      " -1.97578564e+01 -3.38272629e+01 -3.22305794e+01 -4.93671513e+00\n",
      "  2.49384069e+00  9.84484386e+00 -2.58027973e+01 -1.06544218e+01\n",
      " -1.42867861e+01 -4.00818968e+00 -2.07945309e+01 -1.23497849e+01\n",
      " -4.30671692e+01  4.80925417e+00 -7.03807294e-01 -2.32731175e+00\n",
      " -1.96648674e+01  7.42834949e+00 -2.79418993e+00 -5.43756866e+00\n",
      " -7.35605764e+00  5.27563190e+00 -3.58430519e+01 -5.74057865e+00\n",
      "  8.39020920e+00 -8.44938374e+00  7.55279016e+00 -1.43819275e+01\n",
      "  3.39429951e+00 -5.77145195e+00 -1.17155619e+01 -1.60099106e+01\n",
      " -1.01088791e+01 -2.69983120e+01 -1.36198292e+01  2.70825791e+00\n",
      "  2.34216952e+00  2.47553325e+00  6.31044006e+00 -1.95274448e+01\n",
      " -6.92142105e+00 -9.72628593e+00  4.69427586e+00  6.91060019e+00\n",
      " -2.70569916e+01  5.30785173e-02 -2.45284615e+01 -2.95725060e+01\n",
      "  2.37986922e+00 -1.10632634e+00  7.77877712e+00 -7.93388796e+00\n",
      " -1.21474152e+01 -1.55882607e+01 -2.26990261e+01  1.02410793e+01\n",
      " -1.92392147e+00 -9.53741550e+00 -3.60927153e+00 -2.53739452e+01\n",
      " -3.58718834e+01 -3.59011421e+01 -1.69345646e+01  6.38950348e+00\n",
      " -1.49368238e+01 -1.49546900e+01  1.29453640e+01 -2.41660519e+01\n",
      " -1.78408394e+01 -2.56780338e+00]' has dtype incompatible with int64, please explicitly cast to a compatible dtype first.\n",
      "  preds[val_index] = model.predict(dval_i)\n"
     ]
    },
    {
     "name": "stderr",
     "output_type": "stream",
     "text": [
      "\r",
      " 80%|█████████████████████████████████████████████████████████████████████████████████████████████████████████████████████████████████████████████████████████████████████████████████▌                                            | 8/10 [04:56<01:13, 36.99s/it]"
     ]
    },
    {
     "name": "stderr",
     "output_type": "stream",
     "text": [
      "C:\\Users\\81809\\AppData\\Local\\Temp\\ipykernel_2040\\3386215446.py:18: FutureWarning: Setting an item of incompatible dtype is deprecated and will raise an error in a future version of pandas. Value '[ 8.25017071e+00 -6.34901857e+00  1.08418007e+01  8.04191685e+00\n",
      "  6.68094444e+00  6.83669424e+00  5.79981709e+00  1.88861299e+00\n",
      " -7.68956363e-01  3.30788112e+00 -2.93820691e+00  2.44977307e+00\n",
      " -7.39825845e-01  2.10332546e+01  2.17424631e+00  1.38857622e+01\n",
      "  4.34762383e+00  3.76091218e+00  7.38628483e+00  3.09042883e+00\n",
      "  6.42284536e+00  3.58759212e+00  1.03577862e+01 -1.87397230e+00\n",
      "  6.97709751e+00  3.97339535e+00  1.04753866e+01  5.82354450e+00\n",
      "  2.23441291e+00  2.56499348e+01  4.94727564e+00 -8.49235916e+00\n",
      "  4.25347519e+00  1.58275023e+01  8.16752148e+00 -6.64928102e+00\n",
      "  4.91077900e+00  1.78284562e+00 -9.07511264e-02 -8.10745621e+00\n",
      " -3.38610291e+00  1.05836744e+01  2.95169878e+00  6.61572933e+00\n",
      "  2.12281094e+01  9.17395496e+00  6.37650013e+00  4.17718112e-01\n",
      " -2.66382813e+00  2.49646902e+00  4.87847900e+00  4.25354195e+00\n",
      "  1.02766848e+00  1.58823385e+01  4.07520437e+00  9.85342312e+00\n",
      "  2.32667294e+01  8.40864468e+00 -4.11939812e+00  6.66452456e+00\n",
      "  3.42841244e+00  2.43809366e+00  3.53039598e+00  1.26178563e+00\n",
      "  7.32952738e+00  1.04577742e+01  3.66163230e+00  4.11023378e+00\n",
      "  1.50799122e+01  2.48078976e+01 -3.62471962e+00  5.87044382e+00\n",
      "  8.81110609e-01  9.76590157e+00  2.17372823e+00  6.67798042e-01\n",
      "  2.35721455e+01  7.94730282e+00  1.22175398e+01  2.70520186e+00\n",
      "  1.63513718e+01 -2.20948386e+00  9.92602444e+00  8.33111668e+00\n",
      "  3.66412759e+00 -6.60353899e-01 -1.14217103e+00  7.12370634e+00\n",
      "  2.02404332e+00  6.93127728e+00  1.81401424e+01 -5.02594852e+00\n",
      " -6.93660975e-02  4.06792688e+00 -6.61718225e+00 -2.44870210e+00\n",
      " -3.32534027e+00 -7.68520498e+00  1.49364054e-01  1.98340453e-02\n",
      "  2.60899925e+00  6.51382327e-01 -1.08611488e+01  3.07188129e+00\n",
      " -2.22648120e+00  1.24208522e+00  2.33415318e+01 -4.80912352e+00\n",
      "  1.36377678e+01  1.41817369e+01  6.91532946e+00 -1.74053204e+00\n",
      "  9.45010185e+00 -9.06693172e+00 -1.25612164e+00 -3.09266281e+00\n",
      "  3.74400330e+00 -8.57669163e+00  2.82918525e+00 -1.05973315e+00\n",
      "  8.45323181e+00  9.11232471e+00 -3.64115000e+00  1.26510220e+01\n",
      "  6.81871223e+00  6.82805586e+00  2.11405296e+01 -7.50817013e+00\n",
      "  1.52444124e+01  9.35135078e+00 -2.84765196e+00  6.68257904e+00\n",
      "  5.41513968e+00  1.35467911e+00  1.58328846e-01 -3.29017907e-01\n",
      "  1.29138832e+01  1.20864277e+01 -5.83628607e+00  1.18816814e+01\n",
      "  2.59852338e+00  9.48287868e+00  2.07407074e+01  3.30272865e+00\n",
      "  1.20567977e+00  1.62331653e+00 -4.34077322e-01  1.15113068e+00\n",
      "  3.80593920e+00  6.65989637e+00  2.69473124e+00  1.23526392e+01\n",
      " -1.38352764e+00 -3.21668887e+00  2.27083325e+00 -1.20345974e+01\n",
      "  3.00814228e+01  1.50087585e+01 -2.15954232e+00  1.77140465e+01\n",
      "  1.21341305e+01  3.27801299e+00  1.04406452e+01  9.06967580e-01\n",
      "  1.27237427e+00 -1.18343043e+00 -3.65115499e+00  3.40239644e+00\n",
      " -1.56983125e+00  1.63948596e+00 -7.01907575e-01 -6.52065992e-01\n",
      "  1.03615391e+00 -1.37012708e+00  3.86559415e+00  2.02345314e+01\n",
      "  6.55731058e+00  1.46356287e+01 -6.31747532e+00  2.05933323e+01\n",
      " -2.09502172e+00  3.34851289e+00  5.00448561e+00  9.96587336e-01\n",
      "  8.08500385e+00 -7.81567383e+00  1.91551704e+01  3.70763993e+00\n",
      "  6.55059338e+00 -1.35140336e+00  9.81880856e+00  1.51521187e+01\n",
      "  2.14524727e+01 -2.55367470e+00  2.08467603e+00  6.39119565e-01\n",
      "  5.54077053e+00  4.73141575e+00  4.18069839e+00 -5.12892628e+00\n",
      "  8.17273331e+00  8.55375576e+00  9.28177071e+00  2.34762421e+01\n",
      "  4.96421432e+00  2.80558252e+00  1.75281620e+00  4.85369492e+00\n",
      "  5.43626165e+00 -7.31258392e-01  1.16615829e+01  5.74965811e+00\n",
      "  1.90402336e+01  8.04230690e+00  3.71429133e+00 -4.09002572e-01\n",
      "  3.75390549e+01 -1.00253630e+01  4.73114061e+00 -1.04800282e+01\n",
      " -6.62547636e+00  1.26482019e+01  3.25678438e-01  4.16326904e+00\n",
      "  7.82867908e+00 -7.28792906e-01  2.60076027e+01  5.03797102e+00\n",
      "  8.40151978e+00  2.41431618e+01  5.44394588e+00  2.07618294e+01\n",
      " -8.43234730e+00  2.94907532e+01  3.05314007e+01  1.01177371e+00\n",
      " -1.52931662e+01  1.71306849e+00  1.69775939e+00  6.33740807e+00\n",
      "  8.14747524e+00  1.72472553e+01  7.23681021e+00  1.47120295e+01\n",
      "  2.94974861e+01  1.16479607e+01  3.59140587e+01 -2.08446503e+00\n",
      "  9.17576122e+00  3.91475648e-01  1.69056816e+01  1.23027382e+01\n",
      "  2.63842926e+01 -4.68425131e+00  2.48440723e+01  1.28239660e+01\n",
      "  9.84473801e+00  3.24997406e+01  1.07686987e+01  2.73283520e+01\n",
      "  2.85221100e+00  6.82809830e+00  2.65333767e+01  1.52491784e+00\n",
      "  5.32173920e+00  8.42229652e+00  9.92063904e+00 -5.72665882e+00\n",
      "  1.44235764e+01  4.21770363e+01  8.14716339e+00 -9.90056705e+00\n",
      "  9.37554646e+00 -2.82319140e+00 -9.08298016e+00  3.18584585e+00\n",
      " -4.42876148e+00  1.08838158e+01  4.42415667e+00  6.61513996e+00\n",
      " -2.66433573e+00  3.69857025e+01  1.36971159e+01  3.04309750e+01\n",
      "  2.22950935e+01  3.07730150e+00  8.22565079e+00  1.65844326e+01\n",
      "  5.12999821e+00 -7.06664991e+00  2.04789352e+01  5.81634140e+00\n",
      "  2.40430093e+00  2.20694084e+01  8.72972202e+00  3.16614094e+01\n",
      "  7.19346380e+00  3.00896950e+01  4.13065052e+00 -9.37106323e+00\n",
      "  5.60916662e+00  3.99473214e+00  7.15045452e+00  6.32761765e+00\n",
      " -1.13028116e+01  1.59417820e+01  2.80801792e+01 -2.20638132e+00\n",
      "  3.92777443e+01  1.01190376e+01  2.55239487e+01  3.77190742e+01\n",
      " -5.56128407e+00  3.76556664e+01  4.71986628e+00  1.23401375e+01\n",
      "  3.13583469e+00  3.36674833e+00  1.17361107e+01  2.53238163e+01\n",
      "  1.10314293e+01 -1.98259604e+00 -2.21750755e+01 -5.79598141e+00\n",
      "  4.08952093e+00 -1.39252768e+01 -2.34275703e+01 -8.52200699e+00\n",
      " -2.96842027e+00 -8.30629921e+00 -5.40646076e+00 -2.84401441e+00\n",
      " -2.15476284e+01 -3.03526926e+00 -2.58046093e+01 -4.17648125e+00\n",
      " -7.90242100e+00 -8.38956594e-01 -6.78494596e+00 -3.24565268e+00\n",
      " -7.40746212e+00 -9.48149776e+00  5.86547995e+00 -1.79696167e+00\n",
      "  6.56356525e+00  4.66949320e+00 -8.07014084e+00 -4.39959955e+00\n",
      "  1.61520347e-01 -2.54558620e+01  6.61522329e-01  4.19812351e-01\n",
      " -2.87922153e+01  1.42803359e+00  1.29696331e+01 -7.40171766e+00\n",
      "  7.45658350e+00 -8.88691807e+00 -5.47056818e+00 -5.42506933e+00\n",
      " -5.60793877e+00  3.89829707e+00  2.30297399e+00 -6.14900768e-01\n",
      " -9.90782070e+00 -2.21685104e+01 -8.96455193e+00 -1.32315493e+01\n",
      "  6.25077248e+00 -3.40324640e+00  2.34094644e+00  1.58232257e-01\n",
      " -1.63080311e+01 -6.09852982e+00 -2.32995739e+01 -1.55726790e+00\n",
      "  2.48540521e+00 -7.61100864e+00 -4.72418165e+00  2.76577282e+00\n",
      " -2.47429314e+01 -1.07962637e+01 -1.39213829e+01 -1.15298748e+00\n",
      " -6.21200323e-01  1.28787458e+00  1.42477036e+00 -1.98013306e+00\n",
      " -3.10833740e+00  1.01020420e+00 -3.23031402e+00 -4.62377882e+00\n",
      " -7.43912363e+00 -1.96214542e+01  5.81912851e+00  2.73224401e+00\n",
      " -6.45408690e-01 -3.75537181e+00 -2.93704820e+00 -7.11776304e+00\n",
      " -1.73681545e+01 -2.81726550e-02  6.12964809e-01 -5.06453991e-01\n",
      "  2.43907404e+00 -9.30478191e+00 -2.44793720e+01 -1.72378311e+01\n",
      " -8.58239746e+00 -1.06359320e+01 -7.87569618e+00 -3.31403685e+00\n",
      " -6.23715973e+00 -3.03939390e+00 -5.90075016e+00 -1.90005417e+01\n",
      "  1.43217623e+00  3.24947810e+00  1.46782961e+01 -5.97628295e-01\n",
      "  3.12970448e+00  6.31459177e-01 -2.40311604e+01  7.39445463e-02\n",
      " -1.36588058e+01 -1.92303681e+00  8.73909569e+00  2.93405747e+00\n",
      " -5.20831633e+00  1.91568911e-01 -1.63158512e+01 -9.98874426e-01\n",
      " -7.00444984e+00  1.55119467e+00 -1.47189360e+01 -1.74511433e+01\n",
      " -3.18355227e+00  5.18422413e+00 -2.65814209e+00  7.94952440e+00\n",
      " -7.07303333e+00 -1.73123169e+00 -1.07169485e+01  5.99501753e+00\n",
      " -5.73027849e+00  5.59140491e+00 -2.69797230e+01 -4.91974020e+00\n",
      " -9.29940701e+00 -1.96653843e+01  3.67502689e+00 -7.30531216e+00\n",
      "  3.82277727e+00 -1.30752144e+01 -2.05622711e+01  2.02220026e-03\n",
      " -1.41423035e+00  1.46030933e-01 -8.99224377e+00 -4.35543871e+00\n",
      " -1.36323128e+01  2.48024774e+00 -2.74845171e+00 -1.49405789e+00\n",
      " -7.56268215e+00  2.60947490e+00 -1.06303453e+00 -1.09292746e+01\n",
      " -4.93990993e+00 -4.34425068e+00 -1.20532064e+01  9.85493279e+00\n",
      " -2.21461067e+01 -5.51412249e+00 -4.04194403e+00 -4.30150926e-02\n",
      "  5.77858448e+00 -3.58531022e+00 -3.43016672e+00 -5.04117250e+00\n",
      "  4.91112280e+00 -2.53870934e-01  3.79138589e+00  1.45515954e+00\n",
      "  4.44932222e+00 -2.99910545e+00  1.27538836e+00  3.60510349e-01\n",
      "  1.01015491e+01  8.56721342e-01 -1.41264286e+01  2.77261019e+00\n",
      " -3.79758501e+00 -2.25816898e+01  1.11274929e+01  4.44524944e-01\n",
      " -1.15181530e+00 -5.11690998e+00 -1.87209360e-02 -1.33020678e+01\n",
      " -1.82895911e+00  3.30640459e+00 -2.67482128e+01  5.62334061e+00\n",
      "  3.60943389e+00  1.11593475e+01 -5.32030940e-01 -7.18600225e+00\n",
      " -1.51229262e+00 -1.06056061e+01 -5.04082394e+00 -4.98093748e+00\n",
      " -1.52135878e+01 -6.49668598e+00  1.85453403e+00  5.59555149e+00\n",
      " -5.78775215e+00 -3.80738154e-02 -5.44052458e+00 -3.65515542e+00\n",
      " -1.58073826e+01  3.57078338e+00 -7.24518156e+00 -2.96122026e+00\n",
      " -2.25764084e+01 -1.21584225e+01 -1.15069830e+00  9.10601425e+00\n",
      "  6.95514870e+00 -5.59687424e+00 -1.85557995e+01 -3.29840374e+00\n",
      " -1.20481520e+01 -3.07784500e+01 -3.40632820e+01 -2.80175552e+01\n",
      " -5.59176970e+00 -2.04314976e+01 -2.23038616e+01  6.89981341e-01\n",
      " -7.85875988e+00 -6.31124449e+00 -1.12723947e+00  8.13786316e+00\n",
      " -5.49125850e-01 -6.72719383e+00  1.19589902e-01 -3.09773636e+00\n",
      " -1.35154700e+00 -3.72230949e+01 -2.99244823e+01 -2.62826767e+01\n",
      " -3.94857430e+00 -2.34703560e+01 -7.46277475e+00 -5.58244991e+00\n",
      " -6.92187023e+00 -4.18090868e+00  7.74650216e-01 -1.94849911e+01\n",
      " -4.43916512e+01 -2.38869166e+00 -2.27000637e+01 -1.86316967e+01\n",
      " -1.35687571e+01 -1.17182341e+01 -3.18823662e+01  1.19401455e+00\n",
      " -3.19305401e+01 -7.66609907e+00 -2.26283970e+01 -2.92254219e+01\n",
      "  1.63446677e+00 -5.18228579e+00 -2.15228863e+01  4.93951750e+00\n",
      " -9.97941971e+00  2.67215490e+00 -3.02820587e+01 -1.62286510e+01\n",
      " -9.45495319e+00 -1.75287571e+01 -7.29798603e+00 -3.69065619e+00\n",
      "  4.19393587e+00 -6.94601250e+00  4.61514384e-01 -2.63012481e+00\n",
      " -1.88152659e+00 -2.27669926e+01 -8.82498646e+00  3.60224366e-01\n",
      " -1.88249626e+01 -2.16808677e+00 -1.29288778e+01  2.75920486e+00\n",
      " -3.46055984e+01 -5.31716526e-01  8.13230515e+00  6.12320518e+00\n",
      " -2.89523182e+01  8.57498348e-01  1.98771149e-01  6.13076210e-01\n",
      "  5.78360796e+00 -2.29765677e+00 -1.52353802e+01 -2.49696503e+01\n",
      " -1.59527922e+00 -1.04231586e+01  1.02154741e+01  1.38314819e+00\n",
      "  4.52808142e+00 -1.09077139e+01 -2.57174568e+01 -6.87901068e+00\n",
      " -3.69877815e+01 -3.03338242e+01  4.18629408e+00 -1.43157578e+01\n",
      " -2.40653400e+01 -4.44289494e+00 -6.67513847e+00  1.31661022e+00\n",
      "  1.13380756e+01  2.89304924e+00 -2.83668232e+00 -2.96129150e+01\n",
      " -1.58218822e+01 -8.29294491e+00 -4.26499271e+00  1.17303538e+00\n",
      "  1.00203609e+01  3.53955340e+00 -1.42995644e+00 -2.39061661e+01\n",
      "  6.72528839e+00 -1.89131260e+01 -1.12737608e+01 -2.96518850e+00\n",
      " -7.86921203e-01  1.35518475e+01 -3.05276928e+01 -9.94263268e+00\n",
      " -2.62981453e+01 -8.42874432e+00]' has dtype incompatible with int64, please explicitly cast to a compatible dtype first.\n",
      "  preds[val_index] = model.predict(dval_i)\n"
     ]
    },
    {
     "name": "stderr",
     "output_type": "stream",
     "text": [
      "\r",
      " 90%|███████████████████████████████████████████████████████████████████████████████████████████████████████████████████████████████████████████████████████████████████████████████████████████████████████▊                      | 9/10 [05:33<00:37, 37.14s/it]"
     ]
    },
    {
     "name": "stderr",
     "output_type": "stream",
     "text": [
      "C:\\Users\\81809\\AppData\\Local\\Temp\\ipykernel_2040\\3386215446.py:18: FutureWarning: Setting an item of incompatible dtype is deprecated and will raise an error in a future version of pandas. Value '[ 3.76277304e+00 -5.88138390e+00  2.17784042e+01  1.70518875e+00\n",
      "  5.60375357e+00 -5.57551622e+00  4.06007481e+00  2.68538475e+00\n",
      " -8.18334293e+00  8.55564773e-01 -2.99227047e+00  1.89117165e+01\n",
      "  2.70184650e+01 -2.31475735e+00  2.11587162e+01  1.59800160e+00\n",
      "  8.18573093e+00  2.28299499e+00  1.84391260e+00  2.13185287e+00\n",
      " -1.59545708e+00  1.45188367e+00  4.15301472e-01  4.85555792e+00\n",
      "  4.83854866e+00  8.86810780e+00  4.52711582e-02  1.06058350e+01\n",
      "  2.90264726e+00  2.17492008e+01 -2.94307280e+00 -3.29512811e+00\n",
      "  4.82195902e+00  3.15117657e-01  2.81007814e+00 -1.19340134e+00\n",
      " -3.51526332e+00  8.07029915e+00  6.28153861e-01  6.59284472e-01\n",
      "  1.97663059e+01 -4.49304008e+00  2.87126398e+00 -7.73491430e+00\n",
      " -1.86030066e+00 -1.08524103e+01  1.66751118e+01  1.48070030e+01\n",
      "  5.48682404e+00  1.50882399e+00 -2.87505579e+00  6.52913475e+00\n",
      " -4.18850708e+00  4.39613438e+00  1.52913249e+00 -1.72166979e+00\n",
      "  1.61802244e+00 -3.88851213e+00  9.57126999e+00  2.41074047e+01\n",
      "  1.54590549e+01  5.49425077e+00  5.12364197e+00  1.49291983e+01\n",
      " -2.58252144e+00  3.21564150e+00 -4.12215090e+00 -2.00612712e+00\n",
      "  3.85879469e+00  5.33323288e+00 -3.54944259e-01  1.83476887e+01\n",
      "  8.29020500e+00  3.76696825e+00 -2.17384291e+00  3.83314514e+00\n",
      " -1.33523428e+00  5.45311880e+00  2.45014973e+01  2.39236355e+00\n",
      " -3.48091412e+00 -2.94002557e+00  2.29027271e+00  4.26559782e+00\n",
      "  2.87272143e+00  1.08187032e+00  1.22501345e+01  2.62067947e+01\n",
      "  6.63719416e+00  1.37829599e+01 -1.13483219e+01  1.76460278e+00\n",
      "  2.32191982e+01  4.50373507e+00  4.76963425e+00  1.23203316e+01\n",
      " -1.04808128e+00  5.76834536e+00  5.90185881e+00  1.75894415e+00\n",
      "  1.55057383e+01  9.51886749e+00  1.46754055e+01  1.97086811e+00\n",
      "  1.27389040e+01 -1.12860088e+01 -6.35428476e+00  9.52416039e+00\n",
      "  8.44877434e+00  1.62111330e+00  3.22559881e+00 -2.17779922e+00\n",
      "  4.72806549e+00  1.73367709e-01  1.95201702e+01  4.55362177e+00\n",
      "  2.07109604e+01  4.69463301e+00  2.22800970e+00 -1.50926638e+01\n",
      "  5.37554836e+00 -2.14308333e+00 -2.21284890e+00 -5.68554497e+00\n",
      "  3.09229517e+00  2.55782356e+01  3.77267194e+00  4.77160072e+00\n",
      " -5.83618546e+00  1.32570925e+01  3.14737225e+00 -4.56272185e-01\n",
      " -1.42532551e+00  4.01656389e+00  9.57775116e+00  1.82857037e+00\n",
      "  6.74621391e+00 -2.00436902e+00  1.48372917e+01 -2.07649752e-01\n",
      "  1.54299128e+00 -8.53256226e-01  2.39846849e+00 -3.15501332e+00\n",
      " -5.93098783e+00  5.60353458e-01  8.31159055e-01  1.39672256e+00\n",
      "  2.19933605e+01  1.52139187e+01  2.87270212e+00  2.30588341e+00\n",
      " -9.64840317e+00  2.03560448e+01  3.81162906e+00  3.43001223e+00\n",
      " -5.16047812e+00  1.22951627e+00  2.45991230e+00  5.06062031e+00\n",
      " -9.12874699e+00  1.39495382e+01 -4.85661697e+00  8.18803692e+00\n",
      "  3.00922852e+01 -3.25169039e+00  4.04009914e+00  3.31069398e+00\n",
      "  1.27035391e+00 -5.15687084e+00  3.73974633e+00  6.58931875e+00\n",
      " -4.61920166e+00 -4.81877279e+00  5.47472477e+00  2.04750271e+01\n",
      " -4.93244505e+00 -1.29367554e+00  1.92305603e+01  2.73171377e+00\n",
      " -3.63954782e+00  1.14315958e+01  3.92373133e+00  5.96075201e+00\n",
      "  5.96759224e+00  8.62494260e-02  2.56314063e+00 -3.24930429e+00\n",
      "  7.55518770e+00 -7.10605907e+00 -1.46299481e+00  5.14287472e+00\n",
      "  5.36110342e-01  3.83977699e+00 -7.38370776e-01  9.88136482e+00\n",
      "  2.04176331e+01  3.25676799e+00  2.45801277e+01 -2.48317432e+00\n",
      "  4.64678198e-01 -3.22819650e-01  4.73561525e+00 -8.92507017e-01\n",
      "  2.96369457e+00  1.32009411e+01  5.43315506e+00  1.05739059e+01\n",
      "  2.11120930e+01 -1.50128946e-01  2.90357375e+00 -3.99549246e-01\n",
      "  4.01425689e-01  1.58902473e+01  4.46427250e+00  4.81303835e+00\n",
      "  5.07778740e+00  3.93457937e+00 -3.26710522e-01  4.09935617e+00\n",
      "  3.79061460e+00  1.96514297e+00  2.00155430e+01  1.04888201e+01\n",
      "  2.42078972e+00  1.38186636e+01  4.06584692e+00  2.46503735e+01\n",
      " -1.40305746e+00  1.00771713e+00  6.68982649e+00  1.11429615e+01\n",
      " -1.12793703e+01 -9.47139561e-01  1.18622437e+01  6.13733959e+00\n",
      "  3.29049873e+01  2.75386562e+01  5.64268160e+00  1.96201420e+01\n",
      "  2.64193745e+01  1.29885693e+01  6.91906548e+00 -2.13559437e+00\n",
      " -8.04424667e+00 -8.72023201e+00 -7.92650747e+00  2.56183491e+01\n",
      " -2.18014073e+00  4.85242319e+00  4.08906593e+01  8.41237545e+00\n",
      "  2.81717443e+00  1.92688847e+01  1.28458452e+01 -9.71322656e-01\n",
      " -2.24441624e+00 -1.45042810e+01  1.39085178e+01  1.62664871e+01\n",
      "  1.32303200e+01  6.66553879e+00  9.27805519e+00  3.45632286e+01\n",
      " -7.92228985e+00  2.22628803e+01 -2.46766148e+01  8.40506935e+00\n",
      "  9.36451817e+00  2.97698364e+01  1.79445171e+01  2.79660530e+01\n",
      "  1.19582024e+01  2.50942135e+01  4.35117340e+00  7.98143625e+00\n",
      "  1.36597281e+01  3.34703674e+01  3.38633118e+01 -2.04881251e-01\n",
      "  9.63198280e+00  8.21191311e+00 -1.27614236e+00  1.53433285e+01\n",
      "  1.78369980e+01  8.86701965e+00  3.44382477e+01  7.65483761e+00\n",
      " -5.10269547e+00  3.99086764e-03  8.61005545e-01 -3.73043180e+00\n",
      "  1.03586893e+01  1.68397865e+01  7.24741793e+00 -8.69838238e+00\n",
      "  1.93886948e+01  8.05487633e+00  6.14788485e+00  2.40711899e+01\n",
      "  9.77885056e+00  3.09984818e+01  3.00966892e+01 -8.91051367e-02\n",
      "  3.70633049e+01 -1.41379428e+00  1.19948664e+01  1.71271954e+01\n",
      "  2.62902985e+01  3.02334442e+01 -2.38795662e+01  3.91149940e+01\n",
      "  7.72484970e+00  3.72435784e+00  2.40871716e+01 -2.03121543e-01\n",
      "  1.86153431e+01  1.66845856e+01  1.60140944e+00  3.19137645e+00\n",
      "  1.52882881e+01 -1.69014244e+01  1.50111217e+01  5.14044046e+00\n",
      " -1.57364550e+01 -4.86827135e+00 -4.63368940e+00 -1.96404762e+01\n",
      "  2.76934505e+00 -2.27336922e+01 -2.03750181e+00 -6.40951347e+00\n",
      " -6.63204145e+00 -7.17819262e+00 -6.81916094e+00 -4.77520466e+00\n",
      "  6.07834995e-01 -1.38173163e+00 -2.17258778e+01 -2.41788807e+01\n",
      " -3.78966570e+00 -1.09137559e+00 -4.19821739e+00 -5.37420034e+00\n",
      " -5.25803709e+00  1.00531979e+01 -6.63369703e+00 -9.59182560e-01\n",
      "  2.01716518e+00 -7.76183748e+00 -1.41678753e+01  4.29950953e+00\n",
      " -1.18977318e+01 -1.37228050e+01 -4.35956448e-01 -7.34746075e+00\n",
      " -1.79768257e+01  6.14579010e+00  4.39036226e+00 -3.90289569e+00\n",
      " -3.22531891e+00  4.57498980e+00 -7.24100876e+00 -9.91124439e+00\n",
      " -4.91509199e+00 -8.50586033e+00 -6.52232945e-01 -1.06346378e+01\n",
      "  6.91685486e+00 -2.11966343e+01  2.31643534e+00 -5.62263203e+00\n",
      " -1.59630718e+01 -2.41308746e+01 -8.10669136e+00 -7.38657141e+00\n",
      " -4.38154268e+00  2.34023190e+00  2.12900233e+00 -2.73078804e+01\n",
      "  2.38814545e+00 -2.61067333e+01  8.28271568e-01 -2.49496326e+01\n",
      " -1.64414251e+00 -6.13015509e+00 -1.14409122e+01 -7.07825661e+00\n",
      " -7.22278118e+00 -1.68917322e+00 -3.56680036e+00 -7.50682402e+00\n",
      " -5.22993231e+00 -2.33872819e+00 -8.05754471e+00 -7.40533066e+00\n",
      " -1.25567780e+01 -1.57147808e+01  3.78818321e+00 -5.14248991e+00\n",
      " -2.05403972e+00 -4.07684278e+00 -5.17389536e+00 -3.89127463e-01\n",
      "  1.22132623e+00 -1.94993896e+01 -5.35401225e-01 -1.14509916e+01\n",
      " -8.25324821e+00  6.65732741e-01 -4.07462263e+00 -1.11112328e+01\n",
      "  4.88830853e+00  2.85811687e+00 -6.69947052e+00 -2.12968135e+00\n",
      " -2.56967201e+01  2.87307477e+00 -2.00062943e+01  3.15127993e+00\n",
      " -2.91567688e+01 -9.09274006e+00 -1.54778147e+01 -6.48492336e+00\n",
      " -1.82310886e+01 -2.09174490e+00  2.41104650e+00 -5.15718460e+00\n",
      "  3.06773710e+00 -1.60907757e+00 -1.78430879e+00 -5.12971640e-01\n",
      " -1.26547945e+00 -6.61441207e-01  5.97025108e+00 -5.11809254e+00\n",
      " -1.07437859e+01 -7.43449783e+00  5.57329464e+00  2.98591304e+00\n",
      " -6.60866308e+00 -6.22183228e+00 -4.81315184e+00  1.96016045e+01\n",
      "  1.32485366e+00 -1.24625826e+00 -1.28996143e+01 -4.11167622e+00\n",
      "  4.14023399e+00 -3.81926465e+00 -1.03730402e+01 -6.04840469e+00\n",
      "  3.54869461e+00 -2.19744606e+01 -7.47607517e+00 -1.22999029e+01\n",
      " -5.68033934e+00 -4.06078863e+00 -2.33508911e+01  1.62912577e-01\n",
      " -8.81817436e+00 -9.25484276e+00 -5.70118904e+00  8.71645629e-01\n",
      " -1.21633482e+01  5.92783242e-02 -7.22201538e+00 -3.40342498e+00\n",
      "  9.83907402e-01  2.48093748e+00  5.55168676e+00 -4.30603456e+00\n",
      " -6.51810932e+00 -1.70394554e+01 -1.28489220e+00 -2.01599574e+00\n",
      " -2.25612974e+00  7.23493910e+00  1.95050216e+00  5.34932423e+00\n",
      "  2.12873960e+00 -2.98429203e+00  1.08905449e+01 -1.30117905e+00\n",
      " -1.15938222e+00 -4.83486986e+00 -1.11147717e-01 -3.07701230e+00\n",
      " -3.70761728e+00 -3.96514392e+00 -2.63781357e+00  5.28349698e-01\n",
      " -9.48782444e+00 -1.16787124e+00 -6.29422426e+00  1.76761806e+00\n",
      " -3.89233208e+00  1.87712622e+00 -2.42529793e+01 -8.41405451e-01\n",
      "  2.91977668e+00 -5.57694912e+00 -9.61599731e+00 -2.94655180e+00\n",
      " -4.28642511e+00 -4.10789512e-02 -5.29965258e+00  4.09799099e-01\n",
      " -6.35103798e+00  2.95353174e+00  3.72057152e+00 -2.10617027e+01\n",
      " -1.11276579e+01 -2.76790428e+01 -4.05765772e-01 -5.02763844e+00\n",
      " -3.35555029e+00 -2.35306702e+01 -8.15296364e+00 -9.02877331e+00\n",
      " -1.98450127e+01  6.44175673e+00  8.40476704e+00  9.00408812e-03\n",
      "  2.55705148e-01  6.12995625e+00 -1.20418444e+01  2.21943569e+00\n",
      " -1.87128866e+00 -9.74243927e+00 -1.01081324e+01 -7.26266742e-01\n",
      " -2.26792889e+01 -2.12155056e+01 -1.78907223e+01 -4.65446138e+00\n",
      " -3.78189254e+00  6.27837086e+00 -1.26689367e+01 -1.95322514e+01\n",
      " -3.17472973e+01 -2.59085579e+01 -7.33611774e+00 -3.75993204e+00\n",
      "  4.23284054e+00 -8.05138111e+00 -2.20519295e+01  7.64822912e+00\n",
      " -2.87972031e+01  7.16234803e-01 -2.56286602e+01 -3.81526780e+00\n",
      " -3.80692177e+01 -1.19200926e+01  5.00591707e+00 -4.00676117e+01\n",
      "  2.18281484e+00  9.56271887e-01 -3.65145278e+00 -2.34451294e+01\n",
      " -3.52774143e+00 -2.73003349e+01  7.21133137e+00 -2.90139999e+01\n",
      " -4.32077551e+00 -2.69467807e+00 -3.38294563e+01 -2.54306450e+01\n",
      " -6.27876425e+00 -5.92818797e-01 -8.85155773e+00 -6.13890457e+00\n",
      " -2.08981133e+01  5.85560989e+00 -7.23761034e+00  2.57364130e+00\n",
      " -1.42160540e+01  1.78072572e-01 -1.72539401e+00  2.92699742e+00\n",
      "  1.23961258e+00 -2.64922762e+00 -1.63665295e+01  1.24238741e+00\n",
      " -2.59608960e+00 -1.10768280e+01 -1.63927040e+01 -1.15279875e+01\n",
      "  6.92973709e+00 -7.76730108e+00 -2.68313293e+01  7.80379820e+00\n",
      " -6.90951538e+00 -1.22181845e+01  2.51722479e+00 -1.09182777e+01\n",
      " -1.39487686e+01 -3.73497810e+01 -8.66584206e+00 -2.30753193e+01\n",
      " -1.45417700e+01 -1.81686509e+00 -1.86407351e+00  4.57267904e+00\n",
      " -2.93687134e+01 -1.28859835e+01 -7.28736067e+00 -2.67878685e+01\n",
      " -5.05216827e+01  2.82326722e+00  1.15373909e+00 -2.00672569e+01\n",
      " -1.56915045e+00 -9.46750927e+00 -3.54595985e+01 -3.60272932e+00\n",
      "  1.71105118e+01  7.02996635e+00 -1.18529387e+01 -1.01378851e+01\n",
      " -2.99646969e+01 -2.74948578e+01  6.00758123e+00 -1.09949226e+01\n",
      "  2.33402109e+00  7.26031113e+00 -2.03450298e+01 -6.48525810e+00\n",
      "  8.48715842e-01 -8.89502048e+00 -2.63612347e+01 -2.94219131e+01\n",
      " -8.57909203e+00  6.24653339e+00  2.45273542e+00 -9.56776047e+00\n",
      "  1.77542233e+00 -8.52138042e+00 -2.27101192e+01 -1.54256468e+01\n",
      " -1.16230526e+01 -1.79740965e+00 -2.61070690e+01 -2.70265675e+01\n",
      " -2.04327354e+01 -3.84096563e-01]' has dtype incompatible with int64, please explicitly cast to a compatible dtype first.\n",
      "  preds[val_index] = model.predict(dval_i)\n"
     ]
    },
    {
     "name": "stderr",
     "output_type": "stream",
     "text": [
      "\r",
      "100%|█████████████████████████████████████████████████████████████████████████████████████████████████████████████████████████████████████████████████████████████████████████████████████████████████████████████████████████████| 10/10 [06:12<00:00, 37.80s/it]"
     ]
    },
    {
     "name": "stderr",
     "output_type": "stream",
     "text": [
      "\r",
      "100%|█████████████████████████████████████████████████████████████████████████████████████████████████████████████████████████████████████████████████████████████████████████████████████████████████████████████████████████████| 10/10 [06:12<00:00, 37.29s/it]"
     ]
    },
    {
     "name": "stdout",
     "output_type": "stream",
     "text": [
      "OOF predictions complete\n"
     ]
    },
    {
     "name": "stderr",
     "output_type": "stream",
     "text": [
      "\n"
     ]
    }
   ],
   "source": [
    "# OOF予測\n",
    "oof_preds = []\n",
    "for i in tqdm(range(repeat_cv), leave=True, dynamic_ncols=True):\n",
    "    # 初期はターゲットの値で初期化（後で上書き）\n",
    "    preds = y.copy()\n",
    "    # 各 repeater 毎に独自の KFold を用いる（random_state = i）\n",
    "    kfold = KFold(n_splits=folds_splits, shuffle=True, random_state=i)    \n",
    "    for train_index, val_index in kfold.split(X, y):\n",
    "        dtrain_i = xgb.DMatrix(X.iloc[train_index], label=y.iloc[train_index])\n",
    "        dval_i   = xgb.DMatrix(X.iloc[val_index], label=y.iloc[val_index])\n",
    "\n",
    "        model = xgb.train(\n",
    "            params=param,\n",
    "            dtrain=dtrain_i,\n",
    "            num_boost_round=iteration_counts[i],\n",
    "            verbose_eval=50\n",
    "        )\n",
    "        preds[val_index] = model.predict(dval_i)\n",
    "    # 予測値を -30 ～ 30 にクリップ\n",
    "    oof_preds.append(np.clip(preds, -30, 30))\n",
    "\n",
    "print(\"OOF predictions complete\")"
   ]
  },
  {
   "cell_type": "code",
   "execution_count": 24,
   "id": "26eaab7a",
   "metadata": {
    "execution": {
     "iopub.execute_input": "2025-03-18T06:39:07.775464Z",
     "iopub.status.busy": "2025-03-18T06:39:07.773455Z",
     "iopub.status.idle": "2025-03-18T06:39:08.074112Z",
     "shell.execute_reply": "2025-03-18T06:39:08.074112Z"
    },
    "papermill": {
     "duration": 0.34057,
     "end_time": "2025-03-18T06:39:08.074112",
     "exception": false,
     "start_time": "2025-03-18T06:39:07.733542",
     "status": "completed"
    },
    "tags": []
   },
   "outputs": [
    {
     "data": {
      "text/plain": [
       "<Axes: >"
      ]
     },
     "execution_count": 24,
     "metadata": {},
     "output_type": "execute_result"
    },
    {
     "data": {
      "image/png": "[encoded data removed]",
      "text/plain": [
       "<Figure size 640x480 with 1 Axes>"
      ]
     },
     "metadata": {},
     "output_type": "display_data"
    }
   ],
   "source": [
    "oof_preds[0].hist()"
   ]
  },
  {
   "cell_type": "code",
   "execution_count": 25,
   "id": "96bc4a2e",
   "metadata": {
    "execution": {
     "iopub.execute_input": "2025-03-18T06:39:08.189661Z",
     "iopub.status.busy": "2025-03-18T06:39:08.189661Z",
     "iopub.status.idle": "2025-03-18T06:39:08.271578Z",
     "shell.execute_reply": "2025-03-18T06:39:08.271578Z"
    },
    "papermill": {
     "duration": 0.160446,
     "end_time": "2025-03-18T06:39:08.271578",
     "exception": false,
     "start_time": "2025-03-18T06:39:08.111132",
     "status": "completed"
    },
    "tags": []
   },
   "outputs": [],
   "source": [
    "### simple spline, seed(1, 16)~(4, 13)は強制的にfiltaring,  \n",
    "### seed値に対応して予測スコアも同じ大小関係なら1or0に変換の3モデル\n",
    "def cal_logloss(pred_vals, y, i):\n",
    "    y_binary = np.where(y > 0, 1, 0)\n",
    "    loss = log_loss(y_binary, pred_vals)\n",
    "    print(f\"logloss of cvsplit {i}: {loss:.4f}\")\n",
    "\n",
    "\n",
    "    results.append(f\"Normal Spline - logloss of cvsplit {i}: {loss:.4f}\")\n",
    "    return loss\n",
    "\n",
    "#simple spline\n",
    "def make_normal_spline(df, y, repeat_cv):\n",
    "    spline_model1 = []\n",
    "    logloss_normal = []\n",
    "    \n",
    "    for i in range(repeat_cv):\n",
    "        dat = list(zip(df[i], np.where(y>0, 1, 0)))\n",
    "        dat = sorted(dat, key=lambda x:x[0])\n",
    "        datdict = {}\n",
    "        for k in range(len(dat)):\n",
    "            datdict[dat[k][0]] = dat[k][1]\n",
    "        \n",
    "        spline_model1.append(UnivariateSpline(list(datdict.keys()), list(datdict.values())))\n",
    "        spline_fit = spline_model1[i](df[i])\n",
    "        \n",
    "        loss = cal_logloss(spline_fit, y, i)    \n",
    "        logloss_normal.append(loss)\n",
    "\n",
    "    plot_df = pd.DataFrame({\n",
    "        \"pred\": df[0],\n",
    "        \"label\": np.where(y>0,1,0),\n",
    "        \"spline\": spline_model1[0](df[0])\n",
    "    })\n",
    "    plot_df[\"pred_int\"] = plot_df[\"pred\"].astype(int)\n",
    "    plot_df = plot_df.groupby('pred_int')[['spline','label']].mean().reset_index()\n",
    "    \n",
    "    plt.figure(figsize=(8, 5))\n",
    "    plt.plot(plot_df.pred_int, plot_df.label, marker='o', linestyle='-', label=\"True Label\")\n",
    "    plt.plot(plot_df.pred_int, plot_df.spline, marker='x', linestyle='--', label=\"Spline Approximation\")\n",
    "    plt.xlabel(\"Predicted Value (Integer)\")\n",
    "    plt.ylabel(\"Mean Value\")\n",
    "    plt.title(\"Normal Spline Fit Comparison\")\n",
    "    plt.legend()\n",
    "    plt.grid(True)\n",
    "    plt.savefig(os.path.join(OUTPUT_PATH, f\"normal_spline_fit_{PREDICT_YEAR}.png\"))\n",
    "    plt.close()\n",
    "    \n",
    "    \n",
    "    # 例として平均loglossもresultsに記録\n",
    "    avg_logloss = np.mean(logloss_normal) \n",
    "    results.append(f\"Average Normal Spline logloss: {avg_logloss:.4f}\" if avg_logloss is not None else \"No logloss computed\")\n",
    "    \n",
    "    return spline_model1\n",
    "            \n",
    "            \n",
    "#seed(1, 16)~(4, 13)は強制的にseed通りの結果にフィルタリング\n",
    "def make_seed1to4_chenge(df, y, repeat_cv):\n",
    "    spline_model2 = []\n",
    "    spline_fits = []\n",
    "    for i in range(repeat_cv):\n",
    "        dat = list(zip(df[i], np.where(y>0, 1, 0)))\n",
    "        dat = sorted(dat, key=lambda x:x[0])\n",
    "        datdict = {}\n",
    "        for k in range(len(dat)):\n",
    "            datdict[dat[k][0]] = dat[k][1]\n",
    "        \n",
    "        spline_model2.append(UnivariateSpline(list(datdict.keys()), list(datdict.values())))\n",
    "        spline_fit = spline_model2[i](df[i]) \n",
    "        \n",
    "        #add\n",
    "        spline_fit[(X.T1_seed==1) & (X.T2_seed==16)] = 1.0\n",
    "        spline_fit[(X.T1_seed==2) & (X.T2_seed==15)] = 0.9\n",
    "        spline_fit[(X.T1_seed==3) & (X.T2_seed==14)] = 0.8\n",
    "        spline_fit[(X.T1_seed==4) & (X.T2_seed==13)] = 0.7\n",
    "        spline_fit[(X.T1_seed==16) & (X.T2_seed==1)] = 0.0\n",
    "        spline_fit[(X.T1_seed==15) & (X.T2_seed==2)] = 0.1\n",
    "        spline_fit[(X.T1_seed==14) & (X.T2_seed==3)] = 0.2\n",
    "        spline_fit[(X.T1_seed==13) & (X.T2_seed==4)] = 0.3\n",
    "\n",
    "    \n",
    "        cal_logloss(spline_fit, y, i)   \n",
    "                \n",
    "        spline_fits.append(spline_fit)\n",
    "        cal_logloss(spline_fit, y, i)   \n",
    "                \n",
    "    \n",
    "    plot_df = pd.DataFrame({\n",
    "        \"pred\": df[0],\n",
    "        \"label\": np.where(y > 0, 1, 0),\n",
    "        \"spline\": spline_fits[0]  # 変更後の値を利用\n",
    "    })\n",
    "    plot_df[\"pred_int\"] = plot_df[\"pred\"].astype(int)\n",
    "    plot_df = plot_df.groupby(\"pred_int\")[[\"spline\", \"label\"]].mean().reset_index()\n",
    "\n",
    "    plt.figure()\n",
    "    plt.plot(plot_df.pred_int, plot_df.label, label=\"label\")\n",
    "    plt.plot(plot_df.pred_int, plot_df.spline, label=\"spline\")\n",
    "    plt.legend()\n",
    "    plt.show()\n",
    "    \n",
    "    return spline_model2\n",
    "    \n",
    "    \n",
    "#完全に値変換するのではなくてseed値に対応して予測スコアも同じ大小関係なら1or0に変換\n",
    "def make_seed1to4_base_on_score(df, y, repeat_cv):\n",
    "    spline_model3 = []\n",
    "    spline_fits = []\n",
    "\n",
    "    for i in range(repeat_cv):\n",
    "        dat = list(zip(df[i], np.where(y>0, 1, 0)))\n",
    "        dat = sorted(dat, key=lambda x:x[0])\n",
    "        datdict = {}\n",
    "        for k in range(len(dat)):\n",
    "            datdict[dat[k][0]] = dat[k][1]\n",
    "        \n",
    "        spline_model3.append(UnivariateSpline(list(datdict.keys()), list(datdict.values())))\n",
    "        spline_fit = spline_model3[i](df[i]) \n",
    "        \n",
    "        #add\n",
    "        spline_fit[(X.T1_seed==1) & (X.T2_seed==16) & (X.T1_Score > X.T2_Score)] = 1.0\n",
    "        spline_fit[(X.T1_seed==2) & (X.T2_seed==15) & (X.T1_Score > X.T2_Score)] = 1.0\n",
    "        spline_fit[(X.T1_seed==3) & (X.T2_seed==14) & (X.T1_Score > X.T2_Score)] = 1.0\n",
    "        spline_fit[(X.T1_seed==4) & (X.T2_seed==13) & (X.T1_Score > X.T2_Score)] = 1.0\n",
    "        spline_fit[(X.T1_seed==16) & (X.T2_seed==1) & (X.T1_Score < X.T2_Score)] = 0.0\n",
    "        spline_fit[(X.T1_seed==15) & (X.T2_seed==2) & (X.T1_Score < X.T2_Score)] = 0.0\n",
    "        spline_fit[(X.T1_seed==14) & (X.T2_seed==3) & (X.T1_Score < X.T2_Score)] = 0.0\n",
    "        spline_fit[(X.T1_seed==13) & (X.T2_seed==4) & (X.T1_Score < X.T2_Score)] = 0.0\n",
    "\n",
    "        spline_fits.append(spline_fit)\n",
    "        cal_logloss(spline_fit, y, i)   \n",
    "    \n",
    "    \n",
    "    plot_df = pd.DataFrame({\n",
    "        \"pred\": df[0],\n",
    "        \"label\": np.where(y > 0, 1, 0),\n",
    "        \"spline\": spline_fits[0]  # 変更後の値を利用\n",
    "    })\n",
    "    plot_df[\"pred_int\"] = plot_df[\"pred\"].astype(int)\n",
    "    plot_df = plot_df.groupby(\"pred_int\")[[\"spline\", \"label\"]].mean().reset_index()\n",
    "\n",
    "    plt.figure()\n",
    "    plt.plot(plot_df.pred_int, plot_df.label, label=\"label\")\n",
    "    plt.plot(plot_df.pred_int, plot_df.spline, label=\"spline\")\n",
    "    plt.legend()\n",
    "    plt.show()\n",
    "    return spline_model3\n",
    "\n",
    "\n",
    "\n",
    "# Platt Scalingを用いた補正曲線生成の関数 (ロジスティック回帰)\n",
    "def make_platt_scaling(df, y, repeat_cv):\n",
    "    platt_models = []\n",
    "    logloss_platt = []\n",
    "    \n",
    "    for i in range(repeat_cv):\n",
    "        X_train = np.array(df[i]).reshape(-1, 1)\n",
    "        y_binary = np.where(y > 0, 1, 0)\n",
    "        \n",
    "        model = LogisticRegression(random_state=42, solver='lbfgs')\n",
    "        model.fit(X_train, y_binary)\n",
    "        platt_models.append(model)\n",
    "        \n",
    "\n",
    "        platt_fit = model.predict_proba(X_train)[:, 1]\n",
    "        loss = cal_logloss(platt_fit, y, i)\n",
    "        logloss_platt.append(loss)\n",
    "    \n",
    "    \n",
    "    ###\n",
    "    plot_df = pd.DataFrame({\n",
    "        \"pred\": df[0],\n",
    "        \"label\": np.where(y > 0, 1, 0),\n",
    "        \"platt\": platt_models[0].predict_proba(np.array(df[0]).reshape(-1, 1))[:, 1]\n",
    "    })\n",
    "    plot_df[\"pred_int\"] = plot_df[\"pred\"].astype(int)\n",
    "    plot_df = plot_df.groupby(\"pred_int\")[[\"platt\", \"label\"]].mean().reset_index()\n",
    "    \n",
    "    plt.figure(figsize=(8, 5))\n",
    "    plt.plot(plot_df.pred_int, plot_df.label, marker='o', linestyle='-', label=\"True Label\")\n",
    "    plt.plot(plot_df.pred_int, plot_df.platt, marker='x', linestyle='--', label=\"Platt Scaling\")\n",
    "    plt.xlabel(\"Predicted Value (Integer)\")\n",
    "    plt.ylabel(\"Mean Value\")\n",
    "    plt.title(\"Platt Scaling Calibration Curve\")\n",
    "    plt.legend()\n",
    "    plt.grid(True)\n",
    "    plt.savefig(os.path.join(OUTPUT_PATH, f\"platt_scaling_fit_{PREDICT_YEAR}.png\"))\n",
    "    plt.close()\n",
    "    \n",
    "    avg_logloss = np.mean(logloss_platt)\n",
    "    results.append(f\"Average Platt Scaling logloss: {avg_logloss:.4f}\" if avg_logloss is not None else \"No logloss computed\")\n",
    "    \n",
    "    return platt_models\n",
    "\n",
    "def make_isotonic_regression(df, y, repeat_cv):\n",
    "    \"\"\" Isotonic Regression を用いた補正曲線生成 \"\"\"\n",
    "    isotonic_models = []\n",
    "    logloss_isotonic = []\n",
    "    \n",
    "    for i in range(repeat_cv):\n",
    "        X_train = np.array(df[i]).reshape(-1, 1)\n",
    "        y_binary = np.where(y > 0, 1, 0)\n",
    "        \n",
    "        model = IsotonicRegression(out_of_bounds=\"clip\")\n",
    "        model.fit(X_train.ravel(), y_binary)\n",
    "        isotonic_models.append(model)\n",
    "        \n",
    "        isotonic_fit = model.predict(X_train.ravel())\n",
    "        loss = cal_logloss(isotonic_fit, y, i)\n",
    "        logloss_isotonic.append(loss)\n",
    "    \n",
    "    plot_df = pd.DataFrame({\n",
    "        \"pred\": df[0],\n",
    "        \"label\": np.where(y > 0, 1, 0),\n",
    "        \"isotonic\": isotonic_models[0].predict(np.array(df[0]).reshape(-1, 1))\n",
    "    })\n",
    "    plot_df[\"pred_int\"] = plot_df[\"pred\"].astype(int)\n",
    "    plot_df = plot_df.groupby(\"pred_int\")[[\"isotonic\", \"label\"]].mean().reset_index()\n",
    "    \n",
    "    plt.figure(figsize=(8, 5))\n",
    "    plt.plot(plot_df.pred_int, plot_df.label, marker='o', linestyle='-', label=\"True Label\")\n",
    "    plt.plot(plot_df.pred_int, plot_df.isotonic, marker='x', linestyle='--', label=\"Isotonic Regression\")\n",
    "    plt.xlabel(\"Predicted Value (Integer)\")\n",
    "    plt.ylabel(\"Mean Value\")\n",
    "    plt.title(\"Isotonic Regression Calibration Curve\")\n",
    "    plt.legend()\n",
    "    plt.grid(True)\n",
    "    plt.savefig(os.path.join(OUTPUT_PATH, f\"isotonic_regression_fit_{PREDICT_YEAR}.png\"))\n",
    "    plt.close()\n",
    "    \n",
    "    avg_logloss = np.mean(logloss_isotonic)\n",
    "    results.append(f\"Average Isotonic Regression logloss: {avg_logloss:.4f}\" if avg_logloss is not None else \"No logloss computed\")\n",
    "    \n",
    "    return isotonic_models\n",
    "\n"
   ]
  },
  {
   "cell_type": "code",
   "execution_count": 26,
   "id": "df7dd049",
   "metadata": {
    "execution": {
     "iopub.execute_input": "2025-03-18T06:39:08.352178Z",
     "iopub.status.busy": "2025-03-18T06:39:08.352178Z",
     "iopub.status.idle": "2025-03-18T06:39:08.362948Z",
     "shell.execute_reply": "2025-03-18T06:39:08.362948Z"
    },
    "papermill": {
     "duration": 0.051633,
     "end_time": "2025-03-18T06:39:08.365486",
     "exception": false,
     "start_time": "2025-03-18T06:39:08.313853",
     "status": "completed"
    },
    "tags": []
   },
   "outputs": [],
   "source": [
    "# キャリブレーションカーブの描画関数\n",
    "def plot_calibration_curve(y_true, y_pred_proba, method, save_path):\n",
    "    \"\"\" キャリブレーションカーブをプロットし保存 \"\"\"\n",
    "    y_binary = np.where(y_true > 0, 1, 0) \n",
    "    prob_true, prob_pred = calibration_curve(y_binary, y_pred_proba, n_bins=10)\n",
    "    \n",
    "    plt.figure(figsize=(6,6))\n",
    "    plt.plot(prob_pred, prob_true, marker=\"o\", label=f\"{method} Calibration\")\n",
    "    plt.plot([0, 1], [0, 1], linestyle=\"--\", label=\"Perfect Calibration\")\n",
    "    plt.xlabel(\"Predicted Probability\")\n",
    "    plt.ylabel(\"Actual Probability\")\n",
    "    plt.legend()\n",
    "    plt.title(f\"{method} Calibration Curve\")\n",
    "    plt.grid()\n",
    "    plt.savefig(save_path)\n",
    "    plt.close()\n",
    "\n"
   ]
  },
  {
   "cell_type": "code",
   "execution_count": 27,
   "id": "1ea0759f",
   "metadata": {
    "execution": {
     "iopub.execute_input": "2025-03-18T06:39:08.462631Z",
     "iopub.status.busy": "2025-03-18T06:39:08.462631Z",
     "iopub.status.idle": "2025-03-18T06:39:09.100873Z",
     "shell.execute_reply": "2025-03-18T06:39:09.100873Z"
    },
    "papermill": {
     "duration": 0.689653,
     "end_time": "2025-03-18T06:39:09.100873",
     "exception": false,
     "start_time": "2025-03-18T06:39:08.411220",
     "status": "completed"
    },
    "tags": []
   },
   "outputs": [
    {
     "name": "stdout",
     "output_type": "stream",
     "text": [
      "logloss of cvsplit 0: 0.5079\n",
      "logloss of cvsplit 1: 0.5060\n",
      "logloss of cvsplit 2: 0.5054\n",
      "logloss of cvsplit 3: 0.5027\n",
      "logloss of cvsplit 4: 0.5054\n",
      "logloss of cvsplit 5: 0.5040\n",
      "logloss of cvsplit 6: 0.5058\n",
      "logloss of cvsplit 7: 0.5084\n",
      "logloss of cvsplit 8: 0.5065\n",
      "logloss of cvsplit 9: 0.5045\n"
     ]
    }
   ],
   "source": [
    "# キャリブレーション手法の選択\n",
    "spline = MODEL.spline\n",
    "if spline == \"spline_normal\":\n",
    "    spline_model = make_normal_spline(oof_preds, y, repeat_cv)\n",
    "    calibrated_preds = spline_model[0](oof_preds[0])\n",
    "    plot_calibration_curve(y, calibrated_preds, \"Spline Normal\", os.path.join(OUTPUT_PATH, f\"spline_normal_calibration_{PREDICT_YEAR}.png\"))\n",
    "    \n",
    "elif spline == \"logistic\":\n",
    "    spline_model = make_platt_scaling(oof_preds, y, repeat_cv)\n",
    "    calibrated_preds = spline_model[0].predict_proba(np.array(oof_preds[0]).reshape(-1, 1))[:, 1]\n",
    "    plot_calibration_curve(y, calibrated_preds, \"Platt Scaling\", os.path.join(OUTPUT_PATH, f\"platt_scaling_calibration_{PREDICT_YEAR}.png\"))\n",
    "    \n",
    "elif spline == \"isotonic\":\n",
    "    spline_model = make_isotonic_regression(oof_preds, y, repeat_cv)\n",
    "    calibrated_preds = spline_model[0].predict(np.array(oof_preds[0]).reshape(-1, 1))\n",
    "    plot_calibration_curve(y, calibrated_preds, \"Isotonic Regression\", os.path.join(OUTPUT_PATH, f\"isotonic_regression_calibration_{PREDICT_YEAR}.png\"))"
   ]
  },
  {
   "cell_type": "markdown",
   "id": "9a3089e2",
   "metadata": {
    "papermill": {
     "duration": 0.031121,
     "end_time": "2025-03-18T06:39:09.160620",
     "exception": false,
     "start_time": "2025-03-18T06:39:09.129499",
     "status": "completed"
    },
    "tags": []
   },
   "source": [
    "# submmit\n",
    "\n",
    "同じfeature engineeringする.\n",
    "\n",
    "個々の扱うも考える。2025は最終提出用の関数を用意する、その他2024以前は過去コンペでの提出形式に合わせる、でも年度によって提出形式が変わるからとりあえず2023でやる"
   ]
  },
  {
   "cell_type": "code",
   "execution_count": 28,
   "id": "337fb06d",
   "metadata": {
    "execution": {
     "iopub.execute_input": "2025-03-18T06:39:09.267774Z",
     "iopub.status.busy": "2025-03-18T06:39:09.267774Z",
     "iopub.status.idle": "2025-03-18T06:39:09.278258Z",
     "shell.execute_reply": "2025-03-18T06:39:09.278258Z"
    },
    "papermill": {
     "duration": 0.06994,
     "end_time": "2025-03-18T06:39:09.278258",
     "exception": false,
     "start_time": "2025-03-18T06:39:09.208318",
     "status": "completed"
    },
    "tags": []
   },
   "outputs": [
    {
     "data": {
      "text/plain": [
       "'if PREDICT_YEAR==2022:\\n    sub = pd.read_csv(os.path.join(INPUT_PATH, \"SampleSubmission2022M.csv\"))\\n    sub[\\'Season\\'] = sub[\\'ID\\'].apply(lambda x: int(x.split(\\'_\\')[0]))\\n    sub[\"T1_TeamID\"] = sub[\\'ID\\'].apply(lambda x: int(x.split(\\'_\\')[1]))\\n    sub[\"T2_TeamID\"] = sub[\\'ID\\'].apply(lambda x: int(x.split(\\'_\\')[2]))\\n    sub_X, a = process_tourney(sub, mode = \"sub\")\\n    dtest = xgb.DMatrix(sub_X)\\nelif PREDICT_YEAR==2023:\\n    sub = pd.read_csv(os.path.join(INPUT_PATH, \"SampleSubmission2023.csv\"))\\n    sub[\\'Season\\'] = sub[\\'ID\\'].apply(lambda x: int(x.split(\\'_\\')[0]))\\n    sub[\"T1_TeamID\"] = sub[\\'ID\\'].apply(lambda x: int(x.split(\\'_\\')[1]))\\n    sub[\"T2_TeamID\"] = sub[\\'ID\\'].apply(lambda x: int(x.split(\\'_\\')[2]))\\n    sub_X, a = process_tourney(sub, mode = \"sub\")\\n    dtest = xgb.DMatrix(sub_X)\\nelif PREDICT_YEAR==2024:\\n    sub = pd.read_csv(os.path.join(INPUT_PATH, \"SampleSubmission2024.csv\"))\\n    sub[\\'Season\\'] = sub[\\'ID\\'].apply(lambda x: int(x.split(\\'_\\')[0]))\\n    sub[\"T1_TeamID\"] = sub[\\'ID\\'].apply(lambda x: int(x.split(\\'_\\')[1]))\\n    sub[\"T2_TeamID\"] = sub[\\'ID\\'].apply(lambda x: int(x.split(\\'_\\')[2]))\\n    sub_X, a = process_tourney(sub, mode = \"sub\")\\n    dtest = xgb.DMatrix(sub_X)\\nelif PREDICT_YEAR==2025:\\n    sub = pd.read_csv(os.path.join(INPUT_PATH, \"SampleSubmissionStage2.csv\"))\\n    sub[\\'Season\\'] = sub[\\'ID\\'].apply(lambda x: int(x.split(\\'_\\')[0]))\\n    sub[\"T1_TeamID\"] = sub[\\'ID\\'].apply(lambda x: int(x.split(\\'_\\')[1]))\\n    sub[\"T2_TeamID\"] = sub[\\'ID\\'].apply(lambda x: int(x.split(\\'_\\')[2]))   \\n    sub_X, a = process_tourney(sub, mode = \"sub\")\\n    dtest = xgb.DMatrix(sub_X)'"
      ]
     },
     "execution_count": 28,
     "metadata": {},
     "output_type": "execute_result"
    }
   ],
   "source": [
    "\"\"\"if PREDICT_YEAR==2022:\n",
    "    sub = pd.read_csv(os.path.join(INPUT_PATH, \"SampleSubmission2022M.csv\"))\n",
    "    sub['Season'] = sub['ID'].apply(lambda x: int(x.split('_')[0]))\n",
    "    sub[\"T1_TeamID\"] = sub['ID'].apply(lambda x: int(x.split('_')[1]))\n",
    "    sub[\"T2_TeamID\"] = sub['ID'].apply(lambda x: int(x.split('_')[2]))\n",
    "    sub_X, a = process_tourney(sub, mode = \"sub\")\n",
    "    dtest = xgb.DMatrix(sub_X)\n",
    "elif PREDICT_YEAR==2023:\n",
    "    sub = pd.read_csv(os.path.join(INPUT_PATH, \"SampleSubmission2023.csv\"))\n",
    "    sub['Season'] = sub['ID'].apply(lambda x: int(x.split('_')[0]))\n",
    "    sub[\"T1_TeamID\"] = sub['ID'].apply(lambda x: int(x.split('_')[1]))\n",
    "    sub[\"T2_TeamID\"] = sub['ID'].apply(lambda x: int(x.split('_')[2]))\n",
    "    sub_X, a = process_tourney(sub, mode = \"sub\")\n",
    "    dtest = xgb.DMatrix(sub_X)\n",
    "elif PREDICT_YEAR==2024:\n",
    "    sub = pd.read_csv(os.path.join(INPUT_PATH, \"SampleSubmission2024.csv\"))\n",
    "    sub['Season'] = sub['ID'].apply(lambda x: int(x.split('_')[0]))\n",
    "    sub[\"T1_TeamID\"] = sub['ID'].apply(lambda x: int(x.split('_')[1]))\n",
    "    sub[\"T2_TeamID\"] = sub['ID'].apply(lambda x: int(x.split('_')[2]))\n",
    "    sub_X, a = process_tourney(sub, mode = \"sub\")\n",
    "    dtest = xgb.DMatrix(sub_X)\n",
    "elif PREDICT_YEAR==2025:\n",
    "    sub = pd.read_csv(os.path.join(INPUT_PATH, \"SampleSubmissionStage2.csv\"))\n",
    "    sub['Season'] = sub['ID'].apply(lambda x: int(x.split('_')[0]))\n",
    "    sub[\"T1_TeamID\"] = sub['ID'].apply(lambda x: int(x.split('_')[1]))\n",
    "    sub[\"T2_TeamID\"] = sub['ID'].apply(lambda x: int(x.split('_')[2]))   \n",
    "    sub_X, a = process_tourney(sub, mode = \"sub\")\n",
    "    dtest = xgb.DMatrix(sub_X)\"\"\"\n",
    "    "
   ]
  },
  {
   "cell_type": "code",
   "execution_count": 29,
   "id": "8201d847",
   "metadata": {
    "execution": {
     "iopub.execute_input": "2025-03-18T06:39:09.356024Z",
     "iopub.status.busy": "2025-03-18T06:39:09.356024Z",
     "iopub.status.idle": "2025-03-18T06:39:09.412743Z",
     "shell.execute_reply": "2025-03-18T06:39:09.411369Z"
    },
    "papermill": {
     "duration": 0.098266,
     "end_time": "2025-03-18T06:39:09.417237",
     "exception": false,
     "start_time": "2025-03-18T06:39:09.318971",
     "status": "completed"
    },
    "tags": []
   },
   "outputs": [
    {
     "name": "stdout",
     "output_type": "stream",
     "text": [
      "no fillna, use nan\n",
      "drop col list: ['T1_TOmean', 'T2_TOmean', 'T1_opponent_POSS_RATEmean', 'T2_opponent_POSS_RATEmean', 'T1_opponent_Astmean', 'T2_opponent_Astmean', 'T1_opponent_FT_RATEmean', 'T2_opponent_FT_RATEmean', 'T1_opponent_Stlmean', 'T2_opponent_Stlmean', 'T1_ORmean', 'T2_ORmean', 'T1_opponent_ORmean', 'T2_opponent_ORmean', 'T1_TeamID', 'T2_TeamID', 'Season']\n"
     ]
    }
   ],
   "source": [
    "sub = notexist.copy()\n",
    "sub = sub.rename(columns={\"WTeamID\": \"T1_TeamID\", \"LTeamID\": \"T2_TeamID\"})\n",
    "sub = sub[[\"Season\", \"T1_TeamID\", \"T2_TeamID\"]]\n",
    "temp = sub.copy()\n",
    "temp = temp.rename(columns={\"T1_TeamID\": \"T2_TeamID\", \"T2_TeamID\": \"T1_TeamID\"})\n",
    "sub = pd.concat([sub, temp]).reset_index()\n",
    "sub_X, a = process_tourney(sub, mode=\"sub\")\n",
    "sub_X = drop_columns(sub_X, drop_col)\n",
    "dtest = xgb.DMatrix(sub_X)"
   ]
  },
  {
   "cell_type": "code",
   "execution_count": 30,
   "id": "9fbf99f3",
   "metadata": {
    "execution": {
     "iopub.execute_input": "2025-03-18T06:39:09.502259Z",
     "iopub.status.busy": "2025-03-18T06:39:09.502259Z",
     "iopub.status.idle": "2025-03-18T06:40:33.256931Z",
     "shell.execute_reply": "2025-03-18T06:40:33.256289Z"
    },
    "papermill": {
     "duration": 83.796997,
     "end_time": "2025-03-18T06:40:33.259051",
     "exception": false,
     "start_time": "2025-03-18T06:39:09.462054",
     "status": "completed"
    },
    "tags": []
   },
   "outputs": [
    {
     "name": "stderr",
     "output_type": "stream",
     "text": [
      "\r",
      "  0%|                                                                                                                                                                                                                                      | 0/10 [00:00<?, ?it/s]"
     ]
    },
    {
     "name": "stderr",
     "output_type": "stream",
     "text": [
      "\r",
      " 10%|██████████████████████▏                                                                                                                                                                                                       | 1/10 [00:07<01:09,  7.70s/it]"
     ]
    },
    {
     "name": "stderr",
     "output_type": "stream",
     "text": [
      "\r",
      " 20%|████████████████████████████████████████████▍                                                                                                                                                                                 | 2/10 [00:14<00:59,  7.46s/it]"
     ]
    },
    {
     "name": "stderr",
     "output_type": "stream",
     "text": [
      "\r",
      " 30%|██████████████████████████████████████████████████████████████████▌                                                                                                                                                           | 3/10 [00:23<00:56,  8.00s/it]"
     ]
    },
    {
     "name": "stderr",
     "output_type": "stream",
     "text": [
      "\r",
      " 40%|████████████████████████████████████████████████████████████████████████████████████████▊                                                                                                                                     | 4/10 [00:31<00:48,  8.12s/it]"
     ]
    },
    {
     "name": "stderr",
     "output_type": "stream",
     "text": [
      "\r",
      " 50%|███████████████████████████████████████████████████████████████████████████████████████████████████████████████                                                                                                               | 5/10 [00:41<00:43,  8.79s/it]"
     ]
    },
    {
     "name": "stderr",
     "output_type": "stream",
     "text": [
      "\r",
      " 60%|█████████████████████████████████████████████████████████████████████████████████████████████████████████████████████████████████████▏                                                                                        | 6/10 [00:50<00:35,  8.81s/it]"
     ]
    },
    {
     "name": "stderr",
     "output_type": "stream",
     "text": [
      "\r",
      " 70%|███████████████████████████████████████████████████████████████████████████████████████████████████████████████████████████████████████████████████████████▍                                                                  | 7/10 [00:58<00:25,  8.52s/it]"
     ]
    },
    {
     "name": "stderr",
     "output_type": "stream",
     "text": [
      "\r",
      " 80%|█████████████████████████████████████████████████████████████████████████████████████████████████████████████████████████████████████████████████████████████████████████████████▌                                            | 8/10 [01:06<00:16,  8.33s/it]"
     ]
    },
    {
     "name": "stderr",
     "output_type": "stream",
     "text": [
      "\r",
      " 90%|███████████████████████████████████████████████████████████████████████████████████████████████████████████████████████████████████████████████████████████████████████████████████████████████████████▊                      | 9/10 [01:14<00:08,  8.34s/it]"
     ]
    },
    {
     "name": "stderr",
     "output_type": "stream",
     "text": [
      "\r",
      "100%|█████████████████████████████████████████████████████████████████████████████████████████████████████████████████████████████████████████████████████████████████████████████████████████████████████████████████████████████| 10/10 [01:23<00:00,  8.47s/it]"
     ]
    },
    {
     "name": "stderr",
     "output_type": "stream",
     "text": [
      "\r",
      "100%|█████████████████████████████████████████████████████████████████████████████████████████████████████████████████████████████████████████████████████████████████████████████████████████████████████████████████████████████| 10/10 [01:23<00:00,  8.37s/it]"
     ]
    },
    {
     "name": "stderr",
     "output_type": "stream",
     "text": [
      "\n"
     ]
    }
   ],
   "source": [
    "sub_models = []\n",
    "#sokutionではカスタム関数の指定、早期停止の言及がここではなかった。検討する\n",
    "for i in tqdm(range(repeat_cv), leave=True, dynamic_ncols=True):\n",
    "    sub_models.append(\n",
    "        xgb.train(\n",
    "          params = param,\n",
    "          dtrain = dtrain,\n",
    "          obj=cauchyobj,\n",
    "          num_boost_round = int(iteration_counts[i] * 1.05),\n",
    "          #early_stopping_rounds=early_stopping_rounds, #これ指定してない、指定するのかあと、指定するとしても少し遅くさせるとか\n",
    "          verbose_eval = 50\n",
    "        )\n",
    "    )"
   ]
  },
  {
   "cell_type": "markdown",
   "id": "e23b8983",
   "metadata": {
    "papermill": {
     "duration": 0.038421,
     "end_time": "2025-03-18T06:40:33.337544",
     "exception": false,
     "start_time": "2025-03-18T06:40:33.299123",
     "status": "completed"
    },
    "tags": []
   },
   "source": [
    "各特徴量の寄与度を算出"
   ]
  },
  {
   "cell_type": "code",
   "execution_count": 31,
   "id": "1e04efee",
   "metadata": {
    "execution": {
     "iopub.execute_input": "2025-03-18T06:40:33.413584Z",
     "iopub.status.busy": "2025-03-18T06:40:33.413584Z",
     "iopub.status.idle": "2025-03-18T06:40:34.823431Z",
     "shell.execute_reply": "2025-03-18T06:40:34.821414Z"
    },
    "papermill": {
     "duration": 1.450021,
     "end_time": "2025-03-18T06:40:34.829236",
     "exception": false,
     "start_time": "2025-03-18T06:40:33.379215",
     "status": "completed"
    },
    "tags": []
   },
   "outputs": [
    {
     "data": {
      "image/png": "[encoded data removed]",
      "text/plain": [
       "<Figure size 1000x600 with 1 Axes>"
      ]
     },
     "metadata": {},
     "output_type": "display_data"
    }
   ],
   "source": [
    "feature_importances = collections.defaultdict(list)\n",
    "for model in sub_models:\n",
    "    importance = model.get_score(importance_type='gain')\n",
    "    for feat, score in importance.items():\n",
    "        feature_importances[feat].append(score)\n",
    "\n",
    "avg_importance = {feat: sum(scores) / len(scores) for feat, scores in feature_importances.items()}\n",
    "fi_df = pd.DataFrame(list(avg_importance.items()), columns=['Feature', 'Avg_Gain'])\n",
    "fi_df.sort_values(by='Avg_Gain', ascending=False, inplace=True)\n",
    "results.append(\"\")\n",
    "fi_log = \"-----Feature Importance (Average Gain)-----\\n\"\n",
    "for feat, score in fi_df.values:\n",
    "    fi_log += f\"{feat}: {score:.4f}\\n\"\n",
    "results.append(fi_log)\n",
    "results.append(\"\")\n",
    "\n",
    "plt.figure(figsize=(10, 6))\n",
    "plt.bar(fi_df['Feature'], fi_df['Avg_Gain'])\n",
    "plt.xlabel('Feature')\n",
    "plt.ylabel('Average Gain')\n",
    "plt.title('Feature Importance (Average Gain)')\n",
    "plt.xticks(rotation=45)\n",
    "plt.tight_layout() \n",
    "\n",
    "plt.savefig(os.path.join(OUTPUT_PATH, f\"feature_importance_{PREDICT_YEAR}.png\"))\n",
    "plt.show()"
   ]
  },
  {
   "cell_type": "code",
   "execution_count": 32,
   "id": "81dd18ec",
   "metadata": {
    "execution": {
     "iopub.execute_input": "2025-03-18T06:40:34.973570Z",
     "iopub.status.busy": "2025-03-18T06:40:34.973570Z",
     "iopub.status.idle": "2025-03-18T06:40:35.075257Z",
     "shell.execute_reply": "2025-03-18T06:40:35.075257Z"
    },
    "papermill": {
     "duration": 0.200442,
     "end_time": "2025-03-18T06:40:35.077737",
     "exception": false,
     "start_time": "2025-03-18T06:40:34.877295",
     "status": "completed"
    },
    "tags": []
   },
   "outputs": [
    {
     "name": "stderr",
     "output_type": "stream",
     "text": [
      "\r",
      "  0%|                                                                                                                                                                                                                                      | 0/10 [00:00<?, ?it/s]"
     ]
    },
    {
     "name": "stderr",
     "output_type": "stream",
     "text": [
      "\r",
      "100%|████████████████████████████████████████████████████████████████████████████████████████████████████████████████████████████████████████████████████████████████████████████████████████████████████████████████████████████| 10/10 [00:00<00:00, 121.59it/s]"
     ]
    },
    {
     "name": "stderr",
     "output_type": "stream",
     "text": [
      "\n"
     ]
    }
   ],
   "source": [
    "sub_preds = []\n",
    "for i in tqdm(range(repeat_cv)):\n",
    "    if spline == \"spline_normal\":\n",
    "        sub_preds.append(np.clip(spline_model[i](np.clip(sub_models[i].predict(dtest), -30, 30)), 0.025, 0.975))\n",
    "    \n",
    "    elif spline == \"logistic\":\n",
    "        X_input = np.clip(sub_models[i].predict(dtest), -30, 30).reshape(-1, 1)\n",
    "        platt_pred = spline_model[i].predict_proba(X_input)[:, 1]\n",
    "        sub_preds.append(np.clip(platt_pred, 0.025, 0.975))\n",
    "\n",
    "    elif spline == \"isotonic\":\n",
    "        X_input = np.clip(sub_models[i].predict(dtest), -30, 30).reshape(-1, 1)\n",
    "        iso_pred = spline_model[i].predict(X_input)  # Isotonic Regression の適用\n",
    "        sub_preds.append(np.clip(iso_pred, 0.025, 0.975))\n",
    "\n",
    "sub[\"Pred\"] = np.mean(np.vstack(sub_preds), axis=0)"
   ]
  },
  {
   "cell_type": "code",
   "execution_count": 33,
   "id": "88b14014",
   "metadata": {
    "execution": {
     "iopub.execute_input": "2025-03-18T06:40:35.164309Z",
     "iopub.status.busy": "2025-03-18T06:40:35.162906Z",
     "iopub.status.idle": "2025-03-18T06:40:35.178281Z",
     "shell.execute_reply": "2025-03-18T06:40:35.178281Z"
    },
    "papermill": {
     "duration": 0.063063,
     "end_time": "2025-03-18T06:40:35.182303",
     "exception": false,
     "start_time": "2025-03-18T06:40:35.119240",
     "status": "completed"
    },
    "tags": []
   },
   "outputs": [
    {
     "name": "stdout",
     "output_type": "stream",
     "text": [
      "skip data flip\n"
     ]
    }
   ],
   "source": [
    "# 予測時にテストデータID反転させて予測して平均取る\n",
    "# dtestの用意とsub_predsの算出を同じようにやる\n",
    "# sub[\"Pred\"]を反転させたやつとの平均取ったやつにする\n",
    "TEST_REVERSE = MODEL.test_reverse\n",
    "\n",
    "if TEST_REVERSE:\n",
    "    print(\"----- data flip -----\") \n",
    "    sub_reverse = notexist.copy()\n",
    "    sub_reverse = sub_reverse.rename(columns={\"WTeamID\": \"T2_TeamID\", \"LTeamID\": \"T1_TeamID\"})#reverse!!\n",
    "    temp_reverse = sub_reverse.copy()\n",
    "    temp = temp.rename(columns={\"T1_TeamID\": \"T2_TeamID\", \"T2_TeamID\": \"T1_TeamID\"})\n",
    "    sub_reverse = pd.concat([sub_reverse, temp_reverse]).reset_index()\n",
    "    sub_reverse_X, a = process_tourney(sub_reverse, mode=\"sub\")\n",
    "    sub_reverse_X = drop_columns(sub_reverse_X, drop_col)\n",
    "    dtest_reverse = xgb.DMatrix(sub_reverse_X)\n",
    "    \n",
    "    sub_preds_reverse = []\n",
    "    for i in tqdm(range(repeat_cv)):\n",
    "        if spline == \"spline_normal\":\n",
    "            sub_preds_reverse.append(np.clip(spline_model[i](np.clip(sub_models[i].predict(dtest_reverse), -30, 30)), 0.025, 0.975))\n",
    "        \n",
    "        elif spline == \"logistic\":\n",
    "            X_input = np.clip(sub_models[i].predict(dtest_reverse), -30, 30).reshape(-1, 1)\n",
    "            platt_pred = spline_model[i].predict_proba(X_input)[:, 1]\n",
    "            sub_preds_reverse.append(np.clip(platt_pred, 0.025, 0.975))\n",
    "\n",
    "        elif spline == \"isotonic\":\n",
    "            X_input = np.clip(sub_models[i].predict(dtest_reverse), -30, 30).reshape(-1, 1)\n",
    "            iso_pred = spline_model[i].predict(X_input)  # Isotonic Regression の適用\n",
    "            sub_preds_reverse.append(np.clip(iso_pred, 0.025, 0.975))\n",
    "\n",
    "    sub_reverse[\"Pred\"] = np.mean(np.vstack(sub_preds_reverse), axis=0)\n",
    "    \n",
    " \n",
    "    #sub[\"Pred\"]を (sub[\"Pred\"] + (1-sub_reverse[\"Pred\"]))/2に塗り替える(平均取る)\n",
    "    sub[\"Pred\"] = (sub[\"Pred\"] + (1-sub_reverse[\"Pred\"]))/2\n",
    "\n",
    "\n",
    "else:\n",
    "    print(\"skip data flip\")"
   ]
  },
  {
   "cell_type": "code",
   "execution_count": 34,
   "id": "1a51a342",
   "metadata": {
    "execution": {
     "iopub.execute_input": "2025-03-18T06:40:35.269458Z",
     "iopub.status.busy": "2025-03-18T06:40:35.269458Z",
     "iopub.status.idle": "2025-03-18T06:40:35.278868Z",
     "shell.execute_reply": "2025-03-18T06:40:35.278868Z"
    },
    "papermill": {
     "duration": 0.057304,
     "end_time": "2025-03-18T06:40:35.278868",
     "exception": false,
     "start_time": "2025-03-18T06:40:35.221564",
     "status": "completed"
    },
    "tags": []
   },
   "outputs": [],
   "source": [
    "# teams:64team, targetを受け取って、そのtarget teamの試合可能性のある全63試合を抽出する関数\n",
    "def extract_target_team_records(submission_df, teams, target_team):\n",
    "    if target_team not in teams:\n",
    "        raise ValueError(f\"target_team {target_team} は teams 内に存在しません\")\n",
    "\n",
    "    remaining_teams = [t for t in teams if t != target_team]\n",
    "    \n",
    "    records = []\n",
    "    for other_team in remaining_teams:\n",
    "        lower = min(target_team, other_team)\n",
    "        higher = max(target_team, other_team)\n",
    "        row = submission_df[(submission_df['T1_TeamID'] == lower) & (submission_df['T2_TeamID'] == higher)]\n",
    "        if row.empty:\n",
    "            print(f\"Warning: 対戦 {lower} vs {higher} に対応するレコードが見つかりませんでした\")\n",
    "        else:\n",
    "            records.append(row)\n",
    "    \n",
    "    if records:\n",
    "        final_records = pd.concat(records, ignore_index=True)\n",
    "    else:\n",
    "        final_records = pd.DataFrame()\n",
    "    \n",
    "    if len(final_records) != 63:\n",
    "        print(f\"Warning: 期待される63件ではなく、{len(final_records)}件のレコードが抽出されました。\")\n",
    "    \n",
    "    return final_records\n"
   ]
  },
  {
   "cell_type": "code",
   "execution_count": 35,
   "id": "e352b71e",
   "metadata": {
    "execution": {
     "iopub.execute_input": "2025-03-18T06:40:35.365399Z",
     "iopub.status.busy": "2025-03-18T06:40:35.365399Z",
     "iopub.status.idle": "2025-03-18T06:40:35.389113Z",
     "shell.execute_reply": "2025-03-18T06:40:35.389113Z"
    },
    "papermill": {
     "duration": 0.059462,
     "end_time": "2025-03-18T06:40:35.389113",
     "exception": false,
     "start_time": "2025-03-18T06:40:35.329651",
     "status": "completed"
    },
    "tags": []
   },
   "outputs": [],
   "source": [
    "tourney_teams_2023 = [\n",
    "    1395, 1113,   # TCU1395, アリゾナ・ステイト1113\n",
    "    1231, 1245,   # インディアナ1231, ケント・ステイト1245\n",
    "    1243, 1286,   # カンザス・ステイト1243, モンタナ・ステイト1286\n",
    "    1272, 1194,   # メンフィス1272, ﾌﾛﾘﾀﾞ･ｱﾄﾗﾝﾃｨｯｸ1194\n",
    "    1211, 1213,   # ゴンザガ1211, グランド・キャニオン1213\n",
    "    1274, 1179,   # マイアミ（フロリダ）1274, ドレイク1179\n",
    "    1243, 1286,   # ケンタッキー1243, プロビデンス1286\n",
    "    1345, 1192,   # パデュー1345, ﾌｪｱﾘｰ･ﾃﾞｨｷﾝｿﾝ1192\n",
    "    1163, 1233,   # コネチカット1163, アイオナ1233\n",
    "    1166, 1301,   # クレイトン1166, ﾉｰｽｶﾛﾗｲﾅ･ｽﾃｲﾄ1301\n",
    "    1235, 1338,   # アイオワ・ステイト1235, ピッツバーグ1338\n",
    "    1266, 1436,   # マーケット1266, バーモント1436\n",
    "    1388, 1433,   # ｾﾝﾄﾒｱﾘｰｽﾞ（ｶﾘﾌｫﾙﾆｱ）1388, VCU1433\n",
    "    1124, 1364,   # ベイラー1124, UCサンタバーバラ1364\n",
    "    1462, 1244,   # ザビエル1462, ケネソー・ステイト1244\n",
    "    1277, 1425,   # ミシガン・ステイト1277, USC トロージャンズ1425\n",
    "\n",
    "    1417, 1421,   # UCLA1417, UNC アシュビル1421\n",
    "    1401, 1336,   # テキサス A＆M1401, ﾍﾟﾝｼﾞﾙﾍﾞﾆｱ･ｽﾃｲﾄ1336\n",
    "    1397, 1418,   # テネシー1397, ﾙｲｼﾞｱﾅ･ﾗﾌｧｲｴｯﾄ1418\n",
    "    1222, 1297,   # ヒューストン1222, ノーザンケンタッキー1297\n",
    "    1321, 1129,   # ノースウェスタン1321, ボイシ・ステイト1129\n",
    "    1400, 1159,   # テキサス1400, コルゲート1159\n",
    "    1181, 1331,   # デューク1181, オーラル・ロバーツ1331\n",
    "    1234, 1120,   # アイオワ1234, オーバーン1120\n",
    "    1116, 1228,   # アーカンソー1116, イリノイ1228\n",
    "    1112, 1343,   # アリゾナ1112, プリンストン1343\n",
    "    1361, 1158,   # ｻﾝﾃﾞｴｺﾞ･ｽﾃｲﾄ1361, チャールストン1158\n",
    "    1104, 1394,   # アラバマ1104, テキサス A＆M CC1394\n",
    "    1242, 1224,   # カンザス1242, ハワード1224\n",
    "    1281, 1429,   # ミズーリ1281, ユタ・ステイト1429\n",
    "    1438, 1202,   # バージニア1438, ファーマン1202\n",
    "    1268, 1452    # メリーランド1268, ウェストバージニア1452\n",
    "]\n",
    "\n",
    "#Connecticut_vs = extract_target_team_records(sub, tourney_teams_2023, 1163 )"
   ]
  },
  {
   "cell_type": "code",
   "execution_count": 36,
   "id": "52654b55",
   "metadata": {
    "execution": {
     "iopub.execute_input": "2025-03-18T06:40:35.477539Z",
     "iopub.status.busy": "2025-03-18T06:40:35.461398Z",
     "iopub.status.idle": "2025-03-18T06:40:35.485365Z",
     "shell.execute_reply": "2025-03-18T06:40:35.485365Z"
    },
    "papermill": {
     "duration": 0.05616,
     "end_time": "2025-03-18T06:40:35.485365",
     "exception": false,
     "start_time": "2025-03-18T06:40:35.429205",
     "status": "completed"
    },
    "tags": []
   },
   "outputs": [],
   "source": [
    "#handlabelingを行う関数\n",
    "def make_handlabeling(df, season, T1, T2, labeling_pred, tourney_teams):\n",
    "    if T1 not in tourney_teams or T2 not in tourney_teams: \n",
    "        print(f\"トーナメント対象チームに属していません\")\n",
    "        return \n",
    "    \n",
    "    if T1>T2: \n",
    "        T1, T2 = T2, T1\n",
    "        print(f\"{T1}, {T2}ID逆だけど大丈夫？？\")\n",
    "    id = f\"{season}_{T1}_{T2}\"\n",
    "\n",
    "    print(f\"before: {df[df['ID']==id]}\")\n",
    "    df.loc[df[\"ID\"] == id, \"Pred\"] = labeling_pred\n",
    "    print(f\"after: {df[df['ID']==id]}\")\n",
    "    \n",
    "    results.append(f\"-----handolabeling-----\")\n",
    "    results.append(f\"before:  {df[df['ID']==id]} -----> after: {df[df['ID']==id]}\")\n",
    "    results.appedn(\"\")\n",
    "    return df"
   ]
  },
  {
   "cell_type": "code",
   "execution_count": 37,
   "id": "4e4e95a0",
   "metadata": {
    "execution": {
     "iopub.execute_input": "2025-03-18T06:40:35.576818Z",
     "iopub.status.busy": "2025-03-18T06:40:35.576818Z",
     "iopub.status.idle": "2025-03-18T06:40:35.599115Z",
     "shell.execute_reply": "2025-03-18T06:40:35.595773Z"
    },
    "papermill": {
     "duration": 0.060574,
     "end_time": "2025-03-18T06:40:35.602820",
     "exception": false,
     "start_time": "2025-03-18T06:40:35.542246",
     "status": "completed"
    },
    "tags": []
   },
   "outputs": [],
   "source": [
    "labeling = cfg.exp.hand_labeling\n",
    "if labeling is not None:\n",
    "    for i in range(len(labeling)):\n",
    "        T1 = labeling[i][0]\n",
    "        T2 = labeling[i][1]\n",
    "        labeling_pred = labeling[i][2]\n",
    "        \n",
    "        print(f\"{T1} vs {T2} result labeling {labeling_pred}\")\n",
    "        \n",
    "        sub = make_handlabeling(sub, PREDICT_YEAR, T1, T2, labeling_pred, tourney_teams_2023)"
   ]
  },
  {
   "cell_type": "code",
   "execution_count": 38,
   "id": "53c10588",
   "metadata": {
    "execution": {
     "iopub.execute_input": "2025-03-18T06:40:35.691727Z",
     "iopub.status.busy": "2025-03-18T06:40:35.691727Z",
     "iopub.status.idle": "2025-03-18T06:40:36.238151Z",
     "shell.execute_reply": "2025-03-18T06:40:36.238151Z"
    },
    "papermill": {
     "duration": 0.591414,
     "end_time": "2025-03-18T06:40:36.238151",
     "exception": false,
     "start_time": "2025-03-18T06:40:35.646737",
     "status": "completed"
    },
    "tags": []
   },
   "outputs": [
    {
     "name": "stdout",
     "output_type": "stream",
     "text": [
      "Tournament matchups only - Pred Mean: 0.4996640192005349\n"
     ]
    },
    {
     "data": {
      "image/png": "[encoded data removed]",
      "text/plain": [
       "<Figure size 640x480 with 1 Axes>"
      ]
     },
     "metadata": {},
     "output_type": "display_data"
    }
   ],
   "source": [
    "tourney_filtered = notexist[notexist[\"Season\"] == PREDICT_YEAR].copy()\n",
    "a = tourney_filtered.rename(columns={'WTeamID': 'T1_TeamID', 'LTeamID': 'T2_TeamID'})\n",
    "b = tourney_filtered.rename(columns={'WTeamID': 'T2_TeamID', 'LTeamID': 'T1_TeamID'})\n",
    "ab = pd.concat([a, b]).reset_index(drop=True) \n",
    "filtered_sub = sub.merge(ab[['Season', 'T1_TeamID', 'T2_TeamID']], \n",
    "                         on=['Season', 'T1_TeamID', 'T2_TeamID'], \n",
    "                         how='inner')\n",
    "\n",
    "filtered_sub[\"Pred\"].astype(int)\n",
    "pred_mean = filtered_sub[\"Pred\"].mean()\n",
    "print(\"Tournament matchups only - Pred Mean:\", pred_mean)\n",
    "\n",
    "filtered_sub[\"Pred\"].hist(bins=50)\n",
    "results+=[\"\", f\"Tournament matchups only - Pred Mean:, {pred_mean}\", \"\"]\n",
    "plt.figure(figsize=(8, 6))\n",
    "filtered_sub[\"Pred\"].hist(bins=50)\n",
    "plt.title(\"Prediction Histogram\")\n",
    "plt.xlabel(\"Pred\")\n",
    "plt.ylabel(\"Frequency\")\n",
    "plt.grid(True)\n",
    "\n",
    "# 画像として保存\n",
    "plt.savefig(os.path.join(OUTPUT_PATH, f\"Prediction_Histgram_filtered_{PREDICT_YEAR}.png\"))\n",
    "plt.close()"
   ]
  },
  {
   "cell_type": "markdown",
   "id": "5ee8f6ab",
   "metadata": {
    "papermill": {
     "duration": 0.059135,
     "end_time": "2025-03-18T06:40:36.361380",
     "exception": false,
     "start_time": "2025-03-18T06:40:36.302245",
     "status": "completed"
    },
    "tags": []
   },
   "source": [
    "# スコア算出、まとめ、\n",
    "ここまでで提出ファイル作成。ここからは過去年度のシミュレーションに対してBrier scoreやその他指標の算出"
   ]
  },
  {
   "cell_type": "code",
   "execution_count": 39,
   "id": "b0e3bf81",
   "metadata": {
    "execution": {
     "iopub.execute_input": "2025-03-18T06:40:36.448760Z",
     "iopub.status.busy": "2025-03-18T06:40:36.448760Z",
     "iopub.status.idle": "2025-03-18T06:40:37.051478Z",
     "shell.execute_reply": "2025-03-18T06:40:37.051478Z"
    },
    "papermill": {
     "duration": 0.645738,
     "end_time": "2025-03-18T06:40:37.051478",
     "exception": false,
     "start_time": "2025-03-18T06:40:36.405740",
     "status": "completed"
    },
    "tags": []
   },
   "outputs": [
    {
     "data": {
      "image/png": "[encoded data removed]",
      "text/plain": [
       "<Figure size 640x480 with 1 Axes>"
      ]
     },
     "metadata": {},
     "output_type": "display_data"
    }
   ],
   "source": [
    "sub[\"Pred\"].hist()\n",
    "results+=[\"\", f\"Pred mean: {sub['Pred'].mean()}\", \"\"]\n",
    "\n",
    "plt.figure(figsize=(8, 6))\n",
    "sub[\"Pred\"].hist(bins=50)\n",
    "plt.title(\"Prediction Histogram\")\n",
    "plt.xlabel(\"Pred\")\n",
    "plt.ylabel(\"Frequency\")\n",
    "plt.grid(True)\n",
    "\n",
    "# 画像として保存\n",
    "plt.savefig(os.path.join(OUTPUT_PATH, f\"Prediction_Histgram_{PREDICT_YEAR}.png\"))\n",
    "plt.close()"
   ]
  },
  {
   "cell_type": "markdown",
   "id": "3c721abc",
   "metadata": {
    "papermill": {
     "duration": 0.050608,
     "end_time": "2025-03-18T06:40:37.166384",
     "exception": false,
     "start_time": "2025-03-18T06:40:37.115776",
     "status": "completed"
    },
    "tags": []
   },
   "source": [
    "存在するはずのない予測年度のトーナメント結果をもとに(Pred, label)を取り出し、以下を行う。\n",
    "\n",
    "- 各評価指標の計算\n",
    "- キャリブレーション可視化\n",
    "- AUC可視化"
   ]
  },
  {
   "cell_type": "code",
   "execution_count": 40,
   "id": "0066acf6",
   "metadata": {
    "execution": {
     "iopub.execute_input": "2025-03-18T06:40:37.277130Z",
     "iopub.status.busy": "2025-03-18T06:40:37.277130Z",
     "iopub.status.idle": "2025-03-18T06:40:37.295752Z",
     "shell.execute_reply": "2025-03-18T06:40:37.295752Z"
    },
    "papermill": {
     "duration": 0.068291,
     "end_time": "2025-03-18T06:40:37.295752",
     "exception": false,
     "start_time": "2025-03-18T06:40:37.227461",
     "status": "completed"
    },
    "tags": []
   },
   "outputs": [],
   "source": [
    "def extract_labels_and_preds(sub, tourney):\n",
    "    \"\"\" 試合データから予測値 (Pred) と正解ラベル (label) を抽出する \"\"\"\n",
    "    label_data = tourney[[\"WTeamID\", \"LTeamID\", \"WScore\", \"LScore\"]]\n",
    "    label_data = label_data.rename(columns={\"WTeamID\": \"T1_TeamID\", \"LTeamID\": \"T2_TeamID\", \"WScore\": \"T1_Score\", \"LScore\": \"T2_Score\"})\n",
    "    temp = label_data.copy()\n",
    "    temp = temp.rename(columns={\"T1_TeamID\": \"T2_TeamID\", \"T2_TeamID\": \"T1_TeamID\", \"T1_Score\": \"T2_Score\", \"T2_Score\": \"T1_Score\"})\n",
    "    label_data = pd.concat([label_data, temp]).reset_index(drop=True)\n",
    "    \n",
    "    label_data = pd.merge(label_data, sub, on=[\"T1_TeamID\", \"T2_TeamID\"], how=\"left\")\n",
    "    label_data[\"label\"] = np.where(label_data[\"T1_Score\"] - label_data[\"T2_Score\"] > 0, 1, 0)\n",
    "    label_data = label_data.dropna(subset=[\"Pred\"])  # 欠損値を削除\n",
    "    \n",
    "    return label_data[[\"label\", \"Pred\"]]\n",
    "\n",
    "def calculate_metrics(label_data):\n",
    "    \"\"\" 各評価指標を計算 \"\"\"\n",
    "    brier_score = round(mean_squared_error(label_data[\"label\"], label_data[\"Pred\"]), 5)  # Brier Score (MSEと同じ)\n",
    "    rmse_score = round(mean_squared_error(label_data[\"label\"], label_data[\"Pred\"], squared=False), 5)  # RMSE\n",
    "    logloss_score = round(log_loss(label_data[\"label\"], label_data[\"Pred\"]), 5)  # Log Loss\n",
    "    mae_score = round(mean_absolute_error(label_data[\"label\"], label_data[\"Pred\"]), 5)  # MAE\n",
    "    \n",
    "    return {\n",
    "        \"Brier Score\": brier_score,\n",
    "        \"RMSE\": rmse_score,\n",
    "        \"Log Loss\": logloss_score,\n",
    "        \"MAE\": mae_score\n",
    "    }\n",
    "\n",
    "def plot_calibration_curve(label_data, n_bins=10):\n",
    "    \"\"\" キャリブレーションカーブをプロット \"\"\"\n",
    "    prob_true, prob_pred = calibration_curve(label_data[\"label\"], label_data[\"Pred\"], n_bins=n_bins)\n",
    "    \n",
    "    plt.figure(figsize=(6,6))\n",
    "    plt.plot(prob_pred, prob_true, marker=\"o\", label=\"Model Calibration\")\n",
    "    plt.plot([0, 1], [0, 1], linestyle=\"--\", label=\"Perfect Calibration\")\n",
    "    plt.xlabel(\"Predicted Probability\")\n",
    "    plt.ylabel(\"Actual Probability\")\n",
    "    plt.legend()\n",
    "    plt.title(\"Calibration Curve\")\n",
    "    plt.show()\n",
    "\n",
    "def calculate_auc_metrics(label_data):\n",
    "    global results\n",
    "    \"\"\" AUC-ROCとAUC-PRを計算 \"\"\"\n",
    "    auc_roc = roc_auc_score(label_data[\"label\"], label_data[\"Pred\"])\n",
    "    auc_pr = average_precision_score(label_data[\"label\"], label_data[\"Pred\"])\n",
    "    \n",
    "    print(f\"AUC-ROC: {auc_roc:.4f}\")\n",
    "    print(f\"AUC-PR: {auc_pr:.4f}\")\n",
    "    results += [\"---- AUC -----\", f\"AUC-ROC: {auc_roc:.4f}\", f\"AUC-PR: {auc_pr:.4f}\"]\n",
    "    "
   ]
  },
  {
   "cell_type": "code",
   "execution_count": 41,
   "id": "babb6d51",
   "metadata": {
    "execution": {
     "iopub.execute_input": "2025-03-18T06:40:37.419251Z",
     "iopub.status.busy": "2025-03-18T06:40:37.414763Z",
     "iopub.status.idle": "2025-03-18T06:40:37.663661Z",
     "shell.execute_reply": "2025-03-18T06:40:37.663661Z"
    },
    "papermill": {
     "duration": 0.312489,
     "end_time": "2025-03-18T06:40:37.663661",
     "exception": false,
     "start_time": "2025-03-18T06:40:37.351172",
     "status": "completed"
    },
    "tags": []
   },
   "outputs": [
    {
     "name": "stderr",
     "output_type": "stream",
     "text": [
      "C:\\Users\\81809\\anaconda3\\envs\\deep_learning_pytorch\\Lib\\site-packages\\sklearn\\metrics\\_regression.py:492: FutureWarning: 'squared' is deprecated in version 1.4 and will be removed in 1.6. To calculate the root mean squared error, use the function'root_mean_squared_error'.\n",
      "  warnings.warn(\n"
     ]
    },
    {
     "data": {
      "image/png": "[encoded data removed]",
      "text/plain": [
       "<Figure size 600x600 with 1 Axes>"
      ]
     },
     "metadata": {},
     "output_type": "display_data"
    },
    {
     "name": "stdout",
     "output_type": "stream",
     "text": [
      "AUC-ROC: 0.8551\n",
      "AUC-PR: 0.8663\n",
      "MAE: 0.31545\n",
      "\n",
      "---- AUC -----\n",
      "AUC-ROC: 0.8551\n",
      "AUC-PR: 0.8663\n"
     ]
    }
   ],
   "source": [
    "if PREDICT_YEAR == 2022:\n",
    "    notexist_MAN = notexist[notexist[\"WTeamID\"].astype(str).str.startswith(\"1\")]\n",
    "    notexist_WOMAN = notexist[notexist[\"WTeamID\"].astype(str).str.startswith(\"3\")]\n",
    "    label_data = extract_labels_and_preds(sub, notexist) ######\n",
    "else:\n",
    "    label_data = extract_labels_and_preds(sub, notexist)\n",
    "\n",
    "# 評価指標の計算\n",
    "score = calculate_metrics(label_data)\n",
    "results += [\"\",\"-----eval metrics-----\",\n",
    "            f\"Brier Score: {score['Brier Score']}\", \n",
    "            f\"RMSE: {score['RMSE']}\", \n",
    "            f\"Log Loss: {score['Log Loss']}\", \n",
    "            f\"MAE: {score['MAE']}\", \"\"]\n",
    "\n",
    "# キャリブレーションの確認\n",
    "plot_calibration_curve(label_data)\n",
    "\n",
    "# AUCの評価\n",
    "calculate_auc_metrics(label_data)\n",
    "\n",
    "for temp in range(-5, 0):\n",
    "    print(results[temp])"
   ]
  },
  {
   "cell_type": "code",
   "execution_count": 42,
   "id": "dc53995c",
   "metadata": {
    "execution": {
     "iopub.execute_input": "2025-03-18T06:40:37.782570Z",
     "iopub.status.busy": "2025-03-18T06:40:37.782570Z",
     "iopub.status.idle": "2025-03-18T06:40:37.795326Z",
     "shell.execute_reply": "2025-03-18T06:40:37.795326Z"
    },
    "papermill": {
     "duration": 0.085308,
     "end_time": "2025-03-18T06:40:37.795326",
     "exception": false,
     "start_time": "2025-03-18T06:40:37.710018",
     "status": "completed"
    },
    "tags": []
   },
   "outputs": [
    {
     "data": {
      "text/plain": [
       "'if PREDICT_YEAR!=2025:\\n    predict_year_label =notexist[[\"WTeamID\", \"LTeamID\", \"WScore\", \"LScore\"]].copy()\\n    predict_year_label.loc[:, \"Win\"] = np.where(predict_year_label[\"WScore\"] - predict_year_label[\"LScore\"] > 0, 1, 0)\\n    predict_year_label = predict_year_label[[\"WTeamID\", \"LTeamID\", \"Win\"]]\\n   \\n    predict_year_label.columns = [\"T1_TeamID\", \"T2_TeamID\", \"Win\"]\\n\\n    predict_year_label = pd.merge(predict_year_label, sub, on=[\"T1_TeamID\", \"T2_TeamID\"], how=\"left\")\\n    brier_score = np.mean((predict_year_label[\"Pred\"] - predict_year_label[\"Win\"])**2)\\n\\n    print(\"Brier Score:\", brier_score)\\n    results+=[f\"Brier Score: {brier_score}\", \"\"]\\n    predict_year_label.info()\\n'"
      ]
     },
     "execution_count": 42,
     "metadata": {},
     "output_type": "execute_result"
    }
   ],
   "source": [
    "\"\"\"if PREDICT_YEAR!=2025:\n",
    "    predict_year_label =notexist[[\"WTeamID\", \"LTeamID\", \"WScore\", \"LScore\"]].copy()\n",
    "    predict_year_label.loc[:, \"Win\"] = np.where(predict_year_label[\"WScore\"] - predict_year_label[\"LScore\"] > 0, 1, 0)\n",
    "    predict_year_label = predict_year_label[[\"WTeamID\", \"LTeamID\", \"Win\"]]\n",
    "   \n",
    "    predict_year_label.columns = [\"T1_TeamID\", \"T2_TeamID\", \"Win\"]\n",
    "\n",
    "    predict_year_label = pd.merge(predict_year_label, sub, on=[\"T1_TeamID\", \"T2_TeamID\"], how=\"left\")\n",
    "    brier_score = np.mean((predict_year_label[\"Pred\"] - predict_year_label[\"Win\"])**2)\n",
    "\n",
    "    print(\"Brier Score:\", brier_score)\n",
    "    results+=[f\"Brier Score: {brier_score}\", \"\"]\n",
    "    predict_year_label.info()\n",
    "\"\"\""
   ]
  },
  {
   "cell_type": "code",
   "execution_count": 43,
   "id": "310fee67",
   "metadata": {
    "execution": {
     "iopub.execute_input": "2025-03-18T06:40:37.917404Z",
     "iopub.status.busy": "2025-03-18T06:40:37.917404Z",
     "iopub.status.idle": "2025-03-18T06:40:37.924655Z",
     "shell.execute_reply": "2025-03-18T06:40:37.924655Z"
    },
    "papermill": {
     "duration": 0.070666,
     "end_time": "2025-03-18T06:40:37.924655",
     "exception": false,
     "start_time": "2025-03-18T06:40:37.853989",
     "status": "completed"
    },
    "tags": []
   },
   "outputs": [
    {
     "name": "stdout",
     "output_type": "stream",
     "text": [
      "実行時間： 877.0秒\n"
     ]
    }
   ],
   "source": [
    "END_TIME = time.time()\n",
    "ELAPSED_TIME = END_TIME - START_TIME\n",
    "print(f\"実行時間： {ELAPSED_TIME:.1f}秒\")\n",
    "results.append(f\"実行時間： {ELAPSED_TIME:.1f}秒\")\n",
    "\n",
    "with open(os.path.join(OUTPUT_PATH, \"result.txt\"), \"a\", encoding=\"utf-8\") as f:\n",
    "    for line in results:\n",
    "        f.write(line + \"\\n\")"
   ]
  },
  {
   "cell_type": "code",
   "execution_count": 44,
   "id": "e65b83fc",
   "metadata": {
    "execution": {
     "iopub.execute_input": "2025-03-18T06:40:38.012909Z",
     "iopub.status.busy": "2025-03-18T06:40:38.012909Z",
     "iopub.status.idle": "2025-03-18T06:40:38.027044Z",
     "shell.execute_reply": "2025-03-18T06:40:38.027044Z"
    },
    "papermill": {
     "duration": 0.063557,
     "end_time": "2025-03-18T06:40:38.028797",
     "exception": false,
     "start_time": "2025-03-18T06:40:37.965240",
     "status": "completed"
    },
    "tags": []
   },
   "outputs": [],
   "source": [
    "logger.remove()"
   ]
  }
 ],
 "metadata": {
  "kernelspec": {
   "display_name": "deep_learning_pytorch",
   "language": "python",
   "name": "python3"
  },
  "language_info": {
   "codemirror_mode": {
    "name": "ipython",
    "version": 3
   },
   "file_extension": ".py",
   "mimetype": "text/x-python",
   "name": "python",
   "nbconvert_exporter": "python",
   "pygments_lexer": "ipython3",
   "version": "3.11.9"
  },
  "papermill": {
   "default_parameters": {},
   "duration": 882.131606,
   "end_time": "2025-03-18T06:40:39.079310",
   "environment_variables": {},
   "exception": null,
   "input_path": "c:\\Users\\81809\\Documents\\ALL_CODE\\kaggle\\March Machine Learning Mania 2025\\notebook\\1stplace_solution_2023.ipynb",
   "output_path": "exp116_20250318_152556.ipynb",
   "parameters": {
    "EXP_NUM": "exp116"
   },
   "start_time": "2025-03-18T06:25:56.947704",
   "version": "2.6.0"
  }
 },
 "nbformat": 4,
 "nbformat_minor": 5
}