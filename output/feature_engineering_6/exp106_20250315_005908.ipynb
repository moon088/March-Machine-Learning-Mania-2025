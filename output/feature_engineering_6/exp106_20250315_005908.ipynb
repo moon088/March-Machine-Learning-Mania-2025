{
 "cells": [
  {
   "cell_type": "code",
   "execution_count": 1,
   "id": "fb01e466",
   "metadata": {
    "execution": {
     "iopub.execute_input": "2025-03-14T15:59:10.910782Z",
     "iopub.status.busy": "2025-03-14T15:59:10.910782Z",
     "iopub.status.idle": "2025-03-14T15:59:10.919207Z",
     "shell.execute_reply": "2025-03-14T15:59:10.919207Z"
    },
    "papermill": {
     "duration": 0.056353,
     "end_time": "2025-03-14T15:59:10.919207",
     "exception": false,
     "start_time": "2025-03-14T15:59:10.862854",
     "status": "completed"
    },
    "tags": [
     "parameters"
    ]
   },
   "outputs": [],
   "source": [
    "# Parameters\n",
    "EXP_NUM = \"default\""
   ]
  },
  {
   "cell_type": "code",
   "execution_count": 2,
   "id": "50ff3e48",
   "metadata": {
    "execution": {
     "iopub.execute_input": "2025-03-14T15:59:10.968491Z",
     "iopub.status.busy": "2025-03-14T15:59:10.968491Z",
     "iopub.status.idle": "2025-03-14T15:59:10.982100Z",
     "shell.execute_reply": "2025-03-14T15:59:10.982100Z"
    },
    "papermill": {
     "duration": 0.049694,
     "end_time": "2025-03-14T15:59:10.985384",
     "exception": false,
     "start_time": "2025-03-14T15:59:10.935690",
     "status": "completed"
    },
    "tags": [
     "injected-parameters"
    ]
   },
   "outputs": [],
   "source": [
    "# Parameters\n",
    "EXP_NUM = \"exp106\"\n"
   ]
  },
  {
   "cell_type": "markdown",
   "id": "906e1627",
   "metadata": {
    "papermill": {
     "duration": 0.017117,
     "end_time": "2025-03-14T15:59:11.025959",
     "exception": false,
     "start_time": "2025-03-14T15:59:11.008842",
     "status": "completed"
    },
    "tags": []
   },
   "source": [
    "# 2023 1st place solution\n",
    "[kaggle notebook](https://www.kaggle.com/code/rustyb/paris-madness-2023#Load-the-data!)"
   ]
  },
  {
   "cell_type": "markdown",
   "id": "70793803",
   "metadata": {
    "papermill": {
     "duration": 0.025997,
     "end_time": "2025-03-14T15:59:11.084682",
     "exception": false,
     "start_time": "2025-03-14T15:59:11.058685",
     "status": "completed"
    },
    "tags": []
   },
   "source": [
    "# コードの流れ\n",
    "1. hydraからハイパラ取得し、パスなどを設定\n",
    "\n",
    "    regular&tourney Detaile Result, Seedを使用し、tourneyを目的変数としてモデルを予測していく\n",
    "\n",
    "    regular_data->season_statistics->\n",
    "\n",
    "    以下の前処理をする\n",
    "\n",
    "2. データ２倍にかさまし\n",
    "3. regularに対して特徴量の追加\n",
    "    各チームごとに加えるもの\n",
    "   - EFFG: フィールドゴール成功率\n",
    "   - EFFG3: フィールドゴール3p成功率\n",
    "   - DARE: フィールドゴールにおける3P率\n",
    "   - \"win\"を目的変数とする(Team, Season)のロジスティック回帰した各係数\n",
    "    対戦カードごとに加える特徴量\n",
    "    - PointDiff: ポイント差\n",
    "    - win: 1 if PointDiff>0 else 0\n",
    "4. (Team, Season)ごとに特徴量season_statixtics追加\n",
    "    - win_ratio_14d\n",
    "    - box score mean\n",
    "    - quality\n",
    "    - seed\n",
    "5. season_average.enabled=trueなら直近３シーズンの加重平均の処理加える\n",
    "6. tourneyをteamID, Season, score(y)のみ取り出してこれに対してseason_statisticsの結合と特徴量微調整\n",
    "   - seed->seeddiff\n",
    "   - fillna()\n",
    "\n",
    "7. モデル構築\n",
    "8. KFOLD->OOF予測->spline曲線求めてlogloss算出\n",
    "    - KFOLDによる交差検証（CV）\n",
    "        repeat_cv 回のループで、各反復ごとにKFold（folds_splits個）によりデータを分割し、XGBoostのCVを実行しています。\n",
    "        各foldでの結果（例えば、訓練MAE、検証MAEの平均値や標準偏差）がcv_resultとして得られ、それをxgb_cvリストに格納します。\n",
    "        この段階で重要なのは、各反復での検証用MAEの平均値 (test-mae-mean) の最小値と、そのときのブーストラウンド数です。\n",
    "        それらは後で、最適なイテレーション数 (iteration_counts) として計算され、val_mae にも格納されます。\n",
    "    - OOF予測の流れ\n",
    "\n",
    "        各反復ごとに、新たなKFoldを用いてデータを分割。\n",
    "        各foldごとに、学習データでモデルを訓練し、検証データに対して予測を実施。\n",
    "        すべてのfold分の予測結果を1つの予測配列にまとめ、最後に -30～30 の範囲にクリップしています。\n",
    "        重要な結果\n",
    "\n",
    "        OOF予測結果（oof_preds）自体は後段で別途評価指標に使用できるほか、各反復ごとの予測精度や誤差を算出する際の基礎データ\n",
    "9.  提出フェーズ\n",
    "    - 最適paramで全データ使って訓練\n",
    "    - 提出試合の予測"
   ]
  },
  {
   "cell_type": "markdown",
   "id": "81257cb2",
   "metadata": {
    "papermill": {
     "duration": 0.012656,
     "end_time": "2025-03-14T15:59:11.119686",
     "exception": false,
     "start_time": "2025-03-14T15:59:11.107030",
     "status": "completed"
    },
    "tags": []
   },
   "source": [
    "memo\n",
    "\n",
    "欠損値が発生していいのか検討して保管について考える\n",
    "seedがかけているのはregularに対してseedを与えているから大丈夫。最終的なtourneyには欠損０で追加できているから問題ない"
   ]
  },
  {
   "cell_type": "code",
   "execution_count": 3,
   "id": "3e59f847",
   "metadata": {
    "execution": {
     "iopub.execute_input": "2025-03-14T15:59:11.173510Z",
     "iopub.status.busy": "2025-03-14T15:59:11.173510Z",
     "iopub.status.idle": "2025-03-14T15:59:14.872765Z",
     "shell.execute_reply": "2025-03-14T15:59:14.872765Z"
    },
    "papermill": {
     "duration": 3.724613,
     "end_time": "2025-03-14T15:59:14.872765",
     "exception": false,
     "start_time": "2025-03-14T15:59:11.148152",
     "status": "completed"
    },
    "tags": []
   },
   "outputs": [
    {
     "name": "stderr",
     "output_type": "stream",
     "text": [
      "C:\\Users\\81809\\anaconda3\\envs\\deep_learning_pytorch\\Lib\\site-packages\\tqdm\\auto.py:21: TqdmWarning: IProgress not found. Please update jupyter and ipywidgets. See https://ipywidgets.readthedocs.io/en/stable/user_install.html\n",
      "  from .autonotebook import tqdm as notebook_tqdm\n"
     ]
    },
    {
     "name": "stdout",
     "output_type": "stream",
     "text": [
      "exp106\n",
      "Omega conf is below\n",
      "dir:\n",
      "  input_dir: ../input\n",
      "  output_dir: ../output\n",
      "  src_path: ../src\n",
      "  conf_path: ../conf\n",
      "exp:\n",
      "  name: feature_engineering_6\n",
      "  print_name: delete FGA\n",
      "  tournament:\n",
      "    use_start_season: 1985\n",
      "    target_season: 2019\n",
      "  features:\n",
      "    cal_mean_boxscore:\n",
      "      T1_Score: true\n",
      "      T2_Score: true\n",
      "      PointDiff: true\n",
      "      T1_FGM: true\n",
      "      T2_FGM: true\n",
      "      T1_FGA: false\n",
      "      T2_FGA: false\n",
      "      T1_FGM3: false\n",
      "      T2_FGM3: false\n",
      "      T1_FGA3: false\n",
      "      T2_FGA3: false\n",
      "      T1_FTM: false\n",
      "      T2_FTM: false\n",
      "      T1_FTA: false\n",
      "      T2_FTA: false\n",
      "      T1_EFFG: false\n",
      "      T2_EFFG: false\n",
      "      T1_EFFG3: false\n",
      "      T2_EFFG3: false\n",
      "      T1_EFG_SUM: true\n",
      "      T2_EFG_SUM: true\n",
      "      T1_TO_RATIO: true\n",
      "      T2_TO_RATIO: true\n",
      "      T1_OR: true\n",
      "      T2_OR: true\n",
      "      T1_DR: true\n",
      "      T2_DR: true\n",
      "      T1_REB_RATE: true\n",
      "      T2_REB_RATE: true\n",
      "      T1_FT_RATE: true\n",
      "      T2_FT_RATE: true\n",
      "      T1_RATING: false\n",
      "      T2_RATING: false\n",
      "      T1_POSS_RATE: true\n",
      "      T2_POSS_RATE: true\n",
      "      T1_Ast: true\n",
      "      T2_Ast: true\n",
      "      T1_TO: true\n",
      "      T2_TO: true\n",
      "      T1_Stl: true\n",
      "      T2_Stl: true\n",
      "      T1_Blk: true\n",
      "      T2_Blk: true\n",
      "      T1_PF: true\n",
      "      T2_PF: true\n",
      "      T1_DARE: false\n",
      "      T2_DARE: false\n",
      "      T1_TOQUETOQUE: false\n",
      "      T2_TOQUETOQUE: false\n",
      "    rank_diff: true\n",
      "    start_quality_season: 2003\n",
      "    dropfeatures:\n",
      "    - T1_TOmean\n",
      "    - T2_TOmean\n",
      "    - T1_opponent_POSS_RATEmean\n",
      "    - T2_opponent_POSS_RATEmean\n",
      "    - T1_opponent_Astmean\n",
      "    - T2_opponent_Astmean\n",
      "    - T1_opponent_FT_RATEmean\n",
      "    - T2_opponent_FT_RATEmean\n",
      "    - T1_opponent_Stlmean\n",
      "    - T2_opponent_Stlmean\n",
      "    - T1_ORmean\n",
      "    - T2_ORmean\n",
      "    - T1_opponent_ORmean\n",
      "    - T2_opponent_ORmean\n",
      "    season_average:\n",
      "      enabled: false\n",
      "      past_years: 3\n",
      "      weights:\n",
      "      - 1\n",
      "      - 2\n",
      "      - 3\n",
      "    fillna:\n",
      "      quality: 'nan'\n",
      "  model:\n",
      "    repeat_cv: 10\n",
      "    optuna_enabled: false\n",
      "    test_reverse: false\n",
      "    xgb_model:\n",
      "      param:\n",
      "        eval_metric: rmse\n",
      "        booster: gbtree\n",
      "        eta: 0.02\n",
      "        subsample: 0.35\n",
      "        colsample_bytree: 0.7\n",
      "        num_parallel_tree: 10\n",
      "        min_child_weight: 40\n",
      "        gamma: 10\n",
      "        max_depth: 3\n",
      "      obj: cauchyoj\n",
      "      num_boost_round: 3000\n",
      "      folds_splits: 5\n",
      "      early_stopping_rounds: 25\n",
      "      optuna:\n",
      "        max_depth:\n",
      "        - 3\n",
      "        - 7\n",
      "        eta:\n",
      "        - 0.001\n",
      "        - 0.03\n",
      "        subsample:\n",
      "        - 0.2\n",
      "        - 0.5\n",
      "        colsample_bytree:\n",
      "        - 0.5\n",
      "        - 1.0\n",
      "        num_parallel_tree:\n",
      "        - 7\n",
      "        - 12\n",
      "        min_child_weight:\n",
      "        - 30\n",
      "        - 50\n",
      "        reg_alpha:\n",
      "        - 0.0\n",
      "        - 1.0\n",
      "        reg_lambda:\n",
      "        - 0.0\n",
      "        - 1.0\n",
      "        gamma:\n",
      "        - 0\n",
      "        - 10\n",
      "        n_trials: 1000\n",
      "        timeout: 28800\n",
      "        n_jobs: -1\n",
      "        n_warmup_steps: 3\n",
      "    spline: logistic\n",
      "  hand_labeling: null\n",
      "\n"
     ]
    }
   ],
   "source": [
    "\n",
    "import os\n",
    "import sys\n",
    "from pathlib import Path\n",
    "import collections\n",
    "from datetime import datetime\n",
    "import shutil\n",
    "import yaml\n",
    "from tqdm import tqdm\n",
    "import time\n",
    "import optuna\n",
    "from loguru import logger\n",
    "import collections\n",
    "\n",
    "from hydra import initialize, initialize_config_module, initialize_config_dir, compose\n",
    "from omegaconf import OmegaConf\n",
    "\n",
    "import numpy as np\n",
    "import pandas as pd\n",
    "import matplotlib.pyplot as plt\n",
    "import seaborn as sns\n",
    "from scipy.interpolate import UnivariateSpline\n",
    "\n",
    "import xgboost as xgb\n",
    "from xgboost import XGBRegressor\n",
    "from sklearn.model_selection import KFold\n",
    "from sklearn.calibration import calibration_curve\n",
    "from sklearn.metrics import log_loss,mean_squared_error, mean_absolute_error, roc_auc_score, average_precision_score\n",
    "from sklearn.metrics import make_scorer\n",
    "from sklearn.model_selection import cross_val_score, KFold\n",
    "from sklearn.linear_model import LogisticRegression\n",
    "from sklearn.preprocessing import OneHotEncoder\n",
    "from sklearn.isotonic import IsotonicRegression\n",
    "\n",
    "import statsmodels.api as sm\n",
    "\n",
    "START_TIME = time.time()\n",
    "\n",
    "\n",
    "#####\n",
    "#EXP_NUM = \"test\"\n",
    "#####\n",
    "print(EXP_NUM)\n",
    "\n",
    "# hydraの初期設定と指定ハイパラの取得\n",
    "sys.path.append(os.path.abspath(\"/workspace\"))\n",
    "sys.path.append(\"C:\\\\Users\\\\81809\\\\Documents\\\\ALL_CODE\\\\kaggle\\\\March Machine Learning Mania 2025\")\n",
    "with initialize_config_module(version_base=None, config_module=\"conf\"):\n",
    "    cfg = compose(\n",
    "        config_name=\"base.yaml\",\n",
    "        overrides=[\n",
    "            f\"+exp={EXP_NUM}\" #defaultexp001->exp002のオーバーライド\n",
    "        ],\n",
    "    )\n",
    "    \n",
    "    OmegaConf.resolve(cfg)\n",
    "    print(\"Omega conf is below\")\n",
    "    print(OmegaConf.to_yaml(cfg))\n"
   ]
  },
  {
   "cell_type": "code",
   "execution_count": 4,
   "id": "11d99770",
   "metadata": {
    "execution": {
     "iopub.execute_input": "2025-03-14T15:59:14.915221Z",
     "iopub.status.busy": "2025-03-14T15:59:14.914710Z",
     "iopub.status.idle": "2025-03-14T15:59:14.933901Z",
     "shell.execute_reply": "2025-03-14T15:59:14.933901Z"
    },
    "papermill": {
     "duration": 0.051356,
     "end_time": "2025-03-14T15:59:14.936939",
     "exception": false,
     "start_time": "2025-03-14T15:59:14.885583",
     "status": "completed"
    },
    "tags": []
   },
   "outputs": [
    {
     "name": "stdout",
     "output_type": "stream",
     "text": [
      "########\n",
      "output dir name: feature_engineering_6\n",
      "Run on 2025-03-15 00:59:14.915221\n",
      "delete FGA\n",
      "########\n"
     ]
    }
   ],
   "source": [
    "PREDICT_YEAR = cfg.exp.tournament.target_season\n",
    "name = f\"{cfg.exp.name}\"\n",
    "now = str(datetime.now())\n",
    "print(\"########\")\n",
    "print(f\"output dir name: {name}\")\n",
    "print(f\"Run on {now}\")\n",
    "print(cfg.exp.print_name)\n",
    "print(\"########\")\n",
    "\n",
    "BASE_DIR = os.path.abspath(os.path.join(os.getcwd(), \"..\"))\n",
    "CONF_PATH = os.path.join(BASE_DIR, \"conf\")\n",
    "INPUT_PATH = os.path.join(BASE_DIR, \"input\")\n",
    "EXP_PATH = os.path.join(CONF_PATH, \"exp\", f\"{EXP_NUM}.yaml\")\n",
    "OUTPUT_PATH = os.path.join(BASE_DIR, \"output\", name)\n",
    "SRC_PATH = cfg.dir.src_path\n",
    "sys.path.append(SRC_PATH)\n",
    "\n",
    "os.makedirs(OUTPUT_PATH, exist_ok=True)  \n",
    "with open(EXP_PATH, \"r\", encoding=\"utf-8\") as f:\n",
    "    config = yaml.safe_load(f)\n",
    "shutil.copyfile(EXP_PATH, os.path.join(OUTPUT_PATH, f\"{EXP_NUM}.yaml\"))\n",
    "\n",
    "\n",
    "y_season = cfg.exp.tournament.target_season\n",
    "FEATURES = cfg.exp.features\n",
    "MODEL = cfg.exp.model\n",
    "results = [\"\", f\"-----{PREDICT_YEAR}-----\", now ,name, cfg.exp.print_name,\"\"]"
   ]
  },
  {
   "cell_type": "code",
   "execution_count": 5,
   "id": "e02c38ce",
   "metadata": {
    "execution": {
     "iopub.execute_input": "2025-03-14T15:59:14.968136Z",
     "iopub.status.busy": "2025-03-14T15:59:14.968136Z",
     "iopub.status.idle": "2025-03-14T15:59:18.806611Z",
     "shell.execute_reply": "2025-03-14T15:59:18.806611Z"
    },
    "papermill": {
     "duration": 3.860125,
     "end_time": "2025-03-14T15:59:18.811721",
     "exception": false,
     "start_time": "2025-03-14T15:59:14.951596",
     "status": "completed"
    },
    "tags": []
   },
   "outputs": [],
   "source": [
    "tourney_results = pd.concat([\n",
    "    pd.read_csv(os.path.join(INPUT_PATH,\"MNCAATourneyDetailedResults.csv\")),\n",
    "    pd.read_csv(os.path.join(INPUT_PATH,\"WNCAATourneyDetailedResults.csv\")),\n",
    "], ignore_index=True)\n",
    "\n",
    "seeds = pd.concat([\n",
    "    pd.read_csv(os.path.join(INPUT_PATH,\"MNCAATourneySeeds.csv\")),\n",
    "    pd.read_csv(os.path.join(INPUT_PATH,\"WNCAATourneySeeds.csv\")),\n",
    "], ignore_index=True)\n",
    "\n",
    "regular_results = pd.concat([\n",
    "    pd.read_csv(os.path.join(INPUT_PATH, \"MRegularSeasonDetailedResults.csv\")),\n",
    "    pd.read_csv(os.path.join(INPUT_PATH,\"WRegularSeasonDetailedResults.csv\")),\n",
    "], ignore_index=True)\n",
    "\n",
    "ordinal_rank = pd.read_csv(os.path.join(INPUT_PATH, \"MMasseyOrdinals.csv\"))\n",
    "\n",
    "# 1試合情報からWin,Lose反転させてデータ数２倍にかさまし and WLoc -> location(0 or -1 or 1)\n",
    "def prepare_data(df1):\n",
    "    df = df1.copy()\n",
    "    ### add new box score\n",
    "    #type1: normal EFG\n",
    "    df['WEFFG'] = df['WFGM'] / df['WFGA']\n",
    "    df['LEFFG'] = df['LFGM'] / df['LFGA']\n",
    "    #type2: 1stfeature EFG\n",
    "    df['WEFFG3'] = np.where(df['WFGA3'] == 0, 0, df['WFGM3'] / df['WFGA3'])\n",
    "    df['LEFFG3'] = np.where(df['LFGA3'] == 0, 0, df['LFGM3'] / df['LFGA3'])\n",
    "    df['WDARE'] = df['WFGM3'] / df['WFGM']\n",
    "    df['LDARE'] = df['LFGM3'] / df['LFGM']\n",
    "    df['WTOQUETOQUE'] = df['WAst'] / df['WFGM']\n",
    "    df['LTOQUETOQUE'] = df['LAst'] / df['LFGM']\n",
    "    #type3: OFF/DEF FGE\n",
    "    df[\"WEFG_SUM\"] = (df[\"WFGM\"]+0.5*df[\"WFGM3\"])/df[\"WFGA\"]\n",
    "    df[\"LEFG_SUM\"] = (df[\"LFGM\"]+0.5*df[\"LFGM3\"])/df[\"LFGA\"]\n",
    "\n",
    "    #POSS RATE\n",
    "    df[\"WPOSS\"] = df[\"WFGA\"] + 0.44*df[\"WFTA\"] - df[\"WOR\"] + df[\"WTO\"]\n",
    "    df[\"LPOSS\"] = df[\"LFGA\"] + 0.44*df[\"LFTA\"] - df[\"LOR\"] + df[\"LTO\"]\n",
    "    df[\"WPOSS_RATE\"] = df[\"WPOSS\"]/(df[\"WPOSS\"]+df[\"LPOSS\"])\n",
    "    df[\"LPOSS_RATE\"] = df[\"LPOSS\"]/(df[\"WPOSS\"]+df[\"LPOSS\"])\n",
    "    \n",
    "    #TO Ratio \n",
    "    df[\"WTO_RATIO\"] = df[\"WTO\"]/(df[\"WFGA\"]+0.44*df[\"WFTA\"]+df[\"WTO\"])#POSS RATEと違ってOR入っていない\n",
    "    df[\"LTO_RATIO\"] = df[\"LTO\"]/(df[\"LFGA\"]+0.44*df[\"LFTA\"]+df[\"LTO\"])\n",
    "    \n",
    "    # REB%\n",
    "    df[\"WREB_RATE\"] = df[\"WOR\"]/(df[\"WOR\"]+df[\"LDR\"])\n",
    "    df[\"LREB_RATE\"] = df[\"LOR\"]/(df[\"LOR\"]+df[\"WDR\"])\n",
    "    \n",
    "    #FT %\n",
    "    df[\"WFT_RATE\"] = df[\"WFTA\"]/df[\"WFGA\"]\n",
    "    df[\"LFT_RATE\"] = df[\"LFTA\"]/df[\"LFGA\"]\n",
    "    \n",
    "    #rating\n",
    "    df[\"WRATING\"] = df[\"WScore\"]/df[\"WPOSS\"]\n",
    "    df[\"LRATING\"] = df[\"LScore\"]/df[\"LPOSS\"]\n",
    "        \n",
    "    #0除算補完\n",
    "    print(df.info())\n",
    "        \n",
    "    #かさましに伴う反転カラム\n",
    "    dfswap = df.copy()\n",
    "    # Home, Away変換して反転\n",
    "    dfswap.loc[df['WLoc'] == 'H', 'WLoc'] = 'A'\n",
    "    dfswap.loc[df['WLoc'] == 'A', 'WLoc'] = 'H'\n",
    "    df.columns.values[6] = 'location'\n",
    "    dfswap.columns.values[6] = 'location'    \n",
    "    #反転\n",
    "    df.columns = [x.replace('W','T1_').replace('L','T2_') for x in list(df.columns)]\n",
    "    dfswap.columns = [x.replace('L','T1_').replace('W','T2_') for x in list(dfswap.columns)]\n",
    "    output = pd.concat([df, dfswap]).reset_index(drop=True)\n",
    "    \n",
    "    \n",
    "    #add new feature\n",
    "    #locationを数値に変換\n",
    "    output.loc[output.location=='N','location'] = '0'\n",
    "    output.loc[output.location=='H','location'] = '1'\n",
    "    output.loc[output.location=='A','location'] = '-1'\n",
    "    output.location = output.location.astype(int)\n",
    "    \n",
    "    #add PointDiff&win\n",
    "    output['PointDiff'] = output['T1_Score'] - output['T2_Score']\n",
    "    output[\"win\"] = np.where(output['PointDiff']>0,1,0)\n",
    "    \n",
    "    \n",
    "    print(f\"feature cols after prepare()\")\n",
    "    print(output.columns)\n",
    "    return output\n",
    "\n"
   ]
  },
  {
   "cell_type": "code",
   "execution_count": 6,
   "id": "46b90099",
   "metadata": {
    "execution": {
     "iopub.execute_input": "2025-03-14T15:59:18.869563Z",
     "iopub.status.busy": "2025-03-14T15:59:18.869563Z",
     "iopub.status.idle": "2025-03-14T15:59:19.314584Z",
     "shell.execute_reply": "2025-03-14T15:59:19.313478Z"
    },
    "papermill": {
     "duration": 0.482175,
     "end_time": "2025-03-14T15:59:19.320423",
     "exception": false,
     "start_time": "2025-03-14T15:59:18.838248",
     "status": "completed"
    },
    "tags": []
   },
   "outputs": [
    {
     "name": "stdout",
     "output_type": "stream",
     "text": [
      "各カラムの異常値の個数を表示します。\n",
      "\n"
     ]
    }
   ],
   "source": [
    "import numpy as np\n",
    "\n",
    "# 異常値のチェック\n",
    "def check_abnormal_values(df):\n",
    "    print(\"各カラムの異常値の個数を表示します。\\n\")\n",
    "\n",
    "    for col in df.columns:\n",
    "        nan_count = df[col].isna().sum()  # NaN の数\n",
    "        inf_count = (df[col] == np.inf).sum()  # inf の数\n",
    "        neg_inf_count = (df[col] == -np.inf).sum()  # -inf の数\n",
    "\n",
    "        if nan_count > 0 or inf_count > 0 or neg_inf_count > 0:\n",
    "            print(f\"Column: {col}\")\n",
    "            print(f\"  NaN    : {nan_count}\")\n",
    "            print(f\"  Inf    : {inf_count}\")\n",
    "            print(f\"  -Inf   : {neg_inf_count}\")\n",
    "            print(\"-\" * 30)\n",
    "\n",
    "# 関数を実行\n",
    "check_abnormal_values(regular_results)\n"
   ]
  },
  {
   "cell_type": "code",
   "execution_count": 7,
   "id": "fe707a77",
   "metadata": {
    "execution": {
     "iopub.execute_input": "2025-03-14T15:59:19.372488Z",
     "iopub.status.busy": "2025-03-14T15:59:19.372488Z",
     "iopub.status.idle": "2025-03-14T15:59:20.514278Z",
     "shell.execute_reply": "2025-03-14T15:59:20.513770Z"
    },
    "papermill": {
     "duration": 1.177962,
     "end_time": "2025-03-14T15:59:20.521011",
     "exception": false,
     "start_time": "2025-03-14T15:59:19.343049",
     "status": "completed"
    },
    "tags": []
   },
   "outputs": [
    {
     "name": "stdout",
     "output_type": "stream",
     "text": [
      "<class 'pandas.core.frame.DataFrame'>\n",
      "Index: 139193 entries, 0 to 170137\n",
      "Data columns (total 56 columns):\n",
      " #   Column       Non-Null Count   Dtype  \n",
      "---  ------       --------------   -----  \n",
      " 0   Season       139193 non-null  int64  \n",
      " 1   DayNum       139193 non-null  int64  \n",
      " 2   WTeamID      139193 non-null  int64  \n",
      " 3   WScore       139193 non-null  int64  \n",
      " 4   LTeamID      139193 non-null  int64  \n",
      " 5   LScore       139193 non-null  int64  \n",
      " 6   WLoc         139193 non-null  object \n",
      " 7   NumOT        139193 non-null  int64  \n",
      " 8   WFGM         139193 non-null  int64  \n",
      " 9   WFGA         139193 non-null  int64  \n",
      " 10  WFGM3        139193 non-null  int64  \n",
      " 11  WFGA3        139193 non-null  int64  \n",
      " 12  WFTM         139193 non-null  int64  \n",
      " 13  WFTA         139193 non-null  int64  \n",
      " 14  WOR          139193 non-null  int64  \n",
      " 15  WDR          139193 non-null  int64  \n",
      " 16  WAst         139193 non-null  int64  \n",
      " 17  WTO          139193 non-null  int64  \n",
      " 18  WStl         139193 non-null  int64  \n",
      " 19  WBlk         139193 non-null  int64  \n",
      " 20  WPF          139193 non-null  int64  \n",
      " 21  LFGM         139193 non-null  int64  \n",
      " 22  LFGA         139193 non-null  int64  \n",
      " 23  LFGM3        139193 non-null  int64  \n",
      " 24  LFGA3        139193 non-null  int64  \n",
      " 25  LFTM         139193 non-null  int64  \n",
      " 26  LFTA         139193 non-null  int64  \n",
      " 27  LOR          139193 non-null  int64  \n",
      " 28  LDR          139193 non-null  int64  \n",
      " 29  LAst         139193 non-null  int64  \n",
      " 30  LTO          139193 non-null  int64  \n",
      " 31  LStl         139193 non-null  int64  \n",
      " 32  LBlk         139193 non-null  int64  \n",
      " 33  LPF          139193 non-null  int64  \n",
      " 34  WEFFG        139193 non-null  float64\n",
      " 35  LEFFG        139193 non-null  float64\n",
      " 36  WEFFG3       139193 non-null  float64\n",
      " 37  LEFFG3       139193 non-null  float64\n",
      " 38  WDARE        139193 non-null  float64\n",
      " 39  LDARE        139193 non-null  float64\n",
      " 40  WTOQUETOQUE  139193 non-null  float64\n",
      " 41  LTOQUETOQUE  139193 non-null  float64\n",
      " 42  WEFG_SUM     139193 non-null  float64\n",
      " 43  LEFG_SUM     139193 non-null  float64\n",
      " 44  WPOSS        139193 non-null  float64\n",
      " 45  LPOSS        139193 non-null  float64\n",
      " 46  WPOSS_RATE   139193 non-null  float64\n",
      " 47  LPOSS_RATE   139193 non-null  float64\n",
      " 48  WTO_RATIO    139193 non-null  float64\n",
      " 49  LTO_RATIO    139193 non-null  float64\n",
      " 50  WREB_RATE    139193 non-null  float64\n",
      " 51  LREB_RATE    139193 non-null  float64\n",
      " 52  WFT_RATE     139193 non-null  float64\n",
      " 53  LFT_RATE     139193 non-null  float64\n",
      " 54  WRATING      139193 non-null  float64\n",
      " 55  LRATING      139193 non-null  float64\n",
      "dtypes: float64(22), int64(33), object(1)\n",
      "memory usage: 60.5+ MB\n",
      "None\n"
     ]
    },
    {
     "name": "stdout",
     "output_type": "stream",
     "text": [
      "feature cols after prepare()\n",
      "Index(['Season', 'DayNum', 'T1_TeamID', 'T1_Score', 'T2_TeamID', 'T2_Score',\n",
      "       'location', 'NumOT', 'T1_FGM', 'T1_FGA', 'T1_FGM3', 'T1_FGA3', 'T1_FTM',\n",
      "       'T1_FTA', 'T1_OR', 'T1_DR', 'T1_Ast', 'T1_TO', 'T1_Stl', 'T1_Blk',\n",
      "       'T1_PF', 'T2_FGM', 'T2_FGA', 'T2_FGM3', 'T2_FGA3', 'T2_FTM', 'T2_FTA',\n",
      "       'T2_OR', 'T2_DR', 'T2_Ast', 'T2_TO', 'T2_Stl', 'T2_Blk', 'T2_PF',\n",
      "       'T1_EFFG', 'T2_EFFG', 'T1_EFFG3', 'T2_EFFG3', 'T1_DARE', 'T2_DARE',\n",
      "       'T1_TOQUETOQUE', 'T2_TOQUETOQUE', 'T1_EFG_SUM', 'T2_EFG_SUM', 'T1_POSS',\n",
      "       'T2_POSS', 'T1_POSS_RATE', 'T2_POSS_RATE', 'T1_TO_RATIO', 'T2_TO_RATIO',\n",
      "       'T1_REB_RATE', 'T2_REB_RATE', 'T1_FT_RATE', 'T2_FT_RATE', 'T1_RATING',\n",
      "       'T2_RATING', 'PointDiff', 'win'],\n",
      "      dtype='object')\n",
      "<class 'pandas.core.frame.DataFrame'>\n",
      "RangeIndex: 278386 entries, 0 to 278385\n",
      "Data columns (total 58 columns):\n",
      " #   Column         Non-Null Count   Dtype  \n",
      "---  ------         --------------   -----  \n",
      " 0   Season         278386 non-null  int64  \n",
      " 1   DayNum         278386 non-null  int64  \n",
      " 2   T1_TeamID      278386 non-null  int64  \n",
      " 3   T1_Score       278386 non-null  int64  \n",
      " 4   T2_TeamID      278386 non-null  int64  \n",
      " 5   T2_Score       278386 non-null  int64  \n",
      " 6   location       278386 non-null  int32  \n",
      " 7   NumOT          278386 non-null  int64  \n",
      " 8   T1_FGM         278386 non-null  int64  \n",
      " 9   T1_FGA         278386 non-null  int64  \n",
      " 10  T1_FGM3        278386 non-null  int64  \n",
      " 11  T1_FGA3        278386 non-null  int64  \n",
      " 12  T1_FTM         278386 non-null  int64  \n",
      " 13  T1_FTA         278386 non-null  int64  \n",
      " 14  T1_OR          278386 non-null  int64  \n",
      " 15  T1_DR          278386 non-null  int64  \n",
      " 16  T1_Ast         278386 non-null  int64  \n",
      " 17  T1_TO          278386 non-null  int64  \n",
      " 18  T1_Stl         278386 non-null  int64  \n",
      " 19  T1_Blk         278386 non-null  int64  \n",
      " 20  T1_PF          278386 non-null  int64  \n",
      " 21  T2_FGM         278386 non-null  int64  \n",
      " 22  T2_FGA         278386 non-null  int64  \n",
      " 23  T2_FGM3        278386 non-null  int64  \n",
      " 24  T2_FGA3        278386 non-null  int64  \n",
      " 25  T2_FTM         278386 non-null  int64  \n",
      " 26  T2_FTA         278386 non-null  int64  \n",
      " 27  T2_OR          278386 non-null  int64  \n",
      " 28  T2_DR          278386 non-null  int64  \n",
      " 29  T2_Ast         278386 non-null  int64  \n",
      " 30  T2_TO          278386 non-null  int64  \n",
      " 31  T2_Stl         278386 non-null  int64  \n",
      " 32  T2_Blk         278386 non-null  int64  \n",
      " 33  T2_PF          278386 non-null  int64  \n",
      " 34  T1_EFFG        278386 non-null  float64\n",
      " 35  T2_EFFG        278386 non-null  float64\n",
      " 36  T1_EFFG3       278386 non-null  float64\n",
      " 37  T2_EFFG3       278386 non-null  float64\n",
      " 38  T1_DARE        278386 non-null  float64\n",
      " 39  T2_DARE        278386 non-null  float64\n",
      " 40  T1_TOQUETOQUE  278386 non-null  float64\n",
      " 41  T2_TOQUETOQUE  278386 non-null  float64\n",
      " 42  T1_EFG_SUM     278386 non-null  float64\n",
      " 43  T2_EFG_SUM     278386 non-null  float64\n",
      " 44  T1_POSS        278386 non-null  float64\n",
      " 45  T2_POSS        278386 non-null  float64\n",
      " 46  T1_POSS_RATE   278386 non-null  float64\n",
      " 47  T2_POSS_RATE   278386 non-null  float64\n",
      " 48  T1_TO_RATIO    278386 non-null  float64\n",
      " 49  T2_TO_RATIO    278386 non-null  float64\n",
      " 50  T1_REB_RATE    278386 non-null  float64\n",
      " 51  T2_REB_RATE    278386 non-null  float64\n",
      " 52  T1_FT_RATE     278386 non-null  float64\n",
      " 53  T2_FT_RATE     278386 non-null  float64\n",
      " 54  T1_RATING      278386 non-null  float64\n",
      " 55  T2_RATING      278386 non-null  float64\n",
      " 56  PointDiff      278386 non-null  int64  \n",
      " 57  win            278386 non-null  int32  \n",
      "dtypes: float64(22), int32(2), int64(34)\n",
      "memory usage: 121.1 MB\n"
     ]
    },
    {
     "data": {
      "text/html": [
       "<div>\n",
       "<style scoped>\n",
       "    .dataframe tbody tr th:only-of-type {\n",
       "        vertical-align: middle;\n",
       "    }\n",
       "\n",
       "    .dataframe tbody tr th {\n",
       "        vertical-align: top;\n",
       "    }\n",
       "\n",
       "    .dataframe thead th {\n",
       "        text-align: right;\n",
       "    }\n",
       "</style>\n",
       "<table border=\"1\" class=\"dataframe\">\n",
       "  <thead>\n",
       "    <tr style=\"text-align: right;\">\n",
       "      <th></th>\n",
       "      <th>Season</th>\n",
       "      <th>DayNum</th>\n",
       "      <th>T1_TeamID</th>\n",
       "      <th>T1_Score</th>\n",
       "      <th>T2_TeamID</th>\n",
       "      <th>T2_Score</th>\n",
       "      <th>location</th>\n",
       "      <th>NumOT</th>\n",
       "      <th>T1_FGM</th>\n",
       "      <th>T1_FGA</th>\n",
       "      <th>...</th>\n",
       "      <th>T1_TO_RATIO</th>\n",
       "      <th>T2_TO_RATIO</th>\n",
       "      <th>T1_REB_RATE</th>\n",
       "      <th>T2_REB_RATE</th>\n",
       "      <th>T1_FT_RATE</th>\n",
       "      <th>T2_FT_RATE</th>\n",
       "      <th>T1_RATING</th>\n",
       "      <th>T2_RATING</th>\n",
       "      <th>PointDiff</th>\n",
       "      <th>win</th>\n",
       "    </tr>\n",
       "  </thead>\n",
       "  <tbody>\n",
       "    <tr>\n",
       "      <th>0</th>\n",
       "      <td>2003</td>\n",
       "      <td>10</td>\n",
       "      <td>1104</td>\n",
       "      <td>68</td>\n",
       "      <td>1328</td>\n",
       "      <td>62</td>\n",
       "      <td>0</td>\n",
       "      <td>0</td>\n",
       "      <td>27</td>\n",
       "      <td>58</td>\n",
       "      <td>...</td>\n",
       "      <td>0.258659</td>\n",
       "      <td>0.223104</td>\n",
       "      <td>0.388889</td>\n",
       "      <td>0.294118</td>\n",
       "      <td>0.310345</td>\n",
       "      <td>0.415094</td>\n",
       "      <td>0.907635</td>\n",
       "      <td>0.877193</td>\n",
       "      <td>6</td>\n",
       "      <td>1</td>\n",
       "    </tr>\n",
       "    <tr>\n",
       "      <th>1</th>\n",
       "      <td>2003</td>\n",
       "      <td>10</td>\n",
       "      <td>1272</td>\n",
       "      <td>70</td>\n",
       "      <td>1393</td>\n",
       "      <td>63</td>\n",
       "      <td>0</td>\n",
       "      <td>0</td>\n",
       "      <td>26</td>\n",
       "      <td>62</td>\n",
       "      <td>...</td>\n",
       "      <td>0.155950</td>\n",
       "      <td>0.136674</td>\n",
       "      <td>0.375000</td>\n",
       "      <td>0.416667</td>\n",
       "      <td>0.306452</td>\n",
       "      <td>0.298507</td>\n",
       "      <td>1.023991</td>\n",
       "      <td>0.929204</td>\n",
       "      <td>7</td>\n",
       "      <td>1</td>\n",
       "    </tr>\n",
       "    <tr>\n",
       "      <th>2</th>\n",
       "      <td>2003</td>\n",
       "      <td>11</td>\n",
       "      <td>1266</td>\n",
       "      <td>73</td>\n",
       "      <td>1437</td>\n",
       "      <td>61</td>\n",
       "      <td>0</td>\n",
       "      <td>0</td>\n",
       "      <td>24</td>\n",
       "      <td>58</td>\n",
       "      <td>...</td>\n",
       "      <td>0.123824</td>\n",
       "      <td>0.126156</td>\n",
       "      <td>0.435897</td>\n",
       "      <td>0.543860</td>\n",
       "      <td>0.500000</td>\n",
       "      <td>0.315068</td>\n",
       "      <td>1.144918</td>\n",
       "      <td>0.951341</td>\n",
       "      <td>12</td>\n",
       "      <td>1</td>\n",
       "    </tr>\n",
       "    <tr>\n",
       "      <th>3</th>\n",
       "      <td>2003</td>\n",
       "      <td>11</td>\n",
       "      <td>1296</td>\n",
       "      <td>56</td>\n",
       "      <td>1457</td>\n",
       "      <td>50</td>\n",
       "      <td>0</td>\n",
       "      <td>0</td>\n",
       "      <td>18</td>\n",
       "      <td>38</td>\n",
       "      <td>...</td>\n",
       "      <td>0.188561</td>\n",
       "      <td>0.254692</td>\n",
       "      <td>0.230769</td>\n",
       "      <td>0.472222</td>\n",
       "      <td>0.815789</td>\n",
       "      <td>0.306122</td>\n",
       "      <td>0.971548</td>\n",
       "      <td>0.868056</td>\n",
       "      <td>6</td>\n",
       "      <td>1</td>\n",
       "    </tr>\n",
       "    <tr>\n",
       "      <th>4</th>\n",
       "      <td>2003</td>\n",
       "      <td>11</td>\n",
       "      <td>1400</td>\n",
       "      <td>77</td>\n",
       "      <td>1208</td>\n",
       "      <td>71</td>\n",
       "      <td>0</td>\n",
       "      <td>0</td>\n",
       "      <td>30</td>\n",
       "      <td>61</td>\n",
       "      <td>...</td>\n",
       "      <td>0.173439</td>\n",
       "      <td>0.119218</td>\n",
       "      <td>0.531250</td>\n",
       "      <td>0.488372</td>\n",
       "      <td>0.213115</td>\n",
       "      <td>0.435484</td>\n",
       "      <td>1.208412</td>\n",
       "      <td>1.129135</td>\n",
       "      <td>6</td>\n",
       "      <td>1</td>\n",
       "    </tr>\n",
       "  </tbody>\n",
       "</table>\n",
       "<p>5 rows × 58 columns</p>\n",
       "</div>"
      ],
      "text/plain": [
       "   Season  DayNum  T1_TeamID  T1_Score  T2_TeamID  T2_Score  location  NumOT  \\\n",
       "0    2003      10       1104        68       1328        62         0      0   \n",
       "1    2003      10       1272        70       1393        63         0      0   \n",
       "2    2003      11       1266        73       1437        61         0      0   \n",
       "3    2003      11       1296        56       1457        50         0      0   \n",
       "4    2003      11       1400        77       1208        71         0      0   \n",
       "\n",
       "   T1_FGM  T1_FGA  ...  T1_TO_RATIO  T2_TO_RATIO  T1_REB_RATE  T2_REB_RATE  \\\n",
       "0      27      58  ...     0.258659     0.223104     0.388889     0.294118   \n",
       "1      26      62  ...     0.155950     0.136674     0.375000     0.416667   \n",
       "2      24      58  ...     0.123824     0.126156     0.435897     0.543860   \n",
       "3      18      38  ...     0.188561     0.254692     0.230769     0.472222   \n",
       "4      30      61  ...     0.173439     0.119218     0.531250     0.488372   \n",
       "\n",
       "   T1_FT_RATE  T2_FT_RATE  T1_RATING  T2_RATING  PointDiff  win  \n",
       "0    0.310345    0.415094   0.907635   0.877193          6    1  \n",
       "1    0.306452    0.298507   1.023991   0.929204          7    1  \n",
       "2    0.500000    0.315068   1.144918   0.951341         12    1  \n",
       "3    0.815789    0.306122   0.971548   0.868056          6    1  \n",
       "4    0.213115    0.435484   1.208412   1.129135          6    1  \n",
       "\n",
       "[5 rows x 58 columns]"
      ]
     },
     "metadata": {},
     "output_type": "display_data"
    },
    {
     "data": {
      "text/plain": [
       "None"
      ]
     },
     "metadata": {},
     "output_type": "display_data"
    }
   ],
   "source": [
    "#予測する年以降の情報はフィルタリング\n",
    "USE_START_YEAR = cfg.exp.tournament.use_start_season\n",
    "notexist = tourney_results[tourney_results[\"Season\"] == PREDICT_YEAR]\n",
    "tourney_results = tourney_results[(tourney_results[\"Season\"] >= USE_START_YEAR) & (tourney_results[\"Season\"] < PREDICT_YEAR)]\n",
    "seeds = seeds[(seeds[\"Season\"] >= USE_START_YEAR) & (seeds[\"Season\"] <= PREDICT_YEAR)]\n",
    "regular_results = regular_results[(regular_results[\"Season\"] >= USE_START_YEAR) & (regular_results[\"Season\"] <= PREDICT_YEAR)]\n",
    "\n",
    "regular_data = prepare_data(regular_results)\n",
    "display(regular_data.head(), regular_data.info())"
   ]
  },
  {
   "cell_type": "code",
   "execution_count": 8,
   "id": "4b32bab1",
   "metadata": {
    "execution": {
     "iopub.execute_input": "2025-03-14T15:59:20.579464Z",
     "iopub.status.busy": "2025-03-14T15:59:20.579464Z",
     "iopub.status.idle": "2025-03-14T15:59:20.643844Z",
     "shell.execute_reply": "2025-03-14T15:59:20.643844Z"
    },
    "papermill": {
     "duration": 0.100145,
     "end_time": "2025-03-14T15:59:20.646032",
     "exception": false,
     "start_time": "2025-03-14T15:59:20.545887",
     "status": "completed"
    },
    "tags": []
   },
   "outputs": [],
   "source": [
    "#使用特徴量(boxscore_cols)を取得してそれに対して(\"Season\", 'T1_TeamID')でまとめた特徴量の追加\n",
    "#### 1. win_ration_14d ####\n",
    "def add_win_ratio_14d(df):\n",
    "    df_filtered = df[df['DayNum'] > 118].copy()\n",
    "    df_filtered['Win'] = (df_filtered['PointDiff'] > 0).astype(int)\n",
    "    \n",
    "    win_ratio_t1 = df_filtered.groupby(['Season', 'T1_TeamID'])['Win'].mean().reset_index()\n",
    "    win_ratio_t1.rename(columns={'Win': 'T1_win_ratio_14d'}, inplace=True)\n",
    "    \n",
    "    win_ratio_t2 = df_filtered.groupby(['Season', 'T2_TeamID'])['Win'].mean().reset_index()\n",
    "    win_ratio_t2.rename(columns={'Win': 'T2_win_ratio_14d'}, inplace=True)\n",
    "    \n",
    "    df = df.merge(win_ratio_t1, on=['Season', 'T1_TeamID'], how='left')\n",
    "    df = df.merge(win_ratio_t2, on=['Season', 'T2_TeamID'], how='left')\n",
    "    \n",
    "    return df\n",
    "\n",
    "##### 2. add mean of boxscore ####\n",
    "def make_col_avg(df, boxscore, group = [\"Season\", \"T1_TeamID\"], func= [np.mean]):\n",
    "    df_stat = df.groupby(group)[boxscore].agg(func)\n",
    "    df_stat.columns = [''.join(col).strip() for col in df_stat.columns.values]\n",
    "    df_stat = df_stat.reset_index()\n",
    "\n",
    "    win_ratio_cols = ['T1_win_ratio_14d'] #ここマージの関係からT2_win_ratio_14dを外したけど大丈夫か考える\n",
    "    df_win_ratio = df[group + win_ratio_cols].drop_duplicates()\n",
    "    df_stat = df_stat.merge(df_win_ratio, on=group, how='left')\n",
    "    \n",
    "    return df_stat\n",
    "\n",
    "#### 3. add team quality ####\n",
    "# 3.0 ロジスティックを行うためのregular_season_effectsデータフレームの作成\n",
    "def make_regular_season_effects(df):\n",
    "    regular_season_effects = df[['Season', 'T1_TeamID', 'T2_TeamID', 'PointDiff']].copy()\n",
    "    regular_season_effects['win'] = np.where(regular_season_effects['PointDiff'] > 0, 1, 0)\n",
    "    return regular_season_effects\n",
    "\n",
    "# 3.1\n",
    "#各シーズンごとの総当たりに対するロジスティック回帰を行う\n",
    "#目的変数はfeatureenginneringから作成したPointDiffの正負に依存するWinとする.\n",
    "#新たな特徴量\"quarity\"をseasonごとの戦績をもとにロジスティックの回帰係数として導入している\n",
    "def team_quality(season,df):\n",
    "    season_data = df[df[\"Season\"] == season]\n",
    "    X = season_data[['T1_TeamID', 'T2_TeamID']]\n",
    "    y = season_data['win']\n",
    "    print(X.shape, y.shape)\n",
    "    encoder = OneHotEncoder(sparse_output=False) #多重共線性防止, 密行列指定\n",
    "    X_encoded = encoder.fit_transform(X)\n",
    "    \n",
    "    model = LogisticRegression(fit_intercept=False)\n",
    "    model.fit(X_encoded, y)\n",
    "    team_ids = encoder.get_feature_names_out(['T1_TeamID', 'T2_TeamID'])\n",
    "\n",
    "    \n",
    "    #quarity: (チーム数)*2(ID, 回帰係数)\n",
    "    quality = pd.DataFrame({\n",
    "        'TeamID': team_ids,\n",
    "        'quality': model.coef_.flatten() #T1_TeamID_1112,,,の形でチーム数分の回帰係数が入る\n",
    "    })\n",
    "\n",
    "    # 値をint 1112 のように整形\n",
    "    quality = quality[quality['TeamID'].str.contains('T1_TeamID')]\n",
    "    quality['TeamID'] = quality['TeamID'].str.replace('T1_TeamID_', '', regex=True).astype(int)\n",
    "    quality['Season'] = season\n",
    "\n",
    "    #display(quality.head())\n",
    "    print(f\"fin make {season}'s team quarity\")\n",
    "    return quality\n",
    "\n",
    "# 4. add seed\n",
    "def add_seed(df, seeds):\n",
    "    temp = seeds.copy()\n",
    "    temp['Seed'] = temp['Seed'].apply(lambda x: int(x[1:3]))\n",
    "    temp.columns = ['Season','T1_seed','T1_TeamID']\n",
    "    df = pd.merge(df, temp, on=[\"Season\", \"T1_TeamID\"], how=\"left\")\n",
    "    return df \n",
    "\n",
    "# 5. add Ordinal rank\n",
    "def add_ordinalrank(df, ordinal):\n",
    "    df_rank = ordinal.groupby([\"Season\", \"TeamID\"])[\"OrdinalRank\"].agg(np.mean).reset_index()\n",
    "    df_rank.head()\n",
    "    ranks = df_rank.rename(columns={'TeamID': 'T1_TeamID', 'OrdinalRank': 'T1_OrdinalRank'})\n",
    "    df = pd.merge(df,ranks,on = [\"Season\",\"T1_TeamID\"],how = \"left\")\n",
    "    return df\n",
    "\n",
    "# main \n",
    "def make_season_statistics(df, boxscore, seeds, func = [np.mean]):\n",
    "    # 1. Win Ratio の計算と追加\n",
    "    add_win = add_win_ratio_14d(df)\n",
    "    print(\"after add win ratio\")\n",
    "    print(add_win.columns)  \n",
    "    \n",
    "    #2. \n",
    "    add_mean = make_col_avg(add_win, boxscore)\n",
    "    print(\"after mean of boxscore\")\n",
    "    print(add_mean.columns)\n",
    "    \n",
    "    #3. \n",
    "    global PREDICT_YEAR, USE_START_YEAR\n",
    "    start_season = max(FEATURES.start_quality_season, USE_START_YEAR)\n",
    "    print(f\"use season for quality feature is: {start_season}\")\n",
    "    regular_season_effects = make_regular_season_effects(df)\n",
    "    glm_season = [i for i in range(start_season, PREDICT_YEAR+1)]\n",
    "\n",
    "    if 2020 in glm_season:\n",
    "        glm_season.remove(2020)\n",
    "    glm_quality = pd.concat([team_quality(season, regular_season_effects) for season in glm_season]).reset_index(drop=True)\n",
    "    # add glm quality \n",
    "    glm_quality_T1 = glm_quality.rename(columns={'TeamID': 'T1_TeamID', 'quality': 'T1_quality'})\n",
    "    add_glm = add_mean.merge(glm_quality_T1, on=['Season', 'T1_TeamID'], how='left')\n",
    "\n",
    "    print(\"add glm quality\")\n",
    "    print(add_glm.columns)\n",
    "    \n",
    "    #4. \n",
    "    add_seeds = add_seed(add_glm, seeds)\n",
    "    print(\"add seeds (final form)\")\n",
    "    print(add_seeds.columns)\n",
    "    \n",
    "    #5. \n",
    "    add_rank = add_ordinalrank(add_seeds, ordinal_rank)\n",
    "    print(\"add ordinal rank\")\n",
    "    print(add_rank.columns)  \n",
    "    return add_rank"
   ]
  },
  {
   "cell_type": "code",
   "execution_count": 9,
   "id": "71a7536a",
   "metadata": {
    "execution": {
     "iopub.execute_input": "2025-03-14T15:59:20.701568Z",
     "iopub.status.busy": "2025-03-14T15:59:20.701568Z",
     "iopub.status.idle": "2025-03-14T15:59:29.706244Z",
     "shell.execute_reply": "2025-03-14T15:59:29.706244Z"
    },
    "papermill": {
     "duration": 9.032156,
     "end_time": "2025-03-14T15:59:29.706244",
     "exception": false,
     "start_time": "2025-03-14T15:59:20.674088",
     "status": "completed"
    },
    "tags": []
   },
   "outputs": [
    {
     "name": "stdout",
     "output_type": "stream",
     "text": [
      "use boxscore col is\n",
      "['T1_Score', 'T2_Score', 'PointDiff', 'T1_FGM', 'T2_FGM', 'T1_EFG_SUM', 'T2_EFG_SUM', 'T1_TO_RATIO', 'T2_TO_RATIO', 'T1_OR', 'T2_OR', 'T1_DR', 'T2_DR', 'T1_REB_RATE', 'T2_REB_RATE', 'T1_FT_RATE', 'T2_FT_RATE', 'T1_POSS_RATE', 'T2_POSS_RATE', 'T1_Ast', 'T2_Ast', 'T1_TO', 'T2_TO', 'T1_Stl', 'T2_Stl', 'T1_Blk', 'T2_Blk', 'T1_PF', 'T2_PF']\n"
     ]
    },
    {
     "name": "stdout",
     "output_type": "stream",
     "text": [
      "after add win ratio\n",
      "Index(['Season', 'DayNum', 'T1_TeamID', 'T1_Score', 'T2_TeamID', 'T2_Score',\n",
      "       'location', 'NumOT', 'T1_FGM', 'T1_FGA', 'T1_FGM3', 'T1_FGA3', 'T1_FTM',\n",
      "       'T1_FTA', 'T1_OR', 'T1_DR', 'T1_Ast', 'T1_TO', 'T1_Stl', 'T1_Blk',\n",
      "       'T1_PF', 'T2_FGM', 'T2_FGA', 'T2_FGM3', 'T2_FGA3', 'T2_FTM', 'T2_FTA',\n",
      "       'T2_OR', 'T2_DR', 'T2_Ast', 'T2_TO', 'T2_Stl', 'T2_Blk', 'T2_PF',\n",
      "       'T1_EFFG', 'T2_EFFG', 'T1_EFFG3', 'T2_EFFG3', 'T1_DARE', 'T2_DARE',\n",
      "       'T1_TOQUETOQUE', 'T2_TOQUETOQUE', 'T1_EFG_SUM', 'T2_EFG_SUM', 'T1_POSS',\n",
      "       'T2_POSS', 'T1_POSS_RATE', 'T2_POSS_RATE', 'T1_TO_RATIO', 'T2_TO_RATIO',\n",
      "       'T1_REB_RATE', 'T2_REB_RATE', 'T1_FT_RATE', 'T2_FT_RATE', 'T1_RATING',\n",
      "       'T2_RATING', 'PointDiff', 'win', 'T1_win_ratio_14d',\n",
      "       'T2_win_ratio_14d'],\n",
      "      dtype='object')\n"
     ]
    },
    {
     "name": "stderr",
     "output_type": "stream",
     "text": [
      "C:\\Users\\81809\\AppData\\Local\\Temp\\ipykernel_14940\\386782032.py:20: FutureWarning: The provided callable <function mean at 0x0000023C94E665C0> is currently using SeriesGroupBy.mean. In a future version of pandas, the provided callable will be used directly. To keep current behavior pass the string \"mean\" instead.\n",
      "  df_stat = df.groupby(group)[boxscore].agg(func)\n"
     ]
    },
    {
     "name": "stdout",
     "output_type": "stream",
     "text": [
      "after mean of boxscore\n",
      "Index(['Season', 'T1_TeamID', 'T1_Scoremean', 'T2_Scoremean', 'PointDiffmean',\n",
      "       'T1_FGMmean', 'T2_FGMmean', 'T1_EFG_SUMmean', 'T2_EFG_SUMmean',\n",
      "       'T1_TO_RATIOmean', 'T2_TO_RATIOmean', 'T1_ORmean', 'T2_ORmean',\n",
      "       'T1_DRmean', 'T2_DRmean', 'T1_REB_RATEmean', 'T2_REB_RATEmean',\n",
      "       'T1_FT_RATEmean', 'T2_FT_RATEmean', 'T1_POSS_RATEmean',\n",
      "       'T2_POSS_RATEmean', 'T1_Astmean', 'T2_Astmean', 'T1_TOmean',\n",
      "       'T2_TOmean', 'T1_Stlmean', 'T2_Stlmean', 'T1_Blkmean', 'T2_Blkmean',\n",
      "       'T1_PFmean', 'T2_PFmean', 'T1_win_ratio_14d'],\n",
      "      dtype='object')\n",
      "use season for quality feature is: 2003\n",
      "(9232, 2) (9232,)\n",
      "fin make 2003's team quarity\n"
     ]
    },
    {
     "name": "stdout",
     "output_type": "stream",
     "text": [
      "(9142, 2) (9142,)\n",
      "fin make 2004's team quarity\n",
      "(9350, 2) (9350,)\n"
     ]
    },
    {
     "name": "stdout",
     "output_type": "stream",
     "text": [
      "fin make 2005's team quarity\n",
      "(9514, 2) (9514,)\n",
      "fin make 2006's team quarity\n",
      "(10086, 2) (10086,)\n"
     ]
    },
    {
     "name": "stdout",
     "output_type": "stream",
     "text": [
      "fin make 2007's team quarity\n",
      "(10326, 2) (10326,)\n",
      "fin make 2008's team quarity\n",
      "(10498, 2) (10498,)\n"
     ]
    },
    {
     "name": "stdout",
     "output_type": "stream",
     "text": [
      "fin make 2009's team quarity\n",
      "(20600, 2) (20600,)\n"
     ]
    },
    {
     "name": "stdout",
     "output_type": "stream",
     "text": [
      "fin make 2010's team quarity\n",
      "(20660, 2) (20660,)\n"
     ]
    },
    {
     "name": "stdout",
     "output_type": "stream",
     "text": [
      "fin make 2011's team quarity\n",
      "(20606, 2) (20606,)\n"
     ]
    },
    {
     "name": "stdout",
     "output_type": "stream",
     "text": [
      "fin make 2012's team quarity\n",
      "(21008, 2) (21008,)\n"
     ]
    },
    {
     "name": "stdout",
     "output_type": "stream",
     "text": [
      "fin make 2013's team quarity\n",
      "(21228, 2) (21228,)\n"
     ]
    },
    {
     "name": "stdout",
     "output_type": "stream",
     "text": [
      "fin make 2014's team quarity\n",
      "(21136, 2) (21136,)\n"
     ]
    },
    {
     "name": "stdout",
     "output_type": "stream",
     "text": [
      "fin make 2015's team quarity\n",
      "(21156, 2) (21156,)\n"
     ]
    },
    {
     "name": "stdout",
     "output_type": "stream",
     "text": [
      "fin make 2016's team quarity\n",
      "(21210, 2) (21210,)\n"
     ]
    },
    {
     "name": "stdout",
     "output_type": "stream",
     "text": [
      "fin make 2017's team quarity\n",
      "(21228, 2) (21228,)\n"
     ]
    },
    {
     "name": "stdout",
     "output_type": "stream",
     "text": [
      "fin make 2018's team quarity\n",
      "(21406, 2) (21406,)\n"
     ]
    },
    {
     "name": "stdout",
     "output_type": "stream",
     "text": [
      "fin make 2019's team quarity\n",
      "add glm quality\n",
      "Index(['Season', 'T1_TeamID', 'T1_Scoremean', 'T2_Scoremean', 'PointDiffmean',\n",
      "       'T1_FGMmean', 'T2_FGMmean', 'T1_EFG_SUMmean', 'T2_EFG_SUMmean',\n",
      "       'T1_TO_RATIOmean', 'T2_TO_RATIOmean', 'T1_ORmean', 'T2_ORmean',\n",
      "       'T1_DRmean', 'T2_DRmean', 'T1_REB_RATEmean', 'T2_REB_RATEmean',\n",
      "       'T1_FT_RATEmean', 'T2_FT_RATEmean', 'T1_POSS_RATEmean',\n",
      "       'T2_POSS_RATEmean', 'T1_Astmean', 'T2_Astmean', 'T1_TOmean',\n",
      "       'T2_TOmean', 'T1_Stlmean', 'T2_Stlmean', 'T1_Blkmean', 'T2_Blkmean',\n",
      "       'T1_PFmean', 'T2_PFmean', 'T1_win_ratio_14d', 'T1_quality'],\n",
      "      dtype='object')\n",
      "add seeds (final form)\n",
      "Index(['Season', 'T1_TeamID', 'T1_Scoremean', 'T2_Scoremean', 'PointDiffmean',\n",
      "       'T1_FGMmean', 'T2_FGMmean', 'T1_EFG_SUMmean', 'T2_EFG_SUMmean',\n",
      "       'T1_TO_RATIOmean', 'T2_TO_RATIOmean', 'T1_ORmean', 'T2_ORmean',\n",
      "       'T1_DRmean', 'T2_DRmean', 'T1_REB_RATEmean', 'T2_REB_RATEmean',\n",
      "       'T1_FT_RATEmean', 'T2_FT_RATEmean', 'T1_POSS_RATEmean',\n",
      "       'T2_POSS_RATEmean', 'T1_Astmean', 'T2_Astmean', 'T1_TOmean',\n",
      "       'T2_TOmean', 'T1_Stlmean', 'T2_Stlmean', 'T1_Blkmean', 'T2_Blkmean',\n",
      "       'T1_PFmean', 'T2_PFmean', 'T1_win_ratio_14d', 'T1_quality', 'T1_seed'],\n",
      "      dtype='object')\n"
     ]
    },
    {
     "name": "stderr",
     "output_type": "stream",
     "text": [
      "C:\\Users\\81809\\AppData\\Local\\Temp\\ipykernel_14940\\386782032.py:79: FutureWarning: The provided callable <function mean at 0x0000023C94E665C0> is currently using SeriesGroupBy.mean. In a future version of pandas, the provided callable will be used directly. To keep current behavior pass the string \"mean\" instead.\n",
      "  df_rank = ordinal.groupby([\"Season\", \"TeamID\"])[\"OrdinalRank\"].agg(np.mean).reset_index()\n"
     ]
    },
    {
     "name": "stdout",
     "output_type": "stream",
     "text": [
      "add ordinal rank\n",
      "Index(['Season', 'T1_TeamID', 'T1_Scoremean', 'T2_Scoremean', 'PointDiffmean',\n",
      "       'T1_FGMmean', 'T2_FGMmean', 'T1_EFG_SUMmean', 'T2_EFG_SUMmean',\n",
      "       'T1_TO_RATIOmean', 'T2_TO_RATIOmean', 'T1_ORmean', 'T2_ORmean',\n",
      "       'T1_DRmean', 'T2_DRmean', 'T1_REB_RATEmean', 'T2_REB_RATEmean',\n",
      "       'T1_FT_RATEmean', 'T2_FT_RATEmean', 'T1_POSS_RATEmean',\n",
      "       'T2_POSS_RATEmean', 'T1_Astmean', 'T2_Astmean', 'T1_TOmean',\n",
      "       'T2_TOmean', 'T1_Stlmean', 'T2_Stlmean', 'T1_Blkmean', 'T2_Blkmean',\n",
      "       'T1_PFmean', 'T2_PFmean', 'T1_win_ratio_14d', 'T1_quality', 'T1_seed',\n",
      "       'T1_OrdinalRank'],\n",
      "      dtype='object')\n"
     ]
    },
    {
     "data": {
      "text/html": [
       "<div>\n",
       "<style scoped>\n",
       "    .dataframe tbody tr th:only-of-type {\n",
       "        vertical-align: middle;\n",
       "    }\n",
       "\n",
       "    .dataframe tbody tr th {\n",
       "        vertical-align: top;\n",
       "    }\n",
       "\n",
       "    .dataframe thead th {\n",
       "        text-align: right;\n",
       "    }\n",
       "</style>\n",
       "<table border=\"1\" class=\"dataframe\">\n",
       "  <thead>\n",
       "    <tr style=\"text-align: right;\">\n",
       "      <th></th>\n",
       "      <th>Season</th>\n",
       "      <th>T1_TeamID</th>\n",
       "      <th>T1_Scoremean</th>\n",
       "      <th>T2_Scoremean</th>\n",
       "      <th>PointDiffmean</th>\n",
       "      <th>T1_FGMmean</th>\n",
       "      <th>T2_FGMmean</th>\n",
       "      <th>T1_EFG_SUMmean</th>\n",
       "      <th>T2_EFG_SUMmean</th>\n",
       "      <th>T1_TO_RATIOmean</th>\n",
       "      <th>...</th>\n",
       "      <th>T1_Stlmean</th>\n",
       "      <th>T2_Stlmean</th>\n",
       "      <th>T1_Blkmean</th>\n",
       "      <th>T2_Blkmean</th>\n",
       "      <th>T1_PFmean</th>\n",
       "      <th>T2_PFmean</th>\n",
       "      <th>T1_win_ratio_14d</th>\n",
       "      <th>T1_quality</th>\n",
       "      <th>T1_seed</th>\n",
       "      <th>T1_OrdinalRank</th>\n",
       "    </tr>\n",
       "  </thead>\n",
       "  <tbody>\n",
       "    <tr>\n",
       "      <th>9298</th>\n",
       "      <td>2019</td>\n",
       "      <td>3462</td>\n",
       "      <td>60.862069</td>\n",
       "      <td>66.482759</td>\n",
       "      <td>-5.620690</td>\n",
       "      <td>21.896552</td>\n",
       "      <td>24.448276</td>\n",
       "      <td>0.448019</td>\n",
       "      <td>0.466845</td>\n",
       "      <td>0.183177</td>\n",
       "      <td>...</td>\n",
       "      <td>7.586207</td>\n",
       "      <td>7.758621</td>\n",
       "      <td>2.586207</td>\n",
       "      <td>3.172414</td>\n",
       "      <td>15.241379</td>\n",
       "      <td>15.172414</td>\n",
       "      <td>0.0</td>\n",
       "      <td>-0.296941</td>\n",
       "      <td>NaN</td>\n",
       "      <td>NaN</td>\n",
       "    </tr>\n",
       "    <tr>\n",
       "      <th>9299</th>\n",
       "      <td>2019</td>\n",
       "      <td>3463</td>\n",
       "      <td>63.344828</td>\n",
       "      <td>61.551724</td>\n",
       "      <td>1.793103</td>\n",
       "      <td>23.724138</td>\n",
       "      <td>21.965517</td>\n",
       "      <td>0.438814</td>\n",
       "      <td>0.412859</td>\n",
       "      <td>0.186032</td>\n",
       "      <td>...</td>\n",
       "      <td>5.172414</td>\n",
       "      <td>8.344828</td>\n",
       "      <td>3.586207</td>\n",
       "      <td>2.517241</td>\n",
       "      <td>16.448276</td>\n",
       "      <td>17.551724</td>\n",
       "      <td>0.0</td>\n",
       "      <td>0.134368</td>\n",
       "      <td>NaN</td>\n",
       "      <td>NaN</td>\n",
       "    </tr>\n",
       "    <tr>\n",
       "      <th>9300</th>\n",
       "      <td>2019</td>\n",
       "      <td>3464</td>\n",
       "      <td>68.137931</td>\n",
       "      <td>58.000000</td>\n",
       "      <td>10.137931</td>\n",
       "      <td>23.241379</td>\n",
       "      <td>21.862069</td>\n",
       "      <td>0.494845</td>\n",
       "      <td>0.420867</td>\n",
       "      <td>0.181827</td>\n",
       "      <td>...</td>\n",
       "      <td>4.344828</td>\n",
       "      <td>7.448276</td>\n",
       "      <td>3.482759</td>\n",
       "      <td>3.482759</td>\n",
       "      <td>13.862069</td>\n",
       "      <td>17.896552</td>\n",
       "      <td>0.5</td>\n",
       "      <td>0.638405</td>\n",
       "      <td>NaN</td>\n",
       "      <td>NaN</td>\n",
       "    </tr>\n",
       "    <tr>\n",
       "      <th>9301</th>\n",
       "      <td>2019</td>\n",
       "      <td>3465</td>\n",
       "      <td>76.200000</td>\n",
       "      <td>69.840000</td>\n",
       "      <td>6.360000</td>\n",
       "      <td>28.560000</td>\n",
       "      <td>26.600000</td>\n",
       "      <td>0.493625</td>\n",
       "      <td>0.426567</td>\n",
       "      <td>0.179404</td>\n",
       "      <td>...</td>\n",
       "      <td>7.280000</td>\n",
       "      <td>7.920000</td>\n",
       "      <td>3.160000</td>\n",
       "      <td>3.160000</td>\n",
       "      <td>15.520000</td>\n",
       "      <td>15.440000</td>\n",
       "      <td>0.5</td>\n",
       "      <td>-0.182555</td>\n",
       "      <td>NaN</td>\n",
       "      <td>NaN</td>\n",
       "    </tr>\n",
       "    <tr>\n",
       "      <th>9302</th>\n",
       "      <td>2019</td>\n",
       "      <td>3466</td>\n",
       "      <td>69.521739</td>\n",
       "      <td>63.217391</td>\n",
       "      <td>6.304348</td>\n",
       "      <td>24.869565</td>\n",
       "      <td>23.913043</td>\n",
       "      <td>0.478102</td>\n",
       "      <td>0.449836</td>\n",
       "      <td>0.211154</td>\n",
       "      <td>...</td>\n",
       "      <td>8.478261</td>\n",
       "      <td>8.478261</td>\n",
       "      <td>3.695652</td>\n",
       "      <td>3.217391</td>\n",
       "      <td>17.478261</td>\n",
       "      <td>19.173913</td>\n",
       "      <td>0.0</td>\n",
       "      <td>0.107970</td>\n",
       "      <td>NaN</td>\n",
       "      <td>NaN</td>\n",
       "    </tr>\n",
       "  </tbody>\n",
       "</table>\n",
       "<p>5 rows × 35 columns</p>\n",
       "</div>"
      ],
      "text/plain": [
       "      Season  T1_TeamID  T1_Scoremean  T2_Scoremean  PointDiffmean  \\\n",
       "9298    2019       3462     60.862069     66.482759      -5.620690   \n",
       "9299    2019       3463     63.344828     61.551724       1.793103   \n",
       "9300    2019       3464     68.137931     58.000000      10.137931   \n",
       "9301    2019       3465     76.200000     69.840000       6.360000   \n",
       "9302    2019       3466     69.521739     63.217391       6.304348   \n",
       "\n",
       "      T1_FGMmean  T2_FGMmean  T1_EFG_SUMmean  T2_EFG_SUMmean  T1_TO_RATIOmean  \\\n",
       "9298   21.896552   24.448276        0.448019        0.466845         0.183177   \n",
       "9299   23.724138   21.965517        0.438814        0.412859         0.186032   \n",
       "9300   23.241379   21.862069        0.494845        0.420867         0.181827   \n",
       "9301   28.560000   26.600000        0.493625        0.426567         0.179404   \n",
       "9302   24.869565   23.913043        0.478102        0.449836         0.211154   \n",
       "\n",
       "      ...  T1_Stlmean  T2_Stlmean  T1_Blkmean  T2_Blkmean  T1_PFmean  \\\n",
       "9298  ...    7.586207    7.758621    2.586207    3.172414  15.241379   \n",
       "9299  ...    5.172414    8.344828    3.586207    2.517241  16.448276   \n",
       "9300  ...    4.344828    7.448276    3.482759    3.482759  13.862069   \n",
       "9301  ...    7.280000    7.920000    3.160000    3.160000  15.520000   \n",
       "9302  ...    8.478261    8.478261    3.695652    3.217391  17.478261   \n",
       "\n",
       "      T2_PFmean  T1_win_ratio_14d  T1_quality  T1_seed  T1_OrdinalRank  \n",
       "9298  15.172414               0.0   -0.296941      NaN             NaN  \n",
       "9299  17.551724               0.0    0.134368      NaN             NaN  \n",
       "9300  17.896552               0.5    0.638405      NaN             NaN  \n",
       "9301  15.440000               0.5   -0.182555      NaN             NaN  \n",
       "9302  19.173913               0.0    0.107970      NaN             NaN  \n",
       "\n",
       "[5 rows x 35 columns]"
      ]
     },
     "execution_count": 9,
     "metadata": {},
     "output_type": "execute_result"
    }
   ],
   "source": [
    "features = FEATURES.cal_mean_boxscore\n",
    "boxscore_cols = [col for col, use in features.items() if use]\n",
    "print(\"use boxscore col is\")\n",
    "print(boxscore_cols)\n",
    "\n",
    "season_statistics = make_season_statistics(regular_data, boxscore_cols, seeds, func = [np.mean])\n",
    "season_statistics.tail()"
   ]
  },
  {
   "cell_type": "code",
   "execution_count": 10,
   "id": "07808b9b",
   "metadata": {
    "execution": {
     "iopub.execute_input": "2025-03-14T15:59:29.773182Z",
     "iopub.status.busy": "2025-03-14T15:59:29.772670Z",
     "iopub.status.idle": "2025-03-14T15:59:29.793444Z",
     "shell.execute_reply": "2025-03-14T15:59:29.793444Z"
    },
    "papermill": {
     "duration": 0.06223,
     "end_time": "2025-03-14T15:59:29.793444",
     "exception": false,
     "start_time": "2025-03-14T15:59:29.731214",
     "status": "completed"
    },
    "tags": []
   },
   "outputs": [
    {
     "name": "stdout",
     "output_type": "stream",
     "text": [
      "<class 'pandas.core.frame.DataFrame'>\n",
      "RangeIndex: 9303 entries, 0 to 9302\n",
      "Data columns (total 35 columns):\n",
      " #   Column            Non-Null Count  Dtype  \n",
      "---  ------            --------------  -----  \n",
      " 0   Season            9303 non-null   int64  \n",
      " 1   T1_TeamID         9303 non-null   int64  \n",
      " 2   T1_Scoremean      9303 non-null   float64\n",
      " 3   T2_Scoremean      9303 non-null   float64\n",
      " 4   PointDiffmean     9303 non-null   float64\n",
      " 5   T1_FGMmean        9303 non-null   float64\n",
      " 6   T2_FGMmean        9303 non-null   float64\n",
      " 7   T1_EFG_SUMmean    9303 non-null   float64\n",
      " 8   T2_EFG_SUMmean    9303 non-null   float64\n",
      " 9   T1_TO_RATIOmean   9303 non-null   float64\n",
      " 10  T2_TO_RATIOmean   9303 non-null   float64\n",
      " 11  T1_ORmean         9303 non-null   float64\n",
      " 12  T2_ORmean         9303 non-null   float64\n",
      " 13  T1_DRmean         9303 non-null   float64\n",
      " 14  T2_DRmean         9303 non-null   float64\n",
      " 15  T1_REB_RATEmean   9303 non-null   float64\n",
      " 16  T2_REB_RATEmean   9303 non-null   float64\n",
      " 17  T1_FT_RATEmean    9303 non-null   float64\n",
      " 18  T2_FT_RATEmean    9303 non-null   float64\n",
      " 19  T1_POSS_RATEmean  9303 non-null   float64\n",
      " 20  T2_POSS_RATEmean  9303 non-null   float64\n",
      " 21  T1_Astmean        9303 non-null   float64\n",
      " 22  T2_Astmean        9303 non-null   float64\n",
      " 23  T1_TOmean         9303 non-null   float64\n",
      " 24  T2_TOmean         9303 non-null   float64\n",
      " 25  T1_Stlmean        9303 non-null   float64\n",
      " 26  T2_Stlmean        9303 non-null   float64\n",
      " 27  T1_Blkmean        9303 non-null   float64\n",
      " 28  T2_Blkmean        9303 non-null   float64\n",
      " 29  T1_PFmean         9303 non-null   float64\n",
      " 30  T2_PFmean         9303 non-null   float64\n",
      " 31  T1_win_ratio_14d  9000 non-null   float64\n",
      " 32  T1_quality        9303 non-null   float64\n",
      " 33  T1_seed           1772 non-null   float64\n",
      " 34  T1_OrdinalRank    5834 non-null   float64\n",
      "dtypes: float64(33), int64(2)\n",
      "memory usage: 2.5 MB\n"
     ]
    }
   ],
   "source": [
    "season_statistics.info()"
   ]
  },
  {
   "cell_type": "code",
   "execution_count": 11,
   "id": "02c05281",
   "metadata": {
    "execution": {
     "iopub.execute_input": "2025-03-14T15:59:29.858578Z",
     "iopub.status.busy": "2025-03-14T15:59:29.858578Z",
     "iopub.status.idle": "2025-03-14T15:59:29.941558Z",
     "shell.execute_reply": "2025-03-14T15:59:29.941558Z"
    },
    "papermill": {
     "duration": 0.115841,
     "end_time": "2025-03-14T15:59:29.945526",
     "exception": false,
     "start_time": "2025-03-14T15:59:29.829685",
     "status": "completed"
    },
    "tags": []
   },
   "outputs": [],
   "source": [
    "####ボックスscoreの平均に対して、過去３年の加重平均を取るときの処理 ####\n",
    "def get_mean_of_3_season(val_2ps, val_1ps, val_0ps, \n",
    "                         weight_2, weight_1, weight_0, \n",
    "                         degree_weight=1.0\n",
    "                         ):\n",
    "    weight_2 = weight_2**degree_weight\n",
    "    weight_1 = weight_1**degree_weight\n",
    "    weight_0 = weight_0**degree_weight\n",
    "    if val_2ps == 0  and val_1ps == 0:\n",
    "        return val_0ps\n",
    "    elif val_2ps == 0:\n",
    "        return (val_1ps*weight_2 + val_0ps*weight_1)/(weight_2 + weight_1)\n",
    "    else:\n",
    "        sum_of_values = val_2ps*weight_2 + val_1ps*weight_1 + val_0ps*weight_0\n",
    "        return sum_of_values/(weight_2 + weight_1 + weight_0)\n",
    "\n",
    "def get_3_feature(df_team, feature):\n",
    "    value_2_seasons_ago = 0\n",
    "    value_1_season_ago = 0\n",
    "    value_0_season_ago = 0\n",
    "    for _, val in df_team.iterrows():\n",
    "        value_2_seasons_ago = value_1_season_ago\n",
    "        value_1_season_ago = value_0_season_ago\n",
    "        value_0_season_ago = val[feature]\n",
    "    return value_2_seasons_ago, value_1_season_ago, value_0_season_ago\n",
    "\n",
    "def write_mean_of_3_seasons(df, features, weight, degree_weight=1.0):\n",
    "    \"\"\"\n",
    "    val_0ps - current season value\n",
    "    weight_0 - current season weight\n",
    "    val_1ps - last season value\n",
    "    val_2ps - the value of the season before last\n",
    "    \"\"\"\n",
    "    weight_2=weight[0]\n",
    "    weight_1=weight[1]\n",
    "    weight_0=weight[2]\n",
    "    df_copy = df.copy()\n",
    "    suffix = \"_mn3s\"\n",
    "    \n",
    "    for ft in features:\n",
    "        df_copy[ft + suffix] = 0\n",
    "    for idx, val in tqdm(df_copy.iterrows(), total=len(df_copy)):\n",
    "        team = val.T1_TeamID\n",
    "        season = val.Season\n",
    "        df_team = df_copy[(df_copy.T1_TeamID == team)&\n",
    "                          (df_copy.Season <= season)&\n",
    "                          (df_copy.Season > season-3)]\n",
    "        for ft in features:\n",
    "            val_2ps, val_1ps, val_0ps = get_3_feature(df_team, ft)\n",
    "            ft_mean_3 = get_mean_of_3_season(val_2ps, val_1ps, val_0ps, weight_2, weight_1, weight_0, degree_weight=degree_weight)\n",
    "            df_copy.loc[idx, ft + suffix] = ft_mean_3\n",
    "    return df_copy"
   ]
  },
  {
   "cell_type": "code",
   "execution_count": 12,
   "id": "7124bd5e",
   "metadata": {
    "execution": {
     "iopub.execute_input": "2025-03-14T15:59:30.021756Z",
     "iopub.status.busy": "2025-03-14T15:59:30.021756Z",
     "iopub.status.idle": "2025-03-14T15:59:30.110341Z",
     "shell.execute_reply": "2025-03-14T15:59:30.110341Z"
    },
    "papermill": {
     "duration": 0.133185,
     "end_time": "2025-03-14T15:59:30.110341",
     "exception": false,
     "start_time": "2025-03-14T15:59:29.977156",
     "status": "completed"
    },
    "tags": []
   },
   "outputs": [
    {
     "name": "stdout",
     "output_type": "stream",
     "text": [
      "#####\n",
      "skip 3 season verage\n",
      "#####\n"
     ]
    },
    {
     "data": {
      "text/html": [
       "<div>\n",
       "<style scoped>\n",
       "    .dataframe tbody tr th:only-of-type {\n",
       "        vertical-align: middle;\n",
       "    }\n",
       "\n",
       "    .dataframe tbody tr th {\n",
       "        vertical-align: top;\n",
       "    }\n",
       "\n",
       "    .dataframe thead th {\n",
       "        text-align: right;\n",
       "    }\n",
       "</style>\n",
       "<table border=\"1\" class=\"dataframe\">\n",
       "  <thead>\n",
       "    <tr style=\"text-align: right;\">\n",
       "      <th></th>\n",
       "      <th>Season</th>\n",
       "      <th>T1_TeamID</th>\n",
       "      <th>T1_Scoremean</th>\n",
       "      <th>T1_opponent_Scoremean</th>\n",
       "      <th>T1_PointDiffmean</th>\n",
       "      <th>T1_FGMmean</th>\n",
       "      <th>T1_opponent_FGMmean</th>\n",
       "      <th>T1_EFG_SUMmean</th>\n",
       "      <th>T1_opponent_EFG_SUMmean</th>\n",
       "      <th>T1_TO_RATIOmean</th>\n",
       "      <th>...</th>\n",
       "      <th>T1_Stlmean</th>\n",
       "      <th>T1_opponent_Stlmean</th>\n",
       "      <th>T1_Blkmean</th>\n",
       "      <th>T1_opponent_Blkmean</th>\n",
       "      <th>T1_PFmean</th>\n",
       "      <th>T1_opponent_PFmean</th>\n",
       "      <th>T1_win_ratio_14d</th>\n",
       "      <th>T1_quality</th>\n",
       "      <th>T1_seed</th>\n",
       "      <th>T1_OrdinalRank</th>\n",
       "    </tr>\n",
       "  </thead>\n",
       "  <tbody>\n",
       "    <tr>\n",
       "      <th>0</th>\n",
       "      <td>2003</td>\n",
       "      <td>1102</td>\n",
       "      <td>57.250000</td>\n",
       "      <td>57.000000</td>\n",
       "      <td>0.25000</td>\n",
       "      <td>19.142857</td>\n",
       "      <td>19.285714</td>\n",
       "      <td>0.584407</td>\n",
       "      <td>0.514142</td>\n",
       "      <td>0.193121</td>\n",
       "      <td>...</td>\n",
       "      <td>5.964286</td>\n",
       "      <td>5.428571</td>\n",
       "      <td>1.785714</td>\n",
       "      <td>1.571429</td>\n",
       "      <td>18.750000</td>\n",
       "      <td>18.357143</td>\n",
       "      <td>0.333333</td>\n",
       "      <td>-0.070776</td>\n",
       "      <td>NaN</td>\n",
       "      <td>144.2875</td>\n",
       "    </tr>\n",
       "    <tr>\n",
       "      <th>1</th>\n",
       "      <td>2003</td>\n",
       "      <td>1103</td>\n",
       "      <td>78.777778</td>\n",
       "      <td>78.148148</td>\n",
       "      <td>0.62963</td>\n",
       "      <td>27.148148</td>\n",
       "      <td>27.777778</td>\n",
       "      <td>0.536564</td>\n",
       "      <td>0.549098</td>\n",
       "      <td>0.159805</td>\n",
       "      <td>...</td>\n",
       "      <td>7.259259</td>\n",
       "      <td>6.407407</td>\n",
       "      <td>2.333333</td>\n",
       "      <td>2.851852</td>\n",
       "      <td>19.851852</td>\n",
       "      <td>22.444444</td>\n",
       "      <td>0.333333</td>\n",
       "      <td>-0.116192</td>\n",
       "      <td>NaN</td>\n",
       "      <td>182.2050</td>\n",
       "    </tr>\n",
       "  </tbody>\n",
       "</table>\n",
       "<p>2 rows × 35 columns</p>\n",
       "</div>"
      ],
      "text/plain": [
       "   Season  T1_TeamID  T1_Scoremean  T1_opponent_Scoremean  T1_PointDiffmean  \\\n",
       "0    2003       1102     57.250000              57.000000           0.25000   \n",
       "1    2003       1103     78.777778              78.148148           0.62963   \n",
       "\n",
       "   T1_FGMmean  T1_opponent_FGMmean  T1_EFG_SUMmean  T1_opponent_EFG_SUMmean  \\\n",
       "0   19.142857            19.285714        0.584407                 0.514142   \n",
       "1   27.148148            27.777778        0.536564                 0.549098   \n",
       "\n",
       "   T1_TO_RATIOmean  ...  T1_Stlmean  T1_opponent_Stlmean  T1_Blkmean  \\\n",
       "0         0.193121  ...    5.964286             5.428571    1.785714   \n",
       "1         0.159805  ...    7.259259             6.407407    2.333333   \n",
       "\n",
       "   T1_opponent_Blkmean  T1_PFmean  T1_opponent_PFmean  T1_win_ratio_14d  \\\n",
       "0             1.571429  18.750000           18.357143          0.333333   \n",
       "1             2.851852  19.851852           22.444444          0.333333   \n",
       "\n",
       "   T1_quality  T1_seed  T1_OrdinalRank  \n",
       "0   -0.070776      NaN        144.2875  \n",
       "1   -0.116192      NaN        182.2050  \n",
       "\n",
       "[2 rows x 35 columns]"
      ]
     },
     "metadata": {},
     "output_type": "display_data"
    },
    {
     "data": {
      "text/html": [
       "<div>\n",
       "<style scoped>\n",
       "    .dataframe tbody tr th:only-of-type {\n",
       "        vertical-align: middle;\n",
       "    }\n",
       "\n",
       "    .dataframe tbody tr th {\n",
       "        vertical-align: top;\n",
       "    }\n",
       "\n",
       "    .dataframe thead th {\n",
       "        text-align: right;\n",
       "    }\n",
       "</style>\n",
       "<table border=\"1\" class=\"dataframe\">\n",
       "  <thead>\n",
       "    <tr style=\"text-align: right;\">\n",
       "      <th></th>\n",
       "      <th>Season</th>\n",
       "      <th>T2_TeamID</th>\n",
       "      <th>T2_Scoremean</th>\n",
       "      <th>T2_opponent_Scoremean</th>\n",
       "      <th>T2_PointDiffmean</th>\n",
       "      <th>T2_FGMmean</th>\n",
       "      <th>T2_opponent_FGMmean</th>\n",
       "      <th>T2_EFG_SUMmean</th>\n",
       "      <th>T2_opponent_EFG_SUMmean</th>\n",
       "      <th>T2_TO_RATIOmean</th>\n",
       "      <th>...</th>\n",
       "      <th>T2_Stlmean</th>\n",
       "      <th>T2_opponent_Stlmean</th>\n",
       "      <th>T2_Blkmean</th>\n",
       "      <th>T2_opponent_Blkmean</th>\n",
       "      <th>T2_PFmean</th>\n",
       "      <th>T2_opponent_PFmean</th>\n",
       "      <th>T2_win_ratio_14d</th>\n",
       "      <th>T2_quality</th>\n",
       "      <th>T2_seed</th>\n",
       "      <th>T2_OrdinalRank</th>\n",
       "    </tr>\n",
       "  </thead>\n",
       "  <tbody>\n",
       "    <tr>\n",
       "      <th>9301</th>\n",
       "      <td>2019</td>\n",
       "      <td>3465</td>\n",
       "      <td>76.200000</td>\n",
       "      <td>69.840000</td>\n",
       "      <td>6.360000</td>\n",
       "      <td>28.560000</td>\n",
       "      <td>26.600000</td>\n",
       "      <td>0.493625</td>\n",
       "      <td>0.426567</td>\n",
       "      <td>0.179404</td>\n",
       "      <td>...</td>\n",
       "      <td>7.280000</td>\n",
       "      <td>7.920000</td>\n",
       "      <td>3.160000</td>\n",
       "      <td>3.160000</td>\n",
       "      <td>15.520000</td>\n",
       "      <td>15.440000</td>\n",
       "      <td>0.5</td>\n",
       "      <td>-0.182555</td>\n",
       "      <td>NaN</td>\n",
       "      <td>NaN</td>\n",
       "    </tr>\n",
       "    <tr>\n",
       "      <th>9302</th>\n",
       "      <td>2019</td>\n",
       "      <td>3466</td>\n",
       "      <td>69.521739</td>\n",
       "      <td>63.217391</td>\n",
       "      <td>6.304348</td>\n",
       "      <td>24.869565</td>\n",
       "      <td>23.913043</td>\n",
       "      <td>0.478102</td>\n",
       "      <td>0.449836</td>\n",
       "      <td>0.211154</td>\n",
       "      <td>...</td>\n",
       "      <td>8.478261</td>\n",
       "      <td>8.478261</td>\n",
       "      <td>3.695652</td>\n",
       "      <td>3.217391</td>\n",
       "      <td>17.478261</td>\n",
       "      <td>19.173913</td>\n",
       "      <td>0.0</td>\n",
       "      <td>0.107970</td>\n",
       "      <td>NaN</td>\n",
       "      <td>NaN</td>\n",
       "    </tr>\n",
       "  </tbody>\n",
       "</table>\n",
       "<p>2 rows × 35 columns</p>\n",
       "</div>"
      ],
      "text/plain": [
       "      Season  T2_TeamID  T2_Scoremean  T2_opponent_Scoremean  \\\n",
       "9301    2019       3465     76.200000              69.840000   \n",
       "9302    2019       3466     69.521739              63.217391   \n",
       "\n",
       "      T2_PointDiffmean  T2_FGMmean  T2_opponent_FGMmean  T2_EFG_SUMmean  \\\n",
       "9301          6.360000   28.560000            26.600000        0.493625   \n",
       "9302          6.304348   24.869565            23.913043        0.478102   \n",
       "\n",
       "      T2_opponent_EFG_SUMmean  T2_TO_RATIOmean  ...  T2_Stlmean  \\\n",
       "9301                 0.426567         0.179404  ...    7.280000   \n",
       "9302                 0.449836         0.211154  ...    8.478261   \n",
       "\n",
       "      T2_opponent_Stlmean  T2_Blkmean  T2_opponent_Blkmean  T2_PFmean  \\\n",
       "9301             7.920000    3.160000             3.160000  15.520000   \n",
       "9302             8.478261    3.695652             3.217391  17.478261   \n",
       "\n",
       "      T2_opponent_PFmean  T2_win_ratio_14d  T2_quality  T2_seed  \\\n",
       "9301           15.440000               0.5   -0.182555      NaN   \n",
       "9302           19.173913               0.0    0.107970      NaN   \n",
       "\n",
       "      T2_OrdinalRank  \n",
       "9301             NaN  \n",
       "9302             NaN  \n",
       "\n",
       "[2 rows x 35 columns]"
      ]
     },
     "metadata": {},
     "output_type": "display_data"
    }
   ],
   "source": [
    "flag_3season_avg = FEATURES.season_average.enabled\n",
    "\n",
    "#trueのときの処理理解してfalseと一致させる\n",
    "if flag_3season_avg:\n",
    "    print(\"#####\")\n",
    "    print(\"use 3 season average\")\n",
    "    print(\"#####\")\n",
    "    weight = FEATURES.season_average.weights\n",
    "    years = FEATURES.season_average.past_years\n",
    "    assert years==len(weight)\n",
    "    \n",
    "    features_for_calc = [\"T1_Scoremean\", \"T1_FGAmean\",  \"T1_FGA3mean\"]\n",
    "    season_statistics_with_3_seas = write_mean_of_3_seasons(\n",
    "        season_statistics, features_for_calc, weight, degree_weight=1.0\n",
    "    )\n",
    "    \n",
    "    season_statistics_T1 = season_statistics_with_3_seas.copy()\n",
    "    season_statistics_T2 = season_statistics_with_3_seas.copy()\n",
    "    \n",
    "else:\n",
    "    print(\"#####\")\n",
    "    print(\"skip 3 season verage\")\n",
    "    print(\"#####\")\n",
    "    season_statistics_T1 = season_statistics.copy()\n",
    "    season_statistics_T2 = season_statistics.copy()\n",
    "\n",
    "season_statistics_T1.columns = [\"T1_\" + x.replace(\"T1_\",\"\").replace(\"T2_\",\"opponent_\") for x in list(season_statistics_T1.columns)]\n",
    "season_statistics_T2.columns = [\"T2_\" + x.replace(\"T1_\",\"\").replace(\"T2_\",\"opponent_\") for x in list(season_statistics_T2.columns)]\n",
    "season_statistics_T1.columns.values[0] = \"Season\"\n",
    "season_statistics_T2.columns.values[0] = \"Season\"\n",
    "\n",
    "\n",
    "season_statistics_T2.rename(columns = {\n",
    "    \"T1_TeamID\": \"T2_TeamID\"\n",
    "}, inplace=True)\n",
    "display(season_statistics_T1.head(2), season_statistics_T2.tail(2))"
   ]
  },
  {
   "cell_type": "markdown",
   "id": "0ef85d23",
   "metadata": {
    "papermill": {
     "duration": 0.033282,
     "end_time": "2025-03-14T15:59:30.176237",
     "exception": false,
     "start_time": "2025-03-14T15:59:30.142955",
     "status": "completed"
    },
    "tags": []
   },
   "source": [
    "# Toureney dataの処理\n",
    "1. pointdiff, pointが目的変数となるのでそれはyに分離\n",
    "2. seasonstatisticを結合したものをXとして作る"
   ]
  },
  {
   "cell_type": "code",
   "execution_count": 13,
   "id": "6448228f",
   "metadata": {
    "execution": {
     "iopub.execute_input": "2025-03-14T15:59:30.239405Z",
     "iopub.status.busy": "2025-03-14T15:59:30.239405Z",
     "iopub.status.idle": "2025-03-14T15:59:30.260541Z",
     "shell.execute_reply": "2025-03-14T15:59:30.260541Z"
    },
    "papermill": {
     "duration": 0.064115,
     "end_time": "2025-03-14T15:59:30.264585",
     "exception": false,
     "start_time": "2025-03-14T15:59:30.200470",
     "status": "completed"
    },
    "tags": []
   },
   "outputs": [],
   "source": [
    "\n",
    "def process_tourney(df1, mode=\"tourney\"):\n",
    "    #Season, teamid ->X, team_score->y\n",
    "    df = df1.copy()\n",
    "    if mode==\"tourney\":\n",
    "        df = prepare_data(df) \n",
    "        y = df[\"T1_Score\"]-df[\"T2_Score\"]\n",
    "    X = df[['Season', 'T1_TeamID', 'T2_TeamID']]\n",
    "    X = pd.merge(X, season_statistics_T1, on = ['Season', 'T1_TeamID'], how = 'left')\n",
    "    X = pd.merge(X, season_statistics_T2, on = ['Season', 'T2_TeamID'], how = 'left')\n",
    "    \n",
    "    #seed->seed diff\n",
    "    X[\"seed_diff\"] = X[\"T1_seed\"] - X[\"T2_seed\"]\n",
    "    #rank->rank diff\n",
    "    X[\"rank_diff\"] = X[\"T1_OrdinalRank\"] - X[\"T2_OrdinalRank\"]\n",
    "    #quality->quality diff\n",
    "    X[\"quality_diff\"] = X[\"T1_quality\"] - X[\"T2_quality\"]\n",
    "    #win_ratio_14d -> win_raio_14d_diff\n",
    "    X[\"win_ratio_14d_diff\"] = X[\"T1_win_ratio_14d\"] - X[\"T2_win_ratio_14d\"]\n",
    "    #tourney_data.drop(columns=[\"T1_seed\", \"T2_seed\"], inplace=True)\n",
    "\n",
    "    X = X.drop(columns=[\"T1_seed\", \"T2_seed\", \"T1_OrdinalRank\", \"T2_OrdinalRank\", \n",
    "                        \"T1_quality\", \"T2_quality\", \"T1_win_ratio_14d\", \"T2_win_ratio_14d\"\n",
    "                        ])\n",
    "\n",
    "    # if rank_diff is False, drop.\n",
    "    IS_RANKDIFF = FEATURES.rank_diff\n",
    "    if not IS_RANKDIFF:\n",
    "        X = X.drop(columns=[\"rank_diff\"])\n",
    "        print(\"drop rank_diff\")\n",
    "    \n",
    "    # if fillna is true-> run fillna()\n",
    "    FILLNA = FEATURES.fillna.quality\n",
    "    if FILLNA==\"nan\":\n",
    "        print(f\"no fillna, use nan\")\n",
    "        X[\"quality_diff\"] = X[\"quality_diff\"].fillna(np.nan)\n",
    "    else:\n",
    "        print(f\"fillna quality feature for {FILLNA}\")\n",
    "        X[\"quality_diff\"] = X[\"quality_diff\"].fillna(FILLNA)\n",
    "\n",
    "        \n",
    "    return X, y if mode==\"tourney\" else X"
   ]
  },
  {
   "cell_type": "code",
   "execution_count": 14,
   "id": "848b1559",
   "metadata": {
    "execution": {
     "iopub.execute_input": "2025-03-14T15:59:30.376185Z",
     "iopub.status.busy": "2025-03-14T15:59:30.376185Z",
     "iopub.status.idle": "2025-03-14T15:59:30.551073Z",
     "shell.execute_reply": "2025-03-14T15:59:30.551073Z"
    },
    "papermill": {
     "duration": 0.254747,
     "end_time": "2025-03-14T15:59:30.551073",
     "exception": false,
     "start_time": "2025-03-14T15:59:30.296326",
     "status": "completed"
    },
    "tags": []
   },
   "outputs": [
    {
     "name": "stdout",
     "output_type": "stream",
     "text": [
      "<class 'pandas.core.frame.DataFrame'>\n",
      "Index: 1615 entries, 0 to 1948\n",
      "Data columns (total 56 columns):\n",
      " #   Column       Non-Null Count  Dtype  \n",
      "---  ------       --------------  -----  \n",
      " 0   Season       1615 non-null   int64  \n",
      " 1   DayNum       1615 non-null   int64  \n",
      " 2   WTeamID      1615 non-null   int64  \n",
      " 3   WScore       1615 non-null   int64  \n",
      " 4   LTeamID      1615 non-null   int64  \n",
      " 5   LScore       1615 non-null   int64  \n",
      " 6   WLoc         1615 non-null   object \n",
      " 7   NumOT        1615 non-null   int64  \n",
      " 8   WFGM         1615 non-null   int64  \n",
      " 9   WFGA         1615 non-null   int64  \n",
      " 10  WFGM3        1615 non-null   int64  \n",
      " 11  WFGA3        1615 non-null   int64  \n",
      " 12  WFTM         1615 non-null   int64  \n",
      " 13  WFTA         1615 non-null   int64  \n",
      " 14  WOR          1615 non-null   int64  \n",
      " 15  WDR          1615 non-null   int64  \n",
      " 16  WAst         1615 non-null   int64  \n",
      " 17  WTO          1615 non-null   int64  \n",
      " 18  WStl         1615 non-null   int64  \n",
      " 19  WBlk         1615 non-null   int64  \n",
      " 20  WPF          1615 non-null   int64  \n",
      " 21  LFGM         1615 non-null   int64  \n",
      " 22  LFGA         1615 non-null   int64  \n",
      " 23  LFGM3        1615 non-null   int64  \n",
      " 24  LFGA3        1615 non-null   int64  \n",
      " 25  LFTM         1615 non-null   int64  \n",
      " 26  LFTA         1615 non-null   int64  \n",
      " 27  LOR          1615 non-null   int64  \n",
      " 28  LDR          1615 non-null   int64  \n",
      " 29  LAst         1615 non-null   int64  \n",
      " 30  LTO          1615 non-null   int64  \n",
      " 31  LStl         1615 non-null   int64  \n",
      " 32  LBlk         1615 non-null   int64  \n",
      " 33  LPF          1615 non-null   int64  \n",
      " 34  WEFFG        1615 non-null   float64\n",
      " 35  LEFFG        1615 non-null   float64\n",
      " 36  WEFFG3       1615 non-null   float64\n",
      " 37  LEFFG3       1615 non-null   float64\n",
      " 38  WDARE        1615 non-null   float64\n",
      " 39  LDARE        1615 non-null   float64\n",
      " 40  WTOQUETOQUE  1615 non-null   float64\n",
      " 41  LTOQUETOQUE  1615 non-null   float64\n",
      " 42  WEFG_SUM     1615 non-null   float64\n",
      " 43  LEFG_SUM     1615 non-null   float64\n",
      " 44  WPOSS        1615 non-null   float64\n",
      " 45  LPOSS        1615 non-null   float64\n",
      " 46  WPOSS_RATE   1615 non-null   float64\n",
      " 47  LPOSS_RATE   1615 non-null   float64\n",
      " 48  WTO_RATIO    1615 non-null   float64\n",
      " 49  LTO_RATIO    1615 non-null   float64\n",
      " 50  WREB_RATE    1615 non-null   float64\n",
      " 51  LREB_RATE    1615 non-null   float64\n",
      " 52  WFT_RATE     1615 non-null   float64\n",
      " 53  LFT_RATE     1615 non-null   float64\n",
      " 54  WRATING      1615 non-null   float64\n",
      " 55  LRATING      1615 non-null   float64\n",
      "dtypes: float64(22), int64(33), object(1)\n",
      "memory usage: 719.2+ KB\n",
      "None\n",
      "feature cols after prepare()\n",
      "Index(['Season', 'DayNum', 'T1_TeamID', 'T1_Score', 'T2_TeamID', 'T2_Score',\n",
      "       'location', 'NumOT', 'T1_FGM', 'T1_FGA', 'T1_FGM3', 'T1_FGA3', 'T1_FTM',\n",
      "       'T1_FTA', 'T1_OR', 'T1_DR', 'T1_Ast', 'T1_TO', 'T1_Stl', 'T1_Blk',\n",
      "       'T1_PF', 'T2_FGM', 'T2_FGA', 'T2_FGM3', 'T2_FGA3', 'T2_FTM', 'T2_FTA',\n",
      "       'T2_OR', 'T2_DR', 'T2_Ast', 'T2_TO', 'T2_Stl', 'T2_Blk', 'T2_PF',\n",
      "       'T1_EFFG', 'T2_EFFG', 'T1_EFFG3', 'T2_EFFG3', 'T1_DARE', 'T2_DARE',\n",
      "       'T1_TOQUETOQUE', 'T2_TOQUETOQUE', 'T1_EFG_SUM', 'T2_EFG_SUM', 'T1_POSS',\n",
      "       'T2_POSS', 'T1_POSS_RATE', 'T2_POSS_RATE', 'T1_TO_RATIO', 'T2_TO_RATIO',\n",
      "       'T1_REB_RATE', 'T2_REB_RATE', 'T1_FT_RATE', 'T2_FT_RATE', 'T1_RATING',\n",
      "       'T2_RATING', 'PointDiff', 'win'],\n",
      "      dtype='object')\n",
      "no fillna, use nan\n"
     ]
    }
   ],
   "source": [
    "X, y = process_tourney(tourney_results)"
   ]
  },
  {
   "cell_type": "code",
   "execution_count": 15,
   "id": "25286bdc",
   "metadata": {
    "execution": {
     "iopub.execute_input": "2025-03-14T15:59:30.630606Z",
     "iopub.status.busy": "2025-03-14T15:59:30.630606Z",
     "iopub.status.idle": "2025-03-14T15:59:30.713199Z",
     "shell.execute_reply": "2025-03-14T15:59:30.713199Z"
    },
    "papermill": {
     "duration": 0.130407,
     "end_time": "2025-03-14T15:59:30.713199",
     "exception": false,
     "start_time": "2025-03-14T15:59:30.582792",
     "status": "completed"
    },
    "tags": []
   },
   "outputs": [
    {
     "name": "stdout",
     "output_type": "stream",
     "text": [
      "drop col list: ['T1_TOmean', 'T2_TOmean', 'T1_opponent_POSS_RATEmean', 'T2_opponent_POSS_RATEmean', 'T1_opponent_Astmean', 'T2_opponent_Astmean', 'T1_opponent_FT_RATEmean', 'T2_opponent_FT_RATEmean', 'T1_opponent_Stlmean', 'T2_opponent_Stlmean', 'T1_ORmean', 'T2_ORmean', 'T1_opponent_ORmean', 'T2_opponent_ORmean']\n"
     ]
    }
   ],
   "source": [
    "#opponentなど明示的に特徴量選出に基づいて落とす\n",
    "def drop_columns(df, cols):\n",
    "    if not cols: return df\n",
    "    existing_cols = [col for col in cols if col in df.columns]\n",
    "    print(f\"drop col list: {existing_cols}\")\n",
    "    return df.drop(columns=existing_cols)\n",
    "\n",
    "drop_col = FEATURES.dropfeatures\n",
    "X = drop_columns(X, drop_col)"
   ]
  },
  {
   "cell_type": "code",
   "execution_count": 16,
   "id": "d197f6f7",
   "metadata": {
    "execution": {
     "iopub.execute_input": "2025-03-14T15:59:30.774822Z",
     "iopub.status.busy": "2025-03-14T15:59:30.774822Z",
     "iopub.status.idle": "2025-03-14T15:59:30.783525Z",
     "shell.execute_reply": "2025-03-14T15:59:30.783525Z"
    },
    "papermill": {
     "duration": 0.041253,
     "end_time": "2025-03-14T15:59:30.783525",
     "exception": false,
     "start_time": "2025-03-14T15:59:30.742272",
     "status": "completed"
    },
    "tags": []
   },
   "outputs": [
    {
     "name": "stdout",
     "output_type": "stream",
     "text": [
      "最終的な X の特徴量\n",
      "Index(['Season', 'T1_TeamID', 'T2_TeamID', 'T1_Scoremean',\n",
      "       'T1_opponent_Scoremean', 'T1_PointDiffmean', 'T1_FGMmean',\n",
      "       'T1_opponent_FGMmean', 'T1_EFG_SUMmean', 'T1_opponent_EFG_SUMmean',\n",
      "       'T1_TO_RATIOmean', 'T1_opponent_TO_RATIOmean', 'T1_DRmean',\n",
      "       'T1_opponent_DRmean', 'T1_REB_RATEmean', 'T1_opponent_REB_RATEmean',\n",
      "       'T1_FT_RATEmean', 'T1_POSS_RATEmean', 'T1_Astmean',\n",
      "       'T1_opponent_TOmean', 'T1_Stlmean', 'T1_Blkmean', 'T1_opponent_Blkmean',\n",
      "       'T1_PFmean', 'T1_opponent_PFmean', 'T2_Scoremean',\n",
      "       'T2_opponent_Scoremean', 'T2_PointDiffmean', 'T2_FGMmean',\n",
      "       'T2_opponent_FGMmean', 'T2_EFG_SUMmean', 'T2_opponent_EFG_SUMmean',\n",
      "       'T2_TO_RATIOmean', 'T2_opponent_TO_RATIOmean', 'T2_DRmean',\n",
      "       'T2_opponent_DRmean', 'T2_REB_RATEmean', 'T2_opponent_REB_RATEmean',\n",
      "       'T2_FT_RATEmean', 'T2_POSS_RATEmean', 'T2_Astmean',\n",
      "       'T2_opponent_TOmean', 'T2_Stlmean', 'T2_Blkmean', 'T2_opponent_Blkmean',\n",
      "       'T2_PFmean', 'T2_opponent_PFmean', 'seed_diff', 'rank_diff',\n",
      "       'quality_diff', 'win_ratio_14d_diff'],\n",
      "      dtype='object')\n"
     ]
    }
   ],
   "source": [
    "print(\"最終的な X の特徴量\")\n",
    "print(X.columns)"
   ]
  },
  {
   "cell_type": "code",
   "execution_count": 17,
   "id": "ae826df3",
   "metadata": {
    "execution": {
     "iopub.execute_input": "2025-03-14T15:59:30.854294Z",
     "iopub.status.busy": "2025-03-14T15:59:30.854294Z",
     "iopub.status.idle": "2025-03-14T15:59:30.879849Z",
     "shell.execute_reply": "2025-03-14T15:59:30.879849Z"
    },
    "papermill": {
     "duration": 0.073693,
     "end_time": "2025-03-14T15:59:30.879849",
     "exception": false,
     "start_time": "2025-03-14T15:59:30.806156",
     "status": "completed"
    },
    "tags": []
   },
   "outputs": [
    {
     "name": "stdout",
     "output_type": "stream",
     "text": [
      "<class 'pandas.core.frame.DataFrame'>\n",
      "RangeIndex: 3230 entries, 0 to 3229\n",
      "Data columns (total 51 columns):\n",
      " #   Column                    Non-Null Count  Dtype  \n",
      "---  ------                    --------------  -----  \n",
      " 0   Season                    3230 non-null   int64  \n",
      " 1   T1_TeamID                 3230 non-null   int64  \n",
      " 2   T2_TeamID                 3230 non-null   int64  \n",
      " 3   T1_Scoremean              3230 non-null   float64\n",
      " 4   T1_opponent_Scoremean     3230 non-null   float64\n",
      " 5   T1_PointDiffmean          3230 non-null   float64\n",
      " 6   T1_FGMmean                3230 non-null   float64\n",
      " 7   T1_opponent_FGMmean       3230 non-null   float64\n",
      " 8   T1_EFG_SUMmean            3230 non-null   float64\n",
      " 9   T1_opponent_EFG_SUMmean   3230 non-null   float64\n",
      " 10  T1_TO_RATIOmean           3230 non-null   float64\n",
      " 11  T1_opponent_TO_RATIOmean  3230 non-null   float64\n",
      " 12  T1_DRmean                 3230 non-null   float64\n",
      " 13  T1_opponent_DRmean        3230 non-null   float64\n",
      " 14  T1_REB_RATEmean           3230 non-null   float64\n",
      " 15  T1_opponent_REB_RATEmean  3230 non-null   float64\n",
      " 16  T1_FT_RATEmean            3230 non-null   float64\n",
      " 17  T1_POSS_RATEmean          3230 non-null   float64\n",
      " 18  T1_Astmean                3230 non-null   float64\n",
      " 19  T1_opponent_TOmean        3230 non-null   float64\n",
      " 20  T1_Stlmean                3230 non-null   float64\n",
      " 21  T1_Blkmean                3230 non-null   float64\n",
      " 22  T1_opponent_Blkmean       3230 non-null   float64\n",
      " 23  T1_PFmean                 3230 non-null   float64\n",
      " 24  T1_opponent_PFmean        3230 non-null   float64\n",
      " 25  T2_Scoremean              3230 non-null   float64\n",
      " 26  T2_opponent_Scoremean     3230 non-null   float64\n",
      " 27  T2_PointDiffmean          3230 non-null   float64\n",
      " 28  T2_FGMmean                3230 non-null   float64\n",
      " 29  T2_opponent_FGMmean       3230 non-null   float64\n",
      " 30  T2_EFG_SUMmean            3230 non-null   float64\n",
      " 31  T2_opponent_EFG_SUMmean   3230 non-null   float64\n",
      " 32  T2_TO_RATIOmean           3230 non-null   float64\n",
      " 33  T2_opponent_TO_RATIOmean  3230 non-null   float64\n",
      " 34  T2_DRmean                 3230 non-null   float64\n",
      " 35  T2_opponent_DRmean        3230 non-null   float64\n",
      " 36  T2_REB_RATEmean           3230 non-null   float64\n",
      " 37  T2_opponent_REB_RATEmean  3230 non-null   float64\n",
      " 38  T2_FT_RATEmean            3230 non-null   float64\n",
      " 39  T2_POSS_RATEmean          3230 non-null   float64\n",
      " 40  T2_Astmean                3230 non-null   float64\n",
      " 41  T2_opponent_TOmean        3230 non-null   float64\n",
      " 42  T2_Stlmean                3230 non-null   float64\n",
      " 43  T2_Blkmean                3230 non-null   float64\n",
      " 44  T2_opponent_Blkmean       3230 non-null   float64\n",
      " 45  T2_PFmean                 3230 non-null   float64\n",
      " 46  T2_opponent_PFmean        3230 non-null   float64\n",
      " 47  seed_diff                 3230 non-null   float64\n",
      " 48  rank_diff                 2096 non-null   float64\n",
      " 49  quality_diff              3230 non-null   float64\n",
      " 50  win_ratio_14d_diff        3230 non-null   float64\n",
      "dtypes: float64(48), int64(3)\n",
      "memory usage: 1.3 MB\n"
     ]
    }
   ],
   "source": [
    "X.info()"
   ]
  },
  {
   "cell_type": "markdown",
   "id": "4fe098d9",
   "metadata": {
    "papermill": {
     "duration": 0.047597,
     "end_time": "2025-03-14T15:59:30.949425",
     "exception": false,
     "start_time": "2025-03-14T15:59:30.901828",
     "status": "completed"
    },
    "tags": []
   },
   "source": [
    "# build models"
   ]
  },
  {
   "cell_type": "code",
   "execution_count": 18,
   "id": "148829ad",
   "metadata": {
    "execution": {
     "iopub.execute_input": "2025-03-14T15:59:31.005617Z",
     "iopub.status.busy": "2025-03-14T15:59:31.005617Z",
     "iopub.status.idle": "2025-03-14T15:59:31.070604Z",
     "shell.execute_reply": "2025-03-14T15:59:31.070604Z"
    },
    "papermill": {
     "duration": 0.088798,
     "end_time": "2025-03-14T15:59:31.070604",
     "exception": false,
     "start_time": "2025-03-14T15:59:30.981806",
     "status": "completed"
    },
    "tags": []
   },
   "outputs": [],
   "source": [
    "\n",
    "val_mae = []\n",
    "iteration_counts = []\n",
    "xgb_cv = []\n",
    "dtrain = xgb.DMatrix(X, label=y)\n",
    "\n",
    "repeat_cv = MODEL.repeat_cv\n",
    "param = dict(MODEL.xgb_model.param)\n",
    "num_boost_round = MODEL.xgb_model.num_boost_round\n",
    "folds_splits = MODEL.xgb_model.folds_splits\n",
    "early_stopping_rounds = MODEL.xgb_model.early_stopping_rounds\n",
    "\n",
    "# コーシー損失関数\n",
    "def cauchyobj(preds, dtrain):\n",
    "    labels = dtrain.get_label()\n",
    "    c = 5000\n",
    "    x = preds - labels    \n",
    "    grad = x / (x**2/c**2 + 1)\n",
    "    hess = -c**2 * (x**2 - c**2) / (x**2 + c**2)**2\n",
    "    return grad, hess"
   ]
  },
  {
   "cell_type": "code",
   "execution_count": 19,
   "id": "4341507c",
   "metadata": {
    "execution": {
     "iopub.execute_input": "2025-03-14T15:59:31.132872Z",
     "iopub.status.busy": "2025-03-14T15:59:31.132872Z",
     "iopub.status.idle": "2025-03-14T15:59:31.180622Z",
     "shell.execute_reply": "2025-03-14T15:59:31.178767Z"
    },
    "papermill": {
     "duration": 0.079519,
     "end_time": "2025-03-14T15:59:31.180622",
     "exception": false,
     "start_time": "2025-03-14T15:59:31.101103",
     "status": "completed"
    },
    "tags": []
   },
   "outputs": [],
   "source": [
    "#########################################\n",
    "# 1. Optunaあり：ハイパーパラメータ最適化 #\n",
    "#########################################\n",
    "def run_optuna_optimization(param, optuna_conf):\n",
    "    def objective(trial):  \n",
    "        logger.info(f\"Trial {trial.number} 開始\")\n",
    "        \n",
    "        current_param = param.copy()  \n",
    "        max_depth_range = optuna_conf.max_depth        \n",
    "        eta_range = optuna_conf.eta\n",
    "        subsample_range = optuna_conf.subsample          \n",
    "        colsample_bytree_range = optuna_conf.colsample_bytree\n",
    "        num_parallel_tree_range = optuna_conf.num_parallel_tree \n",
    "        min_child_weight_range = optuna_conf.min_child_weight \n",
    "        reg_alpha_range = optuna_conf.reg_alpha         \n",
    "        reg_lambda_range = optuna_conf.reg_lambda    \n",
    "        reg_gamma_range = optuna_conf.gamma  \n",
    "\n",
    "        current_param[\"max_depth\"] = trial.suggest_int(\"max_depth\", max_depth_range[0], max_depth_range[1])\n",
    "        current_param[\"eta\"] = trial.suggest_float(\"eta\", eta_range[0], eta_range[1], log=True)\n",
    "        current_param[\"subsample\"] = trial.suggest_float(\"subsample\", subsample_range[0], subsample_range[1])\n",
    "        current_param[\"colsample_bytree\"] = trial.suggest_float(\"colsample_bytree\", colsample_bytree_range[0], colsample_bytree_range[1])\n",
    "        current_param[\"num_parallel_tree\"] = trial.suggest_int(\"num_parallel_tree\", num_parallel_tree_range[0], num_parallel_tree_range[1])\n",
    "        current_param[\"min_child_weight\"] = trial.suggest_int(\"min_child_weight\", min_child_weight_range[0], min_child_weight_range[1])\n",
    "        current_param[\"reg_alpha\"] = trial.suggest_float(\"reg_alpha\", reg_alpha_range[0], reg_alpha_range[1])\n",
    "        current_param[\"reg_lambda\"] = trial.suggest_float(\"reg_lambda\", reg_lambda_range[0], reg_lambda_range[1])\n",
    "        current_param[\"gamma\"] = trial.suggest_float(\"gamma\", reg_gamma_range[0], reg_gamma_range[1])\n",
    "        \n",
    "        if current_param.get(\"eval_metric\", \"mae\") == \"rmse\":\n",
    "            score_name = \"test-rmse-mean\"\n",
    "        elif current_param.get(\"eval_metric\", \"mae\") == \"mae\":\n",
    "            score_name = \"test-mae-mean\"\n",
    "        elif  current_param.get(\"eval_metric\", \"mae\") == \"logloss\":\n",
    "            score_name = \"test-logloss-mean\"\n",
    "        \n",
    "        print(current_param)  \n",
    "        cv_scores = []\n",
    "        for i in range(repeat_cv):\n",
    "            cv_result = xgb.cv(\n",
    "                params=current_param,\n",
    "                dtrain=dtrain,\n",
    "                obj=cauchyobj,\n",
    "                num_boost_round=num_boost_round,\n",
    "                folds=KFold(n_splits=folds_splits, shuffle=True, random_state=i),\n",
    "                early_stopping_rounds=early_stopping_rounds,\n",
    "                verbose_eval=False\n",
    "            )\n",
    "            fold_score = np.min(cv_result[score_name].values)\n",
    "            cv_scores.append(fold_score)\n",
    "        mean_score = np.mean(cv_scores)\n",
    "        logger.info(f\"Trial {trial.number} 終了: スコア {mean_score}\")\n",
    "        \n",
    "        return mean_score\n",
    "\n",
    "    logger.info(\"Optuna最適化開始\")\n",
    "    N_WARMUP_STEPS = optuna_conf.n_warmup_steps\n",
    "    TIMEOUT = optuna_conf.timeout\n",
    "    N_JOBS = optuna_conf.n_jobs\n",
    "    N_TRIALS = optuna_conf.n_trials\n",
    "    \n",
    "    sampler = optuna.samplers.TPESampler(seed=42)\n",
    "    pruner = optuna.pruners.MedianPruner(n_warmup_steps=N_WARMUP_STEPS)\n",
    "\n",
    "    study = optuna.create_study(direction=\"minimize\", sampler=sampler, pruner=pruner)\n",
    "    study.optimize(objective, n_trials=N_TRIALS, timeout=TIMEOUT, n_jobs=N_JOBS)\n",
    "\n",
    "    best_trial = study.best_trial\n",
    "    logger.info(\"Best trial:\")\n",
    "    logger.info(f\"  Value: {best_trial.value}\")\n",
    "    \n",
    "    for key, value in best_trial.params.items():\n",
    "        print(f\"    {key}: {value}\")\n",
    "    param.update(best_trial.params)\n",
    "\n",
    "    logger.info(\"Optuna最適化終了\")\n",
    "    return param"
   ]
  },
  {
   "cell_type": "code",
   "execution_count": 20,
   "id": "422fb272",
   "metadata": {
    "execution": {
     "iopub.execute_input": "2025-03-14T15:59:31.253927Z",
     "iopub.status.busy": "2025-03-14T15:59:31.253927Z",
     "iopub.status.idle": "2025-03-14T15:59:31.279397Z",
     "shell.execute_reply": "2025-03-14T15:59:31.279397Z"
    },
    "papermill": {
     "duration": 0.057679,
     "end_time": "2025-03-14T15:59:31.279397",
     "exception": false,
     "start_time": "2025-03-14T15:59:31.221718",
     "status": "completed"
    },
    "tags": []
   },
   "outputs": [
    {
     "name": "stdout",
     "output_type": "stream",
     "text": [
      "not use Optuna, use xgb_model.param\n",
      "param: {'eval_metric': 'rmse', 'booster': 'gbtree', 'eta': 0.02, 'subsample': 0.35, 'colsample_bytree': 0.7, 'num_parallel_tree': 10, 'min_child_weight': 40, 'gamma': 10, 'max_depth': 3}\n",
      "repeat_cv: 10\n",
      "num_boost_round: 3000\n",
      "folds_splits: 5\n",
      "early_stopping_rounds: 25\n"
     ]
    }
   ],
   "source": [
    "IS_OPTUNA = MODEL.optuna_enabled\n",
    "if IS_OPTUNA:\n",
    "    print(\"Optuna use mode\") \n",
    "    optuna_conf = MODEL.xgb_model.optuna\n",
    "    logger.add(os.path.join(OUTPUT_PATH, \"results.log\"), format=\"{time:YYYY-MM-DD at HH:mm:ss} - {level} - {message}\", level=\"INFO\")\n",
    "    param = run_optuna_optimization(param, optuna_conf)\n",
    "    print(\"param updated by optuna\")\n",
    "    results+= [\"param set after optuna is below\", f\"{param}\", \"\"]\n",
    "else:    \n",
    "    print(\"not use Optuna, use xgb_model.param\")\n",
    "\n",
    "\n",
    "\n",
    "print(\"param:\", param)\n",
    "print(\"repeat_cv:\", repeat_cv)\n",
    "print(\"num_boost_round:\", num_boost_round)\n",
    "print(\"folds_splits:\", folds_splits)\n",
    "print(\"early_stopping_rounds:\", early_stopping_rounds)"
   ]
  },
  {
   "cell_type": "code",
   "execution_count": 21,
   "id": "8700de32",
   "metadata": {
    "execution": {
     "iopub.execute_input": "2025-03-14T15:59:31.365914Z",
     "iopub.status.busy": "2025-03-14T15:59:31.365914Z",
     "iopub.status.idle": "2025-03-14T16:07:01.251207Z",
     "shell.execute_reply": "2025-03-14T16:07:01.251207Z"
    },
    "papermill": {
     "duration": 449.933125,
     "end_time": "2025-03-14T16:07:01.251207",
     "exception": false,
     "start_time": "2025-03-14T15:59:31.318082",
     "status": "completed"
    },
    "tags": []
   },
   "outputs": [
    {
     "name": "stderr",
     "output_type": "stream",
     "text": [
      "\r",
      "  0%|                                                                                                                                                                                                                                      | 0/10 [00:00<?, ?it/s]"
     ]
    },
    {
     "name": "stdout",
     "output_type": "stream",
     "text": [
      "[0]\ttrain-rmse:17.10613+0.03311\ttest-rmse:17.11006+0.13378\n"
     ]
    },
    {
     "name": "stdout",
     "output_type": "stream",
     "text": [
      "[50]\ttrain-rmse:13.09205+0.04805\ttest-rmse:13.29251+0.17620\n"
     ]
    },
    {
     "name": "stdout",
     "output_type": "stream",
     "text": [
      "[100]\ttrain-rmse:11.99280+0.04508\ttest-rmse:12.35568+0.18898\n"
     ]
    },
    {
     "name": "stdout",
     "output_type": "stream",
     "text": [
      "[150]\ttrain-rmse:11.57759+0.04558\ttest-rmse:12.09070+0.18304\n"
     ]
    },
    {
     "name": "stdout",
     "output_type": "stream",
     "text": [
      "[200]\ttrain-rmse:11.32346+0.04652\ttest-rmse:11.97585+0.18263\n"
     ]
    },
    {
     "name": "stdout",
     "output_type": "stream",
     "text": [
      "[250]\ttrain-rmse:11.12817+0.04423\ttest-rmse:11.91991+0.18462\n"
     ]
    },
    {
     "name": "stdout",
     "output_type": "stream",
     "text": [
      "[300]\ttrain-rmse:10.96147+0.04406\ttest-rmse:11.88774+0.18368\n"
     ]
    },
    {
     "name": "stdout",
     "output_type": "stream",
     "text": [
      "[350]\ttrain-rmse:10.81108+0.04379\ttest-rmse:11.87110+0.18166\n"
     ]
    },
    {
     "name": "stdout",
     "output_type": "stream",
     "text": [
      "[400]\ttrain-rmse:10.67548+0.04345\ttest-rmse:11.86409+0.18180\n"
     ]
    },
    {
     "name": "stdout",
     "output_type": "stream",
     "text": [
      "[450]\ttrain-rmse:10.54887+0.04382\ttest-rmse:11.85802+0.18175\n"
     ]
    },
    {
     "name": "stdout",
     "output_type": "stream",
     "text": [
      "[500]\ttrain-rmse:10.42831+0.04380\ttest-rmse:11.85572+0.18174\n"
     ]
    },
    {
     "name": "stdout",
     "output_type": "stream",
     "text": [
      "[509]\ttrain-rmse:10.40761+0.04400\ttest-rmse:11.85496+0.18230\n"
     ]
    },
    {
     "name": "stderr",
     "output_type": "stream",
     "text": [
      "\r",
      " 10%|██████████████████████▏                                                                                                                                                                                                       | 1/10 [00:44<06:36, 44.11s/it]"
     ]
    },
    {
     "name": "stdout",
     "output_type": "stream",
     "text": [
      "[0]\ttrain-rmse:17.10486+0.15447\ttest-rmse:17.09834+0.62799\n"
     ]
    },
    {
     "name": "stdout",
     "output_type": "stream",
     "text": [
      "[50]\ttrain-rmse:13.09023+0.10608\ttest-rmse:13.27324+0.50537\n"
     ]
    },
    {
     "name": "stdout",
     "output_type": "stream",
     "text": [
      "[100]\ttrain-rmse:11.99570+0.10044\ttest-rmse:12.34433+0.43549\n"
     ]
    },
    {
     "name": "stdout",
     "output_type": "stream",
     "text": [
      "[150]\ttrain-rmse:11.57802+0.10048\ttest-rmse:12.07265+0.41263\n"
     ]
    },
    {
     "name": "stdout",
     "output_type": "stream",
     "text": [
      "[200]\ttrain-rmse:11.32702+0.10029\ttest-rmse:11.96300+0.40444\n"
     ]
    },
    {
     "name": "stdout",
     "output_type": "stream",
     "text": [
      "[250]\ttrain-rmse:11.13311+0.09972\ttest-rmse:11.90764+0.39951\n"
     ]
    },
    {
     "name": "stdout",
     "output_type": "stream",
     "text": [
      "[300]\ttrain-rmse:10.96609+0.10048\ttest-rmse:11.87495+0.39845\n"
     ]
    },
    {
     "name": "stdout",
     "output_type": "stream",
     "text": [
      "[350]\ttrain-rmse:10.81866+0.10011\ttest-rmse:11.86113+0.40137\n"
     ]
    },
    {
     "name": "stdout",
     "output_type": "stream",
     "text": [
      "[400]\ttrain-rmse:10.68457+0.10158\ttest-rmse:11.85091+0.39757\n"
     ]
    },
    {
     "name": "stdout",
     "output_type": "stream",
     "text": [
      "[450]\ttrain-rmse:10.55877+0.10075\ttest-rmse:11.84626+0.39621\n"
     ]
    },
    {
     "name": "stdout",
     "output_type": "stream",
     "text": [
      "[478]\ttrain-rmse:10.49045+0.10039\ttest-rmse:11.84798+0.39732\n"
     ]
    },
    {
     "name": "stderr",
     "output_type": "stream",
     "text": [
      "\r",
      " 20%|████████████████████████████████████████████▍                                                                                                                                                                                 | 2/10 [01:33<06:19, 47.40s/it]"
     ]
    },
    {
     "name": "stdout",
     "output_type": "stream",
     "text": [
      "[0]\ttrain-rmse:17.10644+0.11893\ttest-rmse:17.10351+0.49326\n"
     ]
    },
    {
     "name": "stdout",
     "output_type": "stream",
     "text": [
      "[50]\ttrain-rmse:13.09271+0.07182\ttest-rmse:13.25868+0.35908\n"
     ]
    },
    {
     "name": "stdout",
     "output_type": "stream",
     "text": [
      "[100]\ttrain-rmse:11.99585+0.06576\ttest-rmse:12.32161+0.31154\n"
     ]
    },
    {
     "name": "stdout",
     "output_type": "stream",
     "text": [
      "[150]\ttrain-rmse:11.58141+0.06261\ttest-rmse:12.04624+0.29444\n"
     ]
    },
    {
     "name": "stdout",
     "output_type": "stream",
     "text": [
      "[200]\ttrain-rmse:11.32872+0.06053\ttest-rmse:11.93152+0.28736\n"
     ]
    },
    {
     "name": "stdout",
     "output_type": "stream",
     "text": [
      "[250]\ttrain-rmse:11.13510+0.05762\ttest-rmse:11.87188+0.28080\n"
     ]
    },
    {
     "name": "stdout",
     "output_type": "stream",
     "text": [
      "[300]\ttrain-rmse:10.96916+0.05580\ttest-rmse:11.84045+0.27429\n"
     ]
    },
    {
     "name": "stdout",
     "output_type": "stream",
     "text": [
      "[350]\ttrain-rmse:10.82354+0.05601\ttest-rmse:11.82014+0.26627\n"
     ]
    },
    {
     "name": "stdout",
     "output_type": "stream",
     "text": [
      "[400]\ttrain-rmse:10.68803+0.05568\ttest-rmse:11.81010+0.25996\n"
     ]
    },
    {
     "name": "stdout",
     "output_type": "stream",
     "text": [
      "[450]\ttrain-rmse:10.56373+0.05642\ttest-rmse:11.80338+0.25371\n"
     ]
    },
    {
     "name": "stdout",
     "output_type": "stream",
     "text": [
      "[487]\ttrain-rmse:10.47444+0.05604\ttest-rmse:11.80450+0.25038\n"
     ]
    },
    {
     "name": "stderr",
     "output_type": "stream",
     "text": [
      "\r",
      " 30%|██████████████████████████████████████████████████████████████████▌                                                                                                                                                           | 3/10 [02:04<04:39, 39.97s/it]"
     ]
    },
    {
     "name": "stdout",
     "output_type": "stream",
     "text": [
      "[0]\ttrain-rmse:17.10511+0.07595\ttest-rmse:17.10591+0.30710\n"
     ]
    },
    {
     "name": "stdout",
     "output_type": "stream",
     "text": [
      "[50]\ttrain-rmse:13.09561+0.04855\ttest-rmse:13.26553+0.30278\n"
     ]
    },
    {
     "name": "stdout",
     "output_type": "stream",
     "text": [
      "[100]\ttrain-rmse:11.99936+0.05333\ttest-rmse:12.32213+0.24665\n"
     ]
    },
    {
     "name": "stdout",
     "output_type": "stream",
     "text": [
      "[150]\ttrain-rmse:11.58301+0.05701\ttest-rmse:12.04315+0.22216\n"
     ]
    },
    {
     "name": "stdout",
     "output_type": "stream",
     "text": [
      "[200]\ttrain-rmse:11.32825+0.06016\ttest-rmse:11.92752+0.21261\n"
     ]
    },
    {
     "name": "stdout",
     "output_type": "stream",
     "text": [
      "[250]\ttrain-rmse:11.13590+0.06207\ttest-rmse:11.86560+0.21213\n"
     ]
    },
    {
     "name": "stdout",
     "output_type": "stream",
     "text": [
      "[300]\ttrain-rmse:10.96900+0.06282\ttest-rmse:11.82953+0.21177\n"
     ]
    },
    {
     "name": "stdout",
     "output_type": "stream",
     "text": [
      "[350]\ttrain-rmse:10.82206+0.06449\ttest-rmse:11.81158+0.21513\n"
     ]
    },
    {
     "name": "stdout",
     "output_type": "stream",
     "text": [
      "[400]\ttrain-rmse:10.68823+0.06632\ttest-rmse:11.80171+0.21611\n"
     ]
    },
    {
     "name": "stdout",
     "output_type": "stream",
     "text": [
      "[450]\ttrain-rmse:10.56341+0.06696\ttest-rmse:11.79517+0.21715\n"
     ]
    },
    {
     "name": "stdout",
     "output_type": "stream",
     "text": [
      "[485]\ttrain-rmse:10.47867+0.06831\ttest-rmse:11.79422+0.22144\n"
     ]
    },
    {
     "name": "stderr",
     "output_type": "stream",
     "text": [
      "\r",
      " 40%|████████████████████████████████████████████████████████████████████████████████████████▊                                                                                                                                     | 4/10 [02:35<03:36, 36.12s/it]"
     ]
    },
    {
     "name": "stdout",
     "output_type": "stream",
     "text": [
      "[0]\ttrain-rmse:17.10415+0.08384\ttest-rmse:17.10673+0.33563\n"
     ]
    },
    {
     "name": "stdout",
     "output_type": "stream",
     "text": [
      "[50]\ttrain-rmse:13.09465+0.10002\ttest-rmse:13.28191+0.47758\n"
     ]
    },
    {
     "name": "stdout",
     "output_type": "stream",
     "text": [
      "[100]\ttrain-rmse:11.99470+0.09810\ttest-rmse:12.34024+0.46867\n"
     ]
    },
    {
     "name": "stdout",
     "output_type": "stream",
     "text": [
      "[150]\ttrain-rmse:11.58180+0.09976\ttest-rmse:12.06761+0.45018\n"
     ]
    },
    {
     "name": "stdout",
     "output_type": "stream",
     "text": [
      "[200]\ttrain-rmse:11.32926+0.09796\ttest-rmse:11.95040+0.43640\n"
     ]
    },
    {
     "name": "stdout",
     "output_type": "stream",
     "text": [
      "[250]\ttrain-rmse:11.13587+0.09588\ttest-rmse:11.89333+0.42254\n"
     ]
    },
    {
     "name": "stdout",
     "output_type": "stream",
     "text": [
      "[300]\ttrain-rmse:10.97074+0.09563\ttest-rmse:11.86104+0.41398\n"
     ]
    },
    {
     "name": "stdout",
     "output_type": "stream",
     "text": [
      "[350]\ttrain-rmse:10.82477+0.09350\ttest-rmse:11.84100+0.40673\n"
     ]
    },
    {
     "name": "stdout",
     "output_type": "stream",
     "text": [
      "[400]\ttrain-rmse:10.69125+0.09429\ttest-rmse:11.82979+0.39971\n"
     ]
    },
    {
     "name": "stdout",
     "output_type": "stream",
     "text": [
      "[450]\ttrain-rmse:10.56386+0.09556\ttest-rmse:11.82436+0.39375\n"
     ]
    },
    {
     "name": "stdout",
     "output_type": "stream",
     "text": [
      "[470]\ttrain-rmse:10.51470+0.09505\ttest-rmse:11.82328+0.39184\n"
     ]
    },
    {
     "name": "stderr",
     "output_type": "stream",
     "text": [
      "\r",
      " 50%|███████████████████████████████████████████████████████████████████████████████████████████████████████████████                                                                                                               | 5/10 [03:04<02:48, 33.72s/it]"
     ]
    },
    {
     "name": "stdout",
     "output_type": "stream",
     "text": [
      "[0]\ttrain-rmse:17.10537+0.07340\ttest-rmse:17.10770+0.29727\n"
     ]
    },
    {
     "name": "stdout",
     "output_type": "stream",
     "text": [
      "[50]\ttrain-rmse:13.09360+0.06688\ttest-rmse:13.26721+0.25767\n"
     ]
    },
    {
     "name": "stdout",
     "output_type": "stream",
     "text": [
      "[100]\ttrain-rmse:11.99560+0.07064\ttest-rmse:12.31946+0.26849\n"
     ]
    },
    {
     "name": "stdout",
     "output_type": "stream",
     "text": [
      "[150]\ttrain-rmse:11.58233+0.07175\ttest-rmse:12.04521+0.26704\n"
     ]
    },
    {
     "name": "stdout",
     "output_type": "stream",
     "text": [
      "[200]\ttrain-rmse:11.32861+0.07187\ttest-rmse:11.92609+0.26345\n"
     ]
    },
    {
     "name": "stdout",
     "output_type": "stream",
     "text": [
      "[250]\ttrain-rmse:11.13466+0.07085\ttest-rmse:11.86878+0.26122\n"
     ]
    },
    {
     "name": "stdout",
     "output_type": "stream",
     "text": [
      "[300]\ttrain-rmse:10.97043+0.07211\ttest-rmse:11.83761+0.25852\n"
     ]
    },
    {
     "name": "stdout",
     "output_type": "stream",
     "text": [
      "[350]\ttrain-rmse:10.82371+0.07447\ttest-rmse:11.81939+0.25386\n"
     ]
    },
    {
     "name": "stdout",
     "output_type": "stream",
     "text": [
      "[400]\ttrain-rmse:10.68860+0.07483\ttest-rmse:11.80768+0.25450\n"
     ]
    },
    {
     "name": "stdout",
     "output_type": "stream",
     "text": [
      "[450]\ttrain-rmse:10.56270+0.07528\ttest-rmse:11.80339+0.25163\n"
     ]
    },
    {
     "name": "stdout",
     "output_type": "stream",
     "text": [
      "[500]\ttrain-rmse:10.44382+0.07669\ttest-rmse:11.79706+0.25253\n"
     ]
    },
    {
     "name": "stdout",
     "output_type": "stream",
     "text": [
      "[550]\ttrain-rmse:10.33016+0.07790\ttest-rmse:11.79502+0.25464\n"
     ]
    },
    {
     "name": "stdout",
     "output_type": "stream",
     "text": [
      "[583]\ttrain-rmse:10.25891+0.07816\ttest-rmse:11.79468+0.25637\n"
     ]
    },
    {
     "name": "stderr",
     "output_type": "stream",
     "text": [
      "\r",
      " 60%|█████████████████████████████████████████████████████████████████████████████████████████████████████████████████████████████████████▏                                                                                        | 6/10 [03:42<02:20, 35.05s/it]"
     ]
    },
    {
     "name": "stdout",
     "output_type": "stream",
     "text": [
      "[0]\ttrain-rmse:17.10562+0.10033\ttest-rmse:17.10481+0.40104\n"
     ]
    },
    {
     "name": "stdout",
     "output_type": "stream",
     "text": [
      "[50]\ttrain-rmse:13.09328+0.02192\ttest-rmse:13.28803+0.17212\n"
     ]
    },
    {
     "name": "stdout",
     "output_type": "stream",
     "text": [
      "[100]\ttrain-rmse:11.99358+0.01697\ttest-rmse:12.34825+0.10955\n"
     ]
    },
    {
     "name": "stdout",
     "output_type": "stream",
     "text": [
      "[150]\ttrain-rmse:11.57817+0.02552\ttest-rmse:12.07419+0.11896\n"
     ]
    },
    {
     "name": "stdout",
     "output_type": "stream",
     "text": [
      "[200]\ttrain-rmse:11.32309+0.02959\ttest-rmse:11.95753+0.13249\n"
     ]
    },
    {
     "name": "stdout",
     "output_type": "stream",
     "text": [
      "[250]\ttrain-rmse:11.13166+0.03229\ttest-rmse:11.89613+0.14265\n"
     ]
    },
    {
     "name": "stdout",
     "output_type": "stream",
     "text": [
      "[300]\ttrain-rmse:10.96807+0.03202\ttest-rmse:11.86246+0.14781\n"
     ]
    },
    {
     "name": "stdout",
     "output_type": "stream",
     "text": [
      "[350]\ttrain-rmse:10.82127+0.03188\ttest-rmse:11.84492+0.14701\n"
     ]
    },
    {
     "name": "stdout",
     "output_type": "stream",
     "text": [
      "[400]\ttrain-rmse:10.68659+0.03149\ttest-rmse:11.83521+0.14651\n"
     ]
    },
    {
     "name": "stdout",
     "output_type": "stream",
     "text": [
      "[450]\ttrain-rmse:10.55963+0.03009\ttest-rmse:11.83063+0.14909\n"
     ]
    },
    {
     "name": "stdout",
     "output_type": "stream",
     "text": [
      "[500]\ttrain-rmse:10.44011+0.03062\ttest-rmse:11.82457+0.14862\n"
     ]
    },
    {
     "name": "stdout",
     "output_type": "stream",
     "text": [
      "[529]\ttrain-rmse:10.37377+0.03052\ttest-rmse:11.82696+0.14918\n"
     ]
    },
    {
     "name": "stderr",
     "output_type": "stream",
     "text": [
      "\r",
      " 70%|██████████████████████████████████████████████████████████████▉                           | 7/10 [04:35<02:02, 40.93s/it]                                                                                                                                    "
     ]
    },
    {
     "name": "stdout",
     "output_type": "stream",
     "text": [
      "[0]\ttrain-rmse:17.10299+0.20763\ttest-rmse:17.08807+0.81216\n"
     ]
    },
    {
     "name": "stdout",
     "output_type": "stream",
     "text": [
      "[50]\ttrain-rmse:13.08744+0.12035\ttest-rmse:13.27249+0.68500\n"
     ]
    },
    {
     "name": "stdout",
     "output_type": "stream",
     "text": [
      "[100]\ttrain-rmse:11.98814+0.10146\ttest-rmse:12.34767+0.56271\n"
     ]
    },
    {
     "name": "stdout",
     "output_type": "stream",
     "text": [
      "[150]\ttrain-rmse:11.57019+0.09786\ttest-rmse:12.09092+0.50935\n"
     ]
    },
    {
     "name": "stdout",
     "output_type": "stream",
     "text": [
      "[200]\ttrain-rmse:11.31298+0.09679\ttest-rmse:11.98681+0.47902\n"
     ]
    },
    {
     "name": "stdout",
     "output_type": "stream",
     "text": [
      "[250]\ttrain-rmse:11.11858+0.09845\ttest-rmse:11.93230+0.45803\n"
     ]
    },
    {
     "name": "stdout",
     "output_type": "stream",
     "text": [
      "[300]\ttrain-rmse:10.95170+0.09902\ttest-rmse:11.90507+0.44844\n"
     ]
    },
    {
     "name": "stdout",
     "output_type": "stream",
     "text": [
      "[350]\ttrain-rmse:10.80317+0.10027\ttest-rmse:11.88717+0.43953\n"
     ]
    },
    {
     "name": "stdout",
     "output_type": "stream",
     "text": [
      "[400]\ttrain-rmse:10.66793+0.10143\ttest-rmse:11.88280+0.43369\n"
     ]
    },
    {
     "name": "stdout",
     "output_type": "stream",
     "text": [
      "[445]\ttrain-rmse:10.55432+0.10127\ttest-rmse:11.88043+0.43094\n"
     ]
    },
    {
     "name": "stderr",
     "output_type": "stream",
     "text": [
      "\r",
      " 80%|████████████████████████████████████████████████████████████████████████                  | 8/10 [05:27<01:28, 44.39s/it]"
     ]
    },
    {
     "name": "stdout",
     "output_type": "stream",
     "text": [
      "[0]\ttrain-rmse:17.10380+0.20041\ttest-rmse:17.09010+0.83782\n"
     ]
    },
    {
     "name": "stdout",
     "output_type": "stream",
     "text": [
      "[50]\ttrain-rmse:13.08858+0.11819\ttest-rmse:13.28308+0.68788\n"
     ]
    },
    {
     "name": "stdout",
     "output_type": "stream",
     "text": [
      "[100]\ttrain-rmse:11.98741+0.09074\ttest-rmse:12.35903+0.52950\n"
     ]
    },
    {
     "name": "stdout",
     "output_type": "stream",
     "text": [
      "[150]\ttrain-rmse:11.56989+0.07747\ttest-rmse:12.09081+0.43778\n"
     ]
    },
    {
     "name": "stdout",
     "output_type": "stream",
     "text": [
      "[200]\ttrain-rmse:11.32093+0.07502\ttest-rmse:11.98221+0.38402\n"
     ]
    },
    {
     "name": "stdout",
     "output_type": "stream",
     "text": [
      "[250]\ttrain-rmse:11.12634+0.07265\ttest-rmse:11.92398+0.35429\n"
     ]
    },
    {
     "name": "stdout",
     "output_type": "stream",
     "text": [
      "[300]\ttrain-rmse:10.96277+0.07361\ttest-rmse:11.89409+0.33488\n"
     ]
    },
    {
     "name": "stdout",
     "output_type": "stream",
     "text": [
      "[350]\ttrain-rmse:10.81433+0.07278\ttest-rmse:11.86947+0.32068\n"
     ]
    },
    {
     "name": "stdout",
     "output_type": "stream",
     "text": [
      "[400]\ttrain-rmse:10.67946+0.07422\ttest-rmse:11.85818+0.31656\n"
     ]
    },
    {
     "name": "stdout",
     "output_type": "stream",
     "text": [
      "[450]\ttrain-rmse:10.55449+0.07302\ttest-rmse:11.85195+0.30461\n"
     ]
    },
    {
     "name": "stdout",
     "output_type": "stream",
     "text": [
      "[500]\ttrain-rmse:10.43537+0.07490\ttest-rmse:11.85155+0.29813\n"
     ]
    },
    {
     "name": "stdout",
     "output_type": "stream",
     "text": [
      "[544]\ttrain-rmse:10.33454+0.07679\ttest-rmse:11.85054+0.29661\n"
     ]
    },
    {
     "name": "stderr",
     "output_type": "stream",
     "text": [
      "\r",
      " 90%|███████████████████████████████████████████████████████████████████████████████████████████████████████████████████████████████████████████████████████████████████████████████████████████████████████▊                      | 9/10 [06:20<00:47, 47.31s/it]"
     ]
    },
    {
     "name": "stdout",
     "output_type": "stream",
     "text": [
      "[0]\ttrain-rmse:17.10576+0.13578\ttest-rmse:17.10085+0.55078\n"
     ]
    },
    {
     "name": "stdout",
     "output_type": "stream",
     "text": [
      "[50]\ttrain-rmse:13.09345+0.08966\ttest-rmse:13.27268+0.49308\n"
     ]
    },
    {
     "name": "stdout",
     "output_type": "stream",
     "text": [
      "[100]\ttrain-rmse:11.99423+0.07845\ttest-rmse:12.33685+0.41831\n"
     ]
    },
    {
     "name": "stdout",
     "output_type": "stream",
     "text": [
      "[150]\ttrain-rmse:11.57972+0.08004\ttest-rmse:12.06619+0.38328\n"
     ]
    },
    {
     "name": "stdout",
     "output_type": "stream",
     "text": [
      "[200]\ttrain-rmse:11.32707+0.07854\ttest-rmse:11.95200+0.36961\n"
     ]
    },
    {
     "name": "stdout",
     "output_type": "stream",
     "text": [
      "[250]\ttrain-rmse:11.13604+0.07567\ttest-rmse:11.89363+0.36038\n"
     ]
    },
    {
     "name": "stdout",
     "output_type": "stream",
     "text": [
      "[300]\ttrain-rmse:10.97135+0.07525\ttest-rmse:11.85784+0.35250\n"
     ]
    },
    {
     "name": "stdout",
     "output_type": "stream",
     "text": [
      "[350]\ttrain-rmse:10.82347+0.07293\ttest-rmse:11.84274+0.34675\n"
     ]
    },
    {
     "name": "stdout",
     "output_type": "stream",
     "text": [
      "[400]\ttrain-rmse:10.68953+0.07185\ttest-rmse:11.83001+0.33863\n"
     ]
    },
    {
     "name": "stdout",
     "output_type": "stream",
     "text": [
      "[450]\ttrain-rmse:10.56341+0.07131\ttest-rmse:11.82300+0.33507\n"
     ]
    },
    {
     "name": "stdout",
     "output_type": "stream",
     "text": [
      "[500]\ttrain-rmse:10.44478+0.07179\ttest-rmse:11.81719+0.32861\n"
     ]
    },
    {
     "name": "stdout",
     "output_type": "stream",
     "text": [
      "[541]\ttrain-rmse:10.35202+0.07039\ttest-rmse:11.81621+0.32661\n"
     ]
    },
    {
     "name": "stderr",
     "output_type": "stream",
     "text": [
      "\r",
      "100%|█████████████████████████████████████████████████████████████████████████████████████████████████████████████████████████████████████████████████████████████████████████████████████████████████████████████████████████████| 10/10 [07:29<00:00, 53.85s/it]"
     ]
    },
    {
     "name": "stderr",
     "output_type": "stream",
     "text": [
      "\r",
      "100%|█████████████████████████████████████████████████████████████████████████████████████████████████████████████████████████████████████████████████████████████████████████████████████████████████████████████████████████████| 10/10 [07:29<00:00, 44.93s/it]"
     ]
    },
    {
     "name": "stderr",
     "output_type": "stream",
     "text": [
      "\n"
     ]
    }
   ],
   "source": [
    "if param.get(\"eval_metric\", \"mae\") == \"rmse\":\n",
    "    score_key = \"test-rmse-mean\"\n",
    "    ylabel = \"Test RMSE Mean\"\n",
    "    title = \"Learning Curve: Test RMSE vs Boosting Rounds\"\n",
    "elif param.get(\"eval_metric\", \"mae\") == \"mae\":\n",
    "    score_key = \"test-mae-mean\"\n",
    "    ylabel = \"Test MAE Mean\"\n",
    "    title = \"Learning Curve: Test MAE vs Boosting Rounds\"\n",
    "elif param.get(\"eval_metric\", \"mae\") == \"logloss\":\n",
    "    score_key = \"test-logloss-mean\"\n",
    "    ylabel = \"Test Logloss Mean\"\n",
    "    title = \"Learning Curve: Test Logloss vs Boosting Rounds\"\n",
    "\n",
    "\n",
    "for i in tqdm(range(repeat_cv), leave=True, dynamic_ncols=True): \n",
    "    cv_result = xgb.cv(\n",
    "        params=param,\n",
    "        dtrain=dtrain,\n",
    "        obj=cauchyobj,\n",
    "        num_boost_round=num_boost_round,\n",
    "        folds=KFold(n_splits=folds_splits, shuffle=True, random_state=i),\n",
    "        early_stopping_rounds=early_stopping_rounds,\n",
    "        verbose_eval=50\n",
    "    )\n",
    "    \"\"\"\n",
    "    train-mae-mean: 各fold における訓練データの MAE の平均値。\n",
    "    train-mae-std: 訓練データの MAE の標準偏差。\n",
    "    test-mae-mean: 各fold における検証データの MAE の平均値。\n",
    "    test-mae-std: 検証データの MAE の標準偏差。\n",
    "    \"\"\"\n",
    "    xgb_cv.append(cv_result)\n",
    "    \n",
    "\n",
    "\n",
    "\n",
    "# 各 repeater ごとの最適ブーストラウンド数と検証MAE\n",
    "iteration_counts = [np.argmin(cv[score_key].values) for cv in xgb_cv]\n",
    "val_mae = [np.min(cv[score_key].values) for cv in xgb_cv]\n",
    "\n",
    "mean_iteration = np.mean(iteration_counts)\n",
    "mean_val_mae = np.mean(val_mae)\n",
    "min_val_mae = np.min(val_mae)\n",
    "results.append(f\"mean_iteration: {mean_iteration}\")\n",
    "results.append(f\"mean_val_{param['eval_metric']}: {mean_val_mae}\")\n",
    "results.append(f\"min_val_{param['eval_metric']}: {min_val_mae}\")\n",
    "results.append(\"\")\n",
    "\n",
    "###\n",
    "plt.figure(figsize=(10, 6))\n",
    "for i, cv_result in enumerate(xgb_cv):\n",
    "    rounds = np.arange(len(cv_result[score_key]))\n",
    "    plt.plot(rounds, cv_result[score_key], label=f\"CV repeater {i+1}\")\n",
    "    \n",
    "plt.xlabel(\"Boosting Round\")\n",
    "plt.ylabel(ylabel)\n",
    "plt.title(title)\n",
    "plt.legend()\n",
    "plt.grid(True)\n",
    "\n",
    "plt.savefig(os.path.join(OUTPUT_PATH, f\"learning_curve_{PREDICT_YEAR}.png\"))\n",
    "plt.close()\n",
    "###\n"
   ]
  },
  {
   "cell_type": "code",
   "execution_count": 22,
   "id": "d4e54dcc",
   "metadata": {
    "execution": {
     "iopub.execute_input": "2025-03-14T16:07:01.403979Z",
     "iopub.status.busy": "2025-03-14T16:07:01.403979Z",
     "iopub.status.idle": "2025-03-14T16:07:01.423480Z",
     "shell.execute_reply": "2025-03-14T16:07:01.419383Z"
    },
    "papermill": {
     "duration": 0.099268,
     "end_time": "2025-03-14T16:07:01.433379",
     "exception": false,
     "start_time": "2025-03-14T16:07:01.334111",
     "status": "completed"
    },
    "tags": []
   },
   "outputs": [
    {
     "name": "stdout",
     "output_type": "stream",
     "text": [
      "最適ブーストラウンド数: [484, 454, 463, 460, 445, 558, 504, 421, 519, 517]\n",
      "test-rmse-mean: [11.854363073717913, 11.846119810806874, 11.802715157100971, 11.793401140368825, 11.823128645045134, 11.793557680648405, 11.824251871615587, 11.879219759226519, 11.849135881961724, 11.815124692602224]\n"
     ]
    }
   ],
   "source": [
    "print(\"最適ブーストラウンド数:\", iteration_counts)\n",
    "print(f\"{score_key}:\", val_mae)\n",
    "results.append(f\"最適ブーストラウンド: {iteration_counts}\")\n",
    "results.append(f\"{score_key}: {val_mae}\")\n",
    "results.append(\"\")"
   ]
  },
  {
   "cell_type": "code",
   "execution_count": 23,
   "id": "b523c4ef",
   "metadata": {
    "execution": {
     "iopub.execute_input": "2025-03-14T16:07:01.672025Z",
     "iopub.status.busy": "2025-03-14T16:07:01.672025Z",
     "iopub.status.idle": "2025-03-14T16:13:17.273118Z",
     "shell.execute_reply": "2025-03-14T16:13:17.272111Z"
    },
    "papermill": {
     "duration": 375.699923,
     "end_time": "2025-03-14T16:13:17.309288",
     "exception": false,
     "start_time": "2025-03-14T16:07:01.609365",
     "status": "completed"
    },
    "tags": []
   },
   "outputs": [
    {
     "name": "stderr",
     "output_type": "stream",
     "text": [
      "\r",
      "  0%|                                                                                                                                                                                                                                      | 0/10 [00:00<?, ?it/s]"
     ]
    },
    {
     "name": "stderr",
     "output_type": "stream",
     "text": [
      "C:\\Users\\81809\\AppData\\Local\\Temp\\ipykernel_14940\\3386215446.py:18: FutureWarning: Setting an item of incompatible dtype is deprecated and will raise an error in a future version of pandas. Value '[ 2.02550163e+01  7.46300399e-01  1.76203671e+01  7.07575560e+00\n",
      " -5.79901314e+00 -1.27504027e+00  7.08339739e+00  7.68449068e+00\n",
      "  2.24144287e+01  2.14435220e+00  1.05258818e+01  6.61861086e+00\n",
      "  6.99033451e+00  6.83518600e+00 -4.30143499e+00  2.13846111e+01\n",
      " -2.46673942e+00  7.20805788e+00  9.59158039e+00  2.63556671e+00\n",
      "  4.10523033e+00  3.49765420e+00 -5.52404702e-01 -1.06373727e+00\n",
      "  6.14384651e+00  6.52010679e+00  3.67392540e+00  1.70299702e+01\n",
      "  3.73424196e+00 -7.01307106e+00 -4.37827635e+00  5.34857178e+00\n",
      "  8.52282047e-01  2.00613594e+01  8.46772099e+00 -7.17689943e+00\n",
      " -2.28326941e+00  7.93241692e+00  5.46415377e+00  5.19934225e+00\n",
      "  5.20346344e-01  7.74917030e+00 -3.82638669e+00  1.35438852e+01\n",
      "  2.87379169e+00  5.39040232e+00 -1.09166698e+01  2.82887650e+00\n",
      "  1.50579643e+01 -9.93759334e-01  2.14662895e+01 -1.58706057e+00\n",
      "  5.11455202e+00  4.81213093e+00 -3.84457183e+00  7.54193544e+00\n",
      "  1.82770169e+00  5.62187672e+00  1.91024351e+00  9.40518761e+00\n",
      " -5.93645906e+00 -9.13619578e-01  1.22149718e+00  2.34584026e+01\n",
      " -1.48262215e+00  8.17137432e+00  3.11771107e+00 -5.96579456e+00\n",
      "  1.17812490e+01 -2.82621455e+00  4.85185337e+00  2.37506104e+01\n",
      " -5.79696321e+00 -3.04053164e+00  2.91618681e+00  5.47359133e+00\n",
      " -3.21795678e+00  6.03414249e+00  1.60835705e+01  2.04212666e+01\n",
      "  2.46082902e+00 -4.80735159e+00  1.48078239e+00 -5.00952542e-01\n",
      "  8.06928635e-01  3.23414087e+00  1.61652493e+00 -1.03620234e+01\n",
      " -3.20795155e+00 -2.63599777e+00  9.79191875e+00  6.43356037e+00\n",
      "  3.66225648e+00  1.44580305e+00 -2.87283230e+00  1.83273945e+01\n",
      "  1.77211380e+00  5.71872950e+00  2.08717155e+01 -1.65669429e+00\n",
      " -4.71827316e+00  1.58341408e+01  1.97226963e+01  1.26505575e+01\n",
      "  4.10053825e+00 -6.21623373e+00 -6.25855148e-01  1.27411098e+01\n",
      "  6.01460505e+00 -4.29543924e+00  1.06511176e+00 -4.87427187e+00\n",
      "  6.02700520e+00 -6.58819294e+00 -1.51458702e+01  4.79682398e+00\n",
      "  3.40349615e-01  7.84608662e-01  3.10607624e+00  3.10463023e+00\n",
      "  2.80608296e+00  1.42781365e+00  1.07462273e+01  1.01647787e+01\n",
      "  7.51278591e+00  5.56173515e+00  1.12320929e+01 -2.19399953e+00\n",
      " -2.02177215e+00  3.25727725e+00  1.96695385e+01 -2.44977283e+00\n",
      "  1.22237415e+01 -1.35200453e+01 -6.96277189e+00  1.48173485e+01\n",
      "  2.82225800e+00  8.29474449e+00  8.23120022e+00 -1.53682292e+00\n",
      "  1.46549392e+00 -3.59371781e+00  8.04590893e+00  4.95482683e+00\n",
      "  1.84923267e+00 -1.55984962e+00  1.05971603e+01  9.26578104e-01\n",
      "  6.84277534e+00 -1.52645981e+00  1.69644547e+00  1.46872950e+00\n",
      "  2.05344963e+01  1.69021759e+01  9.55104542e+00  5.10411930e+00\n",
      "  5.24755287e+00  2.43984342e+00  1.85916007e-01  1.21993077e+00\n",
      "  1.64677942e+00 -2.75536925e-01  9.99499226e+00  1.38029356e+01\n",
      " -1.49432981e+00  3.42667580e+00 -6.55924603e-02  3.53277469e+00\n",
      "  2.13741279e+00  3.96916676e+00  7.05987120e+00  1.73136818e+00\n",
      " -2.17629576e+00 -4.96360898e-01  5.58035374e+00  7.92664528e-01\n",
      "  1.89805393e+01  3.02375674e+00  6.70123100e+00  3.46277165e+00\n",
      " -2.02618289e+00  3.72856975e+00  8.65358448e+00 -7.97728920e+00\n",
      "  4.30471373e+00  2.11186466e+01  1.16025066e+01 -5.87349713e-01\n",
      "  2.17744684e+00  6.38680124e+00  3.52265978e+00  1.52332964e+01\n",
      " -1.03059590e+00  3.79088950e+00  8.00015926e+00  5.51967430e+00\n",
      "  3.15546560e+00  1.00540791e+01  1.51054993e+01  1.17895460e+01\n",
      "  2.26861548e+00 -2.39783688e+01  5.03297997e+00  3.81517959e+00\n",
      "  7.10640430e+00  4.65437412e+00  3.91396737e+00  4.59465456e+00\n",
      "  4.76438951e+00  1.69444895e+00  1.94437294e+01  9.63598537e+00\n",
      "  2.98619995e+01  4.35065422e+01  2.73153038e+01  2.39021034e+01\n",
      "  2.06023388e+01  2.40035667e+01  8.63810158e+00  3.67022097e-01\n",
      "  1.29944038e+01  5.20576286e+00 -4.73921299e+00  5.24176264e+00\n",
      "  1.99635372e+01  2.46364555e+01  9.24075508e+00  2.24360466e+01\n",
      "  1.25514402e+01  1.01867514e+01  8.03431702e+00  9.97586155e+00\n",
      " -2.81699371e+00  3.41929665e+01  1.50397797e+01  4.31265020e+00\n",
      "  3.61002579e+01  4.19632339e+00 -3.35476971e+00  2.19873486e+01\n",
      "  1.98647273e+00  1.29330063e+01  1.60616570e+01  5.56119156e+00\n",
      "  2.89137459e+00  1.14359865e+01  1.94519348e+01  3.52931442e+01\n",
      "  1.37616930e+01 -1.13785768e+00 -9.01271760e-01  1.01612186e+00\n",
      " -1.46048841e+01  5.61177635e+00  1.47011871e+01 -3.45831335e-01\n",
      "  2.10967159e+01  4.39225426e+01 -4.85328388e+00  1.35360861e+00\n",
      "  1.45610332e+01  2.54634476e+00 -5.75549603e+00  7.67255545e+00\n",
      "  2.67488708e+01  1.08034000e+01  8.22748280e+00  5.39021349e+00\n",
      " -2.72194815e+00  2.66503692e+00  2.82679005e+01  1.03023443e+01\n",
      "  1.63586750e+01  1.39508352e+01 -9.99312115e+00  1.35270624e+01\n",
      "  1.17566710e+01  3.78801990e+00 -5.03846025e+00  3.62124014e+00\n",
      "  2.09476280e+00  2.62267542e+00  3.79167900e+01  1.31691246e+01\n",
      "  3.54686241e+01  3.52424431e+01 -9.99917924e-01  2.87579117e+01\n",
      "  7.13638291e-02 -1.40384161e+00  6.71287060e+00  1.29809093e+01\n",
      "  1.31924162e+01  1.39459257e+01  8.95442581e+00  3.92327619e+00\n",
      "  1.23003778e+01 -3.01844096e+00  1.14099054e+01 -3.04804420e+00\n",
      "  1.89722900e+01  2.66256618e+01  1.22191820e+01 -2.34611407e-01\n",
      " -1.26713181e+00  1.11331701e+00  7.99261999e+00 -2.03259315e+01\n",
      " -1.11800261e+01 -1.01848793e+01  2.20509505e+00  4.49712181e+00\n",
      "  8.28324413e+00  9.96765995e+00  3.17889767e+01  1.67428112e+01\n",
      "  3.93599486e+00  3.77038651e+01 -1.56379580e+00  1.04267855e+01\n",
      "  5.43223381e+00  2.28218174e+00  3.42411256e+00  2.12625957e+00\n",
      "  1.95223105e+00  5.63167048e+00 -4.98055887e+00  7.28651905e+00\n",
      " -6.62027419e-01  7.31897163e+00 -4.91244268e+00  1.92270432e+01\n",
      "  1.29038467e+01 -1.15577106e+01  2.18487701e+01 -6.71875048e+00\n",
      " -4.27274019e-01  9.69189644e+00 -3.60287380e+00 -1.27901936e+01\n",
      " -2.78062558e+00 -2.32806969e+01 -1.71610699e+01 -8.81546497e+00\n",
      " -5.02825689e+00  3.78885078e+00 -5.04917097e+00  1.23915672e+00\n",
      " -4.30995989e+00 -4.49652910e+00 -5.36466312e+00  5.61672068e+00\n",
      " -7.57591915e+00 -3.94354773e+00 -1.82024574e+01  2.14632893e+00\n",
      "  4.63992834e+00 -5.69115400e+00 -3.93151569e+00  2.32340074e+00\n",
      "  6.94819260e+00 -3.48886132e+00 -7.36274433e+00 -3.52592492e+00\n",
      " -1.84198594e+00 -1.59764433e+00 -2.21877937e+01 -4.26364034e-01\n",
      "  2.12856627e+00 -6.44988060e+00 -6.59348059e+00 -6.15688515e+00\n",
      " -7.79229116e+00 -7.57150507e+00 -2.73631477e+00 -5.98548079e+00\n",
      "  5.12634575e-01 -5.71336555e+00  2.75599033e-01  2.22505116e+00\n",
      " -1.10783319e+01 -7.03204966e+00 -5.85366535e+00 -2.79169703e+00\n",
      " -9.49184132e+00 -3.82553220e+00 -1.64187832e+01 -2.50726452e+01\n",
      " -3.57204461e+00 -1.82742214e+01 -2.29863453e+00 -6.91732359e+00\n",
      " -2.28428507e+00 -1.92310715e+00 -7.96113873e+00 -1.49203762e-01\n",
      " -6.73071766e+00 -2.46530724e+01  2.88955379e+00 -2.17059898e+01\n",
      " -6.48957539e+00 -1.14401026e+01  4.66015768e+00  3.00684214e+00\n",
      " -9.33570099e+00  3.11584973e+00 -4.91365242e+00 -5.40668440e+00\n",
      " -3.87556744e+00 -6.10494566e+00 -9.40201759e+00 -1.51960754e+00\n",
      "  3.87251544e+00  9.93319554e-04 -1.19753780e+01 -6.08519459e+00\n",
      "  2.29154873e+00  2.56780696e+00  6.84347272e-01 -5.91711664e+00\n",
      " -3.65562463e+00  6.41261816e+00 -1.14327192e+01  3.66300058e+00\n",
      " -1.06543837e+01 -2.74344277e+00 -9.42569637e+00 -4.41320896e+00\n",
      " -2.02336001e+00 -1.14428186e+01 -3.23330307e+00 -2.22982731e+01\n",
      " -1.56063204e+01 -1.85667658e+00 -1.46347225e+00 -2.37608051e+00\n",
      " -2.76534605e+00 -2.37664080e+00  6.36452734e-02  2.19227743e+00\n",
      " -1.31321239e+00 -3.06136990e+01 -4.22537756e+00 -9.23574352e+00\n",
      " -8.46299934e+00  1.26710808e+00  1.70927322e+00 -6.72104454e+00\n",
      " -1.83904004e+00  1.86562395e+00  4.45176847e-02 -9.03634548e+00\n",
      "  2.07290292e+00  6.38430357e+00 -3.61794442e-01 -7.81918955e+00\n",
      " -9.38928008e-01 -1.48088474e+01 -1.27548637e+01 -2.81304264e+00\n",
      " -1.77207255e+00 -2.58678508e+00 -2.35732675e+00 -6.92084122e+00\n",
      " -1.56033726e+01 -9.06053734e+00 -2.33481431e+00  2.72911859e+00\n",
      " -8.67753506e+00 -2.29804707e+01 -2.24427789e-01 -2.85814452e+00\n",
      " -4.57974577e+00  3.22102880e+00  8.05935001e+00 -4.79481928e-02\n",
      "  9.34703171e-01  2.29384661e+00  1.57196772e+00 -1.35627623e+01\n",
      " -8.15602970e+00 -1.73451977e+01 -4.72815561e+00 -4.06503677e+00\n",
      "  1.31573570e+00 -1.03705387e+01  2.22345662e+00 -1.36095977e+00\n",
      " -2.47310600e+01 -2.62113914e+01 -1.70861530e+01 -4.88849401e+00\n",
      " -3.97859001e+00 -4.67317867e+00  4.82685640e-02 -8.89528084e+00\n",
      " -7.85602951e+00 -7.24231720e-01 -1.91884661e+00  2.84983659e+00\n",
      " -1.54574995e+01 -1.95688581e+00  3.94183874e+00 -5.78145313e+00\n",
      "  8.26618576e+00 -6.74514055e+00  5.76798964e+00 -6.99037266e+00\n",
      " -1.72938709e+01 -1.62568626e+01 -3.33145213e+00  6.90058804e+00\n",
      " -1.01467209e+01 -3.10158205e+00 -1.05866921e+00  2.14577770e+00\n",
      " -1.57449636e+01  8.65313187e-02 -1.77005825e+01 -1.58968520e+00\n",
      " -4.95869398e+00 -4.97266197e+00 -3.77251387e+00 -7.73829818e-01\n",
      " -1.53878851e+01  5.96692748e-02  3.82243705e+00  4.18667078e+00\n",
      " -1.04735823e+01  7.50486076e-01 -2.00344992e+00 -6.24717522e+00\n",
      " -3.36496019e+00 -4.36825609e+00 -2.87090445e+00  5.17965078e+00\n",
      " -2.07053852e+01 -3.64138794e+01 -3.32763648e+00 -4.42151928e+00\n",
      " -5.42233133e+00  3.65035796e+00 -1.15856647e+01 -2.87736816e+01\n",
      " -6.17175674e+00  4.48817730e+00  2.54651475e+00 -3.42613106e+01\n",
      " -3.81749840e+01  1.34599984e+00 -3.81631064e+00 -2.59059887e+01\n",
      "  7.06111908e+00 -2.34626789e+01 -2.68048930e+00 -1.04244471e+00\n",
      " -8.79433632e+00 -2.89533577e+01 -9.61458862e-01 -1.60744610e+01\n",
      " -1.81563663e+01 -5.65911007e+00 -2.82284617e+00  4.52790594e+00\n",
      " -4.05649452e+01  1.33862805e+00 -5.76347065e+00 -1.32240744e+01\n",
      "  7.52475977e+00  1.31029308e+00  6.74869490e+00 -1.03917360e+01\n",
      " -3.08039308e+00 -1.73695984e+01 -8.58480930e+00 -7.45988655e+00\n",
      " -2.30084252e+00  2.41192079e+00  5.60847378e+00 -3.04976482e+01\n",
      " -1.17587156e+01 -2.80445361e+00  1.21573095e+01 -3.19751720e+01\n",
      " -4.10095835e+00 -8.79076481e+00 -1.84012461e+00  4.57799339e+00\n",
      " -2.63423705e+00 -2.96605039e+00  7.33715248e+00  3.27633882e+00\n",
      " -1.32591105e+01 -9.25982952e+00 -3.49569016e+01 -5.74359083e+00\n",
      " -2.33356419e+01 -2.86877575e+01 -8.79689121e+00 -1.63829594e+01\n",
      " -1.26306887e+01 -3.03562617e+00 -3.79476662e+01 -3.07855015e+01\n",
      " -1.41242752e+01 -4.65738964e+00 -5.87523270e+00 -3.29252968e+01\n",
      " -8.04798698e+00  8.97120190e+00 -1.08648453e+01 -3.35621119e+00\n",
      " -7.98581982e+00 -1.18239832e+01 -8.48402119e+00 -2.53689232e+01\n",
      " -2.85778427e+01  3.62068248e+00 -4.48261929e+00 -7.94576168e+00\n",
      " -2.43522301e+01 -2.45066094e+00 -2.73604450e+01  1.13738890e+01\n",
      " -1.62220860e+00  8.62930298e+00  3.31652212e+00 -2.68857327e+01\n",
      " -4.58845520e+00 -3.07806778e+01 -1.53150625e+01 -9.21447086e+00\n",
      "  9.67579961e-01  4.82872534e+00 -2.58617306e+01  5.37985754e+00\n",
      " -1.29971647e+01 -2.57805777e+00 -3.40953445e+01 -1.26844044e+01\n",
      "  1.64610176e+01  5.62820435e+00 -1.37885561e+01 -1.49878340e+01\n",
      " -5.33912325e+00  7.94652128e+00]' has dtype incompatible with int64, please explicitly cast to a compatible dtype first.\n",
      "  preds[val_index] = model.predict(dval_i)\n"
     ]
    },
    {
     "name": "stderr",
     "output_type": "stream",
     "text": [
      "\r",
      " 10%|██████████████████████▏                                                                                                                                                                                                       | 1/10 [00:57<08:36, 57.43s/it]"
     ]
    },
    {
     "name": "stderr",
     "output_type": "stream",
     "text": [
      "C:\\Users\\81809\\AppData\\Local\\Temp\\ipykernel_14940\\3386215446.py:18: FutureWarning: Setting an item of incompatible dtype is deprecated and will raise an error in a future version of pandas. Value '[ -7.597755     1.3223708   15.204891    -0.26792476   7.618838\n",
      "   5.3843017   21.07898     -2.1756284   12.643298     6.743933\n",
      "  -3.7874787   -6.0551286    5.6299353    8.564992    -2.880727\n",
      "  23.867367     0.7633942    2.7642002   10.663428     8.998402\n",
      "   8.134407     4.761634     6.9906063    4.4796405   -7.0460253\n",
      "   2.589044     8.08266     -1.7923594   25.393866    16.360184\n",
      "  13.286449     4.2128506    6.5758424   -2.5535944    5.61847\n",
      "   5.8561335   -4.2648892    0.8844154    8.5212555   22.149666\n",
      "  11.729249    11.030889    17.793556     8.29283     16.782326\n",
      "   7.1977696    7.3912635    5.112658    -0.05422129   6.148856\n",
      "   1.0787146   -0.8404529    1.9162453    6.7723627    8.473912\n",
      "  25.288027     6.496832    -0.99595124  10.030515     9.624369\n",
      "   6.2807083    7.2182336   -1.7482933   -3.5292733   -0.7581317\n",
      "   2.5341766   -1.3552176    1.4935721   19.296106    11.650271\n",
      "   1.0313648   29.25409     13.671406     3.9268968   20.239243\n",
      "  -8.170158     6.2676926    6.0222235    2.8525202    3.3869822\n",
      "   0.15348385  -0.67217153  18.526752     8.604124    -2.697772\n",
      " -10.646354     4.6161084    7.9801598    3.129897     1.5896945\n",
      "   2.7920287   -5.167297    -3.6403615   17.41061     -2.518406\n",
      "  -2.580129    -2.763026    13.807914    10.400673    15.426757\n",
      "   4.284568    -5.608683    12.605053     8.398783    11.837231\n",
      "   2.3071306    9.927348    -1.0448595   18.143501    -2.1379914\n",
      "  21.7482      -2.1707158    1.227628    13.7797365   20.195107\n",
      "  -2.9623725    2.318702    -4.0907536   -9.0521345   -6.283961\n",
      "   2.5690851    0.644097     0.79507023  -1.7885065   -2.772846\n",
      "   0.27769315  -5.3946586    6.373568     3.2252815   30.387672\n",
      "   7.534838    27.26874      4.9117603   -0.56903785  10.097223\n",
      "  -8.060502    -5.3374987    0.74888045  -6.6220374   -0.30266538\n",
      "   6.544091    -0.82834923  23.231575    16.679552     3.960606\n",
      "  -0.20661584  -1.313121     0.7195444   -0.1686913   -0.13854459\n",
      "  -3.0524588   -0.5619942    2.6899157   -6.619148    -1.2056735\n",
      "   3.2527034   20.925755     0.90097123   3.1144369    6.32544\n",
      "  -7.9442587    3.1004784   -1.2132698   -4.888594    -3.5905392\n",
      "   0.4559881   30.990677     1.312533     6.9576406   -3.8486006\n",
      "   0.2772474   12.826822    20.305735    10.1876745    3.7774682\n",
      "  -0.78095627  12.22931     -5.7642775  -18.422953    -5.4036684\n",
      "   5.3370776    7.199291    -2.5719683    8.110074    21.492891\n",
      "   9.681928     1.0198185   24.336454    -1.4234645    8.971365\n",
      "  24.366333    -2.757071    -1.7690818    3.476818     1.1979901\n",
      "   5.344061    -5.17393      2.365508    -7.650799     1.264976\n",
      "   3.5113814   -2.7246833   21.849375    -0.946429    15.686487\n",
      "  16.38071     17.3328      -3.3260698   20.609268     2.1717556\n",
      "  -9.77985    -11.353475    11.23834      2.3121946   -1.280754\n",
      "  -3.5921953    5.985105     4.25447      5.0011888   20.373621\n",
      "  -2.768533     1.9592581    5.76883     20.847511    -2.698338\n",
      "   1.3866702   19.49259     28.151476    -7.870517    -3.104321\n",
      "   8.323866    28.565079    38.244747    -1.7090554    4.302193\n",
      "  20.933113     7.497178    22.376085    -7.2271495   -6.355163\n",
      "   7.5509896    9.876506     6.767007    -7.2553077   23.162226\n",
      "   0.17657644  -5.158144    12.385483     1.1325551    2.1010578\n",
      "  12.77938    -12.230862    16.4429      19.997744     0.71381676\n",
      "   7.68473     10.934371     9.27719     33.582916    21.977512\n",
      "   5.6208506   -8.372164    33.31145     14.817709     3.219214\n",
      "   7.6369557   21.286871    45.581745    21.523142    -6.7012506\n",
      "  32.21854     11.558253    36.04346     12.04101      3.2990072\n",
      "   4.6563897   11.446132     7.936881     4.0021806   24.607203\n",
      "  28.830626     8.108502     7.77297      3.6870468   27.750343\n",
      "  -3.7421775   11.699459    26.053076    -1.5077804    2.4111407\n",
      "   0.39980406  13.859024    31.305271     3.181867    18.248371\n",
      "   8.862217    26.331255    -0.7217303   -5.6289725    2.7198656\n",
      "   6.8110147   10.780399     2.1906621    4.288712   -11.904826\n",
      "   1.8368251   -2.3147988   -7.220022    -2.6170795    2.623533\n",
      "  -1.2155834   39.522644    25.844658     7.3437095    6.568903\n",
      "  -5.108523     6.1584187   21.48985     -5.9152412   17.696732\n",
      "   2.058121   -11.3878975  -12.394429    28.04725      4.749199\n",
      "   6.0913706   12.090353   -10.631765     5.2502775  -16.386591\n",
      " -23.108973     3.404189    -1.01564     -0.17012298  -8.420434\n",
      "   4.0625706   -7.4147754    4.4200597   -6.9799166   -6.1804433\n",
      "  -0.5278831    8.799616     1.3411801    2.6742563  -22.05403\n",
      " -25.742632   -21.642832    -5.864841    -1.7882335   -0.59368837\n",
      "  -8.2742405   -3.555062    -2.1942728   -2.5153906   -2.0214942\n",
      "  -0.21110334   4.7320867   -6.597435     1.061192    -9.217376\n",
      "  -8.191624   -19.737795   -13.932964     2.428367     3.4653423\n",
      "   7.9104986  -15.445333     3.1801796    7.5339494   -1.0862136\n",
      "  -2.344773     0.9056226    7.702149    -6.3570633    0.17269343\n",
      "  -7.6867647   -1.7119751  -22.17872     -5.0418587    0.6324248\n",
      "   4.63126      3.34725     -8.309113    -8.22397      1.6331143\n",
      "   3.0741842    0.34829232  -5.8599515  -13.295587    -5.206942\n",
      "  -8.186556     2.069404    -8.346187    -6.7752814   -6.7545557\n",
      "  -3.1041644    0.9796364  -12.455424   -29.453423     1.5095065\n",
      "  -3.8809855  -23.929264    -2.9615276   -3.6182866  -12.616422\n",
      "   0.9024793  -24.871098   -21.57584      0.5509593   -0.64183336\n",
      "  -0.26541534   2.4407353   -6.3297243   15.287728   -29.245481\n",
      "   3.3703542  -16.045176    -3.501341    -1.6332921    4.3599343\n",
      " -11.381199    -4.4600277    1.8879048   -0.09059017  -1.0569878\n",
      "   1.9639884   -3.010674    -1.9416676    6.5111666   -4.162725\n",
      "  10.2169285    6.083472     4.050204    14.867821     0.57539403\n",
      "   3.2797368    1.8059287  -30.811134    -7.6569896   -7.3928847\n",
      "   2.3342624    2.8678098   -3.1039517   -0.05405013  -5.7551293\n",
      "  -9.19715     -0.11399019   2.8695676   -4.064362   -11.70361\n",
      "  -2.7071373   -3.0430126   -7.598029   -16.750948    -2.9857876\n",
      "   7.082205    -1.29349      2.047882    -9.947903     5.535767\n",
      "   6.3233666    0.5438118   -8.240088     3.1078455  -22.456814\n",
      "  -5.4074574   -3.8596656  -23.370731   -11.04122     -1.9267919\n",
      "  -2.665691     0.46080247   4.292859   -22.032276   -22.912643\n",
      "  -3.813028    -6.660427    -4.164534    -2.4819973   -3.9381995\n",
      "  -4.1842213    3.4401479    0.8124427  -22.48791      3.0996304\n",
      "  -0.58911204  -3.7792177    0.45459014  -0.30457985 -19.817692\n",
      " -20.32686     -4.2433004   -1.1712217  -12.687545    -3.655648\n",
      "   3.044996    -1.4726541    1.3625215   -0.13328096  -5.809855\n",
      "  -1.0082961   -6.27183     -3.2121608   -3.9734793   -3.4348426\n",
      "  -2.5669553   -0.5652392   -1.6153594    3.6401632    5.122041\n",
      "  -8.658361    -3.5111039  -22.844604    -5.484001   -16.94731\n",
      " -20.773794     5.8305826    6.674408    -8.052001    -6.4784255\n",
      "   4.69873    -10.731483    -2.2718835   -0.10710086 -16.133001\n",
      "  -6.2336235    2.2732863  -10.849044   -23.028091     4.0249567\n",
      "   2.479076     0.58667296   0.74438804  -6.236637    -3.0915687\n",
      " -29.801657   -44.53606    -28.18794    -25.294905    -1.9073775\n",
      "  -6.77181    -18.592466    -3.1448693   -1.7357287  -19.664528\n",
      "  -4.5088415  -16.227997   -26.542898    -0.9720023   -3.524535\n",
      " -14.87819    -28.590519     4.731001    -6.2074203    6.2154226\n",
      " -11.165119   -17.88819    -30.749897   -10.3262615   -1.7461436\n",
      " -13.175469    -0.56057334  -7.2852583    4.550075    -7.3679967\n",
      " -31.31462    -11.600696   -15.448189   -33.86207     -5.068989\n",
      "   1.9827062  -22.470558   -13.897296    -9.719341    -4.212552\n",
      "  -8.804032     7.2710004   -1.8877056    1.0952971  -32.444035\n",
      " -28.205221   -41.622326     3.8729722   -0.8713614  -14.648696\n",
      "  -2.1258628  -10.058342   -14.874295    -3.2328675  -10.350003\n",
      "  -6.221689    -1.3440092   -3.3558888  -10.373861   -21.770975\n",
      "   4.307472   -34.011173    -8.140089     9.848842   -30.431986\n",
      "   6.542554   -16.302177    -7.823261   -31.990612   -26.729643\n",
      "  -5.297375     2.0732856  -13.400126     2.631965    -3.0781069\n",
      " -13.892006    -4.026183    -0.5625841    1.4080228  -18.728268\n",
      "  -7.520802   -21.188057     0.6414443  -10.906789    -5.25797\n",
      "  -5.906427     1.0340145  -11.490404   -16.990232    -1.658928\n",
      " -17.171934    -5.048756    -1.8503495   -8.118389   -26.42172\n",
      "  -7.1033425   22.8606      13.562852    -6.650971   -37.870384\n",
      " -10.646866   -23.602415    -6.2581544  -24.881224     4.9347606\n",
      " -18.546497    -8.880251   -11.388561   -12.085484   -11.1692295\n",
      "  -4.312018  ]' has dtype incompatible with int64, please explicitly cast to a compatible dtype first.\n",
      "  preds[val_index] = model.predict(dval_i)\n"
     ]
    },
    {
     "name": "stderr",
     "output_type": "stream",
     "text": [
      "\r",
      " 20%|████████████████████████████████████████████▍                                                                                                                                                                                 | 2/10 [01:41<06:38, 49.80s/it]"
     ]
    },
    {
     "name": "stderr",
     "output_type": "stream",
     "text": [
      "C:\\Users\\81809\\AppData\\Local\\Temp\\ipykernel_14940\\3386215446.py:18: FutureWarning: Setting an item of incompatible dtype is deprecated and will raise an error in a future version of pandas. Value '[ 1.03676498e+00 -5.21948338e+00 -6.82708979e+00  1.53632954e-01\n",
      "  8.41545773e+00 -1.51773286e+00  6.05105400e+00  8.65355968e+00\n",
      "  3.62654519e+00 -1.27429688e+00 -3.76418042e+00  2.66313324e+01\n",
      "  2.18416309e+01 -3.26303244e-01  2.35923119e+01  2.52837582e+01\n",
      "  5.16134787e+00  8.75080776e+00  6.41128397e+00 -9.50769615e+00\n",
      "  4.90567398e+00  6.68174696e+00  9.23790550e+00  6.84513617e+00\n",
      "  2.96307921e+00  4.06216288e+00  7.90302038e+00  1.57802260e+00\n",
      " -6.55941486e+00 -4.75487041e+00 -4.69443947e-01  9.09531498e+00\n",
      "  1.07045708e+01  2.95416617e+00  2.50310593e+01 -1.33881855e+00\n",
      "  3.73412919e+00  2.80948391e+01  3.30298924e+00  5.36269522e+00\n",
      "  4.94664335e+00 -7.63633919e+00  5.80857754e+00 -7.87655056e-01\n",
      "  2.44944906e+00  6.51575708e+00 -4.36570883e+00 -6.18425369e+00\n",
      "  7.41028690e+00 -9.77836132e+00  5.19155884e+00  5.96469975e+00\n",
      "  5.55652905e+00 -2.38098550e+00  8.79696465e+00 -6.73772514e-01\n",
      "  4.27153015e+00  1.79403706e+01  6.07143593e+00 -4.87555295e-01\n",
      "  2.18448086e+01 -3.59569025e+00  2.01750469e+00  2.63516998e+01\n",
      "  6.67245722e+00  7.77684307e+00  6.39391851e+00  1.37684762e+00\n",
      "  3.15577126e+00  3.06860995e+00 -1.34516239e+00  2.46337337e+01\n",
      "  8.24100304e+00  3.10012311e-01  4.37389946e+00  1.48478737e+01\n",
      "  3.18484712e+00  1.71867428e+01 -7.25659990e+00  1.85278714e+00\n",
      "  5.13119507e+00  7.06719112e+00 -4.57559633e+00  7.20222056e-01\n",
      "  1.45789242e+01 -4.73784971e+00  2.76560230e+01  4.82602030e-01\n",
      " -4.20226812e-01  1.46756582e+01  5.17159700e+00  2.35572929e+01\n",
      "  4.31295276e-01 -6.59837246e+00  1.01542482e+01  9.55521774e+00\n",
      "  3.91898036e+00 -2.55137324e+00  2.24361777e+00  4.92574835e+00\n",
      "  1.91532767e+00  1.95918007e+01 -3.84794188e+00  7.97761297e+00\n",
      "  2.03816776e+01  5.40224433e-01  2.39687958e+01  5.18083858e+00\n",
      "  4.18405247e+00 -3.70344996e+00  9.09119892e+00 -5.48199224e+00\n",
      " -7.61078179e-01  3.86188567e-01 -7.82833159e-01 -7.12425566e+00\n",
      " -1.75937153e-02  5.47994089e+00 -7.61060536e-01  7.01271057e+00\n",
      "  2.54409580e+01  3.45211911e+00  1.10019102e+01 -2.26317716e+00\n",
      "  1.64794016e+00 -5.56417179e+00 -2.75883913e+00  2.24247050e+00\n",
      "  1.73306033e-01  1.00905681e+00 -1.52262125e+01  1.08283424e+01\n",
      "  1.12155838e+01  2.23189106e+01 -4.85668850e+00 -8.36106956e-01\n",
      "  7.59692144e+00 -6.30660677e+00  9.12186265e-01 -3.10088491e+00\n",
      "  1.30773246e+00  1.74930725e+01  1.19164839e+01  1.80944908e+00\n",
      "  2.26606202e+00 -9.38994646e-01  4.32367468e+00 -6.83016539e+00\n",
      "  3.94599175e+00  1.38511610e+01 -2.21689224e+00  2.69924736e+00\n",
      " -1.76536298e+00  2.26441650e+01  2.51627612e+00  1.81678331e+00\n",
      "  3.05714111e+01  3.89933419e+00  3.61787701e+00  8.69558430e+00\n",
      "  1.03861773e+00  8.88490677e+00 -2.55973506e+00  3.23333931e+00\n",
      "  3.89351249e+00  5.95265532e+00  1.23270149e+01  2.64638081e+01\n",
      "  4.91973734e+00  6.57922840e+00 -3.28300810e+00  7.59356976e+00\n",
      "  2.74420309e+00  4.66086721e+00  2.49515080e+00  2.30298882e+01\n",
      "  4.93058771e-01  4.73986578e+00 -8.92261887e+00  3.25083351e+00\n",
      " -5.74790859e+00 -1.45856786e+00 -1.00194397e+01  6.83875895e+00\n",
      "  7.86199284e+00  3.61472368e+00 -2.60413957e+00  2.10722470e+00\n",
      " -4.12446648e-01 -5.47370720e+00  3.01990724e+00  3.09768200e+01\n",
      "  3.00704441e+01  4.45327454e+01  2.94138279e+01  1.82845879e+01\n",
      " -3.21470165e+00  3.79887843e+00 -1.50675133e-01  1.33143616e+01\n",
      "  9.88797379e+00 -1.20675068e+01  6.70178175e+00  1.75582945e+00\n",
      "  8.90098572e+00  2.92203217e+01  5.86884439e-01  3.95738297e+01\n",
      "  7.90010881e+00 -1.09865923e+01  1.72626457e+01  1.09446869e+01\n",
      "  1.38752890e+01  1.65695076e+01  2.71145554e+01  1.66955891e+01\n",
      "  4.63002729e+00  2.75002384e+00  3.62771111e+01 -3.89930248e+00\n",
      "  1.25556507e+01  1.09400873e+01  2.51879215e+01  1.65024967e+01\n",
      "  1.86784134e+01  1.23810368e+01  2.39091563e+00 -4.86275911e+00\n",
      "  2.12640667e+01 -6.22996616e+00 -1.84871733e+00  2.90903664e+01\n",
      " -1.40035141e+00  1.24861946e+01  4.06596661e-01  1.00997839e+01\n",
      " -7.42101192e+00  2.64042873e+01  9.15183830e+00 -2.31833572e+01\n",
      "  3.17375088e+01  1.50381308e+01 -2.32628918e+00 -5.95858097e+00\n",
      "  3.70502710e+00  2.91605401e+00  1.46525927e+01  1.41546812e+01\n",
      "  2.87099719e+00  6.08700752e+00  4.98108625e+00  9.66199589e+00\n",
      "  3.84967461e+01  6.94084454e+00 -3.09408927e+00 -1.67790759e+00\n",
      "  8.83382988e+00  1.24678822e+01  3.34612489e+00  2.39880028e+01\n",
      "  3.07444000e+01 -7.29682779e+00  8.06760502e+00  7.32035971e+00\n",
      "  3.02897358e+01 -7.79556942e+00  3.68521357e+00  3.30142379e+00\n",
      "  1.25477266e+01  1.99961817e+00 -7.31017399e+00 -2.52941537e+00\n",
      "  3.63520889e+01  3.17319565e+01  1.42977924e+01  2.42562747e+00\n",
      " -1.38144124e+00  9.79393768e+00  1.88012733e+01  3.03376770e+01\n",
      " -4.95220280e+00 -1.04693480e+01 -9.54532528e+00  2.78022289e+01\n",
      " -8.71509457e+00  6.85541582e+00  2.29674625e+01  9.08692551e+00\n",
      "  2.56905499e+01  2.93881264e+01  7.29043722e+00  1.42269623e+00\n",
      " -2.40320435e+01  4.26463032e+00 -8.98715079e-01  5.38227987e+00\n",
      "  1.63145847e+01 -5.26569939e+00  3.85089569e+01  8.25401878e+00\n",
      "  2.09679699e+01  2.60602055e+01  1.13354988e+01  1.53789759e+01\n",
      " -1.54267550e-01  9.29644680e+00 -1.40576422e-01 -4.48923206e+00\n",
      "  2.81963015e+00 -8.94729137e+00 -2.25088043e+01 -6.86244822e+00\n",
      " -1.81504116e+01 -1.74129505e+01 -6.66857767e+00  3.87434316e+00\n",
      "  5.77379227e+00 -6.20782375e+00 -8.36322880e+00  2.93370652e+00\n",
      " -6.14558649e+00 -4.76851988e+00 -5.98819351e+00 -9.98125672e-01\n",
      " -4.75529432e+00 -2.12386818e+01  9.85206795e+00 -3.79775047e+00\n",
      " -3.90627503e+00 -6.83485651e+00  1.92869917e-01 -8.91840267e+00\n",
      " -7.68380356e+00 -6.93014812e+00 -2.34135294e+00 -9.69792843e-01\n",
      " -4.81679440e+00 -1.54680443e+01  1.34263921e+00 -1.96217480e+01\n",
      "  1.26126804e+01 -7.76282501e+00 -1.15451574e+01 -3.93196583e+00\n",
      " -1.50202599e+01 -6.33079243e+00  8.14091110e+00 -4.65493917e+00\n",
      "  3.73443198e+00 -7.50760126e+00 -2.36042404e+00 -8.41963005e+00\n",
      " -9.00244427e+00 -1.91031158e+00 -2.14783287e+00  6.89085960e+00\n",
      "  2.76242065e+00 -1.57462015e+01 -7.83352900e+00  1.83396685e+00\n",
      " -1.00279732e+01 -1.33416643e+01 -2.86014795e+00 -5.37396717e+00\n",
      "  4.07929182e+00 -6.56104326e-01 -2.60687518e+00 -3.36129403e+00\n",
      " -2.66262970e+01 -1.07190781e+01  3.57242751e+00 -3.65366846e-01\n",
      " -1.42338667e+01  1.22046089e+00  8.04582834e-01 -3.21308899e+00\n",
      "  2.68205857e+00 -1.72130346e+00 -7.94714499e+00 -4.43924809e+00\n",
      " -6.06207967e-01 -1.77389927e+01 -2.79995084e+00 -1.19442046e-01\n",
      " -3.51814890e+00 -1.74923000e+01 -5.87094164e+00 -2.16754842e+00\n",
      " -1.12782068e+01 -5.49771166e+00  1.43581182e-01  7.00782776e-01\n",
      " -2.30191841e+01 -2.41584802e+00  3.71570683e+00  5.70761251e+00\n",
      " -2.71005154e+00 -2.15273342e+01  4.21470165e+00 -7.14236450e+00\n",
      " -1.04657936e+01 -4.61960363e+00 -1.13322878e+01 -6.91952229e-01\n",
      "  3.10031676e+00  4.10621786e+00 -4.99913841e-01 -3.44751763e+00\n",
      "  1.66659939e+00  5.70869222e-02  2.82318616e+00  2.16930890e+00\n",
      " -1.49026966e+01 -1.00008907e+01 -6.07934856e+00  7.88678455e+00\n",
      "  1.39674211e+00 -1.42744172e+00 -2.43193698e+00 -1.22083406e+01\n",
      "  1.43954957e+00 -2.20872707e+01  3.82147932e+00 -6.20970917e+00\n",
      " -2.03140306e+00 -2.84508824e+00  3.24666357e+00  8.72303772e+00\n",
      " -7.07127512e-01 -6.85378075e+00 -1.38381612e+00  1.64001904e+01\n",
      "  3.80183131e-01 -2.93355389e+01 -8.00546169e+00 -8.50090313e+00\n",
      "  1.62343061e+00 -1.87546444e+01  9.19946480e+00 -1.37805510e+00\n",
      " -1.30157547e+01 -9.57174015e+00 -2.92907476e+00 -2.01755977e+00\n",
      " -2.15884838e+01  1.55537500e+01 -3.39314246e+00  1.49098313e+00\n",
      " -1.30095644e+01  1.14568014e+01  3.73041296e+00 -1.61546688e+01\n",
      "  8.21730494e-01 -1.05246429e+01 -5.91869974e+00 -6.25538254e+00\n",
      "  3.19284582e+00 -3.01200414e+00 -2.09430313e+01 -4.88723898e+00\n",
      " -2.13730431e+01 -4.40951252e+00 -5.19713211e+00 -4.14807129e+00\n",
      " -1.20028746e+00  2.38520670e+00  1.50621131e-01 -8.06613731e+00\n",
      " -7.18339384e-01 -4.38871002e+00 -9.40798664e+00 -2.83203244e+00\n",
      "  8.83218408e-01 -9.28759289e+00 -5.10958552e-01 -5.01413822e+00\n",
      " -4.02348566e+00  6.96110353e-02  1.45666122e+00  2.67302394e+00\n",
      "  1.28840968e-01 -2.26748772e+01 -9.06485271e+00  5.51324797e+00\n",
      "  3.28233123e+00 -2.52453852e+00 -1.77430019e+01 -2.22229981e+00\n",
      " -4.82707548e+00 -7.51593733e+00  1.77802896e+00 -1.08244300e-01\n",
      " -1.97120419e+01 -6.51902533e+00 -1.90058804e+00 -1.46436329e+01\n",
      " -2.16522064e+01 -2.41701813e+01 -1.96412868e+01  1.94499850e+00\n",
      " -4.15019464e+00  5.35816717e+00 -5.63388109e+00 -2.24275494e+00\n",
      "  7.91894007e+00  2.07917833e+00  1.29256701e+00 -3.80675030e+00\n",
      " -2.12650394e+01 -8.37968826e+00  2.21529245e+00  1.32803226e+00\n",
      " -1.59164739e+00 -3.64257765e+00  3.17903638e+00 -1.87983543e-01\n",
      "  2.57366967e+00  7.71673250e+00  2.86733484e+00 -8.88951302e+00\n",
      " -2.60042596e+00 -3.72646481e-01 -1.14901209e+01 -2.75514641e+01\n",
      " -1.35573044e+01  5.03490925e+00 -2.02373576e+00  2.77684361e-01\n",
      " -1.83956795e+01 -1.34412031e+01  1.97123313e+00 -2.67983627e+01\n",
      "  2.04503012e+00 -2.18590603e+01 -2.31311760e+01 -8.10324287e+00\n",
      " -3.60017700e+01 -1.45894909e+01 -3.45960236e+01 -2.02063084e+01\n",
      " -6.77705288e+00  3.19986868e+00  1.11398487e+01  5.89229822e+00\n",
      " -3.23846931e+01 -2.44251194e+01 -1.16780415e+01 -3.21108437e+01\n",
      "  1.59141722e+01 -6.74526978e+00 -2.41475887e+01 -6.13706970e+00\n",
      " -5.46619272e+00 -1.44112940e+01  4.77898264e+00 -1.27639618e+01\n",
      " -3.00920963e+01  4.40850049e-01 -3.70628309e+00 -1.96297855e+01\n",
      " -1.01220551e+01 -2.70465012e+01 -1.09246149e+01 -1.89127331e+01\n",
      "  1.40028038e+01 -1.52789860e+01 -3.21031189e+01 -7.50729656e+00\n",
      " -4.43237782e+00 -6.22014952e+00  5.56543398e+00 -2.39325070e+00\n",
      " -8.09593582e+00 -2.89361954e+01  9.60355699e-02 -1.30209045e+01\n",
      " -4.04407959e+01 -1.56167877e+00 -1.54317427e+01 -1.86119628e+00\n",
      "  2.77366495e+00 -1.71532650e+01  4.83893967e+00 -3.19690552e+01\n",
      "  6.32209158e+00 -2.64024091e+00 -1.31928158e+01 -4.31074238e+00\n",
      " -1.20039825e+01 -6.73411179e+00 -3.43547344e+00 -2.14383030e+01\n",
      " -1.01393166e+01 -3.77576399e+00  3.15868902e+00  9.05193806e+00\n",
      " -8.66543770e+00 -6.82065487e+00 -2.26624012e+01  2.32121325e+00\n",
      "  8.70703602e+00  3.13038611e+00 -6.32070255e+00 -6.33355236e+00\n",
      "  8.48869801e+00 -3.18493038e-01 -1.05028419e+01 -4.56427383e+01\n",
      "  3.33817649e+00 -3.03130531e+01  5.82844591e+00 -1.31243153e+01\n",
      " -2.77902985e+01 -3.45477843e+00 -9.83130836e+00  1.19630976e+01\n",
      " -1.37355747e+01 -1.88881435e+01 -8.12424564e+00 -2.40038967e+01\n",
      " -3.05112801e+01 -7.92415142e+00 -4.10064888e+00  8.56643379e-01\n",
      " -2.90449162e+01 -1.87859783e+01 -2.28438416e+01 -1.70153117e+00\n",
      " -5.68323803e+00 -3.43790102e+00 -1.01488743e+01 -7.28764963e+00\n",
      " -3.00501323e+00  8.38108253e+00 -2.92701588e+01  1.22367344e+01\n",
      " -8.42692471e+00 -5.74974537e+00  3.60947394e+00 -3.82779770e+01\n",
      " -5.66680336e+00 -2.32448921e+01 -1.32365990e+00  3.91952538e+00\n",
      " -1.52806911e+01 -5.05298519e+00]' has dtype incompatible with int64, please explicitly cast to a compatible dtype first.\n",
      "  preds[val_index] = model.predict(dval_i)\n"
     ]
    },
    {
     "name": "stderr",
     "output_type": "stream",
     "text": [
      "\r",
      " 30%|██████████████████████████████████████████████████████████████████▌                                                                                                                                                           | 3/10 [02:17<05:03, 43.38s/it]"
     ]
    },
    {
     "name": "stderr",
     "output_type": "stream",
     "text": [
      "C:\\Users\\81809\\AppData\\Local\\Temp\\ipykernel_14940\\3386215446.py:18: FutureWarning: Setting an item of incompatible dtype is deprecated and will raise an error in a future version of pandas. Value '[ 1.76433611e+00 -7.88713884e+00  5.44073963e+00  1.46381273e+01\n",
      "  2.19087391e+01  8.66162395e+00  4.79446077e+00 -2.25457668e+00\n",
      "  5.75076997e-01  7.03486502e-01 -2.62502360e+00 -3.21307254e+00\n",
      "  5.68186820e-01 -1.41874349e+00 -4.48371744e+00  2.10945320e+01\n",
      " -2.66586494e+00 -8.35776865e-01  2.23107052e+01  8.72358084e-01\n",
      "  5.68290138e+00  3.72171736e+00  2.70707041e-01  5.69583368e+00\n",
      " -4.10469532e+00  8.63064480e+00 -3.90814096e-02 -3.18731833e+00\n",
      "  3.11227965e+00  4.68918276e+00  1.19470023e-01  1.58964739e+01\n",
      "  3.82813764e+00  3.74183297e+00 -7.91542053e-01  7.98893642e+00\n",
      "  8.53703678e-01  1.76541443e+01  2.34211278e+00 -7.07609701e+00\n",
      "  7.59308386e+00  5.51937222e-01  8.14351845e+00  5.29957867e+00\n",
      " -6.41127443e+00  6.26079893e+00  3.26986408e+00 -8.64653587e+00\n",
      " -1.78930235e+00 -1.98678970e+00  2.06383762e+01  7.46570468e-01\n",
      "  1.68149042e+00 -2.99239993e+00  7.21373940e+00  2.19598627e+00\n",
      " -3.14409399e+00 -1.08918190e+00  2.33673630e+01  1.35380726e+01\n",
      " -3.61844015e+00  3.33283395e-01  2.49005718e+01 -2.50012374e+00\n",
      "  3.60324931e+00 -6.33682013e-01  1.00076640e+00  1.31555378e+00\n",
      " -1.95575619e+00  3.60294670e-01  2.22826481e+01 -2.29068708e+00\n",
      "  7.55001020e+00  5.87248802e+00  2.60219514e-01 -2.13745999e+00\n",
      "  3.99817801e+00 -1.64809299e+00  1.83706820e+00 -9.26516819e+00\n",
      "  1.66483097e+01  3.84910560e+00  8.03812218e+00  1.15171299e+01\n",
      " -2.90941691e+00  5.22710323e+00  3.60220885e+00 -2.48557854e+00\n",
      "  2.50922222e+01  1.31788397e+01 -1.08183508e+01 -5.49778032e+00\n",
      "  1.73704090e+01 -2.57904768e+00 -1.80799437e+00  6.04196501e+00\n",
      " -6.23726070e-01  1.09268389e+01  5.43246746e+00 -2.91437483e+00\n",
      " -3.68389487e+00  3.68368983e+00  2.15467567e+01  1.51610298e+01\n",
      " -1.45606728e+01 -7.34628439e-01 -3.21223021e+00  1.07848711e+01\n",
      " -9.32344198e-01  4.81450176e+00  8.39130974e+00  6.55783129e+00\n",
      "  1.53494606e+01  5.53412867e+00  1.66315150e+00  2.47410750e+00\n",
      " -2.31903195e+00  1.41694918e+01  1.85450592e+01  5.23039150e+00\n",
      "  5.60056543e+00  9.70564270e+00 -2.70677686e+00  6.67193079e+00\n",
      " -6.79168749e+00  1.58853543e+00  1.12702732e+01 -6.85246897e+00\n",
      "  6.94099617e+00  7.43114758e+00  4.09654903e+00  9.63067341e+00\n",
      "  9.59978294e+00  1.91086788e+01  1.25010300e+01  8.52297211e+00\n",
      "  9.55690801e-01 -3.63331056e+00  7.30690861e+00 -4.49167109e+00\n",
      " -4.40728617e+00  2.21675797e+01  9.66752243e+00 -2.09566569e+00\n",
      " -2.48937440e+00  5.50651455e+00  6.20699596e+00 -5.98480642e-01\n",
      "  5.91896486e+00 -2.09190083e+00  2.31959152e+01  4.47301245e+00\n",
      "  1.53209181e+01 -9.65734863e+00 -4.40929842e+00 -5.78856587e-01\n",
      " -7.84875345e+00  1.76341653e+00  2.36566138e+00  6.95066690e+00\n",
      "  5.37191820e+00 -1.15959301e+01  1.43093705e+00  1.29331100e+00\n",
      "  5.15674114e+00  4.24757767e+00  1.02107353e+01  3.53474569e+00\n",
      "  2.09602499e+00 -2.15006423e+00  4.32622242e+00 -5.76217365e+00\n",
      " -1.65840855e+01 -3.54157043e+00  2.11347431e-01  1.84816952e+01\n",
      "  3.26933146e+00 -1.74503052e+00  6.39092255e+00  4.26796961e+00\n",
      " -9.67522562e-01 -4.09143232e-03 -3.12284374e+00 -4.48923731e+00\n",
      "  2.59816513e+01  2.31612372e+00  2.19988937e+01 -5.15162277e+00\n",
      "  4.71433687e+00  4.77757835e+00 -4.79526997e+00 -3.36603975e+00\n",
      " -5.56021273e-01  8.03660774e+00  1.45080252e+01  6.60091460e-01\n",
      "  2.78458267e-01  1.71641235e+01 -2.31642399e+01 -2.90614820e+00\n",
      " -1.01015863e+01  1.21581821e+01  2.45055342e+00 -3.06169820e+00\n",
      "  2.65214038e+00  4.60444784e+00  2.17194366e+00  4.57821608e+00\n",
      "  8.89032078e+00  9.09045219e+00  1.62972152e+00  2.98558388e+01\n",
      "  2.98603096e+01  3.31432056e+00  9.85426712e+00 -2.36603308e+00\n",
      "  3.70674286e+01  1.81472600e+00  1.57735147e+01  1.15422440e+01\n",
      " -4.36294651e+00 -1.87268293e+00  2.61430955e+00  3.68952675e+01\n",
      "  1.21471577e+01  2.53052902e+01  3.58334084e+01  6.05623055e+00\n",
      " -6.03652239e-01  7.36555481e+00 -9.73470688e+00  5.87996578e+00\n",
      "  2.91764069e+00  2.84145279e+01  1.04016294e+01  1.79274616e+01\n",
      "  5.82980216e-02 -6.54935503e+00  4.08432215e-01 -1.37574492e+01\n",
      "  3.50045395e+01  1.16964827e+01 -1.03216326e+00  1.18867505e+00\n",
      "  2.50275555e+01  1.99855499e+01  2.04789448e+01  5.74537754e+00\n",
      " -1.96625304e+00 -4.91173315e+00  1.92493420e+01  1.41122580e+01\n",
      "  2.99015865e+01  3.94153047e+00  7.52317190e+00  2.37452774e+01\n",
      "  3.23819828e+00 -1.35893116e+01  1.09471016e+01 -2.06896281e+00\n",
      "  2.58249092e+00 -3.86863708e+00  2.39016094e+01 -2.72314072e+00\n",
      "  2.97460194e+01  1.27078133e+01  4.22787333e+00  4.04724550e+00\n",
      "  1.04566991e+00  1.05618477e+01  3.47329407e+01  1.48969555e+01\n",
      "  4.79507160e+00  1.41619596e+01  3.41848259e+01  8.67704451e-01\n",
      "  6.62866068e+00 -8.00877571e+00  2.78228784e+00 -1.90581954e+00\n",
      "  1.32150240e+01  1.33165102e+01  2.12441654e+01 -2.51839018e+00\n",
      " -1.18800831e+01 -8.56185055e+00  1.56588387e+00 -6.78453159e+00\n",
      "  2.03557205e+00  2.20237675e+01  5.42937946e+00 -1.32282181e+01\n",
      "  2.89426780e+00  8.20489216e+00 -3.17105770e-01  3.26004124e+00\n",
      "  2.02418327e+01 -7.74407625e+00 -1.38848972e+01  3.75736809e+01\n",
      "  7.10917568e+00 -5.36578608e+00  2.95927963e+01  1.13158522e+01\n",
      "  2.18675385e+01  1.40891352e+01  4.08279276e+00 -3.53432298e+00\n",
      " -1.31388121e+01  2.68040836e-01 -6.71540546e+00 -1.17203226e+01\n",
      " -2.97719407e+00 -1.11964502e+01 -1.52465439e+01 -8.89142609e+00\n",
      " -7.25618267e+00 -7.49358511e+00 -6.73843479e+00 -5.95105743e+00\n",
      "  5.20012712e+00 -5.85084057e+00  3.30188870e+00  2.24337816e+00\n",
      "  1.37544727e+00 -2.34673672e+01 -7.70902514e-01 -1.37427092e+01\n",
      " -2.12565289e+01 -1.06859851e+00 -6.09840441e+00 -1.08873713e+00\n",
      "  5.39417887e+00  4.44379663e+00 -7.56309271e-01 -7.84448385e+00\n",
      " -8.78678226e+00  1.01744807e+00 -6.76269150e+00  1.52407730e+00\n",
      " -3.44892323e-01 -5.22233844e-01 -4.97571707e+00 -2.71928349e+01\n",
      " -9.19247437e+00 -6.17242622e+00 -1.58132181e+01 -2.45490098e+00\n",
      " -6.39017963e+00 -1.91211300e+01 -6.69721937e+00  5.28378189e-01\n",
      " -6.04239273e+00  6.74267387e+00 -1.83158951e+01  9.04104137e+00\n",
      " -6.21554089e+00 -2.48348045e+01 -6.96865892e+00 -1.51306164e+00\n",
      " -5.74702835e+00 -8.97337437e+00 -4.88533258e+00 -3.55130386e+00\n",
      "  2.48535705e+00 -1.17417831e+01  3.62376738e+00 -1.45497742e+01\n",
      "  1.64304101e+00 -6.25473404e+00 -4.27942705e+00 -2.75838995e+00\n",
      " -2.26360035e+01 -8.66544724e+00 -4.86376381e+00 -8.73374271e+00\n",
      " -6.70128775e+00  1.32195354e-01  1.78513303e-01 -1.58553534e+01\n",
      " -2.58839645e+01 -2.92654705e+00 -1.22432542e+00 -1.99452698e+00\n",
      " -1.71619625e+01 -6.47925258e-01 -4.48458338e+00 -9.52921033e-01\n",
      "  1.48128140e+00 -2.49253540e+01 -1.93480358e+01  2.16403913e+00\n",
      " -1.17250729e+01  2.60825825e+00 -6.78043461e+00 -2.89342141e+00\n",
      " -5.66776419e+00 -1.15537043e+01 -4.54732752e+00 -5.20068359e+00\n",
      " -2.39486866e+01  1.46922569e+01  4.48947477e+00 -2.68684158e+01\n",
      " -1.56993141e+01 -1.60724373e+01 -1.71379089e+01 -7.22871304e+00\n",
      " -3.24321842e+00 -3.92655206e+00  8.94797993e+00 -4.24110413e+00\n",
      " -9.79852772e+00 -4.06259155e+00  5.23571312e-01  3.07208157e+00\n",
      " -6.98377848e-01 -1.67332578e+00 -1.55240936e+01  1.61048198e+00\n",
      "  4.94961813e-02  4.22831678e+00 -1.92488823e+01 -1.05882273e+01\n",
      " -2.87028480e+00 -5.30308819e+00  3.01753187e+00 -1.11724215e+01\n",
      " -1.24087439e+01 -2.27556467e+00  2.43900046e-01 -4.07114714e-01\n",
      " -1.02646928e-02 -5.49822855e+00  1.10861337e+00 -6.73281848e-01\n",
      " -4.76323700e+00 -5.13782549e+00 -9.77118015e+00 -9.58539104e+00\n",
      " -5.40187979e+00 -4.18889093e+00 -4.94804651e-01 -6.43389845e+00\n",
      "  5.53765178e-01 -1.42818952e+00 -2.22254925e+01  1.28938568e+00\n",
      "  3.45900083e+00 -1.70622578e+01 -2.21765590e+00 -2.84477687e+00\n",
      "  2.68126702e+00 -1.88177454e+00 -5.29751348e+00 -5.69398594e+00\n",
      " -3.95766616e+00  4.66645002e+00  2.27160311e+00 -2.16468315e+01\n",
      "  2.97913790e-01 -5.20268536e+00 -3.74645424e+00  6.78284407e-01\n",
      " -3.39636207e+00 -2.64225721e+00  3.88873816e+00 -2.15131426e+00\n",
      " -1.63129177e+01 -2.23772359e+00 -6.09445763e+00 -7.85457492e-01\n",
      " -4.07139921e+00 -1.30723047e+01 -5.04690695e+00 -7.05005264e+00\n",
      " -2.08160543e+00 -4.27284527e+00 -1.23015928e+01 -2.18535938e+01\n",
      " -1.41461306e+01 -2.36858196e+01  5.42699623e+00 -2.66579604e+00\n",
      "  1.28491917e+01  4.22155762e+00  4.28148031e+00 -1.09106922e+01\n",
      " -5.27280235e+00  4.11508894e+00 -3.29202580e+00  5.05714417e+00\n",
      " -2.11063709e+01  9.27218616e-01 -4.33958006e+00 -1.75721340e+01\n",
      " -3.65771699e+00  2.40343380e+00  2.58923285e-02 -1.83341396e+00\n",
      " -6.03830290e+00  7.47981548e+00 -1.11015720e+01 -4.50996113e+00\n",
      " -1.58899412e+01 -6.77367687e+00 -1.94351315e+00 -2.42208595e+01\n",
      " -1.52345505e+01  3.19279933e+00  1.08209288e+00 -3.79798532e+00\n",
      "  1.11866560e+01 -4.12646818e+00 -1.63888264e+01 -4.14682770e+00\n",
      "  2.49345136e+00 -5.16789341e+00 -3.88390088e+00 -7.72639799e+00\n",
      " -1.07150192e+01 -3.37057800e+01  2.30523372e+00 -2.53211002e+01\n",
      " -1.17574072e+01  5.34625959e+00 -1.87326679e+01 -1.43554325e+01\n",
      "  3.62077641e+00 -1.00930786e+01  1.89963341e+00 -2.68159275e+01\n",
      " -2.80765057e+01  3.52169728e+00 -3.43012733e+01 -2.72709675e+01\n",
      " -1.33598757e+01 -7.64116859e+00 -4.17525816e+00 -2.64590054e+01\n",
      " -1.39395630e+00 -1.41540728e+01  5.83613348e+00 -1.96888840e+00\n",
      " -4.52316332e+00 -5.59625685e-01 -4.28043137e+01 -1.96778071e+00\n",
      " -3.55221915e+00  6.88261366e+00 -1.99633770e+01 -2.35156021e+01\n",
      " -2.71964836e+01 -1.23612919e+01  1.05362809e+00 -9.30168152e+00\n",
      " -3.53952527e-01 -1.39400017e+00 -8.30544090e+00 -2.47489967e+01\n",
      " -4.11207378e-01 -7.16973400e+00 -1.34761822e+00 -1.60624771e+01\n",
      " -8.94322968e+00 -6.34990025e+00 -2.76798725e+00 -1.32397051e+01\n",
      " -1.44911327e+01 -3.07379036e+01 -2.98146582e+00 -4.94642162e+00\n",
      " -3.09539852e+01 -3.57832909e+01 -3.77570496e+01 -6.93234062e+00\n",
      " -9.10778522e+00 -2.88683681e+01 -6.50023985e+00 -1.89278374e+01\n",
      "  1.76773226e+00 -1.54065914e+01 -1.10420084e+01  1.06760387e+01\n",
      "  2.06954265e+00  1.75915289e+00 -5.00053072e+00 -6.45977020e+00\n",
      " -1.18112316e+01 -6.92964435e-01 -1.31000280e+01 -4.40420246e+00\n",
      "  4.23242188e+00  4.70746088e+00 -6.28850460e+00 -2.84885913e-01\n",
      " -6.58866405e+00 -1.51805744e+01 -1.78158455e+01 -4.56548071e+00\n",
      "  8.12311745e+00 -7.27131701e+00 -2.91675901e+00 -1.21121149e+01\n",
      " -1.13596992e+01  2.27667117e+00 -1.77429638e+01 -2.56022377e+01\n",
      "  2.28585815e+00 -3.79666638e+00  1.24385667e+00 -1.94076519e+01\n",
      " -4.30931425e+00 -5.07264853e+00 -2.23104877e+01 -3.34712720e+00\n",
      "  1.00367794e+01 -5.55206358e-01 -5.64393997e+00  7.78798628e+00\n",
      " -7.97676277e+00 -2.43231182e+01 -1.46389639e+00 -2.89017715e+01\n",
      " -1.50454292e+01  4.53373718e+00 -1.74456272e+01 -5.57742691e+00\n",
      " -5.90274811e+00  8.16989040e+00 -1.82931957e+01 -3.06698647e+01\n",
      " -3.84708633e+01 -1.01665382e+01 -7.90908384e+00 -3.62193489e+01\n",
      " -3.00657902e+01 -3.87177896e+00 -2.05455418e+01  5.42277288e+00\n",
      "  8.31176567e+00 -3.49726410e+01 -3.30052304e+00 -2.86231098e+01\n",
      " -1.53936052e+01 -2.36601391e+01]' has dtype incompatible with int64, please explicitly cast to a compatible dtype first.\n",
      "  preds[val_index] = model.predict(dval_i)\n"
     ]
    },
    {
     "name": "stderr",
     "output_type": "stream",
     "text": [
      "\r",
      " 40%|████████████████████████████████████████████████████████████████████████████████████████▊                                                                                                                                     | 4/10 [02:57<04:11, 41.87s/it]"
     ]
    },
    {
     "name": "stderr",
     "output_type": "stream",
     "text": [
      "C:\\Users\\81809\\AppData\\Local\\Temp\\ipykernel_14940\\3386215446.py:18: FutureWarning: Setting an item of incompatible dtype is deprecated and will raise an error in a future version of pandas. Value '[-9.00910664e+00 -1.58931881e-01  2.07208843e+01  1.13101053e+01\n",
      "  2.07806797e+01  1.74586983e+01 -1.53300726e+00  5.90646219e+00\n",
      "  9.66884422e+00  6.74861813e+00  7.58603954e+00 -3.39865160e+00\n",
      " -3.61945152e+00  2.45470452e+00  2.53895779e+01  2.22398663e+01\n",
      " -2.19746256e+00  5.62953520e+00 -5.30259490e-01  4.28408813e+00\n",
      "  1.02760057e+01  1.39634562e+00  1.94851990e+01  2.13817329e+01\n",
      "  2.11370134e+00 -6.08961296e+00  1.11596632e+00  1.61247218e+00\n",
      "  7.08593750e+00 -5.18219900e+00  5.91357183e+00 -8.64451766e-01\n",
      "  1.91667156e+01 -2.10623002e+00 -8.07817841e+00  2.78960180e+00\n",
      "  1.68765659e+01 -6.11548138e+00  6.41542733e-01 -3.46462798e+00\n",
      "  2.90673256e+00  7.87766886e+00 -4.69496870e+00 -7.96467543e+00\n",
      " -2.58614898e+00  8.28646278e+00  6.60516357e+00  1.40596418e+01\n",
      "  6.17514181e+00  7.24541569e+00  6.10608101e+00 -4.68400383e+00\n",
      " -3.00985122e+00  5.57819891e+00 -1.16473513e+01  4.67100334e+00\n",
      "  7.84858513e+00  2.31320553e+01  2.14661579e+01  5.48057032e+00\n",
      "  4.71043158e+00  2.97171760e+00  4.20325994e+00 -2.60901785e+00\n",
      "  6.55305195e+00  5.61948633e+00 -1.12929177e+00  3.15413809e+00\n",
      "  2.53916430e+00  2.24277067e+00 -2.16432810e+00  2.79584718e+00\n",
      " -2.83622956e+00  4.41672754e+00  1.22806216e-02  2.78116512e+01\n",
      "  8.44462967e+00 -2.78515816e+00 -6.66830921e+00 -1.67281950e+00\n",
      "  1.11407585e+01  2.22507548e+00 -3.12246370e+00  2.65203691e+00\n",
      "  9.34340763e+00  1.92118049e+00  1.27384911e+01  1.71629405e+00\n",
      "  2.24693527e+01  1.18531656e+01 -1.07861853e+01 -5.77750587e+00\n",
      "  2.33577652e+01 -5.03276682e+00  7.36305904e+00  1.18637819e+01\n",
      "  3.89710951e+00  1.10611868e+01 -6.08937025e-01 -1.75238633e+00\n",
      " -9.19826984e-01  1.21419544e+01  2.36916180e+01 -8.58269024e+00\n",
      " -5.07985640e+00  1.21936092e+01 -2.47068071e+00  4.88146830e+00\n",
      "  2.66297150e+00  2.47147059e+00 -7.88691282e+00 -1.72793341e+00\n",
      "  2.49157429e-01  5.71315432e+00  9.63957787e-01  2.35239720e+00\n",
      " -1.00798502e+01  6.00075197e+00 -1.49227536e+00  7.55783021e-01\n",
      " -3.52089167e+00  6.91660595e+00  4.89372349e+00 -3.38049650e+00\n",
      "  3.88592529e+00  1.62812388e+00  7.90079451e+00  6.83118868e+00\n",
      "  1.46338873e+01  3.20872998e+00 -1.90816975e+01 -1.39685202e+00\n",
      "  2.85633039e+00  2.99031407e-01  8.03546524e+00 -4.15656281e+00\n",
      "  4.26838726e-01  4.52674532e+00  2.96905689e+01  1.26830034e+01\n",
      " -2.24427366e+00  1.70916443e+01  2.25003147e+01 -3.54677653e+00\n",
      " -7.01813269e+00  1.54699554e+01 -5.76536953e-01  8.76620770e+00\n",
      "  1.37047458e+00  6.63822699e+00  5.69276905e+00 -3.67263865e+00\n",
      "  1.48980474e+01  3.66210318e+00  2.00710320e+00  8.70746493e-01\n",
      "  7.16911077e+00  2.12258530e+01  2.52867174e+00 -1.04302521e+01\n",
      "  3.51625824e+00 -8.02889156e+00 -3.42932045e-01  3.83357120e+00\n",
      " -4.07657862e+00  5.54968119e+00 -2.15225890e-02  9.27911758e-01\n",
      "  2.95763969e+00  1.07661390e+01 -2.21728399e-01  7.94225311e+00\n",
      "  1.01533880e+01 -7.27202702e+00  4.65130663e+00  2.00174594e+00\n",
      " -7.27081001e-02  5.31227398e+00  6.15439034e+00  2.75310683e+00\n",
      " -2.61765552e+00  6.32537079e+00 -1.38593757e+00 -4.78780603e+00\n",
      " -5.21634912e+00  1.18929033e+01  3.71812630e+00  6.15786219e+00\n",
      " -2.39529800e+00 -2.01110053e+00  2.68899345e+01  6.09836292e+00\n",
      "  2.51162586e+01  1.03638917e-01 -7.74683857e+00  1.57525101e+01\n",
      "  1.09574795e+01  4.05040836e+00  1.40467267e-02 -5.32707691e+00\n",
      "  1.03166332e+01  1.67148018e+01 -2.86111903e+00 -3.17969942e+00\n",
      "  5.79230070e+00  5.50247669e+00 -9.73062611e+00  4.88024664e+00\n",
      " -5.12653494e+00 -7.13877773e+00 -1.33174384e+00  1.64086938e+00\n",
      "  1.13425999e+01  1.41205902e+01 -8.03481102e+00  2.73568897e+01\n",
      "  8.40586662e+00  1.03159485e+01  5.86299562e+00  1.23097324e+01\n",
      " -4.38567638e+00  3.29721413e+01 -1.34433770e+00  1.67099819e+01\n",
      " -2.05006218e+00  2.56287155e+01  2.41651058e+01 -5.42586470e+00\n",
      " -6.15515280e+00  1.00574856e+01  1.37534952e+01  1.72219410e+01\n",
      " -7.51593256e+00 -4.90346241e+00 -3.76237226e+00  2.08015919e+00\n",
      "  8.50881457e-01  1.82721729e+01  3.62693825e+01 -2.95204580e-01\n",
      "  1.25757182e+00  8.35017872e+00 -7.94916272e-01  1.98551025e+01\n",
      "  1.52079287e+01  2.09338531e+01  1.86961346e+01  1.53136435e+01\n",
      "  7.59857893e+00  1.53207028e+00  8.00149822e+00  2.37575111e+01\n",
      "  3.50928307e+00  3.85996366e+00  2.60494270e+01  6.53779173e+00\n",
      " -8.28472996e+00  2.56964874e+01  1.59980040e+01  2.08192482e+01\n",
      " -6.58948064e-01  2.95047307e+00  2.44792328e+01  9.02011204e+00\n",
      "  1.68608532e+01  1.23791754e+00 -9.64075947e+00 -1.24044076e-01\n",
      "  5.08608818e-01  2.89574833e+01  1.19686022e+01  1.49856529e+01\n",
      " -6.68437576e+00  1.24047976e+01  3.67331886e+01  1.15194082e+01\n",
      "  5.69366217e+00  1.44200792e+01 -4.31234026e+00  3.47879906e+01\n",
      "  1.29007146e-01 -2.04218960e+00  4.19340858e+01  9.69494247e+00\n",
      "  4.96926975e+00 -8.02911282e+00  5.03270388e+00  3.65153503e+01\n",
      "  4.81937838e+00  3.86188221e+00 -7.45984763e-02  1.71572094e+01\n",
      "  1.36906738e+01  2.79260197e+01  1.33738070e+01 -3.01874924e+00\n",
      " -2.54951382e+00  1.19799366e+01  2.00867538e+01 -2.20604205e+00\n",
      "  5.20565271e+00  9.46031570e+00  3.47298026e+00  2.91628036e+01\n",
      "  1.63345051e+01  4.79570961e+00  1.32240124e+01  3.09452295e+00\n",
      "  1.37077055e+01  4.84527731e+00  6.80366039e+00 -4.95140839e+00\n",
      " -4.55200100e+00  8.39231205e+00  1.33429203e+01  3.80470204e+00\n",
      "  1.51534166e+01  2.40641308e+00  3.58123295e-02  3.19433427e+00\n",
      " -1.66349304e+00 -4.01159286e+00  1.37898743e+00 -8.24130821e+00\n",
      " -8.17270470e+00 -4.76599026e+00 -1.85612450e+01 -9.83681202e+00\n",
      " -1.32904780e+00  2.92190504e+00 -6.59131289e+00 -7.10769701e+00\n",
      " -8.42630672e+00 -4.54583979e+00 -2.27555609e+00 -5.62640476e+00\n",
      " -2.14444752e+01 -4.91159153e+00 -3.04747248e+00 -8.29560852e+00\n",
      " -9.26088524e+00 -8.05624485e+00  1.51117575e+00 -4.82326651e+00\n",
      " -3.49302626e+00 -1.34043288e+00  7.95889664e+00 -7.92444706e+00\n",
      " -1.18488097e+00  3.01005006e+00 -3.11983490e+00 -1.40898905e+01\n",
      " -1.26146708e+01 -1.80605054e+00  4.49689448e-01  1.14163065e+00\n",
      " -2.03840137e+00 -4.67815065e+00  3.83266735e+00 -5.85101891e+00\n",
      " -8.89381981e+00  3.36399531e+00 -9.00882339e+00 -2.17429399e+00\n",
      " -1.25235662e+01  1.89673829e+00 -6.91106606e+00 -1.87296832e+00\n",
      " -7.57517767e+00 -5.77357006e+00  4.90893126e+00  3.75772238e+00\n",
      " -8.08948612e+00 -4.30943966e+00 -5.32447815e+00 -5.25208235e+00\n",
      " -2.37088661e+01 -1.45993824e+01  1.24657857e+00 -6.94336271e+00\n",
      " -4.02100086e+00 -6.50974274e+00 -1.03931293e+01 -7.22344446e+00\n",
      " -2.66301584e+00  1.61515546e+00 -7.48498857e-01 -1.81549377e+01\n",
      " -2.46771603e+01 -7.58977985e+00  2.38366604e+00  9.08955395e-01\n",
      "  7.20518446e+00 -1.88851852e+01 -5.15733624e+00  1.13878393e+00\n",
      " -8.86995888e+00 -1.45127687e+01  4.72356510e+00 -2.05665855e+01\n",
      " -1.78619534e-01 -1.45858694e-02 -1.44339008e+01  1.95336807e+00\n",
      " -1.91754818e+01 -1.54759860e+00  8.80166340e+00 -9.05830193e+00\n",
      "  3.58044910e+00 -9.99101543e+00 -9.77915287e+00 -5.49024677e+00\n",
      " -4.94449472e+00 -5.18132639e+00  1.62241840e+00 -5.32300043e+00\n",
      " -2.24497461e+00 -2.45166645e+01  3.59768724e+00  1.57259521e+01\n",
      "  2.39347649e+00 -1.02492027e+01 -9.54479790e+00 -5.66790676e+00\n",
      "  1.10422504e+00  1.77749252e+00 -8.53443336e+00 -4.60222149e+00\n",
      " -4.28916979e+00 -1.87212557e-01  2.84492135e-01 -1.90046358e+00\n",
      "  2.71510148e+00 -2.91128588e+00 -7.84988213e+00  1.12838113e+00\n",
      "  5.61533785e+00 -4.53112411e+00 -2.38971785e-01 -6.44913435e+00\n",
      " -2.82645273e+00 -8.80019665e+00  3.60749578e+00  2.03800583e+01\n",
      " -2.12119846e+01 -5.70688868e+00 -4.70853138e+00 -2.76734138e+00\n",
      " -2.01827812e+01 -4.25486088e+00  2.03992486e+00 -1.74013042e+01\n",
      "  4.92454195e+00 -5.49620569e-01 -2.01687789e+00 -8.87313652e+00\n",
      "  5.38618946e+00 -5.01598406e+00 -5.86361551e+00  2.53665018e+00\n",
      "  4.74675685e-01 -3.22076154e+00 -7.87974882e+00  6.79130387e-03\n",
      "  6.72775221e+00 -1.15852652e+01 -1.38242924e+00 -1.74204140e+01\n",
      " -2.93603039e+00 -4.13691378e+00 -6.08297539e+00  8.87228489e+00\n",
      "  6.12892151e+00 -3.81712985e+00 -3.42390728e+00  7.22984409e+00\n",
      " -2.62232840e-01  1.99249423e+00  4.43346262e+00 -2.59896755e+00\n",
      " -2.13887730e+01 -1.35155869e+01 -2.96948171e+00 -4.20194678e-02\n",
      "  1.22822514e+01 -1.96143699e+00 -1.69733632e+00 -8.53492928e+00\n",
      " -3.47085834e+00 -6.74002314e+00 -4.17038059e+00 -2.89227581e+00\n",
      " -7.90952015e+00  7.36283243e-01 -1.21393595e+01 -2.09743671e+01\n",
      " -8.36391354e+00 -5.21876574e+00 -1.18081598e+01 -2.03773861e+01\n",
      " -3.25137568e+00 -4.31896544e+00  2.58039832e+00  9.17688560e+00\n",
      " -2.64372406e+01 -2.34791565e+00 -1.86486673e+00 -1.42737923e+01\n",
      " -7.47110903e-01 -2.19198666e+01 -1.98652611e+01  9.78518367e-01\n",
      " -6.85293436e+00 -6.28675461e+00 -5.05287933e+00 -3.37374151e-01\n",
      " -7.68793678e+00 -3.36472154e+00 -5.42588854e+00 -6.08628082e+00\n",
      "  1.35043538e+00  1.15924330e+01  2.27544823e+01 -5.54086208e+00\n",
      "  3.86232686e+00  4.45933247e+00 -4.78218079e+00 -5.99045467e+00\n",
      " -3.75038624e+00 -2.99403343e+01 -5.45540857e+00 -2.55310478e+01\n",
      " -2.85757408e+01 -3.84567499e+00 -3.60083466e+01  1.20219402e+01\n",
      " -1.25121717e+01 -1.45138788e+01  9.75107956e+00 -6.70375729e+00\n",
      " -8.36019325e+00 -2.96840401e+01 -2.63427753e+01 -2.45003185e+01\n",
      " -3.70254278e+00 -3.58307762e+01 -2.48948956e+01 -8.47689533e+00\n",
      " -3.14704847e+00 -2.15428200e+01 -2.87714672e+01 -1.58131495e+01\n",
      " -1.93017273e+01 -1.22961321e+01 -2.20962925e+01 -3.44191818e+01\n",
      " -4.74958837e-01 -2.92848730e+00 -6.92522526e+00 -4.29044008e+00\n",
      " -4.32961922e+01  6.10145807e+00 -1.70100536e+01 -1.01472759e+01\n",
      " -1.20402765e+01  6.37602732e-02  2.19701266e+00 -2.47927284e+00\n",
      " -1.39332132e+01 -1.08227863e+01  1.30345716e+01  2.25271187e+01\n",
      " -3.16974354e+00  2.19945833e-01 -1.89682426e+01 -1.16854687e+01\n",
      " -2.78970776e+01 -2.81196270e+01  2.98864365e+00 -1.66806145e+01\n",
      "  7.92752886e+00  1.07574863e+01 -2.93989716e+01 -1.38554163e+01\n",
      " -2.99861870e+01 -3.28224792e+01 -1.19873180e+01 -3.85909915e+00\n",
      " -3.55056267e+01 -5.41954947e+00 -3.37725868e+01  1.19131584e+01\n",
      " -1.10127106e+01 -2.33666458e+01 -2.73257370e+01 -5.98007250e+00\n",
      " -1.02270126e+00 -6.21359873e+00 -1.26826544e+01 -8.61010492e-01\n",
      " -2.99388809e+01 -1.27373371e+01 -2.51515961e+01  3.38099909e+00\n",
      " -7.82791567e+00  3.06682730e+00 -3.46006131e+00 -2.95457420e+01\n",
      " -6.58524454e-01 -2.24222517e+00 -8.40223122e+00 -1.55093651e+01\n",
      "  1.50464630e+00 -4.98565197e+00 -8.57867050e+00 -2.62910056e+00\n",
      " -3.48305368e+00 -2.30858593e+01 -2.92346458e+01 -2.87304363e+01\n",
      " -1.66603737e+01 -4.71708584e+00 -2.83748550e+01 -2.13890629e+01\n",
      " -5.95726967e+00  1.19960575e+01 -6.59070587e+00 -1.02800369e+01\n",
      " -1.32325802e+01 -7.01178551e+00  4.33656275e-01  8.60923576e+00\n",
      " -3.72690735e+01  3.03502655e+00 -2.37676792e+01  3.71934414e+00\n",
      " -1.19566154e+01  6.63455963e-01 -1.18012857e+01 -2.71683407e+00\n",
      " -1.81897438e+00  1.87070274e+01 -9.38094902e+00 -1.90209503e+01\n",
      " -3.79285336e+00 -2.81064439e+00]' has dtype incompatible with int64, please explicitly cast to a compatible dtype first.\n",
      "  preds[val_index] = model.predict(dval_i)\n"
     ]
    },
    {
     "name": "stderr",
     "output_type": "stream",
     "text": [
      "\r",
      " 50%|███████████████████████████████████████████████████████████████████████████████████████████████████████████████                                                                                                               | 5/10 [03:32<03:16, 39.34s/it]"
     ]
    },
    {
     "name": "stderr",
     "output_type": "stream",
     "text": [
      "C:\\Users\\81809\\AppData\\Local\\Temp\\ipykernel_14940\\3386215446.py:18: FutureWarning: Setting an item of incompatible dtype is deprecated and will raise an error in a future version of pandas. Value '[ 2.77411604e+00  7.82411695e-01  1.47564020e+01  3.89670944e+00\n",
      " -5.15974188e+00 -4.59867537e-01  2.00548172e+01  6.39276171e+00\n",
      "  9.53344154e+00  6.55949497e+00  2.00894380e+00  5.78035307e+00\n",
      "  6.57538843e+00  2.45178280e+01  3.14926291e+00  2.15647430e+01\n",
      "  2.25164528e+01 -9.79580212e+00  1.93041492e+00  1.70301175e+00\n",
      "  2.32455879e-01 -3.13414645e+00  2.61147747e+01  2.78231373e+01\n",
      "  1.13840389e+01  4.45726347e+00 -3.88752437e+00  8.35402107e+00\n",
      "  3.89646912e+00 -6.75141156e-01 -2.19693208e+00  5.48325253e+00\n",
      "  1.40295219e+00  4.95035791e+00  1.63295593e+01  2.68501592e+00\n",
      "  3.48799586e-01  1.98918362e+01 -3.64837098e+00  4.72823572e+00\n",
      "  1.39897752e+00 -4.29675055e+00 -1.30353689e+00  7.71907139e+00\n",
      " -6.28694248e+00 -9.10309219e+00  1.72156296e+01  5.56990862e+00\n",
      "  2.30913906e+01  6.73005819e+00  2.07759237e+00  4.72935009e+00\n",
      " -1.38573575e+00 -1.33150911e+00  2.09702754e+00  1.30300589e+01\n",
      "  1.39171247e+01  5.40384865e+00  1.80600071e+00  3.86779094e+00\n",
      "  2.89714384e+00  4.71897840e+00  4.70801926e+00  6.54709291e+00\n",
      " -9.71938848e-01 -2.10524130e+00  1.65508709e+01  7.59349728e+00\n",
      "  1.17609520e+01  2.81417274e+01  3.98457456e+00  2.61210880e+01\n",
      " -9.05013084e+00  1.11644726e+01  1.06820927e+01  4.27137911e-01\n",
      "  4.02087164e+00  2.63348598e+01  8.59996605e+00  2.23338509e+01\n",
      " -9.32931244e-01  9.28868198e+00  7.90409040e+00 -1.66047847e+00\n",
      "  3.23468137e+00  1.17059231e+01  2.44780493e+00  1.05046358e+01\n",
      " -2.02036333e+00 -7.84240440e-02  2.54700737e+01 -3.33667731e+00\n",
      " -2.96087813e+00 -3.33994460e+00  2.69208298e+01 -5.09367526e-01\n",
      "  1.64299145e+01  1.12411238e-01  1.19024754e+01  2.55334944e-01\n",
      " -3.13226032e+00  3.57406592e+00  8.78454030e-01  1.54516611e+01\n",
      "  1.41294079e+01  2.12067184e+01 -5.45515823e+00  8.31990910e+00\n",
      " -3.42562342e+00  8.82377720e+00  1.10021629e+01  4.99038839e+00\n",
      " -1.44653683e+01 -4.10664654e+00 -2.07849836e+00  1.11922541e+01\n",
      " -4.06894058e-01  3.11703892e+01  1.45806360e+01  5.10363579e+00\n",
      "  1.01598148e+01  8.72496891e+00  1.72873745e+01  9.58628118e-01\n",
      "  1.21529865e+01  3.72407126e+00 -1.67377794e+00  8.68980503e+00\n",
      " -1.13556194e+00  2.07073355e+00  4.24491882e+00  4.60458708e+00\n",
      " -9.99547318e-02  8.01882839e+00 -1.14488115e+01 -1.57732451e+00\n",
      " -2.43607855e+00 -5.09922504e+00  6.61424685e+00  2.34310532e+00\n",
      " -2.55060434e+00  1.68892231e+01  1.25350561e+01 -6.03267241e+00\n",
      "  1.77268105e+01  1.77276001e+01  2.34307213e+01  3.42868567e+00\n",
      "  4.27343702e+00  4.72781420e+00 -1.44960523e+00  7.15708256e+00\n",
      "  4.52854729e+00  1.35877247e+01 -1.04077315e+00  2.30535984e+00\n",
      "  4.46902484e-01 -3.04311442e+00  4.33142757e+00  2.05278530e+01\n",
      "  6.41127110e+00  5.23754692e+00  1.51786327e+00  7.40393543e+00\n",
      "  1.36460531e+00 -2.28804126e-01  5.23292303e+00  6.80208063e+00\n",
      "  1.17514849e+01 -5.05650091e+00  2.21346931e+01  3.54871893e+00\n",
      "  1.24953651e+01  7.71480227e+00  6.47754049e+00 -2.00003290e+00\n",
      "  2.62740088e+00  1.06142578e+01  4.21760321e+00  2.50086479e+01\n",
      "  6.86069298e+00  1.05821800e+01  1.04849091e+01  3.76432610e+00\n",
      "  2.42172604e+01  5.78951836e+00  6.60726404e+00  6.62642241e+00\n",
      "  4.73629570e+00  9.83899689e+00  1.02332058e+01  9.85630226e+00\n",
      "  6.56079769e+00 -1.88164949e+00  1.76031723e+01 -1.81698334e+00\n",
      "  3.04200220e+00 -1.48882365e+00  4.77368164e+00  1.12658720e+01\n",
      "  3.31433640e+01 -2.80272055e+00  4.43691597e+01 -1.62547159e+00\n",
      "  1.48184490e+01  1.95790216e-01  3.57283044e+00 -7.38049841e+00\n",
      "  9.18153000e+00  2.84816790e+00  1.44273834e+01  5.68485689e+00\n",
      " -7.14303112e+00 -1.77458084e+00  2.26627064e+01  2.38919811e+01\n",
      "  1.06340017e+01  1.35253608e+00  3.35142441e+01  3.59533234e+01\n",
      "  6.78435135e+00  2.03234024e+01  8.66035080e+00  1.45574455e+01\n",
      "  1.63482265e+01 -6.29760170e+00  1.28331890e+01  7.79887104e+00\n",
      " -4.69994593e+00 -1.83585882e+00  2.05945802e+00 -6.82551765e+00\n",
      "  1.05318661e+01  3.33930826e+00  1.81566505e+01  3.55824661e+01\n",
      "  1.62439537e+00  3.17268848e+01  1.88717330e+00  9.28408086e-01\n",
      " -2.21628964e-01  4.74972773e+00  5.13694429e+00  1.91692340e+00\n",
      " -6.20000982e+00  1.24958432e+00  1.62961330e+01  4.26402617e+00\n",
      "  1.02941103e+01  1.39350395e+01  3.37386627e+01  5.11172819e+00\n",
      " -6.14003277e+00  1.44661741e+01  2.17926636e+01  1.18810444e+01\n",
      "  8.21019363e+00  7.53256607e+00  3.30235910e+00  2.94540620e+00\n",
      "  4.47842293e+01 -2.62334299e+00  2.48930931e+01 -3.50380874e+00\n",
      " -4.75712156e+00  1.49475098e+01  3.24739571e+01  7.96974087e+00\n",
      "  1.29186172e+01  1.01006117e+01 -2.36422586e+00  9.01474285e+00\n",
      "  1.51824751e+01  3.38222694e+01  3.07048801e-02  2.76207590e+00\n",
      "  6.64305639e+00 -1.79606593e+00  1.00559568e+01  4.77939415e+00\n",
      "  4.71134415e+01 -3.98173952e+00 -1.97207093e+00 -6.02908015e-01\n",
      "  2.97846241e+01 -6.25400543e+00  2.52654762e+01  2.19408035e+01\n",
      "  3.51882005e+00 -1.23734016e+01  9.40206718e+00  2.24839096e+01\n",
      "  7.80784750e+00  8.80255640e-01  6.39726019e+00  3.70698242e+01\n",
      " -3.96420312e+00  1.15226593e+01  5.19830704e+00  1.51028109e+01\n",
      "  2.50399971e+00  7.21092129e+00  4.79257250e+00 -1.02790127e+01\n",
      " -8.09841061e+00  1.75291443e+00 -1.05825644e+01 -1.96115136e+00\n",
      "  8.44562435e+00  8.85390854e+00  3.00520325e+01  1.41102171e+01\n",
      "  2.17240906e+01  6.25636148e+00 -2.94596255e-01  1.94588699e+01\n",
      "  4.88952541e+00  8.24303246e+00  2.19568996e+01  1.51427956e+01\n",
      "  2.09490604e+01 -1.04103625e+00 -5.85200834e+00 -2.44246221e+00\n",
      " -1.98494396e+01 -8.21206379e+00 -1.08704853e+01 -2.47587666e-01\n",
      " -6.64932442e+00  1.90753305e+00 -6.70094490e+00 -5.32681274e+00\n",
      "  7.57023716e+00  3.60626125e+00  4.01874447e+00 -3.24576259e+00\n",
      "  2.06831312e+00 -6.54328871e+00 -3.35483170e+00 -7.53769994e-01\n",
      " -1.96815853e+01 -3.39832950e+00 -3.59245110e+00 -2.72778463e+00\n",
      " -1.76328778e+00 -3.97914028e+00 -3.63728023e+00  9.86220896e-01\n",
      " -9.81417942e+00 -1.90100689e+01 -2.72879543e+01 -2.53493690e+00\n",
      " -9.60171700e+00 -4.49249887e+00 -8.77498245e+00 -9.27005291e-01\n",
      "  5.16779184e-01 -4.71223164e+00 -1.03291550e+01 -1.07083607e+00\n",
      " -9.97251987e+00 -7.48501015e+00  8.79798353e-01 -5.83215380e+00\n",
      " -5.18946981e+00 -1.45087709e+01 -2.11367664e+01 -6.18140602e+00\n",
      " -3.43223453e+00 -1.25307274e+00 -5.42218876e+00  4.50040579e+00\n",
      "  3.29666710e+00 -7.85979557e+00  9.26813304e-01 -1.74177372e+00\n",
      " -1.40744190e+01 -4.74961281e+00 -8.16427886e-01 -1.53108406e+01\n",
      " -6.37359333e+00  4.31198359e+00 -7.28111601e+00 -9.17831230e+00\n",
      " -5.78295851e+00  3.95381784e+00  1.04811263e+00 -7.03620052e+00\n",
      " -9.90231419e+00  8.62480545e+00 -1.68346577e+01 -1.19078779e+01\n",
      " -1.39880192e+00 -5.23395252e+00 -1.00226641e+00 -1.27642927e+01\n",
      " -1.83558369e+01  2.49085832e+00  6.92155886e+00 -6.94112587e+00\n",
      "  4.27345896e+00 -1.68133068e+01 -1.05734482e+01 -5.41566086e+00\n",
      " -2.94482636e+00 -5.56361675e+00 -3.86929810e-01 -1.23861084e+01\n",
      " -8.46417236e+00 -3.45239115e+00 -1.41459837e+01 -1.05911493e+01\n",
      " -3.07913303e+00 -9.76006031e+00 -2.08417833e-01 -1.46688056e+00\n",
      " -3.66613626e+00 -1.24613914e+01 -1.87038441e+01  3.04564524e+00\n",
      " -2.27462292e+01 -1.23791513e+01 -5.18356228e+00 -2.77154422e+00\n",
      " -6.01234198e+00 -2.21961308e+00 -1.29269962e+01  4.26616287e+00\n",
      "  6.13037443e+00  5.08485258e-01 -9.98220026e-01 -6.13247824e+00\n",
      " -4.66429186e+00 -6.71283102e+00  9.30581093e+00 -2.05876789e+01\n",
      " -3.46230865e+00 -6.24344015e+00 -1.02615774e+00  3.15642476e-01\n",
      " -8.94302559e+00 -1.11047163e+01  3.75259471e+00 -5.06839705e+00\n",
      " -4.31219578e+00 -4.24347830e+00  1.63784332e+01 -2.42626214e+00\n",
      "  2.65988278e+00  1.39749565e+01 -1.53697157e+01  3.30499744e+00\n",
      " -1.51317692e+01  3.04763508e+00 -8.73182583e+00 -5.61564398e+00\n",
      "  9.40230668e-01 -1.10483193e+00 -3.27743173e+00 -4.70756912e+00\n",
      " -1.97046452e+01 -1.03310204e+01 -8.67416191e+00 -2.13652458e+01\n",
      "  8.07382584e+00 -1.37095392e+00  4.72486782e+00  4.74209785e+00\n",
      " -2.25629215e+01 -2.57961345e+00 -7.03915119e+00  1.13230190e+01\n",
      "  6.09748960e-02 -1.65622654e+01  7.63087571e-01 -4.44811440e+00\n",
      " -1.73899326e+01 -5.62654972e-01 -1.13734877e+00 -3.74766898e+00\n",
      " -3.71802866e-01 -1.03724775e+01  1.94727147e+00  1.14606574e-01\n",
      "  3.76924932e-01  6.05330944e+00 -1.38533831e+01  4.63217688e+00\n",
      " -2.86854172e+00 -3.16660833e+00 -7.69543266e+00  3.15837407e+00\n",
      " -2.75083466e+01 -2.42547345e+00 -9.66267872e+00  3.87751675e+00\n",
      " -3.29449606e+00  6.60868454e+00  5.48550367e-01  4.02343893e+00\n",
      " -3.31858373e+00 -5.23632431e+00  4.07751465e+00 -1.01835909e+01\n",
      " -6.40633869e+00  8.87612724e+00  2.81777263e+00  4.86330700e+00\n",
      " -4.13335621e-01 -1.79950714e+01 -3.23477912e+00 -8.73810291e+00\n",
      " -3.43007922e+00 -1.01458776e+00 -4.43022156e+00 -3.75614309e+00\n",
      " -1.14379358e+00  2.35577130e+00  2.38779087e+01 -2.00147381e+01\n",
      " -5.92829943e+00 -3.81047130e+00 -1.70108471e+01 -5.17070913e+00\n",
      "  1.01896439e+01 -4.12863588e+00  1.15239286e+00 -3.15199828e+00\n",
      " -1.02581053e+01 -1.03022680e+01 -7.09046507e+00 -3.19568992e+00\n",
      " -1.16217422e+01 -1.01027899e+01 -6.67751884e+00  5.44182539e+00\n",
      " -1.50204105e+01 -6.34193563e+00 -1.69524632e+01 -9.88969135e+00\n",
      " -2.48552780e+01  4.29539156e+00 -9.90033150e+00 -3.68858624e+00\n",
      "  3.15077126e-01 -1.07830486e+01 -2.84471893e+01 -3.37384758e+01\n",
      "  1.37637186e+01 -7.68630409e+00 -5.10242641e-01 -2.18117785e+00\n",
      " -4.64032030e+00 -2.36476097e+01 -2.15013962e+01 -5.71693754e+00\n",
      " -8.66047287e+00  4.42580509e+00 -1.92297592e+01 -1.68438663e+01\n",
      " -6.65880537e+00 -6.29471397e+00 -2.26979313e+01 -1.14265394e+01\n",
      "  5.69973516e+00  6.25965548e+00  2.19862866e+00 -5.36475134e+00\n",
      " -2.70555325e+01 -9.58656502e+00 -1.64777374e+01  2.05620480e+01\n",
      " -1.79000721e+01  5.59336710e+00 -1.47410221e+01 -1.30095739e+01\n",
      " -3.58956337e+01 -7.63884735e+00 -2.47040558e+00 -3.70693469e+00\n",
      " -6.82868302e-01 -7.36507797e+00 -6.50923347e+00 -1.62747192e+01\n",
      " -1.64782333e+01 -3.10837650e+01  2.33687901e+00 -1.56825819e+01\n",
      " -3.36808090e+01 -7.47515965e+00 -2.74711971e+01 -1.59197197e+01\n",
      "  8.73218727e+00 -1.37116737e+01 -1.89651585e+01 -1.36810284e+01\n",
      " -4.39628601e+00 -1.45046721e+01 -1.06821365e+01 -3.46114769e+01\n",
      "  1.57904899e+00 -6.20419073e+00 -4.09993076e+00 -1.05099809e+00\n",
      " -2.96371059e+01 -2.66895676e+01 -2.68803787e+01 -6.31481838e+00\n",
      " -4.98705139e+01  1.78646529e+00 -3.86153679e+01 -2.57657528e+00\n",
      "  4.46948814e+00 -1.05236540e+01  8.29306030e+00  7.48398542e+00\n",
      " -8.10881042e+00 -3.27267838e+01  1.31977141e+00 -3.84136658e+01\n",
      "  2.91330481e+00 -4.04506063e+00 -1.08075581e+01 -1.72215424e+01\n",
      " -2.27042809e+01 -3.20694427e+01  1.31404667e+01 -2.03365278e+00\n",
      " -1.36601257e+00 -2.73314228e+01 -5.36990356e+00 -1.97697506e+01\n",
      " -2.76611900e+01 -1.79434097e+00  1.38687599e+00 -7.95263672e+00\n",
      " -6.23942137e+00 -7.68625784e+00  1.21081245e+00 -9.41427135e+00\n",
      " -3.81567841e+01 -7.06713390e+00 -1.19278364e+01 -4.77529478e+00\n",
      " -1.08111029e+01 -1.95599785e+01]' has dtype incompatible with int64, please explicitly cast to a compatible dtype first.\n",
      "  preds[val_index] = model.predict(dval_i)\n"
     ]
    },
    {
     "name": "stderr",
     "output_type": "stream",
     "text": [
      "\r",
      " 60%|█████████████████████████████████████████████████████████████████████████████████████████████████████████████████████████████████████▏                                                                                        | 6/10 [04:05<02:29, 37.26s/it]"
     ]
    },
    {
     "name": "stderr",
     "output_type": "stream",
     "text": [
      "C:\\Users\\81809\\AppData\\Local\\Temp\\ipykernel_14940\\3386215446.py:18: FutureWarning: Setting an item of incompatible dtype is deprecated and will raise an error in a future version of pandas. Value '[ 4.50924158e+00  1.20573540e+01 -5.90997648e+00  9.59701633e+00\n",
      "  4.96540737e+00  2.26618176e+01  6.73280096e+00  1.70139647e+00\n",
      "  6.15338326e+00  5.77690792e+00  2.64478350e+00  2.06627631e+00\n",
      "  9.58499551e-01  7.20449924e+00 -2.32847199e-01  2.08092155e+01\n",
      "  2.19279213e+01 -8.94580936e+00  6.05243921e+00 -3.56962055e-01\n",
      "  5.71287251e+00  5.10132372e-01 -4.56444979e+00  5.80183840e+00\n",
      "  8.31882572e+00  1.66662369e+01 -7.89332211e-01  2.75850658e+01\n",
      "  9.10834789e+00 -3.41408372e+00  3.84628797e+00  9.97281361e+00\n",
      "  1.41760712e+01  9.53822994e+00  6.13273478e+00  6.24112427e-01\n",
      "  1.64073315e+01  1.52556443e+00  1.80463433e+00  2.38541365e+00\n",
      " -3.42615880e-03  1.69211531e+00  7.61770678e+00  2.01950788e+00\n",
      "  6.90498829e+00  1.70425568e+01  1.54742651e+01  2.05110812e+00\n",
      " -2.68761158e+00 -1.79745460e+00  6.37172222e+00 -1.79132342e+00\n",
      "  1.41959419e+01 -2.75437307e+00 -1.50811672e-01  1.08783369e+01\n",
      "  2.39243698e+01  2.46754093e+01  1.23241174e+00  5.96808243e+00\n",
      "  9.06240273e+00 -4.20720291e+00  8.68736839e+00  1.65839946e+00\n",
      "  2.05286816e-01 -3.02514839e+00  1.80661564e+01  5.44190073e+00\n",
      "  1.43073616e+01  1.81162281e+01 -6.52711010e+00  6.10128760e-01\n",
      "  5.59345150e+00  1.68633652e+01 -3.18967485e+00  1.85516090e+01\n",
      "  1.10993023e+01  1.31169157e+01  3.60791135e+00 -2.72194386e-01\n",
      "  7.93147039e+00  2.50818443e+00  1.58880444e+01  1.00353918e+01\n",
      " -4.62595415e+00 -1.98559359e-01  8.49097408e-03 -4.11953926e+00\n",
      "  4.14131594e+00  1.54147720e+01 -8.42029870e-01 -3.91330624e+00\n",
      "  2.38754196e+01  4.82998562e+00  1.25043516e+01 -1.02032518e+01\n",
      "  1.33136673e+01  2.96108651e+00  1.28668823e+01 -9.14840794e+00\n",
      "  3.89111996e+00  1.00575905e+01 -3.54246116e+00 -4.32761878e-01\n",
      "  1.36881723e+01  2.10186267e+00 -4.77981997e+00  1.56650996e+00\n",
      " -3.21419144e+00  1.32956374e+00 -8.53624344e-01  7.04860687e+00\n",
      "  8.77611542e+00  2.59933777e+01 -3.05247927e+00 -8.00765800e+00\n",
      " -4.24146223e+00  4.30051231e+00 -1.92142451e+00  2.09444094e+00\n",
      "  8.23174381e+00  1.15810966e+01 -1.24499249e+00  3.87466717e+00\n",
      "  5.14630747e+00  3.12443495e+00  6.86993551e+00  1.60607758e+01\n",
      " -1.72501361e+00 -2.11573195e+00  6.59759808e+00 -2.46087499e-02\n",
      "  7.36270607e-01  1.91363037e+00  3.49269819e+00  1.17767296e+01\n",
      "  2.64867401e+00  5.53305864e+00  8.02591562e-01 -9.02037430e+00\n",
      "  2.16336575e+01  1.08666086e+00  3.81692386e+00  8.05063438e+00\n",
      "  1.64678440e+01 -4.02243233e+00  3.69648695e-01  1.29790487e+01\n",
      "  1.28776941e+01 -2.22145057e+00 -6.32957518e-01  3.81051087e+00\n",
      "  1.42288494e+00 -6.64090443e+00  9.44384098e+00  1.22125311e+01\n",
      "  4.69472075e+00  1.81121802e+00 -3.28227377e+00 -2.81030583e+00\n",
      "  4.83145380e+00  5.36491108e+00  2.36369896e+01  1.99221349e+00\n",
      "  4.75918245e+00  4.80933189e-01  2.53772974e-01  1.86423130e+01\n",
      "  3.20143056e+00 -4.66867238e-01  6.33866501e+00  4.01803446e+00\n",
      "  8.13776493e+00  7.95133924e+00  2.37254158e-01  4.51160622e+00\n",
      "  2.70368195e+00  2.30309296e+01  6.88412762e+00 -5.80801439e+00\n",
      "  9.07224560e+00  3.03038925e-01  6.65096188e+00  1.01594648e+01\n",
      "  2.29719658e+01  1.87771893e+01  3.60012102e+00  2.19365406e+01\n",
      "  1.58096914e+01  2.88644528e+00  5.36421776e+00 -1.84541738e+00\n",
      "  1.06913214e+01  1.55303583e+01  5.47678530e-01  3.68204308e+01\n",
      "  1.45606709e+01 -6.17845106e+00  6.56149435e+00 -5.39822865e+00\n",
      "  1.40545435e+01  8.83717060e+00  3.77750130e+01  6.63122749e+00\n",
      "  5.04413724e-01  2.39817562e+01  7.12494230e+00  7.81865740e+00\n",
      " -7.69913733e-01 -3.34208274e+00  8.98513508e+00  6.88924026e+00\n",
      " -1.01139784e+01  2.95686364e+00  2.57565880e+01  3.56813741e+00\n",
      " -1.33876085e+00  1.83325839e+00  9.73082924e+00  2.11775160e+00\n",
      " -8.98685265e+00  1.07433529e+01  2.67348366e+01  5.31697845e+00\n",
      "  1.46163845e+00  2.13122673e+01  1.49205647e+01  8.44475746e+00\n",
      "  4.57787228e+00 -7.87651682e+00  4.45615997e+01  2.38878369e+00\n",
      "  8.82346821e+00  2.33233719e+01  1.50969219e+01  3.10559063e+01\n",
      "  9.26229656e-01  9.29560661e+00  7.15010834e+00  3.61087837e+01\n",
      "  3.64781914e+01  5.81759262e+00  4.67058086e+00  1.79390888e+01\n",
      "  1.04390419e+00  1.35477757e+00  2.93713646e+01 -2.03082371e+00\n",
      " -3.03760283e-02  8.48176289e+00  1.88798389e+01  1.33914251e+01\n",
      "  1.70794640e+01  1.48715267e+01  1.21506519e+01 -4.92963314e+00\n",
      "  1.25768356e+01  1.51889718e+00  2.79858828e+00  1.43580475e+01\n",
      "  1.23443022e+01 -5.00006390e+00  4.20563469e+01  3.54190140e+01\n",
      " -9.78522015e+00  8.00364208e+00  1.03070092e+00  1.32789612e+01\n",
      "  1.30680552e+01  3.05690689e+01  1.72667236e+01  4.70104141e+01\n",
      "  9.03539419e-01  2.94423943e+01  2.12927341e+01  5.93466520e+00\n",
      "  2.42366638e+01  3.62501264e+00 -9.84096527e+00  4.71312475e+00\n",
      " -7.27932262e+00  1.90659981e+01  6.84010506e+00  3.06702948e+00\n",
      "  2.81928196e+01  3.64007225e+01  4.56273258e-02  6.05435705e+00\n",
      "  1.84286022e+01  2.19561958e+01  1.92545300e+01  6.41396093e+00\n",
      "  5.65766287e+00  1.44277680e+00 -7.45149183e+00 -1.73567355e+00\n",
      "  2.50416431e+01  4.39126396e+00  2.95693722e+01  2.44568348e+00\n",
      " -6.36572480e-01  2.22994556e+01 -3.27473831e+00  2.31336040e+01\n",
      "  2.70348244e+01  4.82918930e+00  1.00455360e+01  1.14362316e+01\n",
      " -4.52491999e+00 -1.38197565e+01 -9.96270084e+00 -9.20201111e+00\n",
      " -4.94251633e+00 -1.10051651e+01 -6.50322294e+00  9.63945627e-01\n",
      " -6.13210821e+00 -6.67994833e+00 -7.84993744e+00  4.71514940e+00\n",
      "  4.11756039e+00 -1.31765089e+01 -2.04718838e+01 -2.07275066e+01\n",
      " -7.15454912e+00  7.55161095e+00 -4.54994631e+00 -1.30084181e+00\n",
      " -5.94605780e+00  5.20426559e+00  2.05611348e+00  1.71124268e+00\n",
      " -8.17580318e+00 -2.33101864e+01 -1.68125286e+01 -1.08607674e+01\n",
      " -4.48101377e+00 -6.66084528e+00 -8.39322567e-01  6.60525799e+00\n",
      "  7.91551495e+00  2.52202064e-01  4.22424316e+00 -7.66408920e+00\n",
      " -6.75250530e+00 -8.50295830e+00 -1.01615038e+01  2.81799674e+00\n",
      "  5.05877209e+00  6.85681581e+00 -2.17355843e+01  1.11221924e+01\n",
      " -1.07605088e+00 -1.48634539e+01 -2.45572815e+01 -1.11522138e+00\n",
      " -4.62910318e+00 -8.08638859e+00  1.57739830e+00 -1.14325285e+00\n",
      " -3.61341977e+00 -2.57866168e+00  1.31413639e+00 -6.06583166e+00\n",
      " -6.43874586e-01 -2.75372772e+01  2.01079464e+00 -1.58461504e+01\n",
      " -2.29340572e+01 -1.66204357e+01 -1.45757747e+00  3.56058431e+00\n",
      " -1.22740984e+01 -5.23863697e+00 -3.19425869e+00 -3.63381910e+00\n",
      " -4.25911188e+00 -5.00327826e+00  2.46483970e+00 -7.19116354e+00\n",
      " -7.57370472e-01 -1.49828405e+01  1.04760075e+00 -5.60242128e+00\n",
      " -7.27893972e+00  3.95078683e+00 -2.78350282e+00  1.51756268e+01\n",
      " -4.82076693e+00  3.65322399e+00  5.04641116e-01 -8.84524727e+00\n",
      " -1.37091112e+00  1.00777521e+01  5.63467312e+00  2.12958384e+00\n",
      "  8.07443714e+00 -4.22089767e+00 -4.39280939e+00  2.36531186e+00\n",
      " -2.43276048e+00 -3.12835383e+00  3.50185609e+00 -2.46068497e+01\n",
      " -1.86299648e+01 -1.74277890e+00 -4.72655392e+00 -2.50333595e+00\n",
      " -7.40600967e+00  4.91945553e+00  4.86327171e+00  1.38982677e+00\n",
      "  3.27775168e+00  2.75771928e+00 -1.04237041e+01  8.42257977e-01\n",
      " -2.01241474e+01 -4.62036848e+00 -1.29532681e+01 -6.75776958e+00\n",
      " -1.96382439e+00  4.12560320e+00 -2.99143753e+01 -9.82801247e+00\n",
      "  1.20589056e+01 -1.58449726e+01  5.54061747e+00 -1.52206383e+01\n",
      "  5.15553761e+00 -2.69920635e+00  2.50703454e+00 -4.58871698e+00\n",
      " -5.50235605e+00 -2.59520841e+00 -4.84472990e+00 -1.22221584e+01\n",
      " -1.22313910e+01 -3.45186323e-01 -1.28902597e+01  2.09365225e+00\n",
      " -1.84304726e+00 -2.10713310e+01 -4.75004387e+00 -9.32141399e+00\n",
      " -4.15025806e+00 -1.07943344e+01 -2.08031940e+01  2.19235229e+00\n",
      " -4.14697790e+00  7.38076866e-01 -3.50372887e+00 -5.31994629e+00\n",
      " -2.99635315e+00 -2.85951066e+00  9.32663143e-01  1.66104736e+01\n",
      "  7.35669851e-01 -3.97408509e+00 -1.98588409e+01 -1.04852753e+01\n",
      " -2.91018271e+00 -3.71283269e+00 -9.68927383e+00 -5.60755920e+00\n",
      " -7.36056137e+00 -3.84153199e+00 -2.19646111e+01  6.03059769e+00\n",
      "  5.86885786e+00 -1.96250606e+00  6.27368689e+00 -1.14857709e+00\n",
      " -5.78775644e+00 -3.11797309e+00 -1.94331133e+00 -4.63862419e+00\n",
      "  2.05285621e+00 -4.71964777e-01  6.33122063e+00 -2.48505592e+00\n",
      "  1.89479303e+00  3.61380172e+00 -9.07410145e-01  1.47342741e+00\n",
      " -2.61521792e+00 -2.32067204e+01 -1.50603466e+01 -3.51909041e+00\n",
      " -2.26354675e+01  1.33925804e-03 -1.29456720e+01 -4.57426453e+00\n",
      "  4.88067293e+00 -4.42732239e+00 -7.44023418e+00 -1.30086651e+01\n",
      " -9.57655907e+00  8.26449618e-02 -1.71120472e+01 -7.50607848e-01\n",
      " -3.92048526e+00 -5.23828459e+00 -5.25412893e+00  8.56215954e+00\n",
      "  4.80993605e+00 -3.30224371e+00 -3.78441167e+00 -5.66671014e-01\n",
      " -2.80629711e+01 -4.34138145e+01  8.01557004e-01 -2.25401735e+00\n",
      " -5.31467819e+00  5.02087116e+00 -2.21283746e+00 -5.24330473e+00\n",
      " -3.50161285e+01 -4.49311686e+00 -1.13834047e+01  4.31478500e+00\n",
      "  1.00969286e+01 -9.56785011e+00 -1.37450428e+01 -7.90057516e+00\n",
      " -2.96754384e+00 -2.66989250e+01 -3.32523117e+01 -2.59986610e+01\n",
      " -3.75981216e+01 -1.46176081e+01 -1.64651566e+01 -3.44779243e+01\n",
      " -2.83718529e+01  9.27982521e+00 -1.92082939e+01 -8.18808365e+00\n",
      "  1.18489027e-01  2.80129004e+00 -4.38972425e+00  6.60260296e+00\n",
      " -1.29819739e+00 -3.08977242e+01 -1.26693258e+01  1.21434557e+00\n",
      "  3.90240288e+00 -2.00294852e+00  5.02786994e-01 -1.47245991e+00\n",
      " -2.87488232e+01 -1.30824709e+00 -5.32273102e+00 -4.65610123e+00\n",
      " -1.60460968e+01 -6.71470642e+00  3.84052515e+00  6.06214094e+00\n",
      " -6.51806402e+00 -2.25311069e+01 -1.41055965e+01 -1.29759617e+01\n",
      " -1.56988549e+00 -1.24767990e+01  9.07279730e-01 -3.92563367e+00\n",
      " -1.12151079e+01 -3.56455460e+01 -6.77104425e+00  1.10898900e+00\n",
      "  5.58068037e+00 -1.78764591e+01 -3.72363520e+00 -2.62523403e+01\n",
      " -2.37029667e+01 -2.86447849e+01 -7.55577326e+00 -1.20573378e+01\n",
      " -1.34319460e+00 -1.70636845e+00 -3.26790047e+00 -2.87592316e+01\n",
      " -1.17993078e+01  4.02255011e+00 -1.15078611e+01 -3.52596359e+01\n",
      " -1.02788031e+00 -1.25872774e+01 -1.44060636e+00 -2.68091774e+01\n",
      " -7.78622627e+00  3.98068130e-01 -2.97837377e+00 -7.00020218e+00\n",
      " -9.29363060e+00 -3.40804214e+01  1.22578907e+00 -2.78387413e+01\n",
      "  4.71588701e-01 -1.22116957e+01 -2.36975555e+01 -2.98596821e+01\n",
      " -1.83189812e+01 -5.71464777e+00 -1.80540586e+00 -1.37671795e+01\n",
      " -1.84618073e+01 -2.55384254e+01  1.39882910e+00 -4.58832016e+01\n",
      " -3.05158215e+01 -1.26223469e+01 -3.33375511e+01 -2.06149983e+00\n",
      " -2.24580994e+01  1.03039694e+01 -1.32161083e+01 -9.04487705e+00\n",
      "  5.88326406e+00 -1.79879551e+01 -8.40728700e-01 -7.49785948e+00\n",
      " -3.28279465e-01  1.98882079e+00 -9.37801600e-01 -3.02297211e+01\n",
      " -5.21141529e+00 -9.66724014e+00 -1.28896456e+01 -3.96276569e+00\n",
      "  2.36459618e+01 -3.65446377e+00 -3.33763885e+01 -3.13877525e+01\n",
      " -4.17372179e+00  2.74699020e+00 -3.90223045e+01  3.10941696e+00\n",
      " -3.69321404e+01 -2.27789059e+01 -1.82245712e+01 -1.27817183e+01\n",
      " -1.37637520e+01 -1.80020771e+01 -9.29838276e+00 -1.77186356e+01\n",
      " -3.04851675e+00  1.92946327e+00]' has dtype incompatible with int64, please explicitly cast to a compatible dtype first.\n",
      "  preds[val_index] = model.predict(dval_i)\n"
     ]
    },
    {
     "name": "stderr",
     "output_type": "stream",
     "text": [
      "\r",
      " 70%|███████████████████████████████████████████████████████████████████████████████████████████████████████████████████████████████████████████████████████████▍                                                                  | 7/10 [04:33<01:43, 34.36s/it]"
     ]
    },
    {
     "name": "stderr",
     "output_type": "stream",
     "text": [
      "C:\\Users\\81809\\AppData\\Local\\Temp\\ipykernel_14940\\3386215446.py:18: FutureWarning: Setting an item of incompatible dtype is deprecated and will raise an error in a future version of pandas. Value '[ 9.64683533e-01 -5.00029993e+00  3.22747612e+00  1.50350976e+00\n",
      "  1.82386894e+01  7.99876869e-01  2.78470991e-03  1.04948950e+01\n",
      " -4.27096415e+00  4.40894318e+00 -2.86984944e+00  6.05042076e+00\n",
      "  4.08709669e+00  1.54300928e+00  6.91477156e+00  7.80612612e+00\n",
      " -7.73522758e+00 -4.93222380e+00  4.43746710e+00  9.34565830e+00\n",
      "  1.22434817e-01 -1.36357278e-01  2.92911935e+00  2.82402287e+01\n",
      "  1.12770061e+01  1.30343831e+00 -6.72898483e+00  1.78433952e+01\n",
      " -4.44576621e-01  4.76381969e+00  1.57962608e+00 -3.65915418e+00\n",
      "  7.57370520e+00 -1.12058651e+00  8.92981625e+00  9.55542469e+00\n",
      "  7.65429783e+00 -9.77186394e+00  7.16566229e+00  1.59624302e+00\n",
      " -1.93686152e+00  5.26400852e+00  1.65147686e+01  1.08625116e+01\n",
      "  2.23877602e+01 -3.93574595e-01  1.78008780e-01  1.36949968e+01\n",
      "  6.23377705e+00  1.81279039e+00  9.62994576e+00  4.14384317e+00\n",
      " -4.63655329e+00 -1.09775984e+00  6.61489916e+00 -2.62535381e+00\n",
      "  2.00715113e+00  7.41145182e+00  5.53020430e+00  3.56119585e+00\n",
      "  1.16407814e+01  1.01431627e+01 -4.12287521e+00 -3.79566646e+00\n",
      "  3.43858862e+00  2.91925836e+00 -1.72352469e+00  2.10471368e+00\n",
      "  1.94404240e+01  7.91405725e+00  5.37559271e+00  1.74824467e+01\n",
      "  7.18675327e+00 -5.04542828e-01 -2.86282730e+00 -6.13242579e+00\n",
      "  9.68684387e+00  7.46073580e+00  1.03529358e+01  6.54835761e-01\n",
      "  4.30198574e+00  6.80698776e+00  6.40121174e+00  1.27786350e+01\n",
      "  3.76461840e+00  1.11553943e+00  4.63000059e+00  3.56457520e+00\n",
      "  2.21690407e+01  1.42932348e+01  8.29869866e-01  8.38110924e+00\n",
      " -1.14002600e+01  3.69503546e+00  5.64387703e+00  1.19239819e+00\n",
      "  1.10015321e+00  9.52830124e+00 -2.58600259e+00  2.12899780e+01\n",
      "  5.60569465e-01 -1.37733769e+00 -1.40977514e+00  2.30689955e+00\n",
      "  1.46007431e+00  7.76830816e+00 -6.03084230e+00  1.23792524e+01\n",
      " -2.16924191e+00 -4.44603622e-01 -5.90119600e+00 -1.76536798e+00\n",
      "  6.48095369e+00 -3.63057899e+00 -1.86545002e+00  8.20939922e+00\n",
      " -5.98412848e+00  8.82034779e-01 -2.92841625e+00 -3.43661046e+00\n",
      "  7.07890320e+00  1.22374496e+01 -4.19240284e+00 -1.69256225e-01\n",
      "  3.91884732e+00 -4.49279451e+00  3.74186444e+00  7.48912144e+00\n",
      " -1.17982298e-01  1.57673798e+01  1.48809652e+01  3.50065041e+00\n",
      " -4.50058842e+00 -6.26780272e+00 -2.08525658e+00  2.59610987e+00\n",
      "  5.07975292e+00 -6.10977030e+00  3.40064335e+00  1.19992056e+01\n",
      " -2.05142736e+00 -3.27932429e+00  5.87025523e-01  4.92433339e-01\n",
      "  5.87167597e+00 -5.78794432e+00  8.85137844e+00  1.53107243e+01\n",
      "  1.46162033e+01  1.06047983e+01  2.13149285e+00  1.21704445e+01\n",
      "  1.27379668e+00  8.24709460e-02  9.71613503e+00  2.23056927e+01\n",
      " -3.47365260e-01 -9.02857494e+00  3.22975183e+00  5.31719875e+00\n",
      "  3.49449444e+00 -4.02970552e-01  2.09727430e+00  1.06559868e+01\n",
      " -4.20145369e+00  1.03703833e+00 -1.71659317e+01  1.74610729e+01\n",
      " -3.73315287e+00  2.21374912e+01  3.16640258e+00  1.05898702e+00\n",
      "  9.26386642e+00  5.79129934e+00  1.15696831e+01  3.10503340e+00\n",
      "  4.26445913e+00  2.42310429e+00  2.63572001e+00  5.22581577e-01\n",
      "  3.52144790e+00 -2.11991167e+00  4.63581562e+00 -4.32930660e+00\n",
      "  2.10921211e+01  2.20155907e+01 -3.35006006e-02  2.71135712e+00\n",
      " -5.96612644e+00  6.21881437e+00  4.98730564e+00 -3.74276900e+00\n",
      "  4.45597124e+00  7.24261332e+00  9.80476570e+00  3.11208439e+00\n",
      "  2.19282303e+01 -3.54731488e+00  1.11776733e+01  2.42963409e+01\n",
      " -3.82556295e+00 -9.32065547e-01 -4.26461935e+00 -1.59548509e+00\n",
      " -3.65742254e+00  2.07837653e+00  6.07470703e+00 -2.42643499e+00\n",
      "  1.56495371e+01 -3.43698001e+00 -1.84632087e+00  5.60730934e-01\n",
      "  1.87188911e+01  3.21782637e+00  3.96701312e+00  1.14090071e+01\n",
      "  2.30495429e+00 -1.88397789e+00  4.82545471e+00  2.00571918e+01\n",
      "  2.94694233e+01 -1.31526840e+00  2.64730701e+01  2.85636377e+00\n",
      "  4.19828129e+00  1.95599976e+01  6.06429863e+00 -6.08900845e-01\n",
      "  2.09810677e+01 -9.84178925e+00 -1.04442282e+01 -4.68638611e+00\n",
      "  6.53592205e+00 -4.36905193e+00  3.46336174e+01  1.63828621e+01\n",
      "  2.02852135e+01  4.26828814e+00  1.97175827e+01  7.11156559e+00\n",
      "  6.04705811e+00 -4.31606531e+00  3.19740524e+01  1.28434811e+01\n",
      "  2.88737450e+01  4.46467906e-01  1.13345776e-02  2.96930256e+01\n",
      "  1.22128191e+01  2.42916603e+01  1.91894760e+01  1.56144037e+01\n",
      "  1.95483456e+01  6.67685080e+00  1.37238932e+01  1.76732349e+00\n",
      "  1.61342869e+01 -6.95103359e+00  7.87754488e+00 -1.62869513e+00\n",
      "  2.06679344e+00  1.14770622e+01 -4.60152960e+00  2.36844158e+01\n",
      "  2.77433777e+01  8.05271530e+00  1.52839174e+01  7.10243416e+00\n",
      " -2.34799296e-01  1.42770720e+01  3.07646704e+00  1.74328671e+01\n",
      "  7.76139736e-01  1.56066875e+01  1.40934935e+01 -6.97547019e-01\n",
      " -1.01279230e+01  6.81618118e+00  1.92803726e+01 -1.11656551e+01\n",
      "  9.74086857e+00  2.84524846e+00  2.94187279e+01  6.09224319e-01\n",
      " -9.39421082e+00  7.02956963e+00 -8.20511913e+00  3.54947233e+00\n",
      "  3.19902658e+00  1.12404644e+00  3.05126438e+01  1.90542240e+01\n",
      "  2.63317127e+01  4.66118813e+00  4.82520599e+01  1.28811016e+01\n",
      "  3.61615639e+01  1.47884312e+01  1.14717174e+00  4.80613184e+00\n",
      "  2.18573513e+01  7.85765409e+00  1.26861792e+01 -8.48773193e+00\n",
      " -9.30958939e+00  7.98258114e+00  1.82971919e+00  3.09309845e+01\n",
      "  1.12589037e+00 -3.53796452e-01 -3.18762469e+00  2.15939546e+00\n",
      " -1.49865174e+00  1.59717445e+01  6.30038691e+00  8.24124336e+00\n",
      "  3.19450188e+01 -9.58408451e+00  8.61223984e+00  1.33845530e+01\n",
      "  8.73730946e+00  2.03796921e+01 -9.59521389e+00  2.89496746e+01\n",
      " -1.53718739e+01  3.91621933e+01 -6.41521692e+00  3.05008869e+01\n",
      "  6.70818949e+00  1.87012634e+01  1.94002552e+01  1.13007748e+00\n",
      " -1.26403675e+01  2.51755505e+01  9.73274136e+00  1.16760216e+01\n",
      "  7.14424610e+00  1.84716568e+01  3.67126584e+00 -1.00971432e+01\n",
      "  3.34343761e-01  2.71551514e+00 -1.11215334e+01 -6.14725637e+00\n",
      " -2.28003860e+00 -8.34041119e+00 -6.89803219e+00 -4.97715855e+00\n",
      " -6.71290970e+00 -6.01520586e+00 -7.39593458e+00 -2.11920605e+01\n",
      "  1.00819149e+01 -7.01402855e+00 -2.55606699e+00 -6.08559370e+00\n",
      " -1.77420318e-01 -3.29318213e+00 -5.29868698e+00 -1.04118004e-01\n",
      "  5.52344359e-02 -5.76841688e+00 -9.73899651e+00 -2.40552082e+01\n",
      " -3.21245074e+00  1.97245061e+00 -5.00955963e+00 -2.75342255e+01\n",
      " -5.02040815e+00 -5.35653973e+00  3.37146854e+00 -2.29734492e+00\n",
      " -1.10452976e+01 -1.11106277e+00 -9.57944202e+00 -7.03191376e+00\n",
      "  5.17081976e+00  1.51842725e+00  2.56512195e-01 -4.38902617e+00\n",
      " -6.38341665e+00 -9.23873138e+00 -9.31690979e+00 -1.34899616e+01\n",
      " -4.51973009e+00  1.55781531e+00 -1.34611011e+00 -1.89699686e+00\n",
      " -5.80305338e+00 -8.82530689e+00 -1.14634008e+01  3.18419647e+00\n",
      " -1.00790272e+01 -4.89954042e+00 -6.04838228e+00 -3.75477719e+00\n",
      "  7.29328513e-01 -8.06226540e+00 -6.62198162e+00 -2.34176083e+01\n",
      " -8.11590004e+00 -7.45831394e+00  1.24373662e+00 -1.38274231e+01\n",
      " -2.46252308e+01  2.68014222e-01 -2.62926245e+00  1.06504021e+01\n",
      " -1.74104919e+01 -1.19251156e+01 -1.73163450e+00 -1.89999065e+01\n",
      " -4.50948429e+00 -9.69403982e-01  4.87063456e+00 -1.16014700e+01\n",
      " -7.15786743e+00  1.12825089e+01 -1.55224714e+01 -1.63256474e+01\n",
      " -4.90917253e+00  5.01676989e+00 -6.11017513e+00  2.41993856e+00\n",
      " -9.37162209e+00 -5.09977198e+00 -1.38458805e+01  5.62932539e+00\n",
      "  9.56765938e+00 -4.35394859e+00  1.43922317e+00 -1.74067378e+00\n",
      " -1.92191100e+00 -1.22355013e+01  1.19738684e+01 -2.12267971e+01\n",
      " -5.42335606e+00 -2.02670193e+00 -2.23873959e+01 -1.86056976e+01\n",
      " -1.09971752e+01 -2.39204669e+00 -1.21525371e+00  1.21033502e+00\n",
      "  1.41716099e+01  5.96084452e+00 -1.59573054e+00 -7.31214714e+00\n",
      " -4.97327709e+00 -1.87401623e-01  9.68447113e+00  1.70870724e+01\n",
      "  5.25444508e+00 -9.24470711e+00 -5.17928076e+00 -3.99066162e+00\n",
      "  2.12162852e+00  2.58367777e+00 -2.17128410e+01  6.17348671e+00\n",
      " -8.11858356e-01 -1.68359613e+00  2.64341116e-01 -1.33448973e+01\n",
      " -1.42381001e+00  5.64921951e+00 -1.77518520e+01 -1.62393684e+01\n",
      " -2.18268185e+01 -1.03536186e+01 -1.14635286e+01  9.86427116e+00\n",
      " -2.24021645e+01 -3.10198069e+00 -7.26104259e-01  6.72370672e+00\n",
      " -4.53244543e+00  4.18725538e+00  1.32496822e+00  5.18208206e-01\n",
      " -2.94403100e+00 -8.50022221e+00 -1.67393267e+00 -1.80182724e+01\n",
      " -5.84106636e+00 -4.45946026e+00 -5.09825277e+00 -2.61156607e+00\n",
      "  5.87660313e+00 -5.34071636e+00  4.74499971e-01 -6.27991724e+00\n",
      " -2.23035932e+00 -9.75142479e-01 -1.42882872e+00 -3.37281227e+00\n",
      "  3.82398248e+00 -2.37029381e+01  1.72670403e+01  3.52810669e+00\n",
      "  1.24329824e+01 -3.98618722e+00  4.01906061e+00 -4.17587996e+00\n",
      " -2.66803789e+00 -1.08350658e+01  3.68470025e+00 -1.77699709e+00\n",
      " -2.63910961e+01 -6.33662033e+00 -5.71530998e-01 -8.76473844e-01\n",
      " -3.14832664e+00 -6.00950241e+00 -1.69901962e+01 -4.79245138e+00\n",
      " -7.00144625e+00 -8.70568943e+00 -7.94585514e+00 -2.03653049e+00\n",
      " -3.83259273e+00  7.30207443e+00 -6.36476564e+00  9.43134022e+00\n",
      " -3.79832864e+00 -6.26817894e+00 -3.06403503e+01 -1.87212105e+01\n",
      " -9.41214657e+00 -5.21406555e+00 -3.90460038e+00 -2.74573727e+01\n",
      " -1.05766001e+01 -2.78807507e+01 -1.32241192e+01 -1.79273403e+00\n",
      " -3.04529786e+00 -9.40068245e+00 -3.51634712e+01 -1.54375398e+00\n",
      " -1.35089521e+01 -8.17274094e+00  1.78309107e+00 -1.05835657e+01\n",
      " -6.57192802e+00 -6.56168127e+00 -1.34587965e+01 -1.35519352e+01\n",
      " -3.19254475e+01 -2.74828339e+01 -3.64869423e+01 -8.04772079e-01\n",
      "  1.86311972e+00 -1.91173763e+01 -2.55337524e+01 -2.89704323e+01\n",
      "  5.99697351e+00  8.82212925e+00 -1.00353479e+00 -7.43274546e+00\n",
      " -3.89005852e+01 -5.61083257e-01 -2.92688675e+01 -3.24937172e+01\n",
      " -1.38531647e+01 -3.01904545e+01 -1.86772215e+00 -1.58381338e+01\n",
      " -7.73700905e+00 -4.14257545e+01  6.74315739e+00 -1.48035252e+00\n",
      " -2.21836319e+01 -1.99674740e+01 -2.99375683e-01 -7.28522682e+00\n",
      " -1.91012058e+01 -3.35363541e+01 -3.24712677e+01 -4.99060392e+00\n",
      "  2.60393786e+00  1.00878124e+01 -2.58025131e+01 -9.57678699e+00\n",
      " -1.45038519e+01 -4.15132284e+00 -2.05329647e+01 -1.22868166e+01\n",
      " -4.19210281e+01  3.92692709e+00 -6.74094856e-01 -1.01618958e+00\n",
      " -1.89693661e+01  7.28680611e+00 -3.75560141e+00 -6.04905748e+00\n",
      " -8.25851536e+00  4.88909769e+00 -3.50914879e+01 -5.73697281e+00\n",
      "  8.98604870e+00 -8.08988762e+00  7.84536743e+00 -1.49343309e+01\n",
      "  3.67714000e+00 -6.95247555e+00 -1.15725327e+01 -1.48457479e+01\n",
      " -1.06617470e+01 -2.61856022e+01 -1.31066856e+01  2.61264563e+00\n",
      "  1.48212123e+00  2.44904947e+00  6.43291807e+00 -1.96342106e+01\n",
      " -7.12954760e+00 -1.00879641e+01  5.35385895e+00  8.17735386e+00\n",
      " -2.73269844e+01  1.97557390e-01 -2.39585438e+01 -3.06933346e+01\n",
      "  3.54487729e+00 -1.09402800e+00  7.76145363e+00 -6.89749432e+00\n",
      " -1.11333275e+01 -1.52807903e+01 -2.34950047e+01  1.04838982e+01\n",
      " -2.56306195e+00 -8.81406498e+00 -3.86981344e+00 -2.54917545e+01\n",
      " -3.63606873e+01 -3.57832336e+01 -1.72725220e+01  6.18220377e+00\n",
      " -1.52681513e+01 -1.51884766e+01  1.28750019e+01 -2.47222233e+01\n",
      " -1.87177982e+01 -2.57574201e+00]' has dtype incompatible with int64, please explicitly cast to a compatible dtype first.\n",
      "  preds[val_index] = model.predict(dval_i)\n"
     ]
    },
    {
     "name": "stderr",
     "output_type": "stream",
     "text": [
      "\r",
      " 80%|█████████████████████████████████████████████████████████████████████████████████████████████████████████████████████████████████████████████████████████████████████████████████▌                                            | 8/10 [04:57<01:02, 31.04s/it]"
     ]
    },
    {
     "name": "stderr",
     "output_type": "stream",
     "text": [
      "C:\\Users\\81809\\AppData\\Local\\Temp\\ipykernel_14940\\3386215446.py:18: FutureWarning: Setting an item of incompatible dtype is deprecated and will raise an error in a future version of pandas. Value '[ 8.19110107e+00 -5.88141108e+00  1.07193623e+01  8.07639313e+00\n",
      "  6.55458593e+00  7.00672913e+00  5.19234324e+00  2.41995144e+00\n",
      " -1.12828386e+00  3.13635015e+00 -3.13444829e+00  2.76439905e+00\n",
      " -6.53041065e-01  2.12240429e+01  2.78380847e+00  1.38226500e+01\n",
      "  4.44960499e+00  3.71278143e+00  7.51106405e+00  3.24419069e+00\n",
      "  6.41924191e+00  4.49361134e+00  1.03362932e+01 -2.16032815e+00\n",
      "  6.46398592e+00  4.49807358e+00  1.06670465e+01  6.09783745e+00\n",
      "  2.37021422e+00  2.59574490e+01  4.50051355e+00 -8.37942410e+00\n",
      "  4.30883074e+00  1.53904772e+01  9.33536816e+00 -6.31169653e+00\n",
      "  5.04785538e+00  7.87739098e-01  4.44384739e-02 -7.51627350e+00\n",
      " -4.13988733e+00  1.09407148e+01  2.99522662e+00  6.91639853e+00\n",
      "  2.09248695e+01  9.04930210e+00  6.70202827e+00  6.12380266e-01\n",
      " -3.03747606e+00  2.46896696e+00  5.10090733e+00  3.55899358e+00\n",
      "  5.87004662e-01  1.59384689e+01  3.91703510e+00  1.04026108e+01\n",
      "  2.26408443e+01  8.65370178e+00 -3.79038692e+00  6.87270975e+00\n",
      "  3.23456550e+00  3.16248536e+00  3.38627148e+00  8.70259106e-01\n",
      "  7.47237682e+00  1.02992964e+01  3.60152221e+00  3.58687496e+00\n",
      "  1.43207865e+01  2.45592918e+01 -4.48067284e+00  6.12047338e+00\n",
      "  7.02974260e-01  9.55453777e+00  2.61914253e+00  3.02363932e-01\n",
      "  2.17839985e+01  8.14685249e+00  1.30098886e+01  2.92004514e+00\n",
      "  1.59940224e+01 -2.21381402e+00  9.24055767e+00  7.99014759e+00\n",
      "  3.80163002e+00 -8.73695493e-01 -8.37601125e-01  6.74913692e+00\n",
      "  2.03432131e+00  6.74288845e+00  1.74461327e+01 -4.71881056e+00\n",
      "  3.80534202e-01  3.91559887e+00 -6.14459658e+00 -3.12909698e+00\n",
      " -2.50052333e+00 -7.65005541e+00  6.01908080e-02 -5.50480671e-02\n",
      "  2.61346650e+00  1.46990433e-01 -1.05566282e+01  2.54165268e+00\n",
      " -1.76849926e+00  7.74228334e-01  2.26721897e+01 -4.92828083e+00\n",
      "  1.34990673e+01  1.44436674e+01  6.59108734e+00 -2.45752764e+00\n",
      "  9.47872734e+00 -8.98846817e+00 -1.17671990e+00 -3.06301498e+00\n",
      "  4.75334740e+00 -8.76789474e+00  2.78135037e+00 -1.35821414e+00\n",
      "  8.58257580e+00  8.56394577e+00 -3.92567039e+00  1.22736778e+01\n",
      "  6.96199894e+00  7.71299887e+00  2.06467953e+01 -7.51036310e+00\n",
      "  1.50120773e+01  9.26361084e+00 -2.61264706e+00  6.69756937e+00\n",
      "  4.93981028e+00  1.15181506e+00  3.86719480e-02 -1.49508893e-01\n",
      "  1.26556196e+01  1.17501183e+01 -6.70329571e+00  1.10929871e+01\n",
      "  2.19357228e+00  8.68248081e+00  2.05398865e+01  3.22765970e+00\n",
      "  1.92440844e+00  1.75867593e+00 -2.75942266e-01  8.42831373e-01\n",
      "  4.19653225e+00  5.83502960e+00  3.09720016e+00  1.16152048e+01\n",
      " -1.21631157e+00 -3.79918122e+00  2.05698419e+00 -1.21032038e+01\n",
      "  2.93169460e+01  1.58187571e+01 -1.79665554e+00  1.78626766e+01\n",
      "  1.27125874e+01  2.88049626e+00  1.09527044e+01  1.46600521e+00\n",
      "  1.10244596e+00 -1.00219536e+00 -4.14898872e+00  3.83148003e+00\n",
      " -1.80981100e+00  2.04516721e+00 -4.37279880e-01 -1.19560230e+00\n",
      "  1.09336698e+00 -1.54121780e+00  4.18907452e+00  1.93977814e+01\n",
      "  6.84415483e+00  1.44154758e+01 -6.21308613e+00  2.01380253e+01\n",
      " -1.90069461e+00  3.45038509e+00  5.25837326e+00  1.86269975e+00\n",
      "  7.95523596e+00 -7.99208307e+00  1.91979980e+01  4.18493700e+00\n",
      "  6.11279535e+00 -1.48454690e+00  9.65889549e+00  1.46735115e+01\n",
      "  2.03658657e+01 -4.03475285e+00  1.39467919e+00  5.75807869e-01\n",
      "  6.30073786e+00  4.99090099e+00  4.08155155e+00 -5.20362329e+00\n",
      "  7.84380341e+00  8.33037472e+00  1.01562948e+01  2.40340328e+01\n",
      "  4.67807341e+00  2.44172955e+00  2.29397488e+00  5.32795763e+00\n",
      "  6.11329889e+00 -1.84964046e-01  1.08489408e+01  6.75048161e+00\n",
      "  1.98306160e+01  8.33274269e+00  2.73788738e+00 -1.30312920e+00\n",
      "  3.87140236e+01 -9.80047894e+00  5.35195827e+00 -1.11756153e+01\n",
      " -6.25413704e+00  1.29410505e+01  4.48203087e-01  4.09682035e+00\n",
      "  8.04882526e+00 -9.80164349e-01  2.66849346e+01  5.48611355e+00\n",
      "  8.49217987e+00  2.43699017e+01  4.84801960e+00  1.99488926e+01\n",
      " -8.02962208e+00  2.95273266e+01  3.13406353e+01  8.82605672e-01\n",
      " -1.50736656e+01  2.03122830e+00  2.24265528e+00  6.01983881e+00\n",
      "  7.81930494e+00  1.77997017e+01  6.83606815e+00  1.55686407e+01\n",
      "  2.92108383e+01  1.18411026e+01  3.66191444e+01 -2.53162098e+00\n",
      "  1.01737375e+01  1.11358321e+00  1.72269554e+01  1.24293509e+01\n",
      "  2.63220272e+01 -3.87055445e+00  2.46353168e+01  1.40220556e+01\n",
      "  1.04656105e+01  3.33467522e+01  1.11521235e+01  2.79594383e+01\n",
      "  3.67902160e+00  6.26801586e+00  2.63601665e+01  2.31722522e+00\n",
      "  5.53792334e+00  8.90624619e+00  1.04068718e+01 -4.57847691e+00\n",
      "  1.49804878e+01  4.30659714e+01  8.49500465e+00 -1.05169897e+01\n",
      "  1.01616163e+01 -2.14091897e+00 -9.51707935e+00  4.39178276e+00\n",
      " -4.70042229e+00  1.18340406e+01  4.44145918e+00  6.64444160e+00\n",
      " -2.67415071e+00  3.64294395e+01  1.41014366e+01  3.13127098e+01\n",
      "  2.14494953e+01  3.12955999e+00  8.90830421e+00  1.69281483e+01\n",
      "  5.47719002e+00 -7.82044744e+00  2.09397888e+01  5.48272228e+00\n",
      "  2.30193758e+00  2.25808487e+01  9.58968163e+00  3.16818180e+01\n",
      "  7.28838348e+00  3.12959652e+01  3.87792706e+00 -1.02303057e+01\n",
      "  4.76885033e+00  5.01402712e+00  6.98226786e+00  6.39766073e+00\n",
      " -1.23843069e+01  1.56721754e+01  2.90236759e+01 -2.61564875e+00\n",
      "  3.90389633e+01  8.66644573e+00  2.58617001e+01  3.67042084e+01\n",
      " -5.59190702e+00  3.77081680e+01  4.96927834e+00  1.32363977e+01\n",
      "  3.66614556e+00  3.08962846e+00  1.12491312e+01  2.64203472e+01\n",
      "  1.15670128e+01 -1.33792567e+00 -2.06712704e+01 -5.81553841e+00\n",
      "  4.23852301e+00 -1.26387396e+01 -2.42227192e+01 -7.67565393e+00\n",
      " -3.21390414e+00 -8.31525707e+00 -5.27245378e+00 -3.05912519e+00\n",
      " -2.05019188e+01 -3.10591507e+00 -2.67641106e+01 -4.18050289e+00\n",
      " -7.48177862e+00 -5.96000850e-01 -6.37394381e+00 -2.77156043e+00\n",
      " -7.77573967e+00 -9.42238426e+00  6.38344622e+00 -1.35065138e+00\n",
      "  6.51178789e+00  5.12890100e+00 -7.86466694e+00 -5.00499535e+00\n",
      "  5.56629717e-01 -2.54151783e+01  6.24813855e-01  4.88644242e-01\n",
      " -2.80133343e+01  1.09950614e+00  1.28885574e+01 -7.65065670e+00\n",
      "  7.49049425e+00 -9.10473156e+00 -5.57421112e+00 -5.60223389e+00\n",
      " -5.82689714e+00  3.77175093e+00  1.61379504e+00 -8.52556646e-01\n",
      " -9.72692204e+00 -2.13236122e+01 -8.87709236e+00 -1.33630028e+01\n",
      "  5.26383305e+00 -3.37603998e+00  2.19027209e+00  8.39711726e-01\n",
      " -1.63436260e+01 -6.48677397e+00 -2.25662651e+01 -1.66579497e+00\n",
      "  2.39632797e+00 -6.77784348e+00 -4.04094601e+00  2.95102429e+00\n",
      " -2.51032276e+01 -1.12082148e+01 -1.43589506e+01 -1.37511039e+00\n",
      " -4.22944933e-01  1.02711618e+00  1.03121507e+00 -2.36487579e+00\n",
      " -3.08118296e+00  1.02611923e+00 -2.90115786e+00 -4.89583397e+00\n",
      " -7.48814631e+00 -1.96006908e+01  5.95856762e+00  3.26603484e+00\n",
      " -1.02531266e+00 -3.55241537e+00 -3.00408196e+00 -6.60674715e+00\n",
      " -1.83437920e+01 -3.24930757e-01  3.40201020e-01 -8.11028242e-01\n",
      "  2.25632405e+00 -9.11823654e+00 -2.46342239e+01 -1.62665310e+01\n",
      " -9.61166573e+00 -1.02781105e+01 -7.32016134e+00 -3.55228114e+00\n",
      " -5.42376041e+00 -3.17519546e+00 -5.95401287e+00 -1.81641808e+01\n",
      "  1.65251112e+00  2.94456530e+00  1.43590336e+01  5.26720192e-03\n",
      "  3.48555923e+00  3.78776789e-01 -2.34478760e+01 -2.41067305e-01\n",
      " -1.33695564e+01 -1.58054996e+00  8.74206257e+00  3.20188212e+00\n",
      " -5.76579046e+00  3.51077884e-01 -1.58724451e+01 -8.55868042e-01\n",
      " -6.90446711e+00  1.23299587e+00 -1.49533968e+01 -1.77736721e+01\n",
      " -2.95318794e+00  5.41863489e+00 -2.84879208e+00  8.24055767e+00\n",
      " -7.37243509e+00 -2.02039671e+00 -1.03036737e+01  5.86951971e+00\n",
      " -6.44060326e+00  5.35646963e+00 -2.67787952e+01 -4.72694492e+00\n",
      " -1.00893459e+01 -2.00123692e+01  4.50931454e+00 -7.75348759e+00\n",
      "  4.43733644e+00 -1.30228443e+01 -2.04231129e+01  5.38740754e-01\n",
      " -1.69983268e+00  6.10315800e-01 -9.05449390e+00 -4.76971054e+00\n",
      " -1.27955847e+01  2.65441346e+00 -2.46452045e+00 -2.23656440e+00\n",
      " -8.49838734e+00  2.39705396e+00 -1.18692076e+00 -1.04397106e+01\n",
      " -5.32588196e+00 -3.67975020e+00 -1.17957487e+01  9.52353382e+00\n",
      " -2.14554672e+01 -5.69006014e+00 -3.65772128e+00 -1.74980909e-01\n",
      "  6.30369616e+00 -4.06997919e+00 -2.91847229e+00 -4.57121611e+00\n",
      "  4.25726891e+00 -1.34623992e+00  2.87356281e+00  1.70845878e+00\n",
      "  4.20783997e+00 -3.32356858e+00  1.23807430e+00  4.39491570e-01\n",
      "  9.97836208e+00  9.17237699e-01 -1.46357355e+01  2.86741519e+00\n",
      " -4.03825188e+00 -2.23993416e+01  1.14199209e+01  3.92664112e-02\n",
      " -9.93896544e-01 -5.67378378e+00  7.30782926e-01 -1.32924623e+01\n",
      " -2.34452629e+00  3.41857266e+00 -2.58089027e+01  4.87983179e+00\n",
      "  3.62023067e+00  1.16880369e+01 -6.22972071e-01 -8.06874657e+00\n",
      " -1.43601596e+00 -9.81279659e+00 -4.49139071e+00 -5.13593006e+00\n",
      " -1.46597605e+01 -7.06985950e+00  1.30855834e+00  6.10188007e+00\n",
      " -6.41700506e+00  8.19037929e-02 -5.40322924e+00 -3.23605323e+00\n",
      " -1.66827354e+01  4.31841516e+00 -8.26200199e+00 -3.34441566e+00\n",
      " -2.24494743e+01 -1.23732157e+01 -6.50724590e-01  8.16101074e+00\n",
      "  6.88302946e+00 -5.87038136e+00 -1.95656338e+01 -2.80064034e+00\n",
      " -1.11544828e+01 -3.13118649e+01 -3.40034981e+01 -2.83961601e+01\n",
      " -4.96669436e+00 -2.01079330e+01 -2.24476280e+01  4.03168201e-01\n",
      " -9.07372665e+00 -6.32678080e+00 -2.71157122e+00  8.10271740e+00\n",
      "  2.03387216e-01 -6.27038717e+00  1.21896613e+00 -3.70709419e+00\n",
      " -8.76002192e-01 -3.79285927e+01 -3.12831306e+01 -2.65485821e+01\n",
      " -4.33919477e+00 -2.20556507e+01 -7.92228365e+00 -5.82145739e+00\n",
      " -7.23336649e+00 -4.11919069e+00  8.51657271e-01 -1.88375893e+01\n",
      " -4.48369064e+01 -2.79903245e+00 -2.15279179e+01 -1.91072712e+01\n",
      " -1.31355639e+01 -1.22623653e+01 -3.13893433e+01  1.21426441e-01\n",
      " -3.18582802e+01 -7.95570755e+00 -2.27030735e+01 -2.81498413e+01\n",
      "  9.95685518e-01 -5.25017643e+00 -2.11945076e+01  5.29323053e+00\n",
      " -8.83138371e+00  2.65995073e+00 -3.07531948e+01 -1.65973644e+01\n",
      " -1.12317400e+01 -1.66536503e+01 -7.71103191e+00 -4.00695276e+00\n",
      "  4.25379705e+00 -6.42148399e+00  8.37538600e-01 -2.23870635e+00\n",
      " -9.87383425e-01 -2.26973801e+01 -9.81646538e+00  2.00108513e-01\n",
      " -1.82366619e+01 -2.54878807e+00 -1.28597736e+01  3.16654348e+00\n",
      " -3.46469536e+01 -4.09538954e-01  8.07981110e+00  6.59398794e+00\n",
      " -2.94436970e+01  4.72759455e-01 -2.24235311e-01  5.66112921e-02\n",
      "  6.11615515e+00 -2.41742897e+00 -1.55648136e+01 -2.48337593e+01\n",
      " -8.22479129e-01 -1.01245689e+01  1.09372444e+01  1.38558602e+00\n",
      "  4.36833048e+00 -1.02976151e+01 -2.47177124e+01 -6.81329632e+00\n",
      " -3.71251068e+01 -3.09598637e+01  4.16732550e+00 -1.34201527e+01\n",
      " -2.32476368e+01 -5.38583994e+00 -6.43383646e+00  1.56903398e+00\n",
      "  1.16541090e+01  4.05719995e+00 -3.03402591e+00 -2.90978107e+01\n",
      " -1.54140196e+01 -8.76621532e+00 -3.99816799e+00  1.27816296e+00\n",
      "  9.42163754e+00  3.30283761e+00 -3.64213198e-01 -2.21949749e+01\n",
      "  6.68906927e+00 -1.89234619e+01 -1.16198940e+01 -3.72148371e+00\n",
      " -1.19634056e+00  1.29001493e+01 -3.00302696e+01 -9.36421967e+00\n",
      " -2.51643734e+01 -8.18043995e+00]' has dtype incompatible with int64, please explicitly cast to a compatible dtype first.\n",
      "  preds[val_index] = model.predict(dval_i)\n"
     ]
    },
    {
     "name": "stderr",
     "output_type": "stream",
     "text": [
      "\r",
      " 90%|███████████████████████████████████████████████████████████████████████████████████████████████████████████████████████████████████████████████████████████████████████████████████████████████████████▊                      | 9/10 [05:34<00:32, 32.89s/it]"
     ]
    },
    {
     "name": "stderr",
     "output_type": "stream",
     "text": [
      "C:\\Users\\81809\\AppData\\Local\\Temp\\ipykernel_14940\\3386215446.py:18: FutureWarning: Setting an item of incompatible dtype is deprecated and will raise an error in a future version of pandas. Value '[ 4.05232620e+00 -6.05384207e+00  2.14411869e+01  1.93964052e+00\n",
      "  4.95106125e+00 -6.05690575e+00  3.81037307e+00  3.34175587e+00\n",
      " -7.66875029e+00  4.57520694e-01 -3.74860978e+00  1.76406250e+01\n",
      "  2.74323711e+01 -1.54912686e+00  2.10970154e+01  1.64225209e+00\n",
      "  7.28186417e+00  2.01719069e+00  1.64946103e+00  2.40706897e+00\n",
      " -1.41318595e+00  1.64819658e+00  6.71997786e-01  4.82151937e+00\n",
      "  5.19988966e+00  8.61927605e+00 -9.51514542e-02  1.01331158e+01\n",
      "  2.95432043e+00  2.13979301e+01 -3.10110641e+00 -3.32779860e+00\n",
      "  5.31069565e+00  1.37735114e-01  2.77074981e+00 -1.29431760e+00\n",
      " -3.97776437e+00  7.88005638e+00  4.50126767e-01  9.71998870e-01\n",
      "  1.89452038e+01 -5.37619352e+00  2.27435231e+00 -7.58283329e+00\n",
      " -1.64865541e+00 -1.18478136e+01  1.66874561e+01  1.41256447e+01\n",
      "  5.46249485e+00  1.71871340e+00 -2.46204591e+00  6.29496145e+00\n",
      " -3.84991050e+00  4.39294338e+00  1.02381110e+00 -1.89717340e+00\n",
      "  8.67972016e-01 -4.50338125e+00  1.02542582e+01  2.39561291e+01\n",
      "  1.47964134e+01  5.33085155e+00  5.39923000e+00  1.51296186e+01\n",
      " -3.08307886e+00  3.44813991e+00 -4.34052277e+00 -2.37722921e+00\n",
      "  3.68580961e+00  5.10951567e+00 -3.26369822e-01  1.78808365e+01\n",
      "  8.25811863e+00  4.68482590e+00 -2.50683212e+00  3.35720825e+00\n",
      " -1.77878165e+00  5.66536999e+00  2.43736248e+01  2.08666396e+00\n",
      " -3.71032047e+00 -3.25984001e+00  1.31751370e+00  4.35685968e+00\n",
      "  3.15141773e+00  1.15572643e+00  1.22057848e+01  2.51566525e+01\n",
      "  7.43633127e+00  1.52516737e+01 -1.18917675e+01  1.47057652e+00\n",
      "  2.22574310e+01  4.03776598e+00  5.28869581e+00  1.20941019e+01\n",
      " -9.36306342e-02  5.87836838e+00  5.23929262e+00  2.15524149e+00\n",
      "  1.55035820e+01  9.06714535e+00  1.52012053e+01  2.45448804e+00\n",
      "  1.26029034e+01 -1.06095085e+01 -6.37570429e+00  9.55622482e+00\n",
      "  8.60577869e+00  1.72256446e+00  3.70365763e+00 -2.88574576e+00\n",
      "  4.65347290e+00 -1.42374367e-01  1.89630928e+01  5.15527487e+00\n",
      "  2.00911484e+01  4.99730730e+00  2.27819467e+00 -1.53324566e+01\n",
      "  6.19251633e+00 -3.29704499e+00 -1.90848792e+00 -5.83981895e+00\n",
      "  3.05104208e+00  2.53366661e+01  4.01550388e+00  4.52061129e+00\n",
      " -5.17441320e+00  1.36583376e+01  3.01811123e+00 -5.14354348e-01\n",
      " -5.00636935e-01  3.95683098e+00  9.91394520e+00  2.25749660e+00\n",
      "  6.77510118e+00 -1.71471000e+00  1.48642731e+01 -4.93056476e-01\n",
      "  2.16067863e+00 -7.88063645e-01  2.78816366e+00 -2.61005235e+00\n",
      " -5.82025766e+00  3.63349229e-01  7.90748298e-01  9.08914089e-01\n",
      "  2.22226486e+01  1.46067505e+01  2.68003702e+00  1.80616343e+00\n",
      " -9.43642330e+00  2.15939579e+01  3.43756008e+00  3.87734699e+00\n",
      " -5.01246071e+00  1.42030573e+00  2.79439163e+00  4.98405218e+00\n",
      " -8.60130119e+00  1.39290934e+01 -5.32338047e+00  8.03345966e+00\n",
      "  2.95647278e+01 -3.87090111e+00  4.81321621e+00  3.84758043e+00\n",
      "  9.90157843e-01 -5.36392212e+00  4.53288507e+00  7.87576818e+00\n",
      " -4.08787584e+00 -4.93075085e+00  5.11624718e+00  2.03463955e+01\n",
      " -4.57843685e+00 -7.84539938e-01  2.02728481e+01  3.85169888e+00\n",
      " -3.37599325e+00  1.10495424e+01  4.18520975e+00  6.40777922e+00\n",
      "  6.27386713e+00 -5.02939802e-03  2.87984395e+00 -3.34239769e+00\n",
      "  7.63092041e+00 -7.20157242e+00 -8.85932386e-01  5.39170122e+00\n",
      "  3.59793097e-01  4.20576620e+00 -4.10292983e-01  1.02126818e+01\n",
      "  2.03559475e+01  2.96202278e+00  2.33979988e+01 -2.67767835e+00\n",
      "  7.37232149e-01 -3.00315470e-01  4.51811457e+00 -1.15617657e+00\n",
      "  3.27466345e+00  1.33328896e+01  6.20421028e+00  1.15973167e+01\n",
      "  2.13566704e+01  1.78675532e-01  3.03885436e+00 -4.81520295e-01\n",
      " -7.02817515e-02  1.55389137e+01  4.86262465e+00  5.22123575e+00\n",
      "  4.70862579e+00  4.42318726e+00 -7.98548579e-01  3.42210841e+00\n",
      "  3.28591180e+00  1.64026237e+00  2.07589340e+01  1.02174768e+01\n",
      "  2.31171799e+00  1.42955532e+01  3.91054487e+00  2.56285915e+01\n",
      " -1.25436699e+00  1.11549370e-01  6.96291971e+00  1.11430111e+01\n",
      " -1.24351006e+01 -6.77260995e-01  1.18941450e+01  6.71420240e+00\n",
      "  3.27750702e+01  2.81917038e+01  5.52733421e+00  1.81417065e+01\n",
      "  2.61785450e+01  1.28047028e+01  7.51276350e+00 -1.85125577e+00\n",
      " -8.22427940e+00 -8.72049809e+00 -7.41014767e+00  2.58603001e+01\n",
      " -2.60268641e+00  4.30421495e+00  4.11516876e+01  7.80911446e+00\n",
      "  2.03408289e+00  1.98367901e+01  1.27621059e+01 -3.00130621e-02\n",
      " -2.75825214e+00 -1.46455956e+01  1.47756290e+01  1.66877670e+01\n",
      "  1.28933468e+01  6.41493416e+00  1.02700043e+01  3.50134544e+01\n",
      " -8.25972366e+00  2.24717541e+01 -2.50456772e+01  7.70580053e+00\n",
      "  9.07409000e+00  2.97983112e+01  1.81583614e+01  2.83314590e+01\n",
      "  1.20920248e+01  2.50816307e+01  3.95428324e+00  8.69690704e+00\n",
      "  1.32055645e+01  3.38721695e+01  3.40854149e+01 -5.53712100e-02\n",
      "  9.83636761e+00  7.99309683e+00 -7.15865910e-01  1.55142612e+01\n",
      "  1.76180267e+01  8.21930504e+00  3.42546120e+01  7.88485622e+00\n",
      " -4.98612213e+00  1.79028109e-01  6.92163944e-01 -3.77457857e+00\n",
      "  9.68378162e+00  1.72639294e+01  7.56650448e+00 -9.31355476e+00\n",
      "  2.01110229e+01  7.48941994e+00  6.31988144e+00  2.37814178e+01\n",
      "  1.07617798e+01  3.13970013e+01  3.07065907e+01  3.92786562e-01\n",
      "  3.73634377e+01 -1.58944285e+00  1.15332737e+01  1.70115852e+01\n",
      "  2.58676186e+01  3.09793739e+01 -2.30447102e+01  3.79256020e+01\n",
      "  7.50767279e+00  3.55624676e+00  2.33623848e+01 -8.18125784e-01\n",
      "  1.93938217e+01  1.68104420e+01  1.12359047e+00  3.16201544e+00\n",
      "  1.48398008e+01 -1.73551865e+01  1.47126856e+01  5.84933090e+00\n",
      " -1.56100101e+01 -4.63359356e+00 -4.14624643e+00 -2.00342846e+01\n",
      "  2.42331719e+00 -2.21339741e+01 -1.60354018e+00 -7.16137266e+00\n",
      " -6.59958315e+00 -7.46352816e+00 -6.78851557e+00 -4.67836857e+00\n",
      " -1.13062188e-01 -1.03407252e+00 -2.20537186e+01 -2.44638786e+01\n",
      " -4.41299009e+00 -9.20128465e-01 -4.00820684e+00 -5.68421268e+00\n",
      " -5.23695135e+00  1.06753139e+01 -6.46034050e+00 -1.38651407e+00\n",
      "  1.89627337e+00 -8.16890240e+00 -1.41406698e+01  4.18090248e+00\n",
      " -1.20118208e+01 -1.38146696e+01 -2.32354939e-01 -7.35923100e+00\n",
      " -1.77879562e+01  6.31004524e+00  4.81730080e+00 -3.71940851e+00\n",
      " -3.40653586e+00  5.19840860e+00 -6.82523298e+00 -1.00832071e+01\n",
      " -5.12506342e+00 -8.16595459e+00 -1.00571740e+00 -1.05044708e+01\n",
      "  6.73386335e+00 -2.11085815e+01  1.14667261e+00 -5.90187454e+00\n",
      " -1.60307293e+01 -2.41183529e+01 -8.68556595e+00 -7.47933722e+00\n",
      " -4.22751045e+00  2.14053607e+00  2.03249121e+00 -2.68692493e+01\n",
      "  1.86724997e+00 -2.59860649e+01  3.79381090e-01 -2.51634140e+01\n",
      " -2.20245957e+00 -5.71349669e+00 -1.12757397e+01 -7.41348362e+00\n",
      " -7.34104824e+00 -1.17152441e+00 -3.81148148e+00 -7.33679104e+00\n",
      " -4.89011478e+00 -2.44255757e+00 -7.85122728e+00 -7.61471319e+00\n",
      " -1.27586184e+01 -1.62203693e+01  4.06022215e+00 -4.93977690e+00\n",
      " -1.99813390e+00 -4.04467249e+00 -4.88958454e+00 -8.73534083e-01\n",
      "  9.82416689e-01 -1.96777897e+01 -1.10454345e+00 -1.11526070e+01\n",
      " -7.71062803e+00  2.59550303e-01 -3.58615851e+00 -1.01831713e+01\n",
      "  4.59807253e+00  3.28476286e+00 -6.60052061e+00 -1.39570475e+00\n",
      " -2.56378880e+01  3.24183369e+00 -2.08883286e+01  2.78070331e+00\n",
      " -2.83390446e+01 -8.97930336e+00 -1.61342068e+01 -6.41680956e+00\n",
      " -1.83125782e+01 -1.72254097e+00  2.26306868e+00 -4.48032713e+00\n",
      "  3.68185377e+00 -2.27668762e+00 -2.05849075e+00 -1.16285467e+00\n",
      " -1.36131012e+00 -1.64148796e+00  6.57841349e+00 -5.18803978e+00\n",
      " -1.02850714e+01 -6.54757690e+00  6.24813461e+00  2.55912137e+00\n",
      " -6.44784164e+00 -6.56466675e+00 -4.15951443e+00  1.85922012e+01\n",
      "  1.53472972e+00 -1.25742078e+00 -1.34669228e+01 -4.27461290e+00\n",
      "  4.12474060e+00 -3.25543237e+00 -9.90723896e+00 -6.03309965e+00\n",
      "  4.12032843e+00 -2.25035648e+01 -7.82255554e+00 -1.19914131e+01\n",
      " -6.10514450e+00 -3.23690009e+00 -2.37519836e+01  4.31381524e-01\n",
      " -8.96144867e+00 -8.65240765e+00 -5.85496569e+00  1.05043554e+00\n",
      " -1.15864553e+01  1.03491724e+00 -6.27009869e+00 -3.07356548e+00\n",
      "  1.68315828e+00  2.61799145e+00  5.79729605e+00 -3.77530289e+00\n",
      " -6.90441847e+00 -1.77320118e+01 -1.57583416e+00 -1.90021229e+00\n",
      " -1.79998159e+00  8.06982517e+00  2.03570795e+00  5.25107431e+00\n",
      "  2.44552255e+00 -3.19795942e+00  1.09244843e+01 -4.08250362e-01\n",
      " -8.41887832e-01 -4.15396309e+00 -1.40155584e-01 -2.64894438e+00\n",
      " -3.86042976e+00 -4.63150358e+00 -2.61976671e+00  3.53763372e-01\n",
      " -9.35646820e+00 -2.28595304e+00 -6.44628906e+00  2.25737667e+00\n",
      " -4.26169109e+00  1.71813524e+00 -2.42624874e+01 -1.38670635e+00\n",
      "  2.62792492e+00 -5.55879879e+00 -9.69846249e+00 -4.32954979e+00\n",
      " -3.73480368e+00 -6.07890561e-02 -4.49665308e+00  6.82266057e-01\n",
      " -6.62958288e+00  3.10930252e+00  3.65573573e+00 -2.02241344e+01\n",
      " -1.01626263e+01 -2.72223511e+01  2.62263119e-01 -4.74116421e+00\n",
      " -2.70378423e+00 -2.43512306e+01 -7.88032484e+00 -8.48982525e+00\n",
      " -1.87821770e+01  6.88899708e+00  7.53658199e+00 -2.82082468e-01\n",
      " -5.13705760e-02  6.42470169e+00 -1.11482086e+01  2.74401307e+00\n",
      " -2.04094672e+00 -9.84798145e+00 -1.02221241e+01 -3.44176799e-01\n",
      " -2.32392750e+01 -2.05711117e+01 -1.72805977e+01 -5.18478680e+00\n",
      " -3.99054742e+00  5.74585438e+00 -1.22338657e+01 -1.93975945e+01\n",
      " -3.13496628e+01 -2.63558083e+01 -6.97975016e+00 -3.52618217e+00\n",
      "  4.90457582e+00 -8.06058311e+00 -2.17623825e+01  7.59153175e+00\n",
      " -2.93145370e+01  8.08030665e-01 -2.58895435e+01 -4.38750696e+00\n",
      " -3.88096581e+01 -1.22668629e+01  5.07443380e+00 -4.01493988e+01\n",
      "  2.82718468e+00  5.93236864e-01 -3.42400932e+00 -2.32180023e+01\n",
      " -2.68407869e+00 -2.68629627e+01  7.92204905e+00 -2.95821514e+01\n",
      " -4.76387072e+00 -2.41804600e+00 -3.45439835e+01 -2.49324837e+01\n",
      " -5.32472658e+00 -8.06713343e-01 -7.90207481e+00 -6.53925419e+00\n",
      " -2.08488293e+01  5.35573196e+00 -7.29289627e+00  2.24683475e+00\n",
      " -1.47861309e+01 -1.81490824e-01 -2.07308078e+00  2.36152792e+00\n",
      "  1.64460075e+00 -2.41329575e+00 -1.57636957e+01  8.21271896e-01\n",
      " -2.72698355e+00 -1.17106361e+01 -1.56887922e+01 -1.12160816e+01\n",
      "  6.23518467e+00 -7.60498190e+00 -2.64242001e+01  8.09027195e+00\n",
      " -7.29476404e+00 -1.22216368e+01  2.90371227e+00 -1.08719826e+01\n",
      " -1.38505945e+01 -3.70498161e+01 -8.57873821e+00 -2.36132164e+01\n",
      " -1.34415054e+01 -2.38344860e+00 -2.68516040e+00  4.30148458e+00\n",
      " -2.98079510e+01 -1.26700830e+01 -6.54296684e+00 -2.65175838e+01\n",
      " -5.02777100e+01  2.76707101e+00  7.94684529e-01 -1.94561729e+01\n",
      " -1.60259926e+00 -9.50659370e+00 -3.39440231e+01 -3.52032328e+00\n",
      "  1.77975197e+01  6.97437239e+00 -1.24038315e+01 -1.00786877e+01\n",
      " -2.90959473e+01 -2.79087791e+01  5.56423140e+00 -1.14736233e+01\n",
      "  2.13970208e+00  7.13345957e+00 -1.93677750e+01 -6.06663799e+00\n",
      "  7.63041496e-01 -8.46221352e+00 -2.66061268e+01 -2.99325657e+01\n",
      " -8.91044617e+00  6.00105286e+00  2.81480646e+00 -9.75205803e+00\n",
      "  2.09454322e+00 -9.07247543e+00 -2.24360485e+01 -1.47410345e+01\n",
      " -1.21884298e+01 -1.65459669e+00 -2.58031559e+01 -2.75320797e+01\n",
      " -2.08685684e+01 -1.29899073e+00]' has dtype incompatible with int64, please explicitly cast to a compatible dtype first.\n",
      "  preds[val_index] = model.predict(dval_i)\n"
     ]
    },
    {
     "name": "stderr",
     "output_type": "stream",
     "text": [
      "\r",
      "100%|█████████████████████████████████████████████████████████████████████████████████████████████████████████████████████████████████████████████████████████████████████████████████████████████████████████████████████████████| 10/10 [06:15<00:00, 35.40s/it]"
     ]
    },
    {
     "name": "stderr",
     "output_type": "stream",
     "text": [
      "\r",
      "100%|█████████████████████████████████████████████████████████████████████████████████████████████████████████████████████████████████████████████████████████████████████████████████████████████████████████████████████████████| 10/10 [06:15<00:00, 37.56s/it]"
     ]
    },
    {
     "name": "stdout",
     "output_type": "stream",
     "text": [
      "OOF predictions complete\n"
     ]
    },
    {
     "name": "stderr",
     "output_type": "stream",
     "text": [
      "\n"
     ]
    }
   ],
   "source": [
    "# OOF予測\n",
    "oof_preds = []\n",
    "for i in tqdm(range(repeat_cv), leave=True, dynamic_ncols=True):\n",
    "    # 初期はターゲットの値で初期化（後で上書き）\n",
    "    preds = y.copy()\n",
    "    # 各 repeater 毎に独自の KFold を用いる（random_state = i）\n",
    "    kfold = KFold(n_splits=folds_splits, shuffle=True, random_state=i)    \n",
    "    for train_index, val_index in kfold.split(X, y):\n",
    "        dtrain_i = xgb.DMatrix(X.iloc[train_index], label=y.iloc[train_index])\n",
    "        dval_i   = xgb.DMatrix(X.iloc[val_index], label=y.iloc[val_index])\n",
    "\n",
    "        model = xgb.train(\n",
    "            params=param,\n",
    "            dtrain=dtrain_i,\n",
    "            num_boost_round=iteration_counts[i],\n",
    "            verbose_eval=50\n",
    "        )\n",
    "        preds[val_index] = model.predict(dval_i)\n",
    "    # 予測値を -30 ～ 30 にクリップ\n",
    "    oof_preds.append(np.clip(preds, -30, 30))\n",
    "\n",
    "print(\"OOF predictions complete\")"
   ]
  },
  {
   "cell_type": "code",
   "execution_count": 24,
   "id": "384e5431",
   "metadata": {
    "execution": {
     "iopub.execute_input": "2025-03-14T16:13:17.379795Z",
     "iopub.status.busy": "2025-03-14T16:13:17.378797Z",
     "iopub.status.idle": "2025-03-14T16:13:17.529662Z",
     "shell.execute_reply": "2025-03-14T16:13:17.529001Z"
    },
    "papermill": {
     "duration": 0.186178,
     "end_time": "2025-03-14T16:13:17.530760",
     "exception": false,
     "start_time": "2025-03-14T16:13:17.344582",
     "status": "completed"
    },
    "tags": []
   },
   "outputs": [
    {
     "data": {
      "text/plain": [
       "<Axes: >"
      ]
     },
     "execution_count": 24,
     "metadata": {},
     "output_type": "execute_result"
    },
    {
     "data": {
      "image/png": "[encoded data removed]",
      "text/plain": [
       "<Figure size 640x480 with 1 Axes>"
      ]
     },
     "metadata": {},
     "output_type": "display_data"
    }
   ],
   "source": [
    "oof_preds[0].hist()"
   ]
  },
  {
   "cell_type": "code",
   "execution_count": 25,
   "id": "ba27073e",
   "metadata": {
    "execution": {
     "iopub.execute_input": "2025-03-14T16:13:17.578773Z",
     "iopub.status.busy": "2025-03-14T16:13:17.578773Z",
     "iopub.status.idle": "2025-03-14T16:13:17.612525Z",
     "shell.execute_reply": "2025-03-14T16:13:17.612525Z"
    },
    "papermill": {
     "duration": 0.061638,
     "end_time": "2025-03-14T16:13:17.614567",
     "exception": false,
     "start_time": "2025-03-14T16:13:17.552929",
     "status": "completed"
    },
    "tags": []
   },
   "outputs": [],
   "source": [
    "### simple spline, seed(1, 16)~(4, 13)は強制的にfiltaring,  \n",
    "### seed値に対応して予測スコアも同じ大小関係なら1or0に変換の3モデル\n",
    "def cal_logloss(pred_vals, y, i):\n",
    "    y_binary = np.where(y > 0, 1, 0)\n",
    "    loss = log_loss(y_binary, pred_vals)\n",
    "    print(f\"logloss of cvsplit {i}: {loss:.4f}\")\n",
    "\n",
    "\n",
    "    results.append(f\"Normal Spline - logloss of cvsplit {i}: {loss:.4f}\")\n",
    "    return loss\n",
    "\n",
    "#simple spline\n",
    "def make_normal_spline(df, y, repeat_cv):\n",
    "    spline_model1 = []\n",
    "    logloss_normal = []\n",
    "    \n",
    "    for i in range(repeat_cv):\n",
    "        dat = list(zip(df[i], np.where(y>0, 1, 0)))\n",
    "        dat = sorted(dat, key=lambda x:x[0])\n",
    "        datdict = {}\n",
    "        for k in range(len(dat)):\n",
    "            datdict[dat[k][0]] = dat[k][1]\n",
    "        \n",
    "        spline_model1.append(UnivariateSpline(list(datdict.keys()), list(datdict.values())))\n",
    "        spline_fit = spline_model1[i](df[i])\n",
    "        \n",
    "        loss = cal_logloss(spline_fit, y, i)    \n",
    "        logloss_normal.append(loss)\n",
    "\n",
    "    plot_df = pd.DataFrame({\n",
    "        \"pred\": df[0],\n",
    "        \"label\": np.where(y>0,1,0),\n",
    "        \"spline\": spline_model1[0](df[0])\n",
    "    })\n",
    "    plot_df[\"pred_int\"] = plot_df[\"pred\"].astype(int)\n",
    "    plot_df = plot_df.groupby('pred_int')[['spline','label']].mean().reset_index()\n",
    "    \n",
    "    plt.figure(figsize=(8, 5))\n",
    "    plt.plot(plot_df.pred_int, plot_df.label, marker='o', linestyle='-', label=\"True Label\")\n",
    "    plt.plot(plot_df.pred_int, plot_df.spline, marker='x', linestyle='--', label=\"Spline Approximation\")\n",
    "    plt.xlabel(\"Predicted Value (Integer)\")\n",
    "    plt.ylabel(\"Mean Value\")\n",
    "    plt.title(\"Normal Spline Fit Comparison\")\n",
    "    plt.legend()\n",
    "    plt.grid(True)\n",
    "    plt.savefig(os.path.join(OUTPUT_PATH, f\"normal_spline_fit_{PREDICT_YEAR}.png\"))\n",
    "    plt.close()\n",
    "    \n",
    "    \n",
    "    # 例として平均loglossもresultsに記録\n",
    "    avg_logloss = np.mean(logloss_normal) \n",
    "    results.append(f\"Average Normal Spline logloss: {avg_logloss:.4f}\" if avg_logloss is not None else \"No logloss computed\")\n",
    "    \n",
    "    return spline_model1\n",
    "            \n",
    "            \n",
    "#seed(1, 16)~(4, 13)は強制的にseed通りの結果にフィルタリング\n",
    "def make_seed1to4_chenge(df, y, repeat_cv):\n",
    "    spline_model2 = []\n",
    "    spline_fits = []\n",
    "    for i in range(repeat_cv):\n",
    "        dat = list(zip(df[i], np.where(y>0, 1, 0)))\n",
    "        dat = sorted(dat, key=lambda x:x[0])\n",
    "        datdict = {}\n",
    "        for k in range(len(dat)):\n",
    "            datdict[dat[k][0]] = dat[k][1]\n",
    "        \n",
    "        spline_model2.append(UnivariateSpline(list(datdict.keys()), list(datdict.values())))\n",
    "        spline_fit = spline_model2[i](df[i]) \n",
    "        \n",
    "        #add\n",
    "        spline_fit[(X.T1_seed==1) & (X.T2_seed==16)] = 1.0\n",
    "        spline_fit[(X.T1_seed==2) & (X.T2_seed==15)] = 0.9\n",
    "        spline_fit[(X.T1_seed==3) & (X.T2_seed==14)] = 0.8\n",
    "        spline_fit[(X.T1_seed==4) & (X.T2_seed==13)] = 0.7\n",
    "        spline_fit[(X.T1_seed==16) & (X.T2_seed==1)] = 0.0\n",
    "        spline_fit[(X.T1_seed==15) & (X.T2_seed==2)] = 0.1\n",
    "        spline_fit[(X.T1_seed==14) & (X.T2_seed==3)] = 0.2\n",
    "        spline_fit[(X.T1_seed==13) & (X.T2_seed==4)] = 0.3\n",
    "\n",
    "    \n",
    "        cal_logloss(spline_fit, y, i)   \n",
    "                \n",
    "        spline_fits.append(spline_fit)\n",
    "        cal_logloss(spline_fit, y, i)   \n",
    "                \n",
    "    \n",
    "    plot_df = pd.DataFrame({\n",
    "        \"pred\": df[0],\n",
    "        \"label\": np.where(y > 0, 1, 0),\n",
    "        \"spline\": spline_fits[0]  # 変更後の値を利用\n",
    "    })\n",
    "    plot_df[\"pred_int\"] = plot_df[\"pred\"].astype(int)\n",
    "    plot_df = plot_df.groupby(\"pred_int\")[[\"spline\", \"label\"]].mean().reset_index()\n",
    "\n",
    "    plt.figure()\n",
    "    plt.plot(plot_df.pred_int, plot_df.label, label=\"label\")\n",
    "    plt.plot(plot_df.pred_int, plot_df.spline, label=\"spline\")\n",
    "    plt.legend()\n",
    "    plt.show()\n",
    "    \n",
    "    return spline_model2\n",
    "    \n",
    "    \n",
    "#完全に値変換するのではなくてseed値に対応して予測スコアも同じ大小関係なら1or0に変換\n",
    "def make_seed1to4_base_on_score(df, y, repeat_cv):\n",
    "    spline_model3 = []\n",
    "    spline_fits = []\n",
    "\n",
    "    for i in range(repeat_cv):\n",
    "        dat = list(zip(df[i], np.where(y>0, 1, 0)))\n",
    "        dat = sorted(dat, key=lambda x:x[0])\n",
    "        datdict = {}\n",
    "        for k in range(len(dat)):\n",
    "            datdict[dat[k][0]] = dat[k][1]\n",
    "        \n",
    "        spline_model3.append(UnivariateSpline(list(datdict.keys()), list(datdict.values())))\n",
    "        spline_fit = spline_model3[i](df[i]) \n",
    "        \n",
    "        #add\n",
    "        spline_fit[(X.T1_seed==1) & (X.T2_seed==16) & (X.T1_Score > X.T2_Score)] = 1.0\n",
    "        spline_fit[(X.T1_seed==2) & (X.T2_seed==15) & (X.T1_Score > X.T2_Score)] = 1.0\n",
    "        spline_fit[(X.T1_seed==3) & (X.T2_seed==14) & (X.T1_Score > X.T2_Score)] = 1.0\n",
    "        spline_fit[(X.T1_seed==4) & (X.T2_seed==13) & (X.T1_Score > X.T2_Score)] = 1.0\n",
    "        spline_fit[(X.T1_seed==16) & (X.T2_seed==1) & (X.T1_Score < X.T2_Score)] = 0.0\n",
    "        spline_fit[(X.T1_seed==15) & (X.T2_seed==2) & (X.T1_Score < X.T2_Score)] = 0.0\n",
    "        spline_fit[(X.T1_seed==14) & (X.T2_seed==3) & (X.T1_Score < X.T2_Score)] = 0.0\n",
    "        spline_fit[(X.T1_seed==13) & (X.T2_seed==4) & (X.T1_Score < X.T2_Score)] = 0.0\n",
    "\n",
    "        spline_fits.append(spline_fit)\n",
    "        cal_logloss(spline_fit, y, i)   \n",
    "    \n",
    "    \n",
    "    plot_df = pd.DataFrame({\n",
    "        \"pred\": df[0],\n",
    "        \"label\": np.where(y > 0, 1, 0),\n",
    "        \"spline\": spline_fits[0]  # 変更後の値を利用\n",
    "    })\n",
    "    plot_df[\"pred_int\"] = plot_df[\"pred\"].astype(int)\n",
    "    plot_df = plot_df.groupby(\"pred_int\")[[\"spline\", \"label\"]].mean().reset_index()\n",
    "\n",
    "    plt.figure()\n",
    "    plt.plot(plot_df.pred_int, plot_df.label, label=\"label\")\n",
    "    plt.plot(plot_df.pred_int, plot_df.spline, label=\"spline\")\n",
    "    plt.legend()\n",
    "    plt.show()\n",
    "    return spline_model3\n",
    "\n",
    "\n",
    "\n",
    "# Platt Scalingを用いた補正曲線生成の関数 (ロジスティック回帰)\n",
    "def make_platt_scaling(df, y, repeat_cv):\n",
    "    platt_models = []\n",
    "    logloss_platt = []\n",
    "    \n",
    "    for i in range(repeat_cv):\n",
    "        X_train = np.array(df[i]).reshape(-1, 1)\n",
    "        y_binary = np.where(y > 0, 1, 0)\n",
    "        \n",
    "        model = LogisticRegression(random_state=42, solver='lbfgs')\n",
    "        model.fit(X_train, y_binary)\n",
    "        platt_models.append(model)\n",
    "        \n",
    "\n",
    "        platt_fit = model.predict_proba(X_train)[:, 1]\n",
    "        loss = cal_logloss(platt_fit, y, i)\n",
    "        logloss_platt.append(loss)\n",
    "    \n",
    "    \n",
    "    ###\n",
    "    plot_df = pd.DataFrame({\n",
    "        \"pred\": df[0],\n",
    "        \"label\": np.where(y > 0, 1, 0),\n",
    "        \"platt\": platt_models[0].predict_proba(np.array(df[0]).reshape(-1, 1))[:, 1]\n",
    "    })\n",
    "    plot_df[\"pred_int\"] = plot_df[\"pred\"].astype(int)\n",
    "    plot_df = plot_df.groupby(\"pred_int\")[[\"platt\", \"label\"]].mean().reset_index()\n",
    "    \n",
    "    plt.figure(figsize=(8, 5))\n",
    "    plt.plot(plot_df.pred_int, plot_df.label, marker='o', linestyle='-', label=\"True Label\")\n",
    "    plt.plot(plot_df.pred_int, plot_df.platt, marker='x', linestyle='--', label=\"Platt Scaling\")\n",
    "    plt.xlabel(\"Predicted Value (Integer)\")\n",
    "    plt.ylabel(\"Mean Value\")\n",
    "    plt.title(\"Platt Scaling Calibration Curve\")\n",
    "    plt.legend()\n",
    "    plt.grid(True)\n",
    "    plt.savefig(os.path.join(OUTPUT_PATH, f\"platt_scaling_fit_{PREDICT_YEAR}.png\"))\n",
    "    plt.close()\n",
    "    \n",
    "    avg_logloss = np.mean(logloss_platt)\n",
    "    results.append(f\"Average Platt Scaling logloss: {avg_logloss:.4f}\" if avg_logloss is not None else \"No logloss computed\")\n",
    "    \n",
    "    return platt_models\n",
    "\n",
    "def make_isotonic_regression(df, y, repeat_cv):\n",
    "    \"\"\" Isotonic Regression を用いた補正曲線生成 \"\"\"\n",
    "    isotonic_models = []\n",
    "    logloss_isotonic = []\n",
    "    \n",
    "    for i in range(repeat_cv):\n",
    "        X_train = np.array(df[i]).reshape(-1, 1)\n",
    "        y_binary = np.where(y > 0, 1, 0)\n",
    "        \n",
    "        model = IsotonicRegression(out_of_bounds=\"clip\")\n",
    "        model.fit(X_train.ravel(), y_binary)\n",
    "        isotonic_models.append(model)\n",
    "        \n",
    "        isotonic_fit = model.predict(X_train.ravel())\n",
    "        loss = cal_logloss(isotonic_fit, y, i)\n",
    "        logloss_isotonic.append(loss)\n",
    "    \n",
    "    plot_df = pd.DataFrame({\n",
    "        \"pred\": df[0],\n",
    "        \"label\": np.where(y > 0, 1, 0),\n",
    "        \"isotonic\": isotonic_models[0].predict(np.array(df[0]).reshape(-1, 1))\n",
    "    })\n",
    "    plot_df[\"pred_int\"] = plot_df[\"pred\"].astype(int)\n",
    "    plot_df = plot_df.groupby(\"pred_int\")[[\"isotonic\", \"label\"]].mean().reset_index()\n",
    "    \n",
    "    plt.figure(figsize=(8, 5))\n",
    "    plt.plot(plot_df.pred_int, plot_df.label, marker='o', linestyle='-', label=\"True Label\")\n",
    "    plt.plot(plot_df.pred_int, plot_df.isotonic, marker='x', linestyle='--', label=\"Isotonic Regression\")\n",
    "    plt.xlabel(\"Predicted Value (Integer)\")\n",
    "    plt.ylabel(\"Mean Value\")\n",
    "    plt.title(\"Isotonic Regression Calibration Curve\")\n",
    "    plt.legend()\n",
    "    plt.grid(True)\n",
    "    plt.savefig(os.path.join(OUTPUT_PATH, f\"isotonic_regression_fit_{PREDICT_YEAR}.png\"))\n",
    "    plt.close()\n",
    "    \n",
    "    avg_logloss = np.mean(logloss_isotonic)\n",
    "    results.append(f\"Average Isotonic Regression logloss: {avg_logloss:.4f}\" if avg_logloss is not None else \"No logloss computed\")\n",
    "    \n",
    "    return isotonic_models\n",
    "\n"
   ]
  },
  {
   "cell_type": "code",
   "execution_count": 26,
   "id": "b01a0e04",
   "metadata": {
    "execution": {
     "iopub.execute_input": "2025-03-14T16:13:17.656859Z",
     "iopub.status.busy": "2025-03-14T16:13:17.655857Z",
     "iopub.status.idle": "2025-03-14T16:13:17.663198Z",
     "shell.execute_reply": "2025-03-14T16:13:17.662129Z"
    },
    "papermill": {
     "duration": 0.029643,
     "end_time": "2025-03-14T16:13:17.664181",
     "exception": false,
     "start_time": "2025-03-14T16:13:17.634538",
     "status": "completed"
    },
    "tags": []
   },
   "outputs": [],
   "source": [
    "# キャリブレーションカーブの描画関数\n",
    "def plot_calibration_curve(y_true, y_pred_proba, method, save_path):\n",
    "    \"\"\" キャリブレーションカーブをプロットし保存 \"\"\"\n",
    "    y_binary = np.where(y_true > 0, 1, 0) \n",
    "    prob_true, prob_pred = calibration_curve(y_binary, y_pred_proba, n_bins=10)\n",
    "    \n",
    "    plt.figure(figsize=(6,6))\n",
    "    plt.plot(prob_pred, prob_true, marker=\"o\", label=f\"{method} Calibration\")\n",
    "    plt.plot([0, 1], [0, 1], linestyle=\"--\", label=\"Perfect Calibration\")\n",
    "    plt.xlabel(\"Predicted Probability\")\n",
    "    plt.ylabel(\"Actual Probability\")\n",
    "    plt.legend()\n",
    "    plt.title(f\"{method} Calibration Curve\")\n",
    "    plt.grid()\n",
    "    plt.savefig(save_path)\n",
    "    plt.close()\n",
    "\n"
   ]
  },
  {
   "cell_type": "code",
   "execution_count": 27,
   "id": "6a5168e0",
   "metadata": {
    "execution": {
     "iopub.execute_input": "2025-03-14T16:13:17.707768Z",
     "iopub.status.busy": "2025-03-14T16:13:17.707768Z",
     "iopub.status.idle": "2025-03-14T16:13:18.034137Z",
     "shell.execute_reply": "2025-03-14T16:13:18.034137Z"
    },
    "papermill": {
     "duration": 0.348852,
     "end_time": "2025-03-14T16:13:18.034137",
     "exception": false,
     "start_time": "2025-03-14T16:13:17.685285",
     "status": "completed"
    },
    "tags": []
   },
   "outputs": [
    {
     "name": "stdout",
     "output_type": "stream",
     "text": [
      "logloss of cvsplit 0: 0.5094\n",
      "logloss of cvsplit 1: 0.5069\n",
      "logloss of cvsplit 2: 0.5057\n",
      "logloss of cvsplit 3: 0.5038\n",
      "logloss of cvsplit 4: 0.5067\n",
      "logloss of cvsplit 5: 0.5045\n",
      "logloss of cvsplit 6: 0.5066\n",
      "logloss of cvsplit 7: 0.5089\n",
      "logloss of cvsplit 8: 0.5062\n",
      "logloss of cvsplit 9: 0.5049\n"
     ]
    }
   ],
   "source": [
    "# キャリブレーション手法の選択\n",
    "spline = MODEL.spline\n",
    "if spline == \"spline_normal\":\n",
    "    spline_model = make_normal_spline(oof_preds, y, repeat_cv)\n",
    "    calibrated_preds = spline_model[0](oof_preds[0])\n",
    "    plot_calibration_curve(y, calibrated_preds, \"Spline Normal\", os.path.join(OUTPUT_PATH, f\"spline_normal_calibration_{PREDICT_YEAR}.png\"))\n",
    "    \n",
    "elif spline == \"logistic\":\n",
    "    spline_model = make_platt_scaling(oof_preds, y, repeat_cv)\n",
    "    calibrated_preds = spline_model[0].predict_proba(np.array(oof_preds[0]).reshape(-1, 1))[:, 1]\n",
    "    plot_calibration_curve(y, calibrated_preds, \"Platt Scaling\", os.path.join(OUTPUT_PATH, f\"platt_scaling_calibration_{PREDICT_YEAR}.png\"))\n",
    "    \n",
    "elif spline == \"isotonic\":\n",
    "    spline_model = make_isotonic_regression(oof_preds, y, repeat_cv)\n",
    "    calibrated_preds = spline_model[0].predict(np.array(oof_preds[0]).reshape(-1, 1))\n",
    "    plot_calibration_curve(y, calibrated_preds, \"Isotonic Regression\", os.path.join(OUTPUT_PATH, f\"isotonic_regression_calibration_{PREDICT_YEAR}.png\"))"
   ]
  },
  {
   "cell_type": "markdown",
   "id": "a5f1a675",
   "metadata": {
    "papermill": {
     "duration": 0.029202,
     "end_time": "2025-03-14T16:13:18.084758",
     "exception": false,
     "start_time": "2025-03-14T16:13:18.055556",
     "status": "completed"
    },
    "tags": []
   },
   "source": [
    "# submmit\n",
    "\n",
    "同じfeature engineeringする.\n",
    "\n",
    "個々の扱うも考える。2025は最終提出用の関数を用意する、その他2024以前は過去コンペでの提出形式に合わせる、でも年度によって提出形式が変わるからとりあえず2023でやる"
   ]
  },
  {
   "cell_type": "code",
   "execution_count": 28,
   "id": "b2224f52",
   "metadata": {
    "execution": {
     "iopub.execute_input": "2025-03-14T16:13:18.142985Z",
     "iopub.status.busy": "2025-03-14T16:13:18.141982Z",
     "iopub.status.idle": "2025-03-14T16:13:18.148626Z",
     "shell.execute_reply": "2025-03-14T16:13:18.148626Z"
    },
    "papermill": {
     "duration": 0.037806,
     "end_time": "2025-03-14T16:13:18.150689",
     "exception": false,
     "start_time": "2025-03-14T16:13:18.112883",
     "status": "completed"
    },
    "tags": []
   },
   "outputs": [
    {
     "data": {
      "text/plain": [
       "'if PREDICT_YEAR==2022:\\n    sub = pd.read_csv(os.path.join(INPUT_PATH, \"SampleSubmission2022M.csv\"))\\n    sub[\\'Season\\'] = sub[\\'ID\\'].apply(lambda x: int(x.split(\\'_\\')[0]))\\n    sub[\"T1_TeamID\"] = sub[\\'ID\\'].apply(lambda x: int(x.split(\\'_\\')[1]))\\n    sub[\"T2_TeamID\"] = sub[\\'ID\\'].apply(lambda x: int(x.split(\\'_\\')[2]))\\n    sub_X, a = process_tourney(sub, mode = \"sub\")\\n    dtest = xgb.DMatrix(sub_X)\\nelif PREDICT_YEAR==2023:\\n    sub = pd.read_csv(os.path.join(INPUT_PATH, \"SampleSubmission2023.csv\"))\\n    sub[\\'Season\\'] = sub[\\'ID\\'].apply(lambda x: int(x.split(\\'_\\')[0]))\\n    sub[\"T1_TeamID\"] = sub[\\'ID\\'].apply(lambda x: int(x.split(\\'_\\')[1]))\\n    sub[\"T2_TeamID\"] = sub[\\'ID\\'].apply(lambda x: int(x.split(\\'_\\')[2]))\\n    sub_X, a = process_tourney(sub, mode = \"sub\")\\n    dtest = xgb.DMatrix(sub_X)\\nelif PREDICT_YEAR==2024:\\n    sub = pd.read_csv(os.path.join(INPUT_PATH, \"SampleSubmission2024.csv\"))\\n    sub[\\'Season\\'] = sub[\\'ID\\'].apply(lambda x: int(x.split(\\'_\\')[0]))\\n    sub[\"T1_TeamID\"] = sub[\\'ID\\'].apply(lambda x: int(x.split(\\'_\\')[1]))\\n    sub[\"T2_TeamID\"] = sub[\\'ID\\'].apply(lambda x: int(x.split(\\'_\\')[2]))\\n    sub_X, a = process_tourney(sub, mode = \"sub\")\\n    dtest = xgb.DMatrix(sub_X)\\nelif PREDICT_YEAR==2025:\\n    sub = pd.read_csv(os.path.join(INPUT_PATH, \"SampleSubmissionStage2.csv\"))\\n    sub[\\'Season\\'] = sub[\\'ID\\'].apply(lambda x: int(x.split(\\'_\\')[0]))\\n    sub[\"T1_TeamID\"] = sub[\\'ID\\'].apply(lambda x: int(x.split(\\'_\\')[1]))\\n    sub[\"T2_TeamID\"] = sub[\\'ID\\'].apply(lambda x: int(x.split(\\'_\\')[2]))   \\n    sub_X, a = process_tourney(sub, mode = \"sub\")\\n    dtest = xgb.DMatrix(sub_X)'"
      ]
     },
     "execution_count": 28,
     "metadata": {},
     "output_type": "execute_result"
    }
   ],
   "source": [
    "\"\"\"if PREDICT_YEAR==2022:\n",
    "    sub = pd.read_csv(os.path.join(INPUT_PATH, \"SampleSubmission2022M.csv\"))\n",
    "    sub['Season'] = sub['ID'].apply(lambda x: int(x.split('_')[0]))\n",
    "    sub[\"T1_TeamID\"] = sub['ID'].apply(lambda x: int(x.split('_')[1]))\n",
    "    sub[\"T2_TeamID\"] = sub['ID'].apply(lambda x: int(x.split('_')[2]))\n",
    "    sub_X, a = process_tourney(sub, mode = \"sub\")\n",
    "    dtest = xgb.DMatrix(sub_X)\n",
    "elif PREDICT_YEAR==2023:\n",
    "    sub = pd.read_csv(os.path.join(INPUT_PATH, \"SampleSubmission2023.csv\"))\n",
    "    sub['Season'] = sub['ID'].apply(lambda x: int(x.split('_')[0]))\n",
    "    sub[\"T1_TeamID\"] = sub['ID'].apply(lambda x: int(x.split('_')[1]))\n",
    "    sub[\"T2_TeamID\"] = sub['ID'].apply(lambda x: int(x.split('_')[2]))\n",
    "    sub_X, a = process_tourney(sub, mode = \"sub\")\n",
    "    dtest = xgb.DMatrix(sub_X)\n",
    "elif PREDICT_YEAR==2024:\n",
    "    sub = pd.read_csv(os.path.join(INPUT_PATH, \"SampleSubmission2024.csv\"))\n",
    "    sub['Season'] = sub['ID'].apply(lambda x: int(x.split('_')[0]))\n",
    "    sub[\"T1_TeamID\"] = sub['ID'].apply(lambda x: int(x.split('_')[1]))\n",
    "    sub[\"T2_TeamID\"] = sub['ID'].apply(lambda x: int(x.split('_')[2]))\n",
    "    sub_X, a = process_tourney(sub, mode = \"sub\")\n",
    "    dtest = xgb.DMatrix(sub_X)\n",
    "elif PREDICT_YEAR==2025:\n",
    "    sub = pd.read_csv(os.path.join(INPUT_PATH, \"SampleSubmissionStage2.csv\"))\n",
    "    sub['Season'] = sub['ID'].apply(lambda x: int(x.split('_')[0]))\n",
    "    sub[\"T1_TeamID\"] = sub['ID'].apply(lambda x: int(x.split('_')[1]))\n",
    "    sub[\"T2_TeamID\"] = sub['ID'].apply(lambda x: int(x.split('_')[2]))   \n",
    "    sub_X, a = process_tourney(sub, mode = \"sub\")\n",
    "    dtest = xgb.DMatrix(sub_X)\"\"\"\n",
    "    "
   ]
  },
  {
   "cell_type": "code",
   "execution_count": 29,
   "id": "fae33ec6",
   "metadata": {
    "execution": {
     "iopub.execute_input": "2025-03-14T16:13:18.196630Z",
     "iopub.status.busy": "2025-03-14T16:13:18.195627Z",
     "iopub.status.idle": "2025-03-14T16:13:18.227493Z",
     "shell.execute_reply": "2025-03-14T16:13:18.226988Z"
    },
    "papermill": {
     "duration": 0.056768,
     "end_time": "2025-03-14T16:13:18.229500",
     "exception": false,
     "start_time": "2025-03-14T16:13:18.172732",
     "status": "completed"
    },
    "tags": []
   },
   "outputs": [
    {
     "name": "stdout",
     "output_type": "stream",
     "text": [
      "no fillna, use nan\n",
      "drop col list: ['T1_TOmean', 'T2_TOmean', 'T1_opponent_POSS_RATEmean', 'T2_opponent_POSS_RATEmean', 'T1_opponent_Astmean', 'T2_opponent_Astmean', 'T1_opponent_FT_RATEmean', 'T2_opponent_FT_RATEmean', 'T1_opponent_Stlmean', 'T2_opponent_Stlmean', 'T1_ORmean', 'T2_ORmean', 'T1_opponent_ORmean', 'T2_opponent_ORmean']\n"
     ]
    }
   ],
   "source": [
    "sub = notexist.copy()\n",
    "sub = sub.rename(columns={\"WTeamID\": \"T1_TeamID\", \"LTeamID\": \"T2_TeamID\"})\n",
    "sub = sub[[\"Season\", \"T1_TeamID\", \"T2_TeamID\"]]\n",
    "temp = sub.copy()\n",
    "temp = temp.rename(columns={\"T1_TeamID\": \"T2_TeamID\", \"T2_TeamID\": \"T1_TeamID\"})\n",
    "sub = pd.concat([sub, temp]).reset_index()\n",
    "sub_X, a = process_tourney(sub, mode=\"sub\")\n",
    "sub_X = drop_columns(sub_X, drop_col)\n",
    "dtest = xgb.DMatrix(sub_X)"
   ]
  },
  {
   "cell_type": "code",
   "execution_count": 30,
   "id": "342c940d",
   "metadata": {
    "execution": {
     "iopub.execute_input": "2025-03-14T16:13:18.295644Z",
     "iopub.status.busy": "2025-03-14T16:13:18.293635Z",
     "iopub.status.idle": "2025-03-14T16:14:30.462989Z",
     "shell.execute_reply": "2025-03-14T16:14:30.461980Z"
    },
    "papermill": {
     "duration": 72.204104,
     "end_time": "2025-03-14T16:14:30.464991",
     "exception": false,
     "start_time": "2025-03-14T16:13:18.260887",
     "status": "completed"
    },
    "tags": []
   },
   "outputs": [
    {
     "name": "stderr",
     "output_type": "stream",
     "text": [
      "\r",
      "  0%|                                                                                                                                                                                                                                      | 0/10 [00:00<?, ?it/s]"
     ]
    },
    {
     "name": "stderr",
     "output_type": "stream",
     "text": [
      "\r",
      " 10%|██████████████████████▏                                                                                                                                                                                                       | 1/10 [00:07<01:09,  7.67s/it]"
     ]
    },
    {
     "name": "stderr",
     "output_type": "stream",
     "text": [
      "\r",
      " 20%|████████████████████████████████████████████▍                                                                                                                                                                                 | 2/10 [00:17<01:11,  8.91s/it]"
     ]
    },
    {
     "name": "stderr",
     "output_type": "stream",
     "text": [
      "\r",
      " 30%|██████████████████████████████████████████████████████████████████▌                                                                                                                                                           | 3/10 [00:25<00:58,  8.42s/it]"
     ]
    },
    {
     "name": "stderr",
     "output_type": "stream",
     "text": [
      "\r",
      " 40%|████████████████████████████████████████████████████████████████████████████████████████▊                                                                                                                                     | 4/10 [00:32<00:47,  7.91s/it]"
     ]
    },
    {
     "name": "stderr",
     "output_type": "stream",
     "text": [
      "\r",
      " 50%|███████████████████████████████████████████████████████████████████████████████████████████████████████████████                                                                                                               | 5/10 [00:38<00:36,  7.27s/it]"
     ]
    },
    {
     "name": "stderr",
     "output_type": "stream",
     "text": [
      "\r",
      " 60%|█████████████████████████████████████████████████████████████████████████████████████████████████████████████████████████████████████▏                                                                                        | 6/10 [00:46<00:30,  7.52s/it]"
     ]
    },
    {
     "name": "stderr",
     "output_type": "stream",
     "text": [
      "\r",
      " 70%|███████████████████████████████████████████████████████████████████████████████████████████████████████████████████████████████████████████████████████████▍                                                                  | 7/10 [00:53<00:22,  7.43s/it]"
     ]
    },
    {
     "name": "stderr",
     "output_type": "stream",
     "text": [
      "\r",
      " 80%|█████████████████████████████████████████████████████████████████████████████████████████████████████████████████████████████████████████████████████████████████████████████████▌                                            | 8/10 [00:59<00:13,  6.81s/it]"
     ]
    },
    {
     "name": "stderr",
     "output_type": "stream",
     "text": [
      "\r",
      " 90%|███████████████████████████████████████████████████████████████████████████████████████████████████████████████████████████████████████████████████████████████████████████████████████████████████████▊                      | 9/10 [01:05<00:06,  6.70s/it]"
     ]
    },
    {
     "name": "stderr",
     "output_type": "stream",
     "text": [
      "\r",
      "100%|█████████████████████████████████████████████████████████████████████████████████████████████████████████████████████████████████████████████████████████████████████████████████████████████████████████████████████████████| 10/10 [01:12<00:00,  6.61s/it]"
     ]
    },
    {
     "name": "stderr",
     "output_type": "stream",
     "text": [
      "\r",
      "100%|█████████████████████████████████████████████████████████████████████████████████████████████████████████████████████████████████████████████████████████████████████████████████████████████████████████████████████████████| 10/10 [01:12<00:00,  7.22s/it]"
     ]
    },
    {
     "name": "stderr",
     "output_type": "stream",
     "text": [
      "\n"
     ]
    }
   ],
   "source": [
    "sub_models = []\n",
    "#sokutionではカスタム関数の指定、早期停止の言及がここではなかった。検討する\n",
    "for i in tqdm(range(repeat_cv), leave=True, dynamic_ncols=True):\n",
    "    sub_models.append(\n",
    "        xgb.train(\n",
    "          params = param,\n",
    "          dtrain = dtrain,\n",
    "          obj=cauchyobj,\n",
    "          num_boost_round = int(iteration_counts[i] * 1.05),\n",
    "          #early_stopping_rounds=early_stopping_rounds, #これ指定してない、指定するのかあと、指定するとしても少し遅くさせるとか\n",
    "          verbose_eval = 50\n",
    "        )\n",
    "    )"
   ]
  },
  {
   "cell_type": "markdown",
   "id": "1ad68cb9",
   "metadata": {
    "papermill": {
     "duration": 0.041686,
     "end_time": "2025-03-14T16:14:30.546936",
     "exception": false,
     "start_time": "2025-03-14T16:14:30.505250",
     "status": "completed"
    },
    "tags": []
   },
   "source": [
    "各特徴量の寄与度を算出"
   ]
  },
  {
   "cell_type": "code",
   "execution_count": 31,
   "id": "df00ffca",
   "metadata": {
    "execution": {
     "iopub.execute_input": "2025-03-14T16:14:30.610797Z",
     "iopub.status.busy": "2025-03-14T16:14:30.610797Z",
     "iopub.status.idle": "2025-03-14T16:14:31.139795Z",
     "shell.execute_reply": "2025-03-14T16:14:31.138787Z"
    },
    "papermill": {
     "duration": 0.561214,
     "end_time": "2025-03-14T16:14:31.141148",
     "exception": false,
     "start_time": "2025-03-14T16:14:30.579934",
     "status": "completed"
    },
    "tags": []
   },
   "outputs": [
    {
     "data": {
      "image/png": "[encoded data removed]",
      "text/plain": [
       "<Figure size 1000x600 with 1 Axes>"
      ]
     },
     "metadata": {},
     "output_type": "display_data"
    }
   ],
   "source": [
    "feature_importances = collections.defaultdict(list)\n",
    "for model in sub_models:\n",
    "    importance = model.get_score(importance_type='gain')\n",
    "    for feat, score in importance.items():\n",
    "        feature_importances[feat].append(score)\n",
    "\n",
    "avg_importance = {feat: sum(scores) / len(scores) for feat, scores in feature_importances.items()}\n",
    "fi_df = pd.DataFrame(list(avg_importance.items()), columns=['Feature', 'Avg_Gain'])\n",
    "fi_df.sort_values(by='Avg_Gain', ascending=False, inplace=True)\n",
    "results.append(\"\")\n",
    "fi_log = \"-----Feature Importance (Average Gain)-----\\n\"\n",
    "for feat, score in fi_df.values:\n",
    "    fi_log += f\"{feat}: {score:.4f}\\n\"\n",
    "results.append(fi_log)\n",
    "results.append(\"\")\n",
    "\n",
    "plt.figure(figsize=(10, 6))\n",
    "plt.bar(fi_df['Feature'], fi_df['Avg_Gain'])\n",
    "plt.xlabel('Feature')\n",
    "plt.ylabel('Average Gain')\n",
    "plt.title('Feature Importance (Average Gain)')\n",
    "plt.xticks(rotation=45)\n",
    "plt.tight_layout() \n",
    "\n",
    "plt.savefig(os.path.join(OUTPUT_PATH, f\"feature_importance_{PREDICT_YEAR}.png\"))\n",
    "plt.show()"
   ]
  },
  {
   "cell_type": "code",
   "execution_count": 32,
   "id": "9d16f253",
   "metadata": {
    "execution": {
     "iopub.execute_input": "2025-03-14T16:14:31.185886Z",
     "iopub.status.busy": "2025-03-14T16:14:31.185886Z",
     "iopub.status.idle": "2025-03-14T16:14:31.257381Z",
     "shell.execute_reply": "2025-03-14T16:14:31.257381Z"
    },
    "papermill": {
     "duration": 0.096613,
     "end_time": "2025-03-14T16:14:31.259538",
     "exception": false,
     "start_time": "2025-03-14T16:14:31.162925",
     "status": "completed"
    },
    "tags": []
   },
   "outputs": [
    {
     "name": "stderr",
     "output_type": "stream",
     "text": [
      "\r",
      "  0%|                                                                                                                                                                                                                                      | 0/10 [00:00<?, ?it/s]"
     ]
    },
    {
     "name": "stderr",
     "output_type": "stream",
     "text": [
      "\r",
      "100%|████████████████████████████████████████████████████████████████████████████████████████████████████████████████████████████████████████████████████████████████████████████████████████████████████████████████████████████| 10/10 [00:00<00:00, 160.52it/s]"
     ]
    },
    {
     "name": "stderr",
     "output_type": "stream",
     "text": [
      "\n"
     ]
    }
   ],
   "source": [
    "sub_preds = []\n",
    "for i in tqdm(range(repeat_cv)):\n",
    "    if spline == \"spline_normal\":\n",
    "        sub_preds.append(np.clip(spline_model[i](np.clip(sub_models[i].predict(dtest), -30, 30)), 0.025, 0.975))\n",
    "    \n",
    "    elif spline == \"logistic\":\n",
    "        X_input = np.clip(sub_models[i].predict(dtest), -30, 30).reshape(-1, 1)\n",
    "        platt_pred = spline_model[i].predict_proba(X_input)[:, 1]\n",
    "        sub_preds.append(np.clip(platt_pred, 0.025, 0.975))\n",
    "\n",
    "    elif spline == \"isotonic\":\n",
    "        X_input = np.clip(sub_models[i].predict(dtest), -30, 30).reshape(-1, 1)\n",
    "        iso_pred = spline_model[i].predict(X_input)  # Isotonic Regression の適用\n",
    "        sub_preds.append(np.clip(iso_pred, 0.025, 0.975))\n",
    "\n",
    "sub[\"Pred\"] = np.mean(np.vstack(sub_preds), axis=0)"
   ]
  },
  {
   "cell_type": "code",
   "execution_count": 33,
   "id": "3f670cdc",
   "metadata": {
    "execution": {
     "iopub.execute_input": "2025-03-14T16:14:31.338901Z",
     "iopub.status.busy": "2025-03-14T16:14:31.338901Z",
     "iopub.status.idle": "2025-03-14T16:14:31.351450Z",
     "shell.execute_reply": "2025-03-14T16:14:31.351450Z"
    },
    "papermill": {
     "duration": 0.059559,
     "end_time": "2025-03-14T16:14:31.353459",
     "exception": false,
     "start_time": "2025-03-14T16:14:31.293900",
     "status": "completed"
    },
    "tags": []
   },
   "outputs": [
    {
     "name": "stdout",
     "output_type": "stream",
     "text": [
      "skip data flip\n"
     ]
    }
   ],
   "source": [
    "# 予測時にテストデータID反転させて予測して平均取る\n",
    "# dtestの用意とsub_predsの算出を同じようにやる\n",
    "# sub[\"Pred\"]を反転させたやつとの平均取ったやつにする\n",
    "TEST_REVERSE = MODEL.test_reverse\n",
    "\n",
    "if TEST_REVERSE:\n",
    "    print(\"----- data flip -----\") \n",
    "    sub_reverse = notexist.copy()\n",
    "    sub_reverse = sub_reverse.rename(columns={\"WTeamID\": \"T2_TeamID\", \"LTeamID\": \"T1_TeamID\"})#reverse!!\n",
    "    temp_reverse = sub_reverse.copy()\n",
    "    temp = temp.rename(columns={\"T1_TeamID\": \"T2_TeamID\", \"T2_TeamID\": \"T1_TeamID\"})\n",
    "    sub_reverse = pd.concat([sub_reverse, temp_reverse]).reset_index()\n",
    "    sub_reverse_X, a = process_tourney(sub_reverse, mode=\"sub\")\n",
    "    sub_reverse_X = drop_columns(sub_reverse_X, drop_col)\n",
    "    dtest_reverse = xgb.DMatrix(sub_reverse_X)\n",
    "    \n",
    "    sub_preds_reverse = []\n",
    "    for i in tqdm(range(repeat_cv)):\n",
    "        if spline == \"spline_normal\":\n",
    "            sub_preds_reverse.append(np.clip(spline_model[i](np.clip(sub_models[i].predict(dtest_reverse), -30, 30)), 0.025, 0.975))\n",
    "        \n",
    "        elif spline == \"logistic\":\n",
    "            X_input = np.clip(sub_models[i].predict(dtest_reverse), -30, 30).reshape(-1, 1)\n",
    "            platt_pred = spline_model[i].predict_proba(X_input)[:, 1]\n",
    "            sub_preds_reverse.append(np.clip(platt_pred, 0.025, 0.975))\n",
    "\n",
    "        elif spline == \"isotonic\":\n",
    "            X_input = np.clip(sub_models[i].predict(dtest_reverse), -30, 30).reshape(-1, 1)\n",
    "            iso_pred = spline_model[i].predict(X_input)  # Isotonic Regression の適用\n",
    "            sub_preds_reverse.append(np.clip(iso_pred, 0.025, 0.975))\n",
    "\n",
    "    sub_reverse[\"Pred\"] = np.mean(np.vstack(sub_preds_reverse), axis=0)\n",
    "    \n",
    " \n",
    "    #sub[\"Pred\"]を (sub[\"Pred\"] + (1-sub_reverse[\"Pred\"]))/2に塗り替える(平均取る)\n",
    "    sub[\"Pred\"] = (sub[\"Pred\"] + (1-sub_reverse[\"Pred\"]))/2\n",
    "\n",
    "\n",
    "else:\n",
    "    print(\"skip data flip\")"
   ]
  },
  {
   "cell_type": "code",
   "execution_count": 34,
   "id": "ea87351f",
   "metadata": {
    "execution": {
     "iopub.execute_input": "2025-03-14T16:14:31.415163Z",
     "iopub.status.busy": "2025-03-14T16:14:31.414217Z",
     "iopub.status.idle": "2025-03-14T16:14:31.421302Z",
     "shell.execute_reply": "2025-03-14T16:14:31.421302Z"
    },
    "papermill": {
     "duration": 0.038474,
     "end_time": "2025-03-14T16:14:31.423406",
     "exception": false,
     "start_time": "2025-03-14T16:14:31.384932",
     "status": "completed"
    },
    "tags": []
   },
   "outputs": [],
   "source": [
    "# teams:64team, targetを受け取って、そのtarget teamの試合可能性のある全63試合を抽出する関数\n",
    "def extract_target_team_records(submission_df, teams, target_team):\n",
    "    if target_team not in teams:\n",
    "        raise ValueError(f\"target_team {target_team} は teams 内に存在しません\")\n",
    "\n",
    "    remaining_teams = [t for t in teams if t != target_team]\n",
    "    \n",
    "    records = []\n",
    "    for other_team in remaining_teams:\n",
    "        lower = min(target_team, other_team)\n",
    "        higher = max(target_team, other_team)\n",
    "        row = submission_df[(submission_df['T1_TeamID'] == lower) & (submission_df['T2_TeamID'] == higher)]\n",
    "        if row.empty:\n",
    "            print(f\"Warning: 対戦 {lower} vs {higher} に対応するレコードが見つかりませんでした\")\n",
    "        else:\n",
    "            records.append(row)\n",
    "    \n",
    "    if records:\n",
    "        final_records = pd.concat(records, ignore_index=True)\n",
    "    else:\n",
    "        final_records = pd.DataFrame()\n",
    "    \n",
    "    if len(final_records) != 63:\n",
    "        print(f\"Warning: 期待される63件ではなく、{len(final_records)}件のレコードが抽出されました。\")\n",
    "    \n",
    "    return final_records\n"
   ]
  },
  {
   "cell_type": "code",
   "execution_count": 35,
   "id": "590baa05",
   "metadata": {
    "execution": {
     "iopub.execute_input": "2025-03-14T16:14:31.481324Z",
     "iopub.status.busy": "2025-03-14T16:14:31.480325Z",
     "iopub.status.idle": "2025-03-14T16:14:31.486295Z",
     "shell.execute_reply": "2025-03-14T16:14:31.486295Z"
    },
    "papermill": {
     "duration": 0.037738,
     "end_time": "2025-03-14T16:14:31.488489",
     "exception": false,
     "start_time": "2025-03-14T16:14:31.450751",
     "status": "completed"
    },
    "tags": []
   },
   "outputs": [],
   "source": [
    "tourney_teams_2023 = [\n",
    "    1395, 1113,   # TCU1395, アリゾナ・ステイト1113\n",
    "    1231, 1245,   # インディアナ1231, ケント・ステイト1245\n",
    "    1243, 1286,   # カンザス・ステイト1243, モンタナ・ステイト1286\n",
    "    1272, 1194,   # メンフィス1272, ﾌﾛﾘﾀﾞ･ｱﾄﾗﾝﾃｨｯｸ1194\n",
    "    1211, 1213,   # ゴンザガ1211, グランド・キャニオン1213\n",
    "    1274, 1179,   # マイアミ（フロリダ）1274, ドレイク1179\n",
    "    1243, 1286,   # ケンタッキー1243, プロビデンス1286\n",
    "    1345, 1192,   # パデュー1345, ﾌｪｱﾘｰ･ﾃﾞｨｷﾝｿﾝ1192\n",
    "    1163, 1233,   # コネチカット1163, アイオナ1233\n",
    "    1166, 1301,   # クレイトン1166, ﾉｰｽｶﾛﾗｲﾅ･ｽﾃｲﾄ1301\n",
    "    1235, 1338,   # アイオワ・ステイト1235, ピッツバーグ1338\n",
    "    1266, 1436,   # マーケット1266, バーモント1436\n",
    "    1388, 1433,   # ｾﾝﾄﾒｱﾘｰｽﾞ（ｶﾘﾌｫﾙﾆｱ）1388, VCU1433\n",
    "    1124, 1364,   # ベイラー1124, UCサンタバーバラ1364\n",
    "    1462, 1244,   # ザビエル1462, ケネソー・ステイト1244\n",
    "    1277, 1425,   # ミシガン・ステイト1277, USC トロージャンズ1425\n",
    "\n",
    "    1417, 1421,   # UCLA1417, UNC アシュビル1421\n",
    "    1401, 1336,   # テキサス A＆M1401, ﾍﾟﾝｼﾞﾙﾍﾞﾆｱ･ｽﾃｲﾄ1336\n",
    "    1397, 1418,   # テネシー1397, ﾙｲｼﾞｱﾅ･ﾗﾌｧｲｴｯﾄ1418\n",
    "    1222, 1297,   # ヒューストン1222, ノーザンケンタッキー1297\n",
    "    1321, 1129,   # ノースウェスタン1321, ボイシ・ステイト1129\n",
    "    1400, 1159,   # テキサス1400, コルゲート1159\n",
    "    1181, 1331,   # デューク1181, オーラル・ロバーツ1331\n",
    "    1234, 1120,   # アイオワ1234, オーバーン1120\n",
    "    1116, 1228,   # アーカンソー1116, イリノイ1228\n",
    "    1112, 1343,   # アリゾナ1112, プリンストン1343\n",
    "    1361, 1158,   # ｻﾝﾃﾞｴｺﾞ･ｽﾃｲﾄ1361, チャールストン1158\n",
    "    1104, 1394,   # アラバマ1104, テキサス A＆M CC1394\n",
    "    1242, 1224,   # カンザス1242, ハワード1224\n",
    "    1281, 1429,   # ミズーリ1281, ユタ・ステイト1429\n",
    "    1438, 1202,   # バージニア1438, ファーマン1202\n",
    "    1268, 1452    # メリーランド1268, ウェストバージニア1452\n",
    "]\n",
    "\n",
    "#Connecticut_vs = extract_target_team_records(sub, tourney_teams_2023, 1163 )"
   ]
  },
  {
   "cell_type": "code",
   "execution_count": 36,
   "id": "81250f10",
   "metadata": {
    "execution": {
     "iopub.execute_input": "2025-03-14T16:14:31.540316Z",
     "iopub.status.busy": "2025-03-14T16:14:31.539421Z",
     "iopub.status.idle": "2025-03-14T16:14:31.545427Z",
     "shell.execute_reply": "2025-03-14T16:14:31.545427Z"
    },
    "papermill": {
     "duration": 0.033451,
     "end_time": "2025-03-14T16:14:31.546895",
     "exception": false,
     "start_time": "2025-03-14T16:14:31.513444",
     "status": "completed"
    },
    "tags": []
   },
   "outputs": [],
   "source": [
    "#handlabelingを行う関数\n",
    "def make_handlabeling(df, season, T1, T2, labeling_pred, tourney_teams):\n",
    "    if T1 not in tourney_teams or T2 not in tourney_teams: \n",
    "        print(f\"トーナメント対象チームに属していません\")\n",
    "        return \n",
    "    \n",
    "    if T1>T2: \n",
    "        T1, T2 = T2, T1\n",
    "        print(f\"{T1}, {T2}ID逆だけど大丈夫？？\")\n",
    "    id = f\"{season}_{T1}_{T2}\"\n",
    "\n",
    "    print(f\"before: {df[df['ID']==id]}\")\n",
    "    df.loc[df[\"ID\"] == id, \"Pred\"] = labeling_pred\n",
    "    print(f\"after: {df[df['ID']==id]}\")\n",
    "    \n",
    "    results.append(f\"-----handolabeling-----\")\n",
    "    results.append(f\"before:  {df[df['ID']==id]} -----> after: {df[df['ID']==id]}\")\n",
    "    results.appedn(\"\")\n",
    "    return df"
   ]
  },
  {
   "cell_type": "code",
   "execution_count": 37,
   "id": "0a11b659",
   "metadata": {
    "execution": {
     "iopub.execute_input": "2025-03-14T16:14:31.598087Z",
     "iopub.status.busy": "2025-03-14T16:14:31.597083Z",
     "iopub.status.idle": "2025-03-14T16:14:31.602219Z",
     "shell.execute_reply": "2025-03-14T16:14:31.602219Z"
    },
    "papermill": {
     "duration": 0.032668,
     "end_time": "2025-03-14T16:14:31.604825",
     "exception": false,
     "start_time": "2025-03-14T16:14:31.572157",
     "status": "completed"
    },
    "tags": []
   },
   "outputs": [],
   "source": [
    "labeling = cfg.exp.hand_labeling\n",
    "if labeling is not None:\n",
    "    for i in range(len(labeling)):\n",
    "        T1 = labeling[i][0]\n",
    "        T2 = labeling[i][1]\n",
    "        labeling_pred = labeling[i][2]\n",
    "        \n",
    "        print(f\"{T1} vs {T2} result labeling {labeling_pred}\")\n",
    "        \n",
    "        sub = make_handlabeling(sub, PREDICT_YEAR, T1, T2, labeling_pred, tourney_teams_2023)"
   ]
  },
  {
   "cell_type": "code",
   "execution_count": 38,
   "id": "644bf98e",
   "metadata": {
    "execution": {
     "iopub.execute_input": "2025-03-14T16:14:31.650036Z",
     "iopub.status.busy": "2025-03-14T16:14:31.650036Z",
     "iopub.status.idle": "2025-03-14T16:14:31.875433Z",
     "shell.execute_reply": "2025-03-14T16:14:31.875433Z"
    },
    "papermill": {
     "duration": 0.25069,
     "end_time": "2025-03-14T16:14:31.877753",
     "exception": false,
     "start_time": "2025-03-14T16:14:31.627063",
     "status": "completed"
    },
    "tags": []
   },
   "outputs": [
    {
     "name": "stdout",
     "output_type": "stream",
     "text": [
      "Tournament matchups only - Pred Mean: 0.500029909486147\n"
     ]
    },
    {
     "data": {
      "image/png": "[encoded data removed]",
      "text/plain": [
       "<Figure size 640x480 with 1 Axes>"
      ]
     },
     "metadata": {},
     "output_type": "display_data"
    }
   ],
   "source": [
    "tourney_filtered = notexist[notexist[\"Season\"] == PREDICT_YEAR].copy()\n",
    "a = tourney_filtered.rename(columns={'WTeamID': 'T1_TeamID', 'LTeamID': 'T2_TeamID'})\n",
    "b = tourney_filtered.rename(columns={'WTeamID': 'T2_TeamID', 'LTeamID': 'T1_TeamID'})\n",
    "ab = pd.concat([a, b]).reset_index(drop=True) \n",
    "filtered_sub = sub.merge(ab[['Season', 'T1_TeamID', 'T2_TeamID']], \n",
    "                         on=['Season', 'T1_TeamID', 'T2_TeamID'], \n",
    "                         how='inner')\n",
    "\n",
    "filtered_sub[\"Pred\"].astype(int)\n",
    "pred_mean = filtered_sub[\"Pred\"].mean()\n",
    "print(\"Tournament matchups only - Pred Mean:\", pred_mean)\n",
    "\n",
    "filtered_sub[\"Pred\"].hist(bins=50)\n",
    "results+=[\"\", f\"Tournament matchups only - Pred Mean:, {pred_mean}\", \"\"]\n",
    "plt.figure(figsize=(8, 6))\n",
    "filtered_sub[\"Pred\"].hist(bins=50)\n",
    "plt.title(\"Prediction Histogram\")\n",
    "plt.xlabel(\"Pred\")\n",
    "plt.ylabel(\"Frequency\")\n",
    "plt.grid(True)\n",
    "\n",
    "# 画像として保存\n",
    "plt.savefig(os.path.join(OUTPUT_PATH, f\"Prediction_Histgram_filtered_{PREDICT_YEAR}.png\"))\n",
    "plt.close()"
   ]
  },
  {
   "cell_type": "markdown",
   "id": "d3db3d71",
   "metadata": {
    "papermill": {
     "duration": 0.017818,
     "end_time": "2025-03-14T16:14:31.915866",
     "exception": false,
     "start_time": "2025-03-14T16:14:31.898048",
     "status": "completed"
    },
    "tags": []
   },
   "source": [
    "# スコア算出、まとめ、\n",
    "ここまでで提出ファイル作成。ここからは過去年度のシミュレーションに対してBrier scoreやその他指標の算出"
   ]
  },
  {
   "cell_type": "code",
   "execution_count": 39,
   "id": "a645632f",
   "metadata": {
    "execution": {
     "iopub.execute_input": "2025-03-14T16:14:31.963144Z",
     "iopub.status.busy": "2025-03-14T16:14:31.963144Z",
     "iopub.status.idle": "2025-03-14T16:14:32.253368Z",
     "shell.execute_reply": "2025-03-14T16:14:32.253368Z"
    },
    "papermill": {
     "duration": 0.311217,
     "end_time": "2025-03-14T16:14:32.253368",
     "exception": false,
     "start_time": "2025-03-14T16:14:31.942151",
     "status": "completed"
    },
    "tags": []
   },
   "outputs": [
    {
     "data": {
      "image/png": "[encoded data removed]",
      "text/plain": [
       "<Figure size 640x480 with 1 Axes>"
      ]
     },
     "metadata": {},
     "output_type": "display_data"
    }
   ],
   "source": [
    "sub[\"Pred\"].hist()\n",
    "results+=[\"\", f\"Pred mean: {sub['Pred'].mean()}\", \"\"]\n",
    "\n",
    "plt.figure(figsize=(8, 6))\n",
    "sub[\"Pred\"].hist(bins=50)\n",
    "plt.title(\"Prediction Histogram\")\n",
    "plt.xlabel(\"Pred\")\n",
    "plt.ylabel(\"Frequency\")\n",
    "plt.grid(True)\n",
    "\n",
    "# 画像として保存\n",
    "plt.savefig(os.path.join(OUTPUT_PATH, f\"Prediction_Histgram_{PREDICT_YEAR}.png\"))\n",
    "plt.close()"
   ]
  },
  {
   "cell_type": "markdown",
   "id": "a189cfaa",
   "metadata": {
    "papermill": {
     "duration": 0.020583,
     "end_time": "2025-03-14T16:14:32.297685",
     "exception": false,
     "start_time": "2025-03-14T16:14:32.277102",
     "status": "completed"
    },
    "tags": []
   },
   "source": [
    "存在するはずのない予測年度のトーナメント結果をもとに(Pred, label)を取り出し、以下を行う。\n",
    "\n",
    "- 各評価指標の計算\n",
    "- キャリブレーション可視化\n",
    "- AUC可視化"
   ]
  },
  {
   "cell_type": "code",
   "execution_count": 40,
   "id": "682334fa",
   "metadata": {
    "execution": {
     "iopub.execute_input": "2025-03-14T16:14:32.343098Z",
     "iopub.status.busy": "2025-03-14T16:14:32.343098Z",
     "iopub.status.idle": "2025-03-14T16:14:32.351571Z",
     "shell.execute_reply": "2025-03-14T16:14:32.351571Z"
    },
    "papermill": {
     "duration": 0.03158,
     "end_time": "2025-03-14T16:14:32.352576",
     "exception": false,
     "start_time": "2025-03-14T16:14:32.320996",
     "status": "completed"
    },
    "tags": []
   },
   "outputs": [],
   "source": [
    "def extract_labels_and_preds(sub, tourney):\n",
    "    \"\"\" 試合データから予測値 (Pred) と正解ラベル (label) を抽出する \"\"\"\n",
    "    label_data = tourney[[\"WTeamID\", \"LTeamID\", \"WScore\", \"LScore\"]]\n",
    "    label_data = label_data.rename(columns={\"WTeamID\": \"T1_TeamID\", \"LTeamID\": \"T2_TeamID\", \"WScore\": \"T1_Score\", \"LScore\": \"T2_Score\"})\n",
    "    temp = label_data.copy()\n",
    "    temp = temp.rename(columns={\"T1_TeamID\": \"T2_TeamID\", \"T2_TeamID\": \"T1_TeamID\", \"T1_Score\": \"T2_Score\", \"T2_Score\": \"T1_Score\"})\n",
    "    label_data = pd.concat([label_data, temp]).reset_index(drop=True)\n",
    "    \n",
    "    label_data = pd.merge(label_data, sub, on=[\"T1_TeamID\", \"T2_TeamID\"], how=\"left\")\n",
    "    label_data[\"label\"] = np.where(label_data[\"T1_Score\"] - label_data[\"T2_Score\"] > 0, 1, 0)\n",
    "    label_data = label_data.dropna(subset=[\"Pred\"])  # 欠損値を削除\n",
    "    \n",
    "    return label_data[[\"label\", \"Pred\"]]\n",
    "\n",
    "def calculate_metrics(label_data):\n",
    "    \"\"\" 各評価指標を計算 \"\"\"\n",
    "    brier_score = round(mean_squared_error(label_data[\"label\"], label_data[\"Pred\"]), 5)  # Brier Score (MSEと同じ)\n",
    "    rmse_score = round(mean_squared_error(label_data[\"label\"], label_data[\"Pred\"], squared=False), 5)  # RMSE\n",
    "    logloss_score = round(log_loss(label_data[\"label\"], label_data[\"Pred\"]), 5)  # Log Loss\n",
    "    mae_score = round(mean_absolute_error(label_data[\"label\"], label_data[\"Pred\"]), 5)  # MAE\n",
    "    \n",
    "    return {\n",
    "        \"Brier Score\": brier_score,\n",
    "        \"RMSE\": rmse_score,\n",
    "        \"Log Loss\": logloss_score,\n",
    "        \"MAE\": mae_score\n",
    "    }\n",
    "\n",
    "def plot_calibration_curve(label_data, n_bins=10):\n",
    "    \"\"\" キャリブレーションカーブをプロット \"\"\"\n",
    "    prob_true, prob_pred = calibration_curve(label_data[\"label\"], label_data[\"Pred\"], n_bins=n_bins)\n",
    "    \n",
    "    plt.figure(figsize=(6,6))\n",
    "    plt.plot(prob_pred, prob_true, marker=\"o\", label=\"Model Calibration\")\n",
    "    plt.plot([0, 1], [0, 1], linestyle=\"--\", label=\"Perfect Calibration\")\n",
    "    plt.xlabel(\"Predicted Probability\")\n",
    "    plt.ylabel(\"Actual Probability\")\n",
    "    plt.legend()\n",
    "    plt.title(\"Calibration Curve\")\n",
    "    plt.show()\n",
    "\n",
    "def calculate_auc_metrics(label_data):\n",
    "    global results\n",
    "    \"\"\" AUC-ROCとAUC-PRを計算 \"\"\"\n",
    "    auc_roc = roc_auc_score(label_data[\"label\"], label_data[\"Pred\"])\n",
    "    auc_pr = average_precision_score(label_data[\"label\"], label_data[\"Pred\"])\n",
    "    \n",
    "    print(f\"AUC-ROC: {auc_roc:.4f}\")\n",
    "    print(f\"AUC-PR: {auc_pr:.4f}\")\n",
    "    results += [\"---- AUC -----\", f\"AUC-ROC: {auc_roc:.4f}\", f\"AUC-PR: {auc_pr:.4f}\"]\n",
    "    "
   ]
  },
  {
   "cell_type": "code",
   "execution_count": 41,
   "id": "4011aafa",
   "metadata": {
    "execution": {
     "iopub.execute_input": "2025-03-14T16:14:32.394480Z",
     "iopub.status.busy": "2025-03-14T16:14:32.394480Z",
     "iopub.status.idle": "2025-03-14T16:14:32.493818Z",
     "shell.execute_reply": "2025-03-14T16:14:32.492733Z"
    },
    "papermill": {
     "duration": 0.121296,
     "end_time": "2025-03-14T16:14:32.494980",
     "exception": false,
     "start_time": "2025-03-14T16:14:32.373684",
     "status": "completed"
    },
    "tags": []
   },
   "outputs": [
    {
     "name": "stderr",
     "output_type": "stream",
     "text": [
      "C:\\Users\\81809\\anaconda3\\envs\\deep_learning_pytorch\\Lib\\site-packages\\sklearn\\metrics\\_regression.py:492: FutureWarning: 'squared' is deprecated in version 1.4 and will be removed in 1.6. To calculate the root mean squared error, use the function'root_mean_squared_error'.\n",
      "  warnings.warn(\n"
     ]
    },
    {
     "data": {
      "image/png": "[encoded data removed]",
      "text/plain": [
       "<Figure size 600x600 with 1 Axes>"
      ]
     },
     "metadata": {},
     "output_type": "display_data"
    },
    {
     "name": "stdout",
     "output_type": "stream",
     "text": [
      "AUC-ROC: 0.8577\n",
      "AUC-PR: 0.8696\n",
      "MAE: 0.31476\n",
      "\n",
      "---- AUC -----\n",
      "AUC-ROC: 0.8577\n",
      "AUC-PR: 0.8696\n"
     ]
    }
   ],
   "source": [
    "if PREDICT_YEAR == 2022:\n",
    "    notexist_MAN = notexist[notexist[\"WTeamID\"].astype(str).str.startswith(\"1\")]\n",
    "    notexist_WOMAN = notexist[notexist[\"WTeamID\"].astype(str).str.startswith(\"3\")]\n",
    "    label_data = extract_labels_and_preds(sub, notexist) ######\n",
    "else:\n",
    "    label_data = extract_labels_and_preds(sub, notexist)\n",
    "\n",
    "# 評価指標の計算\n",
    "score = calculate_metrics(label_data)\n",
    "results += [\"\",\"-----eval metrics-----\",\n",
    "            f\"Brier Score: {score['Brier Score']}\", \n",
    "            f\"RMSE: {score['RMSE']}\", \n",
    "            f\"Log Loss: {score['Log Loss']}\", \n",
    "            f\"MAE: {score['MAE']}\", \"\"]\n",
    "\n",
    "# キャリブレーションの確認\n",
    "plot_calibration_curve(label_data)\n",
    "\n",
    "# AUCの評価\n",
    "calculate_auc_metrics(label_data)\n",
    "\n",
    "for temp in range(-5, 0):\n",
    "    print(results[temp])"
   ]
  },
  {
   "cell_type": "code",
   "execution_count": 42,
   "id": "e305411e",
   "metadata": {
    "execution": {
     "iopub.execute_input": "2025-03-14T16:14:32.543827Z",
     "iopub.status.busy": "2025-03-14T16:14:32.542826Z",
     "iopub.status.idle": "2025-03-14T16:14:32.549366Z",
     "shell.execute_reply": "2025-03-14T16:14:32.548824Z"
    },
    "papermill": {
     "duration": 0.034504,
     "end_time": "2025-03-14T16:14:32.551375",
     "exception": false,
     "start_time": "2025-03-14T16:14:32.516871",
     "status": "completed"
    },
    "tags": []
   },
   "outputs": [
    {
     "data": {
      "text/plain": [
       "'if PREDICT_YEAR!=2025:\\n    predict_year_label =notexist[[\"WTeamID\", \"LTeamID\", \"WScore\", \"LScore\"]].copy()\\n    predict_year_label.loc[:, \"Win\"] = np.where(predict_year_label[\"WScore\"] - predict_year_label[\"LScore\"] > 0, 1, 0)\\n    predict_year_label = predict_year_label[[\"WTeamID\", \"LTeamID\", \"Win\"]]\\n   \\n    predict_year_label.columns = [\"T1_TeamID\", \"T2_TeamID\", \"Win\"]\\n\\n    predict_year_label = pd.merge(predict_year_label, sub, on=[\"T1_TeamID\", \"T2_TeamID\"], how=\"left\")\\n    brier_score = np.mean((predict_year_label[\"Pred\"] - predict_year_label[\"Win\"])**2)\\n\\n    print(\"Brier Score:\", brier_score)\\n    results+=[f\"Brier Score: {brier_score}\", \"\"]\\n    predict_year_label.info()\\n'"
      ]
     },
     "execution_count": 42,
     "metadata": {},
     "output_type": "execute_result"
    }
   ],
   "source": [
    "\"\"\"if PREDICT_YEAR!=2025:\n",
    "    predict_year_label =notexist[[\"WTeamID\", \"LTeamID\", \"WScore\", \"LScore\"]].copy()\n",
    "    predict_year_label.loc[:, \"Win\"] = np.where(predict_year_label[\"WScore\"] - predict_year_label[\"LScore\"] > 0, 1, 0)\n",
    "    predict_year_label = predict_year_label[[\"WTeamID\", \"LTeamID\", \"Win\"]]\n",
    "   \n",
    "    predict_year_label.columns = [\"T1_TeamID\", \"T2_TeamID\", \"Win\"]\n",
    "\n",
    "    predict_year_label = pd.merge(predict_year_label, sub, on=[\"T1_TeamID\", \"T2_TeamID\"], how=\"left\")\n",
    "    brier_score = np.mean((predict_year_label[\"Pred\"] - predict_year_label[\"Win\"])**2)\n",
    "\n",
    "    print(\"Brier Score:\", brier_score)\n",
    "    results+=[f\"Brier Score: {brier_score}\", \"\"]\n",
    "    predict_year_label.info()\n",
    "\"\"\""
   ]
  },
  {
   "cell_type": "code",
   "execution_count": 43,
   "id": "977da0bd",
   "metadata": {
    "execution": {
     "iopub.execute_input": "2025-03-14T16:14:32.603966Z",
     "iopub.status.busy": "2025-03-14T16:14:32.603966Z",
     "iopub.status.idle": "2025-03-14T16:14:32.611068Z",
     "shell.execute_reply": "2025-03-14T16:14:32.610056Z"
    },
    "papermill": {
     "duration": 0.035619,
     "end_time": "2025-03-14T16:14:32.613069",
     "exception": false,
     "start_time": "2025-03-14T16:14:32.577450",
     "status": "completed"
    },
    "tags": []
   },
   "outputs": [
    {
     "name": "stdout",
     "output_type": "stream",
     "text": [
      "実行時間： 918.0秒\n"
     ]
    }
   ],
   "source": [
    "END_TIME = time.time()\n",
    "ELAPSED_TIME = END_TIME - START_TIME\n",
    "print(f\"実行時間： {ELAPSED_TIME:.1f}秒\")\n",
    "results.append(f\"実行時間： {ELAPSED_TIME:.1f}秒\")\n",
    "\n",
    "with open(os.path.join(OUTPUT_PATH, \"result.txt\"), \"a\", encoding=\"utf-8\") as f:\n",
    "    for line in results:\n",
    "        f.write(line + \"\\n\")"
   ]
  },
  {
   "cell_type": "code",
   "execution_count": 44,
   "id": "74a70b03",
   "metadata": {
    "execution": {
     "iopub.execute_input": "2025-03-14T16:14:32.666692Z",
     "iopub.status.busy": "2025-03-14T16:14:32.666692Z",
     "iopub.status.idle": "2025-03-14T16:14:32.670209Z",
     "shell.execute_reply": "2025-03-14T16:14:32.670209Z"
    },
    "papermill": {
     "duration": 0.031498,
     "end_time": "2025-03-14T16:14:32.672227",
     "exception": false,
     "start_time": "2025-03-14T16:14:32.640729",
     "status": "completed"
    },
    "tags": []
   },
   "outputs": [],
   "source": [
    "logger.remove()"
   ]
  }
 ],
 "metadata": {
  "kernelspec": {
   "display_name": "deep_learning_pytorch",
   "language": "python",
   "name": "python3"
  },
  "language_info": {
   "codemirror_mode": {
    "name": "ipython",
    "version": 3
   },
   "file_extension": ".py",
   "mimetype": "text/x-python",
   "name": "python",
   "nbconvert_exporter": "python",
   "pygments_lexer": "ipython3",
   "version": "3.11.9"
  },
  "papermill": {
   "default_parameters": {},
   "duration": 925.171908,
   "end_time": "2025-03-14T16:14:33.364946",
   "environment_variables": {},
   "exception": null,
   "input_path": "c:\\Users\\81809\\Documents\\ALL_CODE\\kaggle\\March Machine Learning Mania 2025\\notebook\\1stplace_solution_2023.ipynb",
   "output_path": "exp106_20250315_005908.ipynb",
   "parameters": {
    "EXP_NUM": "exp106"
   },
   "start_time": "2025-03-14T15:59:08.193038",
   "version": "2.6.0"
  }
 },
 "nbformat": 4,
 "nbformat_minor": 5
}