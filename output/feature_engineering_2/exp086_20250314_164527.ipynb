{
 "cells": [
  {
   "cell_type": "code",
   "execution_count": 1,
   "id": "2e4fdd2e",
   "metadata": {
    "execution": {
     "iopub.execute_input": "2025-03-14T07:45:28.840449Z",
     "iopub.status.busy": "2025-03-14T07:45:28.840449Z",
     "iopub.status.idle": "2025-03-14T07:45:28.856331Z",
     "shell.execute_reply": "2025-03-14T07:45:28.856331Z"
    },
    "papermill": {
     "duration": 0.015882,
     "end_time": "2025-03-14T07:45:28.856331",
     "exception": false,
     "start_time": "2025-03-14T07:45:28.840449",
     "status": "completed"
    },
    "tags": [
     "parameters"
    ]
   },
   "outputs": [],
   "source": [
    "# Parameters\n",
    "EXP_NUM = \"default\""
   ]
  },
  {
   "cell_type": "code",
   "execution_count": 2,
   "id": "1cca9836",
   "metadata": {
    "execution": {
     "iopub.execute_input": "2025-03-14T07:45:28.872253Z",
     "iopub.status.busy": "2025-03-14T07:45:28.872253Z",
     "iopub.status.idle": "2025-03-14T07:45:28.878275Z",
     "shell.execute_reply": "2025-03-14T07:45:28.878275Z"
    },
    "papermill": {
     "duration": 0.021944,
     "end_time": "2025-03-14T07:45:28.878275",
     "exception": false,
     "start_time": "2025-03-14T07:45:28.856331",
     "status": "completed"
    },
    "tags": [
     "injected-parameters"
    ]
   },
   "outputs": [],
   "source": [
    "# Parameters\n",
    "EXP_NUM = \"exp086\"\n"
   ]
  },
  {
   "cell_type": "markdown",
   "id": "6463df71",
   "metadata": {
    "papermill": {
     "duration": 0.014128,
     "end_time": "2025-03-14T07:45:28.892403",
     "exception": false,
     "start_time": "2025-03-14T07:45:28.878275",
     "status": "completed"
    },
    "tags": []
   },
   "source": [
    "# 2023 1st place solution\n",
    "[kaggle notebook](https://www.kaggle.com/code/rustyb/paris-madness-2023#Load-the-data!)"
   ]
  },
  {
   "cell_type": "markdown",
   "id": "86ca53bc",
   "metadata": {
    "papermill": {
     "duration": 0.0,
     "end_time": "2025-03-14T07:45:28.894404",
     "exception": false,
     "start_time": "2025-03-14T07:45:28.894404",
     "status": "completed"
    },
    "tags": []
   },
   "source": [
    "# コードの流れ\n",
    "1. hydraからハイパラ取得し、パスなどを設定\n",
    "\n",
    "    regular&tourney Detaile Result, Seedを使用し、tourneyを目的変数としてモデルを予測していく\n",
    "\n",
    "    regular_data->season_statistics->\n",
    "\n",
    "    以下の前処理をする\n",
    "\n",
    "2. データ２倍にかさまし\n",
    "3. regularに対して特徴量の追加\n",
    "    各チームごとに加えるもの\n",
    "   - EFFG: フィールドゴール成功率\n",
    "   - EFFG3: フィールドゴール3p成功率\n",
    "   - DARE: フィールドゴールにおける3P率\n",
    "   - \"win\"を目的変数とする(Team, Season)のロジスティック回帰した各係数\n",
    "    対戦カードごとに加える特徴量\n",
    "    - PointDiff: ポイント差\n",
    "    - win: 1 if PointDiff>0 else 0\n",
    "4. (Team, Season)ごとに特徴量season_statixtics追加\n",
    "    - win_ratio_14d\n",
    "    - box score mean\n",
    "    - quality\n",
    "    - seed\n",
    "5. season_average.enabled=trueなら直近３シーズンの加重平均の処理加える\n",
    "6. tourneyをteamID, Season, score(y)のみ取り出してこれに対してseason_statisticsの結合と特徴量微調整\n",
    "   - seed->seeddiff\n",
    "   - fillna()\n",
    "\n",
    "7. モデル構築\n",
    "8. KFOLD->OOF予測->spline曲線求めてlogloss算出\n",
    "    - KFOLDによる交差検証（CV）\n",
    "        repeat_cv 回のループで、各反復ごとにKFold（folds_splits個）によりデータを分割し、XGBoostのCVを実行しています。\n",
    "        各foldでの結果（例えば、訓練MAE、検証MAEの平均値や標準偏差）がcv_resultとして得られ、それをxgb_cvリストに格納します。\n",
    "        この段階で重要なのは、各反復での検証用MAEの平均値 (test-mae-mean) の最小値と、そのときのブーストラウンド数です。\n",
    "        それらは後で、最適なイテレーション数 (iteration_counts) として計算され、val_mae にも格納されます。\n",
    "    - OOF予測の流れ\n",
    "\n",
    "        各反復ごとに、新たなKFoldを用いてデータを分割。\n",
    "        各foldごとに、学習データでモデルを訓練し、検証データに対して予測を実施。\n",
    "        すべてのfold分の予測結果を1つの予測配列にまとめ、最後に -30～30 の範囲にクリップしています。\n",
    "        重要な結果\n",
    "\n",
    "        OOF予測結果（oof_preds）自体は後段で別途評価指標に使用できるほか、各反復ごとの予測精度や誤差を算出する際の基礎データ\n",
    "9.  提出フェーズ\n",
    "    - 最適paramで全データ使って訓練\n",
    "    - 提出試合の予測"
   ]
  },
  {
   "cell_type": "markdown",
   "id": "27d38c6f",
   "metadata": {
    "papermill": {
     "duration": 0.0,
     "end_time": "2025-03-14T07:45:28.907532",
     "exception": false,
     "start_time": "2025-03-14T07:45:28.907532",
     "status": "completed"
    },
    "tags": []
   },
   "source": [
    "memo\n",
    "\n",
    "欠損値が発生していいのか検討して保管について考える\n",
    "seedがかけているのはregularに対してseedを与えているから大丈夫。最終的なtourneyには欠損０で追加できているから問題ない"
   ]
  },
  {
   "cell_type": "code",
   "execution_count": 3,
   "id": "3df16b9c",
   "metadata": {
    "execution": {
     "iopub.execute_input": "2025-03-14T07:45:28.923902Z",
     "iopub.status.busy": "2025-03-14T07:45:28.923902Z",
     "iopub.status.idle": "2025-03-14T07:45:31.158997Z",
     "shell.execute_reply": "2025-03-14T07:45:31.158997Z"
    },
    "papermill": {
     "duration": 2.251465,
     "end_time": "2025-03-14T07:45:31.158997",
     "exception": false,
     "start_time": "2025-03-14T07:45:28.907532",
     "status": "completed"
    },
    "tags": []
   },
   "outputs": [
    {
     "name": "stderr",
     "output_type": "stream",
     "text": [
      "C:\\Users\\81809\\anaconda3\\envs\\deep_learning_pytorch\\Lib\\site-packages\\tqdm\\auto.py:21: TqdmWarning: IProgress not found. Please update jupyter and ipywidgets. See https://ipywidgets.readthedocs.io/en/stable/user_install.html\n",
      "  from .autonotebook import tqdm as notebook_tqdm\n"
     ]
    },
    {
     "name": "stdout",
     "output_type": "stream",
     "text": [
      "exp086\n",
      "Omega conf is below\n",
      "dir:\n",
      "  input_dir: ../input\n",
      "  output_dir: ../output\n",
      "  src_path: ../src\n",
      "  conf_path: ../conf\n",
      "exp:\n",
      "  name: feature_engineering_2\n",
      "  print_name: delete PF\n",
      "  tournament:\n",
      "    use_start_season: 1985\n",
      "    target_season: 2019\n",
      "  features:\n",
      "    cal_mean_boxscore:\n",
      "      T1_Score: true\n",
      "      T2_Score: true\n",
      "      PointDiff: true\n",
      "      T1_FGM: true\n",
      "      T2_FGM: true\n",
      "      T1_FGA: true\n",
      "      T2_FGA: true\n",
      "      T1_FGM3: false\n",
      "      T2_FGM3: false\n",
      "      T1_FGA3: false\n",
      "      T2_FGA3: false\n",
      "      T1_FTM: false\n",
      "      T2_FTM: false\n",
      "      T1_FTA: false\n",
      "      T2_FTA: false\n",
      "      T1_EFFG: false\n",
      "      T2_EFFG: false\n",
      "      T1_EFFG3: false\n",
      "      T2_EFFG3: false\n",
      "      T1_EFG_SUM: true\n",
      "      T2_EFG_SUM: true\n",
      "      T1_TO_RATIO: true\n",
      "      T2_TO_RATIO: true\n",
      "      T1_OR: true\n",
      "      T2_OR: true\n",
      "      T1_DR: true\n",
      "      T2_DR: true\n",
      "      T1_REB_RATE: true\n",
      "      T2_REB_RATE: true\n",
      "      T1_FT_RATE: true\n",
      "      T2_FT_RATE: true\n",
      "      T1_RATING: false\n",
      "      T2_RATING: false\n",
      "      T1_POSS_RATE: true\n",
      "      T2_POSS_RATE: true\n",
      "      T1_Ast: true\n",
      "      T2_Ast: true\n",
      "      T1_TO: true\n",
      "      T2_TO: true\n",
      "      T1_Stl: true\n",
      "      T2_Stl: true\n",
      "      T1_Blk: true\n",
      "      T2_Blk: true\n",
      "      T1_PF: false\n",
      "      T2_PF: false\n",
      "      T1_DARE: false\n",
      "      T2_DARE: false\n",
      "      T1_TOQUETOQUE: false\n",
      "      T2_TOQUETOQUE: false\n",
      "    rank_diff: true\n",
      "    start_quality_season: 2003\n",
      "    dropfeatures:\n",
      "    - T1_TOmean\n",
      "    - T2_TOmean\n",
      "    - T1_opponent_POSS_RATEmean\n",
      "    - T2_opponent_POSS_RATEmean\n",
      "    - T1_opponent_Astmean\n",
      "    - T2_opponent_Astmean\n",
      "    - T1_opponent_FT_RATEmean\n",
      "    - T2_opponent_FT_RATEmean\n",
      "    - T1_opponent_Stlmean\n",
      "    - T2_opponent_Stlmean\n",
      "    - T1_ORmean\n",
      "    - T2_ORmean\n",
      "    - T1_opponent_ORmean\n",
      "    - T2_opponent_ORmean\n",
      "    season_average:\n",
      "      enabled: false\n",
      "      past_years: 3\n",
      "      weights:\n",
      "      - 1\n",
      "      - 2\n",
      "      - 3\n",
      "    fillna:\n",
      "      quality: 'nan'\n",
      "  model:\n",
      "    repeat_cv: 10\n",
      "    optuna_enabled: false\n",
      "    test_reverse: false\n",
      "    xgb_model:\n",
      "      param:\n",
      "        eval_metric: rmse\n",
      "        booster: gbtree\n",
      "        eta: 0.02\n",
      "        subsample: 0.35\n",
      "        colsample_bytree: 0.7\n",
      "        num_parallel_tree: 10\n",
      "        min_child_weight: 40\n",
      "        gamma: 10\n",
      "        max_depth: 3\n",
      "      obj: cauchyoj\n",
      "      num_boost_round: 3000\n",
      "      folds_splits: 5\n",
      "      early_stopping_rounds: 25\n",
      "      optuna:\n",
      "        max_depth:\n",
      "        - 3\n",
      "        - 7\n",
      "        eta:\n",
      "        - 0.001\n",
      "        - 0.03\n",
      "        subsample:\n",
      "        - 0.2\n",
      "        - 0.5\n",
      "        colsample_bytree:\n",
      "        - 0.5\n",
      "        - 1.0\n",
      "        num_parallel_tree:\n",
      "        - 7\n",
      "        - 12\n",
      "        min_child_weight:\n",
      "        - 30\n",
      "        - 50\n",
      "        reg_alpha:\n",
      "        - 0.0\n",
      "        - 1.0\n",
      "        reg_lambda:\n",
      "        - 0.0\n",
      "        - 1.0\n",
      "        gamma:\n",
      "        - 0\n",
      "        - 10\n",
      "        n_trials: 1000\n",
      "        timeout: 28800\n",
      "        n_jobs: -1\n",
      "        n_warmup_steps: 3\n",
      "    spline: logistic\n",
      "  hand_labeling: null\n",
      "\n"
     ]
    }
   ],
   "source": [
    "\n",
    "import os\n",
    "import sys\n",
    "from pathlib import Path\n",
    "import collections\n",
    "from datetime import datetime\n",
    "import shutil\n",
    "import yaml\n",
    "from tqdm import tqdm\n",
    "import time\n",
    "import optuna\n",
    "from loguru import logger\n",
    "import collections\n",
    "\n",
    "from hydra import initialize, initialize_config_module, initialize_config_dir, compose\n",
    "from omegaconf import OmegaConf\n",
    "\n",
    "import numpy as np\n",
    "import pandas as pd\n",
    "import matplotlib.pyplot as plt\n",
    "import seaborn as sns\n",
    "from scipy.interpolate import UnivariateSpline\n",
    "\n",
    "import xgboost as xgb\n",
    "from xgboost import XGBRegressor\n",
    "from sklearn.model_selection import KFold\n",
    "from sklearn.calibration import calibration_curve\n",
    "from sklearn.metrics import log_loss,mean_squared_error, mean_absolute_error, roc_auc_score, average_precision_score\n",
    "from sklearn.metrics import make_scorer\n",
    "from sklearn.model_selection import cross_val_score, KFold\n",
    "from sklearn.linear_model import LogisticRegression\n",
    "from sklearn.preprocessing import OneHotEncoder\n",
    "from sklearn.isotonic import IsotonicRegression\n",
    "\n",
    "import statsmodels.api as sm\n",
    "\n",
    "START_TIME = time.time()\n",
    "\n",
    "\n",
    "#####\n",
    "#EXP_NUM = \"test\"\n",
    "#####\n",
    "print(EXP_NUM)\n",
    "\n",
    "# hydraの初期設定と指定ハイパラの取得\n",
    "sys.path.append(os.path.abspath(\"/workspace\"))\n",
    "sys.path.append(\"C:\\\\Users\\\\81809\\\\Documents\\\\ALL_CODE\\\\kaggle\\\\March Machine Learning Mania 2025\")\n",
    "with initialize_config_module(version_base=None, config_module=\"conf\"):\n",
    "    cfg = compose(\n",
    "        config_name=\"base.yaml\",\n",
    "        overrides=[\n",
    "            f\"+exp={EXP_NUM}\" #defaultexp001->exp002のオーバーライド\n",
    "        ],\n",
    "    )\n",
    "    \n",
    "    OmegaConf.resolve(cfg)\n",
    "    print(\"Omega conf is below\")\n",
    "    print(OmegaConf.to_yaml(cfg))\n"
   ]
  },
  {
   "cell_type": "code",
   "execution_count": 4,
   "id": "52ae89d8",
   "metadata": {
    "execution": {
     "iopub.execute_input": "2025-03-14T07:45:31.170292Z",
     "iopub.status.busy": "2025-03-14T07:45:31.170292Z",
     "iopub.status.idle": "2025-03-14T07:45:31.195834Z",
     "shell.execute_reply": "2025-03-14T07:45:31.195834Z"
    },
    "papermill": {
     "duration": 0.025542,
     "end_time": "2025-03-14T07:45:31.195834",
     "exception": false,
     "start_time": "2025-03-14T07:45:31.170292",
     "status": "completed"
    },
    "tags": []
   },
   "outputs": [
    {
     "name": "stdout",
     "output_type": "stream",
     "text": [
      "########\n",
      "output dir name: feature_engineering_2\n",
      "Run on 2025-03-14 16:45:31.170292\n",
      "delete PF\n",
      "########\n"
     ]
    }
   ],
   "source": [
    "PREDICT_YEAR = cfg.exp.tournament.target_season\n",
    "name = f\"{cfg.exp.name}\"\n",
    "now = str(datetime.now())\n",
    "print(\"########\")\n",
    "print(f\"output dir name: {name}\")\n",
    "print(f\"Run on {now}\")\n",
    "print(cfg.exp.print_name)\n",
    "print(\"########\")\n",
    "\n",
    "BASE_DIR = os.path.abspath(os.path.join(os.getcwd(), \"..\"))\n",
    "CONF_PATH = os.path.join(BASE_DIR, \"conf\")\n",
    "INPUT_PATH = os.path.join(BASE_DIR, \"input\")\n",
    "EXP_PATH = os.path.join(CONF_PATH, \"exp\", f\"{EXP_NUM}.yaml\")\n",
    "OUTPUT_PATH = os.path.join(BASE_DIR, \"output\", name)\n",
    "SRC_PATH = cfg.dir.src_path\n",
    "sys.path.append(SRC_PATH)\n",
    "\n",
    "os.makedirs(OUTPUT_PATH, exist_ok=True)  \n",
    "with open(EXP_PATH, \"r\", encoding=\"utf-8\") as f:\n",
    "    config = yaml.safe_load(f)\n",
    "shutil.copyfile(EXP_PATH, os.path.join(OUTPUT_PATH, f\"{EXP_NUM}.yaml\"))\n",
    "\n",
    "\n",
    "y_season = cfg.exp.tournament.target_season\n",
    "FEATURES = cfg.exp.features\n",
    "MODEL = cfg.exp.model\n",
    "results = [\"\", f\"-----{PREDICT_YEAR}-----\", now ,name, cfg.exp.print_name,\"\"]"
   ]
  },
  {
   "cell_type": "code",
   "execution_count": 5,
   "id": "fbea5fe1",
   "metadata": {
    "execution": {
     "iopub.execute_input": "2025-03-14T07:45:31.211593Z",
     "iopub.status.busy": "2025-03-14T07:45:31.211593Z",
     "iopub.status.idle": "2025-03-14T07:45:32.656197Z",
     "shell.execute_reply": "2025-03-14T07:45:32.656197Z"
    },
    "papermill": {
     "duration": 1.460363,
     "end_time": "2025-03-14T07:45:32.656197",
     "exception": false,
     "start_time": "2025-03-14T07:45:31.195834",
     "status": "completed"
    },
    "tags": []
   },
   "outputs": [],
   "source": [
    "tourney_results = pd.concat([\n",
    "    pd.read_csv(os.path.join(INPUT_PATH,\"MNCAATourneyDetailedResults.csv\")),\n",
    "    pd.read_csv(os.path.join(INPUT_PATH,\"WNCAATourneyDetailedResults.csv\")),\n",
    "], ignore_index=True)\n",
    "\n",
    "seeds = pd.concat([\n",
    "    pd.read_csv(os.path.join(INPUT_PATH,\"MNCAATourneySeeds.csv\")),\n",
    "    pd.read_csv(os.path.join(INPUT_PATH,\"WNCAATourneySeeds.csv\")),\n",
    "], ignore_index=True)\n",
    "\n",
    "regular_results = pd.concat([\n",
    "    pd.read_csv(os.path.join(INPUT_PATH, \"MRegularSeasonDetailedResults.csv\")),\n",
    "    pd.read_csv(os.path.join(INPUT_PATH,\"WRegularSeasonDetailedResults.csv\")),\n",
    "], ignore_index=True)\n",
    "\n",
    "ordinal_rank = pd.read_csv(os.path.join(INPUT_PATH, \"MMasseyOrdinals.csv\"))\n",
    "\n",
    "# 1試合情報からWin,Lose反転させてデータ数２倍にかさまし and WLoc -> location(0 or -1 or 1)\n",
    "def prepare_data(df1):\n",
    "    df = df1.copy()\n",
    "    ### add new box score\n",
    "    #type1: normal EFG\n",
    "    df['WEFFG'] = df['WFGM'] / df['WFGA']\n",
    "    df['LEFFG'] = df['LFGM'] / df['LFGA']\n",
    "    #type2: 1stfeature EFG\n",
    "    df['WEFFG3'] = np.where(df['WFGA3'] == 0, 0, df['WFGM3'] / df['WFGA3'])\n",
    "    df['LEFFG3'] = np.where(df['LFGA3'] == 0, 0, df['LFGM3'] / df['LFGA3'])\n",
    "    df['WDARE'] = df['WFGM3'] / df['WFGM']\n",
    "    df['LDARE'] = df['LFGM3'] / df['LFGM']\n",
    "    df['WTOQUETOQUE'] = df['WAst'] / df['WFGM']\n",
    "    df['LTOQUETOQUE'] = df['LAst'] / df['LFGM']\n",
    "    #type3: OFF/DEF FGE\n",
    "    df[\"WEFG_SUM\"] = (df[\"WFGM\"]+0.5*df[\"WFGM3\"])/df[\"WFGA\"]\n",
    "    df[\"LEFG_SUM\"] = (df[\"LFGM\"]+0.5*df[\"LFGM3\"])/df[\"LFGA\"]\n",
    "\n",
    "    #POSS RATE\n",
    "    df[\"WPOSS\"] = df[\"WFGA\"] + 0.44*df[\"WFTA\"] - df[\"WOR\"] + df[\"WTO\"]\n",
    "    df[\"LPOSS\"] = df[\"LFGA\"] + 0.44*df[\"LFTA\"] - df[\"LOR\"] + df[\"LTO\"]\n",
    "    df[\"WPOSS_RATE\"] = df[\"WPOSS\"]/(df[\"WPOSS\"]+df[\"LPOSS\"])\n",
    "    df[\"LPOSS_RATE\"] = df[\"LPOSS\"]/(df[\"WPOSS\"]+df[\"LPOSS\"])\n",
    "    \n",
    "    #TO Ratio \n",
    "    df[\"WTO_RATIO\"] = df[\"WTO\"]/(df[\"WFGA\"]+0.44*df[\"WFTA\"]+df[\"WTO\"])#POSS RATEと違ってOR入っていない\n",
    "    df[\"LTO_RATIO\"] = df[\"LTO\"]/(df[\"LFGA\"]+0.44*df[\"LFTA\"]+df[\"LTO\"])\n",
    "    \n",
    "    # REB%\n",
    "    df[\"WREB_RATE\"] = df[\"WOR\"]/(df[\"WOR\"]+df[\"LDR\"])\n",
    "    df[\"LREB_RATE\"] = df[\"LOR\"]/(df[\"LOR\"]+df[\"WDR\"])\n",
    "    \n",
    "    #FT %\n",
    "    df[\"WFT_RATE\"] = df[\"WFTA\"]/df[\"WFGA\"]\n",
    "    df[\"LFT_RATE\"] = df[\"LFTA\"]/df[\"LFGA\"]\n",
    "    \n",
    "    #rating\n",
    "    df[\"WRATING\"] = df[\"WScore\"]/df[\"WPOSS\"]\n",
    "    df[\"LRATING\"] = df[\"LScore\"]/df[\"LPOSS\"]\n",
    "        \n",
    "    #0除算補完\n",
    "    print(df.info())\n",
    "        \n",
    "    #かさましに伴う反転カラム\n",
    "    dfswap = df.copy()\n",
    "    # Home, Away変換して反転\n",
    "    dfswap.loc[df['WLoc'] == 'H', 'WLoc'] = 'A'\n",
    "    dfswap.loc[df['WLoc'] == 'A', 'WLoc'] = 'H'\n",
    "    df.columns.values[6] = 'location'\n",
    "    dfswap.columns.values[6] = 'location'    \n",
    "    #反転\n",
    "    df.columns = [x.replace('W','T1_').replace('L','T2_') for x in list(df.columns)]\n",
    "    dfswap.columns = [x.replace('L','T1_').replace('W','T2_') for x in list(dfswap.columns)]\n",
    "    output = pd.concat([df, dfswap]).reset_index(drop=True)\n",
    "    \n",
    "    \n",
    "    #add new feature\n",
    "    #locationを数値に変換\n",
    "    output.loc[output.location=='N','location'] = '0'\n",
    "    output.loc[output.location=='H','location'] = '1'\n",
    "    output.loc[output.location=='A','location'] = '-1'\n",
    "    output.location = output.location.astype(int)\n",
    "    \n",
    "    #add PointDiff&win\n",
    "    output['PointDiff'] = output['T1_Score'] - output['T2_Score']\n",
    "    output[\"win\"] = np.where(output['PointDiff']>0,1,0)\n",
    "    \n",
    "    \n",
    "    print(f\"feature cols after prepare()\")\n",
    "    print(output.columns)\n",
    "    return output\n",
    "\n"
   ]
  },
  {
   "cell_type": "code",
   "execution_count": 6,
   "id": "9c12e17a",
   "metadata": {
    "execution": {
     "iopub.execute_input": "2025-03-14T07:45:32.672280Z",
     "iopub.status.busy": "2025-03-14T07:45:32.672280Z",
     "iopub.status.idle": "2025-03-14T07:45:32.737355Z",
     "shell.execute_reply": "2025-03-14T07:45:32.737355Z"
    },
    "papermill": {
     "duration": 0.082412,
     "end_time": "2025-03-14T07:45:32.738609",
     "exception": false,
     "start_time": "2025-03-14T07:45:32.656197",
     "status": "completed"
    },
    "tags": []
   },
   "outputs": [
    {
     "name": "stdout",
     "output_type": "stream",
     "text": [
      "各カラムの異常値の個数を表示します。\n",
      "\n"
     ]
    }
   ],
   "source": [
    "import numpy as np\n",
    "\n",
    "# 異常値のチェック\n",
    "def check_abnormal_values(df):\n",
    "    print(\"各カラムの異常値の個数を表示します。\\n\")\n",
    "\n",
    "    for col in df.columns:\n",
    "        nan_count = df[col].isna().sum()  # NaN の数\n",
    "        inf_count = (df[col] == np.inf).sum()  # inf の数\n",
    "        neg_inf_count = (df[col] == -np.inf).sum()  # -inf の数\n",
    "\n",
    "        if nan_count > 0 or inf_count > 0 or neg_inf_count > 0:\n",
    "            print(f\"Column: {col}\")\n",
    "            print(f\"  NaN    : {nan_count}\")\n",
    "            print(f\"  Inf    : {inf_count}\")\n",
    "            print(f\"  -Inf   : {neg_inf_count}\")\n",
    "            print(\"-\" * 30)\n",
    "\n",
    "# 関数を実行\n",
    "check_abnormal_values(regular_results)\n"
   ]
  },
  {
   "cell_type": "code",
   "execution_count": 7,
   "id": "f8bf6f5c",
   "metadata": {
    "execution": {
     "iopub.execute_input": "2025-03-14T07:45:32.739222Z",
     "iopub.status.busy": "2025-03-14T07:45:32.739222Z",
     "iopub.status.idle": "2025-03-14T07:45:33.179227Z",
     "shell.execute_reply": "2025-03-14T07:45:33.179227Z"
    },
    "papermill": {
     "duration": 0.440005,
     "end_time": "2025-03-14T07:45:33.179227",
     "exception": false,
     "start_time": "2025-03-14T07:45:32.739222",
     "status": "completed"
    },
    "tags": []
   },
   "outputs": [
    {
     "name": "stdout",
     "output_type": "stream",
     "text": [
      "<class 'pandas.core.frame.DataFrame'>\n",
      "Index: 139193 entries, 0 to 170137\n",
      "Data columns (total 56 columns):\n",
      " #   Column       Non-Null Count   Dtype  \n",
      "---  ------       --------------   -----  \n",
      " 0   Season       139193 non-null  int64  \n",
      " 1   DayNum       139193 non-null  int64  \n",
      " 2   WTeamID      139193 non-null  int64  \n",
      " 3   WScore       139193 non-null  int64  \n",
      " 4   LTeamID      139193 non-null  int64  \n",
      " 5   LScore       139193 non-null  int64  \n",
      " 6   WLoc         139193 non-null  object \n",
      " 7   NumOT        139193 non-null  int64  \n",
      " 8   WFGM         139193 non-null  int64  \n",
      " 9   WFGA         139193 non-null  int64  \n",
      " 10  WFGM3        139193 non-null  int64  \n",
      " 11  WFGA3        139193 non-null  int64  \n",
      " 12  WFTM         139193 non-null  int64  \n",
      " 13  WFTA         139193 non-null  int64  \n",
      " 14  WOR          139193 non-null  int64  \n",
      " 15  WDR          139193 non-null  int64  \n",
      " 16  WAst         139193 non-null  int64  \n",
      " 17  WTO          139193 non-null  int64  \n",
      " 18  WStl         139193 non-null  int64  \n",
      " 19  WBlk         139193 non-null  int64  \n",
      " 20  WPF          139193 non-null  int64  \n",
      " 21  LFGM         139193 non-null  int64  \n",
      " 22  LFGA         139193 non-null  int64  \n",
      " 23  LFGM3        139193 non-null  int64  \n",
      " 24  LFGA3        139193 non-null  int64  \n",
      " 25  LFTM         139193 non-null  int64  \n",
      " 26  LFTA         139193 non-null  int64  \n",
      " 27  LOR          139193 non-null  int64  \n",
      " 28  LDR          139193 non-null  int64  \n",
      " 29  LAst         139193 non-null  int64  \n",
      " 30  LTO          139193 non-null  int64  \n",
      " 31  LStl         139193 non-null  int64  \n",
      " 32  LBlk         139193 non-null  int64  \n",
      " 33  LPF          139193 non-null  int64  \n",
      " 34  WEFFG        139193 non-null  float64\n",
      " 35  LEFFG        139193 non-null  float64\n",
      " 36  WEFFG3       139193 non-null  float64\n",
      " 37  LEFFG3       139193 non-null  float64\n",
      " 38  WDARE        139193 non-null  float64\n",
      " 39  LDARE        139193 non-null  float64\n",
      " 40  WTOQUETOQUE  139193 non-null  float64\n",
      " 41  LTOQUETOQUE  139193 non-null  float64\n",
      " 42  WEFG_SUM     139193 non-null  float64\n",
      " 43  LEFG_SUM     139193 non-null  float64\n",
      " 44  WPOSS        139193 non-null  float64\n",
      " 45  LPOSS        139193 non-null  float64\n",
      " 46  WPOSS_RATE   139193 non-null  float64\n",
      " 47  LPOSS_RATE   139193 non-null  float64\n",
      " 48  WTO_RATIO    139193 non-null  float64\n",
      " 49  LTO_RATIO    139193 non-null  float64\n",
      " 50  WREB_RATE    139193 non-null  float64\n",
      " 51  LREB_RATE    139193 non-null  float64\n",
      " 52  WFT_RATE     139193 non-null  float64\n",
      " 53  LFT_RATE     139193 non-null  float64\n",
      " 54  WRATING      139193 non-null  float64\n",
      " 55  LRATING      139193 non-null  float64\n",
      "dtypes: float64(22), int64(33), object(1)\n",
      "memory usage: 60.5+ MB\n",
      "None\n"
     ]
    },
    {
     "name": "stdout",
     "output_type": "stream",
     "text": [
      "feature cols after prepare()\n",
      "Index(['Season', 'DayNum', 'T1_TeamID', 'T1_Score', 'T2_TeamID', 'T2_Score',\n",
      "       'location', 'NumOT', 'T1_FGM', 'T1_FGA', 'T1_FGM3', 'T1_FGA3', 'T1_FTM',\n",
      "       'T1_FTA', 'T1_OR', 'T1_DR', 'T1_Ast', 'T1_TO', 'T1_Stl', 'T1_Blk',\n",
      "       'T1_PF', 'T2_FGM', 'T2_FGA', 'T2_FGM3', 'T2_FGA3', 'T2_FTM', 'T2_FTA',\n",
      "       'T2_OR', 'T2_DR', 'T2_Ast', 'T2_TO', 'T2_Stl', 'T2_Blk', 'T2_PF',\n",
      "       'T1_EFFG', 'T2_EFFG', 'T1_EFFG3', 'T2_EFFG3', 'T1_DARE', 'T2_DARE',\n",
      "       'T1_TOQUETOQUE', 'T2_TOQUETOQUE', 'T1_EFG_SUM', 'T2_EFG_SUM', 'T1_POSS',\n",
      "       'T2_POSS', 'T1_POSS_RATE', 'T2_POSS_RATE', 'T1_TO_RATIO', 'T2_TO_RATIO',\n",
      "       'T1_REB_RATE', 'T2_REB_RATE', 'T1_FT_RATE', 'T2_FT_RATE', 'T1_RATING',\n",
      "       'T2_RATING', 'PointDiff', 'win'],\n",
      "      dtype='object')\n",
      "<class 'pandas.core.frame.DataFrame'>\n",
      "RangeIndex: 278386 entries, 0 to 278385\n",
      "Data columns (total 58 columns):\n",
      " #   Column         Non-Null Count   Dtype  \n",
      "---  ------         --------------   -----  \n",
      " 0   Season         278386 non-null  int64  \n",
      " 1   DayNum         278386 non-null  int64  \n",
      " 2   T1_TeamID      278386 non-null  int64  \n",
      " 3   T1_Score       278386 non-null  int64  \n",
      " 4   T2_TeamID      278386 non-null  int64  \n",
      " 5   T2_Score       278386 non-null  int64  \n",
      " 6   location       278386 non-null  int32  \n",
      " 7   NumOT          278386 non-null  int64  \n",
      " 8   T1_FGM         278386 non-null  int64  \n",
      " 9   T1_FGA         278386 non-null  int64  \n",
      " 10  T1_FGM3        278386 non-null  int64  \n",
      " 11  T1_FGA3        278386 non-null  int64  \n",
      " 12  T1_FTM         278386 non-null  int64  \n",
      " 13  T1_FTA         278386 non-null  int64  \n",
      " 14  T1_OR          278386 non-null  int64  \n",
      " 15  T1_DR          278386 non-null  int64  \n",
      " 16  T1_Ast         278386 non-null  int64  \n",
      " 17  T1_TO          278386 non-null  int64  \n",
      " 18  T1_Stl         278386 non-null  int64  \n",
      " 19  T1_Blk         278386 non-null  int64  \n",
      " 20  T1_PF          278386 non-null  int64  \n",
      " 21  T2_FGM         278386 non-null  int64  \n",
      " 22  T2_FGA         278386 non-null  int64  \n",
      " 23  T2_FGM3        278386 non-null  int64  \n",
      " 24  T2_FGA3        278386 non-null  int64  \n",
      " 25  T2_FTM         278386 non-null  int64  \n",
      " 26  T2_FTA         278386 non-null  int64  \n",
      " 27  T2_OR          278386 non-null  int64  \n",
      " 28  T2_DR          278386 non-null  int64  \n",
      " 29  T2_Ast         278386 non-null  int64  \n",
      " 30  T2_TO          278386 non-null  int64  \n",
      " 31  T2_Stl         278386 non-null  int64  \n",
      " 32  T2_Blk         278386 non-null  int64  \n",
      " 33  T2_PF          278386 non-null  int64  \n",
      " 34  T1_EFFG        278386 non-null  float64\n",
      " 35  T2_EFFG        278386 non-null  float64\n",
      " 36  T1_EFFG3       278386 non-null  float64\n",
      " 37  T2_EFFG3       278386 non-null  float64\n",
      " 38  T1_DARE        278386 non-null  float64\n",
      " 39  T2_DARE        278386 non-null  float64\n",
      " 40  T1_TOQUETOQUE  278386 non-null  float64\n",
      " 41  T2_TOQUETOQUE  278386 non-null  float64\n",
      " 42  T1_EFG_SUM     278386 non-null  float64\n",
      " 43  T2_EFG_SUM     278386 non-null  float64\n",
      " 44  T1_POSS        278386 non-null  float64\n",
      " 45  T2_POSS        278386 non-null  float64\n",
      " 46  T1_POSS_RATE   278386 non-null  float64\n",
      " 47  T2_POSS_RATE   278386 non-null  float64\n",
      " 48  T1_TO_RATIO    278386 non-null  float64\n",
      " 49  T2_TO_RATIO    278386 non-null  float64\n",
      " 50  T1_REB_RATE    278386 non-null  float64\n",
      " 51  T2_REB_RATE    278386 non-null  float64\n",
      " 52  T1_FT_RATE     278386 non-null  float64\n",
      " 53  T2_FT_RATE     278386 non-null  float64\n",
      " 54  T1_RATING      278386 non-null  float64\n",
      " 55  T2_RATING      278386 non-null  float64\n",
      " 56  PointDiff      278386 non-null  int64  \n",
      " 57  win            278386 non-null  int32  \n",
      "dtypes: float64(22), int32(2), int64(34)\n",
      "memory usage: 121.1 MB\n"
     ]
    },
    {
     "data": {
      "text/html": [
       "<div>\n",
       "<style scoped>\n",
       "    .dataframe tbody tr th:only-of-type {\n",
       "        vertical-align: middle;\n",
       "    }\n",
       "\n",
       "    .dataframe tbody tr th {\n",
       "        vertical-align: top;\n",
       "    }\n",
       "\n",
       "    .dataframe thead th {\n",
       "        text-align: right;\n",
       "    }\n",
       "</style>\n",
       "<table border=\"1\" class=\"dataframe\">\n",
       "  <thead>\n",
       "    <tr style=\"text-align: right;\">\n",
       "      <th></th>\n",
       "      <th>Season</th>\n",
       "      <th>DayNum</th>\n",
       "      <th>T1_TeamID</th>\n",
       "      <th>T1_Score</th>\n",
       "      <th>T2_TeamID</th>\n",
       "      <th>T2_Score</th>\n",
       "      <th>location</th>\n",
       "      <th>NumOT</th>\n",
       "      <th>T1_FGM</th>\n",
       "      <th>T1_FGA</th>\n",
       "      <th>...</th>\n",
       "      <th>T1_TO_RATIO</th>\n",
       "      <th>T2_TO_RATIO</th>\n",
       "      <th>T1_REB_RATE</th>\n",
       "      <th>T2_REB_RATE</th>\n",
       "      <th>T1_FT_RATE</th>\n",
       "      <th>T2_FT_RATE</th>\n",
       "      <th>T1_RATING</th>\n",
       "      <th>T2_RATING</th>\n",
       "      <th>PointDiff</th>\n",
       "      <th>win</th>\n",
       "    </tr>\n",
       "  </thead>\n",
       "  <tbody>\n",
       "    <tr>\n",
       "      <th>0</th>\n",
       "      <td>2003</td>\n",
       "      <td>10</td>\n",
       "      <td>1104</td>\n",
       "      <td>68</td>\n",
       "      <td>1328</td>\n",
       "      <td>62</td>\n",
       "      <td>0</td>\n",
       "      <td>0</td>\n",
       "      <td>27</td>\n",
       "      <td>58</td>\n",
       "      <td>...</td>\n",
       "      <td>0.258659</td>\n",
       "      <td>0.223104</td>\n",
       "      <td>0.388889</td>\n",
       "      <td>0.294118</td>\n",
       "      <td>0.310345</td>\n",
       "      <td>0.415094</td>\n",
       "      <td>0.907635</td>\n",
       "      <td>0.877193</td>\n",
       "      <td>6</td>\n",
       "      <td>1</td>\n",
       "    </tr>\n",
       "    <tr>\n",
       "      <th>1</th>\n",
       "      <td>2003</td>\n",
       "      <td>10</td>\n",
       "      <td>1272</td>\n",
       "      <td>70</td>\n",
       "      <td>1393</td>\n",
       "      <td>63</td>\n",
       "      <td>0</td>\n",
       "      <td>0</td>\n",
       "      <td>26</td>\n",
       "      <td>62</td>\n",
       "      <td>...</td>\n",
       "      <td>0.155950</td>\n",
       "      <td>0.136674</td>\n",
       "      <td>0.375000</td>\n",
       "      <td>0.416667</td>\n",
       "      <td>0.306452</td>\n",
       "      <td>0.298507</td>\n",
       "      <td>1.023991</td>\n",
       "      <td>0.929204</td>\n",
       "      <td>7</td>\n",
       "      <td>1</td>\n",
       "    </tr>\n",
       "    <tr>\n",
       "      <th>2</th>\n",
       "      <td>2003</td>\n",
       "      <td>11</td>\n",
       "      <td>1266</td>\n",
       "      <td>73</td>\n",
       "      <td>1437</td>\n",
       "      <td>61</td>\n",
       "      <td>0</td>\n",
       "      <td>0</td>\n",
       "      <td>24</td>\n",
       "      <td>58</td>\n",
       "      <td>...</td>\n",
       "      <td>0.123824</td>\n",
       "      <td>0.126156</td>\n",
       "      <td>0.435897</td>\n",
       "      <td>0.543860</td>\n",
       "      <td>0.500000</td>\n",
       "      <td>0.315068</td>\n",
       "      <td>1.144918</td>\n",
       "      <td>0.951341</td>\n",
       "      <td>12</td>\n",
       "      <td>1</td>\n",
       "    </tr>\n",
       "    <tr>\n",
       "      <th>3</th>\n",
       "      <td>2003</td>\n",
       "      <td>11</td>\n",
       "      <td>1296</td>\n",
       "      <td>56</td>\n",
       "      <td>1457</td>\n",
       "      <td>50</td>\n",
       "      <td>0</td>\n",
       "      <td>0</td>\n",
       "      <td>18</td>\n",
       "      <td>38</td>\n",
       "      <td>...</td>\n",
       "      <td>0.188561</td>\n",
       "      <td>0.254692</td>\n",
       "      <td>0.230769</td>\n",
       "      <td>0.472222</td>\n",
       "      <td>0.815789</td>\n",
       "      <td>0.306122</td>\n",
       "      <td>0.971548</td>\n",
       "      <td>0.868056</td>\n",
       "      <td>6</td>\n",
       "      <td>1</td>\n",
       "    </tr>\n",
       "    <tr>\n",
       "      <th>4</th>\n",
       "      <td>2003</td>\n",
       "      <td>11</td>\n",
       "      <td>1400</td>\n",
       "      <td>77</td>\n",
       "      <td>1208</td>\n",
       "      <td>71</td>\n",
       "      <td>0</td>\n",
       "      <td>0</td>\n",
       "      <td>30</td>\n",
       "      <td>61</td>\n",
       "      <td>...</td>\n",
       "      <td>0.173439</td>\n",
       "      <td>0.119218</td>\n",
       "      <td>0.531250</td>\n",
       "      <td>0.488372</td>\n",
       "      <td>0.213115</td>\n",
       "      <td>0.435484</td>\n",
       "      <td>1.208412</td>\n",
       "      <td>1.129135</td>\n",
       "      <td>6</td>\n",
       "      <td>1</td>\n",
       "    </tr>\n",
       "  </tbody>\n",
       "</table>\n",
       "<p>5 rows × 58 columns</p>\n",
       "</div>"
      ],
      "text/plain": [
       "   Season  DayNum  T1_TeamID  T1_Score  T2_TeamID  T2_Score  location  NumOT  \\\n",
       "0    2003      10       1104        68       1328        62         0      0   \n",
       "1    2003      10       1272        70       1393        63         0      0   \n",
       "2    2003      11       1266        73       1437        61         0      0   \n",
       "3    2003      11       1296        56       1457        50         0      0   \n",
       "4    2003      11       1400        77       1208        71         0      0   \n",
       "\n",
       "   T1_FGM  T1_FGA  ...  T1_TO_RATIO  T2_TO_RATIO  T1_REB_RATE  T2_REB_RATE  \\\n",
       "0      27      58  ...     0.258659     0.223104     0.388889     0.294118   \n",
       "1      26      62  ...     0.155950     0.136674     0.375000     0.416667   \n",
       "2      24      58  ...     0.123824     0.126156     0.435897     0.543860   \n",
       "3      18      38  ...     0.188561     0.254692     0.230769     0.472222   \n",
       "4      30      61  ...     0.173439     0.119218     0.531250     0.488372   \n",
       "\n",
       "   T1_FT_RATE  T2_FT_RATE  T1_RATING  T2_RATING  PointDiff  win  \n",
       "0    0.310345    0.415094   0.907635   0.877193          6    1  \n",
       "1    0.306452    0.298507   1.023991   0.929204          7    1  \n",
       "2    0.500000    0.315068   1.144918   0.951341         12    1  \n",
       "3    0.815789    0.306122   0.971548   0.868056          6    1  \n",
       "4    0.213115    0.435484   1.208412   1.129135          6    1  \n",
       "\n",
       "[5 rows x 58 columns]"
      ]
     },
     "metadata": {},
     "output_type": "display_data"
    },
    {
     "data": {
      "text/plain": [
       "None"
      ]
     },
     "metadata": {},
     "output_type": "display_data"
    }
   ],
   "source": [
    "#予測する年以降の情報はフィルタリング\n",
    "USE_START_YEAR = cfg.exp.tournament.use_start_season\n",
    "notexist = tourney_results[tourney_results[\"Season\"] == PREDICT_YEAR]\n",
    "tourney_results = tourney_results[(tourney_results[\"Season\"] >= USE_START_YEAR) & (tourney_results[\"Season\"] < PREDICT_YEAR)]\n",
    "seeds = seeds[(seeds[\"Season\"] >= USE_START_YEAR) & (seeds[\"Season\"] <= PREDICT_YEAR)]\n",
    "regular_results = regular_results[(regular_results[\"Season\"] >= USE_START_YEAR) & (regular_results[\"Season\"] <= PREDICT_YEAR)]\n",
    "\n",
    "regular_data = prepare_data(regular_results)\n",
    "display(regular_data.head(), regular_data.info())"
   ]
  },
  {
   "cell_type": "code",
   "execution_count": 8,
   "id": "111f8408",
   "metadata": {
    "execution": {
     "iopub.execute_input": "2025-03-14T07:45:33.199793Z",
     "iopub.status.busy": "2025-03-14T07:45:33.199793Z",
     "iopub.status.idle": "2025-03-14T07:45:33.219142Z",
     "shell.execute_reply": "2025-03-14T07:45:33.219142Z"
    },
    "papermill": {
     "duration": 0.027387,
     "end_time": "2025-03-14T07:45:33.219142",
     "exception": false,
     "start_time": "2025-03-14T07:45:33.191755",
     "status": "completed"
    },
    "tags": []
   },
   "outputs": [],
   "source": [
    "#使用特徴量(boxscore_cols)を取得してそれに対して(\"Season\", 'T1_TeamID')でまとめた特徴量の追加\n",
    "#### 1. win_ration_14d ####\n",
    "def add_win_ratio_14d(df):\n",
    "    df_filtered = df[df['DayNum'] > 118].copy()\n",
    "    df_filtered['Win'] = (df_filtered['PointDiff'] > 0).astype(int)\n",
    "    \n",
    "    win_ratio_t1 = df_filtered.groupby(['Season', 'T1_TeamID'])['Win'].mean().reset_index()\n",
    "    win_ratio_t1.rename(columns={'Win': 'T1_win_ratio_14d'}, inplace=True)\n",
    "    \n",
    "    win_ratio_t2 = df_filtered.groupby(['Season', 'T2_TeamID'])['Win'].mean().reset_index()\n",
    "    win_ratio_t2.rename(columns={'Win': 'T2_win_ratio_14d'}, inplace=True)\n",
    "    \n",
    "    df = df.merge(win_ratio_t1, on=['Season', 'T1_TeamID'], how='left')\n",
    "    df = df.merge(win_ratio_t2, on=['Season', 'T2_TeamID'], how='left')\n",
    "    \n",
    "    return df\n",
    "\n",
    "##### 2. add mean of boxscore ####\n",
    "def make_col_avg(df, boxscore, group = [\"Season\", \"T1_TeamID\"], func= [np.mean]):\n",
    "    df_stat = df.groupby(group)[boxscore].agg(func)\n",
    "    df_stat.columns = [''.join(col).strip() for col in df_stat.columns.values]\n",
    "    df_stat = df_stat.reset_index()\n",
    "\n",
    "    win_ratio_cols = ['T1_win_ratio_14d'] #ここマージの関係からT2_win_ratio_14dを外したけど大丈夫か考える\n",
    "    df_win_ratio = df[group + win_ratio_cols].drop_duplicates()\n",
    "    df_stat = df_stat.merge(df_win_ratio, on=group, how='left')\n",
    "    \n",
    "    return df_stat\n",
    "\n",
    "#### 3. add team quality ####\n",
    "# 3.0 ロジスティックを行うためのregular_season_effectsデータフレームの作成\n",
    "def make_regular_season_effects(df):\n",
    "    regular_season_effects = df[['Season', 'T1_TeamID', 'T2_TeamID', 'PointDiff']].copy()\n",
    "    regular_season_effects['win'] = np.where(regular_season_effects['PointDiff'] > 0, 1, 0)\n",
    "    return regular_season_effects\n",
    "\n",
    "# 3.1\n",
    "#各シーズンごとの総当たりに対するロジスティック回帰を行う\n",
    "#目的変数はfeatureenginneringから作成したPointDiffの正負に依存するWinとする.\n",
    "#新たな特徴量\"quarity\"をseasonごとの戦績をもとにロジスティックの回帰係数として導入している\n",
    "def team_quality(season,df):\n",
    "    season_data = df[df[\"Season\"] == season]\n",
    "    X = season_data[['T1_TeamID', 'T2_TeamID']]\n",
    "    y = season_data['win']\n",
    "    print(X.shape, y.shape)\n",
    "    encoder = OneHotEncoder(sparse_output=False) #多重共線性防止, 密行列指定\n",
    "    X_encoded = encoder.fit_transform(X)\n",
    "    \n",
    "    model = LogisticRegression(fit_intercept=False)\n",
    "    model.fit(X_encoded, y)\n",
    "    team_ids = encoder.get_feature_names_out(['T1_TeamID', 'T2_TeamID'])\n",
    "\n",
    "    \n",
    "    #quarity: (チーム数)*2(ID, 回帰係数)\n",
    "    quality = pd.DataFrame({\n",
    "        'TeamID': team_ids,\n",
    "        'quality': model.coef_.flatten() #T1_TeamID_1112,,,の形でチーム数分の回帰係数が入る\n",
    "    })\n",
    "\n",
    "    # 値をint 1112 のように整形\n",
    "    quality = quality[quality['TeamID'].str.contains('T1_TeamID')]\n",
    "    quality['TeamID'] = quality['TeamID'].str.replace('T1_TeamID_', '', regex=True).astype(int)\n",
    "    quality['Season'] = season\n",
    "\n",
    "    #display(quality.head())\n",
    "    print(f\"fin make {season}'s team quarity\")\n",
    "    return quality\n",
    "\n",
    "# 4. add seed\n",
    "def add_seed(df, seeds):\n",
    "    temp = seeds.copy()\n",
    "    temp['Seed'] = temp['Seed'].apply(lambda x: int(x[1:3]))\n",
    "    temp.columns = ['Season','T1_seed','T1_TeamID']\n",
    "    df = pd.merge(df, temp, on=[\"Season\", \"T1_TeamID\"], how=\"left\")\n",
    "    return df \n",
    "\n",
    "# 5. add Ordinal rank\n",
    "def add_ordinalrank(df, ordinal):\n",
    "    df_rank = ordinal.groupby([\"Season\", \"TeamID\"])[\"OrdinalRank\"].agg(np.mean).reset_index()\n",
    "    df_rank.head()\n",
    "    ranks = df_rank.rename(columns={'TeamID': 'T1_TeamID', 'OrdinalRank': 'T1_OrdinalRank'})\n",
    "    df = pd.merge(df,ranks,on = [\"Season\",\"T1_TeamID\"],how = \"left\")\n",
    "    return df\n",
    "\n",
    "# main \n",
    "def make_season_statistics(df, boxscore, seeds, func = [np.mean]):\n",
    "    # 1. Win Ratio の計算と追加\n",
    "    add_win = add_win_ratio_14d(df)\n",
    "    print(\"after add win ratio\")\n",
    "    print(add_win.columns)  \n",
    "    \n",
    "    #2. \n",
    "    add_mean = make_col_avg(add_win, boxscore)\n",
    "    print(\"after mean of boxscore\")\n",
    "    print(add_mean.columns)\n",
    "    \n",
    "    #3. \n",
    "    global PREDICT_YEAR, USE_START_YEAR\n",
    "    start_season = max(FEATURES.start_quality_season, USE_START_YEAR)\n",
    "    print(f\"use season for quality feature is: {start_season}\")\n",
    "    regular_season_effects = make_regular_season_effects(df)\n",
    "    glm_season = [i for i in range(start_season, PREDICT_YEAR+1)]\n",
    "\n",
    "    if 2020 in glm_season:\n",
    "        glm_season.remove(2020)\n",
    "    glm_quality = pd.concat([team_quality(season, regular_season_effects) for season in glm_season]).reset_index(drop=True)\n",
    "    # add glm quality \n",
    "    glm_quality_T1 = glm_quality.rename(columns={'TeamID': 'T1_TeamID', 'quality': 'T1_quality'})\n",
    "    add_glm = add_mean.merge(glm_quality_T1, on=['Season', 'T1_TeamID'], how='left')\n",
    "\n",
    "    print(\"add glm quality\")\n",
    "    print(add_glm.columns)\n",
    "    \n",
    "    #4. \n",
    "    add_seeds = add_seed(add_glm, seeds)\n",
    "    print(\"add seeds (final form)\")\n",
    "    print(add_seeds.columns)\n",
    "    \n",
    "    #5. \n",
    "    add_rank = add_ordinalrank(add_seeds, ordinal_rank)\n",
    "    print(\"add ordinal rank\")\n",
    "    print(add_rank.columns)  \n",
    "    return add_rank"
   ]
  },
  {
   "cell_type": "code",
   "execution_count": 9,
   "id": "be40b154",
   "metadata": {
    "execution": {
     "iopub.execute_input": "2025-03-14T07:45:33.223784Z",
     "iopub.status.busy": "2025-03-14T07:45:33.223784Z",
     "iopub.status.idle": "2025-03-14T07:45:36.262327Z",
     "shell.execute_reply": "2025-03-14T07:45:36.262327Z"
    },
    "papermill": {
     "duration": 3.039551,
     "end_time": "2025-03-14T07:45:36.263335",
     "exception": false,
     "start_time": "2025-03-14T07:45:33.223784",
     "status": "completed"
    },
    "tags": []
   },
   "outputs": [
    {
     "name": "stdout",
     "output_type": "stream",
     "text": [
      "use boxscore col is\n",
      "['T1_Score', 'T2_Score', 'PointDiff', 'T1_FGM', 'T2_FGM', 'T1_FGA', 'T2_FGA', 'T1_EFG_SUM', 'T2_EFG_SUM', 'T1_TO_RATIO', 'T2_TO_RATIO', 'T1_OR', 'T2_OR', 'T1_DR', 'T2_DR', 'T1_REB_RATE', 'T2_REB_RATE', 'T1_FT_RATE', 'T2_FT_RATE', 'T1_POSS_RATE', 'T2_POSS_RATE', 'T1_Ast', 'T2_Ast', 'T1_TO', 'T2_TO', 'T1_Stl', 'T2_Stl', 'T1_Blk', 'T2_Blk']\n"
     ]
    },
    {
     "name": "stdout",
     "output_type": "stream",
     "text": [
      "after add win ratio\n",
      "Index(['Season', 'DayNum', 'T1_TeamID', 'T1_Score', 'T2_TeamID', 'T2_Score',\n",
      "       'location', 'NumOT', 'T1_FGM', 'T1_FGA', 'T1_FGM3', 'T1_FGA3', 'T1_FTM',\n",
      "       'T1_FTA', 'T1_OR', 'T1_DR', 'T1_Ast', 'T1_TO', 'T1_Stl', 'T1_Blk',\n",
      "       'T1_PF', 'T2_FGM', 'T2_FGA', 'T2_FGM3', 'T2_FGA3', 'T2_FTM', 'T2_FTA',\n",
      "       'T2_OR', 'T2_DR', 'T2_Ast', 'T2_TO', 'T2_Stl', 'T2_Blk', 'T2_PF',\n",
      "       'T1_EFFG', 'T2_EFFG', 'T1_EFFG3', 'T2_EFFG3', 'T1_DARE', 'T2_DARE',\n",
      "       'T1_TOQUETOQUE', 'T2_TOQUETOQUE', 'T1_EFG_SUM', 'T2_EFG_SUM', 'T1_POSS',\n",
      "       'T2_POSS', 'T1_POSS_RATE', 'T2_POSS_RATE', 'T1_TO_RATIO', 'T2_TO_RATIO',\n",
      "       'T1_REB_RATE', 'T2_REB_RATE', 'T1_FT_RATE', 'T2_FT_RATE', 'T1_RATING',\n",
      "       'T2_RATING', 'PointDiff', 'win', 'T1_win_ratio_14d',\n",
      "       'T2_win_ratio_14d'],\n",
      "      dtype='object')\n"
     ]
    },
    {
     "name": "stdout",
     "output_type": "stream",
     "text": [
      "after mean of boxscore\n",
      "Index(['Season', 'T1_TeamID', 'T1_Scoremean', 'T2_Scoremean', 'PointDiffmean',\n",
      "       'T1_FGMmean', 'T2_FGMmean', 'T1_FGAmean', 'T2_FGAmean',\n",
      "       'T1_EFG_SUMmean', 'T2_EFG_SUMmean', 'T1_TO_RATIOmean',\n",
      "       'T2_TO_RATIOmean', 'T1_ORmean', 'T2_ORmean', 'T1_DRmean', 'T2_DRmean',\n",
      "       'T1_REB_RATEmean', 'T2_REB_RATEmean', 'T1_FT_RATEmean',\n",
      "       'T2_FT_RATEmean', 'T1_POSS_RATEmean', 'T2_POSS_RATEmean', 'T1_Astmean',\n",
      "       'T2_Astmean', 'T1_TOmean', 'T2_TOmean', 'T1_Stlmean', 'T2_Stlmean',\n",
      "       'T1_Blkmean', 'T2_Blkmean', 'T1_win_ratio_14d'],\n",
      "      dtype='object')\n",
      "use season for quality feature is: 2003\n",
      "(9232, 2) (9232,)\n",
      "fin make 2003's team quarity\n",
      "(9142, 2) (9142,)\n",
      "fin make 2004's team quarity\n"
     ]
    },
    {
     "name": "stderr",
     "output_type": "stream",
     "text": [
      "C:\\Users\\81809\\AppData\\Local\\Temp\\ipykernel_25064\\386782032.py:20: FutureWarning: The provided callable <function mean at 0x0000023177766520> is currently using SeriesGroupBy.mean. In a future version of pandas, the provided callable will be used directly. To keep current behavior pass the string \"mean\" instead.\n",
      "  df_stat = df.groupby(group)[boxscore].agg(func)\n"
     ]
    },
    {
     "name": "stdout",
     "output_type": "stream",
     "text": [
      "(9350, 2) (9350,)\n",
      "fin make 2005's team quarity\n",
      "(9514, 2) (9514,)\n"
     ]
    },
    {
     "name": "stdout",
     "output_type": "stream",
     "text": [
      "fin make 2006's team quarity\n",
      "(10086, 2) (10086,)\n",
      "fin make 2007's team quarity\n",
      "(10326, 2) (10326,)\n",
      "fin make 2008's team quarity\n",
      "(10498, 2) (10498,)\n"
     ]
    },
    {
     "name": "stdout",
     "output_type": "stream",
     "text": [
      "fin make 2009's team quarity\n",
      "(20600, 2) (20600,)\n"
     ]
    },
    {
     "name": "stdout",
     "output_type": "stream",
     "text": [
      "fin make 2010's team quarity\n",
      "(20660, 2) (20660,)\n"
     ]
    },
    {
     "name": "stdout",
     "output_type": "stream",
     "text": [
      "fin make 2011's team quarity\n"
     ]
    },
    {
     "name": "stdout",
     "output_type": "stream",
     "text": [
      "(20606, 2) (20606,)\n",
      "fin make 2012's team quarity\n",
      "(21008, 2) (21008,)\n"
     ]
    },
    {
     "name": "stdout",
     "output_type": "stream",
     "text": [
      "fin make 2013's team quarity\n",
      "(21228, 2) (21228,)\n",
      "fin make 2014's team quarity\n",
      "(21136, 2) (21136,)\n"
     ]
    },
    {
     "name": "stdout",
     "output_type": "stream",
     "text": [
      "fin make 2015's team quarity\n",
      "(21156, 2) (21156,)\n",
      "fin make 2016's team quarity\n",
      "(21210, 2) (21210,)\n"
     ]
    },
    {
     "name": "stdout",
     "output_type": "stream",
     "text": [
      "fin make 2017's team quarity\n",
      "(21228, 2) (21228,)\n"
     ]
    },
    {
     "name": "stdout",
     "output_type": "stream",
     "text": [
      "fin make 2018's team quarity\n",
      "(21406, 2) (21406,)\n",
      "fin make 2019's team quarity\n",
      "add glm quality\n",
      "Index(['Season', 'T1_TeamID', 'T1_Scoremean', 'T2_Scoremean', 'PointDiffmean',\n",
      "       'T1_FGMmean', 'T2_FGMmean', 'T1_FGAmean', 'T2_FGAmean',\n",
      "       'T1_EFG_SUMmean', 'T2_EFG_SUMmean', 'T1_TO_RATIOmean',\n",
      "       'T2_TO_RATIOmean', 'T1_ORmean', 'T2_ORmean', 'T1_DRmean', 'T2_DRmean',\n",
      "       'T1_REB_RATEmean', 'T2_REB_RATEmean', 'T1_FT_RATEmean',\n",
      "       'T2_FT_RATEmean', 'T1_POSS_RATEmean', 'T2_POSS_RATEmean', 'T1_Astmean',\n",
      "       'T2_Astmean', 'T1_TOmean', 'T2_TOmean', 'T1_Stlmean', 'T2_Stlmean',\n",
      "       'T1_Blkmean', 'T2_Blkmean', 'T1_win_ratio_14d', 'T1_quality'],\n",
      "      dtype='object')\n"
     ]
    },
    {
     "name": "stdout",
     "output_type": "stream",
     "text": [
      "add seeds (final form)\n",
      "Index(['Season', 'T1_TeamID', 'T1_Scoremean', 'T2_Scoremean', 'PointDiffmean',\n",
      "       'T1_FGMmean', 'T2_FGMmean', 'T1_FGAmean', 'T2_FGAmean',\n",
      "       'T1_EFG_SUMmean', 'T2_EFG_SUMmean', 'T1_TO_RATIOmean',\n",
      "       'T2_TO_RATIOmean', 'T1_ORmean', 'T2_ORmean', 'T1_DRmean', 'T2_DRmean',\n",
      "       'T1_REB_RATEmean', 'T2_REB_RATEmean', 'T1_FT_RATEmean',\n",
      "       'T2_FT_RATEmean', 'T1_POSS_RATEmean', 'T2_POSS_RATEmean', 'T1_Astmean',\n",
      "       'T2_Astmean', 'T1_TOmean', 'T2_TOmean', 'T1_Stlmean', 'T2_Stlmean',\n",
      "       'T1_Blkmean', 'T2_Blkmean', 'T1_win_ratio_14d', 'T1_quality',\n",
      "       'T1_seed'],\n",
      "      dtype='object')\n"
     ]
    },
    {
     "name": "stderr",
     "output_type": "stream",
     "text": [
      "C:\\Users\\81809\\AppData\\Local\\Temp\\ipykernel_25064\\386782032.py:79: FutureWarning: The provided callable <function mean at 0x0000023177766520> is currently using SeriesGroupBy.mean. In a future version of pandas, the provided callable will be used directly. To keep current behavior pass the string \"mean\" instead.\n",
      "  df_rank = ordinal.groupby([\"Season\", \"TeamID\"])[\"OrdinalRank\"].agg(np.mean).reset_index()\n"
     ]
    },
    {
     "name": "stdout",
     "output_type": "stream",
     "text": [
      "add ordinal rank\n",
      "Index(['Season', 'T1_TeamID', 'T1_Scoremean', 'T2_Scoremean', 'PointDiffmean',\n",
      "       'T1_FGMmean', 'T2_FGMmean', 'T1_FGAmean', 'T2_FGAmean',\n",
      "       'T1_EFG_SUMmean', 'T2_EFG_SUMmean', 'T1_TO_RATIOmean',\n",
      "       'T2_TO_RATIOmean', 'T1_ORmean', 'T2_ORmean', 'T1_DRmean', 'T2_DRmean',\n",
      "       'T1_REB_RATEmean', 'T2_REB_RATEmean', 'T1_FT_RATEmean',\n",
      "       'T2_FT_RATEmean', 'T1_POSS_RATEmean', 'T2_POSS_RATEmean', 'T1_Astmean',\n",
      "       'T2_Astmean', 'T1_TOmean', 'T2_TOmean', 'T1_Stlmean', 'T2_Stlmean',\n",
      "       'T1_Blkmean', 'T2_Blkmean', 'T1_win_ratio_14d', 'T1_quality', 'T1_seed',\n",
      "       'T1_OrdinalRank'],\n",
      "      dtype='object')\n"
     ]
    },
    {
     "data": {
      "text/html": [
       "<div>\n",
       "<style scoped>\n",
       "    .dataframe tbody tr th:only-of-type {\n",
       "        vertical-align: middle;\n",
       "    }\n",
       "\n",
       "    .dataframe tbody tr th {\n",
       "        vertical-align: top;\n",
       "    }\n",
       "\n",
       "    .dataframe thead th {\n",
       "        text-align: right;\n",
       "    }\n",
       "</style>\n",
       "<table border=\"1\" class=\"dataframe\">\n",
       "  <thead>\n",
       "    <tr style=\"text-align: right;\">\n",
       "      <th></th>\n",
       "      <th>Season</th>\n",
       "      <th>T1_TeamID</th>\n",
       "      <th>T1_Scoremean</th>\n",
       "      <th>T2_Scoremean</th>\n",
       "      <th>PointDiffmean</th>\n",
       "      <th>T1_FGMmean</th>\n",
       "      <th>T2_FGMmean</th>\n",
       "      <th>T1_FGAmean</th>\n",
       "      <th>T2_FGAmean</th>\n",
       "      <th>T1_EFG_SUMmean</th>\n",
       "      <th>...</th>\n",
       "      <th>T1_TOmean</th>\n",
       "      <th>T2_TOmean</th>\n",
       "      <th>T1_Stlmean</th>\n",
       "      <th>T2_Stlmean</th>\n",
       "      <th>T1_Blkmean</th>\n",
       "      <th>T2_Blkmean</th>\n",
       "      <th>T1_win_ratio_14d</th>\n",
       "      <th>T1_quality</th>\n",
       "      <th>T1_seed</th>\n",
       "      <th>T1_OrdinalRank</th>\n",
       "    </tr>\n",
       "  </thead>\n",
       "  <tbody>\n",
       "    <tr>\n",
       "      <th>9298</th>\n",
       "      <td>2019</td>\n",
       "      <td>3462</td>\n",
       "      <td>60.862069</td>\n",
       "      <td>66.482759</td>\n",
       "      <td>-5.620690</td>\n",
       "      <td>21.896552</td>\n",
       "      <td>24.448276</td>\n",
       "      <td>57.517241</td>\n",
       "      <td>59.758621</td>\n",
       "      <td>0.448019</td>\n",
       "      <td>...</td>\n",
       "      <td>14.379310</td>\n",
       "      <td>15.137931</td>\n",
       "      <td>7.586207</td>\n",
       "      <td>7.758621</td>\n",
       "      <td>2.586207</td>\n",
       "      <td>3.172414</td>\n",
       "      <td>0.0</td>\n",
       "      <td>-0.296941</td>\n",
       "      <td>NaN</td>\n",
       "      <td>NaN</td>\n",
       "    </tr>\n",
       "    <tr>\n",
       "      <th>9299</th>\n",
       "      <td>2019</td>\n",
       "      <td>3463</td>\n",
       "      <td>63.344828</td>\n",
       "      <td>61.551724</td>\n",
       "      <td>1.793103</td>\n",
       "      <td>23.724138</td>\n",
       "      <td>21.965517</td>\n",
       "      <td>60.517241</td>\n",
       "      <td>60.379310</td>\n",
       "      <td>0.438814</td>\n",
       "      <td>...</td>\n",
       "      <td>15.344828</td>\n",
       "      <td>13.206897</td>\n",
       "      <td>5.172414</td>\n",
       "      <td>8.344828</td>\n",
       "      <td>3.586207</td>\n",
       "      <td>2.517241</td>\n",
       "      <td>0.0</td>\n",
       "      <td>0.134368</td>\n",
       "      <td>NaN</td>\n",
       "      <td>NaN</td>\n",
       "    </tr>\n",
       "    <tr>\n",
       "      <th>9300</th>\n",
       "      <td>2019</td>\n",
       "      <td>3464</td>\n",
       "      <td>68.137931</td>\n",
       "      <td>58.000000</td>\n",
       "      <td>10.137931</td>\n",
       "      <td>23.241379</td>\n",
       "      <td>21.862069</td>\n",
       "      <td>55.758621</td>\n",
       "      <td>58.655172</td>\n",
       "      <td>0.494845</td>\n",
       "      <td>...</td>\n",
       "      <td>14.034483</td>\n",
       "      <td>12.172414</td>\n",
       "      <td>4.344828</td>\n",
       "      <td>7.448276</td>\n",
       "      <td>3.482759</td>\n",
       "      <td>3.482759</td>\n",
       "      <td>0.5</td>\n",
       "      <td>0.638405</td>\n",
       "      <td>NaN</td>\n",
       "      <td>NaN</td>\n",
       "    </tr>\n",
       "    <tr>\n",
       "      <th>9301</th>\n",
       "      <td>2019</td>\n",
       "      <td>3465</td>\n",
       "      <td>76.200000</td>\n",
       "      <td>69.840000</td>\n",
       "      <td>6.360000</td>\n",
       "      <td>28.560000</td>\n",
       "      <td>26.600000</td>\n",
       "      <td>67.520000</td>\n",
       "      <td>69.200000</td>\n",
       "      <td>0.493625</td>\n",
       "      <td>...</td>\n",
       "      <td>16.160000</td>\n",
       "      <td>14.560000</td>\n",
       "      <td>7.280000</td>\n",
       "      <td>7.920000</td>\n",
       "      <td>3.160000</td>\n",
       "      <td>3.160000</td>\n",
       "      <td>0.5</td>\n",
       "      <td>-0.182555</td>\n",
       "      <td>NaN</td>\n",
       "      <td>NaN</td>\n",
       "    </tr>\n",
       "    <tr>\n",
       "      <th>9302</th>\n",
       "      <td>2019</td>\n",
       "      <td>3466</td>\n",
       "      <td>69.521739</td>\n",
       "      <td>63.217391</td>\n",
       "      <td>6.304348</td>\n",
       "      <td>24.869565</td>\n",
       "      <td>23.913043</td>\n",
       "      <td>58.434783</td>\n",
       "      <td>58.260870</td>\n",
       "      <td>0.478102</td>\n",
       "      <td>...</td>\n",
       "      <td>17.869565</td>\n",
       "      <td>21.130435</td>\n",
       "      <td>8.478261</td>\n",
       "      <td>8.478261</td>\n",
       "      <td>3.695652</td>\n",
       "      <td>3.217391</td>\n",
       "      <td>0.0</td>\n",
       "      <td>0.107970</td>\n",
       "      <td>NaN</td>\n",
       "      <td>NaN</td>\n",
       "    </tr>\n",
       "  </tbody>\n",
       "</table>\n",
       "<p>5 rows × 35 columns</p>\n",
       "</div>"
      ],
      "text/plain": [
       "      Season  T1_TeamID  T1_Scoremean  T2_Scoremean  PointDiffmean  \\\n",
       "9298    2019       3462     60.862069     66.482759      -5.620690   \n",
       "9299    2019       3463     63.344828     61.551724       1.793103   \n",
       "9300    2019       3464     68.137931     58.000000      10.137931   \n",
       "9301    2019       3465     76.200000     69.840000       6.360000   \n",
       "9302    2019       3466     69.521739     63.217391       6.304348   \n",
       "\n",
       "      T1_FGMmean  T2_FGMmean  T1_FGAmean  T2_FGAmean  T1_EFG_SUMmean  ...  \\\n",
       "9298   21.896552   24.448276   57.517241   59.758621        0.448019  ...   \n",
       "9299   23.724138   21.965517   60.517241   60.379310        0.438814  ...   \n",
       "9300   23.241379   21.862069   55.758621   58.655172        0.494845  ...   \n",
       "9301   28.560000   26.600000   67.520000   69.200000        0.493625  ...   \n",
       "9302   24.869565   23.913043   58.434783   58.260870        0.478102  ...   \n",
       "\n",
       "      T1_TOmean  T2_TOmean  T1_Stlmean  T2_Stlmean  T1_Blkmean  T2_Blkmean  \\\n",
       "9298  14.379310  15.137931    7.586207    7.758621    2.586207    3.172414   \n",
       "9299  15.344828  13.206897    5.172414    8.344828    3.586207    2.517241   \n",
       "9300  14.034483  12.172414    4.344828    7.448276    3.482759    3.482759   \n",
       "9301  16.160000  14.560000    7.280000    7.920000    3.160000    3.160000   \n",
       "9302  17.869565  21.130435    8.478261    8.478261    3.695652    3.217391   \n",
       "\n",
       "      T1_win_ratio_14d  T1_quality  T1_seed  T1_OrdinalRank  \n",
       "9298               0.0   -0.296941      NaN             NaN  \n",
       "9299               0.0    0.134368      NaN             NaN  \n",
       "9300               0.5    0.638405      NaN             NaN  \n",
       "9301               0.5   -0.182555      NaN             NaN  \n",
       "9302               0.0    0.107970      NaN             NaN  \n",
       "\n",
       "[5 rows x 35 columns]"
      ]
     },
     "execution_count": 9,
     "metadata": {},
     "output_type": "execute_result"
    }
   ],
   "source": [
    "features = FEATURES.cal_mean_boxscore\n",
    "boxscore_cols = [col for col, use in features.items() if use]\n",
    "print(\"use boxscore col is\")\n",
    "print(boxscore_cols)\n",
    "\n",
    "season_statistics = make_season_statistics(regular_data, boxscore_cols, seeds, func = [np.mean])\n",
    "season_statistics.tail()"
   ]
  },
  {
   "cell_type": "code",
   "execution_count": 10,
   "id": "dbeb8595",
   "metadata": {
    "execution": {
     "iopub.execute_input": "2025-03-14T07:45:36.279722Z",
     "iopub.status.busy": "2025-03-14T07:45:36.279722Z",
     "iopub.status.idle": "2025-03-14T07:45:36.288004Z",
     "shell.execute_reply": "2025-03-14T07:45:36.287527Z"
    },
    "papermill": {
     "duration": 0.019212,
     "end_time": "2025-03-14T07:45:36.290897",
     "exception": false,
     "start_time": "2025-03-14T07:45:36.271685",
     "status": "completed"
    },
    "tags": []
   },
   "outputs": [
    {
     "name": "stdout",
     "output_type": "stream",
     "text": [
      "<class 'pandas.core.frame.DataFrame'>\n",
      "RangeIndex: 9303 entries, 0 to 9302\n",
      "Data columns (total 35 columns):\n",
      " #   Column            Non-Null Count  Dtype  \n",
      "---  ------            --------------  -----  \n",
      " 0   Season            9303 non-null   int64  \n",
      " 1   T1_TeamID         9303 non-null   int64  \n",
      " 2   T1_Scoremean      9303 non-null   float64\n",
      " 3   T2_Scoremean      9303 non-null   float64\n",
      " 4   PointDiffmean     9303 non-null   float64\n",
      " 5   T1_FGMmean        9303 non-null   float64\n",
      " 6   T2_FGMmean        9303 non-null   float64\n",
      " 7   T1_FGAmean        9303 non-null   float64\n",
      " 8   T2_FGAmean        9303 non-null   float64\n",
      " 9   T1_EFG_SUMmean    9303 non-null   float64\n",
      " 10  T2_EFG_SUMmean    9303 non-null   float64\n",
      " 11  T1_TO_RATIOmean   9303 non-null   float64\n",
      " 12  T2_TO_RATIOmean   9303 non-null   float64\n",
      " 13  T1_ORmean         9303 non-null   float64\n",
      " 14  T2_ORmean         9303 non-null   float64\n",
      " 15  T1_DRmean         9303 non-null   float64\n",
      " 16  T2_DRmean         9303 non-null   float64\n",
      " 17  T1_REB_RATEmean   9303 non-null   float64\n",
      " 18  T2_REB_RATEmean   9303 non-null   float64\n",
      " 19  T1_FT_RATEmean    9303 non-null   float64\n",
      " 20  T2_FT_RATEmean    9303 non-null   float64\n",
      " 21  T1_POSS_RATEmean  9303 non-null   float64\n",
      " 22  T2_POSS_RATEmean  9303 non-null   float64\n",
      " 23  T1_Astmean        9303 non-null   float64\n",
      " 24  T2_Astmean        9303 non-null   float64\n",
      " 25  T1_TOmean         9303 non-null   float64\n",
      " 26  T2_TOmean         9303 non-null   float64\n",
      " 27  T1_Stlmean        9303 non-null   float64\n",
      " 28  T2_Stlmean        9303 non-null   float64\n",
      " 29  T1_Blkmean        9303 non-null   float64\n",
      " 30  T2_Blkmean        9303 non-null   float64\n",
      " 31  T1_win_ratio_14d  9000 non-null   float64\n",
      " 32  T1_quality        9303 non-null   float64\n",
      " 33  T1_seed           1772 non-null   float64\n",
      " 34  T1_OrdinalRank    5834 non-null   float64\n",
      "dtypes: float64(33), int64(2)\n",
      "memory usage: 2.5 MB\n"
     ]
    }
   ],
   "source": [
    "season_statistics.info()"
   ]
  },
  {
   "cell_type": "code",
   "execution_count": 11,
   "id": "19775117",
   "metadata": {
    "execution": {
     "iopub.execute_input": "2025-03-14T07:45:36.306675Z",
     "iopub.status.busy": "2025-03-14T07:45:36.306675Z",
     "iopub.status.idle": "2025-03-14T07:45:36.338704Z",
     "shell.execute_reply": "2025-03-14T07:45:36.337809Z"
    },
    "papermill": {
     "duration": 0.041435,
     "end_time": "2025-03-14T07:45:36.339801",
     "exception": false,
     "start_time": "2025-03-14T07:45:36.298366",
     "status": "completed"
    },
    "tags": []
   },
   "outputs": [],
   "source": [
    "####ボックスscoreの平均に対して、過去３年の加重平均を取るときの処理 ####\n",
    "def get_mean_of_3_season(val_2ps, val_1ps, val_0ps, \n",
    "                         weight_2, weight_1, weight_0, \n",
    "                         degree_weight=1.0\n",
    "                         ):\n",
    "    weight_2 = weight_2**degree_weight\n",
    "    weight_1 = weight_1**degree_weight\n",
    "    weight_0 = weight_0**degree_weight\n",
    "    if val_2ps == 0  and val_1ps == 0:\n",
    "        return val_0ps\n",
    "    elif val_2ps == 0:\n",
    "        return (val_1ps*weight_2 + val_0ps*weight_1)/(weight_2 + weight_1)\n",
    "    else:\n",
    "        sum_of_values = val_2ps*weight_2 + val_1ps*weight_1 + val_0ps*weight_0\n",
    "        return sum_of_values/(weight_2 + weight_1 + weight_0)\n",
    "\n",
    "def get_3_feature(df_team, feature):\n",
    "    value_2_seasons_ago = 0\n",
    "    value_1_season_ago = 0\n",
    "    value_0_season_ago = 0\n",
    "    for _, val in df_team.iterrows():\n",
    "        value_2_seasons_ago = value_1_season_ago\n",
    "        value_1_season_ago = value_0_season_ago\n",
    "        value_0_season_ago = val[feature]\n",
    "    return value_2_seasons_ago, value_1_season_ago, value_0_season_ago\n",
    "\n",
    "def write_mean_of_3_seasons(df, features, weight, degree_weight=1.0):\n",
    "    \"\"\"\n",
    "    val_0ps - current season value\n",
    "    weight_0 - current season weight\n",
    "    val_1ps - last season value\n",
    "    val_2ps - the value of the season before last\n",
    "    \"\"\"\n",
    "    weight_2=weight[0]\n",
    "    weight_1=weight[1]\n",
    "    weight_0=weight[2]\n",
    "    df_copy = df.copy()\n",
    "    suffix = \"_mn3s\"\n",
    "    \n",
    "    for ft in features:\n",
    "        df_copy[ft + suffix] = 0\n",
    "    for idx, val in tqdm(df_copy.iterrows(), total=len(df_copy)):\n",
    "        team = val.T1_TeamID\n",
    "        season = val.Season\n",
    "        df_team = df_copy[(df_copy.T1_TeamID == team)&\n",
    "                          (df_copy.Season <= season)&\n",
    "                          (df_copy.Season > season-3)]\n",
    "        for ft in features:\n",
    "            val_2ps, val_1ps, val_0ps = get_3_feature(df_team, ft)\n",
    "            ft_mean_3 = get_mean_of_3_season(val_2ps, val_1ps, val_0ps, weight_2, weight_1, weight_0, degree_weight=degree_weight)\n",
    "            df_copy.loc[idx, ft + suffix] = ft_mean_3\n",
    "    return df_copy"
   ]
  },
  {
   "cell_type": "code",
   "execution_count": 12,
   "id": "1318ae22",
   "metadata": {
    "execution": {
     "iopub.execute_input": "2025-03-14T07:45:36.360613Z",
     "iopub.status.busy": "2025-03-14T07:45:36.360091Z",
     "iopub.status.idle": "2025-03-14T07:45:36.400795Z",
     "shell.execute_reply": "2025-03-14T07:45:36.399785Z"
    },
    "papermill": {
     "duration": 0.054997,
     "end_time": "2025-03-14T07:45:36.402796",
     "exception": false,
     "start_time": "2025-03-14T07:45:36.347799",
     "status": "completed"
    },
    "tags": []
   },
   "outputs": [
    {
     "name": "stdout",
     "output_type": "stream",
     "text": [
      "#####\n",
      "skip 3 season verage\n",
      "#####\n"
     ]
    },
    {
     "data": {
      "text/html": [
       "<div>\n",
       "<style scoped>\n",
       "    .dataframe tbody tr th:only-of-type {\n",
       "        vertical-align: middle;\n",
       "    }\n",
       "\n",
       "    .dataframe tbody tr th {\n",
       "        vertical-align: top;\n",
       "    }\n",
       "\n",
       "    .dataframe thead th {\n",
       "        text-align: right;\n",
       "    }\n",
       "</style>\n",
       "<table border=\"1\" class=\"dataframe\">\n",
       "  <thead>\n",
       "    <tr style=\"text-align: right;\">\n",
       "      <th></th>\n",
       "      <th>Season</th>\n",
       "      <th>T1_TeamID</th>\n",
       "      <th>T1_Scoremean</th>\n",
       "      <th>T1_opponent_Scoremean</th>\n",
       "      <th>T1_PointDiffmean</th>\n",
       "      <th>T1_FGMmean</th>\n",
       "      <th>T1_opponent_FGMmean</th>\n",
       "      <th>T1_FGAmean</th>\n",
       "      <th>T1_opponent_FGAmean</th>\n",
       "      <th>T1_EFG_SUMmean</th>\n",
       "      <th>...</th>\n",
       "      <th>T1_TOmean</th>\n",
       "      <th>T1_opponent_TOmean</th>\n",
       "      <th>T1_Stlmean</th>\n",
       "      <th>T1_opponent_Stlmean</th>\n",
       "      <th>T1_Blkmean</th>\n",
       "      <th>T1_opponent_Blkmean</th>\n",
       "      <th>T1_win_ratio_14d</th>\n",
       "      <th>T1_quality</th>\n",
       "      <th>T1_seed</th>\n",
       "      <th>T1_OrdinalRank</th>\n",
       "    </tr>\n",
       "  </thead>\n",
       "  <tbody>\n",
       "    <tr>\n",
       "      <th>0</th>\n",
       "      <td>2003</td>\n",
       "      <td>1102</td>\n",
       "      <td>57.250000</td>\n",
       "      <td>57.000000</td>\n",
       "      <td>0.25000</td>\n",
       "      <td>19.142857</td>\n",
       "      <td>19.285714</td>\n",
       "      <td>39.785714</td>\n",
       "      <td>42.428571</td>\n",
       "      <td>0.584407</td>\n",
       "      <td>...</td>\n",
       "      <td>11.428571</td>\n",
       "      <td>12.964286</td>\n",
       "      <td>5.964286</td>\n",
       "      <td>5.428571</td>\n",
       "      <td>1.785714</td>\n",
       "      <td>1.571429</td>\n",
       "      <td>0.333333</td>\n",
       "      <td>-0.070776</td>\n",
       "      <td>NaN</td>\n",
       "      <td>144.2875</td>\n",
       "    </tr>\n",
       "    <tr>\n",
       "      <th>1</th>\n",
       "      <td>2003</td>\n",
       "      <td>1103</td>\n",
       "      <td>78.777778</td>\n",
       "      <td>78.148148</td>\n",
       "      <td>0.62963</td>\n",
       "      <td>27.148148</td>\n",
       "      <td>27.777778</td>\n",
       "      <td>55.851852</td>\n",
       "      <td>57.000000</td>\n",
       "      <td>0.536564</td>\n",
       "      <td>...</td>\n",
       "      <td>12.629630</td>\n",
       "      <td>15.333333</td>\n",
       "      <td>7.259259</td>\n",
       "      <td>6.407407</td>\n",
       "      <td>2.333333</td>\n",
       "      <td>2.851852</td>\n",
       "      <td>0.333333</td>\n",
       "      <td>-0.116192</td>\n",
       "      <td>NaN</td>\n",
       "      <td>182.2050</td>\n",
       "    </tr>\n",
       "  </tbody>\n",
       "</table>\n",
       "<p>2 rows × 35 columns</p>\n",
       "</div>"
      ],
      "text/plain": [
       "   Season  T1_TeamID  T1_Scoremean  T1_opponent_Scoremean  T1_PointDiffmean  \\\n",
       "0    2003       1102     57.250000              57.000000           0.25000   \n",
       "1    2003       1103     78.777778              78.148148           0.62963   \n",
       "\n",
       "   T1_FGMmean  T1_opponent_FGMmean  T1_FGAmean  T1_opponent_FGAmean  \\\n",
       "0   19.142857            19.285714   39.785714            42.428571   \n",
       "1   27.148148            27.777778   55.851852            57.000000   \n",
       "\n",
       "   T1_EFG_SUMmean  ...  T1_TOmean  T1_opponent_TOmean  T1_Stlmean  \\\n",
       "0        0.584407  ...  11.428571           12.964286    5.964286   \n",
       "1        0.536564  ...  12.629630           15.333333    7.259259   \n",
       "\n",
       "   T1_opponent_Stlmean  T1_Blkmean  T1_opponent_Blkmean  T1_win_ratio_14d  \\\n",
       "0             5.428571    1.785714             1.571429          0.333333   \n",
       "1             6.407407    2.333333             2.851852          0.333333   \n",
       "\n",
       "   T1_quality  T1_seed  T1_OrdinalRank  \n",
       "0   -0.070776      NaN        144.2875  \n",
       "1   -0.116192      NaN        182.2050  \n",
       "\n",
       "[2 rows x 35 columns]"
      ]
     },
     "metadata": {},
     "output_type": "display_data"
    },
    {
     "data": {
      "text/html": [
       "<div>\n",
       "<style scoped>\n",
       "    .dataframe tbody tr th:only-of-type {\n",
       "        vertical-align: middle;\n",
       "    }\n",
       "\n",
       "    .dataframe tbody tr th {\n",
       "        vertical-align: top;\n",
       "    }\n",
       "\n",
       "    .dataframe thead th {\n",
       "        text-align: right;\n",
       "    }\n",
       "</style>\n",
       "<table border=\"1\" class=\"dataframe\">\n",
       "  <thead>\n",
       "    <tr style=\"text-align: right;\">\n",
       "      <th></th>\n",
       "      <th>Season</th>\n",
       "      <th>T2_TeamID</th>\n",
       "      <th>T2_Scoremean</th>\n",
       "      <th>T2_opponent_Scoremean</th>\n",
       "      <th>T2_PointDiffmean</th>\n",
       "      <th>T2_FGMmean</th>\n",
       "      <th>T2_opponent_FGMmean</th>\n",
       "      <th>T2_FGAmean</th>\n",
       "      <th>T2_opponent_FGAmean</th>\n",
       "      <th>T2_EFG_SUMmean</th>\n",
       "      <th>...</th>\n",
       "      <th>T2_TOmean</th>\n",
       "      <th>T2_opponent_TOmean</th>\n",
       "      <th>T2_Stlmean</th>\n",
       "      <th>T2_opponent_Stlmean</th>\n",
       "      <th>T2_Blkmean</th>\n",
       "      <th>T2_opponent_Blkmean</th>\n",
       "      <th>T2_win_ratio_14d</th>\n",
       "      <th>T2_quality</th>\n",
       "      <th>T2_seed</th>\n",
       "      <th>T2_OrdinalRank</th>\n",
       "    </tr>\n",
       "  </thead>\n",
       "  <tbody>\n",
       "    <tr>\n",
       "      <th>9301</th>\n",
       "      <td>2019</td>\n",
       "      <td>3465</td>\n",
       "      <td>76.200000</td>\n",
       "      <td>69.840000</td>\n",
       "      <td>6.360000</td>\n",
       "      <td>28.560000</td>\n",
       "      <td>26.600000</td>\n",
       "      <td>67.520000</td>\n",
       "      <td>69.20000</td>\n",
       "      <td>0.493625</td>\n",
       "      <td>...</td>\n",
       "      <td>16.160000</td>\n",
       "      <td>14.560000</td>\n",
       "      <td>7.280000</td>\n",
       "      <td>7.920000</td>\n",
       "      <td>3.160000</td>\n",
       "      <td>3.160000</td>\n",
       "      <td>0.5</td>\n",
       "      <td>-0.182555</td>\n",
       "      <td>NaN</td>\n",
       "      <td>NaN</td>\n",
       "    </tr>\n",
       "    <tr>\n",
       "      <th>9302</th>\n",
       "      <td>2019</td>\n",
       "      <td>3466</td>\n",
       "      <td>69.521739</td>\n",
       "      <td>63.217391</td>\n",
       "      <td>6.304348</td>\n",
       "      <td>24.869565</td>\n",
       "      <td>23.913043</td>\n",
       "      <td>58.434783</td>\n",
       "      <td>58.26087</td>\n",
       "      <td>0.478102</td>\n",
       "      <td>...</td>\n",
       "      <td>17.869565</td>\n",
       "      <td>21.130435</td>\n",
       "      <td>8.478261</td>\n",
       "      <td>8.478261</td>\n",
       "      <td>3.695652</td>\n",
       "      <td>3.217391</td>\n",
       "      <td>0.0</td>\n",
       "      <td>0.107970</td>\n",
       "      <td>NaN</td>\n",
       "      <td>NaN</td>\n",
       "    </tr>\n",
       "  </tbody>\n",
       "</table>\n",
       "<p>2 rows × 35 columns</p>\n",
       "</div>"
      ],
      "text/plain": [
       "      Season  T2_TeamID  T2_Scoremean  T2_opponent_Scoremean  \\\n",
       "9301    2019       3465     76.200000              69.840000   \n",
       "9302    2019       3466     69.521739              63.217391   \n",
       "\n",
       "      T2_PointDiffmean  T2_FGMmean  T2_opponent_FGMmean  T2_FGAmean  \\\n",
       "9301          6.360000   28.560000            26.600000   67.520000   \n",
       "9302          6.304348   24.869565            23.913043   58.434783   \n",
       "\n",
       "      T2_opponent_FGAmean  T2_EFG_SUMmean  ...  T2_TOmean  T2_opponent_TOmean  \\\n",
       "9301             69.20000        0.493625  ...  16.160000           14.560000   \n",
       "9302             58.26087        0.478102  ...  17.869565           21.130435   \n",
       "\n",
       "      T2_Stlmean  T2_opponent_Stlmean  T2_Blkmean  T2_opponent_Blkmean  \\\n",
       "9301    7.280000             7.920000    3.160000             3.160000   \n",
       "9302    8.478261             8.478261    3.695652             3.217391   \n",
       "\n",
       "      T2_win_ratio_14d  T2_quality  T2_seed  T2_OrdinalRank  \n",
       "9301               0.5   -0.182555      NaN             NaN  \n",
       "9302               0.0    0.107970      NaN             NaN  \n",
       "\n",
       "[2 rows x 35 columns]"
      ]
     },
     "metadata": {},
     "output_type": "display_data"
    }
   ],
   "source": [
    "flag_3season_avg = FEATURES.season_average.enabled\n",
    "\n",
    "#trueのときの処理理解してfalseと一致させる\n",
    "if flag_3season_avg:\n",
    "    print(\"#####\")\n",
    "    print(\"use 3 season average\")\n",
    "    print(\"#####\")\n",
    "    weight = FEATURES.season_average.weights\n",
    "    years = FEATURES.season_average.past_years\n",
    "    assert years==len(weight)\n",
    "    \n",
    "    features_for_calc = [\"T1_Scoremean\", \"T1_FGAmean\",  \"T1_FGA3mean\"]\n",
    "    season_statistics_with_3_seas = write_mean_of_3_seasons(\n",
    "        season_statistics, features_for_calc, weight, degree_weight=1.0\n",
    "    )\n",
    "    \n",
    "    season_statistics_T1 = season_statistics_with_3_seas.copy()\n",
    "    season_statistics_T2 = season_statistics_with_3_seas.copy()\n",
    "    \n",
    "else:\n",
    "    print(\"#####\")\n",
    "    print(\"skip 3 season verage\")\n",
    "    print(\"#####\")\n",
    "    season_statistics_T1 = season_statistics.copy()\n",
    "    season_statistics_T2 = season_statistics.copy()\n",
    "\n",
    "season_statistics_T1.columns = [\"T1_\" + x.replace(\"T1_\",\"\").replace(\"T2_\",\"opponent_\") for x in list(season_statistics_T1.columns)]\n",
    "season_statistics_T2.columns = [\"T2_\" + x.replace(\"T1_\",\"\").replace(\"T2_\",\"opponent_\") for x in list(season_statistics_T2.columns)]\n",
    "season_statistics_T1.columns.values[0] = \"Season\"\n",
    "season_statistics_T2.columns.values[0] = \"Season\"\n",
    "\n",
    "\n",
    "season_statistics_T2.rename(columns = {\n",
    "    \"T1_TeamID\": \"T2_TeamID\"\n",
    "}, inplace=True)\n",
    "display(season_statistics_T1.head(2), season_statistics_T2.tail(2))"
   ]
  },
  {
   "cell_type": "markdown",
   "id": "f2aadcbe",
   "metadata": {
    "papermill": {
     "duration": 0.007033,
     "end_time": "2025-03-14T07:45:36.422387",
     "exception": false,
     "start_time": "2025-03-14T07:45:36.415354",
     "status": "completed"
    },
    "tags": []
   },
   "source": [
    "# Toureney dataの処理\n",
    "1. pointdiff, pointが目的変数となるのでそれはyに分離\n",
    "2. seasonstatisticを結合したものをXとして作る"
   ]
  },
  {
   "cell_type": "code",
   "execution_count": 13,
   "id": "dae81617",
   "metadata": {
    "execution": {
     "iopub.execute_input": "2025-03-14T07:45:36.444011Z",
     "iopub.status.busy": "2025-03-14T07:45:36.444011Z",
     "iopub.status.idle": "2025-03-14T07:45:36.450657Z",
     "shell.execute_reply": "2025-03-14T07:45:36.450657Z"
    },
    "papermill": {
     "duration": 0.017323,
     "end_time": "2025-03-14T07:45:36.451716",
     "exception": false,
     "start_time": "2025-03-14T07:45:36.434393",
     "status": "completed"
    },
    "tags": []
   },
   "outputs": [],
   "source": [
    "\n",
    "def process_tourney(df1, mode=\"tourney\"):\n",
    "    #Season, teamid ->X, team_score->y\n",
    "    df = df1.copy()\n",
    "    if mode==\"tourney\":\n",
    "        df = prepare_data(df) \n",
    "        y = df[\"T1_Score\"]-df[\"T2_Score\"]\n",
    "    X = df[['Season', 'T1_TeamID', 'T2_TeamID']]\n",
    "    X = pd.merge(X, season_statistics_T1, on = ['Season', 'T1_TeamID'], how = 'left')\n",
    "    X = pd.merge(X, season_statistics_T2, on = ['Season', 'T2_TeamID'], how = 'left')\n",
    "    \n",
    "    #seed->seed diff\n",
    "    X[\"seed_diff\"] = X[\"T1_seed\"] - X[\"T2_seed\"]\n",
    "    #rank->rank diff\n",
    "    X[\"rank_diff\"] = X[\"T1_OrdinalRank\"] - X[\"T2_OrdinalRank\"]\n",
    "    #quality->quality diff\n",
    "    X[\"quality_diff\"] = X[\"T1_quality\"] - X[\"T2_quality\"]\n",
    "    #win_ratio_14d -> win_raio_14d_diff\n",
    "    X[\"win_ratio_14d_diff\"] = X[\"T1_win_ratio_14d\"] - X[\"T2_win_ratio_14d\"]\n",
    "    #tourney_data.drop(columns=[\"T1_seed\", \"T2_seed\"], inplace=True)\n",
    "\n",
    "    X = X.drop(columns=[\"T1_seed\", \"T2_seed\", \"T1_OrdinalRank\", \"T2_OrdinalRank\", \n",
    "                        \"T1_quality\", \"T2_quality\", \"T1_win_ratio_14d\", \"T2_win_ratio_14d\"\n",
    "                        ])\n",
    "\n",
    "    # if rank_diff is False, drop.\n",
    "    IS_RANKDIFF = FEATURES.rank_diff\n",
    "    if not IS_RANKDIFF:\n",
    "        X = X.drop(columns=[\"rank_diff\"])\n",
    "        print(\"drop rank_diff\")\n",
    "    \n",
    "    # if fillna is true-> run fillna()\n",
    "    FILLNA = FEATURES.fillna.quality\n",
    "    if FILLNA==\"nan\":\n",
    "        print(f\"no fillna, use nan\")\n",
    "        X[\"quality_diff\"] = X[\"quality_diff\"].fillna(np.nan)\n",
    "    else:\n",
    "        print(f\"fillna quality feature for {FILLNA}\")\n",
    "        X[\"quality_diff\"] = X[\"quality_diff\"].fillna(FILLNA)\n",
    "\n",
    "        \n",
    "    return X, y if mode==\"tourney\" else X"
   ]
  },
  {
   "cell_type": "code",
   "execution_count": 14,
   "id": "45d01317",
   "metadata": {
    "execution": {
     "iopub.execute_input": "2025-03-14T07:45:36.455777Z",
     "iopub.status.busy": "2025-03-14T07:45:36.455777Z",
     "iopub.status.idle": "2025-03-14T07:45:36.523839Z",
     "shell.execute_reply": "2025-03-14T07:45:36.523839Z"
    },
    "papermill": {
     "duration": 0.068062,
     "end_time": "2025-03-14T07:45:36.523839",
     "exception": false,
     "start_time": "2025-03-14T07:45:36.455777",
     "status": "completed"
    },
    "tags": []
   },
   "outputs": [
    {
     "name": "stdout",
     "output_type": "stream",
     "text": [
      "<class 'pandas.core.frame.DataFrame'>\n",
      "Index: 1615 entries, 0 to 1948\n",
      "Data columns (total 56 columns):\n",
      " #   Column       Non-Null Count  Dtype  \n",
      "---  ------       --------------  -----  \n",
      " 0   Season       1615 non-null   int64  \n",
      " 1   DayNum       1615 non-null   int64  \n",
      " 2   WTeamID      1615 non-null   int64  \n",
      " 3   WScore       1615 non-null   int64  \n",
      " 4   LTeamID      1615 non-null   int64  \n",
      " 5   LScore       1615 non-null   int64  \n",
      " 6   WLoc         1615 non-null   object \n",
      " 7   NumOT        1615 non-null   int64  \n",
      " 8   WFGM         1615 non-null   int64  \n",
      " 9   WFGA         1615 non-null   int64  \n",
      " 10  WFGM3        1615 non-null   int64  \n",
      " 11  WFGA3        1615 non-null   int64  \n",
      " 12  WFTM         1615 non-null   int64  \n",
      " 13  WFTA         1615 non-null   int64  \n",
      " 14  WOR          1615 non-null   int64  \n",
      " 15  WDR          1615 non-null   int64  \n",
      " 16  WAst         1615 non-null   int64  \n",
      " 17  WTO          1615 non-null   int64  \n",
      " 18  WStl         1615 non-null   int64  \n",
      " 19  WBlk         1615 non-null   int64  \n",
      " 20  WPF          1615 non-null   int64  \n",
      " 21  LFGM         1615 non-null   int64  \n",
      " 22  LFGA         1615 non-null   int64  \n",
      " 23  LFGM3        1615 non-null   int64  \n",
      " 24  LFGA3        1615 non-null   int64  \n",
      " 25  LFTM         1615 non-null   int64  \n",
      " 26  LFTA         1615 non-null   int64  \n",
      " 27  LOR          1615 non-null   int64  \n",
      " 28  LDR          1615 non-null   int64  \n",
      " 29  LAst         1615 non-null   int64  \n",
      " 30  LTO          1615 non-null   int64  \n",
      " 31  LStl         1615 non-null   int64  \n",
      " 32  LBlk         1615 non-null   int64  \n",
      " 33  LPF          1615 non-null   int64  \n",
      " 34  WEFFG        1615 non-null   float64\n",
      " 35  LEFFG        1615 non-null   float64\n",
      " 36  WEFFG3       1615 non-null   float64\n",
      " 37  LEFFG3       1615 non-null   float64\n",
      " 38  WDARE        1615 non-null   float64\n",
      " 39  LDARE        1615 non-null   float64\n",
      " 40  WTOQUETOQUE  1615 non-null   float64\n",
      " 41  LTOQUETOQUE  1615 non-null   float64\n",
      " 42  WEFG_SUM     1615 non-null   float64\n",
      " 43  LEFG_SUM     1615 non-null   float64\n",
      " 44  WPOSS        1615 non-null   float64\n",
      " 45  LPOSS        1615 non-null   float64\n",
      " 46  WPOSS_RATE   1615 non-null   float64\n",
      " 47  LPOSS_RATE   1615 non-null   float64\n",
      " 48  WTO_RATIO    1615 non-null   float64\n",
      " 49  LTO_RATIO    1615 non-null   float64\n",
      " 50  WREB_RATE    1615 non-null   float64\n",
      " 51  LREB_RATE    1615 non-null   float64\n",
      " 52  WFT_RATE     1615 non-null   float64\n",
      " 53  LFT_RATE     1615 non-null   float64\n",
      " 54  WRATING      1615 non-null   float64\n",
      " 55  LRATING      1615 non-null   float64\n",
      "dtypes: float64(22), int64(33), object(1)\n",
      "memory usage: 719.2+ KB\n"
     ]
    },
    {
     "name": "stdout",
     "output_type": "stream",
     "text": [
      "None\n",
      "feature cols after prepare()\n",
      "Index(['Season', 'DayNum', 'T1_TeamID', 'T1_Score', 'T2_TeamID', 'T2_Score',\n",
      "       'location', 'NumOT', 'T1_FGM', 'T1_FGA', 'T1_FGM3', 'T1_FGA3', 'T1_FTM',\n",
      "       'T1_FTA', 'T1_OR', 'T1_DR', 'T1_Ast', 'T1_TO', 'T1_Stl', 'T1_Blk',\n",
      "       'T1_PF', 'T2_FGM', 'T2_FGA', 'T2_FGM3', 'T2_FGA3', 'T2_FTM', 'T2_FTA',\n",
      "       'T2_OR', 'T2_DR', 'T2_Ast', 'T2_TO', 'T2_Stl', 'T2_Blk', 'T2_PF',\n",
      "       'T1_EFFG', 'T2_EFFG', 'T1_EFFG3', 'T2_EFFG3', 'T1_DARE', 'T2_DARE',\n",
      "       'T1_TOQUETOQUE', 'T2_TOQUETOQUE', 'T1_EFG_SUM', 'T2_EFG_SUM', 'T1_POSS',\n",
      "       'T2_POSS', 'T1_POSS_RATE', 'T2_POSS_RATE', 'T1_TO_RATIO', 'T2_TO_RATIO',\n",
      "       'T1_REB_RATE', 'T2_REB_RATE', 'T1_FT_RATE', 'T2_FT_RATE', 'T1_RATING',\n",
      "       'T2_RATING', 'PointDiff', 'win'],\n",
      "      dtype='object')\n",
      "no fillna, use nan\n"
     ]
    }
   ],
   "source": [
    "X, y = process_tourney(tourney_results)"
   ]
  },
  {
   "cell_type": "code",
   "execution_count": 15,
   "id": "eb7aebc4",
   "metadata": {
    "execution": {
     "iopub.execute_input": "2025-03-14T07:45:36.545148Z",
     "iopub.status.busy": "2025-03-14T07:45:36.544197Z",
     "iopub.status.idle": "2025-03-14T07:45:36.549754Z",
     "shell.execute_reply": "2025-03-14T07:45:36.549754Z"
    },
    "papermill": {
     "duration": 0.025915,
     "end_time": "2025-03-14T07:45:36.549754",
     "exception": false,
     "start_time": "2025-03-14T07:45:36.523839",
     "status": "completed"
    },
    "tags": []
   },
   "outputs": [
    {
     "name": "stdout",
     "output_type": "stream",
     "text": [
      "drop col list: ['T1_TOmean', 'T2_TOmean', 'T1_opponent_POSS_RATEmean', 'T2_opponent_POSS_RATEmean', 'T1_opponent_Astmean', 'T2_opponent_Astmean', 'T1_opponent_FT_RATEmean', 'T2_opponent_FT_RATEmean', 'T1_opponent_Stlmean', 'T2_opponent_Stlmean', 'T1_ORmean', 'T2_ORmean', 'T1_opponent_ORmean', 'T2_opponent_ORmean']\n"
     ]
    }
   ],
   "source": [
    "#opponentなど明示的に特徴量選出に基づいて落とす\n",
    "def drop_columns(df, cols):\n",
    "    if not cols: return df\n",
    "    existing_cols = [col for col in cols if col in df.columns]\n",
    "    print(f\"drop col list: {existing_cols}\")\n",
    "    return df.drop(columns=existing_cols)\n",
    "\n",
    "drop_col = FEATURES.dropfeatures\n",
    "X = drop_columns(X, drop_col)"
   ]
  },
  {
   "cell_type": "code",
   "execution_count": 16,
   "id": "26263d10",
   "metadata": {
    "execution": {
     "iopub.execute_input": "2025-03-14T07:45:36.556201Z",
     "iopub.status.busy": "2025-03-14T07:45:36.556201Z",
     "iopub.status.idle": "2025-03-14T07:45:36.571526Z",
     "shell.execute_reply": "2025-03-14T07:45:36.571526Z"
    },
    "papermill": {
     "duration": 0.017673,
     "end_time": "2025-03-14T07:45:36.573874",
     "exception": false,
     "start_time": "2025-03-14T07:45:36.556201",
     "status": "completed"
    },
    "tags": []
   },
   "outputs": [
    {
     "name": "stdout",
     "output_type": "stream",
     "text": [
      "最終的な X の特徴量\n",
      "Index(['Season', 'T1_TeamID', 'T2_TeamID', 'T1_Scoremean',\n",
      "       'T1_opponent_Scoremean', 'T1_PointDiffmean', 'T1_FGMmean',\n",
      "       'T1_opponent_FGMmean', 'T1_FGAmean', 'T1_opponent_FGAmean',\n",
      "       'T1_EFG_SUMmean', 'T1_opponent_EFG_SUMmean', 'T1_TO_RATIOmean',\n",
      "       'T1_opponent_TO_RATIOmean', 'T1_DRmean', 'T1_opponent_DRmean',\n",
      "       'T1_REB_RATEmean', 'T1_opponent_REB_RATEmean', 'T1_FT_RATEmean',\n",
      "       'T1_POSS_RATEmean', 'T1_Astmean', 'T1_opponent_TOmean', 'T1_Stlmean',\n",
      "       'T1_Blkmean', 'T1_opponent_Blkmean', 'T2_Scoremean',\n",
      "       'T2_opponent_Scoremean', 'T2_PointDiffmean', 'T2_FGMmean',\n",
      "       'T2_opponent_FGMmean', 'T2_FGAmean', 'T2_opponent_FGAmean',\n",
      "       'T2_EFG_SUMmean', 'T2_opponent_EFG_SUMmean', 'T2_TO_RATIOmean',\n",
      "       'T2_opponent_TO_RATIOmean', 'T2_DRmean', 'T2_opponent_DRmean',\n",
      "       'T2_REB_RATEmean', 'T2_opponent_REB_RATEmean', 'T2_FT_RATEmean',\n",
      "       'T2_POSS_RATEmean', 'T2_Astmean', 'T2_opponent_TOmean', 'T2_Stlmean',\n",
      "       'T2_Blkmean', 'T2_opponent_Blkmean', 'seed_diff', 'rank_diff',\n",
      "       'quality_diff', 'win_ratio_14d_diff'],\n",
      "      dtype='object')\n"
     ]
    }
   ],
   "source": [
    "print(\"最終的な X の特徴量\")\n",
    "print(X.columns)"
   ]
  },
  {
   "cell_type": "code",
   "execution_count": 17,
   "id": "4bd63524",
   "metadata": {
    "execution": {
     "iopub.execute_input": "2025-03-14T07:45:36.590828Z",
     "iopub.status.busy": "2025-03-14T07:45:36.590828Z",
     "iopub.status.idle": "2025-03-14T07:45:36.598378Z",
     "shell.execute_reply": "2025-03-14T07:45:36.598378Z"
    },
    "papermill": {
     "duration": 0.018608,
     "end_time": "2025-03-14T07:45:36.600441",
     "exception": false,
     "start_time": "2025-03-14T07:45:36.581833",
     "status": "completed"
    },
    "tags": []
   },
   "outputs": [
    {
     "name": "stdout",
     "output_type": "stream",
     "text": [
      "<class 'pandas.core.frame.DataFrame'>\n",
      "RangeIndex: 3230 entries, 0 to 3229\n",
      "Data columns (total 51 columns):\n",
      " #   Column                    Non-Null Count  Dtype  \n",
      "---  ------                    --------------  -----  \n",
      " 0   Season                    3230 non-null   int64  \n",
      " 1   T1_TeamID                 3230 non-null   int64  \n",
      " 2   T2_TeamID                 3230 non-null   int64  \n",
      " 3   T1_Scoremean              3230 non-null   float64\n",
      " 4   T1_opponent_Scoremean     3230 non-null   float64\n",
      " 5   T1_PointDiffmean          3230 non-null   float64\n",
      " 6   T1_FGMmean                3230 non-null   float64\n",
      " 7   T1_opponent_FGMmean       3230 non-null   float64\n",
      " 8   T1_FGAmean                3230 non-null   float64\n",
      " 9   T1_opponent_FGAmean       3230 non-null   float64\n",
      " 10  T1_EFG_SUMmean            3230 non-null   float64\n",
      " 11  T1_opponent_EFG_SUMmean   3230 non-null   float64\n",
      " 12  T1_TO_RATIOmean           3230 non-null   float64\n",
      " 13  T1_opponent_TO_RATIOmean  3230 non-null   float64\n",
      " 14  T1_DRmean                 3230 non-null   float64\n",
      " 15  T1_opponent_DRmean        3230 non-null   float64\n",
      " 16  T1_REB_RATEmean           3230 non-null   float64\n",
      " 17  T1_opponent_REB_RATEmean  3230 non-null   float64\n",
      " 18  T1_FT_RATEmean            3230 non-null   float64\n",
      " 19  T1_POSS_RATEmean          3230 non-null   float64\n",
      " 20  T1_Astmean                3230 non-null   float64\n",
      " 21  T1_opponent_TOmean        3230 non-null   float64\n",
      " 22  T1_Stlmean                3230 non-null   float64\n",
      " 23  T1_Blkmean                3230 non-null   float64\n",
      " 24  T1_opponent_Blkmean       3230 non-null   float64\n",
      " 25  T2_Scoremean              3230 non-null   float64\n",
      " 26  T2_opponent_Scoremean     3230 non-null   float64\n",
      " 27  T2_PointDiffmean          3230 non-null   float64\n",
      " 28  T2_FGMmean                3230 non-null   float64\n",
      " 29  T2_opponent_FGMmean       3230 non-null   float64\n",
      " 30  T2_FGAmean                3230 non-null   float64\n",
      " 31  T2_opponent_FGAmean       3230 non-null   float64\n",
      " 32  T2_EFG_SUMmean            3230 non-null   float64\n",
      " 33  T2_opponent_EFG_SUMmean   3230 non-null   float64\n",
      " 34  T2_TO_RATIOmean           3230 non-null   float64\n",
      " 35  T2_opponent_TO_RATIOmean  3230 non-null   float64\n",
      " 36  T2_DRmean                 3230 non-null   float64\n",
      " 37  T2_opponent_DRmean        3230 non-null   float64\n",
      " 38  T2_REB_RATEmean           3230 non-null   float64\n",
      " 39  T2_opponent_REB_RATEmean  3230 non-null   float64\n",
      " 40  T2_FT_RATEmean            3230 non-null   float64\n",
      " 41  T2_POSS_RATEmean          3230 non-null   float64\n",
      " 42  T2_Astmean                3230 non-null   float64\n",
      " 43  T2_opponent_TOmean        3230 non-null   float64\n",
      " 44  T2_Stlmean                3230 non-null   float64\n",
      " 45  T2_Blkmean                3230 non-null   float64\n",
      " 46  T2_opponent_Blkmean       3230 non-null   float64\n",
      " 47  seed_diff                 3230 non-null   float64\n",
      " 48  rank_diff                 2096 non-null   float64\n",
      " 49  quality_diff              3230 non-null   float64\n",
      " 50  win_ratio_14d_diff        3230 non-null   float64\n",
      "dtypes: float64(48), int64(3)\n",
      "memory usage: 1.3 MB\n"
     ]
    }
   ],
   "source": [
    "X.info()"
   ]
  },
  {
   "cell_type": "markdown",
   "id": "86094e93",
   "metadata": {
    "papermill": {
     "duration": 0.0,
     "end_time": "2025-03-14T07:45:36.606394",
     "exception": false,
     "start_time": "2025-03-14T07:45:36.606394",
     "status": "completed"
    },
    "tags": []
   },
   "source": [
    "# build models"
   ]
  },
  {
   "cell_type": "code",
   "execution_count": 18,
   "id": "3082eca9",
   "metadata": {
    "execution": {
     "iopub.execute_input": "2025-03-14T07:45:36.622192Z",
     "iopub.status.busy": "2025-03-14T07:45:36.622192Z",
     "iopub.status.idle": "2025-03-14T07:45:36.657887Z",
     "shell.execute_reply": "2025-03-14T07:45:36.657887Z"
    },
    "papermill": {
     "duration": 0.039134,
     "end_time": "2025-03-14T07:45:36.661326",
     "exception": false,
     "start_time": "2025-03-14T07:45:36.622192",
     "status": "completed"
    },
    "tags": []
   },
   "outputs": [],
   "source": [
    "\n",
    "val_mae = []\n",
    "iteration_counts = []\n",
    "xgb_cv = []\n",
    "dtrain = xgb.DMatrix(X, label=y)\n",
    "\n",
    "repeat_cv = MODEL.repeat_cv\n",
    "param = dict(MODEL.xgb_model.param)\n",
    "num_boost_round = MODEL.xgb_model.num_boost_round\n",
    "folds_splits = MODEL.xgb_model.folds_splits\n",
    "early_stopping_rounds = MODEL.xgb_model.early_stopping_rounds\n",
    "\n",
    "# コーシー損失関数\n",
    "def cauchyobj(preds, dtrain):\n",
    "    labels = dtrain.get_label()\n",
    "    c = 5000\n",
    "    x = preds - labels    \n",
    "    grad = x / (x**2/c**2 + 1)\n",
    "    hess = -c**2 * (x**2 - c**2) / (x**2 + c**2)**2\n",
    "    return grad, hess"
   ]
  },
  {
   "cell_type": "code",
   "execution_count": 19,
   "id": "bc8d43b9",
   "metadata": {
    "execution": {
     "iopub.execute_input": "2025-03-14T07:45:36.688278Z",
     "iopub.status.busy": "2025-03-14T07:45:36.687308Z",
     "iopub.status.idle": "2025-03-14T07:45:36.702255Z",
     "shell.execute_reply": "2025-03-14T07:45:36.702255Z"
    },
    "papermill": {
     "duration": 0.030172,
     "end_time": "2025-03-14T07:45:36.704262",
     "exception": false,
     "start_time": "2025-03-14T07:45:36.674090",
     "status": "completed"
    },
    "tags": []
   },
   "outputs": [],
   "source": [
    "#########################################\n",
    "# 1. Optunaあり：ハイパーパラメータ最適化 #\n",
    "#########################################\n",
    "def run_optuna_optimization(param, optuna_conf):\n",
    "    def objective(trial):  \n",
    "        logger.info(f\"Trial {trial.number} 開始\")\n",
    "        \n",
    "        current_param = param.copy()  \n",
    "        max_depth_range = optuna_conf.max_depth        \n",
    "        eta_range = optuna_conf.eta\n",
    "        subsample_range = optuna_conf.subsample          \n",
    "        colsample_bytree_range = optuna_conf.colsample_bytree\n",
    "        num_parallel_tree_range = optuna_conf.num_parallel_tree \n",
    "        min_child_weight_range = optuna_conf.min_child_weight \n",
    "        reg_alpha_range = optuna_conf.reg_alpha         \n",
    "        reg_lambda_range = optuna_conf.reg_lambda    \n",
    "        reg_gamma_range = optuna_conf.gamma  \n",
    "\n",
    "        current_param[\"max_depth\"] = trial.suggest_int(\"max_depth\", max_depth_range[0], max_depth_range[1])\n",
    "        current_param[\"eta\"] = trial.suggest_float(\"eta\", eta_range[0], eta_range[1], log=True)\n",
    "        current_param[\"subsample\"] = trial.suggest_float(\"subsample\", subsample_range[0], subsample_range[1])\n",
    "        current_param[\"colsample_bytree\"] = trial.suggest_float(\"colsample_bytree\", colsample_bytree_range[0], colsample_bytree_range[1])\n",
    "        current_param[\"num_parallel_tree\"] = trial.suggest_int(\"num_parallel_tree\", num_parallel_tree_range[0], num_parallel_tree_range[1])\n",
    "        current_param[\"min_child_weight\"] = trial.suggest_int(\"min_child_weight\", min_child_weight_range[0], min_child_weight_range[1])\n",
    "        current_param[\"reg_alpha\"] = trial.suggest_float(\"reg_alpha\", reg_alpha_range[0], reg_alpha_range[1])\n",
    "        current_param[\"reg_lambda\"] = trial.suggest_float(\"reg_lambda\", reg_lambda_range[0], reg_lambda_range[1])\n",
    "        current_param[\"gamma\"] = trial.suggest_float(\"gamma\", reg_gamma_range[0], reg_gamma_range[1])\n",
    "        \n",
    "        if current_param.get(\"eval_metric\", \"mae\") == \"rmse\":\n",
    "            score_name = \"test-rmse-mean\"\n",
    "        elif current_param.get(\"eval_metric\", \"mae\") == \"mae\":\n",
    "            score_name = \"test-mae-mean\"\n",
    "        elif  current_param.get(\"eval_metric\", \"mae\") == \"logloss\":\n",
    "            score_name = \"test-logloss-mean\"\n",
    "        \n",
    "        print(current_param)  \n",
    "        cv_scores = []\n",
    "        for i in range(repeat_cv):\n",
    "            cv_result = xgb.cv(\n",
    "                params=current_param,\n",
    "                dtrain=dtrain,\n",
    "                obj=cauchyobj,\n",
    "                num_boost_round=num_boost_round,\n",
    "                folds=KFold(n_splits=folds_splits, shuffle=True, random_state=i),\n",
    "                early_stopping_rounds=early_stopping_rounds,\n",
    "                verbose_eval=False\n",
    "            )\n",
    "            fold_score = np.min(cv_result[score_name].values)\n",
    "            cv_scores.append(fold_score)\n",
    "        mean_score = np.mean(cv_scores)\n",
    "        logger.info(f\"Trial {trial.number} 終了: スコア {mean_score}\")\n",
    "        \n",
    "        return mean_score\n",
    "\n",
    "    logger.info(\"Optuna最適化開始\")\n",
    "    N_WARMUP_STEPS = optuna_conf.n_warmup_steps\n",
    "    TIMEOUT = optuna_conf.timeout\n",
    "    N_JOBS = optuna_conf.n_jobs\n",
    "    N_TRIALS = optuna_conf.n_trials\n",
    "    \n",
    "    sampler = optuna.samplers.TPESampler(seed=42)\n",
    "    pruner = optuna.pruners.MedianPruner(n_warmup_steps=N_WARMUP_STEPS)\n",
    "\n",
    "    study = optuna.create_study(direction=\"minimize\", sampler=sampler, pruner=pruner)\n",
    "    study.optimize(objective, n_trials=N_TRIALS, timeout=TIMEOUT, n_jobs=N_JOBS)\n",
    "\n",
    "    best_trial = study.best_trial\n",
    "    logger.info(\"Best trial:\")\n",
    "    logger.info(f\"  Value: {best_trial.value}\")\n",
    "    \n",
    "    for key, value in best_trial.params.items():\n",
    "        print(f\"    {key}: {value}\")\n",
    "    param.update(best_trial.params)\n",
    "\n",
    "    logger.info(\"Optuna最適化終了\")\n",
    "    return param"
   ]
  },
  {
   "cell_type": "code",
   "execution_count": 20,
   "id": "f4381205",
   "metadata": {
    "execution": {
     "iopub.execute_input": "2025-03-14T07:45:36.729458Z",
     "iopub.status.busy": "2025-03-14T07:45:36.729458Z",
     "iopub.status.idle": "2025-03-14T07:45:36.734978Z",
     "shell.execute_reply": "2025-03-14T07:45:36.734978Z"
    },
    "papermill": {
     "duration": 0.020079,
     "end_time": "2025-03-14T07:45:36.734978",
     "exception": false,
     "start_time": "2025-03-14T07:45:36.714899",
     "status": "completed"
    },
    "tags": []
   },
   "outputs": [
    {
     "name": "stdout",
     "output_type": "stream",
     "text": [
      "not use Optuna, use xgb_model.param\n",
      "param: {'eval_metric': 'rmse', 'booster': 'gbtree', 'eta': 0.02, 'subsample': 0.35, 'colsample_bytree': 0.7, 'num_parallel_tree': 10, 'min_child_weight': 40, 'gamma': 10, 'max_depth': 3}\n",
      "repeat_cv: 10\n",
      "num_boost_round: 3000\n",
      "folds_splits: 5\n",
      "early_stopping_rounds: 25\n"
     ]
    }
   ],
   "source": [
    "IS_OPTUNA = MODEL.optuna_enabled\n",
    "if IS_OPTUNA:\n",
    "    print(\"Optuna use mode\") \n",
    "    optuna_conf = MODEL.xgb_model.optuna\n",
    "    logger.add(os.path.join(OUTPUT_PATH, \"results.log\"), format=\"{time:YYYY-MM-DD at HH:mm:ss} - {level} - {message}\", level=\"INFO\")\n",
    "    param = run_optuna_optimization(param, optuna_conf)\n",
    "    print(\"param updated by optuna\")\n",
    "    results+= [\"param set after optuna is below\", f\"{param}\", \"\"]\n",
    "else:    \n",
    "    print(\"not use Optuna, use xgb_model.param\")\n",
    "\n",
    "\n",
    "\n",
    "print(\"param:\", param)\n",
    "print(\"repeat_cv:\", repeat_cv)\n",
    "print(\"num_boost_round:\", num_boost_round)\n",
    "print(\"folds_splits:\", folds_splits)\n",
    "print(\"early_stopping_rounds:\", early_stopping_rounds)"
   ]
  },
  {
   "cell_type": "code",
   "execution_count": 21,
   "id": "6986210f",
   "metadata": {
    "execution": {
     "iopub.execute_input": "2025-03-14T07:45:36.759453Z",
     "iopub.status.busy": "2025-03-14T07:45:36.758457Z",
     "iopub.status.idle": "2025-03-14T07:49:16.140313Z",
     "shell.execute_reply": "2025-03-14T07:49:16.140313Z"
    },
    "papermill": {
     "duration": 219.391013,
     "end_time": "2025-03-14T07:49:16.140313",
     "exception": false,
     "start_time": "2025-03-14T07:45:36.749300",
     "status": "completed"
    },
    "tags": []
   },
   "outputs": [
    {
     "name": "stderr",
     "output_type": "stream",
     "text": [
      "\r",
      "  0%|                                                                                                                                                                                                                                      | 0/10 [00:00<?, ?it/s]"
     ]
    },
    {
     "name": "stdout",
     "output_type": "stream",
     "text": [
      "[0]\ttrain-rmse:17.10596+0.03291\ttest-rmse:17.10988+0.13383\n"
     ]
    },
    {
     "name": "stdout",
     "output_type": "stream",
     "text": [
      "[50]\ttrain-rmse:13.08994+0.04841\ttest-rmse:13.29027+0.17821\n"
     ]
    },
    {
     "name": "stdout",
     "output_type": "stream",
     "text": [
      "[100]\ttrain-rmse:11.99200+0.04700\ttest-rmse:12.35632+0.18652\n"
     ]
    },
    {
     "name": "stdout",
     "output_type": "stream",
     "text": [
      "[150]\ttrain-rmse:11.57981+0.04580\ttest-rmse:12.09131+0.17763\n"
     ]
    },
    {
     "name": "stdout",
     "output_type": "stream",
     "text": [
      "[200]\ttrain-rmse:11.32733+0.04542\ttest-rmse:11.98361+0.17277\n"
     ]
    },
    {
     "name": "stdout",
     "output_type": "stream",
     "text": [
      "[250]\ttrain-rmse:11.13461+0.04479\ttest-rmse:11.92783+0.16811\n"
     ]
    },
    {
     "name": "stdout",
     "output_type": "stream",
     "text": [
      "[300]\ttrain-rmse:10.96733+0.04545\ttest-rmse:11.89559+0.16244\n"
     ]
    },
    {
     "name": "stdout",
     "output_type": "stream",
     "text": [
      "[350]\ttrain-rmse:10.81750+0.04450\ttest-rmse:11.87776+0.15571\n"
     ]
    },
    {
     "name": "stdout",
     "output_type": "stream",
     "text": [
      "[400]\ttrain-rmse:10.68173+0.04360\ttest-rmse:11.86745+0.15632\n"
     ]
    },
    {
     "name": "stdout",
     "output_type": "stream",
     "text": [
      "[450]\ttrain-rmse:10.55516+0.04395\ttest-rmse:11.86203+0.15372\n"
     ]
    },
    {
     "name": "stdout",
     "output_type": "stream",
     "text": [
      "[484]\ttrain-rmse:10.47377+0.04500\ttest-rmse:11.86163+0.15504\n"
     ]
    },
    {
     "name": "stderr",
     "output_type": "stream",
     "text": [
      "\r",
      " 10%|██████████████████████▏                                                                                                                                                                                                       | 1/10 [00:17<02:40, 17.84s/it]"
     ]
    },
    {
     "name": "stdout",
     "output_type": "stream",
     "text": [
      "[0]\ttrain-rmse:17.10495+0.15446\ttest-rmse:17.09846+0.62814\n"
     ]
    },
    {
     "name": "stdout",
     "output_type": "stream",
     "text": [
      "[50]\ttrain-rmse:13.08884+0.10612\ttest-rmse:13.27207+0.50804\n"
     ]
    },
    {
     "name": "stdout",
     "output_type": "stream",
     "text": [
      "[100]\ttrain-rmse:11.99382+0.10142\ttest-rmse:12.34573+0.43841\n"
     ]
    },
    {
     "name": "stdout",
     "output_type": "stream",
     "text": [
      "[150]\ttrain-rmse:11.58016+0.10121\ttest-rmse:12.07609+0.41161\n"
     ]
    },
    {
     "name": "stdout",
     "output_type": "stream",
     "text": [
      "[200]\ttrain-rmse:11.33335+0.10048\ttest-rmse:11.96637+0.40536\n"
     ]
    },
    {
     "name": "stdout",
     "output_type": "stream",
     "text": [
      "[250]\ttrain-rmse:11.14045+0.09969\ttest-rmse:11.91231+0.39761\n"
     ]
    },
    {
     "name": "stdout",
     "output_type": "stream",
     "text": [
      "[300]\ttrain-rmse:10.97450+0.10000\ttest-rmse:11.88001+0.39493\n"
     ]
    },
    {
     "name": "stdout",
     "output_type": "stream",
     "text": [
      "[350]\ttrain-rmse:10.82706+0.10138\ttest-rmse:11.86405+0.39235\n"
     ]
    },
    {
     "name": "stdout",
     "output_type": "stream",
     "text": [
      "[400]\ttrain-rmse:10.68997+0.10352\ttest-rmse:11.85217+0.38990\n"
     ]
    },
    {
     "name": "stdout",
     "output_type": "stream",
     "text": [
      "[450]\ttrain-rmse:10.56383+0.10268\ttest-rmse:11.84876+0.38621\n"
     ]
    },
    {
     "name": "stdout",
     "output_type": "stream",
     "text": [
      "[500]\ttrain-rmse:10.44401+0.10322\ttest-rmse:11.84517+0.38625\n"
     ]
    },
    {
     "name": "stdout",
     "output_type": "stream",
     "text": [
      "[532]\ttrain-rmse:10.37189+0.10263\ttest-rmse:11.84554+0.38463\n"
     ]
    },
    {
     "name": "stderr",
     "output_type": "stream",
     "text": [
      "\r",
      " 20%|████████████████████████████████████████████▍                                                                                                                                                                                 | 2/10 [00:38<02:38, 19.78s/it]"
     ]
    },
    {
     "name": "stdout",
     "output_type": "stream",
     "text": [
      "[0]\ttrain-rmse:17.10636+0.11890\ttest-rmse:17.10376+0.49314\n"
     ]
    },
    {
     "name": "stdout",
     "output_type": "stream",
     "text": [
      "[50]\ttrain-rmse:13.09087+0.07130\ttest-rmse:13.25810+0.35959\n"
     ]
    },
    {
     "name": "stdout",
     "output_type": "stream",
     "text": [
      "[100]\ttrain-rmse:11.99446+0.06578\ttest-rmse:12.31796+0.30846\n"
     ]
    },
    {
     "name": "stdout",
     "output_type": "stream",
     "text": [
      "[150]\ttrain-rmse:11.58346+0.06412\ttest-rmse:12.04654+0.29034\n"
     ]
    },
    {
     "name": "stdout",
     "output_type": "stream",
     "text": [
      "[200]\ttrain-rmse:11.33424+0.06274\ttest-rmse:11.93356+0.28250\n"
     ]
    },
    {
     "name": "stdout",
     "output_type": "stream",
     "text": [
      "[250]\ttrain-rmse:11.14249+0.06103\ttest-rmse:11.87598+0.27593\n"
     ]
    },
    {
     "name": "stdout",
     "output_type": "stream",
     "text": [
      "[300]\ttrain-rmse:10.97597+0.06055\ttest-rmse:11.84158+0.27336\n"
     ]
    },
    {
     "name": "stdout",
     "output_type": "stream",
     "text": [
      "[350]\ttrain-rmse:10.82913+0.06212\ttest-rmse:11.82203+0.26946\n"
     ]
    },
    {
     "name": "stdout",
     "output_type": "stream",
     "text": [
      "[400]\ttrain-rmse:10.69418+0.06255\ttest-rmse:11.81209+0.26137\n"
     ]
    },
    {
     "name": "stdout",
     "output_type": "stream",
     "text": [
      "[450]\ttrain-rmse:10.56643+0.06301\ttest-rmse:11.80507+0.25686\n"
     ]
    },
    {
     "name": "stdout",
     "output_type": "stream",
     "text": [
      "[500]\ttrain-rmse:10.44762+0.06261\ttest-rmse:11.80450+0.25407\n"
     ]
    },
    {
     "name": "stdout",
     "output_type": "stream",
     "text": [
      "[517]\ttrain-rmse:10.40775+0.06290\ttest-rmse:11.80474+0.25243\n"
     ]
    },
    {
     "name": "stderr",
     "output_type": "stream",
     "text": [
      "\r",
      " 30%|██████████████████████████████████████████████████████████████████▌                                                                                                                                                           | 3/10 [00:58<02:17, 19.65s/it]"
     ]
    },
    {
     "name": "stdout",
     "output_type": "stream",
     "text": [
      "[0]\ttrain-rmse:17.10511+0.07600\ttest-rmse:17.10626+0.30711\n"
     ]
    },
    {
     "name": "stdout",
     "output_type": "stream",
     "text": [
      "[50]\ttrain-rmse:13.09236+0.05018\ttest-rmse:13.26241+0.29940\n"
     ]
    },
    {
     "name": "stdout",
     "output_type": "stream",
     "text": [
      "[100]\ttrain-rmse:11.99666+0.05306\ttest-rmse:12.31964+0.24486\n"
     ]
    },
    {
     "name": "stdout",
     "output_type": "stream",
     "text": [
      "[150]\ttrain-rmse:11.58444+0.05624\ttest-rmse:12.04450+0.21770\n"
     ]
    },
    {
     "name": "stdout",
     "output_type": "stream",
     "text": [
      "[200]\ttrain-rmse:11.33373+0.05803\ttest-rmse:11.93174+0.21086\n"
     ]
    },
    {
     "name": "stdout",
     "output_type": "stream",
     "text": [
      "[250]\ttrain-rmse:11.14131+0.06013\ttest-rmse:11.87031+0.20918\n"
     ]
    },
    {
     "name": "stdout",
     "output_type": "stream",
     "text": [
      "[300]\ttrain-rmse:10.97481+0.06160\ttest-rmse:11.83583+0.21029\n"
     ]
    },
    {
     "name": "stdout",
     "output_type": "stream",
     "text": [
      "[350]\ttrain-rmse:10.82746+0.06444\ttest-rmse:11.81717+0.21435\n"
     ]
    },
    {
     "name": "stdout",
     "output_type": "stream",
     "text": [
      "[400]\ttrain-rmse:10.69215+0.06684\ttest-rmse:11.80667+0.21810\n"
     ]
    },
    {
     "name": "stdout",
     "output_type": "stream",
     "text": [
      "[450]\ttrain-rmse:10.56661+0.06735\ttest-rmse:11.80027+0.22258\n"
     ]
    },
    {
     "name": "stdout",
     "output_type": "stream",
     "text": [
      "[500]\ttrain-rmse:10.44706+0.06981\ttest-rmse:11.79689+0.22741\n"
     ]
    },
    {
     "name": "stdout",
     "output_type": "stream",
     "text": [
      "[550]\ttrain-rmse:10.33412+0.07279\ttest-rmse:11.79497+0.23182\n"
     ]
    },
    {
     "name": "stdout",
     "output_type": "stream",
     "text": [
      "[589]\ttrain-rmse:10.25027+0.07423\ttest-rmse:11.79662+0.23580\n"
     ]
    },
    {
     "name": "stderr",
     "output_type": "stream",
     "text": [
      "\r",
      " 40%|████████████████████████████████████████████████████████████████████████████████████████▊                                                                                                                                     | 4/10 [01:21<02:06, 21.12s/it]"
     ]
    },
    {
     "name": "stdout",
     "output_type": "stream",
     "text": [
      "[0]\ttrain-rmse:17.10417+0.08413\ttest-rmse:17.10656+0.33535\n"
     ]
    },
    {
     "name": "stdout",
     "output_type": "stream",
     "text": [
      "[50]\ttrain-rmse:13.09295+0.09992\ttest-rmse:13.27835+0.47796\n"
     ]
    },
    {
     "name": "stdout",
     "output_type": "stream",
     "text": [
      "[100]\ttrain-rmse:11.99371+0.09898\ttest-rmse:12.33859+0.46710\n"
     ]
    },
    {
     "name": "stdout",
     "output_type": "stream",
     "text": [
      "[150]\ttrain-rmse:11.58318+0.09744\ttest-rmse:12.06764+0.44306\n"
     ]
    },
    {
     "name": "stdout",
     "output_type": "stream",
     "text": [
      "[200]\ttrain-rmse:11.33313+0.09670\ttest-rmse:11.95195+0.42839\n"
     ]
    },
    {
     "name": "stdout",
     "output_type": "stream",
     "text": [
      "[250]\ttrain-rmse:11.14167+0.09484\ttest-rmse:11.89379+0.41761\n"
     ]
    },
    {
     "name": "stdout",
     "output_type": "stream",
     "text": [
      "[300]\ttrain-rmse:10.97709+0.09337\ttest-rmse:11.86108+0.40664\n"
     ]
    },
    {
     "name": "stdout",
     "output_type": "stream",
     "text": [
      "[350]\ttrain-rmse:10.83116+0.09229\ttest-rmse:11.83990+0.39614\n"
     ]
    },
    {
     "name": "stdout",
     "output_type": "stream",
     "text": [
      "[400]\ttrain-rmse:10.69707+0.09303\ttest-rmse:11.82780+0.38962\n"
     ]
    },
    {
     "name": "stdout",
     "output_type": "stream",
     "text": [
      "[450]\ttrain-rmse:10.57148+0.09298\ttest-rmse:11.81904+0.38316\n"
     ]
    },
    {
     "name": "stdout",
     "output_type": "stream",
     "text": [
      "[500]\ttrain-rmse:10.45271+0.09309\ttest-rmse:11.81678+0.38063\n"
     ]
    },
    {
     "name": "stdout",
     "output_type": "stream",
     "text": [
      "[550]\ttrain-rmse:10.34198+0.09275\ttest-rmse:11.81341+0.37795\n"
     ]
    },
    {
     "name": "stdout",
     "output_type": "stream",
     "text": [
      "[574]\ttrain-rmse:10.28921+0.09248\ttest-rmse:11.81535+0.37556\n"
     ]
    },
    {
     "name": "stderr",
     "output_type": "stream",
     "text": [
      "\r",
      " 50%|███████████████████████████████████████████████████████████████████████████████████████████████████████████████                                                                                                               | 5/10 [01:45<01:49, 21.87s/it]"
     ]
    },
    {
     "name": "stdout",
     "output_type": "stream",
     "text": [
      "[0]\ttrain-rmse:17.10553+0.07336\ttest-rmse:17.10768+0.29749\n"
     ]
    },
    {
     "name": "stdout",
     "output_type": "stream",
     "text": [
      "[50]\ttrain-rmse:13.09093+0.06644\ttest-rmse:13.26283+0.25828\n"
     ]
    },
    {
     "name": "stdout",
     "output_type": "stream",
     "text": [
      "[100]\ttrain-rmse:11.99440+0.06931\ttest-rmse:12.31968+0.26758\n"
     ]
    },
    {
     "name": "stdout",
     "output_type": "stream",
     "text": [
      "[150]\ttrain-rmse:11.58407+0.07018\ttest-rmse:12.04442+0.26677\n"
     ]
    },
    {
     "name": "stdout",
     "output_type": "stream",
     "text": [
      "[200]\ttrain-rmse:11.33251+0.07019\ttest-rmse:11.92937+0.26243\n"
     ]
    },
    {
     "name": "stdout",
     "output_type": "stream",
     "text": [
      "[250]\ttrain-rmse:11.14020+0.06943\ttest-rmse:11.87175+0.26257\n"
     ]
    },
    {
     "name": "stdout",
     "output_type": "stream",
     "text": [
      "[300]\ttrain-rmse:10.97606+0.07010\ttest-rmse:11.83840+0.26198\n"
     ]
    },
    {
     "name": "stdout",
     "output_type": "stream",
     "text": [
      "[350]\ttrain-rmse:10.82981+0.07204\ttest-rmse:11.81960+0.25924\n"
     ]
    },
    {
     "name": "stdout",
     "output_type": "stream",
     "text": [
      "[400]\ttrain-rmse:10.69366+0.07532\ttest-rmse:11.80441+0.26073\n"
     ]
    },
    {
     "name": "stdout",
     "output_type": "stream",
     "text": [
      "[450]\ttrain-rmse:10.56763+0.07638\ttest-rmse:11.80000+0.26015\n"
     ]
    },
    {
     "name": "stdout",
     "output_type": "stream",
     "text": [
      "[484]\ttrain-rmse:10.48634+0.07778\ttest-rmse:11.79890+0.26167\n"
     ]
    },
    {
     "name": "stderr",
     "output_type": "stream",
     "text": [
      "\r",
      " 60%|█████████████████████████████████████████████████████████████████████████████████████████████████████████████████████████████████████▏                                                                                        | 6/10 [02:06<01:26, 21.74s/it]"
     ]
    },
    {
     "name": "stdout",
     "output_type": "stream",
     "text": [
      "[0]\ttrain-rmse:17.10568+0.10010\ttest-rmse:17.10511+0.40134\n"
     ]
    },
    {
     "name": "stdout",
     "output_type": "stream",
     "text": [
      "[50]\ttrain-rmse:13.09076+0.01963\ttest-rmse:13.28799+0.17117\n"
     ]
    },
    {
     "name": "stdout",
     "output_type": "stream",
     "text": [
      "[100]\ttrain-rmse:11.99317+0.01643\ttest-rmse:12.35120+0.10136\n"
     ]
    },
    {
     "name": "stdout",
     "output_type": "stream",
     "text": [
      "[150]\ttrain-rmse:11.57976+0.02654\ttest-rmse:12.08089+0.10884\n"
     ]
    },
    {
     "name": "stdout",
     "output_type": "stream",
     "text": [
      "[200]\ttrain-rmse:11.32896+0.03259\ttest-rmse:11.96991+0.12261\n"
     ]
    },
    {
     "name": "stdout",
     "output_type": "stream",
     "text": [
      "[250]\ttrain-rmse:11.13676+0.03614\ttest-rmse:11.91215+0.13328\n"
     ]
    },
    {
     "name": "stdout",
     "output_type": "stream",
     "text": [
      "[300]\ttrain-rmse:10.97232+0.03663\ttest-rmse:11.87654+0.13607\n"
     ]
    },
    {
     "name": "stdout",
     "output_type": "stream",
     "text": [
      "[350]\ttrain-rmse:10.82615+0.03560\ttest-rmse:11.86018+0.13744\n"
     ]
    },
    {
     "name": "stdout",
     "output_type": "stream",
     "text": [
      "[400]\ttrain-rmse:10.69196+0.03530\ttest-rmse:11.84764+0.13491\n"
     ]
    },
    {
     "name": "stdout",
     "output_type": "stream",
     "text": [
      "[450]\ttrain-rmse:10.56651+0.03504\ttest-rmse:11.84213+0.13678\n"
     ]
    },
    {
     "name": "stdout",
     "output_type": "stream",
     "text": [
      "[500]\ttrain-rmse:10.44673+0.03719\ttest-rmse:11.83788+0.13924\n"
     ]
    },
    {
     "name": "stdout",
     "output_type": "stream",
     "text": [
      "[529]\ttrain-rmse:10.38072+0.03763\ttest-rmse:11.83826+0.13942\n"
     ]
    },
    {
     "name": "stderr",
     "output_type": "stream",
     "text": [
      "\r",
      " 70%|███████████████████████████████████████████████████████████████████████████████████████████████████████████████████████████████████████████████████████████▍                                                                  | 7/10 [02:28<01:05, 21.71s/it]"
     ]
    },
    {
     "name": "stdout",
     "output_type": "stream",
     "text": [
      "[0]\ttrain-rmse:17.10307+0.20766\ttest-rmse:17.08836+0.81224\n"
     ]
    },
    {
     "name": "stdout",
     "output_type": "stream",
     "text": [
      "[50]\ttrain-rmse:13.08545+0.12302\ttest-rmse:13.26662+0.68597\n"
     ]
    },
    {
     "name": "stdout",
     "output_type": "stream",
     "text": [
      "[100]\ttrain-rmse:11.98708+0.10271\ttest-rmse:12.34487+0.56882\n"
     ]
    },
    {
     "name": "stdout",
     "output_type": "stream",
     "text": [
      "[150]\ttrain-rmse:11.57246+0.09824\ttest-rmse:12.08831+0.51619\n"
     ]
    },
    {
     "name": "stdout",
     "output_type": "stream",
     "text": [
      "[200]\ttrain-rmse:11.31698+0.09823\ttest-rmse:11.98446+0.48388\n"
     ]
    },
    {
     "name": "stdout",
     "output_type": "stream",
     "text": [
      "[250]\ttrain-rmse:11.12330+0.09923\ttest-rmse:11.93510+0.46393\n"
     ]
    },
    {
     "name": "stdout",
     "output_type": "stream",
     "text": [
      "[300]\ttrain-rmse:10.95696+0.09930\ttest-rmse:11.90720+0.45307\n"
     ]
    },
    {
     "name": "stdout",
     "output_type": "stream",
     "text": [
      "[350]\ttrain-rmse:10.80961+0.10198\ttest-rmse:11.89548+0.44194\n"
     ]
    },
    {
     "name": "stdout",
     "output_type": "stream",
     "text": [
      "[400]\ttrain-rmse:10.67233+0.10104\ttest-rmse:11.88699+0.43830\n"
     ]
    },
    {
     "name": "stdout",
     "output_type": "stream",
     "text": [
      "[450]\ttrain-rmse:10.54623+0.10064\ttest-rmse:11.88457+0.43319\n"
     ]
    },
    {
     "name": "stdout",
     "output_type": "stream",
     "text": [
      "[500]\ttrain-rmse:10.42511+0.10198\ttest-rmse:11.88193+0.43146\n"
     ]
    },
    {
     "name": "stdout",
     "output_type": "stream",
     "text": [
      "[540]\ttrain-rmse:10.33412+0.10171\ttest-rmse:11.88223+0.42958\n"
     ]
    },
    {
     "name": "stderr",
     "output_type": "stream",
     "text": [
      "\r",
      " 80%|█████████████████████████████████████████████████████████████████████████████████████████████████████████████████████████████████████████████████████████████████████████████████▌                                            | 8/10 [02:50<00:43, 21.85s/it]"
     ]
    },
    {
     "name": "stdout",
     "output_type": "stream",
     "text": [
      "[0]\ttrain-rmse:17.10405+0.20045\ttest-rmse:17.09032+0.83808\n"
     ]
    },
    {
     "name": "stdout",
     "output_type": "stream",
     "text": [
      "[50]\ttrain-rmse:13.08558+0.11659\ttest-rmse:13.27983+0.68697\n"
     ]
    },
    {
     "name": "stdout",
     "output_type": "stream",
     "text": [
      "[100]\ttrain-rmse:11.98557+0.08896\ttest-rmse:12.36076+0.52625\n"
     ]
    },
    {
     "name": "stdout",
     "output_type": "stream",
     "text": [
      "[150]\ttrain-rmse:11.57091+0.07713\ttest-rmse:12.09763+0.43144\n"
     ]
    },
    {
     "name": "stdout",
     "output_type": "stream",
     "text": [
      "[200]\ttrain-rmse:11.32195+0.07518\ttest-rmse:11.98970+0.37723\n"
     ]
    },
    {
     "name": "stdout",
     "output_type": "stream",
     "text": [
      "[250]\ttrain-rmse:11.12983+0.07280\ttest-rmse:11.93211+0.34485\n"
     ]
    },
    {
     "name": "stdout",
     "output_type": "stream",
     "text": [
      "[300]\ttrain-rmse:10.96646+0.07313\ttest-rmse:11.90134+0.32343\n"
     ]
    },
    {
     "name": "stdout",
     "output_type": "stream",
     "text": [
      "[350]\ttrain-rmse:10.81817+0.07327\ttest-rmse:11.88094+0.31134\n"
     ]
    },
    {
     "name": "stdout",
     "output_type": "stream",
     "text": [
      "[400]\ttrain-rmse:10.68517+0.07330\ttest-rmse:11.86822+0.30314\n"
     ]
    },
    {
     "name": "stdout",
     "output_type": "stream",
     "text": [
      "[450]\ttrain-rmse:10.55839+0.07285\ttest-rmse:11.86142+0.29725\n"
     ]
    },
    {
     "name": "stdout",
     "output_type": "stream",
     "text": [
      "[500]\ttrain-rmse:10.44073+0.07478\ttest-rmse:11.85873+0.29339\n"
     ]
    },
    {
     "name": "stdout",
     "output_type": "stream",
     "text": [
      "[550]\ttrain-rmse:10.32964+0.07592\ttest-rmse:11.85560+0.29300\n"
     ]
    },
    {
     "name": "stdout",
     "output_type": "stream",
     "text": [
      "[600]\ttrain-rmse:10.22178+0.07615\ttest-rmse:11.85622+0.28978\n"
     ]
    },
    {
     "name": "stdout",
     "output_type": "stream",
     "text": [
      "[604]\ttrain-rmse:10.21368+0.07639\ttest-rmse:11.85636+0.28874\n"
     ]
    },
    {
     "name": "stderr",
     "output_type": "stream",
     "text": [
      "\r",
      " 90%|███████████████████████████████████████████████████████████████████████████████████████████████████████████████████████████████████████████████████████████████████████████████████████████████████████▊                      | 9/10 [03:15<00:22, 22.84s/it]"
     ]
    },
    {
     "name": "stdout",
     "output_type": "stream",
     "text": [
      "[0]\ttrain-rmse:17.10559+0.13572\ttest-rmse:17.10055+0.55055\n"
     ]
    },
    {
     "name": "stdout",
     "output_type": "stream",
     "text": [
      "[50]\ttrain-rmse:13.09102+0.09065\ttest-rmse:13.27306+0.49491\n"
     ]
    },
    {
     "name": "stdout",
     "output_type": "stream",
     "text": [
      "[100]\ttrain-rmse:11.99337+0.07959\ttest-rmse:12.33992+0.41755\n"
     ]
    },
    {
     "name": "stdout",
     "output_type": "stream",
     "text": [
      "[150]\ttrain-rmse:11.58122+0.08116\ttest-rmse:12.07355+0.37970\n"
     ]
    },
    {
     "name": "stdout",
     "output_type": "stream",
     "text": [
      "[200]\ttrain-rmse:11.33014+0.07950\ttest-rmse:11.96458+0.36236\n"
     ]
    },
    {
     "name": "stdout",
     "output_type": "stream",
     "text": [
      "[250]\ttrain-rmse:11.13937+0.07809\ttest-rmse:11.90514+0.35493\n"
     ]
    },
    {
     "name": "stdout",
     "output_type": "stream",
     "text": [
      "[300]\ttrain-rmse:10.97562+0.07927\ttest-rmse:11.86978+0.34304\n"
     ]
    },
    {
     "name": "stdout",
     "output_type": "stream",
     "text": [
      "[350]\ttrain-rmse:10.82876+0.07843\ttest-rmse:11.85176+0.33702\n"
     ]
    },
    {
     "name": "stdout",
     "output_type": "stream",
     "text": [
      "[400]\ttrain-rmse:10.69529+0.07710\ttest-rmse:11.83836+0.33196\n"
     ]
    },
    {
     "name": "stdout",
     "output_type": "stream",
     "text": [
      "[450]\ttrain-rmse:10.56946+0.07820\ttest-rmse:11.83212+0.32607\n"
     ]
    },
    {
     "name": "stdout",
     "output_type": "stream",
     "text": [
      "[500]\ttrain-rmse:10.44993+0.07882\ttest-rmse:11.82611+0.32143\n"
     ]
    },
    {
     "name": "stdout",
     "output_type": "stream",
     "text": [
      "[550]\ttrain-rmse:10.33652+0.07756\ttest-rmse:11.82152+0.31703\n"
     ]
    },
    {
     "name": "stdout",
     "output_type": "stream",
     "text": [
      "[577]\ttrain-rmse:10.27822+0.07785\ttest-rmse:11.82167+0.31626\n"
     ]
    },
    {
     "name": "stderr",
     "output_type": "stream",
     "text": [
      "\r",
      "100%|█████████████████████████████████████████████████████████████████████████████████████████████████████████████████████████████████████████████████████████████████████████████████████████████████████████████████████████████| 10/10 [03:39<00:00, 23.15s/it]"
     ]
    },
    {
     "name": "stderr",
     "output_type": "stream",
     "text": [
      "\r",
      "100%|█████████████████████████████████████████████████████████████████████████████████████████████████████████████████████████████████████████████████████████████████████████████████████████████████████████████████████████████| 10/10 [03:39<00:00, 21.92s/it]"
     ]
    },
    {
     "name": "stderr",
     "output_type": "stream",
     "text": [
      "\n"
     ]
    }
   ],
   "source": [
    "if param.get(\"eval_metric\", \"mae\") == \"rmse\":\n",
    "    score_key = \"test-rmse-mean\"\n",
    "    ylabel = \"Test RMSE Mean\"\n",
    "    title = \"Learning Curve: Test RMSE vs Boosting Rounds\"\n",
    "elif param.get(\"eval_metric\", \"mae\") == \"mae\":\n",
    "    score_key = \"test-mae-mean\"\n",
    "    ylabel = \"Test MAE Mean\"\n",
    "    title = \"Learning Curve: Test MAE vs Boosting Rounds\"\n",
    "elif param.get(\"eval_metric\", \"mae\") == \"logloss\":\n",
    "    score_key = \"test-logloss-mean\"\n",
    "    ylabel = \"Test Logloss Mean\"\n",
    "    title = \"Learning Curve: Test Logloss vs Boosting Rounds\"\n",
    "\n",
    "\n",
    "for i in tqdm(range(repeat_cv), leave=True, dynamic_ncols=True): \n",
    "    cv_result = xgb.cv(\n",
    "        params=param,\n",
    "        dtrain=dtrain,\n",
    "        obj=cauchyobj,\n",
    "        num_boost_round=num_boost_round,\n",
    "        folds=KFold(n_splits=folds_splits, shuffle=True, random_state=i),\n",
    "        early_stopping_rounds=early_stopping_rounds,\n",
    "        verbose_eval=50\n",
    "    )\n",
    "    \"\"\"\n",
    "    train-mae-mean: 各fold における訓練データの MAE の平均値。\n",
    "    train-mae-std: 訓練データの MAE の標準偏差。\n",
    "    test-mae-mean: 各fold における検証データの MAE の平均値。\n",
    "    test-mae-std: 検証データの MAE の標準偏差。\n",
    "    \"\"\"\n",
    "    xgb_cv.append(cv_result)\n",
    "    \n",
    "\n",
    "\n",
    "\n",
    "# 各 repeater ごとの最適ブーストラウンド数と検証MAE\n",
    "iteration_counts = [np.argmin(cv[score_key].values) for cv in xgb_cv]\n",
    "val_mae = [np.min(cv[score_key].values) for cv in xgb_cv]\n",
    "\n",
    "mean_iteration = np.mean(iteration_counts)\n",
    "mean_val_mae = np.mean(val_mae)\n",
    "min_val_mae = np.min(val_mae)\n",
    "results.append(f\"mean_iteration: {mean_iteration}\")\n",
    "results.append(f\"mean_val_{param['eval_metric']}: {mean_val_mae}\")\n",
    "results.append(f\"min_val_{param['eval_metric']}: {min_val_mae}\")\n",
    "results.append(\"\")\n",
    "\n",
    "###\n",
    "plt.figure(figsize=(10, 6))\n",
    "for i, cv_result in enumerate(xgb_cv):\n",
    "    rounds = np.arange(len(cv_result[score_key]))\n",
    "    plt.plot(rounds, cv_result[score_key], label=f\"CV repeater {i+1}\")\n",
    "    \n",
    "plt.xlabel(\"Boosting Round\")\n",
    "plt.ylabel(ylabel)\n",
    "plt.title(title)\n",
    "plt.legend()\n",
    "plt.grid(True)\n",
    "\n",
    "plt.savefig(os.path.join(OUTPUT_PATH, f\"learning_curve_{PREDICT_YEAR}.png\"))\n",
    "plt.close()\n",
    "###\n"
   ]
  },
  {
   "cell_type": "code",
   "execution_count": 22,
   "id": "9e6148cc",
   "metadata": {
    "execution": {
     "iopub.execute_input": "2025-03-14T07:49:16.191775Z",
     "iopub.status.busy": "2025-03-14T07:49:16.191775Z",
     "iopub.status.idle": "2025-03-14T07:49:16.201402Z",
     "shell.execute_reply": "2025-03-14T07:49:16.201402Z"
    },
    "papermill": {
     "duration": 0.061089,
     "end_time": "2025-03-14T07:49:16.201402",
     "exception": false,
     "start_time": "2025-03-14T07:49:16.140313",
     "status": "completed"
    },
    "tags": []
   },
   "outputs": [
    {
     "name": "stdout",
     "output_type": "stream",
     "text": [
      "最適ブーストラウンド数: [459, 508, 493, 565, 549, 460, 504, 515, 579, 553]\n",
      "test-rmse-mean: [11.861194890697178, 11.844820757541312, 11.803168020379482, 11.793645221445114, 11.813219174849229, 11.798515156809618, 11.837483551856, 11.880636808943649, 11.854606752236752, 11.820498843595724]\n"
     ]
    }
   ],
   "source": [
    "print(\"最適ブーストラウンド数:\", iteration_counts)\n",
    "print(f\"{score_key}:\", val_mae)\n",
    "results.append(f\"最適ブーストラウンド: {iteration_counts}\")\n",
    "results.append(f\"{score_key}: {val_mae}\")\n",
    "results.append(\"\")"
   ]
  },
  {
   "cell_type": "code",
   "execution_count": 23,
   "id": "71745422",
   "metadata": {
    "execution": {
     "iopub.execute_input": "2025-03-14T07:49:16.229786Z",
     "iopub.status.busy": "2025-03-14T07:49:16.229786Z",
     "iopub.status.idle": "2025-03-14T07:52:28.180599Z",
     "shell.execute_reply": "2025-03-14T07:52:28.180599Z"
    },
    "papermill": {
     "duration": 191.990072,
     "end_time": "2025-03-14T07:52:28.205960",
     "exception": false,
     "start_time": "2025-03-14T07:49:16.215888",
     "status": "completed"
    },
    "tags": []
   },
   "outputs": [
    {
     "name": "stderr",
     "output_type": "stream",
     "text": [
      "\r",
      "  0%|                                                                                                                                                                                                                                      | 0/10 [00:00<?, ?it/s]"
     ]
    },
    {
     "name": "stderr",
     "output_type": "stream",
     "text": [
      "C:\\Users\\81809\\AppData\\Local\\Temp\\ipykernel_25064\\3386215446.py:18: FutureWarning: Setting an item of incompatible dtype is deprecated and will raise an error in a future version of pandas. Value '[ 2.12978420e+01  2.51910090e-02  1.73076725e+01  6.70399427e+00\n",
      " -5.92294455e+00 -1.77057385e+00  6.94547272e+00  7.61184216e+00\n",
      "  2.39255009e+01  2.39310193e+00  1.09400702e+01  7.10011673e+00\n",
      "  7.07239723e+00  7.49146605e+00 -4.17856884e+00  2.09582367e+01\n",
      " -2.08864737e+00  5.95873117e+00  1.00243053e+01  2.55980015e+00\n",
      "  3.74303985e+00  3.18355346e+00 -5.02600968e-01 -1.01068568e+00\n",
      "  5.81251669e+00  5.68017530e+00  3.66031456e+00  1.69689484e+01\n",
      "  4.60389328e+00 -6.58546972e+00 -3.63028860e+00  5.06303263e+00\n",
      "  6.01009727e-01  2.05739975e+01  7.97823191e+00 -6.58686495e+00\n",
      " -1.96004748e+00  7.41598034e+00  4.47943163e+00  4.34059620e+00\n",
      "  9.15358424e-01  8.79259491e+00 -4.69374275e+00  1.41055832e+01\n",
      "  3.96024966e+00  5.32586765e+00 -1.21281118e+01  2.98154306e+00\n",
      "  1.48388710e+01 -8.15152824e-01  2.16370869e+01 -1.01174557e+00\n",
      "  5.22975826e+00  4.94195080e+00 -3.62951350e+00  7.34835434e+00\n",
      "  2.21838665e+00  5.82947350e+00  1.45436394e+00  9.95616627e+00\n",
      " -5.70928860e+00 -1.44903970e+00  1.08289123e+00  2.26697407e+01\n",
      " -1.61535478e+00  8.05504608e+00  2.95916843e+00 -5.31287098e+00\n",
      "  1.14361401e+01 -2.64532089e+00  4.58327675e+00  2.38637047e+01\n",
      " -5.07759333e+00 -2.93681717e+00  2.86770868e+00  6.32228947e+00\n",
      " -2.90138030e+00  6.25500727e+00  1.66281967e+01  2.05745277e+01\n",
      "  2.86177659e+00 -4.71691418e+00  1.35121274e+00 -7.79412448e-01\n",
      "  4.91555840e-01  3.89604282e+00  1.83790445e+00 -1.06014366e+01\n",
      " -3.30550146e+00 -2.55365014e+00  9.20453167e+00  6.54659653e+00\n",
      "  3.79581451e+00  1.84894884e+00 -3.02893734e+00  1.76968079e+01\n",
      "  2.11577797e+00  5.11720896e+00  2.08837719e+01 -1.84762347e+00\n",
      " -4.24779844e+00  1.48138657e+01  1.90371284e+01  1.24281378e+01\n",
      "  4.17136192e+00 -5.65525579e+00 -8.66429687e-01  1.20912991e+01\n",
      "  5.76014900e+00 -4.01712418e+00  9.52766955e-01 -4.80822277e+00\n",
      "  6.64552069e+00 -5.43473291e+00 -1.54547052e+01  4.29675245e+00\n",
      "  7.67800331e-01  4.74323258e-02  2.09765315e+00  3.49510360e+00\n",
      "  3.28009796e+00  1.38445032e+00  1.01470137e+01  1.08940802e+01\n",
      "  7.22417259e+00  5.64705753e+00  1.17474051e+01 -3.02868271e+00\n",
      " -2.06988049e+00  2.64034438e+00  1.92734299e+01 -2.76737928e+00\n",
      "  1.24025879e+01 -1.38813553e+01 -7.71662235e+00  1.44257956e+01\n",
      "  2.00034904e+00  8.16593456e+00  7.10206699e+00 -2.55018711e+00\n",
      "  1.20154881e+00 -4.40076399e+00  8.09792328e+00  4.59424448e+00\n",
      "  2.52004838e+00 -1.10156941e+00  1.05538921e+01  7.72806883e-01\n",
      "  6.03482723e+00 -2.37585092e+00  3.29989123e+00  1.16052222e+00\n",
      "  2.00866070e+01  1.62468796e+01  9.17409134e+00  4.46501970e+00\n",
      "  5.11571217e+00  2.62796068e+00 -8.57015133e-01  1.62343538e+00\n",
      "  7.38207638e-01  3.64640623e-01  9.79978085e+00  1.39911957e+01\n",
      " -1.74731147e+00  3.05560255e+00 -2.73686916e-01  3.86477661e+00\n",
      "  1.41648221e+00  3.08645749e+00  7.51355267e+00  1.42368937e+00\n",
      " -2.92783570e+00  2.62552202e-01  5.79404688e+00  1.04745626e+00\n",
      "  1.85948467e+01  3.16091704e+00  6.00795984e+00  3.26297832e+00\n",
      " -1.41122067e+00  4.22891283e+00  8.54900265e+00 -8.35382938e+00\n",
      "  3.65103865e+00  2.05884228e+01  1.16460352e+01 -4.90292132e-01\n",
      "  1.56237936e+00  6.69168091e+00  3.45879149e+00  1.43529234e+01\n",
      " -5.04908204e-01  3.73434663e+00  7.46241856e+00  5.93496180e+00\n",
      "  2.47611380e+00  9.59768009e+00  1.56402893e+01  1.18043833e+01\n",
      "  2.14320993e+00 -2.33955345e+01  5.79897404e+00  4.06623173e+00\n",
      "  6.91654110e+00  4.58969975e+00  5.01162481e+00  4.43218136e+00\n",
      "  4.76196051e+00  2.36457920e+00  1.89033642e+01  1.01254139e+01\n",
      "  2.96586494e+01  4.27650757e+01  2.60048103e+01  2.40693512e+01\n",
      "  2.01194916e+01  2.31622791e+01  8.61480904e+00 -2.99278408e-01\n",
      "  1.34869089e+01  5.00226545e+00 -4.88415337e+00  4.35302258e+00\n",
      "  1.98678112e+01  2.42160454e+01  8.73861027e+00  2.23328075e+01\n",
      "  1.26777363e+01  1.04328384e+01  8.47930527e+00  1.07062569e+01\n",
      " -2.91642737e+00  3.32962074e+01  1.46283102e+01  4.11764193e+00\n",
      "  3.52352600e+01  4.54759312e+00 -2.73846364e+00  2.14733906e+01\n",
      "  2.69933987e+00  1.21352739e+01  1.57039585e+01  4.33416176e+00\n",
      "  3.76802063e+00  1.12667522e+01  1.97395649e+01  3.53662949e+01\n",
      "  1.38195753e+01 -1.65699053e+00 -1.93877876e+00  2.03167009e+00\n",
      " -1.39134674e+01  6.49578905e+00  1.44721279e+01 -7.62383580e-01\n",
      "  2.34488621e+01  4.46920471e+01 -3.52850962e+00  2.07686234e+00\n",
      "  1.50523214e+01  1.51439404e+00 -5.19842815e+00  8.31558418e+00\n",
      "  2.64977741e+01  1.24126606e+01  9.17934132e+00  4.86570168e+00\n",
      " -1.91162097e+00  2.51915526e+00  2.81997089e+01  1.09259081e+01\n",
      "  1.70625458e+01  1.49870596e+01 -1.02546101e+01  1.45040398e+01\n",
      "  1.11543770e+01  3.30472898e+00 -5.12632132e+00  3.50096250e+00\n",
      "  2.32585430e+00  2.45799112e+00  3.78740997e+01  1.40988045e+01\n",
      "  3.48873558e+01  3.44978180e+01 -1.08730137e+00  2.95142288e+01\n",
      " -3.70020151e-01 -1.58242512e+00  6.92400599e+00  1.28764191e+01\n",
      "  1.30304260e+01  1.39842834e+01  8.59543514e+00  4.28236294e+00\n",
      "  1.18809319e+01 -3.13284469e+00  9.70515919e+00 -4.01548004e+00\n",
      "  1.86931248e+01  2.66346626e+01  1.13929167e+01 -3.10685188e-01\n",
      " -1.87954843e+00  1.83991468e+00  9.13592148e+00 -2.10260563e+01\n",
      " -1.14658308e+01 -1.11197290e+01  1.47944283e+00  4.30526543e+00\n",
      "  7.79412365e+00  9.40293980e+00  3.13917847e+01  1.63334618e+01\n",
      "  4.14759493e+00  3.86191101e+01 -2.25989032e+00  1.13941250e+01\n",
      "  5.32464457e+00  2.86738801e+00  3.09851766e+00  1.77821612e+00\n",
      "  2.88394666e+00  4.63442278e+00 -4.31696367e+00  6.98615408e+00\n",
      " -4.88400072e-01  7.13846064e+00 -5.24226570e+00  2.06306210e+01\n",
      "  1.36281281e+01 -1.15097475e+01  2.14123917e+01 -7.86093950e+00\n",
      "  9.03691724e-03  8.96236610e+00 -3.60945868e+00 -1.14749384e+01\n",
      " -2.13959980e+00 -2.27608185e+01 -1.70907841e+01 -7.82883596e+00\n",
      " -4.46449900e+00  3.31635356e+00 -5.57643127e+00  1.45214534e+00\n",
      " -3.73781395e+00 -3.69694281e+00 -5.39875650e+00  5.95977688e+00\n",
      " -7.63778400e+00 -3.54367495e+00 -1.83317013e+01  1.80373132e+00\n",
      "  4.06045723e+00 -6.20263433e+00 -4.18821573e+00  2.37956953e+00\n",
      "  5.97832394e+00 -3.30871820e+00 -7.14106846e+00 -3.99397182e+00\n",
      " -1.76566672e+00 -1.94990313e+00 -2.22659874e+01 -6.36886716e-01\n",
      "  1.52125287e+00 -6.00961828e+00 -5.22685432e+00 -5.92127609e+00\n",
      " -8.49838543e+00 -5.69081831e+00 -3.12251115e+00 -5.77608585e+00\n",
      "  3.21611136e-01 -5.44595098e+00  3.12256098e-01  1.78946555e+00\n",
      " -1.07239971e+01 -7.18155575e+00 -6.17333126e+00 -2.89553571e+00\n",
      " -9.76563072e+00 -4.45132399e+00 -1.67605686e+01 -2.52534122e+01\n",
      " -3.50467110e+00 -1.81462307e+01 -2.64247394e+00 -6.46555233e+00\n",
      " -2.66965294e+00 -3.07191563e+00 -8.74983978e+00 -1.40642762e-01\n",
      " -7.13559723e+00 -2.45099850e+01  3.45121455e+00 -2.13736115e+01\n",
      " -6.43040180e+00 -1.15063877e+01  4.37684965e+00  3.11270833e+00\n",
      " -8.58246803e+00  3.14700317e+00 -4.22561693e+00 -5.48207283e+00\n",
      " -4.26334810e+00 -5.53778648e+00 -9.84781456e+00 -1.50917053e+00\n",
      "  3.41976643e+00  5.31983972e-01 -1.09634008e+01 -6.20251083e+00\n",
      "  2.97891307e+00  2.32581568e+00  1.00618303e+00 -7.47869444e+00\n",
      " -3.35194969e+00  6.48741245e+00 -1.11406450e+01  3.15391684e+00\n",
      " -9.94550228e+00 -3.08136415e+00 -8.70655727e+00 -4.58706903e+00\n",
      " -1.66668820e+00 -1.13882799e+01 -3.55225396e+00 -2.14488163e+01\n",
      " -1.54059038e+01 -2.43880033e+00 -1.22151649e+00 -2.05034471e+00\n",
      " -2.49623084e+00 -2.35158134e+00  1.53028980e-01  1.90961850e+00\n",
      " -1.21963859e+00 -3.01238861e+01 -4.33234739e+00 -9.73591042e+00\n",
      " -8.38015652e+00  2.57029247e+00  1.58961117e+00 -6.44554663e+00\n",
      " -1.21389723e+00  1.67783058e+00 -7.30148196e-01 -8.45631218e+00\n",
      "  1.62400460e+00  6.95832729e+00 -7.11208999e-01 -8.14083004e+00\n",
      " -7.16432393e-01 -1.42215853e+01 -1.27864037e+01 -3.39058161e+00\n",
      " -3.85479063e-01 -2.58889484e+00 -2.12632632e+00 -7.10583925e+00\n",
      " -1.60030117e+01 -8.72689724e+00 -2.72903562e+00  3.61328697e+00\n",
      " -7.54458618e+00 -2.30673866e+01 -2.09929626e-02 -2.81262136e+00\n",
      " -4.19128656e+00  3.83331823e+00  7.55765152e+00 -5.85854948e-01\n",
      "  9.53669071e-01  2.31105018e+00  1.49006331e+00 -1.36791077e+01\n",
      " -8.01611805e+00 -1.78279686e+01 -4.74787807e+00 -3.52044392e+00\n",
      "  1.26233494e+00 -1.13221121e+01  2.39970255e+00 -1.23839617e+00\n",
      " -2.51829948e+01 -2.54657001e+01 -1.69813194e+01 -4.62121820e+00\n",
      " -2.99761033e+00 -4.74594641e+00  5.46814427e-02 -9.10047150e+00\n",
      " -7.46418858e+00 -2.26912379e+00 -2.17307186e+00  2.34750915e+00\n",
      " -1.64642353e+01 -1.49837673e+00  3.19418263e+00 -6.81215334e+00\n",
      "  7.92383099e+00 -6.29551888e+00  5.61995697e+00 -6.84014177e+00\n",
      " -1.65707932e+01 -1.49770288e+01 -3.32345676e+00  6.71059132e+00\n",
      " -1.00754652e+01 -3.23315430e+00 -7.29930997e-01  2.11854839e+00\n",
      " -1.58018351e+01 -4.21863526e-01 -1.75037117e+01 -2.68065572e+00\n",
      " -5.69404364e+00 -4.93651962e+00 -3.71616793e+00 -1.00426936e+00\n",
      " -1.45279160e+01  6.96819723e-01  5.11159277e+00  4.30375338e+00\n",
      " -1.07145472e+01  1.00560057e+00 -2.52923965e+00 -4.96176910e+00\n",
      " -3.82729173e+00 -4.41291285e+00 -3.13062906e+00  5.05431890e+00\n",
      " -1.97703819e+01 -3.64048729e+01 -3.56555533e+00 -4.56256199e+00\n",
      " -4.63349104e+00  3.38812590e+00 -1.19898987e+01 -2.89264240e+01\n",
      " -6.50405502e+00  4.04705620e+00  2.23570609e+00 -3.50129204e+01\n",
      " -3.81512337e+01  2.38162732e+00 -3.77172375e+00 -2.45615559e+01\n",
      "  6.88537264e+00 -2.36279163e+01 -3.53827381e+00 -1.58346939e+00\n",
      " -9.20024776e+00 -2.90219650e+01 -3.39372754e-01 -1.63224983e+01\n",
      " -1.76622581e+01 -5.46374893e+00 -4.07411528e+00  4.13919401e+00\n",
      " -3.96800575e+01  5.01273811e-01 -5.37942886e+00 -1.31522112e+01\n",
      "  8.40696049e+00  2.79825544e+00  5.82099152e+00 -1.02153463e+01\n",
      " -3.95117497e+00 -1.66090736e+01 -8.67561817e+00 -8.03984451e+00\n",
      " -3.24803376e+00  2.72418571e+00  5.25261974e+00 -3.17533245e+01\n",
      " -1.10681705e+01 -2.47739100e+00  1.16127777e+01 -3.06471825e+01\n",
      " -4.49660444e+00 -9.22690773e+00 -1.68141127e+00  5.32630253e+00\n",
      " -2.53540254e+00 -2.58115482e+00  6.97741222e+00  3.36888838e+00\n",
      " -1.40514460e+01 -1.03639898e+01 -3.48283234e+01 -6.32465792e+00\n",
      " -2.36376934e+01 -2.87637405e+01 -8.58278561e+00 -1.67880783e+01\n",
      " -1.20859289e+01 -3.22587371e+00 -3.84563370e+01 -2.98900414e+01\n",
      " -1.40063572e+01 -4.68193388e+00 -5.96001148e+00 -3.22621193e+01\n",
      " -9.26469040e+00  8.64620018e+00 -1.24006786e+01 -2.95860147e+00\n",
      " -7.02131510e+00 -1.23020010e+01 -8.30559444e+00 -2.58026218e+01\n",
      " -2.61549149e+01  3.19988227e+00 -4.52335978e+00 -8.35735512e+00\n",
      " -2.50697327e+01 -3.30268550e+00 -2.87170391e+01  1.12234802e+01\n",
      " -2.28814077e+00  8.27250481e+00  2.78022695e+00 -2.69699268e+01\n",
      " -4.44661999e+00 -2.91795025e+01 -1.54297180e+01 -9.43732357e+00\n",
      "  2.46975994e+00  4.60819721e+00 -2.64738846e+01  4.51245546e+00\n",
      " -1.30052423e+01 -1.39512920e+00 -3.37523766e+01 -1.31911469e+01\n",
      "  1.84303665e+01  5.51042366e+00 -1.35552073e+01 -1.46748428e+01\n",
      " -4.45656729e+00  8.93523598e+00]' has dtype incompatible with int64, please explicitly cast to a compatible dtype first.\n",
      "  preds[val_index] = model.predict(dval_i)\n"
     ]
    },
    {
     "name": "stderr",
     "output_type": "stream",
     "text": [
      "\r",
      " 10%|██████████████████████▏                                                                                                                                                                                                       | 1/10 [00:17<02:33, 17.06s/it]"
     ]
    },
    {
     "name": "stderr",
     "output_type": "stream",
     "text": [
      "C:\\Users\\81809\\AppData\\Local\\Temp\\ipykernel_25064\\3386215446.py:18: FutureWarning: Setting an item of incompatible dtype is deprecated and will raise an error in a future version of pandas. Value '[-7.51127720e+00  6.71785176e-01  1.52641840e+01 -1.05076671e+00\n",
      "  6.70410538e+00  5.06880236e+00  2.16657753e+01 -2.19585109e+00\n",
      "  1.30728846e+01  7.23589039e+00 -3.71091485e+00 -5.10443926e+00\n",
      "  5.85718012e+00  8.37976551e+00 -3.38173938e+00  2.36871662e+01\n",
      "  4.67107594e-02  2.96913934e+00  1.10704117e+01  9.47737026e+00\n",
      "  8.68296814e+00  4.66351700e+00  6.93879938e+00  4.10393953e+00\n",
      " -6.41956568e+00  3.07779384e+00  8.83143997e+00 -2.26890922e+00\n",
      "  2.42814503e+01  1.63525562e+01  1.28817139e+01  4.03520727e+00\n",
      "  6.28474808e+00 -2.79689217e+00  7.00191021e+00  6.02377748e+00\n",
      " -3.61447001e+00  6.55800760e-01  8.72491932e+00  2.27241840e+01\n",
      "  1.21875591e+01  1.18611345e+01  1.72416782e+01  7.85342550e+00\n",
      "  1.68717480e+01  6.20886660e+00  5.95983171e+00  6.32357311e+00\n",
      " -3.47707152e-01  6.29841185e+00  1.28679943e+00 -1.35285378e+00\n",
      "  1.62451041e+00  6.61313725e+00  8.98321342e+00  2.41674366e+01\n",
      "  6.56725645e+00  1.38156816e-01  9.75393295e+00  7.97158718e+00\n",
      "  5.28945160e+00  6.90124464e+00 -1.93836927e+00 -4.19151163e+00\n",
      " -1.33376825e+00  1.95391846e+00 -1.08902907e+00  3.07619452e-01\n",
      "  2.07523956e+01  1.16561441e+01  3.16894948e-01  2.79613247e+01\n",
      "  1.42304153e+01  4.22909021e+00  2.00791206e+01 -7.50676441e+00\n",
      "  5.29353333e+00  5.89257336e+00  3.86370826e+00  3.67385054e+00\n",
      "  2.67844349e-01  1.12111591e-01  1.76758881e+01  7.61604452e+00\n",
      " -2.79382110e+00 -1.10834284e+01  4.21294212e+00  9.55882072e+00\n",
      "  2.58880734e+00  1.32940519e+00  2.61079311e+00 -5.16505194e+00\n",
      " -3.05632854e+00  1.82360840e+01 -3.70259380e+00 -1.91308248e+00\n",
      " -1.95028460e+00  1.40575018e+01  1.13101234e+01  1.43033648e+01\n",
      "  4.37445593e+00 -5.77231264e+00  1.29356947e+01  9.11771965e+00\n",
      "  1.11618481e+01  3.04058361e+00  9.37470722e+00 -5.30672193e-01\n",
      "  1.73852768e+01 -2.59658575e+00  2.11810036e+01 -2.78062749e+00\n",
      "  1.00748360e+00  1.42021847e+01  1.91483231e+01 -2.77529240e+00\n",
      "  2.43210888e+00 -3.40965915e+00 -9.09449196e+00 -6.51383686e+00\n",
      "  2.37877345e+00  1.39656532e+00  6.27450764e-01 -1.71153128e+00\n",
      " -3.16215920e+00  8.08556736e-01 -5.71046019e+00  6.38547421e+00\n",
      "  3.40078759e+00  3.02605133e+01  7.43857431e+00  2.71704884e+01\n",
      "  5.07348633e+00 -1.68840873e+00  9.72551441e+00 -8.01691246e+00\n",
      " -5.53840828e+00  1.59010661e+00 -6.90152979e+00 -6.82774484e-01\n",
      "  5.97977018e+00 -1.24918866e+00  2.24142647e+01  1.61563225e+01\n",
      "  2.75315595e+00  7.13274837e-01 -2.66025114e+00  1.01233685e+00\n",
      " -2.60931343e-01 -1.78115875e-01 -2.65608025e+00 -5.13212264e-01\n",
      "  2.55505967e+00 -6.06886101e+00 -1.44740570e+00  3.99793339e+00\n",
      "  2.12150993e+01  6.22081518e-01  3.27496791e+00  6.66511154e+00\n",
      " -7.63415766e+00  2.79256558e+00 -7.26465583e-01 -3.82131982e+00\n",
      " -4.04133177e+00  1.32434785e+00  3.08692436e+01  2.21212506e+00\n",
      "  6.40638494e+00 -3.27069330e+00  4.05692756e-01  1.19851637e+01\n",
      "  1.97003517e+01  9.88206100e+00  4.08321476e+00  2.00654730e-01\n",
      "  1.26497087e+01 -6.25695562e+00 -1.96576080e+01 -5.41120768e+00\n",
      "  5.03777790e+00  6.94968128e+00 -2.35498333e+00  7.57305717e+00\n",
      "  2.11582890e+01  1.00093775e+01  4.59315270e-01  2.41505013e+01\n",
      "  2.64693826e-01  9.08973694e+00  2.37577076e+01 -1.45313990e+00\n",
      " -1.79413438e+00  4.79754448e+00  1.51700270e+00  4.57101393e+00\n",
      " -4.40584850e+00  1.67769444e+00 -8.14003849e+00  6.20969892e-01\n",
      "  3.90573931e+00 -3.57884502e+00  2.16106949e+01 -1.58699945e-01\n",
      "  1.50327234e+01  1.56330309e+01  1.67634697e+01 -3.48843575e+00\n",
      "  2.04435081e+01  2.73489666e+00 -9.78292847e+00 -1.15700731e+01\n",
      "  1.14283381e+01  1.66892529e+00 -3.88002813e-01 -3.83711147e+00\n",
      "  5.06105280e+00  5.62264442e+00  3.47622919e+00  2.04571781e+01\n",
      " -2.45291066e+00  1.73262501e+00  6.22257566e+00  2.06447124e+01\n",
      " -3.11825204e+00  1.74707353e+00  1.88405247e+01  2.83275738e+01\n",
      " -8.51135445e+00 -3.20940924e+00  8.82010555e+00  2.75781307e+01\n",
      "  3.80466766e+01 -2.79170799e+00  4.92222691e+00  2.18706379e+01\n",
      "  6.27690458e+00  2.20388927e+01 -7.19141674e+00 -6.77943993e+00\n",
      "  6.49208450e+00  9.30566311e+00  6.23444700e+00 -7.74720478e+00\n",
      "  2.28576984e+01  5.21137416e-01 -5.73442507e+00  1.25188446e+01\n",
      "  1.42258441e+00  3.66030216e+00  1.22244282e+01 -1.09678326e+01\n",
      "  1.66555729e+01  2.20756016e+01  1.41401386e+00  7.02277231e+00\n",
      "  1.00847301e+01  8.99328613e+00  3.32205582e+01  2.33083153e+01\n",
      "  6.43265009e+00 -8.21950150e+00  3.36049500e+01  1.40460320e+01\n",
      "  3.11665177e+00  8.08857250e+00  2.07409821e+01  4.59063644e+01\n",
      "  2.14135532e+01 -4.58901691e+00  3.13133698e+01  1.27822256e+01\n",
      "  3.53132057e+01  1.14241705e+01  2.88711739e+00  4.04812193e+00\n",
      "  1.07123508e+01  8.10712719e+00  3.78595996e+00  2.43607788e+01\n",
      "  2.96624699e+01  7.97035027e+00  7.71956778e+00  3.23291326e+00\n",
      "  2.73486462e+01 -4.42092514e+00  1.03030577e+01  2.59776459e+01\n",
      " -3.79795849e-01  2.47585130e+00 -3.92767310e-01  1.34914112e+01\n",
      "  3.20388947e+01  3.59260654e+00  1.74431629e+01  8.44710350e+00\n",
      "  2.59742451e+01  2.45525926e-01 -6.40266895e+00  2.57808495e+00\n",
      "  6.37883282e+00  1.20624933e+01  2.87269831e+00  2.56807828e+00\n",
      " -1.17827969e+01  1.60202003e+00 -3.53554296e+00 -7.74007368e+00\n",
      " -2.47486567e+00  3.19497895e+00 -2.20532799e+00  4.05733414e+01\n",
      "  2.58538952e+01  6.87728882e+00  5.76250601e+00 -4.19177818e+00\n",
      "  6.15835524e+00  2.28970013e+01 -5.06955910e+00  1.82645512e+01\n",
      "  1.86250710e+00 -1.19356041e+01 -1.27266788e+01  2.87269001e+01\n",
      "  4.92565346e+00  6.88839579e+00  1.22862396e+01 -1.14681625e+01\n",
      "  4.51691961e+00 -1.66673908e+01 -2.29756508e+01  3.01855206e+00\n",
      " -1.54877567e+00 -3.14811170e-01 -7.60847425e+00  3.89100981e+00\n",
      " -6.63645840e+00  4.16047239e+00 -6.50794029e+00 -5.87921762e+00\n",
      " -1.25900298e-01  9.06933784e+00  2.03040290e+00  2.68686604e+00\n",
      " -2.27365627e+01 -2.58110638e+01 -2.13656330e+01 -6.34028244e+00\n",
      " -1.27520251e+00 -9.88180518e-01 -6.90103626e+00 -3.24211049e+00\n",
      " -2.18700051e+00 -2.10662580e+00 -4.66110140e-01 -4.33954775e-01\n",
      "  4.70135880e+00 -6.82716417e+00 -3.11526954e-01 -1.01470299e+01\n",
      " -8.59792423e+00 -1.88900089e+01 -1.38648567e+01  1.24040818e+00\n",
      "  2.95831728e+00  7.50338554e+00 -1.53324242e+01  3.40080500e+00\n",
      "  6.97038937e+00 -3.74751508e-01 -2.60195422e+00  1.49143958e+00\n",
      "  7.40622091e+00 -5.32272673e+00  1.57251787e+00 -7.94241047e+00\n",
      " -2.11852288e+00 -2.22493668e+01 -4.99938059e+00  8.01143169e-01\n",
      "  4.50814104e+00  3.65429282e+00 -8.35837460e+00 -6.73220778e+00\n",
      "  2.08486247e+00  2.97558045e+00  2.46685445e-01 -5.87801981e+00\n",
      " -1.30734053e+01 -6.62568283e+00 -8.09214783e+00  2.32908988e+00\n",
      " -6.65338469e+00 -5.59722662e+00 -6.36699152e+00 -1.65666282e+00\n",
      "  3.82331282e-01 -1.21344585e+01 -2.91289082e+01  1.80648637e+00\n",
      " -3.64279127e+00 -2.45597839e+01 -3.34192419e+00 -3.37606120e+00\n",
      " -1.22406826e+01  1.53074932e+00 -2.48331547e+01 -2.08284607e+01\n",
      "  1.80420804e+00 -6.34372056e-01  6.85937285e-01  1.58973634e+00\n",
      " -7.07105827e+00  1.49272804e+01 -2.95591068e+01  2.82910538e+00\n",
      " -1.58081503e+01 -4.56660175e+00 -1.68408442e+00  5.16580343e+00\n",
      " -1.15007982e+01 -4.30574179e+00  1.85209501e+00  2.99577266e-01\n",
      " -5.93966603e-01  1.02544451e+00 -2.53747535e+00 -1.98779571e+00\n",
      "  5.56356716e+00 -3.47193193e+00  1.01955776e+01  5.91994286e+00\n",
      "  4.25781345e+00  1.44619923e+01 -9.87905562e-02  2.91644192e+00\n",
      "  2.44399190e+00 -2.99715958e+01 -7.33417463e+00 -7.37643242e+00\n",
      "  1.33076358e+00  1.94044685e+00 -2.83895612e+00  6.05420649e-01\n",
      " -4.33684111e+00 -1.07543993e+01 -1.72575355e-01  2.35810208e+00\n",
      " -4.93095160e+00 -1.21245518e+01 -2.90115404e+00 -2.49726605e+00\n",
      " -7.42557812e+00 -1.54380693e+01 -4.32547951e+00  7.36365938e+00\n",
      " -8.66097152e-01  1.99235177e+00 -1.01787148e+01  4.92049837e+00\n",
      "  6.07340097e+00  9.59631860e-01 -9.01187420e+00  2.28142786e+00\n",
      " -2.27795238e+01 -3.77505803e+00 -4.05394173e+00 -2.28524265e+01\n",
      " -1.01151304e+01 -9.91690099e-01 -3.70844173e+00  1.05295658e+00\n",
      "  4.31428385e+00 -2.25533142e+01 -2.29354744e+01 -4.13530684e+00\n",
      " -6.20503426e+00 -3.96880484e+00 -1.34313142e+00 -4.25610256e+00\n",
      " -4.23724270e+00  2.69017673e+00  6.41693652e-01 -2.28094654e+01\n",
      "  2.71335864e+00 -5.14546156e-01 -2.87908840e+00  1.04037392e+00\n",
      "  3.81779283e-01 -1.97198677e+01 -2.02680759e+01 -4.13517809e+00\n",
      "  2.09025919e-01 -1.28796816e+01 -3.42931485e+00  2.44304252e+00\n",
      " -1.84100783e+00  1.58067918e+00 -5.16291142e-01 -5.77719927e+00\n",
      " -1.74350536e+00 -5.14742279e+00 -1.38421977e+00 -3.58897424e+00\n",
      " -4.07675505e+00 -3.22156930e+00  9.18974821e-03 -1.18258727e+00\n",
      "  2.73755836e+00  4.95475483e+00 -8.65140438e+00 -4.72046423e+00\n",
      " -2.32380829e+01 -4.60578108e+00 -1.80274887e+01 -2.28287563e+01\n",
      "  5.87723494e+00  7.22821236e+00 -7.98605394e+00 -6.35077763e+00\n",
      "  4.79316378e+00 -1.11307535e+01 -2.50925016e+00 -5.26152253e-01\n",
      " -1.63864613e+01 -6.74656248e+00  3.10303617e+00 -1.04416199e+01\n",
      " -2.42056007e+01  5.11929655e+00  2.91918898e+00  1.23488927e+00\n",
      "  1.63082159e+00 -5.80843306e+00 -2.53567934e+00 -2.92833004e+01\n",
      " -4.47638626e+01 -2.86477070e+01 -2.40233841e+01 -2.29451489e+00\n",
      " -7.15486813e+00 -1.82168140e+01 -2.70832062e+00 -1.37648833e+00\n",
      " -1.89008121e+01 -4.79382992e+00 -1.73673325e+01 -2.61485176e+01\n",
      " -8.48908365e-01 -3.13277507e+00 -1.40505762e+01 -2.67085972e+01\n",
      "  4.36723328e+00 -6.75796509e+00  5.68381500e+00 -1.12190123e+01\n",
      " -1.85175743e+01 -3.03592968e+01 -1.01051731e+01 -2.09760165e+00\n",
      " -1.28045998e+01  3.33000302e-01 -7.30005360e+00  4.27225542e+00\n",
      " -6.49828148e+00 -3.05222034e+01 -1.06692543e+01 -1.56285248e+01\n",
      " -3.33310776e+01 -4.38010550e+00  3.82023692e+00 -2.19218903e+01\n",
      " -1.41193304e+01 -9.23237038e+00 -3.86124086e+00 -8.55573463e+00\n",
      "  6.90988398e+00 -2.35430360e+00  1.97416365e+00 -3.20200386e+01\n",
      " -2.85498371e+01 -4.23482056e+01  4.58384180e+00 -1.15823507e+00\n",
      " -1.48723078e+01 -2.27450991e+00 -1.00223503e+01 -1.57930374e+01\n",
      " -4.44556522e+00 -1.05386763e+01 -6.81367016e+00 -1.25299740e+00\n",
      " -2.98140240e+00 -1.08263569e+01 -2.21248035e+01  3.97960997e+00\n",
      " -3.38730850e+01 -8.85102749e+00  8.48473358e+00 -3.15862885e+01\n",
      "  6.59559250e+00 -1.74732094e+01 -7.52347422e+00 -3.16240978e+01\n",
      " -2.58382568e+01 -5.58757544e+00  2.74362779e+00 -1.24726973e+01\n",
      "  3.08072782e+00 -4.00151443e+00 -1.41521215e+01 -4.60229540e+00\n",
      " -7.71962777e-02  1.23214829e+00 -1.82853203e+01 -8.45139122e+00\n",
      " -2.03415375e+01  1.04977481e-01 -1.12972193e+01 -5.12929869e+00\n",
      " -6.44965839e+00  9.40299749e-01 -1.35275145e+01 -1.82474937e+01\n",
      " -2.33793163e+00 -1.67360554e+01 -5.13583183e+00 -3.60570526e+00\n",
      " -7.63948774e+00 -2.60613384e+01 -9.05626202e+00  2.40058804e+01\n",
      "  1.24139776e+01 -6.76073885e+00 -3.73973083e+01 -9.29850960e+00\n",
      " -2.52671528e+01 -7.18196201e+00 -2.51355305e+01  5.30877256e+00\n",
      " -1.75893726e+01 -9.83372593e+00 -1.19665928e+01 -1.04175119e+01\n",
      " -1.13000450e+01 -1.68139803e+00]' has dtype incompatible with int64, please explicitly cast to a compatible dtype first.\n",
      "  preds[val_index] = model.predict(dval_i)\n"
     ]
    },
    {
     "name": "stderr",
     "output_type": "stream",
     "text": [
      "\r",
      " 20%|████████████████████████████████████████████▍                                                                                                                                                                                 | 2/10 [00:35<02:23, 17.94s/it]"
     ]
    },
    {
     "name": "stderr",
     "output_type": "stream",
     "text": [
      "C:\\Users\\81809\\AppData\\Local\\Temp\\ipykernel_25064\\3386215446.py:18: FutureWarning: Setting an item of incompatible dtype is deprecated and will raise an error in a future version of pandas. Value '[ 7.02957511e-01 -5.60274744e+00 -5.92920923e+00 -1.90607071e-01\n",
      "  7.75473070e+00 -1.07122827e+00  5.31760216e+00  8.71213627e+00\n",
      "  3.07121491e+00 -1.02296960e+00 -3.75786853e+00  2.59212914e+01\n",
      "  2.14132042e+01 -3.30016494e-01  2.32964497e+01  2.52603168e+01\n",
      "  5.25202847e+00  1.04329805e+01  6.88148403e+00 -9.02289581e+00\n",
      "  5.10839224e+00  6.31003952e+00  8.88914204e+00  7.02424049e+00\n",
      "  2.21401763e+00  4.52416849e+00  7.63266039e+00  1.16307652e+00\n",
      " -6.80377531e+00 -4.43532705e+00 -3.02351207e-01  1.05730534e+01\n",
      "  9.89324856e+00  2.79184103e+00  2.51039314e+01 -1.78593850e+00\n",
      "  3.73304319e+00  2.86150856e+01  2.52013040e+00  5.30156231e+00\n",
      "  3.90463543e+00 -6.97494078e+00  5.51388407e+00 -1.91702202e-01\n",
      "  2.28930473e+00  7.48185492e+00 -4.63897371e+00 -5.96009827e+00\n",
      "  6.50727606e+00 -9.18465519e+00  5.20846844e+00  5.76542616e+00\n",
      "  7.06714153e+00 -2.04174280e+00  7.78441048e+00 -6.04604304e-01\n",
      "  4.93549681e+00  1.82369328e+01  5.45194197e+00 -7.36935377e-01\n",
      "  2.15839100e+01 -3.52422738e+00  2.25535679e+00  2.58783970e+01\n",
      "  6.51980305e+00  7.38906240e+00  6.60171556e+00  1.63903534e+00\n",
      "  2.47878242e+00  3.08542538e+00 -1.69161224e+00  2.45012684e+01\n",
      "  8.50184345e+00  4.61583197e-01  5.05630350e+00  1.51330786e+01\n",
      "  2.82195735e+00  1.74464970e+01 -7.11901712e+00  1.92344415e+00\n",
      "  4.89482546e+00  6.68622589e+00 -5.01324463e+00 -8.77552181e-02\n",
      "  1.47543821e+01 -5.07476234e+00  2.75267582e+01 -3.74345213e-01\n",
      " -1.10323143e+00  1.44368477e+01  6.67205000e+00  2.38136787e+01\n",
      "  2.78275996e-01 -6.68115330e+00  1.02801332e+01  8.75903225e+00\n",
      "  3.51229119e+00 -2.47701073e+00  1.69360495e+00  4.43474674e+00\n",
      "  1.82679641e+00  1.96098137e+01 -3.37955785e+00  7.92704058e+00\n",
      "  1.99634171e+01  5.38378894e-01  2.33281326e+01  4.86996603e+00\n",
      "  4.72771692e+00 -3.39859915e+00  8.67327881e+00 -5.32864141e+00\n",
      " -1.26625979e+00  8.14933479e-01 -7.35878885e-01 -7.10233831e+00\n",
      " -6.71017617e-02  5.66501188e+00 -7.70333648e-01  6.77970266e+00\n",
      "  2.53349171e+01  2.41732264e+00  1.13410788e+01 -1.42799842e+00\n",
      "  1.40846705e+00 -5.66203594e+00 -1.42425132e+00  1.74071395e+00\n",
      " -3.40562284e-01  3.24880689e-01 -1.51949034e+01  1.02755861e+01\n",
      "  1.17450838e+01  2.17105331e+01 -4.97413588e+00  2.47096177e-02\n",
      "  6.30943584e+00 -5.89422560e+00  1.00481379e+00 -2.56731319e+00\n",
      "  1.71511126e+00  1.77079220e+01  1.14701042e+01  1.59255838e+00\n",
      "  2.77085209e+00 -1.61523414e+00  3.78702593e+00 -6.68056631e+00\n",
      "  3.84192419e+00  1.34524097e+01 -1.64630055e+00  2.57291675e+00\n",
      " -1.35611367e+00  2.22113819e+01  2.64587641e+00  1.91760135e+00\n",
      "  3.01115513e+01  3.90531707e+00  3.88442326e+00  8.80693817e+00\n",
      "  2.10034907e-01  8.20984268e+00 -2.17878342e+00  2.37011480e+00\n",
      "  3.74547625e+00  5.52273655e+00  1.31451187e+01  2.61098499e+01\n",
      "  5.56645107e+00  6.08925390e+00 -3.62321544e+00  7.33247900e+00\n",
      "  2.46024036e+00  3.49693894e+00  1.33189178e+00  2.35265236e+01\n",
      "  2.70584404e-01  5.70197964e+00 -7.85732079e+00  3.11835456e+00\n",
      " -5.94606733e+00 -1.44526196e+00 -8.90518379e+00  6.25575542e+00\n",
      "  7.36578465e+00  3.35770130e+00 -2.26836753e+00  2.84015727e+00\n",
      " -5.34127019e-02 -5.67557955e+00  4.40304136e+00  3.06842079e+01\n",
      "  3.05970135e+01  4.49851265e+01  2.92826595e+01  1.83523540e+01\n",
      " -3.54121208e+00  3.63148403e+00  1.54844880e-01  1.37503939e+01\n",
      "  9.82982254e+00 -1.12879791e+01  7.79631376e+00  1.83822727e+00\n",
      "  9.62249279e+00  2.88873081e+01  5.36651373e-01  3.92362862e+01\n",
      "  8.44512939e+00 -9.19896984e+00  1.79714260e+01  1.03659153e+01\n",
      "  1.35690765e+01  1.68527451e+01  2.62846470e+01  1.74504833e+01\n",
      "  3.56571889e+00  3.82924247e+00  3.60553627e+01 -3.62109852e+00\n",
      "  1.26226387e+01  1.06279373e+01  2.45607147e+01  1.59671888e+01\n",
      "  1.86807728e+01  1.31698446e+01  1.66725016e+00 -4.51847506e+00\n",
      "  2.30603371e+01 -4.64161968e+00 -1.17423844e+00  2.85831127e+01\n",
      " -2.42365503e+00  1.26579952e+01  5.72166890e-02  9.46562481e+00\n",
      " -8.34000778e+00  2.60411797e+01  1.07787247e+01 -2.18079777e+01\n",
      "  3.24937172e+01  1.41763191e+01 -1.93787432e+00 -6.34161711e+00\n",
      "  3.38864636e+00  2.51876783e+00  1.57323713e+01  1.45741701e+01\n",
      "  1.25727081e+00  7.37297964e+00  5.05453300e+00  8.56292152e+00\n",
      "  3.90728531e+01  7.57278824e+00 -3.68560529e+00 -1.84004104e+00\n",
      "  8.96858501e+00  1.25310421e+01  3.11165929e+00  2.39358158e+01\n",
      "  3.00126343e+01 -7.46526432e+00  8.57665730e+00  7.36150551e+00\n",
      "  2.93915749e+01 -8.55068111e+00  2.95820975e+00  3.38950706e+00\n",
      "  1.18387518e+01  9.43400621e-01 -7.52229643e+00 -3.31072736e+00\n",
      "  3.59672737e+01  3.16449585e+01  1.42249966e+01  2.40979958e+00\n",
      " -1.36791420e+00  9.67628860e+00  1.81598186e+01  3.02295074e+01\n",
      " -4.56561327e+00 -1.15612183e+01 -1.05440121e+01  2.76068268e+01\n",
      " -8.51269627e+00  7.29816008e+00  2.42475891e+01  9.13919735e+00\n",
      "  2.67228413e+01  2.81403713e+01  7.44926977e+00 -1.04753062e-01\n",
      " -2.47109985e+01  5.14296341e+00 -1.17042100e+00  5.14971399e+00\n",
      "  1.54637709e+01 -4.92506838e+00  3.79099388e+01  8.48993301e+00\n",
      "  2.12988071e+01  2.66234150e+01  1.22401533e+01  1.53136253e+01\n",
      " -1.98632145e+00  9.53661633e+00  1.61735058e-01 -3.83415794e+00\n",
      "  3.06233168e+00 -9.77784157e+00 -2.23620663e+01 -7.38691616e+00\n",
      " -1.77488155e+01 -1.81363506e+01 -6.60256529e+00  4.24659872e+00\n",
      "  5.92262888e+00 -5.95051336e+00 -8.62214851e+00  2.52168107e+00\n",
      " -6.48299932e+00 -5.26680231e+00 -5.84648752e+00 -4.17497665e-01\n",
      " -4.84751844e+00 -2.07763958e+01  9.60114861e+00 -4.43669653e+00\n",
      " -3.86667180e+00 -7.04354668e+00 -2.51912087e-01 -9.70673466e+00\n",
      " -7.21182823e+00 -7.35854959e+00 -1.49200952e+00 -1.13613045e+00\n",
      " -4.32794237e+00 -1.58709307e+01  9.93113220e-01 -1.93511333e+01\n",
      "  1.25851860e+01 -7.31137466e+00 -1.19155378e+01 -3.25388145e+00\n",
      " -1.46638947e+01 -5.85846424e+00  7.56983471e+00 -4.73816872e+00\n",
      "  3.19471073e+00 -6.12305403e+00 -2.35441256e+00 -7.75862789e+00\n",
      " -8.61938858e+00 -1.88562691e+00 -2.79267883e+00  6.58031368e+00\n",
      "  2.74403286e+00 -1.59848280e+01 -6.53249836e+00  1.99463809e+00\n",
      " -1.02440720e+01 -1.41450024e+01 -2.72166300e+00 -5.16008282e+00\n",
      "  4.50104523e+00 -3.45031649e-01 -2.16447163e+00 -3.39683247e+00\n",
      " -2.73911171e+01 -1.07246094e+01  3.33053398e+00  7.19459474e-01\n",
      " -1.38708210e+01  9.92119491e-01  1.11445498e+00 -3.30164051e+00\n",
      "  1.84530199e+00 -2.63361263e+00 -7.34842062e+00 -4.08121014e+00\n",
      " -2.19625309e-01 -1.76430187e+01 -3.53158641e+00 -4.66742456e-01\n",
      " -3.39316726e+00 -1.82615223e+01 -5.29876375e+00 -1.20367098e+00\n",
      " -1.23014956e+01 -5.71158123e+00 -7.26233184e-01  6.34438217e-01\n",
      " -2.22445526e+01 -2.48378706e+00  4.14906073e+00  5.48287964e+00\n",
      " -2.88471198e+00 -2.30052166e+01  3.96978140e+00 -5.55444384e+00\n",
      " -1.12171774e+01 -4.68574524e+00 -1.16620226e+01  2.60335624e-01\n",
      "  2.33199096e+00  3.66059685e+00 -2.53230721e-01 -4.01261997e+00\n",
      "  1.70478129e+00  6.56864345e-02  2.46163440e+00  1.90912807e+00\n",
      " -1.42947302e+01 -1.02889967e+01 -7.70392609e+00  7.40754747e+00\n",
      "  8.10074687e-01 -8.32567334e-01 -2.93821692e+00 -1.18661022e+01\n",
      "  1.66659260e+00 -2.24905567e+01  3.86332726e+00 -5.36355734e+00\n",
      " -1.22421300e+00 -2.00894594e+00  3.25788784e+00  9.21842384e+00\n",
      " -1.20363712e+00 -7.15420866e+00 -1.62781370e+00  1.60072479e+01\n",
      " -2.54076689e-01 -2.86759892e+01 -7.67420340e+00 -7.73324251e+00\n",
      "  1.87580395e+00 -1.85114861e+01  9.12757397e+00 -6.86960042e-01\n",
      " -1.20418224e+01 -1.10505295e+01 -2.91292048e+00 -2.35341573e+00\n",
      " -2.12765503e+01  1.50108843e+01 -2.89358139e+00  1.61499929e+00\n",
      " -1.29791040e+01  1.17208939e+01  3.84583616e+00 -1.70366840e+01\n",
      "  2.60048181e-01 -1.03434000e+01 -5.40512085e+00 -6.12121105e+00\n",
      "  3.37472892e+00 -2.92702889e+00 -2.05693378e+01 -4.37700796e+00\n",
      " -2.17316895e+01 -4.69804287e+00 -4.87003803e+00 -4.11726046e+00\n",
      " -1.05998135e+00  1.76653576e+00  3.04294735e-01 -8.19125175e+00\n",
      " -4.37415034e-01 -4.76085091e+00 -9.79907894e+00 -2.55936646e+00\n",
      "  6.97668552e-01 -8.81144524e+00  6.92309737e-01 -5.18321514e+00\n",
      " -3.67303348e+00 -7.09742486e-01  2.01613641e+00  2.57309318e+00\n",
      "  3.30149978e-01 -2.32596321e+01 -7.90574598e+00  4.89896679e+00\n",
      "  3.74177694e+00 -2.77150798e+00 -1.77565975e+01 -1.82168651e+00\n",
      " -5.09024477e+00 -7.83474731e+00  1.75768280e+00  2.55479872e-01\n",
      " -1.93518848e+01 -6.84311152e+00 -2.88087559e+00 -1.40038843e+01\n",
      " -2.07646255e+01 -2.49508877e+01 -2.04689350e+01  1.28535771e+00\n",
      " -4.31530285e+00  5.12162018e+00 -5.31690407e+00 -2.59959865e+00\n",
      "  7.09245205e+00  2.29765749e+00  1.26362348e+00 -3.32835460e+00\n",
      " -2.29419765e+01 -8.33459377e+00  3.01883340e+00  4.67402428e-01\n",
      " -2.16256309e+00 -3.14577127e+00  4.41856194e+00 -7.96561018e-02\n",
      "  2.90611005e+00  7.97614288e+00  2.84621930e+00 -9.12717724e+00\n",
      " -2.25148749e+00  4.18245971e-01 -1.16986513e+01 -2.76860085e+01\n",
      " -1.44041853e+01  5.26249790e+00 -1.95574570e+00  1.84901786e+00\n",
      " -1.70969067e+01 -1.42573175e+01  2.86828303e+00 -2.59920406e+01\n",
      "  2.24929857e+00 -2.13378124e+01 -2.25004139e+01 -8.42439079e+00\n",
      " -3.49760780e+01 -1.45542431e+01 -3.48988419e+01 -2.07021465e+01\n",
      " -6.06281471e+00  2.01170301e+00  1.05368156e+01  6.05970144e+00\n",
      " -3.37231026e+01 -2.44538193e+01 -1.10336590e+01 -3.22828560e+01\n",
      "  1.51463213e+01 -7.50823545e+00 -2.32575111e+01 -6.23937511e+00\n",
      " -5.88953543e+00 -1.36135368e+01  3.95695877e+00 -1.36506023e+01\n",
      " -2.94697857e+01  2.07543746e-01 -3.92347312e+00 -2.15256729e+01\n",
      " -9.96062183e+00 -2.66509953e+01 -1.17134676e+01 -1.92739162e+01\n",
      "  1.31248903e+01 -1.74203243e+01 -3.26606979e+01 -7.82472944e+00\n",
      " -3.80138946e+00 -6.43382978e+00  5.73033619e+00 -2.44798923e+00\n",
      " -8.12366009e+00 -2.95382729e+01  6.71053171e-01 -1.14690418e+01\n",
      " -4.11594810e+01 -1.96210289e+00 -1.52150965e+01 -1.80262482e+00\n",
      "  3.02133489e+00 -1.70810223e+01  3.98433638e+00 -3.17697124e+01\n",
      "  6.04472780e+00 -1.86641598e+00 -1.36388521e+01 -4.34462500e+00\n",
      " -1.24857082e+01 -6.07216644e+00 -2.43692994e+00 -2.23171177e+01\n",
      " -1.05564175e+01 -5.05610466e+00  2.61276078e+00  8.20123100e+00\n",
      " -9.14361382e+00 -7.07690048e+00 -2.24914227e+01  3.19030619e+00\n",
      "  8.27467346e+00  2.37277436e+00 -5.50205994e+00 -6.48529053e+00\n",
      "  9.16120720e+00  9.17982280e-01 -9.43847847e+00 -4.59318924e+01\n",
      "  4.15232325e+00 -2.96320877e+01  5.56866074e+00 -1.31517639e+01\n",
      " -2.79438171e+01 -4.06162834e+00 -8.99250031e+00  1.17992468e+01\n",
      " -1.41384706e+01 -1.84926968e+01 -8.82109737e+00 -2.52300663e+01\n",
      " -3.08707981e+01 -8.31629467e+00 -4.01741314e+00  9.47539151e-01\n",
      " -2.87464485e+01 -1.96964798e+01 -2.35287228e+01 -2.65563345e+00\n",
      " -5.10235691e+00 -3.81161118e+00 -1.01443548e+01 -7.20404291e+00\n",
      " -4.66639280e+00  9.37733650e+00 -2.91959724e+01  1.07394838e+01\n",
      " -7.93572426e+00 -5.61188602e+00  3.53656363e+00 -3.83592758e+01\n",
      " -7.55708790e+00 -2.43846378e+01 -1.20255208e+00  4.51484251e+00\n",
      " -1.54419527e+01 -4.75291157e+00]' has dtype incompatible with int64, please explicitly cast to a compatible dtype first.\n",
      "  preds[val_index] = model.predict(dval_i)\n"
     ]
    },
    {
     "name": "stderr",
     "output_type": "stream",
     "text": [
      "\r",
      " 30%|██████████████████████████████████████████████████████████████████▌                                                                                                                                                           | 3/10 [00:53<02:06, 18.05s/it]"
     ]
    },
    {
     "name": "stderr",
     "output_type": "stream",
     "text": [
      "C:\\Users\\81809\\AppData\\Local\\Temp\\ipykernel_25064\\3386215446.py:18: FutureWarning: Setting an item of incompatible dtype is deprecated and will raise an error in a future version of pandas. Value '[ 1.9296216e+00 -8.3788776e+00  4.7678986e+00  1.4807888e+01\n",
      "  2.1528837e+01  8.3665819e+00  4.1563964e+00 -2.2834427e+00\n",
      "  2.3744147e+00  6.1687005e-01 -2.4622362e+00 -2.7491949e+00\n",
      "  3.8883090e-02 -1.6262257e+00 -4.6875477e+00  2.0158787e+01\n",
      " -2.4310374e+00 -1.2166886e+00  2.0949713e+01  1.2070020e+00\n",
      "  6.6741834e+00  2.8731523e+00  6.6187209e-01  5.0868368e+00\n",
      " -4.6611099e+00  9.2336016e+00 -2.0411962e-01 -3.9979310e+00\n",
      "  3.3450859e+00  5.5994081e+00  6.8027532e-01  1.6204897e+01\n",
      "  3.9557662e+00  3.3253129e+00 -7.1822292e-01  7.5312848e+00\n",
      "  2.8381100e-01  1.7903246e+01  2.5274615e+00 -7.1773295e+00\n",
      "  6.8939047e+00 -2.5236847e-02  8.5240564e+00  5.0939698e+00\n",
      " -6.2051015e+00  6.5779252e+00  2.4520526e+00 -8.5993834e+00\n",
      " -1.9457966e+00 -1.3671627e+00  2.0265383e+01  8.0828196e-01\n",
      "  1.1997532e+00 -2.7812681e+00  6.9479895e+00  2.4587731e+00\n",
      " -2.7373357e+00 -8.4164959e-01  2.3943626e+01  1.3244627e+01\n",
      " -3.7802467e+00  1.8357974e-01  2.4170498e+01 -2.1285267e+00\n",
      "  2.9705470e+00 -7.9690695e-01  9.6139956e-01  9.9720252e-01\n",
      " -3.2421882e+00 -6.4634478e-01  2.1061453e+01 -2.4622478e+00\n",
      "  7.6540785e+00  6.5923209e+00  1.8259691e-01 -2.5512991e+00\n",
      "  4.5200562e+00 -1.8086224e+00  2.2224379e+00 -9.8931694e+00\n",
      "  1.6159063e+01  3.3451428e+00  8.2128754e+00  1.1366785e+01\n",
      " -1.5167277e+00  5.4185600e+00  3.9327307e+00 -2.9099302e+00\n",
      "  2.5620407e+01  1.3186434e+01 -1.1027777e+01 -5.2835932e+00\n",
      "  1.7264706e+01 -3.1118152e+00 -2.0215950e+00  5.7651749e+00\n",
      " -7.5732195e-01  1.1084354e+01  5.8510652e+00 -1.6587249e+00\n",
      " -2.2620704e+00  3.7715864e+00  2.2439693e+01  1.5801468e+01\n",
      " -1.5089402e+01 -2.8647175e-01 -2.9991198e+00  1.1260341e+01\n",
      " -1.6684887e+00  4.6784930e+00  7.8186622e+00  6.6945691e+00\n",
      "  1.4794426e+01  4.7273154e+00  1.1009425e+00  2.9793668e+00\n",
      " -2.6537020e+00  1.4183163e+01  1.8145060e+01  5.0041251e+00\n",
      "  6.7389989e+00  9.6728125e+00 -2.7834215e+00  6.3289633e+00\n",
      " -6.4559793e+00  1.8745271e+00  1.1167260e+01 -6.7402120e+00\n",
      "  6.9812136e+00  7.5754189e+00  3.8661790e+00  9.1475191e+00\n",
      "  9.4242229e+00  1.7561689e+01  1.3125741e+01  1.0464936e+01\n",
      "  6.8515527e-01 -4.3695183e+00  6.6364064e+00 -4.2880006e+00\n",
      " -4.5445776e+00  2.2552921e+01  9.6844835e+00 -1.6007713e+00\n",
      " -4.1192417e+00  5.7419796e+00  5.6893177e+00 -6.3693643e-01\n",
      "  6.3290496e+00 -1.5142269e+00  2.3444796e+01  3.7178550e+00\n",
      "  1.5234686e+01 -1.0402598e+01 -4.4965715e+00 -8.2686758e-01\n",
      " -7.2516418e+00  2.3027251e+00  2.1378582e+00  6.7357745e+00\n",
      "  6.6084962e+00 -1.1436326e+01  8.0676556e-01  1.4707223e+00\n",
      "  5.7610989e+00  3.6099057e+00  9.2660370e+00  3.1254561e+00\n",
      "  2.0849397e+00 -2.7602644e+00  3.6190808e+00 -6.4244056e+00\n",
      " -1.7132120e+01 -4.4427218e+00  3.5082702e-02  1.7548725e+01\n",
      "  2.8901296e+00 -3.1137512e+00  5.0681167e+00  3.3750637e+00\n",
      " -1.9275540e+00 -9.7703135e-01 -3.6594172e+00 -4.6685629e+00\n",
      "  2.5205299e+01  2.5168445e+00  2.3278708e+01 -5.9219017e+00\n",
      "  2.3280926e+00  5.2591314e+00 -4.0834532e+00 -3.3963518e+00\n",
      "  1.9103244e-01  7.5187030e+00  1.4943291e+01  1.4029509e+00\n",
      " -1.6353217e-01  1.6597557e+01 -2.2268402e+01 -2.7693818e+00\n",
      " -1.0685245e+01  1.3499347e+01  3.0494056e+00 -3.4983444e+00\n",
      "  3.8434188e+00  3.8601692e+00  2.4624743e+00  3.2790344e+00\n",
      "  9.7607431e+00  1.0386567e+01  3.6269662e+00  3.0076906e+01\n",
      "  3.0115158e+01  3.9865396e+00  9.4316635e+00 -2.2951281e+00\n",
      "  3.7263626e+01  2.2698448e+00  1.6605799e+01  1.1352702e+01\n",
      " -4.1057339e+00 -1.3932574e+00  1.5653013e+00  3.7400692e+01\n",
      "  1.3115588e+01  2.4810865e+01  3.6147842e+01  6.0376139e+00\n",
      "  5.2011973e-01  7.2189431e+00 -8.2224665e+00  4.4401870e+00\n",
      "  3.8479562e+00  2.8441742e+01  1.0675372e+01  1.8345678e+01\n",
      " -2.6246977e-01 -6.7558346e+00  1.5646634e+00 -1.5147047e+01\n",
      "  3.6814003e+01  1.1906772e+01 -1.2566115e+00  2.0079908e+00\n",
      "  2.6394712e+01  1.9530603e+01  1.9982397e+01  5.2104831e+00\n",
      " -2.7254665e+00 -4.3068466e+00  2.0961288e+01  1.4187444e+01\n",
      "  3.0498213e+01  3.3390141e+00  8.1533213e+00  2.3860588e+01\n",
      "  4.4810143e+00 -1.2707184e+01  1.3376623e+01 -2.2902460e+00\n",
      "  3.2289782e+00 -4.9052024e+00  2.4564936e+01 -3.4248805e+00\n",
      "  2.9011637e+01  1.2598808e+01  4.3254843e+00  3.7535145e+00\n",
      "  1.7135682e+00  1.1522021e+01  3.4899342e+01  1.5582014e+01\n",
      "  6.0168419e+00  1.4751492e+01  3.5055012e+01  2.4512732e-02\n",
      "  6.7343769e+00 -8.1035633e+00  2.5132046e+00 -3.0013363e+00\n",
      "  1.3144022e+01  1.4070017e+01  2.1841108e+01 -2.8967443e+00\n",
      " -1.3177073e+01 -8.1717901e+00  3.4904206e+00 -8.1624632e+00\n",
      "  1.6972187e+00  2.1300007e+01  5.2851586e+00 -1.2245197e+01\n",
      "  2.7193365e+00  7.9727230e+00 -1.5191200e+00  6.2976427e+00\n",
      "  2.0079466e+01 -8.7235155e+00 -1.1786657e+01  3.7765221e+01\n",
      "  7.2404232e+00 -5.0800691e+00  2.9959648e+01  1.1676329e+01\n",
      "  2.1756762e+01  1.3766841e+01  3.9402382e+00 -2.7256167e+00\n",
      " -1.3213658e+01  3.8155437e-01 -6.4732985e+00 -1.2473827e+01\n",
      " -3.4463863e+00 -1.2272777e+01 -1.5379638e+01 -9.3965940e+00\n",
      " -7.5051098e+00 -8.0481319e+00 -6.8008099e+00 -6.0659437e+00\n",
      "  4.5485878e+00 -6.6061907e+00  3.7126617e+00  2.1852357e+00\n",
      "  1.7173826e+00 -2.3326696e+01 -2.8477511e-01 -1.3978691e+01\n",
      " -2.1157831e+01 -1.6095067e+00 -5.9736242e+00 -1.4455378e+00\n",
      "  4.9630256e+00  4.0945830e+00 -1.7573076e+00 -7.7229452e+00\n",
      " -9.0196400e+00  1.1324655e+00 -6.4311709e+00  2.0438671e+00\n",
      "  7.6480851e-02 -1.3569567e+00 -5.0715985e+00 -2.7626495e+01\n",
      " -9.9094391e+00 -6.1211438e+00 -1.5682372e+01 -2.6746075e+00\n",
      " -6.0069666e+00 -1.8541325e+01 -6.8256302e+00  2.0910542e+00\n",
      " -5.5214109e+00  6.8081975e+00 -1.8738464e+01  8.2432613e+00\n",
      " -5.8786035e+00 -2.5946478e+01 -6.1096148e+00 -6.3362175e-01\n",
      " -5.3272872e+00 -9.2546053e+00 -5.3241067e+00 -5.4161911e+00\n",
      "  3.1526065e+00 -1.2246086e+01  3.8133452e+00 -1.4334408e+01\n",
      "  1.2649364e+00 -6.1036892e+00 -5.1664538e+00 -3.1875703e+00\n",
      " -2.2535069e+01 -8.8234653e+00 -5.0740628e+00 -8.8446589e+00\n",
      " -7.2331009e+00  1.4166056e-01 -1.0153432e-03 -1.6049690e+01\n",
      " -2.7416451e+01 -3.1734574e+00 -9.9086517e-01 -1.6538734e+00\n",
      " -1.7715315e+01 -1.0165025e+00 -4.3263140e+00 -1.3409759e+00\n",
      "  1.1961645e+00 -2.4013542e+01 -1.9543655e+01  2.2682104e+00\n",
      " -1.1370364e+01  2.6724870e+00 -7.2560315e+00 -2.5590763e+00\n",
      " -5.0790687e+00 -1.1951598e+01 -5.0830445e+00 -5.6966863e+00\n",
      " -2.3850267e+01  1.5001393e+01  4.7775126e+00 -2.7337957e+01\n",
      " -1.6674070e+01 -1.5978129e+01 -1.7265783e+01 -7.3118892e+00\n",
      " -3.8652897e+00 -4.3084869e+00  8.3744297e+00 -4.5750728e+00\n",
      " -8.7333841e+00 -4.1027312e+00  6.8096673e-01  2.9317296e+00\n",
      " -4.4361600e-01 -1.2532983e+00 -1.5383497e+01  2.2434609e+00\n",
      " -1.8929002e-03  5.1075587e+00 -1.9565786e+01 -1.0988056e+01\n",
      " -2.4856641e+00 -5.3585773e+00  2.6966398e+00 -1.0889991e+01\n",
      " -1.2704273e+01 -2.5256555e+00 -5.5802298e-01 -4.7672620e-01\n",
      "  7.5625211e-02 -5.0845833e+00  8.5245669e-01  3.7575448e-01\n",
      " -4.2580194e+00 -6.1326313e+00 -9.1894875e+00 -9.8312941e+00\n",
      " -5.5833974e+00 -3.6987972e+00  3.3518869e-01 -6.5225468e+00\n",
      "  4.9566394e-01 -1.3103110e+00 -2.2716673e+01  1.4589652e+00\n",
      "  3.8692489e+00 -1.7553524e+01 -2.5348344e+00 -2.5497756e+00\n",
      "  3.2106767e+00 -2.1137156e+00 -5.0444074e+00 -5.5872865e+00\n",
      " -3.3674181e+00  4.0498505e+00  2.2489171e+00 -2.1892467e+01\n",
      "  4.1829264e-01 -4.3218050e+00 -4.2159548e+00  8.2182884e-01\n",
      " -3.6822877e+00 -2.3632457e+00  4.0039244e+00 -2.9220955e+00\n",
      " -1.5328932e+01 -1.8190206e+00 -5.6369658e+00 -5.1926380e-01\n",
      " -4.5320024e+00 -1.2573562e+01 -4.2587652e+00 -7.5048513e+00\n",
      " -2.5376146e+00 -4.9362617e+00 -1.3154666e+01 -2.2613451e+01\n",
      " -1.4216235e+01 -2.4032619e+01  4.9922743e+00 -2.6867206e+00\n",
      "  1.2420203e+01  4.9302964e+00  3.9527407e+00 -1.1401717e+01\n",
      " -5.9242826e+00  3.6518505e+00 -4.0506086e+00  4.3451543e+00\n",
      " -2.1875010e+01  7.2573215e-01 -3.8281221e+00 -1.8429693e+01\n",
      " -4.9599671e+00  2.0493107e+00 -1.2289133e-01 -2.0352018e+00\n",
      " -7.4131770e+00  6.4539676e+00 -1.1799566e+01 -4.5821695e+00\n",
      " -1.3706449e+01 -6.6236229e+00 -1.5773478e+00 -2.6003010e+01\n",
      " -1.5667516e+01  3.5229731e+00  5.0704437e-01 -3.9497883e+00\n",
      "  1.1066353e+01 -4.7582502e+00 -1.6618559e+01 -5.6970973e+00\n",
      "  3.6503813e+00 -6.0832348e+00 -5.2026620e+00 -8.5574760e+00\n",
      " -1.1112550e+01 -3.3760651e+01  2.2486947e+00 -2.3951429e+01\n",
      " -1.2595854e+01  5.2322183e+00 -1.9357084e+01 -1.4970826e+01\n",
      "  2.9001830e+00 -9.6542826e+00  1.9233053e+00 -2.6187706e+01\n",
      " -2.9720608e+01  3.9985285e+00 -3.5422054e+01 -2.6826237e+01\n",
      " -1.2047484e+01 -8.7367373e+00 -5.1002460e+00 -2.4034212e+01\n",
      " -2.3659689e+00 -1.3535125e+01  4.1296382e+00 -2.9745286e+00\n",
      " -4.3985152e+00 -6.2009567e-01 -4.4029442e+01 -9.9814504e-01\n",
      " -3.3652201e+00  6.6718102e+00 -2.0394363e+01 -2.3650700e+01\n",
      " -2.6305107e+01 -1.0970086e+01  1.6197493e+00 -9.0510359e+00\n",
      "  1.0098410e+00 -2.3783715e+00 -9.1900625e+00 -2.4029854e+01\n",
      "  1.4270540e+00 -7.7058296e+00  3.7329000e-01 -1.5401358e+01\n",
      " -1.0485111e+01 -3.9745905e+00 -4.3675404e+00 -1.2928467e+01\n",
      " -1.5011450e+01 -3.0301134e+01 -3.5498860e+00 -4.0790873e+00\n",
      " -3.1758411e+01 -3.5819294e+01 -3.8103271e+01 -7.8768473e+00\n",
      " -8.7383099e+00 -2.9164240e+01 -6.7688947e+00 -1.8154530e+01\n",
      "  2.9662392e+00 -1.6321430e+01 -1.0204271e+01  1.0201372e+01\n",
      "  2.3772752e+00  2.3790505e+00 -5.3187466e+00 -5.6893601e+00\n",
      " -1.1509124e+01 -4.1174474e-01 -1.3745711e+01 -3.4400561e+00\n",
      "  3.8399966e+00  3.8206527e+00 -6.9353228e+00  8.4199205e-02\n",
      " -7.0589809e+00 -1.5563797e+01 -1.8606216e+01 -3.5664573e+00\n",
      "  8.6349440e+00 -6.5582986e+00 -3.0179162e+00 -1.0945542e+01\n",
      " -1.0199518e+01  2.5262697e+00 -1.7345533e+01 -2.5994442e+01\n",
      "  2.5748246e+00 -4.7691522e+00  3.9796019e-01 -1.9655987e+01\n",
      " -4.9439235e+00 -5.6116505e+00 -2.0834196e+01 -2.9599319e+00\n",
      "  9.4606133e+00  1.3354558e-01 -7.3845458e+00  8.0801134e+00\n",
      " -7.7698498e+00 -2.5712955e+01 -1.9033939e+00 -2.8541727e+01\n",
      " -1.5984772e+01  4.6161742e+00 -1.8270805e+01 -5.2298870e+00\n",
      " -6.5798707e+00  8.3230505e+00 -1.8788918e+01 -2.9573702e+01\n",
      " -4.1188232e+01 -9.9705276e+00 -7.0219712e+00 -3.5590504e+01\n",
      " -3.0397709e+01 -2.8909419e+00 -2.0744463e+01  5.0908098e+00\n",
      "  8.8651915e+00 -3.5032192e+01 -2.3660419e+00 -2.8606274e+01\n",
      " -1.4244464e+01 -2.2311081e+01]' has dtype incompatible with int64, please explicitly cast to a compatible dtype first.\n",
      "  preds[val_index] = model.predict(dval_i)\n"
     ]
    },
    {
     "name": "stderr",
     "output_type": "stream",
     "text": [
      "\r",
      " 40%|████████████████████████████████████████████████████████████████████████████████████████▊                                                                                                                                     | 4/10 [01:14<01:55, 19.28s/it]"
     ]
    },
    {
     "name": "stderr",
     "output_type": "stream",
     "text": [
      "C:\\Users\\81809\\AppData\\Local\\Temp\\ipykernel_25064\\3386215446.py:18: FutureWarning: Setting an item of incompatible dtype is deprecated and will raise an error in a future version of pandas. Value '[-9.50841427e+00 -1.71527952e-01  2.18790054e+01  1.13386707e+01\n",
      "  2.22080460e+01  1.71140594e+01 -2.00048733e+00  6.25690985e+00\n",
      "  8.82177162e+00  7.71257114e+00  7.76066542e+00 -4.03230429e+00\n",
      " -3.75998116e+00  2.55396342e+00  2.49883327e+01  2.19824467e+01\n",
      " -9.84470189e-01  6.55221176e+00 -8.25058103e-01  3.45398426e+00\n",
      "  1.08902969e+01  1.84537268e+00  1.90472736e+01  2.09239159e+01\n",
      "  2.14042091e+00 -5.59592056e+00  1.18674266e+00  2.69804168e+00\n",
      "  6.93964148e+00 -5.32735777e+00  6.79802418e+00 -1.35033500e+00\n",
      "  1.90859985e+01 -1.15960324e+00 -7.24915409e+00  2.67285395e+00\n",
      "  1.75210800e+01 -6.67326069e+00  1.19725835e+00 -3.29659653e+00\n",
      "  2.59000802e+00  7.75488710e+00 -4.85253286e+00 -7.86158228e+00\n",
      " -3.03040171e+00  7.64044905e+00  6.23966217e+00  1.43457642e+01\n",
      "  5.08200645e+00  7.02429008e+00  5.97808504e+00 -4.73019934e+00\n",
      " -3.38142586e+00  5.75275660e+00 -1.29466496e+01  5.04289103e+00\n",
      "  7.76962566e+00  2.26873512e+01  2.17721405e+01  5.12206602e+00\n",
      "  5.81647348e+00  2.53425574e+00  4.40441656e+00 -1.69661951e+00\n",
      "  6.52166462e+00  5.96158504e+00 -1.71289885e+00  2.85113764e+00\n",
      "  3.33697081e+00  4.95862126e-01 -1.32905948e+00  2.73742533e+00\n",
      " -1.65897214e+00  4.73051691e+00  1.22125000e-01  2.72064610e+01\n",
      "  8.55450344e+00 -3.02124977e+00 -6.38432598e+00 -1.44299209e+00\n",
      "  1.22579775e+01  3.32785487e+00 -2.28601956e+00  2.39382195e+00\n",
      "  8.96170712e+00  1.95870841e+00  1.32163410e+01  1.56671214e+00\n",
      "  2.19572945e+01  1.11586752e+01 -1.07923594e+01 -5.95704651e+00\n",
      "  2.27879505e+01 -4.34038544e+00  5.85878897e+00  1.22366161e+01\n",
      "  3.15549088e+00  1.15103064e+01 -1.64273214e+00 -1.54413974e+00\n",
      " -4.62175518e-01  1.13385763e+01  2.28428135e+01 -8.51213074e+00\n",
      " -6.53227854e+00  1.34988270e+01 -2.56857181e+00  5.45896912e+00\n",
      "  2.67668676e+00  3.35751796e+00 -7.24660444e+00 -1.37286031e+00\n",
      "  9.76175845e-01  5.08310795e+00  7.03010976e-01  2.96083641e+00\n",
      " -1.07945995e+01  6.34083462e+00 -2.46351075e+00  3.86988312e-01\n",
      " -3.16327286e+00  6.24325371e+00  4.53240442e+00 -3.23239923e+00\n",
      "  3.60026360e+00  1.77659845e+00  6.87773991e+00  6.67122364e+00\n",
      "  1.42696342e+01  4.51433563e+00 -1.83764324e+01 -7.15028822e-01\n",
      "  2.76830626e+00  1.17916882e-01  7.38335657e+00 -3.74046969e+00\n",
      " -4.25067604e-01  4.86815453e+00  2.92995071e+01  1.28721075e+01\n",
      " -1.50693536e+00  1.69606590e+01  2.18254070e+01 -3.61658740e+00\n",
      " -7.26502037e+00  1.51760244e+01  3.22248548e-01  8.28310871e+00\n",
      "  1.73270726e+00  6.38526726e+00  5.85684204e+00 -4.06110477e+00\n",
      "  1.38224239e+01  3.02680779e+00  2.88435626e+00  1.56166708e+00\n",
      "  8.10112572e+00  2.09878750e+01  2.79886556e+00 -1.00910864e+01\n",
      "  3.91017175e+00 -7.14917660e+00 -1.24823093e+00  3.92575145e+00\n",
      " -2.93917799e+00  5.35422659e+00  1.08756256e+00  8.05538535e-01\n",
      "  3.17353320e+00  1.01854134e+01 -5.75784922e-01  7.89816236e+00\n",
      "  1.04460535e+01 -6.94369173e+00  3.20035577e+00  2.90446115e+00\n",
      "  7.32650876e-01  5.28582859e+00  4.78553104e+00  2.97055936e+00\n",
      " -2.22134233e+00  6.86716795e+00 -2.54174566e+00 -4.65123701e+00\n",
      " -5.98647690e+00  1.23903923e+01  3.55410719e+00  5.95550823e+00\n",
      " -1.68374419e+00 -1.81027114e+00  2.65733528e+01  5.66924429e+00\n",
      "  2.56666527e+01 -5.62642992e-01 -8.44102478e+00  1.41817760e+01\n",
      "  1.23514519e+01  3.70928597e+00  9.05602500e-02 -4.87385225e+00\n",
      "  1.04846897e+01  1.68798447e+01 -3.73141742e+00 -3.01248384e+00\n",
      "  5.55704308e+00  4.92846298e+00 -1.02290068e+01  4.22717810e+00\n",
      " -5.47399569e+00 -7.72065783e+00 -1.76033831e+00  2.54497385e+00\n",
      "  1.23847132e+01  1.36102009e+01 -6.65791988e+00  2.74209156e+01\n",
      "  8.16315079e+00  1.13515186e+01  4.19013834e+00  1.16492481e+01\n",
      " -5.35649061e+00  3.44374733e+01 -1.89926159e+00  1.73516769e+01\n",
      " -1.51683879e+00  2.39703407e+01  2.44837170e+01 -4.63740540e+00\n",
      " -6.27073765e+00  9.01065159e+00  1.45325356e+01  1.80361290e+01\n",
      " -8.28158188e+00 -3.95973086e+00 -3.31786799e+00  1.28684413e+00\n",
      "  7.20813274e-01  1.94133892e+01  3.66439514e+01  1.81591660e-01\n",
      "  1.87912810e+00  8.24717999e+00 -2.08928323e+00  1.96417274e+01\n",
      "  1.54356594e+01  2.01943073e+01  1.96356201e+01  1.51075191e+01\n",
      "  7.63324213e+00  7.33353496e-01  9.06948471e+00  2.35811977e+01\n",
      "  4.57440233e+00  3.86476493e+00  2.53612061e+01  6.82778692e+00\n",
      " -8.32907867e+00  2.45730076e+01  1.56894073e+01  2.08149929e+01\n",
      " -1.09215856e+00  2.23263502e+00  2.44051857e+01  8.46934319e+00\n",
      "  1.77032642e+01  1.50229192e+00 -9.78493023e+00 -4.65621740e-01\n",
      "  2.23911881e+00  2.98277321e+01  1.20669699e+01  1.62990570e+01\n",
      " -7.06508875e+00  1.29724541e+01  3.62219772e+01  1.07670317e+01\n",
      "  5.23245764e+00  1.41406364e+01 -3.72300267e+00  3.54433708e+01\n",
      "  8.84164214e-01 -1.65708005e+00  4.30093269e+01  9.41084480e+00\n",
      "  5.26675177e+00 -6.21326590e+00  5.59705448e+00  3.80499039e+01\n",
      "  4.19832277e+00  3.03185797e+00 -1.01591921e+00  1.74158325e+01\n",
      "  1.49260788e+01  2.83571701e+01  1.31856298e+01 -2.72708344e+00\n",
      " -3.94363928e+00  1.27059164e+01  2.09998550e+01 -3.26310444e+00\n",
      "  6.12237120e+00  1.01400509e+01  2.83063006e+00  2.88003597e+01\n",
      "  1.74735050e+01  6.72288036e+00  1.29333668e+01  4.10829496e+00\n",
      "  1.45231533e+01  6.13051462e+00  6.85695028e+00 -4.07669592e+00\n",
      " -4.08260822e+00  9.38322449e+00  1.38531590e+01  3.75239730e+00\n",
      "  1.57338171e+01  2.34665680e+00 -1.67042756e+00  2.47599745e+00\n",
      " -9.35003102e-01 -4.14100981e+00  2.31860304e+00 -8.10067272e+00\n",
      " -8.18623352e+00 -4.22515678e+00 -1.82912235e+01 -9.43150616e+00\n",
      " -5.27278543e-01  2.88819981e+00 -6.82393169e+00 -7.04815626e+00\n",
      " -8.40341759e+00 -4.29479027e+00 -2.30196190e+00 -6.73874760e+00\n",
      " -2.00154133e+01 -4.15309715e+00 -2.65897155e+00 -8.41863060e+00\n",
      " -9.99743652e+00 -7.76137400e+00  2.20200491e+00 -4.91950607e+00\n",
      " -3.09679079e+00 -2.52717733e-01  8.59635925e+00 -7.64714384e+00\n",
      " -5.98268569e-01  3.61605024e+00 -2.75480556e+00 -1.42250681e+01\n",
      " -1.23906546e+01 -9.09867942e-01 -4.94176857e-02  1.35211492e+00\n",
      " -2.11676002e+00 -4.09215927e+00  3.93678617e+00 -5.43680334e+00\n",
      " -8.17455292e+00  3.75807953e+00 -9.00487137e+00 -2.46921110e+00\n",
      " -1.34603043e+01  2.33053041e+00 -5.52918196e+00 -1.70085263e+00\n",
      " -7.47163057e+00 -7.01032734e+00  4.76712322e+00  3.45994663e+00\n",
      " -6.79221201e+00 -5.24577236e+00 -5.64344549e+00 -5.01611948e+00\n",
      " -2.40735302e+01 -1.47711153e+01  3.57021600e-01 -7.54016542e+00\n",
      " -3.41299438e+00 -6.37275362e+00 -9.28221035e+00 -6.76328087e+00\n",
      " -1.43495595e+00  1.06501424e+00  1.33197010e-01 -1.89520435e+01\n",
      " -2.45080013e+01 -7.46974897e+00  2.21712184e+00  1.67719412e+00\n",
      "  6.79882908e+00 -1.93127823e+01 -5.18546343e+00  1.14800596e+00\n",
      " -9.23479462e+00 -1.38049974e+01  3.91937017e+00 -1.90066204e+01\n",
      " -5.16445577e-01 -6.28513575e-01 -1.43996735e+01  2.59430838e+00\n",
      " -1.82125015e+01 -1.92629683e+00  9.10717964e+00 -9.27361488e+00\n",
      "  3.07823133e+00 -1.07341785e+01 -9.46580410e+00 -5.02809954e+00\n",
      " -5.81787491e+00 -6.01509380e+00  2.17529535e+00 -6.29825974e+00\n",
      " -1.84794593e+00 -2.48713627e+01  3.85733509e+00  1.70154190e+01\n",
      "  2.27787542e+00 -1.07797661e+01 -9.99429417e+00 -5.79535007e+00\n",
      "  1.22521615e+00  1.73282266e+00 -8.64131927e+00 -4.64141512e+00\n",
      " -4.53381634e+00 -1.23973548e+00  1.19963348e+00 -1.55430782e+00\n",
      "  2.38140869e+00 -3.38644981e+00 -7.39104414e+00  1.11762059e+00\n",
      "  4.94545555e+00 -4.64206934e+00 -4.60157841e-01 -7.00841188e+00\n",
      " -2.18643284e+00 -7.82605553e+00  3.15071034e+00  1.98705254e+01\n",
      " -2.20127811e+01 -5.28453016e+00 -3.27977872e+00 -3.74697995e+00\n",
      " -1.98081589e+01 -3.70877051e+00  1.74643219e+00 -1.62387276e+01\n",
      "  4.91811657e+00  1.68589282e+00 -1.94401503e+00 -9.84459019e+00\n",
      "  5.22015238e+00 -4.52568150e+00 -5.14232397e+00  3.14957905e+00\n",
      "  6.47143841e-01 -2.54396939e+00 -7.26830101e+00 -6.86860234e-02\n",
      "  6.47060776e+00 -1.20771046e+01 -1.11165524e+00 -1.69421825e+01\n",
      " -2.48801184e+00 -3.95201230e+00 -6.19654846e+00  8.39273167e+00\n",
      "  6.73561096e+00 -3.96366382e+00 -2.68617797e+00  6.88642454e+00\n",
      " -1.46671563e-01  2.31900167e+00  5.28153229e+00 -2.62927890e+00\n",
      " -2.06825085e+01 -1.23533506e+01 -2.81152034e+00  1.26134157e+00\n",
      "  1.19072247e+01 -1.57401669e+00 -1.60052180e-01 -8.78935909e+00\n",
      " -2.55582976e+00 -6.46629238e+00 -3.40374517e+00 -2.56446052e+00\n",
      " -7.81368876e+00  4.40290153e-01 -1.34825821e+01 -2.20294342e+01\n",
      " -7.21344376e+00 -4.15583563e+00 -1.12869940e+01 -2.01413441e+01\n",
      " -2.76882672e+00 -4.06537628e+00  1.82143641e+00  9.22884750e+00\n",
      " -2.67983837e+01 -3.62883925e+00 -1.50868869e+00 -1.47235012e+01\n",
      "  4.27249372e-02 -2.17366772e+01 -2.24983559e+01  9.00368869e-01\n",
      " -7.67366219e+00 -5.33037329e+00 -4.40714693e+00 -2.77457274e-02\n",
      " -7.99268913e+00 -4.29538774e+00 -5.68564606e+00 -7.05723715e+00\n",
      "  3.34486336e-01  1.19699268e+01  2.17048321e+01 -4.94771051e+00\n",
      "  3.83950305e+00  4.48334122e+00 -5.57949972e+00 -5.32021189e+00\n",
      " -5.11796951e+00 -3.14437485e+01 -5.12395096e+00 -2.48049068e+01\n",
      " -2.94508381e+01 -4.17802191e+00 -3.67324715e+01  1.09785976e+01\n",
      " -1.20012217e+01 -1.57563581e+01  8.84967422e+00 -6.45371628e+00\n",
      " -8.99845505e+00 -2.98210468e+01 -2.54729576e+01 -2.51302452e+01\n",
      " -3.34582686e+00 -3.66244392e+01 -2.31531372e+01 -9.04784966e+00\n",
      " -3.89727855e+00 -2.20961800e+01 -2.76893482e+01 -1.50078974e+01\n",
      " -2.05425396e+01 -1.21989260e+01 -2.24625816e+01 -3.53681984e+01\n",
      "  7.67294526e-01 -3.21127558e+00 -6.87794304e+00 -4.17175961e+00\n",
      " -4.54495125e+01  3.61810613e+00 -1.83022423e+01 -9.15885353e+00\n",
      " -1.20655794e+01 -4.72073972e-01  3.80415154e+00 -2.55739236e+00\n",
      " -1.38335590e+01 -1.06382723e+01  1.23661451e+01  2.14265766e+01\n",
      " -4.01458025e+00 -8.54602158e-01 -2.01171455e+01 -1.12295008e+01\n",
      " -2.86673279e+01 -2.95808907e+01  3.14652991e+00 -1.70168152e+01\n",
      "  6.64485168e+00  1.21111917e+01 -2.97445793e+01 -1.52214375e+01\n",
      " -2.98318825e+01 -3.27228241e+01 -1.19909840e+01 -4.06803179e+00\n",
      " -3.68803711e+01 -5.47464037e+00 -3.55352631e+01  1.13330231e+01\n",
      " -1.19349489e+01 -2.32719707e+01 -2.79162178e+01 -6.16370535e+00\n",
      "  2.32639506e-01 -7.51227999e+00 -1.31895933e+01  5.15430942e-02\n",
      " -2.96827469e+01 -1.25227232e+01 -2.53637981e+01  4.97197485e+00\n",
      " -6.73285532e+00  4.80655146e+00 -3.05711007e+00 -3.05127125e+01\n",
      " -1.11565876e+00 -2.01484585e+00 -8.86210823e+00 -1.45267467e+01\n",
      "  1.30372143e+00 -6.23198366e+00 -8.87709141e+00 -2.30794835e+00\n",
      " -3.51554370e+00 -2.37059135e+01 -2.90210972e+01 -2.82306213e+01\n",
      " -1.76733131e+01 -5.28495789e+00 -2.81699772e+01 -2.03861217e+01\n",
      " -6.24735355e+00  1.20022383e+01 -5.57662010e+00 -1.03647318e+01\n",
      " -1.43308468e+01 -6.60557079e+00  2.38613796e+00  1.00728540e+01\n",
      " -4.00501823e+01  3.39910889e+00 -2.49848976e+01  3.98909712e+00\n",
      " -1.08220596e+01  1.20957279e+00 -1.19294138e+01 -3.66390228e+00\n",
      " -1.66795433e+00  2.09814186e+01 -9.29961109e+00 -1.81378574e+01\n",
      " -2.01262999e+00 -3.22103333e+00]' has dtype incompatible with int64, please explicitly cast to a compatible dtype first.\n",
      "  preds[val_index] = model.predict(dval_i)\n"
     ]
    },
    {
     "name": "stderr",
     "output_type": "stream",
     "text": [
      "\r",
      " 50%|███████████████████████████████████████████████████████████████████████████████████████████████████████████████                                                                                                               | 5/10 [01:35<01:39, 19.86s/it]"
     ]
    },
    {
     "name": "stderr",
     "output_type": "stream",
     "text": [
      "C:\\Users\\81809\\AppData\\Local\\Temp\\ipykernel_25064\\3386215446.py:18: FutureWarning: Setting an item of incompatible dtype is deprecated and will raise an error in a future version of pandas. Value '[ 2.23721743e+00  9.64261949e-01  1.37207832e+01  3.08775759e+00\n",
      " -5.78935051e+00 -1.17604397e-01  2.05661793e+01  8.18938828e+00\n",
      "  1.03896408e+01  7.23527002e+00  1.87792349e+00  5.15590143e+00\n",
      "  7.21290636e+00  2.35868301e+01  3.33487630e+00  2.17438316e+01\n",
      "  2.25385838e+01 -9.69203377e+00  2.23761439e+00  9.46358800e-01\n",
      "  9.31811094e-01 -4.57340622e+00  2.51152382e+01  2.82530308e+01\n",
      "  1.16315994e+01  4.08415556e+00 -3.52739000e+00  8.50234890e+00\n",
      "  3.29081035e+00 -1.28812480e+00 -2.77317119e+00  7.17578888e+00\n",
      "  2.53991032e+00  5.58015299e+00  1.68030434e+01  2.26976466e+00\n",
      " -2.72482812e-01  1.86665554e+01 -2.89981961e+00  5.10266066e+00\n",
      "  2.94714713e+00 -3.24167967e+00 -5.32024741e-01  7.38550806e+00\n",
      " -5.65534353e+00 -8.05117512e+00  1.73834114e+01  5.43501043e+00\n",
      "  2.31065941e+01  6.01054192e+00  2.42112017e+00  6.29182768e+00\n",
      " -1.42022765e+00 -2.03458977e+00  1.68013930e+00  1.28510408e+01\n",
      "  1.33824310e+01  7.14877510e+00  2.45206952e+00  4.11335516e+00\n",
      "  3.51895475e+00  4.67803001e+00  4.96077633e+00  6.92716551e+00\n",
      " -1.04684758e+00 -2.07504058e+00  1.77541733e+01  7.43940926e+00\n",
      "  1.11078768e+01  2.69330235e+01  3.80188227e+00  2.65561695e+01\n",
      " -9.76937485e+00  1.13717089e+01  1.05505085e+01  8.05684268e-01\n",
      "  3.68392873e+00  2.60168362e+01  7.81641912e+00  2.20765114e+01\n",
      " -1.57384646e+00  8.63582993e+00  8.20998478e+00 -1.81868291e+00\n",
      "  3.43760943e+00  1.15372772e+01  3.05974197e+00  1.08499498e+01\n",
      " -9.59967494e-01 -9.05523717e-01  2.53917007e+01 -3.77078366e+00\n",
      " -2.72495055e+00 -3.26060581e+00  2.63687286e+01  5.67151546e-01\n",
      "  1.72718639e+01  6.64264202e-01  1.16615229e+01  1.97487962e+00\n",
      " -2.92020011e+00  3.78844523e+00  1.37530959e+00  1.53886051e+01\n",
      "  1.31130772e+01  2.00263920e+01 -4.83746624e+00  7.44482183e+00\n",
      " -3.84256291e+00  9.21911240e+00  1.13128710e+01  4.24654531e+00\n",
      " -1.46740189e+01 -3.32079196e+00 -2.17386293e+00  1.03591814e+01\n",
      " -5.70777595e-01  2.94790916e+01  1.44123783e+01  3.10417914e+00\n",
      "  9.07292557e+00  8.79261303e+00  1.61863174e+01  7.42175043e-01\n",
      "  1.14857626e+01  3.74613786e+00 -6.83575988e-01  7.53345156e+00\n",
      " -1.36198545e+00  2.87477565e+00  3.55270267e+00  3.88504648e+00\n",
      "  1.48982394e+00  8.49579906e+00 -1.22050323e+01 -5.39091408e-01\n",
      " -3.17823672e+00 -5.59213591e+00  6.19322252e+00  1.52982950e+00\n",
      " -2.41542315e+00  1.57895002e+01  1.25392504e+01 -4.77293825e+00\n",
      "  1.78812885e+01  1.66415749e+01  2.29620304e+01  3.34277034e+00\n",
      "  5.69018793e+00  4.41665602e+00 -1.57867622e+00  6.79654408e+00\n",
      "  3.11821723e+00  1.26520309e+01 -6.20130062e-01  2.32271218e+00\n",
      "  9.71941054e-01 -3.55966353e+00  3.99684978e+00  2.09821186e+01\n",
      "  6.78139162e+00  5.97431087e+00  1.80739236e+00  8.91267014e+00\n",
      "  1.18514943e+00  8.53113309e-02  4.73918295e+00  6.86442327e+00\n",
      "  1.01266832e+01 -5.39762640e+00  2.24658604e+01  3.24253201e+00\n",
      "  1.23966475e+01  7.06839132e+00  6.98033905e+00 -2.56161380e+00\n",
      "  1.46632540e+00  1.08892593e+01  4.22524405e+00  2.43961391e+01\n",
      "  7.20292807e+00  9.92348576e+00  9.50853348e+00  3.26692152e+00\n",
      "  2.49740429e+01  6.57697153e+00  5.95244360e+00  5.47868967e+00\n",
      "  3.71999073e+00  9.80681133e+00  1.00499840e+01  9.47671318e+00\n",
      "  7.78725004e+00 -2.04431653e+00  1.72928982e+01 -1.56822824e+00\n",
      "  3.80356717e+00 -7.05063999e-01  4.44753933e+00  1.23599539e+01\n",
      "  3.27037010e+01 -1.71796405e+00  4.32645531e+01 -2.25006127e+00\n",
      "  1.45149775e+01 -7.18989730e-01  3.40463972e+00 -6.56765699e+00\n",
      "  8.96589184e+00  3.30995846e+00  1.41182251e+01  5.70385265e+00\n",
      " -8.06248665e+00 -2.63628197e+00  2.20347919e+01  2.32383480e+01\n",
      "  9.76475525e+00  7.29734302e-01  3.46063156e+01  3.55245972e+01\n",
      "  6.32451248e+00  2.04431076e+01  8.19689178e+00  1.39053040e+01\n",
      "  1.72945042e+01 -6.10061646e+00  1.33101997e+01  7.52514172e+00\n",
      " -5.42465210e+00 -2.04122901e+00  1.73414910e+00 -7.05097103e+00\n",
      "  1.03451385e+01  4.38675785e+00  1.88841038e+01  3.49620819e+01\n",
      "  3.60207629e+00  3.12501278e+01  3.23469353e+00  6.15843058e-01\n",
      "  1.38148083e-03  5.76233244e+00  5.53041267e+00  1.58183026e+00\n",
      " -4.90778303e+00  2.57810068e+00  1.52635069e+01  3.79391098e+00\n",
      "  9.33748436e+00  1.38185101e+01  3.18547668e+01  4.26202250e+00\n",
      " -5.20065928e+00  1.47918444e+01  2.02934017e+01  1.26706028e+01\n",
      "  6.83201742e+00  7.44866705e+00  2.59951854e+00  2.74344230e+00\n",
      "  4.32827644e+01 -4.06897593e+00  2.46342373e+01 -2.89232111e+00\n",
      " -3.03817081e+00  1.62850018e+01  3.14587536e+01  7.16472960e+00\n",
      "  1.31607933e+01  1.08144217e+01 -1.89260423e+00  7.57023382e+00\n",
      "  1.55320215e+01  3.17925091e+01  7.73654163e-01  2.77490425e+00\n",
      "  8.61832809e+00 -3.20888042e+00  8.46149826e+00  4.82590246e+00\n",
      "  4.49694786e+01 -3.36217117e+00 -2.89294362e+00 -7.29253650e-01\n",
      "  2.91920261e+01 -6.48477507e+00  2.60744495e+01  2.00134850e+01\n",
      "  4.62848806e+00 -1.26422043e+01  1.12591648e+01  1.89345016e+01\n",
      "  8.30352020e+00  2.38693762e+00  7.36390543e+00  3.54765129e+01\n",
      " -2.97420382e+00  1.35489645e+01  5.13334942e+00  1.41705074e+01\n",
      "  3.65499640e+00  4.87176847e+00  4.51209879e+00 -1.03326054e+01\n",
      " -7.82564831e+00  2.76982832e+00 -9.53121662e+00 -8.16171825e-01\n",
      "  7.80188894e+00  7.48985958e+00  2.90853462e+01  1.36315489e+01\n",
      "  2.22272034e+01  7.09729242e+00  5.39939344e-01  1.96051445e+01\n",
      "  2.32615948e+00  9.36229229e+00  2.14285393e+01  1.44360466e+01\n",
      "  1.90589256e+01 -1.72961339e-01 -5.24085331e+00 -1.51438451e+00\n",
      " -2.07272167e+01 -7.38693953e+00 -1.10927505e+01 -6.01504207e-01\n",
      " -7.09386063e+00  2.78819919e+00 -6.22699976e+00 -6.11477280e+00\n",
      "  6.79854012e+00  2.81597447e+00  4.49989748e+00 -2.51546550e+00\n",
      "  2.40660262e+00 -6.28332853e+00 -2.91874528e+00 -1.31150424e+00\n",
      " -1.93057232e+01 -2.41885710e+00 -3.94282603e+00 -3.04135466e+00\n",
      " -1.60322130e+00 -3.40878701e+00 -2.90133762e+00  9.34619308e-01\n",
      " -1.02324305e+01 -1.82627029e+01 -2.73154488e+01 -2.62513542e+00\n",
      " -8.76310444e+00 -3.61260772e+00 -8.91329670e+00  3.11122090e-01\n",
      "  1.29982576e-01 -4.24147415e+00 -1.00892887e+01 -2.21399236e+00\n",
      " -9.36960411e+00 -8.06115627e+00  1.40282023e+00 -5.34682035e+00\n",
      " -5.42880154e+00 -1.40836477e+01 -2.13364925e+01 -6.20094395e+00\n",
      " -3.34960961e+00 -1.18213046e+00 -5.03445292e+00  4.40328789e+00\n",
      "  3.56745481e+00 -7.66643953e+00  9.44630504e-01 -1.87665892e+00\n",
      " -1.32489929e+01 -6.08188248e+00 -5.32526553e-01 -1.40482559e+01\n",
      " -6.15660524e+00  4.73857880e+00 -6.82719564e+00 -7.67139053e+00\n",
      " -5.71715927e+00  4.35820866e+00  3.73877138e-01 -6.85153866e+00\n",
      " -9.63520718e+00  8.46439648e+00 -1.56639748e+01 -1.16164188e+01\n",
      " -5.62878430e-01 -4.67165089e+00 -1.23034537e+00 -1.27130489e+01\n",
      " -1.89070625e+01  2.55221653e+00  5.97671890e+00 -7.13116360e+00\n",
      "  4.56160879e+00 -1.73305492e+01 -1.06136198e+01 -6.07425880e+00\n",
      " -3.02160978e+00 -5.28064251e+00 -1.92937243e+00 -1.13602915e+01\n",
      " -8.89465427e+00 -3.75662756e+00 -1.34539375e+01 -1.04683399e+01\n",
      " -2.55454993e+00 -9.87517548e+00 -7.33802259e-01 -1.28424239e+00\n",
      " -3.43391371e+00 -1.12514811e+01 -1.80100365e+01  2.55394149e+00\n",
      " -2.29503384e+01 -1.19049454e+01 -4.51674080e+00 -1.59487236e+00\n",
      " -5.72414827e+00 -2.30874276e+00 -1.28676796e+01  3.98126578e+00\n",
      "  5.03565931e+00 -5.30782044e-01 -1.28813338e+00 -6.31051207e+00\n",
      " -4.05663109e+00 -7.20597410e+00  1.00056143e+01 -2.14938450e+01\n",
      " -2.84411192e+00 -5.88994598e+00 -1.92613137e+00  9.30051208e-02\n",
      " -8.58216763e+00 -1.17594051e+01  3.38273859e+00 -4.60164595e+00\n",
      " -3.74333429e+00 -4.14371347e+00  1.57563601e+01 -2.11774945e+00\n",
      "  3.17043281e+00  1.44382133e+01 -1.38385515e+01  3.88478494e+00\n",
      " -1.58826942e+01  3.73192072e+00 -8.66404152e+00 -5.82638454e+00\n",
      " -9.61700529e-02  1.25283092e-01 -2.75015259e+00 -4.10754776e+00\n",
      " -1.97529678e+01 -1.04734116e+01 -7.47728348e+00 -2.23709545e+01\n",
      "  7.50420904e+00 -1.58632171e+00  4.59551430e+00  4.07433558e+00\n",
      " -2.20349846e+01 -1.79775095e+00 -7.26243687e+00  1.02894192e+01\n",
      " -9.43943202e-01 -1.75158672e+01  1.10557950e+00 -5.06043530e+00\n",
      " -1.80907631e+01 -7.90232897e-01 -6.67744756e-01 -4.16662264e+00\n",
      " -9.75250125e-01 -1.11558237e+01  3.37486529e+00  2.82130003e-01\n",
      "  5.34866154e-01  5.41995525e+00 -1.29092960e+01  3.76251936e+00\n",
      " -4.08225346e+00 -3.37985277e+00 -8.36306667e+00  3.20522285e+00\n",
      " -2.70657940e+01 -4.10055494e+00 -9.18901825e+00  3.65598893e+00\n",
      " -3.11102486e+00  7.07119846e+00  1.05896324e-01  2.57797217e+00\n",
      " -5.31278419e+00 -6.03490877e+00  4.29425955e+00 -9.85511208e+00\n",
      " -5.36204433e+00  7.96468925e+00  2.04616523e+00  4.07378817e+00\n",
      " -3.64679806e-02 -1.70036144e+01 -2.99897528e+00 -7.22108412e+00\n",
      " -1.93241096e+00 -1.01641977e+00 -4.76500654e+00 -3.25150633e+00\n",
      " -1.02246118e+00  2.49202728e+00  2.34473991e+01 -1.94252548e+01\n",
      " -5.52433395e+00 -4.13723135e+00 -1.65682011e+01 -5.24922991e+00\n",
      "  9.48943806e+00 -3.82109022e+00  2.08208323e+00 -4.40314341e+00\n",
      " -9.24102688e+00 -1.04944830e+01 -6.76220083e+00 -3.28239632e+00\n",
      " -1.15629520e+01 -9.58529568e+00 -6.42758608e+00  5.24301147e+00\n",
      " -1.37629452e+01 -5.35024261e+00 -1.72934494e+01 -1.01082249e+01\n",
      " -2.45689983e+01  4.22609186e+00 -9.55838299e+00 -3.75775146e+00\n",
      "  9.49161351e-02 -9.27985382e+00 -2.79109230e+01 -3.40240784e+01\n",
      "  1.37720432e+01 -7.49052572e+00 -5.21358311e-01 -1.77645838e+00\n",
      " -6.09524775e+00 -2.45424881e+01 -2.23752670e+01 -6.61627102e+00\n",
      " -8.23333263e+00  2.54766369e+00 -2.13399334e+01 -1.60746574e+01\n",
      " -7.52425003e+00 -4.42156410e+00 -2.33299561e+01 -1.04373083e+01\n",
      "  6.65540266e+00  5.08005524e+00  2.63144755e+00 -4.82114553e+00\n",
      " -2.62405109e+01 -9.95412064e+00 -1.85041447e+01  2.06198387e+01\n",
      " -1.58026400e+01  5.63429499e+00 -1.46070099e+01 -1.14001541e+01\n",
      " -3.51964035e+01 -6.86672640e+00 -2.63434076e+00 -1.91646528e+00\n",
      " -1.32739079e+00 -5.42908430e+00 -7.97992182e+00 -1.55086689e+01\n",
      " -1.65165157e+01 -3.00880833e+01  1.89046991e+00 -1.62972107e+01\n",
      " -3.25219345e+01 -7.33384609e+00 -2.66247482e+01 -1.49964228e+01\n",
      "  8.04946136e+00 -1.35207806e+01 -2.06698399e+01 -1.42294302e+01\n",
      " -4.82062578e+00 -1.40750437e+01 -1.00987015e+01 -3.34876404e+01\n",
      "  1.12940133e+00 -6.09464550e+00 -3.26980400e+00 -2.86380053e-01\n",
      " -2.95149136e+01 -2.65481873e+01 -2.65632954e+01 -4.93069601e+00\n",
      " -4.77912254e+01  1.97285903e+00 -3.81647873e+01 -3.39324093e+00\n",
      "  4.59404039e+00 -1.10962877e+01  8.18054104e+00  8.41404819e+00\n",
      " -7.59423923e+00 -3.20167351e+01  8.87323678e-01 -3.68115540e+01\n",
      "  3.10556269e+00 -5.38434696e+00 -1.09497042e+01 -1.59548922e+01\n",
      " -2.35842152e+01 -3.12483521e+01  1.29932957e+01 -1.38239694e+00\n",
      " -3.30495906e+00 -2.70216331e+01 -6.61398172e+00 -1.95619068e+01\n",
      " -2.83705692e+01 -2.86083817e+00  1.61168897e+00 -7.18596792e+00\n",
      " -5.75298548e+00 -7.11965466e+00  1.67420268e+00 -8.00071430e+00\n",
      " -3.78943405e+01 -6.77161694e+00 -1.21563072e+01 -5.27970362e+00\n",
      " -1.15113688e+01 -1.82521267e+01]' has dtype incompatible with int64, please explicitly cast to a compatible dtype first.\n",
      "  preds[val_index] = model.predict(dval_i)\n"
     ]
    },
    {
     "name": "stderr",
     "output_type": "stream",
     "text": [
      "\r",
      " 60%|█████████████████████████████████████████████████████████████████████████████████████████████████████████████████████████████████████▏                                                                                        | 6/10 [01:52<01:15, 18.87s/it]"
     ]
    },
    {
     "name": "stderr",
     "output_type": "stream",
     "text": [
      "C:\\Users\\81809\\AppData\\Local\\Temp\\ipykernel_25064\\3386215446.py:18: FutureWarning: Setting an item of incompatible dtype is deprecated and will raise an error in a future version of pandas. Value '[ 4.18742514e+00  1.29429111e+01 -5.88291788e+00  9.46797562e+00\n",
      "  3.46419954e+00  2.37970333e+01  7.11506844e+00  1.77315104e+00\n",
      "  5.68583584e+00  5.67484617e+00  1.84140277e+00  6.76171422e-01\n",
      "  7.39325285e-01  7.33750010e+00 -1.25829011e-01  2.02130852e+01\n",
      "  2.09022293e+01 -8.70433712e+00  6.11488819e+00  2.76182443e-01\n",
      "  5.55298519e+00  5.71631454e-02 -4.09951448e+00  5.25112677e+00\n",
      "  8.71899891e+00  1.66983700e+01 -5.75886965e-01  2.78127155e+01\n",
      "  8.64878941e+00 -2.66132855e+00  3.71554947e+00  9.50846004e+00\n",
      "  1.37706490e+01  9.51043034e+00  7.82080507e+00  1.68704271e+00\n",
      "  1.66289310e+01  9.13421452e-01  2.12926197e+00  2.53021216e+00\n",
      " -6.84211791e-01  1.90613306e+00  7.85864592e+00  1.23478389e+00\n",
      "  6.58987188e+00  1.68507671e+01  1.48789120e+01  1.76001239e+00\n",
      " -2.85841489e+00 -9.24234807e-01  6.18494463e+00 -1.28372562e+00\n",
      "  1.33913116e+01 -2.65226126e+00 -2.15802923e-01  9.80858326e+00\n",
      "  2.37139244e+01  2.46409149e+01  3.00053763e+00  6.25869179e+00\n",
      "  7.01846457e+00 -4.48954391e+00  8.87835598e+00  2.19809270e+00\n",
      " -3.23737651e-01 -1.35640979e+00  1.88782024e+01  4.93523455e+00\n",
      "  1.43879843e+01  1.74166031e+01 -6.76541805e+00  1.74858844e+00\n",
      "  5.72692966e+00  1.69817867e+01 -1.98380291e+00  1.74102879e+01\n",
      "  1.13779011e+01  1.18305063e+01  2.83298659e+00 -4.41123128e-01\n",
      "  7.43132687e+00  2.51794958e+00  1.59382763e+01  1.03817596e+01\n",
      " -4.24543524e+00 -5.63702941e-01 -1.35829955e-01 -2.99776554e+00\n",
      "  5.02324963e+00  1.59643402e+01 -5.94479203e-01 -3.68062425e+00\n",
      "  2.32980785e+01  4.66758823e+00  1.32364426e+01 -1.05484743e+01\n",
      "  1.28052216e+01  3.52638817e+00  1.24377899e+01 -7.76045847e+00\n",
      "  3.88570976e+00  9.91352081e+00 -3.41694951e+00 -9.26484287e-01\n",
      "  1.39010334e+01  2.28944016e+00 -4.92883539e+00  2.04126763e+00\n",
      " -2.62585616e+00  1.65604711e+00 -5.82914293e-01  6.40741777e+00\n",
      "  8.36200809e+00  2.53047485e+01 -3.03029180e+00 -7.69499969e+00\n",
      " -4.36297083e+00  4.72212076e+00 -1.91572881e+00  2.93916821e+00\n",
      "  7.95490694e+00  1.22097292e+01 -1.75563896e+00  3.91332006e+00\n",
      "  4.94435406e+00  2.32271171e+00  7.36594582e+00  1.53502350e+01\n",
      " -3.10848045e+00 -3.14670086e+00  5.58586979e+00  5.07542968e-01\n",
      " -6.60619497e-01  1.96198034e+00  5.21595478e+00  1.19193926e+01\n",
      "  2.31212044e+00  6.08744097e+00  1.58660221e+00 -9.02936077e+00\n",
      "  2.19203281e+01  6.18397474e-01  3.96579838e+00  8.12406349e+00\n",
      "  1.55315132e+01 -3.70230079e+00  5.90445936e-01  1.24583616e+01\n",
      "  1.32219839e+01 -2.37219548e+00 -1.12355340e+00  4.83222532e+00\n",
      "  1.52948904e+00 -5.44736385e+00  8.91467190e+00  1.25533915e+01\n",
      "  4.18813705e+00  2.18436790e+00 -3.83140182e+00 -3.24476099e+00\n",
      "  6.22741318e+00  5.09580040e+00  2.39541264e+01  1.85843468e+00\n",
      "  5.38802004e+00  3.97361904e-01  6.40038729e-01  1.85019970e+01\n",
      "  3.30504131e+00 -5.73579550e-01  6.00080729e+00  3.67245054e+00\n",
      "  8.75807095e+00  7.93370867e+00  4.23020810e-01  3.86091805e+00\n",
      "  2.52773738e+00  2.59119301e+01  6.17505169e+00 -5.31740952e+00\n",
      "  9.25447178e+00  1.28449976e-01  6.12723827e+00  1.04327469e+01\n",
      "  2.43369083e+01  1.93271942e+01  4.26642752e+00  2.14901295e+01\n",
      "  1.63528156e+01  3.63295054e+00  5.78864002e+00 -2.22076130e+00\n",
      "  1.09360113e+01  1.60643787e+01  4.82729286e-01  3.71347160e+01\n",
      "  1.45695362e+01 -6.45880127e+00  5.89632320e+00 -4.84815931e+00\n",
      "  1.37979307e+01  9.97813511e+00  3.70524292e+01  7.03715944e+00\n",
      "  3.38755280e-01  2.30854206e+01  6.42160845e+00  6.55979586e+00\n",
      "  1.02072291e-01 -3.71260810e+00  1.06053801e+01  6.64828348e+00\n",
      " -8.87375259e+00  2.55594015e+00  2.52690315e+01  4.27484512e+00\n",
      " -4.66362238e-01  3.22086000e+00  1.00586538e+01  2.18694353e+00\n",
      " -1.00188913e+01  1.18107882e+01  2.45030499e+01  6.03071928e+00\n",
      "  9.02878582e-01  2.09203796e+01  1.49640913e+01  9.44380188e+00\n",
      "  5.01952696e+00 -5.87750196e+00  4.43129997e+01  2.30289912e+00\n",
      "  9.19935417e+00  2.38593616e+01  1.51037722e+01  2.97734261e+01\n",
      "  2.22406700e-01  8.69250870e+00  6.62289715e+00  3.50199890e+01\n",
      "  3.50357132e+01  6.21997881e+00  5.43383789e+00  1.80402889e+01\n",
      "  1.19270933e+00  1.72637868e+00  2.98871193e+01 -2.77191377e+00\n",
      "  9.01141822e-01  9.42168713e+00  1.85417194e+01  1.28472795e+01\n",
      "  1.75524120e+01  1.45956011e+01  1.20184383e+01 -5.41222477e+00\n",
      "  1.26802340e+01  9.97683465e-01  3.62956548e+00  1.33852568e+01\n",
      "  1.10371170e+01 -4.75802326e+00  4.30729065e+01  3.51469612e+01\n",
      " -8.79141998e+00  7.31917429e+00  1.69238555e+00  1.33822803e+01\n",
      "  1.32751226e+01  3.06285362e+01  1.68797112e+01  4.59467049e+01\n",
      "  1.75406110e+00  2.94655170e+01  2.15350647e+01  5.86532164e+00\n",
      "  2.30632687e+01  4.10935879e+00 -9.47647953e+00  5.30879307e+00\n",
      " -7.48197842e+00  1.85274143e+01  6.15005732e+00  2.58602428e+00\n",
      "  2.52084045e+01  3.62200279e+01  4.68472034e-01  6.73250151e+00\n",
      "  1.90895882e+01  2.23789921e+01  1.90601006e+01  6.53754854e+00\n",
      "  5.65237141e+00  2.24293733e+00 -7.60445929e+00 -6.08597159e-01\n",
      "  2.52994156e+01  4.41126442e+00  2.92915058e+01  1.31223595e+00\n",
      "  5.20720661e-01  2.32824383e+01 -3.59750724e+00  2.34764442e+01\n",
      "  2.81257362e+01  3.99062729e+00  1.10238800e+01  1.12341843e+01\n",
      " -4.68792105e+00 -1.43449841e+01 -9.74003029e+00 -9.86060429e+00\n",
      " -4.56106615e+00 -1.16061153e+01 -6.55848312e+00  1.36080039e+00\n",
      " -6.18078947e+00 -6.72393751e+00 -7.68770266e+00  4.46266413e+00\n",
      "  4.64216852e+00 -1.31502790e+01 -2.04971123e+01 -2.01354504e+01\n",
      " -6.95540762e+00  7.24330330e+00 -4.74110365e+00 -1.21753561e+00\n",
      " -6.56046391e+00  5.50648975e+00  1.73901558e+00  2.07830119e+00\n",
      " -8.46556282e+00 -2.30803375e+01 -1.70830612e+01 -1.09523802e+01\n",
      " -4.41523647e+00 -6.37899971e+00 -1.17326784e+00  6.54096937e+00\n",
      "  6.75908995e+00 -3.22041899e-01  3.53513241e+00 -6.20985556e+00\n",
      " -6.18528891e+00 -8.37989616e+00 -9.42016220e+00  2.90642786e+00\n",
      "  5.03651047e+00  7.03921986e+00 -2.21544228e+01  1.03661470e+01\n",
      " -6.27143264e-01 -1.49046917e+01 -2.50743332e+01 -1.39928472e+00\n",
      " -3.42087817e+00 -7.23267794e+00  1.91666591e+00 -1.76138639e+00\n",
      " -2.61095095e+00 -2.35664988e+00  6.86304390e-01 -6.14169788e+00\n",
      " -3.30272883e-01 -2.68934441e+01  2.01291060e+00 -1.54015808e+01\n",
      " -2.43796253e+01 -1.67543030e+01 -1.35853362e+00  2.52876449e+00\n",
      " -1.31873436e+01 -5.57155323e+00 -3.36602855e+00 -3.52942181e+00\n",
      " -4.99505472e+00 -5.13241863e+00  2.72414732e+00 -6.53568077e+00\n",
      " -9.18284416e-01 -1.50615187e+01  7.12064922e-01 -5.57754135e+00\n",
      " -5.93136740e+00  3.30389380e+00 -2.93650389e+00  1.47114477e+01\n",
      " -4.33284426e+00  4.05040264e+00  2.62898088e-01 -8.59385681e+00\n",
      " -1.48673165e+00  9.88079548e+00  5.37958097e+00  1.92644143e+00\n",
      "  7.11413383e+00 -4.41525269e+00 -4.71296787e+00  1.92390537e+00\n",
      " -2.59024525e+00 -4.01828146e+00  3.71064758e+00 -2.31756058e+01\n",
      " -1.80325680e+01 -1.77618003e+00 -4.41293478e+00 -2.13193989e+00\n",
      " -6.61102200e+00  4.68474293e+00  5.00478601e+00  2.32721138e+00\n",
      "  2.83267236e+00  2.48498607e+00 -1.00767002e+01  8.26635718e-01\n",
      " -2.08862514e+01 -4.20339203e+00 -1.18437881e+01 -6.84713459e+00\n",
      " -2.87248063e+00  4.56237888e+00 -2.97944736e+01 -8.97663498e+00\n",
      "  1.22525711e+01 -1.51297350e+01  5.92115307e+00 -1.47479134e+01\n",
      "  5.38277435e+00 -2.73541880e+00  4.31527376e+00 -4.80768538e+00\n",
      " -4.97314882e+00 -2.65877485e+00 -4.63033104e+00 -1.15702190e+01\n",
      " -1.23264036e+01  2.71333773e-02 -1.26792297e+01  1.89727914e+00\n",
      " -1.62860382e+00 -2.09165478e+01 -4.38535690e+00 -9.64145088e+00\n",
      " -4.81541061e+00 -1.06031790e+01 -2.16749878e+01  1.62418807e+00\n",
      " -4.01236916e+00  2.04979107e-01 -3.24676657e+00 -5.54908848e+00\n",
      " -2.89519310e+00 -3.82468343e+00  1.27159941e+00  1.73360748e+01\n",
      "  2.01251805e-01 -3.55286956e+00 -2.08435059e+01 -9.68229389e+00\n",
      " -3.06087279e+00 -3.32420444e+00 -8.96369171e+00 -5.43427467e+00\n",
      " -8.36353683e+00 -3.84621644e+00 -2.13879471e+01  5.56018496e+00\n",
      "  6.43581104e+00 -1.44738412e+00  5.48368692e+00 -8.43519866e-01\n",
      " -5.46273899e+00 -2.96660137e+00 -2.41820836e+00 -4.64342642e+00\n",
      "  2.86455345e+00 -1.76196605e-01  6.39046955e+00 -3.21136713e+00\n",
      "  1.61317027e+00  3.85254335e+00 -5.82384467e-01  2.01379681e+00\n",
      " -3.86735606e+00 -2.34352226e+01 -1.63464870e+01 -3.83676028e+00\n",
      " -2.31028004e+01 -2.99267024e-01 -1.20638819e+01 -5.69442320e+00\n",
      "  4.88486481e+00 -4.44173765e+00 -7.81241989e+00 -1.26929407e+01\n",
      " -9.44135761e+00 -1.61416322e-01 -1.74818916e+01 -1.76068151e+00\n",
      " -4.08741760e+00 -5.06154633e+00 -5.82819891e+00  9.44486237e+00\n",
      "  5.16430855e+00 -4.31512022e+00 -3.26981926e+00 -1.63591492e+00\n",
      " -2.95208035e+01 -4.25511703e+01  1.69185174e+00 -2.07277775e+00\n",
      " -5.09157753e+00  4.58875799e+00 -1.95673871e+00 -5.56498337e+00\n",
      " -3.43517952e+01 -4.60371208e+00 -1.25156908e+01  4.25156736e+00\n",
      "  9.55838776e+00 -8.95108509e+00 -1.36881056e+01 -8.07571888e+00\n",
      " -2.01891851e+00 -2.74802990e+01 -3.39168282e+01 -2.54694920e+01\n",
      " -3.66106148e+01 -1.40220089e+01 -1.70839520e+01 -3.41557579e+01\n",
      " -2.75585041e+01  7.38355350e+00 -2.15982151e+01 -6.68956757e+00\n",
      " -1.65491140e+00  2.89063597e+00 -4.12563181e+00  6.24152517e+00\n",
      " -2.11120701e+00 -3.32167854e+01 -1.27480230e+01  1.33195615e+00\n",
      "  4.37661886e+00 -1.80574989e+00  1.48601162e+00 -1.70929241e+00\n",
      " -2.95403042e+01 -4.15127695e-01 -6.61227512e+00 -4.94758177e+00\n",
      " -1.57140379e+01 -7.95495701e+00  2.90945625e+00  7.75604439e+00\n",
      " -7.61855555e+00 -2.31158848e+01 -1.45698004e+01 -1.41301422e+01\n",
      " -1.25402367e+00 -1.13984814e+01  6.84897304e-01 -3.56273317e+00\n",
      " -1.07044744e+01 -3.47283363e+01 -7.77865696e+00  2.35986304e+00\n",
      "  4.94963169e+00 -1.90425320e+01 -3.67384243e+00 -2.54890747e+01\n",
      " -2.27419491e+01 -2.94021492e+01 -7.47727489e+00 -1.06700888e+01\n",
      " -1.51597071e+00 -2.13778925e+00 -3.74712420e+00 -2.94793587e+01\n",
      " -1.19009333e+01  2.61968589e+00 -1.19230013e+01 -3.43992195e+01\n",
      " -1.76191831e+00 -1.25750036e+01 -8.32778931e-01 -2.56803856e+01\n",
      " -7.43100357e+00  3.78480166e-01 -3.33743262e+00 -7.02147102e+00\n",
      " -9.73570633e+00 -3.39962921e+01  7.61466265e-01 -2.79739304e+01\n",
      "  1.38436115e+00 -1.19331446e+01 -2.32735023e+01 -3.01508560e+01\n",
      " -1.91881161e+01 -5.55679131e+00 -2.21373367e+00 -1.28134289e+01\n",
      " -1.79595222e+01 -2.62430630e+01  2.46594572e+00 -4.44882278e+01\n",
      " -2.99405594e+01 -1.25411215e+01 -3.30773582e+01 -2.42461586e+00\n",
      " -2.15440025e+01  1.00330725e+01 -1.39390602e+01 -9.95106792e+00\n",
      "  7.00112867e+00 -1.74306030e+01 -2.74001092e-01 -6.68258142e+00\n",
      " -4.08249021e-01  2.39255452e+00 -1.99032533e+00 -2.92374229e+01\n",
      " -5.60366678e+00 -9.08466721e+00 -1.37095022e+01 -5.89214468e+00\n",
      "  2.49082375e+01 -3.29458833e+00 -3.23959770e+01 -3.14115505e+01\n",
      " -3.21170878e+00  2.63974190e+00 -3.80626450e+01  2.25166655e+00\n",
      " -3.72051392e+01 -2.38762112e+01 -1.86624889e+01 -1.35223389e+01\n",
      " -1.51548157e+01 -1.81395779e+01 -1.07128696e+01 -1.58107624e+01\n",
      " -1.75107217e+00  3.68531513e+00]' has dtype incompatible with int64, please explicitly cast to a compatible dtype first.\n",
      "  preds[val_index] = model.predict(dval_i)\n"
     ]
    },
    {
     "name": "stderr",
     "output_type": "stream",
     "text": [
      "\r",
      " 70%|███████████████████████████████████████████████████████████████████████████████████████████████████████████████████████████████████████████████████████████▍                                                                  | 7/10 [02:11<00:56, 18.75s/it]"
     ]
    },
    {
     "name": "stderr",
     "output_type": "stream",
     "text": [
      "C:\\Users\\81809\\AppData\\Local\\Temp\\ipykernel_25064\\3386215446.py:18: FutureWarning: Setting an item of incompatible dtype is deprecated and will raise an error in a future version of pandas. Value '[  1.2338555   -4.562316     2.4614172    2.2699027   18.273605\n",
      "   1.2156159   -0.05219176   9.652192    -3.7723951    3.6199322\n",
      "  -2.4967113    6.537152     4.5989494    2.1205785    7.2655153\n",
      "   8.227034    -6.8008037   -5.354138     3.9497933    8.870518\n",
      "  -0.22775495  -1.3895614    2.831232    28.319952    10.40483\n",
      "   0.62861127  -6.5438724   17.017418     0.2245786    4.396307\n",
      "   1.1569151   -3.340101     6.5561223   -0.94176525   9.664097\n",
      "   9.100648     8.506956    -8.592039     7.0416203    1.3396358\n",
      "  -1.5415303    5.724488    16.96679     10.841011    21.949492\n",
      "  -0.58986706  -1.1198167   14.059223     6.5770264    1.6168894\n",
      "   8.657848     4.5382924   -4.4269853   -1.9644222    6.301299\n",
      "  -2.3750203    0.42855376   7.358576     6.452374     3.7298064\n",
      "  11.026964    10.561898    -3.5124693   -2.7548575    3.1788003\n",
      "   2.4728138   -1.5311052    0.9734329   18.289293     8.438163\n",
      "   5.9750037   18.06726      7.468833    -1.4063835   -3.236388\n",
      "  -5.7417297    9.280852     7.025947    10.347414     0.7854155\n",
      "   3.87205      8.84392      5.6421566   12.999772     3.7909596\n",
      "   1.2947844    4.947428     4.205255    22.412298    14.905061\n",
      "   1.2468725    8.103765   -12.191108     3.7702942    5.182572\n",
      "   0.32916608   1.1906594    9.831013    -2.5778515   20.699745\n",
      "   1.0285875   -1.6802092   -1.5484438    2.2118747    1.913627\n",
      "   6.8301563   -5.48186     12.107976    -1.8988087    0.25296053\n",
      "  -6.0578384   -2.0145662    6.5335975   -3.2213182   -2.3572779\n",
      "   8.01831     -5.6691236    0.8305806   -2.5907314   -3.0041752\n",
      "   6.35299     12.834015    -3.6143062   -0.6442029    4.193794\n",
      "  -4.4421177    3.3307872    7.7097387   -0.28813675  15.648388\n",
      "  13.717188     4.9227233   -4.4651504   -6.977792    -0.88245684\n",
      "   2.162863     5.4715905   -5.897973     4.086106    12.138043\n",
      "  -2.8301203   -2.612653     0.38907447   0.6359479    6.989442\n",
      "  -5.740359     8.559066    15.584592    14.803185     9.992265\n",
      "   1.2784317   11.164875     1.4504077    0.3626154    9.034449\n",
      "  22.591393    -0.70330435  -9.010863     2.8964057    5.222329\n",
      "   3.6289406   -0.22288825   2.7456138    9.748357    -3.9902806\n",
      "   1.0540305  -16.774595    17.359465    -3.8034642   22.414522\n",
      "   2.0661879    1.2831105    9.649296     4.781034    10.796345\n",
      "   2.7958329    5.354619     2.0917475    2.2423098    0.777785\n",
      "   3.925367    -1.695125     4.923933    -4.63094     21.550276\n",
      "  21.671307     0.12059916   1.9383783   -6.2626357    5.0237174\n",
      "   5.143231    -3.4390235    3.78912      6.8895       9.639491\n",
      "   2.9928675   21.923677    -2.602684    10.22245     25.23989\n",
      "  -3.634588    -0.92075497  -4.30583     -1.6834284   -3.5314782\n",
      "   2.1304748    5.091797    -1.6368608   16.368803    -3.716437\n",
      "  -1.9496329    0.9793009   18.148256     4.4398828    3.752073\n",
      "  12.07794      1.4124249   -1.1514024    5.039455    19.716608\n",
      "  29.6685      -1.9655988   25.590834     3.7209837    4.8589783\n",
      "  19.288513     6.126807    -0.40146878  19.92852     -9.4078865\n",
      " -10.2870035   -3.711217     5.1443567   -4.88577     35.078342\n",
      "  16.115164    21.56591      4.448917    21.41972      6.382661\n",
      "   5.4669833   -3.2123601   33.64307     11.454217    28.86859\n",
      "   1.3938845   -0.85513806  29.000458    12.061173    25.441662\n",
      "  18.64518     15.97862     19.082808     5.655915    12.821936\n",
      "   1.3378063   15.657438    -7.7203684   10.6177      -0.864548\n",
      "   1.5485281   11.085782    -4.9932194   23.400005    26.989962\n",
      "   7.698133    15.281262     8.439473     0.3811779   13.46082\n",
      "   3.1116545   18.027542     2.2338467   17.028606    13.39426\n",
      "  -0.74872154 -10.154081     5.859046    19.503954   -10.057814\n",
      "   9.710497     2.0016975   29.849768     0.6834381   -9.22977\n",
      "   6.512543    -8.731931     4.9003506    3.2171364    1.6333917\n",
      "  31.387913    18.408688    27.363913     4.9149175   48.735985\n",
      "  11.694204    37.339767    15.055706     2.5200784    4.7472196\n",
      "  20.312397     8.424168    12.117991    -8.350812    -9.921979\n",
      "   9.696732     1.8829713   32.081886     1.5585644    0.1258594\n",
      "  -3.0088844    1.922393    -1.8748263   15.19107      3.7616425\n",
      "   9.108853    30.200382   -10.589152     8.608421    14.406406\n",
      "   8.395419    21.436853    -9.562454    28.131367   -13.769261\n",
      "  41.955486    -6.66703     31.898958     6.9412575   20.493704\n",
      "  19.674395     1.2227732  -13.5028      25.635456    11.292772\n",
      "  11.763295     7.0696807   17.941505     3.3941488  -11.130857\n",
      "   0.7925274    2.3574657  -11.28558     -5.805082    -2.8126068\n",
      "  -7.8729706   -8.067747    -5.2424583   -8.157565    -6.29692\n",
      "  -7.7234144  -20.854418    10.118152    -8.043389    -2.2039661\n",
      "  -6.3360333   -1.5290196   -3.5061057   -4.708561    -0.7847039\n",
      "   1.0846087   -5.7655973   -8.720168   -23.830257    -2.7023237\n",
      "   1.2003939   -5.2225513  -28.080519    -4.753823    -5.453976\n",
      "   3.4057744   -1.5132793  -10.788572    -0.7648307   -9.094118\n",
      "  -7.4896297    5.0080733    0.6861432    0.11115303  -3.6540017\n",
      "  -7.943047    -9.077705    -8.263255   -13.059938    -4.7672915\n",
      "   2.1865633   -1.157814    -1.6811317   -5.9559855   -9.612728\n",
      " -11.202883     3.234276    -9.264778    -5.343693    -6.1839304\n",
      "  -3.5742407    1.3966568   -8.443779    -6.898499   -23.346004\n",
      "  -7.9496274   -7.9956636    1.6129111  -13.167878   -25.179905\n",
      "   0.97034436  -2.3783295   10.720663   -16.785795   -11.585513\n",
      "  -1.0436252  -17.856985    -4.2301474   -0.49819493   5.0199513\n",
      " -12.002644    -7.0450177   11.362519   -16.059658   -16.033304\n",
      "  -4.8444257    4.404855    -6.6759515    2.3002827  -10.1154375\n",
      "  -6.609413   -13.899271     6.250255     8.04991     -4.6013675\n",
      "   1.3206892   -0.985682    -1.9151317  -13.229665    12.071877\n",
      " -20.764034    -5.2384944   -1.9315563  -22.671682   -17.986511\n",
      " -11.759856    -1.9929415   -1.1746413    1.2936499   13.286517\n",
      "   6.5347896    0.22711086  -6.551531    -3.916004     0.6642947\n",
      "   9.716021    16.215334     4.8222857   -9.790217    -5.081067\n",
      "  -4.402728     1.4148797    2.5261195  -21.671473     7.2739334\n",
      "  -0.80594087  -1.2834609    0.10001411 -12.385822    -2.0871065\n",
      "   5.20595    -17.22702    -15.687993   -21.594723    -9.862553\n",
      " -11.179442    10.169675   -23.011736    -2.8498394    0.16466205\n",
      "   6.3926544   -3.7189283    3.684465    -0.09729382   0.23438002\n",
      "  -3.8363972   -8.940308    -0.4630826  -17.678862    -6.0747504\n",
      "  -4.9278307   -5.245       -2.96438      4.559546    -4.605101\n",
      "   0.48748684  -5.3306894   -1.0826162   -1.732322    -1.7603388\n",
      "  -4.0775914    3.2979662  -24.224976    17.462643     3.7212715\n",
      "  10.903322    -4.0179696    2.8417099   -5.1835866   -3.1676528\n",
      " -10.892552     3.0426345   -1.0161133  -25.920618    -7.564763\n",
      "  -0.34982905  -1.4434453   -2.7996094   -6.3397985  -15.4544935\n",
      "  -4.611876    -6.995849    -8.957605    -8.144887    -3.121462\n",
      "  -4.037195     7.6244864   -5.821702     9.642512    -3.4276328\n",
      "  -5.693715   -31.069172   -19.023228    -9.758574    -4.650264\n",
      "  -4.3232856  -28.937244   -11.008337   -26.880836   -14.109769\n",
      "  -1.9114825   -3.9550526   -8.735706   -35.853863    -2.0691917\n",
      " -13.122127    -8.375446     1.825928   -11.401848    -5.4309106\n",
      "  -7.0540423  -13.878059   -13.897571   -32.58202    -27.080286\n",
      " -36.738705    -2.039213     2.2246766  -18.496473   -24.656746\n",
      " -28.294867     7.2102437    8.892203    -1.6173692   -8.051583\n",
      " -40.128487    -0.24305439 -28.60726    -33.53414    -13.185816\n",
      " -30.778366    -0.96061504 -17.071789    -7.2490654  -43.656666\n",
      "   4.6244607   -1.9492708  -22.555803   -19.889954    -0.9583575\n",
      "  -7.7075624  -20.616495   -34.458282   -32.21729     -5.458546\n",
      "   3.8681364    9.638565   -24.92057    -11.5804405  -13.787689\n",
      "  -4.0270877  -19.917154   -10.874562   -42.78411      5.0194626\n",
      "  -1.1761271   -2.7391539  -19.018387     6.94018     -3.520149\n",
      "  -5.492252    -7.281826     4.372723   -35.430332    -6.3052335\n",
      "   7.6645117   -8.106363     8.166622   -14.926802     3.653165\n",
      "  -6.147992   -12.104744   -15.500236    -8.860554   -26.642302\n",
      " -13.538323     3.82355      1.9681231    1.688843     6.5393796\n",
      " -19.20755     -6.22244    -10.781276     4.4221244    8.7312765\n",
      " -26.921955    -0.17909989 -25.118391   -30.410362     1.9788072\n",
      "  -0.7765371    8.321826    -6.9344597  -12.443825   -15.84784\n",
      " -24.10744     11.085039    -2.0324056   -8.283725    -4.304523\n",
      " -25.290485   -36.09605    -36.415043   -17.457912     6.024786\n",
      " -15.333523   -16.083185    14.965078   -24.852644   -17.527292\n",
      "  -2.427743  ]' has dtype incompatible with int64, please explicitly cast to a compatible dtype first.\n",
      "  preds[val_index] = model.predict(dval_i)\n"
     ]
    },
    {
     "name": "stderr",
     "output_type": "stream",
     "text": [
      "\r",
      " 80%|█████████████████████████████████████████████████████████████████████████████████████████████████████████████████████████████████████████████████████████████████████████████████▌                                            | 8/10 [02:30<00:37, 18.89s/it]"
     ]
    },
    {
     "name": "stderr",
     "output_type": "stream",
     "text": [
      "C:\\Users\\81809\\AppData\\Local\\Temp\\ipykernel_25064\\3386215446.py:18: FutureWarning: Setting an item of incompatible dtype is deprecated and will raise an error in a future version of pandas. Value '[ 8.34777069e+00 -6.31107616e+00  1.10515413e+01  7.71093273e+00\n",
      "  6.48183346e+00  6.71986008e+00  6.00122595e+00  2.24221253e+00\n",
      "  1.75935943e-02  2.75156045e+00 -3.06088519e+00  2.41096425e+00\n",
      " -4.91149634e-01  2.06855831e+01  1.85898697e+00  1.34553518e+01\n",
      "  3.81673241e+00  3.39484239e+00  6.94449139e+00  3.04674864e+00\n",
      "  6.46238804e+00  4.30949831e+00  9.51560020e+00 -1.30715263e+00\n",
      "  6.30503607e+00  4.56680393e+00  1.06710472e+01  5.87105751e+00\n",
      "  1.61742103e+00  2.58189831e+01  4.76883602e+00 -8.29898739e+00\n",
      "  3.35863829e+00  1.47589598e+01  7.97922850e+00 -6.19381523e+00\n",
      "  6.21595383e+00  9.88136292e-01 -9.01801348e-01 -8.06885433e+00\n",
      " -4.00395727e+00  1.02634430e+01  2.66984487e+00  6.83347368e+00\n",
      "  2.15542355e+01  8.79793167e+00  6.43220377e+00  1.01435232e+00\n",
      " -3.48180842e+00  3.42087197e+00  5.14949799e+00  4.45597839e+00\n",
      "  1.66606712e+00  1.61480503e+01  4.01235628e+00  9.85333920e+00\n",
      "  2.23494225e+01  6.99197912e+00 -3.91927171e+00  6.66778421e+00\n",
      "  3.36282396e+00  2.65104699e+00  3.79015350e+00  2.40461733e-02\n",
      "  7.65718222e+00  1.00838203e+01  4.28715992e+00  3.15588951e+00\n",
      "  1.49157305e+01  2.52340240e+01 -3.60205960e+00  5.53931570e+00\n",
      "  7.97989368e-01  1.00921898e+01  2.04662251e+00  1.39564499e-01\n",
      "  2.20986595e+01  7.31603909e+00  1.26050491e+01  2.77682805e+00\n",
      "  1.63733959e+01 -2.45839477e+00  9.43895245e+00  8.10112381e+00\n",
      "  3.51435566e+00 -1.59229457e+00 -5.63115478e-01  6.17357588e+00\n",
      "  2.82146025e+00  7.18679523e+00  1.74075108e+01 -5.06370020e+00\n",
      "  5.70471406e-01  4.15902519e+00 -6.68089199e+00 -2.87044644e+00\n",
      " -2.28324819e+00 -6.71522379e+00 -1.00718372e-01 -2.99888194e-01\n",
      "  2.80348587e+00  7.13115394e-01 -1.04667034e+01  2.86684823e+00\n",
      " -2.17453718e+00  8.26480687e-01  2.27325401e+01 -5.39367056e+00\n",
      "  1.39249039e+01  1.35185175e+01  5.95430279e+00 -2.45593643e+00\n",
      "  9.45894527e+00 -9.15090275e+00 -1.84200358e+00 -3.37524199e+00\n",
      "  3.70994139e+00 -9.11487484e+00  2.67753148e+00 -2.11570501e+00\n",
      "  8.71150780e+00  9.53861618e+00 -3.71069098e+00  1.14644384e+01\n",
      "  6.95694780e+00  7.71663141e+00  2.08056698e+01 -8.46601295e+00\n",
      "  1.48795710e+01  8.95014095e+00 -3.05685925e+00  6.09433031e+00\n",
      "  4.08638525e+00  8.63094747e-01 -1.84809379e-02 -4.38740641e-01\n",
      "  1.16892557e+01  1.20397043e+01 -6.30882311e+00  1.16618185e+01\n",
      "  2.32538962e+00  8.31915855e+00  2.00065136e+01  2.74693084e+00\n",
      "  2.47241354e+00  6.34698451e-01 -4.84553903e-01  2.93970048e-01\n",
      "  4.00498438e+00  5.70701551e+00  2.75858688e+00  1.10036497e+01\n",
      " -1.13416946e+00 -3.80578685e+00  1.51228797e+00 -1.19114561e+01\n",
      "  2.85636883e+01  1.51505251e+01 -1.53987384e+00  1.79036808e+01\n",
      "  1.25486917e+01  3.36572528e+00  1.05443964e+01  1.74744144e-01\n",
      "  1.24075389e+00 -4.46183592e-01 -3.36043572e+00  3.15863085e+00\n",
      " -1.81045997e+00  2.47781777e+00 -7.98289418e-01 -1.73514545e+00\n",
      "  1.53308535e+00 -1.29729867e+00  4.15268898e+00  1.93350811e+01\n",
      "  7.39901972e+00  1.35058146e+01 -6.16611481e+00  2.00111046e+01\n",
      " -2.94104242e+00  3.39112306e+00  4.82037926e+00  9.93458927e-01\n",
      "  7.89558887e+00 -7.80439711e+00  1.84383068e+01  3.76977754e+00\n",
      "  7.35086632e+00 -2.65008122e-01  8.75022984e+00  1.55195169e+01\n",
      "  2.15605984e+01 -2.82626128e+00  1.85133767e+00  3.90347928e-01\n",
      "  5.18962574e+00  5.09539890e+00  3.24970269e+00 -5.12962484e+00\n",
      "  8.08478832e+00  9.18848991e+00  1.00269737e+01  2.42795143e+01\n",
      "  4.61506319e+00  3.31871247e+00  2.77424741e+00  5.27728796e+00\n",
      "  5.45532990e+00 -9.19041395e-01  1.17285614e+01  6.20704889e+00\n",
      "  1.92706985e+01  9.07485867e+00  2.88567901e+00 -2.04326367e+00\n",
      "  3.88430405e+01 -9.14903831e+00  4.58748341e+00 -9.73986626e+00\n",
      " -6.87078571e+00  1.38698101e+01 -5.05384617e-02  3.96185970e+00\n",
      "  7.83323669e+00 -8.76008391e-01  2.54679909e+01  5.93237686e+00\n",
      "  9.23879910e+00  2.31059513e+01  5.91573477e+00  2.04094772e+01\n",
      " -5.70030308e+00  2.93030663e+01  3.11400490e+01  1.10356426e+00\n",
      " -1.62204819e+01  3.81751013e+00  1.89453852e+00  6.11898756e+00\n",
      "  9.45208836e+00  1.77066803e+01  6.63674307e+00  1.55117531e+01\n",
      "  2.89839020e+01  1.08392315e+01  3.59531059e+01 -2.70841980e+00\n",
      "  1.14003305e+01  2.05158606e-01  1.76389465e+01  1.22635460e+01\n",
      "  2.67848854e+01 -3.71752548e+00  2.39971905e+01  1.32304497e+01\n",
      "  1.08830271e+01  3.19727325e+01  1.10417814e+01  2.76969604e+01\n",
      "  3.06615305e+00  6.02142859e+00  2.69637699e+01  1.92368090e+00\n",
      "  5.65978765e+00  8.08958435e+00  9.85632420e+00 -4.73633909e+00\n",
      "  1.44235172e+01  4.32072067e+01  8.71469593e+00 -9.05405807e+00\n",
      "  1.02389603e+01 -2.26312757e+00 -9.64725494e+00  3.09403968e+00\n",
      " -5.05384827e+00  1.15946503e+01  6.37222338e+00  6.26021194e+00\n",
      " -2.56878424e+00  3.65232544e+01  1.38767786e+01  3.05748558e+01\n",
      "  2.17628326e+01  3.18910527e+00  8.89406300e+00  1.57597485e+01\n",
      "  5.09409523e+00 -7.98822498e+00  2.01268406e+01  7.34200335e+00\n",
      "  2.53870630e+00  2.32564487e+01  9.13023376e+00  3.24462776e+01\n",
      "  8.06800747e+00  2.99177570e+01  4.10931635e+00 -1.04370089e+01\n",
      "  5.23356819e+00  3.11825943e+00  7.12089777e+00  6.46458817e+00\n",
      " -1.22310762e+01  1.65378323e+01  2.83677216e+01 -2.40044904e+00\n",
      "  4.10044136e+01  8.66734505e+00  2.56102467e+01  3.62643089e+01\n",
      " -5.44014454e+00  3.76229248e+01  5.41602612e+00  1.36278896e+01\n",
      "  1.73162341e+00  2.79370689e+00  1.01870728e+01  2.60735817e+01\n",
      "  1.17643642e+01 -1.66946447e+00 -2.18986797e+01 -5.05039692e+00\n",
      "  4.02535534e+00 -1.36821842e+01 -2.37189312e+01 -8.59251881e+00\n",
      " -3.18736315e+00 -8.91067410e+00 -5.33808661e+00 -2.29969788e+00\n",
      " -2.07205772e+01 -2.93028975e+00 -2.63763523e+01 -4.09193039e+00\n",
      " -8.59945393e+00 -2.03146577e-01 -6.95098257e+00 -2.69882894e+00\n",
      " -7.39249039e+00 -9.65676975e+00  5.48840427e+00 -1.08937430e+00\n",
      "  6.92243385e+00  5.17098904e+00 -7.76411438e+00 -5.30850363e+00\n",
      "  6.51695728e-01 -2.45413647e+01  1.15994036e+00  8.14579070e-01\n",
      " -2.86433811e+01  3.86224210e-01  1.35583305e+01 -6.41427517e+00\n",
      "  6.62289810e+00 -9.21791172e+00 -4.28804636e+00 -4.93784046e+00\n",
      " -7.12479019e+00  3.23727465e+00  8.23087275e-01 -7.97120094e-01\n",
      " -1.02431974e+01 -2.20796661e+01 -9.08270359e+00 -1.36527319e+01\n",
      "  5.76485872e+00 -2.81712222e+00  3.09646297e+00  4.79481190e-01\n",
      " -1.63042850e+01 -6.07050753e+00 -2.34487858e+01 -1.45614767e+00\n",
      "  1.77487612e+00 -7.09629917e+00 -4.85982227e+00  2.92234516e+00\n",
      " -2.53253708e+01 -1.08813734e+01 -1.37368164e+01 -1.01313293e+00\n",
      " -8.17334414e-01  1.43086863e+00  1.85639048e+00 -1.14217520e+00\n",
      " -3.37471819e+00  1.14508641e+00 -1.62017179e+00 -4.21639919e+00\n",
      " -7.68687916e+00 -1.91909599e+01  5.53294086e+00  2.53654170e+00\n",
      " -4.15505975e-01 -3.64256454e+00 -3.13163209e+00 -6.85407782e+00\n",
      " -1.70770130e+01 -2.50694484e-01  1.32790864e-01 -6.90684140e-01\n",
      "  1.76115477e+00 -9.39115524e+00 -2.46218433e+01 -1.59494495e+01\n",
      " -1.00809660e+01 -1.13623199e+01 -8.04411221e+00 -3.71073461e+00\n",
      " -4.48602676e+00 -3.09261894e+00 -6.49307680e+00 -1.88497276e+01\n",
      "  1.98520422e+00  3.71536183e+00  1.46794558e+01 -8.32676530e-01\n",
      "  4.25015640e+00  4.45203543e-01 -2.28603458e+01 -7.94822752e-01\n",
      " -1.25056181e+01 -1.12009299e+00  7.86201000e+00  2.84095621e+00\n",
      " -5.13765478e+00  9.57332432e-01 -1.52950191e+01 -1.99521571e-01\n",
      " -7.10806894e+00  1.56773424e+00 -1.41276455e+01 -1.73749523e+01\n",
      " -4.04914474e+00  4.76282406e+00 -2.67100859e+00  7.64790010e+00\n",
      " -6.94465733e+00 -3.16981220e+00 -1.05859823e+01  5.51392174e+00\n",
      " -5.49812365e+00  5.56347847e+00 -2.69373341e+01 -3.45760608e+00\n",
      " -9.11042881e+00 -1.87839203e+01  3.58480597e+00 -6.82954216e+00\n",
      "  4.00646353e+00 -1.17656260e+01 -2.01055832e+01 -5.77967167e-01\n",
      " -1.14383066e+00  2.33448601e+00 -9.96622181e+00 -5.91642809e+00\n",
      " -1.19921694e+01  1.93371773e+00 -3.13128185e+00 -1.67259550e+00\n",
      " -9.47334099e+00  1.76981568e+00 -9.15464759e-01 -1.05166817e+01\n",
      " -4.39369011e+00 -3.79577470e+00 -1.12573166e+01  9.37258816e+00\n",
      " -2.18308620e+01 -6.25905180e+00 -3.65471578e+00  3.53329808e-01\n",
      "  6.20827150e+00 -3.66784310e+00 -3.10490060e+00 -4.67402792e+00\n",
      "  3.51452994e+00 -8.95854890e-01  2.95716262e+00  1.18656468e+00\n",
      "  4.41399240e+00 -3.51368642e+00  1.41278493e+00 -5.11820279e-02\n",
      "  1.02234745e+01  9.45378304e-01 -1.49026365e+01  2.33359337e+00\n",
      " -3.71778584e+00 -2.20950584e+01  1.09960566e+01 -7.58323446e-02\n",
      " -1.30564475e+00 -6.21013308e+00  6.09522641e-01 -1.25152597e+01\n",
      " -9.76049721e-01  4.51989269e+00 -2.64224014e+01  5.56056404e+00\n",
      "  3.94621015e+00  1.04229202e+01 -6.90461278e-01 -7.99083567e+00\n",
      " -5.31287611e-01 -1.02720470e+01 -5.71568346e+00 -4.53810930e+00\n",
      " -1.56854563e+01 -6.85517597e+00  1.75294650e+00  5.00809288e+00\n",
      " -5.28883982e+00  7.76191577e-02 -4.80864286e+00 -2.59300375e+00\n",
      " -1.54572458e+01  4.36444187e+00 -7.26865864e+00 -2.86646247e+00\n",
      " -2.39666691e+01 -1.21610937e+01 -1.14710355e+00  8.16375446e+00\n",
      "  7.53301001e+00 -5.28969240e+00 -1.83465538e+01 -2.78989100e+00\n",
      " -1.25218382e+01 -3.08065033e+01 -3.36417580e+01 -2.71521206e+01\n",
      " -4.73069048e+00 -1.85416718e+01 -2.24622154e+01  8.82802784e-01\n",
      " -9.37119389e+00 -5.46692514e+00 -1.62423205e+00  6.26225090e+00\n",
      " -7.95950413e-01 -7.77481031e+00  8.09788942e-01 -3.20684338e+00\n",
      " -1.50214398e+00 -3.74876747e+01 -3.10245094e+01 -2.70793152e+01\n",
      " -5.24496508e+00 -2.27331352e+01 -8.78851414e+00 -6.74516058e+00\n",
      " -7.56675959e+00 -4.91016293e+00  1.78153121e+00 -2.03866596e+01\n",
      " -4.53845062e+01 -3.22725129e+00 -2.19634705e+01 -1.89100475e+01\n",
      " -1.44879580e+01 -1.14609985e+01 -3.08004150e+01  1.28857017e-01\n",
      " -3.36517677e+01 -7.76294374e+00 -2.21613388e+01 -2.91820507e+01\n",
      "  1.39240849e+00 -6.08638430e+00 -2.14793072e+01  5.00301361e+00\n",
      " -8.53022861e+00  3.46850157e+00 -3.08560486e+01 -1.67228870e+01\n",
      " -1.18282328e+01 -1.65099602e+01 -7.45654821e+00 -3.04213834e+00\n",
      "  5.06316566e+00 -6.17681694e+00  3.89137059e-01 -2.07268500e+00\n",
      " -7.26547003e-01 -2.31499939e+01 -1.06472311e+01 -9.03815866e-01\n",
      " -1.93859997e+01 -2.16425133e+00 -1.23908463e+01  2.52273583e+00\n",
      " -3.56587257e+01  7.80085564e-01  8.49488354e+00  7.40510416e+00\n",
      " -2.96884289e+01  1.31063414e+00  2.46398956e-01  2.26441979e-01\n",
      "  5.78540134e+00 -2.86339617e+00 -1.51704502e+01 -2.48977261e+01\n",
      " -1.10181487e+00 -9.32579899e+00  1.03369169e+01  1.50388107e-01\n",
      "  5.67247772e+00 -1.08120155e+01 -2.52943840e+01 -8.60158634e+00\n",
      " -3.53912773e+01 -2.98918343e+01  3.93778229e+00 -1.53933630e+01\n",
      " -2.31997871e+01 -4.81571770e+00 -5.72084236e+00  2.48267508e+00\n",
      "  1.17997446e+01  3.19590688e+00 -3.86288977e+00 -2.91829586e+01\n",
      " -1.51376333e+01 -8.80486202e+00 -3.78761601e+00  1.32839537e+00\n",
      "  8.36521149e+00  3.02061200e+00 -9.39355612e-01 -2.33163223e+01\n",
      "  5.83376646e+00 -1.85576572e+01 -1.12454977e+01 -2.37055135e+00\n",
      " -1.84669507e+00  1.28652363e+01 -3.10274582e+01 -9.68869686e+00\n",
      " -2.63775654e+01 -7.87440205e+00]' has dtype incompatible with int64, please explicitly cast to a compatible dtype first.\n",
      "  preds[val_index] = model.predict(dval_i)\n"
     ]
    },
    {
     "name": "stderr",
     "output_type": "stream",
     "text": [
      "\r",
      " 90%|███████████████████████████████████████████████████████████████████████████████████████████████████████████████████████████████████████████████████████████████████████████████████████████████████████▊                      | 9/10 [02:51<00:19, 19.64s/it]"
     ]
    },
    {
     "name": "stderr",
     "output_type": "stream",
     "text": [
      "C:\\Users\\81809\\AppData\\Local\\Temp\\ipykernel_25064\\3386215446.py:18: FutureWarning: Setting an item of incompatible dtype is deprecated and will raise an error in a future version of pandas. Value '[ 3.18292069e+00 -5.88537312e+00  2.15258808e+01  1.73493814e+00\n",
      "  4.46181917e+00 -5.97566032e+00  4.75211573e+00  2.70799041e+00\n",
      " -7.72976875e+00  8.21873188e-01 -3.57151604e+00  1.84565239e+01\n",
      "  2.66302643e+01 -1.87358356e+00  2.03999043e+01  2.13131213e+00\n",
      "  8.50993252e+00  1.56106293e+00  2.04192209e+00  2.67154479e+00\n",
      " -1.97239685e+00  1.21251011e+00 -4.52193707e-01  5.12080860e+00\n",
      "  4.84920025e+00  9.04590416e+00  7.82451499e-03  1.05840654e+01\n",
      "  3.08737850e+00  2.11710758e+01 -2.18877220e+00 -3.15872550e+00\n",
      "  5.72744226e+00 -8.96870971e-01  3.11384749e+00 -1.22059023e+00\n",
      " -3.55992031e+00  8.38917828e+00  7.55731583e-01  7.40318000e-01\n",
      "  1.91394768e+01 -5.31417608e+00  1.60337055e+00 -7.90193987e+00\n",
      " -1.19645286e+00 -1.03546467e+01  1.64591236e+01  1.45768471e+01\n",
      "  5.21900988e+00  1.23225272e+00 -2.70233917e+00  6.86131430e+00\n",
      " -3.81048727e+00  4.80809069e+00  1.63027644e+00 -2.02879786e+00\n",
      "  1.11087918e+00 -4.61311197e+00  9.22078991e+00  2.42971916e+01\n",
      "  1.46689625e+01  4.97543240e+00  5.52987146e+00  1.48734550e+01\n",
      " -2.79283381e+00  3.75636721e+00 -4.42293262e+00 -2.09179902e+00\n",
      "  4.12322998e+00  5.23891401e+00 -2.16318816e-01  1.87525272e+01\n",
      "  8.30539989e+00  5.56489134e+00 -2.61375928e+00  3.62863350e+00\n",
      " -1.54616582e+00  5.59248734e+00  2.43429966e+01  2.34320402e+00\n",
      " -3.08998179e+00 -2.61608505e+00  2.90731025e+00  4.24433422e+00\n",
      "  2.34264088e+00  1.24472809e+00  1.23571186e+01  2.51740971e+01\n",
      "  6.78074121e+00  1.45210724e+01 -1.16380129e+01  1.24473810e+00\n",
      "  2.37798328e+01  3.52649021e+00  5.60817337e+00  1.25421972e+01\n",
      " -1.37326801e+00  5.06992674e+00  5.46839523e+00  2.55693388e+00\n",
      "  1.54129801e+01  9.75477982e+00  1.44157267e+01  2.53948712e+00\n",
      "  1.18324041e+01 -1.08646765e+01 -6.56447840e+00  9.95234776e+00\n",
      "  8.85242748e+00  1.42236948e+00  3.15594578e+00 -2.25410104e+00\n",
      "  4.82905436e+00 -3.66057128e-01  1.82509117e+01  4.22900105e+00\n",
      "  2.03106842e+01  5.02664614e+00  2.66999316e+00 -1.52627029e+01\n",
      "  5.36678028e+00 -2.80065155e+00 -1.16831028e+00 -5.71811295e+00\n",
      "  3.08218384e+00  2.53744659e+01  3.71927738e+00  5.12263203e+00\n",
      " -5.18564081e+00  1.38245974e+01  3.11249328e+00  1.49064720e-01\n",
      " -6.09561741e-01  5.04736519e+00  9.74793339e+00  2.17053843e+00\n",
      "  6.71965551e+00 -2.09795833e+00  1.45195742e+01  1.94040447e-01\n",
      "  1.78036582e+00 -7.80841768e-01  2.55813074e+00 -3.54660988e+00\n",
      " -5.74488306e+00  4.90717083e-01  3.68075579e-01  6.32228613e-01\n",
      "  2.23357677e+01  1.45563774e+01  2.43064499e+00  1.92077506e+00\n",
      " -9.49519920e+00  2.12382412e+01  4.42000675e+00  3.66559720e+00\n",
      " -5.88839579e+00  1.34007239e+00  3.26291323e+00  5.54014397e+00\n",
      " -8.56909943e+00  1.38044195e+01 -5.25281191e+00  8.30927563e+00\n",
      "  2.93238811e+01 -3.64727902e+00  3.69654298e+00  3.63201165e+00\n",
      "  1.17285979e+00 -4.70018482e+00  4.09672213e+00  7.51114655e+00\n",
      " -4.61404753e+00 -4.32246304e+00  5.53459883e+00  2.03084316e+01\n",
      " -4.67353964e+00 -5.26645482e-01  2.05552654e+01  3.56983852e+00\n",
      " -3.53930354e+00  1.13478670e+01  3.71095896e+00  6.10825396e+00\n",
      "  6.00949335e+00 -8.55398417e-01  2.05365825e+00 -3.81622696e+00\n",
      "  7.67022800e+00 -7.35385513e+00 -1.06438661e+00  4.47098970e+00\n",
      " -6.10965610e-01  2.96975064e+00  2.86048353e-01  8.97382259e+00\n",
      "  1.89883080e+01  2.72616863e+00  2.37048473e+01 -2.40010619e+00\n",
      "  1.06129205e+00 -3.08182657e-01  3.05058289e+00 -1.53164804e+00\n",
      "  2.72153831e+00  1.33854704e+01  5.89577770e+00  1.19437056e+01\n",
      "  2.23256588e+01 -1.19263560e-01  2.70578980e+00  2.99305856e-01\n",
      "  4.70855951e-01  1.59843493e+01  4.61776257e+00  4.28211260e+00\n",
      "  5.15984011e+00  4.53314543e+00 -1.23647106e+00  4.44156933e+00\n",
      "  4.28944016e+00  2.92404103e+00  2.06849480e+01  1.12988644e+01\n",
      "  2.23115373e+00  1.49979277e+01  4.14738894e+00  2.52956161e+01\n",
      " -1.73869133e+00 -1.82696760e-01  6.39363289e+00  1.12489672e+01\n",
      " -1.18924379e+01 -7.27969527e-01  1.17069101e+01  6.60791111e+00\n",
      "  3.35229988e+01  2.74802551e+01  5.83241510e+00  1.94961948e+01\n",
      "  2.67093620e+01  1.26272869e+01  6.90337753e+00 -1.79508781e+00\n",
      " -7.24661207e+00 -6.51386738e+00 -7.28377151e+00  2.46897316e+01\n",
      " -1.85021126e+00  2.86983180e+00  4.16457863e+01  8.65908432e+00\n",
      "  2.84681439e+00  2.04400387e+01  1.28094883e+01 -2.54497826e-01\n",
      " -3.71007633e+00 -1.35130148e+01  1.46543608e+01  1.61230774e+01\n",
      "  1.24269476e+01  6.67476606e+00  9.59637070e+00  3.44244194e+01\n",
      " -8.08244133e+00  2.21126041e+01 -2.45006008e+01  7.57437277e+00\n",
      "  8.74840927e+00  3.10273266e+01  1.88494949e+01  2.86030903e+01\n",
      "  1.24364090e+01  2.53065033e+01  4.39951611e+00  9.08998775e+00\n",
      "  1.37927313e+01  3.31088257e+01  3.44258842e+01 -9.37601566e-01\n",
      "  1.01023397e+01  7.74948072e+00 -3.59531879e-01  1.57973366e+01\n",
      "  1.88624935e+01  8.14472675e+00  3.47355156e+01  8.47997856e+00\n",
      " -5.50935841e+00  2.43354186e-01  1.68341959e+00 -3.45135140e+00\n",
      "  9.32100964e+00  1.69007053e+01  6.92263269e+00 -9.37781811e+00\n",
      "  1.94130859e+01  8.23730373e+00  7.54130220e+00  2.39868431e+01\n",
      "  1.03115511e+01  3.22212067e+01  3.05130138e+01  8.25117111e-01\n",
      "  3.59323273e+01 -1.76655567e+00  1.30757217e+01  1.70786400e+01\n",
      "  2.65489693e+01  2.97869396e+01 -2.44560604e+01  3.98542709e+01\n",
      "  6.93871021e+00  3.26529264e+00  2.46885185e+01  8.67559239e-02\n",
      "  2.04994297e+01  1.68377323e+01  7.92621791e-01  2.56777310e+00\n",
      "  1.58069744e+01 -1.91186695e+01  1.36517792e+01  4.89037514e+00\n",
      " -1.54194908e+01 -4.66612959e+00 -5.16550303e+00 -2.00721226e+01\n",
      "  2.18447495e+00 -2.29870815e+01 -1.97350740e+00 -7.50801659e+00\n",
      " -6.58542728e+00 -7.36900425e+00 -7.26908302e+00 -5.00021791e+00\n",
      "  2.41216406e-01 -1.26108575e+00 -2.20536575e+01 -2.41332741e+01\n",
      " -3.37090397e+00 -8.56549621e-01 -4.69765711e+00 -5.05275631e+00\n",
      " -5.05732965e+00  1.08273983e+01 -6.99794436e+00 -5.18495619e-01\n",
      "  1.04691470e+00 -9.29900932e+00 -1.40198507e+01  4.30301857e+00\n",
      " -1.14293518e+01 -1.33129663e+01 -4.54085231e-01 -7.50081158e+00\n",
      " -1.68013191e+01  6.32466936e+00  4.31636477e+00 -3.72466993e+00\n",
      " -3.56741452e+00  4.88076353e+00 -6.62424517e+00 -9.41134548e+00\n",
      " -5.00815296e+00 -8.17837715e+00 -1.34154189e+00 -1.04565706e+01\n",
      "  5.68165350e+00 -2.08753223e+01  1.67583501e+00 -5.54178238e+00\n",
      " -1.62976875e+01 -2.40508862e+01 -8.38895893e+00 -7.80737257e+00\n",
      " -5.89329147e+00  2.38948965e+00  2.18041110e+00 -2.80257702e+01\n",
      "  2.16536427e+00 -2.55682144e+01  1.41411781e+00 -2.54878407e+01\n",
      " -1.94665027e+00 -7.11794043e+00 -1.16400518e+01 -5.68893194e+00\n",
      " -7.56003094e+00 -1.84854698e+00 -3.67777514e+00 -6.64567232e+00\n",
      " -5.40698719e+00 -2.63942075e+00 -8.23739529e+00 -7.92367697e+00\n",
      " -1.24835186e+01 -1.66815491e+01  4.18033648e+00 -5.08963346e+00\n",
      " -1.46494198e+00 -4.23861313e+00 -4.97140312e+00 -8.59421015e-01\n",
      "  1.35296571e+00 -1.99940567e+01 -1.40088522e+00 -1.07657776e+01\n",
      " -8.42369175e+00  8.43864620e-01 -4.08921242e+00 -1.03494501e+01\n",
      "  4.37323666e+00  2.52327108e+00 -6.73761940e+00 -1.95488310e+00\n",
      " -2.49567299e+01  2.73998642e+00 -2.03929501e+01  2.39737821e+00\n",
      " -2.80232201e+01 -9.22924519e+00 -1.54664373e+01 -7.36849213e+00\n",
      " -1.83770256e+01 -2.26683497e+00  1.91218412e+00 -4.47143030e+00\n",
      "  2.86535406e+00 -1.38134909e+00 -2.21695948e+00 -3.40231478e-01\n",
      " -1.46838200e+00 -1.62582028e+00  5.65266657e+00 -4.21970034e+00\n",
      " -1.02063646e+01 -6.98092842e+00  4.96689463e+00  2.58786416e+00\n",
      " -6.40151310e+00 -6.38449669e+00 -4.64516878e+00  1.85032806e+01\n",
      "  1.32909596e+00 -1.24601018e+00 -1.19364347e+01 -3.84130979e+00\n",
      "  4.40780258e+00 -3.54292655e+00 -1.02422390e+01 -5.97179890e+00\n",
      "  4.28173065e+00 -2.25994034e+01 -7.07216597e+00 -1.06629925e+01\n",
      " -5.58390522e+00 -3.91409850e+00 -2.30672741e+01  2.66369164e-01\n",
      " -8.61350155e+00 -8.65610695e+00 -5.24452734e+00  7.87510872e-01\n",
      " -1.17177353e+01  1.91173768e+00 -6.06245279e+00 -4.66447544e+00\n",
      "  1.75916016e+00  2.33371305e+00  5.75330639e+00 -3.44186234e+00\n",
      " -6.13001299e+00 -1.78485222e+01 -8.44997704e-01 -2.67660618e+00\n",
      " -1.92320716e+00  7.05836439e+00  5.96897304e-01  5.74134541e+00\n",
      "  1.74631417e+00 -2.63698292e+00  1.10235538e+01 -1.28521895e+00\n",
      " -5.11266410e-01 -4.64867878e+00 -6.37495995e-01 -3.64629793e+00\n",
      " -4.09869671e+00 -3.56341743e+00 -3.01948524e+00  2.42233828e-01\n",
      " -9.74066067e+00 -6.98671877e-01 -6.27040148e+00  1.83723009e+00\n",
      " -4.35329628e+00  1.63662553e+00 -2.47748985e+01 -1.78963768e+00\n",
      "  3.72825122e+00 -5.45867443e+00 -9.95152855e+00 -3.65023375e+00\n",
      " -4.93006659e+00 -5.81485890e-02 -5.30675745e+00  1.27929747e+00\n",
      " -7.23979044e+00  2.65938067e+00  4.00723743e+00 -1.98262024e+01\n",
      " -1.13554935e+01 -2.74878731e+01  2.11500883e-01 -5.12098074e+00\n",
      " -2.50541186e+00 -2.49564533e+01 -8.38349724e+00 -8.60195351e+00\n",
      " -2.11414280e+01  6.36683083e+00  8.46824932e+00 -1.25349998e-01\n",
      " -8.30727816e-01  5.94421244e+00 -1.20297918e+01  2.46261811e+00\n",
      " -1.67364442e+00 -1.03439865e+01 -1.05048685e+01 -1.08010817e+00\n",
      " -2.34180584e+01 -2.06534634e+01 -1.77793026e+01 -5.39106750e+00\n",
      " -4.57057428e+00  6.09067154e+00 -1.25763588e+01 -1.83038445e+01\n",
      " -3.17541752e+01 -2.54439392e+01 -7.19582510e+00 -4.08673000e+00\n",
      "  4.02896929e+00 -7.45777750e+00 -2.12532158e+01  7.23669481e+00\n",
      " -2.92149277e+01  4.21111435e-01 -2.54204807e+01 -3.61240649e+00\n",
      " -3.95344810e+01 -1.28614082e+01  5.47747374e+00 -4.04003601e+01\n",
      "  3.00771475e+00 -2.01955453e-01 -3.06579351e+00 -2.39759407e+01\n",
      " -3.82851720e+00 -2.74725780e+01  7.80078983e+00 -2.78894176e+01\n",
      " -4.01126909e+00 -2.92457604e+00 -3.55772209e+01 -2.54601898e+01\n",
      " -5.61284733e+00  2.77132750e-01 -8.42927647e+00 -6.75976181e+00\n",
      " -2.29649086e+01  4.07418156e+00 -6.28409052e+00  1.67411292e+00\n",
      " -1.46635561e+01 -5.30756831e-01 -1.08249009e+00  4.40556335e+00\n",
      "  2.30964231e+00 -2.62774396e+00 -1.83627758e+01  1.39199042e+00\n",
      " -1.91189981e+00 -1.20412130e+01 -1.74631634e+01 -1.16183491e+01\n",
      "  6.07503033e+00 -8.25019455e+00 -2.70496693e+01  8.16861439e+00\n",
      " -7.14077234e+00 -1.27453709e+01  2.79681468e+00 -1.11982784e+01\n",
      " -1.51644592e+01 -3.70888023e+01 -7.93614960e+00 -2.30409260e+01\n",
      " -1.47141609e+01 -2.17670345e+00 -1.57855189e+00  4.40656376e+00\n",
      " -3.00407753e+01 -1.30330248e+01 -8.75489235e+00 -2.73339958e+01\n",
      " -4.97219772e+01  3.57206178e+00  6.77035689e-01 -2.01927891e+01\n",
      " -1.17887712e+00 -1.04035139e+01 -3.39689484e+01 -3.96462345e+00\n",
      "  1.86548672e+01  6.98886871e+00 -1.27162132e+01 -1.03084898e+01\n",
      " -2.88978405e+01 -2.54897823e+01  6.31661510e+00 -1.12098217e+01\n",
      "  2.16430688e+00  7.17961740e+00 -2.08494873e+01 -6.11251783e+00\n",
      "  9.52773467e-02 -9.07693958e+00 -2.65875969e+01 -3.03812866e+01\n",
      " -9.06277561e+00  5.86848545e+00  2.65124488e+00 -9.03617573e+00\n",
      "  1.90418911e+00 -8.78281021e+00 -2.21919842e+01 -1.53291578e+01\n",
      " -1.20963240e+01 -7.95825243e-01 -2.64549007e+01 -2.74411125e+01\n",
      " -1.96614532e+01 -1.26837754e+00]' has dtype incompatible with int64, please explicitly cast to a compatible dtype first.\n",
      "  preds[val_index] = model.predict(dval_i)\n"
     ]
    },
    {
     "name": "stderr",
     "output_type": "stream",
     "text": [
      "\r",
      "100%|█████████████████████████████████████████████████████████████████████████████████████████████████████████████████████████████████████████████████████████████████████████████████████████████████████████████████████████████| 10/10 [03:11<00:00, 19.80s/it]"
     ]
    },
    {
     "name": "stderr",
     "output_type": "stream",
     "text": [
      "\r",
      "100%|█████████████████████████████████████████████████████████████████████████████████████████████████████████████████████████████████████████████████████████████████████████████████████████████████████████████████████████████| 10/10 [03:11<00:00, 19.19s/it]"
     ]
    },
    {
     "name": "stdout",
     "output_type": "stream",
     "text": [
      "OOF predictions complete\n"
     ]
    },
    {
     "name": "stderr",
     "output_type": "stream",
     "text": [
      "\n"
     ]
    }
   ],
   "source": [
    "# OOF予測\n",
    "oof_preds = []\n",
    "for i in tqdm(range(repeat_cv), leave=True, dynamic_ncols=True):\n",
    "    # 初期はターゲットの値で初期化（後で上書き）\n",
    "    preds = y.copy()\n",
    "    # 各 repeater 毎に独自の KFold を用いる（random_state = i）\n",
    "    kfold = KFold(n_splits=folds_splits, shuffle=True, random_state=i)    \n",
    "    for train_index, val_index in kfold.split(X, y):\n",
    "        dtrain_i = xgb.DMatrix(X.iloc[train_index], label=y.iloc[train_index])\n",
    "        dval_i   = xgb.DMatrix(X.iloc[val_index], label=y.iloc[val_index])\n",
    "\n",
    "        model = xgb.train(\n",
    "            params=param,\n",
    "            dtrain=dtrain_i,\n",
    "            num_boost_round=iteration_counts[i],\n",
    "            verbose_eval=50\n",
    "        )\n",
    "        preds[val_index] = model.predict(dval_i)\n",
    "    # 予測値を -30 ～ 30 にクリップ\n",
    "    oof_preds.append(np.clip(preds, -30, 30))\n",
    "\n",
    "print(\"OOF predictions complete\")"
   ]
  },
  {
   "cell_type": "code",
   "execution_count": 24,
   "id": "ba281de1",
   "metadata": {
    "execution": {
     "iopub.execute_input": "2025-03-14T07:52:28.259479Z",
     "iopub.status.busy": "2025-03-14T07:52:28.259479Z",
     "iopub.status.idle": "2025-03-14T07:52:28.367079Z",
     "shell.execute_reply": "2025-03-14T07:52:28.367079Z"
    },
    "papermill": {
     "duration": 0.1373,
     "end_time": "2025-03-14T07:52:28.367079",
     "exception": false,
     "start_time": "2025-03-14T07:52:28.229779",
     "status": "completed"
    },
    "tags": []
   },
   "outputs": [
    {
     "data": {
      "text/plain": [
       "<Axes: >"
      ]
     },
     "execution_count": 24,
     "metadata": {},
     "output_type": "execute_result"
    },
    {
     "data": {
      "image/png": "[encoded data removed]",
      "text/plain": [
       "<Figure size 640x480 with 1 Axes>"
      ]
     },
     "metadata": {},
     "output_type": "display_data"
    }
   ],
   "source": [
    "oof_preds[0].hist()"
   ]
  },
  {
   "cell_type": "code",
   "execution_count": 25,
   "id": "61246f01",
   "metadata": {
    "execution": {
     "iopub.execute_input": "2025-03-14T07:52:28.400307Z",
     "iopub.status.busy": "2025-03-14T07:52:28.400307Z",
     "iopub.status.idle": "2025-03-14T07:52:28.425492Z",
     "shell.execute_reply": "2025-03-14T07:52:28.424436Z"
    },
    "papermill": {
     "duration": 0.052688,
     "end_time": "2025-03-14T07:52:28.425492",
     "exception": false,
     "start_time": "2025-03-14T07:52:28.372804",
     "status": "completed"
    },
    "tags": []
   },
   "outputs": [],
   "source": [
    "### simple spline, seed(1, 16)~(4, 13)は強制的にfiltaring,  \n",
    "### seed値に対応して予測スコアも同じ大小関係なら1or0に変換の3モデル\n",
    "def cal_logloss(pred_vals, y, i):\n",
    "    y_binary = np.where(y > 0, 1, 0)\n",
    "    loss = log_loss(y_binary, pred_vals)\n",
    "    print(f\"logloss of cvsplit {i}: {loss:.4f}\")\n",
    "\n",
    "\n",
    "    results.append(f\"Normal Spline - logloss of cvsplit {i}: {loss:.4f}\")\n",
    "    return loss\n",
    "\n",
    "#simple spline\n",
    "def make_normal_spline(df, y, repeat_cv):\n",
    "    spline_model1 = []\n",
    "    logloss_normal = []\n",
    "    \n",
    "    for i in range(repeat_cv):\n",
    "        dat = list(zip(df[i], np.where(y>0, 1, 0)))\n",
    "        dat = sorted(dat, key=lambda x:x[0])\n",
    "        datdict = {}\n",
    "        for k in range(len(dat)):\n",
    "            datdict[dat[k][0]] = dat[k][1]\n",
    "        \n",
    "        spline_model1.append(UnivariateSpline(list(datdict.keys()), list(datdict.values())))\n",
    "        spline_fit = spline_model1[i](df[i])\n",
    "        \n",
    "        loss = cal_logloss(spline_fit, y, i)    \n",
    "        logloss_normal.append(loss)\n",
    "\n",
    "    plot_df = pd.DataFrame({\n",
    "        \"pred\": df[0],\n",
    "        \"label\": np.where(y>0,1,0),\n",
    "        \"spline\": spline_model1[0](df[0])\n",
    "    })\n",
    "    plot_df[\"pred_int\"] = plot_df[\"pred\"].astype(int)\n",
    "    plot_df = plot_df.groupby('pred_int')[['spline','label']].mean().reset_index()\n",
    "    \n",
    "    plt.figure(figsize=(8, 5))\n",
    "    plt.plot(plot_df.pred_int, plot_df.label, marker='o', linestyle='-', label=\"True Label\")\n",
    "    plt.plot(plot_df.pred_int, plot_df.spline, marker='x', linestyle='--', label=\"Spline Approximation\")\n",
    "    plt.xlabel(\"Predicted Value (Integer)\")\n",
    "    plt.ylabel(\"Mean Value\")\n",
    "    plt.title(\"Normal Spline Fit Comparison\")\n",
    "    plt.legend()\n",
    "    plt.grid(True)\n",
    "    plt.savefig(os.path.join(OUTPUT_PATH, f\"normal_spline_fit_{PREDICT_YEAR}.png\"))\n",
    "    plt.close()\n",
    "    \n",
    "    \n",
    "    # 例として平均loglossもresultsに記録\n",
    "    avg_logloss = np.mean(logloss_normal) \n",
    "    results.append(f\"Average Normal Spline logloss: {avg_logloss:.4f}\" if avg_logloss is not None else \"No logloss computed\")\n",
    "    \n",
    "    return spline_model1\n",
    "            \n",
    "            \n",
    "#seed(1, 16)~(4, 13)は強制的にseed通りの結果にフィルタリング\n",
    "def make_seed1to4_chenge(df, y, repeat_cv):\n",
    "    spline_model2 = []\n",
    "    spline_fits = []\n",
    "    for i in range(repeat_cv):\n",
    "        dat = list(zip(df[i], np.where(y>0, 1, 0)))\n",
    "        dat = sorted(dat, key=lambda x:x[0])\n",
    "        datdict = {}\n",
    "        for k in range(len(dat)):\n",
    "            datdict[dat[k][0]] = dat[k][1]\n",
    "        \n",
    "        spline_model2.append(UnivariateSpline(list(datdict.keys()), list(datdict.values())))\n",
    "        spline_fit = spline_model2[i](df[i]) \n",
    "        \n",
    "        #add\n",
    "        spline_fit[(X.T1_seed==1) & (X.T2_seed==16)] = 1.0\n",
    "        spline_fit[(X.T1_seed==2) & (X.T2_seed==15)] = 0.9\n",
    "        spline_fit[(X.T1_seed==3) & (X.T2_seed==14)] = 0.8\n",
    "        spline_fit[(X.T1_seed==4) & (X.T2_seed==13)] = 0.7\n",
    "        spline_fit[(X.T1_seed==16) & (X.T2_seed==1)] = 0.0\n",
    "        spline_fit[(X.T1_seed==15) & (X.T2_seed==2)] = 0.1\n",
    "        spline_fit[(X.T1_seed==14) & (X.T2_seed==3)] = 0.2\n",
    "        spline_fit[(X.T1_seed==13) & (X.T2_seed==4)] = 0.3\n",
    "\n",
    "    \n",
    "        cal_logloss(spline_fit, y, i)   \n",
    "                \n",
    "        spline_fits.append(spline_fit)\n",
    "        cal_logloss(spline_fit, y, i)   \n",
    "                \n",
    "    \n",
    "    plot_df = pd.DataFrame({\n",
    "        \"pred\": df[0],\n",
    "        \"label\": np.where(y > 0, 1, 0),\n",
    "        \"spline\": spline_fits[0]  # 変更後の値を利用\n",
    "    })\n",
    "    plot_df[\"pred_int\"] = plot_df[\"pred\"].astype(int)\n",
    "    plot_df = plot_df.groupby(\"pred_int\")[[\"spline\", \"label\"]].mean().reset_index()\n",
    "\n",
    "    plt.figure()\n",
    "    plt.plot(plot_df.pred_int, plot_df.label, label=\"label\")\n",
    "    plt.plot(plot_df.pred_int, plot_df.spline, label=\"spline\")\n",
    "    plt.legend()\n",
    "    plt.show()\n",
    "    \n",
    "    return spline_model2\n",
    "    \n",
    "    \n",
    "#完全に値変換するのではなくてseed値に対応して予測スコアも同じ大小関係なら1or0に変換\n",
    "def make_seed1to4_base_on_score(df, y, repeat_cv):\n",
    "    spline_model3 = []\n",
    "    spline_fits = []\n",
    "\n",
    "    for i in range(repeat_cv):\n",
    "        dat = list(zip(df[i], np.where(y>0, 1, 0)))\n",
    "        dat = sorted(dat, key=lambda x:x[0])\n",
    "        datdict = {}\n",
    "        for k in range(len(dat)):\n",
    "            datdict[dat[k][0]] = dat[k][1]\n",
    "        \n",
    "        spline_model3.append(UnivariateSpline(list(datdict.keys()), list(datdict.values())))\n",
    "        spline_fit = spline_model3[i](df[i]) \n",
    "        \n",
    "        #add\n",
    "        spline_fit[(X.T1_seed==1) & (X.T2_seed==16) & (X.T1_Score > X.T2_Score)] = 1.0\n",
    "        spline_fit[(X.T1_seed==2) & (X.T2_seed==15) & (X.T1_Score > X.T2_Score)] = 1.0\n",
    "        spline_fit[(X.T1_seed==3) & (X.T2_seed==14) & (X.T1_Score > X.T2_Score)] = 1.0\n",
    "        spline_fit[(X.T1_seed==4) & (X.T2_seed==13) & (X.T1_Score > X.T2_Score)] = 1.0\n",
    "        spline_fit[(X.T1_seed==16) & (X.T2_seed==1) & (X.T1_Score < X.T2_Score)] = 0.0\n",
    "        spline_fit[(X.T1_seed==15) & (X.T2_seed==2) & (X.T1_Score < X.T2_Score)] = 0.0\n",
    "        spline_fit[(X.T1_seed==14) & (X.T2_seed==3) & (X.T1_Score < X.T2_Score)] = 0.0\n",
    "        spline_fit[(X.T1_seed==13) & (X.T2_seed==4) & (X.T1_Score < X.T2_Score)] = 0.0\n",
    "\n",
    "        spline_fits.append(spline_fit)\n",
    "        cal_logloss(spline_fit, y, i)   \n",
    "    \n",
    "    \n",
    "    plot_df = pd.DataFrame({\n",
    "        \"pred\": df[0],\n",
    "        \"label\": np.where(y > 0, 1, 0),\n",
    "        \"spline\": spline_fits[0]  # 変更後の値を利用\n",
    "    })\n",
    "    plot_df[\"pred_int\"] = plot_df[\"pred\"].astype(int)\n",
    "    plot_df = plot_df.groupby(\"pred_int\")[[\"spline\", \"label\"]].mean().reset_index()\n",
    "\n",
    "    plt.figure()\n",
    "    plt.plot(plot_df.pred_int, plot_df.label, label=\"label\")\n",
    "    plt.plot(plot_df.pred_int, plot_df.spline, label=\"spline\")\n",
    "    plt.legend()\n",
    "    plt.show()\n",
    "    return spline_model3\n",
    "\n",
    "\n",
    "\n",
    "# Platt Scalingを用いた補正曲線生成の関数 (ロジスティック回帰)\n",
    "def make_platt_scaling(df, y, repeat_cv):\n",
    "    platt_models = []\n",
    "    logloss_platt = []\n",
    "    \n",
    "    for i in range(repeat_cv):\n",
    "        X_train = np.array(df[i]).reshape(-1, 1)\n",
    "        y_binary = np.where(y > 0, 1, 0)\n",
    "        \n",
    "        model = LogisticRegression(random_state=42, solver='lbfgs')\n",
    "        model.fit(X_train, y_binary)\n",
    "        platt_models.append(model)\n",
    "        \n",
    "\n",
    "        platt_fit = model.predict_proba(X_train)[:, 1]\n",
    "        loss = cal_logloss(platt_fit, y, i)\n",
    "        logloss_platt.append(loss)\n",
    "    \n",
    "    \n",
    "    ###\n",
    "    plot_df = pd.DataFrame({\n",
    "        \"pred\": df[0],\n",
    "        \"label\": np.where(y > 0, 1, 0),\n",
    "        \"platt\": platt_models[0].predict_proba(np.array(df[0]).reshape(-1, 1))[:, 1]\n",
    "    })\n",
    "    plot_df[\"pred_int\"] = plot_df[\"pred\"].astype(int)\n",
    "    plot_df = plot_df.groupby(\"pred_int\")[[\"platt\", \"label\"]].mean().reset_index()\n",
    "    \n",
    "    plt.figure(figsize=(8, 5))\n",
    "    plt.plot(plot_df.pred_int, plot_df.label, marker='o', linestyle='-', label=\"True Label\")\n",
    "    plt.plot(plot_df.pred_int, plot_df.platt, marker='x', linestyle='--', label=\"Platt Scaling\")\n",
    "    plt.xlabel(\"Predicted Value (Integer)\")\n",
    "    plt.ylabel(\"Mean Value\")\n",
    "    plt.title(\"Platt Scaling Calibration Curve\")\n",
    "    plt.legend()\n",
    "    plt.grid(True)\n",
    "    plt.savefig(os.path.join(OUTPUT_PATH, f\"platt_scaling_fit_{PREDICT_YEAR}.png\"))\n",
    "    plt.close()\n",
    "    \n",
    "    avg_logloss = np.mean(logloss_platt)\n",
    "    results.append(f\"Average Platt Scaling logloss: {avg_logloss:.4f}\" if avg_logloss is not None else \"No logloss computed\")\n",
    "    \n",
    "    return platt_models\n",
    "\n",
    "def make_isotonic_regression(df, y, repeat_cv):\n",
    "    \"\"\" Isotonic Regression を用いた補正曲線生成 \"\"\"\n",
    "    isotonic_models = []\n",
    "    logloss_isotonic = []\n",
    "    \n",
    "    for i in range(repeat_cv):\n",
    "        X_train = np.array(df[i]).reshape(-1, 1)\n",
    "        y_binary = np.where(y > 0, 1, 0)\n",
    "        \n",
    "        model = IsotonicRegression(out_of_bounds=\"clip\")\n",
    "        model.fit(X_train.ravel(), y_binary)\n",
    "        isotonic_models.append(model)\n",
    "        \n",
    "        isotonic_fit = model.predict(X_train.ravel())\n",
    "        loss = cal_logloss(isotonic_fit, y, i)\n",
    "        logloss_isotonic.append(loss)\n",
    "    \n",
    "    plot_df = pd.DataFrame({\n",
    "        \"pred\": df[0],\n",
    "        \"label\": np.where(y > 0, 1, 0),\n",
    "        \"isotonic\": isotonic_models[0].predict(np.array(df[0]).reshape(-1, 1))\n",
    "    })\n",
    "    plot_df[\"pred_int\"] = plot_df[\"pred\"].astype(int)\n",
    "    plot_df = plot_df.groupby(\"pred_int\")[[\"isotonic\", \"label\"]].mean().reset_index()\n",
    "    \n",
    "    plt.figure(figsize=(8, 5))\n",
    "    plt.plot(plot_df.pred_int, plot_df.label, marker='o', linestyle='-', label=\"True Label\")\n",
    "    plt.plot(plot_df.pred_int, plot_df.isotonic, marker='x', linestyle='--', label=\"Isotonic Regression\")\n",
    "    plt.xlabel(\"Predicted Value (Integer)\")\n",
    "    plt.ylabel(\"Mean Value\")\n",
    "    plt.title(\"Isotonic Regression Calibration Curve\")\n",
    "    plt.legend()\n",
    "    plt.grid(True)\n",
    "    plt.savefig(os.path.join(OUTPUT_PATH, f\"isotonic_regression_fit_{PREDICT_YEAR}.png\"))\n",
    "    plt.close()\n",
    "    \n",
    "    avg_logloss = np.mean(logloss_isotonic)\n",
    "    results.append(f\"Average Isotonic Regression logloss: {avg_logloss:.4f}\" if avg_logloss is not None else \"No logloss computed\")\n",
    "    \n",
    "    return isotonic_models\n",
    "\n"
   ]
  },
  {
   "cell_type": "code",
   "execution_count": 26,
   "id": "56272aa5",
   "metadata": {
    "execution": {
     "iopub.execute_input": "2025-03-14T07:52:28.458516Z",
     "iopub.status.busy": "2025-03-14T07:52:28.458516Z",
     "iopub.status.idle": "2025-03-14T07:52:28.464569Z",
     "shell.execute_reply": "2025-03-14T07:52:28.463483Z"
    },
    "papermill": {
     "duration": 0.022955,
     "end_time": "2025-03-14T07:52:28.465538",
     "exception": false,
     "start_time": "2025-03-14T07:52:28.442583",
     "status": "completed"
    },
    "tags": []
   },
   "outputs": [],
   "source": [
    "# キャリブレーションカーブの描画関数\n",
    "def plot_calibration_curve(y_true, y_pred_proba, method, save_path):\n",
    "    \"\"\" キャリブレーションカーブをプロットし保存 \"\"\"\n",
    "    y_binary = np.where(y_true > 0, 1, 0) \n",
    "    prob_true, prob_pred = calibration_curve(y_binary, y_pred_proba, n_bins=10)\n",
    "    \n",
    "    plt.figure(figsize=(6,6))\n",
    "    plt.plot(prob_pred, prob_true, marker=\"o\", label=f\"{method} Calibration\")\n",
    "    plt.plot([0, 1], [0, 1], linestyle=\"--\", label=\"Perfect Calibration\")\n",
    "    plt.xlabel(\"Predicted Probability\")\n",
    "    plt.ylabel(\"Actual Probability\")\n",
    "    plt.legend()\n",
    "    plt.title(f\"{method} Calibration Curve\")\n",
    "    plt.grid()\n",
    "    plt.savefig(save_path)\n",
    "    plt.close()\n",
    "\n"
   ]
  },
  {
   "cell_type": "code",
   "execution_count": 27,
   "id": "1bde72ce",
   "metadata": {
    "execution": {
     "iopub.execute_input": "2025-03-14T07:52:28.496745Z",
     "iopub.status.busy": "2025-03-14T07:52:28.496745Z",
     "iopub.status.idle": "2025-03-14T07:52:28.695717Z",
     "shell.execute_reply": "2025-03-14T07:52:28.695717Z"
    },
    "papermill": {
     "duration": 0.221177,
     "end_time": "2025-03-14T07:52:28.695717",
     "exception": false,
     "start_time": "2025-03-14T07:52:28.474540",
     "status": "completed"
    },
    "tags": []
   },
   "outputs": [
    {
     "name": "stdout",
     "output_type": "stream",
     "text": [
      "logloss of cvsplit 0: 0.5091\n",
      "logloss of cvsplit 1: 0.5065\n",
      "logloss of cvsplit 2: 0.5058\n",
      "logloss of cvsplit 3: 0.5035\n",
      "logloss of cvsplit 4: 0.5064\n",
      "logloss of cvsplit 5: 0.5038\n",
      "logloss of cvsplit 6: 0.5058\n",
      "logloss of cvsplit 7: 0.5090\n",
      "logloss of cvsplit 8: 0.5062\n",
      "logloss of cvsplit 9: 0.5048\n"
     ]
    }
   ],
   "source": [
    "# キャリブレーション手法の選択\n",
    "spline = MODEL.spline\n",
    "if spline == \"spline_normal\":\n",
    "    spline_model = make_normal_spline(oof_preds, y, repeat_cv)\n",
    "    calibrated_preds = spline_model[0](oof_preds[0])\n",
    "    plot_calibration_curve(y, calibrated_preds, \"Spline Normal\", os.path.join(OUTPUT_PATH, f\"spline_normal_calibration_{PREDICT_YEAR}.png\"))\n",
    "    \n",
    "elif spline == \"logistic\":\n",
    "    spline_model = make_platt_scaling(oof_preds, y, repeat_cv)\n",
    "    calibrated_preds = spline_model[0].predict_proba(np.array(oof_preds[0]).reshape(-1, 1))[:, 1]\n",
    "    plot_calibration_curve(y, calibrated_preds, \"Platt Scaling\", os.path.join(OUTPUT_PATH, f\"platt_scaling_calibration_{PREDICT_YEAR}.png\"))\n",
    "    \n",
    "elif spline == \"isotonic\":\n",
    "    spline_model = make_isotonic_regression(oof_preds, y, repeat_cv)\n",
    "    calibrated_preds = spline_model[0].predict(np.array(oof_preds[0]).reshape(-1, 1))\n",
    "    plot_calibration_curve(y, calibrated_preds, \"Isotonic Regression\", os.path.join(OUTPUT_PATH, f\"isotonic_regression_calibration_{PREDICT_YEAR}.png\"))"
   ]
  },
  {
   "cell_type": "markdown",
   "id": "fc8d5133",
   "metadata": {
    "papermill": {
     "duration": 0.01578,
     "end_time": "2025-03-14T07:52:28.718482",
     "exception": false,
     "start_time": "2025-03-14T07:52:28.702702",
     "status": "completed"
    },
    "tags": []
   },
   "source": [
    "# submmit\n",
    "\n",
    "同じfeature engineeringする.\n",
    "\n",
    "個々の扱うも考える。2025は最終提出用の関数を用意する、その他2024以前は過去コンペでの提出形式に合わせる、でも年度によって提出形式が変わるからとりあえず2023でやる"
   ]
  },
  {
   "cell_type": "code",
   "execution_count": 28,
   "id": "8d094db7",
   "metadata": {
    "execution": {
     "iopub.execute_input": "2025-03-14T07:52:28.759724Z",
     "iopub.status.busy": "2025-03-14T07:52:28.759724Z",
     "iopub.status.idle": "2025-03-14T07:52:28.765034Z",
     "shell.execute_reply": "2025-03-14T07:52:28.765034Z"
    },
    "papermill": {
     "duration": 0.030532,
     "end_time": "2025-03-14T07:52:28.765034",
     "exception": false,
     "start_time": "2025-03-14T07:52:28.734502",
     "status": "completed"
    },
    "tags": []
   },
   "outputs": [
    {
     "data": {
      "text/plain": [
       "'if PREDICT_YEAR==2022:\\n    sub = pd.read_csv(os.path.join(INPUT_PATH, \"SampleSubmission2022M.csv\"))\\n    sub[\\'Season\\'] = sub[\\'ID\\'].apply(lambda x: int(x.split(\\'_\\')[0]))\\n    sub[\"T1_TeamID\"] = sub[\\'ID\\'].apply(lambda x: int(x.split(\\'_\\')[1]))\\n    sub[\"T2_TeamID\"] = sub[\\'ID\\'].apply(lambda x: int(x.split(\\'_\\')[2]))\\n    sub_X, a = process_tourney(sub, mode = \"sub\")\\n    dtest = xgb.DMatrix(sub_X)\\nelif PREDICT_YEAR==2023:\\n    sub = pd.read_csv(os.path.join(INPUT_PATH, \"SampleSubmission2023.csv\"))\\n    sub[\\'Season\\'] = sub[\\'ID\\'].apply(lambda x: int(x.split(\\'_\\')[0]))\\n    sub[\"T1_TeamID\"] = sub[\\'ID\\'].apply(lambda x: int(x.split(\\'_\\')[1]))\\n    sub[\"T2_TeamID\"] = sub[\\'ID\\'].apply(lambda x: int(x.split(\\'_\\')[2]))\\n    sub_X, a = process_tourney(sub, mode = \"sub\")\\n    dtest = xgb.DMatrix(sub_X)\\nelif PREDICT_YEAR==2024:\\n    sub = pd.read_csv(os.path.join(INPUT_PATH, \"SampleSubmission2024.csv\"))\\n    sub[\\'Season\\'] = sub[\\'ID\\'].apply(lambda x: int(x.split(\\'_\\')[0]))\\n    sub[\"T1_TeamID\"] = sub[\\'ID\\'].apply(lambda x: int(x.split(\\'_\\')[1]))\\n    sub[\"T2_TeamID\"] = sub[\\'ID\\'].apply(lambda x: int(x.split(\\'_\\')[2]))\\n    sub_X, a = process_tourney(sub, mode = \"sub\")\\n    dtest = xgb.DMatrix(sub_X)\\nelif PREDICT_YEAR==2025:\\n    sub = pd.read_csv(os.path.join(INPUT_PATH, \"SampleSubmissionStage2.csv\"))\\n    sub[\\'Season\\'] = sub[\\'ID\\'].apply(lambda x: int(x.split(\\'_\\')[0]))\\n    sub[\"T1_TeamID\"] = sub[\\'ID\\'].apply(lambda x: int(x.split(\\'_\\')[1]))\\n    sub[\"T2_TeamID\"] = sub[\\'ID\\'].apply(lambda x: int(x.split(\\'_\\')[2]))   \\n    sub_X, a = process_tourney(sub, mode = \"sub\")\\n    dtest = xgb.DMatrix(sub_X)'"
      ]
     },
     "execution_count": 28,
     "metadata": {},
     "output_type": "execute_result"
    }
   ],
   "source": [
    "\"\"\"if PREDICT_YEAR==2022:\n",
    "    sub = pd.read_csv(os.path.join(INPUT_PATH, \"SampleSubmission2022M.csv\"))\n",
    "    sub['Season'] = sub['ID'].apply(lambda x: int(x.split('_')[0]))\n",
    "    sub[\"T1_TeamID\"] = sub['ID'].apply(lambda x: int(x.split('_')[1]))\n",
    "    sub[\"T2_TeamID\"] = sub['ID'].apply(lambda x: int(x.split('_')[2]))\n",
    "    sub_X, a = process_tourney(sub, mode = \"sub\")\n",
    "    dtest = xgb.DMatrix(sub_X)\n",
    "elif PREDICT_YEAR==2023:\n",
    "    sub = pd.read_csv(os.path.join(INPUT_PATH, \"SampleSubmission2023.csv\"))\n",
    "    sub['Season'] = sub['ID'].apply(lambda x: int(x.split('_')[0]))\n",
    "    sub[\"T1_TeamID\"] = sub['ID'].apply(lambda x: int(x.split('_')[1]))\n",
    "    sub[\"T2_TeamID\"] = sub['ID'].apply(lambda x: int(x.split('_')[2]))\n",
    "    sub_X, a = process_tourney(sub, mode = \"sub\")\n",
    "    dtest = xgb.DMatrix(sub_X)\n",
    "elif PREDICT_YEAR==2024:\n",
    "    sub = pd.read_csv(os.path.join(INPUT_PATH, \"SampleSubmission2024.csv\"))\n",
    "    sub['Season'] = sub['ID'].apply(lambda x: int(x.split('_')[0]))\n",
    "    sub[\"T1_TeamID\"] = sub['ID'].apply(lambda x: int(x.split('_')[1]))\n",
    "    sub[\"T2_TeamID\"] = sub['ID'].apply(lambda x: int(x.split('_')[2]))\n",
    "    sub_X, a = process_tourney(sub, mode = \"sub\")\n",
    "    dtest = xgb.DMatrix(sub_X)\n",
    "elif PREDICT_YEAR==2025:\n",
    "    sub = pd.read_csv(os.path.join(INPUT_PATH, \"SampleSubmissionStage2.csv\"))\n",
    "    sub['Season'] = sub['ID'].apply(lambda x: int(x.split('_')[0]))\n",
    "    sub[\"T1_TeamID\"] = sub['ID'].apply(lambda x: int(x.split('_')[1]))\n",
    "    sub[\"T2_TeamID\"] = sub['ID'].apply(lambda x: int(x.split('_')[2]))   \n",
    "    sub_X, a = process_tourney(sub, mode = \"sub\")\n",
    "    dtest = xgb.DMatrix(sub_X)\"\"\"\n",
    "    "
   ]
  },
  {
   "cell_type": "code",
   "execution_count": 29,
   "id": "03ba9681",
   "metadata": {
    "execution": {
     "iopub.execute_input": "2025-03-14T07:52:28.805046Z",
     "iopub.status.busy": "2025-03-14T07:52:28.805046Z",
     "iopub.status.idle": "2025-03-14T07:52:28.829652Z",
     "shell.execute_reply": "2025-03-14T07:52:28.829652Z"
    },
    "papermill": {
     "duration": 0.044711,
     "end_time": "2025-03-14T07:52:28.831713",
     "exception": false,
     "start_time": "2025-03-14T07:52:28.787002",
     "status": "completed"
    },
    "tags": []
   },
   "outputs": [
    {
     "name": "stdout",
     "output_type": "stream",
     "text": [
      "no fillna, use nan\n",
      "drop col list: ['T1_TOmean', 'T2_TOmean', 'T1_opponent_POSS_RATEmean', 'T2_opponent_POSS_RATEmean', 'T1_opponent_Astmean', 'T2_opponent_Astmean', 'T1_opponent_FT_RATEmean', 'T2_opponent_FT_RATEmean', 'T1_opponent_Stlmean', 'T2_opponent_Stlmean', 'T1_ORmean', 'T2_ORmean', 'T1_opponent_ORmean', 'T2_opponent_ORmean']\n"
     ]
    }
   ],
   "source": [
    "sub = notexist.copy()\n",
    "sub = sub.rename(columns={\"WTeamID\": \"T1_TeamID\", \"LTeamID\": \"T2_TeamID\"})\n",
    "sub = sub[[\"Season\", \"T1_TeamID\", \"T2_TeamID\"]]\n",
    "temp = sub.copy()\n",
    "temp = temp.rename(columns={\"T1_TeamID\": \"T2_TeamID\", \"T2_TeamID\": \"T1_TeamID\"})\n",
    "sub = pd.concat([sub, temp]).reset_index()\n",
    "sub_X, a = process_tourney(sub, mode=\"sub\")\n",
    "sub_X = drop_columns(sub_X, drop_col)\n",
    "dtest = xgb.DMatrix(sub_X)"
   ]
  },
  {
   "cell_type": "code",
   "execution_count": 30,
   "id": "ed51e2c6",
   "metadata": {
    "execution": {
     "iopub.execute_input": "2025-03-14T07:52:28.889503Z",
     "iopub.status.busy": "2025-03-14T07:52:28.887497Z",
     "iopub.status.idle": "2025-03-14T07:53:15.369011Z",
     "shell.execute_reply": "2025-03-14T07:53:15.369011Z"
    },
    "papermill": {
     "duration": 46.510291,
     "end_time": "2025-03-14T07:53:15.371017",
     "exception": false,
     "start_time": "2025-03-14T07:52:28.860726",
     "status": "completed"
    },
    "tags": []
   },
   "outputs": [
    {
     "name": "stderr",
     "output_type": "stream",
     "text": [
      "\r",
      "  0%|                                                                                                                                                                                                                                      | 0/10 [00:00<?, ?it/s]"
     ]
    },
    {
     "name": "stderr",
     "output_type": "stream",
     "text": [
      "\r",
      " 10%|██████████████████████▏                                                                                                                                                                                                       | 1/10 [00:04<00:38,  4.24s/it]"
     ]
    },
    {
     "name": "stderr",
     "output_type": "stream",
     "text": [
      "\r",
      " 20%|████████████████████████████████████████████▍                                                                                                                                                                                 | 2/10 [00:08<00:35,  4.39s/it]"
     ]
    },
    {
     "name": "stderr",
     "output_type": "stream",
     "text": [
      "\r",
      " 30%|██████████████████████████████████████████████████████████████████▌                                                                                                                                                           | 3/10 [00:13<00:30,  4.36s/it]"
     ]
    },
    {
     "name": "stderr",
     "output_type": "stream",
     "text": [
      "\r",
      " 40%|████████████████████████████████████████████████████████████████████████████████████████▊                                                                                                                                     | 4/10 [00:17<00:27,  4.57s/it]"
     ]
    },
    {
     "name": "stderr",
     "output_type": "stream",
     "text": [
      "\r",
      " 50%|███████████████████████████████████████████████████████████████████████████████████████████████████████████████                                                                                                               | 5/10 [00:22<00:23,  4.67s/it]"
     ]
    },
    {
     "name": "stderr",
     "output_type": "stream",
     "text": [
      "\r",
      " 60%|█████████████████████████████████████████████████████████████████████████████████████████████████████████████████████████████████████▏                                                                                        | 6/10 [00:26<00:17,  4.43s/it]"
     ]
    },
    {
     "name": "stderr",
     "output_type": "stream",
     "text": [
      "\r",
      " 70%|███████████████████████████████████████████████████████████████████████████████████████████████████████████████████████████████████████████████████████████▍                                                                  | 7/10 [00:31<00:13,  4.41s/it]"
     ]
    },
    {
     "name": "stderr",
     "output_type": "stream",
     "text": [
      "\r",
      " 80%|█████████████████████████████████████████████████████████████████████████████████████████████████████████████████████████████████████████████████████████████████████████████████▌                                            | 8/10 [00:36<00:09,  4.73s/it]"
     ]
    },
    {
     "name": "stderr",
     "output_type": "stream",
     "text": [
      "\r",
      " 90%|███████████████████████████████████████████████████████████████████████████████████████████████████████████████████████████████████████████████████████████████████████████████████████████████████████▊                      | 9/10 [00:41<00:04,  4.87s/it]"
     ]
    },
    {
     "name": "stderr",
     "output_type": "stream",
     "text": [
      "\r",
      "100%|█████████████████████████████████████████████████████████████████████████████████████████████████████████████████████████████████████████████████████████████████████████████████████████████████████████████████████████████| 10/10 [00:46<00:00,  4.83s/it]"
     ]
    },
    {
     "name": "stderr",
     "output_type": "stream",
     "text": [
      "\r",
      "100%|█████████████████████████████████████████████████████████████████████████████████████████████████████████████████████████████████████████████████████████████████████████████████████████████████████████████████████████████| 10/10 [00:46<00:00,  4.65s/it]"
     ]
    },
    {
     "name": "stderr",
     "output_type": "stream",
     "text": [
      "\n"
     ]
    }
   ],
   "source": [
    "sub_models = []\n",
    "#sokutionではカスタム関数の指定、早期停止の言及がここではなかった。検討する\n",
    "for i in tqdm(range(repeat_cv), leave=True, dynamic_ncols=True):\n",
    "    sub_models.append(\n",
    "        xgb.train(\n",
    "          params = param,\n",
    "          dtrain = dtrain,\n",
    "          obj=cauchyobj,\n",
    "          num_boost_round = int(iteration_counts[i] * 1.05),\n",
    "          #early_stopping_rounds=early_stopping_rounds, #これ指定してない、指定するのかあと、指定するとしても少し遅くさせるとか\n",
    "          verbose_eval = 50\n",
    "        )\n",
    "    )"
   ]
  },
  {
   "cell_type": "markdown",
   "id": "2aca8dee",
   "metadata": {
    "papermill": {
     "duration": 0.028095,
     "end_time": "2025-03-14T07:53:15.426122",
     "exception": false,
     "start_time": "2025-03-14T07:53:15.398027",
     "status": "completed"
    },
    "tags": []
   },
   "source": [
    "各特徴量の寄与度を算出"
   ]
  },
  {
   "cell_type": "code",
   "execution_count": 31,
   "id": "add5e69d",
   "metadata": {
    "execution": {
     "iopub.execute_input": "2025-03-14T07:53:15.474432Z",
     "iopub.status.busy": "2025-03-14T07:53:15.473426Z",
     "iopub.status.idle": "2025-03-14T07:53:15.928900Z",
     "shell.execute_reply": "2025-03-14T07:53:15.928900Z"
    },
    "papermill": {
     "duration": 0.476967,
     "end_time": "2025-03-14T07:53:15.928900",
     "exception": false,
     "start_time": "2025-03-14T07:53:15.451933",
     "status": "completed"
    },
    "tags": []
   },
   "outputs": [
    {
     "data": {
      "image/png": "[encoded data removed]",
      "text/plain": [
       "<Figure size 1000x600 with 1 Axes>"
      ]
     },
     "metadata": {},
     "output_type": "display_data"
    }
   ],
   "source": [
    "feature_importances = collections.defaultdict(list)\n",
    "for model in sub_models:\n",
    "    importance = model.get_score(importance_type='gain')\n",
    "    for feat, score in importance.items():\n",
    "        feature_importances[feat].append(score)\n",
    "\n",
    "avg_importance = {feat: sum(scores) / len(scores) for feat, scores in feature_importances.items()}\n",
    "fi_df = pd.DataFrame(list(avg_importance.items()), columns=['Feature', 'Avg_Gain'])\n",
    "fi_df.sort_values(by='Avg_Gain', ascending=False, inplace=True)\n",
    "results.append(\"\")\n",
    "fi_log = \"-----Feature Importance (Average Gain)-----\\n\"\n",
    "for feat, score in fi_df.values:\n",
    "    fi_log += f\"{feat}: {score:.4f}\\n\"\n",
    "results.append(fi_log)\n",
    "results.append(\"\")\n",
    "\n",
    "plt.figure(figsize=(10, 6))\n",
    "plt.bar(fi_df['Feature'], fi_df['Avg_Gain'])\n",
    "plt.xlabel('Feature')\n",
    "plt.ylabel('Average Gain')\n",
    "plt.title('Feature Importance (Average Gain)')\n",
    "plt.xticks(rotation=45)\n",
    "plt.tight_layout() \n",
    "\n",
    "plt.savefig(os.path.join(OUTPUT_PATH, f\"feature_importance_{PREDICT_YEAR}.png\"))\n",
    "plt.show()"
   ]
  },
  {
   "cell_type": "code",
   "execution_count": 32,
   "id": "5905631d",
   "metadata": {
    "execution": {
     "iopub.execute_input": "2025-03-14T07:53:15.961832Z",
     "iopub.status.busy": "2025-03-14T07:53:15.961832Z",
     "iopub.status.idle": "2025-03-14T07:53:16.046951Z",
     "shell.execute_reply": "2025-03-14T07:53:16.046446Z"
    },
    "papermill": {
     "duration": 0.108806,
     "end_time": "2025-03-14T07:53:16.047957",
     "exception": false,
     "start_time": "2025-03-14T07:53:15.939151",
     "status": "completed"
    },
    "tags": []
   },
   "outputs": [
    {
     "name": "stderr",
     "output_type": "stream",
     "text": [
      "\r",
      "  0%|                                                                                                                                                                                                                                      | 0/10 [00:00<?, ?it/s]"
     ]
    },
    {
     "name": "stderr",
     "output_type": "stream",
     "text": [
      "\r",
      "100%|████████████████████████████████████████████████████████████████████████████████████████████████████████████████████████████████████████████████████████████████████████████████████████████████████████████████████████████| 10/10 [00:00<00:00, 150.42it/s]"
     ]
    },
    {
     "name": "stderr",
     "output_type": "stream",
     "text": [
      "\n"
     ]
    }
   ],
   "source": [
    "sub_preds = []\n",
    "for i in tqdm(range(repeat_cv)):\n",
    "    if spline == \"spline_normal\":\n",
    "        sub_preds.append(np.clip(spline_model[i](np.clip(sub_models[i].predict(dtest), -30, 30)), 0.025, 0.975))\n",
    "    \n",
    "    elif spline == \"logistic\":\n",
    "        X_input = np.clip(sub_models[i].predict(dtest), -30, 30).reshape(-1, 1)\n",
    "        platt_pred = spline_model[i].predict_proba(X_input)[:, 1]\n",
    "        sub_preds.append(np.clip(platt_pred, 0.025, 0.975))\n",
    "\n",
    "    elif spline == \"isotonic\":\n",
    "        X_input = np.clip(sub_models[i].predict(dtest), -30, 30).reshape(-1, 1)\n",
    "        iso_pred = spline_model[i].predict(X_input)  # Isotonic Regression の適用\n",
    "        sub_preds.append(np.clip(iso_pred, 0.025, 0.975))\n",
    "\n",
    "sub[\"Pred\"] = np.mean(np.vstack(sub_preds), axis=0)"
   ]
  },
  {
   "cell_type": "code",
   "execution_count": 33,
   "id": "672dc949",
   "metadata": {
    "execution": {
     "iopub.execute_input": "2025-03-14T07:53:16.113557Z",
     "iopub.status.busy": "2025-03-14T07:53:16.113557Z",
     "iopub.status.idle": "2025-03-14T07:53:16.124638Z",
     "shell.execute_reply": "2025-03-14T07:53:16.124638Z"
    },
    "papermill": {
     "duration": 0.047614,
     "end_time": "2025-03-14T07:53:16.126805",
     "exception": false,
     "start_time": "2025-03-14T07:53:16.079191",
     "status": "completed"
    },
    "tags": []
   },
   "outputs": [
    {
     "name": "stdout",
     "output_type": "stream",
     "text": [
      "skip data flip\n"
     ]
    }
   ],
   "source": [
    "# 予測時にテストデータID反転させて予測して平均取る\n",
    "# dtestの用意とsub_predsの算出を同じようにやる\n",
    "# sub[\"Pred\"]を反転させたやつとの平均取ったやつにする\n",
    "TEST_REVERSE = MODEL.test_reverse\n",
    "\n",
    "if TEST_REVERSE:\n",
    "    print(\"----- data flip -----\") \n",
    "    sub_reverse = notexist.copy()\n",
    "    sub_reverse = sub_reverse.rename(columns={\"WTeamID\": \"T2_TeamID\", \"LTeamID\": \"T1_TeamID\"})#reverse!!\n",
    "    temp_reverse = sub_reverse.copy()\n",
    "    temp = temp.rename(columns={\"T1_TeamID\": \"T2_TeamID\", \"T2_TeamID\": \"T1_TeamID\"})\n",
    "    sub_reverse = pd.concat([sub_reverse, temp_reverse]).reset_index()\n",
    "    sub_reverse_X, a = process_tourney(sub_reverse, mode=\"sub\")\n",
    "    sub_reverse_X = drop_columns(sub_reverse_X, drop_col)\n",
    "    dtest_reverse = xgb.DMatrix(sub_reverse_X)\n",
    "    \n",
    "    sub_preds_reverse = []\n",
    "    for i in tqdm(range(repeat_cv)):\n",
    "        if spline == \"spline_normal\":\n",
    "            sub_preds_reverse.append(np.clip(spline_model[i](np.clip(sub_models[i].predict(dtest_reverse), -30, 30)), 0.025, 0.975))\n",
    "        \n",
    "        elif spline == \"logistic\":\n",
    "            X_input = np.clip(sub_models[i].predict(dtest_reverse), -30, 30).reshape(-1, 1)\n",
    "            platt_pred = spline_model[i].predict_proba(X_input)[:, 1]\n",
    "            sub_preds_reverse.append(np.clip(platt_pred, 0.025, 0.975))\n",
    "\n",
    "        elif spline == \"isotonic\":\n",
    "            X_input = np.clip(sub_models[i].predict(dtest_reverse), -30, 30).reshape(-1, 1)\n",
    "            iso_pred = spline_model[i].predict(X_input)  # Isotonic Regression の適用\n",
    "            sub_preds_reverse.append(np.clip(iso_pred, 0.025, 0.975))\n",
    "\n",
    "    sub_reverse[\"Pred\"] = np.mean(np.vstack(sub_preds_reverse), axis=0)\n",
    "    \n",
    " \n",
    "    #sub[\"Pred\"]を (sub[\"Pred\"] + (1-sub_reverse[\"Pred\"]))/2に塗り替える(平均取る)\n",
    "    sub[\"Pred\"] = (sub[\"Pred\"] + (1-sub_reverse[\"Pred\"]))/2\n",
    "\n",
    "\n",
    "else:\n",
    "    print(\"skip data flip\")"
   ]
  },
  {
   "cell_type": "code",
   "execution_count": 34,
   "id": "aef8f013",
   "metadata": {
    "execution": {
     "iopub.execute_input": "2025-03-14T07:53:16.174539Z",
     "iopub.status.busy": "2025-03-14T07:53:16.173549Z",
     "iopub.status.idle": "2025-03-14T07:53:16.180844Z",
     "shell.execute_reply": "2025-03-14T07:53:16.180844Z"
    },
    "papermill": {
     "duration": 0.028889,
     "end_time": "2025-03-14T07:53:16.180844",
     "exception": false,
     "start_time": "2025-03-14T07:53:16.151955",
     "status": "completed"
    },
    "tags": []
   },
   "outputs": [],
   "source": [
    "# teams:64team, targetを受け取って、そのtarget teamの試合可能性のある全63試合を抽出する関数\n",
    "def extract_target_team_records(submission_df, teams, target_team):\n",
    "    if target_team not in teams:\n",
    "        raise ValueError(f\"target_team {target_team} は teams 内に存在しません\")\n",
    "\n",
    "    remaining_teams = [t for t in teams if t != target_team]\n",
    "    \n",
    "    records = []\n",
    "    for other_team in remaining_teams:\n",
    "        lower = min(target_team, other_team)\n",
    "        higher = max(target_team, other_team)\n",
    "        row = submission_df[(submission_df['T1_TeamID'] == lower) & (submission_df['T2_TeamID'] == higher)]\n",
    "        if row.empty:\n",
    "            print(f\"Warning: 対戦 {lower} vs {higher} に対応するレコードが見つかりませんでした\")\n",
    "        else:\n",
    "            records.append(row)\n",
    "    \n",
    "    if records:\n",
    "        final_records = pd.concat(records, ignore_index=True)\n",
    "    else:\n",
    "        final_records = pd.DataFrame()\n",
    "    \n",
    "    if len(final_records) != 63:\n",
    "        print(f\"Warning: 期待される63件ではなく、{len(final_records)}件のレコードが抽出されました。\")\n",
    "    \n",
    "    return final_records\n"
   ]
  },
  {
   "cell_type": "code",
   "execution_count": 35,
   "id": "8be57daf",
   "metadata": {
    "execution": {
     "iopub.execute_input": "2025-03-14T07:53:16.227408Z",
     "iopub.status.busy": "2025-03-14T07:53:16.227408Z",
     "iopub.status.idle": "2025-03-14T07:53:16.231891Z",
     "shell.execute_reply": "2025-03-14T07:53:16.231891Z"
    },
    "papermill": {
     "duration": 0.040738,
     "end_time": "2025-03-14T07:53:16.233904",
     "exception": false,
     "start_time": "2025-03-14T07:53:16.193166",
     "status": "completed"
    },
    "tags": []
   },
   "outputs": [],
   "source": [
    "tourney_teams_2023 = [\n",
    "    1395, 1113,   # TCU1395, アリゾナ・ステイト1113\n",
    "    1231, 1245,   # インディアナ1231, ケント・ステイト1245\n",
    "    1243, 1286,   # カンザス・ステイト1243, モンタナ・ステイト1286\n",
    "    1272, 1194,   # メンフィス1272, ﾌﾛﾘﾀﾞ･ｱﾄﾗﾝﾃｨｯｸ1194\n",
    "    1211, 1213,   # ゴンザガ1211, グランド・キャニオン1213\n",
    "    1274, 1179,   # マイアミ（フロリダ）1274, ドレイク1179\n",
    "    1243, 1286,   # ケンタッキー1243, プロビデンス1286\n",
    "    1345, 1192,   # パデュー1345, ﾌｪｱﾘｰ･ﾃﾞｨｷﾝｿﾝ1192\n",
    "    1163, 1233,   # コネチカット1163, アイオナ1233\n",
    "    1166, 1301,   # クレイトン1166, ﾉｰｽｶﾛﾗｲﾅ･ｽﾃｲﾄ1301\n",
    "    1235, 1338,   # アイオワ・ステイト1235, ピッツバーグ1338\n",
    "    1266, 1436,   # マーケット1266, バーモント1436\n",
    "    1388, 1433,   # ｾﾝﾄﾒｱﾘｰｽﾞ（ｶﾘﾌｫﾙﾆｱ）1388, VCU1433\n",
    "    1124, 1364,   # ベイラー1124, UCサンタバーバラ1364\n",
    "    1462, 1244,   # ザビエル1462, ケネソー・ステイト1244\n",
    "    1277, 1425,   # ミシガン・ステイト1277, USC トロージャンズ1425\n",
    "\n",
    "    1417, 1421,   # UCLA1417, UNC アシュビル1421\n",
    "    1401, 1336,   # テキサス A＆M1401, ﾍﾟﾝｼﾞﾙﾍﾞﾆｱ･ｽﾃｲﾄ1336\n",
    "    1397, 1418,   # テネシー1397, ﾙｲｼﾞｱﾅ･ﾗﾌｧｲｴｯﾄ1418\n",
    "    1222, 1297,   # ヒューストン1222, ノーザンケンタッキー1297\n",
    "    1321, 1129,   # ノースウェスタン1321, ボイシ・ステイト1129\n",
    "    1400, 1159,   # テキサス1400, コルゲート1159\n",
    "    1181, 1331,   # デューク1181, オーラル・ロバーツ1331\n",
    "    1234, 1120,   # アイオワ1234, オーバーン1120\n",
    "    1116, 1228,   # アーカンソー1116, イリノイ1228\n",
    "    1112, 1343,   # アリゾナ1112, プリンストン1343\n",
    "    1361, 1158,   # ｻﾝﾃﾞｴｺﾞ･ｽﾃｲﾄ1361, チャールストン1158\n",
    "    1104, 1394,   # アラバマ1104, テキサス A＆M CC1394\n",
    "    1242, 1224,   # カンザス1242, ハワード1224\n",
    "    1281, 1429,   # ミズーリ1281, ユタ・ステイト1429\n",
    "    1438, 1202,   # バージニア1438, ファーマン1202\n",
    "    1268, 1452    # メリーランド1268, ウェストバージニア1452\n",
    "]\n",
    "\n",
    "#Connecticut_vs = extract_target_team_records(sub, tourney_teams_2023, 1163 )"
   ]
  },
  {
   "cell_type": "code",
   "execution_count": 36,
   "id": "5f650985",
   "metadata": {
    "execution": {
     "iopub.execute_input": "2025-03-14T07:53:16.274713Z",
     "iopub.status.busy": "2025-03-14T07:53:16.274713Z",
     "iopub.status.idle": "2025-03-14T07:53:16.279349Z",
     "shell.execute_reply": "2025-03-14T07:53:16.279349Z"
    },
    "papermill": {
     "duration": 0.038455,
     "end_time": "2025-03-14T07:53:16.281361",
     "exception": false,
     "start_time": "2025-03-14T07:53:16.242906",
     "status": "completed"
    },
    "tags": []
   },
   "outputs": [],
   "source": [
    "#handlabelingを行う関数\n",
    "def make_handlabeling(df, season, T1, T2, labeling_pred, tourney_teams):\n",
    "    if T1 not in tourney_teams or T2 not in tourney_teams: \n",
    "        print(f\"トーナメント対象チームに属していません\")\n",
    "        return \n",
    "    \n",
    "    if T1>T2: \n",
    "        T1, T2 = T2, T1\n",
    "        print(f\"{T1}, {T2}ID逆だけど大丈夫？？\")\n",
    "    id = f\"{season}_{T1}_{T2}\"\n",
    "\n",
    "    print(f\"before: {df[df['ID']==id]}\")\n",
    "    df.loc[df[\"ID\"] == id, \"Pred\"] = labeling_pred\n",
    "    print(f\"after: {df[df['ID']==id]}\")\n",
    "    \n",
    "    results.append(f\"-----handolabeling-----\")\n",
    "    results.append(f\"before:  {df[df['ID']==id]} -----> after: {df[df['ID']==id]}\")\n",
    "    results.appedn(\"\")\n",
    "    return df"
   ]
  },
  {
   "cell_type": "code",
   "execution_count": 37,
   "id": "32e79b53",
   "metadata": {
    "execution": {
     "iopub.execute_input": "2025-03-14T07:53:16.324887Z",
     "iopub.status.busy": "2025-03-14T07:53:16.324887Z",
     "iopub.status.idle": "2025-03-14T07:53:16.330435Z",
     "shell.execute_reply": "2025-03-14T07:53:16.330435Z"
    },
    "papermill": {
     "duration": 0.029962,
     "end_time": "2025-03-14T07:53:16.330435",
     "exception": false,
     "start_time": "2025-03-14T07:53:16.300473",
     "status": "completed"
    },
    "tags": []
   },
   "outputs": [],
   "source": [
    "labeling = cfg.exp.hand_labeling\n",
    "if labeling is not None:\n",
    "    for i in range(len(labeling)):\n",
    "        T1 = labeling[i][0]\n",
    "        T2 = labeling[i][1]\n",
    "        labeling_pred = labeling[i][2]\n",
    "        \n",
    "        print(f\"{T1} vs {T2} result labeling {labeling_pred}\")\n",
    "        \n",
    "        sub = make_handlabeling(sub, PREDICT_YEAR, T1, T2, labeling_pred, tourney_teams_2023)"
   ]
  },
  {
   "cell_type": "code",
   "execution_count": 38,
   "id": "56c36d64",
   "metadata": {
    "execution": {
     "iopub.execute_input": "2025-03-14T07:53:16.375223Z",
     "iopub.status.busy": "2025-03-14T07:53:16.375223Z",
     "iopub.status.idle": "2025-03-14T07:53:16.576596Z",
     "shell.execute_reply": "2025-03-14T07:53:16.576596Z"
    },
    "papermill": {
     "duration": 0.234383,
     "end_time": "2025-03-14T07:53:16.576596",
     "exception": false,
     "start_time": "2025-03-14T07:53:16.342213",
     "status": "completed"
    },
    "tags": []
   },
   "outputs": [
    {
     "name": "stdout",
     "output_type": "stream",
     "text": [
      "Tournament matchups only - Pred Mean: 0.5006710790460864\n"
     ]
    },
    {
     "data": {
      "image/png": "[encoded data removed]",
      "text/plain": [
       "<Figure size 640x480 with 1 Axes>"
      ]
     },
     "metadata": {},
     "output_type": "display_data"
    }
   ],
   "source": [
    "tourney_filtered = notexist[notexist[\"Season\"] == PREDICT_YEAR].copy()\n",
    "a = tourney_filtered.rename(columns={'WTeamID': 'T1_TeamID', 'LTeamID': 'T2_TeamID'})\n",
    "b = tourney_filtered.rename(columns={'WTeamID': 'T2_TeamID', 'LTeamID': 'T1_TeamID'})\n",
    "ab = pd.concat([a, b]).reset_index(drop=True) \n",
    "filtered_sub = sub.merge(ab[['Season', 'T1_TeamID', 'T2_TeamID']], \n",
    "                         on=['Season', 'T1_TeamID', 'T2_TeamID'], \n",
    "                         how='inner')\n",
    "\n",
    "filtered_sub[\"Pred\"].astype(int)\n",
    "pred_mean = filtered_sub[\"Pred\"].mean()\n",
    "print(\"Tournament matchups only - Pred Mean:\", pred_mean)\n",
    "\n",
    "filtered_sub[\"Pred\"].hist(bins=50)\n",
    "results+=[\"\", f\"Tournament matchups only - Pred Mean:, {pred_mean}\", \"\"]\n",
    "plt.figure(figsize=(8, 6))\n",
    "filtered_sub[\"Pred\"].hist(bins=50)\n",
    "plt.title(\"Prediction Histogram\")\n",
    "plt.xlabel(\"Pred\")\n",
    "plt.ylabel(\"Frequency\")\n",
    "plt.grid(True)\n",
    "\n",
    "# 画像として保存\n",
    "plt.savefig(os.path.join(OUTPUT_PATH, f\"Prediction_Histgram_filtered_{PREDICT_YEAR}.png\"))\n",
    "plt.close()"
   ]
  },
  {
   "cell_type": "markdown",
   "id": "e6916cc0",
   "metadata": {
    "papermill": {
     "duration": 0.031899,
     "end_time": "2025-03-14T07:53:16.615144",
     "exception": false,
     "start_time": "2025-03-14T07:53:16.583245",
     "status": "completed"
    },
    "tags": []
   },
   "source": [
    "# スコア算出、まとめ、\n",
    "ここまでで提出ファイル作成。ここからは過去年度のシミュレーションに対してBrier scoreやその他指標の算出"
   ]
  },
  {
   "cell_type": "code",
   "execution_count": 39,
   "id": "73ddcf86",
   "metadata": {
    "execution": {
     "iopub.execute_input": "2025-03-14T07:53:16.655861Z",
     "iopub.status.busy": "2025-03-14T07:53:16.655861Z",
     "iopub.status.idle": "2025-03-14T07:53:16.911575Z",
     "shell.execute_reply": "2025-03-14T07:53:16.911575Z"
    },
    "papermill": {
     "duration": 0.284902,
     "end_time": "2025-03-14T07:53:16.911575",
     "exception": false,
     "start_time": "2025-03-14T07:53:16.626673",
     "status": "completed"
    },
    "tags": []
   },
   "outputs": [
    {
     "data": {
      "image/png": "[encoded data removed]",
      "text/plain": [
       "<Figure size 640x480 with 1 Axes>"
      ]
     },
     "metadata": {},
     "output_type": "display_data"
    }
   ],
   "source": [
    "sub[\"Pred\"].hist()\n",
    "results+=[\"\", f\"Pred mean: {sub['Pred'].mean()}\", \"\"]\n",
    "\n",
    "plt.figure(figsize=(8, 6))\n",
    "sub[\"Pred\"].hist(bins=50)\n",
    "plt.title(\"Prediction Histogram\")\n",
    "plt.xlabel(\"Pred\")\n",
    "plt.ylabel(\"Frequency\")\n",
    "plt.grid(True)\n",
    "\n",
    "# 画像として保存\n",
    "plt.savefig(os.path.join(OUTPUT_PATH, f\"Prediction_Histgram_{PREDICT_YEAR}.png\"))\n",
    "plt.close()"
   ]
  },
  {
   "cell_type": "markdown",
   "id": "9697db6f",
   "metadata": {
    "papermill": {
     "duration": 0.021379,
     "end_time": "2025-03-14T07:53:16.952440",
     "exception": false,
     "start_time": "2025-03-14T07:53:16.931061",
     "status": "completed"
    },
    "tags": []
   },
   "source": [
    "存在するはずのない予測年度のトーナメント結果をもとに(Pred, label)を取り出し、以下を行う。\n",
    "\n",
    "- 各評価指標の計算\n",
    "- キャリブレーション可視化\n",
    "- AUC可視化"
   ]
  },
  {
   "cell_type": "code",
   "execution_count": 40,
   "id": "af3c627c",
   "metadata": {
    "execution": {
     "iopub.execute_input": "2025-03-14T07:53:16.994105Z",
     "iopub.status.busy": "2025-03-14T07:53:16.994105Z",
     "iopub.status.idle": "2025-03-14T07:53:17.003172Z",
     "shell.execute_reply": "2025-03-14T07:53:17.002162Z"
    },
    "papermill": {
     "duration": 0.04419,
     "end_time": "2025-03-14T07:53:17.004171",
     "exception": false,
     "start_time": "2025-03-14T07:53:16.959981",
     "status": "completed"
    },
    "tags": []
   },
   "outputs": [],
   "source": [
    "def extract_labels_and_preds(sub, tourney):\n",
    "    \"\"\" 試合データから予測値 (Pred) と正解ラベル (label) を抽出する \"\"\"\n",
    "    label_data = tourney[[\"WTeamID\", \"LTeamID\", \"WScore\", \"LScore\"]]\n",
    "    label_data = label_data.rename(columns={\"WTeamID\": \"T1_TeamID\", \"LTeamID\": \"T2_TeamID\", \"WScore\": \"T1_Score\", \"LScore\": \"T2_Score\"})\n",
    "    temp = label_data.copy()\n",
    "    temp = temp.rename(columns={\"T1_TeamID\": \"T2_TeamID\", \"T2_TeamID\": \"T1_TeamID\", \"T1_Score\": \"T2_Score\", \"T2_Score\": \"T1_Score\"})\n",
    "    label_data = pd.concat([label_data, temp]).reset_index(drop=True)\n",
    "    \n",
    "    label_data = pd.merge(label_data, sub, on=[\"T1_TeamID\", \"T2_TeamID\"], how=\"left\")\n",
    "    label_data[\"label\"] = np.where(label_data[\"T1_Score\"] - label_data[\"T2_Score\"] > 0, 1, 0)\n",
    "    label_data = label_data.dropna(subset=[\"Pred\"])  # 欠損値を削除\n",
    "    \n",
    "    return label_data[[\"label\", \"Pred\"]]\n",
    "\n",
    "def calculate_metrics(label_data):\n",
    "    \"\"\" 各評価指標を計算 \"\"\"\n",
    "    brier_score = round(mean_squared_error(label_data[\"label\"], label_data[\"Pred\"]), 5)  # Brier Score (MSEと同じ)\n",
    "    rmse_score = round(mean_squared_error(label_data[\"label\"], label_data[\"Pred\"], squared=False), 5)  # RMSE\n",
    "    logloss_score = round(log_loss(label_data[\"label\"], label_data[\"Pred\"]), 5)  # Log Loss\n",
    "    mae_score = round(mean_absolute_error(label_data[\"label\"], label_data[\"Pred\"]), 5)  # MAE\n",
    "    \n",
    "    return {\n",
    "        \"Brier Score\": brier_score,\n",
    "        \"RMSE\": rmse_score,\n",
    "        \"Log Loss\": logloss_score,\n",
    "        \"MAE\": mae_score\n",
    "    }\n",
    "\n",
    "def plot_calibration_curve(label_data, n_bins=10):\n",
    "    \"\"\" キャリブレーションカーブをプロット \"\"\"\n",
    "    prob_true, prob_pred = calibration_curve(label_data[\"label\"], label_data[\"Pred\"], n_bins=n_bins)\n",
    "    \n",
    "    plt.figure(figsize=(6,6))\n",
    "    plt.plot(prob_pred, prob_true, marker=\"o\", label=\"Model Calibration\")\n",
    "    plt.plot([0, 1], [0, 1], linestyle=\"--\", label=\"Perfect Calibration\")\n",
    "    plt.xlabel(\"Predicted Probability\")\n",
    "    plt.ylabel(\"Actual Probability\")\n",
    "    plt.legend()\n",
    "    plt.title(\"Calibration Curve\")\n",
    "    plt.show()\n",
    "\n",
    "def calculate_auc_metrics(label_data):\n",
    "    global results\n",
    "    \"\"\" AUC-ROCとAUC-PRを計算 \"\"\"\n",
    "    auc_roc = roc_auc_score(label_data[\"label\"], label_data[\"Pred\"])\n",
    "    auc_pr = average_precision_score(label_data[\"label\"], label_data[\"Pred\"])\n",
    "    \n",
    "    print(f\"AUC-ROC: {auc_roc:.4f}\")\n",
    "    print(f\"AUC-PR: {auc_pr:.4f}\")\n",
    "    results += [\"---- AUC -----\", f\"AUC-ROC: {auc_roc:.4f}\", f\"AUC-PR: {auc_pr:.4f}\"]\n",
    "    "
   ]
  },
  {
   "cell_type": "code",
   "execution_count": 41,
   "id": "08a333ea",
   "metadata": {
    "execution": {
     "iopub.execute_input": "2025-03-14T07:53:17.043517Z",
     "iopub.status.busy": "2025-03-14T07:53:17.043517Z",
     "iopub.status.idle": "2025-03-14T07:53:17.135673Z",
     "shell.execute_reply": "2025-03-14T07:53:17.135673Z"
    },
    "papermill": {
     "duration": 0.127428,
     "end_time": "2025-03-14T07:53:17.135673",
     "exception": false,
     "start_time": "2025-03-14T07:53:17.008245",
     "status": "completed"
    },
    "tags": []
   },
   "outputs": [
    {
     "name": "stderr",
     "output_type": "stream",
     "text": [
      "C:\\Users\\81809\\anaconda3\\envs\\deep_learning_pytorch\\Lib\\site-packages\\sklearn\\metrics\\_regression.py:492: FutureWarning: 'squared' is deprecated in version 1.4 and will be removed in 1.6. To calculate the root mean squared error, use the function'root_mean_squared_error'.\n",
      "  warnings.warn(\n"
     ]
    },
    {
     "data": {
      "image/png": "[encoded data removed]",
      "text/plain": [
       "<Figure size 600x600 with 1 Axes>"
      ]
     },
     "metadata": {},
     "output_type": "display_data"
    },
    {
     "name": "stdout",
     "output_type": "stream",
     "text": [
      "AUC-ROC: 0.8540\n",
      "AUC-PR: 0.8660\n",
      "MAE: 0.31543\n",
      "\n",
      "---- AUC -----\n",
      "AUC-ROC: 0.8540\n",
      "AUC-PR: 0.8660\n"
     ]
    }
   ],
   "source": [
    "if PREDICT_YEAR == 2022:\n",
    "    notexist_MAN = notexist[notexist[\"WTeamID\"].astype(str).str.startswith(\"1\")]\n",
    "    notexist_WOMAN = notexist[notexist[\"WTeamID\"].astype(str).str.startswith(\"3\")]\n",
    "    label_data = extract_labels_and_preds(sub, notexist) ######\n",
    "else:\n",
    "    label_data = extract_labels_and_preds(sub, notexist)\n",
    "\n",
    "# 評価指標の計算\n",
    "score = calculate_metrics(label_data)\n",
    "results += [\"\",\"-----eval metrics-----\",\n",
    "            f\"Brier Score: {score['Brier Score']}\", \n",
    "            f\"RMSE: {score['RMSE']}\", \n",
    "            f\"Log Loss: {score['Log Loss']}\", \n",
    "            f\"MAE: {score['MAE']}\", \"\"]\n",
    "\n",
    "# キャリブレーションの確認\n",
    "plot_calibration_curve(label_data)\n",
    "\n",
    "# AUCの評価\n",
    "calculate_auc_metrics(label_data)\n",
    "\n",
    "for temp in range(-5, 0):\n",
    "    print(results[temp])"
   ]
  },
  {
   "cell_type": "code",
   "execution_count": 42,
   "id": "6aef7c9e",
   "metadata": {
    "execution": {
     "iopub.execute_input": "2025-03-14T07:53:17.181142Z",
     "iopub.status.busy": "2025-03-14T07:53:17.181142Z",
     "iopub.status.idle": "2025-03-14T07:53:17.186659Z",
     "shell.execute_reply": "2025-03-14T07:53:17.186095Z"
    },
    "papermill": {
     "duration": 0.030505,
     "end_time": "2025-03-14T07:53:17.188659",
     "exception": false,
     "start_time": "2025-03-14T07:53:17.158154",
     "status": "completed"
    },
    "tags": []
   },
   "outputs": [
    {
     "data": {
      "text/plain": [
       "'if PREDICT_YEAR!=2025:\\n    predict_year_label =notexist[[\"WTeamID\", \"LTeamID\", \"WScore\", \"LScore\"]].copy()\\n    predict_year_label.loc[:, \"Win\"] = np.where(predict_year_label[\"WScore\"] - predict_year_label[\"LScore\"] > 0, 1, 0)\\n    predict_year_label = predict_year_label[[\"WTeamID\", \"LTeamID\", \"Win\"]]\\n   \\n    predict_year_label.columns = [\"T1_TeamID\", \"T2_TeamID\", \"Win\"]\\n\\n    predict_year_label = pd.merge(predict_year_label, sub, on=[\"T1_TeamID\", \"T2_TeamID\"], how=\"left\")\\n    brier_score = np.mean((predict_year_label[\"Pred\"] - predict_year_label[\"Win\"])**2)\\n\\n    print(\"Brier Score:\", brier_score)\\n    results+=[f\"Brier Score: {brier_score}\", \"\"]\\n    predict_year_label.info()\\n'"
      ]
     },
     "execution_count": 42,
     "metadata": {},
     "output_type": "execute_result"
    }
   ],
   "source": [
    "\"\"\"if PREDICT_YEAR!=2025:\n",
    "    predict_year_label =notexist[[\"WTeamID\", \"LTeamID\", \"WScore\", \"LScore\"]].copy()\n",
    "    predict_year_label.loc[:, \"Win\"] = np.where(predict_year_label[\"WScore\"] - predict_year_label[\"LScore\"] > 0, 1, 0)\n",
    "    predict_year_label = predict_year_label[[\"WTeamID\", \"LTeamID\", \"Win\"]]\n",
    "   \n",
    "    predict_year_label.columns = [\"T1_TeamID\", \"T2_TeamID\", \"Win\"]\n",
    "\n",
    "    predict_year_label = pd.merge(predict_year_label, sub, on=[\"T1_TeamID\", \"T2_TeamID\"], how=\"left\")\n",
    "    brier_score = np.mean((predict_year_label[\"Pred\"] - predict_year_label[\"Win\"])**2)\n",
    "\n",
    "    print(\"Brier Score:\", brier_score)\n",
    "    results+=[f\"Brier Score: {brier_score}\", \"\"]\n",
    "    predict_year_label.info()\n",
    "\"\"\""
   ]
  },
  {
   "cell_type": "code",
   "execution_count": 43,
   "id": "cf6ea2d3",
   "metadata": {
    "execution": {
     "iopub.execute_input": "2025-03-14T07:53:17.251475Z",
     "iopub.status.busy": "2025-03-14T07:53:17.251475Z",
     "iopub.status.idle": "2025-03-14T07:53:17.261346Z",
     "shell.execute_reply": "2025-03-14T07:53:17.259338Z"
    },
    "papermill": {
     "duration": 0.051793,
     "end_time": "2025-03-14T07:53:17.262344",
     "exception": false,
     "start_time": "2025-03-14T07:53:17.210551",
     "status": "completed"
    },
    "tags": []
   },
   "outputs": [
    {
     "name": "stdout",
     "output_type": "stream",
     "text": [
      "実行時間： 466.3秒\n"
     ]
    }
   ],
   "source": [
    "END_TIME = time.time()\n",
    "ELAPSED_TIME = END_TIME - START_TIME\n",
    "print(f\"実行時間： {ELAPSED_TIME:.1f}秒\")\n",
    "results.append(f\"実行時間： {ELAPSED_TIME:.1f}秒\")\n",
    "\n",
    "with open(os.path.join(OUTPUT_PATH, \"result.txt\"), \"a\", encoding=\"utf-8\") as f:\n",
    "    for line in results:\n",
    "        f.write(line + \"\\n\")"
   ]
  },
  {
   "cell_type": "code",
   "execution_count": 44,
   "id": "09299074",
   "metadata": {
    "execution": {
     "iopub.execute_input": "2025-03-14T07:53:17.309233Z",
     "iopub.status.busy": "2025-03-14T07:53:17.308222Z",
     "iopub.status.idle": "2025-03-14T07:53:17.312902Z",
     "shell.execute_reply": "2025-03-14T07:53:17.312902Z"
    },
    "papermill": {
     "duration": 0.028138,
     "end_time": "2025-03-14T07:53:17.312902",
     "exception": false,
     "start_time": "2025-03-14T07:53:17.284764",
     "status": "completed"
    },
    "tags": []
   },
   "outputs": [],
   "source": [
    "logger.remove()"
   ]
  }
 ],
 "metadata": {
  "kernelspec": {
   "display_name": "deep_learning_pytorch",
   "language": "python",
   "name": "python3"
  },
  "language_info": {
   "codemirror_mode": {
    "name": "ipython",
    "version": 3
   },
   "file_extension": ".py",
   "mimetype": "text/x-python",
   "name": "python",
   "nbconvert_exporter": "python",
   "pygments_lexer": "ipython3",
   "version": "3.11.9"
  },
  "papermill": {
   "default_parameters": {},
   "duration": 470.822605,
   "end_time": "2025-03-14T07:53:18.004474",
   "environment_variables": {},
   "exception": null,
   "input_path": "c:\\Users\\81809\\Documents\\ALL_CODE\\kaggle\\March Machine Learning Mania 2025\\notebook\\1stplace_solution_2023.ipynb",
   "output_path": "exp086_20250314_164527.ipynb",
   "parameters": {
    "EXP_NUM": "exp086"
   },
   "start_time": "2025-03-14T07:45:27.181869",
   "version": "2.6.0"
  }
 },
 "nbformat": 4,
 "nbformat_minor": 5
}